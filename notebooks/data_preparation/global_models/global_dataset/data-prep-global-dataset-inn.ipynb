{
 "cells": [
  {
   "cell_type": "code",
   "execution_count": 1,
   "id": "7074d663",
   "metadata": {},
   "outputs": [
    {
     "data": {
      "application/javascript": [
       "\n",
       "            setTimeout(function() {\n",
       "                var nbb_cell_id = 1;\n",
       "                var nbb_unformatted_code = \"%load_ext nb_black\";\n",
       "                var nbb_formatted_code = \"%load_ext nb_black\";\n",
       "                var nbb_cells = Jupyter.notebook.get_cells();\n",
       "                for (var i = 0; i < nbb_cells.length; ++i) {\n",
       "                    if (nbb_cells[i].input_prompt_number == nbb_cell_id) {\n",
       "                        if (nbb_cells[i].get_text() == nbb_unformatted_code) {\n",
       "                             nbb_cells[i].set_text(nbb_formatted_code);\n",
       "                        }\n",
       "                        break;\n",
       "                    }\n",
       "                }\n",
       "            }, 500);\n",
       "            "
      ],
      "text/plain": [
       "<IPython.core.display.Javascript object>"
      ]
     },
     "metadata": {},
     "output_type": "display_data"
    }
   ],
   "source": [
    "%load_ext nb_black"
   ]
  },
  {
   "cell_type": "code",
   "execution_count": 2,
   "id": "781315e2",
   "metadata": {},
   "outputs": [
    {
     "data": {
      "application/javascript": [
       "\n",
       "            setTimeout(function() {\n",
       "                var nbb_cell_id = 2;\n",
       "                var nbb_unformatted_code = \"import pandas as pd\\nimport numpy as np\\n\\nimport missingno as msno\";\n",
       "                var nbb_formatted_code = \"import pandas as pd\\nimport numpy as np\\n\\nimport missingno as msno\";\n",
       "                var nbb_cells = Jupyter.notebook.get_cells();\n",
       "                for (var i = 0; i < nbb_cells.length; ++i) {\n",
       "                    if (nbb_cells[i].input_prompt_number == nbb_cell_id) {\n",
       "                        if (nbb_cells[i].get_text() == nbb_unformatted_code) {\n",
       "                             nbb_cells[i].set_text(nbb_formatted_code);\n",
       "                        }\n",
       "                        break;\n",
       "                    }\n",
       "                }\n",
       "            }, 500);\n",
       "            "
      ],
      "text/plain": [
       "<IPython.core.display.Javascript object>"
      ]
     },
     "metadata": {},
     "output_type": "display_data"
    }
   ],
   "source": [
    "import pandas as pd\n",
    "import numpy as np\n",
    "\n",
    "import missingno as msno"
   ]
  },
  {
   "cell_type": "code",
   "execution_count": 3,
   "id": "1b9bbb2a",
   "metadata": {},
   "outputs": [
    {
     "data": {
      "application/javascript": [
       "\n",
       "            setTimeout(function() {\n",
       "                var nbb_cell_id = 3;\n",
       "                var nbb_unformatted_code = \"def convert_to_float(value):\\n    try:\\n        # If it's a string enclosed in single quotes, remove quotes and replace comma with dot\\n        if isinstance(value, str):\\n            return float(value.replace(\\\",\\\", \\\".\\\"))\\n        else:\\n            return float(value)\\n    except ValueError as e:\\n        print(e)\\n        return float(\\\"nan\\\")\";\n",
       "                var nbb_formatted_code = \"def convert_to_float(value):\\n    try:\\n        # If it's a string enclosed in single quotes, remove quotes and replace comma with dot\\n        if isinstance(value, str):\\n            return float(value.replace(\\\",\\\", \\\".\\\"))\\n        else:\\n            return float(value)\\n    except ValueError as e:\\n        print(e)\\n        return float(\\\"nan\\\")\";\n",
       "                var nbb_cells = Jupyter.notebook.get_cells();\n",
       "                for (var i = 0; i < nbb_cells.length; ++i) {\n",
       "                    if (nbb_cells[i].input_prompt_number == nbb_cell_id) {\n",
       "                        if (nbb_cells[i].get_text() == nbb_unformatted_code) {\n",
       "                             nbb_cells[i].set_text(nbb_formatted_code);\n",
       "                        }\n",
       "                        break;\n",
       "                    }\n",
       "                }\n",
       "            }, 500);\n",
       "            "
      ],
      "text/plain": [
       "<IPython.core.display.Javascript object>"
      ]
     },
     "metadata": {},
     "output_type": "display_data"
    }
   ],
   "source": [
    "def convert_to_float(value):\n",
    "    try:\n",
    "        # If it's a string enclosed in single quotes, remove quotes and replace comma with dot\n",
    "        if isinstance(value, str):\n",
    "            return float(value.replace(\",\", \".\"))\n",
    "        else:\n",
    "            return float(value)\n",
    "    except ValueError as e:\n",
    "        print(e)\n",
    "        return float(\"nan\")"
   ]
  },
  {
   "cell_type": "code",
   "execution_count": 4,
   "id": "5dbdbe8c",
   "metadata": {},
   "outputs": [
    {
     "data": {
      "application/javascript": [
       "\n",
       "            setTimeout(function() {\n",
       "                var nbb_cell_id = 4;\n",
       "                var nbb_unformatted_code = \"def preprocess_numeric_cols(df, columns):\\n    for col in columns:\\n        df[col] = df[col].astype(str)  # Ensure string type for string operations\\n        df[col] = df[col].str.replace(\\\"#\\\", \\\"\\\")  # Remove '#' characters\\n        df[col] = df[col].str.replace(\\\",\\\", \\\".\\\")  # Replace ',' with '.' for decimals\\n    return df\";\n",
       "                var nbb_formatted_code = \"def preprocess_numeric_cols(df, columns):\\n    for col in columns:\\n        df[col] = df[col].astype(str)  # Ensure string type for string operations\\n        df[col] = df[col].str.replace(\\\"#\\\", \\\"\\\")  # Remove '#' characters\\n        df[col] = df[col].str.replace(\\\",\\\", \\\".\\\")  # Replace ',' with '.' for decimals\\n    return df\";\n",
       "                var nbb_cells = Jupyter.notebook.get_cells();\n",
       "                for (var i = 0; i < nbb_cells.length; ++i) {\n",
       "                    if (nbb_cells[i].input_prompt_number == nbb_cell_id) {\n",
       "                        if (nbb_cells[i].get_text() == nbb_unformatted_code) {\n",
       "                             nbb_cells[i].set_text(nbb_formatted_code);\n",
       "                        }\n",
       "                        break;\n",
       "                    }\n",
       "                }\n",
       "            }, 500);\n",
       "            "
      ],
      "text/plain": [
       "<IPython.core.display.Javascript object>"
      ]
     },
     "metadata": {},
     "output_type": "display_data"
    }
   ],
   "source": [
    "def preprocess_numeric_cols(df, columns):\n",
    "    for col in columns:\n",
    "        df[col] = df[col].astype(str)  # Ensure string type for string operations\n",
    "        df[col] = df[col].str.replace(\"#\", \"\")  # Remove '#' characters\n",
    "        df[col] = df[col].str.replace(\",\", \".\")  # Replace ',' with '.' for decimals\n",
    "    return df"
   ]
  },
  {
   "cell_type": "code",
   "execution_count": 5,
   "id": "faabedf1",
   "metadata": {},
   "outputs": [
    {
     "data": {
      "application/javascript": [
       "\n",
       "            setTimeout(function() {\n",
       "                var nbb_cell_id = 5;\n",
       "                var nbb_unformatted_code = \"def check_columns_match(df1, df2):\\n    \\\"\\\"\\\"\\n    Check if two dataframes have the same columns in the same order.\\n    \\\"\\\"\\\"\\n\\n    df1_cols = set(df1.columns)\\n    df2_cols = set(df2.columns)\\n\\n    same_cols = df1_cols == df2_cols\\n\\n    print(f\\\"Dataframes have the same columns: {same_cols}\\\")\\n\\n    same_order = all(df1.columns[i] == df2.columns[i] for i in range(len(df1.columns)))\\n\\n    print(f\\\"Dataframes have the same column order: {same_order}\\\")\\n\\n    return same_cols, same_order\";\n",
       "                var nbb_formatted_code = \"def check_columns_match(df1, df2):\\n    \\\"\\\"\\\"\\n    Check if two dataframes have the same columns in the same order.\\n    \\\"\\\"\\\"\\n\\n    df1_cols = set(df1.columns)\\n    df2_cols = set(df2.columns)\\n\\n    same_cols = df1_cols == df2_cols\\n\\n    print(f\\\"Dataframes have the same columns: {same_cols}\\\")\\n\\n    same_order = all(df1.columns[i] == df2.columns[i] for i in range(len(df1.columns)))\\n\\n    print(f\\\"Dataframes have the same column order: {same_order}\\\")\\n\\n    return same_cols, same_order\";\n",
       "                var nbb_cells = Jupyter.notebook.get_cells();\n",
       "                for (var i = 0; i < nbb_cells.length; ++i) {\n",
       "                    if (nbb_cells[i].input_prompt_number == nbb_cell_id) {\n",
       "                        if (nbb_cells[i].get_text() == nbb_unformatted_code) {\n",
       "                             nbb_cells[i].set_text(nbb_formatted_code);\n",
       "                        }\n",
       "                        break;\n",
       "                    }\n",
       "                }\n",
       "            }, 500);\n",
       "            "
      ],
      "text/plain": [
       "<IPython.core.display.Javascript object>"
      ]
     },
     "metadata": {},
     "output_type": "display_data"
    }
   ],
   "source": [
    "def check_columns_match(df1, df2):\n",
    "    \"\"\"\n",
    "    Check if two dataframes have the same columns in the same order.\n",
    "    \"\"\"\n",
    "\n",
    "    df1_cols = set(df1.columns)\n",
    "    df2_cols = set(df2.columns)\n",
    "\n",
    "    same_cols = df1_cols == df2_cols\n",
    "\n",
    "    print(f\"Dataframes have the same columns: {same_cols}\")\n",
    "\n",
    "    same_order = all(df1.columns[i] == df2.columns[i] for i in range(len(df1.columns)))\n",
    "\n",
    "    print(f\"Dataframes have the same column order: {same_order}\")\n",
    "\n",
    "    return same_cols, same_order"
   ]
  },
  {
   "cell_type": "code",
   "execution_count": 6,
   "id": "1f5f9e13",
   "metadata": {},
   "outputs": [
    {
     "data": {
      "application/javascript": [
       "\n",
       "            setTimeout(function() {\n",
       "                var nbb_cell_id = 6;\n",
       "                var nbb_unformatted_code = \"innovandi = [\\n    \\\"Alite total\\\",\\n    \\\"Belite total\\\",\\n    \\\"Belite alpha\\\",\\n    \\\"Belite beta\\\",\\n    \\\"Belite gamma\\\",\\n    \\\"Ferrite\\\",\\n    \\\"Aluminate\\\",\\n    \\\"Aluminate cubic\\\",\\n    \\\"Aluminate orto\\\",\\n    \\\"Free lime\\\",\\n    \\\"Portlandite\\\",\\n    \\\"Periclase\\\",\\n    \\\"Arcanite\\\",\\n    \\\"Aphthalite\\\",\\n    \\\"Langbeinite\\\",\\n    \\\"Gypsum\\\",\\n    \\\"Bassanite\\\",\\n    \\\"Anhydrite\\\",\\n    \\\"Calcite\\\",\\n    \\\"Dolimite\\\",\\n    \\\"Quartz\\\",\\n    \\\"Muscovite\\\",\\n]\\n\\n\\nembrapii_cics = [\\n    \\\"C3S total\\\",\\n    \\\"C2S total\\\",\\n    \\\"C2S alpha\\\",\\n    \\\"C2S beta\\\",\\n    \\\"C2S gama\\\",\\n    \\\"C4AF\\\",\\n    \\\"C3A\\\",\\n    \\\"C3A cubic\\\",\\n    \\\"C3A orto\\\",\\n    \\\"CaO livre\\\",\\n    \\\"Portlandita\\\",\\n    \\\"Periclasio\\\",\\n    \\\"Arcanita\\\",\\n    \\\"Aphthalita\\\",\\n    \\\"Langbeinita\\\",\\n    \\\"Sulfato de c\\u00e1lcio\\\",\\n    \\\"Bassanita\\\",\\n    \\\"Anidrita\\\",\\n    \\\"Calcita\\\",\\n    \\\"Dolimita\\\",\\n    \\\"Quartzo\\\",\\n    \\\"Muscovita\\\",\\n]\\nmineral_map = dict(zip(innovandi, embrapii_cics))\";\n",
       "                var nbb_formatted_code = \"innovandi = [\\n    \\\"Alite total\\\",\\n    \\\"Belite total\\\",\\n    \\\"Belite alpha\\\",\\n    \\\"Belite beta\\\",\\n    \\\"Belite gamma\\\",\\n    \\\"Ferrite\\\",\\n    \\\"Aluminate\\\",\\n    \\\"Aluminate cubic\\\",\\n    \\\"Aluminate orto\\\",\\n    \\\"Free lime\\\",\\n    \\\"Portlandite\\\",\\n    \\\"Periclase\\\",\\n    \\\"Arcanite\\\",\\n    \\\"Aphthalite\\\",\\n    \\\"Langbeinite\\\",\\n    \\\"Gypsum\\\",\\n    \\\"Bassanite\\\",\\n    \\\"Anhydrite\\\",\\n    \\\"Calcite\\\",\\n    \\\"Dolimite\\\",\\n    \\\"Quartz\\\",\\n    \\\"Muscovite\\\",\\n]\\n\\n\\nembrapii_cics = [\\n    \\\"C3S total\\\",\\n    \\\"C2S total\\\",\\n    \\\"C2S alpha\\\",\\n    \\\"C2S beta\\\",\\n    \\\"C2S gama\\\",\\n    \\\"C4AF\\\",\\n    \\\"C3A\\\",\\n    \\\"C3A cubic\\\",\\n    \\\"C3A orto\\\",\\n    \\\"CaO livre\\\",\\n    \\\"Portlandita\\\",\\n    \\\"Periclasio\\\",\\n    \\\"Arcanita\\\",\\n    \\\"Aphthalita\\\",\\n    \\\"Langbeinita\\\",\\n    \\\"Sulfato de c\\u00e1lcio\\\",\\n    \\\"Bassanita\\\",\\n    \\\"Anidrita\\\",\\n    \\\"Calcita\\\",\\n    \\\"Dolimita\\\",\\n    \\\"Quartzo\\\",\\n    \\\"Muscovita\\\",\\n]\\nmineral_map = dict(zip(innovandi, embrapii_cics))\";\n",
       "                var nbb_cells = Jupyter.notebook.get_cells();\n",
       "                for (var i = 0; i < nbb_cells.length; ++i) {\n",
       "                    if (nbb_cells[i].input_prompt_number == nbb_cell_id) {\n",
       "                        if (nbb_cells[i].get_text() == nbb_unformatted_code) {\n",
       "                             nbb_cells[i].set_text(nbb_formatted_code);\n",
       "                        }\n",
       "                        break;\n",
       "                    }\n",
       "                }\n",
       "            }, 500);\n",
       "            "
      ],
      "text/plain": [
       "<IPython.core.display.Javascript object>"
      ]
     },
     "metadata": {},
     "output_type": "display_data"
    }
   ],
   "source": [
    "innovandi = [\n",
    "    \"Alite total\",\n",
    "    \"Belite total\",\n",
    "    \"Belite alpha\",\n",
    "    \"Belite beta\",\n",
    "    \"Belite gamma\",\n",
    "    \"Ferrite\",\n",
    "    \"Aluminate\",\n",
    "    \"Aluminate cubic\",\n",
    "    \"Aluminate orto\",\n",
    "    \"Free lime\",\n",
    "    \"Portlandite\",\n",
    "    \"Periclase\",\n",
    "    \"Arcanite\",\n",
    "    \"Aphthalite\",\n",
    "    \"Langbeinite\",\n",
    "    \"Gypsum\",\n",
    "    \"Bassanite\",\n",
    "    \"Anhydrite\",\n",
    "    \"Calcite\",\n",
    "    \"Dolimite\",\n",
    "    \"Quartz\",\n",
    "    \"Muscovite\",\n",
    "]\n",
    "\n",
    "\n",
    "embrapii_cics = [\n",
    "    \"C3S total\",\n",
    "    \"C2S total\",\n",
    "    \"C2S alpha\",\n",
    "    \"C2S beta\",\n",
    "    \"C2S gama\",\n",
    "    \"C4AF\",\n",
    "    \"C3A\",\n",
    "    \"C3A cubic\",\n",
    "    \"C3A orto\",\n",
    "    \"CaO livre\",\n",
    "    \"Portlandita\",\n",
    "    \"Periclasio\",\n",
    "    \"Arcanita\",\n",
    "    \"Aphthalita\",\n",
    "    \"Langbeinita\",\n",
    "    \"Sulfato de cálcio\",\n",
    "    \"Bassanita\",\n",
    "    \"Anidrita\",\n",
    "    \"Calcita\",\n",
    "    \"Dolimita\",\n",
    "    \"Quartzo\",\n",
    "    \"Muscovita\",\n",
    "]\n",
    "mineral_map = dict(zip(innovandi, embrapii_cics))"
   ]
  },
  {
   "cell_type": "markdown",
   "id": "8838c741",
   "metadata": {},
   "source": [
    "# partner_ii"
   ]
  },
  {
   "cell_type": "code",
   "execution_count": 7,
   "id": "ffe7b6d3",
   "metadata": {},
   "outputs": [
    {
     "data": {
      "application/javascript": [
       "\n",
       "            setTimeout(function() {\n",
       "                var nbb_cell_id = 7;\n",
       "                var nbb_unformatted_code = \"df = pd.read_csv(\\\"../../../../data/raw/partner_ii/db3_cement.csv\\\")\";\n",
       "                var nbb_formatted_code = \"df = pd.read_csv(\\\"../../../../data/raw/partner_ii/db3_cement.csv\\\")\";\n",
       "                var nbb_cells = Jupyter.notebook.get_cells();\n",
       "                for (var i = 0; i < nbb_cells.length; ++i) {\n",
       "                    if (nbb_cells[i].input_prompt_number == nbb_cell_id) {\n",
       "                        if (nbb_cells[i].get_text() == nbb_unformatted_code) {\n",
       "                             nbb_cells[i].set_text(nbb_formatted_code);\n",
       "                        }\n",
       "                        break;\n",
       "                    }\n",
       "                }\n",
       "            }, 500);\n",
       "            "
      ],
      "text/plain": [
       "<IPython.core.display.Javascript object>"
      ]
     },
     "metadata": {},
     "output_type": "display_data"
    }
   ],
   "source": [
    "df = pd.read_csv(\"../../../../data/raw/partner_ii/db3_cement.csv\")"
   ]
  },
  {
   "cell_type": "markdown",
   "id": "5c9a4d21",
   "metadata": {},
   "source": [
    "## Initial Preprocessing"
   ]
  },
  {
   "cell_type": "markdown",
   "id": "e808ad93",
   "metadata": {},
   "source": [
    "### 1. Dropping columns where either there is no data nor it contributes to the analysis\n",
    "### 2. Renaming columns to a short identifiable name"
   ]
  },
  {
   "cell_type": "code",
   "execution_count": 8,
   "id": "1fa815b0",
   "metadata": {},
   "outputs": [
    {
     "data": {
      "application/javascript": [
       "\n",
       "            setTimeout(function() {\n",
       "                var nbb_cell_id = 8;\n",
       "                var nbb_unformatted_code = \"COLUMNS_TO_DROP = [\\n    \\\"sample_id_plant\\\",\\n    \\\"raw_material_code\\\",\\n    \\\"water_demand\\\",\\n]\\n\\nCOLUMNS_TO_RENAME = {\\n    \\\"sample_date\\\": \\\"Date\\\",\\n    \\\"unified_material_name\\\": \\\"Cement_Type\\\",\\n    \\\"cao\\\": \\\"CaO\\\",\\n    \\\"sio2\\\": \\\"SiO2\\\",\\n    \\\"al2o3\\\": \\\"Al2O3\\\",\\n    \\\"fe2o3\\\": \\\"Fe2O3\\\",\\n    \\\"mgo\\\": \\\"MgO\\\",\\n    \\\"so3\\\": \\\"SO3\\\",\\n    \\\"k2o\\\": \\\"K2O\\\",\\n    \\\"na2o\\\": \\\"Na2O\\\",\\n    # \\\"cl\\\": \\\"Cl-\\\",\\n    \\\"cl\\\": \\\"Cl\\\",\\n    \\\"tio2\\\": \\\"TiO2\\\",\\n    \\\"alite\\\": \\\"Alite\\\",\\n    \\\"belite\\\": \\\"Belite\\\",\\n    \\\"aluminate\\\": \\\"Aluminate\\\",\\n    \\\"ferrite\\\": \\\"Ferrite\\\",\\n    \\\"free_lime\\\": \\\"Free CaO\\\",\\n    \\\"loi\\\": \\\"Loss on Ignition\\\",\\n    \\\"water_demand\\\": \\\"Water Demand\\\",\\n    \\\"setting_initial\\\": \\\"Initial setting time\\\",\\n    \\\"strength_1d\\\": \\\"CS1\\\",\\n    \\\"strength_3d\\\": \\\"CS3\\\",\\n    \\\"strength_7d\\\": \\\"CS7\\\",\\n    \\\"strength_28d\\\": \\\"CS28\\\",\\n    \\\"blaine\\\": \\\"Blaine\\\",\\n    \\\"sieve_32um\\\": \\\"#400\\\",\\n    \\\"sieve_45um\\\": \\\"#325\\\",\\n}\";\n",
       "                var nbb_formatted_code = \"COLUMNS_TO_DROP = [\\n    \\\"sample_id_plant\\\",\\n    \\\"raw_material_code\\\",\\n    \\\"water_demand\\\",\\n]\\n\\nCOLUMNS_TO_RENAME = {\\n    \\\"sample_date\\\": \\\"Date\\\",\\n    \\\"unified_material_name\\\": \\\"Cement_Type\\\",\\n    \\\"cao\\\": \\\"CaO\\\",\\n    \\\"sio2\\\": \\\"SiO2\\\",\\n    \\\"al2o3\\\": \\\"Al2O3\\\",\\n    \\\"fe2o3\\\": \\\"Fe2O3\\\",\\n    \\\"mgo\\\": \\\"MgO\\\",\\n    \\\"so3\\\": \\\"SO3\\\",\\n    \\\"k2o\\\": \\\"K2O\\\",\\n    \\\"na2o\\\": \\\"Na2O\\\",\\n    # \\\"cl\\\": \\\"Cl-\\\",\\n    \\\"cl\\\": \\\"Cl\\\",\\n    \\\"tio2\\\": \\\"TiO2\\\",\\n    \\\"alite\\\": \\\"Alite\\\",\\n    \\\"belite\\\": \\\"Belite\\\",\\n    \\\"aluminate\\\": \\\"Aluminate\\\",\\n    \\\"ferrite\\\": \\\"Ferrite\\\",\\n    \\\"free_lime\\\": \\\"Free CaO\\\",\\n    \\\"loi\\\": \\\"Loss on Ignition\\\",\\n    \\\"water_demand\\\": \\\"Water Demand\\\",\\n    \\\"setting_initial\\\": \\\"Initial setting time\\\",\\n    \\\"strength_1d\\\": \\\"CS1\\\",\\n    \\\"strength_3d\\\": \\\"CS3\\\",\\n    \\\"strength_7d\\\": \\\"CS7\\\",\\n    \\\"strength_28d\\\": \\\"CS28\\\",\\n    \\\"blaine\\\": \\\"Blaine\\\",\\n    \\\"sieve_32um\\\": \\\"#400\\\",\\n    \\\"sieve_45um\\\": \\\"#325\\\",\\n}\";\n",
       "                var nbb_cells = Jupyter.notebook.get_cells();\n",
       "                for (var i = 0; i < nbb_cells.length; ++i) {\n",
       "                    if (nbb_cells[i].input_prompt_number == nbb_cell_id) {\n",
       "                        if (nbb_cells[i].get_text() == nbb_unformatted_code) {\n",
       "                             nbb_cells[i].set_text(nbb_formatted_code);\n",
       "                        }\n",
       "                        break;\n",
       "                    }\n",
       "                }\n",
       "            }, 500);\n",
       "            "
      ],
      "text/plain": [
       "<IPython.core.display.Javascript object>"
      ]
     },
     "metadata": {},
     "output_type": "display_data"
    }
   ],
   "source": [
    "COLUMNS_TO_DROP = [\n",
    "    \"sample_id_plant\",\n",
    "    \"raw_material_code\",\n",
    "    \"water_demand\",\n",
    "]\n",
    "\n",
    "COLUMNS_TO_RENAME = {\n",
    "    \"sample_date\": \"Date\",\n",
    "    \"unified_material_name\": \"Cement_Type\",\n",
    "    \"cao\": \"CaO\",\n",
    "    \"sio2\": \"SiO2\",\n",
    "    \"al2o3\": \"Al2O3\",\n",
    "    \"fe2o3\": \"Fe2O3\",\n",
    "    \"mgo\": \"MgO\",\n",
    "    \"so3\": \"SO3\",\n",
    "    \"k2o\": \"K2O\",\n",
    "    \"na2o\": \"Na2O\",\n",
    "    # \"cl\": \"Cl-\",\n",
    "    \"cl\": \"Cl\",\n",
    "    \"tio2\": \"TiO2\",\n",
    "    \"alite\": \"Alite\",\n",
    "    \"belite\": \"Belite\",\n",
    "    \"aluminate\": \"Aluminate\",\n",
    "    \"ferrite\": \"Ferrite\",\n",
    "    \"free_lime\": \"Free CaO\",\n",
    "    \"loi\": \"Loss on Ignition\",\n",
    "    \"water_demand\": \"Water Demand\",\n",
    "    \"setting_initial\": \"Initial setting time\",\n",
    "    \"strength_1d\": \"CS1\",\n",
    "    \"strength_3d\": \"CS3\",\n",
    "    \"strength_7d\": \"CS7\",\n",
    "    \"strength_28d\": \"CS28\",\n",
    "    \"blaine\": \"Blaine\",\n",
    "    \"sieve_32um\": \"#400\",\n",
    "    \"sieve_45um\": \"#325\",\n",
    "}"
   ]
  },
  {
   "cell_type": "code",
   "execution_count": 9,
   "id": "8c1d8a5b",
   "metadata": {},
   "outputs": [
    {
     "data": {
      "application/javascript": [
       "\n",
       "            setTimeout(function() {\n",
       "                var nbb_cell_id = 9;\n",
       "                var nbb_unformatted_code = \"COLUMNS_TO_RENAME_2 = {\\n    \\\"Alite\\\": \\\"Total C3S\\\",\\n    \\\"Belite\\\": \\\"Total C2S\\\",\\n    \\\"Aluminate\\\": \\\"C3A\\\",\\n    \\\"Ferrite\\\": \\\"C4AF\\\",\\n}\";\n",
       "                var nbb_formatted_code = \"COLUMNS_TO_RENAME_2 = {\\n    \\\"Alite\\\": \\\"Total C3S\\\",\\n    \\\"Belite\\\": \\\"Total C2S\\\",\\n    \\\"Aluminate\\\": \\\"C3A\\\",\\n    \\\"Ferrite\\\": \\\"C4AF\\\",\\n}\";\n",
       "                var nbb_cells = Jupyter.notebook.get_cells();\n",
       "                for (var i = 0; i < nbb_cells.length; ++i) {\n",
       "                    if (nbb_cells[i].input_prompt_number == nbb_cell_id) {\n",
       "                        if (nbb_cells[i].get_text() == nbb_unformatted_code) {\n",
       "                             nbb_cells[i].set_text(nbb_formatted_code);\n",
       "                        }\n",
       "                        break;\n",
       "                    }\n",
       "                }\n",
       "            }, 500);\n",
       "            "
      ],
      "text/plain": [
       "<IPython.core.display.Javascript object>"
      ]
     },
     "metadata": {},
     "output_type": "display_data"
    }
   ],
   "source": [
    "COLUMNS_TO_RENAME_2 = {\n",
    "    \"Alite\": \"Total C3S\",\n",
    "    \"Belite\": \"Total C2S\",\n",
    "    \"Aluminate\": \"C3A\",\n",
    "    \"Ferrite\": \"C4AF\",\n",
    "}"
   ]
  },
  {
   "cell_type": "markdown",
   "id": "096a4ca3",
   "metadata": {},
   "source": [
    "### Defining a single variable to identify Cement Type"
   ]
  },
  {
   "cell_type": "markdown",
   "id": "b45aa8ca",
   "metadata": {},
   "source": [
    "### Dropping and rename the columns defined above"
   ]
  },
  {
   "cell_type": "code",
   "execution_count": 10,
   "id": "4164d5da",
   "metadata": {},
   "outputs": [
    {
     "data": {
      "application/javascript": [
       "\n",
       "            setTimeout(function() {\n",
       "                var nbb_cell_id = 10;\n",
       "                var nbb_unformatted_code = \"df = (\\n    df.drop(COLUMNS_TO_DROP, axis=1)\\n    .rename(COLUMNS_TO_RENAME, axis=1)\\n    .rename(COLUMNS_TO_RENAME_2, axis=1)\\n    .copy()\\n)\\ndf = df.drop([0]).reset_index(drop=True)\\ndf = df.infer_objects()\";\n",
       "                var nbb_formatted_code = \"df = (\\n    df.drop(COLUMNS_TO_DROP, axis=1)\\n    .rename(COLUMNS_TO_RENAME, axis=1)\\n    .rename(COLUMNS_TO_RENAME_2, axis=1)\\n    .copy()\\n)\\ndf = df.drop([0]).reset_index(drop=True)\\ndf = df.infer_objects()\";\n",
       "                var nbb_cells = Jupyter.notebook.get_cells();\n",
       "                for (var i = 0; i < nbb_cells.length; ++i) {\n",
       "                    if (nbb_cells[i].input_prompt_number == nbb_cell_id) {\n",
       "                        if (nbb_cells[i].get_text() == nbb_unformatted_code) {\n",
       "                             nbb_cells[i].set_text(nbb_formatted_code);\n",
       "                        }\n",
       "                        break;\n",
       "                    }\n",
       "                }\n",
       "            }, 500);\n",
       "            "
      ],
      "text/plain": [
       "<IPython.core.display.Javascript object>"
      ]
     },
     "metadata": {},
     "output_type": "display_data"
    }
   ],
   "source": [
    "df = (\n",
    "    df.drop(COLUMNS_TO_DROP, axis=1)\n",
    "    .rename(COLUMNS_TO_RENAME, axis=1)\n",
    "    .rename(COLUMNS_TO_RENAME_2, axis=1)\n",
    "    .copy()\n",
    ")\n",
    "df = df.drop([0]).reset_index(drop=True)\n",
    "df = df.infer_objects()"
   ]
  },
  {
   "cell_type": "markdown",
   "id": "2de73dc2",
   "metadata": {},
   "source": [
    "### Cleaning and converting numeric columns to float"
   ]
  },
  {
   "cell_type": "code",
   "execution_count": 11,
   "id": "82a170d1",
   "metadata": {},
   "outputs": [
    {
     "data": {
      "application/javascript": [
       "\n",
       "            setTimeout(function() {\n",
       "                var nbb_cell_id = 11;\n",
       "                var nbb_unformatted_code = \"NUMERIC_COLUMNS = [\\n    \\\"CaO\\\",\\n    \\\"SiO2\\\",\\n    \\\"Al2O3\\\",\\n    \\\"Fe2O3\\\",\\n    \\\"MgO\\\",\\n    \\\"SO3\\\",\\n    \\\"K2O\\\",\\n    \\\"Na2O\\\",\\n    # \\\"Cl-\\\",\\n    \\\"Cl\\\",\\n    \\\"TiO2\\\",\\n    # \\\"Alite\\\",\\n    # \\\"Belite\\\",\\n    # \\\"Aluminate\\\",\\n    # \\\"Ferrite\\\",\\n    \\\"Total C3S\\\",\\n    \\\"Total C2S\\\",\\n    \\\"C3A\\\",\\n    \\\"C4AF\\\",\\n    \\\"Free CaO\\\",\\n    \\\"Loss on Ignition\\\",\\n    \\\"Initial setting time\\\",\\n    \\\"CS1\\\",\\n    \\\"CS3\\\",\\n    \\\"CS7\\\",\\n    \\\"CS28\\\",\\n    \\\"Blaine\\\",\\n    \\\"#400\\\",\\n    \\\"#325\\\",\\n]\\n\\ndf = preprocess_numeric_cols(df, NUMERIC_COLUMNS)\\n\\n# Preprocessing to fix numeric columns\\ndf[NUMERIC_COLUMNS] = df[NUMERIC_COLUMNS].map(convert_to_float)\\n\\n# Converting Date to pandas datetime\\ndf[\\\"Date\\\"] = pd.to_datetime(df[\\\"Date\\\"])\\n\\n# Drop rows completely missing\\nindex_to_keep = df.drop([\\\"Date\\\", \\\"Cement_Type\\\"], axis=1).dropna(axis=0, how=\\\"all\\\").index\\ndf = df.iloc[index_to_keep].reset_index(drop=True)\\n\\ndf = df.infer_objects()\";\n",
       "                var nbb_formatted_code = \"NUMERIC_COLUMNS = [\\n    \\\"CaO\\\",\\n    \\\"SiO2\\\",\\n    \\\"Al2O3\\\",\\n    \\\"Fe2O3\\\",\\n    \\\"MgO\\\",\\n    \\\"SO3\\\",\\n    \\\"K2O\\\",\\n    \\\"Na2O\\\",\\n    # \\\"Cl-\\\",\\n    \\\"Cl\\\",\\n    \\\"TiO2\\\",\\n    # \\\"Alite\\\",\\n    # \\\"Belite\\\",\\n    # \\\"Aluminate\\\",\\n    # \\\"Ferrite\\\",\\n    \\\"Total C3S\\\",\\n    \\\"Total C2S\\\",\\n    \\\"C3A\\\",\\n    \\\"C4AF\\\",\\n    \\\"Free CaO\\\",\\n    \\\"Loss on Ignition\\\",\\n    \\\"Initial setting time\\\",\\n    \\\"CS1\\\",\\n    \\\"CS3\\\",\\n    \\\"CS7\\\",\\n    \\\"CS28\\\",\\n    \\\"Blaine\\\",\\n    \\\"#400\\\",\\n    \\\"#325\\\",\\n]\\n\\ndf = preprocess_numeric_cols(df, NUMERIC_COLUMNS)\\n\\n# Preprocessing to fix numeric columns\\ndf[NUMERIC_COLUMNS] = df[NUMERIC_COLUMNS].map(convert_to_float)\\n\\n# Converting Date to pandas datetime\\ndf[\\\"Date\\\"] = pd.to_datetime(df[\\\"Date\\\"])\\n\\n# Drop rows completely missing\\nindex_to_keep = df.drop([\\\"Date\\\", \\\"Cement_Type\\\"], axis=1).dropna(axis=0, how=\\\"all\\\").index\\ndf = df.iloc[index_to_keep].reset_index(drop=True)\\n\\ndf = df.infer_objects()\";\n",
       "                var nbb_cells = Jupyter.notebook.get_cells();\n",
       "                for (var i = 0; i < nbb_cells.length; ++i) {\n",
       "                    if (nbb_cells[i].input_prompt_number == nbb_cell_id) {\n",
       "                        if (nbb_cells[i].get_text() == nbb_unformatted_code) {\n",
       "                             nbb_cells[i].set_text(nbb_formatted_code);\n",
       "                        }\n",
       "                        break;\n",
       "                    }\n",
       "                }\n",
       "            }, 500);\n",
       "            "
      ],
      "text/plain": [
       "<IPython.core.display.Javascript object>"
      ]
     },
     "metadata": {},
     "output_type": "display_data"
    }
   ],
   "source": [
    "NUMERIC_COLUMNS = [\n",
    "    \"CaO\",\n",
    "    \"SiO2\",\n",
    "    \"Al2O3\",\n",
    "    \"Fe2O3\",\n",
    "    \"MgO\",\n",
    "    \"SO3\",\n",
    "    \"K2O\",\n",
    "    \"Na2O\",\n",
    "    # \"Cl-\",\n",
    "    \"Cl\",\n",
    "    \"TiO2\",\n",
    "    # \"Alite\",\n",
    "    # \"Belite\",\n",
    "    # \"Aluminate\",\n",
    "    # \"Ferrite\",\n",
    "    \"Total C3S\",\n",
    "    \"Total C2S\",\n",
    "    \"C3A\",\n",
    "    \"C4AF\",\n",
    "    \"Free CaO\",\n",
    "    \"Loss on Ignition\",\n",
    "    \"Initial setting time\",\n",
    "    \"CS1\",\n",
    "    \"CS3\",\n",
    "    \"CS7\",\n",
    "    \"CS28\",\n",
    "    \"Blaine\",\n",
    "    \"#400\",\n",
    "    \"#325\",\n",
    "]\n",
    "\n",
    "df = preprocess_numeric_cols(df, NUMERIC_COLUMNS)\n",
    "\n",
    "# Preprocessing to fix numeric columns\n",
    "df[NUMERIC_COLUMNS] = df[NUMERIC_COLUMNS].map(convert_to_float)\n",
    "\n",
    "# Converting Date to pandas datetime\n",
    "df[\"Date\"] = pd.to_datetime(df[\"Date\"])\n",
    "\n",
    "# Drop rows completely missing\n",
    "index_to_keep = df.drop([\"Date\", \"Cement_Type\"], axis=1).dropna(axis=0, how=\"all\").index\n",
    "df = df.iloc[index_to_keep].reset_index(drop=True)\n",
    "\n",
    "df = df.infer_objects()"
   ]
  },
  {
   "cell_type": "markdown",
   "id": "1fa131e8",
   "metadata": {},
   "source": [
    "## Dropping missing features"
   ]
  },
  {
   "cell_type": "markdown",
   "id": "a63de895",
   "metadata": {},
   "source": [
    "### Drop rows completely missing"
   ]
  },
  {
   "cell_type": "code",
   "execution_count": 12,
   "id": "d8c25384",
   "metadata": {},
   "outputs": [
    {
     "data": {
      "application/javascript": [
       "\n",
       "            setTimeout(function() {\n",
       "                var nbb_cell_id = 12;\n",
       "                var nbb_unformatted_code = \"index_to_keep = df.drop([\\\"Date\\\", \\\"Cement_Type\\\"], axis=1).dropna(axis=0, how=\\\"all\\\").index\\ndf = df.iloc[index_to_keep].reset_index(drop=True)\";\n",
       "                var nbb_formatted_code = \"index_to_keep = df.drop([\\\"Date\\\", \\\"Cement_Type\\\"], axis=1).dropna(axis=0, how=\\\"all\\\").index\\ndf = df.iloc[index_to_keep].reset_index(drop=True)\";\n",
       "                var nbb_cells = Jupyter.notebook.get_cells();\n",
       "                for (var i = 0; i < nbb_cells.length; ++i) {\n",
       "                    if (nbb_cells[i].input_prompt_number == nbb_cell_id) {\n",
       "                        if (nbb_cells[i].get_text() == nbb_unformatted_code) {\n",
       "                             nbb_cells[i].set_text(nbb_formatted_code);\n",
       "                        }\n",
       "                        break;\n",
       "                    }\n",
       "                }\n",
       "            }, 500);\n",
       "            "
      ],
      "text/plain": [
       "<IPython.core.display.Javascript object>"
      ]
     },
     "metadata": {},
     "output_type": "display_data"
    }
   ],
   "source": [
    "index_to_keep = df.drop([\"Date\", \"Cement_Type\"], axis=1).dropna(axis=0, how=\"all\").index\n",
    "df = df.iloc[index_to_keep].reset_index(drop=True)"
   ]
  },
  {
   "cell_type": "code",
   "execution_count": 13,
   "id": "8cabfaab",
   "metadata": {},
   "outputs": [
    {
     "data": {
      "text/plain": [
       "(36818, 26)"
      ]
     },
     "execution_count": 13,
     "metadata": {},
     "output_type": "execute_result"
    },
    {
     "data": {
      "application/javascript": [
       "\n",
       "            setTimeout(function() {\n",
       "                var nbb_cell_id = 13;\n",
       "                var nbb_unformatted_code = \"df.shape\";\n",
       "                var nbb_formatted_code = \"df.shape\";\n",
       "                var nbb_cells = Jupyter.notebook.get_cells();\n",
       "                for (var i = 0; i < nbb_cells.length; ++i) {\n",
       "                    if (nbb_cells[i].input_prompt_number == nbb_cell_id) {\n",
       "                        if (nbb_cells[i].get_text() == nbb_unformatted_code) {\n",
       "                             nbb_cells[i].set_text(nbb_formatted_code);\n",
       "                        }\n",
       "                        break;\n",
       "                    }\n",
       "                }\n",
       "            }, 500);\n",
       "            "
      ],
      "text/plain": [
       "<IPython.core.display.Javascript object>"
      ]
     },
     "metadata": {},
     "output_type": "display_data"
    }
   ],
   "source": [
    "df.shape"
   ]
  },
  {
   "cell_type": "markdown",
   "id": "522e7538",
   "metadata": {},
   "source": [
    "### Dropping variable with Plant identification"
   ]
  },
  {
   "cell_type": "code",
   "execution_count": 14,
   "id": "2026e713",
   "metadata": {},
   "outputs": [
    {
     "data": {
      "application/javascript": [
       "\n",
       "            setTimeout(function() {\n",
       "                var nbb_cell_id = 14;\n",
       "                var nbb_unformatted_code = \"df[\\\"Factory_Plant\\\"] = \\\"partner_ii\\\"\";\n",
       "                var nbb_formatted_code = \"df[\\\"Factory_Plant\\\"] = \\\"partner_ii\\\"\";\n",
       "                var nbb_cells = Jupyter.notebook.get_cells();\n",
       "                for (var i = 0; i < nbb_cells.length; ++i) {\n",
       "                    if (nbb_cells[i].input_prompt_number == nbb_cell_id) {\n",
       "                        if (nbb_cells[i].get_text() == nbb_unformatted_code) {\n",
       "                             nbb_cells[i].set_text(nbb_formatted_code);\n",
       "                        }\n",
       "                        break;\n",
       "                    }\n",
       "                }\n",
       "            }, 500);\n",
       "            "
      ],
      "text/plain": [
       "<IPython.core.display.Javascript object>"
      ]
     },
     "metadata": {},
     "output_type": "display_data"
    }
   ],
   "source": [
    "df[\"Factory_Plant\"] = \"partner_ii\""
   ]
  },
  {
   "cell_type": "markdown",
   "id": "37691a54",
   "metadata": {},
   "source": [
    "#### Removing the timezone"
   ]
  },
  {
   "cell_type": "code",
   "execution_count": 15,
   "id": "ac183c56",
   "metadata": {},
   "outputs": [
    {
     "data": {
      "text/plain": [
       "datetime64[ns, UTC]"
      ]
     },
     "execution_count": 15,
     "metadata": {},
     "output_type": "execute_result"
    },
    {
     "data": {
      "application/javascript": [
       "\n",
       "            setTimeout(function() {\n",
       "                var nbb_cell_id = 15;\n",
       "                var nbb_unformatted_code = \"df[\\\"Date\\\"].dtype\";\n",
       "                var nbb_formatted_code = \"df[\\\"Date\\\"].dtype\";\n",
       "                var nbb_cells = Jupyter.notebook.get_cells();\n",
       "                for (var i = 0; i < nbb_cells.length; ++i) {\n",
       "                    if (nbb_cells[i].input_prompt_number == nbb_cell_id) {\n",
       "                        if (nbb_cells[i].get_text() == nbb_unformatted_code) {\n",
       "                             nbb_cells[i].set_text(nbb_formatted_code);\n",
       "                        }\n",
       "                        break;\n",
       "                    }\n",
       "                }\n",
       "            }, 500);\n",
       "            "
      ],
      "text/plain": [
       "<IPython.core.display.Javascript object>"
      ]
     },
     "metadata": {},
     "output_type": "display_data"
    }
   ],
   "source": [
    "df[\"Date\"].dtype"
   ]
  },
  {
   "cell_type": "code",
   "execution_count": 16,
   "id": "40585233",
   "metadata": {},
   "outputs": [
    {
     "data": {
      "application/javascript": [
       "\n",
       "            setTimeout(function() {\n",
       "                var nbb_cell_id = 16;\n",
       "                var nbb_unformatted_code = \"df[\\\"Date\\\"] = df[\\\"Date\\\"].dt.tz_localize(None)\";\n",
       "                var nbb_formatted_code = \"df[\\\"Date\\\"] = df[\\\"Date\\\"].dt.tz_localize(None)\";\n",
       "                var nbb_cells = Jupyter.notebook.get_cells();\n",
       "                for (var i = 0; i < nbb_cells.length; ++i) {\n",
       "                    if (nbb_cells[i].input_prompt_number == nbb_cell_id) {\n",
       "                        if (nbb_cells[i].get_text() == nbb_unformatted_code) {\n",
       "                             nbb_cells[i].set_text(nbb_formatted_code);\n",
       "                        }\n",
       "                        break;\n",
       "                    }\n",
       "                }\n",
       "            }, 500);\n",
       "            "
      ],
      "text/plain": [
       "<IPython.core.display.Javascript object>"
      ]
     },
     "metadata": {},
     "output_type": "display_data"
    }
   ],
   "source": [
    "df[\"Date\"] = df[\"Date\"].dt.tz_localize(None)"
   ]
  },
  {
   "cell_type": "code",
   "execution_count": 17,
   "id": "2f47fe98",
   "metadata": {},
   "outputs": [
    {
     "data": {
      "text/plain": [
       "dtype('<M8[ns]')"
      ]
     },
     "execution_count": 17,
     "metadata": {},
     "output_type": "execute_result"
    },
    {
     "data": {
      "application/javascript": [
       "\n",
       "            setTimeout(function() {\n",
       "                var nbb_cell_id = 17;\n",
       "                var nbb_unformatted_code = \"df[\\\"Date\\\"].dtype\";\n",
       "                var nbb_formatted_code = \"df[\\\"Date\\\"].dtype\";\n",
       "                var nbb_cells = Jupyter.notebook.get_cells();\n",
       "                for (var i = 0; i < nbb_cells.length; ++i) {\n",
       "                    if (nbb_cells[i].input_prompt_number == nbb_cell_id) {\n",
       "                        if (nbb_cells[i].get_text() == nbb_unformatted_code) {\n",
       "                             nbb_cells[i].set_text(nbb_formatted_code);\n",
       "                        }\n",
       "                        break;\n",
       "                    }\n",
       "                }\n",
       "            }, 500);\n",
       "            "
      ],
      "text/plain": [
       "<IPython.core.display.Javascript object>"
      ]
     },
     "metadata": {},
     "output_type": "display_data"
    }
   ],
   "source": [
    "df[\"Date\"].dtype"
   ]
  },
  {
   "cell_type": "code",
   "execution_count": 18,
   "id": "d9ba7060",
   "metadata": {},
   "outputs": [
    {
     "data": {
      "application/javascript": [
       "\n",
       "            setTimeout(function() {\n",
       "                var nbb_cell_id = 18;\n",
       "                var nbb_unformatted_code = \"df_heildelberg = df.copy()\";\n",
       "                var nbb_formatted_code = \"df_heildelberg = df.copy()\";\n",
       "                var nbb_cells = Jupyter.notebook.get_cells();\n",
       "                for (var i = 0; i < nbb_cells.length; ++i) {\n",
       "                    if (nbb_cells[i].input_prompt_number == nbb_cell_id) {\n",
       "                        if (nbb_cells[i].get_text() == nbb_unformatted_code) {\n",
       "                             nbb_cells[i].set_text(nbb_formatted_code);\n",
       "                        }\n",
       "                        break;\n",
       "                    }\n",
       "                }\n",
       "            }, 500);\n",
       "            "
      ],
      "text/plain": [
       "<IPython.core.display.Javascript object>"
      ]
     },
     "metadata": {},
     "output_type": "display_data"
    }
   ],
   "source": [
    "df_heildelberg = df.copy()"
   ]
  },
  {
   "cell_type": "markdown",
   "id": "01b569e5",
   "metadata": {},
   "source": [
    "# partner_iv"
   ]
  },
  {
   "cell_type": "code",
   "execution_count": 19,
   "id": "35ed9b47",
   "metadata": {},
   "outputs": [
    {
     "data": {
      "application/javascript": [
       "\n",
       "            setTimeout(function() {\n",
       "                var nbb_cell_id = 19;\n",
       "                var nbb_unformatted_code = \"import datetime as dt\";\n",
       "                var nbb_formatted_code = \"import datetime as dt\";\n",
       "                var nbb_cells = Jupyter.notebook.get_cells();\n",
       "                for (var i = 0; i < nbb_cells.length; ++i) {\n",
       "                    if (nbb_cells[i].input_prompt_number == nbb_cell_id) {\n",
       "                        if (nbb_cells[i].get_text() == nbb_unformatted_code) {\n",
       "                             nbb_cells[i].set_text(nbb_formatted_code);\n",
       "                        }\n",
       "                        break;\n",
       "                    }\n",
       "                }\n",
       "            }, 500);\n",
       "            "
      ],
      "text/plain": [
       "<IPython.core.display.Javascript object>"
      ]
     },
     "metadata": {},
     "output_type": "display_data"
    }
   ],
   "source": [
    "import datetime as dt"
   ]
  },
  {
   "cell_type": "code",
   "execution_count": 20,
   "id": "181cb17b",
   "metadata": {},
   "outputs": [
    {
     "data": {
      "application/javascript": [
       "\n",
       "            setTimeout(function() {\n",
       "                var nbb_cell_id = 20;\n",
       "                var nbb_unformatted_code = \"xlsx = pd.ExcelFile(\\n    \\\"../../../../data/raw/partner_iv/DB_Master_CP1_latest.xlsx\\\", engine=\\\"openpyxl\\\"\\n)\";\n",
       "                var nbb_formatted_code = \"xlsx = pd.ExcelFile(\\n    \\\"../../../../data/raw/partner_iv/DB_Master_CP1_latest.xlsx\\\", engine=\\\"openpyxl\\\"\\n)\";\n",
       "                var nbb_cells = Jupyter.notebook.get_cells();\n",
       "                for (var i = 0; i < nbb_cells.length; ++i) {\n",
       "                    if (nbb_cells[i].input_prompt_number == nbb_cell_id) {\n",
       "                        if (nbb_cells[i].get_text() == nbb_unformatted_code) {\n",
       "                             nbb_cells[i].set_text(nbb_formatted_code);\n",
       "                        }\n",
       "                        break;\n",
       "                    }\n",
       "                }\n",
       "            }, 500);\n",
       "            "
      ],
      "text/plain": [
       "<IPython.core.display.Javascript object>"
      ]
     },
     "metadata": {},
     "output_type": "display_data"
    }
   ],
   "source": [
    "xlsx = pd.ExcelFile(\n",
    "    \"../../../../data/raw/partner_iv/DB_Master_CP1_latest.xlsx\", engine=\"openpyxl\"\n",
    ")"
   ]
  },
  {
   "cell_type": "code",
   "execution_count": 21,
   "id": "3dec6bf2",
   "metadata": {},
   "outputs": [
    {
     "data": {
      "application/javascript": [
       "\n",
       "            setTimeout(function() {\n",
       "                var nbb_cell_id = 21;\n",
       "                var nbb_unformatted_code = \"df_cem_a = pd.read_excel(xlsx, sheet_name=\\\"Cem A exp control\\\", skiprows=[1, 2])\\ndf_cem_a = df_cem_a[\\n    [col for col in df_cem_a.columns.fillna(\\\"Unnamed\\\") if \\\"Unnamed\\\" not in col]\\n]\\n\\ndf_cem_b = pd.read_excel(xlsx, sheet_name=\\\"Cem B exp control\\\", skiprows=[1, 2])\\ndf_cem_b = df_cem_b[\\n    [col for col in df_cem_b.columns.fillna(\\\"Unnamed\\\") if \\\"Unnamed\\\" not in col]\\n]\\n\\ndf_cem_c = pd.read_excel(xlsx, sheet_name=\\\"Cem c exp control\\\", skiprows=[1, 2])\\ndf_cem_c = df_cem_c[\\n    [col for col in df_cem_c.columns.fillna(\\\"Unnamed\\\") if \\\"Unnamed\\\" not in col]\\n]\\n\\ndf_cem_c[\\\"data\\\"] = pd.TimedeltaIndex(df_cem_c[\\\"data\\\"], unit=\\\"d\\\") + dt.datetime(\\n    1900, 1, 1\\n)\\n\\n\\ndf_cem_a[\\\"Cement_Type\\\"] = \\\"CEM A\\\"\\ndf_cem_b[\\\"Cement_Type\\\"] = \\\"CEM B\\\"\\ndf_cem_c[\\\"Cement_Type\\\"] = \\\"CEM C\\\"\";\n",
       "                var nbb_formatted_code = \"df_cem_a = pd.read_excel(xlsx, sheet_name=\\\"Cem A exp control\\\", skiprows=[1, 2])\\ndf_cem_a = df_cem_a[\\n    [col for col in df_cem_a.columns.fillna(\\\"Unnamed\\\") if \\\"Unnamed\\\" not in col]\\n]\\n\\ndf_cem_b = pd.read_excel(xlsx, sheet_name=\\\"Cem B exp control\\\", skiprows=[1, 2])\\ndf_cem_b = df_cem_b[\\n    [col for col in df_cem_b.columns.fillna(\\\"Unnamed\\\") if \\\"Unnamed\\\" not in col]\\n]\\n\\ndf_cem_c = pd.read_excel(xlsx, sheet_name=\\\"Cem c exp control\\\", skiprows=[1, 2])\\ndf_cem_c = df_cem_c[\\n    [col for col in df_cem_c.columns.fillna(\\\"Unnamed\\\") if \\\"Unnamed\\\" not in col]\\n]\\n\\ndf_cem_c[\\\"data\\\"] = pd.TimedeltaIndex(df_cem_c[\\\"data\\\"], unit=\\\"d\\\") + dt.datetime(\\n    1900, 1, 1\\n)\\n\\n\\ndf_cem_a[\\\"Cement_Type\\\"] = \\\"CEM A\\\"\\ndf_cem_b[\\\"Cement_Type\\\"] = \\\"CEM B\\\"\\ndf_cem_c[\\\"Cement_Type\\\"] = \\\"CEM C\\\"\";\n",
       "                var nbb_cells = Jupyter.notebook.get_cells();\n",
       "                for (var i = 0; i < nbb_cells.length; ++i) {\n",
       "                    if (nbb_cells[i].input_prompt_number == nbb_cell_id) {\n",
       "                        if (nbb_cells[i].get_text() == nbb_unformatted_code) {\n",
       "                             nbb_cells[i].set_text(nbb_formatted_code);\n",
       "                        }\n",
       "                        break;\n",
       "                    }\n",
       "                }\n",
       "            }, 500);\n",
       "            "
      ],
      "text/plain": [
       "<IPython.core.display.Javascript object>"
      ]
     },
     "metadata": {},
     "output_type": "display_data"
    }
   ],
   "source": [
    "df_cem_a = pd.read_excel(xlsx, sheet_name=\"Cem A exp control\", skiprows=[1, 2])\n",
    "df_cem_a = df_cem_a[\n",
    "    [col for col in df_cem_a.columns.fillna(\"Unnamed\") if \"Unnamed\" not in col]\n",
    "]\n",
    "\n",
    "df_cem_b = pd.read_excel(xlsx, sheet_name=\"Cem B exp control\", skiprows=[1, 2])\n",
    "df_cem_b = df_cem_b[\n",
    "    [col for col in df_cem_b.columns.fillna(\"Unnamed\") if \"Unnamed\" not in col]\n",
    "]\n",
    "\n",
    "df_cem_c = pd.read_excel(xlsx, sheet_name=\"Cem c exp control\", skiprows=[1, 2])\n",
    "df_cem_c = df_cem_c[\n",
    "    [col for col in df_cem_c.columns.fillna(\"Unnamed\") if \"Unnamed\" not in col]\n",
    "]\n",
    "\n",
    "df_cem_c[\"data\"] = pd.TimedeltaIndex(df_cem_c[\"data\"], unit=\"d\") + dt.datetime(\n",
    "    1900, 1, 1\n",
    ")\n",
    "\n",
    "\n",
    "df_cem_a[\"Cement_Type\"] = \"CEM A\"\n",
    "df_cem_b[\"Cement_Type\"] = \"CEM B\"\n",
    "df_cem_c[\"Cement_Type\"] = \"CEM C\""
   ]
  },
  {
   "cell_type": "code",
   "execution_count": 22,
   "id": "fda80b5f",
   "metadata": {},
   "outputs": [
    {
     "data": {
      "application/javascript": [
       "\n",
       "            setTimeout(function() {\n",
       "                var nbb_cell_id = 22;\n",
       "                var nbb_unformatted_code = \"df = pd.concat([df_cem_a, df_cem_b, df_cem_c], ignore_index=True, axis=0)\";\n",
       "                var nbb_formatted_code = \"df = pd.concat([df_cem_a, df_cem_b, df_cem_c], ignore_index=True, axis=0)\";\n",
       "                var nbb_cells = Jupyter.notebook.get_cells();\n",
       "                for (var i = 0; i < nbb_cells.length; ++i) {\n",
       "                    if (nbb_cells[i].input_prompt_number == nbb_cell_id) {\n",
       "                        if (nbb_cells[i].get_text() == nbb_unformatted_code) {\n",
       "                             nbb_cells[i].set_text(nbb_formatted_code);\n",
       "                        }\n",
       "                        break;\n",
       "                    }\n",
       "                }\n",
       "            }, 500);\n",
       "            "
      ],
      "text/plain": [
       "<IPython.core.display.Javascript object>"
      ]
     },
     "metadata": {},
     "output_type": "display_data"
    }
   ],
   "source": [
    "df = pd.concat([df_cem_a, df_cem_b, df_cem_c], ignore_index=True, axis=0)"
   ]
  },
  {
   "cell_type": "code",
   "execution_count": 23,
   "id": "d8ddd740",
   "metadata": {},
   "outputs": [
    {
     "data": {
      "text/plain": [
       "Index(['CEM A expedition control', 'sigla', 'data', 'LOI', 'SO3', 'Cl-',\n",
       "       'Blaine', 'ph2oimm', 'Initial Setting Time', 'Soundness', 'flow',\n",
       "       'rihcl', '2 days strenght', '7 days strenght', '28 days strenght',\n",
       "       'residuo 24 micron', 'tratt. 32 µm', 'tratt. 40 µm', 'tratt. 63 µm',\n",
       "       'SampleName', 'R_wp', 'Alite_M3 C3S M3', 'Alite_M1 C3S M1',\n",
       "       'Alite_Sum C3S tot', 'Ratio_M1 (rapporto M1/M3)',\n",
       "       'C3S_CS (taglia dei cristalliti C3S)', 'Belite_beta', 'C3A cub',\n",
       "       'C3A_ortho', 'C3A tot', 'C4AF', 'CaO', 'Ca(OH)2', 'Calce libera',\n",
       "       'Periclasio (MgO)', 'Quartz', 'K2SO4', 'Langbeinite – MgK2(SO4)2',\n",
       "       'Aphthitalite – (K,Na)3(SO4)2', 'Gesso', 'Emiidrato', 'Anidrite',\n",
       "       'Calcite – CaCO3', 'SO3_XRD', 'CO2_XRD', 'Cement_Type',\n",
       "       'CEM B  expedition control', 'silo', 'CEM C  expedition control'],\n",
       "      dtype='object')"
      ]
     },
     "execution_count": 23,
     "metadata": {},
     "output_type": "execute_result"
    },
    {
     "data": {
      "application/javascript": [
       "\n",
       "            setTimeout(function() {\n",
       "                var nbb_cell_id = 23;\n",
       "                var nbb_unformatted_code = \"df.columns\";\n",
       "                var nbb_formatted_code = \"df.columns\";\n",
       "                var nbb_cells = Jupyter.notebook.get_cells();\n",
       "                for (var i = 0; i < nbb_cells.length; ++i) {\n",
       "                    if (nbb_cells[i].input_prompt_number == nbb_cell_id) {\n",
       "                        if (nbb_cells[i].get_text() == nbb_unformatted_code) {\n",
       "                             nbb_cells[i].set_text(nbb_formatted_code);\n",
       "                        }\n",
       "                        break;\n",
       "                    }\n",
       "                }\n",
       "            }, 500);\n",
       "            "
      ],
      "text/plain": [
       "<IPython.core.display.Javascript object>"
      ]
     },
     "metadata": {},
     "output_type": "display_data"
    }
   ],
   "source": [
    "df.columns"
   ]
  },
  {
   "cell_type": "code",
   "execution_count": 24,
   "id": "51cde724",
   "metadata": {},
   "outputs": [
    {
     "data": {
      "application/javascript": [
       "\n",
       "            setTimeout(function() {\n",
       "                var nbb_cell_id = 24;\n",
       "                var nbb_unformatted_code = \"df_partner_iv = (\\n    df.rename(\\n        {\\n            \\\"LOI\\\": \\\"Loss on Ignition\\\",\\n            \\\"2 days strenght\\\": \\\"CS1\\\",\\n            \\\"7 days strenght\\\": \\\"CS3\\\",\\n            \\\"28 days strenght\\\": \\\"CS28\\\",\\n            \\\"Belite_beta\\\": \\\"Beta C2S\\\",\\n            \\\"C3A cub\\\": \\\"Cubic C3A\\\",\\n            \\\"C3A_ortho\\\": \\\"Orthorhombic C3A\\\",\\n            \\\"C3A tot\\\": \\\"C3A\\\",\\n            \\\"Calcite \\u2013 CaCO3\\\": \\\"CaCO3\\\",\\n            # \\\"SO3_XRD\\\": \\\"SO3\\\",\\n            \\\"CO2_XRD\\\": \\\"CO2\\\",\\n            \\\"tratt. 32 \\u00b5m\\\": \\\"#400\\\",\\n            \\\"tratt. 40 \\u00b5m\\\": \\\"#325\\\",\\n            # \\\"tratt. 32 \\u00b5m\\\": \\\"Sieve 32 um\\\",\\n            # \\\"tratt. 40 \\u00b5m\\\": \\\"Sieve 40 um\\\",\\n            \\\"residuo 24 micron\\\": \\\"Sieve 24 um\\\",\\n            \\\"data\\\": \\\"Date\\\",\\n            \\\"Langbeinite \\u2013 MgK2(SO4)2\\\": \\\"Langbeinite\\\",\\n            \\\"Aphthitalite \\u2013 (K,Na)3(SO4)2\\\": \\\"Aphthitalite\\\",\\n            \\\"Gesso\\\": \\\"Gypsum\\\",\\n            \\\"tratt. 63 \\u00b5m\\\": \\\"Sieve 63 \\u00b5m\\\",\\n            \\\"Calce libera\\\": \\\"Free CaO\\\",\\n            \\\"Periclasio (MgO)\\\": \\\"Periclase\\\",\\n            \\\"Anidrite\\\": \\\"Anhydrite\\\",\\n            \\\"Belite_beta\\\": \\\"Belite Beta\\\",\\n        },\\n        axis=1,\\n    )[\\n        [\\n            \\\"Date\\\",\\n            \\\"Cl-\\\",\\n            \\\"Blaine\\\",\\n            \\\"C3A\\\",\\n            \\\"Loss on Ignition\\\",\\n            \\\"CS1\\\",\\n            \\\"CS3\\\",\\n            \\\"CS28\\\",\\n            \\\"Belite Beta\\\",\\n            # \\\"Beta C2S\\\",\\n            \\\"Cubic C3A\\\",\\n            \\\"CaCO3\\\",\\n            \\\"#400\\\",\\n            \\\"#325\\\",\\n            # \\\"Sieve 32 um\\\",\\n            # \\\"Sieve 40 um\\\",\\n            # \\\"Sieve 63 \\u00b5m\\\",\\n            \\\"Sieve 24 um\\\",\\n            \\\"SO3\\\",\\n            \\\"C4AF\\\",\\n            \\\"CaO\\\",\\n            \\\"Langbeinite\\\",\\n            \\\"Aphthitalite\\\",\\n            \\\"Ca(OH)2\\\",\\n            \\\"CO2\\\",\\n            \\\"K2SO4\\\",\\n            \\\"Soundness\\\",\\n            \\\"Orthorhombic C3A\\\",\\n            \\\"Free CaO\\\",\\n            \\\"Quartz\\\",\\n            \\\"Gypsum\\\",\\n            \\\"Periclase\\\",\\n            \\\"Cement_Type\\\",\\n        ]\\n    ]\\n    .reset_index(drop=True)\\n    .copy()\\n)\\n\\n# df_partner_iv[\\\"Factory\\\"] = \\\"partner_iv\\\"\";\n",
       "                var nbb_formatted_code = \"df_partner_iv = (\\n    df.rename(\\n        {\\n            \\\"LOI\\\": \\\"Loss on Ignition\\\",\\n            \\\"2 days strenght\\\": \\\"CS1\\\",\\n            \\\"7 days strenght\\\": \\\"CS3\\\",\\n            \\\"28 days strenght\\\": \\\"CS28\\\",\\n            \\\"Belite_beta\\\": \\\"Beta C2S\\\",\\n            \\\"C3A cub\\\": \\\"Cubic C3A\\\",\\n            \\\"C3A_ortho\\\": \\\"Orthorhombic C3A\\\",\\n            \\\"C3A tot\\\": \\\"C3A\\\",\\n            \\\"Calcite \\u2013 CaCO3\\\": \\\"CaCO3\\\",\\n            # \\\"SO3_XRD\\\": \\\"SO3\\\",\\n            \\\"CO2_XRD\\\": \\\"CO2\\\",\\n            \\\"tratt. 32 \\u00b5m\\\": \\\"#400\\\",\\n            \\\"tratt. 40 \\u00b5m\\\": \\\"#325\\\",\\n            # \\\"tratt. 32 \\u00b5m\\\": \\\"Sieve 32 um\\\",\\n            # \\\"tratt. 40 \\u00b5m\\\": \\\"Sieve 40 um\\\",\\n            \\\"residuo 24 micron\\\": \\\"Sieve 24 um\\\",\\n            \\\"data\\\": \\\"Date\\\",\\n            \\\"Langbeinite \\u2013 MgK2(SO4)2\\\": \\\"Langbeinite\\\",\\n            \\\"Aphthitalite \\u2013 (K,Na)3(SO4)2\\\": \\\"Aphthitalite\\\",\\n            \\\"Gesso\\\": \\\"Gypsum\\\",\\n            \\\"tratt. 63 \\u00b5m\\\": \\\"Sieve 63 \\u00b5m\\\",\\n            \\\"Calce libera\\\": \\\"Free CaO\\\",\\n            \\\"Periclasio (MgO)\\\": \\\"Periclase\\\",\\n            \\\"Anidrite\\\": \\\"Anhydrite\\\",\\n            \\\"Belite_beta\\\": \\\"Belite Beta\\\",\\n        },\\n        axis=1,\\n    )[\\n        [\\n            \\\"Date\\\",\\n            \\\"Cl-\\\",\\n            \\\"Blaine\\\",\\n            \\\"C3A\\\",\\n            \\\"Loss on Ignition\\\",\\n            \\\"CS1\\\",\\n            \\\"CS3\\\",\\n            \\\"CS28\\\",\\n            \\\"Belite Beta\\\",\\n            # \\\"Beta C2S\\\",\\n            \\\"Cubic C3A\\\",\\n            \\\"CaCO3\\\",\\n            \\\"#400\\\",\\n            \\\"#325\\\",\\n            # \\\"Sieve 32 um\\\",\\n            # \\\"Sieve 40 um\\\",\\n            # \\\"Sieve 63 \\u00b5m\\\",\\n            \\\"Sieve 24 um\\\",\\n            \\\"SO3\\\",\\n            \\\"C4AF\\\",\\n            \\\"CaO\\\",\\n            \\\"Langbeinite\\\",\\n            \\\"Aphthitalite\\\",\\n            \\\"Ca(OH)2\\\",\\n            \\\"CO2\\\",\\n            \\\"K2SO4\\\",\\n            \\\"Soundness\\\",\\n            \\\"Orthorhombic C3A\\\",\\n            \\\"Free CaO\\\",\\n            \\\"Quartz\\\",\\n            \\\"Gypsum\\\",\\n            \\\"Periclase\\\",\\n            \\\"Cement_Type\\\",\\n        ]\\n    ]\\n    .reset_index(drop=True)\\n    .copy()\\n)\\n\\n# df_partner_iv[\\\"Factory\\\"] = \\\"partner_iv\\\"\";\n",
       "                var nbb_cells = Jupyter.notebook.get_cells();\n",
       "                for (var i = 0; i < nbb_cells.length; ++i) {\n",
       "                    if (nbb_cells[i].input_prompt_number == nbb_cell_id) {\n",
       "                        if (nbb_cells[i].get_text() == nbb_unformatted_code) {\n",
       "                             nbb_cells[i].set_text(nbb_formatted_code);\n",
       "                        }\n",
       "                        break;\n",
       "                    }\n",
       "                }\n",
       "            }, 500);\n",
       "            "
      ],
      "text/plain": [
       "<IPython.core.display.Javascript object>"
      ]
     },
     "metadata": {},
     "output_type": "display_data"
    }
   ],
   "source": [
    "df_partner_iv = (\n",
    "    df.rename(\n",
    "        {\n",
    "            \"LOI\": \"Loss on Ignition\",\n",
    "            \"2 days strenght\": \"CS1\",\n",
    "            \"7 days strenght\": \"CS3\",\n",
    "            \"28 days strenght\": \"CS28\",\n",
    "            \"Belite_beta\": \"Beta C2S\",\n",
    "            \"C3A cub\": \"Cubic C3A\",\n",
    "            \"C3A_ortho\": \"Orthorhombic C3A\",\n",
    "            \"C3A tot\": \"C3A\",\n",
    "            \"Calcite – CaCO3\": \"CaCO3\",\n",
    "            # \"SO3_XRD\": \"SO3\",\n",
    "            \"CO2_XRD\": \"CO2\",\n",
    "            \"tratt. 32 µm\": \"#400\",\n",
    "            \"tratt. 40 µm\": \"#325\",\n",
    "            # \"tratt. 32 µm\": \"Sieve 32 um\",\n",
    "            # \"tratt. 40 µm\": \"Sieve 40 um\",\n",
    "            \"residuo 24 micron\": \"Sieve 24 um\",\n",
    "            \"data\": \"Date\",\n",
    "            \"Langbeinite – MgK2(SO4)2\": \"Langbeinite\",\n",
    "            \"Aphthitalite – (K,Na)3(SO4)2\": \"Aphthitalite\",\n",
    "            \"Gesso\": \"Gypsum\",\n",
    "            \"tratt. 63 µm\": \"Sieve 63 µm\",\n",
    "            \"Calce libera\": \"Free CaO\",\n",
    "            \"Periclasio (MgO)\": \"Periclase\",\n",
    "            \"Anidrite\": \"Anhydrite\",\n",
    "            \"Belite_beta\": \"Belite Beta\",\n",
    "        },\n",
    "        axis=1,\n",
    "    )[\n",
    "        [\n",
    "            \"Date\",\n",
    "            \"Cl-\",\n",
    "            \"Blaine\",\n",
    "            \"C3A\",\n",
    "            \"Loss on Ignition\",\n",
    "            \"CS1\",\n",
    "            \"CS3\",\n",
    "            \"CS28\",\n",
    "            \"Belite Beta\",\n",
    "            # \"Beta C2S\",\n",
    "            \"Cubic C3A\",\n",
    "            \"CaCO3\",\n",
    "            \"#400\",\n",
    "            \"#325\",\n",
    "            # \"Sieve 32 um\",\n",
    "            # \"Sieve 40 um\",\n",
    "            # \"Sieve 63 µm\",\n",
    "            \"Sieve 24 um\",\n",
    "            \"SO3\",\n",
    "            \"C4AF\",\n",
    "            \"CaO\",\n",
    "            \"Langbeinite\",\n",
    "            \"Aphthitalite\",\n",
    "            \"Ca(OH)2\",\n",
    "            \"CO2\",\n",
    "            \"K2SO4\",\n",
    "            \"Soundness\",\n",
    "            \"Orthorhombic C3A\",\n",
    "            \"Free CaO\",\n",
    "            \"Quartz\",\n",
    "            \"Gypsum\",\n",
    "            \"Periclase\",\n",
    "            \"Cement_Type\",\n",
    "        ]\n",
    "    ]\n",
    "    .reset_index(drop=True)\n",
    "    .copy()\n",
    ")\n",
    "\n",
    "# df_partner_iv[\"Factory\"] = \"partner_iv\""
   ]
  },
  {
   "cell_type": "code",
   "execution_count": 25,
   "id": "40dd696e",
   "metadata": {},
   "outputs": [
    {
     "name": "stdout",
     "output_type": "stream",
     "text": [
      "could not convert string to float: ' '\n",
      "could not convert string to float: ' '\n",
      "could not convert string to float: '.'\n"
     ]
    },
    {
     "data": {
      "application/javascript": [
       "\n",
       "            setTimeout(function() {\n",
       "                var nbb_cell_id = 25;\n",
       "                var nbb_unformatted_code = \"NUMERIC_COLUMNS = [\\n    \\\"Cl-\\\",\\n    \\\"Blaine\\\",\\n    \\\"C3A\\\",\\n    \\\"Loss on Ignition\\\",\\n    \\\"CS1\\\",\\n    \\\"CS3\\\",\\n    \\\"CS28\\\",\\n    \\\"Belite Beta\\\",\\n    \\\"Cubic C3A\\\",\\n    \\\"CaCO3\\\",\\n    \\\"#400\\\",\\n    \\\"#325\\\",\\n    \\\"Sieve 24 um\\\",\\n    \\\"SO3\\\",\\n    \\\"C4AF\\\",\\n    \\\"CaO\\\",\\n    \\\"Langbeinite\\\",\\n    \\\"Aphthitalite\\\",\\n    \\\"Ca(OH)2\\\",\\n    \\\"CO2\\\",\\n    \\\"K2SO4\\\",\\n    \\\"Soundness\\\",\\n    \\\"Orthorhombic C3A\\\",\\n    \\\"Free CaO\\\",\\n    \\\"Quartz\\\",\\n    \\\"Gypsum\\\",\\n    \\\"Periclase\\\",\\n]\\n\\ndf_partner_iv = preprocess_numeric_cols(df_partner_iv, NUMERIC_COLUMNS)\\n\\n# Preprocessing to fix numeric columns\\ndf_partner_iv[NUMERIC_COLUMNS] = df_partner_iv[NUMERIC_COLUMNS].map(convert_to_float)\\n\\n# Converting Date to pandas datetime\\ndf_partner_iv[\\\"Date\\\"] = pd.to_datetime(df_partner_iv[\\\"Date\\\"])\\n\\n# Drop rows completely missing\\nindex_to_keep = (\\n    df_partner_iv.drop([\\\"Date\\\", \\\"Cement_Type\\\"], axis=1).dropna(axis=0, how=\\\"all\\\").index\\n)\\ndf_partner_iv = df_partner_iv.iloc[index_to_keep].reset_index(drop=True)\\n\\ndf_partner_iv = df_partner_iv.infer_objects()\";\n",
       "                var nbb_formatted_code = \"NUMERIC_COLUMNS = [\\n    \\\"Cl-\\\",\\n    \\\"Blaine\\\",\\n    \\\"C3A\\\",\\n    \\\"Loss on Ignition\\\",\\n    \\\"CS1\\\",\\n    \\\"CS3\\\",\\n    \\\"CS28\\\",\\n    \\\"Belite Beta\\\",\\n    \\\"Cubic C3A\\\",\\n    \\\"CaCO3\\\",\\n    \\\"#400\\\",\\n    \\\"#325\\\",\\n    \\\"Sieve 24 um\\\",\\n    \\\"SO3\\\",\\n    \\\"C4AF\\\",\\n    \\\"CaO\\\",\\n    \\\"Langbeinite\\\",\\n    \\\"Aphthitalite\\\",\\n    \\\"Ca(OH)2\\\",\\n    \\\"CO2\\\",\\n    \\\"K2SO4\\\",\\n    \\\"Soundness\\\",\\n    \\\"Orthorhombic C3A\\\",\\n    \\\"Free CaO\\\",\\n    \\\"Quartz\\\",\\n    \\\"Gypsum\\\",\\n    \\\"Periclase\\\",\\n]\\n\\ndf_partner_iv = preprocess_numeric_cols(df_partner_iv, NUMERIC_COLUMNS)\\n\\n# Preprocessing to fix numeric columns\\ndf_partner_iv[NUMERIC_COLUMNS] = df_partner_iv[NUMERIC_COLUMNS].map(convert_to_float)\\n\\n# Converting Date to pandas datetime\\ndf_partner_iv[\\\"Date\\\"] = pd.to_datetime(df_partner_iv[\\\"Date\\\"])\\n\\n# Drop rows completely missing\\nindex_to_keep = (\\n    df_partner_iv.drop([\\\"Date\\\", \\\"Cement_Type\\\"], axis=1).dropna(axis=0, how=\\\"all\\\").index\\n)\\ndf_partner_iv = df_partner_iv.iloc[index_to_keep].reset_index(drop=True)\\n\\ndf_partner_iv = df_partner_iv.infer_objects()\";\n",
       "                var nbb_cells = Jupyter.notebook.get_cells();\n",
       "                for (var i = 0; i < nbb_cells.length; ++i) {\n",
       "                    if (nbb_cells[i].input_prompt_number == nbb_cell_id) {\n",
       "                        if (nbb_cells[i].get_text() == nbb_unformatted_code) {\n",
       "                             nbb_cells[i].set_text(nbb_formatted_code);\n",
       "                        }\n",
       "                        break;\n",
       "                    }\n",
       "                }\n",
       "            }, 500);\n",
       "            "
      ],
      "text/plain": [
       "<IPython.core.display.Javascript object>"
      ]
     },
     "metadata": {},
     "output_type": "display_data"
    }
   ],
   "source": [
    "NUMERIC_COLUMNS = [\n",
    "    \"Cl-\",\n",
    "    \"Blaine\",\n",
    "    \"C3A\",\n",
    "    \"Loss on Ignition\",\n",
    "    \"CS1\",\n",
    "    \"CS3\",\n",
    "    \"CS28\",\n",
    "    \"Belite Beta\",\n",
    "    \"Cubic C3A\",\n",
    "    \"CaCO3\",\n",
    "    \"#400\",\n",
    "    \"#325\",\n",
    "    \"Sieve 24 um\",\n",
    "    \"SO3\",\n",
    "    \"C4AF\",\n",
    "    \"CaO\",\n",
    "    \"Langbeinite\",\n",
    "    \"Aphthitalite\",\n",
    "    \"Ca(OH)2\",\n",
    "    \"CO2\",\n",
    "    \"K2SO4\",\n",
    "    \"Soundness\",\n",
    "    \"Orthorhombic C3A\",\n",
    "    \"Free CaO\",\n",
    "    \"Quartz\",\n",
    "    \"Gypsum\",\n",
    "    \"Periclase\",\n",
    "]\n",
    "\n",
    "df_partner_iv = preprocess_numeric_cols(df_partner_iv, NUMERIC_COLUMNS)\n",
    "\n",
    "# Preprocessing to fix numeric columns\n",
    "df_partner_iv[NUMERIC_COLUMNS] = df_partner_iv[NUMERIC_COLUMNS].map(convert_to_float)\n",
    "\n",
    "# Converting Date to pandas datetime\n",
    "df_partner_iv[\"Date\"] = pd.to_datetime(df_partner_iv[\"Date\"])\n",
    "\n",
    "# Drop rows completely missing\n",
    "index_to_keep = (\n",
    "    df_partner_iv.drop([\"Date\", \"Cement_Type\"], axis=1).dropna(axis=0, how=\"all\").index\n",
    ")\n",
    "df_partner_iv = df_partner_iv.iloc[index_to_keep].reset_index(drop=True)\n",
    "\n",
    "df_partner_iv = df_partner_iv.infer_objects()"
   ]
  },
  {
   "cell_type": "code",
   "execution_count": 26,
   "id": "37110ce4",
   "metadata": {},
   "outputs": [
    {
     "data": {
      "application/javascript": [
       "\n",
       "            setTimeout(function() {\n",
       "                var nbb_cell_id = 26;\n",
       "                var nbb_unformatted_code = \"df_partner_iv[\\\"Factory_Plant\\\"] = \\\"partner_iv\\\"\";\n",
       "                var nbb_formatted_code = \"df_partner_iv[\\\"Factory_Plant\\\"] = \\\"partner_iv\\\"\";\n",
       "                var nbb_cells = Jupyter.notebook.get_cells();\n",
       "                for (var i = 0; i < nbb_cells.length; ++i) {\n",
       "                    if (nbb_cells[i].input_prompt_number == nbb_cell_id) {\n",
       "                        if (nbb_cells[i].get_text() == nbb_unformatted_code) {\n",
       "                             nbb_cells[i].set_text(nbb_formatted_code);\n",
       "                        }\n",
       "                        break;\n",
       "                    }\n",
       "                }\n",
       "            }, 500);\n",
       "            "
      ],
      "text/plain": [
       "<IPython.core.display.Javascript object>"
      ]
     },
     "metadata": {},
     "output_type": "display_data"
    }
   ],
   "source": [
    "df_partner_iv[\"Factory_Plant\"] = \"partner_iv\""
   ]
  },
  {
   "cell_type": "code",
   "execution_count": 27,
   "id": "16a9d756",
   "metadata": {},
   "outputs": [
    {
     "data": {
      "text/plain": [
       "Index(['Date', 'Cl-', 'Blaine', 'C3A', 'Loss on Ignition', 'CS1', 'CS3',\n",
       "       'CS28', 'Belite Beta', 'Cubic C3A', 'CaCO3', '#400', '#325',\n",
       "       'Sieve 24 um', 'SO3', 'C4AF', 'CaO', 'Langbeinite', 'Aphthitalite',\n",
       "       'Ca(OH)2', 'CO2', 'K2SO4', 'Soundness', 'Orthorhombic C3A', 'Free CaO',\n",
       "       'Quartz', 'Gypsum', 'Periclase', 'Cement_Type', 'Factory_Plant'],\n",
       "      dtype='object')"
      ]
     },
     "execution_count": 27,
     "metadata": {},
     "output_type": "execute_result"
    },
    {
     "data": {
      "application/javascript": [
       "\n",
       "            setTimeout(function() {\n",
       "                var nbb_cell_id = 27;\n",
       "                var nbb_unformatted_code = \"df_partner_iv.columns\";\n",
       "                var nbb_formatted_code = \"df_partner_iv.columns\";\n",
       "                var nbb_cells = Jupyter.notebook.get_cells();\n",
       "                for (var i = 0; i < nbb_cells.length; ++i) {\n",
       "                    if (nbb_cells[i].input_prompt_number == nbb_cell_id) {\n",
       "                        if (nbb_cells[i].get_text() == nbb_unformatted_code) {\n",
       "                             nbb_cells[i].set_text(nbb_formatted_code);\n",
       "                        }\n",
       "                        break;\n",
       "                    }\n",
       "                }\n",
       "            }, 500);\n",
       "            "
      ],
      "text/plain": [
       "<IPython.core.display.Javascript object>"
      ]
     },
     "metadata": {},
     "output_type": "display_data"
    }
   ],
   "source": [
    "df_partner_iv.columns"
   ]
  },
  {
   "cell_type": "markdown",
   "id": "5d1becab",
   "metadata": {},
   "source": [
    "# partner_i"
   ]
  },
  {
   "cell_type": "code",
   "execution_count": 28,
   "id": "c8e75ee1",
   "metadata": {},
   "outputs": [
    {
     "data": {
      "application/javascript": [
       "\n",
       "            setTimeout(function() {\n",
       "                var nbb_cell_id = 28;\n",
       "                var nbb_unformatted_code = \"xls = pd.ExcelFile(\\n    \\\"../../../../data/raw/partner_i-Oficial/DB_Master_CP1_latest v03.06.xlsx\\\",\\n    engine=\\\"openpyxl\\\",\\n)\\ndf = pd.read_excel(xls, \\\"DB3 Cimento Shipping\\\", header=[1, 2])\";\n",
       "                var nbb_formatted_code = \"xls = pd.ExcelFile(\\n    \\\"../../../../data/raw/partner_i-Oficial/DB_Master_CP1_latest v03.06.xlsx\\\",\\n    engine=\\\"openpyxl\\\",\\n)\\ndf = pd.read_excel(xls, \\\"DB3 Cimento Shipping\\\", header=[1, 2])\";\n",
       "                var nbb_cells = Jupyter.notebook.get_cells();\n",
       "                for (var i = 0; i < nbb_cells.length; ++i) {\n",
       "                    if (nbb_cells[i].input_prompt_number == nbb_cell_id) {\n",
       "                        if (nbb_cells[i].get_text() == nbb_unformatted_code) {\n",
       "                             nbb_cells[i].set_text(nbb_formatted_code);\n",
       "                        }\n",
       "                        break;\n",
       "                    }\n",
       "                }\n",
       "            }, 500);\n",
       "            "
      ],
      "text/plain": [
       "<IPython.core.display.Javascript object>"
      ]
     },
     "metadata": {},
     "output_type": "display_data"
    }
   ],
   "source": [
    "xls = pd.ExcelFile(\n",
    "    \"../../../../data/raw/partner_i-Oficial/DB_Master_CP1_latest v03.06.xlsx\",\n",
    "    engine=\"openpyxl\",\n",
    ")\n",
    "df = pd.read_excel(xls, \"DB3 Cimento Shipping\", header=[1, 2])"
   ]
  },
  {
   "cell_type": "markdown",
   "id": "b1ccadbd",
   "metadata": {},
   "source": [
    "## Initial Preprocessing"
   ]
  },
  {
   "cell_type": "code",
   "execution_count": 29,
   "id": "27220f00",
   "metadata": {},
   "outputs": [
    {
     "data": {
      "application/javascript": [
       "\n",
       "            setTimeout(function() {\n",
       "                var nbb_cell_id = 29;\n",
       "                var nbb_unformatted_code = \"df = pd.concat([df[\\\"Date\\\"], df[\\\"Time\\\"], df[\\\"Composition\\\"], df[\\\"Properties\\\"]], axis=1)\\ndf = df.drop([0, 1, 2], axis=0).reset_index(drop=True)\\n\\ndf = pd.concat(\\n    [\\n        df[\\\"Production\\\"].iloc[:, 0],\\n        df[\\\"Measurement\\\"].iloc[:, 0],\\n        df[\\\"Production\\\"].iloc[:, 1].rename(\\\"Production.1\\\"),\\n        df[\\\"Measurement\\\"].iloc[:, 1].rename(\\\"Measurement.1\\\"),\\n        df.drop([\\\"Production\\\", \\\"Measurement\\\"], axis=1),\\n    ],\\n    axis=1,\\n)\\n\\ndf = df.infer_objects()\";\n",
       "                var nbb_formatted_code = \"df = pd.concat([df[\\\"Date\\\"], df[\\\"Time\\\"], df[\\\"Composition\\\"], df[\\\"Properties\\\"]], axis=1)\\ndf = df.drop([0, 1, 2], axis=0).reset_index(drop=True)\\n\\ndf = pd.concat(\\n    [\\n        df[\\\"Production\\\"].iloc[:, 0],\\n        df[\\\"Measurement\\\"].iloc[:, 0],\\n        df[\\\"Production\\\"].iloc[:, 1].rename(\\\"Production.1\\\"),\\n        df[\\\"Measurement\\\"].iloc[:, 1].rename(\\\"Measurement.1\\\"),\\n        df.drop([\\\"Production\\\", \\\"Measurement\\\"], axis=1),\\n    ],\\n    axis=1,\\n)\\n\\ndf = df.infer_objects()\";\n",
       "                var nbb_cells = Jupyter.notebook.get_cells();\n",
       "                for (var i = 0; i < nbb_cells.length; ++i) {\n",
       "                    if (nbb_cells[i].input_prompt_number == nbb_cell_id) {\n",
       "                        if (nbb_cells[i].get_text() == nbb_unformatted_code) {\n",
       "                             nbb_cells[i].set_text(nbb_formatted_code);\n",
       "                        }\n",
       "                        break;\n",
       "                    }\n",
       "                }\n",
       "            }, 500);\n",
       "            "
      ],
      "text/plain": [
       "<IPython.core.display.Javascript object>"
      ]
     },
     "metadata": {},
     "output_type": "display_data"
    }
   ],
   "source": [
    "df = pd.concat([df[\"Date\"], df[\"Time\"], df[\"Composition\"], df[\"Properties\"]], axis=1)\n",
    "df = df.drop([0, 1, 2], axis=0).reset_index(drop=True)\n",
    "\n",
    "df = pd.concat(\n",
    "    [\n",
    "        df[\"Production\"].iloc[:, 0],\n",
    "        df[\"Measurement\"].iloc[:, 0],\n",
    "        df[\"Production\"].iloc[:, 1].rename(\"Production.1\"),\n",
    "        df[\"Measurement\"].iloc[:, 1].rename(\"Measurement.1\"),\n",
    "        df.drop([\"Production\", \"Measurement\"], axis=1),\n",
    "    ],\n",
    "    axis=1,\n",
    ")\n",
    "\n",
    "df = df.infer_objects()"
   ]
  },
  {
   "cell_type": "markdown",
   "id": "96c62169",
   "metadata": {},
   "source": [
    "## Initial Preprocessing"
   ]
  },
  {
   "cell_type": "markdown",
   "id": "782922d0",
   "metadata": {},
   "source": [
    "### 1. Dropping columns where either there is no data nor it contributes to the analysis\n",
    "### 2. Renaming columns to a short identifiable name"
   ]
  },
  {
   "cell_type": "code",
   "execution_count": 30,
   "id": "40acfb67",
   "metadata": {},
   "outputs": [
    {
     "data": {
      "application/javascript": [
       "\n",
       "            setTimeout(function() {\n",
       "                var nbb_cell_id = 30;\n",
       "                var nbb_unformatted_code = \"COLUMNS_TO_DROP = [\\n    \\\"Measurement\\\",\\n    \\\"Production.1\\\",\\n    \\\"Measurement.1\\\",\\n]\\n\\nCOLUMNS_TO_RENAME = {\\n    \\\"Production\\\": \\\"Date\\\",\\n    \\\"Remarks\\\": \\\"Cement_Type\\\",\\n    \\\"LOI\\\": \\\"Loss on Ignition\\\",\\n    \\\"IR\\\": \\\"Insoluble Residue\\\",\\n    \\\"Total alkali as Na2O\\\": \\\"Total Alkali as Na2O\\\",\\n    \\\"Alite total\\\": \\\"Alite Total\\\",\\n    \\\"Belite total\\\": \\\"Total C2S\\\",\\n    \\\"Belite alpha\\\": \\\"Belite Alpha\\\",\\n    \\\"Belite beta\\\": \\\"Belite Beta\\\",\\n    \\\"Belite gamma\\\": \\\"Belite Gamma\\\",\\n    \\\"Ferrite\\\": \\\"C4AF\\\",\\n    \\\"Aluminate cubic\\\": \\\"Aluminate Cubic\\\",\\n    \\\"Aluminate orto\\\": \\\"Aluminate Orto\\\",\\n    \\\"Free lime\\\": \\\"Free CaO\\\",\\n    \\\"Dolimite\\\": \\\"Dolomite\\\",\\n    \\\"Aphthalite\\\": \\\"Aphthitalite\\\",\\n    \\\"1 day Compressive strength\\\": \\\"CS1\\\",\\n    \\\"3 day Compressive strength\\\": \\\"CS3\\\",\\n    \\\"7 day Compressive strength\\\": \\\"CS7\\\",\\n    \\\"28 day Compressive strength\\\": \\\"CS28\\\",\\n}\";\n",
       "                var nbb_formatted_code = \"COLUMNS_TO_DROP = [\\n    \\\"Measurement\\\",\\n    \\\"Production.1\\\",\\n    \\\"Measurement.1\\\",\\n]\\n\\nCOLUMNS_TO_RENAME = {\\n    \\\"Production\\\": \\\"Date\\\",\\n    \\\"Remarks\\\": \\\"Cement_Type\\\",\\n    \\\"LOI\\\": \\\"Loss on Ignition\\\",\\n    \\\"IR\\\": \\\"Insoluble Residue\\\",\\n    \\\"Total alkali as Na2O\\\": \\\"Total Alkali as Na2O\\\",\\n    \\\"Alite total\\\": \\\"Alite Total\\\",\\n    \\\"Belite total\\\": \\\"Total C2S\\\",\\n    \\\"Belite alpha\\\": \\\"Belite Alpha\\\",\\n    \\\"Belite beta\\\": \\\"Belite Beta\\\",\\n    \\\"Belite gamma\\\": \\\"Belite Gamma\\\",\\n    \\\"Ferrite\\\": \\\"C4AF\\\",\\n    \\\"Aluminate cubic\\\": \\\"Aluminate Cubic\\\",\\n    \\\"Aluminate orto\\\": \\\"Aluminate Orto\\\",\\n    \\\"Free lime\\\": \\\"Free CaO\\\",\\n    \\\"Dolimite\\\": \\\"Dolomite\\\",\\n    \\\"Aphthalite\\\": \\\"Aphthitalite\\\",\\n    \\\"1 day Compressive strength\\\": \\\"CS1\\\",\\n    \\\"3 day Compressive strength\\\": \\\"CS3\\\",\\n    \\\"7 day Compressive strength\\\": \\\"CS7\\\",\\n    \\\"28 day Compressive strength\\\": \\\"CS28\\\",\\n}\";\n",
       "                var nbb_cells = Jupyter.notebook.get_cells();\n",
       "                for (var i = 0; i < nbb_cells.length; ++i) {\n",
       "                    if (nbb_cells[i].input_prompt_number == nbb_cell_id) {\n",
       "                        if (nbb_cells[i].get_text() == nbb_unformatted_code) {\n",
       "                             nbb_cells[i].set_text(nbb_formatted_code);\n",
       "                        }\n",
       "                        break;\n",
       "                    }\n",
       "                }\n",
       "            }, 500);\n",
       "            "
      ],
      "text/plain": [
       "<IPython.core.display.Javascript object>"
      ]
     },
     "metadata": {},
     "output_type": "display_data"
    }
   ],
   "source": [
    "COLUMNS_TO_DROP = [\n",
    "    \"Measurement\",\n",
    "    \"Production.1\",\n",
    "    \"Measurement.1\",\n",
    "]\n",
    "\n",
    "COLUMNS_TO_RENAME = {\n",
    "    \"Production\": \"Date\",\n",
    "    \"Remarks\": \"Cement_Type\",\n",
    "    \"LOI\": \"Loss on Ignition\",\n",
    "    \"IR\": \"Insoluble Residue\",\n",
    "    \"Total alkali as Na2O\": \"Total Alkali as Na2O\",\n",
    "    \"Alite total\": \"Alite Total\",\n",
    "    \"Belite total\": \"Total C2S\",\n",
    "    \"Belite alpha\": \"Belite Alpha\",\n",
    "    \"Belite beta\": \"Belite Beta\",\n",
    "    \"Belite gamma\": \"Belite Gamma\",\n",
    "    \"Ferrite\": \"C4AF\",\n",
    "    \"Aluminate cubic\": \"Aluminate Cubic\",\n",
    "    \"Aluminate orto\": \"Aluminate Orto\",\n",
    "    \"Free lime\": \"Free CaO\",\n",
    "    \"Dolimite\": \"Dolomite\",\n",
    "    \"Aphthalite\": \"Aphthitalite\",\n",
    "    \"1 day Compressive strength\": \"CS1\",\n",
    "    \"3 day Compressive strength\": \"CS3\",\n",
    "    \"7 day Compressive strength\": \"CS7\",\n",
    "    \"28 day Compressive strength\": \"CS28\",\n",
    "}"
   ]
  },
  {
   "cell_type": "code",
   "execution_count": 31,
   "id": "db998acd",
   "metadata": {},
   "outputs": [
    {
     "data": {
      "application/javascript": [
       "\n",
       "            setTimeout(function() {\n",
       "                var nbb_cell_id = 31;\n",
       "                var nbb_unformatted_code = \"COLUMNS_TO_RENAME_2 = {\\n    \\\"Alite Total\\\": \\\"Total C3S\\\",\\n    \\\"Total C2S\\\": \\\"Total C2S\\\",\\n    \\\"Belite Alpha\\\": \\\"Alpha C2S\\\",\\n    \\\"Belite Beta\\\": \\\"Beta C2S\\\",\\n    \\\"Belite Gamma\\\": \\\"Gamma C2S\\\",\\n    \\\"C4AF\\\": \\\"C4AF\\\",\\n    \\\"Aluminate\\\": \\\"C3A\\\",\\n    \\\"Aluminate Cubic\\\": \\\"Cubic C3A\\\",\\n    \\\"Aluminate Orto\\\": \\\"Orthorhombic C3A\\\",\\n    \\\"Free lime\\\": \\\"Free CaO\\\",\\n}\";\n",
       "                var nbb_formatted_code = \"COLUMNS_TO_RENAME_2 = {\\n    \\\"Alite Total\\\": \\\"Total C3S\\\",\\n    \\\"Total C2S\\\": \\\"Total C2S\\\",\\n    \\\"Belite Alpha\\\": \\\"Alpha C2S\\\",\\n    \\\"Belite Beta\\\": \\\"Beta C2S\\\",\\n    \\\"Belite Gamma\\\": \\\"Gamma C2S\\\",\\n    \\\"C4AF\\\": \\\"C4AF\\\",\\n    \\\"Aluminate\\\": \\\"C3A\\\",\\n    \\\"Aluminate Cubic\\\": \\\"Cubic C3A\\\",\\n    \\\"Aluminate Orto\\\": \\\"Orthorhombic C3A\\\",\\n    \\\"Free lime\\\": \\\"Free CaO\\\",\\n}\";\n",
       "                var nbb_cells = Jupyter.notebook.get_cells();\n",
       "                for (var i = 0; i < nbb_cells.length; ++i) {\n",
       "                    if (nbb_cells[i].input_prompt_number == nbb_cell_id) {\n",
       "                        if (nbb_cells[i].get_text() == nbb_unformatted_code) {\n",
       "                             nbb_cells[i].set_text(nbb_formatted_code);\n",
       "                        }\n",
       "                        break;\n",
       "                    }\n",
       "                }\n",
       "            }, 500);\n",
       "            "
      ],
      "text/plain": [
       "<IPython.core.display.Javascript object>"
      ]
     },
     "metadata": {},
     "output_type": "display_data"
    }
   ],
   "source": [
    "COLUMNS_TO_RENAME_2 = {\n",
    "    \"Alite Total\": \"Total C3S\",\n",
    "    \"Total C2S\": \"Total C2S\",\n",
    "    \"Belite Alpha\": \"Alpha C2S\",\n",
    "    \"Belite Beta\": \"Beta C2S\",\n",
    "    \"Belite Gamma\": \"Gamma C2S\",\n",
    "    \"C4AF\": \"C4AF\",\n",
    "    \"Aluminate\": \"C3A\",\n",
    "    \"Aluminate Cubic\": \"Cubic C3A\",\n",
    "    \"Aluminate Orto\": \"Orthorhombic C3A\",\n",
    "    \"Free lime\": \"Free CaO\",\n",
    "}"
   ]
  },
  {
   "cell_type": "code",
   "execution_count": 32,
   "id": "244ba770",
   "metadata": {},
   "outputs": [
    {
     "data": {
      "application/javascript": [
       "\n",
       "            setTimeout(function() {\n",
       "                var nbb_cell_id = 32;\n",
       "                var nbb_unformatted_code = \"# COLUMNS_TO_RENAME_2 = {\\n#     \\\"Alite total\\\": \\\"C3S total\\\",\\n#     \\\"Belite total\\\": \\\"C2S total\\\",\\n#     \\\"Belite alpha\\\": \\\"C2S alpha\\\",\\n#     \\\"Belite beta\\\": \\\"C2S beta\\\",\\n#     \\\"Belite gamma\\\": \\\"C2S gama\\\",\\n#     \\\"Ferrite\\\": \\\"C4AF\\\",\\n#     \\\"Aluminate\\\": \\\"C3A\\\",\\n#     \\\"Aluminate cubic\\\": \\\"C3A cubic\\\",\\n#     \\\"Aluminate orto\\\": \\\"C3A orto\\\",\\n#     \\\"Free lime\\\": \\\"CaO livre\\\",\\n#     \\\"Portlandite\\\": \\\"Portlandita\\\",\\n#     \\\"Periclase\\\": \\\"Periclasio\\\",\\n#     \\\"Arcanite\\\": \\\"Arcanita\\\",\\n#     \\\"Aphthalite\\\": \\\"Aphthalita\\\",\\n#     \\\"Langbeinite\\\": \\\"Langbeinita\\\",\\n#     \\\"Gypsum\\\": \\\"Sulfato de c\\u00e1lcio\\\",\\n#     \\\"Bassanite\\\": \\\"Bassanita\\\",\\n#     \\\"Anhydrite\\\": \\\"Anidrita\\\",\\n#     \\\"Calcite\\\": \\\"Calcita\\\",\\n#     \\\"Dolimite\\\": \\\"Dolimita\\\",\\n#     \\\"Quartz\\\": \\\"Quartzo\\\",\\n#     \\\"Muscovite\\\": \\\"Muscovita\\\",\\n# }\";\n",
       "                var nbb_formatted_code = \"# COLUMNS_TO_RENAME_2 = {\\n#     \\\"Alite total\\\": \\\"C3S total\\\",\\n#     \\\"Belite total\\\": \\\"C2S total\\\",\\n#     \\\"Belite alpha\\\": \\\"C2S alpha\\\",\\n#     \\\"Belite beta\\\": \\\"C2S beta\\\",\\n#     \\\"Belite gamma\\\": \\\"C2S gama\\\",\\n#     \\\"Ferrite\\\": \\\"C4AF\\\",\\n#     \\\"Aluminate\\\": \\\"C3A\\\",\\n#     \\\"Aluminate cubic\\\": \\\"C3A cubic\\\",\\n#     \\\"Aluminate orto\\\": \\\"C3A orto\\\",\\n#     \\\"Free lime\\\": \\\"CaO livre\\\",\\n#     \\\"Portlandite\\\": \\\"Portlandita\\\",\\n#     \\\"Periclase\\\": \\\"Periclasio\\\",\\n#     \\\"Arcanite\\\": \\\"Arcanita\\\",\\n#     \\\"Aphthalite\\\": \\\"Aphthalita\\\",\\n#     \\\"Langbeinite\\\": \\\"Langbeinita\\\",\\n#     \\\"Gypsum\\\": \\\"Sulfato de c\\u00e1lcio\\\",\\n#     \\\"Bassanite\\\": \\\"Bassanita\\\",\\n#     \\\"Anhydrite\\\": \\\"Anidrita\\\",\\n#     \\\"Calcite\\\": \\\"Calcita\\\",\\n#     \\\"Dolimite\\\": \\\"Dolimita\\\",\\n#     \\\"Quartz\\\": \\\"Quartzo\\\",\\n#     \\\"Muscovite\\\": \\\"Muscovita\\\",\\n# }\";\n",
       "                var nbb_cells = Jupyter.notebook.get_cells();\n",
       "                for (var i = 0; i < nbb_cells.length; ++i) {\n",
       "                    if (nbb_cells[i].input_prompt_number == nbb_cell_id) {\n",
       "                        if (nbb_cells[i].get_text() == nbb_unformatted_code) {\n",
       "                             nbb_cells[i].set_text(nbb_formatted_code);\n",
       "                        }\n",
       "                        break;\n",
       "                    }\n",
       "                }\n",
       "            }, 500);\n",
       "            "
      ],
      "text/plain": [
       "<IPython.core.display.Javascript object>"
      ]
     },
     "metadata": {},
     "output_type": "display_data"
    }
   ],
   "source": [
    "# COLUMNS_TO_RENAME_2 = {\n",
    "#     \"Alite total\": \"C3S total\",\n",
    "#     \"Belite total\": \"C2S total\",\n",
    "#     \"Belite alpha\": \"C2S alpha\",\n",
    "#     \"Belite beta\": \"C2S beta\",\n",
    "#     \"Belite gamma\": \"C2S gama\",\n",
    "#     \"Ferrite\": \"C4AF\",\n",
    "#     \"Aluminate\": \"C3A\",\n",
    "#     \"Aluminate cubic\": \"C3A cubic\",\n",
    "#     \"Aluminate orto\": \"C3A orto\",\n",
    "#     \"Free lime\": \"CaO livre\",\n",
    "#     \"Portlandite\": \"Portlandita\",\n",
    "#     \"Periclase\": \"Periclasio\",\n",
    "#     \"Arcanite\": \"Arcanita\",\n",
    "#     \"Aphthalite\": \"Aphthalita\",\n",
    "#     \"Langbeinite\": \"Langbeinita\",\n",
    "#     \"Gypsum\": \"Sulfato de cálcio\",\n",
    "#     \"Bassanite\": \"Bassanita\",\n",
    "#     \"Anhydrite\": \"Anidrita\",\n",
    "#     \"Calcite\": \"Calcita\",\n",
    "#     \"Dolimite\": \"Dolimita\",\n",
    "#     \"Quartz\": \"Quartzo\",\n",
    "#     \"Muscovite\": \"Muscovita\",\n",
    "# }"
   ]
  },
  {
   "cell_type": "markdown",
   "id": "32b822b3",
   "metadata": {},
   "source": [
    "### Defining a single variable to identify Cement Type"
   ]
  },
  {
   "cell_type": "markdown",
   "id": "03d8454a",
   "metadata": {},
   "source": [
    "### Dropping and rename the columns defined above"
   ]
  },
  {
   "cell_type": "code",
   "execution_count": 33,
   "id": "25c00533",
   "metadata": {},
   "outputs": [
    {
     "data": {
      "application/javascript": [
       "\n",
       "            setTimeout(function() {\n",
       "                var nbb_cell_id = 33;\n",
       "                var nbb_unformatted_code = \"df = (\\n    df.drop(COLUMNS_TO_DROP, axis=1)\\n    .rename(COLUMNS_TO_RENAME, axis=1)\\n    .rename(COLUMNS_TO_RENAME_2, axis=1)\\n    .copy()\\n)\\ndf = df.drop([0]).reset_index(drop=True)\\ndf = df.infer_objects()\";\n",
       "                var nbb_formatted_code = \"df = (\\n    df.drop(COLUMNS_TO_DROP, axis=1)\\n    .rename(COLUMNS_TO_RENAME, axis=1)\\n    .rename(COLUMNS_TO_RENAME_2, axis=1)\\n    .copy()\\n)\\ndf = df.drop([0]).reset_index(drop=True)\\ndf = df.infer_objects()\";\n",
       "                var nbb_cells = Jupyter.notebook.get_cells();\n",
       "                for (var i = 0; i < nbb_cells.length; ++i) {\n",
       "                    if (nbb_cells[i].input_prompt_number == nbb_cell_id) {\n",
       "                        if (nbb_cells[i].get_text() == nbb_unformatted_code) {\n",
       "                             nbb_cells[i].set_text(nbb_formatted_code);\n",
       "                        }\n",
       "                        break;\n",
       "                    }\n",
       "                }\n",
       "            }, 500);\n",
       "            "
      ],
      "text/plain": [
       "<IPython.core.display.Javascript object>"
      ]
     },
     "metadata": {},
     "output_type": "display_data"
    }
   ],
   "source": [
    "df = (\n",
    "    df.drop(COLUMNS_TO_DROP, axis=1)\n",
    "    .rename(COLUMNS_TO_RENAME, axis=1)\n",
    "    .rename(COLUMNS_TO_RENAME_2, axis=1)\n",
    "    .copy()\n",
    ")\n",
    "df = df.drop([0]).reset_index(drop=True)\n",
    "df = df.infer_objects()"
   ]
  },
  {
   "cell_type": "markdown",
   "id": "72aaebd4",
   "metadata": {},
   "source": [
    "### Cleaning and converting numeric columns to float"
   ]
  },
  {
   "cell_type": "code",
   "execution_count": 34,
   "id": "0e4e151a",
   "metadata": {},
   "outputs": [
    {
     "data": {
      "application/javascript": [
       "\n",
       "            setTimeout(function() {\n",
       "                var nbb_cell_id = 34;\n",
       "                var nbb_unformatted_code = \"NUMERIC_COLUMNS = [\\n    \\\"CaO\\\",\\n    \\\"MgO\\\",\\n    \\\"Na2O\\\",\\n    \\\"Al2O3\\\",\\n    \\\"SiO2\\\",\\n    \\\"SO3\\\",\\n    \\\"K2O\\\",\\n    \\\"TiO2\\\",\\n    \\\"Fe2O3\\\",\\n    \\\"Ca(OH)2\\\",\\n    \\\"CaCO3\\\",\\n    \\\"Total Alkali as Na2O\\\",\\n    \\\"Soundness\\\",\\n    \\\"Loss on Ignition\\\",\\n    \\\"Insoluble Residue\\\",\\n    # \\\"Alite Total\\\",\\n    # \\\"Total C2S\\\",\\n    # \\\"Belite Alpha\\\",\\n    # \\\"Belite Beta\\\",\\n    # \\\"Belite Gamma\\\",\\n    # \\\"C4AF\\\",\\n    # \\\"Aluminate\\\",\\n    # \\\"Aluminate Cubic\\\",\\n    # \\\"Aluminate Orto\\\",\\n    \\\"Total C3S\\\",\\n    \\\"Total C2S\\\",\\n    \\\"Alpha C2S\\\",\\n    \\\"Beta C2S\\\",\\n    \\\"Gamma C2S\\\",\\n    \\\"C4AF\\\",\\n    \\\"C3A\\\",\\n    \\\"Cubic C3A\\\",\\n    \\\"Orthorhombic C3A\\\",\\n    \\\"Free CaO\\\",\\n    \\\"Portlandite\\\",\\n    \\\"Periclase\\\",\\n    \\\"Arcanite\\\",\\n    \\\"Aphthitalite\\\",\\n    \\\"Langbeinite\\\",\\n    \\\"Gypsum\\\",\\n    \\\"Bassanite\\\",\\n    \\\"Anhydrite\\\",\\n    \\\"Calcite\\\",\\n    \\\"Dolomite\\\",\\n    \\\"Quartz\\\",\\n    \\\"Muscovite\\\",\\n    \\\"%Gypsum\\\",\\n    \\\"%Limestone\\\",\\n    \\\"%Clinker\\\",\\n    \\\"Dehydration\\\",\\n    \\\"Blaine\\\",\\n    \\\"Initial setting time\\\",\\n    \\\"Final setting time\\\",\\n    \\\"Density\\\",\\n    \\\"CS1\\\",\\n    \\\"CS3\\\",\\n    \\\"CS7\\\",\\n    \\\"CS28\\\",\\n    \\\"#200\\\",\\n    \\\"#325\\\",\\n    \\\"#400\\\",\\n]\\n\\ndf = preprocess_numeric_cols(df, NUMERIC_COLUMNS)\\n\\n# Preprocessing to fix numeric columns\\ndf[NUMERIC_COLUMNS] = df[NUMERIC_COLUMNS].map(convert_to_float)\\n\\n# Converting Date to pandas datetime\\ndf[\\\"Date\\\"] = pd.to_datetime(df[\\\"Date\\\"], format=\\\"%d/%m/%Y\\\")\\n\\n# Drop rows completely missing\\nindex_to_keep = df.drop([\\\"Date\\\", \\\"Cement_Type\\\"], axis=1).dropna(axis=0, how=\\\"all\\\").index\\ndf = df.iloc[index_to_keep].reset_index(drop=True)\\n\\ndf = df.infer_objects()\";\n",
       "                var nbb_formatted_code = \"NUMERIC_COLUMNS = [\\n    \\\"CaO\\\",\\n    \\\"MgO\\\",\\n    \\\"Na2O\\\",\\n    \\\"Al2O3\\\",\\n    \\\"SiO2\\\",\\n    \\\"SO3\\\",\\n    \\\"K2O\\\",\\n    \\\"TiO2\\\",\\n    \\\"Fe2O3\\\",\\n    \\\"Ca(OH)2\\\",\\n    \\\"CaCO3\\\",\\n    \\\"Total Alkali as Na2O\\\",\\n    \\\"Soundness\\\",\\n    \\\"Loss on Ignition\\\",\\n    \\\"Insoluble Residue\\\",\\n    # \\\"Alite Total\\\",\\n    # \\\"Total C2S\\\",\\n    # \\\"Belite Alpha\\\",\\n    # \\\"Belite Beta\\\",\\n    # \\\"Belite Gamma\\\",\\n    # \\\"C4AF\\\",\\n    # \\\"Aluminate\\\",\\n    # \\\"Aluminate Cubic\\\",\\n    # \\\"Aluminate Orto\\\",\\n    \\\"Total C3S\\\",\\n    \\\"Total C2S\\\",\\n    \\\"Alpha C2S\\\",\\n    \\\"Beta C2S\\\",\\n    \\\"Gamma C2S\\\",\\n    \\\"C4AF\\\",\\n    \\\"C3A\\\",\\n    \\\"Cubic C3A\\\",\\n    \\\"Orthorhombic C3A\\\",\\n    \\\"Free CaO\\\",\\n    \\\"Portlandite\\\",\\n    \\\"Periclase\\\",\\n    \\\"Arcanite\\\",\\n    \\\"Aphthitalite\\\",\\n    \\\"Langbeinite\\\",\\n    \\\"Gypsum\\\",\\n    \\\"Bassanite\\\",\\n    \\\"Anhydrite\\\",\\n    \\\"Calcite\\\",\\n    \\\"Dolomite\\\",\\n    \\\"Quartz\\\",\\n    \\\"Muscovite\\\",\\n    \\\"%Gypsum\\\",\\n    \\\"%Limestone\\\",\\n    \\\"%Clinker\\\",\\n    \\\"Dehydration\\\",\\n    \\\"Blaine\\\",\\n    \\\"Initial setting time\\\",\\n    \\\"Final setting time\\\",\\n    \\\"Density\\\",\\n    \\\"CS1\\\",\\n    \\\"CS3\\\",\\n    \\\"CS7\\\",\\n    \\\"CS28\\\",\\n    \\\"#200\\\",\\n    \\\"#325\\\",\\n    \\\"#400\\\",\\n]\\n\\ndf = preprocess_numeric_cols(df, NUMERIC_COLUMNS)\\n\\n# Preprocessing to fix numeric columns\\ndf[NUMERIC_COLUMNS] = df[NUMERIC_COLUMNS].map(convert_to_float)\\n\\n# Converting Date to pandas datetime\\ndf[\\\"Date\\\"] = pd.to_datetime(df[\\\"Date\\\"], format=\\\"%d/%m/%Y\\\")\\n\\n# Drop rows completely missing\\nindex_to_keep = df.drop([\\\"Date\\\", \\\"Cement_Type\\\"], axis=1).dropna(axis=0, how=\\\"all\\\").index\\ndf = df.iloc[index_to_keep].reset_index(drop=True)\\n\\ndf = df.infer_objects()\";\n",
       "                var nbb_cells = Jupyter.notebook.get_cells();\n",
       "                for (var i = 0; i < nbb_cells.length; ++i) {\n",
       "                    if (nbb_cells[i].input_prompt_number == nbb_cell_id) {\n",
       "                        if (nbb_cells[i].get_text() == nbb_unformatted_code) {\n",
       "                             nbb_cells[i].set_text(nbb_formatted_code);\n",
       "                        }\n",
       "                        break;\n",
       "                    }\n",
       "                }\n",
       "            }, 500);\n",
       "            "
      ],
      "text/plain": [
       "<IPython.core.display.Javascript object>"
      ]
     },
     "metadata": {},
     "output_type": "display_data"
    }
   ],
   "source": [
    "NUMERIC_COLUMNS = [\n",
    "    \"CaO\",\n",
    "    \"MgO\",\n",
    "    \"Na2O\",\n",
    "    \"Al2O3\",\n",
    "    \"SiO2\",\n",
    "    \"SO3\",\n",
    "    \"K2O\",\n",
    "    \"TiO2\",\n",
    "    \"Fe2O3\",\n",
    "    \"Ca(OH)2\",\n",
    "    \"CaCO3\",\n",
    "    \"Total Alkali as Na2O\",\n",
    "    \"Soundness\",\n",
    "    \"Loss on Ignition\",\n",
    "    \"Insoluble Residue\",\n",
    "    # \"Alite Total\",\n",
    "    # \"Total C2S\",\n",
    "    # \"Belite Alpha\",\n",
    "    # \"Belite Beta\",\n",
    "    # \"Belite Gamma\",\n",
    "    # \"C4AF\",\n",
    "    # \"Aluminate\",\n",
    "    # \"Aluminate Cubic\",\n",
    "    # \"Aluminate Orto\",\n",
    "    \"Total C3S\",\n",
    "    \"Total C2S\",\n",
    "    \"Alpha C2S\",\n",
    "    \"Beta C2S\",\n",
    "    \"Gamma C2S\",\n",
    "    \"C4AF\",\n",
    "    \"C3A\",\n",
    "    \"Cubic C3A\",\n",
    "    \"Orthorhombic C3A\",\n",
    "    \"Free CaO\",\n",
    "    \"Portlandite\",\n",
    "    \"Periclase\",\n",
    "    \"Arcanite\",\n",
    "    \"Aphthitalite\",\n",
    "    \"Langbeinite\",\n",
    "    \"Gypsum\",\n",
    "    \"Bassanite\",\n",
    "    \"Anhydrite\",\n",
    "    \"Calcite\",\n",
    "    \"Dolomite\",\n",
    "    \"Quartz\",\n",
    "    \"Muscovite\",\n",
    "    \"%Gypsum\",\n",
    "    \"%Limestone\",\n",
    "    \"%Clinker\",\n",
    "    \"Dehydration\",\n",
    "    \"Blaine\",\n",
    "    \"Initial setting time\",\n",
    "    \"Final setting time\",\n",
    "    \"Density\",\n",
    "    \"CS1\",\n",
    "    \"CS3\",\n",
    "    \"CS7\",\n",
    "    \"CS28\",\n",
    "    \"#200\",\n",
    "    \"#325\",\n",
    "    \"#400\",\n",
    "]\n",
    "\n",
    "df = preprocess_numeric_cols(df, NUMERIC_COLUMNS)\n",
    "\n",
    "# Preprocessing to fix numeric columns\n",
    "df[NUMERIC_COLUMNS] = df[NUMERIC_COLUMNS].map(convert_to_float)\n",
    "\n",
    "# Converting Date to pandas datetime\n",
    "df[\"Date\"] = pd.to_datetime(df[\"Date\"], format=\"%d/%m/%Y\")\n",
    "\n",
    "# Drop rows completely missing\n",
    "index_to_keep = df.drop([\"Date\", \"Cement_Type\"], axis=1).dropna(axis=0, how=\"all\").index\n",
    "df = df.iloc[index_to_keep].reset_index(drop=True)\n",
    "\n",
    "df = df.infer_objects()"
   ]
  },
  {
   "cell_type": "markdown",
   "id": "048ccfe2",
   "metadata": {},
   "source": [
    "## Dropping missing features"
   ]
  },
  {
   "cell_type": "markdown",
   "id": "67fe1595",
   "metadata": {},
   "source": [
    "### Drop rows completely missing"
   ]
  },
  {
   "cell_type": "code",
   "execution_count": 35,
   "id": "4a45f9cd",
   "metadata": {},
   "outputs": [
    {
     "data": {
      "application/javascript": [
       "\n",
       "            setTimeout(function() {\n",
       "                var nbb_cell_id = 35;\n",
       "                var nbb_unformatted_code = \"index_to_keep = df.drop([\\\"Date\\\", \\\"Cement_Type\\\"], axis=1).dropna(axis=0, how=\\\"all\\\").index\\ndf = df.iloc[index_to_keep].reset_index(drop=True)\";\n",
       "                var nbb_formatted_code = \"index_to_keep = df.drop([\\\"Date\\\", \\\"Cement_Type\\\"], axis=1).dropna(axis=0, how=\\\"all\\\").index\\ndf = df.iloc[index_to_keep].reset_index(drop=True)\";\n",
       "                var nbb_cells = Jupyter.notebook.get_cells();\n",
       "                for (var i = 0; i < nbb_cells.length; ++i) {\n",
       "                    if (nbb_cells[i].input_prompt_number == nbb_cell_id) {\n",
       "                        if (nbb_cells[i].get_text() == nbb_unformatted_code) {\n",
       "                             nbb_cells[i].set_text(nbb_formatted_code);\n",
       "                        }\n",
       "                        break;\n",
       "                    }\n",
       "                }\n",
       "            }, 500);\n",
       "            "
      ],
      "text/plain": [
       "<IPython.core.display.Javascript object>"
      ]
     },
     "metadata": {},
     "output_type": "display_data"
    }
   ],
   "source": [
    "index_to_keep = df.drop([\"Date\", \"Cement_Type\"], axis=1).dropna(axis=0, how=\"all\").index\n",
    "df = df.iloc[index_to_keep].reset_index(drop=True)"
   ]
  },
  {
   "cell_type": "code",
   "execution_count": 36,
   "id": "d6b9f4f9",
   "metadata": {},
   "outputs": [
    {
     "data": {
      "text/plain": [
       "(1265, 54)"
      ]
     },
     "execution_count": 36,
     "metadata": {},
     "output_type": "execute_result"
    },
    {
     "data": {
      "application/javascript": [
       "\n",
       "            setTimeout(function() {\n",
       "                var nbb_cell_id = 36;\n",
       "                var nbb_unformatted_code = \"df.shape\";\n",
       "                var nbb_formatted_code = \"df.shape\";\n",
       "                var nbb_cells = Jupyter.notebook.get_cells();\n",
       "                for (var i = 0; i < nbb_cells.length; ++i) {\n",
       "                    if (nbb_cells[i].input_prompt_number == nbb_cell_id) {\n",
       "                        if (nbb_cells[i].get_text() == nbb_unformatted_code) {\n",
       "                             nbb_cells[i].set_text(nbb_formatted_code);\n",
       "                        }\n",
       "                        break;\n",
       "                    }\n",
       "                }\n",
       "            }, 500);\n",
       "            "
      ],
      "text/plain": [
       "<IPython.core.display.Javascript object>"
      ]
     },
     "metadata": {},
     "output_type": "display_data"
    }
   ],
   "source": [
    "df.shape"
   ]
  },
  {
   "cell_type": "markdown",
   "id": "0d1b7b9b",
   "metadata": {},
   "source": [
    "### Dropping variable with Plant identification"
   ]
  },
  {
   "cell_type": "code",
   "execution_count": 37,
   "id": "29242d03",
   "metadata": {},
   "outputs": [
    {
     "data": {
      "application/javascript": [
       "\n",
       "            setTimeout(function() {\n",
       "                var nbb_cell_id = 37;\n",
       "                var nbb_unformatted_code = \"df[\\\"Factory_Plant\\\"] = \\\"partner_i\\\"\";\n",
       "                var nbb_formatted_code = \"df[\\\"Factory_Plant\\\"] = \\\"partner_i\\\"\";\n",
       "                var nbb_cells = Jupyter.notebook.get_cells();\n",
       "                for (var i = 0; i < nbb_cells.length; ++i) {\n",
       "                    if (nbb_cells[i].input_prompt_number == nbb_cell_id) {\n",
       "                        if (nbb_cells[i].get_text() == nbb_unformatted_code) {\n",
       "                             nbb_cells[i].set_text(nbb_formatted_code);\n",
       "                        }\n",
       "                        break;\n",
       "                    }\n",
       "                }\n",
       "            }, 500);\n",
       "            "
      ],
      "text/plain": [
       "<IPython.core.display.Javascript object>"
      ]
     },
     "metadata": {},
     "output_type": "display_data"
    }
   ],
   "source": [
    "df[\"Factory_Plant\"] = \"partner_i\""
   ]
  },
  {
   "cell_type": "code",
   "execution_count": 38,
   "id": "c037b1a4",
   "metadata": {},
   "outputs": [
    {
     "data": {
      "application/javascript": [
       "\n",
       "            setTimeout(function() {\n",
       "                var nbb_cell_id = 38;\n",
       "                var nbb_unformatted_code = \"df_partner_i = df.copy()\";\n",
       "                var nbb_formatted_code = \"df_partner_i = df.copy()\";\n",
       "                var nbb_cells = Jupyter.notebook.get_cells();\n",
       "                for (var i = 0; i < nbb_cells.length; ++i) {\n",
       "                    if (nbb_cells[i].input_prompt_number == nbb_cell_id) {\n",
       "                        if (nbb_cells[i].get_text() == nbb_unformatted_code) {\n",
       "                             nbb_cells[i].set_text(nbb_formatted_code);\n",
       "                        }\n",
       "                        break;\n",
       "                    }\n",
       "                }\n",
       "            }, 500);\n",
       "            "
      ],
      "text/plain": [
       "<IPython.core.display.Javascript object>"
      ]
     },
     "metadata": {},
     "output_type": "display_data"
    }
   ],
   "source": [
    "df_partner_i = df.copy()"
   ]
  },
  {
   "cell_type": "code",
   "execution_count": 39,
   "id": "f01e9434",
   "metadata": {},
   "outputs": [
    {
     "data": {
      "text/plain": [
       "Index(['Date', 'CaO', 'MgO', 'Na2O', 'Al2O3', 'SiO2', 'SO3', 'K2O', 'TiO2',\n",
       "       'Fe2O3', 'Ca(OH)2', 'CaCO3', 'Total Alkali as Na2O', 'Soundness',\n",
       "       'Loss on Ignition', 'Insoluble Residue', 'Total C3S', 'Total C2S',\n",
       "       'Alpha C2S', 'Beta C2S', 'Gamma C2S', 'C4AF', 'C3A', 'Cubic C3A',\n",
       "       'Orthorhombic C3A', 'Free CaO', 'Portlandite', 'Periclase', 'Arcanite',\n",
       "       'Aphthitalite', 'Langbeinite', 'Gypsum', 'Bassanite', 'Anhydrite',\n",
       "       'Calcite', 'Dolomite', 'Quartz', 'Muscovite', '%Gypsum', '%Limestone',\n",
       "       '%Clinker', 'Dehydration', 'Cement_Type', 'Blaine',\n",
       "       'Initial setting time', 'Final setting time', 'Density', 'CS1', 'CS3',\n",
       "       'CS7', 'CS28', '#200', '#325', '#400', 'Factory_Plant'],\n",
       "      dtype='object')"
      ]
     },
     "execution_count": 39,
     "metadata": {},
     "output_type": "execute_result"
    },
    {
     "data": {
      "application/javascript": [
       "\n",
       "            setTimeout(function() {\n",
       "                var nbb_cell_id = 39;\n",
       "                var nbb_unformatted_code = \"df_partner_i.columns\";\n",
       "                var nbb_formatted_code = \"df_partner_i.columns\";\n",
       "                var nbb_cells = Jupyter.notebook.get_cells();\n",
       "                for (var i = 0; i < nbb_cells.length; ++i) {\n",
       "                    if (nbb_cells[i].input_prompt_number == nbb_cell_id) {\n",
       "                        if (nbb_cells[i].get_text() == nbb_unformatted_code) {\n",
       "                             nbb_cells[i].set_text(nbb_formatted_code);\n",
       "                        }\n",
       "                        break;\n",
       "                    }\n",
       "                }\n",
       "            }, 500);\n",
       "            "
      ],
      "text/plain": [
       "<IPython.core.display.Javascript object>"
      ]
     },
     "metadata": {},
     "output_type": "display_data"
    }
   ],
   "source": [
    "df_partner_i.columns"
   ]
  },
  {
   "cell_type": "markdown",
   "id": "7acf30e6",
   "metadata": {},
   "source": [
    "# Global Dataset"
   ]
  },
  {
   "cell_type": "code",
   "execution_count": 40,
   "id": "e41d8f9f",
   "metadata": {},
   "outputs": [
    {
     "data": {
      "application/javascript": [
       "\n",
       "            setTimeout(function() {\n",
       "                var nbb_cell_id = 40;\n",
       "                var nbb_unformatted_code = \"df = pd.concat([df_partner_iv, df_heildelberg, df_partner_i])\";\n",
       "                var nbb_formatted_code = \"df = pd.concat([df_partner_iv, df_heildelberg, df_partner_i])\";\n",
       "                var nbb_cells = Jupyter.notebook.get_cells();\n",
       "                for (var i = 0; i < nbb_cells.length; ++i) {\n",
       "                    if (nbb_cells[i].input_prompt_number == nbb_cell_id) {\n",
       "                        if (nbb_cells[i].get_text() == nbb_unformatted_code) {\n",
       "                             nbb_cells[i].set_text(nbb_formatted_code);\n",
       "                        }\n",
       "                        break;\n",
       "                    }\n",
       "                }\n",
       "            }, 500);\n",
       "            "
      ],
      "text/plain": [
       "<IPython.core.display.Javascript object>"
      ]
     },
     "metadata": {},
     "output_type": "display_data"
    }
   ],
   "source": [
    "df = pd.concat([df_partner_iv, df_heildelberg, df_partner_i])"
   ]
  },
  {
   "cell_type": "code",
   "execution_count": 41,
   "id": "1c45dfa9",
   "metadata": {},
   "outputs": [
    {
     "data": {
      "text/plain": [
       "(39060, 61)"
      ]
     },
     "execution_count": 41,
     "metadata": {},
     "output_type": "execute_result"
    },
    {
     "data": {
      "application/javascript": [
       "\n",
       "            setTimeout(function() {\n",
       "                var nbb_cell_id = 41;\n",
       "                var nbb_unformatted_code = \"df.shape\";\n",
       "                var nbb_formatted_code = \"df.shape\";\n",
       "                var nbb_cells = Jupyter.notebook.get_cells();\n",
       "                for (var i = 0; i < nbb_cells.length; ++i) {\n",
       "                    if (nbb_cells[i].input_prompt_number == nbb_cell_id) {\n",
       "                        if (nbb_cells[i].get_text() == nbb_unformatted_code) {\n",
       "                             nbb_cells[i].set_text(nbb_formatted_code);\n",
       "                        }\n",
       "                        break;\n",
       "                    }\n",
       "                }\n",
       "            }, 500);\n",
       "            "
      ],
      "text/plain": [
       "<IPython.core.display.Javascript object>"
      ]
     },
     "metadata": {},
     "output_type": "display_data"
    }
   ],
   "source": [
    "df.shape"
   ]
  },
  {
   "cell_type": "code",
   "execution_count": 42,
   "id": "1aa3f62d",
   "metadata": {},
   "outputs": [
    {
     "data": {
      "text/plain": [
       "array(['partner_iv', 'partner_ii', 'partner_i'], dtype=object)"
      ]
     },
     "execution_count": 42,
     "metadata": {},
     "output_type": "execute_result"
    },
    {
     "data": {
      "application/javascript": [
       "\n",
       "            setTimeout(function() {\n",
       "                var nbb_cell_id = 42;\n",
       "                var nbb_unformatted_code = \"df[\\\"Factory_Plant\\\"].unique()\";\n",
       "                var nbb_formatted_code = \"df[\\\"Factory_Plant\\\"].unique()\";\n",
       "                var nbb_cells = Jupyter.notebook.get_cells();\n",
       "                for (var i = 0; i < nbb_cells.length; ++i) {\n",
       "                    if (nbb_cells[i].input_prompt_number == nbb_cell_id) {\n",
       "                        if (nbb_cells[i].get_text() == nbb_unformatted_code) {\n",
       "                             nbb_cells[i].set_text(nbb_formatted_code);\n",
       "                        }\n",
       "                        break;\n",
       "                    }\n",
       "                }\n",
       "            }, 500);\n",
       "            "
      ],
      "text/plain": [
       "<IPython.core.display.Javascript object>"
      ]
     },
     "metadata": {},
     "output_type": "display_data"
    }
   ],
   "source": [
    "df[\"Factory_Plant\"].unique()"
   ]
  },
  {
   "cell_type": "code",
   "execution_count": 43,
   "id": "d5ca8c17",
   "metadata": {},
   "outputs": [
    {
     "data": {
      "application/javascript": [
       "\n",
       "            setTimeout(function() {\n",
       "                var nbb_cell_id = 43;\n",
       "                var nbb_unformatted_code = \"df = df.dropna(subset=\\\"CS28\\\").reset_index(drop=True)\";\n",
       "                var nbb_formatted_code = \"df = df.dropna(subset=\\\"CS28\\\").reset_index(drop=True)\";\n",
       "                var nbb_cells = Jupyter.notebook.get_cells();\n",
       "                for (var i = 0; i < nbb_cells.length; ++i) {\n",
       "                    if (nbb_cells[i].input_prompt_number == nbb_cell_id) {\n",
       "                        if (nbb_cells[i].get_text() == nbb_unformatted_code) {\n",
       "                             nbb_cells[i].set_text(nbb_formatted_code);\n",
       "                        }\n",
       "                        break;\n",
       "                    }\n",
       "                }\n",
       "            }, 500);\n",
       "            "
      ],
      "text/plain": [
       "<IPython.core.display.Javascript object>"
      ]
     },
     "metadata": {},
     "output_type": "display_data"
    }
   ],
   "source": [
    "df = df.dropna(subset=\"CS28\").reset_index(drop=True)"
   ]
  },
  {
   "cell_type": "code",
   "execution_count": 44,
   "id": "71f9e8e7",
   "metadata": {},
   "outputs": [
    {
     "data": {
      "text/plain": [
       "(3248, 61)"
      ]
     },
     "execution_count": 44,
     "metadata": {},
     "output_type": "execute_result"
    },
    {
     "data": {
      "application/javascript": [
       "\n",
       "            setTimeout(function() {\n",
       "                var nbb_cell_id = 44;\n",
       "                var nbb_unformatted_code = \"df.shape\";\n",
       "                var nbb_formatted_code = \"df.shape\";\n",
       "                var nbb_cells = Jupyter.notebook.get_cells();\n",
       "                for (var i = 0; i < nbb_cells.length; ++i) {\n",
       "                    if (nbb_cells[i].input_prompt_number == nbb_cell_id) {\n",
       "                        if (nbb_cells[i].get_text() == nbb_unformatted_code) {\n",
       "                             nbb_cells[i].set_text(nbb_formatted_code);\n",
       "                        }\n",
       "                        break;\n",
       "                    }\n",
       "                }\n",
       "            }, 500);\n",
       "            "
      ],
      "text/plain": [
       "<IPython.core.display.Javascript object>"
      ]
     },
     "metadata": {},
     "output_type": "display_data"
    }
   ],
   "source": [
    "df.shape"
   ]
  },
  {
   "cell_type": "markdown",
   "id": "668365e4",
   "metadata": {},
   "source": [
    "## Preprocessing"
   ]
  },
  {
   "cell_type": "markdown",
   "id": "0d737047",
   "metadata": {},
   "source": [
    "### Missing Values (%)"
   ]
  },
  {
   "cell_type": "code",
   "execution_count": 45,
   "id": "f6fc3197",
   "metadata": {
    "scrolled": false
   },
   "outputs": [
    {
     "data": {
      "text/html": [
       "<style type=\"text/css\">\n",
       "#T_7cabe_row0_col0, #T_7cabe_row1_col0 {\n",
       "  background-color: #67000d;\n",
       "  color: #f1f1f1;\n",
       "}\n",
       "#T_7cabe_row2_col0 {\n",
       "  background-color: #c9181d;\n",
       "  color: #f1f1f1;\n",
       "}\n",
       "#T_7cabe_row3_col0, #T_7cabe_row4_col0, #T_7cabe_row5_col0, #T_7cabe_row6_col0, #T_7cabe_row7_col0, #T_7cabe_row8_col0 {\n",
       "  background-color: #d11e1f;\n",
       "  color: #f1f1f1;\n",
       "}\n",
       "#T_7cabe_row9_col0, #T_7cabe_row10_col0 {\n",
       "  background-color: #d82422;\n",
       "  color: #f1f1f1;\n",
       "}\n",
       "#T_7cabe_row11_col0, #T_7cabe_row12_col0, #T_7cabe_row13_col0 {\n",
       "  background-color: #eb372a;\n",
       "  color: #f1f1f1;\n",
       "}\n",
       "#T_7cabe_row14_col0, #T_7cabe_row15_col0, #T_7cabe_row16_col0, #T_7cabe_row17_col0, #T_7cabe_row18_col0, #T_7cabe_row19_col0, #T_7cabe_row20_col0, #T_7cabe_row21_col0, #T_7cabe_row22_col0, #T_7cabe_row23_col0 {\n",
       "  background-color: #ee3a2c;\n",
       "  color: #f1f1f1;\n",
       "}\n",
       "#T_7cabe_row24_col0 {\n",
       "  background-color: #ef3c2c;\n",
       "  color: #f1f1f1;\n",
       "}\n",
       "#T_7cabe_row25_col0, #T_7cabe_row26_col0, #T_7cabe_row27_col0 {\n",
       "  background-color: #f03d2d;\n",
       "  color: #f1f1f1;\n",
       "}\n",
       "#T_7cabe_row28_col0 {\n",
       "  background-color: #f0402f;\n",
       "  color: #f1f1f1;\n",
       "}\n",
       "#T_7cabe_row29_col0 {\n",
       "  background-color: #fc8060;\n",
       "  color: #f1f1f1;\n",
       "}\n",
       "#T_7cabe_row30_col0 {\n",
       "  background-color: #fc8262;\n",
       "  color: #f1f1f1;\n",
       "}\n",
       "#T_7cabe_row31_col0 {\n",
       "  background-color: #fc9777;\n",
       "  color: #000000;\n",
       "}\n",
       "#T_7cabe_row32_col0, #T_7cabe_row33_col0, #T_7cabe_row34_col0, #T_7cabe_row35_col0, #T_7cabe_row36_col0, #T_7cabe_row37_col0 {\n",
       "  background-color: #fc9879;\n",
       "  color: #000000;\n",
       "}\n",
       "#T_7cabe_row38_col0, #T_7cabe_row39_col0 {\n",
       "  background-color: #fca78b;\n",
       "  color: #000000;\n",
       "}\n",
       "#T_7cabe_row40_col0, #T_7cabe_row41_col0, #T_7cabe_row42_col0, #T_7cabe_row43_col0, #T_7cabe_row44_col0, #T_7cabe_row45_col0 {\n",
       "  background-color: #fcaa8d;\n",
       "  color: #000000;\n",
       "}\n",
       "#T_7cabe_row46_col0, #T_7cabe_row47_col0, #T_7cabe_row48_col0 {\n",
       "  background-color: #fcad90;\n",
       "  color: #000000;\n",
       "}\n",
       "#T_7cabe_row49_col0 {\n",
       "  background-color: #fcae92;\n",
       "  color: #000000;\n",
       "}\n",
       "#T_7cabe_row50_col0 {\n",
       "  background-color: #feeae1;\n",
       "  color: #000000;\n",
       "}\n",
       "#T_7cabe_row51_col0, #T_7cabe_row52_col0, #T_7cabe_row53_col0 {\n",
       "  background-color: #ffeee7;\n",
       "  color: #000000;\n",
       "}\n",
       "#T_7cabe_row54_col0 {\n",
       "  background-color: #fff0e9;\n",
       "  color: #000000;\n",
       "}\n",
       "#T_7cabe_row55_col0 {\n",
       "  background-color: #fff4ef;\n",
       "  color: #000000;\n",
       "}\n",
       "#T_7cabe_row56_col0, #T_7cabe_row57_col0, #T_7cabe_row58_col0, #T_7cabe_row59_col0, #T_7cabe_row60_col0 {\n",
       "  background-color: #fff5f0;\n",
       "  color: #000000;\n",
       "}\n",
       "</style>\n",
       "<table id=\"T_7cabe\">\n",
       "  <thead>\n",
       "    <tr>\n",
       "      <th class=\"blank level0\" >&nbsp;</th>\n",
       "      <th id=\"T_7cabe_level0_col0\" class=\"col_heading level0 col0\" >Missing (%)</th>\n",
       "    </tr>\n",
       "  </thead>\n",
       "  <tbody>\n",
       "    <tr>\n",
       "      <th id=\"T_7cabe_level0_row0\" class=\"row_heading level0 row0\" >TiO2</th>\n",
       "      <td id=\"T_7cabe_row0_col0\" class=\"data row0 col0\" >99.969212</td>\n",
       "    </tr>\n",
       "    <tr>\n",
       "      <th id=\"T_7cabe_level0_row1\" class=\"row_heading level0 row1\" >Cl</th>\n",
       "      <td id=\"T_7cabe_row1_col0\" class=\"data row1 col0\" >99.969212</td>\n",
       "    </tr>\n",
       "    <tr>\n",
       "      <th id=\"T_7cabe_level0_row2\" class=\"row_heading level0 row2\" >Dehydration</th>\n",
       "      <td id=\"T_7cabe_row2_col0\" class=\"data row2 col0\" >75.554187</td>\n",
       "    </tr>\n",
       "    <tr>\n",
       "      <th id=\"T_7cabe_level0_row3\" class=\"row_heading level0 row3\" >CO2</th>\n",
       "      <td id=\"T_7cabe_row3_col0\" class=\"data row3 col0\" >72.998768</td>\n",
       "    </tr>\n",
       "    <tr>\n",
       "      <th id=\"T_7cabe_level0_row4\" class=\"row_heading level0 row4\" >K2SO4</th>\n",
       "      <td id=\"T_7cabe_row4_col0\" class=\"data row4 col0\" >72.967980</td>\n",
       "    </tr>\n",
       "    <tr>\n",
       "      <th id=\"T_7cabe_level0_row5\" class=\"row_heading level0 row5\" >Belite Beta</th>\n",
       "      <td id=\"T_7cabe_row5_col0\" class=\"data row5 col0\" >72.967980</td>\n",
       "    </tr>\n",
       "    <tr>\n",
       "      <th id=\"T_7cabe_level0_row6\" class=\"row_heading level0 row6\" >Ca(OH)2</th>\n",
       "      <td id=\"T_7cabe_row6_col0\" class=\"data row6 col0\" >72.967980</td>\n",
       "    </tr>\n",
       "    <tr>\n",
       "      <th id=\"T_7cabe_level0_row7\" class=\"row_heading level0 row7\" >CaCO3</th>\n",
       "      <td id=\"T_7cabe_row7_col0\" class=\"data row7 col0\" >72.967980</td>\n",
       "    </tr>\n",
       "    <tr>\n",
       "      <th id=\"T_7cabe_level0_row8\" class=\"row_heading level0 row8\" >Total Alkali as Na2O</th>\n",
       "      <td id=\"T_7cabe_row8_col0\" class=\"data row8 col0\" >72.752463</td>\n",
       "    </tr>\n",
       "    <tr>\n",
       "      <th id=\"T_7cabe_level0_row9\" class=\"row_heading level0 row9\" >Sieve 24 um</th>\n",
       "      <td id=\"T_7cabe_row9_col0\" class=\"data row9 col0\" >70.597291</td>\n",
       "    </tr>\n",
       "    <tr>\n",
       "      <th id=\"T_7cabe_level0_row10\" class=\"row_heading level0 row10\" >Cl-</th>\n",
       "      <td id=\"T_7cabe_row10_col0\" class=\"data row10 col0\" >70.504926</td>\n",
       "    </tr>\n",
       "    <tr>\n",
       "      <th id=\"T_7cabe_level0_row11\" class=\"row_heading level0 row11\" >%Gypsum</th>\n",
       "      <td id=\"T_7cabe_row11_col0\" class=\"data row11 col0\" >63.762315</td>\n",
       "    </tr>\n",
       "    <tr>\n",
       "      <th id=\"T_7cabe_level0_row12\" class=\"row_heading level0 row12\" >%Limestone</th>\n",
       "      <td id=\"T_7cabe_row12_col0\" class=\"data row12 col0\" >63.762315</td>\n",
       "    </tr>\n",
       "    <tr>\n",
       "      <th id=\"T_7cabe_level0_row13\" class=\"row_heading level0 row13\" >%Clinker</th>\n",
       "      <td id=\"T_7cabe_row13_col0\" class=\"data row13 col0\" >63.762315</td>\n",
       "    </tr>\n",
       "    <tr>\n",
       "      <th id=\"T_7cabe_level0_row14\" class=\"row_heading level0 row14\" >Bassanite</th>\n",
       "      <td id=\"T_7cabe_row14_col0\" class=\"data row14 col0\" >62.807882</td>\n",
       "    </tr>\n",
       "    <tr>\n",
       "      <th id=\"T_7cabe_level0_row15\" class=\"row_heading level0 row15\" >Muscovite</th>\n",
       "      <td id=\"T_7cabe_row15_col0\" class=\"data row15 col0\" >62.807882</td>\n",
       "    </tr>\n",
       "    <tr>\n",
       "      <th id=\"T_7cabe_level0_row16\" class=\"row_heading level0 row16\" >Dolomite</th>\n",
       "      <td id=\"T_7cabe_row16_col0\" class=\"data row16 col0\" >62.807882</td>\n",
       "    </tr>\n",
       "    <tr>\n",
       "      <th id=\"T_7cabe_level0_row17\" class=\"row_heading level0 row17\" >Calcite</th>\n",
       "      <td id=\"T_7cabe_row17_col0\" class=\"data row17 col0\" >62.807882</td>\n",
       "    </tr>\n",
       "    <tr>\n",
       "      <th id=\"T_7cabe_level0_row18\" class=\"row_heading level0 row18\" >Anhydrite</th>\n",
       "      <td id=\"T_7cabe_row18_col0\" class=\"data row18 col0\" >62.807882</td>\n",
       "    </tr>\n",
       "    <tr>\n",
       "      <th id=\"T_7cabe_level0_row19\" class=\"row_heading level0 row19\" >Beta C2S</th>\n",
       "      <td id=\"T_7cabe_row19_col0\" class=\"data row19 col0\" >62.777094</td>\n",
       "    </tr>\n",
       "    <tr>\n",
       "      <th id=\"T_7cabe_level0_row20\" class=\"row_heading level0 row20\" >Gamma C2S</th>\n",
       "      <td id=\"T_7cabe_row20_col0\" class=\"data row20 col0\" >62.777094</td>\n",
       "    </tr>\n",
       "    <tr>\n",
       "      <th id=\"T_7cabe_level0_row21\" class=\"row_heading level0 row21\" >Portlandite</th>\n",
       "      <td id=\"T_7cabe_row21_col0\" class=\"data row21 col0\" >62.777094</td>\n",
       "    </tr>\n",
       "    <tr>\n",
       "      <th id=\"T_7cabe_level0_row22\" class=\"row_heading level0 row22\" >Alpha C2S</th>\n",
       "      <td id=\"T_7cabe_row22_col0\" class=\"data row22 col0\" >62.777094</td>\n",
       "    </tr>\n",
       "    <tr>\n",
       "      <th id=\"T_7cabe_level0_row23\" class=\"row_heading level0 row23\" >Arcanite</th>\n",
       "      <td id=\"T_7cabe_row23_col0\" class=\"data row23 col0\" >62.777094</td>\n",
       "    </tr>\n",
       "    <tr>\n",
       "      <th id=\"T_7cabe_level0_row24\" class=\"row_heading level0 row24\" >Insoluble Residue</th>\n",
       "      <td id=\"T_7cabe_row24_col0\" class=\"data row24 col0\" >62.315271</td>\n",
       "    </tr>\n",
       "    <tr>\n",
       "      <th id=\"T_7cabe_level0_row25\" class=\"row_heading level0 row25\" >#200</th>\n",
       "      <td id=\"T_7cabe_row25_col0\" class=\"data row25 col0\" >62.038177</td>\n",
       "    </tr>\n",
       "    <tr>\n",
       "      <th id=\"T_7cabe_level0_row26\" class=\"row_heading level0 row26\" >Final setting time</th>\n",
       "      <td id=\"T_7cabe_row26_col0\" class=\"data row26 col0\" >62.038177</td>\n",
       "    </tr>\n",
       "    <tr>\n",
       "      <th id=\"T_7cabe_level0_row27\" class=\"row_heading level0 row27\" >Density</th>\n",
       "      <td id=\"T_7cabe_row27_col0\" class=\"data row27 col0\" >62.038177</td>\n",
       "    </tr>\n",
       "    <tr>\n",
       "      <th id=\"T_7cabe_level0_row28\" class=\"row_heading level0 row28\" >Langbeinite</th>\n",
       "      <td id=\"T_7cabe_row28_col0\" class=\"data row28 col0\" >61.114532</td>\n",
       "    </tr>\n",
       "    <tr>\n",
       "      <th id=\"T_7cabe_level0_row29\" class=\"row_heading level0 row29\" >Total C2S</th>\n",
       "      <td id=\"T_7cabe_row29_col0\" class=\"data row29 col0\" >43.195813</td>\n",
       "    </tr>\n",
       "    <tr>\n",
       "      <th id=\"T_7cabe_level0_row30\" class=\"row_heading level0 row30\" >#400</th>\n",
       "      <td id=\"T_7cabe_row30_col0\" class=\"data row30 col0\" >42.179803</td>\n",
       "    </tr>\n",
       "    <tr>\n",
       "      <th id=\"T_7cabe_level0_row31\" class=\"row_heading level0 row31\" >Soundness</th>\n",
       "      <td id=\"T_7cabe_row31_col0\" class=\"data row31 col0\" >36.022167</td>\n",
       "    </tr>\n",
       "    <tr>\n",
       "      <th id=\"T_7cabe_level0_row32\" class=\"row_heading level0 row32\" >Gypsum</th>\n",
       "      <td id=\"T_7cabe_row32_col0\" class=\"data row32 col0\" >35.775862</td>\n",
       "    </tr>\n",
       "    <tr>\n",
       "      <th id=\"T_7cabe_level0_row33\" class=\"row_heading level0 row33\" >Quartz</th>\n",
       "      <td id=\"T_7cabe_row33_col0\" class=\"data row33 col0\" >35.775862</td>\n",
       "    </tr>\n",
       "    <tr>\n",
       "      <th id=\"T_7cabe_level0_row34\" class=\"row_heading level0 row34\" >Periclase</th>\n",
       "      <td id=\"T_7cabe_row34_col0\" class=\"data row34 col0\" >35.745074</td>\n",
       "    </tr>\n",
       "    <tr>\n",
       "      <th id=\"T_7cabe_level0_row35\" class=\"row_heading level0 row35\" >Orthorhombic C3A</th>\n",
       "      <td id=\"T_7cabe_row35_col0\" class=\"data row35 col0\" >35.745074</td>\n",
       "    </tr>\n",
       "    <tr>\n",
       "      <th id=\"T_7cabe_level0_row36\" class=\"row_heading level0 row36\" >Aphthitalite</th>\n",
       "      <td id=\"T_7cabe_row36_col0\" class=\"data row36 col0\" >35.745074</td>\n",
       "    </tr>\n",
       "    <tr>\n",
       "      <th id=\"T_7cabe_level0_row37\" class=\"row_heading level0 row37\" >Cubic C3A</th>\n",
       "      <td id=\"T_7cabe_row37_col0\" class=\"data row37 col0\" >35.745074</td>\n",
       "    </tr>\n",
       "    <tr>\n",
       "      <th id=\"T_7cabe_level0_row38\" class=\"row_heading level0 row38\" >Total C3S</th>\n",
       "      <td id=\"T_7cabe_row38_col0\" class=\"data row38 col0\" >31.188424</td>\n",
       "    </tr>\n",
       "    <tr>\n",
       "      <th id=\"T_7cabe_level0_row39\" class=\"row_heading level0 row39\" >CS1</th>\n",
       "      <td id=\"T_7cabe_row39_col0\" class=\"data row39 col0\" >30.942118</td>\n",
       "    </tr>\n",
       "    <tr>\n",
       "      <th id=\"T_7cabe_level0_row40\" class=\"row_heading level0 row40\" >SiO2</th>\n",
       "      <td id=\"T_7cabe_row40_col0\" class=\"data row40 col0\" >30.080049</td>\n",
       "    </tr>\n",
       "    <tr>\n",
       "      <th id=\"T_7cabe_level0_row41\" class=\"row_heading level0 row41\" >Na2O</th>\n",
       "      <td id=\"T_7cabe_row41_col0\" class=\"data row41 col0\" >30.080049</td>\n",
       "    </tr>\n",
       "    <tr>\n",
       "      <th id=\"T_7cabe_level0_row42\" class=\"row_heading level0 row42\" >K2O</th>\n",
       "      <td id=\"T_7cabe_row42_col0\" class=\"data row42 col0\" >30.080049</td>\n",
       "    </tr>\n",
       "    <tr>\n",
       "      <th id=\"T_7cabe_level0_row43\" class=\"row_heading level0 row43\" >MgO</th>\n",
       "      <td id=\"T_7cabe_row43_col0\" class=\"data row43 col0\" >30.080049</td>\n",
       "    </tr>\n",
       "    <tr>\n",
       "      <th id=\"T_7cabe_level0_row44\" class=\"row_heading level0 row44\" >Fe2O3</th>\n",
       "      <td id=\"T_7cabe_row44_col0\" class=\"data row44 col0\" >30.080049</td>\n",
       "    </tr>\n",
       "    <tr>\n",
       "      <th id=\"T_7cabe_level0_row45\" class=\"row_heading level0 row45\" >Al2O3</th>\n",
       "      <td id=\"T_7cabe_row45_col0\" class=\"data row45 col0\" >30.080049</td>\n",
       "    </tr>\n",
       "    <tr>\n",
       "      <th id=\"T_7cabe_level0_row46\" class=\"row_heading level0 row46\" >CS7</th>\n",
       "      <td id=\"T_7cabe_row46_col0\" class=\"data row46 col0\" >29.556650</td>\n",
       "    </tr>\n",
       "    <tr>\n",
       "      <th id=\"T_7cabe_level0_row47\" class=\"row_heading level0 row47\" >#325</th>\n",
       "      <td id=\"T_7cabe_row47_col0\" class=\"data row47 col0\" >29.495074</td>\n",
       "    </tr>\n",
       "    <tr>\n",
       "      <th id=\"T_7cabe_level0_row48\" class=\"row_heading level0 row48\" >Initial setting time</th>\n",
       "      <td id=\"T_7cabe_row48_col0\" class=\"data row48 col0\" >29.495074</td>\n",
       "    </tr>\n",
       "    <tr>\n",
       "      <th id=\"T_7cabe_level0_row49\" class=\"row_heading level0 row49\" >CS3</th>\n",
       "      <td id=\"T_7cabe_row49_col0\" class=\"data row49 col0\" >28.910099</td>\n",
       "    </tr>\n",
       "    <tr>\n",
       "      <th id=\"T_7cabe_level0_row50\" class=\"row_heading level0 row50\" >Loss on Ignition</th>\n",
       "      <td id=\"T_7cabe_row50_col0\" class=\"data row50 col0\" >6.465517</td>\n",
       "    </tr>\n",
       "    <tr>\n",
       "      <th id=\"T_7cabe_level0_row51\" class=\"row_heading level0 row51\" >C3A</th>\n",
       "      <td id=\"T_7cabe_row51_col0\" class=\"data row51 col0\" >4.156404</td>\n",
       "    </tr>\n",
       "    <tr>\n",
       "      <th id=\"T_7cabe_level0_row52\" class=\"row_heading level0 row52\" >C4AF</th>\n",
       "      <td id=\"T_7cabe_row52_col0\" class=\"data row52 col0\" >4.156404</td>\n",
       "    </tr>\n",
       "    <tr>\n",
       "      <th id=\"T_7cabe_level0_row53\" class=\"row_heading level0 row53\" >Free CaO</th>\n",
       "      <td id=\"T_7cabe_row53_col0\" class=\"data row53 col0\" >4.033251</td>\n",
       "    </tr>\n",
       "    <tr>\n",
       "      <th id=\"T_7cabe_level0_row54\" class=\"row_heading level0 row54\" >CaO</th>\n",
       "      <td id=\"T_7cabe_row54_col0\" class=\"data row54 col0\" >3.048030</td>\n",
       "    </tr>\n",
       "    <tr>\n",
       "      <th id=\"T_7cabe_level0_row55\" class=\"row_heading level0 row55\" >SO3</th>\n",
       "      <td id=\"T_7cabe_row55_col0\" class=\"data row55 col0\" >0.615764</td>\n",
       "    </tr>\n",
       "    <tr>\n",
       "      <th id=\"T_7cabe_level0_row56\" class=\"row_heading level0 row56\" >Blaine</th>\n",
       "      <td id=\"T_7cabe_row56_col0\" class=\"data row56 col0\" >0.123153</td>\n",
       "    </tr>\n",
       "    <tr>\n",
       "      <th id=\"T_7cabe_level0_row57\" class=\"row_heading level0 row57\" >CS28</th>\n",
       "      <td id=\"T_7cabe_row57_col0\" class=\"data row57 col0\" >0.000000</td>\n",
       "    </tr>\n",
       "    <tr>\n",
       "      <th id=\"T_7cabe_level0_row58\" class=\"row_heading level0 row58\" >Cement_Type</th>\n",
       "      <td id=\"T_7cabe_row58_col0\" class=\"data row58 col0\" >0.000000</td>\n",
       "    </tr>\n",
       "    <tr>\n",
       "      <th id=\"T_7cabe_level0_row59\" class=\"row_heading level0 row59\" >Factory_Plant</th>\n",
       "      <td id=\"T_7cabe_row59_col0\" class=\"data row59 col0\" >0.000000</td>\n",
       "    </tr>\n",
       "    <tr>\n",
       "      <th id=\"T_7cabe_level0_row60\" class=\"row_heading level0 row60\" >Date</th>\n",
       "      <td id=\"T_7cabe_row60_col0\" class=\"data row60 col0\" >0.000000</td>\n",
       "    </tr>\n",
       "  </tbody>\n",
       "</table>\n"
      ],
      "text/plain": [
       "<pandas.io.formats.style.Styler at 0x7fd57aab8220>"
      ]
     },
     "execution_count": 45,
     "metadata": {},
     "output_type": "execute_result"
    },
    {
     "data": {
      "application/javascript": [
       "\n",
       "            setTimeout(function() {\n",
       "                var nbb_cell_id = 45;\n",
       "                var nbb_unformatted_code = \"(df.isna().sum() / df.shape[0] * 100).sort_values(ascending=False).to_frame(\\n    name=\\\"Missing (%)\\\"\\n).style.background_gradient(cmap=\\\"Reds\\\")\";\n",
       "                var nbb_formatted_code = \"(df.isna().sum() / df.shape[0] * 100).sort_values(ascending=False).to_frame(\\n    name=\\\"Missing (%)\\\"\\n).style.background_gradient(cmap=\\\"Reds\\\")\";\n",
       "                var nbb_cells = Jupyter.notebook.get_cells();\n",
       "                for (var i = 0; i < nbb_cells.length; ++i) {\n",
       "                    if (nbb_cells[i].input_prompt_number == nbb_cell_id) {\n",
       "                        if (nbb_cells[i].get_text() == nbb_unformatted_code) {\n",
       "                             nbb_cells[i].set_text(nbb_formatted_code);\n",
       "                        }\n",
       "                        break;\n",
       "                    }\n",
       "                }\n",
       "            }, 500);\n",
       "            "
      ],
      "text/plain": [
       "<IPython.core.display.Javascript object>"
      ]
     },
     "metadata": {},
     "output_type": "display_data"
    }
   ],
   "source": [
    "(df.isna().sum() / df.shape[0] * 100).sort_values(ascending=False).to_frame(\n",
    "    name=\"Missing (%)\"\n",
    ").style.background_gradient(cmap=\"Reds\")\n"
   ]
  },
  {
   "cell_type": "markdown",
   "id": "61cececd",
   "metadata": {},
   "source": [
    "### Zeroed Values (%)"
   ]
  },
  {
   "cell_type": "code",
   "execution_count": 46,
   "id": "ace9d1d7",
   "metadata": {},
   "outputs": [
    {
     "data": {
      "text/html": [
       "<style type=\"text/css\">\n",
       "#T_bac03_row0_col0 {\n",
       "  background-color: #67000d;\n",
       "  color: #f1f1f1;\n",
       "}\n",
       "#T_bac03_row1_col0 {\n",
       "  background-color: #b31218;\n",
       "  color: #f1f1f1;\n",
       "}\n",
       "#T_bac03_row2_col0 {\n",
       "  background-color: #fb6e4e;\n",
       "  color: #f1f1f1;\n",
       "}\n",
       "#T_bac03_row3_col0 {\n",
       "  background-color: #fca588;\n",
       "  color: #000000;\n",
       "}\n",
       "#T_bac03_row4_col0 {\n",
       "  background-color: #fcab8f;\n",
       "  color: #000000;\n",
       "}\n",
       "#T_bac03_row5_col0 {\n",
       "  background-color: #fee2d5;\n",
       "  color: #000000;\n",
       "}\n",
       "#T_bac03_row6_col0 {\n",
       "  background-color: #feeae1;\n",
       "  color: #000000;\n",
       "}\n",
       "#T_bac03_row7_col0 {\n",
       "  background-color: #fff2ec;\n",
       "  color: #000000;\n",
       "}\n",
       "#T_bac03_row8_col0, #T_bac03_row9_col0 {\n",
       "  background-color: #fff3ed;\n",
       "  color: #000000;\n",
       "}\n",
       "#T_bac03_row10_col0 {\n",
       "  background-color: #fff4ee;\n",
       "  color: #000000;\n",
       "}\n",
       "#T_bac03_row11_col0, #T_bac03_row12_col0 {\n",
       "  background-color: #fff4ef;\n",
       "  color: #000000;\n",
       "}\n",
       "#T_bac03_row13_col0, #T_bac03_row14_col0, #T_bac03_row15_col0, #T_bac03_row16_col0, #T_bac03_row17_col0, #T_bac03_row18_col0, #T_bac03_row19_col0, #T_bac03_row20_col0, #T_bac03_row21_col0, #T_bac03_row22_col0, #T_bac03_row23_col0, #T_bac03_row24_col0, #T_bac03_row25_col0, #T_bac03_row26_col0, #T_bac03_row27_col0, #T_bac03_row28_col0, #T_bac03_row29_col0, #T_bac03_row30_col0, #T_bac03_row31_col0, #T_bac03_row32_col0, #T_bac03_row33_col0, #T_bac03_row34_col0, #T_bac03_row35_col0, #T_bac03_row36_col0, #T_bac03_row37_col0, #T_bac03_row38_col0, #T_bac03_row39_col0, #T_bac03_row40_col0, #T_bac03_row41_col0, #T_bac03_row42_col0, #T_bac03_row43_col0, #T_bac03_row44_col0, #T_bac03_row45_col0, #T_bac03_row46_col0, #T_bac03_row47_col0, #T_bac03_row48_col0, #T_bac03_row49_col0, #T_bac03_row50_col0, #T_bac03_row51_col0, #T_bac03_row52_col0, #T_bac03_row53_col0, #T_bac03_row54_col0, #T_bac03_row55_col0, #T_bac03_row56_col0, #T_bac03_row57_col0 {\n",
       "  background-color: #fff5f0;\n",
       "  color: #000000;\n",
       "}\n",
       "</style>\n",
       "<table id=\"T_bac03\">\n",
       "  <thead>\n",
       "    <tr>\n",
       "      <th class=\"blank level0\" >&nbsp;</th>\n",
       "      <th id=\"T_bac03_level0_col0\" class=\"col_heading level0 col0\" >Zero (%)</th>\n",
       "    </tr>\n",
       "  </thead>\n",
       "  <tbody>\n",
       "    <tr>\n",
       "      <th id=\"T_bac03_level0_row0\" class=\"row_heading level0 row0\" >Soundness</th>\n",
       "      <td id=\"T_bac03_row0_col0\" class=\"data row0 col0\" >45.043103</td>\n",
       "    </tr>\n",
       "    <tr>\n",
       "      <th id=\"T_bac03_level0_row1\" class=\"row_heading level0 row1\" >Muscovite</th>\n",
       "      <td id=\"T_bac03_row1_col0\" class=\"data row1 col0\" >37.192118</td>\n",
       "    </tr>\n",
       "    <tr>\n",
       "      <th id=\"T_bac03_level0_row2\" class=\"row_heading level0 row2\" >Gamma C2S</th>\n",
       "      <td id=\"T_bac03_row2_col0\" class=\"data row2 col0\" >21.951970</td>\n",
       "    </tr>\n",
       "    <tr>\n",
       "      <th id=\"T_bac03_level0_row3\" class=\"row_heading level0 row3\" >Anhydrite</th>\n",
       "      <td id=\"T_bac03_row3_col0\" class=\"data row3 col0\" >14.347291</td>\n",
       "    </tr>\n",
       "    <tr>\n",
       "      <th id=\"T_bac03_level0_row4\" class=\"row_heading level0 row4\" >#200</th>\n",
       "      <td id=\"T_bac03_row4_col0\" class=\"data row4 col0\" >13.392857</td>\n",
       "    </tr>\n",
       "    <tr>\n",
       "      <th id=\"T_bac03_level0_row5\" class=\"row_heading level0 row5\" >Langbeinite</th>\n",
       "      <td id=\"T_bac03_row5_col0\" class=\"data row5 col0\" >5.172414</td>\n",
       "    </tr>\n",
       "    <tr>\n",
       "      <th id=\"T_bac03_level0_row6\" class=\"row_heading level0 row6\" >Arcanite</th>\n",
       "      <td id=\"T_bac03_row6_col0\" class=\"data row6 col0\" >2.924877</td>\n",
       "    </tr>\n",
       "    <tr>\n",
       "      <th id=\"T_bac03_level0_row7\" class=\"row_heading level0 row7\" >CaO</th>\n",
       "      <td id=\"T_bac03_row7_col0\" class=\"data row7 col0\" >0.708128</td>\n",
       "    </tr>\n",
       "    <tr>\n",
       "      <th id=\"T_bac03_level0_row8\" class=\"row_heading level0 row8\" >Alpha C2S</th>\n",
       "      <td id=\"T_bac03_row8_col0\" class=\"data row8 col0\" >0.615764</td>\n",
       "    </tr>\n",
       "    <tr>\n",
       "      <th id=\"T_bac03_level0_row9\" class=\"row_heading level0 row9\" >Dolomite</th>\n",
       "      <td id=\"T_bac03_row9_col0\" class=\"data row9 col0\" >0.554187</td>\n",
       "    </tr>\n",
       "    <tr>\n",
       "      <th id=\"T_bac03_level0_row10\" class=\"row_heading level0 row10\" >Gypsum</th>\n",
       "      <td id=\"T_bac03_row10_col0\" class=\"data row10 col0\" >0.400246</td>\n",
       "    </tr>\n",
       "    <tr>\n",
       "      <th id=\"T_bac03_level0_row11\" class=\"row_heading level0 row11\" >Bassanite</th>\n",
       "      <td id=\"T_bac03_row11_col0\" class=\"data row11 col0\" >0.277094</td>\n",
       "    </tr>\n",
       "    <tr>\n",
       "      <th id=\"T_bac03_level0_row12\" class=\"row_heading level0 row12\" >Free CaO</th>\n",
       "      <td id=\"T_bac03_row12_col0\" class=\"data row12 col0\" >0.246305</td>\n",
       "    </tr>\n",
       "    <tr>\n",
       "      <th id=\"T_bac03_level0_row13\" class=\"row_heading level0 row13\" >Na2O</th>\n",
       "      <td id=\"T_bac03_row13_col0\" class=\"data row13 col0\" >0.092365</td>\n",
       "    </tr>\n",
       "    <tr>\n",
       "      <th id=\"T_bac03_level0_row14\" class=\"row_heading level0 row14\" >Quartz</th>\n",
       "      <td id=\"T_bac03_row14_col0\" class=\"data row14 col0\" >0.092365</td>\n",
       "    </tr>\n",
       "    <tr>\n",
       "      <th id=\"T_bac03_level0_row15\" class=\"row_heading level0 row15\" >Aphthitalite</th>\n",
       "      <td id=\"T_bac03_row15_col0\" class=\"data row15 col0\" >0.092365</td>\n",
       "    </tr>\n",
       "    <tr>\n",
       "      <th id=\"T_bac03_level0_row16\" class=\"row_heading level0 row16\" >Cl</th>\n",
       "      <td id=\"T_bac03_row16_col0\" class=\"data row16 col0\" >0.030788</td>\n",
       "    </tr>\n",
       "    <tr>\n",
       "      <th id=\"T_bac03_level0_row17\" class=\"row_heading level0 row17\" >Ca(OH)2</th>\n",
       "      <td id=\"T_bac03_row17_col0\" class=\"data row17 col0\" >0.030788</td>\n",
       "    </tr>\n",
       "    <tr>\n",
       "      <th id=\"T_bac03_level0_row18\" class=\"row_heading level0 row18\" >Total Alkali as Na2O</th>\n",
       "      <td id=\"T_bac03_row18_col0\" class=\"data row18 col0\" >0.030788</td>\n",
       "    </tr>\n",
       "    <tr>\n",
       "      <th id=\"T_bac03_level0_row19\" class=\"row_heading level0 row19\" >Insoluble Residue</th>\n",
       "      <td id=\"T_bac03_row19_col0\" class=\"data row19 col0\" >0.000000</td>\n",
       "    </tr>\n",
       "    <tr>\n",
       "      <th id=\"T_bac03_level0_row20\" class=\"row_heading level0 row20\" >Density</th>\n",
       "      <td id=\"T_bac03_row20_col0\" class=\"data row20 col0\" >0.000000</td>\n",
       "    </tr>\n",
       "    <tr>\n",
       "      <th id=\"T_bac03_level0_row21\" class=\"row_heading level0 row21\" >Total C3S</th>\n",
       "      <td id=\"T_bac03_row21_col0\" class=\"data row21 col0\" >0.000000</td>\n",
       "    </tr>\n",
       "    <tr>\n",
       "      <th id=\"T_bac03_level0_row22\" class=\"row_heading level0 row22\" >Total C2S</th>\n",
       "      <td id=\"T_bac03_row22_col0\" class=\"data row22 col0\" >0.000000</td>\n",
       "    </tr>\n",
       "    <tr>\n",
       "      <th id=\"T_bac03_level0_row23\" class=\"row_heading level0 row23\" >Initial setting time</th>\n",
       "      <td id=\"T_bac03_row23_col0\" class=\"data row23 col0\" >0.000000</td>\n",
       "    </tr>\n",
       "    <tr>\n",
       "      <th id=\"T_bac03_level0_row24\" class=\"row_heading level0 row24\" >CS7</th>\n",
       "      <td id=\"T_bac03_row24_col0\" class=\"data row24 col0\" >0.000000</td>\n",
       "    </tr>\n",
       "    <tr>\n",
       "      <th id=\"T_bac03_level0_row25\" class=\"row_heading level0 row25\" >Portlandite</th>\n",
       "      <td id=\"T_bac03_row25_col0\" class=\"data row25 col0\" >0.000000</td>\n",
       "    </tr>\n",
       "    <tr>\n",
       "      <th id=\"T_bac03_level0_row26\" class=\"row_heading level0 row26\" >TiO2</th>\n",
       "      <td id=\"T_bac03_row26_col0\" class=\"data row26 col0\" >0.000000</td>\n",
       "    </tr>\n",
       "    <tr>\n",
       "      <th id=\"T_bac03_level0_row27\" class=\"row_heading level0 row27\" >Dehydration</th>\n",
       "      <td id=\"T_bac03_row27_col0\" class=\"data row27 col0\" >0.000000</td>\n",
       "    </tr>\n",
       "    <tr>\n",
       "      <th id=\"T_bac03_level0_row28\" class=\"row_heading level0 row28\" >%Clinker</th>\n",
       "      <td id=\"T_bac03_row28_col0\" class=\"data row28 col0\" >0.000000</td>\n",
       "    </tr>\n",
       "    <tr>\n",
       "      <th id=\"T_bac03_level0_row29\" class=\"row_heading level0 row29\" >%Limestone</th>\n",
       "      <td id=\"T_bac03_row29_col0\" class=\"data row29 col0\" >0.000000</td>\n",
       "    </tr>\n",
       "    <tr>\n",
       "      <th id=\"T_bac03_level0_row30\" class=\"row_heading level0 row30\" >%Gypsum</th>\n",
       "      <td id=\"T_bac03_row30_col0\" class=\"data row30 col0\" >0.000000</td>\n",
       "    </tr>\n",
       "    <tr>\n",
       "      <th id=\"T_bac03_level0_row31\" class=\"row_heading level0 row31\" >Beta C2S</th>\n",
       "      <td id=\"T_bac03_row31_col0\" class=\"data row31 col0\" >0.000000</td>\n",
       "    </tr>\n",
       "    <tr>\n",
       "      <th id=\"T_bac03_level0_row32\" class=\"row_heading level0 row32\" >Calcite</th>\n",
       "      <td id=\"T_bac03_row32_col0\" class=\"data row32 col0\" >0.000000</td>\n",
       "    </tr>\n",
       "    <tr>\n",
       "      <th id=\"T_bac03_level0_row33\" class=\"row_heading level0 row33\" >Final setting time</th>\n",
       "      <td id=\"T_bac03_row33_col0\" class=\"data row33 col0\" >0.000000</td>\n",
       "    </tr>\n",
       "    <tr>\n",
       "      <th id=\"T_bac03_level0_row34\" class=\"row_heading level0 row34\" >Cl-</th>\n",
       "      <td id=\"T_bac03_row34_col0\" class=\"data row34 col0\" >0.000000</td>\n",
       "    </tr>\n",
       "    <tr>\n",
       "      <th id=\"T_bac03_level0_row35\" class=\"row_heading level0 row35\" >K2O</th>\n",
       "      <td id=\"T_bac03_row35_col0\" class=\"data row35 col0\" >0.000000</td>\n",
       "    </tr>\n",
       "    <tr>\n",
       "      <th id=\"T_bac03_level0_row36\" class=\"row_heading level0 row36\" >#325</th>\n",
       "      <td id=\"T_bac03_row36_col0\" class=\"data row36 col0\" >0.000000</td>\n",
       "    </tr>\n",
       "    <tr>\n",
       "      <th id=\"T_bac03_level0_row37\" class=\"row_heading level0 row37\" >C3A</th>\n",
       "      <td id=\"T_bac03_row37_col0\" class=\"data row37 col0\" >0.000000</td>\n",
       "    </tr>\n",
       "    <tr>\n",
       "      <th id=\"T_bac03_level0_row38\" class=\"row_heading level0 row38\" >Loss on Ignition</th>\n",
       "      <td id=\"T_bac03_row38_col0\" class=\"data row38 col0\" >0.000000</td>\n",
       "    </tr>\n",
       "    <tr>\n",
       "      <th id=\"T_bac03_level0_row39\" class=\"row_heading level0 row39\" >CS1</th>\n",
       "      <td id=\"T_bac03_row39_col0\" class=\"data row39 col0\" >0.000000</td>\n",
       "    </tr>\n",
       "    <tr>\n",
       "      <th id=\"T_bac03_level0_row40\" class=\"row_heading level0 row40\" >CS3</th>\n",
       "      <td id=\"T_bac03_row40_col0\" class=\"data row40 col0\" >0.000000</td>\n",
       "    </tr>\n",
       "    <tr>\n",
       "      <th id=\"T_bac03_level0_row41\" class=\"row_heading level0 row41\" >CS28</th>\n",
       "      <td id=\"T_bac03_row41_col0\" class=\"data row41 col0\" >0.000000</td>\n",
       "    </tr>\n",
       "    <tr>\n",
       "      <th id=\"T_bac03_level0_row42\" class=\"row_heading level0 row42\" >Belite Beta</th>\n",
       "      <td id=\"T_bac03_row42_col0\" class=\"data row42 col0\" >0.000000</td>\n",
       "    </tr>\n",
       "    <tr>\n",
       "      <th id=\"T_bac03_level0_row43\" class=\"row_heading level0 row43\" >Cubic C3A</th>\n",
       "      <td id=\"T_bac03_row43_col0\" class=\"data row43 col0\" >0.000000</td>\n",
       "    </tr>\n",
       "    <tr>\n",
       "      <th id=\"T_bac03_level0_row44\" class=\"row_heading level0 row44\" >CaCO3</th>\n",
       "      <td id=\"T_bac03_row44_col0\" class=\"data row44 col0\" >0.000000</td>\n",
       "    </tr>\n",
       "    <tr>\n",
       "      <th id=\"T_bac03_level0_row45\" class=\"row_heading level0 row45\" >#400</th>\n",
       "      <td id=\"T_bac03_row45_col0\" class=\"data row45 col0\" >0.000000</td>\n",
       "    </tr>\n",
       "    <tr>\n",
       "      <th id=\"T_bac03_level0_row46\" class=\"row_heading level0 row46\" >Sieve 24 um</th>\n",
       "      <td id=\"T_bac03_row46_col0\" class=\"data row46 col0\" >0.000000</td>\n",
       "    </tr>\n",
       "    <tr>\n",
       "      <th id=\"T_bac03_level0_row47\" class=\"row_heading level0 row47\" >MgO</th>\n",
       "      <td id=\"T_bac03_row47_col0\" class=\"data row47 col0\" >0.000000</td>\n",
       "    </tr>\n",
       "    <tr>\n",
       "      <th id=\"T_bac03_level0_row48\" class=\"row_heading level0 row48\" >SO3</th>\n",
       "      <td id=\"T_bac03_row48_col0\" class=\"data row48 col0\" >0.000000</td>\n",
       "    </tr>\n",
       "    <tr>\n",
       "      <th id=\"T_bac03_level0_row49\" class=\"row_heading level0 row49\" >C4AF</th>\n",
       "      <td id=\"T_bac03_row49_col0\" class=\"data row49 col0\" >0.000000</td>\n",
       "    </tr>\n",
       "    <tr>\n",
       "      <th id=\"T_bac03_level0_row50\" class=\"row_heading level0 row50\" >CO2</th>\n",
       "      <td id=\"T_bac03_row50_col0\" class=\"data row50 col0\" >0.000000</td>\n",
       "    </tr>\n",
       "    <tr>\n",
       "      <th id=\"T_bac03_level0_row51\" class=\"row_heading level0 row51\" >K2SO4</th>\n",
       "      <td id=\"T_bac03_row51_col0\" class=\"data row51 col0\" >0.000000</td>\n",
       "    </tr>\n",
       "    <tr>\n",
       "      <th id=\"T_bac03_level0_row52\" class=\"row_heading level0 row52\" >Orthorhombic C3A</th>\n",
       "      <td id=\"T_bac03_row52_col0\" class=\"data row52 col0\" >0.000000</td>\n",
       "    </tr>\n",
       "    <tr>\n",
       "      <th id=\"T_bac03_level0_row53\" class=\"row_heading level0 row53\" >Periclase</th>\n",
       "      <td id=\"T_bac03_row53_col0\" class=\"data row53 col0\" >0.000000</td>\n",
       "    </tr>\n",
       "    <tr>\n",
       "      <th id=\"T_bac03_level0_row54\" class=\"row_heading level0 row54\" >SiO2</th>\n",
       "      <td id=\"T_bac03_row54_col0\" class=\"data row54 col0\" >0.000000</td>\n",
       "    </tr>\n",
       "    <tr>\n",
       "      <th id=\"T_bac03_level0_row55\" class=\"row_heading level0 row55\" >Al2O3</th>\n",
       "      <td id=\"T_bac03_row55_col0\" class=\"data row55 col0\" >0.000000</td>\n",
       "    </tr>\n",
       "    <tr>\n",
       "      <th id=\"T_bac03_level0_row56\" class=\"row_heading level0 row56\" >Blaine</th>\n",
       "      <td id=\"T_bac03_row56_col0\" class=\"data row56 col0\" >0.000000</td>\n",
       "    </tr>\n",
       "    <tr>\n",
       "      <th id=\"T_bac03_level0_row57\" class=\"row_heading level0 row57\" >Fe2O3</th>\n",
       "      <td id=\"T_bac03_row57_col0\" class=\"data row57 col0\" >0.000000</td>\n",
       "    </tr>\n",
       "  </tbody>\n",
       "</table>\n"
      ],
      "text/plain": [
       "<pandas.io.formats.style.Styler at 0x7fd57b593730>"
      ]
     },
     "execution_count": 46,
     "metadata": {},
     "output_type": "execute_result"
    },
    {
     "data": {
      "application/javascript": [
       "\n",
       "            setTimeout(function() {\n",
       "                var nbb_cell_id = 46;\n",
       "                var nbb_unformatted_code = \"zero_values = {}\\nfor col in df.select_dtypes(include=\\\"number\\\").columns:\\n    zero_percentages = (df[df[col].eq(0)].shape[0] / df.shape[0]) * 100\\n    zero_values[col] = zero_percentages\\n\\nzero_percentages = pd.Series(zero_values, name=f\\\"Zero (%)\\\")\\nzero_percentages = zero_percentages.sort_values(ascending=False)\\nzero_percentages = zero_percentages.to_frame(name=f\\\"Zero (%)\\\")\\nzero_percentages.style.background_gradient(cmap=\\\"Reds\\\")\";\n",
       "                var nbb_formatted_code = \"zero_values = {}\\nfor col in df.select_dtypes(include=\\\"number\\\").columns:\\n    zero_percentages = (df[df[col].eq(0)].shape[0] / df.shape[0]) * 100\\n    zero_values[col] = zero_percentages\\n\\nzero_percentages = pd.Series(zero_values, name=f\\\"Zero (%)\\\")\\nzero_percentages = zero_percentages.sort_values(ascending=False)\\nzero_percentages = zero_percentages.to_frame(name=f\\\"Zero (%)\\\")\\nzero_percentages.style.background_gradient(cmap=\\\"Reds\\\")\";\n",
       "                var nbb_cells = Jupyter.notebook.get_cells();\n",
       "                for (var i = 0; i < nbb_cells.length; ++i) {\n",
       "                    if (nbb_cells[i].input_prompt_number == nbb_cell_id) {\n",
       "                        if (nbb_cells[i].get_text() == nbb_unformatted_code) {\n",
       "                             nbb_cells[i].set_text(nbb_formatted_code);\n",
       "                        }\n",
       "                        break;\n",
       "                    }\n",
       "                }\n",
       "            }, 500);\n",
       "            "
      ],
      "text/plain": [
       "<IPython.core.display.Javascript object>"
      ]
     },
     "metadata": {},
     "output_type": "display_data"
    }
   ],
   "source": [
    "zero_values = {}\n",
    "for col in df.select_dtypes(include=\"number\").columns:\n",
    "    zero_percentages = (df[df[col].eq(0)].shape[0] / df.shape[0]) * 100\n",
    "    zero_values[col] = zero_percentages\n",
    "\n",
    "zero_percentages = pd.Series(zero_values, name=f\"Zero (%)\")\n",
    "zero_percentages = zero_percentages.sort_values(ascending=False)\n",
    "zero_percentages = zero_percentages.to_frame(name=f\"Zero (%)\")\n",
    "zero_percentages.style.background_gradient(cmap=\"Reds\")"
   ]
  },
  {
   "cell_type": "markdown",
   "id": "1dfccbec",
   "metadata": {},
   "source": [
    "### Drop rows where the target variable is null"
   ]
  },
  {
   "cell_type": "code",
   "execution_count": 47,
   "id": "463d2d4a",
   "metadata": {},
   "outputs": [
    {
     "data": {
      "application/javascript": [
       "\n",
       "            setTimeout(function() {\n",
       "                var nbb_cell_id = 47;\n",
       "                var nbb_unformatted_code = \"df = df[df[\\\"CS28\\\"].notna()]\";\n",
       "                var nbb_formatted_code = \"df = df[df[\\\"CS28\\\"].notna()]\";\n",
       "                var nbb_cells = Jupyter.notebook.get_cells();\n",
       "                for (var i = 0; i < nbb_cells.length; ++i) {\n",
       "                    if (nbb_cells[i].input_prompt_number == nbb_cell_id) {\n",
       "                        if (nbb_cells[i].get_text() == nbb_unformatted_code) {\n",
       "                             nbb_cells[i].set_text(nbb_formatted_code);\n",
       "                        }\n",
       "                        break;\n",
       "                    }\n",
       "                }\n",
       "            }, 500);\n",
       "            "
      ],
      "text/plain": [
       "<IPython.core.display.Javascript object>"
      ]
     },
     "metadata": {},
     "output_type": "display_data"
    }
   ],
   "source": [
    "df = df[df[\"CS28\"].notna()]"
   ]
  },
  {
   "cell_type": "code",
   "execution_count": 48,
   "id": "4bce908b",
   "metadata": {},
   "outputs": [
    {
     "data": {
      "text/plain": [
       "(3248, 61)"
      ]
     },
     "execution_count": 48,
     "metadata": {},
     "output_type": "execute_result"
    },
    {
     "data": {
      "application/javascript": [
       "\n",
       "            setTimeout(function() {\n",
       "                var nbb_cell_id = 48;\n",
       "                var nbb_unformatted_code = \"df.shape\";\n",
       "                var nbb_formatted_code = \"df.shape\";\n",
       "                var nbb_cells = Jupyter.notebook.get_cells();\n",
       "                for (var i = 0; i < nbb_cells.length; ++i) {\n",
       "                    if (nbb_cells[i].input_prompt_number == nbb_cell_id) {\n",
       "                        if (nbb_cells[i].get_text() == nbb_unformatted_code) {\n",
       "                             nbb_cells[i].set_text(nbb_formatted_code);\n",
       "                        }\n",
       "                        break;\n",
       "                    }\n",
       "                }\n",
       "            }, 500);\n",
       "            "
      ],
      "text/plain": [
       "<IPython.core.display.Javascript object>"
      ]
     },
     "metadata": {},
     "output_type": "display_data"
    }
   ],
   "source": [
    "df.shape"
   ]
  },
  {
   "cell_type": "markdown",
   "id": "f266a251",
   "metadata": {},
   "source": [
    "### Dropping rows where the target variable is zero"
   ]
  },
  {
   "cell_type": "code",
   "execution_count": 49,
   "id": "289add64",
   "metadata": {},
   "outputs": [
    {
     "data": {
      "application/javascript": [
       "\n",
       "            setTimeout(function() {\n",
       "                var nbb_cell_id = 49;\n",
       "                var nbb_unformatted_code = \"df = df[~df[\\\"CS28\\\"].eq(0)]\";\n",
       "                var nbb_formatted_code = \"df = df[~df[\\\"CS28\\\"].eq(0)]\";\n",
       "                var nbb_cells = Jupyter.notebook.get_cells();\n",
       "                for (var i = 0; i < nbb_cells.length; ++i) {\n",
       "                    if (nbb_cells[i].input_prompt_number == nbb_cell_id) {\n",
       "                        if (nbb_cells[i].get_text() == nbb_unformatted_code) {\n",
       "                             nbb_cells[i].set_text(nbb_formatted_code);\n",
       "                        }\n",
       "                        break;\n",
       "                    }\n",
       "                }\n",
       "            }, 500);\n",
       "            "
      ],
      "text/plain": [
       "<IPython.core.display.Javascript object>"
      ]
     },
     "metadata": {},
     "output_type": "display_data"
    }
   ],
   "source": [
    "df = df[~df[\"CS28\"].eq(0)]"
   ]
  },
  {
   "cell_type": "code",
   "execution_count": 50,
   "id": "9fbae351",
   "metadata": {},
   "outputs": [
    {
     "data": {
      "text/plain": [
       "(3248, 61)"
      ]
     },
     "execution_count": 50,
     "metadata": {},
     "output_type": "execute_result"
    },
    {
     "data": {
      "application/javascript": [
       "\n",
       "            setTimeout(function() {\n",
       "                var nbb_cell_id = 50;\n",
       "                var nbb_unformatted_code = \"df.shape\";\n",
       "                var nbb_formatted_code = \"df.shape\";\n",
       "                var nbb_cells = Jupyter.notebook.get_cells();\n",
       "                for (var i = 0; i < nbb_cells.length; ++i) {\n",
       "                    if (nbb_cells[i].input_prompt_number == nbb_cell_id) {\n",
       "                        if (nbb_cells[i].get_text() == nbb_unformatted_code) {\n",
       "                             nbb_cells[i].set_text(nbb_formatted_code);\n",
       "                        }\n",
       "                        break;\n",
       "                    }\n",
       "                }\n",
       "            }, 500);\n",
       "            "
      ],
      "text/plain": [
       "<IPython.core.display.Javascript object>"
      ]
     },
     "metadata": {},
     "output_type": "display_data"
    }
   ],
   "source": [
    "df.shape"
   ]
  },
  {
   "cell_type": "markdown",
   "id": "899ac23a",
   "metadata": {},
   "source": [
    "### Plant and cement type info"
   ]
  },
  {
   "cell_type": "code",
   "execution_count": 51,
   "id": "5b4488f8",
   "metadata": {},
   "outputs": [
    {
     "data": {
      "text/plain": [
       "array(['partner_iv', 'partner_ii', 'partner_i'], dtype=object)"
      ]
     },
     "execution_count": 51,
     "metadata": {},
     "output_type": "execute_result"
    },
    {
     "data": {
      "application/javascript": [
       "\n",
       "            setTimeout(function() {\n",
       "                var nbb_cell_id = 51;\n",
       "                var nbb_unformatted_code = \"df[\\\"Factory_Plant\\\"].unique()\";\n",
       "                var nbb_formatted_code = \"df[\\\"Factory_Plant\\\"].unique()\";\n",
       "                var nbb_cells = Jupyter.notebook.get_cells();\n",
       "                for (var i = 0; i < nbb_cells.length; ++i) {\n",
       "                    if (nbb_cells[i].input_prompt_number == nbb_cell_id) {\n",
       "                        if (nbb_cells[i].get_text() == nbb_unformatted_code) {\n",
       "                             nbb_cells[i].set_text(nbb_formatted_code);\n",
       "                        }\n",
       "                        break;\n",
       "                    }\n",
       "                }\n",
       "            }, 500);\n",
       "            "
      ],
      "text/plain": [
       "<IPython.core.display.Javascript object>"
      ]
     },
     "metadata": {},
     "output_type": "display_data"
    }
   ],
   "source": [
    "df[\"Factory_Plant\"].unique()"
   ]
  },
  {
   "cell_type": "code",
   "execution_count": 52,
   "id": "71127cb0",
   "metadata": {},
   "outputs": [
    {
     "data": {
      "text/plain": [
       "array(['CEM A', 'CEM B', 'CEM C', 'Type III', 'Type I-II', 'Type IL',\n",
       "       'CPVARI Expedido', 'CPIIF40 Expedido', 'CPIIF32 Expedido'],\n",
       "      dtype=object)"
      ]
     },
     "execution_count": 52,
     "metadata": {},
     "output_type": "execute_result"
    },
    {
     "data": {
      "application/javascript": [
       "\n",
       "            setTimeout(function() {\n",
       "                var nbb_cell_id = 52;\n",
       "                var nbb_unformatted_code = \"df[\\\"Cement_Type\\\"].unique()\";\n",
       "                var nbb_formatted_code = \"df[\\\"Cement_Type\\\"].unique()\";\n",
       "                var nbb_cells = Jupyter.notebook.get_cells();\n",
       "                for (var i = 0; i < nbb_cells.length; ++i) {\n",
       "                    if (nbb_cells[i].input_prompt_number == nbb_cell_id) {\n",
       "                        if (nbb_cells[i].get_text() == nbb_unformatted_code) {\n",
       "                             nbb_cells[i].set_text(nbb_formatted_code);\n",
       "                        }\n",
       "                        break;\n",
       "                    }\n",
       "                }\n",
       "            }, 500);\n",
       "            "
      ],
      "text/plain": [
       "<IPython.core.display.Javascript object>"
      ]
     },
     "metadata": {},
     "output_type": "display_data"
    }
   ],
   "source": [
    "df[\"Cement_Type\"].unique()"
   ]
  },
  {
   "cell_type": "code",
   "execution_count": 53,
   "id": "6600c655",
   "metadata": {},
   "outputs": [
    {
     "data": {
      "text/plain": [
       "0        CPVARI Expedido\n",
       "1       CPIIF40 Expedido\n",
       "2        CPVARI Expedido\n",
       "3       CPIIF32 Expedido\n",
       "4       CPIIF40 Expedido\n",
       "              ...       \n",
       "1260    CPIIF32 Expedido\n",
       "1261    CPIIF40 Expedido\n",
       "1262    CPIIF40 Expedido\n",
       "1263    CPIIF32 Expedido\n",
       "1264    CPIIF40 Expedido\n",
       "Name: Cement_Type, Length: 1265, dtype: object"
      ]
     },
     "execution_count": 53,
     "metadata": {},
     "output_type": "execute_result"
    },
    {
     "data": {
      "application/javascript": [
       "\n",
       "            setTimeout(function() {\n",
       "                var nbb_cell_id = 53;\n",
       "                var nbb_unformatted_code = \"df_partner_i[\\\"Cement_Type\\\"]\";\n",
       "                var nbb_formatted_code = \"df_partner_i[\\\"Cement_Type\\\"]\";\n",
       "                var nbb_cells = Jupyter.notebook.get_cells();\n",
       "                for (var i = 0; i < nbb_cells.length; ++i) {\n",
       "                    if (nbb_cells[i].input_prompt_number == nbb_cell_id) {\n",
       "                        if (nbb_cells[i].get_text() == nbb_unformatted_code) {\n",
       "                             nbb_cells[i].set_text(nbb_formatted_code);\n",
       "                        }\n",
       "                        break;\n",
       "                    }\n",
       "                }\n",
       "            }, 500);\n",
       "            "
      ],
      "text/plain": [
       "<IPython.core.display.Javascript object>"
      ]
     },
     "metadata": {},
     "output_type": "display_data"
    }
   ],
   "source": [
    "df_partner_i[\"Cement_Type\"]"
   ]
  },
  {
   "cell_type": "markdown",
   "id": "ed5822a0",
   "metadata": {},
   "source": [
    "## Standardize Cement Type naming"
   ]
  },
  {
   "cell_type": "code",
   "execution_count": 54,
   "id": "12a8ce78",
   "metadata": {},
   "outputs": [
    {
     "data": {
      "application/javascript": [
       "\n",
       "            setTimeout(function() {\n",
       "                var nbb_cell_id = 54;\n",
       "                var nbb_unformatted_code = \"# Preprocessing\\ndf[\\\"Cement_Type\\\"] = (\\n    df[\\\"Cement_Type\\\"]\\n    .str.replace(\\\"Expedido\\\", \\\"\\\")\\n    .str.replace(\\\"Linha 9\\\", \\\"\\\")\\n    .str.replace(\\\"Itaja\\u00ed\\\", \\\"\\\")\\n    .str.replace(\\\"D-G\\\", \\\"\\\")\\n    .str.replace(\\\"D-E\\\", \\\"\\\")\\n    .str.replace(\\\"DF2\\\", \\\"\\\")\\n    .str.replace(\\\"CPIIF40\\\", \\\"CP II-F-40\\\")\\n    .str.replace(\\\"CPIIF40\\\", \\\"CP II-F-40\\\")\\n    .str.replace(\\\"CP VARI\\\", \\\"CP V-ARI\\\")\\n    .str.replace(\\\"CPV ARI\\\", \\\"CP V-ARI\\\")\\n    .str.replace(\\\"CPVARI\\\", \\\"CP V-ARI\\\")\\n    .str.replace(\\\"CP V-RSARI\\\", \\\"CP V-ARI RS\\\")\\n    .str.replace(\\\"CPV ARI RS\\\", \\\"CP V-ARI RS\\\")\\n    .str.replace(\\\"CP III-RS40\\\", \\\"CP III-40 RS\\\")\\n    .str.replace(\\\"CPIII 40 RS\\\", \\\"CP III-40 RS\\\")\\n    .str.replace(\\\"CP III-RS32\\\", \\\"CP III-32 RS\\\")\\n    .str.replace(\\\"CPIV32RS\\\", \\\"CP IV-32 RS\\\")\\n    .str.replace(\\\"CP IV-RS32\\\", \\\"CP IV-32 RS\\\")\\n    .str.replace(\\\"CP III40\\\", \\\"CP III-40\\\")\\n    .str.replace(\\\"CPIII40\\\", \\\"CP III-40\\\")\\n    .str.replace(\\\"CP III32\\\", \\\"CP III-32\\\")\\n    .str.replace(\\\"CP I-S40\\\", \\\"CP I-S-40\\\")\\n    .str.replace(\\\"CP I40\\\", \\\"CP I-40\\\")\\n    .str.replace(\\\"CP II-E32\\\", \\\"CP II-E-32\\\")\\n    .str.replace(\\\"CP II E 32\\\", \\\"CP II-E-32\\\")\\n    .str.replace(\\\"CP II E 32\\\", \\\"CP II-E-32\\\")\\n    .str.replace(\\\"CP II-E40\\\", \\\"CP II-E-40\\\")\\n    .str.replace(\\\"CP II-F FIBRO40\\\", \\\"CP II-F-40\\\")\\n    .str.replace(\\\"CP II-F32\\\", \\\"CP II-F-32\\\")\\n    .str.replace(\\\"CPII F 32\\\", \\\"CP II-F-32\\\")\\n    .str.replace(\\\"CPII F32\\\", \\\"CP II-F-32\\\")\\n    .str.replace(\\\"CPIIF32\\\", \\\"CP II-F-32\\\")\\n    .str.replace(\\\"CP II-F40\\\", \\\"CP II-F-40\\\")\\n    .str.replace(\\\"CPII F40\\\", \\\"CP II-F-40\\\")\\n    .str.replace(\\\"CP II-Z32\\\", \\\"CP II-Z-32\\\")\\n    .str.replace(\\\"CP II-Z40\\\", \\\"CP II-Z-40\\\")\\n    .str.replace(\\\"CP IV32\\\", \\\"CP IV-32\\\")\\n    .str.replace(\\\"CPIV 32\\\", \\\"CP IV-32\\\")\\n    .str.replace(\\\"CP IND\\\", \\\"CP I\\\")\\n    .str.replace(\\\"CPINDCC\\\", \\\"CP I\\\")\\n    .str.strip()\\n)\";\n",
       "                var nbb_formatted_code = \"# Preprocessing\\ndf[\\\"Cement_Type\\\"] = (\\n    df[\\\"Cement_Type\\\"]\\n    .str.replace(\\\"Expedido\\\", \\\"\\\")\\n    .str.replace(\\\"Linha 9\\\", \\\"\\\")\\n    .str.replace(\\\"Itaja\\u00ed\\\", \\\"\\\")\\n    .str.replace(\\\"D-G\\\", \\\"\\\")\\n    .str.replace(\\\"D-E\\\", \\\"\\\")\\n    .str.replace(\\\"DF2\\\", \\\"\\\")\\n    .str.replace(\\\"CPIIF40\\\", \\\"CP II-F-40\\\")\\n    .str.replace(\\\"CPIIF40\\\", \\\"CP II-F-40\\\")\\n    .str.replace(\\\"CP VARI\\\", \\\"CP V-ARI\\\")\\n    .str.replace(\\\"CPV ARI\\\", \\\"CP V-ARI\\\")\\n    .str.replace(\\\"CPVARI\\\", \\\"CP V-ARI\\\")\\n    .str.replace(\\\"CP V-RSARI\\\", \\\"CP V-ARI RS\\\")\\n    .str.replace(\\\"CPV ARI RS\\\", \\\"CP V-ARI RS\\\")\\n    .str.replace(\\\"CP III-RS40\\\", \\\"CP III-40 RS\\\")\\n    .str.replace(\\\"CPIII 40 RS\\\", \\\"CP III-40 RS\\\")\\n    .str.replace(\\\"CP III-RS32\\\", \\\"CP III-32 RS\\\")\\n    .str.replace(\\\"CPIV32RS\\\", \\\"CP IV-32 RS\\\")\\n    .str.replace(\\\"CP IV-RS32\\\", \\\"CP IV-32 RS\\\")\\n    .str.replace(\\\"CP III40\\\", \\\"CP III-40\\\")\\n    .str.replace(\\\"CPIII40\\\", \\\"CP III-40\\\")\\n    .str.replace(\\\"CP III32\\\", \\\"CP III-32\\\")\\n    .str.replace(\\\"CP I-S40\\\", \\\"CP I-S-40\\\")\\n    .str.replace(\\\"CP I40\\\", \\\"CP I-40\\\")\\n    .str.replace(\\\"CP II-E32\\\", \\\"CP II-E-32\\\")\\n    .str.replace(\\\"CP II E 32\\\", \\\"CP II-E-32\\\")\\n    .str.replace(\\\"CP II E 32\\\", \\\"CP II-E-32\\\")\\n    .str.replace(\\\"CP II-E40\\\", \\\"CP II-E-40\\\")\\n    .str.replace(\\\"CP II-F FIBRO40\\\", \\\"CP II-F-40\\\")\\n    .str.replace(\\\"CP II-F32\\\", \\\"CP II-F-32\\\")\\n    .str.replace(\\\"CPII F 32\\\", \\\"CP II-F-32\\\")\\n    .str.replace(\\\"CPII F32\\\", \\\"CP II-F-32\\\")\\n    .str.replace(\\\"CPIIF32\\\", \\\"CP II-F-32\\\")\\n    .str.replace(\\\"CP II-F40\\\", \\\"CP II-F-40\\\")\\n    .str.replace(\\\"CPII F40\\\", \\\"CP II-F-40\\\")\\n    .str.replace(\\\"CP II-Z32\\\", \\\"CP II-Z-32\\\")\\n    .str.replace(\\\"CP II-Z40\\\", \\\"CP II-Z-40\\\")\\n    .str.replace(\\\"CP IV32\\\", \\\"CP IV-32\\\")\\n    .str.replace(\\\"CPIV 32\\\", \\\"CP IV-32\\\")\\n    .str.replace(\\\"CP IND\\\", \\\"CP I\\\")\\n    .str.replace(\\\"CPINDCC\\\", \\\"CP I\\\")\\n    .str.strip()\\n)\";\n",
       "                var nbb_cells = Jupyter.notebook.get_cells();\n",
       "                for (var i = 0; i < nbb_cells.length; ++i) {\n",
       "                    if (nbb_cells[i].input_prompt_number == nbb_cell_id) {\n",
       "                        if (nbb_cells[i].get_text() == nbb_unformatted_code) {\n",
       "                             nbb_cells[i].set_text(nbb_formatted_code);\n",
       "                        }\n",
       "                        break;\n",
       "                    }\n",
       "                }\n",
       "            }, 500);\n",
       "            "
      ],
      "text/plain": [
       "<IPython.core.display.Javascript object>"
      ]
     },
     "metadata": {},
     "output_type": "display_data"
    }
   ],
   "source": [
    "# Preprocessing\n",
    "df[\"Cement_Type\"] = (\n",
    "    df[\"Cement_Type\"]\n",
    "    .str.replace(\"Expedido\", \"\")\n",
    "    .str.replace(\"Linha 9\", \"\")\n",
    "    .str.replace(\"Itajaí\", \"\")\n",
    "    .str.replace(\"D-G\", \"\")\n",
    "    .str.replace(\"D-E\", \"\")\n",
    "    .str.replace(\"DF2\", \"\")\n",
    "    .str.replace(\"CPIIF40\", \"CP II-F-40\")\n",
    "    .str.replace(\"CPIIF40\", \"CP II-F-40\")\n",
    "    .str.replace(\"CP VARI\", \"CP V-ARI\")\n",
    "    .str.replace(\"CPV ARI\", \"CP V-ARI\")\n",
    "    .str.replace(\"CPVARI\", \"CP V-ARI\")\n",
    "    .str.replace(\"CP V-RSARI\", \"CP V-ARI RS\")\n",
    "    .str.replace(\"CPV ARI RS\", \"CP V-ARI RS\")\n",
    "    .str.replace(\"CP III-RS40\", \"CP III-40 RS\")\n",
    "    .str.replace(\"CPIII 40 RS\", \"CP III-40 RS\")\n",
    "    .str.replace(\"CP III-RS32\", \"CP III-32 RS\")\n",
    "    .str.replace(\"CPIV32RS\", \"CP IV-32 RS\")\n",
    "    .str.replace(\"CP IV-RS32\", \"CP IV-32 RS\")\n",
    "    .str.replace(\"CP III40\", \"CP III-40\")\n",
    "    .str.replace(\"CPIII40\", \"CP III-40\")\n",
    "    .str.replace(\"CP III32\", \"CP III-32\")\n",
    "    .str.replace(\"CP I-S40\", \"CP I-S-40\")\n",
    "    .str.replace(\"CP I40\", \"CP I-40\")\n",
    "    .str.replace(\"CP II-E32\", \"CP II-E-32\")\n",
    "    .str.replace(\"CP II E 32\", \"CP II-E-32\")\n",
    "    .str.replace(\"CP II E 32\", \"CP II-E-32\")\n",
    "    .str.replace(\"CP II-E40\", \"CP II-E-40\")\n",
    "    .str.replace(\"CP II-F FIBRO40\", \"CP II-F-40\")\n",
    "    .str.replace(\"CP II-F32\", \"CP II-F-32\")\n",
    "    .str.replace(\"CPII F 32\", \"CP II-F-32\")\n",
    "    .str.replace(\"CPII F32\", \"CP II-F-32\")\n",
    "    .str.replace(\"CPIIF32\", \"CP II-F-32\")\n",
    "    .str.replace(\"CP II-F40\", \"CP II-F-40\")\n",
    "    .str.replace(\"CPII F40\", \"CP II-F-40\")\n",
    "    .str.replace(\"CP II-Z32\", \"CP II-Z-32\")\n",
    "    .str.replace(\"CP II-Z40\", \"CP II-Z-40\")\n",
    "    .str.replace(\"CP IV32\", \"CP IV-32\")\n",
    "    .str.replace(\"CPIV 32\", \"CP IV-32\")\n",
    "    .str.replace(\"CP IND\", \"CP I\")\n",
    "    .str.replace(\"CPINDCC\", \"CP I\")\n",
    "    .str.strip()\n",
    ")"
   ]
  },
  {
   "cell_type": "code",
   "execution_count": 55,
   "id": "1666cff8",
   "metadata": {
    "scrolled": false
   },
   "outputs": [
    {
     "name": "stdout",
     "output_type": "stream",
     "text": [
      "CEM A\n",
      "CEM B\n",
      "CEM C\n",
      "CP II-F-32\n",
      "CP II-F-40\n",
      "CP V-ARI\n",
      "Type I-II\n",
      "Type III\n",
      "Type IL\n"
     ]
    },
    {
     "data": {
      "application/javascript": [
       "\n",
       "            setTimeout(function() {\n",
       "                var nbb_cell_id = 55;\n",
       "                var nbb_unformatted_code = \"for cement_type in df[\\\"Cement_Type\\\"].sort_values().unique():\\n    print(cement_type)\";\n",
       "                var nbb_formatted_code = \"for cement_type in df[\\\"Cement_Type\\\"].sort_values().unique():\\n    print(cement_type)\";\n",
       "                var nbb_cells = Jupyter.notebook.get_cells();\n",
       "                for (var i = 0; i < nbb_cells.length; ++i) {\n",
       "                    if (nbb_cells[i].input_prompt_number == nbb_cell_id) {\n",
       "                        if (nbb_cells[i].get_text() == nbb_unformatted_code) {\n",
       "                             nbb_cells[i].set_text(nbb_formatted_code);\n",
       "                        }\n",
       "                        break;\n",
       "                    }\n",
       "                }\n",
       "            }, 500);\n",
       "            "
      ],
      "text/plain": [
       "<IPython.core.display.Javascript object>"
      ]
     },
     "metadata": {},
     "output_type": "display_data"
    }
   ],
   "source": [
    "for cement_type in df[\"Cement_Type\"].sort_values().unique():\n",
    "    print(cement_type)"
   ]
  },
  {
   "cell_type": "code",
   "execution_count": 56,
   "id": "2cc6c5d6",
   "metadata": {},
   "outputs": [
    {
     "data": {
      "text/plain": [
       "9"
      ]
     },
     "execution_count": 56,
     "metadata": {},
     "output_type": "execute_result"
    },
    {
     "data": {
      "application/javascript": [
       "\n",
       "            setTimeout(function() {\n",
       "                var nbb_cell_id = 56;\n",
       "                var nbb_unformatted_code = \"df[\\\"Cement_Type\\\"].nunique()\";\n",
       "                var nbb_formatted_code = \"df[\\\"Cement_Type\\\"].nunique()\";\n",
       "                var nbb_cells = Jupyter.notebook.get_cells();\n",
       "                for (var i = 0; i < nbb_cells.length; ++i) {\n",
       "                    if (nbb_cells[i].input_prompt_number == nbb_cell_id) {\n",
       "                        if (nbb_cells[i].get_text() == nbb_unformatted_code) {\n",
       "                             nbb_cells[i].set_text(nbb_formatted_code);\n",
       "                        }\n",
       "                        break;\n",
       "                    }\n",
       "                }\n",
       "            }, 500);\n",
       "            "
      ],
      "text/plain": [
       "<IPython.core.display.Javascript object>"
      ]
     },
     "metadata": {},
     "output_type": "display_data"
    }
   ],
   "source": [
    "df[\"Cement_Type\"].nunique()"
   ]
  },
  {
   "cell_type": "code",
   "execution_count": 57,
   "id": "c580fde1",
   "metadata": {},
   "outputs": [
    {
     "data": {
      "text/plain": [
       "Cement_Type\n",
       "Type I-II     735\n",
       "CP II-F-40    593\n",
       "CP II-F-32    410\n",
       "CEM B         323\n",
       "CEM C         320\n",
       "CEM A         315\n",
       "Type III      244\n",
       "CP V-ARI      230\n",
       "Type IL        78\n",
       "Name: count, dtype: int64"
      ]
     },
     "execution_count": 57,
     "metadata": {},
     "output_type": "execute_result"
    },
    {
     "data": {
      "application/javascript": [
       "\n",
       "            setTimeout(function() {\n",
       "                var nbb_cell_id = 57;\n",
       "                var nbb_unformatted_code = \"df[\\\"Cement_Type\\\"].value_counts()\";\n",
       "                var nbb_formatted_code = \"df[\\\"Cement_Type\\\"].value_counts()\";\n",
       "                var nbb_cells = Jupyter.notebook.get_cells();\n",
       "                for (var i = 0; i < nbb_cells.length; ++i) {\n",
       "                    if (nbb_cells[i].input_prompt_number == nbb_cell_id) {\n",
       "                        if (nbb_cells[i].get_text() == nbb_unformatted_code) {\n",
       "                             nbb_cells[i].set_text(nbb_formatted_code);\n",
       "                        }\n",
       "                        break;\n",
       "                    }\n",
       "                }\n",
       "            }, 500);\n",
       "            "
      ],
      "text/plain": [
       "<IPython.core.display.Javascript object>"
      ]
     },
     "metadata": {},
     "output_type": "display_data"
    }
   ],
   "source": [
    "df[\"Cement_Type\"].value_counts()"
   ]
  },
  {
   "cell_type": "code",
   "execution_count": 58,
   "id": "6eb955b6",
   "metadata": {
    "scrolled": false
   },
   "outputs": [
    {
     "data": {
      "text/html": [
       "<div>\n",
       "<style scoped>\n",
       "    .dataframe tbody tr th:only-of-type {\n",
       "        vertical-align: middle;\n",
       "    }\n",
       "\n",
       "    .dataframe tbody tr th {\n",
       "        vertical-align: top;\n",
       "    }\n",
       "\n",
       "    .dataframe thead th {\n",
       "        text-align: right;\n",
       "    }\n",
       "</style>\n",
       "<table border=\"1\" class=\"dataframe\">\n",
       "  <thead>\n",
       "    <tr style=\"text-align: right;\">\n",
       "      <th></th>\n",
       "      <th>count</th>\n",
       "      <th>mean</th>\n",
       "      <th>min</th>\n",
       "      <th>50%</th>\n",
       "      <th>99%</th>\n",
       "      <th>max</th>\n",
       "      <th>std</th>\n",
       "    </tr>\n",
       "  </thead>\n",
       "  <tbody>\n",
       "    <tr>\n",
       "      <th>Date</th>\n",
       "      <td>3248</td>\n",
       "      <td>2021-01-31 05:08:53.682265856</td>\n",
       "      <td>2019-10-07 00:00:00</td>\n",
       "      <td>2020-12-30 05:30:00</td>\n",
       "      <td>2022-09-14 00:00:00</td>\n",
       "      <td>2022-10-21 00:00:00</td>\n",
       "      <td>NaN</td>\n",
       "    </tr>\n",
       "    <tr>\n",
       "      <th>Cl-</th>\n",
       "      <td>958.0</td>\n",
       "      <td>0.049674</td>\n",
       "      <td>0.011</td>\n",
       "      <td>0.054</td>\n",
       "      <td>0.089</td>\n",
       "      <td>0.099</td>\n",
       "      <td>0.023952</td>\n",
       "    </tr>\n",
       "    <tr>\n",
       "      <th>Blaine</th>\n",
       "      <td>3244.0</td>\n",
       "      <td>3254.15598</td>\n",
       "      <td>280.0</td>\n",
       "      <td>3554.5</td>\n",
       "      <td>5902.85</td>\n",
       "      <td>6491.0</td>\n",
       "      <td>2135.883008</td>\n",
       "    </tr>\n",
       "    <tr>\n",
       "      <th>C3A</th>\n",
       "      <td>3113.0</td>\n",
       "      <td>4.509892</td>\n",
       "      <td>1.34</td>\n",
       "      <td>4.57</td>\n",
       "      <td>6.59</td>\n",
       "      <td>32.889999</td>\n",
       "      <td>1.064667</td>\n",
       "    </tr>\n",
       "    <tr>\n",
       "      <th>Loss on Ignition</th>\n",
       "      <td>3038.0</td>\n",
       "      <td>5.142363</td>\n",
       "      <td>0.88</td>\n",
       "      <td>4.24</td>\n",
       "      <td>11.78</td>\n",
       "      <td>12.85</td>\n",
       "      <td>2.651158</td>\n",
       "    </tr>\n",
       "    <tr>\n",
       "      <th>CS1</th>\n",
       "      <td>2243.0</td>\n",
       "      <td>23.240691</td>\n",
       "      <td>12.1</td>\n",
       "      <td>23.9</td>\n",
       "      <td>35.4</td>\n",
       "      <td>37.3</td>\n",
       "      <td>6.556766</td>\n",
       "    </tr>\n",
       "    <tr>\n",
       "      <th>CS3</th>\n",
       "      <td>2309.0</td>\n",
       "      <td>283.793326</td>\n",
       "      <td>20.88</td>\n",
       "      <td>29.98</td>\n",
       "      <td>40.992</td>\n",
       "      <td>44802.0</td>\n",
       "      <td>3348.908527</td>\n",
       "    </tr>\n",
       "    <tr>\n",
       "      <th>CS28</th>\n",
       "      <td>3248.0</td>\n",
       "      <td>44.980074</td>\n",
       "      <td>32.400002</td>\n",
       "      <td>45.295</td>\n",
       "      <td>58.6</td>\n",
       "      <td>65.4</td>\n",
       "      <td>5.794638</td>\n",
       "    </tr>\n",
       "    <tr>\n",
       "      <th>Belite Beta</th>\n",
       "      <td>878.0</td>\n",
       "      <td>8.183468</td>\n",
       "      <td>1.43</td>\n",
       "      <td>8.11</td>\n",
       "      <td>14.0391</td>\n",
       "      <td>17.41</td>\n",
       "      <td>2.372578</td>\n",
       "    </tr>\n",
       "    <tr>\n",
       "      <th>Cubic C3A</th>\n",
       "      <td>2087.0</td>\n",
       "      <td>2.702415</td>\n",
       "      <td>0.73</td>\n",
       "      <td>2.61</td>\n",
       "      <td>4.6714</td>\n",
       "      <td>5.71</td>\n",
       "      <td>0.801093</td>\n",
       "    </tr>\n",
       "    <tr>\n",
       "      <th>CaCO3</th>\n",
       "      <td>878.0</td>\n",
       "      <td>11.943212</td>\n",
       "      <td>0.1</td>\n",
       "      <td>8.685</td>\n",
       "      <td>29.263</td>\n",
       "      <td>29.91</td>\n",
       "      <td>8.677272</td>\n",
       "    </tr>\n",
       "    <tr>\n",
       "      <th>#400</th>\n",
       "      <td>1878.0</td>\n",
       "      <td>4.175069</td>\n",
       "      <td>0.29</td>\n",
       "      <td>2.4</td>\n",
       "      <td>9.4523</td>\n",
       "      <td>451.0</td>\n",
       "      <td>11.574694</td>\n",
       "    </tr>\n",
       "    <tr>\n",
       "      <th>#325</th>\n",
       "      <td>2290.0</td>\n",
       "      <td>46.31441</td>\n",
       "      <td>0.06</td>\n",
       "      <td>6.8</td>\n",
       "      <td>99.67</td>\n",
       "      <td>100.0</td>\n",
       "      <td>47.39613</td>\n",
       "    </tr>\n",
       "    <tr>\n",
       "      <th>Sieve 24 um</th>\n",
       "      <td>955.0</td>\n",
       "      <td>37.30201</td>\n",
       "      <td>24.1</td>\n",
       "      <td>37.3</td>\n",
       "      <td>44.2</td>\n",
       "      <td>46.4</td>\n",
       "      <td>3.273676</td>\n",
       "    </tr>\n",
       "    <tr>\n",
       "      <th>SO3</th>\n",
       "      <td>3228.0</td>\n",
       "      <td>3.276282</td>\n",
       "      <td>1.77</td>\n",
       "      <td>3.14</td>\n",
       "      <td>4.465945</td>\n",
       "      <td>5.57408</td>\n",
       "      <td>0.5028</td>\n",
       "    </tr>\n",
       "    <tr>\n",
       "      <th>C4AF</th>\n",
       "      <td>3113.0</td>\n",
       "      <td>9.660209</td>\n",
       "      <td>4.75</td>\n",
       "      <td>10.05</td>\n",
       "      <td>12.5088</td>\n",
       "      <td>16.15</td>\n",
       "      <td>1.694884</td>\n",
       "    </tr>\n",
       "    <tr>\n",
       "      <th>CaO</th>\n",
       "      <td>3149.0</td>\n",
       "      <td>44.091463</td>\n",
       "      <td>0.0</td>\n",
       "      <td>59.997002</td>\n",
       "      <td>63.08</td>\n",
       "      <td>64.75</td>\n",
       "      <td>26.977142</td>\n",
       "    </tr>\n",
       "    <tr>\n",
       "      <th>Langbeinite</th>\n",
       "      <td>1263.0</td>\n",
       "      <td>0.184339</td>\n",
       "      <td>0.0</td>\n",
       "      <td>0.12</td>\n",
       "      <td>0.71</td>\n",
       "      <td>0.85</td>\n",
       "      <td>0.17851</td>\n",
       "    </tr>\n",
       "    <tr>\n",
       "      <th>Aphthitalite</th>\n",
       "      <td>2087.0</td>\n",
       "      <td>0.635252</td>\n",
       "      <td>0.0</td>\n",
       "      <td>0.62</td>\n",
       "      <td>1.26</td>\n",
       "      <td>3.02</td>\n",
       "      <td>0.262319</td>\n",
       "    </tr>\n",
       "    <tr>\n",
       "      <th>Ca(OH)2</th>\n",
       "      <td>878.0</td>\n",
       "      <td>1.06365</td>\n",
       "      <td>0.0</td>\n",
       "      <td>0.96</td>\n",
       "      <td>3.0261</td>\n",
       "      <td>3.73</td>\n",
       "      <td>0.720152</td>\n",
       "    </tr>\n",
       "    <tr>\n",
       "      <th>CO2</th>\n",
       "      <td>877.0</td>\n",
       "      <td>5.254111</td>\n",
       "      <td>0.04</td>\n",
       "      <td>3.81</td>\n",
       "      <td>13.0072</td>\n",
       "      <td>14.45</td>\n",
       "      <td>3.83097</td>\n",
       "    </tr>\n",
       "    <tr>\n",
       "      <th>K2SO4</th>\n",
       "      <td>878.0</td>\n",
       "      <td>1.091435</td>\n",
       "      <td>0.42</td>\n",
       "      <td>1.07</td>\n",
       "      <td>1.7523</td>\n",
       "      <td>3.95</td>\n",
       "      <td>0.280643</td>\n",
       "    </tr>\n",
       "    <tr>\n",
       "      <th>Soundness</th>\n",
       "      <td>2078.0</td>\n",
       "      <td>0.335924</td>\n",
       "      <td>0.0</td>\n",
       "      <td>0.0</td>\n",
       "      <td>2.0</td>\n",
       "      <td>3.0</td>\n",
       "      <td>0.552933</td>\n",
       "    </tr>\n",
       "    <tr>\n",
       "      <th>Orthorhombic C3A</th>\n",
       "      <td>2087.0</td>\n",
       "      <td>1.397928</td>\n",
       "      <td>0.01</td>\n",
       "      <td>1.28</td>\n",
       "      <td>3.5814</td>\n",
       "      <td>27.18</td>\n",
       "      <td>0.975328</td>\n",
       "    </tr>\n",
       "    <tr>\n",
       "      <th>Free CaO</th>\n",
       "      <td>3117.0</td>\n",
       "      <td>1.000837</td>\n",
       "      <td>0.0</td>\n",
       "      <td>0.9</td>\n",
       "      <td>2.8652</td>\n",
       "      <td>4.34</td>\n",
       "      <td>0.619881</td>\n",
       "    </tr>\n",
       "    <tr>\n",
       "      <th>Quartz</th>\n",
       "      <td>2086.0</td>\n",
       "      <td>0.888924</td>\n",
       "      <td>0.0</td>\n",
       "      <td>0.78</td>\n",
       "      <td>2.7975</td>\n",
       "      <td>3.92</td>\n",
       "      <td>0.627014</td>\n",
       "    </tr>\n",
       "    <tr>\n",
       "      <th>Gypsum</th>\n",
       "      <td>2086.0</td>\n",
       "      <td>1.586661</td>\n",
       "      <td>0.0</td>\n",
       "      <td>1.44</td>\n",
       "      <td>4.5115</td>\n",
       "      <td>10.6</td>\n",
       "      <td>1.135319</td>\n",
       "    </tr>\n",
       "    <tr>\n",
       "      <th>Periclase</th>\n",
       "      <td>2087.0</td>\n",
       "      <td>1.197887</td>\n",
       "      <td>0.01</td>\n",
       "      <td>1.07</td>\n",
       "      <td>2.95</td>\n",
       "      <td>5.65</td>\n",
       "      <td>0.796389</td>\n",
       "    </tr>\n",
       "    <tr>\n",
       "      <th>SiO2</th>\n",
       "      <td>2271.0</td>\n",
       "      <td>18.708847</td>\n",
       "      <td>14.3812</td>\n",
       "      <td>18.96203</td>\n",
       "      <td>19.780945</td>\n",
       "      <td>20.58816</td>\n",
       "      <td>0.810414</td>\n",
       "    </tr>\n",
       "    <tr>\n",
       "      <th>Al2O3</th>\n",
       "      <td>2271.0</td>\n",
       "      <td>4.442536</td>\n",
       "      <td>3.50343</td>\n",
       "      <td>4.43681</td>\n",
       "      <td>4.953</td>\n",
       "      <td>5.51224</td>\n",
       "      <td>0.281373</td>\n",
       "    </tr>\n",
       "    <tr>\n",
       "      <th>Fe2O3</th>\n",
       "      <td>2271.0</td>\n",
       "      <td>3.05268</td>\n",
       "      <td>2.08781</td>\n",
       "      <td>3.11</td>\n",
       "      <td>3.4</td>\n",
       "      <td>4.58</td>\n",
       "      <td>0.224114</td>\n",
       "    </tr>\n",
       "    <tr>\n",
       "      <th>MgO</th>\n",
       "      <td>2271.0</td>\n",
       "      <td>2.958341</td>\n",
       "      <td>1.64276</td>\n",
       "      <td>2.98</td>\n",
       "      <td>3.893</td>\n",
       "      <td>4.52074</td>\n",
       "      <td>0.414349</td>\n",
       "    </tr>\n",
       "    <tr>\n",
       "      <th>K2O</th>\n",
       "      <td>2271.0</td>\n",
       "      <td>0.940598</td>\n",
       "      <td>0.5</td>\n",
       "      <td>1.05108</td>\n",
       "      <td>1.364034</td>\n",
       "      <td>1.45258</td>\n",
       "      <td>0.288564</td>\n",
       "    </tr>\n",
       "    <tr>\n",
       "      <th>Na2O</th>\n",
       "      <td>2271.0</td>\n",
       "      <td>0.143974</td>\n",
       "      <td>0.0</td>\n",
       "      <td>0.15675</td>\n",
       "      <td>0.258739</td>\n",
       "      <td>0.32538</td>\n",
       "      <td>0.067634</td>\n",
       "    </tr>\n",
       "    <tr>\n",
       "      <th>Cl</th>\n",
       "      <td>1.0</td>\n",
       "      <td>0.0</td>\n",
       "      <td>0.0</td>\n",
       "      <td>0.0</td>\n",
       "      <td>0.0</td>\n",
       "      <td>0.0</td>\n",
       "      <td>NaN</td>\n",
       "    </tr>\n",
       "    <tr>\n",
       "      <th>TiO2</th>\n",
       "      <td>1.0</td>\n",
       "      <td>0.07</td>\n",
       "      <td>0.07</td>\n",
       "      <td>0.07</td>\n",
       "      <td>0.07</td>\n",
       "      <td>0.07</td>\n",
       "      <td>NaN</td>\n",
       "    </tr>\n",
       "    <tr>\n",
       "      <th>Total C3S</th>\n",
       "      <td>2235.0</td>\n",
       "      <td>54.733655</td>\n",
       "      <td>4.65</td>\n",
       "      <td>56.18</td>\n",
       "      <td>62.422599</td>\n",
       "      <td>67.510002</td>\n",
       "      <td>5.262898</td>\n",
       "    </tr>\n",
       "    <tr>\n",
       "      <th>Total C2S</th>\n",
       "      <td>1845.0</td>\n",
       "      <td>13.498</td>\n",
       "      <td>5.12</td>\n",
       "      <td>13.66</td>\n",
       "      <td>19.8256</td>\n",
       "      <td>31.18</td>\n",
       "      <td>2.757552</td>\n",
       "    </tr>\n",
       "    <tr>\n",
       "      <th>Initial setting time</th>\n",
       "      <td>2290.0</td>\n",
       "      <td>147.234061</td>\n",
       "      <td>95.0</td>\n",
       "      <td>145.0</td>\n",
       "      <td>175.0</td>\n",
       "      <td>185.0</td>\n",
       "      <td>14.775361</td>\n",
       "    </tr>\n",
       "    <tr>\n",
       "      <th>CS7</th>\n",
       "      <td>2288.0</td>\n",
       "      <td>36.863387</td>\n",
       "      <td>27.45</td>\n",
       "      <td>36.325</td>\n",
       "      <td>45.410401</td>\n",
       "      <td>48.200001</td>\n",
       "      <td>4.620245</td>\n",
       "    </tr>\n",
       "    <tr>\n",
       "      <th>Total Alkali as Na2O</th>\n",
       "      <td>885.0</td>\n",
       "      <td>0.94759</td>\n",
       "      <td>0.0</td>\n",
       "      <td>0.95</td>\n",
       "      <td>1.112432</td>\n",
       "      <td>1.15</td>\n",
       "      <td>0.086569</td>\n",
       "    </tr>\n",
       "    <tr>\n",
       "      <th>Insoluble Residue</th>\n",
       "      <td>1224.0</td>\n",
       "      <td>2.827729</td>\n",
       "      <td>0.63</td>\n",
       "      <td>2.59</td>\n",
       "      <td>6.0954</td>\n",
       "      <td>7.36</td>\n",
       "      <td>1.165134</td>\n",
       "    </tr>\n",
       "    <tr>\n",
       "      <th>Alpha C2S</th>\n",
       "      <td>1209.0</td>\n",
       "      <td>1.937171</td>\n",
       "      <td>0.0</td>\n",
       "      <td>1.99</td>\n",
       "      <td>3.8492</td>\n",
       "      <td>16.459999</td>\n",
       "      <td>0.961112</td>\n",
       "    </tr>\n",
       "    <tr>\n",
       "      <th>Beta C2S</th>\n",
       "      <td>1209.0</td>\n",
       "      <td>8.938362</td>\n",
       "      <td>3.38</td>\n",
       "      <td>8.78</td>\n",
       "      <td>13.5836</td>\n",
       "      <td>17.41</td>\n",
       "      <td>2.054764</td>\n",
       "    </tr>\n",
       "    <tr>\n",
       "      <th>Gamma C2S</th>\n",
       "      <td>1209.0</td>\n",
       "      <td>0.329049</td>\n",
       "      <td>0.0</td>\n",
       "      <td>0.0</td>\n",
       "      <td>1.976</td>\n",
       "      <td>2.64</td>\n",
       "      <td>0.521485</td>\n",
       "    </tr>\n",
       "    <tr>\n",
       "      <th>Portlandite</th>\n",
       "      <td>1209.0</td>\n",
       "      <td>1.298445</td>\n",
       "      <td>0.09</td>\n",
       "      <td>1.04</td>\n",
       "      <td>3.7892</td>\n",
       "      <td>5.29</td>\n",
       "      <td>0.809235</td>\n",
       "    </tr>\n",
       "    <tr>\n",
       "      <th>Arcanite</th>\n",
       "      <td>1209.0</td>\n",
       "      <td>0.848768</td>\n",
       "      <td>0.0</td>\n",
       "      <td>0.59</td>\n",
       "      <td>4.4372</td>\n",
       "      <td>5.27</td>\n",
       "      <td>0.899215</td>\n",
       "    </tr>\n",
       "    <tr>\n",
       "      <th>Bassanite</th>\n",
       "      <td>1208.0</td>\n",
       "      <td>2.787169</td>\n",
       "      <td>0.0</td>\n",
       "      <td>2.69</td>\n",
       "      <td>6.3193</td>\n",
       "      <td>7.33</td>\n",
       "      <td>1.473565</td>\n",
       "    </tr>\n",
       "    <tr>\n",
       "      <th>Anhydrite</th>\n",
       "      <td>1208.0</td>\n",
       "      <td>0.07452</td>\n",
       "      <td>0.0</td>\n",
       "      <td>0.04</td>\n",
       "      <td>0.4</td>\n",
       "      <td>0.7</td>\n",
       "      <td>0.093873</td>\n",
       "    </tr>\n",
       "    <tr>\n",
       "      <th>Calcite</th>\n",
       "      <td>1208.0</td>\n",
       "      <td>11.515455</td>\n",
       "      <td>0.82</td>\n",
       "      <td>8.955</td>\n",
       "      <td>24.4772</td>\n",
       "      <td>31.629999</td>\n",
       "      <td>6.097753</td>\n",
       "    </tr>\n",
       "    <tr>\n",
       "      <th>Dolomite</th>\n",
       "      <td>1208.0</td>\n",
       "      <td>1.1613</td>\n",
       "      <td>0.0</td>\n",
       "      <td>1.1</td>\n",
       "      <td>3.5286</td>\n",
       "      <td>5.35</td>\n",
       "      <td>0.813216</td>\n",
       "    </tr>\n",
       "    <tr>\n",
       "      <th>Muscovite</th>\n",
       "      <td>1208.0</td>\n",
       "      <td>0.0</td>\n",
       "      <td>0.0</td>\n",
       "      <td>0.0</td>\n",
       "      <td>0.0</td>\n",
       "      <td>0.0</td>\n",
       "      <td>0.0</td>\n",
       "    </tr>\n",
       "    <tr>\n",
       "      <th>%Gypsum</th>\n",
       "      <td>1177.0</td>\n",
       "      <td>4.571657</td>\n",
       "      <td>1.19</td>\n",
       "      <td>4.54</td>\n",
       "      <td>7.0424</td>\n",
       "      <td>13.15</td>\n",
       "      <td>1.078112</td>\n",
       "    </tr>\n",
       "    <tr>\n",
       "      <th>%Limestone</th>\n",
       "      <td>1177.0</td>\n",
       "      <td>13.93746</td>\n",
       "      <td>1.04</td>\n",
       "      <td>11.1</td>\n",
       "      <td>28.6844</td>\n",
       "      <td>34.599998</td>\n",
       "      <td>7.151415</td>\n",
       "    </tr>\n",
       "    <tr>\n",
       "      <th>%Clinker</th>\n",
       "      <td>1177.0</td>\n",
       "      <td>80.786474</td>\n",
       "      <td>62.669998</td>\n",
       "      <td>83.550003</td>\n",
       "      <td>90.640798</td>\n",
       "      <td>93.639999</td>\n",
       "      <td>6.845564</td>\n",
       "    </tr>\n",
       "    <tr>\n",
       "      <th>Dehydration</th>\n",
       "      <td>794.0</td>\n",
       "      <td>52.647632</td>\n",
       "      <td>6.54</td>\n",
       "      <td>51.529999</td>\n",
       "      <td>94.350403</td>\n",
       "      <td>97.669998</td>\n",
       "      <td>20.973842</td>\n",
       "    </tr>\n",
       "    <tr>\n",
       "      <th>Final setting time</th>\n",
       "      <td>1233.0</td>\n",
       "      <td>202.702352</td>\n",
       "      <td>125.0</td>\n",
       "      <td>200.0</td>\n",
       "      <td>230.0</td>\n",
       "      <td>240.0</td>\n",
       "      <td>12.504212</td>\n",
       "    </tr>\n",
       "    <tr>\n",
       "      <th>Density</th>\n",
       "      <td>1233.0</td>\n",
       "      <td>3.057032</td>\n",
       "      <td>2.9</td>\n",
       "      <td>3.06</td>\n",
       "      <td>3.1</td>\n",
       "      <td>3.1</td>\n",
       "      <td>0.018616</td>\n",
       "    </tr>\n",
       "    <tr>\n",
       "      <th>#200</th>\n",
       "      <td>1233.0</td>\n",
       "      <td>0.206375</td>\n",
       "      <td>0.0</td>\n",
       "      <td>0.1</td>\n",
       "      <td>0.9</td>\n",
       "      <td>1.4</td>\n",
       "      <td>0.246782</td>\n",
       "    </tr>\n",
       "  </tbody>\n",
       "</table>\n",
       "</div>"
      ],
      "text/plain": [
       "                       count                           mean  \\\n",
       "Date                    3248  2021-01-31 05:08:53.682265856   \n",
       "Cl-                    958.0                       0.049674   \n",
       "Blaine                3244.0                     3254.15598   \n",
       "C3A                   3113.0                       4.509892   \n",
       "Loss on Ignition      3038.0                       5.142363   \n",
       "CS1                   2243.0                      23.240691   \n",
       "CS3                   2309.0                     283.793326   \n",
       "CS28                  3248.0                      44.980074   \n",
       "Belite Beta            878.0                       8.183468   \n",
       "Cubic C3A             2087.0                       2.702415   \n",
       "CaCO3                  878.0                      11.943212   \n",
       "#400                  1878.0                       4.175069   \n",
       "#325                  2290.0                       46.31441   \n",
       "Sieve 24 um            955.0                       37.30201   \n",
       "SO3                   3228.0                       3.276282   \n",
       "C4AF                  3113.0                       9.660209   \n",
       "CaO                   3149.0                      44.091463   \n",
       "Langbeinite           1263.0                       0.184339   \n",
       "Aphthitalite          2087.0                       0.635252   \n",
       "Ca(OH)2                878.0                        1.06365   \n",
       "CO2                    877.0                       5.254111   \n",
       "K2SO4                  878.0                       1.091435   \n",
       "Soundness             2078.0                       0.335924   \n",
       "Orthorhombic C3A      2087.0                       1.397928   \n",
       "Free CaO              3117.0                       1.000837   \n",
       "Quartz                2086.0                       0.888924   \n",
       "Gypsum                2086.0                       1.586661   \n",
       "Periclase             2087.0                       1.197887   \n",
       "SiO2                  2271.0                      18.708847   \n",
       "Al2O3                 2271.0                       4.442536   \n",
       "Fe2O3                 2271.0                        3.05268   \n",
       "MgO                   2271.0                       2.958341   \n",
       "K2O                   2271.0                       0.940598   \n",
       "Na2O                  2271.0                       0.143974   \n",
       "Cl                       1.0                            0.0   \n",
       "TiO2                     1.0                           0.07   \n",
       "Total C3S             2235.0                      54.733655   \n",
       "Total C2S             1845.0                         13.498   \n",
       "Initial setting time  2290.0                     147.234061   \n",
       "CS7                   2288.0                      36.863387   \n",
       "Total Alkali as Na2O   885.0                        0.94759   \n",
       "Insoluble Residue     1224.0                       2.827729   \n",
       "Alpha C2S             1209.0                       1.937171   \n",
       "Beta C2S              1209.0                       8.938362   \n",
       "Gamma C2S             1209.0                       0.329049   \n",
       "Portlandite           1209.0                       1.298445   \n",
       "Arcanite              1209.0                       0.848768   \n",
       "Bassanite             1208.0                       2.787169   \n",
       "Anhydrite             1208.0                        0.07452   \n",
       "Calcite               1208.0                      11.515455   \n",
       "Dolomite              1208.0                         1.1613   \n",
       "Muscovite             1208.0                            0.0   \n",
       "%Gypsum               1177.0                       4.571657   \n",
       "%Limestone            1177.0                       13.93746   \n",
       "%Clinker              1177.0                      80.786474   \n",
       "Dehydration            794.0                      52.647632   \n",
       "Final setting time    1233.0                     202.702352   \n",
       "Density               1233.0                       3.057032   \n",
       "#200                  1233.0                       0.206375   \n",
       "\n",
       "                                      min                  50%  \\\n",
       "Date                  2019-10-07 00:00:00  2020-12-30 05:30:00   \n",
       "Cl-                                 0.011                0.054   \n",
       "Blaine                              280.0               3554.5   \n",
       "C3A                                  1.34                 4.57   \n",
       "Loss on Ignition                     0.88                 4.24   \n",
       "CS1                                  12.1                 23.9   \n",
       "CS3                                 20.88                29.98   \n",
       "CS28                            32.400002               45.295   \n",
       "Belite Beta                          1.43                 8.11   \n",
       "Cubic C3A                            0.73                 2.61   \n",
       "CaCO3                                 0.1                8.685   \n",
       "#400                                 0.29                  2.4   \n",
       "#325                                 0.06                  6.8   \n",
       "Sieve 24 um                          24.1                 37.3   \n",
       "SO3                                  1.77                 3.14   \n",
       "C4AF                                 4.75                10.05   \n",
       "CaO                                   0.0            59.997002   \n",
       "Langbeinite                           0.0                 0.12   \n",
       "Aphthitalite                          0.0                 0.62   \n",
       "Ca(OH)2                               0.0                 0.96   \n",
       "CO2                                  0.04                 3.81   \n",
       "K2SO4                                0.42                 1.07   \n",
       "Soundness                             0.0                  0.0   \n",
       "Orthorhombic C3A                     0.01                 1.28   \n",
       "Free CaO                              0.0                  0.9   \n",
       "Quartz                                0.0                 0.78   \n",
       "Gypsum                                0.0                 1.44   \n",
       "Periclase                            0.01                 1.07   \n",
       "SiO2                              14.3812             18.96203   \n",
       "Al2O3                             3.50343              4.43681   \n",
       "Fe2O3                             2.08781                 3.11   \n",
       "MgO                               1.64276                 2.98   \n",
       "K2O                                   0.5              1.05108   \n",
       "Na2O                                  0.0              0.15675   \n",
       "Cl                                    0.0                  0.0   \n",
       "TiO2                                 0.07                 0.07   \n",
       "Total C3S                            4.65                56.18   \n",
       "Total C2S                            5.12                13.66   \n",
       "Initial setting time                 95.0                145.0   \n",
       "CS7                                 27.45               36.325   \n",
       "Total Alkali as Na2O                  0.0                 0.95   \n",
       "Insoluble Residue                    0.63                 2.59   \n",
       "Alpha C2S                             0.0                 1.99   \n",
       "Beta C2S                             3.38                 8.78   \n",
       "Gamma C2S                             0.0                  0.0   \n",
       "Portlandite                          0.09                 1.04   \n",
       "Arcanite                              0.0                 0.59   \n",
       "Bassanite                             0.0                 2.69   \n",
       "Anhydrite                             0.0                 0.04   \n",
       "Calcite                              0.82                8.955   \n",
       "Dolomite                              0.0                  1.1   \n",
       "Muscovite                             0.0                  0.0   \n",
       "%Gypsum                              1.19                 4.54   \n",
       "%Limestone                           1.04                 11.1   \n",
       "%Clinker                        62.669998            83.550003   \n",
       "Dehydration                          6.54            51.529999   \n",
       "Final setting time                  125.0                200.0   \n",
       "Density                               2.9                 3.06   \n",
       "#200                                  0.0                  0.1   \n",
       "\n",
       "                                      99%                  max          std  \n",
       "Date                  2022-09-14 00:00:00  2022-10-21 00:00:00          NaN  \n",
       "Cl-                                 0.089                0.099     0.023952  \n",
       "Blaine                            5902.85               6491.0  2135.883008  \n",
       "C3A                                  6.59            32.889999     1.064667  \n",
       "Loss on Ignition                    11.78                12.85     2.651158  \n",
       "CS1                                  35.4                 37.3     6.556766  \n",
       "CS3                                40.992              44802.0  3348.908527  \n",
       "CS28                                 58.6                 65.4     5.794638  \n",
       "Belite Beta                       14.0391                17.41     2.372578  \n",
       "Cubic C3A                          4.6714                 5.71     0.801093  \n",
       "CaCO3                              29.263                29.91     8.677272  \n",
       "#400                               9.4523                451.0    11.574694  \n",
       "#325                                99.67                100.0     47.39613  \n",
       "Sieve 24 um                          44.2                 46.4     3.273676  \n",
       "SO3                              4.465945              5.57408       0.5028  \n",
       "C4AF                              12.5088                16.15     1.694884  \n",
       "CaO                                 63.08                64.75    26.977142  \n",
       "Langbeinite                          0.71                 0.85      0.17851  \n",
       "Aphthitalite                         1.26                 3.02     0.262319  \n",
       "Ca(OH)2                            3.0261                 3.73     0.720152  \n",
       "CO2                               13.0072                14.45      3.83097  \n",
       "K2SO4                              1.7523                 3.95     0.280643  \n",
       "Soundness                             2.0                  3.0     0.552933  \n",
       "Orthorhombic C3A                   3.5814                27.18     0.975328  \n",
       "Free CaO                           2.8652                 4.34     0.619881  \n",
       "Quartz                             2.7975                 3.92     0.627014  \n",
       "Gypsum                             4.5115                 10.6     1.135319  \n",
       "Periclase                            2.95                 5.65     0.796389  \n",
       "SiO2                            19.780945             20.58816     0.810414  \n",
       "Al2O3                               4.953              5.51224     0.281373  \n",
       "Fe2O3                                 3.4                 4.58     0.224114  \n",
       "MgO                                 3.893              4.52074     0.414349  \n",
       "K2O                              1.364034              1.45258     0.288564  \n",
       "Na2O                             0.258739              0.32538     0.067634  \n",
       "Cl                                    0.0                  0.0          NaN  \n",
       "TiO2                                 0.07                 0.07          NaN  \n",
       "Total C3S                       62.422599            67.510002     5.262898  \n",
       "Total C2S                         19.8256                31.18     2.757552  \n",
       "Initial setting time                175.0                185.0    14.775361  \n",
       "CS7                             45.410401            48.200001     4.620245  \n",
       "Total Alkali as Na2O             1.112432                 1.15     0.086569  \n",
       "Insoluble Residue                  6.0954                 7.36     1.165134  \n",
       "Alpha C2S                          3.8492            16.459999     0.961112  \n",
       "Beta C2S                          13.5836                17.41     2.054764  \n",
       "Gamma C2S                           1.976                 2.64     0.521485  \n",
       "Portlandite                        3.7892                 5.29     0.809235  \n",
       "Arcanite                           4.4372                 5.27     0.899215  \n",
       "Bassanite                          6.3193                 7.33     1.473565  \n",
       "Anhydrite                             0.4                  0.7     0.093873  \n",
       "Calcite                           24.4772            31.629999     6.097753  \n",
       "Dolomite                           3.5286                 5.35     0.813216  \n",
       "Muscovite                             0.0                  0.0          0.0  \n",
       "%Gypsum                            7.0424                13.15     1.078112  \n",
       "%Limestone                        28.6844            34.599998     7.151415  \n",
       "%Clinker                        90.640798            93.639999     6.845564  \n",
       "Dehydration                     94.350403            97.669998    20.973842  \n",
       "Final setting time                  230.0                240.0    12.504212  \n",
       "Density                               3.1                  3.1     0.018616  \n",
       "#200                                  0.9                  1.4     0.246782  "
      ]
     },
     "execution_count": 58,
     "metadata": {},
     "output_type": "execute_result"
    },
    {
     "data": {
      "application/javascript": [
       "\n",
       "            setTimeout(function() {\n",
       "                var nbb_cell_id = 58;\n",
       "                var nbb_unformatted_code = \"df.describe(percentiles=[0.99]).T\";\n",
       "                var nbb_formatted_code = \"df.describe(percentiles=[0.99]).T\";\n",
       "                var nbb_cells = Jupyter.notebook.get_cells();\n",
       "                for (var i = 0; i < nbb_cells.length; ++i) {\n",
       "                    if (nbb_cells[i].input_prompt_number == nbb_cell_id) {\n",
       "                        if (nbb_cells[i].get_text() == nbb_unformatted_code) {\n",
       "                             nbb_cells[i].set_text(nbb_formatted_code);\n",
       "                        }\n",
       "                        break;\n",
       "                    }\n",
       "                }\n",
       "            }, 500);\n",
       "            "
      ],
      "text/plain": [
       "<IPython.core.display.Javascript object>"
      ]
     },
     "metadata": {},
     "output_type": "display_data"
    }
   ],
   "source": [
    "df.describe(percentiles=[0.99]).T"
   ]
  },
  {
   "cell_type": "markdown",
   "id": "f8df1b56",
   "metadata": {},
   "source": [
    "## Removing Some Outliers"
   ]
  },
  {
   "cell_type": "code",
   "execution_count": 59,
   "id": "b0eae359",
   "metadata": {},
   "outputs": [
    {
     "data": {
      "text/plain": [
       "3210"
      ]
     },
     "execution_count": 59,
     "metadata": {},
     "output_type": "execute_result"
    },
    {
     "data": {
      "application/javascript": [
       "\n",
       "            setTimeout(function() {\n",
       "                var nbb_cell_id = 59;\n",
       "                var nbb_unformatted_code = \"df[\\\"C3A\\\"].idxmax()\";\n",
       "                var nbb_formatted_code = \"df[\\\"C3A\\\"].idxmax()\";\n",
       "                var nbb_cells = Jupyter.notebook.get_cells();\n",
       "                for (var i = 0; i < nbb_cells.length; ++i) {\n",
       "                    if (nbb_cells[i].input_prompt_number == nbb_cell_id) {\n",
       "                        if (nbb_cells[i].get_text() == nbb_unformatted_code) {\n",
       "                             nbb_cells[i].set_text(nbb_formatted_code);\n",
       "                        }\n",
       "                        break;\n",
       "                    }\n",
       "                }\n",
       "            }, 500);\n",
       "            "
      ],
      "text/plain": [
       "<IPython.core.display.Javascript object>"
      ]
     },
     "metadata": {},
     "output_type": "display_data"
    }
   ],
   "source": [
    "df[\"C3A\"].idxmax()"
   ]
  },
  {
   "cell_type": "code",
   "execution_count": 60,
   "id": "91de1c84",
   "metadata": {},
   "outputs": [
    {
     "data": {
      "application/javascript": [
       "\n",
       "            setTimeout(function() {\n",
       "                var nbb_cell_id = 60;\n",
       "                var nbb_unformatted_code = \"# This index has noise that makes the model do a bad prediction\\ndf = df.reset_index(drop=True)\\ndf = df.drop(df[\\\"C3A\\\"].idxmax())\\ndf = df.drop(df[\\\"Alpha C2S\\\"].idxmax())\\n\\ndf = df.drop(df[\\\"CS3\\\"].idxmax())\\ndf = df.drop(df[\\\"CS3\\\"].idxmax())\\ndf = df.drop(df[\\\"CS3\\\"].idxmax())\\ndf = df.drop(df[\\\"CS3\\\"].idxmax())\\ndf = df.drop(df[\\\"CS3\\\"].idxmax())\\ndf = df.drop(df[\\\"CS3\\\"].idxmax())\\ndf = df.drop(df[\\\"CS3\\\"].idxmax())\\ndf = df.drop(df[\\\"CS3\\\"].idxmax())\\ndf = df.drop(df[\\\"CS3\\\"].idxmax())\\ndf = df.drop(df[\\\"CS3\\\"].idxmax())\\ndf = df.drop(df[\\\"CS3\\\"].idxmax())\\ndf = df.drop(df[\\\"CS3\\\"].idxmax())\\ndf = df.drop(df[\\\"CS3\\\"].idxmax())\\n\\ndf = df.drop(df[\\\"#400\\\"].idxmax())\\ndf = df.drop(df[\\\"#400\\\"].idxmax())\";\n",
       "                var nbb_formatted_code = \"# This index has noise that makes the model do a bad prediction\\ndf = df.reset_index(drop=True)\\ndf = df.drop(df[\\\"C3A\\\"].idxmax())\\ndf = df.drop(df[\\\"Alpha C2S\\\"].idxmax())\\n\\ndf = df.drop(df[\\\"CS3\\\"].idxmax())\\ndf = df.drop(df[\\\"CS3\\\"].idxmax())\\ndf = df.drop(df[\\\"CS3\\\"].idxmax())\\ndf = df.drop(df[\\\"CS3\\\"].idxmax())\\ndf = df.drop(df[\\\"CS3\\\"].idxmax())\\ndf = df.drop(df[\\\"CS3\\\"].idxmax())\\ndf = df.drop(df[\\\"CS3\\\"].idxmax())\\ndf = df.drop(df[\\\"CS3\\\"].idxmax())\\ndf = df.drop(df[\\\"CS3\\\"].idxmax())\\ndf = df.drop(df[\\\"CS3\\\"].idxmax())\\ndf = df.drop(df[\\\"CS3\\\"].idxmax())\\ndf = df.drop(df[\\\"CS3\\\"].idxmax())\\ndf = df.drop(df[\\\"CS3\\\"].idxmax())\\n\\ndf = df.drop(df[\\\"#400\\\"].idxmax())\\ndf = df.drop(df[\\\"#400\\\"].idxmax())\";\n",
       "                var nbb_cells = Jupyter.notebook.get_cells();\n",
       "                for (var i = 0; i < nbb_cells.length; ++i) {\n",
       "                    if (nbb_cells[i].input_prompt_number == nbb_cell_id) {\n",
       "                        if (nbb_cells[i].get_text() == nbb_unformatted_code) {\n",
       "                             nbb_cells[i].set_text(nbb_formatted_code);\n",
       "                        }\n",
       "                        break;\n",
       "                    }\n",
       "                }\n",
       "            }, 500);\n",
       "            "
      ],
      "text/plain": [
       "<IPython.core.display.Javascript object>"
      ]
     },
     "metadata": {},
     "output_type": "display_data"
    }
   ],
   "source": [
    "# This index has noise that makes the model do a bad prediction\n",
    "df = df.reset_index(drop=True)\n",
    "df = df.drop(df[\"C3A\"].idxmax())\n",
    "df = df.drop(df[\"Alpha C2S\"].idxmax())\n",
    "\n",
    "df = df.drop(df[\"CS3\"].idxmax())\n",
    "df = df.drop(df[\"CS3\"].idxmax())\n",
    "df = df.drop(df[\"CS3\"].idxmax())\n",
    "df = df.drop(df[\"CS3\"].idxmax())\n",
    "df = df.drop(df[\"CS3\"].idxmax())\n",
    "df = df.drop(df[\"CS3\"].idxmax())\n",
    "df = df.drop(df[\"CS3\"].idxmax())\n",
    "df = df.drop(df[\"CS3\"].idxmax())\n",
    "df = df.drop(df[\"CS3\"].idxmax())\n",
    "df = df.drop(df[\"CS3\"].idxmax())\n",
    "df = df.drop(df[\"CS3\"].idxmax())\n",
    "df = df.drop(df[\"CS3\"].idxmax())\n",
    "df = df.drop(df[\"CS3\"].idxmax())\n",
    "\n",
    "df = df.drop(df[\"#400\"].idxmax())\n",
    "df = df.drop(df[\"#400\"].idxmax())"
   ]
  },
  {
   "cell_type": "code",
   "execution_count": 61,
   "id": "f8880187",
   "metadata": {},
   "outputs": [
    {
     "data": {
      "application/javascript": [
       "\n",
       "            setTimeout(function() {\n",
       "                var nbb_cell_id = 61;\n",
       "                var nbb_unformatted_code = \"check = [\\\"CS3\\\", \\\"C3A\\\", \\\"#400\\\", \\\"Alpha C2S\\\"]\";\n",
       "                var nbb_formatted_code = \"check = [\\\"CS3\\\", \\\"C3A\\\", \\\"#400\\\", \\\"Alpha C2S\\\"]\";\n",
       "                var nbb_cells = Jupyter.notebook.get_cells();\n",
       "                for (var i = 0; i < nbb_cells.length; ++i) {\n",
       "                    if (nbb_cells[i].input_prompt_number == nbb_cell_id) {\n",
       "                        if (nbb_cells[i].get_text() == nbb_unformatted_code) {\n",
       "                             nbb_cells[i].set_text(nbb_formatted_code);\n",
       "                        }\n",
       "                        break;\n",
       "                    }\n",
       "                }\n",
       "            }, 500);\n",
       "            "
      ],
      "text/plain": [
       "<IPython.core.display.Javascript object>"
      ]
     },
     "metadata": {},
     "output_type": "display_data"
    }
   ],
   "source": [
    "check = [\"CS3\", \"C3A\", \"#400\", \"Alpha C2S\"]"
   ]
  },
  {
   "cell_type": "code",
   "execution_count": 62,
   "id": "8f3b4b95",
   "metadata": {},
   "outputs": [
    {
     "data": {
      "text/plain": [
       "0"
      ]
     },
     "execution_count": 62,
     "metadata": {},
     "output_type": "execute_result"
    },
    {
     "data": {
      "application/javascript": [
       "\n",
       "            setTimeout(function() {\n",
       "                var nbb_cell_id = 62;\n",
       "                var nbb_unformatted_code = \"(df[\\\"CS3\\\"] > 100).sum()\";\n",
       "                var nbb_formatted_code = \"(df[\\\"CS3\\\"] > 100).sum()\";\n",
       "                var nbb_cells = Jupyter.notebook.get_cells();\n",
       "                for (var i = 0; i < nbb_cells.length; ++i) {\n",
       "                    if (nbb_cells[i].input_prompt_number == nbb_cell_id) {\n",
       "                        if (nbb_cells[i].get_text() == nbb_unformatted_code) {\n",
       "                             nbb_cells[i].set_text(nbb_formatted_code);\n",
       "                        }\n",
       "                        break;\n",
       "                    }\n",
       "                }\n",
       "            }, 500);\n",
       "            "
      ],
      "text/plain": [
       "<IPython.core.display.Javascript object>"
      ]
     },
     "metadata": {},
     "output_type": "display_data"
    }
   ],
   "source": [
    "(df[\"CS3\"] > 100).sum()"
   ]
  },
  {
   "cell_type": "code",
   "execution_count": 63,
   "id": "6b5086d7",
   "metadata": {},
   "outputs": [
    {
     "data": {
      "text/html": [
       "<div>\n",
       "<style scoped>\n",
       "    .dataframe tbody tr th:only-of-type {\n",
       "        vertical-align: middle;\n",
       "    }\n",
       "\n",
       "    .dataframe tbody tr th {\n",
       "        vertical-align: top;\n",
       "    }\n",
       "\n",
       "    .dataframe thead th {\n",
       "        text-align: right;\n",
       "    }\n",
       "</style>\n",
       "<table border=\"1\" class=\"dataframe\">\n",
       "  <thead>\n",
       "    <tr style=\"text-align: right;\">\n",
       "      <th></th>\n",
       "      <th>count</th>\n",
       "      <th>mean</th>\n",
       "      <th>std</th>\n",
       "      <th>min</th>\n",
       "      <th>50%</th>\n",
       "      <th>99%</th>\n",
       "      <th>max</th>\n",
       "    </tr>\n",
       "  </thead>\n",
       "  <tbody>\n",
       "    <tr>\n",
       "      <th>CS3</th>\n",
       "      <td>2292.0</td>\n",
       "      <td>31.851470</td>\n",
       "      <td>4.991803</td>\n",
       "      <td>20.88</td>\n",
       "      <td>29.88</td>\n",
       "      <td>39.799999</td>\n",
       "      <td>47.40</td>\n",
       "    </tr>\n",
       "    <tr>\n",
       "      <th>C3A</th>\n",
       "      <td>3097.0</td>\n",
       "      <td>4.507054</td>\n",
       "      <td>0.930531</td>\n",
       "      <td>1.34</td>\n",
       "      <td>4.57</td>\n",
       "      <td>6.590000</td>\n",
       "      <td>8.88</td>\n",
       "    </tr>\n",
       "    <tr>\n",
       "      <th>#400</th>\n",
       "      <td>1874.0</td>\n",
       "      <td>3.834408</td>\n",
       "      <td>2.658864</td>\n",
       "      <td>0.29</td>\n",
       "      <td>2.40</td>\n",
       "      <td>9.398100</td>\n",
       "      <td>13.33</td>\n",
       "    </tr>\n",
       "    <tr>\n",
       "      <th>Alpha C2S</th>\n",
       "      <td>1206.0</td>\n",
       "      <td>1.922852</td>\n",
       "      <td>0.861702</td>\n",
       "      <td>0.00</td>\n",
       "      <td>1.99</td>\n",
       "      <td>3.819500</td>\n",
       "      <td>4.33</td>\n",
       "    </tr>\n",
       "  </tbody>\n",
       "</table>\n",
       "</div>"
      ],
      "text/plain": [
       "            count       mean       std    min    50%        99%    max\n",
       "CS3        2292.0  31.851470  4.991803  20.88  29.88  39.799999  47.40\n",
       "C3A        3097.0   4.507054  0.930531   1.34   4.57   6.590000   8.88\n",
       "#400       1874.0   3.834408  2.658864   0.29   2.40   9.398100  13.33\n",
       "Alpha C2S  1206.0   1.922852  0.861702   0.00   1.99   3.819500   4.33"
      ]
     },
     "execution_count": 63,
     "metadata": {},
     "output_type": "execute_result"
    },
    {
     "data": {
      "application/javascript": [
       "\n",
       "            setTimeout(function() {\n",
       "                var nbb_cell_id = 63;\n",
       "                var nbb_unformatted_code = \"df[check].describe(percentiles=[0.99]).T\";\n",
       "                var nbb_formatted_code = \"df[check].describe(percentiles=[0.99]).T\";\n",
       "                var nbb_cells = Jupyter.notebook.get_cells();\n",
       "                for (var i = 0; i < nbb_cells.length; ++i) {\n",
       "                    if (nbb_cells[i].input_prompt_number == nbb_cell_id) {\n",
       "                        if (nbb_cells[i].get_text() == nbb_unformatted_code) {\n",
       "                             nbb_cells[i].set_text(nbb_formatted_code);\n",
       "                        }\n",
       "                        break;\n",
       "                    }\n",
       "                }\n",
       "            }, 500);\n",
       "            "
      ],
      "text/plain": [
       "<IPython.core.display.Javascript object>"
      ]
     },
     "metadata": {},
     "output_type": "display_data"
    }
   ],
   "source": [
    "df[check].describe(percentiles=[0.99]).T"
   ]
  },
  {
   "cell_type": "code",
   "execution_count": 64,
   "id": "8a0f504a",
   "metadata": {},
   "outputs": [
    {
     "data": {
      "text/plain": [
       "(3231, 61)"
      ]
     },
     "execution_count": 64,
     "metadata": {},
     "output_type": "execute_result"
    },
    {
     "data": {
      "application/javascript": [
       "\n",
       "            setTimeout(function() {\n",
       "                var nbb_cell_id = 64;\n",
       "                var nbb_unformatted_code = \"df.shape\";\n",
       "                var nbb_formatted_code = \"df.shape\";\n",
       "                var nbb_cells = Jupyter.notebook.get_cells();\n",
       "                for (var i = 0; i < nbb_cells.length; ++i) {\n",
       "                    if (nbb_cells[i].input_prompt_number == nbb_cell_id) {\n",
       "                        if (nbb_cells[i].get_text() == nbb_unformatted_code) {\n",
       "                             nbb_cells[i].set_text(nbb_formatted_code);\n",
       "                        }\n",
       "                        break;\n",
       "                    }\n",
       "                }\n",
       "            }, 500);\n",
       "            "
      ],
      "text/plain": [
       "<IPython.core.display.Javascript object>"
      ]
     },
     "metadata": {},
     "output_type": "display_data"
    }
   ],
   "source": [
    "df.shape"
   ]
  },
  {
   "cell_type": "markdown",
   "id": "f1068eee",
   "metadata": {},
   "source": [
    "### Dropping duplicated rows"
   ]
  },
  {
   "cell_type": "code",
   "execution_count": 65,
   "id": "4f5813a6",
   "metadata": {},
   "outputs": [
    {
     "data": {
      "application/javascript": [
       "\n",
       "            setTimeout(function() {\n",
       "                var nbb_cell_id = 65;\n",
       "                var nbb_unformatted_code = \"df = df.reset_index(drop=True)\";\n",
       "                var nbb_formatted_code = \"df = df.reset_index(drop=True)\";\n",
       "                var nbb_cells = Jupyter.notebook.get_cells();\n",
       "                for (var i = 0; i < nbb_cells.length; ++i) {\n",
       "                    if (nbb_cells[i].input_prompt_number == nbb_cell_id) {\n",
       "                        if (nbb_cells[i].get_text() == nbb_unformatted_code) {\n",
       "                             nbb_cells[i].set_text(nbb_formatted_code);\n",
       "                        }\n",
       "                        break;\n",
       "                    }\n",
       "                }\n",
       "            }, 500);\n",
       "            "
      ],
      "text/plain": [
       "<IPython.core.display.Javascript object>"
      ]
     },
     "metadata": {},
     "output_type": "display_data"
    }
   ],
   "source": [
    "df = df.reset_index(drop=True)"
   ]
  },
  {
   "cell_type": "code",
   "execution_count": 66,
   "id": "9daf40fe",
   "metadata": {},
   "outputs": [
    {
     "data": {
      "text/plain": [
       "(3231, 61)"
      ]
     },
     "execution_count": 66,
     "metadata": {},
     "output_type": "execute_result"
    },
    {
     "data": {
      "application/javascript": [
       "\n",
       "            setTimeout(function() {\n",
       "                var nbb_cell_id = 66;\n",
       "                var nbb_unformatted_code = \"df.shape\";\n",
       "                var nbb_formatted_code = \"df.shape\";\n",
       "                var nbb_cells = Jupyter.notebook.get_cells();\n",
       "                for (var i = 0; i < nbb_cells.length; ++i) {\n",
       "                    if (nbb_cells[i].input_prompt_number == nbb_cell_id) {\n",
       "                        if (nbb_cells[i].get_text() == nbb_unformatted_code) {\n",
       "                             nbb_cells[i].set_text(nbb_formatted_code);\n",
       "                        }\n",
       "                        break;\n",
       "                    }\n",
       "                }\n",
       "            }, 500);\n",
       "            "
      ],
      "text/plain": [
       "<IPython.core.display.Javascript object>"
      ]
     },
     "metadata": {},
     "output_type": "display_data"
    }
   ],
   "source": [
    "df.shape"
   ]
  },
  {
   "cell_type": "code",
   "execution_count": 67,
   "id": "06fe6a02",
   "metadata": {},
   "outputs": [
    {
     "data": {
      "text/plain": [
       "Factory_Plant\n",
       "partner_iv         0\n",
       "partner_ii    0\n",
       "partner_i    0\n",
       "dtype: int64"
      ]
     },
     "execution_count": 67,
     "metadata": {},
     "output_type": "execute_result"
    },
    {
     "data": {
      "application/javascript": [
       "\n",
       "            setTimeout(function() {\n",
       "                var nbb_cell_id = 67;\n",
       "                var nbb_unformatted_code = \"df.drop([\\\"Date\\\"], axis=1).groupby(\\\"Factory_Plant\\\").apply(\\n    lambda x: x.duplicated().sum()\\n).sort_values(ascending=False)\";\n",
       "                var nbb_formatted_code = \"df.drop([\\\"Date\\\"], axis=1).groupby(\\\"Factory_Plant\\\").apply(\\n    lambda x: x.duplicated().sum()\\n).sort_values(ascending=False)\";\n",
       "                var nbb_cells = Jupyter.notebook.get_cells();\n",
       "                for (var i = 0; i < nbb_cells.length; ++i) {\n",
       "                    if (nbb_cells[i].input_prompt_number == nbb_cell_id) {\n",
       "                        if (nbb_cells[i].get_text() == nbb_unformatted_code) {\n",
       "                             nbb_cells[i].set_text(nbb_formatted_code);\n",
       "                        }\n",
       "                        break;\n",
       "                    }\n",
       "                }\n",
       "            }, 500);\n",
       "            "
      ],
      "text/plain": [
       "<IPython.core.display.Javascript object>"
      ]
     },
     "metadata": {},
     "output_type": "display_data"
    }
   ],
   "source": [
    "df.drop([\"Date\"], axis=1).groupby(\"Factory_Plant\").apply(\n",
    "    lambda x: x.duplicated().sum()\n",
    ").sort_values(ascending=False)"
   ]
  },
  {
   "cell_type": "code",
   "execution_count": 68,
   "id": "1612ad95",
   "metadata": {},
   "outputs": [
    {
     "data": {
      "text/plain": [
       "Factory\n",
       "partner_iv         0\n",
       "partner_ii    0\n",
       "partner_i    0\n",
       "dtype: int64"
      ]
     },
     "execution_count": 68,
     "metadata": {},
     "output_type": "execute_result"
    },
    {
     "data": {
      "application/javascript": [
       "\n",
       "            setTimeout(function() {\n",
       "                var nbb_cell_id = 68;\n",
       "                var nbb_unformatted_code = \"df[\\\"Factory\\\"] = df[\\\"Factory_Plant\\\"].apply(lambda x: x.split(\\\"_\\\")[0])\\n\\ndf.drop([\\\"Date\\\", \\\"Cement_Type\\\", \\\"Factory_Plant\\\"], axis=1).groupby(\\\"Factory\\\").apply(\\n    lambda x: x.duplicated().sum()\\n).sort_values(ascending=False)\";\n",
       "                var nbb_formatted_code = \"df[\\\"Factory\\\"] = df[\\\"Factory_Plant\\\"].apply(lambda x: x.split(\\\"_\\\")[0])\\n\\ndf.drop([\\\"Date\\\", \\\"Cement_Type\\\", \\\"Factory_Plant\\\"], axis=1).groupby(\\\"Factory\\\").apply(\\n    lambda x: x.duplicated().sum()\\n).sort_values(ascending=False)\";\n",
       "                var nbb_cells = Jupyter.notebook.get_cells();\n",
       "                for (var i = 0; i < nbb_cells.length; ++i) {\n",
       "                    if (nbb_cells[i].input_prompt_number == nbb_cell_id) {\n",
       "                        if (nbb_cells[i].get_text() == nbb_unformatted_code) {\n",
       "                             nbb_cells[i].set_text(nbb_formatted_code);\n",
       "                        }\n",
       "                        break;\n",
       "                    }\n",
       "                }\n",
       "            }, 500);\n",
       "            "
      ],
      "text/plain": [
       "<IPython.core.display.Javascript object>"
      ]
     },
     "metadata": {},
     "output_type": "display_data"
    }
   ],
   "source": [
    "df[\"Factory\"] = df[\"Factory_Plant\"].apply(lambda x: x.split(\"_\")[0])\n",
    "\n",
    "df.drop([\"Date\", \"Cement_Type\", \"Factory_Plant\"], axis=1).groupby(\"Factory\").apply(\n",
    "    lambda x: x.duplicated().sum()\n",
    ").sort_values(ascending=False)"
   ]
  },
  {
   "cell_type": "code",
   "execution_count": 69,
   "id": "108a9356",
   "metadata": {},
   "outputs": [
    {
     "data": {
      "application/javascript": [
       "\n",
       "            setTimeout(function() {\n",
       "                var nbb_cell_id = 69;\n",
       "                var nbb_unformatted_code = \"df = df.drop([\\\"Factory\\\"], axis=1)\";\n",
       "                var nbb_formatted_code = \"df = df.drop([\\\"Factory\\\"], axis=1)\";\n",
       "                var nbb_cells = Jupyter.notebook.get_cells();\n",
       "                for (var i = 0; i < nbb_cells.length; ++i) {\n",
       "                    if (nbb_cells[i].input_prompt_number == nbb_cell_id) {\n",
       "                        if (nbb_cells[i].get_text() == nbb_unformatted_code) {\n",
       "                             nbb_cells[i].set_text(nbb_formatted_code);\n",
       "                        }\n",
       "                        break;\n",
       "                    }\n",
       "                }\n",
       "            }, 500);\n",
       "            "
      ],
      "text/plain": [
       "<IPython.core.display.Javascript object>"
      ]
     },
     "metadata": {},
     "output_type": "display_data"
    }
   ],
   "source": [
    "df = df.drop([\"Factory\"], axis=1)"
   ]
  },
  {
   "cell_type": "code",
   "execution_count": 70,
   "id": "4495e558",
   "metadata": {},
   "outputs": [
    {
     "data": {
      "application/javascript": [
       "\n",
       "            setTimeout(function() {\n",
       "                var nbb_cell_id = 70;\n",
       "                var nbb_unformatted_code = \"df = df.loc[df.select_dtypes(\\\"number\\\").drop_duplicates().index].reset_index(drop=True)\";\n",
       "                var nbb_formatted_code = \"df = df.loc[df.select_dtypes(\\\"number\\\").drop_duplicates().index].reset_index(drop=True)\";\n",
       "                var nbb_cells = Jupyter.notebook.get_cells();\n",
       "                for (var i = 0; i < nbb_cells.length; ++i) {\n",
       "                    if (nbb_cells[i].input_prompt_number == nbb_cell_id) {\n",
       "                        if (nbb_cells[i].get_text() == nbb_unformatted_code) {\n",
       "                             nbb_cells[i].set_text(nbb_formatted_code);\n",
       "                        }\n",
       "                        break;\n",
       "                    }\n",
       "                }\n",
       "            }, 500);\n",
       "            "
      ],
      "text/plain": [
       "<IPython.core.display.Javascript object>"
      ]
     },
     "metadata": {},
     "output_type": "display_data"
    }
   ],
   "source": [
    "df = df.loc[df.select_dtypes(\"number\").drop_duplicates().index].reset_index(drop=True)"
   ]
  },
  {
   "cell_type": "code",
   "execution_count": 71,
   "id": "50de3aec",
   "metadata": {},
   "outputs": [
    {
     "data": {
      "text/plain": [
       "(3231, 61)"
      ]
     },
     "execution_count": 71,
     "metadata": {},
     "output_type": "execute_result"
    },
    {
     "data": {
      "application/javascript": [
       "\n",
       "            setTimeout(function() {\n",
       "                var nbb_cell_id = 71;\n",
       "                var nbb_unformatted_code = \"df.shape\";\n",
       "                var nbb_formatted_code = \"df.shape\";\n",
       "                var nbb_cells = Jupyter.notebook.get_cells();\n",
       "                for (var i = 0; i < nbb_cells.length; ++i) {\n",
       "                    if (nbb_cells[i].input_prompt_number == nbb_cell_id) {\n",
       "                        if (nbb_cells[i].get_text() == nbb_unformatted_code) {\n",
       "                             nbb_cells[i].set_text(nbb_formatted_code);\n",
       "                        }\n",
       "                        break;\n",
       "                    }\n",
       "                }\n",
       "            }, 500);\n",
       "            "
      ],
      "text/plain": [
       "<IPython.core.display.Javascript object>"
      ]
     },
     "metadata": {},
     "output_type": "display_data"
    }
   ],
   "source": [
    "df.shape"
   ]
  },
  {
   "cell_type": "markdown",
   "id": "86607bd5",
   "metadata": {},
   "source": [
    "### Dropping rows with negative values"
   ]
  },
  {
   "cell_type": "code",
   "execution_count": 72,
   "id": "a46b2408",
   "metadata": {},
   "outputs": [
    {
     "data": {
      "text/plain": [
       "Cl-                     0.0\n",
       "Gamma C2S               0.0\n",
       "K2O                     0.0\n",
       "Na2O                    0.0\n",
       "Cl                      0.0\n",
       "TiO2                    0.0\n",
       "Total C3S               0.0\n",
       "Total C2S               0.0\n",
       "Initial setting time    0.0\n",
       "CS7                     0.0\n",
       "Total Alkali as Na2O    0.0\n",
       "Insoluble Residue       0.0\n",
       "Alpha C2S               0.0\n",
       "Beta C2S                0.0\n",
       "Portlandite             0.0\n",
       "Blaine                  0.0\n",
       "Arcanite                0.0\n",
       "Bassanite               0.0\n",
       "Anhydrite               0.0\n",
       "Calcite                 0.0\n",
       "Dolomite                0.0\n",
       "Muscovite               0.0\n",
       "%Gypsum                 0.0\n",
       "%Limestone              0.0\n",
       "%Clinker                0.0\n",
       "Dehydration             0.0\n",
       "Final setting time      0.0\n",
       "Density                 0.0\n",
       "MgO                     0.0\n",
       "Fe2O3                   0.0\n",
       "Al2O3                   0.0\n",
       "SiO2                    0.0\n",
       "C3A                     0.0\n",
       "Loss on Ignition        0.0\n",
       "CS1                     0.0\n",
       "CS3                     0.0\n",
       "CS28                    0.0\n",
       "Belite Beta             0.0\n",
       "Cubic C3A               0.0\n",
       "CaCO3                   0.0\n",
       "#400                    0.0\n",
       "#325                    0.0\n",
       "Sieve 24 um             0.0\n",
       "SO3                     0.0\n",
       "C4AF                    0.0\n",
       "CaO                     0.0\n",
       "Langbeinite             0.0\n",
       "Aphthitalite            0.0\n",
       "Ca(OH)2                 0.0\n",
       "CO2                     0.0\n",
       "K2SO4                   0.0\n",
       "Soundness               0.0\n",
       "Orthorhombic C3A        0.0\n",
       "Free CaO                0.0\n",
       "Quartz                  0.0\n",
       "Gypsum                  0.0\n",
       "Periclase               0.0\n",
       "#200                    0.0\n",
       "dtype: float64"
      ]
     },
     "execution_count": 72,
     "metadata": {},
     "output_type": "execute_result"
    },
    {
     "data": {
      "application/javascript": [
       "\n",
       "            setTimeout(function() {\n",
       "                var nbb_cell_id = 72;\n",
       "                var nbb_unformatted_code = \"df[df.drop([\\\"Date\\\"], axis=1).duplicated()].drop(\\\"Date\\\", axis=1).select_dtypes(\\n    include=\\\"number\\\"\\n).apply(lambda x: x < 0).sum().sort_values(ascending=False)\";\n",
       "                var nbb_formatted_code = \"df[df.drop([\\\"Date\\\"], axis=1).duplicated()].drop(\\\"Date\\\", axis=1).select_dtypes(\\n    include=\\\"number\\\"\\n).apply(lambda x: x < 0).sum().sort_values(ascending=False)\";\n",
       "                var nbb_cells = Jupyter.notebook.get_cells();\n",
       "                for (var i = 0; i < nbb_cells.length; ++i) {\n",
       "                    if (nbb_cells[i].input_prompt_number == nbb_cell_id) {\n",
       "                        if (nbb_cells[i].get_text() == nbb_unformatted_code) {\n",
       "                             nbb_cells[i].set_text(nbb_formatted_code);\n",
       "                        }\n",
       "                        break;\n",
       "                    }\n",
       "                }\n",
       "            }, 500);\n",
       "            "
      ],
      "text/plain": [
       "<IPython.core.display.Javascript object>"
      ]
     },
     "metadata": {},
     "output_type": "display_data"
    }
   ],
   "source": [
    "df[df.drop([\"Date\"], axis=1).duplicated()].drop(\"Date\", axis=1).select_dtypes(\n",
    "    include=\"number\"\n",
    ").apply(lambda x: x < 0).sum().sort_values(ascending=False)"
   ]
  },
  {
   "cell_type": "code",
   "execution_count": 73,
   "id": "8ff6ecde",
   "metadata": {},
   "outputs": [
    {
     "data": {
      "text/plain": [
       "(3231, 61)"
      ]
     },
     "execution_count": 73,
     "metadata": {},
     "output_type": "execute_result"
    },
    {
     "data": {
      "application/javascript": [
       "\n",
       "            setTimeout(function() {\n",
       "                var nbb_cell_id = 73;\n",
       "                var nbb_unformatted_code = \"df.shape\";\n",
       "                var nbb_formatted_code = \"df.shape\";\n",
       "                var nbb_cells = Jupyter.notebook.get_cells();\n",
       "                for (var i = 0; i < nbb_cells.length; ++i) {\n",
       "                    if (nbb_cells[i].input_prompt_number == nbb_cell_id) {\n",
       "                        if (nbb_cells[i].get_text() == nbb_unformatted_code) {\n",
       "                             nbb_cells[i].set_text(nbb_formatted_code);\n",
       "                        }\n",
       "                        break;\n",
       "                    }\n",
       "                }\n",
       "            }, 500);\n",
       "            "
      ],
      "text/plain": [
       "<IPython.core.display.Javascript object>"
      ]
     },
     "metadata": {},
     "output_type": "display_data"
    }
   ],
   "source": [
    "df.shape"
   ]
  },
  {
   "cell_type": "code",
   "execution_count": 74,
   "id": "1246b28e",
   "metadata": {},
   "outputs": [
    {
     "data": {
      "text/plain": [
       "Cl-                     0\n",
       "Gamma C2S               0\n",
       "K2O                     0\n",
       "Na2O                    0\n",
       "Cl                      0\n",
       "TiO2                    0\n",
       "Total C3S               0\n",
       "Total C2S               0\n",
       "Initial setting time    0\n",
       "CS7                     0\n",
       "Total Alkali as Na2O    0\n",
       "Insoluble Residue       0\n",
       "Alpha C2S               0\n",
       "Beta C2S                0\n",
       "Portlandite             0\n",
       "Blaine                  0\n",
       "Arcanite                0\n",
       "Bassanite               0\n",
       "Anhydrite               0\n",
       "Calcite                 0\n",
       "Dolomite                0\n",
       "Muscovite               0\n",
       "%Gypsum                 0\n",
       "%Limestone              0\n",
       "%Clinker                0\n",
       "Dehydration             0\n",
       "Final setting time      0\n",
       "Density                 0\n",
       "MgO                     0\n",
       "Fe2O3                   0\n",
       "Al2O3                   0\n",
       "SiO2                    0\n",
       "C3A                     0\n",
       "Loss on Ignition        0\n",
       "CS1                     0\n",
       "CS3                     0\n",
       "CS28                    0\n",
       "Belite Beta             0\n",
       "Cubic C3A               0\n",
       "CaCO3                   0\n",
       "#400                    0\n",
       "#325                    0\n",
       "Sieve 24 um             0\n",
       "SO3                     0\n",
       "C4AF                    0\n",
       "CaO                     0\n",
       "Langbeinite             0\n",
       "Aphthitalite            0\n",
       "Ca(OH)2                 0\n",
       "CO2                     0\n",
       "K2SO4                   0\n",
       "Soundness               0\n",
       "Orthorhombic C3A        0\n",
       "Free CaO                0\n",
       "Quartz                  0\n",
       "Gypsum                  0\n",
       "Periclase               0\n",
       "#200                    0\n",
       "dtype: int64"
      ]
     },
     "execution_count": 74,
     "metadata": {},
     "output_type": "execute_result"
    },
    {
     "data": {
      "application/javascript": [
       "\n",
       "            setTimeout(function() {\n",
       "                var nbb_cell_id = 74;\n",
       "                var nbb_unformatted_code = \"df.drop(\\\"Date\\\", axis=1).select_dtypes(include=\\\"number\\\").apply(\\n    lambda x: x < 0\\n).sum().sort_values(ascending=False)\";\n",
       "                var nbb_formatted_code = \"df.drop(\\\"Date\\\", axis=1).select_dtypes(include=\\\"number\\\").apply(\\n    lambda x: x < 0\\n).sum().sort_values(ascending=False)\";\n",
       "                var nbb_cells = Jupyter.notebook.get_cells();\n",
       "                for (var i = 0; i < nbb_cells.length; ++i) {\n",
       "                    if (nbb_cells[i].input_prompt_number == nbb_cell_id) {\n",
       "                        if (nbb_cells[i].get_text() == nbb_unformatted_code) {\n",
       "                             nbb_cells[i].set_text(nbb_formatted_code);\n",
       "                        }\n",
       "                        break;\n",
       "                    }\n",
       "                }\n",
       "            }, 500);\n",
       "            "
      ],
      "text/plain": [
       "<IPython.core.display.Javascript object>"
      ]
     },
     "metadata": {},
     "output_type": "display_data"
    }
   ],
   "source": [
    "df.drop(\"Date\", axis=1).select_dtypes(include=\"number\").apply(\n",
    "    lambda x: x < 0\n",
    ").sum().sort_values(ascending=False)"
   ]
  },
  {
   "cell_type": "code",
   "execution_count": 75,
   "id": "95d93cd9",
   "metadata": {},
   "outputs": [
    {
     "data": {
      "text/plain": [
       "Series([], Name: count, dtype: int64)"
      ]
     },
     "execution_count": 75,
     "metadata": {},
     "output_type": "execute_result"
    },
    {
     "data": {
      "application/javascript": [
       "\n",
       "            setTimeout(function() {\n",
       "                var nbb_cell_id = 75;\n",
       "                var nbb_unformatted_code = \"df[\\n    df.drop(\\\"Date\\\", axis=1)\\n    .select_dtypes(include=\\\"number\\\")\\n    .apply(lambda x: x < 0)\\n    .any(axis=1)\\n][\\\"Factory_Plant\\\"].value_counts()\";\n",
       "                var nbb_formatted_code = \"df[\\n    df.drop(\\\"Date\\\", axis=1)\\n    .select_dtypes(include=\\\"number\\\")\\n    .apply(lambda x: x < 0)\\n    .any(axis=1)\\n][\\\"Factory_Plant\\\"].value_counts()\";\n",
       "                var nbb_cells = Jupyter.notebook.get_cells();\n",
       "                for (var i = 0; i < nbb_cells.length; ++i) {\n",
       "                    if (nbb_cells[i].input_prompt_number == nbb_cell_id) {\n",
       "                        if (nbb_cells[i].get_text() == nbb_unformatted_code) {\n",
       "                             nbb_cells[i].set_text(nbb_formatted_code);\n",
       "                        }\n",
       "                        break;\n",
       "                    }\n",
       "                }\n",
       "            }, 500);\n",
       "            "
      ],
      "text/plain": [
       "<IPython.core.display.Javascript object>"
      ]
     },
     "metadata": {},
     "output_type": "display_data"
    }
   ],
   "source": [
    "df[\n",
    "    df.drop(\"Date\", axis=1)\n",
    "    .select_dtypes(include=\"number\")\n",
    "    .apply(lambda x: x < 0)\n",
    "    .any(axis=1)\n",
    "][\"Factory_Plant\"].value_counts()"
   ]
  },
  {
   "cell_type": "code",
   "execution_count": 76,
   "id": "de6e2fb1",
   "metadata": {},
   "outputs": [
    {
     "data": {
      "application/javascript": [
       "\n",
       "            setTimeout(function() {\n",
       "                var nbb_cell_id = 76;\n",
       "                var nbb_unformatted_code = \"index = df[\\n    df.drop(\\\"Date\\\", axis=1)\\n    .select_dtypes(include=\\\"number\\\")\\n    .apply(lambda x: x < 0)\\n    .any(axis=1)\\n].index\\n\\ndf = df.drop(index).reset_index(drop=True)\";\n",
       "                var nbb_formatted_code = \"index = df[\\n    df.drop(\\\"Date\\\", axis=1)\\n    .select_dtypes(include=\\\"number\\\")\\n    .apply(lambda x: x < 0)\\n    .any(axis=1)\\n].index\\n\\ndf = df.drop(index).reset_index(drop=True)\";\n",
       "                var nbb_cells = Jupyter.notebook.get_cells();\n",
       "                for (var i = 0; i < nbb_cells.length; ++i) {\n",
       "                    if (nbb_cells[i].input_prompt_number == nbb_cell_id) {\n",
       "                        if (nbb_cells[i].get_text() == nbb_unformatted_code) {\n",
       "                             nbb_cells[i].set_text(nbb_formatted_code);\n",
       "                        }\n",
       "                        break;\n",
       "                    }\n",
       "                }\n",
       "            }, 500);\n",
       "            "
      ],
      "text/plain": [
       "<IPython.core.display.Javascript object>"
      ]
     },
     "metadata": {},
     "output_type": "display_data"
    }
   ],
   "source": [
    "index = df[\n",
    "    df.drop(\"Date\", axis=1)\n",
    "    .select_dtypes(include=\"number\")\n",
    "    .apply(lambda x: x < 0)\n",
    "    .any(axis=1)\n",
    "].index\n",
    "\n",
    "df = df.drop(index).reset_index(drop=True)"
   ]
  },
  {
   "cell_type": "code",
   "execution_count": 77,
   "id": "cb9c0c3b",
   "metadata": {
    "scrolled": false
   },
   "outputs": [
    {
     "name": "stdout",
     "output_type": "stream",
     "text": [
      "<class 'pandas.core.frame.DataFrame'>\n",
      "RangeIndex: 3231 entries, 0 to 3230\n",
      "Data columns (total 61 columns):\n",
      " #   Column                Non-Null Count  Dtype         \n",
      "---  ------                --------------  -----         \n",
      " 0   Date                  3231 non-null   datetime64[ns]\n",
      " 1   Cl-                   945 non-null    float64       \n",
      " 2   Blaine                3227 non-null   float64       \n",
      " 3   C3A                   3097 non-null   float64       \n",
      " 4   Loss on Ignition      3021 non-null   float64       \n",
      " 5   CS1                   2228 non-null   float64       \n",
      " 6   CS3                   2292 non-null   float64       \n",
      " 7   CS28                  3231 non-null   float64       \n",
      " 8   Belite Beta           866 non-null    float64       \n",
      " 9   Cubic C3A             2072 non-null   float64       \n",
      " 10  CaCO3                 866 non-null    float64       \n",
      " 11  #400                  1874 non-null   float64       \n",
      " 12  #325                  2286 non-null   float64       \n",
      " 13  Sieve 24 um           942 non-null    float64       \n",
      " 14  SO3                   3211 non-null   float64       \n",
      " 15  C4AF                  3097 non-null   float64       \n",
      " 16  CaO                   3133 non-null   float64       \n",
      " 17  Langbeinite           1251 non-null   float64       \n",
      " 18  Aphthitalite          2072 non-null   float64       \n",
      " 19  Ca(OH)2               866 non-null    float64       \n",
      " 20  CO2                   865 non-null    float64       \n",
      " 21  K2SO4                 866 non-null    float64       \n",
      " 22  Soundness             2063 non-null   float64       \n",
      " 23  Orthorhombic C3A      2072 non-null   float64       \n",
      " 24  Free CaO              3101 non-null   float64       \n",
      " 25  Quartz                2071 non-null   float64       \n",
      " 26  Gypsum                2071 non-null   float64       \n",
      " 27  Periclase             2072 non-null   float64       \n",
      " 28  Cement_Type           3231 non-null   object        \n",
      " 29  Factory_Plant         3231 non-null   object        \n",
      " 30  SiO2                  2267 non-null   float64       \n",
      " 31  Al2O3                 2267 non-null   float64       \n",
      " 32  Fe2O3                 2267 non-null   float64       \n",
      " 33  MgO                   2267 non-null   float64       \n",
      " 34  K2O                   2267 non-null   float64       \n",
      " 35  Na2O                  2267 non-null   float64       \n",
      " 36  Cl                    1 non-null      float64       \n",
      " 37  TiO2                  1 non-null      float64       \n",
      " 38  Total C3S             2231 non-null   float64       \n",
      " 39  Total C2S             1843 non-null   float64       \n",
      " 40  Initial setting time  2286 non-null   float64       \n",
      " 41  CS7                   2284 non-null   float64       \n",
      " 42  Total Alkali as Na2O  884 non-null    float64       \n",
      " 43  Insoluble Residue     1221 non-null   float64       \n",
      " 44  Alpha C2S             1206 non-null   float64       \n",
      " 45  Beta C2S              1206 non-null   float64       \n",
      " 46  Gamma C2S             1206 non-null   float64       \n",
      " 47  Portlandite           1206 non-null   float64       \n",
      " 48  Arcanite              1206 non-null   float64       \n",
      " 49  Bassanite             1205 non-null   float64       \n",
      " 50  Anhydrite             1205 non-null   float64       \n",
      " 51  Calcite               1205 non-null   float64       \n",
      " 52  Dolomite              1205 non-null   float64       \n",
      " 53  Muscovite             1205 non-null   float64       \n",
      " 54  %Gypsum               1174 non-null   float64       \n",
      " 55  %Limestone            1174 non-null   float64       \n",
      " 56  %Clinker              1174 non-null   float64       \n",
      " 57  Dehydration           791 non-null    float64       \n",
      " 58  Final setting time    1230 non-null   float64       \n",
      " 59  Density               1230 non-null   float64       \n",
      " 60  #200                  1230 non-null   float64       \n",
      "dtypes: datetime64[ns](1), float64(58), object(2)\n",
      "memory usage: 1.5+ MB\n"
     ]
    },
    {
     "data": {
      "application/javascript": [
       "\n",
       "            setTimeout(function() {\n",
       "                var nbb_cell_id = 77;\n",
       "                var nbb_unformatted_code = \"df.info()\";\n",
       "                var nbb_formatted_code = \"df.info()\";\n",
       "                var nbb_cells = Jupyter.notebook.get_cells();\n",
       "                for (var i = 0; i < nbb_cells.length; ++i) {\n",
       "                    if (nbb_cells[i].input_prompt_number == nbb_cell_id) {\n",
       "                        if (nbb_cells[i].get_text() == nbb_unformatted_code) {\n",
       "                             nbb_cells[i].set_text(nbb_formatted_code);\n",
       "                        }\n",
       "                        break;\n",
       "                    }\n",
       "                }\n",
       "            }, 500);\n",
       "            "
      ],
      "text/plain": [
       "<IPython.core.display.Javascript object>"
      ]
     },
     "metadata": {},
     "output_type": "display_data"
    }
   ],
   "source": [
    "df.info()"
   ]
  },
  {
   "cell_type": "markdown",
   "id": "3375db5e",
   "metadata": {},
   "source": [
    "### Reseting the index"
   ]
  },
  {
   "cell_type": "code",
   "execution_count": 78,
   "id": "5d5afc72",
   "metadata": {},
   "outputs": [
    {
     "data": {
      "application/javascript": [
       "\n",
       "            setTimeout(function() {\n",
       "                var nbb_cell_id = 78;\n",
       "                var nbb_unformatted_code = \"df = df.reset_index(drop=True)\";\n",
       "                var nbb_formatted_code = \"df = df.reset_index(drop=True)\";\n",
       "                var nbb_cells = Jupyter.notebook.get_cells();\n",
       "                for (var i = 0; i < nbb_cells.length; ++i) {\n",
       "                    if (nbb_cells[i].input_prompt_number == nbb_cell_id) {\n",
       "                        if (nbb_cells[i].get_text() == nbb_unformatted_code) {\n",
       "                             nbb_cells[i].set_text(nbb_formatted_code);\n",
       "                        }\n",
       "                        break;\n",
       "                    }\n",
       "                }\n",
       "            }, 500);\n",
       "            "
      ],
      "text/plain": [
       "<IPython.core.display.Javascript object>"
      ]
     },
     "metadata": {},
     "output_type": "display_data"
    }
   ],
   "source": [
    "df = df.reset_index(drop=True)"
   ]
  },
  {
   "cell_type": "markdown",
   "id": "022d43ee",
   "metadata": {},
   "source": [
    "### Sort the dataset by date"
   ]
  },
  {
   "cell_type": "code",
   "execution_count": 79,
   "id": "7e218114",
   "metadata": {},
   "outputs": [
    {
     "data": {
      "text/plain": [
       "dtype('<M8[ns]')"
      ]
     },
     "execution_count": 79,
     "metadata": {},
     "output_type": "execute_result"
    },
    {
     "data": {
      "application/javascript": [
       "\n",
       "            setTimeout(function() {\n",
       "                var nbb_cell_id = 79;\n",
       "                var nbb_unformatted_code = \"# We first make sure Date column was infered correctly\\ndf[\\\"Date\\\"].dtype\";\n",
       "                var nbb_formatted_code = \"# We first make sure Date column was infered correctly\\ndf[\\\"Date\\\"].dtype\";\n",
       "                var nbb_cells = Jupyter.notebook.get_cells();\n",
       "                for (var i = 0; i < nbb_cells.length; ++i) {\n",
       "                    if (nbb_cells[i].input_prompt_number == nbb_cell_id) {\n",
       "                        if (nbb_cells[i].get_text() == nbb_unformatted_code) {\n",
       "                             nbb_cells[i].set_text(nbb_formatted_code);\n",
       "                        }\n",
       "                        break;\n",
       "                    }\n",
       "                }\n",
       "            }, 500);\n",
       "            "
      ],
      "text/plain": [
       "<IPython.core.display.Javascript object>"
      ]
     },
     "metadata": {},
     "output_type": "display_data"
    }
   ],
   "source": [
    "# We first make sure Date column was infered correctly\n",
    "df[\"Date\"].dtype"
   ]
  },
  {
   "cell_type": "code",
   "execution_count": 80,
   "id": "cdf5a6f6",
   "metadata": {},
   "outputs": [
    {
     "data": {
      "application/javascript": [
       "\n",
       "            setTimeout(function() {\n",
       "                var nbb_cell_id = 80;\n",
       "                var nbb_unformatted_code = \"df[\\\"Date\\\"] = df[\\\"Date\\\"].dt.date\";\n",
       "                var nbb_formatted_code = \"df[\\\"Date\\\"] = df[\\\"Date\\\"].dt.date\";\n",
       "                var nbb_cells = Jupyter.notebook.get_cells();\n",
       "                for (var i = 0; i < nbb_cells.length; ++i) {\n",
       "                    if (nbb_cells[i].input_prompt_number == nbb_cell_id) {\n",
       "                        if (nbb_cells[i].get_text() == nbb_unformatted_code) {\n",
       "                             nbb_cells[i].set_text(nbb_formatted_code);\n",
       "                        }\n",
       "                        break;\n",
       "                    }\n",
       "                }\n",
       "            }, 500);\n",
       "            "
      ],
      "text/plain": [
       "<IPython.core.display.Javascript object>"
      ]
     },
     "metadata": {},
     "output_type": "display_data"
    }
   ],
   "source": [
    "df[\"Date\"] = df[\"Date\"].dt.date"
   ]
  },
  {
   "cell_type": "markdown",
   "id": "44ad8c91",
   "metadata": {},
   "source": [
    "df = df.sort_values(by=\"Date\")"
   ]
  },
  {
   "cell_type": "code",
   "execution_count": 81,
   "id": "c6d1c001",
   "metadata": {},
   "outputs": [
    {
     "data": {
      "application/javascript": [
       "\n",
       "            setTimeout(function() {\n",
       "                var nbb_cell_id = 81;\n",
       "                var nbb_unformatted_code = \"df = df.reset_index(drop=True)\";\n",
       "                var nbb_formatted_code = \"df = df.reset_index(drop=True)\";\n",
       "                var nbb_cells = Jupyter.notebook.get_cells();\n",
       "                for (var i = 0; i < nbb_cells.length; ++i) {\n",
       "                    if (nbb_cells[i].input_prompt_number == nbb_cell_id) {\n",
       "                        if (nbb_cells[i].get_text() == nbb_unformatted_code) {\n",
       "                             nbb_cells[i].set_text(nbb_formatted_code);\n",
       "                        }\n",
       "                        break;\n",
       "                    }\n",
       "                }\n",
       "            }, 500);\n",
       "            "
      ],
      "text/plain": [
       "<IPython.core.display.Javascript object>"
      ]
     },
     "metadata": {},
     "output_type": "display_data"
    }
   ],
   "source": [
    "df = df.reset_index(drop=True)"
   ]
  },
  {
   "cell_type": "code",
   "execution_count": 82,
   "id": "0e4c6119",
   "metadata": {},
   "outputs": [
    {
     "data": {
      "application/javascript": [
       "\n",
       "            setTimeout(function() {\n",
       "                var nbb_cell_id = 82;\n",
       "                var nbb_unformatted_code = \"# df = df.iloc[1:].reset_index(drop=True)\";\n",
       "                var nbb_formatted_code = \"# df = df.iloc[1:].reset_index(drop=True)\";\n",
       "                var nbb_cells = Jupyter.notebook.get_cells();\n",
       "                for (var i = 0; i < nbb_cells.length; ++i) {\n",
       "                    if (nbb_cells[i].input_prompt_number == nbb_cell_id) {\n",
       "                        if (nbb_cells[i].get_text() == nbb_unformatted_code) {\n",
       "                             nbb_cells[i].set_text(nbb_formatted_code);\n",
       "                        }\n",
       "                        break;\n",
       "                    }\n",
       "                }\n",
       "            }, 500);\n",
       "            "
      ],
      "text/plain": [
       "<IPython.core.display.Javascript object>"
      ]
     },
     "metadata": {},
     "output_type": "display_data"
    }
   ],
   "source": [
    "# df = df.iloc[1:].reset_index(drop=True)"
   ]
  },
  {
   "cell_type": "code",
   "execution_count": 83,
   "id": "8a4a8ecf",
   "metadata": {},
   "outputs": [
    {
     "data": {
      "text/plain": [
       "2001"
      ]
     },
     "execution_count": 83,
     "metadata": {},
     "output_type": "execute_result"
    },
    {
     "data": {
      "application/javascript": [
       "\n",
       "            setTimeout(function() {\n",
       "                var nbb_cell_id = 83;\n",
       "                var nbb_unformatted_code = \"df[\\\"Final setting time\\\"].isna().sum()\";\n",
       "                var nbb_formatted_code = \"df[\\\"Final setting time\\\"].isna().sum()\";\n",
       "                var nbb_cells = Jupyter.notebook.get_cells();\n",
       "                for (var i = 0; i < nbb_cells.length; ++i) {\n",
       "                    if (nbb_cells[i].input_prompt_number == nbb_cell_id) {\n",
       "                        if (nbb_cells[i].get_text() == nbb_unformatted_code) {\n",
       "                             nbb_cells[i].set_text(nbb_formatted_code);\n",
       "                        }\n",
       "                        break;\n",
       "                    }\n",
       "                }\n",
       "            }, 500);\n",
       "            "
      ],
      "text/plain": [
       "<IPython.core.display.Javascript object>"
      ]
     },
     "metadata": {},
     "output_type": "display_data"
    }
   ],
   "source": [
    "df[\"Final setting time\"].isna().sum()"
   ]
  },
  {
   "cell_type": "markdown",
   "id": "91f40634",
   "metadata": {},
   "source": [
    "# Extra preprocessing"
   ]
  },
  {
   "cell_type": "markdown",
   "id": "efcaeaa0",
   "metadata": {},
   "source": [
    "## Dropping missing variables with 35% or more of missing values"
   ]
  },
  {
   "cell_type": "code",
   "execution_count": 84,
   "id": "d6294d2c",
   "metadata": {
    "scrolled": false
   },
   "outputs": [
    {
     "data": {
      "text/html": [
       "<style type=\"text/css\">\n",
       "#T_ed9a9_row0_col0, #T_ed9a9_row1_col0 {\n",
       "  background-color: #67000d;\n",
       "  color: #f1f1f1;\n",
       "}\n",
       "#T_ed9a9_row2_col0 {\n",
       "  background-color: #c9181d;\n",
       "  color: #f1f1f1;\n",
       "}\n",
       "#T_ed9a9_row3_col0, #T_ed9a9_row4_col0, #T_ed9a9_row5_col0, #T_ed9a9_row6_col0, #T_ed9a9_row7_col0 {\n",
       "  background-color: #d01d1f;\n",
       "  color: #f1f1f1;\n",
       "}\n",
       "#T_ed9a9_row8_col0 {\n",
       "  background-color: #d11e1f;\n",
       "  color: #f1f1f1;\n",
       "}\n",
       "#T_ed9a9_row9_col0, #T_ed9a9_row10_col0 {\n",
       "  background-color: #d72322;\n",
       "  color: #f1f1f1;\n",
       "}\n",
       "#T_ed9a9_row11_col0, #T_ed9a9_row12_col0, #T_ed9a9_row13_col0 {\n",
       "  background-color: #eb372a;\n",
       "  color: #f1f1f1;\n",
       "}\n",
       "#T_ed9a9_row14_col0, #T_ed9a9_row15_col0, #T_ed9a9_row16_col0, #T_ed9a9_row17_col0, #T_ed9a9_row18_col0, #T_ed9a9_row19_col0, #T_ed9a9_row20_col0, #T_ed9a9_row21_col0, #T_ed9a9_row22_col0, #T_ed9a9_row23_col0 {\n",
       "  background-color: #ee3a2c;\n",
       "  color: #f1f1f1;\n",
       "}\n",
       "#T_ed9a9_row24_col0 {\n",
       "  background-color: #ef3c2c;\n",
       "  color: #f1f1f1;\n",
       "}\n",
       "#T_ed9a9_row25_col0, #T_ed9a9_row26_col0, #T_ed9a9_row27_col0 {\n",
       "  background-color: #f03d2d;\n",
       "  color: #f1f1f1;\n",
       "}\n",
       "#T_ed9a9_row28_col0 {\n",
       "  background-color: #f0402f;\n",
       "  color: #f1f1f1;\n",
       "}\n",
       "#T_ed9a9_row29_col0 {\n",
       "  background-color: #fc8060;\n",
       "  color: #f1f1f1;\n",
       "}\n",
       "#T_ed9a9_row30_col0 {\n",
       "  background-color: #fc8464;\n",
       "  color: #f1f1f1;\n",
       "}\n",
       "#T_ed9a9_row31_col0 {\n",
       "  background-color: #fc9777;\n",
       "  color: #000000;\n",
       "}\n",
       "#T_ed9a9_row32_col0, #T_ed9a9_row33_col0, #T_ed9a9_row34_col0, #T_ed9a9_row35_col0, #T_ed9a9_row36_col0, #T_ed9a9_row37_col0 {\n",
       "  background-color: #fc9879;\n",
       "  color: #000000;\n",
       "}\n",
       "#T_ed9a9_row38_col0, #T_ed9a9_row39_col0 {\n",
       "  background-color: #fca78b;\n",
       "  color: #000000;\n",
       "}\n",
       "#T_ed9a9_row40_col0, #T_ed9a9_row41_col0, #T_ed9a9_row42_col0, #T_ed9a9_row43_col0, #T_ed9a9_row44_col0, #T_ed9a9_row45_col0 {\n",
       "  background-color: #fcab8f;\n",
       "  color: #000000;\n",
       "}\n",
       "#T_ed9a9_row46_col0 {\n",
       "  background-color: #fcad90;\n",
       "  color: #000000;\n",
       "}\n",
       "#T_ed9a9_row47_col0, #T_ed9a9_row48_col0, #T_ed9a9_row49_col0 {\n",
       "  background-color: #fcae92;\n",
       "  color: #000000;\n",
       "}\n",
       "#T_ed9a9_row50_col0 {\n",
       "  background-color: #feeae1;\n",
       "  color: #000000;\n",
       "}\n",
       "#T_ed9a9_row51_col0, #T_ed9a9_row52_col0, #T_ed9a9_row53_col0 {\n",
       "  background-color: #ffeee7;\n",
       "  color: #000000;\n",
       "}\n",
       "#T_ed9a9_row54_col0 {\n",
       "  background-color: #fff0e9;\n",
       "  color: #000000;\n",
       "}\n",
       "#T_ed9a9_row55_col0 {\n",
       "  background-color: #fff4ef;\n",
       "  color: #000000;\n",
       "}\n",
       "#T_ed9a9_row56_col0, #T_ed9a9_row57_col0, #T_ed9a9_row58_col0, #T_ed9a9_row59_col0, #T_ed9a9_row60_col0 {\n",
       "  background-color: #fff5f0;\n",
       "  color: #000000;\n",
       "}\n",
       "</style>\n",
       "<table id=\"T_ed9a9\">\n",
       "  <thead>\n",
       "    <tr>\n",
       "      <th class=\"blank level0\" >&nbsp;</th>\n",
       "      <th id=\"T_ed9a9_level0_col0\" class=\"col_heading level0 col0\" >Missing (%)</th>\n",
       "    </tr>\n",
       "  </thead>\n",
       "  <tbody>\n",
       "    <tr>\n",
       "      <th id=\"T_ed9a9_level0_row0\" class=\"row_heading level0 row0\" >TiO2</th>\n",
       "      <td id=\"T_ed9a9_row0_col0\" class=\"data row0 col0\" >99.969050</td>\n",
       "    </tr>\n",
       "    <tr>\n",
       "      <th id=\"T_ed9a9_level0_row1\" class=\"row_heading level0 row1\" >Cl</th>\n",
       "      <td id=\"T_ed9a9_row1_col0\" class=\"data row1 col0\" >99.969050</td>\n",
       "    </tr>\n",
       "    <tr>\n",
       "      <th id=\"T_ed9a9_level0_row2\" class=\"row_heading level0 row2\" >Dehydration</th>\n",
       "      <td id=\"T_ed9a9_row2_col0\" class=\"data row2 col0\" >75.518415</td>\n",
       "    </tr>\n",
       "    <tr>\n",
       "      <th id=\"T_ed9a9_level0_row3\" class=\"row_heading level0 row3\" >CO2</th>\n",
       "      <td id=\"T_ed9a9_row3_col0\" class=\"data row3 col0\" >73.228103</td>\n",
       "    </tr>\n",
       "    <tr>\n",
       "      <th id=\"T_ed9a9_level0_row4\" class=\"row_heading level0 row4\" >K2SO4</th>\n",
       "      <td id=\"T_ed9a9_row4_col0\" class=\"data row4 col0\" >73.197153</td>\n",
       "    </tr>\n",
       "    <tr>\n",
       "      <th id=\"T_ed9a9_level0_row5\" class=\"row_heading level0 row5\" >Belite Beta</th>\n",
       "      <td id=\"T_ed9a9_row5_col0\" class=\"data row5 col0\" >73.197153</td>\n",
       "    </tr>\n",
       "    <tr>\n",
       "      <th id=\"T_ed9a9_level0_row6\" class=\"row_heading level0 row6\" >Ca(OH)2</th>\n",
       "      <td id=\"T_ed9a9_row6_col0\" class=\"data row6 col0\" >73.197153</td>\n",
       "    </tr>\n",
       "    <tr>\n",
       "      <th id=\"T_ed9a9_level0_row7\" class=\"row_heading level0 row7\" >CaCO3</th>\n",
       "      <td id=\"T_ed9a9_row7_col0\" class=\"data row7 col0\" >73.197153</td>\n",
       "    </tr>\n",
       "    <tr>\n",
       "      <th id=\"T_ed9a9_level0_row8\" class=\"row_heading level0 row8\" >Total Alkali as Na2O</th>\n",
       "      <td id=\"T_ed9a9_row8_col0\" class=\"data row8 col0\" >72.640050</td>\n",
       "    </tr>\n",
       "    <tr>\n",
       "      <th id=\"T_ed9a9_level0_row9\" class=\"row_heading level0 row9\" >Sieve 24 um</th>\n",
       "      <td id=\"T_ed9a9_row9_col0\" class=\"data row9 col0\" >70.844940</td>\n",
       "    </tr>\n",
       "    <tr>\n",
       "      <th id=\"T_ed9a9_level0_row10\" class=\"row_heading level0 row10\" >Cl-</th>\n",
       "      <td id=\"T_ed9a9_row10_col0\" class=\"data row10 col0\" >70.752089</td>\n",
       "    </tr>\n",
       "    <tr>\n",
       "      <th id=\"T_ed9a9_level0_row11\" class=\"row_heading level0 row11\" >%Gypsum</th>\n",
       "      <td id=\"T_ed9a9_row11_col0\" class=\"data row11 col0\" >63.664500</td>\n",
       "    </tr>\n",
       "    <tr>\n",
       "      <th id=\"T_ed9a9_level0_row12\" class=\"row_heading level0 row12\" >%Limestone</th>\n",
       "      <td id=\"T_ed9a9_row12_col0\" class=\"data row12 col0\" >63.664500</td>\n",
       "    </tr>\n",
       "    <tr>\n",
       "      <th id=\"T_ed9a9_level0_row13\" class=\"row_heading level0 row13\" >%Clinker</th>\n",
       "      <td id=\"T_ed9a9_row13_col0\" class=\"data row13 col0\" >63.664500</td>\n",
       "    </tr>\n",
       "    <tr>\n",
       "      <th id=\"T_ed9a9_level0_row14\" class=\"row_heading level0 row14\" >Bassanite</th>\n",
       "      <td id=\"T_ed9a9_row14_col0\" class=\"data row14 col0\" >62.705045</td>\n",
       "    </tr>\n",
       "    <tr>\n",
       "      <th id=\"T_ed9a9_level0_row15\" class=\"row_heading level0 row15\" >Muscovite</th>\n",
       "      <td id=\"T_ed9a9_row15_col0\" class=\"data row15 col0\" >62.705045</td>\n",
       "    </tr>\n",
       "    <tr>\n",
       "      <th id=\"T_ed9a9_level0_row16\" class=\"row_heading level0 row16\" >Dolomite</th>\n",
       "      <td id=\"T_ed9a9_row16_col0\" class=\"data row16 col0\" >62.705045</td>\n",
       "    </tr>\n",
       "    <tr>\n",
       "      <th id=\"T_ed9a9_level0_row17\" class=\"row_heading level0 row17\" >Calcite</th>\n",
       "      <td id=\"T_ed9a9_row17_col0\" class=\"data row17 col0\" >62.705045</td>\n",
       "    </tr>\n",
       "    <tr>\n",
       "      <th id=\"T_ed9a9_level0_row18\" class=\"row_heading level0 row18\" >Anhydrite</th>\n",
       "      <td id=\"T_ed9a9_row18_col0\" class=\"data row18 col0\" >62.705045</td>\n",
       "    </tr>\n",
       "    <tr>\n",
       "      <th id=\"T_ed9a9_level0_row19\" class=\"row_heading level0 row19\" >Beta C2S</th>\n",
       "      <td id=\"T_ed9a9_row19_col0\" class=\"data row19 col0\" >62.674095</td>\n",
       "    </tr>\n",
       "    <tr>\n",
       "      <th id=\"T_ed9a9_level0_row20\" class=\"row_heading level0 row20\" >Gamma C2S</th>\n",
       "      <td id=\"T_ed9a9_row20_col0\" class=\"data row20 col0\" >62.674095</td>\n",
       "    </tr>\n",
       "    <tr>\n",
       "      <th id=\"T_ed9a9_level0_row21\" class=\"row_heading level0 row21\" >Portlandite</th>\n",
       "      <td id=\"T_ed9a9_row21_col0\" class=\"data row21 col0\" >62.674095</td>\n",
       "    </tr>\n",
       "    <tr>\n",
       "      <th id=\"T_ed9a9_level0_row22\" class=\"row_heading level0 row22\" >Alpha C2S</th>\n",
       "      <td id=\"T_ed9a9_row22_col0\" class=\"data row22 col0\" >62.674095</td>\n",
       "    </tr>\n",
       "    <tr>\n",
       "      <th id=\"T_ed9a9_level0_row23\" class=\"row_heading level0 row23\" >Arcanite</th>\n",
       "      <td id=\"T_ed9a9_row23_col0\" class=\"data row23 col0\" >62.674095</td>\n",
       "    </tr>\n",
       "    <tr>\n",
       "      <th id=\"T_ed9a9_level0_row24\" class=\"row_heading level0 row24\" >Insoluble Residue</th>\n",
       "      <td id=\"T_ed9a9_row24_col0\" class=\"data row24 col0\" >62.209842</td>\n",
       "    </tr>\n",
       "    <tr>\n",
       "      <th id=\"T_ed9a9_level0_row25\" class=\"row_heading level0 row25\" >#200</th>\n",
       "      <td id=\"T_ed9a9_row25_col0\" class=\"data row25 col0\" >61.931291</td>\n",
       "    </tr>\n",
       "    <tr>\n",
       "      <th id=\"T_ed9a9_level0_row26\" class=\"row_heading level0 row26\" >Final setting time</th>\n",
       "      <td id=\"T_ed9a9_row26_col0\" class=\"data row26 col0\" >61.931291</td>\n",
       "    </tr>\n",
       "    <tr>\n",
       "      <th id=\"T_ed9a9_level0_row27\" class=\"row_heading level0 row27\" >Density</th>\n",
       "      <td id=\"T_ed9a9_row27_col0\" class=\"data row27 col0\" >61.931291</td>\n",
       "    </tr>\n",
       "    <tr>\n",
       "      <th id=\"T_ed9a9_level0_row28\" class=\"row_heading level0 row28\" >Langbeinite</th>\n",
       "      <td id=\"T_ed9a9_row28_col0\" class=\"data row28 col0\" >61.281337</td>\n",
       "    </tr>\n",
       "    <tr>\n",
       "      <th id=\"T_ed9a9_level0_row29\" class=\"row_heading level0 row29\" >Total C2S</th>\n",
       "      <td id=\"T_ed9a9_row29_col0\" class=\"data row29 col0\" >42.958836</td>\n",
       "    </tr>\n",
       "    <tr>\n",
       "      <th id=\"T_ed9a9_level0_row30\" class=\"row_heading level0 row30\" >#400</th>\n",
       "      <td id=\"T_ed9a9_row30_col0\" class=\"data row30 col0\" >41.999381</td>\n",
       "    </tr>\n",
       "    <tr>\n",
       "      <th id=\"T_ed9a9_level0_row31\" class=\"row_heading level0 row31\" >Soundness</th>\n",
       "      <td id=\"T_ed9a9_row31_col0\" class=\"data row31 col0\" >36.149799</td>\n",
       "    </tr>\n",
       "    <tr>\n",
       "      <th id=\"T_ed9a9_level0_row32\" class=\"row_heading level0 row32\" >Gypsum</th>\n",
       "      <td id=\"T_ed9a9_row32_col0\" class=\"data row32 col0\" >35.902197</td>\n",
       "    </tr>\n",
       "    <tr>\n",
       "      <th id=\"T_ed9a9_level0_row33\" class=\"row_heading level0 row33\" >Quartz</th>\n",
       "      <td id=\"T_ed9a9_row33_col0\" class=\"data row33 col0\" >35.902197</td>\n",
       "    </tr>\n",
       "    <tr>\n",
       "      <th id=\"T_ed9a9_level0_row34\" class=\"row_heading level0 row34\" >Periclase</th>\n",
       "      <td id=\"T_ed9a9_row34_col0\" class=\"data row34 col0\" >35.871247</td>\n",
       "    </tr>\n",
       "    <tr>\n",
       "      <th id=\"T_ed9a9_level0_row35\" class=\"row_heading level0 row35\" >Orthorhombic C3A</th>\n",
       "      <td id=\"T_ed9a9_row35_col0\" class=\"data row35 col0\" >35.871247</td>\n",
       "    </tr>\n",
       "    <tr>\n",
       "      <th id=\"T_ed9a9_level0_row36\" class=\"row_heading level0 row36\" >Aphthitalite</th>\n",
       "      <td id=\"T_ed9a9_row36_col0\" class=\"data row36 col0\" >35.871247</td>\n",
       "    </tr>\n",
       "    <tr>\n",
       "      <th id=\"T_ed9a9_level0_row37\" class=\"row_heading level0 row37\" >Cubic C3A</th>\n",
       "      <td id=\"T_ed9a9_row37_col0\" class=\"data row37 col0\" >35.871247</td>\n",
       "    </tr>\n",
       "    <tr>\n",
       "      <th id=\"T_ed9a9_level0_row38\" class=\"row_heading level0 row38\" >CS1</th>\n",
       "      <td id=\"T_ed9a9_row38_col0\" class=\"data row38 col0\" >31.043021</td>\n",
       "    </tr>\n",
       "    <tr>\n",
       "      <th id=\"T_ed9a9_level0_row39\" class=\"row_heading level0 row39\" >Total C3S</th>\n",
       "      <td id=\"T_ed9a9_row39_col0\" class=\"data row39 col0\" >30.950170</td>\n",
       "    </tr>\n",
       "    <tr>\n",
       "      <th id=\"T_ed9a9_level0_row40\" class=\"row_heading level0 row40\" >SiO2</th>\n",
       "      <td id=\"T_ed9a9_row40_col0\" class=\"data row40 col0\" >29.835964</td>\n",
       "    </tr>\n",
       "    <tr>\n",
       "      <th id=\"T_ed9a9_level0_row41\" class=\"row_heading level0 row41\" >Na2O</th>\n",
       "      <td id=\"T_ed9a9_row41_col0\" class=\"data row41 col0\" >29.835964</td>\n",
       "    </tr>\n",
       "    <tr>\n",
       "      <th id=\"T_ed9a9_level0_row42\" class=\"row_heading level0 row42\" >K2O</th>\n",
       "      <td id=\"T_ed9a9_row42_col0\" class=\"data row42 col0\" >29.835964</td>\n",
       "    </tr>\n",
       "    <tr>\n",
       "      <th id=\"T_ed9a9_level0_row43\" class=\"row_heading level0 row43\" >MgO</th>\n",
       "      <td id=\"T_ed9a9_row43_col0\" class=\"data row43 col0\" >29.835964</td>\n",
       "    </tr>\n",
       "    <tr>\n",
       "      <th id=\"T_ed9a9_level0_row44\" class=\"row_heading level0 row44\" >Fe2O3</th>\n",
       "      <td id=\"T_ed9a9_row44_col0\" class=\"data row44 col0\" >29.835964</td>\n",
       "    </tr>\n",
       "    <tr>\n",
       "      <th id=\"T_ed9a9_level0_row45\" class=\"row_heading level0 row45\" >Al2O3</th>\n",
       "      <td id=\"T_ed9a9_row45_col0\" class=\"data row45 col0\" >29.835964</td>\n",
       "    </tr>\n",
       "    <tr>\n",
       "      <th id=\"T_ed9a9_level0_row46\" class=\"row_heading level0 row46\" >CS7</th>\n",
       "      <td id=\"T_ed9a9_row46_col0\" class=\"data row46 col0\" >29.309811</td>\n",
       "    </tr>\n",
       "    <tr>\n",
       "      <th id=\"T_ed9a9_level0_row47\" class=\"row_heading level0 row47\" >#325</th>\n",
       "      <td id=\"T_ed9a9_row47_col0\" class=\"data row47 col0\" >29.247911</td>\n",
       "    </tr>\n",
       "    <tr>\n",
       "      <th id=\"T_ed9a9_level0_row48\" class=\"row_heading level0 row48\" >Initial setting time</th>\n",
       "      <td id=\"T_ed9a9_row48_col0\" class=\"data row48 col0\" >29.247911</td>\n",
       "    </tr>\n",
       "    <tr>\n",
       "      <th id=\"T_ed9a9_level0_row49\" class=\"row_heading level0 row49\" >CS3</th>\n",
       "      <td id=\"T_ed9a9_row49_col0\" class=\"data row49 col0\" >29.062210</td>\n",
       "    </tr>\n",
       "    <tr>\n",
       "      <th id=\"T_ed9a9_level0_row50\" class=\"row_heading level0 row50\" >Loss on Ignition</th>\n",
       "      <td id=\"T_ed9a9_row50_col0\" class=\"data row50 col0\" >6.499536</td>\n",
       "    </tr>\n",
       "    <tr>\n",
       "      <th id=\"T_ed9a9_level0_row51\" class=\"row_heading level0 row51\" >C3A</th>\n",
       "      <td id=\"T_ed9a9_row51_col0\" class=\"data row51 col0\" >4.147323</td>\n",
       "    </tr>\n",
       "    <tr>\n",
       "      <th id=\"T_ed9a9_level0_row52\" class=\"row_heading level0 row52\" >C4AF</th>\n",
       "      <td id=\"T_ed9a9_row52_col0\" class=\"data row52 col0\" >4.147323</td>\n",
       "    </tr>\n",
       "    <tr>\n",
       "      <th id=\"T_ed9a9_level0_row53\" class=\"row_heading level0 row53\" >Free CaO</th>\n",
       "      <td id=\"T_ed9a9_row53_col0\" class=\"data row53 col0\" >4.023522</td>\n",
       "    </tr>\n",
       "    <tr>\n",
       "      <th id=\"T_ed9a9_level0_row54\" class=\"row_heading level0 row54\" >CaO</th>\n",
       "      <td id=\"T_ed9a9_row54_col0\" class=\"data row54 col0\" >3.033117</td>\n",
       "    </tr>\n",
       "    <tr>\n",
       "      <th id=\"T_ed9a9_level0_row55\" class=\"row_heading level0 row55\" >SO3</th>\n",
       "      <td id=\"T_ed9a9_row55_col0\" class=\"data row55 col0\" >0.619003</td>\n",
       "    </tr>\n",
       "    <tr>\n",
       "      <th id=\"T_ed9a9_level0_row56\" class=\"row_heading level0 row56\" >Blaine</th>\n",
       "      <td id=\"T_ed9a9_row56_col0\" class=\"data row56 col0\" >0.123801</td>\n",
       "    </tr>\n",
       "    <tr>\n",
       "      <th id=\"T_ed9a9_level0_row57\" class=\"row_heading level0 row57\" >CS28</th>\n",
       "      <td id=\"T_ed9a9_row57_col0\" class=\"data row57 col0\" >0.000000</td>\n",
       "    </tr>\n",
       "    <tr>\n",
       "      <th id=\"T_ed9a9_level0_row58\" class=\"row_heading level0 row58\" >Cement_Type</th>\n",
       "      <td id=\"T_ed9a9_row58_col0\" class=\"data row58 col0\" >0.000000</td>\n",
       "    </tr>\n",
       "    <tr>\n",
       "      <th id=\"T_ed9a9_level0_row59\" class=\"row_heading level0 row59\" >Factory_Plant</th>\n",
       "      <td id=\"T_ed9a9_row59_col0\" class=\"data row59 col0\" >0.000000</td>\n",
       "    </tr>\n",
       "    <tr>\n",
       "      <th id=\"T_ed9a9_level0_row60\" class=\"row_heading level0 row60\" >Date</th>\n",
       "      <td id=\"T_ed9a9_row60_col0\" class=\"data row60 col0\" >0.000000</td>\n",
       "    </tr>\n",
       "  </tbody>\n",
       "</table>\n"
      ],
      "text/plain": [
       "<pandas.io.formats.style.Styler at 0x7fd57b592ec0>"
      ]
     },
     "execution_count": 84,
     "metadata": {},
     "output_type": "execute_result"
    },
    {
     "data": {
      "application/javascript": [
       "\n",
       "            setTimeout(function() {\n",
       "                var nbb_cell_id = 84;\n",
       "                var nbb_unformatted_code = \"(df.isna().sum() / df.shape[0] * 100).sort_values(ascending=False).to_frame(\\n    name=\\\"Missing (%)\\\"\\n).style.background_gradient(cmap=\\\"Reds\\\")\";\n",
       "                var nbb_formatted_code = \"(df.isna().sum() / df.shape[0] * 100).sort_values(ascending=False).to_frame(\\n    name=\\\"Missing (%)\\\"\\n).style.background_gradient(cmap=\\\"Reds\\\")\";\n",
       "                var nbb_cells = Jupyter.notebook.get_cells();\n",
       "                for (var i = 0; i < nbb_cells.length; ++i) {\n",
       "                    if (nbb_cells[i].input_prompt_number == nbb_cell_id) {\n",
       "                        if (nbb_cells[i].get_text() == nbb_unformatted_code) {\n",
       "                             nbb_cells[i].set_text(nbb_formatted_code);\n",
       "                        }\n",
       "                        break;\n",
       "                    }\n",
       "                }\n",
       "            }, 500);\n",
       "            "
      ],
      "text/plain": [
       "<IPython.core.display.Javascript object>"
      ]
     },
     "metadata": {},
     "output_type": "display_data"
    }
   ],
   "source": [
    "(df.isna().sum() / df.shape[0] * 100).sort_values(ascending=False).to_frame(\n",
    "    name=\"Missing (%)\"\n",
    ").style.background_gradient(cmap=\"Reds\")\n"
   ]
  },
  {
   "cell_type": "code",
   "execution_count": 85,
   "id": "71a8c6e2",
   "metadata": {},
   "outputs": [
    {
     "data": {
      "text/plain": [
       "<Axes: >"
      ]
     },
     "execution_count": 85,
     "metadata": {},
     "output_type": "execute_result"
    },
    {
     "data": {
      "image/png": "[encoded data removed]",
      "text/plain": [
       "<Figure size 2500x1000 with 2 Axes>"
      ]
     },
     "metadata": {},
     "output_type": "display_data"
    },
    {
     "data": {
      "application/javascript": [
       "\n",
       "            setTimeout(function() {\n",
       "                var nbb_cell_id = 85;\n",
       "                var nbb_unformatted_code = \"msno.matrix(df)\";\n",
       "                var nbb_formatted_code = \"msno.matrix(df)\";\n",
       "                var nbb_cells = Jupyter.notebook.get_cells();\n",
       "                for (var i = 0; i < nbb_cells.length; ++i) {\n",
       "                    if (nbb_cells[i].input_prompt_number == nbb_cell_id) {\n",
       "                        if (nbb_cells[i].get_text() == nbb_unformatted_code) {\n",
       "                             nbb_cells[i].set_text(nbb_formatted_code);\n",
       "                        }\n",
       "                        break;\n",
       "                    }\n",
       "                }\n",
       "            }, 500);\n",
       "            "
      ],
      "text/plain": [
       "<IPython.core.display.Javascript object>"
      ]
     },
     "metadata": {},
     "output_type": "display_data"
    }
   ],
   "source": [
    "msno.matrix(df)"
   ]
  },
  {
   "cell_type": "code",
   "execution_count": 86,
   "id": "41574f1c",
   "metadata": {},
   "outputs": [
    {
     "data": {
      "application/javascript": [
       "\n",
       "            setTimeout(function() {\n",
       "                var nbb_cell_id = 86;\n",
       "                var nbb_unformatted_code = \"threshold = 0.35\\nmissing_ratio = df.isnull().mean(axis=0)\\n# Filter columns to drop based on the threshold\\ncolumns_to_drop = missing_ratio[missing_ratio >= threshold].index\\ndf = df.drop(columns_to_drop, axis=1)\";\n",
       "                var nbb_formatted_code = \"threshold = 0.35\\nmissing_ratio = df.isnull().mean(axis=0)\\n# Filter columns to drop based on the threshold\\ncolumns_to_drop = missing_ratio[missing_ratio >= threshold].index\\ndf = df.drop(columns_to_drop, axis=1)\";\n",
       "                var nbb_cells = Jupyter.notebook.get_cells();\n",
       "                for (var i = 0; i < nbb_cells.length; ++i) {\n",
       "                    if (nbb_cells[i].input_prompt_number == nbb_cell_id) {\n",
       "                        if (nbb_cells[i].get_text() == nbb_unformatted_code) {\n",
       "                             nbb_cells[i].set_text(nbb_formatted_code);\n",
       "                        }\n",
       "                        break;\n",
       "                    }\n",
       "                }\n",
       "            }, 500);\n",
       "            "
      ],
      "text/plain": [
       "<IPython.core.display.Javascript object>"
      ]
     },
     "metadata": {},
     "output_type": "display_data"
    }
   ],
   "source": [
    "threshold = 0.35\n",
    "missing_ratio = df.isnull().mean(axis=0)\n",
    "# Filter columns to drop based on the threshold\n",
    "columns_to_drop = missing_ratio[missing_ratio >= threshold].index\n",
    "df = df.drop(columns_to_drop, axis=1)"
   ]
  },
  {
   "cell_type": "code",
   "execution_count": 87,
   "id": "0899d779",
   "metadata": {},
   "outputs": [
    {
     "data": {
      "text/html": [
       "<style type=\"text/css\">\n",
       "#T_bbad5_row0_col0, #T_bbad5_row1_col0 {\n",
       "  background-color: #67000d;\n",
       "  color: #f1f1f1;\n",
       "}\n",
       "#T_bbad5_row2_col0, #T_bbad5_row3_col0, #T_bbad5_row4_col0, #T_bbad5_row5_col0, #T_bbad5_row6_col0, #T_bbad5_row7_col0 {\n",
       "  background-color: #79040f;\n",
       "  color: #f1f1f1;\n",
       "}\n",
       "#T_bbad5_row8_col0, #T_bbad5_row9_col0, #T_bbad5_row10_col0 {\n",
       "  background-color: #820711;\n",
       "  color: #f1f1f1;\n",
       "}\n",
       "#T_bbad5_row11_col0 {\n",
       "  background-color: #860811;\n",
       "  color: #f1f1f1;\n",
       "}\n",
       "#T_bbad5_row12_col0 {\n",
       "  background-color: #fdc7b2;\n",
       "  color: #000000;\n",
       "}\n",
       "#T_bbad5_row13_col0, #T_bbad5_row14_col0 {\n",
       "  background-color: #fedecf;\n",
       "  color: #000000;\n",
       "}\n",
       "#T_bbad5_row15_col0 {\n",
       "  background-color: #fedfd0;\n",
       "  color: #000000;\n",
       "}\n",
       "#T_bbad5_row16_col0 {\n",
       "  background-color: #fee5d8;\n",
       "  color: #000000;\n",
       "}\n",
       "#T_bbad5_row17_col0 {\n",
       "  background-color: #fff2eb;\n",
       "  color: #000000;\n",
       "}\n",
       "#T_bbad5_row18_col0 {\n",
       "  background-color: #fff4ef;\n",
       "  color: #000000;\n",
       "}\n",
       "#T_bbad5_row19_col0, #T_bbad5_row20_col0, #T_bbad5_row21_col0, #T_bbad5_row22_col0 {\n",
       "  background-color: #fff5f0;\n",
       "  color: #000000;\n",
       "}\n",
       "</style>\n",
       "<table id=\"T_bbad5\">\n",
       "  <thead>\n",
       "    <tr>\n",
       "      <th class=\"blank level0\" >&nbsp;</th>\n",
       "      <th id=\"T_bbad5_level0_col0\" class=\"col_heading level0 col0\" >Missing (%)</th>\n",
       "    </tr>\n",
       "  </thead>\n",
       "  <tbody>\n",
       "    <tr>\n",
       "      <th id=\"T_bbad5_level0_row0\" class=\"row_heading level0 row0\" >CS1</th>\n",
       "      <td id=\"T_bbad5_row0_col0\" class=\"data row0 col0\" >31.043021</td>\n",
       "    </tr>\n",
       "    <tr>\n",
       "      <th id=\"T_bbad5_level0_row1\" class=\"row_heading level0 row1\" >Total C3S</th>\n",
       "      <td id=\"T_bbad5_row1_col0\" class=\"data row1 col0\" >30.950170</td>\n",
       "    </tr>\n",
       "    <tr>\n",
       "      <th id=\"T_bbad5_level0_row2\" class=\"row_heading level0 row2\" >Al2O3</th>\n",
       "      <td id=\"T_bbad5_row2_col0\" class=\"data row2 col0\" >29.835964</td>\n",
       "    </tr>\n",
       "    <tr>\n",
       "      <th id=\"T_bbad5_level0_row3\" class=\"row_heading level0 row3\" >Na2O</th>\n",
       "      <td id=\"T_bbad5_row3_col0\" class=\"data row3 col0\" >29.835964</td>\n",
       "    </tr>\n",
       "    <tr>\n",
       "      <th id=\"T_bbad5_level0_row4\" class=\"row_heading level0 row4\" >K2O</th>\n",
       "      <td id=\"T_bbad5_row4_col0\" class=\"data row4 col0\" >29.835964</td>\n",
       "    </tr>\n",
       "    <tr>\n",
       "      <th id=\"T_bbad5_level0_row5\" class=\"row_heading level0 row5\" >MgO</th>\n",
       "      <td id=\"T_bbad5_row5_col0\" class=\"data row5 col0\" >29.835964</td>\n",
       "    </tr>\n",
       "    <tr>\n",
       "      <th id=\"T_bbad5_level0_row6\" class=\"row_heading level0 row6\" >Fe2O3</th>\n",
       "      <td id=\"T_bbad5_row6_col0\" class=\"data row6 col0\" >29.835964</td>\n",
       "    </tr>\n",
       "    <tr>\n",
       "      <th id=\"T_bbad5_level0_row7\" class=\"row_heading level0 row7\" >SiO2</th>\n",
       "      <td id=\"T_bbad5_row7_col0\" class=\"data row7 col0\" >29.835964</td>\n",
       "    </tr>\n",
       "    <tr>\n",
       "      <th id=\"T_bbad5_level0_row8\" class=\"row_heading level0 row8\" >CS7</th>\n",
       "      <td id=\"T_bbad5_row8_col0\" class=\"data row8 col0\" >29.309811</td>\n",
       "    </tr>\n",
       "    <tr>\n",
       "      <th id=\"T_bbad5_level0_row9\" class=\"row_heading level0 row9\" >Initial setting time</th>\n",
       "      <td id=\"T_bbad5_row9_col0\" class=\"data row9 col0\" >29.247911</td>\n",
       "    </tr>\n",
       "    <tr>\n",
       "      <th id=\"T_bbad5_level0_row10\" class=\"row_heading level0 row10\" >#325</th>\n",
       "      <td id=\"T_bbad5_row10_col0\" class=\"data row10 col0\" >29.247911</td>\n",
       "    </tr>\n",
       "    <tr>\n",
       "      <th id=\"T_bbad5_level0_row11\" class=\"row_heading level0 row11\" >CS3</th>\n",
       "      <td id=\"T_bbad5_row11_col0\" class=\"data row11 col0\" >29.062210</td>\n",
       "    </tr>\n",
       "    <tr>\n",
       "      <th id=\"T_bbad5_level0_row12\" class=\"row_heading level0 row12\" >Loss on Ignition</th>\n",
       "      <td id=\"T_bbad5_row12_col0\" class=\"data row12 col0\" >6.499536</td>\n",
       "    </tr>\n",
       "    <tr>\n",
       "      <th id=\"T_bbad5_level0_row13\" class=\"row_heading level0 row13\" >C3A</th>\n",
       "      <td id=\"T_bbad5_row13_col0\" class=\"data row13 col0\" >4.147323</td>\n",
       "    </tr>\n",
       "    <tr>\n",
       "      <th id=\"T_bbad5_level0_row14\" class=\"row_heading level0 row14\" >C4AF</th>\n",
       "      <td id=\"T_bbad5_row14_col0\" class=\"data row14 col0\" >4.147323</td>\n",
       "    </tr>\n",
       "    <tr>\n",
       "      <th id=\"T_bbad5_level0_row15\" class=\"row_heading level0 row15\" >Free CaO</th>\n",
       "      <td id=\"T_bbad5_row15_col0\" class=\"data row15 col0\" >4.023522</td>\n",
       "    </tr>\n",
       "    <tr>\n",
       "      <th id=\"T_bbad5_level0_row16\" class=\"row_heading level0 row16\" >CaO</th>\n",
       "      <td id=\"T_bbad5_row16_col0\" class=\"data row16 col0\" >3.033117</td>\n",
       "    </tr>\n",
       "    <tr>\n",
       "      <th id=\"T_bbad5_level0_row17\" class=\"row_heading level0 row17\" >SO3</th>\n",
       "      <td id=\"T_bbad5_row17_col0\" class=\"data row17 col0\" >0.619003</td>\n",
       "    </tr>\n",
       "    <tr>\n",
       "      <th id=\"T_bbad5_level0_row18\" class=\"row_heading level0 row18\" >Blaine</th>\n",
       "      <td id=\"T_bbad5_row18_col0\" class=\"data row18 col0\" >0.123801</td>\n",
       "    </tr>\n",
       "    <tr>\n",
       "      <th id=\"T_bbad5_level0_row19\" class=\"row_heading level0 row19\" >Factory_Plant</th>\n",
       "      <td id=\"T_bbad5_row19_col0\" class=\"data row19 col0\" >0.000000</td>\n",
       "    </tr>\n",
       "    <tr>\n",
       "      <th id=\"T_bbad5_level0_row20\" class=\"row_heading level0 row20\" >Cement_Type</th>\n",
       "      <td id=\"T_bbad5_row20_col0\" class=\"data row20 col0\" >0.000000</td>\n",
       "    </tr>\n",
       "    <tr>\n",
       "      <th id=\"T_bbad5_level0_row21\" class=\"row_heading level0 row21\" >CS28</th>\n",
       "      <td id=\"T_bbad5_row21_col0\" class=\"data row21 col0\" >0.000000</td>\n",
       "    </tr>\n",
       "    <tr>\n",
       "      <th id=\"T_bbad5_level0_row22\" class=\"row_heading level0 row22\" >Date</th>\n",
       "      <td id=\"T_bbad5_row22_col0\" class=\"data row22 col0\" >0.000000</td>\n",
       "    </tr>\n",
       "  </tbody>\n",
       "</table>\n"
      ],
      "text/plain": [
       "<pandas.io.formats.style.Styler at 0x7fd57b592620>"
      ]
     },
     "execution_count": 87,
     "metadata": {},
     "output_type": "execute_result"
    },
    {
     "data": {
      "application/javascript": [
       "\n",
       "            setTimeout(function() {\n",
       "                var nbb_cell_id = 87;\n",
       "                var nbb_unformatted_code = \"(df.isna().sum() / df.shape[0] * 100).sort_values(ascending=False).to_frame(\\n    name=\\\"Missing (%)\\\"\\n).style.background_gradient(cmap=\\\"Reds\\\")\";\n",
       "                var nbb_formatted_code = \"(df.isna().sum() / df.shape[0] * 100).sort_values(ascending=False).to_frame(\\n    name=\\\"Missing (%)\\\"\\n).style.background_gradient(cmap=\\\"Reds\\\")\";\n",
       "                var nbb_cells = Jupyter.notebook.get_cells();\n",
       "                for (var i = 0; i < nbb_cells.length; ++i) {\n",
       "                    if (nbb_cells[i].input_prompt_number == nbb_cell_id) {\n",
       "                        if (nbb_cells[i].get_text() == nbb_unformatted_code) {\n",
       "                             nbb_cells[i].set_text(nbb_formatted_code);\n",
       "                        }\n",
       "                        break;\n",
       "                    }\n",
       "                }\n",
       "            }, 500);\n",
       "            "
      ],
      "text/plain": [
       "<IPython.core.display.Javascript object>"
      ]
     },
     "metadata": {},
     "output_type": "display_data"
    }
   ],
   "source": [
    "(df.isna().sum() / df.shape[0] * 100).sort_values(ascending=False).to_frame(\n",
    "    name=\"Missing (%)\"\n",
    ").style.background_gradient(cmap=\"Reds\")"
   ]
  },
  {
   "cell_type": "markdown",
   "id": "3f07a278",
   "metadata": {},
   "source": [
    "## Removng duplicated Values"
   ]
  },
  {
   "cell_type": "code",
   "execution_count": 88,
   "id": "0e5aaaaf",
   "metadata": {},
   "outputs": [
    {
     "data": {
      "text/plain": [
       "(3231, 23)"
      ]
     },
     "execution_count": 88,
     "metadata": {},
     "output_type": "execute_result"
    },
    {
     "data": {
      "application/javascript": [
       "\n",
       "            setTimeout(function() {\n",
       "                var nbb_cell_id = 88;\n",
       "                var nbb_unformatted_code = \"df.shape\";\n",
       "                var nbb_formatted_code = \"df.shape\";\n",
       "                var nbb_cells = Jupyter.notebook.get_cells();\n",
       "                for (var i = 0; i < nbb_cells.length; ++i) {\n",
       "                    if (nbb_cells[i].input_prompt_number == nbb_cell_id) {\n",
       "                        if (nbb_cells[i].get_text() == nbb_unformatted_code) {\n",
       "                             nbb_cells[i].set_text(nbb_formatted_code);\n",
       "                        }\n",
       "                        break;\n",
       "                    }\n",
       "                }\n",
       "            }, 500);\n",
       "            "
      ],
      "text/plain": [
       "<IPython.core.display.Javascript object>"
      ]
     },
     "metadata": {},
     "output_type": "display_data"
    }
   ],
   "source": [
    "df.shape"
   ]
  },
  {
   "cell_type": "code",
   "execution_count": 89,
   "id": "af14a56d",
   "metadata": {},
   "outputs": [
    {
     "data": {
      "application/javascript": [
       "\n",
       "            setTimeout(function() {\n",
       "                var nbb_cell_id = 89;\n",
       "                var nbb_unformatted_code = \"all_cols = [\\n    \\\"Blaine\\\",\\n    \\\"C3A\\\",\\n    \\\"Loss on Ignition\\\",\\n    \\\"CS1\\\",\\n    \\\"CS3\\\",\\n    \\\"CS28\\\",\\n    \\\"#325\\\",\\n    \\\"SO3\\\",\\n    \\\"C4AF\\\",\\n    \\\"CaO\\\",\\n    \\\"Free CaO\\\",\\n    \\\"Cement_Type\\\",\\n    \\\"Factory_Plant\\\",\\n    \\\"SiO2\\\",\\n    \\\"Al2O3\\\",\\n    \\\"Fe2O3\\\",\\n    \\\"MgO\\\",\\n    \\\"K2O\\\",\\n    \\\"Na2O\\\",\\n    \\\"Total C3S\\\",\\n    \\\"Initial setting time\\\",\\n    \\\"CS7\\\",\\n]\\n\\nchemical_mineralogical_cols = [\\n    \\\"Loss on Ignition\\\",\\n    \\\"SO3\\\",\\n    \\\"C4AF\\\",\\n    \\\"CaO\\\",\\n    \\\"Free CaO\\\",\\n    \\\"SiO2\\\",\\n    \\\"Al2O3\\\",\\n    \\\"Fe2O3\\\",\\n    \\\"MgO\\\",\\n    \\\"K2O\\\",\\n    \\\"Na2O\\\",\\n    \\\"Total C3S\\\",\\n]\\n\\ndf = df.drop_duplicates(subset=all_cols)\\ndf = df.drop_duplicates(subset=chemical_mineralogical_cols)\";\n",
       "                var nbb_formatted_code = \"all_cols = [\\n    \\\"Blaine\\\",\\n    \\\"C3A\\\",\\n    \\\"Loss on Ignition\\\",\\n    \\\"CS1\\\",\\n    \\\"CS3\\\",\\n    \\\"CS28\\\",\\n    \\\"#325\\\",\\n    \\\"SO3\\\",\\n    \\\"C4AF\\\",\\n    \\\"CaO\\\",\\n    \\\"Free CaO\\\",\\n    \\\"Cement_Type\\\",\\n    \\\"Factory_Plant\\\",\\n    \\\"SiO2\\\",\\n    \\\"Al2O3\\\",\\n    \\\"Fe2O3\\\",\\n    \\\"MgO\\\",\\n    \\\"K2O\\\",\\n    \\\"Na2O\\\",\\n    \\\"Total C3S\\\",\\n    \\\"Initial setting time\\\",\\n    \\\"CS7\\\",\\n]\\n\\nchemical_mineralogical_cols = [\\n    \\\"Loss on Ignition\\\",\\n    \\\"SO3\\\",\\n    \\\"C4AF\\\",\\n    \\\"CaO\\\",\\n    \\\"Free CaO\\\",\\n    \\\"SiO2\\\",\\n    \\\"Al2O3\\\",\\n    \\\"Fe2O3\\\",\\n    \\\"MgO\\\",\\n    \\\"K2O\\\",\\n    \\\"Na2O\\\",\\n    \\\"Total C3S\\\",\\n]\\n\\ndf = df.drop_duplicates(subset=all_cols)\\ndf = df.drop_duplicates(subset=chemical_mineralogical_cols)\";\n",
       "                var nbb_cells = Jupyter.notebook.get_cells();\n",
       "                for (var i = 0; i < nbb_cells.length; ++i) {\n",
       "                    if (nbb_cells[i].input_prompt_number == nbb_cell_id) {\n",
       "                        if (nbb_cells[i].get_text() == nbb_unformatted_code) {\n",
       "                             nbb_cells[i].set_text(nbb_formatted_code);\n",
       "                        }\n",
       "                        break;\n",
       "                    }\n",
       "                }\n",
       "            }, 500);\n",
       "            "
      ],
      "text/plain": [
       "<IPython.core.display.Javascript object>"
      ]
     },
     "metadata": {},
     "output_type": "display_data"
    }
   ],
   "source": [
    "all_cols = [\n",
    "    \"Blaine\",\n",
    "    \"C3A\",\n",
    "    \"Loss on Ignition\",\n",
    "    \"CS1\",\n",
    "    \"CS3\",\n",
    "    \"CS28\",\n",
    "    \"#325\",\n",
    "    \"SO3\",\n",
    "    \"C4AF\",\n",
    "    \"CaO\",\n",
    "    \"Free CaO\",\n",
    "    \"Cement_Type\",\n",
    "    \"Factory_Plant\",\n",
    "    \"SiO2\",\n",
    "    \"Al2O3\",\n",
    "    \"Fe2O3\",\n",
    "    \"MgO\",\n",
    "    \"K2O\",\n",
    "    \"Na2O\",\n",
    "    \"Total C3S\",\n",
    "    \"Initial setting time\",\n",
    "    \"CS7\",\n",
    "]\n",
    "\n",
    "chemical_mineralogical_cols = [\n",
    "    \"Loss on Ignition\",\n",
    "    \"SO3\",\n",
    "    \"C4AF\",\n",
    "    \"CaO\",\n",
    "    \"Free CaO\",\n",
    "    \"SiO2\",\n",
    "    \"Al2O3\",\n",
    "    \"Fe2O3\",\n",
    "    \"MgO\",\n",
    "    \"K2O\",\n",
    "    \"Na2O\",\n",
    "    \"Total C3S\",\n",
    "]\n",
    "\n",
    "df = df.drop_duplicates(subset=all_cols)\n",
    "df = df.drop_duplicates(subset=chemical_mineralogical_cols)"
   ]
  },
  {
   "cell_type": "code",
   "execution_count": 90,
   "id": "769df501",
   "metadata": {},
   "outputs": [
    {
     "data": {
      "text/plain": [
       "(3213, 23)"
      ]
     },
     "execution_count": 90,
     "metadata": {},
     "output_type": "execute_result"
    },
    {
     "data": {
      "application/javascript": [
       "\n",
       "            setTimeout(function() {\n",
       "                var nbb_cell_id = 90;\n",
       "                var nbb_unformatted_code = \"df.shape\";\n",
       "                var nbb_formatted_code = \"df.shape\";\n",
       "                var nbb_cells = Jupyter.notebook.get_cells();\n",
       "                for (var i = 0; i < nbb_cells.length; ++i) {\n",
       "                    if (nbb_cells[i].input_prompt_number == nbb_cell_id) {\n",
       "                        if (nbb_cells[i].get_text() == nbb_unformatted_code) {\n",
       "                             nbb_cells[i].set_text(nbb_formatted_code);\n",
       "                        }\n",
       "                        break;\n",
       "                    }\n",
       "                }\n",
       "            }, 500);\n",
       "            "
      ],
      "text/plain": [
       "<IPython.core.display.Javascript object>"
      ]
     },
     "metadata": {},
     "output_type": "display_data"
    }
   ],
   "source": [
    "df.shape"
   ]
  },
  {
   "cell_type": "markdown",
   "id": "9e33ed14",
   "metadata": {},
   "source": [
    "## Dropping negative values"
   ]
  },
  {
   "cell_type": "code",
   "execution_count": 91,
   "id": "8bf7bd83",
   "metadata": {},
   "outputs": [
    {
     "data": {
      "text/plain": [
       "False"
      ]
     },
     "execution_count": 91,
     "metadata": {},
     "output_type": "execute_result"
    },
    {
     "data": {
      "application/javascript": [
       "\n",
       "            setTimeout(function() {\n",
       "                var nbb_cell_id = 91;\n",
       "                var nbb_unformatted_code = \"df.select_dtypes(include=\\\"number\\\").apply(lambda x: x < 0).any(axis=1).any()\";\n",
       "                var nbb_formatted_code = \"df.select_dtypes(include=\\\"number\\\").apply(lambda x: x < 0).any(axis=1).any()\";\n",
       "                var nbb_cells = Jupyter.notebook.get_cells();\n",
       "                for (var i = 0; i < nbb_cells.length; ++i) {\n",
       "                    if (nbb_cells[i].input_prompt_number == nbb_cell_id) {\n",
       "                        if (nbb_cells[i].get_text() == nbb_unformatted_code) {\n",
       "                             nbb_cells[i].set_text(nbb_formatted_code);\n",
       "                        }\n",
       "                        break;\n",
       "                    }\n",
       "                }\n",
       "            }, 500);\n",
       "            "
      ],
      "text/plain": [
       "<IPython.core.display.Javascript object>"
      ]
     },
     "metadata": {},
     "output_type": "display_data"
    }
   ],
   "source": [
    "df.select_dtypes(include=\"number\").apply(lambda x: x < 0).any(axis=1).any()"
   ]
  },
  {
   "cell_type": "code",
   "execution_count": 92,
   "id": "c733a612",
   "metadata": {},
   "outputs": [
    {
     "data": {
      "text/plain": [
       "0"
      ]
     },
     "execution_count": 92,
     "metadata": {},
     "output_type": "execute_result"
    },
    {
     "data": {
      "application/javascript": [
       "\n",
       "            setTimeout(function() {\n",
       "                var nbb_cell_id = 92;\n",
       "                var nbb_unformatted_code = \"numeric_cols = df.select_dtypes(include=\\\"number\\\")\\nhas_negative = numeric_cols.lt(0).any(axis=1)\\nhas_negative.sum()\";\n",
       "                var nbb_formatted_code = \"numeric_cols = df.select_dtypes(include=\\\"number\\\")\\nhas_negative = numeric_cols.lt(0).any(axis=1)\\nhas_negative.sum()\";\n",
       "                var nbb_cells = Jupyter.notebook.get_cells();\n",
       "                for (var i = 0; i < nbb_cells.length; ++i) {\n",
       "                    if (nbb_cells[i].input_prompt_number == nbb_cell_id) {\n",
       "                        if (nbb_cells[i].get_text() == nbb_unformatted_code) {\n",
       "                             nbb_cells[i].set_text(nbb_formatted_code);\n",
       "                        }\n",
       "                        break;\n",
       "                    }\n",
       "                }\n",
       "            }, 500);\n",
       "            "
      ],
      "text/plain": [
       "<IPython.core.display.Javascript object>"
      ]
     },
     "metadata": {},
     "output_type": "display_data"
    }
   ],
   "source": [
    "numeric_cols = df.select_dtypes(include=\"number\")\n",
    "has_negative = numeric_cols.lt(0).any(axis=1)\n",
    "has_negative.sum()"
   ]
  },
  {
   "cell_type": "code",
   "execution_count": 93,
   "id": "1407a6a3",
   "metadata": {},
   "outputs": [
    {
     "data": {
      "text/html": [
       "<div>\n",
       "<style scoped>\n",
       "    .dataframe tbody tr th:only-of-type {\n",
       "        vertical-align: middle;\n",
       "    }\n",
       "\n",
       "    .dataframe tbody tr th {\n",
       "        vertical-align: top;\n",
       "    }\n",
       "\n",
       "    .dataframe thead th {\n",
       "        text-align: right;\n",
       "    }\n",
       "</style>\n",
       "<table border=\"1\" class=\"dataframe\">\n",
       "  <thead>\n",
       "    <tr style=\"text-align: right;\">\n",
       "      <th></th>\n",
       "      <th>count</th>\n",
       "      <th>mean</th>\n",
       "      <th>std</th>\n",
       "      <th>min</th>\n",
       "      <th>25%</th>\n",
       "      <th>50%</th>\n",
       "      <th>75%</th>\n",
       "      <th>max</th>\n",
       "    </tr>\n",
       "  </thead>\n",
       "  <tbody>\n",
       "    <tr>\n",
       "      <th>Blaine</th>\n",
       "      <td>3209.0</td>\n",
       "      <td>3251.426301</td>\n",
       "      <td>2144.102810</td>\n",
       "      <td>280.000000</td>\n",
       "      <td>470.000000</td>\n",
       "      <td>3554.000000</td>\n",
       "      <td>5430.000000</td>\n",
       "      <td>6491.000000</td>\n",
       "    </tr>\n",
       "    <tr>\n",
       "      <th>C3A</th>\n",
       "      <td>3094.0</td>\n",
       "      <td>4.507125</td>\n",
       "      <td>0.930392</td>\n",
       "      <td>1.340000</td>\n",
       "      <td>3.740000</td>\n",
       "      <td>4.570000</td>\n",
       "      <td>5.250000</td>\n",
       "      <td>8.880000</td>\n",
       "    </tr>\n",
       "    <tr>\n",
       "      <th>Loss on Ignition</th>\n",
       "      <td>3016.0</td>\n",
       "      <td>5.111999</td>\n",
       "      <td>2.622743</td>\n",
       "      <td>0.880000</td>\n",
       "      <td>3.160000</td>\n",
       "      <td>4.210000</td>\n",
       "      <td>5.890000</td>\n",
       "      <td>12.850000</td>\n",
       "    </tr>\n",
       "    <tr>\n",
       "      <th>CS1</th>\n",
       "      <td>2211.0</td>\n",
       "      <td>23.233437</td>\n",
       "      <td>6.581507</td>\n",
       "      <td>12.100000</td>\n",
       "      <td>16.240000</td>\n",
       "      <td>23.940000</td>\n",
       "      <td>28.799999</td>\n",
       "      <td>37.300000</td>\n",
       "    </tr>\n",
       "    <tr>\n",
       "      <th>CS3</th>\n",
       "      <td>2291.0</td>\n",
       "      <td>31.852571</td>\n",
       "      <td>4.992614</td>\n",
       "      <td>20.880000</td>\n",
       "      <td>27.300000</td>\n",
       "      <td>29.900000</td>\n",
       "      <td>36.900002</td>\n",
       "      <td>47.400000</td>\n",
       "    </tr>\n",
       "    <tr>\n",
       "      <th>CS28</th>\n",
       "      <td>3213.0</td>\n",
       "      <td>44.999751</td>\n",
       "      <td>5.795633</td>\n",
       "      <td>32.400002</td>\n",
       "      <td>40.590000</td>\n",
       "      <td>45.299999</td>\n",
       "      <td>48.400002</td>\n",
       "      <td>65.400000</td>\n",
       "    </tr>\n",
       "    <tr>\n",
       "      <th>#325</th>\n",
       "      <td>2284.0</td>\n",
       "      <td>46.262999</td>\n",
       "      <td>47.389115</td>\n",
       "      <td>0.060000</td>\n",
       "      <td>1.000000</td>\n",
       "      <td>6.800000</td>\n",
       "      <td>97.100000</td>\n",
       "      <td>100.000000</td>\n",
       "    </tr>\n",
       "    <tr>\n",
       "      <th>SO3</th>\n",
       "      <td>3195.0</td>\n",
       "      <td>3.277925</td>\n",
       "      <td>0.503438</td>\n",
       "      <td>1.770000</td>\n",
       "      <td>2.900000</td>\n",
       "      <td>3.140000</td>\n",
       "      <td>3.620000</td>\n",
       "      <td>5.574080</td>\n",
       "    </tr>\n",
       "    <tr>\n",
       "      <th>C4AF</th>\n",
       "      <td>3094.0</td>\n",
       "      <td>9.667673</td>\n",
       "      <td>1.693385</td>\n",
       "      <td>4.750000</td>\n",
       "      <td>8.400000</td>\n",
       "      <td>10.060000</td>\n",
       "      <td>11.040000</td>\n",
       "      <td>16.150000</td>\n",
       "    </tr>\n",
       "    <tr>\n",
       "      <th>CaO</th>\n",
       "      <td>3130.0</td>\n",
       "      <td>44.279193</td>\n",
       "      <td>26.883704</td>\n",
       "      <td>0.000000</td>\n",
       "      <td>1.700000</td>\n",
       "      <td>60.008390</td>\n",
       "      <td>61.900000</td>\n",
       "      <td>64.750000</td>\n",
       "    </tr>\n",
       "    <tr>\n",
       "      <th>Free CaO</th>\n",
       "      <td>3098.0</td>\n",
       "      <td>0.997034</td>\n",
       "      <td>0.617487</td>\n",
       "      <td>0.000000</td>\n",
       "      <td>0.560000</td>\n",
       "      <td>0.900000</td>\n",
       "      <td>1.230000</td>\n",
       "      <td>4.340000</td>\n",
       "    </tr>\n",
       "    <tr>\n",
       "      <th>SiO2</th>\n",
       "      <td>2267.0</td>\n",
       "      <td>18.709665</td>\n",
       "      <td>0.810724</td>\n",
       "      <td>14.381200</td>\n",
       "      <td>18.330875</td>\n",
       "      <td>18.962200</td>\n",
       "      <td>19.270000</td>\n",
       "      <td>20.588160</td>\n",
       "    </tr>\n",
       "    <tr>\n",
       "      <th>Al2O3</th>\n",
       "      <td>2267.0</td>\n",
       "      <td>4.442823</td>\n",
       "      <td>0.281524</td>\n",
       "      <td>3.503430</td>\n",
       "      <td>4.242055</td>\n",
       "      <td>4.437960</td>\n",
       "      <td>4.670000</td>\n",
       "      <td>5.512240</td>\n",
       "    </tr>\n",
       "    <tr>\n",
       "      <th>Fe2O3</th>\n",
       "      <td>2267.0</td>\n",
       "      <td>3.052917</td>\n",
       "      <td>0.224182</td>\n",
       "      <td>2.087810</td>\n",
       "      <td>2.890740</td>\n",
       "      <td>3.110000</td>\n",
       "      <td>3.225980</td>\n",
       "      <td>4.580000</td>\n",
       "    </tr>\n",
       "    <tr>\n",
       "      <th>MgO</th>\n",
       "      <td>2267.0</td>\n",
       "      <td>2.957905</td>\n",
       "      <td>0.414266</td>\n",
       "      <td>1.642760</td>\n",
       "      <td>2.680000</td>\n",
       "      <td>2.980000</td>\n",
       "      <td>3.220000</td>\n",
       "      <td>4.520740</td>\n",
       "    </tr>\n",
       "    <tr>\n",
       "      <th>K2O</th>\n",
       "      <td>2267.0</td>\n",
       "      <td>0.940342</td>\n",
       "      <td>0.288547</td>\n",
       "      <td>0.500000</td>\n",
       "      <td>0.640000</td>\n",
       "      <td>1.050900</td>\n",
       "      <td>1.215340</td>\n",
       "      <td>1.452580</td>\n",
       "    </tr>\n",
       "    <tr>\n",
       "      <th>Na2O</th>\n",
       "      <td>2267.0</td>\n",
       "      <td>0.143921</td>\n",
       "      <td>0.067631</td>\n",
       "      <td>0.000000</td>\n",
       "      <td>0.080000</td>\n",
       "      <td>0.156750</td>\n",
       "      <td>0.202230</td>\n",
       "      <td>0.325380</td>\n",
       "    </tr>\n",
       "    <tr>\n",
       "      <th>Total C3S</th>\n",
       "      <td>2231.0</td>\n",
       "      <td>54.759516</td>\n",
       "      <td>5.154711</td>\n",
       "      <td>32.640000</td>\n",
       "      <td>52.830000</td>\n",
       "      <td>56.200000</td>\n",
       "      <td>58.274999</td>\n",
       "      <td>67.510002</td>\n",
       "    </tr>\n",
       "    <tr>\n",
       "      <th>Initial setting time</th>\n",
       "      <td>2284.0</td>\n",
       "      <td>147.222417</td>\n",
       "      <td>14.781412</td>\n",
       "      <td>95.000000</td>\n",
       "      <td>135.000000</td>\n",
       "      <td>145.000000</td>\n",
       "      <td>160.000000</td>\n",
       "      <td>185.000000</td>\n",
       "    </tr>\n",
       "    <tr>\n",
       "      <th>CS7</th>\n",
       "      <td>2282.0</td>\n",
       "      <td>36.862905</td>\n",
       "      <td>4.620256</td>\n",
       "      <td>27.450000</td>\n",
       "      <td>32.605000</td>\n",
       "      <td>36.325000</td>\n",
       "      <td>41.289999</td>\n",
       "      <td>48.200001</td>\n",
       "    </tr>\n",
       "  </tbody>\n",
       "</table>\n",
       "</div>"
      ],
      "text/plain": [
       "                       count         mean          std         min  \\\n",
       "Blaine                3209.0  3251.426301  2144.102810  280.000000   \n",
       "C3A                   3094.0     4.507125     0.930392    1.340000   \n",
       "Loss on Ignition      3016.0     5.111999     2.622743    0.880000   \n",
       "CS1                   2211.0    23.233437     6.581507   12.100000   \n",
       "CS3                   2291.0    31.852571     4.992614   20.880000   \n",
       "CS28                  3213.0    44.999751     5.795633   32.400002   \n",
       "#325                  2284.0    46.262999    47.389115    0.060000   \n",
       "SO3                   3195.0     3.277925     0.503438    1.770000   \n",
       "C4AF                  3094.0     9.667673     1.693385    4.750000   \n",
       "CaO                   3130.0    44.279193    26.883704    0.000000   \n",
       "Free CaO              3098.0     0.997034     0.617487    0.000000   \n",
       "SiO2                  2267.0    18.709665     0.810724   14.381200   \n",
       "Al2O3                 2267.0     4.442823     0.281524    3.503430   \n",
       "Fe2O3                 2267.0     3.052917     0.224182    2.087810   \n",
       "MgO                   2267.0     2.957905     0.414266    1.642760   \n",
       "K2O                   2267.0     0.940342     0.288547    0.500000   \n",
       "Na2O                  2267.0     0.143921     0.067631    0.000000   \n",
       "Total C3S             2231.0    54.759516     5.154711   32.640000   \n",
       "Initial setting time  2284.0   147.222417    14.781412   95.000000   \n",
       "CS7                   2282.0    36.862905     4.620256   27.450000   \n",
       "\n",
       "                             25%          50%          75%          max  \n",
       "Blaine                470.000000  3554.000000  5430.000000  6491.000000  \n",
       "C3A                     3.740000     4.570000     5.250000     8.880000  \n",
       "Loss on Ignition        3.160000     4.210000     5.890000    12.850000  \n",
       "CS1                    16.240000    23.940000    28.799999    37.300000  \n",
       "CS3                    27.300000    29.900000    36.900002    47.400000  \n",
       "CS28                   40.590000    45.299999    48.400002    65.400000  \n",
       "#325                    1.000000     6.800000    97.100000   100.000000  \n",
       "SO3                     2.900000     3.140000     3.620000     5.574080  \n",
       "C4AF                    8.400000    10.060000    11.040000    16.150000  \n",
       "CaO                     1.700000    60.008390    61.900000    64.750000  \n",
       "Free CaO                0.560000     0.900000     1.230000     4.340000  \n",
       "SiO2                   18.330875    18.962200    19.270000    20.588160  \n",
       "Al2O3                   4.242055     4.437960     4.670000     5.512240  \n",
       "Fe2O3                   2.890740     3.110000     3.225980     4.580000  \n",
       "MgO                     2.680000     2.980000     3.220000     4.520740  \n",
       "K2O                     0.640000     1.050900     1.215340     1.452580  \n",
       "Na2O                    0.080000     0.156750     0.202230     0.325380  \n",
       "Total C3S              52.830000    56.200000    58.274999    67.510002  \n",
       "Initial setting time  135.000000   145.000000   160.000000   185.000000  \n",
       "CS7                    32.605000    36.325000    41.289999    48.200001  "
      ]
     },
     "execution_count": 93,
     "metadata": {},
     "output_type": "execute_result"
    },
    {
     "data": {
      "application/javascript": [
       "\n",
       "            setTimeout(function() {\n",
       "                var nbb_cell_id = 93;\n",
       "                var nbb_unformatted_code = \"df.describe().T\";\n",
       "                var nbb_formatted_code = \"df.describe().T\";\n",
       "                var nbb_cells = Jupyter.notebook.get_cells();\n",
       "                for (var i = 0; i < nbb_cells.length; ++i) {\n",
       "                    if (nbb_cells[i].input_prompt_number == nbb_cell_id) {\n",
       "                        if (nbb_cells[i].get_text() == nbb_unformatted_code) {\n",
       "                             nbb_cells[i].set_text(nbb_formatted_code);\n",
       "                        }\n",
       "                        break;\n",
       "                    }\n",
       "                }\n",
       "            }, 500);\n",
       "            "
      ],
      "text/plain": [
       "<IPython.core.display.Javascript object>"
      ]
     },
     "metadata": {},
     "output_type": "display_data"
    }
   ],
   "source": [
    "df.describe().T"
   ]
  },
  {
   "cell_type": "markdown",
   "id": "09508650",
   "metadata": {},
   "source": [
    "## Dropping rows with zero values"
   ]
  },
  {
   "cell_type": "code",
   "execution_count": 94,
   "id": "42a5ce2a",
   "metadata": {},
   "outputs": [
    {
     "data": {
      "text/plain": [
       "33"
      ]
     },
     "execution_count": 94,
     "metadata": {},
     "output_type": "execute_result"
    },
    {
     "data": {
      "application/javascript": [
       "\n",
       "            setTimeout(function() {\n",
       "                var nbb_cell_id = 94;\n",
       "                var nbb_unformatted_code = \"numeric_cols = df.select_dtypes(include=\\\"number\\\")\\nhas_zero = numeric_cols.eq(0).any(axis=1)\\nhas_zero.sum()\";\n",
       "                var nbb_formatted_code = \"numeric_cols = df.select_dtypes(include=\\\"number\\\")\\nhas_zero = numeric_cols.eq(0).any(axis=1)\\nhas_zero.sum()\";\n",
       "                var nbb_cells = Jupyter.notebook.get_cells();\n",
       "                for (var i = 0; i < nbb_cells.length; ++i) {\n",
       "                    if (nbb_cells[i].input_prompt_number == nbb_cell_id) {\n",
       "                        if (nbb_cells[i].get_text() == nbb_unformatted_code) {\n",
       "                             nbb_cells[i].set_text(nbb_formatted_code);\n",
       "                        }\n",
       "                        break;\n",
       "                    }\n",
       "                }\n",
       "            }, 500);\n",
       "            "
      ],
      "text/plain": [
       "<IPython.core.display.Javascript object>"
      ]
     },
     "metadata": {},
     "output_type": "display_data"
    }
   ],
   "source": [
    "numeric_cols = df.select_dtypes(include=\"number\")\n",
    "has_zero = numeric_cols.eq(0).any(axis=1)\n",
    "has_zero.sum()"
   ]
  },
  {
   "cell_type": "code",
   "execution_count": 95,
   "id": "d3f073df",
   "metadata": {},
   "outputs": [
    {
     "data": {
      "application/javascript": [
       "\n",
       "            setTimeout(function() {\n",
       "                var nbb_cell_id = 95;\n",
       "                var nbb_unformatted_code = \"pd.options.display.max_columns = None\\ndf = df[~has_zero].reset_index(drop=True)\";\n",
       "                var nbb_formatted_code = \"pd.options.display.max_columns = None\\ndf = df[~has_zero].reset_index(drop=True)\";\n",
       "                var nbb_cells = Jupyter.notebook.get_cells();\n",
       "                for (var i = 0; i < nbb_cells.length; ++i) {\n",
       "                    if (nbb_cells[i].input_prompt_number == nbb_cell_id) {\n",
       "                        if (nbb_cells[i].get_text() == nbb_unformatted_code) {\n",
       "                             nbb_cells[i].set_text(nbb_formatted_code);\n",
       "                        }\n",
       "                        break;\n",
       "                    }\n",
       "                }\n",
       "            }, 500);\n",
       "            "
      ],
      "text/plain": [
       "<IPython.core.display.Javascript object>"
      ]
     },
     "metadata": {},
     "output_type": "display_data"
    }
   ],
   "source": [
    "pd.options.display.max_columns = None\n",
    "df = df[~has_zero].reset_index(drop=True)"
   ]
  },
  {
   "cell_type": "markdown",
   "id": "14c2e94a",
   "metadata": {},
   "source": [
    "## Saving the dataset"
   ]
  },
  {
   "cell_type": "markdown",
   "id": "630b33bf",
   "metadata": {},
   "source": [
    "<h3>Saving for feature engineering</h3>"
   ]
  },
  {
   "cell_type": "code",
   "execution_count": 96,
   "id": "da4e28dc",
   "metadata": {},
   "outputs": [
    {
     "data": {
      "application/javascript": [
       "\n",
       "            setTimeout(function() {\n",
       "                var nbb_cell_id = 96;\n",
       "                var nbb_unformatted_code = \"df.to_csv(\\\"../../../../data/interim/Global-Dataset/global_dataset_inn.csv\\\", index=False)\";\n",
       "                var nbb_formatted_code = \"df.to_csv(\\\"../../../../data/interim/Global-Dataset/global_dataset_inn.csv\\\", index=False)\";\n",
       "                var nbb_cells = Jupyter.notebook.get_cells();\n",
       "                for (var i = 0; i < nbb_cells.length; ++i) {\n",
       "                    if (nbb_cells[i].input_prompt_number == nbb_cell_id) {\n",
       "                        if (nbb_cells[i].get_text() == nbb_unformatted_code) {\n",
       "                             nbb_cells[i].set_text(nbb_formatted_code);\n",
       "                        }\n",
       "                        break;\n",
       "                    }\n",
       "                }\n",
       "            }, 500);\n",
       "            "
      ],
      "text/plain": [
       "<IPython.core.display.Javascript object>"
      ]
     },
     "metadata": {},
     "output_type": "display_data"
    }
   ],
   "source": [
    "df.to_csv(\"../../../../data/interim/Global-Dataset/global_dataset_inn.csv\", index=False)"
   ]
  },
  {
   "cell_type": "code",
   "execution_count": 97,
   "id": "2b843529",
   "metadata": {},
   "outputs": [
    {
     "data": {
      "text/plain": [
       "(3180, 23)"
      ]
     },
     "execution_count": 97,
     "metadata": {},
     "output_type": "execute_result"
    },
    {
     "data": {
      "application/javascript": [
       "\n",
       "            setTimeout(function() {\n",
       "                var nbb_cell_id = 97;\n",
       "                var nbb_unformatted_code = \"df.shape\";\n",
       "                var nbb_formatted_code = \"df.shape\";\n",
       "                var nbb_cells = Jupyter.notebook.get_cells();\n",
       "                for (var i = 0; i < nbb_cells.length; ++i) {\n",
       "                    if (nbb_cells[i].input_prompt_number == nbb_cell_id) {\n",
       "                        if (nbb_cells[i].get_text() == nbb_unformatted_code) {\n",
       "                             nbb_cells[i].set_text(nbb_formatted_code);\n",
       "                        }\n",
       "                        break;\n",
       "                    }\n",
       "                }\n",
       "            }, 500);\n",
       "            "
      ],
      "text/plain": [
       "<IPython.core.display.Javascript object>"
      ]
     },
     "metadata": {},
     "output_type": "display_data"
    }
   ],
   "source": [
    "df.shape"
   ]
  },
  {
   "cell_type": "code",
   "execution_count": 98,
   "id": "0f604661",
   "metadata": {},
   "outputs": [
    {
     "data": {
      "text/plain": [
       "<Axes: >"
      ]
     },
     "execution_count": 98,
     "metadata": {},
     "output_type": "execute_result"
    },
    {
     "data": {
      "image/png": "[encoded data removed]",
      "text/plain": [
       "<Figure size 2500x1000 with 2 Axes>"
      ]
     },
     "metadata": {},
     "output_type": "display_data"
    },
    {
     "data": {
      "application/javascript": [
       "\n",
       "            setTimeout(function() {\n",
       "                var nbb_cell_id = 98;\n",
       "                var nbb_unformatted_code = \"msno.matrix(df)\";\n",
       "                var nbb_formatted_code = \"msno.matrix(df)\";\n",
       "                var nbb_cells = Jupyter.notebook.get_cells();\n",
       "                for (var i = 0; i < nbb_cells.length; ++i) {\n",
       "                    if (nbb_cells[i].input_prompt_number == nbb_cell_id) {\n",
       "                        if (nbb_cells[i].get_text() == nbb_unformatted_code) {\n",
       "                             nbb_cells[i].set_text(nbb_formatted_code);\n",
       "                        }\n",
       "                        break;\n",
       "                    }\n",
       "                }\n",
       "            }, 500);\n",
       "            "
      ],
      "text/plain": [
       "<IPython.core.display.Javascript object>"
      ]
     },
     "metadata": {},
     "output_type": "display_data"
    }
   ],
   "source": [
    "msno.matrix(df)"
   ]
  },
  {
   "cell_type": "code",
   "execution_count": 99,
   "id": "3717d06d",
   "metadata": {},
   "outputs": [
    {
     "data": {
      "text/plain": [
       "Factory_Plant\n",
       "partner_i    1223\n",
       "partner_ii    1051\n",
       "partner_iv          906\n",
       "Name: count, dtype: int64"
      ]
     },
     "execution_count": 99,
     "metadata": {},
     "output_type": "execute_result"
    },
    {
     "data": {
      "application/javascript": [
       "\n",
       "            setTimeout(function() {\n",
       "                var nbb_cell_id = 99;\n",
       "                var nbb_unformatted_code = \"df[\\\"Factory_Plant\\\"].value_counts()\";\n",
       "                var nbb_formatted_code = \"df[\\\"Factory_Plant\\\"].value_counts()\";\n",
       "                var nbb_cells = Jupyter.notebook.get_cells();\n",
       "                for (var i = 0; i < nbb_cells.length; ++i) {\n",
       "                    if (nbb_cells[i].input_prompt_number == nbb_cell_id) {\n",
       "                        if (nbb_cells[i].get_text() == nbb_unformatted_code) {\n",
       "                             nbb_cells[i].set_text(nbb_formatted_code);\n",
       "                        }\n",
       "                        break;\n",
       "                    }\n",
       "                }\n",
       "            }, 500);\n",
       "            "
      ],
      "text/plain": [
       "<IPython.core.display.Javascript object>"
      ]
     },
     "metadata": {},
     "output_type": "display_data"
    }
   ],
   "source": [
    "df[\"Factory_Plant\"].value_counts()"
   ]
  },
  {
   "cell_type": "code",
   "execution_count": 100,
   "id": "8f75ccfe",
   "metadata": {
    "scrolled": true
   },
   "outputs": [
    {
     "data": {
      "text/plain": [
       "Factory_Plant\n",
       "partner_i    38.459119\n",
       "partner_ii    33.050314\n",
       "partner_iv         28.490566\n",
       "Name: proportion, dtype: float64"
      ]
     },
     "execution_count": 100,
     "metadata": {},
     "output_type": "execute_result"
    },
    {
     "data": {
      "application/javascript": [
       "\n",
       "            setTimeout(function() {\n",
       "                var nbb_cell_id = 100;\n",
       "                var nbb_unformatted_code = \"df[\\\"Factory_Plant\\\"].value_counts(normalize=True) * 100\";\n",
       "                var nbb_formatted_code = \"df[\\\"Factory_Plant\\\"].value_counts(normalize=True) * 100\";\n",
       "                var nbb_cells = Jupyter.notebook.get_cells();\n",
       "                for (var i = 0; i < nbb_cells.length; ++i) {\n",
       "                    if (nbb_cells[i].input_prompt_number == nbb_cell_id) {\n",
       "                        if (nbb_cells[i].get_text() == nbb_unformatted_code) {\n",
       "                             nbb_cells[i].set_text(nbb_formatted_code);\n",
       "                        }\n",
       "                        break;\n",
       "                    }\n",
       "                }\n",
       "            }, 500);\n",
       "            "
      ],
      "text/plain": [
       "<IPython.core.display.Javascript object>"
      ]
     },
     "metadata": {},
     "output_type": "display_data"
    }
   ],
   "source": [
    "df[\"Factory_Plant\"].value_counts(normalize=True) * 100"
   ]
  },
  {
   "cell_type": "markdown",
   "id": "b9fbbcc7",
   "metadata": {},
   "source": [
    "# Extra preprocessing for additional experiment"
   ]
  },
  {
   "cell_type": "code",
   "execution_count": 101,
   "id": "a88840a4",
   "metadata": {},
   "outputs": [
    {
     "data": {
      "application/javascript": [
       "\n",
       "            setTimeout(function() {\n",
       "                var nbb_cell_id = 101;\n",
       "                var nbb_unformatted_code = \"df_partner_iv = (\\n    df[df[\\\"Factory_Plant\\\"].eq(\\\"partner_iv\\\")].reset_index(drop=True).sort_values(by=\\\"Date\\\")\\n)\\ndf_partner_i = (\\n    df[df[\\\"Factory_Plant\\\"].eq(\\\"partner_i\\\")]\\n    .reset_index(drop=True)\\n    .sort_values(by=\\\"Date\\\")\\n)\\ndf_partner_ii = (\\n    df[df[\\\"Factory_Plant\\\"].eq(\\\"partner_ii\\\")]\\n    .reset_index(drop=True)\\n    .sort_values(by=\\\"Date\\\")\\n)\";\n",
       "                var nbb_formatted_code = \"df_partner_iv = (\\n    df[df[\\\"Factory_Plant\\\"].eq(\\\"partner_iv\\\")].reset_index(drop=True).sort_values(by=\\\"Date\\\")\\n)\\ndf_partner_i = (\\n    df[df[\\\"Factory_Plant\\\"].eq(\\\"partner_i\\\")]\\n    .reset_index(drop=True)\\n    .sort_values(by=\\\"Date\\\")\\n)\\ndf_partner_ii = (\\n    df[df[\\\"Factory_Plant\\\"].eq(\\\"partner_ii\\\")]\\n    .reset_index(drop=True)\\n    .sort_values(by=\\\"Date\\\")\\n)\";\n",
       "                var nbb_cells = Jupyter.notebook.get_cells();\n",
       "                for (var i = 0; i < nbb_cells.length; ++i) {\n",
       "                    if (nbb_cells[i].input_prompt_number == nbb_cell_id) {\n",
       "                        if (nbb_cells[i].get_text() == nbb_unformatted_code) {\n",
       "                             nbb_cells[i].set_text(nbb_formatted_code);\n",
       "                        }\n",
       "                        break;\n",
       "                    }\n",
       "                }\n",
       "            }, 500);\n",
       "            "
      ],
      "text/plain": [
       "<IPython.core.display.Javascript object>"
      ]
     },
     "metadata": {},
     "output_type": "display_data"
    }
   ],
   "source": [
    "df_partner_iv = (\n",
    "    df[df[\"Factory_Plant\"].eq(\"partner_iv\")].reset_index(drop=True).sort_values(by=\"Date\")\n",
    ")\n",
    "df_partner_i = (\n",
    "    df[df[\"Factory_Plant\"].eq(\"partner_i\")]\n",
    "    .reset_index(drop=True)\n",
    "    .sort_values(by=\"Date\")\n",
    ")\n",
    "df_partner_ii = (\n",
    "    df[df[\"Factory_Plant\"].eq(\"partner_ii\")]\n",
    "    .reset_index(drop=True)\n",
    "    .sort_values(by=\"Date\")\n",
    ")"
   ]
  },
  {
   "cell_type": "code",
   "execution_count": 104,
   "id": "4aa74969",
   "metadata": {},
   "outputs": [
    {
     "data": {
      "application/javascript": [
       "\n",
       "            setTimeout(function() {\n",
       "                var nbb_cell_id = 104;\n",
       "                var nbb_unformatted_code = \"size = 0.7\\n\\npre_train_partner_iv = df_partner_iv.iloc[0 : round(df_partner_iv.shape[0] * size)].reset_index(\\n    drop=True\\n).sort_values(by=\\\"Date\\\")\\nfine_tuning_partner_iv = df_partner_iv.iloc[round(df_partner_iv.shape[0] * size) :].reset_index(\\n    drop=True\\n).sort_values(by=\\\"Date\\\")\\n\\npre_train_partner_i = df_partner_i.iloc[0 : round(df_partner_i.shape[0] * size)].reset_index(drop=True).sort_values(by=\\\"Date\\\")\\nfine_tuning_partner_i = df_partner_i.iloc[round(df_partner_i.shape[0] * size) :].reset_index(drop=True).sort_values(by=\\\"Date\\\")\\n\\npre_train_partner_ii = df_partner_ii.iloc[0 : round(df_partner_ii.shape[0] * size)].reset_index(drop=True).sort_values(by=\\\"Date\\\")\\nfine_tuning_partner_ii = df_partner_ii.iloc[round(df_partner_ii.shape[0] * size) :].reset_index(drop=True).sort_values(by=\\\"Date\\\")\";\n",
       "                var nbb_formatted_code = \"size = 0.7\\n\\npre_train_partner_iv = (\\n    df_partner_iv.iloc[0 : round(df_partner_iv.shape[0] * size)]\\n    .reset_index(drop=True)\\n    .sort_values(by=\\\"Date\\\")\\n)\\nfine_tuning_partner_iv = (\\n    df_partner_iv.iloc[round(df_partner_iv.shape[0] * size) :]\\n    .reset_index(drop=True)\\n    .sort_values(by=\\\"Date\\\")\\n)\\n\\npre_train_partner_i = (\\n    df_partner_i.iloc[0 : round(df_partner_i.shape[0] * size)]\\n    .reset_index(drop=True)\\n    .sort_values(by=\\\"Date\\\")\\n)\\nfine_tuning_partner_i = (\\n    df_partner_i.iloc[round(df_partner_i.shape[0] * size) :]\\n    .reset_index(drop=True)\\n    .sort_values(by=\\\"Date\\\")\\n)\\n\\npre_train_partner_ii = (\\n    df_partner_ii.iloc[0 : round(df_partner_ii.shape[0] * size)]\\n    .reset_index(drop=True)\\n    .sort_values(by=\\\"Date\\\")\\n)\\nfine_tuning_partner_ii = (\\n    df_partner_ii.iloc[round(df_partner_ii.shape[0] * size) :]\\n    .reset_index(drop=True)\\n    .sort_values(by=\\\"Date\\\")\\n)\";\n",
       "                var nbb_cells = Jupyter.notebook.get_cells();\n",
       "                for (var i = 0; i < nbb_cells.length; ++i) {\n",
       "                    if (nbb_cells[i].input_prompt_number == nbb_cell_id) {\n",
       "                        if (nbb_cells[i].get_text() == nbb_unformatted_code) {\n",
       "                             nbb_cells[i].set_text(nbb_formatted_code);\n",
       "                        }\n",
       "                        break;\n",
       "                    }\n",
       "                }\n",
       "            }, 500);\n",
       "            "
      ],
      "text/plain": [
       "<IPython.core.display.Javascript object>"
      ]
     },
     "metadata": {},
     "output_type": "display_data"
    }
   ],
   "source": [
    "size = 0.7\n",
    "\n",
    "pre_train_partner_iv = (\n",
    "    df_partner_iv.iloc[0 : round(df_partner_iv.shape[0] * size)]\n",
    "    .reset_index(drop=True)\n",
    "    .sort_values(by=\"Date\")\n",
    ")\n",
    "fine_tuning_partner_iv = (\n",
    "    df_partner_iv.iloc[round(df_partner_iv.shape[0] * size) :]\n",
    "    .reset_index(drop=True)\n",
    "    .sort_values(by=\"Date\")\n",
    ")\n",
    "\n",
    "pre_train_partner_i = (\n",
    "    df_partner_i.iloc[0 : round(df_partner_i.shape[0] * size)]\n",
    "    .reset_index(drop=True)\n",
    "    .sort_values(by=\"Date\")\n",
    ")\n",
    "fine_tuning_partner_i = (\n",
    "    df_partner_i.iloc[round(df_partner_i.shape[0] * size) :]\n",
    "    .reset_index(drop=True)\n",
    "    .sort_values(by=\"Date\")\n",
    ")\n",
    "\n",
    "pre_train_partner_ii = (\n",
    "    df_partner_ii.iloc[0 : round(df_partner_ii.shape[0] * size)]\n",
    "    .reset_index(drop=True)\n",
    "    .sort_values(by=\"Date\")\n",
    ")\n",
    "fine_tuning_partner_ii = (\n",
    "    df_partner_ii.iloc[round(df_partner_ii.shape[0] * size) :]\n",
    "    .reset_index(drop=True)\n",
    "    .sort_values(by=\"Date\")\n",
    ")"
   ]
  },
  {
   "cell_type": "code",
   "execution_count": 105,
   "id": "15de972f",
   "metadata": {},
   "outputs": [
    {
     "data": {
      "application/javascript": [
       "\n",
       "            setTimeout(function() {\n",
       "                var nbb_cell_id = 105;\n",
       "                var nbb_unformatted_code = \"df_pre_train = pd.concat([pre_train_partner_ii, pre_train_partner_iv, pre_train_partner_i])\";\n",
       "                var nbb_formatted_code = \"df_pre_train = pd.concat([pre_train_partner_ii, pre_train_partner_iv, pre_train_partner_i])\";\n",
       "                var nbb_cells = Jupyter.notebook.get_cells();\n",
       "                for (var i = 0; i < nbb_cells.length; ++i) {\n",
       "                    if (nbb_cells[i].input_prompt_number == nbb_cell_id) {\n",
       "                        if (nbb_cells[i].get_text() == nbb_unformatted_code) {\n",
       "                             nbb_cells[i].set_text(nbb_formatted_code);\n",
       "                        }\n",
       "                        break;\n",
       "                    }\n",
       "                }\n",
       "            }, 500);\n",
       "            "
      ],
      "text/plain": [
       "<IPython.core.display.Javascript object>"
      ]
     },
     "metadata": {},
     "output_type": "display_data"
    }
   ],
   "source": [
    "df_pre_train = pd.concat([pre_train_partner_ii, pre_train_partner_iv, pre_train_partner_i])"
   ]
  },
  {
   "cell_type": "code",
   "execution_count": 106,
   "id": "63610a6c",
   "metadata": {},
   "outputs": [
    {
     "data": {
      "application/javascript": [
       "\n",
       "            setTimeout(function() {\n",
       "                var nbb_cell_id = 106;\n",
       "                var nbb_unformatted_code = \"df_pre_train = df_pre_train.sort_values(by=\\\"Date\\\").reset_index(drop=True)\";\n",
       "                var nbb_formatted_code = \"df_pre_train = df_pre_train.sort_values(by=\\\"Date\\\").reset_index(drop=True)\";\n",
       "                var nbb_cells = Jupyter.notebook.get_cells();\n",
       "                for (var i = 0; i < nbb_cells.length; ++i) {\n",
       "                    if (nbb_cells[i].input_prompt_number == nbb_cell_id) {\n",
       "                        if (nbb_cells[i].get_text() == nbb_unformatted_code) {\n",
       "                             nbb_cells[i].set_text(nbb_formatted_code);\n",
       "                        }\n",
       "                        break;\n",
       "                    }\n",
       "                }\n",
       "            }, 500);\n",
       "            "
      ],
      "text/plain": [
       "<IPython.core.display.Javascript object>"
      ]
     },
     "metadata": {},
     "output_type": "display_data"
    }
   ],
   "source": [
    "df_pre_train = df_pre_train.sort_values(by=\"Date\").reset_index(drop=True)"
   ]
  },
  {
   "cell_type": "code",
   "execution_count": 107,
   "id": "8e7c37dd",
   "metadata": {},
   "outputs": [
    {
     "data": {
      "text/html": [
       "<style type=\"text/css\">\n",
       "#T_5fff8_row0_col0 {\n",
       "  background-color: #67000d;\n",
       "  color: #f1f1f1;\n",
       "}\n",
       "#T_5fff8_row1_col0 {\n",
       "  background-color: #800610;\n",
       "  color: #f1f1f1;\n",
       "}\n",
       "#T_5fff8_row2_col0, #T_5fff8_row3_col0, #T_5fff8_row4_col0, #T_5fff8_row5_col0, #T_5fff8_row6_col0, #T_5fff8_row7_col0 {\n",
       "  background-color: #920a13;\n",
       "  color: #f1f1f1;\n",
       "}\n",
       "#T_5fff8_row8_col0, #T_5fff8_row9_col0, #T_5fff8_row10_col0 {\n",
       "  background-color: #9c0d14;\n",
       "  color: #f1f1f1;\n",
       "}\n",
       "#T_5fff8_row11_col0 {\n",
       "  background-color: #9f0e14;\n",
       "  color: #f1f1f1;\n",
       "}\n",
       "#T_5fff8_row12_col0 {\n",
       "  background-color: #fcc2aa;\n",
       "  color: #000000;\n",
       "}\n",
       "#T_5fff8_row13_col0, #T_5fff8_row14_col0 {\n",
       "  background-color: #fee5d8;\n",
       "  color: #000000;\n",
       "}\n",
       "#T_5fff8_row15_col0 {\n",
       "  background-color: #fee6da;\n",
       "  color: #000000;\n",
       "}\n",
       "#T_5fff8_row16_col0 {\n",
       "  background-color: #feeae1;\n",
       "  color: #000000;\n",
       "}\n",
       "#T_5fff8_row17_col0 {\n",
       "  background-color: #fff2eb;\n",
       "  color: #000000;\n",
       "}\n",
       "#T_5fff8_row18_col0 {\n",
       "  background-color: #fff4ef;\n",
       "  color: #000000;\n",
       "}\n",
       "#T_5fff8_row19_col0, #T_5fff8_row20_col0, #T_5fff8_row21_col0, #T_5fff8_row22_col0 {\n",
       "  background-color: #fff5f0;\n",
       "  color: #000000;\n",
       "}\n",
       "</style>\n",
       "<table id=\"T_5fff8\">\n",
       "  <thead>\n",
       "    <tr>\n",
       "      <th class=\"blank level0\" >&nbsp;</th>\n",
       "      <th id=\"T_5fff8_level0_col0\" class=\"col_heading level0 col0\" >Missing (%)</th>\n",
       "    </tr>\n",
       "  </thead>\n",
       "  <tbody>\n",
       "    <tr>\n",
       "      <th id=\"T_5fff8_level0_row0\" class=\"row_heading level0 row0\" >CS1</th>\n",
       "      <td id=\"T_5fff8_row0_col0\" class=\"data row0 col0\" >31.895777</td>\n",
       "    </tr>\n",
       "    <tr>\n",
       "      <th id=\"T_5fff8_level0_row1\" class=\"row_heading level0 row1\" >Total C3S</th>\n",
       "      <td id=\"T_5fff8_row1_col0\" class=\"data row1 col0\" >30.188679</td>\n",
       "    </tr>\n",
       "    <tr>\n",
       "      <th id=\"T_5fff8_level0_row2\" class=\"row_heading level0 row2\" >Al2O3</th>\n",
       "      <td id=\"T_5fff8_row2_col0\" class=\"data row2 col0\" >29.110512</td>\n",
       "    </tr>\n",
       "    <tr>\n",
       "      <th id=\"T_5fff8_level0_row3\" class=\"row_heading level0 row3\" >Na2O</th>\n",
       "      <td id=\"T_5fff8_row3_col0\" class=\"data row3 col0\" >29.110512</td>\n",
       "    </tr>\n",
       "    <tr>\n",
       "      <th id=\"T_5fff8_level0_row4\" class=\"row_heading level0 row4\" >K2O</th>\n",
       "      <td id=\"T_5fff8_row4_col0\" class=\"data row4 col0\" >29.110512</td>\n",
       "    </tr>\n",
       "    <tr>\n",
       "      <th id=\"T_5fff8_level0_row5\" class=\"row_heading level0 row5\" >MgO</th>\n",
       "      <td id=\"T_5fff8_row5_col0\" class=\"data row5 col0\" >29.110512</td>\n",
       "    </tr>\n",
       "    <tr>\n",
       "      <th id=\"T_5fff8_level0_row6\" class=\"row_heading level0 row6\" >Fe2O3</th>\n",
       "      <td id=\"T_5fff8_row6_col0\" class=\"data row6 col0\" >29.110512</td>\n",
       "    </tr>\n",
       "    <tr>\n",
       "      <th id=\"T_5fff8_level0_row7\" class=\"row_heading level0 row7\" >SiO2</th>\n",
       "      <td id=\"T_5fff8_row7_col0\" class=\"data row7 col0\" >29.110512</td>\n",
       "    </tr>\n",
       "    <tr>\n",
       "      <th id=\"T_5fff8_level0_row8\" class=\"row_heading level0 row8\" >CS7</th>\n",
       "      <td id=\"T_5fff8_row8_col0\" class=\"data row8 col0\" >28.481581</td>\n",
       "    </tr>\n",
       "    <tr>\n",
       "      <th id=\"T_5fff8_level0_row9\" class=\"row_heading level0 row9\" >Initial setting time</th>\n",
       "      <td id=\"T_5fff8_row9_col0\" class=\"data row9 col0\" >28.481581</td>\n",
       "    </tr>\n",
       "    <tr>\n",
       "      <th id=\"T_5fff8_level0_row10\" class=\"row_heading level0 row10\" >#325</th>\n",
       "      <td id=\"T_5fff8_row10_col0\" class=\"data row10 col0\" >28.481581</td>\n",
       "    </tr>\n",
       "    <tr>\n",
       "      <th id=\"T_5fff8_level0_row11\" class=\"row_heading level0 row11\" >CS3</th>\n",
       "      <td id=\"T_5fff8_row11_col0\" class=\"data row11 col0\" >28.167116</td>\n",
       "    </tr>\n",
       "    <tr>\n",
       "      <th id=\"T_5fff8_level0_row12\" class=\"row_heading level0 row12\" >Loss on Ignition</th>\n",
       "      <td id=\"T_5fff8_row12_col0\" class=\"data row12 col0\" >7.232704</td>\n",
       "    </tr>\n",
       "    <tr>\n",
       "      <th id=\"T_5fff8_level0_row13\" class=\"row_heading level0 row13\" >C3A</th>\n",
       "      <td id=\"T_5fff8_row13_col0\" class=\"data row13 col0\" >3.144654</td>\n",
       "    </tr>\n",
       "    <tr>\n",
       "      <th id=\"T_5fff8_level0_row14\" class=\"row_heading level0 row14\" >C4AF</th>\n",
       "      <td id=\"T_5fff8_row14_col0\" class=\"data row14 col0\" >3.144654</td>\n",
       "    </tr>\n",
       "    <tr>\n",
       "      <th id=\"T_5fff8_level0_row15\" class=\"row_heading level0 row15\" >Free CaO</th>\n",
       "      <td id=\"T_5fff8_row15_col0\" class=\"data row15 col0\" >2.964960</td>\n",
       "    </tr>\n",
       "    <tr>\n",
       "      <th id=\"T_5fff8_level0_row16\" class=\"row_heading level0 row16\" >CaO</th>\n",
       "      <td id=\"T_5fff8_row16_col0\" class=\"data row16 col0\" >2.066487</td>\n",
       "    </tr>\n",
       "    <tr>\n",
       "      <th id=\"T_5fff8_level0_row17\" class=\"row_heading level0 row17\" >SO3</th>\n",
       "      <td id=\"T_5fff8_row17_col0\" class=\"data row17 col0\" >0.628931</td>\n",
       "    </tr>\n",
       "    <tr>\n",
       "      <th id=\"T_5fff8_level0_row18\" class=\"row_heading level0 row18\" >Blaine</th>\n",
       "      <td id=\"T_5fff8_row18_col0\" class=\"data row18 col0\" >0.134771</td>\n",
       "    </tr>\n",
       "    <tr>\n",
       "      <th id=\"T_5fff8_level0_row19\" class=\"row_heading level0 row19\" >Factory_Plant</th>\n",
       "      <td id=\"T_5fff8_row19_col0\" class=\"data row19 col0\" >0.000000</td>\n",
       "    </tr>\n",
       "    <tr>\n",
       "      <th id=\"T_5fff8_level0_row20\" class=\"row_heading level0 row20\" >Cement_Type</th>\n",
       "      <td id=\"T_5fff8_row20_col0\" class=\"data row20 col0\" >0.000000</td>\n",
       "    </tr>\n",
       "    <tr>\n",
       "      <th id=\"T_5fff8_level0_row21\" class=\"row_heading level0 row21\" >CS28</th>\n",
       "      <td id=\"T_5fff8_row21_col0\" class=\"data row21 col0\" >0.000000</td>\n",
       "    </tr>\n",
       "    <tr>\n",
       "      <th id=\"T_5fff8_level0_row22\" class=\"row_heading level0 row22\" >Date</th>\n",
       "      <td id=\"T_5fff8_row22_col0\" class=\"data row22 col0\" >0.000000</td>\n",
       "    </tr>\n",
       "  </tbody>\n",
       "</table>\n"
      ],
      "text/plain": [
       "<pandas.io.formats.style.Styler at 0x7fd57c2278e0>"
      ]
     },
     "execution_count": 107,
     "metadata": {},
     "output_type": "execute_result"
    },
    {
     "data": {
      "application/javascript": [
       "\n",
       "            setTimeout(function() {\n",
       "                var nbb_cell_id = 107;\n",
       "                var nbb_unformatted_code = \"(df_pre_train.isna().sum() / df_pre_train.shape[0] * 100).sort_values(\\n    ascending=False\\n).to_frame(name=\\\"Missing (%)\\\").style.background_gradient(cmap=\\\"Reds\\\")\";\n",
       "                var nbb_formatted_code = \"(df_pre_train.isna().sum() / df_pre_train.shape[0] * 100).sort_values(\\n    ascending=False\\n).to_frame(name=\\\"Missing (%)\\\").style.background_gradient(cmap=\\\"Reds\\\")\";\n",
       "                var nbb_cells = Jupyter.notebook.get_cells();\n",
       "                for (var i = 0; i < nbb_cells.length; ++i) {\n",
       "                    if (nbb_cells[i].input_prompt_number == nbb_cell_id) {\n",
       "                        if (nbb_cells[i].get_text() == nbb_unformatted_code) {\n",
       "                             nbb_cells[i].set_text(nbb_formatted_code);\n",
       "                        }\n",
       "                        break;\n",
       "                    }\n",
       "                }\n",
       "            }, 500);\n",
       "            "
      ],
      "text/plain": [
       "<IPython.core.display.Javascript object>"
      ]
     },
     "metadata": {},
     "output_type": "display_data"
    }
   ],
   "source": [
    "(df_pre_train.isna().sum() / df_pre_train.shape[0] * 100).sort_values(\n",
    "    ascending=False\n",
    ").to_frame(name=\"Missing (%)\").style.background_gradient(cmap=\"Reds\")"
   ]
  },
  {
   "cell_type": "code",
   "execution_count": 108,
   "id": "bab6af16",
   "metadata": {},
   "outputs": [
    {
     "data": {
      "text/html": [
       "<div>\n",
       "<style scoped>\n",
       "    .dataframe tbody tr th:only-of-type {\n",
       "        vertical-align: middle;\n",
       "    }\n",
       "\n",
       "    .dataframe tbody tr th {\n",
       "        vertical-align: top;\n",
       "    }\n",
       "\n",
       "    .dataframe thead th {\n",
       "        text-align: right;\n",
       "    }\n",
       "</style>\n",
       "<table border=\"1\" class=\"dataframe\">\n",
       "  <thead>\n",
       "    <tr style=\"text-align: right;\">\n",
       "      <th></th>\n",
       "      <th>count</th>\n",
       "      <th>mean</th>\n",
       "      <th>std</th>\n",
       "      <th>min</th>\n",
       "      <th>25%</th>\n",
       "      <th>50%</th>\n",
       "      <th>75%</th>\n",
       "      <th>max</th>\n",
       "    </tr>\n",
       "  </thead>\n",
       "  <tbody>\n",
       "    <tr>\n",
       "      <th>Blaine</th>\n",
       "      <td>2223.0</td>\n",
       "      <td>3240.349978</td>\n",
       "      <td>2145.455497</td>\n",
       "      <td>280.000000</td>\n",
       "      <td>551.500000</td>\n",
       "      <td>3561.000000</td>\n",
       "      <td>5415.000000</td>\n",
       "      <td>6491.000000</td>\n",
       "    </tr>\n",
       "    <tr>\n",
       "      <th>C3A</th>\n",
       "      <td>2156.0</td>\n",
       "      <td>4.626162</td>\n",
       "      <td>0.888971</td>\n",
       "      <td>1.340000</td>\n",
       "      <td>3.950000</td>\n",
       "      <td>4.730000</td>\n",
       "      <td>5.300000</td>\n",
       "      <td>7.350000</td>\n",
       "    </tr>\n",
       "    <tr>\n",
       "      <th>Loss on Ignition</th>\n",
       "      <td>2065.0</td>\n",
       "      <td>4.963453</td>\n",
       "      <td>2.639076</td>\n",
       "      <td>0.880000</td>\n",
       "      <td>3.110000</td>\n",
       "      <td>3.830000</td>\n",
       "      <td>5.830000</td>\n",
       "      <td>12.500000</td>\n",
       "    </tr>\n",
       "    <tr>\n",
       "      <th>CS1</th>\n",
       "      <td>1516.0</td>\n",
       "      <td>23.395033</td>\n",
       "      <td>6.522243</td>\n",
       "      <td>12.690000</td>\n",
       "      <td>16.450000</td>\n",
       "      <td>24.285000</td>\n",
       "      <td>28.525000</td>\n",
       "      <td>37.300000</td>\n",
       "    </tr>\n",
       "    <tr>\n",
       "      <th>CS3</th>\n",
       "      <td>1599.0</td>\n",
       "      <td>31.979081</td>\n",
       "      <td>4.848015</td>\n",
       "      <td>22.870000</td>\n",
       "      <td>27.510000</td>\n",
       "      <td>30.170000</td>\n",
       "      <td>36.799999</td>\n",
       "      <td>47.400000</td>\n",
       "    </tr>\n",
       "    <tr>\n",
       "      <th>CS28</th>\n",
       "      <td>2226.0</td>\n",
       "      <td>45.244331</td>\n",
       "      <td>5.766462</td>\n",
       "      <td>32.400002</td>\n",
       "      <td>41.260000</td>\n",
       "      <td>45.400002</td>\n",
       "      <td>48.400002</td>\n",
       "      <td>65.400000</td>\n",
       "    </tr>\n",
       "    <tr>\n",
       "      <th>#325</th>\n",
       "      <td>1592.0</td>\n",
       "      <td>46.209052</td>\n",
       "      <td>47.331112</td>\n",
       "      <td>0.060000</td>\n",
       "      <td>1.000000</td>\n",
       "      <td>6.800000</td>\n",
       "      <td>96.882500</td>\n",
       "      <td>99.960000</td>\n",
       "    </tr>\n",
       "    <tr>\n",
       "      <th>SO3</th>\n",
       "      <td>2212.0</td>\n",
       "      <td>3.264142</td>\n",
       "      <td>0.512941</td>\n",
       "      <td>1.770000</td>\n",
       "      <td>2.900000</td>\n",
       "      <td>3.120000</td>\n",
       "      <td>3.592647</td>\n",
       "      <td>5.574080</td>\n",
       "    </tr>\n",
       "    <tr>\n",
       "      <th>C4AF</th>\n",
       "      <td>2156.0</td>\n",
       "      <td>9.563581</td>\n",
       "      <td>1.787079</td>\n",
       "      <td>4.750000</td>\n",
       "      <td>8.107500</td>\n",
       "      <td>10.040000</td>\n",
       "      <td>11.050000</td>\n",
       "      <td>16.150000</td>\n",
       "    </tr>\n",
       "    <tr>\n",
       "      <th>CaO</th>\n",
       "      <td>2180.0</td>\n",
       "      <td>44.231184</td>\n",
       "      <td>26.854155</td>\n",
       "      <td>0.010000</td>\n",
       "      <td>1.700000</td>\n",
       "      <td>59.971310</td>\n",
       "      <td>61.900000</td>\n",
       "      <td>64.750000</td>\n",
       "    </tr>\n",
       "    <tr>\n",
       "      <th>Free CaO</th>\n",
       "      <td>2160.0</td>\n",
       "      <td>1.010421</td>\n",
       "      <td>0.612141</td>\n",
       "      <td>0.020000</td>\n",
       "      <td>0.530000</td>\n",
       "      <td>0.950000</td>\n",
       "      <td>1.260000</td>\n",
       "      <td>3.810000</td>\n",
       "    </tr>\n",
       "    <tr>\n",
       "      <th>SiO2</th>\n",
       "      <td>1578.0</td>\n",
       "      <td>18.768688</td>\n",
       "      <td>0.835949</td>\n",
       "      <td>14.381200</td>\n",
       "      <td>18.437968</td>\n",
       "      <td>19.050000</td>\n",
       "      <td>19.310000</td>\n",
       "      <td>20.588160</td>\n",
       "    </tr>\n",
       "    <tr>\n",
       "      <th>Al2O3</th>\n",
       "      <td>1578.0</td>\n",
       "      <td>4.454416</td>\n",
       "      <td>0.296244</td>\n",
       "      <td>3.503430</td>\n",
       "      <td>4.237713</td>\n",
       "      <td>4.454965</td>\n",
       "      <td>4.710000</td>\n",
       "      <td>5.512240</td>\n",
       "    </tr>\n",
       "    <tr>\n",
       "      <th>Fe2O3</th>\n",
       "      <td>1578.0</td>\n",
       "      <td>3.047874</td>\n",
       "      <td>0.225752</td>\n",
       "      <td>2.113490</td>\n",
       "      <td>2.879515</td>\n",
       "      <td>3.118485</td>\n",
       "      <td>3.220622</td>\n",
       "      <td>3.480000</td>\n",
       "    </tr>\n",
       "    <tr>\n",
       "      <th>MgO</th>\n",
       "      <td>1578.0</td>\n",
       "      <td>2.960188</td>\n",
       "      <td>0.397940</td>\n",
       "      <td>1.642760</td>\n",
       "      <td>2.721285</td>\n",
       "      <td>3.000000</td>\n",
       "      <td>3.202908</td>\n",
       "      <td>4.520740</td>\n",
       "    </tr>\n",
       "    <tr>\n",
       "      <th>K2O</th>\n",
       "      <td>1578.0</td>\n",
       "      <td>0.943327</td>\n",
       "      <td>0.278440</td>\n",
       "      <td>0.530000</td>\n",
       "      <td>0.660000</td>\n",
       "      <td>1.049955</td>\n",
       "      <td>1.218202</td>\n",
       "      <td>1.452580</td>\n",
       "    </tr>\n",
       "    <tr>\n",
       "      <th>Na2O</th>\n",
       "      <td>1578.0</td>\n",
       "      <td>0.142022</td>\n",
       "      <td>0.063970</td>\n",
       "      <td>0.010000</td>\n",
       "      <td>0.080000</td>\n",
       "      <td>0.154585</td>\n",
       "      <td>0.200375</td>\n",
       "      <td>0.312100</td>\n",
       "    </tr>\n",
       "    <tr>\n",
       "      <th>Total C3S</th>\n",
       "      <td>1554.0</td>\n",
       "      <td>54.839723</td>\n",
       "      <td>5.428707</td>\n",
       "      <td>32.640000</td>\n",
       "      <td>53.077500</td>\n",
       "      <td>56.585000</td>\n",
       "      <td>58.504999</td>\n",
       "      <td>65.489998</td>\n",
       "    </tr>\n",
       "    <tr>\n",
       "      <th>Initial setting time</th>\n",
       "      <td>1592.0</td>\n",
       "      <td>145.913945</td>\n",
       "      <td>15.296056</td>\n",
       "      <td>95.000000</td>\n",
       "      <td>135.000000</td>\n",
       "      <td>145.000000</td>\n",
       "      <td>155.000000</td>\n",
       "      <td>185.000000</td>\n",
       "    </tr>\n",
       "    <tr>\n",
       "      <th>CS7</th>\n",
       "      <td>1592.0</td>\n",
       "      <td>37.044051</td>\n",
       "      <td>4.421079</td>\n",
       "      <td>28.200001</td>\n",
       "      <td>32.935000</td>\n",
       "      <td>36.890000</td>\n",
       "      <td>41.200001</td>\n",
       "      <td>46.700001</td>\n",
       "    </tr>\n",
       "  </tbody>\n",
       "</table>\n",
       "</div>"
      ],
      "text/plain": [
       "                       count         mean          std         min  \\\n",
       "Blaine                2223.0  3240.349978  2145.455497  280.000000   \n",
       "C3A                   2156.0     4.626162     0.888971    1.340000   \n",
       "Loss on Ignition      2065.0     4.963453     2.639076    0.880000   \n",
       "CS1                   1516.0    23.395033     6.522243   12.690000   \n",
       "CS3                   1599.0    31.979081     4.848015   22.870000   \n",
       "CS28                  2226.0    45.244331     5.766462   32.400002   \n",
       "#325                  1592.0    46.209052    47.331112    0.060000   \n",
       "SO3                   2212.0     3.264142     0.512941    1.770000   \n",
       "C4AF                  2156.0     9.563581     1.787079    4.750000   \n",
       "CaO                   2180.0    44.231184    26.854155    0.010000   \n",
       "Free CaO              2160.0     1.010421     0.612141    0.020000   \n",
       "SiO2                  1578.0    18.768688     0.835949   14.381200   \n",
       "Al2O3                 1578.0     4.454416     0.296244    3.503430   \n",
       "Fe2O3                 1578.0     3.047874     0.225752    2.113490   \n",
       "MgO                   1578.0     2.960188     0.397940    1.642760   \n",
       "K2O                   1578.0     0.943327     0.278440    0.530000   \n",
       "Na2O                  1578.0     0.142022     0.063970    0.010000   \n",
       "Total C3S             1554.0    54.839723     5.428707   32.640000   \n",
       "Initial setting time  1592.0   145.913945    15.296056   95.000000   \n",
       "CS7                   1592.0    37.044051     4.421079   28.200001   \n",
       "\n",
       "                             25%          50%          75%          max  \n",
       "Blaine                551.500000  3561.000000  5415.000000  6491.000000  \n",
       "C3A                     3.950000     4.730000     5.300000     7.350000  \n",
       "Loss on Ignition        3.110000     3.830000     5.830000    12.500000  \n",
       "CS1                    16.450000    24.285000    28.525000    37.300000  \n",
       "CS3                    27.510000    30.170000    36.799999    47.400000  \n",
       "CS28                   41.260000    45.400002    48.400002    65.400000  \n",
       "#325                    1.000000     6.800000    96.882500    99.960000  \n",
       "SO3                     2.900000     3.120000     3.592647     5.574080  \n",
       "C4AF                    8.107500    10.040000    11.050000    16.150000  \n",
       "CaO                     1.700000    59.971310    61.900000    64.750000  \n",
       "Free CaO                0.530000     0.950000     1.260000     3.810000  \n",
       "SiO2                   18.437968    19.050000    19.310000    20.588160  \n",
       "Al2O3                   4.237713     4.454965     4.710000     5.512240  \n",
       "Fe2O3                   2.879515     3.118485     3.220622     3.480000  \n",
       "MgO                     2.721285     3.000000     3.202908     4.520740  \n",
       "K2O                     0.660000     1.049955     1.218202     1.452580  \n",
       "Na2O                    0.080000     0.154585     0.200375     0.312100  \n",
       "Total C3S              53.077500    56.585000    58.504999    65.489998  \n",
       "Initial setting time  135.000000   145.000000   155.000000   185.000000  \n",
       "CS7                    32.935000    36.890000    41.200001    46.700001  "
      ]
     },
     "execution_count": 108,
     "metadata": {},
     "output_type": "execute_result"
    },
    {
     "data": {
      "application/javascript": [
       "\n",
       "            setTimeout(function() {\n",
       "                var nbb_cell_id = 108;\n",
       "                var nbb_unformatted_code = \"df_pre_train.describe().T\";\n",
       "                var nbb_formatted_code = \"df_pre_train.describe().T\";\n",
       "                var nbb_cells = Jupyter.notebook.get_cells();\n",
       "                for (var i = 0; i < nbb_cells.length; ++i) {\n",
       "                    if (nbb_cells[i].input_prompt_number == nbb_cell_id) {\n",
       "                        if (nbb_cells[i].get_text() == nbb_unformatted_code) {\n",
       "                             nbb_cells[i].set_text(nbb_formatted_code);\n",
       "                        }\n",
       "                        break;\n",
       "                    }\n",
       "                }\n",
       "            }, 500);\n",
       "            "
      ],
      "text/plain": [
       "<IPython.core.display.Javascript object>"
      ]
     },
     "metadata": {},
     "output_type": "display_data"
    }
   ],
   "source": [
    "df_pre_train.describe().T"
   ]
  },
  {
   "cell_type": "code",
   "execution_count": 109,
   "id": "a54ae24c",
   "metadata": {},
   "outputs": [
    {
     "data": {
      "text/html": [
       "<style type=\"text/css\">\n",
       "#T_2df56_row0_col0, #T_2df56_row1_col0, #T_2df56_row2_col0, #T_2df56_row3_col0, #T_2df56_row4_col0, #T_2df56_row5_col0, #T_2df56_row6_col0, #T_2df56_row7_col0, #T_2df56_row8_col0, #T_2df56_row9_col0, #T_2df56_row10_col0 {\n",
       "  background-color: #67000d;\n",
       "  color: #f1f1f1;\n",
       "}\n",
       "#T_2df56_row11_col0, #T_2df56_row12_col0, #T_2df56_row13_col0, #T_2df56_row14_col0 {\n",
       "  background-color: #fee0d2;\n",
       "  color: #000000;\n",
       "}\n",
       "#T_2df56_row15_col0 {\n",
       "  background-color: #fee3d6;\n",
       "  color: #000000;\n",
       "}\n",
       "#T_2df56_row16_col0, #T_2df56_row17_col0, #T_2df56_row18_col0, #T_2df56_row19_col0, #T_2df56_row20_col0, #T_2df56_row21_col0, #T_2df56_row22_col0 {\n",
       "  background-color: #fff5f0;\n",
       "  color: #000000;\n",
       "}\n",
       "</style>\n",
       "<table id=\"T_2df56\">\n",
       "  <thead>\n",
       "    <tr>\n",
       "      <th class=\"blank level0\" >&nbsp;</th>\n",
       "      <th id=\"T_2df56_level0_col0\" class=\"col_heading level0 col0\" >Missing (%)</th>\n",
       "    </tr>\n",
       "  </thead>\n",
       "  <tbody>\n",
       "    <tr>\n",
       "      <th id=\"T_2df56_level0_row0\" class=\"row_heading level0 row0\" >CS7</th>\n",
       "      <td id=\"T_2df56_row0_col0\" class=\"data row0 col0\" >100.000000</td>\n",
       "    </tr>\n",
       "    <tr>\n",
       "      <th id=\"T_2df56_level0_row1\" class=\"row_heading level0 row1\" >SiO2</th>\n",
       "      <td id=\"T_2df56_row1_col0\" class=\"data row1 col0\" >100.000000</td>\n",
       "    </tr>\n",
       "    <tr>\n",
       "      <th id=\"T_2df56_level0_row2\" class=\"row_heading level0 row2\" >Initial setting time</th>\n",
       "      <td id=\"T_2df56_row2_col0\" class=\"data row2 col0\" >100.000000</td>\n",
       "    </tr>\n",
       "    <tr>\n",
       "      <th id=\"T_2df56_level0_row3\" class=\"row_heading level0 row3\" >Total C3S</th>\n",
       "      <td id=\"T_2df56_row3_col0\" class=\"data row3 col0\" >100.000000</td>\n",
       "    </tr>\n",
       "    <tr>\n",
       "      <th id=\"T_2df56_level0_row4\" class=\"row_heading level0 row4\" >Na2O</th>\n",
       "      <td id=\"T_2df56_row4_col0\" class=\"data row4 col0\" >100.000000</td>\n",
       "    </tr>\n",
       "    <tr>\n",
       "      <th id=\"T_2df56_level0_row5\" class=\"row_heading level0 row5\" >CS3</th>\n",
       "      <td id=\"T_2df56_row5_col0\" class=\"data row5 col0\" >100.000000</td>\n",
       "    </tr>\n",
       "    <tr>\n",
       "      <th id=\"T_2df56_level0_row6\" class=\"row_heading level0 row6\" >K2O</th>\n",
       "      <td id=\"T_2df56_row6_col0\" class=\"data row6 col0\" >100.000000</td>\n",
       "    </tr>\n",
       "    <tr>\n",
       "      <th id=\"T_2df56_level0_row7\" class=\"row_heading level0 row7\" >#325</th>\n",
       "      <td id=\"T_2df56_row7_col0\" class=\"data row7 col0\" >100.000000</td>\n",
       "    </tr>\n",
       "    <tr>\n",
       "      <th id=\"T_2df56_level0_row8\" class=\"row_heading level0 row8\" >MgO</th>\n",
       "      <td id=\"T_2df56_row8_col0\" class=\"data row8 col0\" >100.000000</td>\n",
       "    </tr>\n",
       "    <tr>\n",
       "      <th id=\"T_2df56_level0_row9\" class=\"row_heading level0 row9\" >Fe2O3</th>\n",
       "      <td id=\"T_2df56_row9_col0\" class=\"data row9 col0\" >100.000000</td>\n",
       "    </tr>\n",
       "    <tr>\n",
       "      <th id=\"T_2df56_level0_row10\" class=\"row_heading level0 row10\" >Al2O3</th>\n",
       "      <td id=\"T_2df56_row10_col0\" class=\"data row10 col0\" >100.000000</td>\n",
       "    </tr>\n",
       "    <tr>\n",
       "      <th id=\"T_2df56_level0_row11\" class=\"row_heading level0 row11\" >Free CaO</th>\n",
       "      <td id=\"T_2df56_row11_col0\" class=\"data row11 col0\" >12.500000</td>\n",
       "    </tr>\n",
       "    <tr>\n",
       "      <th id=\"T_2df56_level0_row12\" class=\"row_heading level0 row12\" >CaO</th>\n",
       "      <td id=\"T_2df56_row12_col0\" class=\"data row12 col0\" >12.500000</td>\n",
       "    </tr>\n",
       "    <tr>\n",
       "      <th id=\"T_2df56_level0_row13\" class=\"row_heading level0 row13\" >C4AF</th>\n",
       "      <td id=\"T_2df56_row13_col0\" class=\"data row13 col0\" >12.500000</td>\n",
       "    </tr>\n",
       "    <tr>\n",
       "      <th id=\"T_2df56_level0_row14\" class=\"row_heading level0 row14\" >C3A</th>\n",
       "      <td id=\"T_2df56_row14_col0\" class=\"data row14 col0\" >12.500000</td>\n",
       "    </tr>\n",
       "    <tr>\n",
       "      <th id=\"T_2df56_level0_row15\" class=\"row_heading level0 row15\" >Loss on Ignition</th>\n",
       "      <td id=\"T_2df56_row15_col0\" class=\"data row15 col0\" >11.029412</td>\n",
       "    </tr>\n",
       "    <tr>\n",
       "      <th id=\"T_2df56_level0_row16\" class=\"row_heading level0 row16\" >Blaine</th>\n",
       "      <td id=\"T_2df56_row16_col0\" class=\"data row16 col0\" >0.367647</td>\n",
       "    </tr>\n",
       "    <tr>\n",
       "      <th id=\"T_2df56_level0_row17\" class=\"row_heading level0 row17\" >SO3</th>\n",
       "      <td id=\"T_2df56_row17_col0\" class=\"data row17 col0\" >0.367647</td>\n",
       "    </tr>\n",
       "    <tr>\n",
       "      <th id=\"T_2df56_level0_row18\" class=\"row_heading level0 row18\" >Cement_Type</th>\n",
       "      <td id=\"T_2df56_row18_col0\" class=\"data row18 col0\" >0.000000</td>\n",
       "    </tr>\n",
       "    <tr>\n",
       "      <th id=\"T_2df56_level0_row19\" class=\"row_heading level0 row19\" >Factory_Plant</th>\n",
       "      <td id=\"T_2df56_row19_col0\" class=\"data row19 col0\" >0.000000</td>\n",
       "    </tr>\n",
       "    <tr>\n",
       "      <th id=\"T_2df56_level0_row20\" class=\"row_heading level0 row20\" >CS28</th>\n",
       "      <td id=\"T_2df56_row20_col0\" class=\"data row20 col0\" >0.000000</td>\n",
       "    </tr>\n",
       "    <tr>\n",
       "      <th id=\"T_2df56_level0_row21\" class=\"row_heading level0 row21\" >CS1</th>\n",
       "      <td id=\"T_2df56_row21_col0\" class=\"data row21 col0\" >0.000000</td>\n",
       "    </tr>\n",
       "    <tr>\n",
       "      <th id=\"T_2df56_level0_row22\" class=\"row_heading level0 row22\" >Date</th>\n",
       "      <td id=\"T_2df56_row22_col0\" class=\"data row22 col0\" >0.000000</td>\n",
       "    </tr>\n",
       "  </tbody>\n",
       "</table>\n"
      ],
      "text/plain": [
       "<pandas.io.formats.style.Styler at 0x7fd57c292aa0>"
      ]
     },
     "execution_count": 109,
     "metadata": {},
     "output_type": "execute_result"
    },
    {
     "data": {
      "application/javascript": [
       "\n",
       "            setTimeout(function() {\n",
       "                var nbb_cell_id = 109;\n",
       "                var nbb_unformatted_code = \"(fine_tuning_partner_iv.isna().sum() / fine_tuning_partner_iv.shape[0] * 100).sort_values(\\n    ascending=False\\n).to_frame(name=\\\"Missing (%)\\\").style.background_gradient(cmap=\\\"Reds\\\")\";\n",
       "                var nbb_formatted_code = \"(fine_tuning_partner_iv.isna().sum() / fine_tuning_partner_iv.shape[0] * 100).sort_values(\\n    ascending=False\\n).to_frame(name=\\\"Missing (%)\\\").style.background_gradient(cmap=\\\"Reds\\\")\";\n",
       "                var nbb_cells = Jupyter.notebook.get_cells();\n",
       "                for (var i = 0; i < nbb_cells.length; ++i) {\n",
       "                    if (nbb_cells[i].input_prompt_number == nbb_cell_id) {\n",
       "                        if (nbb_cells[i].get_text() == nbb_unformatted_code) {\n",
       "                             nbb_cells[i].set_text(nbb_formatted_code);\n",
       "                        }\n",
       "                        break;\n",
       "                    }\n",
       "                }\n",
       "            }, 500);\n",
       "            "
      ],
      "text/plain": [
       "<IPython.core.display.Javascript object>"
      ]
     },
     "metadata": {},
     "output_type": "display_data"
    }
   ],
   "source": [
    "(fine_tuning_partner_iv.isna().sum() / fine_tuning_partner_iv.shape[0] * 100).sort_values(\n",
    "    ascending=False\n",
    ").to_frame(name=\"Missing (%)\").style.background_gradient(cmap=\"Reds\")"
   ]
  },
  {
   "cell_type": "code",
   "execution_count": 110,
   "id": "8e511e61",
   "metadata": {},
   "outputs": [
    {
     "data": {
      "text/html": [
       "<style type=\"text/css\">\n",
       "#T_2d360_row0_col0, #T_2d360_row1_col0, #T_2d360_row2_col0, #T_2d360_row3_col0 {\n",
       "  background-color: #67000d;\n",
       "  color: #f1f1f1;\n",
       "}\n",
       "#T_2d360_row4_col0, #T_2d360_row5_col0, #T_2d360_row6_col0, #T_2d360_row7_col0, #T_2d360_row8_col0, #T_2d360_row9_col0, #T_2d360_row10_col0, #T_2d360_row11_col0 {\n",
       "  background-color: #fb694a;\n",
       "  color: #f1f1f1;\n",
       "}\n",
       "#T_2d360_row12_col0 {\n",
       "  background-color: #fca082;\n",
       "  color: #000000;\n",
       "}\n",
       "#T_2d360_row13_col0 {\n",
       "  background-color: #fdd4c2;\n",
       "  color: #000000;\n",
       "}\n",
       "#T_2d360_row14_col0, #T_2d360_row15_col0, #T_2d360_row16_col0, #T_2d360_row17_col0, #T_2d360_row18_col0, #T_2d360_row19_col0, #T_2d360_row20_col0, #T_2d360_row21_col0, #T_2d360_row22_col0 {\n",
       "  background-color: #fff5f0;\n",
       "  color: #000000;\n",
       "}\n",
       "</style>\n",
       "<table id=\"T_2d360\">\n",
       "  <thead>\n",
       "    <tr>\n",
       "      <th class=\"blank level0\" >&nbsp;</th>\n",
       "      <th id=\"T_2d360_level0_col0\" class=\"col_heading level0 col0\" >Missing (%)</th>\n",
       "    </tr>\n",
       "  </thead>\n",
       "  <tbody>\n",
       "    <tr>\n",
       "      <th id=\"T_2d360_level0_row0\" class=\"row_heading level0 row0\" >Free CaO</th>\n",
       "      <td id=\"T_2d360_row0_col0\" class=\"data row0 col0\" >1.904762</td>\n",
       "    </tr>\n",
       "    <tr>\n",
       "      <th id=\"T_2d360_level0_row1\" class=\"row_heading level0 row1\" >C3A</th>\n",
       "      <td id=\"T_2d360_row1_col0\" class=\"data row1 col0\" >1.904762</td>\n",
       "    </tr>\n",
       "    <tr>\n",
       "      <th id=\"T_2d360_level0_row2\" class=\"row_heading level0 row2\" >Total C3S</th>\n",
       "      <td id=\"T_2d360_row2_col0\" class=\"data row2 col0\" >1.904762</td>\n",
       "    </tr>\n",
       "    <tr>\n",
       "      <th id=\"T_2d360_level0_row3\" class=\"row_heading level0 row3\" >C4AF</th>\n",
       "      <td id=\"T_2d360_row3_col0\" class=\"data row3 col0\" >1.904762</td>\n",
       "    </tr>\n",
       "    <tr>\n",
       "      <th id=\"T_2d360_level0_row4\" class=\"row_heading level0 row4\" >SiO2</th>\n",
       "      <td id=\"T_2d360_row4_col0\" class=\"data row4 col0\" >0.952381</td>\n",
       "    </tr>\n",
       "    <tr>\n",
       "      <th id=\"T_2d360_level0_row5\" class=\"row_heading level0 row5\" >Na2O</th>\n",
       "      <td id=\"T_2d360_row5_col0\" class=\"data row5 col0\" >0.952381</td>\n",
       "    </tr>\n",
       "    <tr>\n",
       "      <th id=\"T_2d360_level0_row6\" class=\"row_heading level0 row6\" >K2O</th>\n",
       "      <td id=\"T_2d360_row6_col0\" class=\"data row6 col0\" >0.952381</td>\n",
       "    </tr>\n",
       "    <tr>\n",
       "      <th id=\"T_2d360_level0_row7\" class=\"row_heading level0 row7\" >MgO</th>\n",
       "      <td id=\"T_2d360_row7_col0\" class=\"data row7 col0\" >0.952381</td>\n",
       "    </tr>\n",
       "    <tr>\n",
       "      <th id=\"T_2d360_level0_row8\" class=\"row_heading level0 row8\" >Fe2O3</th>\n",
       "      <td id=\"T_2d360_row8_col0\" class=\"data row8 col0\" >0.952381</td>\n",
       "    </tr>\n",
       "    <tr>\n",
       "      <th id=\"T_2d360_level0_row9\" class=\"row_heading level0 row9\" >SO3</th>\n",
       "      <td id=\"T_2d360_row9_col0\" class=\"data row9 col0\" >0.952381</td>\n",
       "    </tr>\n",
       "    <tr>\n",
       "      <th id=\"T_2d360_level0_row10\" class=\"row_heading level0 row10\" >CaO</th>\n",
       "      <td id=\"T_2d360_row10_col0\" class=\"data row10 col0\" >0.952381</td>\n",
       "    </tr>\n",
       "    <tr>\n",
       "      <th id=\"T_2d360_level0_row11\" class=\"row_heading level0 row11\" >Al2O3</th>\n",
       "      <td id=\"T_2d360_row11_col0\" class=\"data row11 col0\" >0.952381</td>\n",
       "    </tr>\n",
       "    <tr>\n",
       "      <th id=\"T_2d360_level0_row12\" class=\"row_heading level0 row12\" >CS7</th>\n",
       "      <td id=\"T_2d360_row12_col0\" class=\"data row12 col0\" >0.634921</td>\n",
       "    </tr>\n",
       "    <tr>\n",
       "      <th id=\"T_2d360_level0_row13\" class=\"row_heading level0 row13\" >CS1</th>\n",
       "      <td id=\"T_2d360_row13_col0\" class=\"data row13 col0\" >0.317460</td>\n",
       "    </tr>\n",
       "    <tr>\n",
       "      <th id=\"T_2d360_level0_row14\" class=\"row_heading level0 row14\" >Factory_Plant</th>\n",
       "      <td id=\"T_2d360_row14_col0\" class=\"data row14 col0\" >0.000000</td>\n",
       "    </tr>\n",
       "    <tr>\n",
       "      <th id=\"T_2d360_level0_row15\" class=\"row_heading level0 row15\" >Cement_Type</th>\n",
       "      <td id=\"T_2d360_row15_col0\" class=\"data row15 col0\" >0.000000</td>\n",
       "    </tr>\n",
       "    <tr>\n",
       "      <th id=\"T_2d360_level0_row16\" class=\"row_heading level0 row16\" >Blaine</th>\n",
       "      <td id=\"T_2d360_row16_col0\" class=\"data row16 col0\" >0.000000</td>\n",
       "    </tr>\n",
       "    <tr>\n",
       "      <th id=\"T_2d360_level0_row17\" class=\"row_heading level0 row17\" >#325</th>\n",
       "      <td id=\"T_2d360_row17_col0\" class=\"data row17 col0\" >0.000000</td>\n",
       "    </tr>\n",
       "    <tr>\n",
       "      <th id=\"T_2d360_level0_row18\" class=\"row_heading level0 row18\" >CS28</th>\n",
       "      <td id=\"T_2d360_row18_col0\" class=\"data row18 col0\" >0.000000</td>\n",
       "    </tr>\n",
       "    <tr>\n",
       "      <th id=\"T_2d360_level0_row19\" class=\"row_heading level0 row19\" >CS3</th>\n",
       "      <td id=\"T_2d360_row19_col0\" class=\"data row19 col0\" >0.000000</td>\n",
       "    </tr>\n",
       "    <tr>\n",
       "      <th id=\"T_2d360_level0_row20\" class=\"row_heading level0 row20\" >Loss on Ignition</th>\n",
       "      <td id=\"T_2d360_row20_col0\" class=\"data row20 col0\" >0.000000</td>\n",
       "    </tr>\n",
       "    <tr>\n",
       "      <th id=\"T_2d360_level0_row21\" class=\"row_heading level0 row21\" >Initial setting time</th>\n",
       "      <td id=\"T_2d360_row21_col0\" class=\"data row21 col0\" >0.000000</td>\n",
       "    </tr>\n",
       "    <tr>\n",
       "      <th id=\"T_2d360_level0_row22\" class=\"row_heading level0 row22\" >Date</th>\n",
       "      <td id=\"T_2d360_row22_col0\" class=\"data row22 col0\" >0.000000</td>\n",
       "    </tr>\n",
       "  </tbody>\n",
       "</table>\n"
      ],
      "text/plain": [
       "<pandas.io.formats.style.Styler at 0x7fd57bce2770>"
      ]
     },
     "execution_count": 110,
     "metadata": {},
     "output_type": "execute_result"
    },
    {
     "data": {
      "application/javascript": [
       "\n",
       "            setTimeout(function() {\n",
       "                var nbb_cell_id = 110;\n",
       "                var nbb_unformatted_code = \"(fine_tuning_partner_ii.isna().sum() / fine_tuning_partner_ii.shape[0] * 100).sort_values(\\n    ascending=False\\n).to_frame(name=\\\"Missing (%)\\\").style.background_gradient(cmap=\\\"Reds\\\")\";\n",
       "                var nbb_formatted_code = \"(fine_tuning_partner_ii.isna().sum() / fine_tuning_partner_ii.shape[0] * 100).sort_values(\\n    ascending=False\\n).to_frame(name=\\\"Missing (%)\\\").style.background_gradient(cmap=\\\"Reds\\\")\";\n",
       "                var nbb_cells = Jupyter.notebook.get_cells();\n",
       "                for (var i = 0; i < nbb_cells.length; ++i) {\n",
       "                    if (nbb_cells[i].input_prompt_number == nbb_cell_id) {\n",
       "                        if (nbb_cells[i].get_text() == nbb_unformatted_code) {\n",
       "                             nbb_cells[i].set_text(nbb_formatted_code);\n",
       "                        }\n",
       "                        break;\n",
       "                    }\n",
       "                }\n",
       "            }, 500);\n",
       "            "
      ],
      "text/plain": [
       "<IPython.core.display.Javascript object>"
      ]
     },
     "metadata": {},
     "output_type": "display_data"
    }
   ],
   "source": [
    "(fine_tuning_partner_ii.isna().sum() / fine_tuning_partner_ii.shape[0] * 100).sort_values(\n",
    "    ascending=False\n",
    ").to_frame(name=\"Missing (%)\").style.background_gradient(cmap=\"Reds\")"
   ]
  },
  {
   "cell_type": "code",
   "execution_count": 111,
   "id": "e08c8ecd",
   "metadata": {},
   "outputs": [
    {
     "data": {
      "text/html": [
       "<style type=\"text/css\">\n",
       "#T_0515d_row0_col0 {\n",
       "  background-color: #67000d;\n",
       "  color: #f1f1f1;\n",
       "}\n",
       "#T_0515d_row1_col0, #T_0515d_row2_col0, #T_0515d_row3_col0, #T_0515d_row4_col0 {\n",
       "  background-color: #fff0e8;\n",
       "  color: #000000;\n",
       "}\n",
       "#T_0515d_row5_col0 {\n",
       "  background-color: #fff2ec;\n",
       "  color: #000000;\n",
       "}\n",
       "#T_0515d_row6_col0, #T_0515d_row7_col0, #T_0515d_row8_col0, #T_0515d_row9_col0, #T_0515d_row10_col0, #T_0515d_row11_col0, #T_0515d_row12_col0, #T_0515d_row13_col0, #T_0515d_row14_col0, #T_0515d_row15_col0, #T_0515d_row16_col0, #T_0515d_row17_col0, #T_0515d_row18_col0, #T_0515d_row19_col0, #T_0515d_row20_col0, #T_0515d_row21_col0, #T_0515d_row22_col0 {\n",
       "  background-color: #fff5f0;\n",
       "  color: #000000;\n",
       "}\n",
       "</style>\n",
       "<table id=\"T_0515d\">\n",
       "  <thead>\n",
       "    <tr>\n",
       "      <th class=\"blank level0\" >&nbsp;</th>\n",
       "      <th id=\"T_0515d_level0_col0\" class=\"col_heading level0 col0\" >Missing (%)</th>\n",
       "    </tr>\n",
       "  </thead>\n",
       "  <tbody>\n",
       "    <tr>\n",
       "      <th id=\"T_0515d_level0_row0\" class=\"row_heading level0 row0\" >CS1</th>\n",
       "      <td id=\"T_0515d_row0_col0\" class=\"data row0 col0\" >77.929155</td>\n",
       "    </tr>\n",
       "    <tr>\n",
       "      <th id=\"T_0515d_level0_row1\" class=\"row_heading level0 row1\" >Free CaO</th>\n",
       "      <td id=\"T_0515d_row1_col0\" class=\"data row1 col0\" >2.452316</td>\n",
       "    </tr>\n",
       "    <tr>\n",
       "      <th id=\"T_0515d_level0_row2\" class=\"row_heading level0 row2\" >C3A</th>\n",
       "      <td id=\"T_0515d_row2_col0\" class=\"data row2 col0\" >2.452316</td>\n",
       "    </tr>\n",
       "    <tr>\n",
       "      <th id=\"T_0515d_level0_row3\" class=\"row_heading level0 row3\" >Total C3S</th>\n",
       "      <td id=\"T_0515d_row3_col0\" class=\"data row3 col0\" >2.452316</td>\n",
       "    </tr>\n",
       "    <tr>\n",
       "      <th id=\"T_0515d_level0_row4\" class=\"row_heading level0 row4\" >C4AF</th>\n",
       "      <td id=\"T_0515d_row4_col0\" class=\"data row4 col0\" >2.452316</td>\n",
       "    </tr>\n",
       "    <tr>\n",
       "      <th id=\"T_0515d_level0_row5\" class=\"row_heading level0 row5\" >Loss on Ignition</th>\n",
       "      <td id=\"T_0515d_row5_col0\" class=\"data row5 col0\" >1.362398</td>\n",
       "    </tr>\n",
       "    <tr>\n",
       "      <th id=\"T_0515d_level0_row6\" class=\"row_heading level0 row6\" >SiO2</th>\n",
       "      <td id=\"T_0515d_row6_col0\" class=\"data row6 col0\" >0.000000</td>\n",
       "    </tr>\n",
       "    <tr>\n",
       "      <th id=\"T_0515d_level0_row7\" class=\"row_heading level0 row7\" >Initial setting time</th>\n",
       "      <td id=\"T_0515d_row7_col0\" class=\"data row7 col0\" >0.000000</td>\n",
       "    </tr>\n",
       "    <tr>\n",
       "      <th id=\"T_0515d_level0_row8\" class=\"row_heading level0 row8\" >Na2O</th>\n",
       "      <td id=\"T_0515d_row8_col0\" class=\"data row8 col0\" >0.000000</td>\n",
       "    </tr>\n",
       "    <tr>\n",
       "      <th id=\"T_0515d_level0_row9\" class=\"row_heading level0 row9\" >K2O</th>\n",
       "      <td id=\"T_0515d_row9_col0\" class=\"data row9 col0\" >0.000000</td>\n",
       "    </tr>\n",
       "    <tr>\n",
       "      <th id=\"T_0515d_level0_row10\" class=\"row_heading level0 row10\" >MgO</th>\n",
       "      <td id=\"T_0515d_row10_col0\" class=\"data row10 col0\" >0.000000</td>\n",
       "    </tr>\n",
       "    <tr>\n",
       "      <th id=\"T_0515d_level0_row11\" class=\"row_heading level0 row11\" >Fe2O3</th>\n",
       "      <td id=\"T_0515d_row11_col0\" class=\"data row11 col0\" >0.000000</td>\n",
       "    </tr>\n",
       "    <tr>\n",
       "      <th id=\"T_0515d_level0_row12\" class=\"row_heading level0 row12\" >Al2O3</th>\n",
       "      <td id=\"T_0515d_row12_col0\" class=\"data row12 col0\" >0.000000</td>\n",
       "    </tr>\n",
       "    <tr>\n",
       "      <th id=\"T_0515d_level0_row13\" class=\"row_heading level0 row13\" >Date</th>\n",
       "      <td id=\"T_0515d_row13_col0\" class=\"data row13 col0\" >0.000000</td>\n",
       "    </tr>\n",
       "    <tr>\n",
       "      <th id=\"T_0515d_level0_row14\" class=\"row_heading level0 row14\" >Factory_Plant</th>\n",
       "      <td id=\"T_0515d_row14_col0\" class=\"data row14 col0\" >0.000000</td>\n",
       "    </tr>\n",
       "    <tr>\n",
       "      <th id=\"T_0515d_level0_row15\" class=\"row_heading level0 row15\" >Cement_Type</th>\n",
       "      <td id=\"T_0515d_row15_col0\" class=\"data row15 col0\" >0.000000</td>\n",
       "    </tr>\n",
       "    <tr>\n",
       "      <th id=\"T_0515d_level0_row16\" class=\"row_heading level0 row16\" >Blaine</th>\n",
       "      <td id=\"T_0515d_row16_col0\" class=\"data row16 col0\" >0.000000</td>\n",
       "    </tr>\n",
       "    <tr>\n",
       "      <th id=\"T_0515d_level0_row17\" class=\"row_heading level0 row17\" >CaO</th>\n",
       "      <td id=\"T_0515d_row17_col0\" class=\"data row17 col0\" >0.000000</td>\n",
       "    </tr>\n",
       "    <tr>\n",
       "      <th id=\"T_0515d_level0_row18\" class=\"row_heading level0 row18\" >SO3</th>\n",
       "      <td id=\"T_0515d_row18_col0\" class=\"data row18 col0\" >0.000000</td>\n",
       "    </tr>\n",
       "    <tr>\n",
       "      <th id=\"T_0515d_level0_row19\" class=\"row_heading level0 row19\" >#325</th>\n",
       "      <td id=\"T_0515d_row19_col0\" class=\"data row19 col0\" >0.000000</td>\n",
       "    </tr>\n",
       "    <tr>\n",
       "      <th id=\"T_0515d_level0_row20\" class=\"row_heading level0 row20\" >CS28</th>\n",
       "      <td id=\"T_0515d_row20_col0\" class=\"data row20 col0\" >0.000000</td>\n",
       "    </tr>\n",
       "    <tr>\n",
       "      <th id=\"T_0515d_level0_row21\" class=\"row_heading level0 row21\" >CS3</th>\n",
       "      <td id=\"T_0515d_row21_col0\" class=\"data row21 col0\" >0.000000</td>\n",
       "    </tr>\n",
       "    <tr>\n",
       "      <th id=\"T_0515d_level0_row22\" class=\"row_heading level0 row22\" >CS7</th>\n",
       "      <td id=\"T_0515d_row22_col0\" class=\"data row22 col0\" >0.000000</td>\n",
       "    </tr>\n",
       "  </tbody>\n",
       "</table>\n"
      ],
      "text/plain": [
       "<pandas.io.formats.style.Styler at 0x7fd57c2919f0>"
      ]
     },
     "execution_count": 111,
     "metadata": {},
     "output_type": "execute_result"
    },
    {
     "data": {
      "application/javascript": [
       "\n",
       "            setTimeout(function() {\n",
       "                var nbb_cell_id = 111;\n",
       "                var nbb_unformatted_code = \"(fine_tuning_partner_i.isna().sum() / fine_tuning_partner_i.shape[0] * 100).sort_values(\\n    ascending=False\\n).to_frame(name=\\\"Missing (%)\\\").style.background_gradient(cmap=\\\"Reds\\\")\";\n",
       "                var nbb_formatted_code = \"(fine_tuning_partner_i.isna().sum() / fine_tuning_partner_i.shape[0] * 100).sort_values(\\n    ascending=False\\n).to_frame(name=\\\"Missing (%)\\\").style.background_gradient(cmap=\\\"Reds\\\")\";\n",
       "                var nbb_cells = Jupyter.notebook.get_cells();\n",
       "                for (var i = 0; i < nbb_cells.length; ++i) {\n",
       "                    if (nbb_cells[i].input_prompt_number == nbb_cell_id) {\n",
       "                        if (nbb_cells[i].get_text() == nbb_unformatted_code) {\n",
       "                             nbb_cells[i].set_text(nbb_formatted_code);\n",
       "                        }\n",
       "                        break;\n",
       "                    }\n",
       "                }\n",
       "            }, 500);\n",
       "            "
      ],
      "text/plain": [
       "<IPython.core.display.Javascript object>"
      ]
     },
     "metadata": {},
     "output_type": "display_data"
    }
   ],
   "source": [
    "(fine_tuning_partner_i.isna().sum() / fine_tuning_partner_i.shape[0] * 100).sort_values(\n",
    "    ascending=False\n",
    ").to_frame(name=\"Missing (%)\").style.background_gradient(cmap=\"Reds\")"
   ]
  },
  {
   "cell_type": "code",
   "execution_count": 112,
   "id": "3b0a9eac",
   "metadata": {},
   "outputs": [
    {
     "data": {
      "application/javascript": [
       "\n",
       "            setTimeout(function() {\n",
       "                var nbb_cell_id = 112;\n",
       "                var nbb_unformatted_code = \"df_pre_train.to_csv(\\\"../../../../data/interim/Global-Dataset/global_dataset_inn_v2.csv\\\", index=False)\";\n",
       "                var nbb_formatted_code = \"df_pre_train.to_csv(\\n    \\\"../../../../data/interim/Global-Dataset/global_dataset_inn_v2.csv\\\", index=False\\n)\";\n",
       "                var nbb_cells = Jupyter.notebook.get_cells();\n",
       "                for (var i = 0; i < nbb_cells.length; ++i) {\n",
       "                    if (nbb_cells[i].input_prompt_number == nbb_cell_id) {\n",
       "                        if (nbb_cells[i].get_text() == nbb_unformatted_code) {\n",
       "                             nbb_cells[i].set_text(nbb_formatted_code);\n",
       "                        }\n",
       "                        break;\n",
       "                    }\n",
       "                }\n",
       "            }, 500);\n",
       "            "
      ],
      "text/plain": [
       "<IPython.core.display.Javascript object>"
      ]
     },
     "metadata": {},
     "output_type": "display_data"
    }
   ],
   "source": [
    "df_pre_train.to_csv(\n",
    "    \"../../../../data/interim/Global-Dataset/global_dataset_inn_v2.csv\", index=False\n",
    ")"
   ]
  },
  {
   "cell_type": "code",
   "execution_count": 113,
   "id": "bbfad5ff",
   "metadata": {},
   "outputs": [
    {
     "data": {
      "application/javascript": [
       "\n",
       "            setTimeout(function() {\n",
       "                var nbb_cell_id = 113;\n",
       "                var nbb_unformatted_code = \"fine_tuning_partner_iv.to_csv(\\\"../../../../data/interim/partner_iv/cement-shipping_fine_tuning.csv\\\", index=False)\\nfine_tuning_partner_ii.to_csv(\\\"../../../../data/interim/partner_ii/cement-shipping_fine_tuning.csv\\\", index=False)\\nfine_tuning_partner_i.to_csv(\\\"../../../../data/interim/partner_i-Oficial/cement-shipping_fine_tuning.csv\\\", index=False)\";\n",
       "                var nbb_formatted_code = \"fine_tuning_partner_iv.to_csv(\\n    \\\"../../../../data/interim/partner_iv/cement-shipping_fine_tuning.csv\\\", index=False\\n)\\nfine_tuning_partner_ii.to_csv(\\n    \\\"../../../../data/interim/partner_ii/cement-shipping_fine_tuning.csv\\\", index=False\\n)\\nfine_tuning_partner_i.to_csv(\\n    \\\"../../../../data/interim/partner_i-Oficial/cement-shipping_fine_tuning.csv\\\",\\n    index=False,\\n)\";\n",
       "                var nbb_cells = Jupyter.notebook.get_cells();\n",
       "                for (var i = 0; i < nbb_cells.length; ++i) {\n",
       "                    if (nbb_cells[i].input_prompt_number == nbb_cell_id) {\n",
       "                        if (nbb_cells[i].get_text() == nbb_unformatted_code) {\n",
       "                             nbb_cells[i].set_text(nbb_formatted_code);\n",
       "                        }\n",
       "                        break;\n",
       "                    }\n",
       "                }\n",
       "            }, 500);\n",
       "            "
      ],
      "text/plain": [
       "<IPython.core.display.Javascript object>"
      ]
     },
     "metadata": {},
     "output_type": "display_data"
    }
   ],
   "source": [
    "fine_tuning_partner_iv.to_csv(\n",
    "    \"../../../../data/interim/partner_iv/cement-shipping_fine_tuning.csv\", index=False\n",
    ")\n",
    "fine_tuning_partner_ii.to_csv(\n",
    "    \"../../../../data/interim/partner_ii/cement-shipping_fine_tuning.csv\", index=False\n",
    ")\n",
    "fine_tuning_partner_i.to_csv(\n",
    "    \"../../../../data/interim/partner_i-Oficial/cement-shipping_fine_tuning.csv\",\n",
    "    index=False,\n",
    ")"
   ]
  },
  {
   "cell_type": "code",
   "execution_count": null,
   "id": "88f18c74",
   "metadata": {},
   "outputs": [],
   "source": []
  }
 ],
 "metadata": {
  "kernelspec": {
   "display_name": "ccs28-venv",
   "language": "python",
   "name": "ccs28-venv"
  },
  "language_info": {
   "codemirror_mode": {
    "name": "ipython",
    "version": 3
   },
   "file_extension": ".py",
   "mimetype": "text/x-python",
   "name": "python",
   "nbconvert_exporter": "python",
   "pygments_lexer": "ipython3",
   "version": "3.10.12"
  }
 },
 "nbformat": 4,
 "nbformat_minor": 5
}
