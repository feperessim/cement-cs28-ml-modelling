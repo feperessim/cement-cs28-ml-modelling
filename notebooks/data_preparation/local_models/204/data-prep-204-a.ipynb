{
 "cells": [
  {
   "cell_type": "code",
   "execution_count": 1,
   "id": "00f7471a",
   "metadata": {},
   "outputs": [
    {
     "data": {
      "application/javascript": [
       "\n",
       "            setTimeout(function() {\n",
       "                var nbb_cell_id = 1;\n",
       "                var nbb_unformatted_code = \"%load_ext nb_black\";\n",
       "                var nbb_formatted_code = \"%load_ext nb_black\";\n",
       "                var nbb_cells = Jupyter.notebook.get_cells();\n",
       "                for (var i = 0; i < nbb_cells.length; ++i) {\n",
       "                    if (nbb_cells[i].input_prompt_number == nbb_cell_id) {\n",
       "                        if (nbb_cells[i].get_text() == nbb_unformatted_code) {\n",
       "                             nbb_cells[i].set_text(nbb_formatted_code);\n",
       "                        }\n",
       "                        break;\n",
       "                    }\n",
       "                }\n",
       "            }, 500);\n",
       "            "
      ],
      "text/plain": [
       "<IPython.core.display.Javascript object>"
      ]
     },
     "metadata": {},
     "output_type": "display_data"
    }
   ],
   "source": [
    "%load_ext nb_black"
   ]
  },
  {
   "cell_type": "code",
   "execution_count": 2,
   "id": "17ba98f5",
   "metadata": {},
   "outputs": [
    {
     "data": {
      "application/javascript": [
       "\n",
       "            setTimeout(function() {\n",
       "                var nbb_cell_id = 2;\n",
       "                var nbb_unformatted_code = \"import pandas as pd\\nimport numpy as np\\nimport matplotlib.pyplot as plt\\nimport seaborn as sns\\nimport warnings\\n\\nfrom scipy.stats import pearsonr\\nfrom collections import Counter\";\n",
       "                var nbb_formatted_code = \"import pandas as pd\\nimport numpy as np\\nimport matplotlib.pyplot as plt\\nimport seaborn as sns\\nimport warnings\\n\\nfrom scipy.stats import pearsonr\\nfrom collections import Counter\";\n",
       "                var nbb_cells = Jupyter.notebook.get_cells();\n",
       "                for (var i = 0; i < nbb_cells.length; ++i) {\n",
       "                    if (nbb_cells[i].input_prompt_number == nbb_cell_id) {\n",
       "                        if (nbb_cells[i].get_text() == nbb_unformatted_code) {\n",
       "                             nbb_cells[i].set_text(nbb_formatted_code);\n",
       "                        }\n",
       "                        break;\n",
       "                    }\n",
       "                }\n",
       "            }, 500);\n",
       "            "
      ],
      "text/plain": [
       "<IPython.core.display.Javascript object>"
      ]
     },
     "metadata": {},
     "output_type": "display_data"
    }
   ],
   "source": [
    "import pandas as pd\n",
    "import numpy as np\n",
    "import matplotlib.pyplot as plt\n",
    "import seaborn as sns\n",
    "import warnings\n",
    "\n",
    "from scipy.stats import pearsonr\n",
    "from collections import Counter"
   ]
  },
  {
   "cell_type": "code",
   "execution_count": 3,
   "id": "ad81bb3a",
   "metadata": {},
   "outputs": [
    {
     "data": {
      "application/javascript": [
       "\n",
       "            setTimeout(function() {\n",
       "                var nbb_cell_id = 3;\n",
       "                var nbb_unformatted_code = \"def convert_to_float(value):\\n    try:\\n        # If it's a string enclosed in single quotes, remove quotes and replace comma with dot\\n        if isinstance(value, str):\\n            return float(value.replace(\\\",\\\", \\\".\\\"))\\n        else:\\n            return float(value)\\n    except ValueError as e:\\n        print(e)\\n        return float(\\\"nan\\\")\";\n",
       "                var nbb_formatted_code = \"def convert_to_float(value):\\n    try:\\n        # If it's a string enclosed in single quotes, remove quotes and replace comma with dot\\n        if isinstance(value, str):\\n            return float(value.replace(\\\",\\\", \\\".\\\"))\\n        else:\\n            return float(value)\\n    except ValueError as e:\\n        print(e)\\n        return float(\\\"nan\\\")\";\n",
       "                var nbb_cells = Jupyter.notebook.get_cells();\n",
       "                for (var i = 0; i < nbb_cells.length; ++i) {\n",
       "                    if (nbb_cells[i].input_prompt_number == nbb_cell_id) {\n",
       "                        if (nbb_cells[i].get_text() == nbb_unformatted_code) {\n",
       "                             nbb_cells[i].set_text(nbb_formatted_code);\n",
       "                        }\n",
       "                        break;\n",
       "                    }\n",
       "                }\n",
       "            }, 500);\n",
       "            "
      ],
      "text/plain": [
       "<IPython.core.display.Javascript object>"
      ]
     },
     "metadata": {},
     "output_type": "display_data"
    }
   ],
   "source": [
    "def convert_to_float(value):\n",
    "    try:\n",
    "        # If it's a string enclosed in single quotes, remove quotes and replace comma with dot\n",
    "        if isinstance(value, str):\n",
    "            return float(value.replace(\",\", \".\"))\n",
    "        else:\n",
    "            return float(value)\n",
    "    except ValueError as e:\n",
    "        print(e)\n",
    "        return float(\"nan\")"
   ]
  },
  {
   "cell_type": "code",
   "execution_count": 4,
   "id": "fa1f9842",
   "metadata": {},
   "outputs": [
    {
     "data": {
      "application/javascript": [
       "\n",
       "            setTimeout(function() {\n",
       "                var nbb_cell_id = 4;\n",
       "                var nbb_unformatted_code = \"def preprocess_numeric_cols(df, columns):\\n    for col in columns:\\n        df[col] = df[col].astype(str)  # Ensure string type for string operations\\n        df[col] = df[col].str.replace(\\\"#\\\", \\\"\\\")  # Remove '#' characters\\n        df[col] = df[col].str.replace(\\\",\\\", \\\".\\\")  # Replace ',' with '.' for decimals\\n    return df\";\n",
       "                var nbb_formatted_code = \"def preprocess_numeric_cols(df, columns):\\n    for col in columns:\\n        df[col] = df[col].astype(str)  # Ensure string type for string operations\\n        df[col] = df[col].str.replace(\\\"#\\\", \\\"\\\")  # Remove '#' characters\\n        df[col] = df[col].str.replace(\\\",\\\", \\\".\\\")  # Replace ',' with '.' for decimals\\n    return df\";\n",
       "                var nbb_cells = Jupyter.notebook.get_cells();\n",
       "                for (var i = 0; i < nbb_cells.length; ++i) {\n",
       "                    if (nbb_cells[i].input_prompt_number == nbb_cell_id) {\n",
       "                        if (nbb_cells[i].get_text() == nbb_unformatted_code) {\n",
       "                             nbb_cells[i].set_text(nbb_formatted_code);\n",
       "                        }\n",
       "                        break;\n",
       "                    }\n",
       "                }\n",
       "            }, 500);\n",
       "            "
      ],
      "text/plain": [
       "<IPython.core.display.Javascript object>"
      ]
     },
     "metadata": {},
     "output_type": "display_data"
    }
   ],
   "source": [
    "def preprocess_numeric_cols(df, columns):\n",
    "    for col in columns:\n",
    "        df[col] = df[col].astype(str)  # Ensure string type for string operations\n",
    "        df[col] = df[col].str.replace(\"#\", \"\")  # Remove '#' characters\n",
    "        df[col] = df[col].str.replace(\",\", \".\")  # Replace ',' with '.' for decimals\n",
    "    return df"
   ]
  },
  {
   "cell_type": "markdown",
   "id": "d28c2c6f",
   "metadata": {},
   "source": [
    "# Data preparation - 204 plant a data"
   ]
  },
  {
   "cell_type": "markdown",
   "id": "d3eb6673",
   "metadata": {},
   "source": [
    "### Reading the files and extracting relevant information:"
   ]
  },
  {
   "cell_type": "code",
   "execution_count": 5,
   "id": "8cbd3a44",
   "metadata": {},
   "outputs": [
    {
     "data": {
      "application/javascript": [
       "\n",
       "            setTimeout(function() {\n",
       "                var nbb_cell_id = 5;\n",
       "                var nbb_unformatted_code = \"plant = \\\"A\\\"\\nxls_files = {}\\n\\n\\nxls = pd.ExcelFile(\\n    f\\\"../../../../data/raw/204/EMBRAPII hubIC IACC CIMENTO_{plant}.xlsx\\\",\\n    engine=\\\"openpyxl\\\",\\n)\\nxls_files[plant] = xls\";\n",
       "                var nbb_formatted_code = \"plant = \\\"A\\\"\\nxls_files = {}\\n\\n\\nxls = pd.ExcelFile(\\n    f\\\"../../../../data/raw/204/EMBRAPII hubIC IACC CIMENTO_{plant}.xlsx\\\",\\n    engine=\\\"openpyxl\\\",\\n)\\nxls_files[plant] = xls\";\n",
       "                var nbb_cells = Jupyter.notebook.get_cells();\n",
       "                for (var i = 0; i < nbb_cells.length; ++i) {\n",
       "                    if (nbb_cells[i].input_prompt_number == nbb_cell_id) {\n",
       "                        if (nbb_cells[i].get_text() == nbb_unformatted_code) {\n",
       "                             nbb_cells[i].set_text(nbb_formatted_code);\n",
       "                        }\n",
       "                        break;\n",
       "                    }\n",
       "                }\n",
       "            }, 500);\n",
       "            "
      ],
      "text/plain": [
       "<IPython.core.display.Javascript object>"
      ]
     },
     "metadata": {},
     "output_type": "display_data"
    }
   ],
   "source": [
    "plant = \"A\"\n",
    "xls_files = {}\n",
    "\n",
    "\n",
    "xls = pd.ExcelFile(\n",
    "    f\"../../../../data/raw/204/EMBRAPII hubIC IACC CIMENTO_{plant}.xlsx\",\n",
    "    engine=\"openpyxl\",\n",
    ")\n",
    "xls_files[plant] = xls"
   ]
  },
  {
   "cell_type": "code",
   "execution_count": 6,
   "id": "0d7c6058",
   "metadata": {},
   "outputs": [
    {
     "name": "stdout",
     "output_type": "stream",
     "text": [
      "Plant:  A ['INSTRUÇÕES', '176', '102']\n"
     ]
    },
    {
     "data": {
      "application/javascript": [
       "\n",
       "            setTimeout(function() {\n",
       "                var nbb_cell_id = 6;\n",
       "                var nbb_unformatted_code = \"print(\\\"Plant: \\\", plant, xls.sheet_names)\";\n",
       "                var nbb_formatted_code = \"print(\\\"Plant: \\\", plant, xls.sheet_names)\";\n",
       "                var nbb_cells = Jupyter.notebook.get_cells();\n",
       "                for (var i = 0; i < nbb_cells.length; ++i) {\n",
       "                    if (nbb_cells[i].input_prompt_number == nbb_cell_id) {\n",
       "                        if (nbb_cells[i].get_text() == nbb_unformatted_code) {\n",
       "                             nbb_cells[i].set_text(nbb_formatted_code);\n",
       "                        }\n",
       "                        break;\n",
       "                    }\n",
       "                }\n",
       "            }, 500);\n",
       "            "
      ],
      "text/plain": [
       "<IPython.core.display.Javascript object>"
      ]
     },
     "metadata": {},
     "output_type": "display_data"
    }
   ],
   "source": [
    "print(\"Plant: \", plant, xls.sheet_names)"
   ]
  },
  {
   "cell_type": "code",
   "execution_count": 7,
   "id": "d0b9a1e5",
   "metadata": {},
   "outputs": [
    {
     "data": {
      "application/javascript": [
       "\n",
       "            setTimeout(function() {\n",
       "                var nbb_cell_id = 7;\n",
       "                var nbb_unformatted_code = \"cement_types_per_plant = []\\nCEMENT_TYPE_COLS = [\\\"Tipo de cimento\\\", \\\"Classe de resist\\u00eancia\\\"]\\ndataframes = []\\n\\nfor plant, xls in xls_files.items():\\n    for sheet_name in xls.sheet_names[1:]:\\n        df = pd.read_excel(xls_files[plant], sheet_name, header=[1, 2])\\n        if not df[CEMENT_TYPE_COLS].iloc[2:].isna().all().all():\\n            cement_type = (\\n                df[CEMENT_TYPE_COLS]\\n                .loc[2:]\\n                .astype(str)\\n                .sum(axis=1)\\n                .str.replace(\\\" \\\", \\\"\\\")\\n                .str.replace(\\\"-\\\", \\\"\\\")\\n                .str.replace(\\\"nan\\\", \\\"\\\")\\n                .unique()\\n            )\\n\\n        else:\\n            cement_type = (\\n                df[[(\\\"Obs.\\\", \\\"Unnamed: 8_level_1\\\")]]\\n                .loc[2:]\\n                .astype(str)\\n                .sum(axis=1)\\n                .str.replace(\\\" \\\", \\\"\\\")\\n                .str.replace(\\\"-\\\", \\\"\\\")\\n                .unique()\\n            )\\n\\n        cement_types_per_plant.append((plant, sheet_name, cement_type))\\n        dataframes.append(df)\";\n",
       "                var nbb_formatted_code = \"cement_types_per_plant = []\\nCEMENT_TYPE_COLS = [\\\"Tipo de cimento\\\", \\\"Classe de resist\\u00eancia\\\"]\\ndataframes = []\\n\\nfor plant, xls in xls_files.items():\\n    for sheet_name in xls.sheet_names[1:]:\\n        df = pd.read_excel(xls_files[plant], sheet_name, header=[1, 2])\\n        if not df[CEMENT_TYPE_COLS].iloc[2:].isna().all().all():\\n            cement_type = (\\n                df[CEMENT_TYPE_COLS]\\n                .loc[2:]\\n                .astype(str)\\n                .sum(axis=1)\\n                .str.replace(\\\" \\\", \\\"\\\")\\n                .str.replace(\\\"-\\\", \\\"\\\")\\n                .str.replace(\\\"nan\\\", \\\"\\\")\\n                .unique()\\n            )\\n\\n        else:\\n            cement_type = (\\n                df[[(\\\"Obs.\\\", \\\"Unnamed: 8_level_1\\\")]]\\n                .loc[2:]\\n                .astype(str)\\n                .sum(axis=1)\\n                .str.replace(\\\" \\\", \\\"\\\")\\n                .str.replace(\\\"-\\\", \\\"\\\")\\n                .unique()\\n            )\\n\\n        cement_types_per_plant.append((plant, sheet_name, cement_type))\\n        dataframes.append(df)\";\n",
       "                var nbb_cells = Jupyter.notebook.get_cells();\n",
       "                for (var i = 0; i < nbb_cells.length; ++i) {\n",
       "                    if (nbb_cells[i].input_prompt_number == nbb_cell_id) {\n",
       "                        if (nbb_cells[i].get_text() == nbb_unformatted_code) {\n",
       "                             nbb_cells[i].set_text(nbb_formatted_code);\n",
       "                        }\n",
       "                        break;\n",
       "                    }\n",
       "                }\n",
       "            }, 500);\n",
       "            "
      ],
      "text/plain": [
       "<IPython.core.display.Javascript object>"
      ]
     },
     "metadata": {},
     "output_type": "display_data"
    }
   ],
   "source": [
    "cement_types_per_plant = []\n",
    "CEMENT_TYPE_COLS = [\"Tipo de cimento\", \"Classe de resistência\"]\n",
    "dataframes = []\n",
    "\n",
    "for plant, xls in xls_files.items():\n",
    "    for sheet_name in xls.sheet_names[1:]:\n",
    "        df = pd.read_excel(xls_files[plant], sheet_name, header=[1, 2])\n",
    "        if not df[CEMENT_TYPE_COLS].iloc[2:].isna().all().all():\n",
    "            cement_type = (\n",
    "                df[CEMENT_TYPE_COLS]\n",
    "                .loc[2:]\n",
    "                .astype(str)\n",
    "                .sum(axis=1)\n",
    "                .str.replace(\" \", \"\")\n",
    "                .str.replace(\"-\", \"\")\n",
    "                .str.replace(\"nan\", \"\")\n",
    "                .unique()\n",
    "            )\n",
    "\n",
    "        else:\n",
    "            cement_type = (\n",
    "                df[[(\"Obs.\", \"Unnamed: 8_level_1\")]]\n",
    "                .loc[2:]\n",
    "                .astype(str)\n",
    "                .sum(axis=1)\n",
    "                .str.replace(\" \", \"\")\n",
    "                .str.replace(\"-\", \"\")\n",
    "                .unique()\n",
    "            )\n",
    "\n",
    "        cement_types_per_plant.append((plant, sheet_name, cement_type))\n",
    "        dataframes.append(df)"
   ]
  },
  {
   "cell_type": "code",
   "execution_count": 8,
   "id": "68ebeafe",
   "metadata": {},
   "outputs": [
    {
     "data": {
      "text/plain": [
       "[('A', '176', array(['', 'CPVARIRS'], dtype=object)),\n",
       " ('A', '102', array(['', 'CPIV32'], dtype=object))]"
      ]
     },
     "execution_count": 8,
     "metadata": {},
     "output_type": "execute_result"
    },
    {
     "data": {
      "application/javascript": [
       "\n",
       "            setTimeout(function() {\n",
       "                var nbb_cell_id = 8;\n",
       "                var nbb_unformatted_code = \"cement_types_per_plant\";\n",
       "                var nbb_formatted_code = \"cement_types_per_plant\";\n",
       "                var nbb_cells = Jupyter.notebook.get_cells();\n",
       "                for (var i = 0; i < nbb_cells.length; ++i) {\n",
       "                    if (nbb_cells[i].input_prompt_number == nbb_cell_id) {\n",
       "                        if (nbb_cells[i].get_text() == nbb_unformatted_code) {\n",
       "                             nbb_cells[i].set_text(nbb_formatted_code);\n",
       "                        }\n",
       "                        break;\n",
       "                    }\n",
       "                }\n",
       "            }, 500);\n",
       "            "
      ],
      "text/plain": [
       "<IPython.core.display.Javascript object>"
      ]
     },
     "metadata": {},
     "output_type": "display_data"
    }
   ],
   "source": [
    "cement_types_per_plant"
   ]
  },
  {
   "cell_type": "code",
   "execution_count": 9,
   "id": "88c941e7",
   "metadata": {},
   "outputs": [
    {
     "data": {
      "text/plain": [
       "Counter({'': 2})"
      ]
     },
     "execution_count": 9,
     "metadata": {},
     "output_type": "execute_result"
    },
    {
     "data": {
      "application/javascript": [
       "\n",
       "            setTimeout(function() {\n",
       "                var nbb_cell_id = 9;\n",
       "                var nbb_unformatted_code = \"cements = []\\nfor tup in cement_types_per_plant:\\n    cements.append(tup[2][0])\\nCounter(cements)\";\n",
       "                var nbb_formatted_code = \"cements = []\\nfor tup in cement_types_per_plant:\\n    cements.append(tup[2][0])\\nCounter(cements)\";\n",
       "                var nbb_cells = Jupyter.notebook.get_cells();\n",
       "                for (var i = 0; i < nbb_cells.length; ++i) {\n",
       "                    if (nbb_cells[i].input_prompt_number == nbb_cell_id) {\n",
       "                        if (nbb_cells[i].get_text() == nbb_unformatted_code) {\n",
       "                             nbb_cells[i].set_text(nbb_formatted_code);\n",
       "                        }\n",
       "                        break;\n",
       "                    }\n",
       "                }\n",
       "            }, 500);\n",
       "            "
      ],
      "text/plain": [
       "<IPython.core.display.Javascript object>"
      ]
     },
     "metadata": {},
     "output_type": "display_data"
    }
   ],
   "source": [
    "cements = []\n",
    "for tup in cement_types_per_plant:\n",
    "    cements.append(tup[2][0])\n",
    "Counter(cements)"
   ]
  },
  {
   "cell_type": "code",
   "execution_count": 10,
   "id": "af1bdac7",
   "metadata": {},
   "outputs": [
    {
     "data": {
      "application/javascript": [
       "\n",
       "            setTimeout(function() {\n",
       "                var nbb_cell_id = 10;\n",
       "                var nbb_unformatted_code = \"dataframes = []\\n\\nfor plant, xls in xls_files.items():\\n    for sheet_name in xls.sheet_names[1:]:\\n        df = pd.read_excel(xls_files[plant], sheet_name, header=[0, 1, 2])\\n        df[\\\"Unnamed: 0_level_0\\\", \\\"Unnamed: 0_level_1\\\", \\\"Unnamed: 0_level_2\\\"] = plant\\n        dataframes.append(df.drop([0, 1], axis=0).reset_index(drop=True).copy())\";\n",
       "                var nbb_formatted_code = \"dataframes = []\\n\\nfor plant, xls in xls_files.items():\\n    for sheet_name in xls.sheet_names[1:]:\\n        df = pd.read_excel(xls_files[plant], sheet_name, header=[0, 1, 2])\\n        df[\\\"Unnamed: 0_level_0\\\", \\\"Unnamed: 0_level_1\\\", \\\"Unnamed: 0_level_2\\\"] = plant\\n        dataframes.append(df.drop([0, 1], axis=0).reset_index(drop=True).copy())\";\n",
       "                var nbb_cells = Jupyter.notebook.get_cells();\n",
       "                for (var i = 0; i < nbb_cells.length; ++i) {\n",
       "                    if (nbb_cells[i].input_prompt_number == nbb_cell_id) {\n",
       "                        if (nbb_cells[i].get_text() == nbb_unformatted_code) {\n",
       "                             nbb_cells[i].set_text(nbb_formatted_code);\n",
       "                        }\n",
       "                        break;\n",
       "                    }\n",
       "                }\n",
       "            }, 500);\n",
       "            "
      ],
      "text/plain": [
       "<IPython.core.display.Javascript object>"
      ]
     },
     "metadata": {},
     "output_type": "display_data"
    }
   ],
   "source": [
    "dataframes = []\n",
    "\n",
    "for plant, xls in xls_files.items():\n",
    "    for sheet_name in xls.sheet_names[1:]:\n",
    "        df = pd.read_excel(xls_files[plant], sheet_name, header=[0, 1, 2])\n",
    "        df[\"Unnamed: 0_level_0\", \"Unnamed: 0_level_1\", \"Unnamed: 0_level_2\"] = plant\n",
    "        dataframes.append(df.drop([0, 1], axis=0).reset_index(drop=True).copy())"
   ]
  },
  {
   "cell_type": "code",
   "execution_count": 11,
   "id": "c4919ee2",
   "metadata": {},
   "outputs": [
    {
     "data": {
      "application/javascript": [
       "\n",
       "            setTimeout(function() {\n",
       "                var nbb_cell_id = 11;\n",
       "                var nbb_unformatted_code = \"df = pd.concat(dataframes, axis=0).reset_index(drop=True)\";\n",
       "                var nbb_formatted_code = \"df = pd.concat(dataframes, axis=0).reset_index(drop=True)\";\n",
       "                var nbb_cells = Jupyter.notebook.get_cells();\n",
       "                for (var i = 0; i < nbb_cells.length; ++i) {\n",
       "                    if (nbb_cells[i].input_prompt_number == nbb_cell_id) {\n",
       "                        if (nbb_cells[i].get_text() == nbb_unformatted_code) {\n",
       "                             nbb_cells[i].set_text(nbb_formatted_code);\n",
       "                        }\n",
       "                        break;\n",
       "                    }\n",
       "                }\n",
       "            }, 500);\n",
       "            "
      ],
      "text/plain": [
       "<IPython.core.display.Javascript object>"
      ]
     },
     "metadata": {},
     "output_type": "display_data"
    }
   ],
   "source": [
    "df = pd.concat(dataframes, axis=0).reset_index(drop=True)"
   ]
  },
  {
   "cell_type": "markdown",
   "id": "8dfc7bff",
   "metadata": {},
   "source": [
    "## Initial Preprocessing"
   ]
  },
  {
   "cell_type": "code",
   "execution_count": 12,
   "id": "f360ba12",
   "metadata": {},
   "outputs": [
    {
     "data": {
      "application/javascript": [
       "\n",
       "            setTimeout(function() {\n",
       "                var nbb_cell_id = 12;\n",
       "                var nbb_unformatted_code = \"df = pd.concat(\\n    [\\n        df[\\\"Unnamed: 0_level_0\\\", \\\"Unnamed: 0_level_1\\\", \\\"Unnamed: 0_level_2\\\"],\\n        df[\\\"Dados iniciais\\\"],\\n        df[\\\"Cimento\\\"][\\\"An\\u00e1lise qu\\u00edmica\\\"],\\n        df[\\\"Caracter\\u00edstias f\\u00edsicas do cimento\\\"],\\n        df[\\\"Propriedades do cimento\\\"],\\n    ],\\n    axis=1,\\n)\";\n",
       "                var nbb_formatted_code = \"df = pd.concat(\\n    [\\n        df[\\\"Unnamed: 0_level_0\\\", \\\"Unnamed: 0_level_1\\\", \\\"Unnamed: 0_level_2\\\"],\\n        df[\\\"Dados iniciais\\\"],\\n        df[\\\"Cimento\\\"][\\\"An\\u00e1lise qu\\u00edmica\\\"],\\n        df[\\\"Caracter\\u00edstias f\\u00edsicas do cimento\\\"],\\n        df[\\\"Propriedades do cimento\\\"],\\n    ],\\n    axis=1,\\n)\";\n",
       "                var nbb_cells = Jupyter.notebook.get_cells();\n",
       "                for (var i = 0; i < nbb_cells.length; ++i) {\n",
       "                    if (nbb_cells[i].input_prompt_number == nbb_cell_id) {\n",
       "                        if (nbb_cells[i].get_text() == nbb_unformatted_code) {\n",
       "                             nbb_cells[i].set_text(nbb_formatted_code);\n",
       "                        }\n",
       "                        break;\n",
       "                    }\n",
       "                }\n",
       "            }, 500);\n",
       "            "
      ],
      "text/plain": [
       "<IPython.core.display.Javascript object>"
      ]
     },
     "metadata": {},
     "output_type": "display_data"
    }
   ],
   "source": [
    "df = pd.concat(\n",
    "    [\n",
    "        df[\"Unnamed: 0_level_0\", \"Unnamed: 0_level_1\", \"Unnamed: 0_level_2\"],\n",
    "        df[\"Dados iniciais\"],\n",
    "        df[\"Cimento\"][\"Análise química\"],\n",
    "        df[\"Característias físicas do cimento\"],\n",
    "        df[\"Propriedades do cimento\"],\n",
    "    ],\n",
    "    axis=1,\n",
    ")"
   ]
  },
  {
   "cell_type": "markdown",
   "id": "e1b4b617",
   "metadata": {},
   "source": [
    "### 1. Dropping columns where either there is no data nor it contributes to the analysis\n",
    "### 2. Renaming columns to a short identifiable name"
   ]
  },
  {
   "cell_type": "code",
   "execution_count": 13,
   "id": "ecb5184c",
   "metadata": {},
   "outputs": [
    {
     "data": {
      "application/javascript": [
       "\n",
       "            setTimeout(function() {\n",
       "                var nbb_cell_id = 13;\n",
       "                var nbb_unformatted_code = \"COLUMNS_TO_DROP = [\\n    (\\\"Data\\\", \\\"Medida\\\"),\\n    (\\\"Hor\\u00e1rio\\\", \\\"Produ\\u00e7\\u00e3o\\\"),\\n    (\\\"Hor\\u00e1rio\\\", \\\"Medida\\\"),\\n    (\\\"Obs.\\\", \\\"Unnamed: 148_level_2\\\"),\\n    (\\\"Tipo de cimento\\\", \\\"Unnamed: 6_level_2\\\"),\\n    (\\\"Classe de resist\\u00eancia\\\", \\\"Unnamed: 7_level_2\\\"),\\n    (\\\"Obs.\\\", \\\"Unnamed: 8_level_2\\\"),\\n    \\\"Obs.\\\",\\n    (\\\"Obs.\\\", \\\"Unnamed: 148_level_2\\\"),\\n    (\\\"Unnamed: 141_level_1\\\", \\\"Obs.\\\"),\\n]\\n\\nCOLUMNS_TO_RENAME = {\\n    (\\\"Unnamed: 0_level_0\\\", \\\"Unnamed: 0_level_1\\\", \\\"Unnamed: 0_level_2\\\"): \\\"Plant\\\",\\n    (\\\"Cidade\\\", \\\"Unnamed: 1_level_2\\\"): \\\"City\\\",\\n    (\\\"Data\\\", \\\"Produ\\u00e7\\u00e3o\\\"): \\\"Date\\\",  # Arrumar!\\n    (\\\"Unnamed: 136_level_1\\\", \\\"Blaine\\\"): \\\"Blaine\\\",\\n    (\\\"Unnamed: 137_level_1\\\", \\\"#200\\\"): \\\"#200\\\",\\n    (\\\"Unnamed: 138_level_1\\\", \\\"#325\\\"): \\\"#325\\\",\\n    (\\\"Unnamed: 139_level_1\\\", \\\"#400\\\"): \\\"#400\\\",\\n    (\\\"Unnamed: 140_level_1\\\", \\\"Massa espec\\u00edfica\\\"): \\\"Specific Gravity\\\",\\n    (\\\"Tempo de pega\\\", \\\"Fim\\\"): \\\"Final setting time\\\",\\n    (\\\"Tempo de pega\\\", \\\"Inicio\\\"): \\\"Initial setting time\\\",\\n    (\\\"Resist\\u00eancia \\u00e0 compress\\u00e3o\\\", \\\"1 d\\\"): \\\"CS1\\\",\\n    (\\\"Resist\\u00eancia \\u00e0 compress\\u00e3o\\\", \\\"3 d\\\"): \\\"CS3\\\",\\n    (\\\"Resist\\u00eancia \\u00e0 compress\\u00e3o\\\", \\\"7 d\\\"): \\\"CS7\\\",\\n    (\\\"Resist\\u00eancia \\u00e0 compress\\u00e3o\\\", \\\"28 d\\\"): \\\"CS28\\\",\\n    \\\"Perda ao fogo\\\": \\\"Loss on Ignition\\\",\\n    \\\"Res\\u00edduo insol\\u00favel\\\": \\\"Insoluble Residue\\\",\\n}\";\n",
       "                var nbb_formatted_code = \"COLUMNS_TO_DROP = [\\n    (\\\"Data\\\", \\\"Medida\\\"),\\n    (\\\"Hor\\u00e1rio\\\", \\\"Produ\\u00e7\\u00e3o\\\"),\\n    (\\\"Hor\\u00e1rio\\\", \\\"Medida\\\"),\\n    (\\\"Obs.\\\", \\\"Unnamed: 148_level_2\\\"),\\n    (\\\"Tipo de cimento\\\", \\\"Unnamed: 6_level_2\\\"),\\n    (\\\"Classe de resist\\u00eancia\\\", \\\"Unnamed: 7_level_2\\\"),\\n    (\\\"Obs.\\\", \\\"Unnamed: 8_level_2\\\"),\\n    \\\"Obs.\\\",\\n    (\\\"Obs.\\\", \\\"Unnamed: 148_level_2\\\"),\\n    (\\\"Unnamed: 141_level_1\\\", \\\"Obs.\\\"),\\n]\\n\\nCOLUMNS_TO_RENAME = {\\n    (\\\"Unnamed: 0_level_0\\\", \\\"Unnamed: 0_level_1\\\", \\\"Unnamed: 0_level_2\\\"): \\\"Plant\\\",\\n    (\\\"Cidade\\\", \\\"Unnamed: 1_level_2\\\"): \\\"City\\\",\\n    (\\\"Data\\\", \\\"Produ\\u00e7\\u00e3o\\\"): \\\"Date\\\",  # Arrumar!\\n    (\\\"Unnamed: 136_level_1\\\", \\\"Blaine\\\"): \\\"Blaine\\\",\\n    (\\\"Unnamed: 137_level_1\\\", \\\"#200\\\"): \\\"#200\\\",\\n    (\\\"Unnamed: 138_level_1\\\", \\\"#325\\\"): \\\"#325\\\",\\n    (\\\"Unnamed: 139_level_1\\\", \\\"#400\\\"): \\\"#400\\\",\\n    (\\\"Unnamed: 140_level_1\\\", \\\"Massa espec\\u00edfica\\\"): \\\"Specific Gravity\\\",\\n    (\\\"Tempo de pega\\\", \\\"Fim\\\"): \\\"Final setting time\\\",\\n    (\\\"Tempo de pega\\\", \\\"Inicio\\\"): \\\"Initial setting time\\\",\\n    (\\\"Resist\\u00eancia \\u00e0 compress\\u00e3o\\\", \\\"1 d\\\"): \\\"CS1\\\",\\n    (\\\"Resist\\u00eancia \\u00e0 compress\\u00e3o\\\", \\\"3 d\\\"): \\\"CS3\\\",\\n    (\\\"Resist\\u00eancia \\u00e0 compress\\u00e3o\\\", \\\"7 d\\\"): \\\"CS7\\\",\\n    (\\\"Resist\\u00eancia \\u00e0 compress\\u00e3o\\\", \\\"28 d\\\"): \\\"CS28\\\",\\n    \\\"Perda ao fogo\\\": \\\"Loss on Ignition\\\",\\n    \\\"Res\\u00edduo insol\\u00favel\\\": \\\"Insoluble Residue\\\",\\n}\";\n",
       "                var nbb_cells = Jupyter.notebook.get_cells();\n",
       "                for (var i = 0; i < nbb_cells.length; ++i) {\n",
       "                    if (nbb_cells[i].input_prompt_number == nbb_cell_id) {\n",
       "                        if (nbb_cells[i].get_text() == nbb_unformatted_code) {\n",
       "                             nbb_cells[i].set_text(nbb_formatted_code);\n",
       "                        }\n",
       "                        break;\n",
       "                    }\n",
       "                }\n",
       "            }, 500);\n",
       "            "
      ],
      "text/plain": [
       "<IPython.core.display.Javascript object>"
      ]
     },
     "metadata": {},
     "output_type": "display_data"
    }
   ],
   "source": [
    "COLUMNS_TO_DROP = [\n",
    "    (\"Data\", \"Medida\"),\n",
    "    (\"Horário\", \"Produção\"),\n",
    "    (\"Horário\", \"Medida\"),\n",
    "    (\"Obs.\", \"Unnamed: 148_level_2\"),\n",
    "    (\"Tipo de cimento\", \"Unnamed: 6_level_2\"),\n",
    "    (\"Classe de resistência\", \"Unnamed: 7_level_2\"),\n",
    "    (\"Obs.\", \"Unnamed: 8_level_2\"),\n",
    "    \"Obs.\",\n",
    "    (\"Obs.\", \"Unnamed: 148_level_2\"),\n",
    "    (\"Unnamed: 141_level_1\", \"Obs.\"),\n",
    "]\n",
    "\n",
    "COLUMNS_TO_RENAME = {\n",
    "    (\"Unnamed: 0_level_0\", \"Unnamed: 0_level_1\", \"Unnamed: 0_level_2\"): \"Plant\",\n",
    "    (\"Cidade\", \"Unnamed: 1_level_2\"): \"City\",\n",
    "    (\"Data\", \"Produção\"): \"Date\",  # Arrumar!\n",
    "    (\"Unnamed: 136_level_1\", \"Blaine\"): \"Blaine\",\n",
    "    (\"Unnamed: 137_level_1\", \"#200\"): \"#200\",\n",
    "    (\"Unnamed: 138_level_1\", \"#325\"): \"#325\",\n",
    "    (\"Unnamed: 139_level_1\", \"#400\"): \"#400\",\n",
    "    (\"Unnamed: 140_level_1\", \"Massa específica\"): \"Specific Gravity\",\n",
    "    (\"Tempo de pega\", \"Fim\"): \"Final setting time\",\n",
    "    (\"Tempo de pega\", \"Inicio\"): \"Initial setting time\",\n",
    "    (\"Resistência à compressão\", \"1 d\"): \"CS1\",\n",
    "    (\"Resistência à compressão\", \"3 d\"): \"CS3\",\n",
    "    (\"Resistência à compressão\", \"7 d\"): \"CS7\",\n",
    "    (\"Resistência à compressão\", \"28 d\"): \"CS28\",\n",
    "    \"Perda ao fogo\": \"Loss on Ignition\",\n",
    "    \"Resíduo insolúvel\": \"Insoluble Residue\",\n",
    "}"
   ]
  },
  {
   "cell_type": "markdown",
   "id": "9bdcff5b",
   "metadata": {},
   "source": [
    "### Defining a single variable to identify Cement Type"
   ]
  },
  {
   "cell_type": "code",
   "execution_count": 14,
   "id": "92ed1dd2",
   "metadata": {},
   "outputs": [
    {
     "data": {
      "application/javascript": [
       "\n",
       "            setTimeout(function() {\n",
       "                var nbb_cell_id = 14;\n",
       "                var nbb_unformatted_code = \"# Single variable for the Cement Type\\ndf[\\\"Cement_Type\\\"] = (\\n    df[\\n        [\\n            (\\\"Tipo de cimento\\\", \\\"Unnamed: 6_level_2\\\"),\\n            (\\\"Classe de resist\\u00eancia\\\", \\\"Unnamed: 7_level_2\\\"),\\n            (\\\"Obs.\\\", \\\"Unnamed: 8_level_2\\\"),\\n        ]\\n    ]\\n    .fillna(\\\"\\\")\\n    .astype(str)\\n    .sum(axis=1)\\n)\\n\\n# # Preprocessing\\ndf[\\\"Cement_Type\\\"] = df[\\\"Cement_Type\\\"].replace(\\\"Fibro\\\", \\\"Fibrocimento\\\")\";\n",
       "                var nbb_formatted_code = \"# Single variable for the Cement Type\\ndf[\\\"Cement_Type\\\"] = (\\n    df[\\n        [\\n            (\\\"Tipo de cimento\\\", \\\"Unnamed: 6_level_2\\\"),\\n            (\\\"Classe de resist\\u00eancia\\\", \\\"Unnamed: 7_level_2\\\"),\\n            (\\\"Obs.\\\", \\\"Unnamed: 8_level_2\\\"),\\n        ]\\n    ]\\n    .fillna(\\\"\\\")\\n    .astype(str)\\n    .sum(axis=1)\\n)\\n\\n# # Preprocessing\\ndf[\\\"Cement_Type\\\"] = df[\\\"Cement_Type\\\"].replace(\\\"Fibro\\\", \\\"Fibrocimento\\\")\";\n",
       "                var nbb_cells = Jupyter.notebook.get_cells();\n",
       "                for (var i = 0; i < nbb_cells.length; ++i) {\n",
       "                    if (nbb_cells[i].input_prompt_number == nbb_cell_id) {\n",
       "                        if (nbb_cells[i].get_text() == nbb_unformatted_code) {\n",
       "                             nbb_cells[i].set_text(nbb_formatted_code);\n",
       "                        }\n",
       "                        break;\n",
       "                    }\n",
       "                }\n",
       "            }, 500);\n",
       "            "
      ],
      "text/plain": [
       "<IPython.core.display.Javascript object>"
      ]
     },
     "metadata": {},
     "output_type": "display_data"
    }
   ],
   "source": [
    "# Single variable for the Cement Type\n",
    "df[\"Cement_Type\"] = (\n",
    "    df[\n",
    "        [\n",
    "            (\"Tipo de cimento\", \"Unnamed: 6_level_2\"),\n",
    "            (\"Classe de resistência\", \"Unnamed: 7_level_2\"),\n",
    "            (\"Obs.\", \"Unnamed: 8_level_2\"),\n",
    "        ]\n",
    "    ]\n",
    "    .fillna(\"\")\n",
    "    .astype(str)\n",
    "    .sum(axis=1)\n",
    ")\n",
    "\n",
    "# # Preprocessing\n",
    "df[\"Cement_Type\"] = df[\"Cement_Type\"].replace(\"Fibro\", \"Fibrocimento\")"
   ]
  },
  {
   "cell_type": "markdown",
   "id": "2a390ebe",
   "metadata": {},
   "source": [
    "### Dropping and rename the columns defined above"
   ]
  },
  {
   "cell_type": "code",
   "execution_count": 15,
   "id": "c042ab2c",
   "metadata": {},
   "outputs": [
    {
     "data": {
      "application/javascript": [
       "\n",
       "            setTimeout(function() {\n",
       "                var nbb_cell_id = 15;\n",
       "                var nbb_unformatted_code = \"df = df.drop(COLUMNS_TO_DROP, axis=1).rename(COLUMNS_TO_RENAME, axis=1).copy()\\ndf = df.drop([0]).reset_index(drop=True)\\ndf = df.infer_objects()\";\n",
       "                var nbb_formatted_code = \"df = df.drop(COLUMNS_TO_DROP, axis=1).rename(COLUMNS_TO_RENAME, axis=1).copy()\\ndf = df.drop([0]).reset_index(drop=True)\\ndf = df.infer_objects()\";\n",
       "                var nbb_cells = Jupyter.notebook.get_cells();\n",
       "                for (var i = 0; i < nbb_cells.length; ++i) {\n",
       "                    if (nbb_cells[i].input_prompt_number == nbb_cell_id) {\n",
       "                        if (nbb_cells[i].get_text() == nbb_unformatted_code) {\n",
       "                             nbb_cells[i].set_text(nbb_formatted_code);\n",
       "                        }\n",
       "                        break;\n",
       "                    }\n",
       "                }\n",
       "            }, 500);\n",
       "            "
      ],
      "text/plain": [
       "<IPython.core.display.Javascript object>"
      ]
     },
     "metadata": {},
     "output_type": "display_data"
    }
   ],
   "source": [
    "df = df.drop(COLUMNS_TO_DROP, axis=1).rename(COLUMNS_TO_RENAME, axis=1).copy()\n",
    "df = df.drop([0]).reset_index(drop=True)\n",
    "df = df.infer_objects()"
   ]
  },
  {
   "cell_type": "markdown",
   "id": "6a4c9913",
   "metadata": {},
   "source": [
    "### Cleaning and converting numeric columns to float"
   ]
  },
  {
   "cell_type": "code",
   "execution_count": 16,
   "id": "20719532",
   "metadata": {
    "scrolled": false
   },
   "outputs": [
    {
     "data": {
      "application/javascript": [
       "\n",
       "            setTimeout(function() {\n",
       "                var nbb_cell_id = 16;\n",
       "                var nbb_unformatted_code = \"NUMERIC_COLUMNS = [\\n    \\\"CaO\\\",\\n    \\\"MgO\\\",\\n    \\\"Na2O\\\",\\n    \\\"Al2O3\\\",\\n    \\\"SiO2\\\",\\n    \\\"SO3\\\",\\n    \\\"K2O\\\",\\n    \\\"TiO2\\\",\\n    \\\"Fe2O3\\\",\\n    \\\"Loss on Ignition\\\",\\n    \\\"Insoluble Residue\\\",\\n    \\\"Blaine\\\",\\n    \\\"#200\\\",\\n    \\\"#325\\\",\\n    \\\"#400\\\",\\n    \\\"Specific Gravity\\\",\\n    \\\"Final setting time\\\",\\n    \\\"Initial setting time\\\",\\n    \\\"CS1\\\",\\n    \\\"CS3\\\",\\n    \\\"CS7\\\",\\n    \\\"CS28\\\",\\n]\\n\\ndf = preprocess_numeric_cols(df, NUMERIC_COLUMNS)\\n\\n# Preprocessing to fix numeric columns\\ndf[NUMERIC_COLUMNS] = df[NUMERIC_COLUMNS].map(convert_to_float)\\n\\n# Converting Date to pandas datetime\\ndf[\\\"Date\\\"] = pd.to_datetime(df[\\\"Date\\\"])\\n\\n# Drop rows completely missing\\nindex_to_keep = (\\n    df.drop([\\\"Plant\\\", \\\"Date\\\", \\\"Cement_Type\\\"], axis=1).dropna(axis=0, how=\\\"all\\\").index\\n)\\ndf = df.iloc[index_to_keep].reset_index(drop=True)\\n\\ndf = df.infer_objects()\";\n",
       "                var nbb_formatted_code = \"NUMERIC_COLUMNS = [\\n    \\\"CaO\\\",\\n    \\\"MgO\\\",\\n    \\\"Na2O\\\",\\n    \\\"Al2O3\\\",\\n    \\\"SiO2\\\",\\n    \\\"SO3\\\",\\n    \\\"K2O\\\",\\n    \\\"TiO2\\\",\\n    \\\"Fe2O3\\\",\\n    \\\"Loss on Ignition\\\",\\n    \\\"Insoluble Residue\\\",\\n    \\\"Blaine\\\",\\n    \\\"#200\\\",\\n    \\\"#325\\\",\\n    \\\"#400\\\",\\n    \\\"Specific Gravity\\\",\\n    \\\"Final setting time\\\",\\n    \\\"Initial setting time\\\",\\n    \\\"CS1\\\",\\n    \\\"CS3\\\",\\n    \\\"CS7\\\",\\n    \\\"CS28\\\",\\n]\\n\\ndf = preprocess_numeric_cols(df, NUMERIC_COLUMNS)\\n\\n# Preprocessing to fix numeric columns\\ndf[NUMERIC_COLUMNS] = df[NUMERIC_COLUMNS].map(convert_to_float)\\n\\n# Converting Date to pandas datetime\\ndf[\\\"Date\\\"] = pd.to_datetime(df[\\\"Date\\\"])\\n\\n# Drop rows completely missing\\nindex_to_keep = (\\n    df.drop([\\\"Plant\\\", \\\"Date\\\", \\\"Cement_Type\\\"], axis=1).dropna(axis=0, how=\\\"all\\\").index\\n)\\ndf = df.iloc[index_to_keep].reset_index(drop=True)\\n\\ndf = df.infer_objects()\";\n",
       "                var nbb_cells = Jupyter.notebook.get_cells();\n",
       "                for (var i = 0; i < nbb_cells.length; ++i) {\n",
       "                    if (nbb_cells[i].input_prompt_number == nbb_cell_id) {\n",
       "                        if (nbb_cells[i].get_text() == nbb_unformatted_code) {\n",
       "                             nbb_cells[i].set_text(nbb_formatted_code);\n",
       "                        }\n",
       "                        break;\n",
       "                    }\n",
       "                }\n",
       "            }, 500);\n",
       "            "
      ],
      "text/plain": [
       "<IPython.core.display.Javascript object>"
      ]
     },
     "metadata": {},
     "output_type": "display_data"
    }
   ],
   "source": [
    "NUMERIC_COLUMNS = [\n",
    "    \"CaO\",\n",
    "    \"MgO\",\n",
    "    \"Na2O\",\n",
    "    \"Al2O3\",\n",
    "    \"SiO2\",\n",
    "    \"SO3\",\n",
    "    \"K2O\",\n",
    "    \"TiO2\",\n",
    "    \"Fe2O3\",\n",
    "    \"Loss on Ignition\",\n",
    "    \"Insoluble Residue\",\n",
    "    \"Blaine\",\n",
    "    \"#200\",\n",
    "    \"#325\",\n",
    "    \"#400\",\n",
    "    \"Specific Gravity\",\n",
    "    \"Final setting time\",\n",
    "    \"Initial setting time\",\n",
    "    \"CS1\",\n",
    "    \"CS3\",\n",
    "    \"CS7\",\n",
    "    \"CS28\",\n",
    "]\n",
    "\n",
    "df = preprocess_numeric_cols(df, NUMERIC_COLUMNS)\n",
    "\n",
    "# Preprocessing to fix numeric columns\n",
    "df[NUMERIC_COLUMNS] = df[NUMERIC_COLUMNS].map(convert_to_float)\n",
    "\n",
    "# Converting Date to pandas datetime\n",
    "df[\"Date\"] = pd.to_datetime(df[\"Date\"])\n",
    "\n",
    "# Drop rows completely missing\n",
    "index_to_keep = (\n",
    "    df.drop([\"Plant\", \"Date\", \"Cement_Type\"], axis=1).dropna(axis=0, how=\"all\").index\n",
    ")\n",
    "df = df.iloc[index_to_keep].reset_index(drop=True)\n",
    "\n",
    "df = df.infer_objects()"
   ]
  },
  {
   "cell_type": "markdown",
   "id": "0e4773d2",
   "metadata": {},
   "source": [
    "## Dropping missing features"
   ]
  },
  {
   "cell_type": "markdown",
   "id": "388dd4e1",
   "metadata": {},
   "source": [
    "### Drop rows completely missing"
   ]
  },
  {
   "cell_type": "code",
   "execution_count": 17,
   "id": "14fd3e2b",
   "metadata": {},
   "outputs": [
    {
     "data": {
      "application/javascript": [
       "\n",
       "            setTimeout(function() {\n",
       "                var nbb_cell_id = 17;\n",
       "                var nbb_unformatted_code = \"index_to_keep = (\\n    df.drop([\\\"Plant\\\", \\\"City\\\", \\\"Date\\\", \\\"Cement_Type\\\"], axis=1)\\n    .dropna(axis=0, how=\\\"all\\\")\\n    .index\\n)\\ndf = df.iloc[index_to_keep].reset_index(drop=True)\";\n",
       "                var nbb_formatted_code = \"index_to_keep = (\\n    df.drop([\\\"Plant\\\", \\\"City\\\", \\\"Date\\\", \\\"Cement_Type\\\"], axis=1)\\n    .dropna(axis=0, how=\\\"all\\\")\\n    .index\\n)\\ndf = df.iloc[index_to_keep].reset_index(drop=True)\";\n",
       "                var nbb_cells = Jupyter.notebook.get_cells();\n",
       "                for (var i = 0; i < nbb_cells.length; ++i) {\n",
       "                    if (nbb_cells[i].input_prompt_number == nbb_cell_id) {\n",
       "                        if (nbb_cells[i].get_text() == nbb_unformatted_code) {\n",
       "                             nbb_cells[i].set_text(nbb_formatted_code);\n",
       "                        }\n",
       "                        break;\n",
       "                    }\n",
       "                }\n",
       "            }, 500);\n",
       "            "
      ],
      "text/plain": [
       "<IPython.core.display.Javascript object>"
      ]
     },
     "metadata": {},
     "output_type": "display_data"
    }
   ],
   "source": [
    "index_to_keep = (\n",
    "    df.drop([\"Plant\", \"City\", \"Date\", \"Cement_Type\"], axis=1)\n",
    "    .dropna(axis=0, how=\"all\")\n",
    "    .index\n",
    ")\n",
    "df = df.iloc[index_to_keep].reset_index(drop=True)"
   ]
  },
  {
   "cell_type": "markdown",
   "id": "5d4e47da",
   "metadata": {},
   "source": [
    "### Removing features\n",
    " that will be fitted on this data.\n",
    "\n",
    "1. Removing features with features having ~50% or more of missing values\n",
    "2. Removing features with zero variance\n",
    "3. Removing features with more than 70% of zeros"
   ]
  },
  {
   "cell_type": "markdown",
   "id": "7e8fd8fa",
   "metadata": {},
   "source": [
    "<h3>Percentage of missing values:</h3>\n",
    "    \n",
    "    \n",
    "<table>\n",
    "    <th>Plant A - Full Dataset:</th>\n",
    "    <th></th>\n",
    "    <tr>\n",
    "        <td>Specific Gravity</td>\n",
    "        <td>100.00</td>\n",
    "    </tr>\n",
    "    <tr>\n",
    "        <td>TiO2</td>\n",
    "        <td>100.00</td>\n",
    "    </tr>\n",
    "    <tr>\n",
    "        <td>#400</td>\n",
    "        <td>100.00</td>\n",
    "    </tr>  \n",
    "    <tr>\n",
    "        <td>CS1</td>\n",
    "        <td>45.38</td>\n",
    "    </tr>      \n",
    "</table>"
   ]
  },
  {
   "cell_type": "code",
   "execution_count": 18,
   "id": "b781ce23",
   "metadata": {},
   "outputs": [
    {
     "data": {
      "application/javascript": [
       "\n",
       "            setTimeout(function() {\n",
       "                var nbb_cell_id = 18;\n",
       "                var nbb_unformatted_code = \"FEATRUES_TO_DROP = [\\\"Specific Gravity\\\", \\\"TiO2\\\", \\\"#400\\\", \\\"CS1\\\"]\\ndf = df.drop(labels=FEATRUES_TO_DROP, axis=1)\";\n",
       "                var nbb_formatted_code = \"FEATRUES_TO_DROP = [\\\"Specific Gravity\\\", \\\"TiO2\\\", \\\"#400\\\", \\\"CS1\\\"]\\ndf = df.drop(labels=FEATRUES_TO_DROP, axis=1)\";\n",
       "                var nbb_cells = Jupyter.notebook.get_cells();\n",
       "                for (var i = 0; i < nbb_cells.length; ++i) {\n",
       "                    if (nbb_cells[i].input_prompt_number == nbb_cell_id) {\n",
       "                        if (nbb_cells[i].get_text() == nbb_unformatted_code) {\n",
       "                             nbb_cells[i].set_text(nbb_formatted_code);\n",
       "                        }\n",
       "                        break;\n",
       "                    }\n",
       "                }\n",
       "            }, 500);\n",
       "            "
      ],
      "text/plain": [
       "<IPython.core.display.Javascript object>"
      ]
     },
     "metadata": {},
     "output_type": "display_data"
    }
   ],
   "source": [
    "FEATRUES_TO_DROP = [\"Specific Gravity\", \"TiO2\", \"#400\", \"CS1\"]\n",
    "df = df.drop(labels=FEATRUES_TO_DROP, axis=1)"
   ]
  },
  {
   "cell_type": "markdown",
   "id": "1b0087d0",
   "metadata": {},
   "source": [
    "### Dropping variable with City and Plant identification"
   ]
  },
  {
   "cell_type": "code",
   "execution_count": 19,
   "id": "2dd18010",
   "metadata": {},
   "outputs": [
    {
     "data": {
      "application/javascript": [
       "\n",
       "            setTimeout(function() {\n",
       "                var nbb_cell_id = 19;\n",
       "                var nbb_unformatted_code = \"FEATRUES_TO_DROP = [\\\"City\\\", \\\"Plant\\\"]\\ndf = df.drop(labels=FEATRUES_TO_DROP, axis=1)\";\n",
       "                var nbb_formatted_code = \"FEATRUES_TO_DROP = [\\\"City\\\", \\\"Plant\\\"]\\ndf = df.drop(labels=FEATRUES_TO_DROP, axis=1)\";\n",
       "                var nbb_cells = Jupyter.notebook.get_cells();\n",
       "                for (var i = 0; i < nbb_cells.length; ++i) {\n",
       "                    if (nbb_cells[i].input_prompt_number == nbb_cell_id) {\n",
       "                        if (nbb_cells[i].get_text() == nbb_unformatted_code) {\n",
       "                             nbb_cells[i].set_text(nbb_formatted_code);\n",
       "                        }\n",
       "                        break;\n",
       "                    }\n",
       "                }\n",
       "            }, 500);\n",
       "            "
      ],
      "text/plain": [
       "<IPython.core.display.Javascript object>"
      ]
     },
     "metadata": {},
     "output_type": "display_data"
    }
   ],
   "source": [
    "FEATRUES_TO_DROP = [\"City\", \"Plant\"]\n",
    "df = df.drop(labels=FEATRUES_TO_DROP, axis=1)"
   ]
  },
  {
   "cell_type": "markdown",
   "id": "77150ffd",
   "metadata": {},
   "source": [
    "### Dropping rows where the target variable is null"
   ]
  },
  {
   "cell_type": "code",
   "execution_count": 20,
   "id": "6ac90829",
   "metadata": {},
   "outputs": [
    {
     "data": {
      "application/javascript": [
       "\n",
       "            setTimeout(function() {\n",
       "                var nbb_cell_id = 20;\n",
       "                var nbb_unformatted_code = \"df = df[df[\\\"CS28\\\"].notna()]\";\n",
       "                var nbb_formatted_code = \"df = df[df[\\\"CS28\\\"].notna()]\";\n",
       "                var nbb_cells = Jupyter.notebook.get_cells();\n",
       "                for (var i = 0; i < nbb_cells.length; ++i) {\n",
       "                    if (nbb_cells[i].input_prompt_number == nbb_cell_id) {\n",
       "                        if (nbb_cells[i].get_text() == nbb_unformatted_code) {\n",
       "                             nbb_cells[i].set_text(nbb_formatted_code);\n",
       "                        }\n",
       "                        break;\n",
       "                    }\n",
       "                }\n",
       "            }, 500);\n",
       "            "
      ],
      "text/plain": [
       "<IPython.core.display.Javascript object>"
      ]
     },
     "metadata": {},
     "output_type": "display_data"
    }
   ],
   "source": [
    "df = df[df[\"CS28\"].notna()]"
   ]
  },
  {
   "cell_type": "markdown",
   "id": "0a8e3c5b",
   "metadata": {},
   "source": [
    "### Dropping rows where the target variable is zero"
   ]
  },
  {
   "cell_type": "code",
   "execution_count": 21,
   "id": "bef56e14",
   "metadata": {},
   "outputs": [
    {
     "data": {
      "application/javascript": [
       "\n",
       "            setTimeout(function() {\n",
       "                var nbb_cell_id = 21;\n",
       "                var nbb_unformatted_code = \"df = df[~df[\\\"CS28\\\"].eq(0)]\";\n",
       "                var nbb_formatted_code = \"df = df[~df[\\\"CS28\\\"].eq(0)]\";\n",
       "                var nbb_cells = Jupyter.notebook.get_cells();\n",
       "                for (var i = 0; i < nbb_cells.length; ++i) {\n",
       "                    if (nbb_cells[i].input_prompt_number == nbb_cell_id) {\n",
       "                        if (nbb_cells[i].get_text() == nbb_unformatted_code) {\n",
       "                             nbb_cells[i].set_text(nbb_formatted_code);\n",
       "                        }\n",
       "                        break;\n",
       "                    }\n",
       "                }\n",
       "            }, 500);\n",
       "            "
      ],
      "text/plain": [
       "<IPython.core.display.Javascript object>"
      ]
     },
     "metadata": {},
     "output_type": "display_data"
    }
   ],
   "source": [
    "df = df[~df[\"CS28\"].eq(0)]"
   ]
  },
  {
   "cell_type": "markdown",
   "id": "b1bb693c",
   "metadata": {},
   "source": [
    "### Dropping rows where any other variable has a zero value"
   ]
  },
  {
   "cell_type": "code",
   "execution_count": 22,
   "id": "0f69dd4f",
   "metadata": {},
   "outputs": [
    {
     "data": {
      "application/javascript": [
       "\n",
       "            setTimeout(function() {\n",
       "                var nbb_cell_id = 22;\n",
       "                var nbb_unformatted_code = \"for col in df.columns:\\n    df = df[~df[col].eq(0)]\";\n",
       "                var nbb_formatted_code = \"for col in df.columns:\\n    df = df[~df[col].eq(0)]\";\n",
       "                var nbb_cells = Jupyter.notebook.get_cells();\n",
       "                for (var i = 0; i < nbb_cells.length; ++i) {\n",
       "                    if (nbb_cells[i].input_prompt_number == nbb_cell_id) {\n",
       "                        if (nbb_cells[i].get_text() == nbb_unformatted_code) {\n",
       "                             nbb_cells[i].set_text(nbb_formatted_code);\n",
       "                        }\n",
       "                        break;\n",
       "                    }\n",
       "                }\n",
       "            }, 500);\n",
       "            "
      ],
      "text/plain": [
       "<IPython.core.display.Javascript object>"
      ]
     },
     "metadata": {},
     "output_type": "display_data"
    }
   ],
   "source": [
    "for col in df.columns:\n",
    "    df = df[~df[col].eq(0)]"
   ]
  },
  {
   "cell_type": "code",
   "execution_count": 23,
   "id": "c7b91709",
   "metadata": {},
   "outputs": [
    {
     "data": {
      "text/html": [
       "<style type=\"text/css\">\n",
       "#T_8e347_row0_col0 {\n",
       "  background-color: #67000d;\n",
       "  color: #f1f1f1;\n",
       "}\n",
       "#T_8e347_row1_col0 {\n",
       "  background-color: #8c0912;\n",
       "  color: #f1f1f1;\n",
       "}\n",
       "#T_8e347_row2_col0, #T_8e347_row3_col0, #T_8e347_row4_col0, #T_8e347_row5_col0, #T_8e347_row6_col0, #T_8e347_row7_col0 {\n",
       "  background-color: #ad1117;\n",
       "  color: #f1f1f1;\n",
       "}\n",
       "#T_8e347_row8_col0 {\n",
       "  background-color: #f03f2e;\n",
       "  color: #f1f1f1;\n",
       "}\n",
       "#T_8e347_row9_col0 {\n",
       "  background-color: #fed8c7;\n",
       "  color: #000000;\n",
       "}\n",
       "#T_8e347_row10_col0, #T_8e347_row11_col0 {\n",
       "  background-color: #fee8de;\n",
       "  color: #000000;\n",
       "}\n",
       "#T_8e347_row12_col0, #T_8e347_row13_col0, #T_8e347_row14_col0, #T_8e347_row15_col0, #T_8e347_row16_col0, #T_8e347_row17_col0, #T_8e347_row18_col0, #T_8e347_row19_col0 {\n",
       "  background-color: #fff5f0;\n",
       "  color: #000000;\n",
       "}\n",
       "</style>\n",
       "<table id=\"T_8e347\">\n",
       "  <thead>\n",
       "    <tr>\n",
       "      <th class=\"blank level0\" >&nbsp;</th>\n",
       "      <th id=\"T_8e347_level0_col0\" class=\"col_heading level0 col0\" >Missing (%)</th>\n",
       "    </tr>\n",
       "  </thead>\n",
       "  <tbody>\n",
       "    <tr>\n",
       "      <th id=\"T_8e347_level0_row0\" class=\"row_heading level0 row0\" >CaO</th>\n",
       "      <td id=\"T_8e347_row0_col0\" class=\"data row0 col0\" >0.899032</td>\n",
       "    </tr>\n",
       "    <tr>\n",
       "      <th id=\"T_8e347_level0_row1\" class=\"row_heading level0 row1\" >CS7</th>\n",
       "      <td id=\"T_8e347_row1_col0\" class=\"data row1 col0\" >0.829876</td>\n",
       "    </tr>\n",
       "    <tr>\n",
       "      <th id=\"T_8e347_level0_row2\" class=\"row_heading level0 row2\" >MgO</th>\n",
       "      <td id=\"T_8e347_row2_col0\" class=\"data row2 col0\" >0.760719</td>\n",
       "    </tr>\n",
       "    <tr>\n",
       "      <th id=\"T_8e347_level0_row3\" class=\"row_heading level0 row3\" >Na2O</th>\n",
       "      <td id=\"T_8e347_row3_col0\" class=\"data row3 col0\" >0.760719</td>\n",
       "    </tr>\n",
       "    <tr>\n",
       "      <th id=\"T_8e347_level0_row4\" class=\"row_heading level0 row4\" >Al2O3</th>\n",
       "      <td id=\"T_8e347_row4_col0\" class=\"data row4 col0\" >0.760719</td>\n",
       "    </tr>\n",
       "    <tr>\n",
       "      <th id=\"T_8e347_level0_row5\" class=\"row_heading level0 row5\" >SiO2</th>\n",
       "      <td id=\"T_8e347_row5_col0\" class=\"data row5 col0\" >0.760719</td>\n",
       "    </tr>\n",
       "    <tr>\n",
       "      <th id=\"T_8e347_level0_row6\" class=\"row_heading level0 row6\" >K2O</th>\n",
       "      <td id=\"T_8e347_row6_col0\" class=\"data row6 col0\" >0.760719</td>\n",
       "    </tr>\n",
       "    <tr>\n",
       "      <th id=\"T_8e347_level0_row7\" class=\"row_heading level0 row7\" >Fe2O3</th>\n",
       "      <td id=\"T_8e347_row7_col0\" class=\"data row7 col0\" >0.760719</td>\n",
       "    </tr>\n",
       "    <tr>\n",
       "      <th id=\"T_8e347_level0_row8\" class=\"row_heading level0 row8\" >SO3</th>\n",
       "      <td id=\"T_8e347_row8_col0\" class=\"data row8 col0\" >0.553250</td>\n",
       "    </tr>\n",
       "    <tr>\n",
       "      <th id=\"T_8e347_level0_row9\" class=\"row_heading level0 row9\" >CS3</th>\n",
       "      <td id=\"T_8e347_row9_col0\" class=\"data row9 col0\" >0.138313</td>\n",
       "    </tr>\n",
       "    <tr>\n",
       "      <th id=\"T_8e347_level0_row10\" class=\"row_heading level0 row10\" >Insoluble Residue</th>\n",
       "      <td id=\"T_8e347_row10_col0\" class=\"data row10 col0\" >0.069156</td>\n",
       "    </tr>\n",
       "    <tr>\n",
       "      <th id=\"T_8e347_level0_row11\" class=\"row_heading level0 row11\" >Loss on Ignition</th>\n",
       "      <td id=\"T_8e347_row11_col0\" class=\"data row11 col0\" >0.069156</td>\n",
       "    </tr>\n",
       "    <tr>\n",
       "      <th id=\"T_8e347_level0_row12\" class=\"row_heading level0 row12\" >Final setting time</th>\n",
       "      <td id=\"T_8e347_row12_col0\" class=\"data row12 col0\" >0.000000</td>\n",
       "    </tr>\n",
       "    <tr>\n",
       "      <th id=\"T_8e347_level0_row13\" class=\"row_heading level0 row13\" >CS28</th>\n",
       "      <td id=\"T_8e347_row13_col0\" class=\"data row13 col0\" >0.000000</td>\n",
       "    </tr>\n",
       "    <tr>\n",
       "      <th id=\"T_8e347_level0_row14\" class=\"row_heading level0 row14\" >Date</th>\n",
       "      <td id=\"T_8e347_row14_col0\" class=\"data row14 col0\" >0.000000</td>\n",
       "    </tr>\n",
       "    <tr>\n",
       "      <th id=\"T_8e347_level0_row15\" class=\"row_heading level0 row15\" >Initial setting time</th>\n",
       "      <td id=\"T_8e347_row15_col0\" class=\"data row15 col0\" >0.000000</td>\n",
       "    </tr>\n",
       "    <tr>\n",
       "      <th id=\"T_8e347_level0_row16\" class=\"row_heading level0 row16\" >#325</th>\n",
       "      <td id=\"T_8e347_row16_col0\" class=\"data row16 col0\" >0.000000</td>\n",
       "    </tr>\n",
       "    <tr>\n",
       "      <th id=\"T_8e347_level0_row17\" class=\"row_heading level0 row17\" >#200</th>\n",
       "      <td id=\"T_8e347_row17_col0\" class=\"data row17 col0\" >0.000000</td>\n",
       "    </tr>\n",
       "    <tr>\n",
       "      <th id=\"T_8e347_level0_row18\" class=\"row_heading level0 row18\" >Blaine</th>\n",
       "      <td id=\"T_8e347_row18_col0\" class=\"data row18 col0\" >0.000000</td>\n",
       "    </tr>\n",
       "    <tr>\n",
       "      <th id=\"T_8e347_level0_row19\" class=\"row_heading level0 row19\" >Cement_Type</th>\n",
       "      <td id=\"T_8e347_row19_col0\" class=\"data row19 col0\" >0.000000</td>\n",
       "    </tr>\n",
       "  </tbody>\n",
       "</table>\n"
      ],
      "text/plain": [
       "<pandas.io.formats.style.Styler at 0x7ae263a43460>"
      ]
     },
     "execution_count": 23,
     "metadata": {},
     "output_type": "execute_result"
    },
    {
     "data": {
      "application/javascript": [
       "\n",
       "            setTimeout(function() {\n",
       "                var nbb_cell_id = 23;\n",
       "                var nbb_unformatted_code = \"(df.isna().sum() / df.shape[0] * 100).sort_values(ascending=False).to_frame(\\n    name=\\\"Missing (%)\\\"\\n).style.background_gradient(cmap=\\\"Reds\\\")\";\n",
       "                var nbb_formatted_code = \"(df.isna().sum() / df.shape[0] * 100).sort_values(ascending=False).to_frame(\\n    name=\\\"Missing (%)\\\"\\n).style.background_gradient(cmap=\\\"Reds\\\")\";\n",
       "                var nbb_cells = Jupyter.notebook.get_cells();\n",
       "                for (var i = 0; i < nbb_cells.length; ++i) {\n",
       "                    if (nbb_cells[i].input_prompt_number == nbb_cell_id) {\n",
       "                        if (nbb_cells[i].get_text() == nbb_unformatted_code) {\n",
       "                             nbb_cells[i].set_text(nbb_formatted_code);\n",
       "                        }\n",
       "                        break;\n",
       "                    }\n",
       "                }\n",
       "            }, 500);\n",
       "            "
      ],
      "text/plain": [
       "<IPython.core.display.Javascript object>"
      ]
     },
     "metadata": {},
     "output_type": "display_data"
    }
   ],
   "source": [
    "(df.isna().sum() / df.shape[0] * 100).sort_values(ascending=False).to_frame(\n",
    "    name=\"Missing (%)\"\n",
    ").style.background_gradient(cmap=\"Reds\")"
   ]
  },
  {
   "cell_type": "code",
   "execution_count": 24,
   "id": "12fef81f",
   "metadata": {},
   "outputs": [
    {
     "data": {
      "text/html": [
       "<div>\n",
       "<style scoped>\n",
       "    .dataframe tbody tr th:only-of-type {\n",
       "        vertical-align: middle;\n",
       "    }\n",
       "\n",
       "    .dataframe tbody tr th {\n",
       "        vertical-align: top;\n",
       "    }\n",
       "\n",
       "    .dataframe thead th {\n",
       "        text-align: right;\n",
       "    }\n",
       "</style>\n",
       "<table border=\"1\" class=\"dataframe\">\n",
       "  <thead>\n",
       "    <tr style=\"text-align: right;\">\n",
       "      <th></th>\n",
       "      <th>count</th>\n",
       "      <th>mean</th>\n",
       "      <th>min</th>\n",
       "      <th>25%</th>\n",
       "      <th>50%</th>\n",
       "      <th>75%</th>\n",
       "      <th>max</th>\n",
       "      <th>std</th>\n",
       "    </tr>\n",
       "  </thead>\n",
       "  <tbody>\n",
       "    <tr>\n",
       "      <th>Date</th>\n",
       "      <td>1446</td>\n",
       "      <td>2021-10-25 14:52:16.929460480</td>\n",
       "      <td>2020-01-02 00:00:00</td>\n",
       "      <td>2020-12-18 00:00:00</td>\n",
       "      <td>2021-11-09 00:00:00</td>\n",
       "      <td>2022-08-26 00:00:00</td>\n",
       "      <td>2023-06-30 00:00:00</td>\n",
       "      <td>NaN</td>\n",
       "    </tr>\n",
       "    <tr>\n",
       "      <th>CaO</th>\n",
       "      <td>1433.0</td>\n",
       "      <td>45.857802</td>\n",
       "      <td>20.18</td>\n",
       "      <td>36.94</td>\n",
       "      <td>50.98</td>\n",
       "      <td>53.36</td>\n",
       "      <td>65.44</td>\n",
       "      <td>8.427075</td>\n",
       "    </tr>\n",
       "    <tr>\n",
       "      <th>MgO</th>\n",
       "      <td>1435.0</td>\n",
       "      <td>5.45722</td>\n",
       "      <td>1.27</td>\n",
       "      <td>4.35</td>\n",
       "      <td>5.37</td>\n",
       "      <td>6.58</td>\n",
       "      <td>8.3</td>\n",
       "      <td>1.28931</td>\n",
       "    </tr>\n",
       "    <tr>\n",
       "      <th>Na2O</th>\n",
       "      <td>1435.0</td>\n",
       "      <td>0.234983</td>\n",
       "      <td>0.01</td>\n",
       "      <td>0.21</td>\n",
       "      <td>0.24</td>\n",
       "      <td>0.27</td>\n",
       "      <td>0.49</td>\n",
       "      <td>0.065115</td>\n",
       "    </tr>\n",
       "    <tr>\n",
       "      <th>Al2O3</th>\n",
       "      <td>1435.0</td>\n",
       "      <td>8.6723</td>\n",
       "      <td>4.4</td>\n",
       "      <td>5.555</td>\n",
       "      <td>6.21</td>\n",
       "      <td>12.225</td>\n",
       "      <td>15.53</td>\n",
       "      <td>3.487777</td>\n",
       "    </tr>\n",
       "    <tr>\n",
       "      <th>SiO2</th>\n",
       "      <td>1435.0</td>\n",
       "      <td>28.118516</td>\n",
       "      <td>2.98</td>\n",
       "      <td>22.08</td>\n",
       "      <td>23.92</td>\n",
       "      <td>35.5</td>\n",
       "      <td>39.23</td>\n",
       "      <td>6.942265</td>\n",
       "    </tr>\n",
       "    <tr>\n",
       "      <th>SO3</th>\n",
       "      <td>1438.0</td>\n",
       "      <td>3.35726</td>\n",
       "      <td>1.75</td>\n",
       "      <td>2.38</td>\n",
       "      <td>3.84</td>\n",
       "      <td>4.22</td>\n",
       "      <td>4.5</td>\n",
       "      <td>0.918287</td>\n",
       "    </tr>\n",
       "    <tr>\n",
       "      <th>K2O</th>\n",
       "      <td>1435.0</td>\n",
       "      <td>0.888815</td>\n",
       "      <td>0.01</td>\n",
       "      <td>0.27</td>\n",
       "      <td>1.25</td>\n",
       "      <td>1.44</td>\n",
       "      <td>1.71</td>\n",
       "      <td>0.594223</td>\n",
       "    </tr>\n",
       "    <tr>\n",
       "      <th>Fe2O3</th>\n",
       "      <td>1435.0</td>\n",
       "      <td>2.872446</td>\n",
       "      <td>1.98</td>\n",
       "      <td>2.59</td>\n",
       "      <td>2.8</td>\n",
       "      <td>3.12</td>\n",
       "      <td>6.81</td>\n",
       "      <td>0.403959</td>\n",
       "    </tr>\n",
       "    <tr>\n",
       "      <th>Loss on Ignition</th>\n",
       "      <td>1445.0</td>\n",
       "      <td>3.706491</td>\n",
       "      <td>1.9</td>\n",
       "      <td>3.29</td>\n",
       "      <td>3.7</td>\n",
       "      <td>4.18</td>\n",
       "      <td>6.37</td>\n",
       "      <td>0.65101</td>\n",
       "    </tr>\n",
       "    <tr>\n",
       "      <th>Insoluble Residue</th>\n",
       "      <td>1445.0</td>\n",
       "      <td>22.510997</td>\n",
       "      <td>4.08</td>\n",
       "      <td>11.26</td>\n",
       "      <td>15.09</td>\n",
       "      <td>35.68</td>\n",
       "      <td>42.1</td>\n",
       "      <td>12.309936</td>\n",
       "    </tr>\n",
       "    <tr>\n",
       "      <th>Blaine</th>\n",
       "      <td>1446.0</td>\n",
       "      <td>4721.922545</td>\n",
       "      <td>4150.0</td>\n",
       "      <td>4490.0</td>\n",
       "      <td>4770.0</td>\n",
       "      <td>4910.0</td>\n",
       "      <td>6060.0</td>\n",
       "      <td>272.758376</td>\n",
       "    </tr>\n",
       "    <tr>\n",
       "      <th>#200</th>\n",
       "      <td>1446.0</td>\n",
       "      <td>0.250692</td>\n",
       "      <td>0.01</td>\n",
       "      <td>0.08</td>\n",
       "      <td>0.15</td>\n",
       "      <td>0.4</td>\n",
       "      <td>1.06</td>\n",
       "      <td>0.209764</td>\n",
       "    </tr>\n",
       "    <tr>\n",
       "      <th>#325</th>\n",
       "      <td>1446.0</td>\n",
       "      <td>1.445885</td>\n",
       "      <td>0.05</td>\n",
       "      <td>0.57</td>\n",
       "      <td>0.79</td>\n",
       "      <td>2.43</td>\n",
       "      <td>3.93</td>\n",
       "      <td>1.014407</td>\n",
       "    </tr>\n",
       "    <tr>\n",
       "      <th>Initial setting time</th>\n",
       "      <td>1446.0</td>\n",
       "      <td>266.16805</td>\n",
       "      <td>120.0</td>\n",
       "      <td>225.0</td>\n",
       "      <td>265.0</td>\n",
       "      <td>300.0</td>\n",
       "      <td>430.0</td>\n",
       "      <td>56.920367</td>\n",
       "    </tr>\n",
       "    <tr>\n",
       "      <th>Final setting time</th>\n",
       "      <td>1446.0</td>\n",
       "      <td>343.25657</td>\n",
       "      <td>170.0</td>\n",
       "      <td>295.0</td>\n",
       "      <td>345.0</td>\n",
       "      <td>385.0</td>\n",
       "      <td>540.0</td>\n",
       "      <td>64.879019</td>\n",
       "    </tr>\n",
       "    <tr>\n",
       "      <th>CS3</th>\n",
       "      <td>1444.0</td>\n",
       "      <td>26.476953</td>\n",
       "      <td>12.4</td>\n",
       "      <td>18.4375</td>\n",
       "      <td>30.45</td>\n",
       "      <td>33.6</td>\n",
       "      <td>38.5</td>\n",
       "      <td>7.751401</td>\n",
       "    </tr>\n",
       "    <tr>\n",
       "      <th>CS7</th>\n",
       "      <td>1434.0</td>\n",
       "      <td>31.104128</td>\n",
       "      <td>17.1</td>\n",
       "      <td>22.8</td>\n",
       "      <td>35.0</td>\n",
       "      <td>38.1</td>\n",
       "      <td>44.9</td>\n",
       "      <td>7.709027</td>\n",
       "    </tr>\n",
       "    <tr>\n",
       "      <th>CS28</th>\n",
       "      <td>1446.0</td>\n",
       "      <td>41.186093</td>\n",
       "      <td>29.8</td>\n",
       "      <td>35.2</td>\n",
       "      <td>42.7</td>\n",
       "      <td>46.3</td>\n",
       "      <td>55.6</td>\n",
       "      <td>5.843954</td>\n",
       "    </tr>\n",
       "  </tbody>\n",
       "</table>\n",
       "</div>"
      ],
      "text/plain": [
       "                       count                           mean  \\\n",
       "Date                    1446  2021-10-25 14:52:16.929460480   \n",
       "CaO                   1433.0                      45.857802   \n",
       "MgO                   1435.0                        5.45722   \n",
       "Na2O                  1435.0                       0.234983   \n",
       "Al2O3                 1435.0                         8.6723   \n",
       "SiO2                  1435.0                      28.118516   \n",
       "SO3                   1438.0                        3.35726   \n",
       "K2O                   1435.0                       0.888815   \n",
       "Fe2O3                 1435.0                       2.872446   \n",
       "Loss on Ignition      1445.0                       3.706491   \n",
       "Insoluble Residue     1445.0                      22.510997   \n",
       "Blaine                1446.0                    4721.922545   \n",
       "#200                  1446.0                       0.250692   \n",
       "#325                  1446.0                       1.445885   \n",
       "Initial setting time  1446.0                      266.16805   \n",
       "Final setting time    1446.0                      343.25657   \n",
       "CS3                   1444.0                      26.476953   \n",
       "CS7                   1434.0                      31.104128   \n",
       "CS28                  1446.0                      41.186093   \n",
       "\n",
       "                                      min                  25%  \\\n",
       "Date                  2020-01-02 00:00:00  2020-12-18 00:00:00   \n",
       "CaO                                 20.18                36.94   \n",
       "MgO                                  1.27                 4.35   \n",
       "Na2O                                 0.01                 0.21   \n",
       "Al2O3                                 4.4                5.555   \n",
       "SiO2                                 2.98                22.08   \n",
       "SO3                                  1.75                 2.38   \n",
       "K2O                                  0.01                 0.27   \n",
       "Fe2O3                                1.98                 2.59   \n",
       "Loss on Ignition                      1.9                 3.29   \n",
       "Insoluble Residue                    4.08                11.26   \n",
       "Blaine                             4150.0               4490.0   \n",
       "#200                                 0.01                 0.08   \n",
       "#325                                 0.05                 0.57   \n",
       "Initial setting time                120.0                225.0   \n",
       "Final setting time                  170.0                295.0   \n",
       "CS3                                  12.4              18.4375   \n",
       "CS7                                  17.1                 22.8   \n",
       "CS28                                 29.8                 35.2   \n",
       "\n",
       "                                      50%                  75%  \\\n",
       "Date                  2021-11-09 00:00:00  2022-08-26 00:00:00   \n",
       "CaO                                 50.98                53.36   \n",
       "MgO                                  5.37                 6.58   \n",
       "Na2O                                 0.24                 0.27   \n",
       "Al2O3                                6.21               12.225   \n",
       "SiO2                                23.92                 35.5   \n",
       "SO3                                  3.84                 4.22   \n",
       "K2O                                  1.25                 1.44   \n",
       "Fe2O3                                 2.8                 3.12   \n",
       "Loss on Ignition                      3.7                 4.18   \n",
       "Insoluble Residue                   15.09                35.68   \n",
       "Blaine                             4770.0               4910.0   \n",
       "#200                                 0.15                  0.4   \n",
       "#325                                 0.79                 2.43   \n",
       "Initial setting time                265.0                300.0   \n",
       "Final setting time                  345.0                385.0   \n",
       "CS3                                 30.45                 33.6   \n",
       "CS7                                  35.0                 38.1   \n",
       "CS28                                 42.7                 46.3   \n",
       "\n",
       "                                      max         std  \n",
       "Date                  2023-06-30 00:00:00         NaN  \n",
       "CaO                                 65.44    8.427075  \n",
       "MgO                                   8.3     1.28931  \n",
       "Na2O                                 0.49    0.065115  \n",
       "Al2O3                               15.53    3.487777  \n",
       "SiO2                                39.23    6.942265  \n",
       "SO3                                   4.5    0.918287  \n",
       "K2O                                  1.71    0.594223  \n",
       "Fe2O3                                6.81    0.403959  \n",
       "Loss on Ignition                     6.37     0.65101  \n",
       "Insoluble Residue                    42.1   12.309936  \n",
       "Blaine                             6060.0  272.758376  \n",
       "#200                                 1.06    0.209764  \n",
       "#325                                 3.93    1.014407  \n",
       "Initial setting time                430.0   56.920367  \n",
       "Final setting time                  540.0   64.879019  \n",
       "CS3                                  38.5    7.751401  \n",
       "CS7                                  44.9    7.709027  \n",
       "CS28                                 55.6    5.843954  "
      ]
     },
     "execution_count": 24,
     "metadata": {},
     "output_type": "execute_result"
    },
    {
     "data": {
      "application/javascript": [
       "\n",
       "            setTimeout(function() {\n",
       "                var nbb_cell_id = 24;\n",
       "                var nbb_unformatted_code = \"df.describe().T\";\n",
       "                var nbb_formatted_code = \"df.describe().T\";\n",
       "                var nbb_cells = Jupyter.notebook.get_cells();\n",
       "                for (var i = 0; i < nbb_cells.length; ++i) {\n",
       "                    if (nbb_cells[i].input_prompt_number == nbb_cell_id) {\n",
       "                        if (nbb_cells[i].get_text() == nbb_unformatted_code) {\n",
       "                             nbb_cells[i].set_text(nbb_formatted_code);\n",
       "                        }\n",
       "                        break;\n",
       "                    }\n",
       "                }\n",
       "            }, 500);\n",
       "            "
      ],
      "text/plain": [
       "<IPython.core.display.Javascript object>"
      ]
     },
     "metadata": {},
     "output_type": "display_data"
    }
   ],
   "source": [
    "df.describe().T"
   ]
  },
  {
   "cell_type": "code",
   "execution_count": 25,
   "id": "e6e3f8eb",
   "metadata": {},
   "outputs": [
    {
     "data": {
      "text/html": [
       "<div>\n",
       "<style scoped>\n",
       "    .dataframe tbody tr th:only-of-type {\n",
       "        vertical-align: middle;\n",
       "    }\n",
       "\n",
       "    .dataframe tbody tr th {\n",
       "        vertical-align: top;\n",
       "    }\n",
       "\n",
       "    .dataframe thead th {\n",
       "        text-align: right;\n",
       "    }\n",
       "</style>\n",
       "<table border=\"1\" class=\"dataframe\">\n",
       "  <thead>\n",
       "    <tr style=\"text-align: right;\">\n",
       "      <th></th>\n",
       "      <th>count</th>\n",
       "      <th>unique</th>\n",
       "      <th>top</th>\n",
       "      <th>freq</th>\n",
       "      <th>mean</th>\n",
       "      <th>min</th>\n",
       "      <th>25%</th>\n",
       "      <th>50%</th>\n",
       "      <th>75%</th>\n",
       "      <th>max</th>\n",
       "    </tr>\n",
       "  </thead>\n",
       "  <tbody>\n",
       "    <tr>\n",
       "      <th>Date</th>\n",
       "      <td>1446</td>\n",
       "      <td>NaN</td>\n",
       "      <td>NaN</td>\n",
       "      <td>NaN</td>\n",
       "      <td>2021-10-25 14:52:16.929460480</td>\n",
       "      <td>2020-01-02 00:00:00</td>\n",
       "      <td>2020-12-18 00:00:00</td>\n",
       "      <td>2021-11-09 00:00:00</td>\n",
       "      <td>2022-08-26 00:00:00</td>\n",
       "      <td>2023-06-30 00:00:00</td>\n",
       "    </tr>\n",
       "    <tr>\n",
       "      <th>Cement_Type</th>\n",
       "      <td>1446</td>\n",
       "      <td>2</td>\n",
       "      <td>CPV ARI RS</td>\n",
       "      <td>801</td>\n",
       "      <td>NaN</td>\n",
       "      <td>NaN</td>\n",
       "      <td>NaN</td>\n",
       "      <td>NaN</td>\n",
       "      <td>NaN</td>\n",
       "      <td>NaN</td>\n",
       "    </tr>\n",
       "  </tbody>\n",
       "</table>\n",
       "</div>"
      ],
      "text/plain": [
       "            count unique         top freq                           mean  \\\n",
       "Date         1446    NaN         NaN  NaN  2021-10-25 14:52:16.929460480   \n",
       "Cement_Type  1446      2  CPV ARI RS  801                            NaN   \n",
       "\n",
       "                             min                  25%                  50%  \\\n",
       "Date         2020-01-02 00:00:00  2020-12-18 00:00:00  2021-11-09 00:00:00   \n",
       "Cement_Type                  NaN                  NaN                  NaN   \n",
       "\n",
       "                             75%                  max  \n",
       "Date         2022-08-26 00:00:00  2023-06-30 00:00:00  \n",
       "Cement_Type                  NaN                  NaN  "
      ]
     },
     "execution_count": 25,
     "metadata": {},
     "output_type": "execute_result"
    },
    {
     "data": {
      "application/javascript": [
       "\n",
       "            setTimeout(function() {\n",
       "                var nbb_cell_id = 25;\n",
       "                var nbb_unformatted_code = \"df.describe(exclude=\\\"number\\\").T\";\n",
       "                var nbb_formatted_code = \"df.describe(exclude=\\\"number\\\").T\";\n",
       "                var nbb_cells = Jupyter.notebook.get_cells();\n",
       "                for (var i = 0; i < nbb_cells.length; ++i) {\n",
       "                    if (nbb_cells[i].input_prompt_number == nbb_cell_id) {\n",
       "                        if (nbb_cells[i].get_text() == nbb_unformatted_code) {\n",
       "                             nbb_cells[i].set_text(nbb_formatted_code);\n",
       "                        }\n",
       "                        break;\n",
       "                    }\n",
       "                }\n",
       "            }, 500);\n",
       "            "
      ],
      "text/plain": [
       "<IPython.core.display.Javascript object>"
      ]
     },
     "metadata": {},
     "output_type": "display_data"
    }
   ],
   "source": [
    "df.describe(exclude=\"number\").T"
   ]
  },
  {
   "cell_type": "code",
   "execution_count": 26,
   "id": "8a781c6e",
   "metadata": {},
   "outputs": [
    {
     "name": "stdout",
     "output_type": "stream",
     "text": [
      "<class 'pandas.core.frame.DataFrame'>\n",
      "Index: 1446 entries, 0 to 1471\n",
      "Data columns (total 20 columns):\n",
      " #   Column                Non-Null Count  Dtype         \n",
      "---  ------                --------------  -----         \n",
      " 0   Date                  1446 non-null   datetime64[ns]\n",
      " 1   CaO                   1433 non-null   float64       \n",
      " 2   MgO                   1435 non-null   float64       \n",
      " 3   Na2O                  1435 non-null   float64       \n",
      " 4   Al2O3                 1435 non-null   float64       \n",
      " 5   SiO2                  1435 non-null   float64       \n",
      " 6   SO3                   1438 non-null   float64       \n",
      " 7   K2O                   1435 non-null   float64       \n",
      " 8   Fe2O3                 1435 non-null   float64       \n",
      " 9   Loss on Ignition      1445 non-null   float64       \n",
      " 10  Insoluble Residue     1445 non-null   float64       \n",
      " 11  Blaine                1446 non-null   float64       \n",
      " 12  #200                  1446 non-null   float64       \n",
      " 13  #325                  1446 non-null   float64       \n",
      " 14  Initial setting time  1446 non-null   float64       \n",
      " 15  Final setting time    1446 non-null   float64       \n",
      " 16  CS3                   1444 non-null   float64       \n",
      " 17  CS7                   1434 non-null   float64       \n",
      " 18  CS28                  1446 non-null   float64       \n",
      " 19  Cement_Type           1446 non-null   object        \n",
      "dtypes: datetime64[ns](1), float64(18), object(1)\n",
      "memory usage: 237.2+ KB\n"
     ]
    },
    {
     "data": {
      "application/javascript": [
       "\n",
       "            setTimeout(function() {\n",
       "                var nbb_cell_id = 26;\n",
       "                var nbb_unformatted_code = \"df.info()\";\n",
       "                var nbb_formatted_code = \"df.info()\";\n",
       "                var nbb_cells = Jupyter.notebook.get_cells();\n",
       "                for (var i = 0; i < nbb_cells.length; ++i) {\n",
       "                    if (nbb_cells[i].input_prompt_number == nbb_cell_id) {\n",
       "                        if (nbb_cells[i].get_text() == nbb_unformatted_code) {\n",
       "                             nbb_cells[i].set_text(nbb_formatted_code);\n",
       "                        }\n",
       "                        break;\n",
       "                    }\n",
       "                }\n",
       "            }, 500);\n",
       "            "
      ],
      "text/plain": [
       "<IPython.core.display.Javascript object>"
      ]
     },
     "metadata": {},
     "output_type": "display_data"
    }
   ],
   "source": [
    "df.info()"
   ]
  },
  {
   "cell_type": "markdown",
   "id": "6d769c2f",
   "metadata": {},
   "source": [
    "### Sort the dataset by date"
   ]
  },
  {
   "cell_type": "code",
   "execution_count": 27,
   "id": "b44c21a6",
   "metadata": {},
   "outputs": [
    {
     "data": {
      "text/plain": [
       "dtype('<M8[ns]')"
      ]
     },
     "execution_count": 27,
     "metadata": {},
     "output_type": "execute_result"
    },
    {
     "data": {
      "application/javascript": [
       "\n",
       "            setTimeout(function() {\n",
       "                var nbb_cell_id = 27;\n",
       "                var nbb_unformatted_code = \"# We first make sure Date column was infered correctly\\ndf[\\\"Date\\\"].dtype\";\n",
       "                var nbb_formatted_code = \"# We first make sure Date column was infered correctly\\ndf[\\\"Date\\\"].dtype\";\n",
       "                var nbb_cells = Jupyter.notebook.get_cells();\n",
       "                for (var i = 0; i < nbb_cells.length; ++i) {\n",
       "                    if (nbb_cells[i].input_prompt_number == nbb_cell_id) {\n",
       "                        if (nbb_cells[i].get_text() == nbb_unformatted_code) {\n",
       "                             nbb_cells[i].set_text(nbb_formatted_code);\n",
       "                        }\n",
       "                        break;\n",
       "                    }\n",
       "                }\n",
       "            }, 500);\n",
       "            "
      ],
      "text/plain": [
       "<IPython.core.display.Javascript object>"
      ]
     },
     "metadata": {},
     "output_type": "display_data"
    }
   ],
   "source": [
    "# We first make sure Date column was infered correctly\n",
    "df[\"Date\"].dtype"
   ]
  },
  {
   "cell_type": "code",
   "execution_count": 28,
   "id": "5c5039e2",
   "metadata": {},
   "outputs": [
    {
     "data": {
      "application/javascript": [
       "\n",
       "            setTimeout(function() {\n",
       "                var nbb_cell_id = 28;\n",
       "                var nbb_unformatted_code = \"df = df.sort_values(by=\\\"Date\\\")\";\n",
       "                var nbb_formatted_code = \"df = df.sort_values(by=\\\"Date\\\")\";\n",
       "                var nbb_cells = Jupyter.notebook.get_cells();\n",
       "                for (var i = 0; i < nbb_cells.length; ++i) {\n",
       "                    if (nbb_cells[i].input_prompt_number == nbb_cell_id) {\n",
       "                        if (nbb_cells[i].get_text() == nbb_unformatted_code) {\n",
       "                             nbb_cells[i].set_text(nbb_formatted_code);\n",
       "                        }\n",
       "                        break;\n",
       "                    }\n",
       "                }\n",
       "            }, 500);\n",
       "            "
      ],
      "text/plain": [
       "<IPython.core.display.Javascript object>"
      ]
     },
     "metadata": {},
     "output_type": "display_data"
    }
   ],
   "source": [
    "df = df.sort_values(by=\"Date\")"
   ]
  },
  {
   "cell_type": "markdown",
   "id": "22e0657a",
   "metadata": {},
   "source": [
    "## Saving the dataset"
   ]
  },
  {
   "cell_type": "markdown",
   "id": "b60e3c79",
   "metadata": {},
   "source": [
    "<h3>Saving for feature engineering</h3>"
   ]
  },
  {
   "cell_type": "code",
   "execution_count": 29,
   "id": "a8a88fcd",
   "metadata": {},
   "outputs": [
    {
     "data": {
      "application/javascript": [
       "\n",
       "            setTimeout(function() {\n",
       "                var nbb_cell_id = 29;\n",
       "                var nbb_unformatted_code = \"df.to_csv(\\\"../../../../data/interim/204/a.csv\\\", index=False)\";\n",
       "                var nbb_formatted_code = \"df.to_csv(\\\"../../../../data/interim/204/a.csv\\\", index=False)\";\n",
       "                var nbb_cells = Jupyter.notebook.get_cells();\n",
       "                for (var i = 0; i < nbb_cells.length; ++i) {\n",
       "                    if (nbb_cells[i].input_prompt_number == nbb_cell_id) {\n",
       "                        if (nbb_cells[i].get_text() == nbb_unformatted_code) {\n",
       "                             nbb_cells[i].set_text(nbb_formatted_code);\n",
       "                        }\n",
       "                        break;\n",
       "                    }\n",
       "                }\n",
       "            }, 500);\n",
       "            "
      ],
      "text/plain": [
       "<IPython.core.display.Javascript object>"
      ]
     },
     "metadata": {},
     "output_type": "display_data"
    }
   ],
   "source": [
    "df.to_csv(\"../../../../data/interim/204/a.csv\", index=False)"
   ]
  },
  {
   "cell_type": "code",
   "execution_count": null,
   "id": "c55f01f4",
   "metadata": {},
   "outputs": [],
   "source": []
  }
 ],
 "metadata": {
  "kernelspec": {
   "display_name": "ccs28-venv",
   "language": "python",
   "name": "ccs28-venv"
  },
  "language_info": {
   "codemirror_mode": {
    "name": "ipython",
    "version": 3
   },
   "file_extension": ".py",
   "mimetype": "text/x-python",
   "name": "python",
   "nbconvert_exporter": "python",
   "pygments_lexer": "ipython3",
   "version": "3.10.12"
  }
 },
 "nbformat": 4,
 "nbformat_minor": 5
}
