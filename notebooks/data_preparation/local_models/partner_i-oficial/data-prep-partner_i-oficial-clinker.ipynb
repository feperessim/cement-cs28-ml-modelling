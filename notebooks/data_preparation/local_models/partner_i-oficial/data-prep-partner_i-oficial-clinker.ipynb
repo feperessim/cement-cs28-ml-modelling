{
 "cells": [
  {
   "cell_type": "code",
   "execution_count": 1,
   "metadata": {},
   "outputs": [
    {
     "data": {
      "application/javascript": [
       "\n",
       "            setTimeout(function() {\n",
       "                var nbb_cell_id = 1;\n",
       "                var nbb_unformatted_code = \"%load_ext nb_black\";\n",
       "                var nbb_formatted_code = \"%load_ext nb_black\";\n",
       "                var nbb_cells = Jupyter.notebook.get_cells();\n",
       "                for (var i = 0; i < nbb_cells.length; ++i) {\n",
       "                    if (nbb_cells[i].input_prompt_number == nbb_cell_id) {\n",
       "                        if (nbb_cells[i].get_text() == nbb_unformatted_code) {\n",
       "                             nbb_cells[i].set_text(nbb_formatted_code);\n",
       "                        }\n",
       "                        break;\n",
       "                    }\n",
       "                }\n",
       "            }, 500);\n",
       "            "
      ],
      "text/plain": [
       "<IPython.core.display.Javascript object>"
      ]
     },
     "metadata": {},
     "output_type": "display_data"
    }
   ],
   "source": [
    "%load_ext nb_black"
   ]
  },
  {
   "cell_type": "code",
   "execution_count": 2,
   "metadata": {},
   "outputs": [
    {
     "data": {
      "application/javascript": [
       "\n",
       "            setTimeout(function() {\n",
       "                var nbb_cell_id = 2;\n",
       "                var nbb_unformatted_code = \"import pandas as pd\\nimport numpy as np\";\n",
       "                var nbb_formatted_code = \"import pandas as pd\\nimport numpy as np\";\n",
       "                var nbb_cells = Jupyter.notebook.get_cells();\n",
       "                for (var i = 0; i < nbb_cells.length; ++i) {\n",
       "                    if (nbb_cells[i].input_prompt_number == nbb_cell_id) {\n",
       "                        if (nbb_cells[i].get_text() == nbb_unformatted_code) {\n",
       "                             nbb_cells[i].set_text(nbb_formatted_code);\n",
       "                        }\n",
       "                        break;\n",
       "                    }\n",
       "                }\n",
       "            }, 500);\n",
       "            "
      ],
      "text/plain": [
       "<IPython.core.display.Javascript object>"
      ]
     },
     "metadata": {},
     "output_type": "display_data"
    }
   ],
   "source": [
    "import pandas as pd\n",
    "import numpy as np"
   ]
  },
  {
   "cell_type": "markdown",
   "metadata": {},
   "source": [
    "## Reading the dataset"
   ]
  },
  {
   "cell_type": "code",
   "execution_count": 3,
   "metadata": {},
   "outputs": [
    {
     "data": {
      "application/javascript": [
       "\n",
       "            setTimeout(function() {\n",
       "                var nbb_cell_id = 3;\n",
       "                var nbb_unformatted_code = \"xls = pd.ExcelFile(\\n    \\\"../../../data/raw/partner_i-Oficial/DB_Master_CP1_latest v03.06.xlsx\\\",\\n    engine=\\\"openpyxl\\\",\\n)\\ndf = pd.read_excel(xls, \\\"DB2 Cl\\u00ednquer\\\", header=[1, 2])\";\n",
       "                var nbb_formatted_code = \"xls = pd.ExcelFile(\\n    \\\"../../../data/raw/partner_i-Oficial/DB_Master_CP1_latest v03.06.xlsx\\\",\\n    engine=\\\"openpyxl\\\",\\n)\\ndf = pd.read_excel(xls, \\\"DB2 Cl\\u00ednquer\\\", header=[1, 2])\";\n",
       "                var nbb_cells = Jupyter.notebook.get_cells();\n",
       "                for (var i = 0; i < nbb_cells.length; ++i) {\n",
       "                    if (nbb_cells[i].input_prompt_number == nbb_cell_id) {\n",
       "                        if (nbb_cells[i].get_text() == nbb_unformatted_code) {\n",
       "                             nbb_cells[i].set_text(nbb_formatted_code);\n",
       "                        }\n",
       "                        break;\n",
       "                    }\n",
       "                }\n",
       "            }, 500);\n",
       "            "
      ],
      "text/plain": [
       "<IPython.core.display.Javascript object>"
      ]
     },
     "metadata": {},
     "output_type": "display_data"
    }
   ],
   "source": [
    "xls = pd.ExcelFile(\n",
    "    \"../../../data/raw/partner_i-Oficial/DB_Master_CP1_latest v03.06.xlsx\",\n",
    "    engine=\"openpyxl\",\n",
    ")\n",
    "df = pd.read_excel(xls, \"DB2 Clínquer\", header=[1, 2])"
   ]
  },
  {
   "cell_type": "markdown",
   "metadata": {},
   "source": [
    "## Initial Preprocessing"
   ]
  },
  {
   "cell_type": "code",
   "execution_count": 4,
   "metadata": {},
   "outputs": [
    {
     "data": {
      "application/javascript": [
       "\n",
       "            setTimeout(function() {\n",
       "                var nbb_cell_id = 4;\n",
       "                var nbb_unformatted_code = \"df = pd.concat([df[\\\"Date\\\"], df[\\\"Time\\\"], df[\\\"Composition\\\"]], axis=1)\\ndf = df.drop([0, 1, 2], axis=0).reset_index(drop=True)\\n\\ndf = pd.concat(\\n    [\\n        df[\\\"Production\\\"].iloc[:, 0],\\n        df[\\\"Measurement\\\"].iloc[:, 0],\\n        df[\\\"Production\\\"].iloc[:, 1].rename(\\\"Production.1\\\"),\\n        df[\\\"Measurement\\\"].iloc[:, 1].rename(\\\"Measurement.1\\\"),\\n        df.drop([\\\"Production\\\", \\\"Measurement\\\"], axis=1),\\n    ],\\n    axis=1,\\n)\\n\\ndf = df.infer_objects()\";\n",
       "                var nbb_formatted_code = \"df = pd.concat([df[\\\"Date\\\"], df[\\\"Time\\\"], df[\\\"Composition\\\"]], axis=1)\\ndf = df.drop([0, 1, 2], axis=0).reset_index(drop=True)\\n\\ndf = pd.concat(\\n    [\\n        df[\\\"Production\\\"].iloc[:, 0],\\n        df[\\\"Measurement\\\"].iloc[:, 0],\\n        df[\\\"Production\\\"].iloc[:, 1].rename(\\\"Production.1\\\"),\\n        df[\\\"Measurement\\\"].iloc[:, 1].rename(\\\"Measurement.1\\\"),\\n        df.drop([\\\"Production\\\", \\\"Measurement\\\"], axis=1),\\n    ],\\n    axis=1,\\n)\\n\\ndf = df.infer_objects()\";\n",
       "                var nbb_cells = Jupyter.notebook.get_cells();\n",
       "                for (var i = 0; i < nbb_cells.length; ++i) {\n",
       "                    if (nbb_cells[i].input_prompt_number == nbb_cell_id) {\n",
       "                        if (nbb_cells[i].get_text() == nbb_unformatted_code) {\n",
       "                             nbb_cells[i].set_text(nbb_formatted_code);\n",
       "                        }\n",
       "                        break;\n",
       "                    }\n",
       "                }\n",
       "            }, 500);\n",
       "            "
      ],
      "text/plain": [
       "<IPython.core.display.Javascript object>"
      ]
     },
     "metadata": {},
     "output_type": "display_data"
    }
   ],
   "source": [
    "df = pd.concat([df[\"Date\"], df[\"Time\"], df[\"Composition\"]], axis=1)\n",
    "df = df.drop([0, 1, 2], axis=0).reset_index(drop=True)\n",
    "\n",
    "df = pd.concat(\n",
    "    [\n",
    "        df[\"Production\"].iloc[:, 0],\n",
    "        df[\"Measurement\"].iloc[:, 0],\n",
    "        df[\"Production\"].iloc[:, 1].rename(\"Production.1\"),\n",
    "        df[\"Measurement\"].iloc[:, 1].rename(\"Measurement.1\"),\n",
    "        df.drop([\"Production\", \"Measurement\"], axis=1),\n",
    "    ],\n",
    "    axis=1,\n",
    ")\n",
    "\n",
    "df = df.infer_objects()"
   ]
  },
  {
   "cell_type": "markdown",
   "metadata": {},
   "source": [
    "# Removing Useless Features\n",
    "\n",
    "Here we will drop some features that may not contribute to the performance of the models that will be fitted on this data."
   ]
  },
  {
   "cell_type": "markdown",
   "metadata": {},
   "source": [
    "<h3>Percentage of missing values:</h3>\n",
    "    \n",
    "    \n",
    "<table>\n",
    "    <th>Full Dataset:</th>\n",
    "    <th></th>\n",
    "    <tr>\n",
    "        <td>Remarks</td>\n",
    "        <td>100</td>\n",
    "    </tr>\n",
    "    <tr>\n",
    "        <td>Bassanite</td>\n",
    "        <td>100</td>\n",
    "    </tr>        \n",
    "    <tr>\n",
    "        <td>Thenardite</td>\n",
    "        <td>100</td>\n",
    "    </tr>\n",
    "    <tr>\n",
    "        <td>Dolomite</td>\n",
    "        <td>100</td>\n",
    "    </tr>\n",
    "    <tr>    \n",
    "        <td>Ca(OH)2</td>\n",
    "        <td>100</td>\n",
    "    <tr/>\n",
    "    <tr>    \n",
    "        <td>CaCO3</td>\n",
    "        <td>100</td>\n",
    "    <tr/>\n",
    "    <tr>    \n",
    "        <td>Anhidrite</td>\n",
    "        <td>100</td>\n",
    "    <tr/>\n",
    "    <tr>    \n",
    "        <td>Gypsum</td>\n",
    "        <td>100</td>\n",
    "    <tr/>\n",
    "    <tr>    \n",
    "        <td>Syngenite</td>\n",
    "        <td>100</td>\n",
    "    <tr/>\n",
    "</table>"
   ]
  },
  {
   "cell_type": "code",
   "execution_count": 5,
   "metadata": {},
   "outputs": [
    {
     "data": {
      "application/javascript": [
       "\n",
       "            setTimeout(function() {\n",
       "                var nbb_cell_id = 5;\n",
       "                var nbb_unformatted_code = \"FEATURES_TO_DROP = [\\n    # Missing Values\\n    \\\"Thenardite\\\",\\n    \\\"CaCO3\\\",\\n    \\\"Ca(OH)2\\\",\\n    \\\"Gypsum\\\",\\n    \\\"Bassanite\\\",\\n    \\\"Anhidrite\\\",\\n    \\\"Dolomite\\\",\\n    \\\"Syngenite\\\",\\n    \\\"Remarks\\\",\\n]\";\n",
       "                var nbb_formatted_code = \"FEATURES_TO_DROP = [\\n    # Missing Values\\n    \\\"Thenardite\\\",\\n    \\\"CaCO3\\\",\\n    \\\"Ca(OH)2\\\",\\n    \\\"Gypsum\\\",\\n    \\\"Bassanite\\\",\\n    \\\"Anhidrite\\\",\\n    \\\"Dolomite\\\",\\n    \\\"Syngenite\\\",\\n    \\\"Remarks\\\",\\n]\";\n",
       "                var nbb_cells = Jupyter.notebook.get_cells();\n",
       "                for (var i = 0; i < nbb_cells.length; ++i) {\n",
       "                    if (nbb_cells[i].input_prompt_number == nbb_cell_id) {\n",
       "                        if (nbb_cells[i].get_text() == nbb_unformatted_code) {\n",
       "                             nbb_cells[i].set_text(nbb_formatted_code);\n",
       "                        }\n",
       "                        break;\n",
       "                    }\n",
       "                }\n",
       "            }, 500);\n",
       "            "
      ],
      "text/plain": [
       "<IPython.core.display.Javascript object>"
      ]
     },
     "metadata": {},
     "output_type": "display_data"
    }
   ],
   "source": [
    "FEATURES_TO_DROP = [\n",
    "    # Missing Values\n",
    "    \"Thenardite\",\n",
    "    \"CaCO3\",\n",
    "    \"Ca(OH)2\",\n",
    "    \"Gypsum\",\n",
    "    \"Bassanite\",\n",
    "    \"Anhidrite\",\n",
    "    \"Dolomite\",\n",
    "    \"Syngenite\",\n",
    "    \"Remarks\",\n",
    "]"
   ]
  },
  {
   "cell_type": "markdown",
   "metadata": {},
   "source": [
    "### Removing features with features having 60% or more of missing values\n",
    "\n",
    "### Removing features related to the properties of Cement\n",
    "\n",
    "### Removing features with zero variance\n",
    "\n",
    "### Removing features with more than 70% of zeros"
   ]
  },
  {
   "cell_type": "code",
   "execution_count": 6,
   "metadata": {},
   "outputs": [
    {
     "data": {
      "application/javascript": [
       "\n",
       "            setTimeout(function() {\n",
       "                var nbb_cell_id = 6;\n",
       "                var nbb_unformatted_code = \"df = df.drop(labels=FEATURES_TO_DROP, axis=1)\";\n",
       "                var nbb_formatted_code = \"df = df.drop(labels=FEATURES_TO_DROP, axis=1)\";\n",
       "                var nbb_cells = Jupyter.notebook.get_cells();\n",
       "                for (var i = 0; i < nbb_cells.length; ++i) {\n",
       "                    if (nbb_cells[i].input_prompt_number == nbb_cell_id) {\n",
       "                        if (nbb_cells[i].get_text() == nbb_unformatted_code) {\n",
       "                             nbb_cells[i].set_text(nbb_formatted_code);\n",
       "                        }\n",
       "                        break;\n",
       "                    }\n",
       "                }\n",
       "            }, 500);\n",
       "            "
      ],
      "text/plain": [
       "<IPython.core.display.Javascript object>"
      ]
     },
     "metadata": {},
     "output_type": "display_data"
    }
   ],
   "source": [
    "df = df.drop(labels=FEATURES_TO_DROP, axis=1)"
   ]
  },
  {
   "cell_type": "markdown",
   "metadata": {},
   "source": [
    "### Filling missing values with interpolation"
   ]
  },
  {
   "cell_type": "code",
   "execution_count": 7,
   "metadata": {},
   "outputs": [
    {
     "data": {
      "application/javascript": [
       "\n",
       "            setTimeout(function() {\n",
       "                var nbb_cell_id = 7;\n",
       "                var nbb_unformatted_code = \"df = df.interpolate(method=\\\"linear\\\", limit_direction=\\\"both\\\")\";\n",
       "                var nbb_formatted_code = \"df = df.interpolate(method=\\\"linear\\\", limit_direction=\\\"both\\\")\";\n",
       "                var nbb_cells = Jupyter.notebook.get_cells();\n",
       "                for (var i = 0; i < nbb_cells.length; ++i) {\n",
       "                    if (nbb_cells[i].input_prompt_number == nbb_cell_id) {\n",
       "                        if (nbb_cells[i].get_text() == nbb_unformatted_code) {\n",
       "                             nbb_cells[i].set_text(nbb_formatted_code);\n",
       "                        }\n",
       "                        break;\n",
       "                    }\n",
       "                }\n",
       "            }, 500);\n",
       "            "
      ],
      "text/plain": [
       "<IPython.core.display.Javascript object>"
      ]
     },
     "metadata": {},
     "output_type": "display_data"
    }
   ],
   "source": [
    "df = df.interpolate(method=\"linear\", limit_direction=\"both\")"
   ]
  },
  {
   "cell_type": "markdown",
   "metadata": {},
   "source": [
    "### Convert Dates to appropriate Type"
   ]
  },
  {
   "cell_type": "code",
   "execution_count": 8,
   "metadata": {},
   "outputs": [
    {
     "data": {
      "application/javascript": [
       "\n",
       "            setTimeout(function() {\n",
       "                var nbb_cell_id = 8;\n",
       "                var nbb_unformatted_code = \"dates = pd.to_datetime(\\n    (\\n        df[\\\"Production\\\"].astype(str)\\n        + \\\" \\\"\\n        + df[\\\"Production.1\\\"]\\n        .astype(str)\\n        .apply(lambda x: x + \\\":00\\\" if len(x) <= 5 else x)\\n    ).str.strip(),\\n    format=\\\"%d/%m/%Y %H:%M:%S\\\",\\n)\\n\\ndf = df.drop([\\\"Measurement\\\", \\\"Production.1\\\", \\\"Measurement.1\\\"], axis=1)\\ndf[\\\"Production\\\"] = dates\\ndf = df.rename({\\\"Production\\\": \\\"Date\\\"}, axis=1)\";\n",
       "                var nbb_formatted_code = \"dates = pd.to_datetime(\\n    (\\n        df[\\\"Production\\\"].astype(str)\\n        + \\\" \\\"\\n        + df[\\\"Production.1\\\"]\\n        .astype(str)\\n        .apply(lambda x: x + \\\":00\\\" if len(x) <= 5 else x)\\n    ).str.strip(),\\n    format=\\\"%d/%m/%Y %H:%M:%S\\\",\\n)\\n\\ndf = df.drop([\\\"Measurement\\\", \\\"Production.1\\\", \\\"Measurement.1\\\"], axis=1)\\ndf[\\\"Production\\\"] = dates\\ndf = df.rename({\\\"Production\\\": \\\"Date\\\"}, axis=1)\";\n",
       "                var nbb_cells = Jupyter.notebook.get_cells();\n",
       "                for (var i = 0; i < nbb_cells.length; ++i) {\n",
       "                    if (nbb_cells[i].input_prompt_number == nbb_cell_id) {\n",
       "                        if (nbb_cells[i].get_text() == nbb_unformatted_code) {\n",
       "                             nbb_cells[i].set_text(nbb_formatted_code);\n",
       "                        }\n",
       "                        break;\n",
       "                    }\n",
       "                }\n",
       "            }, 500);\n",
       "            "
      ],
      "text/plain": [
       "<IPython.core.display.Javascript object>"
      ]
     },
     "metadata": {},
     "output_type": "display_data"
    }
   ],
   "source": [
    "dates = pd.to_datetime(\n",
    "    (\n",
    "        df[\"Production\"].astype(str)\n",
    "        + \" \"\n",
    "        + df[\"Production.1\"]\n",
    "        .astype(str)\n",
    "        .apply(lambda x: x + \":00\" if len(x) <= 5 else x)\n",
    "    ).str.strip(),\n",
    "    format=\"%d/%m/%Y %H:%M:%S\",\n",
    ")\n",
    "\n",
    "df = df.drop([\"Measurement\", \"Production.1\", \"Measurement.1\"], axis=1)\n",
    "df[\"Production\"] = dates\n",
    "df = df.rename({\"Production\": \"Date\"}, axis=1)"
   ]
  },
  {
   "cell_type": "markdown",
   "metadata": {},
   "source": [
    "### Sort the dataset by date"
   ]
  },
  {
   "cell_type": "code",
   "execution_count": 9,
   "metadata": {},
   "outputs": [
    {
     "data": {
      "application/javascript": [
       "\n",
       "            setTimeout(function() {\n",
       "                var nbb_cell_id = 9;\n",
       "                var nbb_unformatted_code = \"df = df.sort_values(by=\\\"Date\\\")\";\n",
       "                var nbb_formatted_code = \"df = df.sort_values(by=\\\"Date\\\")\";\n",
       "                var nbb_cells = Jupyter.notebook.get_cells();\n",
       "                for (var i = 0; i < nbb_cells.length; ++i) {\n",
       "                    if (nbb_cells[i].input_prompt_number == nbb_cell_id) {\n",
       "                        if (nbb_cells[i].get_text() == nbb_unformatted_code) {\n",
       "                             nbb_cells[i].set_text(nbb_formatted_code);\n",
       "                        }\n",
       "                        break;\n",
       "                    }\n",
       "                }\n",
       "            }, 500);\n",
       "            "
      ],
      "text/plain": [
       "<IPython.core.display.Javascript object>"
      ]
     },
     "metadata": {},
     "output_type": "display_data"
    }
   ],
   "source": [
    "df = df.sort_values(by=\"Date\")"
   ]
  },
  {
   "cell_type": "markdown",
   "metadata": {},
   "source": [
    "## Saving the dataset"
   ]
  },
  {
   "cell_type": "markdown",
   "metadata": {},
   "source": [
    "<h3>Saving for modelling</h3>"
   ]
  },
  {
   "cell_type": "code",
   "execution_count": 10,
   "metadata": {},
   "outputs": [
    {
     "data": {
      "application/javascript": [
       "\n",
       "            setTimeout(function() {\n",
       "                var nbb_cell_id = 10;\n",
       "                var nbb_unformatted_code = \"df.to_csv(\\\"../../../data/processed/partner_i-Oficial/clinker.csv\\\", index=False)\";\n",
       "                var nbb_formatted_code = \"df.to_csv(\\\"../../../data/processed/partner_i-Oficial/clinker.csv\\\", index=False)\";\n",
       "                var nbb_cells = Jupyter.notebook.get_cells();\n",
       "                for (var i = 0; i < nbb_cells.length; ++i) {\n",
       "                    if (nbb_cells[i].input_prompt_number == nbb_cell_id) {\n",
       "                        if (nbb_cells[i].get_text() == nbb_unformatted_code) {\n",
       "                             nbb_cells[i].set_text(nbb_formatted_code);\n",
       "                        }\n",
       "                        break;\n",
       "                    }\n",
       "                }\n",
       "            }, 500);\n",
       "            "
      ],
      "text/plain": [
       "<IPython.core.display.Javascript object>"
      ]
     },
     "metadata": {},
     "output_type": "display_data"
    }
   ],
   "source": [
    "df.to_csv(\"../../../data/processed/partner_i-Oficial/clinker.csv\", index=False)"
   ]
  },
  {
   "cell_type": "code",
   "execution_count": null,
   "metadata": {},
   "outputs": [],
   "source": []
  }
 ],
 "metadata": {
  "kernelspec": {
   "display_name": "Python3 (ccs28-venv)",
   "language": "python",
   "name": "ccs28-venv"
  },
  "language_info": {
   "codemirror_mode": {
    "name": "ipython",
    "version": 3
   },
   "file_extension": ".py",
   "mimetype": "text/x-python",
   "name": "python",
   "nbconvert_exporter": "python",
   "pygments_lexer": "ipython3",
   "version": "3.6.9"
  }
 },
 "nbformat": 4,
 "nbformat_minor": 2
}
