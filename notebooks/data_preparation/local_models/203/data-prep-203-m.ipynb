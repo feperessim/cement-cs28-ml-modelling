{
 "cells": [
  {
   "cell_type": "code",
   "execution_count": 1,
   "id": "9ea25e7b",
   "metadata": {},
   "outputs": [
    {
     "data": {
      "application/javascript": [
       "\n",
       "            setTimeout(function() {\n",
       "                var nbb_cell_id = 1;\n",
       "                var nbb_unformatted_code = \"%load_ext nb_black\";\n",
       "                var nbb_formatted_code = \"%load_ext nb_black\";\n",
       "                var nbb_cells = Jupyter.notebook.get_cells();\n",
       "                for (var i = 0; i < nbb_cells.length; ++i) {\n",
       "                    if (nbb_cells[i].input_prompt_number == nbb_cell_id) {\n",
       "                        if (nbb_cells[i].get_text() == nbb_unformatted_code) {\n",
       "                             nbb_cells[i].set_text(nbb_formatted_code);\n",
       "                        }\n",
       "                        break;\n",
       "                    }\n",
       "                }\n",
       "            }, 500);\n",
       "            "
      ],
      "text/plain": [
       "<IPython.core.display.Javascript object>"
      ]
     },
     "metadata": {},
     "output_type": "display_data"
    }
   ],
   "source": [
    "%load_ext nb_black"
   ]
  },
  {
   "cell_type": "code",
   "execution_count": 2,
   "id": "2e760ffc",
   "metadata": {},
   "outputs": [
    {
     "data": {
      "application/javascript": [
       "\n",
       "            setTimeout(function() {\n",
       "                var nbb_cell_id = 2;\n",
       "                var nbb_unformatted_code = \"import pandas as pd\\nimport numpy as np\";\n",
       "                var nbb_formatted_code = \"import pandas as pd\\nimport numpy as np\";\n",
       "                var nbb_cells = Jupyter.notebook.get_cells();\n",
       "                for (var i = 0; i < nbb_cells.length; ++i) {\n",
       "                    if (nbb_cells[i].input_prompt_number == nbb_cell_id) {\n",
       "                        if (nbb_cells[i].get_text() == nbb_unformatted_code) {\n",
       "                             nbb_cells[i].set_text(nbb_formatted_code);\n",
       "                        }\n",
       "                        break;\n",
       "                    }\n",
       "                }\n",
       "            }, 500);\n",
       "            "
      ],
      "text/plain": [
       "<IPython.core.display.Javascript object>"
      ]
     },
     "metadata": {},
     "output_type": "display_data"
    }
   ],
   "source": [
    "import pandas as pd\n",
    "import numpy as np"
   ]
  },
  {
   "cell_type": "code",
   "execution_count": 3,
   "id": "b6574d25",
   "metadata": {},
   "outputs": [
    {
     "data": {
      "application/javascript": [
       "\n",
       "            setTimeout(function() {\n",
       "                var nbb_cell_id = 3;\n",
       "                var nbb_unformatted_code = \"def convert_to_float(value):\\n    try:\\n        # If it's a string enclosed in single quotes, remove quotes and replace comma with dot\\n        if isinstance(value, str):\\n            return float(value.replace(\\\",\\\", \\\".\\\"))\\n        else:\\n            return float(value)\\n    except ValueError as e:\\n        print(e)\\n        return float(\\\"nan\\\")\";\n",
       "                var nbb_formatted_code = \"def convert_to_float(value):\\n    try:\\n        # If it's a string enclosed in single quotes, remove quotes and replace comma with dot\\n        if isinstance(value, str):\\n            return float(value.replace(\\\",\\\", \\\".\\\"))\\n        else:\\n            return float(value)\\n    except ValueError as e:\\n        print(e)\\n        return float(\\\"nan\\\")\";\n",
       "                var nbb_cells = Jupyter.notebook.get_cells();\n",
       "                for (var i = 0; i < nbb_cells.length; ++i) {\n",
       "                    if (nbb_cells[i].input_prompt_number == nbb_cell_id) {\n",
       "                        if (nbb_cells[i].get_text() == nbb_unformatted_code) {\n",
       "                             nbb_cells[i].set_text(nbb_formatted_code);\n",
       "                        }\n",
       "                        break;\n",
       "                    }\n",
       "                }\n",
       "            }, 500);\n",
       "            "
      ],
      "text/plain": [
       "<IPython.core.display.Javascript object>"
      ]
     },
     "metadata": {},
     "output_type": "display_data"
    }
   ],
   "source": [
    "def convert_to_float(value):\n",
    "    try:\n",
    "        # If it's a string enclosed in single quotes, remove quotes and replace comma with dot\n",
    "        if isinstance(value, str):\n",
    "            return float(value.replace(\",\", \".\"))\n",
    "        else:\n",
    "            return float(value)\n",
    "    except ValueError as e:\n",
    "        print(e)\n",
    "        return float(\"nan\")"
   ]
  },
  {
   "cell_type": "markdown",
   "id": "09a2eab1",
   "metadata": {},
   "source": [
    "## Reading the dataset"
   ]
  },
  {
   "cell_type": "code",
   "execution_count": 4,
   "id": "fa456d83",
   "metadata": {},
   "outputs": [
    {
     "data": {
      "application/javascript": [
       "\n",
       "            setTimeout(function() {\n",
       "                var nbb_cell_id = 4;\n",
       "                var nbb_unformatted_code = \"plant = \\\"M\\\"\\n\\nxls = pd.ExcelFile(\\n    f\\\"../../../../data/raw/203/EMBRAPII hubIC IACC_CIMENTO_{plant}.xlsx\\\",\\n    engine=\\\"openpyxl\\\",\\n)\";\n",
       "                var nbb_formatted_code = \"plant = \\\"M\\\"\\n\\nxls = pd.ExcelFile(\\n    f\\\"../../../../data/raw/203/EMBRAPII hubIC IACC_CIMENTO_{plant}.xlsx\\\",\\n    engine=\\\"openpyxl\\\",\\n)\";\n",
       "                var nbb_cells = Jupyter.notebook.get_cells();\n",
       "                for (var i = 0; i < nbb_cells.length; ++i) {\n",
       "                    if (nbb_cells[i].input_prompt_number == nbb_cell_id) {\n",
       "                        if (nbb_cells[i].get_text() == nbb_unformatted_code) {\n",
       "                             nbb_cells[i].set_text(nbb_formatted_code);\n",
       "                        }\n",
       "                        break;\n",
       "                    }\n",
       "                }\n",
       "            }, 500);\n",
       "            "
      ],
      "text/plain": [
       "<IPython.core.display.Javascript object>"
      ]
     },
     "metadata": {},
     "output_type": "display_data"
    }
   ],
   "source": [
    "plant = \"M\"\n",
    "\n",
    "xls = pd.ExcelFile(\n",
    "    f\"../../../../data/raw/203/EMBRAPII hubIC IACC_CIMENTO_{plant}.xlsx\",\n",
    "    engine=\"openpyxl\",\n",
    ")"
   ]
  },
  {
   "cell_type": "code",
   "execution_count": 5,
   "id": "0e056788",
   "metadata": {},
   "outputs": [
    {
     "data": {
      "application/javascript": [
       "\n",
       "            setTimeout(function() {\n",
       "                var nbb_cell_id = 5;\n",
       "                var nbb_unformatted_code = \"dataframes = []\\n\\nfor sheet_name in xls.sheet_names[1:]:\\n    df = pd.read_excel(xls, sheet_name, header=[0, 1, 2])\\n    dataframes.append(df.drop([0, 1], axis=0).reset_index(drop=True).copy())\\n\\ndf = pd.concat(dataframes, axis=0).reset_index(drop=True)\";\n",
       "                var nbb_formatted_code = \"dataframes = []\\n\\nfor sheet_name in xls.sheet_names[1:]:\\n    df = pd.read_excel(xls, sheet_name, header=[0, 1, 2])\\n    dataframes.append(df.drop([0, 1], axis=0).reset_index(drop=True).copy())\\n\\ndf = pd.concat(dataframes, axis=0).reset_index(drop=True)\";\n",
       "                var nbb_cells = Jupyter.notebook.get_cells();\n",
       "                for (var i = 0; i < nbb_cells.length; ++i) {\n",
       "                    if (nbb_cells[i].input_prompt_number == nbb_cell_id) {\n",
       "                        if (nbb_cells[i].get_text() == nbb_unformatted_code) {\n",
       "                             nbb_cells[i].set_text(nbb_formatted_code);\n",
       "                        }\n",
       "                        break;\n",
       "                    }\n",
       "                }\n",
       "            }, 500);\n",
       "            "
      ],
      "text/plain": [
       "<IPython.core.display.Javascript object>"
      ]
     },
     "metadata": {},
     "output_type": "display_data"
    }
   ],
   "source": [
    "dataframes = []\n",
    "\n",
    "for sheet_name in xls.sheet_names[1:]:\n",
    "    df = pd.read_excel(xls, sheet_name, header=[0, 1, 2])\n",
    "    dataframes.append(df.drop([0, 1], axis=0).reset_index(drop=True).copy())\n",
    "\n",
    "df = pd.concat(dataframes, axis=0).reset_index(drop=True)"
   ]
  },
  {
   "cell_type": "markdown",
   "id": "89cce6a5",
   "metadata": {},
   "source": [
    "## Initial Preprocessing"
   ]
  },
  {
   "cell_type": "code",
   "execution_count": 6,
   "id": "4ac53a7f",
   "metadata": {},
   "outputs": [
    {
     "data": {
      "application/javascript": [
       "\n",
       "            setTimeout(function() {\n",
       "                var nbb_cell_id = 6;\n",
       "                var nbb_unformatted_code = \"df = pd.concat(\\n    [\\n        df[\\\"Dados iniciais\\\"],\\n        df[\\\"Cimento\\\"][\\\"An\\u00e1lise qu\\u00edmica\\\"],\\n        df[\\\"Caracter\\u00edstias f\\u00edsicas do cimento\\\"],\\n        df[\\\"Propriedades do cimento\\\"],\\n    ],\\n    axis=1,\\n)\";\n",
       "                var nbb_formatted_code = \"df = pd.concat(\\n    [\\n        df[\\\"Dados iniciais\\\"],\\n        df[\\\"Cimento\\\"][\\\"An\\u00e1lise qu\\u00edmica\\\"],\\n        df[\\\"Caracter\\u00edstias f\\u00edsicas do cimento\\\"],\\n        df[\\\"Propriedades do cimento\\\"],\\n    ],\\n    axis=1,\\n)\";\n",
       "                var nbb_cells = Jupyter.notebook.get_cells();\n",
       "                for (var i = 0; i < nbb_cells.length; ++i) {\n",
       "                    if (nbb_cells[i].input_prompt_number == nbb_cell_id) {\n",
       "                        if (nbb_cells[i].get_text() == nbb_unformatted_code) {\n",
       "                             nbb_cells[i].set_text(nbb_formatted_code);\n",
       "                        }\n",
       "                        break;\n",
       "                    }\n",
       "                }\n",
       "            }, 500);\n",
       "            "
      ],
      "text/plain": [
       "<IPython.core.display.Javascript object>"
      ]
     },
     "metadata": {},
     "output_type": "display_data"
    }
   ],
   "source": [
    "df = pd.concat(\n",
    "    [\n",
    "        df[\"Dados iniciais\"],\n",
    "        df[\"Cimento\"][\"Análise química\"],\n",
    "        df[\"Característias físicas do cimento\"],\n",
    "        df[\"Propriedades do cimento\"],\n",
    "    ],\n",
    "    axis=1,\n",
    ")"
   ]
  },
  {
   "cell_type": "markdown",
   "id": "a59fbffb",
   "metadata": {},
   "source": [
    "### 1. Dropping columns where either there is no data nor it contributes to the analysis\n",
    "### 2. Renaming columns to a short identifiable name "
   ]
  },
  {
   "cell_type": "code",
   "execution_count": 7,
   "id": "2413a127",
   "metadata": {},
   "outputs": [
    {
     "data": {
      "application/javascript": [
       "\n",
       "            setTimeout(function() {\n",
       "                var nbb_cell_id = 7;\n",
       "                var nbb_unformatted_code = \"COLUMNS_TO_DROP = [\\n    (\\\"Data\\\", \\\"Produ\\u00e7\\u00e3o\\\"),\\n    (\\\"Hor\\u00e1rio\\\", \\\"Produ\\u00e7\\u00e3o\\\"),\\n    (\\\"Hor\\u00e1rio\\\", \\\"Medida\\\"),\\n    (\\\"Obs.\\\", \\\"Unnamed: 148_level_2\\\"),\\n    (\\\"Tipo de cimento\\\", \\\"Unnamed: 6_level_2\\\"),\\n    (\\\"Classe de resist\\u00eancia\\\", \\\"Unnamed: 7_level_2\\\"),\\n    (\\\"Obs.\\\", \\\"Unnamed: 8_level_2\\\"),\\n    \\\"Obs.\\\",\\n    (\\\"Obs.\\\", \\\"Unnamed: 148_level_2\\\"),\\n    (\\\"Unnamed: 141_level_1\\\", \\\"Obs.\\\"),\\n    (\\\"Unnamed: 139_level_1\\\", \\\"#400\\\"),\\n]\\n\\nCOLUMNS_TO_RENAME = {\\n    (\\\"Cidade\\\", \\\"Unnamed: 1_level_2\\\"): \\\"Plant\\\",\\n    (\\\"Data\\\", \\\"Medida\\\"): \\\"Date\\\",\\n    (\\\"Unnamed: 136_level_1\\\", \\\"Blaine\\\"): \\\"Blaine\\\",\\n    (\\\"Unnamed: 137_level_1\\\", \\\"#200\\\"): \\\"#200\\\",\\n    (\\\"Unnamed: 138_level_1\\\", \\\"#325\\\"): \\\"#325\\\",\\n    (\\\"Unnamed: 139_level_1\\\", \\\"#400\\\"): \\\"#400\\\",\\n    (\\\"Unnamed: 140_level_1\\\", \\\"Massa espec\\u00edfica\\\"): \\\"Specific Gravity\\\",\\n    (\\\"Tempo de pega\\\", \\\"Fim\\\"): \\\"Final setting time\\\",\\n    (\\\"Tempo de pega\\\", \\\"Inicio\\\"): \\\"Initial setting time\\\",\\n    (\\\"Resist\\u00eancia \\u00e0 compress\\u00e3o\\\", \\\"1 d\\\"): \\\"CS1\\\",\\n    (\\\"Resist\\u00eancia \\u00e0 compress\\u00e3o\\\", \\\"3 d\\\"): \\\"CS3\\\",\\n    (\\\"Resist\\u00eancia \\u00e0 compress\\u00e3o\\\", \\\"7 d\\\"): \\\"CS7\\\",\\n    (\\\"Resist\\u00eancia \\u00e0 compress\\u00e3o\\\", \\\"28 d\\\"): \\\"CS28\\\",\\n    \\\"Perda ao fogo\\\": \\\"Loss on Ignition\\\",\\n    \\\"Res\\u00edduo insol\\u00favel\\\": \\\"Insoluble Residue\\\",\\n}\";\n",
       "                var nbb_formatted_code = \"COLUMNS_TO_DROP = [\\n    (\\\"Data\\\", \\\"Produ\\u00e7\\u00e3o\\\"),\\n    (\\\"Hor\\u00e1rio\\\", \\\"Produ\\u00e7\\u00e3o\\\"),\\n    (\\\"Hor\\u00e1rio\\\", \\\"Medida\\\"),\\n    (\\\"Obs.\\\", \\\"Unnamed: 148_level_2\\\"),\\n    (\\\"Tipo de cimento\\\", \\\"Unnamed: 6_level_2\\\"),\\n    (\\\"Classe de resist\\u00eancia\\\", \\\"Unnamed: 7_level_2\\\"),\\n    (\\\"Obs.\\\", \\\"Unnamed: 8_level_2\\\"),\\n    \\\"Obs.\\\",\\n    (\\\"Obs.\\\", \\\"Unnamed: 148_level_2\\\"),\\n    (\\\"Unnamed: 141_level_1\\\", \\\"Obs.\\\"),\\n    (\\\"Unnamed: 139_level_1\\\", \\\"#400\\\"),\\n]\\n\\nCOLUMNS_TO_RENAME = {\\n    (\\\"Cidade\\\", \\\"Unnamed: 1_level_2\\\"): \\\"Plant\\\",\\n    (\\\"Data\\\", \\\"Medida\\\"): \\\"Date\\\",\\n    (\\\"Unnamed: 136_level_1\\\", \\\"Blaine\\\"): \\\"Blaine\\\",\\n    (\\\"Unnamed: 137_level_1\\\", \\\"#200\\\"): \\\"#200\\\",\\n    (\\\"Unnamed: 138_level_1\\\", \\\"#325\\\"): \\\"#325\\\",\\n    (\\\"Unnamed: 139_level_1\\\", \\\"#400\\\"): \\\"#400\\\",\\n    (\\\"Unnamed: 140_level_1\\\", \\\"Massa espec\\u00edfica\\\"): \\\"Specific Gravity\\\",\\n    (\\\"Tempo de pega\\\", \\\"Fim\\\"): \\\"Final setting time\\\",\\n    (\\\"Tempo de pega\\\", \\\"Inicio\\\"): \\\"Initial setting time\\\",\\n    (\\\"Resist\\u00eancia \\u00e0 compress\\u00e3o\\\", \\\"1 d\\\"): \\\"CS1\\\",\\n    (\\\"Resist\\u00eancia \\u00e0 compress\\u00e3o\\\", \\\"3 d\\\"): \\\"CS3\\\",\\n    (\\\"Resist\\u00eancia \\u00e0 compress\\u00e3o\\\", \\\"7 d\\\"): \\\"CS7\\\",\\n    (\\\"Resist\\u00eancia \\u00e0 compress\\u00e3o\\\", \\\"28 d\\\"): \\\"CS28\\\",\\n    \\\"Perda ao fogo\\\": \\\"Loss on Ignition\\\",\\n    \\\"Res\\u00edduo insol\\u00favel\\\": \\\"Insoluble Residue\\\",\\n}\";\n",
       "                var nbb_cells = Jupyter.notebook.get_cells();\n",
       "                for (var i = 0; i < nbb_cells.length; ++i) {\n",
       "                    if (nbb_cells[i].input_prompt_number == nbb_cell_id) {\n",
       "                        if (nbb_cells[i].get_text() == nbb_unformatted_code) {\n",
       "                             nbb_cells[i].set_text(nbb_formatted_code);\n",
       "                        }\n",
       "                        break;\n",
       "                    }\n",
       "                }\n",
       "            }, 500);\n",
       "            "
      ],
      "text/plain": [
       "<IPython.core.display.Javascript object>"
      ]
     },
     "metadata": {},
     "output_type": "display_data"
    }
   ],
   "source": [
    "COLUMNS_TO_DROP = [\n",
    "    (\"Data\", \"Produção\"),\n",
    "    (\"Horário\", \"Produção\"),\n",
    "    (\"Horário\", \"Medida\"),\n",
    "    (\"Obs.\", \"Unnamed: 148_level_2\"),\n",
    "    (\"Tipo de cimento\", \"Unnamed: 6_level_2\"),\n",
    "    (\"Classe de resistência\", \"Unnamed: 7_level_2\"),\n",
    "    (\"Obs.\", \"Unnamed: 8_level_2\"),\n",
    "    \"Obs.\",\n",
    "    (\"Obs.\", \"Unnamed: 148_level_2\"),\n",
    "    (\"Unnamed: 141_level_1\", \"Obs.\"),\n",
    "    (\"Unnamed: 139_level_1\", \"#400\"),\n",
    "]\n",
    "\n",
    "COLUMNS_TO_RENAME = {\n",
    "    (\"Cidade\", \"Unnamed: 1_level_2\"): \"Plant\",\n",
    "    (\"Data\", \"Medida\"): \"Date\",\n",
    "    (\"Unnamed: 136_level_1\", \"Blaine\"): \"Blaine\",\n",
    "    (\"Unnamed: 137_level_1\", \"#200\"): \"#200\",\n",
    "    (\"Unnamed: 138_level_1\", \"#325\"): \"#325\",\n",
    "    (\"Unnamed: 139_level_1\", \"#400\"): \"#400\",\n",
    "    (\"Unnamed: 140_level_1\", \"Massa específica\"): \"Specific Gravity\",\n",
    "    (\"Tempo de pega\", \"Fim\"): \"Final setting time\",\n",
    "    (\"Tempo de pega\", \"Inicio\"): \"Initial setting time\",\n",
    "    (\"Resistência à compressão\", \"1 d\"): \"CS1\",\n",
    "    (\"Resistência à compressão\", \"3 d\"): \"CS3\",\n",
    "    (\"Resistência à compressão\", \"7 d\"): \"CS7\",\n",
    "    (\"Resistência à compressão\", \"28 d\"): \"CS28\",\n",
    "    \"Perda ao fogo\": \"Loss on Ignition\",\n",
    "    \"Resíduo insolúvel\": \"Insoluble Residue\",\n",
    "}"
   ]
  },
  {
   "cell_type": "markdown",
   "id": "63357665",
   "metadata": {},
   "source": [
    "### Defining a single variable to identify Cement Type"
   ]
  },
  {
   "cell_type": "code",
   "execution_count": 8,
   "id": "03735241",
   "metadata": {},
   "outputs": [
    {
     "data": {
      "application/javascript": [
       "\n",
       "            setTimeout(function() {\n",
       "                var nbb_cell_id = 8;\n",
       "                var nbb_unformatted_code = \"df[\\\"Cement_Type\\\"] = (\\n    df[\\n        [\\n            (\\\"Tipo de cimento\\\", \\\"Unnamed: 6_level_2\\\"),\\n            (\\\"Classe de resist\\u00eancia\\\", \\\"Unnamed: 7_level_2\\\"),\\n            (\\\"Obs.\\\", \\\"Unnamed: 8_level_2\\\"),\\n        ]\\n    ]\\n    .fillna(\\\"\\\")\\n    .astype(str)\\n    .sum(axis=1)\\n)\";\n",
       "                var nbb_formatted_code = \"df[\\\"Cement_Type\\\"] = (\\n    df[\\n        [\\n            (\\\"Tipo de cimento\\\", \\\"Unnamed: 6_level_2\\\"),\\n            (\\\"Classe de resist\\u00eancia\\\", \\\"Unnamed: 7_level_2\\\"),\\n            (\\\"Obs.\\\", \\\"Unnamed: 8_level_2\\\"),\\n        ]\\n    ]\\n    .fillna(\\\"\\\")\\n    .astype(str)\\n    .sum(axis=1)\\n)\";\n",
       "                var nbb_cells = Jupyter.notebook.get_cells();\n",
       "                for (var i = 0; i < nbb_cells.length; ++i) {\n",
       "                    if (nbb_cells[i].input_prompt_number == nbb_cell_id) {\n",
       "                        if (nbb_cells[i].get_text() == nbb_unformatted_code) {\n",
       "                             nbb_cells[i].set_text(nbb_formatted_code);\n",
       "                        }\n",
       "                        break;\n",
       "                    }\n",
       "                }\n",
       "            }, 500);\n",
       "            "
      ],
      "text/plain": [
       "<IPython.core.display.Javascript object>"
      ]
     },
     "metadata": {},
     "output_type": "display_data"
    }
   ],
   "source": [
    "df[\"Cement_Type\"] = (\n",
    "    df[\n",
    "        [\n",
    "            (\"Tipo de cimento\", \"Unnamed: 6_level_2\"),\n",
    "            (\"Classe de resistência\", \"Unnamed: 7_level_2\"),\n",
    "            (\"Obs.\", \"Unnamed: 8_level_2\"),\n",
    "        ]\n",
    "    ]\n",
    "    .fillna(\"\")\n",
    "    .astype(str)\n",
    "    .sum(axis=1)\n",
    ")"
   ]
  },
  {
   "cell_type": "markdown",
   "id": "0657871f",
   "metadata": {},
   "source": [
    "### Replacing the current cement type categories for a short identifiable category"
   ]
  },
  {
   "cell_type": "code",
   "execution_count": 9,
   "id": "72cc3eb8",
   "metadata": {},
   "outputs": [
    {
     "data": {
      "application/javascript": [
       "\n",
       "            setTimeout(function() {\n",
       "                var nbb_cell_id = 9;\n",
       "                var nbb_unformatted_code = \"# Preprocessing\\ndf[\\\"Cement_Type\\\"] = df[\\\"Cement_Type\\\"].replace(\\\"FIBROCMENTO\\\", \\\"Fibrocimento\\\")\\ndf[\\\"Cement_Type\\\"] = df[\\\"Cement_Type\\\"].replace(\\\"CP VARIEnsacado\\\", \\\"CP VARI\\\")\\ndf[\\\"Cement_Type\\\"] = df[\\\"Cement_Type\\\"].replace(\\\"CP VARIGranel\\\", \\\"CP VARI\\\")\\ndf[\\\"Cement_Type\\\"] = df[\\\"Cement_Type\\\"].replace(\\\"CP III40Ensacado\\\", \\\"CP III40\\\")\\ndf[\\\"Cement_Type\\\"] = df[\\\"Cement_Type\\\"].replace(\\\"CP III40Granel\\\", \\\"CP III40\\\")\\ndf[\\\"Cement_Type\\\"] = df[\\\"Cement_Type\\\"].replace(\\\"CP VARIRS\\\", \\\"CP VARI\\\")\";\n",
       "                var nbb_formatted_code = \"# Preprocessing\\ndf[\\\"Cement_Type\\\"] = df[\\\"Cement_Type\\\"].replace(\\\"FIBROCMENTO\\\", \\\"Fibrocimento\\\")\\ndf[\\\"Cement_Type\\\"] = df[\\\"Cement_Type\\\"].replace(\\\"CP VARIEnsacado\\\", \\\"CP VARI\\\")\\ndf[\\\"Cement_Type\\\"] = df[\\\"Cement_Type\\\"].replace(\\\"CP VARIGranel\\\", \\\"CP VARI\\\")\\ndf[\\\"Cement_Type\\\"] = df[\\\"Cement_Type\\\"].replace(\\\"CP III40Ensacado\\\", \\\"CP III40\\\")\\ndf[\\\"Cement_Type\\\"] = df[\\\"Cement_Type\\\"].replace(\\\"CP III40Granel\\\", \\\"CP III40\\\")\\ndf[\\\"Cement_Type\\\"] = df[\\\"Cement_Type\\\"].replace(\\\"CP VARIRS\\\", \\\"CP VARI\\\")\";\n",
       "                var nbb_cells = Jupyter.notebook.get_cells();\n",
       "                for (var i = 0; i < nbb_cells.length; ++i) {\n",
       "                    if (nbb_cells[i].input_prompt_number == nbb_cell_id) {\n",
       "                        if (nbb_cells[i].get_text() == nbb_unformatted_code) {\n",
       "                             nbb_cells[i].set_text(nbb_formatted_code);\n",
       "                        }\n",
       "                        break;\n",
       "                    }\n",
       "                }\n",
       "            }, 500);\n",
       "            "
      ],
      "text/plain": [
       "<IPython.core.display.Javascript object>"
      ]
     },
     "metadata": {},
     "output_type": "display_data"
    }
   ],
   "source": [
    "# Preprocessing\n",
    "df[\"Cement_Type\"] = df[\"Cement_Type\"].replace(\"FIBROCMENTO\", \"Fibrocimento\")\n",
    "df[\"Cement_Type\"] = df[\"Cement_Type\"].replace(\"CP VARIEnsacado\", \"CP VARI\")\n",
    "df[\"Cement_Type\"] = df[\"Cement_Type\"].replace(\"CP VARIGranel\", \"CP VARI\")\n",
    "df[\"Cement_Type\"] = df[\"Cement_Type\"].replace(\"CP III40Ensacado\", \"CP III40\")\n",
    "df[\"Cement_Type\"] = df[\"Cement_Type\"].replace(\"CP III40Granel\", \"CP III40\")\n",
    "df[\"Cement_Type\"] = df[\"Cement_Type\"].replace(\"CP VARIRS\", \"CP VARI\")"
   ]
  },
  {
   "cell_type": "markdown",
   "id": "3cd0861e",
   "metadata": {},
   "source": [
    "### Dropping and rename the columns defined above"
   ]
  },
  {
   "cell_type": "code",
   "execution_count": 10,
   "id": "6d01cce8",
   "metadata": {},
   "outputs": [
    {
     "data": {
      "application/javascript": [
       "\n",
       "            setTimeout(function() {\n",
       "                var nbb_cell_id = 10;\n",
       "                var nbb_unformatted_code = \"df = df.drop(COLUMNS_TO_DROP, axis=1).rename(COLUMNS_TO_RENAME, axis=1).copy()\\ndf = df.infer_objects()\";\n",
       "                var nbb_formatted_code = \"df = df.drop(COLUMNS_TO_DROP, axis=1).rename(COLUMNS_TO_RENAME, axis=1).copy()\\ndf = df.infer_objects()\";\n",
       "                var nbb_cells = Jupyter.notebook.get_cells();\n",
       "                for (var i = 0; i < nbb_cells.length; ++i) {\n",
       "                    if (nbb_cells[i].input_prompt_number == nbb_cell_id) {\n",
       "                        if (nbb_cells[i].get_text() == nbb_unformatted_code) {\n",
       "                             nbb_cells[i].set_text(nbb_formatted_code);\n",
       "                        }\n",
       "                        break;\n",
       "                    }\n",
       "                }\n",
       "            }, 500);\n",
       "            "
      ],
      "text/plain": [
       "<IPython.core.display.Javascript object>"
      ]
     },
     "metadata": {},
     "output_type": "display_data"
    }
   ],
   "source": [
    "df = df.drop(COLUMNS_TO_DROP, axis=1).rename(COLUMNS_TO_RENAME, axis=1).copy()\n",
    "df = df.infer_objects()"
   ]
  },
  {
   "cell_type": "markdown",
   "id": "b8ea45fa",
   "metadata": {},
   "source": [
    "### Clean and converting numeric columns to float"
   ]
  },
  {
   "cell_type": "code",
   "execution_count": 11,
   "id": "7823ae44",
   "metadata": {},
   "outputs": [
    {
     "name": "stdout",
     "output_type": "stream",
     "text": [
      "could not convert string to float: '-'\n",
      "could not convert string to float: '-'\n",
      "could not convert string to float: '-'\n",
      "could not convert string to float: '-'\n",
      "could not convert string to float: '-'\n",
      "could not convert string to float: '-'\n",
      "could not convert string to float: '-'\n",
      "could not convert string to float: '-'\n",
      "could not convert string to float: '1..10'\n",
      "could not convert string to float: '  '\n",
      "could not convert string to float: ' '\n",
      "could not convert string to float: '1.6.0'\n",
      "could not convert string to float: '-'\n",
      "could not convert string to float: '-'\n",
      "could not convert string to float: ' '\n",
      "could not convert string to float: '145 *'\n",
      "could not convert string to float: ' '\n"
     ]
    },
    {
     "data": {
      "application/javascript": [
       "\n",
       "            setTimeout(function() {\n",
       "                var nbb_cell_id = 11;\n",
       "                var nbb_unformatted_code = \"NUMERIC_COLUMNS = [\\n    \\\"CaO\\\",\\n    \\\"MgO\\\",\\n    \\\"Na2O\\\",\\n    \\\"Al2O3\\\",\\n    \\\"SiO2\\\",\\n    \\\"SO3\\\",\\n    \\\"K2O\\\",\\n    \\\"TiO2\\\",\\n    \\\"Fe2O3\\\",\\n    \\\"Loss on Ignition\\\",\\n    \\\"Insoluble Residue\\\",\\n    \\\"Blaine\\\",\\n    \\\"#200\\\",\\n    \\\"#325\\\",\\n    \\\"Specific Gravity\\\",\\n    \\\"Final setting time\\\",\\n    \\\"Initial setting time\\\",\\n    \\\"CS1\\\",\\n    \\\"CS3\\\",\\n    \\\"CS7\\\",\\n    \\\"CS28\\\",\\n]\\n\\ndf[NUMERIC_COLUMNS] = df[NUMERIC_COLUMNS].map(convert_to_float)\";\n",
       "                var nbb_formatted_code = \"NUMERIC_COLUMNS = [\\n    \\\"CaO\\\",\\n    \\\"MgO\\\",\\n    \\\"Na2O\\\",\\n    \\\"Al2O3\\\",\\n    \\\"SiO2\\\",\\n    \\\"SO3\\\",\\n    \\\"K2O\\\",\\n    \\\"TiO2\\\",\\n    \\\"Fe2O3\\\",\\n    \\\"Loss on Ignition\\\",\\n    \\\"Insoluble Residue\\\",\\n    \\\"Blaine\\\",\\n    \\\"#200\\\",\\n    \\\"#325\\\",\\n    \\\"Specific Gravity\\\",\\n    \\\"Final setting time\\\",\\n    \\\"Initial setting time\\\",\\n    \\\"CS1\\\",\\n    \\\"CS3\\\",\\n    \\\"CS7\\\",\\n    \\\"CS28\\\",\\n]\\n\\ndf[NUMERIC_COLUMNS] = df[NUMERIC_COLUMNS].map(convert_to_float)\";\n",
       "                var nbb_cells = Jupyter.notebook.get_cells();\n",
       "                for (var i = 0; i < nbb_cells.length; ++i) {\n",
       "                    if (nbb_cells[i].input_prompt_number == nbb_cell_id) {\n",
       "                        if (nbb_cells[i].get_text() == nbb_unformatted_code) {\n",
       "                             nbb_cells[i].set_text(nbb_formatted_code);\n",
       "                        }\n",
       "                        break;\n",
       "                    }\n",
       "                }\n",
       "            }, 500);\n",
       "            "
      ],
      "text/plain": [
       "<IPython.core.display.Javascript object>"
      ]
     },
     "metadata": {},
     "output_type": "display_data"
    }
   ],
   "source": [
    "NUMERIC_COLUMNS = [\n",
    "    \"CaO\",\n",
    "    \"MgO\",\n",
    "    \"Na2O\",\n",
    "    \"Al2O3\",\n",
    "    \"SiO2\",\n",
    "    \"SO3\",\n",
    "    \"K2O\",\n",
    "    \"TiO2\",\n",
    "    \"Fe2O3\",\n",
    "    \"Loss on Ignition\",\n",
    "    \"Insoluble Residue\",\n",
    "    \"Blaine\",\n",
    "    \"#200\",\n",
    "    \"#325\",\n",
    "    \"Specific Gravity\",\n",
    "    \"Final setting time\",\n",
    "    \"Initial setting time\",\n",
    "    \"CS1\",\n",
    "    \"CS3\",\n",
    "    \"CS7\",\n",
    "    \"CS28\",\n",
    "]\n",
    "\n",
    "df[NUMERIC_COLUMNS] = df[NUMERIC_COLUMNS].map(convert_to_float)"
   ]
  },
  {
   "cell_type": "markdown",
   "id": "a0e7e683",
   "metadata": {},
   "source": [
    "### Converting Date columns to pandas datetime"
   ]
  },
  {
   "cell_type": "code",
   "execution_count": 12,
   "id": "72e8b4a4",
   "metadata": {},
   "outputs": [
    {
     "data": {
      "application/javascript": [
       "\n",
       "            setTimeout(function() {\n",
       "                var nbb_cell_id = 12;\n",
       "                var nbb_unformatted_code = \"df[\\\"Date\\\"] = pd.to_datetime(df[\\\"Date\\\"])\";\n",
       "                var nbb_formatted_code = \"df[\\\"Date\\\"] = pd.to_datetime(df[\\\"Date\\\"])\";\n",
       "                var nbb_cells = Jupyter.notebook.get_cells();\n",
       "                for (var i = 0; i < nbb_cells.length; ++i) {\n",
       "                    if (nbb_cells[i].input_prompt_number == nbb_cell_id) {\n",
       "                        if (nbb_cells[i].get_text() == nbb_unformatted_code) {\n",
       "                             nbb_cells[i].set_text(nbb_formatted_code);\n",
       "                        }\n",
       "                        break;\n",
       "                    }\n",
       "                }\n",
       "            }, 500);\n",
       "            "
      ],
      "text/plain": [
       "<IPython.core.display.Javascript object>"
      ]
     },
     "metadata": {},
     "output_type": "display_data"
    }
   ],
   "source": [
    "df[\"Date\"] = pd.to_datetime(df[\"Date\"])"
   ]
  },
  {
   "cell_type": "markdown",
   "id": "5d3e540e",
   "metadata": {},
   "source": [
    "## Dropping missing features"
   ]
  },
  {
   "cell_type": "markdown",
   "id": "70450753",
   "metadata": {},
   "source": [
    "### Drop rows completely missing"
   ]
  },
  {
   "cell_type": "code",
   "execution_count": 13,
   "id": "ab641add",
   "metadata": {},
   "outputs": [
    {
     "data": {
      "application/javascript": [
       "\n",
       "            setTimeout(function() {\n",
       "                var nbb_cell_id = 13;\n",
       "                var nbb_unformatted_code = \"index_to_keep = (\\n    df.drop([\\\"Plant\\\", \\\"Date\\\", \\\"Cement_Type\\\"], axis=1).dropna(axis=0, how=\\\"all\\\").index\\n)\\ndf = df.iloc[index_to_keep].reset_index(drop=True)\";\n",
       "                var nbb_formatted_code = \"index_to_keep = (\\n    df.drop([\\\"Plant\\\", \\\"Date\\\", \\\"Cement_Type\\\"], axis=1).dropna(axis=0, how=\\\"all\\\").index\\n)\\ndf = df.iloc[index_to_keep].reset_index(drop=True)\";\n",
       "                var nbb_cells = Jupyter.notebook.get_cells();\n",
       "                for (var i = 0; i < nbb_cells.length; ++i) {\n",
       "                    if (nbb_cells[i].input_prompt_number == nbb_cell_id) {\n",
       "                        if (nbb_cells[i].get_text() == nbb_unformatted_code) {\n",
       "                             nbb_cells[i].set_text(nbb_formatted_code);\n",
       "                        }\n",
       "                        break;\n",
       "                    }\n",
       "                }\n",
       "            }, 500);\n",
       "            "
      ],
      "text/plain": [
       "<IPython.core.display.Javascript object>"
      ]
     },
     "metadata": {},
     "output_type": "display_data"
    }
   ],
   "source": [
    "index_to_keep = (\n",
    "    df.drop([\"Plant\", \"Date\", \"Cement_Type\"], axis=1).dropna(axis=0, how=\"all\").index\n",
    ")\n",
    "df = df.iloc[index_to_keep].reset_index(drop=True)"
   ]
  },
  {
   "cell_type": "markdown",
   "id": "6098d3f6",
   "metadata": {},
   "source": [
    "### Removing features\n",
    " that will be fitted on this data.\n",
    "\n",
    "1. Removing features with features having 60% or more of missing values\n",
    "2. Removing features with zero variance\n",
    "3. Removing features with more than 70% of zeros"
   ]
  },
  {
   "cell_type": "code",
   "execution_count": 14,
   "id": "1d5384a3",
   "metadata": {},
   "outputs": [
    {
     "data": {
      "text/html": [
       "<style type=\"text/css\">\n",
       "#T_6b001_row0_col0, #T_6b001_row1_col0, #T_6b001_row2_col0, #T_6b001_row3_col0, #T_6b001_row4_col0 {\n",
       "  background-color: #67000d;\n",
       "  color: #f1f1f1;\n",
       "}\n",
       "#T_6b001_row5_col0 {\n",
       "  background-color: #ad1117;\n",
       "  color: #f1f1f1;\n",
       "}\n",
       "#T_6b001_row6_col0 {\n",
       "  background-color: #f44f39;\n",
       "  color: #f1f1f1;\n",
       "}\n",
       "#T_6b001_row7_col0 {\n",
       "  background-color: #fcaf93;\n",
       "  color: #000000;\n",
       "}\n",
       "#T_6b001_row8_col0 {\n",
       "  background-color: #fcc1a8;\n",
       "  color: #000000;\n",
       "}\n",
       "#T_6b001_row9_col0 {\n",
       "  background-color: #fee1d3;\n",
       "  color: #000000;\n",
       "}\n",
       "#T_6b001_row10_col0 {\n",
       "  background-color: #fff2eb;\n",
       "  color: #000000;\n",
       "}\n",
       "#T_6b001_row11_col0, #T_6b001_row12_col0, #T_6b001_row13_col0, #T_6b001_row14_col0, #T_6b001_row15_col0 {\n",
       "  background-color: #fff3ed;\n",
       "  color: #000000;\n",
       "}\n",
       "#T_6b001_row16_col0, #T_6b001_row17_col0 {\n",
       "  background-color: #fff4ef;\n",
       "  color: #000000;\n",
       "}\n",
       "#T_6b001_row18_col0, #T_6b001_row19_col0, #T_6b001_row20_col0, #T_6b001_row21_col0, #T_6b001_row22_col0, #T_6b001_row23_col0 {\n",
       "  background-color: #fff5f0;\n",
       "  color: #000000;\n",
       "}\n",
       "</style>\n",
       "<table id=\"T_6b001\">\n",
       "  <thead>\n",
       "    <tr>\n",
       "      <th class=\"blank level0\" >&nbsp;</th>\n",
       "      <th id=\"T_6b001_level0_col0\" class=\"col_heading level0 col0\" >Missing (%)</th>\n",
       "    </tr>\n",
       "  </thead>\n",
       "  <tbody>\n",
       "    <tr>\n",
       "      <th id=\"T_6b001_level0_row0\" class=\"row_heading level0 row0\" >Fe2O3</th>\n",
       "      <td id=\"T_6b001_row0_col0\" class=\"data row0 col0\" >100.000000</td>\n",
       "    </tr>\n",
       "    <tr>\n",
       "      <th id=\"T_6b001_level0_row1\" class=\"row_heading level0 row1\" >SiO2</th>\n",
       "      <td id=\"T_6b001_row1_col0\" class=\"data row1 col0\" >100.000000</td>\n",
       "    </tr>\n",
       "    <tr>\n",
       "      <th id=\"T_6b001_level0_row2\" class=\"row_heading level0 row2\" >CaO</th>\n",
       "      <td id=\"T_6b001_row2_col0\" class=\"data row2 col0\" >100.000000</td>\n",
       "    </tr>\n",
       "    <tr>\n",
       "      <th id=\"T_6b001_level0_row3\" class=\"row_heading level0 row3\" >TiO2</th>\n",
       "      <td id=\"T_6b001_row3_col0\" class=\"data row3 col0\" >100.000000</td>\n",
       "    </tr>\n",
       "    <tr>\n",
       "      <th id=\"T_6b001_level0_row4\" class=\"row_heading level0 row4\" >Al2O3</th>\n",
       "      <td id=\"T_6b001_row4_col0\" class=\"data row4 col0\" >100.000000</td>\n",
       "    </tr>\n",
       "    <tr>\n",
       "      <th id=\"T_6b001_level0_row5\" class=\"row_heading level0 row5\" >Specific Gravity</th>\n",
       "      <td id=\"T_6b001_row5_col0\" class=\"data row5 col0\" >84.710412</td>\n",
       "    </tr>\n",
       "    <tr>\n",
       "      <th id=\"T_6b001_level0_row6\" class=\"row_heading level0 row6\" >Insoluble Residue</th>\n",
       "      <td id=\"T_6b001_row6_col0\" class=\"data row6 col0\" >57.099310</td>\n",
       "    </tr>\n",
       "    <tr>\n",
       "      <th id=\"T_6b001_level0_row7\" class=\"row_heading level0 row7\" >CS3</th>\n",
       "      <td id=\"T_6b001_row7_col0\" class=\"data row7 col0\" >28.573721</td>\n",
       "    </tr>\n",
       "    <tr>\n",
       "      <th id=\"T_6b001_level0_row8\" class=\"row_heading level0 row8\" >#200</th>\n",
       "      <td id=\"T_6b001_row8_col0\" class=\"data row8 col0\" >23.215145</td>\n",
       "    </tr>\n",
       "    <tr>\n",
       "      <th id=\"T_6b001_level0_row9\" class=\"row_heading level0 row9\" >K2O</th>\n",
       "      <td id=\"T_6b001_row9_col0\" class=\"data row9 col0\" >12.305471</td>\n",
       "    </tr>\n",
       "    <tr>\n",
       "      <th id=\"T_6b001_level0_row10\" class=\"row_heading level0 row10\" >Na2O</th>\n",
       "      <td id=\"T_6b001_row10_col0\" class=\"data row10 col0\" >2.310284</td>\n",
       "    </tr>\n",
       "    <tr>\n",
       "      <th id=\"T_6b001_level0_row11\" class=\"row_heading level0 row11\" >SO3</th>\n",
       "      <td id=\"T_6b001_row11_col0\" class=\"data row11 col0\" >1.427884</td>\n",
       "    </tr>\n",
       "    <tr>\n",
       "      <th id=\"T_6b001_level0_row12\" class=\"row_heading level0 row12\" >Loss on Ignition</th>\n",
       "      <td id=\"T_6b001_row12_col0\" class=\"data row12 col0\" >1.427884</td>\n",
       "    </tr>\n",
       "    <tr>\n",
       "      <th id=\"T_6b001_level0_row13\" class=\"row_heading level0 row13\" >MgO</th>\n",
       "      <td id=\"T_6b001_row13_col0\" class=\"data row13 col0\" >1.427884</td>\n",
       "    </tr>\n",
       "    <tr>\n",
       "      <th id=\"T_6b001_level0_row14\" class=\"row_heading level0 row14\" >CS28</th>\n",
       "      <td id=\"T_6b001_row14_col0\" class=\"data row14 col0\" >1.363709</td>\n",
       "    </tr>\n",
       "    <tr>\n",
       "      <th id=\"T_6b001_level0_row15\" class=\"row_heading level0 row15\" >#325</th>\n",
       "      <td id=\"T_6b001_row15_col0\" class=\"data row15 col0\" >1.331622</td>\n",
       "    </tr>\n",
       "    <tr>\n",
       "      <th id=\"T_6b001_level0_row16\" class=\"row_heading level0 row16\" >Initial setting time</th>\n",
       "      <td id=\"T_6b001_row16_col0\" class=\"data row16 col0\" >0.657789</td>\n",
       "    </tr>\n",
       "    <tr>\n",
       "      <th id=\"T_6b001_level0_row17\" class=\"row_heading level0 row17\" >Final setting time</th>\n",
       "      <td id=\"T_6b001_row17_col0\" class=\"data row17 col0\" >0.641746</td>\n",
       "    </tr>\n",
       "    <tr>\n",
       "      <th id=\"T_6b001_level0_row18\" class=\"row_heading level0 row18\" >Blaine</th>\n",
       "      <td id=\"T_6b001_row18_col0\" class=\"data row18 col0\" >0.352960</td>\n",
       "    </tr>\n",
       "    <tr>\n",
       "      <th id=\"T_6b001_level0_row19\" class=\"row_heading level0 row19\" >CS7</th>\n",
       "      <td id=\"T_6b001_row19_col0\" class=\"data row19 col0\" >0.336916</td>\n",
       "    </tr>\n",
       "    <tr>\n",
       "      <th id=\"T_6b001_level0_row20\" class=\"row_heading level0 row20\" >CS1</th>\n",
       "      <td id=\"T_6b001_row20_col0\" class=\"data row20 col0\" >0.032087</td>\n",
       "    </tr>\n",
       "    <tr>\n",
       "      <th id=\"T_6b001_level0_row21\" class=\"row_heading level0 row21\" >Plant</th>\n",
       "      <td id=\"T_6b001_row21_col0\" class=\"data row21 col0\" >0.000000</td>\n",
       "    </tr>\n",
       "    <tr>\n",
       "      <th id=\"T_6b001_level0_row22\" class=\"row_heading level0 row22\" >Date</th>\n",
       "      <td id=\"T_6b001_row22_col0\" class=\"data row22 col0\" >0.000000</td>\n",
       "    </tr>\n",
       "    <tr>\n",
       "      <th id=\"T_6b001_level0_row23\" class=\"row_heading level0 row23\" >Cement_Type</th>\n",
       "      <td id=\"T_6b001_row23_col0\" class=\"data row23 col0\" >0.000000</td>\n",
       "    </tr>\n",
       "  </tbody>\n",
       "</table>\n"
      ],
      "text/plain": [
       "<pandas.io.formats.style.Styler at 0x795ce87c9930>"
      ]
     },
     "execution_count": 14,
     "metadata": {},
     "output_type": "execute_result"
    },
    {
     "data": {
      "application/javascript": [
       "\n",
       "            setTimeout(function() {\n",
       "                var nbb_cell_id = 14;\n",
       "                var nbb_unformatted_code = \"(df.isna().sum() / df.shape[0] * 100).sort_values(ascending=False).to_frame(\\n    name=\\\"Missing (%)\\\"\\n).style.background_gradient(cmap=\\\"Reds\\\")\";\n",
       "                var nbb_formatted_code = \"(df.isna().sum() / df.shape[0] * 100).sort_values(ascending=False).to_frame(\\n    name=\\\"Missing (%)\\\"\\n).style.background_gradient(cmap=\\\"Reds\\\")\";\n",
       "                var nbb_cells = Jupyter.notebook.get_cells();\n",
       "                for (var i = 0; i < nbb_cells.length; ++i) {\n",
       "                    if (nbb_cells[i].input_prompt_number == nbb_cell_id) {\n",
       "                        if (nbb_cells[i].get_text() == nbb_unformatted_code) {\n",
       "                             nbb_cells[i].set_text(nbb_formatted_code);\n",
       "                        }\n",
       "                        break;\n",
       "                    }\n",
       "                }\n",
       "            }, 500);\n",
       "            "
      ],
      "text/plain": [
       "<IPython.core.display.Javascript object>"
      ]
     },
     "metadata": {},
     "output_type": "display_data"
    }
   ],
   "source": [
    "(df.isna().sum() / df.shape[0] * 100).sort_values(ascending=False).to_frame(\n",
    "    name=\"Missing (%)\"\n",
    ").style.background_gradient(cmap=\"Reds\")"
   ]
  },
  {
   "cell_type": "markdown",
   "id": "f48cf0a0",
   "metadata": {},
   "source": [
    "<h3>Percentage of missing values:</h3>\n",
    "    \n",
    "    \n",
    "<table>\n",
    "    <th>Plant AV - Full Dataset:</th>\n",
    "    <th></th>\n",
    "    <tr>\n",
    "        <td>Fe2O3</td>\n",
    "        <td>100.00</td>\n",
    "    </tr>\n",
    "    <tr>\n",
    "        <td>SiO2</td>\n",
    "        <td>100.00</td>\n",
    "    </tr>   \n",
    "    <tr>\n",
    "        <td>SiO2</td>\n",
    "        <td>100.00</td>\n",
    "    </tr>\n",
    "    <tr>\n",
    "        <td>CaO</td>\n",
    "        <td>100.00</td>\n",
    "    </tr>\n",
    "    <tr>\n",
    "        <td>TiO2</td>\n",
    "        <td>100.00</td>\n",
    "    </tr>\n",
    "    <tr>\n",
    "        <td>Al2O3</td>\n",
    "        <td>100.00</td>\n",
    "    </tr>    \n",
    "    <tr>\n",
    "        <td>Specific Gravity</td>\n",
    "        <td>84.71</td>\n",
    "    </tr>    \n",
    "    <tr>\n",
    "        <td>Insoluble Residue</td>\n",
    "        <td>57.10</td>\n",
    "    </tr>\n",
    "</table>\n"
   ]
  },
  {
   "cell_type": "code",
   "execution_count": 15,
   "id": "f784f62b",
   "metadata": {},
   "outputs": [
    {
     "data": {
      "application/javascript": [
       "\n",
       "            setTimeout(function() {\n",
       "                var nbb_cell_id = 15;\n",
       "                var nbb_unformatted_code = \"FEATRUES_TO_DROP = [\\n    \\\"Specific Gravity\\\",\\n    \\\"TiO2\\\",\\n    \\\"Fe2O3\\\",\\n    \\\"SiO2\\\",\\n    \\\"CaO\\\",\\n    \\\"Al2O3\\\",\\n    \\\"Insoluble Residue\\\",\\n]\\ndf = df.drop(labels=FEATRUES_TO_DROP, axis=1)\";\n",
       "                var nbb_formatted_code = \"FEATRUES_TO_DROP = [\\n    \\\"Specific Gravity\\\",\\n    \\\"TiO2\\\",\\n    \\\"Fe2O3\\\",\\n    \\\"SiO2\\\",\\n    \\\"CaO\\\",\\n    \\\"Al2O3\\\",\\n    \\\"Insoluble Residue\\\",\\n]\\ndf = df.drop(labels=FEATRUES_TO_DROP, axis=1)\";\n",
       "                var nbb_cells = Jupyter.notebook.get_cells();\n",
       "                for (var i = 0; i < nbb_cells.length; ++i) {\n",
       "                    if (nbb_cells[i].input_prompt_number == nbb_cell_id) {\n",
       "                        if (nbb_cells[i].get_text() == nbb_unformatted_code) {\n",
       "                             nbb_cells[i].set_text(nbb_formatted_code);\n",
       "                        }\n",
       "                        break;\n",
       "                    }\n",
       "                }\n",
       "            }, 500);\n",
       "            "
      ],
      "text/plain": [
       "<IPython.core.display.Javascript object>"
      ]
     },
     "metadata": {},
     "output_type": "display_data"
    }
   ],
   "source": [
    "FEATRUES_TO_DROP = [\n",
    "    \"Specific Gravity\",\n",
    "    \"TiO2\",\n",
    "    \"Fe2O3\",\n",
    "    \"SiO2\",\n",
    "    \"CaO\",\n",
    "    \"Al2O3\",\n",
    "    \"Insoluble Residue\",\n",
    "]\n",
    "df = df.drop(labels=FEATRUES_TO_DROP, axis=1)"
   ]
  },
  {
   "cell_type": "markdown",
   "id": "16dc32af",
   "metadata": {},
   "source": [
    "### Drop rows where the target variable is null"
   ]
  },
  {
   "cell_type": "code",
   "execution_count": 16,
   "id": "ae356f21",
   "metadata": {},
   "outputs": [
    {
     "data": {
      "text/plain": [
       "(6233, 17)"
      ]
     },
     "execution_count": 16,
     "metadata": {},
     "output_type": "execute_result"
    },
    {
     "data": {
      "application/javascript": [
       "\n",
       "            setTimeout(function() {\n",
       "                var nbb_cell_id = 16;\n",
       "                var nbb_unformatted_code = \"df.shape\";\n",
       "                var nbb_formatted_code = \"df.shape\";\n",
       "                var nbb_cells = Jupyter.notebook.get_cells();\n",
       "                for (var i = 0; i < nbb_cells.length; ++i) {\n",
       "                    if (nbb_cells[i].input_prompt_number == nbb_cell_id) {\n",
       "                        if (nbb_cells[i].get_text() == nbb_unformatted_code) {\n",
       "                             nbb_cells[i].set_text(nbb_formatted_code);\n",
       "                        }\n",
       "                        break;\n",
       "                    }\n",
       "                }\n",
       "            }, 500);\n",
       "            "
      ],
      "text/plain": [
       "<IPython.core.display.Javascript object>"
      ]
     },
     "metadata": {},
     "output_type": "display_data"
    }
   ],
   "source": [
    "df.shape"
   ]
  },
  {
   "cell_type": "code",
   "execution_count": 17,
   "id": "ec3ee769",
   "metadata": {},
   "outputs": [
    {
     "data": {
      "application/javascript": [
       "\n",
       "            setTimeout(function() {\n",
       "                var nbb_cell_id = 17;\n",
       "                var nbb_unformatted_code = \"df = df[df[\\\"CS28\\\"].notna()].reset_index(drop=True)\";\n",
       "                var nbb_formatted_code = \"df = df[df[\\\"CS28\\\"].notna()].reset_index(drop=True)\";\n",
       "                var nbb_cells = Jupyter.notebook.get_cells();\n",
       "                for (var i = 0; i < nbb_cells.length; ++i) {\n",
       "                    if (nbb_cells[i].input_prompt_number == nbb_cell_id) {\n",
       "                        if (nbb_cells[i].get_text() == nbb_unformatted_code) {\n",
       "                             nbb_cells[i].set_text(nbb_formatted_code);\n",
       "                        }\n",
       "                        break;\n",
       "                    }\n",
       "                }\n",
       "            }, 500);\n",
       "            "
      ],
      "text/plain": [
       "<IPython.core.display.Javascript object>"
      ]
     },
     "metadata": {},
     "output_type": "display_data"
    }
   ],
   "source": [
    "df = df[df[\"CS28\"].notna()].reset_index(drop=True)"
   ]
  },
  {
   "cell_type": "code",
   "execution_count": 18,
   "id": "239a4e18",
   "metadata": {},
   "outputs": [
    {
     "data": {
      "text/html": [
       "<style type=\"text/css\">\n",
       "#T_52633_row0_col0 {\n",
       "  background-color: #67000d;\n",
       "  color: #f1f1f1;\n",
       "}\n",
       "#T_52633_row1_col0 {\n",
       "  background-color: #bc141a;\n",
       "  color: #f1f1f1;\n",
       "}\n",
       "#T_52633_row2_col0 {\n",
       "  background-color: #fc8161;\n",
       "  color: #f1f1f1;\n",
       "}\n",
       "#T_52633_row3_col0 {\n",
       "  background-color: #fee8dd;\n",
       "  color: #000000;\n",
       "}\n",
       "#T_52633_row4_col0, #T_52633_row5_col0, #T_52633_row6_col0 {\n",
       "  background-color: #ffede5;\n",
       "  color: #000000;\n",
       "}\n",
       "#T_52633_row7_col0 {\n",
       "  background-color: #ffeee6;\n",
       "  color: #000000;\n",
       "}\n",
       "#T_52633_row8_col0, #T_52633_row9_col0 {\n",
       "  background-color: #fff2ec;\n",
       "  color: #000000;\n",
       "}\n",
       "#T_52633_row10_col0 {\n",
       "  background-color: #fff4ee;\n",
       "  color: #000000;\n",
       "}\n",
       "#T_52633_row11_col0, #T_52633_row12_col0, #T_52633_row13_col0, #T_52633_row14_col0, #T_52633_row15_col0, #T_52633_row16_col0 {\n",
       "  background-color: #fff5f0;\n",
       "  color: #000000;\n",
       "}\n",
       "</style>\n",
       "<table id=\"T_52633\">\n",
       "  <thead>\n",
       "    <tr>\n",
       "      <th class=\"blank level0\" >&nbsp;</th>\n",
       "      <th id=\"T_52633_level0_col0\" class=\"col_heading level0 col0\" >Missing (%)</th>\n",
       "    </tr>\n",
       "  </thead>\n",
       "  <tbody>\n",
       "    <tr>\n",
       "      <th id=\"T_52633_level0_row0\" class=\"row_heading level0 row0\" >CS3</th>\n",
       "      <td id=\"T_52633_row0_col0\" class=\"data row0 col0\" >28.383214</td>\n",
       "    </tr>\n",
       "    <tr>\n",
       "      <th id=\"T_52633_level0_row1\" class=\"row_heading level0 row1\" >#200</th>\n",
       "      <td id=\"T_52633_row1_col0\" class=\"data row1 col0\" >22.722837</td>\n",
       "    </tr>\n",
       "    <tr>\n",
       "      <th id=\"T_52633_level0_row2\" class=\"row_heading level0 row2\" >K2O</th>\n",
       "      <td id=\"T_52633_row2_col0\" class=\"data row2 col0\" >12.166558</td>\n",
       "    </tr>\n",
       "    <tr>\n",
       "      <th id=\"T_52633_level0_row3\" class=\"row_heading level0 row3\" >Na2O</th>\n",
       "      <td id=\"T_52633_row3_col0\" class=\"data row3 col0\" >2.293429</td>\n",
       "    </tr>\n",
       "    <tr>\n",
       "      <th id=\"T_52633_level0_row4\" class=\"row_heading level0 row4\" >MgO</th>\n",
       "      <td id=\"T_52633_row4_col0\" class=\"data row4 col0\" >1.398829</td>\n",
       "    </tr>\n",
       "    <tr>\n",
       "      <th id=\"T_52633_level0_row5\" class=\"row_heading level0 row5\" >SO3</th>\n",
       "      <td id=\"T_52633_row5_col0\" class=\"data row5 col0\" >1.398829</td>\n",
       "    </tr>\n",
       "    <tr>\n",
       "      <th id=\"T_52633_level0_row6\" class=\"row_heading level0 row6\" >Loss on Ignition</th>\n",
       "      <td id=\"T_52633_row6_col0\" class=\"data row6 col0\" >1.382563</td>\n",
       "    </tr>\n",
       "    <tr>\n",
       "      <th id=\"T_52633_level0_row7\" class=\"row_heading level0 row7\" >#325</th>\n",
       "      <td id=\"T_52633_row7_col0\" class=\"data row7 col0\" >1.284971</td>\n",
       "    </tr>\n",
       "    <tr>\n",
       "      <th id=\"T_52633_level0_row8\" class=\"row_heading level0 row8\" >Initial setting time</th>\n",
       "      <td id=\"T_52633_row8_col0\" class=\"data row8 col0\" >0.471698</td>\n",
       "    </tr>\n",
       "    <tr>\n",
       "      <th id=\"T_52633_level0_row9\" class=\"row_heading level0 row9\" >Final setting time</th>\n",
       "      <td id=\"T_52633_row9_col0\" class=\"data row9 col0\" >0.455433</td>\n",
       "    </tr>\n",
       "    <tr>\n",
       "      <th id=\"T_52633_level0_row10\" class=\"row_heading level0 row10\" >Blaine</th>\n",
       "      <td id=\"T_52633_row10_col0\" class=\"data row10 col0\" >0.292778</td>\n",
       "    </tr>\n",
       "    <tr>\n",
       "      <th id=\"T_52633_level0_row11\" class=\"row_heading level0 row11\" >CS7</th>\n",
       "      <td id=\"T_52633_row11_col0\" class=\"data row11 col0\" >0.081327</td>\n",
       "    </tr>\n",
       "    <tr>\n",
       "      <th id=\"T_52633_level0_row12\" class=\"row_heading level0 row12\" >CS1</th>\n",
       "      <td id=\"T_52633_row12_col0\" class=\"data row12 col0\" >0.016265</td>\n",
       "    </tr>\n",
       "    <tr>\n",
       "      <th id=\"T_52633_level0_row13\" class=\"row_heading level0 row13\" >CS28</th>\n",
       "      <td id=\"T_52633_row13_col0\" class=\"data row13 col0\" >0.000000</td>\n",
       "    </tr>\n",
       "    <tr>\n",
       "      <th id=\"T_52633_level0_row14\" class=\"row_heading level0 row14\" >Plant</th>\n",
       "      <td id=\"T_52633_row14_col0\" class=\"data row14 col0\" >0.000000</td>\n",
       "    </tr>\n",
       "    <tr>\n",
       "      <th id=\"T_52633_level0_row15\" class=\"row_heading level0 row15\" >Date</th>\n",
       "      <td id=\"T_52633_row15_col0\" class=\"data row15 col0\" >0.000000</td>\n",
       "    </tr>\n",
       "    <tr>\n",
       "      <th id=\"T_52633_level0_row16\" class=\"row_heading level0 row16\" >Cement_Type</th>\n",
       "      <td id=\"T_52633_row16_col0\" class=\"data row16 col0\" >0.000000</td>\n",
       "    </tr>\n",
       "  </tbody>\n",
       "</table>\n"
      ],
      "text/plain": [
       "<pandas.io.formats.style.Styler at 0x795c8509a140>"
      ]
     },
     "execution_count": 18,
     "metadata": {},
     "output_type": "execute_result"
    },
    {
     "data": {
      "application/javascript": [
       "\n",
       "            setTimeout(function() {\n",
       "                var nbb_cell_id = 18;\n",
       "                var nbb_unformatted_code = \"(df.isna().sum() / df.shape[0] * 100).sort_values(ascending=False).to_frame(\\n    name=\\\"Missing (%)\\\"\\n).style.background_gradient(cmap=\\\"Reds\\\")\";\n",
       "                var nbb_formatted_code = \"(df.isna().sum() / df.shape[0] * 100).sort_values(ascending=False).to_frame(\\n    name=\\\"Missing (%)\\\"\\n).style.background_gradient(cmap=\\\"Reds\\\")\";\n",
       "                var nbb_cells = Jupyter.notebook.get_cells();\n",
       "                for (var i = 0; i < nbb_cells.length; ++i) {\n",
       "                    if (nbb_cells[i].input_prompt_number == nbb_cell_id) {\n",
       "                        if (nbb_cells[i].get_text() == nbb_unformatted_code) {\n",
       "                             nbb_cells[i].set_text(nbb_formatted_code);\n",
       "                        }\n",
       "                        break;\n",
       "                    }\n",
       "                }\n",
       "            }, 500);\n",
       "            "
      ],
      "text/plain": [
       "<IPython.core.display.Javascript object>"
      ]
     },
     "metadata": {},
     "output_type": "display_data"
    }
   ],
   "source": [
    "(df.isna().sum() / df.shape[0] * 100).sort_values(ascending=False).to_frame(\n",
    "    name=\"Missing (%)\"\n",
    ").style.background_gradient(cmap=\"Reds\")"
   ]
  },
  {
   "cell_type": "markdown",
   "id": "c633e5a7",
   "metadata": {},
   "source": [
    "### Dropping duplicated rows"
   ]
  },
  {
   "cell_type": "code",
   "execution_count": 19,
   "id": "3977a9ca",
   "metadata": {},
   "outputs": [
    {
     "data": {
      "text/plain": [
       "(6148, 17)"
      ]
     },
     "execution_count": 19,
     "metadata": {},
     "output_type": "execute_result"
    },
    {
     "data": {
      "application/javascript": [
       "\n",
       "            setTimeout(function() {\n",
       "                var nbb_cell_id = 19;\n",
       "                var nbb_unformatted_code = \"df.shape\";\n",
       "                var nbb_formatted_code = \"df.shape\";\n",
       "                var nbb_cells = Jupyter.notebook.get_cells();\n",
       "                for (var i = 0; i < nbb_cells.length; ++i) {\n",
       "                    if (nbb_cells[i].input_prompt_number == nbb_cell_id) {\n",
       "                        if (nbb_cells[i].get_text() == nbb_unformatted_code) {\n",
       "                             nbb_cells[i].set_text(nbb_formatted_code);\n",
       "                        }\n",
       "                        break;\n",
       "                    }\n",
       "                }\n",
       "            }, 500);\n",
       "            "
      ],
      "text/plain": [
       "<IPython.core.display.Javascript object>"
      ]
     },
     "metadata": {},
     "output_type": "display_data"
    }
   ],
   "source": [
    "df.shape"
   ]
  },
  {
   "cell_type": "code",
   "execution_count": 20,
   "id": "00c34b5e",
   "metadata": {},
   "outputs": [
    {
     "data": {
      "application/javascript": [
       "\n",
       "            setTimeout(function() {\n",
       "                var nbb_cell_id = 20;\n",
       "                var nbb_unformatted_code = \"df = df.reset_index(drop=True)\";\n",
       "                var nbb_formatted_code = \"df = df.reset_index(drop=True)\";\n",
       "                var nbb_cells = Jupyter.notebook.get_cells();\n",
       "                for (var i = 0; i < nbb_cells.length; ++i) {\n",
       "                    if (nbb_cells[i].input_prompt_number == nbb_cell_id) {\n",
       "                        if (nbb_cells[i].get_text() == nbb_unformatted_code) {\n",
       "                             nbb_cells[i].set_text(nbb_formatted_code);\n",
       "                        }\n",
       "                        break;\n",
       "                    }\n",
       "                }\n",
       "            }, 500);\n",
       "            "
      ],
      "text/plain": [
       "<IPython.core.display.Javascript object>"
      ]
     },
     "metadata": {},
     "output_type": "display_data"
    }
   ],
   "source": [
    "df = df.reset_index(drop=True)"
   ]
  },
  {
   "cell_type": "code",
   "execution_count": 21,
   "id": "e5e8dd90",
   "metadata": {},
   "outputs": [
    {
     "data": {
      "application/javascript": [
       "\n",
       "            setTimeout(function() {\n",
       "                var nbb_cell_id = 21;\n",
       "                var nbb_unformatted_code = \"df = df.loc[df.select_dtypes(\\\"number\\\").drop_duplicates().index].reset_index(drop=True)\\n\\nchemical_vars = [\\n    \\\"MgO\\\",\\n    \\\"Na2O\\\",\\n    \\\"SO3\\\",\\n    \\\"K2O\\\",\\n    \\\"Loss on Ignition\\\",\\n]\\n\\ndf = df.loc[\\n    df.select_dtypes(\\\"number\\\").drop_duplicates(subset=chemical_vars).index\\n].reset_index(drop=True)\";\n",
       "                var nbb_formatted_code = \"df = df.loc[df.select_dtypes(\\\"number\\\").drop_duplicates().index].reset_index(drop=True)\\n\\nchemical_vars = [\\n    \\\"MgO\\\",\\n    \\\"Na2O\\\",\\n    \\\"SO3\\\",\\n    \\\"K2O\\\",\\n    \\\"Loss on Ignition\\\",\\n]\\n\\ndf = df.loc[\\n    df.select_dtypes(\\\"number\\\").drop_duplicates(subset=chemical_vars).index\\n].reset_index(drop=True)\";\n",
       "                var nbb_cells = Jupyter.notebook.get_cells();\n",
       "                for (var i = 0; i < nbb_cells.length; ++i) {\n",
       "                    if (nbb_cells[i].input_prompt_number == nbb_cell_id) {\n",
       "                        if (nbb_cells[i].get_text() == nbb_unformatted_code) {\n",
       "                             nbb_cells[i].set_text(nbb_formatted_code);\n",
       "                        }\n",
       "                        break;\n",
       "                    }\n",
       "                }\n",
       "            }, 500);\n",
       "            "
      ],
      "text/plain": [
       "<IPython.core.display.Javascript object>"
      ]
     },
     "metadata": {},
     "output_type": "display_data"
    }
   ],
   "source": [
    "df = df.loc[df.select_dtypes(\"number\").drop_duplicates().index].reset_index(drop=True)\n",
    "\n",
    "chemical_vars = [\n",
    "    \"MgO\",\n",
    "    \"Na2O\",\n",
    "    \"SO3\",\n",
    "    \"K2O\",\n",
    "    \"Loss on Ignition\",\n",
    "]\n",
    "\n",
    "df = df.loc[\n",
    "    df.select_dtypes(\"number\").drop_duplicates(subset=chemical_vars).index\n",
    "].reset_index(drop=True)"
   ]
  },
  {
   "cell_type": "code",
   "execution_count": 22,
   "id": "0a37356e",
   "metadata": {},
   "outputs": [
    {
     "data": {
      "text/plain": [
       "(5840, 17)"
      ]
     },
     "execution_count": 22,
     "metadata": {},
     "output_type": "execute_result"
    },
    {
     "data": {
      "application/javascript": [
       "\n",
       "            setTimeout(function() {\n",
       "                var nbb_cell_id = 22;\n",
       "                var nbb_unformatted_code = \"df.shape\";\n",
       "                var nbb_formatted_code = \"df.shape\";\n",
       "                var nbb_cells = Jupyter.notebook.get_cells();\n",
       "                for (var i = 0; i < nbb_cells.length; ++i) {\n",
       "                    if (nbb_cells[i].input_prompt_number == nbb_cell_id) {\n",
       "                        if (nbb_cells[i].get_text() == nbb_unformatted_code) {\n",
       "                             nbb_cells[i].set_text(nbb_formatted_code);\n",
       "                        }\n",
       "                        break;\n",
       "                    }\n",
       "                }\n",
       "            }, 500);\n",
       "            "
      ],
      "text/plain": [
       "<IPython.core.display.Javascript object>"
      ]
     },
     "metadata": {},
     "output_type": "display_data"
    }
   ],
   "source": [
    "df.shape"
   ]
  },
  {
   "cell_type": "markdown",
   "id": "392f0480",
   "metadata": {},
   "source": [
    "### Dropping rows with negative values"
   ]
  },
  {
   "cell_type": "code",
   "execution_count": 23,
   "id": "590b569a",
   "metadata": {},
   "outputs": [
    {
     "data": {
      "text/plain": [
       "MgO                     0.0\n",
       "Na2O                    0.0\n",
       "SO3                     0.0\n",
       "K2O                     0.0\n",
       "Loss on Ignition        0.0\n",
       "Blaine                  0.0\n",
       "#200                    0.0\n",
       "#325                    0.0\n",
       "Initial setting time    0.0\n",
       "Final setting time      0.0\n",
       "CS1                     0.0\n",
       "CS3                     0.0\n",
       "CS7                     0.0\n",
       "CS28                    0.0\n",
       "dtype: float64"
      ]
     },
     "execution_count": 23,
     "metadata": {},
     "output_type": "execute_result"
    },
    {
     "data": {
      "application/javascript": [
       "\n",
       "            setTimeout(function() {\n",
       "                var nbb_cell_id = 23;\n",
       "                var nbb_unformatted_code = \"df[df.drop([\\\"Date\\\"], axis=1).duplicated()].drop(\\\"Date\\\", axis=1).select_dtypes(\\n    include=\\\"number\\\"\\n).apply(lambda x: x < 0).sum().sort_values(ascending=False)\";\n",
       "                var nbb_formatted_code = \"df[df.drop([\\\"Date\\\"], axis=1).duplicated()].drop(\\\"Date\\\", axis=1).select_dtypes(\\n    include=\\\"number\\\"\\n).apply(lambda x: x < 0).sum().sort_values(ascending=False)\";\n",
       "                var nbb_cells = Jupyter.notebook.get_cells();\n",
       "                for (var i = 0; i < nbb_cells.length; ++i) {\n",
       "                    if (nbb_cells[i].input_prompt_number == nbb_cell_id) {\n",
       "                        if (nbb_cells[i].get_text() == nbb_unformatted_code) {\n",
       "                             nbb_cells[i].set_text(nbb_formatted_code);\n",
       "                        }\n",
       "                        break;\n",
       "                    }\n",
       "                }\n",
       "            }, 500);\n",
       "            "
      ],
      "text/plain": [
       "<IPython.core.display.Javascript object>"
      ]
     },
     "metadata": {},
     "output_type": "display_data"
    }
   ],
   "source": [
    "df[df.drop([\"Date\"], axis=1).duplicated()].drop(\"Date\", axis=1).select_dtypes(\n",
    "    include=\"number\"\n",
    ").apply(lambda x: x < 0).sum().sort_values(ascending=False)"
   ]
  },
  {
   "cell_type": "markdown",
   "id": "f5845529",
   "metadata": {},
   "source": [
    "### Removing outliers"
   ]
  },
  {
   "cell_type": "code",
   "execution_count": 24,
   "id": "053d6e37",
   "metadata": {},
   "outputs": [
    {
     "data": {
      "text/html": [
       "<div>\n",
       "<style scoped>\n",
       "    .dataframe tbody tr th:only-of-type {\n",
       "        vertical-align: middle;\n",
       "    }\n",
       "\n",
       "    .dataframe tbody tr th {\n",
       "        vertical-align: top;\n",
       "    }\n",
       "\n",
       "    .dataframe thead th {\n",
       "        text-align: right;\n",
       "    }\n",
       "</style>\n",
       "<table border=\"1\" class=\"dataframe\">\n",
       "  <thead>\n",
       "    <tr style=\"text-align: right;\">\n",
       "      <th></th>\n",
       "      <th>count</th>\n",
       "      <th>mean</th>\n",
       "      <th>min</th>\n",
       "      <th>50%</th>\n",
       "      <th>99%</th>\n",
       "      <th>max</th>\n",
       "      <th>std</th>\n",
       "    </tr>\n",
       "  </thead>\n",
       "  <tbody>\n",
       "    <tr>\n",
       "      <th>Date</th>\n",
       "      <td>5840</td>\n",
       "      <td>2017-01-26 19:24:05.819178240</td>\n",
       "      <td>1900-01-24 01:26:24</td>\n",
       "      <td>2017-02-27 00:00:00</td>\n",
       "      <td>2023-02-06 00:00:00</td>\n",
       "      <td>2023-03-28 00:00:00</td>\n",
       "      <td>NaN</td>\n",
       "    </tr>\n",
       "    <tr>\n",
       "      <th>MgO</th>\n",
       "      <td>5757.0</td>\n",
       "      <td>1.775574</td>\n",
       "      <td>0.87</td>\n",
       "      <td>1.8</td>\n",
       "      <td>2.7644</td>\n",
       "      <td>5.83</td>\n",
       "      <td>0.425555</td>\n",
       "    </tr>\n",
       "    <tr>\n",
       "      <th>Na2O</th>\n",
       "      <td>5702.0</td>\n",
       "      <td>0.08299</td>\n",
       "      <td>0.0</td>\n",
       "      <td>0.07</td>\n",
       "      <td>0.17</td>\n",
       "      <td>5.0</td>\n",
       "      <td>0.087219</td>\n",
       "    </tr>\n",
       "    <tr>\n",
       "      <th>SO3</th>\n",
       "      <td>5757.0</td>\n",
       "      <td>2.671925</td>\n",
       "      <td>0.09</td>\n",
       "      <td>2.62</td>\n",
       "      <td>4.2044</td>\n",
       "      <td>4.92</td>\n",
       "      <td>0.591707</td>\n",
       "    </tr>\n",
       "    <tr>\n",
       "      <th>K2O</th>\n",
       "      <td>5125.0</td>\n",
       "      <td>0.94803</td>\n",
       "      <td>0.07</td>\n",
       "      <td>0.89</td>\n",
       "      <td>1.63</td>\n",
       "      <td>2.62</td>\n",
       "      <td>0.244538</td>\n",
       "    </tr>\n",
       "    <tr>\n",
       "      <th>Loss on Ignition</th>\n",
       "      <td>5760.0</td>\n",
       "      <td>4.218813</td>\n",
       "      <td>0.46</td>\n",
       "      <td>4.05</td>\n",
       "      <td>7.4341</td>\n",
       "      <td>8.6</td>\n",
       "      <td>1.247882</td>\n",
       "    </tr>\n",
       "    <tr>\n",
       "      <th>Blaine</th>\n",
       "      <td>5825.0</td>\n",
       "      <td>4400.989528</td>\n",
       "      <td>3085.0</td>\n",
       "      <td>4460.0</td>\n",
       "      <td>4980.76</td>\n",
       "      <td>5197.0</td>\n",
       "      <td>337.910021</td>\n",
       "    </tr>\n",
       "    <tr>\n",
       "      <th>#200</th>\n",
       "      <td>4468.0</td>\n",
       "      <td>0.533855</td>\n",
       "      <td>0.0</td>\n",
       "      <td>0.16</td>\n",
       "      <td>4.52</td>\n",
       "      <td>18.6</td>\n",
       "      <td>1.023866</td>\n",
       "    </tr>\n",
       "    <tr>\n",
       "      <th>#325</th>\n",
       "      <td>5763.0</td>\n",
       "      <td>3.480244</td>\n",
       "      <td>0.0</td>\n",
       "      <td>2.04</td>\n",
       "      <td>19.1338</td>\n",
       "      <td>148.0</td>\n",
       "      <td>4.486047</td>\n",
       "    </tr>\n",
       "    <tr>\n",
       "      <th>Initial setting time</th>\n",
       "      <td>5813.0</td>\n",
       "      <td>172.087046</td>\n",
       "      <td>45.0</td>\n",
       "      <td>175.0</td>\n",
       "      <td>250.0</td>\n",
       "      <td>290.0</td>\n",
       "      <td>37.479712</td>\n",
       "    </tr>\n",
       "    <tr>\n",
       "      <th>Final setting time</th>\n",
       "      <td>5814.0</td>\n",
       "      <td>229.774596</td>\n",
       "      <td>20.5</td>\n",
       "      <td>230.0</td>\n",
       "      <td>315.0</td>\n",
       "      <td>350.0</td>\n",
       "      <td>40.351402</td>\n",
       "    </tr>\n",
       "    <tr>\n",
       "      <th>CS1</th>\n",
       "      <td>5839.0</td>\n",
       "      <td>19.497257</td>\n",
       "      <td>5.3</td>\n",
       "      <td>18.6</td>\n",
       "      <td>32.0</td>\n",
       "      <td>34.2</td>\n",
       "      <td>7.416253</td>\n",
       "    </tr>\n",
       "    <tr>\n",
       "      <th>CS3</th>\n",
       "      <td>4143.0</td>\n",
       "      <td>30.733716</td>\n",
       "      <td>11.8</td>\n",
       "      <td>30.1</td>\n",
       "      <td>46.2</td>\n",
       "      <td>48.8</td>\n",
       "      <td>8.777725</td>\n",
       "    </tr>\n",
       "    <tr>\n",
       "      <th>CS7</th>\n",
       "      <td>5836.0</td>\n",
       "      <td>37.693286</td>\n",
       "      <td>16.7</td>\n",
       "      <td>39.5</td>\n",
       "      <td>52.0</td>\n",
       "      <td>56.0</td>\n",
       "      <td>8.865401</td>\n",
       "    </tr>\n",
       "    <tr>\n",
       "      <th>CS28</th>\n",
       "      <td>5840.0</td>\n",
       "      <td>48.459409</td>\n",
       "      <td>28.4</td>\n",
       "      <td>51.3</td>\n",
       "      <td>61.0</td>\n",
       "      <td>64.7</td>\n",
       "      <td>8.089452</td>\n",
       "    </tr>\n",
       "  </tbody>\n",
       "</table>\n",
       "</div>"
      ],
      "text/plain": [
       "                       count                           mean  \\\n",
       "Date                    5840  2017-01-26 19:24:05.819178240   \n",
       "MgO                   5757.0                       1.775574   \n",
       "Na2O                  5702.0                        0.08299   \n",
       "SO3                   5757.0                       2.671925   \n",
       "K2O                   5125.0                        0.94803   \n",
       "Loss on Ignition      5760.0                       4.218813   \n",
       "Blaine                5825.0                    4400.989528   \n",
       "#200                  4468.0                       0.533855   \n",
       "#325                  5763.0                       3.480244   \n",
       "Initial setting time  5813.0                     172.087046   \n",
       "Final setting time    5814.0                     229.774596   \n",
       "CS1                   5839.0                      19.497257   \n",
       "CS3                   4143.0                      30.733716   \n",
       "CS7                   5836.0                      37.693286   \n",
       "CS28                  5840.0                      48.459409   \n",
       "\n",
       "                                      min                  50%  \\\n",
       "Date                  1900-01-24 01:26:24  2017-02-27 00:00:00   \n",
       "MgO                                  0.87                  1.8   \n",
       "Na2O                                  0.0                 0.07   \n",
       "SO3                                  0.09                 2.62   \n",
       "K2O                                  0.07                 0.89   \n",
       "Loss on Ignition                     0.46                 4.05   \n",
       "Blaine                             3085.0               4460.0   \n",
       "#200                                  0.0                 0.16   \n",
       "#325                                  0.0                 2.04   \n",
       "Initial setting time                 45.0                175.0   \n",
       "Final setting time                   20.5                230.0   \n",
       "CS1                                   5.3                 18.6   \n",
       "CS3                                  11.8                 30.1   \n",
       "CS7                                  16.7                 39.5   \n",
       "CS28                                 28.4                 51.3   \n",
       "\n",
       "                                      99%                  max         std  \n",
       "Date                  2023-02-06 00:00:00  2023-03-28 00:00:00         NaN  \n",
       "MgO                                2.7644                 5.83    0.425555  \n",
       "Na2O                                 0.17                  5.0    0.087219  \n",
       "SO3                                4.2044                 4.92    0.591707  \n",
       "K2O                                  1.63                 2.62    0.244538  \n",
       "Loss on Ignition                   7.4341                  8.6    1.247882  \n",
       "Blaine                            4980.76               5197.0  337.910021  \n",
       "#200                                 4.52                 18.6    1.023866  \n",
       "#325                              19.1338                148.0    4.486047  \n",
       "Initial setting time                250.0                290.0   37.479712  \n",
       "Final setting time                  315.0                350.0   40.351402  \n",
       "CS1                                  32.0                 34.2    7.416253  \n",
       "CS3                                  46.2                 48.8    8.777725  \n",
       "CS7                                  52.0                 56.0    8.865401  \n",
       "CS28                                 61.0                 64.7    8.089452  "
      ]
     },
     "execution_count": 24,
     "metadata": {},
     "output_type": "execute_result"
    },
    {
     "data": {
      "application/javascript": [
       "\n",
       "            setTimeout(function() {\n",
       "                var nbb_cell_id = 24;\n",
       "                var nbb_unformatted_code = \"df.describe(percentiles=[0.99]).T\";\n",
       "                var nbb_formatted_code = \"df.describe(percentiles=[0.99]).T\";\n",
       "                var nbb_cells = Jupyter.notebook.get_cells();\n",
       "                for (var i = 0; i < nbb_cells.length; ++i) {\n",
       "                    if (nbb_cells[i].input_prompt_number == nbb_cell_id) {\n",
       "                        if (nbb_cells[i].get_text() == nbb_unformatted_code) {\n",
       "                             nbb_cells[i].set_text(nbb_formatted_code);\n",
       "                        }\n",
       "                        break;\n",
       "                    }\n",
       "                }\n",
       "            }, 500);\n",
       "            "
      ],
      "text/plain": [
       "<IPython.core.display.Javascript object>"
      ]
     },
     "metadata": {},
     "output_type": "display_data"
    }
   ],
   "source": [
    "df.describe(percentiles=[0.99]).T"
   ]
  },
  {
   "cell_type": "code",
   "execution_count": 25,
   "id": "a66f3171",
   "metadata": {},
   "outputs": [
    {
     "data": {
      "application/javascript": [
       "\n",
       "            setTimeout(function() {\n",
       "                var nbb_cell_id = 25;\n",
       "                var nbb_unformatted_code = \"df = df.reset_index(drop=True)\\ndf = df[df[\\\"MgO\\\"] < 3].reset_index(drop=True)\\ndf = df[df[\\\"Na2O\\\"] < 0.2].reset_index(drop=True)\\ndf = df[df[\\\"#200\\\"] < 5].reset_index(drop=True)\\ndf = df[df[\\\"#325\\\"] < 20].reset_index(drop=True)\\ndf = df.drop(df[\\\"Initial setting time\\\"].idxmin()).reset_index(drop=True)\\ndf = df.drop(df[\\\"Final setting time\\\"].idxmin()).reset_index(drop=True)\";\n",
       "                var nbb_formatted_code = \"df = df.reset_index(drop=True)\\ndf = df[df[\\\"MgO\\\"] < 3].reset_index(drop=True)\\ndf = df[df[\\\"Na2O\\\"] < 0.2].reset_index(drop=True)\\ndf = df[df[\\\"#200\\\"] < 5].reset_index(drop=True)\\ndf = df[df[\\\"#325\\\"] < 20].reset_index(drop=True)\\ndf = df.drop(df[\\\"Initial setting time\\\"].idxmin()).reset_index(drop=True)\\ndf = df.drop(df[\\\"Final setting time\\\"].idxmin()).reset_index(drop=True)\";\n",
       "                var nbb_cells = Jupyter.notebook.get_cells();\n",
       "                for (var i = 0; i < nbb_cells.length; ++i) {\n",
       "                    if (nbb_cells[i].input_prompt_number == nbb_cell_id) {\n",
       "                        if (nbb_cells[i].get_text() == nbb_unformatted_code) {\n",
       "                             nbb_cells[i].set_text(nbb_formatted_code);\n",
       "                        }\n",
       "                        break;\n",
       "                    }\n",
       "                }\n",
       "            }, 500);\n",
       "            "
      ],
      "text/plain": [
       "<IPython.core.display.Javascript object>"
      ]
     },
     "metadata": {},
     "output_type": "display_data"
    }
   ],
   "source": [
    "df = df.reset_index(drop=True)\n",
    "df = df[df[\"MgO\"] < 3].reset_index(drop=True)\n",
    "df = df[df[\"Na2O\"] < 0.2].reset_index(drop=True)\n",
    "df = df[df[\"#200\"] < 5].reset_index(drop=True)\n",
    "df = df[df[\"#325\"] < 20].reset_index(drop=True)\n",
    "df = df.drop(df[\"Initial setting time\"].idxmin()).reset_index(drop=True)\n",
    "df = df.drop(df[\"Final setting time\"].idxmin()).reset_index(drop=True)"
   ]
  },
  {
   "cell_type": "code",
   "execution_count": 26,
   "id": "4a9f5a1b",
   "metadata": {},
   "outputs": [
    {
     "data": {
      "text/html": [
       "<div>\n",
       "<style scoped>\n",
       "    .dataframe tbody tr th:only-of-type {\n",
       "        vertical-align: middle;\n",
       "    }\n",
       "\n",
       "    .dataframe tbody tr th {\n",
       "        vertical-align: top;\n",
       "    }\n",
       "\n",
       "    .dataframe thead th {\n",
       "        text-align: right;\n",
       "    }\n",
       "</style>\n",
       "<table border=\"1\" class=\"dataframe\">\n",
       "  <thead>\n",
       "    <tr style=\"text-align: right;\">\n",
       "      <th></th>\n",
       "      <th>count</th>\n",
       "      <th>mean</th>\n",
       "      <th>min</th>\n",
       "      <th>50%</th>\n",
       "      <th>99%</th>\n",
       "      <th>max</th>\n",
       "      <th>std</th>\n",
       "    </tr>\n",
       "  </thead>\n",
       "  <tbody>\n",
       "    <tr>\n",
       "      <th>Date</th>\n",
       "      <td>4304</td>\n",
       "      <td>2016-05-16 23:21:31.449814016</td>\n",
       "      <td>2011-05-12 00:00:00</td>\n",
       "      <td>2016-04-04 12:00:00</td>\n",
       "      <td>2022-12-12 00:00:00</td>\n",
       "      <td>2023-03-14 00:00:00</td>\n",
       "      <td>NaN</td>\n",
       "    </tr>\n",
       "    <tr>\n",
       "      <th>MgO</th>\n",
       "      <td>4304.0</td>\n",
       "      <td>1.80036</td>\n",
       "      <td>0.89</td>\n",
       "      <td>1.83</td>\n",
       "      <td>2.76</td>\n",
       "      <td>2.99</td>\n",
       "      <td>0.424613</td>\n",
       "    </tr>\n",
       "    <tr>\n",
       "      <th>Na2O</th>\n",
       "      <td>4304.0</td>\n",
       "      <td>0.07752</td>\n",
       "      <td>0.0</td>\n",
       "      <td>0.07</td>\n",
       "      <td>0.15</td>\n",
       "      <td>0.19</td>\n",
       "      <td>0.024421</td>\n",
       "    </tr>\n",
       "    <tr>\n",
       "      <th>SO3</th>\n",
       "      <td>4304.0</td>\n",
       "      <td>2.59984</td>\n",
       "      <td>0.09</td>\n",
       "      <td>2.57</td>\n",
       "      <td>4.1297</td>\n",
       "      <td>4.92</td>\n",
       "      <td>0.552095</td>\n",
       "    </tr>\n",
       "    <tr>\n",
       "      <th>K2O</th>\n",
       "      <td>3725.0</td>\n",
       "      <td>0.951054</td>\n",
       "      <td>0.07</td>\n",
       "      <td>0.9</td>\n",
       "      <td>1.61</td>\n",
       "      <td>2.62</td>\n",
       "      <td>0.209938</td>\n",
       "    </tr>\n",
       "    <tr>\n",
       "      <th>Loss on Ignition</th>\n",
       "      <td>4236.0</td>\n",
       "      <td>4.200014</td>\n",
       "      <td>0.46</td>\n",
       "      <td>4.04</td>\n",
       "      <td>7.16</td>\n",
       "      <td>8.03</td>\n",
       "      <td>1.198436</td>\n",
       "    </tr>\n",
       "    <tr>\n",
       "      <th>Blaine</th>\n",
       "      <td>4296.0</td>\n",
       "      <td>4386.411313</td>\n",
       "      <td>3085.0</td>\n",
       "      <td>4444.0</td>\n",
       "      <td>4968.05</td>\n",
       "      <td>5187.0</td>\n",
       "      <td>337.926886</td>\n",
       "    </tr>\n",
       "    <tr>\n",
       "      <th>#200</th>\n",
       "      <td>4304.0</td>\n",
       "      <td>0.479985</td>\n",
       "      <td>0.0</td>\n",
       "      <td>0.17</td>\n",
       "      <td>3.8894</td>\n",
       "      <td>4.88</td>\n",
       "      <td>0.810438</td>\n",
       "    </tr>\n",
       "    <tr>\n",
       "      <th>#325</th>\n",
       "      <td>4304.0</td>\n",
       "      <td>3.655007</td>\n",
       "      <td>0.0</td>\n",
       "      <td>2.12</td>\n",
       "      <td>18.5397</td>\n",
       "      <td>19.97</td>\n",
       "      <td>4.093456</td>\n",
       "    </tr>\n",
       "    <tr>\n",
       "      <th>Initial setting time</th>\n",
       "      <td>4285.0</td>\n",
       "      <td>171.256709</td>\n",
       "      <td>65.0</td>\n",
       "      <td>175.0</td>\n",
       "      <td>255.0</td>\n",
       "      <td>290.0</td>\n",
       "      <td>36.880132</td>\n",
       "    </tr>\n",
       "    <tr>\n",
       "      <th>Final setting time</th>\n",
       "      <td>4286.0</td>\n",
       "      <td>228.59986</td>\n",
       "      <td>120.0</td>\n",
       "      <td>230.0</td>\n",
       "      <td>315.0</td>\n",
       "      <td>350.0</td>\n",
       "      <td>40.311323</td>\n",
       "    </tr>\n",
       "    <tr>\n",
       "      <th>CS1</th>\n",
       "      <td>4303.0</td>\n",
       "      <td>19.189455</td>\n",
       "      <td>6.1</td>\n",
       "      <td>17.9</td>\n",
       "      <td>31.998</td>\n",
       "      <td>34.2</td>\n",
       "      <td>7.375121</td>\n",
       "    </tr>\n",
       "    <tr>\n",
       "      <th>CS3</th>\n",
       "      <td>3168.0</td>\n",
       "      <td>30.531795</td>\n",
       "      <td>11.8</td>\n",
       "      <td>29.5</td>\n",
       "      <td>46.333</td>\n",
       "      <td>48.8</td>\n",
       "      <td>8.763508</td>\n",
       "    </tr>\n",
       "    <tr>\n",
       "      <th>CS7</th>\n",
       "      <td>4302.0</td>\n",
       "      <td>37.667954</td>\n",
       "      <td>17.1</td>\n",
       "      <td>39.4</td>\n",
       "      <td>52.1</td>\n",
       "      <td>56.0</td>\n",
       "      <td>8.89938</td>\n",
       "    </tr>\n",
       "    <tr>\n",
       "      <th>CS28</th>\n",
       "      <td>4304.0</td>\n",
       "      <td>48.453971</td>\n",
       "      <td>28.7</td>\n",
       "      <td>51.3</td>\n",
       "      <td>61.2</td>\n",
       "      <td>64.7</td>\n",
       "      <td>8.088512</td>\n",
       "    </tr>\n",
       "  </tbody>\n",
       "</table>\n",
       "</div>"
      ],
      "text/plain": [
       "                       count                           mean  \\\n",
       "Date                    4304  2016-05-16 23:21:31.449814016   \n",
       "MgO                   4304.0                        1.80036   \n",
       "Na2O                  4304.0                        0.07752   \n",
       "SO3                   4304.0                        2.59984   \n",
       "K2O                   3725.0                       0.951054   \n",
       "Loss on Ignition      4236.0                       4.200014   \n",
       "Blaine                4296.0                    4386.411313   \n",
       "#200                  4304.0                       0.479985   \n",
       "#325                  4304.0                       3.655007   \n",
       "Initial setting time  4285.0                     171.256709   \n",
       "Final setting time    4286.0                      228.59986   \n",
       "CS1                   4303.0                      19.189455   \n",
       "CS3                   3168.0                      30.531795   \n",
       "CS7                   4302.0                      37.667954   \n",
       "CS28                  4304.0                      48.453971   \n",
       "\n",
       "                                      min                  50%  \\\n",
       "Date                  2011-05-12 00:00:00  2016-04-04 12:00:00   \n",
       "MgO                                  0.89                 1.83   \n",
       "Na2O                                  0.0                 0.07   \n",
       "SO3                                  0.09                 2.57   \n",
       "K2O                                  0.07                  0.9   \n",
       "Loss on Ignition                     0.46                 4.04   \n",
       "Blaine                             3085.0               4444.0   \n",
       "#200                                  0.0                 0.17   \n",
       "#325                                  0.0                 2.12   \n",
       "Initial setting time                 65.0                175.0   \n",
       "Final setting time                  120.0                230.0   \n",
       "CS1                                   6.1                 17.9   \n",
       "CS3                                  11.8                 29.5   \n",
       "CS7                                  17.1                 39.4   \n",
       "CS28                                 28.7                 51.3   \n",
       "\n",
       "                                      99%                  max         std  \n",
       "Date                  2022-12-12 00:00:00  2023-03-14 00:00:00         NaN  \n",
       "MgO                                  2.76                 2.99    0.424613  \n",
       "Na2O                                 0.15                 0.19    0.024421  \n",
       "SO3                                4.1297                 4.92    0.552095  \n",
       "K2O                                  1.61                 2.62    0.209938  \n",
       "Loss on Ignition                     7.16                 8.03    1.198436  \n",
       "Blaine                            4968.05               5187.0  337.926886  \n",
       "#200                               3.8894                 4.88    0.810438  \n",
       "#325                              18.5397                19.97    4.093456  \n",
       "Initial setting time                255.0                290.0   36.880132  \n",
       "Final setting time                  315.0                350.0   40.311323  \n",
       "CS1                                31.998                 34.2    7.375121  \n",
       "CS3                                46.333                 48.8    8.763508  \n",
       "CS7                                  52.1                 56.0     8.89938  \n",
       "CS28                                 61.2                 64.7    8.088512  "
      ]
     },
     "execution_count": 26,
     "metadata": {},
     "output_type": "execute_result"
    },
    {
     "data": {
      "application/javascript": [
       "\n",
       "            setTimeout(function() {\n",
       "                var nbb_cell_id = 26;\n",
       "                var nbb_unformatted_code = \"df.describe(percentiles=[0.99]).T\";\n",
       "                var nbb_formatted_code = \"df.describe(percentiles=[0.99]).T\";\n",
       "                var nbb_cells = Jupyter.notebook.get_cells();\n",
       "                for (var i = 0; i < nbb_cells.length; ++i) {\n",
       "                    if (nbb_cells[i].input_prompt_number == nbb_cell_id) {\n",
       "                        if (nbb_cells[i].get_text() == nbb_unformatted_code) {\n",
       "                             nbb_cells[i].set_text(nbb_formatted_code);\n",
       "                        }\n",
       "                        break;\n",
       "                    }\n",
       "                }\n",
       "            }, 500);\n",
       "            "
      ],
      "text/plain": [
       "<IPython.core.display.Javascript object>"
      ]
     },
     "metadata": {},
     "output_type": "display_data"
    }
   ],
   "source": [
    "df.describe(percentiles=[0.99]).T"
   ]
  },
  {
   "cell_type": "code",
   "execution_count": 27,
   "id": "cbc4ae32",
   "metadata": {},
   "outputs": [
    {
     "data": {
      "text/html": [
       "<div>\n",
       "<style scoped>\n",
       "    .dataframe tbody tr th:only-of-type {\n",
       "        vertical-align: middle;\n",
       "    }\n",
       "\n",
       "    .dataframe tbody tr th {\n",
       "        vertical-align: top;\n",
       "    }\n",
       "\n",
       "    .dataframe thead th {\n",
       "        text-align: right;\n",
       "    }\n",
       "</style>\n",
       "<table border=\"1\" class=\"dataframe\">\n",
       "  <thead>\n",
       "    <tr style=\"text-align: right;\">\n",
       "      <th></th>\n",
       "      <th>count</th>\n",
       "      <th>unique</th>\n",
       "      <th>top</th>\n",
       "      <th>freq</th>\n",
       "      <th>mean</th>\n",
       "      <th>min</th>\n",
       "      <th>25%</th>\n",
       "      <th>50%</th>\n",
       "      <th>75%</th>\n",
       "      <th>max</th>\n",
       "    </tr>\n",
       "  </thead>\n",
       "  <tbody>\n",
       "    <tr>\n",
       "      <th>Plant</th>\n",
       "      <td>4304</td>\n",
       "      <td>1</td>\n",
       "      <td>M</td>\n",
       "      <td>4304</td>\n",
       "      <td>NaN</td>\n",
       "      <td>NaN</td>\n",
       "      <td>NaN</td>\n",
       "      <td>NaN</td>\n",
       "      <td>NaN</td>\n",
       "      <td>NaN</td>\n",
       "    </tr>\n",
       "    <tr>\n",
       "      <th>Date</th>\n",
       "      <td>4304</td>\n",
       "      <td>NaN</td>\n",
       "      <td>NaN</td>\n",
       "      <td>NaN</td>\n",
       "      <td>2016-05-16 23:21:31.449814016</td>\n",
       "      <td>2011-05-12 00:00:00</td>\n",
       "      <td>2013-08-19 00:00:00</td>\n",
       "      <td>2016-04-04 12:00:00</td>\n",
       "      <td>2018-05-09 06:00:00</td>\n",
       "      <td>2023-03-14 00:00:00</td>\n",
       "    </tr>\n",
       "    <tr>\n",
       "      <th>Cement_Type</th>\n",
       "      <td>4304</td>\n",
       "      <td>8</td>\n",
       "      <td>CP VARI</td>\n",
       "      <td>1636</td>\n",
       "      <td>NaN</td>\n",
       "      <td>NaN</td>\n",
       "      <td>NaN</td>\n",
       "      <td>NaN</td>\n",
       "      <td>NaN</td>\n",
       "      <td>NaN</td>\n",
       "    </tr>\n",
       "  </tbody>\n",
       "</table>\n",
       "</div>"
      ],
      "text/plain": [
       "            count unique      top  freq                           mean  \\\n",
       "Plant        4304      1        M  4304                            NaN   \n",
       "Date         4304    NaN      NaN   NaN  2016-05-16 23:21:31.449814016   \n",
       "Cement_Type  4304      8  CP VARI  1636                            NaN   \n",
       "\n",
       "                             min                  25%                  50%  \\\n",
       "Plant                        NaN                  NaN                  NaN   \n",
       "Date         2011-05-12 00:00:00  2013-08-19 00:00:00  2016-04-04 12:00:00   \n",
       "Cement_Type                  NaN                  NaN                  NaN   \n",
       "\n",
       "                             75%                  max  \n",
       "Plant                        NaN                  NaN  \n",
       "Date         2018-05-09 06:00:00  2023-03-14 00:00:00  \n",
       "Cement_Type                  NaN                  NaN  "
      ]
     },
     "execution_count": 27,
     "metadata": {},
     "output_type": "execute_result"
    },
    {
     "data": {
      "application/javascript": [
       "\n",
       "            setTimeout(function() {\n",
       "                var nbb_cell_id = 27;\n",
       "                var nbb_unformatted_code = \"df.describe(exclude=\\\"number\\\").T\";\n",
       "                var nbb_formatted_code = \"df.describe(exclude=\\\"number\\\").T\";\n",
       "                var nbb_cells = Jupyter.notebook.get_cells();\n",
       "                for (var i = 0; i < nbb_cells.length; ++i) {\n",
       "                    if (nbb_cells[i].input_prompt_number == nbb_cell_id) {\n",
       "                        if (nbb_cells[i].get_text() == nbb_unformatted_code) {\n",
       "                             nbb_cells[i].set_text(nbb_formatted_code);\n",
       "                        }\n",
       "                        break;\n",
       "                    }\n",
       "                }\n",
       "            }, 500);\n",
       "            "
      ],
      "text/plain": [
       "<IPython.core.display.Javascript object>"
      ]
     },
     "metadata": {},
     "output_type": "display_data"
    }
   ],
   "source": [
    "df.describe(exclude=\"number\").T"
   ]
  },
  {
   "cell_type": "markdown",
   "id": "64d78620",
   "metadata": {},
   "source": [
    "### Dropping variable with Plant identification"
   ]
  },
  {
   "cell_type": "code",
   "execution_count": 28,
   "id": "29e2e357",
   "metadata": {},
   "outputs": [
    {
     "data": {
      "application/javascript": [
       "\n",
       "            setTimeout(function() {\n",
       "                var nbb_cell_id = 28;\n",
       "                var nbb_unformatted_code = \"df = df.drop(\\\"Plant\\\", axis=1)\";\n",
       "                var nbb_formatted_code = \"df = df.drop(\\\"Plant\\\", axis=1)\";\n",
       "                var nbb_cells = Jupyter.notebook.get_cells();\n",
       "                for (var i = 0; i < nbb_cells.length; ++i) {\n",
       "                    if (nbb_cells[i].input_prompt_number == nbb_cell_id) {\n",
       "                        if (nbb_cells[i].get_text() == nbb_unformatted_code) {\n",
       "                             nbb_cells[i].set_text(nbb_formatted_code);\n",
       "                        }\n",
       "                        break;\n",
       "                    }\n",
       "                }\n",
       "            }, 500);\n",
       "            "
      ],
      "text/plain": [
       "<IPython.core.display.Javascript object>"
      ]
     },
     "metadata": {},
     "output_type": "display_data"
    }
   ],
   "source": [
    "df = df.drop(\"Plant\", axis=1)"
   ]
  },
  {
   "cell_type": "markdown",
   "id": "b50e290b",
   "metadata": {},
   "source": [
    "### Sort the dataset by date"
   ]
  },
  {
   "cell_type": "code",
   "execution_count": 29,
   "id": "fe34b589",
   "metadata": {},
   "outputs": [
    {
     "data": {
      "text/plain": [
       "dtype('<M8[ns]')"
      ]
     },
     "execution_count": 29,
     "metadata": {},
     "output_type": "execute_result"
    },
    {
     "data": {
      "application/javascript": [
       "\n",
       "            setTimeout(function() {\n",
       "                var nbb_cell_id = 29;\n",
       "                var nbb_unformatted_code = \"# We first make sure Date column was infered correctly\\ndf[\\\"Date\\\"].dtype\";\n",
       "                var nbb_formatted_code = \"# We first make sure Date column was infered correctly\\ndf[\\\"Date\\\"].dtype\";\n",
       "                var nbb_cells = Jupyter.notebook.get_cells();\n",
       "                for (var i = 0; i < nbb_cells.length; ++i) {\n",
       "                    if (nbb_cells[i].input_prompt_number == nbb_cell_id) {\n",
       "                        if (nbb_cells[i].get_text() == nbb_unformatted_code) {\n",
       "                             nbb_cells[i].set_text(nbb_formatted_code);\n",
       "                        }\n",
       "                        break;\n",
       "                    }\n",
       "                }\n",
       "            }, 500);\n",
       "            "
      ],
      "text/plain": [
       "<IPython.core.display.Javascript object>"
      ]
     },
     "metadata": {},
     "output_type": "display_data"
    }
   ],
   "source": [
    "# We first make sure Date column was infered correctly\n",
    "df[\"Date\"].dtype"
   ]
  },
  {
   "cell_type": "code",
   "execution_count": 30,
   "id": "6c1f3e39",
   "metadata": {},
   "outputs": [
    {
     "data": {
      "application/javascript": [
       "\n",
       "            setTimeout(function() {\n",
       "                var nbb_cell_id = 30;\n",
       "                var nbb_unformatted_code = \"df = df.sort_values(by=\\\"Date\\\")\";\n",
       "                var nbb_formatted_code = \"df = df.sort_values(by=\\\"Date\\\")\";\n",
       "                var nbb_cells = Jupyter.notebook.get_cells();\n",
       "                for (var i = 0; i < nbb_cells.length; ++i) {\n",
       "                    if (nbb_cells[i].input_prompt_number == nbb_cell_id) {\n",
       "                        if (nbb_cells[i].get_text() == nbb_unformatted_code) {\n",
       "                             nbb_cells[i].set_text(nbb_formatted_code);\n",
       "                        }\n",
       "                        break;\n",
       "                    }\n",
       "                }\n",
       "            }, 500);\n",
       "            "
      ],
      "text/plain": [
       "<IPython.core.display.Javascript object>"
      ]
     },
     "metadata": {},
     "output_type": "display_data"
    }
   ],
   "source": [
    "df = df.sort_values(by=\"Date\")"
   ]
  },
  {
   "cell_type": "markdown",
   "id": "5e208a81",
   "metadata": {},
   "source": [
    "## Saving the dataset"
   ]
  },
  {
   "cell_type": "markdown",
   "id": "7f2ef40f",
   "metadata": {},
   "source": [
    "<h3>Saving for feature engineering</h3>"
   ]
  },
  {
   "cell_type": "code",
   "execution_count": 31,
   "id": "9430ae65",
   "metadata": {},
   "outputs": [
    {
     "data": {
      "application/javascript": [
       "\n",
       "            setTimeout(function() {\n",
       "                var nbb_cell_id = 31;\n",
       "                var nbb_unformatted_code = \"df.to_csv(\\\"../../../../data/interim/203/m.csv\\\", index=False)\";\n",
       "                var nbb_formatted_code = \"df.to_csv(\\\"../../../../data/interim/203/m.csv\\\", index=False)\";\n",
       "                var nbb_cells = Jupyter.notebook.get_cells();\n",
       "                for (var i = 0; i < nbb_cells.length; ++i) {\n",
       "                    if (nbb_cells[i].input_prompt_number == nbb_cell_id) {\n",
       "                        if (nbb_cells[i].get_text() == nbb_unformatted_code) {\n",
       "                             nbb_cells[i].set_text(nbb_formatted_code);\n",
       "                        }\n",
       "                        break;\n",
       "                    }\n",
       "                }\n",
       "            }, 500);\n",
       "            "
      ],
      "text/plain": [
       "<IPython.core.display.Javascript object>"
      ]
     },
     "metadata": {},
     "output_type": "display_data"
    }
   ],
   "source": [
    "df.to_csv(\"../../../../data/interim/203/m.csv\", index=False)"
   ]
  },
  {
   "cell_type": "code",
   "execution_count": null,
   "id": "085b64e9",
   "metadata": {},
   "outputs": [],
   "source": []
  }
 ],
 "metadata": {
  "kernelspec": {
   "display_name": "ccs28-venv",
   "language": "python",
   "name": "ccs28-venv"
  },
  "language_info": {
   "codemirror_mode": {
    "name": "ipython",
    "version": 3
   },
   "file_extension": ".py",
   "mimetype": "text/x-python",
   "name": "python",
   "nbconvert_exporter": "python",
   "pygments_lexer": "ipython3",
   "version": "3.10.12"
  }
 },
 "nbformat": 4,
 "nbformat_minor": 5
}
