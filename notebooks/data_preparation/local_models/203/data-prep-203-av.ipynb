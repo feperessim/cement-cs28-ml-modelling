{
 "cells": [
  {
   "cell_type": "code",
   "execution_count": 1,
   "id": "7074d663",
   "metadata": {},
   "outputs": [
    {
     "data": {
      "application/javascript": [
       "\n",
       "            setTimeout(function() {\n",
       "                var nbb_cell_id = 1;\n",
       "                var nbb_unformatted_code = \"%load_ext nb_black\";\n",
       "                var nbb_formatted_code = \"%load_ext nb_black\";\n",
       "                var nbb_cells = Jupyter.notebook.get_cells();\n",
       "                for (var i = 0; i < nbb_cells.length; ++i) {\n",
       "                    if (nbb_cells[i].input_prompt_number == nbb_cell_id) {\n",
       "                        if (nbb_cells[i].get_text() == nbb_unformatted_code) {\n",
       "                             nbb_cells[i].set_text(nbb_formatted_code);\n",
       "                        }\n",
       "                        break;\n",
       "                    }\n",
       "                }\n",
       "            }, 500);\n",
       "            "
      ],
      "text/plain": [
       "<IPython.core.display.Javascript object>"
      ]
     },
     "metadata": {},
     "output_type": "display_data"
    }
   ],
   "source": [
    "%load_ext nb_black"
   ]
  },
  {
   "cell_type": "code",
   "execution_count": 2,
   "id": "781315e2",
   "metadata": {},
   "outputs": [
    {
     "data": {
      "application/javascript": [
       "\n",
       "            setTimeout(function() {\n",
       "                var nbb_cell_id = 2;\n",
       "                var nbb_unformatted_code = \"import pandas as pd\\nimport numpy as np\";\n",
       "                var nbb_formatted_code = \"import pandas as pd\\nimport numpy as np\";\n",
       "                var nbb_cells = Jupyter.notebook.get_cells();\n",
       "                for (var i = 0; i < nbb_cells.length; ++i) {\n",
       "                    if (nbb_cells[i].input_prompt_number == nbb_cell_id) {\n",
       "                        if (nbb_cells[i].get_text() == nbb_unformatted_code) {\n",
       "                             nbb_cells[i].set_text(nbb_formatted_code);\n",
       "                        }\n",
       "                        break;\n",
       "                    }\n",
       "                }\n",
       "            }, 500);\n",
       "            "
      ],
      "text/plain": [
       "<IPython.core.display.Javascript object>"
      ]
     },
     "metadata": {},
     "output_type": "display_data"
    }
   ],
   "source": [
    "import pandas as pd\n",
    "import numpy as np"
   ]
  },
  {
   "cell_type": "code",
   "execution_count": 3,
   "id": "1b9bbb2a",
   "metadata": {},
   "outputs": [
    {
     "data": {
      "application/javascript": [
       "\n",
       "            setTimeout(function() {\n",
       "                var nbb_cell_id = 3;\n",
       "                var nbb_unformatted_code = \"def convert_to_float(value):\\n    try:\\n        # If it's a string enclosed in single quotes, remove quotes and replace comma with dot\\n        if isinstance(value, str):\\n            return float(value.replace(\\\",\\\", \\\".\\\"))\\n        else:\\n            return float(value)\\n    except ValueError as e:\\n        print(e)\\n        return float(\\\"nan\\\")\";\n",
       "                var nbb_formatted_code = \"def convert_to_float(value):\\n    try:\\n        # If it's a string enclosed in single quotes, remove quotes and replace comma with dot\\n        if isinstance(value, str):\\n            return float(value.replace(\\\",\\\", \\\".\\\"))\\n        else:\\n            return float(value)\\n    except ValueError as e:\\n        print(e)\\n        return float(\\\"nan\\\")\";\n",
       "                var nbb_cells = Jupyter.notebook.get_cells();\n",
       "                for (var i = 0; i < nbb_cells.length; ++i) {\n",
       "                    if (nbb_cells[i].input_prompt_number == nbb_cell_id) {\n",
       "                        if (nbb_cells[i].get_text() == nbb_unformatted_code) {\n",
       "                             nbb_cells[i].set_text(nbb_formatted_code);\n",
       "                        }\n",
       "                        break;\n",
       "                    }\n",
       "                }\n",
       "            }, 500);\n",
       "            "
      ],
      "text/plain": [
       "<IPython.core.display.Javascript object>"
      ]
     },
     "metadata": {},
     "output_type": "display_data"
    }
   ],
   "source": [
    "def convert_to_float(value):\n",
    "    try:\n",
    "        # If it's a string enclosed in single quotes, remove quotes and replace comma with dot\n",
    "        if isinstance(value, str):\n",
    "            return float(value.replace(\",\", \".\"))\n",
    "        else:\n",
    "            return float(value)\n",
    "    except ValueError as e:\n",
    "        print(e)\n",
    "        return float(\"nan\")"
   ]
  },
  {
   "cell_type": "markdown",
   "id": "a5b544e2",
   "metadata": {},
   "source": [
    "## Reading the dataset"
   ]
  },
  {
   "cell_type": "code",
   "execution_count": 4,
   "id": "e3a425c3",
   "metadata": {},
   "outputs": [
    {
     "data": {
      "application/javascript": [
       "\n",
       "            setTimeout(function() {\n",
       "                var nbb_cell_id = 4;\n",
       "                var nbb_unformatted_code = \"plant = \\\"AV\\\"\\n\\nxls = pd.ExcelFile(\\n    f\\\"../../../../data/raw/203/EMBRAPII hubIC IACC_CIMENTO_{plant}.xlsx\\\",\\n    engine=\\\"openpyxl\\\",\\n)\";\n",
       "                var nbb_formatted_code = \"plant = \\\"AV\\\"\\n\\nxls = pd.ExcelFile(\\n    f\\\"../../../../data/raw/203/EMBRAPII hubIC IACC_CIMENTO_{plant}.xlsx\\\",\\n    engine=\\\"openpyxl\\\",\\n)\";\n",
       "                var nbb_cells = Jupyter.notebook.get_cells();\n",
       "                for (var i = 0; i < nbb_cells.length; ++i) {\n",
       "                    if (nbb_cells[i].input_prompt_number == nbb_cell_id) {\n",
       "                        if (nbb_cells[i].get_text() == nbb_unformatted_code) {\n",
       "                             nbb_cells[i].set_text(nbb_formatted_code);\n",
       "                        }\n",
       "                        break;\n",
       "                    }\n",
       "                }\n",
       "            }, 500);\n",
       "            "
      ],
      "text/plain": [
       "<IPython.core.display.Javascript object>"
      ]
     },
     "metadata": {},
     "output_type": "display_data"
    }
   ],
   "source": [
    "plant = \"AV\"\n",
    "\n",
    "xls = pd.ExcelFile(\n",
    "    f\"../../../../data/raw/203/EMBRAPII hubIC IACC_CIMENTO_{plant}.xlsx\",\n",
    "    engine=\"openpyxl\",\n",
    ")"
   ]
  },
  {
   "cell_type": "code",
   "execution_count": 5,
   "id": "9fbcc641",
   "metadata": {},
   "outputs": [
    {
     "data": {
      "application/javascript": [
       "\n",
       "            setTimeout(function() {\n",
       "                var nbb_cell_id = 5;\n",
       "                var nbb_unformatted_code = \"dataframes = []\\n\\nfor sheet_name in xls.sheet_names[1:]:\\n    df = pd.read_excel(xls, sheet_name, header=[0, 1, 2])\\n    dataframes.append(df.drop([0, 1], axis=0).reset_index(drop=True).copy())\\n\\ndf = pd.concat(dataframes, axis=0).reset_index(drop=True)\";\n",
       "                var nbb_formatted_code = \"dataframes = []\\n\\nfor sheet_name in xls.sheet_names[1:]:\\n    df = pd.read_excel(xls, sheet_name, header=[0, 1, 2])\\n    dataframes.append(df.drop([0, 1], axis=0).reset_index(drop=True).copy())\\n\\ndf = pd.concat(dataframes, axis=0).reset_index(drop=True)\";\n",
       "                var nbb_cells = Jupyter.notebook.get_cells();\n",
       "                for (var i = 0; i < nbb_cells.length; ++i) {\n",
       "                    if (nbb_cells[i].input_prompt_number == nbb_cell_id) {\n",
       "                        if (nbb_cells[i].get_text() == nbb_unformatted_code) {\n",
       "                             nbb_cells[i].set_text(nbb_formatted_code);\n",
       "                        }\n",
       "                        break;\n",
       "                    }\n",
       "                }\n",
       "            }, 500);\n",
       "            "
      ],
      "text/plain": [
       "<IPython.core.display.Javascript object>"
      ]
     },
     "metadata": {},
     "output_type": "display_data"
    }
   ],
   "source": [
    "dataframes = []\n",
    "\n",
    "for sheet_name in xls.sheet_names[1:]:\n",
    "    df = pd.read_excel(xls, sheet_name, header=[0, 1, 2])\n",
    "    dataframes.append(df.drop([0, 1], axis=0).reset_index(drop=True).copy())\n",
    "\n",
    "df = pd.concat(dataframes, axis=0).reset_index(drop=True)"
   ]
  },
  {
   "cell_type": "markdown",
   "id": "b3ebdac9",
   "metadata": {},
   "source": [
    "## Initial Preprocessing"
   ]
  },
  {
   "cell_type": "code",
   "execution_count": 6,
   "id": "190a4f39",
   "metadata": {},
   "outputs": [
    {
     "data": {
      "application/javascript": [
       "\n",
       "            setTimeout(function() {\n",
       "                var nbb_cell_id = 6;\n",
       "                var nbb_unformatted_code = \"df = pd.concat(\\n    [\\n        df[\\\"Dados iniciais\\\"],\\n        df[\\\"Cimento\\\"][\\\"An\\u00e1lise qu\\u00edmica\\\"],\\n        df[\\\"Caracter\\u00edstias f\\u00edsicas do cimento\\\"],\\n        df[\\\"Propriedades do cimento\\\"],\\n    ],\\n    axis=1,\\n)\";\n",
       "                var nbb_formatted_code = \"df = pd.concat(\\n    [\\n        df[\\\"Dados iniciais\\\"],\\n        df[\\\"Cimento\\\"][\\\"An\\u00e1lise qu\\u00edmica\\\"],\\n        df[\\\"Caracter\\u00edstias f\\u00edsicas do cimento\\\"],\\n        df[\\\"Propriedades do cimento\\\"],\\n    ],\\n    axis=1,\\n)\";\n",
       "                var nbb_cells = Jupyter.notebook.get_cells();\n",
       "                for (var i = 0; i < nbb_cells.length; ++i) {\n",
       "                    if (nbb_cells[i].input_prompt_number == nbb_cell_id) {\n",
       "                        if (nbb_cells[i].get_text() == nbb_unformatted_code) {\n",
       "                             nbb_cells[i].set_text(nbb_formatted_code);\n",
       "                        }\n",
       "                        break;\n",
       "                    }\n",
       "                }\n",
       "            }, 500);\n",
       "            "
      ],
      "text/plain": [
       "<IPython.core.display.Javascript object>"
      ]
     },
     "metadata": {},
     "output_type": "display_data"
    }
   ],
   "source": [
    "df = pd.concat(\n",
    "    [\n",
    "        df[\"Dados iniciais\"],\n",
    "        df[\"Cimento\"][\"Análise química\"],\n",
    "        df[\"Característias físicas do cimento\"],\n",
    "        df[\"Propriedades do cimento\"],\n",
    "    ],\n",
    "    axis=1,\n",
    ")"
   ]
  },
  {
   "cell_type": "markdown",
   "id": "24fdbf2f",
   "metadata": {},
   "source": [
    "### 1. Dropping columns where either there is no data nor it contributes to the analysis\n",
    "### 2. Renaming columns to a short identifiable name "
   ]
  },
  {
   "cell_type": "code",
   "execution_count": 7,
   "id": "733b4526",
   "metadata": {},
   "outputs": [
    {
     "data": {
      "application/javascript": [
       "\n",
       "            setTimeout(function() {\n",
       "                var nbb_cell_id = 7;\n",
       "                var nbb_unformatted_code = \"COLUMNS_TO_DROP = [\\n    (\\\"Data\\\", \\\"Produ\\u00e7\\u00e3o\\\"),\\n    (\\\"Hor\\u00e1rio\\\", \\\"Produ\\u00e7\\u00e3o\\\"),\\n    (\\\"Hor\\u00e1rio\\\", \\\"Medida\\\"),\\n    (\\\"Obs.\\\", \\\"Unnamed: 148_level_2\\\"),\\n    (\\\"Tipo de cimento\\\", \\\"Unnamed: 6_level_2\\\"),\\n    (\\\"Classe de resist\\u00eancia\\\", \\\"Unnamed: 7_level_2\\\"),\\n    (\\\"Obs.\\\", \\\"Unnamed: 8_level_2\\\"),\\n    \\\"Obs.\\\",\\n    (\\\"Obs.\\\", \\\"Unnamed: 148_level_2\\\"),\\n    (\\\"Unnamed: 141_level_1\\\", \\\"Obs.\\\"),\\n    (\\\"Unnamed: 139_level_1\\\", \\\"#400\\\"),\\n]\\n\\nCOLUMNS_TO_RENAME = {\\n    (\\\"Cidade\\\", \\\"Unnamed: 1_level_2\\\"): \\\"Plant\\\",\\n    (\\\"Data\\\", \\\"Medida\\\"): \\\"Date\\\",\\n    (\\\"Unnamed: 136_level_1\\\", \\\"Blaine\\\"): \\\"Blaine\\\",\\n    (\\\"Unnamed: 137_level_1\\\", \\\"#200\\\"): \\\"#200\\\",\\n    (\\\"Unnamed: 138_level_1\\\", \\\"#325\\\"): \\\"#325\\\",\\n    (\\\"Unnamed: 139_level_1\\\", \\\"#400\\\"): \\\"#400\\\",\\n    (\\\"Unnamed: 140_level_1\\\", \\\"Massa espec\\u00edfica\\\"): \\\"Specific Gravity\\\",\\n    (\\\"Tempo de pega\\\", \\\"Fim\\\"): \\\"Final setting time\\\",\\n    (\\\"Tempo de pega\\\", \\\"Inicio\\\"): \\\"Initial setting time\\\",\\n    (\\\"Resist\\u00eancia \\u00e0 compress\\u00e3o\\\", \\\"1 d\\\"): \\\"CS1\\\",\\n    (\\\"Resist\\u00eancia \\u00e0 compress\\u00e3o\\\", \\\"3 d\\\"): \\\"CS3\\\",\\n    (\\\"Resist\\u00eancia \\u00e0 compress\\u00e3o\\\", \\\"7 d\\\"): \\\"CS7\\\",\\n    (\\\"Resist\\u00eancia \\u00e0 compress\\u00e3o\\\", \\\"28 d\\\"): \\\"CS28\\\",\\n    \\\"Perda ao fogo\\\": \\\"Loss on Ignition\\\",\\n    \\\"Res\\u00edduo insol\\u00favel\\\": \\\"Insoluble Residue\\\",\\n}\";\n",
       "                var nbb_formatted_code = \"COLUMNS_TO_DROP = [\\n    (\\\"Data\\\", \\\"Produ\\u00e7\\u00e3o\\\"),\\n    (\\\"Hor\\u00e1rio\\\", \\\"Produ\\u00e7\\u00e3o\\\"),\\n    (\\\"Hor\\u00e1rio\\\", \\\"Medida\\\"),\\n    (\\\"Obs.\\\", \\\"Unnamed: 148_level_2\\\"),\\n    (\\\"Tipo de cimento\\\", \\\"Unnamed: 6_level_2\\\"),\\n    (\\\"Classe de resist\\u00eancia\\\", \\\"Unnamed: 7_level_2\\\"),\\n    (\\\"Obs.\\\", \\\"Unnamed: 8_level_2\\\"),\\n    \\\"Obs.\\\",\\n    (\\\"Obs.\\\", \\\"Unnamed: 148_level_2\\\"),\\n    (\\\"Unnamed: 141_level_1\\\", \\\"Obs.\\\"),\\n    (\\\"Unnamed: 139_level_1\\\", \\\"#400\\\"),\\n]\\n\\nCOLUMNS_TO_RENAME = {\\n    (\\\"Cidade\\\", \\\"Unnamed: 1_level_2\\\"): \\\"Plant\\\",\\n    (\\\"Data\\\", \\\"Medida\\\"): \\\"Date\\\",\\n    (\\\"Unnamed: 136_level_1\\\", \\\"Blaine\\\"): \\\"Blaine\\\",\\n    (\\\"Unnamed: 137_level_1\\\", \\\"#200\\\"): \\\"#200\\\",\\n    (\\\"Unnamed: 138_level_1\\\", \\\"#325\\\"): \\\"#325\\\",\\n    (\\\"Unnamed: 139_level_1\\\", \\\"#400\\\"): \\\"#400\\\",\\n    (\\\"Unnamed: 140_level_1\\\", \\\"Massa espec\\u00edfica\\\"): \\\"Specific Gravity\\\",\\n    (\\\"Tempo de pega\\\", \\\"Fim\\\"): \\\"Final setting time\\\",\\n    (\\\"Tempo de pega\\\", \\\"Inicio\\\"): \\\"Initial setting time\\\",\\n    (\\\"Resist\\u00eancia \\u00e0 compress\\u00e3o\\\", \\\"1 d\\\"): \\\"CS1\\\",\\n    (\\\"Resist\\u00eancia \\u00e0 compress\\u00e3o\\\", \\\"3 d\\\"): \\\"CS3\\\",\\n    (\\\"Resist\\u00eancia \\u00e0 compress\\u00e3o\\\", \\\"7 d\\\"): \\\"CS7\\\",\\n    (\\\"Resist\\u00eancia \\u00e0 compress\\u00e3o\\\", \\\"28 d\\\"): \\\"CS28\\\",\\n    \\\"Perda ao fogo\\\": \\\"Loss on Ignition\\\",\\n    \\\"Res\\u00edduo insol\\u00favel\\\": \\\"Insoluble Residue\\\",\\n}\";\n",
       "                var nbb_cells = Jupyter.notebook.get_cells();\n",
       "                for (var i = 0; i < nbb_cells.length; ++i) {\n",
       "                    if (nbb_cells[i].input_prompt_number == nbb_cell_id) {\n",
       "                        if (nbb_cells[i].get_text() == nbb_unformatted_code) {\n",
       "                             nbb_cells[i].set_text(nbb_formatted_code);\n",
       "                        }\n",
       "                        break;\n",
       "                    }\n",
       "                }\n",
       "            }, 500);\n",
       "            "
      ],
      "text/plain": [
       "<IPython.core.display.Javascript object>"
      ]
     },
     "metadata": {},
     "output_type": "display_data"
    }
   ],
   "source": [
    "COLUMNS_TO_DROP = [\n",
    "    (\"Data\", \"Produção\"),\n",
    "    (\"Horário\", \"Produção\"),\n",
    "    (\"Horário\", \"Medida\"),\n",
    "    (\"Obs.\", \"Unnamed: 148_level_2\"),\n",
    "    (\"Tipo de cimento\", \"Unnamed: 6_level_2\"),\n",
    "    (\"Classe de resistência\", \"Unnamed: 7_level_2\"),\n",
    "    (\"Obs.\", \"Unnamed: 8_level_2\"),\n",
    "    \"Obs.\",\n",
    "    (\"Obs.\", \"Unnamed: 148_level_2\"),\n",
    "    (\"Unnamed: 141_level_1\", \"Obs.\"),\n",
    "    (\"Unnamed: 139_level_1\", \"#400\"),\n",
    "]\n",
    "\n",
    "COLUMNS_TO_RENAME = {\n",
    "    (\"Cidade\", \"Unnamed: 1_level_2\"): \"Plant\",\n",
    "    (\"Data\", \"Medida\"): \"Date\",\n",
    "    (\"Unnamed: 136_level_1\", \"Blaine\"): \"Blaine\",\n",
    "    (\"Unnamed: 137_level_1\", \"#200\"): \"#200\",\n",
    "    (\"Unnamed: 138_level_1\", \"#325\"): \"#325\",\n",
    "    (\"Unnamed: 139_level_1\", \"#400\"): \"#400\",\n",
    "    (\"Unnamed: 140_level_1\", \"Massa específica\"): \"Specific Gravity\",\n",
    "    (\"Tempo de pega\", \"Fim\"): \"Final setting time\",\n",
    "    (\"Tempo de pega\", \"Inicio\"): \"Initial setting time\",\n",
    "    (\"Resistência à compressão\", \"1 d\"): \"CS1\",\n",
    "    (\"Resistência à compressão\", \"3 d\"): \"CS3\",\n",
    "    (\"Resistência à compressão\", \"7 d\"): \"CS7\",\n",
    "    (\"Resistência à compressão\", \"28 d\"): \"CS28\",\n",
    "    \"Perda ao fogo\": \"Loss on Ignition\",\n",
    "    \"Resíduo insolúvel\": \"Insoluble Residue\",\n",
    "}"
   ]
  },
  {
   "cell_type": "markdown",
   "id": "972984a8",
   "metadata": {},
   "source": [
    "### Defining a single variable to identify Cement Type"
   ]
  },
  {
   "cell_type": "code",
   "execution_count": 8,
   "id": "c1c102b2",
   "metadata": {},
   "outputs": [
    {
     "data": {
      "application/javascript": [
       "\n",
       "            setTimeout(function() {\n",
       "                var nbb_cell_id = 8;\n",
       "                var nbb_unformatted_code = \"df[\\\"Cement_Type\\\"] = (\\n    df[\\n        [\\n            (\\\"Tipo de cimento\\\", \\\"Unnamed: 6_level_2\\\"),\\n            (\\\"Classe de resist\\u00eancia\\\", \\\"Unnamed: 7_level_2\\\"),\\n            (\\\"Obs.\\\", \\\"Unnamed: 8_level_2\\\"),\\n        ]\\n    ]\\n    .fillna(\\\"\\\")\\n    .astype(str)\\n    .sum(axis=1)\\n)\";\n",
       "                var nbb_formatted_code = \"df[\\\"Cement_Type\\\"] = (\\n    df[\\n        [\\n            (\\\"Tipo de cimento\\\", \\\"Unnamed: 6_level_2\\\"),\\n            (\\\"Classe de resist\\u00eancia\\\", \\\"Unnamed: 7_level_2\\\"),\\n            (\\\"Obs.\\\", \\\"Unnamed: 8_level_2\\\"),\\n        ]\\n    ]\\n    .fillna(\\\"\\\")\\n    .astype(str)\\n    .sum(axis=1)\\n)\";\n",
       "                var nbb_cells = Jupyter.notebook.get_cells();\n",
       "                for (var i = 0; i < nbb_cells.length; ++i) {\n",
       "                    if (nbb_cells[i].input_prompt_number == nbb_cell_id) {\n",
       "                        if (nbb_cells[i].get_text() == nbb_unformatted_code) {\n",
       "                             nbb_cells[i].set_text(nbb_formatted_code);\n",
       "                        }\n",
       "                        break;\n",
       "                    }\n",
       "                }\n",
       "            }, 500);\n",
       "            "
      ],
      "text/plain": [
       "<IPython.core.display.Javascript object>"
      ]
     },
     "metadata": {},
     "output_type": "display_data"
    }
   ],
   "source": [
    "df[\"Cement_Type\"] = (\n",
    "    df[\n",
    "        [\n",
    "            (\"Tipo de cimento\", \"Unnamed: 6_level_2\"),\n",
    "            (\"Classe de resistência\", \"Unnamed: 7_level_2\"),\n",
    "            (\"Obs.\", \"Unnamed: 8_level_2\"),\n",
    "        ]\n",
    "    ]\n",
    "    .fillna(\"\")\n",
    "    .astype(str)\n",
    "    .sum(axis=1)\n",
    ")"
   ]
  },
  {
   "cell_type": "markdown",
   "id": "743d76ce",
   "metadata": {},
   "source": [
    "### Replacing the current cement type categories for a short identifiable category"
   ]
  },
  {
   "cell_type": "code",
   "execution_count": 9,
   "id": "bcaa09cb",
   "metadata": {},
   "outputs": [
    {
     "data": {
      "application/javascript": [
       "\n",
       "            setTimeout(function() {\n",
       "                var nbb_cell_id = 9;\n",
       "                var nbb_unformatted_code = \"# Preprocessing\\ndf[\\\"Cement_Type\\\"] = df[\\\"Cement_Type\\\"].replace(\\\"FIBROCMENTO\\\", \\\"Fibrocimento\\\")\\ndf[\\\"Cement_Type\\\"] = df[\\\"Cement_Type\\\"].replace(\\\"CP VARIEnsacado\\\", \\\"CP VARI\\\")\\ndf[\\\"Cement_Type\\\"] = df[\\\"Cement_Type\\\"].replace(\\\"CP VARIGranel\\\", \\\"CP VARI\\\")\\ndf[\\\"Cement_Type\\\"] = df[\\\"Cement_Type\\\"].replace(\\\"CP III40Ensacado\\\", \\\"CP III40\\\")\\ndf[\\\"Cement_Type\\\"] = df[\\\"Cement_Type\\\"].replace(\\\"CP III40Granel\\\", \\\"CP III40\\\")\\ndf[\\\"Cement_Type\\\"] = df[\\\"Cement_Type\\\"].replace(\\\"CP VARIRS\\\", \\\"CP VARI\\\")\";\n",
       "                var nbb_formatted_code = \"# Preprocessing\\ndf[\\\"Cement_Type\\\"] = df[\\\"Cement_Type\\\"].replace(\\\"FIBROCMENTO\\\", \\\"Fibrocimento\\\")\\ndf[\\\"Cement_Type\\\"] = df[\\\"Cement_Type\\\"].replace(\\\"CP VARIEnsacado\\\", \\\"CP VARI\\\")\\ndf[\\\"Cement_Type\\\"] = df[\\\"Cement_Type\\\"].replace(\\\"CP VARIGranel\\\", \\\"CP VARI\\\")\\ndf[\\\"Cement_Type\\\"] = df[\\\"Cement_Type\\\"].replace(\\\"CP III40Ensacado\\\", \\\"CP III40\\\")\\ndf[\\\"Cement_Type\\\"] = df[\\\"Cement_Type\\\"].replace(\\\"CP III40Granel\\\", \\\"CP III40\\\")\\ndf[\\\"Cement_Type\\\"] = df[\\\"Cement_Type\\\"].replace(\\\"CP VARIRS\\\", \\\"CP VARI\\\")\";\n",
       "                var nbb_cells = Jupyter.notebook.get_cells();\n",
       "                for (var i = 0; i < nbb_cells.length; ++i) {\n",
       "                    if (nbb_cells[i].input_prompt_number == nbb_cell_id) {\n",
       "                        if (nbb_cells[i].get_text() == nbb_unformatted_code) {\n",
       "                             nbb_cells[i].set_text(nbb_formatted_code);\n",
       "                        }\n",
       "                        break;\n",
       "                    }\n",
       "                }\n",
       "            }, 500);\n",
       "            "
      ],
      "text/plain": [
       "<IPython.core.display.Javascript object>"
      ]
     },
     "metadata": {},
     "output_type": "display_data"
    }
   ],
   "source": [
    "# Preprocessing\n",
    "df[\"Cement_Type\"] = df[\"Cement_Type\"].replace(\"FIBROCMENTO\", \"Fibrocimento\")\n",
    "df[\"Cement_Type\"] = df[\"Cement_Type\"].replace(\"CP VARIEnsacado\", \"CP VARI\")\n",
    "df[\"Cement_Type\"] = df[\"Cement_Type\"].replace(\"CP VARIGranel\", \"CP VARI\")\n",
    "df[\"Cement_Type\"] = df[\"Cement_Type\"].replace(\"CP III40Ensacado\", \"CP III40\")\n",
    "df[\"Cement_Type\"] = df[\"Cement_Type\"].replace(\"CP III40Granel\", \"CP III40\")\n",
    "df[\"Cement_Type\"] = df[\"Cement_Type\"].replace(\"CP VARIRS\", \"CP VARI\")"
   ]
  },
  {
   "cell_type": "markdown",
   "id": "93e085fe",
   "metadata": {},
   "source": [
    "### Dropping and rename the columns defined above"
   ]
  },
  {
   "cell_type": "code",
   "execution_count": 10,
   "id": "7a92dced",
   "metadata": {},
   "outputs": [
    {
     "data": {
      "application/javascript": [
       "\n",
       "            setTimeout(function() {\n",
       "                var nbb_cell_id = 10;\n",
       "                var nbb_unformatted_code = \"df = df.drop(COLUMNS_TO_DROP, axis=1).rename(COLUMNS_TO_RENAME, axis=1).copy()\\ndf = df.infer_objects()\";\n",
       "                var nbb_formatted_code = \"df = df.drop(COLUMNS_TO_DROP, axis=1).rename(COLUMNS_TO_RENAME, axis=1).copy()\\ndf = df.infer_objects()\";\n",
       "                var nbb_cells = Jupyter.notebook.get_cells();\n",
       "                for (var i = 0; i < nbb_cells.length; ++i) {\n",
       "                    if (nbb_cells[i].input_prompt_number == nbb_cell_id) {\n",
       "                        if (nbb_cells[i].get_text() == nbb_unformatted_code) {\n",
       "                             nbb_cells[i].set_text(nbb_formatted_code);\n",
       "                        }\n",
       "                        break;\n",
       "                    }\n",
       "                }\n",
       "            }, 500);\n",
       "            "
      ],
      "text/plain": [
       "<IPython.core.display.Javascript object>"
      ]
     },
     "metadata": {},
     "output_type": "display_data"
    }
   ],
   "source": [
    "df = df.drop(COLUMNS_TO_DROP, axis=1).rename(COLUMNS_TO_RENAME, axis=1).copy()\n",
    "df = df.infer_objects()"
   ]
  },
  {
   "cell_type": "markdown",
   "id": "0d616443",
   "metadata": {},
   "source": [
    "### Clean and converting numeric columns to float"
   ]
  },
  {
   "cell_type": "code",
   "execution_count": 11,
   "id": "3c13adf3",
   "metadata": {},
   "outputs": [
    {
     "data": {
      "application/javascript": [
       "\n",
       "            setTimeout(function() {\n",
       "                var nbb_cell_id = 11;\n",
       "                var nbb_unformatted_code = \"NUMERIC_COLUMNS = [\\n    \\\"CaO\\\",\\n    \\\"MgO\\\",\\n    \\\"Na2O\\\",\\n    \\\"Al2O3\\\",\\n    \\\"SiO2\\\",\\n    \\\"SO3\\\",\\n    \\\"K2O\\\",\\n    \\\"TiO2\\\",\\n    \\\"Fe2O3\\\",\\n    \\\"Loss on Ignition\\\",\\n    \\\"Insoluble Residue\\\",\\n    \\\"Blaine\\\",\\n    \\\"#200\\\",\\n    \\\"#325\\\",\\n    \\\"Specific Gravity\\\",\\n    \\\"Final setting time\\\",\\n    \\\"Initial setting time\\\",\\n    \\\"CS1\\\",\\n    \\\"CS3\\\",\\n    \\\"CS7\\\",\\n    \\\"CS28\\\",\\n]\\n\\ndf[NUMERIC_COLUMNS] = df[NUMERIC_COLUMNS].map(convert_to_float)\";\n",
       "                var nbb_formatted_code = \"NUMERIC_COLUMNS = [\\n    \\\"CaO\\\",\\n    \\\"MgO\\\",\\n    \\\"Na2O\\\",\\n    \\\"Al2O3\\\",\\n    \\\"SiO2\\\",\\n    \\\"SO3\\\",\\n    \\\"K2O\\\",\\n    \\\"TiO2\\\",\\n    \\\"Fe2O3\\\",\\n    \\\"Loss on Ignition\\\",\\n    \\\"Insoluble Residue\\\",\\n    \\\"Blaine\\\",\\n    \\\"#200\\\",\\n    \\\"#325\\\",\\n    \\\"Specific Gravity\\\",\\n    \\\"Final setting time\\\",\\n    \\\"Initial setting time\\\",\\n    \\\"CS1\\\",\\n    \\\"CS3\\\",\\n    \\\"CS7\\\",\\n    \\\"CS28\\\",\\n]\\n\\ndf[NUMERIC_COLUMNS] = df[NUMERIC_COLUMNS].map(convert_to_float)\";\n",
       "                var nbb_cells = Jupyter.notebook.get_cells();\n",
       "                for (var i = 0; i < nbb_cells.length; ++i) {\n",
       "                    if (nbb_cells[i].input_prompt_number == nbb_cell_id) {\n",
       "                        if (nbb_cells[i].get_text() == nbb_unformatted_code) {\n",
       "                             nbb_cells[i].set_text(nbb_formatted_code);\n",
       "                        }\n",
       "                        break;\n",
       "                    }\n",
       "                }\n",
       "            }, 500);\n",
       "            "
      ],
      "text/plain": [
       "<IPython.core.display.Javascript object>"
      ]
     },
     "metadata": {},
     "output_type": "display_data"
    }
   ],
   "source": [
    "NUMERIC_COLUMNS = [\n",
    "    \"CaO\",\n",
    "    \"MgO\",\n",
    "    \"Na2O\",\n",
    "    \"Al2O3\",\n",
    "    \"SiO2\",\n",
    "    \"SO3\",\n",
    "    \"K2O\",\n",
    "    \"TiO2\",\n",
    "    \"Fe2O3\",\n",
    "    \"Loss on Ignition\",\n",
    "    \"Insoluble Residue\",\n",
    "    \"Blaine\",\n",
    "    \"#200\",\n",
    "    \"#325\",\n",
    "    \"Specific Gravity\",\n",
    "    \"Final setting time\",\n",
    "    \"Initial setting time\",\n",
    "    \"CS1\",\n",
    "    \"CS3\",\n",
    "    \"CS7\",\n",
    "    \"CS28\",\n",
    "]\n",
    "\n",
    "df[NUMERIC_COLUMNS] = df[NUMERIC_COLUMNS].map(convert_to_float)"
   ]
  },
  {
   "cell_type": "markdown",
   "id": "ca9e08e1",
   "metadata": {},
   "source": [
    "### Converting Date columns to pandas datetime"
   ]
  },
  {
   "cell_type": "code",
   "execution_count": 12,
   "id": "d32ff692",
   "metadata": {},
   "outputs": [
    {
     "data": {
      "application/javascript": [
       "\n",
       "            setTimeout(function() {\n",
       "                var nbb_cell_id = 12;\n",
       "                var nbb_unformatted_code = \"df[\\\"Date\\\"] = pd.to_datetime(df[\\\"Date\\\"])\";\n",
       "                var nbb_formatted_code = \"df[\\\"Date\\\"] = pd.to_datetime(df[\\\"Date\\\"])\";\n",
       "                var nbb_cells = Jupyter.notebook.get_cells();\n",
       "                for (var i = 0; i < nbb_cells.length; ++i) {\n",
       "                    if (nbb_cells[i].input_prompt_number == nbb_cell_id) {\n",
       "                        if (nbb_cells[i].get_text() == nbb_unformatted_code) {\n",
       "                             nbb_cells[i].set_text(nbb_formatted_code);\n",
       "                        }\n",
       "                        break;\n",
       "                    }\n",
       "                }\n",
       "            }, 500);\n",
       "            "
      ],
      "text/plain": [
       "<IPython.core.display.Javascript object>"
      ]
     },
     "metadata": {},
     "output_type": "display_data"
    }
   ],
   "source": [
    "df[\"Date\"] = pd.to_datetime(df[\"Date\"])"
   ]
  },
  {
   "cell_type": "markdown",
   "id": "ea2b2524",
   "metadata": {},
   "source": [
    "## Dropping missing features"
   ]
  },
  {
   "cell_type": "markdown",
   "id": "b452edb6",
   "metadata": {},
   "source": [
    "### Drop rows completely missing"
   ]
  },
  {
   "cell_type": "code",
   "execution_count": 13,
   "id": "a20131a0",
   "metadata": {},
   "outputs": [
    {
     "data": {
      "application/javascript": [
       "\n",
       "            setTimeout(function() {\n",
       "                var nbb_cell_id = 13;\n",
       "                var nbb_unformatted_code = \"index_to_keep = (\\n    df.drop([\\\"Plant\\\", \\\"Date\\\", \\\"Cement_Type\\\"], axis=1).dropna(axis=0, how=\\\"all\\\").index\\n)\\ndf = df.iloc[index_to_keep].reset_index(drop=True)\";\n",
       "                var nbb_formatted_code = \"index_to_keep = (\\n    df.drop([\\\"Plant\\\", \\\"Date\\\", \\\"Cement_Type\\\"], axis=1).dropna(axis=0, how=\\\"all\\\").index\\n)\\ndf = df.iloc[index_to_keep].reset_index(drop=True)\";\n",
       "                var nbb_cells = Jupyter.notebook.get_cells();\n",
       "                for (var i = 0; i < nbb_cells.length; ++i) {\n",
       "                    if (nbb_cells[i].input_prompt_number == nbb_cell_id) {\n",
       "                        if (nbb_cells[i].get_text() == nbb_unformatted_code) {\n",
       "                             nbb_cells[i].set_text(nbb_formatted_code);\n",
       "                        }\n",
       "                        break;\n",
       "                    }\n",
       "                }\n",
       "            }, 500);\n",
       "            "
      ],
      "text/plain": [
       "<IPython.core.display.Javascript object>"
      ]
     },
     "metadata": {},
     "output_type": "display_data"
    }
   ],
   "source": [
    "index_to_keep = (\n",
    "    df.drop([\"Plant\", \"Date\", \"Cement_Type\"], axis=1).dropna(axis=0, how=\"all\").index\n",
    ")\n",
    "df = df.iloc[index_to_keep].reset_index(drop=True)"
   ]
  },
  {
   "cell_type": "markdown",
   "id": "be54df28",
   "metadata": {},
   "source": [
    "### Removing features\n",
    " that will be fitted on this data.\n",
    "\n",
    "1. Removing features with features having 60% or more of missing values\n",
    "2. Removing features with zero variance\n",
    "3. Removing features with more than 70% of zeros"
   ]
  },
  {
   "cell_type": "markdown",
   "id": "28388a2d",
   "metadata": {},
   "source": [
    "<h3>Percentage of missing values:</h3>\n",
    "    \n",
    "    \n",
    "<table>\n",
    "    <th>Plant AV - Full Dataset:</th>\n",
    "    <th></th>\n",
    "    <tr>\n",
    "        <td>Specific Gravity</td>\n",
    "        <td>100.00</td>\n",
    "    </tr>\n",
    "    <tr>\n",
    "        <td>TiO2</td>\n",
    "        <td>100.00</td>\n",
    "    </tr>        \n",
    "</table>"
   ]
  },
  {
   "cell_type": "code",
   "execution_count": 14,
   "id": "80fa72f5",
   "metadata": {},
   "outputs": [
    {
     "data": {
      "application/javascript": [
       "\n",
       "            setTimeout(function() {\n",
       "                var nbb_cell_id = 14;\n",
       "                var nbb_unformatted_code = \"FEATRUES_TO_DROP = [\\\"Specific Gravity\\\", \\\"TiO2\\\"]\\ndf = df.drop(labels=FEATRUES_TO_DROP, axis=1)\";\n",
       "                var nbb_formatted_code = \"FEATRUES_TO_DROP = [\\\"Specific Gravity\\\", \\\"TiO2\\\"]\\ndf = df.drop(labels=FEATRUES_TO_DROP, axis=1)\";\n",
       "                var nbb_cells = Jupyter.notebook.get_cells();\n",
       "                for (var i = 0; i < nbb_cells.length; ++i) {\n",
       "                    if (nbb_cells[i].input_prompt_number == nbb_cell_id) {\n",
       "                        if (nbb_cells[i].get_text() == nbb_unformatted_code) {\n",
       "                             nbb_cells[i].set_text(nbb_formatted_code);\n",
       "                        }\n",
       "                        break;\n",
       "                    }\n",
       "                }\n",
       "            }, 500);\n",
       "            "
      ],
      "text/plain": [
       "<IPython.core.display.Javascript object>"
      ]
     },
     "metadata": {},
     "output_type": "display_data"
    }
   ],
   "source": [
    "FEATRUES_TO_DROP = [\"Specific Gravity\", \"TiO2\"]\n",
    "df = df.drop(labels=FEATRUES_TO_DROP, axis=1)"
   ]
  },
  {
   "cell_type": "code",
   "execution_count": 15,
   "id": "1495f971",
   "metadata": {},
   "outputs": [
    {
     "data": {
      "text/html": [
       "<style type=\"text/css\">\n",
       "#T_c0af9_row0_col0 {\n",
       "  background-color: #67000d;\n",
       "  color: #f1f1f1;\n",
       "}\n",
       "#T_c0af9_row1_col0, #T_c0af9_row2_col0, #T_c0af9_row3_col0, #T_c0af9_row4_col0, #T_c0af9_row5_col0, #T_c0af9_row6_col0, #T_c0af9_row7_col0, #T_c0af9_row8_col0, #T_c0af9_row9_col0, #T_c0af9_row10_col0, #T_c0af9_row11_col0, #T_c0af9_row12_col0, #T_c0af9_row13_col0, #T_c0af9_row14_col0, #T_c0af9_row15_col0, #T_c0af9_row16_col0, #T_c0af9_row17_col0, #T_c0af9_row18_col0 {\n",
       "  background-color: #fff5f0;\n",
       "  color: #000000;\n",
       "}\n",
       "</style>\n",
       "<table id=\"T_c0af9\">\n",
       "  <thead>\n",
       "    <tr>\n",
       "      <th class=\"blank level0\" >&nbsp;</th>\n",
       "      <th id=\"T_c0af9_level0_col0\" class=\"col_heading level0 col0\" >Zero (%) for Global Dataset</th>\n",
       "    </tr>\n",
       "  </thead>\n",
       "  <tbody>\n",
       "    <tr>\n",
       "      <th id=\"T_c0af9_level0_row0\" class=\"row_heading level0 row0\" >#200</th>\n",
       "      <td id=\"T_c0af9_row0_col0\" class=\"data row0 col0\" >0.129955</td>\n",
       "    </tr>\n",
       "    <tr>\n",
       "      <th id=\"T_c0af9_level0_row1\" class=\"row_heading level0 row1\" >CaO</th>\n",
       "      <td id=\"T_c0af9_row1_col0\" class=\"data row1 col0\" >0.000000</td>\n",
       "    </tr>\n",
       "    <tr>\n",
       "      <th id=\"T_c0af9_level0_row2\" class=\"row_heading level0 row2\" >Blaine</th>\n",
       "      <td id=\"T_c0af9_row2_col0\" class=\"data row2 col0\" >0.000000</td>\n",
       "    </tr>\n",
       "    <tr>\n",
       "      <th id=\"T_c0af9_level0_row3\" class=\"row_heading level0 row3\" >CS7</th>\n",
       "      <td id=\"T_c0af9_row3_col0\" class=\"data row3 col0\" >0.000000</td>\n",
       "    </tr>\n",
       "    <tr>\n",
       "      <th id=\"T_c0af9_level0_row4\" class=\"row_heading level0 row4\" >CS3</th>\n",
       "      <td id=\"T_c0af9_row4_col0\" class=\"data row4 col0\" >0.000000</td>\n",
       "    </tr>\n",
       "    <tr>\n",
       "      <th id=\"T_c0af9_level0_row5\" class=\"row_heading level0 row5\" >CS1</th>\n",
       "      <td id=\"T_c0af9_row5_col0\" class=\"data row5 col0\" >0.000000</td>\n",
       "    </tr>\n",
       "    <tr>\n",
       "      <th id=\"T_c0af9_level0_row6\" class=\"row_heading level0 row6\" >Final setting time</th>\n",
       "      <td id=\"T_c0af9_row6_col0\" class=\"data row6 col0\" >0.000000</td>\n",
       "    </tr>\n",
       "    <tr>\n",
       "      <th id=\"T_c0af9_level0_row7\" class=\"row_heading level0 row7\" >Initial setting time</th>\n",
       "      <td id=\"T_c0af9_row7_col0\" class=\"data row7 col0\" >0.000000</td>\n",
       "    </tr>\n",
       "    <tr>\n",
       "      <th id=\"T_c0af9_level0_row8\" class=\"row_heading level0 row8\" >#325</th>\n",
       "      <td id=\"T_c0af9_row8_col0\" class=\"data row8 col0\" >0.000000</td>\n",
       "    </tr>\n",
       "    <tr>\n",
       "      <th id=\"T_c0af9_level0_row9\" class=\"row_heading level0 row9\" >Insoluble Residue</th>\n",
       "      <td id=\"T_c0af9_row9_col0\" class=\"data row9 col0\" >0.000000</td>\n",
       "    </tr>\n",
       "    <tr>\n",
       "      <th id=\"T_c0af9_level0_row10\" class=\"row_heading level0 row10\" >MgO</th>\n",
       "      <td id=\"T_c0af9_row10_col0\" class=\"data row10 col0\" >0.000000</td>\n",
       "    </tr>\n",
       "    <tr>\n",
       "      <th id=\"T_c0af9_level0_row11\" class=\"row_heading level0 row11\" >Loss on Ignition</th>\n",
       "      <td id=\"T_c0af9_row11_col0\" class=\"data row11 col0\" >0.000000</td>\n",
       "    </tr>\n",
       "    <tr>\n",
       "      <th id=\"T_c0af9_level0_row12\" class=\"row_heading level0 row12\" >Fe2O3</th>\n",
       "      <td id=\"T_c0af9_row12_col0\" class=\"data row12 col0\" >0.000000</td>\n",
       "    </tr>\n",
       "    <tr>\n",
       "      <th id=\"T_c0af9_level0_row13\" class=\"row_heading level0 row13\" >K2O</th>\n",
       "      <td id=\"T_c0af9_row13_col0\" class=\"data row13 col0\" >0.000000</td>\n",
       "    </tr>\n",
       "    <tr>\n",
       "      <th id=\"T_c0af9_level0_row14\" class=\"row_heading level0 row14\" >SO3</th>\n",
       "      <td id=\"T_c0af9_row14_col0\" class=\"data row14 col0\" >0.000000</td>\n",
       "    </tr>\n",
       "    <tr>\n",
       "      <th id=\"T_c0af9_level0_row15\" class=\"row_heading level0 row15\" >SiO2</th>\n",
       "      <td id=\"T_c0af9_row15_col0\" class=\"data row15 col0\" >0.000000</td>\n",
       "    </tr>\n",
       "    <tr>\n",
       "      <th id=\"T_c0af9_level0_row16\" class=\"row_heading level0 row16\" >Al2O3</th>\n",
       "      <td id=\"T_c0af9_row16_col0\" class=\"data row16 col0\" >0.000000</td>\n",
       "    </tr>\n",
       "    <tr>\n",
       "      <th id=\"T_c0af9_level0_row17\" class=\"row_heading level0 row17\" >Na2O</th>\n",
       "      <td id=\"T_c0af9_row17_col0\" class=\"data row17 col0\" >0.000000</td>\n",
       "    </tr>\n",
       "    <tr>\n",
       "      <th id=\"T_c0af9_level0_row18\" class=\"row_heading level0 row18\" >CS28</th>\n",
       "      <td id=\"T_c0af9_row18_col0\" class=\"data row18 col0\" >0.000000</td>\n",
       "    </tr>\n",
       "  </tbody>\n",
       "</table>\n"
      ],
      "text/plain": [
       "<pandas.io.formats.style.Styler at 0x75de6006b9a0>"
      ]
     },
     "execution_count": 15,
     "metadata": {},
     "output_type": "execute_result"
    },
    {
     "data": {
      "application/javascript": [
       "\n",
       "            setTimeout(function() {\n",
       "                var nbb_cell_id = 15;\n",
       "                var nbb_unformatted_code = \"zero_values = {}\\nfor col in df.select_dtypes(include=\\\"number\\\").columns:\\n    zero_percentages = (df[df[col].eq(0)].shape[0] / df.shape[0]) * 100\\n    zero_values[col] = zero_percentages\\n\\nzero_percentages = pd.Series(zero_values, name=f\\\"Zero (%) for Global Dataset\\\")\\nzero_percentages = zero_percentages.sort_values(ascending=False)\\nzero_percentages = zero_percentages.to_frame(name=f\\\"Zero (%) for Global Dataset\\\")\\nzero_percentages.style.background_gradient(cmap=\\\"Reds\\\")\";\n",
       "                var nbb_formatted_code = \"zero_values = {}\\nfor col in df.select_dtypes(include=\\\"number\\\").columns:\\n    zero_percentages = (df[df[col].eq(0)].shape[0] / df.shape[0]) * 100\\n    zero_values[col] = zero_percentages\\n\\nzero_percentages = pd.Series(zero_values, name=f\\\"Zero (%) for Global Dataset\\\")\\nzero_percentages = zero_percentages.sort_values(ascending=False)\\nzero_percentages = zero_percentages.to_frame(name=f\\\"Zero (%) for Global Dataset\\\")\\nzero_percentages.style.background_gradient(cmap=\\\"Reds\\\")\";\n",
       "                var nbb_cells = Jupyter.notebook.get_cells();\n",
       "                for (var i = 0; i < nbb_cells.length; ++i) {\n",
       "                    if (nbb_cells[i].input_prompt_number == nbb_cell_id) {\n",
       "                        if (nbb_cells[i].get_text() == nbb_unformatted_code) {\n",
       "                             nbb_cells[i].set_text(nbb_formatted_code);\n",
       "                        }\n",
       "                        break;\n",
       "                    }\n",
       "                }\n",
       "            }, 500);\n",
       "            "
      ],
      "text/plain": [
       "<IPython.core.display.Javascript object>"
      ]
     },
     "metadata": {},
     "output_type": "display_data"
    }
   ],
   "source": [
    "zero_values = {}\n",
    "for col in df.select_dtypes(include=\"number\").columns:\n",
    "    zero_percentages = (df[df[col].eq(0)].shape[0] / df.shape[0]) * 100\n",
    "    zero_values[col] = zero_percentages\n",
    "\n",
    "zero_percentages = pd.Series(zero_values, name=f\"Zero (%) for Global Dataset\")\n",
    "zero_percentages = zero_percentages.sort_values(ascending=False)\n",
    "zero_percentages = zero_percentages.to_frame(name=f\"Zero (%) for Global Dataset\")\n",
    "zero_percentages.style.background_gradient(cmap=\"Reds\")"
   ]
  },
  {
   "cell_type": "markdown",
   "id": "13ee0093",
   "metadata": {},
   "source": [
    "### Drop rows where the target variable is null"
   ]
  },
  {
   "cell_type": "code",
   "execution_count": 16,
   "id": "c9b36b74",
   "metadata": {},
   "outputs": [
    {
     "data": {
      "application/javascript": [
       "\n",
       "            setTimeout(function() {\n",
       "                var nbb_cell_id = 16;\n",
       "                var nbb_unformatted_code = \"df = df[df[\\\"CS28\\\"].notna()]\";\n",
       "                var nbb_formatted_code = \"df = df[df[\\\"CS28\\\"].notna()]\";\n",
       "                var nbb_cells = Jupyter.notebook.get_cells();\n",
       "                for (var i = 0; i < nbb_cells.length; ++i) {\n",
       "                    if (nbb_cells[i].input_prompt_number == nbb_cell_id) {\n",
       "                        if (nbb_cells[i].get_text() == nbb_unformatted_code) {\n",
       "                             nbb_cells[i].set_text(nbb_formatted_code);\n",
       "                        }\n",
       "                        break;\n",
       "                    }\n",
       "                }\n",
       "            }, 500);\n",
       "            "
      ],
      "text/plain": [
       "<IPython.core.display.Javascript object>"
      ]
     },
     "metadata": {},
     "output_type": "display_data"
    }
   ],
   "source": [
    "df = df[df[\"CS28\"].notna()]"
   ]
  },
  {
   "cell_type": "code",
   "execution_count": 17,
   "id": "088a6ec0",
   "metadata": {},
   "outputs": [
    {
     "data": {
      "text/html": [
       "<style type=\"text/css\">\n",
       "#T_34104_row0_col0, #T_34104_row1_col0, #T_34104_row2_col0, #T_34104_row3_col0, #T_34104_row4_col0, #T_34104_row5_col0, #T_34104_row6_col0, #T_34104_row7_col0, #T_34104_row8_col0, #T_34104_row9_col0, #T_34104_row10_col0, #T_34104_row11_col0, #T_34104_row12_col0, #T_34104_row13_col0, #T_34104_row14_col0, #T_34104_row15_col0, #T_34104_row16_col0, #T_34104_row17_col0, #T_34104_row18_col0, #T_34104_row19_col0, #T_34104_row20_col0, #T_34104_row21_col0 {\n",
       "  background-color: #fff5f0;\n",
       "  color: #000000;\n",
       "}\n",
       "</style>\n",
       "<table id=\"T_34104\">\n",
       "  <thead>\n",
       "    <tr>\n",
       "      <th class=\"blank level0\" >&nbsp;</th>\n",
       "      <th id=\"T_34104_level0_col0\" class=\"col_heading level0 col0\" >Missing (%)</th>\n",
       "    </tr>\n",
       "  </thead>\n",
       "  <tbody>\n",
       "    <tr>\n",
       "      <th id=\"T_34104_level0_row0\" class=\"row_heading level0 row0\" >Plant</th>\n",
       "      <td id=\"T_34104_row0_col0\" class=\"data row0 col0\" >0.000000</td>\n",
       "    </tr>\n",
       "    <tr>\n",
       "      <th id=\"T_34104_level0_row1\" class=\"row_heading level0 row1\" >Date</th>\n",
       "      <td id=\"T_34104_row1_col0\" class=\"data row1 col0\" >0.000000</td>\n",
       "    </tr>\n",
       "    <tr>\n",
       "      <th id=\"T_34104_level0_row2\" class=\"row_heading level0 row2\" >CS28</th>\n",
       "      <td id=\"T_34104_row2_col0\" class=\"data row2 col0\" >0.000000</td>\n",
       "    </tr>\n",
       "    <tr>\n",
       "      <th id=\"T_34104_level0_row3\" class=\"row_heading level0 row3\" >CS7</th>\n",
       "      <td id=\"T_34104_row3_col0\" class=\"data row3 col0\" >0.000000</td>\n",
       "    </tr>\n",
       "    <tr>\n",
       "      <th id=\"T_34104_level0_row4\" class=\"row_heading level0 row4\" >CS3</th>\n",
       "      <td id=\"T_34104_row4_col0\" class=\"data row4 col0\" >0.000000</td>\n",
       "    </tr>\n",
       "    <tr>\n",
       "      <th id=\"T_34104_level0_row5\" class=\"row_heading level0 row5\" >CS1</th>\n",
       "      <td id=\"T_34104_row5_col0\" class=\"data row5 col0\" >0.000000</td>\n",
       "    </tr>\n",
       "    <tr>\n",
       "      <th id=\"T_34104_level0_row6\" class=\"row_heading level0 row6\" >Final setting time</th>\n",
       "      <td id=\"T_34104_row6_col0\" class=\"data row6 col0\" >0.000000</td>\n",
       "    </tr>\n",
       "    <tr>\n",
       "      <th id=\"T_34104_level0_row7\" class=\"row_heading level0 row7\" >Initial setting time</th>\n",
       "      <td id=\"T_34104_row7_col0\" class=\"data row7 col0\" >0.000000</td>\n",
       "    </tr>\n",
       "    <tr>\n",
       "      <th id=\"T_34104_level0_row8\" class=\"row_heading level0 row8\" >#325</th>\n",
       "      <td id=\"T_34104_row8_col0\" class=\"data row8 col0\" >0.000000</td>\n",
       "    </tr>\n",
       "    <tr>\n",
       "      <th id=\"T_34104_level0_row9\" class=\"row_heading level0 row9\" >#200</th>\n",
       "      <td id=\"T_34104_row9_col0\" class=\"data row9 col0\" >0.000000</td>\n",
       "    </tr>\n",
       "    <tr>\n",
       "      <th id=\"T_34104_level0_row10\" class=\"row_heading level0 row10\" >Blaine</th>\n",
       "      <td id=\"T_34104_row10_col0\" class=\"data row10 col0\" >0.000000</td>\n",
       "    </tr>\n",
       "    <tr>\n",
       "      <th id=\"T_34104_level0_row11\" class=\"row_heading level0 row11\" >Insoluble Residue</th>\n",
       "      <td id=\"T_34104_row11_col0\" class=\"data row11 col0\" >0.000000</td>\n",
       "    </tr>\n",
       "    <tr>\n",
       "      <th id=\"T_34104_level0_row12\" class=\"row_heading level0 row12\" >Loss on Ignition</th>\n",
       "      <td id=\"T_34104_row12_col0\" class=\"data row12 col0\" >0.000000</td>\n",
       "    </tr>\n",
       "    <tr>\n",
       "      <th id=\"T_34104_level0_row13\" class=\"row_heading level0 row13\" >Fe2O3</th>\n",
       "      <td id=\"T_34104_row13_col0\" class=\"data row13 col0\" >0.000000</td>\n",
       "    </tr>\n",
       "    <tr>\n",
       "      <th id=\"T_34104_level0_row14\" class=\"row_heading level0 row14\" >K2O</th>\n",
       "      <td id=\"T_34104_row14_col0\" class=\"data row14 col0\" >0.000000</td>\n",
       "    </tr>\n",
       "    <tr>\n",
       "      <th id=\"T_34104_level0_row15\" class=\"row_heading level0 row15\" >SO3</th>\n",
       "      <td id=\"T_34104_row15_col0\" class=\"data row15 col0\" >0.000000</td>\n",
       "    </tr>\n",
       "    <tr>\n",
       "      <th id=\"T_34104_level0_row16\" class=\"row_heading level0 row16\" >SiO2</th>\n",
       "      <td id=\"T_34104_row16_col0\" class=\"data row16 col0\" >0.000000</td>\n",
       "    </tr>\n",
       "    <tr>\n",
       "      <th id=\"T_34104_level0_row17\" class=\"row_heading level0 row17\" >Al2O3</th>\n",
       "      <td id=\"T_34104_row17_col0\" class=\"data row17 col0\" >0.000000</td>\n",
       "    </tr>\n",
       "    <tr>\n",
       "      <th id=\"T_34104_level0_row18\" class=\"row_heading level0 row18\" >Na2O</th>\n",
       "      <td id=\"T_34104_row18_col0\" class=\"data row18 col0\" >0.000000</td>\n",
       "    </tr>\n",
       "    <tr>\n",
       "      <th id=\"T_34104_level0_row19\" class=\"row_heading level0 row19\" >MgO</th>\n",
       "      <td id=\"T_34104_row19_col0\" class=\"data row19 col0\" >0.000000</td>\n",
       "    </tr>\n",
       "    <tr>\n",
       "      <th id=\"T_34104_level0_row20\" class=\"row_heading level0 row20\" >CaO</th>\n",
       "      <td id=\"T_34104_row20_col0\" class=\"data row20 col0\" >0.000000</td>\n",
       "    </tr>\n",
       "    <tr>\n",
       "      <th id=\"T_34104_level0_row21\" class=\"row_heading level0 row21\" >Cement_Type</th>\n",
       "      <td id=\"T_34104_row21_col0\" class=\"data row21 col0\" >0.000000</td>\n",
       "    </tr>\n",
       "  </tbody>\n",
       "</table>\n"
      ],
      "text/plain": [
       "<pandas.io.formats.style.Styler at 0x75de601c6410>"
      ]
     },
     "execution_count": 17,
     "metadata": {},
     "output_type": "execute_result"
    },
    {
     "data": {
      "application/javascript": [
       "\n",
       "            setTimeout(function() {\n",
       "                var nbb_cell_id = 17;\n",
       "                var nbb_unformatted_code = \"(df.isna().sum() / df.shape[0] * 100).sort_values(ascending=False).to_frame(\\n    name=\\\"Missing (%)\\\"\\n).style.background_gradient(cmap=\\\"Reds\\\")\";\n",
       "                var nbb_formatted_code = \"(df.isna().sum() / df.shape[0] * 100).sort_values(ascending=False).to_frame(\\n    name=\\\"Missing (%)\\\"\\n).style.background_gradient(cmap=\\\"Reds\\\")\";\n",
       "                var nbb_cells = Jupyter.notebook.get_cells();\n",
       "                for (var i = 0; i < nbb_cells.length; ++i) {\n",
       "                    if (nbb_cells[i].input_prompt_number == nbb_cell_id) {\n",
       "                        if (nbb_cells[i].get_text() == nbb_unformatted_code) {\n",
       "                             nbb_cells[i].set_text(nbb_formatted_code);\n",
       "                        }\n",
       "                        break;\n",
       "                    }\n",
       "                }\n",
       "            }, 500);\n",
       "            "
      ],
      "text/plain": [
       "<IPython.core.display.Javascript object>"
      ]
     },
     "metadata": {},
     "output_type": "display_data"
    }
   ],
   "source": [
    "(df.isna().sum() / df.shape[0] * 100).sort_values(ascending=False).to_frame(\n",
    "    name=\"Missing (%)\"\n",
    ").style.background_gradient(cmap=\"Reds\")"
   ]
  },
  {
   "cell_type": "markdown",
   "id": "c9eae72e",
   "metadata": {},
   "source": [
    "### Dropping duplicated rows"
   ]
  },
  {
   "cell_type": "code",
   "execution_count": 18,
   "id": "c9a0900e",
   "metadata": {},
   "outputs": [
    {
     "data": {
      "text/plain": [
       "(1510, 22)"
      ]
     },
     "execution_count": 18,
     "metadata": {},
     "output_type": "execute_result"
    },
    {
     "data": {
      "application/javascript": [
       "\n",
       "            setTimeout(function() {\n",
       "                var nbb_cell_id = 18;\n",
       "                var nbb_unformatted_code = \"df.shape\";\n",
       "                var nbb_formatted_code = \"df.shape\";\n",
       "                var nbb_cells = Jupyter.notebook.get_cells();\n",
       "                for (var i = 0; i < nbb_cells.length; ++i) {\n",
       "                    if (nbb_cells[i].input_prompt_number == nbb_cell_id) {\n",
       "                        if (nbb_cells[i].get_text() == nbb_unformatted_code) {\n",
       "                             nbb_cells[i].set_text(nbb_formatted_code);\n",
       "                        }\n",
       "                        break;\n",
       "                    }\n",
       "                }\n",
       "            }, 500);\n",
       "            "
      ],
      "text/plain": [
       "<IPython.core.display.Javascript object>"
      ]
     },
     "metadata": {},
     "output_type": "display_data"
    }
   ],
   "source": [
    "df.shape"
   ]
  },
  {
   "cell_type": "code",
   "execution_count": 19,
   "id": "c8d14ab3",
   "metadata": {},
   "outputs": [
    {
     "data": {
      "application/javascript": [
       "\n",
       "            setTimeout(function() {\n",
       "                var nbb_cell_id = 19;\n",
       "                var nbb_unformatted_code = \"df = df.reset_index(drop=True)\";\n",
       "                var nbb_formatted_code = \"df = df.reset_index(drop=True)\";\n",
       "                var nbb_cells = Jupyter.notebook.get_cells();\n",
       "                for (var i = 0; i < nbb_cells.length; ++i) {\n",
       "                    if (nbb_cells[i].input_prompt_number == nbb_cell_id) {\n",
       "                        if (nbb_cells[i].get_text() == nbb_unformatted_code) {\n",
       "                             nbb_cells[i].set_text(nbb_formatted_code);\n",
       "                        }\n",
       "                        break;\n",
       "                    }\n",
       "                }\n",
       "            }, 500);\n",
       "            "
      ],
      "text/plain": [
       "<IPython.core.display.Javascript object>"
      ]
     },
     "metadata": {},
     "output_type": "display_data"
    }
   ],
   "source": [
    "df = df.reset_index(drop=True)"
   ]
  },
  {
   "cell_type": "code",
   "execution_count": 20,
   "id": "2b9a08c8",
   "metadata": {},
   "outputs": [
    {
     "data": {
      "application/javascript": [
       "\n",
       "            setTimeout(function() {\n",
       "                var nbb_cell_id = 20;\n",
       "                var nbb_unformatted_code = \"df = df.loc[df.select_dtypes(\\\"number\\\").drop_duplicates().index].reset_index(drop=True)\\n\\nchemical_vars = [\\n    \\\"CaO\\\",\\n    \\\"MgO\\\",\\n    \\\"Na2O\\\",\\n    \\\"Al2O3\\\",\\n    \\\"SiO2\\\",\\n    \\\"SO3\\\",\\n    \\\"K2O\\\",\\n    \\\"Fe2O3\\\",\\n    \\\"Loss on Ignition\\\",\\n    \\\"Insoluble Residue\\\",\\n]\\n\\ndf = df.loc[\\n    df.select_dtypes(\\\"number\\\").drop_duplicates(subset=chemical_vars).index\\n].reset_index(drop=True)\";\n",
       "                var nbb_formatted_code = \"df = df.loc[df.select_dtypes(\\\"number\\\").drop_duplicates().index].reset_index(drop=True)\\n\\nchemical_vars = [\\n    \\\"CaO\\\",\\n    \\\"MgO\\\",\\n    \\\"Na2O\\\",\\n    \\\"Al2O3\\\",\\n    \\\"SiO2\\\",\\n    \\\"SO3\\\",\\n    \\\"K2O\\\",\\n    \\\"Fe2O3\\\",\\n    \\\"Loss on Ignition\\\",\\n    \\\"Insoluble Residue\\\",\\n]\\n\\ndf = df.loc[\\n    df.select_dtypes(\\\"number\\\").drop_duplicates(subset=chemical_vars).index\\n].reset_index(drop=True)\";\n",
       "                var nbb_cells = Jupyter.notebook.get_cells();\n",
       "                for (var i = 0; i < nbb_cells.length; ++i) {\n",
       "                    if (nbb_cells[i].input_prompt_number == nbb_cell_id) {\n",
       "                        if (nbb_cells[i].get_text() == nbb_unformatted_code) {\n",
       "                             nbb_cells[i].set_text(nbb_formatted_code);\n",
       "                        }\n",
       "                        break;\n",
       "                    }\n",
       "                }\n",
       "            }, 500);\n",
       "            "
      ],
      "text/plain": [
       "<IPython.core.display.Javascript object>"
      ]
     },
     "metadata": {},
     "output_type": "display_data"
    }
   ],
   "source": [
    "df = df.loc[df.select_dtypes(\"number\").drop_duplicates().index].reset_index(drop=True)\n",
    "\n",
    "chemical_vars = [\n",
    "    \"CaO\",\n",
    "    \"MgO\",\n",
    "    \"Na2O\",\n",
    "    \"Al2O3\",\n",
    "    \"SiO2\",\n",
    "    \"SO3\",\n",
    "    \"K2O\",\n",
    "    \"Fe2O3\",\n",
    "    \"Loss on Ignition\",\n",
    "    \"Insoluble Residue\",\n",
    "]\n",
    "\n",
    "df = df.loc[\n",
    "    df.select_dtypes(\"number\").drop_duplicates(subset=chemical_vars).index\n",
    "].reset_index(drop=True)"
   ]
  },
  {
   "cell_type": "code",
   "execution_count": 21,
   "id": "995f40b8",
   "metadata": {},
   "outputs": [
    {
     "data": {
      "text/plain": [
       "(1509, 22)"
      ]
     },
     "execution_count": 21,
     "metadata": {},
     "output_type": "execute_result"
    },
    {
     "data": {
      "application/javascript": [
       "\n",
       "            setTimeout(function() {\n",
       "                var nbb_cell_id = 21;\n",
       "                var nbb_unformatted_code = \"df.shape\";\n",
       "                var nbb_formatted_code = \"df.shape\";\n",
       "                var nbb_cells = Jupyter.notebook.get_cells();\n",
       "                for (var i = 0; i < nbb_cells.length; ++i) {\n",
       "                    if (nbb_cells[i].input_prompt_number == nbb_cell_id) {\n",
       "                        if (nbb_cells[i].get_text() == nbb_unformatted_code) {\n",
       "                             nbb_cells[i].set_text(nbb_formatted_code);\n",
       "                        }\n",
       "                        break;\n",
       "                    }\n",
       "                }\n",
       "            }, 500);\n",
       "            "
      ],
      "text/plain": [
       "<IPython.core.display.Javascript object>"
      ]
     },
     "metadata": {},
     "output_type": "display_data"
    }
   ],
   "source": [
    "df.shape"
   ]
  },
  {
   "cell_type": "markdown",
   "id": "df8db774",
   "metadata": {},
   "source": [
    "### Dropping rows with negative values"
   ]
  },
  {
   "cell_type": "code",
   "execution_count": 22,
   "id": "e76c8b88",
   "metadata": {},
   "outputs": [
    {
     "data": {
      "text/plain": [
       "CaO                     0.0\n",
       "Blaine                  0.0\n",
       "CS7                     0.0\n",
       "CS3                     0.0\n",
       "CS1                     0.0\n",
       "Final setting time      0.0\n",
       "Initial setting time    0.0\n",
       "#325                    0.0\n",
       "#200                    0.0\n",
       "Insoluble Residue       0.0\n",
       "MgO                     0.0\n",
       "Loss on Ignition        0.0\n",
       "Fe2O3                   0.0\n",
       "K2O                     0.0\n",
       "SO3                     0.0\n",
       "SiO2                    0.0\n",
       "Al2O3                   0.0\n",
       "Na2O                    0.0\n",
       "CS28                    0.0\n",
       "dtype: float64"
      ]
     },
     "execution_count": 22,
     "metadata": {},
     "output_type": "execute_result"
    },
    {
     "data": {
      "application/javascript": [
       "\n",
       "            setTimeout(function() {\n",
       "                var nbb_cell_id = 22;\n",
       "                var nbb_unformatted_code = \"df[df.drop([\\\"Date\\\"], axis=1).duplicated()].drop(\\\"Date\\\", axis=1).select_dtypes(\\n    include=\\\"number\\\"\\n).apply(lambda x: x < 0).sum().sort_values(ascending=False)\";\n",
       "                var nbb_formatted_code = \"df[df.drop([\\\"Date\\\"], axis=1).duplicated()].drop(\\\"Date\\\", axis=1).select_dtypes(\\n    include=\\\"number\\\"\\n).apply(lambda x: x < 0).sum().sort_values(ascending=False)\";\n",
       "                var nbb_cells = Jupyter.notebook.get_cells();\n",
       "                for (var i = 0; i < nbb_cells.length; ++i) {\n",
       "                    if (nbb_cells[i].input_prompt_number == nbb_cell_id) {\n",
       "                        if (nbb_cells[i].get_text() == nbb_unformatted_code) {\n",
       "                             nbb_cells[i].set_text(nbb_formatted_code);\n",
       "                        }\n",
       "                        break;\n",
       "                    }\n",
       "                }\n",
       "            }, 500);\n",
       "            "
      ],
      "text/plain": [
       "<IPython.core.display.Javascript object>"
      ]
     },
     "metadata": {},
     "output_type": "display_data"
    }
   ],
   "source": [
    "df[df.drop([\"Date\"], axis=1).duplicated()].drop(\"Date\", axis=1).select_dtypes(\n",
    "    include=\"number\"\n",
    ").apply(lambda x: x < 0).sum().sort_values(ascending=False)"
   ]
  },
  {
   "cell_type": "markdown",
   "id": "c46974aa",
   "metadata": {},
   "source": [
    "### Removing outliers"
   ]
  },
  {
   "cell_type": "code",
   "execution_count": 23,
   "id": "d49c5adf",
   "metadata": {},
   "outputs": [
    {
     "data": {
      "text/html": [
       "<div>\n",
       "<style scoped>\n",
       "    .dataframe tbody tr th:only-of-type {\n",
       "        vertical-align: middle;\n",
       "    }\n",
       "\n",
       "    .dataframe tbody tr th {\n",
       "        vertical-align: top;\n",
       "    }\n",
       "\n",
       "    .dataframe thead th {\n",
       "        text-align: right;\n",
       "    }\n",
       "</style>\n",
       "<table border=\"1\" class=\"dataframe\">\n",
       "  <thead>\n",
       "    <tr style=\"text-align: right;\">\n",
       "      <th></th>\n",
       "      <th>count</th>\n",
       "      <th>mean</th>\n",
       "      <th>min</th>\n",
       "      <th>50%</th>\n",
       "      <th>99%</th>\n",
       "      <th>max</th>\n",
       "      <th>std</th>\n",
       "    </tr>\n",
       "  </thead>\n",
       "  <tbody>\n",
       "    <tr>\n",
       "      <th>Date</th>\n",
       "      <td>1509</td>\n",
       "      <td>2021-01-28 20:11:32.723658240</td>\n",
       "      <td>2018-02-07 14:00:00</td>\n",
       "      <td>2021-04-03 13:00:00</td>\n",
       "      <td>2023-03-13 17:00:00</td>\n",
       "      <td>2023-03-28 13:06:00</td>\n",
       "      <td>NaN</td>\n",
       "    </tr>\n",
       "    <tr>\n",
       "      <th>CaO</th>\n",
       "      <td>1509.0</td>\n",
       "      <td>55.994831</td>\n",
       "      <td>46.25</td>\n",
       "      <td>55.36</td>\n",
       "      <td>61.7884</td>\n",
       "      <td>64.13</td>\n",
       "      <td>3.688712</td>\n",
       "    </tr>\n",
       "    <tr>\n",
       "      <th>MgO</th>\n",
       "      <td>1509.0</td>\n",
       "      <td>2.095262</td>\n",
       "      <td>0.64</td>\n",
       "      <td>2.11</td>\n",
       "      <td>4.3684</td>\n",
       "      <td>6.4</td>\n",
       "      <td>0.851172</td>\n",
       "    </tr>\n",
       "    <tr>\n",
       "      <th>Na2O</th>\n",
       "      <td>1509.0</td>\n",
       "      <td>0.116355</td>\n",
       "      <td>0.01</td>\n",
       "      <td>0.1</td>\n",
       "      <td>0.28</td>\n",
       "      <td>0.47</td>\n",
       "      <td>0.057133</td>\n",
       "    </tr>\n",
       "    <tr>\n",
       "      <th>Al2O3</th>\n",
       "      <td>1509.0</td>\n",
       "      <td>6.421133</td>\n",
       "      <td>4.87</td>\n",
       "      <td>6.4</td>\n",
       "      <td>8.7992</td>\n",
       "      <td>9.69</td>\n",
       "      <td>0.819284</td>\n",
       "    </tr>\n",
       "    <tr>\n",
       "      <th>SiO2</th>\n",
       "      <td>1509.0</td>\n",
       "      <td>22.929808</td>\n",
       "      <td>18.49</td>\n",
       "      <td>22.95</td>\n",
       "      <td>30.0036</td>\n",
       "      <td>30.6</td>\n",
       "      <td>2.691587</td>\n",
       "    </tr>\n",
       "    <tr>\n",
       "      <th>SO3</th>\n",
       "      <td>1509.0</td>\n",
       "      <td>3.065514</td>\n",
       "      <td>1.52</td>\n",
       "      <td>3.09</td>\n",
       "      <td>4.0792</td>\n",
       "      <td>4.48</td>\n",
       "      <td>0.484261</td>\n",
       "    </tr>\n",
       "    <tr>\n",
       "      <th>K2O</th>\n",
       "      <td>1509.0</td>\n",
       "      <td>0.595202</td>\n",
       "      <td>0.41</td>\n",
       "      <td>0.59</td>\n",
       "      <td>0.78</td>\n",
       "      <td>0.87</td>\n",
       "      <td>0.06616</td>\n",
       "    </tr>\n",
       "    <tr>\n",
       "      <th>Fe2O3</th>\n",
       "      <td>1509.0</td>\n",
       "      <td>2.206793</td>\n",
       "      <td>1.16</td>\n",
       "      <td>2.19</td>\n",
       "      <td>2.95</td>\n",
       "      <td>3.5</td>\n",
       "      <td>0.371016</td>\n",
       "    </tr>\n",
       "    <tr>\n",
       "      <th>Loss on Ignition</th>\n",
       "      <td>1509.0</td>\n",
       "      <td>4.975567</td>\n",
       "      <td>2.11</td>\n",
       "      <td>4.99</td>\n",
       "      <td>6.52</td>\n",
       "      <td>8.44</td>\n",
       "      <td>0.726746</td>\n",
       "    </tr>\n",
       "    <tr>\n",
       "      <th>Insoluble Residue</th>\n",
       "      <td>1509.0</td>\n",
       "      <td>0.832512</td>\n",
       "      <td>0.24</td>\n",
       "      <td>0.72</td>\n",
       "      <td>2.0644</td>\n",
       "      <td>2.83</td>\n",
       "      <td>0.372672</td>\n",
       "    </tr>\n",
       "    <tr>\n",
       "      <th>Blaine</th>\n",
       "      <td>1509.0</td>\n",
       "      <td>4971.974818</td>\n",
       "      <td>3670.0</td>\n",
       "      <td>5000.0</td>\n",
       "      <td>5628.4</td>\n",
       "      <td>6080.0</td>\n",
       "      <td>314.950751</td>\n",
       "    </tr>\n",
       "    <tr>\n",
       "      <th>#200</th>\n",
       "      <td>1509.0</td>\n",
       "      <td>0.200179</td>\n",
       "      <td>0.0</td>\n",
       "      <td>0.11</td>\n",
       "      <td>1.2384</td>\n",
       "      <td>2.78</td>\n",
       "      <td>0.244559</td>\n",
       "    </tr>\n",
       "    <tr>\n",
       "      <th>#325</th>\n",
       "      <td>1509.0</td>\n",
       "      <td>1.130179</td>\n",
       "      <td>0.05</td>\n",
       "      <td>0.65</td>\n",
       "      <td>6.26</td>\n",
       "      <td>8.86</td>\n",
       "      <td>1.256933</td>\n",
       "    </tr>\n",
       "    <tr>\n",
       "      <th>Initial setting time</th>\n",
       "      <td>1509.0</td>\n",
       "      <td>172.637508</td>\n",
       "      <td>130.0</td>\n",
       "      <td>170.0</td>\n",
       "      <td>245.0</td>\n",
       "      <td>270.0</td>\n",
       "      <td>22.332529</td>\n",
       "    </tr>\n",
       "    <tr>\n",
       "      <th>Final setting time</th>\n",
       "      <td>1509.0</td>\n",
       "      <td>206.689198</td>\n",
       "      <td>24.0</td>\n",
       "      <td>200.0</td>\n",
       "      <td>310.0</td>\n",
       "      <td>345.0</td>\n",
       "      <td>27.259988</td>\n",
       "    </tr>\n",
       "    <tr>\n",
       "      <th>CS1</th>\n",
       "      <td>1509.0</td>\n",
       "      <td>17.173022</td>\n",
       "      <td>3.2</td>\n",
       "      <td>16.84</td>\n",
       "      <td>27.0116</td>\n",
       "      <td>29.2</td>\n",
       "      <td>5.447776</td>\n",
       "    </tr>\n",
       "    <tr>\n",
       "      <th>CS3</th>\n",
       "      <td>1509.0</td>\n",
       "      <td>27.312399</td>\n",
       "      <td>10.65</td>\n",
       "      <td>27.95</td>\n",
       "      <td>37.862</td>\n",
       "      <td>40.95</td>\n",
       "      <td>5.922327</td>\n",
       "    </tr>\n",
       "    <tr>\n",
       "      <th>CS7</th>\n",
       "      <td>1509.0</td>\n",
       "      <td>36.719476</td>\n",
       "      <td>20.7</td>\n",
       "      <td>37.9</td>\n",
       "      <td>44.3984</td>\n",
       "      <td>45.97</td>\n",
       "      <td>4.880355</td>\n",
       "    </tr>\n",
       "    <tr>\n",
       "      <th>CS28</th>\n",
       "      <td>1509.0</td>\n",
       "      <td>49.72784</td>\n",
       "      <td>33.15</td>\n",
       "      <td>50.1</td>\n",
       "      <td>56.9</td>\n",
       "      <td>58.1</td>\n",
       "      <td>4.061294</td>\n",
       "    </tr>\n",
       "  </tbody>\n",
       "</table>\n",
       "</div>"
      ],
      "text/plain": [
       "                       count                           mean  \\\n",
       "Date                    1509  2021-01-28 20:11:32.723658240   \n",
       "CaO                   1509.0                      55.994831   \n",
       "MgO                   1509.0                       2.095262   \n",
       "Na2O                  1509.0                       0.116355   \n",
       "Al2O3                 1509.0                       6.421133   \n",
       "SiO2                  1509.0                      22.929808   \n",
       "SO3                   1509.0                       3.065514   \n",
       "K2O                   1509.0                       0.595202   \n",
       "Fe2O3                 1509.0                       2.206793   \n",
       "Loss on Ignition      1509.0                       4.975567   \n",
       "Insoluble Residue     1509.0                       0.832512   \n",
       "Blaine                1509.0                    4971.974818   \n",
       "#200                  1509.0                       0.200179   \n",
       "#325                  1509.0                       1.130179   \n",
       "Initial setting time  1509.0                     172.637508   \n",
       "Final setting time    1509.0                     206.689198   \n",
       "CS1                   1509.0                      17.173022   \n",
       "CS3                   1509.0                      27.312399   \n",
       "CS7                   1509.0                      36.719476   \n",
       "CS28                  1509.0                       49.72784   \n",
       "\n",
       "                                      min                  50%  \\\n",
       "Date                  2018-02-07 14:00:00  2021-04-03 13:00:00   \n",
       "CaO                                 46.25                55.36   \n",
       "MgO                                  0.64                 2.11   \n",
       "Na2O                                 0.01                  0.1   \n",
       "Al2O3                                4.87                  6.4   \n",
       "SiO2                                18.49                22.95   \n",
       "SO3                                  1.52                 3.09   \n",
       "K2O                                  0.41                 0.59   \n",
       "Fe2O3                                1.16                 2.19   \n",
       "Loss on Ignition                     2.11                 4.99   \n",
       "Insoluble Residue                    0.24                 0.72   \n",
       "Blaine                             3670.0               5000.0   \n",
       "#200                                  0.0                 0.11   \n",
       "#325                                 0.05                 0.65   \n",
       "Initial setting time                130.0                170.0   \n",
       "Final setting time                   24.0                200.0   \n",
       "CS1                                   3.2                16.84   \n",
       "CS3                                 10.65                27.95   \n",
       "CS7                                  20.7                 37.9   \n",
       "CS28                                33.15                 50.1   \n",
       "\n",
       "                                      99%                  max         std  \n",
       "Date                  2023-03-13 17:00:00  2023-03-28 13:06:00         NaN  \n",
       "CaO                               61.7884                64.13    3.688712  \n",
       "MgO                                4.3684                  6.4    0.851172  \n",
       "Na2O                                 0.28                 0.47    0.057133  \n",
       "Al2O3                              8.7992                 9.69    0.819284  \n",
       "SiO2                              30.0036                 30.6    2.691587  \n",
       "SO3                                4.0792                 4.48    0.484261  \n",
       "K2O                                  0.78                 0.87     0.06616  \n",
       "Fe2O3                                2.95                  3.5    0.371016  \n",
       "Loss on Ignition                     6.52                 8.44    0.726746  \n",
       "Insoluble Residue                  2.0644                 2.83    0.372672  \n",
       "Blaine                             5628.4               6080.0  314.950751  \n",
       "#200                               1.2384                 2.78    0.244559  \n",
       "#325                                 6.26                 8.86    1.256933  \n",
       "Initial setting time                245.0                270.0   22.332529  \n",
       "Final setting time                  310.0                345.0   27.259988  \n",
       "CS1                               27.0116                 29.2    5.447776  \n",
       "CS3                                37.862                40.95    5.922327  \n",
       "CS7                               44.3984                45.97    4.880355  \n",
       "CS28                                 56.9                 58.1    4.061294  "
      ]
     },
     "execution_count": 23,
     "metadata": {},
     "output_type": "execute_result"
    },
    {
     "data": {
      "application/javascript": [
       "\n",
       "            setTimeout(function() {\n",
       "                var nbb_cell_id = 23;\n",
       "                var nbb_unformatted_code = \"df.describe(percentiles=[0.99]).T\";\n",
       "                var nbb_formatted_code = \"df.describe(percentiles=[0.99]).T\";\n",
       "                var nbb_cells = Jupyter.notebook.get_cells();\n",
       "                for (var i = 0; i < nbb_cells.length; ++i) {\n",
       "                    if (nbb_cells[i].input_prompt_number == nbb_cell_id) {\n",
       "                        if (nbb_cells[i].get_text() == nbb_unformatted_code) {\n",
       "                             nbb_cells[i].set_text(nbb_formatted_code);\n",
       "                        }\n",
       "                        break;\n",
       "                    }\n",
       "                }\n",
       "            }, 500);\n",
       "            "
      ],
      "text/plain": [
       "<IPython.core.display.Javascript object>"
      ]
     },
     "metadata": {},
     "output_type": "display_data"
    }
   ],
   "source": [
    "df.describe(percentiles=[0.99]).T"
   ]
  },
  {
   "cell_type": "code",
   "execution_count": 24,
   "id": "36a6e6e6",
   "metadata": {},
   "outputs": [
    {
     "data": {
      "application/javascript": [
       "\n",
       "            setTimeout(function() {\n",
       "                var nbb_cell_id = 24;\n",
       "                var nbb_unformatted_code = \"df = df.drop([df[\\\"Final setting time\\\"].idxmin()])\";\n",
       "                var nbb_formatted_code = \"df = df.drop([df[\\\"Final setting time\\\"].idxmin()])\";\n",
       "                var nbb_cells = Jupyter.notebook.get_cells();\n",
       "                for (var i = 0; i < nbb_cells.length; ++i) {\n",
       "                    if (nbb_cells[i].input_prompt_number == nbb_cell_id) {\n",
       "                        if (nbb_cells[i].get_text() == nbb_unformatted_code) {\n",
       "                             nbb_cells[i].set_text(nbb_formatted_code);\n",
       "                        }\n",
       "                        break;\n",
       "                    }\n",
       "                }\n",
       "            }, 500);\n",
       "            "
      ],
      "text/plain": [
       "<IPython.core.display.Javascript object>"
      ]
     },
     "metadata": {},
     "output_type": "display_data"
    }
   ],
   "source": [
    "df = df.drop([df[\"Final setting time\"].idxmin()])"
   ]
  },
  {
   "cell_type": "code",
   "execution_count": 25,
   "id": "1aca7b86",
   "metadata": {},
   "outputs": [
    {
     "data": {
      "text/html": [
       "<div>\n",
       "<style scoped>\n",
       "    .dataframe tbody tr th:only-of-type {\n",
       "        vertical-align: middle;\n",
       "    }\n",
       "\n",
       "    .dataframe tbody tr th {\n",
       "        vertical-align: top;\n",
       "    }\n",
       "\n",
       "    .dataframe thead th {\n",
       "        text-align: right;\n",
       "    }\n",
       "</style>\n",
       "<table border=\"1\" class=\"dataframe\">\n",
       "  <thead>\n",
       "    <tr style=\"text-align: right;\">\n",
       "      <th></th>\n",
       "      <th>count</th>\n",
       "      <th>mean</th>\n",
       "      <th>min</th>\n",
       "      <th>50%</th>\n",
       "      <th>99%</th>\n",
       "      <th>max</th>\n",
       "      <th>std</th>\n",
       "    </tr>\n",
       "  </thead>\n",
       "  <tbody>\n",
       "    <tr>\n",
       "      <th>Date</th>\n",
       "      <td>1508</td>\n",
       "      <td>2021-01-28 18:44:59.164456448</td>\n",
       "      <td>2018-02-07 14:00:00</td>\n",
       "      <td>2021-04-02 13:02:00</td>\n",
       "      <td>2023-03-13 17:00:00</td>\n",
       "      <td>2023-03-28 13:06:00</td>\n",
       "      <td>NaN</td>\n",
       "    </tr>\n",
       "    <tr>\n",
       "      <th>CaO</th>\n",
       "      <td>1508.0</td>\n",
       "      <td>56.000902</td>\n",
       "      <td>46.25</td>\n",
       "      <td>55.365</td>\n",
       "      <td>61.7886</td>\n",
       "      <td>64.13</td>\n",
       "      <td>3.682387</td>\n",
       "    </tr>\n",
       "    <tr>\n",
       "      <th>MgO</th>\n",
       "      <td>1508.0</td>\n",
       "      <td>2.093674</td>\n",
       "      <td>0.64</td>\n",
       "      <td>2.11</td>\n",
       "      <td>4.3493</td>\n",
       "      <td>6.4</td>\n",
       "      <td>0.849215</td>\n",
       "    </tr>\n",
       "    <tr>\n",
       "      <th>Na2O</th>\n",
       "      <td>1508.0</td>\n",
       "      <td>0.116313</td>\n",
       "      <td>0.01</td>\n",
       "      <td>0.1</td>\n",
       "      <td>0.28</td>\n",
       "      <td>0.47</td>\n",
       "      <td>0.057128</td>\n",
       "    </tr>\n",
       "    <tr>\n",
       "      <th>Al2O3</th>\n",
       "      <td>1508.0</td>\n",
       "      <td>6.419947</td>\n",
       "      <td>4.87</td>\n",
       "      <td>6.4</td>\n",
       "      <td>8.7993</td>\n",
       "      <td>9.69</td>\n",
       "      <td>0.818258</td>\n",
       "    </tr>\n",
       "    <tr>\n",
       "      <th>SiO2</th>\n",
       "      <td>1508.0</td>\n",
       "      <td>22.926366</td>\n",
       "      <td>18.49</td>\n",
       "      <td>22.945</td>\n",
       "      <td>30.0044</td>\n",
       "      <td>30.6</td>\n",
       "      <td>2.689156</td>\n",
       "    </tr>\n",
       "    <tr>\n",
       "      <th>SO3</th>\n",
       "      <td>1508.0</td>\n",
       "      <td>3.066174</td>\n",
       "      <td>1.52</td>\n",
       "      <td>3.09</td>\n",
       "      <td>4.0793</td>\n",
       "      <td>4.48</td>\n",
       "      <td>0.483742</td>\n",
       "    </tr>\n",
       "    <tr>\n",
       "      <th>K2O</th>\n",
       "      <td>1508.0</td>\n",
       "      <td>0.595285</td>\n",
       "      <td>0.41</td>\n",
       "      <td>0.59</td>\n",
       "      <td>0.78</td>\n",
       "      <td>0.87</td>\n",
       "      <td>0.066103</td>\n",
       "    </tr>\n",
       "    <tr>\n",
       "      <th>Fe2O3</th>\n",
       "      <td>1508.0</td>\n",
       "      <td>2.207235</td>\n",
       "      <td>1.16</td>\n",
       "      <td>2.19</td>\n",
       "      <td>2.95</td>\n",
       "      <td>3.5</td>\n",
       "      <td>0.370741</td>\n",
       "    </tr>\n",
       "    <tr>\n",
       "      <th>Loss on Ignition</th>\n",
       "      <td>1508.0</td>\n",
       "      <td>4.974589</td>\n",
       "      <td>2.11</td>\n",
       "      <td>4.99</td>\n",
       "      <td>6.52</td>\n",
       "      <td>8.44</td>\n",
       "      <td>0.725993</td>\n",
       "    </tr>\n",
       "    <tr>\n",
       "      <th>Insoluble Residue</th>\n",
       "      <td>1508.0</td>\n",
       "      <td>0.832414</td>\n",
       "      <td>0.24</td>\n",
       "      <td>0.72</td>\n",
       "      <td>2.0651</td>\n",
       "      <td>2.83</td>\n",
       "      <td>0.372776</td>\n",
       "    </tr>\n",
       "    <tr>\n",
       "      <th>Blaine</th>\n",
       "      <td>1508.0</td>\n",
       "      <td>4972.155172</td>\n",
       "      <td>3670.0</td>\n",
       "      <td>5000.0</td>\n",
       "      <td>5628.6</td>\n",
       "      <td>6080.0</td>\n",
       "      <td>314.97727</td>\n",
       "    </tr>\n",
       "    <tr>\n",
       "      <th>#200</th>\n",
       "      <td>1508.0</td>\n",
       "      <td>0.200126</td>\n",
       "      <td>0.0</td>\n",
       "      <td>0.11</td>\n",
       "      <td>1.2386</td>\n",
       "      <td>2.78</td>\n",
       "      <td>0.244631</td>\n",
       "    </tr>\n",
       "    <tr>\n",
       "      <th>#325</th>\n",
       "      <td>1508.0</td>\n",
       "      <td>1.129065</td>\n",
       "      <td>0.05</td>\n",
       "      <td>0.65</td>\n",
       "      <td>6.26</td>\n",
       "      <td>8.86</td>\n",
       "      <td>1.256604</td>\n",
       "    </tr>\n",
       "    <tr>\n",
       "      <th>Initial setting time</th>\n",
       "      <td>1508.0</td>\n",
       "      <td>172.619363</td>\n",
       "      <td>130.0</td>\n",
       "      <td>170.0</td>\n",
       "      <td>245.0</td>\n",
       "      <td>270.0</td>\n",
       "      <td>22.328808</td>\n",
       "    </tr>\n",
       "    <tr>\n",
       "      <th>Final setting time</th>\n",
       "      <td>1508.0</td>\n",
       "      <td>206.810345</td>\n",
       "      <td>160.0</td>\n",
       "      <td>200.0</td>\n",
       "      <td>310.0</td>\n",
       "      <td>345.0</td>\n",
       "      <td>26.859606</td>\n",
       "    </tr>\n",
       "    <tr>\n",
       "      <th>CS1</th>\n",
       "      <td>1508.0</td>\n",
       "      <td>17.18187</td>\n",
       "      <td>3.2</td>\n",
       "      <td>16.845</td>\n",
       "      <td>27.0139</td>\n",
       "      <td>29.2</td>\n",
       "      <td>5.438726</td>\n",
       "    </tr>\n",
       "    <tr>\n",
       "      <th>CS3</th>\n",
       "      <td>1508.0</td>\n",
       "      <td>27.32315</td>\n",
       "      <td>10.65</td>\n",
       "      <td>27.95</td>\n",
       "      <td>37.863</td>\n",
       "      <td>40.95</td>\n",
       "      <td>5.909543</td>\n",
       "    </tr>\n",
       "    <tr>\n",
       "      <th>CS7</th>\n",
       "      <td>1508.0</td>\n",
       "      <td>36.729536</td>\n",
       "      <td>20.7</td>\n",
       "      <td>37.9</td>\n",
       "      <td>44.3986</td>\n",
       "      <td>45.97</td>\n",
       "      <td>4.866299</td>\n",
       "    </tr>\n",
       "    <tr>\n",
       "      <th>CS28</th>\n",
       "      <td>1508.0</td>\n",
       "      <td>49.737951</td>\n",
       "      <td>33.15</td>\n",
       "      <td>50.1</td>\n",
       "      <td>56.9</td>\n",
       "      <td>58.1</td>\n",
       "      <td>4.043596</td>\n",
       "    </tr>\n",
       "  </tbody>\n",
       "</table>\n",
       "</div>"
      ],
      "text/plain": [
       "                       count                           mean  \\\n",
       "Date                    1508  2021-01-28 18:44:59.164456448   \n",
       "CaO                   1508.0                      56.000902   \n",
       "MgO                   1508.0                       2.093674   \n",
       "Na2O                  1508.0                       0.116313   \n",
       "Al2O3                 1508.0                       6.419947   \n",
       "SiO2                  1508.0                      22.926366   \n",
       "SO3                   1508.0                       3.066174   \n",
       "K2O                   1508.0                       0.595285   \n",
       "Fe2O3                 1508.0                       2.207235   \n",
       "Loss on Ignition      1508.0                       4.974589   \n",
       "Insoluble Residue     1508.0                       0.832414   \n",
       "Blaine                1508.0                    4972.155172   \n",
       "#200                  1508.0                       0.200126   \n",
       "#325                  1508.0                       1.129065   \n",
       "Initial setting time  1508.0                     172.619363   \n",
       "Final setting time    1508.0                     206.810345   \n",
       "CS1                   1508.0                       17.18187   \n",
       "CS3                   1508.0                       27.32315   \n",
       "CS7                   1508.0                      36.729536   \n",
       "CS28                  1508.0                      49.737951   \n",
       "\n",
       "                                      min                  50%  \\\n",
       "Date                  2018-02-07 14:00:00  2021-04-02 13:02:00   \n",
       "CaO                                 46.25               55.365   \n",
       "MgO                                  0.64                 2.11   \n",
       "Na2O                                 0.01                  0.1   \n",
       "Al2O3                                4.87                  6.4   \n",
       "SiO2                                18.49               22.945   \n",
       "SO3                                  1.52                 3.09   \n",
       "K2O                                  0.41                 0.59   \n",
       "Fe2O3                                1.16                 2.19   \n",
       "Loss on Ignition                     2.11                 4.99   \n",
       "Insoluble Residue                    0.24                 0.72   \n",
       "Blaine                             3670.0               5000.0   \n",
       "#200                                  0.0                 0.11   \n",
       "#325                                 0.05                 0.65   \n",
       "Initial setting time                130.0                170.0   \n",
       "Final setting time                  160.0                200.0   \n",
       "CS1                                   3.2               16.845   \n",
       "CS3                                 10.65                27.95   \n",
       "CS7                                  20.7                 37.9   \n",
       "CS28                                33.15                 50.1   \n",
       "\n",
       "                                      99%                  max        std  \n",
       "Date                  2023-03-13 17:00:00  2023-03-28 13:06:00        NaN  \n",
       "CaO                               61.7886                64.13   3.682387  \n",
       "MgO                                4.3493                  6.4   0.849215  \n",
       "Na2O                                 0.28                 0.47   0.057128  \n",
       "Al2O3                              8.7993                 9.69   0.818258  \n",
       "SiO2                              30.0044                 30.6   2.689156  \n",
       "SO3                                4.0793                 4.48   0.483742  \n",
       "K2O                                  0.78                 0.87   0.066103  \n",
       "Fe2O3                                2.95                  3.5   0.370741  \n",
       "Loss on Ignition                     6.52                 8.44   0.725993  \n",
       "Insoluble Residue                  2.0651                 2.83   0.372776  \n",
       "Blaine                             5628.6               6080.0  314.97727  \n",
       "#200                               1.2386                 2.78   0.244631  \n",
       "#325                                 6.26                 8.86   1.256604  \n",
       "Initial setting time                245.0                270.0  22.328808  \n",
       "Final setting time                  310.0                345.0  26.859606  \n",
       "CS1                               27.0139                 29.2   5.438726  \n",
       "CS3                                37.863                40.95   5.909543  \n",
       "CS7                               44.3986                45.97   4.866299  \n",
       "CS28                                 56.9                 58.1   4.043596  "
      ]
     },
     "execution_count": 25,
     "metadata": {},
     "output_type": "execute_result"
    },
    {
     "data": {
      "application/javascript": [
       "\n",
       "            setTimeout(function() {\n",
       "                var nbb_cell_id = 25;\n",
       "                var nbb_unformatted_code = \"df.describe(percentiles=[0.99]).T\";\n",
       "                var nbb_formatted_code = \"df.describe(percentiles=[0.99]).T\";\n",
       "                var nbb_cells = Jupyter.notebook.get_cells();\n",
       "                for (var i = 0; i < nbb_cells.length; ++i) {\n",
       "                    if (nbb_cells[i].input_prompt_number == nbb_cell_id) {\n",
       "                        if (nbb_cells[i].get_text() == nbb_unformatted_code) {\n",
       "                             nbb_cells[i].set_text(nbb_formatted_code);\n",
       "                        }\n",
       "                        break;\n",
       "                    }\n",
       "                }\n",
       "            }, 500);\n",
       "            "
      ],
      "text/plain": [
       "<IPython.core.display.Javascript object>"
      ]
     },
     "metadata": {},
     "output_type": "display_data"
    }
   ],
   "source": [
    "df.describe(percentiles=[0.99]).T"
   ]
  },
  {
   "cell_type": "code",
   "execution_count": 26,
   "id": "317f9c2b",
   "metadata": {},
   "outputs": [
    {
     "data": {
      "text/html": [
       "<div>\n",
       "<style scoped>\n",
       "    .dataframe tbody tr th:only-of-type {\n",
       "        vertical-align: middle;\n",
       "    }\n",
       "\n",
       "    .dataframe tbody tr th {\n",
       "        vertical-align: top;\n",
       "    }\n",
       "\n",
       "    .dataframe thead th {\n",
       "        text-align: right;\n",
       "    }\n",
       "</style>\n",
       "<table border=\"1\" class=\"dataframe\">\n",
       "  <thead>\n",
       "    <tr style=\"text-align: right;\">\n",
       "      <th></th>\n",
       "      <th>count</th>\n",
       "      <th>mean</th>\n",
       "      <th>min</th>\n",
       "      <th>25%</th>\n",
       "      <th>50%</th>\n",
       "      <th>75%</th>\n",
       "      <th>max</th>\n",
       "      <th>std</th>\n",
       "    </tr>\n",
       "  </thead>\n",
       "  <tbody>\n",
       "    <tr>\n",
       "      <th>Date</th>\n",
       "      <td>1508</td>\n",
       "      <td>2021-01-28 18:44:59.164456448</td>\n",
       "      <td>2018-02-07 14:00:00</td>\n",
       "      <td>2020-02-20 01:41:45</td>\n",
       "      <td>2021-04-02 13:02:00</td>\n",
       "      <td>2022-04-13 11:54:00</td>\n",
       "      <td>2023-03-28 13:06:00</td>\n",
       "      <td>NaN</td>\n",
       "    </tr>\n",
       "    <tr>\n",
       "      <th>CaO</th>\n",
       "      <td>1508.0</td>\n",
       "      <td>56.000902</td>\n",
       "      <td>46.25</td>\n",
       "      <td>53.84</td>\n",
       "      <td>55.365</td>\n",
       "      <td>59.3125</td>\n",
       "      <td>64.13</td>\n",
       "      <td>3.682387</td>\n",
       "    </tr>\n",
       "    <tr>\n",
       "      <th>MgO</th>\n",
       "      <td>1508.0</td>\n",
       "      <td>2.093674</td>\n",
       "      <td>0.64</td>\n",
       "      <td>1.35</td>\n",
       "      <td>2.11</td>\n",
       "      <td>2.5225</td>\n",
       "      <td>6.4</td>\n",
       "      <td>0.849215</td>\n",
       "    </tr>\n",
       "    <tr>\n",
       "      <th>Na2O</th>\n",
       "      <td>1508.0</td>\n",
       "      <td>0.116313</td>\n",
       "      <td>0.01</td>\n",
       "      <td>0.08</td>\n",
       "      <td>0.1</td>\n",
       "      <td>0.14</td>\n",
       "      <td>0.47</td>\n",
       "      <td>0.057128</td>\n",
       "    </tr>\n",
       "    <tr>\n",
       "      <th>Al2O3</th>\n",
       "      <td>1508.0</td>\n",
       "      <td>6.419947</td>\n",
       "      <td>4.87</td>\n",
       "      <td>5.73</td>\n",
       "      <td>6.4</td>\n",
       "      <td>6.9</td>\n",
       "      <td>9.69</td>\n",
       "      <td>0.818258</td>\n",
       "    </tr>\n",
       "    <tr>\n",
       "      <th>SiO2</th>\n",
       "      <td>1508.0</td>\n",
       "      <td>22.926366</td>\n",
       "      <td>18.49</td>\n",
       "      <td>20.4675</td>\n",
       "      <td>22.945</td>\n",
       "      <td>24.46</td>\n",
       "      <td>30.6</td>\n",
       "      <td>2.689156</td>\n",
       "    </tr>\n",
       "    <tr>\n",
       "      <th>SO3</th>\n",
       "      <td>1508.0</td>\n",
       "      <td>3.066174</td>\n",
       "      <td>1.52</td>\n",
       "      <td>2.82</td>\n",
       "      <td>3.09</td>\n",
       "      <td>3.34</td>\n",
       "      <td>4.48</td>\n",
       "      <td>0.483742</td>\n",
       "    </tr>\n",
       "    <tr>\n",
       "      <th>K2O</th>\n",
       "      <td>1508.0</td>\n",
       "      <td>0.595285</td>\n",
       "      <td>0.41</td>\n",
       "      <td>0.55</td>\n",
       "      <td>0.59</td>\n",
       "      <td>0.63</td>\n",
       "      <td>0.87</td>\n",
       "      <td>0.066103</td>\n",
       "    </tr>\n",
       "    <tr>\n",
       "      <th>Fe2O3</th>\n",
       "      <td>1508.0</td>\n",
       "      <td>2.207235</td>\n",
       "      <td>1.16</td>\n",
       "      <td>1.94</td>\n",
       "      <td>2.19</td>\n",
       "      <td>2.5</td>\n",
       "      <td>3.5</td>\n",
       "      <td>0.370741</td>\n",
       "    </tr>\n",
       "    <tr>\n",
       "      <th>Loss on Ignition</th>\n",
       "      <td>1508.0</td>\n",
       "      <td>4.974589</td>\n",
       "      <td>2.11</td>\n",
       "      <td>4.4375</td>\n",
       "      <td>4.99</td>\n",
       "      <td>5.48</td>\n",
       "      <td>8.44</td>\n",
       "      <td>0.725993</td>\n",
       "    </tr>\n",
       "    <tr>\n",
       "      <th>Insoluble Residue</th>\n",
       "      <td>1508.0</td>\n",
       "      <td>0.832414</td>\n",
       "      <td>0.24</td>\n",
       "      <td>0.58</td>\n",
       "      <td>0.72</td>\n",
       "      <td>1.01</td>\n",
       "      <td>2.83</td>\n",
       "      <td>0.372776</td>\n",
       "    </tr>\n",
       "    <tr>\n",
       "      <th>Blaine</th>\n",
       "      <td>1508.0</td>\n",
       "      <td>4972.155172</td>\n",
       "      <td>3670.0</td>\n",
       "      <td>4780.0</td>\n",
       "      <td>5000.0</td>\n",
       "      <td>5190.0</td>\n",
       "      <td>6080.0</td>\n",
       "      <td>314.97727</td>\n",
       "    </tr>\n",
       "    <tr>\n",
       "      <th>#200</th>\n",
       "      <td>1508.0</td>\n",
       "      <td>0.200126</td>\n",
       "      <td>0.0</td>\n",
       "      <td>0.06</td>\n",
       "      <td>0.11</td>\n",
       "      <td>0.17</td>\n",
       "      <td>2.78</td>\n",
       "      <td>0.244631</td>\n",
       "    </tr>\n",
       "    <tr>\n",
       "      <th>#325</th>\n",
       "      <td>1508.0</td>\n",
       "      <td>1.129065</td>\n",
       "      <td>0.05</td>\n",
       "      <td>0.44</td>\n",
       "      <td>0.65</td>\n",
       "      <td>1.09</td>\n",
       "      <td>8.86</td>\n",
       "      <td>1.256604</td>\n",
       "    </tr>\n",
       "    <tr>\n",
       "      <th>Initial setting time</th>\n",
       "      <td>1508.0</td>\n",
       "      <td>172.619363</td>\n",
       "      <td>130.0</td>\n",
       "      <td>160.0</td>\n",
       "      <td>170.0</td>\n",
       "      <td>180.0</td>\n",
       "      <td>270.0</td>\n",
       "      <td>22.328808</td>\n",
       "    </tr>\n",
       "    <tr>\n",
       "      <th>Final setting time</th>\n",
       "      <td>1508.0</td>\n",
       "      <td>206.810345</td>\n",
       "      <td>160.0</td>\n",
       "      <td>190.0</td>\n",
       "      <td>200.0</td>\n",
       "      <td>215.0</td>\n",
       "      <td>345.0</td>\n",
       "      <td>26.859606</td>\n",
       "    </tr>\n",
       "    <tr>\n",
       "      <th>CS1</th>\n",
       "      <td>1508.0</td>\n",
       "      <td>17.18187</td>\n",
       "      <td>3.2</td>\n",
       "      <td>14.25</td>\n",
       "      <td>16.845</td>\n",
       "      <td>21.3</td>\n",
       "      <td>29.2</td>\n",
       "      <td>5.438726</td>\n",
       "    </tr>\n",
       "    <tr>\n",
       "      <th>CS3</th>\n",
       "      <td>1508.0</td>\n",
       "      <td>27.32315</td>\n",
       "      <td>10.65</td>\n",
       "      <td>24.0</td>\n",
       "      <td>27.95</td>\n",
       "      <td>31.5</td>\n",
       "      <td>40.95</td>\n",
       "      <td>5.909543</td>\n",
       "    </tr>\n",
       "    <tr>\n",
       "      <th>CS7</th>\n",
       "      <td>1508.0</td>\n",
       "      <td>36.729536</td>\n",
       "      <td>20.7</td>\n",
       "      <td>34.495</td>\n",
       "      <td>37.9</td>\n",
       "      <td>40.035</td>\n",
       "      <td>45.97</td>\n",
       "      <td>4.866299</td>\n",
       "    </tr>\n",
       "    <tr>\n",
       "      <th>CS28</th>\n",
       "      <td>1508.0</td>\n",
       "      <td>49.737951</td>\n",
       "      <td>33.15</td>\n",
       "      <td>48.33</td>\n",
       "      <td>50.1</td>\n",
       "      <td>52.25</td>\n",
       "      <td>58.1</td>\n",
       "      <td>4.043596</td>\n",
       "    </tr>\n",
       "  </tbody>\n",
       "</table>\n",
       "</div>"
      ],
      "text/plain": [
       "                       count                           mean  \\\n",
       "Date                    1508  2021-01-28 18:44:59.164456448   \n",
       "CaO                   1508.0                      56.000902   \n",
       "MgO                   1508.0                       2.093674   \n",
       "Na2O                  1508.0                       0.116313   \n",
       "Al2O3                 1508.0                       6.419947   \n",
       "SiO2                  1508.0                      22.926366   \n",
       "SO3                   1508.0                       3.066174   \n",
       "K2O                   1508.0                       0.595285   \n",
       "Fe2O3                 1508.0                       2.207235   \n",
       "Loss on Ignition      1508.0                       4.974589   \n",
       "Insoluble Residue     1508.0                       0.832414   \n",
       "Blaine                1508.0                    4972.155172   \n",
       "#200                  1508.0                       0.200126   \n",
       "#325                  1508.0                       1.129065   \n",
       "Initial setting time  1508.0                     172.619363   \n",
       "Final setting time    1508.0                     206.810345   \n",
       "CS1                   1508.0                       17.18187   \n",
       "CS3                   1508.0                       27.32315   \n",
       "CS7                   1508.0                      36.729536   \n",
       "CS28                  1508.0                      49.737951   \n",
       "\n",
       "                                      min                  25%  \\\n",
       "Date                  2018-02-07 14:00:00  2020-02-20 01:41:45   \n",
       "CaO                                 46.25                53.84   \n",
       "MgO                                  0.64                 1.35   \n",
       "Na2O                                 0.01                 0.08   \n",
       "Al2O3                                4.87                 5.73   \n",
       "SiO2                                18.49              20.4675   \n",
       "SO3                                  1.52                 2.82   \n",
       "K2O                                  0.41                 0.55   \n",
       "Fe2O3                                1.16                 1.94   \n",
       "Loss on Ignition                     2.11               4.4375   \n",
       "Insoluble Residue                    0.24                 0.58   \n",
       "Blaine                             3670.0               4780.0   \n",
       "#200                                  0.0                 0.06   \n",
       "#325                                 0.05                 0.44   \n",
       "Initial setting time                130.0                160.0   \n",
       "Final setting time                  160.0                190.0   \n",
       "CS1                                   3.2                14.25   \n",
       "CS3                                 10.65                 24.0   \n",
       "CS7                                  20.7               34.495   \n",
       "CS28                                33.15                48.33   \n",
       "\n",
       "                                      50%                  75%  \\\n",
       "Date                  2021-04-02 13:02:00  2022-04-13 11:54:00   \n",
       "CaO                                55.365              59.3125   \n",
       "MgO                                  2.11               2.5225   \n",
       "Na2O                                  0.1                 0.14   \n",
       "Al2O3                                 6.4                  6.9   \n",
       "SiO2                               22.945                24.46   \n",
       "SO3                                  3.09                 3.34   \n",
       "K2O                                  0.59                 0.63   \n",
       "Fe2O3                                2.19                  2.5   \n",
       "Loss on Ignition                     4.99                 5.48   \n",
       "Insoluble Residue                    0.72                 1.01   \n",
       "Blaine                             5000.0               5190.0   \n",
       "#200                                 0.11                 0.17   \n",
       "#325                                 0.65                 1.09   \n",
       "Initial setting time                170.0                180.0   \n",
       "Final setting time                  200.0                215.0   \n",
       "CS1                                16.845                 21.3   \n",
       "CS3                                 27.95                 31.5   \n",
       "CS7                                  37.9               40.035   \n",
       "CS28                                 50.1                52.25   \n",
       "\n",
       "                                      max        std  \n",
       "Date                  2023-03-28 13:06:00        NaN  \n",
       "CaO                                 64.13   3.682387  \n",
       "MgO                                   6.4   0.849215  \n",
       "Na2O                                 0.47   0.057128  \n",
       "Al2O3                                9.69   0.818258  \n",
       "SiO2                                 30.6   2.689156  \n",
       "SO3                                  4.48   0.483742  \n",
       "K2O                                  0.87   0.066103  \n",
       "Fe2O3                                 3.5   0.370741  \n",
       "Loss on Ignition                     8.44   0.725993  \n",
       "Insoluble Residue                    2.83   0.372776  \n",
       "Blaine                             6080.0  314.97727  \n",
       "#200                                 2.78   0.244631  \n",
       "#325                                 8.86   1.256604  \n",
       "Initial setting time                270.0  22.328808  \n",
       "Final setting time                  345.0  26.859606  \n",
       "CS1                                  29.2   5.438726  \n",
       "CS3                                 40.95   5.909543  \n",
       "CS7                                 45.97   4.866299  \n",
       "CS28                                 58.1   4.043596  "
      ]
     },
     "execution_count": 26,
     "metadata": {},
     "output_type": "execute_result"
    },
    {
     "data": {
      "application/javascript": [
       "\n",
       "            setTimeout(function() {\n",
       "                var nbb_cell_id = 26;\n",
       "                var nbb_unformatted_code = \"df.describe().T\";\n",
       "                var nbb_formatted_code = \"df.describe().T\";\n",
       "                var nbb_cells = Jupyter.notebook.get_cells();\n",
       "                for (var i = 0; i < nbb_cells.length; ++i) {\n",
       "                    if (nbb_cells[i].input_prompt_number == nbb_cell_id) {\n",
       "                        if (nbb_cells[i].get_text() == nbb_unformatted_code) {\n",
       "                             nbb_cells[i].set_text(nbb_formatted_code);\n",
       "                        }\n",
       "                        break;\n",
       "                    }\n",
       "                }\n",
       "            }, 500);\n",
       "            "
      ],
      "text/plain": [
       "<IPython.core.display.Javascript object>"
      ]
     },
     "metadata": {},
     "output_type": "display_data"
    }
   ],
   "source": [
    "df.describe().T"
   ]
  },
  {
   "cell_type": "code",
   "execution_count": 27,
   "id": "6407f4fc",
   "metadata": {},
   "outputs": [
    {
     "data": {
      "text/html": [
       "<div>\n",
       "<style scoped>\n",
       "    .dataframe tbody tr th:only-of-type {\n",
       "        vertical-align: middle;\n",
       "    }\n",
       "\n",
       "    .dataframe tbody tr th {\n",
       "        vertical-align: top;\n",
       "    }\n",
       "\n",
       "    .dataframe thead th {\n",
       "        text-align: right;\n",
       "    }\n",
       "</style>\n",
       "<table border=\"1\" class=\"dataframe\">\n",
       "  <thead>\n",
       "    <tr style=\"text-align: right;\">\n",
       "      <th></th>\n",
       "      <th>count</th>\n",
       "      <th>unique</th>\n",
       "      <th>top</th>\n",
       "      <th>freq</th>\n",
       "      <th>mean</th>\n",
       "      <th>min</th>\n",
       "      <th>25%</th>\n",
       "      <th>50%</th>\n",
       "      <th>75%</th>\n",
       "      <th>max</th>\n",
       "    </tr>\n",
       "  </thead>\n",
       "  <tbody>\n",
       "    <tr>\n",
       "      <th>Plant</th>\n",
       "      <td>1508</td>\n",
       "      <td>1</td>\n",
       "      <td>AV</td>\n",
       "      <td>1508</td>\n",
       "      <td>NaN</td>\n",
       "      <td>NaN</td>\n",
       "      <td>NaN</td>\n",
       "      <td>NaN</td>\n",
       "      <td>NaN</td>\n",
       "      <td>NaN</td>\n",
       "    </tr>\n",
       "    <tr>\n",
       "      <th>Date</th>\n",
       "      <td>1508</td>\n",
       "      <td>NaN</td>\n",
       "      <td>NaN</td>\n",
       "      <td>NaN</td>\n",
       "      <td>2021-01-28 18:44:59.164456448</td>\n",
       "      <td>2018-02-07 14:00:00</td>\n",
       "      <td>2020-02-20 01:41:45</td>\n",
       "      <td>2021-04-02 13:02:00</td>\n",
       "      <td>2022-04-13 11:54:00</td>\n",
       "      <td>2023-03-28 13:06:00</td>\n",
       "    </tr>\n",
       "    <tr>\n",
       "      <th>Cement_Type</th>\n",
       "      <td>1508</td>\n",
       "      <td>4</td>\n",
       "      <td>CP II-E40</td>\n",
       "      <td>834</td>\n",
       "      <td>NaN</td>\n",
       "      <td>NaN</td>\n",
       "      <td>NaN</td>\n",
       "      <td>NaN</td>\n",
       "      <td>NaN</td>\n",
       "      <td>NaN</td>\n",
       "    </tr>\n",
       "  </tbody>\n",
       "</table>\n",
       "</div>"
      ],
      "text/plain": [
       "            count unique        top  freq                           mean  \\\n",
       "Plant        1508      1         AV  1508                            NaN   \n",
       "Date         1508    NaN        NaN   NaN  2021-01-28 18:44:59.164456448   \n",
       "Cement_Type  1508      4  CP II-E40   834                            NaN   \n",
       "\n",
       "                             min                  25%                  50%  \\\n",
       "Plant                        NaN                  NaN                  NaN   \n",
       "Date         2018-02-07 14:00:00  2020-02-20 01:41:45  2021-04-02 13:02:00   \n",
       "Cement_Type                  NaN                  NaN                  NaN   \n",
       "\n",
       "                             75%                  max  \n",
       "Plant                        NaN                  NaN  \n",
       "Date         2022-04-13 11:54:00  2023-03-28 13:06:00  \n",
       "Cement_Type                  NaN                  NaN  "
      ]
     },
     "execution_count": 27,
     "metadata": {},
     "output_type": "execute_result"
    },
    {
     "data": {
      "application/javascript": [
       "\n",
       "            setTimeout(function() {\n",
       "                var nbb_cell_id = 27;\n",
       "                var nbb_unformatted_code = \"df.describe(exclude=\\\"number\\\").T\";\n",
       "                var nbb_formatted_code = \"df.describe(exclude=\\\"number\\\").T\";\n",
       "                var nbb_cells = Jupyter.notebook.get_cells();\n",
       "                for (var i = 0; i < nbb_cells.length; ++i) {\n",
       "                    if (nbb_cells[i].input_prompt_number == nbb_cell_id) {\n",
       "                        if (nbb_cells[i].get_text() == nbb_unformatted_code) {\n",
       "                             nbb_cells[i].set_text(nbb_formatted_code);\n",
       "                        }\n",
       "                        break;\n",
       "                    }\n",
       "                }\n",
       "            }, 500);\n",
       "            "
      ],
      "text/plain": [
       "<IPython.core.display.Javascript object>"
      ]
     },
     "metadata": {},
     "output_type": "display_data"
    }
   ],
   "source": [
    "df.describe(exclude=\"number\").T"
   ]
  },
  {
   "cell_type": "markdown",
   "id": "10360409",
   "metadata": {},
   "source": [
    "### Dropping variable with Plant identification"
   ]
  },
  {
   "cell_type": "code",
   "execution_count": 28,
   "id": "00cf5720",
   "metadata": {},
   "outputs": [
    {
     "data": {
      "application/javascript": [
       "\n",
       "            setTimeout(function() {\n",
       "                var nbb_cell_id = 28;\n",
       "                var nbb_unformatted_code = \"df = df.drop(\\\"Plant\\\", axis=1)\";\n",
       "                var nbb_formatted_code = \"df = df.drop(\\\"Plant\\\", axis=1)\";\n",
       "                var nbb_cells = Jupyter.notebook.get_cells();\n",
       "                for (var i = 0; i < nbb_cells.length; ++i) {\n",
       "                    if (nbb_cells[i].input_prompt_number == nbb_cell_id) {\n",
       "                        if (nbb_cells[i].get_text() == nbb_unformatted_code) {\n",
       "                             nbb_cells[i].set_text(nbb_formatted_code);\n",
       "                        }\n",
       "                        break;\n",
       "                    }\n",
       "                }\n",
       "            }, 500);\n",
       "            "
      ],
      "text/plain": [
       "<IPython.core.display.Javascript object>"
      ]
     },
     "metadata": {},
     "output_type": "display_data"
    }
   ],
   "source": [
    "df = df.drop(\"Plant\", axis=1)"
   ]
  },
  {
   "cell_type": "markdown",
   "id": "69d7b827",
   "metadata": {},
   "source": [
    "### Sort the dataset by date"
   ]
  },
  {
   "cell_type": "code",
   "execution_count": 29,
   "id": "d05b0a86",
   "metadata": {},
   "outputs": [
    {
     "data": {
      "text/plain": [
       "dtype('<M8[ns]')"
      ]
     },
     "execution_count": 29,
     "metadata": {},
     "output_type": "execute_result"
    },
    {
     "data": {
      "application/javascript": [
       "\n",
       "            setTimeout(function() {\n",
       "                var nbb_cell_id = 29;\n",
       "                var nbb_unformatted_code = \"# We first make sure Date column was infered correctly\\ndf[\\\"Date\\\"].dtype\";\n",
       "                var nbb_formatted_code = \"# We first make sure Date column was infered correctly\\ndf[\\\"Date\\\"].dtype\";\n",
       "                var nbb_cells = Jupyter.notebook.get_cells();\n",
       "                for (var i = 0; i < nbb_cells.length; ++i) {\n",
       "                    if (nbb_cells[i].input_prompt_number == nbb_cell_id) {\n",
       "                        if (nbb_cells[i].get_text() == nbb_unformatted_code) {\n",
       "                             nbb_cells[i].set_text(nbb_formatted_code);\n",
       "                        }\n",
       "                        break;\n",
       "                    }\n",
       "                }\n",
       "            }, 500);\n",
       "            "
      ],
      "text/plain": [
       "<IPython.core.display.Javascript object>"
      ]
     },
     "metadata": {},
     "output_type": "display_data"
    }
   ],
   "source": [
    "# We first make sure Date column was infered correctly\n",
    "df[\"Date\"].dtype"
   ]
  },
  {
   "cell_type": "code",
   "execution_count": 30,
   "id": "2fefa09b",
   "metadata": {},
   "outputs": [
    {
     "data": {
      "application/javascript": [
       "\n",
       "            setTimeout(function() {\n",
       "                var nbb_cell_id = 30;\n",
       "                var nbb_unformatted_code = \"df = df.sort_values(by=\\\"Date\\\")\";\n",
       "                var nbb_formatted_code = \"df = df.sort_values(by=\\\"Date\\\")\";\n",
       "                var nbb_cells = Jupyter.notebook.get_cells();\n",
       "                for (var i = 0; i < nbb_cells.length; ++i) {\n",
       "                    if (nbb_cells[i].input_prompt_number == nbb_cell_id) {\n",
       "                        if (nbb_cells[i].get_text() == nbb_unformatted_code) {\n",
       "                             nbb_cells[i].set_text(nbb_formatted_code);\n",
       "                        }\n",
       "                        break;\n",
       "                    }\n",
       "                }\n",
       "            }, 500);\n",
       "            "
      ],
      "text/plain": [
       "<IPython.core.display.Javascript object>"
      ]
     },
     "metadata": {},
     "output_type": "display_data"
    }
   ],
   "source": [
    "df = df.sort_values(by=\"Date\")"
   ]
  },
  {
   "cell_type": "markdown",
   "id": "9b65cdf2",
   "metadata": {},
   "source": [
    "## Saving the dataset"
   ]
  },
  {
   "cell_type": "markdown",
   "id": "f5c83d74",
   "metadata": {},
   "source": [
    "<h3>Saving for feature engineering</h3>"
   ]
  },
  {
   "cell_type": "code",
   "execution_count": 31,
   "id": "a5345e3e",
   "metadata": {},
   "outputs": [
    {
     "data": {
      "application/javascript": [
       "\n",
       "            setTimeout(function() {\n",
       "                var nbb_cell_id = 31;\n",
       "                var nbb_unformatted_code = \"df.to_csv(\\\"../../../../data/interim/203/av.csv\\\", index=False)\";\n",
       "                var nbb_formatted_code = \"df.to_csv(\\\"../../../../data/interim/203/av.csv\\\", index=False)\";\n",
       "                var nbb_cells = Jupyter.notebook.get_cells();\n",
       "                for (var i = 0; i < nbb_cells.length; ++i) {\n",
       "                    if (nbb_cells[i].input_prompt_number == nbb_cell_id) {\n",
       "                        if (nbb_cells[i].get_text() == nbb_unformatted_code) {\n",
       "                             nbb_cells[i].set_text(nbb_formatted_code);\n",
       "                        }\n",
       "                        break;\n",
       "                    }\n",
       "                }\n",
       "            }, 500);\n",
       "            "
      ],
      "text/plain": [
       "<IPython.core.display.Javascript object>"
      ]
     },
     "metadata": {},
     "output_type": "display_data"
    }
   ],
   "source": [
    "df.to_csv(\"../../../../data/interim/203/av.csv\", index=False)"
   ]
  },
  {
   "cell_type": "code",
   "execution_count": null,
   "id": "6dcb49ef",
   "metadata": {},
   "outputs": [],
   "source": []
  }
 ],
 "metadata": {
  "kernelspec": {
   "display_name": "ccs28-venv",
   "language": "python",
   "name": "ccs28-venv"
  },
  "language_info": {
   "codemirror_mode": {
    "name": "ipython",
    "version": 3
   },
   "file_extension": ".py",
   "mimetype": "text/x-python",
   "name": "python",
   "nbconvert_exporter": "python",
   "pygments_lexer": "ipython3",
   "version": "3.10.12"
  }
 },
 "nbformat": 4,
 "nbformat_minor": 5
}
