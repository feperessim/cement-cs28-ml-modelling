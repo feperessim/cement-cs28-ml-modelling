{
 "cells": [
  {
   "cell_type": "code",
   "execution_count": 1,
   "id": "07eacc87",
   "metadata": {},
   "outputs": [
    {
     "data": {
      "application/javascript": [
       "\n",
       "            setTimeout(function() {\n",
       "                var nbb_cell_id = 1;\n",
       "                var nbb_unformatted_code = \"%load_ext nb_black\";\n",
       "                var nbb_formatted_code = \"%load_ext nb_black\";\n",
       "                var nbb_cells = Jupyter.notebook.get_cells();\n",
       "                for (var i = 0; i < nbb_cells.length; ++i) {\n",
       "                    if (nbb_cells[i].input_prompt_number == nbb_cell_id) {\n",
       "                        if (nbb_cells[i].get_text() == nbb_unformatted_code) {\n",
       "                             nbb_cells[i].set_text(nbb_formatted_code);\n",
       "                        }\n",
       "                        break;\n",
       "                    }\n",
       "                }\n",
       "            }, 500);\n",
       "            "
      ],
      "text/plain": [
       "<IPython.core.display.Javascript object>"
      ]
     },
     "metadata": {},
     "output_type": "display_data"
    }
   ],
   "source": [
    "%load_ext nb_black"
   ]
  },
  {
   "cell_type": "code",
   "execution_count": 2,
   "id": "0808c2b2",
   "metadata": {},
   "outputs": [
    {
     "data": {
      "application/javascript": [
       "\n",
       "            setTimeout(function() {\n",
       "                var nbb_cell_id = 2;\n",
       "                var nbb_unformatted_code = \"import pandas as pd\\nimport numpy as np\";\n",
       "                var nbb_formatted_code = \"import pandas as pd\\nimport numpy as np\";\n",
       "                var nbb_cells = Jupyter.notebook.get_cells();\n",
       "                for (var i = 0; i < nbb_cells.length; ++i) {\n",
       "                    if (nbb_cells[i].input_prompt_number == nbb_cell_id) {\n",
       "                        if (nbb_cells[i].get_text() == nbb_unformatted_code) {\n",
       "                             nbb_cells[i].set_text(nbb_formatted_code);\n",
       "                        }\n",
       "                        break;\n",
       "                    }\n",
       "                }\n",
       "            }, 500);\n",
       "            "
      ],
      "text/plain": [
       "<IPython.core.display.Javascript object>"
      ]
     },
     "metadata": {},
     "output_type": "display_data"
    }
   ],
   "source": [
    "import pandas as pd\n",
    "import numpy as np"
   ]
  },
  {
   "cell_type": "code",
   "execution_count": 3,
   "id": "056ee6fe",
   "metadata": {},
   "outputs": [
    {
     "data": {
      "application/javascript": [
       "\n",
       "            setTimeout(function() {\n",
       "                var nbb_cell_id = 3;\n",
       "                var nbb_unformatted_code = \"def convert_to_float(value):\\n    try:\\n        # If it's a string enclosed in single quotes, remove quotes and replace comma with dot\\n        if isinstance(value, str):\\n            return float(value.replace(\\\",\\\", \\\".\\\"))\\n        else:\\n            return float(value)\\n    except ValueError as e:\\n        print(e)\\n        return float(\\\"nan\\\")\";\n",
       "                var nbb_formatted_code = \"def convert_to_float(value):\\n    try:\\n        # If it's a string enclosed in single quotes, remove quotes and replace comma with dot\\n        if isinstance(value, str):\\n            return float(value.replace(\\\",\\\", \\\".\\\"))\\n        else:\\n            return float(value)\\n    except ValueError as e:\\n        print(e)\\n        return float(\\\"nan\\\")\";\n",
       "                var nbb_cells = Jupyter.notebook.get_cells();\n",
       "                for (var i = 0; i < nbb_cells.length; ++i) {\n",
       "                    if (nbb_cells[i].input_prompt_number == nbb_cell_id) {\n",
       "                        if (nbb_cells[i].get_text() == nbb_unformatted_code) {\n",
       "                             nbb_cells[i].set_text(nbb_formatted_code);\n",
       "                        }\n",
       "                        break;\n",
       "                    }\n",
       "                }\n",
       "            }, 500);\n",
       "            "
      ],
      "text/plain": [
       "<IPython.core.display.Javascript object>"
      ]
     },
     "metadata": {},
     "output_type": "display_data"
    }
   ],
   "source": [
    "def convert_to_float(value):\n",
    "    try:\n",
    "        # If it's a string enclosed in single quotes, remove quotes and replace comma with dot\n",
    "        if isinstance(value, str):\n",
    "            return float(value.replace(\",\", \".\"))\n",
    "        else:\n",
    "            return float(value)\n",
    "    except ValueError as e:\n",
    "        print(e)\n",
    "        return float(\"nan\")"
   ]
  },
  {
   "cell_type": "markdown",
   "id": "d3f71ca8",
   "metadata": {},
   "source": [
    "## Reading the dataset"
   ]
  },
  {
   "cell_type": "code",
   "execution_count": 4,
   "id": "89793d72",
   "metadata": {},
   "outputs": [
    {
     "data": {
      "application/javascript": [
       "\n",
       "            setTimeout(function() {\n",
       "                var nbb_cell_id = 4;\n",
       "                var nbb_unformatted_code = \"plant = \\\"Y\\\"\\n\\nxls = pd.ExcelFile(\\n    f\\\"../../../../data/raw/203/EMBRAPII hubIC IACC_CIMENTO_{plant}.xlsx\\\",\\n    engine=\\\"openpyxl\\\",\\n)\";\n",
       "                var nbb_formatted_code = \"plant = \\\"Y\\\"\\n\\nxls = pd.ExcelFile(\\n    f\\\"../../../../data/raw/203/EMBRAPII hubIC IACC_CIMENTO_{plant}.xlsx\\\",\\n    engine=\\\"openpyxl\\\",\\n)\";\n",
       "                var nbb_cells = Jupyter.notebook.get_cells();\n",
       "                for (var i = 0; i < nbb_cells.length; ++i) {\n",
       "                    if (nbb_cells[i].input_prompt_number == nbb_cell_id) {\n",
       "                        if (nbb_cells[i].get_text() == nbb_unformatted_code) {\n",
       "                             nbb_cells[i].set_text(nbb_formatted_code);\n",
       "                        }\n",
       "                        break;\n",
       "                    }\n",
       "                }\n",
       "            }, 500);\n",
       "            "
      ],
      "text/plain": [
       "<IPython.core.display.Javascript object>"
      ]
     },
     "metadata": {},
     "output_type": "display_data"
    }
   ],
   "source": [
    "plant = \"Y\"\n",
    "\n",
    "xls = pd.ExcelFile(\n",
    "    f\"../../../../data/raw/203/EMBRAPII hubIC IACC_CIMENTO_{plant}.xlsx\",\n",
    "    engine=\"openpyxl\",\n",
    ")"
   ]
  },
  {
   "cell_type": "code",
   "execution_count": 5,
   "id": "a97fdaf9",
   "metadata": {},
   "outputs": [
    {
     "data": {
      "application/javascript": [
       "\n",
       "            setTimeout(function() {\n",
       "                var nbb_cell_id = 5;\n",
       "                var nbb_unformatted_code = \"dataframes = []\\n\\nfor sheet_name in xls.sheet_names[1:]:\\n    df = pd.read_excel(xls, sheet_name, header=[0, 1, 2])\\n    dataframes.append(df.drop([0, 1], axis=0).reset_index(drop=True).copy())\\n\\ndf = pd.concat(dataframes, axis=0).reset_index(drop=True)\";\n",
       "                var nbb_formatted_code = \"dataframes = []\\n\\nfor sheet_name in xls.sheet_names[1:]:\\n    df = pd.read_excel(xls, sheet_name, header=[0, 1, 2])\\n    dataframes.append(df.drop([0, 1], axis=0).reset_index(drop=True).copy())\\n\\ndf = pd.concat(dataframes, axis=0).reset_index(drop=True)\";\n",
       "                var nbb_cells = Jupyter.notebook.get_cells();\n",
       "                for (var i = 0; i < nbb_cells.length; ++i) {\n",
       "                    if (nbb_cells[i].input_prompt_number == nbb_cell_id) {\n",
       "                        if (nbb_cells[i].get_text() == nbb_unformatted_code) {\n",
       "                             nbb_cells[i].set_text(nbb_formatted_code);\n",
       "                        }\n",
       "                        break;\n",
       "                    }\n",
       "                }\n",
       "            }, 500);\n",
       "            "
      ],
      "text/plain": [
       "<IPython.core.display.Javascript object>"
      ]
     },
     "metadata": {},
     "output_type": "display_data"
    }
   ],
   "source": [
    "dataframes = []\n",
    "\n",
    "for sheet_name in xls.sheet_names[1:]:\n",
    "    df = pd.read_excel(xls, sheet_name, header=[0, 1, 2])\n",
    "    dataframes.append(df.drop([0, 1], axis=0).reset_index(drop=True).copy())\n",
    "\n",
    "df = pd.concat(dataframes, axis=0).reset_index(drop=True)"
   ]
  },
  {
   "cell_type": "markdown",
   "id": "8c6b4360",
   "metadata": {},
   "source": [
    "## Initial Preprocessing"
   ]
  },
  {
   "cell_type": "code",
   "execution_count": 6,
   "id": "8b5e7eaa",
   "metadata": {},
   "outputs": [
    {
     "data": {
      "application/javascript": [
       "\n",
       "            setTimeout(function() {\n",
       "                var nbb_cell_id = 6;\n",
       "                var nbb_unformatted_code = \"df = pd.concat(\\n    [\\n        df[\\\"Dados iniciais\\\"],\\n        df[\\\"Cimento\\\"][\\\"An\\u00e1lise qu\\u00edmica\\\"],\\n        df[\\\"Caracter\\u00edstias f\\u00edsicas do cimento\\\"],\\n        df[\\\"Propriedades do cimento\\\"],\\n    ],\\n    axis=1,\\n)\";\n",
       "                var nbb_formatted_code = \"df = pd.concat(\\n    [\\n        df[\\\"Dados iniciais\\\"],\\n        df[\\\"Cimento\\\"][\\\"An\\u00e1lise qu\\u00edmica\\\"],\\n        df[\\\"Caracter\\u00edstias f\\u00edsicas do cimento\\\"],\\n        df[\\\"Propriedades do cimento\\\"],\\n    ],\\n    axis=1,\\n)\";\n",
       "                var nbb_cells = Jupyter.notebook.get_cells();\n",
       "                for (var i = 0; i < nbb_cells.length; ++i) {\n",
       "                    if (nbb_cells[i].input_prompt_number == nbb_cell_id) {\n",
       "                        if (nbb_cells[i].get_text() == nbb_unformatted_code) {\n",
       "                             nbb_cells[i].set_text(nbb_formatted_code);\n",
       "                        }\n",
       "                        break;\n",
       "                    }\n",
       "                }\n",
       "            }, 500);\n",
       "            "
      ],
      "text/plain": [
       "<IPython.core.display.Javascript object>"
      ]
     },
     "metadata": {},
     "output_type": "display_data"
    }
   ],
   "source": [
    "df = pd.concat(\n",
    "    [\n",
    "        df[\"Dados iniciais\"],\n",
    "        df[\"Cimento\"][\"Análise química\"],\n",
    "        df[\"Característias físicas do cimento\"],\n",
    "        df[\"Propriedades do cimento\"],\n",
    "    ],\n",
    "    axis=1,\n",
    ")"
   ]
  },
  {
   "cell_type": "markdown",
   "id": "0a9b112a",
   "metadata": {},
   "source": [
    "### 1. Dropping columns where either there is no data nor it contributes to the analysis\n",
    "### 2. Renaming columns to a short identifiable name "
   ]
  },
  {
   "cell_type": "code",
   "execution_count": 7,
   "id": "47cb1f3c",
   "metadata": {},
   "outputs": [
    {
     "data": {
      "application/javascript": [
       "\n",
       "            setTimeout(function() {\n",
       "                var nbb_cell_id = 7;\n",
       "                var nbb_unformatted_code = \"COLUMNS_TO_DROP = [\\n    (\\\"Data\\\", \\\"Produ\\u00e7\\u00e3o\\\"),\\n    (\\\"Hor\\u00e1rio\\\", \\\"Produ\\u00e7\\u00e3o\\\"),\\n    (\\\"Hor\\u00e1rio\\\", \\\"Medida\\\"),\\n    (\\\"Obs.\\\", \\\"Unnamed: 148_level_2\\\"),\\n    (\\\"Tipo de cimento\\\", \\\"Unnamed: 6_level_2\\\"),\\n    (\\\"Classe de resist\\u00eancia\\\", \\\"Unnamed: 7_level_2\\\"),\\n    (\\\"Obs.\\\", \\\"Unnamed: 8_level_2\\\"),\\n    \\\"Obs.\\\",\\n    (\\\"Obs.\\\", \\\"Unnamed: 148_level_2\\\"),\\n    (\\\"Unnamed: 141_level_1\\\", \\\"Obs.\\\"),\\n    (\\\"Unnamed: 139_level_1\\\", \\\"#400\\\"),\\n]\\n\\nCOLUMNS_TO_RENAME = {\\n    (\\\"Cidade\\\", \\\"Unnamed: 1_level_2\\\"): \\\"Plant\\\",\\n    (\\\"Data\\\", \\\"Medida\\\"): \\\"Date\\\",\\n    (\\\"Unnamed: 136_level_1\\\", \\\"Blaine\\\"): \\\"Blaine\\\",\\n    (\\\"Unnamed: 137_level_1\\\", \\\"#200\\\"): \\\"#200\\\",\\n    (\\\"Unnamed: 138_level_1\\\", \\\"#325\\\"): \\\"#325\\\",\\n    (\\\"Unnamed: 139_level_1\\\", \\\"#400\\\"): \\\"#400\\\",\\n    (\\\"Unnamed: 140_level_1\\\", \\\"Massa espec\\u00edfica\\\"): \\\"Specific Gravity\\\",\\n    (\\\"Tempo de pega\\\", \\\"Fim\\\"): \\\"Final setting time\\\",\\n    (\\\"Tempo de pega\\\", \\\"Inicio\\\"): \\\"Initial setting time\\\",\\n    (\\\"Resist\\u00eancia \\u00e0 compress\\u00e3o\\\", \\\"1 d\\\"): \\\"CS1\\\",\\n    (\\\"Resist\\u00eancia \\u00e0 compress\\u00e3o\\\", \\\"3 d\\\"): \\\"CS3\\\",\\n    (\\\"Resist\\u00eancia \\u00e0 compress\\u00e3o\\\", \\\"7 d\\\"): \\\"CS7\\\",\\n    (\\\"Resist\\u00eancia \\u00e0 compress\\u00e3o\\\", \\\"28 d\\\"): \\\"CS28\\\",\\n    \\\"Perda ao fogo\\\": \\\"Loss on Ignition\\\",\\n    \\\"Res\\u00edduo insol\\u00favel\\\": \\\"Insoluble Residue\\\",\\n}\";\n",
       "                var nbb_formatted_code = \"COLUMNS_TO_DROP = [\\n    (\\\"Data\\\", \\\"Produ\\u00e7\\u00e3o\\\"),\\n    (\\\"Hor\\u00e1rio\\\", \\\"Produ\\u00e7\\u00e3o\\\"),\\n    (\\\"Hor\\u00e1rio\\\", \\\"Medida\\\"),\\n    (\\\"Obs.\\\", \\\"Unnamed: 148_level_2\\\"),\\n    (\\\"Tipo de cimento\\\", \\\"Unnamed: 6_level_2\\\"),\\n    (\\\"Classe de resist\\u00eancia\\\", \\\"Unnamed: 7_level_2\\\"),\\n    (\\\"Obs.\\\", \\\"Unnamed: 8_level_2\\\"),\\n    \\\"Obs.\\\",\\n    (\\\"Obs.\\\", \\\"Unnamed: 148_level_2\\\"),\\n    (\\\"Unnamed: 141_level_1\\\", \\\"Obs.\\\"),\\n    (\\\"Unnamed: 139_level_1\\\", \\\"#400\\\"),\\n]\\n\\nCOLUMNS_TO_RENAME = {\\n    (\\\"Cidade\\\", \\\"Unnamed: 1_level_2\\\"): \\\"Plant\\\",\\n    (\\\"Data\\\", \\\"Medida\\\"): \\\"Date\\\",\\n    (\\\"Unnamed: 136_level_1\\\", \\\"Blaine\\\"): \\\"Blaine\\\",\\n    (\\\"Unnamed: 137_level_1\\\", \\\"#200\\\"): \\\"#200\\\",\\n    (\\\"Unnamed: 138_level_1\\\", \\\"#325\\\"): \\\"#325\\\",\\n    (\\\"Unnamed: 139_level_1\\\", \\\"#400\\\"): \\\"#400\\\",\\n    (\\\"Unnamed: 140_level_1\\\", \\\"Massa espec\\u00edfica\\\"): \\\"Specific Gravity\\\",\\n    (\\\"Tempo de pega\\\", \\\"Fim\\\"): \\\"Final setting time\\\",\\n    (\\\"Tempo de pega\\\", \\\"Inicio\\\"): \\\"Initial setting time\\\",\\n    (\\\"Resist\\u00eancia \\u00e0 compress\\u00e3o\\\", \\\"1 d\\\"): \\\"CS1\\\",\\n    (\\\"Resist\\u00eancia \\u00e0 compress\\u00e3o\\\", \\\"3 d\\\"): \\\"CS3\\\",\\n    (\\\"Resist\\u00eancia \\u00e0 compress\\u00e3o\\\", \\\"7 d\\\"): \\\"CS7\\\",\\n    (\\\"Resist\\u00eancia \\u00e0 compress\\u00e3o\\\", \\\"28 d\\\"): \\\"CS28\\\",\\n    \\\"Perda ao fogo\\\": \\\"Loss on Ignition\\\",\\n    \\\"Res\\u00edduo insol\\u00favel\\\": \\\"Insoluble Residue\\\",\\n}\";\n",
       "                var nbb_cells = Jupyter.notebook.get_cells();\n",
       "                for (var i = 0; i < nbb_cells.length; ++i) {\n",
       "                    if (nbb_cells[i].input_prompt_number == nbb_cell_id) {\n",
       "                        if (nbb_cells[i].get_text() == nbb_unformatted_code) {\n",
       "                             nbb_cells[i].set_text(nbb_formatted_code);\n",
       "                        }\n",
       "                        break;\n",
       "                    }\n",
       "                }\n",
       "            }, 500);\n",
       "            "
      ],
      "text/plain": [
       "<IPython.core.display.Javascript object>"
      ]
     },
     "metadata": {},
     "output_type": "display_data"
    }
   ],
   "source": [
    "COLUMNS_TO_DROP = [\n",
    "    (\"Data\", \"Produção\"),\n",
    "    (\"Horário\", \"Produção\"),\n",
    "    (\"Horário\", \"Medida\"),\n",
    "    (\"Obs.\", \"Unnamed: 148_level_2\"),\n",
    "    (\"Tipo de cimento\", \"Unnamed: 6_level_2\"),\n",
    "    (\"Classe de resistência\", \"Unnamed: 7_level_2\"),\n",
    "    (\"Obs.\", \"Unnamed: 8_level_2\"),\n",
    "    \"Obs.\",\n",
    "    (\"Obs.\", \"Unnamed: 148_level_2\"),\n",
    "    (\"Unnamed: 141_level_1\", \"Obs.\"),\n",
    "    (\"Unnamed: 139_level_1\", \"#400\"),\n",
    "]\n",
    "\n",
    "COLUMNS_TO_RENAME = {\n",
    "    (\"Cidade\", \"Unnamed: 1_level_2\"): \"Plant\",\n",
    "    (\"Data\", \"Medida\"): \"Date\",\n",
    "    (\"Unnamed: 136_level_1\", \"Blaine\"): \"Blaine\",\n",
    "    (\"Unnamed: 137_level_1\", \"#200\"): \"#200\",\n",
    "    (\"Unnamed: 138_level_1\", \"#325\"): \"#325\",\n",
    "    (\"Unnamed: 139_level_1\", \"#400\"): \"#400\",\n",
    "    (\"Unnamed: 140_level_1\", \"Massa específica\"): \"Specific Gravity\",\n",
    "    (\"Tempo de pega\", \"Fim\"): \"Final setting time\",\n",
    "    (\"Tempo de pega\", \"Inicio\"): \"Initial setting time\",\n",
    "    (\"Resistência à compressão\", \"1 d\"): \"CS1\",\n",
    "    (\"Resistência à compressão\", \"3 d\"): \"CS3\",\n",
    "    (\"Resistência à compressão\", \"7 d\"): \"CS7\",\n",
    "    (\"Resistência à compressão\", \"28 d\"): \"CS28\",\n",
    "    \"Perda ao fogo\": \"Loss on Ignition\",\n",
    "    \"Resíduo insolúvel\": \"Insoluble Residue\",\n",
    "}"
   ]
  },
  {
   "cell_type": "markdown",
   "id": "8f4d1fce",
   "metadata": {},
   "source": [
    "### Defining a single variable to identify Cement Type"
   ]
  },
  {
   "cell_type": "code",
   "execution_count": 8,
   "id": "7967979c",
   "metadata": {},
   "outputs": [
    {
     "data": {
      "application/javascript": [
       "\n",
       "            setTimeout(function() {\n",
       "                var nbb_cell_id = 8;\n",
       "                var nbb_unformatted_code = \"df[\\\"Cement_Type\\\"] = (\\n    df[\\n        [\\n            (\\\"Tipo de cimento\\\", \\\"Unnamed: 6_level_2\\\"),\\n            (\\\"Classe de resist\\u00eancia\\\", \\\"Unnamed: 7_level_2\\\"),\\n            (\\\"Obs.\\\", \\\"Unnamed: 8_level_2\\\"),\\n        ]\\n    ]\\n    .fillna(\\\"\\\")\\n    .astype(str)\\n    .sum(axis=1)\\n)\";\n",
       "                var nbb_formatted_code = \"df[\\\"Cement_Type\\\"] = (\\n    df[\\n        [\\n            (\\\"Tipo de cimento\\\", \\\"Unnamed: 6_level_2\\\"),\\n            (\\\"Classe de resist\\u00eancia\\\", \\\"Unnamed: 7_level_2\\\"),\\n            (\\\"Obs.\\\", \\\"Unnamed: 8_level_2\\\"),\\n        ]\\n    ]\\n    .fillna(\\\"\\\")\\n    .astype(str)\\n    .sum(axis=1)\\n)\";\n",
       "                var nbb_cells = Jupyter.notebook.get_cells();\n",
       "                for (var i = 0; i < nbb_cells.length; ++i) {\n",
       "                    if (nbb_cells[i].input_prompt_number == nbb_cell_id) {\n",
       "                        if (nbb_cells[i].get_text() == nbb_unformatted_code) {\n",
       "                             nbb_cells[i].set_text(nbb_formatted_code);\n",
       "                        }\n",
       "                        break;\n",
       "                    }\n",
       "                }\n",
       "            }, 500);\n",
       "            "
      ],
      "text/plain": [
       "<IPython.core.display.Javascript object>"
      ]
     },
     "metadata": {},
     "output_type": "display_data"
    }
   ],
   "source": [
    "df[\"Cement_Type\"] = (\n",
    "    df[\n",
    "        [\n",
    "            (\"Tipo de cimento\", \"Unnamed: 6_level_2\"),\n",
    "            (\"Classe de resistência\", \"Unnamed: 7_level_2\"),\n",
    "            (\"Obs.\", \"Unnamed: 8_level_2\"),\n",
    "        ]\n",
    "    ]\n",
    "    .fillna(\"\")\n",
    "    .astype(str)\n",
    "    .sum(axis=1)\n",
    ")"
   ]
  },
  {
   "cell_type": "markdown",
   "id": "db6e3b54",
   "metadata": {},
   "source": [
    "### Replacing the current cement type categories for a short identifiable category"
   ]
  },
  {
   "cell_type": "code",
   "execution_count": 9,
   "id": "4065480b",
   "metadata": {},
   "outputs": [
    {
     "data": {
      "application/javascript": [
       "\n",
       "            setTimeout(function() {\n",
       "                var nbb_cell_id = 9;\n",
       "                var nbb_unformatted_code = \"# Preprocessing\\ndf[\\\"Cement_Type\\\"] = df[\\\"Cement_Type\\\"].replace(\\\"FIBROCMENTO\\\", \\\"Fibrocimento\\\")\\ndf[\\\"Cement_Type\\\"] = df[\\\"Cement_Type\\\"].replace(\\\"CP VARIEnsacado\\\", \\\"CP VARI\\\")\\ndf[\\\"Cement_Type\\\"] = df[\\\"Cement_Type\\\"].replace(\\\"CP VARIGranel\\\", \\\"CP VARI\\\")\\ndf[\\\"Cement_Type\\\"] = df[\\\"Cement_Type\\\"].replace(\\\"CP III40Ensacado\\\", \\\"CP III40\\\")\\ndf[\\\"Cement_Type\\\"] = df[\\\"Cement_Type\\\"].replace(\\\"CP III40Granel\\\", \\\"CP III40\\\")\\ndf[\\\"Cement_Type\\\"] = df[\\\"Cement_Type\\\"].replace(\\\"CP VARIRS\\\", \\\"CP VARI\\\")\";\n",
       "                var nbb_formatted_code = \"# Preprocessing\\ndf[\\\"Cement_Type\\\"] = df[\\\"Cement_Type\\\"].replace(\\\"FIBROCMENTO\\\", \\\"Fibrocimento\\\")\\ndf[\\\"Cement_Type\\\"] = df[\\\"Cement_Type\\\"].replace(\\\"CP VARIEnsacado\\\", \\\"CP VARI\\\")\\ndf[\\\"Cement_Type\\\"] = df[\\\"Cement_Type\\\"].replace(\\\"CP VARIGranel\\\", \\\"CP VARI\\\")\\ndf[\\\"Cement_Type\\\"] = df[\\\"Cement_Type\\\"].replace(\\\"CP III40Ensacado\\\", \\\"CP III40\\\")\\ndf[\\\"Cement_Type\\\"] = df[\\\"Cement_Type\\\"].replace(\\\"CP III40Granel\\\", \\\"CP III40\\\")\\ndf[\\\"Cement_Type\\\"] = df[\\\"Cement_Type\\\"].replace(\\\"CP VARIRS\\\", \\\"CP VARI\\\")\";\n",
       "                var nbb_cells = Jupyter.notebook.get_cells();\n",
       "                for (var i = 0; i < nbb_cells.length; ++i) {\n",
       "                    if (nbb_cells[i].input_prompt_number == nbb_cell_id) {\n",
       "                        if (nbb_cells[i].get_text() == nbb_unformatted_code) {\n",
       "                             nbb_cells[i].set_text(nbb_formatted_code);\n",
       "                        }\n",
       "                        break;\n",
       "                    }\n",
       "                }\n",
       "            }, 500);\n",
       "            "
      ],
      "text/plain": [
       "<IPython.core.display.Javascript object>"
      ]
     },
     "metadata": {},
     "output_type": "display_data"
    }
   ],
   "source": [
    "# Preprocessing\n",
    "df[\"Cement_Type\"] = df[\"Cement_Type\"].replace(\"FIBROCMENTO\", \"Fibrocimento\")\n",
    "df[\"Cement_Type\"] = df[\"Cement_Type\"].replace(\"CP VARIEnsacado\", \"CP VARI\")\n",
    "df[\"Cement_Type\"] = df[\"Cement_Type\"].replace(\"CP VARIGranel\", \"CP VARI\")\n",
    "df[\"Cement_Type\"] = df[\"Cement_Type\"].replace(\"CP III40Ensacado\", \"CP III40\")\n",
    "df[\"Cement_Type\"] = df[\"Cement_Type\"].replace(\"CP III40Granel\", \"CP III40\")\n",
    "df[\"Cement_Type\"] = df[\"Cement_Type\"].replace(\"CP VARIRS\", \"CP VARI\")"
   ]
  },
  {
   "cell_type": "markdown",
   "id": "c4db2f53",
   "metadata": {},
   "source": [
    "### Dropping and rename the columns defined above"
   ]
  },
  {
   "cell_type": "code",
   "execution_count": 10,
   "id": "f5352512",
   "metadata": {},
   "outputs": [
    {
     "data": {
      "application/javascript": [
       "\n",
       "            setTimeout(function() {\n",
       "                var nbb_cell_id = 10;\n",
       "                var nbb_unformatted_code = \"df = df.drop(COLUMNS_TO_DROP, axis=1).rename(COLUMNS_TO_RENAME, axis=1).copy()\\ndf = df.infer_objects()\";\n",
       "                var nbb_formatted_code = \"df = df.drop(COLUMNS_TO_DROP, axis=1).rename(COLUMNS_TO_RENAME, axis=1).copy()\\ndf = df.infer_objects()\";\n",
       "                var nbb_cells = Jupyter.notebook.get_cells();\n",
       "                for (var i = 0; i < nbb_cells.length; ++i) {\n",
       "                    if (nbb_cells[i].input_prompt_number == nbb_cell_id) {\n",
       "                        if (nbb_cells[i].get_text() == nbb_unformatted_code) {\n",
       "                             nbb_cells[i].set_text(nbb_formatted_code);\n",
       "                        }\n",
       "                        break;\n",
       "                    }\n",
       "                }\n",
       "            }, 500);\n",
       "            "
      ],
      "text/plain": [
       "<IPython.core.display.Javascript object>"
      ]
     },
     "metadata": {},
     "output_type": "display_data"
    }
   ],
   "source": [
    "df = df.drop(COLUMNS_TO_DROP, axis=1).rename(COLUMNS_TO_RENAME, axis=1).copy()\n",
    "df = df.infer_objects()"
   ]
  },
  {
   "cell_type": "markdown",
   "id": "f80123d4",
   "metadata": {},
   "source": [
    "### Clean and converting numeric columns to float"
   ]
  },
  {
   "cell_type": "code",
   "execution_count": 11,
   "id": "82e89c22",
   "metadata": {},
   "outputs": [
    {
     "data": {
      "application/javascript": [
       "\n",
       "            setTimeout(function() {\n",
       "                var nbb_cell_id = 11;\n",
       "                var nbb_unformatted_code = \"NUMERIC_COLUMNS = [\\n    \\\"CaO\\\",\\n    \\\"MgO\\\",\\n    \\\"Na2O\\\",\\n    \\\"Al2O3\\\",\\n    \\\"SiO2\\\",\\n    \\\"SO3\\\",\\n    \\\"K2O\\\",\\n    \\\"TiO2\\\",\\n    \\\"Fe2O3\\\",\\n    \\\"Loss on Ignition\\\",\\n    \\\"Insoluble Residue\\\",\\n    \\\"Blaine\\\",\\n    \\\"#200\\\",\\n    \\\"#325\\\",\\n    \\\"Specific Gravity\\\",\\n    \\\"Final setting time\\\",\\n    \\\"Initial setting time\\\",\\n    \\\"CS1\\\",\\n    \\\"CS3\\\",\\n    \\\"CS7\\\",\\n    \\\"CS28\\\",\\n]\\n\\ndf[NUMERIC_COLUMNS] = df[NUMERIC_COLUMNS].map(convert_to_float)\";\n",
       "                var nbb_formatted_code = \"NUMERIC_COLUMNS = [\\n    \\\"CaO\\\",\\n    \\\"MgO\\\",\\n    \\\"Na2O\\\",\\n    \\\"Al2O3\\\",\\n    \\\"SiO2\\\",\\n    \\\"SO3\\\",\\n    \\\"K2O\\\",\\n    \\\"TiO2\\\",\\n    \\\"Fe2O3\\\",\\n    \\\"Loss on Ignition\\\",\\n    \\\"Insoluble Residue\\\",\\n    \\\"Blaine\\\",\\n    \\\"#200\\\",\\n    \\\"#325\\\",\\n    \\\"Specific Gravity\\\",\\n    \\\"Final setting time\\\",\\n    \\\"Initial setting time\\\",\\n    \\\"CS1\\\",\\n    \\\"CS3\\\",\\n    \\\"CS7\\\",\\n    \\\"CS28\\\",\\n]\\n\\ndf[NUMERIC_COLUMNS] = df[NUMERIC_COLUMNS].map(convert_to_float)\";\n",
       "                var nbb_cells = Jupyter.notebook.get_cells();\n",
       "                for (var i = 0; i < nbb_cells.length; ++i) {\n",
       "                    if (nbb_cells[i].input_prompt_number == nbb_cell_id) {\n",
       "                        if (nbb_cells[i].get_text() == nbb_unformatted_code) {\n",
       "                             nbb_cells[i].set_text(nbb_formatted_code);\n",
       "                        }\n",
       "                        break;\n",
       "                    }\n",
       "                }\n",
       "            }, 500);\n",
       "            "
      ],
      "text/plain": [
       "<IPython.core.display.Javascript object>"
      ]
     },
     "metadata": {},
     "output_type": "display_data"
    }
   ],
   "source": [
    "NUMERIC_COLUMNS = [\n",
    "    \"CaO\",\n",
    "    \"MgO\",\n",
    "    \"Na2O\",\n",
    "    \"Al2O3\",\n",
    "    \"SiO2\",\n",
    "    \"SO3\",\n",
    "    \"K2O\",\n",
    "    \"TiO2\",\n",
    "    \"Fe2O3\",\n",
    "    \"Loss on Ignition\",\n",
    "    \"Insoluble Residue\",\n",
    "    \"Blaine\",\n",
    "    \"#200\",\n",
    "    \"#325\",\n",
    "    \"Specific Gravity\",\n",
    "    \"Final setting time\",\n",
    "    \"Initial setting time\",\n",
    "    \"CS1\",\n",
    "    \"CS3\",\n",
    "    \"CS7\",\n",
    "    \"CS28\",\n",
    "]\n",
    "\n",
    "df[NUMERIC_COLUMNS] = df[NUMERIC_COLUMNS].map(convert_to_float)"
   ]
  },
  {
   "cell_type": "markdown",
   "id": "bf7d95ad",
   "metadata": {},
   "source": [
    "### Converting Date columns to pandas datetime"
   ]
  },
  {
   "cell_type": "code",
   "execution_count": 12,
   "id": "ffd037bb",
   "metadata": {},
   "outputs": [
    {
     "data": {
      "application/javascript": [
       "\n",
       "            setTimeout(function() {\n",
       "                var nbb_cell_id = 12;\n",
       "                var nbb_unformatted_code = \"df[\\\"Date\\\"] = pd.to_datetime(df[\\\"Date\\\"])\";\n",
       "                var nbb_formatted_code = \"df[\\\"Date\\\"] = pd.to_datetime(df[\\\"Date\\\"])\";\n",
       "                var nbb_cells = Jupyter.notebook.get_cells();\n",
       "                for (var i = 0; i < nbb_cells.length; ++i) {\n",
       "                    if (nbb_cells[i].input_prompt_number == nbb_cell_id) {\n",
       "                        if (nbb_cells[i].get_text() == nbb_unformatted_code) {\n",
       "                             nbb_cells[i].set_text(nbb_formatted_code);\n",
       "                        }\n",
       "                        break;\n",
       "                    }\n",
       "                }\n",
       "            }, 500);\n",
       "            "
      ],
      "text/plain": [
       "<IPython.core.display.Javascript object>"
      ]
     },
     "metadata": {},
     "output_type": "display_data"
    }
   ],
   "source": [
    "df[\"Date\"] = pd.to_datetime(df[\"Date\"])"
   ]
  },
  {
   "cell_type": "markdown",
   "id": "6d244797",
   "metadata": {},
   "source": [
    "## Dropping missing features"
   ]
  },
  {
   "cell_type": "markdown",
   "id": "b485e205",
   "metadata": {},
   "source": [
    "### Drop rows completely missing"
   ]
  },
  {
   "cell_type": "code",
   "execution_count": 13,
   "id": "9c775e1d",
   "metadata": {},
   "outputs": [
    {
     "data": {
      "application/javascript": [
       "\n",
       "            setTimeout(function() {\n",
       "                var nbb_cell_id = 13;\n",
       "                var nbb_unformatted_code = \"index_to_keep = (\\n    df.drop([\\\"Plant\\\", \\\"Date\\\", \\\"Cement_Type\\\"], axis=1).dropna(axis=0, how=\\\"all\\\").index\\n)\\ndf = df.iloc[index_to_keep].reset_index(drop=True)\";\n",
       "                var nbb_formatted_code = \"index_to_keep = (\\n    df.drop([\\\"Plant\\\", \\\"Date\\\", \\\"Cement_Type\\\"], axis=1).dropna(axis=0, how=\\\"all\\\").index\\n)\\ndf = df.iloc[index_to_keep].reset_index(drop=True)\";\n",
       "                var nbb_cells = Jupyter.notebook.get_cells();\n",
       "                for (var i = 0; i < nbb_cells.length; ++i) {\n",
       "                    if (nbb_cells[i].input_prompt_number == nbb_cell_id) {\n",
       "                        if (nbb_cells[i].get_text() == nbb_unformatted_code) {\n",
       "                             nbb_cells[i].set_text(nbb_formatted_code);\n",
       "                        }\n",
       "                        break;\n",
       "                    }\n",
       "                }\n",
       "            }, 500);\n",
       "            "
      ],
      "text/plain": [
       "<IPython.core.display.Javascript object>"
      ]
     },
     "metadata": {},
     "output_type": "display_data"
    }
   ],
   "source": [
    "index_to_keep = (\n",
    "    df.drop([\"Plant\", \"Date\", \"Cement_Type\"], axis=1).dropna(axis=0, how=\"all\").index\n",
    ")\n",
    "df = df.iloc[index_to_keep].reset_index(drop=True)"
   ]
  },
  {
   "cell_type": "markdown",
   "id": "caf2bad6",
   "metadata": {},
   "source": [
    "### Removing features\n",
    " that will be fitted on this data.\n",
    "\n",
    "1. Removing features with features having 60% or more of missing values\n",
    "2. Removing features with zero variance\n",
    "3. Removing features with more than 70% of zeros"
   ]
  },
  {
   "cell_type": "markdown",
   "id": "99e5d979",
   "metadata": {},
   "source": [
    "<h3>Percentage of missing values:</h3>\n",
    "    \n",
    "    \n",
    "<table>\n",
    "    <th>Plant AV - Full Dataset:</th>\n",
    "    <th></th>\n",
    "    <tr>\n",
    "        <td>TiO2</td>\n",
    "        <td>100.00</td>\n",
    "    </tr>\n",
    "    <tr>\n",
    "        <td>Specific Gravity</td>\n",
    "        <td>98.60</td>\n",
    "    </tr>\n",
    "</table>"
   ]
  },
  {
   "cell_type": "code",
   "execution_count": 14,
   "id": "72d33ce9",
   "metadata": {},
   "outputs": [
    {
     "data": {
      "application/javascript": [
       "\n",
       "            setTimeout(function() {\n",
       "                var nbb_cell_id = 14;\n",
       "                var nbb_unformatted_code = \"FEATRUES_TO_DROP = [\\\"Specific Gravity\\\", \\\"TiO2\\\"]\\ndf = df.drop(labels=FEATRUES_TO_DROP, axis=1)\";\n",
       "                var nbb_formatted_code = \"FEATRUES_TO_DROP = [\\\"Specific Gravity\\\", \\\"TiO2\\\"]\\ndf = df.drop(labels=FEATRUES_TO_DROP, axis=1)\";\n",
       "                var nbb_cells = Jupyter.notebook.get_cells();\n",
       "                for (var i = 0; i < nbb_cells.length; ++i) {\n",
       "                    if (nbb_cells[i].input_prompt_number == nbb_cell_id) {\n",
       "                        if (nbb_cells[i].get_text() == nbb_unformatted_code) {\n",
       "                             nbb_cells[i].set_text(nbb_formatted_code);\n",
       "                        }\n",
       "                        break;\n",
       "                    }\n",
       "                }\n",
       "            }, 500);\n",
       "            "
      ],
      "text/plain": [
       "<IPython.core.display.Javascript object>"
      ]
     },
     "metadata": {},
     "output_type": "display_data"
    }
   ],
   "source": [
    "FEATRUES_TO_DROP = [\"Specific Gravity\", \"TiO2\"]\n",
    "df = df.drop(labels=FEATRUES_TO_DROP, axis=1)"
   ]
  },
  {
   "cell_type": "markdown",
   "id": "228d9889",
   "metadata": {},
   "source": [
    "### Drop rows where the target variable is null"
   ]
  },
  {
   "cell_type": "code",
   "execution_count": 15,
   "id": "dc6cbad6",
   "metadata": {},
   "outputs": [
    {
     "data": {
      "text/plain": [
       "(1724, 22)"
      ]
     },
     "execution_count": 15,
     "metadata": {},
     "output_type": "execute_result"
    },
    {
     "data": {
      "application/javascript": [
       "\n",
       "            setTimeout(function() {\n",
       "                var nbb_cell_id = 15;\n",
       "                var nbb_unformatted_code = \"df.shape\";\n",
       "                var nbb_formatted_code = \"df.shape\";\n",
       "                var nbb_cells = Jupyter.notebook.get_cells();\n",
       "                for (var i = 0; i < nbb_cells.length; ++i) {\n",
       "                    if (nbb_cells[i].input_prompt_number == nbb_cell_id) {\n",
       "                        if (nbb_cells[i].get_text() == nbb_unformatted_code) {\n",
       "                             nbb_cells[i].set_text(nbb_formatted_code);\n",
       "                        }\n",
       "                        break;\n",
       "                    }\n",
       "                }\n",
       "            }, 500);\n",
       "            "
      ],
      "text/plain": [
       "<IPython.core.display.Javascript object>"
      ]
     },
     "metadata": {},
     "output_type": "display_data"
    }
   ],
   "source": [
    "df.shape"
   ]
  },
  {
   "cell_type": "code",
   "execution_count": 16,
   "id": "914925b9",
   "metadata": {},
   "outputs": [
    {
     "data": {
      "application/javascript": [
       "\n",
       "            setTimeout(function() {\n",
       "                var nbb_cell_id = 16;\n",
       "                var nbb_unformatted_code = \"df = df[df[\\\"CS28\\\"].notna()].reset_index(drop=True)\";\n",
       "                var nbb_formatted_code = \"df = df[df[\\\"CS28\\\"].notna()].reset_index(drop=True)\";\n",
       "                var nbb_cells = Jupyter.notebook.get_cells();\n",
       "                for (var i = 0; i < nbb_cells.length; ++i) {\n",
       "                    if (nbb_cells[i].input_prompt_number == nbb_cell_id) {\n",
       "                        if (nbb_cells[i].get_text() == nbb_unformatted_code) {\n",
       "                             nbb_cells[i].set_text(nbb_formatted_code);\n",
       "                        }\n",
       "                        break;\n",
       "                    }\n",
       "                }\n",
       "            }, 500);\n",
       "            "
      ],
      "text/plain": [
       "<IPython.core.display.Javascript object>"
      ]
     },
     "metadata": {},
     "output_type": "display_data"
    }
   ],
   "source": [
    "df = df[df[\"CS28\"].notna()].reset_index(drop=True)"
   ]
  },
  {
   "cell_type": "code",
   "execution_count": 17,
   "id": "781ae023",
   "metadata": {},
   "outputs": [
    {
     "data": {
      "text/html": [
       "<style type=\"text/css\">\n",
       "#T_68ded_row0_col0 {\n",
       "  background-color: #67000d;\n",
       "  color: #f1f1f1;\n",
       "}\n",
       "#T_68ded_row1_col0 {\n",
       "  background-color: #fc8f6f;\n",
       "  color: #000000;\n",
       "}\n",
       "#T_68ded_row2_col0, #T_68ded_row3_col0, #T_68ded_row4_col0, #T_68ded_row5_col0, #T_68ded_row6_col0, #T_68ded_row7_col0, #T_68ded_row8_col0 {\n",
       "  background-color: #fdcab5;\n",
       "  color: #000000;\n",
       "}\n",
       "#T_68ded_row9_col0 {\n",
       "  background-color: #feeae1;\n",
       "  color: #000000;\n",
       "}\n",
       "#T_68ded_row10_col0, #T_68ded_row11_col0 {\n",
       "  background-color: #fff4ee;\n",
       "  color: #000000;\n",
       "}\n",
       "#T_68ded_row12_col0, #T_68ded_row13_col0, #T_68ded_row14_col0, #T_68ded_row15_col0, #T_68ded_row16_col0, #T_68ded_row17_col0, #T_68ded_row18_col0, #T_68ded_row19_col0, #T_68ded_row20_col0, #T_68ded_row21_col0 {\n",
       "  background-color: #fff5f0;\n",
       "  color: #000000;\n",
       "}\n",
       "</style>\n",
       "<table id=\"T_68ded\">\n",
       "  <thead>\n",
       "    <tr>\n",
       "      <th class=\"blank level0\" >&nbsp;</th>\n",
       "      <th id=\"T_68ded_level0_col0\" class=\"col_heading level0 col0\" >Missing (%)</th>\n",
       "    </tr>\n",
       "  </thead>\n",
       "  <tbody>\n",
       "    <tr>\n",
       "      <th id=\"T_68ded_level0_row0\" class=\"row_heading level0 row0\" >#325</th>\n",
       "      <td id=\"T_68ded_row0_col0\" class=\"data row0 col0\" >8.561020</td>\n",
       "    </tr>\n",
       "    <tr>\n",
       "      <th id=\"T_68ded_level0_row1\" class=\"row_heading level0 row1\" >Fe2O3</th>\n",
       "      <td id=\"T_68ded_row1_col0\" class=\"data row1 col0\" >3.278689</td>\n",
       "    </tr>\n",
       "    <tr>\n",
       "      <th id=\"T_68ded_level0_row2\" class=\"row_heading level0 row2\" >CaO</th>\n",
       "      <td id=\"T_68ded_row2_col0\" class=\"data row2 col0\" >1.730419</td>\n",
       "    </tr>\n",
       "    <tr>\n",
       "      <th id=\"T_68ded_level0_row3\" class=\"row_heading level0 row3\" >MgO</th>\n",
       "      <td id=\"T_68ded_row3_col0\" class=\"data row3 col0\" >1.730419</td>\n",
       "    </tr>\n",
       "    <tr>\n",
       "      <th id=\"T_68ded_level0_row4\" class=\"row_heading level0 row4\" >Na2O</th>\n",
       "      <td id=\"T_68ded_row4_col0\" class=\"data row4 col0\" >1.730419</td>\n",
       "    </tr>\n",
       "    <tr>\n",
       "      <th id=\"T_68ded_level0_row5\" class=\"row_heading level0 row5\" >Al2O3</th>\n",
       "      <td id=\"T_68ded_row5_col0\" class=\"data row5 col0\" >1.730419</td>\n",
       "    </tr>\n",
       "    <tr>\n",
       "      <th id=\"T_68ded_level0_row6\" class=\"row_heading level0 row6\" >SiO2</th>\n",
       "      <td id=\"T_68ded_row6_col0\" class=\"data row6 col0\" >1.730419</td>\n",
       "    </tr>\n",
       "    <tr>\n",
       "      <th id=\"T_68ded_level0_row7\" class=\"row_heading level0 row7\" >SO3</th>\n",
       "      <td id=\"T_68ded_row7_col0\" class=\"data row7 col0\" >1.730419</td>\n",
       "    </tr>\n",
       "    <tr>\n",
       "      <th id=\"T_68ded_level0_row8\" class=\"row_heading level0 row8\" >K2O</th>\n",
       "      <td id=\"T_68ded_row8_col0\" class=\"data row8 col0\" >1.730419</td>\n",
       "    </tr>\n",
       "    <tr>\n",
       "      <th id=\"T_68ded_level0_row9\" class=\"row_heading level0 row9\" >Loss on Ignition</th>\n",
       "      <td id=\"T_68ded_row9_col0\" class=\"data row9 col0\" >0.546448</td>\n",
       "    </tr>\n",
       "    <tr>\n",
       "      <th id=\"T_68ded_level0_row10\" class=\"row_heading level0 row10\" >Insoluble Residue</th>\n",
       "      <td id=\"T_68ded_row10_col0\" class=\"data row10 col0\" >0.091075</td>\n",
       "    </tr>\n",
       "    <tr>\n",
       "      <th id=\"T_68ded_level0_row11\" class=\"row_heading level0 row11\" >CS3</th>\n",
       "      <td id=\"T_68ded_row11_col0\" class=\"data row11 col0\" >0.091075</td>\n",
       "    </tr>\n",
       "    <tr>\n",
       "      <th id=\"T_68ded_level0_row12\" class=\"row_heading level0 row12\" >Final setting time</th>\n",
       "      <td id=\"T_68ded_row12_col0\" class=\"data row12 col0\" >0.000000</td>\n",
       "    </tr>\n",
       "    <tr>\n",
       "      <th id=\"T_68ded_level0_row13\" class=\"row_heading level0 row13\" >CS28</th>\n",
       "      <td id=\"T_68ded_row13_col0\" class=\"data row13 col0\" >0.000000</td>\n",
       "    </tr>\n",
       "    <tr>\n",
       "      <th id=\"T_68ded_level0_row14\" class=\"row_heading level0 row14\" >CS7</th>\n",
       "      <td id=\"T_68ded_row14_col0\" class=\"data row14 col0\" >0.000000</td>\n",
       "    </tr>\n",
       "    <tr>\n",
       "      <th id=\"T_68ded_level0_row15\" class=\"row_heading level0 row15\" >CS1</th>\n",
       "      <td id=\"T_68ded_row15_col0\" class=\"data row15 col0\" >0.000000</td>\n",
       "    </tr>\n",
       "    <tr>\n",
       "      <th id=\"T_68ded_level0_row16\" class=\"row_heading level0 row16\" >Plant</th>\n",
       "      <td id=\"T_68ded_row16_col0\" class=\"data row16 col0\" >0.000000</td>\n",
       "    </tr>\n",
       "    <tr>\n",
       "      <th id=\"T_68ded_level0_row17\" class=\"row_heading level0 row17\" >Initial setting time</th>\n",
       "      <td id=\"T_68ded_row17_col0\" class=\"data row17 col0\" >0.000000</td>\n",
       "    </tr>\n",
       "    <tr>\n",
       "      <th id=\"T_68ded_level0_row18\" class=\"row_heading level0 row18\" >#200</th>\n",
       "      <td id=\"T_68ded_row18_col0\" class=\"data row18 col0\" >0.000000</td>\n",
       "    </tr>\n",
       "    <tr>\n",
       "      <th id=\"T_68ded_level0_row19\" class=\"row_heading level0 row19\" >Blaine</th>\n",
       "      <td id=\"T_68ded_row19_col0\" class=\"data row19 col0\" >0.000000</td>\n",
       "    </tr>\n",
       "    <tr>\n",
       "      <th id=\"T_68ded_level0_row20\" class=\"row_heading level0 row20\" >Date</th>\n",
       "      <td id=\"T_68ded_row20_col0\" class=\"data row20 col0\" >0.000000</td>\n",
       "    </tr>\n",
       "    <tr>\n",
       "      <th id=\"T_68ded_level0_row21\" class=\"row_heading level0 row21\" >Cement_Type</th>\n",
       "      <td id=\"T_68ded_row21_col0\" class=\"data row21 col0\" >0.000000</td>\n",
       "    </tr>\n",
       "  </tbody>\n",
       "</table>\n"
      ],
      "text/plain": [
       "<pandas.io.formats.style.Styler at 0x735328776aa0>"
      ]
     },
     "execution_count": 17,
     "metadata": {},
     "output_type": "execute_result"
    },
    {
     "data": {
      "application/javascript": [
       "\n",
       "            setTimeout(function() {\n",
       "                var nbb_cell_id = 17;\n",
       "                var nbb_unformatted_code = \"(df.isna().sum() / df.shape[0] * 100).sort_values(ascending=False).to_frame(\\n    name=\\\"Missing (%)\\\"\\n).style.background_gradient(cmap=\\\"Reds\\\")\";\n",
       "                var nbb_formatted_code = \"(df.isna().sum() / df.shape[0] * 100).sort_values(ascending=False).to_frame(\\n    name=\\\"Missing (%)\\\"\\n).style.background_gradient(cmap=\\\"Reds\\\")\";\n",
       "                var nbb_cells = Jupyter.notebook.get_cells();\n",
       "                for (var i = 0; i < nbb_cells.length; ++i) {\n",
       "                    if (nbb_cells[i].input_prompt_number == nbb_cell_id) {\n",
       "                        if (nbb_cells[i].get_text() == nbb_unformatted_code) {\n",
       "                             nbb_cells[i].set_text(nbb_formatted_code);\n",
       "                        }\n",
       "                        break;\n",
       "                    }\n",
       "                }\n",
       "            }, 500);\n",
       "            "
      ],
      "text/plain": [
       "<IPython.core.display.Javascript object>"
      ]
     },
     "metadata": {},
     "output_type": "display_data"
    }
   ],
   "source": [
    "(df.isna().sum() / df.shape[0] * 100).sort_values(ascending=False).to_frame(\n",
    "    name=\"Missing (%)\"\n",
    ").style.background_gradient(cmap=\"Reds\")"
   ]
  },
  {
   "cell_type": "code",
   "execution_count": 18,
   "id": "8ded0f1d",
   "metadata": {},
   "outputs": [
    {
     "data": {
      "text/plain": [
       "(1098, 22)"
      ]
     },
     "execution_count": 18,
     "metadata": {},
     "output_type": "execute_result"
    },
    {
     "data": {
      "application/javascript": [
       "\n",
       "            setTimeout(function() {\n",
       "                var nbb_cell_id = 18;\n",
       "                var nbb_unformatted_code = \"df.shape\";\n",
       "                var nbb_formatted_code = \"df.shape\";\n",
       "                var nbb_cells = Jupyter.notebook.get_cells();\n",
       "                for (var i = 0; i < nbb_cells.length; ++i) {\n",
       "                    if (nbb_cells[i].input_prompt_number == nbb_cell_id) {\n",
       "                        if (nbb_cells[i].get_text() == nbb_unformatted_code) {\n",
       "                             nbb_cells[i].set_text(nbb_formatted_code);\n",
       "                        }\n",
       "                        break;\n",
       "                    }\n",
       "                }\n",
       "            }, 500);\n",
       "            "
      ],
      "text/plain": [
       "<IPython.core.display.Javascript object>"
      ]
     },
     "metadata": {},
     "output_type": "display_data"
    }
   ],
   "source": [
    "df.shape"
   ]
  },
  {
   "cell_type": "code",
   "execution_count": 19,
   "id": "bede2fba",
   "metadata": {},
   "outputs": [
    {
     "data": {
      "application/javascript": [
       "\n",
       "            setTimeout(function() {\n",
       "                var nbb_cell_id = 19;\n",
       "                var nbb_unformatted_code = \"# df[df.drop([\\\"Plant\\\", \\\"Date\\\", \\\"Cement_Type\\\"], axis=1).isna().all(axis=1)]\";\n",
       "                var nbb_formatted_code = \"# df[df.drop([\\\"Plant\\\", \\\"Date\\\", \\\"Cement_Type\\\"], axis=1).isna().all(axis=1)]\";\n",
       "                var nbb_cells = Jupyter.notebook.get_cells();\n",
       "                for (var i = 0; i < nbb_cells.length; ++i) {\n",
       "                    if (nbb_cells[i].input_prompt_number == nbb_cell_id) {\n",
       "                        if (nbb_cells[i].get_text() == nbb_unformatted_code) {\n",
       "                             nbb_cells[i].set_text(nbb_formatted_code);\n",
       "                        }\n",
       "                        break;\n",
       "                    }\n",
       "                }\n",
       "            }, 500);\n",
       "            "
      ],
      "text/plain": [
       "<IPython.core.display.Javascript object>"
      ]
     },
     "metadata": {},
     "output_type": "display_data"
    }
   ],
   "source": [
    "# df[df.drop([\"Plant\", \"Date\", \"Cement_Type\"], axis=1).isna().all(axis=1)]"
   ]
  },
  {
   "cell_type": "code",
   "execution_count": 20,
   "id": "c63818c5",
   "metadata": {},
   "outputs": [
    {
     "data": {
      "application/javascript": [
       "\n",
       "            setTimeout(function() {\n",
       "                var nbb_cell_id = 20;\n",
       "                var nbb_unformatted_code = \"# df = df.dropna()\";\n",
       "                var nbb_formatted_code = \"# df = df.dropna()\";\n",
       "                var nbb_cells = Jupyter.notebook.get_cells();\n",
       "                for (var i = 0; i < nbb_cells.length; ++i) {\n",
       "                    if (nbb_cells[i].input_prompt_number == nbb_cell_id) {\n",
       "                        if (nbb_cells[i].get_text() == nbb_unformatted_code) {\n",
       "                             nbb_cells[i].set_text(nbb_formatted_code);\n",
       "                        }\n",
       "                        break;\n",
       "                    }\n",
       "                }\n",
       "            }, 500);\n",
       "            "
      ],
      "text/plain": [
       "<IPython.core.display.Javascript object>"
      ]
     },
     "metadata": {},
     "output_type": "display_data"
    }
   ],
   "source": [
    "# df = df.dropna()"
   ]
  },
  {
   "cell_type": "code",
   "execution_count": 21,
   "id": "39dd482e",
   "metadata": {},
   "outputs": [
    {
     "data": {
      "application/javascript": [
       "\n",
       "            setTimeout(function() {\n",
       "                var nbb_cell_id = 21;\n",
       "                var nbb_unformatted_code = \"# df.shape\";\n",
       "                var nbb_formatted_code = \"# df.shape\";\n",
       "                var nbb_cells = Jupyter.notebook.get_cells();\n",
       "                for (var i = 0; i < nbb_cells.length; ++i) {\n",
       "                    if (nbb_cells[i].input_prompt_number == nbb_cell_id) {\n",
       "                        if (nbb_cells[i].get_text() == nbb_unformatted_code) {\n",
       "                             nbb_cells[i].set_text(nbb_formatted_code);\n",
       "                        }\n",
       "                        break;\n",
       "                    }\n",
       "                }\n",
       "            }, 500);\n",
       "            "
      ],
      "text/plain": [
       "<IPython.core.display.Javascript object>"
      ]
     },
     "metadata": {},
     "output_type": "display_data"
    }
   ],
   "source": [
    "# df.shape"
   ]
  },
  {
   "cell_type": "code",
   "execution_count": 22,
   "id": "906788c5",
   "metadata": {},
   "outputs": [
    {
     "data": {
      "application/javascript": [
       "\n",
       "            setTimeout(function() {\n",
       "                var nbb_cell_id = 22;\n",
       "                var nbb_unformatted_code = \"# (df.isna().sum() / df.shape[0] * 100).sort_values(ascending=False).to_frame(\\n#     name=\\\"Missing (%)\\\"\\n# ).style.background_gradient(cmap=\\\"Reds\\\")\";\n",
       "                var nbb_formatted_code = \"# (df.isna().sum() / df.shape[0] * 100).sort_values(ascending=False).to_frame(\\n#     name=\\\"Missing (%)\\\"\\n# ).style.background_gradient(cmap=\\\"Reds\\\")\";\n",
       "                var nbb_cells = Jupyter.notebook.get_cells();\n",
       "                for (var i = 0; i < nbb_cells.length; ++i) {\n",
       "                    if (nbb_cells[i].input_prompt_number == nbb_cell_id) {\n",
       "                        if (nbb_cells[i].get_text() == nbb_unformatted_code) {\n",
       "                             nbb_cells[i].set_text(nbb_formatted_code);\n",
       "                        }\n",
       "                        break;\n",
       "                    }\n",
       "                }\n",
       "            }, 500);\n",
       "            "
      ],
      "text/plain": [
       "<IPython.core.display.Javascript object>"
      ]
     },
     "metadata": {},
     "output_type": "display_data"
    }
   ],
   "source": [
    "# (df.isna().sum() / df.shape[0] * 100).sort_values(ascending=False).to_frame(\n",
    "#     name=\"Missing (%)\"\n",
    "# ).style.background_gradient(cmap=\"Reds\")"
   ]
  },
  {
   "cell_type": "code",
   "execution_count": 23,
   "id": "c73c3826",
   "metadata": {},
   "outputs": [
    {
     "data": {
      "text/html": [
       "<div>\n",
       "<style scoped>\n",
       "    .dataframe tbody tr th:only-of-type {\n",
       "        vertical-align: middle;\n",
       "    }\n",
       "\n",
       "    .dataframe tbody tr th {\n",
       "        vertical-align: top;\n",
       "    }\n",
       "\n",
       "    .dataframe thead th {\n",
       "        text-align: right;\n",
       "    }\n",
       "</style>\n",
       "<table border=\"1\" class=\"dataframe\">\n",
       "  <thead>\n",
       "    <tr style=\"text-align: right;\">\n",
       "      <th></th>\n",
       "      <th>count</th>\n",
       "      <th>mean</th>\n",
       "      <th>min</th>\n",
       "      <th>25%</th>\n",
       "      <th>50%</th>\n",
       "      <th>75%</th>\n",
       "      <th>max</th>\n",
       "      <th>std</th>\n",
       "    </tr>\n",
       "  </thead>\n",
       "  <tbody>\n",
       "    <tr>\n",
       "      <th>Date</th>\n",
       "      <td>1098</td>\n",
       "      <td>2022-01-06 00:43:58.251366144</td>\n",
       "      <td>2020-09-01 13:27:00</td>\n",
       "      <td>2021-06-07 00:00:00</td>\n",
       "      <td>2022-01-14 00:00:00</td>\n",
       "      <td>2022-08-17 00:00:00</td>\n",
       "      <td>2023-03-27 00:00:00</td>\n",
       "      <td>NaN</td>\n",
       "    </tr>\n",
       "    <tr>\n",
       "      <th>CaO</th>\n",
       "      <td>1079.0</td>\n",
       "      <td>55.236942</td>\n",
       "      <td>44.4</td>\n",
       "      <td>50.095</td>\n",
       "      <td>52.87</td>\n",
       "      <td>61.41</td>\n",
       "      <td>65.03</td>\n",
       "      <td>5.770569</td>\n",
       "    </tr>\n",
       "    <tr>\n",
       "      <th>MgO</th>\n",
       "      <td>1079.0</td>\n",
       "      <td>3.147025</td>\n",
       "      <td>1.56</td>\n",
       "      <td>2.74</td>\n",
       "      <td>3.12</td>\n",
       "      <td>3.76</td>\n",
       "      <td>4.78</td>\n",
       "      <td>0.756582</td>\n",
       "    </tr>\n",
       "    <tr>\n",
       "      <th>Na2O</th>\n",
       "      <td>1079.0</td>\n",
       "      <td>0.19861</td>\n",
       "      <td>0.0</td>\n",
       "      <td>0.11</td>\n",
       "      <td>0.15</td>\n",
       "      <td>0.25</td>\n",
       "      <td>1.05</td>\n",
       "      <td>0.114688</td>\n",
       "    </tr>\n",
       "    <tr>\n",
       "      <th>Al2O3</th>\n",
       "      <td>1079.0</td>\n",
       "      <td>6.276599</td>\n",
       "      <td>3.8</td>\n",
       "      <td>4.83</td>\n",
       "      <td>6.3</td>\n",
       "      <td>7.67</td>\n",
       "      <td>9.43</td>\n",
       "      <td>1.483419</td>\n",
       "    </tr>\n",
       "    <tr>\n",
       "      <th>SiO2</th>\n",
       "      <td>1079.0</td>\n",
       "      <td>24.890139</td>\n",
       "      <td>19.03</td>\n",
       "      <td>20.375</td>\n",
       "      <td>25.87</td>\n",
       "      <td>28.685</td>\n",
       "      <td>33.68</td>\n",
       "      <td>4.202556</td>\n",
       "    </tr>\n",
       "    <tr>\n",
       "      <th>SO3</th>\n",
       "      <td>1079.0</td>\n",
       "      <td>2.583207</td>\n",
       "      <td>0.58</td>\n",
       "      <td>2.05</td>\n",
       "      <td>2.33</td>\n",
       "      <td>3.225</td>\n",
       "      <td>4.32</td>\n",
       "      <td>0.656147</td>\n",
       "    </tr>\n",
       "    <tr>\n",
       "      <th>K2O</th>\n",
       "      <td>1079.0</td>\n",
       "      <td>1.00354</td>\n",
       "      <td>0.09</td>\n",
       "      <td>0.4</td>\n",
       "      <td>0.44</td>\n",
       "      <td>0.55</td>\n",
       "      <td>4.46</td>\n",
       "      <td>1.148358</td>\n",
       "    </tr>\n",
       "    <tr>\n",
       "      <th>Fe2O3</th>\n",
       "      <td>1062.0</td>\n",
       "      <td>2.37774</td>\n",
       "      <td>1.27</td>\n",
       "      <td>1.94</td>\n",
       "      <td>2.215</td>\n",
       "      <td>2.85</td>\n",
       "      <td>4.76</td>\n",
       "      <td>0.559591</td>\n",
       "    </tr>\n",
       "    <tr>\n",
       "      <th>Loss on Ignition</th>\n",
       "      <td>1092.0</td>\n",
       "      <td>3.954332</td>\n",
       "      <td>1.36</td>\n",
       "      <td>3.06</td>\n",
       "      <td>3.7</td>\n",
       "      <td>4.61</td>\n",
       "      <td>7.5</td>\n",
       "      <td>1.073501</td>\n",
       "    </tr>\n",
       "    <tr>\n",
       "      <th>Insoluble Residue</th>\n",
       "      <td>1097.0</td>\n",
       "      <td>2.977165</td>\n",
       "      <td>0.94</td>\n",
       "      <td>2.2</td>\n",
       "      <td>2.91</td>\n",
       "      <td>3.62</td>\n",
       "      <td>5.79</td>\n",
       "      <td>0.948078</td>\n",
       "    </tr>\n",
       "    <tr>\n",
       "      <th>Blaine</th>\n",
       "      <td>1098.0</td>\n",
       "      <td>4558.515483</td>\n",
       "      <td>2840.0</td>\n",
       "      <td>4187.75</td>\n",
       "      <td>4396.5</td>\n",
       "      <td>5000.0</td>\n",
       "      <td>5700.0</td>\n",
       "      <td>480.686686</td>\n",
       "    </tr>\n",
       "    <tr>\n",
       "      <th>#200</th>\n",
       "      <td>1098.0</td>\n",
       "      <td>0.234973</td>\n",
       "      <td>0.0</td>\n",
       "      <td>0.1</td>\n",
       "      <td>0.2</td>\n",
       "      <td>0.3</td>\n",
       "      <td>1.9</td>\n",
       "      <td>0.277666</td>\n",
       "    </tr>\n",
       "    <tr>\n",
       "      <th>#325</th>\n",
       "      <td>1004.0</td>\n",
       "      <td>2.141345</td>\n",
       "      <td>0.0</td>\n",
       "      <td>0.5</td>\n",
       "      <td>1.8</td>\n",
       "      <td>3.4</td>\n",
       "      <td>9.9</td>\n",
       "      <td>1.812761</td>\n",
       "    </tr>\n",
       "    <tr>\n",
       "      <th>Initial setting time</th>\n",
       "      <td>1098.0</td>\n",
       "      <td>166.28051</td>\n",
       "      <td>28.0</td>\n",
       "      <td>160.0</td>\n",
       "      <td>178.0</td>\n",
       "      <td>190.0</td>\n",
       "      <td>220.0</td>\n",
       "      <td>33.981705</td>\n",
       "    </tr>\n",
       "    <tr>\n",
       "      <th>Final setting time</th>\n",
       "      <td>1098.0</td>\n",
       "      <td>216.057377</td>\n",
       "      <td>90.0</td>\n",
       "      <td>210.0</td>\n",
       "      <td>230.0</td>\n",
       "      <td>245.0</td>\n",
       "      <td>295.0</td>\n",
       "      <td>40.81956</td>\n",
       "    </tr>\n",
       "    <tr>\n",
       "      <th>CS1</th>\n",
       "      <td>1098.0</td>\n",
       "      <td>14.181239</td>\n",
       "      <td>3.2</td>\n",
       "      <td>7.4</td>\n",
       "      <td>10.0</td>\n",
       "      <td>21.175</td>\n",
       "      <td>28.6</td>\n",
       "      <td>7.729639</td>\n",
       "    </tr>\n",
       "    <tr>\n",
       "      <th>CS3</th>\n",
       "      <td>1097.0</td>\n",
       "      <td>24.944029</td>\n",
       "      <td>10.3</td>\n",
       "      <td>17.9</td>\n",
       "      <td>22.1</td>\n",
       "      <td>33.2</td>\n",
       "      <td>40.5</td>\n",
       "      <td>8.301342</td>\n",
       "    </tr>\n",
       "    <tr>\n",
       "      <th>CS7</th>\n",
       "      <td>1098.0</td>\n",
       "      <td>33.381239</td>\n",
       "      <td>20.2</td>\n",
       "      <td>27.9</td>\n",
       "      <td>34.4</td>\n",
       "      <td>39.1</td>\n",
       "      <td>45.3</td>\n",
       "      <td>6.50381</td>\n",
       "    </tr>\n",
       "    <tr>\n",
       "      <th>CS28</th>\n",
       "      <td>1098.0</td>\n",
       "      <td>43.473406</td>\n",
       "      <td>32.0</td>\n",
       "      <td>40.5</td>\n",
       "      <td>44.8</td>\n",
       "      <td>47.0</td>\n",
       "      <td>53.2</td>\n",
       "      <td>4.806707</td>\n",
       "    </tr>\n",
       "  </tbody>\n",
       "</table>\n",
       "</div>"
      ],
      "text/plain": [
       "                       count                           mean  \\\n",
       "Date                    1098  2022-01-06 00:43:58.251366144   \n",
       "CaO                   1079.0                      55.236942   \n",
       "MgO                   1079.0                       3.147025   \n",
       "Na2O                  1079.0                        0.19861   \n",
       "Al2O3                 1079.0                       6.276599   \n",
       "SiO2                  1079.0                      24.890139   \n",
       "SO3                   1079.0                       2.583207   \n",
       "K2O                   1079.0                        1.00354   \n",
       "Fe2O3                 1062.0                        2.37774   \n",
       "Loss on Ignition      1092.0                       3.954332   \n",
       "Insoluble Residue     1097.0                       2.977165   \n",
       "Blaine                1098.0                    4558.515483   \n",
       "#200                  1098.0                       0.234973   \n",
       "#325                  1004.0                       2.141345   \n",
       "Initial setting time  1098.0                      166.28051   \n",
       "Final setting time    1098.0                     216.057377   \n",
       "CS1                   1098.0                      14.181239   \n",
       "CS3                   1097.0                      24.944029   \n",
       "CS7                   1098.0                      33.381239   \n",
       "CS28                  1098.0                      43.473406   \n",
       "\n",
       "                                      min                  25%  \\\n",
       "Date                  2020-09-01 13:27:00  2021-06-07 00:00:00   \n",
       "CaO                                  44.4               50.095   \n",
       "MgO                                  1.56                 2.74   \n",
       "Na2O                                  0.0                 0.11   \n",
       "Al2O3                                 3.8                 4.83   \n",
       "SiO2                                19.03               20.375   \n",
       "SO3                                  0.58                 2.05   \n",
       "K2O                                  0.09                  0.4   \n",
       "Fe2O3                                1.27                 1.94   \n",
       "Loss on Ignition                     1.36                 3.06   \n",
       "Insoluble Residue                    0.94                  2.2   \n",
       "Blaine                             2840.0              4187.75   \n",
       "#200                                  0.0                  0.1   \n",
       "#325                                  0.0                  0.5   \n",
       "Initial setting time                 28.0                160.0   \n",
       "Final setting time                   90.0                210.0   \n",
       "CS1                                   3.2                  7.4   \n",
       "CS3                                  10.3                 17.9   \n",
       "CS7                                  20.2                 27.9   \n",
       "CS28                                 32.0                 40.5   \n",
       "\n",
       "                                      50%                  75%  \\\n",
       "Date                  2022-01-14 00:00:00  2022-08-17 00:00:00   \n",
       "CaO                                 52.87                61.41   \n",
       "MgO                                  3.12                 3.76   \n",
       "Na2O                                 0.15                 0.25   \n",
       "Al2O3                                 6.3                 7.67   \n",
       "SiO2                                25.87               28.685   \n",
       "SO3                                  2.33                3.225   \n",
       "K2O                                  0.44                 0.55   \n",
       "Fe2O3                               2.215                 2.85   \n",
       "Loss on Ignition                      3.7                 4.61   \n",
       "Insoluble Residue                    2.91                 3.62   \n",
       "Blaine                             4396.5               5000.0   \n",
       "#200                                  0.2                  0.3   \n",
       "#325                                  1.8                  3.4   \n",
       "Initial setting time                178.0                190.0   \n",
       "Final setting time                  230.0                245.0   \n",
       "CS1                                  10.0               21.175   \n",
       "CS3                                  22.1                 33.2   \n",
       "CS7                                  34.4                 39.1   \n",
       "CS28                                 44.8                 47.0   \n",
       "\n",
       "                                      max         std  \n",
       "Date                  2023-03-27 00:00:00         NaN  \n",
       "CaO                                 65.03    5.770569  \n",
       "MgO                                  4.78    0.756582  \n",
       "Na2O                                 1.05    0.114688  \n",
       "Al2O3                                9.43    1.483419  \n",
       "SiO2                                33.68    4.202556  \n",
       "SO3                                  4.32    0.656147  \n",
       "K2O                                  4.46    1.148358  \n",
       "Fe2O3                                4.76    0.559591  \n",
       "Loss on Ignition                      7.5    1.073501  \n",
       "Insoluble Residue                    5.79    0.948078  \n",
       "Blaine                             5700.0  480.686686  \n",
       "#200                                  1.9    0.277666  \n",
       "#325                                  9.9    1.812761  \n",
       "Initial setting time                220.0   33.981705  \n",
       "Final setting time                  295.0    40.81956  \n",
       "CS1                                  28.6    7.729639  \n",
       "CS3                                  40.5    8.301342  \n",
       "CS7                                  45.3     6.50381  \n",
       "CS28                                 53.2    4.806707  "
      ]
     },
     "execution_count": 23,
     "metadata": {},
     "output_type": "execute_result"
    },
    {
     "data": {
      "application/javascript": [
       "\n",
       "            setTimeout(function() {\n",
       "                var nbb_cell_id = 23;\n",
       "                var nbb_unformatted_code = \"df.describe().T\";\n",
       "                var nbb_formatted_code = \"df.describe().T\";\n",
       "                var nbb_cells = Jupyter.notebook.get_cells();\n",
       "                for (var i = 0; i < nbb_cells.length; ++i) {\n",
       "                    if (nbb_cells[i].input_prompt_number == nbb_cell_id) {\n",
       "                        if (nbb_cells[i].get_text() == nbb_unformatted_code) {\n",
       "                             nbb_cells[i].set_text(nbb_formatted_code);\n",
       "                        }\n",
       "                        break;\n",
       "                    }\n",
       "                }\n",
       "            }, 500);\n",
       "            "
      ],
      "text/plain": [
       "<IPython.core.display.Javascript object>"
      ]
     },
     "metadata": {},
     "output_type": "display_data"
    }
   ],
   "source": [
    "df.describe().T"
   ]
  },
  {
   "cell_type": "code",
   "execution_count": 24,
   "id": "1fa84250",
   "metadata": {},
   "outputs": [
    {
     "data": {
      "text/html": [
       "<div>\n",
       "<style scoped>\n",
       "    .dataframe tbody tr th:only-of-type {\n",
       "        vertical-align: middle;\n",
       "    }\n",
       "\n",
       "    .dataframe tbody tr th {\n",
       "        vertical-align: top;\n",
       "    }\n",
       "\n",
       "    .dataframe thead th {\n",
       "        text-align: right;\n",
       "    }\n",
       "</style>\n",
       "<table border=\"1\" class=\"dataframe\">\n",
       "  <thead>\n",
       "    <tr style=\"text-align: right;\">\n",
       "      <th></th>\n",
       "      <th>count</th>\n",
       "      <th>unique</th>\n",
       "      <th>top</th>\n",
       "      <th>freq</th>\n",
       "      <th>mean</th>\n",
       "      <th>min</th>\n",
       "      <th>25%</th>\n",
       "      <th>50%</th>\n",
       "      <th>75%</th>\n",
       "      <th>max</th>\n",
       "    </tr>\n",
       "  </thead>\n",
       "  <tbody>\n",
       "    <tr>\n",
       "      <th>Plant</th>\n",
       "      <td>1098</td>\n",
       "      <td>1</td>\n",
       "      <td>Y</td>\n",
       "      <td>1098</td>\n",
       "      <td>NaN</td>\n",
       "      <td>NaN</td>\n",
       "      <td>NaN</td>\n",
       "      <td>NaN</td>\n",
       "      <td>NaN</td>\n",
       "      <td>NaN</td>\n",
       "    </tr>\n",
       "    <tr>\n",
       "      <th>Date</th>\n",
       "      <td>1098</td>\n",
       "      <td>NaN</td>\n",
       "      <td>NaN</td>\n",
       "      <td>NaN</td>\n",
       "      <td>2022-01-06 00:43:58.251366144</td>\n",
       "      <td>2020-09-01 13:27:00</td>\n",
       "      <td>2021-06-07 00:00:00</td>\n",
       "      <td>2022-01-14 00:00:00</td>\n",
       "      <td>2022-08-17 00:00:00</td>\n",
       "      <td>2023-03-27 00:00:00</td>\n",
       "    </tr>\n",
       "    <tr>\n",
       "      <th>Cement_Type</th>\n",
       "      <td>1098</td>\n",
       "      <td>5</td>\n",
       "      <td>CP III40</td>\n",
       "      <td>352</td>\n",
       "      <td>NaN</td>\n",
       "      <td>NaN</td>\n",
       "      <td>NaN</td>\n",
       "      <td>NaN</td>\n",
       "      <td>NaN</td>\n",
       "      <td>NaN</td>\n",
       "    </tr>\n",
       "  </tbody>\n",
       "</table>\n",
       "</div>"
      ],
      "text/plain": [
       "            count unique       top  freq                           mean  \\\n",
       "Plant        1098      1         Y  1098                            NaN   \n",
       "Date         1098    NaN       NaN   NaN  2022-01-06 00:43:58.251366144   \n",
       "Cement_Type  1098      5  CP III40   352                            NaN   \n",
       "\n",
       "                             min                  25%                  50%  \\\n",
       "Plant                        NaN                  NaN                  NaN   \n",
       "Date         2020-09-01 13:27:00  2021-06-07 00:00:00  2022-01-14 00:00:00   \n",
       "Cement_Type                  NaN                  NaN                  NaN   \n",
       "\n",
       "                             75%                  max  \n",
       "Plant                        NaN                  NaN  \n",
       "Date         2022-08-17 00:00:00  2023-03-27 00:00:00  \n",
       "Cement_Type                  NaN                  NaN  "
      ]
     },
     "execution_count": 24,
     "metadata": {},
     "output_type": "execute_result"
    },
    {
     "data": {
      "application/javascript": [
       "\n",
       "            setTimeout(function() {\n",
       "                var nbb_cell_id = 24;\n",
       "                var nbb_unformatted_code = \"df.describe(exclude=\\\"number\\\").T\";\n",
       "                var nbb_formatted_code = \"df.describe(exclude=\\\"number\\\").T\";\n",
       "                var nbb_cells = Jupyter.notebook.get_cells();\n",
       "                for (var i = 0; i < nbb_cells.length; ++i) {\n",
       "                    if (nbb_cells[i].input_prompt_number == nbb_cell_id) {\n",
       "                        if (nbb_cells[i].get_text() == nbb_unformatted_code) {\n",
       "                             nbb_cells[i].set_text(nbb_formatted_code);\n",
       "                        }\n",
       "                        break;\n",
       "                    }\n",
       "                }\n",
       "            }, 500);\n",
       "            "
      ],
      "text/plain": [
       "<IPython.core.display.Javascript object>"
      ]
     },
     "metadata": {},
     "output_type": "display_data"
    }
   ],
   "source": [
    "df.describe(exclude=\"number\").T"
   ]
  },
  {
   "cell_type": "markdown",
   "id": "3e8320d1",
   "metadata": {},
   "source": [
    "### Dropping variable with Plant identification"
   ]
  },
  {
   "cell_type": "code",
   "execution_count": 25,
   "id": "46c98404",
   "metadata": {},
   "outputs": [
    {
     "data": {
      "application/javascript": [
       "\n",
       "            setTimeout(function() {\n",
       "                var nbb_cell_id = 25;\n",
       "                var nbb_unformatted_code = \"df = df.drop(\\\"Plant\\\", axis=1)\";\n",
       "                var nbb_formatted_code = \"df = df.drop(\\\"Plant\\\", axis=1)\";\n",
       "                var nbb_cells = Jupyter.notebook.get_cells();\n",
       "                for (var i = 0; i < nbb_cells.length; ++i) {\n",
       "                    if (nbb_cells[i].input_prompt_number == nbb_cell_id) {\n",
       "                        if (nbb_cells[i].get_text() == nbb_unformatted_code) {\n",
       "                             nbb_cells[i].set_text(nbb_formatted_code);\n",
       "                        }\n",
       "                        break;\n",
       "                    }\n",
       "                }\n",
       "            }, 500);\n",
       "            "
      ],
      "text/plain": [
       "<IPython.core.display.Javascript object>"
      ]
     },
     "metadata": {},
     "output_type": "display_data"
    }
   ],
   "source": [
    "df = df.drop(\"Plant\", axis=1)"
   ]
  },
  {
   "cell_type": "markdown",
   "id": "3ea6f4f0",
   "metadata": {},
   "source": [
    "### Sort the dataset by date"
   ]
  },
  {
   "cell_type": "code",
   "execution_count": 26,
   "id": "774bd4e9",
   "metadata": {},
   "outputs": [
    {
     "data": {
      "text/plain": [
       "dtype('<M8[ns]')"
      ]
     },
     "execution_count": 26,
     "metadata": {},
     "output_type": "execute_result"
    },
    {
     "data": {
      "application/javascript": [
       "\n",
       "            setTimeout(function() {\n",
       "                var nbb_cell_id = 26;\n",
       "                var nbb_unformatted_code = \"# We first make sure Date column was infered correctly\\ndf[\\\"Date\\\"].dtype\";\n",
       "                var nbb_formatted_code = \"# We first make sure Date column was infered correctly\\ndf[\\\"Date\\\"].dtype\";\n",
       "                var nbb_cells = Jupyter.notebook.get_cells();\n",
       "                for (var i = 0; i < nbb_cells.length; ++i) {\n",
       "                    if (nbb_cells[i].input_prompt_number == nbb_cell_id) {\n",
       "                        if (nbb_cells[i].get_text() == nbb_unformatted_code) {\n",
       "                             nbb_cells[i].set_text(nbb_formatted_code);\n",
       "                        }\n",
       "                        break;\n",
       "                    }\n",
       "                }\n",
       "            }, 500);\n",
       "            "
      ],
      "text/plain": [
       "<IPython.core.display.Javascript object>"
      ]
     },
     "metadata": {},
     "output_type": "display_data"
    }
   ],
   "source": [
    "# We first make sure Date column was infered correctly\n",
    "df[\"Date\"].dtype"
   ]
  },
  {
   "cell_type": "code",
   "execution_count": 27,
   "id": "ddb2285e",
   "metadata": {},
   "outputs": [
    {
     "data": {
      "application/javascript": [
       "\n",
       "            setTimeout(function() {\n",
       "                var nbb_cell_id = 27;\n",
       "                var nbb_unformatted_code = \"df = df.sort_values(by=\\\"Date\\\")\";\n",
       "                var nbb_formatted_code = \"df = df.sort_values(by=\\\"Date\\\")\";\n",
       "                var nbb_cells = Jupyter.notebook.get_cells();\n",
       "                for (var i = 0; i < nbb_cells.length; ++i) {\n",
       "                    if (nbb_cells[i].input_prompt_number == nbb_cell_id) {\n",
       "                        if (nbb_cells[i].get_text() == nbb_unformatted_code) {\n",
       "                             nbb_cells[i].set_text(nbb_formatted_code);\n",
       "                        }\n",
       "                        break;\n",
       "                    }\n",
       "                }\n",
       "            }, 500);\n",
       "            "
      ],
      "text/plain": [
       "<IPython.core.display.Javascript object>"
      ]
     },
     "metadata": {},
     "output_type": "display_data"
    }
   ],
   "source": [
    "df = df.sort_values(by=\"Date\")"
   ]
  },
  {
   "cell_type": "markdown",
   "id": "7dafc5b8",
   "metadata": {},
   "source": [
    "## Saving the dataset"
   ]
  },
  {
   "cell_type": "markdown",
   "id": "b24894b1",
   "metadata": {},
   "source": [
    "<h3>Saving for feature engineering</h3>"
   ]
  },
  {
   "cell_type": "code",
   "execution_count": 28,
   "id": "5d247036",
   "metadata": {},
   "outputs": [
    {
     "data": {
      "application/javascript": [
       "\n",
       "            setTimeout(function() {\n",
       "                var nbb_cell_id = 28;\n",
       "                var nbb_unformatted_code = \"df.to_csv(\\\"../../../../data/interim/203/y.csv\\\", index=False)\";\n",
       "                var nbb_formatted_code = \"df.to_csv(\\\"../../../../data/interim/203/y.csv\\\", index=False)\";\n",
       "                var nbb_cells = Jupyter.notebook.get_cells();\n",
       "                for (var i = 0; i < nbb_cells.length; ++i) {\n",
       "                    if (nbb_cells[i].input_prompt_number == nbb_cell_id) {\n",
       "                        if (nbb_cells[i].get_text() == nbb_unformatted_code) {\n",
       "                             nbb_cells[i].set_text(nbb_formatted_code);\n",
       "                        }\n",
       "                        break;\n",
       "                    }\n",
       "                }\n",
       "            }, 500);\n",
       "            "
      ],
      "text/plain": [
       "<IPython.core.display.Javascript object>"
      ]
     },
     "metadata": {},
     "output_type": "display_data"
    }
   ],
   "source": [
    "df.to_csv(\"../../../../data/interim/203/y.csv\", index=False)"
   ]
  },
  {
   "cell_type": "code",
   "execution_count": null,
   "id": "127bf7d9",
   "metadata": {},
   "outputs": [],
   "source": []
  }
 ],
 "metadata": {
  "kernelspec": {
   "display_name": "ccs28-venv",
   "language": "python",
   "name": "ccs28-venv"
  },
  "language_info": {
   "codemirror_mode": {
    "name": "ipython",
    "version": 3
   },
   "file_extension": ".py",
   "mimetype": "text/x-python",
   "name": "python",
   "nbconvert_exporter": "python",
   "pygments_lexer": "ipython3",
   "version": "3.10.12"
  }
 },
 "nbformat": 4,
 "nbformat_minor": 5
}
