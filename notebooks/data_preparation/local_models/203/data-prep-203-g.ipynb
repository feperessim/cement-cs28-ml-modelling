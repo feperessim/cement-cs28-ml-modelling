{
 "cells": [
  {
   "cell_type": "code",
   "execution_count": 1,
   "id": "37bc2273",
   "metadata": {},
   "outputs": [
    {
     "data": {
      "application/javascript": [
       "\n",
       "            setTimeout(function() {\n",
       "                var nbb_cell_id = 1;\n",
       "                var nbb_unformatted_code = \"%load_ext nb_black\";\n",
       "                var nbb_formatted_code = \"%load_ext nb_black\";\n",
       "                var nbb_cells = Jupyter.notebook.get_cells();\n",
       "                for (var i = 0; i < nbb_cells.length; ++i) {\n",
       "                    if (nbb_cells[i].input_prompt_number == nbb_cell_id) {\n",
       "                        if (nbb_cells[i].get_text() == nbb_unformatted_code) {\n",
       "                             nbb_cells[i].set_text(nbb_formatted_code);\n",
       "                        }\n",
       "                        break;\n",
       "                    }\n",
       "                }\n",
       "            }, 500);\n",
       "            "
      ],
      "text/plain": [
       "<IPython.core.display.Javascript object>"
      ]
     },
     "metadata": {},
     "output_type": "display_data"
    }
   ],
   "source": [
    "%load_ext nb_black"
   ]
  },
  {
   "cell_type": "code",
   "execution_count": 2,
   "id": "8e3aaedf",
   "metadata": {},
   "outputs": [
    {
     "data": {
      "application/javascript": [
       "\n",
       "            setTimeout(function() {\n",
       "                var nbb_cell_id = 2;\n",
       "                var nbb_unformatted_code = \"import pandas as pd\\nimport numpy as np\";\n",
       "                var nbb_formatted_code = \"import pandas as pd\\nimport numpy as np\";\n",
       "                var nbb_cells = Jupyter.notebook.get_cells();\n",
       "                for (var i = 0; i < nbb_cells.length; ++i) {\n",
       "                    if (nbb_cells[i].input_prompt_number == nbb_cell_id) {\n",
       "                        if (nbb_cells[i].get_text() == nbb_unformatted_code) {\n",
       "                             nbb_cells[i].set_text(nbb_formatted_code);\n",
       "                        }\n",
       "                        break;\n",
       "                    }\n",
       "                }\n",
       "            }, 500);\n",
       "            "
      ],
      "text/plain": [
       "<IPython.core.display.Javascript object>"
      ]
     },
     "metadata": {},
     "output_type": "display_data"
    }
   ],
   "source": [
    "import pandas as pd\n",
    "import numpy as np"
   ]
  },
  {
   "cell_type": "code",
   "execution_count": 3,
   "id": "cf7e2464",
   "metadata": {},
   "outputs": [
    {
     "data": {
      "application/javascript": [
       "\n",
       "            setTimeout(function() {\n",
       "                var nbb_cell_id = 3;\n",
       "                var nbb_unformatted_code = \"def convert_to_float(value):\\n    try:\\n        # If it's a string enclosed in single quotes, remove quotes and replace comma with dot\\n        if isinstance(value, str):\\n            return float(value.replace(\\\",\\\", \\\".\\\"))\\n        else:\\n            return float(value)\\n    except ValueError as e:\\n        print(e)\\n        return float(\\\"nan\\\")\";\n",
       "                var nbb_formatted_code = \"def convert_to_float(value):\\n    try:\\n        # If it's a string enclosed in single quotes, remove quotes and replace comma with dot\\n        if isinstance(value, str):\\n            return float(value.replace(\\\",\\\", \\\".\\\"))\\n        else:\\n            return float(value)\\n    except ValueError as e:\\n        print(e)\\n        return float(\\\"nan\\\")\";\n",
       "                var nbb_cells = Jupyter.notebook.get_cells();\n",
       "                for (var i = 0; i < nbb_cells.length; ++i) {\n",
       "                    if (nbb_cells[i].input_prompt_number == nbb_cell_id) {\n",
       "                        if (nbb_cells[i].get_text() == nbb_unformatted_code) {\n",
       "                             nbb_cells[i].set_text(nbb_formatted_code);\n",
       "                        }\n",
       "                        break;\n",
       "                    }\n",
       "                }\n",
       "            }, 500);\n",
       "            "
      ],
      "text/plain": [
       "<IPython.core.display.Javascript object>"
      ]
     },
     "metadata": {},
     "output_type": "display_data"
    }
   ],
   "source": [
    "def convert_to_float(value):\n",
    "    try:\n",
    "        # If it's a string enclosed in single quotes, remove quotes and replace comma with dot\n",
    "        if isinstance(value, str):\n",
    "            return float(value.replace(\",\", \".\"))\n",
    "        else:\n",
    "            return float(value)\n",
    "    except ValueError as e:\n",
    "        print(e)\n",
    "        return float(\"nan\")"
   ]
  },
  {
   "cell_type": "markdown",
   "id": "2ed5862d",
   "metadata": {},
   "source": [
    "## Reading the dataset"
   ]
  },
  {
   "cell_type": "code",
   "execution_count": 4,
   "id": "7d7b3eaa",
   "metadata": {},
   "outputs": [
    {
     "data": {
      "application/javascript": [
       "\n",
       "            setTimeout(function() {\n",
       "                var nbb_cell_id = 4;\n",
       "                var nbb_unformatted_code = \"plant = \\\"G\\\"\\n\\nxls = pd.ExcelFile(\\n    f\\\"../../../../data/raw/203/EMBRAPII hubIC IACC_CIMENTO_{plant}.xlsx\\\",\\n    engine=\\\"openpyxl\\\",\\n)\";\n",
       "                var nbb_formatted_code = \"plant = \\\"G\\\"\\n\\nxls = pd.ExcelFile(\\n    f\\\"../../../../data/raw/203/EMBRAPII hubIC IACC_CIMENTO_{plant}.xlsx\\\",\\n    engine=\\\"openpyxl\\\",\\n)\";\n",
       "                var nbb_cells = Jupyter.notebook.get_cells();\n",
       "                for (var i = 0; i < nbb_cells.length; ++i) {\n",
       "                    if (nbb_cells[i].input_prompt_number == nbb_cell_id) {\n",
       "                        if (nbb_cells[i].get_text() == nbb_unformatted_code) {\n",
       "                             nbb_cells[i].set_text(nbb_formatted_code);\n",
       "                        }\n",
       "                        break;\n",
       "                    }\n",
       "                }\n",
       "            }, 500);\n",
       "            "
      ],
      "text/plain": [
       "<IPython.core.display.Javascript object>"
      ]
     },
     "metadata": {},
     "output_type": "display_data"
    }
   ],
   "source": [
    "plant = \"G\"\n",
    "\n",
    "xls = pd.ExcelFile(\n",
    "    f\"../../../../data/raw/203/EMBRAPII hubIC IACC_CIMENTO_{plant}.xlsx\",\n",
    "    engine=\"openpyxl\",\n",
    ")"
   ]
  },
  {
   "cell_type": "code",
   "execution_count": 5,
   "id": "0b03d3a5",
   "metadata": {},
   "outputs": [
    {
     "data": {
      "application/javascript": [
       "\n",
       "            setTimeout(function() {\n",
       "                var nbb_cell_id = 5;\n",
       "                var nbb_unformatted_code = \"dataframes = []\\n\\nfor sheet_name in xls.sheet_names[1:]:\\n    df = pd.read_excel(xls, sheet_name, header=[0, 1, 2])\\n    dataframes.append(df.drop([0, 1], axis=0).reset_index(drop=True).copy())\\n\\ndf = pd.concat(dataframes, axis=0).reset_index(drop=True)\";\n",
       "                var nbb_formatted_code = \"dataframes = []\\n\\nfor sheet_name in xls.sheet_names[1:]:\\n    df = pd.read_excel(xls, sheet_name, header=[0, 1, 2])\\n    dataframes.append(df.drop([0, 1], axis=0).reset_index(drop=True).copy())\\n\\ndf = pd.concat(dataframes, axis=0).reset_index(drop=True)\";\n",
       "                var nbb_cells = Jupyter.notebook.get_cells();\n",
       "                for (var i = 0; i < nbb_cells.length; ++i) {\n",
       "                    if (nbb_cells[i].input_prompt_number == nbb_cell_id) {\n",
       "                        if (nbb_cells[i].get_text() == nbb_unformatted_code) {\n",
       "                             nbb_cells[i].set_text(nbb_formatted_code);\n",
       "                        }\n",
       "                        break;\n",
       "                    }\n",
       "                }\n",
       "            }, 500);\n",
       "            "
      ],
      "text/plain": [
       "<IPython.core.display.Javascript object>"
      ]
     },
     "metadata": {},
     "output_type": "display_data"
    }
   ],
   "source": [
    "dataframes = []\n",
    "\n",
    "for sheet_name in xls.sheet_names[1:]:\n",
    "    df = pd.read_excel(xls, sheet_name, header=[0, 1, 2])\n",
    "    dataframes.append(df.drop([0, 1], axis=0).reset_index(drop=True).copy())\n",
    "\n",
    "df = pd.concat(dataframes, axis=0).reset_index(drop=True)"
   ]
  },
  {
   "cell_type": "markdown",
   "id": "071c3248",
   "metadata": {},
   "source": [
    "## Initial Preprocessing"
   ]
  },
  {
   "cell_type": "code",
   "execution_count": 6,
   "id": "048a1300",
   "metadata": {},
   "outputs": [
    {
     "data": {
      "application/javascript": [
       "\n",
       "            setTimeout(function() {\n",
       "                var nbb_cell_id = 6;\n",
       "                var nbb_unformatted_code = \"df = pd.concat(\\n    [\\n        df[\\\"Dados iniciais\\\"],\\n        df[\\\"Cimento\\\"][\\\"An\\u00e1lise qu\\u00edmica\\\"],\\n        df[\\\"Caracter\\u00edstias f\\u00edsicas do cimento\\\"],\\n        df[\\\"Propriedades do cimento\\\"],\\n    ],\\n    axis=1,\\n)\";\n",
       "                var nbb_formatted_code = \"df = pd.concat(\\n    [\\n        df[\\\"Dados iniciais\\\"],\\n        df[\\\"Cimento\\\"][\\\"An\\u00e1lise qu\\u00edmica\\\"],\\n        df[\\\"Caracter\\u00edstias f\\u00edsicas do cimento\\\"],\\n        df[\\\"Propriedades do cimento\\\"],\\n    ],\\n    axis=1,\\n)\";\n",
       "                var nbb_cells = Jupyter.notebook.get_cells();\n",
       "                for (var i = 0; i < nbb_cells.length; ++i) {\n",
       "                    if (nbb_cells[i].input_prompt_number == nbb_cell_id) {\n",
       "                        if (nbb_cells[i].get_text() == nbb_unformatted_code) {\n",
       "                             nbb_cells[i].set_text(nbb_formatted_code);\n",
       "                        }\n",
       "                        break;\n",
       "                    }\n",
       "                }\n",
       "            }, 500);\n",
       "            "
      ],
      "text/plain": [
       "<IPython.core.display.Javascript object>"
      ]
     },
     "metadata": {},
     "output_type": "display_data"
    }
   ],
   "source": [
    "df = pd.concat(\n",
    "    [\n",
    "        df[\"Dados iniciais\"],\n",
    "        df[\"Cimento\"][\"Análise química\"],\n",
    "        df[\"Característias físicas do cimento\"],\n",
    "        df[\"Propriedades do cimento\"],\n",
    "    ],\n",
    "    axis=1,\n",
    ")"
   ]
  },
  {
   "cell_type": "markdown",
   "id": "1f4cc592",
   "metadata": {},
   "source": [
    "### 1. Dropping columns where either there is no data nor it contributes to the analysis\n",
    "### 2. Renaming columns to a short identifiable name "
   ]
  },
  {
   "cell_type": "code",
   "execution_count": 7,
   "id": "33dad789",
   "metadata": {},
   "outputs": [
    {
     "data": {
      "application/javascript": [
       "\n",
       "            setTimeout(function() {\n",
       "                var nbb_cell_id = 7;\n",
       "                var nbb_unformatted_code = \"COLUMNS_TO_DROP = [\\n    (\\\"Data\\\", \\\"Produ\\u00e7\\u00e3o\\\"),\\n    (\\\"Hor\\u00e1rio\\\", \\\"Produ\\u00e7\\u00e3o\\\"),\\n    (\\\"Hor\\u00e1rio\\\", \\\"Medida\\\"),\\n    (\\\"Obs.\\\", \\\"Unnamed: 148_level_2\\\"),\\n    (\\\"Tipo de cimento\\\", \\\"Unnamed: 6_level_2\\\"),\\n    (\\\"Classe de resist\\u00eancia\\\", \\\"Unnamed: 7_level_2\\\"),\\n    (\\\"Obs.\\\", \\\"Unnamed: 8_level_2\\\"),\\n    \\\"Obs.\\\",\\n    (\\\"Obs.\\\", \\\"Unnamed: 148_level_2\\\"),\\n    (\\\"Unnamed: 141_level_1\\\", \\\"Obs.\\\"),\\n    (\\\"Unnamed: 139_level_1\\\", \\\"#400\\\"),\\n]\\n\\nCOLUMNS_TO_RENAME = {\\n    (\\\"Cidade\\\", \\\"Unnamed: 1_level_2\\\"): \\\"Plant\\\",\\n    (\\\"Data\\\", \\\"Medida\\\"): \\\"Date\\\",\\n    (\\\"Unnamed: 136_level_1\\\", \\\"Blaine\\\"): \\\"Blaine\\\",\\n    (\\\"Unnamed: 137_level_1\\\", \\\"#200\\\"): \\\"#200\\\",\\n    (\\\"Unnamed: 138_level_1\\\", \\\"#325\\\"): \\\"#325\\\",\\n    (\\\"Unnamed: 139_level_1\\\", \\\"#400\\\"): \\\"#400\\\",\\n    (\\\"Unnamed: 140_level_1\\\", \\\"Massa espec\\u00edfica\\\"): \\\"Specific Gravity\\\",\\n    (\\\"Tempo de pega\\\", \\\"Fim\\\"): \\\"Final setting time\\\",\\n    (\\\"Tempo de pega\\\", \\\"Inicio\\\"): \\\"Initial setting time\\\",\\n    (\\\"Resist\\u00eancia \\u00e0 compress\\u00e3o\\\", \\\"1 d\\\"): \\\"CS1\\\",\\n    (\\\"Resist\\u00eancia \\u00e0 compress\\u00e3o\\\", \\\"3 d\\\"): \\\"CS3\\\",\\n    (\\\"Resist\\u00eancia \\u00e0 compress\\u00e3o\\\", \\\"7 d\\\"): \\\"CS7\\\",\\n    (\\\"Resist\\u00eancia \\u00e0 compress\\u00e3o\\\", \\\"28 d\\\"): \\\"CS28\\\",\\n    \\\"Perda ao fogo\\\": \\\"Loss on Ignition\\\",\\n    \\\"Res\\u00edduo insol\\u00favel\\\": \\\"Insoluble Residue\\\",\\n}\";\n",
       "                var nbb_formatted_code = \"COLUMNS_TO_DROP = [\\n    (\\\"Data\\\", \\\"Produ\\u00e7\\u00e3o\\\"),\\n    (\\\"Hor\\u00e1rio\\\", \\\"Produ\\u00e7\\u00e3o\\\"),\\n    (\\\"Hor\\u00e1rio\\\", \\\"Medida\\\"),\\n    (\\\"Obs.\\\", \\\"Unnamed: 148_level_2\\\"),\\n    (\\\"Tipo de cimento\\\", \\\"Unnamed: 6_level_2\\\"),\\n    (\\\"Classe de resist\\u00eancia\\\", \\\"Unnamed: 7_level_2\\\"),\\n    (\\\"Obs.\\\", \\\"Unnamed: 8_level_2\\\"),\\n    \\\"Obs.\\\",\\n    (\\\"Obs.\\\", \\\"Unnamed: 148_level_2\\\"),\\n    (\\\"Unnamed: 141_level_1\\\", \\\"Obs.\\\"),\\n    (\\\"Unnamed: 139_level_1\\\", \\\"#400\\\"),\\n]\\n\\nCOLUMNS_TO_RENAME = {\\n    (\\\"Cidade\\\", \\\"Unnamed: 1_level_2\\\"): \\\"Plant\\\",\\n    (\\\"Data\\\", \\\"Medida\\\"): \\\"Date\\\",\\n    (\\\"Unnamed: 136_level_1\\\", \\\"Blaine\\\"): \\\"Blaine\\\",\\n    (\\\"Unnamed: 137_level_1\\\", \\\"#200\\\"): \\\"#200\\\",\\n    (\\\"Unnamed: 138_level_1\\\", \\\"#325\\\"): \\\"#325\\\",\\n    (\\\"Unnamed: 139_level_1\\\", \\\"#400\\\"): \\\"#400\\\",\\n    (\\\"Unnamed: 140_level_1\\\", \\\"Massa espec\\u00edfica\\\"): \\\"Specific Gravity\\\",\\n    (\\\"Tempo de pega\\\", \\\"Fim\\\"): \\\"Final setting time\\\",\\n    (\\\"Tempo de pega\\\", \\\"Inicio\\\"): \\\"Initial setting time\\\",\\n    (\\\"Resist\\u00eancia \\u00e0 compress\\u00e3o\\\", \\\"1 d\\\"): \\\"CS1\\\",\\n    (\\\"Resist\\u00eancia \\u00e0 compress\\u00e3o\\\", \\\"3 d\\\"): \\\"CS3\\\",\\n    (\\\"Resist\\u00eancia \\u00e0 compress\\u00e3o\\\", \\\"7 d\\\"): \\\"CS7\\\",\\n    (\\\"Resist\\u00eancia \\u00e0 compress\\u00e3o\\\", \\\"28 d\\\"): \\\"CS28\\\",\\n    \\\"Perda ao fogo\\\": \\\"Loss on Ignition\\\",\\n    \\\"Res\\u00edduo insol\\u00favel\\\": \\\"Insoluble Residue\\\",\\n}\";\n",
       "                var nbb_cells = Jupyter.notebook.get_cells();\n",
       "                for (var i = 0; i < nbb_cells.length; ++i) {\n",
       "                    if (nbb_cells[i].input_prompt_number == nbb_cell_id) {\n",
       "                        if (nbb_cells[i].get_text() == nbb_unformatted_code) {\n",
       "                             nbb_cells[i].set_text(nbb_formatted_code);\n",
       "                        }\n",
       "                        break;\n",
       "                    }\n",
       "                }\n",
       "            }, 500);\n",
       "            "
      ],
      "text/plain": [
       "<IPython.core.display.Javascript object>"
      ]
     },
     "metadata": {},
     "output_type": "display_data"
    }
   ],
   "source": [
    "COLUMNS_TO_DROP = [\n",
    "    (\"Data\", \"Produção\"),\n",
    "    (\"Horário\", \"Produção\"),\n",
    "    (\"Horário\", \"Medida\"),\n",
    "    (\"Obs.\", \"Unnamed: 148_level_2\"),\n",
    "    (\"Tipo de cimento\", \"Unnamed: 6_level_2\"),\n",
    "    (\"Classe de resistência\", \"Unnamed: 7_level_2\"),\n",
    "    (\"Obs.\", \"Unnamed: 8_level_2\"),\n",
    "    \"Obs.\",\n",
    "    (\"Obs.\", \"Unnamed: 148_level_2\"),\n",
    "    (\"Unnamed: 141_level_1\", \"Obs.\"),\n",
    "    (\"Unnamed: 139_level_1\", \"#400\"),\n",
    "]\n",
    "\n",
    "COLUMNS_TO_RENAME = {\n",
    "    (\"Cidade\", \"Unnamed: 1_level_2\"): \"Plant\",\n",
    "    (\"Data\", \"Medida\"): \"Date\",\n",
    "    (\"Unnamed: 136_level_1\", \"Blaine\"): \"Blaine\",\n",
    "    (\"Unnamed: 137_level_1\", \"#200\"): \"#200\",\n",
    "    (\"Unnamed: 138_level_1\", \"#325\"): \"#325\",\n",
    "    (\"Unnamed: 139_level_1\", \"#400\"): \"#400\",\n",
    "    (\"Unnamed: 140_level_1\", \"Massa específica\"): \"Specific Gravity\",\n",
    "    (\"Tempo de pega\", \"Fim\"): \"Final setting time\",\n",
    "    (\"Tempo de pega\", \"Inicio\"): \"Initial setting time\",\n",
    "    (\"Resistência à compressão\", \"1 d\"): \"CS1\",\n",
    "    (\"Resistência à compressão\", \"3 d\"): \"CS3\",\n",
    "    (\"Resistência à compressão\", \"7 d\"): \"CS7\",\n",
    "    (\"Resistência à compressão\", \"28 d\"): \"CS28\",\n",
    "    \"Perda ao fogo\": \"Loss on Ignition\",\n",
    "    \"Resíduo insolúvel\": \"Insoluble Residue\",\n",
    "}"
   ]
  },
  {
   "cell_type": "markdown",
   "id": "727656a6",
   "metadata": {},
   "source": [
    "### Defining a single variable to identify Cement Type"
   ]
  },
  {
   "cell_type": "code",
   "execution_count": 8,
   "id": "162ec6b1",
   "metadata": {},
   "outputs": [
    {
     "data": {
      "application/javascript": [
       "\n",
       "            setTimeout(function() {\n",
       "                var nbb_cell_id = 8;\n",
       "                var nbb_unformatted_code = \"df[\\\"Cement_Type\\\"] = (\\n    df[\\n        [\\n            (\\\"Tipo de cimento\\\", \\\"Unnamed: 6_level_2\\\"),\\n            (\\\"Classe de resist\\u00eancia\\\", \\\"Unnamed: 7_level_2\\\"),\\n            (\\\"Obs.\\\", \\\"Unnamed: 8_level_2\\\"),\\n        ]\\n    ]\\n    .fillna(\\\"\\\")\\n    .astype(str)\\n    .sum(axis=1)\\n)\";\n",
       "                var nbb_formatted_code = \"df[\\\"Cement_Type\\\"] = (\\n    df[\\n        [\\n            (\\\"Tipo de cimento\\\", \\\"Unnamed: 6_level_2\\\"),\\n            (\\\"Classe de resist\\u00eancia\\\", \\\"Unnamed: 7_level_2\\\"),\\n            (\\\"Obs.\\\", \\\"Unnamed: 8_level_2\\\"),\\n        ]\\n    ]\\n    .fillna(\\\"\\\")\\n    .astype(str)\\n    .sum(axis=1)\\n)\";\n",
       "                var nbb_cells = Jupyter.notebook.get_cells();\n",
       "                for (var i = 0; i < nbb_cells.length; ++i) {\n",
       "                    if (nbb_cells[i].input_prompt_number == nbb_cell_id) {\n",
       "                        if (nbb_cells[i].get_text() == nbb_unformatted_code) {\n",
       "                             nbb_cells[i].set_text(nbb_formatted_code);\n",
       "                        }\n",
       "                        break;\n",
       "                    }\n",
       "                }\n",
       "            }, 500);\n",
       "            "
      ],
      "text/plain": [
       "<IPython.core.display.Javascript object>"
      ]
     },
     "metadata": {},
     "output_type": "display_data"
    }
   ],
   "source": [
    "df[\"Cement_Type\"] = (\n",
    "    df[\n",
    "        [\n",
    "            (\"Tipo de cimento\", \"Unnamed: 6_level_2\"),\n",
    "            (\"Classe de resistência\", \"Unnamed: 7_level_2\"),\n",
    "            (\"Obs.\", \"Unnamed: 8_level_2\"),\n",
    "        ]\n",
    "    ]\n",
    "    .fillna(\"\")\n",
    "    .astype(str)\n",
    "    .sum(axis=1)\n",
    ")"
   ]
  },
  {
   "cell_type": "markdown",
   "id": "2136a58c",
   "metadata": {},
   "source": [
    "### Replacing the current cement type categories for a short identifiable category"
   ]
  },
  {
   "cell_type": "code",
   "execution_count": 9,
   "id": "9e57c637",
   "metadata": {},
   "outputs": [
    {
     "data": {
      "application/javascript": [
       "\n",
       "            setTimeout(function() {\n",
       "                var nbb_cell_id = 9;\n",
       "                var nbb_unformatted_code = \"# Preprocessing\\ndf[\\\"Cement_Type\\\"] = df[\\\"Cement_Type\\\"].replace(\\\"FIBROCMENTO\\\", \\\"Fibrocimento\\\")\\ndf[\\\"Cement_Type\\\"] = df[\\\"Cement_Type\\\"].replace(\\\"CP VARIEnsacado\\\", \\\"CP VARI\\\")\\ndf[\\\"Cement_Type\\\"] = df[\\\"Cement_Type\\\"].replace(\\\"CP VARIGranel\\\", \\\"CP VARI\\\")\\ndf[\\\"Cement_Type\\\"] = df[\\\"Cement_Type\\\"].replace(\\\"CP III40Ensacado\\\", \\\"CP III40\\\")\\ndf[\\\"Cement_Type\\\"] = df[\\\"Cement_Type\\\"].replace(\\\"CP III40Granel\\\", \\\"CP III40\\\")\\ndf[\\\"Cement_Type\\\"] = df[\\\"Cement_Type\\\"].replace(\\\"CP VARIRS\\\", \\\"CP VARI\\\")\";\n",
       "                var nbb_formatted_code = \"# Preprocessing\\ndf[\\\"Cement_Type\\\"] = df[\\\"Cement_Type\\\"].replace(\\\"FIBROCMENTO\\\", \\\"Fibrocimento\\\")\\ndf[\\\"Cement_Type\\\"] = df[\\\"Cement_Type\\\"].replace(\\\"CP VARIEnsacado\\\", \\\"CP VARI\\\")\\ndf[\\\"Cement_Type\\\"] = df[\\\"Cement_Type\\\"].replace(\\\"CP VARIGranel\\\", \\\"CP VARI\\\")\\ndf[\\\"Cement_Type\\\"] = df[\\\"Cement_Type\\\"].replace(\\\"CP III40Ensacado\\\", \\\"CP III40\\\")\\ndf[\\\"Cement_Type\\\"] = df[\\\"Cement_Type\\\"].replace(\\\"CP III40Granel\\\", \\\"CP III40\\\")\\ndf[\\\"Cement_Type\\\"] = df[\\\"Cement_Type\\\"].replace(\\\"CP VARIRS\\\", \\\"CP VARI\\\")\";\n",
       "                var nbb_cells = Jupyter.notebook.get_cells();\n",
       "                for (var i = 0; i < nbb_cells.length; ++i) {\n",
       "                    if (nbb_cells[i].input_prompt_number == nbb_cell_id) {\n",
       "                        if (nbb_cells[i].get_text() == nbb_unformatted_code) {\n",
       "                             nbb_cells[i].set_text(nbb_formatted_code);\n",
       "                        }\n",
       "                        break;\n",
       "                    }\n",
       "                }\n",
       "            }, 500);\n",
       "            "
      ],
      "text/plain": [
       "<IPython.core.display.Javascript object>"
      ]
     },
     "metadata": {},
     "output_type": "display_data"
    }
   ],
   "source": [
    "# Preprocessing\n",
    "df[\"Cement_Type\"] = df[\"Cement_Type\"].replace(\"FIBROCMENTO\", \"Fibrocimento\")\n",
    "df[\"Cement_Type\"] = df[\"Cement_Type\"].replace(\"CP VARIEnsacado\", \"CP VARI\")\n",
    "df[\"Cement_Type\"] = df[\"Cement_Type\"].replace(\"CP VARIGranel\", \"CP VARI\")\n",
    "df[\"Cement_Type\"] = df[\"Cement_Type\"].replace(\"CP III40Ensacado\", \"CP III40\")\n",
    "df[\"Cement_Type\"] = df[\"Cement_Type\"].replace(\"CP III40Granel\", \"CP III40\")\n",
    "df[\"Cement_Type\"] = df[\"Cement_Type\"].replace(\"CP VARIRS\", \"CP VARI\")"
   ]
  },
  {
   "cell_type": "markdown",
   "id": "03ae39b2",
   "metadata": {},
   "source": [
    "### Dropping and rename the columns defined above"
   ]
  },
  {
   "cell_type": "code",
   "execution_count": 10,
   "id": "8655c03f",
   "metadata": {},
   "outputs": [
    {
     "data": {
      "application/javascript": [
       "\n",
       "            setTimeout(function() {\n",
       "                var nbb_cell_id = 10;\n",
       "                var nbb_unformatted_code = \"df = df.drop(COLUMNS_TO_DROP, axis=1).rename(COLUMNS_TO_RENAME, axis=1).copy()\\ndf = df.infer_objects()\";\n",
       "                var nbb_formatted_code = \"df = df.drop(COLUMNS_TO_DROP, axis=1).rename(COLUMNS_TO_RENAME, axis=1).copy()\\ndf = df.infer_objects()\";\n",
       "                var nbb_cells = Jupyter.notebook.get_cells();\n",
       "                for (var i = 0; i < nbb_cells.length; ++i) {\n",
       "                    if (nbb_cells[i].input_prompt_number == nbb_cell_id) {\n",
       "                        if (nbb_cells[i].get_text() == nbb_unformatted_code) {\n",
       "                             nbb_cells[i].set_text(nbb_formatted_code);\n",
       "                        }\n",
       "                        break;\n",
       "                    }\n",
       "                }\n",
       "            }, 500);\n",
       "            "
      ],
      "text/plain": [
       "<IPython.core.display.Javascript object>"
      ]
     },
     "metadata": {},
     "output_type": "display_data"
    }
   ],
   "source": [
    "df = df.drop(COLUMNS_TO_DROP, axis=1).rename(COLUMNS_TO_RENAME, axis=1).copy()\n",
    "df = df.infer_objects()"
   ]
  },
  {
   "cell_type": "markdown",
   "id": "1f2e11c8",
   "metadata": {},
   "source": [
    "### Clean and converting numeric columns to float"
   ]
  },
  {
   "cell_type": "code",
   "execution_count": 11,
   "id": "f00768d8",
   "metadata": {},
   "outputs": [
    {
     "data": {
      "application/javascript": [
       "\n",
       "            setTimeout(function() {\n",
       "                var nbb_cell_id = 11;\n",
       "                var nbb_unformatted_code = \"NUMERIC_COLUMNS = [\\n    \\\"CaO\\\",\\n    \\\"MgO\\\",\\n    \\\"Na2O\\\",\\n    \\\"Al2O3\\\",\\n    \\\"SiO2\\\",\\n    \\\"SO3\\\",\\n    \\\"K2O\\\",\\n    \\\"TiO2\\\",\\n    \\\"Fe2O3\\\",\\n    \\\"Loss on Ignition\\\",\\n    \\\"Insoluble Residue\\\",\\n    \\\"Blaine\\\",\\n    \\\"#200\\\",\\n    \\\"#325\\\",\\n    \\\"Specific Gravity\\\",\\n    \\\"Final setting time\\\",\\n    \\\"Initial setting time\\\",\\n    \\\"CS1\\\",\\n    \\\"CS3\\\",\\n    \\\"CS7\\\",\\n    \\\"CS28\\\",\\n]\\n\\ndf[NUMERIC_COLUMNS] = df[NUMERIC_COLUMNS].map(convert_to_float)\";\n",
       "                var nbb_formatted_code = \"NUMERIC_COLUMNS = [\\n    \\\"CaO\\\",\\n    \\\"MgO\\\",\\n    \\\"Na2O\\\",\\n    \\\"Al2O3\\\",\\n    \\\"SiO2\\\",\\n    \\\"SO3\\\",\\n    \\\"K2O\\\",\\n    \\\"TiO2\\\",\\n    \\\"Fe2O3\\\",\\n    \\\"Loss on Ignition\\\",\\n    \\\"Insoluble Residue\\\",\\n    \\\"Blaine\\\",\\n    \\\"#200\\\",\\n    \\\"#325\\\",\\n    \\\"Specific Gravity\\\",\\n    \\\"Final setting time\\\",\\n    \\\"Initial setting time\\\",\\n    \\\"CS1\\\",\\n    \\\"CS3\\\",\\n    \\\"CS7\\\",\\n    \\\"CS28\\\",\\n]\\n\\ndf[NUMERIC_COLUMNS] = df[NUMERIC_COLUMNS].map(convert_to_float)\";\n",
       "                var nbb_cells = Jupyter.notebook.get_cells();\n",
       "                for (var i = 0; i < nbb_cells.length; ++i) {\n",
       "                    if (nbb_cells[i].input_prompt_number == nbb_cell_id) {\n",
       "                        if (nbb_cells[i].get_text() == nbb_unformatted_code) {\n",
       "                             nbb_cells[i].set_text(nbb_formatted_code);\n",
       "                        }\n",
       "                        break;\n",
       "                    }\n",
       "                }\n",
       "            }, 500);\n",
       "            "
      ],
      "text/plain": [
       "<IPython.core.display.Javascript object>"
      ]
     },
     "metadata": {},
     "output_type": "display_data"
    }
   ],
   "source": [
    "NUMERIC_COLUMNS = [\n",
    "    \"CaO\",\n",
    "    \"MgO\",\n",
    "    \"Na2O\",\n",
    "    \"Al2O3\",\n",
    "    \"SiO2\",\n",
    "    \"SO3\",\n",
    "    \"K2O\",\n",
    "    \"TiO2\",\n",
    "    \"Fe2O3\",\n",
    "    \"Loss on Ignition\",\n",
    "    \"Insoluble Residue\",\n",
    "    \"Blaine\",\n",
    "    \"#200\",\n",
    "    \"#325\",\n",
    "    \"Specific Gravity\",\n",
    "    \"Final setting time\",\n",
    "    \"Initial setting time\",\n",
    "    \"CS1\",\n",
    "    \"CS3\",\n",
    "    \"CS7\",\n",
    "    \"CS28\",\n",
    "]\n",
    "\n",
    "df[NUMERIC_COLUMNS] = df[NUMERIC_COLUMNS].map(convert_to_float)"
   ]
  },
  {
   "cell_type": "markdown",
   "id": "c05b5875",
   "metadata": {},
   "source": [
    "### Converting Date columns to pandas datetime"
   ]
  },
  {
   "cell_type": "code",
   "execution_count": 12,
   "id": "494c779e",
   "metadata": {},
   "outputs": [
    {
     "data": {
      "application/javascript": [
       "\n",
       "            setTimeout(function() {\n",
       "                var nbb_cell_id = 12;\n",
       "                var nbb_unformatted_code = \"df[\\\"Date\\\"] = pd.to_datetime(df[\\\"Date\\\"])\";\n",
       "                var nbb_formatted_code = \"df[\\\"Date\\\"] = pd.to_datetime(df[\\\"Date\\\"])\";\n",
       "                var nbb_cells = Jupyter.notebook.get_cells();\n",
       "                for (var i = 0; i < nbb_cells.length; ++i) {\n",
       "                    if (nbb_cells[i].input_prompt_number == nbb_cell_id) {\n",
       "                        if (nbb_cells[i].get_text() == nbb_unformatted_code) {\n",
       "                             nbb_cells[i].set_text(nbb_formatted_code);\n",
       "                        }\n",
       "                        break;\n",
       "                    }\n",
       "                }\n",
       "            }, 500);\n",
       "            "
      ],
      "text/plain": [
       "<IPython.core.display.Javascript object>"
      ]
     },
     "metadata": {},
     "output_type": "display_data"
    }
   ],
   "source": [
    "df[\"Date\"] = pd.to_datetime(df[\"Date\"])"
   ]
  },
  {
   "cell_type": "markdown",
   "id": "93013efb",
   "metadata": {},
   "source": [
    "## Dropping missing features"
   ]
  },
  {
   "cell_type": "markdown",
   "id": "99a280e4",
   "metadata": {},
   "source": [
    "### Drop rows completely missing"
   ]
  },
  {
   "cell_type": "code",
   "execution_count": 13,
   "id": "623b185b",
   "metadata": {},
   "outputs": [
    {
     "data": {
      "application/javascript": [
       "\n",
       "            setTimeout(function() {\n",
       "                var nbb_cell_id = 13;\n",
       "                var nbb_unformatted_code = \"index_to_keep = (\\n    df.drop([\\\"Plant\\\", \\\"Date\\\", \\\"Cement_Type\\\"], axis=1).dropna(axis=0, how=\\\"all\\\").index\\n)\\ndf = df.iloc[index_to_keep].reset_index(drop=True)\";\n",
       "                var nbb_formatted_code = \"index_to_keep = (\\n    df.drop([\\\"Plant\\\", \\\"Date\\\", \\\"Cement_Type\\\"], axis=1).dropna(axis=0, how=\\\"all\\\").index\\n)\\ndf = df.iloc[index_to_keep].reset_index(drop=True)\";\n",
       "                var nbb_cells = Jupyter.notebook.get_cells();\n",
       "                for (var i = 0; i < nbb_cells.length; ++i) {\n",
       "                    if (nbb_cells[i].input_prompt_number == nbb_cell_id) {\n",
       "                        if (nbb_cells[i].get_text() == nbb_unformatted_code) {\n",
       "                             nbb_cells[i].set_text(nbb_formatted_code);\n",
       "                        }\n",
       "                        break;\n",
       "                    }\n",
       "                }\n",
       "            }, 500);\n",
       "            "
      ],
      "text/plain": [
       "<IPython.core.display.Javascript object>"
      ]
     },
     "metadata": {},
     "output_type": "display_data"
    }
   ],
   "source": [
    "index_to_keep = (\n",
    "    df.drop([\"Plant\", \"Date\", \"Cement_Type\"], axis=1).dropna(axis=0, how=\"all\").index\n",
    ")\n",
    "df = df.iloc[index_to_keep].reset_index(drop=True)"
   ]
  },
  {
   "cell_type": "markdown",
   "id": "7782bb48",
   "metadata": {},
   "source": [
    "### Removing features\n",
    " that will be fitted on this data.\n",
    "\n",
    "1. Removing features with features having 60% or more of missing values\n",
    "2. Removing features with zero variance\n",
    "3. Removing features with more than 70% of zeros"
   ]
  },
  {
   "cell_type": "markdown",
   "id": "f0a0ed83",
   "metadata": {},
   "source": [
    "<h3>Percentage of missing values:</h3>\n",
    "    \n",
    "    \n",
    "<table>\n",
    "    <th>Plant AV - Full Dataset:</th>\n",
    "    <th></th>\n",
    "    <tr>\n",
    "        <td>Specific Gravity</td>\n",
    "        <td>100.00</td>\n",
    "    </tr>\n",
    "    <tr>\n",
    "        <td>TiO2</td>\n",
    "        <td>100.00</td>\n",
    "    </tr>        \n",
    "</table>"
   ]
  },
  {
   "cell_type": "code",
   "execution_count": 14,
   "id": "4877617c",
   "metadata": {},
   "outputs": [
    {
     "data": {
      "application/javascript": [
       "\n",
       "            setTimeout(function() {\n",
       "                var nbb_cell_id = 14;\n",
       "                var nbb_unformatted_code = \"FEATRUES_TO_DROP = [\\\"Specific Gravity\\\", \\\"TiO2\\\"]\\ndf = df.drop(labels=FEATRUES_TO_DROP, axis=1)\";\n",
       "                var nbb_formatted_code = \"FEATRUES_TO_DROP = [\\\"Specific Gravity\\\", \\\"TiO2\\\"]\\ndf = df.drop(labels=FEATRUES_TO_DROP, axis=1)\";\n",
       "                var nbb_cells = Jupyter.notebook.get_cells();\n",
       "                for (var i = 0; i < nbb_cells.length; ++i) {\n",
       "                    if (nbb_cells[i].input_prompt_number == nbb_cell_id) {\n",
       "                        if (nbb_cells[i].get_text() == nbb_unformatted_code) {\n",
       "                             nbb_cells[i].set_text(nbb_formatted_code);\n",
       "                        }\n",
       "                        break;\n",
       "                    }\n",
       "                }\n",
       "            }, 500);\n",
       "            "
      ],
      "text/plain": [
       "<IPython.core.display.Javascript object>"
      ]
     },
     "metadata": {},
     "output_type": "display_data"
    }
   ],
   "source": [
    "FEATRUES_TO_DROP = [\"Specific Gravity\", \"TiO2\"]\n",
    "df = df.drop(labels=FEATRUES_TO_DROP, axis=1)"
   ]
  },
  {
   "cell_type": "markdown",
   "id": "412f076b",
   "metadata": {},
   "source": [
    "### Dropping samples with Missing Values"
   ]
  },
  {
   "cell_type": "code",
   "execution_count": 15,
   "id": "0219f98d",
   "metadata": {},
   "outputs": [
    {
     "data": {
      "application/javascript": [
       "\n",
       "            setTimeout(function() {\n",
       "                var nbb_cell_id = 15;\n",
       "                var nbb_unformatted_code = \"df = df.dropna()\";\n",
       "                var nbb_formatted_code = \"df = df.dropna()\";\n",
       "                var nbb_cells = Jupyter.notebook.get_cells();\n",
       "                for (var i = 0; i < nbb_cells.length; ++i) {\n",
       "                    if (nbb_cells[i].input_prompt_number == nbb_cell_id) {\n",
       "                        if (nbb_cells[i].get_text() == nbb_unformatted_code) {\n",
       "                             nbb_cells[i].set_text(nbb_formatted_code);\n",
       "                        }\n",
       "                        break;\n",
       "                    }\n",
       "                }\n",
       "            }, 500);\n",
       "            "
      ],
      "text/plain": [
       "<IPython.core.display.Javascript object>"
      ]
     },
     "metadata": {},
     "output_type": "display_data"
    }
   ],
   "source": [
    "df = df.dropna()"
   ]
  },
  {
   "cell_type": "markdown",
   "id": "6bcc7bd6",
   "metadata": {},
   "source": [
    "### Dropping duplicated rows"
   ]
  },
  {
   "cell_type": "code",
   "execution_count": 16,
   "id": "58e9b055",
   "metadata": {},
   "outputs": [
    {
     "data": {
      "application/javascript": [
       "\n",
       "            setTimeout(function() {\n",
       "                var nbb_cell_id = 16;\n",
       "                var nbb_unformatted_code = \"df = df.reset_index(drop=True)\";\n",
       "                var nbb_formatted_code = \"df = df.reset_index(drop=True)\";\n",
       "                var nbb_cells = Jupyter.notebook.get_cells();\n",
       "                for (var i = 0; i < nbb_cells.length; ++i) {\n",
       "                    if (nbb_cells[i].input_prompt_number == nbb_cell_id) {\n",
       "                        if (nbb_cells[i].get_text() == nbb_unformatted_code) {\n",
       "                             nbb_cells[i].set_text(nbb_formatted_code);\n",
       "                        }\n",
       "                        break;\n",
       "                    }\n",
       "                }\n",
       "            }, 500);\n",
       "            "
      ],
      "text/plain": [
       "<IPython.core.display.Javascript object>"
      ]
     },
     "metadata": {},
     "output_type": "display_data"
    }
   ],
   "source": [
    "df = df.reset_index(drop=True)"
   ]
  },
  {
   "cell_type": "code",
   "execution_count": 17,
   "id": "6e05eb81",
   "metadata": {},
   "outputs": [
    {
     "data": {
      "text/plain": [
       "(1888, 22)"
      ]
     },
     "execution_count": 17,
     "metadata": {},
     "output_type": "execute_result"
    },
    {
     "data": {
      "application/javascript": [
       "\n",
       "            setTimeout(function() {\n",
       "                var nbb_cell_id = 17;\n",
       "                var nbb_unformatted_code = \"df.shape\";\n",
       "                var nbb_formatted_code = \"df.shape\";\n",
       "                var nbb_cells = Jupyter.notebook.get_cells();\n",
       "                for (var i = 0; i < nbb_cells.length; ++i) {\n",
       "                    if (nbb_cells[i].input_prompt_number == nbb_cell_id) {\n",
       "                        if (nbb_cells[i].get_text() == nbb_unformatted_code) {\n",
       "                             nbb_cells[i].set_text(nbb_formatted_code);\n",
       "                        }\n",
       "                        break;\n",
       "                    }\n",
       "                }\n",
       "            }, 500);\n",
       "            "
      ],
      "text/plain": [
       "<IPython.core.display.Javascript object>"
      ]
     },
     "metadata": {},
     "output_type": "display_data"
    }
   ],
   "source": [
    "df.shape"
   ]
  },
  {
   "cell_type": "code",
   "execution_count": 18,
   "id": "51b4c581",
   "metadata": {},
   "outputs": [
    {
     "data": {
      "application/javascript": [
       "\n",
       "            setTimeout(function() {\n",
       "                var nbb_cell_id = 18;\n",
       "                var nbb_unformatted_code = \"df = df.loc[df.select_dtypes(\\\"number\\\").drop_duplicates().index].reset_index(drop=True)\";\n",
       "                var nbb_formatted_code = \"df = df.loc[df.select_dtypes(\\\"number\\\").drop_duplicates().index].reset_index(drop=True)\";\n",
       "                var nbb_cells = Jupyter.notebook.get_cells();\n",
       "                for (var i = 0; i < nbb_cells.length; ++i) {\n",
       "                    if (nbb_cells[i].input_prompt_number == nbb_cell_id) {\n",
       "                        if (nbb_cells[i].get_text() == nbb_unformatted_code) {\n",
       "                             nbb_cells[i].set_text(nbb_formatted_code);\n",
       "                        }\n",
       "                        break;\n",
       "                    }\n",
       "                }\n",
       "            }, 500);\n",
       "            "
      ],
      "text/plain": [
       "<IPython.core.display.Javascript object>"
      ]
     },
     "metadata": {},
     "output_type": "display_data"
    }
   ],
   "source": [
    "df = df.loc[df.select_dtypes(\"number\").drop_duplicates().index].reset_index(drop=True)"
   ]
  },
  {
   "cell_type": "code",
   "execution_count": 19,
   "id": "57e5aad3",
   "metadata": {},
   "outputs": [
    {
     "data": {
      "text/plain": [
       "(1888, 22)"
      ]
     },
     "execution_count": 19,
     "metadata": {},
     "output_type": "execute_result"
    },
    {
     "data": {
      "application/javascript": [
       "\n",
       "            setTimeout(function() {\n",
       "                var nbb_cell_id = 19;\n",
       "                var nbb_unformatted_code = \"df.shape\";\n",
       "                var nbb_formatted_code = \"df.shape\";\n",
       "                var nbb_cells = Jupyter.notebook.get_cells();\n",
       "                for (var i = 0; i < nbb_cells.length; ++i) {\n",
       "                    if (nbb_cells[i].input_prompt_number == nbb_cell_id) {\n",
       "                        if (nbb_cells[i].get_text() == nbb_unformatted_code) {\n",
       "                             nbb_cells[i].set_text(nbb_formatted_code);\n",
       "                        }\n",
       "                        break;\n",
       "                    }\n",
       "                }\n",
       "            }, 500);\n",
       "            "
      ],
      "text/plain": [
       "<IPython.core.display.Javascript object>"
      ]
     },
     "metadata": {},
     "output_type": "display_data"
    }
   ],
   "source": [
    "df.shape"
   ]
  },
  {
   "cell_type": "markdown",
   "id": "4b11b735",
   "metadata": {},
   "source": [
    "### Dropping rows with negative values"
   ]
  },
  {
   "cell_type": "code",
   "execution_count": 20,
   "id": "6571d437",
   "metadata": {},
   "outputs": [
    {
     "data": {
      "text/plain": [
       "CaO                     0.0\n",
       "Blaine                  0.0\n",
       "CS7                     0.0\n",
       "CS3                     0.0\n",
       "CS1                     0.0\n",
       "Final setting time      0.0\n",
       "Initial setting time    0.0\n",
       "#325                    0.0\n",
       "#200                    0.0\n",
       "Insoluble Residue       0.0\n",
       "MgO                     0.0\n",
       "Loss on Ignition        0.0\n",
       "Fe2O3                   0.0\n",
       "K2O                     0.0\n",
       "SO3                     0.0\n",
       "SiO2                    0.0\n",
       "Al2O3                   0.0\n",
       "Na2O                    0.0\n",
       "CS28                    0.0\n",
       "dtype: float64"
      ]
     },
     "execution_count": 20,
     "metadata": {},
     "output_type": "execute_result"
    },
    {
     "data": {
      "application/javascript": [
       "\n",
       "            setTimeout(function() {\n",
       "                var nbb_cell_id = 20;\n",
       "                var nbb_unformatted_code = \"df[df.drop([\\\"Date\\\"], axis=1).duplicated()].drop(\\\"Date\\\", axis=1).select_dtypes(\\n    include=\\\"number\\\"\\n).apply(lambda x: x < 0).sum().sort_values(ascending=False)\";\n",
       "                var nbb_formatted_code = \"df[df.drop([\\\"Date\\\"], axis=1).duplicated()].drop(\\\"Date\\\", axis=1).select_dtypes(\\n    include=\\\"number\\\"\\n).apply(lambda x: x < 0).sum().sort_values(ascending=False)\";\n",
       "                var nbb_cells = Jupyter.notebook.get_cells();\n",
       "                for (var i = 0; i < nbb_cells.length; ++i) {\n",
       "                    if (nbb_cells[i].input_prompt_number == nbb_cell_id) {\n",
       "                        if (nbb_cells[i].get_text() == nbb_unformatted_code) {\n",
       "                             nbb_cells[i].set_text(nbb_formatted_code);\n",
       "                        }\n",
       "                        break;\n",
       "                    }\n",
       "                }\n",
       "            }, 500);\n",
       "            "
      ],
      "text/plain": [
       "<IPython.core.display.Javascript object>"
      ]
     },
     "metadata": {},
     "output_type": "display_data"
    }
   ],
   "source": [
    "df[df.drop([\"Date\"], axis=1).duplicated()].drop(\"Date\", axis=1).select_dtypes(\n",
    "    include=\"number\"\n",
    ").apply(lambda x: x < 0).sum().sort_values(ascending=False)"
   ]
  },
  {
   "cell_type": "markdown",
   "id": "41fec038",
   "metadata": {},
   "source": [
    "### Dropping rows with zero values"
   ]
  },
  {
   "cell_type": "code",
   "execution_count": 21,
   "id": "3150296a",
   "metadata": {},
   "outputs": [
    {
     "data": {
      "text/plain": [
       "CaO                     0.0\n",
       "Blaine                  0.0\n",
       "CS7                     0.0\n",
       "CS3                     0.0\n",
       "CS1                     0.0\n",
       "Final setting time      0.0\n",
       "Initial setting time    0.0\n",
       "#325                    0.0\n",
       "#200                    0.0\n",
       "Insoluble Residue       0.0\n",
       "MgO                     0.0\n",
       "Loss on Ignition        0.0\n",
       "Fe2O3                   0.0\n",
       "K2O                     0.0\n",
       "SO3                     0.0\n",
       "SiO2                    0.0\n",
       "Al2O3                   0.0\n",
       "Na2O                    0.0\n",
       "CS28                    0.0\n",
       "dtype: float64"
      ]
     },
     "execution_count": 21,
     "metadata": {},
     "output_type": "execute_result"
    },
    {
     "data": {
      "application/javascript": [
       "\n",
       "            setTimeout(function() {\n",
       "                var nbb_cell_id = 21;\n",
       "                var nbb_unformatted_code = \"df[df.drop([\\\"Date\\\"], axis=1).duplicated()].drop(\\\"Date\\\", axis=1).select_dtypes(\\n    include=\\\"number\\\"\\n).apply(lambda x: x == 0).sum().sort_values(ascending=False)\";\n",
       "                var nbb_formatted_code = \"df[df.drop([\\\"Date\\\"], axis=1).duplicated()].drop(\\\"Date\\\", axis=1).select_dtypes(\\n    include=\\\"number\\\"\\n).apply(lambda x: x == 0).sum().sort_values(ascending=False)\";\n",
       "                var nbb_cells = Jupyter.notebook.get_cells();\n",
       "                for (var i = 0; i < nbb_cells.length; ++i) {\n",
       "                    if (nbb_cells[i].input_prompt_number == nbb_cell_id) {\n",
       "                        if (nbb_cells[i].get_text() == nbb_unformatted_code) {\n",
       "                             nbb_cells[i].set_text(nbb_formatted_code);\n",
       "                        }\n",
       "                        break;\n",
       "                    }\n",
       "                }\n",
       "            }, 500);\n",
       "            "
      ],
      "text/plain": [
       "<IPython.core.display.Javascript object>"
      ]
     },
     "metadata": {},
     "output_type": "display_data"
    }
   ],
   "source": [
    "df[df.drop([\"Date\"], axis=1).duplicated()].drop(\"Date\", axis=1).select_dtypes(\n",
    "    include=\"number\"\n",
    ").apply(lambda x: x == 0).sum().sort_values(ascending=False)"
   ]
  },
  {
   "cell_type": "markdown",
   "id": "49325635",
   "metadata": {},
   "source": [
    "### Drop rows where the target variable is null"
   ]
  },
  {
   "cell_type": "code",
   "execution_count": 22,
   "id": "372239a1",
   "metadata": {},
   "outputs": [
    {
     "data": {
      "application/javascript": [
       "\n",
       "            setTimeout(function() {\n",
       "                var nbb_cell_id = 22;\n",
       "                var nbb_unformatted_code = \"df = df[df[\\\"CS28\\\"].notna()]\";\n",
       "                var nbb_formatted_code = \"df = df[df[\\\"CS28\\\"].notna()]\";\n",
       "                var nbb_cells = Jupyter.notebook.get_cells();\n",
       "                for (var i = 0; i < nbb_cells.length; ++i) {\n",
       "                    if (nbb_cells[i].input_prompt_number == nbb_cell_id) {\n",
       "                        if (nbb_cells[i].get_text() == nbb_unformatted_code) {\n",
       "                             nbb_cells[i].set_text(nbb_formatted_code);\n",
       "                        }\n",
       "                        break;\n",
       "                    }\n",
       "                }\n",
       "            }, 500);\n",
       "            "
      ],
      "text/plain": [
       "<IPython.core.display.Javascript object>"
      ]
     },
     "metadata": {},
     "output_type": "display_data"
    }
   ],
   "source": [
    "df = df[df[\"CS28\"].notna()]"
   ]
  },
  {
   "cell_type": "code",
   "execution_count": 23,
   "id": "e4220cd0",
   "metadata": {},
   "outputs": [
    {
     "data": {
      "text/html": [
       "<style type=\"text/css\">\n",
       "#T_e7b88_row0_col0, #T_e7b88_row1_col0, #T_e7b88_row2_col0, #T_e7b88_row3_col0, #T_e7b88_row4_col0, #T_e7b88_row5_col0, #T_e7b88_row6_col0, #T_e7b88_row7_col0, #T_e7b88_row8_col0, #T_e7b88_row9_col0, #T_e7b88_row10_col0, #T_e7b88_row11_col0, #T_e7b88_row12_col0, #T_e7b88_row13_col0, #T_e7b88_row14_col0, #T_e7b88_row15_col0, #T_e7b88_row16_col0, #T_e7b88_row17_col0, #T_e7b88_row18_col0, #T_e7b88_row19_col0, #T_e7b88_row20_col0, #T_e7b88_row21_col0 {\n",
       "  background-color: #fff5f0;\n",
       "  color: #000000;\n",
       "}\n",
       "</style>\n",
       "<table id=\"T_e7b88\">\n",
       "  <thead>\n",
       "    <tr>\n",
       "      <th class=\"blank level0\" >&nbsp;</th>\n",
       "      <th id=\"T_e7b88_level0_col0\" class=\"col_heading level0 col0\" >Missing (%)</th>\n",
       "    </tr>\n",
       "  </thead>\n",
       "  <tbody>\n",
       "    <tr>\n",
       "      <th id=\"T_e7b88_level0_row0\" class=\"row_heading level0 row0\" >Plant</th>\n",
       "      <td id=\"T_e7b88_row0_col0\" class=\"data row0 col0\" >0.000000</td>\n",
       "    </tr>\n",
       "    <tr>\n",
       "      <th id=\"T_e7b88_level0_row1\" class=\"row_heading level0 row1\" >Date</th>\n",
       "      <td id=\"T_e7b88_row1_col0\" class=\"data row1 col0\" >0.000000</td>\n",
       "    </tr>\n",
       "    <tr>\n",
       "      <th id=\"T_e7b88_level0_row2\" class=\"row_heading level0 row2\" >CS28</th>\n",
       "      <td id=\"T_e7b88_row2_col0\" class=\"data row2 col0\" >0.000000</td>\n",
       "    </tr>\n",
       "    <tr>\n",
       "      <th id=\"T_e7b88_level0_row3\" class=\"row_heading level0 row3\" >CS7</th>\n",
       "      <td id=\"T_e7b88_row3_col0\" class=\"data row3 col0\" >0.000000</td>\n",
       "    </tr>\n",
       "    <tr>\n",
       "      <th id=\"T_e7b88_level0_row4\" class=\"row_heading level0 row4\" >CS3</th>\n",
       "      <td id=\"T_e7b88_row4_col0\" class=\"data row4 col0\" >0.000000</td>\n",
       "    </tr>\n",
       "    <tr>\n",
       "      <th id=\"T_e7b88_level0_row5\" class=\"row_heading level0 row5\" >CS1</th>\n",
       "      <td id=\"T_e7b88_row5_col0\" class=\"data row5 col0\" >0.000000</td>\n",
       "    </tr>\n",
       "    <tr>\n",
       "      <th id=\"T_e7b88_level0_row6\" class=\"row_heading level0 row6\" >Final setting time</th>\n",
       "      <td id=\"T_e7b88_row6_col0\" class=\"data row6 col0\" >0.000000</td>\n",
       "    </tr>\n",
       "    <tr>\n",
       "      <th id=\"T_e7b88_level0_row7\" class=\"row_heading level0 row7\" >Initial setting time</th>\n",
       "      <td id=\"T_e7b88_row7_col0\" class=\"data row7 col0\" >0.000000</td>\n",
       "    </tr>\n",
       "    <tr>\n",
       "      <th id=\"T_e7b88_level0_row8\" class=\"row_heading level0 row8\" >#325</th>\n",
       "      <td id=\"T_e7b88_row8_col0\" class=\"data row8 col0\" >0.000000</td>\n",
       "    </tr>\n",
       "    <tr>\n",
       "      <th id=\"T_e7b88_level0_row9\" class=\"row_heading level0 row9\" >#200</th>\n",
       "      <td id=\"T_e7b88_row9_col0\" class=\"data row9 col0\" >0.000000</td>\n",
       "    </tr>\n",
       "    <tr>\n",
       "      <th id=\"T_e7b88_level0_row10\" class=\"row_heading level0 row10\" >Blaine</th>\n",
       "      <td id=\"T_e7b88_row10_col0\" class=\"data row10 col0\" >0.000000</td>\n",
       "    </tr>\n",
       "    <tr>\n",
       "      <th id=\"T_e7b88_level0_row11\" class=\"row_heading level0 row11\" >Insoluble Residue</th>\n",
       "      <td id=\"T_e7b88_row11_col0\" class=\"data row11 col0\" >0.000000</td>\n",
       "    </tr>\n",
       "    <tr>\n",
       "      <th id=\"T_e7b88_level0_row12\" class=\"row_heading level0 row12\" >Loss on Ignition</th>\n",
       "      <td id=\"T_e7b88_row12_col0\" class=\"data row12 col0\" >0.000000</td>\n",
       "    </tr>\n",
       "    <tr>\n",
       "      <th id=\"T_e7b88_level0_row13\" class=\"row_heading level0 row13\" >Fe2O3</th>\n",
       "      <td id=\"T_e7b88_row13_col0\" class=\"data row13 col0\" >0.000000</td>\n",
       "    </tr>\n",
       "    <tr>\n",
       "      <th id=\"T_e7b88_level0_row14\" class=\"row_heading level0 row14\" >K2O</th>\n",
       "      <td id=\"T_e7b88_row14_col0\" class=\"data row14 col0\" >0.000000</td>\n",
       "    </tr>\n",
       "    <tr>\n",
       "      <th id=\"T_e7b88_level0_row15\" class=\"row_heading level0 row15\" >SO3</th>\n",
       "      <td id=\"T_e7b88_row15_col0\" class=\"data row15 col0\" >0.000000</td>\n",
       "    </tr>\n",
       "    <tr>\n",
       "      <th id=\"T_e7b88_level0_row16\" class=\"row_heading level0 row16\" >SiO2</th>\n",
       "      <td id=\"T_e7b88_row16_col0\" class=\"data row16 col0\" >0.000000</td>\n",
       "    </tr>\n",
       "    <tr>\n",
       "      <th id=\"T_e7b88_level0_row17\" class=\"row_heading level0 row17\" >Al2O3</th>\n",
       "      <td id=\"T_e7b88_row17_col0\" class=\"data row17 col0\" >0.000000</td>\n",
       "    </tr>\n",
       "    <tr>\n",
       "      <th id=\"T_e7b88_level0_row18\" class=\"row_heading level0 row18\" >Na2O</th>\n",
       "      <td id=\"T_e7b88_row18_col0\" class=\"data row18 col0\" >0.000000</td>\n",
       "    </tr>\n",
       "    <tr>\n",
       "      <th id=\"T_e7b88_level0_row19\" class=\"row_heading level0 row19\" >MgO</th>\n",
       "      <td id=\"T_e7b88_row19_col0\" class=\"data row19 col0\" >0.000000</td>\n",
       "    </tr>\n",
       "    <tr>\n",
       "      <th id=\"T_e7b88_level0_row20\" class=\"row_heading level0 row20\" >CaO</th>\n",
       "      <td id=\"T_e7b88_row20_col0\" class=\"data row20 col0\" >0.000000</td>\n",
       "    </tr>\n",
       "    <tr>\n",
       "      <th id=\"T_e7b88_level0_row21\" class=\"row_heading level0 row21\" >Cement_Type</th>\n",
       "      <td id=\"T_e7b88_row21_col0\" class=\"data row21 col0\" >0.000000</td>\n",
       "    </tr>\n",
       "  </tbody>\n",
       "</table>\n"
      ],
      "text/plain": [
       "<pandas.io.formats.style.Styler at 0x748989119960>"
      ]
     },
     "execution_count": 23,
     "metadata": {},
     "output_type": "execute_result"
    },
    {
     "data": {
      "application/javascript": [
       "\n",
       "            setTimeout(function() {\n",
       "                var nbb_cell_id = 23;\n",
       "                var nbb_unformatted_code = \"(df.isna().sum() / df.shape[0] * 100).sort_values(ascending=False).to_frame(\\n    name=\\\"Missing (%)\\\"\\n).style.background_gradient(cmap=\\\"Reds\\\")\";\n",
       "                var nbb_formatted_code = \"(df.isna().sum() / df.shape[0] * 100).sort_values(ascending=False).to_frame(\\n    name=\\\"Missing (%)\\\"\\n).style.background_gradient(cmap=\\\"Reds\\\")\";\n",
       "                var nbb_cells = Jupyter.notebook.get_cells();\n",
       "                for (var i = 0; i < nbb_cells.length; ++i) {\n",
       "                    if (nbb_cells[i].input_prompt_number == nbb_cell_id) {\n",
       "                        if (nbb_cells[i].get_text() == nbb_unformatted_code) {\n",
       "                             nbb_cells[i].set_text(nbb_formatted_code);\n",
       "                        }\n",
       "                        break;\n",
       "                    }\n",
       "                }\n",
       "            }, 500);\n",
       "            "
      ],
      "text/plain": [
       "<IPython.core.display.Javascript object>"
      ]
     },
     "metadata": {},
     "output_type": "display_data"
    }
   ],
   "source": [
    "(df.isna().sum() / df.shape[0] * 100).sort_values(ascending=False).to_frame(\n",
    "    name=\"Missing (%)\"\n",
    ").style.background_gradient(cmap=\"Reds\")"
   ]
  },
  {
   "cell_type": "markdown",
   "id": "f7093c73",
   "metadata": {},
   "source": [
    "### Removing outliers"
   ]
  },
  {
   "cell_type": "code",
   "execution_count": 24,
   "id": "4dfbe944",
   "metadata": {},
   "outputs": [
    {
     "data": {
      "text/html": [
       "<div>\n",
       "<style scoped>\n",
       "    .dataframe tbody tr th:only-of-type {\n",
       "        vertical-align: middle;\n",
       "    }\n",
       "\n",
       "    .dataframe tbody tr th {\n",
       "        vertical-align: top;\n",
       "    }\n",
       "\n",
       "    .dataframe thead th {\n",
       "        text-align: right;\n",
       "    }\n",
       "</style>\n",
       "<table border=\"1\" class=\"dataframe\">\n",
       "  <thead>\n",
       "    <tr style=\"text-align: right;\">\n",
       "      <th></th>\n",
       "      <th>count</th>\n",
       "      <th>mean</th>\n",
       "      <th>min</th>\n",
       "      <th>25%</th>\n",
       "      <th>50%</th>\n",
       "      <th>75%</th>\n",
       "      <th>max</th>\n",
       "      <th>std</th>\n",
       "    </tr>\n",
       "  </thead>\n",
       "  <tbody>\n",
       "    <tr>\n",
       "      <th>Date</th>\n",
       "      <td>1888</td>\n",
       "      <td>2020-07-28 00:12:45.190678016</td>\n",
       "      <td>2017-12-06 15:00:00</td>\n",
       "      <td>2019-05-15 13:00:00</td>\n",
       "      <td>2020-08-02 12:43:00</td>\n",
       "      <td>2021-10-09 14:51:15</td>\n",
       "      <td>2023-03-29 13:06:00</td>\n",
       "      <td>NaN</td>\n",
       "    </tr>\n",
       "    <tr>\n",
       "      <th>CaO</th>\n",
       "      <td>1888.0</td>\n",
       "      <td>55.781414</td>\n",
       "      <td>45.74</td>\n",
       "      <td>51.2675</td>\n",
       "      <td>52.675</td>\n",
       "      <td>62.1125</td>\n",
       "      <td>65.27</td>\n",
       "      <td>5.410552</td>\n",
       "    </tr>\n",
       "    <tr>\n",
       "      <th>MgO</th>\n",
       "      <td>1888.0</td>\n",
       "      <td>1.985371</td>\n",
       "      <td>0.42</td>\n",
       "      <td>0.79</td>\n",
       "      <td>2.29</td>\n",
       "      <td>2.88</td>\n",
       "      <td>4.37</td>\n",
       "      <td>1.050936</td>\n",
       "    </tr>\n",
       "    <tr>\n",
       "      <th>Na2O</th>\n",
       "      <td>1888.0</td>\n",
       "      <td>0.109783</td>\n",
       "      <td>0.0</td>\n",
       "      <td>0.07</td>\n",
       "      <td>0.1</td>\n",
       "      <td>0.14</td>\n",
       "      <td>0.49</td>\n",
       "      <td>0.058383</td>\n",
       "    </tr>\n",
       "    <tr>\n",
       "      <th>Al2O3</th>\n",
       "      <td>1888.0</td>\n",
       "      <td>6.265625</td>\n",
       "      <td>4.38</td>\n",
       "      <td>5.23</td>\n",
       "      <td>6.32</td>\n",
       "      <td>7.15</td>\n",
       "      <td>9.43</td>\n",
       "      <td>1.016592</td>\n",
       "    </tr>\n",
       "    <tr>\n",
       "      <th>SiO2</th>\n",
       "      <td>1888.0</td>\n",
       "      <td>23.388596</td>\n",
       "      <td>17.18</td>\n",
       "      <td>19.3975</td>\n",
       "      <td>24.995</td>\n",
       "      <td>26.33</td>\n",
       "      <td>30.5</td>\n",
       "      <td>3.676792</td>\n",
       "    </tr>\n",
       "    <tr>\n",
       "      <th>SO3</th>\n",
       "      <td>1888.0</td>\n",
       "      <td>2.474417</td>\n",
       "      <td>1.35</td>\n",
       "      <td>1.94</td>\n",
       "      <td>2.19</td>\n",
       "      <td>3.14</td>\n",
       "      <td>4.16</td>\n",
       "      <td>0.632725</td>\n",
       "    </tr>\n",
       "    <tr>\n",
       "      <th>K2O</th>\n",
       "      <td>1888.0</td>\n",
       "      <td>0.67312</td>\n",
       "      <td>0.47</td>\n",
       "      <td>0.62</td>\n",
       "      <td>0.68</td>\n",
       "      <td>0.73</td>\n",
       "      <td>0.95</td>\n",
       "      <td>0.078252</td>\n",
       "    </tr>\n",
       "    <tr>\n",
       "      <th>Fe2O3</th>\n",
       "      <td>1888.0</td>\n",
       "      <td>2.580837</td>\n",
       "      <td>1.22</td>\n",
       "      <td>2.16</td>\n",
       "      <td>2.63</td>\n",
       "      <td>2.89</td>\n",
       "      <td>5.74</td>\n",
       "      <td>0.519324</td>\n",
       "    </tr>\n",
       "    <tr>\n",
       "      <th>Loss on Ignition</th>\n",
       "      <td>1888.0</td>\n",
       "      <td>5.323972</td>\n",
       "      <td>1.92</td>\n",
       "      <td>4.7075</td>\n",
       "      <td>5.24</td>\n",
       "      <td>6.2</td>\n",
       "      <td>8.48</td>\n",
       "      <td>1.221323</td>\n",
       "    </tr>\n",
       "    <tr>\n",
       "      <th>Insoluble Residue</th>\n",
       "      <td>1888.0</td>\n",
       "      <td>1.154825</td>\n",
       "      <td>0.16</td>\n",
       "      <td>0.69</td>\n",
       "      <td>1.055</td>\n",
       "      <td>1.49</td>\n",
       "      <td>4.52</td>\n",
       "      <td>0.56932</td>\n",
       "    </tr>\n",
       "    <tr>\n",
       "      <th>Blaine</th>\n",
       "      <td>1888.0</td>\n",
       "      <td>4387.733051</td>\n",
       "      <td>3190.0</td>\n",
       "      <td>3950.0</td>\n",
       "      <td>4290.0</td>\n",
       "      <td>4800.0</td>\n",
       "      <td>6080.0</td>\n",
       "      <td>574.279806</td>\n",
       "    </tr>\n",
       "    <tr>\n",
       "      <th>#200</th>\n",
       "      <td>1888.0</td>\n",
       "      <td>1.45009</td>\n",
       "      <td>0.11</td>\n",
       "      <td>0.65</td>\n",
       "      <td>1.24</td>\n",
       "      <td>2.09</td>\n",
       "      <td>4.78</td>\n",
       "      <td>0.945379</td>\n",
       "    </tr>\n",
       "    <tr>\n",
       "      <th>#325</th>\n",
       "      <td>1888.0</td>\n",
       "      <td>6.211006</td>\n",
       "      <td>0.52</td>\n",
       "      <td>3.78</td>\n",
       "      <td>6.15</td>\n",
       "      <td>8.3325</td>\n",
       "      <td>14.8</td>\n",
       "      <td>2.817298</td>\n",
       "    </tr>\n",
       "    <tr>\n",
       "      <th>Initial setting time</th>\n",
       "      <td>1888.0</td>\n",
       "      <td>189.351165</td>\n",
       "      <td>120.0</td>\n",
       "      <td>160.0</td>\n",
       "      <td>195.0</td>\n",
       "      <td>210.0</td>\n",
       "      <td>285.0</td>\n",
       "      <td>31.585301</td>\n",
       "    </tr>\n",
       "    <tr>\n",
       "      <th>Final setting time</th>\n",
       "      <td>1888.0</td>\n",
       "      <td>224.222643</td>\n",
       "      <td>2.35</td>\n",
       "      <td>190.0</td>\n",
       "      <td>230.0</td>\n",
       "      <td>250.0</td>\n",
       "      <td>350.0</td>\n",
       "      <td>36.409881</td>\n",
       "    </tr>\n",
       "    <tr>\n",
       "      <th>CS1</th>\n",
       "      <td>1888.0</td>\n",
       "      <td>14.945794</td>\n",
       "      <td>4.48</td>\n",
       "      <td>7.33</td>\n",
       "      <td>9.1</td>\n",
       "      <td>24.63</td>\n",
       "      <td>31.73</td>\n",
       "      <td>8.973512</td>\n",
       "    </tr>\n",
       "    <tr>\n",
       "      <th>CS3</th>\n",
       "      <td>1888.0</td>\n",
       "      <td>23.874449</td>\n",
       "      <td>10.4</td>\n",
       "      <td>14.68</td>\n",
       "      <td>17.15</td>\n",
       "      <td>34.85</td>\n",
       "      <td>48.13</td>\n",
       "      <td>10.818686</td>\n",
       "    </tr>\n",
       "    <tr>\n",
       "      <th>CS7</th>\n",
       "      <td>1888.0</td>\n",
       "      <td>30.458792</td>\n",
       "      <td>17.33</td>\n",
       "      <td>21.15</td>\n",
       "      <td>23.93</td>\n",
       "      <td>40.98</td>\n",
       "      <td>51.8</td>\n",
       "      <td>10.454826</td>\n",
       "    </tr>\n",
       "    <tr>\n",
       "      <th>CS28</th>\n",
       "      <td>1888.0</td>\n",
       "      <td>42.902934</td>\n",
       "      <td>29.6</td>\n",
       "      <td>35.4</td>\n",
       "      <td>40.58</td>\n",
       "      <td>50.18</td>\n",
       "      <td>60.73</td>\n",
       "      <td>7.910753</td>\n",
       "    </tr>\n",
       "  </tbody>\n",
       "</table>\n",
       "</div>"
      ],
      "text/plain": [
       "                       count                           mean  \\\n",
       "Date                    1888  2020-07-28 00:12:45.190678016   \n",
       "CaO                   1888.0                      55.781414   \n",
       "MgO                   1888.0                       1.985371   \n",
       "Na2O                  1888.0                       0.109783   \n",
       "Al2O3                 1888.0                       6.265625   \n",
       "SiO2                  1888.0                      23.388596   \n",
       "SO3                   1888.0                       2.474417   \n",
       "K2O                   1888.0                        0.67312   \n",
       "Fe2O3                 1888.0                       2.580837   \n",
       "Loss on Ignition      1888.0                       5.323972   \n",
       "Insoluble Residue     1888.0                       1.154825   \n",
       "Blaine                1888.0                    4387.733051   \n",
       "#200                  1888.0                        1.45009   \n",
       "#325                  1888.0                       6.211006   \n",
       "Initial setting time  1888.0                     189.351165   \n",
       "Final setting time    1888.0                     224.222643   \n",
       "CS1                   1888.0                      14.945794   \n",
       "CS3                   1888.0                      23.874449   \n",
       "CS7                   1888.0                      30.458792   \n",
       "CS28                  1888.0                      42.902934   \n",
       "\n",
       "                                      min                  25%  \\\n",
       "Date                  2017-12-06 15:00:00  2019-05-15 13:00:00   \n",
       "CaO                                 45.74              51.2675   \n",
       "MgO                                  0.42                 0.79   \n",
       "Na2O                                  0.0                 0.07   \n",
       "Al2O3                                4.38                 5.23   \n",
       "SiO2                                17.18              19.3975   \n",
       "SO3                                  1.35                 1.94   \n",
       "K2O                                  0.47                 0.62   \n",
       "Fe2O3                                1.22                 2.16   \n",
       "Loss on Ignition                     1.92               4.7075   \n",
       "Insoluble Residue                    0.16                 0.69   \n",
       "Blaine                             3190.0               3950.0   \n",
       "#200                                 0.11                 0.65   \n",
       "#325                                 0.52                 3.78   \n",
       "Initial setting time                120.0                160.0   \n",
       "Final setting time                   2.35                190.0   \n",
       "CS1                                  4.48                 7.33   \n",
       "CS3                                  10.4                14.68   \n",
       "CS7                                 17.33                21.15   \n",
       "CS28                                 29.6                 35.4   \n",
       "\n",
       "                                      50%                  75%  \\\n",
       "Date                  2020-08-02 12:43:00  2021-10-09 14:51:15   \n",
       "CaO                                52.675              62.1125   \n",
       "MgO                                  2.29                 2.88   \n",
       "Na2O                                  0.1                 0.14   \n",
       "Al2O3                                6.32                 7.15   \n",
       "SiO2                               24.995                26.33   \n",
       "SO3                                  2.19                 3.14   \n",
       "K2O                                  0.68                 0.73   \n",
       "Fe2O3                                2.63                 2.89   \n",
       "Loss on Ignition                     5.24                  6.2   \n",
       "Insoluble Residue                   1.055                 1.49   \n",
       "Blaine                             4290.0               4800.0   \n",
       "#200                                 1.24                 2.09   \n",
       "#325                                 6.15               8.3325   \n",
       "Initial setting time                195.0                210.0   \n",
       "Final setting time                  230.0                250.0   \n",
       "CS1                                   9.1                24.63   \n",
       "CS3                                 17.15                34.85   \n",
       "CS7                                 23.93                40.98   \n",
       "CS28                                40.58                50.18   \n",
       "\n",
       "                                      max         std  \n",
       "Date                  2023-03-29 13:06:00         NaN  \n",
       "CaO                                 65.27    5.410552  \n",
       "MgO                                  4.37    1.050936  \n",
       "Na2O                                 0.49    0.058383  \n",
       "Al2O3                                9.43    1.016592  \n",
       "SiO2                                 30.5    3.676792  \n",
       "SO3                                  4.16    0.632725  \n",
       "K2O                                  0.95    0.078252  \n",
       "Fe2O3                                5.74    0.519324  \n",
       "Loss on Ignition                     8.48    1.221323  \n",
       "Insoluble Residue                    4.52     0.56932  \n",
       "Blaine                             6080.0  574.279806  \n",
       "#200                                 4.78    0.945379  \n",
       "#325                                 14.8    2.817298  \n",
       "Initial setting time                285.0   31.585301  \n",
       "Final setting time                  350.0   36.409881  \n",
       "CS1                                 31.73    8.973512  \n",
       "CS3                                 48.13   10.818686  \n",
       "CS7                                  51.8   10.454826  \n",
       "CS28                                60.73    7.910753  "
      ]
     },
     "execution_count": 24,
     "metadata": {},
     "output_type": "execute_result"
    },
    {
     "data": {
      "application/javascript": [
       "\n",
       "            setTimeout(function() {\n",
       "                var nbb_cell_id = 24;\n",
       "                var nbb_unformatted_code = \"# df.describe(percentiles=[0.25, 0.5, 0.75, 0.8, 0.85, 0.9, 0.95, 0.99]).T\\ndf.describe().T\";\n",
       "                var nbb_formatted_code = \"# df.describe(percentiles=[0.25, 0.5, 0.75, 0.8, 0.85, 0.9, 0.95, 0.99]).T\\ndf.describe().T\";\n",
       "                var nbb_cells = Jupyter.notebook.get_cells();\n",
       "                for (var i = 0; i < nbb_cells.length; ++i) {\n",
       "                    if (nbb_cells[i].input_prompt_number == nbb_cell_id) {\n",
       "                        if (nbb_cells[i].get_text() == nbb_unformatted_code) {\n",
       "                             nbb_cells[i].set_text(nbb_formatted_code);\n",
       "                        }\n",
       "                        break;\n",
       "                    }\n",
       "                }\n",
       "            }, 500);\n",
       "            "
      ],
      "text/plain": [
       "<IPython.core.display.Javascript object>"
      ]
     },
     "metadata": {},
     "output_type": "display_data"
    }
   ],
   "source": [
    "# df.describe(percentiles=[0.25, 0.5, 0.75, 0.8, 0.85, 0.9, 0.95, 0.99]).T\n",
    "df.describe().T"
   ]
  },
  {
   "cell_type": "code",
   "execution_count": 25,
   "id": "13da4451",
   "metadata": {},
   "outputs": [
    {
     "data": {
      "application/javascript": [
       "\n",
       "            setTimeout(function() {\n",
       "                var nbb_cell_id = 25;\n",
       "                var nbb_unformatted_code = \"df = df[~df[\\\"Na2O\\\"].eq(df[\\\"Na2O\\\"].max())]\\ndf = df[~df[\\\"Final setting time\\\"].eq(df[\\\"Final setting time\\\"].min())]\";\n",
       "                var nbb_formatted_code = \"df = df[~df[\\\"Na2O\\\"].eq(df[\\\"Na2O\\\"].max())]\\ndf = df[~df[\\\"Final setting time\\\"].eq(df[\\\"Final setting time\\\"].min())]\";\n",
       "                var nbb_cells = Jupyter.notebook.get_cells();\n",
       "                for (var i = 0; i < nbb_cells.length; ++i) {\n",
       "                    if (nbb_cells[i].input_prompt_number == nbb_cell_id) {\n",
       "                        if (nbb_cells[i].get_text() == nbb_unformatted_code) {\n",
       "                             nbb_cells[i].set_text(nbb_formatted_code);\n",
       "                        }\n",
       "                        break;\n",
       "                    }\n",
       "                }\n",
       "            }, 500);\n",
       "            "
      ],
      "text/plain": [
       "<IPython.core.display.Javascript object>"
      ]
     },
     "metadata": {},
     "output_type": "display_data"
    }
   ],
   "source": [
    "df = df[~df[\"Na2O\"].eq(df[\"Na2O\"].max())]\n",
    "df = df[~df[\"Final setting time\"].eq(df[\"Final setting time\"].min())]"
   ]
  },
  {
   "cell_type": "code",
   "execution_count": 26,
   "id": "5f888da2",
   "metadata": {},
   "outputs": [
    {
     "data": {
      "text/html": [
       "<div>\n",
       "<style scoped>\n",
       "    .dataframe tbody tr th:only-of-type {\n",
       "        vertical-align: middle;\n",
       "    }\n",
       "\n",
       "    .dataframe tbody tr th {\n",
       "        vertical-align: top;\n",
       "    }\n",
       "\n",
       "    .dataframe thead th {\n",
       "        text-align: right;\n",
       "    }\n",
       "</style>\n",
       "<table border=\"1\" class=\"dataframe\">\n",
       "  <thead>\n",
       "    <tr style=\"text-align: right;\">\n",
       "      <th></th>\n",
       "      <th>count</th>\n",
       "      <th>mean</th>\n",
       "      <th>min</th>\n",
       "      <th>25%</th>\n",
       "      <th>50%</th>\n",
       "      <th>75%</th>\n",
       "      <th>max</th>\n",
       "      <th>std</th>\n",
       "    </tr>\n",
       "  </thead>\n",
       "  <tbody>\n",
       "    <tr>\n",
       "      <th>Date</th>\n",
       "      <td>1886</td>\n",
       "      <td>2020-07-28 12:01:55.259809280</td>\n",
       "      <td>2017-12-06 15:00:00</td>\n",
       "      <td>2019-05-15 18:45:00</td>\n",
       "      <td>2020-08-02 12:43:00</td>\n",
       "      <td>2021-10-09 14:51:45</td>\n",
       "      <td>2023-03-29 13:06:00</td>\n",
       "      <td>NaN</td>\n",
       "    </tr>\n",
       "    <tr>\n",
       "      <th>CaO</th>\n",
       "      <td>1886.0</td>\n",
       "      <td>55.779242</td>\n",
       "      <td>45.74</td>\n",
       "      <td>51.2625</td>\n",
       "      <td>52.665</td>\n",
       "      <td>62.1175</td>\n",
       "      <td>65.27</td>\n",
       "      <td>5.411256</td>\n",
       "    </tr>\n",
       "    <tr>\n",
       "      <th>MgO</th>\n",
       "      <td>1886.0</td>\n",
       "      <td>1.985896</td>\n",
       "      <td>0.42</td>\n",
       "      <td>0.79</td>\n",
       "      <td>2.295</td>\n",
       "      <td>2.88</td>\n",
       "      <td>4.37</td>\n",
       "      <td>1.051063</td>\n",
       "    </tr>\n",
       "    <tr>\n",
       "      <th>Na2O</th>\n",
       "      <td>1886.0</td>\n",
       "      <td>0.109597</td>\n",
       "      <td>0.0</td>\n",
       "      <td>0.07</td>\n",
       "      <td>0.1</td>\n",
       "      <td>0.14</td>\n",
       "      <td>0.47</td>\n",
       "      <td>0.05775</td>\n",
       "    </tr>\n",
       "    <tr>\n",
       "      <th>Al2O3</th>\n",
       "      <td>1886.0</td>\n",
       "      <td>6.266288</td>\n",
       "      <td>4.38</td>\n",
       "      <td>5.23</td>\n",
       "      <td>6.32</td>\n",
       "      <td>7.15</td>\n",
       "      <td>9.43</td>\n",
       "      <td>1.016896</td>\n",
       "    </tr>\n",
       "    <tr>\n",
       "      <th>SiO2</th>\n",
       "      <td>1886.0</td>\n",
       "      <td>23.390742</td>\n",
       "      <td>17.18</td>\n",
       "      <td>19.4</td>\n",
       "      <td>25.005</td>\n",
       "      <td>26.33</td>\n",
       "      <td>30.5</td>\n",
       "      <td>3.67743</td>\n",
       "    </tr>\n",
       "    <tr>\n",
       "      <th>SO3</th>\n",
       "      <td>1886.0</td>\n",
       "      <td>2.474178</td>\n",
       "      <td>1.35</td>\n",
       "      <td>1.94</td>\n",
       "      <td>2.19</td>\n",
       "      <td>3.14</td>\n",
       "      <td>4.16</td>\n",
       "      <td>0.632909</td>\n",
       "    </tr>\n",
       "    <tr>\n",
       "      <th>K2O</th>\n",
       "      <td>1886.0</td>\n",
       "      <td>0.673086</td>\n",
       "      <td>0.47</td>\n",
       "      <td>0.62</td>\n",
       "      <td>0.68</td>\n",
       "      <td>0.73</td>\n",
       "      <td>0.95</td>\n",
       "      <td>0.078283</td>\n",
       "    </tr>\n",
       "    <tr>\n",
       "      <th>Fe2O3</th>\n",
       "      <td>1886.0</td>\n",
       "      <td>2.580764</td>\n",
       "      <td>1.22</td>\n",
       "      <td>2.16</td>\n",
       "      <td>2.63</td>\n",
       "      <td>2.89</td>\n",
       "      <td>5.74</td>\n",
       "      <td>0.519447</td>\n",
       "    </tr>\n",
       "    <tr>\n",
       "      <th>Loss on Ignition</th>\n",
       "      <td>1886.0</td>\n",
       "      <td>5.32351</td>\n",
       "      <td>1.92</td>\n",
       "      <td>4.71</td>\n",
       "      <td>5.24</td>\n",
       "      <td>6.2</td>\n",
       "      <td>8.48</td>\n",
       "      <td>1.219861</td>\n",
       "    </tr>\n",
       "    <tr>\n",
       "      <th>Insoluble Residue</th>\n",
       "      <td>1886.0</td>\n",
       "      <td>1.154899</td>\n",
       "      <td>0.16</td>\n",
       "      <td>0.69</td>\n",
       "      <td>1.055</td>\n",
       "      <td>1.49</td>\n",
       "      <td>4.52</td>\n",
       "      <td>0.569571</td>\n",
       "    </tr>\n",
       "    <tr>\n",
       "      <th>Blaine</th>\n",
       "      <td>1886.0</td>\n",
       "      <td>4387.502651</td>\n",
       "      <td>3190.0</td>\n",
       "      <td>3950.0</td>\n",
       "      <td>4290.0</td>\n",
       "      <td>4800.0</td>\n",
       "      <td>6080.0</td>\n",
       "      <td>574.515613</td>\n",
       "    </tr>\n",
       "    <tr>\n",
       "      <th>#200</th>\n",
       "      <td>1886.0</td>\n",
       "      <td>1.450721</td>\n",
       "      <td>0.11</td>\n",
       "      <td>0.65</td>\n",
       "      <td>1.24</td>\n",
       "      <td>2.09</td>\n",
       "      <td>4.78</td>\n",
       "      <td>0.945655</td>\n",
       "    </tr>\n",
       "    <tr>\n",
       "      <th>#325</th>\n",
       "      <td>1886.0</td>\n",
       "      <td>6.212582</td>\n",
       "      <td>0.52</td>\n",
       "      <td>3.78</td>\n",
       "      <td>6.15</td>\n",
       "      <td>8.3575</td>\n",
       "      <td>14.8</td>\n",
       "      <td>2.817566</td>\n",
       "    </tr>\n",
       "    <tr>\n",
       "      <th>Initial setting time</th>\n",
       "      <td>1886.0</td>\n",
       "      <td>189.358431</td>\n",
       "      <td>120.0</td>\n",
       "      <td>160.0</td>\n",
       "      <td>195.0</td>\n",
       "      <td>210.0</td>\n",
       "      <td>285.0</td>\n",
       "      <td>31.596123</td>\n",
       "    </tr>\n",
       "    <tr>\n",
       "      <th>Final setting time</th>\n",
       "      <td>1886.0</td>\n",
       "      <td>224.355779</td>\n",
       "      <td>130.0</td>\n",
       "      <td>190.0</td>\n",
       "      <td>230.0</td>\n",
       "      <td>250.0</td>\n",
       "      <td>350.0</td>\n",
       "      <td>36.062444</td>\n",
       "    </tr>\n",
       "    <tr>\n",
       "      <th>CS1</th>\n",
       "      <td>1886.0</td>\n",
       "      <td>14.942593</td>\n",
       "      <td>4.48</td>\n",
       "      <td>7.33</td>\n",
       "      <td>9.1</td>\n",
       "      <td>24.6175</td>\n",
       "      <td>31.73</td>\n",
       "      <td>8.973527</td>\n",
       "    </tr>\n",
       "    <tr>\n",
       "      <th>CS3</th>\n",
       "      <td>1886.0</td>\n",
       "      <td>23.869714</td>\n",
       "      <td>10.4</td>\n",
       "      <td>14.68</td>\n",
       "      <td>17.15</td>\n",
       "      <td>34.845</td>\n",
       "      <td>48.13</td>\n",
       "      <td>10.816664</td>\n",
       "    </tr>\n",
       "    <tr>\n",
       "      <th>CS7</th>\n",
       "      <td>1886.0</td>\n",
       "      <td>30.454745</td>\n",
       "      <td>17.33</td>\n",
       "      <td>21.15</td>\n",
       "      <td>23.93</td>\n",
       "      <td>40.9725</td>\n",
       "      <td>51.8</td>\n",
       "      <td>10.450824</td>\n",
       "    </tr>\n",
       "    <tr>\n",
       "      <th>CS28</th>\n",
       "      <td>1886.0</td>\n",
       "      <td>42.899698</td>\n",
       "      <td>29.6</td>\n",
       "      <td>35.4</td>\n",
       "      <td>40.58</td>\n",
       "      <td>50.1775</td>\n",
       "      <td>60.73</td>\n",
       "      <td>7.906965</td>\n",
       "    </tr>\n",
       "  </tbody>\n",
       "</table>\n",
       "</div>"
      ],
      "text/plain": [
       "                       count                           mean  \\\n",
       "Date                    1886  2020-07-28 12:01:55.259809280   \n",
       "CaO                   1886.0                      55.779242   \n",
       "MgO                   1886.0                       1.985896   \n",
       "Na2O                  1886.0                       0.109597   \n",
       "Al2O3                 1886.0                       6.266288   \n",
       "SiO2                  1886.0                      23.390742   \n",
       "SO3                   1886.0                       2.474178   \n",
       "K2O                   1886.0                       0.673086   \n",
       "Fe2O3                 1886.0                       2.580764   \n",
       "Loss on Ignition      1886.0                        5.32351   \n",
       "Insoluble Residue     1886.0                       1.154899   \n",
       "Blaine                1886.0                    4387.502651   \n",
       "#200                  1886.0                       1.450721   \n",
       "#325                  1886.0                       6.212582   \n",
       "Initial setting time  1886.0                     189.358431   \n",
       "Final setting time    1886.0                     224.355779   \n",
       "CS1                   1886.0                      14.942593   \n",
       "CS3                   1886.0                      23.869714   \n",
       "CS7                   1886.0                      30.454745   \n",
       "CS28                  1886.0                      42.899698   \n",
       "\n",
       "                                      min                  25%  \\\n",
       "Date                  2017-12-06 15:00:00  2019-05-15 18:45:00   \n",
       "CaO                                 45.74              51.2625   \n",
       "MgO                                  0.42                 0.79   \n",
       "Na2O                                  0.0                 0.07   \n",
       "Al2O3                                4.38                 5.23   \n",
       "SiO2                                17.18                 19.4   \n",
       "SO3                                  1.35                 1.94   \n",
       "K2O                                  0.47                 0.62   \n",
       "Fe2O3                                1.22                 2.16   \n",
       "Loss on Ignition                     1.92                 4.71   \n",
       "Insoluble Residue                    0.16                 0.69   \n",
       "Blaine                             3190.0               3950.0   \n",
       "#200                                 0.11                 0.65   \n",
       "#325                                 0.52                 3.78   \n",
       "Initial setting time                120.0                160.0   \n",
       "Final setting time                  130.0                190.0   \n",
       "CS1                                  4.48                 7.33   \n",
       "CS3                                  10.4                14.68   \n",
       "CS7                                 17.33                21.15   \n",
       "CS28                                 29.6                 35.4   \n",
       "\n",
       "                                      50%                  75%  \\\n",
       "Date                  2020-08-02 12:43:00  2021-10-09 14:51:45   \n",
       "CaO                                52.665              62.1175   \n",
       "MgO                                 2.295                 2.88   \n",
       "Na2O                                  0.1                 0.14   \n",
       "Al2O3                                6.32                 7.15   \n",
       "SiO2                               25.005                26.33   \n",
       "SO3                                  2.19                 3.14   \n",
       "K2O                                  0.68                 0.73   \n",
       "Fe2O3                                2.63                 2.89   \n",
       "Loss on Ignition                     5.24                  6.2   \n",
       "Insoluble Residue                   1.055                 1.49   \n",
       "Blaine                             4290.0               4800.0   \n",
       "#200                                 1.24                 2.09   \n",
       "#325                                 6.15               8.3575   \n",
       "Initial setting time                195.0                210.0   \n",
       "Final setting time                  230.0                250.0   \n",
       "CS1                                   9.1              24.6175   \n",
       "CS3                                 17.15               34.845   \n",
       "CS7                                 23.93              40.9725   \n",
       "CS28                                40.58              50.1775   \n",
       "\n",
       "                                      max         std  \n",
       "Date                  2023-03-29 13:06:00         NaN  \n",
       "CaO                                 65.27    5.411256  \n",
       "MgO                                  4.37    1.051063  \n",
       "Na2O                                 0.47     0.05775  \n",
       "Al2O3                                9.43    1.016896  \n",
       "SiO2                                 30.5     3.67743  \n",
       "SO3                                  4.16    0.632909  \n",
       "K2O                                  0.95    0.078283  \n",
       "Fe2O3                                5.74    0.519447  \n",
       "Loss on Ignition                     8.48    1.219861  \n",
       "Insoluble Residue                    4.52    0.569571  \n",
       "Blaine                             6080.0  574.515613  \n",
       "#200                                 4.78    0.945655  \n",
       "#325                                 14.8    2.817566  \n",
       "Initial setting time                285.0   31.596123  \n",
       "Final setting time                  350.0   36.062444  \n",
       "CS1                                 31.73    8.973527  \n",
       "CS3                                 48.13   10.816664  \n",
       "CS7                                  51.8   10.450824  \n",
       "CS28                                60.73    7.906965  "
      ]
     },
     "execution_count": 26,
     "metadata": {},
     "output_type": "execute_result"
    },
    {
     "data": {
      "application/javascript": [
       "\n",
       "            setTimeout(function() {\n",
       "                var nbb_cell_id = 26;\n",
       "                var nbb_unformatted_code = \"df.describe().T\";\n",
       "                var nbb_formatted_code = \"df.describe().T\";\n",
       "                var nbb_cells = Jupyter.notebook.get_cells();\n",
       "                for (var i = 0; i < nbb_cells.length; ++i) {\n",
       "                    if (nbb_cells[i].input_prompt_number == nbb_cell_id) {\n",
       "                        if (nbb_cells[i].get_text() == nbb_unformatted_code) {\n",
       "                             nbb_cells[i].set_text(nbb_formatted_code);\n",
       "                        }\n",
       "                        break;\n",
       "                    }\n",
       "                }\n",
       "            }, 500);\n",
       "            "
      ],
      "text/plain": [
       "<IPython.core.display.Javascript object>"
      ]
     },
     "metadata": {},
     "output_type": "display_data"
    }
   ],
   "source": [
    "df.describe().T"
   ]
  },
  {
   "cell_type": "code",
   "execution_count": 27,
   "id": "a83c6645",
   "metadata": {},
   "outputs": [
    {
     "data": {
      "application/javascript": [
       "\n",
       "            setTimeout(function() {\n",
       "                var nbb_cell_id = 27;\n",
       "                var nbb_unformatted_code = \"# import matplotlib.pyplot as plt\\n\\n# # Number of columns in the dataframe\\n# num_columns = df.drop([\\\"Plant\\\", \\\"Date\\\", \\\"Cement_Type\\\"], axis=1).shape[1]\\n\\n# # Creating subplots\\n# fig, axes = plt.subplots(num_columns, 1, figsize=(8, num_columns * 4))\\n\\n# # Plotting each variable in its own subplot\\n# for i, column in enumerate(df.drop([\\\"Plant\\\", \\\"Date\\\", \\\"Cement_Type\\\"], axis=1).columns):\\n#     df.boxplot(column=column, ax=axes[i])\\n#     axes[i].set_title(column)\\n#     axes[i].set_xlabel('')\\n\\n# plt.tight_layout()\\n# plt.show()\";\n",
       "                var nbb_formatted_code = \"# import matplotlib.pyplot as plt\\n\\n# # Number of columns in the dataframe\\n# num_columns = df.drop([\\\"Plant\\\", \\\"Date\\\", \\\"Cement_Type\\\"], axis=1).shape[1]\\n\\n# # Creating subplots\\n# fig, axes = plt.subplots(num_columns, 1, figsize=(8, num_columns * 4))\\n\\n# # Plotting each variable in its own subplot\\n# for i, column in enumerate(df.drop([\\\"Plant\\\", \\\"Date\\\", \\\"Cement_Type\\\"], axis=1).columns):\\n#     df.boxplot(column=column, ax=axes[i])\\n#     axes[i].set_title(column)\\n#     axes[i].set_xlabel('')\\n\\n# plt.tight_layout()\\n# plt.show()\";\n",
       "                var nbb_cells = Jupyter.notebook.get_cells();\n",
       "                for (var i = 0; i < nbb_cells.length; ++i) {\n",
       "                    if (nbb_cells[i].input_prompt_number == nbb_cell_id) {\n",
       "                        if (nbb_cells[i].get_text() == nbb_unformatted_code) {\n",
       "                             nbb_cells[i].set_text(nbb_formatted_code);\n",
       "                        }\n",
       "                        break;\n",
       "                    }\n",
       "                }\n",
       "            }, 500);\n",
       "            "
      ],
      "text/plain": [
       "<IPython.core.display.Javascript object>"
      ]
     },
     "metadata": {},
     "output_type": "display_data"
    }
   ],
   "source": [
    "# import matplotlib.pyplot as plt\n",
    "\n",
    "# # Number of columns in the dataframe\n",
    "# num_columns = df.drop([\"Plant\", \"Date\", \"Cement_Type\"], axis=1).shape[1]\n",
    "\n",
    "# # Creating subplots\n",
    "# fig, axes = plt.subplots(num_columns, 1, figsize=(8, num_columns * 4))\n",
    "\n",
    "# # Plotting each variable in its own subplot\n",
    "# for i, column in enumerate(df.drop([\"Plant\", \"Date\", \"Cement_Type\"], axis=1).columns):\n",
    "#     df.boxplot(column=column, ax=axes[i])\n",
    "#     axes[i].set_title(column)\n",
    "#     axes[i].set_xlabel('')\n",
    "\n",
    "# plt.tight_layout()\n",
    "# plt.show()\n"
   ]
  },
  {
   "cell_type": "code",
   "execution_count": 28,
   "id": "c6f12e2e",
   "metadata": {},
   "outputs": [
    {
     "data": {
      "text/html": [
       "<div>\n",
       "<style scoped>\n",
       "    .dataframe tbody tr th:only-of-type {\n",
       "        vertical-align: middle;\n",
       "    }\n",
       "\n",
       "    .dataframe tbody tr th {\n",
       "        vertical-align: top;\n",
       "    }\n",
       "\n",
       "    .dataframe thead th {\n",
       "        text-align: right;\n",
       "    }\n",
       "</style>\n",
       "<table border=\"1\" class=\"dataframe\">\n",
       "  <thead>\n",
       "    <tr style=\"text-align: right;\">\n",
       "      <th></th>\n",
       "      <th>count</th>\n",
       "      <th>mean</th>\n",
       "      <th>min</th>\n",
       "      <th>25%</th>\n",
       "      <th>50%</th>\n",
       "      <th>75%</th>\n",
       "      <th>max</th>\n",
       "      <th>std</th>\n",
       "    </tr>\n",
       "  </thead>\n",
       "  <tbody>\n",
       "    <tr>\n",
       "      <th>Date</th>\n",
       "      <td>1886</td>\n",
       "      <td>2020-07-28 12:01:55.259809280</td>\n",
       "      <td>2017-12-06 15:00:00</td>\n",
       "      <td>2019-05-15 18:45:00</td>\n",
       "      <td>2020-08-02 12:43:00</td>\n",
       "      <td>2021-10-09 14:51:45</td>\n",
       "      <td>2023-03-29 13:06:00</td>\n",
       "      <td>NaN</td>\n",
       "    </tr>\n",
       "    <tr>\n",
       "      <th>CaO</th>\n",
       "      <td>1886.0</td>\n",
       "      <td>55.779242</td>\n",
       "      <td>45.74</td>\n",
       "      <td>51.2625</td>\n",
       "      <td>52.665</td>\n",
       "      <td>62.1175</td>\n",
       "      <td>65.27</td>\n",
       "      <td>5.411256</td>\n",
       "    </tr>\n",
       "    <tr>\n",
       "      <th>MgO</th>\n",
       "      <td>1886.0</td>\n",
       "      <td>1.985896</td>\n",
       "      <td>0.42</td>\n",
       "      <td>0.79</td>\n",
       "      <td>2.295</td>\n",
       "      <td>2.88</td>\n",
       "      <td>4.37</td>\n",
       "      <td>1.051063</td>\n",
       "    </tr>\n",
       "    <tr>\n",
       "      <th>Na2O</th>\n",
       "      <td>1886.0</td>\n",
       "      <td>0.109597</td>\n",
       "      <td>0.0</td>\n",
       "      <td>0.07</td>\n",
       "      <td>0.1</td>\n",
       "      <td>0.14</td>\n",
       "      <td>0.47</td>\n",
       "      <td>0.05775</td>\n",
       "    </tr>\n",
       "    <tr>\n",
       "      <th>Al2O3</th>\n",
       "      <td>1886.0</td>\n",
       "      <td>6.266288</td>\n",
       "      <td>4.38</td>\n",
       "      <td>5.23</td>\n",
       "      <td>6.32</td>\n",
       "      <td>7.15</td>\n",
       "      <td>9.43</td>\n",
       "      <td>1.016896</td>\n",
       "    </tr>\n",
       "    <tr>\n",
       "      <th>SiO2</th>\n",
       "      <td>1886.0</td>\n",
       "      <td>23.390742</td>\n",
       "      <td>17.18</td>\n",
       "      <td>19.4</td>\n",
       "      <td>25.005</td>\n",
       "      <td>26.33</td>\n",
       "      <td>30.5</td>\n",
       "      <td>3.67743</td>\n",
       "    </tr>\n",
       "    <tr>\n",
       "      <th>SO3</th>\n",
       "      <td>1886.0</td>\n",
       "      <td>2.474178</td>\n",
       "      <td>1.35</td>\n",
       "      <td>1.94</td>\n",
       "      <td>2.19</td>\n",
       "      <td>3.14</td>\n",
       "      <td>4.16</td>\n",
       "      <td>0.632909</td>\n",
       "    </tr>\n",
       "    <tr>\n",
       "      <th>K2O</th>\n",
       "      <td>1886.0</td>\n",
       "      <td>0.673086</td>\n",
       "      <td>0.47</td>\n",
       "      <td>0.62</td>\n",
       "      <td>0.68</td>\n",
       "      <td>0.73</td>\n",
       "      <td>0.95</td>\n",
       "      <td>0.078283</td>\n",
       "    </tr>\n",
       "    <tr>\n",
       "      <th>Fe2O3</th>\n",
       "      <td>1886.0</td>\n",
       "      <td>2.580764</td>\n",
       "      <td>1.22</td>\n",
       "      <td>2.16</td>\n",
       "      <td>2.63</td>\n",
       "      <td>2.89</td>\n",
       "      <td>5.74</td>\n",
       "      <td>0.519447</td>\n",
       "    </tr>\n",
       "    <tr>\n",
       "      <th>Loss on Ignition</th>\n",
       "      <td>1886.0</td>\n",
       "      <td>5.32351</td>\n",
       "      <td>1.92</td>\n",
       "      <td>4.71</td>\n",
       "      <td>5.24</td>\n",
       "      <td>6.2</td>\n",
       "      <td>8.48</td>\n",
       "      <td>1.219861</td>\n",
       "    </tr>\n",
       "    <tr>\n",
       "      <th>Insoluble Residue</th>\n",
       "      <td>1886.0</td>\n",
       "      <td>1.154899</td>\n",
       "      <td>0.16</td>\n",
       "      <td>0.69</td>\n",
       "      <td>1.055</td>\n",
       "      <td>1.49</td>\n",
       "      <td>4.52</td>\n",
       "      <td>0.569571</td>\n",
       "    </tr>\n",
       "    <tr>\n",
       "      <th>Blaine</th>\n",
       "      <td>1886.0</td>\n",
       "      <td>4387.502651</td>\n",
       "      <td>3190.0</td>\n",
       "      <td>3950.0</td>\n",
       "      <td>4290.0</td>\n",
       "      <td>4800.0</td>\n",
       "      <td>6080.0</td>\n",
       "      <td>574.515613</td>\n",
       "    </tr>\n",
       "    <tr>\n",
       "      <th>#200</th>\n",
       "      <td>1886.0</td>\n",
       "      <td>1.450721</td>\n",
       "      <td>0.11</td>\n",
       "      <td>0.65</td>\n",
       "      <td>1.24</td>\n",
       "      <td>2.09</td>\n",
       "      <td>4.78</td>\n",
       "      <td>0.945655</td>\n",
       "    </tr>\n",
       "    <tr>\n",
       "      <th>#325</th>\n",
       "      <td>1886.0</td>\n",
       "      <td>6.212582</td>\n",
       "      <td>0.52</td>\n",
       "      <td>3.78</td>\n",
       "      <td>6.15</td>\n",
       "      <td>8.3575</td>\n",
       "      <td>14.8</td>\n",
       "      <td>2.817566</td>\n",
       "    </tr>\n",
       "    <tr>\n",
       "      <th>Initial setting time</th>\n",
       "      <td>1886.0</td>\n",
       "      <td>189.358431</td>\n",
       "      <td>120.0</td>\n",
       "      <td>160.0</td>\n",
       "      <td>195.0</td>\n",
       "      <td>210.0</td>\n",
       "      <td>285.0</td>\n",
       "      <td>31.596123</td>\n",
       "    </tr>\n",
       "    <tr>\n",
       "      <th>Final setting time</th>\n",
       "      <td>1886.0</td>\n",
       "      <td>224.355779</td>\n",
       "      <td>130.0</td>\n",
       "      <td>190.0</td>\n",
       "      <td>230.0</td>\n",
       "      <td>250.0</td>\n",
       "      <td>350.0</td>\n",
       "      <td>36.062444</td>\n",
       "    </tr>\n",
       "    <tr>\n",
       "      <th>CS1</th>\n",
       "      <td>1886.0</td>\n",
       "      <td>14.942593</td>\n",
       "      <td>4.48</td>\n",
       "      <td>7.33</td>\n",
       "      <td>9.1</td>\n",
       "      <td>24.6175</td>\n",
       "      <td>31.73</td>\n",
       "      <td>8.973527</td>\n",
       "    </tr>\n",
       "    <tr>\n",
       "      <th>CS3</th>\n",
       "      <td>1886.0</td>\n",
       "      <td>23.869714</td>\n",
       "      <td>10.4</td>\n",
       "      <td>14.68</td>\n",
       "      <td>17.15</td>\n",
       "      <td>34.845</td>\n",
       "      <td>48.13</td>\n",
       "      <td>10.816664</td>\n",
       "    </tr>\n",
       "    <tr>\n",
       "      <th>CS7</th>\n",
       "      <td>1886.0</td>\n",
       "      <td>30.454745</td>\n",
       "      <td>17.33</td>\n",
       "      <td>21.15</td>\n",
       "      <td>23.93</td>\n",
       "      <td>40.9725</td>\n",
       "      <td>51.8</td>\n",
       "      <td>10.450824</td>\n",
       "    </tr>\n",
       "    <tr>\n",
       "      <th>CS28</th>\n",
       "      <td>1886.0</td>\n",
       "      <td>42.899698</td>\n",
       "      <td>29.6</td>\n",
       "      <td>35.4</td>\n",
       "      <td>40.58</td>\n",
       "      <td>50.1775</td>\n",
       "      <td>60.73</td>\n",
       "      <td>7.906965</td>\n",
       "    </tr>\n",
       "  </tbody>\n",
       "</table>\n",
       "</div>"
      ],
      "text/plain": [
       "                       count                           mean  \\\n",
       "Date                    1886  2020-07-28 12:01:55.259809280   \n",
       "CaO                   1886.0                      55.779242   \n",
       "MgO                   1886.0                       1.985896   \n",
       "Na2O                  1886.0                       0.109597   \n",
       "Al2O3                 1886.0                       6.266288   \n",
       "SiO2                  1886.0                      23.390742   \n",
       "SO3                   1886.0                       2.474178   \n",
       "K2O                   1886.0                       0.673086   \n",
       "Fe2O3                 1886.0                       2.580764   \n",
       "Loss on Ignition      1886.0                        5.32351   \n",
       "Insoluble Residue     1886.0                       1.154899   \n",
       "Blaine                1886.0                    4387.502651   \n",
       "#200                  1886.0                       1.450721   \n",
       "#325                  1886.0                       6.212582   \n",
       "Initial setting time  1886.0                     189.358431   \n",
       "Final setting time    1886.0                     224.355779   \n",
       "CS1                   1886.0                      14.942593   \n",
       "CS3                   1886.0                      23.869714   \n",
       "CS7                   1886.0                      30.454745   \n",
       "CS28                  1886.0                      42.899698   \n",
       "\n",
       "                                      min                  25%  \\\n",
       "Date                  2017-12-06 15:00:00  2019-05-15 18:45:00   \n",
       "CaO                                 45.74              51.2625   \n",
       "MgO                                  0.42                 0.79   \n",
       "Na2O                                  0.0                 0.07   \n",
       "Al2O3                                4.38                 5.23   \n",
       "SiO2                                17.18                 19.4   \n",
       "SO3                                  1.35                 1.94   \n",
       "K2O                                  0.47                 0.62   \n",
       "Fe2O3                                1.22                 2.16   \n",
       "Loss on Ignition                     1.92                 4.71   \n",
       "Insoluble Residue                    0.16                 0.69   \n",
       "Blaine                             3190.0               3950.0   \n",
       "#200                                 0.11                 0.65   \n",
       "#325                                 0.52                 3.78   \n",
       "Initial setting time                120.0                160.0   \n",
       "Final setting time                  130.0                190.0   \n",
       "CS1                                  4.48                 7.33   \n",
       "CS3                                  10.4                14.68   \n",
       "CS7                                 17.33                21.15   \n",
       "CS28                                 29.6                 35.4   \n",
       "\n",
       "                                      50%                  75%  \\\n",
       "Date                  2020-08-02 12:43:00  2021-10-09 14:51:45   \n",
       "CaO                                52.665              62.1175   \n",
       "MgO                                 2.295                 2.88   \n",
       "Na2O                                  0.1                 0.14   \n",
       "Al2O3                                6.32                 7.15   \n",
       "SiO2                               25.005                26.33   \n",
       "SO3                                  2.19                 3.14   \n",
       "K2O                                  0.68                 0.73   \n",
       "Fe2O3                                2.63                 2.89   \n",
       "Loss on Ignition                     5.24                  6.2   \n",
       "Insoluble Residue                   1.055                 1.49   \n",
       "Blaine                             4290.0               4800.0   \n",
       "#200                                 1.24                 2.09   \n",
       "#325                                 6.15               8.3575   \n",
       "Initial setting time                195.0                210.0   \n",
       "Final setting time                  230.0                250.0   \n",
       "CS1                                   9.1              24.6175   \n",
       "CS3                                 17.15               34.845   \n",
       "CS7                                 23.93              40.9725   \n",
       "CS28                                40.58              50.1775   \n",
       "\n",
       "                                      max         std  \n",
       "Date                  2023-03-29 13:06:00         NaN  \n",
       "CaO                                 65.27    5.411256  \n",
       "MgO                                  4.37    1.051063  \n",
       "Na2O                                 0.47     0.05775  \n",
       "Al2O3                                9.43    1.016896  \n",
       "SiO2                                 30.5     3.67743  \n",
       "SO3                                  4.16    0.632909  \n",
       "K2O                                  0.95    0.078283  \n",
       "Fe2O3                                5.74    0.519447  \n",
       "Loss on Ignition                     8.48    1.219861  \n",
       "Insoluble Residue                    4.52    0.569571  \n",
       "Blaine                             6080.0  574.515613  \n",
       "#200                                 4.78    0.945655  \n",
       "#325                                 14.8    2.817566  \n",
       "Initial setting time                285.0   31.596123  \n",
       "Final setting time                  350.0   36.062444  \n",
       "CS1                                 31.73    8.973527  \n",
       "CS3                                 48.13   10.816664  \n",
       "CS7                                  51.8   10.450824  \n",
       "CS28                                60.73    7.906965  "
      ]
     },
     "execution_count": 28,
     "metadata": {},
     "output_type": "execute_result"
    },
    {
     "data": {
      "application/javascript": [
       "\n",
       "            setTimeout(function() {\n",
       "                var nbb_cell_id = 28;\n",
       "                var nbb_unformatted_code = \"df.describe().T\";\n",
       "                var nbb_formatted_code = \"df.describe().T\";\n",
       "                var nbb_cells = Jupyter.notebook.get_cells();\n",
       "                for (var i = 0; i < nbb_cells.length; ++i) {\n",
       "                    if (nbb_cells[i].input_prompt_number == nbb_cell_id) {\n",
       "                        if (nbb_cells[i].get_text() == nbb_unformatted_code) {\n",
       "                             nbb_cells[i].set_text(nbb_formatted_code);\n",
       "                        }\n",
       "                        break;\n",
       "                    }\n",
       "                }\n",
       "            }, 500);\n",
       "            "
      ],
      "text/plain": [
       "<IPython.core.display.Javascript object>"
      ]
     },
     "metadata": {},
     "output_type": "display_data"
    }
   ],
   "source": [
    "df.describe().T"
   ]
  },
  {
   "cell_type": "code",
   "execution_count": 29,
   "id": "c61690ed",
   "metadata": {},
   "outputs": [
    {
     "data": {
      "text/html": [
       "<div>\n",
       "<style scoped>\n",
       "    .dataframe tbody tr th:only-of-type {\n",
       "        vertical-align: middle;\n",
       "    }\n",
       "\n",
       "    .dataframe tbody tr th {\n",
       "        vertical-align: top;\n",
       "    }\n",
       "\n",
       "    .dataframe thead th {\n",
       "        text-align: right;\n",
       "    }\n",
       "</style>\n",
       "<table border=\"1\" class=\"dataframe\">\n",
       "  <thead>\n",
       "    <tr style=\"text-align: right;\">\n",
       "      <th></th>\n",
       "      <th>count</th>\n",
       "      <th>unique</th>\n",
       "      <th>top</th>\n",
       "      <th>freq</th>\n",
       "      <th>mean</th>\n",
       "      <th>min</th>\n",
       "      <th>25%</th>\n",
       "      <th>50%</th>\n",
       "      <th>75%</th>\n",
       "      <th>max</th>\n",
       "    </tr>\n",
       "  </thead>\n",
       "  <tbody>\n",
       "    <tr>\n",
       "      <th>Plant</th>\n",
       "      <td>1886</td>\n",
       "      <td>1</td>\n",
       "      <td>G</td>\n",
       "      <td>1886</td>\n",
       "      <td>NaN</td>\n",
       "      <td>NaN</td>\n",
       "      <td>NaN</td>\n",
       "      <td>NaN</td>\n",
       "      <td>NaN</td>\n",
       "      <td>NaN</td>\n",
       "    </tr>\n",
       "    <tr>\n",
       "      <th>Date</th>\n",
       "      <td>1886</td>\n",
       "      <td>NaN</td>\n",
       "      <td>NaN</td>\n",
       "      <td>NaN</td>\n",
       "      <td>2020-07-28 12:01:55.259809280</td>\n",
       "      <td>2017-12-06 15:00:00</td>\n",
       "      <td>2019-05-15 18:45:00</td>\n",
       "      <td>2020-08-02 12:43:00</td>\n",
       "      <td>2021-10-09 14:51:45</td>\n",
       "      <td>2023-03-29 13:06:00</td>\n",
       "    </tr>\n",
       "    <tr>\n",
       "      <th>Cement_Type</th>\n",
       "      <td>1886</td>\n",
       "      <td>7</td>\n",
       "      <td>CP VARI</td>\n",
       "      <td>543</td>\n",
       "      <td>NaN</td>\n",
       "      <td>NaN</td>\n",
       "      <td>NaN</td>\n",
       "      <td>NaN</td>\n",
       "      <td>NaN</td>\n",
       "      <td>NaN</td>\n",
       "    </tr>\n",
       "  </tbody>\n",
       "</table>\n",
       "</div>"
      ],
      "text/plain": [
       "            count unique      top  freq                           mean  \\\n",
       "Plant        1886      1        G  1886                            NaN   \n",
       "Date         1886    NaN      NaN   NaN  2020-07-28 12:01:55.259809280   \n",
       "Cement_Type  1886      7  CP VARI   543                            NaN   \n",
       "\n",
       "                             min                  25%                  50%  \\\n",
       "Plant                        NaN                  NaN                  NaN   \n",
       "Date         2017-12-06 15:00:00  2019-05-15 18:45:00  2020-08-02 12:43:00   \n",
       "Cement_Type                  NaN                  NaN                  NaN   \n",
       "\n",
       "                             75%                  max  \n",
       "Plant                        NaN                  NaN  \n",
       "Date         2021-10-09 14:51:45  2023-03-29 13:06:00  \n",
       "Cement_Type                  NaN                  NaN  "
      ]
     },
     "execution_count": 29,
     "metadata": {},
     "output_type": "execute_result"
    },
    {
     "data": {
      "application/javascript": [
       "\n",
       "            setTimeout(function() {\n",
       "                var nbb_cell_id = 29;\n",
       "                var nbb_unformatted_code = \"df.describe(exclude=\\\"number\\\").T\";\n",
       "                var nbb_formatted_code = \"df.describe(exclude=\\\"number\\\").T\";\n",
       "                var nbb_cells = Jupyter.notebook.get_cells();\n",
       "                for (var i = 0; i < nbb_cells.length; ++i) {\n",
       "                    if (nbb_cells[i].input_prompt_number == nbb_cell_id) {\n",
       "                        if (nbb_cells[i].get_text() == nbb_unformatted_code) {\n",
       "                             nbb_cells[i].set_text(nbb_formatted_code);\n",
       "                        }\n",
       "                        break;\n",
       "                    }\n",
       "                }\n",
       "            }, 500);\n",
       "            "
      ],
      "text/plain": [
       "<IPython.core.display.Javascript object>"
      ]
     },
     "metadata": {},
     "output_type": "display_data"
    }
   ],
   "source": [
    "df.describe(exclude=\"number\").T"
   ]
  },
  {
   "cell_type": "markdown",
   "id": "57a81159",
   "metadata": {},
   "source": [
    "### Dropping variable with Plant identification"
   ]
  },
  {
   "cell_type": "code",
   "execution_count": 30,
   "id": "48b26cf6",
   "metadata": {},
   "outputs": [
    {
     "data": {
      "application/javascript": [
       "\n",
       "            setTimeout(function() {\n",
       "                var nbb_cell_id = 30;\n",
       "                var nbb_unformatted_code = \"df = df.drop(\\\"Plant\\\", axis=1)\";\n",
       "                var nbb_formatted_code = \"df = df.drop(\\\"Plant\\\", axis=1)\";\n",
       "                var nbb_cells = Jupyter.notebook.get_cells();\n",
       "                for (var i = 0; i < nbb_cells.length; ++i) {\n",
       "                    if (nbb_cells[i].input_prompt_number == nbb_cell_id) {\n",
       "                        if (nbb_cells[i].get_text() == nbb_unformatted_code) {\n",
       "                             nbb_cells[i].set_text(nbb_formatted_code);\n",
       "                        }\n",
       "                        break;\n",
       "                    }\n",
       "                }\n",
       "            }, 500);\n",
       "            "
      ],
      "text/plain": [
       "<IPython.core.display.Javascript object>"
      ]
     },
     "metadata": {},
     "output_type": "display_data"
    }
   ],
   "source": [
    "df = df.drop(\"Plant\", axis=1)"
   ]
  },
  {
   "cell_type": "markdown",
   "id": "32bc0822",
   "metadata": {},
   "source": [
    "### Sort the dataset by date"
   ]
  },
  {
   "cell_type": "code",
   "execution_count": 31,
   "id": "3ea1eca0",
   "metadata": {},
   "outputs": [
    {
     "data": {
      "text/plain": [
       "dtype('<M8[ns]')"
      ]
     },
     "execution_count": 31,
     "metadata": {},
     "output_type": "execute_result"
    },
    {
     "data": {
      "application/javascript": [
       "\n",
       "            setTimeout(function() {\n",
       "                var nbb_cell_id = 31;\n",
       "                var nbb_unformatted_code = \"# We first make sure Date column was infered correctly\\ndf[\\\"Date\\\"].dtype\";\n",
       "                var nbb_formatted_code = \"# We first make sure Date column was infered correctly\\ndf[\\\"Date\\\"].dtype\";\n",
       "                var nbb_cells = Jupyter.notebook.get_cells();\n",
       "                for (var i = 0; i < nbb_cells.length; ++i) {\n",
       "                    if (nbb_cells[i].input_prompt_number == nbb_cell_id) {\n",
       "                        if (nbb_cells[i].get_text() == nbb_unformatted_code) {\n",
       "                             nbb_cells[i].set_text(nbb_formatted_code);\n",
       "                        }\n",
       "                        break;\n",
       "                    }\n",
       "                }\n",
       "            }, 500);\n",
       "            "
      ],
      "text/plain": [
       "<IPython.core.display.Javascript object>"
      ]
     },
     "metadata": {},
     "output_type": "display_data"
    }
   ],
   "source": [
    "# We first make sure Date column was infered correctly\n",
    "df[\"Date\"].dtype"
   ]
  },
  {
   "cell_type": "code",
   "execution_count": 32,
   "id": "8657b7b5",
   "metadata": {},
   "outputs": [
    {
     "data": {
      "application/javascript": [
       "\n",
       "            setTimeout(function() {\n",
       "                var nbb_cell_id = 32;\n",
       "                var nbb_unformatted_code = \"df = df.sort_values(by=\\\"Date\\\")\";\n",
       "                var nbb_formatted_code = \"df = df.sort_values(by=\\\"Date\\\")\";\n",
       "                var nbb_cells = Jupyter.notebook.get_cells();\n",
       "                for (var i = 0; i < nbb_cells.length; ++i) {\n",
       "                    if (nbb_cells[i].input_prompt_number == nbb_cell_id) {\n",
       "                        if (nbb_cells[i].get_text() == nbb_unformatted_code) {\n",
       "                             nbb_cells[i].set_text(nbb_formatted_code);\n",
       "                        }\n",
       "                        break;\n",
       "                    }\n",
       "                }\n",
       "            }, 500);\n",
       "            "
      ],
      "text/plain": [
       "<IPython.core.display.Javascript object>"
      ]
     },
     "metadata": {},
     "output_type": "display_data"
    }
   ],
   "source": [
    "df = df.sort_values(by=\"Date\")"
   ]
  },
  {
   "cell_type": "markdown",
   "id": "51a14f96",
   "metadata": {},
   "source": [
    "## Saving the dataset"
   ]
  },
  {
   "cell_type": "markdown",
   "id": "65f0db5b",
   "metadata": {},
   "source": [
    "<h3>Saving for feature engineering</h3>"
   ]
  },
  {
   "cell_type": "code",
   "execution_count": 33,
   "id": "df49e78e",
   "metadata": {},
   "outputs": [
    {
     "data": {
      "application/javascript": [
       "\n",
       "            setTimeout(function() {\n",
       "                var nbb_cell_id = 33;\n",
       "                var nbb_unformatted_code = \"df.to_csv(\\\"../../../../data/interim/203/g.csv\\\", index=False)\";\n",
       "                var nbb_formatted_code = \"df.to_csv(\\\"../../../../data/interim/203/g.csv\\\", index=False)\";\n",
       "                var nbb_cells = Jupyter.notebook.get_cells();\n",
       "                for (var i = 0; i < nbb_cells.length; ++i) {\n",
       "                    if (nbb_cells[i].input_prompt_number == nbb_cell_id) {\n",
       "                        if (nbb_cells[i].get_text() == nbb_unformatted_code) {\n",
       "                             nbb_cells[i].set_text(nbb_formatted_code);\n",
       "                        }\n",
       "                        break;\n",
       "                    }\n",
       "                }\n",
       "            }, 500);\n",
       "            "
      ],
      "text/plain": [
       "<IPython.core.display.Javascript object>"
      ]
     },
     "metadata": {},
     "output_type": "display_data"
    }
   ],
   "source": [
    "df.to_csv(\"../../../../data/interim/203/g.csv\", index=False)"
   ]
  },
  {
   "cell_type": "code",
   "execution_count": null,
   "id": "22e94a99",
   "metadata": {},
   "outputs": [],
   "source": []
  }
 ],
 "metadata": {
  "kernelspec": {
   "display_name": "ccs28-venv",
   "language": "python",
   "name": "ccs28-venv"
  },
  "language_info": {
   "codemirror_mode": {
    "name": "ipython",
    "version": 3
   },
   "file_extension": ".py",
   "mimetype": "text/x-python",
   "name": "python",
   "nbconvert_exporter": "python",
   "pygments_lexer": "ipython3",
   "version": "3.10.12"
  }
 },
 "nbformat": 4,
 "nbformat_minor": 5
}
