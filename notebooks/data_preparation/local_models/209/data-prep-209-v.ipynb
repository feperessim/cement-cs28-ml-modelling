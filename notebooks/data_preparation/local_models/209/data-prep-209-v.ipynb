{
 "cells": [
  {
   "cell_type": "code",
   "execution_count": 1,
   "id": "00f7471a",
   "metadata": {},
   "outputs": [
    {
     "data": {
      "application/javascript": [
       "\n",
       "            setTimeout(function() {\n",
       "                var nbb_cell_id = 1;\n",
       "                var nbb_unformatted_code = \"%load_ext nb_black\";\n",
       "                var nbb_formatted_code = \"%load_ext nb_black\";\n",
       "                var nbb_cells = Jupyter.notebook.get_cells();\n",
       "                for (var i = 0; i < nbb_cells.length; ++i) {\n",
       "                    if (nbb_cells[i].input_prompt_number == nbb_cell_id) {\n",
       "                        if (nbb_cells[i].get_text() == nbb_unformatted_code) {\n",
       "                             nbb_cells[i].set_text(nbb_formatted_code);\n",
       "                        }\n",
       "                        break;\n",
       "                    }\n",
       "                }\n",
       "            }, 500);\n",
       "            "
      ],
      "text/plain": [
       "<IPython.core.display.Javascript object>"
      ]
     },
     "metadata": {},
     "output_type": "display_data"
    }
   ],
   "source": [
    "%load_ext nb_black"
   ]
  },
  {
   "cell_type": "code",
   "execution_count": 2,
   "id": "17ba98f5",
   "metadata": {},
   "outputs": [
    {
     "data": {
      "application/javascript": [
       "\n",
       "            setTimeout(function() {\n",
       "                var nbb_cell_id = 2;\n",
       "                var nbb_unformatted_code = \"import pandas as pd\\nimport numpy as np\\nimport matplotlib.pyplot as plt\\nimport seaborn as sns\\nimport warnings\\n\\nfrom scipy.stats import pearsonr\\nfrom collections import Counter\";\n",
       "                var nbb_formatted_code = \"import pandas as pd\\nimport numpy as np\\nimport matplotlib.pyplot as plt\\nimport seaborn as sns\\nimport warnings\\n\\nfrom scipy.stats import pearsonr\\nfrom collections import Counter\";\n",
       "                var nbb_cells = Jupyter.notebook.get_cells();\n",
       "                for (var i = 0; i < nbb_cells.length; ++i) {\n",
       "                    if (nbb_cells[i].input_prompt_number == nbb_cell_id) {\n",
       "                        if (nbb_cells[i].get_text() == nbb_unformatted_code) {\n",
       "                             nbb_cells[i].set_text(nbb_formatted_code);\n",
       "                        }\n",
       "                        break;\n",
       "                    }\n",
       "                }\n",
       "            }, 500);\n",
       "            "
      ],
      "text/plain": [
       "<IPython.core.display.Javascript object>"
      ]
     },
     "metadata": {},
     "output_type": "display_data"
    }
   ],
   "source": [
    "import pandas as pd\n",
    "import numpy as np\n",
    "import matplotlib.pyplot as plt\n",
    "import seaborn as sns\n",
    "import warnings\n",
    "\n",
    "from scipy.stats import pearsonr\n",
    "from collections import Counter"
   ]
  },
  {
   "cell_type": "code",
   "execution_count": 3,
   "id": "ad81bb3a",
   "metadata": {},
   "outputs": [
    {
     "data": {
      "application/javascript": [
       "\n",
       "            setTimeout(function() {\n",
       "                var nbb_cell_id = 3;\n",
       "                var nbb_unformatted_code = \"def convert_to_float(value):\\n    try:\\n        # If it's a string enclosed in single quotes, remove quotes and replace comma with dot\\n        if isinstance(value, str):\\n            return float(value.replace(\\\",\\\", \\\".\\\"))\\n        else:\\n            return float(value)\\n    except ValueError as e:\\n        print(e)\\n        return float(\\\"nan\\\")\";\n",
       "                var nbb_formatted_code = \"def convert_to_float(value):\\n    try:\\n        # If it's a string enclosed in single quotes, remove quotes and replace comma with dot\\n        if isinstance(value, str):\\n            return float(value.replace(\\\",\\\", \\\".\\\"))\\n        else:\\n            return float(value)\\n    except ValueError as e:\\n        print(e)\\n        return float(\\\"nan\\\")\";\n",
       "                var nbb_cells = Jupyter.notebook.get_cells();\n",
       "                for (var i = 0; i < nbb_cells.length; ++i) {\n",
       "                    if (nbb_cells[i].input_prompt_number == nbb_cell_id) {\n",
       "                        if (nbb_cells[i].get_text() == nbb_unformatted_code) {\n",
       "                             nbb_cells[i].set_text(nbb_formatted_code);\n",
       "                        }\n",
       "                        break;\n",
       "                    }\n",
       "                }\n",
       "            }, 500);\n",
       "            "
      ],
      "text/plain": [
       "<IPython.core.display.Javascript object>"
      ]
     },
     "metadata": {},
     "output_type": "display_data"
    }
   ],
   "source": [
    "def convert_to_float(value):\n",
    "    try:\n",
    "        # If it's a string enclosed in single quotes, remove quotes and replace comma with dot\n",
    "        if isinstance(value, str):\n",
    "            return float(value.replace(\",\", \".\"))\n",
    "        else:\n",
    "            return float(value)\n",
    "    except ValueError as e:\n",
    "        print(e)\n",
    "        return float(\"nan\")"
   ]
  },
  {
   "cell_type": "code",
   "execution_count": 4,
   "id": "fa1f9842",
   "metadata": {},
   "outputs": [
    {
     "data": {
      "application/javascript": [
       "\n",
       "            setTimeout(function() {\n",
       "                var nbb_cell_id = 4;\n",
       "                var nbb_unformatted_code = \"def preprocess_numeric_cols(df, columns):\\n    for col in columns:\\n        df[col] = df[col].astype(str)  # Ensure string type for string operations\\n        df[col] = df[col].str.replace(\\\"#\\\", \\\"\\\")  # Remove '#' characters\\n        df[col] = df[col].str.replace(\\\",\\\", \\\".\\\")  # Replace ',' with '.' for decimals\\n    return df\";\n",
       "                var nbb_formatted_code = \"def preprocess_numeric_cols(df, columns):\\n    for col in columns:\\n        df[col] = df[col].astype(str)  # Ensure string type for string operations\\n        df[col] = df[col].str.replace(\\\"#\\\", \\\"\\\")  # Remove '#' characters\\n        df[col] = df[col].str.replace(\\\",\\\", \\\".\\\")  # Replace ',' with '.' for decimals\\n    return df\";\n",
       "                var nbb_cells = Jupyter.notebook.get_cells();\n",
       "                for (var i = 0; i < nbb_cells.length; ++i) {\n",
       "                    if (nbb_cells[i].input_prompt_number == nbb_cell_id) {\n",
       "                        if (nbb_cells[i].get_text() == nbb_unformatted_code) {\n",
       "                             nbb_cells[i].set_text(nbb_formatted_code);\n",
       "                        }\n",
       "                        break;\n",
       "                    }\n",
       "                }\n",
       "            }, 500);\n",
       "            "
      ],
      "text/plain": [
       "<IPython.core.display.Javascript object>"
      ]
     },
     "metadata": {},
     "output_type": "display_data"
    }
   ],
   "source": [
    "def preprocess_numeric_cols(df, columns):\n",
    "    for col in columns:\n",
    "        df[col] = df[col].astype(str)  # Ensure string type for string operations\n",
    "        df[col] = df[col].str.replace(\"#\", \"\")  # Remove '#' characters\n",
    "        df[col] = df[col].str.replace(\",\", \".\")  # Replace ',' with '.' for decimals\n",
    "    return df"
   ]
  },
  {
   "cell_type": "markdown",
   "id": "d28c2c6f",
   "metadata": {},
   "source": [
    "# Data preparation - 209 plant V data"
   ]
  },
  {
   "cell_type": "markdown",
   "id": "d3eb6673",
   "metadata": {},
   "source": [
    "### Reading the files and extracting relevant information:"
   ]
  },
  {
   "cell_type": "code",
   "execution_count": 5,
   "id": "8cbd3a44",
   "metadata": {},
   "outputs": [
    {
     "data": {
      "application/javascript": [
       "\n",
       "            setTimeout(function() {\n",
       "                var nbb_cell_id = 5;\n",
       "                var nbb_unformatted_code = \"plant = \\\"V\\\"\\nxls_files = {}\\n\\nxls = pd.ExcelFile(\\n    f\\\"../../../data/raw/209/EMBRAPII hubIC IACC_CIMENTO_{plant}.xlsx\\\",\\n    engine=\\\"openpyxl\\\",\\n)\\nxls_files[plant] = xls\";\n",
       "                var nbb_formatted_code = \"plant = \\\"V\\\"\\nxls_files = {}\\n\\nxls = pd.ExcelFile(\\n    f\\\"../../../data/raw/209/EMBRAPII hubIC IACC_CIMENTO_{plant}.xlsx\\\",\\n    engine=\\\"openpyxl\\\",\\n)\\nxls_files[plant] = xls\";\n",
       "                var nbb_cells = Jupyter.notebook.get_cells();\n",
       "                for (var i = 0; i < nbb_cells.length; ++i) {\n",
       "                    if (nbb_cells[i].input_prompt_number == nbb_cell_id) {\n",
       "                        if (nbb_cells[i].get_text() == nbb_unformatted_code) {\n",
       "                             nbb_cells[i].set_text(nbb_formatted_code);\n",
       "                        }\n",
       "                        break;\n",
       "                    }\n",
       "                }\n",
       "            }, 500);\n",
       "            "
      ],
      "text/plain": [
       "<IPython.core.display.Javascript object>"
      ]
     },
     "metadata": {},
     "output_type": "display_data"
    }
   ],
   "source": [
    "plant = \"V\"\n",
    "xls_files = {}\n",
    "\n",
    "xls = pd.ExcelFile(\n",
    "    f\"../../../data/raw/209/EMBRAPII hubIC IACC_CIMENTO_{plant}.xlsx\",\n",
    "    engine=\"openpyxl\",\n",
    ")\n",
    "xls_files[plant] = xls"
   ]
  },
  {
   "cell_type": "code",
   "execution_count": 6,
   "id": "0d7c6058",
   "metadata": {},
   "outputs": [
    {
     "name": "stdout",
     "output_type": "stream",
     "text": [
      "Plant:  V ['INSTRUÇÕES', 'Clínquer', '93']\n"
     ]
    },
    {
     "data": {
      "application/javascript": [
       "\n",
       "            setTimeout(function() {\n",
       "                var nbb_cell_id = 6;\n",
       "                var nbb_unformatted_code = \"print(\\\"Plant: \\\", plant, xls.sheet_names)\";\n",
       "                var nbb_formatted_code = \"print(\\\"Plant: \\\", plant, xls.sheet_names)\";\n",
       "                var nbb_cells = Jupyter.notebook.get_cells();\n",
       "                for (var i = 0; i < nbb_cells.length; ++i) {\n",
       "                    if (nbb_cells[i].input_prompt_number == nbb_cell_id) {\n",
       "                        if (nbb_cells[i].get_text() == nbb_unformatted_code) {\n",
       "                             nbb_cells[i].set_text(nbb_formatted_code);\n",
       "                        }\n",
       "                        break;\n",
       "                    }\n",
       "                }\n",
       "            }, 500);\n",
       "            "
      ],
      "text/plain": [
       "<IPython.core.display.Javascript object>"
      ]
     },
     "metadata": {},
     "output_type": "display_data"
    }
   ],
   "source": [
    "print(\"Plant: \", plant, xls.sheet_names)"
   ]
  },
  {
   "cell_type": "code",
   "execution_count": 7,
   "id": "d0b9a1e5",
   "metadata": {},
   "outputs": [
    {
     "data": {
      "application/javascript": [
       "\n",
       "            setTimeout(function() {\n",
       "                var nbb_cell_id = 7;\n",
       "                var nbb_unformatted_code = \"cement_types_per_plant = []\\nCEMENT_TYPE_COLS = [\\\"Tipo de cimento\\\", \\\"Classe de resist\\u00eancia\\\"]\\ndataframes = []\\n\\nfor plant, xls in xls_files.items():\\n    for sheet_name in xls.sheet_names[2:]:\\n        df = pd.read_excel(xls_files[plant], sheet_name, header=[1, 2])\\n\\n        if not df[CEMENT_TYPE_COLS].iloc[2:].isna().all().all():\\n            cement_type = (\\n                df[CEMENT_TYPE_COLS]\\n                .loc[2:]\\n                .astype(str)\\n                .sum(axis=1)\\n                .str.replace(\\\" \\\", \\\"\\\")\\n                .str.replace(\\\"-\\\", \\\"\\\")\\n                .str.replace(\\\"nan\\\", \\\"\\\")\\n                .unique()\\n            )\\n\\n        else:\\n            cement_type = (\\n                df[[(\\\"Obs.\\\", \\\"Unnamed: 8_level_1\\\")]]\\n                .loc[2:]\\n                .astype(str)\\n                .sum(axis=1)\\n                .str.replace(\\\" \\\", \\\"\\\")\\n                .str.replace(\\\"-\\\", \\\"\\\")\\n                .unique()\\n            )\\n\\n        cement_types_per_plant.append((plant, sheet_name, cement_type))\\n        dataframes.append(df)\";\n",
       "                var nbb_formatted_code = \"cement_types_per_plant = []\\nCEMENT_TYPE_COLS = [\\\"Tipo de cimento\\\", \\\"Classe de resist\\u00eancia\\\"]\\ndataframes = []\\n\\nfor plant, xls in xls_files.items():\\n    for sheet_name in xls.sheet_names[2:]:\\n        df = pd.read_excel(xls_files[plant], sheet_name, header=[1, 2])\\n\\n        if not df[CEMENT_TYPE_COLS].iloc[2:].isna().all().all():\\n            cement_type = (\\n                df[CEMENT_TYPE_COLS]\\n                .loc[2:]\\n                .astype(str)\\n                .sum(axis=1)\\n                .str.replace(\\\" \\\", \\\"\\\")\\n                .str.replace(\\\"-\\\", \\\"\\\")\\n                .str.replace(\\\"nan\\\", \\\"\\\")\\n                .unique()\\n            )\\n\\n        else:\\n            cement_type = (\\n                df[[(\\\"Obs.\\\", \\\"Unnamed: 8_level_1\\\")]]\\n                .loc[2:]\\n                .astype(str)\\n                .sum(axis=1)\\n                .str.replace(\\\" \\\", \\\"\\\")\\n                .str.replace(\\\"-\\\", \\\"\\\")\\n                .unique()\\n            )\\n\\n        cement_types_per_plant.append((plant, sheet_name, cement_type))\\n        dataframes.append(df)\";\n",
       "                var nbb_cells = Jupyter.notebook.get_cells();\n",
       "                for (var i = 0; i < nbb_cells.length; ++i) {\n",
       "                    if (nbb_cells[i].input_prompt_number == nbb_cell_id) {\n",
       "                        if (nbb_cells[i].get_text() == nbb_unformatted_code) {\n",
       "                             nbb_cells[i].set_text(nbb_formatted_code);\n",
       "                        }\n",
       "                        break;\n",
       "                    }\n",
       "                }\n",
       "            }, 500);\n",
       "            "
      ],
      "text/plain": [
       "<IPython.core.display.Javascript object>"
      ]
     },
     "metadata": {},
     "output_type": "display_data"
    }
   ],
   "source": [
    "cement_types_per_plant = []\n",
    "CEMENT_TYPE_COLS = [\"Tipo de cimento\", \"Classe de resistência\"]\n",
    "dataframes = []\n",
    "\n",
    "for plant, xls in xls_files.items():\n",
    "    for sheet_name in xls.sheet_names[2:]:\n",
    "        df = pd.read_excel(xls_files[plant], sheet_name, header=[1, 2])\n",
    "\n",
    "        if not df[CEMENT_TYPE_COLS].iloc[2:].isna().all().all():\n",
    "            cement_type = (\n",
    "                df[CEMENT_TYPE_COLS]\n",
    "                .loc[2:]\n",
    "                .astype(str)\n",
    "                .sum(axis=1)\n",
    "                .str.replace(\" \", \"\")\n",
    "                .str.replace(\"-\", \"\")\n",
    "                .str.replace(\"nan\", \"\")\n",
    "                .unique()\n",
    "            )\n",
    "\n",
    "        else:\n",
    "            cement_type = (\n",
    "                df[[(\"Obs.\", \"Unnamed: 8_level_1\")]]\n",
    "                .loc[2:]\n",
    "                .astype(str)\n",
    "                .sum(axis=1)\n",
    "                .str.replace(\" \", \"\")\n",
    "                .str.replace(\"-\", \"\")\n",
    "                .unique()\n",
    "            )\n",
    "\n",
    "        cement_types_per_plant.append((plant, sheet_name, cement_type))\n",
    "        dataframes.append(df)"
   ]
  },
  {
   "cell_type": "code",
   "execution_count": 8,
   "id": "68ebeafe",
   "metadata": {},
   "outputs": [
    {
     "data": {
      "text/plain": [
       "[('V', '93', array(['CPIV32'], dtype=object))]"
      ]
     },
     "execution_count": 8,
     "metadata": {},
     "output_type": "execute_result"
    },
    {
     "data": {
      "application/javascript": [
       "\n",
       "            setTimeout(function() {\n",
       "                var nbb_cell_id = 8;\n",
       "                var nbb_unformatted_code = \"cement_types_per_plant\";\n",
       "                var nbb_formatted_code = \"cement_types_per_plant\";\n",
       "                var nbb_cells = Jupyter.notebook.get_cells();\n",
       "                for (var i = 0; i < nbb_cells.length; ++i) {\n",
       "                    if (nbb_cells[i].input_prompt_number == nbb_cell_id) {\n",
       "                        if (nbb_cells[i].get_text() == nbb_unformatted_code) {\n",
       "                             nbb_cells[i].set_text(nbb_formatted_code);\n",
       "                        }\n",
       "                        break;\n",
       "                    }\n",
       "                }\n",
       "            }, 500);\n",
       "            "
      ],
      "text/plain": [
       "<IPython.core.display.Javascript object>"
      ]
     },
     "metadata": {},
     "output_type": "display_data"
    }
   ],
   "source": [
    "cement_types_per_plant"
   ]
  },
  {
   "cell_type": "code",
   "execution_count": 9,
   "id": "88c941e7",
   "metadata": {},
   "outputs": [
    {
     "data": {
      "text/plain": [
       "Counter({'CPIV32': 1})"
      ]
     },
     "execution_count": 9,
     "metadata": {},
     "output_type": "execute_result"
    },
    {
     "data": {
      "application/javascript": [
       "\n",
       "            setTimeout(function() {\n",
       "                var nbb_cell_id = 9;\n",
       "                var nbb_unformatted_code = \"cements = []\\nfor tup in cement_types_per_plant:\\n    cements.append(tup[2][0])\\nCounter(cements)\";\n",
       "                var nbb_formatted_code = \"cements = []\\nfor tup in cement_types_per_plant:\\n    cements.append(tup[2][0])\\nCounter(cements)\";\n",
       "                var nbb_cells = Jupyter.notebook.get_cells();\n",
       "                for (var i = 0; i < nbb_cells.length; ++i) {\n",
       "                    if (nbb_cells[i].input_prompt_number == nbb_cell_id) {\n",
       "                        if (nbb_cells[i].get_text() == nbb_unformatted_code) {\n",
       "                             nbb_cells[i].set_text(nbb_formatted_code);\n",
       "                        }\n",
       "                        break;\n",
       "                    }\n",
       "                }\n",
       "            }, 500);\n",
       "            "
      ],
      "text/plain": [
       "<IPython.core.display.Javascript object>"
      ]
     },
     "metadata": {},
     "output_type": "display_data"
    }
   ],
   "source": [
    "cements = []\n",
    "for tup in cement_types_per_plant:\n",
    "    cements.append(tup[2][0])\n",
    "Counter(cements)"
   ]
  },
  {
   "cell_type": "code",
   "execution_count": 10,
   "id": "af1bdac7",
   "metadata": {},
   "outputs": [
    {
     "data": {
      "application/javascript": [
       "\n",
       "            setTimeout(function() {\n",
       "                var nbb_cell_id = 10;\n",
       "                var nbb_unformatted_code = \"dataframes = []\\n\\nfor plant, xls in xls_files.items():\\n    for sheet_name in xls.sheet_names[2:]:\\n        df = pd.read_excel(xls_files[plant], sheet_name, header=[0, 1, 2])\\n        df[\\\"Unnamed: 0_level_0\\\", \\\"Unnamed: 0_level_1\\\", \\\"Unnamed: 0_level_2\\\"] = plant\\n        dataframes.append(df.drop([0, 1], axis=0).reset_index(drop=True).copy())\";\n",
       "                var nbb_formatted_code = \"dataframes = []\\n\\nfor plant, xls in xls_files.items():\\n    for sheet_name in xls.sheet_names[2:]:\\n        df = pd.read_excel(xls_files[plant], sheet_name, header=[0, 1, 2])\\n        df[\\\"Unnamed: 0_level_0\\\", \\\"Unnamed: 0_level_1\\\", \\\"Unnamed: 0_level_2\\\"] = plant\\n        dataframes.append(df.drop([0, 1], axis=0).reset_index(drop=True).copy())\";\n",
       "                var nbb_cells = Jupyter.notebook.get_cells();\n",
       "                for (var i = 0; i < nbb_cells.length; ++i) {\n",
       "                    if (nbb_cells[i].input_prompt_number == nbb_cell_id) {\n",
       "                        if (nbb_cells[i].get_text() == nbb_unformatted_code) {\n",
       "                             nbb_cells[i].set_text(nbb_formatted_code);\n",
       "                        }\n",
       "                        break;\n",
       "                    }\n",
       "                }\n",
       "            }, 500);\n",
       "            "
      ],
      "text/plain": [
       "<IPython.core.display.Javascript object>"
      ]
     },
     "metadata": {},
     "output_type": "display_data"
    }
   ],
   "source": [
    "dataframes = []\n",
    "\n",
    "for plant, xls in xls_files.items():\n",
    "    for sheet_name in xls.sheet_names[2:]:\n",
    "        df = pd.read_excel(xls_files[plant], sheet_name, header=[0, 1, 2])\n",
    "        df[\"Unnamed: 0_level_0\", \"Unnamed: 0_level_1\", \"Unnamed: 0_level_2\"] = plant\n",
    "        dataframes.append(df.drop([0, 1], axis=0).reset_index(drop=True).copy())"
   ]
  },
  {
   "cell_type": "code",
   "execution_count": 11,
   "id": "c4919ee2",
   "metadata": {},
   "outputs": [
    {
     "data": {
      "application/javascript": [
       "\n",
       "            setTimeout(function() {\n",
       "                var nbb_cell_id = 11;\n",
       "                var nbb_unformatted_code = \"df = pd.concat(dataframes, axis=0).reset_index(drop=True)\";\n",
       "                var nbb_formatted_code = \"df = pd.concat(dataframes, axis=0).reset_index(drop=True)\";\n",
       "                var nbb_cells = Jupyter.notebook.get_cells();\n",
       "                for (var i = 0; i < nbb_cells.length; ++i) {\n",
       "                    if (nbb_cells[i].input_prompt_number == nbb_cell_id) {\n",
       "                        if (nbb_cells[i].get_text() == nbb_unformatted_code) {\n",
       "                             nbb_cells[i].set_text(nbb_formatted_code);\n",
       "                        }\n",
       "                        break;\n",
       "                    }\n",
       "                }\n",
       "            }, 500);\n",
       "            "
      ],
      "text/plain": [
       "<IPython.core.display.Javascript object>"
      ]
     },
     "metadata": {},
     "output_type": "display_data"
    }
   ],
   "source": [
    "df = pd.concat(dataframes, axis=0).reset_index(drop=True)"
   ]
  },
  {
   "cell_type": "markdown",
   "id": "8dfc7bff",
   "metadata": {},
   "source": [
    "## Initial Preprocessing"
   ]
  },
  {
   "cell_type": "code",
   "execution_count": 12,
   "id": "f360ba12",
   "metadata": {},
   "outputs": [
    {
     "data": {
      "application/javascript": [
       "\n",
       "            setTimeout(function() {\n",
       "                var nbb_cell_id = 12;\n",
       "                var nbb_unformatted_code = \"df = pd.concat(\\n    [\\n        df[\\\"Unnamed: 0_level_0\\\", \\\"Unnamed: 0_level_1\\\", \\\"Unnamed: 0_level_2\\\"],\\n        df[\\\"Dados iniciais\\\"],\\n        df[\\\"Cimento\\\"][\\\"An\\u00e1lise qu\\u00edmica\\\"],\\n        df[\\\"Caracter\\u00edstias f\\u00edsicas do cimento\\\"],\\n        df[\\\"Propriedades do cimento\\\"],\\n    ],\\n    axis=1,\\n)\";\n",
       "                var nbb_formatted_code = \"df = pd.concat(\\n    [\\n        df[\\\"Unnamed: 0_level_0\\\", \\\"Unnamed: 0_level_1\\\", \\\"Unnamed: 0_level_2\\\"],\\n        df[\\\"Dados iniciais\\\"],\\n        df[\\\"Cimento\\\"][\\\"An\\u00e1lise qu\\u00edmica\\\"],\\n        df[\\\"Caracter\\u00edstias f\\u00edsicas do cimento\\\"],\\n        df[\\\"Propriedades do cimento\\\"],\\n    ],\\n    axis=1,\\n)\";\n",
       "                var nbb_cells = Jupyter.notebook.get_cells();\n",
       "                for (var i = 0; i < nbb_cells.length; ++i) {\n",
       "                    if (nbb_cells[i].input_prompt_number == nbb_cell_id) {\n",
       "                        if (nbb_cells[i].get_text() == nbb_unformatted_code) {\n",
       "                             nbb_cells[i].set_text(nbb_formatted_code);\n",
       "                        }\n",
       "                        break;\n",
       "                    }\n",
       "                }\n",
       "            }, 500);\n",
       "            "
      ],
      "text/plain": [
       "<IPython.core.display.Javascript object>"
      ]
     },
     "metadata": {},
     "output_type": "display_data"
    }
   ],
   "source": [
    "df = pd.concat(\n",
    "    [\n",
    "        df[\"Unnamed: 0_level_0\", \"Unnamed: 0_level_1\", \"Unnamed: 0_level_2\"],\n",
    "        df[\"Dados iniciais\"],\n",
    "        df[\"Cimento\"][\"Análise química\"],\n",
    "        df[\"Característias físicas do cimento\"],\n",
    "        df[\"Propriedades do cimento\"],\n",
    "    ],\n",
    "    axis=1,\n",
    ")"
   ]
  },
  {
   "cell_type": "markdown",
   "id": "e1b4b617",
   "metadata": {},
   "source": [
    "### 1. Dropping columns where either there is no data nor it contributes to the analysis\n",
    "### 2. Renaming columns to a short identifiable name"
   ]
  },
  {
   "cell_type": "code",
   "execution_count": 13,
   "id": "ecb5184c",
   "metadata": {},
   "outputs": [
    {
     "data": {
      "application/javascript": [
       "\n",
       "            setTimeout(function() {\n",
       "                var nbb_cell_id = 13;\n",
       "                var nbb_unformatted_code = \"COLUMNS_TO_DROP = [\\n    (\\\"Data\\\", \\\"Medida\\\"),\\n    (\\\"Hor\\u00e1rio\\\", \\\"Produ\\u00e7\\u00e3o\\\"),\\n    (\\\"Hor\\u00e1rio\\\", \\\"Medida\\\"),\\n    (\\\"Obs.\\\", \\\"Unnamed: 148_level_2\\\"),\\n    (\\\"Tipo de cimento\\\", \\\"Unnamed: 6_level_2\\\"),\\n    (\\\"Classe de resist\\u00eancia\\\", \\\"Unnamed: 7_level_2\\\"),\\n    (\\\"Obs.\\\", \\\"Unnamed: 8_level_2\\\"),\\n    \\\"Obs.\\\",\\n    (\\\"Obs.\\\", \\\"Unnamed: 148_level_2\\\"),\\n    (\\\"Unnamed: 141_level_1\\\", \\\"Obs.\\\"),\\n    # (\\\"Unnamed: 139_level_1\\\", \\\"#400\\\"),\\n]\\n\\nCOLUMNS_TO_RENAME = {\\n    (\\\"Unnamed: 0_level_0\\\", \\\"Unnamed: 0_level_1\\\", \\\"Unnamed: 0_level_2\\\"): \\\"Plant\\\",\\n    (\\\"Cidade\\\", \\\"Unnamed: 1_level_2\\\"): \\\"City\\\",\\n    (\\\"Data\\\", \\\"Produ\\u00e7\\u00e3o\\\"): \\\"Date\\\",  # Arrumar!\\n    (\\\"Unnamed: 136_level_1\\\", \\\"Blaine\\\"): \\\"Blaine\\\",\\n    (\\\"Unnamed: 137_level_1\\\", \\\"#200\\\"): \\\"#200\\\",\\n    (\\\"Unnamed: 138_level_1\\\", \\\"#325\\\"): \\\"#325\\\",\\n    (\\\"Unnamed: 139_level_1\\\", \\\"#400\\\"): \\\"#400\\\",\\n    (\\\"Unnamed: 140_level_1\\\", \\\"Massa espec\\u00edfica\\\"): \\\"Specific Gravity\\\",\\n    (\\\"Tempo de pega\\\", \\\"Inicio\\\"): \\\"Initial setting time\\\",\\n    (\\\"Tempo de pega\\\", \\\"Fim\\\"): \\\"Final setting time\\\",\\n    (\\\"Resist\\u00eancia \\u00e0 compress\\u00e3o\\\", \\\"1 d\\\"): \\\"CS1\\\",\\n    (\\\"Resist\\u00eancia \\u00e0 compress\\u00e3o\\\", \\\"3 d\\\"): \\\"CS3\\\",\\n    (\\\"Resist\\u00eancia \\u00e0 compress\\u00e3o\\\", \\\"7 d\\\"): \\\"CS7\\\",\\n    (\\\"Resist\\u00eancia \\u00e0 compress\\u00e3o\\\", \\\"28 d\\\"): \\\"CS28\\\",\\n    \\\"Perda ao fogo\\\": \\\"Loss on Ignition\\\",\\n    \\\"Res\\u00edduo insol\\u00favel\\\": \\\"Insoluble Residue\\\",\\n}\";\n",
       "                var nbb_formatted_code = \"COLUMNS_TO_DROP = [\\n    (\\\"Data\\\", \\\"Medida\\\"),\\n    (\\\"Hor\\u00e1rio\\\", \\\"Produ\\u00e7\\u00e3o\\\"),\\n    (\\\"Hor\\u00e1rio\\\", \\\"Medida\\\"),\\n    (\\\"Obs.\\\", \\\"Unnamed: 148_level_2\\\"),\\n    (\\\"Tipo de cimento\\\", \\\"Unnamed: 6_level_2\\\"),\\n    (\\\"Classe de resist\\u00eancia\\\", \\\"Unnamed: 7_level_2\\\"),\\n    (\\\"Obs.\\\", \\\"Unnamed: 8_level_2\\\"),\\n    \\\"Obs.\\\",\\n    (\\\"Obs.\\\", \\\"Unnamed: 148_level_2\\\"),\\n    (\\\"Unnamed: 141_level_1\\\", \\\"Obs.\\\"),\\n    # (\\\"Unnamed: 139_level_1\\\", \\\"#400\\\"),\\n]\\n\\nCOLUMNS_TO_RENAME = {\\n    (\\\"Unnamed: 0_level_0\\\", \\\"Unnamed: 0_level_1\\\", \\\"Unnamed: 0_level_2\\\"): \\\"Plant\\\",\\n    (\\\"Cidade\\\", \\\"Unnamed: 1_level_2\\\"): \\\"City\\\",\\n    (\\\"Data\\\", \\\"Produ\\u00e7\\u00e3o\\\"): \\\"Date\\\",  # Arrumar!\\n    (\\\"Unnamed: 136_level_1\\\", \\\"Blaine\\\"): \\\"Blaine\\\",\\n    (\\\"Unnamed: 137_level_1\\\", \\\"#200\\\"): \\\"#200\\\",\\n    (\\\"Unnamed: 138_level_1\\\", \\\"#325\\\"): \\\"#325\\\",\\n    (\\\"Unnamed: 139_level_1\\\", \\\"#400\\\"): \\\"#400\\\",\\n    (\\\"Unnamed: 140_level_1\\\", \\\"Massa espec\\u00edfica\\\"): \\\"Specific Gravity\\\",\\n    (\\\"Tempo de pega\\\", \\\"Inicio\\\"): \\\"Initial setting time\\\",\\n    (\\\"Tempo de pega\\\", \\\"Fim\\\"): \\\"Final setting time\\\",\\n    (\\\"Resist\\u00eancia \\u00e0 compress\\u00e3o\\\", \\\"1 d\\\"): \\\"CS1\\\",\\n    (\\\"Resist\\u00eancia \\u00e0 compress\\u00e3o\\\", \\\"3 d\\\"): \\\"CS3\\\",\\n    (\\\"Resist\\u00eancia \\u00e0 compress\\u00e3o\\\", \\\"7 d\\\"): \\\"CS7\\\",\\n    (\\\"Resist\\u00eancia \\u00e0 compress\\u00e3o\\\", \\\"28 d\\\"): \\\"CS28\\\",\\n    \\\"Perda ao fogo\\\": \\\"Loss on Ignition\\\",\\n    \\\"Res\\u00edduo insol\\u00favel\\\": \\\"Insoluble Residue\\\",\\n}\";\n",
       "                var nbb_cells = Jupyter.notebook.get_cells();\n",
       "                for (var i = 0; i < nbb_cells.length; ++i) {\n",
       "                    if (nbb_cells[i].input_prompt_number == nbb_cell_id) {\n",
       "                        if (nbb_cells[i].get_text() == nbb_unformatted_code) {\n",
       "                             nbb_cells[i].set_text(nbb_formatted_code);\n",
       "                        }\n",
       "                        break;\n",
       "                    }\n",
       "                }\n",
       "            }, 500);\n",
       "            "
      ],
      "text/plain": [
       "<IPython.core.display.Javascript object>"
      ]
     },
     "metadata": {},
     "output_type": "display_data"
    }
   ],
   "source": [
    "COLUMNS_TO_DROP = [\n",
    "    (\"Data\", \"Medida\"),\n",
    "    (\"Horário\", \"Produção\"),\n",
    "    (\"Horário\", \"Medida\"),\n",
    "    (\"Obs.\", \"Unnamed: 148_level_2\"),\n",
    "    (\"Tipo de cimento\", \"Unnamed: 6_level_2\"),\n",
    "    (\"Classe de resistência\", \"Unnamed: 7_level_2\"),\n",
    "    (\"Obs.\", \"Unnamed: 8_level_2\"),\n",
    "    \"Obs.\",\n",
    "    (\"Obs.\", \"Unnamed: 148_level_2\"),\n",
    "    (\"Unnamed: 141_level_1\", \"Obs.\"),\n",
    "    # (\"Unnamed: 139_level_1\", \"#400\"),\n",
    "]\n",
    "\n",
    "COLUMNS_TO_RENAME = {\n",
    "    (\"Unnamed: 0_level_0\", \"Unnamed: 0_level_1\", \"Unnamed: 0_level_2\"): \"Plant\",\n",
    "    (\"Cidade\", \"Unnamed: 1_level_2\"): \"City\",\n",
    "    (\"Data\", \"Produção\"): \"Date\",  # Arrumar!\n",
    "    (\"Unnamed: 136_level_1\", \"Blaine\"): \"Blaine\",\n",
    "    (\"Unnamed: 137_level_1\", \"#200\"): \"#200\",\n",
    "    (\"Unnamed: 138_level_1\", \"#325\"): \"#325\",\n",
    "    (\"Unnamed: 139_level_1\", \"#400\"): \"#400\",\n",
    "    (\"Unnamed: 140_level_1\", \"Massa específica\"): \"Specific Gravity\",\n",
    "    (\"Tempo de pega\", \"Inicio\"): \"Initial setting time\",\n",
    "    (\"Tempo de pega\", \"Fim\"): \"Final setting time\",\n",
    "    (\"Resistência à compressão\", \"1 d\"): \"CS1\",\n",
    "    (\"Resistência à compressão\", \"3 d\"): \"CS3\",\n",
    "    (\"Resistência à compressão\", \"7 d\"): \"CS7\",\n",
    "    (\"Resistência à compressão\", \"28 d\"): \"CS28\",\n",
    "    \"Perda ao fogo\": \"Loss on Ignition\",\n",
    "    \"Resíduo insolúvel\": \"Insoluble Residue\",\n",
    "}"
   ]
  },
  {
   "cell_type": "markdown",
   "id": "9bdcff5b",
   "metadata": {},
   "source": [
    "### Defining a single variable to identify Cement Type"
   ]
  },
  {
   "cell_type": "code",
   "execution_count": 14,
   "id": "92ed1dd2",
   "metadata": {},
   "outputs": [
    {
     "data": {
      "application/javascript": [
       "\n",
       "            setTimeout(function() {\n",
       "                var nbb_cell_id = 14;\n",
       "                var nbb_unformatted_code = \"# Single variable for the Cement Type\\ndf[\\\"Cement_Type\\\"] = (\\n    df[\\n        [\\n            (\\\"Tipo de cimento\\\", \\\"Unnamed: 6_level_2\\\"),\\n            (\\\"Classe de resist\\u00eancia\\\", \\\"Unnamed: 7_level_2\\\"),\\n            (\\\"Obs.\\\", \\\"Unnamed: 8_level_2\\\"),\\n        ]\\n    ]\\n    .fillna(\\\"\\\")\\n    .astype(str)\\n    .sum(axis=1)\\n)\\n\\n# Preprocessing\\ndf[\\\"Cement_Type\\\"] = (\\n    df[\\\"Cement_Type\\\"]\\n    .str.replace(\\\"Expedido\\\", \\\"\\\")\\n    .str.replace(\\\"Linha 9\\\", \\\"\\\")\\n    .str.replace(\\\"Itaja\\u00ed\\\", \\\"\\\")\\n    # .str.replace(\\\"D-G\\\", \\\"\\\")\\n    # .str.replace(\\\"D-E\\\", \\\"\\\")\\n    .str.replace(\\\"DF2\\\", \\\"\\\")\\n    .str.replace(\\\"CPIIF40\\\", \\\"CP II-F-40\\\")\\n    .str.replace(\\\"CPIIF40\\\", \\\"CP II-F40\\\")\\n    .str.replace(\\\"CP VARI\\\", \\\"CP V-ARI\\\")\\n    .str.replace(\\\"CPVARI\\\", \\\"CP V-ARI\\\")\\n    .str.replace(\\\"CP V-RSARI\\\", \\\"CP V-ARI RS\\\")\\n    .str.replace(\\\"CP III-RS40\\\", \\\"CP III-40 RS\\\")\\n    .str.replace(\\\"CP III-RS32\\\", \\\"CP III-32 RS\\\")\\n    .str.replace(\\\"CP IV-RS32\\\", \\\"CP IV-32 RS\\\")\\n    .str.replace(\\\"CP III40\\\", \\\"CP III-40\\\")\\n    .str.replace(\\\"CP III32\\\", \\\"CP III-32\\\")\\n    .str.replace(\\\"CP I-S40\\\", \\\"CP I-S-40\\\")\\n    .str.replace(\\\"CP I40\\\", \\\"CP I-40\\\")\\n    .str.replace(\\\"CP II-E32\\\", \\\"CP II-E-32\\\")\\n    .str.replace(\\\"CP II-E40\\\", \\\"CP II-E-40\\\")\\n    .str.replace(\\\"CP II-F FIBRO40\\\", \\\"CP II-F-40\\\")\\n    .str.replace(\\\"CP II-F32\\\", \\\"CP II-F-32\\\")\\n    .str.replace(\\\"CP II-F40\\\", \\\"CP II-F-40\\\")\\n    .str.replace(\\\"CP II-Z32\\\", \\\"CP II-Z-32\\\")\\n    .str.replace(\\\"CP II-Z40\\\", \\\"CP II-Z-40\\\")\\n    .str.replace(\\\"CP IV32\\\", \\\"CP IV-32\\\")\\n    .str.replace(\\\"CP IND\\\", \\\"CP I\\\")\\n    .str.replace(\\\"CPINDCC\\\", \\\"CP I\\\")\\n    .str.strip()\\n)\\n\\ndf = df.drop(COLUMNS_TO_DROP, axis=1).rename(COLUMNS_TO_RENAME, axis=1).copy()\\ndf = df.drop([0]).reset_index(drop=True)\\ndf = df.infer_objects()\";\n",
       "                var nbb_formatted_code = \"# Single variable for the Cement Type\\ndf[\\\"Cement_Type\\\"] = (\\n    df[\\n        [\\n            (\\\"Tipo de cimento\\\", \\\"Unnamed: 6_level_2\\\"),\\n            (\\\"Classe de resist\\u00eancia\\\", \\\"Unnamed: 7_level_2\\\"),\\n            (\\\"Obs.\\\", \\\"Unnamed: 8_level_2\\\"),\\n        ]\\n    ]\\n    .fillna(\\\"\\\")\\n    .astype(str)\\n    .sum(axis=1)\\n)\\n\\n# Preprocessing\\ndf[\\\"Cement_Type\\\"] = (\\n    df[\\\"Cement_Type\\\"]\\n    .str.replace(\\\"Expedido\\\", \\\"\\\")\\n    .str.replace(\\\"Linha 9\\\", \\\"\\\")\\n    .str.replace(\\\"Itaja\\u00ed\\\", \\\"\\\")\\n    # .str.replace(\\\"D-G\\\", \\\"\\\")\\n    # .str.replace(\\\"D-E\\\", \\\"\\\")\\n    .str.replace(\\\"DF2\\\", \\\"\\\")\\n    .str.replace(\\\"CPIIF40\\\", \\\"CP II-F-40\\\")\\n    .str.replace(\\\"CPIIF40\\\", \\\"CP II-F40\\\")\\n    .str.replace(\\\"CP VARI\\\", \\\"CP V-ARI\\\")\\n    .str.replace(\\\"CPVARI\\\", \\\"CP V-ARI\\\")\\n    .str.replace(\\\"CP V-RSARI\\\", \\\"CP V-ARI RS\\\")\\n    .str.replace(\\\"CP III-RS40\\\", \\\"CP III-40 RS\\\")\\n    .str.replace(\\\"CP III-RS32\\\", \\\"CP III-32 RS\\\")\\n    .str.replace(\\\"CP IV-RS32\\\", \\\"CP IV-32 RS\\\")\\n    .str.replace(\\\"CP III40\\\", \\\"CP III-40\\\")\\n    .str.replace(\\\"CP III32\\\", \\\"CP III-32\\\")\\n    .str.replace(\\\"CP I-S40\\\", \\\"CP I-S-40\\\")\\n    .str.replace(\\\"CP I40\\\", \\\"CP I-40\\\")\\n    .str.replace(\\\"CP II-E32\\\", \\\"CP II-E-32\\\")\\n    .str.replace(\\\"CP II-E40\\\", \\\"CP II-E-40\\\")\\n    .str.replace(\\\"CP II-F FIBRO40\\\", \\\"CP II-F-40\\\")\\n    .str.replace(\\\"CP II-F32\\\", \\\"CP II-F-32\\\")\\n    .str.replace(\\\"CP II-F40\\\", \\\"CP II-F-40\\\")\\n    .str.replace(\\\"CP II-Z32\\\", \\\"CP II-Z-32\\\")\\n    .str.replace(\\\"CP II-Z40\\\", \\\"CP II-Z-40\\\")\\n    .str.replace(\\\"CP IV32\\\", \\\"CP IV-32\\\")\\n    .str.replace(\\\"CP IND\\\", \\\"CP I\\\")\\n    .str.replace(\\\"CPINDCC\\\", \\\"CP I\\\")\\n    .str.strip()\\n)\\n\\ndf = df.drop(COLUMNS_TO_DROP, axis=1).rename(COLUMNS_TO_RENAME, axis=1).copy()\\ndf = df.drop([0]).reset_index(drop=True)\\ndf = df.infer_objects()\";\n",
       "                var nbb_cells = Jupyter.notebook.get_cells();\n",
       "                for (var i = 0; i < nbb_cells.length; ++i) {\n",
       "                    if (nbb_cells[i].input_prompt_number == nbb_cell_id) {\n",
       "                        if (nbb_cells[i].get_text() == nbb_unformatted_code) {\n",
       "                             nbb_cells[i].set_text(nbb_formatted_code);\n",
       "                        }\n",
       "                        break;\n",
       "                    }\n",
       "                }\n",
       "            }, 500);\n",
       "            "
      ],
      "text/plain": [
       "<IPython.core.display.Javascript object>"
      ]
     },
     "metadata": {},
     "output_type": "display_data"
    }
   ],
   "source": [
    "# Single variable for the Cement Type\n",
    "df[\"Cement_Type\"] = (\n",
    "    df[\n",
    "        [\n",
    "            (\"Tipo de cimento\", \"Unnamed: 6_level_2\"),\n",
    "            (\"Classe de resistência\", \"Unnamed: 7_level_2\"),\n",
    "            (\"Obs.\", \"Unnamed: 8_level_2\"),\n",
    "        ]\n",
    "    ]\n",
    "    .fillna(\"\")\n",
    "    .astype(str)\n",
    "    .sum(axis=1)\n",
    ")\n",
    "\n",
    "# Preprocessing\n",
    "df[\"Cement_Type\"] = (\n",
    "    df[\"Cement_Type\"]\n",
    "    .str.replace(\"Expedido\", \"\")\n",
    "    .str.replace(\"Linha 9\", \"\")\n",
    "    .str.replace(\"Itajaí\", \"\")\n",
    "    # .str.replace(\"D-G\", \"\")\n",
    "    # .str.replace(\"D-E\", \"\")\n",
    "    .str.replace(\"DF2\", \"\")\n",
    "    .str.replace(\"CPIIF40\", \"CP II-F-40\")\n",
    "    .str.replace(\"CPIIF40\", \"CP II-F40\")\n",
    "    .str.replace(\"CP VARI\", \"CP V-ARI\")\n",
    "    .str.replace(\"CPVARI\", \"CP V-ARI\")\n",
    "    .str.replace(\"CP V-RSARI\", \"CP V-ARI RS\")\n",
    "    .str.replace(\"CP III-RS40\", \"CP III-40 RS\")\n",
    "    .str.replace(\"CP III-RS32\", \"CP III-32 RS\")\n",
    "    .str.replace(\"CP IV-RS32\", \"CP IV-32 RS\")\n",
    "    .str.replace(\"CP III40\", \"CP III-40\")\n",
    "    .str.replace(\"CP III32\", \"CP III-32\")\n",
    "    .str.replace(\"CP I-S40\", \"CP I-S-40\")\n",
    "    .str.replace(\"CP I40\", \"CP I-40\")\n",
    "    .str.replace(\"CP II-E32\", \"CP II-E-32\")\n",
    "    .str.replace(\"CP II-E40\", \"CP II-E-40\")\n",
    "    .str.replace(\"CP II-F FIBRO40\", \"CP II-F-40\")\n",
    "    .str.replace(\"CP II-F32\", \"CP II-F-32\")\n",
    "    .str.replace(\"CP II-F40\", \"CP II-F-40\")\n",
    "    .str.replace(\"CP II-Z32\", \"CP II-Z-32\")\n",
    "    .str.replace(\"CP II-Z40\", \"CP II-Z-40\")\n",
    "    .str.replace(\"CP IV32\", \"CP IV-32\")\n",
    "    .str.replace(\"CP IND\", \"CP I\")\n",
    "    .str.replace(\"CPINDCC\", \"CP I\")\n",
    "    .str.strip()\n",
    ")\n",
    "\n",
    "df = df.drop(COLUMNS_TO_DROP, axis=1).rename(COLUMNS_TO_RENAME, axis=1).copy()\n",
    "df = df.drop([0]).reset_index(drop=True)\n",
    "df = df.infer_objects()"
   ]
  },
  {
   "cell_type": "markdown",
   "id": "2a390ebe",
   "metadata": {},
   "source": [
    "### Dropping and rename the columns defined above"
   ]
  },
  {
   "cell_type": "markdown",
   "id": "6a4c9913",
   "metadata": {},
   "source": [
    "### Cleaning and converting numeric columns to float"
   ]
  },
  {
   "cell_type": "code",
   "execution_count": 15,
   "id": "20719532",
   "metadata": {
    "scrolled": false
   },
   "outputs": [
    {
     "name": "stdout",
     "output_type": "stream",
     "text": [
      "could not convert string to float: ' '\n",
      "could not convert string to float: ' '\n",
      "could not convert string to float: ' '\n",
      "could not convert string to float: ' '\n",
      "could not convert string to float: ' '\n",
      "could not convert string to float: ' '\n",
      "could not convert string to float: ' '\n",
      "could not convert string to float: ' '\n",
      "could not convert string to float: ' '\n",
      "could not convert string to float: ' '\n",
      "could not convert string to float: ' '\n",
      "could not convert string to float: ' '\n",
      "could not convert string to float: ' '\n",
      "could not convert string to float: ' '\n",
      "could not convert string to float: ' '\n",
      "could not convert string to float: ' '\n",
      "could not convert string to float: ' '\n",
      "could not convert string to float: ' '\n",
      "could not convert string to float: ' '\n",
      "could not convert string to float: ' '\n",
      "could not convert string to float: ' '\n",
      "could not convert string to float: ' '\n",
      "could not convert string to float: ' '\n",
      "could not convert string to float: ' '\n",
      "could not convert string to float: ' '\n",
      "could not convert string to float: ' '\n",
      "could not convert string to float: ' '\n",
      "could not convert string to float: ' '\n",
      "could not convert string to float: ' '\n",
      "could not convert string to float: ' '\n",
      "could not convert string to float: ' '\n",
      "could not convert string to float: ' '\n",
      "could not convert string to float: ' '\n",
      "could not convert string to float: ' '\n",
      "could not convert string to float: ' '\n",
      "could not convert string to float: ' '\n",
      "could not convert string to float: ' '\n",
      "could not convert string to float: ' '\n",
      "could not convert string to float: ' '\n",
      "could not convert string to float: ' '\n",
      "could not convert string to float: ' '\n",
      "could not convert string to float: ' '\n",
      "could not convert string to float: ' '\n",
      "could not convert string to float: ' '\n",
      "could not convert string to float: ' '\n",
      "could not convert string to float: ' '\n",
      "could not convert string to float: ' '\n",
      "could not convert string to float: ' '\n"
     ]
    },
    {
     "data": {
      "application/javascript": [
       "\n",
       "            setTimeout(function() {\n",
       "                var nbb_cell_id = 15;\n",
       "                var nbb_unformatted_code = \"NUMERIC_COLUMNS = [\\n    \\\"CaO\\\",\\n    \\\"MgO\\\",\\n    \\\"Na2O\\\",\\n    \\\"Al2O3\\\",\\n    \\\"SiO2\\\",\\n    \\\"SO3\\\",\\n    \\\"K2O\\\",\\n    \\\"TiO2\\\",\\n    \\\"Fe2O3\\\",\\n    \\\"Loss on Ignition\\\",\\n    \\\"Insoluble Residue\\\",\\n    \\\"Blaine\\\",\\n    \\\"#200\\\",\\n    \\\"#325\\\",\\n    \\\"#400\\\",\\n    \\\"Specific Gravity\\\",\\n    \\\"Final setting time\\\",\\n    \\\"Initial setting time\\\",\\n    \\\"CS1\\\",\\n    \\\"CS3\\\",\\n    \\\"CS7\\\",\\n    \\\"CS28\\\",\\n]\\n\\ndf = preprocess_numeric_cols(df, NUMERIC_COLUMNS)\\n\\n# Preprocessing to fix numeric columns\\ndf[NUMERIC_COLUMNS] = df[NUMERIC_COLUMNS].map(convert_to_float)\\n\\n# Converting Date to pandas datetime\\ndf[\\\"Date\\\"] = pd.to_datetime(df[\\\"Date\\\"])\\n\\n# Drop rows completely missing\\nindex_to_keep = (\\n    df.drop([\\\"Plant\\\", \\\"Date\\\", \\\"Cement_Type\\\"], axis=1).dropna(axis=0, how=\\\"all\\\").index\\n)\\ndf = df.iloc[index_to_keep].reset_index(drop=True)\\n\\ndf = df.infer_objects()\";\n",
       "                var nbb_formatted_code = \"NUMERIC_COLUMNS = [\\n    \\\"CaO\\\",\\n    \\\"MgO\\\",\\n    \\\"Na2O\\\",\\n    \\\"Al2O3\\\",\\n    \\\"SiO2\\\",\\n    \\\"SO3\\\",\\n    \\\"K2O\\\",\\n    \\\"TiO2\\\",\\n    \\\"Fe2O3\\\",\\n    \\\"Loss on Ignition\\\",\\n    \\\"Insoluble Residue\\\",\\n    \\\"Blaine\\\",\\n    \\\"#200\\\",\\n    \\\"#325\\\",\\n    \\\"#400\\\",\\n    \\\"Specific Gravity\\\",\\n    \\\"Final setting time\\\",\\n    \\\"Initial setting time\\\",\\n    \\\"CS1\\\",\\n    \\\"CS3\\\",\\n    \\\"CS7\\\",\\n    \\\"CS28\\\",\\n]\\n\\ndf = preprocess_numeric_cols(df, NUMERIC_COLUMNS)\\n\\n# Preprocessing to fix numeric columns\\ndf[NUMERIC_COLUMNS] = df[NUMERIC_COLUMNS].map(convert_to_float)\\n\\n# Converting Date to pandas datetime\\ndf[\\\"Date\\\"] = pd.to_datetime(df[\\\"Date\\\"])\\n\\n# Drop rows completely missing\\nindex_to_keep = (\\n    df.drop([\\\"Plant\\\", \\\"Date\\\", \\\"Cement_Type\\\"], axis=1).dropna(axis=0, how=\\\"all\\\").index\\n)\\ndf = df.iloc[index_to_keep].reset_index(drop=True)\\n\\ndf = df.infer_objects()\";\n",
       "                var nbb_cells = Jupyter.notebook.get_cells();\n",
       "                for (var i = 0; i < nbb_cells.length; ++i) {\n",
       "                    if (nbb_cells[i].input_prompt_number == nbb_cell_id) {\n",
       "                        if (nbb_cells[i].get_text() == nbb_unformatted_code) {\n",
       "                             nbb_cells[i].set_text(nbb_formatted_code);\n",
       "                        }\n",
       "                        break;\n",
       "                    }\n",
       "                }\n",
       "            }, 500);\n",
       "            "
      ],
      "text/plain": [
       "<IPython.core.display.Javascript object>"
      ]
     },
     "metadata": {},
     "output_type": "display_data"
    }
   ],
   "source": [
    "NUMERIC_COLUMNS = [\n",
    "    \"CaO\",\n",
    "    \"MgO\",\n",
    "    \"Na2O\",\n",
    "    \"Al2O3\",\n",
    "    \"SiO2\",\n",
    "    \"SO3\",\n",
    "    \"K2O\",\n",
    "    \"TiO2\",\n",
    "    \"Fe2O3\",\n",
    "    \"Loss on Ignition\",\n",
    "    \"Insoluble Residue\",\n",
    "    \"Blaine\",\n",
    "    \"#200\",\n",
    "    \"#325\",\n",
    "    \"#400\",\n",
    "    \"Specific Gravity\",\n",
    "    \"Final setting time\",\n",
    "    \"Initial setting time\",\n",
    "    \"CS1\",\n",
    "    \"CS3\",\n",
    "    \"CS7\",\n",
    "    \"CS28\",\n",
    "]\n",
    "\n",
    "df = preprocess_numeric_cols(df, NUMERIC_COLUMNS)\n",
    "\n",
    "# Preprocessing to fix numeric columns\n",
    "df[NUMERIC_COLUMNS] = df[NUMERIC_COLUMNS].map(convert_to_float)\n",
    "\n",
    "# Converting Date to pandas datetime\n",
    "df[\"Date\"] = pd.to_datetime(df[\"Date\"])\n",
    "\n",
    "# Drop rows completely missing\n",
    "index_to_keep = (\n",
    "    df.drop([\"Plant\", \"Date\", \"Cement_Type\"], axis=1).dropna(axis=0, how=\"all\").index\n",
    ")\n",
    "df = df.iloc[index_to_keep].reset_index(drop=True)\n",
    "\n",
    "df = df.infer_objects()"
   ]
  },
  {
   "cell_type": "markdown",
   "id": "0e4773d2",
   "metadata": {},
   "source": [
    "## Dropping missing features"
   ]
  },
  {
   "cell_type": "markdown",
   "id": "388dd4e1",
   "metadata": {},
   "source": [
    "### Drop rows completely missing"
   ]
  },
  {
   "cell_type": "code",
   "execution_count": 16,
   "id": "14fd3e2b",
   "metadata": {},
   "outputs": [
    {
     "data": {
      "application/javascript": [
       "\n",
       "            setTimeout(function() {\n",
       "                var nbb_cell_id = 16;\n",
       "                var nbb_unformatted_code = \"index_to_keep = (\\n    df.drop([\\\"Plant\\\", \\\"City\\\", \\\"Date\\\", \\\"Cement_Type\\\"], axis=1)\\n    .dropna(axis=0, how=\\\"all\\\")\\n    .index\\n)\\ndf = df.iloc[index_to_keep].reset_index(drop=True)\";\n",
       "                var nbb_formatted_code = \"index_to_keep = (\\n    df.drop([\\\"Plant\\\", \\\"City\\\", \\\"Date\\\", \\\"Cement_Type\\\"], axis=1)\\n    .dropna(axis=0, how=\\\"all\\\")\\n    .index\\n)\\ndf = df.iloc[index_to_keep].reset_index(drop=True)\";\n",
       "                var nbb_cells = Jupyter.notebook.get_cells();\n",
       "                for (var i = 0; i < nbb_cells.length; ++i) {\n",
       "                    if (nbb_cells[i].input_prompt_number == nbb_cell_id) {\n",
       "                        if (nbb_cells[i].get_text() == nbb_unformatted_code) {\n",
       "                             nbb_cells[i].set_text(nbb_formatted_code);\n",
       "                        }\n",
       "                        break;\n",
       "                    }\n",
       "                }\n",
       "            }, 500);\n",
       "            "
      ],
      "text/plain": [
       "<IPython.core.display.Javascript object>"
      ]
     },
     "metadata": {},
     "output_type": "display_data"
    }
   ],
   "source": [
    "index_to_keep = (\n",
    "    df.drop([\"Plant\", \"City\", \"Date\", \"Cement_Type\"], axis=1)\n",
    "    .dropna(axis=0, how=\"all\")\n",
    "    .index\n",
    ")\n",
    "df = df.iloc[index_to_keep].reset_index(drop=True)"
   ]
  },
  {
   "cell_type": "markdown",
   "id": "5d4e47da",
   "metadata": {},
   "source": [
    "### Removing features\n",
    " that will be fitted on this data.\n",
    "\n",
    "1. Removing features with features having ~50% or more of missing values\n",
    "2. Removing features with zero variance\n",
    "3. Removing features with more than 70% of zeros"
   ]
  },
  {
   "cell_type": "code",
   "execution_count": 17,
   "id": "2a377c14",
   "metadata": {},
   "outputs": [
    {
     "data": {
      "text/html": [
       "<style type=\"text/css\">\n",
       "#T_3ef0c_row0_col0, #T_3ef0c_row1_col0, #T_3ef0c_row2_col0, #T_3ef0c_row3_col0 {\n",
       "  background-color: #67000d;\n",
       "  color: #f1f1f1;\n",
       "}\n",
       "#T_3ef0c_row4_col0 {\n",
       "  background-color: #ffece4;\n",
       "  color: #000000;\n",
       "}\n",
       "#T_3ef0c_row5_col0 {\n",
       "  background-color: #fff4ee;\n",
       "  color: #000000;\n",
       "}\n",
       "#T_3ef0c_row6_col0, #T_3ef0c_row7_col0, #T_3ef0c_row8_col0, #T_3ef0c_row9_col0, #T_3ef0c_row10_col0, #T_3ef0c_row11_col0, #T_3ef0c_row12_col0, #T_3ef0c_row13_col0, #T_3ef0c_row14_col0, #T_3ef0c_row15_col0, #T_3ef0c_row16_col0, #T_3ef0c_row17_col0, #T_3ef0c_row18_col0, #T_3ef0c_row19_col0, #T_3ef0c_row20_col0, #T_3ef0c_row21_col0, #T_3ef0c_row22_col0, #T_3ef0c_row23_col0, #T_3ef0c_row24_col0, #T_3ef0c_row25_col0 {\n",
       "  background-color: #fff5f0;\n",
       "  color: #000000;\n",
       "}\n",
       "</style>\n",
       "<table id=\"T_3ef0c\">\n",
       "  <thead>\n",
       "    <tr>\n",
       "      <th class=\"blank level0\" >&nbsp;</th>\n",
       "      <th id=\"T_3ef0c_level0_col0\" class=\"col_heading level0 col0\" >Missing (%)</th>\n",
       "    </tr>\n",
       "  </thead>\n",
       "  <tbody>\n",
       "    <tr>\n",
       "      <th id=\"T_3ef0c_level0_row0\" class=\"row_heading level0 row0\" >CS1</th>\n",
       "      <td id=\"T_3ef0c_row0_col0\" class=\"data row0 col0\" >100.000000</td>\n",
       "    </tr>\n",
       "    <tr>\n",
       "      <th id=\"T_3ef0c_level0_row1\" class=\"row_heading level0 row1\" >Specific Gravity</th>\n",
       "      <td id=\"T_3ef0c_row1_col0\" class=\"data row1 col0\" >100.000000</td>\n",
       "    </tr>\n",
       "    <tr>\n",
       "      <th id=\"T_3ef0c_level0_row2\" class=\"row_heading level0 row2\" >#400</th>\n",
       "      <td id=\"T_3ef0c_row2_col0\" class=\"data row2 col0\" >100.000000</td>\n",
       "    </tr>\n",
       "    <tr>\n",
       "      <th id=\"T_3ef0c_level0_row3\" class=\"row_heading level0 row3\" >TiO2</th>\n",
       "      <td id=\"T_3ef0c_row3_col0\" class=\"data row3 col0\" >100.000000</td>\n",
       "    </tr>\n",
       "    <tr>\n",
       "      <th id=\"T_3ef0c_level0_row4\" class=\"row_heading level0 row4\" >CS28</th>\n",
       "      <td id=\"T_3ef0c_row4_col0\" class=\"data row4 col0\" >5.459387</td>\n",
       "    </tr>\n",
       "    <tr>\n",
       "      <th id=\"T_3ef0c_level0_row5\" class=\"row_heading level0 row5\" >CS7</th>\n",
       "      <td id=\"T_3ef0c_row5_col0\" class=\"data row5 col0\" >0.932091</td>\n",
       "    </tr>\n",
       "    <tr>\n",
       "      <th id=\"T_3ef0c_level0_row6\" class=\"row_heading level0 row6\" >Plant</th>\n",
       "      <td id=\"T_3ef0c_row6_col0\" class=\"data row6 col0\" >0.000000</td>\n",
       "    </tr>\n",
       "    <tr>\n",
       "      <th id=\"T_3ef0c_level0_row7\" class=\"row_heading level0 row7\" >Blaine</th>\n",
       "      <td id=\"T_3ef0c_row7_col0\" class=\"data row7 col0\" >0.000000</td>\n",
       "    </tr>\n",
       "    <tr>\n",
       "      <th id=\"T_3ef0c_level0_row8\" class=\"row_heading level0 row8\" >CS3</th>\n",
       "      <td id=\"T_3ef0c_row8_col0\" class=\"data row8 col0\" >0.000000</td>\n",
       "    </tr>\n",
       "    <tr>\n",
       "      <th id=\"T_3ef0c_level0_row9\" class=\"row_heading level0 row9\" >Final setting time</th>\n",
       "      <td id=\"T_3ef0c_row9_col0\" class=\"data row9 col0\" >0.000000</td>\n",
       "    </tr>\n",
       "    <tr>\n",
       "      <th id=\"T_3ef0c_level0_row10\" class=\"row_heading level0 row10\" >Initial setting time</th>\n",
       "      <td id=\"T_3ef0c_row10_col0\" class=\"data row10 col0\" >0.000000</td>\n",
       "    </tr>\n",
       "    <tr>\n",
       "      <th id=\"T_3ef0c_level0_row11\" class=\"row_heading level0 row11\" >#325</th>\n",
       "      <td id=\"T_3ef0c_row11_col0\" class=\"data row11 col0\" >0.000000</td>\n",
       "    </tr>\n",
       "    <tr>\n",
       "      <th id=\"T_3ef0c_level0_row12\" class=\"row_heading level0 row12\" >#200</th>\n",
       "      <td id=\"T_3ef0c_row12_col0\" class=\"data row12 col0\" >0.000000</td>\n",
       "    </tr>\n",
       "    <tr>\n",
       "      <th id=\"T_3ef0c_level0_row13\" class=\"row_heading level0 row13\" >Insoluble Residue</th>\n",
       "      <td id=\"T_3ef0c_row13_col0\" class=\"data row13 col0\" >0.000000</td>\n",
       "    </tr>\n",
       "    <tr>\n",
       "      <th id=\"T_3ef0c_level0_row14\" class=\"row_heading level0 row14\" >City</th>\n",
       "      <td id=\"T_3ef0c_row14_col0\" class=\"data row14 col0\" >0.000000</td>\n",
       "    </tr>\n",
       "    <tr>\n",
       "      <th id=\"T_3ef0c_level0_row15\" class=\"row_heading level0 row15\" >Loss on Ignition</th>\n",
       "      <td id=\"T_3ef0c_row15_col0\" class=\"data row15 col0\" >0.000000</td>\n",
       "    </tr>\n",
       "    <tr>\n",
       "      <th id=\"T_3ef0c_level0_row16\" class=\"row_heading level0 row16\" >Fe2O3</th>\n",
       "      <td id=\"T_3ef0c_row16_col0\" class=\"data row16 col0\" >0.000000</td>\n",
       "    </tr>\n",
       "    <tr>\n",
       "      <th id=\"T_3ef0c_level0_row17\" class=\"row_heading level0 row17\" >K2O</th>\n",
       "      <td id=\"T_3ef0c_row17_col0\" class=\"data row17 col0\" >0.000000</td>\n",
       "    </tr>\n",
       "    <tr>\n",
       "      <th id=\"T_3ef0c_level0_row18\" class=\"row_heading level0 row18\" >SO3</th>\n",
       "      <td id=\"T_3ef0c_row18_col0\" class=\"data row18 col0\" >0.000000</td>\n",
       "    </tr>\n",
       "    <tr>\n",
       "      <th id=\"T_3ef0c_level0_row19\" class=\"row_heading level0 row19\" >SiO2</th>\n",
       "      <td id=\"T_3ef0c_row19_col0\" class=\"data row19 col0\" >0.000000</td>\n",
       "    </tr>\n",
       "    <tr>\n",
       "      <th id=\"T_3ef0c_level0_row20\" class=\"row_heading level0 row20\" >Al2O3</th>\n",
       "      <td id=\"T_3ef0c_row20_col0\" class=\"data row20 col0\" >0.000000</td>\n",
       "    </tr>\n",
       "    <tr>\n",
       "      <th id=\"T_3ef0c_level0_row21\" class=\"row_heading level0 row21\" >Na2O</th>\n",
       "      <td id=\"T_3ef0c_row21_col0\" class=\"data row21 col0\" >0.000000</td>\n",
       "    </tr>\n",
       "    <tr>\n",
       "      <th id=\"T_3ef0c_level0_row22\" class=\"row_heading level0 row22\" >MgO</th>\n",
       "      <td id=\"T_3ef0c_row22_col0\" class=\"data row22 col0\" >0.000000</td>\n",
       "    </tr>\n",
       "    <tr>\n",
       "      <th id=\"T_3ef0c_level0_row23\" class=\"row_heading level0 row23\" >CaO</th>\n",
       "      <td id=\"T_3ef0c_row23_col0\" class=\"data row23 col0\" >0.000000</td>\n",
       "    </tr>\n",
       "    <tr>\n",
       "      <th id=\"T_3ef0c_level0_row24\" class=\"row_heading level0 row24\" >Date</th>\n",
       "      <td id=\"T_3ef0c_row24_col0\" class=\"data row24 col0\" >0.000000</td>\n",
       "    </tr>\n",
       "    <tr>\n",
       "      <th id=\"T_3ef0c_level0_row25\" class=\"row_heading level0 row25\" >Cement_Type</th>\n",
       "      <td id=\"T_3ef0c_row25_col0\" class=\"data row25 col0\" >0.000000</td>\n",
       "    </tr>\n",
       "  </tbody>\n",
       "</table>\n"
      ],
      "text/plain": [
       "<pandas.io.formats.style.Styler at 0x7f76583dba90>"
      ]
     },
     "execution_count": 17,
     "metadata": {},
     "output_type": "execute_result"
    },
    {
     "data": {
      "application/javascript": [
       "\n",
       "            setTimeout(function() {\n",
       "                var nbb_cell_id = 17;\n",
       "                var nbb_unformatted_code = \"(df.isna().sum() / df.shape[0] * 100).sort_values(ascending=False).to_frame(\\n    name=\\\"Missing (%)\\\"\\n).style.background_gradient(cmap=\\\"Reds\\\")\";\n",
       "                var nbb_formatted_code = \"(df.isna().sum() / df.shape[0] * 100).sort_values(ascending=False).to_frame(\\n    name=\\\"Missing (%)\\\"\\n).style.background_gradient(cmap=\\\"Reds\\\")\";\n",
       "                var nbb_cells = Jupyter.notebook.get_cells();\n",
       "                for (var i = 0; i < nbb_cells.length; ++i) {\n",
       "                    if (nbb_cells[i].input_prompt_number == nbb_cell_id) {\n",
       "                        if (nbb_cells[i].get_text() == nbb_unformatted_code) {\n",
       "                             nbb_cells[i].set_text(nbb_formatted_code);\n",
       "                        }\n",
       "                        break;\n",
       "                    }\n",
       "                }\n",
       "            }, 500);\n",
       "            "
      ],
      "text/plain": [
       "<IPython.core.display.Javascript object>"
      ]
     },
     "metadata": {},
     "output_type": "display_data"
    }
   ],
   "source": [
    "(df.isna().sum() / df.shape[0] * 100).sort_values(ascending=False).to_frame(\n",
    "    name=\"Missing (%)\"\n",
    ").style.background_gradient(cmap=\"Reds\")"
   ]
  },
  {
   "cell_type": "markdown",
   "id": "7e8fd8fa",
   "metadata": {},
   "source": [
    "<h3>Percentage of missing values:</h3>\n",
    "<table>\n",
    "    <th>Plant V - Full Dataset:</th>\n",
    "    <th></th>\n",
    "    <tr>\n",
    "        <td>CS1</td>\n",
    "        <td>100.00</td>\n",
    "    </tr>\n",
    "    <tr>\n",
    "        <td>Specific Gravity</td>\n",
    "        <td>100.00</td>\n",
    "    </tr>\n",
    "    <tr>\n",
    "        <td>#400</td>\n",
    "        <td>100.00</td>\n",
    "    </tr>\n",
    "    <tr>\n",
    "        <td>TiO2</td>\n",
    "        <td>100.00</td>\n",
    "    </tr>\n",
    "</table>"
   ]
  },
  {
   "cell_type": "code",
   "execution_count": 18,
   "id": "b781ce23",
   "metadata": {},
   "outputs": [
    {
     "data": {
      "application/javascript": [
       "\n",
       "            setTimeout(function() {\n",
       "                var nbb_cell_id = 18;\n",
       "                var nbb_unformatted_code = \"FEATRUES_TO_DROP = [\\\"CS1\\\", \\\"Specific Gravity\\\", \\\"#400\\\", \\\"TiO2\\\"]\\ndf = df.drop(labels=FEATRUES_TO_DROP, axis=1)\";\n",
       "                var nbb_formatted_code = \"FEATRUES_TO_DROP = [\\\"CS1\\\", \\\"Specific Gravity\\\", \\\"#400\\\", \\\"TiO2\\\"]\\ndf = df.drop(labels=FEATRUES_TO_DROP, axis=1)\";\n",
       "                var nbb_cells = Jupyter.notebook.get_cells();\n",
       "                for (var i = 0; i < nbb_cells.length; ++i) {\n",
       "                    if (nbb_cells[i].input_prompt_number == nbb_cell_id) {\n",
       "                        if (nbb_cells[i].get_text() == nbb_unformatted_code) {\n",
       "                             nbb_cells[i].set_text(nbb_formatted_code);\n",
       "                        }\n",
       "                        break;\n",
       "                    }\n",
       "                }\n",
       "            }, 500);\n",
       "            "
      ],
      "text/plain": [
       "<IPython.core.display.Javascript object>"
      ]
     },
     "metadata": {},
     "output_type": "display_data"
    }
   ],
   "source": [
    "FEATRUES_TO_DROP = [\"CS1\", \"Specific Gravity\", \"#400\", \"TiO2\"]\n",
    "df = df.drop(labels=FEATRUES_TO_DROP, axis=1)"
   ]
  },
  {
   "cell_type": "markdown",
   "id": "082fd941",
   "metadata": {},
   "source": [
    "### Removing features with many zeros when applicable"
   ]
  },
  {
   "cell_type": "code",
   "execution_count": 19,
   "id": "9a08a31f",
   "metadata": {},
   "outputs": [
    {
     "data": {
      "text/html": [
       "<style type=\"text/css\">\n",
       "#T_8f0d0_row0_col0 {\n",
       "  background-color: #67000d;\n",
       "  color: #f1f1f1;\n",
       "}\n",
       "#T_8f0d0_row1_col0, #T_8f0d0_row2_col0, #T_8f0d0_row3_col0, #T_8f0d0_row4_col0, #T_8f0d0_row5_col0, #T_8f0d0_row6_col0, #T_8f0d0_row7_col0, #T_8f0d0_row8_col0, #T_8f0d0_row9_col0, #T_8f0d0_row10_col0, #T_8f0d0_row11_col0, #T_8f0d0_row12_col0, #T_8f0d0_row13_col0, #T_8f0d0_row14_col0, #T_8f0d0_row15_col0, #T_8f0d0_row16_col0, #T_8f0d0_row17_col0 {\n",
       "  background-color: #fff5f0;\n",
       "  color: #000000;\n",
       "}\n",
       "</style>\n",
       "<table id=\"T_8f0d0\">\n",
       "  <thead>\n",
       "    <tr>\n",
       "      <th class=\"blank level0\" >&nbsp;</th>\n",
       "      <th id=\"T_8f0d0_level0_col0\" class=\"col_heading level0 col0\" >Zero (%) for V</th>\n",
       "    </tr>\n",
       "  </thead>\n",
       "  <tbody>\n",
       "    <tr>\n",
       "      <th id=\"T_8f0d0_level0_row0\" class=\"row_heading level0 row0\" >Na2O</th>\n",
       "      <td id=\"T_8f0d0_row0_col0\" class=\"data row0 col0\" >0.266312</td>\n",
       "    </tr>\n",
       "    <tr>\n",
       "      <th id=\"T_8f0d0_level0_row1\" class=\"row_heading level0 row1\" >CaO</th>\n",
       "      <td id=\"T_8f0d0_row1_col0\" class=\"data row1 col0\" >0.000000</td>\n",
       "    </tr>\n",
       "    <tr>\n",
       "      <th id=\"T_8f0d0_level0_row2\" class=\"row_heading level0 row2\" >Blaine</th>\n",
       "      <td id=\"T_8f0d0_row2_col0\" class=\"data row2 col0\" >0.000000</td>\n",
       "    </tr>\n",
       "    <tr>\n",
       "      <th id=\"T_8f0d0_level0_row3\" class=\"row_heading level0 row3\" >CS7</th>\n",
       "      <td id=\"T_8f0d0_row3_col0\" class=\"data row3 col0\" >0.000000</td>\n",
       "    </tr>\n",
       "    <tr>\n",
       "      <th id=\"T_8f0d0_level0_row4\" class=\"row_heading level0 row4\" >CS3</th>\n",
       "      <td id=\"T_8f0d0_row4_col0\" class=\"data row4 col0\" >0.000000</td>\n",
       "    </tr>\n",
       "    <tr>\n",
       "      <th id=\"T_8f0d0_level0_row5\" class=\"row_heading level0 row5\" >Final setting time</th>\n",
       "      <td id=\"T_8f0d0_row5_col0\" class=\"data row5 col0\" >0.000000</td>\n",
       "    </tr>\n",
       "    <tr>\n",
       "      <th id=\"T_8f0d0_level0_row6\" class=\"row_heading level0 row6\" >Initial setting time</th>\n",
       "      <td id=\"T_8f0d0_row6_col0\" class=\"data row6 col0\" >0.000000</td>\n",
       "    </tr>\n",
       "    <tr>\n",
       "      <th id=\"T_8f0d0_level0_row7\" class=\"row_heading level0 row7\" >#325</th>\n",
       "      <td id=\"T_8f0d0_row7_col0\" class=\"data row7 col0\" >0.000000</td>\n",
       "    </tr>\n",
       "    <tr>\n",
       "      <th id=\"T_8f0d0_level0_row8\" class=\"row_heading level0 row8\" >#200</th>\n",
       "      <td id=\"T_8f0d0_row8_col0\" class=\"data row8 col0\" >0.000000</td>\n",
       "    </tr>\n",
       "    <tr>\n",
       "      <th id=\"T_8f0d0_level0_row9\" class=\"row_heading level0 row9\" >Insoluble Residue</th>\n",
       "      <td id=\"T_8f0d0_row9_col0\" class=\"data row9 col0\" >0.000000</td>\n",
       "    </tr>\n",
       "    <tr>\n",
       "      <th id=\"T_8f0d0_level0_row10\" class=\"row_heading level0 row10\" >MgO</th>\n",
       "      <td id=\"T_8f0d0_row10_col0\" class=\"data row10 col0\" >0.000000</td>\n",
       "    </tr>\n",
       "    <tr>\n",
       "      <th id=\"T_8f0d0_level0_row11\" class=\"row_heading level0 row11\" >Loss on Ignition</th>\n",
       "      <td id=\"T_8f0d0_row11_col0\" class=\"data row11 col0\" >0.000000</td>\n",
       "    </tr>\n",
       "    <tr>\n",
       "      <th id=\"T_8f0d0_level0_row12\" class=\"row_heading level0 row12\" >Fe2O3</th>\n",
       "      <td id=\"T_8f0d0_row12_col0\" class=\"data row12 col0\" >0.000000</td>\n",
       "    </tr>\n",
       "    <tr>\n",
       "      <th id=\"T_8f0d0_level0_row13\" class=\"row_heading level0 row13\" >K2O</th>\n",
       "      <td id=\"T_8f0d0_row13_col0\" class=\"data row13 col0\" >0.000000</td>\n",
       "    </tr>\n",
       "    <tr>\n",
       "      <th id=\"T_8f0d0_level0_row14\" class=\"row_heading level0 row14\" >SO3</th>\n",
       "      <td id=\"T_8f0d0_row14_col0\" class=\"data row14 col0\" >0.000000</td>\n",
       "    </tr>\n",
       "    <tr>\n",
       "      <th id=\"T_8f0d0_level0_row15\" class=\"row_heading level0 row15\" >SiO2</th>\n",
       "      <td id=\"T_8f0d0_row15_col0\" class=\"data row15 col0\" >0.000000</td>\n",
       "    </tr>\n",
       "    <tr>\n",
       "      <th id=\"T_8f0d0_level0_row16\" class=\"row_heading level0 row16\" >Al2O3</th>\n",
       "      <td id=\"T_8f0d0_row16_col0\" class=\"data row16 col0\" >0.000000</td>\n",
       "    </tr>\n",
       "    <tr>\n",
       "      <th id=\"T_8f0d0_level0_row17\" class=\"row_heading level0 row17\" >CS28</th>\n",
       "      <td id=\"T_8f0d0_row17_col0\" class=\"data row17 col0\" >0.000000</td>\n",
       "    </tr>\n",
       "  </tbody>\n",
       "</table>\n"
      ],
      "text/plain": [
       "<pandas.io.formats.style.Styler at 0x7f76583db010>"
      ]
     },
     "execution_count": 19,
     "metadata": {},
     "output_type": "execute_result"
    },
    {
     "data": {
      "application/javascript": [
       "\n",
       "            setTimeout(function() {\n",
       "                var nbb_cell_id = 19;\n",
       "                var nbb_unformatted_code = \"zero_values = {}\\nfor col in df.select_dtypes(include=\\\"number\\\").columns:\\n    zero_percentages = (df[df[col].eq(0)].shape[0] / df.shape[0]) * 100\\n    zero_values[col] = zero_percentages\\n\\nzero_percentages = pd.Series(zero_values, name=f\\\"Zero (%) for {plant}\\\")\\nzero_percentages = zero_percentages.sort_values(ascending=False)\\nzero_percentages = zero_percentages.to_frame(name=f\\\"Zero (%) for {plant}\\\")\\nzero_percentages.style.background_gradient(cmap=\\\"Reds\\\")\";\n",
       "                var nbb_formatted_code = \"zero_values = {}\\nfor col in df.select_dtypes(include=\\\"number\\\").columns:\\n    zero_percentages = (df[df[col].eq(0)].shape[0] / df.shape[0]) * 100\\n    zero_values[col] = zero_percentages\\n\\nzero_percentages = pd.Series(zero_values, name=f\\\"Zero (%) for {plant}\\\")\\nzero_percentages = zero_percentages.sort_values(ascending=False)\\nzero_percentages = zero_percentages.to_frame(name=f\\\"Zero (%) for {plant}\\\")\\nzero_percentages.style.background_gradient(cmap=\\\"Reds\\\")\";\n",
       "                var nbb_cells = Jupyter.notebook.get_cells();\n",
       "                for (var i = 0; i < nbb_cells.length; ++i) {\n",
       "                    if (nbb_cells[i].input_prompt_number == nbb_cell_id) {\n",
       "                        if (nbb_cells[i].get_text() == nbb_unformatted_code) {\n",
       "                             nbb_cells[i].set_text(nbb_formatted_code);\n",
       "                        }\n",
       "                        break;\n",
       "                    }\n",
       "                }\n",
       "            }, 500);\n",
       "            "
      ],
      "text/plain": [
       "<IPython.core.display.Javascript object>"
      ]
     },
     "metadata": {},
     "output_type": "display_data"
    }
   ],
   "source": [
    "zero_values = {}\n",
    "for col in df.select_dtypes(include=\"number\").columns:\n",
    "    zero_percentages = (df[df[col].eq(0)].shape[0] / df.shape[0]) * 100\n",
    "    zero_values[col] = zero_percentages\n",
    "\n",
    "zero_percentages = pd.Series(zero_values, name=f\"Zero (%) for {plant}\")\n",
    "zero_percentages = zero_percentages.sort_values(ascending=False)\n",
    "zero_percentages = zero_percentages.to_frame(name=f\"Zero (%) for {plant}\")\n",
    "zero_percentages.style.background_gradient(cmap=\"Reds\")"
   ]
  },
  {
   "cell_type": "markdown",
   "id": "3e0c39f2",
   "metadata": {},
   "source": [
    "### Dropping variable with many zeros"
   ]
  },
  {
   "cell_type": "code",
   "execution_count": 20,
   "id": "165070d0",
   "metadata": {},
   "outputs": [
    {
     "data": {
      "application/javascript": [
       "\n",
       "            setTimeout(function() {\n",
       "                var nbb_cell_id = 20;\n",
       "                var nbb_unformatted_code = \"# FEATRUES_TO_DROP = [\\\"#200\\\"]\\n# df = df.drop(labels=FEATRUES_TO_DROP, axis=1)\";\n",
       "                var nbb_formatted_code = \"# FEATRUES_TO_DROP = [\\\"#200\\\"]\\n# df = df.drop(labels=FEATRUES_TO_DROP, axis=1)\";\n",
       "                var nbb_cells = Jupyter.notebook.get_cells();\n",
       "                for (var i = 0; i < nbb_cells.length; ++i) {\n",
       "                    if (nbb_cells[i].input_prompt_number == nbb_cell_id) {\n",
       "                        if (nbb_cells[i].get_text() == nbb_unformatted_code) {\n",
       "                             nbb_cells[i].set_text(nbb_formatted_code);\n",
       "                        }\n",
       "                        break;\n",
       "                    }\n",
       "                }\n",
       "            }, 500);\n",
       "            "
      ],
      "text/plain": [
       "<IPython.core.display.Javascript object>"
      ]
     },
     "metadata": {},
     "output_type": "display_data"
    }
   ],
   "source": [
    "# FEATRUES_TO_DROP = [\"#200\"]\n",
    "# df = df.drop(labels=FEATRUES_TO_DROP, axis=1)"
   ]
  },
  {
   "cell_type": "markdown",
   "id": "1b0087d0",
   "metadata": {},
   "source": [
    "### Dropping variable with City and Plant identification"
   ]
  },
  {
   "cell_type": "code",
   "execution_count": 21,
   "id": "2dd18010",
   "metadata": {},
   "outputs": [
    {
     "data": {
      "application/javascript": [
       "\n",
       "            setTimeout(function() {\n",
       "                var nbb_cell_id = 21;\n",
       "                var nbb_unformatted_code = \"FEATRUES_TO_DROP = [\\\"City\\\", \\\"Plant\\\"]\\ndf = df.drop(labels=FEATRUES_TO_DROP, axis=1)\";\n",
       "                var nbb_formatted_code = \"FEATRUES_TO_DROP = [\\\"City\\\", \\\"Plant\\\"]\\ndf = df.drop(labels=FEATRUES_TO_DROP, axis=1)\";\n",
       "                var nbb_cells = Jupyter.notebook.get_cells();\n",
       "                for (var i = 0; i < nbb_cells.length; ++i) {\n",
       "                    if (nbb_cells[i].input_prompt_number == nbb_cell_id) {\n",
       "                        if (nbb_cells[i].get_text() == nbb_unformatted_code) {\n",
       "                             nbb_cells[i].set_text(nbb_formatted_code);\n",
       "                        }\n",
       "                        break;\n",
       "                    }\n",
       "                }\n",
       "            }, 500);\n",
       "            "
      ],
      "text/plain": [
       "<IPython.core.display.Javascript object>"
      ]
     },
     "metadata": {},
     "output_type": "display_data"
    }
   ],
   "source": [
    "FEATRUES_TO_DROP = [\"City\", \"Plant\"]\n",
    "df = df.drop(labels=FEATRUES_TO_DROP, axis=1)"
   ]
  },
  {
   "cell_type": "markdown",
   "id": "77150ffd",
   "metadata": {},
   "source": [
    "### Dropping rows where the target variable is null"
   ]
  },
  {
   "cell_type": "code",
   "execution_count": 22,
   "id": "6ac90829",
   "metadata": {},
   "outputs": [
    {
     "data": {
      "application/javascript": [
       "\n",
       "            setTimeout(function() {\n",
       "                var nbb_cell_id = 22;\n",
       "                var nbb_unformatted_code = \"df = df[df[\\\"CS28\\\"].notna()]\";\n",
       "                var nbb_formatted_code = \"df = df[df[\\\"CS28\\\"].notna()]\";\n",
       "                var nbb_cells = Jupyter.notebook.get_cells();\n",
       "                for (var i = 0; i < nbb_cells.length; ++i) {\n",
       "                    if (nbb_cells[i].input_prompt_number == nbb_cell_id) {\n",
       "                        if (nbb_cells[i].get_text() == nbb_unformatted_code) {\n",
       "                             nbb_cells[i].set_text(nbb_formatted_code);\n",
       "                        }\n",
       "                        break;\n",
       "                    }\n",
       "                }\n",
       "            }, 500);\n",
       "            "
      ],
      "text/plain": [
       "<IPython.core.display.Javascript object>"
      ]
     },
     "metadata": {},
     "output_type": "display_data"
    }
   ],
   "source": [
    "df = df[df[\"CS28\"].notna()]"
   ]
  },
  {
   "cell_type": "markdown",
   "id": "0a8e3c5b",
   "metadata": {},
   "source": [
    "### Dropping rows where the target variable is zero"
   ]
  },
  {
   "cell_type": "code",
   "execution_count": 23,
   "id": "bef56e14",
   "metadata": {},
   "outputs": [
    {
     "data": {
      "application/javascript": [
       "\n",
       "            setTimeout(function() {\n",
       "                var nbb_cell_id = 23;\n",
       "                var nbb_unformatted_code = \"df = df[~df[\\\"CS28\\\"].eq(0)]\";\n",
       "                var nbb_formatted_code = \"df = df[~df[\\\"CS28\\\"].eq(0)]\";\n",
       "                var nbb_cells = Jupyter.notebook.get_cells();\n",
       "                for (var i = 0; i < nbb_cells.length; ++i) {\n",
       "                    if (nbb_cells[i].input_prompt_number == nbb_cell_id) {\n",
       "                        if (nbb_cells[i].get_text() == nbb_unformatted_code) {\n",
       "                             nbb_cells[i].set_text(nbb_formatted_code);\n",
       "                        }\n",
       "                        break;\n",
       "                    }\n",
       "                }\n",
       "            }, 500);\n",
       "            "
      ],
      "text/plain": [
       "<IPython.core.display.Javascript object>"
      ]
     },
     "metadata": {},
     "output_type": "display_data"
    }
   ],
   "source": [
    "df = df[~df[\"CS28\"].eq(0)]"
   ]
  },
  {
   "cell_type": "code",
   "execution_count": 24,
   "id": "6c305a61",
   "metadata": {},
   "outputs": [
    {
     "data": {
      "text/plain": [
       "(710, 20)"
      ]
     },
     "execution_count": 24,
     "metadata": {},
     "output_type": "execute_result"
    },
    {
     "data": {
      "application/javascript": [
       "\n",
       "            setTimeout(function() {\n",
       "                var nbb_cell_id = 24;\n",
       "                var nbb_unformatted_code = \"df.shape\";\n",
       "                var nbb_formatted_code = \"df.shape\";\n",
       "                var nbb_cells = Jupyter.notebook.get_cells();\n",
       "                for (var i = 0; i < nbb_cells.length; ++i) {\n",
       "                    if (nbb_cells[i].input_prompt_number == nbb_cell_id) {\n",
       "                        if (nbb_cells[i].get_text() == nbb_unformatted_code) {\n",
       "                             nbb_cells[i].set_text(nbb_formatted_code);\n",
       "                        }\n",
       "                        break;\n",
       "                    }\n",
       "                }\n",
       "            }, 500);\n",
       "            "
      ],
      "text/plain": [
       "<IPython.core.display.Javascript object>"
      ]
     },
     "metadata": {},
     "output_type": "display_data"
    }
   ],
   "source": [
    "df.shape"
   ]
  },
  {
   "cell_type": "code",
   "execution_count": 25,
   "id": "bab136d8",
   "metadata": {},
   "outputs": [
    {
     "data": {
      "application/javascript": [
       "\n",
       "            setTimeout(function() {\n",
       "                var nbb_cell_id = 25;\n",
       "                var nbb_unformatted_code = \"# df.describe().T\";\n",
       "                var nbb_formatted_code = \"# df.describe().T\";\n",
       "                var nbb_cells = Jupyter.notebook.get_cells();\n",
       "                for (var i = 0; i < nbb_cells.length; ++i) {\n",
       "                    if (nbb_cells[i].input_prompt_number == nbb_cell_id) {\n",
       "                        if (nbb_cells[i].get_text() == nbb_unformatted_code) {\n",
       "                             nbb_cells[i].set_text(nbb_formatted_code);\n",
       "                        }\n",
       "                        break;\n",
       "                    }\n",
       "                }\n",
       "            }, 500);\n",
       "            "
      ],
      "text/plain": [
       "<IPython.core.display.Javascript object>"
      ]
     },
     "metadata": {},
     "output_type": "display_data"
    }
   ],
   "source": [
    "# df.describe().T"
   ]
  },
  {
   "cell_type": "code",
   "execution_count": 26,
   "id": "16597882",
   "metadata": {},
   "outputs": [
    {
     "data": {
      "application/javascript": [
       "\n",
       "            setTimeout(function() {\n",
       "                var nbb_cell_id = 26;\n",
       "                var nbb_unformatted_code = \"# df_copy = df.copy()\";\n",
       "                var nbb_formatted_code = \"# df_copy = df.copy()\";\n",
       "                var nbb_cells = Jupyter.notebook.get_cells();\n",
       "                for (var i = 0; i < nbb_cells.length; ++i) {\n",
       "                    if (nbb_cells[i].input_prompt_number == nbb_cell_id) {\n",
       "                        if (nbb_cells[i].get_text() == nbb_unformatted_code) {\n",
       "                             nbb_cells[i].set_text(nbb_formatted_code);\n",
       "                        }\n",
       "                        break;\n",
       "                    }\n",
       "                }\n",
       "            }, 500);\n",
       "            "
      ],
      "text/plain": [
       "<IPython.core.display.Javascript object>"
      ]
     },
     "metadata": {},
     "output_type": "display_data"
    }
   ],
   "source": [
    "# df_copy = df.copy()"
   ]
  },
  {
   "cell_type": "markdown",
   "id": "b1bb693c",
   "metadata": {},
   "source": [
    "### Dropping rows where any other variable has a zero value"
   ]
  },
  {
   "cell_type": "code",
   "execution_count": 27,
   "id": "0f69dd4f",
   "metadata": {},
   "outputs": [
    {
     "data": {
      "application/javascript": [
       "\n",
       "            setTimeout(function() {\n",
       "                var nbb_cell_id = 27;\n",
       "                var nbb_unformatted_code = \"for col in df.columns:\\n    df = df[~df[col].eq(0)]\";\n",
       "                var nbb_formatted_code = \"for col in df.columns:\\n    df = df[~df[col].eq(0)]\";\n",
       "                var nbb_cells = Jupyter.notebook.get_cells();\n",
       "                for (var i = 0; i < nbb_cells.length; ++i) {\n",
       "                    if (nbb_cells[i].input_prompt_number == nbb_cell_id) {\n",
       "                        if (nbb_cells[i].get_text() == nbb_unformatted_code) {\n",
       "                             nbb_cells[i].set_text(nbb_formatted_code);\n",
       "                        }\n",
       "                        break;\n",
       "                    }\n",
       "                }\n",
       "            }, 500);\n",
       "            "
      ],
      "text/plain": [
       "<IPython.core.display.Javascript object>"
      ]
     },
     "metadata": {},
     "output_type": "display_data"
    }
   ],
   "source": [
    "for col in df.columns:\n",
    "    df = df[~df[col].eq(0)]"
   ]
  },
  {
   "cell_type": "code",
   "execution_count": 28,
   "id": "2b9a9d3c",
   "metadata": {},
   "outputs": [
    {
     "data": {
      "text/plain": [
       "(708, 20)"
      ]
     },
     "execution_count": 28,
     "metadata": {},
     "output_type": "execute_result"
    },
    {
     "data": {
      "application/javascript": [
       "\n",
       "            setTimeout(function() {\n",
       "                var nbb_cell_id = 28;\n",
       "                var nbb_unformatted_code = \"df.shape\";\n",
       "                var nbb_formatted_code = \"df.shape\";\n",
       "                var nbb_cells = Jupyter.notebook.get_cells();\n",
       "                for (var i = 0; i < nbb_cells.length; ++i) {\n",
       "                    if (nbb_cells[i].input_prompt_number == nbb_cell_id) {\n",
       "                        if (nbb_cells[i].get_text() == nbb_unformatted_code) {\n",
       "                             nbb_cells[i].set_text(nbb_formatted_code);\n",
       "                        }\n",
       "                        break;\n",
       "                    }\n",
       "                }\n",
       "            }, 500);\n",
       "            "
      ],
      "text/plain": [
       "<IPython.core.display.Javascript object>"
      ]
     },
     "metadata": {},
     "output_type": "display_data"
    }
   ],
   "source": [
    "df.shape"
   ]
  },
  {
   "cell_type": "code",
   "execution_count": 29,
   "id": "c7b91709",
   "metadata": {},
   "outputs": [
    {
     "data": {
      "text/html": [
       "<style type=\"text/css\">\n",
       "#T_34d32_row0_col0, #T_34d32_row1_col0, #T_34d32_row2_col0, #T_34d32_row3_col0, #T_34d32_row4_col0, #T_34d32_row5_col0, #T_34d32_row6_col0, #T_34d32_row7_col0, #T_34d32_row8_col0, #T_34d32_row9_col0, #T_34d32_row10_col0, #T_34d32_row11_col0, #T_34d32_row12_col0, #T_34d32_row13_col0, #T_34d32_row14_col0, #T_34d32_row15_col0, #T_34d32_row16_col0, #T_34d32_row17_col0, #T_34d32_row18_col0, #T_34d32_row19_col0 {\n",
       "  background-color: #fff5f0;\n",
       "  color: #000000;\n",
       "}\n",
       "</style>\n",
       "<table id=\"T_34d32\">\n",
       "  <thead>\n",
       "    <tr>\n",
       "      <th class=\"blank level0\" >&nbsp;</th>\n",
       "      <th id=\"T_34d32_level0_col0\" class=\"col_heading level0 col0\" >Missing (%)</th>\n",
       "    </tr>\n",
       "  </thead>\n",
       "  <tbody>\n",
       "    <tr>\n",
       "      <th id=\"T_34d32_level0_row0\" class=\"row_heading level0 row0\" >Date</th>\n",
       "      <td id=\"T_34d32_row0_col0\" class=\"data row0 col0\" >0.000000</td>\n",
       "    </tr>\n",
       "    <tr>\n",
       "      <th id=\"T_34d32_level0_row1\" class=\"row_heading level0 row1\" >CaO</th>\n",
       "      <td id=\"T_34d32_row1_col0\" class=\"data row1 col0\" >0.000000</td>\n",
       "    </tr>\n",
       "    <tr>\n",
       "      <th id=\"T_34d32_level0_row2\" class=\"row_heading level0 row2\" >CS28</th>\n",
       "      <td id=\"T_34d32_row2_col0\" class=\"data row2 col0\" >0.000000</td>\n",
       "    </tr>\n",
       "    <tr>\n",
       "      <th id=\"T_34d32_level0_row3\" class=\"row_heading level0 row3\" >CS7</th>\n",
       "      <td id=\"T_34d32_row3_col0\" class=\"data row3 col0\" >0.000000</td>\n",
       "    </tr>\n",
       "    <tr>\n",
       "      <th id=\"T_34d32_level0_row4\" class=\"row_heading level0 row4\" >CS3</th>\n",
       "      <td id=\"T_34d32_row4_col0\" class=\"data row4 col0\" >0.000000</td>\n",
       "    </tr>\n",
       "    <tr>\n",
       "      <th id=\"T_34d32_level0_row5\" class=\"row_heading level0 row5\" >Final setting time</th>\n",
       "      <td id=\"T_34d32_row5_col0\" class=\"data row5 col0\" >0.000000</td>\n",
       "    </tr>\n",
       "    <tr>\n",
       "      <th id=\"T_34d32_level0_row6\" class=\"row_heading level0 row6\" >Initial setting time</th>\n",
       "      <td id=\"T_34d32_row6_col0\" class=\"data row6 col0\" >0.000000</td>\n",
       "    </tr>\n",
       "    <tr>\n",
       "      <th id=\"T_34d32_level0_row7\" class=\"row_heading level0 row7\" >#325</th>\n",
       "      <td id=\"T_34d32_row7_col0\" class=\"data row7 col0\" >0.000000</td>\n",
       "    </tr>\n",
       "    <tr>\n",
       "      <th id=\"T_34d32_level0_row8\" class=\"row_heading level0 row8\" >#200</th>\n",
       "      <td id=\"T_34d32_row8_col0\" class=\"data row8 col0\" >0.000000</td>\n",
       "    </tr>\n",
       "    <tr>\n",
       "      <th id=\"T_34d32_level0_row9\" class=\"row_heading level0 row9\" >Blaine</th>\n",
       "      <td id=\"T_34d32_row9_col0\" class=\"data row9 col0\" >0.000000</td>\n",
       "    </tr>\n",
       "    <tr>\n",
       "      <th id=\"T_34d32_level0_row10\" class=\"row_heading level0 row10\" >Insoluble Residue</th>\n",
       "      <td id=\"T_34d32_row10_col0\" class=\"data row10 col0\" >0.000000</td>\n",
       "    </tr>\n",
       "    <tr>\n",
       "      <th id=\"T_34d32_level0_row11\" class=\"row_heading level0 row11\" >Loss on Ignition</th>\n",
       "      <td id=\"T_34d32_row11_col0\" class=\"data row11 col0\" >0.000000</td>\n",
       "    </tr>\n",
       "    <tr>\n",
       "      <th id=\"T_34d32_level0_row12\" class=\"row_heading level0 row12\" >Fe2O3</th>\n",
       "      <td id=\"T_34d32_row12_col0\" class=\"data row12 col0\" >0.000000</td>\n",
       "    </tr>\n",
       "    <tr>\n",
       "      <th id=\"T_34d32_level0_row13\" class=\"row_heading level0 row13\" >K2O</th>\n",
       "      <td id=\"T_34d32_row13_col0\" class=\"data row13 col0\" >0.000000</td>\n",
       "    </tr>\n",
       "    <tr>\n",
       "      <th id=\"T_34d32_level0_row14\" class=\"row_heading level0 row14\" >SO3</th>\n",
       "      <td id=\"T_34d32_row14_col0\" class=\"data row14 col0\" >0.000000</td>\n",
       "    </tr>\n",
       "    <tr>\n",
       "      <th id=\"T_34d32_level0_row15\" class=\"row_heading level0 row15\" >SiO2</th>\n",
       "      <td id=\"T_34d32_row15_col0\" class=\"data row15 col0\" >0.000000</td>\n",
       "    </tr>\n",
       "    <tr>\n",
       "      <th id=\"T_34d32_level0_row16\" class=\"row_heading level0 row16\" >Al2O3</th>\n",
       "      <td id=\"T_34d32_row16_col0\" class=\"data row16 col0\" >0.000000</td>\n",
       "    </tr>\n",
       "    <tr>\n",
       "      <th id=\"T_34d32_level0_row17\" class=\"row_heading level0 row17\" >Na2O</th>\n",
       "      <td id=\"T_34d32_row17_col0\" class=\"data row17 col0\" >0.000000</td>\n",
       "    </tr>\n",
       "    <tr>\n",
       "      <th id=\"T_34d32_level0_row18\" class=\"row_heading level0 row18\" >MgO</th>\n",
       "      <td id=\"T_34d32_row18_col0\" class=\"data row18 col0\" >0.000000</td>\n",
       "    </tr>\n",
       "    <tr>\n",
       "      <th id=\"T_34d32_level0_row19\" class=\"row_heading level0 row19\" >Cement_Type</th>\n",
       "      <td id=\"T_34d32_row19_col0\" class=\"data row19 col0\" >0.000000</td>\n",
       "    </tr>\n",
       "  </tbody>\n",
       "</table>\n"
      ],
      "text/plain": [
       "<pandas.io.formats.style.Styler at 0x7f76583d9870>"
      ]
     },
     "execution_count": 29,
     "metadata": {},
     "output_type": "execute_result"
    },
    {
     "data": {
      "application/javascript": [
       "\n",
       "            setTimeout(function() {\n",
       "                var nbb_cell_id = 29;\n",
       "                var nbb_unformatted_code = \"(df.isna().sum() / df.shape[0] * 100).sort_values(ascending=False).to_frame(\\n    name=\\\"Missing (%)\\\"\\n).style.background_gradient(cmap=\\\"Reds\\\")\";\n",
       "                var nbb_formatted_code = \"(df.isna().sum() / df.shape[0] * 100).sort_values(ascending=False).to_frame(\\n    name=\\\"Missing (%)\\\"\\n).style.background_gradient(cmap=\\\"Reds\\\")\";\n",
       "                var nbb_cells = Jupyter.notebook.get_cells();\n",
       "                for (var i = 0; i < nbb_cells.length; ++i) {\n",
       "                    if (nbb_cells[i].input_prompt_number == nbb_cell_id) {\n",
       "                        if (nbb_cells[i].get_text() == nbb_unformatted_code) {\n",
       "                             nbb_cells[i].set_text(nbb_formatted_code);\n",
       "                        }\n",
       "                        break;\n",
       "                    }\n",
       "                }\n",
       "            }, 500);\n",
       "            "
      ],
      "text/plain": [
       "<IPython.core.display.Javascript object>"
      ]
     },
     "metadata": {},
     "output_type": "display_data"
    }
   ],
   "source": [
    "(df.isna().sum() / df.shape[0] * 100).sort_values(ascending=False).to_frame(\n",
    "    name=\"Missing (%)\"\n",
    ").style.background_gradient(cmap=\"Reds\")"
   ]
  },
  {
   "cell_type": "code",
   "execution_count": 30,
   "id": "12fef81f",
   "metadata": {},
   "outputs": [
    {
     "data": {
      "text/html": [
       "<div>\n",
       "<style scoped>\n",
       "    .dataframe tbody tr th:only-of-type {\n",
       "        vertical-align: middle;\n",
       "    }\n",
       "\n",
       "    .dataframe tbody tr th {\n",
       "        vertical-align: top;\n",
       "    }\n",
       "\n",
       "    .dataframe thead th {\n",
       "        text-align: right;\n",
       "    }\n",
       "</style>\n",
       "<table border=\"1\" class=\"dataframe\">\n",
       "  <thead>\n",
       "    <tr style=\"text-align: right;\">\n",
       "      <th></th>\n",
       "      <th>count</th>\n",
       "      <th>mean</th>\n",
       "      <th>min</th>\n",
       "      <th>25%</th>\n",
       "      <th>50%</th>\n",
       "      <th>75%</th>\n",
       "      <th>max</th>\n",
       "      <th>std</th>\n",
       "    </tr>\n",
       "  </thead>\n",
       "  <tbody>\n",
       "    <tr>\n",
       "      <th>Date</th>\n",
       "      <td>708</td>\n",
       "      <td>2022-05-26 20:04:04.067796736</td>\n",
       "      <td>2021-01-05 00:00:00</td>\n",
       "      <td>2021-10-20 12:00:00</td>\n",
       "      <td>2022-07-12 00:00:00</td>\n",
       "      <td>2022-12-28 06:00:00</td>\n",
       "      <td>2023-06-30 00:00:00</td>\n",
       "      <td>NaN</td>\n",
       "    </tr>\n",
       "    <tr>\n",
       "      <th>CaO</th>\n",
       "      <td>708.0</td>\n",
       "      <td>37.530085</td>\n",
       "      <td>25.379999</td>\n",
       "      <td>34.5175</td>\n",
       "      <td>36.975</td>\n",
       "      <td>40.849998</td>\n",
       "      <td>43.400002</td>\n",
       "      <td>3.304764</td>\n",
       "    </tr>\n",
       "    <tr>\n",
       "      <th>MgO</th>\n",
       "      <td>708.0</td>\n",
       "      <td>3.049915</td>\n",
       "      <td>1.04</td>\n",
       "      <td>2.81</td>\n",
       "      <td>3.05</td>\n",
       "      <td>3.33</td>\n",
       "      <td>3.83</td>\n",
       "      <td>0.398763</td>\n",
       "    </tr>\n",
       "    <tr>\n",
       "      <th>Na2O</th>\n",
       "      <td>708.0</td>\n",
       "      <td>0.147274</td>\n",
       "      <td>-0.13</td>\n",
       "      <td>0.11</td>\n",
       "      <td>0.14</td>\n",
       "      <td>0.18</td>\n",
       "      <td>0.8</td>\n",
       "      <td>0.058605</td>\n",
       "    </tr>\n",
       "    <tr>\n",
       "      <th>Al2O3</th>\n",
       "      <td>708.0</td>\n",
       "      <td>9.863503</td>\n",
       "      <td>6.52</td>\n",
       "      <td>9.09</td>\n",
       "      <td>9.67</td>\n",
       "      <td>10.58</td>\n",
       "      <td>14.1</td>\n",
       "      <td>1.147935</td>\n",
       "    </tr>\n",
       "    <tr>\n",
       "      <th>SiO2</th>\n",
       "      <td>708.0</td>\n",
       "      <td>39.520184</td>\n",
       "      <td>29.860001</td>\n",
       "      <td>36.549999</td>\n",
       "      <td>39.15</td>\n",
       "      <td>42.450001</td>\n",
       "      <td>48.950001</td>\n",
       "      <td>3.800472</td>\n",
       "    </tr>\n",
       "    <tr>\n",
       "      <th>SO3</th>\n",
       "      <td>708.0</td>\n",
       "      <td>2.364675</td>\n",
       "      <td>1.21</td>\n",
       "      <td>2.23</td>\n",
       "      <td>2.36</td>\n",
       "      <td>2.4925</td>\n",
       "      <td>3.2</td>\n",
       "      <td>0.223765</td>\n",
       "    </tr>\n",
       "    <tr>\n",
       "      <th>K2O</th>\n",
       "      <td>708.0</td>\n",
       "      <td>0.45798</td>\n",
       "      <td>0.1</td>\n",
       "      <td>0.4</td>\n",
       "      <td>0.46</td>\n",
       "      <td>0.51</td>\n",
       "      <td>0.7</td>\n",
       "      <td>0.085059</td>\n",
       "    </tr>\n",
       "    <tr>\n",
       "      <th>Fe2O3</th>\n",
       "      <td>708.0</td>\n",
       "      <td>4.280466</td>\n",
       "      <td>2.46</td>\n",
       "      <td>3.92</td>\n",
       "      <td>4.24</td>\n",
       "      <td>4.4925</td>\n",
       "      <td>6.74</td>\n",
       "      <td>0.459144</td>\n",
       "    </tr>\n",
       "    <tr>\n",
       "      <th>Loss on Ignition</th>\n",
       "      <td>708.0</td>\n",
       "      <td>2.420678</td>\n",
       "      <td>0.3</td>\n",
       "      <td>2.04</td>\n",
       "      <td>2.4</td>\n",
       "      <td>2.8</td>\n",
       "      <td>4.51</td>\n",
       "      <td>0.541941</td>\n",
       "    </tr>\n",
       "    <tr>\n",
       "      <th>Insoluble Residue</th>\n",
       "      <td>708.0</td>\n",
       "      <td>36.333503</td>\n",
       "      <td>25.299999</td>\n",
       "      <td>31.477499</td>\n",
       "      <td>37.215</td>\n",
       "      <td>40.722501</td>\n",
       "      <td>49.150002</td>\n",
       "      <td>4.704998</td>\n",
       "    </tr>\n",
       "    <tr>\n",
       "      <th>Blaine</th>\n",
       "      <td>708.0</td>\n",
       "      <td>5976.353107</td>\n",
       "      <td>4570.0</td>\n",
       "      <td>5660.0</td>\n",
       "      <td>5850.0</td>\n",
       "      <td>6210.0</td>\n",
       "      <td>7900.0</td>\n",
       "      <td>481.730335</td>\n",
       "    </tr>\n",
       "    <tr>\n",
       "      <th>#200</th>\n",
       "      <td>708.0</td>\n",
       "      <td>1.543531</td>\n",
       "      <td>0.1</td>\n",
       "      <td>0.6</td>\n",
       "      <td>1.315</td>\n",
       "      <td>2.2425</td>\n",
       "      <td>5.84</td>\n",
       "      <td>1.091324</td>\n",
       "    </tr>\n",
       "    <tr>\n",
       "      <th>#325</th>\n",
       "      <td>708.0</td>\n",
       "      <td>7.600438</td>\n",
       "      <td>1.6</td>\n",
       "      <td>4.1</td>\n",
       "      <td>7.5</td>\n",
       "      <td>10.625</td>\n",
       "      <td>17.200001</td>\n",
       "      <td>3.755739</td>\n",
       "    </tr>\n",
       "    <tr>\n",
       "      <th>Initial setting time</th>\n",
       "      <td>708.0</td>\n",
       "      <td>166.518362</td>\n",
       "      <td>130.0</td>\n",
       "      <td>150.0</td>\n",
       "      <td>162.5</td>\n",
       "      <td>185.0</td>\n",
       "      <td>230.0</td>\n",
       "      <td>19.113772</td>\n",
       "    </tr>\n",
       "    <tr>\n",
       "      <th>Final setting time</th>\n",
       "      <td>708.0</td>\n",
       "      <td>236.899718</td>\n",
       "      <td>140.0</td>\n",
       "      <td>220.0</td>\n",
       "      <td>240.0</td>\n",
       "      <td>255.0</td>\n",
       "      <td>300.0</td>\n",
       "      <td>24.272145</td>\n",
       "    </tr>\n",
       "    <tr>\n",
       "      <th>CS3</th>\n",
       "      <td>708.0</td>\n",
       "      <td>19.718785</td>\n",
       "      <td>16.200001</td>\n",
       "      <td>17.6</td>\n",
       "      <td>18.95</td>\n",
       "      <td>21.799999</td>\n",
       "      <td>24.9</td>\n",
       "      <td>2.396544</td>\n",
       "    </tr>\n",
       "    <tr>\n",
       "      <th>CS7</th>\n",
       "      <td>708.0</td>\n",
       "      <td>27.626977</td>\n",
       "      <td>22.200001</td>\n",
       "      <td>24.700001</td>\n",
       "      <td>27.799999</td>\n",
       "      <td>30.1</td>\n",
       "      <td>36.5</td>\n",
       "      <td>3.198226</td>\n",
       "    </tr>\n",
       "    <tr>\n",
       "      <th>CS28</th>\n",
       "      <td>708.0</td>\n",
       "      <td>36.543362</td>\n",
       "      <td>32.299999</td>\n",
       "      <td>33.599998</td>\n",
       "      <td>35.900002</td>\n",
       "      <td>39.0</td>\n",
       "      <td>44.599998</td>\n",
       "      <td>3.098788</td>\n",
       "    </tr>\n",
       "  </tbody>\n",
       "</table>\n",
       "</div>"
      ],
      "text/plain": [
       "                      count                           mean  \\\n",
       "Date                    708  2022-05-26 20:04:04.067796736   \n",
       "CaO                   708.0                      37.530085   \n",
       "MgO                   708.0                       3.049915   \n",
       "Na2O                  708.0                       0.147274   \n",
       "Al2O3                 708.0                       9.863503   \n",
       "SiO2                  708.0                      39.520184   \n",
       "SO3                   708.0                       2.364675   \n",
       "K2O                   708.0                        0.45798   \n",
       "Fe2O3                 708.0                       4.280466   \n",
       "Loss on Ignition      708.0                       2.420678   \n",
       "Insoluble Residue     708.0                      36.333503   \n",
       "Blaine                708.0                    5976.353107   \n",
       "#200                  708.0                       1.543531   \n",
       "#325                  708.0                       7.600438   \n",
       "Initial setting time  708.0                     166.518362   \n",
       "Final setting time    708.0                     236.899718   \n",
       "CS3                   708.0                      19.718785   \n",
       "CS7                   708.0                      27.626977   \n",
       "CS28                  708.0                      36.543362   \n",
       "\n",
       "                                      min                  25%  \\\n",
       "Date                  2021-01-05 00:00:00  2021-10-20 12:00:00   \n",
       "CaO                             25.379999              34.5175   \n",
       "MgO                                  1.04                 2.81   \n",
       "Na2O                                -0.13                 0.11   \n",
       "Al2O3                                6.52                 9.09   \n",
       "SiO2                            29.860001            36.549999   \n",
       "SO3                                  1.21                 2.23   \n",
       "K2O                                   0.1                  0.4   \n",
       "Fe2O3                                2.46                 3.92   \n",
       "Loss on Ignition                      0.3                 2.04   \n",
       "Insoluble Residue               25.299999            31.477499   \n",
       "Blaine                             4570.0               5660.0   \n",
       "#200                                  0.1                  0.6   \n",
       "#325                                  1.6                  4.1   \n",
       "Initial setting time                130.0                150.0   \n",
       "Final setting time                  140.0                220.0   \n",
       "CS3                             16.200001                 17.6   \n",
       "CS7                             22.200001            24.700001   \n",
       "CS28                            32.299999            33.599998   \n",
       "\n",
       "                                      50%                  75%  \\\n",
       "Date                  2022-07-12 00:00:00  2022-12-28 06:00:00   \n",
       "CaO                                36.975            40.849998   \n",
       "MgO                                  3.05                 3.33   \n",
       "Na2O                                 0.14                 0.18   \n",
       "Al2O3                                9.67                10.58   \n",
       "SiO2                                39.15            42.450001   \n",
       "SO3                                  2.36               2.4925   \n",
       "K2O                                  0.46                 0.51   \n",
       "Fe2O3                                4.24               4.4925   \n",
       "Loss on Ignition                      2.4                  2.8   \n",
       "Insoluble Residue                  37.215            40.722501   \n",
       "Blaine                             5850.0               6210.0   \n",
       "#200                                1.315               2.2425   \n",
       "#325                                  7.5               10.625   \n",
       "Initial setting time                162.5                185.0   \n",
       "Final setting time                  240.0                255.0   \n",
       "CS3                                 18.95            21.799999   \n",
       "CS7                             27.799999                 30.1   \n",
       "CS28                            35.900002                 39.0   \n",
       "\n",
       "                                      max         std  \n",
       "Date                  2023-06-30 00:00:00         NaN  \n",
       "CaO                             43.400002    3.304764  \n",
       "MgO                                  3.83    0.398763  \n",
       "Na2O                                  0.8    0.058605  \n",
       "Al2O3                                14.1    1.147935  \n",
       "SiO2                            48.950001    3.800472  \n",
       "SO3                                   3.2    0.223765  \n",
       "K2O                                   0.7    0.085059  \n",
       "Fe2O3                                6.74    0.459144  \n",
       "Loss on Ignition                     4.51    0.541941  \n",
       "Insoluble Residue               49.150002    4.704998  \n",
       "Blaine                             7900.0  481.730335  \n",
       "#200                                 5.84    1.091324  \n",
       "#325                            17.200001    3.755739  \n",
       "Initial setting time                230.0   19.113772  \n",
       "Final setting time                  300.0   24.272145  \n",
       "CS3                                  24.9    2.396544  \n",
       "CS7                                  36.5    3.198226  \n",
       "CS28                            44.599998    3.098788  "
      ]
     },
     "execution_count": 30,
     "metadata": {},
     "output_type": "execute_result"
    },
    {
     "data": {
      "application/javascript": [
       "\n",
       "            setTimeout(function() {\n",
       "                var nbb_cell_id = 30;\n",
       "                var nbb_unformatted_code = \"df.describe().T\";\n",
       "                var nbb_formatted_code = \"df.describe().T\";\n",
       "                var nbb_cells = Jupyter.notebook.get_cells();\n",
       "                for (var i = 0; i < nbb_cells.length; ++i) {\n",
       "                    if (nbb_cells[i].input_prompt_number == nbb_cell_id) {\n",
       "                        if (nbb_cells[i].get_text() == nbb_unformatted_code) {\n",
       "                             nbb_cells[i].set_text(nbb_formatted_code);\n",
       "                        }\n",
       "                        break;\n",
       "                    }\n",
       "                }\n",
       "            }, 500);\n",
       "            "
      ],
      "text/plain": [
       "<IPython.core.display.Javascript object>"
      ]
     },
     "metadata": {},
     "output_type": "display_data"
    }
   ],
   "source": [
    "df.describe().T"
   ]
  },
  {
   "cell_type": "code",
   "execution_count": 31,
   "id": "e6e3f8eb",
   "metadata": {},
   "outputs": [
    {
     "data": {
      "text/html": [
       "<div>\n",
       "<style scoped>\n",
       "    .dataframe tbody tr th:only-of-type {\n",
       "        vertical-align: middle;\n",
       "    }\n",
       "\n",
       "    .dataframe tbody tr th {\n",
       "        vertical-align: top;\n",
       "    }\n",
       "\n",
       "    .dataframe thead th {\n",
       "        text-align: right;\n",
       "    }\n",
       "</style>\n",
       "<table border=\"1\" class=\"dataframe\">\n",
       "  <thead>\n",
       "    <tr style=\"text-align: right;\">\n",
       "      <th></th>\n",
       "      <th>count</th>\n",
       "      <th>unique</th>\n",
       "      <th>top</th>\n",
       "      <th>freq</th>\n",
       "      <th>mean</th>\n",
       "      <th>min</th>\n",
       "      <th>25%</th>\n",
       "      <th>50%</th>\n",
       "      <th>75%</th>\n",
       "      <th>max</th>\n",
       "    </tr>\n",
       "  </thead>\n",
       "  <tbody>\n",
       "    <tr>\n",
       "      <th>Date</th>\n",
       "      <td>708</td>\n",
       "      <td>NaN</td>\n",
       "      <td>NaN</td>\n",
       "      <td>NaN</td>\n",
       "      <td>2022-05-26 20:04:04.067796736</td>\n",
       "      <td>2021-01-05 00:00:00</td>\n",
       "      <td>2021-10-20 12:00:00</td>\n",
       "      <td>2022-07-12 00:00:00</td>\n",
       "      <td>2022-12-28 06:00:00</td>\n",
       "      <td>2023-06-30 00:00:00</td>\n",
       "    </tr>\n",
       "    <tr>\n",
       "      <th>Cement_Type</th>\n",
       "      <td>708</td>\n",
       "      <td>2</td>\n",
       "      <td>CP IV-32 D-E</td>\n",
       "      <td>388</td>\n",
       "      <td>NaN</td>\n",
       "      <td>NaN</td>\n",
       "      <td>NaN</td>\n",
       "      <td>NaN</td>\n",
       "      <td>NaN</td>\n",
       "      <td>NaN</td>\n",
       "    </tr>\n",
       "  </tbody>\n",
       "</table>\n",
       "</div>"
      ],
      "text/plain": [
       "            count unique           top freq                           mean  \\\n",
       "Date          708    NaN           NaN  NaN  2022-05-26 20:04:04.067796736   \n",
       "Cement_Type   708      2  CP IV-32 D-E  388                            NaN   \n",
       "\n",
       "                             min                  25%                  50%  \\\n",
       "Date         2021-01-05 00:00:00  2021-10-20 12:00:00  2022-07-12 00:00:00   \n",
       "Cement_Type                  NaN                  NaN                  NaN   \n",
       "\n",
       "                             75%                  max  \n",
       "Date         2022-12-28 06:00:00  2023-06-30 00:00:00  \n",
       "Cement_Type                  NaN                  NaN  "
      ]
     },
     "execution_count": 31,
     "metadata": {},
     "output_type": "execute_result"
    },
    {
     "data": {
      "application/javascript": [
       "\n",
       "            setTimeout(function() {\n",
       "                var nbb_cell_id = 31;\n",
       "                var nbb_unformatted_code = \"df.describe(exclude=\\\"number\\\").T\";\n",
       "                var nbb_formatted_code = \"df.describe(exclude=\\\"number\\\").T\";\n",
       "                var nbb_cells = Jupyter.notebook.get_cells();\n",
       "                for (var i = 0; i < nbb_cells.length; ++i) {\n",
       "                    if (nbb_cells[i].input_prompt_number == nbb_cell_id) {\n",
       "                        if (nbb_cells[i].get_text() == nbb_unformatted_code) {\n",
       "                             nbb_cells[i].set_text(nbb_formatted_code);\n",
       "                        }\n",
       "                        break;\n",
       "                    }\n",
       "                }\n",
       "            }, 500);\n",
       "            "
      ],
      "text/plain": [
       "<IPython.core.display.Javascript object>"
      ]
     },
     "metadata": {},
     "output_type": "display_data"
    }
   ],
   "source": [
    "df.describe(exclude=\"number\").T"
   ]
  },
  {
   "cell_type": "code",
   "execution_count": 32,
   "id": "8a781c6e",
   "metadata": {},
   "outputs": [
    {
     "name": "stdout",
     "output_type": "stream",
     "text": [
      "<class 'pandas.core.frame.DataFrame'>\n",
      "Index: 708 entries, 0 to 709\n",
      "Data columns (total 20 columns):\n",
      " #   Column                Non-Null Count  Dtype         \n",
      "---  ------                --------------  -----         \n",
      " 0   Date                  708 non-null    datetime64[ns]\n",
      " 1   CaO                   708 non-null    float64       \n",
      " 2   MgO                   708 non-null    float64       \n",
      " 3   Na2O                  708 non-null    float64       \n",
      " 4   Al2O3                 708 non-null    float64       \n",
      " 5   SiO2                  708 non-null    float64       \n",
      " 6   SO3                   708 non-null    float64       \n",
      " 7   K2O                   708 non-null    float64       \n",
      " 8   Fe2O3                 708 non-null    float64       \n",
      " 9   Loss on Ignition      708 non-null    float64       \n",
      " 10  Insoluble Residue     708 non-null    float64       \n",
      " 11  Blaine                708 non-null    float64       \n",
      " 12  #200                  708 non-null    float64       \n",
      " 13  #325                  708 non-null    float64       \n",
      " 14  Initial setting time  708 non-null    float64       \n",
      " 15  Final setting time    708 non-null    float64       \n",
      " 16  CS3                   708 non-null    float64       \n",
      " 17  CS7                   708 non-null    float64       \n",
      " 18  CS28                  708 non-null    float64       \n",
      " 19  Cement_Type           708 non-null    object        \n",
      "dtypes: datetime64[ns](1), float64(18), object(1)\n",
      "memory usage: 116.2+ KB\n"
     ]
    },
    {
     "data": {
      "application/javascript": [
       "\n",
       "            setTimeout(function() {\n",
       "                var nbb_cell_id = 32;\n",
       "                var nbb_unformatted_code = \"df.info()\";\n",
       "                var nbb_formatted_code = \"df.info()\";\n",
       "                var nbb_cells = Jupyter.notebook.get_cells();\n",
       "                for (var i = 0; i < nbb_cells.length; ++i) {\n",
       "                    if (nbb_cells[i].input_prompt_number == nbb_cell_id) {\n",
       "                        if (nbb_cells[i].get_text() == nbb_unformatted_code) {\n",
       "                             nbb_cells[i].set_text(nbb_formatted_code);\n",
       "                        }\n",
       "                        break;\n",
       "                    }\n",
       "                }\n",
       "            }, 500);\n",
       "            "
      ],
      "text/plain": [
       "<IPython.core.display.Javascript object>"
      ]
     },
     "metadata": {},
     "output_type": "display_data"
    }
   ],
   "source": [
    "df.info()"
   ]
  },
  {
   "cell_type": "markdown",
   "id": "6d769c2f",
   "metadata": {},
   "source": [
    "### Sort the dataset by date"
   ]
  },
  {
   "cell_type": "code",
   "execution_count": 33,
   "id": "b44c21a6",
   "metadata": {},
   "outputs": [
    {
     "data": {
      "text/plain": [
       "dtype('<M8[ns]')"
      ]
     },
     "execution_count": 33,
     "metadata": {},
     "output_type": "execute_result"
    },
    {
     "data": {
      "application/javascript": [
       "\n",
       "            setTimeout(function() {\n",
       "                var nbb_cell_id = 33;\n",
       "                var nbb_unformatted_code = \"# We first make sure Date column was infered correctly\\ndf[\\\"Date\\\"].dtype\";\n",
       "                var nbb_formatted_code = \"# We first make sure Date column was infered correctly\\ndf[\\\"Date\\\"].dtype\";\n",
       "                var nbb_cells = Jupyter.notebook.get_cells();\n",
       "                for (var i = 0; i < nbb_cells.length; ++i) {\n",
       "                    if (nbb_cells[i].input_prompt_number == nbb_cell_id) {\n",
       "                        if (nbb_cells[i].get_text() == nbb_unformatted_code) {\n",
       "                             nbb_cells[i].set_text(nbb_formatted_code);\n",
       "                        }\n",
       "                        break;\n",
       "                    }\n",
       "                }\n",
       "            }, 500);\n",
       "            "
      ],
      "text/plain": [
       "<IPython.core.display.Javascript object>"
      ]
     },
     "metadata": {},
     "output_type": "display_data"
    }
   ],
   "source": [
    "# We first make sure Date column was infered correctly\n",
    "df[\"Date\"].dtype"
   ]
  },
  {
   "cell_type": "code",
   "execution_count": 34,
   "id": "5c5039e2",
   "metadata": {},
   "outputs": [
    {
     "data": {
      "application/javascript": [
       "\n",
       "            setTimeout(function() {\n",
       "                var nbb_cell_id = 34;\n",
       "                var nbb_unformatted_code = \"df = df.sort_values(by=\\\"Date\\\")\";\n",
       "                var nbb_formatted_code = \"df = df.sort_values(by=\\\"Date\\\")\";\n",
       "                var nbb_cells = Jupyter.notebook.get_cells();\n",
       "                for (var i = 0; i < nbb_cells.length; ++i) {\n",
       "                    if (nbb_cells[i].input_prompt_number == nbb_cell_id) {\n",
       "                        if (nbb_cells[i].get_text() == nbb_unformatted_code) {\n",
       "                             nbb_cells[i].set_text(nbb_formatted_code);\n",
       "                        }\n",
       "                        break;\n",
       "                    }\n",
       "                }\n",
       "            }, 500);\n",
       "            "
      ],
      "text/plain": [
       "<IPython.core.display.Javascript object>"
      ]
     },
     "metadata": {},
     "output_type": "display_data"
    }
   ],
   "source": [
    "df = df.sort_values(by=\"Date\")"
   ]
  },
  {
   "cell_type": "markdown",
   "id": "22e0657a",
   "metadata": {},
   "source": [
    "## Saving the dataset"
   ]
  },
  {
   "cell_type": "markdown",
   "id": "b60e3c79",
   "metadata": {},
   "source": [
    "<h3>Saving for feature engineering</h3>"
   ]
  },
  {
   "cell_type": "code",
   "execution_count": 35,
   "id": "a8a88fcd",
   "metadata": {},
   "outputs": [
    {
     "data": {
      "application/javascript": [
       "\n",
       "            setTimeout(function() {\n",
       "                var nbb_cell_id = 35;\n",
       "                var nbb_unformatted_code = \"df.to_csv(\\\"../../../data/interim/209/v.csv\\\", index=False)\";\n",
       "                var nbb_formatted_code = \"df.to_csv(\\\"../../../data/interim/209/v.csv\\\", index=False)\";\n",
       "                var nbb_cells = Jupyter.notebook.get_cells();\n",
       "                for (var i = 0; i < nbb_cells.length; ++i) {\n",
       "                    if (nbb_cells[i].input_prompt_number == nbb_cell_id) {\n",
       "                        if (nbb_cells[i].get_text() == nbb_unformatted_code) {\n",
       "                             nbb_cells[i].set_text(nbb_formatted_code);\n",
       "                        }\n",
       "                        break;\n",
       "                    }\n",
       "                }\n",
       "            }, 500);\n",
       "            "
      ],
      "text/plain": [
       "<IPython.core.display.Javascript object>"
      ]
     },
     "metadata": {},
     "output_type": "display_data"
    }
   ],
   "source": [
    "df.to_csv(\"../../../data/interim/209/v.csv\", index=False)"
   ]
  },
  {
   "cell_type": "code",
   "execution_count": null,
   "id": "c55f01f4",
   "metadata": {},
   "outputs": [],
   "source": []
  }
 ],
 "metadata": {
  "kernelspec": {
   "display_name": "ccs28-venv",
   "language": "python",
   "name": "ccs28-venv"
  },
  "language_info": {
   "codemirror_mode": {
    "name": "ipython",
    "version": 3
   },
   "file_extension": ".py",
   "mimetype": "text/x-python",
   "name": "python",
   "nbconvert_exporter": "python",
   "pygments_lexer": "ipython3",
   "version": "3.10.12"
  }
 },
 "nbformat": 4,
 "nbformat_minor": 5
}
