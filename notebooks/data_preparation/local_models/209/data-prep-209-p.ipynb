{
 "cells": [
  {
   "cell_type": "code",
   "execution_count": 1,
   "id": "00f7471a",
   "metadata": {},
   "outputs": [
    {
     "data": {
      "application/javascript": [
       "\n",
       "            setTimeout(function() {\n",
       "                var nbb_cell_id = 1;\n",
       "                var nbb_unformatted_code = \"%load_ext nb_black\";\n",
       "                var nbb_formatted_code = \"%load_ext nb_black\";\n",
       "                var nbb_cells = Jupyter.notebook.get_cells();\n",
       "                for (var i = 0; i < nbb_cells.length; ++i) {\n",
       "                    if (nbb_cells[i].input_prompt_number == nbb_cell_id) {\n",
       "                        if (nbb_cells[i].get_text() == nbb_unformatted_code) {\n",
       "                             nbb_cells[i].set_text(nbb_formatted_code);\n",
       "                        }\n",
       "                        break;\n",
       "                    }\n",
       "                }\n",
       "            }, 500);\n",
       "            "
      ],
      "text/plain": [
       "<IPython.core.display.Javascript object>"
      ]
     },
     "metadata": {},
     "output_type": "display_data"
    }
   ],
   "source": [
    "%load_ext nb_black"
   ]
  },
  {
   "cell_type": "code",
   "execution_count": 2,
   "id": "17ba98f5",
   "metadata": {},
   "outputs": [
    {
     "data": {
      "application/javascript": [
       "\n",
       "            setTimeout(function() {\n",
       "                var nbb_cell_id = 2;\n",
       "                var nbb_unformatted_code = \"import pandas as pd\\nimport numpy as np\\nimport matplotlib.pyplot as plt\\nimport seaborn as sns\\nimport warnings\\n\\nfrom scipy.stats import pearsonr\\nfrom collections import Counter\";\n",
       "                var nbb_formatted_code = \"import pandas as pd\\nimport numpy as np\\nimport matplotlib.pyplot as plt\\nimport seaborn as sns\\nimport warnings\\n\\nfrom scipy.stats import pearsonr\\nfrom collections import Counter\";\n",
       "                var nbb_cells = Jupyter.notebook.get_cells();\n",
       "                for (var i = 0; i < nbb_cells.length; ++i) {\n",
       "                    if (nbb_cells[i].input_prompt_number == nbb_cell_id) {\n",
       "                        if (nbb_cells[i].get_text() == nbb_unformatted_code) {\n",
       "                             nbb_cells[i].set_text(nbb_formatted_code);\n",
       "                        }\n",
       "                        break;\n",
       "                    }\n",
       "                }\n",
       "            }, 500);\n",
       "            "
      ],
      "text/plain": [
       "<IPython.core.display.Javascript object>"
      ]
     },
     "metadata": {},
     "output_type": "display_data"
    }
   ],
   "source": [
    "import pandas as pd\n",
    "import numpy as np\n",
    "import matplotlib.pyplot as plt\n",
    "import seaborn as sns\n",
    "import warnings\n",
    "\n",
    "from scipy.stats import pearsonr\n",
    "from collections import Counter"
   ]
  },
  {
   "cell_type": "code",
   "execution_count": 3,
   "id": "ad81bb3a",
   "metadata": {},
   "outputs": [
    {
     "data": {
      "application/javascript": [
       "\n",
       "            setTimeout(function() {\n",
       "                var nbb_cell_id = 3;\n",
       "                var nbb_unformatted_code = \"def convert_to_float(value):\\n    try:\\n        # If it's a string enclosed in single quotes, remove quotes and replace comma with dot\\n        if isinstance(value, str):\\n            return float(value.replace(\\\",\\\", \\\".\\\"))\\n        else:\\n            return float(value)\\n    except ValueError as e:\\n        print(e)\\n        return float(\\\"nan\\\")\";\n",
       "                var nbb_formatted_code = \"def convert_to_float(value):\\n    try:\\n        # If it's a string enclosed in single quotes, remove quotes and replace comma with dot\\n        if isinstance(value, str):\\n            return float(value.replace(\\\",\\\", \\\".\\\"))\\n        else:\\n            return float(value)\\n    except ValueError as e:\\n        print(e)\\n        return float(\\\"nan\\\")\";\n",
       "                var nbb_cells = Jupyter.notebook.get_cells();\n",
       "                for (var i = 0; i < nbb_cells.length; ++i) {\n",
       "                    if (nbb_cells[i].input_prompt_number == nbb_cell_id) {\n",
       "                        if (nbb_cells[i].get_text() == nbb_unformatted_code) {\n",
       "                             nbb_cells[i].set_text(nbb_formatted_code);\n",
       "                        }\n",
       "                        break;\n",
       "                    }\n",
       "                }\n",
       "            }, 500);\n",
       "            "
      ],
      "text/plain": [
       "<IPython.core.display.Javascript object>"
      ]
     },
     "metadata": {},
     "output_type": "display_data"
    }
   ],
   "source": [
    "def convert_to_float(value):\n",
    "    try:\n",
    "        # If it's a string enclosed in single quotes, remove quotes and replace comma with dot\n",
    "        if isinstance(value, str):\n",
    "            return float(value.replace(\",\", \".\"))\n",
    "        else:\n",
    "            return float(value)\n",
    "    except ValueError as e:\n",
    "        print(e)\n",
    "        return float(\"nan\")"
   ]
  },
  {
   "cell_type": "code",
   "execution_count": 4,
   "id": "fa1f9842",
   "metadata": {},
   "outputs": [
    {
     "data": {
      "application/javascript": [
       "\n",
       "            setTimeout(function() {\n",
       "                var nbb_cell_id = 4;\n",
       "                var nbb_unformatted_code = \"def preprocess_numeric_cols(df, columns):\\n    for col in columns:\\n        df[col] = df[col].astype(str)  # Ensure string type for string operations\\n        df[col] = df[col].str.replace(\\\"#\\\", \\\"\\\")  # Remove '#' characters\\n        df[col] = df[col].str.replace(\\\",\\\", \\\".\\\")  # Replace ',' with '.' for decimals\\n    return df\";\n",
       "                var nbb_formatted_code = \"def preprocess_numeric_cols(df, columns):\\n    for col in columns:\\n        df[col] = df[col].astype(str)  # Ensure string type for string operations\\n        df[col] = df[col].str.replace(\\\"#\\\", \\\"\\\")  # Remove '#' characters\\n        df[col] = df[col].str.replace(\\\",\\\", \\\".\\\")  # Replace ',' with '.' for decimals\\n    return df\";\n",
       "                var nbb_cells = Jupyter.notebook.get_cells();\n",
       "                for (var i = 0; i < nbb_cells.length; ++i) {\n",
       "                    if (nbb_cells[i].input_prompt_number == nbb_cell_id) {\n",
       "                        if (nbb_cells[i].get_text() == nbb_unformatted_code) {\n",
       "                             nbb_cells[i].set_text(nbb_formatted_code);\n",
       "                        }\n",
       "                        break;\n",
       "                    }\n",
       "                }\n",
       "            }, 500);\n",
       "            "
      ],
      "text/plain": [
       "<IPython.core.display.Javascript object>"
      ]
     },
     "metadata": {},
     "output_type": "display_data"
    }
   ],
   "source": [
    "def preprocess_numeric_cols(df, columns):\n",
    "    for col in columns:\n",
    "        df[col] = df[col].astype(str)  # Ensure string type for string operations\n",
    "        df[col] = df[col].str.replace(\"#\", \"\")  # Remove '#' characters\n",
    "        df[col] = df[col].str.replace(\",\", \".\")  # Replace ',' with '.' for decimals\n",
    "    return df"
   ]
  },
  {
   "cell_type": "markdown",
   "id": "d28c2c6f",
   "metadata": {},
   "source": [
    "# Data preparation - 209 plant P data"
   ]
  },
  {
   "cell_type": "markdown",
   "id": "d3eb6673",
   "metadata": {},
   "source": [
    "### Reading the files and extracting relevant information:"
   ]
  },
  {
   "cell_type": "code",
   "execution_count": 5,
   "id": "8cbd3a44",
   "metadata": {},
   "outputs": [
    {
     "data": {
      "application/javascript": [
       "\n",
       "            setTimeout(function() {\n",
       "                var nbb_cell_id = 5;\n",
       "                var nbb_unformatted_code = \"plant = \\\"P\\\"\\nxls_files = {}\\n\\nxls = pd.ExcelFile(\\n    f\\\"../../../data/raw/209/EMBRAPII hubIC IACC_CIMENTO_{plant}.xlsx\\\",\\n    engine=\\\"openpyxl\\\",\\n)\\nxls_files[plant] = xls\";\n",
       "                var nbb_formatted_code = \"plant = \\\"P\\\"\\nxls_files = {}\\n\\nxls = pd.ExcelFile(\\n    f\\\"../../../data/raw/209/EMBRAPII hubIC IACC_CIMENTO_{plant}.xlsx\\\",\\n    engine=\\\"openpyxl\\\",\\n)\\nxls_files[plant] = xls\";\n",
       "                var nbb_cells = Jupyter.notebook.get_cells();\n",
       "                for (var i = 0; i < nbb_cells.length; ++i) {\n",
       "                    if (nbb_cells[i].input_prompt_number == nbb_cell_id) {\n",
       "                        if (nbb_cells[i].get_text() == nbb_unformatted_code) {\n",
       "                             nbb_cells[i].set_text(nbb_formatted_code);\n",
       "                        }\n",
       "                        break;\n",
       "                    }\n",
       "                }\n",
       "            }, 500);\n",
       "            "
      ],
      "text/plain": [
       "<IPython.core.display.Javascript object>"
      ]
     },
     "metadata": {},
     "output_type": "display_data"
    }
   ],
   "source": [
    "plant = \"P\"\n",
    "xls_files = {}\n",
    "\n",
    "xls = pd.ExcelFile(\n",
    "    f\"../../../data/raw/209/EMBRAPII hubIC IACC_CIMENTO_{plant}.xlsx\",\n",
    "    engine=\"openpyxl\",\n",
    ")\n",
    "xls_files[plant] = xls"
   ]
  },
  {
   "cell_type": "code",
   "execution_count": 6,
   "id": "0d7c6058",
   "metadata": {},
   "outputs": [
    {
     "name": "stdout",
     "output_type": "stream",
     "text": [
      "Plant:  P ['INSTRUÇÕES', 'Clínquer', '175']\n"
     ]
    },
    {
     "data": {
      "application/javascript": [
       "\n",
       "            setTimeout(function() {\n",
       "                var nbb_cell_id = 6;\n",
       "                var nbb_unformatted_code = \"print(\\\"Plant: \\\", plant, xls.sheet_names)\";\n",
       "                var nbb_formatted_code = \"print(\\\"Plant: \\\", plant, xls.sheet_names)\";\n",
       "                var nbb_cells = Jupyter.notebook.get_cells();\n",
       "                for (var i = 0; i < nbb_cells.length; ++i) {\n",
       "                    if (nbb_cells[i].input_prompt_number == nbb_cell_id) {\n",
       "                        if (nbb_cells[i].get_text() == nbb_unformatted_code) {\n",
       "                             nbb_cells[i].set_text(nbb_formatted_code);\n",
       "                        }\n",
       "                        break;\n",
       "                    }\n",
       "                }\n",
       "            }, 500);\n",
       "            "
      ],
      "text/plain": [
       "<IPython.core.display.Javascript object>"
      ]
     },
     "metadata": {},
     "output_type": "display_data"
    }
   ],
   "source": [
    "print(\"Plant: \", plant, xls.sheet_names)"
   ]
  },
  {
   "cell_type": "code",
   "execution_count": 7,
   "id": "d0b9a1e5",
   "metadata": {},
   "outputs": [
    {
     "data": {
      "application/javascript": [
       "\n",
       "            setTimeout(function() {\n",
       "                var nbb_cell_id = 7;\n",
       "                var nbb_unformatted_code = \"cement_types_per_plant = []\\nCEMENT_TYPE_COLS = [\\\"Tipo de cimento\\\", \\\"Classe de resist\\u00eancia\\\"]\\ndataframes = []\\n\\nfor plant, xls in xls_files.items():\\n    for sheet_name in xls.sheet_names[2:]:\\n        df = pd.read_excel(xls_files[plant], sheet_name, header=[1, 2])\\n\\n        if not df[CEMENT_TYPE_COLS].iloc[2:].isna().all().all():\\n            cement_type = (\\n                df[CEMENT_TYPE_COLS]\\n                .loc[2:]\\n                .astype(str)\\n                .sum(axis=1)\\n                .str.replace(\\\" \\\", \\\"\\\")\\n                .str.replace(\\\"-\\\", \\\"\\\")\\n                .str.replace(\\\"nan\\\", \\\"\\\")\\n                .unique()\\n            )\\n\\n        else:\\n            cement_type = (\\n                df[[(\\\"Obs.\\\", \\\"Unnamed: 8_level_1\\\")]]\\n                .loc[2:]\\n                .astype(str)\\n                .sum(axis=1)\\n                .str.replace(\\\" \\\", \\\"\\\")\\n                .str.replace(\\\"-\\\", \\\"\\\")\\n                .unique()\\n            )\\n\\n        cement_types_per_plant.append((plant, sheet_name, cement_type))\\n        dataframes.append(df)\";\n",
       "                var nbb_formatted_code = \"cement_types_per_plant = []\\nCEMENT_TYPE_COLS = [\\\"Tipo de cimento\\\", \\\"Classe de resist\\u00eancia\\\"]\\ndataframes = []\\n\\nfor plant, xls in xls_files.items():\\n    for sheet_name in xls.sheet_names[2:]:\\n        df = pd.read_excel(xls_files[plant], sheet_name, header=[1, 2])\\n\\n        if not df[CEMENT_TYPE_COLS].iloc[2:].isna().all().all():\\n            cement_type = (\\n                df[CEMENT_TYPE_COLS]\\n                .loc[2:]\\n                .astype(str)\\n                .sum(axis=1)\\n                .str.replace(\\\" \\\", \\\"\\\")\\n                .str.replace(\\\"-\\\", \\\"\\\")\\n                .str.replace(\\\"nan\\\", \\\"\\\")\\n                .unique()\\n            )\\n\\n        else:\\n            cement_type = (\\n                df[[(\\\"Obs.\\\", \\\"Unnamed: 8_level_1\\\")]]\\n                .loc[2:]\\n                .astype(str)\\n                .sum(axis=1)\\n                .str.replace(\\\" \\\", \\\"\\\")\\n                .str.replace(\\\"-\\\", \\\"\\\")\\n                .unique()\\n            )\\n\\n        cement_types_per_plant.append((plant, sheet_name, cement_type))\\n        dataframes.append(df)\";\n",
       "                var nbb_cells = Jupyter.notebook.get_cells();\n",
       "                for (var i = 0; i < nbb_cells.length; ++i) {\n",
       "                    if (nbb_cells[i].input_prompt_number == nbb_cell_id) {\n",
       "                        if (nbb_cells[i].get_text() == nbb_unformatted_code) {\n",
       "                             nbb_cells[i].set_text(nbb_formatted_code);\n",
       "                        }\n",
       "                        break;\n",
       "                    }\n",
       "                }\n",
       "            }, 500);\n",
       "            "
      ],
      "text/plain": [
       "<IPython.core.display.Javascript object>"
      ]
     },
     "metadata": {},
     "output_type": "display_data"
    }
   ],
   "source": [
    "cement_types_per_plant = []\n",
    "CEMENT_TYPE_COLS = [\"Tipo de cimento\", \"Classe de resistência\"]\n",
    "dataframes = []\n",
    "\n",
    "for plant, xls in xls_files.items():\n",
    "    for sheet_name in xls.sheet_names[2:]:\n",
    "        df = pd.read_excel(xls_files[plant], sheet_name, header=[1, 2])\n",
    "\n",
    "        if not df[CEMENT_TYPE_COLS].iloc[2:].isna().all().all():\n",
    "            cement_type = (\n",
    "                df[CEMENT_TYPE_COLS]\n",
    "                .loc[2:]\n",
    "                .astype(str)\n",
    "                .sum(axis=1)\n",
    "                .str.replace(\" \", \"\")\n",
    "                .str.replace(\"-\", \"\")\n",
    "                .str.replace(\"nan\", \"\")\n",
    "                .unique()\n",
    "            )\n",
    "\n",
    "        else:\n",
    "            cement_type = (\n",
    "                df[[(\"Obs.\", \"Unnamed: 8_level_1\")]]\n",
    "                .loc[2:]\n",
    "                .astype(str)\n",
    "                .sum(axis=1)\n",
    "                .str.replace(\" \", \"\")\n",
    "                .str.replace(\"-\", \"\")\n",
    "                .unique()\n",
    "            )\n",
    "\n",
    "        cement_types_per_plant.append((plant, sheet_name, cement_type))\n",
    "        dataframes.append(df)"
   ]
  },
  {
   "cell_type": "code",
   "execution_count": 8,
   "id": "68ebeafe",
   "metadata": {},
   "outputs": [
    {
     "data": {
      "text/plain": [
       "[('P', '175', array(['CPIIF40'], dtype=object))]"
      ]
     },
     "execution_count": 8,
     "metadata": {},
     "output_type": "execute_result"
    },
    {
     "data": {
      "application/javascript": [
       "\n",
       "            setTimeout(function() {\n",
       "                var nbb_cell_id = 8;\n",
       "                var nbb_unformatted_code = \"cement_types_per_plant\";\n",
       "                var nbb_formatted_code = \"cement_types_per_plant\";\n",
       "                var nbb_cells = Jupyter.notebook.get_cells();\n",
       "                for (var i = 0; i < nbb_cells.length; ++i) {\n",
       "                    if (nbb_cells[i].input_prompt_number == nbb_cell_id) {\n",
       "                        if (nbb_cells[i].get_text() == nbb_unformatted_code) {\n",
       "                             nbb_cells[i].set_text(nbb_formatted_code);\n",
       "                        }\n",
       "                        break;\n",
       "                    }\n",
       "                }\n",
       "            }, 500);\n",
       "            "
      ],
      "text/plain": [
       "<IPython.core.display.Javascript object>"
      ]
     },
     "metadata": {},
     "output_type": "display_data"
    }
   ],
   "source": [
    "cement_types_per_plant"
   ]
  },
  {
   "cell_type": "code",
   "execution_count": 9,
   "id": "88c941e7",
   "metadata": {},
   "outputs": [
    {
     "data": {
      "text/plain": [
       "Counter({'CPIIF40': 1})"
      ]
     },
     "execution_count": 9,
     "metadata": {},
     "output_type": "execute_result"
    },
    {
     "data": {
      "application/javascript": [
       "\n",
       "            setTimeout(function() {\n",
       "                var nbb_cell_id = 9;\n",
       "                var nbb_unformatted_code = \"cements = []\\nfor tup in cement_types_per_plant:\\n    cements.append(tup[2][0])\\nCounter(cements)\";\n",
       "                var nbb_formatted_code = \"cements = []\\nfor tup in cement_types_per_plant:\\n    cements.append(tup[2][0])\\nCounter(cements)\";\n",
       "                var nbb_cells = Jupyter.notebook.get_cells();\n",
       "                for (var i = 0; i < nbb_cells.length; ++i) {\n",
       "                    if (nbb_cells[i].input_prompt_number == nbb_cell_id) {\n",
       "                        if (nbb_cells[i].get_text() == nbb_unformatted_code) {\n",
       "                             nbb_cells[i].set_text(nbb_formatted_code);\n",
       "                        }\n",
       "                        break;\n",
       "                    }\n",
       "                }\n",
       "            }, 500);\n",
       "            "
      ],
      "text/plain": [
       "<IPython.core.display.Javascript object>"
      ]
     },
     "metadata": {},
     "output_type": "display_data"
    }
   ],
   "source": [
    "cements = []\n",
    "for tup in cement_types_per_plant:\n",
    "    cements.append(tup[2][0])\n",
    "Counter(cements)"
   ]
  },
  {
   "cell_type": "code",
   "execution_count": 10,
   "id": "af1bdac7",
   "metadata": {},
   "outputs": [
    {
     "data": {
      "application/javascript": [
       "\n",
       "            setTimeout(function() {\n",
       "                var nbb_cell_id = 10;\n",
       "                var nbb_unformatted_code = \"dataframes = []\\n\\nfor plant, xls in xls_files.items():\\n    for sheet_name in xls.sheet_names[2:]:\\n        df = pd.read_excel(xls_files[plant], sheet_name, header=[0, 1, 2])\\n        df[\\\"Unnamed: 0_level_0\\\", \\\"Unnamed: 0_level_1\\\", \\\"Unnamed: 0_level_2\\\"] = plant\\n        dataframes.append(df.drop([0, 1], axis=0).reset_index(drop=True).copy())\";\n",
       "                var nbb_formatted_code = \"dataframes = []\\n\\nfor plant, xls in xls_files.items():\\n    for sheet_name in xls.sheet_names[2:]:\\n        df = pd.read_excel(xls_files[plant], sheet_name, header=[0, 1, 2])\\n        df[\\\"Unnamed: 0_level_0\\\", \\\"Unnamed: 0_level_1\\\", \\\"Unnamed: 0_level_2\\\"] = plant\\n        dataframes.append(df.drop([0, 1], axis=0).reset_index(drop=True).copy())\";\n",
       "                var nbb_cells = Jupyter.notebook.get_cells();\n",
       "                for (var i = 0; i < nbb_cells.length; ++i) {\n",
       "                    if (nbb_cells[i].input_prompt_number == nbb_cell_id) {\n",
       "                        if (nbb_cells[i].get_text() == nbb_unformatted_code) {\n",
       "                             nbb_cells[i].set_text(nbb_formatted_code);\n",
       "                        }\n",
       "                        break;\n",
       "                    }\n",
       "                }\n",
       "            }, 500);\n",
       "            "
      ],
      "text/plain": [
       "<IPython.core.display.Javascript object>"
      ]
     },
     "metadata": {},
     "output_type": "display_data"
    }
   ],
   "source": [
    "dataframes = []\n",
    "\n",
    "for plant, xls in xls_files.items():\n",
    "    for sheet_name in xls.sheet_names[2:]:\n",
    "        df = pd.read_excel(xls_files[plant], sheet_name, header=[0, 1, 2])\n",
    "        df[\"Unnamed: 0_level_0\", \"Unnamed: 0_level_1\", \"Unnamed: 0_level_2\"] = plant\n",
    "        dataframes.append(df.drop([0, 1], axis=0).reset_index(drop=True).copy())"
   ]
  },
  {
   "cell_type": "code",
   "execution_count": 11,
   "id": "c4919ee2",
   "metadata": {},
   "outputs": [
    {
     "data": {
      "application/javascript": [
       "\n",
       "            setTimeout(function() {\n",
       "                var nbb_cell_id = 11;\n",
       "                var nbb_unformatted_code = \"df = pd.concat(dataframes, axis=0).reset_index(drop=True)\";\n",
       "                var nbb_formatted_code = \"df = pd.concat(dataframes, axis=0).reset_index(drop=True)\";\n",
       "                var nbb_cells = Jupyter.notebook.get_cells();\n",
       "                for (var i = 0; i < nbb_cells.length; ++i) {\n",
       "                    if (nbb_cells[i].input_prompt_number == nbb_cell_id) {\n",
       "                        if (nbb_cells[i].get_text() == nbb_unformatted_code) {\n",
       "                             nbb_cells[i].set_text(nbb_formatted_code);\n",
       "                        }\n",
       "                        break;\n",
       "                    }\n",
       "                }\n",
       "            }, 500);\n",
       "            "
      ],
      "text/plain": [
       "<IPython.core.display.Javascript object>"
      ]
     },
     "metadata": {},
     "output_type": "display_data"
    }
   ],
   "source": [
    "df = pd.concat(dataframes, axis=0).reset_index(drop=True)"
   ]
  },
  {
   "cell_type": "markdown",
   "id": "8dfc7bff",
   "metadata": {},
   "source": [
    "## Initial Preprocessing"
   ]
  },
  {
   "cell_type": "code",
   "execution_count": 12,
   "id": "f360ba12",
   "metadata": {},
   "outputs": [
    {
     "data": {
      "application/javascript": [
       "\n",
       "            setTimeout(function() {\n",
       "                var nbb_cell_id = 12;\n",
       "                var nbb_unformatted_code = \"df = pd.concat(\\n    [\\n        df[\\\"Unnamed: 0_level_0\\\", \\\"Unnamed: 0_level_1\\\", \\\"Unnamed: 0_level_2\\\"],\\n        df[\\\"Dados iniciais\\\"],\\n        df[\\\"Cimento\\\"][\\\"Composi\\u00e7\\u00e3o\\\"].rename(\\n            {\\\"Sulfato de c\\u00e1lcio\\\": \\\"Sulfato de c\\u00e1lcio (composi\\u00e7\\u00e3o)\\\"}, axis=1\\n        ),\\n        df[\\\"Cimento\\\"][\\\"An\\u00e1lise mineral\\u00f3gica\\\"],\\n        df[\\\"Cimento\\\"][\\\"An\\u00e1lise qu\\u00edmica\\\"],\\n        df[\\\"Caracter\\u00edstias f\\u00edsicas do cimento\\\"],\\n        df[\\\"Propriedades do cimento\\\"],\\n    ],\\n    axis=1,\\n)\";\n",
       "                var nbb_formatted_code = \"df = pd.concat(\\n    [\\n        df[\\\"Unnamed: 0_level_0\\\", \\\"Unnamed: 0_level_1\\\", \\\"Unnamed: 0_level_2\\\"],\\n        df[\\\"Dados iniciais\\\"],\\n        df[\\\"Cimento\\\"][\\\"Composi\\u00e7\\u00e3o\\\"].rename(\\n            {\\\"Sulfato de c\\u00e1lcio\\\": \\\"Sulfato de c\\u00e1lcio (composi\\u00e7\\u00e3o)\\\"}, axis=1\\n        ),\\n        df[\\\"Cimento\\\"][\\\"An\\u00e1lise mineral\\u00f3gica\\\"],\\n        df[\\\"Cimento\\\"][\\\"An\\u00e1lise qu\\u00edmica\\\"],\\n        df[\\\"Caracter\\u00edstias f\\u00edsicas do cimento\\\"],\\n        df[\\\"Propriedades do cimento\\\"],\\n    ],\\n    axis=1,\\n)\";\n",
       "                var nbb_cells = Jupyter.notebook.get_cells();\n",
       "                for (var i = 0; i < nbb_cells.length; ++i) {\n",
       "                    if (nbb_cells[i].input_prompt_number == nbb_cell_id) {\n",
       "                        if (nbb_cells[i].get_text() == nbb_unformatted_code) {\n",
       "                             nbb_cells[i].set_text(nbb_formatted_code);\n",
       "                        }\n",
       "                        break;\n",
       "                    }\n",
       "                }\n",
       "            }, 500);\n",
       "            "
      ],
      "text/plain": [
       "<IPython.core.display.Javascript object>"
      ]
     },
     "metadata": {},
     "output_type": "display_data"
    }
   ],
   "source": [
    "df = pd.concat(\n",
    "    [\n",
    "        df[\"Unnamed: 0_level_0\", \"Unnamed: 0_level_1\", \"Unnamed: 0_level_2\"],\n",
    "        df[\"Dados iniciais\"],\n",
    "        df[\"Cimento\"][\"Composição\"].rename(\n",
    "            {\"Sulfato de cálcio\": \"Sulfato de cálcio (composição)\"}, axis=1\n",
    "        ),\n",
    "        df[\"Cimento\"][\"Análise mineralógica\"],\n",
    "        df[\"Cimento\"][\"Análise química\"],\n",
    "        df[\"Característias físicas do cimento\"],\n",
    "        df[\"Propriedades do cimento\"],\n",
    "    ],\n",
    "    axis=1,\n",
    ")"
   ]
  },
  {
   "cell_type": "code",
   "execution_count": 13,
   "id": "d249762f",
   "metadata": {},
   "outputs": [
    {
     "data": {
      "application/javascript": [
       "\n",
       "            setTimeout(function() {\n",
       "                var nbb_cell_id = 13;\n",
       "                var nbb_unformatted_code = \"# df.info()\";\n",
       "                var nbb_formatted_code = \"# df.info()\";\n",
       "                var nbb_cells = Jupyter.notebook.get_cells();\n",
       "                for (var i = 0; i < nbb_cells.length; ++i) {\n",
       "                    if (nbb_cells[i].input_prompt_number == nbb_cell_id) {\n",
       "                        if (nbb_cells[i].get_text() == nbb_unformatted_code) {\n",
       "                             nbb_cells[i].set_text(nbb_formatted_code);\n",
       "                        }\n",
       "                        break;\n",
       "                    }\n",
       "                }\n",
       "            }, 500);\n",
       "            "
      ],
      "text/plain": [
       "<IPython.core.display.Javascript object>"
      ]
     },
     "metadata": {},
     "output_type": "display_data"
    }
   ],
   "source": [
    "# df.info()"
   ]
  },
  {
   "cell_type": "markdown",
   "id": "e1b4b617",
   "metadata": {},
   "source": [
    "### 1. Dropping columns where either there is no data nor it contributes to the analysis\n",
    "### 2. Renaming columns to a short identifiable name"
   ]
  },
  {
   "cell_type": "code",
   "execution_count": 14,
   "id": "ecb5184c",
   "metadata": {},
   "outputs": [
    {
     "data": {
      "application/javascript": [
       "\n",
       "            setTimeout(function() {\n",
       "                var nbb_cell_id = 14;\n",
       "                var nbb_unformatted_code = \"COLUMNS_TO_DROP = [\\n    (\\\"Data\\\", \\\"Medida\\\"),\\n    (\\\"Hor\\u00e1rio\\\", \\\"Produ\\u00e7\\u00e3o\\\"),\\n    (\\\"Hor\\u00e1rio\\\", \\\"Medida\\\"),\\n    (\\\"Obs.\\\", \\\"Unnamed: 148_level_2\\\"),\\n    (\\\"Tipo de cimento\\\", \\\"Unnamed: 6_level_2\\\"),\\n    (\\\"Classe de resist\\u00eancia\\\", \\\"Unnamed: 7_level_2\\\"),\\n    (\\\"Obs.\\\", \\\"Unnamed: 8_level_2\\\"),\\n    \\\"Obs.\\\",\\n    (\\\"Obs.\\\", \\\"Unnamed: 148_level_2\\\"),\\n    (\\\"Unnamed: 141_level_1\\\", \\\"Obs.\\\"),\\n    # (\\\"Unnamed: 139_level_1\\\", \\\"#400\\\"),\\n]\\n\\nCOLUMNS_TO_RENAME = {\\n    (\\\"Unnamed: 0_level_0\\\", \\\"Unnamed: 0_level_1\\\", \\\"Unnamed: 0_level_2\\\"): \\\"Plant\\\",\\n    (\\\"Cidade\\\", \\\"Unnamed: 1_level_2\\\"): \\\"City\\\",\\n    (\\\"Data\\\", \\\"Produ\\u00e7\\u00e3o\\\"): \\\"Date\\\",  # Arrumar!\\n    (\\\"Unnamed: 136_level_1\\\", \\\"Blaine\\\"): \\\"Blaine\\\",\\n    (\\\"Unnamed: 137_level_1\\\", \\\"#200\\\"): \\\"#200\\\",\\n    (\\\"Unnamed: 138_level_1\\\", \\\"#325\\\"): \\\"#325\\\",\\n    (\\\"Unnamed: 139_level_1\\\", \\\"#400\\\"): \\\"#400\\\",\\n    (\\\"Unnamed: 140_level_1\\\", \\\"Massa espec\\u00edfica\\\"): \\\"Specific Gravity\\\",\\n    (\\\"Tempo de pega\\\", \\\"Inicio\\\"): \\\"Initial setting time\\\",\\n    (\\\"Tempo de pega\\\", \\\"Fim\\\"): \\\"Final setting time\\\",\\n    (\\\"Resist\\u00eancia \\u00e0 compress\\u00e3o\\\", \\\"1 d\\\"): \\\"CS1\\\",\\n    (\\\"Resist\\u00eancia \\u00e0 compress\\u00e3o\\\", \\\"3 d\\\"): \\\"CS3\\\",\\n    (\\\"Resist\\u00eancia \\u00e0 compress\\u00e3o\\\", \\\"7 d\\\"): \\\"CS7\\\",\\n    (\\\"Resist\\u00eancia \\u00e0 compress\\u00e3o\\\", \\\"28 d\\\"): \\\"CS28\\\",\\n    \\\"Perda ao fogo\\\": \\\"Loss on Ignition\\\",\\n    \\\"Res\\u00edduo insol\\u00favel\\\": \\\"Insoluble Residue\\\",\\n    \\\"Cl\\u00ednquer\\\": \\\"Clinker\\\",\\n    \\\"F\\u00edler calc\\u00e1rio\\\": \\\"Calcareous filler\\\",\\n    \\\"Cinza volante\\\": \\\"Fly ash\\\",\\n    \\\"Esc\\u00f3ria\\\": \\\"Slag\\\",\\n    \\\"Argila calcinada\\\": \\\"Calcined clay\\\",\\n    \\\"Sulfato de c\\u00e1lcio\\\": \\\"Calcium sulfate\\\",\\n    \\\"C3S total\\\": \\\"Total C3S\\\",\\n    \\\"C2S total\\\": \\\"Total C2S\\\",\\n    \\\"C2S alpha\\\": \\\"Alpha C2S\\\",\\n    \\\"C2S beta\\\": \\\"Beta C2S\\\",\\n    \\\"C2S gama\\\": \\\"Gamma C2S\\\",\\n    \\\"C4AF\\\": \\\"C4AF\\\",\\n    \\\"C3A\\\": \\\"C3A\\\",\\n    \\\"C3A cubic\\\": \\\"Cubic C3A\\\",\\n    \\\"C3A orto\\\": \\\"Orthorhombic C3A\\\",\\n    \\\"CaO livre\\\": \\\"Free CaO\\\",\\n    \\\"Portlandita\\\": \\\"Portlandite\\\",\\n    \\\"Periclasio\\\": \\\"Periclase\\\",\\n    \\\"Arcanita\\\": \\\"Arcanite\\\",\\n    \\\"Aphthalita\\\": \\\"Aphthitalite\\\",\\n    \\\"Langbeinita\\\": \\\"Langbeinite\\\",\\n    \\\"Bassanita\\\": \\\"Bassanite\\\",\\n    \\\"Anidrita\\\": \\\"Anhydrite\\\",\\n    \\\"Calcita\\\": \\\"Calcite\\\",\\n    \\\"Dolomita\\\": \\\"Dolomite\\\",\\n    \\\"Quartzo\\\": \\\"Quartz\\\",\\n    \\\"Muscovita\\\": \\\"Muscovite\\\",\\n    \\\"Sulfato de c\\u00e1lcio (composi\\u00e7\\u00e3o)\\\": \\\"Calcium sulfate (composition)\\\",\\n}\";\n",
       "                var nbb_formatted_code = \"COLUMNS_TO_DROP = [\\n    (\\\"Data\\\", \\\"Medida\\\"),\\n    (\\\"Hor\\u00e1rio\\\", \\\"Produ\\u00e7\\u00e3o\\\"),\\n    (\\\"Hor\\u00e1rio\\\", \\\"Medida\\\"),\\n    (\\\"Obs.\\\", \\\"Unnamed: 148_level_2\\\"),\\n    (\\\"Tipo de cimento\\\", \\\"Unnamed: 6_level_2\\\"),\\n    (\\\"Classe de resist\\u00eancia\\\", \\\"Unnamed: 7_level_2\\\"),\\n    (\\\"Obs.\\\", \\\"Unnamed: 8_level_2\\\"),\\n    \\\"Obs.\\\",\\n    (\\\"Obs.\\\", \\\"Unnamed: 148_level_2\\\"),\\n    (\\\"Unnamed: 141_level_1\\\", \\\"Obs.\\\"),\\n    # (\\\"Unnamed: 139_level_1\\\", \\\"#400\\\"),\\n]\\n\\nCOLUMNS_TO_RENAME = {\\n    (\\\"Unnamed: 0_level_0\\\", \\\"Unnamed: 0_level_1\\\", \\\"Unnamed: 0_level_2\\\"): \\\"Plant\\\",\\n    (\\\"Cidade\\\", \\\"Unnamed: 1_level_2\\\"): \\\"City\\\",\\n    (\\\"Data\\\", \\\"Produ\\u00e7\\u00e3o\\\"): \\\"Date\\\",  # Arrumar!\\n    (\\\"Unnamed: 136_level_1\\\", \\\"Blaine\\\"): \\\"Blaine\\\",\\n    (\\\"Unnamed: 137_level_1\\\", \\\"#200\\\"): \\\"#200\\\",\\n    (\\\"Unnamed: 138_level_1\\\", \\\"#325\\\"): \\\"#325\\\",\\n    (\\\"Unnamed: 139_level_1\\\", \\\"#400\\\"): \\\"#400\\\",\\n    (\\\"Unnamed: 140_level_1\\\", \\\"Massa espec\\u00edfica\\\"): \\\"Specific Gravity\\\",\\n    (\\\"Tempo de pega\\\", \\\"Inicio\\\"): \\\"Initial setting time\\\",\\n    (\\\"Tempo de pega\\\", \\\"Fim\\\"): \\\"Final setting time\\\",\\n    (\\\"Resist\\u00eancia \\u00e0 compress\\u00e3o\\\", \\\"1 d\\\"): \\\"CS1\\\",\\n    (\\\"Resist\\u00eancia \\u00e0 compress\\u00e3o\\\", \\\"3 d\\\"): \\\"CS3\\\",\\n    (\\\"Resist\\u00eancia \\u00e0 compress\\u00e3o\\\", \\\"7 d\\\"): \\\"CS7\\\",\\n    (\\\"Resist\\u00eancia \\u00e0 compress\\u00e3o\\\", \\\"28 d\\\"): \\\"CS28\\\",\\n    \\\"Perda ao fogo\\\": \\\"Loss on Ignition\\\",\\n    \\\"Res\\u00edduo insol\\u00favel\\\": \\\"Insoluble Residue\\\",\\n    \\\"Cl\\u00ednquer\\\": \\\"Clinker\\\",\\n    \\\"F\\u00edler calc\\u00e1rio\\\": \\\"Calcareous filler\\\",\\n    \\\"Cinza volante\\\": \\\"Fly ash\\\",\\n    \\\"Esc\\u00f3ria\\\": \\\"Slag\\\",\\n    \\\"Argila calcinada\\\": \\\"Calcined clay\\\",\\n    \\\"Sulfato de c\\u00e1lcio\\\": \\\"Calcium sulfate\\\",\\n    \\\"C3S total\\\": \\\"Total C3S\\\",\\n    \\\"C2S total\\\": \\\"Total C2S\\\",\\n    \\\"C2S alpha\\\": \\\"Alpha C2S\\\",\\n    \\\"C2S beta\\\": \\\"Beta C2S\\\",\\n    \\\"C2S gama\\\": \\\"Gamma C2S\\\",\\n    \\\"C4AF\\\": \\\"C4AF\\\",\\n    \\\"C3A\\\": \\\"C3A\\\",\\n    \\\"C3A cubic\\\": \\\"Cubic C3A\\\",\\n    \\\"C3A orto\\\": \\\"Orthorhombic C3A\\\",\\n    \\\"CaO livre\\\": \\\"Free CaO\\\",\\n    \\\"Portlandita\\\": \\\"Portlandite\\\",\\n    \\\"Periclasio\\\": \\\"Periclase\\\",\\n    \\\"Arcanita\\\": \\\"Arcanite\\\",\\n    \\\"Aphthalita\\\": \\\"Aphthitalite\\\",\\n    \\\"Langbeinita\\\": \\\"Langbeinite\\\",\\n    \\\"Bassanita\\\": \\\"Bassanite\\\",\\n    \\\"Anidrita\\\": \\\"Anhydrite\\\",\\n    \\\"Calcita\\\": \\\"Calcite\\\",\\n    \\\"Dolomita\\\": \\\"Dolomite\\\",\\n    \\\"Quartzo\\\": \\\"Quartz\\\",\\n    \\\"Muscovita\\\": \\\"Muscovite\\\",\\n    \\\"Sulfato de c\\u00e1lcio (composi\\u00e7\\u00e3o)\\\": \\\"Calcium sulfate (composition)\\\",\\n}\";\n",
       "                var nbb_cells = Jupyter.notebook.get_cells();\n",
       "                for (var i = 0; i < nbb_cells.length; ++i) {\n",
       "                    if (nbb_cells[i].input_prompt_number == nbb_cell_id) {\n",
       "                        if (nbb_cells[i].get_text() == nbb_unformatted_code) {\n",
       "                             nbb_cells[i].set_text(nbb_formatted_code);\n",
       "                        }\n",
       "                        break;\n",
       "                    }\n",
       "                }\n",
       "            }, 500);\n",
       "            "
      ],
      "text/plain": [
       "<IPython.core.display.Javascript object>"
      ]
     },
     "metadata": {},
     "output_type": "display_data"
    }
   ],
   "source": [
    "COLUMNS_TO_DROP = [\n",
    "    (\"Data\", \"Medida\"),\n",
    "    (\"Horário\", \"Produção\"),\n",
    "    (\"Horário\", \"Medida\"),\n",
    "    (\"Obs.\", \"Unnamed: 148_level_2\"),\n",
    "    (\"Tipo de cimento\", \"Unnamed: 6_level_2\"),\n",
    "    (\"Classe de resistência\", \"Unnamed: 7_level_2\"),\n",
    "    (\"Obs.\", \"Unnamed: 8_level_2\"),\n",
    "    \"Obs.\",\n",
    "    (\"Obs.\", \"Unnamed: 148_level_2\"),\n",
    "    (\"Unnamed: 141_level_1\", \"Obs.\"),\n",
    "    # (\"Unnamed: 139_level_1\", \"#400\"),\n",
    "]\n",
    "\n",
    "COLUMNS_TO_RENAME = {\n",
    "    (\"Unnamed: 0_level_0\", \"Unnamed: 0_level_1\", \"Unnamed: 0_level_2\"): \"Plant\",\n",
    "    (\"Cidade\", \"Unnamed: 1_level_2\"): \"City\",\n",
    "    (\"Data\", \"Produção\"): \"Date\",  # Arrumar!\n",
    "    (\"Unnamed: 136_level_1\", \"Blaine\"): \"Blaine\",\n",
    "    (\"Unnamed: 137_level_1\", \"#200\"): \"#200\",\n",
    "    (\"Unnamed: 138_level_1\", \"#325\"): \"#325\",\n",
    "    (\"Unnamed: 139_level_1\", \"#400\"): \"#400\",\n",
    "    (\"Unnamed: 140_level_1\", \"Massa específica\"): \"Specific Gravity\",\n",
    "    (\"Tempo de pega\", \"Inicio\"): \"Initial setting time\",\n",
    "    (\"Tempo de pega\", \"Fim\"): \"Final setting time\",\n",
    "    (\"Resistência à compressão\", \"1 d\"): \"CS1\",\n",
    "    (\"Resistência à compressão\", \"3 d\"): \"CS3\",\n",
    "    (\"Resistência à compressão\", \"7 d\"): \"CS7\",\n",
    "    (\"Resistência à compressão\", \"28 d\"): \"CS28\",\n",
    "    \"Perda ao fogo\": \"Loss on Ignition\",\n",
    "    \"Resíduo insolúvel\": \"Insoluble Residue\",\n",
    "    \"Clínquer\": \"Clinker\",\n",
    "    \"Fíler calcário\": \"Calcareous filler\",\n",
    "    \"Cinza volante\": \"Fly ash\",\n",
    "    \"Escória\": \"Slag\",\n",
    "    \"Argila calcinada\": \"Calcined clay\",\n",
    "    \"Sulfato de cálcio\": \"Calcium sulfate\",\n",
    "    \"C3S total\": \"Total C3S\",\n",
    "    \"C2S total\": \"Total C2S\",\n",
    "    \"C2S alpha\": \"Alpha C2S\",\n",
    "    \"C2S beta\": \"Beta C2S\",\n",
    "    \"C2S gama\": \"Gamma C2S\",\n",
    "    \"C4AF\": \"C4AF\",\n",
    "    \"C3A\": \"C3A\",\n",
    "    \"C3A cubic\": \"Cubic C3A\",\n",
    "    \"C3A orto\": \"Orthorhombic C3A\",\n",
    "    \"CaO livre\": \"Free CaO\",\n",
    "    \"Portlandita\": \"Portlandite\",\n",
    "    \"Periclasio\": \"Periclase\",\n",
    "    \"Arcanita\": \"Arcanite\",\n",
    "    \"Aphthalita\": \"Aphthitalite\",\n",
    "    \"Langbeinita\": \"Langbeinite\",\n",
    "    \"Bassanita\": \"Bassanite\",\n",
    "    \"Anidrita\": \"Anhydrite\",\n",
    "    \"Calcita\": \"Calcite\",\n",
    "    \"Dolomita\": \"Dolomite\",\n",
    "    \"Quartzo\": \"Quartz\",\n",
    "    \"Muscovita\": \"Muscovite\",\n",
    "    \"Sulfato de cálcio (composição)\": \"Calcium sulfate (composition)\",\n",
    "}"
   ]
  },
  {
   "cell_type": "markdown",
   "id": "9bdcff5b",
   "metadata": {},
   "source": [
    "### Defining a single variable to identify Cement Type"
   ]
  },
  {
   "cell_type": "code",
   "execution_count": 15,
   "id": "92ed1dd2",
   "metadata": {},
   "outputs": [
    {
     "data": {
      "application/javascript": [
       "\n",
       "            setTimeout(function() {\n",
       "                var nbb_cell_id = 15;\n",
       "                var nbb_unformatted_code = \"# Single variable for the Cement Type\\ndf[\\\"Cement_Type\\\"] = (\\n    df[\\n        [\\n            (\\\"Tipo de cimento\\\", \\\"Unnamed: 6_level_2\\\"),\\n            (\\\"Classe de resist\\u00eancia\\\", \\\"Unnamed: 7_level_2\\\"),\\n            (\\\"Obs.\\\", \\\"Unnamed: 8_level_2\\\"),\\n        ]\\n    ]\\n    .fillna(\\\"\\\")\\n    .astype(str)\\n    .sum(axis=1)\\n)\\n\\n# # Preprocessing\\ndf[\\\"Cement_Type\\\"] = df[\\\"Cement_Type\\\"].replace(\\\"Fibro\\\", \\\"Fibrocimento\\\")\\n\\n# Preprocessing\\ndf[\\\"Cement_Type\\\"] = (\\n    df[\\\"Cement_Type\\\"]\\n    .str.replace(\\\"Expedido\\\", \\\"\\\")\\n    .str.replace(\\\"Linha 9\\\", \\\"\\\")\\n    .str.replace(\\\"Itaja\\u00ed\\\", \\\"\\\")\\n    .str.replace(\\\"D-G\\\", \\\"\\\")\\n    .str.replace(\\\"D-E\\\", \\\"\\\")\\n    .str.replace(\\\"DF2\\\", \\\"\\\")\\n    .str.replace(\\\"CPIIF40\\\", \\\"CP II-F-40\\\")\\n    .str.replace(\\\"CPIIF40\\\", \\\"CP II-F40\\\")\\n    .str.replace(\\\"CP VARI\\\", \\\"CP V-ARI\\\")\\n    .str.replace(\\\"CPVARI\\\", \\\"CP V-ARI\\\")\\n    .str.replace(\\\"CP V-RSARI\\\", \\\"CP V-ARI RS\\\")\\n    .str.replace(\\\"CP III-RS40\\\", \\\"CP III-40 RS\\\")\\n    .str.replace(\\\"CP III-RS32\\\", \\\"CP III-32 RS\\\")\\n    .str.replace(\\\"CP IV-RS32\\\", \\\"CP IV-32 RS\\\")\\n    .str.replace(\\\"CP III40\\\", \\\"CP III-40\\\")\\n    .str.replace(\\\"CP III32\\\", \\\"CP III-32\\\")\\n    .str.replace(\\\"CP I-S40\\\", \\\"CP I-S-40\\\")\\n    .str.replace(\\\"CP I40\\\", \\\"CP I-40\\\")\\n    .str.replace(\\\"CP II-E32\\\", \\\"CP II-E-32\\\")\\n    .str.replace(\\\"CP II-E40\\\", \\\"CP II-E-40\\\")\\n    .str.replace(\\\"CP II-F FIBRO40\\\", \\\"CP II-F-40\\\")\\n    .str.replace(\\\"CP II-F32\\\", \\\"CP II-F-32\\\")\\n    .str.replace(\\\"CP II-F40\\\", \\\"CP II-F-40\\\")\\n    .str.replace(\\\"CP II-Z32\\\", \\\"CP II-Z-32\\\")\\n    .str.replace(\\\"CP II-Z40\\\", \\\"CP II-Z-40\\\")\\n    .str.replace(\\\"CP IV32\\\", \\\"CP IV-32\\\")\\n    .str.replace(\\\"CP IND\\\", \\\"CP I\\\")\\n    .str.replace(\\\"CPINDCC\\\", \\\"CP I\\\")\\n    .str.strip()\\n)\\n\\ndf = df.drop(COLUMNS_TO_DROP, axis=1).rename(COLUMNS_TO_RENAME, axis=1).copy()\\ndf = df.drop([0]).reset_index(drop=True)\\ndf = df.infer_objects()\";\n",
       "                var nbb_formatted_code = \"# Single variable for the Cement Type\\ndf[\\\"Cement_Type\\\"] = (\\n    df[\\n        [\\n            (\\\"Tipo de cimento\\\", \\\"Unnamed: 6_level_2\\\"),\\n            (\\\"Classe de resist\\u00eancia\\\", \\\"Unnamed: 7_level_2\\\"),\\n            (\\\"Obs.\\\", \\\"Unnamed: 8_level_2\\\"),\\n        ]\\n    ]\\n    .fillna(\\\"\\\")\\n    .astype(str)\\n    .sum(axis=1)\\n)\\n\\n# # Preprocessing\\ndf[\\\"Cement_Type\\\"] = df[\\\"Cement_Type\\\"].replace(\\\"Fibro\\\", \\\"Fibrocimento\\\")\\n\\n# Preprocessing\\ndf[\\\"Cement_Type\\\"] = (\\n    df[\\\"Cement_Type\\\"]\\n    .str.replace(\\\"Expedido\\\", \\\"\\\")\\n    .str.replace(\\\"Linha 9\\\", \\\"\\\")\\n    .str.replace(\\\"Itaja\\u00ed\\\", \\\"\\\")\\n    .str.replace(\\\"D-G\\\", \\\"\\\")\\n    .str.replace(\\\"D-E\\\", \\\"\\\")\\n    .str.replace(\\\"DF2\\\", \\\"\\\")\\n    .str.replace(\\\"CPIIF40\\\", \\\"CP II-F-40\\\")\\n    .str.replace(\\\"CPIIF40\\\", \\\"CP II-F40\\\")\\n    .str.replace(\\\"CP VARI\\\", \\\"CP V-ARI\\\")\\n    .str.replace(\\\"CPVARI\\\", \\\"CP V-ARI\\\")\\n    .str.replace(\\\"CP V-RSARI\\\", \\\"CP V-ARI RS\\\")\\n    .str.replace(\\\"CP III-RS40\\\", \\\"CP III-40 RS\\\")\\n    .str.replace(\\\"CP III-RS32\\\", \\\"CP III-32 RS\\\")\\n    .str.replace(\\\"CP IV-RS32\\\", \\\"CP IV-32 RS\\\")\\n    .str.replace(\\\"CP III40\\\", \\\"CP III-40\\\")\\n    .str.replace(\\\"CP III32\\\", \\\"CP III-32\\\")\\n    .str.replace(\\\"CP I-S40\\\", \\\"CP I-S-40\\\")\\n    .str.replace(\\\"CP I40\\\", \\\"CP I-40\\\")\\n    .str.replace(\\\"CP II-E32\\\", \\\"CP II-E-32\\\")\\n    .str.replace(\\\"CP II-E40\\\", \\\"CP II-E-40\\\")\\n    .str.replace(\\\"CP II-F FIBRO40\\\", \\\"CP II-F-40\\\")\\n    .str.replace(\\\"CP II-F32\\\", \\\"CP II-F-32\\\")\\n    .str.replace(\\\"CP II-F40\\\", \\\"CP II-F-40\\\")\\n    .str.replace(\\\"CP II-Z32\\\", \\\"CP II-Z-32\\\")\\n    .str.replace(\\\"CP II-Z40\\\", \\\"CP II-Z-40\\\")\\n    .str.replace(\\\"CP IV32\\\", \\\"CP IV-32\\\")\\n    .str.replace(\\\"CP IND\\\", \\\"CP I\\\")\\n    .str.replace(\\\"CPINDCC\\\", \\\"CP I\\\")\\n    .str.strip()\\n)\\n\\ndf = df.drop(COLUMNS_TO_DROP, axis=1).rename(COLUMNS_TO_RENAME, axis=1).copy()\\ndf = df.drop([0]).reset_index(drop=True)\\ndf = df.infer_objects()\";\n",
       "                var nbb_cells = Jupyter.notebook.get_cells();\n",
       "                for (var i = 0; i < nbb_cells.length; ++i) {\n",
       "                    if (nbb_cells[i].input_prompt_number == nbb_cell_id) {\n",
       "                        if (nbb_cells[i].get_text() == nbb_unformatted_code) {\n",
       "                             nbb_cells[i].set_text(nbb_formatted_code);\n",
       "                        }\n",
       "                        break;\n",
       "                    }\n",
       "                }\n",
       "            }, 500);\n",
       "            "
      ],
      "text/plain": [
       "<IPython.core.display.Javascript object>"
      ]
     },
     "metadata": {},
     "output_type": "display_data"
    }
   ],
   "source": [
    "# Single variable for the Cement Type\n",
    "df[\"Cement_Type\"] = (\n",
    "    df[\n",
    "        [\n",
    "            (\"Tipo de cimento\", \"Unnamed: 6_level_2\"),\n",
    "            (\"Classe de resistência\", \"Unnamed: 7_level_2\"),\n",
    "            (\"Obs.\", \"Unnamed: 8_level_2\"),\n",
    "        ]\n",
    "    ]\n",
    "    .fillna(\"\")\n",
    "    .astype(str)\n",
    "    .sum(axis=1)\n",
    ")\n",
    "\n",
    "# # Preprocessing\n",
    "df[\"Cement_Type\"] = df[\"Cement_Type\"].replace(\"Fibro\", \"Fibrocimento\")\n",
    "\n",
    "# Preprocessing\n",
    "df[\"Cement_Type\"] = (\n",
    "    df[\"Cement_Type\"]\n",
    "    .str.replace(\"Expedido\", \"\")\n",
    "    .str.replace(\"Linha 9\", \"\")\n",
    "    .str.replace(\"Itajaí\", \"\")\n",
    "    .str.replace(\"D-G\", \"\")\n",
    "    .str.replace(\"D-E\", \"\")\n",
    "    .str.replace(\"DF2\", \"\")\n",
    "    .str.replace(\"CPIIF40\", \"CP II-F-40\")\n",
    "    .str.replace(\"CPIIF40\", \"CP II-F40\")\n",
    "    .str.replace(\"CP VARI\", \"CP V-ARI\")\n",
    "    .str.replace(\"CPVARI\", \"CP V-ARI\")\n",
    "    .str.replace(\"CP V-RSARI\", \"CP V-ARI RS\")\n",
    "    .str.replace(\"CP III-RS40\", \"CP III-40 RS\")\n",
    "    .str.replace(\"CP III-RS32\", \"CP III-32 RS\")\n",
    "    .str.replace(\"CP IV-RS32\", \"CP IV-32 RS\")\n",
    "    .str.replace(\"CP III40\", \"CP III-40\")\n",
    "    .str.replace(\"CP III32\", \"CP III-32\")\n",
    "    .str.replace(\"CP I-S40\", \"CP I-S-40\")\n",
    "    .str.replace(\"CP I40\", \"CP I-40\")\n",
    "    .str.replace(\"CP II-E32\", \"CP II-E-32\")\n",
    "    .str.replace(\"CP II-E40\", \"CP II-E-40\")\n",
    "    .str.replace(\"CP II-F FIBRO40\", \"CP II-F-40\")\n",
    "    .str.replace(\"CP II-F32\", \"CP II-F-32\")\n",
    "    .str.replace(\"CP II-F40\", \"CP II-F-40\")\n",
    "    .str.replace(\"CP II-Z32\", \"CP II-Z-32\")\n",
    "    .str.replace(\"CP II-Z40\", \"CP II-Z-40\")\n",
    "    .str.replace(\"CP IV32\", \"CP IV-32\")\n",
    "    .str.replace(\"CP IND\", \"CP I\")\n",
    "    .str.replace(\"CPINDCC\", \"CP I\")\n",
    "    .str.strip()\n",
    ")\n",
    "\n",
    "df = df.drop(COLUMNS_TO_DROP, axis=1).rename(COLUMNS_TO_RENAME, axis=1).copy()\n",
    "df = df.drop([0]).reset_index(drop=True)\n",
    "df = df.infer_objects()"
   ]
  },
  {
   "cell_type": "markdown",
   "id": "2a390ebe",
   "metadata": {},
   "source": [
    "### Dropping and rename the columns defined above"
   ]
  },
  {
   "cell_type": "markdown",
   "id": "6a4c9913",
   "metadata": {},
   "source": [
    "### Cleaning and converting numeric columns to float"
   ]
  },
  {
   "cell_type": "code",
   "execution_count": 16,
   "id": "20719532",
   "metadata": {
    "scrolled": false
   },
   "outputs": [
    {
     "data": {
      "application/javascript": [
       "\n",
       "            setTimeout(function() {\n",
       "                var nbb_cell_id = 16;\n",
       "                var nbb_unformatted_code = \"NUMERIC_COLUMNS = [\\n    \\\"Calcium sulfate (composition)\\\",\\n    \\\"Clinker\\\",\\n    \\\"Calcareous filler\\\",\\n    \\\"Fly ash\\\",\\n    \\\"Slag\\\",\\n    \\\"Calcined clay\\\",\\n    \\\"Calcium sulfate\\\",\\n    \\\"Total C3S\\\",\\n    \\\"Total C2S\\\",\\n    \\\"Alpha C2S\\\",\\n    \\\"Beta C2S\\\",\\n    \\\"Gamma C2S\\\",\\n    \\\"C4AF\\\",\\n    \\\"C3A\\\",\\n    \\\"Cubic C3A\\\",\\n    \\\"Orthorhombic C3A\\\",\\n    \\\"Free CaO\\\",\\n    \\\"Portlandite\\\",\\n    \\\"Periclase\\\",\\n    \\\"Arcanite\\\",\\n    \\\"Aphthitalite\\\",\\n    \\\"Langbeinite\\\",\\n    \\\"Bassanite\\\",\\n    \\\"Anhydrite\\\",\\n    \\\"Calcite\\\",\\n    \\\"Dolimita\\\",\\n    \\\"Quartz\\\",\\n    \\\"Muscovite\\\",\\n    \\\"CaO\\\",\\n    \\\"MgO\\\",\\n    \\\"Na2O\\\",\\n    \\\"Al2O3\\\",\\n    \\\"SiO2\\\",\\n    \\\"SO3\\\",\\n    \\\"K2O\\\",\\n    \\\"TiO2\\\",\\n    \\\"Fe2O3\\\",\\n    \\\"Loss on Ignition\\\",\\n    \\\"Insoluble Residue\\\",\\n    \\\"Blaine\\\",\\n    \\\"#200\\\",\\n    \\\"#325\\\",\\n    \\\"#400\\\",\\n    \\\"Specific Gravity\\\",\\n    \\\"Final setting time\\\",\\n    \\\"Initial setting time\\\",\\n    \\\"CS1\\\",\\n    \\\"CS3\\\",\\n    \\\"CS7\\\",\\n    \\\"CS28\\\",\\n]\\n\\ndf = preprocess_numeric_cols(df, NUMERIC_COLUMNS)\\n\\n# Preprocessing to fix numeric columns\\ndf[NUMERIC_COLUMNS] = df[NUMERIC_COLUMNS].map(convert_to_float)\\n\\n# Converting Date to pandas datetime\\ndf[\\\"Date\\\"] = pd.to_datetime(df[\\\"Date\\\"])\\n\\n# Drop rows completely missing\\nindex_to_keep = (\\n    df.drop([\\\"Plant\\\", \\\"Date\\\", \\\"Cement_Type\\\"], axis=1).dropna(axis=0, how=\\\"all\\\").index\\n)\\ndf = df.iloc[index_to_keep].reset_index(drop=True)\\n\\ndf = df.infer_objects()\";\n",
       "                var nbb_formatted_code = \"NUMERIC_COLUMNS = [\\n    \\\"Calcium sulfate (composition)\\\",\\n    \\\"Clinker\\\",\\n    \\\"Calcareous filler\\\",\\n    \\\"Fly ash\\\",\\n    \\\"Slag\\\",\\n    \\\"Calcined clay\\\",\\n    \\\"Calcium sulfate\\\",\\n    \\\"Total C3S\\\",\\n    \\\"Total C2S\\\",\\n    \\\"Alpha C2S\\\",\\n    \\\"Beta C2S\\\",\\n    \\\"Gamma C2S\\\",\\n    \\\"C4AF\\\",\\n    \\\"C3A\\\",\\n    \\\"Cubic C3A\\\",\\n    \\\"Orthorhombic C3A\\\",\\n    \\\"Free CaO\\\",\\n    \\\"Portlandite\\\",\\n    \\\"Periclase\\\",\\n    \\\"Arcanite\\\",\\n    \\\"Aphthitalite\\\",\\n    \\\"Langbeinite\\\",\\n    \\\"Bassanite\\\",\\n    \\\"Anhydrite\\\",\\n    \\\"Calcite\\\",\\n    \\\"Dolimita\\\",\\n    \\\"Quartz\\\",\\n    \\\"Muscovite\\\",\\n    \\\"CaO\\\",\\n    \\\"MgO\\\",\\n    \\\"Na2O\\\",\\n    \\\"Al2O3\\\",\\n    \\\"SiO2\\\",\\n    \\\"SO3\\\",\\n    \\\"K2O\\\",\\n    \\\"TiO2\\\",\\n    \\\"Fe2O3\\\",\\n    \\\"Loss on Ignition\\\",\\n    \\\"Insoluble Residue\\\",\\n    \\\"Blaine\\\",\\n    \\\"#200\\\",\\n    \\\"#325\\\",\\n    \\\"#400\\\",\\n    \\\"Specific Gravity\\\",\\n    \\\"Final setting time\\\",\\n    \\\"Initial setting time\\\",\\n    \\\"CS1\\\",\\n    \\\"CS3\\\",\\n    \\\"CS7\\\",\\n    \\\"CS28\\\",\\n]\\n\\ndf = preprocess_numeric_cols(df, NUMERIC_COLUMNS)\\n\\n# Preprocessing to fix numeric columns\\ndf[NUMERIC_COLUMNS] = df[NUMERIC_COLUMNS].map(convert_to_float)\\n\\n# Converting Date to pandas datetime\\ndf[\\\"Date\\\"] = pd.to_datetime(df[\\\"Date\\\"])\\n\\n# Drop rows completely missing\\nindex_to_keep = (\\n    df.drop([\\\"Plant\\\", \\\"Date\\\", \\\"Cement_Type\\\"], axis=1).dropna(axis=0, how=\\\"all\\\").index\\n)\\ndf = df.iloc[index_to_keep].reset_index(drop=True)\\n\\ndf = df.infer_objects()\";\n",
       "                var nbb_cells = Jupyter.notebook.get_cells();\n",
       "                for (var i = 0; i < nbb_cells.length; ++i) {\n",
       "                    if (nbb_cells[i].input_prompt_number == nbb_cell_id) {\n",
       "                        if (nbb_cells[i].get_text() == nbb_unformatted_code) {\n",
       "                             nbb_cells[i].set_text(nbb_formatted_code);\n",
       "                        }\n",
       "                        break;\n",
       "                    }\n",
       "                }\n",
       "            }, 500);\n",
       "            "
      ],
      "text/plain": [
       "<IPython.core.display.Javascript object>"
      ]
     },
     "metadata": {},
     "output_type": "display_data"
    }
   ],
   "source": [
    "NUMERIC_COLUMNS = [\n",
    "    \"Calcium sulfate (composition)\",\n",
    "    \"Clinker\",\n",
    "    \"Calcareous filler\",\n",
    "    \"Fly ash\",\n",
    "    \"Slag\",\n",
    "    \"Calcined clay\",\n",
    "    \"Calcium sulfate\",\n",
    "    \"Total C3S\",\n",
    "    \"Total C2S\",\n",
    "    \"Alpha C2S\",\n",
    "    \"Beta C2S\",\n",
    "    \"Gamma C2S\",\n",
    "    \"C4AF\",\n",
    "    \"C3A\",\n",
    "    \"Cubic C3A\",\n",
    "    \"Orthorhombic C3A\",\n",
    "    \"Free CaO\",\n",
    "    \"Portlandite\",\n",
    "    \"Periclase\",\n",
    "    \"Arcanite\",\n",
    "    \"Aphthitalite\",\n",
    "    \"Langbeinite\",\n",
    "    \"Bassanite\",\n",
    "    \"Anhydrite\",\n",
    "    \"Calcite\",\n",
    "    \"Dolimita\",\n",
    "    \"Quartz\",\n",
    "    \"Muscovite\",\n",
    "    \"CaO\",\n",
    "    \"MgO\",\n",
    "    \"Na2O\",\n",
    "    \"Al2O3\",\n",
    "    \"SiO2\",\n",
    "    \"SO3\",\n",
    "    \"K2O\",\n",
    "    \"TiO2\",\n",
    "    \"Fe2O3\",\n",
    "    \"Loss on Ignition\",\n",
    "    \"Insoluble Residue\",\n",
    "    \"Blaine\",\n",
    "    \"#200\",\n",
    "    \"#325\",\n",
    "    \"#400\",\n",
    "    \"Specific Gravity\",\n",
    "    \"Final setting time\",\n",
    "    \"Initial setting time\",\n",
    "    \"CS1\",\n",
    "    \"CS3\",\n",
    "    \"CS7\",\n",
    "    \"CS28\",\n",
    "]\n",
    "\n",
    "df = preprocess_numeric_cols(df, NUMERIC_COLUMNS)\n",
    "\n",
    "# Preprocessing to fix numeric columns\n",
    "df[NUMERIC_COLUMNS] = df[NUMERIC_COLUMNS].map(convert_to_float)\n",
    "\n",
    "# Converting Date to pandas datetime\n",
    "df[\"Date\"] = pd.to_datetime(df[\"Date\"])\n",
    "\n",
    "# Drop rows completely missing\n",
    "index_to_keep = (\n",
    "    df.drop([\"Plant\", \"Date\", \"Cement_Type\"], axis=1).dropna(axis=0, how=\"all\").index\n",
    ")\n",
    "df = df.iloc[index_to_keep].reset_index(drop=True)\n",
    "\n",
    "df = df.infer_objects()"
   ]
  },
  {
   "cell_type": "markdown",
   "id": "0e4773d2",
   "metadata": {},
   "source": [
    "## Dropping missing features"
   ]
  },
  {
   "cell_type": "markdown",
   "id": "388dd4e1",
   "metadata": {},
   "source": [
    "### Drop rows completely missing"
   ]
  },
  {
   "cell_type": "code",
   "execution_count": 17,
   "id": "14fd3e2b",
   "metadata": {},
   "outputs": [
    {
     "data": {
      "application/javascript": [
       "\n",
       "            setTimeout(function() {\n",
       "                var nbb_cell_id = 17;\n",
       "                var nbb_unformatted_code = \"index_to_keep = (\\n    df.drop([\\\"Plant\\\", \\\"City\\\", \\\"Date\\\", \\\"Cement_Type\\\"], axis=1)\\n    .dropna(axis=0, how=\\\"all\\\")\\n    .index\\n)\\ndf = df.iloc[index_to_keep].reset_index(drop=True)\";\n",
       "                var nbb_formatted_code = \"index_to_keep = (\\n    df.drop([\\\"Plant\\\", \\\"City\\\", \\\"Date\\\", \\\"Cement_Type\\\"], axis=1)\\n    .dropna(axis=0, how=\\\"all\\\")\\n    .index\\n)\\ndf = df.iloc[index_to_keep].reset_index(drop=True)\";\n",
       "                var nbb_cells = Jupyter.notebook.get_cells();\n",
       "                for (var i = 0; i < nbb_cells.length; ++i) {\n",
       "                    if (nbb_cells[i].input_prompt_number == nbb_cell_id) {\n",
       "                        if (nbb_cells[i].get_text() == nbb_unformatted_code) {\n",
       "                             nbb_cells[i].set_text(nbb_formatted_code);\n",
       "                        }\n",
       "                        break;\n",
       "                    }\n",
       "                }\n",
       "            }, 500);\n",
       "            "
      ],
      "text/plain": [
       "<IPython.core.display.Javascript object>"
      ]
     },
     "metadata": {},
     "output_type": "display_data"
    }
   ],
   "source": [
    "index_to_keep = (\n",
    "    df.drop([\"Plant\", \"City\", \"Date\", \"Cement_Type\"], axis=1)\n",
    "    .dropna(axis=0, how=\"all\")\n",
    "    .index\n",
    ")\n",
    "df = df.iloc[index_to_keep].reset_index(drop=True)"
   ]
  },
  {
   "cell_type": "markdown",
   "id": "5d4e47da",
   "metadata": {},
   "source": [
    "### Removing features\n",
    " that will be fitted on this data.\n",
    "\n",
    "1. Removing features with features having ~50% or more of missing values\n",
    "2. Removing features with zero variance\n",
    "3. Removing features with more than 70% of zeros"
   ]
  },
  {
   "cell_type": "code",
   "execution_count": 18,
   "id": "2a377c14",
   "metadata": {},
   "outputs": [
    {
     "data": {
      "text/html": [
       "<style type=\"text/css\">\n",
       "#T_6bb40_row0_col0, #T_6bb40_row1_col0, #T_6bb40_row2_col0, #T_6bb40_row3_col0, #T_6bb40_row4_col0, #T_6bb40_row5_col0, #T_6bb40_row6_col0, #T_6bb40_row7_col0, #T_6bb40_row8_col0, #T_6bb40_row9_col0, #T_6bb40_row10_col0, #T_6bb40_row11_col0, #T_6bb40_row12_col0, #T_6bb40_row13_col0 {\n",
       "  background-color: #67000d;\n",
       "  color: #f1f1f1;\n",
       "}\n",
       "#T_6bb40_row14_col0 {\n",
       "  background-color: #fcbda4;\n",
       "  color: #000000;\n",
       "}\n",
       "#T_6bb40_row15_col0, #T_6bb40_row16_col0, #T_6bb40_row17_col0 {\n",
       "  background-color: #fdd1be;\n",
       "  color: #000000;\n",
       "}\n",
       "#T_6bb40_row18_col0, #T_6bb40_row19_col0, #T_6bb40_row20_col0, #T_6bb40_row21_col0, #T_6bb40_row22_col0, #T_6bb40_row23_col0, #T_6bb40_row24_col0, #T_6bb40_row25_col0, #T_6bb40_row26_col0, #T_6bb40_row27_col0, #T_6bb40_row28_col0, #T_6bb40_row29_col0 {\n",
       "  background-color: #fdd5c4;\n",
       "  color: #000000;\n",
       "}\n",
       "#T_6bb40_row30_col0, #T_6bb40_row31_col0, #T_6bb40_row32_col0, #T_6bb40_row33_col0, #T_6bb40_row34_col0, #T_6bb40_row35_col0, #T_6bb40_row36_col0, #T_6bb40_row37_col0, #T_6bb40_row38_col0, #T_6bb40_row39_col0, #T_6bb40_row40_col0, #T_6bb40_row41_col0, #T_6bb40_row42_col0, #T_6bb40_row43_col0, #T_6bb40_row44_col0, #T_6bb40_row45_col0, #T_6bb40_row46_col0, #T_6bb40_row47_col0, #T_6bb40_row48_col0, #T_6bb40_row49_col0, #T_6bb40_row50_col0, #T_6bb40_row51_col0, #T_6bb40_row52_col0, #T_6bb40_row53_col0 {\n",
       "  background-color: #fff5f0;\n",
       "  color: #000000;\n",
       "}\n",
       "</style>\n",
       "<table id=\"T_6bb40\">\n",
       "  <thead>\n",
       "    <tr>\n",
       "      <th class=\"blank level0\" >&nbsp;</th>\n",
       "      <th id=\"T_6bb40_level0_col0\" class=\"col_heading level0 col0\" >Missing (%)</th>\n",
       "    </tr>\n",
       "  </thead>\n",
       "  <tbody>\n",
       "    <tr>\n",
       "      <th id=\"T_6bb40_level0_row0\" class=\"row_heading level0 row0\" >Quartz</th>\n",
       "      <td id=\"T_6bb40_row0_col0\" class=\"data row0 col0\" >100.000000</td>\n",
       "    </tr>\n",
       "    <tr>\n",
       "      <th id=\"T_6bb40_level0_row1\" class=\"row_heading level0 row1\" >Calcium sulfate</th>\n",
       "      <td id=\"T_6bb40_row1_col0\" class=\"data row1 col0\" >100.000000</td>\n",
       "    </tr>\n",
       "    <tr>\n",
       "      <th id=\"T_6bb40_level0_row2\" class=\"row_heading level0 row2\" >Anhydrite</th>\n",
       "      <td id=\"T_6bb40_row2_col0\" class=\"data row2 col0\" >100.000000</td>\n",
       "    </tr>\n",
       "    <tr>\n",
       "      <th id=\"T_6bb40_level0_row3\" class=\"row_heading level0 row3\" >Gamma C2S</th>\n",
       "      <td id=\"T_6bb40_row3_col0\" class=\"data row3 col0\" >100.000000</td>\n",
       "    </tr>\n",
       "    <tr>\n",
       "      <th id=\"T_6bb40_level0_row4\" class=\"row_heading level0 row4\" >Beta C2S</th>\n",
       "      <td id=\"T_6bb40_row4_col0\" class=\"data row4 col0\" >100.000000</td>\n",
       "    </tr>\n",
       "    <tr>\n",
       "      <th id=\"T_6bb40_level0_row5\" class=\"row_heading level0 row5\" >Alpha C2S</th>\n",
       "      <td id=\"T_6bb40_row5_col0\" class=\"data row5 col0\" >100.000000</td>\n",
       "    </tr>\n",
       "    <tr>\n",
       "      <th id=\"T_6bb40_level0_row6\" class=\"row_heading level0 row6\" >Muscovite</th>\n",
       "      <td id=\"T_6bb40_row6_col0\" class=\"data row6 col0\" >100.000000</td>\n",
       "    </tr>\n",
       "    <tr>\n",
       "      <th id=\"T_6bb40_level0_row7\" class=\"row_heading level0 row7\" >CS1</th>\n",
       "      <td id=\"T_6bb40_row7_col0\" class=\"data row7 col0\" >100.000000</td>\n",
       "    </tr>\n",
       "    <tr>\n",
       "      <th id=\"T_6bb40_level0_row8\" class=\"row_heading level0 row8\" >Calcined clay</th>\n",
       "      <td id=\"T_6bb40_row8_col0\" class=\"data row8 col0\" >100.000000</td>\n",
       "    </tr>\n",
       "    <tr>\n",
       "      <th id=\"T_6bb40_level0_row9\" class=\"row_heading level0 row9\" >Slag</th>\n",
       "      <td id=\"T_6bb40_row9_col0\" class=\"data row9 col0\" >100.000000</td>\n",
       "    </tr>\n",
       "    <tr>\n",
       "      <th id=\"T_6bb40_level0_row10\" class=\"row_heading level0 row10\" >Fly ash</th>\n",
       "      <td id=\"T_6bb40_row10_col0\" class=\"data row10 col0\" >100.000000</td>\n",
       "    </tr>\n",
       "    <tr>\n",
       "      <th id=\"T_6bb40_level0_row11\" class=\"row_heading level0 row11\" >Calcareous filler</th>\n",
       "      <td id=\"T_6bb40_row11_col0\" class=\"data row11 col0\" >100.000000</td>\n",
       "    </tr>\n",
       "    <tr>\n",
       "      <th id=\"T_6bb40_level0_row12\" class=\"row_heading level0 row12\" >Clinker</th>\n",
       "      <td id=\"T_6bb40_row12_col0\" class=\"data row12 col0\" >100.000000</td>\n",
       "    </tr>\n",
       "    <tr>\n",
       "      <th id=\"T_6bb40_level0_row13\" class=\"row_heading level0 row13\" >Specific Gravity</th>\n",
       "      <td id=\"T_6bb40_row13_col0\" class=\"data row13 col0\" >100.000000</td>\n",
       "    </tr>\n",
       "    <tr>\n",
       "      <th id=\"T_6bb40_level0_row14\" class=\"row_heading level0 row14\" >Bassanite</th>\n",
       "      <td id=\"T_6bb40_row14_col0\" class=\"data row14 col0\" >24.382716</td>\n",
       "    </tr>\n",
       "    <tr>\n",
       "      <th id=\"T_6bb40_level0_row15\" class=\"row_heading level0 row15\" >Portlandite</th>\n",
       "      <td id=\"T_6bb40_row15_col0\" class=\"data row15 col0\" >17.592593</td>\n",
       "    </tr>\n",
       "    <tr>\n",
       "      <th id=\"T_6bb40_level0_row16\" class=\"row_heading level0 row16\" >Langbeinite</th>\n",
       "      <td id=\"T_6bb40_row16_col0\" class=\"data row16 col0\" >17.592593</td>\n",
       "    </tr>\n",
       "    <tr>\n",
       "      <th id=\"T_6bb40_level0_row17\" class=\"row_heading level0 row17\" >Periclase</th>\n",
       "      <td id=\"T_6bb40_row17_col0\" class=\"data row17 col0\" >17.592593</td>\n",
       "    </tr>\n",
       "    <tr>\n",
       "      <th id=\"T_6bb40_level0_row18\" class=\"row_heading level0 row18\" >Dolimita</th>\n",
       "      <td id=\"T_6bb40_row18_col0\" class=\"data row18 col0\" >16.049383</td>\n",
       "    </tr>\n",
       "    <tr>\n",
       "      <th id=\"T_6bb40_level0_row19\" class=\"row_heading level0 row19\" >Arcanite</th>\n",
       "      <td id=\"T_6bb40_row19_col0\" class=\"data row19 col0\" >16.049383</td>\n",
       "    </tr>\n",
       "    <tr>\n",
       "      <th id=\"T_6bb40_level0_row20\" class=\"row_heading level0 row20\" >Aphthitalite</th>\n",
       "      <td id=\"T_6bb40_row20_col0\" class=\"data row20 col0\" >16.049383</td>\n",
       "    </tr>\n",
       "    <tr>\n",
       "      <th id=\"T_6bb40_level0_row21\" class=\"row_heading level0 row21\" >Calcite</th>\n",
       "      <td id=\"T_6bb40_row21_col0\" class=\"data row21 col0\" >16.049383</td>\n",
       "    </tr>\n",
       "    <tr>\n",
       "      <th id=\"T_6bb40_level0_row22\" class=\"row_heading level0 row22\" >Free CaO</th>\n",
       "      <td id=\"T_6bb40_row22_col0\" class=\"data row22 col0\" >16.049383</td>\n",
       "    </tr>\n",
       "    <tr>\n",
       "      <th id=\"T_6bb40_level0_row23\" class=\"row_heading level0 row23\" >Orthorhombic C3A</th>\n",
       "      <td id=\"T_6bb40_row23_col0\" class=\"data row23 col0\" >16.049383</td>\n",
       "    </tr>\n",
       "    <tr>\n",
       "      <th id=\"T_6bb40_level0_row24\" class=\"row_heading level0 row24\" >Cubic C3A</th>\n",
       "      <td id=\"T_6bb40_row24_col0\" class=\"data row24 col0\" >16.049383</td>\n",
       "    </tr>\n",
       "    <tr>\n",
       "      <th id=\"T_6bb40_level0_row25\" class=\"row_heading level0 row25\" >C3A</th>\n",
       "      <td id=\"T_6bb40_row25_col0\" class=\"data row25 col0\" >16.049383</td>\n",
       "    </tr>\n",
       "    <tr>\n",
       "      <th id=\"T_6bb40_level0_row26\" class=\"row_heading level0 row26\" >Calcium sulfate (composition)</th>\n",
       "      <td id=\"T_6bb40_row26_col0\" class=\"data row26 col0\" >16.049383</td>\n",
       "    </tr>\n",
       "    <tr>\n",
       "      <th id=\"T_6bb40_level0_row27\" class=\"row_heading level0 row27\" >C4AF</th>\n",
       "      <td id=\"T_6bb40_row27_col0\" class=\"data row27 col0\" >16.049383</td>\n",
       "    </tr>\n",
       "    <tr>\n",
       "      <th id=\"T_6bb40_level0_row28\" class=\"row_heading level0 row28\" >Total C2S</th>\n",
       "      <td id=\"T_6bb40_row28_col0\" class=\"data row28 col0\" >16.049383</td>\n",
       "    </tr>\n",
       "    <tr>\n",
       "      <th id=\"T_6bb40_level0_row29\" class=\"row_heading level0 row29\" >Total C3S</th>\n",
       "      <td id=\"T_6bb40_row29_col0\" class=\"data row29 col0\" >16.049383</td>\n",
       "    </tr>\n",
       "    <tr>\n",
       "      <th id=\"T_6bb40_level0_row30\" class=\"row_heading level0 row30\" >Insoluble Residue</th>\n",
       "      <td id=\"T_6bb40_row30_col0\" class=\"data row30 col0\" >0.308642</td>\n",
       "    </tr>\n",
       "    <tr>\n",
       "      <th id=\"T_6bb40_level0_row31\" class=\"row_heading level0 row31\" >Loss on Ignition</th>\n",
       "      <td id=\"T_6bb40_row31_col0\" class=\"data row31 col0\" >0.308642</td>\n",
       "    </tr>\n",
       "    <tr>\n",
       "      <th id=\"T_6bb40_level0_row32\" class=\"row_heading level0 row32\" >CS7</th>\n",
       "      <td id=\"T_6bb40_row32_col0\" class=\"data row32 col0\" >0.000000</td>\n",
       "    </tr>\n",
       "    <tr>\n",
       "      <th id=\"T_6bb40_level0_row33\" class=\"row_heading level0 row33\" >Final setting time</th>\n",
       "      <td id=\"T_6bb40_row33_col0\" class=\"data row33 col0\" >0.000000</td>\n",
       "    </tr>\n",
       "    <tr>\n",
       "      <th id=\"T_6bb40_level0_row34\" class=\"row_heading level0 row34\" >Initial setting time</th>\n",
       "      <td id=\"T_6bb40_row34_col0\" class=\"data row34 col0\" >0.000000</td>\n",
       "    </tr>\n",
       "    <tr>\n",
       "      <th id=\"T_6bb40_level0_row35\" class=\"row_heading level0 row35\" >CS28</th>\n",
       "      <td id=\"T_6bb40_row35_col0\" class=\"data row35 col0\" >0.000000</td>\n",
       "    </tr>\n",
       "    <tr>\n",
       "      <th id=\"T_6bb40_level0_row36\" class=\"row_heading level0 row36\" >#400</th>\n",
       "      <td id=\"T_6bb40_row36_col0\" class=\"data row36 col0\" >0.000000</td>\n",
       "    </tr>\n",
       "    <tr>\n",
       "      <th id=\"T_6bb40_level0_row37\" class=\"row_heading level0 row37\" >#325</th>\n",
       "      <td id=\"T_6bb40_row37_col0\" class=\"data row37 col0\" >0.000000</td>\n",
       "    </tr>\n",
       "    <tr>\n",
       "      <th id=\"T_6bb40_level0_row38\" class=\"row_heading level0 row38\" >#200</th>\n",
       "      <td id=\"T_6bb40_row38_col0\" class=\"data row38 col0\" >0.000000</td>\n",
       "    </tr>\n",
       "    <tr>\n",
       "      <th id=\"T_6bb40_level0_row39\" class=\"row_heading level0 row39\" >Blaine</th>\n",
       "      <td id=\"T_6bb40_row39_col0\" class=\"data row39 col0\" >0.000000</td>\n",
       "    </tr>\n",
       "    <tr>\n",
       "      <th id=\"T_6bb40_level0_row40\" class=\"row_heading level0 row40\" >CS3</th>\n",
       "      <td id=\"T_6bb40_row40_col0\" class=\"data row40 col0\" >0.000000</td>\n",
       "    </tr>\n",
       "    <tr>\n",
       "      <th id=\"T_6bb40_level0_row41\" class=\"row_heading level0 row41\" >Plant</th>\n",
       "      <td id=\"T_6bb40_row41_col0\" class=\"data row41 col0\" >0.000000</td>\n",
       "    </tr>\n",
       "    <tr>\n",
       "      <th id=\"T_6bb40_level0_row42\" class=\"row_heading level0 row42\" >Fe2O3</th>\n",
       "      <td id=\"T_6bb40_row42_col0\" class=\"data row42 col0\" >0.000000</td>\n",
       "    </tr>\n",
       "    <tr>\n",
       "      <th id=\"T_6bb40_level0_row43\" class=\"row_heading level0 row43\" >TiO2</th>\n",
       "      <td id=\"T_6bb40_row43_col0\" class=\"data row43 col0\" >0.000000</td>\n",
       "    </tr>\n",
       "    <tr>\n",
       "      <th id=\"T_6bb40_level0_row44\" class=\"row_heading level0 row44\" >K2O</th>\n",
       "      <td id=\"T_6bb40_row44_col0\" class=\"data row44 col0\" >0.000000</td>\n",
       "    </tr>\n",
       "    <tr>\n",
       "      <th id=\"T_6bb40_level0_row45\" class=\"row_heading level0 row45\" >SO3</th>\n",
       "      <td id=\"T_6bb40_row45_col0\" class=\"data row45 col0\" >0.000000</td>\n",
       "    </tr>\n",
       "    <tr>\n",
       "      <th id=\"T_6bb40_level0_row46\" class=\"row_heading level0 row46\" >SiO2</th>\n",
       "      <td id=\"T_6bb40_row46_col0\" class=\"data row46 col0\" >0.000000</td>\n",
       "    </tr>\n",
       "    <tr>\n",
       "      <th id=\"T_6bb40_level0_row47\" class=\"row_heading level0 row47\" >Al2O3</th>\n",
       "      <td id=\"T_6bb40_row47_col0\" class=\"data row47 col0\" >0.000000</td>\n",
       "    </tr>\n",
       "    <tr>\n",
       "      <th id=\"T_6bb40_level0_row48\" class=\"row_heading level0 row48\" >Na2O</th>\n",
       "      <td id=\"T_6bb40_row48_col0\" class=\"data row48 col0\" >0.000000</td>\n",
       "    </tr>\n",
       "    <tr>\n",
       "      <th id=\"T_6bb40_level0_row49\" class=\"row_heading level0 row49\" >MgO</th>\n",
       "      <td id=\"T_6bb40_row49_col0\" class=\"data row49 col0\" >0.000000</td>\n",
       "    </tr>\n",
       "    <tr>\n",
       "      <th id=\"T_6bb40_level0_row50\" class=\"row_heading level0 row50\" >CaO</th>\n",
       "      <td id=\"T_6bb40_row50_col0\" class=\"data row50 col0\" >0.000000</td>\n",
       "    </tr>\n",
       "    <tr>\n",
       "      <th id=\"T_6bb40_level0_row51\" class=\"row_heading level0 row51\" >City</th>\n",
       "      <td id=\"T_6bb40_row51_col0\" class=\"data row51 col0\" >0.000000</td>\n",
       "    </tr>\n",
       "    <tr>\n",
       "      <th id=\"T_6bb40_level0_row52\" class=\"row_heading level0 row52\" >Date</th>\n",
       "      <td id=\"T_6bb40_row52_col0\" class=\"data row52 col0\" >0.000000</td>\n",
       "    </tr>\n",
       "    <tr>\n",
       "      <th id=\"T_6bb40_level0_row53\" class=\"row_heading level0 row53\" >Cement_Type</th>\n",
       "      <td id=\"T_6bb40_row53_col0\" class=\"data row53 col0\" >0.000000</td>\n",
       "    </tr>\n",
       "  </tbody>\n",
       "</table>\n"
      ],
      "text/plain": [
       "<pandas.io.formats.style.Styler at 0x7fa8a15b5c00>"
      ]
     },
     "execution_count": 18,
     "metadata": {},
     "output_type": "execute_result"
    },
    {
     "data": {
      "application/javascript": [
       "\n",
       "            setTimeout(function() {\n",
       "                var nbb_cell_id = 18;\n",
       "                var nbb_unformatted_code = \"(df.isna().sum() / df.shape[0] * 100).sort_values(ascending=False).to_frame(\\n    name=\\\"Missing (%)\\\"\\n).style.background_gradient(cmap=\\\"Reds\\\")\";\n",
       "                var nbb_formatted_code = \"(df.isna().sum() / df.shape[0] * 100).sort_values(ascending=False).to_frame(\\n    name=\\\"Missing (%)\\\"\\n).style.background_gradient(cmap=\\\"Reds\\\")\";\n",
       "                var nbb_cells = Jupyter.notebook.get_cells();\n",
       "                for (var i = 0; i < nbb_cells.length; ++i) {\n",
       "                    if (nbb_cells[i].input_prompt_number == nbb_cell_id) {\n",
       "                        if (nbb_cells[i].get_text() == nbb_unformatted_code) {\n",
       "                             nbb_cells[i].set_text(nbb_formatted_code);\n",
       "                        }\n",
       "                        break;\n",
       "                    }\n",
       "                }\n",
       "            }, 500);\n",
       "            "
      ],
      "text/plain": [
       "<IPython.core.display.Javascript object>"
      ]
     },
     "metadata": {},
     "output_type": "display_data"
    }
   ],
   "source": [
    "(df.isna().sum() / df.shape[0] * 100).sort_values(ascending=False).to_frame(\n",
    "    name=\"Missing (%)\"\n",
    ").style.background_gradient(cmap=\"Reds\")"
   ]
  },
  {
   "cell_type": "code",
   "execution_count": 19,
   "id": "889b03ea",
   "metadata": {},
   "outputs": [
    {
     "name": "stdout",
     "output_type": "stream",
     "text": [
      "\"Quartz\",\n",
      "\"Calcium sulfate\",\n",
      "\"Anhydrite\",\n",
      "\"Gamma C2S\",\n",
      "\"Beta C2S\",\n",
      "\"Alpha C2S\",\n",
      "\"Muscovite\",\n",
      "\"CS1\",\n",
      "\"Calcined clay\",\n",
      "\"Slag\",\n",
      "\"Fly ash\",\n",
      "\"Calcareous filler\",\n",
      "\"Clinker\",\n",
      "\"Specific Gravity\",\n"
     ]
    },
    {
     "data": {
      "application/javascript": [
       "\n",
       "            setTimeout(function() {\n",
       "                var nbb_cell_id = 19;\n",
       "                var nbb_unformatted_code = \"for var, val in (\\n    (df.isna().sum() / df.shape[0] * 100).sort_values(ascending=False).items()\\n):\\n    s = f\\\"\\\"\\\"\\n    <tr>\\n        <td>{var}</td>\\n        <td>{round(val, 2)}</td>\\n    </tr>\\\"\\\"\\\"\\n    if val >= 40:\\n        # print(s)\\n        print(f'\\\"{var}\\\",')\";\n",
       "                var nbb_formatted_code = \"for var, val in (\\n    (df.isna().sum() / df.shape[0] * 100).sort_values(ascending=False).items()\\n):\\n    s = f\\\"\\\"\\\"\\n    <tr>\\n        <td>{var}</td>\\n        <td>{round(val, 2)}</td>\\n    </tr>\\\"\\\"\\\"\\n    if val >= 40:\\n        # print(s)\\n        print(f'\\\"{var}\\\",')\";\n",
       "                var nbb_cells = Jupyter.notebook.get_cells();\n",
       "                for (var i = 0; i < nbb_cells.length; ++i) {\n",
       "                    if (nbb_cells[i].input_prompt_number == nbb_cell_id) {\n",
       "                        if (nbb_cells[i].get_text() == nbb_unformatted_code) {\n",
       "                             nbb_cells[i].set_text(nbb_formatted_code);\n",
       "                        }\n",
       "                        break;\n",
       "                    }\n",
       "                }\n",
       "            }, 500);\n",
       "            "
      ],
      "text/plain": [
       "<IPython.core.display.Javascript object>"
      ]
     },
     "metadata": {},
     "output_type": "display_data"
    }
   ],
   "source": [
    "for var, val in (\n",
    "    (df.isna().sum() / df.shape[0] * 100).sort_values(ascending=False).items()\n",
    "):\n",
    "    s = f\"\"\"\n",
    "    <tr>\n",
    "        <td>{var}</td>\n",
    "        <td>{round(val, 2)}</td>\n",
    "    </tr>\"\"\"\n",
    "    if val >= 40:\n",
    "        # print(s)\n",
    "        print(f'\"{var}\",')"
   ]
  },
  {
   "cell_type": "markdown",
   "id": "7e8fd8fa",
   "metadata": {},
   "source": [
    "<h3>Percentage of missing values:</h3>\n",
    "<table>\n",
    "    <th>Plant P - Full Dataset:</th>\n",
    "    <th></th>\n",
    "  <tr>\n",
    "        <td>Quartz</td>\n",
    "        <td>100.0</td>\n",
    "    </tr>\n",
    "    <tr>\n",
    "        <td>Calcium sulfate</td>\n",
    "        <td>100.0</td>\n",
    "    </tr>\n",
    "    <tr>\n",
    "        <td>Anhydrite</td>\n",
    "        <td>100.0</td>\n",
    "    </tr>\n",
    "    <tr>\n",
    "        <td>Gamma C2S</td>\n",
    "        <td>100.0</td>\n",
    "    </tr>\n",
    "    <tr>\n",
    "        <td>Beta C2S</td>\n",
    "        <td>100.0</td>\n",
    "    </tr>\n",
    "    <tr>\n",
    "        <td>Alpha C2S</td>\n",
    "        <td>100.0</td>\n",
    "    </tr>\n",
    "    <tr>\n",
    "        <td>Muscovite</td>\n",
    "        <td>100.0</td>\n",
    "    </tr>\n",
    "    <tr>\n",
    "        <td>CS1</td>\n",
    "        <td>100.0</td>\n",
    "    </tr>\n",
    "    <tr>\n",
    "        <td>Calcined clay</td>\n",
    "        <td>100.0</td>\n",
    "    </tr>\n",
    "    <tr>\n",
    "        <td>Slag</td>\n",
    "        <td>100.0</td>\n",
    "    </tr>\n",
    "    <tr>\n",
    "        <td>Fly ash</td>\n",
    "        <td>100.0</td>\n",
    "    </tr>\n",
    "    <tr>\n",
    "        <td>Calcareous filler</td>\n",
    "        <td>100.0</td>\n",
    "    </tr>\n",
    "    <tr>\n",
    "        <td>Clinker</td>\n",
    "        <td>100.0</td>\n",
    "    </tr>\n",
    "    <tr>\n",
    "        <td>Specific Gravity</td>\n",
    "        <td>100.0</td>\n",
    "    </tr>\n",
    "</table>"
   ]
  },
  {
   "cell_type": "code",
   "execution_count": 20,
   "id": "b781ce23",
   "metadata": {},
   "outputs": [
    {
     "data": {
      "application/javascript": [
       "\n",
       "            setTimeout(function() {\n",
       "                var nbb_cell_id = 20;\n",
       "                var nbb_unformatted_code = \"FEATRUES_TO_DROP = [\\n    \\\"Quartz\\\",\\n    \\\"Calcium sulfate\\\",\\n    \\\"Anhydrite\\\",\\n    \\\"Gamma C2S\\\",\\n    \\\"Beta C2S\\\",\\n    \\\"Alpha C2S\\\",\\n    \\\"Muscovite\\\",\\n    \\\"CS1\\\",\\n    \\\"Calcined clay\\\",\\n    \\\"Slag\\\",\\n    \\\"Fly ash\\\",\\n    \\\"Calcareous filler\\\",\\n    \\\"Clinker\\\",\\n    \\\"Specific Gravity\\\",\\n]\\ndf = df.drop(labels=FEATRUES_TO_DROP, axis=1)\";\n",
       "                var nbb_formatted_code = \"FEATRUES_TO_DROP = [\\n    \\\"Quartz\\\",\\n    \\\"Calcium sulfate\\\",\\n    \\\"Anhydrite\\\",\\n    \\\"Gamma C2S\\\",\\n    \\\"Beta C2S\\\",\\n    \\\"Alpha C2S\\\",\\n    \\\"Muscovite\\\",\\n    \\\"CS1\\\",\\n    \\\"Calcined clay\\\",\\n    \\\"Slag\\\",\\n    \\\"Fly ash\\\",\\n    \\\"Calcareous filler\\\",\\n    \\\"Clinker\\\",\\n    \\\"Specific Gravity\\\",\\n]\\ndf = df.drop(labels=FEATRUES_TO_DROP, axis=1)\";\n",
       "                var nbb_cells = Jupyter.notebook.get_cells();\n",
       "                for (var i = 0; i < nbb_cells.length; ++i) {\n",
       "                    if (nbb_cells[i].input_prompt_number == nbb_cell_id) {\n",
       "                        if (nbb_cells[i].get_text() == nbb_unformatted_code) {\n",
       "                             nbb_cells[i].set_text(nbb_formatted_code);\n",
       "                        }\n",
       "                        break;\n",
       "                    }\n",
       "                }\n",
       "            }, 500);\n",
       "            "
      ],
      "text/plain": [
       "<IPython.core.display.Javascript object>"
      ]
     },
     "metadata": {},
     "output_type": "display_data"
    }
   ],
   "source": [
    "FEATRUES_TO_DROP = [\n",
    "    \"Quartz\",\n",
    "    \"Calcium sulfate\",\n",
    "    \"Anhydrite\",\n",
    "    \"Gamma C2S\",\n",
    "    \"Beta C2S\",\n",
    "    \"Alpha C2S\",\n",
    "    \"Muscovite\",\n",
    "    \"CS1\",\n",
    "    \"Calcined clay\",\n",
    "    \"Slag\",\n",
    "    \"Fly ash\",\n",
    "    \"Calcareous filler\",\n",
    "    \"Clinker\",\n",
    "    \"Specific Gravity\",\n",
    "]\n",
    "df = df.drop(labels=FEATRUES_TO_DROP, axis=1)"
   ]
  },
  {
   "cell_type": "markdown",
   "id": "082fd941",
   "metadata": {},
   "source": [
    "### Removing features with more than 23% of zeros"
   ]
  },
  {
   "cell_type": "code",
   "execution_count": 21,
   "id": "9a08a31f",
   "metadata": {},
   "outputs": [
    {
     "data": {
      "text/html": [
       "<style type=\"text/css\">\n",
       "#T_37ab2_row0_col0 {\n",
       "  background-color: #67000d;\n",
       "  color: #f1f1f1;\n",
       "}\n",
       "#T_37ab2_row1_col0 {\n",
       "  background-color: #f96245;\n",
       "  color: #f1f1f1;\n",
       "}\n",
       "#T_37ab2_row2_col0 {\n",
       "  background-color: #feeae1;\n",
       "  color: #000000;\n",
       "}\n",
       "#T_37ab2_row3_col0 {\n",
       "  background-color: #fff0e9;\n",
       "  color: #000000;\n",
       "}\n",
       "#T_37ab2_row4_col0 {\n",
       "  background-color: #fff4ee;\n",
       "  color: #000000;\n",
       "}\n",
       "#T_37ab2_row5_col0, #T_37ab2_row6_col0, #T_37ab2_row7_col0, #T_37ab2_row8_col0, #T_37ab2_row9_col0, #T_37ab2_row10_col0, #T_37ab2_row11_col0, #T_37ab2_row12_col0, #T_37ab2_row13_col0, #T_37ab2_row14_col0, #T_37ab2_row15_col0, #T_37ab2_row16_col0, #T_37ab2_row17_col0, #T_37ab2_row18_col0, #T_37ab2_row19_col0, #T_37ab2_row20_col0, #T_37ab2_row21_col0, #T_37ab2_row22_col0, #T_37ab2_row23_col0, #T_37ab2_row24_col0, #T_37ab2_row25_col0, #T_37ab2_row26_col0, #T_37ab2_row27_col0, #T_37ab2_row28_col0, #T_37ab2_row29_col0, #T_37ab2_row30_col0, #T_37ab2_row31_col0, #T_37ab2_row32_col0, #T_37ab2_row33_col0, #T_37ab2_row34_col0, #T_37ab2_row35_col0 {\n",
       "  background-color: #fff5f0;\n",
       "  color: #000000;\n",
       "}\n",
       "</style>\n",
       "<table id=\"T_37ab2\">\n",
       "  <thead>\n",
       "    <tr>\n",
       "      <th class=\"blank level0\" >&nbsp;</th>\n",
       "      <th id=\"T_37ab2_level0_col0\" class=\"col_heading level0 col0\" >Zero (%) for P</th>\n",
       "    </tr>\n",
       "  </thead>\n",
       "  <tbody>\n",
       "    <tr>\n",
       "      <th id=\"T_37ab2_level0_row0\" class=\"row_heading level0 row0\" >#200</th>\n",
       "      <td id=\"T_37ab2_row0_col0\" class=\"data row0 col0\" >88.888889</td>\n",
       "    </tr>\n",
       "    <tr>\n",
       "      <th id=\"T_37ab2_level0_row1\" class=\"row_heading level0 row1\" >Dolimita</th>\n",
       "      <td id=\"T_37ab2_row1_col0\" class=\"data row1 col0\" >46.296296</td>\n",
       "    </tr>\n",
       "    <tr>\n",
       "      <th id=\"T_37ab2_level0_row2\" class=\"row_heading level0 row2\" >Langbeinite</th>\n",
       "      <td id=\"T_37ab2_row2_col0\" class=\"data row2 col0\" >5.864198</td>\n",
       "    </tr>\n",
       "    <tr>\n",
       "      <th id=\"T_37ab2_level0_row3\" class=\"row_heading level0 row3\" >Orthorhombic C3A</th>\n",
       "      <td id=\"T_37ab2_row3_col0\" class=\"data row3 col0\" >2.469136</td>\n",
       "    </tr>\n",
       "    <tr>\n",
       "      <th id=\"T_37ab2_level0_row4\" class=\"row_heading level0 row4\" >#325</th>\n",
       "      <td id=\"T_37ab2_row4_col0\" class=\"data row4 col0\" >0.925926</td>\n",
       "    </tr>\n",
       "    <tr>\n",
       "      <th id=\"T_37ab2_level0_row5\" class=\"row_heading level0 row5\" >Bassanite</th>\n",
       "      <td id=\"T_37ab2_row5_col0\" class=\"data row5 col0\" >0.308642</td>\n",
       "    </tr>\n",
       "    <tr>\n",
       "      <th id=\"T_37ab2_level0_row6\" class=\"row_heading level0 row6\" >Aphthitalite</th>\n",
       "      <td id=\"T_37ab2_row6_col0\" class=\"data row6 col0\" >0.308642</td>\n",
       "    </tr>\n",
       "    <tr>\n",
       "      <th id=\"T_37ab2_level0_row7\" class=\"row_heading level0 row7\" >Calcium sulfate (composition)</th>\n",
       "      <td id=\"T_37ab2_row7_col0\" class=\"data row7 col0\" >0.000000</td>\n",
       "    </tr>\n",
       "    <tr>\n",
       "      <th id=\"T_37ab2_level0_row8\" class=\"row_heading level0 row8\" >TiO2</th>\n",
       "      <td id=\"T_37ab2_row8_col0\" class=\"data row8 col0\" >0.000000</td>\n",
       "    </tr>\n",
       "    <tr>\n",
       "      <th id=\"T_37ab2_level0_row9\" class=\"row_heading level0 row9\" >Fe2O3</th>\n",
       "      <td id=\"T_37ab2_row9_col0\" class=\"data row9 col0\" >0.000000</td>\n",
       "    </tr>\n",
       "    <tr>\n",
       "      <th id=\"T_37ab2_level0_row10\" class=\"row_heading level0 row10\" >Loss on Ignition</th>\n",
       "      <td id=\"T_37ab2_row10_col0\" class=\"data row10 col0\" >0.000000</td>\n",
       "    </tr>\n",
       "    <tr>\n",
       "      <th id=\"T_37ab2_level0_row11\" class=\"row_heading level0 row11\" >Insoluble Residue</th>\n",
       "      <td id=\"T_37ab2_row11_col0\" class=\"data row11 col0\" >0.000000</td>\n",
       "    </tr>\n",
       "    <tr>\n",
       "      <th id=\"T_37ab2_level0_row12\" class=\"row_heading level0 row12\" >Blaine</th>\n",
       "      <td id=\"T_37ab2_row12_col0\" class=\"data row12 col0\" >0.000000</td>\n",
       "    </tr>\n",
       "    <tr>\n",
       "      <th id=\"T_37ab2_level0_row13\" class=\"row_heading level0 row13\" >SO3</th>\n",
       "      <td id=\"T_37ab2_row13_col0\" class=\"data row13 col0\" >0.000000</td>\n",
       "    </tr>\n",
       "    <tr>\n",
       "      <th id=\"T_37ab2_level0_row14\" class=\"row_heading level0 row14\" >#400</th>\n",
       "      <td id=\"T_37ab2_row14_col0\" class=\"data row14 col0\" >0.000000</td>\n",
       "    </tr>\n",
       "    <tr>\n",
       "      <th id=\"T_37ab2_level0_row15\" class=\"row_heading level0 row15\" >Initial setting time</th>\n",
       "      <td id=\"T_37ab2_row15_col0\" class=\"data row15 col0\" >0.000000</td>\n",
       "    </tr>\n",
       "    <tr>\n",
       "      <th id=\"T_37ab2_level0_row16\" class=\"row_heading level0 row16\" >Final setting time</th>\n",
       "      <td id=\"T_37ab2_row16_col0\" class=\"data row16 col0\" >0.000000</td>\n",
       "    </tr>\n",
       "    <tr>\n",
       "      <th id=\"T_37ab2_level0_row17\" class=\"row_heading level0 row17\" >CS3</th>\n",
       "      <td id=\"T_37ab2_row17_col0\" class=\"data row17 col0\" >0.000000</td>\n",
       "    </tr>\n",
       "    <tr>\n",
       "      <th id=\"T_37ab2_level0_row18\" class=\"row_heading level0 row18\" >CS7</th>\n",
       "      <td id=\"T_37ab2_row18_col0\" class=\"data row18 col0\" >0.000000</td>\n",
       "    </tr>\n",
       "    <tr>\n",
       "      <th id=\"T_37ab2_level0_row19\" class=\"row_heading level0 row19\" >K2O</th>\n",
       "      <td id=\"T_37ab2_row19_col0\" class=\"data row19 col0\" >0.000000</td>\n",
       "    </tr>\n",
       "    <tr>\n",
       "      <th id=\"T_37ab2_level0_row20\" class=\"row_heading level0 row20\" >Na2O</th>\n",
       "      <td id=\"T_37ab2_row20_col0\" class=\"data row20 col0\" >0.000000</td>\n",
       "    </tr>\n",
       "    <tr>\n",
       "      <th id=\"T_37ab2_level0_row21\" class=\"row_heading level0 row21\" >SiO2</th>\n",
       "      <td id=\"T_37ab2_row21_col0\" class=\"data row21 col0\" >0.000000</td>\n",
       "    </tr>\n",
       "    <tr>\n",
       "      <th id=\"T_37ab2_level0_row22\" class=\"row_heading level0 row22\" >Al2O3</th>\n",
       "      <td id=\"T_37ab2_row22_col0\" class=\"data row22 col0\" >0.000000</td>\n",
       "    </tr>\n",
       "    <tr>\n",
       "      <th id=\"T_37ab2_level0_row23\" class=\"row_heading level0 row23\" >Total C3S</th>\n",
       "      <td id=\"T_37ab2_row23_col0\" class=\"data row23 col0\" >0.000000</td>\n",
       "    </tr>\n",
       "    <tr>\n",
       "      <th id=\"T_37ab2_level0_row24\" class=\"row_heading level0 row24\" >MgO</th>\n",
       "      <td id=\"T_37ab2_row24_col0\" class=\"data row24 col0\" >0.000000</td>\n",
       "    </tr>\n",
       "    <tr>\n",
       "      <th id=\"T_37ab2_level0_row25\" class=\"row_heading level0 row25\" >CaO</th>\n",
       "      <td id=\"T_37ab2_row25_col0\" class=\"data row25 col0\" >0.000000</td>\n",
       "    </tr>\n",
       "    <tr>\n",
       "      <th id=\"T_37ab2_level0_row26\" class=\"row_heading level0 row26\" >Calcite</th>\n",
       "      <td id=\"T_37ab2_row26_col0\" class=\"data row26 col0\" >0.000000</td>\n",
       "    </tr>\n",
       "    <tr>\n",
       "      <th id=\"T_37ab2_level0_row27\" class=\"row_heading level0 row27\" >Arcanite</th>\n",
       "      <td id=\"T_37ab2_row27_col0\" class=\"data row27 col0\" >0.000000</td>\n",
       "    </tr>\n",
       "    <tr>\n",
       "      <th id=\"T_37ab2_level0_row28\" class=\"row_heading level0 row28\" >Periclase</th>\n",
       "      <td id=\"T_37ab2_row28_col0\" class=\"data row28 col0\" >0.000000</td>\n",
       "    </tr>\n",
       "    <tr>\n",
       "      <th id=\"T_37ab2_level0_row29\" class=\"row_heading level0 row29\" >Portlandite</th>\n",
       "      <td id=\"T_37ab2_row29_col0\" class=\"data row29 col0\" >0.000000</td>\n",
       "    </tr>\n",
       "    <tr>\n",
       "      <th id=\"T_37ab2_level0_row30\" class=\"row_heading level0 row30\" >Free CaO</th>\n",
       "      <td id=\"T_37ab2_row30_col0\" class=\"data row30 col0\" >0.000000</td>\n",
       "    </tr>\n",
       "    <tr>\n",
       "      <th id=\"T_37ab2_level0_row31\" class=\"row_heading level0 row31\" >Cubic C3A</th>\n",
       "      <td id=\"T_37ab2_row31_col0\" class=\"data row31 col0\" >0.000000</td>\n",
       "    </tr>\n",
       "    <tr>\n",
       "      <th id=\"T_37ab2_level0_row32\" class=\"row_heading level0 row32\" >C3A</th>\n",
       "      <td id=\"T_37ab2_row32_col0\" class=\"data row32 col0\" >0.000000</td>\n",
       "    </tr>\n",
       "    <tr>\n",
       "      <th id=\"T_37ab2_level0_row33\" class=\"row_heading level0 row33\" >C4AF</th>\n",
       "      <td id=\"T_37ab2_row33_col0\" class=\"data row33 col0\" >0.000000</td>\n",
       "    </tr>\n",
       "    <tr>\n",
       "      <th id=\"T_37ab2_level0_row34\" class=\"row_heading level0 row34\" >Total C2S</th>\n",
       "      <td id=\"T_37ab2_row34_col0\" class=\"data row34 col0\" >0.000000</td>\n",
       "    </tr>\n",
       "    <tr>\n",
       "      <th id=\"T_37ab2_level0_row35\" class=\"row_heading level0 row35\" >CS28</th>\n",
       "      <td id=\"T_37ab2_row35_col0\" class=\"data row35 col0\" >0.000000</td>\n",
       "    </tr>\n",
       "  </tbody>\n",
       "</table>\n"
      ],
      "text/plain": [
       "<pandas.io.formats.style.Styler at 0x7fa8a15b6ad0>"
      ]
     },
     "execution_count": 21,
     "metadata": {},
     "output_type": "execute_result"
    },
    {
     "data": {
      "application/javascript": [
       "\n",
       "            setTimeout(function() {\n",
       "                var nbb_cell_id = 21;\n",
       "                var nbb_unformatted_code = \"zero_values = {}\\nfor col in df.select_dtypes(include=\\\"number\\\").columns:\\n    zero_percentages = (df[df[col].eq(0)].shape[0] / df.shape[0]) * 100\\n    zero_values[col] = zero_percentages\\n\\nzero_percentages = pd.Series(zero_values, name=f\\\"Zero (%) for {plant}\\\")\\nzero_percentages = zero_percentages.sort_values(ascending=False)\\nzero_percentages = zero_percentages.to_frame(name=f\\\"Zero (%) for {plant}\\\")\\nzero_percentages.style.background_gradient(cmap=\\\"Reds\\\")\";\n",
       "                var nbb_formatted_code = \"zero_values = {}\\nfor col in df.select_dtypes(include=\\\"number\\\").columns:\\n    zero_percentages = (df[df[col].eq(0)].shape[0] / df.shape[0]) * 100\\n    zero_values[col] = zero_percentages\\n\\nzero_percentages = pd.Series(zero_values, name=f\\\"Zero (%) for {plant}\\\")\\nzero_percentages = zero_percentages.sort_values(ascending=False)\\nzero_percentages = zero_percentages.to_frame(name=f\\\"Zero (%) for {plant}\\\")\\nzero_percentages.style.background_gradient(cmap=\\\"Reds\\\")\";\n",
       "                var nbb_cells = Jupyter.notebook.get_cells();\n",
       "                for (var i = 0; i < nbb_cells.length; ++i) {\n",
       "                    if (nbb_cells[i].input_prompt_number == nbb_cell_id) {\n",
       "                        if (nbb_cells[i].get_text() == nbb_unformatted_code) {\n",
       "                             nbb_cells[i].set_text(nbb_formatted_code);\n",
       "                        }\n",
       "                        break;\n",
       "                    }\n",
       "                }\n",
       "            }, 500);\n",
       "            "
      ],
      "text/plain": [
       "<IPython.core.display.Javascript object>"
      ]
     },
     "metadata": {},
     "output_type": "display_data"
    }
   ],
   "source": [
    "zero_values = {}\n",
    "for col in df.select_dtypes(include=\"number\").columns:\n",
    "    zero_percentages = (df[df[col].eq(0)].shape[0] / df.shape[0]) * 100\n",
    "    zero_values[col] = zero_percentages\n",
    "\n",
    "zero_percentages = pd.Series(zero_values, name=f\"Zero (%) for {plant}\")\n",
    "zero_percentages = zero_percentages.sort_values(ascending=False)\n",
    "zero_percentages = zero_percentages.to_frame(name=f\"Zero (%) for {plant}\")\n",
    "zero_percentages.style.background_gradient(cmap=\"Reds\")"
   ]
  },
  {
   "cell_type": "markdown",
   "id": "d001f0e1",
   "metadata": {},
   "source": [
    "<h3>Percentage of zero values:</h3>\n",
    "<table>\n",
    "    <th>Plant A - Full Dataset:</th>\n",
    "    <th></th>\n",
    "    <tr>\n",
    "        <td>#200</td>\n",
    "        <td>88.89>\n",
    "    </tr>\n",
    "    <tr>\n",
    "        <td>Dolimita</td>\n",
    "        <td>46.30</td>\n",
    "    </tr>\n",
    "</table>"
   ]
  },
  {
   "cell_type": "code",
   "execution_count": 22,
   "id": "098c95c3",
   "metadata": {},
   "outputs": [
    {
     "data": {
      "application/javascript": [
       "\n",
       "            setTimeout(function() {\n",
       "                var nbb_cell_id = 22;\n",
       "                var nbb_unformatted_code = \"FEATRUES_TO_DROP = [\\\"Dolimita\\\", \\\"#200\\\"]\\ndf = df.drop(labels=FEATRUES_TO_DROP, axis=1)\";\n",
       "                var nbb_formatted_code = \"FEATRUES_TO_DROP = [\\\"Dolimita\\\", \\\"#200\\\"]\\ndf = df.drop(labels=FEATRUES_TO_DROP, axis=1)\";\n",
       "                var nbb_cells = Jupyter.notebook.get_cells();\n",
       "                for (var i = 0; i < nbb_cells.length; ++i) {\n",
       "                    if (nbb_cells[i].input_prompt_number == nbb_cell_id) {\n",
       "                        if (nbb_cells[i].get_text() == nbb_unformatted_code) {\n",
       "                             nbb_cells[i].set_text(nbb_formatted_code);\n",
       "                        }\n",
       "                        break;\n",
       "                    }\n",
       "                }\n",
       "            }, 500);\n",
       "            "
      ],
      "text/plain": [
       "<IPython.core.display.Javascript object>"
      ]
     },
     "metadata": {},
     "output_type": "display_data"
    }
   ],
   "source": [
    "FEATRUES_TO_DROP = [\"Dolimita\", \"#200\"]\n",
    "df = df.drop(labels=FEATRUES_TO_DROP, axis=1)"
   ]
  },
  {
   "cell_type": "markdown",
   "id": "1b0087d0",
   "metadata": {},
   "source": [
    "### Dropping variable with City and Plant identification"
   ]
  },
  {
   "cell_type": "code",
   "execution_count": 23,
   "id": "2dd18010",
   "metadata": {},
   "outputs": [
    {
     "data": {
      "application/javascript": [
       "\n",
       "            setTimeout(function() {\n",
       "                var nbb_cell_id = 23;\n",
       "                var nbb_unformatted_code = \"FEATRUES_TO_DROP = [\\\"City\\\", \\\"Plant\\\"]\\ndf = df.drop(labels=FEATRUES_TO_DROP, axis=1)\";\n",
       "                var nbb_formatted_code = \"FEATRUES_TO_DROP = [\\\"City\\\", \\\"Plant\\\"]\\ndf = df.drop(labels=FEATRUES_TO_DROP, axis=1)\";\n",
       "                var nbb_cells = Jupyter.notebook.get_cells();\n",
       "                for (var i = 0; i < nbb_cells.length; ++i) {\n",
       "                    if (nbb_cells[i].input_prompt_number == nbb_cell_id) {\n",
       "                        if (nbb_cells[i].get_text() == nbb_unformatted_code) {\n",
       "                             nbb_cells[i].set_text(nbb_formatted_code);\n",
       "                        }\n",
       "                        break;\n",
       "                    }\n",
       "                }\n",
       "            }, 500);\n",
       "            "
      ],
      "text/plain": [
       "<IPython.core.display.Javascript object>"
      ]
     },
     "metadata": {},
     "output_type": "display_data"
    }
   ],
   "source": [
    "FEATRUES_TO_DROP = [\"City\", \"Plant\"]\n",
    "df = df.drop(labels=FEATRUES_TO_DROP, axis=1)"
   ]
  },
  {
   "cell_type": "markdown",
   "id": "77150ffd",
   "metadata": {},
   "source": [
    "### Dropping rows where the target variable is null"
   ]
  },
  {
   "cell_type": "code",
   "execution_count": 24,
   "id": "6ac90829",
   "metadata": {},
   "outputs": [
    {
     "data": {
      "application/javascript": [
       "\n",
       "            setTimeout(function() {\n",
       "                var nbb_cell_id = 24;\n",
       "                var nbb_unformatted_code = \"df = df[df[\\\"CS28\\\"].notna()]\";\n",
       "                var nbb_formatted_code = \"df = df[df[\\\"CS28\\\"].notna()]\";\n",
       "                var nbb_cells = Jupyter.notebook.get_cells();\n",
       "                for (var i = 0; i < nbb_cells.length; ++i) {\n",
       "                    if (nbb_cells[i].input_prompt_number == nbb_cell_id) {\n",
       "                        if (nbb_cells[i].get_text() == nbb_unformatted_code) {\n",
       "                             nbb_cells[i].set_text(nbb_formatted_code);\n",
       "                        }\n",
       "                        break;\n",
       "                    }\n",
       "                }\n",
       "            }, 500);\n",
       "            "
      ],
      "text/plain": [
       "<IPython.core.display.Javascript object>"
      ]
     },
     "metadata": {},
     "output_type": "display_data"
    }
   ],
   "source": [
    "df = df[df[\"CS28\"].notna()]"
   ]
  },
  {
   "cell_type": "markdown",
   "id": "0a8e3c5b",
   "metadata": {},
   "source": [
    "### Dropping rows where the target variable is zero"
   ]
  },
  {
   "cell_type": "code",
   "execution_count": 25,
   "id": "bef56e14",
   "metadata": {},
   "outputs": [
    {
     "data": {
      "application/javascript": [
       "\n",
       "            setTimeout(function() {\n",
       "                var nbb_cell_id = 25;\n",
       "                var nbb_unformatted_code = \"df = df[~df[\\\"CS28\\\"].eq(0)]\";\n",
       "                var nbb_formatted_code = \"df = df[~df[\\\"CS28\\\"].eq(0)]\";\n",
       "                var nbb_cells = Jupyter.notebook.get_cells();\n",
       "                for (var i = 0; i < nbb_cells.length; ++i) {\n",
       "                    if (nbb_cells[i].input_prompt_number == nbb_cell_id) {\n",
       "                        if (nbb_cells[i].get_text() == nbb_unformatted_code) {\n",
       "                             nbb_cells[i].set_text(nbb_formatted_code);\n",
       "                        }\n",
       "                        break;\n",
       "                    }\n",
       "                }\n",
       "            }, 500);\n",
       "            "
      ],
      "text/plain": [
       "<IPython.core.display.Javascript object>"
      ]
     },
     "metadata": {},
     "output_type": "display_data"
    }
   ],
   "source": [
    "df = df[~df[\"CS28\"].eq(0)]"
   ]
  },
  {
   "cell_type": "code",
   "execution_count": 26,
   "id": "6c305a61",
   "metadata": {},
   "outputs": [
    {
     "data": {
      "text/plain": [
       "(324, 36)"
      ]
     },
     "execution_count": 26,
     "metadata": {},
     "output_type": "execute_result"
    },
    {
     "data": {
      "application/javascript": [
       "\n",
       "            setTimeout(function() {\n",
       "                var nbb_cell_id = 26;\n",
       "                var nbb_unformatted_code = \"df.shape\";\n",
       "                var nbb_formatted_code = \"df.shape\";\n",
       "                var nbb_cells = Jupyter.notebook.get_cells();\n",
       "                for (var i = 0; i < nbb_cells.length; ++i) {\n",
       "                    if (nbb_cells[i].input_prompt_number == nbb_cell_id) {\n",
       "                        if (nbb_cells[i].get_text() == nbb_unformatted_code) {\n",
       "                             nbb_cells[i].set_text(nbb_formatted_code);\n",
       "                        }\n",
       "                        break;\n",
       "                    }\n",
       "                }\n",
       "            }, 500);\n",
       "            "
      ],
      "text/plain": [
       "<IPython.core.display.Javascript object>"
      ]
     },
     "metadata": {},
     "output_type": "display_data"
    }
   ],
   "source": [
    "df.shape"
   ]
  },
  {
   "cell_type": "code",
   "execution_count": 27,
   "id": "bab136d8",
   "metadata": {},
   "outputs": [
    {
     "data": {
      "application/javascript": [
       "\n",
       "            setTimeout(function() {\n",
       "                var nbb_cell_id = 27;\n",
       "                var nbb_unformatted_code = \"# df.describe().T\";\n",
       "                var nbb_formatted_code = \"# df.describe().T\";\n",
       "                var nbb_cells = Jupyter.notebook.get_cells();\n",
       "                for (var i = 0; i < nbb_cells.length; ++i) {\n",
       "                    if (nbb_cells[i].input_prompt_number == nbb_cell_id) {\n",
       "                        if (nbb_cells[i].get_text() == nbb_unformatted_code) {\n",
       "                             nbb_cells[i].set_text(nbb_formatted_code);\n",
       "                        }\n",
       "                        break;\n",
       "                    }\n",
       "                }\n",
       "            }, 500);\n",
       "            "
      ],
      "text/plain": [
       "<IPython.core.display.Javascript object>"
      ]
     },
     "metadata": {},
     "output_type": "display_data"
    }
   ],
   "source": [
    "# df.describe().T"
   ]
  },
  {
   "cell_type": "code",
   "execution_count": 28,
   "id": "16597882",
   "metadata": {},
   "outputs": [
    {
     "data": {
      "application/javascript": [
       "\n",
       "            setTimeout(function() {\n",
       "                var nbb_cell_id = 28;\n",
       "                var nbb_unformatted_code = \"# df_copy = df.copy()\";\n",
       "                var nbb_formatted_code = \"# df_copy = df.copy()\";\n",
       "                var nbb_cells = Jupyter.notebook.get_cells();\n",
       "                for (var i = 0; i < nbb_cells.length; ++i) {\n",
       "                    if (nbb_cells[i].input_prompt_number == nbb_cell_id) {\n",
       "                        if (nbb_cells[i].get_text() == nbb_unformatted_code) {\n",
       "                             nbb_cells[i].set_text(nbb_formatted_code);\n",
       "                        }\n",
       "                        break;\n",
       "                    }\n",
       "                }\n",
       "            }, 500);\n",
       "            "
      ],
      "text/plain": [
       "<IPython.core.display.Javascript object>"
      ]
     },
     "metadata": {},
     "output_type": "display_data"
    }
   ],
   "source": [
    "# df_copy = df.copy()"
   ]
  },
  {
   "cell_type": "markdown",
   "id": "b1bb693c",
   "metadata": {},
   "source": [
    "### Dropping rows where any other variable has a zero value"
   ]
  },
  {
   "cell_type": "code",
   "execution_count": 29,
   "id": "0f69dd4f",
   "metadata": {},
   "outputs": [
    {
     "data": {
      "application/javascript": [
       "\n",
       "            setTimeout(function() {\n",
       "                var nbb_cell_id = 29;\n",
       "                var nbb_unformatted_code = \"for col in df.columns:\\n    df = df[~df[col].eq(0)]\";\n",
       "                var nbb_formatted_code = \"for col in df.columns:\\n    df = df[~df[col].eq(0)]\";\n",
       "                var nbb_cells = Jupyter.notebook.get_cells();\n",
       "                for (var i = 0; i < nbb_cells.length; ++i) {\n",
       "                    if (nbb_cells[i].input_prompt_number == nbb_cell_id) {\n",
       "                        if (nbb_cells[i].get_text() == nbb_unformatted_code) {\n",
       "                             nbb_cells[i].set_text(nbb_formatted_code);\n",
       "                        }\n",
       "                        break;\n",
       "                    }\n",
       "                }\n",
       "            }, 500);\n",
       "            "
      ],
      "text/plain": [
       "<IPython.core.display.Javascript object>"
      ]
     },
     "metadata": {},
     "output_type": "display_data"
    }
   ],
   "source": [
    "for col in df.columns:\n",
    "    df = df[~df[col].eq(0)]"
   ]
  },
  {
   "cell_type": "code",
   "execution_count": 30,
   "id": "2b9a9d3c",
   "metadata": {},
   "outputs": [
    {
     "data": {
      "text/plain": [
       "(294, 36)"
      ]
     },
     "execution_count": 30,
     "metadata": {},
     "output_type": "execute_result"
    },
    {
     "data": {
      "application/javascript": [
       "\n",
       "            setTimeout(function() {\n",
       "                var nbb_cell_id = 30;\n",
       "                var nbb_unformatted_code = \"df.shape\";\n",
       "                var nbb_formatted_code = \"df.shape\";\n",
       "                var nbb_cells = Jupyter.notebook.get_cells();\n",
       "                for (var i = 0; i < nbb_cells.length; ++i) {\n",
       "                    if (nbb_cells[i].input_prompt_number == nbb_cell_id) {\n",
       "                        if (nbb_cells[i].get_text() == nbb_unformatted_code) {\n",
       "                             nbb_cells[i].set_text(nbb_formatted_code);\n",
       "                        }\n",
       "                        break;\n",
       "                    }\n",
       "                }\n",
       "            }, 500);\n",
       "            "
      ],
      "text/plain": [
       "<IPython.core.display.Javascript object>"
      ]
     },
     "metadata": {},
     "output_type": "display_data"
    }
   ],
   "source": [
    "df.shape"
   ]
  },
  {
   "cell_type": "code",
   "execution_count": 31,
   "id": "c7b91709",
   "metadata": {},
   "outputs": [
    {
     "data": {
      "text/html": [
       "<style type=\"text/css\">\n",
       "#T_40f0d_row0_col0 {\n",
       "  background-color: #67000d;\n",
       "  color: #f1f1f1;\n",
       "}\n",
       "#T_40f0d_row1_col0, #T_40f0d_row2_col0, #T_40f0d_row3_col0 {\n",
       "  background-color: #d01d1f;\n",
       "  color: #f1f1f1;\n",
       "}\n",
       "#T_40f0d_row4_col0, #T_40f0d_row5_col0, #T_40f0d_row6_col0, #T_40f0d_row7_col0, #T_40f0d_row8_col0, #T_40f0d_row9_col0, #T_40f0d_row10_col0, #T_40f0d_row11_col0, #T_40f0d_row12_col0, #T_40f0d_row13_col0, #T_40f0d_row14_col0 {\n",
       "  background-color: #e32f27;\n",
       "  color: #f1f1f1;\n",
       "}\n",
       "#T_40f0d_row15_col0, #T_40f0d_row16_col0 {\n",
       "  background-color: #fff3ed;\n",
       "  color: #000000;\n",
       "}\n",
       "#T_40f0d_row17_col0, #T_40f0d_row18_col0, #T_40f0d_row19_col0, #T_40f0d_row20_col0, #T_40f0d_row21_col0, #T_40f0d_row22_col0, #T_40f0d_row23_col0, #T_40f0d_row24_col0, #T_40f0d_row25_col0, #T_40f0d_row26_col0, #T_40f0d_row27_col0, #T_40f0d_row28_col0, #T_40f0d_row29_col0, #T_40f0d_row30_col0, #T_40f0d_row31_col0, #T_40f0d_row32_col0, #T_40f0d_row33_col0, #T_40f0d_row34_col0, #T_40f0d_row35_col0 {\n",
       "  background-color: #fff5f0;\n",
       "  color: #000000;\n",
       "}\n",
       "</style>\n",
       "<table id=\"T_40f0d\">\n",
       "  <thead>\n",
       "    <tr>\n",
       "      <th class=\"blank level0\" >&nbsp;</th>\n",
       "      <th id=\"T_40f0d_level0_col0\" class=\"col_heading level0 col0\" >Missing (%)</th>\n",
       "    </tr>\n",
       "  </thead>\n",
       "  <tbody>\n",
       "    <tr>\n",
       "      <th id=\"T_40f0d_level0_row0\" class=\"row_heading level0 row0\" >Bassanite</th>\n",
       "      <td id=\"T_40f0d_row0_col0\" class=\"data row0 col0\" >25.510204</td>\n",
       "    </tr>\n",
       "    <tr>\n",
       "      <th id=\"T_40f0d_level0_row1\" class=\"row_heading level0 row1\" >Langbeinite</th>\n",
       "      <td id=\"T_40f0d_row1_col0\" class=\"data row1 col0\" >18.707483</td>\n",
       "    </tr>\n",
       "    <tr>\n",
       "      <th id=\"T_40f0d_level0_row2\" class=\"row_heading level0 row2\" >Portlandite</th>\n",
       "      <td id=\"T_40f0d_row2_col0\" class=\"data row2 col0\" >18.707483</td>\n",
       "    </tr>\n",
       "    <tr>\n",
       "      <th id=\"T_40f0d_level0_row3\" class=\"row_heading level0 row3\" >Periclase</th>\n",
       "      <td id=\"T_40f0d_row3_col0\" class=\"data row3 col0\" >18.707483</td>\n",
       "    </tr>\n",
       "    <tr>\n",
       "      <th id=\"T_40f0d_level0_row4\" class=\"row_heading level0 row4\" >Calcite</th>\n",
       "      <td id=\"T_40f0d_row4_col0\" class=\"data row4 col0\" >17.006803</td>\n",
       "    </tr>\n",
       "    <tr>\n",
       "      <th id=\"T_40f0d_level0_row5\" class=\"row_heading level0 row5\" >Total C3S</th>\n",
       "      <td id=\"T_40f0d_row5_col0\" class=\"data row5 col0\" >17.006803</td>\n",
       "    </tr>\n",
       "    <tr>\n",
       "      <th id=\"T_40f0d_level0_row6\" class=\"row_heading level0 row6\" >Total C2S</th>\n",
       "      <td id=\"T_40f0d_row6_col0\" class=\"data row6 col0\" >17.006803</td>\n",
       "    </tr>\n",
       "    <tr>\n",
       "      <th id=\"T_40f0d_level0_row7\" class=\"row_heading level0 row7\" >C4AF</th>\n",
       "      <td id=\"T_40f0d_row7_col0\" class=\"data row7 col0\" >17.006803</td>\n",
       "    </tr>\n",
       "    <tr>\n",
       "      <th id=\"T_40f0d_level0_row8\" class=\"row_heading level0 row8\" >C3A</th>\n",
       "      <td id=\"T_40f0d_row8_col0\" class=\"data row8 col0\" >17.006803</td>\n",
       "    </tr>\n",
       "    <tr>\n",
       "      <th id=\"T_40f0d_level0_row9\" class=\"row_heading level0 row9\" >Cubic C3A</th>\n",
       "      <td id=\"T_40f0d_row9_col0\" class=\"data row9 col0\" >17.006803</td>\n",
       "    </tr>\n",
       "    <tr>\n",
       "      <th id=\"T_40f0d_level0_row10\" class=\"row_heading level0 row10\" >Orthorhombic C3A</th>\n",
       "      <td id=\"T_40f0d_row10_col0\" class=\"data row10 col0\" >17.006803</td>\n",
       "    </tr>\n",
       "    <tr>\n",
       "      <th id=\"T_40f0d_level0_row11\" class=\"row_heading level0 row11\" >Free CaO</th>\n",
       "      <td id=\"T_40f0d_row11_col0\" class=\"data row11 col0\" >17.006803</td>\n",
       "    </tr>\n",
       "    <tr>\n",
       "      <th id=\"T_40f0d_level0_row12\" class=\"row_heading level0 row12\" >Arcanite</th>\n",
       "      <td id=\"T_40f0d_row12_col0\" class=\"data row12 col0\" >17.006803</td>\n",
       "    </tr>\n",
       "    <tr>\n",
       "      <th id=\"T_40f0d_level0_row13\" class=\"row_heading level0 row13\" >Aphthitalite</th>\n",
       "      <td id=\"T_40f0d_row13_col0\" class=\"data row13 col0\" >17.006803</td>\n",
       "    </tr>\n",
       "    <tr>\n",
       "      <th id=\"T_40f0d_level0_row14\" class=\"row_heading level0 row14\" >Calcium sulfate (composition)</th>\n",
       "      <td id=\"T_40f0d_row14_col0\" class=\"data row14 col0\" >17.006803</td>\n",
       "    </tr>\n",
       "    <tr>\n",
       "      <th id=\"T_40f0d_level0_row15\" class=\"row_heading level0 row15\" >Loss on Ignition</th>\n",
       "      <td id=\"T_40f0d_row15_col0\" class=\"data row15 col0\" >0.340136</td>\n",
       "    </tr>\n",
       "    <tr>\n",
       "      <th id=\"T_40f0d_level0_row16\" class=\"row_heading level0 row16\" >Insoluble Residue</th>\n",
       "      <td id=\"T_40f0d_row16_col0\" class=\"data row16 col0\" >0.340136</td>\n",
       "    </tr>\n",
       "    <tr>\n",
       "      <th id=\"T_40f0d_level0_row17\" class=\"row_heading level0 row17\" >CS28</th>\n",
       "      <td id=\"T_40f0d_row17_col0\" class=\"data row17 col0\" >0.000000</td>\n",
       "    </tr>\n",
       "    <tr>\n",
       "      <th id=\"T_40f0d_level0_row18\" class=\"row_heading level0 row18\" >CS7</th>\n",
       "      <td id=\"T_40f0d_row18_col0\" class=\"data row18 col0\" >0.000000</td>\n",
       "    </tr>\n",
       "    <tr>\n",
       "      <th id=\"T_40f0d_level0_row19\" class=\"row_heading level0 row19\" >CS3</th>\n",
       "      <td id=\"T_40f0d_row19_col0\" class=\"data row19 col0\" >0.000000</td>\n",
       "    </tr>\n",
       "    <tr>\n",
       "      <th id=\"T_40f0d_level0_row20\" class=\"row_heading level0 row20\" >Final setting time</th>\n",
       "      <td id=\"T_40f0d_row20_col0\" class=\"data row20 col0\" >0.000000</td>\n",
       "    </tr>\n",
       "    <tr>\n",
       "      <th id=\"T_40f0d_level0_row21\" class=\"row_heading level0 row21\" >Initial setting time</th>\n",
       "      <td id=\"T_40f0d_row21_col0\" class=\"data row21 col0\" >0.000000</td>\n",
       "    </tr>\n",
       "    <tr>\n",
       "      <th id=\"T_40f0d_level0_row22\" class=\"row_heading level0 row22\" >#400</th>\n",
       "      <td id=\"T_40f0d_row22_col0\" class=\"data row22 col0\" >0.000000</td>\n",
       "    </tr>\n",
       "    <tr>\n",
       "      <th id=\"T_40f0d_level0_row23\" class=\"row_heading level0 row23\" >#325</th>\n",
       "      <td id=\"T_40f0d_row23_col0\" class=\"data row23 col0\" >0.000000</td>\n",
       "    </tr>\n",
       "    <tr>\n",
       "      <th id=\"T_40f0d_level0_row24\" class=\"row_heading level0 row24\" >Blaine</th>\n",
       "      <td id=\"T_40f0d_row24_col0\" class=\"data row24 col0\" >0.000000</td>\n",
       "    </tr>\n",
       "    <tr>\n",
       "      <th id=\"T_40f0d_level0_row25\" class=\"row_heading level0 row25\" >Date</th>\n",
       "      <td id=\"T_40f0d_row25_col0\" class=\"data row25 col0\" >0.000000</td>\n",
       "    </tr>\n",
       "    <tr>\n",
       "      <th id=\"T_40f0d_level0_row26\" class=\"row_heading level0 row26\" >Na2O</th>\n",
       "      <td id=\"T_40f0d_row26_col0\" class=\"data row26 col0\" >0.000000</td>\n",
       "    </tr>\n",
       "    <tr>\n",
       "      <th id=\"T_40f0d_level0_row27\" class=\"row_heading level0 row27\" >Fe2O3</th>\n",
       "      <td id=\"T_40f0d_row27_col0\" class=\"data row27 col0\" >0.000000</td>\n",
       "    </tr>\n",
       "    <tr>\n",
       "      <th id=\"T_40f0d_level0_row28\" class=\"row_heading level0 row28\" >TiO2</th>\n",
       "      <td id=\"T_40f0d_row28_col0\" class=\"data row28 col0\" >0.000000</td>\n",
       "    </tr>\n",
       "    <tr>\n",
       "      <th id=\"T_40f0d_level0_row29\" class=\"row_heading level0 row29\" >K2O</th>\n",
       "      <td id=\"T_40f0d_row29_col0\" class=\"data row29 col0\" >0.000000</td>\n",
       "    </tr>\n",
       "    <tr>\n",
       "      <th id=\"T_40f0d_level0_row30\" class=\"row_heading level0 row30\" >SO3</th>\n",
       "      <td id=\"T_40f0d_row30_col0\" class=\"data row30 col0\" >0.000000</td>\n",
       "    </tr>\n",
       "    <tr>\n",
       "      <th id=\"T_40f0d_level0_row31\" class=\"row_heading level0 row31\" >SiO2</th>\n",
       "      <td id=\"T_40f0d_row31_col0\" class=\"data row31 col0\" >0.000000</td>\n",
       "    </tr>\n",
       "    <tr>\n",
       "      <th id=\"T_40f0d_level0_row32\" class=\"row_heading level0 row32\" >Al2O3</th>\n",
       "      <td id=\"T_40f0d_row32_col0\" class=\"data row32 col0\" >0.000000</td>\n",
       "    </tr>\n",
       "    <tr>\n",
       "      <th id=\"T_40f0d_level0_row33\" class=\"row_heading level0 row33\" >MgO</th>\n",
       "      <td id=\"T_40f0d_row33_col0\" class=\"data row33 col0\" >0.000000</td>\n",
       "    </tr>\n",
       "    <tr>\n",
       "      <th id=\"T_40f0d_level0_row34\" class=\"row_heading level0 row34\" >CaO</th>\n",
       "      <td id=\"T_40f0d_row34_col0\" class=\"data row34 col0\" >0.000000</td>\n",
       "    </tr>\n",
       "    <tr>\n",
       "      <th id=\"T_40f0d_level0_row35\" class=\"row_heading level0 row35\" >Cement_Type</th>\n",
       "      <td id=\"T_40f0d_row35_col0\" class=\"data row35 col0\" >0.000000</td>\n",
       "    </tr>\n",
       "  </tbody>\n",
       "</table>\n"
      ],
      "text/plain": [
       "<pandas.io.formats.style.Styler at 0x7fa99423f940>"
      ]
     },
     "execution_count": 31,
     "metadata": {},
     "output_type": "execute_result"
    },
    {
     "data": {
      "application/javascript": [
       "\n",
       "            setTimeout(function() {\n",
       "                var nbb_cell_id = 31;\n",
       "                var nbb_unformatted_code = \"(df.isna().sum() / df.shape[0] * 100).sort_values(ascending=False).to_frame(\\n    name=\\\"Missing (%)\\\"\\n).style.background_gradient(cmap=\\\"Reds\\\")\";\n",
       "                var nbb_formatted_code = \"(df.isna().sum() / df.shape[0] * 100).sort_values(ascending=False).to_frame(\\n    name=\\\"Missing (%)\\\"\\n).style.background_gradient(cmap=\\\"Reds\\\")\";\n",
       "                var nbb_cells = Jupyter.notebook.get_cells();\n",
       "                for (var i = 0; i < nbb_cells.length; ++i) {\n",
       "                    if (nbb_cells[i].input_prompt_number == nbb_cell_id) {\n",
       "                        if (nbb_cells[i].get_text() == nbb_unformatted_code) {\n",
       "                             nbb_cells[i].set_text(nbb_formatted_code);\n",
       "                        }\n",
       "                        break;\n",
       "                    }\n",
       "                }\n",
       "            }, 500);\n",
       "            "
      ],
      "text/plain": [
       "<IPython.core.display.Javascript object>"
      ]
     },
     "metadata": {},
     "output_type": "display_data"
    }
   ],
   "source": [
    "(df.isna().sum() / df.shape[0] * 100).sort_values(ascending=False).to_frame(\n",
    "    name=\"Missing (%)\"\n",
    ").style.background_gradient(cmap=\"Reds\")"
   ]
  },
  {
   "cell_type": "code",
   "execution_count": 32,
   "id": "38d0c079",
   "metadata": {},
   "outputs": [
    {
     "name": "stdout",
     "output_type": "stream",
     "text": [
      "\"Bassanite\",\n",
      "\"Langbeinite\",\n",
      "\"Portlandite\",\n",
      "\"Periclase\",\n",
      "\"Calcite\",\n",
      "\"Total C3S\",\n",
      "\"Total C2S\",\n",
      "\"C4AF\",\n",
      "\"C3A\",\n",
      "\"Cubic C3A\",\n",
      "\"Orthorhombic C3A\",\n",
      "\"Free CaO\",\n",
      "\"Arcanite\",\n",
      "\"Aphthitalite\",\n",
      "\"Calcium sulfate (composition)\",\n"
     ]
    },
    {
     "data": {
      "application/javascript": [
       "\n",
       "            setTimeout(function() {\n",
       "                var nbb_cell_id = 32;\n",
       "                var nbb_unformatted_code = \"for var, val in (\\n    (df.isna().sum() / df.shape[0] * 100).sort_values(ascending=False).items()\\n):\\n    s = f\\\"\\\"\\\"\\n    <tr>\\n        <td>{var}</td>\\n        <td>{round(val, 2)}</td>\\n    </tr>\\\"\\\"\\\"\\n    if val >= 17:\\n        # print(s)\\n        print(f'\\\"{var}\\\",')\";\n",
       "                var nbb_formatted_code = \"for var, val in (\\n    (df.isna().sum() / df.shape[0] * 100).sort_values(ascending=False).items()\\n):\\n    s = f\\\"\\\"\\\"\\n    <tr>\\n        <td>{var}</td>\\n        <td>{round(val, 2)}</td>\\n    </tr>\\\"\\\"\\\"\\n    if val >= 17:\\n        # print(s)\\n        print(f'\\\"{var}\\\",')\";\n",
       "                var nbb_cells = Jupyter.notebook.get_cells();\n",
       "                for (var i = 0; i < nbb_cells.length; ++i) {\n",
       "                    if (nbb_cells[i].input_prompt_number == nbb_cell_id) {\n",
       "                        if (nbb_cells[i].get_text() == nbb_unformatted_code) {\n",
       "                             nbb_cells[i].set_text(nbb_formatted_code);\n",
       "                        }\n",
       "                        break;\n",
       "                    }\n",
       "                }\n",
       "            }, 500);\n",
       "            "
      ],
      "text/plain": [
       "<IPython.core.display.Javascript object>"
      ]
     },
     "metadata": {},
     "output_type": "display_data"
    }
   ],
   "source": [
    "for var, val in (\n",
    "    (df.isna().sum() / df.shape[0] * 100).sort_values(ascending=False).items()\n",
    "):\n",
    "    s = f\"\"\"\n",
    "    <tr>\n",
    "        <td>{var}</td>\n",
    "        <td>{round(val, 2)}</td>\n",
    "    </tr>\"\"\"\n",
    "    if val >= 17:\n",
    "        # print(s)\n",
    "        print(f'\"{var}\",')"
   ]
  },
  {
   "cell_type": "markdown",
   "id": "92e6bf6b",
   "metadata": {},
   "source": [
    "## Dropping rows with increased missing values after preprocessing"
   ]
  },
  {
   "cell_type": "markdown",
   "id": "6652e592",
   "metadata": {},
   "source": [
    "<h3>Percentage of missing values:</h3>\n",
    "<table>\n",
    "    <th>Plant A - Full Dataset:</th>\n",
    "    <th></th>\n",
    "    <tr>\n",
    "        <td>Bassanite</td>\n",
    "        <td>25.51</td>\n",
    "    </tr>\n",
    "    <tr>\n",
    "        <td>Langbeinite</td>\n",
    "        <td>18.71</td>\n",
    "    </tr>\n",
    "    <tr>\n",
    "        <td>Portlandite</td>\n",
    "        <td>18.71</td>\n",
    "    </tr>\n",
    "    <tr>\n",
    "        <td>Periclase</td>\n",
    "        <td>18.71</td>\n",
    "    </tr>\n",
    "    <tr>\n",
    "        <td>Calcite</td>\n",
    "        <td>17.01</td>\n",
    "    </tr>\n",
    "    <tr>\n",
    "        <td>Total C3S</td>\n",
    "        <td>17.01</td>\n",
    "    </tr>\n",
    "    <tr>\n",
    "        <td>Total C2S</td>\n",
    "        <td>17.01</td>\n",
    "    </tr>\n",
    "    <tr>\n",
    "        <td>C4AF</td>\n",
    "        <td>17.01</td>\n",
    "    </tr>\n",
    "    <tr>\n",
    "        <td>C3A</td>\n",
    "        <td>17.01</td>\n",
    "    </tr>\n",
    "    <tr>\n",
    "        <td>Cubic C3A</td>\n",
    "        <td>17.01</td>\n",
    "    </tr>\n",
    "    <tr>\n",
    "        <td>Orthorhombic C3A</td>\n",
    "        <td>17.01</td>\n",
    "    </tr>\n",
    "    <tr>\n",
    "        <td>Free CaO</td>\n",
    "        <td>17.01</td>\n",
    "    </tr>\n",
    "    <tr>\n",
    "        <td>Arcanite</td>\n",
    "        <td>17.01</td>\n",
    "    </tr>\n",
    "    <tr>\n",
    "        <td>Aphthitalite</td>\n",
    "        <td>17.01</td>\n",
    "    </tr>\n",
    "    <tr>\n",
    "        <td>Calcium sulfate (composition)</td>\n",
    "        <td>17.01</td>\n",
    "    </tr>\n",
    "</table>\n",
    "\n",
    "\n",
    "<p>UserWarning: Skipping features without any observed values:</p>\n",
    "<p>['Calcium sulfate (composition)' 'Total C3S' 'Total C2S' 'C4AF' 'C3A'/<p>\n",
    " <p>'Cubic C3A' 'Orthorhombic C3A' 'Free CaO' 'Portlandite' 'Periclase'</p>\n",
    " <p>'Arcanite' 'Aphthitalite' 'Langbeinite' 'Bassanite' 'Calcite']. </p>\n",
    " <p>At least one non-missing value is needed for imputation with strategy='median'.</p>\n"
   ]
  },
  {
   "cell_type": "code",
   "execution_count": 33,
   "id": "c2d24288",
   "metadata": {},
   "outputs": [
    {
     "data": {
      "application/javascript": [
       "\n",
       "            setTimeout(function() {\n",
       "                var nbb_cell_id = 33;\n",
       "                var nbb_unformatted_code = \"FEATRUES_TO_DROP = [\\n    \\\"Bassanite\\\",\\n    \\\"Langbeinite\\\",\\n    \\\"Portlandite\\\",\\n    \\\"Periclase\\\",\\n    \\\"Calcite\\\",\\n    \\\"Total C3S\\\",\\n    \\\"Total C2S\\\",\\n    \\\"C4AF\\\",\\n    \\\"C3A\\\",\\n    \\\"Cubic C3A\\\",\\n    \\\"Orthorhombic C3A\\\",\\n    \\\"Free CaO\\\",\\n    \\\"Arcanite\\\",\\n    \\\"Aphthitalite\\\",\\n    \\\"Calcium sulfate (composition)\\\",\\n]\\ndf = df.drop(labels=FEATRUES_TO_DROP, axis=1)\";\n",
       "                var nbb_formatted_code = \"FEATRUES_TO_DROP = [\\n    \\\"Bassanite\\\",\\n    \\\"Langbeinite\\\",\\n    \\\"Portlandite\\\",\\n    \\\"Periclase\\\",\\n    \\\"Calcite\\\",\\n    \\\"Total C3S\\\",\\n    \\\"Total C2S\\\",\\n    \\\"C4AF\\\",\\n    \\\"C3A\\\",\\n    \\\"Cubic C3A\\\",\\n    \\\"Orthorhombic C3A\\\",\\n    \\\"Free CaO\\\",\\n    \\\"Arcanite\\\",\\n    \\\"Aphthitalite\\\",\\n    \\\"Calcium sulfate (composition)\\\",\\n]\\ndf = df.drop(labels=FEATRUES_TO_DROP, axis=1)\";\n",
       "                var nbb_cells = Jupyter.notebook.get_cells();\n",
       "                for (var i = 0; i < nbb_cells.length; ++i) {\n",
       "                    if (nbb_cells[i].input_prompt_number == nbb_cell_id) {\n",
       "                        if (nbb_cells[i].get_text() == nbb_unformatted_code) {\n",
       "                             nbb_cells[i].set_text(nbb_formatted_code);\n",
       "                        }\n",
       "                        break;\n",
       "                    }\n",
       "                }\n",
       "            }, 500);\n",
       "            "
      ],
      "text/plain": [
       "<IPython.core.display.Javascript object>"
      ]
     },
     "metadata": {},
     "output_type": "display_data"
    }
   ],
   "source": [
    "FEATRUES_TO_DROP = [\n",
    "    \"Bassanite\",\n",
    "    \"Langbeinite\",\n",
    "    \"Portlandite\",\n",
    "    \"Periclase\",\n",
    "    \"Calcite\",\n",
    "    \"Total C3S\",\n",
    "    \"Total C2S\",\n",
    "    \"C4AF\",\n",
    "    \"C3A\",\n",
    "    \"Cubic C3A\",\n",
    "    \"Orthorhombic C3A\",\n",
    "    \"Free CaO\",\n",
    "    \"Arcanite\",\n",
    "    \"Aphthitalite\",\n",
    "    \"Calcium sulfate (composition)\",\n",
    "]\n",
    "df = df.drop(labels=FEATRUES_TO_DROP, axis=1)"
   ]
  },
  {
   "cell_type": "code",
   "execution_count": 34,
   "id": "80d31e23",
   "metadata": {},
   "outputs": [
    {
     "data": {
      "text/html": [
       "<style type=\"text/css\">\n",
       "#T_5b05b_row0_col0, #T_5b05b_row1_col0 {\n",
       "  background-color: #67000d;\n",
       "  color: #f1f1f1;\n",
       "}\n",
       "#T_5b05b_row2_col0, #T_5b05b_row3_col0, #T_5b05b_row4_col0, #T_5b05b_row5_col0, #T_5b05b_row6_col0, #T_5b05b_row7_col0, #T_5b05b_row8_col0, #T_5b05b_row9_col0, #T_5b05b_row10_col0, #T_5b05b_row11_col0, #T_5b05b_row12_col0, #T_5b05b_row13_col0, #T_5b05b_row14_col0, #T_5b05b_row15_col0, #T_5b05b_row16_col0, #T_5b05b_row17_col0, #T_5b05b_row18_col0, #T_5b05b_row19_col0, #T_5b05b_row20_col0 {\n",
       "  background-color: #fff5f0;\n",
       "  color: #000000;\n",
       "}\n",
       "</style>\n",
       "<table id=\"T_5b05b\">\n",
       "  <thead>\n",
       "    <tr>\n",
       "      <th class=\"blank level0\" >&nbsp;</th>\n",
       "      <th id=\"T_5b05b_level0_col0\" class=\"col_heading level0 col0\" >Missing (%)</th>\n",
       "    </tr>\n",
       "  </thead>\n",
       "  <tbody>\n",
       "    <tr>\n",
       "      <th id=\"T_5b05b_level0_row0\" class=\"row_heading level0 row0\" >Loss on Ignition</th>\n",
       "      <td id=\"T_5b05b_row0_col0\" class=\"data row0 col0\" >0.340136</td>\n",
       "    </tr>\n",
       "    <tr>\n",
       "      <th id=\"T_5b05b_level0_row1\" class=\"row_heading level0 row1\" >Insoluble Residue</th>\n",
       "      <td id=\"T_5b05b_row1_col0\" class=\"data row1 col0\" >0.340136</td>\n",
       "    </tr>\n",
       "    <tr>\n",
       "      <th id=\"T_5b05b_level0_row2\" class=\"row_heading level0 row2\" >CS28</th>\n",
       "      <td id=\"T_5b05b_row2_col0\" class=\"data row2 col0\" >0.000000</td>\n",
       "    </tr>\n",
       "    <tr>\n",
       "      <th id=\"T_5b05b_level0_row3\" class=\"row_heading level0 row3\" >CS7</th>\n",
       "      <td id=\"T_5b05b_row3_col0\" class=\"data row3 col0\" >0.000000</td>\n",
       "    </tr>\n",
       "    <tr>\n",
       "      <th id=\"T_5b05b_level0_row4\" class=\"row_heading level0 row4\" >CS3</th>\n",
       "      <td id=\"T_5b05b_row4_col0\" class=\"data row4 col0\" >0.000000</td>\n",
       "    </tr>\n",
       "    <tr>\n",
       "      <th id=\"T_5b05b_level0_row5\" class=\"row_heading level0 row5\" >Final setting time</th>\n",
       "      <td id=\"T_5b05b_row5_col0\" class=\"data row5 col0\" >0.000000</td>\n",
       "    </tr>\n",
       "    <tr>\n",
       "      <th id=\"T_5b05b_level0_row6\" class=\"row_heading level0 row6\" >Initial setting time</th>\n",
       "      <td id=\"T_5b05b_row6_col0\" class=\"data row6 col0\" >0.000000</td>\n",
       "    </tr>\n",
       "    <tr>\n",
       "      <th id=\"T_5b05b_level0_row7\" class=\"row_heading level0 row7\" >#400</th>\n",
       "      <td id=\"T_5b05b_row7_col0\" class=\"data row7 col0\" >0.000000</td>\n",
       "    </tr>\n",
       "    <tr>\n",
       "      <th id=\"T_5b05b_level0_row8\" class=\"row_heading level0 row8\" >#325</th>\n",
       "      <td id=\"T_5b05b_row8_col0\" class=\"data row8 col0\" >0.000000</td>\n",
       "    </tr>\n",
       "    <tr>\n",
       "      <th id=\"T_5b05b_level0_row9\" class=\"row_heading level0 row9\" >Blaine</th>\n",
       "      <td id=\"T_5b05b_row9_col0\" class=\"data row9 col0\" >0.000000</td>\n",
       "    </tr>\n",
       "    <tr>\n",
       "      <th id=\"T_5b05b_level0_row10\" class=\"row_heading level0 row10\" >Date</th>\n",
       "      <td id=\"T_5b05b_row10_col0\" class=\"data row10 col0\" >0.000000</td>\n",
       "    </tr>\n",
       "    <tr>\n",
       "      <th id=\"T_5b05b_level0_row11\" class=\"row_heading level0 row11\" >CaO</th>\n",
       "      <td id=\"T_5b05b_row11_col0\" class=\"data row11 col0\" >0.000000</td>\n",
       "    </tr>\n",
       "    <tr>\n",
       "      <th id=\"T_5b05b_level0_row12\" class=\"row_heading level0 row12\" >Fe2O3</th>\n",
       "      <td id=\"T_5b05b_row12_col0\" class=\"data row12 col0\" >0.000000</td>\n",
       "    </tr>\n",
       "    <tr>\n",
       "      <th id=\"T_5b05b_level0_row13\" class=\"row_heading level0 row13\" >TiO2</th>\n",
       "      <td id=\"T_5b05b_row13_col0\" class=\"data row13 col0\" >0.000000</td>\n",
       "    </tr>\n",
       "    <tr>\n",
       "      <th id=\"T_5b05b_level0_row14\" class=\"row_heading level0 row14\" >K2O</th>\n",
       "      <td id=\"T_5b05b_row14_col0\" class=\"data row14 col0\" >0.000000</td>\n",
       "    </tr>\n",
       "    <tr>\n",
       "      <th id=\"T_5b05b_level0_row15\" class=\"row_heading level0 row15\" >SO3</th>\n",
       "      <td id=\"T_5b05b_row15_col0\" class=\"data row15 col0\" >0.000000</td>\n",
       "    </tr>\n",
       "    <tr>\n",
       "      <th id=\"T_5b05b_level0_row16\" class=\"row_heading level0 row16\" >SiO2</th>\n",
       "      <td id=\"T_5b05b_row16_col0\" class=\"data row16 col0\" >0.000000</td>\n",
       "    </tr>\n",
       "    <tr>\n",
       "      <th id=\"T_5b05b_level0_row17\" class=\"row_heading level0 row17\" >Al2O3</th>\n",
       "      <td id=\"T_5b05b_row17_col0\" class=\"data row17 col0\" >0.000000</td>\n",
       "    </tr>\n",
       "    <tr>\n",
       "      <th id=\"T_5b05b_level0_row18\" class=\"row_heading level0 row18\" >Na2O</th>\n",
       "      <td id=\"T_5b05b_row18_col0\" class=\"data row18 col0\" >0.000000</td>\n",
       "    </tr>\n",
       "    <tr>\n",
       "      <th id=\"T_5b05b_level0_row19\" class=\"row_heading level0 row19\" >MgO</th>\n",
       "      <td id=\"T_5b05b_row19_col0\" class=\"data row19 col0\" >0.000000</td>\n",
       "    </tr>\n",
       "    <tr>\n",
       "      <th id=\"T_5b05b_level0_row20\" class=\"row_heading level0 row20\" >Cement_Type</th>\n",
       "      <td id=\"T_5b05b_row20_col0\" class=\"data row20 col0\" >0.000000</td>\n",
       "    </tr>\n",
       "  </tbody>\n",
       "</table>\n"
      ],
      "text/plain": [
       "<pandas.io.formats.style.Styler at 0x7fa9942695d0>"
      ]
     },
     "execution_count": 34,
     "metadata": {},
     "output_type": "execute_result"
    },
    {
     "data": {
      "application/javascript": [
       "\n",
       "            setTimeout(function() {\n",
       "                var nbb_cell_id = 34;\n",
       "                var nbb_unformatted_code = \"(df.isna().sum() / df.shape[0] * 100).sort_values(ascending=False).to_frame(\\n    name=\\\"Missing (%)\\\"\\n).style.background_gradient(cmap=\\\"Reds\\\")\";\n",
       "                var nbb_formatted_code = \"(df.isna().sum() / df.shape[0] * 100).sort_values(ascending=False).to_frame(\\n    name=\\\"Missing (%)\\\"\\n).style.background_gradient(cmap=\\\"Reds\\\")\";\n",
       "                var nbb_cells = Jupyter.notebook.get_cells();\n",
       "                for (var i = 0; i < nbb_cells.length; ++i) {\n",
       "                    if (nbb_cells[i].input_prompt_number == nbb_cell_id) {\n",
       "                        if (nbb_cells[i].get_text() == nbb_unformatted_code) {\n",
       "                             nbb_cells[i].set_text(nbb_formatted_code);\n",
       "                        }\n",
       "                        break;\n",
       "                    }\n",
       "                }\n",
       "            }, 500);\n",
       "            "
      ],
      "text/plain": [
       "<IPython.core.display.Javascript object>"
      ]
     },
     "metadata": {},
     "output_type": "display_data"
    }
   ],
   "source": [
    "(df.isna().sum() / df.shape[0] * 100).sort_values(ascending=False).to_frame(\n",
    "    name=\"Missing (%)\"\n",
    ").style.background_gradient(cmap=\"Reds\")"
   ]
  },
  {
   "cell_type": "code",
   "execution_count": 35,
   "id": "12fef81f",
   "metadata": {},
   "outputs": [
    {
     "data": {
      "text/html": [
       "<div>\n",
       "<style scoped>\n",
       "    .dataframe tbody tr th:only-of-type {\n",
       "        vertical-align: middle;\n",
       "    }\n",
       "\n",
       "    .dataframe tbody tr th {\n",
       "        vertical-align: top;\n",
       "    }\n",
       "\n",
       "    .dataframe thead th {\n",
       "        text-align: right;\n",
       "    }\n",
       "</style>\n",
       "<table border=\"1\" class=\"dataframe\">\n",
       "  <thead>\n",
       "    <tr style=\"text-align: right;\">\n",
       "      <th></th>\n",
       "      <th>count</th>\n",
       "      <th>mean</th>\n",
       "      <th>min</th>\n",
       "      <th>25%</th>\n",
       "      <th>50%</th>\n",
       "      <th>75%</th>\n",
       "      <th>max</th>\n",
       "      <th>std</th>\n",
       "    </tr>\n",
       "  </thead>\n",
       "  <tbody>\n",
       "    <tr>\n",
       "      <th>Date</th>\n",
       "      <td>294</td>\n",
       "      <td>2022-02-28 08:48:58.775510272</td>\n",
       "      <td>2021-01-07 00:00:00</td>\n",
       "      <td>2021-07-29 12:00:00</td>\n",
       "      <td>2022-02-27 12:00:00</td>\n",
       "      <td>2022-09-27 18:00:00</td>\n",
       "      <td>2023-05-02 00:00:00</td>\n",
       "      <td>NaN</td>\n",
       "    </tr>\n",
       "    <tr>\n",
       "      <th>CaO</th>\n",
       "      <td>294.0</td>\n",
       "      <td>59.932672</td>\n",
       "      <td>57.82</td>\n",
       "      <td>59.4325</td>\n",
       "      <td>60.08</td>\n",
       "      <td>60.4875</td>\n",
       "      <td>61.96</td>\n",
       "      <td>0.821701</td>\n",
       "    </tr>\n",
       "    <tr>\n",
       "      <th>MgO</th>\n",
       "      <td>294.0</td>\n",
       "      <td>5.298232</td>\n",
       "      <td>4.12</td>\n",
       "      <td>5.03</td>\n",
       "      <td>5.33</td>\n",
       "      <td>5.58</td>\n",
       "      <td>6.18</td>\n",
       "      <td>0.399083</td>\n",
       "    </tr>\n",
       "    <tr>\n",
       "      <th>Na2O</th>\n",
       "      <td>294.0</td>\n",
       "      <td>0.056483</td>\n",
       "      <td>0.02</td>\n",
       "      <td>0.04</td>\n",
       "      <td>0.05</td>\n",
       "      <td>0.07</td>\n",
       "      <td>0.16</td>\n",
       "      <td>0.028214</td>\n",
       "    </tr>\n",
       "    <tr>\n",
       "      <th>Al2O3</th>\n",
       "      <td>294.0</td>\n",
       "      <td>4.355249</td>\n",
       "      <td>3.88</td>\n",
       "      <td>4.26</td>\n",
       "      <td>4.36</td>\n",
       "      <td>4.43</td>\n",
       "      <td>5.03</td>\n",
       "      <td>0.150082</td>\n",
       "    </tr>\n",
       "    <tr>\n",
       "      <th>SiO2</th>\n",
       "      <td>294.0</td>\n",
       "      <td>17.850076</td>\n",
       "      <td>15.85</td>\n",
       "      <td>17.31</td>\n",
       "      <td>17.865</td>\n",
       "      <td>18.325</td>\n",
       "      <td>20.79</td>\n",
       "      <td>0.759</td>\n",
       "    </tr>\n",
       "    <tr>\n",
       "      <th>SO3</th>\n",
       "      <td>294.0</td>\n",
       "      <td>3.369922</td>\n",
       "      <td>2.61</td>\n",
       "      <td>3.18</td>\n",
       "      <td>3.35</td>\n",
       "      <td>3.55</td>\n",
       "      <td>4.18</td>\n",
       "      <td>0.261153</td>\n",
       "    </tr>\n",
       "    <tr>\n",
       "      <th>K2O</th>\n",
       "      <td>294.0</td>\n",
       "      <td>0.897766</td>\n",
       "      <td>0.74</td>\n",
       "      <td>0.8</td>\n",
       "      <td>0.9</td>\n",
       "      <td>0.97</td>\n",
       "      <td>1.16</td>\n",
       "      <td>0.10586</td>\n",
       "    </tr>\n",
       "    <tr>\n",
       "      <th>TiO2</th>\n",
       "      <td>294.0</td>\n",
       "      <td>0.214883</td>\n",
       "      <td>0.19</td>\n",
       "      <td>0.21</td>\n",
       "      <td>0.22</td>\n",
       "      <td>0.22</td>\n",
       "      <td>0.23</td>\n",
       "      <td>0.008169</td>\n",
       "    </tr>\n",
       "    <tr>\n",
       "      <th>Fe2O3</th>\n",
       "      <td>294.0</td>\n",
       "      <td>2.579959</td>\n",
       "      <td>2.32</td>\n",
       "      <td>2.5</td>\n",
       "      <td>2.58</td>\n",
       "      <td>2.63</td>\n",
       "      <td>3.09</td>\n",
       "      <td>0.115795</td>\n",
       "    </tr>\n",
       "    <tr>\n",
       "      <th>Loss on Ignition</th>\n",
       "      <td>293.0</td>\n",
       "      <td>5.922014</td>\n",
       "      <td>4.06</td>\n",
       "      <td>5.67</td>\n",
       "      <td>5.98</td>\n",
       "      <td>6.21</td>\n",
       "      <td>7.19</td>\n",
       "      <td>0.459217</td>\n",
       "    </tr>\n",
       "    <tr>\n",
       "      <th>Insoluble Residue</th>\n",
       "      <td>293.0</td>\n",
       "      <td>1.392218</td>\n",
       "      <td>0.31</td>\n",
       "      <td>1.07</td>\n",
       "      <td>1.38</td>\n",
       "      <td>1.64</td>\n",
       "      <td>2.89</td>\n",
       "      <td>0.457161</td>\n",
       "    </tr>\n",
       "    <tr>\n",
       "      <th>Blaine</th>\n",
       "      <td>294.0</td>\n",
       "      <td>4905.918367</td>\n",
       "      <td>4450.0</td>\n",
       "      <td>4800.0</td>\n",
       "      <td>4890.0</td>\n",
       "      <td>5000.0</td>\n",
       "      <td>5420.0</td>\n",
       "      <td>155.476829</td>\n",
       "    </tr>\n",
       "    <tr>\n",
       "      <th>#325</th>\n",
       "      <td>294.0</td>\n",
       "      <td>0.619524</td>\n",
       "      <td>0.07</td>\n",
       "      <td>0.42</td>\n",
       "      <td>0.61</td>\n",
       "      <td>0.81</td>\n",
       "      <td>1.58</td>\n",
       "      <td>0.290485</td>\n",
       "    </tr>\n",
       "    <tr>\n",
       "      <th>#400</th>\n",
       "      <td>294.0</td>\n",
       "      <td>2.320578</td>\n",
       "      <td>0.37</td>\n",
       "      <td>1.89</td>\n",
       "      <td>2.285</td>\n",
       "      <td>2.7</td>\n",
       "      <td>5.5</td>\n",
       "      <td>0.67798</td>\n",
       "    </tr>\n",
       "    <tr>\n",
       "      <th>Initial setting time</th>\n",
       "      <td>294.0</td>\n",
       "      <td>239.846939</td>\n",
       "      <td>180.0</td>\n",
       "      <td>230.0</td>\n",
       "      <td>240.0</td>\n",
       "      <td>250.0</td>\n",
       "      <td>295.0</td>\n",
       "      <td>18.517413</td>\n",
       "    </tr>\n",
       "    <tr>\n",
       "      <th>Final setting time</th>\n",
       "      <td>294.0</td>\n",
       "      <td>294.088435</td>\n",
       "      <td>220.0</td>\n",
       "      <td>280.0</td>\n",
       "      <td>295.0</td>\n",
       "      <td>310.0</td>\n",
       "      <td>360.0</td>\n",
       "      <td>22.92663</td>\n",
       "    </tr>\n",
       "    <tr>\n",
       "      <th>CS3</th>\n",
       "      <td>294.0</td>\n",
       "      <td>37.259184</td>\n",
       "      <td>32.9</td>\n",
       "      <td>36.2</td>\n",
       "      <td>37.15</td>\n",
       "      <td>38.375</td>\n",
       "      <td>40.9</td>\n",
       "      <td>1.520811</td>\n",
       "    </tr>\n",
       "    <tr>\n",
       "      <th>CS7</th>\n",
       "      <td>294.0</td>\n",
       "      <td>41.742517</td>\n",
       "      <td>36.6</td>\n",
       "      <td>40.4</td>\n",
       "      <td>41.6</td>\n",
       "      <td>42.975</td>\n",
       "      <td>46.2</td>\n",
       "      <td>1.713745</td>\n",
       "    </tr>\n",
       "    <tr>\n",
       "      <th>CS28</th>\n",
       "      <td>294.0</td>\n",
       "      <td>49.016327</td>\n",
       "      <td>43.7</td>\n",
       "      <td>47.6</td>\n",
       "      <td>48.95</td>\n",
       "      <td>50.375</td>\n",
       "      <td>54.2</td>\n",
       "      <td>1.9072</td>\n",
       "    </tr>\n",
       "  </tbody>\n",
       "</table>\n",
       "</div>"
      ],
      "text/plain": [
       "                      count                           mean  \\\n",
       "Date                    294  2022-02-28 08:48:58.775510272   \n",
       "CaO                   294.0                      59.932672   \n",
       "MgO                   294.0                       5.298232   \n",
       "Na2O                  294.0                       0.056483   \n",
       "Al2O3                 294.0                       4.355249   \n",
       "SiO2                  294.0                      17.850076   \n",
       "SO3                   294.0                       3.369922   \n",
       "K2O                   294.0                       0.897766   \n",
       "TiO2                  294.0                       0.214883   \n",
       "Fe2O3                 294.0                       2.579959   \n",
       "Loss on Ignition      293.0                       5.922014   \n",
       "Insoluble Residue     293.0                       1.392218   \n",
       "Blaine                294.0                    4905.918367   \n",
       "#325                  294.0                       0.619524   \n",
       "#400                  294.0                       2.320578   \n",
       "Initial setting time  294.0                     239.846939   \n",
       "Final setting time    294.0                     294.088435   \n",
       "CS3                   294.0                      37.259184   \n",
       "CS7                   294.0                      41.742517   \n",
       "CS28                  294.0                      49.016327   \n",
       "\n",
       "                                      min                  25%  \\\n",
       "Date                  2021-01-07 00:00:00  2021-07-29 12:00:00   \n",
       "CaO                                 57.82              59.4325   \n",
       "MgO                                  4.12                 5.03   \n",
       "Na2O                                 0.02                 0.04   \n",
       "Al2O3                                3.88                 4.26   \n",
       "SiO2                                15.85                17.31   \n",
       "SO3                                  2.61                 3.18   \n",
       "K2O                                  0.74                  0.8   \n",
       "TiO2                                 0.19                 0.21   \n",
       "Fe2O3                                2.32                  2.5   \n",
       "Loss on Ignition                     4.06                 5.67   \n",
       "Insoluble Residue                    0.31                 1.07   \n",
       "Blaine                             4450.0               4800.0   \n",
       "#325                                 0.07                 0.42   \n",
       "#400                                 0.37                 1.89   \n",
       "Initial setting time                180.0                230.0   \n",
       "Final setting time                  220.0                280.0   \n",
       "CS3                                  32.9                 36.2   \n",
       "CS7                                  36.6                 40.4   \n",
       "CS28                                 43.7                 47.6   \n",
       "\n",
       "                                      50%                  75%  \\\n",
       "Date                  2022-02-27 12:00:00  2022-09-27 18:00:00   \n",
       "CaO                                 60.08              60.4875   \n",
       "MgO                                  5.33                 5.58   \n",
       "Na2O                                 0.05                 0.07   \n",
       "Al2O3                                4.36                 4.43   \n",
       "SiO2                               17.865               18.325   \n",
       "SO3                                  3.35                 3.55   \n",
       "K2O                                   0.9                 0.97   \n",
       "TiO2                                 0.22                 0.22   \n",
       "Fe2O3                                2.58                 2.63   \n",
       "Loss on Ignition                     5.98                 6.21   \n",
       "Insoluble Residue                    1.38                 1.64   \n",
       "Blaine                             4890.0               5000.0   \n",
       "#325                                 0.61                 0.81   \n",
       "#400                                2.285                  2.7   \n",
       "Initial setting time                240.0                250.0   \n",
       "Final setting time                  295.0                310.0   \n",
       "CS3                                 37.15               38.375   \n",
       "CS7                                  41.6               42.975   \n",
       "CS28                                48.95               50.375   \n",
       "\n",
       "                                      max         std  \n",
       "Date                  2023-05-02 00:00:00         NaN  \n",
       "CaO                                 61.96    0.821701  \n",
       "MgO                                  6.18    0.399083  \n",
       "Na2O                                 0.16    0.028214  \n",
       "Al2O3                                5.03    0.150082  \n",
       "SiO2                                20.79       0.759  \n",
       "SO3                                  4.18    0.261153  \n",
       "K2O                                  1.16     0.10586  \n",
       "TiO2                                 0.23    0.008169  \n",
       "Fe2O3                                3.09    0.115795  \n",
       "Loss on Ignition                     7.19    0.459217  \n",
       "Insoluble Residue                    2.89    0.457161  \n",
       "Blaine                             5420.0  155.476829  \n",
       "#325                                 1.58    0.290485  \n",
       "#400                                  5.5     0.67798  \n",
       "Initial setting time                295.0   18.517413  \n",
       "Final setting time                  360.0    22.92663  \n",
       "CS3                                  40.9    1.520811  \n",
       "CS7                                  46.2    1.713745  \n",
       "CS28                                 54.2      1.9072  "
      ]
     },
     "execution_count": 35,
     "metadata": {},
     "output_type": "execute_result"
    },
    {
     "data": {
      "application/javascript": [
       "\n",
       "            setTimeout(function() {\n",
       "                var nbb_cell_id = 35;\n",
       "                var nbb_unformatted_code = \"df.describe().T\";\n",
       "                var nbb_formatted_code = \"df.describe().T\";\n",
       "                var nbb_cells = Jupyter.notebook.get_cells();\n",
       "                for (var i = 0; i < nbb_cells.length; ++i) {\n",
       "                    if (nbb_cells[i].input_prompt_number == nbb_cell_id) {\n",
       "                        if (nbb_cells[i].get_text() == nbb_unformatted_code) {\n",
       "                             nbb_cells[i].set_text(nbb_formatted_code);\n",
       "                        }\n",
       "                        break;\n",
       "                    }\n",
       "                }\n",
       "            }, 500);\n",
       "            "
      ],
      "text/plain": [
       "<IPython.core.display.Javascript object>"
      ]
     },
     "metadata": {},
     "output_type": "display_data"
    }
   ],
   "source": [
    "df.describe().T"
   ]
  },
  {
   "cell_type": "code",
   "execution_count": 36,
   "id": "e6e3f8eb",
   "metadata": {},
   "outputs": [
    {
     "data": {
      "text/html": [
       "<div>\n",
       "<style scoped>\n",
       "    .dataframe tbody tr th:only-of-type {\n",
       "        vertical-align: middle;\n",
       "    }\n",
       "\n",
       "    .dataframe tbody tr th {\n",
       "        vertical-align: top;\n",
       "    }\n",
       "\n",
       "    .dataframe thead th {\n",
       "        text-align: right;\n",
       "    }\n",
       "</style>\n",
       "<table border=\"1\" class=\"dataframe\">\n",
       "  <thead>\n",
       "    <tr style=\"text-align: right;\">\n",
       "      <th></th>\n",
       "      <th>count</th>\n",
       "      <th>unique</th>\n",
       "      <th>top</th>\n",
       "      <th>freq</th>\n",
       "      <th>mean</th>\n",
       "      <th>min</th>\n",
       "      <th>25%</th>\n",
       "      <th>50%</th>\n",
       "      <th>75%</th>\n",
       "      <th>max</th>\n",
       "    </tr>\n",
       "  </thead>\n",
       "  <tbody>\n",
       "    <tr>\n",
       "      <th>Date</th>\n",
       "      <td>294</td>\n",
       "      <td>NaN</td>\n",
       "      <td>NaN</td>\n",
       "      <td>NaN</td>\n",
       "      <td>2022-02-28 08:48:58.775510272</td>\n",
       "      <td>2021-01-07 00:00:00</td>\n",
       "      <td>2021-07-29 12:00:00</td>\n",
       "      <td>2022-02-27 12:00:00</td>\n",
       "      <td>2022-09-27 18:00:00</td>\n",
       "      <td>2023-05-02 00:00:00</td>\n",
       "    </tr>\n",
       "    <tr>\n",
       "      <th>Cement_Type</th>\n",
       "      <td>294</td>\n",
       "      <td>1</td>\n",
       "      <td>CP II-F-40</td>\n",
       "      <td>294</td>\n",
       "      <td>NaN</td>\n",
       "      <td>NaN</td>\n",
       "      <td>NaN</td>\n",
       "      <td>NaN</td>\n",
       "      <td>NaN</td>\n",
       "      <td>NaN</td>\n",
       "    </tr>\n",
       "  </tbody>\n",
       "</table>\n",
       "</div>"
      ],
      "text/plain": [
       "            count unique         top freq                           mean  \\\n",
       "Date          294    NaN         NaN  NaN  2022-02-28 08:48:58.775510272   \n",
       "Cement_Type   294      1  CP II-F-40  294                            NaN   \n",
       "\n",
       "                             min                  25%                  50%  \\\n",
       "Date         2021-01-07 00:00:00  2021-07-29 12:00:00  2022-02-27 12:00:00   \n",
       "Cement_Type                  NaN                  NaN                  NaN   \n",
       "\n",
       "                             75%                  max  \n",
       "Date         2022-09-27 18:00:00  2023-05-02 00:00:00  \n",
       "Cement_Type                  NaN                  NaN  "
      ]
     },
     "execution_count": 36,
     "metadata": {},
     "output_type": "execute_result"
    },
    {
     "data": {
      "application/javascript": [
       "\n",
       "            setTimeout(function() {\n",
       "                var nbb_cell_id = 36;\n",
       "                var nbb_unformatted_code = \"df.describe(exclude=\\\"number\\\").T\";\n",
       "                var nbb_formatted_code = \"df.describe(exclude=\\\"number\\\").T\";\n",
       "                var nbb_cells = Jupyter.notebook.get_cells();\n",
       "                for (var i = 0; i < nbb_cells.length; ++i) {\n",
       "                    if (nbb_cells[i].input_prompt_number == nbb_cell_id) {\n",
       "                        if (nbb_cells[i].get_text() == nbb_unformatted_code) {\n",
       "                             nbb_cells[i].set_text(nbb_formatted_code);\n",
       "                        }\n",
       "                        break;\n",
       "                    }\n",
       "                }\n",
       "            }, 500);\n",
       "            "
      ],
      "text/plain": [
       "<IPython.core.display.Javascript object>"
      ]
     },
     "metadata": {},
     "output_type": "display_data"
    }
   ],
   "source": [
    "df.describe(exclude=\"number\").T"
   ]
  },
  {
   "cell_type": "code",
   "execution_count": 37,
   "id": "8a781c6e",
   "metadata": {},
   "outputs": [
    {
     "name": "stdout",
     "output_type": "stream",
     "text": [
      "<class 'pandas.core.frame.DataFrame'>\n",
      "Index: 294 entries, 0 to 323\n",
      "Data columns (total 21 columns):\n",
      " #   Column                Non-Null Count  Dtype         \n",
      "---  ------                --------------  -----         \n",
      " 0   Date                  294 non-null    datetime64[ns]\n",
      " 1   CaO                   294 non-null    float64       \n",
      " 2   MgO                   294 non-null    float64       \n",
      " 3   Na2O                  294 non-null    float64       \n",
      " 4   Al2O3                 294 non-null    float64       \n",
      " 5   SiO2                  294 non-null    float64       \n",
      " 6   SO3                   294 non-null    float64       \n",
      " 7   K2O                   294 non-null    float64       \n",
      " 8   TiO2                  294 non-null    float64       \n",
      " 9   Fe2O3                 294 non-null    float64       \n",
      " 10  Loss on Ignition      293 non-null    float64       \n",
      " 11  Insoluble Residue     293 non-null    float64       \n",
      " 12  Blaine                294 non-null    float64       \n",
      " 13  #325                  294 non-null    float64       \n",
      " 14  #400                  294 non-null    float64       \n",
      " 15  Initial setting time  294 non-null    float64       \n",
      " 16  Final setting time    294 non-null    float64       \n",
      " 17  CS3                   294 non-null    float64       \n",
      " 18  CS7                   294 non-null    float64       \n",
      " 19  CS28                  294 non-null    float64       \n",
      " 20  Cement_Type           294 non-null    object        \n",
      "dtypes: datetime64[ns](1), float64(19), object(1)\n",
      "memory usage: 50.5+ KB\n"
     ]
    },
    {
     "data": {
      "application/javascript": [
       "\n",
       "            setTimeout(function() {\n",
       "                var nbb_cell_id = 37;\n",
       "                var nbb_unformatted_code = \"df.info()\";\n",
       "                var nbb_formatted_code = \"df.info()\";\n",
       "                var nbb_cells = Jupyter.notebook.get_cells();\n",
       "                for (var i = 0; i < nbb_cells.length; ++i) {\n",
       "                    if (nbb_cells[i].input_prompt_number == nbb_cell_id) {\n",
       "                        if (nbb_cells[i].get_text() == nbb_unformatted_code) {\n",
       "                             nbb_cells[i].set_text(nbb_formatted_code);\n",
       "                        }\n",
       "                        break;\n",
       "                    }\n",
       "                }\n",
       "            }, 500);\n",
       "            "
      ],
      "text/plain": [
       "<IPython.core.display.Javascript object>"
      ]
     },
     "metadata": {},
     "output_type": "display_data"
    }
   ],
   "source": [
    "df.info()"
   ]
  },
  {
   "cell_type": "markdown",
   "id": "6d769c2f",
   "metadata": {},
   "source": [
    "### Sort the dataset by date"
   ]
  },
  {
   "cell_type": "code",
   "execution_count": 38,
   "id": "b44c21a6",
   "metadata": {},
   "outputs": [
    {
     "data": {
      "text/plain": [
       "dtype('<M8[ns]')"
      ]
     },
     "execution_count": 38,
     "metadata": {},
     "output_type": "execute_result"
    },
    {
     "data": {
      "application/javascript": [
       "\n",
       "            setTimeout(function() {\n",
       "                var nbb_cell_id = 38;\n",
       "                var nbb_unformatted_code = \"# We first make sure Date column was infered correctly\\ndf[\\\"Date\\\"].dtype\";\n",
       "                var nbb_formatted_code = \"# We first make sure Date column was infered correctly\\ndf[\\\"Date\\\"].dtype\";\n",
       "                var nbb_cells = Jupyter.notebook.get_cells();\n",
       "                for (var i = 0; i < nbb_cells.length; ++i) {\n",
       "                    if (nbb_cells[i].input_prompt_number == nbb_cell_id) {\n",
       "                        if (nbb_cells[i].get_text() == nbb_unformatted_code) {\n",
       "                             nbb_cells[i].set_text(nbb_formatted_code);\n",
       "                        }\n",
       "                        break;\n",
       "                    }\n",
       "                }\n",
       "            }, 500);\n",
       "            "
      ],
      "text/plain": [
       "<IPython.core.display.Javascript object>"
      ]
     },
     "metadata": {},
     "output_type": "display_data"
    }
   ],
   "source": [
    "# We first make sure Date column was infered correctly\n",
    "df[\"Date\"].dtype"
   ]
  },
  {
   "cell_type": "code",
   "execution_count": 39,
   "id": "5c5039e2",
   "metadata": {},
   "outputs": [
    {
     "data": {
      "application/javascript": [
       "\n",
       "            setTimeout(function() {\n",
       "                var nbb_cell_id = 39;\n",
       "                var nbb_unformatted_code = \"df = df.sort_values(by=\\\"Date\\\")\";\n",
       "                var nbb_formatted_code = \"df = df.sort_values(by=\\\"Date\\\")\";\n",
       "                var nbb_cells = Jupyter.notebook.get_cells();\n",
       "                for (var i = 0; i < nbb_cells.length; ++i) {\n",
       "                    if (nbb_cells[i].input_prompt_number == nbb_cell_id) {\n",
       "                        if (nbb_cells[i].get_text() == nbb_unformatted_code) {\n",
       "                             nbb_cells[i].set_text(nbb_formatted_code);\n",
       "                        }\n",
       "                        break;\n",
       "                    }\n",
       "                }\n",
       "            }, 500);\n",
       "            "
      ],
      "text/plain": [
       "<IPython.core.display.Javascript object>"
      ]
     },
     "metadata": {},
     "output_type": "display_data"
    }
   ],
   "source": [
    "df = df.sort_values(by=\"Date\")"
   ]
  },
  {
   "cell_type": "markdown",
   "id": "22e0657a",
   "metadata": {},
   "source": [
    "## Saving the dataset"
   ]
  },
  {
   "cell_type": "markdown",
   "id": "b60e3c79",
   "metadata": {},
   "source": [
    "<h3>Saving for feature engineering</h3>"
   ]
  },
  {
   "cell_type": "code",
   "execution_count": 40,
   "id": "a8a88fcd",
   "metadata": {},
   "outputs": [
    {
     "data": {
      "application/javascript": [
       "\n",
       "            setTimeout(function() {\n",
       "                var nbb_cell_id = 40;\n",
       "                var nbb_unformatted_code = \"df.to_csv(\\\"../../../data/interim/209/p.csv\\\", index=False)\";\n",
       "                var nbb_formatted_code = \"df.to_csv(\\\"../../../data/interim/209/p.csv\\\", index=False)\";\n",
       "                var nbb_cells = Jupyter.notebook.get_cells();\n",
       "                for (var i = 0; i < nbb_cells.length; ++i) {\n",
       "                    if (nbb_cells[i].input_prompt_number == nbb_cell_id) {\n",
       "                        if (nbb_cells[i].get_text() == nbb_unformatted_code) {\n",
       "                             nbb_cells[i].set_text(nbb_formatted_code);\n",
       "                        }\n",
       "                        break;\n",
       "                    }\n",
       "                }\n",
       "            }, 500);\n",
       "            "
      ],
      "text/plain": [
       "<IPython.core.display.Javascript object>"
      ]
     },
     "metadata": {},
     "output_type": "display_data"
    }
   ],
   "source": [
    "df.to_csv(\"../../../data/interim/209/p.csv\", index=False)"
   ]
  },
  {
   "cell_type": "code",
   "execution_count": null,
   "id": "c55f01f4",
   "metadata": {},
   "outputs": [],
   "source": []
  }
 ],
 "metadata": {
  "kernelspec": {
   "display_name": "ccs28-venv",
   "language": "python",
   "name": "ccs28-venv"
  },
  "language_info": {
   "codemirror_mode": {
    "name": "ipython",
    "version": 3
   },
   "file_extension": ".py",
   "mimetype": "text/x-python",
   "name": "python",
   "nbconvert_exporter": "python",
   "pygments_lexer": "ipython3",
   "version": "3.10.12"
  }
 },
 "nbformat": 4,
 "nbformat_minor": 5
}
