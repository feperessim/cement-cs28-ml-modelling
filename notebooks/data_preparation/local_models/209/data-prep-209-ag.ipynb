{
 "cells": [
  {
   "cell_type": "code",
   "execution_count": 1,
   "id": "00f7471a",
   "metadata": {},
   "outputs": [
    {
     "data": {
      "application/javascript": [
       "\n",
       "            setTimeout(function() {\n",
       "                var nbb_cell_id = 1;\n",
       "                var nbb_unformatted_code = \"%load_ext nb_black\";\n",
       "                var nbb_formatted_code = \"%load_ext nb_black\";\n",
       "                var nbb_cells = Jupyter.notebook.get_cells();\n",
       "                for (var i = 0; i < nbb_cells.length; ++i) {\n",
       "                    if (nbb_cells[i].input_prompt_number == nbb_cell_id) {\n",
       "                        if (nbb_cells[i].get_text() == nbb_unformatted_code) {\n",
       "                             nbb_cells[i].set_text(nbb_formatted_code);\n",
       "                        }\n",
       "                        break;\n",
       "                    }\n",
       "                }\n",
       "            }, 500);\n",
       "            "
      ],
      "text/plain": [
       "<IPython.core.display.Javascript object>"
      ]
     },
     "metadata": {},
     "output_type": "display_data"
    }
   ],
   "source": [
    "%load_ext nb_black"
   ]
  },
  {
   "cell_type": "code",
   "execution_count": 2,
   "id": "17ba98f5",
   "metadata": {},
   "outputs": [
    {
     "data": {
      "application/javascript": [
       "\n",
       "            setTimeout(function() {\n",
       "                var nbb_cell_id = 2;\n",
       "                var nbb_unformatted_code = \"import pandas as pd\\nimport numpy as np\\nimport matplotlib.pyplot as plt\\nimport seaborn as sns\\nimport warnings\\n\\nfrom scipy.stats import pearsonr\\nfrom collections import Counter\";\n",
       "                var nbb_formatted_code = \"import pandas as pd\\nimport numpy as np\\nimport matplotlib.pyplot as plt\\nimport seaborn as sns\\nimport warnings\\n\\nfrom scipy.stats import pearsonr\\nfrom collections import Counter\";\n",
       "                var nbb_cells = Jupyter.notebook.get_cells();\n",
       "                for (var i = 0; i < nbb_cells.length; ++i) {\n",
       "                    if (nbb_cells[i].input_prompt_number == nbb_cell_id) {\n",
       "                        if (nbb_cells[i].get_text() == nbb_unformatted_code) {\n",
       "                             nbb_cells[i].set_text(nbb_formatted_code);\n",
       "                        }\n",
       "                        break;\n",
       "                    }\n",
       "                }\n",
       "            }, 500);\n",
       "            "
      ],
      "text/plain": [
       "<IPython.core.display.Javascript object>"
      ]
     },
     "metadata": {},
     "output_type": "display_data"
    }
   ],
   "source": [
    "import pandas as pd\n",
    "import numpy as np\n",
    "import matplotlib.pyplot as plt\n",
    "import seaborn as sns\n",
    "import warnings\n",
    "\n",
    "from scipy.stats import pearsonr\n",
    "from collections import Counter"
   ]
  },
  {
   "cell_type": "code",
   "execution_count": 3,
   "id": "ad81bb3a",
   "metadata": {},
   "outputs": [
    {
     "data": {
      "application/javascript": [
       "\n",
       "            setTimeout(function() {\n",
       "                var nbb_cell_id = 3;\n",
       "                var nbb_unformatted_code = \"def convert_to_float(value):\\n    try:\\n        # If it's a string enclosed in single quotes, remove quotes and replace comma with dot\\n        if isinstance(value, str):\\n            return float(value.replace(\\\",\\\", \\\".\\\"))\\n        else:\\n            return float(value)\\n    except ValueError as e:\\n        print(e)\\n        return float(\\\"nan\\\")\";\n",
       "                var nbb_formatted_code = \"def convert_to_float(value):\\n    try:\\n        # If it's a string enclosed in single quotes, remove quotes and replace comma with dot\\n        if isinstance(value, str):\\n            return float(value.replace(\\\",\\\", \\\".\\\"))\\n        else:\\n            return float(value)\\n    except ValueError as e:\\n        print(e)\\n        return float(\\\"nan\\\")\";\n",
       "                var nbb_cells = Jupyter.notebook.get_cells();\n",
       "                for (var i = 0; i < nbb_cells.length; ++i) {\n",
       "                    if (nbb_cells[i].input_prompt_number == nbb_cell_id) {\n",
       "                        if (nbb_cells[i].get_text() == nbb_unformatted_code) {\n",
       "                             nbb_cells[i].set_text(nbb_formatted_code);\n",
       "                        }\n",
       "                        break;\n",
       "                    }\n",
       "                }\n",
       "            }, 500);\n",
       "            "
      ],
      "text/plain": [
       "<IPython.core.display.Javascript object>"
      ]
     },
     "metadata": {},
     "output_type": "display_data"
    }
   ],
   "source": [
    "def convert_to_float(value):\n",
    "    try:\n",
    "        # If it's a string enclosed in single quotes, remove quotes and replace comma with dot\n",
    "        if isinstance(value, str):\n",
    "            return float(value.replace(\",\", \".\"))\n",
    "        else:\n",
    "            return float(value)\n",
    "    except ValueError as e:\n",
    "        print(e)\n",
    "        return float(\"nan\")"
   ]
  },
  {
   "cell_type": "code",
   "execution_count": 4,
   "id": "fa1f9842",
   "metadata": {},
   "outputs": [
    {
     "data": {
      "application/javascript": [
       "\n",
       "            setTimeout(function() {\n",
       "                var nbb_cell_id = 4;\n",
       "                var nbb_unformatted_code = \"def preprocess_numeric_cols(df, columns):\\n    for col in columns:\\n        df[col] = df[col].astype(str)  # Ensure string type for string operations\\n        df[col] = df[col].str.replace(\\\"#\\\", \\\"\\\")  # Remove '#' characters\\n        df[col] = df[col].str.replace(\\\",\\\", \\\".\\\")  # Replace ',' with '.' for decimals\\n    return df\";\n",
       "                var nbb_formatted_code = \"def preprocess_numeric_cols(df, columns):\\n    for col in columns:\\n        df[col] = df[col].astype(str)  # Ensure string type for string operations\\n        df[col] = df[col].str.replace(\\\"#\\\", \\\"\\\")  # Remove '#' characters\\n        df[col] = df[col].str.replace(\\\",\\\", \\\".\\\")  # Replace ',' with '.' for decimals\\n    return df\";\n",
       "                var nbb_cells = Jupyter.notebook.get_cells();\n",
       "                for (var i = 0; i < nbb_cells.length; ++i) {\n",
       "                    if (nbb_cells[i].input_prompt_number == nbb_cell_id) {\n",
       "                        if (nbb_cells[i].get_text() == nbb_unformatted_code) {\n",
       "                             nbb_cells[i].set_text(nbb_formatted_code);\n",
       "                        }\n",
       "                        break;\n",
       "                    }\n",
       "                }\n",
       "            }, 500);\n",
       "            "
      ],
      "text/plain": [
       "<IPython.core.display.Javascript object>"
      ]
     },
     "metadata": {},
     "output_type": "display_data"
    }
   ],
   "source": [
    "def preprocess_numeric_cols(df, columns):\n",
    "    for col in columns:\n",
    "        df[col] = df[col].astype(str)  # Ensure string type for string operations\n",
    "        df[col] = df[col].str.replace(\"#\", \"\")  # Remove '#' characters\n",
    "        df[col] = df[col].str.replace(\",\", \".\")  # Replace ',' with '.' for decimals\n",
    "    return df"
   ]
  },
  {
   "cell_type": "markdown",
   "id": "d28c2c6f",
   "metadata": {},
   "source": [
    "# Data preparation - 209 plant AG data"
   ]
  },
  {
   "cell_type": "markdown",
   "id": "d3eb6673",
   "metadata": {},
   "source": [
    "### Reading the files and extracting relevant information:"
   ]
  },
  {
   "cell_type": "code",
   "execution_count": 5,
   "id": "8cbd3a44",
   "metadata": {},
   "outputs": [
    {
     "data": {
      "application/javascript": [
       "\n",
       "            setTimeout(function() {\n",
       "                var nbb_cell_id = 5;\n",
       "                var nbb_unformatted_code = \"plant = \\\"AG\\\"\\nxls_files = {}\\n\\nxls = pd.ExcelFile(\\n    f\\\"../../../../data/raw/209/EMBRAPII hubIC IACC_CIMENTO_{plant}.xlsx\\\",\\n    engine=\\\"openpyxl\\\",\\n)\\nxls_files[plant] = xls\";\n",
       "                var nbb_formatted_code = \"plant = \\\"AG\\\"\\nxls_files = {}\\n\\nxls = pd.ExcelFile(\\n    f\\\"../../../../data/raw/209/EMBRAPII hubIC IACC_CIMENTO_{plant}.xlsx\\\",\\n    engine=\\\"openpyxl\\\",\\n)\\nxls_files[plant] = xls\";\n",
       "                var nbb_cells = Jupyter.notebook.get_cells();\n",
       "                for (var i = 0; i < nbb_cells.length; ++i) {\n",
       "                    if (nbb_cells[i].input_prompt_number == nbb_cell_id) {\n",
       "                        if (nbb_cells[i].get_text() == nbb_unformatted_code) {\n",
       "                             nbb_cells[i].set_text(nbb_formatted_code);\n",
       "                        }\n",
       "                        break;\n",
       "                    }\n",
       "                }\n",
       "            }, 500);\n",
       "            "
      ],
      "text/plain": [
       "<IPython.core.display.Javascript object>"
      ]
     },
     "metadata": {},
     "output_type": "display_data"
    }
   ],
   "source": [
    "plant = \"AG\"\n",
    "xls_files = {}\n",
    "\n",
    "xls = pd.ExcelFile(\n",
    "    f\"../../../../data/raw/209/EMBRAPII hubIC IACC_CIMENTO_{plant}.xlsx\",\n",
    "    engine=\"openpyxl\",\n",
    ")\n",
    "xls_files[plant] = xls"
   ]
  },
  {
   "cell_type": "code",
   "execution_count": 6,
   "id": "0d7c6058",
   "metadata": {},
   "outputs": [
    {
     "name": "stdout",
     "output_type": "stream",
     "text": [
      "Plant:  AG ['INSTRUÇÕES', 'Clínquer', '146', '115', '166']\n"
     ]
    },
    {
     "data": {
      "application/javascript": [
       "\n",
       "            setTimeout(function() {\n",
       "                var nbb_cell_id = 6;\n",
       "                var nbb_unformatted_code = \"print(\\\"Plant: \\\", plant, xls.sheet_names)\";\n",
       "                var nbb_formatted_code = \"print(\\\"Plant: \\\", plant, xls.sheet_names)\";\n",
       "                var nbb_cells = Jupyter.notebook.get_cells();\n",
       "                for (var i = 0; i < nbb_cells.length; ++i) {\n",
       "                    if (nbb_cells[i].input_prompt_number == nbb_cell_id) {\n",
       "                        if (nbb_cells[i].get_text() == nbb_unformatted_code) {\n",
       "                             nbb_cells[i].set_text(nbb_formatted_code);\n",
       "                        }\n",
       "                        break;\n",
       "                    }\n",
       "                }\n",
       "            }, 500);\n",
       "            "
      ],
      "text/plain": [
       "<IPython.core.display.Javascript object>"
      ]
     },
     "metadata": {},
     "output_type": "display_data"
    }
   ],
   "source": [
    "print(\"Plant: \", plant, xls.sheet_names)"
   ]
  },
  {
   "cell_type": "code",
   "execution_count": 7,
   "id": "d0b9a1e5",
   "metadata": {},
   "outputs": [
    {
     "data": {
      "application/javascript": [
       "\n",
       "            setTimeout(function() {\n",
       "                var nbb_cell_id = 7;\n",
       "                var nbb_unformatted_code = \"cement_types_per_plant = []\\nCEMENT_TYPE_COLS = [\\\"Tipo de cimento\\\", \\\"Classe de resist\\u00eancia\\\"]\\ndataframes = []\\n\\nfor plant, xls in xls_files.items():\\n    for sheet_name in xls.sheet_names[2:]:\\n        df = pd.read_excel(xls_files[plant], sheet_name, header=[1, 2])\\n\\n        if not df[CEMENT_TYPE_COLS].iloc[2:].isna().all().all():\\n            cement_type = (\\n                df[CEMENT_TYPE_COLS]\\n                .loc[2:]\\n                .astype(str)\\n                .sum(axis=1)\\n                .str.replace(\\\" \\\", \\\"\\\")\\n                .str.replace(\\\"-\\\", \\\"\\\")\\n                .str.replace(\\\"nan\\\", \\\"\\\")\\n                .unique()\\n            )\\n\\n        else:\\n            cement_type = (\\n                df[[(\\\"Obs.\\\", \\\"Unnamed: 8_level_1\\\")]]\\n                .loc[2:]\\n                .astype(str)\\n                .sum(axis=1)\\n                .str.replace(\\\" \\\", \\\"\\\")\\n                .str.replace(\\\"-\\\", \\\"\\\")\\n                .unique()\\n            )\\n\\n        cement_types_per_plant.append((plant, sheet_name, cement_type))\\n        dataframes.append(df)\";\n",
       "                var nbb_formatted_code = \"cement_types_per_plant = []\\nCEMENT_TYPE_COLS = [\\\"Tipo de cimento\\\", \\\"Classe de resist\\u00eancia\\\"]\\ndataframes = []\\n\\nfor plant, xls in xls_files.items():\\n    for sheet_name in xls.sheet_names[2:]:\\n        df = pd.read_excel(xls_files[plant], sheet_name, header=[1, 2])\\n\\n        if not df[CEMENT_TYPE_COLS].iloc[2:].isna().all().all():\\n            cement_type = (\\n                df[CEMENT_TYPE_COLS]\\n                .loc[2:]\\n                .astype(str)\\n                .sum(axis=1)\\n                .str.replace(\\\" \\\", \\\"\\\")\\n                .str.replace(\\\"-\\\", \\\"\\\")\\n                .str.replace(\\\"nan\\\", \\\"\\\")\\n                .unique()\\n            )\\n\\n        else:\\n            cement_type = (\\n                df[[(\\\"Obs.\\\", \\\"Unnamed: 8_level_1\\\")]]\\n                .loc[2:]\\n                .astype(str)\\n                .sum(axis=1)\\n                .str.replace(\\\" \\\", \\\"\\\")\\n                .str.replace(\\\"-\\\", \\\"\\\")\\n                .unique()\\n            )\\n\\n        cement_types_per_plant.append((plant, sheet_name, cement_type))\\n        dataframes.append(df)\";\n",
       "                var nbb_cells = Jupyter.notebook.get_cells();\n",
       "                for (var i = 0; i < nbb_cells.length; ++i) {\n",
       "                    if (nbb_cells[i].input_prompt_number == nbb_cell_id) {\n",
       "                        if (nbb_cells[i].get_text() == nbb_unformatted_code) {\n",
       "                             nbb_cells[i].set_text(nbb_formatted_code);\n",
       "                        }\n",
       "                        break;\n",
       "                    }\n",
       "                }\n",
       "            }, 500);\n",
       "            "
      ],
      "text/plain": [
       "<IPython.core.display.Javascript object>"
      ]
     },
     "metadata": {},
     "output_type": "display_data"
    }
   ],
   "source": [
    "cement_types_per_plant = []\n",
    "CEMENT_TYPE_COLS = [\"Tipo de cimento\", \"Classe de resistência\"]\n",
    "dataframes = []\n",
    "\n",
    "for plant, xls in xls_files.items():\n",
    "    for sheet_name in xls.sheet_names[2:]:\n",
    "        df = pd.read_excel(xls_files[plant], sheet_name, header=[1, 2])\n",
    "\n",
    "        if not df[CEMENT_TYPE_COLS].iloc[2:].isna().all().all():\n",
    "            cement_type = (\n",
    "                df[CEMENT_TYPE_COLS]\n",
    "                .loc[2:]\n",
    "                .astype(str)\n",
    "                .sum(axis=1)\n",
    "                .str.replace(\" \", \"\")\n",
    "                .str.replace(\"-\", \"\")\n",
    "                .str.replace(\"nan\", \"\")\n",
    "                .unique()\n",
    "            )\n",
    "\n",
    "        else:\n",
    "            cement_type = (\n",
    "                df[[(\"Obs.\", \"Unnamed: 8_level_1\")]]\n",
    "                .loc[2:]\n",
    "                .astype(str)\n",
    "                .sum(axis=1)\n",
    "                .str.replace(\" \", \"\")\n",
    "                .str.replace(\"-\", \"\")\n",
    "                .unique()\n",
    "            )\n",
    "\n",
    "        cement_types_per_plant.append((plant, sheet_name, cement_type))\n",
    "        dataframes.append(df)"
   ]
  },
  {
   "cell_type": "code",
   "execution_count": 8,
   "id": "68ebeafe",
   "metadata": {},
   "outputs": [
    {
     "data": {
      "text/plain": [
       "[('AG', '146', array(['CPIIZ32'], dtype=object)),\n",
       " ('AG', '115', array(['CPIVRS32'], dtype=object)),\n",
       " ('AG', '166', array(['CPVRSARI'], dtype=object))]"
      ]
     },
     "execution_count": 8,
     "metadata": {},
     "output_type": "execute_result"
    },
    {
     "data": {
      "application/javascript": [
       "\n",
       "            setTimeout(function() {\n",
       "                var nbb_cell_id = 8;\n",
       "                var nbb_unformatted_code = \"cement_types_per_plant\";\n",
       "                var nbb_formatted_code = \"cement_types_per_plant\";\n",
       "                var nbb_cells = Jupyter.notebook.get_cells();\n",
       "                for (var i = 0; i < nbb_cells.length; ++i) {\n",
       "                    if (nbb_cells[i].input_prompt_number == nbb_cell_id) {\n",
       "                        if (nbb_cells[i].get_text() == nbb_unformatted_code) {\n",
       "                             nbb_cells[i].set_text(nbb_formatted_code);\n",
       "                        }\n",
       "                        break;\n",
       "                    }\n",
       "                }\n",
       "            }, 500);\n",
       "            "
      ],
      "text/plain": [
       "<IPython.core.display.Javascript object>"
      ]
     },
     "metadata": {},
     "output_type": "display_data"
    }
   ],
   "source": [
    "cement_types_per_plant"
   ]
  },
  {
   "cell_type": "code",
   "execution_count": 9,
   "id": "88c941e7",
   "metadata": {},
   "outputs": [
    {
     "data": {
      "text/plain": [
       "Counter({'CPIIZ32': 1, 'CPIVRS32': 1, 'CPVRSARI': 1})"
      ]
     },
     "execution_count": 9,
     "metadata": {},
     "output_type": "execute_result"
    },
    {
     "data": {
      "application/javascript": [
       "\n",
       "            setTimeout(function() {\n",
       "                var nbb_cell_id = 9;\n",
       "                var nbb_unformatted_code = \"cements = []\\nfor tup in cement_types_per_plant:\\n    cements.append(tup[2][0])\\nCounter(cements)\";\n",
       "                var nbb_formatted_code = \"cements = []\\nfor tup in cement_types_per_plant:\\n    cements.append(tup[2][0])\\nCounter(cements)\";\n",
       "                var nbb_cells = Jupyter.notebook.get_cells();\n",
       "                for (var i = 0; i < nbb_cells.length; ++i) {\n",
       "                    if (nbb_cells[i].input_prompt_number == nbb_cell_id) {\n",
       "                        if (nbb_cells[i].get_text() == nbb_unformatted_code) {\n",
       "                             nbb_cells[i].set_text(nbb_formatted_code);\n",
       "                        }\n",
       "                        break;\n",
       "                    }\n",
       "                }\n",
       "            }, 500);\n",
       "            "
      ],
      "text/plain": [
       "<IPython.core.display.Javascript object>"
      ]
     },
     "metadata": {},
     "output_type": "display_data"
    }
   ],
   "source": [
    "cements = []\n",
    "for tup in cement_types_per_plant:\n",
    "    cements.append(tup[2][0])\n",
    "Counter(cements)"
   ]
  },
  {
   "cell_type": "code",
   "execution_count": 10,
   "id": "af1bdac7",
   "metadata": {},
   "outputs": [
    {
     "data": {
      "application/javascript": [
       "\n",
       "            setTimeout(function() {\n",
       "                var nbb_cell_id = 10;\n",
       "                var nbb_unformatted_code = \"dataframes = []\\n\\nfor plant, xls in xls_files.items():\\n    for sheet_name in xls.sheet_names[2:]:\\n        df = pd.read_excel(xls_files[plant], sheet_name, header=[0, 1, 2])\\n        df[\\\"Unnamed: 0_level_0\\\", \\\"Unnamed: 0_level_1\\\", \\\"Unnamed: 0_level_2\\\"] = plant\\n        dataframes.append(df.drop([0, 1], axis=0).reset_index(drop=True).copy())\";\n",
       "                var nbb_formatted_code = \"dataframes = []\\n\\nfor plant, xls in xls_files.items():\\n    for sheet_name in xls.sheet_names[2:]:\\n        df = pd.read_excel(xls_files[plant], sheet_name, header=[0, 1, 2])\\n        df[\\\"Unnamed: 0_level_0\\\", \\\"Unnamed: 0_level_1\\\", \\\"Unnamed: 0_level_2\\\"] = plant\\n        dataframes.append(df.drop([0, 1], axis=0).reset_index(drop=True).copy())\";\n",
       "                var nbb_cells = Jupyter.notebook.get_cells();\n",
       "                for (var i = 0; i < nbb_cells.length; ++i) {\n",
       "                    if (nbb_cells[i].input_prompt_number == nbb_cell_id) {\n",
       "                        if (nbb_cells[i].get_text() == nbb_unformatted_code) {\n",
       "                             nbb_cells[i].set_text(nbb_formatted_code);\n",
       "                        }\n",
       "                        break;\n",
       "                    }\n",
       "                }\n",
       "            }, 500);\n",
       "            "
      ],
      "text/plain": [
       "<IPython.core.display.Javascript object>"
      ]
     },
     "metadata": {},
     "output_type": "display_data"
    }
   ],
   "source": [
    "dataframes = []\n",
    "\n",
    "for plant, xls in xls_files.items():\n",
    "    for sheet_name in xls.sheet_names[2:]:\n",
    "        df = pd.read_excel(xls_files[plant], sheet_name, header=[0, 1, 2])\n",
    "        df[\"Unnamed: 0_level_0\", \"Unnamed: 0_level_1\", \"Unnamed: 0_level_2\"] = plant\n",
    "        dataframes.append(df.drop([0, 1], axis=0).reset_index(drop=True).copy())"
   ]
  },
  {
   "cell_type": "code",
   "execution_count": 11,
   "id": "c4919ee2",
   "metadata": {},
   "outputs": [
    {
     "data": {
      "application/javascript": [
       "\n",
       "            setTimeout(function() {\n",
       "                var nbb_cell_id = 11;\n",
       "                var nbb_unformatted_code = \"df = pd.concat(dataframes, axis=0).reset_index(drop=True)\";\n",
       "                var nbb_formatted_code = \"df = pd.concat(dataframes, axis=0).reset_index(drop=True)\";\n",
       "                var nbb_cells = Jupyter.notebook.get_cells();\n",
       "                for (var i = 0; i < nbb_cells.length; ++i) {\n",
       "                    if (nbb_cells[i].input_prompt_number == nbb_cell_id) {\n",
       "                        if (nbb_cells[i].get_text() == nbb_unformatted_code) {\n",
       "                             nbb_cells[i].set_text(nbb_formatted_code);\n",
       "                        }\n",
       "                        break;\n",
       "                    }\n",
       "                }\n",
       "            }, 500);\n",
       "            "
      ],
      "text/plain": [
       "<IPython.core.display.Javascript object>"
      ]
     },
     "metadata": {},
     "output_type": "display_data"
    }
   ],
   "source": [
    "df = pd.concat(dataframes, axis=0).reset_index(drop=True)"
   ]
  },
  {
   "cell_type": "markdown",
   "id": "8dfc7bff",
   "metadata": {},
   "source": [
    "## Initial Preprocessing"
   ]
  },
  {
   "cell_type": "code",
   "execution_count": 12,
   "id": "f360ba12",
   "metadata": {},
   "outputs": [
    {
     "data": {
      "application/javascript": [
       "\n",
       "            setTimeout(function() {\n",
       "                var nbb_cell_id = 12;\n",
       "                var nbb_unformatted_code = \"df = pd.concat(\\n    [\\n        df[\\\"Unnamed: 0_level_0\\\", \\\"Unnamed: 0_level_1\\\", \\\"Unnamed: 0_level_2\\\"],\\n        df[\\\"Dados iniciais\\\"],\\n        df[\\\"Cimento\\\"][\\\"An\\u00e1lise qu\\u00edmica\\\"],\\n        df[\\\"Caracter\\u00edstias f\\u00edsicas do cimento\\\"],\\n        df[\\\"Propriedades do cimento\\\"],\\n    ],\\n    axis=1,\\n)\";\n",
       "                var nbb_formatted_code = \"df = pd.concat(\\n    [\\n        df[\\\"Unnamed: 0_level_0\\\", \\\"Unnamed: 0_level_1\\\", \\\"Unnamed: 0_level_2\\\"],\\n        df[\\\"Dados iniciais\\\"],\\n        df[\\\"Cimento\\\"][\\\"An\\u00e1lise qu\\u00edmica\\\"],\\n        df[\\\"Caracter\\u00edstias f\\u00edsicas do cimento\\\"],\\n        df[\\\"Propriedades do cimento\\\"],\\n    ],\\n    axis=1,\\n)\";\n",
       "                var nbb_cells = Jupyter.notebook.get_cells();\n",
       "                for (var i = 0; i < nbb_cells.length; ++i) {\n",
       "                    if (nbb_cells[i].input_prompt_number == nbb_cell_id) {\n",
       "                        if (nbb_cells[i].get_text() == nbb_unformatted_code) {\n",
       "                             nbb_cells[i].set_text(nbb_formatted_code);\n",
       "                        }\n",
       "                        break;\n",
       "                    }\n",
       "                }\n",
       "            }, 500);\n",
       "            "
      ],
      "text/plain": [
       "<IPython.core.display.Javascript object>"
      ]
     },
     "metadata": {},
     "output_type": "display_data"
    }
   ],
   "source": [
    "df = pd.concat(\n",
    "    [\n",
    "        df[\"Unnamed: 0_level_0\", \"Unnamed: 0_level_1\", \"Unnamed: 0_level_2\"],\n",
    "        df[\"Dados iniciais\"],\n",
    "        df[\"Cimento\"][\"Análise química\"],\n",
    "        df[\"Característias físicas do cimento\"],\n",
    "        df[\"Propriedades do cimento\"],\n",
    "    ],\n",
    "    axis=1,\n",
    ")"
   ]
  },
  {
   "cell_type": "markdown",
   "id": "e1b4b617",
   "metadata": {},
   "source": [
    "### 1. Dropping columns where either there is no data nor it contributes to the analysis\n",
    "### 2. Renaming columns to a short identifiable name"
   ]
  },
  {
   "cell_type": "code",
   "execution_count": 13,
   "id": "ecb5184c",
   "metadata": {},
   "outputs": [
    {
     "data": {
      "application/javascript": [
       "\n",
       "            setTimeout(function() {\n",
       "                var nbb_cell_id = 13;\n",
       "                var nbb_unformatted_code = \"COLUMNS_TO_DROP = [\\n    (\\\"Data\\\", \\\"Medida\\\"),\\n    (\\\"Hor\\u00e1rio\\\", \\\"Produ\\u00e7\\u00e3o\\\"),\\n    (\\\"Hor\\u00e1rio\\\", \\\"Medida\\\"),\\n    (\\\"Obs.\\\", \\\"Unnamed: 148_level_2\\\"),\\n    (\\\"Tipo de cimento\\\", \\\"Unnamed: 6_level_2\\\"),\\n    (\\\"Classe de resist\\u00eancia\\\", \\\"Unnamed: 7_level_2\\\"),\\n    (\\\"Obs.\\\", \\\"Unnamed: 8_level_2\\\"),\\n    \\\"Obs.\\\",\\n    (\\\"Obs.\\\", \\\"Unnamed: 148_level_2\\\"),\\n    (\\\"Unnamed: 141_level_1\\\", \\\"Obs.\\\"),\\n    # (\\\"Unnamed: 139_level_1\\\", \\\"#400\\\"),\\n]\\n\\nCOLUMNS_TO_RENAME = {\\n    (\\\"Unnamed: 0_level_0\\\", \\\"Unnamed: 0_level_1\\\", \\\"Unnamed: 0_level_2\\\"): \\\"Plant\\\",\\n    (\\\"Cidade\\\", \\\"Unnamed: 1_level_2\\\"): \\\"City\\\",\\n    (\\\"Data\\\", \\\"Produ\\u00e7\\u00e3o\\\"): \\\"Date\\\",  # Arrumar!\\n    (\\\"Unnamed: 136_level_1\\\", \\\"Blaine\\\"): \\\"Blaine\\\",\\n    (\\\"Unnamed: 137_level_1\\\", \\\"#200\\\"): \\\"#200\\\",\\n    (\\\"Unnamed: 138_level_1\\\", \\\"#325\\\"): \\\"#325\\\",\\n    (\\\"Unnamed: 139_level_1\\\", \\\"#400\\\"): \\\"#400\\\",\\n    (\\\"Unnamed: 140_level_1\\\", \\\"Massa espec\\u00edfica\\\"): \\\"Specific Gravity\\\",\\n    (\\\"Tempo de pega\\\", \\\"Inicio\\\"): \\\"Initial setting time\\\",\\n    (\\\"Tempo de pega\\\", \\\"Fim\\\"): \\\"Final setting time\\\",\\n    (\\\"Resist\\u00eancia \\u00e0 compress\\u00e3o\\\", \\\"1 d\\\"): \\\"CS1\\\",\\n    (\\\"Resist\\u00eancia \\u00e0 compress\\u00e3o\\\", \\\"3 d\\\"): \\\"CS3\\\",\\n    (\\\"Resist\\u00eancia \\u00e0 compress\\u00e3o\\\", \\\"7 d\\\"): \\\"CS7\\\",\\n    (\\\"Resist\\u00eancia \\u00e0 compress\\u00e3o\\\", \\\"28 d\\\"): \\\"CS28\\\",\\n    \\\"Perda ao fogo\\\": \\\"Loss on Ignition\\\",\\n    \\\"Res\\u00edduo insol\\u00favel\\\": \\\"Insoluble Residue\\\",\\n}\";\n",
       "                var nbb_formatted_code = \"COLUMNS_TO_DROP = [\\n    (\\\"Data\\\", \\\"Medida\\\"),\\n    (\\\"Hor\\u00e1rio\\\", \\\"Produ\\u00e7\\u00e3o\\\"),\\n    (\\\"Hor\\u00e1rio\\\", \\\"Medida\\\"),\\n    (\\\"Obs.\\\", \\\"Unnamed: 148_level_2\\\"),\\n    (\\\"Tipo de cimento\\\", \\\"Unnamed: 6_level_2\\\"),\\n    (\\\"Classe de resist\\u00eancia\\\", \\\"Unnamed: 7_level_2\\\"),\\n    (\\\"Obs.\\\", \\\"Unnamed: 8_level_2\\\"),\\n    \\\"Obs.\\\",\\n    (\\\"Obs.\\\", \\\"Unnamed: 148_level_2\\\"),\\n    (\\\"Unnamed: 141_level_1\\\", \\\"Obs.\\\"),\\n    # (\\\"Unnamed: 139_level_1\\\", \\\"#400\\\"),\\n]\\n\\nCOLUMNS_TO_RENAME = {\\n    (\\\"Unnamed: 0_level_0\\\", \\\"Unnamed: 0_level_1\\\", \\\"Unnamed: 0_level_2\\\"): \\\"Plant\\\",\\n    (\\\"Cidade\\\", \\\"Unnamed: 1_level_2\\\"): \\\"City\\\",\\n    (\\\"Data\\\", \\\"Produ\\u00e7\\u00e3o\\\"): \\\"Date\\\",  # Arrumar!\\n    (\\\"Unnamed: 136_level_1\\\", \\\"Blaine\\\"): \\\"Blaine\\\",\\n    (\\\"Unnamed: 137_level_1\\\", \\\"#200\\\"): \\\"#200\\\",\\n    (\\\"Unnamed: 138_level_1\\\", \\\"#325\\\"): \\\"#325\\\",\\n    (\\\"Unnamed: 139_level_1\\\", \\\"#400\\\"): \\\"#400\\\",\\n    (\\\"Unnamed: 140_level_1\\\", \\\"Massa espec\\u00edfica\\\"): \\\"Specific Gravity\\\",\\n    (\\\"Tempo de pega\\\", \\\"Inicio\\\"): \\\"Initial setting time\\\",\\n    (\\\"Tempo de pega\\\", \\\"Fim\\\"): \\\"Final setting time\\\",\\n    (\\\"Resist\\u00eancia \\u00e0 compress\\u00e3o\\\", \\\"1 d\\\"): \\\"CS1\\\",\\n    (\\\"Resist\\u00eancia \\u00e0 compress\\u00e3o\\\", \\\"3 d\\\"): \\\"CS3\\\",\\n    (\\\"Resist\\u00eancia \\u00e0 compress\\u00e3o\\\", \\\"7 d\\\"): \\\"CS7\\\",\\n    (\\\"Resist\\u00eancia \\u00e0 compress\\u00e3o\\\", \\\"28 d\\\"): \\\"CS28\\\",\\n    \\\"Perda ao fogo\\\": \\\"Loss on Ignition\\\",\\n    \\\"Res\\u00edduo insol\\u00favel\\\": \\\"Insoluble Residue\\\",\\n}\";\n",
       "                var nbb_cells = Jupyter.notebook.get_cells();\n",
       "                for (var i = 0; i < nbb_cells.length; ++i) {\n",
       "                    if (nbb_cells[i].input_prompt_number == nbb_cell_id) {\n",
       "                        if (nbb_cells[i].get_text() == nbb_unformatted_code) {\n",
       "                             nbb_cells[i].set_text(nbb_formatted_code);\n",
       "                        }\n",
       "                        break;\n",
       "                    }\n",
       "                }\n",
       "            }, 500);\n",
       "            "
      ],
      "text/plain": [
       "<IPython.core.display.Javascript object>"
      ]
     },
     "metadata": {},
     "output_type": "display_data"
    }
   ],
   "source": [
    "COLUMNS_TO_DROP = [\n",
    "    (\"Data\", \"Medida\"),\n",
    "    (\"Horário\", \"Produção\"),\n",
    "    (\"Horário\", \"Medida\"),\n",
    "    (\"Obs.\", \"Unnamed: 148_level_2\"),\n",
    "    (\"Tipo de cimento\", \"Unnamed: 6_level_2\"),\n",
    "    (\"Classe de resistência\", \"Unnamed: 7_level_2\"),\n",
    "    (\"Obs.\", \"Unnamed: 8_level_2\"),\n",
    "    \"Obs.\",\n",
    "    (\"Obs.\", \"Unnamed: 148_level_2\"),\n",
    "    (\"Unnamed: 141_level_1\", \"Obs.\"),\n",
    "    # (\"Unnamed: 139_level_1\", \"#400\"),\n",
    "]\n",
    "\n",
    "COLUMNS_TO_RENAME = {\n",
    "    (\"Unnamed: 0_level_0\", \"Unnamed: 0_level_1\", \"Unnamed: 0_level_2\"): \"Plant\",\n",
    "    (\"Cidade\", \"Unnamed: 1_level_2\"): \"City\",\n",
    "    (\"Data\", \"Produção\"): \"Date\",  # Arrumar!\n",
    "    (\"Unnamed: 136_level_1\", \"Blaine\"): \"Blaine\",\n",
    "    (\"Unnamed: 137_level_1\", \"#200\"): \"#200\",\n",
    "    (\"Unnamed: 138_level_1\", \"#325\"): \"#325\",\n",
    "    (\"Unnamed: 139_level_1\", \"#400\"): \"#400\",\n",
    "    (\"Unnamed: 140_level_1\", \"Massa específica\"): \"Specific Gravity\",\n",
    "    (\"Tempo de pega\", \"Inicio\"): \"Initial setting time\",\n",
    "    (\"Tempo de pega\", \"Fim\"): \"Final setting time\",\n",
    "    (\"Resistência à compressão\", \"1 d\"): \"CS1\",\n",
    "    (\"Resistência à compressão\", \"3 d\"): \"CS3\",\n",
    "    (\"Resistência à compressão\", \"7 d\"): \"CS7\",\n",
    "    (\"Resistência à compressão\", \"28 d\"): \"CS28\",\n",
    "    \"Perda ao fogo\": \"Loss on Ignition\",\n",
    "    \"Resíduo insolúvel\": \"Insoluble Residue\",\n",
    "}"
   ]
  },
  {
   "cell_type": "markdown",
   "id": "9bdcff5b",
   "metadata": {},
   "source": [
    "### Defining a single variable to identify Cement Type"
   ]
  },
  {
   "cell_type": "code",
   "execution_count": 14,
   "id": "92ed1dd2",
   "metadata": {},
   "outputs": [
    {
     "data": {
      "application/javascript": [
       "\n",
       "            setTimeout(function() {\n",
       "                var nbb_cell_id = 14;\n",
       "                var nbb_unformatted_code = \"# Single variable for the Cement Type\\ndf[\\\"Cement_Type\\\"] = (\\n    df[\\n        [\\n            (\\\"Tipo de cimento\\\", \\\"Unnamed: 6_level_2\\\"),\\n            (\\\"Classe de resist\\u00eancia\\\", \\\"Unnamed: 7_level_2\\\"),\\n            (\\\"Obs.\\\", \\\"Unnamed: 8_level_2\\\"),\\n        ]\\n    ]\\n    .fillna(\\\"\\\")\\n    .astype(str)\\n    .sum(axis=1)\\n)\\n\\n# Preprocessing\\ndf[\\\"Cement_Type\\\"] = (\\n    df[\\\"Cement_Type\\\"]\\n    .str.replace(\\\"Expedido\\\", \\\"\\\")\\n    .str.replace(\\\"Linha 9\\\", \\\"\\\")\\n    .str.replace(\\\"Itaja\\u00ed\\\", \\\"\\\")\\n    .str.replace(\\\"D-G\\\", \\\"\\\")\\n    .str.replace(\\\"D-E\\\", \\\"\\\")\\n    .str.replace(\\\"DF2\\\", \\\"\\\")\\n    .str.replace(\\\"CPIIF40\\\", \\\"CP II-F-40\\\")\\n    .str.replace(\\\"CPIIF40\\\", \\\"CP II-F40\\\")\\n    .str.replace(\\\"CP VARI\\\", \\\"CP V-ARI\\\")\\n    .str.replace(\\\"CPVARI\\\", \\\"CP V-ARI\\\")\\n    .str.replace(\\\"CP V-RSARI\\\", \\\"CP V-ARI RS\\\")\\n    .str.replace(\\\"CP III-RS40\\\", \\\"CP III-40 RS\\\")\\n    .str.replace(\\\"CP III-RS32\\\", \\\"CP III-32 RS\\\")\\n    .str.replace(\\\"CP IV-RS32\\\", \\\"CP IV-32 RS\\\")\\n    .str.replace(\\\"CP III40\\\", \\\"CP III-40\\\")\\n    .str.replace(\\\"CP III32\\\", \\\"CP III-32\\\")\\n    .str.replace(\\\"CP I-S40\\\", \\\"CP I-S-40\\\")\\n    .str.replace(\\\"CP I40\\\", \\\"CP I-40\\\")\\n    .str.replace(\\\"CP II-E32\\\", \\\"CP II-E-32\\\")\\n    .str.replace(\\\"CP II-E40\\\", \\\"CP II-E-40\\\")\\n    .str.replace(\\\"CP II-F FIBRO40\\\", \\\"CP II-F-40\\\")\\n    .str.replace(\\\"CP II-F32\\\", \\\"CP II-F-32\\\")\\n    .str.replace(\\\"CP II-F40\\\", \\\"CP II-F-40\\\")\\n    .str.replace(\\\"CP II-Z32\\\", \\\"CP II-Z-32\\\")\\n    .str.replace(\\\"CP II-Z40\\\", \\\"CP II-Z-40\\\")\\n    .str.replace(\\\"CP IV32\\\", \\\"CP IV-32\\\")\\n    .str.replace(\\\"CP IND\\\", \\\"CP I\\\")\\n    .str.replace(\\\"CPINDCC\\\", \\\"CP I\\\")\\n    .str.strip()\\n)\\n\\ndf = df.drop(COLUMNS_TO_DROP, axis=1).rename(COLUMNS_TO_RENAME, axis=1).copy()\\ndf = df.drop([0]).reset_index(drop=True)\\ndf = df.infer_objects()\";\n",
       "                var nbb_formatted_code = \"# Single variable for the Cement Type\\ndf[\\\"Cement_Type\\\"] = (\\n    df[\\n        [\\n            (\\\"Tipo de cimento\\\", \\\"Unnamed: 6_level_2\\\"),\\n            (\\\"Classe de resist\\u00eancia\\\", \\\"Unnamed: 7_level_2\\\"),\\n            (\\\"Obs.\\\", \\\"Unnamed: 8_level_2\\\"),\\n        ]\\n    ]\\n    .fillna(\\\"\\\")\\n    .astype(str)\\n    .sum(axis=1)\\n)\\n\\n# Preprocessing\\ndf[\\\"Cement_Type\\\"] = (\\n    df[\\\"Cement_Type\\\"]\\n    .str.replace(\\\"Expedido\\\", \\\"\\\")\\n    .str.replace(\\\"Linha 9\\\", \\\"\\\")\\n    .str.replace(\\\"Itaja\\u00ed\\\", \\\"\\\")\\n    .str.replace(\\\"D-G\\\", \\\"\\\")\\n    .str.replace(\\\"D-E\\\", \\\"\\\")\\n    .str.replace(\\\"DF2\\\", \\\"\\\")\\n    .str.replace(\\\"CPIIF40\\\", \\\"CP II-F-40\\\")\\n    .str.replace(\\\"CPIIF40\\\", \\\"CP II-F40\\\")\\n    .str.replace(\\\"CP VARI\\\", \\\"CP V-ARI\\\")\\n    .str.replace(\\\"CPVARI\\\", \\\"CP V-ARI\\\")\\n    .str.replace(\\\"CP V-RSARI\\\", \\\"CP V-ARI RS\\\")\\n    .str.replace(\\\"CP III-RS40\\\", \\\"CP III-40 RS\\\")\\n    .str.replace(\\\"CP III-RS32\\\", \\\"CP III-32 RS\\\")\\n    .str.replace(\\\"CP IV-RS32\\\", \\\"CP IV-32 RS\\\")\\n    .str.replace(\\\"CP III40\\\", \\\"CP III-40\\\")\\n    .str.replace(\\\"CP III32\\\", \\\"CP III-32\\\")\\n    .str.replace(\\\"CP I-S40\\\", \\\"CP I-S-40\\\")\\n    .str.replace(\\\"CP I40\\\", \\\"CP I-40\\\")\\n    .str.replace(\\\"CP II-E32\\\", \\\"CP II-E-32\\\")\\n    .str.replace(\\\"CP II-E40\\\", \\\"CP II-E-40\\\")\\n    .str.replace(\\\"CP II-F FIBRO40\\\", \\\"CP II-F-40\\\")\\n    .str.replace(\\\"CP II-F32\\\", \\\"CP II-F-32\\\")\\n    .str.replace(\\\"CP II-F40\\\", \\\"CP II-F-40\\\")\\n    .str.replace(\\\"CP II-Z32\\\", \\\"CP II-Z-32\\\")\\n    .str.replace(\\\"CP II-Z40\\\", \\\"CP II-Z-40\\\")\\n    .str.replace(\\\"CP IV32\\\", \\\"CP IV-32\\\")\\n    .str.replace(\\\"CP IND\\\", \\\"CP I\\\")\\n    .str.replace(\\\"CPINDCC\\\", \\\"CP I\\\")\\n    .str.strip()\\n)\\n\\ndf = df.drop(COLUMNS_TO_DROP, axis=1).rename(COLUMNS_TO_RENAME, axis=1).copy()\\ndf = df.drop([0]).reset_index(drop=True)\\ndf = df.infer_objects()\";\n",
       "                var nbb_cells = Jupyter.notebook.get_cells();\n",
       "                for (var i = 0; i < nbb_cells.length; ++i) {\n",
       "                    if (nbb_cells[i].input_prompt_number == nbb_cell_id) {\n",
       "                        if (nbb_cells[i].get_text() == nbb_unformatted_code) {\n",
       "                             nbb_cells[i].set_text(nbb_formatted_code);\n",
       "                        }\n",
       "                        break;\n",
       "                    }\n",
       "                }\n",
       "            }, 500);\n",
       "            "
      ],
      "text/plain": [
       "<IPython.core.display.Javascript object>"
      ]
     },
     "metadata": {},
     "output_type": "display_data"
    }
   ],
   "source": [
    "# Single variable for the Cement Type\n",
    "df[\"Cement_Type\"] = (\n",
    "    df[\n",
    "        [\n",
    "            (\"Tipo de cimento\", \"Unnamed: 6_level_2\"),\n",
    "            (\"Classe de resistência\", \"Unnamed: 7_level_2\"),\n",
    "            (\"Obs.\", \"Unnamed: 8_level_2\"),\n",
    "        ]\n",
    "    ]\n",
    "    .fillna(\"\")\n",
    "    .astype(str)\n",
    "    .sum(axis=1)\n",
    ")\n",
    "\n",
    "# Preprocessing\n",
    "df[\"Cement_Type\"] = (\n",
    "    df[\"Cement_Type\"]\n",
    "    .str.replace(\"Expedido\", \"\")\n",
    "    .str.replace(\"Linha 9\", \"\")\n",
    "    .str.replace(\"Itajaí\", \"\")\n",
    "    .str.replace(\"D-G\", \"\")\n",
    "    .str.replace(\"D-E\", \"\")\n",
    "    .str.replace(\"DF2\", \"\")\n",
    "    .str.replace(\"CPIIF40\", \"CP II-F-40\")\n",
    "    .str.replace(\"CPIIF40\", \"CP II-F40\")\n",
    "    .str.replace(\"CP VARI\", \"CP V-ARI\")\n",
    "    .str.replace(\"CPVARI\", \"CP V-ARI\")\n",
    "    .str.replace(\"CP V-RSARI\", \"CP V-ARI RS\")\n",
    "    .str.replace(\"CP III-RS40\", \"CP III-40 RS\")\n",
    "    .str.replace(\"CP III-RS32\", \"CP III-32 RS\")\n",
    "    .str.replace(\"CP IV-RS32\", \"CP IV-32 RS\")\n",
    "    .str.replace(\"CP III40\", \"CP III-40\")\n",
    "    .str.replace(\"CP III32\", \"CP III-32\")\n",
    "    .str.replace(\"CP I-S40\", \"CP I-S-40\")\n",
    "    .str.replace(\"CP I40\", \"CP I-40\")\n",
    "    .str.replace(\"CP II-E32\", \"CP II-E-32\")\n",
    "    .str.replace(\"CP II-E40\", \"CP II-E-40\")\n",
    "    .str.replace(\"CP II-F FIBRO40\", \"CP II-F-40\")\n",
    "    .str.replace(\"CP II-F32\", \"CP II-F-32\")\n",
    "    .str.replace(\"CP II-F40\", \"CP II-F-40\")\n",
    "    .str.replace(\"CP II-Z32\", \"CP II-Z-32\")\n",
    "    .str.replace(\"CP II-Z40\", \"CP II-Z-40\")\n",
    "    .str.replace(\"CP IV32\", \"CP IV-32\")\n",
    "    .str.replace(\"CP IND\", \"CP I\")\n",
    "    .str.replace(\"CPINDCC\", \"CP I\")\n",
    "    .str.strip()\n",
    ")\n",
    "\n",
    "df = df.drop(COLUMNS_TO_DROP, axis=1).rename(COLUMNS_TO_RENAME, axis=1).copy()\n",
    "df = df.drop([0]).reset_index(drop=True)\n",
    "df = df.infer_objects()"
   ]
  },
  {
   "cell_type": "markdown",
   "id": "2a390ebe",
   "metadata": {},
   "source": [
    "### Dropping and rename the columns defined above"
   ]
  },
  {
   "cell_type": "markdown",
   "id": "6a4c9913",
   "metadata": {},
   "source": [
    "### Cleaning and converting numeric columns to float"
   ]
  },
  {
   "cell_type": "code",
   "execution_count": 15,
   "id": "20719532",
   "metadata": {
    "scrolled": false
   },
   "outputs": [
    {
     "name": "stdout",
     "output_type": "stream",
     "text": [
      "could not convert string to float: ' '\n",
      "could not convert string to float: ' '\n",
      "could not convert string to float: ' '\n",
      "could not convert string to float: ' '\n",
      "could not convert string to float: ' '\n",
      "could not convert string to float: ' '\n",
      "could not convert string to float: ' '\n",
      "could not convert string to float: ' '\n",
      "could not convert string to float: ' '\n",
      "could not convert string to float: ' '\n",
      "could not convert string to float: ' '\n",
      "could not convert string to float: ' '\n",
      "could not convert string to float: ' '\n",
      "could not convert string to float: ' '\n",
      "could not convert string to float: ' '\n",
      "could not convert string to float: ' '\n",
      "could not convert string to float: ' '\n",
      "could not convert string to float: ' '\n",
      "could not convert string to float: ' '\n",
      "could not convert string to float: ' '\n",
      "could not convert string to float: ' '\n",
      "could not convert string to float: ' '\n",
      "could not convert string to float: ' '\n",
      "could not convert string to float: ' '\n",
      "could not convert string to float: ' '\n",
      "could not convert string to float: ' '\n",
      "could not convert string to float: ' '\n",
      "could not convert string to float: ' '\n",
      "could not convert string to float: ' '\n",
      "could not convert string to float: ' '\n",
      "could not convert string to float: ' '\n",
      "could not convert string to float: ' '\n",
      "could not convert string to float: ' '\n",
      "could not convert string to float: ' '\n",
      "could not convert string to float: ' '\n",
      "could not convert string to float: ' '\n",
      "could not convert string to float: ' '\n",
      "could not convert string to float: ' '\n",
      "could not convert string to float: ' '\n",
      "could not convert string to float: ' '\n",
      "could not convert string to float: ' '\n",
      "could not convert string to float: ' '\n",
      "could not convert string to float: ' '\n",
      "could not convert string to float: ' '\n",
      "could not convert string to float: ' '\n",
      "could not convert string to float: ' '\n",
      "could not convert string to float: ' '\n",
      "could not convert string to float: ' '\n",
      "could not convert string to float: ' '\n",
      "could not convert string to float: ' '\n",
      "could not convert string to float: ' '\n",
      "could not convert string to float: ' '\n",
      "could not convert string to float: ' '\n",
      "could not convert string to float: ' '\n",
      "could not convert string to float: ' '\n",
      "could not convert string to float: ' '\n",
      "could not convert string to float: ' '\n",
      "could not convert string to float: ' '\n",
      "could not convert string to float: ' '\n",
      "could not convert string to float: ' '\n",
      "could not convert string to float: ' '\n",
      "could not convert string to float: ' '\n",
      "could not convert string to float: ' '\n",
      "could not convert string to float: ' '\n",
      "could not convert string to float: ' '\n",
      "could not convert string to float: ' '\n",
      "could not convert string to float: ' '\n",
      "could not convert string to float: ' '\n",
      "could not convert string to float: ' '\n",
      "could not convert string to float: ' '\n",
      "could not convert string to float: ' '\n",
      "could not convert string to float: ' '\n",
      "could not convert string to float: ' '\n",
      "could not convert string to float: ' '\n",
      "could not convert string to float: ' '\n",
      "could not convert string to float: ' '\n",
      "could not convert string to float: ' '\n",
      "could not convert string to float: ' '\n",
      "could not convert string to float: ' '\n",
      "could not convert string to float: ' '\n",
      "could not convert string to float: ' '\n",
      "could not convert string to float: ' '\n",
      "could not convert string to float: ' '\n",
      "could not convert string to float: ' '\n",
      "could not convert string to float: ' '\n",
      "could not convert string to float: ' '\n",
      "could not convert string to float: ' '\n",
      "could not convert string to float: ' '\n",
      "could not convert string to float: ' '\n",
      "could not convert string to float: ' '\n",
      "could not convert string to float: ' '\n",
      "could not convert string to float: ' '\n",
      "could not convert string to float: ' '\n",
      "could not convert string to float: ' '\n",
      "could not convert string to float: ' '\n",
      "could not convert string to float: ' '\n",
      "could not convert string to float: ' '\n",
      "could not convert string to float: ' '\n",
      "could not convert string to float: ' '\n",
      "could not convert string to float: ' '\n",
      "could not convert string to float: ' '\n",
      "could not convert string to float: ' '\n",
      "could not convert string to float: ' '\n",
      "could not convert string to float: ' '\n",
      "could not convert string to float: ' '\n",
      "could not convert string to float: ' '\n",
      "could not convert string to float: ' '\n",
      "could not convert string to float: ' '\n",
      "could not convert string to float: ' '\n",
      "could not convert string to float: ' '\n",
      "could not convert string to float: ' '\n",
      "could not convert string to float: ' '\n",
      "could not convert string to float: ' '\n",
      "could not convert string to float: ' '\n",
      "could not convert string to float: ' '\n",
      "could not convert string to float: ' '\n",
      "could not convert string to float: ' '\n",
      "could not convert string to float: ' '\n",
      "could not convert string to float: ' '\n",
      "could not convert string to float: ' '\n",
      "could not convert string to float: ' '\n",
      "could not convert string to float: ' '\n",
      "could not convert string to float: ' '\n",
      "could not convert string to float: ' '\n",
      "could not convert string to float: ' '\n",
      "could not convert string to float: ' '\n",
      "could not convert string to float: ' '\n",
      "could not convert string to float: ' '\n",
      "could not convert string to float: ' '\n",
      "could not convert string to float: ' '\n",
      "could not convert string to float: ' '\n",
      "could not convert string to float: ' '\n",
      "could not convert string to float: ' '\n",
      "could not convert string to float: ' '\n",
      "could not convert string to float: ' '\n",
      "could not convert string to float: ' '\n",
      "could not convert string to float: ' '\n",
      "could not convert string to float: ' '\n",
      "could not convert string to float: ' '\n",
      "could not convert string to float: ' '\n",
      "could not convert string to float: ' '\n",
      "could not convert string to float: ' '\n",
      "could not convert string to float: ' '\n",
      "could not convert string to float: ' '\n",
      "could not convert string to float: ' '\n",
      "could not convert string to float: ' '\n",
      "could not convert string to float: ' '\n",
      "could not convert string to float: ' '\n",
      "could not convert string to float: ' '\n",
      "could not convert string to float: ' '\n",
      "could not convert string to float: ' '\n",
      "could not convert string to float: ' '\n",
      "could not convert string to float: ' '\n",
      "could not convert string to float: ' '\n",
      "could not convert string to float: ' '\n",
      "could not convert string to float: ' '\n",
      "could not convert string to float: ' '\n",
      "could not convert string to float: ' '\n",
      "could not convert string to float: ' '\n",
      "could not convert string to float: ' '\n",
      "could not convert string to float: ' '\n",
      "could not convert string to float: ' '\n",
      "could not convert string to float: ' '\n",
      "could not convert string to float: ' '\n",
      "could not convert string to float: ' '\n",
      "could not convert string to float: ' '\n",
      "could not convert string to float: ' '\n",
      "could not convert string to float: ' '\n",
      "could not convert string to float: ' '\n",
      "could not convert string to float: ' '\n",
      "could not convert string to float: ' '\n",
      "could not convert string to float: ' '\n",
      "could not convert string to float: ' '\n",
      "could not convert string to float: ' '\n",
      "could not convert string to float: ' '\n",
      "could not convert string to float: ' '\n",
      "could not convert string to float: ' '\n",
      "could not convert string to float: ' '\n",
      "could not convert string to float: ' '\n",
      "could not convert string to float: ' '\n",
      "could not convert string to float: ' '\n",
      "could not convert string to float: ' '\n",
      "could not convert string to float: ' '\n",
      "could not convert string to float: ' '\n",
      "could not convert string to float: ' '\n",
      "could not convert string to float: ' '\n",
      "could not convert string to float: ' '\n",
      "could not convert string to float: ' '\n",
      "could not convert string to float: ' '\n",
      "could not convert string to float: ' '\n",
      "could not convert string to float: ' '\n",
      "could not convert string to float: ' '\n",
      "could not convert string to float: ' '\n",
      "could not convert string to float: ' '\n",
      "could not convert string to float: ' '\n",
      "could not convert string to float: ' '\n",
      "could not convert string to float: ' '\n",
      "could not convert string to float: ' '\n",
      "could not convert string to float: ' '\n",
      "could not convert string to float: ' '\n",
      "could not convert string to float: ' '\n",
      "could not convert string to float: ' '\n",
      "could not convert string to float: ' '\n",
      "could not convert string to float: ' '\n",
      "could not convert string to float: ' '\n",
      "could not convert string to float: ' '\n",
      "could not convert string to float: ' '\n",
      "could not convert string to float: ' '\n",
      "could not convert string to float: ' '\n",
      "could not convert string to float: ' '\n",
      "could not convert string to float: ' '\n",
      "could not convert string to float: ' '\n",
      "could not convert string to float: ' '\n",
      "could not convert string to float: ' '\n",
      "could not convert string to float: ' '\n",
      "could not convert string to float: ' '\n",
      "could not convert string to float: ' '\n",
      "could not convert string to float: ' '\n",
      "could not convert string to float: ' '\n",
      "could not convert string to float: ' '\n",
      "could not convert string to float: ' '\n",
      "could not convert string to float: ' '\n",
      "could not convert string to float: ' '\n",
      "could not convert string to float: ' '\n",
      "could not convert string to float: ' '\n",
      "could not convert string to float: ' '\n",
      "could not convert string to float: ' '\n",
      "could not convert string to float: ' '\n",
      "could not convert string to float: ' '\n",
      "could not convert string to float: ' '\n",
      "could not convert string to float: ' '\n",
      "could not convert string to float: ' '\n",
      "could not convert string to float: ' '\n",
      "could not convert string to float: ' '\n",
      "could not convert string to float: ' '\n",
      "could not convert string to float: ' '\n",
      "could not convert string to float: ' '\n",
      "could not convert string to float: ' '\n",
      "could not convert string to float: ' '\n",
      "could not convert string to float: ' '\n",
      "could not convert string to float: ' '\n",
      "could not convert string to float: ' '\n",
      "could not convert string to float: ' '\n",
      "could not convert string to float: ' '\n",
      "could not convert string to float: ' '\n",
      "could not convert string to float: ' '\n",
      "could not convert string to float: ' '\n",
      "could not convert string to float: ' '\n",
      "could not convert string to float: ' '\n",
      "could not convert string to float: ' '\n",
      "could not convert string to float: ' '\n",
      "could not convert string to float: ' '\n",
      "could not convert string to float: ' '\n",
      "could not convert string to float: ' '\n",
      "could not convert string to float: ' '\n",
      "could not convert string to float: ' '\n",
      "could not convert string to float: ' '\n",
      "could not convert string to float: ' '\n",
      "could not convert string to float: ' '\n",
      "could not convert string to float: ' '\n",
      "could not convert string to float: ' '\n",
      "could not convert string to float: ' '\n",
      "could not convert string to float: ' '\n",
      "could not convert string to float: ' '\n",
      "could not convert string to float: ' '\n",
      "could not convert string to float: ' '\n",
      "could not convert string to float: ' '\n",
      "could not convert string to float: ' '\n",
      "could not convert string to float: ' '\n",
      "could not convert string to float: ' '\n",
      "could not convert string to float: ' '\n",
      "could not convert string to float: ' '\n",
      "could not convert string to float: ' '\n",
      "could not convert string to float: ' '\n",
      "could not convert string to float: ' '\n",
      "could not convert string to float: ' '\n"
     ]
    },
    {
     "data": {
      "application/javascript": [
       "\n",
       "            setTimeout(function() {\n",
       "                var nbb_cell_id = 15;\n",
       "                var nbb_unformatted_code = \"NUMERIC_COLUMNS = [\\n    \\\"CaO\\\",\\n    \\\"MgO\\\",\\n    \\\"Na2O\\\",\\n    \\\"Al2O3\\\",\\n    \\\"SiO2\\\",\\n    \\\"SO3\\\",\\n    \\\"K2O\\\",\\n    \\\"TiO2\\\",\\n    \\\"Fe2O3\\\",\\n    \\\"Loss on Ignition\\\",\\n    \\\"Insoluble Residue\\\",\\n    \\\"Blaine\\\",\\n    \\\"#200\\\",\\n    \\\"#325\\\",\\n    \\\"#400\\\",\\n    \\\"Specific Gravity\\\",\\n    \\\"Final setting time\\\",\\n    \\\"Initial setting time\\\",\\n    \\\"CS1\\\",\\n    \\\"CS3\\\",\\n    \\\"CS7\\\",\\n    \\\"CS28\\\",\\n]\\n\\ndf = preprocess_numeric_cols(df, NUMERIC_COLUMNS)\\n\\n# Preprocessing to fix numeric columns\\ndf[NUMERIC_COLUMNS] = df[NUMERIC_COLUMNS].map(convert_to_float)\\n\\n# Converting Date to pandas datetime\\ndf[\\\"Date\\\"] = pd.to_datetime(df[\\\"Date\\\"])\\n\\n# Drop rows completely missing\\nindex_to_keep = (\\n    df.drop([\\\"Plant\\\", \\\"Date\\\", \\\"Cement_Type\\\"], axis=1).dropna(axis=0, how=\\\"all\\\").index\\n)\\ndf = df.iloc[index_to_keep].reset_index(drop=True)\\n\\ndf = df.infer_objects()\";\n",
       "                var nbb_formatted_code = \"NUMERIC_COLUMNS = [\\n    \\\"CaO\\\",\\n    \\\"MgO\\\",\\n    \\\"Na2O\\\",\\n    \\\"Al2O3\\\",\\n    \\\"SiO2\\\",\\n    \\\"SO3\\\",\\n    \\\"K2O\\\",\\n    \\\"TiO2\\\",\\n    \\\"Fe2O3\\\",\\n    \\\"Loss on Ignition\\\",\\n    \\\"Insoluble Residue\\\",\\n    \\\"Blaine\\\",\\n    \\\"#200\\\",\\n    \\\"#325\\\",\\n    \\\"#400\\\",\\n    \\\"Specific Gravity\\\",\\n    \\\"Final setting time\\\",\\n    \\\"Initial setting time\\\",\\n    \\\"CS1\\\",\\n    \\\"CS3\\\",\\n    \\\"CS7\\\",\\n    \\\"CS28\\\",\\n]\\n\\ndf = preprocess_numeric_cols(df, NUMERIC_COLUMNS)\\n\\n# Preprocessing to fix numeric columns\\ndf[NUMERIC_COLUMNS] = df[NUMERIC_COLUMNS].map(convert_to_float)\\n\\n# Converting Date to pandas datetime\\ndf[\\\"Date\\\"] = pd.to_datetime(df[\\\"Date\\\"])\\n\\n# Drop rows completely missing\\nindex_to_keep = (\\n    df.drop([\\\"Plant\\\", \\\"Date\\\", \\\"Cement_Type\\\"], axis=1).dropna(axis=0, how=\\\"all\\\").index\\n)\\ndf = df.iloc[index_to_keep].reset_index(drop=True)\\n\\ndf = df.infer_objects()\";\n",
       "                var nbb_cells = Jupyter.notebook.get_cells();\n",
       "                for (var i = 0; i < nbb_cells.length; ++i) {\n",
       "                    if (nbb_cells[i].input_prompt_number == nbb_cell_id) {\n",
       "                        if (nbb_cells[i].get_text() == nbb_unformatted_code) {\n",
       "                             nbb_cells[i].set_text(nbb_formatted_code);\n",
       "                        }\n",
       "                        break;\n",
       "                    }\n",
       "                }\n",
       "            }, 500);\n",
       "            "
      ],
      "text/plain": [
       "<IPython.core.display.Javascript object>"
      ]
     },
     "metadata": {},
     "output_type": "display_data"
    }
   ],
   "source": [
    "NUMERIC_COLUMNS = [\n",
    "    \"CaO\",\n",
    "    \"MgO\",\n",
    "    \"Na2O\",\n",
    "    \"Al2O3\",\n",
    "    \"SiO2\",\n",
    "    \"SO3\",\n",
    "    \"K2O\",\n",
    "    \"TiO2\",\n",
    "    \"Fe2O3\",\n",
    "    \"Loss on Ignition\",\n",
    "    \"Insoluble Residue\",\n",
    "    \"Blaine\",\n",
    "    \"#200\",\n",
    "    \"#325\",\n",
    "    \"#400\",\n",
    "    \"Specific Gravity\",\n",
    "    \"Final setting time\",\n",
    "    \"Initial setting time\",\n",
    "    \"CS1\",\n",
    "    \"CS3\",\n",
    "    \"CS7\",\n",
    "    \"CS28\",\n",
    "]\n",
    "\n",
    "df = preprocess_numeric_cols(df, NUMERIC_COLUMNS)\n",
    "\n",
    "# Preprocessing to fix numeric columns\n",
    "df[NUMERIC_COLUMNS] = df[NUMERIC_COLUMNS].map(convert_to_float)\n",
    "\n",
    "# Converting Date to pandas datetime\n",
    "df[\"Date\"] = pd.to_datetime(df[\"Date\"])\n",
    "\n",
    "# Drop rows completely missing\n",
    "index_to_keep = (\n",
    "    df.drop([\"Plant\", \"Date\", \"Cement_Type\"], axis=1).dropna(axis=0, how=\"all\").index\n",
    ")\n",
    "df = df.iloc[index_to_keep].reset_index(drop=True)\n",
    "\n",
    "df = df.infer_objects()"
   ]
  },
  {
   "cell_type": "markdown",
   "id": "0e4773d2",
   "metadata": {},
   "source": [
    "## Dropping missing features"
   ]
  },
  {
   "cell_type": "markdown",
   "id": "388dd4e1",
   "metadata": {},
   "source": [
    "### Drop rows completely missing"
   ]
  },
  {
   "cell_type": "code",
   "execution_count": 16,
   "id": "14fd3e2b",
   "metadata": {},
   "outputs": [
    {
     "data": {
      "application/javascript": [
       "\n",
       "            setTimeout(function() {\n",
       "                var nbb_cell_id = 16;\n",
       "                var nbb_unformatted_code = \"index_to_keep = (\\n    df.drop([\\\"Plant\\\", \\\"City\\\", \\\"Date\\\", \\\"Cement_Type\\\"], axis=1)\\n    .dropna(axis=0, how=\\\"all\\\")\\n    .index\\n)\\ndf = df.iloc[index_to_keep].reset_index(drop=True)\";\n",
       "                var nbb_formatted_code = \"index_to_keep = (\\n    df.drop([\\\"Plant\\\", \\\"City\\\", \\\"Date\\\", \\\"Cement_Type\\\"], axis=1)\\n    .dropna(axis=0, how=\\\"all\\\")\\n    .index\\n)\\ndf = df.iloc[index_to_keep].reset_index(drop=True)\";\n",
       "                var nbb_cells = Jupyter.notebook.get_cells();\n",
       "                for (var i = 0; i < nbb_cells.length; ++i) {\n",
       "                    if (nbb_cells[i].input_prompt_number == nbb_cell_id) {\n",
       "                        if (nbb_cells[i].get_text() == nbb_unformatted_code) {\n",
       "                             nbb_cells[i].set_text(nbb_formatted_code);\n",
       "                        }\n",
       "                        break;\n",
       "                    }\n",
       "                }\n",
       "            }, 500);\n",
       "            "
      ],
      "text/plain": [
       "<IPython.core.display.Javascript object>"
      ]
     },
     "metadata": {},
     "output_type": "display_data"
    }
   ],
   "source": [
    "index_to_keep = (\n",
    "    df.drop([\"Plant\", \"City\", \"Date\", \"Cement_Type\"], axis=1)\n",
    "    .dropna(axis=0, how=\"all\")\n",
    "    .index\n",
    ")\n",
    "df = df.iloc[index_to_keep].reset_index(drop=True)"
   ]
  },
  {
   "cell_type": "markdown",
   "id": "5d4e47da",
   "metadata": {},
   "source": [
    "### Removing features\n",
    " that will be fitted on this data.\n",
    "\n",
    "1. Removing features with features having ~50% or more of missing values\n",
    "2. Removing features with zero variance\n",
    "3. Removing features with more than 70% of zeros"
   ]
  },
  {
   "cell_type": "code",
   "execution_count": 17,
   "id": "2a377c14",
   "metadata": {},
   "outputs": [
    {
     "data": {
      "text/html": [
       "<style type=\"text/css\">\n",
       "#T_eb353_row0_col0, #T_eb353_row1_col0, #T_eb353_row2_col0, #T_eb353_row3_col0 {\n",
       "  background-color: #67000d;\n",
       "  color: #f1f1f1;\n",
       "}\n",
       "#T_eb353_row4_col0, #T_eb353_row5_col0, #T_eb353_row6_col0, #T_eb353_row7_col0, #T_eb353_row8_col0, #T_eb353_row9_col0, #T_eb353_row10_col0, #T_eb353_row11_col0 {\n",
       "  background-color: #feeae1;\n",
       "  color: #000000;\n",
       "}\n",
       "#T_eb353_row12_col0 {\n",
       "  background-color: #ffeee6;\n",
       "  color: #000000;\n",
       "}\n",
       "#T_eb353_row13_col0, #T_eb353_row14_col0, #T_eb353_row15_col0 {\n",
       "  background-color: #fff0e9;\n",
       "  color: #000000;\n",
       "}\n",
       "#T_eb353_row16_col0, #T_eb353_row17_col0 {\n",
       "  background-color: #fff1ea;\n",
       "  color: #000000;\n",
       "}\n",
       "#T_eb353_row18_col0, #T_eb353_row19_col0, #T_eb353_row20_col0 {\n",
       "  background-color: #fff4ee;\n",
       "  color: #000000;\n",
       "}\n",
       "#T_eb353_row21_col0 {\n",
       "  background-color: #fff4ef;\n",
       "  color: #000000;\n",
       "}\n",
       "#T_eb353_row22_col0, #T_eb353_row23_col0, #T_eb353_row24_col0, #T_eb353_row25_col0 {\n",
       "  background-color: #fff5f0;\n",
       "  color: #000000;\n",
       "}\n",
       "</style>\n",
       "<table id=\"T_eb353\">\n",
       "  <thead>\n",
       "    <tr>\n",
       "      <th class=\"blank level0\" >&nbsp;</th>\n",
       "      <th id=\"T_eb353_level0_col0\" class=\"col_heading level0 col0\" >Missing (%)</th>\n",
       "    </tr>\n",
       "  </thead>\n",
       "  <tbody>\n",
       "    <tr>\n",
       "      <th id=\"T_eb353_level0_row0\" class=\"row_heading level0 row0\" >CS1</th>\n",
       "      <td id=\"T_eb353_row0_col0\" class=\"data row0 col0\" >100.000000</td>\n",
       "    </tr>\n",
       "    <tr>\n",
       "      <th id=\"T_eb353_level0_row1\" class=\"row_heading level0 row1\" >Specific Gravity</th>\n",
       "      <td id=\"T_eb353_row1_col0\" class=\"data row1 col0\" >100.000000</td>\n",
       "    </tr>\n",
       "    <tr>\n",
       "      <th id=\"T_eb353_level0_row2\" class=\"row_heading level0 row2\" >#400</th>\n",
       "      <td id=\"T_eb353_row2_col0\" class=\"data row2 col0\" >100.000000</td>\n",
       "    </tr>\n",
       "    <tr>\n",
       "      <th id=\"T_eb353_level0_row3\" class=\"row_heading level0 row3\" >TiO2</th>\n",
       "      <td id=\"T_eb353_row3_col0\" class=\"data row3 col0\" >100.000000</td>\n",
       "    </tr>\n",
       "    <tr>\n",
       "      <th id=\"T_eb353_level0_row4\" class=\"row_heading level0 row4\" >SiO2</th>\n",
       "      <td id=\"T_eb353_row4_col0\" class=\"data row4 col0\" >6.469003</td>\n",
       "    </tr>\n",
       "    <tr>\n",
       "      <th id=\"T_eb353_level0_row5\" class=\"row_heading level0 row5\" >K2O</th>\n",
       "      <td id=\"T_eb353_row5_col0\" class=\"data row5 col0\" >6.469003</td>\n",
       "    </tr>\n",
       "    <tr>\n",
       "      <th id=\"T_eb353_level0_row6\" class=\"row_heading level0 row6\" >SO3</th>\n",
       "      <td id=\"T_eb353_row6_col0\" class=\"data row6 col0\" >6.469003</td>\n",
       "    </tr>\n",
       "    <tr>\n",
       "      <th id=\"T_eb353_level0_row7\" class=\"row_heading level0 row7\" >Fe2O3</th>\n",
       "      <td id=\"T_eb353_row7_col0\" class=\"data row7 col0\" >6.469003</td>\n",
       "    </tr>\n",
       "    <tr>\n",
       "      <th id=\"T_eb353_level0_row8\" class=\"row_heading level0 row8\" >Al2O3</th>\n",
       "      <td id=\"T_eb353_row8_col0\" class=\"data row8 col0\" >6.469003</td>\n",
       "    </tr>\n",
       "    <tr>\n",
       "      <th id=\"T_eb353_level0_row9\" class=\"row_heading level0 row9\" >Na2O</th>\n",
       "      <td id=\"T_eb353_row9_col0\" class=\"data row9 col0\" >6.469003</td>\n",
       "    </tr>\n",
       "    <tr>\n",
       "      <th id=\"T_eb353_level0_row10\" class=\"row_heading level0 row10\" >MgO</th>\n",
       "      <td id=\"T_eb353_row10_col0\" class=\"data row10 col0\" >6.469003</td>\n",
       "    </tr>\n",
       "    <tr>\n",
       "      <th id=\"T_eb353_level0_row11\" class=\"row_heading level0 row11\" >CaO</th>\n",
       "      <td id=\"T_eb353_row11_col0\" class=\"data row11 col0\" >6.469003</td>\n",
       "    </tr>\n",
       "    <tr>\n",
       "      <th id=\"T_eb353_level0_row12\" class=\"row_heading level0 row12\" >CS28</th>\n",
       "      <td id=\"T_eb353_row12_col0\" class=\"data row12 col0\" >4.582210</td>\n",
       "    </tr>\n",
       "    <tr>\n",
       "      <th id=\"T_eb353_level0_row13\" class=\"row_heading level0 row13\" >Loss on Ignition</th>\n",
       "      <td id=\"T_eb353_row13_col0\" class=\"data row13 col0\" >2.964960</td>\n",
       "    </tr>\n",
       "    <tr>\n",
       "      <th id=\"T_eb353_level0_row14\" class=\"row_heading level0 row14\" >#200</th>\n",
       "      <td id=\"T_eb353_row14_col0\" class=\"data row14 col0\" >2.964960</td>\n",
       "    </tr>\n",
       "    <tr>\n",
       "      <th id=\"T_eb353_level0_row15\" class=\"row_heading level0 row15\" >Insoluble Residue</th>\n",
       "      <td id=\"T_eb353_row15_col0\" class=\"data row15 col0\" >2.964960</td>\n",
       "    </tr>\n",
       "    <tr>\n",
       "      <th id=\"T_eb353_level0_row16\" class=\"row_heading level0 row16\" >Blaine</th>\n",
       "      <td id=\"T_eb353_row16_col0\" class=\"data row16 col0\" >2.695418</td>\n",
       "    </tr>\n",
       "    <tr>\n",
       "      <th id=\"T_eb353_level0_row17\" class=\"row_heading level0 row17\" >#325</th>\n",
       "      <td id=\"T_eb353_row17_col0\" class=\"data row17 col0\" >2.695418</td>\n",
       "    </tr>\n",
       "    <tr>\n",
       "      <th id=\"T_eb353_level0_row18\" class=\"row_heading level0 row18\" >CS7</th>\n",
       "      <td id=\"T_eb353_row18_col0\" class=\"data row18 col0\" >1.078167</td>\n",
       "    </tr>\n",
       "    <tr>\n",
       "      <th id=\"T_eb353_level0_row19\" class=\"row_heading level0 row19\" >Initial setting time</th>\n",
       "      <td id=\"T_eb353_row19_col0\" class=\"data row19 col0\" >1.078167</td>\n",
       "    </tr>\n",
       "    <tr>\n",
       "      <th id=\"T_eb353_level0_row20\" class=\"row_heading level0 row20\" >Final setting time</th>\n",
       "      <td id=\"T_eb353_row20_col0\" class=\"data row20 col0\" >1.078167</td>\n",
       "    </tr>\n",
       "    <tr>\n",
       "      <th id=\"T_eb353_level0_row21\" class=\"row_heading level0 row21\" >CS3</th>\n",
       "      <td id=\"T_eb353_row21_col0\" class=\"data row21 col0\" >0.539084</td>\n",
       "    </tr>\n",
       "    <tr>\n",
       "      <th id=\"T_eb353_level0_row22\" class=\"row_heading level0 row22\" >Plant</th>\n",
       "      <td id=\"T_eb353_row22_col0\" class=\"data row22 col0\" >0.000000</td>\n",
       "    </tr>\n",
       "    <tr>\n",
       "      <th id=\"T_eb353_level0_row23\" class=\"row_heading level0 row23\" >City</th>\n",
       "      <td id=\"T_eb353_row23_col0\" class=\"data row23 col0\" >0.000000</td>\n",
       "    </tr>\n",
       "    <tr>\n",
       "      <th id=\"T_eb353_level0_row24\" class=\"row_heading level0 row24\" >Date</th>\n",
       "      <td id=\"T_eb353_row24_col0\" class=\"data row24 col0\" >0.000000</td>\n",
       "    </tr>\n",
       "    <tr>\n",
       "      <th id=\"T_eb353_level0_row25\" class=\"row_heading level0 row25\" >Cement_Type</th>\n",
       "      <td id=\"T_eb353_row25_col0\" class=\"data row25 col0\" >0.000000</td>\n",
       "    </tr>\n",
       "  </tbody>\n",
       "</table>\n"
      ],
      "text/plain": [
       "<pandas.io.formats.style.Styler at 0x73972401e1d0>"
      ]
     },
     "execution_count": 17,
     "metadata": {},
     "output_type": "execute_result"
    },
    {
     "data": {
      "application/javascript": [
       "\n",
       "            setTimeout(function() {\n",
       "                var nbb_cell_id = 17;\n",
       "                var nbb_unformatted_code = \"(df.isna().sum() / df.shape[0] * 100).sort_values(ascending=False).to_frame(\\n    name=\\\"Missing (%)\\\"\\n).style.background_gradient(cmap=\\\"Reds\\\")\";\n",
       "                var nbb_formatted_code = \"(df.isna().sum() / df.shape[0] * 100).sort_values(ascending=False).to_frame(\\n    name=\\\"Missing (%)\\\"\\n).style.background_gradient(cmap=\\\"Reds\\\")\";\n",
       "                var nbb_cells = Jupyter.notebook.get_cells();\n",
       "                for (var i = 0; i < nbb_cells.length; ++i) {\n",
       "                    if (nbb_cells[i].input_prompt_number == nbb_cell_id) {\n",
       "                        if (nbb_cells[i].get_text() == nbb_unformatted_code) {\n",
       "                             nbb_cells[i].set_text(nbb_formatted_code);\n",
       "                        }\n",
       "                        break;\n",
       "                    }\n",
       "                }\n",
       "            }, 500);\n",
       "            "
      ],
      "text/plain": [
       "<IPython.core.display.Javascript object>"
      ]
     },
     "metadata": {},
     "output_type": "display_data"
    }
   ],
   "source": [
    "(df.isna().sum() / df.shape[0] * 100).sort_values(ascending=False).to_frame(\n",
    "    name=\"Missing (%)\"\n",
    ").style.background_gradient(cmap=\"Reds\")"
   ]
  },
  {
   "cell_type": "markdown",
   "id": "7e8fd8fa",
   "metadata": {},
   "source": [
    "<h3>Percentage of missing values:</h3>\n",
    "<table>\n",
    "    <th>Plant A - Full Dataset:</th>\n",
    "    <th></th>\n",
    "    <tr>\n",
    "        <td>Specific Gravity</td>\n",
    "        <td>100.00</td>\n",
    "    </tr>\n",
    "    <tr>\n",
    "        <td>#400</td>\n",
    "        <td>100.00</td>\n",
    "    </tr>\n",
    "    <tr>\n",
    "        <td>TiO2</td>\n",
    "        <td>100.00</td>\n",
    "    </tr>  \n",
    "    <tr>\n",
    "        <td>CS1</td>\n",
    "        <td>100.00</td>\n",
    "    </tr>\n",
    "</table>"
   ]
  },
  {
   "cell_type": "code",
   "execution_count": 18,
   "id": "b781ce23",
   "metadata": {},
   "outputs": [
    {
     "data": {
      "application/javascript": [
       "\n",
       "            setTimeout(function() {\n",
       "                var nbb_cell_id = 18;\n",
       "                var nbb_unformatted_code = \"FEATRUES_TO_DROP = [\\\"Specific Gravity\\\", \\\"#400\\\", \\\"TiO2\\\", \\\"CS1\\\"]\\ndf = df.drop(labels=FEATRUES_TO_DROP, axis=1)\";\n",
       "                var nbb_formatted_code = \"FEATRUES_TO_DROP = [\\\"Specific Gravity\\\", \\\"#400\\\", \\\"TiO2\\\", \\\"CS1\\\"]\\ndf = df.drop(labels=FEATRUES_TO_DROP, axis=1)\";\n",
       "                var nbb_cells = Jupyter.notebook.get_cells();\n",
       "                for (var i = 0; i < nbb_cells.length; ++i) {\n",
       "                    if (nbb_cells[i].input_prompt_number == nbb_cell_id) {\n",
       "                        if (nbb_cells[i].get_text() == nbb_unformatted_code) {\n",
       "                             nbb_cells[i].set_text(nbb_formatted_code);\n",
       "                        }\n",
       "                        break;\n",
       "                    }\n",
       "                }\n",
       "            }, 500);\n",
       "            "
      ],
      "text/plain": [
       "<IPython.core.display.Javascript object>"
      ]
     },
     "metadata": {},
     "output_type": "display_data"
    }
   ],
   "source": [
    "FEATRUES_TO_DROP = [\"Specific Gravity\", \"#400\", \"TiO2\", \"CS1\"]\n",
    "df = df.drop(labels=FEATRUES_TO_DROP, axis=1)"
   ]
  },
  {
   "cell_type": "markdown",
   "id": "082fd941",
   "metadata": {},
   "source": [
    "### Removing features with many zeros when applicable"
   ]
  },
  {
   "cell_type": "code",
   "execution_count": 19,
   "id": "9a08a31f",
   "metadata": {},
   "outputs": [
    {
     "data": {
      "text/html": [
       "<style type=\"text/css\">\n",
       "#T_780c9_row0_col0 {\n",
       "  background-color: #67000d;\n",
       "  color: #f1f1f1;\n",
       "}\n",
       "#T_780c9_row1_col0, #T_780c9_row2_col0, #T_780c9_row3_col0, #T_780c9_row4_col0, #T_780c9_row5_col0, #T_780c9_row6_col0, #T_780c9_row7_col0, #T_780c9_row8_col0, #T_780c9_row9_col0, #T_780c9_row10_col0, #T_780c9_row11_col0, #T_780c9_row12_col0, #T_780c9_row13_col0, #T_780c9_row14_col0, #T_780c9_row15_col0, #T_780c9_row16_col0, #T_780c9_row17_col0 {\n",
       "  background-color: #fff5f0;\n",
       "  color: #000000;\n",
       "}\n",
       "</style>\n",
       "<table id=\"T_780c9\">\n",
       "  <thead>\n",
       "    <tr>\n",
       "      <th class=\"blank level0\" >&nbsp;</th>\n",
       "      <th id=\"T_780c9_level0_col0\" class=\"col_heading level0 col0\" >Zero (%) for AG</th>\n",
       "    </tr>\n",
       "  </thead>\n",
       "  <tbody>\n",
       "    <tr>\n",
       "      <th id=\"T_780c9_level0_row0\" class=\"row_heading level0 row0\" >#200</th>\n",
       "      <td id=\"T_780c9_row0_col0\" class=\"data row0 col0\" >7.547170</td>\n",
       "    </tr>\n",
       "    <tr>\n",
       "      <th id=\"T_780c9_level0_row1\" class=\"row_heading level0 row1\" >CaO</th>\n",
       "      <td id=\"T_780c9_row1_col0\" class=\"data row1 col0\" >0.000000</td>\n",
       "    </tr>\n",
       "    <tr>\n",
       "      <th id=\"T_780c9_level0_row2\" class=\"row_heading level0 row2\" >MgO</th>\n",
       "      <td id=\"T_780c9_row2_col0\" class=\"data row2 col0\" >0.000000</td>\n",
       "    </tr>\n",
       "    <tr>\n",
       "      <th id=\"T_780c9_level0_row3\" class=\"row_heading level0 row3\" >CS7</th>\n",
       "      <td id=\"T_780c9_row3_col0\" class=\"data row3 col0\" >0.000000</td>\n",
       "    </tr>\n",
       "    <tr>\n",
       "      <th id=\"T_780c9_level0_row4\" class=\"row_heading level0 row4\" >CS3</th>\n",
       "      <td id=\"T_780c9_row4_col0\" class=\"data row4 col0\" >0.000000</td>\n",
       "    </tr>\n",
       "    <tr>\n",
       "      <th id=\"T_780c9_level0_row5\" class=\"row_heading level0 row5\" >Final setting time</th>\n",
       "      <td id=\"T_780c9_row5_col0\" class=\"data row5 col0\" >0.000000</td>\n",
       "    </tr>\n",
       "    <tr>\n",
       "      <th id=\"T_780c9_level0_row6\" class=\"row_heading level0 row6\" >Initial setting time</th>\n",
       "      <td id=\"T_780c9_row6_col0\" class=\"data row6 col0\" >0.000000</td>\n",
       "    </tr>\n",
       "    <tr>\n",
       "      <th id=\"T_780c9_level0_row7\" class=\"row_heading level0 row7\" >#325</th>\n",
       "      <td id=\"T_780c9_row7_col0\" class=\"data row7 col0\" >0.000000</td>\n",
       "    </tr>\n",
       "    <tr>\n",
       "      <th id=\"T_780c9_level0_row8\" class=\"row_heading level0 row8\" >Blaine</th>\n",
       "      <td id=\"T_780c9_row8_col0\" class=\"data row8 col0\" >0.000000</td>\n",
       "    </tr>\n",
       "    <tr>\n",
       "      <th id=\"T_780c9_level0_row9\" class=\"row_heading level0 row9\" >Insoluble Residue</th>\n",
       "      <td id=\"T_780c9_row9_col0\" class=\"data row9 col0\" >0.000000</td>\n",
       "    </tr>\n",
       "    <tr>\n",
       "      <th id=\"T_780c9_level0_row10\" class=\"row_heading level0 row10\" >Loss on Ignition</th>\n",
       "      <td id=\"T_780c9_row10_col0\" class=\"data row10 col0\" >0.000000</td>\n",
       "    </tr>\n",
       "    <tr>\n",
       "      <th id=\"T_780c9_level0_row11\" class=\"row_heading level0 row11\" >Fe2O3</th>\n",
       "      <td id=\"T_780c9_row11_col0\" class=\"data row11 col0\" >0.000000</td>\n",
       "    </tr>\n",
       "    <tr>\n",
       "      <th id=\"T_780c9_level0_row12\" class=\"row_heading level0 row12\" >K2O</th>\n",
       "      <td id=\"T_780c9_row12_col0\" class=\"data row12 col0\" >0.000000</td>\n",
       "    </tr>\n",
       "    <tr>\n",
       "      <th id=\"T_780c9_level0_row13\" class=\"row_heading level0 row13\" >SO3</th>\n",
       "      <td id=\"T_780c9_row13_col0\" class=\"data row13 col0\" >0.000000</td>\n",
       "    </tr>\n",
       "    <tr>\n",
       "      <th id=\"T_780c9_level0_row14\" class=\"row_heading level0 row14\" >SiO2</th>\n",
       "      <td id=\"T_780c9_row14_col0\" class=\"data row14 col0\" >0.000000</td>\n",
       "    </tr>\n",
       "    <tr>\n",
       "      <th id=\"T_780c9_level0_row15\" class=\"row_heading level0 row15\" >Al2O3</th>\n",
       "      <td id=\"T_780c9_row15_col0\" class=\"data row15 col0\" >0.000000</td>\n",
       "    </tr>\n",
       "    <tr>\n",
       "      <th id=\"T_780c9_level0_row16\" class=\"row_heading level0 row16\" >Na2O</th>\n",
       "      <td id=\"T_780c9_row16_col0\" class=\"data row16 col0\" >0.000000</td>\n",
       "    </tr>\n",
       "    <tr>\n",
       "      <th id=\"T_780c9_level0_row17\" class=\"row_heading level0 row17\" >CS28</th>\n",
       "      <td id=\"T_780c9_row17_col0\" class=\"data row17 col0\" >0.000000</td>\n",
       "    </tr>\n",
       "  </tbody>\n",
       "</table>\n"
      ],
      "text/plain": [
       "<pandas.io.formats.style.Styler at 0x7396bc3cfb20>"
      ]
     },
     "execution_count": 19,
     "metadata": {},
     "output_type": "execute_result"
    },
    {
     "data": {
      "application/javascript": [
       "\n",
       "            setTimeout(function() {\n",
       "                var nbb_cell_id = 19;\n",
       "                var nbb_unformatted_code = \"zero_values = {}\\nfor col in df.select_dtypes(include=\\\"number\\\").columns:\\n    zero_percentages = (df[df[col].eq(0)].shape[0] / df.shape[0]) * 100\\n    zero_values[col] = zero_percentages\\n\\nzero_percentages = pd.Series(zero_values, name=f\\\"Zero (%) for {plant}\\\")\\nzero_percentages = zero_percentages.sort_values(ascending=False)\\nzero_percentages = zero_percentages.to_frame(name=f\\\"Zero (%) for {plant}\\\")\\nzero_percentages.style.background_gradient(cmap=\\\"Reds\\\")\";\n",
       "                var nbb_formatted_code = \"zero_values = {}\\nfor col in df.select_dtypes(include=\\\"number\\\").columns:\\n    zero_percentages = (df[df[col].eq(0)].shape[0] / df.shape[0]) * 100\\n    zero_values[col] = zero_percentages\\n\\nzero_percentages = pd.Series(zero_values, name=f\\\"Zero (%) for {plant}\\\")\\nzero_percentages = zero_percentages.sort_values(ascending=False)\\nzero_percentages = zero_percentages.to_frame(name=f\\\"Zero (%) for {plant}\\\")\\nzero_percentages.style.background_gradient(cmap=\\\"Reds\\\")\";\n",
       "                var nbb_cells = Jupyter.notebook.get_cells();\n",
       "                for (var i = 0; i < nbb_cells.length; ++i) {\n",
       "                    if (nbb_cells[i].input_prompt_number == nbb_cell_id) {\n",
       "                        if (nbb_cells[i].get_text() == nbb_unformatted_code) {\n",
       "                             nbb_cells[i].set_text(nbb_formatted_code);\n",
       "                        }\n",
       "                        break;\n",
       "                    }\n",
       "                }\n",
       "            }, 500);\n",
       "            "
      ],
      "text/plain": [
       "<IPython.core.display.Javascript object>"
      ]
     },
     "metadata": {},
     "output_type": "display_data"
    }
   ],
   "source": [
    "zero_values = {}\n",
    "for col in df.select_dtypes(include=\"number\").columns:\n",
    "    zero_percentages = (df[df[col].eq(0)].shape[0] / df.shape[0]) * 100\n",
    "    zero_values[col] = zero_percentages\n",
    "\n",
    "zero_percentages = pd.Series(zero_values, name=f\"Zero (%) for {plant}\")\n",
    "zero_percentages = zero_percentages.sort_values(ascending=False)\n",
    "zero_percentages = zero_percentages.to_frame(name=f\"Zero (%) for {plant}\")\n",
    "zero_percentages.style.background_gradient(cmap=\"Reds\")"
   ]
  },
  {
   "cell_type": "markdown",
   "id": "1b0087d0",
   "metadata": {},
   "source": [
    "### Dropping variable with City and Plant identification"
   ]
  },
  {
   "cell_type": "code",
   "execution_count": 20,
   "id": "2dd18010",
   "metadata": {},
   "outputs": [
    {
     "data": {
      "application/javascript": [
       "\n",
       "            setTimeout(function() {\n",
       "                var nbb_cell_id = 20;\n",
       "                var nbb_unformatted_code = \"FEATRUES_TO_DROP = [\\\"City\\\", \\\"Plant\\\"]\\ndf = df.drop(labels=FEATRUES_TO_DROP, axis=1)\";\n",
       "                var nbb_formatted_code = \"FEATRUES_TO_DROP = [\\\"City\\\", \\\"Plant\\\"]\\ndf = df.drop(labels=FEATRUES_TO_DROP, axis=1)\";\n",
       "                var nbb_cells = Jupyter.notebook.get_cells();\n",
       "                for (var i = 0; i < nbb_cells.length; ++i) {\n",
       "                    if (nbb_cells[i].input_prompt_number == nbb_cell_id) {\n",
       "                        if (nbb_cells[i].get_text() == nbb_unformatted_code) {\n",
       "                             nbb_cells[i].set_text(nbb_formatted_code);\n",
       "                        }\n",
       "                        break;\n",
       "                    }\n",
       "                }\n",
       "            }, 500);\n",
       "            "
      ],
      "text/plain": [
       "<IPython.core.display.Javascript object>"
      ]
     },
     "metadata": {},
     "output_type": "display_data"
    }
   ],
   "source": [
    "FEATRUES_TO_DROP = [\"City\", \"Plant\"]\n",
    "df = df.drop(labels=FEATRUES_TO_DROP, axis=1)"
   ]
  },
  {
   "cell_type": "markdown",
   "id": "77150ffd",
   "metadata": {},
   "source": [
    "### Dropping rows where the target variable is null"
   ]
  },
  {
   "cell_type": "code",
   "execution_count": 21,
   "id": "6ac90829",
   "metadata": {},
   "outputs": [
    {
     "data": {
      "application/javascript": [
       "\n",
       "            setTimeout(function() {\n",
       "                var nbb_cell_id = 21;\n",
       "                var nbb_unformatted_code = \"df = df[df[\\\"CS28\\\"].notna()]\";\n",
       "                var nbb_formatted_code = \"df = df[df[\\\"CS28\\\"].notna()]\";\n",
       "                var nbb_cells = Jupyter.notebook.get_cells();\n",
       "                for (var i = 0; i < nbb_cells.length; ++i) {\n",
       "                    if (nbb_cells[i].input_prompt_number == nbb_cell_id) {\n",
       "                        if (nbb_cells[i].get_text() == nbb_unformatted_code) {\n",
       "                             nbb_cells[i].set_text(nbb_formatted_code);\n",
       "                        }\n",
       "                        break;\n",
       "                    }\n",
       "                }\n",
       "            }, 500);\n",
       "            "
      ],
      "text/plain": [
       "<IPython.core.display.Javascript object>"
      ]
     },
     "metadata": {},
     "output_type": "display_data"
    }
   ],
   "source": [
    "df = df[df[\"CS28\"].notna()]"
   ]
  },
  {
   "cell_type": "markdown",
   "id": "0a8e3c5b",
   "metadata": {},
   "source": [
    "### Dropping rows where the target variable is zero"
   ]
  },
  {
   "cell_type": "code",
   "execution_count": 22,
   "id": "bef56e14",
   "metadata": {},
   "outputs": [
    {
     "data": {
      "application/javascript": [
       "\n",
       "            setTimeout(function() {\n",
       "                var nbb_cell_id = 22;\n",
       "                var nbb_unformatted_code = \"df = df[~df[\\\"CS28\\\"].eq(0)]\";\n",
       "                var nbb_formatted_code = \"df = df[~df[\\\"CS28\\\"].eq(0)]\";\n",
       "                var nbb_cells = Jupyter.notebook.get_cells();\n",
       "                for (var i = 0; i < nbb_cells.length; ++i) {\n",
       "                    if (nbb_cells[i].input_prompt_number == nbb_cell_id) {\n",
       "                        if (nbb_cells[i].get_text() == nbb_unformatted_code) {\n",
       "                             nbb_cells[i].set_text(nbb_formatted_code);\n",
       "                        }\n",
       "                        break;\n",
       "                    }\n",
       "                }\n",
       "            }, 500);\n",
       "            "
      ],
      "text/plain": [
       "<IPython.core.display.Javascript object>"
      ]
     },
     "metadata": {},
     "output_type": "display_data"
    }
   ],
   "source": [
    "df = df[~df[\"CS28\"].eq(0)]"
   ]
  },
  {
   "cell_type": "code",
   "execution_count": 23,
   "id": "6c305a61",
   "metadata": {},
   "outputs": [
    {
     "data": {
      "text/plain": [
       "(354, 20)"
      ]
     },
     "execution_count": 23,
     "metadata": {},
     "output_type": "execute_result"
    },
    {
     "data": {
      "application/javascript": [
       "\n",
       "            setTimeout(function() {\n",
       "                var nbb_cell_id = 23;\n",
       "                var nbb_unformatted_code = \"df.shape\";\n",
       "                var nbb_formatted_code = \"df.shape\";\n",
       "                var nbb_cells = Jupyter.notebook.get_cells();\n",
       "                for (var i = 0; i < nbb_cells.length; ++i) {\n",
       "                    if (nbb_cells[i].input_prompt_number == nbb_cell_id) {\n",
       "                        if (nbb_cells[i].get_text() == nbb_unformatted_code) {\n",
       "                             nbb_cells[i].set_text(nbb_formatted_code);\n",
       "                        }\n",
       "                        break;\n",
       "                    }\n",
       "                }\n",
       "            }, 500);\n",
       "            "
      ],
      "text/plain": [
       "<IPython.core.display.Javascript object>"
      ]
     },
     "metadata": {},
     "output_type": "display_data"
    }
   ],
   "source": [
    "df.shape"
   ]
  },
  {
   "cell_type": "code",
   "execution_count": 24,
   "id": "bab136d8",
   "metadata": {},
   "outputs": [
    {
     "data": {
      "application/javascript": [
       "\n",
       "            setTimeout(function() {\n",
       "                var nbb_cell_id = 24;\n",
       "                var nbb_unformatted_code = \"# df.describe().T\";\n",
       "                var nbb_formatted_code = \"# df.describe().T\";\n",
       "                var nbb_cells = Jupyter.notebook.get_cells();\n",
       "                for (var i = 0; i < nbb_cells.length; ++i) {\n",
       "                    if (nbb_cells[i].input_prompt_number == nbb_cell_id) {\n",
       "                        if (nbb_cells[i].get_text() == nbb_unformatted_code) {\n",
       "                             nbb_cells[i].set_text(nbb_formatted_code);\n",
       "                        }\n",
       "                        break;\n",
       "                    }\n",
       "                }\n",
       "            }, 500);\n",
       "            "
      ],
      "text/plain": [
       "<IPython.core.display.Javascript object>"
      ]
     },
     "metadata": {},
     "output_type": "display_data"
    }
   ],
   "source": [
    "# df.describe().T"
   ]
  },
  {
   "cell_type": "code",
   "execution_count": 25,
   "id": "16597882",
   "metadata": {},
   "outputs": [
    {
     "data": {
      "application/javascript": [
       "\n",
       "            setTimeout(function() {\n",
       "                var nbb_cell_id = 25;\n",
       "                var nbb_unformatted_code = \"# df_copy = df.copy()\";\n",
       "                var nbb_formatted_code = \"# df_copy = df.copy()\";\n",
       "                var nbb_cells = Jupyter.notebook.get_cells();\n",
       "                for (var i = 0; i < nbb_cells.length; ++i) {\n",
       "                    if (nbb_cells[i].input_prompt_number == nbb_cell_id) {\n",
       "                        if (nbb_cells[i].get_text() == nbb_unformatted_code) {\n",
       "                             nbb_cells[i].set_text(nbb_formatted_code);\n",
       "                        }\n",
       "                        break;\n",
       "                    }\n",
       "                }\n",
       "            }, 500);\n",
       "            "
      ],
      "text/plain": [
       "<IPython.core.display.Javascript object>"
      ]
     },
     "metadata": {},
     "output_type": "display_data"
    }
   ],
   "source": [
    "# df_copy = df.copy()"
   ]
  },
  {
   "cell_type": "markdown",
   "id": "b1bb693c",
   "metadata": {},
   "source": [
    "### Dropping rows where any other variable has a zero value"
   ]
  },
  {
   "cell_type": "code",
   "execution_count": 26,
   "id": "0f69dd4f",
   "metadata": {},
   "outputs": [
    {
     "data": {
      "application/javascript": [
       "\n",
       "            setTimeout(function() {\n",
       "                var nbb_cell_id = 26;\n",
       "                var nbb_unformatted_code = \"for col in df.columns:\\n    df = df[~df[col].eq(0)]\";\n",
       "                var nbb_formatted_code = \"for col in df.columns:\\n    df = df[~df[col].eq(0)]\";\n",
       "                var nbb_cells = Jupyter.notebook.get_cells();\n",
       "                for (var i = 0; i < nbb_cells.length; ++i) {\n",
       "                    if (nbb_cells[i].input_prompt_number == nbb_cell_id) {\n",
       "                        if (nbb_cells[i].get_text() == nbb_unformatted_code) {\n",
       "                             nbb_cells[i].set_text(nbb_formatted_code);\n",
       "                        }\n",
       "                        break;\n",
       "                    }\n",
       "                }\n",
       "            }, 500);\n",
       "            "
      ],
      "text/plain": [
       "<IPython.core.display.Javascript object>"
      ]
     },
     "metadata": {},
     "output_type": "display_data"
    }
   ],
   "source": [
    "for col in df.columns:\n",
    "    df = df[~df[col].eq(0)]"
   ]
  },
  {
   "cell_type": "code",
   "execution_count": 27,
   "id": "2b9a9d3c",
   "metadata": {},
   "outputs": [
    {
     "data": {
      "text/plain": [
       "(326, 20)"
      ]
     },
     "execution_count": 27,
     "metadata": {},
     "output_type": "execute_result"
    },
    {
     "data": {
      "application/javascript": [
       "\n",
       "            setTimeout(function() {\n",
       "                var nbb_cell_id = 27;\n",
       "                var nbb_unformatted_code = \"df.shape\";\n",
       "                var nbb_formatted_code = \"df.shape\";\n",
       "                var nbb_cells = Jupyter.notebook.get_cells();\n",
       "                for (var i = 0; i < nbb_cells.length; ++i) {\n",
       "                    if (nbb_cells[i].input_prompt_number == nbb_cell_id) {\n",
       "                        if (nbb_cells[i].get_text() == nbb_unformatted_code) {\n",
       "                             nbb_cells[i].set_text(nbb_formatted_code);\n",
       "                        }\n",
       "                        break;\n",
       "                    }\n",
       "                }\n",
       "            }, 500);\n",
       "            "
      ],
      "text/plain": [
       "<IPython.core.display.Javascript object>"
      ]
     },
     "metadata": {},
     "output_type": "display_data"
    }
   ],
   "source": [
    "df.shape"
   ]
  },
  {
   "cell_type": "code",
   "execution_count": 28,
   "id": "c7b91709",
   "metadata": {},
   "outputs": [
    {
     "data": {
      "text/html": [
       "<style type=\"text/css\">\n",
       "#T_8c6d5_row0_col0, #T_8c6d5_row1_col0, #T_8c6d5_row2_col0, #T_8c6d5_row3_col0, #T_8c6d5_row4_col0, #T_8c6d5_row5_col0, #T_8c6d5_row6_col0, #T_8c6d5_row7_col0 {\n",
       "  background-color: #67000d;\n",
       "  color: #f1f1f1;\n",
       "}\n",
       "#T_8c6d5_row8_col0, #T_8c6d5_row9_col0, #T_8c6d5_row10_col0 {\n",
       "  background-color: #ea362a;\n",
       "  color: #f1f1f1;\n",
       "}\n",
       "#T_8c6d5_row11_col0, #T_8c6d5_row12_col0 {\n",
       "  background-color: #f44f39;\n",
       "  color: #f1f1f1;\n",
       "}\n",
       "#T_8c6d5_row13_col0, #T_8c6d5_row14_col0 {\n",
       "  background-color: #fcaf93;\n",
       "  color: #000000;\n",
       "}\n",
       "#T_8c6d5_row15_col0, #T_8c6d5_row16_col0 {\n",
       "  background-color: #fedbcc;\n",
       "  color: #000000;\n",
       "}\n",
       "#T_8c6d5_row17_col0, #T_8c6d5_row18_col0, #T_8c6d5_row19_col0 {\n",
       "  background-color: #fff5f0;\n",
       "  color: #000000;\n",
       "}\n",
       "</style>\n",
       "<table id=\"T_8c6d5\">\n",
       "  <thead>\n",
       "    <tr>\n",
       "      <th class=\"blank level0\" >&nbsp;</th>\n",
       "      <th id=\"T_8c6d5_level0_col0\" class=\"col_heading level0 col0\" >Missing (%)</th>\n",
       "    </tr>\n",
       "  </thead>\n",
       "  <tbody>\n",
       "    <tr>\n",
       "      <th id=\"T_8c6d5_level0_row0\" class=\"row_heading level0 row0\" >CaO</th>\n",
       "      <td id=\"T_8c6d5_row0_col0\" class=\"data row0 col0\" >4.294479</td>\n",
       "    </tr>\n",
       "    <tr>\n",
       "      <th id=\"T_8c6d5_level0_row1\" class=\"row_heading level0 row1\" >MgO</th>\n",
       "      <td id=\"T_8c6d5_row1_col0\" class=\"data row1 col0\" >4.294479</td>\n",
       "    </tr>\n",
       "    <tr>\n",
       "      <th id=\"T_8c6d5_level0_row2\" class=\"row_heading level0 row2\" >Na2O</th>\n",
       "      <td id=\"T_8c6d5_row2_col0\" class=\"data row2 col0\" >4.294479</td>\n",
       "    </tr>\n",
       "    <tr>\n",
       "      <th id=\"T_8c6d5_level0_row3\" class=\"row_heading level0 row3\" >Al2O3</th>\n",
       "      <td id=\"T_8c6d5_row3_col0\" class=\"data row3 col0\" >4.294479</td>\n",
       "    </tr>\n",
       "    <tr>\n",
       "      <th id=\"T_8c6d5_level0_row4\" class=\"row_heading level0 row4\" >SiO2</th>\n",
       "      <td id=\"T_8c6d5_row4_col0\" class=\"data row4 col0\" >4.294479</td>\n",
       "    </tr>\n",
       "    <tr>\n",
       "      <th id=\"T_8c6d5_level0_row5\" class=\"row_heading level0 row5\" >SO3</th>\n",
       "      <td id=\"T_8c6d5_row5_col0\" class=\"data row5 col0\" >4.294479</td>\n",
       "    </tr>\n",
       "    <tr>\n",
       "      <th id=\"T_8c6d5_level0_row6\" class=\"row_heading level0 row6\" >K2O</th>\n",
       "      <td id=\"T_8c6d5_row6_col0\" class=\"data row6 col0\" >4.294479</td>\n",
       "    </tr>\n",
       "    <tr>\n",
       "      <th id=\"T_8c6d5_level0_row7\" class=\"row_heading level0 row7\" >Fe2O3</th>\n",
       "      <td id=\"T_8c6d5_row7_col0\" class=\"data row7 col0\" >4.294479</td>\n",
       "    </tr>\n",
       "    <tr>\n",
       "      <th id=\"T_8c6d5_level0_row8\" class=\"row_heading level0 row8\" >Insoluble Residue</th>\n",
       "      <td id=\"T_8c6d5_row8_col0\" class=\"data row8 col0\" >2.760736</td>\n",
       "    </tr>\n",
       "    <tr>\n",
       "      <th id=\"T_8c6d5_level0_row9\" class=\"row_heading level0 row9\" >#200</th>\n",
       "      <td id=\"T_8c6d5_row9_col0\" class=\"data row9 col0\" >2.760736</td>\n",
       "    </tr>\n",
       "    <tr>\n",
       "      <th id=\"T_8c6d5_level0_row10\" class=\"row_heading level0 row10\" >Loss on Ignition</th>\n",
       "      <td id=\"T_8c6d5_row10_col0\" class=\"data row10 col0\" >2.760736</td>\n",
       "    </tr>\n",
       "    <tr>\n",
       "      <th id=\"T_8c6d5_level0_row11\" class=\"row_heading level0 row11\" >Blaine</th>\n",
       "      <td id=\"T_8c6d5_row11_col0\" class=\"data row11 col0\" >2.453988</td>\n",
       "    </tr>\n",
       "    <tr>\n",
       "      <th id=\"T_8c6d5_level0_row12\" class=\"row_heading level0 row12\" >#325</th>\n",
       "      <td id=\"T_8c6d5_row12_col0\" class=\"data row12 col0\" >2.453988</td>\n",
       "    </tr>\n",
       "    <tr>\n",
       "      <th id=\"T_8c6d5_level0_row13\" class=\"row_heading level0 row13\" >Initial setting time</th>\n",
       "      <td id=\"T_8c6d5_row13_col0\" class=\"data row13 col0\" >1.226994</td>\n",
       "    </tr>\n",
       "    <tr>\n",
       "      <th id=\"T_8c6d5_level0_row14\" class=\"row_heading level0 row14\" >Final setting time</th>\n",
       "      <td id=\"T_8c6d5_row14_col0\" class=\"data row14 col0\" >1.226994</td>\n",
       "    </tr>\n",
       "    <tr>\n",
       "      <th id=\"T_8c6d5_level0_row15\" class=\"row_heading level0 row15\" >CS3</th>\n",
       "      <td id=\"T_8c6d5_row15_col0\" class=\"data row15 col0\" >0.613497</td>\n",
       "    </tr>\n",
       "    <tr>\n",
       "      <th id=\"T_8c6d5_level0_row16\" class=\"row_heading level0 row16\" >CS7</th>\n",
       "      <td id=\"T_8c6d5_row16_col0\" class=\"data row16 col0\" >0.613497</td>\n",
       "    </tr>\n",
       "    <tr>\n",
       "      <th id=\"T_8c6d5_level0_row17\" class=\"row_heading level0 row17\" >CS28</th>\n",
       "      <td id=\"T_8c6d5_row17_col0\" class=\"data row17 col0\" >0.000000</td>\n",
       "    </tr>\n",
       "    <tr>\n",
       "      <th id=\"T_8c6d5_level0_row18\" class=\"row_heading level0 row18\" >Date</th>\n",
       "      <td id=\"T_8c6d5_row18_col0\" class=\"data row18 col0\" >0.000000</td>\n",
       "    </tr>\n",
       "    <tr>\n",
       "      <th id=\"T_8c6d5_level0_row19\" class=\"row_heading level0 row19\" >Cement_Type</th>\n",
       "      <td id=\"T_8c6d5_row19_col0\" class=\"data row19 col0\" >0.000000</td>\n",
       "    </tr>\n",
       "  </tbody>\n",
       "</table>\n"
      ],
      "text/plain": [
       "<pandas.io.formats.style.Styler at 0x7396bc3cf4f0>"
      ]
     },
     "execution_count": 28,
     "metadata": {},
     "output_type": "execute_result"
    },
    {
     "data": {
      "application/javascript": [
       "\n",
       "            setTimeout(function() {\n",
       "                var nbb_cell_id = 28;\n",
       "                var nbb_unformatted_code = \"(df.isna().sum() / df.shape[0] * 100).sort_values(ascending=False).to_frame(\\n    name=\\\"Missing (%)\\\"\\n).style.background_gradient(cmap=\\\"Reds\\\")\";\n",
       "                var nbb_formatted_code = \"(df.isna().sum() / df.shape[0] * 100).sort_values(ascending=False).to_frame(\\n    name=\\\"Missing (%)\\\"\\n).style.background_gradient(cmap=\\\"Reds\\\")\";\n",
       "                var nbb_cells = Jupyter.notebook.get_cells();\n",
       "                for (var i = 0; i < nbb_cells.length; ++i) {\n",
       "                    if (nbb_cells[i].input_prompt_number == nbb_cell_id) {\n",
       "                        if (nbb_cells[i].get_text() == nbb_unformatted_code) {\n",
       "                             nbb_cells[i].set_text(nbb_formatted_code);\n",
       "                        }\n",
       "                        break;\n",
       "                    }\n",
       "                }\n",
       "            }, 500);\n",
       "            "
      ],
      "text/plain": [
       "<IPython.core.display.Javascript object>"
      ]
     },
     "metadata": {},
     "output_type": "display_data"
    }
   ],
   "source": [
    "(df.isna().sum() / df.shape[0] * 100).sort_values(ascending=False).to_frame(\n",
    "    name=\"Missing (%)\"\n",
    ").style.background_gradient(cmap=\"Reds\")"
   ]
  },
  {
   "cell_type": "code",
   "execution_count": 29,
   "id": "12fef81f",
   "metadata": {},
   "outputs": [
    {
     "data": {
      "text/html": [
       "<div>\n",
       "<style scoped>\n",
       "    .dataframe tbody tr th:only-of-type {\n",
       "        vertical-align: middle;\n",
       "    }\n",
       "\n",
       "    .dataframe tbody tr th {\n",
       "        vertical-align: top;\n",
       "    }\n",
       "\n",
       "    .dataframe thead th {\n",
       "        text-align: right;\n",
       "    }\n",
       "</style>\n",
       "<table border=\"1\" class=\"dataframe\">\n",
       "  <thead>\n",
       "    <tr style=\"text-align: right;\">\n",
       "      <th></th>\n",
       "      <th>count</th>\n",
       "      <th>mean</th>\n",
       "      <th>min</th>\n",
       "      <th>25%</th>\n",
       "      <th>50%</th>\n",
       "      <th>75%</th>\n",
       "      <th>max</th>\n",
       "      <th>std</th>\n",
       "    </tr>\n",
       "  </thead>\n",
       "  <tbody>\n",
       "    <tr>\n",
       "      <th>Date</th>\n",
       "      <td>326</td>\n",
       "      <td>2022-04-29 04:20:36.809816064</td>\n",
       "      <td>2021-01-06 00:00:00</td>\n",
       "      <td>2021-08-28 00:00:00</td>\n",
       "      <td>2022-04-29 12:00:00</td>\n",
       "      <td>2023-01-18 12:00:00</td>\n",
       "      <td>2023-07-18 00:00:00</td>\n",
       "      <td>NaN</td>\n",
       "    </tr>\n",
       "    <tr>\n",
       "      <th>CaO</th>\n",
       "      <td>312.0</td>\n",
       "      <td>49.404564</td>\n",
       "      <td>39.583</td>\n",
       "      <td>49.6575</td>\n",
       "      <td>50.900002</td>\n",
       "      <td>51.582501</td>\n",
       "      <td>53.5</td>\n",
       "      <td>3.633734</td>\n",
       "    </tr>\n",
       "    <tr>\n",
       "      <th>MgO</th>\n",
       "      <td>312.0</td>\n",
       "      <td>5.562872</td>\n",
       "      <td>4.066</td>\n",
       "      <td>5.01</td>\n",
       "      <td>5.41</td>\n",
       "      <td>6.015</td>\n",
       "      <td>7.72</td>\n",
       "      <td>0.742762</td>\n",
       "    </tr>\n",
       "    <tr>\n",
       "      <th>Na2O</th>\n",
       "      <td>312.0</td>\n",
       "      <td>0.259628</td>\n",
       "      <td>0.15</td>\n",
       "      <td>0.23</td>\n",
       "      <td>0.25</td>\n",
       "      <td>0.28</td>\n",
       "      <td>0.373</td>\n",
       "      <td>0.041608</td>\n",
       "    </tr>\n",
       "    <tr>\n",
       "      <th>Al2O3</th>\n",
       "      <td>312.0</td>\n",
       "      <td>6.350776</td>\n",
       "      <td>5.22</td>\n",
       "      <td>5.68</td>\n",
       "      <td>5.78</td>\n",
       "      <td>5.95</td>\n",
       "      <td>9.785</td>\n",
       "      <td>1.29627</td>\n",
       "    </tr>\n",
       "    <tr>\n",
       "      <th>SiO2</th>\n",
       "      <td>312.0</td>\n",
       "      <td>23.950615</td>\n",
       "      <td>19.809999</td>\n",
       "      <td>22.2675</td>\n",
       "      <td>22.66</td>\n",
       "      <td>23.190001</td>\n",
       "      <td>32.257999</td>\n",
       "      <td>3.121494</td>\n",
       "    </tr>\n",
       "    <tr>\n",
       "      <th>SO3</th>\n",
       "      <td>312.0</td>\n",
       "      <td>2.17591</td>\n",
       "      <td>1.678</td>\n",
       "      <td>2.0975</td>\n",
       "      <td>2.21</td>\n",
       "      <td>2.3</td>\n",
       "      <td>2.83</td>\n",
       "      <td>0.204379</td>\n",
       "    </tr>\n",
       "    <tr>\n",
       "      <th>K2O</th>\n",
       "      <td>312.0</td>\n",
       "      <td>1.476962</td>\n",
       "      <td>1.11</td>\n",
       "      <td>1.3975</td>\n",
       "      <td>1.44</td>\n",
       "      <td>1.5</td>\n",
       "      <td>2.222</td>\n",
       "      <td>0.152611</td>\n",
       "    </tr>\n",
       "    <tr>\n",
       "      <th>Fe2O3</th>\n",
       "      <td>312.0</td>\n",
       "      <td>3.392147</td>\n",
       "      <td>2.99</td>\n",
       "      <td>3.15</td>\n",
       "      <td>3.24</td>\n",
       "      <td>3.36</td>\n",
       "      <td>4.663</td>\n",
       "      <td>0.405582</td>\n",
       "    </tr>\n",
       "    <tr>\n",
       "      <th>Loss on Ignition</th>\n",
       "      <td>317.0</td>\n",
       "      <td>7.22817</td>\n",
       "      <td>4.7</td>\n",
       "      <td>7.1</td>\n",
       "      <td>7.6</td>\n",
       "      <td>7.8</td>\n",
       "      <td>8.8</td>\n",
       "      <td>0.922007</td>\n",
       "    </tr>\n",
       "    <tr>\n",
       "      <th>Insoluble Residue</th>\n",
       "      <td>317.0</td>\n",
       "      <td>16.597344</td>\n",
       "      <td>11.09</td>\n",
       "      <td>13.31</td>\n",
       "      <td>13.91</td>\n",
       "      <td>14.83</td>\n",
       "      <td>30.01</td>\n",
       "      <td>6.062074</td>\n",
       "    </tr>\n",
       "    <tr>\n",
       "      <th>Blaine</th>\n",
       "      <td>318.0</td>\n",
       "      <td>4333.867925</td>\n",
       "      <td>4020.0</td>\n",
       "      <td>4250.0</td>\n",
       "      <td>4320.0</td>\n",
       "      <td>4410.0</td>\n",
       "      <td>4750.0</td>\n",
       "      <td>125.10869</td>\n",
       "    </tr>\n",
       "    <tr>\n",
       "      <th>#200</th>\n",
       "      <td>317.0</td>\n",
       "      <td>0.634322</td>\n",
       "      <td>0.05</td>\n",
       "      <td>0.3</td>\n",
       "      <td>0.47</td>\n",
       "      <td>0.62</td>\n",
       "      <td>53.0</td>\n",
       "      <td>2.961774</td>\n",
       "    </tr>\n",
       "    <tr>\n",
       "      <th>#325</th>\n",
       "      <td>318.0</td>\n",
       "      <td>6.058679</td>\n",
       "      <td>1.2</td>\n",
       "      <td>5.5</td>\n",
       "      <td>6.8</td>\n",
       "      <td>7.6</td>\n",
       "      <td>11.4</td>\n",
       "      <td>2.287139</td>\n",
       "    </tr>\n",
       "    <tr>\n",
       "      <th>Initial setting time</th>\n",
       "      <td>322.0</td>\n",
       "      <td>246.459627</td>\n",
       "      <td>200.0</td>\n",
       "      <td>231.25</td>\n",
       "      <td>245.0</td>\n",
       "      <td>260.0</td>\n",
       "      <td>305.0</td>\n",
       "      <td>19.89959</td>\n",
       "    </tr>\n",
       "    <tr>\n",
       "      <th>Final setting time</th>\n",
       "      <td>322.0</td>\n",
       "      <td>286.754658</td>\n",
       "      <td>240.0</td>\n",
       "      <td>275.0</td>\n",
       "      <td>285.0</td>\n",
       "      <td>300.0</td>\n",
       "      <td>350.0</td>\n",
       "      <td>20.589718</td>\n",
       "    </tr>\n",
       "    <tr>\n",
       "      <th>CS3</th>\n",
       "      <td>324.0</td>\n",
       "      <td>25.763889</td>\n",
       "      <td>21.799999</td>\n",
       "      <td>24.799999</td>\n",
       "      <td>26.200001</td>\n",
       "      <td>27.0</td>\n",
       "      <td>29.0</td>\n",
       "      <td>1.653954</td>\n",
       "    </tr>\n",
       "    <tr>\n",
       "      <th>CS7</th>\n",
       "      <td>324.0</td>\n",
       "      <td>30.413272</td>\n",
       "      <td>25.799999</td>\n",
       "      <td>29.575</td>\n",
       "      <td>30.799999</td>\n",
       "      <td>31.799999</td>\n",
       "      <td>34.0</td>\n",
       "      <td>1.774879</td>\n",
       "    </tr>\n",
       "    <tr>\n",
       "      <th>CS28</th>\n",
       "      <td>326.0</td>\n",
       "      <td>36.978221</td>\n",
       "      <td>34.0</td>\n",
       "      <td>36.099998</td>\n",
       "      <td>37.0</td>\n",
       "      <td>37.799999</td>\n",
       "      <td>40.099998</td>\n",
       "      <td>1.146252</td>\n",
       "    </tr>\n",
       "  </tbody>\n",
       "</table>\n",
       "</div>"
      ],
      "text/plain": [
       "                      count                           mean  \\\n",
       "Date                    326  2022-04-29 04:20:36.809816064   \n",
       "CaO                   312.0                      49.404564   \n",
       "MgO                   312.0                       5.562872   \n",
       "Na2O                  312.0                       0.259628   \n",
       "Al2O3                 312.0                       6.350776   \n",
       "SiO2                  312.0                      23.950615   \n",
       "SO3                   312.0                        2.17591   \n",
       "K2O                   312.0                       1.476962   \n",
       "Fe2O3                 312.0                       3.392147   \n",
       "Loss on Ignition      317.0                        7.22817   \n",
       "Insoluble Residue     317.0                      16.597344   \n",
       "Blaine                318.0                    4333.867925   \n",
       "#200                  317.0                       0.634322   \n",
       "#325                  318.0                       6.058679   \n",
       "Initial setting time  322.0                     246.459627   \n",
       "Final setting time    322.0                     286.754658   \n",
       "CS3                   324.0                      25.763889   \n",
       "CS7                   324.0                      30.413272   \n",
       "CS28                  326.0                      36.978221   \n",
       "\n",
       "                                      min                  25%  \\\n",
       "Date                  2021-01-06 00:00:00  2021-08-28 00:00:00   \n",
       "CaO                                39.583              49.6575   \n",
       "MgO                                 4.066                 5.01   \n",
       "Na2O                                 0.15                 0.23   \n",
       "Al2O3                                5.22                 5.68   \n",
       "SiO2                            19.809999              22.2675   \n",
       "SO3                                 1.678               2.0975   \n",
       "K2O                                  1.11               1.3975   \n",
       "Fe2O3                                2.99                 3.15   \n",
       "Loss on Ignition                      4.7                  7.1   \n",
       "Insoluble Residue                   11.09                13.31   \n",
       "Blaine                             4020.0               4250.0   \n",
       "#200                                 0.05                  0.3   \n",
       "#325                                  1.2                  5.5   \n",
       "Initial setting time                200.0               231.25   \n",
       "Final setting time                  240.0                275.0   \n",
       "CS3                             21.799999            24.799999   \n",
       "CS7                             25.799999               29.575   \n",
       "CS28                                 34.0            36.099998   \n",
       "\n",
       "                                      50%                  75%  \\\n",
       "Date                  2022-04-29 12:00:00  2023-01-18 12:00:00   \n",
       "CaO                             50.900002            51.582501   \n",
       "MgO                                  5.41                6.015   \n",
       "Na2O                                 0.25                 0.28   \n",
       "Al2O3                                5.78                 5.95   \n",
       "SiO2                                22.66            23.190001   \n",
       "SO3                                  2.21                  2.3   \n",
       "K2O                                  1.44                  1.5   \n",
       "Fe2O3                                3.24                 3.36   \n",
       "Loss on Ignition                      7.6                  7.8   \n",
       "Insoluble Residue                   13.91                14.83   \n",
       "Blaine                             4320.0               4410.0   \n",
       "#200                                 0.47                 0.62   \n",
       "#325                                  6.8                  7.6   \n",
       "Initial setting time                245.0                260.0   \n",
       "Final setting time                  285.0                300.0   \n",
       "CS3                             26.200001                 27.0   \n",
       "CS7                             30.799999            31.799999   \n",
       "CS28                                 37.0            37.799999   \n",
       "\n",
       "                                      max        std  \n",
       "Date                  2023-07-18 00:00:00        NaN  \n",
       "CaO                                  53.5   3.633734  \n",
       "MgO                                  7.72   0.742762  \n",
       "Na2O                                0.373   0.041608  \n",
       "Al2O3                               9.785    1.29627  \n",
       "SiO2                            32.257999   3.121494  \n",
       "SO3                                  2.83   0.204379  \n",
       "K2O                                 2.222   0.152611  \n",
       "Fe2O3                               4.663   0.405582  \n",
       "Loss on Ignition                      8.8   0.922007  \n",
       "Insoluble Residue                   30.01   6.062074  \n",
       "Blaine                             4750.0  125.10869  \n",
       "#200                                 53.0   2.961774  \n",
       "#325                                 11.4   2.287139  \n",
       "Initial setting time                305.0   19.89959  \n",
       "Final setting time                  350.0  20.589718  \n",
       "CS3                                  29.0   1.653954  \n",
       "CS7                                  34.0   1.774879  \n",
       "CS28                            40.099998   1.146252  "
      ]
     },
     "execution_count": 29,
     "metadata": {},
     "output_type": "execute_result"
    },
    {
     "data": {
      "application/javascript": [
       "\n",
       "            setTimeout(function() {\n",
       "                var nbb_cell_id = 29;\n",
       "                var nbb_unformatted_code = \"df.describe().T\";\n",
       "                var nbb_formatted_code = \"df.describe().T\";\n",
       "                var nbb_cells = Jupyter.notebook.get_cells();\n",
       "                for (var i = 0; i < nbb_cells.length; ++i) {\n",
       "                    if (nbb_cells[i].input_prompt_number == nbb_cell_id) {\n",
       "                        if (nbb_cells[i].get_text() == nbb_unformatted_code) {\n",
       "                             nbb_cells[i].set_text(nbb_formatted_code);\n",
       "                        }\n",
       "                        break;\n",
       "                    }\n",
       "                }\n",
       "            }, 500);\n",
       "            "
      ],
      "text/plain": [
       "<IPython.core.display.Javascript object>"
      ]
     },
     "metadata": {},
     "output_type": "display_data"
    }
   ],
   "source": [
    "df.describe().T"
   ]
  },
  {
   "cell_type": "code",
   "execution_count": 30,
   "id": "e6e3f8eb",
   "metadata": {},
   "outputs": [
    {
     "data": {
      "text/html": [
       "<div>\n",
       "<style scoped>\n",
       "    .dataframe tbody tr th:only-of-type {\n",
       "        vertical-align: middle;\n",
       "    }\n",
       "\n",
       "    .dataframe tbody tr th {\n",
       "        vertical-align: top;\n",
       "    }\n",
       "\n",
       "    .dataframe thead th {\n",
       "        text-align: right;\n",
       "    }\n",
       "</style>\n",
       "<table border=\"1\" class=\"dataframe\">\n",
       "  <thead>\n",
       "    <tr style=\"text-align: right;\">\n",
       "      <th></th>\n",
       "      <th>count</th>\n",
       "      <th>unique</th>\n",
       "      <th>top</th>\n",
       "      <th>freq</th>\n",
       "      <th>mean</th>\n",
       "      <th>min</th>\n",
       "      <th>25%</th>\n",
       "      <th>50%</th>\n",
       "      <th>75%</th>\n",
       "      <th>max</th>\n",
       "    </tr>\n",
       "  </thead>\n",
       "  <tbody>\n",
       "    <tr>\n",
       "      <th>Date</th>\n",
       "      <td>326</td>\n",
       "      <td>NaN</td>\n",
       "      <td>NaN</td>\n",
       "      <td>NaN</td>\n",
       "      <td>2022-04-29 04:20:36.809816064</td>\n",
       "      <td>2021-01-06 00:00:00</td>\n",
       "      <td>2021-08-28 00:00:00</td>\n",
       "      <td>2022-04-29 12:00:00</td>\n",
       "      <td>2023-01-18 12:00:00</td>\n",
       "      <td>2023-07-18 00:00:00</td>\n",
       "    </tr>\n",
       "    <tr>\n",
       "      <th>Cement_Type</th>\n",
       "      <td>326</td>\n",
       "      <td>3</td>\n",
       "      <td>CP II-Z-32</td>\n",
       "      <td>256</td>\n",
       "      <td>NaN</td>\n",
       "      <td>NaN</td>\n",
       "      <td>NaN</td>\n",
       "      <td>NaN</td>\n",
       "      <td>NaN</td>\n",
       "      <td>NaN</td>\n",
       "    </tr>\n",
       "  </tbody>\n",
       "</table>\n",
       "</div>"
      ],
      "text/plain": [
       "            count unique         top freq                           mean  \\\n",
       "Date          326    NaN         NaN  NaN  2022-04-29 04:20:36.809816064   \n",
       "Cement_Type   326      3  CP II-Z-32  256                            NaN   \n",
       "\n",
       "                             min                  25%                  50%  \\\n",
       "Date         2021-01-06 00:00:00  2021-08-28 00:00:00  2022-04-29 12:00:00   \n",
       "Cement_Type                  NaN                  NaN                  NaN   \n",
       "\n",
       "                             75%                  max  \n",
       "Date         2023-01-18 12:00:00  2023-07-18 00:00:00  \n",
       "Cement_Type                  NaN                  NaN  "
      ]
     },
     "execution_count": 30,
     "metadata": {},
     "output_type": "execute_result"
    },
    {
     "data": {
      "application/javascript": [
       "\n",
       "            setTimeout(function() {\n",
       "                var nbb_cell_id = 30;\n",
       "                var nbb_unformatted_code = \"df.describe(exclude=\\\"number\\\").T\";\n",
       "                var nbb_formatted_code = \"df.describe(exclude=\\\"number\\\").T\";\n",
       "                var nbb_cells = Jupyter.notebook.get_cells();\n",
       "                for (var i = 0; i < nbb_cells.length; ++i) {\n",
       "                    if (nbb_cells[i].input_prompt_number == nbb_cell_id) {\n",
       "                        if (nbb_cells[i].get_text() == nbb_unformatted_code) {\n",
       "                             nbb_cells[i].set_text(nbb_formatted_code);\n",
       "                        }\n",
       "                        break;\n",
       "                    }\n",
       "                }\n",
       "            }, 500);\n",
       "            "
      ],
      "text/plain": [
       "<IPython.core.display.Javascript object>"
      ]
     },
     "metadata": {},
     "output_type": "display_data"
    }
   ],
   "source": [
    "df.describe(exclude=\"number\").T"
   ]
  },
  {
   "cell_type": "code",
   "execution_count": 31,
   "id": "8a781c6e",
   "metadata": {},
   "outputs": [
    {
     "name": "stdout",
     "output_type": "stream",
     "text": [
      "<class 'pandas.core.frame.DataFrame'>\n",
      "Index: 326 entries, 0 to 362\n",
      "Data columns (total 20 columns):\n",
      " #   Column                Non-Null Count  Dtype         \n",
      "---  ------                --------------  -----         \n",
      " 0   Date                  326 non-null    datetime64[ns]\n",
      " 1   CaO                   312 non-null    float64       \n",
      " 2   MgO                   312 non-null    float64       \n",
      " 3   Na2O                  312 non-null    float64       \n",
      " 4   Al2O3                 312 non-null    float64       \n",
      " 5   SiO2                  312 non-null    float64       \n",
      " 6   SO3                   312 non-null    float64       \n",
      " 7   K2O                   312 non-null    float64       \n",
      " 8   Fe2O3                 312 non-null    float64       \n",
      " 9   Loss on Ignition      317 non-null    float64       \n",
      " 10  Insoluble Residue     317 non-null    float64       \n",
      " 11  Blaine                318 non-null    float64       \n",
      " 12  #200                  317 non-null    float64       \n",
      " 13  #325                  318 non-null    float64       \n",
      " 14  Initial setting time  322 non-null    float64       \n",
      " 15  Final setting time    322 non-null    float64       \n",
      " 16  CS3                   324 non-null    float64       \n",
      " 17  CS7                   324 non-null    float64       \n",
      " 18  CS28                  326 non-null    float64       \n",
      " 19  Cement_Type           326 non-null    object        \n",
      "dtypes: datetime64[ns](1), float64(18), object(1)\n",
      "memory usage: 53.5+ KB\n"
     ]
    },
    {
     "data": {
      "application/javascript": [
       "\n",
       "            setTimeout(function() {\n",
       "                var nbb_cell_id = 31;\n",
       "                var nbb_unformatted_code = \"df.info()\";\n",
       "                var nbb_formatted_code = \"df.info()\";\n",
       "                var nbb_cells = Jupyter.notebook.get_cells();\n",
       "                for (var i = 0; i < nbb_cells.length; ++i) {\n",
       "                    if (nbb_cells[i].input_prompt_number == nbb_cell_id) {\n",
       "                        if (nbb_cells[i].get_text() == nbb_unformatted_code) {\n",
       "                             nbb_cells[i].set_text(nbb_formatted_code);\n",
       "                        }\n",
       "                        break;\n",
       "                    }\n",
       "                }\n",
       "            }, 500);\n",
       "            "
      ],
      "text/plain": [
       "<IPython.core.display.Javascript object>"
      ]
     },
     "metadata": {},
     "output_type": "display_data"
    }
   ],
   "source": [
    "df.info()"
   ]
  },
  {
   "cell_type": "markdown",
   "id": "b0322576",
   "metadata": {},
   "source": [
    "### Dropping duplicated rows"
   ]
  },
  {
   "cell_type": "code",
   "execution_count": 32,
   "id": "c7a88897",
   "metadata": {},
   "outputs": [
    {
     "data": {
      "text/plain": [
       "(326, 20)"
      ]
     },
     "execution_count": 32,
     "metadata": {},
     "output_type": "execute_result"
    },
    {
     "data": {
      "application/javascript": [
       "\n",
       "            setTimeout(function() {\n",
       "                var nbb_cell_id = 32;\n",
       "                var nbb_unformatted_code = \"df.shape\";\n",
       "                var nbb_formatted_code = \"df.shape\";\n",
       "                var nbb_cells = Jupyter.notebook.get_cells();\n",
       "                for (var i = 0; i < nbb_cells.length; ++i) {\n",
       "                    if (nbb_cells[i].input_prompt_number == nbb_cell_id) {\n",
       "                        if (nbb_cells[i].get_text() == nbb_unformatted_code) {\n",
       "                             nbb_cells[i].set_text(nbb_formatted_code);\n",
       "                        }\n",
       "                        break;\n",
       "                    }\n",
       "                }\n",
       "            }, 500);\n",
       "            "
      ],
      "text/plain": [
       "<IPython.core.display.Javascript object>"
      ]
     },
     "metadata": {},
     "output_type": "display_data"
    }
   ],
   "source": [
    "df.shape"
   ]
  },
  {
   "cell_type": "code",
   "execution_count": 33,
   "id": "07945b9f",
   "metadata": {},
   "outputs": [
    {
     "data": {
      "application/javascript": [
       "\n",
       "            setTimeout(function() {\n",
       "                var nbb_cell_id = 33;\n",
       "                var nbb_unformatted_code = \"df = df.reset_index(drop=True)\";\n",
       "                var nbb_formatted_code = \"df = df.reset_index(drop=True)\";\n",
       "                var nbb_cells = Jupyter.notebook.get_cells();\n",
       "                for (var i = 0; i < nbb_cells.length; ++i) {\n",
       "                    if (nbb_cells[i].input_prompt_number == nbb_cell_id) {\n",
       "                        if (nbb_cells[i].get_text() == nbb_unformatted_code) {\n",
       "                             nbb_cells[i].set_text(nbb_formatted_code);\n",
       "                        }\n",
       "                        break;\n",
       "                    }\n",
       "                }\n",
       "            }, 500);\n",
       "            "
      ],
      "text/plain": [
       "<IPython.core.display.Javascript object>"
      ]
     },
     "metadata": {},
     "output_type": "display_data"
    }
   ],
   "source": [
    "df = df.reset_index(drop=True)"
   ]
  },
  {
   "cell_type": "code",
   "execution_count": 34,
   "id": "2cd83c70",
   "metadata": {},
   "outputs": [
    {
     "data": {
      "application/javascript": [
       "\n",
       "            setTimeout(function() {\n",
       "                var nbb_cell_id = 34;\n",
       "                var nbb_unformatted_code = \"df = df.loc[df.select_dtypes(\\\"number\\\").drop_duplicates().index].reset_index(drop=True)\\n\\nchemical_vars = [\\n    \\\"CaO\\\",\\n    \\\"MgO\\\",\\n    \\\"Na2O\\\",\\n    \\\"Al2O3\\\",\\n    \\\"SiO2\\\",\\n    \\\"SO3\\\",\\n    \\\"K2O\\\",\\n    \\\"Fe2O3\\\",\\n    \\\"Loss on Ignition\\\",\\n    \\\"Insoluble Residue\\\",\\n]\\n\\ndf = df.loc[\\n    df.select_dtypes(\\\"number\\\").drop_duplicates(subset=chemical_vars).index\\n].reset_index(drop=True)\";\n",
       "                var nbb_formatted_code = \"df = df.loc[df.select_dtypes(\\\"number\\\").drop_duplicates().index].reset_index(drop=True)\\n\\nchemical_vars = [\\n    \\\"CaO\\\",\\n    \\\"MgO\\\",\\n    \\\"Na2O\\\",\\n    \\\"Al2O3\\\",\\n    \\\"SiO2\\\",\\n    \\\"SO3\\\",\\n    \\\"K2O\\\",\\n    \\\"Fe2O3\\\",\\n    \\\"Loss on Ignition\\\",\\n    \\\"Insoluble Residue\\\",\\n]\\n\\ndf = df.loc[\\n    df.select_dtypes(\\\"number\\\").drop_duplicates(subset=chemical_vars).index\\n].reset_index(drop=True)\";\n",
       "                var nbb_cells = Jupyter.notebook.get_cells();\n",
       "                for (var i = 0; i < nbb_cells.length; ++i) {\n",
       "                    if (nbb_cells[i].input_prompt_number == nbb_cell_id) {\n",
       "                        if (nbb_cells[i].get_text() == nbb_unformatted_code) {\n",
       "                             nbb_cells[i].set_text(nbb_formatted_code);\n",
       "                        }\n",
       "                        break;\n",
       "                    }\n",
       "                }\n",
       "            }, 500);\n",
       "            "
      ],
      "text/plain": [
       "<IPython.core.display.Javascript object>"
      ]
     },
     "metadata": {},
     "output_type": "display_data"
    }
   ],
   "source": [
    "df = df.loc[df.select_dtypes(\"number\").drop_duplicates().index].reset_index(drop=True)\n",
    "\n",
    "chemical_vars = [\n",
    "    \"CaO\",\n",
    "    \"MgO\",\n",
    "    \"Na2O\",\n",
    "    \"Al2O3\",\n",
    "    \"SiO2\",\n",
    "    \"SO3\",\n",
    "    \"K2O\",\n",
    "    \"Fe2O3\",\n",
    "    \"Loss on Ignition\",\n",
    "    \"Insoluble Residue\",\n",
    "]\n",
    "\n",
    "df = df.loc[\n",
    "    df.select_dtypes(\"number\").drop_duplicates(subset=chemical_vars).index\n",
    "].reset_index(drop=True)"
   ]
  },
  {
   "cell_type": "code",
   "execution_count": 35,
   "id": "fe49347c",
   "metadata": {},
   "outputs": [
    {
     "data": {
      "text/plain": [
       "(287, 20)"
      ]
     },
     "execution_count": 35,
     "metadata": {},
     "output_type": "execute_result"
    },
    {
     "data": {
      "application/javascript": [
       "\n",
       "            setTimeout(function() {\n",
       "                var nbb_cell_id = 35;\n",
       "                var nbb_unformatted_code = \"df.shape\";\n",
       "                var nbb_formatted_code = \"df.shape\";\n",
       "                var nbb_cells = Jupyter.notebook.get_cells();\n",
       "                for (var i = 0; i < nbb_cells.length; ++i) {\n",
       "                    if (nbb_cells[i].input_prompt_number == nbb_cell_id) {\n",
       "                        if (nbb_cells[i].get_text() == nbb_unformatted_code) {\n",
       "                             nbb_cells[i].set_text(nbb_formatted_code);\n",
       "                        }\n",
       "                        break;\n",
       "                    }\n",
       "                }\n",
       "            }, 500);\n",
       "            "
      ],
      "text/plain": [
       "<IPython.core.display.Javascript object>"
      ]
     },
     "metadata": {},
     "output_type": "display_data"
    }
   ],
   "source": [
    "df.shape"
   ]
  },
  {
   "cell_type": "markdown",
   "id": "5088c39b",
   "metadata": {},
   "source": [
    "### Dropping rows with negative values"
   ]
  },
  {
   "cell_type": "code",
   "execution_count": 36,
   "id": "1a7f2055",
   "metadata": {},
   "outputs": [
    {
     "data": {
      "text/plain": [
       "CaO                     0.0\n",
       "MgO                     0.0\n",
       "CS7                     0.0\n",
       "CS3                     0.0\n",
       "Final setting time      0.0\n",
       "Initial setting time    0.0\n",
       "#325                    0.0\n",
       "#200                    0.0\n",
       "Blaine                  0.0\n",
       "Insoluble Residue       0.0\n",
       "Loss on Ignition        0.0\n",
       "Fe2O3                   0.0\n",
       "K2O                     0.0\n",
       "SO3                     0.0\n",
       "SiO2                    0.0\n",
       "Al2O3                   0.0\n",
       "Na2O                    0.0\n",
       "CS28                    0.0\n",
       "dtype: float64"
      ]
     },
     "execution_count": 36,
     "metadata": {},
     "output_type": "execute_result"
    },
    {
     "data": {
      "application/javascript": [
       "\n",
       "            setTimeout(function() {\n",
       "                var nbb_cell_id = 36;\n",
       "                var nbb_unformatted_code = \"df[df.drop([\\\"Date\\\"], axis=1).duplicated()].drop(\\\"Date\\\", axis=1).select_dtypes(\\n    include=\\\"number\\\"\\n).apply(lambda x: x < 0).sum().sort_values(ascending=False)\";\n",
       "                var nbb_formatted_code = \"df[df.drop([\\\"Date\\\"], axis=1).duplicated()].drop(\\\"Date\\\", axis=1).select_dtypes(\\n    include=\\\"number\\\"\\n).apply(lambda x: x < 0).sum().sort_values(ascending=False)\";\n",
       "                var nbb_cells = Jupyter.notebook.get_cells();\n",
       "                for (var i = 0; i < nbb_cells.length; ++i) {\n",
       "                    if (nbb_cells[i].input_prompt_number == nbb_cell_id) {\n",
       "                        if (nbb_cells[i].get_text() == nbb_unformatted_code) {\n",
       "                             nbb_cells[i].set_text(nbb_formatted_code);\n",
       "                        }\n",
       "                        break;\n",
       "                    }\n",
       "                }\n",
       "            }, 500);\n",
       "            "
      ],
      "text/plain": [
       "<IPython.core.display.Javascript object>"
      ]
     },
     "metadata": {},
     "output_type": "display_data"
    }
   ],
   "source": [
    "df[df.drop([\"Date\"], axis=1).duplicated()].drop(\"Date\", axis=1).select_dtypes(\n",
    "    include=\"number\"\n",
    ").apply(lambda x: x < 0).sum().sort_values(ascending=False)"
   ]
  },
  {
   "cell_type": "markdown",
   "id": "8bb90ada",
   "metadata": {},
   "source": [
    "### Removing outliers"
   ]
  },
  {
   "cell_type": "code",
   "execution_count": 37,
   "id": "507cb48d",
   "metadata": {},
   "outputs": [
    {
     "data": {
      "text/html": [
       "<div>\n",
       "<style scoped>\n",
       "    .dataframe tbody tr th:only-of-type {\n",
       "        vertical-align: middle;\n",
       "    }\n",
       "\n",
       "    .dataframe tbody tr th {\n",
       "        vertical-align: top;\n",
       "    }\n",
       "\n",
       "    .dataframe thead th {\n",
       "        text-align: right;\n",
       "    }\n",
       "</style>\n",
       "<table border=\"1\" class=\"dataframe\">\n",
       "  <thead>\n",
       "    <tr style=\"text-align: right;\">\n",
       "      <th></th>\n",
       "      <th>count</th>\n",
       "      <th>mean</th>\n",
       "      <th>min</th>\n",
       "      <th>50%</th>\n",
       "      <th>99%</th>\n",
       "      <th>max</th>\n",
       "      <th>std</th>\n",
       "    </tr>\n",
       "  </thead>\n",
       "  <tbody>\n",
       "    <tr>\n",
       "      <th>Date</th>\n",
       "      <td>287</td>\n",
       "      <td>2022-03-10 02:45:34.494773504</td>\n",
       "      <td>2021-01-06 00:00:00</td>\n",
       "      <td>2022-02-25 00:00:00</td>\n",
       "      <td>2023-06-30 13:26:24</td>\n",
       "      <td>2023-07-18 00:00:00</td>\n",
       "      <td>NaN</td>\n",
       "    </tr>\n",
       "    <tr>\n",
       "      <th>CaO</th>\n",
       "      <td>282.0</td>\n",
       "      <td>50.132489</td>\n",
       "      <td>39.583</td>\n",
       "      <td>50.985001</td>\n",
       "      <td>53.0209</td>\n",
       "      <td>53.5</td>\n",
       "      <td>2.900079</td>\n",
       "    </tr>\n",
       "    <tr>\n",
       "      <th>MgO</th>\n",
       "      <td>282.0</td>\n",
       "      <td>5.632369</td>\n",
       "      <td>4.066</td>\n",
       "      <td>5.56</td>\n",
       "      <td>7.2733</td>\n",
       "      <td>7.72</td>\n",
       "      <td>0.726566</td>\n",
       "    </tr>\n",
       "    <tr>\n",
       "      <th>Na2O</th>\n",
       "      <td>282.0</td>\n",
       "      <td>0.253234</td>\n",
       "      <td>0.15</td>\n",
       "      <td>0.25</td>\n",
       "      <td>0.35757</td>\n",
       "      <td>0.373</td>\n",
       "      <td>0.03676</td>\n",
       "    </tr>\n",
       "    <tr>\n",
       "      <th>Al2O3</th>\n",
       "      <td>282.0</td>\n",
       "      <td>6.084755</td>\n",
       "      <td>5.22</td>\n",
       "      <td>5.77</td>\n",
       "      <td>9.52151</td>\n",
       "      <td>9.785</td>\n",
       "      <td>1.014549</td>\n",
       "    </tr>\n",
       "    <tr>\n",
       "      <th>SiO2</th>\n",
       "      <td>282.0</td>\n",
       "      <td>23.313957</td>\n",
       "      <td>19.809999</td>\n",
       "      <td>22.575</td>\n",
       "      <td>31.46822</td>\n",
       "      <td>32.257999</td>\n",
       "      <td>2.452781</td>\n",
       "    </tr>\n",
       "    <tr>\n",
       "      <th>SO3</th>\n",
       "      <td>282.0</td>\n",
       "      <td>2.209245</td>\n",
       "      <td>1.678</td>\n",
       "      <td>2.22</td>\n",
       "      <td>2.61</td>\n",
       "      <td>2.83</td>\n",
       "      <td>0.178216</td>\n",
       "    </tr>\n",
       "    <tr>\n",
       "      <th>K2O</th>\n",
       "      <td>282.0</td>\n",
       "      <td>1.450234</td>\n",
       "      <td>1.11</td>\n",
       "      <td>1.43</td>\n",
       "      <td>1.82954</td>\n",
       "      <td>2.222</td>\n",
       "      <td>0.127954</td>\n",
       "    </tr>\n",
       "    <tr>\n",
       "      <th>Fe2O3</th>\n",
       "      <td>282.0</td>\n",
       "      <td>3.31344</td>\n",
       "      <td>2.99</td>\n",
       "      <td>3.22</td>\n",
       "      <td>4.50738</td>\n",
       "      <td>4.663</td>\n",
       "      <td>0.3227</td>\n",
       "    </tr>\n",
       "    <tr>\n",
       "      <th>Loss on Ignition</th>\n",
       "      <td>284.0</td>\n",
       "      <td>7.411303</td>\n",
       "      <td>4.7</td>\n",
       "      <td>7.6</td>\n",
       "      <td>8.4419</td>\n",
       "      <td>8.8</td>\n",
       "      <td>0.762451</td>\n",
       "    </tr>\n",
       "    <tr>\n",
       "      <th>Insoluble Residue</th>\n",
       "      <td>284.0</td>\n",
       "      <td>15.292532</td>\n",
       "      <td>11.09</td>\n",
       "      <td>13.75</td>\n",
       "      <td>29.8619</td>\n",
       "      <td>30.01</td>\n",
       "      <td>4.798102</td>\n",
       "    </tr>\n",
       "    <tr>\n",
       "      <th>Blaine</th>\n",
       "      <td>285.0</td>\n",
       "      <td>4328.315789</td>\n",
       "      <td>4020.0</td>\n",
       "      <td>4310.0</td>\n",
       "      <td>4654.8</td>\n",
       "      <td>4750.0</td>\n",
       "      <td>124.124988</td>\n",
       "    </tr>\n",
       "    <tr>\n",
       "      <th>#200</th>\n",
       "      <td>284.0</td>\n",
       "      <td>0.687465</td>\n",
       "      <td>0.05</td>\n",
       "      <td>0.5</td>\n",
       "      <td>1.068</td>\n",
       "      <td>53.0</td>\n",
       "      <td>3.124971</td>\n",
       "    </tr>\n",
       "    <tr>\n",
       "      <th>#325</th>\n",
       "      <td>285.0</td>\n",
       "      <td>6.510386</td>\n",
       "      <td>1.2</td>\n",
       "      <td>7.0</td>\n",
       "      <td>9.4</td>\n",
       "      <td>11.4</td>\n",
       "      <td>1.916406</td>\n",
       "    </tr>\n",
       "    <tr>\n",
       "      <th>Initial setting time</th>\n",
       "      <td>285.0</td>\n",
       "      <td>243.087719</td>\n",
       "      <td>200.0</td>\n",
       "      <td>240.0</td>\n",
       "      <td>290.8</td>\n",
       "      <td>305.0</td>\n",
       "      <td>17.942868</td>\n",
       "    </tr>\n",
       "    <tr>\n",
       "      <th>Final setting time</th>\n",
       "      <td>285.0</td>\n",
       "      <td>283.210526</td>\n",
       "      <td>240.0</td>\n",
       "      <td>280.0</td>\n",
       "      <td>330.8</td>\n",
       "      <td>350.0</td>\n",
       "      <td>18.41782</td>\n",
       "    </tr>\n",
       "    <tr>\n",
       "      <th>CS3</th>\n",
       "      <td>286.0</td>\n",
       "      <td>26.11014</td>\n",
       "      <td>21.799999</td>\n",
       "      <td>26.4</td>\n",
       "      <td>28.415</td>\n",
       "      <td>29.0</td>\n",
       "      <td>1.403605</td>\n",
       "    </tr>\n",
       "    <tr>\n",
       "      <th>CS7</th>\n",
       "      <td>286.0</td>\n",
       "      <td>30.757692</td>\n",
       "      <td>25.799999</td>\n",
       "      <td>30.9</td>\n",
       "      <td>33.03</td>\n",
       "      <td>34.0</td>\n",
       "      <td>1.538532</td>\n",
       "    </tr>\n",
       "    <tr>\n",
       "      <th>CS28</th>\n",
       "      <td>287.0</td>\n",
       "      <td>37.046341</td>\n",
       "      <td>34.0</td>\n",
       "      <td>37.0</td>\n",
       "      <td>39.827999</td>\n",
       "      <td>40.099998</td>\n",
       "      <td>1.130526</td>\n",
       "    </tr>\n",
       "  </tbody>\n",
       "</table>\n",
       "</div>"
      ],
      "text/plain": [
       "                      count                           mean  \\\n",
       "Date                    287  2022-03-10 02:45:34.494773504   \n",
       "CaO                   282.0                      50.132489   \n",
       "MgO                   282.0                       5.632369   \n",
       "Na2O                  282.0                       0.253234   \n",
       "Al2O3                 282.0                       6.084755   \n",
       "SiO2                  282.0                      23.313957   \n",
       "SO3                   282.0                       2.209245   \n",
       "K2O                   282.0                       1.450234   \n",
       "Fe2O3                 282.0                        3.31344   \n",
       "Loss on Ignition      284.0                       7.411303   \n",
       "Insoluble Residue     284.0                      15.292532   \n",
       "Blaine                285.0                    4328.315789   \n",
       "#200                  284.0                       0.687465   \n",
       "#325                  285.0                       6.510386   \n",
       "Initial setting time  285.0                     243.087719   \n",
       "Final setting time    285.0                     283.210526   \n",
       "CS3                   286.0                       26.11014   \n",
       "CS7                   286.0                      30.757692   \n",
       "CS28                  287.0                      37.046341   \n",
       "\n",
       "                                      min                  50%  \\\n",
       "Date                  2021-01-06 00:00:00  2022-02-25 00:00:00   \n",
       "CaO                                39.583            50.985001   \n",
       "MgO                                 4.066                 5.56   \n",
       "Na2O                                 0.15                 0.25   \n",
       "Al2O3                                5.22                 5.77   \n",
       "SiO2                            19.809999               22.575   \n",
       "SO3                                 1.678                 2.22   \n",
       "K2O                                  1.11                 1.43   \n",
       "Fe2O3                                2.99                 3.22   \n",
       "Loss on Ignition                      4.7                  7.6   \n",
       "Insoluble Residue                   11.09                13.75   \n",
       "Blaine                             4020.0               4310.0   \n",
       "#200                                 0.05                  0.5   \n",
       "#325                                  1.2                  7.0   \n",
       "Initial setting time                200.0                240.0   \n",
       "Final setting time                  240.0                280.0   \n",
       "CS3                             21.799999                 26.4   \n",
       "CS7                             25.799999                 30.9   \n",
       "CS28                                 34.0                 37.0   \n",
       "\n",
       "                                      99%                  max         std  \n",
       "Date                  2023-06-30 13:26:24  2023-07-18 00:00:00         NaN  \n",
       "CaO                               53.0209                 53.5    2.900079  \n",
       "MgO                                7.2733                 7.72    0.726566  \n",
       "Na2O                              0.35757                0.373     0.03676  \n",
       "Al2O3                             9.52151                9.785    1.014549  \n",
       "SiO2                             31.46822            32.257999    2.452781  \n",
       "SO3                                  2.61                 2.83    0.178216  \n",
       "K2O                               1.82954                2.222    0.127954  \n",
       "Fe2O3                             4.50738                4.663      0.3227  \n",
       "Loss on Ignition                   8.4419                  8.8    0.762451  \n",
       "Insoluble Residue                 29.8619                30.01    4.798102  \n",
       "Blaine                             4654.8               4750.0  124.124988  \n",
       "#200                                1.068                 53.0    3.124971  \n",
       "#325                                  9.4                 11.4    1.916406  \n",
       "Initial setting time                290.8                305.0   17.942868  \n",
       "Final setting time                  330.8                350.0    18.41782  \n",
       "CS3                                28.415                 29.0    1.403605  \n",
       "CS7                                 33.03                 34.0    1.538532  \n",
       "CS28                            39.827999            40.099998    1.130526  "
      ]
     },
     "execution_count": 37,
     "metadata": {},
     "output_type": "execute_result"
    },
    {
     "data": {
      "application/javascript": [
       "\n",
       "            setTimeout(function() {\n",
       "                var nbb_cell_id = 37;\n",
       "                var nbb_unformatted_code = \"df.describe(percentiles=[0.99]).T\";\n",
       "                var nbb_formatted_code = \"df.describe(percentiles=[0.99]).T\";\n",
       "                var nbb_cells = Jupyter.notebook.get_cells();\n",
       "                for (var i = 0; i < nbb_cells.length; ++i) {\n",
       "                    if (nbb_cells[i].input_prompt_number == nbb_cell_id) {\n",
       "                        if (nbb_cells[i].get_text() == nbb_unformatted_code) {\n",
       "                             nbb_cells[i].set_text(nbb_formatted_code);\n",
       "                        }\n",
       "                        break;\n",
       "                    }\n",
       "                }\n",
       "            }, 500);\n",
       "            "
      ],
      "text/plain": [
       "<IPython.core.display.Javascript object>"
      ]
     },
     "metadata": {},
     "output_type": "display_data"
    }
   ],
   "source": [
    "df.describe(percentiles=[0.99]).T"
   ]
  },
  {
   "cell_type": "code",
   "execution_count": 38,
   "id": "a26442ad",
   "metadata": {},
   "outputs": [
    {
     "data": {
      "application/javascript": [
       "\n",
       "            setTimeout(function() {\n",
       "                var nbb_cell_id = 38;\n",
       "                var nbb_unformatted_code = \"df = df.reset_index(drop=True)\\ndf = df[~df[\\\"#200\\\"].eq(df[\\\"#200\\\"].max())].reset_index(drop=True)\";\n",
       "                var nbb_formatted_code = \"df = df.reset_index(drop=True)\\ndf = df[~df[\\\"#200\\\"].eq(df[\\\"#200\\\"].max())].reset_index(drop=True)\";\n",
       "                var nbb_cells = Jupyter.notebook.get_cells();\n",
       "                for (var i = 0; i < nbb_cells.length; ++i) {\n",
       "                    if (nbb_cells[i].input_prompt_number == nbb_cell_id) {\n",
       "                        if (nbb_cells[i].get_text() == nbb_unformatted_code) {\n",
       "                             nbb_cells[i].set_text(nbb_formatted_code);\n",
       "                        }\n",
       "                        break;\n",
       "                    }\n",
       "                }\n",
       "            }, 500);\n",
       "            "
      ],
      "text/plain": [
       "<IPython.core.display.Javascript object>"
      ]
     },
     "metadata": {},
     "output_type": "display_data"
    }
   ],
   "source": [
    "df = df.reset_index(drop=True)\n",
    "df = df[~df[\"#200\"].eq(df[\"#200\"].max())].reset_index(drop=True)"
   ]
  },
  {
   "cell_type": "code",
   "execution_count": 39,
   "id": "4e5dc795",
   "metadata": {},
   "outputs": [
    {
     "data": {
      "text/html": [
       "<div>\n",
       "<style scoped>\n",
       "    .dataframe tbody tr th:only-of-type {\n",
       "        vertical-align: middle;\n",
       "    }\n",
       "\n",
       "    .dataframe tbody tr th {\n",
       "        vertical-align: top;\n",
       "    }\n",
       "\n",
       "    .dataframe thead th {\n",
       "        text-align: right;\n",
       "    }\n",
       "</style>\n",
       "<table border=\"1\" class=\"dataframe\">\n",
       "  <thead>\n",
       "    <tr style=\"text-align: right;\">\n",
       "      <th></th>\n",
       "      <th>count</th>\n",
       "      <th>mean</th>\n",
       "      <th>min</th>\n",
       "      <th>50%</th>\n",
       "      <th>99%</th>\n",
       "      <th>max</th>\n",
       "      <th>std</th>\n",
       "    </tr>\n",
       "  </thead>\n",
       "  <tbody>\n",
       "    <tr>\n",
       "      <th>Date</th>\n",
       "      <td>286</td>\n",
       "      <td>2022-03-09 15:11:19.720279808</td>\n",
       "      <td>2021-01-06 00:00:00</td>\n",
       "      <td>2022-02-24 00:00:00</td>\n",
       "      <td>2023-06-30 14:24:00</td>\n",
       "      <td>2023-07-18 00:00:00</td>\n",
       "      <td>NaN</td>\n",
       "    </tr>\n",
       "    <tr>\n",
       "      <th>CaO</th>\n",
       "      <td>281.0</td>\n",
       "      <td>50.134989</td>\n",
       "      <td>39.583</td>\n",
       "      <td>51.0</td>\n",
       "      <td>53.022</td>\n",
       "      <td>53.5</td>\n",
       "      <td>2.904949</td>\n",
       "    </tr>\n",
       "    <tr>\n",
       "      <th>MgO</th>\n",
       "      <td>281.0</td>\n",
       "      <td>5.629139</td>\n",
       "      <td>4.066</td>\n",
       "      <td>5.56</td>\n",
       "      <td>7.274</td>\n",
       "      <td>7.72</td>\n",
       "      <td>0.725831</td>\n",
       "    </tr>\n",
       "    <tr>\n",
       "      <th>Na2O</th>\n",
       "      <td>281.0</td>\n",
       "      <td>0.253281</td>\n",
       "      <td>0.15</td>\n",
       "      <td>0.25</td>\n",
       "      <td>0.3576</td>\n",
       "      <td>0.373</td>\n",
       "      <td>0.036817</td>\n",
       "    </tr>\n",
       "    <tr>\n",
       "      <th>Al2O3</th>\n",
       "      <td>281.0</td>\n",
       "      <td>6.085875</td>\n",
       "      <td>5.22</td>\n",
       "      <td>5.77</td>\n",
       "      <td>9.5218</td>\n",
       "      <td>9.785</td>\n",
       "      <td>1.016185</td>\n",
       "    </tr>\n",
       "    <tr>\n",
       "      <th>SiO2</th>\n",
       "      <td>281.0</td>\n",
       "      <td>23.315288</td>\n",
       "      <td>19.809999</td>\n",
       "      <td>22.57</td>\n",
       "      <td>31.4696</td>\n",
       "      <td>32.257999</td>\n",
       "      <td>2.457055</td>\n",
       "    </tr>\n",
       "    <tr>\n",
       "      <th>SO3</th>\n",
       "      <td>281.0</td>\n",
       "      <td>2.209669</td>\n",
       "      <td>1.678</td>\n",
       "      <td>2.22</td>\n",
       "      <td>2.61</td>\n",
       "      <td>2.83</td>\n",
       "      <td>0.178392</td>\n",
       "    </tr>\n",
       "    <tr>\n",
       "      <th>K2O</th>\n",
       "      <td>281.0</td>\n",
       "      <td>1.450342</td>\n",
       "      <td>1.11</td>\n",
       "      <td>1.43</td>\n",
       "      <td>1.8302</td>\n",
       "      <td>2.222</td>\n",
       "      <td>0.128169</td>\n",
       "    </tr>\n",
       "    <tr>\n",
       "      <th>Fe2O3</th>\n",
       "      <td>281.0</td>\n",
       "      <td>3.31427</td>\n",
       "      <td>2.99</td>\n",
       "      <td>3.22</td>\n",
       "      <td>4.5074</td>\n",
       "      <td>4.663</td>\n",
       "      <td>0.322974</td>\n",
       "    </tr>\n",
       "    <tr>\n",
       "      <th>Loss on Ignition</th>\n",
       "      <td>283.0</td>\n",
       "      <td>7.411343</td>\n",
       "      <td>4.7</td>\n",
       "      <td>7.6</td>\n",
       "      <td>8.4426</td>\n",
       "      <td>8.8</td>\n",
       "      <td>0.763801</td>\n",
       "    </tr>\n",
       "    <tr>\n",
       "      <th>Insoluble Residue</th>\n",
       "      <td>283.0</td>\n",
       "      <td>15.293071</td>\n",
       "      <td>11.09</td>\n",
       "      <td>13.75</td>\n",
       "      <td>29.8626</td>\n",
       "      <td>30.01</td>\n",
       "      <td>4.806593</td>\n",
       "    </tr>\n",
       "    <tr>\n",
       "      <th>Blaine</th>\n",
       "      <td>284.0</td>\n",
       "      <td>4328.697183</td>\n",
       "      <td>4020.0</td>\n",
       "      <td>4310.0</td>\n",
       "      <td>4655.1</td>\n",
       "      <td>4750.0</td>\n",
       "      <td>124.176694</td>\n",
       "    </tr>\n",
       "    <tr>\n",
       "      <th>#200</th>\n",
       "      <td>283.0</td>\n",
       "      <td>0.502615</td>\n",
       "      <td>0.05</td>\n",
       "      <td>0.5</td>\n",
       "      <td>1.0</td>\n",
       "      <td>2.4</td>\n",
       "      <td>0.248041</td>\n",
       "    </tr>\n",
       "    <tr>\n",
       "      <th>#325</th>\n",
       "      <td>284.0</td>\n",
       "      <td>6.510775</td>\n",
       "      <td>1.2</td>\n",
       "      <td>7.0</td>\n",
       "      <td>9.4</td>\n",
       "      <td>11.4</td>\n",
       "      <td>1.919778</td>\n",
       "    </tr>\n",
       "    <tr>\n",
       "      <th>Initial setting time</th>\n",
       "      <td>284.0</td>\n",
       "      <td>243.169014</td>\n",
       "      <td>200.0</td>\n",
       "      <td>240.0</td>\n",
       "      <td>290.85</td>\n",
       "      <td>305.0</td>\n",
       "      <td>17.921885</td>\n",
       "    </tr>\n",
       "    <tr>\n",
       "      <th>Final setting time</th>\n",
       "      <td>284.0</td>\n",
       "      <td>283.292254</td>\n",
       "      <td>240.0</td>\n",
       "      <td>280.0</td>\n",
       "      <td>330.85</td>\n",
       "      <td>350.0</td>\n",
       "      <td>18.398489</td>\n",
       "    </tr>\n",
       "    <tr>\n",
       "      <th>CS3</th>\n",
       "      <td>285.0</td>\n",
       "      <td>26.109825</td>\n",
       "      <td>21.799999</td>\n",
       "      <td>26.4</td>\n",
       "      <td>28.416</td>\n",
       "      <td>29.0</td>\n",
       "      <td>1.406064</td>\n",
       "    </tr>\n",
       "    <tr>\n",
       "      <th>CS7</th>\n",
       "      <td>285.0</td>\n",
       "      <td>30.756842</td>\n",
       "      <td>25.799999</td>\n",
       "      <td>30.9</td>\n",
       "      <td>33.032</td>\n",
       "      <td>34.0</td>\n",
       "      <td>1.541171</td>\n",
       "    </tr>\n",
       "    <tr>\n",
       "      <th>CS28</th>\n",
       "      <td>286.0</td>\n",
       "      <td>37.046504</td>\n",
       "      <td>34.0</td>\n",
       "      <td>37.0</td>\n",
       "      <td>39.829999</td>\n",
       "      <td>40.099998</td>\n",
       "      <td>1.132505</td>\n",
       "    </tr>\n",
       "  </tbody>\n",
       "</table>\n",
       "</div>"
      ],
      "text/plain": [
       "                      count                           mean  \\\n",
       "Date                    286  2022-03-09 15:11:19.720279808   \n",
       "CaO                   281.0                      50.134989   \n",
       "MgO                   281.0                       5.629139   \n",
       "Na2O                  281.0                       0.253281   \n",
       "Al2O3                 281.0                       6.085875   \n",
       "SiO2                  281.0                      23.315288   \n",
       "SO3                   281.0                       2.209669   \n",
       "K2O                   281.0                       1.450342   \n",
       "Fe2O3                 281.0                        3.31427   \n",
       "Loss on Ignition      283.0                       7.411343   \n",
       "Insoluble Residue     283.0                      15.293071   \n",
       "Blaine                284.0                    4328.697183   \n",
       "#200                  283.0                       0.502615   \n",
       "#325                  284.0                       6.510775   \n",
       "Initial setting time  284.0                     243.169014   \n",
       "Final setting time    284.0                     283.292254   \n",
       "CS3                   285.0                      26.109825   \n",
       "CS7                   285.0                      30.756842   \n",
       "CS28                  286.0                      37.046504   \n",
       "\n",
       "                                      min                  50%  \\\n",
       "Date                  2021-01-06 00:00:00  2022-02-24 00:00:00   \n",
       "CaO                                39.583                 51.0   \n",
       "MgO                                 4.066                 5.56   \n",
       "Na2O                                 0.15                 0.25   \n",
       "Al2O3                                5.22                 5.77   \n",
       "SiO2                            19.809999                22.57   \n",
       "SO3                                 1.678                 2.22   \n",
       "K2O                                  1.11                 1.43   \n",
       "Fe2O3                                2.99                 3.22   \n",
       "Loss on Ignition                      4.7                  7.6   \n",
       "Insoluble Residue                   11.09                13.75   \n",
       "Blaine                             4020.0               4310.0   \n",
       "#200                                 0.05                  0.5   \n",
       "#325                                  1.2                  7.0   \n",
       "Initial setting time                200.0                240.0   \n",
       "Final setting time                  240.0                280.0   \n",
       "CS3                             21.799999                 26.4   \n",
       "CS7                             25.799999                 30.9   \n",
       "CS28                                 34.0                 37.0   \n",
       "\n",
       "                                      99%                  max         std  \n",
       "Date                  2023-06-30 14:24:00  2023-07-18 00:00:00         NaN  \n",
       "CaO                                53.022                 53.5    2.904949  \n",
       "MgO                                 7.274                 7.72    0.725831  \n",
       "Na2O                               0.3576                0.373    0.036817  \n",
       "Al2O3                              9.5218                9.785    1.016185  \n",
       "SiO2                              31.4696            32.257999    2.457055  \n",
       "SO3                                  2.61                 2.83    0.178392  \n",
       "K2O                                1.8302                2.222    0.128169  \n",
       "Fe2O3                              4.5074                4.663    0.322974  \n",
       "Loss on Ignition                   8.4426                  8.8    0.763801  \n",
       "Insoluble Residue                 29.8626                30.01    4.806593  \n",
       "Blaine                             4655.1               4750.0  124.176694  \n",
       "#200                                  1.0                  2.4    0.248041  \n",
       "#325                                  9.4                 11.4    1.919778  \n",
       "Initial setting time               290.85                305.0   17.921885  \n",
       "Final setting time                 330.85                350.0   18.398489  \n",
       "CS3                                28.416                 29.0    1.406064  \n",
       "CS7                                33.032                 34.0    1.541171  \n",
       "CS28                            39.829999            40.099998    1.132505  "
      ]
     },
     "execution_count": 39,
     "metadata": {},
     "output_type": "execute_result"
    },
    {
     "data": {
      "application/javascript": [
       "\n",
       "            setTimeout(function() {\n",
       "                var nbb_cell_id = 39;\n",
       "                var nbb_unformatted_code = \"df.describe(percentiles=[0.99]).T\";\n",
       "                var nbb_formatted_code = \"df.describe(percentiles=[0.99]).T\";\n",
       "                var nbb_cells = Jupyter.notebook.get_cells();\n",
       "                for (var i = 0; i < nbb_cells.length; ++i) {\n",
       "                    if (nbb_cells[i].input_prompt_number == nbb_cell_id) {\n",
       "                        if (nbb_cells[i].get_text() == nbb_unformatted_code) {\n",
       "                             nbb_cells[i].set_text(nbb_formatted_code);\n",
       "                        }\n",
       "                        break;\n",
       "                    }\n",
       "                }\n",
       "            }, 500);\n",
       "            "
      ],
      "text/plain": [
       "<IPython.core.display.Javascript object>"
      ]
     },
     "metadata": {},
     "output_type": "display_data"
    }
   ],
   "source": [
    "df.describe(percentiles=[0.99]).T"
   ]
  },
  {
   "cell_type": "code",
   "execution_count": 40,
   "id": "7f34e37a",
   "metadata": {},
   "outputs": [
    {
     "data": {
      "text/html": [
       "<style type=\"text/css\">\n",
       "#T_0be32_row0_col0, #T_0be32_row1_col0, #T_0be32_row2_col0, #T_0be32_row3_col0, #T_0be32_row4_col0, #T_0be32_row5_col0, #T_0be32_row6_col0, #T_0be32_row7_col0 {\n",
       "  background-color: #67000d;\n",
       "  color: #f1f1f1;\n",
       "}\n",
       "#T_0be32_row8_col0, #T_0be32_row9_col0, #T_0be32_row10_col0 {\n",
       "  background-color: #f14432;\n",
       "  color: #f1f1f1;\n",
       "}\n",
       "#T_0be32_row11_col0, #T_0be32_row12_col0, #T_0be32_row13_col0, #T_0be32_row14_col0 {\n",
       "  background-color: #fc8a6a;\n",
       "  color: #f1f1f1;\n",
       "}\n",
       "#T_0be32_row15_col0, #T_0be32_row16_col0 {\n",
       "  background-color: #fdcab5;\n",
       "  color: #000000;\n",
       "}\n",
       "#T_0be32_row17_col0, #T_0be32_row18_col0, #T_0be32_row19_col0 {\n",
       "  background-color: #fff5f0;\n",
       "  color: #000000;\n",
       "}\n",
       "</style>\n",
       "<table id=\"T_0be32\">\n",
       "  <thead>\n",
       "    <tr>\n",
       "      <th class=\"blank level0\" >&nbsp;</th>\n",
       "      <th id=\"T_0be32_level0_col0\" class=\"col_heading level0 col0\" >Missing (%)</th>\n",
       "    </tr>\n",
       "  </thead>\n",
       "  <tbody>\n",
       "    <tr>\n",
       "      <th id=\"T_0be32_level0_row0\" class=\"row_heading level0 row0\" >CaO</th>\n",
       "      <td id=\"T_0be32_row0_col0\" class=\"data row0 col0\" >1.748252</td>\n",
       "    </tr>\n",
       "    <tr>\n",
       "      <th id=\"T_0be32_level0_row1\" class=\"row_heading level0 row1\" >MgO</th>\n",
       "      <td id=\"T_0be32_row1_col0\" class=\"data row1 col0\" >1.748252</td>\n",
       "    </tr>\n",
       "    <tr>\n",
       "      <th id=\"T_0be32_level0_row2\" class=\"row_heading level0 row2\" >Na2O</th>\n",
       "      <td id=\"T_0be32_row2_col0\" class=\"data row2 col0\" >1.748252</td>\n",
       "    </tr>\n",
       "    <tr>\n",
       "      <th id=\"T_0be32_level0_row3\" class=\"row_heading level0 row3\" >Al2O3</th>\n",
       "      <td id=\"T_0be32_row3_col0\" class=\"data row3 col0\" >1.748252</td>\n",
       "    </tr>\n",
       "    <tr>\n",
       "      <th id=\"T_0be32_level0_row4\" class=\"row_heading level0 row4\" >SiO2</th>\n",
       "      <td id=\"T_0be32_row4_col0\" class=\"data row4 col0\" >1.748252</td>\n",
       "    </tr>\n",
       "    <tr>\n",
       "      <th id=\"T_0be32_level0_row5\" class=\"row_heading level0 row5\" >SO3</th>\n",
       "      <td id=\"T_0be32_row5_col0\" class=\"data row5 col0\" >1.748252</td>\n",
       "    </tr>\n",
       "    <tr>\n",
       "      <th id=\"T_0be32_level0_row6\" class=\"row_heading level0 row6\" >K2O</th>\n",
       "      <td id=\"T_0be32_row6_col0\" class=\"data row6 col0\" >1.748252</td>\n",
       "    </tr>\n",
       "    <tr>\n",
       "      <th id=\"T_0be32_level0_row7\" class=\"row_heading level0 row7\" >Fe2O3</th>\n",
       "      <td id=\"T_0be32_row7_col0\" class=\"data row7 col0\" >1.748252</td>\n",
       "    </tr>\n",
       "    <tr>\n",
       "      <th id=\"T_0be32_level0_row8\" class=\"row_heading level0 row8\" >Insoluble Residue</th>\n",
       "      <td id=\"T_0be32_row8_col0\" class=\"data row8 col0\" >1.048951</td>\n",
       "    </tr>\n",
       "    <tr>\n",
       "      <th id=\"T_0be32_level0_row9\" class=\"row_heading level0 row9\" >#200</th>\n",
       "      <td id=\"T_0be32_row9_col0\" class=\"data row9 col0\" >1.048951</td>\n",
       "    </tr>\n",
       "    <tr>\n",
       "      <th id=\"T_0be32_level0_row10\" class=\"row_heading level0 row10\" >Loss on Ignition</th>\n",
       "      <td id=\"T_0be32_row10_col0\" class=\"data row10 col0\" >1.048951</td>\n",
       "    </tr>\n",
       "    <tr>\n",
       "      <th id=\"T_0be32_level0_row11\" class=\"row_heading level0 row11\" >Blaine</th>\n",
       "      <td id=\"T_0be32_row11_col0\" class=\"data row11 col0\" >0.699301</td>\n",
       "    </tr>\n",
       "    <tr>\n",
       "      <th id=\"T_0be32_level0_row12\" class=\"row_heading level0 row12\" >#325</th>\n",
       "      <td id=\"T_0be32_row12_col0\" class=\"data row12 col0\" >0.699301</td>\n",
       "    </tr>\n",
       "    <tr>\n",
       "      <th id=\"T_0be32_level0_row13\" class=\"row_heading level0 row13\" >Initial setting time</th>\n",
       "      <td id=\"T_0be32_row13_col0\" class=\"data row13 col0\" >0.699301</td>\n",
       "    </tr>\n",
       "    <tr>\n",
       "      <th id=\"T_0be32_level0_row14\" class=\"row_heading level0 row14\" >Final setting time</th>\n",
       "      <td id=\"T_0be32_row14_col0\" class=\"data row14 col0\" >0.699301</td>\n",
       "    </tr>\n",
       "    <tr>\n",
       "      <th id=\"T_0be32_level0_row15\" class=\"row_heading level0 row15\" >CS3</th>\n",
       "      <td id=\"T_0be32_row15_col0\" class=\"data row15 col0\" >0.349650</td>\n",
       "    </tr>\n",
       "    <tr>\n",
       "      <th id=\"T_0be32_level0_row16\" class=\"row_heading level0 row16\" >CS7</th>\n",
       "      <td id=\"T_0be32_row16_col0\" class=\"data row16 col0\" >0.349650</td>\n",
       "    </tr>\n",
       "    <tr>\n",
       "      <th id=\"T_0be32_level0_row17\" class=\"row_heading level0 row17\" >CS28</th>\n",
       "      <td id=\"T_0be32_row17_col0\" class=\"data row17 col0\" >0.000000</td>\n",
       "    </tr>\n",
       "    <tr>\n",
       "      <th id=\"T_0be32_level0_row18\" class=\"row_heading level0 row18\" >Date</th>\n",
       "      <td id=\"T_0be32_row18_col0\" class=\"data row18 col0\" >0.000000</td>\n",
       "    </tr>\n",
       "    <tr>\n",
       "      <th id=\"T_0be32_level0_row19\" class=\"row_heading level0 row19\" >Cement_Type</th>\n",
       "      <td id=\"T_0be32_row19_col0\" class=\"data row19 col0\" >0.000000</td>\n",
       "    </tr>\n",
       "  </tbody>\n",
       "</table>\n"
      ],
      "text/plain": [
       "<pandas.io.formats.style.Styler at 0x7396bc3f1540>"
      ]
     },
     "execution_count": 40,
     "metadata": {},
     "output_type": "execute_result"
    },
    {
     "data": {
      "application/javascript": [
       "\n",
       "            setTimeout(function() {\n",
       "                var nbb_cell_id = 40;\n",
       "                var nbb_unformatted_code = \"(df.isna().sum() / df.shape[0] * 100).sort_values(ascending=False).to_frame(\\n    name=\\\"Missing (%)\\\"\\n).style.background_gradient(cmap=\\\"Reds\\\")\";\n",
       "                var nbb_formatted_code = \"(df.isna().sum() / df.shape[0] * 100).sort_values(ascending=False).to_frame(\\n    name=\\\"Missing (%)\\\"\\n).style.background_gradient(cmap=\\\"Reds\\\")\";\n",
       "                var nbb_cells = Jupyter.notebook.get_cells();\n",
       "                for (var i = 0; i < nbb_cells.length; ++i) {\n",
       "                    if (nbb_cells[i].input_prompt_number == nbb_cell_id) {\n",
       "                        if (nbb_cells[i].get_text() == nbb_unformatted_code) {\n",
       "                             nbb_cells[i].set_text(nbb_formatted_code);\n",
       "                        }\n",
       "                        break;\n",
       "                    }\n",
       "                }\n",
       "            }, 500);\n",
       "            "
      ],
      "text/plain": [
       "<IPython.core.display.Javascript object>"
      ]
     },
     "metadata": {},
     "output_type": "display_data"
    }
   ],
   "source": [
    "(df.isna().sum() / df.shape[0] * 100).sort_values(ascending=False).to_frame(\n",
    "    name=\"Missing (%)\"\n",
    ").style.background_gradient(cmap=\"Reds\")"
   ]
  },
  {
   "cell_type": "markdown",
   "id": "6d769c2f",
   "metadata": {},
   "source": [
    "### Sort the dataset by date"
   ]
  },
  {
   "cell_type": "code",
   "execution_count": 41,
   "id": "b44c21a6",
   "metadata": {},
   "outputs": [
    {
     "data": {
      "text/plain": [
       "dtype('<M8[ns]')"
      ]
     },
     "execution_count": 41,
     "metadata": {},
     "output_type": "execute_result"
    },
    {
     "data": {
      "application/javascript": [
       "\n",
       "            setTimeout(function() {\n",
       "                var nbb_cell_id = 41;\n",
       "                var nbb_unformatted_code = \"# We first make sure Date column was infered correctly\\ndf[\\\"Date\\\"].dtype\";\n",
       "                var nbb_formatted_code = \"# We first make sure Date column was infered correctly\\ndf[\\\"Date\\\"].dtype\";\n",
       "                var nbb_cells = Jupyter.notebook.get_cells();\n",
       "                for (var i = 0; i < nbb_cells.length; ++i) {\n",
       "                    if (nbb_cells[i].input_prompt_number == nbb_cell_id) {\n",
       "                        if (nbb_cells[i].get_text() == nbb_unformatted_code) {\n",
       "                             nbb_cells[i].set_text(nbb_formatted_code);\n",
       "                        }\n",
       "                        break;\n",
       "                    }\n",
       "                }\n",
       "            }, 500);\n",
       "            "
      ],
      "text/plain": [
       "<IPython.core.display.Javascript object>"
      ]
     },
     "metadata": {},
     "output_type": "display_data"
    }
   ],
   "source": [
    "# We first make sure Date column was infered correctly\n",
    "df[\"Date\"].dtype"
   ]
  },
  {
   "cell_type": "code",
   "execution_count": 42,
   "id": "5c5039e2",
   "metadata": {},
   "outputs": [
    {
     "data": {
      "application/javascript": [
       "\n",
       "            setTimeout(function() {\n",
       "                var nbb_cell_id = 42;\n",
       "                var nbb_unformatted_code = \"df = df.sort_values(by=\\\"Date\\\")\";\n",
       "                var nbb_formatted_code = \"df = df.sort_values(by=\\\"Date\\\")\";\n",
       "                var nbb_cells = Jupyter.notebook.get_cells();\n",
       "                for (var i = 0; i < nbb_cells.length; ++i) {\n",
       "                    if (nbb_cells[i].input_prompt_number == nbb_cell_id) {\n",
       "                        if (nbb_cells[i].get_text() == nbb_unformatted_code) {\n",
       "                             nbb_cells[i].set_text(nbb_formatted_code);\n",
       "                        }\n",
       "                        break;\n",
       "                    }\n",
       "                }\n",
       "            }, 500);\n",
       "            "
      ],
      "text/plain": [
       "<IPython.core.display.Javascript object>"
      ]
     },
     "metadata": {},
     "output_type": "display_data"
    }
   ],
   "source": [
    "df = df.sort_values(by=\"Date\")"
   ]
  },
  {
   "cell_type": "markdown",
   "id": "22e0657a",
   "metadata": {},
   "source": [
    "## Saving the dataset"
   ]
  },
  {
   "cell_type": "markdown",
   "id": "b60e3c79",
   "metadata": {},
   "source": [
    "<h3>Saving for feature engineering</h3>"
   ]
  },
  {
   "cell_type": "code",
   "execution_count": 43,
   "id": "a8a88fcd",
   "metadata": {},
   "outputs": [
    {
     "data": {
      "application/javascript": [
       "\n",
       "            setTimeout(function() {\n",
       "                var nbb_cell_id = 43;\n",
       "                var nbb_unformatted_code = \"df.to_csv(\\\"../../../../data/interim/209/ag.csv\\\", index=False)\";\n",
       "                var nbb_formatted_code = \"df.to_csv(\\\"../../../../data/interim/209/ag.csv\\\", index=False)\";\n",
       "                var nbb_cells = Jupyter.notebook.get_cells();\n",
       "                for (var i = 0; i < nbb_cells.length; ++i) {\n",
       "                    if (nbb_cells[i].input_prompt_number == nbb_cell_id) {\n",
       "                        if (nbb_cells[i].get_text() == nbb_unformatted_code) {\n",
       "                             nbb_cells[i].set_text(nbb_formatted_code);\n",
       "                        }\n",
       "                        break;\n",
       "                    }\n",
       "                }\n",
       "            }, 500);\n",
       "            "
      ],
      "text/plain": [
       "<IPython.core.display.Javascript object>"
      ]
     },
     "metadata": {},
     "output_type": "display_data"
    }
   ],
   "source": [
    "df.to_csv(\"../../../../data/interim/209/ag.csv\", index=False)"
   ]
  },
  {
   "cell_type": "code",
   "execution_count": null,
   "id": "c55f01f4",
   "metadata": {},
   "outputs": [],
   "source": []
  }
 ],
 "metadata": {
  "kernelspec": {
   "display_name": "ccs28-venv",
   "language": "python",
   "name": "ccs28-venv"
  },
  "language_info": {
   "codemirror_mode": {
    "name": "ipython",
    "version": 3
   },
   "file_extension": ".py",
   "mimetype": "text/x-python",
   "name": "python",
   "nbconvert_exporter": "python",
   "pygments_lexer": "ipython3",
   "version": "3.10.12"
  }
 },
 "nbformat": 4,
 "nbformat_minor": 5
}
