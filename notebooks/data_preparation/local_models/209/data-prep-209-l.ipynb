{
 "cells": [
  {
   "cell_type": "code",
   "execution_count": 1,
   "id": "00f7471a",
   "metadata": {},
   "outputs": [
    {
     "data": {
      "application/javascript": [
       "\n",
       "            setTimeout(function() {\n",
       "                var nbb_cell_id = 1;\n",
       "                var nbb_unformatted_code = \"%load_ext nb_black\";\n",
       "                var nbb_formatted_code = \"%load_ext nb_black\";\n",
       "                var nbb_cells = Jupyter.notebook.get_cells();\n",
       "                for (var i = 0; i < nbb_cells.length; ++i) {\n",
       "                    if (nbb_cells[i].input_prompt_number == nbb_cell_id) {\n",
       "                        if (nbb_cells[i].get_text() == nbb_unformatted_code) {\n",
       "                             nbb_cells[i].set_text(nbb_formatted_code);\n",
       "                        }\n",
       "                        break;\n",
       "                    }\n",
       "                }\n",
       "            }, 500);\n",
       "            "
      ],
      "text/plain": [
       "<IPython.core.display.Javascript object>"
      ]
     },
     "metadata": {},
     "output_type": "display_data"
    }
   ],
   "source": [
    "%load_ext nb_black"
   ]
  },
  {
   "cell_type": "code",
   "execution_count": 2,
   "id": "17ba98f5",
   "metadata": {},
   "outputs": [
    {
     "data": {
      "application/javascript": [
       "\n",
       "            setTimeout(function() {\n",
       "                var nbb_cell_id = 2;\n",
       "                var nbb_unformatted_code = \"import pandas as pd\\nimport numpy as np\\nimport matplotlib.pyplot as plt\\nimport seaborn as sns\\nimport warnings\\n\\nfrom scipy.stats import pearsonr\\nfrom collections import Counter\";\n",
       "                var nbb_formatted_code = \"import pandas as pd\\nimport numpy as np\\nimport matplotlib.pyplot as plt\\nimport seaborn as sns\\nimport warnings\\n\\nfrom scipy.stats import pearsonr\\nfrom collections import Counter\";\n",
       "                var nbb_cells = Jupyter.notebook.get_cells();\n",
       "                for (var i = 0; i < nbb_cells.length; ++i) {\n",
       "                    if (nbb_cells[i].input_prompt_number == nbb_cell_id) {\n",
       "                        if (nbb_cells[i].get_text() == nbb_unformatted_code) {\n",
       "                             nbb_cells[i].set_text(nbb_formatted_code);\n",
       "                        }\n",
       "                        break;\n",
       "                    }\n",
       "                }\n",
       "            }, 500);\n",
       "            "
      ],
      "text/plain": [
       "<IPython.core.display.Javascript object>"
      ]
     },
     "metadata": {},
     "output_type": "display_data"
    }
   ],
   "source": [
    "import pandas as pd\n",
    "import numpy as np\n",
    "import matplotlib.pyplot as plt\n",
    "import seaborn as sns\n",
    "import warnings\n",
    "\n",
    "from scipy.stats import pearsonr\n",
    "from collections import Counter"
   ]
  },
  {
   "cell_type": "code",
   "execution_count": 3,
   "id": "ad81bb3a",
   "metadata": {},
   "outputs": [
    {
     "data": {
      "application/javascript": [
       "\n",
       "            setTimeout(function() {\n",
       "                var nbb_cell_id = 3;\n",
       "                var nbb_unformatted_code = \"def convert_to_float(value):\\n    try:\\n        # If it's a string enclosed in single quotes, remove quotes and replace comma with dot\\n        if isinstance(value, str):\\n            return float(value.replace(\\\",\\\", \\\".\\\"))\\n        else:\\n            return float(value)\\n    except ValueError as e:\\n        print(e)\\n        return float(\\\"nan\\\")\";\n",
       "                var nbb_formatted_code = \"def convert_to_float(value):\\n    try:\\n        # If it's a string enclosed in single quotes, remove quotes and replace comma with dot\\n        if isinstance(value, str):\\n            return float(value.replace(\\\",\\\", \\\".\\\"))\\n        else:\\n            return float(value)\\n    except ValueError as e:\\n        print(e)\\n        return float(\\\"nan\\\")\";\n",
       "                var nbb_cells = Jupyter.notebook.get_cells();\n",
       "                for (var i = 0; i < nbb_cells.length; ++i) {\n",
       "                    if (nbb_cells[i].input_prompt_number == nbb_cell_id) {\n",
       "                        if (nbb_cells[i].get_text() == nbb_unformatted_code) {\n",
       "                             nbb_cells[i].set_text(nbb_formatted_code);\n",
       "                        }\n",
       "                        break;\n",
       "                    }\n",
       "                }\n",
       "            }, 500);\n",
       "            "
      ],
      "text/plain": [
       "<IPython.core.display.Javascript object>"
      ]
     },
     "metadata": {},
     "output_type": "display_data"
    }
   ],
   "source": [
    "def convert_to_float(value):\n",
    "    try:\n",
    "        # If it's a string enclosed in single quotes, remove quotes and replace comma with dot\n",
    "        if isinstance(value, str):\n",
    "            return float(value.replace(\",\", \".\"))\n",
    "        else:\n",
    "            return float(value)\n",
    "    except ValueError as e:\n",
    "        print(e)\n",
    "        return float(\"nan\")"
   ]
  },
  {
   "cell_type": "code",
   "execution_count": 4,
   "id": "fa1f9842",
   "metadata": {},
   "outputs": [
    {
     "data": {
      "application/javascript": [
       "\n",
       "            setTimeout(function() {\n",
       "                var nbb_cell_id = 4;\n",
       "                var nbb_unformatted_code = \"def preprocess_numeric_cols(df, columns):\\n    for col in columns:\\n        df[col] = df[col].astype(str)  # Ensure string type for string operations\\n        df[col] = df[col].str.replace(\\\"#\\\", \\\"\\\")  # Remove '#' characters\\n        df[col] = df[col].str.replace(\\\",\\\", \\\".\\\")  # Replace ',' with '.' for decimals\\n    return df\";\n",
       "                var nbb_formatted_code = \"def preprocess_numeric_cols(df, columns):\\n    for col in columns:\\n        df[col] = df[col].astype(str)  # Ensure string type for string operations\\n        df[col] = df[col].str.replace(\\\"#\\\", \\\"\\\")  # Remove '#' characters\\n        df[col] = df[col].str.replace(\\\",\\\", \\\".\\\")  # Replace ',' with '.' for decimals\\n    return df\";\n",
       "                var nbb_cells = Jupyter.notebook.get_cells();\n",
       "                for (var i = 0; i < nbb_cells.length; ++i) {\n",
       "                    if (nbb_cells[i].input_prompt_number == nbb_cell_id) {\n",
       "                        if (nbb_cells[i].get_text() == nbb_unformatted_code) {\n",
       "                             nbb_cells[i].set_text(nbb_formatted_code);\n",
       "                        }\n",
       "                        break;\n",
       "                    }\n",
       "                }\n",
       "            }, 500);\n",
       "            "
      ],
      "text/plain": [
       "<IPython.core.display.Javascript object>"
      ]
     },
     "metadata": {},
     "output_type": "display_data"
    }
   ],
   "source": [
    "def preprocess_numeric_cols(df, columns):\n",
    "    for col in columns:\n",
    "        df[col] = df[col].astype(str)  # Ensure string type for string operations\n",
    "        df[col] = df[col].str.replace(\"#\", \"\")  # Remove '#' characters\n",
    "        df[col] = df[col].str.replace(\",\", \".\")  # Replace ',' with '.' for decimals\n",
    "    return df"
   ]
  },
  {
   "cell_type": "markdown",
   "id": "d28c2c6f",
   "metadata": {},
   "source": [
    "# Data preparation - 209 plant L data"
   ]
  },
  {
   "cell_type": "markdown",
   "id": "d3eb6673",
   "metadata": {},
   "source": [
    "### Reading the files and extracting relevant information:"
   ]
  },
  {
   "cell_type": "code",
   "execution_count": 5,
   "id": "8cbd3a44",
   "metadata": {},
   "outputs": [
    {
     "data": {
      "application/javascript": [
       "\n",
       "            setTimeout(function() {\n",
       "                var nbb_cell_id = 5;\n",
       "                var nbb_unformatted_code = \"plant = \\\"L\\\"\\nxls_files = {}\\n\\nxls = pd.ExcelFile(\\n    f\\\"../../../data/raw/209/EMBRAPII hubIC IACC_CIMENTO_{plant}.xlsx\\\",\\n    engine=\\\"openpyxl\\\",\\n)\\nxls_files[plant] = xls\";\n",
       "                var nbb_formatted_code = \"plant = \\\"L\\\"\\nxls_files = {}\\n\\nxls = pd.ExcelFile(\\n    f\\\"../../../data/raw/209/EMBRAPII hubIC IACC_CIMENTO_{plant}.xlsx\\\",\\n    engine=\\\"openpyxl\\\",\\n)\\nxls_files[plant] = xls\";\n",
       "                var nbb_cells = Jupyter.notebook.get_cells();\n",
       "                for (var i = 0; i < nbb_cells.length; ++i) {\n",
       "                    if (nbb_cells[i].input_prompt_number == nbb_cell_id) {\n",
       "                        if (nbb_cells[i].get_text() == nbb_unformatted_code) {\n",
       "                             nbb_cells[i].set_text(nbb_formatted_code);\n",
       "                        }\n",
       "                        break;\n",
       "                    }\n",
       "                }\n",
       "            }, 500);\n",
       "            "
      ],
      "text/plain": [
       "<IPython.core.display.Javascript object>"
      ]
     },
     "metadata": {},
     "output_type": "display_data"
    }
   ],
   "source": [
    "plant = \"L\"\n",
    "xls_files = {}\n",
    "\n",
    "xls = pd.ExcelFile(\n",
    "    f\"../../../data/raw/209/EMBRAPII hubIC IACC_CIMENTO_{plant}.xlsx\",\n",
    "    engine=\"openpyxl\",\n",
    ")\n",
    "xls_files[plant] = xls"
   ]
  },
  {
   "cell_type": "code",
   "execution_count": 6,
   "id": "0d7c6058",
   "metadata": {},
   "outputs": [
    {
     "name": "stdout",
     "output_type": "stream",
     "text": [
      "Plant:  L ['INSTRUÇÕES', 'Clínquer', '6', '39', '16']\n"
     ]
    },
    {
     "data": {
      "application/javascript": [
       "\n",
       "            setTimeout(function() {\n",
       "                var nbb_cell_id = 6;\n",
       "                var nbb_unformatted_code = \"print(\\\"Plant: \\\", plant, xls.sheet_names)\";\n",
       "                var nbb_formatted_code = \"print(\\\"Plant: \\\", plant, xls.sheet_names)\";\n",
       "                var nbb_cells = Jupyter.notebook.get_cells();\n",
       "                for (var i = 0; i < nbb_cells.length; ++i) {\n",
       "                    if (nbb_cells[i].input_prompt_number == nbb_cell_id) {\n",
       "                        if (nbb_cells[i].get_text() == nbb_unformatted_code) {\n",
       "                             nbb_cells[i].set_text(nbb_formatted_code);\n",
       "                        }\n",
       "                        break;\n",
       "                    }\n",
       "                }\n",
       "            }, 500);\n",
       "            "
      ],
      "text/plain": [
       "<IPython.core.display.Javascript object>"
      ]
     },
     "metadata": {},
     "output_type": "display_data"
    }
   ],
   "source": [
    "print(\"Plant: \", plant, xls.sheet_names)"
   ]
  },
  {
   "cell_type": "code",
   "execution_count": 7,
   "id": "d0b9a1e5",
   "metadata": {},
   "outputs": [
    {
     "data": {
      "application/javascript": [
       "\n",
       "            setTimeout(function() {\n",
       "                var nbb_cell_id = 7;\n",
       "                var nbb_unformatted_code = \"cement_types_per_plant = []\\nCEMENT_TYPE_COLS = [\\\"Tipo de cimento\\\", \\\"Classe de resist\\u00eancia\\\"]\\ndataframes = []\\n\\nfor plant, xls in xls_files.items():\\n    for sheet_name in xls.sheet_names[2:]:\\n        df = pd.read_excel(xls_files[plant], sheet_name, header=[1, 2])\\n\\n        if not df[CEMENT_TYPE_COLS].iloc[2:].isna().all().all():\\n            cement_type = (\\n                df[CEMENT_TYPE_COLS]\\n                .loc[2:]\\n                .astype(str)\\n                .sum(axis=1)\\n                .str.replace(\\\" \\\", \\\"\\\")\\n                .str.replace(\\\"-\\\", \\\"\\\")\\n                .str.replace(\\\"nan\\\", \\\"\\\")\\n                .unique()\\n            )\\n\\n        else:\\n            cement_type = (\\n                df[[(\\\"Obs.\\\", \\\"Unnamed: 8_level_1\\\")]]\\n                .loc[2:]\\n                .astype(str)\\n                .sum(axis=1)\\n                .str.replace(\\\" \\\", \\\"\\\")\\n                .str.replace(\\\"-\\\", \\\"\\\")\\n                .unique()\\n            )\\n\\n        cement_types_per_plant.append((plant, sheet_name, cement_type))\\n        dataframes.append(df)\";\n",
       "                var nbb_formatted_code = \"cement_types_per_plant = []\\nCEMENT_TYPE_COLS = [\\\"Tipo de cimento\\\", \\\"Classe de resist\\u00eancia\\\"]\\ndataframes = []\\n\\nfor plant, xls in xls_files.items():\\n    for sheet_name in xls.sheet_names[2:]:\\n        df = pd.read_excel(xls_files[plant], sheet_name, header=[1, 2])\\n\\n        if not df[CEMENT_TYPE_COLS].iloc[2:].isna().all().all():\\n            cement_type = (\\n                df[CEMENT_TYPE_COLS]\\n                .loc[2:]\\n                .astype(str)\\n                .sum(axis=1)\\n                .str.replace(\\\" \\\", \\\"\\\")\\n                .str.replace(\\\"-\\\", \\\"\\\")\\n                .str.replace(\\\"nan\\\", \\\"\\\")\\n                .unique()\\n            )\\n\\n        else:\\n            cement_type = (\\n                df[[(\\\"Obs.\\\", \\\"Unnamed: 8_level_1\\\")]]\\n                .loc[2:]\\n                .astype(str)\\n                .sum(axis=1)\\n                .str.replace(\\\" \\\", \\\"\\\")\\n                .str.replace(\\\"-\\\", \\\"\\\")\\n                .unique()\\n            )\\n\\n        cement_types_per_plant.append((plant, sheet_name, cement_type))\\n        dataframes.append(df)\";\n",
       "                var nbb_cells = Jupyter.notebook.get_cells();\n",
       "                for (var i = 0; i < nbb_cells.length; ++i) {\n",
       "                    if (nbb_cells[i].input_prompt_number == nbb_cell_id) {\n",
       "                        if (nbb_cells[i].get_text() == nbb_unformatted_code) {\n",
       "                             nbb_cells[i].set_text(nbb_formatted_code);\n",
       "                        }\n",
       "                        break;\n",
       "                    }\n",
       "                }\n",
       "            }, 500);\n",
       "            "
      ],
      "text/plain": [
       "<IPython.core.display.Javascript object>"
      ]
     },
     "metadata": {},
     "output_type": "display_data"
    }
   ],
   "source": [
    "cement_types_per_plant = []\n",
    "CEMENT_TYPE_COLS = [\"Tipo de cimento\", \"Classe de resistência\"]\n",
    "dataframes = []\n",
    "\n",
    "for plant, xls in xls_files.items():\n",
    "    for sheet_name in xls.sheet_names[2:]:\n",
    "        df = pd.read_excel(xls_files[plant], sheet_name, header=[1, 2])\n",
    "\n",
    "        if not df[CEMENT_TYPE_COLS].iloc[2:].isna().all().all():\n",
    "            cement_type = (\n",
    "                df[CEMENT_TYPE_COLS]\n",
    "                .loc[2:]\n",
    "                .astype(str)\n",
    "                .sum(axis=1)\n",
    "                .str.replace(\" \", \"\")\n",
    "                .str.replace(\"-\", \"\")\n",
    "                .str.replace(\"nan\", \"\")\n",
    "                .unique()\n",
    "            )\n",
    "\n",
    "        else:\n",
    "            cement_type = (\n",
    "                df[[(\"Obs.\", \"Unnamed: 8_level_1\")]]\n",
    "                .loc[2:]\n",
    "                .astype(str)\n",
    "                .sum(axis=1)\n",
    "                .str.replace(\" \", \"\")\n",
    "                .str.replace(\"-\", \"\")\n",
    "                .unique()\n",
    "            )\n",
    "\n",
    "        cement_types_per_plant.append((plant, sheet_name, cement_type))\n",
    "        dataframes.append(df)"
   ]
  },
  {
   "cell_type": "code",
   "execution_count": 8,
   "id": "68ebeafe",
   "metadata": {},
   "outputs": [
    {
     "data": {
      "text/plain": [
       "[('L', '6', array(['CPIIF40'], dtype=object)),\n",
       " ('L', '39', array(['CPIIF32'], dtype=object)),\n",
       " ('L', '16', array(['CPVARI'], dtype=object))]"
      ]
     },
     "execution_count": 8,
     "metadata": {},
     "output_type": "execute_result"
    },
    {
     "data": {
      "application/javascript": [
       "\n",
       "            setTimeout(function() {\n",
       "                var nbb_cell_id = 8;\n",
       "                var nbb_unformatted_code = \"cement_types_per_plant\";\n",
       "                var nbb_formatted_code = \"cement_types_per_plant\";\n",
       "                var nbb_cells = Jupyter.notebook.get_cells();\n",
       "                for (var i = 0; i < nbb_cells.length; ++i) {\n",
       "                    if (nbb_cells[i].input_prompt_number == nbb_cell_id) {\n",
       "                        if (nbb_cells[i].get_text() == nbb_unformatted_code) {\n",
       "                             nbb_cells[i].set_text(nbb_formatted_code);\n",
       "                        }\n",
       "                        break;\n",
       "                    }\n",
       "                }\n",
       "            }, 500);\n",
       "            "
      ],
      "text/plain": [
       "<IPython.core.display.Javascript object>"
      ]
     },
     "metadata": {},
     "output_type": "display_data"
    }
   ],
   "source": [
    "cement_types_per_plant"
   ]
  },
  {
   "cell_type": "code",
   "execution_count": 9,
   "id": "88c941e7",
   "metadata": {},
   "outputs": [
    {
     "data": {
      "text/plain": [
       "Counter({'CPIIF40': 1, 'CPIIF32': 1, 'CPVARI': 1})"
      ]
     },
     "execution_count": 9,
     "metadata": {},
     "output_type": "execute_result"
    },
    {
     "data": {
      "application/javascript": [
       "\n",
       "            setTimeout(function() {\n",
       "                var nbb_cell_id = 9;\n",
       "                var nbb_unformatted_code = \"cements = []\\nfor tup in cement_types_per_plant:\\n    cements.append(tup[2][0])\\nCounter(cements)\";\n",
       "                var nbb_formatted_code = \"cements = []\\nfor tup in cement_types_per_plant:\\n    cements.append(tup[2][0])\\nCounter(cements)\";\n",
       "                var nbb_cells = Jupyter.notebook.get_cells();\n",
       "                for (var i = 0; i < nbb_cells.length; ++i) {\n",
       "                    if (nbb_cells[i].input_prompt_number == nbb_cell_id) {\n",
       "                        if (nbb_cells[i].get_text() == nbb_unformatted_code) {\n",
       "                             nbb_cells[i].set_text(nbb_formatted_code);\n",
       "                        }\n",
       "                        break;\n",
       "                    }\n",
       "                }\n",
       "            }, 500);\n",
       "            "
      ],
      "text/plain": [
       "<IPython.core.display.Javascript object>"
      ]
     },
     "metadata": {},
     "output_type": "display_data"
    }
   ],
   "source": [
    "cements = []\n",
    "for tup in cement_types_per_plant:\n",
    "    cements.append(tup[2][0])\n",
    "Counter(cements)"
   ]
  },
  {
   "cell_type": "code",
   "execution_count": 10,
   "id": "af1bdac7",
   "metadata": {},
   "outputs": [
    {
     "data": {
      "application/javascript": [
       "\n",
       "            setTimeout(function() {\n",
       "                var nbb_cell_id = 10;\n",
       "                var nbb_unformatted_code = \"dataframes = []\\n\\nfor plant, xls in xls_files.items():\\n    for sheet_name in xls.sheet_names[2:]:\\n        df = pd.read_excel(xls_files[plant], sheet_name, header=[0, 1, 2])\\n        df[\\\"Unnamed: 0_level_0\\\", \\\"Unnamed: 0_level_1\\\", \\\"Unnamed: 0_level_2\\\"] = plant\\n        dataframes.append(df.drop([0, 1], axis=0).reset_index(drop=True).copy())\";\n",
       "                var nbb_formatted_code = \"dataframes = []\\n\\nfor plant, xls in xls_files.items():\\n    for sheet_name in xls.sheet_names[2:]:\\n        df = pd.read_excel(xls_files[plant], sheet_name, header=[0, 1, 2])\\n        df[\\\"Unnamed: 0_level_0\\\", \\\"Unnamed: 0_level_1\\\", \\\"Unnamed: 0_level_2\\\"] = plant\\n        dataframes.append(df.drop([0, 1], axis=0).reset_index(drop=True).copy())\";\n",
       "                var nbb_cells = Jupyter.notebook.get_cells();\n",
       "                for (var i = 0; i < nbb_cells.length; ++i) {\n",
       "                    if (nbb_cells[i].input_prompt_number == nbb_cell_id) {\n",
       "                        if (nbb_cells[i].get_text() == nbb_unformatted_code) {\n",
       "                             nbb_cells[i].set_text(nbb_formatted_code);\n",
       "                        }\n",
       "                        break;\n",
       "                    }\n",
       "                }\n",
       "            }, 500);\n",
       "            "
      ],
      "text/plain": [
       "<IPython.core.display.Javascript object>"
      ]
     },
     "metadata": {},
     "output_type": "display_data"
    }
   ],
   "source": [
    "dataframes = []\n",
    "\n",
    "for plant, xls in xls_files.items():\n",
    "    for sheet_name in xls.sheet_names[2:]:\n",
    "        df = pd.read_excel(xls_files[plant], sheet_name, header=[0, 1, 2])\n",
    "        df[\"Unnamed: 0_level_0\", \"Unnamed: 0_level_1\", \"Unnamed: 0_level_2\"] = plant\n",
    "        dataframes.append(df.drop([0, 1], axis=0).reset_index(drop=True).copy())"
   ]
  },
  {
   "cell_type": "code",
   "execution_count": 11,
   "id": "c4919ee2",
   "metadata": {},
   "outputs": [
    {
     "data": {
      "application/javascript": [
       "\n",
       "            setTimeout(function() {\n",
       "                var nbb_cell_id = 11;\n",
       "                var nbb_unformatted_code = \"df = pd.concat(dataframes, axis=0).reset_index(drop=True)\";\n",
       "                var nbb_formatted_code = \"df = pd.concat(dataframes, axis=0).reset_index(drop=True)\";\n",
       "                var nbb_cells = Jupyter.notebook.get_cells();\n",
       "                for (var i = 0; i < nbb_cells.length; ++i) {\n",
       "                    if (nbb_cells[i].input_prompt_number == nbb_cell_id) {\n",
       "                        if (nbb_cells[i].get_text() == nbb_unformatted_code) {\n",
       "                             nbb_cells[i].set_text(nbb_formatted_code);\n",
       "                        }\n",
       "                        break;\n",
       "                    }\n",
       "                }\n",
       "            }, 500);\n",
       "            "
      ],
      "text/plain": [
       "<IPython.core.display.Javascript object>"
      ]
     },
     "metadata": {},
     "output_type": "display_data"
    }
   ],
   "source": [
    "df = pd.concat(dataframes, axis=0).reset_index(drop=True)"
   ]
  },
  {
   "cell_type": "markdown",
   "id": "8dfc7bff",
   "metadata": {},
   "source": [
    "## Initial Preprocessing"
   ]
  },
  {
   "cell_type": "code",
   "execution_count": 12,
   "id": "f360ba12",
   "metadata": {},
   "outputs": [
    {
     "data": {
      "application/javascript": [
       "\n",
       "            setTimeout(function() {\n",
       "                var nbb_cell_id = 12;\n",
       "                var nbb_unformatted_code = \"df = pd.concat(\\n    [\\n        df[\\\"Unnamed: 0_level_0\\\", \\\"Unnamed: 0_level_1\\\", \\\"Unnamed: 0_level_2\\\"],\\n        df[\\\"Dados iniciais\\\"],\\n        df[\\\"Cimento\\\"][\\\"An\\u00e1lise qu\\u00edmica\\\"],\\n        df[\\\"Caracter\\u00edstias f\\u00edsicas do cimento\\\"],\\n        df[\\\"Propriedades do cimento\\\"],\\n    ],\\n    axis=1,\\n)\";\n",
       "                var nbb_formatted_code = \"df = pd.concat(\\n    [\\n        df[\\\"Unnamed: 0_level_0\\\", \\\"Unnamed: 0_level_1\\\", \\\"Unnamed: 0_level_2\\\"],\\n        df[\\\"Dados iniciais\\\"],\\n        df[\\\"Cimento\\\"][\\\"An\\u00e1lise qu\\u00edmica\\\"],\\n        df[\\\"Caracter\\u00edstias f\\u00edsicas do cimento\\\"],\\n        df[\\\"Propriedades do cimento\\\"],\\n    ],\\n    axis=1,\\n)\";\n",
       "                var nbb_cells = Jupyter.notebook.get_cells();\n",
       "                for (var i = 0; i < nbb_cells.length; ++i) {\n",
       "                    if (nbb_cells[i].input_prompt_number == nbb_cell_id) {\n",
       "                        if (nbb_cells[i].get_text() == nbb_unformatted_code) {\n",
       "                             nbb_cells[i].set_text(nbb_formatted_code);\n",
       "                        }\n",
       "                        break;\n",
       "                    }\n",
       "                }\n",
       "            }, 500);\n",
       "            "
      ],
      "text/plain": [
       "<IPython.core.display.Javascript object>"
      ]
     },
     "metadata": {},
     "output_type": "display_data"
    }
   ],
   "source": [
    "df = pd.concat(\n",
    "    [\n",
    "        df[\"Unnamed: 0_level_0\", \"Unnamed: 0_level_1\", \"Unnamed: 0_level_2\"],\n",
    "        df[\"Dados iniciais\"],\n",
    "        df[\"Cimento\"][\"Análise química\"],\n",
    "        df[\"Característias físicas do cimento\"],\n",
    "        df[\"Propriedades do cimento\"],\n",
    "    ],\n",
    "    axis=1,\n",
    ")"
   ]
  },
  {
   "cell_type": "markdown",
   "id": "e1b4b617",
   "metadata": {},
   "source": [
    "### 1. Dropping columns where either there is no data nor it contributes to the analysis\n",
    "### 2. Renaming columns to a short identifiable name"
   ]
  },
  {
   "cell_type": "code",
   "execution_count": 13,
   "id": "ecb5184c",
   "metadata": {},
   "outputs": [
    {
     "data": {
      "application/javascript": [
       "\n",
       "            setTimeout(function() {\n",
       "                var nbb_cell_id = 13;\n",
       "                var nbb_unformatted_code = \"COLUMNS_TO_DROP = [\\n    (\\\"Data\\\", \\\"Medida\\\"),\\n    (\\\"Hor\\u00e1rio\\\", \\\"Produ\\u00e7\\u00e3o\\\"),\\n    (\\\"Hor\\u00e1rio\\\", \\\"Medida\\\"),\\n    (\\\"Obs.\\\", \\\"Unnamed: 148_level_2\\\"),\\n    (\\\"Tipo de cimento\\\", \\\"Unnamed: 6_level_2\\\"),\\n    (\\\"Classe de resist\\u00eancia\\\", \\\"Unnamed: 7_level_2\\\"),\\n    (\\\"Obs.\\\", \\\"Unnamed: 8_level_2\\\"),\\n    \\\"Obs.\\\",\\n    (\\\"Obs.\\\", \\\"Unnamed: 148_level_2\\\"),\\n    (\\\"Unnamed: 141_level_1\\\", \\\"Obs.\\\"),\\n    # (\\\"Unnamed: 139_level_1\\\", \\\"#400\\\"),\\n]\\n\\nCOLUMNS_TO_RENAME = {\\n    (\\\"Unnamed: 0_level_0\\\", \\\"Unnamed: 0_level_1\\\", \\\"Unnamed: 0_level_2\\\"): \\\"Plant\\\",\\n    (\\\"Cidade\\\", \\\"Unnamed: 1_level_2\\\"): \\\"City\\\",\\n    (\\\"Data\\\", \\\"Produ\\u00e7\\u00e3o\\\"): \\\"Date\\\",  # Arrumar!\\n    (\\\"Unnamed: 136_level_1\\\", \\\"Blaine\\\"): \\\"Blaine\\\",\\n    (\\\"Unnamed: 137_level_1\\\", \\\"#200\\\"): \\\"#200\\\",\\n    (\\\"Unnamed: 138_level_1\\\", \\\"#325\\\"): \\\"#325\\\",\\n    (\\\"Unnamed: 139_level_1\\\", \\\"#400\\\"): \\\"#400\\\",\\n    (\\\"Unnamed: 140_level_1\\\", \\\"Massa espec\\u00edfica\\\"): \\\"Specific Gravity\\\",\\n    (\\\"Tempo de pega\\\", \\\"Inicio\\\"): \\\"Initial setting time\\\",\\n    (\\\"Tempo de pega\\\", \\\"Fim\\\"): \\\"Final setting time\\\",\\n    (\\\"Resist\\u00eancia \\u00e0 compress\\u00e3o\\\", \\\"1 d\\\"): \\\"CS1\\\",\\n    (\\\"Resist\\u00eancia \\u00e0 compress\\u00e3o\\\", \\\"3 d\\\"): \\\"CS3\\\",\\n    (\\\"Resist\\u00eancia \\u00e0 compress\\u00e3o\\\", \\\"7 d\\\"): \\\"CS7\\\",\\n    (\\\"Resist\\u00eancia \\u00e0 compress\\u00e3o\\\", \\\"28 d\\\"): \\\"CS28\\\",\\n    \\\"Perda ao fogo\\\": \\\"Loss on Ignition\\\",\\n    \\\"Res\\u00edduo insol\\u00favel\\\": \\\"Insoluble Residue\\\",\\n}\";\n",
       "                var nbb_formatted_code = \"COLUMNS_TO_DROP = [\\n    (\\\"Data\\\", \\\"Medida\\\"),\\n    (\\\"Hor\\u00e1rio\\\", \\\"Produ\\u00e7\\u00e3o\\\"),\\n    (\\\"Hor\\u00e1rio\\\", \\\"Medida\\\"),\\n    (\\\"Obs.\\\", \\\"Unnamed: 148_level_2\\\"),\\n    (\\\"Tipo de cimento\\\", \\\"Unnamed: 6_level_2\\\"),\\n    (\\\"Classe de resist\\u00eancia\\\", \\\"Unnamed: 7_level_2\\\"),\\n    (\\\"Obs.\\\", \\\"Unnamed: 8_level_2\\\"),\\n    \\\"Obs.\\\",\\n    (\\\"Obs.\\\", \\\"Unnamed: 148_level_2\\\"),\\n    (\\\"Unnamed: 141_level_1\\\", \\\"Obs.\\\"),\\n    # (\\\"Unnamed: 139_level_1\\\", \\\"#400\\\"),\\n]\\n\\nCOLUMNS_TO_RENAME = {\\n    (\\\"Unnamed: 0_level_0\\\", \\\"Unnamed: 0_level_1\\\", \\\"Unnamed: 0_level_2\\\"): \\\"Plant\\\",\\n    (\\\"Cidade\\\", \\\"Unnamed: 1_level_2\\\"): \\\"City\\\",\\n    (\\\"Data\\\", \\\"Produ\\u00e7\\u00e3o\\\"): \\\"Date\\\",  # Arrumar!\\n    (\\\"Unnamed: 136_level_1\\\", \\\"Blaine\\\"): \\\"Blaine\\\",\\n    (\\\"Unnamed: 137_level_1\\\", \\\"#200\\\"): \\\"#200\\\",\\n    (\\\"Unnamed: 138_level_1\\\", \\\"#325\\\"): \\\"#325\\\",\\n    (\\\"Unnamed: 139_level_1\\\", \\\"#400\\\"): \\\"#400\\\",\\n    (\\\"Unnamed: 140_level_1\\\", \\\"Massa espec\\u00edfica\\\"): \\\"Specific Gravity\\\",\\n    (\\\"Tempo de pega\\\", \\\"Inicio\\\"): \\\"Initial setting time\\\",\\n    (\\\"Tempo de pega\\\", \\\"Fim\\\"): \\\"Final setting time\\\",\\n    (\\\"Resist\\u00eancia \\u00e0 compress\\u00e3o\\\", \\\"1 d\\\"): \\\"CS1\\\",\\n    (\\\"Resist\\u00eancia \\u00e0 compress\\u00e3o\\\", \\\"3 d\\\"): \\\"CS3\\\",\\n    (\\\"Resist\\u00eancia \\u00e0 compress\\u00e3o\\\", \\\"7 d\\\"): \\\"CS7\\\",\\n    (\\\"Resist\\u00eancia \\u00e0 compress\\u00e3o\\\", \\\"28 d\\\"): \\\"CS28\\\",\\n    \\\"Perda ao fogo\\\": \\\"Loss on Ignition\\\",\\n    \\\"Res\\u00edduo insol\\u00favel\\\": \\\"Insoluble Residue\\\",\\n}\";\n",
       "                var nbb_cells = Jupyter.notebook.get_cells();\n",
       "                for (var i = 0; i < nbb_cells.length; ++i) {\n",
       "                    if (nbb_cells[i].input_prompt_number == nbb_cell_id) {\n",
       "                        if (nbb_cells[i].get_text() == nbb_unformatted_code) {\n",
       "                             nbb_cells[i].set_text(nbb_formatted_code);\n",
       "                        }\n",
       "                        break;\n",
       "                    }\n",
       "                }\n",
       "            }, 500);\n",
       "            "
      ],
      "text/plain": [
       "<IPython.core.display.Javascript object>"
      ]
     },
     "metadata": {},
     "output_type": "display_data"
    }
   ],
   "source": [
    "COLUMNS_TO_DROP = [\n",
    "    (\"Data\", \"Medida\"),\n",
    "    (\"Horário\", \"Produção\"),\n",
    "    (\"Horário\", \"Medida\"),\n",
    "    (\"Obs.\", \"Unnamed: 148_level_2\"),\n",
    "    (\"Tipo de cimento\", \"Unnamed: 6_level_2\"),\n",
    "    (\"Classe de resistência\", \"Unnamed: 7_level_2\"),\n",
    "    (\"Obs.\", \"Unnamed: 8_level_2\"),\n",
    "    \"Obs.\",\n",
    "    (\"Obs.\", \"Unnamed: 148_level_2\"),\n",
    "    (\"Unnamed: 141_level_1\", \"Obs.\"),\n",
    "    # (\"Unnamed: 139_level_1\", \"#400\"),\n",
    "]\n",
    "\n",
    "COLUMNS_TO_RENAME = {\n",
    "    (\"Unnamed: 0_level_0\", \"Unnamed: 0_level_1\", \"Unnamed: 0_level_2\"): \"Plant\",\n",
    "    (\"Cidade\", \"Unnamed: 1_level_2\"): \"City\",\n",
    "    (\"Data\", \"Produção\"): \"Date\",  # Arrumar!\n",
    "    (\"Unnamed: 136_level_1\", \"Blaine\"): \"Blaine\",\n",
    "    (\"Unnamed: 137_level_1\", \"#200\"): \"#200\",\n",
    "    (\"Unnamed: 138_level_1\", \"#325\"): \"#325\",\n",
    "    (\"Unnamed: 139_level_1\", \"#400\"): \"#400\",\n",
    "    (\"Unnamed: 140_level_1\", \"Massa específica\"): \"Specific Gravity\",\n",
    "    (\"Tempo de pega\", \"Inicio\"): \"Initial setting time\",\n",
    "    (\"Tempo de pega\", \"Fim\"): \"Final setting time\",\n",
    "    (\"Resistência à compressão\", \"1 d\"): \"CS1\",\n",
    "    (\"Resistência à compressão\", \"3 d\"): \"CS3\",\n",
    "    (\"Resistência à compressão\", \"7 d\"): \"CS7\",\n",
    "    (\"Resistência à compressão\", \"28 d\"): \"CS28\",\n",
    "    \"Perda ao fogo\": \"Loss on Ignition\",\n",
    "    \"Resíduo insolúvel\": \"Insoluble Residue\",\n",
    "}"
   ]
  },
  {
   "cell_type": "markdown",
   "id": "9bdcff5b",
   "metadata": {},
   "source": [
    "### Defining a single variable to identify Cement Type"
   ]
  },
  {
   "cell_type": "code",
   "execution_count": 14,
   "id": "92ed1dd2",
   "metadata": {},
   "outputs": [
    {
     "data": {
      "application/javascript": [
       "\n",
       "            setTimeout(function() {\n",
       "                var nbb_cell_id = 14;\n",
       "                var nbb_unformatted_code = \"# Single variable for the Cement Type\\ndf[\\\"Cement_Type\\\"] = (\\n    df[\\n        [\\n            (\\\"Tipo de cimento\\\", \\\"Unnamed: 6_level_2\\\"),\\n            (\\\"Classe de resist\\u00eancia\\\", \\\"Unnamed: 7_level_2\\\"),\\n            (\\\"Obs.\\\", \\\"Unnamed: 8_level_2\\\"),\\n        ]\\n    ]\\n    .fillna(\\\"\\\")\\n    .astype(str)\\n    .sum(axis=1)\\n)\\n\\n# Preprocessing\\ndf[\\\"Cement_Type\\\"] = (\\n    df[\\\"Cement_Type\\\"]\\n    .str.replace(\\\"Expedido\\\", \\\"\\\")\\n    .str.replace(\\\"Linha 9\\\", \\\"\\\")\\n    .str.replace(\\\"Itaja\\u00ed\\\", \\\"\\\")\\n    .str.replace(\\\"D-G\\\", \\\"\\\")\\n    .str.replace(\\\"D-E\\\", \\\"\\\")\\n    .str.replace(\\\"DF2\\\", \\\"\\\")\\n    .str.replace(\\\"CPIIF40\\\", \\\"CP II-F-40\\\")\\n    .str.replace(\\\"CPIIF40\\\", \\\"CP II-F40\\\")\\n    .str.replace(\\\"CP VARI\\\", \\\"CP V-ARI\\\")\\n    .str.replace(\\\"CPVARI\\\", \\\"CP V-ARI\\\")\\n    .str.replace(\\\"CP V-RSARI\\\", \\\"CP V-ARI RS\\\")\\n    .str.replace(\\\"CP III-RS40\\\", \\\"CP III-40 RS\\\")\\n    .str.replace(\\\"CP III-RS32\\\", \\\"CP III-32 RS\\\")\\n    .str.replace(\\\"CP IV-RS32\\\", \\\"CP IV-32 RS\\\")\\n    .str.replace(\\\"CP III40\\\", \\\"CP III-40\\\")\\n    .str.replace(\\\"CP III32\\\", \\\"CP III-32\\\")\\n    .str.replace(\\\"CP I-S40\\\", \\\"CP I-S-40\\\")\\n    .str.replace(\\\"CP I40\\\", \\\"CP I-40\\\")\\n    .str.replace(\\\"CP II-E32\\\", \\\"CP II-E-32\\\")\\n    .str.replace(\\\"CP II-E40\\\", \\\"CP II-E-40\\\")\\n    .str.replace(\\\"CP II-F FIBRO40\\\", \\\"CP II-F-40\\\")\\n    .str.replace(\\\"CP II-F32\\\", \\\"CP II-F-32\\\")\\n    .str.replace(\\\"CP II-F40\\\", \\\"CP II-F-40\\\")\\n    .str.replace(\\\"CP II-Z32\\\", \\\"CP II-Z-32\\\")\\n    .str.replace(\\\"CP II-Z40\\\", \\\"CP II-Z-40\\\")\\n    .str.replace(\\\"CP IV32\\\", \\\"CP IV-32\\\")\\n    .str.replace(\\\"CP IND\\\", \\\"CP I\\\")\\n    .str.replace(\\\"CPINDCC\\\", \\\"CP I\\\")\\n    .str.strip()\\n)\\n\\ndf = df.drop(COLUMNS_TO_DROP, axis=1).rename(COLUMNS_TO_RENAME, axis=1).copy()\\ndf = df.drop([0]).reset_index(drop=True)\\ndf = df.infer_objects()\";\n",
       "                var nbb_formatted_code = \"# Single variable for the Cement Type\\ndf[\\\"Cement_Type\\\"] = (\\n    df[\\n        [\\n            (\\\"Tipo de cimento\\\", \\\"Unnamed: 6_level_2\\\"),\\n            (\\\"Classe de resist\\u00eancia\\\", \\\"Unnamed: 7_level_2\\\"),\\n            (\\\"Obs.\\\", \\\"Unnamed: 8_level_2\\\"),\\n        ]\\n    ]\\n    .fillna(\\\"\\\")\\n    .astype(str)\\n    .sum(axis=1)\\n)\\n\\n# Preprocessing\\ndf[\\\"Cement_Type\\\"] = (\\n    df[\\\"Cement_Type\\\"]\\n    .str.replace(\\\"Expedido\\\", \\\"\\\")\\n    .str.replace(\\\"Linha 9\\\", \\\"\\\")\\n    .str.replace(\\\"Itaja\\u00ed\\\", \\\"\\\")\\n    .str.replace(\\\"D-G\\\", \\\"\\\")\\n    .str.replace(\\\"D-E\\\", \\\"\\\")\\n    .str.replace(\\\"DF2\\\", \\\"\\\")\\n    .str.replace(\\\"CPIIF40\\\", \\\"CP II-F-40\\\")\\n    .str.replace(\\\"CPIIF40\\\", \\\"CP II-F40\\\")\\n    .str.replace(\\\"CP VARI\\\", \\\"CP V-ARI\\\")\\n    .str.replace(\\\"CPVARI\\\", \\\"CP V-ARI\\\")\\n    .str.replace(\\\"CP V-RSARI\\\", \\\"CP V-ARI RS\\\")\\n    .str.replace(\\\"CP III-RS40\\\", \\\"CP III-40 RS\\\")\\n    .str.replace(\\\"CP III-RS32\\\", \\\"CP III-32 RS\\\")\\n    .str.replace(\\\"CP IV-RS32\\\", \\\"CP IV-32 RS\\\")\\n    .str.replace(\\\"CP III40\\\", \\\"CP III-40\\\")\\n    .str.replace(\\\"CP III32\\\", \\\"CP III-32\\\")\\n    .str.replace(\\\"CP I-S40\\\", \\\"CP I-S-40\\\")\\n    .str.replace(\\\"CP I40\\\", \\\"CP I-40\\\")\\n    .str.replace(\\\"CP II-E32\\\", \\\"CP II-E-32\\\")\\n    .str.replace(\\\"CP II-E40\\\", \\\"CP II-E-40\\\")\\n    .str.replace(\\\"CP II-F FIBRO40\\\", \\\"CP II-F-40\\\")\\n    .str.replace(\\\"CP II-F32\\\", \\\"CP II-F-32\\\")\\n    .str.replace(\\\"CP II-F40\\\", \\\"CP II-F-40\\\")\\n    .str.replace(\\\"CP II-Z32\\\", \\\"CP II-Z-32\\\")\\n    .str.replace(\\\"CP II-Z40\\\", \\\"CP II-Z-40\\\")\\n    .str.replace(\\\"CP IV32\\\", \\\"CP IV-32\\\")\\n    .str.replace(\\\"CP IND\\\", \\\"CP I\\\")\\n    .str.replace(\\\"CPINDCC\\\", \\\"CP I\\\")\\n    .str.strip()\\n)\\n\\ndf = df.drop(COLUMNS_TO_DROP, axis=1).rename(COLUMNS_TO_RENAME, axis=1).copy()\\ndf = df.drop([0]).reset_index(drop=True)\\ndf = df.infer_objects()\";\n",
       "                var nbb_cells = Jupyter.notebook.get_cells();\n",
       "                for (var i = 0; i < nbb_cells.length; ++i) {\n",
       "                    if (nbb_cells[i].input_prompt_number == nbb_cell_id) {\n",
       "                        if (nbb_cells[i].get_text() == nbb_unformatted_code) {\n",
       "                             nbb_cells[i].set_text(nbb_formatted_code);\n",
       "                        }\n",
       "                        break;\n",
       "                    }\n",
       "                }\n",
       "            }, 500);\n",
       "            "
      ],
      "text/plain": [
       "<IPython.core.display.Javascript object>"
      ]
     },
     "metadata": {},
     "output_type": "display_data"
    }
   ],
   "source": [
    "# Single variable for the Cement Type\n",
    "df[\"Cement_Type\"] = (\n",
    "    df[\n",
    "        [\n",
    "            (\"Tipo de cimento\", \"Unnamed: 6_level_2\"),\n",
    "            (\"Classe de resistência\", \"Unnamed: 7_level_2\"),\n",
    "            (\"Obs.\", \"Unnamed: 8_level_2\"),\n",
    "        ]\n",
    "    ]\n",
    "    .fillna(\"\")\n",
    "    .astype(str)\n",
    "    .sum(axis=1)\n",
    ")\n",
    "\n",
    "# Preprocessing\n",
    "df[\"Cement_Type\"] = (\n",
    "    df[\"Cement_Type\"]\n",
    "    .str.replace(\"Expedido\", \"\")\n",
    "    .str.replace(\"Linha 9\", \"\")\n",
    "    .str.replace(\"Itajaí\", \"\")\n",
    "    .str.replace(\"D-G\", \"\")\n",
    "    .str.replace(\"D-E\", \"\")\n",
    "    .str.replace(\"DF2\", \"\")\n",
    "    .str.replace(\"CPIIF40\", \"CP II-F-40\")\n",
    "    .str.replace(\"CPIIF40\", \"CP II-F40\")\n",
    "    .str.replace(\"CP VARI\", \"CP V-ARI\")\n",
    "    .str.replace(\"CPVARI\", \"CP V-ARI\")\n",
    "    .str.replace(\"CP V-RSARI\", \"CP V-ARI RS\")\n",
    "    .str.replace(\"CP III-RS40\", \"CP III-40 RS\")\n",
    "    .str.replace(\"CP III-RS32\", \"CP III-32 RS\")\n",
    "    .str.replace(\"CP IV-RS32\", \"CP IV-32 RS\")\n",
    "    .str.replace(\"CP III40\", \"CP III-40\")\n",
    "    .str.replace(\"CP III32\", \"CP III-32\")\n",
    "    .str.replace(\"CP I-S40\", \"CP I-S-40\")\n",
    "    .str.replace(\"CP I40\", \"CP I-40\")\n",
    "    .str.replace(\"CP II-E32\", \"CP II-E-32\")\n",
    "    .str.replace(\"CP II-E40\", \"CP II-E-40\")\n",
    "    .str.replace(\"CP II-F FIBRO40\", \"CP II-F-40\")\n",
    "    .str.replace(\"CP II-F32\", \"CP II-F-32\")\n",
    "    .str.replace(\"CP II-F40\", \"CP II-F-40\")\n",
    "    .str.replace(\"CP II-Z32\", \"CP II-Z-32\")\n",
    "    .str.replace(\"CP II-Z40\", \"CP II-Z-40\")\n",
    "    .str.replace(\"CP IV32\", \"CP IV-32\")\n",
    "    .str.replace(\"CP IND\", \"CP I\")\n",
    "    .str.replace(\"CPINDCC\", \"CP I\")\n",
    "    .str.strip()\n",
    ")\n",
    "\n",
    "df = df.drop(COLUMNS_TO_DROP, axis=1).rename(COLUMNS_TO_RENAME, axis=1).copy()\n",
    "df = df.drop([0]).reset_index(drop=True)\n",
    "df = df.infer_objects()"
   ]
  },
  {
   "cell_type": "markdown",
   "id": "2a390ebe",
   "metadata": {},
   "source": [
    "### Dropping and rename the columns defined above"
   ]
  },
  {
   "cell_type": "markdown",
   "id": "6a4c9913",
   "metadata": {},
   "source": [
    "### Cleaning and converting numeric columns to float"
   ]
  },
  {
   "cell_type": "code",
   "execution_count": 15,
   "id": "20719532",
   "metadata": {
    "scrolled": false
   },
   "outputs": [
    {
     "name": "stdout",
     "output_type": "stream",
     "text": [
      "could not convert string to float: ' '\n",
      "could not convert string to float: ' '\n",
      "could not convert string to float: ' '\n",
      "could not convert string to float: ' '\n",
      "could not convert string to float: ' '\n",
      "could not convert string to float: ' '\n",
      "could not convert string to float: ' '\n",
      "could not convert string to float: ' '\n",
      "could not convert string to float: ' '\n",
      "could not convert string to float: ' '\n",
      "could not convert string to float: ' '\n",
      "could not convert string to float: ' '\n",
      "could not convert string to float: ' '\n",
      "could not convert string to float: ' '\n",
      "could not convert string to float: ' '\n",
      "could not convert string to float: ' '\n",
      "could not convert string to float: ' '\n",
      "could not convert string to float: ' '\n",
      "could not convert string to float: ' '\n",
      "could not convert string to float: ' '\n",
      "could not convert string to float: ' '\n",
      "could not convert string to float: ' '\n",
      "could not convert string to float: ' '\n",
      "could not convert string to float: ' '\n",
      "could not convert string to float: ' '\n",
      "could not convert string to float: ' '\n",
      "could not convert string to float: ' '\n",
      "could not convert string to float: ' '\n",
      "could not convert string to float: ' '\n",
      "could not convert string to float: ' '\n",
      "could not convert string to float: ' '\n",
      "could not convert string to float: ' '\n",
      "could not convert string to float: ' '\n",
      "could not convert string to float: ' '\n",
      "could not convert string to float: ' '\n",
      "could not convert string to float: ' '\n",
      "could not convert string to float: ' '\n",
      "could not convert string to float: ' '\n",
      "could not convert string to float: ' '\n",
      "could not convert string to float: ' '\n",
      "could not convert string to float: ' '\n",
      "could not convert string to float: ' '\n",
      "could not convert string to float: ' '\n",
      "could not convert string to float: ' '\n",
      "could not convert string to float: ' '\n",
      "could not convert string to float: ' '\n",
      "could not convert string to float: ' '\n",
      "could not convert string to float: ' '\n",
      "could not convert string to float: ' '\n",
      "could not convert string to float: ' '\n",
      "could not convert string to float: ' '\n",
      "could not convert string to float: ' '\n",
      "could not convert string to float: ' '\n",
      "could not convert string to float: ' '\n",
      "could not convert string to float: ' '\n",
      "could not convert string to float: ' '\n",
      "could not convert string to float: ' '\n",
      "could not convert string to float: ' '\n",
      "could not convert string to float: ' '\n",
      "could not convert string to float: ' '\n",
      "could not convert string to float: ' '\n",
      "could not convert string to float: ' '\n",
      "could not convert string to float: ' '\n",
      "could not convert string to float: ' '\n",
      "could not convert string to float: ' '\n",
      "could not convert string to float: ' '\n",
      "could not convert string to float: ' '\n",
      "could not convert string to float: ' '\n",
      "could not convert string to float: ' '\n",
      "could not convert string to float: ' '\n",
      "could not convert string to float: ' '\n",
      "could not convert string to float: ' '\n",
      "could not convert string to float: ' '\n",
      "could not convert string to float: ' '\n",
      "could not convert string to float: ' '\n",
      "could not convert string to float: ' '\n",
      "could not convert string to float: ' '\n",
      "could not convert string to float: ' '\n",
      "could not convert string to float: ' '\n",
      "could not convert string to float: ' '\n",
      "could not convert string to float: ' '\n",
      "could not convert string to float: ' '\n",
      "could not convert string to float: ' '\n",
      "could not convert string to float: ' '\n",
      "could not convert string to float: ' '\n",
      "could not convert string to float: ' '\n",
      "could not convert string to float: ' '\n",
      "could not convert string to float: ' '\n",
      "could not convert string to float: ' '\n",
      "could not convert string to float: ' '\n",
      "could not convert string to float: ' '\n",
      "could not convert string to float: ' '\n",
      "could not convert string to float: ' '\n",
      "could not convert string to float: ' '\n",
      "could not convert string to float: ' '\n",
      "could not convert string to float: ' '\n",
      "could not convert string to float: ' '\n",
      "could not convert string to float: ' '\n",
      "could not convert string to float: ' '\n",
      "could not convert string to float: ' '\n",
      "could not convert string to float: ' '\n",
      "could not convert string to float: ' '\n",
      "could not convert string to float: ' '\n",
      "could not convert string to float: ' '\n",
      "could not convert string to float: ' '\n",
      "could not convert string to float: ' '\n",
      "could not convert string to float: ' '\n",
      "could not convert string to float: ' '\n",
      "could not convert string to float: ' '\n",
      "could not convert string to float: ' '\n",
      "could not convert string to float: ' '\n",
      "could not convert string to float: ' '\n",
      "could not convert string to float: ' '\n",
      "could not convert string to float: ' '\n",
      "could not convert string to float: ' '\n",
      "could not convert string to float: ' '\n",
      "could not convert string to float: ' '\n",
      "could not convert string to float: ' '\n",
      "could not convert string to float: ' '\n",
      "could not convert string to float: ' '\n",
      "could not convert string to float: ' '\n",
      "could not convert string to float: ' '\n",
      "could not convert string to float: ' '\n",
      "could not convert string to float: ' '\n",
      "could not convert string to float: ' '\n",
      "could not convert string to float: ' '\n",
      "could not convert string to float: ' '\n",
      "could not convert string to float: ' '\n",
      "could not convert string to float: ' '\n",
      "could not convert string to float: ' '\n",
      "could not convert string to float: ' '\n",
      "could not convert string to float: ' '\n",
      "could not convert string to float: ' '\n",
      "could not convert string to float: ' '\n",
      "could not convert string to float: ' '\n",
      "could not convert string to float: ' '\n",
      "could not convert string to float: ' '\n",
      "could not convert string to float: ' '\n",
      "could not convert string to float: ' '\n",
      "could not convert string to float: ' '\n",
      "could not convert string to float: ' '\n",
      "could not convert string to float: ' '\n",
      "could not convert string to float: ' '\n",
      "could not convert string to float: ' '\n",
      "could not convert string to float: ' '\n",
      "could not convert string to float: ' '\n",
      "could not convert string to float: ' '\n",
      "could not convert string to float: ' '\n",
      "could not convert string to float: ' '\n",
      "could not convert string to float: ' '\n",
      "could not convert string to float: ' '\n",
      "could not convert string to float: ' '\n",
      "could not convert string to float: ' '\n",
      "could not convert string to float: ' '\n",
      "could not convert string to float: ' '\n",
      "could not convert string to float: ' '\n",
      "could not convert string to float: ' '\n",
      "could not convert string to float: ' '\n",
      "could not convert string to float: ' '\n",
      "could not convert string to float: ' '\n",
      "could not convert string to float: ' '\n",
      "could not convert string to float: ' '\n",
      "could not convert string to float: ' '\n",
      "could not convert string to float: ' '\n",
      "could not convert string to float: ' '\n",
      "could not convert string to float: ' '\n",
      "could not convert string to float: ' '\n",
      "could not convert string to float: ' '\n",
      "could not convert string to float: ' '\n",
      "could not convert string to float: ' '\n",
      "could not convert string to float: ' '\n",
      "could not convert string to float: ' '\n",
      "could not convert string to float: ' '\n",
      "could not convert string to float: ' '\n",
      "could not convert string to float: ' '\n",
      "could not convert string to float: ' '\n",
      "could not convert string to float: ' '\n",
      "could not convert string to float: ' '\n",
      "could not convert string to float: ' '\n",
      "could not convert string to float: ' '\n",
      "could not convert string to float: ' '\n",
      "could not convert string to float: ' '\n",
      "could not convert string to float: ' '\n",
      "could not convert string to float: ' '\n",
      "could not convert string to float: ' '\n",
      "could not convert string to float: ' '\n",
      "could not convert string to float: ' '\n",
      "could not convert string to float: ' '\n",
      "could not convert string to float: ' '\n",
      "could not convert string to float: ' '\n",
      "could not convert string to float: ' '\n",
      "could not convert string to float: ' '\n",
      "could not convert string to float: ' '\n",
      "could not convert string to float: ' '\n",
      "could not convert string to float: ' '\n",
      "could not convert string to float: ' '\n",
      "could not convert string to float: ' '\n",
      "could not convert string to float: ' '\n",
      "could not convert string to float: ' '\n",
      "could not convert string to float: ' '\n",
      "could not convert string to float: ' '\n",
      "could not convert string to float: ' '\n",
      "could not convert string to float: ' '\n",
      "could not convert string to float: ' '\n",
      "could not convert string to float: ' '\n",
      "could not convert string to float: ' '\n",
      "could not convert string to float: ' '\n",
      "could not convert string to float: ' '\n",
      "could not convert string to float: ' '\n",
      "could not convert string to float: ' '\n",
      "could not convert string to float: ' '\n",
      "could not convert string to float: ' '\n",
      "could not convert string to float: ' '\n",
      "could not convert string to float: ' '\n",
      "could not convert string to float: ' '\n",
      "could not convert string to float: ' '\n",
      "could not convert string to float: ' '\n",
      "could not convert string to float: ' '\n",
      "could not convert string to float: ' '\n",
      "could not convert string to float: ' '\n",
      "could not convert string to float: ' '\n",
      "could not convert string to float: ' '\n",
      "could not convert string to float: ' '\n",
      "could not convert string to float: ' '\n",
      "could not convert string to float: ' '\n",
      "could not convert string to float: ' '\n",
      "could not convert string to float: ' '\n",
      "could not convert string to float: ' '\n",
      "could not convert string to float: ' '\n",
      "could not convert string to float: ' '\n",
      "could not convert string to float: ' '\n",
      "could not convert string to float: ' '\n",
      "could not convert string to float: ' '\n",
      "could not convert string to float: ' '\n",
      "could not convert string to float: ' '\n",
      "could not convert string to float: ' '\n",
      "could not convert string to float: ' '\n",
      "could not convert string to float: ' '\n",
      "could not convert string to float: ' '\n",
      "could not convert string to float: ' '\n",
      "could not convert string to float: ' '\n",
      "could not convert string to float: ' '\n",
      "could not convert string to float: ' '\n",
      "could not convert string to float: ' '\n",
      "could not convert string to float: ' '\n",
      "could not convert string to float: ' '\n",
      "could not convert string to float: ' '\n",
      "could not convert string to float: ' '\n",
      "could not convert string to float: ' '\n",
      "could not convert string to float: ' '\n",
      "could not convert string to float: ' '\n",
      "could not convert string to float: ' '\n",
      "could not convert string to float: ' '\n",
      "could not convert string to float: ' '\n",
      "could not convert string to float: ' '\n",
      "could not convert string to float: ' '\n",
      "could not convert string to float: ' '\n",
      "could not convert string to float: ' '\n",
      "could not convert string to float: ' '\n",
      "could not convert string to float: ' '\n",
      "could not convert string to float: ' '\n",
      "could not convert string to float: ' '\n",
      "could not convert string to float: ' '\n",
      "could not convert string to float: ' '\n",
      "could not convert string to float: ' '\n",
      "could not convert string to float: ' '\n",
      "could not convert string to float: ' '\n",
      "could not convert string to float: ' '\n",
      "could not convert string to float: ' '\n",
      "could not convert string to float: ' '\n",
      "could not convert string to float: ' '\n",
      "could not convert string to float: ' '\n",
      "could not convert string to float: ' '\n",
      "could not convert string to float: ' '\n",
      "could not convert string to float: ' '\n",
      "could not convert string to float: ' '\n",
      "could not convert string to float: ' '\n",
      "could not convert string to float: ' '\n",
      "could not convert string to float: ' '\n",
      "could not convert string to float: ' '\n",
      "could not convert string to float: ' '\n",
      "could not convert string to float: ' '\n",
      "could not convert string to float: ' '\n",
      "could not convert string to float: ' '\n",
      "could not convert string to float: ' '\n",
      "could not convert string to float: ' '\n",
      "could not convert string to float: ' '\n",
      "could not convert string to float: ' '\n",
      "could not convert string to float: ' '\n",
      "could not convert string to float: ' '\n",
      "could not convert string to float: ' '\n",
      "could not convert string to float: ' '\n",
      "could not convert string to float: ' '\n",
      "could not convert string to float: ' '\n",
      "could not convert string to float: ' '\n",
      "could not convert string to float: ' '\n",
      "could not convert string to float: ' '\n",
      "could not convert string to float: ' '\n",
      "could not convert string to float: ' '\n",
      "could not convert string to float: ' '\n",
      "could not convert string to float: ' '\n",
      "could not convert string to float: ' '\n",
      "could not convert string to float: ' '\n",
      "could not convert string to float: ' '\n",
      "could not convert string to float: ' '\n",
      "could not convert string to float: ' '\n",
      "could not convert string to float: ' '\n",
      "could not convert string to float: ' '\n",
      "could not convert string to float: ' '\n",
      "could not convert string to float: ' '\n",
      "could not convert string to float: ' '\n",
      "could not convert string to float: ' '\n",
      "could not convert string to float: ' '\n",
      "could not convert string to float: ' '\n",
      "could not convert string to float: ' '\n",
      "could not convert string to float: ' '\n",
      "could not convert string to float: ' '\n",
      "could not convert string to float: ' '\n",
      "could not convert string to float: ' '\n",
      "could not convert string to float: ' '\n",
      "could not convert string to float: ' '\n",
      "could not convert string to float: ' '\n",
      "could not convert string to float: ' '\n",
      "could not convert string to float: ' '\n",
      "could not convert string to float: ' '\n",
      "could not convert string to float: ' '\n",
      "could not convert string to float: ' '\n",
      "could not convert string to float: ' '\n",
      "could not convert string to float: ' '\n",
      "could not convert string to float: ' '\n",
      "could not convert string to float: ' '\n",
      "could not convert string to float: ' '\n",
      "could not convert string to float: ' '\n",
      "could not convert string to float: ' '\n",
      "could not convert string to float: ' '\n",
      "could not convert string to float: ' '\n",
      "could not convert string to float: ' '\n",
      "could not convert string to float: ' '\n",
      "could not convert string to float: ' '\n",
      "could not convert string to float: ' '\n",
      "could not convert string to float: ' '\n",
      "could not convert string to float: ' '\n",
      "could not convert string to float: ' '\n",
      "could not convert string to float: ' '\n",
      "could not convert string to float: ' '\n",
      "could not convert string to float: ' '\n",
      "could not convert string to float: ' '\n",
      "could not convert string to float: ' '\n",
      "could not convert string to float: ' '\n",
      "could not convert string to float: ' '\n",
      "could not convert string to float: ' '\n",
      "could not convert string to float: ' '\n",
      "could not convert string to float: ' '\n",
      "could not convert string to float: ' '\n",
      "could not convert string to float: ' '\n",
      "could not convert string to float: ' '\n",
      "could not convert string to float: ' '\n",
      "could not convert string to float: ' '\n",
      "could not convert string to float: ' '\n",
      "could not convert string to float: ' '\n",
      "could not convert string to float: ' '\n",
      "could not convert string to float: ' '\n",
      "could not convert string to float: ' '\n",
      "could not convert string to float: ' '\n",
      "could not convert string to float: ' '\n",
      "could not convert string to float: ' '\n",
      "could not convert string to float: ' '\n",
      "could not convert string to float: ' '\n",
      "could not convert string to float: ' '\n",
      "could not convert string to float: ' '\n",
      "could not convert string to float: ' '\n",
      "could not convert string to float: ' '\n",
      "could not convert string to float: ' '\n",
      "could not convert string to float: ' '\n",
      "could not convert string to float: ' '\n",
      "could not convert string to float: ' '\n",
      "could not convert string to float: ' '\n",
      "could not convert string to float: ' '\n",
      "could not convert string to float: ' '\n",
      "could not convert string to float: ' '\n",
      "could not convert string to float: ' '\n",
      "could not convert string to float: ' '\n",
      "could not convert string to float: ' '\n",
      "could not convert string to float: ' '\n",
      "could not convert string to float: ' '\n",
      "could not convert string to float: ' '\n",
      "could not convert string to float: ' '\n",
      "could not convert string to float: ' '\n",
      "could not convert string to float: ' '\n",
      "could not convert string to float: ' '\n",
      "could not convert string to float: ' '\n",
      "could not convert string to float: ' '\n",
      "could not convert string to float: ' '\n",
      "could not convert string to float: ' '\n",
      "could not convert string to float: ' '\n",
      "could not convert string to float: ' '\n",
      "could not convert string to float: ' '\n",
      "could not convert string to float: ' '\n",
      "could not convert string to float: ' '\n",
      "could not convert string to float: ' '\n",
      "could not convert string to float: ' '\n",
      "could not convert string to float: ' '\n",
      "could not convert string to float: ' '\n",
      "could not convert string to float: ' '\n",
      "could not convert string to float: ' '\n",
      "could not convert string to float: ' '\n",
      "could not convert string to float: ' '\n",
      "could not convert string to float: ' '\n",
      "could not convert string to float: ' '\n",
      "could not convert string to float: ' '\n",
      "could not convert string to float: ' '\n",
      "could not convert string to float: ' '\n",
      "could not convert string to float: ' '\n",
      "could not convert string to float: ' '\n",
      "could not convert string to float: ' '\n",
      "could not convert string to float: ' '\n",
      "could not convert string to float: ' '\n",
      "could not convert string to float: ' '\n",
      "could not convert string to float: ' '\n",
      "could not convert string to float: ' '\n",
      "could not convert string to float: ' '\n",
      "could not convert string to float: ' '\n",
      "could not convert string to float: ' '\n",
      "could not convert string to float: ' '\n",
      "could not convert string to float: ' '\n",
      "could not convert string to float: ' '\n",
      "could not convert string to float: ' '\n",
      "could not convert string to float: ' '\n",
      "could not convert string to float: ' '\n",
      "could not convert string to float: ' '\n",
      "could not convert string to float: ' '\n",
      "could not convert string to float: ' '\n",
      "could not convert string to float: ' '\n",
      "could not convert string to float: ' '\n",
      "could not convert string to float: ' '\n",
      "could not convert string to float: ' '\n",
      "could not convert string to float: ' '\n",
      "could not convert string to float: ' '\n",
      "could not convert string to float: ' '\n",
      "could not convert string to float: ' '\n",
      "could not convert string to float: ' '\n",
      "could not convert string to float: ' '\n",
      "could not convert string to float: ' '\n",
      "could not convert string to float: ' '\n",
      "could not convert string to float: ' '\n",
      "could not convert string to float: ' '\n",
      "could not convert string to float: ' '\n",
      "could not convert string to float: ' '\n",
      "could not convert string to float: ' '\n",
      "could not convert string to float: ' '\n",
      "could not convert string to float: ' '\n",
      "could not convert string to float: ' '\n",
      "could not convert string to float: ' '\n",
      "could not convert string to float: ' '\n",
      "could not convert string to float: ' '\n",
      "could not convert string to float: ' '\n",
      "could not convert string to float: ' '\n",
      "could not convert string to float: ' '\n",
      "could not convert string to float: ' '\n",
      "could not convert string to float: ' '\n",
      "could not convert string to float: ' '\n",
      "could not convert string to float: ' '\n",
      "could not convert string to float: ' '\n",
      "could not convert string to float: ' '\n",
      "could not convert string to float: ' '\n",
      "could not convert string to float: ' '\n",
      "could not convert string to float: ' '\n",
      "could not convert string to float: ' '\n",
      "could not convert string to float: ' '\n",
      "could not convert string to float: ' '\n",
      "could not convert string to float: ' '\n",
      "could not convert string to float: ' '\n",
      "could not convert string to float: ' '\n",
      "could not convert string to float: ' '\n",
      "could not convert string to float: ' '\n",
      "could not convert string to float: ' '\n",
      "could not convert string to float: ' '\n",
      "could not convert string to float: ' '\n",
      "could not convert string to float: ' '\n",
      "could not convert string to float: ' '\n",
      "could not convert string to float: ' '\n",
      "could not convert string to float: ' '\n",
      "could not convert string to float: ' '\n",
      "could not convert string to float: ' '\n",
      "could not convert string to float: ' '\n",
      "could not convert string to float: ' '\n",
      "could not convert string to float: ' '\n",
      "could not convert string to float: ' '\n",
      "could not convert string to float: ' '\n",
      "could not convert string to float: ' '\n",
      "could not convert string to float: ' '\n",
      "could not convert string to float: ' '\n",
      "could not convert string to float: ' '\n",
      "could not convert string to float: ' '\n",
      "could not convert string to float: ' '\n",
      "could not convert string to float: ' '\n",
      "could not convert string to float: ' '\n",
      "could not convert string to float: ' '\n",
      "could not convert string to float: ' '\n",
      "could not convert string to float: ' '\n",
      "could not convert string to float: ' '\n",
      "could not convert string to float: ' '\n",
      "could not convert string to float: ' '\n",
      "could not convert string to float: ' '\n",
      "could not convert string to float: ' '\n",
      "could not convert string to float: ' '\n",
      "could not convert string to float: ' '\n",
      "could not convert string to float: ' '\n",
      "could not convert string to float: ' '\n",
      "could not convert string to float: ' '\n",
      "could not convert string to float: ' '\n",
      "could not convert string to float: ' '\n",
      "could not convert string to float: ' '\n",
      "could not convert string to float: ' '\n",
      "could not convert string to float: ' '\n",
      "could not convert string to float: ' '\n",
      "could not convert string to float: ' '\n",
      "could not convert string to float: ' '\n",
      "could not convert string to float: ' '\n",
      "could not convert string to float: ' '\n",
      "could not convert string to float: ' '\n",
      "could not convert string to float: ' '\n",
      "could not convert string to float: ' '\n",
      "could not convert string to float: ' '\n",
      "could not convert string to float: ' '\n",
      "could not convert string to float: ' '\n",
      "could not convert string to float: ' '\n",
      "could not convert string to float: ' '\n",
      "could not convert string to float: ' '\n",
      "could not convert string to float: ' '\n",
      "could not convert string to float: ' '\n",
      "could not convert string to float: ' '\n",
      "could not convert string to float: ' '\n",
      "could not convert string to float: ' '\n",
      "could not convert string to float: ' '\n",
      "could not convert string to float: ' '\n",
      "could not convert string to float: ' '\n",
      "could not convert string to float: ' '\n",
      "could not convert string to float: ' '\n",
      "could not convert string to float: ' '\n",
      "could not convert string to float: ' '\n",
      "could not convert string to float: ' '\n",
      "could not convert string to float: ' '\n",
      "could not convert string to float: ' '\n",
      "could not convert string to float: ' '\n",
      "could not convert string to float: ' '\n",
      "could not convert string to float: ' '\n",
      "could not convert string to float: ' '\n",
      "could not convert string to float: ' '\n",
      "could not convert string to float: ' '\n",
      "could not convert string to float: ' '\n",
      "could not convert string to float: ' '\n",
      "could not convert string to float: ' '\n",
      "could not convert string to float: ' '\n",
      "could not convert string to float: ' '\n",
      "could not convert string to float: ' '\n",
      "could not convert string to float: ' '\n",
      "could not convert string to float: ' '\n",
      "could not convert string to float: ' '\n",
      "could not convert string to float: ' '\n",
      "could not convert string to float: ' '\n",
      "could not convert string to float: ' '\n",
      "could not convert string to float: ' '\n",
      "could not convert string to float: ' '\n",
      "could not convert string to float: ' '\n",
      "could not convert string to float: ' '\n",
      "could not convert string to float: ' '\n",
      "could not convert string to float: ' '\n",
      "could not convert string to float: ' '\n",
      "could not convert string to float: ' '\n",
      "could not convert string to float: ' '\n",
      "could not convert string to float: ' '\n",
      "could not convert string to float: ' '\n",
      "could not convert string to float: ' '\n",
      "could not convert string to float: ' '\n",
      "could not convert string to float: ' '\n",
      "could not convert string to float: ' '\n",
      "could not convert string to float: ' '\n",
      "could not convert string to float: ' '\n",
      "could not convert string to float: ' '\n",
      "could not convert string to float: ' '\n",
      "could not convert string to float: ' '\n",
      "could not convert string to float: ' '\n",
      "could not convert string to float: ' '\n",
      "could not convert string to float: ' '\n",
      "could not convert string to float: ' '\n",
      "could not convert string to float: ' '\n",
      "could not convert string to float: ' '\n",
      "could not convert string to float: ' '\n",
      "could not convert string to float: ' '\n",
      "could not convert string to float: ' '\n",
      "could not convert string to float: ' '\n",
      "could not convert string to float: ' '\n",
      "could not convert string to float: ' '\n",
      "could not convert string to float: ' '\n",
      "could not convert string to float: ' '\n",
      "could not convert string to float: ' '\n",
      "could not convert string to float: ' '\n",
      "could not convert string to float: ' '\n",
      "could not convert string to float: ' '\n",
      "could not convert string to float: ' '\n",
      "could not convert string to float: ' '\n",
      "could not convert string to float: ' '\n",
      "could not convert string to float: ' '\n",
      "could not convert string to float: ' '\n",
      "could not convert string to float: ' '\n",
      "could not convert string to float: ' '\n",
      "could not convert string to float: ' '\n",
      "could not convert string to float: ' '\n",
      "could not convert string to float: ' '\n",
      "could not convert string to float: ' '\n",
      "could not convert string to float: ' '\n",
      "could not convert string to float: ' '\n",
      "could not convert string to float: ' '\n",
      "could not convert string to float: ' '\n",
      "could not convert string to float: ' '\n",
      "could not convert string to float: ' '\n",
      "could not convert string to float: ' '\n",
      "could not convert string to float: ' '\n",
      "could not convert string to float: ' '\n"
     ]
    },
    {
     "data": {
      "application/javascript": [
       "\n",
       "            setTimeout(function() {\n",
       "                var nbb_cell_id = 15;\n",
       "                var nbb_unformatted_code = \"NUMERIC_COLUMNS = [\\n    \\\"CaO\\\",\\n    \\\"MgO\\\",\\n    \\\"Na2O\\\",\\n    \\\"Al2O3\\\",\\n    \\\"SiO2\\\",\\n    \\\"SO3\\\",\\n    \\\"K2O\\\",\\n    \\\"TiO2\\\",\\n    \\\"Fe2O3\\\",\\n    \\\"Loss on Ignition\\\",\\n    \\\"Insoluble Residue\\\",\\n    \\\"Blaine\\\",\\n    \\\"#200\\\",\\n    \\\"#325\\\",\\n    \\\"#400\\\",\\n    \\\"Specific Gravity\\\",\\n    \\\"Final setting time\\\",\\n    \\\"Initial setting time\\\",\\n    \\\"CS1\\\",\\n    \\\"CS3\\\",\\n    \\\"CS7\\\",\\n    \\\"CS28\\\",\\n]\\n\\ndf = preprocess_numeric_cols(df, NUMERIC_COLUMNS)\\n\\n# Preprocessing to fix numeric columns\\ndf[NUMERIC_COLUMNS] = df[NUMERIC_COLUMNS].map(convert_to_float)\\n\\n# Converting Date to pandas datetime\\ndf[\\\"Date\\\"] = pd.to_datetime(df[\\\"Date\\\"])\\n\\n# Drop rows completely missing\\nindex_to_keep = (\\n    df.drop([\\\"Plant\\\", \\\"Date\\\", \\\"Cement_Type\\\"], axis=1).dropna(axis=0, how=\\\"all\\\").index\\n)\\ndf = df.iloc[index_to_keep].reset_index(drop=True)\\n\\ndf = df.infer_objects()\";\n",
       "                var nbb_formatted_code = \"NUMERIC_COLUMNS = [\\n    \\\"CaO\\\",\\n    \\\"MgO\\\",\\n    \\\"Na2O\\\",\\n    \\\"Al2O3\\\",\\n    \\\"SiO2\\\",\\n    \\\"SO3\\\",\\n    \\\"K2O\\\",\\n    \\\"TiO2\\\",\\n    \\\"Fe2O3\\\",\\n    \\\"Loss on Ignition\\\",\\n    \\\"Insoluble Residue\\\",\\n    \\\"Blaine\\\",\\n    \\\"#200\\\",\\n    \\\"#325\\\",\\n    \\\"#400\\\",\\n    \\\"Specific Gravity\\\",\\n    \\\"Final setting time\\\",\\n    \\\"Initial setting time\\\",\\n    \\\"CS1\\\",\\n    \\\"CS3\\\",\\n    \\\"CS7\\\",\\n    \\\"CS28\\\",\\n]\\n\\ndf = preprocess_numeric_cols(df, NUMERIC_COLUMNS)\\n\\n# Preprocessing to fix numeric columns\\ndf[NUMERIC_COLUMNS] = df[NUMERIC_COLUMNS].map(convert_to_float)\\n\\n# Converting Date to pandas datetime\\ndf[\\\"Date\\\"] = pd.to_datetime(df[\\\"Date\\\"])\\n\\n# Drop rows completely missing\\nindex_to_keep = (\\n    df.drop([\\\"Plant\\\", \\\"Date\\\", \\\"Cement_Type\\\"], axis=1).dropna(axis=0, how=\\\"all\\\").index\\n)\\ndf = df.iloc[index_to_keep].reset_index(drop=True)\\n\\ndf = df.infer_objects()\";\n",
       "                var nbb_cells = Jupyter.notebook.get_cells();\n",
       "                for (var i = 0; i < nbb_cells.length; ++i) {\n",
       "                    if (nbb_cells[i].input_prompt_number == nbb_cell_id) {\n",
       "                        if (nbb_cells[i].get_text() == nbb_unformatted_code) {\n",
       "                             nbb_cells[i].set_text(nbb_formatted_code);\n",
       "                        }\n",
       "                        break;\n",
       "                    }\n",
       "                }\n",
       "            }, 500);\n",
       "            "
      ],
      "text/plain": [
       "<IPython.core.display.Javascript object>"
      ]
     },
     "metadata": {},
     "output_type": "display_data"
    }
   ],
   "source": [
    "NUMERIC_COLUMNS = [\n",
    "    \"CaO\",\n",
    "    \"MgO\",\n",
    "    \"Na2O\",\n",
    "    \"Al2O3\",\n",
    "    \"SiO2\",\n",
    "    \"SO3\",\n",
    "    \"K2O\",\n",
    "    \"TiO2\",\n",
    "    \"Fe2O3\",\n",
    "    \"Loss on Ignition\",\n",
    "    \"Insoluble Residue\",\n",
    "    \"Blaine\",\n",
    "    \"#200\",\n",
    "    \"#325\",\n",
    "    \"#400\",\n",
    "    \"Specific Gravity\",\n",
    "    \"Final setting time\",\n",
    "    \"Initial setting time\",\n",
    "    \"CS1\",\n",
    "    \"CS3\",\n",
    "    \"CS7\",\n",
    "    \"CS28\",\n",
    "]\n",
    "\n",
    "df = preprocess_numeric_cols(df, NUMERIC_COLUMNS)\n",
    "\n",
    "# Preprocessing to fix numeric columns\n",
    "df[NUMERIC_COLUMNS] = df[NUMERIC_COLUMNS].map(convert_to_float)\n",
    "\n",
    "# Converting Date to pandas datetime\n",
    "df[\"Date\"] = pd.to_datetime(df[\"Date\"])\n",
    "\n",
    "# Drop rows completely missing\n",
    "index_to_keep = (\n",
    "    df.drop([\"Plant\", \"Date\", \"Cement_Type\"], axis=1).dropna(axis=0, how=\"all\").index\n",
    ")\n",
    "df = df.iloc[index_to_keep].reset_index(drop=True)\n",
    "\n",
    "df = df.infer_objects()"
   ]
  },
  {
   "cell_type": "markdown",
   "id": "0e4773d2",
   "metadata": {},
   "source": [
    "## Dropping missing features"
   ]
  },
  {
   "cell_type": "markdown",
   "id": "388dd4e1",
   "metadata": {},
   "source": [
    "### Drop rows completely missing"
   ]
  },
  {
   "cell_type": "code",
   "execution_count": 16,
   "id": "14fd3e2b",
   "metadata": {},
   "outputs": [
    {
     "data": {
      "application/javascript": [
       "\n",
       "            setTimeout(function() {\n",
       "                var nbb_cell_id = 16;\n",
       "                var nbb_unformatted_code = \"index_to_keep = (\\n    df.drop([\\\"Plant\\\", \\\"City\\\", \\\"Date\\\", \\\"Cement_Type\\\"], axis=1)\\n    .dropna(axis=0, how=\\\"all\\\")\\n    .index\\n)\\ndf = df.iloc[index_to_keep].reset_index(drop=True)\";\n",
       "                var nbb_formatted_code = \"index_to_keep = (\\n    df.drop([\\\"Plant\\\", \\\"City\\\", \\\"Date\\\", \\\"Cement_Type\\\"], axis=1)\\n    .dropna(axis=0, how=\\\"all\\\")\\n    .index\\n)\\ndf = df.iloc[index_to_keep].reset_index(drop=True)\";\n",
       "                var nbb_cells = Jupyter.notebook.get_cells();\n",
       "                for (var i = 0; i < nbb_cells.length; ++i) {\n",
       "                    if (nbb_cells[i].input_prompt_number == nbb_cell_id) {\n",
       "                        if (nbb_cells[i].get_text() == nbb_unformatted_code) {\n",
       "                             nbb_cells[i].set_text(nbb_formatted_code);\n",
       "                        }\n",
       "                        break;\n",
       "                    }\n",
       "                }\n",
       "            }, 500);\n",
       "            "
      ],
      "text/plain": [
       "<IPython.core.display.Javascript object>"
      ]
     },
     "metadata": {},
     "output_type": "display_data"
    }
   ],
   "source": [
    "index_to_keep = (\n",
    "    df.drop([\"Plant\", \"City\", \"Date\", \"Cement_Type\"], axis=1)\n",
    "    .dropna(axis=0, how=\"all\")\n",
    "    .index\n",
    ")\n",
    "df = df.iloc[index_to_keep].reset_index(drop=True)"
   ]
  },
  {
   "cell_type": "markdown",
   "id": "5d4e47da",
   "metadata": {},
   "source": [
    "### Removing features\n",
    " that will be fitted on this data.\n",
    "\n",
    "1. Removing features with features having ~50% or more of missing values\n",
    "2. Removing features with zero variance\n",
    "3. Removing features with more than 70% of zeros"
   ]
  },
  {
   "cell_type": "code",
   "execution_count": 17,
   "id": "2a377c14",
   "metadata": {},
   "outputs": [
    {
     "data": {
      "text/html": [
       "<style type=\"text/css\">\n",
       "#T_903a6_row0_col0, #T_903a6_row1_col0, #T_903a6_row2_col0 {\n",
       "  background-color: #67000d;\n",
       "  color: #f1f1f1;\n",
       "}\n",
       "#T_903a6_row3_col0 {\n",
       "  background-color: #ca181d;\n",
       "  color: #f1f1f1;\n",
       "}\n",
       "#T_903a6_row4_col0 {\n",
       "  background-color: #e02c26;\n",
       "  color: #f1f1f1;\n",
       "}\n",
       "#T_903a6_row5_col0 {\n",
       "  background-color: #fff1ea;\n",
       "  color: #000000;\n",
       "}\n",
       "#T_903a6_row6_col0 {\n",
       "  background-color: #fff4ef;\n",
       "  color: #000000;\n",
       "}\n",
       "#T_903a6_row7_col0, #T_903a6_row8_col0, #T_903a6_row9_col0, #T_903a6_row10_col0, #T_903a6_row11_col0, #T_903a6_row12_col0, #T_903a6_row13_col0, #T_903a6_row14_col0, #T_903a6_row15_col0, #T_903a6_row16_col0, #T_903a6_row17_col0, #T_903a6_row18_col0, #T_903a6_row19_col0, #T_903a6_row20_col0, #T_903a6_row21_col0, #T_903a6_row22_col0, #T_903a6_row23_col0, #T_903a6_row24_col0, #T_903a6_row25_col0 {\n",
       "  background-color: #fff5f0;\n",
       "  color: #000000;\n",
       "}\n",
       "</style>\n",
       "<table id=\"T_903a6\">\n",
       "  <thead>\n",
       "    <tr>\n",
       "      <th class=\"blank level0\" >&nbsp;</th>\n",
       "      <th id=\"T_903a6_level0_col0\" class=\"col_heading level0 col0\" >Missing (%)</th>\n",
       "    </tr>\n",
       "  </thead>\n",
       "  <tbody>\n",
       "    <tr>\n",
       "      <th id=\"T_903a6_level0_row0\" class=\"row_heading level0 row0\" >Specific Gravity</th>\n",
       "      <td id=\"T_903a6_row0_col0\" class=\"data row0 col0\" >100.000000</td>\n",
       "    </tr>\n",
       "    <tr>\n",
       "      <th id=\"T_903a6_level0_row1\" class=\"row_heading level0 row1\" >TiO2</th>\n",
       "      <td id=\"T_903a6_row1_col0\" class=\"data row1 col0\" >100.000000</td>\n",
       "    </tr>\n",
       "    <tr>\n",
       "      <th id=\"T_903a6_level0_row2\" class=\"row_heading level0 row2\" >CS1</th>\n",
       "      <td id=\"T_903a6_row2_col0\" class=\"data row2 col0\" >100.000000</td>\n",
       "    </tr>\n",
       "    <tr>\n",
       "      <th id=\"T_903a6_level0_row3\" class=\"row_heading level0 row3\" >#400</th>\n",
       "      <td id=\"T_903a6_row3_col0\" class=\"data row3 col0\" >75.246225</td>\n",
       "    </tr>\n",
       "    <tr>\n",
       "      <th id=\"T_903a6_level0_row4\" class=\"row_heading level0 row4\" >#325</th>\n",
       "      <td id=\"T_903a6_row4_col0\" class=\"data row4 col0\" >67.760998</td>\n",
       "    </tr>\n",
       "    <tr>\n",
       "      <th id=\"T_903a6_level0_row5\" class=\"row_heading level0 row5\" >CS28</th>\n",
       "      <td id=\"T_903a6_row5_col0\" class=\"data row5 col0\" >2.560735</td>\n",
       "    </tr>\n",
       "    <tr>\n",
       "      <th id=\"T_903a6_level0_row6\" class=\"row_heading level0 row6\" >CS7</th>\n",
       "      <td id=\"T_903a6_row6_col0\" class=\"data row6 col0\" >0.393959</td>\n",
       "    </tr>\n",
       "    <tr>\n",
       "      <th id=\"T_903a6_level0_row7\" class=\"row_heading level0 row7\" >MgO</th>\n",
       "      <td id=\"T_903a6_row7_col0\" class=\"data row7 col0\" >0.131320</td>\n",
       "    </tr>\n",
       "    <tr>\n",
       "      <th id=\"T_903a6_level0_row8\" class=\"row_heading level0 row8\" >Loss on Ignition</th>\n",
       "      <td id=\"T_903a6_row8_col0\" class=\"data row8 col0\" >0.065660</td>\n",
       "    </tr>\n",
       "    <tr>\n",
       "      <th id=\"T_903a6_level0_row9\" class=\"row_heading level0 row9\" >Fe2O3</th>\n",
       "      <td id=\"T_903a6_row9_col0\" class=\"data row9 col0\" >0.065660</td>\n",
       "    </tr>\n",
       "    <tr>\n",
       "      <th id=\"T_903a6_level0_row10\" class=\"row_heading level0 row10\" >Insoluble Residue</th>\n",
       "      <td id=\"T_903a6_row10_col0\" class=\"data row10 col0\" >0.065660</td>\n",
       "    </tr>\n",
       "    <tr>\n",
       "      <th id=\"T_903a6_level0_row11\" class=\"row_heading level0 row11\" >SO3</th>\n",
       "      <td id=\"T_903a6_row11_col0\" class=\"data row11 col0\" >0.065660</td>\n",
       "    </tr>\n",
       "    <tr>\n",
       "      <th id=\"T_903a6_level0_row12\" class=\"row_heading level0 row12\" >SiO2</th>\n",
       "      <td id=\"T_903a6_row12_col0\" class=\"data row12 col0\" >0.065660</td>\n",
       "    </tr>\n",
       "    <tr>\n",
       "      <th id=\"T_903a6_level0_row13\" class=\"row_heading level0 row13\" >Al2O3</th>\n",
       "      <td id=\"T_903a6_row13_col0\" class=\"data row13 col0\" >0.065660</td>\n",
       "    </tr>\n",
       "    <tr>\n",
       "      <th id=\"T_903a6_level0_row14\" class=\"row_heading level0 row14\" >Na2O</th>\n",
       "      <td id=\"T_903a6_row14_col0\" class=\"data row14 col0\" >0.065660</td>\n",
       "    </tr>\n",
       "    <tr>\n",
       "      <th id=\"T_903a6_level0_row15\" class=\"row_heading level0 row15\" >CaO</th>\n",
       "      <td id=\"T_903a6_row15_col0\" class=\"data row15 col0\" >0.065660</td>\n",
       "    </tr>\n",
       "    <tr>\n",
       "      <th id=\"T_903a6_level0_row16\" class=\"row_heading level0 row16\" >K2O</th>\n",
       "      <td id=\"T_903a6_row16_col0\" class=\"data row16 col0\" >0.065660</td>\n",
       "    </tr>\n",
       "    <tr>\n",
       "      <th id=\"T_903a6_level0_row17\" class=\"row_heading level0 row17\" >Final setting time</th>\n",
       "      <td id=\"T_903a6_row17_col0\" class=\"data row17 col0\" >0.000000</td>\n",
       "    </tr>\n",
       "    <tr>\n",
       "      <th id=\"T_903a6_level0_row18\" class=\"row_heading level0 row18\" >CS3</th>\n",
       "      <td id=\"T_903a6_row18_col0\" class=\"data row18 col0\" >0.000000</td>\n",
       "    </tr>\n",
       "    <tr>\n",
       "      <th id=\"T_903a6_level0_row19\" class=\"row_heading level0 row19\" >Plant</th>\n",
       "      <td id=\"T_903a6_row19_col0\" class=\"data row19 col0\" >0.000000</td>\n",
       "    </tr>\n",
       "    <tr>\n",
       "      <th id=\"T_903a6_level0_row20\" class=\"row_heading level0 row20\" >Initial setting time</th>\n",
       "      <td id=\"T_903a6_row20_col0\" class=\"data row20 col0\" >0.000000</td>\n",
       "    </tr>\n",
       "    <tr>\n",
       "      <th id=\"T_903a6_level0_row21\" class=\"row_heading level0 row21\" >#200</th>\n",
       "      <td id=\"T_903a6_row21_col0\" class=\"data row21 col0\" >0.000000</td>\n",
       "    </tr>\n",
       "    <tr>\n",
       "      <th id=\"T_903a6_level0_row22\" class=\"row_heading level0 row22\" >Blaine</th>\n",
       "      <td id=\"T_903a6_row22_col0\" class=\"data row22 col0\" >0.000000</td>\n",
       "    </tr>\n",
       "    <tr>\n",
       "      <th id=\"T_903a6_level0_row23\" class=\"row_heading level0 row23\" >City</th>\n",
       "      <td id=\"T_903a6_row23_col0\" class=\"data row23 col0\" >0.000000</td>\n",
       "    </tr>\n",
       "    <tr>\n",
       "      <th id=\"T_903a6_level0_row24\" class=\"row_heading level0 row24\" >Date</th>\n",
       "      <td id=\"T_903a6_row24_col0\" class=\"data row24 col0\" >0.000000</td>\n",
       "    </tr>\n",
       "    <tr>\n",
       "      <th id=\"T_903a6_level0_row25\" class=\"row_heading level0 row25\" >Cement_Type</th>\n",
       "      <td id=\"T_903a6_row25_col0\" class=\"data row25 col0\" >0.000000</td>\n",
       "    </tr>\n",
       "  </tbody>\n",
       "</table>\n"
      ],
      "text/plain": [
       "<pandas.io.formats.style.Styler at 0x7f7e928ab9d0>"
      ]
     },
     "execution_count": 17,
     "metadata": {},
     "output_type": "execute_result"
    },
    {
     "data": {
      "application/javascript": [
       "\n",
       "            setTimeout(function() {\n",
       "                var nbb_cell_id = 17;\n",
       "                var nbb_unformatted_code = \"(df.isna().sum() / df.shape[0] * 100).sort_values(ascending=False).to_frame(\\n    name=\\\"Missing (%)\\\"\\n).style.background_gradient(cmap=\\\"Reds\\\")\";\n",
       "                var nbb_formatted_code = \"(df.isna().sum() / df.shape[0] * 100).sort_values(ascending=False).to_frame(\\n    name=\\\"Missing (%)\\\"\\n).style.background_gradient(cmap=\\\"Reds\\\")\";\n",
       "                var nbb_cells = Jupyter.notebook.get_cells();\n",
       "                for (var i = 0; i < nbb_cells.length; ++i) {\n",
       "                    if (nbb_cells[i].input_prompt_number == nbb_cell_id) {\n",
       "                        if (nbb_cells[i].get_text() == nbb_unformatted_code) {\n",
       "                             nbb_cells[i].set_text(nbb_formatted_code);\n",
       "                        }\n",
       "                        break;\n",
       "                    }\n",
       "                }\n",
       "            }, 500);\n",
       "            "
      ],
      "text/plain": [
       "<IPython.core.display.Javascript object>"
      ]
     },
     "metadata": {},
     "output_type": "display_data"
    }
   ],
   "source": [
    "(df.isna().sum() / df.shape[0] * 100).sort_values(ascending=False).to_frame(\n",
    "    name=\"Missing (%)\"\n",
    ").style.background_gradient(cmap=\"Reds\")"
   ]
  },
  {
   "cell_type": "markdown",
   "id": "7e8fd8fa",
   "metadata": {},
   "source": [
    "<h3>Percentage of missing values:</h3>\n",
    "<table>\n",
    "    <th>Plant A - Full Dataset:</th>\n",
    "    <th></th>\n",
    "    <tr>\n",
    "        <td>Specific Gravity</td>\n",
    "        <td>100.00</td>\n",
    "    </tr>\n",
    "    <tr>\n",
    "        <td>CS1</td>\n",
    "        <td>100.00</td>\n",
    "    </tr>\n",
    "    <tr>\n",
    "        <td>TiO2</td>\n",
    "        <td>100.00</td>\n",
    "    </tr>      \n",
    "    <tr>\n",
    "        <td>#400</td>\n",
    "        <td>75.25</td>\n",
    "    </tr>\n",
    "    <tr>\n",
    "        <td>#325</td>\n",
    "        <td>67.76</td>\n",
    "    </tr>            \n",
    "</table>"
   ]
  },
  {
   "cell_type": "code",
   "execution_count": 18,
   "id": "b781ce23",
   "metadata": {},
   "outputs": [
    {
     "data": {
      "application/javascript": [
       "\n",
       "            setTimeout(function() {\n",
       "                var nbb_cell_id = 18;\n",
       "                var nbb_unformatted_code = \"FEATRUES_TO_DROP = [\\\"Specific Gravity\\\", \\\"CS1\\\", \\\"TiO2\\\", \\\"#400\\\", \\\"#325\\\"]\\ndf = df.drop(labels=FEATRUES_TO_DROP, axis=1)\";\n",
       "                var nbb_formatted_code = \"FEATRUES_TO_DROP = [\\\"Specific Gravity\\\", \\\"CS1\\\", \\\"TiO2\\\", \\\"#400\\\", \\\"#325\\\"]\\ndf = df.drop(labels=FEATRUES_TO_DROP, axis=1)\";\n",
       "                var nbb_cells = Jupyter.notebook.get_cells();\n",
       "                for (var i = 0; i < nbb_cells.length; ++i) {\n",
       "                    if (nbb_cells[i].input_prompt_number == nbb_cell_id) {\n",
       "                        if (nbb_cells[i].get_text() == nbb_unformatted_code) {\n",
       "                             nbb_cells[i].set_text(nbb_formatted_code);\n",
       "                        }\n",
       "                        break;\n",
       "                    }\n",
       "                }\n",
       "            }, 500);\n",
       "            "
      ],
      "text/plain": [
       "<IPython.core.display.Javascript object>"
      ]
     },
     "metadata": {},
     "output_type": "display_data"
    }
   ],
   "source": [
    "FEATRUES_TO_DROP = [\"Specific Gravity\", \"CS1\", \"TiO2\", \"#400\", \"#325\"]\n",
    "df = df.drop(labels=FEATRUES_TO_DROP, axis=1)"
   ]
  },
  {
   "cell_type": "markdown",
   "id": "082fd941",
   "metadata": {},
   "source": [
    "### Removing features with many zeros when applicable"
   ]
  },
  {
   "cell_type": "code",
   "execution_count": 19,
   "id": "9a08a31f",
   "metadata": {},
   "outputs": [
    {
     "data": {
      "text/html": [
       "<style type=\"text/css\">\n",
       "#T_6ab15_row0_col0 {\n",
       "  background-color: #67000d;\n",
       "  color: #f1f1f1;\n",
       "}\n",
       "#T_6ab15_row1_col0 {\n",
       "  background-color: #fee7db;\n",
       "  color: #000000;\n",
       "}\n",
       "#T_6ab15_row2_col0, #T_6ab15_row3_col0, #T_6ab15_row4_col0, #T_6ab15_row5_col0, #T_6ab15_row6_col0, #T_6ab15_row7_col0, #T_6ab15_row8_col0, #T_6ab15_row9_col0, #T_6ab15_row10_col0, #T_6ab15_row11_col0, #T_6ab15_row12_col0, #T_6ab15_row13_col0, #T_6ab15_row14_col0, #T_6ab15_row15_col0, #T_6ab15_row16_col0 {\n",
       "  background-color: #fff5f0;\n",
       "  color: #000000;\n",
       "}\n",
       "</style>\n",
       "<table id=\"T_6ab15\">\n",
       "  <thead>\n",
       "    <tr>\n",
       "      <th class=\"blank level0\" >&nbsp;</th>\n",
       "      <th id=\"T_6ab15_level0_col0\" class=\"col_heading level0 col0\" >Zero (%) for L</th>\n",
       "    </tr>\n",
       "  </thead>\n",
       "  <tbody>\n",
       "    <tr>\n",
       "      <th id=\"T_6ab15_level0_row0\" class=\"row_heading level0 row0\" >#200</th>\n",
       "      <td id=\"T_6ab15_row0_col0\" class=\"data row0 col0\" >52.265266</td>\n",
       "    </tr>\n",
       "    <tr>\n",
       "      <th id=\"T_6ab15_level0_row1\" class=\"row_heading level0 row1\" >Na2O</th>\n",
       "      <td id=\"T_6ab15_row1_col0\" class=\"data row1 col0\" >4.596192</td>\n",
       "    </tr>\n",
       "    <tr>\n",
       "      <th id=\"T_6ab15_level0_row2\" class=\"row_heading level0 row2\" >CaO</th>\n",
       "      <td id=\"T_6ab15_row2_col0\" class=\"data row2 col0\" >0.000000</td>\n",
       "    </tr>\n",
       "    <tr>\n",
       "      <th id=\"T_6ab15_level0_row3\" class=\"row_heading level0 row3\" >Insoluble Residue</th>\n",
       "      <td id=\"T_6ab15_row3_col0\" class=\"data row3 col0\" >0.000000</td>\n",
       "    </tr>\n",
       "    <tr>\n",
       "      <th id=\"T_6ab15_level0_row4\" class=\"row_heading level0 row4\" >CS7</th>\n",
       "      <td id=\"T_6ab15_row4_col0\" class=\"data row4 col0\" >0.000000</td>\n",
       "    </tr>\n",
       "    <tr>\n",
       "      <th id=\"T_6ab15_level0_row5\" class=\"row_heading level0 row5\" >CS3</th>\n",
       "      <td id=\"T_6ab15_row5_col0\" class=\"data row5 col0\" >0.000000</td>\n",
       "    </tr>\n",
       "    <tr>\n",
       "      <th id=\"T_6ab15_level0_row6\" class=\"row_heading level0 row6\" >Final setting time</th>\n",
       "      <td id=\"T_6ab15_row6_col0\" class=\"data row6 col0\" >0.000000</td>\n",
       "    </tr>\n",
       "    <tr>\n",
       "      <th id=\"T_6ab15_level0_row7\" class=\"row_heading level0 row7\" >Initial setting time</th>\n",
       "      <td id=\"T_6ab15_row7_col0\" class=\"data row7 col0\" >0.000000</td>\n",
       "    </tr>\n",
       "    <tr>\n",
       "      <th id=\"T_6ab15_level0_row8\" class=\"row_heading level0 row8\" >Blaine</th>\n",
       "      <td id=\"T_6ab15_row8_col0\" class=\"data row8 col0\" >0.000000</td>\n",
       "    </tr>\n",
       "    <tr>\n",
       "      <th id=\"T_6ab15_level0_row9\" class=\"row_heading level0 row9\" >Loss on Ignition</th>\n",
       "      <td id=\"T_6ab15_row9_col0\" class=\"data row9 col0\" >0.000000</td>\n",
       "    </tr>\n",
       "    <tr>\n",
       "      <th id=\"T_6ab15_level0_row10\" class=\"row_heading level0 row10\" >MgO</th>\n",
       "      <td id=\"T_6ab15_row10_col0\" class=\"data row10 col0\" >0.000000</td>\n",
       "    </tr>\n",
       "    <tr>\n",
       "      <th id=\"T_6ab15_level0_row11\" class=\"row_heading level0 row11\" >Fe2O3</th>\n",
       "      <td id=\"T_6ab15_row11_col0\" class=\"data row11 col0\" >0.000000</td>\n",
       "    </tr>\n",
       "    <tr>\n",
       "      <th id=\"T_6ab15_level0_row12\" class=\"row_heading level0 row12\" >K2O</th>\n",
       "      <td id=\"T_6ab15_row12_col0\" class=\"data row12 col0\" >0.000000</td>\n",
       "    </tr>\n",
       "    <tr>\n",
       "      <th id=\"T_6ab15_level0_row13\" class=\"row_heading level0 row13\" >SO3</th>\n",
       "      <td id=\"T_6ab15_row13_col0\" class=\"data row13 col0\" >0.000000</td>\n",
       "    </tr>\n",
       "    <tr>\n",
       "      <th id=\"T_6ab15_level0_row14\" class=\"row_heading level0 row14\" >SiO2</th>\n",
       "      <td id=\"T_6ab15_row14_col0\" class=\"data row14 col0\" >0.000000</td>\n",
       "    </tr>\n",
       "    <tr>\n",
       "      <th id=\"T_6ab15_level0_row15\" class=\"row_heading level0 row15\" >Al2O3</th>\n",
       "      <td id=\"T_6ab15_row15_col0\" class=\"data row15 col0\" >0.000000</td>\n",
       "    </tr>\n",
       "    <tr>\n",
       "      <th id=\"T_6ab15_level0_row16\" class=\"row_heading level0 row16\" >CS28</th>\n",
       "      <td id=\"T_6ab15_row16_col0\" class=\"data row16 col0\" >0.000000</td>\n",
       "    </tr>\n",
       "  </tbody>\n",
       "</table>\n"
      ],
      "text/plain": [
       "<pandas.io.formats.style.Styler at 0x7f7e929439d0>"
      ]
     },
     "execution_count": 19,
     "metadata": {},
     "output_type": "execute_result"
    },
    {
     "data": {
      "application/javascript": [
       "\n",
       "            setTimeout(function() {\n",
       "                var nbb_cell_id = 19;\n",
       "                var nbb_unformatted_code = \"zero_values = {}\\nfor col in df.select_dtypes(include=\\\"number\\\").columns:\\n    zero_percentages = (df[df[col].eq(0)].shape[0] / df.shape[0]) * 100\\n    zero_values[col] = zero_percentages\\n\\nzero_percentages = pd.Series(zero_values, name=f\\\"Zero (%) for {plant}\\\")\\nzero_percentages = zero_percentages.sort_values(ascending=False)\\nzero_percentages = zero_percentages.to_frame(name=f\\\"Zero (%) for {plant}\\\")\\nzero_percentages.style.background_gradient(cmap=\\\"Reds\\\")\";\n",
       "                var nbb_formatted_code = \"zero_values = {}\\nfor col in df.select_dtypes(include=\\\"number\\\").columns:\\n    zero_percentages = (df[df[col].eq(0)].shape[0] / df.shape[0]) * 100\\n    zero_values[col] = zero_percentages\\n\\nzero_percentages = pd.Series(zero_values, name=f\\\"Zero (%) for {plant}\\\")\\nzero_percentages = zero_percentages.sort_values(ascending=False)\\nzero_percentages = zero_percentages.to_frame(name=f\\\"Zero (%) for {plant}\\\")\\nzero_percentages.style.background_gradient(cmap=\\\"Reds\\\")\";\n",
       "                var nbb_cells = Jupyter.notebook.get_cells();\n",
       "                for (var i = 0; i < nbb_cells.length; ++i) {\n",
       "                    if (nbb_cells[i].input_prompt_number == nbb_cell_id) {\n",
       "                        if (nbb_cells[i].get_text() == nbb_unformatted_code) {\n",
       "                             nbb_cells[i].set_text(nbb_formatted_code);\n",
       "                        }\n",
       "                        break;\n",
       "                    }\n",
       "                }\n",
       "            }, 500);\n",
       "            "
      ],
      "text/plain": [
       "<IPython.core.display.Javascript object>"
      ]
     },
     "metadata": {},
     "output_type": "display_data"
    }
   ],
   "source": [
    "zero_values = {}\n",
    "for col in df.select_dtypes(include=\"number\").columns:\n",
    "    zero_percentages = (df[df[col].eq(0)].shape[0] / df.shape[0]) * 100\n",
    "    zero_values[col] = zero_percentages\n",
    "\n",
    "zero_percentages = pd.Series(zero_values, name=f\"Zero (%) for {plant}\")\n",
    "zero_percentages = zero_percentages.sort_values(ascending=False)\n",
    "zero_percentages = zero_percentages.to_frame(name=f\"Zero (%) for {plant}\")\n",
    "zero_percentages.style.background_gradient(cmap=\"Reds\")"
   ]
  },
  {
   "cell_type": "markdown",
   "id": "3e0c39f2",
   "metadata": {},
   "source": [
    "### Dropping variable with many zeros"
   ]
  },
  {
   "cell_type": "code",
   "execution_count": 20,
   "id": "165070d0",
   "metadata": {},
   "outputs": [
    {
     "data": {
      "application/javascript": [
       "\n",
       "            setTimeout(function() {\n",
       "                var nbb_cell_id = 20;\n",
       "                var nbb_unformatted_code = \"FEATRUES_TO_DROP = [\\\"#200\\\"]\\ndf = df.drop(labels=FEATRUES_TO_DROP, axis=1)\";\n",
       "                var nbb_formatted_code = \"FEATRUES_TO_DROP = [\\\"#200\\\"]\\ndf = df.drop(labels=FEATRUES_TO_DROP, axis=1)\";\n",
       "                var nbb_cells = Jupyter.notebook.get_cells();\n",
       "                for (var i = 0; i < nbb_cells.length; ++i) {\n",
       "                    if (nbb_cells[i].input_prompt_number == nbb_cell_id) {\n",
       "                        if (nbb_cells[i].get_text() == nbb_unformatted_code) {\n",
       "                             nbb_cells[i].set_text(nbb_formatted_code);\n",
       "                        }\n",
       "                        break;\n",
       "                    }\n",
       "                }\n",
       "            }, 500);\n",
       "            "
      ],
      "text/plain": [
       "<IPython.core.display.Javascript object>"
      ]
     },
     "metadata": {},
     "output_type": "display_data"
    }
   ],
   "source": [
    "FEATRUES_TO_DROP = [\"#200\"]\n",
    "df = df.drop(labels=FEATRUES_TO_DROP, axis=1)"
   ]
  },
  {
   "cell_type": "markdown",
   "id": "1b0087d0",
   "metadata": {},
   "source": [
    "### Dropping variable with City and Plant identification"
   ]
  },
  {
   "cell_type": "code",
   "execution_count": 21,
   "id": "2dd18010",
   "metadata": {},
   "outputs": [
    {
     "data": {
      "application/javascript": [
       "\n",
       "            setTimeout(function() {\n",
       "                var nbb_cell_id = 21;\n",
       "                var nbb_unformatted_code = \"FEATRUES_TO_DROP = [\\\"City\\\", \\\"Plant\\\"]\\ndf = df.drop(labels=FEATRUES_TO_DROP, axis=1)\";\n",
       "                var nbb_formatted_code = \"FEATRUES_TO_DROP = [\\\"City\\\", \\\"Plant\\\"]\\ndf = df.drop(labels=FEATRUES_TO_DROP, axis=1)\";\n",
       "                var nbb_cells = Jupyter.notebook.get_cells();\n",
       "                for (var i = 0; i < nbb_cells.length; ++i) {\n",
       "                    if (nbb_cells[i].input_prompt_number == nbb_cell_id) {\n",
       "                        if (nbb_cells[i].get_text() == nbb_unformatted_code) {\n",
       "                             nbb_cells[i].set_text(nbb_formatted_code);\n",
       "                        }\n",
       "                        break;\n",
       "                    }\n",
       "                }\n",
       "            }, 500);\n",
       "            "
      ],
      "text/plain": [
       "<IPython.core.display.Javascript object>"
      ]
     },
     "metadata": {},
     "output_type": "display_data"
    }
   ],
   "source": [
    "FEATRUES_TO_DROP = [\"City\", \"Plant\"]\n",
    "df = df.drop(labels=FEATRUES_TO_DROP, axis=1)"
   ]
  },
  {
   "cell_type": "markdown",
   "id": "77150ffd",
   "metadata": {},
   "source": [
    "### Dropping rows where the target variable is null"
   ]
  },
  {
   "cell_type": "code",
   "execution_count": 22,
   "id": "6ac90829",
   "metadata": {},
   "outputs": [
    {
     "data": {
      "application/javascript": [
       "\n",
       "            setTimeout(function() {\n",
       "                var nbb_cell_id = 22;\n",
       "                var nbb_unformatted_code = \"df = df[df[\\\"CS28\\\"].notna()]\";\n",
       "                var nbb_formatted_code = \"df = df[df[\\\"CS28\\\"].notna()]\";\n",
       "                var nbb_cells = Jupyter.notebook.get_cells();\n",
       "                for (var i = 0; i < nbb_cells.length; ++i) {\n",
       "                    if (nbb_cells[i].input_prompt_number == nbb_cell_id) {\n",
       "                        if (nbb_cells[i].get_text() == nbb_unformatted_code) {\n",
       "                             nbb_cells[i].set_text(nbb_formatted_code);\n",
       "                        }\n",
       "                        break;\n",
       "                    }\n",
       "                }\n",
       "            }, 500);\n",
       "            "
      ],
      "text/plain": [
       "<IPython.core.display.Javascript object>"
      ]
     },
     "metadata": {},
     "output_type": "display_data"
    }
   ],
   "source": [
    "df = df[df[\"CS28\"].notna()]"
   ]
  },
  {
   "cell_type": "markdown",
   "id": "0a8e3c5b",
   "metadata": {},
   "source": [
    "### Dropping rows where the target variable is zero"
   ]
  },
  {
   "cell_type": "code",
   "execution_count": 23,
   "id": "bef56e14",
   "metadata": {},
   "outputs": [
    {
     "data": {
      "application/javascript": [
       "\n",
       "            setTimeout(function() {\n",
       "                var nbb_cell_id = 23;\n",
       "                var nbb_unformatted_code = \"df = df[~df[\\\"CS28\\\"].eq(0)]\";\n",
       "                var nbb_formatted_code = \"df = df[~df[\\\"CS28\\\"].eq(0)]\";\n",
       "                var nbb_cells = Jupyter.notebook.get_cells();\n",
       "                for (var i = 0; i < nbb_cells.length; ++i) {\n",
       "                    if (nbb_cells[i].input_prompt_number == nbb_cell_id) {\n",
       "                        if (nbb_cells[i].get_text() == nbb_unformatted_code) {\n",
       "                             nbb_cells[i].set_text(nbb_formatted_code);\n",
       "                        }\n",
       "                        break;\n",
       "                    }\n",
       "                }\n",
       "            }, 500);\n",
       "            "
      ],
      "text/plain": [
       "<IPython.core.display.Javascript object>"
      ]
     },
     "metadata": {},
     "output_type": "display_data"
    }
   ],
   "source": [
    "df = df[~df[\"CS28\"].eq(0)]"
   ]
  },
  {
   "cell_type": "code",
   "execution_count": 24,
   "id": "6c305a61",
   "metadata": {},
   "outputs": [
    {
     "data": {
      "text/plain": [
       "(1484, 18)"
      ]
     },
     "execution_count": 24,
     "metadata": {},
     "output_type": "execute_result"
    },
    {
     "data": {
      "application/javascript": [
       "\n",
       "            setTimeout(function() {\n",
       "                var nbb_cell_id = 24;\n",
       "                var nbb_unformatted_code = \"df.shape\";\n",
       "                var nbb_formatted_code = \"df.shape\";\n",
       "                var nbb_cells = Jupyter.notebook.get_cells();\n",
       "                for (var i = 0; i < nbb_cells.length; ++i) {\n",
       "                    if (nbb_cells[i].input_prompt_number == nbb_cell_id) {\n",
       "                        if (nbb_cells[i].get_text() == nbb_unformatted_code) {\n",
       "                             nbb_cells[i].set_text(nbb_formatted_code);\n",
       "                        }\n",
       "                        break;\n",
       "                    }\n",
       "                }\n",
       "            }, 500);\n",
       "            "
      ],
      "text/plain": [
       "<IPython.core.display.Javascript object>"
      ]
     },
     "metadata": {},
     "output_type": "display_data"
    }
   ],
   "source": [
    "df.shape"
   ]
  },
  {
   "cell_type": "code",
   "execution_count": 25,
   "id": "bab136d8",
   "metadata": {},
   "outputs": [
    {
     "data": {
      "application/javascript": [
       "\n",
       "            setTimeout(function() {\n",
       "                var nbb_cell_id = 25;\n",
       "                var nbb_unformatted_code = \"# df.describe().T\";\n",
       "                var nbb_formatted_code = \"# df.describe().T\";\n",
       "                var nbb_cells = Jupyter.notebook.get_cells();\n",
       "                for (var i = 0; i < nbb_cells.length; ++i) {\n",
       "                    if (nbb_cells[i].input_prompt_number == nbb_cell_id) {\n",
       "                        if (nbb_cells[i].get_text() == nbb_unformatted_code) {\n",
       "                             nbb_cells[i].set_text(nbb_formatted_code);\n",
       "                        }\n",
       "                        break;\n",
       "                    }\n",
       "                }\n",
       "            }, 500);\n",
       "            "
      ],
      "text/plain": [
       "<IPython.core.display.Javascript object>"
      ]
     },
     "metadata": {},
     "output_type": "display_data"
    }
   ],
   "source": [
    "# df.describe().T"
   ]
  },
  {
   "cell_type": "code",
   "execution_count": 26,
   "id": "16597882",
   "metadata": {},
   "outputs": [
    {
     "data": {
      "application/javascript": [
       "\n",
       "            setTimeout(function() {\n",
       "                var nbb_cell_id = 26;\n",
       "                var nbb_unformatted_code = \"# df_copy = df.copy()\";\n",
       "                var nbb_formatted_code = \"# df_copy = df.copy()\";\n",
       "                var nbb_cells = Jupyter.notebook.get_cells();\n",
       "                for (var i = 0; i < nbb_cells.length; ++i) {\n",
       "                    if (nbb_cells[i].input_prompt_number == nbb_cell_id) {\n",
       "                        if (nbb_cells[i].get_text() == nbb_unformatted_code) {\n",
       "                             nbb_cells[i].set_text(nbb_formatted_code);\n",
       "                        }\n",
       "                        break;\n",
       "                    }\n",
       "                }\n",
       "            }, 500);\n",
       "            "
      ],
      "text/plain": [
       "<IPython.core.display.Javascript object>"
      ]
     },
     "metadata": {},
     "output_type": "display_data"
    }
   ],
   "source": [
    "# df_copy = df.copy()"
   ]
  },
  {
   "cell_type": "markdown",
   "id": "b1bb693c",
   "metadata": {},
   "source": [
    "### Dropping rows where any other variable has a zero value"
   ]
  },
  {
   "cell_type": "code",
   "execution_count": 27,
   "id": "0f69dd4f",
   "metadata": {},
   "outputs": [
    {
     "data": {
      "application/javascript": [
       "\n",
       "            setTimeout(function() {\n",
       "                var nbb_cell_id = 27;\n",
       "                var nbb_unformatted_code = \"for col in df.columns:\\n    df = df[~df[col].eq(0)]\";\n",
       "                var nbb_formatted_code = \"for col in df.columns:\\n    df = df[~df[col].eq(0)]\";\n",
       "                var nbb_cells = Jupyter.notebook.get_cells();\n",
       "                for (var i = 0; i < nbb_cells.length; ++i) {\n",
       "                    if (nbb_cells[i].input_prompt_number == nbb_cell_id) {\n",
       "                        if (nbb_cells[i].get_text() == nbb_unformatted_code) {\n",
       "                             nbb_cells[i].set_text(nbb_formatted_code);\n",
       "                        }\n",
       "                        break;\n",
       "                    }\n",
       "                }\n",
       "            }, 500);\n",
       "            "
      ],
      "text/plain": [
       "<IPython.core.display.Javascript object>"
      ]
     },
     "metadata": {},
     "output_type": "display_data"
    }
   ],
   "source": [
    "for col in df.columns:\n",
    "    df = df[~df[col].eq(0)]"
   ]
  },
  {
   "cell_type": "code",
   "execution_count": 28,
   "id": "2b9a9d3c",
   "metadata": {},
   "outputs": [
    {
     "data": {
      "text/plain": [
       "(1414, 18)"
      ]
     },
     "execution_count": 28,
     "metadata": {},
     "output_type": "execute_result"
    },
    {
     "data": {
      "application/javascript": [
       "\n",
       "            setTimeout(function() {\n",
       "                var nbb_cell_id = 28;\n",
       "                var nbb_unformatted_code = \"df.shape\";\n",
       "                var nbb_formatted_code = \"df.shape\";\n",
       "                var nbb_cells = Jupyter.notebook.get_cells();\n",
       "                for (var i = 0; i < nbb_cells.length; ++i) {\n",
       "                    if (nbb_cells[i].input_prompt_number == nbb_cell_id) {\n",
       "                        if (nbb_cells[i].get_text() == nbb_unformatted_code) {\n",
       "                             nbb_cells[i].set_text(nbb_formatted_code);\n",
       "                        }\n",
       "                        break;\n",
       "                    }\n",
       "                }\n",
       "            }, 500);\n",
       "            "
      ],
      "text/plain": [
       "<IPython.core.display.Javascript object>"
      ]
     },
     "metadata": {},
     "output_type": "display_data"
    }
   ],
   "source": [
    "df.shape"
   ]
  },
  {
   "cell_type": "code",
   "execution_count": 29,
   "id": "c7b91709",
   "metadata": {},
   "outputs": [
    {
     "data": {
      "text/html": [
       "<style type=\"text/css\">\n",
       "#T_924c3_row0_col0 {\n",
       "  background-color: #67000d;\n",
       "  color: #f1f1f1;\n",
       "}\n",
       "#T_924c3_row1_col0, #T_924c3_row2_col0, #T_924c3_row3_col0, #T_924c3_row4_col0, #T_924c3_row5_col0, #T_924c3_row6_col0, #T_924c3_row7_col0, #T_924c3_row8_col0, #T_924c3_row9_col0 {\n",
       "  background-color: #fb694a;\n",
       "  color: #f1f1f1;\n",
       "}\n",
       "#T_924c3_row10_col0, #T_924c3_row11_col0, #T_924c3_row12_col0, #T_924c3_row13_col0, #T_924c3_row14_col0, #T_924c3_row15_col0, #T_924c3_row16_col0, #T_924c3_row17_col0 {\n",
       "  background-color: #fff5f0;\n",
       "  color: #000000;\n",
       "}\n",
       "</style>\n",
       "<table id=\"T_924c3\">\n",
       "  <thead>\n",
       "    <tr>\n",
       "      <th class=\"blank level0\" >&nbsp;</th>\n",
       "      <th id=\"T_924c3_level0_col0\" class=\"col_heading level0 col0\" >Missing (%)</th>\n",
       "    </tr>\n",
       "  </thead>\n",
       "  <tbody>\n",
       "    <tr>\n",
       "      <th id=\"T_924c3_level0_row0\" class=\"row_heading level0 row0\" >MgO</th>\n",
       "      <td id=\"T_924c3_row0_col0\" class=\"data row0 col0\" >0.141443</td>\n",
       "    </tr>\n",
       "    <tr>\n",
       "      <th id=\"T_924c3_level0_row1\" class=\"row_heading level0 row1\" >Loss on Ignition</th>\n",
       "      <td id=\"T_924c3_row1_col0\" class=\"data row1 col0\" >0.070721</td>\n",
       "    </tr>\n",
       "    <tr>\n",
       "      <th id=\"T_924c3_level0_row2\" class=\"row_heading level0 row2\" >Na2O</th>\n",
       "      <td id=\"T_924c3_row2_col0\" class=\"data row2 col0\" >0.070721</td>\n",
       "    </tr>\n",
       "    <tr>\n",
       "      <th id=\"T_924c3_level0_row3\" class=\"row_heading level0 row3\" >Al2O3</th>\n",
       "      <td id=\"T_924c3_row3_col0\" class=\"data row3 col0\" >0.070721</td>\n",
       "    </tr>\n",
       "    <tr>\n",
       "      <th id=\"T_924c3_level0_row4\" class=\"row_heading level0 row4\" >SiO2</th>\n",
       "      <td id=\"T_924c3_row4_col0\" class=\"data row4 col0\" >0.070721</td>\n",
       "    </tr>\n",
       "    <tr>\n",
       "      <th id=\"T_924c3_level0_row5\" class=\"row_heading level0 row5\" >SO3</th>\n",
       "      <td id=\"T_924c3_row5_col0\" class=\"data row5 col0\" >0.070721</td>\n",
       "    </tr>\n",
       "    <tr>\n",
       "      <th id=\"T_924c3_level0_row6\" class=\"row_heading level0 row6\" >K2O</th>\n",
       "      <td id=\"T_924c3_row6_col0\" class=\"data row6 col0\" >0.070721</td>\n",
       "    </tr>\n",
       "    <tr>\n",
       "      <th id=\"T_924c3_level0_row7\" class=\"row_heading level0 row7\" >Fe2O3</th>\n",
       "      <td id=\"T_924c3_row7_col0\" class=\"data row7 col0\" >0.070721</td>\n",
       "    </tr>\n",
       "    <tr>\n",
       "      <th id=\"T_924c3_level0_row8\" class=\"row_heading level0 row8\" >CaO</th>\n",
       "      <td id=\"T_924c3_row8_col0\" class=\"data row8 col0\" >0.070721</td>\n",
       "    </tr>\n",
       "    <tr>\n",
       "      <th id=\"T_924c3_level0_row9\" class=\"row_heading level0 row9\" >Insoluble Residue</th>\n",
       "      <td id=\"T_924c3_row9_col0\" class=\"data row9 col0\" >0.070721</td>\n",
       "    </tr>\n",
       "    <tr>\n",
       "      <th id=\"T_924c3_level0_row10\" class=\"row_heading level0 row10\" >CS3</th>\n",
       "      <td id=\"T_924c3_row10_col0\" class=\"data row10 col0\" >0.000000</td>\n",
       "    </tr>\n",
       "    <tr>\n",
       "      <th id=\"T_924c3_level0_row11\" class=\"row_heading level0 row11\" >CS28</th>\n",
       "      <td id=\"T_924c3_row11_col0\" class=\"data row11 col0\" >0.000000</td>\n",
       "    </tr>\n",
       "    <tr>\n",
       "      <th id=\"T_924c3_level0_row12\" class=\"row_heading level0 row12\" >CS7</th>\n",
       "      <td id=\"T_924c3_row12_col0\" class=\"data row12 col0\" >0.000000</td>\n",
       "    </tr>\n",
       "    <tr>\n",
       "      <th id=\"T_924c3_level0_row13\" class=\"row_heading level0 row13\" >Date</th>\n",
       "      <td id=\"T_924c3_row13_col0\" class=\"data row13 col0\" >0.000000</td>\n",
       "    </tr>\n",
       "    <tr>\n",
       "      <th id=\"T_924c3_level0_row14\" class=\"row_heading level0 row14\" >Final setting time</th>\n",
       "      <td id=\"T_924c3_row14_col0\" class=\"data row14 col0\" >0.000000</td>\n",
       "    </tr>\n",
       "    <tr>\n",
       "      <th id=\"T_924c3_level0_row15\" class=\"row_heading level0 row15\" >Initial setting time</th>\n",
       "      <td id=\"T_924c3_row15_col0\" class=\"data row15 col0\" >0.000000</td>\n",
       "    </tr>\n",
       "    <tr>\n",
       "      <th id=\"T_924c3_level0_row16\" class=\"row_heading level0 row16\" >Blaine</th>\n",
       "      <td id=\"T_924c3_row16_col0\" class=\"data row16 col0\" >0.000000</td>\n",
       "    </tr>\n",
       "    <tr>\n",
       "      <th id=\"T_924c3_level0_row17\" class=\"row_heading level0 row17\" >Cement_Type</th>\n",
       "      <td id=\"T_924c3_row17_col0\" class=\"data row17 col0\" >0.000000</td>\n",
       "    </tr>\n",
       "  </tbody>\n",
       "</table>\n"
      ],
      "text/plain": [
       "<pandas.io.formats.style.Styler at 0x7f7e926a2470>"
      ]
     },
     "execution_count": 29,
     "metadata": {},
     "output_type": "execute_result"
    },
    {
     "data": {
      "application/javascript": [
       "\n",
       "            setTimeout(function() {\n",
       "                var nbb_cell_id = 29;\n",
       "                var nbb_unformatted_code = \"(df.isna().sum() / df.shape[0] * 100).sort_values(ascending=False).to_frame(\\n    name=\\\"Missing (%)\\\"\\n).style.background_gradient(cmap=\\\"Reds\\\")\";\n",
       "                var nbb_formatted_code = \"(df.isna().sum() / df.shape[0] * 100).sort_values(ascending=False).to_frame(\\n    name=\\\"Missing (%)\\\"\\n).style.background_gradient(cmap=\\\"Reds\\\")\";\n",
       "                var nbb_cells = Jupyter.notebook.get_cells();\n",
       "                for (var i = 0; i < nbb_cells.length; ++i) {\n",
       "                    if (nbb_cells[i].input_prompt_number == nbb_cell_id) {\n",
       "                        if (nbb_cells[i].get_text() == nbb_unformatted_code) {\n",
       "                             nbb_cells[i].set_text(nbb_formatted_code);\n",
       "                        }\n",
       "                        break;\n",
       "                    }\n",
       "                }\n",
       "            }, 500);\n",
       "            "
      ],
      "text/plain": [
       "<IPython.core.display.Javascript object>"
      ]
     },
     "metadata": {},
     "output_type": "display_data"
    }
   ],
   "source": [
    "(df.isna().sum() / df.shape[0] * 100).sort_values(ascending=False).to_frame(\n",
    "    name=\"Missing (%)\"\n",
    ").style.background_gradient(cmap=\"Reds\")"
   ]
  },
  {
   "cell_type": "code",
   "execution_count": 30,
   "id": "12fef81f",
   "metadata": {},
   "outputs": [
    {
     "data": {
      "text/html": [
       "<div>\n",
       "<style scoped>\n",
       "    .dataframe tbody tr th:only-of-type {\n",
       "        vertical-align: middle;\n",
       "    }\n",
       "\n",
       "    .dataframe tbody tr th {\n",
       "        vertical-align: top;\n",
       "    }\n",
       "\n",
       "    .dataframe thead th {\n",
       "        text-align: right;\n",
       "    }\n",
       "</style>\n",
       "<table border=\"1\" class=\"dataframe\">\n",
       "  <thead>\n",
       "    <tr style=\"text-align: right;\">\n",
       "      <th></th>\n",
       "      <th>count</th>\n",
       "      <th>mean</th>\n",
       "      <th>min</th>\n",
       "      <th>25%</th>\n",
       "      <th>50%</th>\n",
       "      <th>75%</th>\n",
       "      <th>max</th>\n",
       "      <th>std</th>\n",
       "    </tr>\n",
       "  </thead>\n",
       "  <tbody>\n",
       "    <tr>\n",
       "      <th>Date</th>\n",
       "      <td>1414</td>\n",
       "      <td>2022-04-14 14:28:41.074964480</td>\n",
       "      <td>2021-01-04 00:00:00</td>\n",
       "      <td>2021-08-21 00:00:00</td>\n",
       "      <td>2022-04-19 00:00:00</td>\n",
       "      <td>2022-12-14 00:00:00</td>\n",
       "      <td>2023-07-25 00:00:00</td>\n",
       "      <td>NaN</td>\n",
       "    </tr>\n",
       "    <tr>\n",
       "      <th>CaO</th>\n",
       "      <td>1413.0</td>\n",
       "      <td>59.934437</td>\n",
       "      <td>53.380001</td>\n",
       "      <td>58.81</td>\n",
       "      <td>59.970001</td>\n",
       "      <td>61.21</td>\n",
       "      <td>65.730003</td>\n",
       "      <td>1.723387</td>\n",
       "    </tr>\n",
       "    <tr>\n",
       "      <th>MgO</th>\n",
       "      <td>1412.0</td>\n",
       "      <td>4.092882</td>\n",
       "      <td>2.55</td>\n",
       "      <td>3.73</td>\n",
       "      <td>4.07</td>\n",
       "      <td>4.41</td>\n",
       "      <td>6.16</td>\n",
       "      <td>0.522545</td>\n",
       "    </tr>\n",
       "    <tr>\n",
       "      <th>Na2O</th>\n",
       "      <td>1413.0</td>\n",
       "      <td>0.047997</td>\n",
       "      <td>-0.02</td>\n",
       "      <td>0.02</td>\n",
       "      <td>0.04</td>\n",
       "      <td>0.07</td>\n",
       "      <td>0.14</td>\n",
       "      <td>0.031762</td>\n",
       "    </tr>\n",
       "    <tr>\n",
       "      <th>Al2O3</th>\n",
       "      <td>1413.0</td>\n",
       "      <td>4.134133</td>\n",
       "      <td>3.23</td>\n",
       "      <td>3.96</td>\n",
       "      <td>4.19</td>\n",
       "      <td>4.33</td>\n",
       "      <td>4.97</td>\n",
       "      <td>0.308546</td>\n",
       "    </tr>\n",
       "    <tr>\n",
       "      <th>SiO2</th>\n",
       "      <td>1413.0</td>\n",
       "      <td>17.323043</td>\n",
       "      <td>13.5</td>\n",
       "      <td>16.559999</td>\n",
       "      <td>17.38</td>\n",
       "      <td>18.25</td>\n",
       "      <td>20.74</td>\n",
       "      <td>1.278059</td>\n",
       "    </tr>\n",
       "    <tr>\n",
       "      <th>SO3</th>\n",
       "      <td>1413.0</td>\n",
       "      <td>3.705648</td>\n",
       "      <td>0.76</td>\n",
       "      <td>3.53</td>\n",
       "      <td>3.75</td>\n",
       "      <td>3.93</td>\n",
       "      <td>4.49</td>\n",
       "      <td>0.336267</td>\n",
       "    </tr>\n",
       "    <tr>\n",
       "      <th>K2O</th>\n",
       "      <td>1413.0</td>\n",
       "      <td>0.836277</td>\n",
       "      <td>0.31</td>\n",
       "      <td>0.81</td>\n",
       "      <td>0.84</td>\n",
       "      <td>0.87</td>\n",
       "      <td>1.0</td>\n",
       "      <td>0.056537</td>\n",
       "    </tr>\n",
       "    <tr>\n",
       "      <th>Fe2O3</th>\n",
       "      <td>1413.0</td>\n",
       "      <td>2.69528</td>\n",
       "      <td>2.25</td>\n",
       "      <td>2.6</td>\n",
       "      <td>2.73</td>\n",
       "      <td>2.81</td>\n",
       "      <td>3.58</td>\n",
       "      <td>0.164435</td>\n",
       "    </tr>\n",
       "    <tr>\n",
       "      <th>Loss on Ignition</th>\n",
       "      <td>1413.0</td>\n",
       "      <td>7.197615</td>\n",
       "      <td>2.84</td>\n",
       "      <td>5.74</td>\n",
       "      <td>6.43</td>\n",
       "      <td>7.89</td>\n",
       "      <td>12.4</td>\n",
       "      <td>2.153983</td>\n",
       "    </tr>\n",
       "    <tr>\n",
       "      <th>Insoluble Residue</th>\n",
       "      <td>1413.0</td>\n",
       "      <td>1.263454</td>\n",
       "      <td>0.38</td>\n",
       "      <td>0.98</td>\n",
       "      <td>1.17</td>\n",
       "      <td>1.42</td>\n",
       "      <td>3.32</td>\n",
       "      <td>0.419253</td>\n",
       "    </tr>\n",
       "    <tr>\n",
       "      <th>Blaine</th>\n",
       "      <td>1414.0</td>\n",
       "      <td>5427.458274</td>\n",
       "      <td>3420.0</td>\n",
       "      <td>4880.0</td>\n",
       "      <td>5755.0</td>\n",
       "      <td>5920.0</td>\n",
       "      <td>6430.0</td>\n",
       "      <td>794.101174</td>\n",
       "    </tr>\n",
       "    <tr>\n",
       "      <th>Initial setting time</th>\n",
       "      <td>1414.0</td>\n",
       "      <td>194.586987</td>\n",
       "      <td>140.0</td>\n",
       "      <td>160.0</td>\n",
       "      <td>180.0</td>\n",
       "      <td>220.0</td>\n",
       "      <td>300.0</td>\n",
       "      <td>40.764673</td>\n",
       "    </tr>\n",
       "    <tr>\n",
       "      <th>Final setting time</th>\n",
       "      <td>1414.0</td>\n",
       "      <td>254.5686</td>\n",
       "      <td>145.0</td>\n",
       "      <td>220.0</td>\n",
       "      <td>240.0</td>\n",
       "      <td>285.0</td>\n",
       "      <td>400.0</td>\n",
       "      <td>47.533925</td>\n",
       "    </tr>\n",
       "    <tr>\n",
       "      <th>CS3</th>\n",
       "      <td>1414.0</td>\n",
       "      <td>32.576591</td>\n",
       "      <td>18.6</td>\n",
       "      <td>26.225</td>\n",
       "      <td>35.200001</td>\n",
       "      <td>36.900002</td>\n",
       "      <td>43.599998</td>\n",
       "      <td>6.261085</td>\n",
       "    </tr>\n",
       "    <tr>\n",
       "      <th>CS7</th>\n",
       "      <td>1414.0</td>\n",
       "      <td>38.692928</td>\n",
       "      <td>24.200001</td>\n",
       "      <td>32.799999</td>\n",
       "      <td>41.099998</td>\n",
       "      <td>43.0</td>\n",
       "      <td>48.900002</td>\n",
       "      <td>6.190771</td>\n",
       "    </tr>\n",
       "    <tr>\n",
       "      <th>CS28</th>\n",
       "      <td>1414.0</td>\n",
       "      <td>47.26227</td>\n",
       "      <td>34.0</td>\n",
       "      <td>40.425001</td>\n",
       "      <td>49.900002</td>\n",
       "      <td>51.400002</td>\n",
       "      <td>56.900002</td>\n",
       "      <td>6.285072</td>\n",
       "    </tr>\n",
       "  </tbody>\n",
       "</table>\n",
       "</div>"
      ],
      "text/plain": [
       "                       count                           mean  \\\n",
       "Date                    1414  2022-04-14 14:28:41.074964480   \n",
       "CaO                   1413.0                      59.934437   \n",
       "MgO                   1412.0                       4.092882   \n",
       "Na2O                  1413.0                       0.047997   \n",
       "Al2O3                 1413.0                       4.134133   \n",
       "SiO2                  1413.0                      17.323043   \n",
       "SO3                   1413.0                       3.705648   \n",
       "K2O                   1413.0                       0.836277   \n",
       "Fe2O3                 1413.0                        2.69528   \n",
       "Loss on Ignition      1413.0                       7.197615   \n",
       "Insoluble Residue     1413.0                       1.263454   \n",
       "Blaine                1414.0                    5427.458274   \n",
       "Initial setting time  1414.0                     194.586987   \n",
       "Final setting time    1414.0                       254.5686   \n",
       "CS3                   1414.0                      32.576591   \n",
       "CS7                   1414.0                      38.692928   \n",
       "CS28                  1414.0                       47.26227   \n",
       "\n",
       "                                      min                  25%  \\\n",
       "Date                  2021-01-04 00:00:00  2021-08-21 00:00:00   \n",
       "CaO                             53.380001                58.81   \n",
       "MgO                                  2.55                 3.73   \n",
       "Na2O                                -0.02                 0.02   \n",
       "Al2O3                                3.23                 3.96   \n",
       "SiO2                                 13.5            16.559999   \n",
       "SO3                                  0.76                 3.53   \n",
       "K2O                                  0.31                 0.81   \n",
       "Fe2O3                                2.25                  2.6   \n",
       "Loss on Ignition                     2.84                 5.74   \n",
       "Insoluble Residue                    0.38                 0.98   \n",
       "Blaine                             3420.0               4880.0   \n",
       "Initial setting time                140.0                160.0   \n",
       "Final setting time                  145.0                220.0   \n",
       "CS3                                  18.6               26.225   \n",
       "CS7                             24.200001            32.799999   \n",
       "CS28                                 34.0            40.425001   \n",
       "\n",
       "                                      50%                  75%  \\\n",
       "Date                  2022-04-19 00:00:00  2022-12-14 00:00:00   \n",
       "CaO                             59.970001                61.21   \n",
       "MgO                                  4.07                 4.41   \n",
       "Na2O                                 0.04                 0.07   \n",
       "Al2O3                                4.19                 4.33   \n",
       "SiO2                                17.38                18.25   \n",
       "SO3                                  3.75                 3.93   \n",
       "K2O                                  0.84                 0.87   \n",
       "Fe2O3                                2.73                 2.81   \n",
       "Loss on Ignition                     6.43                 7.89   \n",
       "Insoluble Residue                    1.17                 1.42   \n",
       "Blaine                             5755.0               5920.0   \n",
       "Initial setting time                180.0                220.0   \n",
       "Final setting time                  240.0                285.0   \n",
       "CS3                             35.200001            36.900002   \n",
       "CS7                             41.099998                 43.0   \n",
       "CS28                            49.900002            51.400002   \n",
       "\n",
       "                                      max         std  \n",
       "Date                  2023-07-25 00:00:00         NaN  \n",
       "CaO                             65.730003    1.723387  \n",
       "MgO                                  6.16    0.522545  \n",
       "Na2O                                 0.14    0.031762  \n",
       "Al2O3                                4.97    0.308546  \n",
       "SiO2                                20.74    1.278059  \n",
       "SO3                                  4.49    0.336267  \n",
       "K2O                                   1.0    0.056537  \n",
       "Fe2O3                                3.58    0.164435  \n",
       "Loss on Ignition                     12.4    2.153983  \n",
       "Insoluble Residue                    3.32    0.419253  \n",
       "Blaine                             6430.0  794.101174  \n",
       "Initial setting time                300.0   40.764673  \n",
       "Final setting time                  400.0   47.533925  \n",
       "CS3                             43.599998    6.261085  \n",
       "CS7                             48.900002    6.190771  \n",
       "CS28                            56.900002    6.285072  "
      ]
     },
     "execution_count": 30,
     "metadata": {},
     "output_type": "execute_result"
    },
    {
     "data": {
      "application/javascript": [
       "\n",
       "            setTimeout(function() {\n",
       "                var nbb_cell_id = 30;\n",
       "                var nbb_unformatted_code = \"df.describe().T\";\n",
       "                var nbb_formatted_code = \"df.describe().T\";\n",
       "                var nbb_cells = Jupyter.notebook.get_cells();\n",
       "                for (var i = 0; i < nbb_cells.length; ++i) {\n",
       "                    if (nbb_cells[i].input_prompt_number == nbb_cell_id) {\n",
       "                        if (nbb_cells[i].get_text() == nbb_unformatted_code) {\n",
       "                             nbb_cells[i].set_text(nbb_formatted_code);\n",
       "                        }\n",
       "                        break;\n",
       "                    }\n",
       "                }\n",
       "            }, 500);\n",
       "            "
      ],
      "text/plain": [
       "<IPython.core.display.Javascript object>"
      ]
     },
     "metadata": {},
     "output_type": "display_data"
    }
   ],
   "source": [
    "df.describe().T"
   ]
  },
  {
   "cell_type": "code",
   "execution_count": 31,
   "id": "e6e3f8eb",
   "metadata": {},
   "outputs": [
    {
     "data": {
      "text/html": [
       "<div>\n",
       "<style scoped>\n",
       "    .dataframe tbody tr th:only-of-type {\n",
       "        vertical-align: middle;\n",
       "    }\n",
       "\n",
       "    .dataframe tbody tr th {\n",
       "        vertical-align: top;\n",
       "    }\n",
       "\n",
       "    .dataframe thead th {\n",
       "        text-align: right;\n",
       "    }\n",
       "</style>\n",
       "<table border=\"1\" class=\"dataframe\">\n",
       "  <thead>\n",
       "    <tr style=\"text-align: right;\">\n",
       "      <th></th>\n",
       "      <th>count</th>\n",
       "      <th>unique</th>\n",
       "      <th>top</th>\n",
       "      <th>freq</th>\n",
       "      <th>mean</th>\n",
       "      <th>min</th>\n",
       "      <th>25%</th>\n",
       "      <th>50%</th>\n",
       "      <th>75%</th>\n",
       "      <th>max</th>\n",
       "    </tr>\n",
       "  </thead>\n",
       "  <tbody>\n",
       "    <tr>\n",
       "      <th>Date</th>\n",
       "      <td>1414</td>\n",
       "      <td>NaN</td>\n",
       "      <td>NaN</td>\n",
       "      <td>NaN</td>\n",
       "      <td>2022-04-14 14:28:41.074964480</td>\n",
       "      <td>2021-01-04 00:00:00</td>\n",
       "      <td>2021-08-21 00:00:00</td>\n",
       "      <td>2022-04-19 00:00:00</td>\n",
       "      <td>2022-12-14 00:00:00</td>\n",
       "      <td>2023-07-25 00:00:00</td>\n",
       "    </tr>\n",
       "    <tr>\n",
       "      <th>Cement_Type</th>\n",
       "      <td>1414</td>\n",
       "      <td>3</td>\n",
       "      <td>CP II-F-40</td>\n",
       "      <td>557</td>\n",
       "      <td>NaN</td>\n",
       "      <td>NaN</td>\n",
       "      <td>NaN</td>\n",
       "      <td>NaN</td>\n",
       "      <td>NaN</td>\n",
       "      <td>NaN</td>\n",
       "    </tr>\n",
       "  </tbody>\n",
       "</table>\n",
       "</div>"
      ],
      "text/plain": [
       "            count unique         top freq                           mean  \\\n",
       "Date         1414    NaN         NaN  NaN  2022-04-14 14:28:41.074964480   \n",
       "Cement_Type  1414      3  CP II-F-40  557                            NaN   \n",
       "\n",
       "                             min                  25%                  50%  \\\n",
       "Date         2021-01-04 00:00:00  2021-08-21 00:00:00  2022-04-19 00:00:00   \n",
       "Cement_Type                  NaN                  NaN                  NaN   \n",
       "\n",
       "                             75%                  max  \n",
       "Date         2022-12-14 00:00:00  2023-07-25 00:00:00  \n",
       "Cement_Type                  NaN                  NaN  "
      ]
     },
     "execution_count": 31,
     "metadata": {},
     "output_type": "execute_result"
    },
    {
     "data": {
      "application/javascript": [
       "\n",
       "            setTimeout(function() {\n",
       "                var nbb_cell_id = 31;\n",
       "                var nbb_unformatted_code = \"df.describe(exclude=\\\"number\\\").T\";\n",
       "                var nbb_formatted_code = \"df.describe(exclude=\\\"number\\\").T\";\n",
       "                var nbb_cells = Jupyter.notebook.get_cells();\n",
       "                for (var i = 0; i < nbb_cells.length; ++i) {\n",
       "                    if (nbb_cells[i].input_prompt_number == nbb_cell_id) {\n",
       "                        if (nbb_cells[i].get_text() == nbb_unformatted_code) {\n",
       "                             nbb_cells[i].set_text(nbb_formatted_code);\n",
       "                        }\n",
       "                        break;\n",
       "                    }\n",
       "                }\n",
       "            }, 500);\n",
       "            "
      ],
      "text/plain": [
       "<IPython.core.display.Javascript object>"
      ]
     },
     "metadata": {},
     "output_type": "display_data"
    }
   ],
   "source": [
    "df.describe(exclude=\"number\").T"
   ]
  },
  {
   "cell_type": "code",
   "execution_count": 32,
   "id": "8a781c6e",
   "metadata": {},
   "outputs": [
    {
     "name": "stdout",
     "output_type": "stream",
     "text": [
      "<class 'pandas.core.frame.DataFrame'>\n",
      "Index: 1414 entries, 0 to 1507\n",
      "Data columns (total 18 columns):\n",
      " #   Column                Non-Null Count  Dtype         \n",
      "---  ------                --------------  -----         \n",
      " 0   Date                  1414 non-null   datetime64[ns]\n",
      " 1   CaO                   1413 non-null   float64       \n",
      " 2   MgO                   1412 non-null   float64       \n",
      " 3   Na2O                  1413 non-null   float64       \n",
      " 4   Al2O3                 1413 non-null   float64       \n",
      " 5   SiO2                  1413 non-null   float64       \n",
      " 6   SO3                   1413 non-null   float64       \n",
      " 7   K2O                   1413 non-null   float64       \n",
      " 8   Fe2O3                 1413 non-null   float64       \n",
      " 9   Loss on Ignition      1413 non-null   float64       \n",
      " 10  Insoluble Residue     1413 non-null   float64       \n",
      " 11  Blaine                1414 non-null   float64       \n",
      " 12  Initial setting time  1414 non-null   float64       \n",
      " 13  Final setting time    1414 non-null   float64       \n",
      " 14  CS3                   1414 non-null   float64       \n",
      " 15  CS7                   1414 non-null   float64       \n",
      " 16  CS28                  1414 non-null   float64       \n",
      " 17  Cement_Type           1414 non-null   object        \n",
      "dtypes: datetime64[ns](1), float64(16), object(1)\n",
      "memory usage: 209.9+ KB\n"
     ]
    },
    {
     "data": {
      "application/javascript": [
       "\n",
       "            setTimeout(function() {\n",
       "                var nbb_cell_id = 32;\n",
       "                var nbb_unformatted_code = \"df.info()\";\n",
       "                var nbb_formatted_code = \"df.info()\";\n",
       "                var nbb_cells = Jupyter.notebook.get_cells();\n",
       "                for (var i = 0; i < nbb_cells.length; ++i) {\n",
       "                    if (nbb_cells[i].input_prompt_number == nbb_cell_id) {\n",
       "                        if (nbb_cells[i].get_text() == nbb_unformatted_code) {\n",
       "                             nbb_cells[i].set_text(nbb_formatted_code);\n",
       "                        }\n",
       "                        break;\n",
       "                    }\n",
       "                }\n",
       "            }, 500);\n",
       "            "
      ],
      "text/plain": [
       "<IPython.core.display.Javascript object>"
      ]
     },
     "metadata": {},
     "output_type": "display_data"
    }
   ],
   "source": [
    "df.info()"
   ]
  },
  {
   "cell_type": "markdown",
   "id": "6d769c2f",
   "metadata": {},
   "source": [
    "### Sort the dataset by date"
   ]
  },
  {
   "cell_type": "code",
   "execution_count": 33,
   "id": "b44c21a6",
   "metadata": {},
   "outputs": [
    {
     "data": {
      "text/plain": [
       "dtype('<M8[ns]')"
      ]
     },
     "execution_count": 33,
     "metadata": {},
     "output_type": "execute_result"
    },
    {
     "data": {
      "application/javascript": [
       "\n",
       "            setTimeout(function() {\n",
       "                var nbb_cell_id = 33;\n",
       "                var nbb_unformatted_code = \"# We first make sure Date column was infered correctly\\ndf[\\\"Date\\\"].dtype\";\n",
       "                var nbb_formatted_code = \"# We first make sure Date column was infered correctly\\ndf[\\\"Date\\\"].dtype\";\n",
       "                var nbb_cells = Jupyter.notebook.get_cells();\n",
       "                for (var i = 0; i < nbb_cells.length; ++i) {\n",
       "                    if (nbb_cells[i].input_prompt_number == nbb_cell_id) {\n",
       "                        if (nbb_cells[i].get_text() == nbb_unformatted_code) {\n",
       "                             nbb_cells[i].set_text(nbb_formatted_code);\n",
       "                        }\n",
       "                        break;\n",
       "                    }\n",
       "                }\n",
       "            }, 500);\n",
       "            "
      ],
      "text/plain": [
       "<IPython.core.display.Javascript object>"
      ]
     },
     "metadata": {},
     "output_type": "display_data"
    }
   ],
   "source": [
    "# We first make sure Date column was infered correctly\n",
    "df[\"Date\"].dtype"
   ]
  },
  {
   "cell_type": "code",
   "execution_count": 34,
   "id": "5c5039e2",
   "metadata": {},
   "outputs": [
    {
     "data": {
      "application/javascript": [
       "\n",
       "            setTimeout(function() {\n",
       "                var nbb_cell_id = 34;\n",
       "                var nbb_unformatted_code = \"df = df.sort_values(by=\\\"Date\\\")\";\n",
       "                var nbb_formatted_code = \"df = df.sort_values(by=\\\"Date\\\")\";\n",
       "                var nbb_cells = Jupyter.notebook.get_cells();\n",
       "                for (var i = 0; i < nbb_cells.length; ++i) {\n",
       "                    if (nbb_cells[i].input_prompt_number == nbb_cell_id) {\n",
       "                        if (nbb_cells[i].get_text() == nbb_unformatted_code) {\n",
       "                             nbb_cells[i].set_text(nbb_formatted_code);\n",
       "                        }\n",
       "                        break;\n",
       "                    }\n",
       "                }\n",
       "            }, 500);\n",
       "            "
      ],
      "text/plain": [
       "<IPython.core.display.Javascript object>"
      ]
     },
     "metadata": {},
     "output_type": "display_data"
    }
   ],
   "source": [
    "df = df.sort_values(by=\"Date\")"
   ]
  },
  {
   "cell_type": "markdown",
   "id": "22e0657a",
   "metadata": {},
   "source": [
    "## Saving the dataset"
   ]
  },
  {
   "cell_type": "markdown",
   "id": "b60e3c79",
   "metadata": {},
   "source": [
    "<h3>Saving for feature engineering</h3>"
   ]
  },
  {
   "cell_type": "code",
   "execution_count": 35,
   "id": "a8a88fcd",
   "metadata": {},
   "outputs": [
    {
     "data": {
      "application/javascript": [
       "\n",
       "            setTimeout(function() {\n",
       "                var nbb_cell_id = 35;\n",
       "                var nbb_unformatted_code = \"df.to_csv(\\\"../../../data/interim/209/l.csv\\\", index=False)\";\n",
       "                var nbb_formatted_code = \"df.to_csv(\\\"../../../data/interim/209/l.csv\\\", index=False)\";\n",
       "                var nbb_cells = Jupyter.notebook.get_cells();\n",
       "                for (var i = 0; i < nbb_cells.length; ++i) {\n",
       "                    if (nbb_cells[i].input_prompt_number == nbb_cell_id) {\n",
       "                        if (nbb_cells[i].get_text() == nbb_unformatted_code) {\n",
       "                             nbb_cells[i].set_text(nbb_formatted_code);\n",
       "                        }\n",
       "                        break;\n",
       "                    }\n",
       "                }\n",
       "            }, 500);\n",
       "            "
      ],
      "text/plain": [
       "<IPython.core.display.Javascript object>"
      ]
     },
     "metadata": {},
     "output_type": "display_data"
    }
   ],
   "source": [
    "df.to_csv(\"../../../data/interim/209/l.csv\", index=False)"
   ]
  },
  {
   "cell_type": "code",
   "execution_count": null,
   "id": "c55f01f4",
   "metadata": {},
   "outputs": [],
   "source": []
  }
 ],
 "metadata": {
  "kernelspec": {
   "display_name": "ccs28-venv",
   "language": "python",
   "name": "ccs28-venv"
  },
  "language_info": {
   "codemirror_mode": {
    "name": "ipython",
    "version": 3
   },
   "file_extension": ".py",
   "mimetype": "text/x-python",
   "name": "python",
   "nbconvert_exporter": "python",
   "pygments_lexer": "ipython3",
   "version": "3.10.12"
  }
 },
 "nbformat": 4,
 "nbformat_minor": 5
}
