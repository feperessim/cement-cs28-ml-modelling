{
 "cells": [
  {
   "cell_type": "code",
   "execution_count": 1,
   "id": "d3dc792e",
   "metadata": {},
   "outputs": [],
   "source": [
    "import os"
   ]
  },
  {
   "cell_type": "code",
   "execution_count": 2,
   "id": "88903324",
   "metadata": {},
   "outputs": [
    {
     "data": {
      "text/plain": [
       "'/home/peressim/projects/ccs28-ml-modelling/notebooks/data_preparation/209'"
      ]
     },
     "execution_count": 2,
     "metadata": {},
     "output_type": "execute_result"
    }
   ],
   "source": [
    "os.getcwd()"
   ]
  },
  {
   "cell_type": "code",
   "execution_count": 3,
   "id": "0c4e96ca",
   "metadata": {},
   "outputs": [],
   "source": [
    "os.chdir(\"/home/peressim/projects/ccs28-ml-modelling/notebooks/modelling/209/\")"
   ]
  },
  {
   "cell_type": "code",
   "execution_count": 4,
   "id": "2250ce15",
   "metadata": {},
   "outputs": [
    {
     "data": {
      "text/plain": [
       "'/home/peressim/projects/ccs28-ml-modelling/notebooks/modelling/209'"
      ]
     },
     "execution_count": 4,
     "metadata": {},
     "output_type": "execute_result"
    }
   ],
   "source": [
    "os.getcwd()"
   ]
  },
  {
   "cell_type": "code",
   "execution_count": 5,
   "id": "9735a4dd",
   "metadata": {},
   "outputs": [
    {
     "data": {
      "text/plain": [
       "['decision_tree',\n",
       " 'transformer',\n",
       " 'xgboost',\n",
       " 'gru',\n",
       " 'mlp',\n",
       " 'bi-lstm',\n",
       " 'random_forest',\n",
       " 'bi-gru',\n",
       " 'linear_regression',\n",
       " 'lstm']"
      ]
     },
     "execution_count": 5,
     "metadata": {},
     "output_type": "execute_result"
    }
   ],
   "source": [
    "os.listdir()"
   ]
  },
  {
   "cell_type": "code",
   "execution_count": 21,
   "id": "03e86730",
   "metadata": {},
   "outputs": [
    {
     "name": "stdout",
     "output_type": "stream",
     "text": [
      "decision_tree\n",
      "transformer\n",
      "xgboost\n",
      "gru\n",
      "mlp\n",
      "bi-lstm\n",
      "random_forest\n",
      "bi-gru\n",
      "linear_regression\n",
      "lstm\n"
     ]
    }
   ],
   "source": [
    "for model in os.listdir():\n",
    "    path = os.path.join(os.path.join(os.getcwd(), model), \"ac\")\n",
    "    to = os.path.join(os.path.join(os.getcwd(), model), \"am\")\n",
    "    os.system((f\"rm -rf {to}\"))\n",
    "    #os.system(f\"mkdir {to}\")\n",
    "    #os.system(f\"cp -r {path} {to}\")\n",
    "    \n",
    "    #print(f\"cp - r {path} {to}\")\n",
    "    print(model)"
   ]
  },
  {
   "cell_type": "code",
   "execution_count": 22,
   "id": "aafd3424",
   "metadata": {},
   "outputs": [
    {
     "name": "stdout",
     "output_type": "stream",
     "text": [
      "decision_tree\n",
      "transformer\n",
      "xgboost\n",
      "gru\n",
      "mlp\n",
      "bi-lstm\n",
      "random_forest\n",
      "bi-gru\n",
      "linear_regression\n",
      "lstm\n"
     ]
    }
   ],
   "source": [
    "import os\n",
    "import shutil\n",
    "\n",
    "for model in os.listdir():\n",
    "    path = os.path.join(os.getcwd(), model, \"ac\")\n",
    "    to = os.path.join(os.getcwd(), model, \"am\")\n",
    "\n",
    "    # Create the destination directory if it doesn't exist\n",
    "    os.makedirs(to, exist_ok=True)\n",
    "\n",
    "    # Copy the contents of \"ac\" to \"am\", ensuring only contents are copied\n",
    "    for filename in os.listdir(path):\n",
    "        source_file = os.path.join(path, filename)\n",
    "        dest_file = os.path.join(to, filename)\n",
    "        if \"cs1\" not in filename:\n",
    "            shutil.copy2(source_file, dest_file)  # Use shutil.copy2 for metadata preservation\n",
    "\n",
    "    print(model)  # Print the model name after successful copy"
   ]
  },
  {
   "cell_type": "code",
   "execution_count": 15,
   "id": "5cf01a67",
   "metadata": {},
   "outputs": [
    {
     "name": "stdout",
     "output_type": "stream",
     "text": [
      "chemical-ds.ipynb\n",
      "chemical-cs1-and-cs3-and-cs7-ds.ipynb\n",
      "chemical-cs1-ds.ipynb\n",
      "chemical-cs3-ds.ipynb\n",
      "chemical-properties-csless-ds.ipynb\n",
      "full-ds.ipynb\n",
      "chemical-feature_engineering-ds.ipynb\n",
      "chemical-cs7-ds.ipynb\n",
      "chemical-cs1-and-cs3-ds.ipynb\n",
      "chemical-cs3-and-cs7-ds.ipynb\n"
     ]
    }
   ],
   "source": [
    "for filename in os.listdir(path):\n",
    "    print(filename)"
   ]
  },
  {
   "cell_type": "code",
   "execution_count": 16,
   "id": "1485be44",
   "metadata": {},
   "outputs": [
    {
     "ename": "NameError",
     "evalue": "name 'source' is not defined",
     "output_type": "error",
     "traceback": [
      "\u001b[0;31m---------------------------------------------------------------------------\u001b[0m",
      "\u001b[0;31mNameError\u001b[0m                                 Traceback (most recent call last)",
      "Cell \u001b[0;32mIn[16], line 1\u001b[0m\n\u001b[0;32m----> 1\u001b[0m \u001b[38;5;28mprint\u001b[39m(\u001b[43msource\u001b[49m)\n",
      "\u001b[0;31mNameError\u001b[0m: name 'source' is not defined"
     ]
    }
   ],
   "source": [
    "print(source)"
   ]
  },
  {
   "cell_type": "code",
   "execution_count": null,
   "id": "6ca4ea39",
   "metadata": {},
   "outputs": [],
   "source": []
  }
 ],
 "metadata": {
  "kernelspec": {
   "display_name": "ccs28-venv",
   "language": "python",
   "name": "ccs28-venv"
  },
  "language_info": {
   "codemirror_mode": {
    "name": "ipython",
    "version": 3
   },
   "file_extension": ".py",
   "mimetype": "text/x-python",
   "name": "python",
   "nbconvert_exporter": "python",
   "pygments_lexer": "ipython3",
   "version": "3.10.12"
  }
 },
 "nbformat": 4,
 "nbformat_minor": 5
}
