{
 "cells": [
  {
   "cell_type": "code",
   "execution_count": 1,
   "id": "00f7471a",
   "metadata": {},
   "outputs": [
    {
     "data": {
      "application/javascript": [
       "\n",
       "            setTimeout(function() {\n",
       "                var nbb_cell_id = 1;\n",
       "                var nbb_unformatted_code = \"%load_ext nb_black\";\n",
       "                var nbb_formatted_code = \"%load_ext nb_black\";\n",
       "                var nbb_cells = Jupyter.notebook.get_cells();\n",
       "                for (var i = 0; i < nbb_cells.length; ++i) {\n",
       "                    if (nbb_cells[i].input_prompt_number == nbb_cell_id) {\n",
       "                        if (nbb_cells[i].get_text() == nbb_unformatted_code) {\n",
       "                             nbb_cells[i].set_text(nbb_formatted_code);\n",
       "                        }\n",
       "                        break;\n",
       "                    }\n",
       "                }\n",
       "            }, 500);\n",
       "            "
      ],
      "text/plain": [
       "<IPython.core.display.Javascript object>"
      ]
     },
     "metadata": {},
     "output_type": "display_data"
    }
   ],
   "source": [
    "%load_ext nb_black"
   ]
  },
  {
   "cell_type": "code",
   "execution_count": 2,
   "id": "17ba98f5",
   "metadata": {},
   "outputs": [
    {
     "data": {
      "application/javascript": [
       "\n",
       "            setTimeout(function() {\n",
       "                var nbb_cell_id = 2;\n",
       "                var nbb_unformatted_code = \"import pandas as pd\\nimport numpy as np\\nimport matplotlib.pyplot as plt\\nimport seaborn as sns\\nimport warnings\\n\\nfrom scipy.stats import pearsonr\\nfrom collections import Counter\";\n",
       "                var nbb_formatted_code = \"import pandas as pd\\nimport numpy as np\\nimport matplotlib.pyplot as plt\\nimport seaborn as sns\\nimport warnings\\n\\nfrom scipy.stats import pearsonr\\nfrom collections import Counter\";\n",
       "                var nbb_cells = Jupyter.notebook.get_cells();\n",
       "                for (var i = 0; i < nbb_cells.length; ++i) {\n",
       "                    if (nbb_cells[i].input_prompt_number == nbb_cell_id) {\n",
       "                        if (nbb_cells[i].get_text() == nbb_unformatted_code) {\n",
       "                             nbb_cells[i].set_text(nbb_formatted_code);\n",
       "                        }\n",
       "                        break;\n",
       "                    }\n",
       "                }\n",
       "            }, 500);\n",
       "            "
      ],
      "text/plain": [
       "<IPython.core.display.Javascript object>"
      ]
     },
     "metadata": {},
     "output_type": "display_data"
    }
   ],
   "source": [
    "import pandas as pd\n",
    "import numpy as np\n",
    "import matplotlib.pyplot as plt\n",
    "import seaborn as sns\n",
    "import warnings\n",
    "\n",
    "from scipy.stats import pearsonr\n",
    "from collections import Counter"
   ]
  },
  {
   "cell_type": "code",
   "execution_count": 3,
   "id": "ad81bb3a",
   "metadata": {},
   "outputs": [
    {
     "data": {
      "application/javascript": [
       "\n",
       "            setTimeout(function() {\n",
       "                var nbb_cell_id = 3;\n",
       "                var nbb_unformatted_code = \"def convert_to_float(value):\\n    try:\\n        # If it's a string enclosed in single quotes, remove quotes and replace comma with dot\\n        if isinstance(value, str):\\n            return float(value.replace(\\\",\\\", \\\".\\\"))\\n        else:\\n            return float(value)\\n    except ValueError as e:\\n        print(e)\\n        return float(\\\"nan\\\")\";\n",
       "                var nbb_formatted_code = \"def convert_to_float(value):\\n    try:\\n        # If it's a string enclosed in single quotes, remove quotes and replace comma with dot\\n        if isinstance(value, str):\\n            return float(value.replace(\\\",\\\", \\\".\\\"))\\n        else:\\n            return float(value)\\n    except ValueError as e:\\n        print(e)\\n        return float(\\\"nan\\\")\";\n",
       "                var nbb_cells = Jupyter.notebook.get_cells();\n",
       "                for (var i = 0; i < nbb_cells.length; ++i) {\n",
       "                    if (nbb_cells[i].input_prompt_number == nbb_cell_id) {\n",
       "                        if (nbb_cells[i].get_text() == nbb_unformatted_code) {\n",
       "                             nbb_cells[i].set_text(nbb_formatted_code);\n",
       "                        }\n",
       "                        break;\n",
       "                    }\n",
       "                }\n",
       "            }, 500);\n",
       "            "
      ],
      "text/plain": [
       "<IPython.core.display.Javascript object>"
      ]
     },
     "metadata": {},
     "output_type": "display_data"
    }
   ],
   "source": [
    "def convert_to_float(value):\n",
    "    try:\n",
    "        # If it's a string enclosed in single quotes, remove quotes and replace comma with dot\n",
    "        if isinstance(value, str):\n",
    "            return float(value.replace(\",\", \".\"))\n",
    "        else:\n",
    "            return float(value)\n",
    "    except ValueError as e:\n",
    "        print(e)\n",
    "        return float(\"nan\")"
   ]
  },
  {
   "cell_type": "code",
   "execution_count": 4,
   "id": "fa1f9842",
   "metadata": {},
   "outputs": [
    {
     "data": {
      "application/javascript": [
       "\n",
       "            setTimeout(function() {\n",
       "                var nbb_cell_id = 4;\n",
       "                var nbb_unformatted_code = \"def preprocess_numeric_cols(df, columns):\\n    for col in columns:\\n        df[col] = df[col].astype(str)  # Ensure string type for string operations\\n        df[col] = df[col].str.replace(\\\"#\\\", \\\"\\\")  # Remove '#' characters\\n        df[col] = df[col].str.replace(\\\",\\\", \\\".\\\")  # Replace ',' with '.' for decimals\\n    return df\";\n",
       "                var nbb_formatted_code = \"def preprocess_numeric_cols(df, columns):\\n    for col in columns:\\n        df[col] = df[col].astype(str)  # Ensure string type for string operations\\n        df[col] = df[col].str.replace(\\\"#\\\", \\\"\\\")  # Remove '#' characters\\n        df[col] = df[col].str.replace(\\\",\\\", \\\".\\\")  # Replace ',' with '.' for decimals\\n    return df\";\n",
       "                var nbb_cells = Jupyter.notebook.get_cells();\n",
       "                for (var i = 0; i < nbb_cells.length; ++i) {\n",
       "                    if (nbb_cells[i].input_prompt_number == nbb_cell_id) {\n",
       "                        if (nbb_cells[i].get_text() == nbb_unformatted_code) {\n",
       "                             nbb_cells[i].set_text(nbb_formatted_code);\n",
       "                        }\n",
       "                        break;\n",
       "                    }\n",
       "                }\n",
       "            }, 500);\n",
       "            "
      ],
      "text/plain": [
       "<IPython.core.display.Javascript object>"
      ]
     },
     "metadata": {},
     "output_type": "display_data"
    }
   ],
   "source": [
    "def preprocess_numeric_cols(df, columns):\n",
    "    for col in columns:\n",
    "        df[col] = df[col].astype(str)  # Ensure string type for string operations\n",
    "        df[col] = df[col].str.replace(\"#\", \"\")  # Remove '#' characters\n",
    "        df[col] = df[col].str.replace(\",\", \".\")  # Replace ',' with '.' for decimals\n",
    "    return df"
   ]
  },
  {
   "cell_type": "markdown",
   "id": "d28c2c6f",
   "metadata": {},
   "source": [
    "# Data preparation - 209 plant AP data"
   ]
  },
  {
   "cell_type": "markdown",
   "id": "d3eb6673",
   "metadata": {},
   "source": [
    "### Reading the files and extracting relevant information:"
   ]
  },
  {
   "cell_type": "code",
   "execution_count": 5,
   "id": "8cbd3a44",
   "metadata": {},
   "outputs": [
    {
     "data": {
      "application/javascript": [
       "\n",
       "            setTimeout(function() {\n",
       "                var nbb_cell_id = 5;\n",
       "                var nbb_unformatted_code = \"plant = \\\"AP\\\"\\nxls_files = {}\\n\\nxls = pd.ExcelFile(\\n    f\\\"../../../data/raw/209/EMBRAPII hubIC IACC_CIMENTO_{plant}.xlsx\\\",\\n    engine=\\\"openpyxl\\\",\\n)\\nxls_files[plant] = xls\";\n",
       "                var nbb_formatted_code = \"plant = \\\"AP\\\"\\nxls_files = {}\\n\\nxls = pd.ExcelFile(\\n    f\\\"../../../data/raw/209/EMBRAPII hubIC IACC_CIMENTO_{plant}.xlsx\\\",\\n    engine=\\\"openpyxl\\\",\\n)\\nxls_files[plant] = xls\";\n",
       "                var nbb_cells = Jupyter.notebook.get_cells();\n",
       "                for (var i = 0; i < nbb_cells.length; ++i) {\n",
       "                    if (nbb_cells[i].input_prompt_number == nbb_cell_id) {\n",
       "                        if (nbb_cells[i].get_text() == nbb_unformatted_code) {\n",
       "                             nbb_cells[i].set_text(nbb_formatted_code);\n",
       "                        }\n",
       "                        break;\n",
       "                    }\n",
       "                }\n",
       "            }, 500);\n",
       "            "
      ],
      "text/plain": [
       "<IPython.core.display.Javascript object>"
      ]
     },
     "metadata": {},
     "output_type": "display_data"
    }
   ],
   "source": [
    "plant = \"AP\"\n",
    "xls_files = {}\n",
    "\n",
    "xls = pd.ExcelFile(\n",
    "    f\"../../../data/raw/209/EMBRAPII hubIC IACC_CIMENTO_{plant}.xlsx\",\n",
    "    engine=\"openpyxl\",\n",
    ")\n",
    "xls_files[plant] = xls"
   ]
  },
  {
   "cell_type": "code",
   "execution_count": 6,
   "id": "0d7c6058",
   "metadata": {},
   "outputs": [
    {
     "name": "stdout",
     "output_type": "stream",
     "text": [
      "Plant:  AP ['INSTRUÇÕES', 'Clínquer', '191', '189', '199', '41']\n"
     ]
    },
    {
     "data": {
      "application/javascript": [
       "\n",
       "            setTimeout(function() {\n",
       "                var nbb_cell_id = 6;\n",
       "                var nbb_unformatted_code = \"print(\\\"Plant: \\\", plant, xls.sheet_names)\";\n",
       "                var nbb_formatted_code = \"print(\\\"Plant: \\\", plant, xls.sheet_names)\";\n",
       "                var nbb_cells = Jupyter.notebook.get_cells();\n",
       "                for (var i = 0; i < nbb_cells.length; ++i) {\n",
       "                    if (nbb_cells[i].input_prompt_number == nbb_cell_id) {\n",
       "                        if (nbb_cells[i].get_text() == nbb_unformatted_code) {\n",
       "                             nbb_cells[i].set_text(nbb_formatted_code);\n",
       "                        }\n",
       "                        break;\n",
       "                    }\n",
       "                }\n",
       "            }, 500);\n",
       "            "
      ],
      "text/plain": [
       "<IPython.core.display.Javascript object>"
      ]
     },
     "metadata": {},
     "output_type": "display_data"
    }
   ],
   "source": [
    "print(\"Plant: \", plant, xls.sheet_names)"
   ]
  },
  {
   "cell_type": "code",
   "execution_count": 7,
   "id": "d0b9a1e5",
   "metadata": {},
   "outputs": [
    {
     "data": {
      "application/javascript": [
       "\n",
       "            setTimeout(function() {\n",
       "                var nbb_cell_id = 7;\n",
       "                var nbb_unformatted_code = \"cement_types_per_plant = []\\nCEMENT_TYPE_COLS = [\\\"Tipo de cimento\\\", \\\"Classe de resist\\u00eancia\\\"]\\ndataframes = []\\n\\nfor plant, xls in xls_files.items():\\n    for sheet_name in xls.sheet_names[2:]:\\n        df = pd.read_excel(xls_files[plant], sheet_name, header=[1, 2])\\n\\n        if not df[CEMENT_TYPE_COLS].iloc[2:].isna().all().all():\\n            cement_type = (\\n                df[CEMENT_TYPE_COLS]\\n                .loc[2:]\\n                .astype(str)\\n                .sum(axis=1)\\n                .str.replace(\\\" \\\", \\\"\\\")\\n                .str.replace(\\\"-\\\", \\\"\\\")\\n                .str.replace(\\\"nan\\\", \\\"\\\")\\n                .unique()\\n            )\\n\\n        else:\\n            cement_type = (\\n                df[[(\\\"Obs.\\\", \\\"Unnamed: 8_level_1\\\")]]\\n                .loc[2:]\\n                .astype(str)\\n                .sum(axis=1)\\n                .str.replace(\\\" \\\", \\\"\\\")\\n                .str.replace(\\\"-\\\", \\\"\\\")\\n                .unique()\\n            )\\n\\n        cement_types_per_plant.append((plant, sheet_name, cement_type))\\n        dataframes.append(df)\";\n",
       "                var nbb_formatted_code = \"cement_types_per_plant = []\\nCEMENT_TYPE_COLS = [\\\"Tipo de cimento\\\", \\\"Classe de resist\\u00eancia\\\"]\\ndataframes = []\\n\\nfor plant, xls in xls_files.items():\\n    for sheet_name in xls.sheet_names[2:]:\\n        df = pd.read_excel(xls_files[plant], sheet_name, header=[1, 2])\\n\\n        if not df[CEMENT_TYPE_COLS].iloc[2:].isna().all().all():\\n            cement_type = (\\n                df[CEMENT_TYPE_COLS]\\n                .loc[2:]\\n                .astype(str)\\n                .sum(axis=1)\\n                .str.replace(\\\" \\\", \\\"\\\")\\n                .str.replace(\\\"-\\\", \\\"\\\")\\n                .str.replace(\\\"nan\\\", \\\"\\\")\\n                .unique()\\n            )\\n\\n        else:\\n            cement_type = (\\n                df[[(\\\"Obs.\\\", \\\"Unnamed: 8_level_1\\\")]]\\n                .loc[2:]\\n                .astype(str)\\n                .sum(axis=1)\\n                .str.replace(\\\" \\\", \\\"\\\")\\n                .str.replace(\\\"-\\\", \\\"\\\")\\n                .unique()\\n            )\\n\\n        cement_types_per_plant.append((plant, sheet_name, cement_type))\\n        dataframes.append(df)\";\n",
       "                var nbb_cells = Jupyter.notebook.get_cells();\n",
       "                for (var i = 0; i < nbb_cells.length; ++i) {\n",
       "                    if (nbb_cells[i].input_prompt_number == nbb_cell_id) {\n",
       "                        if (nbb_cells[i].get_text() == nbb_unformatted_code) {\n",
       "                             nbb_cells[i].set_text(nbb_formatted_code);\n",
       "                        }\n",
       "                        break;\n",
       "                    }\n",
       "                }\n",
       "            }, 500);\n",
       "            "
      ],
      "text/plain": [
       "<IPython.core.display.Javascript object>"
      ]
     },
     "metadata": {},
     "output_type": "display_data"
    }
   ],
   "source": [
    "cement_types_per_plant = []\n",
    "CEMENT_TYPE_COLS = [\"Tipo de cimento\", \"Classe de resistência\"]\n",
    "dataframes = []\n",
    "\n",
    "for plant, xls in xls_files.items():\n",
    "    for sheet_name in xls.sheet_names[2:]:\n",
    "        df = pd.read_excel(xls_files[plant], sheet_name, header=[1, 2])\n",
    "\n",
    "        if not df[CEMENT_TYPE_COLS].iloc[2:].isna().all().all():\n",
    "            cement_type = (\n",
    "                df[CEMENT_TYPE_COLS]\n",
    "                .loc[2:]\n",
    "                .astype(str)\n",
    "                .sum(axis=1)\n",
    "                .str.replace(\" \", \"\")\n",
    "                .str.replace(\"-\", \"\")\n",
    "                .str.replace(\"nan\", \"\")\n",
    "                .unique()\n",
    "            )\n",
    "\n",
    "        else:\n",
    "            cement_type = (\n",
    "                df[[(\"Obs.\", \"Unnamed: 8_level_1\")]]\n",
    "                .loc[2:]\n",
    "                .astype(str)\n",
    "                .sum(axis=1)\n",
    "                .str.replace(\" \", \"\")\n",
    "                .str.replace(\"-\", \"\")\n",
    "                .unique()\n",
    "            )\n",
    "\n",
    "        cement_types_per_plant.append((plant, sheet_name, cement_type))\n",
    "        dataframes.append(df)"
   ]
  },
  {
   "cell_type": "code",
   "execution_count": 8,
   "id": "68ebeafe",
   "metadata": {},
   "outputs": [
    {
     "data": {
      "text/plain": [
       "[('AP', '191', array(['CPIIE32'], dtype=object)),\n",
       " ('AP', '189', array(['CPIIE40'], dtype=object)),\n",
       " ('AP', '199', array(['CPIIIRS40'], dtype=object)),\n",
       " ('AP', '41', array(['CPIV32'], dtype=object))]"
      ]
     },
     "execution_count": 8,
     "metadata": {},
     "output_type": "execute_result"
    },
    {
     "data": {
      "application/javascript": [
       "\n",
       "            setTimeout(function() {\n",
       "                var nbb_cell_id = 8;\n",
       "                var nbb_unformatted_code = \"cement_types_per_plant\";\n",
       "                var nbb_formatted_code = \"cement_types_per_plant\";\n",
       "                var nbb_cells = Jupyter.notebook.get_cells();\n",
       "                for (var i = 0; i < nbb_cells.length; ++i) {\n",
       "                    if (nbb_cells[i].input_prompt_number == nbb_cell_id) {\n",
       "                        if (nbb_cells[i].get_text() == nbb_unformatted_code) {\n",
       "                             nbb_cells[i].set_text(nbb_formatted_code);\n",
       "                        }\n",
       "                        break;\n",
       "                    }\n",
       "                }\n",
       "            }, 500);\n",
       "            "
      ],
      "text/plain": [
       "<IPython.core.display.Javascript object>"
      ]
     },
     "metadata": {},
     "output_type": "display_data"
    }
   ],
   "source": [
    "cement_types_per_plant"
   ]
  },
  {
   "cell_type": "code",
   "execution_count": 9,
   "id": "88c941e7",
   "metadata": {},
   "outputs": [
    {
     "data": {
      "text/plain": [
       "Counter({'CPIIE32': 1, 'CPIIE40': 1, 'CPIIIRS40': 1, 'CPIV32': 1})"
      ]
     },
     "execution_count": 9,
     "metadata": {},
     "output_type": "execute_result"
    },
    {
     "data": {
      "application/javascript": [
       "\n",
       "            setTimeout(function() {\n",
       "                var nbb_cell_id = 9;\n",
       "                var nbb_unformatted_code = \"cements = []\\nfor tup in cement_types_per_plant:\\n    cements.append(tup[2][0])\\nCounter(cements)\";\n",
       "                var nbb_formatted_code = \"cements = []\\nfor tup in cement_types_per_plant:\\n    cements.append(tup[2][0])\\nCounter(cements)\";\n",
       "                var nbb_cells = Jupyter.notebook.get_cells();\n",
       "                for (var i = 0; i < nbb_cells.length; ++i) {\n",
       "                    if (nbb_cells[i].input_prompt_number == nbb_cell_id) {\n",
       "                        if (nbb_cells[i].get_text() == nbb_unformatted_code) {\n",
       "                             nbb_cells[i].set_text(nbb_formatted_code);\n",
       "                        }\n",
       "                        break;\n",
       "                    }\n",
       "                }\n",
       "            }, 500);\n",
       "            "
      ],
      "text/plain": [
       "<IPython.core.display.Javascript object>"
      ]
     },
     "metadata": {},
     "output_type": "display_data"
    }
   ],
   "source": [
    "cements = []\n",
    "for tup in cement_types_per_plant:\n",
    "    cements.append(tup[2][0])\n",
    "Counter(cements)"
   ]
  },
  {
   "cell_type": "code",
   "execution_count": 10,
   "id": "af1bdac7",
   "metadata": {},
   "outputs": [
    {
     "data": {
      "application/javascript": [
       "\n",
       "            setTimeout(function() {\n",
       "                var nbb_cell_id = 10;\n",
       "                var nbb_unformatted_code = \"dataframes = []\\n\\nfor plant, xls in xls_files.items():\\n    for sheet_name in xls.sheet_names[2:]:\\n        df = pd.read_excel(xls_files[plant], sheet_name, header=[0, 1, 2])\\n        df[\\\"Unnamed: 0_level_0\\\", \\\"Unnamed: 0_level_1\\\", \\\"Unnamed: 0_level_2\\\"] = plant\\n        dataframes.append(df.drop([0, 1], axis=0).reset_index(drop=True).copy())\";\n",
       "                var nbb_formatted_code = \"dataframes = []\\n\\nfor plant, xls in xls_files.items():\\n    for sheet_name in xls.sheet_names[2:]:\\n        df = pd.read_excel(xls_files[plant], sheet_name, header=[0, 1, 2])\\n        df[\\\"Unnamed: 0_level_0\\\", \\\"Unnamed: 0_level_1\\\", \\\"Unnamed: 0_level_2\\\"] = plant\\n        dataframes.append(df.drop([0, 1], axis=0).reset_index(drop=True).copy())\";\n",
       "                var nbb_cells = Jupyter.notebook.get_cells();\n",
       "                for (var i = 0; i < nbb_cells.length; ++i) {\n",
       "                    if (nbb_cells[i].input_prompt_number == nbb_cell_id) {\n",
       "                        if (nbb_cells[i].get_text() == nbb_unformatted_code) {\n",
       "                             nbb_cells[i].set_text(nbb_formatted_code);\n",
       "                        }\n",
       "                        break;\n",
       "                    }\n",
       "                }\n",
       "            }, 500);\n",
       "            "
      ],
      "text/plain": [
       "<IPython.core.display.Javascript object>"
      ]
     },
     "metadata": {},
     "output_type": "display_data"
    }
   ],
   "source": [
    "dataframes = []\n",
    "\n",
    "for plant, xls in xls_files.items():\n",
    "    for sheet_name in xls.sheet_names[2:]:\n",
    "        df = pd.read_excel(xls_files[plant], sheet_name, header=[0, 1, 2])\n",
    "        df[\"Unnamed: 0_level_0\", \"Unnamed: 0_level_1\", \"Unnamed: 0_level_2\"] = plant\n",
    "        dataframes.append(df.drop([0, 1], axis=0).reset_index(drop=True).copy())"
   ]
  },
  {
   "cell_type": "code",
   "execution_count": 11,
   "id": "c4919ee2",
   "metadata": {},
   "outputs": [
    {
     "data": {
      "application/javascript": [
       "\n",
       "            setTimeout(function() {\n",
       "                var nbb_cell_id = 11;\n",
       "                var nbb_unformatted_code = \"df = pd.concat(dataframes, axis=0).reset_index(drop=True)\";\n",
       "                var nbb_formatted_code = \"df = pd.concat(dataframes, axis=0).reset_index(drop=True)\";\n",
       "                var nbb_cells = Jupyter.notebook.get_cells();\n",
       "                for (var i = 0; i < nbb_cells.length; ++i) {\n",
       "                    if (nbb_cells[i].input_prompt_number == nbb_cell_id) {\n",
       "                        if (nbb_cells[i].get_text() == nbb_unformatted_code) {\n",
       "                             nbb_cells[i].set_text(nbb_formatted_code);\n",
       "                        }\n",
       "                        break;\n",
       "                    }\n",
       "                }\n",
       "            }, 500);\n",
       "            "
      ],
      "text/plain": [
       "<IPython.core.display.Javascript object>"
      ]
     },
     "metadata": {},
     "output_type": "display_data"
    }
   ],
   "source": [
    "df = pd.concat(dataframes, axis=0).reset_index(drop=True)"
   ]
  },
  {
   "cell_type": "markdown",
   "id": "8dfc7bff",
   "metadata": {},
   "source": [
    "## Initial Preprocessing"
   ]
  },
  {
   "cell_type": "code",
   "execution_count": 12,
   "id": "f360ba12",
   "metadata": {},
   "outputs": [
    {
     "data": {
      "application/javascript": [
       "\n",
       "            setTimeout(function() {\n",
       "                var nbb_cell_id = 12;\n",
       "                var nbb_unformatted_code = \"df = pd.concat(\\n    [\\n        df[\\\"Unnamed: 0_level_0\\\", \\\"Unnamed: 0_level_1\\\", \\\"Unnamed: 0_level_2\\\"],\\n        df[\\\"Dados iniciais\\\"],\\n        df[\\\"Cimento\\\"][\\\"An\\u00e1lise qu\\u00edmica\\\"],\\n        df[\\\"Caracter\\u00edstias f\\u00edsicas do cimento\\\"],\\n        df[\\\"Propriedades do cimento\\\"],\\n    ],\\n    axis=1,\\n)\";\n",
       "                var nbb_formatted_code = \"df = pd.concat(\\n    [\\n        df[\\\"Unnamed: 0_level_0\\\", \\\"Unnamed: 0_level_1\\\", \\\"Unnamed: 0_level_2\\\"],\\n        df[\\\"Dados iniciais\\\"],\\n        df[\\\"Cimento\\\"][\\\"An\\u00e1lise qu\\u00edmica\\\"],\\n        df[\\\"Caracter\\u00edstias f\\u00edsicas do cimento\\\"],\\n        df[\\\"Propriedades do cimento\\\"],\\n    ],\\n    axis=1,\\n)\";\n",
       "                var nbb_cells = Jupyter.notebook.get_cells();\n",
       "                for (var i = 0; i < nbb_cells.length; ++i) {\n",
       "                    if (nbb_cells[i].input_prompt_number == nbb_cell_id) {\n",
       "                        if (nbb_cells[i].get_text() == nbb_unformatted_code) {\n",
       "                             nbb_cells[i].set_text(nbb_formatted_code);\n",
       "                        }\n",
       "                        break;\n",
       "                    }\n",
       "                }\n",
       "            }, 500);\n",
       "            "
      ],
      "text/plain": [
       "<IPython.core.display.Javascript object>"
      ]
     },
     "metadata": {},
     "output_type": "display_data"
    }
   ],
   "source": [
    "df = pd.concat(\n",
    "    [\n",
    "        df[\"Unnamed: 0_level_0\", \"Unnamed: 0_level_1\", \"Unnamed: 0_level_2\"],\n",
    "        df[\"Dados iniciais\"],\n",
    "        df[\"Cimento\"][\"Análise química\"],\n",
    "        df[\"Característias físicas do cimento\"],\n",
    "        df[\"Propriedades do cimento\"],\n",
    "    ],\n",
    "    axis=1,\n",
    ")"
   ]
  },
  {
   "cell_type": "markdown",
   "id": "e1b4b617",
   "metadata": {},
   "source": [
    "### 1. Dropping columns where either there is no data nor it contributes to the analysis\n",
    "### 2. Renaming columns to a short identifiable name"
   ]
  },
  {
   "cell_type": "code",
   "execution_count": 13,
   "id": "ecb5184c",
   "metadata": {},
   "outputs": [
    {
     "data": {
      "application/javascript": [
       "\n",
       "            setTimeout(function() {\n",
       "                var nbb_cell_id = 13;\n",
       "                var nbb_unformatted_code = \"COLUMNS_TO_DROP = [\\n    (\\\"Data\\\", \\\"Medida\\\"),\\n    (\\\"Hor\\u00e1rio\\\", \\\"Produ\\u00e7\\u00e3o\\\"),\\n    (\\\"Hor\\u00e1rio\\\", \\\"Medida\\\"),\\n    (\\\"Obs.\\\", \\\"Unnamed: 148_level_2\\\"),\\n    (\\\"Tipo de cimento\\\", \\\"Unnamed: 6_level_2\\\"),\\n    (\\\"Classe de resist\\u00eancia\\\", \\\"Unnamed: 7_level_2\\\"),\\n    (\\\"Obs.\\\", \\\"Unnamed: 8_level_2\\\"),\\n    \\\"Obs.\\\",\\n    (\\\"Obs.\\\", \\\"Unnamed: 148_level_2\\\"),\\n    (\\\"Unnamed: 141_level_1\\\", \\\"Obs.\\\"),\\n    # (\\\"Unnamed: 139_level_1\\\", \\\"#400\\\"),\\n]\\n\\nCOLUMNS_TO_RENAME = {\\n    (\\\"Unnamed: 0_level_0\\\", \\\"Unnamed: 0_level_1\\\", \\\"Unnamed: 0_level_2\\\"): \\\"Plant\\\",\\n    (\\\"Cidade\\\", \\\"Unnamed: 1_level_2\\\"): \\\"City\\\",\\n    (\\\"Data\\\", \\\"Produ\\u00e7\\u00e3o\\\"): \\\"Date\\\",  # Arrumar!\\n    (\\\"Unnamed: 136_level_1\\\", \\\"Blaine\\\"): \\\"Blaine\\\",\\n    (\\\"Unnamed: 137_level_1\\\", \\\"#200\\\"): \\\"#200\\\",\\n    (\\\"Unnamed: 138_level_1\\\", \\\"#325\\\"): \\\"#325\\\",\\n    (\\\"Unnamed: 139_level_1\\\", \\\"#400\\\"): \\\"#400\\\",\\n    (\\\"Unnamed: 140_level_1\\\", \\\"Massa espec\\u00edfica\\\"): \\\"Specific Gravity\\\",\\n    (\\\"Tempo de pega\\\", \\\"Inicio\\\"): \\\"Initial setting time\\\",\\n    (\\\"Tempo de pega\\\", \\\"Fim\\\"): \\\"Final setting time\\\",\\n    (\\\"Resist\\u00eancia \\u00e0 compress\\u00e3o\\\", \\\"1 d\\\"): \\\"CS1\\\",\\n    (\\\"Resist\\u00eancia \\u00e0 compress\\u00e3o\\\", \\\"3 d\\\"): \\\"CS3\\\",\\n    (\\\"Resist\\u00eancia \\u00e0 compress\\u00e3o\\\", \\\"7 d\\\"): \\\"CS7\\\",\\n    (\\\"Resist\\u00eancia \\u00e0 compress\\u00e3o\\\", \\\"28 d\\\"): \\\"CS28\\\",\\n    \\\"Perda ao fogo\\\": \\\"Loss on Ignition\\\",\\n    \\\"Res\\u00edduo insol\\u00favel\\\": \\\"Insoluble Residue\\\",\\n}\";\n",
       "                var nbb_formatted_code = \"COLUMNS_TO_DROP = [\\n    (\\\"Data\\\", \\\"Medida\\\"),\\n    (\\\"Hor\\u00e1rio\\\", \\\"Produ\\u00e7\\u00e3o\\\"),\\n    (\\\"Hor\\u00e1rio\\\", \\\"Medida\\\"),\\n    (\\\"Obs.\\\", \\\"Unnamed: 148_level_2\\\"),\\n    (\\\"Tipo de cimento\\\", \\\"Unnamed: 6_level_2\\\"),\\n    (\\\"Classe de resist\\u00eancia\\\", \\\"Unnamed: 7_level_2\\\"),\\n    (\\\"Obs.\\\", \\\"Unnamed: 8_level_2\\\"),\\n    \\\"Obs.\\\",\\n    (\\\"Obs.\\\", \\\"Unnamed: 148_level_2\\\"),\\n    (\\\"Unnamed: 141_level_1\\\", \\\"Obs.\\\"),\\n    # (\\\"Unnamed: 139_level_1\\\", \\\"#400\\\"),\\n]\\n\\nCOLUMNS_TO_RENAME = {\\n    (\\\"Unnamed: 0_level_0\\\", \\\"Unnamed: 0_level_1\\\", \\\"Unnamed: 0_level_2\\\"): \\\"Plant\\\",\\n    (\\\"Cidade\\\", \\\"Unnamed: 1_level_2\\\"): \\\"City\\\",\\n    (\\\"Data\\\", \\\"Produ\\u00e7\\u00e3o\\\"): \\\"Date\\\",  # Arrumar!\\n    (\\\"Unnamed: 136_level_1\\\", \\\"Blaine\\\"): \\\"Blaine\\\",\\n    (\\\"Unnamed: 137_level_1\\\", \\\"#200\\\"): \\\"#200\\\",\\n    (\\\"Unnamed: 138_level_1\\\", \\\"#325\\\"): \\\"#325\\\",\\n    (\\\"Unnamed: 139_level_1\\\", \\\"#400\\\"): \\\"#400\\\",\\n    (\\\"Unnamed: 140_level_1\\\", \\\"Massa espec\\u00edfica\\\"): \\\"Specific Gravity\\\",\\n    (\\\"Tempo de pega\\\", \\\"Inicio\\\"): \\\"Initial setting time\\\",\\n    (\\\"Tempo de pega\\\", \\\"Fim\\\"): \\\"Final setting time\\\",\\n    (\\\"Resist\\u00eancia \\u00e0 compress\\u00e3o\\\", \\\"1 d\\\"): \\\"CS1\\\",\\n    (\\\"Resist\\u00eancia \\u00e0 compress\\u00e3o\\\", \\\"3 d\\\"): \\\"CS3\\\",\\n    (\\\"Resist\\u00eancia \\u00e0 compress\\u00e3o\\\", \\\"7 d\\\"): \\\"CS7\\\",\\n    (\\\"Resist\\u00eancia \\u00e0 compress\\u00e3o\\\", \\\"28 d\\\"): \\\"CS28\\\",\\n    \\\"Perda ao fogo\\\": \\\"Loss on Ignition\\\",\\n    \\\"Res\\u00edduo insol\\u00favel\\\": \\\"Insoluble Residue\\\",\\n}\";\n",
       "                var nbb_cells = Jupyter.notebook.get_cells();\n",
       "                for (var i = 0; i < nbb_cells.length; ++i) {\n",
       "                    if (nbb_cells[i].input_prompt_number == nbb_cell_id) {\n",
       "                        if (nbb_cells[i].get_text() == nbb_unformatted_code) {\n",
       "                             nbb_cells[i].set_text(nbb_formatted_code);\n",
       "                        }\n",
       "                        break;\n",
       "                    }\n",
       "                }\n",
       "            }, 500);\n",
       "            "
      ],
      "text/plain": [
       "<IPython.core.display.Javascript object>"
      ]
     },
     "metadata": {},
     "output_type": "display_data"
    }
   ],
   "source": [
    "COLUMNS_TO_DROP = [\n",
    "    (\"Data\", \"Medida\"),\n",
    "    (\"Horário\", \"Produção\"),\n",
    "    (\"Horário\", \"Medida\"),\n",
    "    (\"Obs.\", \"Unnamed: 148_level_2\"),\n",
    "    (\"Tipo de cimento\", \"Unnamed: 6_level_2\"),\n",
    "    (\"Classe de resistência\", \"Unnamed: 7_level_2\"),\n",
    "    (\"Obs.\", \"Unnamed: 8_level_2\"),\n",
    "    \"Obs.\",\n",
    "    (\"Obs.\", \"Unnamed: 148_level_2\"),\n",
    "    (\"Unnamed: 141_level_1\", \"Obs.\"),\n",
    "    # (\"Unnamed: 139_level_1\", \"#400\"),\n",
    "]\n",
    "\n",
    "COLUMNS_TO_RENAME = {\n",
    "    (\"Unnamed: 0_level_0\", \"Unnamed: 0_level_1\", \"Unnamed: 0_level_2\"): \"Plant\",\n",
    "    (\"Cidade\", \"Unnamed: 1_level_2\"): \"City\",\n",
    "    (\"Data\", \"Produção\"): \"Date\",  # Arrumar!\n",
    "    (\"Unnamed: 136_level_1\", \"Blaine\"): \"Blaine\",\n",
    "    (\"Unnamed: 137_level_1\", \"#200\"): \"#200\",\n",
    "    (\"Unnamed: 138_level_1\", \"#325\"): \"#325\",\n",
    "    (\"Unnamed: 139_level_1\", \"#400\"): \"#400\",\n",
    "    (\"Unnamed: 140_level_1\", \"Massa específica\"): \"Specific Gravity\",\n",
    "    (\"Tempo de pega\", \"Inicio\"): \"Initial setting time\",\n",
    "    (\"Tempo de pega\", \"Fim\"): \"Final setting time\",\n",
    "    (\"Resistência à compressão\", \"1 d\"): \"CS1\",\n",
    "    (\"Resistência à compressão\", \"3 d\"): \"CS3\",\n",
    "    (\"Resistência à compressão\", \"7 d\"): \"CS7\",\n",
    "    (\"Resistência à compressão\", \"28 d\"): \"CS28\",\n",
    "    \"Perda ao fogo\": \"Loss on Ignition\",\n",
    "    \"Resíduo insolúvel\": \"Insoluble Residue\",\n",
    "}"
   ]
  },
  {
   "cell_type": "markdown",
   "id": "9bdcff5b",
   "metadata": {},
   "source": [
    "### Defining a single variable to identify Cement Type"
   ]
  },
  {
   "cell_type": "code",
   "execution_count": 14,
   "id": "92ed1dd2",
   "metadata": {},
   "outputs": [
    {
     "data": {
      "application/javascript": [
       "\n",
       "            setTimeout(function() {\n",
       "                var nbb_cell_id = 14;\n",
       "                var nbb_unformatted_code = \"# Single variable for the Cement Type\\ndf[\\\"Cement_Type\\\"] = (\\n    df[\\n        [\\n            (\\\"Tipo de cimento\\\", \\\"Unnamed: 6_level_2\\\"),\\n            (\\\"Classe de resist\\u00eancia\\\", \\\"Unnamed: 7_level_2\\\"),\\n            (\\\"Obs.\\\", \\\"Unnamed: 8_level_2\\\"),\\n        ]\\n    ]\\n    .fillna(\\\"\\\")\\n    .astype(str)\\n    .sum(axis=1)\\n)\\n\\n# Preprocessing\\ndf[\\\"Cement_Type\\\"] = (\\n    df[\\\"Cement_Type\\\"]\\n    .str.replace(\\\"Expedido\\\", \\\"\\\")\\n    .str.replace(\\\"Linha 9\\\", \\\"\\\")\\n    .str.replace(\\\"Itaja\\u00ed\\\", \\\"\\\")\\n    .str.replace(\\\"D-G\\\", \\\"\\\")\\n    .str.replace(\\\"D-E\\\", \\\"\\\")\\n    .str.replace(\\\"DF2\\\", \\\"\\\")\\n    .str.replace(\\\"CPIIF40\\\", \\\"CP II-F-40\\\")\\n    .str.replace(\\\"CPIIF40\\\", \\\"CP II-F40\\\")\\n    .str.replace(\\\"CP VARI\\\", \\\"CP V-ARI\\\")\\n    .str.replace(\\\"CPVARI\\\", \\\"CP V-ARI\\\")\\n    .str.replace(\\\"CP V-RSARI\\\", \\\"CP V-ARI RS\\\")\\n    .str.replace(\\\"CP III-RS40\\\", \\\"CP III-40 RS\\\")\\n    .str.replace(\\\"CP III-RS32\\\", \\\"CP III-32 RS\\\")\\n    .str.replace(\\\"CP IV-RS32\\\", \\\"CP IV-32 RS\\\")\\n    .str.replace(\\\"CP III40\\\", \\\"CP III-40\\\")\\n    .str.replace(\\\"CP III32\\\", \\\"CP III-32\\\")\\n    .str.replace(\\\"CP I-S40\\\", \\\"CP I-S-40\\\")\\n    .str.replace(\\\"CP I40\\\", \\\"CP I-40\\\")\\n    .str.replace(\\\"CP II-E32\\\", \\\"CP II-E-32\\\")\\n    .str.replace(\\\"CP II-E40\\\", \\\"CP II-E-40\\\")\\n    .str.replace(\\\"CP II-F FIBRO40\\\", \\\"CP II-F-40\\\")\\n    .str.replace(\\\"CP II-F32\\\", \\\"CP II-F-32\\\")\\n    .str.replace(\\\"CP II-F40\\\", \\\"CP II-F-40\\\")\\n    .str.replace(\\\"CP II-Z32\\\", \\\"CP II-Z-32\\\")\\n    .str.replace(\\\"CP II-Z40\\\", \\\"CP II-Z-40\\\")\\n    .str.replace(\\\"CP IV32\\\", \\\"CP IV-32\\\")\\n    .str.replace(\\\"CP IND\\\", \\\"CP I\\\")\\n    .str.replace(\\\"CPINDCC\\\", \\\"CP I\\\")\\n    .str.strip()\\n)\\n\\ndf = df.drop(COLUMNS_TO_DROP, axis=1).rename(COLUMNS_TO_RENAME, axis=1).copy()\\ndf = df.drop([0]).reset_index(drop=True)\\ndf = df.infer_objects()\";\n",
       "                var nbb_formatted_code = \"# Single variable for the Cement Type\\ndf[\\\"Cement_Type\\\"] = (\\n    df[\\n        [\\n            (\\\"Tipo de cimento\\\", \\\"Unnamed: 6_level_2\\\"),\\n            (\\\"Classe de resist\\u00eancia\\\", \\\"Unnamed: 7_level_2\\\"),\\n            (\\\"Obs.\\\", \\\"Unnamed: 8_level_2\\\"),\\n        ]\\n    ]\\n    .fillna(\\\"\\\")\\n    .astype(str)\\n    .sum(axis=1)\\n)\\n\\n# Preprocessing\\ndf[\\\"Cement_Type\\\"] = (\\n    df[\\\"Cement_Type\\\"]\\n    .str.replace(\\\"Expedido\\\", \\\"\\\")\\n    .str.replace(\\\"Linha 9\\\", \\\"\\\")\\n    .str.replace(\\\"Itaja\\u00ed\\\", \\\"\\\")\\n    .str.replace(\\\"D-G\\\", \\\"\\\")\\n    .str.replace(\\\"D-E\\\", \\\"\\\")\\n    .str.replace(\\\"DF2\\\", \\\"\\\")\\n    .str.replace(\\\"CPIIF40\\\", \\\"CP II-F-40\\\")\\n    .str.replace(\\\"CPIIF40\\\", \\\"CP II-F40\\\")\\n    .str.replace(\\\"CP VARI\\\", \\\"CP V-ARI\\\")\\n    .str.replace(\\\"CPVARI\\\", \\\"CP V-ARI\\\")\\n    .str.replace(\\\"CP V-RSARI\\\", \\\"CP V-ARI RS\\\")\\n    .str.replace(\\\"CP III-RS40\\\", \\\"CP III-40 RS\\\")\\n    .str.replace(\\\"CP III-RS32\\\", \\\"CP III-32 RS\\\")\\n    .str.replace(\\\"CP IV-RS32\\\", \\\"CP IV-32 RS\\\")\\n    .str.replace(\\\"CP III40\\\", \\\"CP III-40\\\")\\n    .str.replace(\\\"CP III32\\\", \\\"CP III-32\\\")\\n    .str.replace(\\\"CP I-S40\\\", \\\"CP I-S-40\\\")\\n    .str.replace(\\\"CP I40\\\", \\\"CP I-40\\\")\\n    .str.replace(\\\"CP II-E32\\\", \\\"CP II-E-32\\\")\\n    .str.replace(\\\"CP II-E40\\\", \\\"CP II-E-40\\\")\\n    .str.replace(\\\"CP II-F FIBRO40\\\", \\\"CP II-F-40\\\")\\n    .str.replace(\\\"CP II-F32\\\", \\\"CP II-F-32\\\")\\n    .str.replace(\\\"CP II-F40\\\", \\\"CP II-F-40\\\")\\n    .str.replace(\\\"CP II-Z32\\\", \\\"CP II-Z-32\\\")\\n    .str.replace(\\\"CP II-Z40\\\", \\\"CP II-Z-40\\\")\\n    .str.replace(\\\"CP IV32\\\", \\\"CP IV-32\\\")\\n    .str.replace(\\\"CP IND\\\", \\\"CP I\\\")\\n    .str.replace(\\\"CPINDCC\\\", \\\"CP I\\\")\\n    .str.strip()\\n)\\n\\ndf = df.drop(COLUMNS_TO_DROP, axis=1).rename(COLUMNS_TO_RENAME, axis=1).copy()\\ndf = df.drop([0]).reset_index(drop=True)\\ndf = df.infer_objects()\";\n",
       "                var nbb_cells = Jupyter.notebook.get_cells();\n",
       "                for (var i = 0; i < nbb_cells.length; ++i) {\n",
       "                    if (nbb_cells[i].input_prompt_number == nbb_cell_id) {\n",
       "                        if (nbb_cells[i].get_text() == nbb_unformatted_code) {\n",
       "                             nbb_cells[i].set_text(nbb_formatted_code);\n",
       "                        }\n",
       "                        break;\n",
       "                    }\n",
       "                }\n",
       "            }, 500);\n",
       "            "
      ],
      "text/plain": [
       "<IPython.core.display.Javascript object>"
      ]
     },
     "metadata": {},
     "output_type": "display_data"
    }
   ],
   "source": [
    "# Single variable for the Cement Type\n",
    "df[\"Cement_Type\"] = (\n",
    "    df[\n",
    "        [\n",
    "            (\"Tipo de cimento\", \"Unnamed: 6_level_2\"),\n",
    "            (\"Classe de resistência\", \"Unnamed: 7_level_2\"),\n",
    "            (\"Obs.\", \"Unnamed: 8_level_2\"),\n",
    "        ]\n",
    "    ]\n",
    "    .fillna(\"\")\n",
    "    .astype(str)\n",
    "    .sum(axis=1)\n",
    ")\n",
    "\n",
    "# Preprocessing\n",
    "df[\"Cement_Type\"] = (\n",
    "    df[\"Cement_Type\"]\n",
    "    .str.replace(\"Expedido\", \"\")\n",
    "    .str.replace(\"Linha 9\", \"\")\n",
    "    .str.replace(\"Itajaí\", \"\")\n",
    "    .str.replace(\"D-G\", \"\")\n",
    "    .str.replace(\"D-E\", \"\")\n",
    "    .str.replace(\"DF2\", \"\")\n",
    "    .str.replace(\"CPIIF40\", \"CP II-F-40\")\n",
    "    .str.replace(\"CPIIF40\", \"CP II-F40\")\n",
    "    .str.replace(\"CP VARI\", \"CP V-ARI\")\n",
    "    .str.replace(\"CPVARI\", \"CP V-ARI\")\n",
    "    .str.replace(\"CP V-RSARI\", \"CP V-ARI RS\")\n",
    "    .str.replace(\"CP III-RS40\", \"CP III-40 RS\")\n",
    "    .str.replace(\"CP III-RS32\", \"CP III-32 RS\")\n",
    "    .str.replace(\"CP IV-RS32\", \"CP IV-32 RS\")\n",
    "    .str.replace(\"CP III40\", \"CP III-40\")\n",
    "    .str.replace(\"CP III32\", \"CP III-32\")\n",
    "    .str.replace(\"CP I-S40\", \"CP I-S-40\")\n",
    "    .str.replace(\"CP I40\", \"CP I-40\")\n",
    "    .str.replace(\"CP II-E32\", \"CP II-E-32\")\n",
    "    .str.replace(\"CP II-E40\", \"CP II-E-40\")\n",
    "    .str.replace(\"CP II-F FIBRO40\", \"CP II-F-40\")\n",
    "    .str.replace(\"CP II-F32\", \"CP II-F-32\")\n",
    "    .str.replace(\"CP II-F40\", \"CP II-F-40\")\n",
    "    .str.replace(\"CP II-Z32\", \"CP II-Z-32\")\n",
    "    .str.replace(\"CP II-Z40\", \"CP II-Z-40\")\n",
    "    .str.replace(\"CP IV32\", \"CP IV-32\")\n",
    "    .str.replace(\"CP IND\", \"CP I\")\n",
    "    .str.replace(\"CPINDCC\", \"CP I\")\n",
    "    .str.strip()\n",
    ")\n",
    "\n",
    "df = df.drop(COLUMNS_TO_DROP, axis=1).rename(COLUMNS_TO_RENAME, axis=1).copy()\n",
    "df = df.drop([0]).reset_index(drop=True)\n",
    "df = df.infer_objects()"
   ]
  },
  {
   "cell_type": "markdown",
   "id": "2a390ebe",
   "metadata": {},
   "source": [
    "### Dropping and rename the columns defined above"
   ]
  },
  {
   "cell_type": "markdown",
   "id": "6a4c9913",
   "metadata": {},
   "source": [
    "### Cleaning and converting numeric columns to float"
   ]
  },
  {
   "cell_type": "code",
   "execution_count": 15,
   "id": "20719532",
   "metadata": {
    "scrolled": false
   },
   "outputs": [
    {
     "name": "stdout",
     "output_type": "stream",
     "text": [
      "could not convert string to float: ' '\n",
      "could not convert string to float: ' '\n",
      "could not convert string to float: ' '\n",
      "could not convert string to float: ' '\n",
      "could not convert string to float: ' '\n",
      "could not convert string to float: ' '\n",
      "could not convert string to float: ' '\n",
      "could not convert string to float: ' '\n",
      "could not convert string to float: ' '\n",
      "could not convert string to float: ' '\n",
      "could not convert string to float: ' '\n",
      "could not convert string to float: ' '\n",
      "could not convert string to float: ' '\n",
      "could not convert string to float: ' '\n",
      "could not convert string to float: ' '\n",
      "could not convert string to float: ' '\n",
      "could not convert string to float: ' '\n",
      "could not convert string to float: ' '\n",
      "could not convert string to float: ' '\n",
      "could not convert string to float: ' '\n",
      "could not convert string to float: ' '\n",
      "could not convert string to float: ' '\n",
      "could not convert string to float: ' '\n",
      "could not convert string to float: ' '\n",
      "could not convert string to float: ' '\n",
      "could not convert string to float: ' '\n",
      "could not convert string to float: ' '\n",
      "could not convert string to float: ' '\n",
      "could not convert string to float: ' '\n",
      "could not convert string to float: ' '\n",
      "could not convert string to float: ' '\n",
      "could not convert string to float: ' '\n",
      "could not convert string to float: ' '\n",
      "could not convert string to float: ' '\n",
      "could not convert string to float: ' '\n",
      "could not convert string to float: ' '\n",
      "could not convert string to float: ' '\n",
      "could not convert string to float: ' '\n",
      "could not convert string to float: ' '\n",
      "could not convert string to float: ' '\n",
      "could not convert string to float: ' '\n",
      "could not convert string to float: ' '\n",
      "could not convert string to float: ' '\n",
      "could not convert string to float: ' '\n",
      "could not convert string to float: ' '\n",
      "could not convert string to float: ' '\n",
      "could not convert string to float: ' '\n",
      "could not convert string to float: ' '\n",
      "could not convert string to float: ' '\n",
      "could not convert string to float: ' '\n",
      "could not convert string to float: ' '\n",
      "could not convert string to float: ' '\n",
      "could not convert string to float: ' '\n",
      "could not convert string to float: ' '\n",
      "could not convert string to float: ' '\n",
      "could not convert string to float: ' '\n",
      "could not convert string to float: ' '\n",
      "could not convert string to float: ' '\n",
      "could not convert string to float: ' '\n",
      "could not convert string to float: ' '\n",
      "could not convert string to float: ' '\n",
      "could not convert string to float: ' '\n",
      "could not convert string to float: ' '\n",
      "could not convert string to float: ' '\n",
      "could not convert string to float: ' '\n",
      "could not convert string to float: ' '\n",
      "could not convert string to float: ' '\n",
      "could not convert string to float: ' '\n",
      "could not convert string to float: ' '\n",
      "could not convert string to float: ' '\n",
      "could not convert string to float: ' '\n",
      "could not convert string to float: ' '\n",
      "could not convert string to float: ' '\n",
      "could not convert string to float: ' '\n",
      "could not convert string to float: ' '\n",
      "could not convert string to float: ' '\n",
      "could not convert string to float: ' '\n",
      "could not convert string to float: ' '\n",
      "could not convert string to float: ' '\n",
      "could not convert string to float: ' '\n",
      "could not convert string to float: ' '\n",
      "could not convert string to float: ' '\n",
      "could not convert string to float: ' '\n",
      "could not convert string to float: ' '\n",
      "could not convert string to float: ' '\n",
      "could not convert string to float: ' '\n",
      "could not convert string to float: ' '\n",
      "could not convert string to float: ' '\n",
      "could not convert string to float: ' '\n",
      "could not convert string to float: ' '\n",
      "could not convert string to float: ' '\n",
      "could not convert string to float: ' '\n",
      "could not convert string to float: ' '\n",
      "could not convert string to float: ' '\n",
      "could not convert string to float: ' '\n",
      "could not convert string to float: ' '\n",
      "could not convert string to float: ' '\n",
      "could not convert string to float: ' '\n",
      "could not convert string to float: ' '\n",
      "could not convert string to float: ' '\n",
      "could not convert string to float: ' '\n",
      "could not convert string to float: ' '\n",
      "could not convert string to float: ' '\n",
      "could not convert string to float: ' '\n",
      "could not convert string to float: ' '\n",
      "could not convert string to float: ' '\n",
      "could not convert string to float: ' '\n",
      "could not convert string to float: ' '\n",
      "could not convert string to float: ' '\n",
      "could not convert string to float: ' '\n",
      "could not convert string to float: ' '\n",
      "could not convert string to float: ' '\n",
      "could not convert string to float: ' '\n",
      "could not convert string to float: ' '\n",
      "could not convert string to float: ' '\n",
      "could not convert string to float: ' '\n",
      "could not convert string to float: ' '\n",
      "could not convert string to float: ' '\n",
      "could not convert string to float: ' '\n",
      "could not convert string to float: ' '\n",
      "could not convert string to float: ' '\n",
      "could not convert string to float: ' '\n",
      "could not convert string to float: ' '\n",
      "could not convert string to float: ' '\n",
      "could not convert string to float: ' '\n",
      "could not convert string to float: ' '\n",
      "could not convert string to float: ' '\n",
      "could not convert string to float: ' '\n",
      "could not convert string to float: ' '\n",
      "could not convert string to float: ' '\n",
      "could not convert string to float: ' '\n",
      "could not convert string to float: ' '\n",
      "could not convert string to float: ' '\n",
      "could not convert string to float: ' '\n",
      "could not convert string to float: ' '\n",
      "could not convert string to float: ' '\n",
      "could not convert string to float: ' '\n",
      "could not convert string to float: ' '\n",
      "could not convert string to float: ' '\n",
      "could not convert string to float: ' '\n",
      "could not convert string to float: ' '\n",
      "could not convert string to float: ' '\n",
      "could not convert string to float: ' '\n",
      "could not convert string to float: ' '\n",
      "could not convert string to float: ' '\n",
      "could not convert string to float: ' '\n",
      "could not convert string to float: ' '\n",
      "could not convert string to float: ' '\n",
      "could not convert string to float: ' '\n",
      "could not convert string to float: ' '\n",
      "could not convert string to float: ' '\n",
      "could not convert string to float: ' '\n",
      "could not convert string to float: ' '\n",
      "could not convert string to float: ' '\n",
      "could not convert string to float: ' '\n",
      "could not convert string to float: ' '\n",
      "could not convert string to float: ' '\n",
      "could not convert string to float: ' '\n",
      "could not convert string to float: ' '\n",
      "could not convert string to float: ' '\n",
      "could not convert string to float: ' '\n",
      "could not convert string to float: ' '\n",
      "could not convert string to float: ' '\n",
      "could not convert string to float: ' '\n",
      "could not convert string to float: ' '\n",
      "could not convert string to float: ' '\n",
      "could not convert string to float: ' '\n",
      "could not convert string to float: ' '\n",
      "could not convert string to float: ' '\n",
      "could not convert string to float: ' '\n",
      "could not convert string to float: ' '\n",
      "could not convert string to float: ' '\n",
      "could not convert string to float: ' '\n",
      "could not convert string to float: ' '\n",
      "could not convert string to float: ' '\n",
      "could not convert string to float: ' '\n",
      "could not convert string to float: ' '\n",
      "could not convert string to float: ' '\n",
      "could not convert string to float: ' '\n",
      "could not convert string to float: ' '\n",
      "could not convert string to float: ' '\n",
      "could not convert string to float: ' '\n",
      "could not convert string to float: ' '\n",
      "could not convert string to float: ' '\n",
      "could not convert string to float: ' '\n",
      "could not convert string to float: ' '\n",
      "could not convert string to float: ' '\n",
      "could not convert string to float: ' '\n",
      "could not convert string to float: ' '\n",
      "could not convert string to float: ' '\n",
      "could not convert string to float: ' '\n",
      "could not convert string to float: ' '\n",
      "could not convert string to float: ' '\n",
      "could not convert string to float: ' '\n",
      "could not convert string to float: ' '\n",
      "could not convert string to float: ' '\n",
      "could not convert string to float: ' '\n",
      "could not convert string to float: ' '\n",
      "could not convert string to float: ' '\n",
      "could not convert string to float: ' '\n",
      "could not convert string to float: ' '\n",
      "could not convert string to float: ' '\n",
      "could not convert string to float: ' '\n",
      "could not convert string to float: ' '\n",
      "could not convert string to float: ' '\n",
      "could not convert string to float: ' '\n",
      "could not convert string to float: ' '\n",
      "could not convert string to float: ' '\n",
      "could not convert string to float: ' '\n",
      "could not convert string to float: ' '\n",
      "could not convert string to float: ' '\n",
      "could not convert string to float: ' '\n",
      "could not convert string to float: ' '\n",
      "could not convert string to float: ' '\n",
      "could not convert string to float: ' '\n",
      "could not convert string to float: ' '\n",
      "could not convert string to float: ' '\n",
      "could not convert string to float: ' '\n",
      "could not convert string to float: ' '\n",
      "could not convert string to float: ' '\n",
      "could not convert string to float: ' '\n",
      "could not convert string to float: ' '\n",
      "could not convert string to float: ' '\n",
      "could not convert string to float: ' '\n",
      "could not convert string to float: ' '\n",
      "could not convert string to float: ' '\n",
      "could not convert string to float: ' '\n",
      "could not convert string to float: ' '\n",
      "could not convert string to float: ' '\n",
      "could not convert string to float: ' '\n",
      "could not convert string to float: ' '\n",
      "could not convert string to float: ' '\n",
      "could not convert string to float: ' '\n",
      "could not convert string to float: ' '\n",
      "could not convert string to float: ' '\n",
      "could not convert string to float: ' '\n",
      "could not convert string to float: ' '\n",
      "could not convert string to float: ' '\n",
      "could not convert string to float: ' '\n"
     ]
    },
    {
     "data": {
      "application/javascript": [
       "\n",
       "            setTimeout(function() {\n",
       "                var nbb_cell_id = 15;\n",
       "                var nbb_unformatted_code = \"NUMERIC_COLUMNS = [\\n    \\\"CaO\\\",\\n    \\\"MgO\\\",\\n    \\\"Na2O\\\",\\n    \\\"Al2O3\\\",\\n    \\\"SiO2\\\",\\n    \\\"SO3\\\",\\n    \\\"K2O\\\",\\n    \\\"TiO2\\\",\\n    \\\"Fe2O3\\\",\\n    \\\"Loss on Ignition\\\",\\n    \\\"Insoluble Residue\\\",\\n    \\\"Blaine\\\",\\n    \\\"#200\\\",\\n    \\\"#325\\\",\\n    \\\"#400\\\",\\n    \\\"Specific Gravity\\\",\\n    \\\"Final setting time\\\",\\n    \\\"Initial setting time\\\",\\n    \\\"CS1\\\",\\n    \\\"CS3\\\",\\n    \\\"CS7\\\",\\n    \\\"CS28\\\",\\n]\\n\\ndf = preprocess_numeric_cols(df, NUMERIC_COLUMNS)\\n\\n# Preprocessing to fix numeric columns\\ndf[NUMERIC_COLUMNS] = df[NUMERIC_COLUMNS].map(convert_to_float)\\n\\n# Converting Date to pandas datetime\\ndf[\\\"Date\\\"] = pd.to_datetime(df[\\\"Date\\\"])\\n\\n# Drop rows completely missing\\nindex_to_keep = (\\n    df.drop([\\\"Plant\\\", \\\"Date\\\", \\\"Cement_Type\\\"], axis=1).dropna(axis=0, how=\\\"all\\\").index\\n)\\ndf = df.iloc[index_to_keep].reset_index(drop=True)\\n\\ndf = df.infer_objects()\";\n",
       "                var nbb_formatted_code = \"NUMERIC_COLUMNS = [\\n    \\\"CaO\\\",\\n    \\\"MgO\\\",\\n    \\\"Na2O\\\",\\n    \\\"Al2O3\\\",\\n    \\\"SiO2\\\",\\n    \\\"SO3\\\",\\n    \\\"K2O\\\",\\n    \\\"TiO2\\\",\\n    \\\"Fe2O3\\\",\\n    \\\"Loss on Ignition\\\",\\n    \\\"Insoluble Residue\\\",\\n    \\\"Blaine\\\",\\n    \\\"#200\\\",\\n    \\\"#325\\\",\\n    \\\"#400\\\",\\n    \\\"Specific Gravity\\\",\\n    \\\"Final setting time\\\",\\n    \\\"Initial setting time\\\",\\n    \\\"CS1\\\",\\n    \\\"CS3\\\",\\n    \\\"CS7\\\",\\n    \\\"CS28\\\",\\n]\\n\\ndf = preprocess_numeric_cols(df, NUMERIC_COLUMNS)\\n\\n# Preprocessing to fix numeric columns\\ndf[NUMERIC_COLUMNS] = df[NUMERIC_COLUMNS].map(convert_to_float)\\n\\n# Converting Date to pandas datetime\\ndf[\\\"Date\\\"] = pd.to_datetime(df[\\\"Date\\\"])\\n\\n# Drop rows completely missing\\nindex_to_keep = (\\n    df.drop([\\\"Plant\\\", \\\"Date\\\", \\\"Cement_Type\\\"], axis=1).dropna(axis=0, how=\\\"all\\\").index\\n)\\ndf = df.iloc[index_to_keep].reset_index(drop=True)\\n\\ndf = df.infer_objects()\";\n",
       "                var nbb_cells = Jupyter.notebook.get_cells();\n",
       "                for (var i = 0; i < nbb_cells.length; ++i) {\n",
       "                    if (nbb_cells[i].input_prompt_number == nbb_cell_id) {\n",
       "                        if (nbb_cells[i].get_text() == nbb_unformatted_code) {\n",
       "                             nbb_cells[i].set_text(nbb_formatted_code);\n",
       "                        }\n",
       "                        break;\n",
       "                    }\n",
       "                }\n",
       "            }, 500);\n",
       "            "
      ],
      "text/plain": [
       "<IPython.core.display.Javascript object>"
      ]
     },
     "metadata": {},
     "output_type": "display_data"
    }
   ],
   "source": [
    "NUMERIC_COLUMNS = [\n",
    "    \"CaO\",\n",
    "    \"MgO\",\n",
    "    \"Na2O\",\n",
    "    \"Al2O3\",\n",
    "    \"SiO2\",\n",
    "    \"SO3\",\n",
    "    \"K2O\",\n",
    "    \"TiO2\",\n",
    "    \"Fe2O3\",\n",
    "    \"Loss on Ignition\",\n",
    "    \"Insoluble Residue\",\n",
    "    \"Blaine\",\n",
    "    \"#200\",\n",
    "    \"#325\",\n",
    "    \"#400\",\n",
    "    \"Specific Gravity\",\n",
    "    \"Final setting time\",\n",
    "    \"Initial setting time\",\n",
    "    \"CS1\",\n",
    "    \"CS3\",\n",
    "    \"CS7\",\n",
    "    \"CS28\",\n",
    "]\n",
    "\n",
    "df = preprocess_numeric_cols(df, NUMERIC_COLUMNS)\n",
    "\n",
    "# Preprocessing to fix numeric columns\n",
    "df[NUMERIC_COLUMNS] = df[NUMERIC_COLUMNS].map(convert_to_float)\n",
    "\n",
    "# Converting Date to pandas datetime\n",
    "df[\"Date\"] = pd.to_datetime(df[\"Date\"])\n",
    "\n",
    "# Drop rows completely missing\n",
    "index_to_keep = (\n",
    "    df.drop([\"Plant\", \"Date\", \"Cement_Type\"], axis=1).dropna(axis=0, how=\"all\").index\n",
    ")\n",
    "df = df.iloc[index_to_keep].reset_index(drop=True)\n",
    "\n",
    "df = df.infer_objects()"
   ]
  },
  {
   "cell_type": "markdown",
   "id": "0e4773d2",
   "metadata": {},
   "source": [
    "## Dropping missing features"
   ]
  },
  {
   "cell_type": "markdown",
   "id": "388dd4e1",
   "metadata": {},
   "source": [
    "### Drop rows completely missing"
   ]
  },
  {
   "cell_type": "code",
   "execution_count": 16,
   "id": "14fd3e2b",
   "metadata": {},
   "outputs": [
    {
     "data": {
      "application/javascript": [
       "\n",
       "            setTimeout(function() {\n",
       "                var nbb_cell_id = 16;\n",
       "                var nbb_unformatted_code = \"index_to_keep = (\\n    df.drop([\\\"Plant\\\", \\\"City\\\", \\\"Date\\\", \\\"Cement_Type\\\"], axis=1)\\n    .dropna(axis=0, how=\\\"all\\\")\\n    .index\\n)\\ndf = df.iloc[index_to_keep].reset_index(drop=True)\";\n",
       "                var nbb_formatted_code = \"index_to_keep = (\\n    df.drop([\\\"Plant\\\", \\\"City\\\", \\\"Date\\\", \\\"Cement_Type\\\"], axis=1)\\n    .dropna(axis=0, how=\\\"all\\\")\\n    .index\\n)\\ndf = df.iloc[index_to_keep].reset_index(drop=True)\";\n",
       "                var nbb_cells = Jupyter.notebook.get_cells();\n",
       "                for (var i = 0; i < nbb_cells.length; ++i) {\n",
       "                    if (nbb_cells[i].input_prompt_number == nbb_cell_id) {\n",
       "                        if (nbb_cells[i].get_text() == nbb_unformatted_code) {\n",
       "                             nbb_cells[i].set_text(nbb_formatted_code);\n",
       "                        }\n",
       "                        break;\n",
       "                    }\n",
       "                }\n",
       "            }, 500);\n",
       "            "
      ],
      "text/plain": [
       "<IPython.core.display.Javascript object>"
      ]
     },
     "metadata": {},
     "output_type": "display_data"
    }
   ],
   "source": [
    "index_to_keep = (\n",
    "    df.drop([\"Plant\", \"City\", \"Date\", \"Cement_Type\"], axis=1)\n",
    "    .dropna(axis=0, how=\"all\")\n",
    "    .index\n",
    ")\n",
    "df = df.iloc[index_to_keep].reset_index(drop=True)"
   ]
  },
  {
   "cell_type": "markdown",
   "id": "5d4e47da",
   "metadata": {},
   "source": [
    "### Removing features\n",
    " that will be fitted on this data.\n",
    "\n",
    "1. Removing features with features having ~50% or more of missing values\n",
    "2. Removing features with zero variance\n",
    "3. Removing features with more than 70% of zeros"
   ]
  },
  {
   "cell_type": "code",
   "execution_count": 17,
   "id": "2a377c14",
   "metadata": {},
   "outputs": [
    {
     "data": {
      "text/html": [
       "<style type=\"text/css\">\n",
       "#T_3700d_row0_col0, #T_3700d_row1_col0, #T_3700d_row2_col0, #T_3700d_row3_col0 {\n",
       "  background-color: #67000d;\n",
       "  color: #f1f1f1;\n",
       "}\n",
       "#T_3700d_row4_col0 {\n",
       "  background-color: #fdd3c1;\n",
       "  color: #000000;\n",
       "}\n",
       "#T_3700d_row5_col0 {\n",
       "  background-color: #ffeee7;\n",
       "  color: #000000;\n",
       "}\n",
       "#T_3700d_row6_col0 {\n",
       "  background-color: #fff0e9;\n",
       "  color: #000000;\n",
       "}\n",
       "#T_3700d_row7_col0, #T_3700d_row8_col0, #T_3700d_row9_col0, #T_3700d_row10_col0, #T_3700d_row11_col0, #T_3700d_row12_col0, #T_3700d_row13_col0, #T_3700d_row14_col0 {\n",
       "  background-color: #fff3ed;\n",
       "  color: #000000;\n",
       "}\n",
       "#T_3700d_row15_col0 {\n",
       "  background-color: #fff4ee;\n",
       "  color: #000000;\n",
       "}\n",
       "#T_3700d_row16_col0 {\n",
       "  background-color: #fff4ef;\n",
       "  color: #000000;\n",
       "}\n",
       "#T_3700d_row17_col0, #T_3700d_row18_col0, #T_3700d_row19_col0, #T_3700d_row20_col0, #T_3700d_row21_col0, #T_3700d_row22_col0, #T_3700d_row23_col0, #T_3700d_row24_col0, #T_3700d_row25_col0 {\n",
       "  background-color: #fff5f0;\n",
       "  color: #000000;\n",
       "}\n",
       "</style>\n",
       "<table id=\"T_3700d\">\n",
       "  <thead>\n",
       "    <tr>\n",
       "      <th class=\"blank level0\" >&nbsp;</th>\n",
       "      <th id=\"T_3700d_level0_col0\" class=\"col_heading level0 col0\" >Missing (%)</th>\n",
       "    </tr>\n",
       "  </thead>\n",
       "  <tbody>\n",
       "    <tr>\n",
       "      <th id=\"T_3700d_level0_row0\" class=\"row_heading level0 row0\" >Specific Gravity</th>\n",
       "      <td id=\"T_3700d_row0_col0\" class=\"data row0 col0\" >100.000000</td>\n",
       "    </tr>\n",
       "    <tr>\n",
       "      <th id=\"T_3700d_level0_row1\" class=\"row_heading level0 row1\" >TiO2</th>\n",
       "      <td id=\"T_3700d_row1_col0\" class=\"data row1 col0\" >100.000000</td>\n",
       "    </tr>\n",
       "    <tr>\n",
       "      <th id=\"T_3700d_level0_row2\" class=\"row_heading level0 row2\" >#400</th>\n",
       "      <td id=\"T_3700d_row2_col0\" class=\"data row2 col0\" >100.000000</td>\n",
       "    </tr>\n",
       "    <tr>\n",
       "      <th id=\"T_3700d_level0_row3\" class=\"row_heading level0 row3\" >CS1</th>\n",
       "      <td id=\"T_3700d_row3_col0\" class=\"data row3 col0\" >100.000000</td>\n",
       "    </tr>\n",
       "    <tr>\n",
       "      <th id=\"T_3700d_level0_row4\" class=\"row_heading level0 row4\" >#325</th>\n",
       "      <td id=\"T_3700d_row4_col0\" class=\"data row4 col0\" >17.058824</td>\n",
       "    </tr>\n",
       "    <tr>\n",
       "      <th id=\"T_3700d_level0_row5\" class=\"row_heading level0 row5\" >CS28</th>\n",
       "      <td id=\"T_3700d_row5_col0\" class=\"data row5 col0\" >4.117647</td>\n",
       "    </tr>\n",
       "    <tr>\n",
       "      <th id=\"T_3700d_level0_row6\" class=\"row_heading level0 row6\" >Insoluble Residue</th>\n",
       "      <td id=\"T_3700d_row6_col0\" class=\"data row6 col0\" >3.088235</td>\n",
       "    </tr>\n",
       "    <tr>\n",
       "      <th id=\"T_3700d_level0_row7\" class=\"row_heading level0 row7\" >SiO2</th>\n",
       "      <td id=\"T_3700d_row7_col0\" class=\"data row7 col0\" >1.176471</td>\n",
       "    </tr>\n",
       "    <tr>\n",
       "      <th id=\"T_3700d_level0_row8\" class=\"row_heading level0 row8\" >Al2O3</th>\n",
       "      <td id=\"T_3700d_row8_col0\" class=\"data row8 col0\" >1.176471</td>\n",
       "    </tr>\n",
       "    <tr>\n",
       "      <th id=\"T_3700d_level0_row9\" class=\"row_heading level0 row9\" >Fe2O3</th>\n",
       "      <td id=\"T_3700d_row9_col0\" class=\"data row9 col0\" >1.176471</td>\n",
       "    </tr>\n",
       "    <tr>\n",
       "      <th id=\"T_3700d_level0_row10\" class=\"row_heading level0 row10\" >CS7</th>\n",
       "      <td id=\"T_3700d_row10_col0\" class=\"data row10 col0\" >1.176471</td>\n",
       "    </tr>\n",
       "    <tr>\n",
       "      <th id=\"T_3700d_level0_row11\" class=\"row_heading level0 row11\" >Na2O</th>\n",
       "      <td id=\"T_3700d_row11_col0\" class=\"data row11 col0\" >1.176471</td>\n",
       "    </tr>\n",
       "    <tr>\n",
       "      <th id=\"T_3700d_level0_row12\" class=\"row_heading level0 row12\" >MgO</th>\n",
       "      <td id=\"T_3700d_row12_col0\" class=\"data row12 col0\" >1.176471</td>\n",
       "    </tr>\n",
       "    <tr>\n",
       "      <th id=\"T_3700d_level0_row13\" class=\"row_heading level0 row13\" >CaO</th>\n",
       "      <td id=\"T_3700d_row13_col0\" class=\"data row13 col0\" >1.176471</td>\n",
       "    </tr>\n",
       "    <tr>\n",
       "      <th id=\"T_3700d_level0_row14\" class=\"row_heading level0 row14\" >K2O</th>\n",
       "      <td id=\"T_3700d_row14_col0\" class=\"data row14 col0\" >1.176471</td>\n",
       "    </tr>\n",
       "    <tr>\n",
       "      <th id=\"T_3700d_level0_row15\" class=\"row_heading level0 row15\" >SO3</th>\n",
       "      <td id=\"T_3700d_row15_col0\" class=\"data row15 col0\" >1.029412</td>\n",
       "    </tr>\n",
       "    <tr>\n",
       "      <th id=\"T_3700d_level0_row16\" class=\"row_heading level0 row16\" >CS3</th>\n",
       "      <td id=\"T_3700d_row16_col0\" class=\"data row16 col0\" >0.441176</td>\n",
       "    </tr>\n",
       "    <tr>\n",
       "      <th id=\"T_3700d_level0_row17\" class=\"row_heading level0 row17\" >Initial setting time</th>\n",
       "      <td id=\"T_3700d_row17_col0\" class=\"data row17 col0\" >0.000000</td>\n",
       "    </tr>\n",
       "    <tr>\n",
       "      <th id=\"T_3700d_level0_row18\" class=\"row_heading level0 row18\" >Final setting time</th>\n",
       "      <td id=\"T_3700d_row18_col0\" class=\"data row18 col0\" >0.000000</td>\n",
       "    </tr>\n",
       "    <tr>\n",
       "      <th id=\"T_3700d_level0_row19\" class=\"row_heading level0 row19\" >Plant</th>\n",
       "      <td id=\"T_3700d_row19_col0\" class=\"data row19 col0\" >0.000000</td>\n",
       "    </tr>\n",
       "    <tr>\n",
       "      <th id=\"T_3700d_level0_row20\" class=\"row_heading level0 row20\" >#200</th>\n",
       "      <td id=\"T_3700d_row20_col0\" class=\"data row20 col0\" >0.000000</td>\n",
       "    </tr>\n",
       "    <tr>\n",
       "      <th id=\"T_3700d_level0_row21\" class=\"row_heading level0 row21\" >Blaine</th>\n",
       "      <td id=\"T_3700d_row21_col0\" class=\"data row21 col0\" >0.000000</td>\n",
       "    </tr>\n",
       "    <tr>\n",
       "      <th id=\"T_3700d_level0_row22\" class=\"row_heading level0 row22\" >City</th>\n",
       "      <td id=\"T_3700d_row22_col0\" class=\"data row22 col0\" >0.000000</td>\n",
       "    </tr>\n",
       "    <tr>\n",
       "      <th id=\"T_3700d_level0_row23\" class=\"row_heading level0 row23\" >Loss on Ignition</th>\n",
       "      <td id=\"T_3700d_row23_col0\" class=\"data row23 col0\" >0.000000</td>\n",
       "    </tr>\n",
       "    <tr>\n",
       "      <th id=\"T_3700d_level0_row24\" class=\"row_heading level0 row24\" >Date</th>\n",
       "      <td id=\"T_3700d_row24_col0\" class=\"data row24 col0\" >0.000000</td>\n",
       "    </tr>\n",
       "    <tr>\n",
       "      <th id=\"T_3700d_level0_row25\" class=\"row_heading level0 row25\" >Cement_Type</th>\n",
       "      <td id=\"T_3700d_row25_col0\" class=\"data row25 col0\" >0.000000</td>\n",
       "    </tr>\n",
       "  </tbody>\n",
       "</table>\n"
      ],
      "text/plain": [
       "<pandas.io.formats.style.Styler at 0x7f201efbae60>"
      ]
     },
     "execution_count": 17,
     "metadata": {},
     "output_type": "execute_result"
    },
    {
     "data": {
      "application/javascript": [
       "\n",
       "            setTimeout(function() {\n",
       "                var nbb_cell_id = 17;\n",
       "                var nbb_unformatted_code = \"(df.isna().sum() / df.shape[0] * 100).sort_values(ascending=False).to_frame(\\n    name=\\\"Missing (%)\\\"\\n).style.background_gradient(cmap=\\\"Reds\\\")\";\n",
       "                var nbb_formatted_code = \"(df.isna().sum() / df.shape[0] * 100).sort_values(ascending=False).to_frame(\\n    name=\\\"Missing (%)\\\"\\n).style.background_gradient(cmap=\\\"Reds\\\")\";\n",
       "                var nbb_cells = Jupyter.notebook.get_cells();\n",
       "                for (var i = 0; i < nbb_cells.length; ++i) {\n",
       "                    if (nbb_cells[i].input_prompt_number == nbb_cell_id) {\n",
       "                        if (nbb_cells[i].get_text() == nbb_unformatted_code) {\n",
       "                             nbb_cells[i].set_text(nbb_formatted_code);\n",
       "                        }\n",
       "                        break;\n",
       "                    }\n",
       "                }\n",
       "            }, 500);\n",
       "            "
      ],
      "text/plain": [
       "<IPython.core.display.Javascript object>"
      ]
     },
     "metadata": {},
     "output_type": "display_data"
    }
   ],
   "source": [
    "(df.isna().sum() / df.shape[0] * 100).sort_values(ascending=False).to_frame(\n",
    "    name=\"Missing (%)\"\n",
    ").style.background_gradient(cmap=\"Reds\")"
   ]
  },
  {
   "cell_type": "markdown",
   "id": "7e8fd8fa",
   "metadata": {},
   "source": [
    "<h3>Percentage of missing values:</h3>\n",
    "<table>\n",
    "    <th>Plant A - Full Dataset:</th>\n",
    "    <th></th>\n",
    "    <tr>\n",
    "        <td>Specific Gravity</td>\n",
    "        <td>100.00</td>\n",
    "    </tr>\n",
    "    <tr>\n",
    "        <td>#400</td>\n",
    "        <td>100.00</td>\n",
    "    </tr>\n",
    "    <tr>\n",
    "        <td>TiO2</td>\n",
    "        <td>100.00</td>\n",
    "    </tr>      \n",
    "    <tr>\n",
    "        <td>CS1</td>\n",
    "        <td>100.00</td>\n",
    "    </tr>    \n",
    "</table>\n"
   ]
  },
  {
   "cell_type": "code",
   "execution_count": 18,
   "id": "b781ce23",
   "metadata": {},
   "outputs": [
    {
     "data": {
      "application/javascript": [
       "\n",
       "            setTimeout(function() {\n",
       "                var nbb_cell_id = 18;\n",
       "                var nbb_unformatted_code = \"FEATRUES_TO_DROP = [\\n    \\\"Specific Gravity\\\",\\n    \\\"#400\\\",\\n    \\\"TiO2\\\",\\n    \\\"CS1\\\",\\n]\\ndf = df.drop(labels=FEATRUES_TO_DROP, axis=1)\";\n",
       "                var nbb_formatted_code = \"FEATRUES_TO_DROP = [\\n    \\\"Specific Gravity\\\",\\n    \\\"#400\\\",\\n    \\\"TiO2\\\",\\n    \\\"CS1\\\",\\n]\\ndf = df.drop(labels=FEATRUES_TO_DROP, axis=1)\";\n",
       "                var nbb_cells = Jupyter.notebook.get_cells();\n",
       "                for (var i = 0; i < nbb_cells.length; ++i) {\n",
       "                    if (nbb_cells[i].input_prompt_number == nbb_cell_id) {\n",
       "                        if (nbb_cells[i].get_text() == nbb_unformatted_code) {\n",
       "                             nbb_cells[i].set_text(nbb_formatted_code);\n",
       "                        }\n",
       "                        break;\n",
       "                    }\n",
       "                }\n",
       "            }, 500);\n",
       "            "
      ],
      "text/plain": [
       "<IPython.core.display.Javascript object>"
      ]
     },
     "metadata": {},
     "output_type": "display_data"
    }
   ],
   "source": [
    "FEATRUES_TO_DROP = [\n",
    "    \"Specific Gravity\",\n",
    "    \"#400\",\n",
    "    \"TiO2\",\n",
    "    \"CS1\",\n",
    "]\n",
    "df = df.drop(labels=FEATRUES_TO_DROP, axis=1)"
   ]
  },
  {
   "cell_type": "markdown",
   "id": "082fd941",
   "metadata": {},
   "source": [
    "### Removing features with many zeros when applicable"
   ]
  },
  {
   "cell_type": "code",
   "execution_count": 19,
   "id": "9a08a31f",
   "metadata": {},
   "outputs": [
    {
     "data": {
      "text/html": [
       "<style type=\"text/css\">\n",
       "#T_7da3e_row0_col0 {\n",
       "  background-color: #67000d;\n",
       "  color: #f1f1f1;\n",
       "}\n",
       "#T_7da3e_row1_col0, #T_7da3e_row2_col0, #T_7da3e_row3_col0, #T_7da3e_row4_col0, #T_7da3e_row5_col0, #T_7da3e_row6_col0, #T_7da3e_row7_col0, #T_7da3e_row8_col0, #T_7da3e_row9_col0, #T_7da3e_row10_col0, #T_7da3e_row11_col0, #T_7da3e_row12_col0, #T_7da3e_row13_col0, #T_7da3e_row14_col0, #T_7da3e_row15_col0, #T_7da3e_row16_col0, #T_7da3e_row17_col0 {\n",
       "  background-color: #fff5f0;\n",
       "  color: #000000;\n",
       "}\n",
       "</style>\n",
       "<table id=\"T_7da3e\">\n",
       "  <thead>\n",
       "    <tr>\n",
       "      <th class=\"blank level0\" >&nbsp;</th>\n",
       "      <th id=\"T_7da3e_level0_col0\" class=\"col_heading level0 col0\" >Zero (%) for AP</th>\n",
       "    </tr>\n",
       "  </thead>\n",
       "  <tbody>\n",
       "    <tr>\n",
       "      <th id=\"T_7da3e_level0_row0\" class=\"row_heading level0 row0\" >#200</th>\n",
       "      <td id=\"T_7da3e_row0_col0\" class=\"data row0 col0\" >9.264706</td>\n",
       "    </tr>\n",
       "    <tr>\n",
       "      <th id=\"T_7da3e_level0_row1\" class=\"row_heading level0 row1\" >CaO</th>\n",
       "      <td id=\"T_7da3e_row1_col0\" class=\"data row1 col0\" >0.000000</td>\n",
       "    </tr>\n",
       "    <tr>\n",
       "      <th id=\"T_7da3e_level0_row2\" class=\"row_heading level0 row2\" >MgO</th>\n",
       "      <td id=\"T_7da3e_row2_col0\" class=\"data row2 col0\" >0.000000</td>\n",
       "    </tr>\n",
       "    <tr>\n",
       "      <th id=\"T_7da3e_level0_row3\" class=\"row_heading level0 row3\" >CS7</th>\n",
       "      <td id=\"T_7da3e_row3_col0\" class=\"data row3 col0\" >0.000000</td>\n",
       "    </tr>\n",
       "    <tr>\n",
       "      <th id=\"T_7da3e_level0_row4\" class=\"row_heading level0 row4\" >CS3</th>\n",
       "      <td id=\"T_7da3e_row4_col0\" class=\"data row4 col0\" >0.000000</td>\n",
       "    </tr>\n",
       "    <tr>\n",
       "      <th id=\"T_7da3e_level0_row5\" class=\"row_heading level0 row5\" >Final setting time</th>\n",
       "      <td id=\"T_7da3e_row5_col0\" class=\"data row5 col0\" >0.000000</td>\n",
       "    </tr>\n",
       "    <tr>\n",
       "      <th id=\"T_7da3e_level0_row6\" class=\"row_heading level0 row6\" >Initial setting time</th>\n",
       "      <td id=\"T_7da3e_row6_col0\" class=\"data row6 col0\" >0.000000</td>\n",
       "    </tr>\n",
       "    <tr>\n",
       "      <th id=\"T_7da3e_level0_row7\" class=\"row_heading level0 row7\" >#325</th>\n",
       "      <td id=\"T_7da3e_row7_col0\" class=\"data row7 col0\" >0.000000</td>\n",
       "    </tr>\n",
       "    <tr>\n",
       "      <th id=\"T_7da3e_level0_row8\" class=\"row_heading level0 row8\" >Blaine</th>\n",
       "      <td id=\"T_7da3e_row8_col0\" class=\"data row8 col0\" >0.000000</td>\n",
       "    </tr>\n",
       "    <tr>\n",
       "      <th id=\"T_7da3e_level0_row9\" class=\"row_heading level0 row9\" >Insoluble Residue</th>\n",
       "      <td id=\"T_7da3e_row9_col0\" class=\"data row9 col0\" >0.000000</td>\n",
       "    </tr>\n",
       "    <tr>\n",
       "      <th id=\"T_7da3e_level0_row10\" class=\"row_heading level0 row10\" >Loss on Ignition</th>\n",
       "      <td id=\"T_7da3e_row10_col0\" class=\"data row10 col0\" >0.000000</td>\n",
       "    </tr>\n",
       "    <tr>\n",
       "      <th id=\"T_7da3e_level0_row11\" class=\"row_heading level0 row11\" >Fe2O3</th>\n",
       "      <td id=\"T_7da3e_row11_col0\" class=\"data row11 col0\" >0.000000</td>\n",
       "    </tr>\n",
       "    <tr>\n",
       "      <th id=\"T_7da3e_level0_row12\" class=\"row_heading level0 row12\" >K2O</th>\n",
       "      <td id=\"T_7da3e_row12_col0\" class=\"data row12 col0\" >0.000000</td>\n",
       "    </tr>\n",
       "    <tr>\n",
       "      <th id=\"T_7da3e_level0_row13\" class=\"row_heading level0 row13\" >SO3</th>\n",
       "      <td id=\"T_7da3e_row13_col0\" class=\"data row13 col0\" >0.000000</td>\n",
       "    </tr>\n",
       "    <tr>\n",
       "      <th id=\"T_7da3e_level0_row14\" class=\"row_heading level0 row14\" >SiO2</th>\n",
       "      <td id=\"T_7da3e_row14_col0\" class=\"data row14 col0\" >0.000000</td>\n",
       "    </tr>\n",
       "    <tr>\n",
       "      <th id=\"T_7da3e_level0_row15\" class=\"row_heading level0 row15\" >Al2O3</th>\n",
       "      <td id=\"T_7da3e_row15_col0\" class=\"data row15 col0\" >0.000000</td>\n",
       "    </tr>\n",
       "    <tr>\n",
       "      <th id=\"T_7da3e_level0_row16\" class=\"row_heading level0 row16\" >Na2O</th>\n",
       "      <td id=\"T_7da3e_row16_col0\" class=\"data row16 col0\" >0.000000</td>\n",
       "    </tr>\n",
       "    <tr>\n",
       "      <th id=\"T_7da3e_level0_row17\" class=\"row_heading level0 row17\" >CS28</th>\n",
       "      <td id=\"T_7da3e_row17_col0\" class=\"data row17 col0\" >0.000000</td>\n",
       "    </tr>\n",
       "  </tbody>\n",
       "</table>\n"
      ],
      "text/plain": [
       "<pandas.io.formats.style.Styler at 0x7f201eebb640>"
      ]
     },
     "execution_count": 19,
     "metadata": {},
     "output_type": "execute_result"
    },
    {
     "data": {
      "application/javascript": [
       "\n",
       "            setTimeout(function() {\n",
       "                var nbb_cell_id = 19;\n",
       "                var nbb_unformatted_code = \"zero_values = {}\\nfor col in df.select_dtypes(include=\\\"number\\\").columns:\\n    zero_percentages = (df[df[col].eq(0)].shape[0] / df.shape[0]) * 100\\n    zero_values[col] = zero_percentages\\n\\nzero_percentages = pd.Series(zero_values, name=f\\\"Zero (%) for {plant}\\\")\\nzero_percentages = zero_percentages.sort_values(ascending=False)\\nzero_percentages = zero_percentages.to_frame(name=f\\\"Zero (%) for {plant}\\\")\\nzero_percentages.style.background_gradient(cmap=\\\"Reds\\\")\";\n",
       "                var nbb_formatted_code = \"zero_values = {}\\nfor col in df.select_dtypes(include=\\\"number\\\").columns:\\n    zero_percentages = (df[df[col].eq(0)].shape[0] / df.shape[0]) * 100\\n    zero_values[col] = zero_percentages\\n\\nzero_percentages = pd.Series(zero_values, name=f\\\"Zero (%) for {plant}\\\")\\nzero_percentages = zero_percentages.sort_values(ascending=False)\\nzero_percentages = zero_percentages.to_frame(name=f\\\"Zero (%) for {plant}\\\")\\nzero_percentages.style.background_gradient(cmap=\\\"Reds\\\")\";\n",
       "                var nbb_cells = Jupyter.notebook.get_cells();\n",
       "                for (var i = 0; i < nbb_cells.length; ++i) {\n",
       "                    if (nbb_cells[i].input_prompt_number == nbb_cell_id) {\n",
       "                        if (nbb_cells[i].get_text() == nbb_unformatted_code) {\n",
       "                             nbb_cells[i].set_text(nbb_formatted_code);\n",
       "                        }\n",
       "                        break;\n",
       "                    }\n",
       "                }\n",
       "            }, 500);\n",
       "            "
      ],
      "text/plain": [
       "<IPython.core.display.Javascript object>"
      ]
     },
     "metadata": {},
     "output_type": "display_data"
    }
   ],
   "source": [
    "zero_values = {}\n",
    "for col in df.select_dtypes(include=\"number\").columns:\n",
    "    zero_percentages = (df[df[col].eq(0)].shape[0] / df.shape[0]) * 100\n",
    "    zero_values[col] = zero_percentages\n",
    "\n",
    "zero_percentages = pd.Series(zero_values, name=f\"Zero (%) for {plant}\")\n",
    "zero_percentages = zero_percentages.sort_values(ascending=False)\n",
    "zero_percentages = zero_percentages.to_frame(name=f\"Zero (%) for {plant}\")\n",
    "zero_percentages.style.background_gradient(cmap=\"Reds\")"
   ]
  },
  {
   "cell_type": "markdown",
   "id": "1b0087d0",
   "metadata": {},
   "source": [
    "### Dropping variable with City and Plant identification"
   ]
  },
  {
   "cell_type": "code",
   "execution_count": 20,
   "id": "2dd18010",
   "metadata": {},
   "outputs": [
    {
     "data": {
      "application/javascript": [
       "\n",
       "            setTimeout(function() {\n",
       "                var nbb_cell_id = 20;\n",
       "                var nbb_unformatted_code = \"FEATRUES_TO_DROP = [\\\"City\\\", \\\"Plant\\\"]\\ndf = df.drop(labels=FEATRUES_TO_DROP, axis=1)\";\n",
       "                var nbb_formatted_code = \"FEATRUES_TO_DROP = [\\\"City\\\", \\\"Plant\\\"]\\ndf = df.drop(labels=FEATRUES_TO_DROP, axis=1)\";\n",
       "                var nbb_cells = Jupyter.notebook.get_cells();\n",
       "                for (var i = 0; i < nbb_cells.length; ++i) {\n",
       "                    if (nbb_cells[i].input_prompt_number == nbb_cell_id) {\n",
       "                        if (nbb_cells[i].get_text() == nbb_unformatted_code) {\n",
       "                             nbb_cells[i].set_text(nbb_formatted_code);\n",
       "                        }\n",
       "                        break;\n",
       "                    }\n",
       "                }\n",
       "            }, 500);\n",
       "            "
      ],
      "text/plain": [
       "<IPython.core.display.Javascript object>"
      ]
     },
     "metadata": {},
     "output_type": "display_data"
    }
   ],
   "source": [
    "FEATRUES_TO_DROP = [\"City\", \"Plant\"]\n",
    "df = df.drop(labels=FEATRUES_TO_DROP, axis=1)"
   ]
  },
  {
   "cell_type": "markdown",
   "id": "77150ffd",
   "metadata": {},
   "source": [
    "### Dropping rows where the target variable is null"
   ]
  },
  {
   "cell_type": "code",
   "execution_count": 21,
   "id": "6ac90829",
   "metadata": {},
   "outputs": [
    {
     "data": {
      "application/javascript": [
       "\n",
       "            setTimeout(function() {\n",
       "                var nbb_cell_id = 21;\n",
       "                var nbb_unformatted_code = \"df = df[df[\\\"CS28\\\"].notna()]\";\n",
       "                var nbb_formatted_code = \"df = df[df[\\\"CS28\\\"].notna()]\";\n",
       "                var nbb_cells = Jupyter.notebook.get_cells();\n",
       "                for (var i = 0; i < nbb_cells.length; ++i) {\n",
       "                    if (nbb_cells[i].input_prompt_number == nbb_cell_id) {\n",
       "                        if (nbb_cells[i].get_text() == nbb_unformatted_code) {\n",
       "                             nbb_cells[i].set_text(nbb_formatted_code);\n",
       "                        }\n",
       "                        break;\n",
       "                    }\n",
       "                }\n",
       "            }, 500);\n",
       "            "
      ],
      "text/plain": [
       "<IPython.core.display.Javascript object>"
      ]
     },
     "metadata": {},
     "output_type": "display_data"
    }
   ],
   "source": [
    "df = df[df[\"CS28\"].notna()]"
   ]
  },
  {
   "cell_type": "markdown",
   "id": "0a8e3c5b",
   "metadata": {},
   "source": [
    "### Dropping rows where the target variable is zero"
   ]
  },
  {
   "cell_type": "code",
   "execution_count": 22,
   "id": "bef56e14",
   "metadata": {},
   "outputs": [
    {
     "data": {
      "application/javascript": [
       "\n",
       "            setTimeout(function() {\n",
       "                var nbb_cell_id = 22;\n",
       "                var nbb_unformatted_code = \"df = df[~df[\\\"CS28\\\"].eq(0)]\";\n",
       "                var nbb_formatted_code = \"df = df[~df[\\\"CS28\\\"].eq(0)]\";\n",
       "                var nbb_cells = Jupyter.notebook.get_cells();\n",
       "                for (var i = 0; i < nbb_cells.length; ++i) {\n",
       "                    if (nbb_cells[i].input_prompt_number == nbb_cell_id) {\n",
       "                        if (nbb_cells[i].get_text() == nbb_unformatted_code) {\n",
       "                             nbb_cells[i].set_text(nbb_formatted_code);\n",
       "                        }\n",
       "                        break;\n",
       "                    }\n",
       "                }\n",
       "            }, 500);\n",
       "            "
      ],
      "text/plain": [
       "<IPython.core.display.Javascript object>"
      ]
     },
     "metadata": {},
     "output_type": "display_data"
    }
   ],
   "source": [
    "df = df[~df[\"CS28\"].eq(0)]"
   ]
  },
  {
   "cell_type": "code",
   "execution_count": 23,
   "id": "6c305a61",
   "metadata": {},
   "outputs": [
    {
     "data": {
      "text/plain": [
       "(652, 20)"
      ]
     },
     "execution_count": 23,
     "metadata": {},
     "output_type": "execute_result"
    },
    {
     "data": {
      "application/javascript": [
       "\n",
       "            setTimeout(function() {\n",
       "                var nbb_cell_id = 23;\n",
       "                var nbb_unformatted_code = \"df.shape\";\n",
       "                var nbb_formatted_code = \"df.shape\";\n",
       "                var nbb_cells = Jupyter.notebook.get_cells();\n",
       "                for (var i = 0; i < nbb_cells.length; ++i) {\n",
       "                    if (nbb_cells[i].input_prompt_number == nbb_cell_id) {\n",
       "                        if (nbb_cells[i].get_text() == nbb_unformatted_code) {\n",
       "                             nbb_cells[i].set_text(nbb_formatted_code);\n",
       "                        }\n",
       "                        break;\n",
       "                    }\n",
       "                }\n",
       "            }, 500);\n",
       "            "
      ],
      "text/plain": [
       "<IPython.core.display.Javascript object>"
      ]
     },
     "metadata": {},
     "output_type": "display_data"
    }
   ],
   "source": [
    "df.shape"
   ]
  },
  {
   "cell_type": "code",
   "execution_count": 24,
   "id": "bab136d8",
   "metadata": {},
   "outputs": [
    {
     "data": {
      "application/javascript": [
       "\n",
       "            setTimeout(function() {\n",
       "                var nbb_cell_id = 24;\n",
       "                var nbb_unformatted_code = \"# df.describe().T\";\n",
       "                var nbb_formatted_code = \"# df.describe().T\";\n",
       "                var nbb_cells = Jupyter.notebook.get_cells();\n",
       "                for (var i = 0; i < nbb_cells.length; ++i) {\n",
       "                    if (nbb_cells[i].input_prompt_number == nbb_cell_id) {\n",
       "                        if (nbb_cells[i].get_text() == nbb_unformatted_code) {\n",
       "                             nbb_cells[i].set_text(nbb_formatted_code);\n",
       "                        }\n",
       "                        break;\n",
       "                    }\n",
       "                }\n",
       "            }, 500);\n",
       "            "
      ],
      "text/plain": [
       "<IPython.core.display.Javascript object>"
      ]
     },
     "metadata": {},
     "output_type": "display_data"
    }
   ],
   "source": [
    "# df.describe().T"
   ]
  },
  {
   "cell_type": "code",
   "execution_count": 25,
   "id": "16597882",
   "metadata": {},
   "outputs": [
    {
     "data": {
      "application/javascript": [
       "\n",
       "            setTimeout(function() {\n",
       "                var nbb_cell_id = 25;\n",
       "                var nbb_unformatted_code = \"# df_copy = df.copy()\";\n",
       "                var nbb_formatted_code = \"# df_copy = df.copy()\";\n",
       "                var nbb_cells = Jupyter.notebook.get_cells();\n",
       "                for (var i = 0; i < nbb_cells.length; ++i) {\n",
       "                    if (nbb_cells[i].input_prompt_number == nbb_cell_id) {\n",
       "                        if (nbb_cells[i].get_text() == nbb_unformatted_code) {\n",
       "                             nbb_cells[i].set_text(nbb_formatted_code);\n",
       "                        }\n",
       "                        break;\n",
       "                    }\n",
       "                }\n",
       "            }, 500);\n",
       "            "
      ],
      "text/plain": [
       "<IPython.core.display.Javascript object>"
      ]
     },
     "metadata": {},
     "output_type": "display_data"
    }
   ],
   "source": [
    "# df_copy = df.copy()"
   ]
  },
  {
   "cell_type": "markdown",
   "id": "b1bb693c",
   "metadata": {},
   "source": [
    "### Dropping rows where any other variable has a zero value"
   ]
  },
  {
   "cell_type": "code",
   "execution_count": 26,
   "id": "0f69dd4f",
   "metadata": {},
   "outputs": [
    {
     "data": {
      "application/javascript": [
       "\n",
       "            setTimeout(function() {\n",
       "                var nbb_cell_id = 26;\n",
       "                var nbb_unformatted_code = \"for col in df.columns:\\n    df = df[~df[col].eq(0)]\";\n",
       "                var nbb_formatted_code = \"for col in df.columns:\\n    df = df[~df[col].eq(0)]\";\n",
       "                var nbb_cells = Jupyter.notebook.get_cells();\n",
       "                for (var i = 0; i < nbb_cells.length; ++i) {\n",
       "                    if (nbb_cells[i].input_prompt_number == nbb_cell_id) {\n",
       "                        if (nbb_cells[i].get_text() == nbb_unformatted_code) {\n",
       "                             nbb_cells[i].set_text(nbb_formatted_code);\n",
       "                        }\n",
       "                        break;\n",
       "                    }\n",
       "                }\n",
       "            }, 500);\n",
       "            "
      ],
      "text/plain": [
       "<IPython.core.display.Javascript object>"
      ]
     },
     "metadata": {},
     "output_type": "display_data"
    }
   ],
   "source": [
    "for col in df.columns:\n",
    "    df = df[~df[col].eq(0)]"
   ]
  },
  {
   "cell_type": "code",
   "execution_count": 27,
   "id": "2b9a9d3c",
   "metadata": {},
   "outputs": [
    {
     "data": {
      "text/plain": [
       "(593, 20)"
      ]
     },
     "execution_count": 27,
     "metadata": {},
     "output_type": "execute_result"
    },
    {
     "data": {
      "application/javascript": [
       "\n",
       "            setTimeout(function() {\n",
       "                var nbb_cell_id = 27;\n",
       "                var nbb_unformatted_code = \"df.shape\";\n",
       "                var nbb_formatted_code = \"df.shape\";\n",
       "                var nbb_cells = Jupyter.notebook.get_cells();\n",
       "                for (var i = 0; i < nbb_cells.length; ++i) {\n",
       "                    if (nbb_cells[i].input_prompt_number == nbb_cell_id) {\n",
       "                        if (nbb_cells[i].get_text() == nbb_unformatted_code) {\n",
       "                             nbb_cells[i].set_text(nbb_formatted_code);\n",
       "                        }\n",
       "                        break;\n",
       "                    }\n",
       "                }\n",
       "            }, 500);\n",
       "            "
      ],
      "text/plain": [
       "<IPython.core.display.Javascript object>"
      ]
     },
     "metadata": {},
     "output_type": "display_data"
    }
   ],
   "source": [
    "df.shape"
   ]
  },
  {
   "cell_type": "code",
   "execution_count": 28,
   "id": "c7b91709",
   "metadata": {},
   "outputs": [
    {
     "data": {
      "text/html": [
       "<style type=\"text/css\">\n",
       "#T_159b7_row0_col0 {\n",
       "  background-color: #67000d;\n",
       "  color: #f1f1f1;\n",
       "}\n",
       "#T_159b7_row1_col0, #T_159b7_row2_col0, #T_159b7_row3_col0, #T_159b7_row4_col0, #T_159b7_row5_col0, #T_159b7_row6_col0, #T_159b7_row7_col0, #T_159b7_row8_col0 {\n",
       "  background-color: #fee8de;\n",
       "  color: #000000;\n",
       "}\n",
       "#T_159b7_row9_col0 {\n",
       "  background-color: #feeae0;\n",
       "  color: #000000;\n",
       "}\n",
       "#T_159b7_row10_col0 {\n",
       "  background-color: #fff0e9;\n",
       "  color: #000000;\n",
       "}\n",
       "#T_159b7_row11_col0 {\n",
       "  background-color: #fff2ec;\n",
       "  color: #000000;\n",
       "}\n",
       "#T_159b7_row12_col0, #T_159b7_row13_col0, #T_159b7_row14_col0, #T_159b7_row15_col0, #T_159b7_row16_col0, #T_159b7_row17_col0, #T_159b7_row18_col0, #T_159b7_row19_col0 {\n",
       "  background-color: #fff5f0;\n",
       "  color: #000000;\n",
       "}\n",
       "</style>\n",
       "<table id=\"T_159b7\">\n",
       "  <thead>\n",
       "    <tr>\n",
       "      <th class=\"blank level0\" >&nbsp;</th>\n",
       "      <th id=\"T_159b7_level0_col0\" class=\"col_heading level0 col0\" >Missing (%)</th>\n",
       "    </tr>\n",
       "  </thead>\n",
       "  <tbody>\n",
       "    <tr>\n",
       "      <th id=\"T_159b7_level0_row0\" class=\"row_heading level0 row0\" >#325</th>\n",
       "      <td id=\"T_159b7_row0_col0\" class=\"data row0 col0\" >17.369309</td>\n",
       "    </tr>\n",
       "    <tr>\n",
       "      <th id=\"T_159b7_level0_row1\" class=\"row_heading level0 row1\" >Insoluble Residue</th>\n",
       "      <td id=\"T_159b7_row1_col0\" class=\"data row1 col0\" >1.349073</td>\n",
       "    </tr>\n",
       "    <tr>\n",
       "      <th id=\"T_159b7_level0_row2\" class=\"row_heading level0 row2\" >MgO</th>\n",
       "      <td id=\"T_159b7_row2_col0\" class=\"data row2 col0\" >1.349073</td>\n",
       "    </tr>\n",
       "    <tr>\n",
       "      <th id=\"T_159b7_level0_row3\" class=\"row_heading level0 row3\" >Na2O</th>\n",
       "      <td id=\"T_159b7_row3_col0\" class=\"data row3 col0\" >1.349073</td>\n",
       "    </tr>\n",
       "    <tr>\n",
       "      <th id=\"T_159b7_level0_row4\" class=\"row_heading level0 row4\" >Al2O3</th>\n",
       "      <td id=\"T_159b7_row4_col0\" class=\"data row4 col0\" >1.349073</td>\n",
       "    </tr>\n",
       "    <tr>\n",
       "      <th id=\"T_159b7_level0_row5\" class=\"row_heading level0 row5\" >SiO2</th>\n",
       "      <td id=\"T_159b7_row5_col0\" class=\"data row5 col0\" >1.349073</td>\n",
       "    </tr>\n",
       "    <tr>\n",
       "      <th id=\"T_159b7_level0_row6\" class=\"row_heading level0 row6\" >K2O</th>\n",
       "      <td id=\"T_159b7_row6_col0\" class=\"data row6 col0\" >1.349073</td>\n",
       "    </tr>\n",
       "    <tr>\n",
       "      <th id=\"T_159b7_level0_row7\" class=\"row_heading level0 row7\" >Fe2O3</th>\n",
       "      <td id=\"T_159b7_row7_col0\" class=\"data row7 col0\" >1.349073</td>\n",
       "    </tr>\n",
       "    <tr>\n",
       "      <th id=\"T_159b7_level0_row8\" class=\"row_heading level0 row8\" >CaO</th>\n",
       "      <td id=\"T_159b7_row8_col0\" class=\"data row8 col0\" >1.349073</td>\n",
       "    </tr>\n",
       "    <tr>\n",
       "      <th id=\"T_159b7_level0_row9\" class=\"row_heading level0 row9\" >SO3</th>\n",
       "      <td id=\"T_159b7_row9_col0\" class=\"data row9 col0\" >1.180438</td>\n",
       "    </tr>\n",
       "    <tr>\n",
       "      <th id=\"T_159b7_level0_row10\" class=\"row_heading level0 row10\" >CS3</th>\n",
       "      <td id=\"T_159b7_row10_col0\" class=\"data row10 col0\" >0.505902</td>\n",
       "    </tr>\n",
       "    <tr>\n",
       "      <th id=\"T_159b7_level0_row11\" class=\"row_heading level0 row11\" >CS7</th>\n",
       "      <td id=\"T_159b7_row11_col0\" class=\"data row11 col0\" >0.337268</td>\n",
       "    </tr>\n",
       "    <tr>\n",
       "      <th id=\"T_159b7_level0_row12\" class=\"row_heading level0 row12\" >Final setting time</th>\n",
       "      <td id=\"T_159b7_row12_col0\" class=\"data row12 col0\" >0.000000</td>\n",
       "    </tr>\n",
       "    <tr>\n",
       "      <th id=\"T_159b7_level0_row13\" class=\"row_heading level0 row13\" >CS28</th>\n",
       "      <td id=\"T_159b7_row13_col0\" class=\"data row13 col0\" >0.000000</td>\n",
       "    </tr>\n",
       "    <tr>\n",
       "      <th id=\"T_159b7_level0_row14\" class=\"row_heading level0 row14\" >Date</th>\n",
       "      <td id=\"T_159b7_row14_col0\" class=\"data row14 col0\" >0.000000</td>\n",
       "    </tr>\n",
       "    <tr>\n",
       "      <th id=\"T_159b7_level0_row15\" class=\"row_heading level0 row15\" >Initial setting time</th>\n",
       "      <td id=\"T_159b7_row15_col0\" class=\"data row15 col0\" >0.000000</td>\n",
       "    </tr>\n",
       "    <tr>\n",
       "      <th id=\"T_159b7_level0_row16\" class=\"row_heading level0 row16\" >#200</th>\n",
       "      <td id=\"T_159b7_row16_col0\" class=\"data row16 col0\" >0.000000</td>\n",
       "    </tr>\n",
       "    <tr>\n",
       "      <th id=\"T_159b7_level0_row17\" class=\"row_heading level0 row17\" >Blaine</th>\n",
       "      <td id=\"T_159b7_row17_col0\" class=\"data row17 col0\" >0.000000</td>\n",
       "    </tr>\n",
       "    <tr>\n",
       "      <th id=\"T_159b7_level0_row18\" class=\"row_heading level0 row18\" >Loss on Ignition</th>\n",
       "      <td id=\"T_159b7_row18_col0\" class=\"data row18 col0\" >0.000000</td>\n",
       "    </tr>\n",
       "    <tr>\n",
       "      <th id=\"T_159b7_level0_row19\" class=\"row_heading level0 row19\" >Cement_Type</th>\n",
       "      <td id=\"T_159b7_row19_col0\" class=\"data row19 col0\" >0.000000</td>\n",
       "    </tr>\n",
       "  </tbody>\n",
       "</table>\n"
      ],
      "text/plain": [
       "<pandas.io.formats.style.Styler at 0x7f201eebacb0>"
      ]
     },
     "execution_count": 28,
     "metadata": {},
     "output_type": "execute_result"
    },
    {
     "data": {
      "application/javascript": [
       "\n",
       "            setTimeout(function() {\n",
       "                var nbb_cell_id = 28;\n",
       "                var nbb_unformatted_code = \"(df.isna().sum() / df.shape[0] * 100).sort_values(ascending=False).to_frame(\\n    name=\\\"Missing (%)\\\"\\n).style.background_gradient(cmap=\\\"Reds\\\")\";\n",
       "                var nbb_formatted_code = \"(df.isna().sum() / df.shape[0] * 100).sort_values(ascending=False).to_frame(\\n    name=\\\"Missing (%)\\\"\\n).style.background_gradient(cmap=\\\"Reds\\\")\";\n",
       "                var nbb_cells = Jupyter.notebook.get_cells();\n",
       "                for (var i = 0; i < nbb_cells.length; ++i) {\n",
       "                    if (nbb_cells[i].input_prompt_number == nbb_cell_id) {\n",
       "                        if (nbb_cells[i].get_text() == nbb_unformatted_code) {\n",
       "                             nbb_cells[i].set_text(nbb_formatted_code);\n",
       "                        }\n",
       "                        break;\n",
       "                    }\n",
       "                }\n",
       "            }, 500);\n",
       "            "
      ],
      "text/plain": [
       "<IPython.core.display.Javascript object>"
      ]
     },
     "metadata": {},
     "output_type": "display_data"
    }
   ],
   "source": [
    "(df.isna().sum() / df.shape[0] * 100).sort_values(ascending=False).to_frame(\n",
    "    name=\"Missing (%)\"\n",
    ").style.background_gradient(cmap=\"Reds\")"
   ]
  },
  {
   "cell_type": "code",
   "execution_count": 29,
   "id": "12fef81f",
   "metadata": {},
   "outputs": [
    {
     "data": {
      "text/html": [
       "<div>\n",
       "<style scoped>\n",
       "    .dataframe tbody tr th:only-of-type {\n",
       "        vertical-align: middle;\n",
       "    }\n",
       "\n",
       "    .dataframe tbody tr th {\n",
       "        vertical-align: top;\n",
       "    }\n",
       "\n",
       "    .dataframe thead th {\n",
       "        text-align: right;\n",
       "    }\n",
       "</style>\n",
       "<table border=\"1\" class=\"dataframe\">\n",
       "  <thead>\n",
       "    <tr style=\"text-align: right;\">\n",
       "      <th></th>\n",
       "      <th>count</th>\n",
       "      <th>mean</th>\n",
       "      <th>min</th>\n",
       "      <th>25%</th>\n",
       "      <th>50%</th>\n",
       "      <th>75%</th>\n",
       "      <th>max</th>\n",
       "      <th>std</th>\n",
       "    </tr>\n",
       "  </thead>\n",
       "  <tbody>\n",
       "    <tr>\n",
       "      <th>Date</th>\n",
       "      <td>593</td>\n",
       "      <td>2022-06-14 21:51:17.908937728</td>\n",
       "      <td>2021-02-24 00:00:00</td>\n",
       "      <td>2021-11-10 00:00:00</td>\n",
       "      <td>2022-06-20 00:00:00</td>\n",
       "      <td>2023-01-30 00:00:00</td>\n",
       "      <td>2023-07-15 00:00:00</td>\n",
       "      <td>NaN</td>\n",
       "    </tr>\n",
       "    <tr>\n",
       "      <th>CaO</th>\n",
       "      <td>585.0</td>\n",
       "      <td>48.828267</td>\n",
       "      <td>31.397261</td>\n",
       "      <td>46.563049</td>\n",
       "      <td>49.931591</td>\n",
       "      <td>52.249699</td>\n",
       "      <td>63.768478</td>\n",
       "      <td>4.899066</td>\n",
       "    </tr>\n",
       "    <tr>\n",
       "      <th>MgO</th>\n",
       "      <td>585.0</td>\n",
       "      <td>2.967296</td>\n",
       "      <td>1.00074</td>\n",
       "      <td>2.62073</td>\n",
       "      <td>3.0429</td>\n",
       "      <td>3.29403</td>\n",
       "      <td>4.05604</td>\n",
       "      <td>0.455208</td>\n",
       "    </tr>\n",
       "    <tr>\n",
       "      <th>Na2O</th>\n",
       "      <td>585.0</td>\n",
       "      <td>0.143878</td>\n",
       "      <td>-0.10108</td>\n",
       "      <td>0.13689</td>\n",
       "      <td>0.16466</td>\n",
       "      <td>0.17914</td>\n",
       "      <td>0.29024</td>\n",
       "      <td>0.061508</td>\n",
       "    </tr>\n",
       "    <tr>\n",
       "      <th>Al2O3</th>\n",
       "      <td>585.0</td>\n",
       "      <td>6.820041</td>\n",
       "      <td>1.72618</td>\n",
       "      <td>6.19361</td>\n",
       "      <td>6.83719</td>\n",
       "      <td>7.45192</td>\n",
       "      <td>9.40333</td>\n",
       "      <td>0.902876</td>\n",
       "    </tr>\n",
       "    <tr>\n",
       "      <th>SiO2</th>\n",
       "      <td>585.0</td>\n",
       "      <td>22.494219</td>\n",
       "      <td>6.35116</td>\n",
       "      <td>19.399321</td>\n",
       "      <td>22.84153</td>\n",
       "      <td>25.9685</td>\n",
       "      <td>32.473068</td>\n",
       "      <td>4.095027</td>\n",
       "    </tr>\n",
       "    <tr>\n",
       "      <th>SO3</th>\n",
       "      <td>586.0</td>\n",
       "      <td>3.008631</td>\n",
       "      <td>1.41263</td>\n",
       "      <td>2.851403</td>\n",
       "      <td>3.04875</td>\n",
       "      <td>3.21734</td>\n",
       "      <td>3.7285</td>\n",
       "      <td>0.284795</td>\n",
       "    </tr>\n",
       "    <tr>\n",
       "      <th>K2O</th>\n",
       "      <td>585.0</td>\n",
       "      <td>0.960075</td>\n",
       "      <td>0.47605</td>\n",
       "      <td>0.79848</td>\n",
       "      <td>1.00082</td>\n",
       "      <td>1.09558</td>\n",
       "      <td>1.82279</td>\n",
       "      <td>0.172483</td>\n",
       "    </tr>\n",
       "    <tr>\n",
       "      <th>Fe2O3</th>\n",
       "      <td>585.0</td>\n",
       "      <td>2.615809</td>\n",
       "      <td>1.54598</td>\n",
       "      <td>2.03426</td>\n",
       "      <td>2.69856</td>\n",
       "      <td>2.96048</td>\n",
       "      <td>4.30634</td>\n",
       "      <td>0.628641</td>\n",
       "    </tr>\n",
       "    <tr>\n",
       "      <th>Loss on Ignition</th>\n",
       "      <td>593.0</td>\n",
       "      <td>5.514081</td>\n",
       "      <td>2.58</td>\n",
       "      <td>4.4</td>\n",
       "      <td>5.66</td>\n",
       "      <td>6.59</td>\n",
       "      <td>8.15</td>\n",
       "      <td>1.32372</td>\n",
       "    </tr>\n",
       "    <tr>\n",
       "      <th>Insoluble Residue</th>\n",
       "      <td>585.0</td>\n",
       "      <td>4.658188</td>\n",
       "      <td>1.92</td>\n",
       "      <td>2.65</td>\n",
       "      <td>3.09</td>\n",
       "      <td>4.27</td>\n",
       "      <td>15.01</td>\n",
       "      <td>3.474551</td>\n",
       "    </tr>\n",
       "    <tr>\n",
       "      <th>Blaine</th>\n",
       "      <td>593.0</td>\n",
       "      <td>4969.22597</td>\n",
       "      <td>4460.0</td>\n",
       "      <td>4810.0</td>\n",
       "      <td>4940.0</td>\n",
       "      <td>5100.0</td>\n",
       "      <td>5680.0</td>\n",
       "      <td>200.303173</td>\n",
       "    </tr>\n",
       "    <tr>\n",
       "      <th>#200</th>\n",
       "      <td>593.0</td>\n",
       "      <td>0.093406</td>\n",
       "      <td>0.01</td>\n",
       "      <td>0.05</td>\n",
       "      <td>0.07</td>\n",
       "      <td>0.1</td>\n",
       "      <td>1.14</td>\n",
       "      <td>0.091296</td>\n",
       "    </tr>\n",
       "    <tr>\n",
       "      <th>#325</th>\n",
       "      <td>490.0</td>\n",
       "      <td>0.723327</td>\n",
       "      <td>0.06</td>\n",
       "      <td>0.54</td>\n",
       "      <td>0.73</td>\n",
       "      <td>0.9</td>\n",
       "      <td>3.96</td>\n",
       "      <td>0.373526</td>\n",
       "    </tr>\n",
       "    <tr>\n",
       "      <th>Initial setting time</th>\n",
       "      <td>593.0</td>\n",
       "      <td>236.231029</td>\n",
       "      <td>175.0</td>\n",
       "      <td>215.0</td>\n",
       "      <td>230.0</td>\n",
       "      <td>260.0</td>\n",
       "      <td>360.0</td>\n",
       "      <td>31.598766</td>\n",
       "    </tr>\n",
       "    <tr>\n",
       "      <th>Final setting time</th>\n",
       "      <td>593.0</td>\n",
       "      <td>293.229342</td>\n",
       "      <td>215.0</td>\n",
       "      <td>270.0</td>\n",
       "      <td>295.0</td>\n",
       "      <td>310.0</td>\n",
       "      <td>395.0</td>\n",
       "      <td>30.740875</td>\n",
       "    </tr>\n",
       "    <tr>\n",
       "      <th>CS3</th>\n",
       "      <td>590.0</td>\n",
       "      <td>20.926356</td>\n",
       "      <td>17.0</td>\n",
       "      <td>19.200001</td>\n",
       "      <td>20.9</td>\n",
       "      <td>22.799999</td>\n",
       "      <td>26.799999</td>\n",
       "      <td>2.258625</td>\n",
       "    </tr>\n",
       "    <tr>\n",
       "      <th>CS7</th>\n",
       "      <td>591.0</td>\n",
       "      <td>28.323655</td>\n",
       "      <td>20.9</td>\n",
       "      <td>25.75</td>\n",
       "      <td>28.5</td>\n",
       "      <td>30.650001</td>\n",
       "      <td>36.799999</td>\n",
       "      <td>3.251674</td>\n",
       "    </tr>\n",
       "    <tr>\n",
       "      <th>CS28</th>\n",
       "      <td>593.0</td>\n",
       "      <td>40.479511</td>\n",
       "      <td>32.200001</td>\n",
       "      <td>35.700001</td>\n",
       "      <td>40.0</td>\n",
       "      <td>44.400002</td>\n",
       "      <td>49.5</td>\n",
       "      <td>4.514361</td>\n",
       "    </tr>\n",
       "  </tbody>\n",
       "</table>\n",
       "</div>"
      ],
      "text/plain": [
       "                      count                           mean  \\\n",
       "Date                    593  2022-06-14 21:51:17.908937728   \n",
       "CaO                   585.0                      48.828267   \n",
       "MgO                   585.0                       2.967296   \n",
       "Na2O                  585.0                       0.143878   \n",
       "Al2O3                 585.0                       6.820041   \n",
       "SiO2                  585.0                      22.494219   \n",
       "SO3                   586.0                       3.008631   \n",
       "K2O                   585.0                       0.960075   \n",
       "Fe2O3                 585.0                       2.615809   \n",
       "Loss on Ignition      593.0                       5.514081   \n",
       "Insoluble Residue     585.0                       4.658188   \n",
       "Blaine                593.0                     4969.22597   \n",
       "#200                  593.0                       0.093406   \n",
       "#325                  490.0                       0.723327   \n",
       "Initial setting time  593.0                     236.231029   \n",
       "Final setting time    593.0                     293.229342   \n",
       "CS3                   590.0                      20.926356   \n",
       "CS7                   591.0                      28.323655   \n",
       "CS28                  593.0                      40.479511   \n",
       "\n",
       "                                      min                  25%  \\\n",
       "Date                  2021-02-24 00:00:00  2021-11-10 00:00:00   \n",
       "CaO                             31.397261            46.563049   \n",
       "MgO                               1.00074              2.62073   \n",
       "Na2O                             -0.10108              0.13689   \n",
       "Al2O3                             1.72618              6.19361   \n",
       "SiO2                              6.35116            19.399321   \n",
       "SO3                               1.41263             2.851403   \n",
       "K2O                               0.47605              0.79848   \n",
       "Fe2O3                             1.54598              2.03426   \n",
       "Loss on Ignition                     2.58                  4.4   \n",
       "Insoluble Residue                    1.92                 2.65   \n",
       "Blaine                             4460.0               4810.0   \n",
       "#200                                 0.01                 0.05   \n",
       "#325                                 0.06                 0.54   \n",
       "Initial setting time                175.0                215.0   \n",
       "Final setting time                  215.0                270.0   \n",
       "CS3                                  17.0            19.200001   \n",
       "CS7                                  20.9                25.75   \n",
       "CS28                            32.200001            35.700001   \n",
       "\n",
       "                                      50%                  75%  \\\n",
       "Date                  2022-06-20 00:00:00  2023-01-30 00:00:00   \n",
       "CaO                             49.931591            52.249699   \n",
       "MgO                                3.0429              3.29403   \n",
       "Na2O                              0.16466              0.17914   \n",
       "Al2O3                             6.83719              7.45192   \n",
       "SiO2                             22.84153              25.9685   \n",
       "SO3                               3.04875              3.21734   \n",
       "K2O                               1.00082              1.09558   \n",
       "Fe2O3                             2.69856              2.96048   \n",
       "Loss on Ignition                     5.66                 6.59   \n",
       "Insoluble Residue                    3.09                 4.27   \n",
       "Blaine                             4940.0               5100.0   \n",
       "#200                                 0.07                  0.1   \n",
       "#325                                 0.73                  0.9   \n",
       "Initial setting time                230.0                260.0   \n",
       "Final setting time                  295.0                310.0   \n",
       "CS3                                  20.9            22.799999   \n",
       "CS7                                  28.5            30.650001   \n",
       "CS28                                 40.0            44.400002   \n",
       "\n",
       "                                      max         std  \n",
       "Date                  2023-07-15 00:00:00         NaN  \n",
       "CaO                             63.768478    4.899066  \n",
       "MgO                               4.05604    0.455208  \n",
       "Na2O                              0.29024    0.061508  \n",
       "Al2O3                             9.40333    0.902876  \n",
       "SiO2                            32.473068    4.095027  \n",
       "SO3                                3.7285    0.284795  \n",
       "K2O                               1.82279    0.172483  \n",
       "Fe2O3                             4.30634    0.628641  \n",
       "Loss on Ignition                     8.15     1.32372  \n",
       "Insoluble Residue                   15.01    3.474551  \n",
       "Blaine                             5680.0  200.303173  \n",
       "#200                                 1.14    0.091296  \n",
       "#325                                 3.96    0.373526  \n",
       "Initial setting time                360.0   31.598766  \n",
       "Final setting time                  395.0   30.740875  \n",
       "CS3                             26.799999    2.258625  \n",
       "CS7                             36.799999    3.251674  \n",
       "CS28                                 49.5    4.514361  "
      ]
     },
     "execution_count": 29,
     "metadata": {},
     "output_type": "execute_result"
    },
    {
     "data": {
      "application/javascript": [
       "\n",
       "            setTimeout(function() {\n",
       "                var nbb_cell_id = 29;\n",
       "                var nbb_unformatted_code = \"df.describe().T\";\n",
       "                var nbb_formatted_code = \"df.describe().T\";\n",
       "                var nbb_cells = Jupyter.notebook.get_cells();\n",
       "                for (var i = 0; i < nbb_cells.length; ++i) {\n",
       "                    if (nbb_cells[i].input_prompt_number == nbb_cell_id) {\n",
       "                        if (nbb_cells[i].get_text() == nbb_unformatted_code) {\n",
       "                             nbb_cells[i].set_text(nbb_formatted_code);\n",
       "                        }\n",
       "                        break;\n",
       "                    }\n",
       "                }\n",
       "            }, 500);\n",
       "            "
      ],
      "text/plain": [
       "<IPython.core.display.Javascript object>"
      ]
     },
     "metadata": {},
     "output_type": "display_data"
    }
   ],
   "source": [
    "df.describe().T"
   ]
  },
  {
   "cell_type": "code",
   "execution_count": 30,
   "id": "e6e3f8eb",
   "metadata": {},
   "outputs": [
    {
     "data": {
      "text/html": [
       "<div>\n",
       "<style scoped>\n",
       "    .dataframe tbody tr th:only-of-type {\n",
       "        vertical-align: middle;\n",
       "    }\n",
       "\n",
       "    .dataframe tbody tr th {\n",
       "        vertical-align: top;\n",
       "    }\n",
       "\n",
       "    .dataframe thead th {\n",
       "        text-align: right;\n",
       "    }\n",
       "</style>\n",
       "<table border=\"1\" class=\"dataframe\">\n",
       "  <thead>\n",
       "    <tr style=\"text-align: right;\">\n",
       "      <th></th>\n",
       "      <th>count</th>\n",
       "      <th>unique</th>\n",
       "      <th>top</th>\n",
       "      <th>freq</th>\n",
       "      <th>mean</th>\n",
       "      <th>min</th>\n",
       "      <th>25%</th>\n",
       "      <th>50%</th>\n",
       "      <th>75%</th>\n",
       "      <th>max</th>\n",
       "    </tr>\n",
       "  </thead>\n",
       "  <tbody>\n",
       "    <tr>\n",
       "      <th>Date</th>\n",
       "      <td>593</td>\n",
       "      <td>NaN</td>\n",
       "      <td>NaN</td>\n",
       "      <td>NaN</td>\n",
       "      <td>2022-06-14 21:51:17.908937728</td>\n",
       "      <td>2021-02-24 00:00:00</td>\n",
       "      <td>2021-11-10 00:00:00</td>\n",
       "      <td>2022-06-20 00:00:00</td>\n",
       "      <td>2023-01-30 00:00:00</td>\n",
       "      <td>2023-07-15 00:00:00</td>\n",
       "    </tr>\n",
       "    <tr>\n",
       "      <th>Cement_Type</th>\n",
       "      <td>593</td>\n",
       "      <td>4</td>\n",
       "      <td>CP III-40 RS</td>\n",
       "      <td>243</td>\n",
       "      <td>NaN</td>\n",
       "      <td>NaN</td>\n",
       "      <td>NaN</td>\n",
       "      <td>NaN</td>\n",
       "      <td>NaN</td>\n",
       "      <td>NaN</td>\n",
       "    </tr>\n",
       "  </tbody>\n",
       "</table>\n",
       "</div>"
      ],
      "text/plain": [
       "            count unique           top freq                           mean  \\\n",
       "Date          593    NaN           NaN  NaN  2022-06-14 21:51:17.908937728   \n",
       "Cement_Type   593      4  CP III-40 RS  243                            NaN   \n",
       "\n",
       "                             min                  25%                  50%  \\\n",
       "Date         2021-02-24 00:00:00  2021-11-10 00:00:00  2022-06-20 00:00:00   \n",
       "Cement_Type                  NaN                  NaN                  NaN   \n",
       "\n",
       "                             75%                  max  \n",
       "Date         2023-01-30 00:00:00  2023-07-15 00:00:00  \n",
       "Cement_Type                  NaN                  NaN  "
      ]
     },
     "execution_count": 30,
     "metadata": {},
     "output_type": "execute_result"
    },
    {
     "data": {
      "application/javascript": [
       "\n",
       "            setTimeout(function() {\n",
       "                var nbb_cell_id = 30;\n",
       "                var nbb_unformatted_code = \"df.describe(exclude=\\\"number\\\").T\";\n",
       "                var nbb_formatted_code = \"df.describe(exclude=\\\"number\\\").T\";\n",
       "                var nbb_cells = Jupyter.notebook.get_cells();\n",
       "                for (var i = 0; i < nbb_cells.length; ++i) {\n",
       "                    if (nbb_cells[i].input_prompt_number == nbb_cell_id) {\n",
       "                        if (nbb_cells[i].get_text() == nbb_unformatted_code) {\n",
       "                             nbb_cells[i].set_text(nbb_formatted_code);\n",
       "                        }\n",
       "                        break;\n",
       "                    }\n",
       "                }\n",
       "            }, 500);\n",
       "            "
      ],
      "text/plain": [
       "<IPython.core.display.Javascript object>"
      ]
     },
     "metadata": {},
     "output_type": "display_data"
    }
   ],
   "source": [
    "df.describe(exclude=\"number\").T"
   ]
  },
  {
   "cell_type": "code",
   "execution_count": 31,
   "id": "8a781c6e",
   "metadata": {},
   "outputs": [
    {
     "name": "stdout",
     "output_type": "stream",
     "text": [
      "<class 'pandas.core.frame.DataFrame'>\n",
      "Index: 593 entries, 1 to 667\n",
      "Data columns (total 20 columns):\n",
      " #   Column                Non-Null Count  Dtype         \n",
      "---  ------                --------------  -----         \n",
      " 0   Date                  593 non-null    datetime64[ns]\n",
      " 1   CaO                   585 non-null    float64       \n",
      " 2   MgO                   585 non-null    float64       \n",
      " 3   Na2O                  585 non-null    float64       \n",
      " 4   Al2O3                 585 non-null    float64       \n",
      " 5   SiO2                  585 non-null    float64       \n",
      " 6   SO3                   586 non-null    float64       \n",
      " 7   K2O                   585 non-null    float64       \n",
      " 8   Fe2O3                 585 non-null    float64       \n",
      " 9   Loss on Ignition      593 non-null    float64       \n",
      " 10  Insoluble Residue     585 non-null    float64       \n",
      " 11  Blaine                593 non-null    float64       \n",
      " 12  #200                  593 non-null    float64       \n",
      " 13  #325                  490 non-null    float64       \n",
      " 14  Initial setting time  593 non-null    float64       \n",
      " 15  Final setting time    593 non-null    float64       \n",
      " 16  CS3                   590 non-null    float64       \n",
      " 17  CS7                   591 non-null    float64       \n",
      " 18  CS28                  593 non-null    float64       \n",
      " 19  Cement_Type           593 non-null    object        \n",
      "dtypes: datetime64[ns](1), float64(18), object(1)\n",
      "memory usage: 97.3+ KB\n"
     ]
    },
    {
     "data": {
      "application/javascript": [
       "\n",
       "            setTimeout(function() {\n",
       "                var nbb_cell_id = 31;\n",
       "                var nbb_unformatted_code = \"df.info()\";\n",
       "                var nbb_formatted_code = \"df.info()\";\n",
       "                var nbb_cells = Jupyter.notebook.get_cells();\n",
       "                for (var i = 0; i < nbb_cells.length; ++i) {\n",
       "                    if (nbb_cells[i].input_prompt_number == nbb_cell_id) {\n",
       "                        if (nbb_cells[i].get_text() == nbb_unformatted_code) {\n",
       "                             nbb_cells[i].set_text(nbb_formatted_code);\n",
       "                        }\n",
       "                        break;\n",
       "                    }\n",
       "                }\n",
       "            }, 500);\n",
       "            "
      ],
      "text/plain": [
       "<IPython.core.display.Javascript object>"
      ]
     },
     "metadata": {},
     "output_type": "display_data"
    }
   ],
   "source": [
    "df.info()"
   ]
  },
  {
   "cell_type": "markdown",
   "id": "6d769c2f",
   "metadata": {},
   "source": [
    "### Sort the dataset by date"
   ]
  },
  {
   "cell_type": "code",
   "execution_count": 32,
   "id": "b44c21a6",
   "metadata": {},
   "outputs": [
    {
     "data": {
      "text/plain": [
       "dtype('<M8[ns]')"
      ]
     },
     "execution_count": 32,
     "metadata": {},
     "output_type": "execute_result"
    },
    {
     "data": {
      "application/javascript": [
       "\n",
       "            setTimeout(function() {\n",
       "                var nbb_cell_id = 32;\n",
       "                var nbb_unformatted_code = \"# We first make sure Date column was infered correctly\\ndf[\\\"Date\\\"].dtype\";\n",
       "                var nbb_formatted_code = \"# We first make sure Date column was infered correctly\\ndf[\\\"Date\\\"].dtype\";\n",
       "                var nbb_cells = Jupyter.notebook.get_cells();\n",
       "                for (var i = 0; i < nbb_cells.length; ++i) {\n",
       "                    if (nbb_cells[i].input_prompt_number == nbb_cell_id) {\n",
       "                        if (nbb_cells[i].get_text() == nbb_unformatted_code) {\n",
       "                             nbb_cells[i].set_text(nbb_formatted_code);\n",
       "                        }\n",
       "                        break;\n",
       "                    }\n",
       "                }\n",
       "            }, 500);\n",
       "            "
      ],
      "text/plain": [
       "<IPython.core.display.Javascript object>"
      ]
     },
     "metadata": {},
     "output_type": "display_data"
    }
   ],
   "source": [
    "# We first make sure Date column was infered correctly\n",
    "df[\"Date\"].dtype"
   ]
  },
  {
   "cell_type": "code",
   "execution_count": 33,
   "id": "5c5039e2",
   "metadata": {},
   "outputs": [
    {
     "data": {
      "application/javascript": [
       "\n",
       "            setTimeout(function() {\n",
       "                var nbb_cell_id = 33;\n",
       "                var nbb_unformatted_code = \"df = df.sort_values(by=\\\"Date\\\")\";\n",
       "                var nbb_formatted_code = \"df = df.sort_values(by=\\\"Date\\\")\";\n",
       "                var nbb_cells = Jupyter.notebook.get_cells();\n",
       "                for (var i = 0; i < nbb_cells.length; ++i) {\n",
       "                    if (nbb_cells[i].input_prompt_number == nbb_cell_id) {\n",
       "                        if (nbb_cells[i].get_text() == nbb_unformatted_code) {\n",
       "                             nbb_cells[i].set_text(nbb_formatted_code);\n",
       "                        }\n",
       "                        break;\n",
       "                    }\n",
       "                }\n",
       "            }, 500);\n",
       "            "
      ],
      "text/plain": [
       "<IPython.core.display.Javascript object>"
      ]
     },
     "metadata": {},
     "output_type": "display_data"
    }
   ],
   "source": [
    "df = df.sort_values(by=\"Date\")"
   ]
  },
  {
   "cell_type": "markdown",
   "id": "22e0657a",
   "metadata": {},
   "source": [
    "## Saving the dataset"
   ]
  },
  {
   "cell_type": "markdown",
   "id": "b60e3c79",
   "metadata": {},
   "source": [
    "<h3>Saving for feature engineering</h3>"
   ]
  },
  {
   "cell_type": "code",
   "execution_count": 34,
   "id": "a8a88fcd",
   "metadata": {},
   "outputs": [
    {
     "data": {
      "application/javascript": [
       "\n",
       "            setTimeout(function() {\n",
       "                var nbb_cell_id = 34;\n",
       "                var nbb_unformatted_code = \"df.to_csv(\\\"../../../data/interim/209/ap.csv\\\", index=False)\";\n",
       "                var nbb_formatted_code = \"df.to_csv(\\\"../../../data/interim/209/ap.csv\\\", index=False)\";\n",
       "                var nbb_cells = Jupyter.notebook.get_cells();\n",
       "                for (var i = 0; i < nbb_cells.length; ++i) {\n",
       "                    if (nbb_cells[i].input_prompt_number == nbb_cell_id) {\n",
       "                        if (nbb_cells[i].get_text() == nbb_unformatted_code) {\n",
       "                             nbb_cells[i].set_text(nbb_formatted_code);\n",
       "                        }\n",
       "                        break;\n",
       "                    }\n",
       "                }\n",
       "            }, 500);\n",
       "            "
      ],
      "text/plain": [
       "<IPython.core.display.Javascript object>"
      ]
     },
     "metadata": {},
     "output_type": "display_data"
    }
   ],
   "source": [
    "df.to_csv(\"../../../data/interim/209/ap.csv\", index=False)"
   ]
  },
  {
   "cell_type": "code",
   "execution_count": null,
   "id": "c55f01f4",
   "metadata": {},
   "outputs": [],
   "source": []
  }
 ],
 "metadata": {
  "kernelspec": {
   "display_name": "ccs28-venv",
   "language": "python",
   "name": "ccs28-venv"
  },
  "language_info": {
   "codemirror_mode": {
    "name": "ipython",
    "version": 3
   },
   "file_extension": ".py",
   "mimetype": "text/x-python",
   "name": "python",
   "nbconvert_exporter": "python",
   "pygments_lexer": "ipython3",
   "version": "3.10.12"
  }
 },
 "nbformat": 4,
 "nbformat_minor": 5
}
