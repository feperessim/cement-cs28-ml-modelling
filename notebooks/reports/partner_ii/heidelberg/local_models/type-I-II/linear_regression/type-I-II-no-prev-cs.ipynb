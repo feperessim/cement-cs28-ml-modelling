{
 "cells": [
  {
   "cell_type": "code",
   "execution_count": 1,
   "metadata": {},
   "outputs": [
    {
     "data": {
      "application/javascript": [
       "\n",
       "            setTimeout(function() {\n",
       "                var nbb_cell_id = 1;\n",
       "                var nbb_unformatted_code = \"%load_ext nb_black\";\n",
       "                var nbb_formatted_code = \"%load_ext nb_black\";\n",
       "                var nbb_cells = Jupyter.notebook.get_cells();\n",
       "                for (var i = 0; i < nbb_cells.length; ++i) {\n",
       "                    if (nbb_cells[i].input_prompt_number == nbb_cell_id) {\n",
       "                        if (nbb_cells[i].get_text() == nbb_unformatted_code) {\n",
       "                             nbb_cells[i].set_text(nbb_formatted_code);\n",
       "                        }\n",
       "                        break;\n",
       "                    }\n",
       "                }\n",
       "            }, 500);\n",
       "            "
      ],
      "text/plain": [
       "<IPython.core.display.Javascript object>"
      ]
     },
     "metadata": {},
     "output_type": "display_data"
    }
   ],
   "source": [
    "%load_ext nb_black"
   ]
  },
  {
   "cell_type": "code",
   "execution_count": 2,
   "metadata": {},
   "outputs": [
    {
     "data": {
      "application/javascript": [
       "\n",
       "            setTimeout(function() {\n",
       "                var nbb_cell_id = 2;\n",
       "                var nbb_unformatted_code = \"import pandas as pd\\nimport re\";\n",
       "                var nbb_formatted_code = \"import pandas as pd\\nimport re\";\n",
       "                var nbb_cells = Jupyter.notebook.get_cells();\n",
       "                for (var i = 0; i < nbb_cells.length; ++i) {\n",
       "                    if (nbb_cells[i].input_prompt_number == nbb_cell_id) {\n",
       "                        if (nbb_cells[i].get_text() == nbb_unformatted_code) {\n",
       "                             nbb_cells[i].set_text(nbb_formatted_code);\n",
       "                        }\n",
       "                        break;\n",
       "                    }\n",
       "                }\n",
       "            }, 500);\n",
       "            "
      ],
      "text/plain": [
       "<IPython.core.display.Javascript object>"
      ]
     },
     "metadata": {},
     "output_type": "display_data"
    }
   ],
   "source": [
    "import pandas as pd\n",
    "import re"
   ]
  },
  {
   "cell_type": "code",
   "execution_count": 3,
   "metadata": {},
   "outputs": [
    {
     "data": {
      "application/javascript": [
       "\n",
       "            setTimeout(function() {\n",
       "                var nbb_cell_id = 3;\n",
       "                var nbb_unformatted_code = \"def flat_list(lst):\\n    return [item for tup in list(lst) for item in tup]\";\n",
       "                var nbb_formatted_code = \"def flat_list(lst):\\n    return [item for tup in list(lst) for item in tup]\";\n",
       "                var nbb_cells = Jupyter.notebook.get_cells();\n",
       "                for (var i = 0; i < nbb_cells.length; ++i) {\n",
       "                    if (nbb_cells[i].input_prompt_number == nbb_cell_id) {\n",
       "                        if (nbb_cells[i].get_text() == nbb_unformatted_code) {\n",
       "                             nbb_cells[i].set_text(nbb_formatted_code);\n",
       "                        }\n",
       "                        break;\n",
       "                    }\n",
       "                }\n",
       "            }, 500);\n",
       "            "
      ],
      "text/plain": [
       "<IPython.core.display.Javascript object>"
      ]
     },
     "metadata": {},
     "output_type": "display_data"
    }
   ],
   "source": [
    "def flat_list(lst):\n",
    "    return [item for tup in list(lst) for item in tup]"
   ]
  },
  {
   "cell_type": "code",
   "execution_count": 4,
   "metadata": {},
   "outputs": [
    {
     "data": {
      "application/javascript": [
       "\n",
       "            setTimeout(function() {\n",
       "                var nbb_cell_id = 4;\n",
       "                var nbb_unformatted_code = \"def extract_scores(s):\\n    pattern = r\\\"\\\\b([A-Z0-9]+):\\\\s+([\\\\d.]+)\\\\s+\\\\(([\\\\d.]+)\\\\)\\\"\\n    scores = {\\\"Train Mean\\\": [], \\\"Train Std\\\": [], \\\"Test Mean\\\": [], \\\"Test Std\\\": []}\\n    current_scores = None\\n    for line in s.split(\\\"\\\\n\\\"):\\n        if \\\"[TRAIN]\\\" in line:\\n            current_scores = \\\"Train\\\"\\n        elif \\\"[TEST]\\\" in line:\\n            current_scores = \\\"Test\\\"\\n        match = re.search(pattern, line)\\n        if match:\\n            score_name = match.group(1)\\n            score_mean = float(match.group(2))\\n            score_std = float(match.group(3))\\n            scores[f\\\"{current_scores} Mean\\\"].append(score_mean)\\n            scores[f\\\"{current_scores} Std\\\"].append(score_std)\\n    return scores\";\n",
       "                var nbb_formatted_code = \"def extract_scores(s):\\n    pattern = r\\\"\\\\b([A-Z0-9]+):\\\\s+([\\\\d.]+)\\\\s+\\\\(([\\\\d.]+)\\\\)\\\"\\n    scores = {\\\"Train Mean\\\": [], \\\"Train Std\\\": [], \\\"Test Mean\\\": [], \\\"Test Std\\\": []}\\n    current_scores = None\\n    for line in s.split(\\\"\\\\n\\\"):\\n        if \\\"[TRAIN]\\\" in line:\\n            current_scores = \\\"Train\\\"\\n        elif \\\"[TEST]\\\" in line:\\n            current_scores = \\\"Test\\\"\\n        match = re.search(pattern, line)\\n        if match:\\n            score_name = match.group(1)\\n            score_mean = float(match.group(2))\\n            score_std = float(match.group(3))\\n            scores[f\\\"{current_scores} Mean\\\"].append(score_mean)\\n            scores[f\\\"{current_scores} Std\\\"].append(score_std)\\n    return scores\";\n",
       "                var nbb_cells = Jupyter.notebook.get_cells();\n",
       "                for (var i = 0; i < nbb_cells.length; ++i) {\n",
       "                    if (nbb_cells[i].input_prompt_number == nbb_cell_id) {\n",
       "                        if (nbb_cells[i].get_text() == nbb_unformatted_code) {\n",
       "                             nbb_cells[i].set_text(nbb_formatted_code);\n",
       "                        }\n",
       "                        break;\n",
       "                    }\n",
       "                }\n",
       "            }, 500);\n",
       "            "
      ],
      "text/plain": [
       "<IPython.core.display.Javascript object>"
      ]
     },
     "metadata": {},
     "output_type": "display_data"
    }
   ],
   "source": [
    "def extract_scores(s):\n",
    "    pattern = r\"\\b([A-Z0-9]+):\\s+([\\d.]+)\\s+\\(([\\d.]+)\\)\"\n",
    "    scores = {\"Train Mean\": [], \"Train Std\": [], \"Test Mean\": [], \"Test Std\": []}\n",
    "    current_scores = None\n",
    "    for line in s.split(\"\\n\"):\n",
    "        if \"[TRAIN]\" in line:\n",
    "            current_scores = \"Train\"\n",
    "        elif \"[TEST]\" in line:\n",
    "            current_scores = \"Test\"\n",
    "        match = re.search(pattern, line)\n",
    "        if match:\n",
    "            score_name = match.group(1)\n",
    "            score_mean = float(match.group(2))\n",
    "            score_std = float(match.group(3))\n",
    "            scores[f\"{current_scores} Mean\"].append(score_mean)\n",
    "            scores[f\"{current_scores} Std\"].append(score_std)\n",
    "    return scores"
   ]
  },
  {
   "cell_type": "markdown",
   "metadata": {},
   "source": [
    "# All Cements"
   ]
  },
  {
   "cell_type": "code",
   "execution_count": 3,
   "metadata": {},
   "outputs": [
    {
     "data": {
      "application/javascript": [
       "\n",
       "            setTimeout(function() {\n",
       "                var nbb_cell_id = 3;\n",
       "                var nbb_unformatted_code = \"results = []\";\n",
       "                var nbb_formatted_code = \"results = []\";\n",
       "                var nbb_cells = Jupyter.notebook.get_cells();\n",
       "                for (var i = 0; i < nbb_cells.length; ++i) {\n",
       "                    if (nbb_cells[i].input_prompt_number == nbb_cell_id) {\n",
       "                        if (nbb_cells[i].get_text() == nbb_unformatted_code) {\n",
       "                             nbb_cells[i].set_text(nbb_formatted_code);\n",
       "                        }\n",
       "                        break;\n",
       "                    }\n",
       "                }\n",
       "            }, 500);\n",
       "            "
      ],
      "text/plain": [
       "<IPython.core.display.Javascript object>"
      ]
     },
     "metadata": {},
     "output_type": "display_data"
    }
   ],
   "source": [
    "results = []"
   ]
  },
  {
   "cell_type": "markdown",
   "metadata": {},
   "source": [
    "## No previous Compressive Strength"
   ]
  },
  {
   "cell_type": "markdown",
   "metadata": {},
   "source": [
    "## Repeated KFold Cross validation"
   ]
  },
  {
   "cell_type": "code",
   "execution_count": 4,
   "metadata": {},
   "outputs": [
    {
     "data": {
      "application/javascript": [
       "\n",
       "            setTimeout(function() {\n",
       "                var nbb_cell_id = 4;\n",
       "                var nbb_unformatted_code = \"data = {\\n    \\\"Metric\\\": [\\\"RMSE\\\", \\\"MAE\\\", \\\"MAPE\\\", \\\"R2\\\"],\\n    \\\"Train Mean\\\": [1.064, 0.833, 0.019, 0.955],\\n    \\\"Train Std\\\": [0.008, 0.007, 0.000, 0.001],\\n    \\\"Test Mean\\\": [1.794, 0.934, 0.022, 0.682],\\n    \\\"Test Std\\\": [2.137, 0.226, 0.006, 0.879],\\n    \\\"Validation\\\": [\\\"Repeated KFold\\\"] * 4,\\n    \\\"Repeats\\\": [10] * 4,\\n    \\\"Splits\\\": [10] * 4,\\n}\\ndf = pd.DataFrame(data)\\ndf = df[\\n    [\\n        \\\"Validation\\\",\\n        \\\"Repeats\\\",\\n        \\\"Splits\\\",\\n        \\\"Metric\\\",\\n        \\\"Train Mean\\\",\\n        \\\"Train Std\\\",\\n        \\\"Test Mean\\\",\\n        \\\"Test Std\\\",\\n    ]\\n]\\ndf\\nresults.append(df)\";\n",
       "                var nbb_formatted_code = \"data = {\\n    \\\"Metric\\\": [\\\"RMSE\\\", \\\"MAE\\\", \\\"MAPE\\\", \\\"R2\\\"],\\n    \\\"Train Mean\\\": [1.064, 0.833, 0.019, 0.955],\\n    \\\"Train Std\\\": [0.008, 0.007, 0.000, 0.001],\\n    \\\"Test Mean\\\": [1.794, 0.934, 0.022, 0.682],\\n    \\\"Test Std\\\": [2.137, 0.226, 0.006, 0.879],\\n    \\\"Validation\\\": [\\\"Repeated KFold\\\"] * 4,\\n    \\\"Repeats\\\": [10] * 4,\\n    \\\"Splits\\\": [10] * 4,\\n}\\ndf = pd.DataFrame(data)\\ndf = df[\\n    [\\n        \\\"Validation\\\",\\n        \\\"Repeats\\\",\\n        \\\"Splits\\\",\\n        \\\"Metric\\\",\\n        \\\"Train Mean\\\",\\n        \\\"Train Std\\\",\\n        \\\"Test Mean\\\",\\n        \\\"Test Std\\\",\\n    ]\\n]\\ndf\\nresults.append(df)\";\n",
       "                var nbb_cells = Jupyter.notebook.get_cells();\n",
       "                for (var i = 0; i < nbb_cells.length; ++i) {\n",
       "                    if (nbb_cells[i].input_prompt_number == nbb_cell_id) {\n",
       "                        if (nbb_cells[i].get_text() == nbb_unformatted_code) {\n",
       "                             nbb_cells[i].set_text(nbb_formatted_code);\n",
       "                        }\n",
       "                        break;\n",
       "                    }\n",
       "                }\n",
       "            }, 500);\n",
       "            "
      ],
      "text/plain": [
       "<IPython.core.display.Javascript object>"
      ]
     },
     "metadata": {},
     "output_type": "display_data"
    }
   ],
   "source": [
    "data = {\n",
    "    \"Metric\": [\"RMSE\", \"MAE\", \"MAPE\", \"R2\"],\n",
    "    \"Train Mean\": [],\n",
    "    \"Train Std\": [],\n",
    "    \"Test Mean\": [],\n",
    "    \"Test Std\": [],\n",
    "    \"Validation\": [\"Repeated KFold\"] * 4,\n",
    "    \"Repeats\": [10] * 4,\n",
    "    \"Splits\": [10] * 4,\n",
    "}\n",
    "df = pd.DataFrame(data)\n",
    "df = df[\n",
    "    [\n",
    "        \"Validation\",\n",
    "        \"Repeats\",\n",
    "        \"Splits\",\n",
    "        \"Metric\",\n",
    "        \"Train Mean\",\n",
    "        \"Train Std\",\n",
    "        \"Test Mean\",\n",
    "        \"Test Std\",\n",
    "    ]\n",
    "]\n",
    "df\n",
    "results.append(df)"
   ]
  },
  {
   "cell_type": "markdown",
   "metadata": {},
   "source": [
    "## Blocking Time Series Split Results"
   ]
  },
  {
   "cell_type": "code",
   "execution_count": 5,
   "metadata": {},
   "outputs": [
    {
     "data": {
      "application/javascript": [
       "\n",
       "            setTimeout(function() {\n",
       "                var nbb_cell_id = 5;\n",
       "                var nbb_unformatted_code = \"df = [\\n    {\\n        \\\"Validation\\\": \\\"Blocking Time Series Split\\\",\\n        \\\"Repeats\\\": 10,\\n        \\\"Splits\\\": 5,\\n        \\\"Metric\\\": \\\"RMSE\\\",\\n        \\\"Train Mean\\\": 0.762,\\n        \\\"Train Std\\\": 0.081,\\n        \\\"Test Mean\\\": 8.630,\\n        \\\"Test Std\\\": 13.198,\\n    },\\n    {\\n        \\\"Validation\\\": \\\"Blocking Time Series Split\\\",\\n        \\\"Repeats\\\": 10,\\n        \\\"Splits\\\": 5,\\n        \\\"Metric\\\": \\\"MAE\\\",\\n        \\\"Train Mean\\\": 0.599,\\n        \\\"Train Std\\\": 0.067,\\n        \\\"Test Mean\\\": 2.057,\\n        \\\"Test Std\\\": 1.122,\\n    },\\n    {\\n        \\\"Validation\\\": \\\"Blocking Time Series Split\\\",\\n        \\\"Repeats\\\": 10,\\n        \\\"Splits\\\": 5,\\n        \\\"Metric\\\": \\\"MAPE\\\",\\n        \\\"Train Mean\\\": 0.014,\\n        \\\"Train Std\\\": 0.002,\\n        \\\"Test Mean\\\": 0.046,\\n        \\\"Test Std\\\": 0.024,\\n    },\\n    {\\n        \\\"Validation\\\": \\\"Blocking Time Series Split\\\",\\n        \\\"Repeats\\\": 10,\\n        \\\"Splits\\\": 5,\\n        \\\"Metric\\\": \\\"R2\\\",\\n        \\\"Train Mean\\\": 0.977,\\n        \\\"Train Std\\\": 0.004,\\n        \\\"Test Mean\\\": 9.480,\\n        \\\"Test Std\\\": 20.606,\\n    },\\n]\\n\\n# create the dataframe\\ndf = pd.DataFrame(df)\\n\\n# set the order of the columns\\ndf = df[\\n    [\\n        \\\"Validation\\\",\\n        \\\"Repeats\\\",\\n        \\\"Splits\\\",\\n        \\\"Metric\\\",\\n        \\\"Train Mean\\\",\\n        \\\"Train Std\\\",\\n        \\\"Test Mean\\\",\\n        \\\"Test Std\\\",\\n    ]\\n]\\n\\n# print the dataframe\\nresults.append(df)\";\n",
       "                var nbb_formatted_code = \"df = [\\n    {\\n        \\\"Validation\\\": \\\"Blocking Time Series Split\\\",\\n        \\\"Repeats\\\": 10,\\n        \\\"Splits\\\": 5,\\n        \\\"Metric\\\": \\\"RMSE\\\",\\n        \\\"Train Mean\\\": 0.762,\\n        \\\"Train Std\\\": 0.081,\\n        \\\"Test Mean\\\": 8.630,\\n        \\\"Test Std\\\": 13.198,\\n    },\\n    {\\n        \\\"Validation\\\": \\\"Blocking Time Series Split\\\",\\n        \\\"Repeats\\\": 10,\\n        \\\"Splits\\\": 5,\\n        \\\"Metric\\\": \\\"MAE\\\",\\n        \\\"Train Mean\\\": 0.599,\\n        \\\"Train Std\\\": 0.067,\\n        \\\"Test Mean\\\": 2.057,\\n        \\\"Test Std\\\": 1.122,\\n    },\\n    {\\n        \\\"Validation\\\": \\\"Blocking Time Series Split\\\",\\n        \\\"Repeats\\\": 10,\\n        \\\"Splits\\\": 5,\\n        \\\"Metric\\\": \\\"MAPE\\\",\\n        \\\"Train Mean\\\": 0.014,\\n        \\\"Train Std\\\": 0.002,\\n        \\\"Test Mean\\\": 0.046,\\n        \\\"Test Std\\\": 0.024,\\n    },\\n    {\\n        \\\"Validation\\\": \\\"Blocking Time Series Split\\\",\\n        \\\"Repeats\\\": 10,\\n        \\\"Splits\\\": 5,\\n        \\\"Metric\\\": \\\"R2\\\",\\n        \\\"Train Mean\\\": 0.977,\\n        \\\"Train Std\\\": 0.004,\\n        \\\"Test Mean\\\": 9.480,\\n        \\\"Test Std\\\": 20.606,\\n    },\\n]\\n\\n# create the dataframe\\ndf = pd.DataFrame(df)\\n\\n# set the order of the columns\\ndf = df[\\n    [\\n        \\\"Validation\\\",\\n        \\\"Repeats\\\",\\n        \\\"Splits\\\",\\n        \\\"Metric\\\",\\n        \\\"Train Mean\\\",\\n        \\\"Train Std\\\",\\n        \\\"Test Mean\\\",\\n        \\\"Test Std\\\",\\n    ]\\n]\\n\\n# print the dataframe\\nresults.append(df)\";\n",
       "                var nbb_cells = Jupyter.notebook.get_cells();\n",
       "                for (var i = 0; i < nbb_cells.length; ++i) {\n",
       "                    if (nbb_cells[i].input_prompt_number == nbb_cell_id) {\n",
       "                        if (nbb_cells[i].get_text() == nbb_unformatted_code) {\n",
       "                             nbb_cells[i].set_text(nbb_formatted_code);\n",
       "                        }\n",
       "                        break;\n",
       "                    }\n",
       "                }\n",
       "            }, 500);\n",
       "            "
      ],
      "text/plain": [
       "<IPython.core.display.Javascript object>"
      ]
     },
     "metadata": {},
     "output_type": "display_data"
    }
   ],
   "source": [
    "df = [\n",
    "    {\n",
    "        \"Validation\": \"Blocking Time Series Split\",\n",
    "        \"Repeats\": 10,\n",
    "        \"Splits\": 5,\n",
    "        \"Metric\": \"RMSE\",\n",
    "        \"Train Mean\": ,\n",
    "        \"Train Std\": ,\n",
    "        \"Test Mean\": ,\n",
    "        \"Test Std\": ,\n",
    "    },\n",
    "    {\n",
    "        \"Validation\": \"Blocking Time Series Split\",\n",
    "        \"Repeats\": 10,\n",
    "        \"Splits\": 5,\n",
    "        \"Metric\": \"MAE\",\n",
    "        \"Train Mean\": ,\n",
    "        \"Train Std\": ,\n",
    "        \"Test Mean\": ,\n",
    "        \"Test Std\": ,\n",
    "    },\n",
    "    {\n",
    "        \"Validation\": \"Blocking Time Series Split\",\n",
    "        \"Repeats\": 10,\n",
    "        \"Splits\": 5,\n",
    "        \"Metric\": \"MAPE\",\n",
    "        \"Train Mean\": ,\n",
    "        \"Train Std\": ,\n",
    "        \"Test Mean\": ,\n",
    "        \"Test Std\": ,\n",
    "    },\n",
    "    {\n",
    "        \"Validation\": \"Blocking Time Series Split\",\n",
    "        \"Repeats\": 10,\n",
    "        \"Splits\": 5,\n",
    "        \"Metric\": \"R2\",\n",
    "        \"Train Mean\": ,\n",
    "        \"Train Std\": ,\n",
    "        \"Test Mean\": ,\n",
    "        \"Test Std\": ,\n",
    "    },\n",
    "]\n",
    "\n",
    "# create the dataframe\n",
    "df = pd.DataFrame(df)\n",
    "\n",
    "# set the order of the columns\n",
    "df = df[\n",
    "    [\n",
    "        \"Validation\",\n",
    "        \"Repeats\",\n",
    "        \"Splits\",\n",
    "        \"Metric\",\n",
    "        \"Train Mean\",\n",
    "        \"Train Std\",\n",
    "        \"Test Mean\",\n",
    "        \"Test Std\",\n",
    "    ]\n",
    "]\n",
    "\n",
    "# print the dataframe\n",
    "results.append(df)"
   ]
  },
  {
   "cell_type": "markdown",
   "metadata": {},
   "source": [
    "## Time Series Split Cross Validation"
   ]
  },
  {
   "cell_type": "code",
   "execution_count": 6,
   "metadata": {},
   "outputs": [
    {
     "data": {
      "application/javascript": [
       "\n",
       "            setTimeout(function() {\n",
       "                var nbb_cell_id = 6;\n",
       "                var nbb_unformatted_code = \"# define dictionary with results\\ntss_results = {\\n    \\\"Validation\\\": \\\"Time Series Split Cross Validation\\\",\\n    \\\"Repeats\\\": 10,\\n    \\\"Splits\\\": 10,\\n    \\\"RMSE Train Mean\\\": 0.882,\\n    \\\"RMSE Train Std\\\": 0.112,\\n    \\\"MAE Train Mean\\\": 0.683,\\n    \\\"MAE Train Std\\\": 0.085,\\n    \\\"MAPE Train Mean\\\": 0.016,\\n    \\\"MAPE Train Std\\\": 0.002,\\n    \\\"R2 Train Mean\\\": 0.968,\\n    \\\"R2 Train Std\\\": 0.007,\\n    \\\"RMSE Test Mean\\\": 19.104,\\n    \\\"RMSE Test Std\\\": 34.671,\\n    \\\"MAE Test Mean\\\": 2.962,\\n    \\\"MAE Test Std\\\": 3.814,\\n    \\\"MAPE Test Mean\\\": 0.066,\\n    \\\"MAPE Test Std\\\": 0.084,\\n    \\\"R2 Test Mean\\\": 64.803,\\n    \\\"R2 Test Std\\\": 142.162,\\n}\\n\\n# create dataframe\\ndf = pd.DataFrame(\\n    columns=[\\n        \\\"Validation\\\",\\n        \\\"Repeats\\\",\\n        \\\"Splits\\\",\\n        \\\"Metric\\\",\\n        \\\"Train Mean\\\",\\n        \\\"Train Std\\\",\\n        \\\"Test Mean\\\",\\n        \\\"Test Std\\\",\\n    ]\\n)\\n\\n# populate dataframe\\nfor i, metric in enumerate([\\\"RMSE\\\", \\\"MAE\\\", \\\"MAPE\\\", \\\"R2\\\"]):\\n    df.loc[i * 4] = [\\n        tss_results[\\\"Validation\\\"],\\n        tss_results[\\\"Repeats\\\"],\\n        tss_results[\\\"Splits\\\"],\\n        metric,\\n        tss_results[f\\\"{metric} Train Mean\\\"],\\n        tss_results[f\\\"{metric} Train Std\\\"],\\n        tss_results[f\\\"{metric} Test Mean\\\"],\\n        tss_results[f\\\"{metric} Test Std\\\"],\\n    ]\\nresults.append(df)\";\n",
       "                var nbb_formatted_code = \"# define dictionary with results\\ntss_results = {\\n    \\\"Validation\\\": \\\"Time Series Split Cross Validation\\\",\\n    \\\"Repeats\\\": 10,\\n    \\\"Splits\\\": 10,\\n    \\\"RMSE Train Mean\\\": 0.882,\\n    \\\"RMSE Train Std\\\": 0.112,\\n    \\\"MAE Train Mean\\\": 0.683,\\n    \\\"MAE Train Std\\\": 0.085,\\n    \\\"MAPE Train Mean\\\": 0.016,\\n    \\\"MAPE Train Std\\\": 0.002,\\n    \\\"R2 Train Mean\\\": 0.968,\\n    \\\"R2 Train Std\\\": 0.007,\\n    \\\"RMSE Test Mean\\\": 19.104,\\n    \\\"RMSE Test Std\\\": 34.671,\\n    \\\"MAE Test Mean\\\": 2.962,\\n    \\\"MAE Test Std\\\": 3.814,\\n    \\\"MAPE Test Mean\\\": 0.066,\\n    \\\"MAPE Test Std\\\": 0.084,\\n    \\\"R2 Test Mean\\\": 64.803,\\n    \\\"R2 Test Std\\\": 142.162,\\n}\\n\\n# create dataframe\\ndf = pd.DataFrame(\\n    columns=[\\n        \\\"Validation\\\",\\n        \\\"Repeats\\\",\\n        \\\"Splits\\\",\\n        \\\"Metric\\\",\\n        \\\"Train Mean\\\",\\n        \\\"Train Std\\\",\\n        \\\"Test Mean\\\",\\n        \\\"Test Std\\\",\\n    ]\\n)\\n\\n# populate dataframe\\nfor i, metric in enumerate([\\\"RMSE\\\", \\\"MAE\\\", \\\"MAPE\\\", \\\"R2\\\"]):\\n    df.loc[i * 4] = [\\n        tss_results[\\\"Validation\\\"],\\n        tss_results[\\\"Repeats\\\"],\\n        tss_results[\\\"Splits\\\"],\\n        metric,\\n        tss_results[f\\\"{metric} Train Mean\\\"],\\n        tss_results[f\\\"{metric} Train Std\\\"],\\n        tss_results[f\\\"{metric} Test Mean\\\"],\\n        tss_results[f\\\"{metric} Test Std\\\"],\\n    ]\\nresults.append(df)\";\n",
       "                var nbb_cells = Jupyter.notebook.get_cells();\n",
       "                for (var i = 0; i < nbb_cells.length; ++i) {\n",
       "                    if (nbb_cells[i].input_prompt_number == nbb_cell_id) {\n",
       "                        if (nbb_cells[i].get_text() == nbb_unformatted_code) {\n",
       "                             nbb_cells[i].set_text(nbb_formatted_code);\n",
       "                        }\n",
       "                        break;\n",
       "                    }\n",
       "                }\n",
       "            }, 500);\n",
       "            "
      ],
      "text/plain": [
       "<IPython.core.display.Javascript object>"
      ]
     },
     "metadata": {},
     "output_type": "display_data"
    }
   ],
   "source": [
    "# define dictionary with results\n",
    "tss_results = {\n",
    "    \"Validation\": \"Time Series Split Cross Validation\",\n",
    "    \"Repeats\": 10,\n",
    "    \"Splits\": 10,\n",
    "    \"RMSE Train Mean\": ,\n",
    "    \"RMSE Train Std\": ,\n",
    "    \"MAE Train Mean\": ,\n",
    "    \"MAE Train Std\": ,\n",
    "    \"MAPE Train Mean\": ,\n",
    "    \"MAPE Train Std\": ,\n",
    "    \"R2 Train Mean\": ,\n",
    "    \"R2 Train Std\": ,\n",
    "    \"RMSE Test Mean\": ,\n",
    "    \"RMSE Test Std\": ,\n",
    "    \"MAE Test Mean\": ,\n",
    "    \"MAE Test Std\": ,\n",
    "    \"MAPE Test Mean\": ,\n",
    "    \"MAPE Test Std\": ,\n",
    "    \"R2 Test Mean\": ,\n",
    "    \"R2 Test Std\": ,\n",
    "}\n",
    "\n",
    "# create dataframe\n",
    "df = pd.DataFrame(\n",
    "    columns=[\n",
    "        \"Validation\",\n",
    "        \"Repeats\",\n",
    "        \"Splits\",\n",
    "        \"Metric\",\n",
    "        \"Train Mean\",\n",
    "        \"Train Std\",\n",
    "        \"Test Mean\",\n",
    "        \"Test Std\",\n",
    "    ]\n",
    ")\n",
    "\n",
    "# populate dataframe\n",
    "for i, metric in enumerate([\"RMSE\", \"MAE\", \"MAPE\", \"R2\"]):\n",
    "    df.loc[i * 4] = [\n",
    "        tss_results[\"Validation\"],\n",
    "        tss_results[\"Repeats\"],\n",
    "        tss_results[\"Splits\"],\n",
    "        metric,\n",
    "        tss_results[f\"{metric} Train Mean\"],\n",
    "        tss_results[f\"{metric} Train Std\"],\n",
    "        tss_results[f\"{metric} Test Mean\"],\n",
    "        tss_results[f\"{metric} Test Std\"],\n",
    "    ]\n",
    "results.append(df)"
   ]
  },
  {
   "cell_type": "markdown",
   "metadata": {},
   "source": [
    "## Blocking Time Series Split Results - Period Specific"
   ]
  },
  {
   "cell_type": "code",
   "execution_count": 5,
   "metadata": {},
   "outputs": [
    {
     "data": {
      "application/javascript": [
       "\n",
       "            setTimeout(function() {\n",
       "                var nbb_cell_id = 5;\n",
       "                var nbb_unformatted_code = \"s = \\\"\\\"\\\"\\n******\\n[TRAIN]\\n******\\nRMSE: 1.782 (0.126)\\nMAE: 1.413 (0.095)\\nMAPE: 0.034 (0.002)\\nR2: 0.197 (0.016)\\n\\n======================\\n\\n******\\n[TEST]\\n******\\nRMSE: 2.066 (0.086)\\nMAE: 1.689 (0.020)\\nMAPE: 0.041 (0.001)\\nR2: 0.569 (0.635)\\n\\n======================\\n\\n******\\n[TRAIN]\\n******\\nRMSE: 1.975 (0.148)\\nMAE: 1.560 (0.108)\\nMAPE: 0.037 (0.003)\\nR2: 0.253 (0.095)\\n\\n======================\\n\\n******\\n[TEST]\\n******\\nRMSE: 1.680 (0.016)\\nMAE: 1.417 (0.055)\\nMAPE: 0.035 (0.001)\\nR2: 0.208 (0.209)\\n\\n======================\\n\\n******\\n[TRAIN]\\n******\\nRMSE: 1.797 (0.000)\\nMAE: 1.432 (0.000)\\nMAPE: 0.034 (0.000)\\nR2: 0.166 (0.000)\\n\\n======================\\n\\n******\\n[TEST]\\n******\\nRMSE: 1.882 (0.000)\\nMAE: 1.402 (0.000)\\nMAPE: 0.032 (0.000)\\nR2: 0.302 (0.000)\\n\\n======================\\n\\n******\\n[TRAIN]\\n******\\nRMSE: 1.798 (0.000)\\nMAE: 1.428 (0.000)\\nMAPE: 0.034 (0.000)\\nR2: 0.157 (0.000)\\n\\n======================\\n\\n******\\n[TEST]\\n******\\nRMSE: 1.850 (0.000)\\nMAE: 1.578 (0.000)\\nMAPE: 0.037 (0.000)\\nR2: 0.094 (0.000)\\n\\n======================\\n\\n******\\n[TRAIN]\\n******\\nRMSE: 1.800 (0.000)\\nMAE: 1.437 (0.000)\\nMAPE: 0.034 (0.000)\\nR2: 0.147 (0.000)\\n\\n======================\\n\\n******\\n[TEST]\\n******\\nRMSE: 24.215 (0.000)\\nMAE: 9.017 (0.000)\\nMAPE: 0.208 (0.000)\\nR2: 171.161 (0.000)\\n\\n======================\\n\\n******\\n[TRAIN]\\n******\\nRMSE: 1.899 (0.000)\\nMAE: 1.523 (0.000)\\nMAPE: 0.036 (0.000)\\nR2: 0.147 (0.000)\\n\\n======================\\n\\n******\\n[TEST]\\n******\\nRMSE: 3.059 (0.000)\\nMAE: 2.525 (0.000)\\nMAPE: 0.066 (0.000)\\nR2: 0.901 (0.000)\\n\\n======================\\n\\\"\\\"\\\"\";\n",
       "                var nbb_formatted_code = \"s = \\\"\\\"\\\"\\n******\\n[TRAIN]\\n******\\nRMSE: 1.782 (0.126)\\nMAE: 1.413 (0.095)\\nMAPE: 0.034 (0.002)\\nR2: 0.197 (0.016)\\n\\n======================\\n\\n******\\n[TEST]\\n******\\nRMSE: 2.066 (0.086)\\nMAE: 1.689 (0.020)\\nMAPE: 0.041 (0.001)\\nR2: 0.569 (0.635)\\n\\n======================\\n\\n******\\n[TRAIN]\\n******\\nRMSE: 1.975 (0.148)\\nMAE: 1.560 (0.108)\\nMAPE: 0.037 (0.003)\\nR2: 0.253 (0.095)\\n\\n======================\\n\\n******\\n[TEST]\\n******\\nRMSE: 1.680 (0.016)\\nMAE: 1.417 (0.055)\\nMAPE: 0.035 (0.001)\\nR2: 0.208 (0.209)\\n\\n======================\\n\\n******\\n[TRAIN]\\n******\\nRMSE: 1.797 (0.000)\\nMAE: 1.432 (0.000)\\nMAPE: 0.034 (0.000)\\nR2: 0.166 (0.000)\\n\\n======================\\n\\n******\\n[TEST]\\n******\\nRMSE: 1.882 (0.000)\\nMAE: 1.402 (0.000)\\nMAPE: 0.032 (0.000)\\nR2: 0.302 (0.000)\\n\\n======================\\n\\n******\\n[TRAIN]\\n******\\nRMSE: 1.798 (0.000)\\nMAE: 1.428 (0.000)\\nMAPE: 0.034 (0.000)\\nR2: 0.157 (0.000)\\n\\n======================\\n\\n******\\n[TEST]\\n******\\nRMSE: 1.850 (0.000)\\nMAE: 1.578 (0.000)\\nMAPE: 0.037 (0.000)\\nR2: 0.094 (0.000)\\n\\n======================\\n\\n******\\n[TRAIN]\\n******\\nRMSE: 1.800 (0.000)\\nMAE: 1.437 (0.000)\\nMAPE: 0.034 (0.000)\\nR2: 0.147 (0.000)\\n\\n======================\\n\\n******\\n[TEST]\\n******\\nRMSE: 24.215 (0.000)\\nMAE: 9.017 (0.000)\\nMAPE: 0.208 (0.000)\\nR2: 171.161 (0.000)\\n\\n======================\\n\\n******\\n[TRAIN]\\n******\\nRMSE: 1.899 (0.000)\\nMAE: 1.523 (0.000)\\nMAPE: 0.036 (0.000)\\nR2: 0.147 (0.000)\\n\\n======================\\n\\n******\\n[TEST]\\n******\\nRMSE: 3.059 (0.000)\\nMAE: 2.525 (0.000)\\nMAPE: 0.066 (0.000)\\nR2: 0.901 (0.000)\\n\\n======================\\n\\\"\\\"\\\"\";\n",
       "                var nbb_cells = Jupyter.notebook.get_cells();\n",
       "                for (var i = 0; i < nbb_cells.length; ++i) {\n",
       "                    if (nbb_cells[i].input_prompt_number == nbb_cell_id) {\n",
       "                        if (nbb_cells[i].get_text() == nbb_unformatted_code) {\n",
       "                             nbb_cells[i].set_text(nbb_formatted_code);\n",
       "                        }\n",
       "                        break;\n",
       "                    }\n",
       "                }\n",
       "            }, 500);\n",
       "            "
      ],
      "text/plain": [
       "<IPython.core.display.Javascript object>"
      ]
     },
     "metadata": {},
     "output_type": "display_data"
    }
   ],
   "source": [
    "s = \"\"\"\n",
    "******\n",
    "[TRAIN]\n",
    "******\n",
    "RMSE: 1.782 (0.126)\n",
    "MAE: 1.413 (0.095)\n",
    "MAPE: 0.034 (0.002)\n",
    "R2: 0.197 (0.016)\n",
    "\n",
    "======================\n",
    "\n",
    "******\n",
    "[TEST]\n",
    "******\n",
    "RMSE: 2.066 (0.086)\n",
    "MAE: 1.689 (0.020)\n",
    "MAPE: 0.041 (0.001)\n",
    "R2: 0.569 (0.635)\n",
    "\n",
    "======================\n",
    "\n",
    "******\n",
    "[TRAIN]\n",
    "******\n",
    "RMSE: 1.975 (0.148)\n",
    "MAE: 1.560 (0.108)\n",
    "MAPE: 0.037 (0.003)\n",
    "R2: 0.253 (0.095)\n",
    "\n",
    "======================\n",
    "\n",
    "******\n",
    "[TEST]\n",
    "******\n",
    "RMSE: 1.680 (0.016)\n",
    "MAE: 1.417 (0.055)\n",
    "MAPE: 0.035 (0.001)\n",
    "R2: 0.208 (0.209)\n",
    "\n",
    "======================\n",
    "\n",
    "******\n",
    "[TRAIN]\n",
    "******\n",
    "RMSE: 1.797 (0.000)\n",
    "MAE: 1.432 (0.000)\n",
    "MAPE: 0.034 (0.000)\n",
    "R2: 0.166 (0.000)\n",
    "\n",
    "======================\n",
    "\n",
    "******\n",
    "[TEST]\n",
    "******\n",
    "RMSE: 1.882 (0.000)\n",
    "MAE: 1.402 (0.000)\n",
    "MAPE: 0.032 (0.000)\n",
    "R2: 0.302 (0.000)\n",
    "\n",
    "======================\n",
    "\n",
    "******\n",
    "[TRAIN]\n",
    "******\n",
    "RMSE: 1.798 (0.000)\n",
    "MAE: 1.428 (0.000)\n",
    "MAPE: 0.034 (0.000)\n",
    "R2: 0.157 (0.000)\n",
    "\n",
    "======================\n",
    "\n",
    "******\n",
    "[TEST]\n",
    "******\n",
    "RMSE: 1.850 (0.000)\n",
    "MAE: 1.578 (0.000)\n",
    "MAPE: 0.037 (0.000)\n",
    "R2: 0.094 (0.000)\n",
    "\n",
    "======================\n",
    "\n",
    "******\n",
    "[TRAIN]\n",
    "******\n",
    "RMSE: 1.800 (0.000)\n",
    "MAE: 1.437 (0.000)\n",
    "MAPE: 0.034 (0.000)\n",
    "R2: 0.147 (0.000)\n",
    "\n",
    "======================\n",
    "\n",
    "******\n",
    "[TEST]\n",
    "******\n",
    "RMSE: 24.215 (0.000)\n",
    "MAE: 9.017 (0.000)\n",
    "MAPE: 0.208 (0.000)\n",
    "R2: 171.161 (0.000)\n",
    "\n",
    "======================\n",
    "\n",
    "******\n",
    "[TRAIN]\n",
    "******\n",
    "RMSE: 1.899 (0.000)\n",
    "MAE: 1.523 (0.000)\n",
    "MAPE: 0.036 (0.000)\n",
    "R2: 0.147 (0.000)\n",
    "\n",
    "======================\n",
    "\n",
    "******\n",
    "[TEST]\n",
    "******\n",
    "RMSE: 3.059 (0.000)\n",
    "MAE: 2.525 (0.000)\n",
    "MAPE: 0.066 (0.000)\n",
    "R2: 0.901 (0.000)\n",
    "\n",
    "======================\n",
    "\"\"\""
   ]
  },
  {
   "cell_type": "code",
   "execution_count": 7,
   "metadata": {},
   "outputs": [
    {
     "data": {
      "application/javascript": [
       "\n",
       "            setTimeout(function() {\n",
       "                var nbb_cell_id = 7;\n",
       "                var nbb_unformatted_code = \"# Define the train and test periods for each row\\nperiods = [\\n    [\\\"6 months\\\", \\\"One Month\\\"],\\n    [\\\"11 months\\\", \\\"One Month\\\"],\\n    [\\\"1 year\\\", \\\"One Month\\\"],\\n    [\\\"1 year and one month\\\", \\\"One Month\\\"],\\n    [\\\"1 year and two months\\\", \\\"One Month\\\"],\\n    [\\\"1 year and 7 months and 18 days\\\", \\\"4 months and 27 days\\\"],\\n]\\n\\n# Extract the relevant information and store it in a dictionary\\ndata = {\\n    \\\"Validation\\\": [\\\"Blocking Time Series - Period Specific\\\"] * 24,\\n    \\\"Repeats\\\": [1] * 24,\\n    \\\"Splits\\\": [1] * 24,\\n    \\\"Metric\\\": [\\\"RMSE\\\", \\\"MAE\\\", \\\"MAPE\\\", \\\"R2\\\"] * len(periods),\\n    \\\"Train Mean\\\": [],\\n    \\\"Train Std\\\": [],\\n    \\\"Test Mean\\\": [],\\n    \\\"Test Std\\\": [],\\n    \\\"Train Period\\\": [\\n        item for sublist in [[result[0]] * 4 for result in periods] for item in sublist\\n    ],\\n    \\\"Test Period\\\": [\\n        item for sublist in [[result[1]] * 4 for result in periods] for item in sublist\\n    ],\\n}\\n\\nscores = extract_scores(s)\\n\\ndata[\\\"Train Mean\\\"] = scores[\\\"Train Mean\\\"]\\ndata[\\\"Train Std\\\"] = scores[\\\"Train Std\\\"]\\ndata[\\\"Test Mean\\\"] = scores[\\\"Test Mean\\\"]\\ndata[\\\"Test Std\\\"] = scores[\\\"Test Std\\\"]\\n\\ndf = pd.DataFrame(data)\";\n",
       "                var nbb_formatted_code = \"# Define the train and test periods for each row\\nperiods = [\\n    [\\\"6 months\\\", \\\"One Month\\\"],\\n    [\\\"11 months\\\", \\\"One Month\\\"],\\n    [\\\"1 year\\\", \\\"One Month\\\"],\\n    [\\\"1 year and one month\\\", \\\"One Month\\\"],\\n    [\\\"1 year and two months\\\", \\\"One Month\\\"],\\n    [\\\"1 year and 7 months and 18 days\\\", \\\"4 months and 27 days\\\"],\\n]\\n\\n# Extract the relevant information and store it in a dictionary\\ndata = {\\n    \\\"Validation\\\": [\\\"Blocking Time Series - Period Specific\\\"] * 24,\\n    \\\"Repeats\\\": [1] * 24,\\n    \\\"Splits\\\": [1] * 24,\\n    \\\"Metric\\\": [\\\"RMSE\\\", \\\"MAE\\\", \\\"MAPE\\\", \\\"R2\\\"] * len(periods),\\n    \\\"Train Mean\\\": [],\\n    \\\"Train Std\\\": [],\\n    \\\"Test Mean\\\": [],\\n    \\\"Test Std\\\": [],\\n    \\\"Train Period\\\": [\\n        item for sublist in [[result[0]] * 4 for result in periods] for item in sublist\\n    ],\\n    \\\"Test Period\\\": [\\n        item for sublist in [[result[1]] * 4 for result in periods] for item in sublist\\n    ],\\n}\\n\\nscores = extract_scores(s)\\n\\ndata[\\\"Train Mean\\\"] = scores[\\\"Train Mean\\\"]\\ndata[\\\"Train Std\\\"] = scores[\\\"Train Std\\\"]\\ndata[\\\"Test Mean\\\"] = scores[\\\"Test Mean\\\"]\\ndata[\\\"Test Std\\\"] = scores[\\\"Test Std\\\"]\\n\\ndf = pd.DataFrame(data)\";\n",
       "                var nbb_cells = Jupyter.notebook.get_cells();\n",
       "                for (var i = 0; i < nbb_cells.length; ++i) {\n",
       "                    if (nbb_cells[i].input_prompt_number == nbb_cell_id) {\n",
       "                        if (nbb_cells[i].get_text() == nbb_unformatted_code) {\n",
       "                             nbb_cells[i].set_text(nbb_formatted_code);\n",
       "                        }\n",
       "                        break;\n",
       "                    }\n",
       "                }\n",
       "            }, 500);\n",
       "            "
      ],
      "text/plain": [
       "<IPython.core.display.Javascript object>"
      ]
     },
     "metadata": {},
     "output_type": "display_data"
    }
   ],
   "source": [
    "# Define the train and test periods for each row\n",
    "periods = [\n",
    "    [\"6 months\", \"One Month\"],\n",
    "    [\"11 months\", \"One Month\"],\n",
    "    [\"1 year\", \"One Month\"],\n",
    "    [\"1 year and one month\", \"One Month\"],\n",
    "    [\"1 year and two months\", \"One Month\"],\n",
    "    [\"1 year and 7 months and 18 days\", \"4 months and 27 days\"],\n",
    "]\n",
    "\n",
    "# Extract the relevant information and store it in a dictionary\n",
    "data = {\n",
    "    \"Validation\": [\"Blocking Time Series - Period Specific\"] * 24,\n",
    "    \"Repeats\": [1] * 24,\n",
    "    \"Splits\": [1] * 24,\n",
    "    \"Metric\": [\"RMSE\", \"MAE\", \"MAPE\", \"R2\"] * len(periods),\n",
    "    \"Train Mean\": [],\n",
    "    \"Train Std\": [],\n",
    "    \"Test Mean\": [],\n",
    "    \"Test Std\": [],\n",
    "    \"Train Period\": [\n",
    "        item for sublist in [[result[0]] * 4 for result in periods] for item in sublist\n",
    "    ],\n",
    "    \"Test Period\": [\n",
    "        item for sublist in [[result[1]] * 4 for result in periods] for item in sublist\n",
    "    ],\n",
    "}\n",
    "\n",
    "scores = extract_scores(s)\n",
    "\n",
    "data[\"Train Mean\"] = scores[\"Train Mean\"]\n",
    "data[\"Train Std\"] = scores[\"Train Std\"]\n",
    "data[\"Test Mean\"] = scores[\"Test Mean\"]\n",
    "data[\"Test Std\"] = scores[\"Test Std\"]\n",
    "\n",
    "df = pd.DataFrame(data)"
   ]
  },
  {
   "cell_type": "code",
   "execution_count": 8,
   "metadata": {},
   "outputs": [
    {
     "name": "stderr",
     "output_type": "stream",
     "text": [
      "/home/felipe/Documents/ccs28-venv/lib/python3.6/site-packages/ipykernel_launcher.py:6: UserWarning: Boolean Series key will be reindexed to match DataFrame index.\n",
      "  \n"
     ]
    },
    {
     "data": {
      "text/html": [
       "<div>\n",
       "<style scoped>\n",
       "    .dataframe tbody tr th:only-of-type {\n",
       "        vertical-align: middle;\n",
       "    }\n",
       "\n",
       "    .dataframe tbody tr th {\n",
       "        vertical-align: top;\n",
       "    }\n",
       "\n",
       "    .dataframe thead th {\n",
       "        text-align: right;\n",
       "    }\n",
       "</style>\n",
       "<table border=\"1\" class=\"dataframe\">\n",
       "  <thead>\n",
       "    <tr style=\"text-align: right;\">\n",
       "      <th></th>\n",
       "      <th></th>\n",
       "      <th>Validation</th>\n",
       "      <th>Repeats</th>\n",
       "      <th>Splits</th>\n",
       "      <th>Metric</th>\n",
       "      <th>Train Mean</th>\n",
       "      <th>Train Std</th>\n",
       "      <th>Test Mean</th>\n",
       "      <th>Test Std</th>\n",
       "    </tr>\n",
       "    <tr>\n",
       "      <th>Train Period</th>\n",
       "      <th>Test Period</th>\n",
       "      <th></th>\n",
       "      <th></th>\n",
       "      <th></th>\n",
       "      <th></th>\n",
       "      <th></th>\n",
       "      <th></th>\n",
       "      <th></th>\n",
       "      <th></th>\n",
       "    </tr>\n",
       "  </thead>\n",
       "  <tbody>\n",
       "    <tr>\n",
       "      <th rowspan=\"4\" valign=\"top\">11 months</th>\n",
       "      <th>One Month</th>\n",
       "      <td>Blocking Time Series - Period Specific</td>\n",
       "      <td>1</td>\n",
       "      <td>1</td>\n",
       "      <td>RMSE</td>\n",
       "      <td>1.975</td>\n",
       "      <td>0.148</td>\n",
       "      <td>1.680</td>\n",
       "      <td>0.016</td>\n",
       "    </tr>\n",
       "    <tr>\n",
       "      <th>One Month</th>\n",
       "      <td>Blocking Time Series - Period Specific</td>\n",
       "      <td>1</td>\n",
       "      <td>1</td>\n",
       "      <td>MAE</td>\n",
       "      <td>1.560</td>\n",
       "      <td>0.108</td>\n",
       "      <td>1.417</td>\n",
       "      <td>0.055</td>\n",
       "    </tr>\n",
       "    <tr>\n",
       "      <th>One Month</th>\n",
       "      <td>Blocking Time Series - Period Specific</td>\n",
       "      <td>1</td>\n",
       "      <td>1</td>\n",
       "      <td>MAPE</td>\n",
       "      <td>0.037</td>\n",
       "      <td>0.003</td>\n",
       "      <td>0.035</td>\n",
       "      <td>0.001</td>\n",
       "    </tr>\n",
       "    <tr>\n",
       "      <th>One Month</th>\n",
       "      <td>Blocking Time Series - Period Specific</td>\n",
       "      <td>1</td>\n",
       "      <td>1</td>\n",
       "      <td>R2</td>\n",
       "      <td>0.253</td>\n",
       "      <td>0.095</td>\n",
       "      <td>0.208</td>\n",
       "      <td>0.209</td>\n",
       "    </tr>\n",
       "  </tbody>\n",
       "</table>\n",
       "</div>"
      ],
      "text/plain": [
       "                                                      Validation  Repeats  \\\n",
       "Train Period Test Period                                                    \n",
       "11 months    One Month    Blocking Time Series - Period Specific        1   \n",
       "             One Month    Blocking Time Series - Period Specific        1   \n",
       "             One Month    Blocking Time Series - Period Specific        1   \n",
       "             One Month    Blocking Time Series - Period Specific        1   \n",
       "\n",
       "                          Splits Metric  Train Mean  Train Std  Test Mean  \\\n",
       "Train Period Test Period                                                    \n",
       "11 months    One Month         1   RMSE       1.975      0.148      1.680   \n",
       "             One Month         1    MAE       1.560      0.108      1.417   \n",
       "             One Month         1   MAPE       0.037      0.003      0.035   \n",
       "             One Month         1     R2       0.253      0.095      0.208   \n",
       "\n",
       "                          Test Std  \n",
       "Train Period Test Period            \n",
       "11 months    One Month       0.016  \n",
       "             One Month       0.055  \n",
       "             One Month       0.001  \n",
       "             One Month       0.209  "
      ]
     },
     "execution_count": 8,
     "metadata": {},
     "output_type": "execute_result"
    },
    {
     "data": {
      "application/javascript": [
       "\n",
       "            setTimeout(function() {\n",
       "                var nbb_cell_id = 8;\n",
       "                var nbb_unformatted_code = \"df = df.set_index([\\\"Train Period\\\", \\\"Test Period\\\"])\\ndf[\\n    (\\n        df[df[\\\"Metric\\\"] == \\\"RMSE\\\"]\\n        == df[df[\\\"Metric\\\"] == \\\"RMSE\\\"][[\\\"Test Mean\\\"]].min().values[0]\\n    )[\\\"Test Mean\\\"]\\n]\";\n",
       "                var nbb_formatted_code = \"df = df.set_index([\\\"Train Period\\\", \\\"Test Period\\\"])\\ndf[\\n    (\\n        df[df[\\\"Metric\\\"] == \\\"RMSE\\\"]\\n        == df[df[\\\"Metric\\\"] == \\\"RMSE\\\"][[\\\"Test Mean\\\"]].min().values[0]\\n    )[\\\"Test Mean\\\"]\\n]\";\n",
       "                var nbb_cells = Jupyter.notebook.get_cells();\n",
       "                for (var i = 0; i < nbb_cells.length; ++i) {\n",
       "                    if (nbb_cells[i].input_prompt_number == nbb_cell_id) {\n",
       "                        if (nbb_cells[i].get_text() == nbb_unformatted_code) {\n",
       "                             nbb_cells[i].set_text(nbb_formatted_code);\n",
       "                        }\n",
       "                        break;\n",
       "                    }\n",
       "                }\n",
       "            }, 500);\n",
       "            "
      ],
      "text/plain": [
       "<IPython.core.display.Javascript object>"
      ]
     },
     "metadata": {},
     "output_type": "display_data"
    }
   ],
   "source": [
    "df = df.set_index([\"Train Period\", \"Test Period\"])\n",
    "df[\n",
    "    (\n",
    "        df[df[\"Metric\"] == \"RMSE\"]\n",
    "        == df[df[\"Metric\"] == \"RMSE\"][[\"Test Mean\"]].min().values[0]\n",
    "    )[\"Test Mean\"]\n",
    "]"
   ]
  },
  {
   "cell_type": "markdown",
   "metadata": {},
   "source": [
    "# Reports"
   ]
  },
  {
   "cell_type": "markdown",
   "metadata": {},
   "source": [
    "## Definitions"
   ]
  },
  {
   "cell_type": "code",
   "execution_count": 9,
   "metadata": {},
   "outputs": [
    {
     "data": {
      "application/javascript": [
       "\n",
       "            setTimeout(function() {\n",
       "                var nbb_cell_id = 9;\n",
       "                var nbb_unformatted_code = \"# Linear Algebra\\nimport numpy as np\\n\\n# Plotting\\nimport matplotlib.pyplot as plt\\n\\n# Model Selection\\nfrom sklearn.model_selection import train_test_split\\n\\n# Pipeline\\nfrom sklearn.pipeline import Pipeline\\n\\n# Modeling\\nfrom sklearn.linear_model import LinearRegression\\n\\n# Processing\\nfrom sklearn.preprocessing import StandardScaler\\n\\n# Metrics\\nfrom sklearn.metrics import mean_squared_error\\nfrom sklearn.metrics import mean_absolute_error\\nfrom sklearn.metrics import mean_absolute_percentage_error\\nfrom sklearn.metrics import r2_score\";\n",
       "                var nbb_formatted_code = \"# Linear Algebra\\nimport numpy as np\\n\\n# Plotting\\nimport matplotlib.pyplot as plt\\n\\n# Model Selection\\nfrom sklearn.model_selection import train_test_split\\n\\n# Pipeline\\nfrom sklearn.pipeline import Pipeline\\n\\n# Modeling\\nfrom sklearn.linear_model import LinearRegression\\n\\n# Processing\\nfrom sklearn.preprocessing import StandardScaler\\n\\n# Metrics\\nfrom sklearn.metrics import mean_squared_error\\nfrom sklearn.metrics import mean_absolute_error\\nfrom sklearn.metrics import mean_absolute_percentage_error\\nfrom sklearn.metrics import r2_score\";\n",
       "                var nbb_cells = Jupyter.notebook.get_cells();\n",
       "                for (var i = 0; i < nbb_cells.length; ++i) {\n",
       "                    if (nbb_cells[i].input_prompt_number == nbb_cell_id) {\n",
       "                        if (nbb_cells[i].get_text() == nbb_unformatted_code) {\n",
       "                             nbb_cells[i].set_text(nbb_formatted_code);\n",
       "                        }\n",
       "                        break;\n",
       "                    }\n",
       "                }\n",
       "            }, 500);\n",
       "            "
      ],
      "text/plain": [
       "<IPython.core.display.Javascript object>"
      ]
     },
     "metadata": {},
     "output_type": "display_data"
    }
   ],
   "source": [
    "# Linear Algebra\n",
    "import numpy as np\n",
    "\n",
    "# Plotting\n",
    "import matplotlib.pyplot as plt\n",
    "\n",
    "# Model Selection\n",
    "from sklearn.model_selection import train_test_split\n",
    "\n",
    "# Pipeline\n",
    "from sklearn.pipeline import Pipeline\n",
    "\n",
    "# Modeling\n",
    "from sklearn.linear_model import LinearRegression\n",
    "\n",
    "# Processing\n",
    "from sklearn.preprocessing import StandardScaler\n",
    "\n",
    "# Metrics\n",
    "from sklearn.metrics import mean_squared_error\n",
    "from sklearn.metrics import mean_absolute_error\n",
    "from sklearn.metrics import mean_absolute_percentage_error\n",
    "from sklearn.metrics import r2_score"
   ]
  },
  {
   "cell_type": "code",
   "execution_count": 10,
   "metadata": {},
   "outputs": [
    {
     "data": {
      "application/javascript": [
       "\n",
       "            setTimeout(function() {\n",
       "                var nbb_cell_id = 10;\n",
       "                var nbb_unformatted_code = \"def repeated_blocking_time_series(\\n    Estimator, Transform, x, y, train_period, test_period, repeats=10, params=None\\n):\\n    models = []\\n    results = []\\n    max_samples = x.shape[0]\\n    y_results = []\\n    for _ in range(repeats):\\n        i = 0\\n        scores = []\\n        for _ in range(0, max_samples // (train_period + test_period)):\\n            scaler = Transform()\\n            model = Estimator() if params is None else Estimator(**params)\\n            x_train = x[i : i + train_period]\\n            y_train = y[i : i + train_period]\\n            x_test = x[i + train_period : i + train_period + test_period]\\n            y_test = y[i + train_period : i + train_period + test_period]\\n            x_train = scaler.fit_transform(x_train)\\n            x_test = scaler.transform(x_test)\\n\\n            model.fit(x_train, y_train)\\n\\n            y_train_pred = model.predict(x_train)\\n            y_test_pred = model.predict(x_test)\\n            y_results.append(y_test_pred)\\n            scores.append(\\n                score_regression_metrics(y_train, y_train_pred, y_test, y_test_pred)\\n            )\\n            i += train_period + test_period\\n            models.append(model)\\n\\n        scores_final = {key: [] for key, _ in scores[0].items()}\\n        for scores_dict in scores:\\n            for key, value in scores_dict.items():\\n                scores_final[key] += [value]\\n        results.append(scores_final)\\n    return results, y_results, models\";\n",
       "                var nbb_formatted_code = \"def repeated_blocking_time_series(\\n    Estimator, Transform, x, y, train_period, test_period, repeats=10, params=None\\n):\\n    models = []\\n    results = []\\n    max_samples = x.shape[0]\\n    y_results = []\\n    for _ in range(repeats):\\n        i = 0\\n        scores = []\\n        for _ in range(0, max_samples // (train_period + test_period)):\\n            scaler = Transform()\\n            model = Estimator() if params is None else Estimator(**params)\\n            x_train = x[i : i + train_period]\\n            y_train = y[i : i + train_period]\\n            x_test = x[i + train_period : i + train_period + test_period]\\n            y_test = y[i + train_period : i + train_period + test_period]\\n            x_train = scaler.fit_transform(x_train)\\n            x_test = scaler.transform(x_test)\\n\\n            model.fit(x_train, y_train)\\n\\n            y_train_pred = model.predict(x_train)\\n            y_test_pred = model.predict(x_test)\\n            y_results.append(y_test_pred)\\n            scores.append(\\n                score_regression_metrics(y_train, y_train_pred, y_test, y_test_pred)\\n            )\\n            i += train_period + test_period\\n            models.append(model)\\n\\n        scores_final = {key: [] for key, _ in scores[0].items()}\\n        for scores_dict in scores:\\n            for key, value in scores_dict.items():\\n                scores_final[key] += [value]\\n        results.append(scores_final)\\n    return results, y_results, models\";\n",
       "                var nbb_cells = Jupyter.notebook.get_cells();\n",
       "                for (var i = 0; i < nbb_cells.length; ++i) {\n",
       "                    if (nbb_cells[i].input_prompt_number == nbb_cell_id) {\n",
       "                        if (nbb_cells[i].get_text() == nbb_unformatted_code) {\n",
       "                             nbb_cells[i].set_text(nbb_formatted_code);\n",
       "                        }\n",
       "                        break;\n",
       "                    }\n",
       "                }\n",
       "            }, 500);\n",
       "            "
      ],
      "text/plain": [
       "<IPython.core.display.Javascript object>"
      ]
     },
     "metadata": {},
     "output_type": "display_data"
    }
   ],
   "source": [
    "def repeated_blocking_time_series(\n",
    "    Estimator, Transform, x, y, train_period, test_period, repeats=10, params=None\n",
    "):\n",
    "    models = []\n",
    "    results = []\n",
    "    max_samples = x.shape[0]\n",
    "    y_results = []\n",
    "    for _ in range(repeats):\n",
    "        i = 0\n",
    "        scores = []\n",
    "        for _ in range(0, max_samples // (train_period + test_period)):\n",
    "            scaler = Transform()\n",
    "            model = Estimator() if params is None else Estimator(**params)\n",
    "            x_train = x[i : i + train_period]\n",
    "            y_train = y[i : i + train_period]\n",
    "            x_test = x[i + train_period : i + train_period + test_period]\n",
    "            y_test = y[i + train_period : i + train_period + test_period]\n",
    "            x_train = scaler.fit_transform(x_train)\n",
    "            x_test = scaler.transform(x_test)\n",
    "\n",
    "            model.fit(x_train, y_train)\n",
    "\n",
    "            y_train_pred = model.predict(x_train)\n",
    "            y_test_pred = model.predict(x_test)\n",
    "            y_results.append(y_test_pred)\n",
    "            scores.append(\n",
    "                score_regression_metrics(y_train, y_train_pred, y_test, y_test_pred)\n",
    "            )\n",
    "            i += train_period + test_period\n",
    "            models.append(model)\n",
    "\n",
    "        scores_final = {key: [] for key, _ in scores[0].items()}\n",
    "        for scores_dict in scores:\n",
    "            for key, value in scores_dict.items():\n",
    "                scores_final[key] += [value]\n",
    "        results.append(scores_final)\n",
    "    return results, y_results, models"
   ]
  },
  {
   "cell_type": "code",
   "execution_count": 11,
   "metadata": {},
   "outputs": [
    {
     "data": {
      "application/javascript": [
       "\n",
       "            setTimeout(function() {\n",
       "                var nbb_cell_id = 11;\n",
       "                var nbb_unformatted_code = \"def print_scores(scores, METRICS, METRICS_DICT):\\n    for phase in [\\\"train\\\", \\\"test\\\"]:\\n        print(\\\"******\\\")\\n        print(f\\\"[{phase.upper()}]\\\")\\n        print(\\\"******\\\")\\n        for metric in METRICS:\\n            name = METRICS_DICT[metric]\\n            print(\\n                f\\\"{name}: %.3f (%.3f)\\\"\\n                % (\\n                    np.abs(np.mean(scores[f\\\"{phase}_\\\" + metric])),\\n                    np.std(scores[f\\\"{phase}_\\\" + metric]),\\n                )\\n            )\\n        print(\\\"\\\\n======================\\\\n\\\")\";\n",
       "                var nbb_formatted_code = \"def print_scores(scores, METRICS, METRICS_DICT):\\n    for phase in [\\\"train\\\", \\\"test\\\"]:\\n        print(\\\"******\\\")\\n        print(f\\\"[{phase.upper()}]\\\")\\n        print(\\\"******\\\")\\n        for metric in METRICS:\\n            name = METRICS_DICT[metric]\\n            print(\\n                f\\\"{name}: %.3f (%.3f)\\\"\\n                % (\\n                    np.abs(np.mean(scores[f\\\"{phase}_\\\" + metric])),\\n                    np.std(scores[f\\\"{phase}_\\\" + metric]),\\n                )\\n            )\\n        print(\\\"\\\\n======================\\\\n\\\")\";\n",
       "                var nbb_cells = Jupyter.notebook.get_cells();\n",
       "                for (var i = 0; i < nbb_cells.length; ++i) {\n",
       "                    if (nbb_cells[i].input_prompt_number == nbb_cell_id) {\n",
       "                        if (nbb_cells[i].get_text() == nbb_unformatted_code) {\n",
       "                             nbb_cells[i].set_text(nbb_formatted_code);\n",
       "                        }\n",
       "                        break;\n",
       "                    }\n",
       "                }\n",
       "            }, 500);\n",
       "            "
      ],
      "text/plain": [
       "<IPython.core.display.Javascript object>"
      ]
     },
     "metadata": {},
     "output_type": "display_data"
    }
   ],
   "source": [
    "def print_scores(scores, METRICS, METRICS_DICT):\n",
    "    for phase in [\"train\", \"test\"]:\n",
    "        print(\"******\")\n",
    "        print(f\"[{phase.upper()}]\")\n",
    "        print(\"******\")\n",
    "        for metric in METRICS:\n",
    "            name = METRICS_DICT[metric]\n",
    "            print(\n",
    "                f\"{name}: %.3f (%.3f)\"\n",
    "                % (\n",
    "                    np.abs(np.mean(scores[f\"{phase}_\" + metric])),\n",
    "                    np.std(scores[f\"{phase}_\" + metric]),\n",
    "                )\n",
    "            )\n",
    "        print(\"\\n======================\\n\")"
   ]
  },
  {
   "cell_type": "code",
   "execution_count": 12,
   "metadata": {},
   "outputs": [
    {
     "data": {
      "application/javascript": [
       "\n",
       "            setTimeout(function() {\n",
       "                var nbb_cell_id = 12;\n",
       "                var nbb_unformatted_code = \"def score_regression_metrics(y_train, y_train_pred, y_test, y_test_pred):\\n    TRAIN_RMSE = mean_squared_error(y_true=y_train, y_pred=y_train_pred, squared=False)\\n    TRAIN_MAE = mean_absolute_error(y_true=y_train, y_pred=y_train_pred)\\n    TRAIN_MAPE = mean_absolute_percentage_error(y_true=y_train, y_pred=y_train_pred)\\n    TRAIN_R2 = r2_score(y_true=y_train, y_pred=y_train_pred)\\n\\n    TEST_RMSE = mean_squared_error(y_true=y_test, y_pred=y_test_pred, squared=False)\\n    TEST_MAE = mean_absolute_error(y_true=y_test, y_pred=y_test_pred)\\n    TEST_MAPE = mean_absolute_percentage_error(y_true=y_test, y_pred=y_test_pred)\\n    TEST_R2 = r2_score(y_true=y_test, y_pred=y_test_pred)\\n\\n    scores = {\\n        \\\"train_neg_root_mean_squared_error\\\": TRAIN_RMSE,\\n        \\\"train_neg_mean_absolute_error\\\": TRAIN_MAE,\\n        \\\"train_neg_mean_absolute_percentage_error\\\": TRAIN_MAPE,\\n        \\\"train_r2\\\": TRAIN_R2,\\n        \\\"test_neg_root_mean_squared_error\\\": TEST_RMSE,\\n        \\\"test_neg_mean_absolute_error\\\": TEST_MAE,\\n        \\\"test_neg_mean_absolute_percentage_error\\\": TEST_MAPE,\\n        \\\"test_r2\\\": TEST_R2,\\n    }\\n    return scores\";\n",
       "                var nbb_formatted_code = \"def score_regression_metrics(y_train, y_train_pred, y_test, y_test_pred):\\n    TRAIN_RMSE = mean_squared_error(y_true=y_train, y_pred=y_train_pred, squared=False)\\n    TRAIN_MAE = mean_absolute_error(y_true=y_train, y_pred=y_train_pred)\\n    TRAIN_MAPE = mean_absolute_percentage_error(y_true=y_train, y_pred=y_train_pred)\\n    TRAIN_R2 = r2_score(y_true=y_train, y_pred=y_train_pred)\\n\\n    TEST_RMSE = mean_squared_error(y_true=y_test, y_pred=y_test_pred, squared=False)\\n    TEST_MAE = mean_absolute_error(y_true=y_test, y_pred=y_test_pred)\\n    TEST_MAPE = mean_absolute_percentage_error(y_true=y_test, y_pred=y_test_pred)\\n    TEST_R2 = r2_score(y_true=y_test, y_pred=y_test_pred)\\n\\n    scores = {\\n        \\\"train_neg_root_mean_squared_error\\\": TRAIN_RMSE,\\n        \\\"train_neg_mean_absolute_error\\\": TRAIN_MAE,\\n        \\\"train_neg_mean_absolute_percentage_error\\\": TRAIN_MAPE,\\n        \\\"train_r2\\\": TRAIN_R2,\\n        \\\"test_neg_root_mean_squared_error\\\": TEST_RMSE,\\n        \\\"test_neg_mean_absolute_error\\\": TEST_MAE,\\n        \\\"test_neg_mean_absolute_percentage_error\\\": TEST_MAPE,\\n        \\\"test_r2\\\": TEST_R2,\\n    }\\n    return scores\";\n",
       "                var nbb_cells = Jupyter.notebook.get_cells();\n",
       "                for (var i = 0; i < nbb_cells.length; ++i) {\n",
       "                    if (nbb_cells[i].input_prompt_number == nbb_cell_id) {\n",
       "                        if (nbb_cells[i].get_text() == nbb_unformatted_code) {\n",
       "                             nbb_cells[i].set_text(nbb_formatted_code);\n",
       "                        }\n",
       "                        break;\n",
       "                    }\n",
       "                }\n",
       "            }, 500);\n",
       "            "
      ],
      "text/plain": [
       "<IPython.core.display.Javascript object>"
      ]
     },
     "metadata": {},
     "output_type": "display_data"
    }
   ],
   "source": [
    "def score_regression_metrics(y_train, y_train_pred, y_test, y_test_pred):\n",
    "    TRAIN_RMSE = mean_squared_error(y_true=y_train, y_pred=y_train_pred, squared=False)\n",
    "    TRAIN_MAE = mean_absolute_error(y_true=y_train, y_pred=y_train_pred)\n",
    "    TRAIN_MAPE = mean_absolute_percentage_error(y_true=y_train, y_pred=y_train_pred)\n",
    "    TRAIN_R2 = r2_score(y_true=y_train, y_pred=y_train_pred)\n",
    "\n",
    "    TEST_RMSE = mean_squared_error(y_true=y_test, y_pred=y_test_pred, squared=False)\n",
    "    TEST_MAE = mean_absolute_error(y_true=y_test, y_pred=y_test_pred)\n",
    "    TEST_MAPE = mean_absolute_percentage_error(y_true=y_test, y_pred=y_test_pred)\n",
    "    TEST_R2 = r2_score(y_true=y_test, y_pred=y_test_pred)\n",
    "\n",
    "    scores = {\n",
    "        \"train_neg_root_mean_squared_error\": TRAIN_RMSE,\n",
    "        \"train_neg_mean_absolute_error\": TRAIN_MAE,\n",
    "        \"train_neg_mean_absolute_percentage_error\": TRAIN_MAPE,\n",
    "        \"train_r2\": TRAIN_R2,\n",
    "        \"test_neg_root_mean_squared_error\": TEST_RMSE,\n",
    "        \"test_neg_mean_absolute_error\": TEST_MAE,\n",
    "        \"test_neg_mean_absolute_percentage_error\": TEST_MAPE,\n",
    "        \"test_r2\": TEST_R2,\n",
    "    }\n",
    "    return scores"
   ]
  },
  {
   "cell_type": "code",
   "execution_count": 13,
   "metadata": {},
   "outputs": [
    {
     "data": {
      "application/javascript": [
       "\n",
       "            setTimeout(function() {\n",
       "                var nbb_cell_id = 13;\n",
       "                var nbb_unformatted_code = \"SEED = 47\\nMETRICS = (\\n    \\\"neg_root_mean_squared_error\\\",\\n    \\\"neg_mean_absolute_error\\\",\\n    \\\"neg_mean_absolute_percentage_error\\\",\\n    \\\"r2\\\",\\n)\\nMETRICS_DICT = {\\n    \\\"neg_root_mean_squared_error\\\": \\\"RMSE\\\",\\n    \\\"neg_mean_absolute_error\\\": \\\"MAE\\\",\\n    \\\"neg_mean_absolute_percentage_error\\\": \\\"MAPE\\\",\\n    \\\"r2\\\": \\\"R2\\\",\\n}\";\n",
       "                var nbb_formatted_code = \"SEED = 47\\nMETRICS = (\\n    \\\"neg_root_mean_squared_error\\\",\\n    \\\"neg_mean_absolute_error\\\",\\n    \\\"neg_mean_absolute_percentage_error\\\",\\n    \\\"r2\\\",\\n)\\nMETRICS_DICT = {\\n    \\\"neg_root_mean_squared_error\\\": \\\"RMSE\\\",\\n    \\\"neg_mean_absolute_error\\\": \\\"MAE\\\",\\n    \\\"neg_mean_absolute_percentage_error\\\": \\\"MAPE\\\",\\n    \\\"r2\\\": \\\"R2\\\",\\n}\";\n",
       "                var nbb_cells = Jupyter.notebook.get_cells();\n",
       "                for (var i = 0; i < nbb_cells.length; ++i) {\n",
       "                    if (nbb_cells[i].input_prompt_number == nbb_cell_id) {\n",
       "                        if (nbb_cells[i].get_text() == nbb_unformatted_code) {\n",
       "                             nbb_cells[i].set_text(nbb_formatted_code);\n",
       "                        }\n",
       "                        break;\n",
       "                    }\n",
       "                }\n",
       "            }, 500);\n",
       "            "
      ],
      "text/plain": [
       "<IPython.core.display.Javascript object>"
      ]
     },
     "metadata": {},
     "output_type": "display_data"
    }
   ],
   "source": [
    "SEED = 47\n",
    "METRICS = (\n",
    "    \"neg_root_mean_squared_error\",\n",
    "    \"neg_mean_absolute_error\",\n",
    "    \"neg_mean_absolute_percentage_error\",\n",
    "    \"r2\",\n",
    ")\n",
    "METRICS_DICT = {\n",
    "    \"neg_root_mean_squared_error\": \"RMSE\",\n",
    "    \"neg_mean_absolute_error\": \"MAE\",\n",
    "    \"neg_mean_absolute_percentage_error\": \"MAPE\",\n",
    "    \"r2\": \"R2\",\n",
    "}"
   ]
  },
  {
   "cell_type": "markdown",
   "metadata": {},
   "source": [
    "## Reading the dataset"
   ]
  },
  {
   "cell_type": "code",
   "execution_count": 62,
   "metadata": {},
   "outputs": [
    {
     "data": {
      "application/javascript": [
       "\n",
       "            setTimeout(function() {\n",
       "                var nbb_cell_id = 62;\n",
       "                var nbb_unformatted_code = \"df = pd.read_csv(\\\"../../../../../../data/processed/partner_ii/Type-I-II.csv\\\")\";\n",
       "                var nbb_formatted_code = \"df = pd.read_csv(\\\"../../../../../../data/processed/partner_ii/Type-I-II.csv\\\")\";\n",
       "                var nbb_cells = Jupyter.notebook.get_cells();\n",
       "                for (var i = 0; i < nbb_cells.length; ++i) {\n",
       "                    if (nbb_cells[i].input_prompt_number == nbb_cell_id) {\n",
       "                        if (nbb_cells[i].get_text() == nbb_unformatted_code) {\n",
       "                             nbb_cells[i].set_text(nbb_formatted_code);\n",
       "                        }\n",
       "                        break;\n",
       "                    }\n",
       "                }\n",
       "            }, 500);\n",
       "            "
      ],
      "text/plain": [
       "<IPython.core.display.Javascript object>"
      ]
     },
     "metadata": {},
     "output_type": "display_data"
    }
   ],
   "source": [
    "df = pd.read_csv(\"../../../../../../data/processed/partner_ii/Type-I-II.csv\")"
   ]
  },
  {
   "cell_type": "markdown",
   "metadata": {},
   "source": [
    "## 1. Dataset: df_no_cs\n",
    "\n",
    "In this dataset the CS1, CS3 and CS7 variables are not considered. "
   ]
  },
  {
   "cell_type": "code",
   "execution_count": 63,
   "metadata": {},
   "outputs": [
    {
     "data": {
      "application/javascript": [
       "\n",
       "            setTimeout(function() {\n",
       "                var nbb_cell_id = 63;\n",
       "                var nbb_unformatted_code = \"df_no_cs = df.drop(\\n    [\\\"strength_1d\\\", \\\"strength_3d\\\", \\\"strength_7d\\\"],\\n    axis=1,\\n).copy()\\n\\ny = df_no_cs.pop(\\\"strength_28d\\\").values\\nx = df_no_cs.drop([\\\"sample_date\\\"], axis=1)\";\n",
       "                var nbb_formatted_code = \"df_no_cs = df.drop(\\n    [\\\"strength_1d\\\", \\\"strength_3d\\\", \\\"strength_7d\\\"],\\n    axis=1,\\n).copy()\\n\\ny = df_no_cs.pop(\\\"strength_28d\\\").values\\nx = df_no_cs.drop([\\\"sample_date\\\"], axis=1)\";\n",
       "                var nbb_cells = Jupyter.notebook.get_cells();\n",
       "                for (var i = 0; i < nbb_cells.length; ++i) {\n",
       "                    if (nbb_cells[i].input_prompt_number == nbb_cell_id) {\n",
       "                        if (nbb_cells[i].get_text() == nbb_unformatted_code) {\n",
       "                             nbb_cells[i].set_text(nbb_formatted_code);\n",
       "                        }\n",
       "                        break;\n",
       "                    }\n",
       "                }\n",
       "            }, 500);\n",
       "            "
      ],
      "text/plain": [
       "<IPython.core.display.Javascript object>"
      ]
     },
     "metadata": {},
     "output_type": "display_data"
    }
   ],
   "source": [
    "df_no_cs = df.drop(\n",
    "    [\"strength_1d\", \"strength_3d\", \"strength_7d\"],\n",
    "    axis=1,\n",
    ").copy()\n",
    "\n",
    "y = df_no_cs.pop(\"strength_28d\").values\n",
    "x = df_no_cs.drop([\"sample_date\"], axis=1)"
   ]
  },
  {
   "cell_type": "markdown",
   "metadata": {},
   "source": [
    "## Train 11 months and predicts one month every year"
   ]
  },
  {
   "cell_type": "code",
   "execution_count": 64,
   "metadata": {},
   "outputs": [
    {
     "name": "stdout",
     "output_type": "stream",
     "text": [
      "******\n",
      "[TRAIN]\n",
      "******\n",
      "RMSE: 1.975 (0.148)\n",
      "MAE: 1.560 (0.108)\n",
      "MAPE: 0.037 (0.003)\n",
      "R2: 0.253 (0.095)\n",
      "\n",
      "======================\n",
      "\n",
      "******\n",
      "[TEST]\n",
      "******\n",
      "RMSE: 1.680 (0.016)\n",
      "MAE: 1.417 (0.055)\n",
      "MAPE: 0.035 (0.001)\n",
      "R2: 0.208 (0.209)\n",
      "\n",
      "======================\n",
      "\n"
     ]
    },
    {
     "data": {
      "application/javascript": [
       "\n",
       "            setTimeout(function() {\n",
       "                var nbb_cell_id = 64;\n",
       "                var nbb_unformatted_code = \"scores, y_results, models = repeated_blocking_time_series(\\n    LinearRegression,\\n    StandardScaler,\\n    x,\\n    y,\\n    train_period=330,\\n    test_period=30,\\n    repeats=1,\\n)\\n\\nprint_scores(scores[0], METRICS, METRICS_DICT)\";\n",
       "                var nbb_formatted_code = \"scores, y_results, models = repeated_blocking_time_series(\\n    LinearRegression,\\n    StandardScaler,\\n    x,\\n    y,\\n    train_period=330,\\n    test_period=30,\\n    repeats=1,\\n)\\n\\nprint_scores(scores[0], METRICS, METRICS_DICT)\";\n",
       "                var nbb_cells = Jupyter.notebook.get_cells();\n",
       "                for (var i = 0; i < nbb_cells.length; ++i) {\n",
       "                    if (nbb_cells[i].input_prompt_number == nbb_cell_id) {\n",
       "                        if (nbb_cells[i].get_text() == nbb_unformatted_code) {\n",
       "                             nbb_cells[i].set_text(nbb_formatted_code);\n",
       "                        }\n",
       "                        break;\n",
       "                    }\n",
       "                }\n",
       "            }, 500);\n",
       "            "
      ],
      "text/plain": [
       "<IPython.core.display.Javascript object>"
      ]
     },
     "metadata": {},
     "output_type": "display_data"
    }
   ],
   "source": [
    "scores, y_results, models = repeated_blocking_time_series(\n",
    "    LinearRegression,\n",
    "    StandardScaler,\n",
    "    x,\n",
    "    y,\n",
    "    train_period=330,\n",
    "    test_period=30,\n",
    "    repeats=1,\n",
    ")\n",
    "\n",
    "print_scores(scores[0], METRICS, METRICS_DICT)"
   ]
  },
  {
   "cell_type": "markdown",
   "metadata": {},
   "source": [
    "### Plotting of predicitons"
   ]
  },
  {
   "cell_type": "code",
   "execution_count": 65,
   "metadata": {},
   "outputs": [
    {
     "data": {
      "application/javascript": [
       "\n",
       "            setTimeout(function() {\n",
       "                var nbb_cell_id = 65;\n",
       "                var nbb_unformatted_code = \"y_results_mean = np.mean(y_results, axis=0)\\n# y_hat = y_results_mean.squeeze().squeeze().squeeze()\\ny_hat = y_results\\n\\ndf[\\\"sample_date\\\"] = pd.to_datetime(pd.to_datetime(df[\\\"sample_date\\\"]).dt.date)\\n\\nstart = 330\\nstep = 30\\nindices_start = [i for i in range(start, x.shape[0], start + step)]\\n\\nindex = [df[\\\"sample_date\\\"][start : start + step].values for start in indices_start]\\n\\nresults_str = \\\"\\\"\\\"           Mean  (std)\\nRMSE: 1.680 (0.016)\\nMAE:   1.417 (0.055)\\nMAPE: 0.035 (0.001)\\nR2:     0.208 (0.209)\\n\\\"\\\"\\\"\\n\\ndf = df.rename(\\n    {\\\"sample_date\\\": \\\"Date\\\", \\\"strength_28d\\\": \\\"28 day Compressive strength\\\"}, axis=1\\n)\";\n",
       "                var nbb_formatted_code = \"y_results_mean = np.mean(y_results, axis=0)\\n# y_hat = y_results_mean.squeeze().squeeze().squeeze()\\ny_hat = y_results\\n\\ndf[\\\"sample_date\\\"] = pd.to_datetime(pd.to_datetime(df[\\\"sample_date\\\"]).dt.date)\\n\\nstart = 330\\nstep = 30\\nindices_start = [i for i in range(start, x.shape[0], start + step)]\\n\\nindex = [df[\\\"sample_date\\\"][start : start + step].values for start in indices_start]\\n\\nresults_str = \\\"\\\"\\\"           Mean  (std)\\nRMSE: 1.680 (0.016)\\nMAE:   1.417 (0.055)\\nMAPE: 0.035 (0.001)\\nR2:     0.208 (0.209)\\n\\\"\\\"\\\"\\n\\ndf = df.rename(\\n    {\\\"sample_date\\\": \\\"Date\\\", \\\"strength_28d\\\": \\\"28 day Compressive strength\\\"}, axis=1\\n)\";\n",
       "                var nbb_cells = Jupyter.notebook.get_cells();\n",
       "                for (var i = 0; i < nbb_cells.length; ++i) {\n",
       "                    if (nbb_cells[i].input_prompt_number == nbb_cell_id) {\n",
       "                        if (nbb_cells[i].get_text() == nbb_unformatted_code) {\n",
       "                             nbb_cells[i].set_text(nbb_formatted_code);\n",
       "                        }\n",
       "                        break;\n",
       "                    }\n",
       "                }\n",
       "            }, 500);\n",
       "            "
      ],
      "text/plain": [
       "<IPython.core.display.Javascript object>"
      ]
     },
     "metadata": {},
     "output_type": "display_data"
    }
   ],
   "source": [
    "y_results_mean = np.mean(y_results, axis=0)\n",
    "# y_hat = y_results_mean.squeeze().squeeze().squeeze()\n",
    "y_hat = y_results\n",
    "\n",
    "df[\"sample_date\"] = pd.to_datetime(pd.to_datetime(df[\"sample_date\"]).dt.date)\n",
    "\n",
    "start = 330\n",
    "step = 30\n",
    "indices_start = [i for i in range(start, x.shape[0], start + step)]\n",
    "\n",
    "index = [df[\"sample_date\"][start : start + step].values for start in indices_start]\n",
    "\n",
    "results_str = \"\"\"           Mean  (std)\n",
    "RMSE: 1.680 (0.016)\n",
    "MAE:   1.417 (0.055)\n",
    "MAPE: 0.035 (0.001)\n",
    "R2:     0.208 (0.209)\n",
    "\"\"\"\n",
    "\n",
    "df = df.rename(\n",
    "    {\"sample_date\": \"Date\", \"strength_28d\": \"28 day Compressive strength\"}, axis=1\n",
    ")"
   ]
  },
  {
   "cell_type": "code",
   "execution_count": 67,
   "metadata": {},
   "outputs": [
    {
     "data": {
      "image/png": "[encoded data removed]",
      "text/plain": [
       "<Figure size 1080x504 with 1 Axes>"
      ]
     },
     "metadata": {
      "needs_background": "light"
     },
     "output_type": "display_data"
    },
    {
     "data": {
      "application/javascript": [
       "\n",
       "            setTimeout(function() {\n",
       "                var nbb_cell_id = 67;\n",
       "                var nbb_unformatted_code = \"tmp = df[[\\\"Date\\\", \\\"28 day Compressive strength\\\"]].dropna().copy()\\ntmp[\\\"Date\\\"] = pd.to_datetime(tmp[\\\"Date\\\"])\\ntmp = tmp.rename({\\\"Production\\\": \\\"Date\\\"}, axis=1)\\ntmp = tmp.set_index(\\\"Date\\\")\\ntmp = tmp.iloc[: (start + step) * 2]\\n\\npred_series_0 = y_hat[0]\\npred_series_0 = pd.DataFrame(\\n    {\\\"ccs28-pred\\\": pred_series_0}, index=pd.to_datetime(index[0])\\n)\\n\\npred_series_1 = y_hat[1]\\npred_series_1 = pd.DataFrame(\\n    {\\\"ccs28-pred\\\": pred_series_1}, index=pd.to_datetime(index[1])\\n)\\n\\nfig, ax = plt.subplots(1, 1, sharex=True, sharey=True, figsize=(15, 7))\\n\\ntmp.plot(ax=ax)\\npred_series_0.plot(ax=ax, color=\\\"C1\\\", alpha=0.7)\\npred_series_1.plot(ax=ax, color=\\\"C1\\\", alpha=0.7)\\n\\nax.grid(which=\\\"both\\\")\\nax.legend([\\\"28 day compressive strength\\\"], loc=\\\"upper left\\\")\\n\\n# ax.set_xlabel(\\\"Dates\\\", labelpad=20, fontsize=15)\\nax.set_xlabel(\\\"\\\", labelpad=20, fontsize=15)\\nax.set_ylabel(\\\"Compressive Strength - MPa\\\", labelpad=20, fontsize=15)\\nax.spines[\\\"top\\\"].set_visible(False)\\nax.spines[\\\"right\\\"].set_visible(False)\\n\\n# ax.axvline(pred_series_0.index[0], color=\\\"r\\\")  # end of train dataset\\n# ax.axvline(pred_series_1.index[0], color=\\\"r\\\")  # end of train dataset\\n\\nax.legend(\\n    [\\\"train series - (11 months each)\\\", \\\"predicted - (1 Month each)\\\"], loc=\\\"upper left\\\"\\n)  # loc=\\\"upper left\\\")\\n\\n# ax.set_xlabel(\\\"Trains a year and a month and predict a month for each year\\\", labelpad=20, fontsize=15)\\nax.set_ylabel(\\\"28 day Compressive Strength - MPa\\\", labelpad=20, fontsize=15)\\n\\nax.text(\\n    pred_series_1.index[-1] + pd.DateOffset(5),\\n    45,\\n    results_str,\\n    fontsize=15,\\n    verticalalignment=\\\"bottom\\\",\\n    horizontalalignment=\\\"left\\\",\\n    # multialignment=\\\"center\\\",\\n    # fontweight=\\\"ultrabold\\\"\\n)\\n\\nax.set_title(\\\"Dataset with all types of cement\\\", fontsize=15, pad=20)\\n\\nplt.show()\";\n",
       "                var nbb_formatted_code = \"tmp = df[[\\\"Date\\\", \\\"28 day Compressive strength\\\"]].dropna().copy()\\ntmp[\\\"Date\\\"] = pd.to_datetime(tmp[\\\"Date\\\"])\\ntmp = tmp.rename({\\\"Production\\\": \\\"Date\\\"}, axis=1)\\ntmp = tmp.set_index(\\\"Date\\\")\\ntmp = tmp.iloc[: (start + step) * 2]\\n\\npred_series_0 = y_hat[0]\\npred_series_0 = pd.DataFrame(\\n    {\\\"ccs28-pred\\\": pred_series_0}, index=pd.to_datetime(index[0])\\n)\\n\\npred_series_1 = y_hat[1]\\npred_series_1 = pd.DataFrame(\\n    {\\\"ccs28-pred\\\": pred_series_1}, index=pd.to_datetime(index[1])\\n)\\n\\nfig, ax = plt.subplots(1, 1, sharex=True, sharey=True, figsize=(15, 7))\\n\\ntmp.plot(ax=ax)\\npred_series_0.plot(ax=ax, color=\\\"C1\\\", alpha=0.7)\\npred_series_1.plot(ax=ax, color=\\\"C1\\\", alpha=0.7)\\n\\nax.grid(which=\\\"both\\\")\\nax.legend([\\\"28 day compressive strength\\\"], loc=\\\"upper left\\\")\\n\\n# ax.set_xlabel(\\\"Dates\\\", labelpad=20, fontsize=15)\\nax.set_xlabel(\\\"\\\", labelpad=20, fontsize=15)\\nax.set_ylabel(\\\"Compressive Strength - MPa\\\", labelpad=20, fontsize=15)\\nax.spines[\\\"top\\\"].set_visible(False)\\nax.spines[\\\"right\\\"].set_visible(False)\\n\\n# ax.axvline(pred_series_0.index[0], color=\\\"r\\\")  # end of train dataset\\n# ax.axvline(pred_series_1.index[0], color=\\\"r\\\")  # end of train dataset\\n\\nax.legend(\\n    [\\\"train series - (11 months each)\\\", \\\"predicted - (1 Month each)\\\"], loc=\\\"upper left\\\"\\n)  # loc=\\\"upper left\\\")\\n\\n# ax.set_xlabel(\\\"Trains a year and a month and predict a month for each year\\\", labelpad=20, fontsize=15)\\nax.set_ylabel(\\\"28 day Compressive Strength - MPa\\\", labelpad=20, fontsize=15)\\n\\nax.text(\\n    pred_series_1.index[-1] + pd.DateOffset(5),\\n    45,\\n    results_str,\\n    fontsize=15,\\n    verticalalignment=\\\"bottom\\\",\\n    horizontalalignment=\\\"left\\\",\\n    # multialignment=\\\"center\\\",\\n    # fontweight=\\\"ultrabold\\\"\\n)\\n\\nax.set_title(\\\"Dataset with all types of cement\\\", fontsize=15, pad=20)\\n\\nplt.show()\";\n",
       "                var nbb_cells = Jupyter.notebook.get_cells();\n",
       "                for (var i = 0; i < nbb_cells.length; ++i) {\n",
       "                    if (nbb_cells[i].input_prompt_number == nbb_cell_id) {\n",
       "                        if (nbb_cells[i].get_text() == nbb_unformatted_code) {\n",
       "                             nbb_cells[i].set_text(nbb_formatted_code);\n",
       "                        }\n",
       "                        break;\n",
       "                    }\n",
       "                }\n",
       "            }, 500);\n",
       "            "
      ],
      "text/plain": [
       "<IPython.core.display.Javascript object>"
      ]
     },
     "metadata": {},
     "output_type": "display_data"
    }
   ],
   "source": [
    "tmp = df[[\"Date\", \"28 day Compressive strength\"]].dropna().copy()\n",
    "tmp[\"Date\"] = pd.to_datetime(tmp[\"Date\"])\n",
    "tmp = tmp.rename({\"Production\": \"Date\"}, axis=1)\n",
    "tmp = tmp.set_index(\"Date\")\n",
    "tmp = tmp.iloc[: (start + step) * 2]\n",
    "\n",
    "pred_series_0 = y_hat[0]\n",
    "pred_series_0 = pd.DataFrame(\n",
    "    {\"ccs28-pred\": pred_series_0}, index=pd.to_datetime(index[0])\n",
    ")\n",
    "\n",
    "pred_series_1 = y_hat[1]\n",
    "pred_series_1 = pd.DataFrame(\n",
    "    {\"ccs28-pred\": pred_series_1}, index=pd.to_datetime(index[1])\n",
    ")\n",
    "\n",
    "fig, ax = plt.subplots(1, 1, sharex=True, sharey=True, figsize=(15, 7))\n",
    "\n",
    "tmp.plot(ax=ax)\n",
    "pred_series_0.plot(ax=ax, color=\"C1\", alpha=0.7)\n",
    "pred_series_1.plot(ax=ax, color=\"C1\", alpha=0.7)\n",
    "\n",
    "ax.grid(which=\"both\")\n",
    "ax.legend([\"28 day compressive strength\"], loc=\"upper left\")\n",
    "\n",
    "# ax.set_xlabel(\"Dates\", labelpad=20, fontsize=15)\n",
    "ax.set_xlabel(\"\", labelpad=20, fontsize=15)\n",
    "ax.set_ylabel(\"Compressive Strength - MPa\", labelpad=20, fontsize=15)\n",
    "ax.spines[\"top\"].set_visible(False)\n",
    "ax.spines[\"right\"].set_visible(False)\n",
    "\n",
    "# ax.axvline(pred_series_0.index[0], color=\"r\")  # end of train dataset\n",
    "# ax.axvline(pred_series_1.index[0], color=\"r\")  # end of train dataset\n",
    "\n",
    "ax.legend(\n",
    "    [\"train series - (11 months each)\", \"predicted - (1 Month each)\"], loc=\"upper left\"\n",
    ")  # loc=\"upper left\")\n",
    "\n",
    "# ax.set_xlabel(\"Trains a year and a month and predict a month for each year\", labelpad=20, fontsize=15)\n",
    "ax.set_ylabel(\"28 day Compressive Strength - MPa\", labelpad=20, fontsize=15)\n",
    "\n",
    "ax.text(\n",
    "    pred_series_1.index[-1] + pd.DateOffset(5),\n",
    "    45,\n",
    "    results_str,\n",
    "    fontsize=15,\n",
    "    verticalalignment=\"bottom\",\n",
    "    horizontalalignment=\"left\",\n",
    "    # multialignment=\"center\",\n",
    "    # fontweight=\"ultrabold\"\n",
    ")\n",
    "\n",
    "ax.set_title(\"Dataset with all types of cement\", fontsize=15, pad=20)\n",
    "\n",
    "plt.show()"
   ]
  },
  {
   "cell_type": "markdown",
   "metadata": {},
   "source": [
    "## Feature Importance"
   ]
  },
  {
   "cell_type": "code",
   "execution_count": 70,
   "metadata": {},
   "outputs": [
    {
     "data": {
      "application/javascript": [
       "\n",
       "            setTimeout(function() {\n",
       "                var nbb_cell_id = 70;\n",
       "                var nbb_unformatted_code = \"df = (\\n    pd.DataFrame(\\n        {\\n            \\\"Models\\\": [\\\"Model 1\\\"] * len(x.columns) + [\\\"Model 2\\\"] * len(x.columns),\\n            \\\"Var\\\": x.columns.to_list() + x.columns.to_list(),\\n            \\\"Coeficient\\\": models[0].coef_.tolist() + models[1].coef_.tolist(),\\n            \\\"Intercept\\\": [models[0].intercept_] * len(x.columns)\\n            + [models[1].intercept_] * len(x.columns),\\n        },\\n    )\\n    .groupby([\\\"Models\\\", \\\"Var\\\"])\\n    .max()\\n)\";\n",
       "                var nbb_formatted_code = \"df = (\\n    pd.DataFrame(\\n        {\\n            \\\"Models\\\": [\\\"Model 1\\\"] * len(x.columns) + [\\\"Model 2\\\"] * len(x.columns),\\n            \\\"Var\\\": x.columns.to_list() + x.columns.to_list(),\\n            \\\"Coeficient\\\": models[0].coef_.tolist() + models[1].coef_.tolist(),\\n            \\\"Intercept\\\": [models[0].intercept_] * len(x.columns)\\n            + [models[1].intercept_] * len(x.columns),\\n        },\\n    )\\n    .groupby([\\\"Models\\\", \\\"Var\\\"])\\n    .max()\\n)\";\n",
       "                var nbb_cells = Jupyter.notebook.get_cells();\n",
       "                for (var i = 0; i < nbb_cells.length; ++i) {\n",
       "                    if (nbb_cells[i].input_prompt_number == nbb_cell_id) {\n",
       "                        if (nbb_cells[i].get_text() == nbb_unformatted_code) {\n",
       "                             nbb_cells[i].set_text(nbb_formatted_code);\n",
       "                        }\n",
       "                        break;\n",
       "                    }\n",
       "                }\n",
       "            }, 500);\n",
       "            "
      ],
      "text/plain": [
       "<IPython.core.display.Javascript object>"
      ]
     },
     "metadata": {},
     "output_type": "display_data"
    }
   ],
   "source": [
    "df = (\n",
    "    pd.DataFrame(\n",
    "        {\n",
    "            \"Models\": [\"Model 1\"] * len(x.columns) + [\"Model 2\"] * len(x.columns),\n",
    "            \"Var\": x.columns.to_list() + x.columns.to_list(),\n",
    "            \"Coeficient\": models[0].coef_.tolist() + models[1].coef_.tolist(),\n",
    "            \"Intercept\": [models[0].intercept_] * len(x.columns)\n",
    "            + [models[1].intercept_] * len(x.columns),\n",
    "        },\n",
    "    )\n",
    "    .groupby([\"Models\", \"Var\"])\n",
    "    .max()\n",
    ")"
   ]
  },
  {
   "cell_type": "code",
   "execution_count": 71,
   "metadata": {},
   "outputs": [
    {
     "data": {
      "application/javascript": [
       "\n",
       "            setTimeout(function() {\n",
       "                var nbb_cell_id = 71;\n",
       "                var nbb_unformatted_code = \"df.to_excel(\\\"Partner_II.xlsx\\\")\";\n",
       "                var nbb_formatted_code = \"df.to_excel(\\\"Partner_II.xlsx\\\")\";\n",
       "                var nbb_cells = Jupyter.notebook.get_cells();\n",
       "                for (var i = 0; i < nbb_cells.length; ++i) {\n",
       "                    if (nbb_cells[i].input_prompt_number == nbb_cell_id) {\n",
       "                        if (nbb_cells[i].get_text() == nbb_unformatted_code) {\n",
       "                             nbb_cells[i].set_text(nbb_formatted_code);\n",
       "                        }\n",
       "                        break;\n",
       "                    }\n",
       "                }\n",
       "            }, 500);\n",
       "            "
      ],
      "text/plain": [
       "<IPython.core.display.Javascript object>"
      ]
     },
     "metadata": {},
     "output_type": "display_data"
    }
   ],
   "source": [
    "df.to_excel(\"Partner_II.xlsx\")"
   ]
  },
  {
   "cell_type": "code",
   "execution_count": 96,
   "metadata": {},
   "outputs": [
    {
     "data": {
      "image/png": "[encoded data removed]",
      "text/plain": [
       "<Figure size 1080x360 with 1 Axes>"
      ]
     },
     "metadata": {
      "needs_background": "light"
     },
     "output_type": "display_data"
    },
    {
     "data": {
      "application/javascript": [
       "\n",
       "            setTimeout(function() {\n",
       "                var nbb_cell_id = 96;\n",
       "                var nbb_unformatted_code = \"df.loc[\\\"Model 1\\\"][\\\"Coeficient\\\"].plot(\\n    kind=\\\"barh\\\", figsize=(15, 5), title=\\\"Model 1\\\"\\n)\\n\\nplt.xlabel(\\\"Feature\\\")\\nplt.ylabel(\\\"Coefficient\\\")\\n\\nplt.show()\";\n",
       "                var nbb_formatted_code = \"df.loc[\\\"Model 1\\\"][\\\"Coeficient\\\"].plot(kind=\\\"barh\\\", figsize=(15, 5), title=\\\"Model 1\\\")\\n\\nplt.xlabel(\\\"Feature\\\")\\nplt.ylabel(\\\"Coefficient\\\")\\n\\nplt.show()\";\n",
       "                var nbb_cells = Jupyter.notebook.get_cells();\n",
       "                for (var i = 0; i < nbb_cells.length; ++i) {\n",
       "                    if (nbb_cells[i].input_prompt_number == nbb_cell_id) {\n",
       "                        if (nbb_cells[i].get_text() == nbb_unformatted_code) {\n",
       "                             nbb_cells[i].set_text(nbb_formatted_code);\n",
       "                        }\n",
       "                        break;\n",
       "                    }\n",
       "                }\n",
       "            }, 500);\n",
       "            "
      ],
      "text/plain": [
       "<IPython.core.display.Javascript object>"
      ]
     },
     "metadata": {},
     "output_type": "display_data"
    }
   ],
   "source": [
    "df.loc[\"Model 1\"][\"Coeficient\"].plot(kind=\"barh\", figsize=(15, 5), title=\"Model 1\")\n",
    "\n",
    "plt.xlabel(\"Feature\")\n",
    "plt.ylabel(\"Coefficient\")\n",
    "\n",
    "plt.show()"
   ]
  },
  {
   "cell_type": "code",
   "execution_count": 98,
   "metadata": {},
   "outputs": [
    {
     "data": {
      "image/png": "[encoded data removed]",
      "text/plain": [
       "<Figure size 1080x360 with 1 Axes>"
      ]
     },
     "metadata": {
      "needs_background": "light"
     },
     "output_type": "display_data"
    },
    {
     "data": {
      "application/javascript": [
       "\n",
       "            setTimeout(function() {\n",
       "                var nbb_cell_id = 98;\n",
       "                var nbb_unformatted_code = \"df.loc[\\\"Model 2\\\"][\\\"Coeficient\\\"].plot(kind=\\\"barh\\\", figsize=(15, 5), title=\\\"Model 2\\\")\\n\\nplt.xlabel(\\\"Feature\\\")\\nplt.ylabel(\\\"Coefficient\\\")\\n\\nplt.show()\";\n",
       "                var nbb_formatted_code = \"df.loc[\\\"Model 2\\\"][\\\"Coeficient\\\"].plot(kind=\\\"barh\\\", figsize=(15, 5), title=\\\"Model 2\\\")\\n\\nplt.xlabel(\\\"Feature\\\")\\nplt.ylabel(\\\"Coefficient\\\")\\n\\nplt.show()\";\n",
       "                var nbb_cells = Jupyter.notebook.get_cells();\n",
       "                for (var i = 0; i < nbb_cells.length; ++i) {\n",
       "                    if (nbb_cells[i].input_prompt_number == nbb_cell_id) {\n",
       "                        if (nbb_cells[i].get_text() == nbb_unformatted_code) {\n",
       "                             nbb_cells[i].set_text(nbb_formatted_code);\n",
       "                        }\n",
       "                        break;\n",
       "                    }\n",
       "                }\n",
       "            }, 500);\n",
       "            "
      ],
      "text/plain": [
       "<IPython.core.display.Javascript object>"
      ]
     },
     "metadata": {},
     "output_type": "display_data"
    }
   ],
   "source": [
    "df.loc[\"Model 2\"][\"Coeficient\"].plot(kind=\"barh\", figsize=(15, 5), title=\"Model 2\")\n",
    "\n",
    "plt.xlabel(\"Feature\")\n",
    "plt.ylabel(\"Coefficient\")\n",
    "\n",
    "plt.show()"
   ]
  },
  {
   "cell_type": "code",
   "execution_count": null,
   "metadata": {},
   "outputs": [],
   "source": []
  }
 ],
 "metadata": {
  "kernelspec": {
   "display_name": "Python3 (ccs28-venv)",
   "language": "python",
   "name": "ccs28-venv"
  },
  "language_info": {
   "codemirror_mode": {
    "name": "ipython",
    "version": 3
   },
   "file_extension": ".py",
   "mimetype": "text/x-python",
   "name": "python",
   "nbconvert_exporter": "python",
   "pygments_lexer": "ipython3",
   "version": "3.6.9"
  }
 },
 "nbformat": 4,
 "nbformat_minor": 2
}
