{
 "cells": [
  {
   "cell_type": "code",
   "execution_count": 1,
   "metadata": {},
   "outputs": [
    {
     "data": {
      "application/javascript": [
       "\n",
       "            setTimeout(function() {\n",
       "                var nbb_cell_id = 1;\n",
       "                var nbb_unformatted_code = \"%load_ext nb_black\";\n",
       "                var nbb_formatted_code = \"%load_ext nb_black\";\n",
       "                var nbb_cells = Jupyter.notebook.get_cells();\n",
       "                for (var i = 0; i < nbb_cells.length; ++i) {\n",
       "                    if (nbb_cells[i].input_prompt_number == nbb_cell_id) {\n",
       "                        if (nbb_cells[i].get_text() == nbb_unformatted_code) {\n",
       "                             nbb_cells[i].set_text(nbb_formatted_code);\n",
       "                        }\n",
       "                        break;\n",
       "                    }\n",
       "                }\n",
       "            }, 500);\n",
       "            "
      ],
      "text/plain": [
       "<IPython.core.display.Javascript object>"
      ]
     },
     "metadata": {},
     "output_type": "display_data"
    }
   ],
   "source": [
    "%load_ext nb_black"
   ]
  },
  {
   "cell_type": "code",
   "execution_count": 8,
   "metadata": {},
   "outputs": [
    {
     "data": {
      "application/javascript": [
       "\n",
       "            setTimeout(function() {\n",
       "                var nbb_cell_id = 8;\n",
       "                var nbb_unformatted_code = \"import pandas as pd\\nimport re\";\n",
       "                var nbb_formatted_code = \"import pandas as pd\\nimport re\";\n",
       "                var nbb_cells = Jupyter.notebook.get_cells();\n",
       "                for (var i = 0; i < nbb_cells.length; ++i) {\n",
       "                    if (nbb_cells[i].input_prompt_number == nbb_cell_id) {\n",
       "                        if (nbb_cells[i].get_text() == nbb_unformatted_code) {\n",
       "                             nbb_cells[i].set_text(nbb_formatted_code);\n",
       "                        }\n",
       "                        break;\n",
       "                    }\n",
       "                }\n",
       "            }, 500);\n",
       "            "
      ],
      "text/plain": [
       "<IPython.core.display.Javascript object>"
      ]
     },
     "metadata": {},
     "output_type": "display_data"
    }
   ],
   "source": [
    "import pandas as pd\n",
    "import re"
   ]
  },
  {
   "cell_type": "code",
   "execution_count": 4,
   "metadata": {},
   "outputs": [
    {
     "data": {
      "application/javascript": [
       "\n",
       "            setTimeout(function() {\n",
       "                var nbb_cell_id = 4;\n",
       "                var nbb_unformatted_code = \"def flat_list(lst):\\n    return [item for tup in list(lst) for item in tup]\";\n",
       "                var nbb_formatted_code = \"def flat_list(lst):\\n    return [item for tup in list(lst) for item in tup]\";\n",
       "                var nbb_cells = Jupyter.notebook.get_cells();\n",
       "                for (var i = 0; i < nbb_cells.length; ++i) {\n",
       "                    if (nbb_cells[i].input_prompt_number == nbb_cell_id) {\n",
       "                        if (nbb_cells[i].get_text() == nbb_unformatted_code) {\n",
       "                             nbb_cells[i].set_text(nbb_formatted_code);\n",
       "                        }\n",
       "                        break;\n",
       "                    }\n",
       "                }\n",
       "            }, 500);\n",
       "            "
      ],
      "text/plain": [
       "<IPython.core.display.Javascript object>"
      ]
     },
     "metadata": {},
     "output_type": "display_data"
    }
   ],
   "source": [
    "def flat_list(lst):\n",
    "    return [item for tup in list(lst) for item in tup]"
   ]
  },
  {
   "cell_type": "code",
   "execution_count": 5,
   "metadata": {},
   "outputs": [
    {
     "data": {
      "application/javascript": [
       "\n",
       "            setTimeout(function() {\n",
       "                var nbb_cell_id = 5;\n",
       "                var nbb_unformatted_code = \"def extract_scores(s):\\n    pattern = r\\\"\\\\b([A-Z0-9]+):\\\\s+([\\\\d.]+)\\\\s+\\\\(([\\\\d.]+)\\\\)\\\"\\n    scores = {\\\"Train Mean\\\": [], \\\"Train Std\\\": [], \\\"Test Mean\\\": [], \\\"Test Std\\\": []}\\n    current_scores = None\\n    for line in s.split(\\\"\\\\n\\\"):\\n        if \\\"[TRAIN]\\\" in line:\\n            current_scores = \\\"Train\\\"\\n        elif \\\"[TEST]\\\" in line:\\n            current_scores = \\\"Test\\\"\\n        match = re.search(pattern, line)\\n        if match:\\n            score_name = match.group(1)\\n            score_mean = float(match.group(2))\\n            score_std = float(match.group(3))\\n            scores[f\\\"{current_scores} Mean\\\"].append(score_mean)\\n            scores[f\\\"{current_scores} Std\\\"].append(score_std)\\n    return scores\";\n",
       "                var nbb_formatted_code = \"def extract_scores(s):\\n    pattern = r\\\"\\\\b([A-Z0-9]+):\\\\s+([\\\\d.]+)\\\\s+\\\\(([\\\\d.]+)\\\\)\\\"\\n    scores = {\\\"Train Mean\\\": [], \\\"Train Std\\\": [], \\\"Test Mean\\\": [], \\\"Test Std\\\": []}\\n    current_scores = None\\n    for line in s.split(\\\"\\\\n\\\"):\\n        if \\\"[TRAIN]\\\" in line:\\n            current_scores = \\\"Train\\\"\\n        elif \\\"[TEST]\\\" in line:\\n            current_scores = \\\"Test\\\"\\n        match = re.search(pattern, line)\\n        if match:\\n            score_name = match.group(1)\\n            score_mean = float(match.group(2))\\n            score_std = float(match.group(3))\\n            scores[f\\\"{current_scores} Mean\\\"].append(score_mean)\\n            scores[f\\\"{current_scores} Std\\\"].append(score_std)\\n    return scores\";\n",
       "                var nbb_cells = Jupyter.notebook.get_cells();\n",
       "                for (var i = 0; i < nbb_cells.length; ++i) {\n",
       "                    if (nbb_cells[i].input_prompt_number == nbb_cell_id) {\n",
       "                        if (nbb_cells[i].get_text() == nbb_unformatted_code) {\n",
       "                             nbb_cells[i].set_text(nbb_formatted_code);\n",
       "                        }\n",
       "                        break;\n",
       "                    }\n",
       "                }\n",
       "            }, 500);\n",
       "            "
      ],
      "text/plain": [
       "<IPython.core.display.Javascript object>"
      ]
     },
     "metadata": {},
     "output_type": "display_data"
    }
   ],
   "source": [
    "def extract_scores(s):\n",
    "    pattern = r\"\\b([A-Z0-9]+):\\s+([\\d.]+)\\s+\\(([\\d.]+)\\)\"\n",
    "    scores = {\"Train Mean\": [], \"Train Std\": [], \"Test Mean\": [], \"Test Std\": []}\n",
    "    current_scores = None\n",
    "    for line in s.split(\"\\n\"):\n",
    "        if \"[TRAIN]\" in line:\n",
    "            current_scores = \"Train\"\n",
    "        elif \"[TEST]\" in line:\n",
    "            current_scores = \"Test\"\n",
    "        match = re.search(pattern, line)\n",
    "        if match:\n",
    "            score_name = match.group(1)\n",
    "            score_mean = float(match.group(2))\n",
    "            score_std = float(match.group(3))\n",
    "            scores[f\"{current_scores} Mean\"].append(score_mean)\n",
    "            scores[f\"{current_scores} Std\"].append(score_std)\n",
    "    return scores"
   ]
  },
  {
   "cell_type": "markdown",
   "metadata": {},
   "source": [
    "# All Cements"
   ]
  },
  {
   "cell_type": "code",
   "execution_count": 3,
   "metadata": {},
   "outputs": [
    {
     "data": {
      "application/javascript": [
       "\n",
       "            setTimeout(function() {\n",
       "                var nbb_cell_id = 3;\n",
       "                var nbb_unformatted_code = \"results = []\";\n",
       "                var nbb_formatted_code = \"results = []\";\n",
       "                var nbb_cells = Jupyter.notebook.get_cells();\n",
       "                for (var i = 0; i < nbb_cells.length; ++i) {\n",
       "                    if (nbb_cells[i].input_prompt_number == nbb_cell_id) {\n",
       "                        if (nbb_cells[i].get_text() == nbb_unformatted_code) {\n",
       "                             nbb_cells[i].set_text(nbb_formatted_code);\n",
       "                        }\n",
       "                        break;\n",
       "                    }\n",
       "                }\n",
       "            }, 500);\n",
       "            "
      ],
      "text/plain": [
       "<IPython.core.display.Javascript object>"
      ]
     },
     "metadata": {},
     "output_type": "display_data"
    }
   ],
   "source": [
    "results = []"
   ]
  },
  {
   "cell_type": "markdown",
   "metadata": {},
   "source": [
    "## No previous Compressive Strength"
   ]
  },
  {
   "cell_type": "markdown",
   "metadata": {},
   "source": [
    "## Repeated KFold Cross validation"
   ]
  },
  {
   "cell_type": "code",
   "execution_count": 4,
   "metadata": {},
   "outputs": [
    {
     "data": {
      "application/javascript": [
       "\n",
       "            setTimeout(function() {\n",
       "                var nbb_cell_id = 4;\n",
       "                var nbb_unformatted_code = \"data = {\\n    \\\"Metric\\\": [\\\"RMSE\\\", \\\"MAE\\\", \\\"MAPE\\\", \\\"R2\\\"],\\n    \\\"Train Mean\\\": [1.064, 0.833, 0.019, 0.955],\\n    \\\"Train Std\\\": [0.008, 0.007, 0.000, 0.001],\\n    \\\"Test Mean\\\": [1.794, 0.934, 0.022, 0.682],\\n    \\\"Test Std\\\": [2.137, 0.226, 0.006, 0.879],\\n    \\\"Validation\\\": [\\\"Repeated KFold\\\"] * 4,\\n    \\\"Repeats\\\": [10] * 4,\\n    \\\"Splits\\\": [10] * 4,\\n}\\ndf = pd.DataFrame(data)\\ndf = df[\\n    [\\n        \\\"Validation\\\",\\n        \\\"Repeats\\\",\\n        \\\"Splits\\\",\\n        \\\"Metric\\\",\\n        \\\"Train Mean\\\",\\n        \\\"Train Std\\\",\\n        \\\"Test Mean\\\",\\n        \\\"Test Std\\\",\\n    ]\\n]\\ndf\\nresults.append(df)\";\n",
       "                var nbb_formatted_code = \"data = {\\n    \\\"Metric\\\": [\\\"RMSE\\\", \\\"MAE\\\", \\\"MAPE\\\", \\\"R2\\\"],\\n    \\\"Train Mean\\\": [1.064, 0.833, 0.019, 0.955],\\n    \\\"Train Std\\\": [0.008, 0.007, 0.000, 0.001],\\n    \\\"Test Mean\\\": [1.794, 0.934, 0.022, 0.682],\\n    \\\"Test Std\\\": [2.137, 0.226, 0.006, 0.879],\\n    \\\"Validation\\\": [\\\"Repeated KFold\\\"] * 4,\\n    \\\"Repeats\\\": [10] * 4,\\n    \\\"Splits\\\": [10] * 4,\\n}\\ndf = pd.DataFrame(data)\\ndf = df[\\n    [\\n        \\\"Validation\\\",\\n        \\\"Repeats\\\",\\n        \\\"Splits\\\",\\n        \\\"Metric\\\",\\n        \\\"Train Mean\\\",\\n        \\\"Train Std\\\",\\n        \\\"Test Mean\\\",\\n        \\\"Test Std\\\",\\n    ]\\n]\\ndf\\nresults.append(df)\";\n",
       "                var nbb_cells = Jupyter.notebook.get_cells();\n",
       "                for (var i = 0; i < nbb_cells.length; ++i) {\n",
       "                    if (nbb_cells[i].input_prompt_number == nbb_cell_id) {\n",
       "                        if (nbb_cells[i].get_text() == nbb_unformatted_code) {\n",
       "                             nbb_cells[i].set_text(nbb_formatted_code);\n",
       "                        }\n",
       "                        break;\n",
       "                    }\n",
       "                }\n",
       "            }, 500);\n",
       "            "
      ],
      "text/plain": [
       "<IPython.core.display.Javascript object>"
      ]
     },
     "metadata": {},
     "output_type": "display_data"
    }
   ],
   "source": [
    "data = {\n",
    "    \"Metric\": [\"RMSE\", \"MAE\", \"MAPE\", \"R2\"],\n",
    "    \"Train Mean\": [],\n",
    "    \"Train Std\": [],\n",
    "    \"Test Mean\": [],\n",
    "    \"Test Std\": [],\n",
    "    \"Validation\": [\"Repeated KFold\"] * 4,\n",
    "    \"Repeats\": [10] * 4,\n",
    "    \"Splits\": [10] * 4,\n",
    "}\n",
    "df = pd.DataFrame(data)\n",
    "df = df[\n",
    "    [\n",
    "        \"Validation\",\n",
    "        \"Repeats\",\n",
    "        \"Splits\",\n",
    "        \"Metric\",\n",
    "        \"Train Mean\",\n",
    "        \"Train Std\",\n",
    "        \"Test Mean\",\n",
    "        \"Test Std\",\n",
    "    ]\n",
    "]\n",
    "df\n",
    "results.append(df)"
   ]
  },
  {
   "cell_type": "markdown",
   "metadata": {},
   "source": [
    "## Blocking Time Series Split Results"
   ]
  },
  {
   "cell_type": "code",
   "execution_count": 5,
   "metadata": {},
   "outputs": [
    {
     "data": {
      "application/javascript": [
       "\n",
       "            setTimeout(function() {\n",
       "                var nbb_cell_id = 5;\n",
       "                var nbb_unformatted_code = \"df = [\\n    {\\n        \\\"Validation\\\": \\\"Blocking Time Series Split\\\",\\n        \\\"Repeats\\\": 10,\\n        \\\"Splits\\\": 5,\\n        \\\"Metric\\\": \\\"RMSE\\\",\\n        \\\"Train Mean\\\": 0.762,\\n        \\\"Train Std\\\": 0.081,\\n        \\\"Test Mean\\\": 8.630,\\n        \\\"Test Std\\\": 13.198,\\n    },\\n    {\\n        \\\"Validation\\\": \\\"Blocking Time Series Split\\\",\\n        \\\"Repeats\\\": 10,\\n        \\\"Splits\\\": 5,\\n        \\\"Metric\\\": \\\"MAE\\\",\\n        \\\"Train Mean\\\": 0.599,\\n        \\\"Train Std\\\": 0.067,\\n        \\\"Test Mean\\\": 2.057,\\n        \\\"Test Std\\\": 1.122,\\n    },\\n    {\\n        \\\"Validation\\\": \\\"Blocking Time Series Split\\\",\\n        \\\"Repeats\\\": 10,\\n        \\\"Splits\\\": 5,\\n        \\\"Metric\\\": \\\"MAPE\\\",\\n        \\\"Train Mean\\\": 0.014,\\n        \\\"Train Std\\\": 0.002,\\n        \\\"Test Mean\\\": 0.046,\\n        \\\"Test Std\\\": 0.024,\\n    },\\n    {\\n        \\\"Validation\\\": \\\"Blocking Time Series Split\\\",\\n        \\\"Repeats\\\": 10,\\n        \\\"Splits\\\": 5,\\n        \\\"Metric\\\": \\\"R2\\\",\\n        \\\"Train Mean\\\": 0.977,\\n        \\\"Train Std\\\": 0.004,\\n        \\\"Test Mean\\\": 9.480,\\n        \\\"Test Std\\\": 20.606,\\n    },\\n]\\n\\n# create the dataframe\\ndf = pd.DataFrame(df)\\n\\n# set the order of the columns\\ndf = df[\\n    [\\n        \\\"Validation\\\",\\n        \\\"Repeats\\\",\\n        \\\"Splits\\\",\\n        \\\"Metric\\\",\\n        \\\"Train Mean\\\",\\n        \\\"Train Std\\\",\\n        \\\"Test Mean\\\",\\n        \\\"Test Std\\\",\\n    ]\\n]\\n\\n# print the dataframe\\nresults.append(df)\";\n",
       "                var nbb_formatted_code = \"df = [\\n    {\\n        \\\"Validation\\\": \\\"Blocking Time Series Split\\\",\\n        \\\"Repeats\\\": 10,\\n        \\\"Splits\\\": 5,\\n        \\\"Metric\\\": \\\"RMSE\\\",\\n        \\\"Train Mean\\\": 0.762,\\n        \\\"Train Std\\\": 0.081,\\n        \\\"Test Mean\\\": 8.630,\\n        \\\"Test Std\\\": 13.198,\\n    },\\n    {\\n        \\\"Validation\\\": \\\"Blocking Time Series Split\\\",\\n        \\\"Repeats\\\": 10,\\n        \\\"Splits\\\": 5,\\n        \\\"Metric\\\": \\\"MAE\\\",\\n        \\\"Train Mean\\\": 0.599,\\n        \\\"Train Std\\\": 0.067,\\n        \\\"Test Mean\\\": 2.057,\\n        \\\"Test Std\\\": 1.122,\\n    },\\n    {\\n        \\\"Validation\\\": \\\"Blocking Time Series Split\\\",\\n        \\\"Repeats\\\": 10,\\n        \\\"Splits\\\": 5,\\n        \\\"Metric\\\": \\\"MAPE\\\",\\n        \\\"Train Mean\\\": 0.014,\\n        \\\"Train Std\\\": 0.002,\\n        \\\"Test Mean\\\": 0.046,\\n        \\\"Test Std\\\": 0.024,\\n    },\\n    {\\n        \\\"Validation\\\": \\\"Blocking Time Series Split\\\",\\n        \\\"Repeats\\\": 10,\\n        \\\"Splits\\\": 5,\\n        \\\"Metric\\\": \\\"R2\\\",\\n        \\\"Train Mean\\\": 0.977,\\n        \\\"Train Std\\\": 0.004,\\n        \\\"Test Mean\\\": 9.480,\\n        \\\"Test Std\\\": 20.606,\\n    },\\n]\\n\\n# create the dataframe\\ndf = pd.DataFrame(df)\\n\\n# set the order of the columns\\ndf = df[\\n    [\\n        \\\"Validation\\\",\\n        \\\"Repeats\\\",\\n        \\\"Splits\\\",\\n        \\\"Metric\\\",\\n        \\\"Train Mean\\\",\\n        \\\"Train Std\\\",\\n        \\\"Test Mean\\\",\\n        \\\"Test Std\\\",\\n    ]\\n]\\n\\n# print the dataframe\\nresults.append(df)\";\n",
       "                var nbb_cells = Jupyter.notebook.get_cells();\n",
       "                for (var i = 0; i < nbb_cells.length; ++i) {\n",
       "                    if (nbb_cells[i].input_prompt_number == nbb_cell_id) {\n",
       "                        if (nbb_cells[i].get_text() == nbb_unformatted_code) {\n",
       "                             nbb_cells[i].set_text(nbb_formatted_code);\n",
       "                        }\n",
       "                        break;\n",
       "                    }\n",
       "                }\n",
       "            }, 500);\n",
       "            "
      ],
      "text/plain": [
       "<IPython.core.display.Javascript object>"
      ]
     },
     "metadata": {},
     "output_type": "display_data"
    }
   ],
   "source": [
    "df = [\n",
    "    {\n",
    "        \"Validation\": \"Blocking Time Series Split\",\n",
    "        \"Repeats\": 10,\n",
    "        \"Splits\": 5,\n",
    "        \"Metric\": \"RMSE\",\n",
    "        \"Train Mean\": ,\n",
    "        \"Train Std\": ,\n",
    "        \"Test Mean\": ,\n",
    "        \"Test Std\": ,\n",
    "    },\n",
    "    {\n",
    "        \"Validation\": \"Blocking Time Series Split\",\n",
    "        \"Repeats\": 10,\n",
    "        \"Splits\": 5,\n",
    "        \"Metric\": \"MAE\",\n",
    "        \"Train Mean\": ,\n",
    "        \"Train Std\": ,\n",
    "        \"Test Mean\": ,\n",
    "        \"Test Std\": ,\n",
    "    },\n",
    "    {\n",
    "        \"Validation\": \"Blocking Time Series Split\",\n",
    "        \"Repeats\": 10,\n",
    "        \"Splits\": 5,\n",
    "        \"Metric\": \"MAPE\",\n",
    "        \"Train Mean\": ,\n",
    "        \"Train Std\": ,\n",
    "        \"Test Mean\": ,\n",
    "        \"Test Std\": ,\n",
    "    },\n",
    "    {\n",
    "        \"Validation\": \"Blocking Time Series Split\",\n",
    "        \"Repeats\": 10,\n",
    "        \"Splits\": 5,\n",
    "        \"Metric\": \"R2\",\n",
    "        \"Train Mean\": ,\n",
    "        \"Train Std\": ,\n",
    "        \"Test Mean\": ,\n",
    "        \"Test Std\": ,\n",
    "    },\n",
    "]\n",
    "\n",
    "# create the dataframe\n",
    "df = pd.DataFrame(df)\n",
    "\n",
    "# set the order of the columns\n",
    "df = df[\n",
    "    [\n",
    "        \"Validation\",\n",
    "        \"Repeats\",\n",
    "        \"Splits\",\n",
    "        \"Metric\",\n",
    "        \"Train Mean\",\n",
    "        \"Train Std\",\n",
    "        \"Test Mean\",\n",
    "        \"Test Std\",\n",
    "    ]\n",
    "]\n",
    "\n",
    "# print the dataframe\n",
    "results.append(df)"
   ]
  },
  {
   "cell_type": "markdown",
   "metadata": {},
   "source": [
    "## Time Series Split Cross Validation"
   ]
  },
  {
   "cell_type": "code",
   "execution_count": 6,
   "metadata": {},
   "outputs": [
    {
     "data": {
      "application/javascript": [
       "\n",
       "            setTimeout(function() {\n",
       "                var nbb_cell_id = 6;\n",
       "                var nbb_unformatted_code = \"# define dictionary with results\\ntss_results = {\\n    \\\"Validation\\\": \\\"Time Series Split Cross Validation\\\",\\n    \\\"Repeats\\\": 10,\\n    \\\"Splits\\\": 10,\\n    \\\"RMSE Train Mean\\\": 0.882,\\n    \\\"RMSE Train Std\\\": 0.112,\\n    \\\"MAE Train Mean\\\": 0.683,\\n    \\\"MAE Train Std\\\": 0.085,\\n    \\\"MAPE Train Mean\\\": 0.016,\\n    \\\"MAPE Train Std\\\": 0.002,\\n    \\\"R2 Train Mean\\\": 0.968,\\n    \\\"R2 Train Std\\\": 0.007,\\n    \\\"RMSE Test Mean\\\": 19.104,\\n    \\\"RMSE Test Std\\\": 34.671,\\n    \\\"MAE Test Mean\\\": 2.962,\\n    \\\"MAE Test Std\\\": 3.814,\\n    \\\"MAPE Test Mean\\\": 0.066,\\n    \\\"MAPE Test Std\\\": 0.084,\\n    \\\"R2 Test Mean\\\": 64.803,\\n    \\\"R2 Test Std\\\": 142.162,\\n}\\n\\n# create dataframe\\ndf = pd.DataFrame(\\n    columns=[\\n        \\\"Validation\\\",\\n        \\\"Repeats\\\",\\n        \\\"Splits\\\",\\n        \\\"Metric\\\",\\n        \\\"Train Mean\\\",\\n        \\\"Train Std\\\",\\n        \\\"Test Mean\\\",\\n        \\\"Test Std\\\",\\n    ]\\n)\\n\\n# populate dataframe\\nfor i, metric in enumerate([\\\"RMSE\\\", \\\"MAE\\\", \\\"MAPE\\\", \\\"R2\\\"]):\\n    df.loc[i * 4] = [\\n        tss_results[\\\"Validation\\\"],\\n        tss_results[\\\"Repeats\\\"],\\n        tss_results[\\\"Splits\\\"],\\n        metric,\\n        tss_results[f\\\"{metric} Train Mean\\\"],\\n        tss_results[f\\\"{metric} Train Std\\\"],\\n        tss_results[f\\\"{metric} Test Mean\\\"],\\n        tss_results[f\\\"{metric} Test Std\\\"],\\n    ]\\nresults.append(df)\";\n",
       "                var nbb_formatted_code = \"# define dictionary with results\\ntss_results = {\\n    \\\"Validation\\\": \\\"Time Series Split Cross Validation\\\",\\n    \\\"Repeats\\\": 10,\\n    \\\"Splits\\\": 10,\\n    \\\"RMSE Train Mean\\\": 0.882,\\n    \\\"RMSE Train Std\\\": 0.112,\\n    \\\"MAE Train Mean\\\": 0.683,\\n    \\\"MAE Train Std\\\": 0.085,\\n    \\\"MAPE Train Mean\\\": 0.016,\\n    \\\"MAPE Train Std\\\": 0.002,\\n    \\\"R2 Train Mean\\\": 0.968,\\n    \\\"R2 Train Std\\\": 0.007,\\n    \\\"RMSE Test Mean\\\": 19.104,\\n    \\\"RMSE Test Std\\\": 34.671,\\n    \\\"MAE Test Mean\\\": 2.962,\\n    \\\"MAE Test Std\\\": 3.814,\\n    \\\"MAPE Test Mean\\\": 0.066,\\n    \\\"MAPE Test Std\\\": 0.084,\\n    \\\"R2 Test Mean\\\": 64.803,\\n    \\\"R2 Test Std\\\": 142.162,\\n}\\n\\n# create dataframe\\ndf = pd.DataFrame(\\n    columns=[\\n        \\\"Validation\\\",\\n        \\\"Repeats\\\",\\n        \\\"Splits\\\",\\n        \\\"Metric\\\",\\n        \\\"Train Mean\\\",\\n        \\\"Train Std\\\",\\n        \\\"Test Mean\\\",\\n        \\\"Test Std\\\",\\n    ]\\n)\\n\\n# populate dataframe\\nfor i, metric in enumerate([\\\"RMSE\\\", \\\"MAE\\\", \\\"MAPE\\\", \\\"R2\\\"]):\\n    df.loc[i * 4] = [\\n        tss_results[\\\"Validation\\\"],\\n        tss_results[\\\"Repeats\\\"],\\n        tss_results[\\\"Splits\\\"],\\n        metric,\\n        tss_results[f\\\"{metric} Train Mean\\\"],\\n        tss_results[f\\\"{metric} Train Std\\\"],\\n        tss_results[f\\\"{metric} Test Mean\\\"],\\n        tss_results[f\\\"{metric} Test Std\\\"],\\n    ]\\nresults.append(df)\";\n",
       "                var nbb_cells = Jupyter.notebook.get_cells();\n",
       "                for (var i = 0; i < nbb_cells.length; ++i) {\n",
       "                    if (nbb_cells[i].input_prompt_number == nbb_cell_id) {\n",
       "                        if (nbb_cells[i].get_text() == nbb_unformatted_code) {\n",
       "                             nbb_cells[i].set_text(nbb_formatted_code);\n",
       "                        }\n",
       "                        break;\n",
       "                    }\n",
       "                }\n",
       "            }, 500);\n",
       "            "
      ],
      "text/plain": [
       "<IPython.core.display.Javascript object>"
      ]
     },
     "metadata": {},
     "output_type": "display_data"
    }
   ],
   "source": [
    "# define dictionary with results\n",
    "tss_results = {\n",
    "    \"Validation\": \"Time Series Split Cross Validation\",\n",
    "    \"Repeats\": 10,\n",
    "    \"Splits\": 10,\n",
    "    \"RMSE Train Mean\": ,\n",
    "    \"RMSE Train Std\": ,\n",
    "    \"MAE Train Mean\": ,\n",
    "    \"MAE Train Std\": ,\n",
    "    \"MAPE Train Mean\": ,\n",
    "    \"MAPE Train Std\": ,\n",
    "    \"R2 Train Mean\": ,\n",
    "    \"R2 Train Std\": ,\n",
    "    \"RMSE Test Mean\": ,\n",
    "    \"RMSE Test Std\": ,\n",
    "    \"MAE Test Mean\": ,\n",
    "    \"MAE Test Std\": ,\n",
    "    \"MAPE Test Mean\": ,\n",
    "    \"MAPE Test Std\": ,\n",
    "    \"R2 Test Mean\": ,\n",
    "    \"R2 Test Std\": ,\n",
    "}\n",
    "\n",
    "# create dataframe\n",
    "df = pd.DataFrame(\n",
    "    columns=[\n",
    "        \"Validation\",\n",
    "        \"Repeats\",\n",
    "        \"Splits\",\n",
    "        \"Metric\",\n",
    "        \"Train Mean\",\n",
    "        \"Train Std\",\n",
    "        \"Test Mean\",\n",
    "        \"Test Std\",\n",
    "    ]\n",
    ")\n",
    "\n",
    "# populate dataframe\n",
    "for i, metric in enumerate([\"RMSE\", \"MAE\", \"MAPE\", \"R2\"]):\n",
    "    df.loc[i * 4] = [\n",
    "        tss_results[\"Validation\"],\n",
    "        tss_results[\"Repeats\"],\n",
    "        tss_results[\"Splits\"],\n",
    "        metric,\n",
    "        tss_results[f\"{metric} Train Mean\"],\n",
    "        tss_results[f\"{metric} Train Std\"],\n",
    "        tss_results[f\"{metric} Test Mean\"],\n",
    "        tss_results[f\"{metric} Test Std\"],\n",
    "    ]\n",
    "results.append(df)"
   ]
  },
  {
   "cell_type": "markdown",
   "metadata": {},
   "source": [
    "## Blocking Time Series Split Results - Period Specific"
   ]
  },
  {
   "cell_type": "code",
   "execution_count": 6,
   "metadata": {},
   "outputs": [
    {
     "data": {
      "application/javascript": [
       "\n",
       "            setTimeout(function() {\n",
       "                var nbb_cell_id = 6;\n",
       "                var nbb_unformatted_code = \"s = \\\"\\\"\\\"\\n******\\n[TRAIN]\\n******\\nRMSE: 1.822 (0.143)\\nMAE: 1.446 (0.128)\\nMAPE: 0.034 (0.002)\\nR2: 0.660 (0.078)\\n\\n======================\\n\\n******\\n[TEST]\\n******\\nRMSE: 11.331 (18.138)\\nMAE: 5.364 (7.055)\\nMAPE: 0.123 (0.158)\\nR2: 30.769 (61.774)\\n\\n======================\\n\\n******\\n[TRAIN]\\n******\\nRMSE: 1.946 (0.152)\\nMAE: 1.550 (0.132)\\nMAPE: 0.036 (0.003)\\nR2: 0.665 (0.046)\\n\\n======================\\n\\n******\\n[TEST]\\n******\\nRMSE: 367.091 (364.705)\\nMAE: 139.465 (137.727)\\nMAPE: 3.220 (3.180)\\nR2: 44953.279 (44953.731)\\n\\n======================\\n\\n\\n\\n******\\n[TRAIN]\\n******\\nRMSE: 1.970 (0.123)\\nMAE: 1.566 (0.127)\\nMAPE: 0.036 (0.003)\\nR2: 0.643 (0.050)\\n\\n======================\\n\\n******\\n[TEST]\\n******\\nRMSE: 2.110 (0.220)\\nMAE: 1.720 (0.171)\\nMAPE: 0.040 (0.003)\\nR2: 0.424 (0.002)\\n\\n======================\\n\\n******\\n[TRAIN]\\n******\\nRMSE: 1.951 (0.072)\\nMAE: 1.554 (0.073)\\nMAPE: 0.036 (0.002)\\nR2: 0.638 (0.041)\\n\\n======================\\n\\n******\\n[TEST]\\n******\\nRMSE: 2.280 (0.223)\\nMAE: 1.801 (0.343)\\nMAPE: 0.042 (0.006)\\nR2: 0.523 (0.082)\\n\\n======================\\n\\n******\\n[TRAIN]\\n******\\nRMSE: 1.972 (0.052)\\nMAE: 1.564 (0.042)\\nMAPE: 0.036 (0.001)\\nR2: 0.639 (0.028)\\n\\n======================\\n\\n******\\n[TEST]\\n******\\nRMSE: 2.766 (0.757)\\nMAE: 2.364 (0.770)\\nMAPE: 0.059 (0.021)\\nR2: 0.001 (0.491)\\n\\n======================\\n\\n******\\n[TRAIN]\\n******\\nRMSE: 2.022 (0.000)\\nMAE: 1.614 (0.000)\\nMAPE: 0.037 (0.000)\\nR2: 0.633 (0.000)\\n\\n======================\\n\\n******\\n[TEST]\\n******\\nRMSE: 1.967 (0.000)\\nMAE: 1.525 (0.000)\\nMAPE: 0.036 (0.000)\\nR2: 0.028 (0.000)\\n\\n======================\\n\\n******\\n[TRAIN]\\n******\\nRMSE: 2.022 (0.000)\\nMAE: 1.614 (0.000)\\nMAPE: 0.037 (0.000)\\nR2: 0.633 (0.000)\\n\\n======================\\n\\n******\\n[TEST]\\n******\\nRMSE: 1.959 (0.000)\\nMAE: 1.557 (0.000)\\nMAPE: 0.037 (0.000)\\nR2: 0.244 (0.000)\\n\\n======================\\n\\n******\\n[TRAIN]\\n******\\nRMSE: 2.022 (0.000)\\nMAE: 1.614 (0.000)\\nMAPE: 0.037 (0.000)\\nR2: 0.633 (0.000)\\n\\n======================\\n\\n******\\n[TEST]\\n******\\nRMSE: 3.249 (0.000)\\nMAE: 2.686 (0.000)\\nMAPE: 0.068 (0.000)\\nR2: 0.080 (0.000)\\n\\n======================\\n\\n\\n\\n******\\n[TRAIN]\\n******\\nRMSE: 2.004 (0.000)\\nMAE: 1.593 (0.000)\\nMAPE: 0.037 (0.000)\\nR2: 0.623 (0.000)\\n\\n======================\\n\\n******\\n[TEST]\\n******\\nRMSE: 3.621 (0.000)\\nMAE: 3.135 (0.000)\\nMAPE: 0.081 (0.000)\\nR2: 0.690 (0.000)\\n\\n======================\\n\\\"\\\"\\\"\";\n",
       "                var nbb_formatted_code = \"s = \\\"\\\"\\\"\\n******\\n[TRAIN]\\n******\\nRMSE: 1.822 (0.143)\\nMAE: 1.446 (0.128)\\nMAPE: 0.034 (0.002)\\nR2: 0.660 (0.078)\\n\\n======================\\n\\n******\\n[TEST]\\n******\\nRMSE: 11.331 (18.138)\\nMAE: 5.364 (7.055)\\nMAPE: 0.123 (0.158)\\nR2: 30.769 (61.774)\\n\\n======================\\n\\n******\\n[TRAIN]\\n******\\nRMSE: 1.946 (0.152)\\nMAE: 1.550 (0.132)\\nMAPE: 0.036 (0.003)\\nR2: 0.665 (0.046)\\n\\n======================\\n\\n******\\n[TEST]\\n******\\nRMSE: 367.091 (364.705)\\nMAE: 139.465 (137.727)\\nMAPE: 3.220 (3.180)\\nR2: 44953.279 (44953.731)\\n\\n======================\\n\\n\\n\\n******\\n[TRAIN]\\n******\\nRMSE: 1.970 (0.123)\\nMAE: 1.566 (0.127)\\nMAPE: 0.036 (0.003)\\nR2: 0.643 (0.050)\\n\\n======================\\n\\n******\\n[TEST]\\n******\\nRMSE: 2.110 (0.220)\\nMAE: 1.720 (0.171)\\nMAPE: 0.040 (0.003)\\nR2: 0.424 (0.002)\\n\\n======================\\n\\n******\\n[TRAIN]\\n******\\nRMSE: 1.951 (0.072)\\nMAE: 1.554 (0.073)\\nMAPE: 0.036 (0.002)\\nR2: 0.638 (0.041)\\n\\n======================\\n\\n******\\n[TEST]\\n******\\nRMSE: 2.280 (0.223)\\nMAE: 1.801 (0.343)\\nMAPE: 0.042 (0.006)\\nR2: 0.523 (0.082)\\n\\n======================\\n\\n******\\n[TRAIN]\\n******\\nRMSE: 1.972 (0.052)\\nMAE: 1.564 (0.042)\\nMAPE: 0.036 (0.001)\\nR2: 0.639 (0.028)\\n\\n======================\\n\\n******\\n[TEST]\\n******\\nRMSE: 2.766 (0.757)\\nMAE: 2.364 (0.770)\\nMAPE: 0.059 (0.021)\\nR2: 0.001 (0.491)\\n\\n======================\\n\\n******\\n[TRAIN]\\n******\\nRMSE: 2.022 (0.000)\\nMAE: 1.614 (0.000)\\nMAPE: 0.037 (0.000)\\nR2: 0.633 (0.000)\\n\\n======================\\n\\n******\\n[TEST]\\n******\\nRMSE: 1.967 (0.000)\\nMAE: 1.525 (0.000)\\nMAPE: 0.036 (0.000)\\nR2: 0.028 (0.000)\\n\\n======================\\n\\n******\\n[TRAIN]\\n******\\nRMSE: 2.022 (0.000)\\nMAE: 1.614 (0.000)\\nMAPE: 0.037 (0.000)\\nR2: 0.633 (0.000)\\n\\n======================\\n\\n******\\n[TEST]\\n******\\nRMSE: 1.959 (0.000)\\nMAE: 1.557 (0.000)\\nMAPE: 0.037 (0.000)\\nR2: 0.244 (0.000)\\n\\n======================\\n\\n******\\n[TRAIN]\\n******\\nRMSE: 2.022 (0.000)\\nMAE: 1.614 (0.000)\\nMAPE: 0.037 (0.000)\\nR2: 0.633 (0.000)\\n\\n======================\\n\\n******\\n[TEST]\\n******\\nRMSE: 3.249 (0.000)\\nMAE: 2.686 (0.000)\\nMAPE: 0.068 (0.000)\\nR2: 0.080 (0.000)\\n\\n======================\\n\\n\\n\\n******\\n[TRAIN]\\n******\\nRMSE: 2.004 (0.000)\\nMAE: 1.593 (0.000)\\nMAPE: 0.037 (0.000)\\nR2: 0.623 (0.000)\\n\\n======================\\n\\n******\\n[TEST]\\n******\\nRMSE: 3.621 (0.000)\\nMAE: 3.135 (0.000)\\nMAPE: 0.081 (0.000)\\nR2: 0.690 (0.000)\\n\\n======================\\n\\\"\\\"\\\"\";\n",
       "                var nbb_cells = Jupyter.notebook.get_cells();\n",
       "                for (var i = 0; i < nbb_cells.length; ++i) {\n",
       "                    if (nbb_cells[i].input_prompt_number == nbb_cell_id) {\n",
       "                        if (nbb_cells[i].get_text() == nbb_unformatted_code) {\n",
       "                             nbb_cells[i].set_text(nbb_formatted_code);\n",
       "                        }\n",
       "                        break;\n",
       "                    }\n",
       "                }\n",
       "            }, 500);\n",
       "            "
      ],
      "text/plain": [
       "<IPython.core.display.Javascript object>"
      ]
     },
     "metadata": {},
     "output_type": "display_data"
    }
   ],
   "source": [
    "s = \"\"\"\n",
    "******\n",
    "[TRAIN]\n",
    "******\n",
    "RMSE: 1.822 (0.143)\n",
    "MAE: 1.446 (0.128)\n",
    "MAPE: 0.034 (0.002)\n",
    "R2: 0.660 (0.078)\n",
    "\n",
    "======================\n",
    "\n",
    "******\n",
    "[TEST]\n",
    "******\n",
    "RMSE: 11.331 (18.138)\n",
    "MAE: 5.364 (7.055)\n",
    "MAPE: 0.123 (0.158)\n",
    "R2: 30.769 (61.774)\n",
    "\n",
    "======================\n",
    "\n",
    "******\n",
    "[TRAIN]\n",
    "******\n",
    "RMSE: 1.946 (0.152)\n",
    "MAE: 1.550 (0.132)\n",
    "MAPE: 0.036 (0.003)\n",
    "R2: 0.665 (0.046)\n",
    "\n",
    "======================\n",
    "\n",
    "******\n",
    "[TEST]\n",
    "******\n",
    "RMSE: 367.091 (364.705)\n",
    "MAE: 139.465 (137.727)\n",
    "MAPE: 3.220 (3.180)\n",
    "R2: 44953.279 (44953.731)\n",
    "\n",
    "======================\n",
    "\n",
    "\n",
    "\n",
    "******\n",
    "[TRAIN]\n",
    "******\n",
    "RMSE: 1.970 (0.123)\n",
    "MAE: 1.566 (0.127)\n",
    "MAPE: 0.036 (0.003)\n",
    "R2: 0.643 (0.050)\n",
    "\n",
    "======================\n",
    "\n",
    "******\n",
    "[TEST]\n",
    "******\n",
    "RMSE: 2.110 (0.220)\n",
    "MAE: 1.720 (0.171)\n",
    "MAPE: 0.040 (0.003)\n",
    "R2: 0.424 (0.002)\n",
    "\n",
    "======================\n",
    "\n",
    "******\n",
    "[TRAIN]\n",
    "******\n",
    "RMSE: 1.951 (0.072)\n",
    "MAE: 1.554 (0.073)\n",
    "MAPE: 0.036 (0.002)\n",
    "R2: 0.638 (0.041)\n",
    "\n",
    "======================\n",
    "\n",
    "******\n",
    "[TEST]\n",
    "******\n",
    "RMSE: 2.280 (0.223)\n",
    "MAE: 1.801 (0.343)\n",
    "MAPE: 0.042 (0.006)\n",
    "R2: 0.523 (0.082)\n",
    "\n",
    "======================\n",
    "\n",
    "******\n",
    "[TRAIN]\n",
    "******\n",
    "RMSE: 1.972 (0.052)\n",
    "MAE: 1.564 (0.042)\n",
    "MAPE: 0.036 (0.001)\n",
    "R2: 0.639 (0.028)\n",
    "\n",
    "======================\n",
    "\n",
    "******\n",
    "[TEST]\n",
    "******\n",
    "RMSE: 2.766 (0.757)\n",
    "MAE: 2.364 (0.770)\n",
    "MAPE: 0.059 (0.021)\n",
    "R2: 0.001 (0.491)\n",
    "\n",
    "======================\n",
    "\n",
    "******\n",
    "[TRAIN]\n",
    "******\n",
    "RMSE: 2.022 (0.000)\n",
    "MAE: 1.614 (0.000)\n",
    "MAPE: 0.037 (0.000)\n",
    "R2: 0.633 (0.000)\n",
    "\n",
    "======================\n",
    "\n",
    "******\n",
    "[TEST]\n",
    "******\n",
    "RMSE: 1.967 (0.000)\n",
    "MAE: 1.525 (0.000)\n",
    "MAPE: 0.036 (0.000)\n",
    "R2: 0.028 (0.000)\n",
    "\n",
    "======================\n",
    "\n",
    "******\n",
    "[TRAIN]\n",
    "******\n",
    "RMSE: 2.022 (0.000)\n",
    "MAE: 1.614 (0.000)\n",
    "MAPE: 0.037 (0.000)\n",
    "R2: 0.633 (0.000)\n",
    "\n",
    "======================\n",
    "\n",
    "******\n",
    "[TEST]\n",
    "******\n",
    "RMSE: 1.959 (0.000)\n",
    "MAE: 1.557 (0.000)\n",
    "MAPE: 0.037 (0.000)\n",
    "R2: 0.244 (0.000)\n",
    "\n",
    "======================\n",
    "\n",
    "******\n",
    "[TRAIN]\n",
    "******\n",
    "RMSE: 2.022 (0.000)\n",
    "MAE: 1.614 (0.000)\n",
    "MAPE: 0.037 (0.000)\n",
    "R2: 0.633 (0.000)\n",
    "\n",
    "======================\n",
    "\n",
    "******\n",
    "[TEST]\n",
    "******\n",
    "RMSE: 3.249 (0.000)\n",
    "MAE: 2.686 (0.000)\n",
    "MAPE: 0.068 (0.000)\n",
    "R2: 0.080 (0.000)\n",
    "\n",
    "======================\n",
    "\n",
    "\n",
    "\n",
    "******\n",
    "[TRAIN]\n",
    "******\n",
    "RMSE: 2.004 (0.000)\n",
    "MAE: 1.593 (0.000)\n",
    "MAPE: 0.037 (0.000)\n",
    "R2: 0.623 (0.000)\n",
    "\n",
    "======================\n",
    "\n",
    "******\n",
    "[TEST]\n",
    "******\n",
    "RMSE: 3.621 (0.000)\n",
    "MAE: 3.135 (0.000)\n",
    "MAPE: 0.081 (0.000)\n",
    "R2: 0.690 (0.000)\n",
    "\n",
    "======================\n",
    "\"\"\""
   ]
  },
  {
   "cell_type": "code",
   "execution_count": 9,
   "metadata": {},
   "outputs": [
    {
     "data": {
      "application/javascript": [
       "\n",
       "            setTimeout(function() {\n",
       "                var nbb_cell_id = 9;\n",
       "                var nbb_unformatted_code = \"# Define the train and test periods for each row\\nperiods = [\\n    [\\\"6 months\\\", \\\"One Month\\\"],\\n    [\\\"11 months\\\", \\\"One Month\\\"],\\n    [\\\"1 year\\\", \\\"One Month\\\"],\\n    [\\\"1 year and one month\\\", \\\"One Month\\\"],\\n    [\\\"1 year and two months\\\", \\\"One Month\\\"],\\n    [\\\"2 years\\\", \\\"One Month\\\"],\\n    [\\\"2 years\\\", \\\"10 months and 27 days\\\"],\\n    [\\\"2 years\\\", \\\"One Year\\\"],\\n    [\\\"2 years and 3 months\\\", \\\"24 days predicts 7 months\\\"],\\n]\\n\\n# Extract the relevant information and store it in a dictionary\\ndata = {\\n    \\\"Validation\\\": [\\\"Blocking Time Series - Period Specific\\\"] * 36,\\n    \\\"Repeats\\\": [1] * 36,\\n    \\\"Splits\\\": [1] * 36,\\n    \\\"Metric\\\": [\\\"RMSE\\\", \\\"MAE\\\", \\\"MAPE\\\", \\\"R2\\\"] * len(periods),\\n    \\\"Train Mean\\\": [],\\n    \\\"Train Std\\\": [],\\n    \\\"Test Mean\\\": [],\\n    \\\"Test Std\\\": [],\\n    \\\"Train Period\\\": [\\n        item for sublist in [[result[0]] * 4 for result in periods] for item in sublist\\n    ],\\n    \\\"Test Period\\\": [\\n        item for sublist in [[result[1]] * 4 for result in periods] for item in sublist\\n    ],\\n}\\n\\nscores = extract_scores(s)\\n\\ndata[\\\"Train Mean\\\"] = scores[\\\"Train Mean\\\"]\\ndata[\\\"Train Std\\\"] = scores[\\\"Train Std\\\"]\\ndata[\\\"Test Mean\\\"] = scores[\\\"Test Mean\\\"]\\ndata[\\\"Test Std\\\"] = scores[\\\"Test Std\\\"]\\n\\ndf = pd.DataFrame(data)\";\n",
       "                var nbb_formatted_code = \"# Define the train and test periods for each row\\nperiods = [\\n    [\\\"6 months\\\", \\\"One Month\\\"],\\n    [\\\"11 months\\\", \\\"One Month\\\"],\\n    [\\\"1 year\\\", \\\"One Month\\\"],\\n    [\\\"1 year and one month\\\", \\\"One Month\\\"],\\n    [\\\"1 year and two months\\\", \\\"One Month\\\"],\\n    [\\\"2 years\\\", \\\"One Month\\\"],\\n    [\\\"2 years\\\", \\\"10 months and 27 days\\\"],\\n    [\\\"2 years\\\", \\\"One Year\\\"],\\n    [\\\"2 years and 3 months\\\", \\\"24 days predicts 7 months\\\"],\\n]\\n\\n# Extract the relevant information and store it in a dictionary\\ndata = {\\n    \\\"Validation\\\": [\\\"Blocking Time Series - Period Specific\\\"] * 36,\\n    \\\"Repeats\\\": [1] * 36,\\n    \\\"Splits\\\": [1] * 36,\\n    \\\"Metric\\\": [\\\"RMSE\\\", \\\"MAE\\\", \\\"MAPE\\\", \\\"R2\\\"] * len(periods),\\n    \\\"Train Mean\\\": [],\\n    \\\"Train Std\\\": [],\\n    \\\"Test Mean\\\": [],\\n    \\\"Test Std\\\": [],\\n    \\\"Train Period\\\": [\\n        item for sublist in [[result[0]] * 4 for result in periods] for item in sublist\\n    ],\\n    \\\"Test Period\\\": [\\n        item for sublist in [[result[1]] * 4 for result in periods] for item in sublist\\n    ],\\n}\\n\\nscores = extract_scores(s)\\n\\ndata[\\\"Train Mean\\\"] = scores[\\\"Train Mean\\\"]\\ndata[\\\"Train Std\\\"] = scores[\\\"Train Std\\\"]\\ndata[\\\"Test Mean\\\"] = scores[\\\"Test Mean\\\"]\\ndata[\\\"Test Std\\\"] = scores[\\\"Test Std\\\"]\\n\\ndf = pd.DataFrame(data)\";\n",
       "                var nbb_cells = Jupyter.notebook.get_cells();\n",
       "                for (var i = 0; i < nbb_cells.length; ++i) {\n",
       "                    if (nbb_cells[i].input_prompt_number == nbb_cell_id) {\n",
       "                        if (nbb_cells[i].get_text() == nbb_unformatted_code) {\n",
       "                             nbb_cells[i].set_text(nbb_formatted_code);\n",
       "                        }\n",
       "                        break;\n",
       "                    }\n",
       "                }\n",
       "            }, 500);\n",
       "            "
      ],
      "text/plain": [
       "<IPython.core.display.Javascript object>"
      ]
     },
     "metadata": {},
     "output_type": "display_data"
    }
   ],
   "source": [
    "# Define the train and test periods for each row\n",
    "periods = [\n",
    "    [\"6 months\", \"One Month\"],\n",
    "    [\"11 months\", \"One Month\"],\n",
    "    [\"1 year\", \"One Month\"],\n",
    "    [\"1 year and one month\", \"One Month\"],\n",
    "    [\"1 year and two months\", \"One Month\"],\n",
    "    [\"2 years\", \"One Month\"],\n",
    "    [\"2 years\", \"10 months and 27 days\"],\n",
    "    [\"2 years\", \"One Year\"],\n",
    "    [\"2 years and 3 months\", \"24 days predicts 7 months\"],\n",
    "]\n",
    "\n",
    "# Extract the relevant information and store it in a dictionary\n",
    "data = {\n",
    "    \"Validation\": [\"Blocking Time Series - Period Specific\"] * 36,\n",
    "    \"Repeats\": [1] * 36,\n",
    "    \"Splits\": [1] * 36,\n",
    "    \"Metric\": [\"RMSE\", \"MAE\", \"MAPE\", \"R2\"] * len(periods),\n",
    "    \"Train Mean\": [],\n",
    "    \"Train Std\": [],\n",
    "    \"Test Mean\": [],\n",
    "    \"Test Std\": [],\n",
    "    \"Train Period\": [\n",
    "        item for sublist in [[result[0]] * 4 for result in periods] for item in sublist\n",
    "    ],\n",
    "    \"Test Period\": [\n",
    "        item for sublist in [[result[1]] * 4 for result in periods] for item in sublist\n",
    "    ],\n",
    "}\n",
    "\n",
    "scores = extract_scores(s)\n",
    "\n",
    "data[\"Train Mean\"] = scores[\"Train Mean\"]\n",
    "data[\"Train Std\"] = scores[\"Train Std\"]\n",
    "data[\"Test Mean\"] = scores[\"Test Mean\"]\n",
    "data[\"Test Std\"] = scores[\"Test Std\"]\n",
    "\n",
    "df = pd.DataFrame(data)"
   ]
  },
  {
   "cell_type": "code",
   "execution_count": 10,
   "metadata": {},
   "outputs": [
    {
     "name": "stderr",
     "output_type": "stream",
     "text": [
      "/home/felipe/Documents/ccs28-venv/lib/python3.6/site-packages/ipykernel_launcher.py:6: UserWarning: Boolean Series key will be reindexed to match DataFrame index.\n",
      "  \n"
     ]
    },
    {
     "data": {
      "text/html": [
       "<div>\n",
       "<style scoped>\n",
       "    .dataframe tbody tr th:only-of-type {\n",
       "        vertical-align: middle;\n",
       "    }\n",
       "\n",
       "    .dataframe tbody tr th {\n",
       "        vertical-align: top;\n",
       "    }\n",
       "\n",
       "    .dataframe thead th {\n",
       "        text-align: right;\n",
       "    }\n",
       "</style>\n",
       "<table border=\"1\" class=\"dataframe\">\n",
       "  <thead>\n",
       "    <tr style=\"text-align: right;\">\n",
       "      <th></th>\n",
       "      <th></th>\n",
       "      <th>Validation</th>\n",
       "      <th>Repeats</th>\n",
       "      <th>Splits</th>\n",
       "      <th>Metric</th>\n",
       "      <th>Train Mean</th>\n",
       "      <th>Train Std</th>\n",
       "      <th>Test Mean</th>\n",
       "      <th>Test Std</th>\n",
       "    </tr>\n",
       "    <tr>\n",
       "      <th>Train Period</th>\n",
       "      <th>Test Period</th>\n",
       "      <th></th>\n",
       "      <th></th>\n",
       "      <th></th>\n",
       "      <th></th>\n",
       "      <th></th>\n",
       "      <th></th>\n",
       "      <th></th>\n",
       "      <th></th>\n",
       "    </tr>\n",
       "  </thead>\n",
       "  <tbody>\n",
       "    <tr>\n",
       "      <th rowspan=\"4\" valign=\"top\">2 years</th>\n",
       "      <th>10 months and 27 days</th>\n",
       "      <td>Blocking Time Series - Period Specific</td>\n",
       "      <td>1</td>\n",
       "      <td>1</td>\n",
       "      <td>RMSE</td>\n",
       "      <td>2.022</td>\n",
       "      <td>0.0</td>\n",
       "      <td>1.959</td>\n",
       "      <td>0.0</td>\n",
       "    </tr>\n",
       "    <tr>\n",
       "      <th>10 months and 27 days</th>\n",
       "      <td>Blocking Time Series - Period Specific</td>\n",
       "      <td>1</td>\n",
       "      <td>1</td>\n",
       "      <td>MAE</td>\n",
       "      <td>1.614</td>\n",
       "      <td>0.0</td>\n",
       "      <td>1.557</td>\n",
       "      <td>0.0</td>\n",
       "    </tr>\n",
       "    <tr>\n",
       "      <th>10 months and 27 days</th>\n",
       "      <td>Blocking Time Series - Period Specific</td>\n",
       "      <td>1</td>\n",
       "      <td>1</td>\n",
       "      <td>MAPE</td>\n",
       "      <td>0.037</td>\n",
       "      <td>0.0</td>\n",
       "      <td>0.037</td>\n",
       "      <td>0.0</td>\n",
       "    </tr>\n",
       "    <tr>\n",
       "      <th>10 months and 27 days</th>\n",
       "      <td>Blocking Time Series - Period Specific</td>\n",
       "      <td>1</td>\n",
       "      <td>1</td>\n",
       "      <td>R2</td>\n",
       "      <td>0.633</td>\n",
       "      <td>0.0</td>\n",
       "      <td>0.244</td>\n",
       "      <td>0.0</td>\n",
       "    </tr>\n",
       "  </tbody>\n",
       "</table>\n",
       "</div>"
      ],
      "text/plain": [
       "                                                                Validation  \\\n",
       "Train Period Test Period                                                     \n",
       "2 years      10 months and 27 days  Blocking Time Series - Period Specific   \n",
       "             10 months and 27 days  Blocking Time Series - Period Specific   \n",
       "             10 months and 27 days  Blocking Time Series - Period Specific   \n",
       "             10 months and 27 days  Blocking Time Series - Period Specific   \n",
       "\n",
       "                                    Repeats  Splits Metric  Train Mean  \\\n",
       "Train Period Test Period                                                 \n",
       "2 years      10 months and 27 days        1       1   RMSE       2.022   \n",
       "             10 months and 27 days        1       1    MAE       1.614   \n",
       "             10 months and 27 days        1       1   MAPE       0.037   \n",
       "             10 months and 27 days        1       1     R2       0.633   \n",
       "\n",
       "                                    Train Std  Test Mean  Test Std  \n",
       "Train Period Test Period                                            \n",
       "2 years      10 months and 27 days        0.0      1.959       0.0  \n",
       "             10 months and 27 days        0.0      1.557       0.0  \n",
       "             10 months and 27 days        0.0      0.037       0.0  \n",
       "             10 months and 27 days        0.0      0.244       0.0  "
      ]
     },
     "execution_count": 10,
     "metadata": {},
     "output_type": "execute_result"
    },
    {
     "data": {
      "application/javascript": [
       "\n",
       "            setTimeout(function() {\n",
       "                var nbb_cell_id = 10;\n",
       "                var nbb_unformatted_code = \"df = df.set_index([\\\"Train Period\\\", \\\"Test Period\\\"])\\ndf[\\n    (\\n        df[df[\\\"Metric\\\"] == \\\"RMSE\\\"]\\n        == df[df[\\\"Metric\\\"] == \\\"RMSE\\\"][[\\\"Test Mean\\\"]].min().values[0]\\n    )[\\\"Test Mean\\\"]\\n]\";\n",
       "                var nbb_formatted_code = \"df = df.set_index([\\\"Train Period\\\", \\\"Test Period\\\"])\\ndf[\\n    (\\n        df[df[\\\"Metric\\\"] == \\\"RMSE\\\"]\\n        == df[df[\\\"Metric\\\"] == \\\"RMSE\\\"][[\\\"Test Mean\\\"]].min().values[0]\\n    )[\\\"Test Mean\\\"]\\n]\";\n",
       "                var nbb_cells = Jupyter.notebook.get_cells();\n",
       "                for (var i = 0; i < nbb_cells.length; ++i) {\n",
       "                    if (nbb_cells[i].input_prompt_number == nbb_cell_id) {\n",
       "                        if (nbb_cells[i].get_text() == nbb_unformatted_code) {\n",
       "                             nbb_cells[i].set_text(nbb_formatted_code);\n",
       "                        }\n",
       "                        break;\n",
       "                    }\n",
       "                }\n",
       "            }, 500);\n",
       "            "
      ],
      "text/plain": [
       "<IPython.core.display.Javascript object>"
      ]
     },
     "metadata": {},
     "output_type": "display_data"
    }
   ],
   "source": [
    "df = df.set_index([\"Train Period\", \"Test Period\"])\n",
    "df[\n",
    "    (\n",
    "        df[df[\"Metric\"] == \"RMSE\"]\n",
    "        == df[df[\"Metric\"] == \"RMSE\"][[\"Test Mean\"]].min().values[0]\n",
    "    )[\"Test Mean\"]\n",
    "]"
   ]
  },
  {
   "cell_type": "code",
   "execution_count": null,
   "metadata": {},
   "outputs": [],
   "source": []
  }
 ],
 "metadata": {
  "kernelspec": {
   "display_name": "Python3 (ccs28-venv)",
   "language": "python",
   "name": "ccs28-venv"
  },
  "language_info": {
   "codemirror_mode": {
    "name": "ipython",
    "version": 3
   },
   "file_extension": ".py",
   "mimetype": "text/x-python",
   "name": "python",
   "nbconvert_exporter": "python",
   "pygments_lexer": "ipython3",
   "version": "3.6.9"
  }
 },
 "nbformat": 4,
 "nbformat_minor": 2
}
