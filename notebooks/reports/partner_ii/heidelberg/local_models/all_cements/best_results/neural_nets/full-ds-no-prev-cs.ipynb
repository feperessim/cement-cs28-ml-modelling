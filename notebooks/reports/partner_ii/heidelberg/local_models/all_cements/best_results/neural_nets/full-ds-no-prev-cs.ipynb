{
 "cells": [
  {
   "cell_type": "code",
   "execution_count": 1,
   "metadata": {},
   "outputs": [
    {
     "data": {
      "application/javascript": [
       "\n",
       "            setTimeout(function() {\n",
       "                var nbb_cell_id = 1;\n",
       "                var nbb_unformatted_code = \"%load_ext nb_black\";\n",
       "                var nbb_formatted_code = \"%load_ext nb_black\";\n",
       "                var nbb_cells = Jupyter.notebook.get_cells();\n",
       "                for (var i = 0; i < nbb_cells.length; ++i) {\n",
       "                    if (nbb_cells[i].input_prompt_number == nbb_cell_id) {\n",
       "                        if (nbb_cells[i].get_text() == nbb_unformatted_code) {\n",
       "                             nbb_cells[i].set_text(nbb_formatted_code);\n",
       "                        }\n",
       "                        break;\n",
       "                    }\n",
       "                }\n",
       "            }, 500);\n",
       "            "
      ],
      "text/plain": [
       "<IPython.core.display.Javascript object>"
      ]
     },
     "metadata": {},
     "output_type": "display_data"
    }
   ],
   "source": [
    "%load_ext nb_black"
   ]
  },
  {
   "cell_type": "code",
   "execution_count": 2,
   "metadata": {},
   "outputs": [
    {
     "data": {
      "application/javascript": [
       "\n",
       "            setTimeout(function() {\n",
       "                var nbb_cell_id = 2;\n",
       "                var nbb_unformatted_code = \"import pandas as pd\\nimport numpy as np\";\n",
       "                var nbb_formatted_code = \"import pandas as pd\\nimport numpy as np\";\n",
       "                var nbb_cells = Jupyter.notebook.get_cells();\n",
       "                for (var i = 0; i < nbb_cells.length; ++i) {\n",
       "                    if (nbb_cells[i].input_prompt_number == nbb_cell_id) {\n",
       "                        if (nbb_cells[i].get_text() == nbb_unformatted_code) {\n",
       "                             nbb_cells[i].set_text(nbb_formatted_code);\n",
       "                        }\n",
       "                        break;\n",
       "                    }\n",
       "                }\n",
       "            }, 500);\n",
       "            "
      ],
      "text/plain": [
       "<IPython.core.display.Javascript object>"
      ]
     },
     "metadata": {},
     "output_type": "display_data"
    }
   ],
   "source": [
    "import pandas as pd\n",
    "import numpy as np"
   ]
  },
  {
   "cell_type": "code",
   "execution_count": 3,
   "metadata": {},
   "outputs": [
    {
     "data": {
      "application/javascript": [
       "\n",
       "            setTimeout(function() {\n",
       "                var nbb_cell_id = 3;\n",
       "                var nbb_unformatted_code = \"def flat_list(lst):\\n    return [item for tup in list(lst) for item in tup]\";\n",
       "                var nbb_formatted_code = \"def flat_list(lst):\\n    return [item for tup in list(lst) for item in tup]\";\n",
       "                var nbb_cells = Jupyter.notebook.get_cells();\n",
       "                for (var i = 0; i < nbb_cells.length; ++i) {\n",
       "                    if (nbb_cells[i].input_prompt_number == nbb_cell_id) {\n",
       "                        if (nbb_cells[i].get_text() == nbb_unformatted_code) {\n",
       "                             nbb_cells[i].set_text(nbb_formatted_code);\n",
       "                        }\n",
       "                        break;\n",
       "                    }\n",
       "                }\n",
       "            }, 500);\n",
       "            "
      ],
      "text/plain": [
       "<IPython.core.display.Javascript object>"
      ]
     },
     "metadata": {},
     "output_type": "display_data"
    }
   ],
   "source": [
    "def flat_list(lst):\n",
    "    return [item for tup in list(lst) for item in tup]"
   ]
  },
  {
   "cell_type": "markdown",
   "metadata": {},
   "source": [
    "# All Cements"
   ]
  },
  {
   "cell_type": "code",
   "execution_count": 4,
   "metadata": {},
   "outputs": [
    {
     "data": {
      "application/javascript": [
       "\n",
       "            setTimeout(function() {\n",
       "                var nbb_cell_id = 4;\n",
       "                var nbb_unformatted_code = \"results = []\";\n",
       "                var nbb_formatted_code = \"results = []\";\n",
       "                var nbb_cells = Jupyter.notebook.get_cells();\n",
       "                for (var i = 0; i < nbb_cells.length; ++i) {\n",
       "                    if (nbb_cells[i].input_prompt_number == nbb_cell_id) {\n",
       "                        if (nbb_cells[i].get_text() == nbb_unformatted_code) {\n",
       "                             nbb_cells[i].set_text(nbb_formatted_code);\n",
       "                        }\n",
       "                        break;\n",
       "                    }\n",
       "                }\n",
       "            }, 500);\n",
       "            "
      ],
      "text/plain": [
       "<IPython.core.display.Javascript object>"
      ]
     },
     "metadata": {},
     "output_type": "display_data"
    }
   ],
   "source": [
    "results = []"
   ]
  },
  {
   "cell_type": "markdown",
   "metadata": {},
   "source": [
    "## No previous Compressive Strength"
   ]
  },
  {
   "cell_type": "markdown",
   "metadata": {},
   "source": [
    "## Repeated KFold Cross validation"
   ]
  },
  {
   "cell_type": "code",
   "execution_count": null,
   "metadata": {},
   "outputs": [],
   "source": []
  },
  {
   "cell_type": "markdown",
   "metadata": {},
   "source": [
    "## Blocking Time Series Split Results"
   ]
  },
  {
   "cell_type": "code",
   "execution_count": null,
   "metadata": {},
   "outputs": [],
   "source": []
  },
  {
   "cell_type": "markdown",
   "metadata": {},
   "source": [
    "## Time Series Split Cross Validation"
   ]
  },
  {
   "cell_type": "code",
   "execution_count": null,
   "metadata": {},
   "outputs": [],
   "source": []
  },
  {
   "cell_type": "markdown",
   "metadata": {},
   "source": [
    "## Blocking Time Series Split Results - Period Specific"
   ]
  },
  {
   "cell_type": "markdown",
   "metadata": {},
   "source": [
    "### MLP"
   ]
  },
  {
   "cell_type": "code",
   "execution_count": 4,
   "metadata": {},
   "outputs": [
    {
     "data": {
      "application/javascript": [
       "\n",
       "            setTimeout(function() {\n",
       "                var nbb_cell_id = 4;\n",
       "                var nbb_unformatted_code = \"data = {\\n    \\\"Model\\\": [\\\"MLP\\\"] * 4,\\n    \\\"Validation\\\": [\\n        \\\"Blocking Time Series - Period Specific\\\",\\n        \\\"Blocking Time Series - Period Specific\\\",\\n        \\\"Blocking Time Series - Period Specific\\\",\\n        \\\"Blocking Time Series - Period Specific\\\",\\n    ],\\n    \\\"Repeats\\\": [10, 10, 10, 10],\\n    \\\"Splits\\\": [float(\\\"nan\\\"), float(\\\"nan\\\"), float(\\\"nan\\\"), float(\\\"nan\\\")],\\n    \\\"Metric\\\": [\\\"RMSE\\\", \\\"MAE\\\", \\\"MAPE\\\", \\\"R2\\\"],\\n    \\\"Train Mean\\\": [2.196, 1.749, 0.040, 0.567],\\n    \\\"Train Std\\\": [0.030, 0.026, 0.001, 0.012],\\n    \\\"Test Mean\\\": [2.003, 1.676, 0.039, 0.209],\\n    \\\"Test Std\\\": [0.082, 0.061, 0.001, 0.067],\\n    \\\"Train Period\\\": [\\\"2 years\\\"] * 4,\\n    \\\"Test Period\\\": [\\\"10 months and 27 days\\\"] * 4,\\n}\\n\\ndf = pd.DataFrame(data)\";\n",
       "                var nbb_formatted_code = \"data = {\\n    \\\"Model\\\": [\\\"MLP\\\"] * 4,\\n    \\\"Validation\\\": [\\n        \\\"Blocking Time Series - Period Specific\\\",\\n        \\\"Blocking Time Series - Period Specific\\\",\\n        \\\"Blocking Time Series - Period Specific\\\",\\n        \\\"Blocking Time Series - Period Specific\\\",\\n    ],\\n    \\\"Repeats\\\": [10, 10, 10, 10],\\n    \\\"Splits\\\": [float(\\\"nan\\\"), float(\\\"nan\\\"), float(\\\"nan\\\"), float(\\\"nan\\\")],\\n    \\\"Metric\\\": [\\\"RMSE\\\", \\\"MAE\\\", \\\"MAPE\\\", \\\"R2\\\"],\\n    \\\"Train Mean\\\": [2.196, 1.749, 0.040, 0.567],\\n    \\\"Train Std\\\": [0.030, 0.026, 0.001, 0.012],\\n    \\\"Test Mean\\\": [2.003, 1.676, 0.039, 0.209],\\n    \\\"Test Std\\\": [0.082, 0.061, 0.001, 0.067],\\n    \\\"Train Period\\\": [\\\"2 years\\\"] * 4,\\n    \\\"Test Period\\\": [\\\"10 months and 27 days\\\"] * 4,\\n}\\n\\ndf = pd.DataFrame(data)\";\n",
       "                var nbb_cells = Jupyter.notebook.get_cells();\n",
       "                for (var i = 0; i < nbb_cells.length; ++i) {\n",
       "                    if (nbb_cells[i].input_prompt_number == nbb_cell_id) {\n",
       "                        if (nbb_cells[i].get_text() == nbb_unformatted_code) {\n",
       "                             nbb_cells[i].set_text(nbb_formatted_code);\n",
       "                        }\n",
       "                        break;\n",
       "                    }\n",
       "                }\n",
       "            }, 500);\n",
       "            "
      ],
      "text/plain": [
       "<IPython.core.display.Javascript object>"
      ]
     },
     "metadata": {},
     "output_type": "display_data"
    }
   ],
   "source": [
    "data = {\n",
    "    \"Model\": [\"MLP\"] * 4,\n",
    "    \"Validation\": [\n",
    "        \"Blocking Time Series - Period Specific\",\n",
    "        \"Blocking Time Series - Period Specific\",\n",
    "        \"Blocking Time Series - Period Specific\",\n",
    "        \"Blocking Time Series - Period Specific\",\n",
    "    ],\n",
    "    \"Repeats\": [10, 10, 10, 10],\n",
    "    \"Splits\": [float(\"nan\"), float(\"nan\"), float(\"nan\"), float(\"nan\")],\n",
    "    \"Metric\": [\"RMSE\", \"MAE\", \"MAPE\", \"R2\"],\n",
    "    \"Train Mean\": [2.196, 1.749, 0.040, 0.567],\n",
    "    \"Train Std\": [0.030, 0.026, 0.001, 0.012],\n",
    "    \"Test Mean\": [2.003, 1.676, 0.039, 0.209],\n",
    "    \"Test Std\": [0.082, 0.061, 0.001, 0.067],\n",
    "    \"Train Period\": [\"2 years\"] * 4,\n",
    "    \"Test Period\": [\"10 months and 27 days\"] * 4,\n",
    "}\n",
    "\n",
    "df = pd.DataFrame(data)"
   ]
  },
  {
   "cell_type": "markdown",
   "metadata": {},
   "source": [
    "### LSTM"
   ]
  },
  {
   "cell_type": "code",
   "execution_count": 6,
   "metadata": {},
   "outputs": [
    {
     "data": {
      "application/javascript": [
       "\n",
       "            setTimeout(function() {\n",
       "                var nbb_cell_id = 6;\n",
       "                var nbb_unformatted_code = \"data = {\\n    \\\"Model\\\": [\\\"LSTM\\\"] * 4,\\n    \\\"Validation\\\": [\\n        \\\"Blocking Time Series - Period Specific\\\",\\n        \\\"Blocking Time Series - Period Specific\\\",\\n        \\\"Blocking Time Series - Period Specific\\\",\\n        \\\"Blocking Time Series - Period Specific\\\",\\n    ],\\n    \\\"Repeats\\\": [5, 5, 5, 5],\\n    \\\"Splits\\\": [float(\\\"nan\\\"), float(\\\"nan\\\"), float(\\\"nan\\\"), float(\\\"nan\\\")],\\n    \\\"Metric\\\": [\\\"RMSE\\\", \\\"MAE\\\", \\\"MAPE\\\", \\\"R2\\\"],\\n    \\\"Time Steps\\\": [7, 7, 7, 7],\\n    \\\"Train Mean\\\": [2.134, 1.691, 0.039, 0.578],\\n    \\\"Train Std\\\": [0.070, 0.057, 0.002, 0.027],\\n    \\\"Test Mean\\\": [2.147, 1.751, 0.042, 0.297],\\n    \\\"Test Std\\\": [0.101, 0.078, 0.002, 0.067],\\n    \\\"Train Period\\\": [\\\"2 years\\\", \\\"2 years\\\", \\\"2 years\\\", \\\"2 years\\\"],\\n    \\\"Test Period\\\": [\\\"One Month\\\", \\\"One Month\\\", \\\"One Month\\\", \\\"One Month\\\"],\\n}\\n\\ndf2 = pd.DataFrame(data)\\ndf = df.append(df2).reset_index(drop=True)\";\n",
       "                var nbb_formatted_code = \"data = {\\n    \\\"Model\\\": [\\\"LSTM\\\"] * 4,\\n    \\\"Validation\\\": [\\n        \\\"Blocking Time Series - Period Specific\\\",\\n        \\\"Blocking Time Series - Period Specific\\\",\\n        \\\"Blocking Time Series - Period Specific\\\",\\n        \\\"Blocking Time Series - Period Specific\\\",\\n    ],\\n    \\\"Repeats\\\": [5, 5, 5, 5],\\n    \\\"Splits\\\": [float(\\\"nan\\\"), float(\\\"nan\\\"), float(\\\"nan\\\"), float(\\\"nan\\\")],\\n    \\\"Metric\\\": [\\\"RMSE\\\", \\\"MAE\\\", \\\"MAPE\\\", \\\"R2\\\"],\\n    \\\"Time Steps\\\": [7, 7, 7, 7],\\n    \\\"Train Mean\\\": [2.134, 1.691, 0.039, 0.578],\\n    \\\"Train Std\\\": [0.070, 0.057, 0.002, 0.027],\\n    \\\"Test Mean\\\": [2.147, 1.751, 0.042, 0.297],\\n    \\\"Test Std\\\": [0.101, 0.078, 0.002, 0.067],\\n    \\\"Train Period\\\": [\\\"2 years\\\", \\\"2 years\\\", \\\"2 years\\\", \\\"2 years\\\"],\\n    \\\"Test Period\\\": [\\\"One Month\\\", \\\"One Month\\\", \\\"One Month\\\", \\\"One Month\\\"],\\n}\\n\\ndf2 = pd.DataFrame(data)\\ndf = df.append(df2).reset_index(drop=True)\";\n",
       "                var nbb_cells = Jupyter.notebook.get_cells();\n",
       "                for (var i = 0; i < nbb_cells.length; ++i) {\n",
       "                    if (nbb_cells[i].input_prompt_number == nbb_cell_id) {\n",
       "                        if (nbb_cells[i].get_text() == nbb_unformatted_code) {\n",
       "                             nbb_cells[i].set_text(nbb_formatted_code);\n",
       "                        }\n",
       "                        break;\n",
       "                    }\n",
       "                }\n",
       "            }, 500);\n",
       "            "
      ],
      "text/plain": [
       "<IPython.core.display.Javascript object>"
      ]
     },
     "metadata": {},
     "output_type": "display_data"
    }
   ],
   "source": [
    "data = {\n",
    "    \"Model\": [\"LSTM\"] * 4,\n",
    "    \"Validation\": [\n",
    "        \"Blocking Time Series - Period Specific\",\n",
    "        \"Blocking Time Series - Period Specific\",\n",
    "        \"Blocking Time Series - Period Specific\",\n",
    "        \"Blocking Time Series - Period Specific\",\n",
    "    ],\n",
    "    \"Repeats\": [5, 5, 5, 5],\n",
    "    \"Splits\": [float(\"nan\"), float(\"nan\"), float(\"nan\"), float(\"nan\")],\n",
    "    \"Metric\": [\"RMSE\", \"MAE\", \"MAPE\", \"R2\"],\n",
    "    \"Time Steps\": [7, 7, 7, 7],\n",
    "    \"Train Mean\": [2.134, 1.691, 0.039, 0.578],\n",
    "    \"Train Std\": [0.070, 0.057, 0.002, 0.027],\n",
    "    \"Test Mean\": [2.147, 1.751, 0.042, 0.297],\n",
    "    \"Test Std\": [0.101, 0.078, 0.002, 0.067],\n",
    "    \"Train Period\": [\"2 years\", \"2 years\", \"2 years\", \"2 years\"],\n",
    "    \"Test Period\": [\"One Month\", \"One Month\", \"One Month\", \"One Month\"],\n",
    "}\n",
    "\n",
    "df2 = pd.DataFrame(data)\n",
    "df = df.append(df2).reset_index(drop=True)"
   ]
  },
  {
   "cell_type": "markdown",
   "metadata": {},
   "source": [
    "### GRU"
   ]
  },
  {
   "cell_type": "code",
   "execution_count": 8,
   "metadata": {},
   "outputs": [
    {
     "data": {
      "application/javascript": [
       "\n",
       "            setTimeout(function() {\n",
       "                var nbb_cell_id = 8;\n",
       "                var nbb_unformatted_code = \"import pandas as pd\\n\\ndata = {\\n    \\\"Model\\\": [\\\"GRU\\\"] * 4,\\n    \\\"Validation\\\": [\\n        \\\"Blocking Time Series - Period Specific\\\",\\n        \\\"Blocking Time Series - Period Specific\\\",\\n        \\\"Blocking Time Series - Period Specific\\\",\\n        \\\"Blocking Time Series - Period Specific\\\",\\n    ],\\n    \\\"Repeats\\\": [5, 5, 5, 5],\\n    \\\"Splits\\\": [None, None, None, None],\\n    \\\"Metric\\\": [\\\"RMSE\\\", \\\"MAE\\\", \\\"MAPE\\\", \\\"R2\\\"],\\n    \\\"Time Steps\\\": [14, 14, 14, 14],\\n    \\\"Train Mean\\\": [2.178, 1.738, 0.040, 0.574],\\n    \\\"Train Std\\\": [0.022, 0.020, 0.000, 0.008],\\n    \\\"Test Mean\\\": [1.968, 1.638, 0.038, 0.234],\\n    \\\"Test Std\\\": [0.121, 0.082, 0.002, 0.097],\\n    \\\"Train Period\\\": [\\\"2 years\\\", \\\"2 years\\\", \\\"2 years\\\", \\\"2 years\\\"],\\n    \\\"Test Period\\\": [\\\"10 months and 27 days\\\", \\\"10 months and 27 days\\\", \\\"10 months and 27 days\\\", \\\"10 months and 27 days\\\"],\\n}\\n\\ndf3 = pd.DataFrame(data)\\ndf = df.append(df3).reset_index(drop=True)\";\n",
       "                var nbb_formatted_code = \"import pandas as pd\\n\\ndata = {\\n    \\\"Model\\\": [\\\"GRU\\\"] * 4,\\n    \\\"Validation\\\": [\\n        \\\"Blocking Time Series - Period Specific\\\",\\n        \\\"Blocking Time Series - Period Specific\\\",\\n        \\\"Blocking Time Series - Period Specific\\\",\\n        \\\"Blocking Time Series - Period Specific\\\",\\n    ],\\n    \\\"Repeats\\\": [5, 5, 5, 5],\\n    \\\"Splits\\\": [None, None, None, None],\\n    \\\"Metric\\\": [\\\"RMSE\\\", \\\"MAE\\\", \\\"MAPE\\\", \\\"R2\\\"],\\n    \\\"Time Steps\\\": [14, 14, 14, 14],\\n    \\\"Train Mean\\\": [2.178, 1.738, 0.040, 0.574],\\n    \\\"Train Std\\\": [0.022, 0.020, 0.000, 0.008],\\n    \\\"Test Mean\\\": [1.968, 1.638, 0.038, 0.234],\\n    \\\"Test Std\\\": [0.121, 0.082, 0.002, 0.097],\\n    \\\"Train Period\\\": [\\\"2 years\\\", \\\"2 years\\\", \\\"2 years\\\", \\\"2 years\\\"],\\n    \\\"Test Period\\\": [\\n        \\\"10 months and 27 days\\\",\\n        \\\"10 months and 27 days\\\",\\n        \\\"10 months and 27 days\\\",\\n        \\\"10 months and 27 days\\\",\\n    ],\\n}\\n\\ndf3 = pd.DataFrame(data)\\ndf = df.append(df3).reset_index(drop=True)\";\n",
       "                var nbb_cells = Jupyter.notebook.get_cells();\n",
       "                for (var i = 0; i < nbb_cells.length; ++i) {\n",
       "                    if (nbb_cells[i].input_prompt_number == nbb_cell_id) {\n",
       "                        if (nbb_cells[i].get_text() == nbb_unformatted_code) {\n",
       "                             nbb_cells[i].set_text(nbb_formatted_code);\n",
       "                        }\n",
       "                        break;\n",
       "                    }\n",
       "                }\n",
       "            }, 500);\n",
       "            "
      ],
      "text/plain": [
       "<IPython.core.display.Javascript object>"
      ]
     },
     "metadata": {},
     "output_type": "display_data"
    }
   ],
   "source": [
    "import pandas as pd\n",
    "\n",
    "data = {\n",
    "    \"Model\": [\"GRU\"] * 4,\n",
    "    \"Validation\": [\n",
    "        \"Blocking Time Series - Period Specific\",\n",
    "        \"Blocking Time Series - Period Specific\",\n",
    "        \"Blocking Time Series - Period Specific\",\n",
    "        \"Blocking Time Series - Period Specific\",\n",
    "    ],\n",
    "    \"Repeats\": [5, 5, 5, 5],\n",
    "    \"Splits\": [None, None, None, None],\n",
    "    \"Metric\": [\"RMSE\", \"MAE\", \"MAPE\", \"R2\"],\n",
    "    \"Time Steps\": [14, 14, 14, 14],\n",
    "    \"Train Mean\": [2.178, 1.738, 0.040, 0.574],\n",
    "    \"Train Std\": [0.022, 0.020, 0.000, 0.008],\n",
    "    \"Test Mean\": [1.968, 1.638, 0.038, 0.234],\n",
    "    \"Test Std\": [0.121, 0.082, 0.002, 0.097],\n",
    "    \"Train Period\": [\"2 years\", \"2 years\", \"2 years\", \"2 years\"],\n",
    "    \"Test Period\": [\n",
    "        \"10 months and 27 days\",\n",
    "        \"10 months and 27 days\",\n",
    "        \"10 months and 27 days\",\n",
    "        \"10 months and 27 days\",\n",
    "    ],\n",
    "}\n",
    "\n",
    "df3 = pd.DataFrame(data)\n",
    "df = df.append(df3).reset_index(drop=True)"
   ]
  },
  {
   "cell_type": "code",
   "execution_count": 9,
   "metadata": {},
   "outputs": [
    {
     "data": {
      "text/html": [
       "<div>\n",
       "<style scoped>\n",
       "    .dataframe tbody tr th:only-of-type {\n",
       "        vertical-align: middle;\n",
       "    }\n",
       "\n",
       "    .dataframe tbody tr th {\n",
       "        vertical-align: top;\n",
       "    }\n",
       "\n",
       "    .dataframe thead th {\n",
       "        text-align: right;\n",
       "    }\n",
       "</style>\n",
       "<table border=\"1\" class=\"dataframe\">\n",
       "  <thead>\n",
       "    <tr style=\"text-align: right;\">\n",
       "      <th></th>\n",
       "      <th>Model</th>\n",
       "      <th>Validation</th>\n",
       "      <th>Repeats</th>\n",
       "      <th>Splits</th>\n",
       "      <th>Metric</th>\n",
       "      <th>Train Mean</th>\n",
       "      <th>Train Std</th>\n",
       "      <th>Test Mean</th>\n",
       "      <th>Test Std</th>\n",
       "      <th>Train Period</th>\n",
       "      <th>Test Period</th>\n",
       "      <th>Time Steps</th>\n",
       "    </tr>\n",
       "  </thead>\n",
       "  <tbody>\n",
       "    <tr>\n",
       "      <th>0</th>\n",
       "      <td>MLP</td>\n",
       "      <td>Blocking Time Series - Period Specific</td>\n",
       "      <td>10</td>\n",
       "      <td>NaN</td>\n",
       "      <td>RMSE</td>\n",
       "      <td>2.196</td>\n",
       "      <td>0.030</td>\n",
       "      <td>2.003</td>\n",
       "      <td>0.082</td>\n",
       "      <td>2 years</td>\n",
       "      <td>10 months and 27 days</td>\n",
       "      <td>NaN</td>\n",
       "    </tr>\n",
       "    <tr>\n",
       "      <th>1</th>\n",
       "      <td>MLP</td>\n",
       "      <td>Blocking Time Series - Period Specific</td>\n",
       "      <td>10</td>\n",
       "      <td>NaN</td>\n",
       "      <td>MAE</td>\n",
       "      <td>1.749</td>\n",
       "      <td>0.026</td>\n",
       "      <td>1.676</td>\n",
       "      <td>0.061</td>\n",
       "      <td>2 years</td>\n",
       "      <td>10 months and 27 days</td>\n",
       "      <td>NaN</td>\n",
       "    </tr>\n",
       "    <tr>\n",
       "      <th>2</th>\n",
       "      <td>MLP</td>\n",
       "      <td>Blocking Time Series - Period Specific</td>\n",
       "      <td>10</td>\n",
       "      <td>NaN</td>\n",
       "      <td>MAPE</td>\n",
       "      <td>0.040</td>\n",
       "      <td>0.001</td>\n",
       "      <td>0.039</td>\n",
       "      <td>0.001</td>\n",
       "      <td>2 years</td>\n",
       "      <td>10 months and 27 days</td>\n",
       "      <td>NaN</td>\n",
       "    </tr>\n",
       "    <tr>\n",
       "      <th>3</th>\n",
       "      <td>MLP</td>\n",
       "      <td>Blocking Time Series - Period Specific</td>\n",
       "      <td>10</td>\n",
       "      <td>NaN</td>\n",
       "      <td>R2</td>\n",
       "      <td>0.567</td>\n",
       "      <td>0.012</td>\n",
       "      <td>0.209</td>\n",
       "      <td>0.067</td>\n",
       "      <td>2 years</td>\n",
       "      <td>10 months and 27 days</td>\n",
       "      <td>NaN</td>\n",
       "    </tr>\n",
       "    <tr>\n",
       "      <th>4</th>\n",
       "      <td>LSTM</td>\n",
       "      <td>Blocking Time Series - Period Specific</td>\n",
       "      <td>5</td>\n",
       "      <td>NaN</td>\n",
       "      <td>RMSE</td>\n",
       "      <td>2.134</td>\n",
       "      <td>0.070</td>\n",
       "      <td>2.147</td>\n",
       "      <td>0.101</td>\n",
       "      <td>2 years</td>\n",
       "      <td>One Month</td>\n",
       "      <td>7.0</td>\n",
       "    </tr>\n",
       "    <tr>\n",
       "      <th>5</th>\n",
       "      <td>LSTM</td>\n",
       "      <td>Blocking Time Series - Period Specific</td>\n",
       "      <td>5</td>\n",
       "      <td>NaN</td>\n",
       "      <td>MAE</td>\n",
       "      <td>1.691</td>\n",
       "      <td>0.057</td>\n",
       "      <td>1.751</td>\n",
       "      <td>0.078</td>\n",
       "      <td>2 years</td>\n",
       "      <td>One Month</td>\n",
       "      <td>7.0</td>\n",
       "    </tr>\n",
       "    <tr>\n",
       "      <th>6</th>\n",
       "      <td>LSTM</td>\n",
       "      <td>Blocking Time Series - Period Specific</td>\n",
       "      <td>5</td>\n",
       "      <td>NaN</td>\n",
       "      <td>MAPE</td>\n",
       "      <td>0.039</td>\n",
       "      <td>0.002</td>\n",
       "      <td>0.042</td>\n",
       "      <td>0.002</td>\n",
       "      <td>2 years</td>\n",
       "      <td>One Month</td>\n",
       "      <td>7.0</td>\n",
       "    </tr>\n",
       "    <tr>\n",
       "      <th>7</th>\n",
       "      <td>LSTM</td>\n",
       "      <td>Blocking Time Series - Period Specific</td>\n",
       "      <td>5</td>\n",
       "      <td>NaN</td>\n",
       "      <td>R2</td>\n",
       "      <td>0.578</td>\n",
       "      <td>0.027</td>\n",
       "      <td>0.297</td>\n",
       "      <td>0.067</td>\n",
       "      <td>2 years</td>\n",
       "      <td>One Month</td>\n",
       "      <td>7.0</td>\n",
       "    </tr>\n",
       "    <tr>\n",
       "      <th>8</th>\n",
       "      <td>GRU</td>\n",
       "      <td>Blocking Time Series - Period Specific</td>\n",
       "      <td>5</td>\n",
       "      <td>None</td>\n",
       "      <td>RMSE</td>\n",
       "      <td>2.178</td>\n",
       "      <td>0.022</td>\n",
       "      <td>1.968</td>\n",
       "      <td>0.121</td>\n",
       "      <td>2 years</td>\n",
       "      <td>10 months and 27 days</td>\n",
       "      <td>14.0</td>\n",
       "    </tr>\n",
       "    <tr>\n",
       "      <th>9</th>\n",
       "      <td>GRU</td>\n",
       "      <td>Blocking Time Series - Period Specific</td>\n",
       "      <td>5</td>\n",
       "      <td>None</td>\n",
       "      <td>MAE</td>\n",
       "      <td>1.738</td>\n",
       "      <td>0.020</td>\n",
       "      <td>1.638</td>\n",
       "      <td>0.082</td>\n",
       "      <td>2 years</td>\n",
       "      <td>10 months and 27 days</td>\n",
       "      <td>14.0</td>\n",
       "    </tr>\n",
       "    <tr>\n",
       "      <th>10</th>\n",
       "      <td>GRU</td>\n",
       "      <td>Blocking Time Series - Period Specific</td>\n",
       "      <td>5</td>\n",
       "      <td>None</td>\n",
       "      <td>MAPE</td>\n",
       "      <td>0.040</td>\n",
       "      <td>0.000</td>\n",
       "      <td>0.038</td>\n",
       "      <td>0.002</td>\n",
       "      <td>2 years</td>\n",
       "      <td>10 months and 27 days</td>\n",
       "      <td>14.0</td>\n",
       "    </tr>\n",
       "    <tr>\n",
       "      <th>11</th>\n",
       "      <td>GRU</td>\n",
       "      <td>Blocking Time Series - Period Specific</td>\n",
       "      <td>5</td>\n",
       "      <td>None</td>\n",
       "      <td>R2</td>\n",
       "      <td>0.574</td>\n",
       "      <td>0.008</td>\n",
       "      <td>0.234</td>\n",
       "      <td>0.097</td>\n",
       "      <td>2 years</td>\n",
       "      <td>10 months and 27 days</td>\n",
       "      <td>14.0</td>\n",
       "    </tr>\n",
       "  </tbody>\n",
       "</table>\n",
       "</div>"
      ],
      "text/plain": [
       "   Model                              Validation  Repeats Splits Metric  \\\n",
       "0    MLP  Blocking Time Series - Period Specific       10    NaN   RMSE   \n",
       "1    MLP  Blocking Time Series - Period Specific       10    NaN    MAE   \n",
       "2    MLP  Blocking Time Series - Period Specific       10    NaN   MAPE   \n",
       "3    MLP  Blocking Time Series - Period Specific       10    NaN     R2   \n",
       "4   LSTM  Blocking Time Series - Period Specific        5    NaN   RMSE   \n",
       "5   LSTM  Blocking Time Series - Period Specific        5    NaN    MAE   \n",
       "6   LSTM  Blocking Time Series - Period Specific        5    NaN   MAPE   \n",
       "7   LSTM  Blocking Time Series - Period Specific        5    NaN     R2   \n",
       "8    GRU  Blocking Time Series - Period Specific        5   None   RMSE   \n",
       "9    GRU  Blocking Time Series - Period Specific        5   None    MAE   \n",
       "10   GRU  Blocking Time Series - Period Specific        5   None   MAPE   \n",
       "11   GRU  Blocking Time Series - Period Specific        5   None     R2   \n",
       "\n",
       "    Train Mean  Train Std  Test Mean  Test Std Train Period  \\\n",
       "0        2.196      0.030      2.003     0.082      2 years   \n",
       "1        1.749      0.026      1.676     0.061      2 years   \n",
       "2        0.040      0.001      0.039     0.001      2 years   \n",
       "3        0.567      0.012      0.209     0.067      2 years   \n",
       "4        2.134      0.070      2.147     0.101      2 years   \n",
       "5        1.691      0.057      1.751     0.078      2 years   \n",
       "6        0.039      0.002      0.042     0.002      2 years   \n",
       "7        0.578      0.027      0.297     0.067      2 years   \n",
       "8        2.178      0.022      1.968     0.121      2 years   \n",
       "9        1.738      0.020      1.638     0.082      2 years   \n",
       "10       0.040      0.000      0.038     0.002      2 years   \n",
       "11       0.574      0.008      0.234     0.097      2 years   \n",
       "\n",
       "              Test Period  Time Steps  \n",
       "0   10 months and 27 days         NaN  \n",
       "1   10 months and 27 days         NaN  \n",
       "2   10 months and 27 days         NaN  \n",
       "3   10 months and 27 days         NaN  \n",
       "4               One Month         7.0  \n",
       "5               One Month         7.0  \n",
       "6               One Month         7.0  \n",
       "7               One Month         7.0  \n",
       "8   10 months and 27 days        14.0  \n",
       "9   10 months and 27 days        14.0  \n",
       "10  10 months and 27 days        14.0  \n",
       "11  10 months and 27 days        14.0  "
      ]
     },
     "execution_count": 9,
     "metadata": {},
     "output_type": "execute_result"
    },
    {
     "data": {
      "application/javascript": [
       "\n",
       "            setTimeout(function() {\n",
       "                var nbb_cell_id = 9;\n",
       "                var nbb_unformatted_code = \"df\";\n",
       "                var nbb_formatted_code = \"df\";\n",
       "                var nbb_cells = Jupyter.notebook.get_cells();\n",
       "                for (var i = 0; i < nbb_cells.length; ++i) {\n",
       "                    if (nbb_cells[i].input_prompt_number == nbb_cell_id) {\n",
       "                        if (nbb_cells[i].get_text() == nbb_unformatted_code) {\n",
       "                             nbb_cells[i].set_text(nbb_formatted_code);\n",
       "                        }\n",
       "                        break;\n",
       "                    }\n",
       "                }\n",
       "            }, 500);\n",
       "            "
      ],
      "text/plain": [
       "<IPython.core.display.Javascript object>"
      ]
     },
     "metadata": {},
     "output_type": "display_data"
    }
   ],
   "source": [
    "df"
   ]
  },
  {
   "cell_type": "markdown",
   "metadata": {},
   "source": [
    "### Bi-LSTM"
   ]
  },
  {
   "cell_type": "code",
   "execution_count": 10,
   "metadata": {},
   "outputs": [
    {
     "data": {
      "application/javascript": [
       "\n",
       "            setTimeout(function() {\n",
       "                var nbb_cell_id = 10;\n",
       "                var nbb_unformatted_code = \"data = {\\n    \\\"Model\\\": [\\\"Bi-LSTM\\\"] * 4,\\n    \\\"Validation\\\": [\\n        \\\"Blocking Time Series - Period Specific\\\",\\n        \\\"Blocking Time Series - Period Specific\\\",\\n        \\\"Blocking Time Series - Period Specific\\\",\\n        \\\"Blocking Time Series - Period Specific\\\",\\n    ],\\n    \\\"Repeats\\\": [5, 5, 5, 5],\\n    \\\"Splits\\\": [None, None, None, None],\\n    \\\"Metric\\\": [\\\"RMSE\\\", \\\"MAE\\\", \\\"MAPE\\\", \\\"R2\\\"],\\n    \\\"Time Steps\\\": [7, 7, 7, 7],\\n    \\\"Train Mean\\\": [2.049, 1.624, 0.037, 0.600],\\n    \\\"Train Std\\\": [0.087, 0.078, 0.002, 0.034],\\n    \\\"Test Mean\\\": [1.893, 1.462, 0.035, 0.361],\\n    \\\"Test Std\\\": [0.338, 0.181, 0.005, 0.245],\\n    \\\"Train Period\\\": [\\\"2 years\\\"] * 4,\\n    \\\"Test Period\\\": [\\\"One Month\\\"] * 4,\\n}\\n\\ndf4 = pd.DataFrame(data)\\ndf = df.append(df4).reset_index(drop=True)\";\n",
       "                var nbb_formatted_code = \"data = {\\n    \\\"Model\\\": [\\\"Bi-LSTM\\\"] * 4,\\n    \\\"Validation\\\": [\\n        \\\"Blocking Time Series - Period Specific\\\",\\n        \\\"Blocking Time Series - Period Specific\\\",\\n        \\\"Blocking Time Series - Period Specific\\\",\\n        \\\"Blocking Time Series - Period Specific\\\",\\n    ],\\n    \\\"Repeats\\\": [5, 5, 5, 5],\\n    \\\"Splits\\\": [None, None, None, None],\\n    \\\"Metric\\\": [\\\"RMSE\\\", \\\"MAE\\\", \\\"MAPE\\\", \\\"R2\\\"],\\n    \\\"Time Steps\\\": [7, 7, 7, 7],\\n    \\\"Train Mean\\\": [2.049, 1.624, 0.037, 0.600],\\n    \\\"Train Std\\\": [0.087, 0.078, 0.002, 0.034],\\n    \\\"Test Mean\\\": [1.893, 1.462, 0.035, 0.361],\\n    \\\"Test Std\\\": [0.338, 0.181, 0.005, 0.245],\\n    \\\"Train Period\\\": [\\\"2 years\\\"] * 4,\\n    \\\"Test Period\\\": [\\\"One Month\\\"] * 4,\\n}\\n\\ndf4 = pd.DataFrame(data)\\ndf = df.append(df4).reset_index(drop=True)\";\n",
       "                var nbb_cells = Jupyter.notebook.get_cells();\n",
       "                for (var i = 0; i < nbb_cells.length; ++i) {\n",
       "                    if (nbb_cells[i].input_prompt_number == nbb_cell_id) {\n",
       "                        if (nbb_cells[i].get_text() == nbb_unformatted_code) {\n",
       "                             nbb_cells[i].set_text(nbb_formatted_code);\n",
       "                        }\n",
       "                        break;\n",
       "                    }\n",
       "                }\n",
       "            }, 500);\n",
       "            "
      ],
      "text/plain": [
       "<IPython.core.display.Javascript object>"
      ]
     },
     "metadata": {},
     "output_type": "display_data"
    }
   ],
   "source": [
    "data = {\n",
    "    \"Model\": [\"Bi-LSTM\"] * 4,\n",
    "    \"Validation\": [\n",
    "        \"Blocking Time Series - Period Specific\",\n",
    "        \"Blocking Time Series - Period Specific\",\n",
    "        \"Blocking Time Series - Period Specific\",\n",
    "        \"Blocking Time Series - Period Specific\",\n",
    "    ],\n",
    "    \"Repeats\": [5, 5, 5, 5],\n",
    "    \"Splits\": [None, None, None, None],\n",
    "    \"Metric\": [\"RMSE\", \"MAE\", \"MAPE\", \"R2\"],\n",
    "    \"Time Steps\": [7, 7, 7, 7],\n",
    "    \"Train Mean\": [2.049, 1.624, 0.037, 0.600],\n",
    "    \"Train Std\": [0.087, 0.078, 0.002, 0.034],\n",
    "    \"Test Mean\": [1.893, 1.462, 0.035, 0.361],\n",
    "    \"Test Std\": [0.338, 0.181, 0.005, 0.245],\n",
    "    \"Train Period\": [\"2 years\"] * 4,\n",
    "    \"Test Period\": [\"One Month\"] * 4,\n",
    "}\n",
    "\n",
    "df4 = pd.DataFrame(data)\n",
    "df = df.append(df4).reset_index(drop=True)"
   ]
  },
  {
   "cell_type": "markdown",
   "metadata": {},
   "source": [
    "### Bi-GRU"
   ]
  },
  {
   "cell_type": "code",
   "execution_count": 12,
   "metadata": {},
   "outputs": [
    {
     "data": {
      "application/javascript": [
       "\n",
       "            setTimeout(function() {\n",
       "                var nbb_cell_id = 12;\n",
       "                var nbb_unformatted_code = \"import pandas as pd\\n\\ndata = {\\n    \\\"Model\\\": [\\\"Bi-GRU\\\"] * 4,\\n    \\\"Validation\\\": [\\n        \\\"Blocking Time Series - Period Specific\\\",\\n        \\\"Blocking Time Series - Period Specific\\\",\\n        \\\"Blocking Time Series - Period Specific\\\",\\n        \\\"Blocking Time Series - Period Specific\\\",\\n    ],\\n    \\\"Repeats\\\": [5, 5, 5, 5],\\n    \\\"Splits\\\": [None, None, None, None],\\n    \\\"Metric\\\": [\\\"RMSE\\\", \\\"MAE\\\", \\\"MAPE\\\", \\\"R2\\\"],\\n    \\\"Time Steps\\\": [7, 7, 7, 7],\\n    \\\"Train Mean\\\": [2.016, 1.595, 0.036, 0.613],\\n    \\\"Train Std\\\": [0.039, 0.038, 0.001, 0.015],\\n    \\\"Test Mean\\\": [1.737, 1.397, 0.033, 0.477],\\n    \\\"Test Std\\\": [0.095, 0.048, 0.001, 0.059],\\n    \\\"Train Period\\\": [\\\"2 years\\\", \\\"2 years\\\", \\\"2 years\\\", \\\"2 years\\\"],\\n    \\\"Test Period\\\": [\\\"One Month\\\", \\\"One Month\\\", \\\"One Month\\\", \\\"One Month\\\"],\\n}\\n\\ndf5 = pd.DataFrame(data)\\ndf = df.append(df5).reset_index(drop=True)\";\n",
       "                var nbb_formatted_code = \"import pandas as pd\\n\\ndata = {\\n    \\\"Model\\\": [\\\"Bi-GRU\\\"] * 4,\\n    \\\"Validation\\\": [\\n        \\\"Blocking Time Series - Period Specific\\\",\\n        \\\"Blocking Time Series - Period Specific\\\",\\n        \\\"Blocking Time Series - Period Specific\\\",\\n        \\\"Blocking Time Series - Period Specific\\\",\\n    ],\\n    \\\"Repeats\\\": [5, 5, 5, 5],\\n    \\\"Splits\\\": [None, None, None, None],\\n    \\\"Metric\\\": [\\\"RMSE\\\", \\\"MAE\\\", \\\"MAPE\\\", \\\"R2\\\"],\\n    \\\"Time Steps\\\": [7, 7, 7, 7],\\n    \\\"Train Mean\\\": [2.016, 1.595, 0.036, 0.613],\\n    \\\"Train Std\\\": [0.039, 0.038, 0.001, 0.015],\\n    \\\"Test Mean\\\": [1.737, 1.397, 0.033, 0.477],\\n    \\\"Test Std\\\": [0.095, 0.048, 0.001, 0.059],\\n    \\\"Train Period\\\": [\\\"2 years\\\", \\\"2 years\\\", \\\"2 years\\\", \\\"2 years\\\"],\\n    \\\"Test Period\\\": [\\\"One Month\\\", \\\"One Month\\\", \\\"One Month\\\", \\\"One Month\\\"],\\n}\\n\\ndf5 = pd.DataFrame(data)\\ndf = df.append(df5).reset_index(drop=True)\";\n",
       "                var nbb_cells = Jupyter.notebook.get_cells();\n",
       "                for (var i = 0; i < nbb_cells.length; ++i) {\n",
       "                    if (nbb_cells[i].input_prompt_number == nbb_cell_id) {\n",
       "                        if (nbb_cells[i].get_text() == nbb_unformatted_code) {\n",
       "                             nbb_cells[i].set_text(nbb_formatted_code);\n",
       "                        }\n",
       "                        break;\n",
       "                    }\n",
       "                }\n",
       "            }, 500);\n",
       "            "
      ],
      "text/plain": [
       "<IPython.core.display.Javascript object>"
      ]
     },
     "metadata": {},
     "output_type": "display_data"
    }
   ],
   "source": [
    "import pandas as pd\n",
    "\n",
    "data = {\n",
    "    \"Model\": [\"Bi-GRU\"] * 4,\n",
    "    \"Validation\": [\n",
    "        \"Blocking Time Series - Period Specific\",\n",
    "        \"Blocking Time Series - Period Specific\",\n",
    "        \"Blocking Time Series - Period Specific\",\n",
    "        \"Blocking Time Series - Period Specific\",\n",
    "    ],\n",
    "    \"Repeats\": [5, 5, 5, 5],\n",
    "    \"Splits\": [None, None, None, None],\n",
    "    \"Metric\": [\"RMSE\", \"MAE\", \"MAPE\", \"R2\"],\n",
    "    \"Time Steps\": [7, 7, 7, 7],\n",
    "    \"Train Mean\": [2.016, 1.595, 0.036, 0.613],\n",
    "    \"Train Std\": [0.039, 0.038, 0.001, 0.015],\n",
    "    \"Test Mean\": [1.737, 1.397, 0.033, 0.477],\n",
    "    \"Test Std\": [0.095, 0.048, 0.001, 0.059],\n",
    "    \"Train Period\": [\"2 years\", \"2 years\", \"2 years\", \"2 years\"],\n",
    "    \"Test Period\": [\"One Month\", \"One Month\", \"One Month\", \"One Month\"],\n",
    "}\n",
    "\n",
    "df5 = pd.DataFrame(data)\n",
    "df = df.append(df5).reset_index(drop=True)"
   ]
  },
  {
   "cell_type": "code",
   "execution_count": 13,
   "metadata": {},
   "outputs": [
    {
     "data": {
      "text/html": [
       "<div>\n",
       "<style scoped>\n",
       "    .dataframe tbody tr th:only-of-type {\n",
       "        vertical-align: middle;\n",
       "    }\n",
       "\n",
       "    .dataframe tbody tr th {\n",
       "        vertical-align: top;\n",
       "    }\n",
       "\n",
       "    .dataframe thead th {\n",
       "        text-align: right;\n",
       "    }\n",
       "</style>\n",
       "<table border=\"1\" class=\"dataframe\">\n",
       "  <thead>\n",
       "    <tr style=\"text-align: right;\">\n",
       "      <th></th>\n",
       "      <th>Model</th>\n",
       "      <th>Validation</th>\n",
       "      <th>Repeats</th>\n",
       "      <th>Splits</th>\n",
       "      <th>Metric</th>\n",
       "      <th>Train Mean</th>\n",
       "      <th>Train Std</th>\n",
       "      <th>Test Mean</th>\n",
       "      <th>Test Std</th>\n",
       "      <th>Train Period</th>\n",
       "      <th>Test Period</th>\n",
       "      <th>Time Steps</th>\n",
       "    </tr>\n",
       "  </thead>\n",
       "  <tbody>\n",
       "    <tr>\n",
       "      <th>16</th>\n",
       "      <td>Bi-GRU</td>\n",
       "      <td>Blocking Time Series - Period Specific</td>\n",
       "      <td>5</td>\n",
       "      <td>None</td>\n",
       "      <td>RMSE</td>\n",
       "      <td>2.016</td>\n",
       "      <td>0.039</td>\n",
       "      <td>1.737</td>\n",
       "      <td>0.095</td>\n",
       "      <td>2 years</td>\n",
       "      <td>One Month</td>\n",
       "      <td>7.0</td>\n",
       "    </tr>\n",
       "    <tr>\n",
       "      <th>17</th>\n",
       "      <td>Bi-GRU</td>\n",
       "      <td>Blocking Time Series - Period Specific</td>\n",
       "      <td>5</td>\n",
       "      <td>None</td>\n",
       "      <td>MAE</td>\n",
       "      <td>1.595</td>\n",
       "      <td>0.038</td>\n",
       "      <td>1.397</td>\n",
       "      <td>0.048</td>\n",
       "      <td>2 years</td>\n",
       "      <td>One Month</td>\n",
       "      <td>7.0</td>\n",
       "    </tr>\n",
       "    <tr>\n",
       "      <th>18</th>\n",
       "      <td>Bi-GRU</td>\n",
       "      <td>Blocking Time Series - Period Specific</td>\n",
       "      <td>5</td>\n",
       "      <td>None</td>\n",
       "      <td>MAPE</td>\n",
       "      <td>0.036</td>\n",
       "      <td>0.001</td>\n",
       "      <td>0.033</td>\n",
       "      <td>0.001</td>\n",
       "      <td>2 years</td>\n",
       "      <td>One Month</td>\n",
       "      <td>7.0</td>\n",
       "    </tr>\n",
       "    <tr>\n",
       "      <th>19</th>\n",
       "      <td>Bi-GRU</td>\n",
       "      <td>Blocking Time Series - Period Specific</td>\n",
       "      <td>5</td>\n",
       "      <td>None</td>\n",
       "      <td>R2</td>\n",
       "      <td>0.613</td>\n",
       "      <td>0.015</td>\n",
       "      <td>0.477</td>\n",
       "      <td>0.059</td>\n",
       "      <td>2 years</td>\n",
       "      <td>One Month</td>\n",
       "      <td>7.0</td>\n",
       "    </tr>\n",
       "  </tbody>\n",
       "</table>\n",
       "</div>"
      ],
      "text/plain": [
       "     Model                              Validation  Repeats Splits Metric  \\\n",
       "16  Bi-GRU  Blocking Time Series - Period Specific        5   None   RMSE   \n",
       "17  Bi-GRU  Blocking Time Series - Period Specific        5   None    MAE   \n",
       "18  Bi-GRU  Blocking Time Series - Period Specific        5   None   MAPE   \n",
       "19  Bi-GRU  Blocking Time Series - Period Specific        5   None     R2   \n",
       "\n",
       "    Train Mean  Train Std  Test Mean  Test Std Train Period Test Period  \\\n",
       "16       2.016      0.039      1.737     0.095      2 years   One Month   \n",
       "17       1.595      0.038      1.397     0.048      2 years   One Month   \n",
       "18       0.036      0.001      0.033     0.001      2 years   One Month   \n",
       "19       0.613      0.015      0.477     0.059      2 years   One Month   \n",
       "\n",
       "    Time Steps  \n",
       "16         7.0  \n",
       "17         7.0  \n",
       "18         7.0  \n",
       "19         7.0  "
      ]
     },
     "execution_count": 13,
     "metadata": {},
     "output_type": "execute_result"
    },
    {
     "data": {
      "application/javascript": [
       "\n",
       "            setTimeout(function() {\n",
       "                var nbb_cell_id = 13;\n",
       "                var nbb_unformatted_code = \"idx = df[df[\\\"Metric\\\"] == \\\"RMSE\\\"][\\\"Test Mean\\\"].idxmin()\\ndf.iloc[idx : idx + 4]\";\n",
       "                var nbb_formatted_code = \"idx = df[df[\\\"Metric\\\"] == \\\"RMSE\\\"][\\\"Test Mean\\\"].idxmin()\\ndf.iloc[idx : idx + 4]\";\n",
       "                var nbb_cells = Jupyter.notebook.get_cells();\n",
       "                for (var i = 0; i < nbb_cells.length; ++i) {\n",
       "                    if (nbb_cells[i].input_prompt_number == nbb_cell_id) {\n",
       "                        if (nbb_cells[i].get_text() == nbb_unformatted_code) {\n",
       "                             nbb_cells[i].set_text(nbb_formatted_code);\n",
       "                        }\n",
       "                        break;\n",
       "                    }\n",
       "                }\n",
       "            }, 500);\n",
       "            "
      ],
      "text/plain": [
       "<IPython.core.display.Javascript object>"
      ]
     },
     "metadata": {},
     "output_type": "display_data"
    }
   ],
   "source": [
    "idx = df[df[\"Metric\"] == \"RMSE\"][\"Test Mean\"].idxmin()\n",
    "df.iloc[idx : idx + 4]"
   ]
  },
  {
   "cell_type": "code",
   "execution_count": null,
   "metadata": {},
   "outputs": [],
   "source": []
  }
 ],
 "metadata": {
  "kernelspec": {
   "display_name": "Python3 (ccs28-venv)",
   "language": "python",
   "name": "ccs28-venv"
  },
  "language_info": {
   "codemirror_mode": {
    "name": "ipython",
    "version": 3
   },
   "file_extension": ".py",
   "mimetype": "text/x-python",
   "name": "python",
   "nbconvert_exporter": "python",
   "pygments_lexer": "ipython3",
   "version": "3.6.9"
  }
 },
 "nbformat": 4,
 "nbformat_minor": 2
}
