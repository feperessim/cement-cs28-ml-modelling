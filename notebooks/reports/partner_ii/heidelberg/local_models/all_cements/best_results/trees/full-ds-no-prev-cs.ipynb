{
 "cells": [
  {
   "cell_type": "code",
   "execution_count": 2,
   "metadata": {},
   "outputs": [
    {
     "data": {
      "application/javascript": [
       "\n",
       "            setTimeout(function() {\n",
       "                var nbb_cell_id = 2;\n",
       "                var nbb_unformatted_code = \"%load_ext nb_black\";\n",
       "                var nbb_formatted_code = \"%load_ext nb_black\";\n",
       "                var nbb_cells = Jupyter.notebook.get_cells();\n",
       "                for (var i = 0; i < nbb_cells.length; ++i) {\n",
       "                    if (nbb_cells[i].input_prompt_number == nbb_cell_id) {\n",
       "                        if (nbb_cells[i].get_text() == nbb_unformatted_code) {\n",
       "                             nbb_cells[i].set_text(nbb_formatted_code);\n",
       "                        }\n",
       "                        break;\n",
       "                    }\n",
       "                }\n",
       "            }, 500);\n",
       "            "
      ],
      "text/plain": [
       "<IPython.core.display.Javascript object>"
      ]
     },
     "metadata": {},
     "output_type": "display_data"
    }
   ],
   "source": [
    "%load_ext nb_black"
   ]
  },
  {
   "cell_type": "code",
   "execution_count": 3,
   "metadata": {},
   "outputs": [
    {
     "data": {
      "application/javascript": [
       "\n",
       "            setTimeout(function() {\n",
       "                var nbb_cell_id = 3;\n",
       "                var nbb_unformatted_code = \"import pandas as pd\\nimport numpy as np\";\n",
       "                var nbb_formatted_code = \"import pandas as pd\\nimport numpy as np\";\n",
       "                var nbb_cells = Jupyter.notebook.get_cells();\n",
       "                for (var i = 0; i < nbb_cells.length; ++i) {\n",
       "                    if (nbb_cells[i].input_prompt_number == nbb_cell_id) {\n",
       "                        if (nbb_cells[i].get_text() == nbb_unformatted_code) {\n",
       "                             nbb_cells[i].set_text(nbb_formatted_code);\n",
       "                        }\n",
       "                        break;\n",
       "                    }\n",
       "                }\n",
       "            }, 500);\n",
       "            "
      ],
      "text/plain": [
       "<IPython.core.display.Javascript object>"
      ]
     },
     "metadata": {},
     "output_type": "display_data"
    }
   ],
   "source": [
    "import pandas as pd\n",
    "import numpy as np"
   ]
  },
  {
   "cell_type": "code",
   "execution_count": 4,
   "metadata": {},
   "outputs": [
    {
     "data": {
      "application/javascript": [
       "\n",
       "            setTimeout(function() {\n",
       "                var nbb_cell_id = 4;\n",
       "                var nbb_unformatted_code = \"def flat_list(lst):\\n    return [item for tup in list(lst) for item in tup]\";\n",
       "                var nbb_formatted_code = \"def flat_list(lst):\\n    return [item for tup in list(lst) for item in tup]\";\n",
       "                var nbb_cells = Jupyter.notebook.get_cells();\n",
       "                for (var i = 0; i < nbb_cells.length; ++i) {\n",
       "                    if (nbb_cells[i].input_prompt_number == nbb_cell_id) {\n",
       "                        if (nbb_cells[i].get_text() == nbb_unformatted_code) {\n",
       "                             nbb_cells[i].set_text(nbb_formatted_code);\n",
       "                        }\n",
       "                        break;\n",
       "                    }\n",
       "                }\n",
       "            }, 500);\n",
       "            "
      ],
      "text/plain": [
       "<IPython.core.display.Javascript object>"
      ]
     },
     "metadata": {},
     "output_type": "display_data"
    }
   ],
   "source": [
    "def flat_list(lst):\n",
    "    return [item for tup in list(lst) for item in tup]"
   ]
  },
  {
   "cell_type": "markdown",
   "metadata": {},
   "source": [
    "# All Cements"
   ]
  },
  {
   "cell_type": "code",
   "execution_count": 5,
   "metadata": {},
   "outputs": [
    {
     "data": {
      "application/javascript": [
       "\n",
       "            setTimeout(function() {\n",
       "                var nbb_cell_id = 5;\n",
       "                var nbb_unformatted_code = \"results = []\";\n",
       "                var nbb_formatted_code = \"results = []\";\n",
       "                var nbb_cells = Jupyter.notebook.get_cells();\n",
       "                for (var i = 0; i < nbb_cells.length; ++i) {\n",
       "                    if (nbb_cells[i].input_prompt_number == nbb_cell_id) {\n",
       "                        if (nbb_cells[i].get_text() == nbb_unformatted_code) {\n",
       "                             nbb_cells[i].set_text(nbb_formatted_code);\n",
       "                        }\n",
       "                        break;\n",
       "                    }\n",
       "                }\n",
       "            }, 500);\n",
       "            "
      ],
      "text/plain": [
       "<IPython.core.display.Javascript object>"
      ]
     },
     "metadata": {},
     "output_type": "display_data"
    }
   ],
   "source": [
    "results = []"
   ]
  },
  {
   "cell_type": "markdown",
   "metadata": {},
   "source": [
    "## No previous Compressive Strength"
   ]
  },
  {
   "cell_type": "markdown",
   "metadata": {},
   "source": [
    "## Repeated KFold Cross validation"
   ]
  },
  {
   "cell_type": "code",
   "execution_count": null,
   "metadata": {},
   "outputs": [],
   "source": []
  },
  {
   "cell_type": "markdown",
   "metadata": {},
   "source": [
    "## Blocking Time Series Split Results"
   ]
  },
  {
   "cell_type": "code",
   "execution_count": null,
   "metadata": {},
   "outputs": [],
   "source": []
  },
  {
   "cell_type": "markdown",
   "metadata": {},
   "source": [
    "## Time Series Split Cross Validation"
   ]
  },
  {
   "cell_type": "code",
   "execution_count": null,
   "metadata": {},
   "outputs": [],
   "source": []
  },
  {
   "cell_type": "markdown",
   "metadata": {},
   "source": [
    "## Blocking Time Series Split Results - Period Specific"
   ]
  },
  {
   "cell_type": "markdown",
   "metadata": {},
   "source": [
    "### Decision Tree"
   ]
  },
  {
   "cell_type": "code",
   "execution_count": 14,
   "metadata": {},
   "outputs": [
    {
     "data": {
      "application/javascript": [
       "\n",
       "            setTimeout(function() {\n",
       "                var nbb_cell_id = 14;\n",
       "                var nbb_unformatted_code = \"data = {\\n    \\\"Model\\\": [\\\"Decision Tree\\\"] * 4,\\n    \\\"Validation\\\": [\\\"Blocking Time Series - Period Specific\\\"] * 4,\\n    \\\"Repeats\\\": [1] * 4,\\n    \\\"Splits\\\": [float(\\\"nan\\\")] * 4,\\n    \\\"Metric\\\": [\\\"RMSE\\\", \\\"MAE\\\", \\\"MAPE\\\", \\\"R2\\\"],\\n    \\\"Train Mean\\\": [2.053, 1.639, 0.038, 0.622],\\n    \\\"Train Std\\\": [0.0, 0.0, 0.0, 0.0],\\n    \\\"Test Mean\\\": [1.915, 1.521, 0.036, 0.079],\\n    \\\"Test Std\\\": [0.0, 0.0, 0.0, 0.0],\\n    \\\"Train Period\\\": [\\\"2 years\\\", \\\"2 years\\\", \\\"2 years\\\", \\\"2 years\\\"],\\n    \\\"Test Period\\\": [\\\"One Month\\\", \\\"One Month\\\", \\\"One Month\\\", \\\"One Month\\\"],\\n}\\n\\ndf = pd.DataFrame(data)\";\n",
       "                var nbb_formatted_code = \"data = {\\n    \\\"Model\\\": [\\\"Decision Tree\\\"] * 4,\\n    \\\"Validation\\\": [\\\"Blocking Time Series - Period Specific\\\"] * 4,\\n    \\\"Repeats\\\": [1] * 4,\\n    \\\"Splits\\\": [float(\\\"nan\\\")] * 4,\\n    \\\"Metric\\\": [\\\"RMSE\\\", \\\"MAE\\\", \\\"MAPE\\\", \\\"R2\\\"],\\n    \\\"Train Mean\\\": [2.053, 1.639, 0.038, 0.622],\\n    \\\"Train Std\\\": [0.0, 0.0, 0.0, 0.0],\\n    \\\"Test Mean\\\": [1.915, 1.521, 0.036, 0.079],\\n    \\\"Test Std\\\": [0.0, 0.0, 0.0, 0.0],\\n    \\\"Train Period\\\": [\\\"2 years\\\", \\\"2 years\\\", \\\"2 years\\\", \\\"2 years\\\"],\\n    \\\"Test Period\\\": [\\\"One Month\\\", \\\"One Month\\\", \\\"One Month\\\", \\\"One Month\\\"],\\n}\\n\\ndf = pd.DataFrame(data)\";\n",
       "                var nbb_cells = Jupyter.notebook.get_cells();\n",
       "                for (var i = 0; i < nbb_cells.length; ++i) {\n",
       "                    if (nbb_cells[i].input_prompt_number == nbb_cell_id) {\n",
       "                        if (nbb_cells[i].get_text() == nbb_unformatted_code) {\n",
       "                             nbb_cells[i].set_text(nbb_formatted_code);\n",
       "                        }\n",
       "                        break;\n",
       "                    }\n",
       "                }\n",
       "            }, 500);\n",
       "            "
      ],
      "text/plain": [
       "<IPython.core.display.Javascript object>"
      ]
     },
     "metadata": {},
     "output_type": "display_data"
    }
   ],
   "source": [
    "data = {\n",
    "    \"Model\": [\"Decision Tree\"] * 4,\n",
    "    \"Validation\": [\"Blocking Time Series - Period Specific\"] * 4,\n",
    "    \"Repeats\": [1] * 4,\n",
    "    \"Splits\": [float(\"nan\")] * 4,\n",
    "    \"Metric\": [\"RMSE\", \"MAE\", \"MAPE\", \"R2\"],\n",
    "    \"Train Mean\": [2.053, 1.639, 0.038, 0.622],\n",
    "    \"Train Std\": [0.0, 0.0, 0.0, 0.0],\n",
    "    \"Test Mean\": [1.915, 1.521, 0.036, 0.079],\n",
    "    \"Test Std\": [0.0, 0.0, 0.0, 0.0],\n",
    "    \"Train Period\": [\"2 years\", \"2 years\", \"2 years\", \"2 years\"],\n",
    "    \"Test Period\": [\"One Month\", \"One Month\", \"One Month\", \"One Month\"],\n",
    "}\n",
    "\n",
    "df = pd.DataFrame(data)"
   ]
  },
  {
   "cell_type": "markdown",
   "metadata": {},
   "source": [
    "### Random Forest"
   ]
  },
  {
   "cell_type": "code",
   "execution_count": 15,
   "metadata": {},
   "outputs": [
    {
     "data": {
      "application/javascript": [
       "\n",
       "            setTimeout(function() {\n",
       "                var nbb_cell_id = 15;\n",
       "                var nbb_unformatted_code = \"data = {\\n    \\\"Model\\\": [\\\"Random Forest\\\"] * 4,\\n    \\\"Validation\\\": [\\n        \\\"Blocking Time Series - Period Specific\\\",\\n    ]\\n    * 4,\\n    \\\"Repeats\\\": [1] * 4,\\n    \\\"Splits\\\": [float(\\\"nan\\\")] * 4,\\n    \\\"Metric\\\": [\\\"RMSE\\\", \\\"MAE\\\", \\\"MAPE\\\", \\\"R2\\\"],\\n    \\\"Train Mean\\\": [1.923, 1.544, 0.035, 0.668],\\n    \\\"Train Std\\\": [0.0, 0.0, 0.0, 0.0],\\n    \\\"Test Mean\\\": [1.729, 1.405, 0.033, 0.411],\\n    \\\"Test Std\\\": [0.0, 0.0, 0.0, 0.0],\\n    \\\"Train Period\\\": [\\\"2 years\\\"] * 4,\\n    \\\"Test Period\\\": [\\\"10 months and 27 days\\\"] * 4,\\n}\\n\\ndf2 = pd.DataFrame(data)\\ndf = df.append(df2).reset_index(drop=True)\";\n",
       "                var nbb_formatted_code = \"data = {\\n    \\\"Model\\\": [\\\"Random Forest\\\"] * 4,\\n    \\\"Validation\\\": [\\n        \\\"Blocking Time Series - Period Specific\\\",\\n    ]\\n    * 4,\\n    \\\"Repeats\\\": [1] * 4,\\n    \\\"Splits\\\": [float(\\\"nan\\\")] * 4,\\n    \\\"Metric\\\": [\\\"RMSE\\\", \\\"MAE\\\", \\\"MAPE\\\", \\\"R2\\\"],\\n    \\\"Train Mean\\\": [1.923, 1.544, 0.035, 0.668],\\n    \\\"Train Std\\\": [0.0, 0.0, 0.0, 0.0],\\n    \\\"Test Mean\\\": [1.729, 1.405, 0.033, 0.411],\\n    \\\"Test Std\\\": [0.0, 0.0, 0.0, 0.0],\\n    \\\"Train Period\\\": [\\\"2 years\\\"] * 4,\\n    \\\"Test Period\\\": [\\\"10 months and 27 days\\\"] * 4,\\n}\\n\\ndf2 = pd.DataFrame(data)\\ndf = df.append(df2).reset_index(drop=True)\";\n",
       "                var nbb_cells = Jupyter.notebook.get_cells();\n",
       "                for (var i = 0; i < nbb_cells.length; ++i) {\n",
       "                    if (nbb_cells[i].input_prompt_number == nbb_cell_id) {\n",
       "                        if (nbb_cells[i].get_text() == nbb_unformatted_code) {\n",
       "                             nbb_cells[i].set_text(nbb_formatted_code);\n",
       "                        }\n",
       "                        break;\n",
       "                    }\n",
       "                }\n",
       "            }, 500);\n",
       "            "
      ],
      "text/plain": [
       "<IPython.core.display.Javascript object>"
      ]
     },
     "metadata": {},
     "output_type": "display_data"
    }
   ],
   "source": [
    "data = {\n",
    "    \"Model\": [\"Random Forest\"] * 4,\n",
    "    \"Validation\": [\n",
    "        \"Blocking Time Series - Period Specific\",\n",
    "    ]\n",
    "    * 4,\n",
    "    \"Repeats\": [1] * 4,\n",
    "    \"Splits\": [float(\"nan\")] * 4,\n",
    "    \"Metric\": [\"RMSE\", \"MAE\", \"MAPE\", \"R2\"],\n",
    "    \"Train Mean\": [1.923, 1.544, 0.035, 0.668],\n",
    "    \"Train Std\": [0.0, 0.0, 0.0, 0.0],\n",
    "    \"Test Mean\": [1.729, 1.405, 0.033, 0.411],\n",
    "    \"Test Std\": [0.0, 0.0, 0.0, 0.0],\n",
    "    \"Train Period\": [\"2 years\"] * 4,\n",
    "    \"Test Period\": [\"10 months and 27 days\"] * 4,\n",
    "}\n",
    "\n",
    "df2 = pd.DataFrame(data)\n",
    "df = df.append(df2).reset_index(drop=True)"
   ]
  },
  {
   "cell_type": "markdown",
   "metadata": {},
   "source": [
    "### XGBoost"
   ]
  },
  {
   "cell_type": "code",
   "execution_count": 16,
   "metadata": {},
   "outputs": [
    {
     "data": {
      "application/javascript": [
       "\n",
       "            setTimeout(function() {\n",
       "                var nbb_cell_id = 16;\n",
       "                var nbb_unformatted_code = \"data = {\\n    \\\"Model\\\": [\\\"XGBoost\\\"] * 4,\\n    \\\"Validation\\\": [\\n        \\\"Blocking Time Series - Period Specific\\\",\\n    ]\\n    * 4,\\n    \\\"Repeats\\\": [10] * 4,\\n    \\\"Splits\\\": [float(\\\"nan\\\")] * 4,\\n    \\\"Metric\\\": [\\\"RMSE\\\", \\\"MAE\\\", \\\"MAPE\\\", \\\"R2\\\"],\\n    \\\"Train Mean\\\": [1.833, 1.471, 0.033, 0.698],\\n    \\\"Train Std\\\": [0.0, 0.0, 0.0, 0.0],\\n    \\\"Test Mean\\\": [1.716, 1.299, 0.030, 0.420],\\n    \\\"Test Std\\\": [0.0, 0.0, 0.0, 0.0],\\n    \\\"Train Period\\\": [\\\"2 years\\\"] * 4,\\n    \\\"Test Period\\\": [\\\"2 months\\\"] * 4,\\n}\\n\\n\\ndf3 = pd.DataFrame(data)\\ndf = df.append(df3).reset_index(drop=True)\";\n",
       "                var nbb_formatted_code = \"data = {\\n    \\\"Model\\\": [\\\"XGBoost\\\"] * 4,\\n    \\\"Validation\\\": [\\n        \\\"Blocking Time Series - Period Specific\\\",\\n    ]\\n    * 4,\\n    \\\"Repeats\\\": [10] * 4,\\n    \\\"Splits\\\": [float(\\\"nan\\\")] * 4,\\n    \\\"Metric\\\": [\\\"RMSE\\\", \\\"MAE\\\", \\\"MAPE\\\", \\\"R2\\\"],\\n    \\\"Train Mean\\\": [1.833, 1.471, 0.033, 0.698],\\n    \\\"Train Std\\\": [0.0, 0.0, 0.0, 0.0],\\n    \\\"Test Mean\\\": [1.716, 1.299, 0.030, 0.420],\\n    \\\"Test Std\\\": [0.0, 0.0, 0.0, 0.0],\\n    \\\"Train Period\\\": [\\\"2 years\\\"] * 4,\\n    \\\"Test Period\\\": [\\\"2 months\\\"] * 4,\\n}\\n\\n\\ndf3 = pd.DataFrame(data)\\ndf = df.append(df3).reset_index(drop=True)\";\n",
       "                var nbb_cells = Jupyter.notebook.get_cells();\n",
       "                for (var i = 0; i < nbb_cells.length; ++i) {\n",
       "                    if (nbb_cells[i].input_prompt_number == nbb_cell_id) {\n",
       "                        if (nbb_cells[i].get_text() == nbb_unformatted_code) {\n",
       "                             nbb_cells[i].set_text(nbb_formatted_code);\n",
       "                        }\n",
       "                        break;\n",
       "                    }\n",
       "                }\n",
       "            }, 500);\n",
       "            "
      ],
      "text/plain": [
       "<IPython.core.display.Javascript object>"
      ]
     },
     "metadata": {},
     "output_type": "display_data"
    }
   ],
   "source": [
    "data = {\n",
    "    \"Model\": [\"XGBoost\"] * 4,\n",
    "    \"Validation\": [\n",
    "        \"Blocking Time Series - Period Specific\",\n",
    "    ]\n",
    "    * 4,\n",
    "    \"Repeats\": [10] * 4,\n",
    "    \"Splits\": [float(\"nan\")] * 4,\n",
    "    \"Metric\": [\"RMSE\", \"MAE\", \"MAPE\", \"R2\"],\n",
    "    \"Train Mean\": [1.833, 1.471, 0.033, 0.698],\n",
    "    \"Train Std\": [0.0, 0.0, 0.0, 0.0],\n",
    "    \"Test Mean\": [1.716, 1.299, 0.030, 0.420],\n",
    "    \"Test Std\": [0.0, 0.0, 0.0, 0.0],\n",
    "    \"Train Period\": [\"2 years\"] * 4,\n",
    "    \"Test Period\": [\"2 months\"] * 4,\n",
    "}\n",
    "\n",
    "\n",
    "df3 = pd.DataFrame(data)\n",
    "df = df.append(df3).reset_index(drop=True)"
   ]
  },
  {
   "cell_type": "code",
   "execution_count": 17,
   "metadata": {},
   "outputs": [
    {
     "data": {
      "text/html": [
       "<div>\n",
       "<style scoped>\n",
       "    .dataframe tbody tr th:only-of-type {\n",
       "        vertical-align: middle;\n",
       "    }\n",
       "\n",
       "    .dataframe tbody tr th {\n",
       "        vertical-align: top;\n",
       "    }\n",
       "\n",
       "    .dataframe thead th {\n",
       "        text-align: right;\n",
       "    }\n",
       "</style>\n",
       "<table border=\"1\" class=\"dataframe\">\n",
       "  <thead>\n",
       "    <tr style=\"text-align: right;\">\n",
       "      <th></th>\n",
       "      <th>Model</th>\n",
       "      <th>Validation</th>\n",
       "      <th>Repeats</th>\n",
       "      <th>Splits</th>\n",
       "      <th>Metric</th>\n",
       "      <th>Train Mean</th>\n",
       "      <th>Train Std</th>\n",
       "      <th>Test Mean</th>\n",
       "      <th>Test Std</th>\n",
       "      <th>Train Period</th>\n",
       "      <th>Test Period</th>\n",
       "    </tr>\n",
       "  </thead>\n",
       "  <tbody>\n",
       "    <tr>\n",
       "      <th>8</th>\n",
       "      <td>XGBoost</td>\n",
       "      <td>Blocking Time Series - Period Specific</td>\n",
       "      <td>10</td>\n",
       "      <td>NaN</td>\n",
       "      <td>RMSE</td>\n",
       "      <td>1.833</td>\n",
       "      <td>0.0</td>\n",
       "      <td>1.716</td>\n",
       "      <td>0.0</td>\n",
       "      <td>2 years</td>\n",
       "      <td>2 months</td>\n",
       "    </tr>\n",
       "    <tr>\n",
       "      <th>9</th>\n",
       "      <td>XGBoost</td>\n",
       "      <td>Blocking Time Series - Period Specific</td>\n",
       "      <td>10</td>\n",
       "      <td>NaN</td>\n",
       "      <td>MAE</td>\n",
       "      <td>1.471</td>\n",
       "      <td>0.0</td>\n",
       "      <td>1.299</td>\n",
       "      <td>0.0</td>\n",
       "      <td>2 years</td>\n",
       "      <td>2 months</td>\n",
       "    </tr>\n",
       "    <tr>\n",
       "      <th>10</th>\n",
       "      <td>XGBoost</td>\n",
       "      <td>Blocking Time Series - Period Specific</td>\n",
       "      <td>10</td>\n",
       "      <td>NaN</td>\n",
       "      <td>MAPE</td>\n",
       "      <td>0.033</td>\n",
       "      <td>0.0</td>\n",
       "      <td>0.030</td>\n",
       "      <td>0.0</td>\n",
       "      <td>2 years</td>\n",
       "      <td>2 months</td>\n",
       "    </tr>\n",
       "    <tr>\n",
       "      <th>11</th>\n",
       "      <td>XGBoost</td>\n",
       "      <td>Blocking Time Series - Period Specific</td>\n",
       "      <td>10</td>\n",
       "      <td>NaN</td>\n",
       "      <td>R2</td>\n",
       "      <td>0.698</td>\n",
       "      <td>0.0</td>\n",
       "      <td>0.420</td>\n",
       "      <td>0.0</td>\n",
       "      <td>2 years</td>\n",
       "      <td>2 months</td>\n",
       "    </tr>\n",
       "  </tbody>\n",
       "</table>\n",
       "</div>"
      ],
      "text/plain": [
       "      Model                              Validation  Repeats  Splits Metric  \\\n",
       "8   XGBoost  Blocking Time Series - Period Specific       10     NaN   RMSE   \n",
       "9   XGBoost  Blocking Time Series - Period Specific       10     NaN    MAE   \n",
       "10  XGBoost  Blocking Time Series - Period Specific       10     NaN   MAPE   \n",
       "11  XGBoost  Blocking Time Series - Period Specific       10     NaN     R2   \n",
       "\n",
       "    Train Mean  Train Std  Test Mean  Test Std Train Period Test Period  \n",
       "8        1.833        0.0      1.716       0.0      2 years    2 months  \n",
       "9        1.471        0.0      1.299       0.0      2 years    2 months  \n",
       "10       0.033        0.0      0.030       0.0      2 years    2 months  \n",
       "11       0.698        0.0      0.420       0.0      2 years    2 months  "
      ]
     },
     "execution_count": 17,
     "metadata": {},
     "output_type": "execute_result"
    },
    {
     "data": {
      "application/javascript": [
       "\n",
       "            setTimeout(function() {\n",
       "                var nbb_cell_id = 17;\n",
       "                var nbb_unformatted_code = \"idx = df[df[\\\"Metric\\\"] == \\\"RMSE\\\"][\\\"Test Mean\\\"].idxmin()\\ndf.iloc[idx : idx + 4]\";\n",
       "                var nbb_formatted_code = \"idx = df[df[\\\"Metric\\\"] == \\\"RMSE\\\"][\\\"Test Mean\\\"].idxmin()\\ndf.iloc[idx : idx + 4]\";\n",
       "                var nbb_cells = Jupyter.notebook.get_cells();\n",
       "                for (var i = 0; i < nbb_cells.length; ++i) {\n",
       "                    if (nbb_cells[i].input_prompt_number == nbb_cell_id) {\n",
       "                        if (nbb_cells[i].get_text() == nbb_unformatted_code) {\n",
       "                             nbb_cells[i].set_text(nbb_formatted_code);\n",
       "                        }\n",
       "                        break;\n",
       "                    }\n",
       "                }\n",
       "            }, 500);\n",
       "            "
      ],
      "text/plain": [
       "<IPython.core.display.Javascript object>"
      ]
     },
     "metadata": {},
     "output_type": "display_data"
    }
   ],
   "source": [
    "idx = df[df[\"Metric\"] == \"RMSE\"][\"Test Mean\"].idxmin()\n",
    "df.iloc[idx : idx + 4]"
   ]
  },
  {
   "cell_type": "code",
   "execution_count": null,
   "metadata": {},
   "outputs": [],
   "source": []
  },
  {
   "cell_type": "code",
   "execution_count": null,
   "metadata": {},
   "outputs": [],
   "source": []
  }
 ],
 "metadata": {
  "kernelspec": {
   "display_name": "Python3 (ccs28-venv)",
   "language": "python",
   "name": "ccs28-venv"
  },
  "language_info": {
   "codemirror_mode": {
    "name": "ipython",
    "version": 3
   },
   "file_extension": ".py",
   "mimetype": "text/x-python",
   "name": "python",
   "nbconvert_exporter": "python",
   "pygments_lexer": "ipython3",
   "version": "3.6.9"
  }
 },
 "nbformat": 4,
 "nbformat_minor": 2
}
