{
 "cells": [
  {
   "cell_type": "code",
   "execution_count": 1,
   "metadata": {},
   "outputs": [
    {
     "data": {
      "application/javascript": [
       "\n",
       "            setTimeout(function() {\n",
       "                var nbb_cell_id = 1;\n",
       "                var nbb_unformatted_code = \"%load_ext nb_black\";\n",
       "                var nbb_formatted_code = \"%load_ext nb_black\";\n",
       "                var nbb_cells = Jupyter.notebook.get_cells();\n",
       "                for (var i = 0; i < nbb_cells.length; ++i) {\n",
       "                    if (nbb_cells[i].input_prompt_number == nbb_cell_id) {\n",
       "                        if (nbb_cells[i].get_text() == nbb_unformatted_code) {\n",
       "                             nbb_cells[i].set_text(nbb_formatted_code);\n",
       "                        }\n",
       "                        break;\n",
       "                    }\n",
       "                }\n",
       "            }, 500);\n",
       "            "
      ],
      "text/plain": [
       "<IPython.core.display.Javascript object>"
      ]
     },
     "metadata": {},
     "output_type": "display_data"
    }
   ],
   "source": [
    "%load_ext nb_black"
   ]
  },
  {
   "cell_type": "code",
   "execution_count": 2,
   "metadata": {},
   "outputs": [
    {
     "data": {
      "application/javascript": [
       "\n",
       "            setTimeout(function() {\n",
       "                var nbb_cell_id = 2;\n",
       "                var nbb_unformatted_code = \"import pandas as pd\";\n",
       "                var nbb_formatted_code = \"import pandas as pd\";\n",
       "                var nbb_cells = Jupyter.notebook.get_cells();\n",
       "                for (var i = 0; i < nbb_cells.length; ++i) {\n",
       "                    if (nbb_cells[i].input_prompt_number == nbb_cell_id) {\n",
       "                        if (nbb_cells[i].get_text() == nbb_unformatted_code) {\n",
       "                             nbb_cells[i].set_text(nbb_formatted_code);\n",
       "                        }\n",
       "                        break;\n",
       "                    }\n",
       "                }\n",
       "            }, 500);\n",
       "            "
      ],
      "text/plain": [
       "<IPython.core.display.Javascript object>"
      ]
     },
     "metadata": {},
     "output_type": "display_data"
    }
   ],
   "source": [
    "import pandas as pd"
   ]
  },
  {
   "cell_type": "markdown",
   "metadata": {},
   "source": [
    "# All Cements"
   ]
  },
  {
   "cell_type": "code",
   "execution_count": 3,
   "metadata": {},
   "outputs": [
    {
     "data": {
      "application/javascript": [
       "\n",
       "            setTimeout(function() {\n",
       "                var nbb_cell_id = 3;\n",
       "                var nbb_unformatted_code = \"results = []\";\n",
       "                var nbb_formatted_code = \"results = []\";\n",
       "                var nbb_cells = Jupyter.notebook.get_cells();\n",
       "                for (var i = 0; i < nbb_cells.length; ++i) {\n",
       "                    if (nbb_cells[i].input_prompt_number == nbb_cell_id) {\n",
       "                        if (nbb_cells[i].get_text() == nbb_unformatted_code) {\n",
       "                             nbb_cells[i].set_text(nbb_formatted_code);\n",
       "                        }\n",
       "                        break;\n",
       "                    }\n",
       "                }\n",
       "            }, 500);\n",
       "            "
      ],
      "text/plain": [
       "<IPython.core.display.Javascript object>"
      ]
     },
     "metadata": {},
     "output_type": "display_data"
    }
   ],
   "source": [
    "results = []"
   ]
  },
  {
   "cell_type": "markdown",
   "metadata": {},
   "source": [
    "## No previous Compressive Strength"
   ]
  },
  {
   "cell_type": "markdown",
   "metadata": {},
   "source": [
    "## Repeated KFold Cross validation"
   ]
  },
  {
   "cell_type": "code",
   "execution_count": 4,
   "metadata": {},
   "outputs": [
    {
     "data": {
      "application/javascript": [
       "\n",
       "            setTimeout(function() {\n",
       "                var nbb_cell_id = 4;\n",
       "                var nbb_unformatted_code = \"data = {\\n    \\\"Metric\\\": [\\\"RMSE\\\", \\\"MAE\\\", \\\"MAPE\\\", \\\"R2\\\"],\\n    \\\"Train Mean\\\": [1.064, 0.833, 0.019, 0.955],\\n    \\\"Train Std\\\": [0.008, 0.007, 0.000, 0.001],\\n    \\\"Test Mean\\\": [1.794, 0.934, 0.022, 0.682],\\n    \\\"Test Std\\\": [2.137, 0.226, 0.006, 0.879],\\n    \\\"Validation\\\": [\\\"Repeated KFold\\\"] * 4,\\n    \\\"Repeats\\\": [10] * 4,\\n    \\\"Splits\\\": [10] * 4,\\n}\\ndf = pd.DataFrame(data)\\ndf = df[\\n    [\\n        \\\"Validation\\\",\\n        \\\"Repeats\\\",\\n        \\\"Splits\\\",\\n        \\\"Metric\\\",\\n        \\\"Train Mean\\\",\\n        \\\"Train Std\\\",\\n        \\\"Test Mean\\\",\\n        \\\"Test Std\\\",\\n    ]\\n]\\ndf\\nresults.append(df)\";\n",
       "                var nbb_formatted_code = \"data = {\\n    \\\"Metric\\\": [\\\"RMSE\\\", \\\"MAE\\\", \\\"MAPE\\\", \\\"R2\\\"],\\n    \\\"Train Mean\\\": [1.064, 0.833, 0.019, 0.955],\\n    \\\"Train Std\\\": [0.008, 0.007, 0.000, 0.001],\\n    \\\"Test Mean\\\": [1.794, 0.934, 0.022, 0.682],\\n    \\\"Test Std\\\": [2.137, 0.226, 0.006, 0.879],\\n    \\\"Validation\\\": [\\\"Repeated KFold\\\"] * 4,\\n    \\\"Repeats\\\": [10] * 4,\\n    \\\"Splits\\\": [10] * 4,\\n}\\ndf = pd.DataFrame(data)\\ndf = df[\\n    [\\n        \\\"Validation\\\",\\n        \\\"Repeats\\\",\\n        \\\"Splits\\\",\\n        \\\"Metric\\\",\\n        \\\"Train Mean\\\",\\n        \\\"Train Std\\\",\\n        \\\"Test Mean\\\",\\n        \\\"Test Std\\\",\\n    ]\\n]\\ndf\\nresults.append(df)\";\n",
       "                var nbb_cells = Jupyter.notebook.get_cells();\n",
       "                for (var i = 0; i < nbb_cells.length; ++i) {\n",
       "                    if (nbb_cells[i].input_prompt_number == nbb_cell_id) {\n",
       "                        if (nbb_cells[i].get_text() == nbb_unformatted_code) {\n",
       "                             nbb_cells[i].set_text(nbb_formatted_code);\n",
       "                        }\n",
       "                        break;\n",
       "                    }\n",
       "                }\n",
       "            }, 500);\n",
       "            "
      ],
      "text/plain": [
       "<IPython.core.display.Javascript object>"
      ]
     },
     "metadata": {},
     "output_type": "display_data"
    }
   ],
   "source": [
    "data = {\n",
    "    \"Metric\": [\"RMSE\", \"MAE\", \"MAPE\", \"R2\"],\n",
    "    \"Train Mean\": [1.064, 0.833, 0.019, 0.955],\n",
    "    \"Train Std\": [0.008, 0.007, 0.000, 0.001],\n",
    "    \"Test Mean\": [1.794, 0.934, 0.022, 0.682],\n",
    "    \"Test Std\": [2.137, 0.226, 0.006, 0.879],\n",
    "    \"Validation\": [\"Repeated KFold\"] * 4,\n",
    "    \"Repeats\": [10] * 4,\n",
    "    \"Splits\": [10] * 4,\n",
    "}\n",
    "df = pd.DataFrame(data)\n",
    "df = df[\n",
    "    [\n",
    "        \"Validation\",\n",
    "        \"Repeats\",\n",
    "        \"Splits\",\n",
    "        \"Metric\",\n",
    "        \"Train Mean\",\n",
    "        \"Train Std\",\n",
    "        \"Test Mean\",\n",
    "        \"Test Std\",\n",
    "    ]\n",
    "]\n",
    "df\n",
    "results.append(df)"
   ]
  },
  {
   "cell_type": "markdown",
   "metadata": {},
   "source": [
    "## Blocking Time Series Split Results"
   ]
  },
  {
   "cell_type": "code",
   "execution_count": 5,
   "metadata": {},
   "outputs": [
    {
     "data": {
      "application/javascript": [
       "\n",
       "            setTimeout(function() {\n",
       "                var nbb_cell_id = 5;\n",
       "                var nbb_unformatted_code = \"df = [\\n    {\\n        \\\"Validation\\\": \\\"Blocking Time Series Split\\\",\\n        \\\"Repeats\\\": 10,\\n        \\\"Splits\\\": 5,\\n        \\\"Metric\\\": \\\"RMSE\\\",\\n        \\\"Train Mean\\\": 0.762,\\n        \\\"Train Std\\\": 0.081,\\n        \\\"Test Mean\\\": 8.630,\\n        \\\"Test Std\\\": 13.198,\\n    },\\n    {\\n        \\\"Validation\\\": \\\"Blocking Time Series Split\\\",\\n        \\\"Repeats\\\": 10,\\n        \\\"Splits\\\": 5,\\n        \\\"Metric\\\": \\\"MAE\\\",\\n        \\\"Train Mean\\\": 0.599,\\n        \\\"Train Std\\\": 0.067,\\n        \\\"Test Mean\\\": 2.057,\\n        \\\"Test Std\\\": 1.122,\\n    },\\n    {\\n        \\\"Validation\\\": \\\"Blocking Time Series Split\\\",\\n        \\\"Repeats\\\": 10,\\n        \\\"Splits\\\": 5,\\n        \\\"Metric\\\": \\\"MAPE\\\",\\n        \\\"Train Mean\\\": 0.014,\\n        \\\"Train Std\\\": 0.002,\\n        \\\"Test Mean\\\": 0.046,\\n        \\\"Test Std\\\": 0.024,\\n    },\\n    {\\n        \\\"Validation\\\": \\\"Blocking Time Series Split\\\",\\n        \\\"Repeats\\\": 10,\\n        \\\"Splits\\\": 5,\\n        \\\"Metric\\\": \\\"R2\\\",\\n        \\\"Train Mean\\\": 0.977,\\n        \\\"Train Std\\\": 0.004,\\n        \\\"Test Mean\\\": 9.480,\\n        \\\"Test Std\\\": 20.606,\\n    },\\n]\\n\\n# create the dataframe\\ndf = pd.DataFrame(df)\\n\\n# set the order of the columns\\ndf = df[\\n    [\\n        \\\"Validation\\\",\\n        \\\"Repeats\\\",\\n        \\\"Splits\\\",\\n        \\\"Metric\\\",\\n        \\\"Train Mean\\\",\\n        \\\"Train Std\\\",\\n        \\\"Test Mean\\\",\\n        \\\"Test Std\\\",\\n    ]\\n]\\n\\n# print the dataframe\\nresults.append(df)\";\n",
       "                var nbb_formatted_code = \"df = [\\n    {\\n        \\\"Validation\\\": \\\"Blocking Time Series Split\\\",\\n        \\\"Repeats\\\": 10,\\n        \\\"Splits\\\": 5,\\n        \\\"Metric\\\": \\\"RMSE\\\",\\n        \\\"Train Mean\\\": 0.762,\\n        \\\"Train Std\\\": 0.081,\\n        \\\"Test Mean\\\": 8.630,\\n        \\\"Test Std\\\": 13.198,\\n    },\\n    {\\n        \\\"Validation\\\": \\\"Blocking Time Series Split\\\",\\n        \\\"Repeats\\\": 10,\\n        \\\"Splits\\\": 5,\\n        \\\"Metric\\\": \\\"MAE\\\",\\n        \\\"Train Mean\\\": 0.599,\\n        \\\"Train Std\\\": 0.067,\\n        \\\"Test Mean\\\": 2.057,\\n        \\\"Test Std\\\": 1.122,\\n    },\\n    {\\n        \\\"Validation\\\": \\\"Blocking Time Series Split\\\",\\n        \\\"Repeats\\\": 10,\\n        \\\"Splits\\\": 5,\\n        \\\"Metric\\\": \\\"MAPE\\\",\\n        \\\"Train Mean\\\": 0.014,\\n        \\\"Train Std\\\": 0.002,\\n        \\\"Test Mean\\\": 0.046,\\n        \\\"Test Std\\\": 0.024,\\n    },\\n    {\\n        \\\"Validation\\\": \\\"Blocking Time Series Split\\\",\\n        \\\"Repeats\\\": 10,\\n        \\\"Splits\\\": 5,\\n        \\\"Metric\\\": \\\"R2\\\",\\n        \\\"Train Mean\\\": 0.977,\\n        \\\"Train Std\\\": 0.004,\\n        \\\"Test Mean\\\": 9.480,\\n        \\\"Test Std\\\": 20.606,\\n    },\\n]\\n\\n# create the dataframe\\ndf = pd.DataFrame(df)\\n\\n# set the order of the columns\\ndf = df[\\n    [\\n        \\\"Validation\\\",\\n        \\\"Repeats\\\",\\n        \\\"Splits\\\",\\n        \\\"Metric\\\",\\n        \\\"Train Mean\\\",\\n        \\\"Train Std\\\",\\n        \\\"Test Mean\\\",\\n        \\\"Test Std\\\",\\n    ]\\n]\\n\\n# print the dataframe\\nresults.append(df)\";\n",
       "                var nbb_cells = Jupyter.notebook.get_cells();\n",
       "                for (var i = 0; i < nbb_cells.length; ++i) {\n",
       "                    if (nbb_cells[i].input_prompt_number == nbb_cell_id) {\n",
       "                        if (nbb_cells[i].get_text() == nbb_unformatted_code) {\n",
       "                             nbb_cells[i].set_text(nbb_formatted_code);\n",
       "                        }\n",
       "                        break;\n",
       "                    }\n",
       "                }\n",
       "            }, 500);\n",
       "            "
      ],
      "text/plain": [
       "<IPython.core.display.Javascript object>"
      ]
     },
     "metadata": {},
     "output_type": "display_data"
    }
   ],
   "source": [
    "df = [\n",
    "    {\n",
    "        \"Validation\": \"Blocking Time Series Split\",\n",
    "        \"Repeats\": 10,\n",
    "        \"Splits\": 5,\n",
    "        \"Metric\": \"RMSE\",\n",
    "        \"Train Mean\": 0.762,\n",
    "        \"Train Std\": 0.081,\n",
    "        \"Test Mean\": 8.630,\n",
    "        \"Test Std\": 13.198,\n",
    "    },\n",
    "    {\n",
    "        \"Validation\": \"Blocking Time Series Split\",\n",
    "        \"Repeats\": 10,\n",
    "        \"Splits\": 5,\n",
    "        \"Metric\": \"MAE\",\n",
    "        \"Train Mean\": 0.599,\n",
    "        \"Train Std\": 0.067,\n",
    "        \"Test Mean\": 2.057,\n",
    "        \"Test Std\": 1.122,\n",
    "    },\n",
    "    {\n",
    "        \"Validation\": \"Blocking Time Series Split\",\n",
    "        \"Repeats\": 10,\n",
    "        \"Splits\": 5,\n",
    "        \"Metric\": \"MAPE\",\n",
    "        \"Train Mean\": 0.014,\n",
    "        \"Train Std\": 0.002,\n",
    "        \"Test Mean\": 0.046,\n",
    "        \"Test Std\": 0.024,\n",
    "    },\n",
    "    {\n",
    "        \"Validation\": \"Blocking Time Series Split\",\n",
    "        \"Repeats\": 10,\n",
    "        \"Splits\": 5,\n",
    "        \"Metric\": \"R2\",\n",
    "        \"Train Mean\": 0.977,\n",
    "        \"Train Std\": 0.004,\n",
    "        \"Test Mean\": 9.480,\n",
    "        \"Test Std\": 20.606,\n",
    "    },\n",
    "]\n",
    "\n",
    "# create the dataframe\n",
    "df = pd.DataFrame(df)\n",
    "\n",
    "# set the order of the columns\n",
    "df = df[\n",
    "    [\n",
    "        \"Validation\",\n",
    "        \"Repeats\",\n",
    "        \"Splits\",\n",
    "        \"Metric\",\n",
    "        \"Train Mean\",\n",
    "        \"Train Std\",\n",
    "        \"Test Mean\",\n",
    "        \"Test Std\",\n",
    "    ]\n",
    "]\n",
    "\n",
    "# print the dataframe\n",
    "results.append(df)"
   ]
  },
  {
   "cell_type": "markdown",
   "metadata": {},
   "source": [
    "## Time Series Split Cross Validation"
   ]
  },
  {
   "cell_type": "code",
   "execution_count": 6,
   "metadata": {},
   "outputs": [
    {
     "data": {
      "application/javascript": [
       "\n",
       "            setTimeout(function() {\n",
       "                var nbb_cell_id = 6;\n",
       "                var nbb_unformatted_code = \"# define dictionary with results\\ntss_results = {\\n    \\\"Validation\\\": \\\"Time Series Split Cross Validation\\\",\\n    \\\"Repeats\\\": 10,\\n    \\\"Splits\\\": 10,\\n    \\\"RMSE Train Mean\\\": 0.882,\\n    \\\"RMSE Train Std\\\": 0.112,\\n    \\\"MAE Train Mean\\\": 0.683,\\n    \\\"MAE Train Std\\\": 0.085,\\n    \\\"MAPE Train Mean\\\": 0.016,\\n    \\\"MAPE Train Std\\\": 0.002,\\n    \\\"R2 Train Mean\\\": 0.968,\\n    \\\"R2 Train Std\\\": 0.007,\\n    \\\"RMSE Test Mean\\\": 19.104,\\n    \\\"RMSE Test Std\\\": 34.671,\\n    \\\"MAE Test Mean\\\": 2.962,\\n    \\\"MAE Test Std\\\": 3.814,\\n    \\\"MAPE Test Mean\\\": 0.066,\\n    \\\"MAPE Test Std\\\": 0.084,\\n    \\\"R2 Test Mean\\\": 64.803,\\n    \\\"R2 Test Std\\\": 142.162,\\n}\\n\\n# create dataframe\\ndf = pd.DataFrame(\\n    columns=[\\n        \\\"Validation\\\",\\n        \\\"Repeats\\\",\\n        \\\"Splits\\\",\\n        \\\"Metric\\\",\\n        \\\"Train Mean\\\",\\n        \\\"Train Std\\\",\\n        \\\"Test Mean\\\",\\n        \\\"Test Std\\\",\\n    ]\\n)\\n\\n# populate dataframe\\nfor i, metric in enumerate([\\\"RMSE\\\", \\\"MAE\\\", \\\"MAPE\\\", \\\"R2\\\"]):\\n    df.loc[i * 4] = [\\n        tss_results[\\\"Validation\\\"],\\n        tss_results[\\\"Repeats\\\"],\\n        tss_results[\\\"Splits\\\"],\\n        metric,\\n        tss_results[f\\\"{metric} Train Mean\\\"],\\n        tss_results[f\\\"{metric} Train Std\\\"],\\n        tss_results[f\\\"{metric} Test Mean\\\"],\\n        tss_results[f\\\"{metric} Test Std\\\"],\\n    ]\\nresults.append(df)\";\n",
       "                var nbb_formatted_code = \"# define dictionary with results\\ntss_results = {\\n    \\\"Validation\\\": \\\"Time Series Split Cross Validation\\\",\\n    \\\"Repeats\\\": 10,\\n    \\\"Splits\\\": 10,\\n    \\\"RMSE Train Mean\\\": 0.882,\\n    \\\"RMSE Train Std\\\": 0.112,\\n    \\\"MAE Train Mean\\\": 0.683,\\n    \\\"MAE Train Std\\\": 0.085,\\n    \\\"MAPE Train Mean\\\": 0.016,\\n    \\\"MAPE Train Std\\\": 0.002,\\n    \\\"R2 Train Mean\\\": 0.968,\\n    \\\"R2 Train Std\\\": 0.007,\\n    \\\"RMSE Test Mean\\\": 19.104,\\n    \\\"RMSE Test Std\\\": 34.671,\\n    \\\"MAE Test Mean\\\": 2.962,\\n    \\\"MAE Test Std\\\": 3.814,\\n    \\\"MAPE Test Mean\\\": 0.066,\\n    \\\"MAPE Test Std\\\": 0.084,\\n    \\\"R2 Test Mean\\\": 64.803,\\n    \\\"R2 Test Std\\\": 142.162,\\n}\\n\\n# create dataframe\\ndf = pd.DataFrame(\\n    columns=[\\n        \\\"Validation\\\",\\n        \\\"Repeats\\\",\\n        \\\"Splits\\\",\\n        \\\"Metric\\\",\\n        \\\"Train Mean\\\",\\n        \\\"Train Std\\\",\\n        \\\"Test Mean\\\",\\n        \\\"Test Std\\\",\\n    ]\\n)\\n\\n# populate dataframe\\nfor i, metric in enumerate([\\\"RMSE\\\", \\\"MAE\\\", \\\"MAPE\\\", \\\"R2\\\"]):\\n    df.loc[i * 4] = [\\n        tss_results[\\\"Validation\\\"],\\n        tss_results[\\\"Repeats\\\"],\\n        tss_results[\\\"Splits\\\"],\\n        metric,\\n        tss_results[f\\\"{metric} Train Mean\\\"],\\n        tss_results[f\\\"{metric} Train Std\\\"],\\n        tss_results[f\\\"{metric} Test Mean\\\"],\\n        tss_results[f\\\"{metric} Test Std\\\"],\\n    ]\\nresults.append(df)\";\n",
       "                var nbb_cells = Jupyter.notebook.get_cells();\n",
       "                for (var i = 0; i < nbb_cells.length; ++i) {\n",
       "                    if (nbb_cells[i].input_prompt_number == nbb_cell_id) {\n",
       "                        if (nbb_cells[i].get_text() == nbb_unformatted_code) {\n",
       "                             nbb_cells[i].set_text(nbb_formatted_code);\n",
       "                        }\n",
       "                        break;\n",
       "                    }\n",
       "                }\n",
       "            }, 500);\n",
       "            "
      ],
      "text/plain": [
       "<IPython.core.display.Javascript object>"
      ]
     },
     "metadata": {},
     "output_type": "display_data"
    }
   ],
   "source": [
    "# define dictionary with results\n",
    "tss_results = {\n",
    "    \"Validation\": \"Time Series Split Cross Validation\",\n",
    "    \"Repeats\": 10,\n",
    "    \"Splits\": 10,\n",
    "    \"RMSE Train Mean\": 0.882,\n",
    "    \"RMSE Train Std\": 0.112,\n",
    "    \"MAE Train Mean\": 0.683,\n",
    "    \"MAE Train Std\": 0.085,\n",
    "    \"MAPE Train Mean\": 0.016,\n",
    "    \"MAPE Train Std\": 0.002,\n",
    "    \"R2 Train Mean\": 0.968,\n",
    "    \"R2 Train Std\": 0.007,\n",
    "    \"RMSE Test Mean\": 19.104,\n",
    "    \"RMSE Test Std\": 34.671,\n",
    "    \"MAE Test Mean\": 2.962,\n",
    "    \"MAE Test Std\": 3.814,\n",
    "    \"MAPE Test Mean\": 0.066,\n",
    "    \"MAPE Test Std\": 0.084,\n",
    "    \"R2 Test Mean\": 64.803,\n",
    "    \"R2 Test Std\": 142.162,\n",
    "}\n",
    "\n",
    "# create dataframe\n",
    "df = pd.DataFrame(\n",
    "    columns=[\n",
    "        \"Validation\",\n",
    "        \"Repeats\",\n",
    "        \"Splits\",\n",
    "        \"Metric\",\n",
    "        \"Train Mean\",\n",
    "        \"Train Std\",\n",
    "        \"Test Mean\",\n",
    "        \"Test Std\",\n",
    "    ]\n",
    ")\n",
    "\n",
    "# populate dataframe\n",
    "for i, metric in enumerate([\"RMSE\", \"MAE\", \"MAPE\", \"R2\"]):\n",
    "    df.loc[i * 4] = [\n",
    "        tss_results[\"Validation\"],\n",
    "        tss_results[\"Repeats\"],\n",
    "        tss_results[\"Splits\"],\n",
    "        metric,\n",
    "        tss_results[f\"{metric} Train Mean\"],\n",
    "        tss_results[f\"{metric} Train Std\"],\n",
    "        tss_results[f\"{metric} Test Mean\"],\n",
    "        tss_results[f\"{metric} Test Std\"],\n",
    "    ]\n",
    "results.append(df)"
   ]
  },
  {
   "cell_type": "markdown",
   "metadata": {},
   "source": [
    "## Blocking Time Series Split Results - Period Specific"
   ]
  },
  {
   "cell_type": "code",
   "execution_count": 13,
   "metadata": {},
   "outputs": [
    {
     "data": {
      "application/javascript": [
       "\n",
       "            setTimeout(function() {\n",
       "                var nbb_cell_id = 13;\n",
       "                var nbb_unformatted_code = \"# Define the train and test periods for each row\\nperiods = [\\n    [\\\"6 months\\\", \\\"One Month\\\"],\\n    [\\\"11 months\\\", \\\"One Month\\\"],\\n    [\\\"1 year\\\", \\\"One Month\\\"],\\n    [\\\"1 year and one month\\\", \\\"One Month\\\"],\\n    [\\\"1 year and two months\\\", \\\"One Month\\\"],\\n    [\\\"2 years\\\", \\\"One Month\\\"],\\n    [\\\"2 years\\\", \\\"Two Months\\\"],\\n    [\\\"2 years\\\", \\\"One Year\\\"],\\n]\\n\\n# Extract the relevant information and store it in a dictionary\\ndata = {\\n    \\\"Validation\\\": [\\\"Blocking Time Series - Period Specific\\\"] * 32,\\n    \\\"Repeats\\\": [1] * 32,\\n    \\\"Splits\\\": [1] * 32,\\n    \\\"Metric\\\": [\\\"RMSE\\\", \\\"MAE\\\", \\\"MAPE\\\", \\\"R2\\\"] * len(periods),\\n    \\\"Train Mean\\\": [\\n        0.817,\\n        0.65,\\n        0.015,\\n        0.974,\\n        0.883,\\n        0.689,\\n        0.016,\\n        0.969,\\n        0.917,\\n        0.718,\\n        0.017,\\n        0.966,\\n        0.873,\\n        0.668,\\n        0.016,\\n        0.969,\\n        0.906,\\n        0.691,\\n        0.016,\\n        0.967,\\n        0.86,\\n        0.657,\\n        0.015,\\n        0.969,\\n        0.86,\\n        0.657,\\n        0.015,\\n        0.969,\\n        0.86,\\n        0.657,\\n        0.015,\\n        0.969,\\n    ],\\n    \\\"Train Std\\\": [\\n        0.085,\\n        0.068,\\n        0.002,\\n        0.004,\\n        0.139,\\n        0.119,\\n        0.003,\\n        0.007,\\n        0.13,\\n        0.115,\\n        0.003,\\n        0.008,\\n        0.021,\\n        0.029,\\n        0.001,\\n        0.002,\\n        0.033,\\n        0.018,\\n        0.0,\\n        0.001,\\n        0.0,\\n        0.0,\\n        0.0,\\n        0.0,\\n        0.0,\\n        0.0,\\n        0.0,\\n        0.0,\\n        0.0,\\n        0.0,\\n        0.0,\\n        0.0,\\n    ],\\n    \\\"Test Mean\\\": [\\n        1.208,\\n        0.918,\\n        0.022,\\n        0.938,\\n        1.535,\\n        1.01,\\n        0.023,\\n        0.896,\\n        1.182,\\n        0.948,\\n        0.023,\\n        0.947,\\n        0.89,\\n        0.689,\\n        0.016,\\n        0.97,\\n        1.011,\\n        0.856,\\n        0.019,\\n        0.96,\\n        1.265,\\n        1.041,\\n        0.024,\\n        0.943,\\n        1.278,\\n        1.007,\\n        0.024,\\n        0.945,\\n        1.614,\\n        1.23,\\n        0.03,\\n        0.841,\\n    ],\\n    \\\"Test Std\\\": [\\n        0.202,\\n        0.148,\\n        0.003,\\n        0.022,\\n        0.486,\\n        0.274,\\n        0.006,\\n        0.054,\\n        0.126,\\n        0.06,\\n        0.002,\\n        0.006,\\n        0.286,\\n        0.209,\\n        0.005,\\n        0.015,\\n        0.291,\\n        0.269,\\n        0.006,\\n        0.018,\\n        0.000,\\n        0.000,\\n        0.000,\\n        0.000,\\n        0.000,\\n        0.000,\\n        0.000,\\n        0.000,\\n        0.000,\\n        0.000,\\n        0.000,\\n        0.000,\\n    ],\\n    \\\"Train Period\\\": [\\n        item for sublist in [[result[0]] * 4 for result in periods] for item in sublist\\n    ],\\n    \\\"Test Period\\\": [\\n        item for sublist in [[result[1]] * 4 for result in periods] for item in sublist\\n    ],\\n}\\n\\ndf = pd.DataFrame(data)\";\n",
       "                var nbb_formatted_code = \"# Define the train and test periods for each row\\nperiods = [\\n    [\\\"6 months\\\", \\\"One Month\\\"],\\n    [\\\"11 months\\\", \\\"One Month\\\"],\\n    [\\\"1 year\\\", \\\"One Month\\\"],\\n    [\\\"1 year and one month\\\", \\\"One Month\\\"],\\n    [\\\"1 year and two months\\\", \\\"One Month\\\"],\\n    [\\\"2 years\\\", \\\"One Month\\\"],\\n    [\\\"2 years\\\", \\\"Two Months\\\"],\\n    [\\\"2 years\\\", \\\"One Year\\\"],\\n]\\n\\n# Extract the relevant information and store it in a dictionary\\ndata = {\\n    \\\"Validation\\\": [\\\"Blocking Time Series - Period Specific\\\"] * 32,\\n    \\\"Repeats\\\": [1] * 32,\\n    \\\"Splits\\\": [1] * 32,\\n    \\\"Metric\\\": [\\\"RMSE\\\", \\\"MAE\\\", \\\"MAPE\\\", \\\"R2\\\"] * len(periods),\\n    \\\"Train Mean\\\": [\\n        0.817,\\n        0.65,\\n        0.015,\\n        0.974,\\n        0.883,\\n        0.689,\\n        0.016,\\n        0.969,\\n        0.917,\\n        0.718,\\n        0.017,\\n        0.966,\\n        0.873,\\n        0.668,\\n        0.016,\\n        0.969,\\n        0.906,\\n        0.691,\\n        0.016,\\n        0.967,\\n        0.86,\\n        0.657,\\n        0.015,\\n        0.969,\\n        0.86,\\n        0.657,\\n        0.015,\\n        0.969,\\n        0.86,\\n        0.657,\\n        0.015,\\n        0.969,\\n    ],\\n    \\\"Train Std\\\": [\\n        0.085,\\n        0.068,\\n        0.002,\\n        0.004,\\n        0.139,\\n        0.119,\\n        0.003,\\n        0.007,\\n        0.13,\\n        0.115,\\n        0.003,\\n        0.008,\\n        0.021,\\n        0.029,\\n        0.001,\\n        0.002,\\n        0.033,\\n        0.018,\\n        0.0,\\n        0.001,\\n        0.0,\\n        0.0,\\n        0.0,\\n        0.0,\\n        0.0,\\n        0.0,\\n        0.0,\\n        0.0,\\n        0.0,\\n        0.0,\\n        0.0,\\n        0.0,\\n    ],\\n    \\\"Test Mean\\\": [\\n        1.208,\\n        0.918,\\n        0.022,\\n        0.938,\\n        1.535,\\n        1.01,\\n        0.023,\\n        0.896,\\n        1.182,\\n        0.948,\\n        0.023,\\n        0.947,\\n        0.89,\\n        0.689,\\n        0.016,\\n        0.97,\\n        1.011,\\n        0.856,\\n        0.019,\\n        0.96,\\n        1.265,\\n        1.041,\\n        0.024,\\n        0.943,\\n        1.278,\\n        1.007,\\n        0.024,\\n        0.945,\\n        1.614,\\n        1.23,\\n        0.03,\\n        0.841,\\n    ],\\n    \\\"Test Std\\\": [\\n        0.202,\\n        0.148,\\n        0.003,\\n        0.022,\\n        0.486,\\n        0.274,\\n        0.006,\\n        0.054,\\n        0.126,\\n        0.06,\\n        0.002,\\n        0.006,\\n        0.286,\\n        0.209,\\n        0.005,\\n        0.015,\\n        0.291,\\n        0.269,\\n        0.006,\\n        0.018,\\n        0.000,\\n        0.000,\\n        0.000,\\n        0.000,\\n        0.000,\\n        0.000,\\n        0.000,\\n        0.000,\\n        0.000,\\n        0.000,\\n        0.000,\\n        0.000,\\n    ],\\n    \\\"Train Period\\\": [\\n        item for sublist in [[result[0]] * 4 for result in periods] for item in sublist\\n    ],\\n    \\\"Test Period\\\": [\\n        item for sublist in [[result[1]] * 4 for result in periods] for item in sublist\\n    ],\\n}\\n\\ndf = pd.DataFrame(data)\";\n",
       "                var nbb_cells = Jupyter.notebook.get_cells();\n",
       "                for (var i = 0; i < nbb_cells.length; ++i) {\n",
       "                    if (nbb_cells[i].input_prompt_number == nbb_cell_id) {\n",
       "                        if (nbb_cells[i].get_text() == nbb_unformatted_code) {\n",
       "                             nbb_cells[i].set_text(nbb_formatted_code);\n",
       "                        }\n",
       "                        break;\n",
       "                    }\n",
       "                }\n",
       "            }, 500);\n",
       "            "
      ],
      "text/plain": [
       "<IPython.core.display.Javascript object>"
      ]
     },
     "metadata": {},
     "output_type": "display_data"
    }
   ],
   "source": [
    "# Define the train and test periods for each row\n",
    "periods = [\n",
    "    [\"6 months\", \"One Month\"],\n",
    "    [\"11 months\", \"One Month\"],\n",
    "    [\"1 year\", \"One Month\"],\n",
    "    [\"1 year and one month\", \"One Month\"],\n",
    "    [\"1 year and two months\", \"One Month\"],\n",
    "    [\"2 years\", \"One Month\"],\n",
    "    [\"2 years\", \"Two Months\"],\n",
    "    [\"2 years\", \"One Year\"],\n",
    "]\n",
    "\n",
    "# Extract the relevant information and store it in a dictionary\n",
    "data = {\n",
    "    \"Validation\": [\"Blocking Time Series - Period Specific\"] * 32,\n",
    "    \"Repeats\": [1] * 32,\n",
    "    \"Splits\": [1] * 32,\n",
    "    \"Metric\": [\"RMSE\", \"MAE\", \"MAPE\", \"R2\"] * len(periods),\n",
    "    \"Train Mean\": [\n",
    "        0.817,\n",
    "        0.65,\n",
    "        0.015,\n",
    "        0.974,\n",
    "        0.883,\n",
    "        0.689,\n",
    "        0.016,\n",
    "        0.969,\n",
    "        0.917,\n",
    "        0.718,\n",
    "        0.017,\n",
    "        0.966,\n",
    "        0.873,\n",
    "        0.668,\n",
    "        0.016,\n",
    "        0.969,\n",
    "        0.906,\n",
    "        0.691,\n",
    "        0.016,\n",
    "        0.967,\n",
    "        0.86,\n",
    "        0.657,\n",
    "        0.015,\n",
    "        0.969,\n",
    "        0.86,\n",
    "        0.657,\n",
    "        0.015,\n",
    "        0.969,\n",
    "        0.86,\n",
    "        0.657,\n",
    "        0.015,\n",
    "        0.969,\n",
    "    ],\n",
    "    \"Train Std\": [\n",
    "        0.085,\n",
    "        0.068,\n",
    "        0.002,\n",
    "        0.004,\n",
    "        0.139,\n",
    "        0.119,\n",
    "        0.003,\n",
    "        0.007,\n",
    "        0.13,\n",
    "        0.115,\n",
    "        0.003,\n",
    "        0.008,\n",
    "        0.021,\n",
    "        0.029,\n",
    "        0.001,\n",
    "        0.002,\n",
    "        0.033,\n",
    "        0.018,\n",
    "        0.0,\n",
    "        0.001,\n",
    "        0.0,\n",
    "        0.0,\n",
    "        0.0,\n",
    "        0.0,\n",
    "        0.0,\n",
    "        0.0,\n",
    "        0.0,\n",
    "        0.0,\n",
    "        0.0,\n",
    "        0.0,\n",
    "        0.0,\n",
    "        0.0,\n",
    "    ],\n",
    "    \"Test Mean\": [\n",
    "        1.208,\n",
    "        0.918,\n",
    "        0.022,\n",
    "        0.938,\n",
    "        1.535,\n",
    "        1.01,\n",
    "        0.023,\n",
    "        0.896,\n",
    "        1.182,\n",
    "        0.948,\n",
    "        0.023,\n",
    "        0.947,\n",
    "        0.89,\n",
    "        0.689,\n",
    "        0.016,\n",
    "        0.97,\n",
    "        1.011,\n",
    "        0.856,\n",
    "        0.019,\n",
    "        0.96,\n",
    "        1.265,\n",
    "        1.041,\n",
    "        0.024,\n",
    "        0.943,\n",
    "        1.278,\n",
    "        1.007,\n",
    "        0.024,\n",
    "        0.945,\n",
    "        1.614,\n",
    "        1.23,\n",
    "        0.03,\n",
    "        0.841,\n",
    "    ],\n",
    "    \"Test Std\": [\n",
    "        0.202,\n",
    "        0.148,\n",
    "        0.003,\n",
    "        0.022,\n",
    "        0.486,\n",
    "        0.274,\n",
    "        0.006,\n",
    "        0.054,\n",
    "        0.126,\n",
    "        0.06,\n",
    "        0.002,\n",
    "        0.006,\n",
    "        0.286,\n",
    "        0.209,\n",
    "        0.005,\n",
    "        0.015,\n",
    "        0.291,\n",
    "        0.269,\n",
    "        0.006,\n",
    "        0.018,\n",
    "        0.000,\n",
    "        0.000,\n",
    "        0.000,\n",
    "        0.000,\n",
    "        0.000,\n",
    "        0.000,\n",
    "        0.000,\n",
    "        0.000,\n",
    "        0.000,\n",
    "        0.000,\n",
    "        0.000,\n",
    "        0.000,\n",
    "    ],\n",
    "    \"Train Period\": [\n",
    "        item for sublist in [[result[0]] * 4 for result in periods] for item in sublist\n",
    "    ],\n",
    "    \"Test Period\": [\n",
    "        item for sublist in [[result[1]] * 4 for result in periods] for item in sublist\n",
    "    ],\n",
    "}\n",
    "\n",
    "df = pd.DataFrame(data)"
   ]
  },
  {
   "cell_type": "code",
   "execution_count": 9,
   "metadata": {},
   "outputs": [
    {
     "name": "stderr",
     "output_type": "stream",
     "text": [
      "/home/felipe/Documents/ccs28-venv/lib/python3.6/site-packages/ipykernel_launcher.py:6: UserWarning: Boolean Series key will be reindexed to match DataFrame index.\n",
      "  \n"
     ]
    },
    {
     "data": {
      "text/html": [
       "<div>\n",
       "<style scoped>\n",
       "    .dataframe tbody tr th:only-of-type {\n",
       "        vertical-align: middle;\n",
       "    }\n",
       "\n",
       "    .dataframe tbody tr th {\n",
       "        vertical-align: top;\n",
       "    }\n",
       "\n",
       "    .dataframe thead th {\n",
       "        text-align: right;\n",
       "    }\n",
       "</style>\n",
       "<table border=\"1\" class=\"dataframe\">\n",
       "  <thead>\n",
       "    <tr style=\"text-align: right;\">\n",
       "      <th></th>\n",
       "      <th></th>\n",
       "      <th>Validation</th>\n",
       "      <th>Repeats</th>\n",
       "      <th>Splits</th>\n",
       "      <th>Metric</th>\n",
       "      <th>Train Mean</th>\n",
       "      <th>Train Std</th>\n",
       "      <th>Test Mean</th>\n",
       "      <th>Test Std</th>\n",
       "    </tr>\n",
       "    <tr>\n",
       "      <th>Train Period</th>\n",
       "      <th>Test Period</th>\n",
       "      <th></th>\n",
       "      <th></th>\n",
       "      <th></th>\n",
       "      <th></th>\n",
       "      <th></th>\n",
       "      <th></th>\n",
       "      <th></th>\n",
       "      <th></th>\n",
       "    </tr>\n",
       "  </thead>\n",
       "  <tbody>\n",
       "    <tr>\n",
       "      <th rowspan=\"4\" valign=\"top\">1 year and one month</th>\n",
       "      <th>One Month</th>\n",
       "      <td>Blocking Time Series - Period Specific</td>\n",
       "      <td>1</td>\n",
       "      <td>1</td>\n",
       "      <td>RMSE</td>\n",
       "      <td>0.873</td>\n",
       "      <td>0.021</td>\n",
       "      <td>0.890</td>\n",
       "      <td>0.286</td>\n",
       "    </tr>\n",
       "    <tr>\n",
       "      <th>One Month</th>\n",
       "      <td>Blocking Time Series - Period Specific</td>\n",
       "      <td>1</td>\n",
       "      <td>1</td>\n",
       "      <td>MAE</td>\n",
       "      <td>0.668</td>\n",
       "      <td>0.029</td>\n",
       "      <td>0.689</td>\n",
       "      <td>0.209</td>\n",
       "    </tr>\n",
       "    <tr>\n",
       "      <th>One Month</th>\n",
       "      <td>Blocking Time Series - Period Specific</td>\n",
       "      <td>1</td>\n",
       "      <td>1</td>\n",
       "      <td>MAPE</td>\n",
       "      <td>0.016</td>\n",
       "      <td>0.001</td>\n",
       "      <td>0.016</td>\n",
       "      <td>0.005</td>\n",
       "    </tr>\n",
       "    <tr>\n",
       "      <th>One Month</th>\n",
       "      <td>Blocking Time Series - Period Specific</td>\n",
       "      <td>1</td>\n",
       "      <td>1</td>\n",
       "      <td>R2</td>\n",
       "      <td>0.969</td>\n",
       "      <td>0.002</td>\n",
       "      <td>0.970</td>\n",
       "      <td>0.015</td>\n",
       "    </tr>\n",
       "  </tbody>\n",
       "</table>\n",
       "</div>"
      ],
      "text/plain": [
       "                                                              Validation  \\\n",
       "Train Period         Test Period                                           \n",
       "1 year and one month One Month    Blocking Time Series - Period Specific   \n",
       "                     One Month    Blocking Time Series - Period Specific   \n",
       "                     One Month    Blocking Time Series - Period Specific   \n",
       "                     One Month    Blocking Time Series - Period Specific   \n",
       "\n",
       "                                  Repeats  Splits Metric  Train Mean  \\\n",
       "Train Period         Test Period                                       \n",
       "1 year and one month One Month          1       1   RMSE       0.873   \n",
       "                     One Month          1       1    MAE       0.668   \n",
       "                     One Month          1       1   MAPE       0.016   \n",
       "                     One Month          1       1     R2       0.969   \n",
       "\n",
       "                                  Train Std  Test Mean  Test Std  \n",
       "Train Period         Test Period                                  \n",
       "1 year and one month One Month        0.021      0.890     0.286  \n",
       "                     One Month        0.029      0.689     0.209  \n",
       "                     One Month        0.001      0.016     0.005  \n",
       "                     One Month        0.002      0.970     0.015  "
      ]
     },
     "execution_count": 9,
     "metadata": {},
     "output_type": "execute_result"
    },
    {
     "data": {
      "application/javascript": [
       "\n",
       "            setTimeout(function() {\n",
       "                var nbb_cell_id = 9;\n",
       "                var nbb_unformatted_code = \"df = df.set_index([\\\"Train Period\\\", \\\"Test Period\\\"])\\ndf[\\n    (\\n        df[df[\\\"Metric\\\"] == \\\"RMSE\\\"]\\n        == df[df[\\\"Metric\\\"] == \\\"RMSE\\\"][[\\\"Test Mean\\\"]].min().values[0]\\n    )[\\\"Test Mean\\\"]\\n]\";\n",
       "                var nbb_formatted_code = \"df = df.set_index([\\\"Train Period\\\", \\\"Test Period\\\"])\\ndf[\\n    (\\n        df[df[\\\"Metric\\\"] == \\\"RMSE\\\"]\\n        == df[df[\\\"Metric\\\"] == \\\"RMSE\\\"][[\\\"Test Mean\\\"]].min().values[0]\\n    )[\\\"Test Mean\\\"]\\n]\";\n",
       "                var nbb_cells = Jupyter.notebook.get_cells();\n",
       "                for (var i = 0; i < nbb_cells.length; ++i) {\n",
       "                    if (nbb_cells[i].input_prompt_number == nbb_cell_id) {\n",
       "                        if (nbb_cells[i].get_text() == nbb_unformatted_code) {\n",
       "                             nbb_cells[i].set_text(nbb_formatted_code);\n",
       "                        }\n",
       "                        break;\n",
       "                    }\n",
       "                }\n",
       "            }, 500);\n",
       "            "
      ],
      "text/plain": [
       "<IPython.core.display.Javascript object>"
      ]
     },
     "metadata": {},
     "output_type": "display_data"
    }
   ],
   "source": [
    "df = df.set_index([\"Train Period\", \"Test Period\"])\n",
    "df[\n",
    "    (\n",
    "        df[df[\"Metric\"] == \"RMSE\"]\n",
    "        == df[df[\"Metric\"] == \"RMSE\"][[\"Test Mean\"]].min().values[0]\n",
    "    )[\"Test Mean\"]\n",
    "]"
   ]
  },
  {
   "cell_type": "code",
   "execution_count": null,
   "metadata": {},
   "outputs": [],
   "source": []
  }
 ],
 "metadata": {
  "kernelspec": {
   "display_name": "Python3 (ccs28-venv)",
   "language": "python",
   "name": "ccs28-venv"
  },
  "language_info": {
   "codemirror_mode": {
    "name": "ipython",
    "version": 3
   },
   "file_extension": ".py",
   "mimetype": "text/x-python",
   "name": "python",
   "nbconvert_exporter": "python",
   "pygments_lexer": "ipython3",
   "version": "3.6.9"
  }
 },
 "nbformat": 4,
 "nbformat_minor": 2
}
