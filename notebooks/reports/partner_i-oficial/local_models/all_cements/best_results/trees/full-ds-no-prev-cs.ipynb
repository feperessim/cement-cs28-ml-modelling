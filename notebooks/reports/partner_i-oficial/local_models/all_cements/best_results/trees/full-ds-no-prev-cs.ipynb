{
 "cells": [
  {
   "cell_type": "code",
   "execution_count": 3,
   "metadata": {},
   "outputs": [
    {
     "data": {
      "application/javascript": [
       "\n",
       "            setTimeout(function() {\n",
       "                var nbb_cell_id = 3;\n",
       "                var nbb_unformatted_code = \"%load_ext nb_black\";\n",
       "                var nbb_formatted_code = \"%load_ext nb_black\";\n",
       "                var nbb_cells = Jupyter.notebook.get_cells();\n",
       "                for (var i = 0; i < nbb_cells.length; ++i) {\n",
       "                    if (nbb_cells[i].input_prompt_number == nbb_cell_id) {\n",
       "                        if (nbb_cells[i].get_text() == nbb_unformatted_code) {\n",
       "                             nbb_cells[i].set_text(nbb_formatted_code);\n",
       "                        }\n",
       "                        break;\n",
       "                    }\n",
       "                }\n",
       "            }, 500);\n",
       "            "
      ],
      "text/plain": [
       "<IPython.core.display.Javascript object>"
      ]
     },
     "metadata": {},
     "output_type": "display_data"
    }
   ],
   "source": [
    "%load_ext nb_black"
   ]
  },
  {
   "cell_type": "code",
   "execution_count": 4,
   "metadata": {},
   "outputs": [
    {
     "data": {
      "application/javascript": [
       "\n",
       "            setTimeout(function() {\n",
       "                var nbb_cell_id = 4;\n",
       "                var nbb_unformatted_code = \"import pandas as pd\\nimport numpy as np\";\n",
       "                var nbb_formatted_code = \"import pandas as pd\\nimport numpy as np\";\n",
       "                var nbb_cells = Jupyter.notebook.get_cells();\n",
       "                for (var i = 0; i < nbb_cells.length; ++i) {\n",
       "                    if (nbb_cells[i].input_prompt_number == nbb_cell_id) {\n",
       "                        if (nbb_cells[i].get_text() == nbb_unformatted_code) {\n",
       "                             nbb_cells[i].set_text(nbb_formatted_code);\n",
       "                        }\n",
       "                        break;\n",
       "                    }\n",
       "                }\n",
       "            }, 500);\n",
       "            "
      ],
      "text/plain": [
       "<IPython.core.display.Javascript object>"
      ]
     },
     "metadata": {},
     "output_type": "display_data"
    }
   ],
   "source": [
    "import pandas as pd\n",
    "import numpy as np"
   ]
  },
  {
   "cell_type": "code",
   "execution_count": 5,
   "metadata": {},
   "outputs": [
    {
     "data": {
      "application/javascript": [
       "\n",
       "            setTimeout(function() {\n",
       "                var nbb_cell_id = 5;\n",
       "                var nbb_unformatted_code = \"def flat_list(lst):\\n    return [item for tup in list(lst) for item in tup]\";\n",
       "                var nbb_formatted_code = \"def flat_list(lst):\\n    return [item for tup in list(lst) for item in tup]\";\n",
       "                var nbb_cells = Jupyter.notebook.get_cells();\n",
       "                for (var i = 0; i < nbb_cells.length; ++i) {\n",
       "                    if (nbb_cells[i].input_prompt_number == nbb_cell_id) {\n",
       "                        if (nbb_cells[i].get_text() == nbb_unformatted_code) {\n",
       "                             nbb_cells[i].set_text(nbb_formatted_code);\n",
       "                        }\n",
       "                        break;\n",
       "                    }\n",
       "                }\n",
       "            }, 500);\n",
       "            "
      ],
      "text/plain": [
       "<IPython.core.display.Javascript object>"
      ]
     },
     "metadata": {},
     "output_type": "display_data"
    }
   ],
   "source": [
    "def flat_list(lst):\n",
    "    return [item for tup in list(lst) for item in tup]"
   ]
  },
  {
   "cell_type": "markdown",
   "metadata": {},
   "source": [
    "# All Cements"
   ]
  },
  {
   "cell_type": "code",
   "execution_count": 6,
   "metadata": {},
   "outputs": [
    {
     "data": {
      "application/javascript": [
       "\n",
       "            setTimeout(function() {\n",
       "                var nbb_cell_id = 6;\n",
       "                var nbb_unformatted_code = \"results = []\";\n",
       "                var nbb_formatted_code = \"results = []\";\n",
       "                var nbb_cells = Jupyter.notebook.get_cells();\n",
       "                for (var i = 0; i < nbb_cells.length; ++i) {\n",
       "                    if (nbb_cells[i].input_prompt_number == nbb_cell_id) {\n",
       "                        if (nbb_cells[i].get_text() == nbb_unformatted_code) {\n",
       "                             nbb_cells[i].set_text(nbb_formatted_code);\n",
       "                        }\n",
       "                        break;\n",
       "                    }\n",
       "                }\n",
       "            }, 500);\n",
       "            "
      ],
      "text/plain": [
       "<IPython.core.display.Javascript object>"
      ]
     },
     "metadata": {},
     "output_type": "display_data"
    }
   ],
   "source": [
    "results = []"
   ]
  },
  {
   "cell_type": "markdown",
   "metadata": {},
   "source": [
    "## No previous Compressive Strength"
   ]
  },
  {
   "cell_type": "markdown",
   "metadata": {},
   "source": [
    "## Repeated KFold Cross validation"
   ]
  },
  {
   "cell_type": "code",
   "execution_count": null,
   "metadata": {},
   "outputs": [],
   "source": []
  },
  {
   "cell_type": "markdown",
   "metadata": {},
   "source": [
    "## Blocking Time Series Split Results"
   ]
  },
  {
   "cell_type": "code",
   "execution_count": null,
   "metadata": {},
   "outputs": [],
   "source": []
  },
  {
   "cell_type": "markdown",
   "metadata": {},
   "source": [
    "## Time Series Split Cross Validation"
   ]
  },
  {
   "cell_type": "code",
   "execution_count": null,
   "metadata": {},
   "outputs": [],
   "source": []
  },
  {
   "cell_type": "markdown",
   "metadata": {},
   "source": [
    "## Blocking Time Series Split Results - Period Specific"
   ]
  },
  {
   "cell_type": "markdown",
   "metadata": {},
   "source": [
    "### Decision Tree"
   ]
  },
  {
   "cell_type": "code",
   "execution_count": 17,
   "metadata": {},
   "outputs": [
    {
     "data": {
      "application/javascript": [
       "\n",
       "            setTimeout(function() {\n",
       "                var nbb_cell_id = 17;\n",
       "                var nbb_unformatted_code = \"data = {\\n    \\\"Model\\\": [\\\"Decision Tree\\\"] * 4,\\n    \\\"Validation\\\": [\\\"Blocking Time Series - Period Specific\\\"] * 4,\\n    \\\"Repeats\\\": [1] * 4,\\n    \\\"Splits\\\": [float(\\\"nan\\\")] * 4,\\n    \\\"Metric\\\": [\\\"RMSE\\\", \\\"MAE\\\", \\\"MAPE\\\", \\\"R2\\\"],\\n    \\\"Train Mean\\\": [1.029, 0.812, 0.019, 0.958],\\n    \\\"Train Std\\\": [0.125, 0.119, 0.003, 0.011],\\n    \\\"Test Mean\\\": [1.065, 0.785, 0.019, 0.953],\\n    \\\"Test Std\\\": [0.124, 0.177, 0.004, 0.011],\\n    \\\"Train Period\\\": [\\\"2 years\\\", \\\"2 years\\\", \\\"2 years\\\", \\\"2 years\\\"],\\n    \\\"Test Period\\\": [\\\"One Month\\\", \\\"One Month\\\", \\\"One Month\\\", \\\"One Month\\\"],\\n}\\n\\ndf = pd.DataFrame(data)\";\n",
       "                var nbb_formatted_code = \"data = {\\n    \\\"Model\\\": [\\\"Decision Tree\\\"] * 4,\\n    \\\"Validation\\\": [\\\"Blocking Time Series - Period Specific\\\"] * 4,\\n    \\\"Repeats\\\": [1] * 4,\\n    \\\"Splits\\\": [float(\\\"nan\\\")] * 4,\\n    \\\"Metric\\\": [\\\"RMSE\\\", \\\"MAE\\\", \\\"MAPE\\\", \\\"R2\\\"],\\n    \\\"Train Mean\\\": [1.029, 0.812, 0.019, 0.958],\\n    \\\"Train Std\\\": [0.125, 0.119, 0.003, 0.011],\\n    \\\"Test Mean\\\": [1.065, 0.785, 0.019, 0.953],\\n    \\\"Test Std\\\": [0.124, 0.177, 0.004, 0.011],\\n    \\\"Train Period\\\": [\\\"2 years\\\", \\\"2 years\\\", \\\"2 years\\\", \\\"2 years\\\"],\\n    \\\"Test Period\\\": [\\\"One Month\\\", \\\"One Month\\\", \\\"One Month\\\", \\\"One Month\\\"],\\n}\\n\\ndf = pd.DataFrame(data)\";\n",
       "                var nbb_cells = Jupyter.notebook.get_cells();\n",
       "                for (var i = 0; i < nbb_cells.length; ++i) {\n",
       "                    if (nbb_cells[i].input_prompt_number == nbb_cell_id) {\n",
       "                        if (nbb_cells[i].get_text() == nbb_unformatted_code) {\n",
       "                             nbb_cells[i].set_text(nbb_formatted_code);\n",
       "                        }\n",
       "                        break;\n",
       "                    }\n",
       "                }\n",
       "            }, 500);\n",
       "            "
      ],
      "text/plain": [
       "<IPython.core.display.Javascript object>"
      ]
     },
     "metadata": {},
     "output_type": "display_data"
    }
   ],
   "source": [
    "data = {\n",
    "    \"Model\": [\"Decision Tree\"] * 4,\n",
    "    \"Validation\": [\"Blocking Time Series - Period Specific\"] * 4,\n",
    "    \"Repeats\": [1] * 4,\n",
    "    \"Splits\": [float(\"nan\")] * 4,\n",
    "    \"Metric\": [\"RMSE\", \"MAE\", \"MAPE\", \"R2\"],\n",
    "    \"Train Mean\": [1.029, 0.812, 0.019, 0.958],\n",
    "    \"Train Std\": [0.125, 0.119, 0.003, 0.011],\n",
    "    \"Test Mean\": [1.065, 0.785, 0.019, 0.953],\n",
    "    \"Test Std\": [0.124, 0.177, 0.004, 0.011],\n",
    "    \"Train Period\": [\"2 years\", \"2 years\", \"2 years\", \"2 years\"],\n",
    "    \"Test Period\": [\"One Month\", \"One Month\", \"One Month\", \"One Month\"],\n",
    "}\n",
    "\n",
    "df = pd.DataFrame(data)"
   ]
  },
  {
   "cell_type": "markdown",
   "metadata": {},
   "source": [
    "### Random Forest"
   ]
  },
  {
   "cell_type": "code",
   "execution_count": 18,
   "metadata": {},
   "outputs": [
    {
     "data": {
      "application/javascript": [
       "\n",
       "            setTimeout(function() {\n",
       "                var nbb_cell_id = 18;\n",
       "                var nbb_unformatted_code = \"data = {\\n    \\\"Model\\\": [\\\"Random Forest\\\"] * 4,\\n    \\\"Validation\\\": [\\n        \\\"Blocking Time Series - Period Specific\\\",\\n    ]\\n    * 4,\\n    \\\"Repeats\\\": [1] * 4,\\n    \\\"Splits\\\": [float(\\\"nan\\\")] * 4,\\n    \\\"Metric\\\": [\\\"RMSE\\\", \\\"MAE\\\", \\\"MAPE\\\", \\\"R2\\\"],\\n    \\\"Train Mean\\\": [0.719, 0.559, 0.013, 0.98],\\n    \\\"Train Std\\\": [0.09, 0.07, 0.002, 0.004],\\n    \\\"Test Mean\\\": [0.905, 0.675, 0.016, 0.965],\\n    \\\"Test Std\\\": [0.162, 0.123, 0.003, 0.013],\\n    \\\"Train Period\\\": [\\\"2 years\\\", \\\"2 years\\\", \\\"2 years\\\", \\\"2 years\\\"],\\n    \\\"Test Period\\\": [\\\"One Month\\\", \\\"One Month\\\", \\\"One Month\\\", \\\"One Month\\\"],\\n}\\n\\ndf2 = pd.DataFrame(data)\\ndf = df.append(df2).reset_index(drop=True)\";\n",
       "                var nbb_formatted_code = \"data = {\\n    \\\"Model\\\": [\\\"Random Forest\\\"] * 4,\\n    \\\"Validation\\\": [\\n        \\\"Blocking Time Series - Period Specific\\\",\\n    ]\\n    * 4,\\n    \\\"Repeats\\\": [1] * 4,\\n    \\\"Splits\\\": [float(\\\"nan\\\")] * 4,\\n    \\\"Metric\\\": [\\\"RMSE\\\", \\\"MAE\\\", \\\"MAPE\\\", \\\"R2\\\"],\\n    \\\"Train Mean\\\": [0.719, 0.559, 0.013, 0.98],\\n    \\\"Train Std\\\": [0.09, 0.07, 0.002, 0.004],\\n    \\\"Test Mean\\\": [0.905, 0.675, 0.016, 0.965],\\n    \\\"Test Std\\\": [0.162, 0.123, 0.003, 0.013],\\n    \\\"Train Period\\\": [\\\"2 years\\\", \\\"2 years\\\", \\\"2 years\\\", \\\"2 years\\\"],\\n    \\\"Test Period\\\": [\\\"One Month\\\", \\\"One Month\\\", \\\"One Month\\\", \\\"One Month\\\"],\\n}\\n\\ndf2 = pd.DataFrame(data)\\ndf = df.append(df2).reset_index(drop=True)\";\n",
       "                var nbb_cells = Jupyter.notebook.get_cells();\n",
       "                for (var i = 0; i < nbb_cells.length; ++i) {\n",
       "                    if (nbb_cells[i].input_prompt_number == nbb_cell_id) {\n",
       "                        if (nbb_cells[i].get_text() == nbb_unformatted_code) {\n",
       "                             nbb_cells[i].set_text(nbb_formatted_code);\n",
       "                        }\n",
       "                        break;\n",
       "                    }\n",
       "                }\n",
       "            }, 500);\n",
       "            "
      ],
      "text/plain": [
       "<IPython.core.display.Javascript object>"
      ]
     },
     "metadata": {},
     "output_type": "display_data"
    }
   ],
   "source": [
    "data = {\n",
    "    \"Model\": [\"Random Forest\"] * 4,\n",
    "    \"Validation\": [\n",
    "        \"Blocking Time Series - Period Specific\",\n",
    "    ]\n",
    "    * 4,\n",
    "    \"Repeats\": [1] * 4,\n",
    "    \"Splits\": [float(\"nan\")] * 4,\n",
    "    \"Metric\": [\"RMSE\", \"MAE\", \"MAPE\", \"R2\"],\n",
    "    \"Train Mean\": [0.719, 0.559, 0.013, 0.98],\n",
    "    \"Train Std\": [0.09, 0.07, 0.002, 0.004],\n",
    "    \"Test Mean\": [0.905, 0.675, 0.016, 0.965],\n",
    "    \"Test Std\": [0.162, 0.123, 0.003, 0.013],\n",
    "    \"Train Period\": [\"2 years\", \"2 years\", \"2 years\", \"2 years\"],\n",
    "    \"Test Period\": [\"One Month\", \"One Month\", \"One Month\", \"One Month\"],\n",
    "}\n",
    "\n",
    "df2 = pd.DataFrame(data)\n",
    "df = df.append(df2).reset_index(drop=True)"
   ]
  },
  {
   "cell_type": "markdown",
   "metadata": {},
   "source": [
    "### XGBoost"
   ]
  },
  {
   "cell_type": "code",
   "execution_count": 19,
   "metadata": {},
   "outputs": [
    {
     "data": {
      "application/javascript": [
       "\n",
       "            setTimeout(function() {\n",
       "                var nbb_cell_id = 19;\n",
       "                var nbb_unformatted_code = \"data = {\\n    \\\"Model\\\": [\\\"XGBoost\\\"] * 4,\\n    \\\"Validation\\\": [\\n        \\\"Blocking Time Series - Period Specific\\\",\\n    ]\\n    * 4,\\n    \\\"Repeats\\\": [10] * 4,\\n    \\\"Splits\\\": [float(\\\"nan\\\")] * 4,\\n    \\\"Metric\\\": [\\\"RMSE\\\", \\\"MAE\\\", \\\"MAPE\\\", \\\"R2\\\"],\\n    \\\"Train Mean\\\": [0.754, 0.566, 0.013, 0.978],\\n    \\\"Train Std\\\": [0.023, 0.020, 0.000, 0.002],\\n    \\\"Test Mean\\\": [0.994, 0.762, 0.017, 0.958],\\n    \\\"Test Std\\\": [0.179, 0.165, 0.004, 0.016],\\n    \\\"Train Period\\\": [\\\"6 months\\\", \\\"One Month\\\", \\\"One Month\\\", \\\"One Month\\\"],\\n    \\\"Test Period\\\": [\\\"One Month\\\", \\\"One Month\\\", \\\"One Month\\\", \\\"One Month\\\"],\\n}\\n\\n\\ndf3 = pd.DataFrame(data)\\ndf = df.append(df3).reset_index(drop=True)\";\n",
       "                var nbb_formatted_code = \"data = {\\n    \\\"Model\\\": [\\\"XGBoost\\\"] * 4,\\n    \\\"Validation\\\": [\\n        \\\"Blocking Time Series - Period Specific\\\",\\n    ]\\n    * 4,\\n    \\\"Repeats\\\": [10] * 4,\\n    \\\"Splits\\\": [float(\\\"nan\\\")] * 4,\\n    \\\"Metric\\\": [\\\"RMSE\\\", \\\"MAE\\\", \\\"MAPE\\\", \\\"R2\\\"],\\n    \\\"Train Mean\\\": [0.754, 0.566, 0.013, 0.978],\\n    \\\"Train Std\\\": [0.023, 0.020, 0.000, 0.002],\\n    \\\"Test Mean\\\": [0.994, 0.762, 0.017, 0.958],\\n    \\\"Test Std\\\": [0.179, 0.165, 0.004, 0.016],\\n    \\\"Train Period\\\": [\\\"6 months\\\", \\\"One Month\\\", \\\"One Month\\\", \\\"One Month\\\"],\\n    \\\"Test Period\\\": [\\\"One Month\\\", \\\"One Month\\\", \\\"One Month\\\", \\\"One Month\\\"],\\n}\\n\\n\\ndf3 = pd.DataFrame(data)\\ndf = df.append(df3).reset_index(drop=True)\";\n",
       "                var nbb_cells = Jupyter.notebook.get_cells();\n",
       "                for (var i = 0; i < nbb_cells.length; ++i) {\n",
       "                    if (nbb_cells[i].input_prompt_number == nbb_cell_id) {\n",
       "                        if (nbb_cells[i].get_text() == nbb_unformatted_code) {\n",
       "                             nbb_cells[i].set_text(nbb_formatted_code);\n",
       "                        }\n",
       "                        break;\n",
       "                    }\n",
       "                }\n",
       "            }, 500);\n",
       "            "
      ],
      "text/plain": [
       "<IPython.core.display.Javascript object>"
      ]
     },
     "metadata": {},
     "output_type": "display_data"
    }
   ],
   "source": [
    "data = {\n",
    "    \"Model\": [\"XGBoost\"] * 4,\n",
    "    \"Validation\": [\n",
    "        \"Blocking Time Series - Period Specific\",\n",
    "    ]\n",
    "    * 4,\n",
    "    \"Repeats\": [10] * 4,\n",
    "    \"Splits\": [float(\"nan\")] * 4,\n",
    "    \"Metric\": [\"RMSE\", \"MAE\", \"MAPE\", \"R2\"],\n",
    "    \"Train Mean\": [0.754, 0.566, 0.013, 0.978],\n",
    "    \"Train Std\": [0.023, 0.020, 0.000, 0.002],\n",
    "    \"Test Mean\": [0.994, 0.762, 0.017, 0.958],\n",
    "    \"Test Std\": [0.179, 0.165, 0.004, 0.016],\n",
    "    \"Train Period\": [\"6 months\", \"One Month\", \"One Month\", \"One Month\"],\n",
    "    \"Test Period\": [\"One Month\", \"One Month\", \"One Month\", \"One Month\"],\n",
    "}\n",
    "\n",
    "\n",
    "df3 = pd.DataFrame(data)\n",
    "df = df.append(df3).reset_index(drop=True)"
   ]
  },
  {
   "cell_type": "code",
   "execution_count": 20,
   "metadata": {},
   "outputs": [
    {
     "data": {
      "text/html": [
       "<div>\n",
       "<style scoped>\n",
       "    .dataframe tbody tr th:only-of-type {\n",
       "        vertical-align: middle;\n",
       "    }\n",
       "\n",
       "    .dataframe tbody tr th {\n",
       "        vertical-align: top;\n",
       "    }\n",
       "\n",
       "    .dataframe thead th {\n",
       "        text-align: right;\n",
       "    }\n",
       "</style>\n",
       "<table border=\"1\" class=\"dataframe\">\n",
       "  <thead>\n",
       "    <tr style=\"text-align: right;\">\n",
       "      <th></th>\n",
       "      <th>Model</th>\n",
       "      <th>Validation</th>\n",
       "      <th>Repeats</th>\n",
       "      <th>Splits</th>\n",
       "      <th>Metric</th>\n",
       "      <th>Train Mean</th>\n",
       "      <th>Train Std</th>\n",
       "      <th>Test Mean</th>\n",
       "      <th>Test Std</th>\n",
       "      <th>Train Period</th>\n",
       "      <th>Test Period</th>\n",
       "    </tr>\n",
       "  </thead>\n",
       "  <tbody>\n",
       "    <tr>\n",
       "      <th>4</th>\n",
       "      <td>Random Forest</td>\n",
       "      <td>Blocking Time Series - Period Specific</td>\n",
       "      <td>1</td>\n",
       "      <td>NaN</td>\n",
       "      <td>RMSE</td>\n",
       "      <td>0.719</td>\n",
       "      <td>0.090</td>\n",
       "      <td>0.905</td>\n",
       "      <td>0.162</td>\n",
       "      <td>2 years</td>\n",
       "      <td>One Month</td>\n",
       "    </tr>\n",
       "    <tr>\n",
       "      <th>5</th>\n",
       "      <td>Random Forest</td>\n",
       "      <td>Blocking Time Series - Period Specific</td>\n",
       "      <td>1</td>\n",
       "      <td>NaN</td>\n",
       "      <td>MAE</td>\n",
       "      <td>0.559</td>\n",
       "      <td>0.070</td>\n",
       "      <td>0.675</td>\n",
       "      <td>0.123</td>\n",
       "      <td>2 years</td>\n",
       "      <td>One Month</td>\n",
       "    </tr>\n",
       "    <tr>\n",
       "      <th>6</th>\n",
       "      <td>Random Forest</td>\n",
       "      <td>Blocking Time Series - Period Specific</td>\n",
       "      <td>1</td>\n",
       "      <td>NaN</td>\n",
       "      <td>MAPE</td>\n",
       "      <td>0.013</td>\n",
       "      <td>0.002</td>\n",
       "      <td>0.016</td>\n",
       "      <td>0.003</td>\n",
       "      <td>2 years</td>\n",
       "      <td>One Month</td>\n",
       "    </tr>\n",
       "    <tr>\n",
       "      <th>7</th>\n",
       "      <td>Random Forest</td>\n",
       "      <td>Blocking Time Series - Period Specific</td>\n",
       "      <td>1</td>\n",
       "      <td>NaN</td>\n",
       "      <td>R2</td>\n",
       "      <td>0.980</td>\n",
       "      <td>0.004</td>\n",
       "      <td>0.965</td>\n",
       "      <td>0.013</td>\n",
       "      <td>2 years</td>\n",
       "      <td>One Month</td>\n",
       "    </tr>\n",
       "  </tbody>\n",
       "</table>\n",
       "</div>"
      ],
      "text/plain": [
       "           Model                              Validation  Repeats  Splits  \\\n",
       "4  Random Forest  Blocking Time Series - Period Specific        1     NaN   \n",
       "5  Random Forest  Blocking Time Series - Period Specific        1     NaN   \n",
       "6  Random Forest  Blocking Time Series - Period Specific        1     NaN   \n",
       "7  Random Forest  Blocking Time Series - Period Specific        1     NaN   \n",
       "\n",
       "  Metric  Train Mean  Train Std  Test Mean  Test Std Train Period Test Period  \n",
       "4   RMSE       0.719      0.090      0.905     0.162      2 years   One Month  \n",
       "5    MAE       0.559      0.070      0.675     0.123      2 years   One Month  \n",
       "6   MAPE       0.013      0.002      0.016     0.003      2 years   One Month  \n",
       "7     R2       0.980      0.004      0.965     0.013      2 years   One Month  "
      ]
     },
     "execution_count": 20,
     "metadata": {},
     "output_type": "execute_result"
    },
    {
     "data": {
      "application/javascript": [
       "\n",
       "            setTimeout(function() {\n",
       "                var nbb_cell_id = 20;\n",
       "                var nbb_unformatted_code = \"idx = df[df[\\\"Metric\\\"] == \\\"RMSE\\\"][\\\"Test Mean\\\"].idxmin()\\ndf.iloc[idx : idx + 4]\";\n",
       "                var nbb_formatted_code = \"idx = df[df[\\\"Metric\\\"] == \\\"RMSE\\\"][\\\"Test Mean\\\"].idxmin()\\ndf.iloc[idx : idx + 4]\";\n",
       "                var nbb_cells = Jupyter.notebook.get_cells();\n",
       "                for (var i = 0; i < nbb_cells.length; ++i) {\n",
       "                    if (nbb_cells[i].input_prompt_number == nbb_cell_id) {\n",
       "                        if (nbb_cells[i].get_text() == nbb_unformatted_code) {\n",
       "                             nbb_cells[i].set_text(nbb_formatted_code);\n",
       "                        }\n",
       "                        break;\n",
       "                    }\n",
       "                }\n",
       "            }, 500);\n",
       "            "
      ],
      "text/plain": [
       "<IPython.core.display.Javascript object>"
      ]
     },
     "metadata": {},
     "output_type": "display_data"
    }
   ],
   "source": [
    "idx = df[df[\"Metric\"] == \"RMSE\"][\"Test Mean\"].idxmin()\n",
    "df.iloc[idx : idx + 4]"
   ]
  },
  {
   "cell_type": "code",
   "execution_count": null,
   "metadata": {},
   "outputs": [],
   "source": []
  }
 ],
 "metadata": {
  "kernelspec": {
   "display_name": "Python3 (ccs28-venv)",
   "language": "python",
   "name": "ccs28-venv"
  },
  "language_info": {
   "codemirror_mode": {
    "name": "ipython",
    "version": 3
   },
   "file_extension": ".py",
   "mimetype": "text/x-python",
   "name": "python",
   "nbconvert_exporter": "python",
   "pygments_lexer": "ipython3",
   "version": "3.6.9"
  }
 },
 "nbformat": 4,
 "nbformat_minor": 2
}
