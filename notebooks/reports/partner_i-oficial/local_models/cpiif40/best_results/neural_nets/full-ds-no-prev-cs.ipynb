{
 "cells": [
  {
   "cell_type": "code",
   "execution_count": 1,
   "metadata": {},
   "outputs": [
    {
     "data": {
      "application/javascript": [
       "\n",
       "            setTimeout(function() {\n",
       "                var nbb_cell_id = 1;\n",
       "                var nbb_unformatted_code = \"%load_ext nb_black\";\n",
       "                var nbb_formatted_code = \"%load_ext nb_black\";\n",
       "                var nbb_cells = Jupyter.notebook.get_cells();\n",
       "                for (var i = 0; i < nbb_cells.length; ++i) {\n",
       "                    if (nbb_cells[i].input_prompt_number == nbb_cell_id) {\n",
       "                        if (nbb_cells[i].get_text() == nbb_unformatted_code) {\n",
       "                             nbb_cells[i].set_text(nbb_formatted_code);\n",
       "                        }\n",
       "                        break;\n",
       "                    }\n",
       "                }\n",
       "            }, 500);\n",
       "            "
      ],
      "text/plain": [
       "<IPython.core.display.Javascript object>"
      ]
     },
     "metadata": {},
     "output_type": "display_data"
    }
   ],
   "source": [
    "%load_ext nb_black"
   ]
  },
  {
   "cell_type": "code",
   "execution_count": 2,
   "metadata": {},
   "outputs": [
    {
     "data": {
      "application/javascript": [
       "\n",
       "            setTimeout(function() {\n",
       "                var nbb_cell_id = 2;\n",
       "                var nbb_unformatted_code = \"import pandas as pd\\nimport numpy as np\";\n",
       "                var nbb_formatted_code = \"import pandas as pd\\nimport numpy as np\";\n",
       "                var nbb_cells = Jupyter.notebook.get_cells();\n",
       "                for (var i = 0; i < nbb_cells.length; ++i) {\n",
       "                    if (nbb_cells[i].input_prompt_number == nbb_cell_id) {\n",
       "                        if (nbb_cells[i].get_text() == nbb_unformatted_code) {\n",
       "                             nbb_cells[i].set_text(nbb_formatted_code);\n",
       "                        }\n",
       "                        break;\n",
       "                    }\n",
       "                }\n",
       "            }, 500);\n",
       "            "
      ],
      "text/plain": [
       "<IPython.core.display.Javascript object>"
      ]
     },
     "metadata": {},
     "output_type": "display_data"
    }
   ],
   "source": [
    "import pandas as pd\n",
    "import numpy as np"
   ]
  },
  {
   "cell_type": "code",
   "execution_count": 3,
   "metadata": {},
   "outputs": [
    {
     "data": {
      "application/javascript": [
       "\n",
       "            setTimeout(function() {\n",
       "                var nbb_cell_id = 3;\n",
       "                var nbb_unformatted_code = \"def flat_list(lst):\\n    return [item for tup in list(lst) for item in tup]\";\n",
       "                var nbb_formatted_code = \"def flat_list(lst):\\n    return [item for tup in list(lst) for item in tup]\";\n",
       "                var nbb_cells = Jupyter.notebook.get_cells();\n",
       "                for (var i = 0; i < nbb_cells.length; ++i) {\n",
       "                    if (nbb_cells[i].input_prompt_number == nbb_cell_id) {\n",
       "                        if (nbb_cells[i].get_text() == nbb_unformatted_code) {\n",
       "                             nbb_cells[i].set_text(nbb_formatted_code);\n",
       "                        }\n",
       "                        break;\n",
       "                    }\n",
       "                }\n",
       "            }, 500);\n",
       "            "
      ],
      "text/plain": [
       "<IPython.core.display.Javascript object>"
      ]
     },
     "metadata": {},
     "output_type": "display_data"
    }
   ],
   "source": [
    "def flat_list(lst):\n",
    "    return [item for tup in list(lst) for item in tup]"
   ]
  },
  {
   "cell_type": "markdown",
   "metadata": {},
   "source": [
    "# All Cements"
   ]
  },
  {
   "cell_type": "code",
   "execution_count": 4,
   "metadata": {},
   "outputs": [
    {
     "data": {
      "application/javascript": [
       "\n",
       "            setTimeout(function() {\n",
       "                var nbb_cell_id = 4;\n",
       "                var nbb_unformatted_code = \"results = []\";\n",
       "                var nbb_formatted_code = \"results = []\";\n",
       "                var nbb_cells = Jupyter.notebook.get_cells();\n",
       "                for (var i = 0; i < nbb_cells.length; ++i) {\n",
       "                    if (nbb_cells[i].input_prompt_number == nbb_cell_id) {\n",
       "                        if (nbb_cells[i].get_text() == nbb_unformatted_code) {\n",
       "                             nbb_cells[i].set_text(nbb_formatted_code);\n",
       "                        }\n",
       "                        break;\n",
       "                    }\n",
       "                }\n",
       "            }, 500);\n",
       "            "
      ],
      "text/plain": [
       "<IPython.core.display.Javascript object>"
      ]
     },
     "metadata": {},
     "output_type": "display_data"
    }
   ],
   "source": [
    "results = []"
   ]
  },
  {
   "cell_type": "markdown",
   "metadata": {},
   "source": [
    "## No previous Compressive Strength"
   ]
  },
  {
   "cell_type": "markdown",
   "metadata": {},
   "source": [
    "## Repeated KFold Cross validation"
   ]
  },
  {
   "cell_type": "code",
   "execution_count": null,
   "metadata": {},
   "outputs": [],
   "source": []
  },
  {
   "cell_type": "markdown",
   "metadata": {},
   "source": [
    "## Blocking Time Series Split Results"
   ]
  },
  {
   "cell_type": "code",
   "execution_count": null,
   "metadata": {},
   "outputs": [],
   "source": []
  },
  {
   "cell_type": "markdown",
   "metadata": {},
   "source": [
    "## Time Series Split Cross Validation"
   ]
  },
  {
   "cell_type": "code",
   "execution_count": null,
   "metadata": {},
   "outputs": [],
   "source": []
  },
  {
   "cell_type": "markdown",
   "metadata": {},
   "source": [
    "## Blocking Time Series Split Results - Period Specific"
   ]
  },
  {
   "cell_type": "markdown",
   "metadata": {},
   "source": [
    "### MLP"
   ]
  },
  {
   "cell_type": "code",
   "execution_count": 5,
   "metadata": {},
   "outputs": [
    {
     "data": {
      "application/javascript": [
       "\n",
       "            setTimeout(function() {\n",
       "                var nbb_cell_id = 5;\n",
       "                var nbb_unformatted_code = \"data = {\\n    \\\"Model\\\": [\\\"MLP\\\"] * 4,\\n    \\\"Validation\\\": [\\n        \\\"Blocking Time Series - Period Specific\\\",\\n        \\\"Blocking Time Series - Period Specific\\\",\\n        \\\"Blocking Time Series - Period Specific\\\",\\n        \\\"Blocking Time Series - Period Specific\\\",\\n    ],\\n    \\\"Repeats\\\": [10, 10, 10, 10],\\n    \\\"Splits\\\": [float(\\\"nan\\\"), float(\\\"nan\\\"), float(\\\"nan\\\"), float(\\\"nan\\\")],\\n    \\\"Metric\\\": [\\\"RMSE\\\", \\\"MAE\\\", \\\"MAPE\\\", \\\"R2\\\"],\\n    \\\"Train Mean\\\": [1.274, 0.904, 0.021, 0.932],\\n    \\\"Train Std\\\": [0.150, 0.060, 0.001, 0.017],\\n    \\\"Test Mean\\\": [1.240, 0.997, 0.023, 0.945],\\n    \\\"Test Std\\\": [0.060, 0.073, 0.002, 0.005],\\n    \\\"Train Period\\\": [\\\"2 years\\\", \\\"2 years\\\", \\\"2 years\\\", \\\"2 years\\\"],\\n    \\\"Test Period\\\": [\\\"One Month\\\", \\\"One Month\\\", \\\"One Month\\\", \\\"One Month\\\"],\\n}\\n\\ndf = pd.DataFrame(data)\";\n",
       "                var nbb_formatted_code = \"data = {\\n    \\\"Model\\\": [\\\"MLP\\\"] * 4,\\n    \\\"Validation\\\": [\\n        \\\"Blocking Time Series - Period Specific\\\",\\n        \\\"Blocking Time Series - Period Specific\\\",\\n        \\\"Blocking Time Series - Period Specific\\\",\\n        \\\"Blocking Time Series - Period Specific\\\",\\n    ],\\n    \\\"Repeats\\\": [10, 10, 10, 10],\\n    \\\"Splits\\\": [float(\\\"nan\\\"), float(\\\"nan\\\"), float(\\\"nan\\\"), float(\\\"nan\\\")],\\n    \\\"Metric\\\": [\\\"RMSE\\\", \\\"MAE\\\", \\\"MAPE\\\", \\\"R2\\\"],\\n    \\\"Train Mean\\\": [1.274, 0.904, 0.021, 0.932],\\n    \\\"Train Std\\\": [0.150, 0.060, 0.001, 0.017],\\n    \\\"Test Mean\\\": [1.240, 0.997, 0.023, 0.945],\\n    \\\"Test Std\\\": [0.060, 0.073, 0.002, 0.005],\\n    \\\"Train Period\\\": [\\\"2 years\\\", \\\"2 years\\\", \\\"2 years\\\", \\\"2 years\\\"],\\n    \\\"Test Period\\\": [\\\"One Month\\\", \\\"One Month\\\", \\\"One Month\\\", \\\"One Month\\\"],\\n}\\n\\ndf = pd.DataFrame(data)\";\n",
       "                var nbb_cells = Jupyter.notebook.get_cells();\n",
       "                for (var i = 0; i < nbb_cells.length; ++i) {\n",
       "                    if (nbb_cells[i].input_prompt_number == nbb_cell_id) {\n",
       "                        if (nbb_cells[i].get_text() == nbb_unformatted_code) {\n",
       "                             nbb_cells[i].set_text(nbb_formatted_code);\n",
       "                        }\n",
       "                        break;\n",
       "                    }\n",
       "                }\n",
       "            }, 500);\n",
       "            "
      ],
      "text/plain": [
       "<IPython.core.display.Javascript object>"
      ]
     },
     "metadata": {},
     "output_type": "display_data"
    }
   ],
   "source": [
    "data = {\n",
    "    \"Model\": [\"MLP\"] * 4,\n",
    "    \"Validation\": [\n",
    "        \"Blocking Time Series - Period Specific\",\n",
    "        \"Blocking Time Series - Period Specific\",\n",
    "        \"Blocking Time Series - Period Specific\",\n",
    "        \"Blocking Time Series - Period Specific\",\n",
    "    ],\n",
    "    \"Repeats\": [10, 10, 10, 10],\n",
    "    \"Splits\": [float(\"nan\"), float(\"nan\"), float(\"nan\"), float(\"nan\")],\n",
    "    \"Metric\": [\"RMSE\", \"MAE\", \"MAPE\", \"R2\"],\n",
    "    \"Train Mean\": [1.274, 0.904, 0.021, 0.932],\n",
    "    \"Train Std\": [0.150, 0.060, 0.001, 0.017],\n",
    "    \"Test Mean\": [1.240, 0.997, 0.023, 0.945],\n",
    "    \"Test Std\": [0.060, 0.073, 0.002, 0.005],\n",
    "    \"Train Period\": [\"2 years\", \"2 years\", \"2 years\", \"2 years\"],\n",
    "    \"Test Period\": [\"One Month\", \"One Month\", \"One Month\", \"One Month\"],\n",
    "}\n",
    "\n",
    "df = pd.DataFrame(data)"
   ]
  },
  {
   "cell_type": "markdown",
   "metadata": {},
   "source": [
    "### LSTM"
   ]
  },
  {
   "cell_type": "code",
   "execution_count": 6,
   "metadata": {},
   "outputs": [
    {
     "data": {
      "application/javascript": [
       "\n",
       "            setTimeout(function() {\n",
       "                var nbb_cell_id = 6;\n",
       "                var nbb_unformatted_code = \"data = {\\n    \\\"Model\\\": [\\\"LSTM\\\"] * 4,\\n    \\\"Validation\\\": [\\n        \\\"Blocking Time Series - Period Specific\\\",\\n        \\\"Blocking Time Series - Period Specific\\\",\\n        \\\"Blocking Time Series - Period Specific\\\",\\n        \\\"Blocking Time Series - Period Specific\\\",\\n    ],\\n    \\\"Repeats\\\": [5, 5, 5, 5],\\n    \\\"Splits\\\": [float(\\\"nan\\\"), float(\\\"nan\\\"), float(\\\"nan\\\"), float(\\\"nan\\\")],\\n    \\\"Metric\\\": [\\\"RMSE\\\", \\\"MAE\\\", \\\"MAPE\\\", \\\"R2\\\"],\\n    \\\"Time Steps\\\": [7, 7, 7, 7],\\n    \\\"Train Mean\\\": [1.050, 0.839, 0.020, 0.954],\\n    \\\"Train Std\\\": [0.045, 0.034, 0.001, 0.004],\\n    \\\"Test Mean\\\": [1.285, 0.995, 0.023, 0.942],\\n    \\\"Test Std\\\": [0.140, 0.086, 0.002, 0.012],\\n    \\\"Train Period\\\": [\\\"2 years\\\", \\\"2 years\\\", \\\"2 years\\\", \\\"2 years\\\"],\\n    \\\"Test Period\\\": [\\\"One Month\\\", \\\"One Month\\\", \\\"One Month\\\", \\\"One Month\\\"],\\n}\\n\\ndf2 = pd.DataFrame(data)\\ndf = df.append(df2).reset_index(drop=True)\";\n",
       "                var nbb_formatted_code = \"data = {\\n    \\\"Model\\\": [\\\"LSTM\\\"] * 4,\\n    \\\"Validation\\\": [\\n        \\\"Blocking Time Series - Period Specific\\\",\\n        \\\"Blocking Time Series - Period Specific\\\",\\n        \\\"Blocking Time Series - Period Specific\\\",\\n        \\\"Blocking Time Series - Period Specific\\\",\\n    ],\\n    \\\"Repeats\\\": [5, 5, 5, 5],\\n    \\\"Splits\\\": [float(\\\"nan\\\"), float(\\\"nan\\\"), float(\\\"nan\\\"), float(\\\"nan\\\")],\\n    \\\"Metric\\\": [\\\"RMSE\\\", \\\"MAE\\\", \\\"MAPE\\\", \\\"R2\\\"],\\n    \\\"Time Steps\\\": [7, 7, 7, 7],\\n    \\\"Train Mean\\\": [1.050, 0.839, 0.020, 0.954],\\n    \\\"Train Std\\\": [0.045, 0.034, 0.001, 0.004],\\n    \\\"Test Mean\\\": [1.285, 0.995, 0.023, 0.942],\\n    \\\"Test Std\\\": [0.140, 0.086, 0.002, 0.012],\\n    \\\"Train Period\\\": [\\\"2 years\\\", \\\"2 years\\\", \\\"2 years\\\", \\\"2 years\\\"],\\n    \\\"Test Period\\\": [\\\"One Month\\\", \\\"One Month\\\", \\\"One Month\\\", \\\"One Month\\\"],\\n}\\n\\ndf2 = pd.DataFrame(data)\\ndf = df.append(df2).reset_index(drop=True)\";\n",
       "                var nbb_cells = Jupyter.notebook.get_cells();\n",
       "                for (var i = 0; i < nbb_cells.length; ++i) {\n",
       "                    if (nbb_cells[i].input_prompt_number == nbb_cell_id) {\n",
       "                        if (nbb_cells[i].get_text() == nbb_unformatted_code) {\n",
       "                             nbb_cells[i].set_text(nbb_formatted_code);\n",
       "                        }\n",
       "                        break;\n",
       "                    }\n",
       "                }\n",
       "            }, 500);\n",
       "            "
      ],
      "text/plain": [
       "<IPython.core.display.Javascript object>"
      ]
     },
     "metadata": {},
     "output_type": "display_data"
    }
   ],
   "source": [
    "data = {\n",
    "    \"Model\": [\"LSTM\"] * 4,\n",
    "    \"Validation\": [\n",
    "        \"Blocking Time Series - Period Specific\",\n",
    "        \"Blocking Time Series - Period Specific\",\n",
    "        \"Blocking Time Series - Period Specific\",\n",
    "        \"Blocking Time Series - Period Specific\",\n",
    "    ],\n",
    "    \"Repeats\": [5, 5, 5, 5],\n",
    "    \"Splits\": [float(\"nan\"), float(\"nan\"), float(\"nan\"), float(\"nan\")],\n",
    "    \"Metric\": [\"RMSE\", \"MAE\", \"MAPE\", \"R2\"],\n",
    "    \"Time Steps\": [7, 7, 7, 7],\n",
    "    \"Train Mean\": [1.050, 0.839, 0.020, 0.954],\n",
    "    \"Train Std\": [0.045, 0.034, 0.001, 0.004],\n",
    "    \"Test Mean\": [1.285, 0.995, 0.023, 0.942],\n",
    "    \"Test Std\": [0.140, 0.086, 0.002, 0.012],\n",
    "    \"Train Period\": [\"2 years\", \"2 years\", \"2 years\", \"2 years\"],\n",
    "    \"Test Period\": [\"One Month\", \"One Month\", \"One Month\", \"One Month\"],\n",
    "}\n",
    "\n",
    "df2 = pd.DataFrame(data)\n",
    "df = df.append(df2).reset_index(drop=True)"
   ]
  },
  {
   "cell_type": "markdown",
   "metadata": {},
   "source": [
    "### GRU"
   ]
  },
  {
   "cell_type": "code",
   "execution_count": 7,
   "metadata": {},
   "outputs": [
    {
     "data": {
      "application/javascript": [
       "\n",
       "            setTimeout(function() {\n",
       "                var nbb_cell_id = 7;\n",
       "                var nbb_unformatted_code = \"import pandas as pd\\n\\ndata = {\\n    \\\"Model\\\": [\\\"GRU\\\"] * 4,\\n    \\\"Validation\\\": [\\n        \\\"Blocking Time Series - Period Specific\\\",\\n        \\\"Blocking Time Series - Period Specific\\\",\\n        \\\"Blocking Time Series - Period Specific\\\",\\n        \\\"Blocking Time Series - Period Specific\\\",\\n    ],\\n    \\\"Repeats\\\": [5, 5, 5, 5],\\n    \\\"Splits\\\": [None, None, None, None],\\n    \\\"Metric\\\": [\\\"RMSE\\\", \\\"MAE\\\", \\\"MAPE\\\", \\\"R2\\\"],\\n    \\\"Time Steps\\\": [7, 7, 7, 7],\\n    \\\"Train Mean\\\": [1.099, 0.901, 0.021, 0.951],\\n    \\\"Train Std\\\": [0.058, 0.049, 0.001, 0.005],\\n    \\\"Test Mean\\\": [1.197, 0.910, 0.022, 0.948],\\n    \\\"Test Std\\\": [0.121, 0.114, 0.003, 0.010],\\n    \\\"Train Period\\\": [\\\"2 years\\\", \\\"2 years\\\", \\\"2 years\\\", \\\"2 years\\\"],\\n    \\\"Test Period\\\": [\\\"One Month\\\", \\\"One Month\\\", \\\"One Month\\\", \\\"One Month\\\"],\\n}\\n\\ndf3 = pd.DataFrame(data)\\ndf = df.append(df3).reset_index(drop=True)\";\n",
       "                var nbb_formatted_code = \"import pandas as pd\\n\\ndata = {\\n    \\\"Model\\\": [\\\"GRU\\\"] * 4,\\n    \\\"Validation\\\": [\\n        \\\"Blocking Time Series - Period Specific\\\",\\n        \\\"Blocking Time Series - Period Specific\\\",\\n        \\\"Blocking Time Series - Period Specific\\\",\\n        \\\"Blocking Time Series - Period Specific\\\",\\n    ],\\n    \\\"Repeats\\\": [5, 5, 5, 5],\\n    \\\"Splits\\\": [None, None, None, None],\\n    \\\"Metric\\\": [\\\"RMSE\\\", \\\"MAE\\\", \\\"MAPE\\\", \\\"R2\\\"],\\n    \\\"Time Steps\\\": [7, 7, 7, 7],\\n    \\\"Train Mean\\\": [1.099, 0.901, 0.021, 0.951],\\n    \\\"Train Std\\\": [0.058, 0.049, 0.001, 0.005],\\n    \\\"Test Mean\\\": [1.197, 0.910, 0.022, 0.948],\\n    \\\"Test Std\\\": [0.121, 0.114, 0.003, 0.010],\\n    \\\"Train Period\\\": [\\\"2 years\\\", \\\"2 years\\\", \\\"2 years\\\", \\\"2 years\\\"],\\n    \\\"Test Period\\\": [\\\"One Month\\\", \\\"One Month\\\", \\\"One Month\\\", \\\"One Month\\\"],\\n}\\n\\ndf3 = pd.DataFrame(data)\\ndf = df.append(df3).reset_index(drop=True)\";\n",
       "                var nbb_cells = Jupyter.notebook.get_cells();\n",
       "                for (var i = 0; i < nbb_cells.length; ++i) {\n",
       "                    if (nbb_cells[i].input_prompt_number == nbb_cell_id) {\n",
       "                        if (nbb_cells[i].get_text() == nbb_unformatted_code) {\n",
       "                             nbb_cells[i].set_text(nbb_formatted_code);\n",
       "                        }\n",
       "                        break;\n",
       "                    }\n",
       "                }\n",
       "            }, 500);\n",
       "            "
      ],
      "text/plain": [
       "<IPython.core.display.Javascript object>"
      ]
     },
     "metadata": {},
     "output_type": "display_data"
    }
   ],
   "source": [
    "import pandas as pd\n",
    "\n",
    "data = {\n",
    "    \"Model\": [\"GRU\"] * 4,\n",
    "    \"Validation\": [\n",
    "        \"Blocking Time Series - Period Specific\",\n",
    "        \"Blocking Time Series - Period Specific\",\n",
    "        \"Blocking Time Series - Period Specific\",\n",
    "        \"Blocking Time Series - Period Specific\",\n",
    "    ],\n",
    "    \"Repeats\": [5, 5, 5, 5],\n",
    "    \"Splits\": [None, None, None, None],\n",
    "    \"Metric\": [\"RMSE\", \"MAE\", \"MAPE\", \"R2\"],\n",
    "    \"Time Steps\": [7, 7, 7, 7],\n",
    "    \"Train Mean\": [1.099, 0.901, 0.021, 0.951],\n",
    "    \"Train Std\": [0.058, 0.049, 0.001, 0.005],\n",
    "    \"Test Mean\": [1.197, 0.910, 0.022, 0.948],\n",
    "    \"Test Std\": [0.121, 0.114, 0.003, 0.010],\n",
    "    \"Train Period\": [\"2 years\", \"2 years\", \"2 years\", \"2 years\"],\n",
    "    \"Test Period\": [\"One Month\", \"One Month\", \"One Month\", \"One Month\"],\n",
    "}\n",
    "\n",
    "df3 = pd.DataFrame(data)\n",
    "df = df.append(df3).reset_index(drop=True)"
   ]
  },
  {
   "cell_type": "markdown",
   "metadata": {},
   "source": [
    "### Bi-LSTM"
   ]
  },
  {
   "cell_type": "code",
   "execution_count": 8,
   "metadata": {},
   "outputs": [
    {
     "data": {
      "application/javascript": [
       "\n",
       "            setTimeout(function() {\n",
       "                var nbb_cell_id = 8;\n",
       "                var nbb_unformatted_code = \"data = {\\n    \\\"Model\\\": [\\\"Bi-LSTM\\\"] * 4,\\n    \\\"Validation\\\": [\\n        \\\"Blocking Time Series - Period Specific\\\",\\n        \\\"Blocking Time Series - Period Specific\\\",\\n        \\\"Blocking Time Series - Period Specific\\\",\\n        \\\"Blocking Time Series - Period Specific\\\",\\n    ],\\n    \\\"Repeats\\\": [5, 5, 5, 5],\\n    \\\"Splits\\\": [None, None, None, None],\\n    \\\"Metric\\\": [\\\"RMSE\\\", \\\"MAE\\\", \\\"MAPE\\\", \\\"R2\\\"],\\n    \\\"Time Steps\\\": [7, 7, 7, 7],\\n    \\\"Train Mean\\\": [1.350, 1.105, 0.025, 0.925],\\n    \\\"Train Std\\\": [0.163, 0.153, 0.003, 0.018],\\n    \\\"Test Mean\\\": [1.192, 0.986, 0.023, 0.949],\\n    \\\"Test Std\\\": [0.058, 0.051, 0.001, 0.005],\\n    \\\"Train Period\\\": [\\\"2 years\\\", \\\"2 years\\\", \\\"2 years\\\", \\\"2 years\\\"],\\n    \\\"Test Period\\\": [\\\"One Month\\\", \\\"One Month\\\", \\\"One Month\\\", \\\"One Month\\\"],\\n}\\n\\ndf4 = pd.DataFrame(data)\\ndf = df.append(df4).reset_index(drop=True)\";\n",
       "                var nbb_formatted_code = \"data = {\\n    \\\"Model\\\": [\\\"Bi-LSTM\\\"] * 4,\\n    \\\"Validation\\\": [\\n        \\\"Blocking Time Series - Period Specific\\\",\\n        \\\"Blocking Time Series - Period Specific\\\",\\n        \\\"Blocking Time Series - Period Specific\\\",\\n        \\\"Blocking Time Series - Period Specific\\\",\\n    ],\\n    \\\"Repeats\\\": [5, 5, 5, 5],\\n    \\\"Splits\\\": [None, None, None, None],\\n    \\\"Metric\\\": [\\\"RMSE\\\", \\\"MAE\\\", \\\"MAPE\\\", \\\"R2\\\"],\\n    \\\"Time Steps\\\": [7, 7, 7, 7],\\n    \\\"Train Mean\\\": [1.350, 1.105, 0.025, 0.925],\\n    \\\"Train Std\\\": [0.163, 0.153, 0.003, 0.018],\\n    \\\"Test Mean\\\": [1.192, 0.986, 0.023, 0.949],\\n    \\\"Test Std\\\": [0.058, 0.051, 0.001, 0.005],\\n    \\\"Train Period\\\": [\\\"2 years\\\", \\\"2 years\\\", \\\"2 years\\\", \\\"2 years\\\"],\\n    \\\"Test Period\\\": [\\\"One Month\\\", \\\"One Month\\\", \\\"One Month\\\", \\\"One Month\\\"],\\n}\\n\\ndf4 = pd.DataFrame(data)\\ndf = df.append(df4).reset_index(drop=True)\";\n",
       "                var nbb_cells = Jupyter.notebook.get_cells();\n",
       "                for (var i = 0; i < nbb_cells.length; ++i) {\n",
       "                    if (nbb_cells[i].input_prompt_number == nbb_cell_id) {\n",
       "                        if (nbb_cells[i].get_text() == nbb_unformatted_code) {\n",
       "                             nbb_cells[i].set_text(nbb_formatted_code);\n",
       "                        }\n",
       "                        break;\n",
       "                    }\n",
       "                }\n",
       "            }, 500);\n",
       "            "
      ],
      "text/plain": [
       "<IPython.core.display.Javascript object>"
      ]
     },
     "metadata": {},
     "output_type": "display_data"
    }
   ],
   "source": [
    "data = {\n",
    "    \"Model\": [\"Bi-LSTM\"] * 4,\n",
    "    \"Validation\": [\n",
    "        \"Blocking Time Series - Period Specific\",\n",
    "        \"Blocking Time Series - Period Specific\",\n",
    "        \"Blocking Time Series - Period Specific\",\n",
    "        \"Blocking Time Series - Period Specific\",\n",
    "    ],\n",
    "    \"Repeats\": [5, 5, 5, 5],\n",
    "    \"Splits\": [None, None, None, None],\n",
    "    \"Metric\": [\"RMSE\", \"MAE\", \"MAPE\", \"R2\"],\n",
    "    \"Time Steps\": [7, 7, 7, 7],\n",
    "    \"Train Mean\": [1.350, 1.105, 0.025, 0.925],\n",
    "    \"Train Std\": [0.163, 0.153, 0.003, 0.018],\n",
    "    \"Test Mean\": [1.192, 0.986, 0.023, 0.949],\n",
    "    \"Test Std\": [0.058, 0.051, 0.001, 0.005],\n",
    "    \"Train Period\": [\"2 years\", \"2 years\", \"2 years\", \"2 years\"],\n",
    "    \"Test Period\": [\"One Month\", \"One Month\", \"One Month\", \"One Month\"],\n",
    "}\n",
    "\n",
    "df4 = pd.DataFrame(data)\n",
    "df = df.append(df4).reset_index(drop=True)"
   ]
  },
  {
   "cell_type": "markdown",
   "metadata": {},
   "source": [
    "### Bi-GRU"
   ]
  },
  {
   "cell_type": "code",
   "execution_count": 9,
   "metadata": {},
   "outputs": [
    {
     "data": {
      "application/javascript": [
       "\n",
       "            setTimeout(function() {\n",
       "                var nbb_cell_id = 9;\n",
       "                var nbb_unformatted_code = \"import pandas as pd\\n\\ndata = {\\n    \\\"Model\\\": [\\\"Bi-GRU\\\"] * 4,\\n    \\\"Validation\\\": [\\n        \\\"Blocking Time Series - Period Specific\\\",\\n        \\\"Blocking Time Series - Period Specific\\\",\\n        \\\"Blocking Time Series - Period Specific\\\",\\n        \\\"Blocking Time Series - Period Specific\\\",\\n    ],\\n    \\\"Repeats\\\": [5, 5, 5, 5],\\n    \\\"Splits\\\": [None, None, None, None],\\n    \\\"Metric\\\": [\\\"RMSE\\\", \\\"MAE\\\", \\\"MAPE\\\", \\\"R2\\\"],\\n    \\\"Time Steps\\\": [7, 7, 7, 7],\\n    \\\"Train Mean\\\": [0.993, 0.776, 0.018, 0.960],\\n    \\\"Train Std\\\": [0.070, 0.047, 0.001, 0.006],\\n    \\\"Test Mean\\\": [0.981, 0.714, 0.017, 0.965],\\n    \\\"Test Std\\\": [0.081, 0.077, 0.002, 0.006],\\n    \\\"Train Period\\\": [\\\"2 years\\\", \\\"2 years\\\", \\\"2 years\\\", \\\"2 years\\\"],\\n    \\\"Test Period\\\": [\\\"One Month\\\", \\\"One Month\\\", \\\"One Month\\\", \\\"One Month\\\"],\\n}\\n\\ndf5 = pd.DataFrame(data)\\ndf = df.append(df5).reset_index(drop=True)\";\n",
       "                var nbb_formatted_code = \"import pandas as pd\\n\\ndata = {\\n    \\\"Model\\\": [\\\"Bi-GRU\\\"] * 4,\\n    \\\"Validation\\\": [\\n        \\\"Blocking Time Series - Period Specific\\\",\\n        \\\"Blocking Time Series - Period Specific\\\",\\n        \\\"Blocking Time Series - Period Specific\\\",\\n        \\\"Blocking Time Series - Period Specific\\\",\\n    ],\\n    \\\"Repeats\\\": [5, 5, 5, 5],\\n    \\\"Splits\\\": [None, None, None, None],\\n    \\\"Metric\\\": [\\\"RMSE\\\", \\\"MAE\\\", \\\"MAPE\\\", \\\"R2\\\"],\\n    \\\"Time Steps\\\": [7, 7, 7, 7],\\n    \\\"Train Mean\\\": [0.993, 0.776, 0.018, 0.960],\\n    \\\"Train Std\\\": [0.070, 0.047, 0.001, 0.006],\\n    \\\"Test Mean\\\": [0.981, 0.714, 0.017, 0.965],\\n    \\\"Test Std\\\": [0.081, 0.077, 0.002, 0.006],\\n    \\\"Train Period\\\": [\\\"2 years\\\", \\\"2 years\\\", \\\"2 years\\\", \\\"2 years\\\"],\\n    \\\"Test Period\\\": [\\\"One Month\\\", \\\"One Month\\\", \\\"One Month\\\", \\\"One Month\\\"],\\n}\\n\\ndf5 = pd.DataFrame(data)\\ndf = df.append(df5).reset_index(drop=True)\";\n",
       "                var nbb_cells = Jupyter.notebook.get_cells();\n",
       "                for (var i = 0; i < nbb_cells.length; ++i) {\n",
       "                    if (nbb_cells[i].input_prompt_number == nbb_cell_id) {\n",
       "                        if (nbb_cells[i].get_text() == nbb_unformatted_code) {\n",
       "                             nbb_cells[i].set_text(nbb_formatted_code);\n",
       "                        }\n",
       "                        break;\n",
       "                    }\n",
       "                }\n",
       "            }, 500);\n",
       "            "
      ],
      "text/plain": [
       "<IPython.core.display.Javascript object>"
      ]
     },
     "metadata": {},
     "output_type": "display_data"
    }
   ],
   "source": [
    "import pandas as pd\n",
    "\n",
    "data = {\n",
    "    \"Model\": [\"Bi-GRU\"] * 4,\n",
    "    \"Validation\": [\n",
    "        \"Blocking Time Series - Period Specific\",\n",
    "        \"Blocking Time Series - Period Specific\",\n",
    "        \"Blocking Time Series - Period Specific\",\n",
    "        \"Blocking Time Series - Period Specific\",\n",
    "    ],\n",
    "    \"Repeats\": [5, 5, 5, 5],\n",
    "    \"Splits\": [None, None, None, None],\n",
    "    \"Metric\": [\"RMSE\", \"MAE\", \"MAPE\", \"R2\"],\n",
    "    \"Time Steps\": [7, 7, 7, 7],\n",
    "    \"Train Mean\": [0.993, 0.776, 0.018, 0.960],\n",
    "    \"Train Std\": [0.070, 0.047, 0.001, 0.006],\n",
    "    \"Test Mean\": [0.981, 0.714, 0.017, 0.965],\n",
    "    \"Test Std\": [0.081, 0.077, 0.002, 0.006],\n",
    "    \"Train Period\": [\"2 years\", \"2 years\", \"2 years\", \"2 years\"],\n",
    "    \"Test Period\": [\"One Month\", \"One Month\", \"One Month\", \"One Month\"],\n",
    "}\n",
    "\n",
    "df5 = pd.DataFrame(data)\n",
    "df = df.append(df5).reset_index(drop=True)"
   ]
  },
  {
   "cell_type": "code",
   "execution_count": 10,
   "metadata": {},
   "outputs": [
    {
     "data": {
      "text/html": [
       "<div>\n",
       "<style scoped>\n",
       "    .dataframe tbody tr th:only-of-type {\n",
       "        vertical-align: middle;\n",
       "    }\n",
       "\n",
       "    .dataframe tbody tr th {\n",
       "        vertical-align: top;\n",
       "    }\n",
       "\n",
       "    .dataframe thead th {\n",
       "        text-align: right;\n",
       "    }\n",
       "</style>\n",
       "<table border=\"1\" class=\"dataframe\">\n",
       "  <thead>\n",
       "    <tr style=\"text-align: right;\">\n",
       "      <th></th>\n",
       "      <th>Model</th>\n",
       "      <th>Validation</th>\n",
       "      <th>Repeats</th>\n",
       "      <th>Splits</th>\n",
       "      <th>Metric</th>\n",
       "      <th>Train Mean</th>\n",
       "      <th>Train Std</th>\n",
       "      <th>Test Mean</th>\n",
       "      <th>Test Std</th>\n",
       "      <th>Train Period</th>\n",
       "      <th>Test Period</th>\n",
       "      <th>Time Steps</th>\n",
       "    </tr>\n",
       "  </thead>\n",
       "  <tbody>\n",
       "    <tr>\n",
       "      <th>16</th>\n",
       "      <td>Bi-GRU</td>\n",
       "      <td>Blocking Time Series - Period Specific</td>\n",
       "      <td>5</td>\n",
       "      <td>None</td>\n",
       "      <td>RMSE</td>\n",
       "      <td>0.993</td>\n",
       "      <td>0.070</td>\n",
       "      <td>0.981</td>\n",
       "      <td>0.081</td>\n",
       "      <td>2 years</td>\n",
       "      <td>One Month</td>\n",
       "      <td>7.0</td>\n",
       "    </tr>\n",
       "    <tr>\n",
       "      <th>17</th>\n",
       "      <td>Bi-GRU</td>\n",
       "      <td>Blocking Time Series - Period Specific</td>\n",
       "      <td>5</td>\n",
       "      <td>None</td>\n",
       "      <td>MAE</td>\n",
       "      <td>0.776</td>\n",
       "      <td>0.047</td>\n",
       "      <td>0.714</td>\n",
       "      <td>0.077</td>\n",
       "      <td>2 years</td>\n",
       "      <td>One Month</td>\n",
       "      <td>7.0</td>\n",
       "    </tr>\n",
       "    <tr>\n",
       "      <th>18</th>\n",
       "      <td>Bi-GRU</td>\n",
       "      <td>Blocking Time Series - Period Specific</td>\n",
       "      <td>5</td>\n",
       "      <td>None</td>\n",
       "      <td>MAPE</td>\n",
       "      <td>0.018</td>\n",
       "      <td>0.001</td>\n",
       "      <td>0.017</td>\n",
       "      <td>0.002</td>\n",
       "      <td>2 years</td>\n",
       "      <td>One Month</td>\n",
       "      <td>7.0</td>\n",
       "    </tr>\n",
       "    <tr>\n",
       "      <th>19</th>\n",
       "      <td>Bi-GRU</td>\n",
       "      <td>Blocking Time Series - Period Specific</td>\n",
       "      <td>5</td>\n",
       "      <td>None</td>\n",
       "      <td>R2</td>\n",
       "      <td>0.960</td>\n",
       "      <td>0.006</td>\n",
       "      <td>0.965</td>\n",
       "      <td>0.006</td>\n",
       "      <td>2 years</td>\n",
       "      <td>One Month</td>\n",
       "      <td>7.0</td>\n",
       "    </tr>\n",
       "  </tbody>\n",
       "</table>\n",
       "</div>"
      ],
      "text/plain": [
       "     Model                              Validation  Repeats Splits Metric  \\\n",
       "16  Bi-GRU  Blocking Time Series - Period Specific        5   None   RMSE   \n",
       "17  Bi-GRU  Blocking Time Series - Period Specific        5   None    MAE   \n",
       "18  Bi-GRU  Blocking Time Series - Period Specific        5   None   MAPE   \n",
       "19  Bi-GRU  Blocking Time Series - Period Specific        5   None     R2   \n",
       "\n",
       "    Train Mean  Train Std  Test Mean  Test Std Train Period Test Period  \\\n",
       "16       0.993      0.070      0.981     0.081      2 years   One Month   \n",
       "17       0.776      0.047      0.714     0.077      2 years   One Month   \n",
       "18       0.018      0.001      0.017     0.002      2 years   One Month   \n",
       "19       0.960      0.006      0.965     0.006      2 years   One Month   \n",
       "\n",
       "    Time Steps  \n",
       "16         7.0  \n",
       "17         7.0  \n",
       "18         7.0  \n",
       "19         7.0  "
      ]
     },
     "execution_count": 10,
     "metadata": {},
     "output_type": "execute_result"
    },
    {
     "data": {
      "application/javascript": [
       "\n",
       "            setTimeout(function() {\n",
       "                var nbb_cell_id = 10;\n",
       "                var nbb_unformatted_code = \"idx = df[df[\\\"Metric\\\"] == \\\"RMSE\\\"][\\\"Test Mean\\\"].idxmin()\\ndf.iloc[idx : idx + 4]\";\n",
       "                var nbb_formatted_code = \"idx = df[df[\\\"Metric\\\"] == \\\"RMSE\\\"][\\\"Test Mean\\\"].idxmin()\\ndf.iloc[idx : idx + 4]\";\n",
       "                var nbb_cells = Jupyter.notebook.get_cells();\n",
       "                for (var i = 0; i < nbb_cells.length; ++i) {\n",
       "                    if (nbb_cells[i].input_prompt_number == nbb_cell_id) {\n",
       "                        if (nbb_cells[i].get_text() == nbb_unformatted_code) {\n",
       "                             nbb_cells[i].set_text(nbb_formatted_code);\n",
       "                        }\n",
       "                        break;\n",
       "                    }\n",
       "                }\n",
       "            }, 500);\n",
       "            "
      ],
      "text/plain": [
       "<IPython.core.display.Javascript object>"
      ]
     },
     "metadata": {},
     "output_type": "display_data"
    }
   ],
   "source": [
    "idx = df[df[\"Metric\"] == \"RMSE\"][\"Test Mean\"].idxmin()\n",
    "df.iloc[idx : idx + 4]"
   ]
  },
  {
   "cell_type": "code",
   "execution_count": null,
   "metadata": {},
   "outputs": [],
   "source": []
  }
 ],
 "metadata": {
  "kernelspec": {
   "display_name": "Python3 (ccs28-venv)",
   "language": "python",
   "name": "ccs28-venv"
  },
  "language_info": {
   "codemirror_mode": {
    "name": "ipython",
    "version": 3
   },
   "file_extension": ".py",
   "mimetype": "text/x-python",
   "name": "python",
   "nbconvert_exporter": "python",
   "pygments_lexer": "ipython3",
   "version": "3.6.9"
  }
 },
 "nbformat": 4,
 "nbformat_minor": 2
}
