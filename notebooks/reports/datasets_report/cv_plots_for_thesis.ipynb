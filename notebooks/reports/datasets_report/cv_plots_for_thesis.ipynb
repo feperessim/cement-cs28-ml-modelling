{
 "cells": [
  {
   "cell_type": "code",
   "execution_count": 1,
   "id": "318b1f28",
   "metadata": {},
   "outputs": [
    {
     "data": {
      "application/javascript": [
       "\n",
       "            setTimeout(function() {\n",
       "                var nbb_cell_id = 1;\n",
       "                var nbb_unformatted_code = \"%load_ext nb_black\";\n",
       "                var nbb_formatted_code = \"%load_ext nb_black\";\n",
       "                var nbb_cells = Jupyter.notebook.get_cells();\n",
       "                for (var i = 0; i < nbb_cells.length; ++i) {\n",
       "                    if (nbb_cells[i].input_prompt_number == nbb_cell_id) {\n",
       "                        if (nbb_cells[i].get_text() == nbb_unformatted_code) {\n",
       "                             nbb_cells[i].set_text(nbb_formatted_code);\n",
       "                        }\n",
       "                        break;\n",
       "                    }\n",
       "                }\n",
       "            }, 500);\n",
       "            "
      ],
      "text/plain": [
       "<IPython.core.display.Javascript object>"
      ]
     },
     "metadata": {},
     "output_type": "display_data"
    }
   ],
   "source": [
    "%load_ext nb_black"
   ]
  },
  {
   "cell_type": "code",
   "execution_count": 2,
   "id": "02910a1c",
   "metadata": {},
   "outputs": [
    {
     "data": {
      "application/javascript": [
       "\n",
       "            setTimeout(function() {\n",
       "                var nbb_cell_id = 2;\n",
       "                var nbb_unformatted_code = \"import numpy as np\\nimport pandas as pd\\nimport matplotlib.pyplot as plt\\nfrom matplotlib.patches import Patch\\nfrom sklearn.model_selection import TimeSeriesSplit\\nfrom datetime import datetime, timedelta\\n\\nimport matplotlib.pyplot as plt\\nfrom matplotlib.colors import ListedColormap\\n\\n# Option 1: pick a built-in colormap from matplotlib\\ncmap_cv = plt.cm.coolwarm\";\n",
       "                var nbb_formatted_code = \"import numpy as np\\nimport pandas as pd\\nimport matplotlib.pyplot as plt\\nfrom matplotlib.patches import Patch\\nfrom sklearn.model_selection import TimeSeriesSplit\\nfrom datetime import datetime, timedelta\\n\\nimport matplotlib.pyplot as plt\\nfrom matplotlib.colors import ListedColormap\\n\\n# Option 1: pick a built-in colormap from matplotlib\\ncmap_cv = plt.cm.coolwarm\";\n",
       "                var nbb_cells = Jupyter.notebook.get_cells();\n",
       "                for (var i = 0; i < nbb_cells.length; ++i) {\n",
       "                    if (nbb_cells[i].input_prompt_number == nbb_cell_id) {\n",
       "                        if (nbb_cells[i].get_text() == nbb_unformatted_code) {\n",
       "                             nbb_cells[i].set_text(nbb_formatted_code);\n",
       "                        }\n",
       "                        break;\n",
       "                    }\n",
       "                }\n",
       "            }, 500);\n",
       "            "
      ],
      "text/plain": [
       "<IPython.core.display.Javascript object>"
      ]
     },
     "metadata": {},
     "output_type": "display_data"
    }
   ],
   "source": [
    "import numpy as np\n",
    "import pandas as pd\n",
    "import matplotlib.pyplot as plt\n",
    "from matplotlib.patches import Patch\n",
    "from sklearn.model_selection import TimeSeriesSplit\n",
    "from datetime import datetime, timedelta\n",
    "\n",
    "import matplotlib.pyplot as plt\n",
    "from matplotlib.colors import ListedColormap\n",
    "\n",
    "# Option 1: pick a built-in colormap from matplotlib\n",
    "cmap_cv = plt.cm.coolwarm"
   ]
  },
  {
   "cell_type": "code",
   "execution_count": 3,
   "id": "aa51c2e4",
   "metadata": {},
   "outputs": [
    {
     "data": {
      "application/javascript": [
       "\n",
       "            setTimeout(function() {\n",
       "                var nbb_cell_id = 3;\n",
       "                var nbb_unformatted_code = \"class BlockingTimeSeriesSplit:\\n    def __init__(self, n_splits):\\n        self.n_splits = n_splits\\n\\n    def get_n_splits(self, X, y, groups):\\n        return self.n_splits\\n\\n    def split(self, X, y=None, groups=None):\\n        n_samples = len(X)\\n        k_fold_size = n_samples // self.n_splits\\n        indices = np.arange(n_samples)\\n\\n        margin = 0\\n        for i in range(self.n_splits):\\n            start = i * k_fold_size\\n            stop = start + k_fold_size\\n            mid = int(0.5 * (stop - start)) + start\\n            yield indices[start:mid], indices[mid + margin : stop]\\n\\n\\n# Reference: https://goldinlocks.github.io/Time-Series-Cross-Validation/\";\n",
       "                var nbb_formatted_code = \"class BlockingTimeSeriesSplit:\\n    def __init__(self, n_splits):\\n        self.n_splits = n_splits\\n\\n    def get_n_splits(self, X, y, groups):\\n        return self.n_splits\\n\\n    def split(self, X, y=None, groups=None):\\n        n_samples = len(X)\\n        k_fold_size = n_samples // self.n_splits\\n        indices = np.arange(n_samples)\\n\\n        margin = 0\\n        for i in range(self.n_splits):\\n            start = i * k_fold_size\\n            stop = start + k_fold_size\\n            mid = int(0.5 * (stop - start)) + start\\n            yield indices[start:mid], indices[mid + margin : stop]\\n\\n\\n# Reference: https://goldinlocks.github.io/Time-Series-Cross-Validation/\";\n",
       "                var nbb_cells = Jupyter.notebook.get_cells();\n",
       "                for (var i = 0; i < nbb_cells.length; ++i) {\n",
       "                    if (nbb_cells[i].input_prompt_number == nbb_cell_id) {\n",
       "                        if (nbb_cells[i].get_text() == nbb_unformatted_code) {\n",
       "                             nbb_cells[i].set_text(nbb_formatted_code);\n",
       "                        }\n",
       "                        break;\n",
       "                    }\n",
       "                }\n",
       "            }, 500);\n",
       "            "
      ],
      "text/plain": [
       "<IPython.core.display.Javascript object>"
      ]
     },
     "metadata": {},
     "output_type": "display_data"
    }
   ],
   "source": [
    "class BlockingTimeSeriesSplit:\n",
    "    def __init__(self, n_splits):\n",
    "        self.n_splits = n_splits\n",
    "\n",
    "    def get_n_splits(self, X, y, groups):\n",
    "        return self.n_splits\n",
    "\n",
    "    def split(self, X, y=None, groups=None):\n",
    "        n_samples = len(X)\n",
    "        k_fold_size = n_samples // self.n_splits\n",
    "        indices = np.arange(n_samples)\n",
    "\n",
    "        margin = 0\n",
    "        for i in range(self.n_splits):\n",
    "            start = i * k_fold_size\n",
    "            stop = start + k_fold_size\n",
    "            mid = int(0.5 * (stop - start)) + start\n",
    "            yield indices[start:mid], indices[mid + margin : stop]\n",
    "\n",
    "\n",
    "# Reference: https://goldinlocks.github.io/Time-Series-Cross-Validation/"
   ]
  },
  {
   "cell_type": "code",
   "execution_count": 4,
   "id": "33e1dde6",
   "metadata": {},
   "outputs": [
    {
     "data": {
      "application/javascript": [
       "\n",
       "            setTimeout(function() {\n",
       "                var nbb_cell_id = 4;\n",
       "                var nbb_unformatted_code = \"class BlockingTimeSeriesSplit:\\n    def __init__(self, n_splits, train_size=0.8, margin=0):\\n        self.n_splits = n_splits\\n        self.train_size = train_size\\n        self.margin = margin\\n\\n    def get_n_splits(self, X, y, groups):\\n        return self.n_splits\\n\\n    def split(self, X, y=None, groups=None):\\n        n_samples = len(X)\\n        k_fold_size = n_samples // self.n_splits\\n        indices = np.arange(n_samples)\\n\\n        for i in range(self.n_splits):\\n            start = i * k_fold_size\\n            stop = start + k_fold_size\\n            mid = int(self.train_size * (stop - start)) + start\\n            yield indices[start:mid], indices[mid + self.margin : stop]\";\n",
       "                var nbb_formatted_code = \"class BlockingTimeSeriesSplit:\\n    def __init__(self, n_splits, train_size=0.8, margin=0):\\n        self.n_splits = n_splits\\n        self.train_size = train_size\\n        self.margin = margin\\n\\n    def get_n_splits(self, X, y, groups):\\n        return self.n_splits\\n\\n    def split(self, X, y=None, groups=None):\\n        n_samples = len(X)\\n        k_fold_size = n_samples // self.n_splits\\n        indices = np.arange(n_samples)\\n\\n        for i in range(self.n_splits):\\n            start = i * k_fold_size\\n            stop = start + k_fold_size\\n            mid = int(self.train_size * (stop - start)) + start\\n            yield indices[start:mid], indices[mid + self.margin : stop]\";\n",
       "                var nbb_cells = Jupyter.notebook.get_cells();\n",
       "                for (var i = 0; i < nbb_cells.length; ++i) {\n",
       "                    if (nbb_cells[i].input_prompt_number == nbb_cell_id) {\n",
       "                        if (nbb_cells[i].get_text() == nbb_unformatted_code) {\n",
       "                             nbb_cells[i].set_text(nbb_formatted_code);\n",
       "                        }\n",
       "                        break;\n",
       "                    }\n",
       "                }\n",
       "            }, 500);\n",
       "            "
      ],
      "text/plain": [
       "<IPython.core.display.Javascript object>"
      ]
     },
     "metadata": {},
     "output_type": "display_data"
    }
   ],
   "source": [
    "class BlockingTimeSeriesSplit:\n",
    "    def __init__(self, n_splits, train_size=0.8, margin=0):\n",
    "        self.n_splits = n_splits\n",
    "        self.train_size = train_size\n",
    "        self.margin = margin\n",
    "\n",
    "    def get_n_splits(self, X, y, groups):\n",
    "        return self.n_splits\n",
    "\n",
    "    def split(self, X, y=None, groups=None):\n",
    "        n_samples = len(X)\n",
    "        k_fold_size = n_samples // self.n_splits\n",
    "        indices = np.arange(n_samples)\n",
    "\n",
    "        for i in range(self.n_splits):\n",
    "            start = i * k_fold_size\n",
    "            stop = start + k_fold_size\n",
    "            mid = int(self.train_size * (stop - start)) + start\n",
    "            yield indices[start:mid], indices[mid + self.margin : stop]"
   ]
  },
  {
   "cell_type": "code",
   "execution_count": 5,
   "id": "21d881e3",
   "metadata": {},
   "outputs": [
    {
     "data": {
      "application/javascript": [
       "\n",
       "            setTimeout(function() {\n",
       "                var nbb_cell_id = 5;\n",
       "                var nbb_unformatted_code = \"def generate_data():\\n    \\\"\\\"\\\"\\n    Generate fake time-series data for the last few months of 2024 (August - December).\\n    Returns:\\n        x (pd.DataFrame): A DataFrame of random feature values.\\n        y (pd.Series): A Series of random target values.\\n        dates (pd.DatetimeIndex): The index of dates for the same period.\\n    \\\"\\\"\\\"\\n    # Define date range (daily frequency from Aug 1, 2024 to Dec 31, 2024)\\n    dates = pd.date_range(start=\\\"2024-08-01\\\", end=\\\"2024-12-31\\\", freq=\\\"D\\\")\\n\\n    # Number of samples\\n    n_samples = len(dates)\\n\\n    # Generate random features (for example, 3 features)\\n    np.random.seed(42)  # Seed for reproducibility (optional)\\n    x = pd.DataFrame(\\n        {\\n            \\\"feature1\\\": np.random.randn(n_samples),\\n            \\\"feature2\\\": np.random.randn(n_samples),\\n            \\\"feature3\\\": np.random.randn(n_samples),\\n        }\\n    )\\n\\n    # Generate random target values\\n    y = pd.Series(np.random.randn(n_samples), name=\\\"target\\\")\\n\\n    return x, y, dates\";\n",
       "                var nbb_formatted_code = \"def generate_data():\\n    \\\"\\\"\\\"\\n    Generate fake time-series data for the last few months of 2024 (August - December).\\n    Returns:\\n        x (pd.DataFrame): A DataFrame of random feature values.\\n        y (pd.Series): A Series of random target values.\\n        dates (pd.DatetimeIndex): The index of dates for the same period.\\n    \\\"\\\"\\\"\\n    # Define date range (daily frequency from Aug 1, 2024 to Dec 31, 2024)\\n    dates = pd.date_range(start=\\\"2024-08-01\\\", end=\\\"2024-12-31\\\", freq=\\\"D\\\")\\n\\n    # Number of samples\\n    n_samples = len(dates)\\n\\n    # Generate random features (for example, 3 features)\\n    np.random.seed(42)  # Seed for reproducibility (optional)\\n    x = pd.DataFrame(\\n        {\\n            \\\"feature1\\\": np.random.randn(n_samples),\\n            \\\"feature2\\\": np.random.randn(n_samples),\\n            \\\"feature3\\\": np.random.randn(n_samples),\\n        }\\n    )\\n\\n    # Generate random target values\\n    y = pd.Series(np.random.randn(n_samples), name=\\\"target\\\")\\n\\n    return x, y, dates\";\n",
       "                var nbb_cells = Jupyter.notebook.get_cells();\n",
       "                for (var i = 0; i < nbb_cells.length; ++i) {\n",
       "                    if (nbb_cells[i].input_prompt_number == nbb_cell_id) {\n",
       "                        if (nbb_cells[i].get_text() == nbb_unformatted_code) {\n",
       "                             nbb_cells[i].set_text(nbb_formatted_code);\n",
       "                        }\n",
       "                        break;\n",
       "                    }\n",
       "                }\n",
       "            }, 500);\n",
       "            "
      ],
      "text/plain": [
       "<IPython.core.display.Javascript object>"
      ]
     },
     "metadata": {},
     "output_type": "display_data"
    }
   ],
   "source": [
    "def generate_data():\n",
    "    \"\"\"\n",
    "    Generate fake time-series data for the last few months of 2024 (August - December).\n",
    "    Returns:\n",
    "        x (pd.DataFrame): A DataFrame of random feature values.\n",
    "        y (pd.Series): A Series of random target values.\n",
    "        dates (pd.DatetimeIndex): The index of dates for the same period.\n",
    "    \"\"\"\n",
    "    # Define date range (daily frequency from Aug 1, 2024 to Dec 31, 2024)\n",
    "    dates = pd.date_range(start=\"2024-08-01\", end=\"2024-12-31\", freq=\"D\")\n",
    "\n",
    "    # Number of samples\n",
    "    n_samples = len(dates)\n",
    "\n",
    "    # Generate random features (for example, 3 features)\n",
    "    np.random.seed(42)  # Seed for reproducibility (optional)\n",
    "    x = pd.DataFrame(\n",
    "        {\n",
    "            \"feature1\": np.random.randn(n_samples),\n",
    "            \"feature2\": np.random.randn(n_samples),\n",
    "            \"feature3\": np.random.randn(n_samples),\n",
    "        }\n",
    "    )\n",
    "\n",
    "    # Generate random target values\n",
    "    y = pd.Series(np.random.randn(n_samples), name=\"target\")\n",
    "\n",
    "    return x, y, dates"
   ]
  },
  {
   "cell_type": "code",
   "execution_count": 6,
   "id": "1cea729c",
   "metadata": {},
   "outputs": [
    {
     "data": {
      "application/javascript": [
       "\n",
       "            setTimeout(function() {\n",
       "                var nbb_cell_id = 6;\n",
       "                var nbb_unformatted_code = \"def plot_cv_indices(cv, X, y, ax, n_splits, lw=10):\\n    \\\"\\\"\\\"Create a sample plot for indices of a cross-validation object.\\\"\\\"\\\"\\n\\n    # Generate the training/testing visualizations for each CV split\\n    for ii, (tr, tt) in enumerate(cv.split(X=X, y=y)):\\n        # Fill in indices with the training/test groups\\n        indices = np.array([np.nan] * len(X))\\n        indices[tt] = 1\\n        indices[tr] = 0\\n        # Visualize the results\\n        ax.scatter(\\n            pd.Series(range(len(indices)), index=X.index),\\n            # range(len(indices)),\\n            [ii + 0.5] * len(indices),\\n            c=indices,\\n            marker=\\\"_\\\",\\n            lw=lw,\\n            cmap=cmap_cv,\\n            vmin=-0.2,\\n            vmax=1.2,\\n        )\\n\\n    # Formatting\\n    yticklabels = list(range(n_splits))\\n    # xticks = pd.to_datetime([dates[i] for i in range(0, len(dates), len(dates)//7)]).values\\n    # xticks=dates\\n    xticklabels = [dates[i] for i in range(0, len(dates), len(dates) // 7)]\\n    ax.set(\\n        yticks=np.arange(n_splits) + 0.5,\\n        yticklabels=yticklabels,\\n        xticklabels=xticklabels,\\n        # xticks=xticks,\\n        # xlabel=\\\"Sample index\\\",\\n        ylabel=\\\"CV iteration\\\",\\n        ylim=[n_splits + 0.2, -0.1],\\n        # xlim=[0, 1200],\\n    )\\n    # plt.gcf().autofmt_xdate()\\n    ax.set_title(\\\"{}\\\".format(type(cv).__name__), fontsize=15)\\n    return ax\";\n",
       "                var nbb_formatted_code = \"def plot_cv_indices(cv, X, y, ax, n_splits, lw=10):\\n    \\\"\\\"\\\"Create a sample plot for indices of a cross-validation object.\\\"\\\"\\\"\\n\\n    # Generate the training/testing visualizations for each CV split\\n    for ii, (tr, tt) in enumerate(cv.split(X=X, y=y)):\\n        # Fill in indices with the training/test groups\\n        indices = np.array([np.nan] * len(X))\\n        indices[tt] = 1\\n        indices[tr] = 0\\n        # Visualize the results\\n        ax.scatter(\\n            pd.Series(range(len(indices)), index=X.index),\\n            # range(len(indices)),\\n            [ii + 0.5] * len(indices),\\n            c=indices,\\n            marker=\\\"_\\\",\\n            lw=lw,\\n            cmap=cmap_cv,\\n            vmin=-0.2,\\n            vmax=1.2,\\n        )\\n\\n    # Formatting\\n    yticklabels = list(range(n_splits))\\n    # xticks = pd.to_datetime([dates[i] for i in range(0, len(dates), len(dates)//7)]).values\\n    # xticks=dates\\n    xticklabels = [dates[i] for i in range(0, len(dates), len(dates) // 7)]\\n    ax.set(\\n        yticks=np.arange(n_splits) + 0.5,\\n        yticklabels=yticklabels,\\n        xticklabels=xticklabels,\\n        # xticks=xticks,\\n        # xlabel=\\\"Sample index\\\",\\n        ylabel=\\\"CV iteration\\\",\\n        ylim=[n_splits + 0.2, -0.1],\\n        # xlim=[0, 1200],\\n    )\\n    # plt.gcf().autofmt_xdate()\\n    ax.set_title(\\\"{}\\\".format(type(cv).__name__), fontsize=15)\\n    return ax\";\n",
       "                var nbb_cells = Jupyter.notebook.get_cells();\n",
       "                for (var i = 0; i < nbb_cells.length; ++i) {\n",
       "                    if (nbb_cells[i].input_prompt_number == nbb_cell_id) {\n",
       "                        if (nbb_cells[i].get_text() == nbb_unformatted_code) {\n",
       "                             nbb_cells[i].set_text(nbb_formatted_code);\n",
       "                        }\n",
       "                        break;\n",
       "                    }\n",
       "                }\n",
       "            }, 500);\n",
       "            "
      ],
      "text/plain": [
       "<IPython.core.display.Javascript object>"
      ]
     },
     "metadata": {},
     "output_type": "display_data"
    }
   ],
   "source": [
    "def plot_cv_indices(cv, X, y, ax, n_splits, lw=10):\n",
    "    \"\"\"Create a sample plot for indices of a cross-validation object.\"\"\"\n",
    "\n",
    "    # Generate the training/testing visualizations for each CV split\n",
    "    for ii, (tr, tt) in enumerate(cv.split(X=X, y=y)):\n",
    "        # Fill in indices with the training/test groups\n",
    "        indices = np.array([np.nan] * len(X))\n",
    "        indices[tt] = 1\n",
    "        indices[tr] = 0\n",
    "        # Visualize the results\n",
    "        ax.scatter(\n",
    "            pd.Series(range(len(indices)), index=X.index),\n",
    "            # range(len(indices)),\n",
    "            [ii + 0.5] * len(indices),\n",
    "            c=indices,\n",
    "            marker=\"_\",\n",
    "            lw=lw,\n",
    "            cmap=cmap_cv,\n",
    "            vmin=-0.2,\n",
    "            vmax=1.2,\n",
    "        )\n",
    "\n",
    "    # Formatting\n",
    "    yticklabels = list(range(n_splits))\n",
    "    # xticks = pd.to_datetime([dates[i] for i in range(0, len(dates), len(dates)//7)]).values\n",
    "    # xticks=dates\n",
    "    xticklabels = [dates[i] for i in range(0, len(dates), len(dates) // 7)]\n",
    "    ax.set(\n",
    "        yticks=np.arange(n_splits) + 0.5,\n",
    "        yticklabels=yticklabels,\n",
    "        xticklabels=xticklabels,\n",
    "        # xticks=xticks,\n",
    "        # xlabel=\"Sample index\",\n",
    "        ylabel=\"CV iteration\",\n",
    "        ylim=[n_splits + 0.2, -0.1],\n",
    "        # xlim=[0, 1200],\n",
    "    )\n",
    "    # plt.gcf().autofmt_xdate()\n",
    "    ax.set_title(\"{}\".format(type(cv).__name__), fontsize=15)\n",
    "    return ax"
   ]
  },
  {
   "cell_type": "markdown",
   "id": "43337945",
   "metadata": {},
   "source": [
    "# Time series split example"
   ]
  },
  {
   "cell_type": "code",
   "execution_count": 7,
   "id": "09d1d30b",
   "metadata": {},
   "outputs": [
    {
     "data": {
      "application/javascript": [
       "\n",
       "            setTimeout(function() {\n",
       "                var nbb_cell_id = 7;\n",
       "                var nbb_unformatted_code = \"n_splits = 5\";\n",
       "                var nbb_formatted_code = \"n_splits = 5\";\n",
       "                var nbb_cells = Jupyter.notebook.get_cells();\n",
       "                for (var i = 0; i < nbb_cells.length; ++i) {\n",
       "                    if (nbb_cells[i].input_prompt_number == nbb_cell_id) {\n",
       "                        if (nbb_cells[i].get_text() == nbb_unformatted_code) {\n",
       "                             nbb_cells[i].set_text(nbb_formatted_code);\n",
       "                        }\n",
       "                        break;\n",
       "                    }\n",
       "                }\n",
       "            }, 500);\n",
       "            "
      ],
      "text/plain": [
       "<IPython.core.display.Javascript object>"
      ]
     },
     "metadata": {},
     "output_type": "display_data"
    }
   ],
   "source": [
    "n_splits = 5"
   ]
  },
  {
   "cell_type": "code",
   "execution_count": 8,
   "id": "4f306f19",
   "metadata": {},
   "outputs": [
    {
     "data": {
      "application/javascript": [
       "\n",
       "            setTimeout(function() {\n",
       "                var nbb_cell_id = 8;\n",
       "                var nbb_unformatted_code = \"x, y, dates = generate_data()\";\n",
       "                var nbb_formatted_code = \"x, y, dates = generate_data()\";\n",
       "                var nbb_cells = Jupyter.notebook.get_cells();\n",
       "                for (var i = 0; i < nbb_cells.length; ++i) {\n",
       "                    if (nbb_cells[i].input_prompt_number == nbb_cell_id) {\n",
       "                        if (nbb_cells[i].get_text() == nbb_unformatted_code) {\n",
       "                             nbb_cells[i].set_text(nbb_formatted_code);\n",
       "                        }\n",
       "                        break;\n",
       "                    }\n",
       "                }\n",
       "            }, 500);\n",
       "            "
      ],
      "text/plain": [
       "<IPython.core.display.Javascript object>"
      ]
     },
     "metadata": {},
     "output_type": "display_data"
    }
   ],
   "source": [
    "x, y, dates = generate_data()"
   ]
  },
  {
   "cell_type": "code",
   "execution_count": 9,
   "id": "9e7c866b",
   "metadata": {},
   "outputs": [
    {
     "name": "stderr",
     "output_type": "stream",
     "text": [
      "/tmp/ipykernel_2871182/2325504202.py:28: UserWarning: FixedFormatter should only be used together with FixedLocator\n",
      "  ax.set(\n"
     ]
    },
    {
     "data": {
      "image/png": "[encoded data removed]",
      "text/plain": [
       "<Figure size 1000x500 with 1 Axes>"
      ]
     },
     "metadata": {},
     "output_type": "display_data"
    },
    {
     "data": {
      "application/javascript": [
       "\n",
       "            setTimeout(function() {\n",
       "                var nbb_cell_id = 9;\n",
       "                var nbb_unformatted_code = \"this_cv = TimeSeriesSplit(n_splits=n_splits)\\nfig, ax = plt.subplots(figsize=(10, 5))\\nplot_cv_indices(this_cv, x.set_index(dates), y, ax, n_splits)\\nax.legend(\\n    [Patch(color=cmap_cv(0.8)), Patch(color=cmap_cv(0.02))],\\n    [\\\"Testing set\\\", \\\"Training set\\\"],\\n    loc=(1.02, 0.8),\\n)\\nplt.tight_layout()\\nfig.subplots_adjust(right=0.7)\\nfig.autofmt_xdate()\\nplt.show()\";\n",
       "                var nbb_formatted_code = \"this_cv = TimeSeriesSplit(n_splits=n_splits)\\nfig, ax = plt.subplots(figsize=(10, 5))\\nplot_cv_indices(this_cv, x.set_index(dates), y, ax, n_splits)\\nax.legend(\\n    [Patch(color=cmap_cv(0.8)), Patch(color=cmap_cv(0.02))],\\n    [\\\"Testing set\\\", \\\"Training set\\\"],\\n    loc=(1.02, 0.8),\\n)\\nplt.tight_layout()\\nfig.subplots_adjust(right=0.7)\\nfig.autofmt_xdate()\\nplt.show()\";\n",
       "                var nbb_cells = Jupyter.notebook.get_cells();\n",
       "                for (var i = 0; i < nbb_cells.length; ++i) {\n",
       "                    if (nbb_cells[i].input_prompt_number == nbb_cell_id) {\n",
       "                        if (nbb_cells[i].get_text() == nbb_unformatted_code) {\n",
       "                             nbb_cells[i].set_text(nbb_formatted_code);\n",
       "                        }\n",
       "                        break;\n",
       "                    }\n",
       "                }\n",
       "            }, 500);\n",
       "            "
      ],
      "text/plain": [
       "<IPython.core.display.Javascript object>"
      ]
     },
     "metadata": {},
     "output_type": "display_data"
    }
   ],
   "source": [
    "this_cv = TimeSeriesSplit(n_splits=n_splits)\n",
    "fig, ax = plt.subplots(figsize=(10, 5))\n",
    "plot_cv_indices(this_cv, x.set_index(dates), y, ax, n_splits)\n",
    "ax.legend(\n",
    "    [Patch(color=cmap_cv(0.8)), Patch(color=cmap_cv(0.02))],\n",
    "    [\"Testing set\", \"Training set\"],\n",
    "    loc=(1.02, 0.8),\n",
    ")\n",
    "plt.tight_layout()\n",
    "fig.subplots_adjust(right=0.7)\n",
    "fig.autofmt_xdate()\n",
    "plt.show()"
   ]
  },
  {
   "cell_type": "code",
   "execution_count": 10,
   "id": "4c68f8dc",
   "metadata": {},
   "outputs": [
    {
     "data": {
      "text/html": [
       "<div>\n",
       "<style scoped>\n",
       "    .dataframe tbody tr th:only-of-type {\n",
       "        vertical-align: middle;\n",
       "    }\n",
       "\n",
       "    .dataframe tbody tr th {\n",
       "        vertical-align: top;\n",
       "    }\n",
       "\n",
       "    .dataframe thead th {\n",
       "        text-align: right;\n",
       "    }\n",
       "</style>\n",
       "<table border=\"1\" class=\"dataframe\">\n",
       "  <thead>\n",
       "    <tr style=\"text-align: right;\">\n",
       "      <th></th>\n",
       "      <th>feature1</th>\n",
       "      <th>feature2</th>\n",
       "      <th>feature3</th>\n",
       "    </tr>\n",
       "  </thead>\n",
       "  <tbody>\n",
       "    <tr>\n",
       "      <th>2024-08-01</th>\n",
       "      <td>0.496714</td>\n",
       "      <td>0.232254</td>\n",
       "      <td>1.277665</td>\n",
       "    </tr>\n",
       "    <tr>\n",
       "      <th>2024-08-02</th>\n",
       "      <td>-0.138264</td>\n",
       "      <td>0.293072</td>\n",
       "      <td>-0.591571</td>\n",
       "    </tr>\n",
       "    <tr>\n",
       "      <th>2024-08-03</th>\n",
       "      <td>0.647689</td>\n",
       "      <td>-0.714351</td>\n",
       "      <td>0.547097</td>\n",
       "    </tr>\n",
       "    <tr>\n",
       "      <th>2024-08-04</th>\n",
       "      <td>1.523030</td>\n",
       "      <td>1.865775</td>\n",
       "      <td>-0.202193</td>\n",
       "    </tr>\n",
       "    <tr>\n",
       "      <th>2024-08-05</th>\n",
       "      <td>-0.234153</td>\n",
       "      <td>0.473833</td>\n",
       "      <td>-0.217681</td>\n",
       "    </tr>\n",
       "    <tr>\n",
       "      <th>...</th>\n",
       "      <td>...</td>\n",
       "      <td>...</td>\n",
       "      <td>...</td>\n",
       "    </tr>\n",
       "    <tr>\n",
       "      <th>2024-12-27</th>\n",
       "      <td>0.521942</td>\n",
       "      <td>-0.560181</td>\n",
       "      <td>-0.530258</td>\n",
       "    </tr>\n",
       "    <tr>\n",
       "      <th>2024-12-28</th>\n",
       "      <td>0.296985</td>\n",
       "      <td>0.747294</td>\n",
       "      <td>-0.792873</td>\n",
       "    </tr>\n",
       "    <tr>\n",
       "      <th>2024-12-29</th>\n",
       "      <td>0.250493</td>\n",
       "      <td>0.610370</td>\n",
       "      <td>-0.107030</td>\n",
       "    </tr>\n",
       "    <tr>\n",
       "      <th>2024-12-30</th>\n",
       "      <td>0.346448</td>\n",
       "      <td>-0.020902</td>\n",
       "      <td>-1.035242</td>\n",
       "    </tr>\n",
       "    <tr>\n",
       "      <th>2024-12-31</th>\n",
       "      <td>-0.680025</td>\n",
       "      <td>0.117327</td>\n",
       "      <td>-0.553649</td>\n",
       "    </tr>\n",
       "  </tbody>\n",
       "</table>\n",
       "<p>153 rows × 3 columns</p>\n",
       "</div>"
      ],
      "text/plain": [
       "            feature1  feature2  feature3\n",
       "2024-08-01  0.496714  0.232254  1.277665\n",
       "2024-08-02 -0.138264  0.293072 -0.591571\n",
       "2024-08-03  0.647689 -0.714351  0.547097\n",
       "2024-08-04  1.523030  1.865775 -0.202193\n",
       "2024-08-05 -0.234153  0.473833 -0.217681\n",
       "...              ...       ...       ...\n",
       "2024-12-27  0.521942 -0.560181 -0.530258\n",
       "2024-12-28  0.296985  0.747294 -0.792873\n",
       "2024-12-29  0.250493  0.610370 -0.107030\n",
       "2024-12-30  0.346448 -0.020902 -1.035242\n",
       "2024-12-31 -0.680025  0.117327 -0.553649\n",
       "\n",
       "[153 rows x 3 columns]"
      ]
     },
     "execution_count": 10,
     "metadata": {},
     "output_type": "execute_result"
    },
    {
     "data": {
      "application/javascript": [
       "\n",
       "            setTimeout(function() {\n",
       "                var nbb_cell_id = 10;\n",
       "                var nbb_unformatted_code = \"x.set_axis(dates)\";\n",
       "                var nbb_formatted_code = \"x.set_axis(dates)\";\n",
       "                var nbb_cells = Jupyter.notebook.get_cells();\n",
       "                for (var i = 0; i < nbb_cells.length; ++i) {\n",
       "                    if (nbb_cells[i].input_prompt_number == nbb_cell_id) {\n",
       "                        if (nbb_cells[i].get_text() == nbb_unformatted_code) {\n",
       "                             nbb_cells[i].set_text(nbb_formatted_code);\n",
       "                        }\n",
       "                        break;\n",
       "                    }\n",
       "                }\n",
       "            }, 500);\n",
       "            "
      ],
      "text/plain": [
       "<IPython.core.display.Javascript object>"
      ]
     },
     "metadata": {},
     "output_type": "display_data"
    }
   ],
   "source": [
    "x.set_axis(dates)"
   ]
  },
  {
   "cell_type": "code",
   "execution_count": 11,
   "id": "1804a055",
   "metadata": {},
   "outputs": [
    {
     "data": {
      "application/javascript": [
       "\n",
       "            setTimeout(function() {\n",
       "                var nbb_cell_id = 11;\n",
       "                var nbb_unformatted_code = \"# import numpy as np\\n# import matplotlib.pyplot as plt\\n# from matplotlib.dates import DateFormatter\\n# from matplotlib.patches import Patch\\n# from sklearn.model_selection import TimeSeriesSplit\\n# import pandas as pd\\n\\n# # Generate data\\n# x, y, dates = generate_data()\\n\\n# # Create the time series split\\n# n_splits = 5\\n# this_cv = TimeSeriesSplit(n_splits=n_splits)\\n\\n# # Create figure\\n# fig, ax = plt.subplots(figsize=(10, 5))\\n\\n# # Convert x to datetime index\\n# x = x.set_index(dates)  # Changed from pd.to_datetime(dates)\\n\\n# # Create colormap for CV\\n# cmap_cv = plt.cm.coolwarm\\n\\n# # Plot the CV splits\\n# plot_cv_indices(this_cv, x, y, ax, n_splits)\\n\\n# # Update the legend\\n# ax.legend(\\n#     [Patch(color=cmap_cv(0.8)), Patch(color=cmap_cv(0.02))],\\n#     [\\\"Testing set\\\", \\\"Training set\\\"],\\n#     loc=\\\"best\\\"\\n# )\\n\\n# # Format the x-axis to show month-year\\n# ax.xaxis.set_major_formatter(DateFormatter(\\\"%b-%Y\\\"))  # Changed from %Y-%M to %b-%Y\\n\\n# # Rotate date labels\\n# fig.autofmt_xdate()\\n\\n# # Label the y-axis\\n# ax.set_yticks(np.arange(n_splits) + 0.5)\\n# ax.set_yticklabels([f\\\"Split {i+1}\\\" for i in range(n_splits)])\\n\\n# plt.tight_layout()\\n# plt.show()\";\n",
       "                var nbb_formatted_code = \"# import numpy as np\\n# import matplotlib.pyplot as plt\\n# from matplotlib.dates import DateFormatter\\n# from matplotlib.patches import Patch\\n# from sklearn.model_selection import TimeSeriesSplit\\n# import pandas as pd\\n\\n# # Generate data\\n# x, y, dates = generate_data()\\n\\n# # Create the time series split\\n# n_splits = 5\\n# this_cv = TimeSeriesSplit(n_splits=n_splits)\\n\\n# # Create figure\\n# fig, ax = plt.subplots(figsize=(10, 5))\\n\\n# # Convert x to datetime index\\n# x = x.set_index(dates)  # Changed from pd.to_datetime(dates)\\n\\n# # Create colormap for CV\\n# cmap_cv = plt.cm.coolwarm\\n\\n# # Plot the CV splits\\n# plot_cv_indices(this_cv, x, y, ax, n_splits)\\n\\n# # Update the legend\\n# ax.legend(\\n#     [Patch(color=cmap_cv(0.8)), Patch(color=cmap_cv(0.02))],\\n#     [\\\"Testing set\\\", \\\"Training set\\\"],\\n#     loc=\\\"best\\\"\\n# )\\n\\n# # Format the x-axis to show month-year\\n# ax.xaxis.set_major_formatter(DateFormatter(\\\"%b-%Y\\\"))  # Changed from %Y-%M to %b-%Y\\n\\n# # Rotate date labels\\n# fig.autofmt_xdate()\\n\\n# # Label the y-axis\\n# ax.set_yticks(np.arange(n_splits) + 0.5)\\n# ax.set_yticklabels([f\\\"Split {i+1}\\\" for i in range(n_splits)])\\n\\n# plt.tight_layout()\\n# plt.show()\";\n",
       "                var nbb_cells = Jupyter.notebook.get_cells();\n",
       "                for (var i = 0; i < nbb_cells.length; ++i) {\n",
       "                    if (nbb_cells[i].input_prompt_number == nbb_cell_id) {\n",
       "                        if (nbb_cells[i].get_text() == nbb_unformatted_code) {\n",
       "                             nbb_cells[i].set_text(nbb_formatted_code);\n",
       "                        }\n",
       "                        break;\n",
       "                    }\n",
       "                }\n",
       "            }, 500);\n",
       "            "
      ],
      "text/plain": [
       "<IPython.core.display.Javascript object>"
      ]
     },
     "metadata": {},
     "output_type": "display_data"
    }
   ],
   "source": [
    "# import numpy as np\n",
    "# import matplotlib.pyplot as plt\n",
    "# from matplotlib.dates import DateFormatter\n",
    "# from matplotlib.patches import Patch\n",
    "# from sklearn.model_selection import TimeSeriesSplit\n",
    "# import pandas as pd\n",
    "\n",
    "# # Generate data\n",
    "# x, y, dates = generate_data()\n",
    "\n",
    "# # Create the time series split\n",
    "# n_splits = 5\n",
    "# this_cv = TimeSeriesSplit(n_splits=n_splits)\n",
    "\n",
    "# # Create figure\n",
    "# fig, ax = plt.subplots(figsize=(10, 5))\n",
    "\n",
    "# # Convert x to datetime index\n",
    "# x = x.set_index(dates)  # Changed from pd.to_datetime(dates)\n",
    "\n",
    "# # Create colormap for CV\n",
    "# cmap_cv = plt.cm.coolwarm\n",
    "\n",
    "# # Plot the CV splits\n",
    "# plot_cv_indices(this_cv, x, y, ax, n_splits)\n",
    "\n",
    "# # Update the legend\n",
    "# ax.legend(\n",
    "#     [Patch(color=cmap_cv(0.8)), Patch(color=cmap_cv(0.02))],\n",
    "#     [\"Testing set\", \"Training set\"],\n",
    "#     loc=\"best\"\n",
    "# )\n",
    "\n",
    "# # Format the x-axis to show month-year\n",
    "# ax.xaxis.set_major_formatter(DateFormatter(\"%b-%Y\"))  # Changed from %Y-%M to %b-%Y\n",
    "\n",
    "# # Rotate date labels\n",
    "# fig.autofmt_xdate()\n",
    "\n",
    "# # Label the y-axis\n",
    "# ax.set_yticks(np.arange(n_splits) + 0.5)\n",
    "# ax.set_yticklabels([f\"Split {i+1}\" for i in range(n_splits)])\n",
    "\n",
    "# plt.tight_layout()\n",
    "# plt.show()"
   ]
  },
  {
   "cell_type": "code",
   "execution_count": 12,
   "id": "4727dbdf",
   "metadata": {},
   "outputs": [
    {
     "data": {
      "application/javascript": [
       "\n",
       "            setTimeout(function() {\n",
       "                var nbb_cell_id = 12;\n",
       "                var nbb_unformatted_code = \"def plot_cv_indices(cv, X, y, ax, n_splits, lw=10):\\n    \\\"\\\"\\\"Create a sample plot for indices of a cross-validation object.\\\"\\\"\\\"\\n\\n    # Generate the training/testing visualizations for each CV split\\n    for ii, (tr, tt) in enumerate(cv.split(X=X, y=y)):\\n        # Fill in indices with the training/test groups\\n        indices = np.array([np.nan] * len(X))\\n        indices[tt] = 1\\n        indices[tr] = 0\\n\\n        # Visualize the results\\n        ax.scatter(\\n            X.index,  # Use the datetime index directly\\n            [ii + 0.5] * len(indices),\\n            c=indices,\\n            marker=\\\"_\\\",\\n            lw=lw,\\n            cmap=cmap_cv,\\n            vmin=-0.2,\\n            vmax=1.2,\\n        )\\n\\n    # Formatting\\n    ax.set(\\n        yticks=np.arange(n_splits) + 0.5,\\n        yticklabels=[f\\\"Split {i+1}\\\" for i in range(n_splits)],\\n        # xlabel=\\\"Date\\\",\\n        ylabel=\\\"CV iteration\\\",\\n        ylim=[n_splits + 0.2, -0.1],\\n    )\\n\\n    # ax.set_title(\\\"{}\\\".format(type(cv).__name__), fontsize=15)\\n    # With these lines:\\n    title = type(cv).__name__\\n    formatted_title = \\\"\\\".join(\\n        [\\\" \\\" + c if c.isupper() and i > 0 else c for i, c in enumerate(title)]\\n    ).strip()\\n    ax.set_title(formatted_title, fontsize=15)\\n\\n    return ax\";\n",
       "                var nbb_formatted_code = \"def plot_cv_indices(cv, X, y, ax, n_splits, lw=10):\\n    \\\"\\\"\\\"Create a sample plot for indices of a cross-validation object.\\\"\\\"\\\"\\n\\n    # Generate the training/testing visualizations for each CV split\\n    for ii, (tr, tt) in enumerate(cv.split(X=X, y=y)):\\n        # Fill in indices with the training/test groups\\n        indices = np.array([np.nan] * len(X))\\n        indices[tt] = 1\\n        indices[tr] = 0\\n\\n        # Visualize the results\\n        ax.scatter(\\n            X.index,  # Use the datetime index directly\\n            [ii + 0.5] * len(indices),\\n            c=indices,\\n            marker=\\\"_\\\",\\n            lw=lw,\\n            cmap=cmap_cv,\\n            vmin=-0.2,\\n            vmax=1.2,\\n        )\\n\\n    # Formatting\\n    ax.set(\\n        yticks=np.arange(n_splits) + 0.5,\\n        yticklabels=[f\\\"Split {i+1}\\\" for i in range(n_splits)],\\n        # xlabel=\\\"Date\\\",\\n        ylabel=\\\"CV iteration\\\",\\n        ylim=[n_splits + 0.2, -0.1],\\n    )\\n\\n    # ax.set_title(\\\"{}\\\".format(type(cv).__name__), fontsize=15)\\n    # With these lines:\\n    title = type(cv).__name__\\n    formatted_title = \\\"\\\".join(\\n        [\\\" \\\" + c if c.isupper() and i > 0 else c for i, c in enumerate(title)]\\n    ).strip()\\n    ax.set_title(formatted_title, fontsize=15)\\n\\n    return ax\";\n",
       "                var nbb_cells = Jupyter.notebook.get_cells();\n",
       "                for (var i = 0; i < nbb_cells.length; ++i) {\n",
       "                    if (nbb_cells[i].input_prompt_number == nbb_cell_id) {\n",
       "                        if (nbb_cells[i].get_text() == nbb_unformatted_code) {\n",
       "                             nbb_cells[i].set_text(nbb_formatted_code);\n",
       "                        }\n",
       "                        break;\n",
       "                    }\n",
       "                }\n",
       "            }, 500);\n",
       "            "
      ],
      "text/plain": [
       "<IPython.core.display.Javascript object>"
      ]
     },
     "metadata": {},
     "output_type": "display_data"
    }
   ],
   "source": [
    "def plot_cv_indices(cv, X, y, ax, n_splits, lw=10):\n",
    "    \"\"\"Create a sample plot for indices of a cross-validation object.\"\"\"\n",
    "\n",
    "    # Generate the training/testing visualizations for each CV split\n",
    "    for ii, (tr, tt) in enumerate(cv.split(X=X, y=y)):\n",
    "        # Fill in indices with the training/test groups\n",
    "        indices = np.array([np.nan] * len(X))\n",
    "        indices[tt] = 1\n",
    "        indices[tr] = 0\n",
    "\n",
    "        # Visualize the results\n",
    "        ax.scatter(\n",
    "            X.index,  # Use the datetime index directly\n",
    "            [ii + 0.5] * len(indices),\n",
    "            c=indices,\n",
    "            marker=\"_\",\n",
    "            lw=lw,\n",
    "            cmap=cmap_cv,\n",
    "            vmin=-0.2,\n",
    "            vmax=1.2,\n",
    "        )\n",
    "\n",
    "    # Formatting\n",
    "    ax.set(\n",
    "        yticks=np.arange(n_splits) + 0.5,\n",
    "        yticklabels=[f\"Split {i+1}\" for i in range(n_splits)],\n",
    "        # xlabel=\"Date\",\n",
    "        ylabel=\"CV iteration\",\n",
    "        ylim=[n_splits + 0.2, -0.1],\n",
    "    )\n",
    "\n",
    "    # ax.set_title(\"{}\".format(type(cv).__name__), fontsize=15)\n",
    "    # With these lines:\n",
    "    title = type(cv).__name__\n",
    "    formatted_title = \"\".join(\n",
    "        [\" \" + c if c.isupper() and i > 0 else c for i, c in enumerate(title)]\n",
    "    ).strip()\n",
    "    ax.set_title(formatted_title, fontsize=15)\n",
    "\n",
    "    return ax"
   ]
  },
  {
   "cell_type": "code",
   "execution_count": 13,
   "id": "875f685e",
   "metadata": {},
   "outputs": [
    {
     "data": {
      "image/png": "[encoded data removed]",
      "text/plain": [
       "<Figure size 1000x500 with 1 Axes>"
      ]
     },
     "metadata": {},
     "output_type": "display_data"
    },
    {
     "data": {
      "application/javascript": [
       "\n",
       "            setTimeout(function() {\n",
       "                var nbb_cell_id = 13;\n",
       "                var nbb_unformatted_code = \"import numpy as np\\nimport matplotlib.pyplot as plt\\nfrom matplotlib.dates import DateFormatter\\nfrom matplotlib.patches import Patch\\nfrom sklearn.model_selection import TimeSeriesSplit\\nimport pandas as pd\\n\\n# Generate data\\nx, y, dates = generate_data()\\n\\n# Create the time series split\\nn_splits = 5\\nthis_cv = TimeSeriesSplit(n_splits=n_splits)\\n\\n# Create figure\\nfig, ax = plt.subplots(figsize=(10, 5))\\n\\n# Convert x to datetime index\\nx = x.set_index(dates)  # Changed from pd.to_datetime(dates)\\n\\n# Create colormap for CV\\ncmap_cv = plt.cm.coolwarm\\n\\n# Plot the CV splits\\nplot_cv_indices(this_cv, x, y, ax, n_splits)\\n\\n# Update the legend\\nax.legend(\\n    [Patch(color=cmap_cv(0.8)), Patch(color=cmap_cv(0.02))],\\n    [\\\"Testing set\\\", \\\"Training set\\\"],\\n    loc=\\\"best\\\",\\n)\\n\\n# Format the x-axis to show month-year\\nax.xaxis.set_major_formatter(DateFormatter(\\\"%Y-%m\\\"))  # Changed from %Y-%M to %b-%Y\\n\\n# Rotate date labels\\n# fig.autofmt_xdate()\\n\\n# Label the y-axis\\nax.set_yticks(np.arange(n_splits) + 0.5)\\nax.set_yticklabels([f\\\"Split {i+1}\\\" for i in range(n_splits)])\\n\\nplt.tight_layout()\\n\\nplt.savefig(\\\"timeseries_split.png\\\", dpi=300, bbox_inches=\\\"tight\\\")\\n\\nplt.show()\";\n",
       "                var nbb_formatted_code = \"import numpy as np\\nimport matplotlib.pyplot as plt\\nfrom matplotlib.dates import DateFormatter\\nfrom matplotlib.patches import Patch\\nfrom sklearn.model_selection import TimeSeriesSplit\\nimport pandas as pd\\n\\n# Generate data\\nx, y, dates = generate_data()\\n\\n# Create the time series split\\nn_splits = 5\\nthis_cv = TimeSeriesSplit(n_splits=n_splits)\\n\\n# Create figure\\nfig, ax = plt.subplots(figsize=(10, 5))\\n\\n# Convert x to datetime index\\nx = x.set_index(dates)  # Changed from pd.to_datetime(dates)\\n\\n# Create colormap for CV\\ncmap_cv = plt.cm.coolwarm\\n\\n# Plot the CV splits\\nplot_cv_indices(this_cv, x, y, ax, n_splits)\\n\\n# Update the legend\\nax.legend(\\n    [Patch(color=cmap_cv(0.8)), Patch(color=cmap_cv(0.02))],\\n    [\\\"Testing set\\\", \\\"Training set\\\"],\\n    loc=\\\"best\\\",\\n)\\n\\n# Format the x-axis to show month-year\\nax.xaxis.set_major_formatter(DateFormatter(\\\"%Y-%m\\\"))  # Changed from %Y-%M to %b-%Y\\n\\n# Rotate date labels\\n# fig.autofmt_xdate()\\n\\n# Label the y-axis\\nax.set_yticks(np.arange(n_splits) + 0.5)\\nax.set_yticklabels([f\\\"Split {i+1}\\\" for i in range(n_splits)])\\n\\nplt.tight_layout()\\n\\nplt.savefig(\\\"timeseries_split.png\\\", dpi=300, bbox_inches=\\\"tight\\\")\\n\\nplt.show()\";\n",
       "                var nbb_cells = Jupyter.notebook.get_cells();\n",
       "                for (var i = 0; i < nbb_cells.length; ++i) {\n",
       "                    if (nbb_cells[i].input_prompt_number == nbb_cell_id) {\n",
       "                        if (nbb_cells[i].get_text() == nbb_unformatted_code) {\n",
       "                             nbb_cells[i].set_text(nbb_formatted_code);\n",
       "                        }\n",
       "                        break;\n",
       "                    }\n",
       "                }\n",
       "            }, 500);\n",
       "            "
      ],
      "text/plain": [
       "<IPython.core.display.Javascript object>"
      ]
     },
     "metadata": {},
     "output_type": "display_data"
    }
   ],
   "source": [
    "import numpy as np\n",
    "import matplotlib.pyplot as plt\n",
    "from matplotlib.dates import DateFormatter\n",
    "from matplotlib.patches import Patch\n",
    "from sklearn.model_selection import TimeSeriesSplit\n",
    "import pandas as pd\n",
    "\n",
    "# Generate data\n",
    "x, y, dates = generate_data()\n",
    "\n",
    "# Create the time series split\n",
    "n_splits = 5\n",
    "this_cv = TimeSeriesSplit(n_splits=n_splits)\n",
    "\n",
    "# Create figure\n",
    "fig, ax = plt.subplots(figsize=(10, 5))\n",
    "\n",
    "# Convert x to datetime index\n",
    "x = x.set_index(dates)  # Changed from pd.to_datetime(dates)\n",
    "\n",
    "# Create colormap for CV\n",
    "cmap_cv = plt.cm.coolwarm\n",
    "\n",
    "# Plot the CV splits\n",
    "plot_cv_indices(this_cv, x, y, ax, n_splits)\n",
    "\n",
    "# Update the legend\n",
    "ax.legend(\n",
    "    [Patch(color=cmap_cv(0.8)), Patch(color=cmap_cv(0.02))],\n",
    "    [\"Testing set\", \"Training set\"],\n",
    "    loc=\"best\",\n",
    ")\n",
    "\n",
    "# Format the x-axis to show month-year\n",
    "ax.xaxis.set_major_formatter(DateFormatter(\"%Y-%m\"))  # Changed from %Y-%M to %b-%Y\n",
    "\n",
    "# Rotate date labels\n",
    "# fig.autofmt_xdate()\n",
    "\n",
    "# Label the y-axis\n",
    "ax.set_yticks(np.arange(n_splits) + 0.5)\n",
    "ax.set_yticklabels([f\"Split {i+1}\" for i in range(n_splits)])\n",
    "\n",
    "plt.tight_layout()\n",
    "\n",
    "plt.savefig(\"timeseries_split.png\", dpi=300, bbox_inches=\"tight\")\n",
    "\n",
    "plt.show()"
   ]
  },
  {
   "cell_type": "markdown",
   "id": "25696a4f",
   "metadata": {},
   "source": [
    "# Blocking time series split example"
   ]
  },
  {
   "cell_type": "code",
   "execution_count": 14,
   "id": "a6540264",
   "metadata": {},
   "outputs": [
    {
     "data": {
      "image/png": "[encoded data removed]",
      "text/plain": [
       "<Figure size 1000x500 with 1 Axes>"
      ]
     },
     "metadata": {},
     "output_type": "display_data"
    },
    {
     "data": {
      "application/javascript": [
       "\n",
       "            setTimeout(function() {\n",
       "                var nbb_cell_id = 14;\n",
       "                var nbb_unformatted_code = \"import numpy as np\\nimport matplotlib.pyplot as plt\\nfrom matplotlib.dates import DateFormatter\\nfrom matplotlib.patches import Patch\\nfrom sklearn.model_selection import TimeSeriesSplit\\nimport pandas as pd\\n\\n# Generate data\\nx, y, dates = generate_data()\\n\\n# Create the time series split\\nn_splits = 5\\nthis_cv = BlockingTimeSeriesSplit(n_splits=n_splits)\\n\\n# Create figure\\nfig, ax = plt.subplots(figsize=(10, 5))\\n\\n# Convert x to datetime index\\nx = x.set_index(dates)  # Changed from pd.to_datetime(dates)\\n\\n# Create colormap for CV\\ncmap_cv = plt.cm.coolwarm\\n\\n# Plot the CV splits\\nplot_cv_indices(this_cv, x, y, ax, n_splits)\\n\\n# Update the legend\\nax.legend(\\n    [Patch(color=cmap_cv(0.8)), Patch(color=cmap_cv(0.02))],\\n    [\\\"Testing set\\\", \\\"Training set\\\"],\\n    loc=\\\"best\\\",\\n)\\n\\n# Format the x-axis to show month-year\\nax.xaxis.set_major_formatter(DateFormatter(\\\"%Y-%m\\\"))  # Changed from %Y-%M to %b-%Y\\n\\n# Rotate date labels\\n# fig.autofmt_xdate()\\n\\n# Label the y-axis\\nax.set_yticks(np.arange(n_splits) + 0.5)\\nax.set_yticklabels([f\\\"Split {i+1}\\\" for i in range(n_splits)])\\n\\nplt.tight_layout()\\n\\nplt.savefig(\\\"blocking_timeseries.png\\\", dpi=300, bbox_inches=\\\"tight\\\")\\n\\nplt.show()\";\n",
       "                var nbb_formatted_code = \"import numpy as np\\nimport matplotlib.pyplot as plt\\nfrom matplotlib.dates import DateFormatter\\nfrom matplotlib.patches import Patch\\nfrom sklearn.model_selection import TimeSeriesSplit\\nimport pandas as pd\\n\\n# Generate data\\nx, y, dates = generate_data()\\n\\n# Create the time series split\\nn_splits = 5\\nthis_cv = BlockingTimeSeriesSplit(n_splits=n_splits)\\n\\n# Create figure\\nfig, ax = plt.subplots(figsize=(10, 5))\\n\\n# Convert x to datetime index\\nx = x.set_index(dates)  # Changed from pd.to_datetime(dates)\\n\\n# Create colormap for CV\\ncmap_cv = plt.cm.coolwarm\\n\\n# Plot the CV splits\\nplot_cv_indices(this_cv, x, y, ax, n_splits)\\n\\n# Update the legend\\nax.legend(\\n    [Patch(color=cmap_cv(0.8)), Patch(color=cmap_cv(0.02))],\\n    [\\\"Testing set\\\", \\\"Training set\\\"],\\n    loc=\\\"best\\\",\\n)\\n\\n# Format the x-axis to show month-year\\nax.xaxis.set_major_formatter(DateFormatter(\\\"%Y-%m\\\"))  # Changed from %Y-%M to %b-%Y\\n\\n# Rotate date labels\\n# fig.autofmt_xdate()\\n\\n# Label the y-axis\\nax.set_yticks(np.arange(n_splits) + 0.5)\\nax.set_yticklabels([f\\\"Split {i+1}\\\" for i in range(n_splits)])\\n\\nplt.tight_layout()\\n\\nplt.savefig(\\\"blocking_timeseries.png\\\", dpi=300, bbox_inches=\\\"tight\\\")\\n\\nplt.show()\";\n",
       "                var nbb_cells = Jupyter.notebook.get_cells();\n",
       "                for (var i = 0; i < nbb_cells.length; ++i) {\n",
       "                    if (nbb_cells[i].input_prompt_number == nbb_cell_id) {\n",
       "                        if (nbb_cells[i].get_text() == nbb_unformatted_code) {\n",
       "                             nbb_cells[i].set_text(nbb_formatted_code);\n",
       "                        }\n",
       "                        break;\n",
       "                    }\n",
       "                }\n",
       "            }, 500);\n",
       "            "
      ],
      "text/plain": [
       "<IPython.core.display.Javascript object>"
      ]
     },
     "metadata": {},
     "output_type": "display_data"
    }
   ],
   "source": [
    "import numpy as np\n",
    "import matplotlib.pyplot as plt\n",
    "from matplotlib.dates import DateFormatter\n",
    "from matplotlib.patches import Patch\n",
    "from sklearn.model_selection import TimeSeriesSplit\n",
    "import pandas as pd\n",
    "\n",
    "# Generate data\n",
    "x, y, dates = generate_data()\n",
    "\n",
    "# Create the time series split\n",
    "n_splits = 5\n",
    "this_cv = BlockingTimeSeriesSplit(n_splits=n_splits)\n",
    "\n",
    "# Create figure\n",
    "fig, ax = plt.subplots(figsize=(10, 5))\n",
    "\n",
    "# Convert x to datetime index\n",
    "x = x.set_index(dates)  # Changed from pd.to_datetime(dates)\n",
    "\n",
    "# Create colormap for CV\n",
    "cmap_cv = plt.cm.coolwarm\n",
    "\n",
    "# Plot the CV splits\n",
    "plot_cv_indices(this_cv, x, y, ax, n_splits)\n",
    "\n",
    "# Update the legend\n",
    "ax.legend(\n",
    "    [Patch(color=cmap_cv(0.8)), Patch(color=cmap_cv(0.02))],\n",
    "    [\"Testing set\", \"Training set\"],\n",
    "    loc=\"best\",\n",
    ")\n",
    "\n",
    "# Format the x-axis to show month-year\n",
    "ax.xaxis.set_major_formatter(DateFormatter(\"%Y-%m\"))  # Changed from %Y-%M to %b-%Y\n",
    "\n",
    "# Rotate date labels\n",
    "# fig.autofmt_xdate()\n",
    "\n",
    "# Label the y-axis\n",
    "ax.set_yticks(np.arange(n_splits) + 0.5)\n",
    "ax.set_yticklabels([f\"Split {i+1}\" for i in range(n_splits)])\n",
    "\n",
    "plt.tight_layout()\n",
    "\n",
    "plt.savefig(\"blocking_timeseries.png\", dpi=300, bbox_inches=\"tight\")\n",
    "\n",
    "plt.show()"
   ]
  },
  {
   "cell_type": "code",
   "execution_count": null,
   "id": "41188b83",
   "metadata": {},
   "outputs": [],
   "source": []
  }
 ],
 "metadata": {
  "kernelspec": {
   "display_name": "ccs28-venv",
   "language": "python",
   "name": "ccs28-venv"
  },
  "language_info": {
   "codemirror_mode": {
    "name": "ipython",
    "version": 3
   },
   "file_extension": ".py",
   "mimetype": "text/x-python",
   "name": "python",
   "nbconvert_exporter": "python",
   "pygments_lexer": "ipython3",
   "version": "3.10.12"
  }
 },
 "nbformat": 4,
 "nbformat_minor": 5
}
