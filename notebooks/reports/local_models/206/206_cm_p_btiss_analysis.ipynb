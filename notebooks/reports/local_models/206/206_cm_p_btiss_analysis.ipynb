{
 "cells": [
  {
   "cell_type": "markdown",
   "id": "609573cd",
   "metadata": {},
   "source": [
    "# Linear Regression - Top model according to the SCPM of -4.50 (dominance count 17)"
   ]
  },
  {
   "cell_type": "code",
   "execution_count": 1,
   "id": "2210e4ce",
   "metadata": {},
   "outputs": [
    {
     "data": {
      "application/javascript": [
       "\n",
       "            setTimeout(function() {\n",
       "                var nbb_cell_id = 1;\n",
       "                var nbb_unformatted_code = \"%load_ext nb_black\";\n",
       "                var nbb_formatted_code = \"%load_ext nb_black\";\n",
       "                var nbb_cells = Jupyter.notebook.get_cells();\n",
       "                for (var i = 0; i < nbb_cells.length; ++i) {\n",
       "                    if (nbb_cells[i].input_prompt_number == nbb_cell_id) {\n",
       "                        if (nbb_cells[i].get_text() == nbb_unformatted_code) {\n",
       "                             nbb_cells[i].set_text(nbb_formatted_code);\n",
       "                        }\n",
       "                        break;\n",
       "                    }\n",
       "                }\n",
       "            }, 500);\n",
       "            "
      ],
      "text/plain": [
       "<IPython.core.display.Javascript object>"
      ]
     },
     "metadata": {},
     "output_type": "display_data"
    }
   ],
   "source": [
    "%load_ext nb_black"
   ]
  },
  {
   "cell_type": "code",
   "execution_count": 2,
   "id": "668af128",
   "metadata": {},
   "outputs": [
    {
     "data": {
      "application/javascript": [
       "\n",
       "            setTimeout(function() {\n",
       "                var nbb_cell_id = 2;\n",
       "                var nbb_unformatted_code = \"# Database Reading and Manipulation\\nimport pandas as pd\\n\\n# Linear Algebra\\nimport numpy as np\\n\\n# Plotting\\nimport matplotlib\\nimport matplotlib.pyplot as plt\\nimport seaborn as sns\\n\\n# Model Selection\\nfrom sklearn.model_selection import train_test_split\\nfrom sklearn.model_selection import TimeSeriesSplit\\nfrom sklearn.model_selection import RepeatedKFold\\nfrom sklearn.model_selection import cross_val_score\\nfrom sklearn.model_selection import cross_validate\\nfrom sklearn.model_selection import GridSearchCV\\n\\n# Modeling\\nfrom sklearn.linear_model import LinearRegression\\n\\n# Metrics\\nfrom sklearn.metrics import mean_squared_error\\nfrom sklearn.metrics import mean_absolute_error\\nfrom sklearn.metrics import mean_absolute_percentage_error\\nfrom sklearn.metrics import r2_score\\n\\n# Processing\\nfrom sklearn.preprocessing import StandardScaler\\n\\n\\n# Pipeline\\nfrom sklearn.pipeline import Pipeline\\n\\n# Data imputation\\nfrom sklearn.impute import SimpleImputer\\n\\n# Custom modules\\n## Model selection\\nfrom src.cross_validation.blocking_time_series_split import BlockingTimeSeriesSplit\\n\\n## Function to print scores\\nfrom src.utils.print_scores import print_scores\\n\\n## Function to calculate score regression metrics\\nfrom src.utils.score_regression_metrics import score_regression_metrics\\n\\n## Function to fill the results metric dict\\nfrom src.utils.fill_results_dict import fill_results_dict\\n\\n# Warnings\\nimport warnings\\n\\n# Feature importance\\nfrom sklearn.inspection import permutation_importance\";\n",
       "                var nbb_formatted_code = \"# Database Reading and Manipulation\\nimport pandas as pd\\n\\n# Linear Algebra\\nimport numpy as np\\n\\n# Plotting\\nimport matplotlib\\nimport matplotlib.pyplot as plt\\nimport seaborn as sns\\n\\n# Model Selection\\nfrom sklearn.model_selection import train_test_split\\nfrom sklearn.model_selection import TimeSeriesSplit\\nfrom sklearn.model_selection import RepeatedKFold\\nfrom sklearn.model_selection import cross_val_score\\nfrom sklearn.model_selection import cross_validate\\nfrom sklearn.model_selection import GridSearchCV\\n\\n# Modeling\\nfrom sklearn.linear_model import LinearRegression\\n\\n# Metrics\\nfrom sklearn.metrics import mean_squared_error\\nfrom sklearn.metrics import mean_absolute_error\\nfrom sklearn.metrics import mean_absolute_percentage_error\\nfrom sklearn.metrics import r2_score\\n\\n# Processing\\nfrom sklearn.preprocessing import StandardScaler\\n\\n\\n# Pipeline\\nfrom sklearn.pipeline import Pipeline\\n\\n# Data imputation\\nfrom sklearn.impute import SimpleImputer\\n\\n# Custom modules\\n## Model selection\\nfrom src.cross_validation.blocking_time_series_split import BlockingTimeSeriesSplit\\n\\n## Function to print scores\\nfrom src.utils.print_scores import print_scores\\n\\n## Function to calculate score regression metrics\\nfrom src.utils.score_regression_metrics import score_regression_metrics\\n\\n## Function to fill the results metric dict\\nfrom src.utils.fill_results_dict import fill_results_dict\\n\\n# Warnings\\nimport warnings\\n\\n# Feature importance\\nfrom sklearn.inspection import permutation_importance\";\n",
       "                var nbb_cells = Jupyter.notebook.get_cells();\n",
       "                for (var i = 0; i < nbb_cells.length; ++i) {\n",
       "                    if (nbb_cells[i].input_prompt_number == nbb_cell_id) {\n",
       "                        if (nbb_cells[i].get_text() == nbb_unformatted_code) {\n",
       "                             nbb_cells[i].set_text(nbb_formatted_code);\n",
       "                        }\n",
       "                        break;\n",
       "                    }\n",
       "                }\n",
       "            }, 500);\n",
       "            "
      ],
      "text/plain": [
       "<IPython.core.display.Javascript object>"
      ]
     },
     "metadata": {},
     "output_type": "display_data"
    }
   ],
   "source": [
    "# Database Reading and Manipulation\n",
    "import pandas as pd\n",
    "\n",
    "# Linear Algebra\n",
    "import numpy as np\n",
    "\n",
    "# Plotting\n",
    "import matplotlib\n",
    "import matplotlib.pyplot as plt\n",
    "import seaborn as sns\n",
    "\n",
    "# Model Selection\n",
    "from sklearn.model_selection import train_test_split\n",
    "from sklearn.model_selection import TimeSeriesSplit\n",
    "from sklearn.model_selection import RepeatedKFold\n",
    "from sklearn.model_selection import cross_val_score\n",
    "from sklearn.model_selection import cross_validate\n",
    "from sklearn.model_selection import GridSearchCV\n",
    "\n",
    "# Modeling\n",
    "from sklearn.linear_model import LinearRegression\n",
    "\n",
    "# Metrics\n",
    "from sklearn.metrics import mean_squared_error\n",
    "from sklearn.metrics import mean_absolute_error\n",
    "from sklearn.metrics import mean_absolute_percentage_error\n",
    "from sklearn.metrics import r2_score\n",
    "\n",
    "# Processing\n",
    "from sklearn.preprocessing import StandardScaler\n",
    "\n",
    "\n",
    "# Pipeline\n",
    "from sklearn.pipeline import Pipeline\n",
    "\n",
    "# Data imputation\n",
    "from sklearn.impute import SimpleImputer\n",
    "\n",
    "# Custom modules\n",
    "## Model selection\n",
    "from src.cross_validation.blocking_time_series_split import BlockingTimeSeriesSplit\n",
    "\n",
    "## Function to print scores\n",
    "from src.utils.print_scores import print_scores\n",
    "\n",
    "## Function to calculate score regression metrics\n",
    "from src.utils.score_regression_metrics import score_regression_metrics\n",
    "\n",
    "## Function to fill the results metric dict\n",
    "from src.utils.fill_results_dict import fill_results_dict\n",
    "\n",
    "# Warnings\n",
    "import warnings\n",
    "\n",
    "# Feature importance\n",
    "from sklearn.inspection import permutation_importance"
   ]
  },
  {
   "cell_type": "markdown",
   "id": "fe4a2623",
   "metadata": {},
   "source": [
    "# Functions and definitions"
   ]
  },
  {
   "cell_type": "code",
   "execution_count": 3,
   "id": "12096d76",
   "metadata": {},
   "outputs": [
    {
     "data": {
      "application/javascript": [
       "\n",
       "            setTimeout(function() {\n",
       "                var nbb_cell_id = 3;\n",
       "                var nbb_unformatted_code = \"def get_linreg_df_importances(scores):\\n    coefs = {}\\n    bias = {}\\n    coefs_with_column = []\\n    columns = x.columns\\n\\n    for index, pipeline in enumerate(scores[\\\"estimator\\\"]):\\n        model = pipeline.named_steps[\\\"estimator\\\"]\\n        coefs[index] = model.coef_.copy()\\n        bias[index] = model.intercept_.copy()\\n\\n    for index, coefs_vec in coefs.items():\\n        coefs_col = pd.DataFrame(\\n            {col: [c] for col, c in zip(columns, coefs_vec)},\\n            index=[f\\\"Coefficients - {index}\\\"],\\n        )\\n        coefs_with_column.append(coefs_col)\\n    df_bias = pd.Series(bias)\\n    df_coefs = pd.concat(coefs_with_column)\\n\\n    return df_coefs, df_bias\";\n",
       "                var nbb_formatted_code = \"def get_linreg_df_importances(scores):\\n    coefs = {}\\n    bias = {}\\n    coefs_with_column = []\\n    columns = x.columns\\n\\n    for index, pipeline in enumerate(scores[\\\"estimator\\\"]):\\n        model = pipeline.named_steps[\\\"estimator\\\"]\\n        coefs[index] = model.coef_.copy()\\n        bias[index] = model.intercept_.copy()\\n\\n    for index, coefs_vec in coefs.items():\\n        coefs_col = pd.DataFrame(\\n            {col: [c] for col, c in zip(columns, coefs_vec)},\\n            index=[f\\\"Coefficients - {index}\\\"],\\n        )\\n        coefs_with_column.append(coefs_col)\\n    df_bias = pd.Series(bias)\\n    df_coefs = pd.concat(coefs_with_column)\\n\\n    return df_coefs, df_bias\";\n",
       "                var nbb_cells = Jupyter.notebook.get_cells();\n",
       "                for (var i = 0; i < nbb_cells.length; ++i) {\n",
       "                    if (nbb_cells[i].input_prompt_number == nbb_cell_id) {\n",
       "                        if (nbb_cells[i].get_text() == nbb_unformatted_code) {\n",
       "                             nbb_cells[i].set_text(nbb_formatted_code);\n",
       "                        }\n",
       "                        break;\n",
       "                    }\n",
       "                }\n",
       "            }, 500);\n",
       "            "
      ],
      "text/plain": [
       "<IPython.core.display.Javascript object>"
      ]
     },
     "metadata": {},
     "output_type": "display_data"
    }
   ],
   "source": [
    "def get_linreg_df_importances(scores):\n",
    "    coefs = {}\n",
    "    bias = {}\n",
    "    coefs_with_column = []\n",
    "    columns = x.columns\n",
    "\n",
    "    for index, pipeline in enumerate(scores[\"estimator\"]):\n",
    "        model = pipeline.named_steps[\"estimator\"]\n",
    "        coefs[index] = model.coef_.copy()\n",
    "        bias[index] = model.intercept_.copy()\n",
    "\n",
    "    for index, coefs_vec in coefs.items():\n",
    "        coefs_col = pd.DataFrame(\n",
    "            {col: [c] for col, c in zip(columns, coefs_vec)},\n",
    "            index=[f\"Coefficients - {index}\"],\n",
    "        )\n",
    "        coefs_with_column.append(coefs_col)\n",
    "    df_bias = pd.Series(bias)\n",
    "    df_coefs = pd.concat(coefs_with_column)\n",
    "\n",
    "    return df_coefs, df_bias"
   ]
  },
  {
   "cell_type": "code",
   "execution_count": 4,
   "id": "cd388f34",
   "metadata": {},
   "outputs": [
    {
     "data": {
      "application/javascript": [
       "\n",
       "            setTimeout(function() {\n",
       "                var nbb_cell_id = 4;\n",
       "                var nbb_unformatted_code = \"SEED = 47\\nMETRICS = (\\n    \\\"neg_root_mean_squared_error\\\",\\n    \\\"neg_mean_absolute_error\\\",\\n    \\\"neg_mean_absolute_percentage_error\\\",\\n    \\\"r2\\\",\\n)\\nMETRICS_DICT = {\\n    \\\"neg_root_mean_squared_error\\\": \\\"RMSE\\\",\\n    \\\"neg_mean_absolute_error\\\": \\\"MAE\\\",\\n    \\\"neg_mean_absolute_percentage_error\\\": \\\"MAPE\\\",\\n    \\\"r2\\\": \\\"R2\\\",\\n}\";\n",
       "                var nbb_formatted_code = \"SEED = 47\\nMETRICS = (\\n    \\\"neg_root_mean_squared_error\\\",\\n    \\\"neg_mean_absolute_error\\\",\\n    \\\"neg_mean_absolute_percentage_error\\\",\\n    \\\"r2\\\",\\n)\\nMETRICS_DICT = {\\n    \\\"neg_root_mean_squared_error\\\": \\\"RMSE\\\",\\n    \\\"neg_mean_absolute_error\\\": \\\"MAE\\\",\\n    \\\"neg_mean_absolute_percentage_error\\\": \\\"MAPE\\\",\\n    \\\"r2\\\": \\\"R2\\\",\\n}\";\n",
       "                var nbb_cells = Jupyter.notebook.get_cells();\n",
       "                for (var i = 0; i < nbb_cells.length; ++i) {\n",
       "                    if (nbb_cells[i].input_prompt_number == nbb_cell_id) {\n",
       "                        if (nbb_cells[i].get_text() == nbb_unformatted_code) {\n",
       "                             nbb_cells[i].set_text(nbb_formatted_code);\n",
       "                        }\n",
       "                        break;\n",
       "                    }\n",
       "                }\n",
       "            }, 500);\n",
       "            "
      ],
      "text/plain": [
       "<IPython.core.display.Javascript object>"
      ]
     },
     "metadata": {},
     "output_type": "display_data"
    }
   ],
   "source": [
    "SEED = 47\n",
    "METRICS = (\n",
    "    \"neg_root_mean_squared_error\",\n",
    "    \"neg_mean_absolute_error\",\n",
    "    \"neg_mean_absolute_percentage_error\",\n",
    "    \"r2\",\n",
    ")\n",
    "METRICS_DICT = {\n",
    "    \"neg_root_mean_squared_error\": \"RMSE\",\n",
    "    \"neg_mean_absolute_error\": \"MAE\",\n",
    "    \"neg_mean_absolute_percentage_error\": \"MAPE\",\n",
    "    \"r2\": \"R2\",\n",
    "}"
   ]
  },
  {
   "cell_type": "markdown",
   "id": "68005865",
   "metadata": {},
   "source": [
    "## Defining a dataframe structure to save the results"
   ]
  },
  {
   "cell_type": "code",
   "execution_count": 5,
   "id": "a5e0d3ea",
   "metadata": {},
   "outputs": [
    {
     "data": {
      "application/javascript": [
       "\n",
       "            setTimeout(function() {\n",
       "                var nbb_cell_id = 5;\n",
       "                var nbb_unformatted_code = \"results_to_save = []\\n\\nresults_dict = {\\n    \\\"Category\\\": \\\"Local Model\\\",\\n    \\\"Company\\\": \\\"206\\\",\\n    \\\"Plant\\\": \\\"B\\\",\\n    \\\"Features\\\": \\\"Chemical + Physical\\\",\\n    \\\"Data Shape\\\": None,\\n    \\\"Timesteps\\\": None,\\n    \\\"Model\\\": \\\"Random Forest\\\",\\n    \\\"Model Params\\\": None,\\n    \\\"Scaler\\\": None,\\n    \\\"Scaler Params\\\": None,\\n    \\\"Imputer\\\": \\\"Median\\\",\\n    \\\"Imputer Params\\\": None,\\n    \\\"Cross Validation\\\": None,\\n    \\\"Cross Validation Params\\\": np.nan,\\n    \\\"RMSE Train\\\": np.nan,\\n    \\\"MAE Train\\\": np.nan,\\n    \\\"MAPE Train\\\": np.nan,\\n    \\\"R2 Train\\\": np.nan,\\n    \\\"RMSE Test\\\": np.nan,\\n    \\\"MAE Test\\\": np.nan,\\n    \\\"MAPE Test\\\": np.nan,\\n    \\\"R2 Test\\\": np.nan,\\n}\";\n",
       "                var nbb_formatted_code = \"results_to_save = []\\n\\nresults_dict = {\\n    \\\"Category\\\": \\\"Local Model\\\",\\n    \\\"Company\\\": \\\"206\\\",\\n    \\\"Plant\\\": \\\"B\\\",\\n    \\\"Features\\\": \\\"Chemical + Physical\\\",\\n    \\\"Data Shape\\\": None,\\n    \\\"Timesteps\\\": None,\\n    \\\"Model\\\": \\\"Random Forest\\\",\\n    \\\"Model Params\\\": None,\\n    \\\"Scaler\\\": None,\\n    \\\"Scaler Params\\\": None,\\n    \\\"Imputer\\\": \\\"Median\\\",\\n    \\\"Imputer Params\\\": None,\\n    \\\"Cross Validation\\\": None,\\n    \\\"Cross Validation Params\\\": np.nan,\\n    \\\"RMSE Train\\\": np.nan,\\n    \\\"MAE Train\\\": np.nan,\\n    \\\"MAPE Train\\\": np.nan,\\n    \\\"R2 Train\\\": np.nan,\\n    \\\"RMSE Test\\\": np.nan,\\n    \\\"MAE Test\\\": np.nan,\\n    \\\"MAPE Test\\\": np.nan,\\n    \\\"R2 Test\\\": np.nan,\\n}\";\n",
       "                var nbb_cells = Jupyter.notebook.get_cells();\n",
       "                for (var i = 0; i < nbb_cells.length; ++i) {\n",
       "                    if (nbb_cells[i].input_prompt_number == nbb_cell_id) {\n",
       "                        if (nbb_cells[i].get_text() == nbb_unformatted_code) {\n",
       "                             nbb_cells[i].set_text(nbb_formatted_code);\n",
       "                        }\n",
       "                        break;\n",
       "                    }\n",
       "                }\n",
       "            }, 500);\n",
       "            "
      ],
      "text/plain": [
       "<IPython.core.display.Javascript object>"
      ]
     },
     "metadata": {},
     "output_type": "display_data"
    }
   ],
   "source": [
    "results_to_save = []\n",
    "\n",
    "results_dict = {\n",
    "    \"Category\": \"Local Model\",\n",
    "    \"Company\": \"206\",\n",
    "    \"Plant\": \"B\",\n",
    "    \"Features\": \"Chemical + Physical\",\n",
    "    \"Data Shape\": None,\n",
    "    \"Timesteps\": None,\n",
    "    \"Model\": \"Random Forest\",\n",
    "    \"Model Params\": None,\n",
    "    \"Scaler\": None,\n",
    "    \"Scaler Params\": None,\n",
    "    \"Imputer\": \"Median\",\n",
    "    \"Imputer Params\": None,\n",
    "    \"Cross Validation\": None,\n",
    "    \"Cross Validation Params\": np.nan,\n",
    "    \"RMSE Train\": np.nan,\n",
    "    \"MAE Train\": np.nan,\n",
    "    \"MAPE Train\": np.nan,\n",
    "    \"R2 Train\": np.nan,\n",
    "    \"RMSE Test\": np.nan,\n",
    "    \"MAE Test\": np.nan,\n",
    "    \"MAPE Test\": np.nan,\n",
    "    \"R2 Test\": np.nan,\n",
    "}"
   ]
  },
  {
   "cell_type": "markdown",
   "id": "2a452455",
   "metadata": {},
   "source": [
    "# Reading the dataset"
   ]
  },
  {
   "cell_type": "code",
   "execution_count": 6,
   "id": "d0e89a40",
   "metadata": {},
   "outputs": [
    {
     "data": {
      "application/javascript": [
       "\n",
       "            setTimeout(function() {\n",
       "                var nbb_cell_id = 6;\n",
       "                var nbb_unformatted_code = \"df = pd.read_csv(\\\"../../../../data/processed/206/b.csv\\\")\";\n",
       "                var nbb_formatted_code = \"df = pd.read_csv(\\\"../../../../data/processed/206/b.csv\\\")\";\n",
       "                var nbb_cells = Jupyter.notebook.get_cells();\n",
       "                for (var i = 0; i < nbb_cells.length; ++i) {\n",
       "                    if (nbb_cells[i].input_prompt_number == nbb_cell_id) {\n",
       "                        if (nbb_cells[i].get_text() == nbb_unformatted_code) {\n",
       "                             nbb_cells[i].set_text(nbb_formatted_code);\n",
       "                        }\n",
       "                        break;\n",
       "                    }\n",
       "                }\n",
       "            }, 500);\n",
       "            "
      ],
      "text/plain": [
       "<IPython.core.display.Javascript object>"
      ]
     },
     "metadata": {},
     "output_type": "display_data"
    }
   ],
   "source": [
    "df = pd.read_csv(\"../../../../data/processed/206/b.csv\")"
   ]
  },
  {
   "cell_type": "markdown",
   "id": "2ae57845",
   "metadata": {},
   "source": [
    "## Defining Features\n",
    "\n",
    "In this set of experiments we keep only chemical and mineralogical features yielded by the same testing method/procedure"
   ]
  },
  {
   "cell_type": "code",
   "execution_count": 7,
   "id": "ea0331c1",
   "metadata": {},
   "outputs": [
    {
     "data": {
      "application/javascript": [
       "\n",
       "            setTimeout(function() {\n",
       "                var nbb_cell_id = 7;\n",
       "                var nbb_unformatted_code = \"df_copy = df.copy().drop(\\n    [\\n        \\\"Cement_Type\\\",\\n        \\\"CS1\\\",\\n        \\\"CS3\\\",\\n        \\\"CS7\\\",\\n    ],\\n    axis=1,\\n)\";\n",
       "                var nbb_formatted_code = \"df_copy = df.copy().drop(\\n    [\\n        \\\"Cement_Type\\\",\\n        \\\"CS1\\\",\\n        \\\"CS3\\\",\\n        \\\"CS7\\\",\\n    ],\\n    axis=1,\\n)\";\n",
       "                var nbb_cells = Jupyter.notebook.get_cells();\n",
       "                for (var i = 0; i < nbb_cells.length; ++i) {\n",
       "                    if (nbb_cells[i].input_prompt_number == nbb_cell_id) {\n",
       "                        if (nbb_cells[i].get_text() == nbb_unformatted_code) {\n",
       "                             nbb_cells[i].set_text(nbb_formatted_code);\n",
       "                        }\n",
       "                        break;\n",
       "                    }\n",
       "                }\n",
       "            }, 500);\n",
       "            "
      ],
      "text/plain": [
       "<IPython.core.display.Javascript object>"
      ]
     },
     "metadata": {},
     "output_type": "display_data"
    }
   ],
   "source": [
    "df_copy = df.copy().drop(\n",
    "    [\n",
    "        \"Cement_Type\",\n",
    "        \"CS1\",\n",
    "        \"CS3\",\n",
    "        \"CS7\",\n",
    "    ],\n",
    "    axis=1,\n",
    ")"
   ]
  },
  {
   "cell_type": "code",
   "execution_count": 8,
   "id": "eed9d427",
   "metadata": {},
   "outputs": [
    {
     "data": {
      "application/javascript": [
       "\n",
       "            setTimeout(function() {\n",
       "                var nbb_cell_id = 8;\n",
       "                var nbb_unformatted_code = \"y = df_copy.pop(\\\"CS28\\\").values\\nx = df_copy.drop([\\\"Date\\\"], axis=1)\\ndates = df[\\\"Date\\\"].copy()\";\n",
       "                var nbb_formatted_code = \"y = df_copy.pop(\\\"CS28\\\").values\\nx = df_copy.drop([\\\"Date\\\"], axis=1)\\ndates = df[\\\"Date\\\"].copy()\";\n",
       "                var nbb_cells = Jupyter.notebook.get_cells();\n",
       "                for (var i = 0; i < nbb_cells.length; ++i) {\n",
       "                    if (nbb_cells[i].input_prompt_number == nbb_cell_id) {\n",
       "                        if (nbb_cells[i].get_text() == nbb_unformatted_code) {\n",
       "                             nbb_cells[i].set_text(nbb_formatted_code);\n",
       "                        }\n",
       "                        break;\n",
       "                    }\n",
       "                }\n",
       "            }, 500);\n",
       "            "
      ],
      "text/plain": [
       "<IPython.core.display.Javascript object>"
      ]
     },
     "metadata": {},
     "output_type": "display_data"
    }
   ],
   "source": [
    "y = df_copy.pop(\"CS28\").values\n",
    "x = df_copy.drop([\"Date\"], axis=1)\n",
    "dates = df[\"Date\"].copy()"
   ]
  },
  {
   "cell_type": "code",
   "execution_count": 9,
   "id": "2543aff4",
   "metadata": {},
   "outputs": [
    {
     "data": {
      "application/javascript": [
       "\n",
       "            setTimeout(function() {\n",
       "                var nbb_cell_id = 9;\n",
       "                var nbb_unformatted_code = \"matplotlib.rc_file_defaults()\";\n",
       "                var nbb_formatted_code = \"matplotlib.rc_file_defaults()\";\n",
       "                var nbb_cells = Jupyter.notebook.get_cells();\n",
       "                for (var i = 0; i < nbb_cells.length; ++i) {\n",
       "                    if (nbb_cells[i].input_prompt_number == nbb_cell_id) {\n",
       "                        if (nbb_cells[i].get_text() == nbb_unformatted_code) {\n",
       "                             nbb_cells[i].set_text(nbb_formatted_code);\n",
       "                        }\n",
       "                        break;\n",
       "                    }\n",
       "                }\n",
       "            }, 500);\n",
       "            "
      ],
      "text/plain": [
       "<IPython.core.display.Javascript object>"
      ]
     },
     "metadata": {},
     "output_type": "display_data"
    }
   ],
   "source": [
    "matplotlib.rc_file_defaults()"
   ]
  },
  {
   "cell_type": "markdown",
   "id": "14148c75",
   "metadata": {},
   "source": [
    "## 1.2. Blocking Time Series Cross Validation"
   ]
  },
  {
   "cell_type": "code",
   "execution_count": 10,
   "id": "9a7a01b2",
   "metadata": {},
   "outputs": [
    {
     "name": "stdout",
     "output_type": "stream",
     "text": [
      "Blocking Time Series Split:\n",
      "Repeats: 3\n",
      "n_splits: 5\n",
      "\n",
      "******\n",
      "[TRAIN]\n",
      "******\n",
      "RMSE: -1.320 (0.381)\n",
      "MAE: -1.020 (0.275)\n",
      "MAPE: -0.023 (0.007)\n",
      "R2: 0.746 (0.123)\n",
      "\n",
      "======================\n",
      "\n",
      "******\n",
      "[TEST]\n",
      "******\n",
      "RMSE: -1.972 (0.692)\n",
      "MAE: -1.569 (0.464)\n",
      "MAPE: -0.036 (0.013)\n",
      "R2: -0.144 (1.127)\n",
      "\n",
      "======================\n",
      "\n"
     ]
    },
    {
     "data": {
      "application/javascript": [
       "\n",
       "            setTimeout(function() {\n",
       "                var nbb_cell_id = 10;\n",
       "                var nbb_unformatted_code = \"repeats = 3\\nn_splits = 5\\ntrain_size = 0.8\\n\\npipeline = Pipeline(\\n    [\\n        (\\\"imputer\\\", SimpleImputer(strategy=\\\"median\\\")),\\n        (\\\"transformer\\\", StandardScaler()),\\n        (\\\"estimator\\\", LinearRegression()),\\n    ]\\n)\\ncv = BlockingTimeSeriesSplit(n_splits=n_splits, train_size=train_size)\\nscores = cross_validate(\\n    pipeline,\\n    x,\\n    y,\\n    scoring=METRICS,\\n    cv=cv,\\n    n_jobs=-1,\\n    return_train_score=True,\\n    return_estimator=True,\\n    return_indices=True,\\n)\\nprint(\\\"Blocking Time Series Split:\\\")\\nprint(f\\\"Repeats: {repeats}\\\")\\nprint(f\\\"n_splits: {n_splits}\\\")\\nprint()\\nprint_scores(scores, METRICS, METRICS_DICT)\\n\\nresults_dict_copy = results_dict.copy()\\nresults_dict_copy[\\\"Cross Validation\\\"] = \\\"Blocking Time Series Split\\\"\\nresults_dict_copy[\\n    \\\"Cross Validation Params\\\"\\n] = '{\\\"N_Splits\\\": 5, \\\"Repeats\\\": 1, \\\"train_size\\\": 0.8}'\\nresults_dict_copy[\\\"Data Shape\\\"] = x.shape\\ndf_results = fill_results_dict(results_dict_copy, scores)\\nresults_to_save.append(df_results)\";\n",
       "                var nbb_formatted_code = \"repeats = 3\\nn_splits = 5\\ntrain_size = 0.8\\n\\npipeline = Pipeline(\\n    [\\n        (\\\"imputer\\\", SimpleImputer(strategy=\\\"median\\\")),\\n        (\\\"transformer\\\", StandardScaler()),\\n        (\\\"estimator\\\", LinearRegression()),\\n    ]\\n)\\ncv = BlockingTimeSeriesSplit(n_splits=n_splits, train_size=train_size)\\nscores = cross_validate(\\n    pipeline,\\n    x,\\n    y,\\n    scoring=METRICS,\\n    cv=cv,\\n    n_jobs=-1,\\n    return_train_score=True,\\n    return_estimator=True,\\n    return_indices=True,\\n)\\nprint(\\\"Blocking Time Series Split:\\\")\\nprint(f\\\"Repeats: {repeats}\\\")\\nprint(f\\\"n_splits: {n_splits}\\\")\\nprint()\\nprint_scores(scores, METRICS, METRICS_DICT)\\n\\nresults_dict_copy = results_dict.copy()\\nresults_dict_copy[\\\"Cross Validation\\\"] = \\\"Blocking Time Series Split\\\"\\nresults_dict_copy[\\n    \\\"Cross Validation Params\\\"\\n] = '{\\\"N_Splits\\\": 5, \\\"Repeats\\\": 1, \\\"train_size\\\": 0.8}'\\nresults_dict_copy[\\\"Data Shape\\\"] = x.shape\\ndf_results = fill_results_dict(results_dict_copy, scores)\\nresults_to_save.append(df_results)\";\n",
       "                var nbb_cells = Jupyter.notebook.get_cells();\n",
       "                for (var i = 0; i < nbb_cells.length; ++i) {\n",
       "                    if (nbb_cells[i].input_prompt_number == nbb_cell_id) {\n",
       "                        if (nbb_cells[i].get_text() == nbb_unformatted_code) {\n",
       "                             nbb_cells[i].set_text(nbb_formatted_code);\n",
       "                        }\n",
       "                        break;\n",
       "                    }\n",
       "                }\n",
       "            }, 500);\n",
       "            "
      ],
      "text/plain": [
       "<IPython.core.display.Javascript object>"
      ]
     },
     "metadata": {},
     "output_type": "display_data"
    }
   ],
   "source": [
    "repeats = 3\n",
    "n_splits = 5\n",
    "train_size = 0.8\n",
    "\n",
    "pipeline = Pipeline(\n",
    "    [\n",
    "        (\"imputer\", SimpleImputer(strategy=\"median\")),\n",
    "        (\"transformer\", StandardScaler()),\n",
    "        (\"estimator\", LinearRegression()),\n",
    "    ]\n",
    ")\n",
    "cv = BlockingTimeSeriesSplit(n_splits=n_splits, train_size=train_size)\n",
    "scores = cross_validate(\n",
    "    pipeline,\n",
    "    x,\n",
    "    y,\n",
    "    scoring=METRICS,\n",
    "    cv=cv,\n",
    "    n_jobs=-1,\n",
    "    return_train_score=True,\n",
    "    return_estimator=True,\n",
    "    return_indices=True,\n",
    ")\n",
    "print(\"Blocking Time Series Split:\")\n",
    "print(f\"Repeats: {repeats}\")\n",
    "print(f\"n_splits: {n_splits}\")\n",
    "print()\n",
    "print_scores(scores, METRICS, METRICS_DICT)\n",
    "\n",
    "results_dict_copy = results_dict.copy()\n",
    "results_dict_copy[\"Cross Validation\"] = \"Blocking Time Series Split\"\n",
    "results_dict_copy[\n",
    "    \"Cross Validation Params\"\n",
    "] = '{\"N_Splits\": 5, \"Repeats\": 1, \"train_size\": 0.8}'\n",
    "results_dict_copy[\"Data Shape\"] = x.shape\n",
    "df_results = fill_results_dict(results_dict_copy, scores)\n",
    "results_to_save.append(df_results)"
   ]
  },
  {
   "cell_type": "markdown",
   "id": "f0d6c9af",
   "metadata": {},
   "source": [
    "## Plotting the Predictions"
   ]
  },
  {
   "cell_type": "code",
   "execution_count": 11,
   "id": "f3f3a343",
   "metadata": {},
   "outputs": [
    {
     "data": {
      "application/javascript": [
       "\n",
       "            setTimeout(function() {\n",
       "                var nbb_cell_id = 11;\n",
       "                var nbb_unformatted_code = \"df_pred = pd.DataFrame()\\ndf_pred[\\\"DATE\\\"] = dates.copy()\\ndf_pred[\\\"CS28\\\"] = y.copy()\\ndf_pred[\\\"CS28_PRED\\\"] = np.nan\\ndf_pred[\\\"SET\\\"] = \\\"\\\"\\ndf_pred[\\\"CEMENT_TYPE\\\"] = df[\\\"Cement_Type\\\"].copy()\\ndf_pred[\\\"DATE\\\"] = pd.to_datetime(df_pred[\\\"DATE\\\"])\\n\\n\\nfor idx, pipeline in enumerate(scores[\\\"estimator\\\"]):\\n    index_train = scores[\\\"indices\\\"][\\\"train\\\"][idx]\\n    index_test = scores[\\\"indices\\\"][\\\"test\\\"][idx]\\n    index_preds = np.concatenate([index_train, index_test])\\n\\n    # results = scores[\\\"estimator\\\"][0].predict(x.loc[index_preds])\\n    results = pipeline.predict(x.loc[index_preds])\\n    df_pred.loc[index_preds, \\\"CS28_PRED\\\"] = results.copy()\\n    df_pred.loc[index_train, \\\"SET\\\"] = \\\"TRAIN\\\"\\n    df_pred.loc[index_test, \\\"SET\\\"] = \\\"TEST\\\"\\ndf_pred = df_pred.dropna()\";\n",
       "                var nbb_formatted_code = \"df_pred = pd.DataFrame()\\ndf_pred[\\\"DATE\\\"] = dates.copy()\\ndf_pred[\\\"CS28\\\"] = y.copy()\\ndf_pred[\\\"CS28_PRED\\\"] = np.nan\\ndf_pred[\\\"SET\\\"] = \\\"\\\"\\ndf_pred[\\\"CEMENT_TYPE\\\"] = df[\\\"Cement_Type\\\"].copy()\\ndf_pred[\\\"DATE\\\"] = pd.to_datetime(df_pred[\\\"DATE\\\"])\\n\\n\\nfor idx, pipeline in enumerate(scores[\\\"estimator\\\"]):\\n    index_train = scores[\\\"indices\\\"][\\\"train\\\"][idx]\\n    index_test = scores[\\\"indices\\\"][\\\"test\\\"][idx]\\n    index_preds = np.concatenate([index_train, index_test])\\n\\n    # results = scores[\\\"estimator\\\"][0].predict(x.loc[index_preds])\\n    results = pipeline.predict(x.loc[index_preds])\\n    df_pred.loc[index_preds, \\\"CS28_PRED\\\"] = results.copy()\\n    df_pred.loc[index_train, \\\"SET\\\"] = \\\"TRAIN\\\"\\n    df_pred.loc[index_test, \\\"SET\\\"] = \\\"TEST\\\"\\ndf_pred = df_pred.dropna()\";\n",
       "                var nbb_cells = Jupyter.notebook.get_cells();\n",
       "                for (var i = 0; i < nbb_cells.length; ++i) {\n",
       "                    if (nbb_cells[i].input_prompt_number == nbb_cell_id) {\n",
       "                        if (nbb_cells[i].get_text() == nbb_unformatted_code) {\n",
       "                             nbb_cells[i].set_text(nbb_formatted_code);\n",
       "                        }\n",
       "                        break;\n",
       "                    }\n",
       "                }\n",
       "            }, 500);\n",
       "            "
      ],
      "text/plain": [
       "<IPython.core.display.Javascript object>"
      ]
     },
     "metadata": {},
     "output_type": "display_data"
    }
   ],
   "source": [
    "df_pred = pd.DataFrame()\n",
    "df_pred[\"DATE\"] = dates.copy()\n",
    "df_pred[\"CS28\"] = y.copy()\n",
    "df_pred[\"CS28_PRED\"] = np.nan\n",
    "df_pred[\"SET\"] = \"\"\n",
    "df_pred[\"CEMENT_TYPE\"] = df[\"Cement_Type\"].copy()\n",
    "df_pred[\"DATE\"] = pd.to_datetime(df_pred[\"DATE\"])\n",
    "\n",
    "\n",
    "for idx, pipeline in enumerate(scores[\"estimator\"]):\n",
    "    index_train = scores[\"indices\"][\"train\"][idx]\n",
    "    index_test = scores[\"indices\"][\"test\"][idx]\n",
    "    index_preds = np.concatenate([index_train, index_test])\n",
    "\n",
    "    # results = scores[\"estimator\"][0].predict(x.loc[index_preds])\n",
    "    results = pipeline.predict(x.loc[index_preds])\n",
    "    df_pred.loc[index_preds, \"CS28_PRED\"] = results.copy()\n",
    "    df_pred.loc[index_train, \"SET\"] = \"TRAIN\"\n",
    "    df_pred.loc[index_test, \"SET\"] = \"TEST\"\n",
    "df_pred = df_pred.dropna()"
   ]
  },
  {
   "cell_type": "code",
   "execution_count": 12,
   "id": "ca36b5b0",
   "metadata": {},
   "outputs": [
    {
     "data": {
      "text/html": [
       "<div>\n",
       "<style scoped>\n",
       "    .dataframe tbody tr th:only-of-type {\n",
       "        vertical-align: middle;\n",
       "    }\n",
       "\n",
       "    .dataframe tbody tr th {\n",
       "        vertical-align: top;\n",
       "    }\n",
       "\n",
       "    .dataframe thead th {\n",
       "        text-align: right;\n",
       "    }\n",
       "</style>\n",
       "<table border=\"1\" class=\"dataframe\">\n",
       "  <thead>\n",
       "    <tr style=\"text-align: right;\">\n",
       "      <th></th>\n",
       "      <th>DATE</th>\n",
       "      <th>CS28</th>\n",
       "      <th>CS28_PRED</th>\n",
       "      <th>SET</th>\n",
       "    </tr>\n",
       "  </thead>\n",
       "  <tbody>\n",
       "    <tr>\n",
       "      <th>0</th>\n",
       "      <td>2020-01-02</td>\n",
       "      <td>39.2875</td>\n",
       "      <td>41.826452</td>\n",
       "      <td>TRAIN</td>\n",
       "    </tr>\n",
       "    <tr>\n",
       "      <th>1</th>\n",
       "      <td>2020-01-02</td>\n",
       "      <td>48.0475</td>\n",
       "      <td>47.026808</td>\n",
       "      <td>TRAIN</td>\n",
       "    </tr>\n",
       "    <tr>\n",
       "      <th>2</th>\n",
       "      <td>2020-01-04</td>\n",
       "      <td>49.3350</td>\n",
       "      <td>47.229111</td>\n",
       "      <td>TRAIN</td>\n",
       "    </tr>\n",
       "    <tr>\n",
       "      <th>3</th>\n",
       "      <td>2020-01-07</td>\n",
       "      <td>41.8425</td>\n",
       "      <td>42.362436</td>\n",
       "      <td>TRAIN</td>\n",
       "    </tr>\n",
       "    <tr>\n",
       "      <th>4</th>\n",
       "      <td>2020-01-07</td>\n",
       "      <td>47.3150</td>\n",
       "      <td>46.777544</td>\n",
       "      <td>TRAIN</td>\n",
       "    </tr>\n",
       "    <tr>\n",
       "      <th>...</th>\n",
       "      <td>...</td>\n",
       "      <td>...</td>\n",
       "      <td>...</td>\n",
       "      <td>...</td>\n",
       "    </tr>\n",
       "    <tr>\n",
       "      <th>1160</th>\n",
       "      <td>2023-02-16</td>\n",
       "      <td>39.9700</td>\n",
       "      <td>43.523938</td>\n",
       "      <td>TEST</td>\n",
       "    </tr>\n",
       "    <tr>\n",
       "      <th>1161</th>\n",
       "      <td>2023-02-18</td>\n",
       "      <td>40.2000</td>\n",
       "      <td>43.541960</td>\n",
       "      <td>TEST</td>\n",
       "    </tr>\n",
       "    <tr>\n",
       "      <th>1162</th>\n",
       "      <td>2023-02-20</td>\n",
       "      <td>38.5075</td>\n",
       "      <td>43.584072</td>\n",
       "      <td>TEST</td>\n",
       "    </tr>\n",
       "    <tr>\n",
       "      <th>1163</th>\n",
       "      <td>2023-02-21</td>\n",
       "      <td>41.0575</td>\n",
       "      <td>43.169865</td>\n",
       "      <td>TEST</td>\n",
       "    </tr>\n",
       "    <tr>\n",
       "      <th>1164</th>\n",
       "      <td>2023-02-22</td>\n",
       "      <td>39.4950</td>\n",
       "      <td>43.507420</td>\n",
       "      <td>TEST</td>\n",
       "    </tr>\n",
       "  </tbody>\n",
       "</table>\n",
       "<p>1165 rows × 4 columns</p>\n",
       "</div>"
      ],
      "text/plain": [
       "           DATE     CS28  CS28_PRED    SET\n",
       "0    2020-01-02  39.2875  41.826452  TRAIN\n",
       "1    2020-01-02  48.0475  47.026808  TRAIN\n",
       "2    2020-01-04  49.3350  47.229111  TRAIN\n",
       "3    2020-01-07  41.8425  42.362436  TRAIN\n",
       "4    2020-01-07  47.3150  46.777544  TRAIN\n",
       "...         ...      ...        ...    ...\n",
       "1160 2023-02-16  39.9700  43.523938   TEST\n",
       "1161 2023-02-18  40.2000  43.541960   TEST\n",
       "1162 2023-02-20  38.5075  43.584072   TEST\n",
       "1163 2023-02-21  41.0575  43.169865   TEST\n",
       "1164 2023-02-22  39.4950  43.507420   TEST\n",
       "\n",
       "[1165 rows x 4 columns]"
      ]
     },
     "execution_count": 12,
     "metadata": {},
     "output_type": "execute_result"
    },
    {
     "data": {
      "application/javascript": [
       "\n",
       "            setTimeout(function() {\n",
       "                var nbb_cell_id = 12;\n",
       "                var nbb_unformatted_code = \"df_pred[[\\\"DATE\\\", \\\"CS28\\\", \\\"CS28_PRED\\\", \\\"SET\\\"]]\";\n",
       "                var nbb_formatted_code = \"df_pred[[\\\"DATE\\\", \\\"CS28\\\", \\\"CS28_PRED\\\", \\\"SET\\\"]]\";\n",
       "                var nbb_cells = Jupyter.notebook.get_cells();\n",
       "                for (var i = 0; i < nbb_cells.length; ++i) {\n",
       "                    if (nbb_cells[i].input_prompt_number == nbb_cell_id) {\n",
       "                        if (nbb_cells[i].get_text() == nbb_unformatted_code) {\n",
       "                             nbb_cells[i].set_text(nbb_formatted_code);\n",
       "                        }\n",
       "                        break;\n",
       "                    }\n",
       "                }\n",
       "            }, 500);\n",
       "            "
      ],
      "text/plain": [
       "<IPython.core.display.Javascript object>"
      ]
     },
     "metadata": {},
     "output_type": "display_data"
    }
   ],
   "source": [
    "df_pred[[\"DATE\", \"CS28\", \"CS28_PRED\", \"SET\"]]"
   ]
  },
  {
   "cell_type": "code",
   "execution_count": 13,
   "id": "93198f93",
   "metadata": {},
   "outputs": [
    {
     "data": {
      "text/html": [
       "<div>\n",
       "<style scoped>\n",
       "    .dataframe tbody tr th:only-of-type {\n",
       "        vertical-align: middle;\n",
       "    }\n",
       "\n",
       "    .dataframe tbody tr th {\n",
       "        vertical-align: top;\n",
       "    }\n",
       "\n",
       "    .dataframe thead th {\n",
       "        text-align: right;\n",
       "    }\n",
       "</style>\n",
       "<table border=\"1\" class=\"dataframe\">\n",
       "  <thead>\n",
       "    <tr style=\"text-align: right;\">\n",
       "      <th></th>\n",
       "      <th>DATE</th>\n",
       "      <th>CS28</th>\n",
       "      <th>CS28_PRED</th>\n",
       "      <th>SET</th>\n",
       "      <th>CEMENT_TYPE</th>\n",
       "    </tr>\n",
       "  </thead>\n",
       "  <tbody>\n",
       "    <tr>\n",
       "      <th>0</th>\n",
       "      <td>2020-01-02</td>\n",
       "      <td>39.2875</td>\n",
       "      <td>41.826452</td>\n",
       "      <td>TRAIN</td>\n",
       "      <td>CPIV32RS</td>\n",
       "    </tr>\n",
       "    <tr>\n",
       "      <th>1</th>\n",
       "      <td>2020-01-02</td>\n",
       "      <td>48.0475</td>\n",
       "      <td>47.026808</td>\n",
       "      <td>TRAIN</td>\n",
       "      <td>CPVARI</td>\n",
       "    </tr>\n",
       "    <tr>\n",
       "      <th>2</th>\n",
       "      <td>2020-01-04</td>\n",
       "      <td>49.3350</td>\n",
       "      <td>47.229111</td>\n",
       "      <td>TRAIN</td>\n",
       "      <td>CPVARI</td>\n",
       "    </tr>\n",
       "    <tr>\n",
       "      <th>3</th>\n",
       "      <td>2020-01-07</td>\n",
       "      <td>41.8425</td>\n",
       "      <td>42.362436</td>\n",
       "      <td>TRAIN</td>\n",
       "      <td>CPIV32RS</td>\n",
       "    </tr>\n",
       "    <tr>\n",
       "      <th>4</th>\n",
       "      <td>2020-01-07</td>\n",
       "      <td>47.3150</td>\n",
       "      <td>46.777544</td>\n",
       "      <td>TRAIN</td>\n",
       "      <td>CPVARI</td>\n",
       "    </tr>\n",
       "    <tr>\n",
       "      <th>...</th>\n",
       "      <td>...</td>\n",
       "      <td>...</td>\n",
       "      <td>...</td>\n",
       "      <td>...</td>\n",
       "      <td>...</td>\n",
       "    </tr>\n",
       "    <tr>\n",
       "      <th>1160</th>\n",
       "      <td>2023-02-16</td>\n",
       "      <td>39.9700</td>\n",
       "      <td>43.523938</td>\n",
       "      <td>TEST</td>\n",
       "      <td>CPIV32RS</td>\n",
       "    </tr>\n",
       "    <tr>\n",
       "      <th>1161</th>\n",
       "      <td>2023-02-18</td>\n",
       "      <td>40.2000</td>\n",
       "      <td>43.541960</td>\n",
       "      <td>TEST</td>\n",
       "      <td>CPIV32RS</td>\n",
       "    </tr>\n",
       "    <tr>\n",
       "      <th>1162</th>\n",
       "      <td>2023-02-20</td>\n",
       "      <td>38.5075</td>\n",
       "      <td>43.584072</td>\n",
       "      <td>TEST</td>\n",
       "      <td>CPIV32RS</td>\n",
       "    </tr>\n",
       "    <tr>\n",
       "      <th>1163</th>\n",
       "      <td>2023-02-21</td>\n",
       "      <td>41.0575</td>\n",
       "      <td>43.169865</td>\n",
       "      <td>TEST</td>\n",
       "      <td>CPIV32RS</td>\n",
       "    </tr>\n",
       "    <tr>\n",
       "      <th>1164</th>\n",
       "      <td>2023-02-22</td>\n",
       "      <td>39.4950</td>\n",
       "      <td>43.507420</td>\n",
       "      <td>TEST</td>\n",
       "      <td>CPIV32RS</td>\n",
       "    </tr>\n",
       "  </tbody>\n",
       "</table>\n",
       "<p>1165 rows × 5 columns</p>\n",
       "</div>"
      ],
      "text/plain": [
       "           DATE     CS28  CS28_PRED    SET CEMENT_TYPE\n",
       "0    2020-01-02  39.2875  41.826452  TRAIN    CPIV32RS\n",
       "1    2020-01-02  48.0475  47.026808  TRAIN      CPVARI\n",
       "2    2020-01-04  49.3350  47.229111  TRAIN      CPVARI\n",
       "3    2020-01-07  41.8425  42.362436  TRAIN    CPIV32RS\n",
       "4    2020-01-07  47.3150  46.777544  TRAIN      CPVARI\n",
       "...         ...      ...        ...    ...         ...\n",
       "1160 2023-02-16  39.9700  43.523938   TEST    CPIV32RS\n",
       "1161 2023-02-18  40.2000  43.541960   TEST    CPIV32RS\n",
       "1162 2023-02-20  38.5075  43.584072   TEST    CPIV32RS\n",
       "1163 2023-02-21  41.0575  43.169865   TEST    CPIV32RS\n",
       "1164 2023-02-22  39.4950  43.507420   TEST    CPIV32RS\n",
       "\n",
       "[1165 rows x 5 columns]"
      ]
     },
     "execution_count": 13,
     "metadata": {},
     "output_type": "execute_result"
    },
    {
     "data": {
      "application/javascript": [
       "\n",
       "            setTimeout(function() {\n",
       "                var nbb_cell_id = 13;\n",
       "                var nbb_unformatted_code = \"df_pred\";\n",
       "                var nbb_formatted_code = \"df_pred\";\n",
       "                var nbb_cells = Jupyter.notebook.get_cells();\n",
       "                for (var i = 0; i < nbb_cells.length; ++i) {\n",
       "                    if (nbb_cells[i].input_prompt_number == nbb_cell_id) {\n",
       "                        if (nbb_cells[i].get_text() == nbb_unformatted_code) {\n",
       "                             nbb_cells[i].set_text(nbb_formatted_code);\n",
       "                        }\n",
       "                        break;\n",
       "                    }\n",
       "                }\n",
       "            }, 500);\n",
       "            "
      ],
      "text/plain": [
       "<IPython.core.display.Javascript object>"
      ]
     },
     "metadata": {},
     "output_type": "display_data"
    }
   ],
   "source": [
    "df_pred"
   ]
  },
  {
   "cell_type": "code",
   "execution_count": 14,
   "id": "84a96e5d",
   "metadata": {},
   "outputs": [
    {
     "data": {
      "application/javascript": [
       "\n",
       "            setTimeout(function() {\n",
       "                var nbb_cell_id = 14;\n",
       "                var nbb_unformatted_code = \"# df_copy_merge = df_copy.merge(df_pred, left_index=True, right_index=True, how=\\\"left\\\")\\n# df_copy_merge[\\\"COMPANY\\\"] = 209\\n# df_copy_merge[\\\"PLANT\\\"] = \\\"S\\\"\\n# for fold, (train_index, test_index) in enumerate(cv.split(x)):\\n#     df_copy_merge.loc[train_index, \\\"FOLD\\\"] = fold + 1\\n#     df_copy_merge.loc[test_index, \\\"FOLD\\\"] = fold + 1\\n# df_copy_merge[\\\"FOLD\\\"] = df_copy_merge[\\\"FOLD\\\"].astype(int)\\n# df_copy_merge.to_excel(\\\"local_model_linear_regression_btsscv_209_k.xlsx\\\", index=False)\\n# df_copy_merge.to_csv(\\\"local_model_linear_regression_btsscv_209_k.csv\\\", index=False)\";\n",
       "                var nbb_formatted_code = \"# df_copy_merge = df_copy.merge(df_pred, left_index=True, right_index=True, how=\\\"left\\\")\\n# df_copy_merge[\\\"COMPANY\\\"] = 209\\n# df_copy_merge[\\\"PLANT\\\"] = \\\"S\\\"\\n# for fold, (train_index, test_index) in enumerate(cv.split(x)):\\n#     df_copy_merge.loc[train_index, \\\"FOLD\\\"] = fold + 1\\n#     df_copy_merge.loc[test_index, \\\"FOLD\\\"] = fold + 1\\n# df_copy_merge[\\\"FOLD\\\"] = df_copy_merge[\\\"FOLD\\\"].astype(int)\\n# df_copy_merge.to_excel(\\\"local_model_linear_regression_btsscv_209_k.xlsx\\\", index=False)\\n# df_copy_merge.to_csv(\\\"local_model_linear_regression_btsscv_209_k.csv\\\", index=False)\";\n",
       "                var nbb_cells = Jupyter.notebook.get_cells();\n",
       "                for (var i = 0; i < nbb_cells.length; ++i) {\n",
       "                    if (nbb_cells[i].input_prompt_number == nbb_cell_id) {\n",
       "                        if (nbb_cells[i].get_text() == nbb_unformatted_code) {\n",
       "                             nbb_cells[i].set_text(nbb_formatted_code);\n",
       "                        }\n",
       "                        break;\n",
       "                    }\n",
       "                }\n",
       "            }, 500);\n",
       "            "
      ],
      "text/plain": [
       "<IPython.core.display.Javascript object>"
      ]
     },
     "metadata": {},
     "output_type": "display_data"
    }
   ],
   "source": [
    "# df_copy_merge = df_copy.merge(df_pred, left_index=True, right_index=True, how=\"left\")\n",
    "# df_copy_merge[\"COMPANY\"] = 209\n",
    "# df_copy_merge[\"PLANT\"] = \"S\"\n",
    "# for fold, (train_index, test_index) in enumerate(cv.split(x)):\n",
    "#     df_copy_merge.loc[train_index, \"FOLD\"] = fold + 1\n",
    "#     df_copy_merge.loc[test_index, \"FOLD\"] = fold + 1\n",
    "# df_copy_merge[\"FOLD\"] = df_copy_merge[\"FOLD\"].astype(int)\n",
    "# df_copy_merge.to_excel(\"local_model_linear_regression_btsscv_209_k.xlsx\", index=False)\n",
    "# df_copy_merge.to_csv(\"local_model_linear_regression_btsscv_209_k.csv\", index=False)"
   ]
  },
  {
   "cell_type": "code",
   "execution_count": 15,
   "id": "e1b1b18c",
   "metadata": {},
   "outputs": [
    {
     "data": {
      "application/javascript": [
       "\n",
       "            setTimeout(function() {\n",
       "                var nbb_cell_id = 15;\n",
       "                var nbb_unformatted_code = \"matplotlib.rc_file_defaults()\";\n",
       "                var nbb_formatted_code = \"matplotlib.rc_file_defaults()\";\n",
       "                var nbb_cells = Jupyter.notebook.get_cells();\n",
       "                for (var i = 0; i < nbb_cells.length; ++i) {\n",
       "                    if (nbb_cells[i].input_prompt_number == nbb_cell_id) {\n",
       "                        if (nbb_cells[i].get_text() == nbb_unformatted_code) {\n",
       "                             nbb_cells[i].set_text(nbb_formatted_code);\n",
       "                        }\n",
       "                        break;\n",
       "                    }\n",
       "                }\n",
       "            }, 500);\n",
       "            "
      ],
      "text/plain": [
       "<IPython.core.display.Javascript object>"
      ]
     },
     "metadata": {},
     "output_type": "display_data"
    }
   ],
   "source": [
    "matplotlib.rc_file_defaults()"
   ]
  },
  {
   "cell_type": "code",
   "execution_count": 16,
   "id": "de596d92",
   "metadata": {},
   "outputs": [
    {
     "data": {
      "image/png": "[encoded data removed]",
      "text/plain": [
       "<Figure size 600x600 with 1 Axes>"
      ]
     },
     "metadata": {},
     "output_type": "display_data"
    },
    {
     "data": {
      "application/javascript": [
       "\n",
       "            setTimeout(function() {\n",
       "                var nbb_cell_id = 16;\n",
       "                var nbb_unformatted_code = \"test_data = df_pred[df_pred[\\\"SET\\\"] == \\\"TEST\\\"]\\n\\nplt.figure(figsize=(6, 6))\\nplt.scatter(\\n    test_data[\\\"CS28\\\"], test_data[\\\"CS28_PRED\\\"], color=\\\"tomato\\\", alpha=0.7, label=\\\"Predicted\\\"\\n)\\nplt.plot(\\n    [test_data[\\\"CS28\\\"].min(), test_data[\\\"CS28\\\"].max()],\\n    [test_data[\\\"CS28\\\"].min(), test_data[\\\"CS28\\\"].max()],\\n    color=\\\"black\\\", linestyle=\\\"--\\\", linewidth=2,\\n)\\nplt.xlabel(\\\"Actual CS28 (MPa)\\\")\\nplt.ylabel(\\\"Predicted CS28 (MPa)\\\")\\nplt.title(\\\"Predicted vs Actual CS28\\\")\\nplt.legend()\\nplt.grid(True)\\nplt.gca().spines[\\\"top\\\"].set_visible(False)\\nplt.gca().spines[\\\"right\\\"].set_visible(False)\\n\\nplt.savefig(\\\"ecics_206_b_local_cm_p_btiss_top_scpm_pred_vs_actual_cs28.png\\\", dpi=300, bbox_inches='tight')\\nplt.show()\";\n",
       "                var nbb_formatted_code = \"test_data = df_pred[df_pred[\\\"SET\\\"] == \\\"TEST\\\"]\\n\\nplt.figure(figsize=(6, 6))\\nplt.scatter(\\n    test_data[\\\"CS28\\\"],\\n    test_data[\\\"CS28_PRED\\\"],\\n    color=\\\"tomato\\\",\\n    alpha=0.7,\\n    label=\\\"Predicted\\\",\\n)\\nplt.plot(\\n    [test_data[\\\"CS28\\\"].min(), test_data[\\\"CS28\\\"].max()],\\n    [test_data[\\\"CS28\\\"].min(), test_data[\\\"CS28\\\"].max()],\\n    color=\\\"black\\\",\\n    linestyle=\\\"--\\\",\\n    linewidth=2,\\n)\\nplt.xlabel(\\\"Actual CS28 (MPa)\\\")\\nplt.ylabel(\\\"Predicted CS28 (MPa)\\\")\\nplt.title(\\\"Predicted vs Actual CS28\\\")\\nplt.legend()\\nplt.grid(True)\\nplt.gca().spines[\\\"top\\\"].set_visible(False)\\nplt.gca().spines[\\\"right\\\"].set_visible(False)\\n\\nplt.savefig(\\n    \\\"ecics_206_b_local_cm_p_btiss_top_scpm_pred_vs_actual_cs28.png\\\",\\n    dpi=300,\\n    bbox_inches=\\\"tight\\\",\\n)\\nplt.show()\";\n",
       "                var nbb_cells = Jupyter.notebook.get_cells();\n",
       "                for (var i = 0; i < nbb_cells.length; ++i) {\n",
       "                    if (nbb_cells[i].input_prompt_number == nbb_cell_id) {\n",
       "                        if (nbb_cells[i].get_text() == nbb_unformatted_code) {\n",
       "                             nbb_cells[i].set_text(nbb_formatted_code);\n",
       "                        }\n",
       "                        break;\n",
       "                    }\n",
       "                }\n",
       "            }, 500);\n",
       "            "
      ],
      "text/plain": [
       "<IPython.core.display.Javascript object>"
      ]
     },
     "metadata": {},
     "output_type": "display_data"
    }
   ],
   "source": [
    "test_data = df_pred[df_pred[\"SET\"] == \"TEST\"]\n",
    "\n",
    "plt.figure(figsize=(6, 6))\n",
    "plt.scatter(\n",
    "    test_data[\"CS28\"], test_data[\"CS28_PRED\"], color=\"tomato\", alpha=0.7, label=\"Predicted\"\n",
    ")\n",
    "plt.plot(\n",
    "    [test_data[\"CS28\"].min(), test_data[\"CS28\"].max()],\n",
    "    [test_data[\"CS28\"].min(), test_data[\"CS28\"].max()],\n",
    "    color=\"black\", linestyle=\"--\", linewidth=2,\n",
    ")\n",
    "plt.xlabel(\"Actual CS28 (MPa)\")\n",
    "plt.ylabel(\"Predicted CS28 (MPa)\")\n",
    "plt.title(\"Predicted vs Actual CS28\")\n",
    "plt.legend()\n",
    "plt.grid(True)\n",
    "plt.gca().spines[\"top\"].set_visible(False)\n",
    "plt.gca().spines[\"right\"].set_visible(False)\n",
    "\n",
    "plt.savefig(\"ecics_206_b_local_cm_p_btiss_top_scpm_pred_vs_actual_cs28.png\", dpi=300, bbox_inches='tight')\n",
    "plt.show()\n"
   ]
  },
  {
   "cell_type": "code",
   "execution_count": 17,
   "id": "2ad169b2",
   "metadata": {
    "scrolled": false
   },
   "outputs": [
    {
     "data": {
      "text/plain": [
       "Cement_Type\n",
       "CPVARI      598\n",
       "CPIV32RS    571\n",
       "Name: count, dtype: int64"
      ]
     },
     "execution_count": 17,
     "metadata": {},
     "output_type": "execute_result"
    },
    {
     "data": {
      "application/javascript": [
       "\n",
       "            setTimeout(function() {\n",
       "                var nbb_cell_id = 17;\n",
       "                var nbb_unformatted_code = \"df[\\\"Cement_Type\\\"].value_counts()\";\n",
       "                var nbb_formatted_code = \"df[\\\"Cement_Type\\\"].value_counts()\";\n",
       "                var nbb_cells = Jupyter.notebook.get_cells();\n",
       "                for (var i = 0; i < nbb_cells.length; ++i) {\n",
       "                    if (nbb_cells[i].input_prompt_number == nbb_cell_id) {\n",
       "                        if (nbb_cells[i].get_text() == nbb_unformatted_code) {\n",
       "                             nbb_cells[i].set_text(nbb_formatted_code);\n",
       "                        }\n",
       "                        break;\n",
       "                    }\n",
       "                }\n",
       "            }, 500);\n",
       "            "
      ],
      "text/plain": [
       "<IPython.core.display.Javascript object>"
      ]
     },
     "metadata": {},
     "output_type": "display_data"
    }
   ],
   "source": [
    "df[\"Cement_Type\"].value_counts()"
   ]
  },
  {
   "cell_type": "code",
   "execution_count": 18,
   "id": "4c054183",
   "metadata": {},
   "outputs": [
    {
     "data": {
      "image/png": "[encoded data removed]",
      "text/plain": [
       "<Figure size 1000x600 with 1 Axes>"
      ]
     },
     "metadata": {},
     "output_type": "display_data"
    },
    {
     "data": {
      "application/javascript": [
       "\n",
       "            setTimeout(function() {\n",
       "                var nbb_cell_id = 18;\n",
       "                var nbb_unformatted_code = \"plt.figure(figsize=(10, 6))\\nplt.plot(\\n    test_data[\\\"DATE\\\"],\\n    test_data[\\\"CS28\\\"],\\n    color=\\\"dodgerblue\\\",\\n    alpha=0.7,\\n    marker=\\\"o\\\",\\n    linestyle=\\\"none\\\",\\n    label=\\\"Actual CS28\\\",\\n)\\nplt.plot(\\n    test_data[\\\"DATE\\\"],\\n    test_data[\\\"CS28_PRED\\\"],\\n    color=\\\"tomato\\\",\\n    alpha=0.7,\\n    marker=\\\"o\\\",\\n    linestyle=\\\"none\\\",\\n    label=\\\"Predicted CS28\\\",\\n)\\nplt.xlabel(\\\"Date\\\")\\nplt.ylabel(\\\"CS28 (MPa)\\\")\\nplt.title(\\\"Actual vs Predicted CS28\\\")\\nplt.legend(loc=\\\"best\\\")\\nplt.grid(True)\\n\\nplt.gca().spines[\\\"top\\\"].set_visible(False)\\nplt.gca().spines[\\\"right\\\"].set_visible(False)\\n\\nplt.savefig(\\n    \\\"ecics_206_b_local_cm_p_btiss_top_scpm_pred_vs_actual_cs28_over_time.png\\\",\\n    dpi=300,\\n    bbox_inches=\\\"tight\\\",\\n)\\n\\nplt.show()\";\n",
       "                var nbb_formatted_code = \"plt.figure(figsize=(10, 6))\\nplt.plot(\\n    test_data[\\\"DATE\\\"],\\n    test_data[\\\"CS28\\\"],\\n    color=\\\"dodgerblue\\\",\\n    alpha=0.7,\\n    marker=\\\"o\\\",\\n    linestyle=\\\"none\\\",\\n    label=\\\"Actual CS28\\\",\\n)\\nplt.plot(\\n    test_data[\\\"DATE\\\"],\\n    test_data[\\\"CS28_PRED\\\"],\\n    color=\\\"tomato\\\",\\n    alpha=0.7,\\n    marker=\\\"o\\\",\\n    linestyle=\\\"none\\\",\\n    label=\\\"Predicted CS28\\\",\\n)\\nplt.xlabel(\\\"Date\\\")\\nplt.ylabel(\\\"CS28 (MPa)\\\")\\nplt.title(\\\"Actual vs Predicted CS28\\\")\\nplt.legend(loc=\\\"best\\\")\\nplt.grid(True)\\n\\nplt.gca().spines[\\\"top\\\"].set_visible(False)\\nplt.gca().spines[\\\"right\\\"].set_visible(False)\\n\\nplt.savefig(\\n    \\\"ecics_206_b_local_cm_p_btiss_top_scpm_pred_vs_actual_cs28_over_time.png\\\",\\n    dpi=300,\\n    bbox_inches=\\\"tight\\\",\\n)\\n\\nplt.show()\";\n",
       "                var nbb_cells = Jupyter.notebook.get_cells();\n",
       "                for (var i = 0; i < nbb_cells.length; ++i) {\n",
       "                    if (nbb_cells[i].input_prompt_number == nbb_cell_id) {\n",
       "                        if (nbb_cells[i].get_text() == nbb_unformatted_code) {\n",
       "                             nbb_cells[i].set_text(nbb_formatted_code);\n",
       "                        }\n",
       "                        break;\n",
       "                    }\n",
       "                }\n",
       "            }, 500);\n",
       "            "
      ],
      "text/plain": [
       "<IPython.core.display.Javascript object>"
      ]
     },
     "metadata": {},
     "output_type": "display_data"
    }
   ],
   "source": [
    "plt.figure(figsize=(10, 6))\n",
    "plt.plot(\n",
    "    test_data[\"DATE\"],\n",
    "    test_data[\"CS28\"],\n",
    "    color=\"dodgerblue\",\n",
    "    alpha=0.7,\n",
    "    marker=\"o\",\n",
    "    linestyle=\"none\",\n",
    "    label=\"Actual CS28\",\n",
    ")\n",
    "plt.plot(\n",
    "    test_data[\"DATE\"],\n",
    "    test_data[\"CS28_PRED\"],\n",
    "    color=\"tomato\",\n",
    "    alpha=0.7,\n",
    "    marker=\"o\",\n",
    "    linestyle=\"none\",\n",
    "    label=\"Predicted CS28\",\n",
    ")\n",
    "plt.xlabel(\"Date\")\n",
    "plt.ylabel(\"CS28 (MPa)\")\n",
    "plt.title(\"Actual vs Predicted CS28\")\n",
    "plt.legend(loc=\"best\")\n",
    "plt.grid(True)\n",
    "\n",
    "plt.gca().spines[\"top\"].set_visible(False)\n",
    "plt.gca().spines[\"right\"].set_visible(False)\n",
    "\n",
    "plt.savefig(\n",
    "    \"ecics_206_b_local_cm_p_btiss_top_scpm_pred_vs_actual_cs28_over_time.png\",\n",
    "    dpi=300,\n",
    "    bbox_inches=\"tight\",\n",
    ")\n",
    "\n",
    "plt.show()\n"
   ]
  },
  {
   "cell_type": "markdown",
   "id": "9f23fcf7",
   "metadata": {},
   "source": [
    "## Assessing Feature Importance"
   ]
  },
  {
   "cell_type": "code",
   "execution_count": 19,
   "id": "830c5acd",
   "metadata": {},
   "outputs": [
    {
     "data": {
      "application/javascript": [
       "\n",
       "            setTimeout(function() {\n",
       "                var nbb_cell_id = 19;\n",
       "                var nbb_unformatted_code = \"df_coefs, df_bias = get_linreg_df_importances(scores)\\ndf_importances = df_coefs\";\n",
       "                var nbb_formatted_code = \"df_coefs, df_bias = get_linreg_df_importances(scores)\\ndf_importances = df_coefs\";\n",
       "                var nbb_cells = Jupyter.notebook.get_cells();\n",
       "                for (var i = 0; i < nbb_cells.length; ++i) {\n",
       "                    if (nbb_cells[i].input_prompt_number == nbb_cell_id) {\n",
       "                        if (nbb_cells[i].get_text() == nbb_unformatted_code) {\n",
       "                             nbb_cells[i].set_text(nbb_formatted_code);\n",
       "                        }\n",
       "                        break;\n",
       "                    }\n",
       "                }\n",
       "            }, 500);\n",
       "            "
      ],
      "text/plain": [
       "<IPython.core.display.Javascript object>"
      ]
     },
     "metadata": {},
     "output_type": "display_data"
    }
   ],
   "source": [
    "df_coefs, df_bias = get_linreg_df_importances(scores)\n",
    "df_importances = df_coefs"
   ]
  },
  {
   "cell_type": "code",
   "execution_count": 20,
   "id": "d6445c3f",
   "metadata": {},
   "outputs": [
    {
     "data": {
      "text/html": [
       "<div>\n",
       "<style scoped>\n",
       "    .dataframe tbody tr th:only-of-type {\n",
       "        vertical-align: middle;\n",
       "    }\n",
       "\n",
       "    .dataframe tbody tr th {\n",
       "        vertical-align: top;\n",
       "    }\n",
       "\n",
       "    .dataframe thead th {\n",
       "        text-align: right;\n",
       "    }\n",
       "</style>\n",
       "<table border=\"1\" class=\"dataframe\">\n",
       "  <thead>\n",
       "    <tr style=\"text-align: right;\">\n",
       "      <th></th>\n",
       "      <th>MgO</th>\n",
       "      <th>SO3</th>\n",
       "      <th>Loss on Ignition</th>\n",
       "      <th>Insoluble Residue</th>\n",
       "      <th>Blaine</th>\n",
       "      <th>#200</th>\n",
       "      <th>#325</th>\n",
       "      <th>Initial setting time</th>\n",
       "      <th>Final setting time</th>\n",
       "    </tr>\n",
       "  </thead>\n",
       "  <tbody>\n",
       "    <tr>\n",
       "      <th>Coefficients - 0</th>\n",
       "      <td>0.310392</td>\n",
       "      <td>-0.313797</td>\n",
       "      <td>-0.931809</td>\n",
       "      <td>-2.169346</td>\n",
       "      <td>1.048414</td>\n",
       "      <td>0.407709</td>\n",
       "      <td>-1.375560</td>\n",
       "      <td>0.199340</td>\n",
       "      <td>-0.232703</td>\n",
       "    </tr>\n",
       "    <tr>\n",
       "      <th>Coefficients - 1</th>\n",
       "      <td>-0.612306</td>\n",
       "      <td>-0.095128</td>\n",
       "      <td>-0.366975</td>\n",
       "      <td>-1.222273</td>\n",
       "      <td>-0.253102</td>\n",
       "      <td>0.086993</td>\n",
       "      <td>-1.210802</td>\n",
       "      <td>0.096162</td>\n",
       "      <td>-0.142696</td>\n",
       "    </tr>\n",
       "    <tr>\n",
       "      <th>Coefficients - 2</th>\n",
       "      <td>-0.148434</td>\n",
       "      <td>-0.049672</td>\n",
       "      <td>-0.705405</td>\n",
       "      <td>-0.418723</td>\n",
       "      <td>-0.363767</td>\n",
       "      <td>0.190407</td>\n",
       "      <td>-0.903717</td>\n",
       "      <td>-0.117328</td>\n",
       "      <td>-0.154268</td>\n",
       "    </tr>\n",
       "    <tr>\n",
       "      <th>Coefficients - 3</th>\n",
       "      <td>0.086029</td>\n",
       "      <td>-0.016711</td>\n",
       "      <td>0.741865</td>\n",
       "      <td>-2.188798</td>\n",
       "      <td>1.203531</td>\n",
       "      <td>1.097054</td>\n",
       "      <td>-2.259893</td>\n",
       "      <td>0.182054</td>\n",
       "      <td>-0.262012</td>\n",
       "    </tr>\n",
       "    <tr>\n",
       "      <th>Coefficients - 4</th>\n",
       "      <td>-0.297808</td>\n",
       "      <td>-0.056067</td>\n",
       "      <td>0.271984</td>\n",
       "      <td>-0.770114</td>\n",
       "      <td>1.309964</td>\n",
       "      <td>-0.153755</td>\n",
       "      <td>-3.195645</td>\n",
       "      <td>0.413418</td>\n",
       "      <td>-0.050137</td>\n",
       "    </tr>\n",
       "  </tbody>\n",
       "</table>\n",
       "</div>"
      ],
      "text/plain": [
       "                       MgO       SO3  Loss on Ignition  Insoluble Residue  \\\n",
       "Coefficients - 0  0.310392 -0.313797         -0.931809          -2.169346   \n",
       "Coefficients - 1 -0.612306 -0.095128         -0.366975          -1.222273   \n",
       "Coefficients - 2 -0.148434 -0.049672         -0.705405          -0.418723   \n",
       "Coefficients - 3  0.086029 -0.016711          0.741865          -2.188798   \n",
       "Coefficients - 4 -0.297808 -0.056067          0.271984          -0.770114   \n",
       "\n",
       "                    Blaine      #200      #325  Initial setting time  \\\n",
       "Coefficients - 0  1.048414  0.407709 -1.375560              0.199340   \n",
       "Coefficients - 1 -0.253102  0.086993 -1.210802              0.096162   \n",
       "Coefficients - 2 -0.363767  0.190407 -0.903717             -0.117328   \n",
       "Coefficients - 3  1.203531  1.097054 -2.259893              0.182054   \n",
       "Coefficients - 4  1.309964 -0.153755 -3.195645              0.413418   \n",
       "\n",
       "                  Final setting time  \n",
       "Coefficients - 0           -0.232703  \n",
       "Coefficients - 1           -0.142696  \n",
       "Coefficients - 2           -0.154268  \n",
       "Coefficients - 3           -0.262012  \n",
       "Coefficients - 4           -0.050137  "
      ]
     },
     "execution_count": 20,
     "metadata": {},
     "output_type": "execute_result"
    },
    {
     "data": {
      "application/javascript": [
       "\n",
       "            setTimeout(function() {\n",
       "                var nbb_cell_id = 20;\n",
       "                var nbb_unformatted_code = \"df_importances\";\n",
       "                var nbb_formatted_code = \"df_importances\";\n",
       "                var nbb_cells = Jupyter.notebook.get_cells();\n",
       "                for (var i = 0; i < nbb_cells.length; ++i) {\n",
       "                    if (nbb_cells[i].input_prompt_number == nbb_cell_id) {\n",
       "                        if (nbb_cells[i].get_text() == nbb_unformatted_code) {\n",
       "                             nbb_cells[i].set_text(nbb_formatted_code);\n",
       "                        }\n",
       "                        break;\n",
       "                    }\n",
       "                }\n",
       "            }, 500);\n",
       "            "
      ],
      "text/plain": [
       "<IPython.core.display.Javascript object>"
      ]
     },
     "metadata": {},
     "output_type": "display_data"
    }
   ],
   "source": [
    "df_importances"
   ]
  },
  {
   "cell_type": "code",
   "execution_count": 21,
   "id": "fb3b94ca",
   "metadata": {},
   "outputs": [
    {
     "data": {
      "image/png": "[encoded data removed]",
      "text/plain": [
       "<Figure size 1000x550 with 1 Axes>"
      ]
     },
     "metadata": {},
     "output_type": "display_data"
    },
    {
     "data": {
      "application/javascript": [
       "\n",
       "            setTimeout(function() {\n",
       "                var nbb_cell_id = 21;\n",
       "                var nbb_unformatted_code = \"df_importances.mean(axis=0).sort_values().plot(\\n    kind=\\\"barh\\\", figsize=(10, 5.5), color=\\\"steelblue\\\"  # Consider using 'steelblue'\\n)\\nplt.title(\\\"Linear Regression Variable Relevance\\\")\\nplt.xlabel(\\\"Variable Relevance (Coefficient)\\\")\\nplt.grid(axis=\\\"x\\\", linestyle=\\\"--\\\", alpha=0.7)\\nplt.gca().spines[\\\"top\\\"].set_visible(False)\\nplt.gca().spines[\\\"right\\\"].set_visible(False)\\nplt.tight_layout()\\nplt.subplots_adjust(left=0.3)\\nplt.show()\";\n",
       "                var nbb_formatted_code = \"df_importances.mean(axis=0).sort_values().plot(\\n    kind=\\\"barh\\\", figsize=(10, 5.5), color=\\\"steelblue\\\"  # Consider using 'steelblue'\\n)\\nplt.title(\\\"Linear Regression Variable Relevance\\\")\\nplt.xlabel(\\\"Variable Relevance (Coefficient)\\\")\\nplt.grid(axis=\\\"x\\\", linestyle=\\\"--\\\", alpha=0.7)\\nplt.gca().spines[\\\"top\\\"].set_visible(False)\\nplt.gca().spines[\\\"right\\\"].set_visible(False)\\nplt.tight_layout()\\nplt.subplots_adjust(left=0.3)\\nplt.show()\";\n",
       "                var nbb_cells = Jupyter.notebook.get_cells();\n",
       "                for (var i = 0; i < nbb_cells.length; ++i) {\n",
       "                    if (nbb_cells[i].input_prompt_number == nbb_cell_id) {\n",
       "                        if (nbb_cells[i].get_text() == nbb_unformatted_code) {\n",
       "                             nbb_cells[i].set_text(nbb_formatted_code);\n",
       "                        }\n",
       "                        break;\n",
       "                    }\n",
       "                }\n",
       "            }, 500);\n",
       "            "
      ],
      "text/plain": [
       "<IPython.core.display.Javascript object>"
      ]
     },
     "metadata": {},
     "output_type": "display_data"
    }
   ],
   "source": [
    "df_importances.mean(axis=0).sort_values().plot(\n",
    "    kind=\"barh\", figsize=(10, 5.5), color=\"steelblue\"  # Consider using 'steelblue'\n",
    ")\n",
    "plt.title(\"Linear Regression Variable Relevance\")\n",
    "plt.xlabel(\"Variable Relevance (Coefficient)\")\n",
    "plt.grid(axis=\"x\", linestyle=\"--\", alpha=0.7)\n",
    "plt.gca().spines[\"top\"].set_visible(False)\n",
    "plt.gca().spines[\"right\"].set_visible(False)\n",
    "plt.tight_layout()\n",
    "plt.subplots_adjust(left=0.3)\n",
    "plt.show()"
   ]
  },
  {
   "cell_type": "code",
   "execution_count": 22,
   "id": "510a3cc1",
   "metadata": {},
   "outputs": [
    {
     "data": {
      "application/javascript": [
       "\n",
       "            setTimeout(function() {\n",
       "                var nbb_cell_id = 22;\n",
       "                var nbb_unformatted_code = \"warnings.filterwarnings(\\\"ignore\\\")\";\n",
       "                var nbb_formatted_code = \"warnings.filterwarnings(\\\"ignore\\\")\";\n",
       "                var nbb_cells = Jupyter.notebook.get_cells();\n",
       "                for (var i = 0; i < nbb_cells.length; ++i) {\n",
       "                    if (nbb_cells[i].input_prompt_number == nbb_cell_id) {\n",
       "                        if (nbb_cells[i].get_text() == nbb_unformatted_code) {\n",
       "                             nbb_cells[i].set_text(nbb_formatted_code);\n",
       "                        }\n",
       "                        break;\n",
       "                    }\n",
       "                }\n",
       "            }, 500);\n",
       "            "
      ],
      "text/plain": [
       "<IPython.core.display.Javascript object>"
      ]
     },
     "metadata": {},
     "output_type": "display_data"
    }
   ],
   "source": [
    "warnings.filterwarnings(\"ignore\")"
   ]
  },
  {
   "cell_type": "code",
   "execution_count": 23,
   "id": "a37b5600",
   "metadata": {},
   "outputs": [
    {
     "data": {
      "image/png": "[encoded data removed]",
      "text/plain": [
       "<Figure size 1000x650 with 1 Axes>"
      ]
     },
     "metadata": {},
     "output_type": "display_data"
    },
    {
     "data": {
      "application/javascript": [
       "\n",
       "            setTimeout(function() {\n",
       "                var nbb_cell_id = 23;\n",
       "                var nbb_unformatted_code = \"# Calculate the means of the importance scores\\nmean_importances = df_importances.mean()\\n\\n# Sort the features by their mean relevance\\nsorted_features = mean_importances.sort_values()\\n\\n# Re-order the DataFrame according to the sorted features\\ndf_importances_sorted = df_importances[sorted_features.index]\\n\\n# Backup the original backend\\noriginal_backend = plt.get_backend()\\n\\n# Use Matplotlib's default backend\\n# plt.switch_backend(\\\"agg\\\")  # or any backend you prefer\\n\\n# Update font settings to default\\nplt.rcParams.update(\\n    {\\n        \\\"font.family\\\": \\\"sans-serif\\\",\\n        \\\"font.sans-serif\\\": [\\\"DejaVu Sans\\\"],\\n        \\\"font.size\\\": 10,\\n        \\\"text.usetex\\\": False,  # Use MathText, not LaTeX\\n    }\\n)\\n\\n\\n# Convert chemical formulas using MathText syntax\\ndf_importances_sorted_plot = df_importances_sorted.rename(\\n    columns={\\n        \\\"Alpha C2S\\\": r\\\"Alpha $\\\\mathrm{C_2S}$\\\",\\n        \\\"Beta C2S\\\": r\\\"Beta $\\\\mathrm{C_2S}$\\\",\\n        \\\"Gamma C2S\\\": r\\\"Gamma $\\\\mathrm{C_2S}$\\\",\\n        \\\"Cubic C3A\\\": r\\\"Cubic $\\\\mathrm{C_3A}$\\\",\\n        \\\"Orthorhombic C3A\\\": r\\\"Orthorhombic $\\\\mathrm{C_3A}$\\\",\\n        \\\"K2O\\\": r\\\"$\\\\mathrm{K_2O}$\\\",\\n        \\\"Free CaO\\\": r\\\"Free $\\\\mathrm{CaO}$\\\",\\n        \\\"Total C2S\\\": r\\\"Total $\\\\mathrm{C_2S}$\\\",\\n        \\\"Na2O\\\": r\\\"$\\\\mathrm{Na_2O}$\\\",\\n        \\\"CaO\\\": r\\\"$\\\\mathrm{CaO}$\\\",\\n        \\\"SiO2\\\": r\\\"$\\\\mathrm{SiO_2}$\\\",\\n        \\\"MgO\\\": r\\\"$\\\\mathrm{MgO}$\\\",\\n        \\\"Fe2O3\\\": r\\\"$\\\\mathrm{Fe_2O_3}$\\\",\\n        \\\"Al2O3\\\": r\\\"$\\\\mathrm{Al_2O_3}$\\\",\\n        \\\"Total C3S\\\": r\\\"Total $\\\\mathrm{C_3S}$\\\",\\n        \\\"C3A\\\": r\\\"$\\\\mathrm{C_3A}$\\\",\\n        \\\"C4AF\\\": r\\\"$\\\\mathrm{C_4AF}$\\\",\\n        \\\"LOI\\\": \\\"LOI\\\",\\n        \\\"SO3\\\": r\\\"$\\\\mathrm{SO_3}$\\\",\\n        \\\"Insoluble Residue\\\": \\\"IR\\\",\\n        \\\"Loss on Ignition\\\": \\\"LOI\\\",\\n    }\\n)\\n\\nplt.figure(figsize=(10, 6.5))\\nsns.boxplot(\\n    data=df_importances_sorted_plot,\\n    orient=\\\"h\\\",\\n    color=\\\"lightsteelblue\\\",\\n    saturation=1,\\n    showmeans=True,\\n)\\nsns.despine(trim=True, left=False)\\nplt.xlabel(\\\"Relevance (Coefficient)\\\")\\nplt.title(\\\"Variable Relevance Distribution\\\")\\nplt.grid(axis=\\\"x\\\", linestyle=\\\"--\\\", alpha=0.7)\\nplt.subplots_adjust(left=0.3)\\n\\nplt.savefig(\\n    \\\"ecics_206_b_local_cm_p_btiss_top_scpm_dist_var_coef_relevance.png\\\",\\n    dpi=300,\\n    bbox_inches=\\\"tight\\\",\\n)\\n\\nplt.show()\\n\\n\\n# Step 3: Reset all rcParams to their default values\\nmatplotlib.rcParams.update(matplotlib.rcParamsDefault)\\nplt.rcdefaults()\\n\\n# Switch back to the original backend\\nplt.switch_backend(original_backend)\";\n",
       "                var nbb_formatted_code = \"# Calculate the means of the importance scores\\nmean_importances = df_importances.mean()\\n\\n# Sort the features by their mean relevance\\nsorted_features = mean_importances.sort_values()\\n\\n# Re-order the DataFrame according to the sorted features\\ndf_importances_sorted = df_importances[sorted_features.index]\\n\\n# Backup the original backend\\noriginal_backend = plt.get_backend()\\n\\n# Use Matplotlib's default backend\\n# plt.switch_backend(\\\"agg\\\")  # or any backend you prefer\\n\\n# Update font settings to default\\nplt.rcParams.update(\\n    {\\n        \\\"font.family\\\": \\\"sans-serif\\\",\\n        \\\"font.sans-serif\\\": [\\\"DejaVu Sans\\\"],\\n        \\\"font.size\\\": 10,\\n        \\\"text.usetex\\\": False,  # Use MathText, not LaTeX\\n    }\\n)\\n\\n\\n# Convert chemical formulas using MathText syntax\\ndf_importances_sorted_plot = df_importances_sorted.rename(\\n    columns={\\n        \\\"Alpha C2S\\\": r\\\"Alpha $\\\\mathrm{C_2S}$\\\",\\n        \\\"Beta C2S\\\": r\\\"Beta $\\\\mathrm{C_2S}$\\\",\\n        \\\"Gamma C2S\\\": r\\\"Gamma $\\\\mathrm{C_2S}$\\\",\\n        \\\"Cubic C3A\\\": r\\\"Cubic $\\\\mathrm{C_3A}$\\\",\\n        \\\"Orthorhombic C3A\\\": r\\\"Orthorhombic $\\\\mathrm{C_3A}$\\\",\\n        \\\"K2O\\\": r\\\"$\\\\mathrm{K_2O}$\\\",\\n        \\\"Free CaO\\\": r\\\"Free $\\\\mathrm{CaO}$\\\",\\n        \\\"Total C2S\\\": r\\\"Total $\\\\mathrm{C_2S}$\\\",\\n        \\\"Na2O\\\": r\\\"$\\\\mathrm{Na_2O}$\\\",\\n        \\\"CaO\\\": r\\\"$\\\\mathrm{CaO}$\\\",\\n        \\\"SiO2\\\": r\\\"$\\\\mathrm{SiO_2}$\\\",\\n        \\\"MgO\\\": r\\\"$\\\\mathrm{MgO}$\\\",\\n        \\\"Fe2O3\\\": r\\\"$\\\\mathrm{Fe_2O_3}$\\\",\\n        \\\"Al2O3\\\": r\\\"$\\\\mathrm{Al_2O_3}$\\\",\\n        \\\"Total C3S\\\": r\\\"Total $\\\\mathrm{C_3S}$\\\",\\n        \\\"C3A\\\": r\\\"$\\\\mathrm{C_3A}$\\\",\\n        \\\"C4AF\\\": r\\\"$\\\\mathrm{C_4AF}$\\\",\\n        \\\"LOI\\\": \\\"LOI\\\",\\n        \\\"SO3\\\": r\\\"$\\\\mathrm{SO_3}$\\\",\\n        \\\"Insoluble Residue\\\": \\\"IR\\\",\\n        \\\"Loss on Ignition\\\": \\\"LOI\\\",\\n    }\\n)\\n\\nplt.figure(figsize=(10, 6.5))\\nsns.boxplot(\\n    data=df_importances_sorted_plot,\\n    orient=\\\"h\\\",\\n    color=\\\"lightsteelblue\\\",\\n    saturation=1,\\n    showmeans=True,\\n)\\nsns.despine(trim=True, left=False)\\nplt.xlabel(\\\"Relevance (Coefficient)\\\")\\nplt.title(\\\"Variable Relevance Distribution\\\")\\nplt.grid(axis=\\\"x\\\", linestyle=\\\"--\\\", alpha=0.7)\\nplt.subplots_adjust(left=0.3)\\n\\nplt.savefig(\\n    \\\"ecics_206_b_local_cm_p_btiss_top_scpm_dist_var_coef_relevance.png\\\",\\n    dpi=300,\\n    bbox_inches=\\\"tight\\\",\\n)\\n\\nplt.show()\\n\\n\\n# Step 3: Reset all rcParams to their default values\\nmatplotlib.rcParams.update(matplotlib.rcParamsDefault)\\nplt.rcdefaults()\\n\\n# Switch back to the original backend\\nplt.switch_backend(original_backend)\";\n",
       "                var nbb_cells = Jupyter.notebook.get_cells();\n",
       "                for (var i = 0; i < nbb_cells.length; ++i) {\n",
       "                    if (nbb_cells[i].input_prompt_number == nbb_cell_id) {\n",
       "                        if (nbb_cells[i].get_text() == nbb_unformatted_code) {\n",
       "                             nbb_cells[i].set_text(nbb_formatted_code);\n",
       "                        }\n",
       "                        break;\n",
       "                    }\n",
       "                }\n",
       "            }, 500);\n",
       "            "
      ],
      "text/plain": [
       "<IPython.core.display.Javascript object>"
      ]
     },
     "metadata": {},
     "output_type": "display_data"
    }
   ],
   "source": [
    "# Calculate the means of the importance scores\n",
    "mean_importances = df_importances.mean()\n",
    "\n",
    "# Sort the features by their mean relevance\n",
    "sorted_features = mean_importances.sort_values()\n",
    "\n",
    "# Re-order the DataFrame according to the sorted features\n",
    "df_importances_sorted = df_importances[sorted_features.index]\n",
    "\n",
    "# Backup the original backend\n",
    "original_backend = plt.get_backend()\n",
    "\n",
    "# Use Matplotlib's default backend\n",
    "# plt.switch_backend(\"agg\")  # or any backend you prefer\n",
    "\n",
    "# Update font settings to default\n",
    "plt.rcParams.update(\n",
    "    {\n",
    "        \"font.family\": \"sans-serif\",\n",
    "        \"font.sans-serif\": [\"DejaVu Sans\"],\n",
    "        \"font.size\": 10,\n",
    "        \"text.usetex\": False,  # Use MathText, not LaTeX\n",
    "    }\n",
    ")\n",
    "\n",
    "\n",
    "# Convert chemical formulas using MathText syntax\n",
    "df_importances_sorted_plot = df_importances_sorted.rename(\n",
    "    columns={\n",
    "        \"Alpha C2S\": r\"Alpha $\\mathrm{C_2S}$\",\n",
    "        \"Beta C2S\": r\"Beta $\\mathrm{C_2S}$\",\n",
    "        \"Gamma C2S\": r\"Gamma $\\mathrm{C_2S}$\",\n",
    "        \"Cubic C3A\": r\"Cubic $\\mathrm{C_3A}$\",\n",
    "        \"Orthorhombic C3A\": r\"Orthorhombic $\\mathrm{C_3A}$\",\n",
    "        \"K2O\": r\"$\\mathrm{K_2O}$\",\n",
    "        \"Free CaO\": r\"Free $\\mathrm{CaO}$\",\n",
    "        \"Total C2S\": r\"Total $\\mathrm{C_2S}$\",\n",
    "        \"Na2O\": r\"$\\mathrm{Na_2O}$\",\n",
    "        \"CaO\": r\"$\\mathrm{CaO}$\",\n",
    "        \"SiO2\": r\"$\\mathrm{SiO_2}$\",\n",
    "        \"MgO\": r\"$\\mathrm{MgO}$\",\n",
    "        \"Fe2O3\": r\"$\\mathrm{Fe_2O_3}$\",\n",
    "        \"Al2O3\": r\"$\\mathrm{Al_2O_3}$\",\n",
    "        \"Total C3S\": r\"Total $\\mathrm{C_3S}$\",\n",
    "        \"C3A\": r\"$\\mathrm{C_3A}$\",\n",
    "        \"C4AF\": r\"$\\mathrm{C_4AF}$\",\n",
    "        \"LOI\": \"LOI\",\n",
    "        \"SO3\": r\"$\\mathrm{SO_3}$\",\n",
    "        \"Insoluble Residue\": \"IR\",\n",
    "        \"Loss on Ignition\": \"LOI\",\n",
    "    }\n",
    ")\n",
    "\n",
    "plt.figure(figsize=(10, 6.5))\n",
    "sns.boxplot(\n",
    "    data=df_importances_sorted_plot,\n",
    "    orient=\"h\",\n",
    "    color=\"lightsteelblue\",\n",
    "    saturation=1,\n",
    "    showmeans=True,\n",
    ")\n",
    "sns.despine(trim=True, left=False)\n",
    "plt.xlabel(\"Relevance (Coefficient)\")\n",
    "plt.title(\"Variable Relevance Distribution\")\n",
    "plt.grid(axis=\"x\", linestyle=\"--\", alpha=0.7)\n",
    "plt.subplots_adjust(left=0.3)\n",
    "\n",
    "plt.savefig(\n",
    "    \"ecics_206_b_local_cm_p_btiss_top_scpm_dist_var_coef_relevance.png\",\n",
    "    dpi=300,\n",
    "    bbox_inches=\"tight\",\n",
    ")\n",
    "\n",
    "plt.show()\n",
    "\n",
    "\n",
    "# Step 3: Reset all rcParams to their default values\n",
    "matplotlib.rcParams.update(matplotlib.rcParamsDefault)\n",
    "plt.rcdefaults()\n",
    "\n",
    "# Switch back to the original backend\n",
    "plt.switch_backend(original_backend)"
   ]
  },
  {
   "cell_type": "code",
   "execution_count": 24,
   "id": "86487ee2",
   "metadata": {},
   "outputs": [
    {
     "data": {
      "text/html": [
       "<div>\n",
       "<style scoped>\n",
       "    .dataframe tbody tr th:only-of-type {\n",
       "        vertical-align: middle;\n",
       "    }\n",
       "\n",
       "    .dataframe tbody tr th {\n",
       "        vertical-align: top;\n",
       "    }\n",
       "\n",
       "    .dataframe thead th {\n",
       "        text-align: right;\n",
       "    }\n",
       "</style>\n",
       "<table border=\"1\" class=\"dataframe\">\n",
       "  <thead>\n",
       "    <tr style=\"text-align: right;\">\n",
       "      <th></th>\n",
       "      <th>MgO</th>\n",
       "      <th>SO3</th>\n",
       "      <th>Loss on Ignition</th>\n",
       "      <th>Insoluble Residue</th>\n",
       "      <th>Blaine</th>\n",
       "      <th>#200</th>\n",
       "      <th>#325</th>\n",
       "      <th>Initial setting time</th>\n",
       "      <th>Final setting time</th>\n",
       "    </tr>\n",
       "  </thead>\n",
       "  <tbody>\n",
       "    <tr>\n",
       "      <th>Coefficients - 0</th>\n",
       "      <td>0.310392</td>\n",
       "      <td>-0.313797</td>\n",
       "      <td>-0.931809</td>\n",
       "      <td>-2.169346</td>\n",
       "      <td>1.048414</td>\n",
       "      <td>0.407709</td>\n",
       "      <td>-1.375560</td>\n",
       "      <td>0.199340</td>\n",
       "      <td>-0.232703</td>\n",
       "    </tr>\n",
       "    <tr>\n",
       "      <th>Coefficients - 1</th>\n",
       "      <td>-0.612306</td>\n",
       "      <td>-0.095128</td>\n",
       "      <td>-0.366975</td>\n",
       "      <td>-1.222273</td>\n",
       "      <td>-0.253102</td>\n",
       "      <td>0.086993</td>\n",
       "      <td>-1.210802</td>\n",
       "      <td>0.096162</td>\n",
       "      <td>-0.142696</td>\n",
       "    </tr>\n",
       "    <tr>\n",
       "      <th>Coefficients - 2</th>\n",
       "      <td>-0.148434</td>\n",
       "      <td>-0.049672</td>\n",
       "      <td>-0.705405</td>\n",
       "      <td>-0.418723</td>\n",
       "      <td>-0.363767</td>\n",
       "      <td>0.190407</td>\n",
       "      <td>-0.903717</td>\n",
       "      <td>-0.117328</td>\n",
       "      <td>-0.154268</td>\n",
       "    </tr>\n",
       "    <tr>\n",
       "      <th>Coefficients - 3</th>\n",
       "      <td>0.086029</td>\n",
       "      <td>-0.016711</td>\n",
       "      <td>0.741865</td>\n",
       "      <td>-2.188798</td>\n",
       "      <td>1.203531</td>\n",
       "      <td>1.097054</td>\n",
       "      <td>-2.259893</td>\n",
       "      <td>0.182054</td>\n",
       "      <td>-0.262012</td>\n",
       "    </tr>\n",
       "    <tr>\n",
       "      <th>Coefficients - 4</th>\n",
       "      <td>-0.297808</td>\n",
       "      <td>-0.056067</td>\n",
       "      <td>0.271984</td>\n",
       "      <td>-0.770114</td>\n",
       "      <td>1.309964</td>\n",
       "      <td>-0.153755</td>\n",
       "      <td>-3.195645</td>\n",
       "      <td>0.413418</td>\n",
       "      <td>-0.050137</td>\n",
       "    </tr>\n",
       "  </tbody>\n",
       "</table>\n",
       "</div>"
      ],
      "text/plain": [
       "                       MgO       SO3  Loss on Ignition  Insoluble Residue  \\\n",
       "Coefficients - 0  0.310392 -0.313797         -0.931809          -2.169346   \n",
       "Coefficients - 1 -0.612306 -0.095128         -0.366975          -1.222273   \n",
       "Coefficients - 2 -0.148434 -0.049672         -0.705405          -0.418723   \n",
       "Coefficients - 3  0.086029 -0.016711          0.741865          -2.188798   \n",
       "Coefficients - 4 -0.297808 -0.056067          0.271984          -0.770114   \n",
       "\n",
       "                    Blaine      #200      #325  Initial setting time  \\\n",
       "Coefficients - 0  1.048414  0.407709 -1.375560              0.199340   \n",
       "Coefficients - 1 -0.253102  0.086993 -1.210802              0.096162   \n",
       "Coefficients - 2 -0.363767  0.190407 -0.903717             -0.117328   \n",
       "Coefficients - 3  1.203531  1.097054 -2.259893              0.182054   \n",
       "Coefficients - 4  1.309964 -0.153755 -3.195645              0.413418   \n",
       "\n",
       "                  Final setting time  \n",
       "Coefficients - 0           -0.232703  \n",
       "Coefficients - 1           -0.142696  \n",
       "Coefficients - 2           -0.154268  \n",
       "Coefficients - 3           -0.262012  \n",
       "Coefficients - 4           -0.050137  "
      ]
     },
     "execution_count": 24,
     "metadata": {},
     "output_type": "execute_result"
    },
    {
     "data": {
      "application/javascript": [
       "\n",
       "            setTimeout(function() {\n",
       "                var nbb_cell_id = 24;\n",
       "                var nbb_unformatted_code = \"df_importances\";\n",
       "                var nbb_formatted_code = \"df_importances\";\n",
       "                var nbb_cells = Jupyter.notebook.get_cells();\n",
       "                for (var i = 0; i < nbb_cells.length; ++i) {\n",
       "                    if (nbb_cells[i].input_prompt_number == nbb_cell_id) {\n",
       "                        if (nbb_cells[i].get_text() == nbb_unformatted_code) {\n",
       "                             nbb_cells[i].set_text(nbb_formatted_code);\n",
       "                        }\n",
       "                        break;\n",
       "                    }\n",
       "                }\n",
       "            }, 500);\n",
       "            "
      ],
      "text/plain": [
       "<IPython.core.display.Javascript object>"
      ]
     },
     "metadata": {},
     "output_type": "display_data"
    }
   ],
   "source": [
    "df_importances"
   ]
  },
  {
   "cell_type": "code",
   "execution_count": 25,
   "id": "a12839c8",
   "metadata": {},
   "outputs": [
    {
     "data": {
      "text/html": [
       "<div>\n",
       "<style scoped>\n",
       "    .dataframe tbody tr th:only-of-type {\n",
       "        vertical-align: middle;\n",
       "    }\n",
       "\n",
       "    .dataframe tbody tr th {\n",
       "        vertical-align: top;\n",
       "    }\n",
       "\n",
       "    .dataframe thead th {\n",
       "        text-align: right;\n",
       "    }\n",
       "</style>\n",
       "<table border=\"1\" class=\"dataframe\">\n",
       "  <thead>\n",
       "    <tr style=\"text-align: right;\">\n",
       "      <th></th>\n",
       "      <th>count</th>\n",
       "      <th>mean</th>\n",
       "      <th>std</th>\n",
       "      <th>min</th>\n",
       "      <th>25%</th>\n",
       "      <th>50%</th>\n",
       "      <th>75%</th>\n",
       "      <th>max</th>\n",
       "    </tr>\n",
       "  </thead>\n",
       "  <tbody>\n",
       "    <tr>\n",
       "      <th>#325</th>\n",
       "      <td>5.0</td>\n",
       "      <td>-1.789124</td>\n",
       "      <td>0.933992</td>\n",
       "      <td>-3.195645</td>\n",
       "      <td>-2.259893</td>\n",
       "      <td>-1.375560</td>\n",
       "      <td>-1.210802</td>\n",
       "      <td>-0.903717</td>\n",
       "    </tr>\n",
       "    <tr>\n",
       "      <th>Insoluble Residue</th>\n",
       "      <td>5.0</td>\n",
       "      <td>-1.353851</td>\n",
       "      <td>0.805403</td>\n",
       "      <td>-2.188798</td>\n",
       "      <td>-2.169346</td>\n",
       "      <td>-1.222273</td>\n",
       "      <td>-0.770114</td>\n",
       "      <td>-0.418723</td>\n",
       "    </tr>\n",
       "    <tr>\n",
       "      <th>Loss on Ignition</th>\n",
       "      <td>5.0</td>\n",
       "      <td>-0.198068</td>\n",
       "      <td>0.694391</td>\n",
       "      <td>-0.931809</td>\n",
       "      <td>-0.705405</td>\n",
       "      <td>-0.366975</td>\n",
       "      <td>0.271984</td>\n",
       "      <td>0.741865</td>\n",
       "    </tr>\n",
       "    <tr>\n",
       "      <th>Final setting time</th>\n",
       "      <td>5.0</td>\n",
       "      <td>-0.168363</td>\n",
       "      <td>0.083283</td>\n",
       "      <td>-0.262012</td>\n",
       "      <td>-0.232703</td>\n",
       "      <td>-0.154268</td>\n",
       "      <td>-0.142696</td>\n",
       "      <td>-0.050137</td>\n",
       "    </tr>\n",
       "    <tr>\n",
       "      <th>MgO</th>\n",
       "      <td>5.0</td>\n",
       "      <td>-0.132425</td>\n",
       "      <td>0.354155</td>\n",
       "      <td>-0.612306</td>\n",
       "      <td>-0.297808</td>\n",
       "      <td>-0.148434</td>\n",
       "      <td>0.086029</td>\n",
       "      <td>0.310392</td>\n",
       "    </tr>\n",
       "    <tr>\n",
       "      <th>SO3</th>\n",
       "      <td>5.0</td>\n",
       "      <td>-0.106275</td>\n",
       "      <td>0.119306</td>\n",
       "      <td>-0.313797</td>\n",
       "      <td>-0.095128</td>\n",
       "      <td>-0.056067</td>\n",
       "      <td>-0.049672</td>\n",
       "      <td>-0.016711</td>\n",
       "    </tr>\n",
       "    <tr>\n",
       "      <th>Initial setting time</th>\n",
       "      <td>5.0</td>\n",
       "      <td>0.154729</td>\n",
       "      <td>0.191770</td>\n",
       "      <td>-0.117328</td>\n",
       "      <td>0.096162</td>\n",
       "      <td>0.182054</td>\n",
       "      <td>0.199340</td>\n",
       "      <td>0.413418</td>\n",
       "    </tr>\n",
       "    <tr>\n",
       "      <th>#200</th>\n",
       "      <td>5.0</td>\n",
       "      <td>0.325682</td>\n",
       "      <td>0.476150</td>\n",
       "      <td>-0.153755</td>\n",
       "      <td>0.086993</td>\n",
       "      <td>0.190407</td>\n",
       "      <td>0.407709</td>\n",
       "      <td>1.097054</td>\n",
       "    </tr>\n",
       "    <tr>\n",
       "      <th>Blaine</th>\n",
       "      <td>5.0</td>\n",
       "      <td>0.589008</td>\n",
       "      <td>0.825439</td>\n",
       "      <td>-0.363767</td>\n",
       "      <td>-0.253102</td>\n",
       "      <td>1.048414</td>\n",
       "      <td>1.203531</td>\n",
       "      <td>1.309964</td>\n",
       "    </tr>\n",
       "  </tbody>\n",
       "</table>\n",
       "</div>"
      ],
      "text/plain": [
       "                      count      mean       std       min       25%       50%  \\\n",
       "#325                    5.0 -1.789124  0.933992 -3.195645 -2.259893 -1.375560   \n",
       "Insoluble Residue       5.0 -1.353851  0.805403 -2.188798 -2.169346 -1.222273   \n",
       "Loss on Ignition        5.0 -0.198068  0.694391 -0.931809 -0.705405 -0.366975   \n",
       "Final setting time      5.0 -0.168363  0.083283 -0.262012 -0.232703 -0.154268   \n",
       "MgO                     5.0 -0.132425  0.354155 -0.612306 -0.297808 -0.148434   \n",
       "SO3                     5.0 -0.106275  0.119306 -0.313797 -0.095128 -0.056067   \n",
       "Initial setting time    5.0  0.154729  0.191770 -0.117328  0.096162  0.182054   \n",
       "#200                    5.0  0.325682  0.476150 -0.153755  0.086993  0.190407   \n",
       "Blaine                  5.0  0.589008  0.825439 -0.363767 -0.253102  1.048414   \n",
       "\n",
       "                           75%       max  \n",
       "#325                 -1.210802 -0.903717  \n",
       "Insoluble Residue    -0.770114 -0.418723  \n",
       "Loss on Ignition      0.271984  0.741865  \n",
       "Final setting time   -0.142696 -0.050137  \n",
       "MgO                   0.086029  0.310392  \n",
       "SO3                  -0.049672 -0.016711  \n",
       "Initial setting time  0.199340  0.413418  \n",
       "#200                  0.407709  1.097054  \n",
       "Blaine                1.203531  1.309964  "
      ]
     },
     "execution_count": 25,
     "metadata": {},
     "output_type": "execute_result"
    },
    {
     "data": {
      "application/javascript": [
       "\n",
       "            setTimeout(function() {\n",
       "                var nbb_cell_id = 25;\n",
       "                var nbb_unformatted_code = \"df_importances.describe().T.sort_values(by=[\\\"mean\\\"])\";\n",
       "                var nbb_formatted_code = \"df_importances.describe().T.sort_values(by=[\\\"mean\\\"])\";\n",
       "                var nbb_cells = Jupyter.notebook.get_cells();\n",
       "                for (var i = 0; i < nbb_cells.length; ++i) {\n",
       "                    if (nbb_cells[i].input_prompt_number == nbb_cell_id) {\n",
       "                        if (nbb_cells[i].get_text() == nbb_unformatted_code) {\n",
       "                             nbb_cells[i].set_text(nbb_formatted_code);\n",
       "                        }\n",
       "                        break;\n",
       "                    }\n",
       "                }\n",
       "            }, 500);\n",
       "            "
      ],
      "text/plain": [
       "<IPython.core.display.Javascript object>"
      ]
     },
     "metadata": {},
     "output_type": "display_data"
    }
   ],
   "source": [
    "df_importances.describe().T.sort_values(by=[\"mean\"])"
   ]
  },
  {
   "cell_type": "code",
   "execution_count": 26,
   "id": "8565bb08",
   "metadata": {},
   "outputs": [
    {
     "data": {
      "application/javascript": [
       "\n",
       "            setTimeout(function() {\n",
       "                var nbb_cell_id = 26;\n",
       "                var nbb_unformatted_code = \"from sklearn.inspection import permutation_importance\";\n",
       "                var nbb_formatted_code = \"from sklearn.inspection import permutation_importance\";\n",
       "                var nbb_cells = Jupyter.notebook.get_cells();\n",
       "                for (var i = 0; i < nbb_cells.length; ++i) {\n",
       "                    if (nbb_cells[i].input_prompt_number == nbb_cell_id) {\n",
       "                        if (nbb_cells[i].get_text() == nbb_unformatted_code) {\n",
       "                             nbb_cells[i].set_text(nbb_formatted_code);\n",
       "                        }\n",
       "                        break;\n",
       "                    }\n",
       "                }\n",
       "            }, 500);\n",
       "            "
      ],
      "text/plain": [
       "<IPython.core.display.Javascript object>"
      ]
     },
     "metadata": {},
     "output_type": "display_data"
    }
   ],
   "source": [
    "from sklearn.inspection import permutation_importance"
   ]
  },
  {
   "cell_type": "code",
   "execution_count": 27,
   "id": "03550769",
   "metadata": {},
   "outputs": [
    {
     "data": {
      "application/javascript": [
       "\n",
       "            setTimeout(function() {\n",
       "                var nbb_cell_id = 27;\n",
       "                var nbb_unformatted_code = \"# Initialize lists to store importance results\\nmdi_importances = []\\nperm_importances = []\\n\\n# Compute feature importances\\nfor i, (train_idx, test_idx) in enumerate(cv.split(x, y)):\\n    pipeline.fit(x.iloc[train_idx], y[train_idx])\\n\\n    # Extract the trained model\\n    model = pipeline.named_steps[\\\"estimator\\\"]\\n    imputer = pipeline.named_steps[\\\"imputer\\\"]\\n    scaler = pipeline.named_steps[\\\"transformer\\\"]\\n    # Compute MDI importance\\n    # mdi_importances.append(model.feature_importances_)\\n\\n    # Compute permutation importance\\n    result = permutation_importance(\\n        model,\\n        scaler.transform(imputer.transform(x.iloc[test_idx])),\\n        y[test_idx],\\n        n_repeats=10,\\n        random_state=SEED,\\n        n_jobs=-1,\\n        # scoring=\\\"neg_mean_squared_error\\\",\\n        scoring=\\\"r2\\\",\\n    )\\n    perm_importances.append(result.importances_mean)\";\n",
       "                var nbb_formatted_code = \"# Initialize lists to store importance results\\nmdi_importances = []\\nperm_importances = []\\n\\n# Compute feature importances\\nfor i, (train_idx, test_idx) in enumerate(cv.split(x, y)):\\n    pipeline.fit(x.iloc[train_idx], y[train_idx])\\n\\n    # Extract the trained model\\n    model = pipeline.named_steps[\\\"estimator\\\"]\\n    imputer = pipeline.named_steps[\\\"imputer\\\"]\\n    scaler = pipeline.named_steps[\\\"transformer\\\"]\\n    # Compute MDI importance\\n    # mdi_importances.append(model.feature_importances_)\\n\\n    # Compute permutation importance\\n    result = permutation_importance(\\n        model,\\n        scaler.transform(imputer.transform(x.iloc[test_idx])),\\n        y[test_idx],\\n        n_repeats=10,\\n        random_state=SEED,\\n        n_jobs=-1,\\n        # scoring=\\\"neg_mean_squared_error\\\",\\n        scoring=\\\"r2\\\",\\n    )\\n    perm_importances.append(result.importances_mean)\";\n",
       "                var nbb_cells = Jupyter.notebook.get_cells();\n",
       "                for (var i = 0; i < nbb_cells.length; ++i) {\n",
       "                    if (nbb_cells[i].input_prompt_number == nbb_cell_id) {\n",
       "                        if (nbb_cells[i].get_text() == nbb_unformatted_code) {\n",
       "                             nbb_cells[i].set_text(nbb_formatted_code);\n",
       "                        }\n",
       "                        break;\n",
       "                    }\n",
       "                }\n",
       "            }, 500);\n",
       "            "
      ],
      "text/plain": [
       "<IPython.core.display.Javascript object>"
      ]
     },
     "metadata": {},
     "output_type": "display_data"
    }
   ],
   "source": [
    "# Initialize lists to store importance results\n",
    "mdi_importances = []\n",
    "perm_importances = []\n",
    "\n",
    "# Compute feature importances\n",
    "for i, (train_idx, test_idx) in enumerate(cv.split(x, y)):\n",
    "    pipeline.fit(x.iloc[train_idx], y[train_idx])\n",
    "\n",
    "    # Extract the trained model\n",
    "    model = pipeline.named_steps[\"estimator\"]\n",
    "    imputer = pipeline.named_steps[\"imputer\"]\n",
    "    scaler = pipeline.named_steps[\"transformer\"]\n",
    "    # Compute MDI importance\n",
    "    # mdi_importances.append(model.feature_importances_)\n",
    "\n",
    "    # Compute permutation importance\n",
    "    result = permutation_importance(\n",
    "        model,\n",
    "        scaler.transform(imputer.transform(x.iloc[test_idx])),\n",
    "        y[test_idx],\n",
    "        n_repeats=10,\n",
    "        random_state=SEED,\n",
    "        n_jobs=-1,\n",
    "        # scoring=\"neg_mean_squared_error\",\n",
    "        scoring=\"r2\",\n",
    "    )\n",
    "    perm_importances.append(result.importances_mean)"
   ]
  },
  {
   "cell_type": "code",
   "execution_count": 28,
   "id": "680d5061",
   "metadata": {},
   "outputs": [
    {
     "data": {
      "image/png": "[encoded data removed]",
      "text/plain": [
       "<Figure size 1000x700 with 1 Axes>"
      ]
     },
     "metadata": {},
     "output_type": "display_data"
    },
    {
     "data": {
      "application/javascript": [
       "\n",
       "            setTimeout(function() {\n",
       "                var nbb_cell_id = 28;\n",
       "                var nbb_unformatted_code = \"import matplotlib.pyplot as plt\\nimport seaborn as sns\\nimport matplotlib.ticker as ticker\\n\\n# Convert lists to DataFrames\\nperm_importances_df = pd.DataFrame(perm_importances, columns=x.columns)\\n\\n\\n# Calculate the mean importance for each feature\\nmean_importances = perm_importances_df.mean().sort_values()\\n\\n# Reorder the DataFrame columns based on mean importance\\nperm_importances_df = perm_importances_df[mean_importances.index]\\n\\nperm_importances_df = perm_importances_df.rename(columns={\\\"Loss on Ignition\\\": \\\"LOI\\\"})\\n\\n\\n# Backup the original backend\\noriginal_backend = plt.get_backend()\\n\\n# Update font settings to default\\nplt.rcParams.update(\\n    {\\n        \\\"font.family\\\": \\\"sans-serif\\\",\\n        \\\"font.sans-serif\\\": [\\\"DejaVu Sans\\\"],\\n        \\\"font.size\\\": 10,\\n        \\\"text.usetex\\\": False,  # Use MathText, not LaTeX\\n    }\\n)\\n\\n# Convert chemical formulas using MathText syntax\\nperm_importances_df_plot = perm_importances_df.rename(\\n    columns={\\n        \\\"Alpha C2S\\\": r\\\"Alpha $\\\\mathrm{C_2S}$\\\",\\n        \\\"Beta C2S\\\": r\\\"Beta $\\\\mathrm{C_2S}$\\\",\\n        \\\"Gamma C2S\\\": r\\\"Gamma $\\\\mathrm{C_2S}$\\\",\\n        \\\"Cubic C3A\\\": r\\\"Cubic $\\\\mathrm{C_3A}$\\\",\\n        \\\"Orthorhombic C3A\\\": r\\\"Orthorhombic $\\\\mathrm{C_3A}$\\\",\\n        \\\"K2O\\\": r\\\"$\\\\mathrm{K_2O}$\\\",\\n        \\\"Free CaO\\\": r\\\"Free $\\\\mathrm{CaO}$\\\",\\n        \\\"Total C2S\\\": r\\\"Total $\\\\mathrm{C_2S}$\\\",\\n        \\\"Na2O\\\": r\\\"$\\\\mathrm{Na_2O}$\\\",\\n        \\\"CaO\\\": r\\\"$\\\\mathrm{CaO}$\\\",\\n        \\\"SiO2\\\": r\\\"$\\\\mathrm{SiO_2}$\\\",\\n        \\\"MgO\\\": r\\\"$\\\\mathrm{MgO}$\\\",\\n        \\\"Fe2O3\\\": r\\\"$\\\\mathrm{Fe_2O_3}$\\\",\\n        \\\"Al2O3\\\": r\\\"$\\\\mathrm{Al_2O_3}$\\\",\\n        \\\"Total C3S\\\": r\\\"Total $\\\\mathrm{C_3S}$\\\",\\n        \\\"C3A\\\": r\\\"$\\\\mathrm{C_3A}$\\\",\\n        \\\"C4AF\\\": r\\\"$\\\\mathrm{C_4AF}$\\\",\\n        \\\"LOI\\\": \\\"LOI\\\",\\n        \\\"SO3\\\": r\\\"$\\\\mathrm{SO_3}$\\\",\\n        \\\"Insoluble Residue\\\": \\\"IR\\\",\\n    }\\n)\\n\\nplt.figure(figsize=(10, 7))\\n\\n# Create boxplot\\nsns.boxplot(\\n    data=perm_importances_df_plot.round(2),\\n    orient=\\\"h\\\",\\n    color=\\\"lightsteelblue\\\",\\n    saturation=1,\\n    showmeans=True,\\n)\\nsns.despine(trim=True, left=False)\\n\\n# Set x-axis label and title\\nplt.xlabel(\\\"Relevance (Permutation)\\\")\\nplt.title(\\\"Variable Relevance Distribution\\\")\\n\\n# Add gridlines for x-axis\\nplt.grid(axis=\\\"x\\\", linestyle=\\\"--\\\", alpha=0.7)\\n\\n# Format x-axis to show 1 decimal place\\nplt.gca().xaxis.set_major_formatter(ticker.FuncFormatter(lambda x, _: f\\\"{x:.1f}\\\"))\\n\\n# Adjust the layout to prevent label cut-off\\nplt.subplots_adjust(left=0.3)\\n\\n# Save the plot\\nplt.savefig(\\n    \\\"ecics_206_b_local_cm_p_btiss_top_scpm_dist_var_perm_relevance.png\\\",\\n    dpi=300,\\n    bbox_inches=\\\"tight\\\",\\n)\\n\\n# Show the plot\\nplt.show()\\n\\n# Reset all rcParams to their default values\\nplt.rcdefaults()\\n\\n# Switch back to the original backend\\nplt.switch_backend(original_backend)\";\n",
       "                var nbb_formatted_code = \"import matplotlib.pyplot as plt\\nimport seaborn as sns\\nimport matplotlib.ticker as ticker\\n\\n# Convert lists to DataFrames\\nperm_importances_df = pd.DataFrame(perm_importances, columns=x.columns)\\n\\n\\n# Calculate the mean importance for each feature\\nmean_importances = perm_importances_df.mean().sort_values()\\n\\n# Reorder the DataFrame columns based on mean importance\\nperm_importances_df = perm_importances_df[mean_importances.index]\\n\\nperm_importances_df = perm_importances_df.rename(columns={\\\"Loss on Ignition\\\": \\\"LOI\\\"})\\n\\n\\n# Backup the original backend\\noriginal_backend = plt.get_backend()\\n\\n# Update font settings to default\\nplt.rcParams.update(\\n    {\\n        \\\"font.family\\\": \\\"sans-serif\\\",\\n        \\\"font.sans-serif\\\": [\\\"DejaVu Sans\\\"],\\n        \\\"font.size\\\": 10,\\n        \\\"text.usetex\\\": False,  # Use MathText, not LaTeX\\n    }\\n)\\n\\n# Convert chemical formulas using MathText syntax\\nperm_importances_df_plot = perm_importances_df.rename(\\n    columns={\\n        \\\"Alpha C2S\\\": r\\\"Alpha $\\\\mathrm{C_2S}$\\\",\\n        \\\"Beta C2S\\\": r\\\"Beta $\\\\mathrm{C_2S}$\\\",\\n        \\\"Gamma C2S\\\": r\\\"Gamma $\\\\mathrm{C_2S}$\\\",\\n        \\\"Cubic C3A\\\": r\\\"Cubic $\\\\mathrm{C_3A}$\\\",\\n        \\\"Orthorhombic C3A\\\": r\\\"Orthorhombic $\\\\mathrm{C_3A}$\\\",\\n        \\\"K2O\\\": r\\\"$\\\\mathrm{K_2O}$\\\",\\n        \\\"Free CaO\\\": r\\\"Free $\\\\mathrm{CaO}$\\\",\\n        \\\"Total C2S\\\": r\\\"Total $\\\\mathrm{C_2S}$\\\",\\n        \\\"Na2O\\\": r\\\"$\\\\mathrm{Na_2O}$\\\",\\n        \\\"CaO\\\": r\\\"$\\\\mathrm{CaO}$\\\",\\n        \\\"SiO2\\\": r\\\"$\\\\mathrm{SiO_2}$\\\",\\n        \\\"MgO\\\": r\\\"$\\\\mathrm{MgO}$\\\",\\n        \\\"Fe2O3\\\": r\\\"$\\\\mathrm{Fe_2O_3}$\\\",\\n        \\\"Al2O3\\\": r\\\"$\\\\mathrm{Al_2O_3}$\\\",\\n        \\\"Total C3S\\\": r\\\"Total $\\\\mathrm{C_3S}$\\\",\\n        \\\"C3A\\\": r\\\"$\\\\mathrm{C_3A}$\\\",\\n        \\\"C4AF\\\": r\\\"$\\\\mathrm{C_4AF}$\\\",\\n        \\\"LOI\\\": \\\"LOI\\\",\\n        \\\"SO3\\\": r\\\"$\\\\mathrm{SO_3}$\\\",\\n        \\\"Insoluble Residue\\\": \\\"IR\\\",\\n    }\\n)\\n\\nplt.figure(figsize=(10, 7))\\n\\n# Create boxplot\\nsns.boxplot(\\n    data=perm_importances_df_plot.round(2),\\n    orient=\\\"h\\\",\\n    color=\\\"lightsteelblue\\\",\\n    saturation=1,\\n    showmeans=True,\\n)\\nsns.despine(trim=True, left=False)\\n\\n# Set x-axis label and title\\nplt.xlabel(\\\"Relevance (Permutation)\\\")\\nplt.title(\\\"Variable Relevance Distribution\\\")\\n\\n# Add gridlines for x-axis\\nplt.grid(axis=\\\"x\\\", linestyle=\\\"--\\\", alpha=0.7)\\n\\n# Format x-axis to show 1 decimal place\\nplt.gca().xaxis.set_major_formatter(ticker.FuncFormatter(lambda x, _: f\\\"{x:.1f}\\\"))\\n\\n# Adjust the layout to prevent label cut-off\\nplt.subplots_adjust(left=0.3)\\n\\n# Save the plot\\nplt.savefig(\\n    \\\"ecics_206_b_local_cm_p_btiss_top_scpm_dist_var_perm_relevance.png\\\",\\n    dpi=300,\\n    bbox_inches=\\\"tight\\\",\\n)\\n\\n# Show the plot\\nplt.show()\\n\\n# Reset all rcParams to their default values\\nplt.rcdefaults()\\n\\n# Switch back to the original backend\\nplt.switch_backend(original_backend)\";\n",
       "                var nbb_cells = Jupyter.notebook.get_cells();\n",
       "                for (var i = 0; i < nbb_cells.length; ++i) {\n",
       "                    if (nbb_cells[i].input_prompt_number == nbb_cell_id) {\n",
       "                        if (nbb_cells[i].get_text() == nbb_unformatted_code) {\n",
       "                             nbb_cells[i].set_text(nbb_formatted_code);\n",
       "                        }\n",
       "                        break;\n",
       "                    }\n",
       "                }\n",
       "            }, 500);\n",
       "            "
      ],
      "text/plain": [
       "<IPython.core.display.Javascript object>"
      ]
     },
     "metadata": {},
     "output_type": "display_data"
    }
   ],
   "source": [
    "import matplotlib.pyplot as plt\n",
    "import seaborn as sns\n",
    "import matplotlib.ticker as ticker\n",
    "\n",
    "# Convert lists to DataFrames\n",
    "perm_importances_df = pd.DataFrame(perm_importances, columns=x.columns)\n",
    "\n",
    "\n",
    "# Calculate the mean importance for each feature\n",
    "mean_importances = perm_importances_df.mean().sort_values()\n",
    "\n",
    "# Reorder the DataFrame columns based on mean importance\n",
    "perm_importances_df = perm_importances_df[mean_importances.index]\n",
    "\n",
    "perm_importances_df = perm_importances_df.rename(columns={\"Loss on Ignition\": \"LOI\"})\n",
    "\n",
    "\n",
    "# Backup the original backend\n",
    "original_backend = plt.get_backend()\n",
    "\n",
    "# Update font settings to default\n",
    "plt.rcParams.update(\n",
    "    {\n",
    "        \"font.family\": \"sans-serif\",\n",
    "        \"font.sans-serif\": [\"DejaVu Sans\"],\n",
    "        \"font.size\": 10,\n",
    "        \"text.usetex\": False,  # Use MathText, not LaTeX\n",
    "    }\n",
    ")\n",
    "\n",
    "# Convert chemical formulas using MathText syntax\n",
    "perm_importances_df_plot = perm_importances_df.rename(\n",
    "    columns={\n",
    "        \"Alpha C2S\": r\"Alpha $\\mathrm{C_2S}$\",\n",
    "        \"Beta C2S\": r\"Beta $\\mathrm{C_2S}$\",\n",
    "        \"Gamma C2S\": r\"Gamma $\\mathrm{C_2S}$\",\n",
    "        \"Cubic C3A\": r\"Cubic $\\mathrm{C_3A}$\",\n",
    "        \"Orthorhombic C3A\": r\"Orthorhombic $\\mathrm{C_3A}$\",\n",
    "        \"K2O\": r\"$\\mathrm{K_2O}$\",\n",
    "        \"Free CaO\": r\"Free $\\mathrm{CaO}$\",\n",
    "        \"Total C2S\": r\"Total $\\mathrm{C_2S}$\",\n",
    "        \"Na2O\": r\"$\\mathrm{Na_2O}$\",\n",
    "        \"CaO\": r\"$\\mathrm{CaO}$\",\n",
    "        \"SiO2\": r\"$\\mathrm{SiO_2}$\",\n",
    "        \"MgO\": r\"$\\mathrm{MgO}$\",\n",
    "        \"Fe2O3\": r\"$\\mathrm{Fe_2O_3}$\",\n",
    "        \"Al2O3\": r\"$\\mathrm{Al_2O_3}$\",\n",
    "        \"Total C3S\": r\"Total $\\mathrm{C_3S}$\",\n",
    "        \"C3A\": r\"$\\mathrm{C_3A}$\",\n",
    "        \"C4AF\": r\"$\\mathrm{C_4AF}$\",\n",
    "        \"LOI\": \"LOI\",\n",
    "        \"SO3\": r\"$\\mathrm{SO_3}$\",\n",
    "        \"Insoluble Residue\": \"IR\",\n",
    "    }\n",
    ")\n",
    "\n",
    "plt.figure(figsize=(10, 7))\n",
    "\n",
    "# Create boxplot\n",
    "sns.boxplot(\n",
    "    data=perm_importances_df_plot.round(2),\n",
    "    orient=\"h\",\n",
    "    color=\"lightsteelblue\",\n",
    "    saturation=1,\n",
    "    showmeans=True,\n",
    ")\n",
    "sns.despine(trim=True, left=False)\n",
    "\n",
    "# Set x-axis label and title\n",
    "plt.xlabel(\"Relevance (Permutation)\")\n",
    "plt.title(\"Variable Relevance Distribution\")\n",
    "\n",
    "# Add gridlines for x-axis\n",
    "plt.grid(axis=\"x\", linestyle=\"--\", alpha=0.7)\n",
    "\n",
    "# Format x-axis to show 1 decimal place\n",
    "plt.gca().xaxis.set_major_formatter(ticker.FuncFormatter(lambda x, _: f\"{x:.1f}\"))\n",
    "\n",
    "# Adjust the layout to prevent label cut-off\n",
    "plt.subplots_adjust(left=0.3)\n",
    "\n",
    "# Save the plot\n",
    "plt.savefig(\n",
    "    \"ecics_206_b_local_cm_p_btiss_top_scpm_dist_var_perm_relevance.png\",\n",
    "    dpi=300,\n",
    "    bbox_inches=\"tight\",\n",
    ")\n",
    "\n",
    "# Show the plot\n",
    "plt.show()\n",
    "\n",
    "# Reset all rcParams to their default values\n",
    "plt.rcdefaults()\n",
    "\n",
    "# Switch back to the original backend\n",
    "plt.switch_backend(original_backend)"
   ]
  },
  {
   "cell_type": "code",
   "execution_count": 29,
   "id": "e1127bfb",
   "metadata": {},
   "outputs": [
    {
     "data": {
      "text/html": [
       "<div>\n",
       "<style scoped>\n",
       "    .dataframe tbody tr th:only-of-type {\n",
       "        vertical-align: middle;\n",
       "    }\n",
       "\n",
       "    .dataframe tbody tr th {\n",
       "        vertical-align: top;\n",
       "    }\n",
       "\n",
       "    .dataframe thead th {\n",
       "        text-align: right;\n",
       "    }\n",
       "</style>\n",
       "<table border=\"1\" class=\"dataframe\">\n",
       "  <thead>\n",
       "    <tr style=\"text-align: right;\">\n",
       "      <th></th>\n",
       "      <th>count</th>\n",
       "      <th>mean</th>\n",
       "      <th>std</th>\n",
       "      <th>min</th>\n",
       "      <th>25%</th>\n",
       "      <th>50%</th>\n",
       "      <th>75%</th>\n",
       "      <th>max</th>\n",
       "    </tr>\n",
       "  </thead>\n",
       "  <tbody>\n",
       "    <tr>\n",
       "      <th>Initial setting time</th>\n",
       "      <td>5.0</td>\n",
       "      <td>-0.0092</td>\n",
       "      <td>0.0261</td>\n",
       "      <td>-0.0520</td>\n",
       "      <td>-0.0097</td>\n",
       "      <td>-0.0019</td>\n",
       "      <td>-0.0013</td>\n",
       "      <td>0.0187</td>\n",
       "    </tr>\n",
       "    <tr>\n",
       "      <th>Final setting time</th>\n",
       "      <td>5.0</td>\n",
       "      <td>-0.0060</td>\n",
       "      <td>0.0254</td>\n",
       "      <td>-0.0507</td>\n",
       "      <td>-0.0028</td>\n",
       "      <td>0.0063</td>\n",
       "      <td>0.0070</td>\n",
       "      <td>0.0100</td>\n",
       "    </tr>\n",
       "    <tr>\n",
       "      <th>SO3</th>\n",
       "      <td>5.0</td>\n",
       "      <td>-0.0007</td>\n",
       "      <td>0.0157</td>\n",
       "      <td>-0.0149</td>\n",
       "      <td>-0.0134</td>\n",
       "      <td>-0.0000</td>\n",
       "      <td>0.0006</td>\n",
       "      <td>0.0243</td>\n",
       "    </tr>\n",
       "    <tr>\n",
       "      <th>LOI</th>\n",
       "      <td>5.0</td>\n",
       "      <td>0.0124</td>\n",
       "      <td>0.1452</td>\n",
       "      <td>-0.2292</td>\n",
       "      <td>0.0148</td>\n",
       "      <td>0.0250</td>\n",
       "      <td>0.1167</td>\n",
       "      <td>0.1344</td>\n",
       "    </tr>\n",
       "    <tr>\n",
       "      <th>Blaine</th>\n",
       "      <td>5.0</td>\n",
       "      <td>0.0267</td>\n",
       "      <td>0.1618</td>\n",
       "      <td>-0.2113</td>\n",
       "      <td>-0.0092</td>\n",
       "      <td>-0.0012</td>\n",
       "      <td>0.1635</td>\n",
       "      <td>0.1918</td>\n",
       "    </tr>\n",
       "    <tr>\n",
       "      <th>MgO</th>\n",
       "      <td>5.0</td>\n",
       "      <td>0.0575</td>\n",
       "      <td>0.0842</td>\n",
       "      <td>0.0013</td>\n",
       "      <td>0.0039</td>\n",
       "      <td>0.0160</td>\n",
       "      <td>0.0656</td>\n",
       "      <td>0.2007</td>\n",
       "    </tr>\n",
       "    <tr>\n",
       "      <th>#200</th>\n",
       "      <td>5.0</td>\n",
       "      <td>0.1237</td>\n",
       "      <td>0.1478</td>\n",
       "      <td>0.0079</td>\n",
       "      <td>0.0093</td>\n",
       "      <td>0.0308</td>\n",
       "      <td>0.2820</td>\n",
       "      <td>0.2887</td>\n",
       "    </tr>\n",
       "    <tr>\n",
       "      <th>#325</th>\n",
       "      <td>5.0</td>\n",
       "      <td>0.4084</td>\n",
       "      <td>0.5936</td>\n",
       "      <td>-0.0217</td>\n",
       "      <td>0.0111</td>\n",
       "      <td>0.2446</td>\n",
       "      <td>0.3802</td>\n",
       "      <td>1.4278</td>\n",
       "    </tr>\n",
       "    <tr>\n",
       "      <th>Insoluble Residue</th>\n",
       "      <td>5.0</td>\n",
       "      <td>0.4193</td>\n",
       "      <td>0.5886</td>\n",
       "      <td>-0.2359</td>\n",
       "      <td>0.0097</td>\n",
       "      <td>0.3379</td>\n",
       "      <td>0.7419</td>\n",
       "      <td>1.2427</td>\n",
       "    </tr>\n",
       "  </tbody>\n",
       "</table>\n",
       "</div>"
      ],
      "text/plain": [
       "                      count    mean     std     min     25%     50%     75%  \\\n",
       "Initial setting time    5.0 -0.0092  0.0261 -0.0520 -0.0097 -0.0019 -0.0013   \n",
       "Final setting time      5.0 -0.0060  0.0254 -0.0507 -0.0028  0.0063  0.0070   \n",
       "SO3                     5.0 -0.0007  0.0157 -0.0149 -0.0134 -0.0000  0.0006   \n",
       "LOI                     5.0  0.0124  0.1452 -0.2292  0.0148  0.0250  0.1167   \n",
       "Blaine                  5.0  0.0267  0.1618 -0.2113 -0.0092 -0.0012  0.1635   \n",
       "MgO                     5.0  0.0575  0.0842  0.0013  0.0039  0.0160  0.0656   \n",
       "#200                    5.0  0.1237  0.1478  0.0079  0.0093  0.0308  0.2820   \n",
       "#325                    5.0  0.4084  0.5936 -0.0217  0.0111  0.2446  0.3802   \n",
       "Insoluble Residue       5.0  0.4193  0.5886 -0.2359  0.0097  0.3379  0.7419   \n",
       "\n",
       "                         max  \n",
       "Initial setting time  0.0187  \n",
       "Final setting time    0.0100  \n",
       "SO3                   0.0243  \n",
       "LOI                   0.1344  \n",
       "Blaine                0.1918  \n",
       "MgO                   0.2007  \n",
       "#200                  0.2887  \n",
       "#325                  1.4278  \n",
       "Insoluble Residue     1.2427  "
      ]
     },
     "execution_count": 29,
     "metadata": {},
     "output_type": "execute_result"
    },
    {
     "data": {
      "application/javascript": [
       "\n",
       "            setTimeout(function() {\n",
       "                var nbb_cell_id = 29;\n",
       "                var nbb_unformatted_code = \"perm_importances_df.describe().round(4).T.sort_values(by=\\\"mean\\\")\";\n",
       "                var nbb_formatted_code = \"perm_importances_df.describe().round(4).T.sort_values(by=\\\"mean\\\")\";\n",
       "                var nbb_cells = Jupyter.notebook.get_cells();\n",
       "                for (var i = 0; i < nbb_cells.length; ++i) {\n",
       "                    if (nbb_cells[i].input_prompt_number == nbb_cell_id) {\n",
       "                        if (nbb_cells[i].get_text() == nbb_unformatted_code) {\n",
       "                             nbb_cells[i].set_text(nbb_formatted_code);\n",
       "                        }\n",
       "                        break;\n",
       "                    }\n",
       "                }\n",
       "            }, 500);\n",
       "            "
      ],
      "text/plain": [
       "<IPython.core.display.Javascript object>"
      ]
     },
     "metadata": {},
     "output_type": "display_data"
    }
   ],
   "source": [
    "perm_importances_df.describe().round(4).T.sort_values(by=\"mean\")"
   ]
  },
  {
   "cell_type": "code",
   "execution_count": 30,
   "id": "ec2e7177",
   "metadata": {},
   "outputs": [
    {
     "data": {
      "text/html": [
       "<div>\n",
       "<style scoped>\n",
       "    .dataframe tbody tr th:only-of-type {\n",
       "        vertical-align: middle;\n",
       "    }\n",
       "\n",
       "    .dataframe tbody tr th {\n",
       "        vertical-align: top;\n",
       "    }\n",
       "\n",
       "    .dataframe thead th {\n",
       "        text-align: right;\n",
       "    }\n",
       "</style>\n",
       "<table border=\"1\" class=\"dataframe\">\n",
       "  <thead>\n",
       "    <tr style=\"text-align: right;\">\n",
       "      <th></th>\n",
       "      <th>Initial setting time</th>\n",
       "      <th>Final setting time</th>\n",
       "      <th>SO3</th>\n",
       "      <th>LOI</th>\n",
       "      <th>Blaine</th>\n",
       "      <th>MgO</th>\n",
       "      <th>#200</th>\n",
       "      <th>#325</th>\n",
       "      <th>Insoluble Residue</th>\n",
       "    </tr>\n",
       "  </thead>\n",
       "  <tbody>\n",
       "    <tr>\n",
       "      <th>0</th>\n",
       "      <td>-0.001868</td>\n",
       "      <td>0.006285</td>\n",
       "      <td>0.024303</td>\n",
       "      <td>0.134414</td>\n",
       "      <td>0.191791</td>\n",
       "      <td>0.015958</td>\n",
       "      <td>0.030787</td>\n",
       "      <td>0.244577</td>\n",
       "      <td>0.741945</td>\n",
       "    </tr>\n",
       "    <tr>\n",
       "      <th>1</th>\n",
       "      <td>-0.001349</td>\n",
       "      <td>-0.002833</td>\n",
       "      <td>-0.000018</td>\n",
       "      <td>0.014847</td>\n",
       "      <td>-0.009151</td>\n",
       "      <td>0.065594</td>\n",
       "      <td>0.009328</td>\n",
       "      <td>0.380234</td>\n",
       "      <td>0.337945</td>\n",
       "    </tr>\n",
       "    <tr>\n",
       "      <th>2</th>\n",
       "      <td>-0.051963</td>\n",
       "      <td>-0.050653</td>\n",
       "      <td>-0.014876</td>\n",
       "      <td>-0.229175</td>\n",
       "      <td>-0.211265</td>\n",
       "      <td>0.200688</td>\n",
       "      <td>0.288663</td>\n",
       "      <td>0.011120</td>\n",
       "      <td>-0.235941</td>\n",
       "    </tr>\n",
       "    <tr>\n",
       "      <th>3</th>\n",
       "      <td>0.018672</td>\n",
       "      <td>0.010005</td>\n",
       "      <td>0.000641</td>\n",
       "      <td>0.116721</td>\n",
       "      <td>0.163516</td>\n",
       "      <td>0.001265</td>\n",
       "      <td>0.281998</td>\n",
       "      <td>1.427783</td>\n",
       "      <td>1.242700</td>\n",
       "    </tr>\n",
       "    <tr>\n",
       "      <th>4</th>\n",
       "      <td>-0.009698</td>\n",
       "      <td>0.006976</td>\n",
       "      <td>-0.013416</td>\n",
       "      <td>0.024952</td>\n",
       "      <td>-0.001246</td>\n",
       "      <td>0.003865</td>\n",
       "      <td>0.007865</td>\n",
       "      <td>-0.021666</td>\n",
       "      <td>0.009724</td>\n",
       "    </tr>\n",
       "  </tbody>\n",
       "</table>\n",
       "</div>"
      ],
      "text/plain": [
       "   Initial setting time  Final setting time       SO3       LOI    Blaine  \\\n",
       "0             -0.001868            0.006285  0.024303  0.134414  0.191791   \n",
       "1             -0.001349           -0.002833 -0.000018  0.014847 -0.009151   \n",
       "2             -0.051963           -0.050653 -0.014876 -0.229175 -0.211265   \n",
       "3              0.018672            0.010005  0.000641  0.116721  0.163516   \n",
       "4             -0.009698            0.006976 -0.013416  0.024952 -0.001246   \n",
       "\n",
       "        MgO      #200      #325  Insoluble Residue  \n",
       "0  0.015958  0.030787  0.244577           0.741945  \n",
       "1  0.065594  0.009328  0.380234           0.337945  \n",
       "2  0.200688  0.288663  0.011120          -0.235941  \n",
       "3  0.001265  0.281998  1.427783           1.242700  \n",
       "4  0.003865  0.007865 -0.021666           0.009724  "
      ]
     },
     "execution_count": 30,
     "metadata": {},
     "output_type": "execute_result"
    },
    {
     "data": {
      "application/javascript": [
       "\n",
       "            setTimeout(function() {\n",
       "                var nbb_cell_id = 30;\n",
       "                var nbb_unformatted_code = \"perm_importances_df\";\n",
       "                var nbb_formatted_code = \"perm_importances_df\";\n",
       "                var nbb_cells = Jupyter.notebook.get_cells();\n",
       "                for (var i = 0; i < nbb_cells.length; ++i) {\n",
       "                    if (nbb_cells[i].input_prompt_number == nbb_cell_id) {\n",
       "                        if (nbb_cells[i].get_text() == nbb_unformatted_code) {\n",
       "                             nbb_cells[i].set_text(nbb_formatted_code);\n",
       "                        }\n",
       "                        break;\n",
       "                    }\n",
       "                }\n",
       "            }, 500);\n",
       "            "
      ],
      "text/plain": [
       "<IPython.core.display.Javascript object>"
      ]
     },
     "metadata": {},
     "output_type": "display_data"
    }
   ],
   "source": [
    "perm_importances_df"
   ]
  },
  {
   "cell_type": "code",
   "execution_count": null,
   "id": "691e6060",
   "metadata": {},
   "outputs": [],
   "source": []
  }
 ],
 "metadata": {
  "kernelspec": {
   "display_name": "ccs28-venv",
   "language": "python",
   "name": "ccs28-venv"
  },
  "language_info": {
   "codemirror_mode": {
    "name": "ipython",
    "version": 3
   },
   "file_extension": ".py",
   "mimetype": "text/x-python",
   "name": "python",
   "nbconvert_exporter": "python",
   "pygments_lexer": "ipython3",
   "version": "3.10.12"
  }
 },
 "nbformat": 4,
 "nbformat_minor": 5
}
