{
 "cells": [
  {
   "cell_type": "markdown",
   "id": "609573cd",
   "metadata": {},
   "source": [
    "# Linear Regression - Top model according to the SCPM of -4.99 (dominance count 16)"
   ]
  },
  {
   "cell_type": "code",
   "execution_count": 1,
   "id": "2210e4ce",
   "metadata": {},
   "outputs": [
    {
     "data": {
      "application/javascript": [
       "\n",
       "            setTimeout(function() {\n",
       "                var nbb_cell_id = 1;\n",
       "                var nbb_unformatted_code = \"%load_ext nb_black\";\n",
       "                var nbb_formatted_code = \"%load_ext nb_black\";\n",
       "                var nbb_cells = Jupyter.notebook.get_cells();\n",
       "                for (var i = 0; i < nbb_cells.length; ++i) {\n",
       "                    if (nbb_cells[i].input_prompt_number == nbb_cell_id) {\n",
       "                        if (nbb_cells[i].get_text() == nbb_unformatted_code) {\n",
       "                             nbb_cells[i].set_text(nbb_formatted_code);\n",
       "                        }\n",
       "                        break;\n",
       "                    }\n",
       "                }\n",
       "            }, 500);\n",
       "            "
      ],
      "text/plain": [
       "<IPython.core.display.Javascript object>"
      ]
     },
     "metadata": {},
     "output_type": "display_data"
    }
   ],
   "source": [
    "%load_ext nb_black"
   ]
  },
  {
   "cell_type": "code",
   "execution_count": 2,
   "id": "668af128",
   "metadata": {},
   "outputs": [
    {
     "data": {
      "application/javascript": [
       "\n",
       "            setTimeout(function() {\n",
       "                var nbb_cell_id = 2;\n",
       "                var nbb_unformatted_code = \"# Database Reading and Manipulation\\nimport pandas as pd\\n\\n# Linear Algebra\\nimport numpy as np\\n\\n# Plotting\\nimport matplotlib\\nimport matplotlib.pyplot as plt\\nimport seaborn as sns\\n\\n# Model Selection\\nfrom sklearn.model_selection import train_test_split\\nfrom sklearn.model_selection import TimeSeriesSplit\\nfrom sklearn.model_selection import RepeatedKFold\\nfrom sklearn.model_selection import cross_val_score\\nfrom sklearn.model_selection import cross_validate\\nfrom sklearn.model_selection import GridSearchCV\\n\\n# Modeling\\nfrom sklearn.linear_model import LinearRegression\\nfrom sklearn.ensemble import RandomForestRegressor\\n\\n# Metrics\\nfrom sklearn.metrics import mean_squared_error\\nfrom sklearn.metrics import mean_absolute_error\\nfrom sklearn.metrics import mean_absolute_percentage_error\\nfrom sklearn.metrics import r2_score\\n\\n# Processing\\nfrom sklearn.preprocessing import StandardScaler\\n\\n\\n# Pipeline\\nfrom sklearn.pipeline import Pipeline\\n\\n# Data imputation\\nfrom sklearn.impute import SimpleImputer\\n\\n# Custom modules\\n## Model selection\\nfrom src.cross_validation.blocking_time_series_split import BlockingTimeSeriesSplit\\n\\n## Function to print scores\\nfrom src.utils.print_scores import print_scores\\n\\n## Function to calculate score regression metrics\\nfrom src.utils.score_regression_metrics import score_regression_metrics\\n\\n## Function to fill the results metric dict\\nfrom src.utils.fill_results_dict import fill_results_dict\\n\\n# Warnings\\nimport warnings\\n\\n# Feature importance\\nfrom sklearn.inspection import permutation_importance\";\n",
       "                var nbb_formatted_code = \"# Database Reading and Manipulation\\nimport pandas as pd\\n\\n# Linear Algebra\\nimport numpy as np\\n\\n# Plotting\\nimport matplotlib\\nimport matplotlib.pyplot as plt\\nimport seaborn as sns\\n\\n# Model Selection\\nfrom sklearn.model_selection import train_test_split\\nfrom sklearn.model_selection import TimeSeriesSplit\\nfrom sklearn.model_selection import RepeatedKFold\\nfrom sklearn.model_selection import cross_val_score\\nfrom sklearn.model_selection import cross_validate\\nfrom sklearn.model_selection import GridSearchCV\\n\\n# Modeling\\nfrom sklearn.linear_model import LinearRegression\\nfrom sklearn.ensemble import RandomForestRegressor\\n\\n# Metrics\\nfrom sklearn.metrics import mean_squared_error\\nfrom sklearn.metrics import mean_absolute_error\\nfrom sklearn.metrics import mean_absolute_percentage_error\\nfrom sklearn.metrics import r2_score\\n\\n# Processing\\nfrom sklearn.preprocessing import StandardScaler\\n\\n\\n# Pipeline\\nfrom sklearn.pipeline import Pipeline\\n\\n# Data imputation\\nfrom sklearn.impute import SimpleImputer\\n\\n# Custom modules\\n## Model selection\\nfrom src.cross_validation.blocking_time_series_split import BlockingTimeSeriesSplit\\n\\n## Function to print scores\\nfrom src.utils.print_scores import print_scores\\n\\n## Function to calculate score regression metrics\\nfrom src.utils.score_regression_metrics import score_regression_metrics\\n\\n## Function to fill the results metric dict\\nfrom src.utils.fill_results_dict import fill_results_dict\\n\\n# Warnings\\nimport warnings\\n\\n# Feature importance\\nfrom sklearn.inspection import permutation_importance\";\n",
       "                var nbb_cells = Jupyter.notebook.get_cells();\n",
       "                for (var i = 0; i < nbb_cells.length; ++i) {\n",
       "                    if (nbb_cells[i].input_prompt_number == nbb_cell_id) {\n",
       "                        if (nbb_cells[i].get_text() == nbb_unformatted_code) {\n",
       "                             nbb_cells[i].set_text(nbb_formatted_code);\n",
       "                        }\n",
       "                        break;\n",
       "                    }\n",
       "                }\n",
       "            }, 500);\n",
       "            "
      ],
      "text/plain": [
       "<IPython.core.display.Javascript object>"
      ]
     },
     "metadata": {},
     "output_type": "display_data"
    }
   ],
   "source": [
    "# Database Reading and Manipulation\n",
    "import pandas as pd\n",
    "\n",
    "# Linear Algebra\n",
    "import numpy as np\n",
    "\n",
    "# Plotting\n",
    "import matplotlib\n",
    "import matplotlib.pyplot as plt\n",
    "import seaborn as sns\n",
    "\n",
    "# Model Selection\n",
    "from sklearn.model_selection import train_test_split\n",
    "from sklearn.model_selection import TimeSeriesSplit\n",
    "from sklearn.model_selection import RepeatedKFold\n",
    "from sklearn.model_selection import cross_val_score\n",
    "from sklearn.model_selection import cross_validate\n",
    "from sklearn.model_selection import GridSearchCV\n",
    "\n",
    "# Modeling\n",
    "from sklearn.linear_model import LinearRegression\n",
    "from sklearn.ensemble import RandomForestRegressor\n",
    "\n",
    "# Metrics\n",
    "from sklearn.metrics import mean_squared_error\n",
    "from sklearn.metrics import mean_absolute_error\n",
    "from sklearn.metrics import mean_absolute_percentage_error\n",
    "from sklearn.metrics import r2_score\n",
    "\n",
    "# Processing\n",
    "from sklearn.preprocessing import StandardScaler\n",
    "\n",
    "\n",
    "# Pipeline\n",
    "from sklearn.pipeline import Pipeline\n",
    "\n",
    "# Data imputation\n",
    "from sklearn.impute import SimpleImputer\n",
    "\n",
    "# Custom modules\n",
    "## Model selection\n",
    "from src.cross_validation.blocking_time_series_split import BlockingTimeSeriesSplit\n",
    "\n",
    "## Function to print scores\n",
    "from src.utils.print_scores import print_scores\n",
    "\n",
    "## Function to calculate score regression metrics\n",
    "from src.utils.score_regression_metrics import score_regression_metrics\n",
    "\n",
    "## Function to fill the results metric dict\n",
    "from src.utils.fill_results_dict import fill_results_dict\n",
    "\n",
    "# Warnings\n",
    "import warnings\n",
    "\n",
    "# Feature importance\n",
    "from sklearn.inspection import permutation_importance"
   ]
  },
  {
   "cell_type": "markdown",
   "id": "fe4a2623",
   "metadata": {},
   "source": [
    "# Functions and definitions"
   ]
  },
  {
   "cell_type": "code",
   "execution_count": 3,
   "id": "12096d76",
   "metadata": {},
   "outputs": [
    {
     "data": {
      "application/javascript": [
       "\n",
       "            setTimeout(function() {\n",
       "                var nbb_cell_id = 3;\n",
       "                var nbb_unformatted_code = \"def get_linreg_df_importances(scores):\\n    coefs = {}\\n    bias = {}\\n    coefs_with_column = []\\n    columns = x.columns\\n\\n    for index, pipeline in enumerate(scores[\\\"estimator\\\"]):\\n        model = pipeline.named_steps[\\\"estimator\\\"]\\n        coefs[index] = model.coef_.copy()\\n        bias[index] = model.intercept_.copy()\\n\\n    for index, coefs_vec in coefs.items():\\n        coefs_col = pd.DataFrame(\\n            {col: [c] for col, c in zip(columns, coefs_vec)},\\n            index=[f\\\"Coefficients - {index}\\\"],\\n        )\\n        coefs_with_column.append(coefs_col)\\n    df_bias = pd.Series(bias)\\n    df_coefs = pd.concat(coefs_with_column)\\n\\n    return df_coefs, df_bias\";\n",
       "                var nbb_formatted_code = \"def get_linreg_df_importances(scores):\\n    coefs = {}\\n    bias = {}\\n    coefs_with_column = []\\n    columns = x.columns\\n\\n    for index, pipeline in enumerate(scores[\\\"estimator\\\"]):\\n        model = pipeline.named_steps[\\\"estimator\\\"]\\n        coefs[index] = model.coef_.copy()\\n        bias[index] = model.intercept_.copy()\\n\\n    for index, coefs_vec in coefs.items():\\n        coefs_col = pd.DataFrame(\\n            {col: [c] for col, c in zip(columns, coefs_vec)},\\n            index=[f\\\"Coefficients - {index}\\\"],\\n        )\\n        coefs_with_column.append(coefs_col)\\n    df_bias = pd.Series(bias)\\n    df_coefs = pd.concat(coefs_with_column)\\n\\n    return df_coefs, df_bias\";\n",
       "                var nbb_cells = Jupyter.notebook.get_cells();\n",
       "                for (var i = 0; i < nbb_cells.length; ++i) {\n",
       "                    if (nbb_cells[i].input_prompt_number == nbb_cell_id) {\n",
       "                        if (nbb_cells[i].get_text() == nbb_unformatted_code) {\n",
       "                             nbb_cells[i].set_text(nbb_formatted_code);\n",
       "                        }\n",
       "                        break;\n",
       "                    }\n",
       "                }\n",
       "            }, 500);\n",
       "            "
      ],
      "text/plain": [
       "<IPython.core.display.Javascript object>"
      ]
     },
     "metadata": {},
     "output_type": "display_data"
    }
   ],
   "source": [
    "def get_linreg_df_importances(scores):\n",
    "    coefs = {}\n",
    "    bias = {}\n",
    "    coefs_with_column = []\n",
    "    columns = x.columns\n",
    "\n",
    "    for index, pipeline in enumerate(scores[\"estimator\"]):\n",
    "        model = pipeline.named_steps[\"estimator\"]\n",
    "        coefs[index] = model.coef_.copy()\n",
    "        bias[index] = model.intercept_.copy()\n",
    "\n",
    "    for index, coefs_vec in coefs.items():\n",
    "        coefs_col = pd.DataFrame(\n",
    "            {col: [c] for col, c in zip(columns, coefs_vec)},\n",
    "            index=[f\"Coefficients - {index}\"],\n",
    "        )\n",
    "        coefs_with_column.append(coefs_col)\n",
    "    df_bias = pd.Series(bias)\n",
    "    df_coefs = pd.concat(coefs_with_column)\n",
    "\n",
    "    return df_coefs, df_bias"
   ]
  },
  {
   "cell_type": "code",
   "execution_count": 4,
   "id": "cd388f34",
   "metadata": {},
   "outputs": [
    {
     "data": {
      "application/javascript": [
       "\n",
       "            setTimeout(function() {\n",
       "                var nbb_cell_id = 4;\n",
       "                var nbb_unformatted_code = \"SEED = 47\\nMETRICS = (\\n    \\\"neg_root_mean_squared_error\\\",\\n    \\\"neg_mean_absolute_error\\\",\\n    \\\"neg_mean_absolute_percentage_error\\\",\\n    \\\"r2\\\",\\n)\\nMETRICS_DICT = {\\n    \\\"neg_root_mean_squared_error\\\": \\\"RMSE\\\",\\n    \\\"neg_mean_absolute_error\\\": \\\"MAE\\\",\\n    \\\"neg_mean_absolute_percentage_error\\\": \\\"MAPE\\\",\\n    \\\"r2\\\": \\\"R2\\\",\\n}\";\n",
       "                var nbb_formatted_code = \"SEED = 47\\nMETRICS = (\\n    \\\"neg_root_mean_squared_error\\\",\\n    \\\"neg_mean_absolute_error\\\",\\n    \\\"neg_mean_absolute_percentage_error\\\",\\n    \\\"r2\\\",\\n)\\nMETRICS_DICT = {\\n    \\\"neg_root_mean_squared_error\\\": \\\"RMSE\\\",\\n    \\\"neg_mean_absolute_error\\\": \\\"MAE\\\",\\n    \\\"neg_mean_absolute_percentage_error\\\": \\\"MAPE\\\",\\n    \\\"r2\\\": \\\"R2\\\",\\n}\";\n",
       "                var nbb_cells = Jupyter.notebook.get_cells();\n",
       "                for (var i = 0; i < nbb_cells.length; ++i) {\n",
       "                    if (nbb_cells[i].input_prompt_number == nbb_cell_id) {\n",
       "                        if (nbb_cells[i].get_text() == nbb_unformatted_code) {\n",
       "                             nbb_cells[i].set_text(nbb_formatted_code);\n",
       "                        }\n",
       "                        break;\n",
       "                    }\n",
       "                }\n",
       "            }, 500);\n",
       "            "
      ],
      "text/plain": [
       "<IPython.core.display.Javascript object>"
      ]
     },
     "metadata": {},
     "output_type": "display_data"
    }
   ],
   "source": [
    "SEED = 47\n",
    "METRICS = (\n",
    "    \"neg_root_mean_squared_error\",\n",
    "    \"neg_mean_absolute_error\",\n",
    "    \"neg_mean_absolute_percentage_error\",\n",
    "    \"r2\",\n",
    ")\n",
    "METRICS_DICT = {\n",
    "    \"neg_root_mean_squared_error\": \"RMSE\",\n",
    "    \"neg_mean_absolute_error\": \"MAE\",\n",
    "    \"neg_mean_absolute_percentage_error\": \"MAPE\",\n",
    "    \"r2\": \"R2\",\n",
    "}"
   ]
  },
  {
   "cell_type": "markdown",
   "id": "68005865",
   "metadata": {},
   "source": [
    "## Defining a dataframe structure to save the results"
   ]
  },
  {
   "cell_type": "code",
   "execution_count": 5,
   "id": "a5e0d3ea",
   "metadata": {},
   "outputs": [
    {
     "data": {
      "application/javascript": [
       "\n",
       "            setTimeout(function() {\n",
       "                var nbb_cell_id = 5;\n",
       "                var nbb_unformatted_code = \"results_to_save = []\\n\\nresults_dict = {\\n    \\\"Category\\\": \\\"Local Model\\\",\\n    \\\"Company\\\": \\\"206\\\",\\n    \\\"Plant\\\": \\\"B\\\",\\n    \\\"Features\\\": \\\"Chemical + Physical\\\",\\n    \\\"Data Shape\\\": None,\\n    \\\"Timesteps\\\": None,\\n    \\\"Model\\\": \\\"Random Forest\\\",\\n    \\\"Model Params\\\": None,\\n    \\\"Scaler\\\": None,\\n    \\\"Scaler Params\\\": None,\\n    \\\"Imputer\\\": \\\"Median\\\",\\n    \\\"Imputer Params\\\": None,\\n    \\\"Cross Validation\\\": None,\\n    \\\"Cross Validation Params\\\": np.nan,\\n    \\\"RMSE Train\\\": np.nan,\\n    \\\"MAE Train\\\": np.nan,\\n    \\\"MAPE Train\\\": np.nan,\\n    \\\"R2 Train\\\": np.nan,\\n    \\\"RMSE Test\\\": np.nan,\\n    \\\"MAE Test\\\": np.nan,\\n    \\\"MAPE Test\\\": np.nan,\\n    \\\"R2 Test\\\": np.nan,\\n}\";\n",
       "                var nbb_formatted_code = \"results_to_save = []\\n\\nresults_dict = {\\n    \\\"Category\\\": \\\"Local Model\\\",\\n    \\\"Company\\\": \\\"206\\\",\\n    \\\"Plant\\\": \\\"B\\\",\\n    \\\"Features\\\": \\\"Chemical + Physical\\\",\\n    \\\"Data Shape\\\": None,\\n    \\\"Timesteps\\\": None,\\n    \\\"Model\\\": \\\"Random Forest\\\",\\n    \\\"Model Params\\\": None,\\n    \\\"Scaler\\\": None,\\n    \\\"Scaler Params\\\": None,\\n    \\\"Imputer\\\": \\\"Median\\\",\\n    \\\"Imputer Params\\\": None,\\n    \\\"Cross Validation\\\": None,\\n    \\\"Cross Validation Params\\\": np.nan,\\n    \\\"RMSE Train\\\": np.nan,\\n    \\\"MAE Train\\\": np.nan,\\n    \\\"MAPE Train\\\": np.nan,\\n    \\\"R2 Train\\\": np.nan,\\n    \\\"RMSE Test\\\": np.nan,\\n    \\\"MAE Test\\\": np.nan,\\n    \\\"MAPE Test\\\": np.nan,\\n    \\\"R2 Test\\\": np.nan,\\n}\";\n",
       "                var nbb_cells = Jupyter.notebook.get_cells();\n",
       "                for (var i = 0; i < nbb_cells.length; ++i) {\n",
       "                    if (nbb_cells[i].input_prompt_number == nbb_cell_id) {\n",
       "                        if (nbb_cells[i].get_text() == nbb_unformatted_code) {\n",
       "                             nbb_cells[i].set_text(nbb_formatted_code);\n",
       "                        }\n",
       "                        break;\n",
       "                    }\n",
       "                }\n",
       "            }, 500);\n",
       "            "
      ],
      "text/plain": [
       "<IPython.core.display.Javascript object>"
      ]
     },
     "metadata": {},
     "output_type": "display_data"
    }
   ],
   "source": [
    "results_to_save = []\n",
    "\n",
    "results_dict = {\n",
    "    \"Category\": \"Local Model\",\n",
    "    \"Company\": \"206\",\n",
    "    \"Plant\": \"B\",\n",
    "    \"Features\": \"Chemical + Physical\",\n",
    "    \"Data Shape\": None,\n",
    "    \"Timesteps\": None,\n",
    "    \"Model\": \"Random Forest\",\n",
    "    \"Model Params\": None,\n",
    "    \"Scaler\": None,\n",
    "    \"Scaler Params\": None,\n",
    "    \"Imputer\": \"Median\",\n",
    "    \"Imputer Params\": None,\n",
    "    \"Cross Validation\": None,\n",
    "    \"Cross Validation Params\": np.nan,\n",
    "    \"RMSE Train\": np.nan,\n",
    "    \"MAE Train\": np.nan,\n",
    "    \"MAPE Train\": np.nan,\n",
    "    \"R2 Train\": np.nan,\n",
    "    \"RMSE Test\": np.nan,\n",
    "    \"MAE Test\": np.nan,\n",
    "    \"MAPE Test\": np.nan,\n",
    "    \"R2 Test\": np.nan,\n",
    "}"
   ]
  },
  {
   "cell_type": "markdown",
   "id": "2a452455",
   "metadata": {},
   "source": [
    "# Reading the dataset"
   ]
  },
  {
   "cell_type": "code",
   "execution_count": 6,
   "id": "d0e89a40",
   "metadata": {},
   "outputs": [
    {
     "data": {
      "application/javascript": [
       "\n",
       "            setTimeout(function() {\n",
       "                var nbb_cell_id = 6;\n",
       "                var nbb_unformatted_code = \"df = pd.read_csv(\\\"../../../../data/processed/206/b.csv\\\")\";\n",
       "                var nbb_formatted_code = \"df = pd.read_csv(\\\"../../../../data/processed/206/b.csv\\\")\";\n",
       "                var nbb_cells = Jupyter.notebook.get_cells();\n",
       "                for (var i = 0; i < nbb_cells.length; ++i) {\n",
       "                    if (nbb_cells[i].input_prompt_number == nbb_cell_id) {\n",
       "                        if (nbb_cells[i].get_text() == nbb_unformatted_code) {\n",
       "                             nbb_cells[i].set_text(nbb_formatted_code);\n",
       "                        }\n",
       "                        break;\n",
       "                    }\n",
       "                }\n",
       "            }, 500);\n",
       "            "
      ],
      "text/plain": [
       "<IPython.core.display.Javascript object>"
      ]
     },
     "metadata": {},
     "output_type": "display_data"
    }
   ],
   "source": [
    "df = pd.read_csv(\"../../../../data/processed/206/b.csv\")"
   ]
  },
  {
   "cell_type": "markdown",
   "id": "2ae57845",
   "metadata": {},
   "source": [
    "## Defining Features\n",
    "\n",
    "In this set of experiments we keep only chemical and mineralogical features yielded by the same testing method/procedure"
   ]
  },
  {
   "cell_type": "code",
   "execution_count": 7,
   "id": "ea0331c1",
   "metadata": {},
   "outputs": [
    {
     "data": {
      "application/javascript": [
       "\n",
       "            setTimeout(function() {\n",
       "                var nbb_cell_id = 7;\n",
       "                var nbb_unformatted_code = \"df_copy = df.copy().drop(\\n    [\\n        \\\"Cement_Type\\\",\\n    ],\\n    axis=1,\\n)\";\n",
       "                var nbb_formatted_code = \"df_copy = df.copy().drop(\\n    [\\n        \\\"Cement_Type\\\",\\n    ],\\n    axis=1,\\n)\";\n",
       "                var nbb_cells = Jupyter.notebook.get_cells();\n",
       "                for (var i = 0; i < nbb_cells.length; ++i) {\n",
       "                    if (nbb_cells[i].input_prompt_number == nbb_cell_id) {\n",
       "                        if (nbb_cells[i].get_text() == nbb_unformatted_code) {\n",
       "                             nbb_cells[i].set_text(nbb_formatted_code);\n",
       "                        }\n",
       "                        break;\n",
       "                    }\n",
       "                }\n",
       "            }, 500);\n",
       "            "
      ],
      "text/plain": [
       "<IPython.core.display.Javascript object>"
      ]
     },
     "metadata": {},
     "output_type": "display_data"
    }
   ],
   "source": [
    "df_copy = df.copy().drop(\n",
    "    [\n",
    "        \"Cement_Type\",\n",
    "    ],\n",
    "    axis=1,\n",
    ")"
   ]
  },
  {
   "cell_type": "code",
   "execution_count": 8,
   "id": "eed9d427",
   "metadata": {},
   "outputs": [
    {
     "data": {
      "application/javascript": [
       "\n",
       "            setTimeout(function() {\n",
       "                var nbb_cell_id = 8;\n",
       "                var nbb_unformatted_code = \"y = df_copy.pop(\\\"CS28\\\").values\\nx = df_copy.drop([\\\"Date\\\"], axis=1)\\ndates = df[\\\"Date\\\"].copy()\";\n",
       "                var nbb_formatted_code = \"y = df_copy.pop(\\\"CS28\\\").values\\nx = df_copy.drop([\\\"Date\\\"], axis=1)\\ndates = df[\\\"Date\\\"].copy()\";\n",
       "                var nbb_cells = Jupyter.notebook.get_cells();\n",
       "                for (var i = 0; i < nbb_cells.length; ++i) {\n",
       "                    if (nbb_cells[i].input_prompt_number == nbb_cell_id) {\n",
       "                        if (nbb_cells[i].get_text() == nbb_unformatted_code) {\n",
       "                             nbb_cells[i].set_text(nbb_formatted_code);\n",
       "                        }\n",
       "                        break;\n",
       "                    }\n",
       "                }\n",
       "            }, 500);\n",
       "            "
      ],
      "text/plain": [
       "<IPython.core.display.Javascript object>"
      ]
     },
     "metadata": {},
     "output_type": "display_data"
    }
   ],
   "source": [
    "y = df_copy.pop(\"CS28\").values\n",
    "x = df_copy.drop([\"Date\"], axis=1)\n",
    "dates = df[\"Date\"].copy()"
   ]
  },
  {
   "cell_type": "code",
   "execution_count": 9,
   "id": "2543aff4",
   "metadata": {},
   "outputs": [
    {
     "data": {
      "application/javascript": [
       "\n",
       "            setTimeout(function() {\n",
       "                var nbb_cell_id = 9;\n",
       "                var nbb_unformatted_code = \"matplotlib.rc_file_defaults()\";\n",
       "                var nbb_formatted_code = \"matplotlib.rc_file_defaults()\";\n",
       "                var nbb_cells = Jupyter.notebook.get_cells();\n",
       "                for (var i = 0; i < nbb_cells.length; ++i) {\n",
       "                    if (nbb_cells[i].input_prompt_number == nbb_cell_id) {\n",
       "                        if (nbb_cells[i].get_text() == nbb_unformatted_code) {\n",
       "                             nbb_cells[i].set_text(nbb_formatted_code);\n",
       "                        }\n",
       "                        break;\n",
       "                    }\n",
       "                }\n",
       "            }, 500);\n",
       "            "
      ],
      "text/plain": [
       "<IPython.core.display.Javascript object>"
      ]
     },
     "metadata": {},
     "output_type": "display_data"
    }
   ],
   "source": [
    "matplotlib.rc_file_defaults()"
   ]
  },
  {
   "cell_type": "markdown",
   "id": "14148c75",
   "metadata": {},
   "source": [
    "## 1.2. Blocking Time Series Cross Validation"
   ]
  },
  {
   "cell_type": "code",
   "execution_count": 10,
   "id": "9a7a01b2",
   "metadata": {},
   "outputs": [
    {
     "name": "stdout",
     "output_type": "stream",
     "text": [
      "Blocking Time Series Split:\n",
      "Repeats: 3\n",
      "n_splits: 5\n",
      "\n",
      "******\n",
      "[TRAIN]\n",
      "******\n",
      "RMSE: -1.134 (0.228)\n",
      "MAE: -0.890 (0.174)\n",
      "MAPE: -0.020 (0.004)\n",
      "R2: 0.817 (0.060)\n",
      "\n",
      "======================\n",
      "\n",
      "******\n",
      "[TEST]\n",
      "******\n",
      "RMSE: -1.585 (0.306)\n",
      "MAE: -1.208 (0.179)\n",
      "MAPE: -0.027 (0.005)\n",
      "R2: 0.257 (0.816)\n",
      "\n",
      "======================\n",
      "\n"
     ]
    },
    {
     "data": {
      "application/javascript": [
       "\n",
       "            setTimeout(function() {\n",
       "                var nbb_cell_id = 10;\n",
       "                var nbb_unformatted_code = \"repeats = 3\\nn_splits = 5\\ntrain_size = 0.8\\n\\npipeline = Pipeline(\\n    [\\n        (\\\"imputer\\\", SimpleImputer(strategy=\\\"median\\\")),\\n        (\\\"transformer\\\", StandardScaler()),\\n        (\\\"estimator\\\", LinearRegression()),\\n    ]\\n)\\ncv = BlockingTimeSeriesSplit(n_splits=n_splits, train_size=train_size)\\nscores = cross_validate(\\n    pipeline,\\n    x,\\n    y,\\n    scoring=METRICS,\\n    cv=cv,\\n    n_jobs=-1,\\n    return_train_score=True,\\n    return_estimator=True,\\n    return_indices=True,\\n)\\nprint(\\\"Blocking Time Series Split:\\\")\\nprint(f\\\"Repeats: {repeats}\\\")\\nprint(f\\\"n_splits: {n_splits}\\\")\\nprint()\\nprint_scores(scores, METRICS, METRICS_DICT)\\n\\nresults_dict_copy = results_dict.copy()\\nresults_dict_copy[\\\"Cross Validation\\\"] = \\\"Blocking Time Series Split\\\"\\nresults_dict_copy[\\n    \\\"Cross Validation Params\\\"\\n] = '{\\\"N_Splits\\\": 5, \\\"Repeats\\\": 1, \\\"train_size\\\": 0.8}'\\nresults_dict_copy[\\\"Data Shape\\\"] = x.shape\\ndf_results = fill_results_dict(results_dict_copy, scores)\\nresults_to_save.append(df_results)\";\n",
       "                var nbb_formatted_code = \"repeats = 3\\nn_splits = 5\\ntrain_size = 0.8\\n\\npipeline = Pipeline(\\n    [\\n        (\\\"imputer\\\", SimpleImputer(strategy=\\\"median\\\")),\\n        (\\\"transformer\\\", StandardScaler()),\\n        (\\\"estimator\\\", LinearRegression()),\\n    ]\\n)\\ncv = BlockingTimeSeriesSplit(n_splits=n_splits, train_size=train_size)\\nscores = cross_validate(\\n    pipeline,\\n    x,\\n    y,\\n    scoring=METRICS,\\n    cv=cv,\\n    n_jobs=-1,\\n    return_train_score=True,\\n    return_estimator=True,\\n    return_indices=True,\\n)\\nprint(\\\"Blocking Time Series Split:\\\")\\nprint(f\\\"Repeats: {repeats}\\\")\\nprint(f\\\"n_splits: {n_splits}\\\")\\nprint()\\nprint_scores(scores, METRICS, METRICS_DICT)\\n\\nresults_dict_copy = results_dict.copy()\\nresults_dict_copy[\\\"Cross Validation\\\"] = \\\"Blocking Time Series Split\\\"\\nresults_dict_copy[\\n    \\\"Cross Validation Params\\\"\\n] = '{\\\"N_Splits\\\": 5, \\\"Repeats\\\": 1, \\\"train_size\\\": 0.8}'\\nresults_dict_copy[\\\"Data Shape\\\"] = x.shape\\ndf_results = fill_results_dict(results_dict_copy, scores)\\nresults_to_save.append(df_results)\";\n",
       "                var nbb_cells = Jupyter.notebook.get_cells();\n",
       "                for (var i = 0; i < nbb_cells.length; ++i) {\n",
       "                    if (nbb_cells[i].input_prompt_number == nbb_cell_id) {\n",
       "                        if (nbb_cells[i].get_text() == nbb_unformatted_code) {\n",
       "                             nbb_cells[i].set_text(nbb_formatted_code);\n",
       "                        }\n",
       "                        break;\n",
       "                    }\n",
       "                }\n",
       "            }, 500);\n",
       "            "
      ],
      "text/plain": [
       "<IPython.core.display.Javascript object>"
      ]
     },
     "metadata": {},
     "output_type": "display_data"
    }
   ],
   "source": [
    "repeats = 3\n",
    "n_splits = 5\n",
    "train_size = 0.8\n",
    "\n",
    "pipeline = Pipeline(\n",
    "    [\n",
    "        (\"imputer\", SimpleImputer(strategy=\"median\")),\n",
    "        (\"transformer\", StandardScaler()),\n",
    "        (\"estimator\", LinearRegression()),\n",
    "    ]\n",
    ")\n",
    "cv = BlockingTimeSeriesSplit(n_splits=n_splits, train_size=train_size)\n",
    "scores = cross_validate(\n",
    "    pipeline,\n",
    "    x,\n",
    "    y,\n",
    "    scoring=METRICS,\n",
    "    cv=cv,\n",
    "    n_jobs=-1,\n",
    "    return_train_score=True,\n",
    "    return_estimator=True,\n",
    "    return_indices=True,\n",
    ")\n",
    "print(\"Blocking Time Series Split:\")\n",
    "print(f\"Repeats: {repeats}\")\n",
    "print(f\"n_splits: {n_splits}\")\n",
    "print()\n",
    "print_scores(scores, METRICS, METRICS_DICT)\n",
    "\n",
    "results_dict_copy = results_dict.copy()\n",
    "results_dict_copy[\"Cross Validation\"] = \"Blocking Time Series Split\"\n",
    "results_dict_copy[\n",
    "    \"Cross Validation Params\"\n",
    "] = '{\"N_Splits\": 5, \"Repeats\": 1, \"train_size\": 0.8}'\n",
    "results_dict_copy[\"Data Shape\"] = x.shape\n",
    "df_results = fill_results_dict(results_dict_copy, scores)\n",
    "results_to_save.append(df_results)"
   ]
  },
  {
   "cell_type": "markdown",
   "id": "f0d6c9af",
   "metadata": {},
   "source": [
    "## Plotting the Predictions"
   ]
  },
  {
   "cell_type": "code",
   "execution_count": 11,
   "id": "f3f3a343",
   "metadata": {},
   "outputs": [
    {
     "data": {
      "application/javascript": [
       "\n",
       "            setTimeout(function() {\n",
       "                var nbb_cell_id = 11;\n",
       "                var nbb_unformatted_code = \"df_pred = pd.DataFrame()\\ndf_pred[\\\"DATE\\\"] = dates.copy()\\ndf_pred[\\\"CS28\\\"] = y.copy()\\ndf_pred[\\\"CS28_PRED\\\"] = np.nan\\ndf_pred[\\\"SET\\\"] = \\\"\\\"\\ndf_pred[\\\"CEMENT_TYPE\\\"] = df[\\\"Cement_Type\\\"].copy()\\ndf_pred[\\\"DATE\\\"] = pd.to_datetime(df_pred[\\\"DATE\\\"])\\n\\n\\nfor idx, pipeline in enumerate(scores[\\\"estimator\\\"]):\\n    index_train = scores[\\\"indices\\\"][\\\"train\\\"][idx]\\n    index_test = scores[\\\"indices\\\"][\\\"test\\\"][idx]\\n    index_preds = np.concatenate([index_train, index_test])\\n\\n    # results = scores[\\\"estimator\\\"][0].predict(x.loc[index_preds])\\n    results = pipeline.predict(x.loc[index_preds])\\n    df_pred.loc[index_preds, \\\"CS28_PRED\\\"] = results.copy()\\n    df_pred.loc[index_train, \\\"SET\\\"] = \\\"TRAIN\\\"\\n    df_pred.loc[index_test, \\\"SET\\\"] = \\\"TEST\\\"\\ndf_pred = df_pred.dropna()\";\n",
       "                var nbb_formatted_code = \"df_pred = pd.DataFrame()\\ndf_pred[\\\"DATE\\\"] = dates.copy()\\ndf_pred[\\\"CS28\\\"] = y.copy()\\ndf_pred[\\\"CS28_PRED\\\"] = np.nan\\ndf_pred[\\\"SET\\\"] = \\\"\\\"\\ndf_pred[\\\"CEMENT_TYPE\\\"] = df[\\\"Cement_Type\\\"].copy()\\ndf_pred[\\\"DATE\\\"] = pd.to_datetime(df_pred[\\\"DATE\\\"])\\n\\n\\nfor idx, pipeline in enumerate(scores[\\\"estimator\\\"]):\\n    index_train = scores[\\\"indices\\\"][\\\"train\\\"][idx]\\n    index_test = scores[\\\"indices\\\"][\\\"test\\\"][idx]\\n    index_preds = np.concatenate([index_train, index_test])\\n\\n    # results = scores[\\\"estimator\\\"][0].predict(x.loc[index_preds])\\n    results = pipeline.predict(x.loc[index_preds])\\n    df_pred.loc[index_preds, \\\"CS28_PRED\\\"] = results.copy()\\n    df_pred.loc[index_train, \\\"SET\\\"] = \\\"TRAIN\\\"\\n    df_pred.loc[index_test, \\\"SET\\\"] = \\\"TEST\\\"\\ndf_pred = df_pred.dropna()\";\n",
       "                var nbb_cells = Jupyter.notebook.get_cells();\n",
       "                for (var i = 0; i < nbb_cells.length; ++i) {\n",
       "                    if (nbb_cells[i].input_prompt_number == nbb_cell_id) {\n",
       "                        if (nbb_cells[i].get_text() == nbb_unformatted_code) {\n",
       "                             nbb_cells[i].set_text(nbb_formatted_code);\n",
       "                        }\n",
       "                        break;\n",
       "                    }\n",
       "                }\n",
       "            }, 500);\n",
       "            "
      ],
      "text/plain": [
       "<IPython.core.display.Javascript object>"
      ]
     },
     "metadata": {},
     "output_type": "display_data"
    }
   ],
   "source": [
    "df_pred = pd.DataFrame()\n",
    "df_pred[\"DATE\"] = dates.copy()\n",
    "df_pred[\"CS28\"] = y.copy()\n",
    "df_pred[\"CS28_PRED\"] = np.nan\n",
    "df_pred[\"SET\"] = \"\"\n",
    "df_pred[\"CEMENT_TYPE\"] = df[\"Cement_Type\"].copy()\n",
    "df_pred[\"DATE\"] = pd.to_datetime(df_pred[\"DATE\"])\n",
    "\n",
    "\n",
    "for idx, pipeline in enumerate(scores[\"estimator\"]):\n",
    "    index_train = scores[\"indices\"][\"train\"][idx]\n",
    "    index_test = scores[\"indices\"][\"test\"][idx]\n",
    "    index_preds = np.concatenate([index_train, index_test])\n",
    "\n",
    "    # results = scores[\"estimator\"][0].predict(x.loc[index_preds])\n",
    "    results = pipeline.predict(x.loc[index_preds])\n",
    "    df_pred.loc[index_preds, \"CS28_PRED\"] = results.copy()\n",
    "    df_pred.loc[index_train, \"SET\"] = \"TRAIN\"\n",
    "    df_pred.loc[index_test, \"SET\"] = \"TEST\"\n",
    "df_pred = df_pred.dropna()"
   ]
  },
  {
   "cell_type": "code",
   "execution_count": 12,
   "id": "ca36b5b0",
   "metadata": {},
   "outputs": [
    {
     "data": {
      "text/html": [
       "<div>\n",
       "<style scoped>\n",
       "    .dataframe tbody tr th:only-of-type {\n",
       "        vertical-align: middle;\n",
       "    }\n",
       "\n",
       "    .dataframe tbody tr th {\n",
       "        vertical-align: top;\n",
       "    }\n",
       "\n",
       "    .dataframe thead th {\n",
       "        text-align: right;\n",
       "    }\n",
       "</style>\n",
       "<table border=\"1\" class=\"dataframe\">\n",
       "  <thead>\n",
       "    <tr style=\"text-align: right;\">\n",
       "      <th></th>\n",
       "      <th>DATE</th>\n",
       "      <th>CS28</th>\n",
       "      <th>CS28_PRED</th>\n",
       "      <th>SET</th>\n",
       "    </tr>\n",
       "  </thead>\n",
       "  <tbody>\n",
       "    <tr>\n",
       "      <th>0</th>\n",
       "      <td>2020-01-02</td>\n",
       "      <td>39.2875</td>\n",
       "      <td>41.916129</td>\n",
       "      <td>TRAIN</td>\n",
       "    </tr>\n",
       "    <tr>\n",
       "      <th>1</th>\n",
       "      <td>2020-01-02</td>\n",
       "      <td>48.0475</td>\n",
       "      <td>46.913294</td>\n",
       "      <td>TRAIN</td>\n",
       "    </tr>\n",
       "    <tr>\n",
       "      <th>2</th>\n",
       "      <td>2020-01-04</td>\n",
       "      <td>49.3350</td>\n",
       "      <td>47.589001</td>\n",
       "      <td>TRAIN</td>\n",
       "    </tr>\n",
       "    <tr>\n",
       "      <th>3</th>\n",
       "      <td>2020-01-07</td>\n",
       "      <td>41.8425</td>\n",
       "      <td>41.936472</td>\n",
       "      <td>TRAIN</td>\n",
       "    </tr>\n",
       "    <tr>\n",
       "      <th>4</th>\n",
       "      <td>2020-01-07</td>\n",
       "      <td>47.3150</td>\n",
       "      <td>46.838542</td>\n",
       "      <td>TRAIN</td>\n",
       "    </tr>\n",
       "    <tr>\n",
       "      <th>...</th>\n",
       "      <td>...</td>\n",
       "      <td>...</td>\n",
       "      <td>...</td>\n",
       "      <td>...</td>\n",
       "    </tr>\n",
       "    <tr>\n",
       "      <th>1160</th>\n",
       "      <td>2023-02-16</td>\n",
       "      <td>39.9700</td>\n",
       "      <td>40.651285</td>\n",
       "      <td>TEST</td>\n",
       "    </tr>\n",
       "    <tr>\n",
       "      <th>1161</th>\n",
       "      <td>2023-02-18</td>\n",
       "      <td>40.2000</td>\n",
       "      <td>40.531396</td>\n",
       "      <td>TEST</td>\n",
       "    </tr>\n",
       "    <tr>\n",
       "      <th>1162</th>\n",
       "      <td>2023-02-20</td>\n",
       "      <td>38.5075</td>\n",
       "      <td>39.523271</td>\n",
       "      <td>TEST</td>\n",
       "    </tr>\n",
       "    <tr>\n",
       "      <th>1163</th>\n",
       "      <td>2023-02-21</td>\n",
       "      <td>41.0575</td>\n",
       "      <td>42.638316</td>\n",
       "      <td>TEST</td>\n",
       "    </tr>\n",
       "    <tr>\n",
       "      <th>1164</th>\n",
       "      <td>2023-02-22</td>\n",
       "      <td>39.4950</td>\n",
       "      <td>42.129869</td>\n",
       "      <td>TEST</td>\n",
       "    </tr>\n",
       "  </tbody>\n",
       "</table>\n",
       "<p>1165 rows × 4 columns</p>\n",
       "</div>"
      ],
      "text/plain": [
       "           DATE     CS28  CS28_PRED    SET\n",
       "0    2020-01-02  39.2875  41.916129  TRAIN\n",
       "1    2020-01-02  48.0475  46.913294  TRAIN\n",
       "2    2020-01-04  49.3350  47.589001  TRAIN\n",
       "3    2020-01-07  41.8425  41.936472  TRAIN\n",
       "4    2020-01-07  47.3150  46.838542  TRAIN\n",
       "...         ...      ...        ...    ...\n",
       "1160 2023-02-16  39.9700  40.651285   TEST\n",
       "1161 2023-02-18  40.2000  40.531396   TEST\n",
       "1162 2023-02-20  38.5075  39.523271   TEST\n",
       "1163 2023-02-21  41.0575  42.638316   TEST\n",
       "1164 2023-02-22  39.4950  42.129869   TEST\n",
       "\n",
       "[1165 rows x 4 columns]"
      ]
     },
     "execution_count": 12,
     "metadata": {},
     "output_type": "execute_result"
    },
    {
     "data": {
      "application/javascript": [
       "\n",
       "            setTimeout(function() {\n",
       "                var nbb_cell_id = 12;\n",
       "                var nbb_unformatted_code = \"df_pred[[\\\"DATE\\\", \\\"CS28\\\", \\\"CS28_PRED\\\", \\\"SET\\\"]]\";\n",
       "                var nbb_formatted_code = \"df_pred[[\\\"DATE\\\", \\\"CS28\\\", \\\"CS28_PRED\\\", \\\"SET\\\"]]\";\n",
       "                var nbb_cells = Jupyter.notebook.get_cells();\n",
       "                for (var i = 0; i < nbb_cells.length; ++i) {\n",
       "                    if (nbb_cells[i].input_prompt_number == nbb_cell_id) {\n",
       "                        if (nbb_cells[i].get_text() == nbb_unformatted_code) {\n",
       "                             nbb_cells[i].set_text(nbb_formatted_code);\n",
       "                        }\n",
       "                        break;\n",
       "                    }\n",
       "                }\n",
       "            }, 500);\n",
       "            "
      ],
      "text/plain": [
       "<IPython.core.display.Javascript object>"
      ]
     },
     "metadata": {},
     "output_type": "display_data"
    }
   ],
   "source": [
    "df_pred[[\"DATE\", \"CS28\", \"CS28_PRED\", \"SET\"]]"
   ]
  },
  {
   "cell_type": "code",
   "execution_count": 13,
   "id": "93198f93",
   "metadata": {},
   "outputs": [
    {
     "data": {
      "text/html": [
       "<div>\n",
       "<style scoped>\n",
       "    .dataframe tbody tr th:only-of-type {\n",
       "        vertical-align: middle;\n",
       "    }\n",
       "\n",
       "    .dataframe tbody tr th {\n",
       "        vertical-align: top;\n",
       "    }\n",
       "\n",
       "    .dataframe thead th {\n",
       "        text-align: right;\n",
       "    }\n",
       "</style>\n",
       "<table border=\"1\" class=\"dataframe\">\n",
       "  <thead>\n",
       "    <tr style=\"text-align: right;\">\n",
       "      <th></th>\n",
       "      <th>DATE</th>\n",
       "      <th>CS28</th>\n",
       "      <th>CS28_PRED</th>\n",
       "      <th>SET</th>\n",
       "      <th>CEMENT_TYPE</th>\n",
       "    </tr>\n",
       "  </thead>\n",
       "  <tbody>\n",
       "    <tr>\n",
       "      <th>0</th>\n",
       "      <td>2020-01-02</td>\n",
       "      <td>39.2875</td>\n",
       "      <td>41.916129</td>\n",
       "      <td>TRAIN</td>\n",
       "      <td>CPIV32RS</td>\n",
       "    </tr>\n",
       "    <tr>\n",
       "      <th>1</th>\n",
       "      <td>2020-01-02</td>\n",
       "      <td>48.0475</td>\n",
       "      <td>46.913294</td>\n",
       "      <td>TRAIN</td>\n",
       "      <td>CPVARI</td>\n",
       "    </tr>\n",
       "    <tr>\n",
       "      <th>2</th>\n",
       "      <td>2020-01-04</td>\n",
       "      <td>49.3350</td>\n",
       "      <td>47.589001</td>\n",
       "      <td>TRAIN</td>\n",
       "      <td>CPVARI</td>\n",
       "    </tr>\n",
       "    <tr>\n",
       "      <th>3</th>\n",
       "      <td>2020-01-07</td>\n",
       "      <td>41.8425</td>\n",
       "      <td>41.936472</td>\n",
       "      <td>TRAIN</td>\n",
       "      <td>CPIV32RS</td>\n",
       "    </tr>\n",
       "    <tr>\n",
       "      <th>4</th>\n",
       "      <td>2020-01-07</td>\n",
       "      <td>47.3150</td>\n",
       "      <td>46.838542</td>\n",
       "      <td>TRAIN</td>\n",
       "      <td>CPVARI</td>\n",
       "    </tr>\n",
       "    <tr>\n",
       "      <th>...</th>\n",
       "      <td>...</td>\n",
       "      <td>...</td>\n",
       "      <td>...</td>\n",
       "      <td>...</td>\n",
       "      <td>...</td>\n",
       "    </tr>\n",
       "    <tr>\n",
       "      <th>1160</th>\n",
       "      <td>2023-02-16</td>\n",
       "      <td>39.9700</td>\n",
       "      <td>40.651285</td>\n",
       "      <td>TEST</td>\n",
       "      <td>CPIV32RS</td>\n",
       "    </tr>\n",
       "    <tr>\n",
       "      <th>1161</th>\n",
       "      <td>2023-02-18</td>\n",
       "      <td>40.2000</td>\n",
       "      <td>40.531396</td>\n",
       "      <td>TEST</td>\n",
       "      <td>CPIV32RS</td>\n",
       "    </tr>\n",
       "    <tr>\n",
       "      <th>1162</th>\n",
       "      <td>2023-02-20</td>\n",
       "      <td>38.5075</td>\n",
       "      <td>39.523271</td>\n",
       "      <td>TEST</td>\n",
       "      <td>CPIV32RS</td>\n",
       "    </tr>\n",
       "    <tr>\n",
       "      <th>1163</th>\n",
       "      <td>2023-02-21</td>\n",
       "      <td>41.0575</td>\n",
       "      <td>42.638316</td>\n",
       "      <td>TEST</td>\n",
       "      <td>CPIV32RS</td>\n",
       "    </tr>\n",
       "    <tr>\n",
       "      <th>1164</th>\n",
       "      <td>2023-02-22</td>\n",
       "      <td>39.4950</td>\n",
       "      <td>42.129869</td>\n",
       "      <td>TEST</td>\n",
       "      <td>CPIV32RS</td>\n",
       "    </tr>\n",
       "  </tbody>\n",
       "</table>\n",
       "<p>1165 rows × 5 columns</p>\n",
       "</div>"
      ],
      "text/plain": [
       "           DATE     CS28  CS28_PRED    SET CEMENT_TYPE\n",
       "0    2020-01-02  39.2875  41.916129  TRAIN    CPIV32RS\n",
       "1    2020-01-02  48.0475  46.913294  TRAIN      CPVARI\n",
       "2    2020-01-04  49.3350  47.589001  TRAIN      CPVARI\n",
       "3    2020-01-07  41.8425  41.936472  TRAIN    CPIV32RS\n",
       "4    2020-01-07  47.3150  46.838542  TRAIN      CPVARI\n",
       "...         ...      ...        ...    ...         ...\n",
       "1160 2023-02-16  39.9700  40.651285   TEST    CPIV32RS\n",
       "1161 2023-02-18  40.2000  40.531396   TEST    CPIV32RS\n",
       "1162 2023-02-20  38.5075  39.523271   TEST    CPIV32RS\n",
       "1163 2023-02-21  41.0575  42.638316   TEST    CPIV32RS\n",
       "1164 2023-02-22  39.4950  42.129869   TEST    CPIV32RS\n",
       "\n",
       "[1165 rows x 5 columns]"
      ]
     },
     "execution_count": 13,
     "metadata": {},
     "output_type": "execute_result"
    },
    {
     "data": {
      "application/javascript": [
       "\n",
       "            setTimeout(function() {\n",
       "                var nbb_cell_id = 13;\n",
       "                var nbb_unformatted_code = \"df_pred\";\n",
       "                var nbb_formatted_code = \"df_pred\";\n",
       "                var nbb_cells = Jupyter.notebook.get_cells();\n",
       "                for (var i = 0; i < nbb_cells.length; ++i) {\n",
       "                    if (nbb_cells[i].input_prompt_number == nbb_cell_id) {\n",
       "                        if (nbb_cells[i].get_text() == nbb_unformatted_code) {\n",
       "                             nbb_cells[i].set_text(nbb_formatted_code);\n",
       "                        }\n",
       "                        break;\n",
       "                    }\n",
       "                }\n",
       "            }, 500);\n",
       "            "
      ],
      "text/plain": [
       "<IPython.core.display.Javascript object>"
      ]
     },
     "metadata": {},
     "output_type": "display_data"
    }
   ],
   "source": [
    "df_pred"
   ]
  },
  {
   "cell_type": "code",
   "execution_count": 14,
   "id": "84a96e5d",
   "metadata": {},
   "outputs": [
    {
     "data": {
      "application/javascript": [
       "\n",
       "            setTimeout(function() {\n",
       "                var nbb_cell_id = 14;\n",
       "                var nbb_unformatted_code = \"# df_copy_merge = df_copy.merge(df_pred, left_index=True, right_index=True, how=\\\"left\\\")\\n# df_copy_merge[\\\"COMPANY\\\"] = 209\\n# df_copy_merge[\\\"PLANT\\\"] = \\\"S\\\"\\n# for fold, (train_index, test_index) in enumerate(cv.split(x)):\\n#     df_copy_merge.loc[train_index, \\\"FOLD\\\"] = fold + 1\\n#     df_copy_merge.loc[test_index, \\\"FOLD\\\"] = fold + 1\\n# df_copy_merge[\\\"FOLD\\\"] = df_copy_merge[\\\"FOLD\\\"].astype(int)\\n# df_copy_merge.to_excel(\\\"local_model_linear_regression_btsscv_209_k.xlsx\\\", index=False)\\n# df_copy_merge.to_csv(\\\"local_model_linear_regression_btsscv_209_k.csv\\\", index=False)\";\n",
       "                var nbb_formatted_code = \"# df_copy_merge = df_copy.merge(df_pred, left_index=True, right_index=True, how=\\\"left\\\")\\n# df_copy_merge[\\\"COMPANY\\\"] = 209\\n# df_copy_merge[\\\"PLANT\\\"] = \\\"S\\\"\\n# for fold, (train_index, test_index) in enumerate(cv.split(x)):\\n#     df_copy_merge.loc[train_index, \\\"FOLD\\\"] = fold + 1\\n#     df_copy_merge.loc[test_index, \\\"FOLD\\\"] = fold + 1\\n# df_copy_merge[\\\"FOLD\\\"] = df_copy_merge[\\\"FOLD\\\"].astype(int)\\n# df_copy_merge.to_excel(\\\"local_model_linear_regression_btsscv_209_k.xlsx\\\", index=False)\\n# df_copy_merge.to_csv(\\\"local_model_linear_regression_btsscv_209_k.csv\\\", index=False)\";\n",
       "                var nbb_cells = Jupyter.notebook.get_cells();\n",
       "                for (var i = 0; i < nbb_cells.length; ++i) {\n",
       "                    if (nbb_cells[i].input_prompt_number == nbb_cell_id) {\n",
       "                        if (nbb_cells[i].get_text() == nbb_unformatted_code) {\n",
       "                             nbb_cells[i].set_text(nbb_formatted_code);\n",
       "                        }\n",
       "                        break;\n",
       "                    }\n",
       "                }\n",
       "            }, 500);\n",
       "            "
      ],
      "text/plain": [
       "<IPython.core.display.Javascript object>"
      ]
     },
     "metadata": {},
     "output_type": "display_data"
    }
   ],
   "source": [
    "# df_copy_merge = df_copy.merge(df_pred, left_index=True, right_index=True, how=\"left\")\n",
    "# df_copy_merge[\"COMPANY\"] = 209\n",
    "# df_copy_merge[\"PLANT\"] = \"S\"\n",
    "# for fold, (train_index, test_index) in enumerate(cv.split(x)):\n",
    "#     df_copy_merge.loc[train_index, \"FOLD\"] = fold + 1\n",
    "#     df_copy_merge.loc[test_index, \"FOLD\"] = fold + 1\n",
    "# df_copy_merge[\"FOLD\"] = df_copy_merge[\"FOLD\"].astype(int)\n",
    "# df_copy_merge.to_excel(\"local_model_linear_regression_btsscv_209_k.xlsx\", index=False)\n",
    "# df_copy_merge.to_csv(\"local_model_linear_regression_btsscv_209_k.csv\", index=False)"
   ]
  },
  {
   "cell_type": "code",
   "execution_count": 15,
   "id": "e1b1b18c",
   "metadata": {},
   "outputs": [
    {
     "data": {
      "application/javascript": [
       "\n",
       "            setTimeout(function() {\n",
       "                var nbb_cell_id = 15;\n",
       "                var nbb_unformatted_code = \"matplotlib.rc_file_defaults()\";\n",
       "                var nbb_formatted_code = \"matplotlib.rc_file_defaults()\";\n",
       "                var nbb_cells = Jupyter.notebook.get_cells();\n",
       "                for (var i = 0; i < nbb_cells.length; ++i) {\n",
       "                    if (nbb_cells[i].input_prompt_number == nbb_cell_id) {\n",
       "                        if (nbb_cells[i].get_text() == nbb_unformatted_code) {\n",
       "                             nbb_cells[i].set_text(nbb_formatted_code);\n",
       "                        }\n",
       "                        break;\n",
       "                    }\n",
       "                }\n",
       "            }, 500);\n",
       "            "
      ],
      "text/plain": [
       "<IPython.core.display.Javascript object>"
      ]
     },
     "metadata": {},
     "output_type": "display_data"
    }
   ],
   "source": [
    "matplotlib.rc_file_defaults()"
   ]
  },
  {
   "cell_type": "code",
   "execution_count": 16,
   "id": "de596d92",
   "metadata": {},
   "outputs": [
    {
     "data": {
      "image/png": "[encoded data removed]",
      "text/plain": [
       "<Figure size 600x600 with 1 Axes>"
      ]
     },
     "metadata": {},
     "output_type": "display_data"
    },
    {
     "data": {
      "application/javascript": [
       "\n",
       "            setTimeout(function() {\n",
       "                var nbb_cell_id = 16;\n",
       "                var nbb_unformatted_code = \"test_data = df_pred[df_pred[\\\"SET\\\"] == \\\"TEST\\\"]\\n\\nplt.figure(figsize=(6, 6))\\nplt.scatter(\\n    test_data[\\\"CS28\\\"], test_data[\\\"CS28_PRED\\\"], color=\\\"tomato\\\", alpha=0.7, label=\\\"Predicted\\\"\\n)\\nplt.plot(\\n    [test_data[\\\"CS28\\\"].min(), test_data[\\\"CS28\\\"].max()],\\n    [test_data[\\\"CS28\\\"].min(), test_data[\\\"CS28\\\"].max()],\\n    color=\\\"black\\\", linestyle=\\\"--\\\", linewidth=2,\\n)\\nplt.xlabel(\\\"Actual CS28 (MPa)\\\")\\nplt.ylabel(\\\"Predicted CS28 (MPa)\\\")\\nplt.title(\\\"Predicted vs Actual CS28\\\")\\nplt.legend()\\nplt.grid(True)\\nplt.gca().spines[\\\"top\\\"].set_visible(False)\\nplt.gca().spines[\\\"right\\\"].set_visible(False)\\n\\nplt.savefig(\\\"ecics_206_b_local_cm_p_cs_btiss_top_scpm_pred_vs_actual_cs28.png\\\", dpi=300, bbox_inches='tight')\\nplt.show()\";\n",
       "                var nbb_formatted_code = \"test_data = df_pred[df_pred[\\\"SET\\\"] == \\\"TEST\\\"]\\n\\nplt.figure(figsize=(6, 6))\\nplt.scatter(\\n    test_data[\\\"CS28\\\"],\\n    test_data[\\\"CS28_PRED\\\"],\\n    color=\\\"tomato\\\",\\n    alpha=0.7,\\n    label=\\\"Predicted\\\",\\n)\\nplt.plot(\\n    [test_data[\\\"CS28\\\"].min(), test_data[\\\"CS28\\\"].max()],\\n    [test_data[\\\"CS28\\\"].min(), test_data[\\\"CS28\\\"].max()],\\n    color=\\\"black\\\",\\n    linestyle=\\\"--\\\",\\n    linewidth=2,\\n)\\nplt.xlabel(\\\"Actual CS28 (MPa)\\\")\\nplt.ylabel(\\\"Predicted CS28 (MPa)\\\")\\nplt.title(\\\"Predicted vs Actual CS28\\\")\\nplt.legend()\\nplt.grid(True)\\nplt.gca().spines[\\\"top\\\"].set_visible(False)\\nplt.gca().spines[\\\"right\\\"].set_visible(False)\\n\\nplt.savefig(\\n    \\\"ecics_206_b_local_cm_p_cs_btiss_top_scpm_pred_vs_actual_cs28.png\\\",\\n    dpi=300,\\n    bbox_inches=\\\"tight\\\",\\n)\\nplt.show()\";\n",
       "                var nbb_cells = Jupyter.notebook.get_cells();\n",
       "                for (var i = 0; i < nbb_cells.length; ++i) {\n",
       "                    if (nbb_cells[i].input_prompt_number == nbb_cell_id) {\n",
       "                        if (nbb_cells[i].get_text() == nbb_unformatted_code) {\n",
       "                             nbb_cells[i].set_text(nbb_formatted_code);\n",
       "                        }\n",
       "                        break;\n",
       "                    }\n",
       "                }\n",
       "            }, 500);\n",
       "            "
      ],
      "text/plain": [
       "<IPython.core.display.Javascript object>"
      ]
     },
     "metadata": {},
     "output_type": "display_data"
    }
   ],
   "source": [
    "test_data = df_pred[df_pred[\"SET\"] == \"TEST\"]\n",
    "\n",
    "plt.figure(figsize=(6, 6))\n",
    "plt.scatter(\n",
    "    test_data[\"CS28\"], test_data[\"CS28_PRED\"], color=\"tomato\", alpha=0.7, label=\"Predicted\"\n",
    ")\n",
    "plt.plot(\n",
    "    [test_data[\"CS28\"].min(), test_data[\"CS28\"].max()],\n",
    "    [test_data[\"CS28\"].min(), test_data[\"CS28\"].max()],\n",
    "    color=\"black\", linestyle=\"--\", linewidth=2,\n",
    ")\n",
    "plt.xlabel(\"Actual CS28 (MPa)\")\n",
    "plt.ylabel(\"Predicted CS28 (MPa)\")\n",
    "plt.title(\"Predicted vs Actual CS28\")\n",
    "plt.legend()\n",
    "plt.grid(True)\n",
    "plt.gca().spines[\"top\"].set_visible(False)\n",
    "plt.gca().spines[\"right\"].set_visible(False)\n",
    "\n",
    "plt.savefig(\"ecics_206_b_local_cm_p_cs_btiss_top_scpm_pred_vs_actual_cs28.png\", dpi=300, bbox_inches='tight')\n",
    "plt.show()\n"
   ]
  },
  {
   "cell_type": "code",
   "execution_count": 17,
   "id": "2ad169b2",
   "metadata": {
    "scrolled": false
   },
   "outputs": [
    {
     "data": {
      "text/plain": [
       "Cement_Type\n",
       "CPVARI      598\n",
       "CPIV32RS    571\n",
       "Name: count, dtype: int64"
      ]
     },
     "execution_count": 17,
     "metadata": {},
     "output_type": "execute_result"
    },
    {
     "data": {
      "application/javascript": [
       "\n",
       "            setTimeout(function() {\n",
       "                var nbb_cell_id = 17;\n",
       "                var nbb_unformatted_code = \"df[\\\"Cement_Type\\\"].value_counts()\";\n",
       "                var nbb_formatted_code = \"df[\\\"Cement_Type\\\"].value_counts()\";\n",
       "                var nbb_cells = Jupyter.notebook.get_cells();\n",
       "                for (var i = 0; i < nbb_cells.length; ++i) {\n",
       "                    if (nbb_cells[i].input_prompt_number == nbb_cell_id) {\n",
       "                        if (nbb_cells[i].get_text() == nbb_unformatted_code) {\n",
       "                             nbb_cells[i].set_text(nbb_formatted_code);\n",
       "                        }\n",
       "                        break;\n",
       "                    }\n",
       "                }\n",
       "            }, 500);\n",
       "            "
      ],
      "text/plain": [
       "<IPython.core.display.Javascript object>"
      ]
     },
     "metadata": {},
     "output_type": "display_data"
    }
   ],
   "source": [
    "df[\"Cement_Type\"].value_counts()"
   ]
  },
  {
   "cell_type": "code",
   "execution_count": 18,
   "id": "4c054183",
   "metadata": {},
   "outputs": [
    {
     "data": {
      "image/png": "[encoded data removed]",
      "text/plain": [
       "<Figure size 1000x600 with 1 Axes>"
      ]
     },
     "metadata": {},
     "output_type": "display_data"
    },
    {
     "data": {
      "application/javascript": [
       "\n",
       "            setTimeout(function() {\n",
       "                var nbb_cell_id = 18;\n",
       "                var nbb_unformatted_code = \"plt.figure(figsize=(10, 6))\\nplt.plot(\\n    test_data[\\\"DATE\\\"],\\n    test_data[\\\"CS28\\\"],\\n    color=\\\"dodgerblue\\\",\\n    alpha=0.7,\\n    marker=\\\"o\\\",\\n    linestyle=\\\"none\\\",\\n    label=\\\"Actual CS28\\\",\\n)\\nplt.plot(\\n    test_data[\\\"DATE\\\"],\\n    test_data[\\\"CS28_PRED\\\"],\\n    color=\\\"tomato\\\",\\n    alpha=0.7,\\n    marker=\\\"o\\\",\\n    linestyle=\\\"none\\\",\\n    label=\\\"Predicted CS28\\\",\\n)\\nplt.xlabel(\\\"Date\\\")\\nplt.ylabel(\\\"CS28 (MPa)\\\")\\nplt.title(\\\"Actual vs Predicted CS28\\\")\\nplt.legend(loc=\\\"best\\\")\\nplt.grid(True)\\n\\nplt.gca().spines[\\\"top\\\"].set_visible(False)\\nplt.gca().spines[\\\"right\\\"].set_visible(False)\\n\\nplt.savefig(\\n    \\\"ecics_206_b_local_cm_p_cs_btiss_top_scpm_pred_vs_actual_cs28_over_time.png\\\",\\n    dpi=300,\\n    bbox_inches=\\\"tight\\\",\\n)\\n\\nplt.show()\";\n",
       "                var nbb_formatted_code = \"plt.figure(figsize=(10, 6))\\nplt.plot(\\n    test_data[\\\"DATE\\\"],\\n    test_data[\\\"CS28\\\"],\\n    color=\\\"dodgerblue\\\",\\n    alpha=0.7,\\n    marker=\\\"o\\\",\\n    linestyle=\\\"none\\\",\\n    label=\\\"Actual CS28\\\",\\n)\\nplt.plot(\\n    test_data[\\\"DATE\\\"],\\n    test_data[\\\"CS28_PRED\\\"],\\n    color=\\\"tomato\\\",\\n    alpha=0.7,\\n    marker=\\\"o\\\",\\n    linestyle=\\\"none\\\",\\n    label=\\\"Predicted CS28\\\",\\n)\\nplt.xlabel(\\\"Date\\\")\\nplt.ylabel(\\\"CS28 (MPa)\\\")\\nplt.title(\\\"Actual vs Predicted CS28\\\")\\nplt.legend(loc=\\\"best\\\")\\nplt.grid(True)\\n\\nplt.gca().spines[\\\"top\\\"].set_visible(False)\\nplt.gca().spines[\\\"right\\\"].set_visible(False)\\n\\nplt.savefig(\\n    \\\"ecics_206_b_local_cm_p_cs_btiss_top_scpm_pred_vs_actual_cs28_over_time.png\\\",\\n    dpi=300,\\n    bbox_inches=\\\"tight\\\",\\n)\\n\\nplt.show()\";\n",
       "                var nbb_cells = Jupyter.notebook.get_cells();\n",
       "                for (var i = 0; i < nbb_cells.length; ++i) {\n",
       "                    if (nbb_cells[i].input_prompt_number == nbb_cell_id) {\n",
       "                        if (nbb_cells[i].get_text() == nbb_unformatted_code) {\n",
       "                             nbb_cells[i].set_text(nbb_formatted_code);\n",
       "                        }\n",
       "                        break;\n",
       "                    }\n",
       "                }\n",
       "            }, 500);\n",
       "            "
      ],
      "text/plain": [
       "<IPython.core.display.Javascript object>"
      ]
     },
     "metadata": {},
     "output_type": "display_data"
    }
   ],
   "source": [
    "plt.figure(figsize=(10, 6))\n",
    "plt.plot(\n",
    "    test_data[\"DATE\"],\n",
    "    test_data[\"CS28\"],\n",
    "    color=\"dodgerblue\",\n",
    "    alpha=0.7,\n",
    "    marker=\"o\",\n",
    "    linestyle=\"none\",\n",
    "    label=\"Actual CS28\",\n",
    ")\n",
    "plt.plot(\n",
    "    test_data[\"DATE\"],\n",
    "    test_data[\"CS28_PRED\"],\n",
    "    color=\"tomato\",\n",
    "    alpha=0.7,\n",
    "    marker=\"o\",\n",
    "    linestyle=\"none\",\n",
    "    label=\"Predicted CS28\",\n",
    ")\n",
    "plt.xlabel(\"Date\")\n",
    "plt.ylabel(\"CS28 (MPa)\")\n",
    "plt.title(\"Actual vs Predicted CS28\")\n",
    "plt.legend(loc=\"best\")\n",
    "plt.grid(True)\n",
    "\n",
    "plt.gca().spines[\"top\"].set_visible(False)\n",
    "plt.gca().spines[\"right\"].set_visible(False)\n",
    "\n",
    "plt.savefig(\n",
    "    \"ecics_206_b_local_cm_p_cs_btiss_top_scpm_pred_vs_actual_cs28_over_time.png\",\n",
    "    dpi=300,\n",
    "    bbox_inches=\"tight\",\n",
    ")\n",
    "\n",
    "plt.show()\n"
   ]
  },
  {
   "cell_type": "markdown",
   "id": "9f23fcf7",
   "metadata": {},
   "source": [
    "## Assessing Feature Importance"
   ]
  },
  {
   "cell_type": "code",
   "execution_count": 19,
   "id": "830c5acd",
   "metadata": {},
   "outputs": [
    {
     "data": {
      "application/javascript": [
       "\n",
       "            setTimeout(function() {\n",
       "                var nbb_cell_id = 19;\n",
       "                var nbb_unformatted_code = \"df_coefs, df_bias = get_linreg_df_importances(scores)\\ndf_importances = df_coefs\";\n",
       "                var nbb_formatted_code = \"df_coefs, df_bias = get_linreg_df_importances(scores)\\ndf_importances = df_coefs\";\n",
       "                var nbb_cells = Jupyter.notebook.get_cells();\n",
       "                for (var i = 0; i < nbb_cells.length; ++i) {\n",
       "                    if (nbb_cells[i].input_prompt_number == nbb_cell_id) {\n",
       "                        if (nbb_cells[i].get_text() == nbb_unformatted_code) {\n",
       "                             nbb_cells[i].set_text(nbb_formatted_code);\n",
       "                        }\n",
       "                        break;\n",
       "                    }\n",
       "                }\n",
       "            }, 500);\n",
       "            "
      ],
      "text/plain": [
       "<IPython.core.display.Javascript object>"
      ]
     },
     "metadata": {},
     "output_type": "display_data"
    }
   ],
   "source": [
    "df_coefs, df_bias = get_linreg_df_importances(scores)\n",
    "df_importances = df_coefs"
   ]
  },
  {
   "cell_type": "code",
   "execution_count": 20,
   "id": "d6445c3f",
   "metadata": {},
   "outputs": [
    {
     "data": {
      "text/html": [
       "<div>\n",
       "<style scoped>\n",
       "    .dataframe tbody tr th:only-of-type {\n",
       "        vertical-align: middle;\n",
       "    }\n",
       "\n",
       "    .dataframe tbody tr th {\n",
       "        vertical-align: top;\n",
       "    }\n",
       "\n",
       "    .dataframe thead th {\n",
       "        text-align: right;\n",
       "    }\n",
       "</style>\n",
       "<table border=\"1\" class=\"dataframe\">\n",
       "  <thead>\n",
       "    <tr style=\"text-align: right;\">\n",
       "      <th></th>\n",
       "      <th>MgO</th>\n",
       "      <th>SO3</th>\n",
       "      <th>Loss on Ignition</th>\n",
       "      <th>Insoluble Residue</th>\n",
       "      <th>Blaine</th>\n",
       "      <th>#200</th>\n",
       "      <th>#325</th>\n",
       "      <th>Initial setting time</th>\n",
       "      <th>Final setting time</th>\n",
       "      <th>CS1</th>\n",
       "      <th>CS3</th>\n",
       "      <th>CS7</th>\n",
       "    </tr>\n",
       "  </thead>\n",
       "  <tbody>\n",
       "    <tr>\n",
       "      <th>Coefficients - 0</th>\n",
       "      <td>0.176383</td>\n",
       "      <td>-0.215437</td>\n",
       "      <td>-0.685387</td>\n",
       "      <td>-1.146190</td>\n",
       "      <td>0.554170</td>\n",
       "      <td>-0.120669</td>\n",
       "      <td>-0.531059</td>\n",
       "      <td>0.073935</td>\n",
       "      <td>-0.111615</td>\n",
       "      <td>-1.084612</td>\n",
       "      <td>1.633789</td>\n",
       "      <td>0.750356</td>\n",
       "    </tr>\n",
       "    <tr>\n",
       "      <th>Coefficients - 1</th>\n",
       "      <td>-0.534021</td>\n",
       "      <td>-0.098947</td>\n",
       "      <td>-0.280784</td>\n",
       "      <td>-0.474210</td>\n",
       "      <td>-0.284999</td>\n",
       "      <td>0.595045</td>\n",
       "      <td>-1.078979</td>\n",
       "      <td>0.097391</td>\n",
       "      <td>-0.161781</td>\n",
       "      <td>0.231894</td>\n",
       "      <td>0.748996</td>\n",
       "      <td>0.431847</td>\n",
       "    </tr>\n",
       "    <tr>\n",
       "      <th>Coefficients - 2</th>\n",
       "      <td>-0.284943</td>\n",
       "      <td>0.000597</td>\n",
       "      <td>-0.391496</td>\n",
       "      <td>0.055046</td>\n",
       "      <td>-0.587637</td>\n",
       "      <td>-0.057449</td>\n",
       "      <td>0.139305</td>\n",
       "      <td>-0.153649</td>\n",
       "      <td>-0.048598</td>\n",
       "      <td>1.141056</td>\n",
       "      <td>0.261191</td>\n",
       "      <td>0.202367</td>\n",
       "    </tr>\n",
       "    <tr>\n",
       "      <th>Coefficients - 3</th>\n",
       "      <td>0.144728</td>\n",
       "      <td>0.087965</td>\n",
       "      <td>0.734533</td>\n",
       "      <td>-1.880403</td>\n",
       "      <td>0.098659</td>\n",
       "      <td>0.865003</td>\n",
       "      <td>-0.838686</td>\n",
       "      <td>0.117994</td>\n",
       "      <td>-0.088800</td>\n",
       "      <td>-0.529741</td>\n",
       "      <td>0.357475</td>\n",
       "      <td>1.003539</td>\n",
       "    </tr>\n",
       "    <tr>\n",
       "      <th>Coefficients - 4</th>\n",
       "      <td>-0.209670</td>\n",
       "      <td>0.092376</td>\n",
       "      <td>-0.116596</td>\n",
       "      <td>-0.850583</td>\n",
       "      <td>0.646914</td>\n",
       "      <td>0.023024</td>\n",
       "      <td>-1.394128</td>\n",
       "      <td>0.301070</td>\n",
       "      <td>-0.259356</td>\n",
       "      <td>-0.761922</td>\n",
       "      <td>0.883952</td>\n",
       "      <td>1.230611</td>\n",
       "    </tr>\n",
       "  </tbody>\n",
       "</table>\n",
       "</div>"
      ],
      "text/plain": [
       "                       MgO       SO3  Loss on Ignition  Insoluble Residue  \\\n",
       "Coefficients - 0  0.176383 -0.215437         -0.685387          -1.146190   \n",
       "Coefficients - 1 -0.534021 -0.098947         -0.280784          -0.474210   \n",
       "Coefficients - 2 -0.284943  0.000597         -0.391496           0.055046   \n",
       "Coefficients - 3  0.144728  0.087965          0.734533          -1.880403   \n",
       "Coefficients - 4 -0.209670  0.092376         -0.116596          -0.850583   \n",
       "\n",
       "                    Blaine      #200      #325  Initial setting time  \\\n",
       "Coefficients - 0  0.554170 -0.120669 -0.531059              0.073935   \n",
       "Coefficients - 1 -0.284999  0.595045 -1.078979              0.097391   \n",
       "Coefficients - 2 -0.587637 -0.057449  0.139305             -0.153649   \n",
       "Coefficients - 3  0.098659  0.865003 -0.838686              0.117994   \n",
       "Coefficients - 4  0.646914  0.023024 -1.394128              0.301070   \n",
       "\n",
       "                  Final setting time       CS1       CS3       CS7  \n",
       "Coefficients - 0           -0.111615 -1.084612  1.633789  0.750356  \n",
       "Coefficients - 1           -0.161781  0.231894  0.748996  0.431847  \n",
       "Coefficients - 2           -0.048598  1.141056  0.261191  0.202367  \n",
       "Coefficients - 3           -0.088800 -0.529741  0.357475  1.003539  \n",
       "Coefficients - 4           -0.259356 -0.761922  0.883952  1.230611  "
      ]
     },
     "execution_count": 20,
     "metadata": {},
     "output_type": "execute_result"
    },
    {
     "data": {
      "application/javascript": [
       "\n",
       "            setTimeout(function() {\n",
       "                var nbb_cell_id = 20;\n",
       "                var nbb_unformatted_code = \"df_importances\";\n",
       "                var nbb_formatted_code = \"df_importances\";\n",
       "                var nbb_cells = Jupyter.notebook.get_cells();\n",
       "                for (var i = 0; i < nbb_cells.length; ++i) {\n",
       "                    if (nbb_cells[i].input_prompt_number == nbb_cell_id) {\n",
       "                        if (nbb_cells[i].get_text() == nbb_unformatted_code) {\n",
       "                             nbb_cells[i].set_text(nbb_formatted_code);\n",
       "                        }\n",
       "                        break;\n",
       "                    }\n",
       "                }\n",
       "            }, 500);\n",
       "            "
      ],
      "text/plain": [
       "<IPython.core.display.Javascript object>"
      ]
     },
     "metadata": {},
     "output_type": "display_data"
    }
   ],
   "source": [
    "df_importances"
   ]
  },
  {
   "cell_type": "code",
   "execution_count": 21,
   "id": "fb3b94ca",
   "metadata": {},
   "outputs": [
    {
     "data": {
      "image/png": "[encoded data removed]",
      "text/plain": [
       "<Figure size 1000x550 with 1 Axes>"
      ]
     },
     "metadata": {},
     "output_type": "display_data"
    },
    {
     "data": {
      "application/javascript": [
       "\n",
       "            setTimeout(function() {\n",
       "                var nbb_cell_id = 21;\n",
       "                var nbb_unformatted_code = \"df_importances.mean(axis=0).sort_values().plot(\\n    kind=\\\"barh\\\", figsize=(10, 5.5), color=\\\"steelblue\\\"  # Consider using 'steelblue'\\n)\\nplt.title(\\\"Linear Regression Variable Relevance\\\")\\nplt.xlabel(\\\"Variable Relevance (Coefficient)\\\")\\nplt.grid(axis=\\\"x\\\", linestyle=\\\"--\\\", alpha=0.7)\\nplt.gca().spines[\\\"top\\\"].set_visible(False)\\nplt.gca().spines[\\\"right\\\"].set_visible(False)\\nplt.tight_layout()\\nplt.subplots_adjust(left=0.3)\\nplt.show()\";\n",
       "                var nbb_formatted_code = \"df_importances.mean(axis=0).sort_values().plot(\\n    kind=\\\"barh\\\", figsize=(10, 5.5), color=\\\"steelblue\\\"  # Consider using 'steelblue'\\n)\\nplt.title(\\\"Linear Regression Variable Relevance\\\")\\nplt.xlabel(\\\"Variable Relevance (Coefficient)\\\")\\nplt.grid(axis=\\\"x\\\", linestyle=\\\"--\\\", alpha=0.7)\\nplt.gca().spines[\\\"top\\\"].set_visible(False)\\nplt.gca().spines[\\\"right\\\"].set_visible(False)\\nplt.tight_layout()\\nplt.subplots_adjust(left=0.3)\\nplt.show()\";\n",
       "                var nbb_cells = Jupyter.notebook.get_cells();\n",
       "                for (var i = 0; i < nbb_cells.length; ++i) {\n",
       "                    if (nbb_cells[i].input_prompt_number == nbb_cell_id) {\n",
       "                        if (nbb_cells[i].get_text() == nbb_unformatted_code) {\n",
       "                             nbb_cells[i].set_text(nbb_formatted_code);\n",
       "                        }\n",
       "                        break;\n",
       "                    }\n",
       "                }\n",
       "            }, 500);\n",
       "            "
      ],
      "text/plain": [
       "<IPython.core.display.Javascript object>"
      ]
     },
     "metadata": {},
     "output_type": "display_data"
    }
   ],
   "source": [
    "df_importances.mean(axis=0).sort_values().plot(\n",
    "    kind=\"barh\", figsize=(10, 5.5), color=\"steelblue\"  # Consider using 'steelblue'\n",
    ")\n",
    "plt.title(\"Linear Regression Variable Relevance\")\n",
    "plt.xlabel(\"Variable Relevance (Coefficient)\")\n",
    "plt.grid(axis=\"x\", linestyle=\"--\", alpha=0.7)\n",
    "plt.gca().spines[\"top\"].set_visible(False)\n",
    "plt.gca().spines[\"right\"].set_visible(False)\n",
    "plt.tight_layout()\n",
    "plt.subplots_adjust(left=0.3)\n",
    "plt.show()"
   ]
  },
  {
   "cell_type": "code",
   "execution_count": 22,
   "id": "510a3cc1",
   "metadata": {},
   "outputs": [
    {
     "data": {
      "application/javascript": [
       "\n",
       "            setTimeout(function() {\n",
       "                var nbb_cell_id = 22;\n",
       "                var nbb_unformatted_code = \"warnings.filterwarnings(\\\"ignore\\\")\";\n",
       "                var nbb_formatted_code = \"warnings.filterwarnings(\\\"ignore\\\")\";\n",
       "                var nbb_cells = Jupyter.notebook.get_cells();\n",
       "                for (var i = 0; i < nbb_cells.length; ++i) {\n",
       "                    if (nbb_cells[i].input_prompt_number == nbb_cell_id) {\n",
       "                        if (nbb_cells[i].get_text() == nbb_unformatted_code) {\n",
       "                             nbb_cells[i].set_text(nbb_formatted_code);\n",
       "                        }\n",
       "                        break;\n",
       "                    }\n",
       "                }\n",
       "            }, 500);\n",
       "            "
      ],
      "text/plain": [
       "<IPython.core.display.Javascript object>"
      ]
     },
     "metadata": {},
     "output_type": "display_data"
    }
   ],
   "source": [
    "warnings.filterwarnings(\"ignore\")"
   ]
  },
  {
   "cell_type": "code",
   "execution_count": 23,
   "id": "a37b5600",
   "metadata": {},
   "outputs": [
    {
     "data": {
      "image/png": "[encoded data removed]",
      "text/plain": [
       "<Figure size 1000x650 with 1 Axes>"
      ]
     },
     "metadata": {},
     "output_type": "display_data"
    },
    {
     "data": {
      "application/javascript": [
       "\n",
       "            setTimeout(function() {\n",
       "                var nbb_cell_id = 23;\n",
       "                var nbb_unformatted_code = \"# Calculate the means of the importance scores\\nmean_importances = df_importances.mean()\\n\\n# Sort the features by their mean relevance\\nsorted_features = mean_importances.sort_values()\\n\\n# Re-order the DataFrame according to the sorted features\\ndf_importances_sorted = df_importances[sorted_features.index]\\n\\n# Backup the original backend\\noriginal_backend = plt.get_backend()\\n\\n# Use Matplotlib's default backend\\n# plt.switch_backend(\\\"agg\\\")  # or any backend you prefer\\n\\n# Update font settings to default\\nplt.rcParams.update(\\n    {\\n        \\\"font.family\\\": \\\"sans-serif\\\",\\n        \\\"font.sans-serif\\\": [\\\"DejaVu Sans\\\"],\\n        \\\"font.size\\\": 10,\\n        \\\"text.usetex\\\": False,  # Use MathText, not LaTeX\\n    }\\n)\\n\\n\\n# Convert chemical formulas using MathText syntax\\ndf_importances_sorted_plot = df_importances_sorted.rename(\\n    columns={\\n        \\\"Alpha C2S\\\": r\\\"Alpha $\\\\mathrm{C_2S}$\\\",\\n        \\\"Beta C2S\\\": r\\\"Beta $\\\\mathrm{C_2S}$\\\",\\n        \\\"Gamma C2S\\\": r\\\"Gamma $\\\\mathrm{C_2S}$\\\",\\n        \\\"Cubic C3A\\\": r\\\"Cubic $\\\\mathrm{C_3A}$\\\",\\n        \\\"Orthorhombic C3A\\\": r\\\"Orthorhombic $\\\\mathrm{C_3A}$\\\",\\n        \\\"K2O\\\": r\\\"$\\\\mathrm{K_2O}$\\\",\\n        \\\"Free CaO\\\": r\\\"Free $\\\\mathrm{CaO}$\\\",\\n        \\\"Total C2S\\\": r\\\"Total $\\\\mathrm{C_2S}$\\\",\\n        \\\"Na2O\\\": r\\\"$\\\\mathrm{Na_2O}$\\\",\\n        \\\"CaO\\\": r\\\"$\\\\mathrm{CaO}$\\\",\\n        \\\"SiO2\\\": r\\\"$\\\\mathrm{SiO_2}$\\\",\\n        \\\"MgO\\\": r\\\"$\\\\mathrm{MgO}$\\\",\\n        \\\"Fe2O3\\\": r\\\"$\\\\mathrm{Fe_2O_3}$\\\",\\n        \\\"Al2O3\\\": r\\\"$\\\\mathrm{Al_2O_3}$\\\",\\n        \\\"Total C3S\\\": r\\\"Total $\\\\mathrm{C_3S}$\\\",\\n        \\\"C3A\\\": r\\\"$\\\\mathrm{C_3A}$\\\",\\n        \\\"C4AF\\\": r\\\"$\\\\mathrm{C_4AF}$\\\",\\n        \\\"LOI\\\": \\\"LOI\\\",\\n        \\\"SO3\\\": r\\\"$\\\\mathrm{SO_3}$\\\",\\n        \\\"Insoluble Residue\\\": \\\"IR\\\",\\n        \\\"Loss on Ignition\\\": \\\"LOI\\\",\\n    }\\n)\\n\\nplt.figure(figsize=(10, 6.5))\\nsns.boxplot(\\n    data=df_importances_sorted_plot,\\n    orient=\\\"h\\\",\\n    color=\\\"lightsteelblue\\\",\\n    saturation=1,\\n    showmeans=True,\\n)\\nsns.despine(trim=True, left=False)\\nplt.xlabel(\\\"Relevance (Coefficient)\\\")\\nplt.title(\\\"Variable Relevance Distribution\\\")\\nplt.grid(axis=\\\"x\\\", linestyle=\\\"--\\\", alpha=0.7)\\nplt.subplots_adjust(left=0.3)\\n\\nplt.savefig(\\n    \\\"ecics_206_b_local_cm_p_cs_btiss_top_scpm_dist_var_coef_relevance.png\\\",\\n    dpi=300,\\n    bbox_inches=\\\"tight\\\",\\n)\\n\\nplt.show()\\n\\n\\n# Step 3: Reset all rcParams to their default values\\nmatplotlib.rcParams.update(matplotlib.rcParamsDefault)\\nplt.rcdefaults()\\n\\n# Switch back to the original backend\\nplt.switch_backend(original_backend)\";\n",
       "                var nbb_formatted_code = \"# Calculate the means of the importance scores\\nmean_importances = df_importances.mean()\\n\\n# Sort the features by their mean relevance\\nsorted_features = mean_importances.sort_values()\\n\\n# Re-order the DataFrame according to the sorted features\\ndf_importances_sorted = df_importances[sorted_features.index]\\n\\n# Backup the original backend\\noriginal_backend = plt.get_backend()\\n\\n# Use Matplotlib's default backend\\n# plt.switch_backend(\\\"agg\\\")  # or any backend you prefer\\n\\n# Update font settings to default\\nplt.rcParams.update(\\n    {\\n        \\\"font.family\\\": \\\"sans-serif\\\",\\n        \\\"font.sans-serif\\\": [\\\"DejaVu Sans\\\"],\\n        \\\"font.size\\\": 10,\\n        \\\"text.usetex\\\": False,  # Use MathText, not LaTeX\\n    }\\n)\\n\\n\\n# Convert chemical formulas using MathText syntax\\ndf_importances_sorted_plot = df_importances_sorted.rename(\\n    columns={\\n        \\\"Alpha C2S\\\": r\\\"Alpha $\\\\mathrm{C_2S}$\\\",\\n        \\\"Beta C2S\\\": r\\\"Beta $\\\\mathrm{C_2S}$\\\",\\n        \\\"Gamma C2S\\\": r\\\"Gamma $\\\\mathrm{C_2S}$\\\",\\n        \\\"Cubic C3A\\\": r\\\"Cubic $\\\\mathrm{C_3A}$\\\",\\n        \\\"Orthorhombic C3A\\\": r\\\"Orthorhombic $\\\\mathrm{C_3A}$\\\",\\n        \\\"K2O\\\": r\\\"$\\\\mathrm{K_2O}$\\\",\\n        \\\"Free CaO\\\": r\\\"Free $\\\\mathrm{CaO}$\\\",\\n        \\\"Total C2S\\\": r\\\"Total $\\\\mathrm{C_2S}$\\\",\\n        \\\"Na2O\\\": r\\\"$\\\\mathrm{Na_2O}$\\\",\\n        \\\"CaO\\\": r\\\"$\\\\mathrm{CaO}$\\\",\\n        \\\"SiO2\\\": r\\\"$\\\\mathrm{SiO_2}$\\\",\\n        \\\"MgO\\\": r\\\"$\\\\mathrm{MgO}$\\\",\\n        \\\"Fe2O3\\\": r\\\"$\\\\mathrm{Fe_2O_3}$\\\",\\n        \\\"Al2O3\\\": r\\\"$\\\\mathrm{Al_2O_3}$\\\",\\n        \\\"Total C3S\\\": r\\\"Total $\\\\mathrm{C_3S}$\\\",\\n        \\\"C3A\\\": r\\\"$\\\\mathrm{C_3A}$\\\",\\n        \\\"C4AF\\\": r\\\"$\\\\mathrm{C_4AF}$\\\",\\n        \\\"LOI\\\": \\\"LOI\\\",\\n        \\\"SO3\\\": r\\\"$\\\\mathrm{SO_3}$\\\",\\n        \\\"Insoluble Residue\\\": \\\"IR\\\",\\n        \\\"Loss on Ignition\\\": \\\"LOI\\\",\\n    }\\n)\\n\\nplt.figure(figsize=(10, 6.5))\\nsns.boxplot(\\n    data=df_importances_sorted_plot,\\n    orient=\\\"h\\\",\\n    color=\\\"lightsteelblue\\\",\\n    saturation=1,\\n    showmeans=True,\\n)\\nsns.despine(trim=True, left=False)\\nplt.xlabel(\\\"Relevance (Coefficient)\\\")\\nplt.title(\\\"Variable Relevance Distribution\\\")\\nplt.grid(axis=\\\"x\\\", linestyle=\\\"--\\\", alpha=0.7)\\nplt.subplots_adjust(left=0.3)\\n\\nplt.savefig(\\n    \\\"ecics_206_b_local_cm_p_cs_btiss_top_scpm_dist_var_coef_relevance.png\\\",\\n    dpi=300,\\n    bbox_inches=\\\"tight\\\",\\n)\\n\\nplt.show()\\n\\n\\n# Step 3: Reset all rcParams to their default values\\nmatplotlib.rcParams.update(matplotlib.rcParamsDefault)\\nplt.rcdefaults()\\n\\n# Switch back to the original backend\\nplt.switch_backend(original_backend)\";\n",
       "                var nbb_cells = Jupyter.notebook.get_cells();\n",
       "                for (var i = 0; i < nbb_cells.length; ++i) {\n",
       "                    if (nbb_cells[i].input_prompt_number == nbb_cell_id) {\n",
       "                        if (nbb_cells[i].get_text() == nbb_unformatted_code) {\n",
       "                             nbb_cells[i].set_text(nbb_formatted_code);\n",
       "                        }\n",
       "                        break;\n",
       "                    }\n",
       "                }\n",
       "            }, 500);\n",
       "            "
      ],
      "text/plain": [
       "<IPython.core.display.Javascript object>"
      ]
     },
     "metadata": {},
     "output_type": "display_data"
    }
   ],
   "source": [
    "# Calculate the means of the importance scores\n",
    "mean_importances = df_importances.mean()\n",
    "\n",
    "# Sort the features by their mean relevance\n",
    "sorted_features = mean_importances.sort_values()\n",
    "\n",
    "# Re-order the DataFrame according to the sorted features\n",
    "df_importances_sorted = df_importances[sorted_features.index]\n",
    "\n",
    "# Backup the original backend\n",
    "original_backend = plt.get_backend()\n",
    "\n",
    "# Use Matplotlib's default backend\n",
    "# plt.switch_backend(\"agg\")  # or any backend you prefer\n",
    "\n",
    "# Update font settings to default\n",
    "plt.rcParams.update(\n",
    "    {\n",
    "        \"font.family\": \"sans-serif\",\n",
    "        \"font.sans-serif\": [\"DejaVu Sans\"],\n",
    "        \"font.size\": 10,\n",
    "        \"text.usetex\": False,  # Use MathText, not LaTeX\n",
    "    }\n",
    ")\n",
    "\n",
    "\n",
    "# Convert chemical formulas using MathText syntax\n",
    "df_importances_sorted_plot = df_importances_sorted.rename(\n",
    "    columns={\n",
    "        \"Alpha C2S\": r\"Alpha $\\mathrm{C_2S}$\",\n",
    "        \"Beta C2S\": r\"Beta $\\mathrm{C_2S}$\",\n",
    "        \"Gamma C2S\": r\"Gamma $\\mathrm{C_2S}$\",\n",
    "        \"Cubic C3A\": r\"Cubic $\\mathrm{C_3A}$\",\n",
    "        \"Orthorhombic C3A\": r\"Orthorhombic $\\mathrm{C_3A}$\",\n",
    "        \"K2O\": r\"$\\mathrm{K_2O}$\",\n",
    "        \"Free CaO\": r\"Free $\\mathrm{CaO}$\",\n",
    "        \"Total C2S\": r\"Total $\\mathrm{C_2S}$\",\n",
    "        \"Na2O\": r\"$\\mathrm{Na_2O}$\",\n",
    "        \"CaO\": r\"$\\mathrm{CaO}$\",\n",
    "        \"SiO2\": r\"$\\mathrm{SiO_2}$\",\n",
    "        \"MgO\": r\"$\\mathrm{MgO}$\",\n",
    "        \"Fe2O3\": r\"$\\mathrm{Fe_2O_3}$\",\n",
    "        \"Al2O3\": r\"$\\mathrm{Al_2O_3}$\",\n",
    "        \"Total C3S\": r\"Total $\\mathrm{C_3S}$\",\n",
    "        \"C3A\": r\"$\\mathrm{C_3A}$\",\n",
    "        \"C4AF\": r\"$\\mathrm{C_4AF}$\",\n",
    "        \"LOI\": \"LOI\",\n",
    "        \"SO3\": r\"$\\mathrm{SO_3}$\",\n",
    "        \"Insoluble Residue\": \"IR\",\n",
    "        \"Loss on Ignition\": \"LOI\",\n",
    "    }\n",
    ")\n",
    "\n",
    "plt.figure(figsize=(10, 6.5))\n",
    "sns.boxplot(\n",
    "    data=df_importances_sorted_plot,\n",
    "    orient=\"h\",\n",
    "    color=\"lightsteelblue\",\n",
    "    saturation=1,\n",
    "    showmeans=True,\n",
    ")\n",
    "sns.despine(trim=True, left=False)\n",
    "plt.xlabel(\"Relevance (Coefficient)\")\n",
    "plt.title(\"Variable Relevance Distribution\")\n",
    "plt.grid(axis=\"x\", linestyle=\"--\", alpha=0.7)\n",
    "plt.subplots_adjust(left=0.3)\n",
    "\n",
    "plt.savefig(\n",
    "    \"ecics_206_b_local_cm_p_cs_btiss_top_scpm_dist_var_coef_relevance.png\",\n",
    "    dpi=300,\n",
    "    bbox_inches=\"tight\",\n",
    ")\n",
    "\n",
    "plt.show()\n",
    "\n",
    "\n",
    "# Step 3: Reset all rcParams to their default values\n",
    "matplotlib.rcParams.update(matplotlib.rcParamsDefault)\n",
    "plt.rcdefaults()\n",
    "\n",
    "# Switch back to the original backend\n",
    "plt.switch_backend(original_backend)"
   ]
  },
  {
   "cell_type": "code",
   "execution_count": 24,
   "id": "86487ee2",
   "metadata": {},
   "outputs": [
    {
     "data": {
      "text/html": [
       "<div>\n",
       "<style scoped>\n",
       "    .dataframe tbody tr th:only-of-type {\n",
       "        vertical-align: middle;\n",
       "    }\n",
       "\n",
       "    .dataframe tbody tr th {\n",
       "        vertical-align: top;\n",
       "    }\n",
       "\n",
       "    .dataframe thead th {\n",
       "        text-align: right;\n",
       "    }\n",
       "</style>\n",
       "<table border=\"1\" class=\"dataframe\">\n",
       "  <thead>\n",
       "    <tr style=\"text-align: right;\">\n",
       "      <th></th>\n",
       "      <th>MgO</th>\n",
       "      <th>SO3</th>\n",
       "      <th>Loss on Ignition</th>\n",
       "      <th>Insoluble Residue</th>\n",
       "      <th>Blaine</th>\n",
       "      <th>#200</th>\n",
       "      <th>#325</th>\n",
       "      <th>Initial setting time</th>\n",
       "      <th>Final setting time</th>\n",
       "      <th>CS1</th>\n",
       "      <th>CS3</th>\n",
       "      <th>CS7</th>\n",
       "    </tr>\n",
       "  </thead>\n",
       "  <tbody>\n",
       "    <tr>\n",
       "      <th>Coefficients - 0</th>\n",
       "      <td>0.176383</td>\n",
       "      <td>-0.215437</td>\n",
       "      <td>-0.685387</td>\n",
       "      <td>-1.146190</td>\n",
       "      <td>0.554170</td>\n",
       "      <td>-0.120669</td>\n",
       "      <td>-0.531059</td>\n",
       "      <td>0.073935</td>\n",
       "      <td>-0.111615</td>\n",
       "      <td>-1.084612</td>\n",
       "      <td>1.633789</td>\n",
       "      <td>0.750356</td>\n",
       "    </tr>\n",
       "    <tr>\n",
       "      <th>Coefficients - 1</th>\n",
       "      <td>-0.534021</td>\n",
       "      <td>-0.098947</td>\n",
       "      <td>-0.280784</td>\n",
       "      <td>-0.474210</td>\n",
       "      <td>-0.284999</td>\n",
       "      <td>0.595045</td>\n",
       "      <td>-1.078979</td>\n",
       "      <td>0.097391</td>\n",
       "      <td>-0.161781</td>\n",
       "      <td>0.231894</td>\n",
       "      <td>0.748996</td>\n",
       "      <td>0.431847</td>\n",
       "    </tr>\n",
       "    <tr>\n",
       "      <th>Coefficients - 2</th>\n",
       "      <td>-0.284943</td>\n",
       "      <td>0.000597</td>\n",
       "      <td>-0.391496</td>\n",
       "      <td>0.055046</td>\n",
       "      <td>-0.587637</td>\n",
       "      <td>-0.057449</td>\n",
       "      <td>0.139305</td>\n",
       "      <td>-0.153649</td>\n",
       "      <td>-0.048598</td>\n",
       "      <td>1.141056</td>\n",
       "      <td>0.261191</td>\n",
       "      <td>0.202367</td>\n",
       "    </tr>\n",
       "    <tr>\n",
       "      <th>Coefficients - 3</th>\n",
       "      <td>0.144728</td>\n",
       "      <td>0.087965</td>\n",
       "      <td>0.734533</td>\n",
       "      <td>-1.880403</td>\n",
       "      <td>0.098659</td>\n",
       "      <td>0.865003</td>\n",
       "      <td>-0.838686</td>\n",
       "      <td>0.117994</td>\n",
       "      <td>-0.088800</td>\n",
       "      <td>-0.529741</td>\n",
       "      <td>0.357475</td>\n",
       "      <td>1.003539</td>\n",
       "    </tr>\n",
       "    <tr>\n",
       "      <th>Coefficients - 4</th>\n",
       "      <td>-0.209670</td>\n",
       "      <td>0.092376</td>\n",
       "      <td>-0.116596</td>\n",
       "      <td>-0.850583</td>\n",
       "      <td>0.646914</td>\n",
       "      <td>0.023024</td>\n",
       "      <td>-1.394128</td>\n",
       "      <td>0.301070</td>\n",
       "      <td>-0.259356</td>\n",
       "      <td>-0.761922</td>\n",
       "      <td>0.883952</td>\n",
       "      <td>1.230611</td>\n",
       "    </tr>\n",
       "  </tbody>\n",
       "</table>\n",
       "</div>"
      ],
      "text/plain": [
       "                       MgO       SO3  Loss on Ignition  Insoluble Residue  \\\n",
       "Coefficients - 0  0.176383 -0.215437         -0.685387          -1.146190   \n",
       "Coefficients - 1 -0.534021 -0.098947         -0.280784          -0.474210   \n",
       "Coefficients - 2 -0.284943  0.000597         -0.391496           0.055046   \n",
       "Coefficients - 3  0.144728  0.087965          0.734533          -1.880403   \n",
       "Coefficients - 4 -0.209670  0.092376         -0.116596          -0.850583   \n",
       "\n",
       "                    Blaine      #200      #325  Initial setting time  \\\n",
       "Coefficients - 0  0.554170 -0.120669 -0.531059              0.073935   \n",
       "Coefficients - 1 -0.284999  0.595045 -1.078979              0.097391   \n",
       "Coefficients - 2 -0.587637 -0.057449  0.139305             -0.153649   \n",
       "Coefficients - 3  0.098659  0.865003 -0.838686              0.117994   \n",
       "Coefficients - 4  0.646914  0.023024 -1.394128              0.301070   \n",
       "\n",
       "                  Final setting time       CS1       CS3       CS7  \n",
       "Coefficients - 0           -0.111615 -1.084612  1.633789  0.750356  \n",
       "Coefficients - 1           -0.161781  0.231894  0.748996  0.431847  \n",
       "Coefficients - 2           -0.048598  1.141056  0.261191  0.202367  \n",
       "Coefficients - 3           -0.088800 -0.529741  0.357475  1.003539  \n",
       "Coefficients - 4           -0.259356 -0.761922  0.883952  1.230611  "
      ]
     },
     "execution_count": 24,
     "metadata": {},
     "output_type": "execute_result"
    },
    {
     "data": {
      "application/javascript": [
       "\n",
       "            setTimeout(function() {\n",
       "                var nbb_cell_id = 24;\n",
       "                var nbb_unformatted_code = \"df_importances\";\n",
       "                var nbb_formatted_code = \"df_importances\";\n",
       "                var nbb_cells = Jupyter.notebook.get_cells();\n",
       "                for (var i = 0; i < nbb_cells.length; ++i) {\n",
       "                    if (nbb_cells[i].input_prompt_number == nbb_cell_id) {\n",
       "                        if (nbb_cells[i].get_text() == nbb_unformatted_code) {\n",
       "                             nbb_cells[i].set_text(nbb_formatted_code);\n",
       "                        }\n",
       "                        break;\n",
       "                    }\n",
       "                }\n",
       "            }, 500);\n",
       "            "
      ],
      "text/plain": [
       "<IPython.core.display.Javascript object>"
      ]
     },
     "metadata": {},
     "output_type": "display_data"
    }
   ],
   "source": [
    "df_importances"
   ]
  },
  {
   "cell_type": "code",
   "execution_count": 25,
   "id": "a12839c8",
   "metadata": {},
   "outputs": [
    {
     "data": {
      "text/html": [
       "<div>\n",
       "<style scoped>\n",
       "    .dataframe tbody tr th:only-of-type {\n",
       "        vertical-align: middle;\n",
       "    }\n",
       "\n",
       "    .dataframe tbody tr th {\n",
       "        vertical-align: top;\n",
       "    }\n",
       "\n",
       "    .dataframe thead th {\n",
       "        text-align: right;\n",
       "    }\n",
       "</style>\n",
       "<table border=\"1\" class=\"dataframe\">\n",
       "  <thead>\n",
       "    <tr style=\"text-align: right;\">\n",
       "      <th></th>\n",
       "      <th>count</th>\n",
       "      <th>mean</th>\n",
       "      <th>std</th>\n",
       "      <th>min</th>\n",
       "      <th>25%</th>\n",
       "      <th>50%</th>\n",
       "      <th>75%</th>\n",
       "      <th>max</th>\n",
       "    </tr>\n",
       "  </thead>\n",
       "  <tbody>\n",
       "    <tr>\n",
       "      <th>Insoluble Residue</th>\n",
       "      <td>5.0</td>\n",
       "      <td>-0.859268</td>\n",
       "      <td>0.726181</td>\n",
       "      <td>-1.880403</td>\n",
       "      <td>-1.146190</td>\n",
       "      <td>-0.850583</td>\n",
       "      <td>-0.474210</td>\n",
       "      <td>0.055046</td>\n",
       "    </tr>\n",
       "    <tr>\n",
       "      <th>#325</th>\n",
       "      <td>5.0</td>\n",
       "      <td>-0.740710</td>\n",
       "      <td>0.585098</td>\n",
       "      <td>-1.394128</td>\n",
       "      <td>-1.078979</td>\n",
       "      <td>-0.838686</td>\n",
       "      <td>-0.531059</td>\n",
       "      <td>0.139305</td>\n",
       "    </tr>\n",
       "    <tr>\n",
       "      <th>CS1</th>\n",
       "      <td>5.0</td>\n",
       "      <td>-0.200665</td>\n",
       "      <td>0.893306</td>\n",
       "      <td>-1.084612</td>\n",
       "      <td>-0.761922</td>\n",
       "      <td>-0.529741</td>\n",
       "      <td>0.231894</td>\n",
       "      <td>1.141056</td>\n",
       "    </tr>\n",
       "    <tr>\n",
       "      <th>Loss on Ignition</th>\n",
       "      <td>5.0</td>\n",
       "      <td>-0.147946</td>\n",
       "      <td>0.535154</td>\n",
       "      <td>-0.685387</td>\n",
       "      <td>-0.391496</td>\n",
       "      <td>-0.280784</td>\n",
       "      <td>-0.116596</td>\n",
       "      <td>0.734533</td>\n",
       "    </tr>\n",
       "    <tr>\n",
       "      <th>MgO</th>\n",
       "      <td>5.0</td>\n",
       "      <td>-0.141505</td>\n",
       "      <td>0.300945</td>\n",
       "      <td>-0.534021</td>\n",
       "      <td>-0.284943</td>\n",
       "      <td>-0.209670</td>\n",
       "      <td>0.144728</td>\n",
       "      <td>0.176383</td>\n",
       "    </tr>\n",
       "    <tr>\n",
       "      <th>Final setting time</th>\n",
       "      <td>5.0</td>\n",
       "      <td>-0.134030</td>\n",
       "      <td>0.081123</td>\n",
       "      <td>-0.259356</td>\n",
       "      <td>-0.161781</td>\n",
       "      <td>-0.111615</td>\n",
       "      <td>-0.088800</td>\n",
       "      <td>-0.048598</td>\n",
       "    </tr>\n",
       "    <tr>\n",
       "      <th>SO3</th>\n",
       "      <td>5.0</td>\n",
       "      <td>-0.026689</td>\n",
       "      <td>0.131257</td>\n",
       "      <td>-0.215437</td>\n",
       "      <td>-0.098947</td>\n",
       "      <td>0.000597</td>\n",
       "      <td>0.087965</td>\n",
       "      <td>0.092376</td>\n",
       "    </tr>\n",
       "    <tr>\n",
       "      <th>Blaine</th>\n",
       "      <td>5.0</td>\n",
       "      <td>0.085421</td>\n",
       "      <td>0.530423</td>\n",
       "      <td>-0.587637</td>\n",
       "      <td>-0.284999</td>\n",
       "      <td>0.098659</td>\n",
       "      <td>0.554170</td>\n",
       "      <td>0.646914</td>\n",
       "    </tr>\n",
       "    <tr>\n",
       "      <th>Initial setting time</th>\n",
       "      <td>5.0</td>\n",
       "      <td>0.087348</td>\n",
       "      <td>0.162001</td>\n",
       "      <td>-0.153649</td>\n",
       "      <td>0.073935</td>\n",
       "      <td>0.097391</td>\n",
       "      <td>0.117994</td>\n",
       "      <td>0.301070</td>\n",
       "    </tr>\n",
       "    <tr>\n",
       "      <th>#200</th>\n",
       "      <td>5.0</td>\n",
       "      <td>0.260991</td>\n",
       "      <td>0.441622</td>\n",
       "      <td>-0.120669</td>\n",
       "      <td>-0.057449</td>\n",
       "      <td>0.023024</td>\n",
       "      <td>0.595045</td>\n",
       "      <td>0.865003</td>\n",
       "    </tr>\n",
       "    <tr>\n",
       "      <th>CS7</th>\n",
       "      <td>5.0</td>\n",
       "      <td>0.723744</td>\n",
       "      <td>0.416217</td>\n",
       "      <td>0.202367</td>\n",
       "      <td>0.431847</td>\n",
       "      <td>0.750356</td>\n",
       "      <td>1.003539</td>\n",
       "      <td>1.230611</td>\n",
       "    </tr>\n",
       "    <tr>\n",
       "      <th>CS3</th>\n",
       "      <td>5.0</td>\n",
       "      <td>0.777081</td>\n",
       "      <td>0.545062</td>\n",
       "      <td>0.261191</td>\n",
       "      <td>0.357475</td>\n",
       "      <td>0.748996</td>\n",
       "      <td>0.883952</td>\n",
       "      <td>1.633789</td>\n",
       "    </tr>\n",
       "  </tbody>\n",
       "</table>\n",
       "</div>"
      ],
      "text/plain": [
       "                      count      mean       std       min       25%       50%  \\\n",
       "Insoluble Residue       5.0 -0.859268  0.726181 -1.880403 -1.146190 -0.850583   \n",
       "#325                    5.0 -0.740710  0.585098 -1.394128 -1.078979 -0.838686   \n",
       "CS1                     5.0 -0.200665  0.893306 -1.084612 -0.761922 -0.529741   \n",
       "Loss on Ignition        5.0 -0.147946  0.535154 -0.685387 -0.391496 -0.280784   \n",
       "MgO                     5.0 -0.141505  0.300945 -0.534021 -0.284943 -0.209670   \n",
       "Final setting time      5.0 -0.134030  0.081123 -0.259356 -0.161781 -0.111615   \n",
       "SO3                     5.0 -0.026689  0.131257 -0.215437 -0.098947  0.000597   \n",
       "Blaine                  5.0  0.085421  0.530423 -0.587637 -0.284999  0.098659   \n",
       "Initial setting time    5.0  0.087348  0.162001 -0.153649  0.073935  0.097391   \n",
       "#200                    5.0  0.260991  0.441622 -0.120669 -0.057449  0.023024   \n",
       "CS7                     5.0  0.723744  0.416217  0.202367  0.431847  0.750356   \n",
       "CS3                     5.0  0.777081  0.545062  0.261191  0.357475  0.748996   \n",
       "\n",
       "                           75%       max  \n",
       "Insoluble Residue    -0.474210  0.055046  \n",
       "#325                 -0.531059  0.139305  \n",
       "CS1                   0.231894  1.141056  \n",
       "Loss on Ignition     -0.116596  0.734533  \n",
       "MgO                   0.144728  0.176383  \n",
       "Final setting time   -0.088800 -0.048598  \n",
       "SO3                   0.087965  0.092376  \n",
       "Blaine                0.554170  0.646914  \n",
       "Initial setting time  0.117994  0.301070  \n",
       "#200                  0.595045  0.865003  \n",
       "CS7                   1.003539  1.230611  \n",
       "CS3                   0.883952  1.633789  "
      ]
     },
     "execution_count": 25,
     "metadata": {},
     "output_type": "execute_result"
    },
    {
     "data": {
      "application/javascript": [
       "\n",
       "            setTimeout(function() {\n",
       "                var nbb_cell_id = 25;\n",
       "                var nbb_unformatted_code = \"df_importances.describe().T.sort_values(by=[\\\"mean\\\"])\";\n",
       "                var nbb_formatted_code = \"df_importances.describe().T.sort_values(by=[\\\"mean\\\"])\";\n",
       "                var nbb_cells = Jupyter.notebook.get_cells();\n",
       "                for (var i = 0; i < nbb_cells.length; ++i) {\n",
       "                    if (nbb_cells[i].input_prompt_number == nbb_cell_id) {\n",
       "                        if (nbb_cells[i].get_text() == nbb_unformatted_code) {\n",
       "                             nbb_cells[i].set_text(nbb_formatted_code);\n",
       "                        }\n",
       "                        break;\n",
       "                    }\n",
       "                }\n",
       "            }, 500);\n",
       "            "
      ],
      "text/plain": [
       "<IPython.core.display.Javascript object>"
      ]
     },
     "metadata": {},
     "output_type": "display_data"
    }
   ],
   "source": [
    "df_importances.describe().T.sort_values(by=[\"mean\"])"
   ]
  },
  {
   "cell_type": "code",
   "execution_count": 26,
   "id": "8565bb08",
   "metadata": {},
   "outputs": [
    {
     "data": {
      "application/javascript": [
       "\n",
       "            setTimeout(function() {\n",
       "                var nbb_cell_id = 26;\n",
       "                var nbb_unformatted_code = \"from sklearn.inspection import permutation_importance\";\n",
       "                var nbb_formatted_code = \"from sklearn.inspection import permutation_importance\";\n",
       "                var nbb_cells = Jupyter.notebook.get_cells();\n",
       "                for (var i = 0; i < nbb_cells.length; ++i) {\n",
       "                    if (nbb_cells[i].input_prompt_number == nbb_cell_id) {\n",
       "                        if (nbb_cells[i].get_text() == nbb_unformatted_code) {\n",
       "                             nbb_cells[i].set_text(nbb_formatted_code);\n",
       "                        }\n",
       "                        break;\n",
       "                    }\n",
       "                }\n",
       "            }, 500);\n",
       "            "
      ],
      "text/plain": [
       "<IPython.core.display.Javascript object>"
      ]
     },
     "metadata": {},
     "output_type": "display_data"
    }
   ],
   "source": [
    "from sklearn.inspection import permutation_importance"
   ]
  },
  {
   "cell_type": "code",
   "execution_count": 27,
   "id": "03550769",
   "metadata": {},
   "outputs": [
    {
     "data": {
      "application/javascript": [
       "\n",
       "            setTimeout(function() {\n",
       "                var nbb_cell_id = 27;\n",
       "                var nbb_unformatted_code = \"# Initialize lists to store importance results\\nmdi_importances = []\\nperm_importances = []\\n\\n# Compute feature importances\\nfor i, (train_idx, test_idx) in enumerate(cv.split(x, y)):\\n    pipeline.fit(x.iloc[train_idx], y[train_idx])\\n\\n    # Extract the trained model\\n    model = pipeline.named_steps[\\\"estimator\\\"]\\n    imputer = pipeline.named_steps[\\\"imputer\\\"]\\n    scaler = pipeline.named_steps[\\\"transformer\\\"]\\n    # Compute MDI importance\\n    # mdi_importances.append(model.feature_importances_)\\n\\n    # Compute permutation importance\\n    result = permutation_importance(\\n        model,\\n        scaler.transform(imputer.transform(x.iloc[test_idx])),\\n        y[test_idx],\\n        n_repeats=10,\\n        random_state=SEED,\\n        n_jobs=-1,\\n        # scoring=\\\"neg_mean_squared_error\\\",\\n        scoring=\\\"r2\\\",\\n    )\\n    perm_importances.append(result.importances_mean)\";\n",
       "                var nbb_formatted_code = \"# Initialize lists to store importance results\\nmdi_importances = []\\nperm_importances = []\\n\\n# Compute feature importances\\nfor i, (train_idx, test_idx) in enumerate(cv.split(x, y)):\\n    pipeline.fit(x.iloc[train_idx], y[train_idx])\\n\\n    # Extract the trained model\\n    model = pipeline.named_steps[\\\"estimator\\\"]\\n    imputer = pipeline.named_steps[\\\"imputer\\\"]\\n    scaler = pipeline.named_steps[\\\"transformer\\\"]\\n    # Compute MDI importance\\n    # mdi_importances.append(model.feature_importances_)\\n\\n    # Compute permutation importance\\n    result = permutation_importance(\\n        model,\\n        scaler.transform(imputer.transform(x.iloc[test_idx])),\\n        y[test_idx],\\n        n_repeats=10,\\n        random_state=SEED,\\n        n_jobs=-1,\\n        # scoring=\\\"neg_mean_squared_error\\\",\\n        scoring=\\\"r2\\\",\\n    )\\n    perm_importances.append(result.importances_mean)\";\n",
       "                var nbb_cells = Jupyter.notebook.get_cells();\n",
       "                for (var i = 0; i < nbb_cells.length; ++i) {\n",
       "                    if (nbb_cells[i].input_prompt_number == nbb_cell_id) {\n",
       "                        if (nbb_cells[i].get_text() == nbb_unformatted_code) {\n",
       "                             nbb_cells[i].set_text(nbb_formatted_code);\n",
       "                        }\n",
       "                        break;\n",
       "                    }\n",
       "                }\n",
       "            }, 500);\n",
       "            "
      ],
      "text/plain": [
       "<IPython.core.display.Javascript object>"
      ]
     },
     "metadata": {},
     "output_type": "display_data"
    }
   ],
   "source": [
    "# Initialize lists to store importance results\n",
    "mdi_importances = []\n",
    "perm_importances = []\n",
    "\n",
    "# Compute feature importances\n",
    "for i, (train_idx, test_idx) in enumerate(cv.split(x, y)):\n",
    "    pipeline.fit(x.iloc[train_idx], y[train_idx])\n",
    "\n",
    "    # Extract the trained model\n",
    "    model = pipeline.named_steps[\"estimator\"]\n",
    "    imputer = pipeline.named_steps[\"imputer\"]\n",
    "    scaler = pipeline.named_steps[\"transformer\"]\n",
    "    # Compute MDI importance\n",
    "    # mdi_importances.append(model.feature_importances_)\n",
    "\n",
    "    # Compute permutation importance\n",
    "    result = permutation_importance(\n",
    "        model,\n",
    "        scaler.transform(imputer.transform(x.iloc[test_idx])),\n",
    "        y[test_idx],\n",
    "        n_repeats=10,\n",
    "        random_state=SEED,\n",
    "        n_jobs=-1,\n",
    "        # scoring=\"neg_mean_squared_error\",\n",
    "        scoring=\"r2\",\n",
    "    )\n",
    "    perm_importances.append(result.importances_mean)"
   ]
  },
  {
   "cell_type": "code",
   "execution_count": 28,
   "id": "680d5061",
   "metadata": {},
   "outputs": [
    {
     "data": {
      "image/png": "[encoded data removed]",
      "text/plain": [
       "<Figure size 1000x700 with 1 Axes>"
      ]
     },
     "metadata": {},
     "output_type": "display_data"
    },
    {
     "data": {
      "application/javascript": [
       "\n",
       "            setTimeout(function() {\n",
       "                var nbb_cell_id = 28;\n",
       "                var nbb_unformatted_code = \"import matplotlib.pyplot as plt\\nimport seaborn as sns\\nimport matplotlib.ticker as ticker\\n\\n# Convert lists to DataFrames\\nperm_importances_df = pd.DataFrame(perm_importances, columns=x.columns)\\n\\n\\n# Calculate the mean importance for each feature\\nmean_importances = perm_importances_df.mean().sort_values()\\n\\n# Reorder the DataFrame columns based on mean importance\\nperm_importances_df = perm_importances_df[mean_importances.index]\\n\\nperm_importances_df = perm_importances_df.rename(columns={\\\"Loss on Ignition\\\": \\\"LOI\\\"})\\n\\n\\n# Backup the original backend\\noriginal_backend = plt.get_backend()\\n\\n# Update font settings to default\\nplt.rcParams.update(\\n    {\\n        \\\"font.family\\\": \\\"sans-serif\\\",\\n        \\\"font.sans-serif\\\": [\\\"DejaVu Sans\\\"],\\n        \\\"font.size\\\": 10,\\n        \\\"text.usetex\\\": False,  # Use MathText, not LaTeX\\n    }\\n)\\n\\n# Convert chemical formulas using MathText syntax\\nperm_importances_df_plot = perm_importances_df.rename(\\n    columns={\\n        \\\"Alpha C2S\\\": r\\\"Alpha $\\\\mathrm{C_2S}$\\\",\\n        \\\"Beta C2S\\\": r\\\"Beta $\\\\mathrm{C_2S}$\\\",\\n        \\\"Gamma C2S\\\": r\\\"Gamma $\\\\mathrm{C_2S}$\\\",\\n        \\\"Cubic C3A\\\": r\\\"Cubic $\\\\mathrm{C_3A}$\\\",\\n        \\\"Orthorhombic C3A\\\": r\\\"Orthorhombic $\\\\mathrm{C_3A}$\\\",\\n        \\\"K2O\\\": r\\\"$\\\\mathrm{K_2O}$\\\",\\n        \\\"Free CaO\\\": r\\\"Free $\\\\mathrm{CaO}$\\\",\\n        \\\"Total C2S\\\": r\\\"Total $\\\\mathrm{C_2S}$\\\",\\n        \\\"Na2O\\\": r\\\"$\\\\mathrm{Na_2O}$\\\",\\n        \\\"CaO\\\": r\\\"$\\\\mathrm{CaO}$\\\",\\n        \\\"SiO2\\\": r\\\"$\\\\mathrm{SiO_2}$\\\",\\n        \\\"MgO\\\": r\\\"$\\\\mathrm{MgO}$\\\",\\n        \\\"Fe2O3\\\": r\\\"$\\\\mathrm{Fe_2O_3}$\\\",\\n        \\\"Al2O3\\\": r\\\"$\\\\mathrm{Al_2O_3}$\\\",\\n        \\\"Total C3S\\\": r\\\"Total $\\\\mathrm{C_3S}$\\\",\\n        \\\"C3A\\\": r\\\"$\\\\mathrm{C_3A}$\\\",\\n        \\\"C4AF\\\": r\\\"$\\\\mathrm{C_4AF}$\\\",\\n        \\\"LOI\\\": \\\"LOI\\\",\\n        \\\"SO3\\\": r\\\"$\\\\mathrm{SO_3}$\\\",\\n        \\\"Insoluble Residue\\\": \\\"IR\\\",\\n    }\\n)\\n\\nplt.figure(figsize=(10, 7))\\n\\n# Create boxplot\\nsns.boxplot(\\n    data=perm_importances_df_plot.round(2),\\n    orient=\\\"h\\\",\\n    color=\\\"lightsteelblue\\\",\\n    saturation=1,\\n    showmeans=True,\\n)\\nsns.despine(trim=True, left=False)\\n\\n# Set x-axis label and title\\nplt.xlabel(\\\"Relevance (Permutation)\\\")\\nplt.title(\\\"Variable Relevance Distribution\\\")\\n\\n# Add gridlines for x-axis\\nplt.grid(axis=\\\"x\\\", linestyle=\\\"--\\\", alpha=0.7)\\n\\n# Format x-axis to show 1 decimal place\\nplt.gca().xaxis.set_major_formatter(ticker.FuncFormatter(lambda x, _: f\\\"{x:.1f}\\\"))\\n\\n# Adjust the layout to prevent label cut-off\\nplt.subplots_adjust(left=0.3)\\n\\n# Save the plot\\nplt.savefig(\\n    \\\"ecics_206_b_local_cm_p_cs_btiss_top_scpm_dist_var_perm_relevance.png\\\",\\n    dpi=300,\\n    bbox_inches=\\\"tight\\\",\\n)\\n\\n# Show the plot\\nplt.show()\\n\\n# Reset all rcParams to their default values\\nplt.rcdefaults()\\n\\n# Switch back to the original backend\\nplt.switch_backend(original_backend)\";\n",
       "                var nbb_formatted_code = \"import matplotlib.pyplot as plt\\nimport seaborn as sns\\nimport matplotlib.ticker as ticker\\n\\n# Convert lists to DataFrames\\nperm_importances_df = pd.DataFrame(perm_importances, columns=x.columns)\\n\\n\\n# Calculate the mean importance for each feature\\nmean_importances = perm_importances_df.mean().sort_values()\\n\\n# Reorder the DataFrame columns based on mean importance\\nperm_importances_df = perm_importances_df[mean_importances.index]\\n\\nperm_importances_df = perm_importances_df.rename(columns={\\\"Loss on Ignition\\\": \\\"LOI\\\"})\\n\\n\\n# Backup the original backend\\noriginal_backend = plt.get_backend()\\n\\n# Update font settings to default\\nplt.rcParams.update(\\n    {\\n        \\\"font.family\\\": \\\"sans-serif\\\",\\n        \\\"font.sans-serif\\\": [\\\"DejaVu Sans\\\"],\\n        \\\"font.size\\\": 10,\\n        \\\"text.usetex\\\": False,  # Use MathText, not LaTeX\\n    }\\n)\\n\\n# Convert chemical formulas using MathText syntax\\nperm_importances_df_plot = perm_importances_df.rename(\\n    columns={\\n        \\\"Alpha C2S\\\": r\\\"Alpha $\\\\mathrm{C_2S}$\\\",\\n        \\\"Beta C2S\\\": r\\\"Beta $\\\\mathrm{C_2S}$\\\",\\n        \\\"Gamma C2S\\\": r\\\"Gamma $\\\\mathrm{C_2S}$\\\",\\n        \\\"Cubic C3A\\\": r\\\"Cubic $\\\\mathrm{C_3A}$\\\",\\n        \\\"Orthorhombic C3A\\\": r\\\"Orthorhombic $\\\\mathrm{C_3A}$\\\",\\n        \\\"K2O\\\": r\\\"$\\\\mathrm{K_2O}$\\\",\\n        \\\"Free CaO\\\": r\\\"Free $\\\\mathrm{CaO}$\\\",\\n        \\\"Total C2S\\\": r\\\"Total $\\\\mathrm{C_2S}$\\\",\\n        \\\"Na2O\\\": r\\\"$\\\\mathrm{Na_2O}$\\\",\\n        \\\"CaO\\\": r\\\"$\\\\mathrm{CaO}$\\\",\\n        \\\"SiO2\\\": r\\\"$\\\\mathrm{SiO_2}$\\\",\\n        \\\"MgO\\\": r\\\"$\\\\mathrm{MgO}$\\\",\\n        \\\"Fe2O3\\\": r\\\"$\\\\mathrm{Fe_2O_3}$\\\",\\n        \\\"Al2O3\\\": r\\\"$\\\\mathrm{Al_2O_3}$\\\",\\n        \\\"Total C3S\\\": r\\\"Total $\\\\mathrm{C_3S}$\\\",\\n        \\\"C3A\\\": r\\\"$\\\\mathrm{C_3A}$\\\",\\n        \\\"C4AF\\\": r\\\"$\\\\mathrm{C_4AF}$\\\",\\n        \\\"LOI\\\": \\\"LOI\\\",\\n        \\\"SO3\\\": r\\\"$\\\\mathrm{SO_3}$\\\",\\n        \\\"Insoluble Residue\\\": \\\"IR\\\",\\n    }\\n)\\n\\nplt.figure(figsize=(10, 7))\\n\\n# Create boxplot\\nsns.boxplot(\\n    data=perm_importances_df_plot.round(2),\\n    orient=\\\"h\\\",\\n    color=\\\"lightsteelblue\\\",\\n    saturation=1,\\n    showmeans=True,\\n)\\nsns.despine(trim=True, left=False)\\n\\n# Set x-axis label and title\\nplt.xlabel(\\\"Relevance (Permutation)\\\")\\nplt.title(\\\"Variable Relevance Distribution\\\")\\n\\n# Add gridlines for x-axis\\nplt.grid(axis=\\\"x\\\", linestyle=\\\"--\\\", alpha=0.7)\\n\\n# Format x-axis to show 1 decimal place\\nplt.gca().xaxis.set_major_formatter(ticker.FuncFormatter(lambda x, _: f\\\"{x:.1f}\\\"))\\n\\n# Adjust the layout to prevent label cut-off\\nplt.subplots_adjust(left=0.3)\\n\\n# Save the plot\\nplt.savefig(\\n    \\\"ecics_206_b_local_cm_p_cs_btiss_top_scpm_dist_var_perm_relevance.png\\\",\\n    dpi=300,\\n    bbox_inches=\\\"tight\\\",\\n)\\n\\n# Show the plot\\nplt.show()\\n\\n# Reset all rcParams to their default values\\nplt.rcdefaults()\\n\\n# Switch back to the original backend\\nplt.switch_backend(original_backend)\";\n",
       "                var nbb_cells = Jupyter.notebook.get_cells();\n",
       "                for (var i = 0; i < nbb_cells.length; ++i) {\n",
       "                    if (nbb_cells[i].input_prompt_number == nbb_cell_id) {\n",
       "                        if (nbb_cells[i].get_text() == nbb_unformatted_code) {\n",
       "                             nbb_cells[i].set_text(nbb_formatted_code);\n",
       "                        }\n",
       "                        break;\n",
       "                    }\n",
       "                }\n",
       "            }, 500);\n",
       "            "
      ],
      "text/plain": [
       "<IPython.core.display.Javascript object>"
      ]
     },
     "metadata": {},
     "output_type": "display_data"
    }
   ],
   "source": [
    "import matplotlib.pyplot as plt\n",
    "import seaborn as sns\n",
    "import matplotlib.ticker as ticker\n",
    "\n",
    "# Convert lists to DataFrames\n",
    "perm_importances_df = pd.DataFrame(perm_importances, columns=x.columns)\n",
    "\n",
    "\n",
    "# Calculate the mean importance for each feature\n",
    "mean_importances = perm_importances_df.mean().sort_values()\n",
    "\n",
    "# Reorder the DataFrame columns based on mean importance\n",
    "perm_importances_df = perm_importances_df[mean_importances.index]\n",
    "\n",
    "perm_importances_df = perm_importances_df.rename(columns={\"Loss on Ignition\": \"LOI\"})\n",
    "\n",
    "\n",
    "# Backup the original backend\n",
    "original_backend = plt.get_backend()\n",
    "\n",
    "# Update font settings to default\n",
    "plt.rcParams.update(\n",
    "    {\n",
    "        \"font.family\": \"sans-serif\",\n",
    "        \"font.sans-serif\": [\"DejaVu Sans\"],\n",
    "        \"font.size\": 10,\n",
    "        \"text.usetex\": False,  # Use MathText, not LaTeX\n",
    "    }\n",
    ")\n",
    "\n",
    "# Convert chemical formulas using MathText syntax\n",
    "perm_importances_df_plot = perm_importances_df.rename(\n",
    "    columns={\n",
    "        \"Alpha C2S\": r\"Alpha $\\mathrm{C_2S}$\",\n",
    "        \"Beta C2S\": r\"Beta $\\mathrm{C_2S}$\",\n",
    "        \"Gamma C2S\": r\"Gamma $\\mathrm{C_2S}$\",\n",
    "        \"Cubic C3A\": r\"Cubic $\\mathrm{C_3A}$\",\n",
    "        \"Orthorhombic C3A\": r\"Orthorhombic $\\mathrm{C_3A}$\",\n",
    "        \"K2O\": r\"$\\mathrm{K_2O}$\",\n",
    "        \"Free CaO\": r\"Free $\\mathrm{CaO}$\",\n",
    "        \"Total C2S\": r\"Total $\\mathrm{C_2S}$\",\n",
    "        \"Na2O\": r\"$\\mathrm{Na_2O}$\",\n",
    "        \"CaO\": r\"$\\mathrm{CaO}$\",\n",
    "        \"SiO2\": r\"$\\mathrm{SiO_2}$\",\n",
    "        \"MgO\": r\"$\\mathrm{MgO}$\",\n",
    "        \"Fe2O3\": r\"$\\mathrm{Fe_2O_3}$\",\n",
    "        \"Al2O3\": r\"$\\mathrm{Al_2O_3}$\",\n",
    "        \"Total C3S\": r\"Total $\\mathrm{C_3S}$\",\n",
    "        \"C3A\": r\"$\\mathrm{C_3A}$\",\n",
    "        \"C4AF\": r\"$\\mathrm{C_4AF}$\",\n",
    "        \"LOI\": \"LOI\",\n",
    "        \"SO3\": r\"$\\mathrm{SO_3}$\",\n",
    "        \"Insoluble Residue\": \"IR\",\n",
    "    }\n",
    ")\n",
    "\n",
    "plt.figure(figsize=(10, 7))\n",
    "\n",
    "# Create boxplot\n",
    "sns.boxplot(\n",
    "    data=perm_importances_df_plot.round(2),\n",
    "    orient=\"h\",\n",
    "    color=\"lightsteelblue\",\n",
    "    saturation=1,\n",
    "    showmeans=True,\n",
    ")\n",
    "sns.despine(trim=True, left=False)\n",
    "\n",
    "# Set x-axis label and title\n",
    "plt.xlabel(\"Relevance (Permutation)\")\n",
    "plt.title(\"Variable Relevance Distribution\")\n",
    "\n",
    "# Add gridlines for x-axis\n",
    "plt.grid(axis=\"x\", linestyle=\"--\", alpha=0.7)\n",
    "\n",
    "# Format x-axis to show 1 decimal place\n",
    "plt.gca().xaxis.set_major_formatter(ticker.FuncFormatter(lambda x, _: f\"{x:.1f}\"))\n",
    "\n",
    "# Adjust the layout to prevent label cut-off\n",
    "plt.subplots_adjust(left=0.3)\n",
    "\n",
    "# Save the plot\n",
    "plt.savefig(\n",
    "    \"ecics_206_b_local_cm_p_cs_btiss_top_scpm_dist_var_perm_relevance.png\",\n",
    "    dpi=300,\n",
    "    bbox_inches=\"tight\",\n",
    ")\n",
    "\n",
    "# Show the plot\n",
    "plt.show()\n",
    "\n",
    "# Reset all rcParams to their default values\n",
    "plt.rcdefaults()\n",
    "\n",
    "# Switch back to the original backend\n",
    "plt.switch_backend(original_backend)"
   ]
  },
  {
   "cell_type": "code",
   "execution_count": 29,
   "id": "e1127bfb",
   "metadata": {},
   "outputs": [
    {
     "data": {
      "text/html": [
       "<div>\n",
       "<style scoped>\n",
       "    .dataframe tbody tr th:only-of-type {\n",
       "        vertical-align: middle;\n",
       "    }\n",
       "\n",
       "    .dataframe tbody tr th {\n",
       "        vertical-align: top;\n",
       "    }\n",
       "\n",
       "    .dataframe thead th {\n",
       "        text-align: right;\n",
       "    }\n",
       "</style>\n",
       "<table border=\"1\" class=\"dataframe\">\n",
       "  <thead>\n",
       "    <tr style=\"text-align: right;\">\n",
       "      <th></th>\n",
       "      <th>count</th>\n",
       "      <th>mean</th>\n",
       "      <th>std</th>\n",
       "      <th>min</th>\n",
       "      <th>25%</th>\n",
       "      <th>50%</th>\n",
       "      <th>75%</th>\n",
       "      <th>max</th>\n",
       "    </tr>\n",
       "  </thead>\n",
       "  <tbody>\n",
       "    <tr>\n",
       "      <th>Blaine</th>\n",
       "      <td>5.0</td>\n",
       "      <td>-0.0241</td>\n",
       "      <td>0.0529</td>\n",
       "      <td>-0.1141</td>\n",
       "      <td>-0.0274</td>\n",
       "      <td>0.0002</td>\n",
       "      <td>0.0027</td>\n",
       "      <td>0.0182</td>\n",
       "    </tr>\n",
       "    <tr>\n",
       "      <th>Initial setting time</th>\n",
       "      <td>5.0</td>\n",
       "      <td>-0.0031</td>\n",
       "      <td>0.0288</td>\n",
       "      <td>-0.0497</td>\n",
       "      <td>-0.0029</td>\n",
       "      <td>-0.0001</td>\n",
       "      <td>0.0084</td>\n",
       "      <td>0.0287</td>\n",
       "    </tr>\n",
       "    <tr>\n",
       "      <th>Final setting time</th>\n",
       "      <td>5.0</td>\n",
       "      <td>-0.0030</td>\n",
       "      <td>0.0127</td>\n",
       "      <td>-0.0190</td>\n",
       "      <td>-0.0119</td>\n",
       "      <td>-0.0006</td>\n",
       "      <td>0.0033</td>\n",
       "      <td>0.0132</td>\n",
       "    </tr>\n",
       "    <tr>\n",
       "      <th>SO3</th>\n",
       "      <td>5.0</td>\n",
       "      <td>0.0008</td>\n",
       "      <td>0.0055</td>\n",
       "      <td>-0.0061</td>\n",
       "      <td>-0.0012</td>\n",
       "      <td>0.0002</td>\n",
       "      <td>0.0019</td>\n",
       "      <td>0.0089</td>\n",
       "    </tr>\n",
       "    <tr>\n",
       "      <th>LOI</th>\n",
       "      <td>5.0</td>\n",
       "      <td>0.0206</td>\n",
       "      <td>0.1133</td>\n",
       "      <td>-0.1422</td>\n",
       "      <td>-0.0080</td>\n",
       "      <td>-0.0039</td>\n",
       "      <td>0.1222</td>\n",
       "      <td>0.1351</td>\n",
       "    </tr>\n",
       "    <tr>\n",
       "      <th>#200</th>\n",
       "      <td>5.0</td>\n",
       "      <td>0.0658</td>\n",
       "      <td>0.1154</td>\n",
       "      <td>-0.0589</td>\n",
       "      <td>0.0006</td>\n",
       "      <td>0.0100</td>\n",
       "      <td>0.1808</td>\n",
       "      <td>0.1967</td>\n",
       "    </tr>\n",
       "    <tr>\n",
       "      <th>CS1</th>\n",
       "      <td>5.0</td>\n",
       "      <td>0.0831</td>\n",
       "      <td>0.1027</td>\n",
       "      <td>-0.0216</td>\n",
       "      <td>0.0090</td>\n",
       "      <td>0.0817</td>\n",
       "      <td>0.1043</td>\n",
       "      <td>0.2421</td>\n",
       "    </tr>\n",
       "    <tr>\n",
       "      <th>MgO</th>\n",
       "      <td>5.0</td>\n",
       "      <td>0.1001</td>\n",
       "      <td>0.1704</td>\n",
       "      <td>-0.0015</td>\n",
       "      <td>-0.0004</td>\n",
       "      <td>0.0220</td>\n",
       "      <td>0.0816</td>\n",
       "      <td>0.3988</td>\n",
       "    </tr>\n",
       "    <tr>\n",
       "      <th>#325</th>\n",
       "      <td>5.0</td>\n",
       "      <td>0.1149</td>\n",
       "      <td>0.0854</td>\n",
       "      <td>-0.0151</td>\n",
       "      <td>0.0766</td>\n",
       "      <td>0.1503</td>\n",
       "      <td>0.1625</td>\n",
       "      <td>0.2003</td>\n",
       "    </tr>\n",
       "    <tr>\n",
       "      <th>CS3</th>\n",
       "      <td>5.0</td>\n",
       "      <td>0.1158</td>\n",
       "      <td>0.1693</td>\n",
       "      <td>-0.1054</td>\n",
       "      <td>0.0315</td>\n",
       "      <td>0.1033</td>\n",
       "      <td>0.2119</td>\n",
       "      <td>0.3378</td>\n",
       "    </tr>\n",
       "    <tr>\n",
       "      <th>CS7</th>\n",
       "      <td>5.0</td>\n",
       "      <td>0.1704</td>\n",
       "      <td>0.2133</td>\n",
       "      <td>-0.0527</td>\n",
       "      <td>-0.0057</td>\n",
       "      <td>0.1245</td>\n",
       "      <td>0.3873</td>\n",
       "      <td>0.3985</td>\n",
       "    </tr>\n",
       "    <tr>\n",
       "      <th>Insoluble Residue</th>\n",
       "      <td>5.0</td>\n",
       "      <td>0.2399</td>\n",
       "      <td>0.3627</td>\n",
       "      <td>-0.0091</td>\n",
       "      <td>-0.0032</td>\n",
       "      <td>0.0524</td>\n",
       "      <td>0.3162</td>\n",
       "      <td>0.8433</td>\n",
       "    </tr>\n",
       "  </tbody>\n",
       "</table>\n",
       "</div>"
      ],
      "text/plain": [
       "                      count    mean     std     min     25%     50%     75%  \\\n",
       "Blaine                  5.0 -0.0241  0.0529 -0.1141 -0.0274  0.0002  0.0027   \n",
       "Initial setting time    5.0 -0.0031  0.0288 -0.0497 -0.0029 -0.0001  0.0084   \n",
       "Final setting time      5.0 -0.0030  0.0127 -0.0190 -0.0119 -0.0006  0.0033   \n",
       "SO3                     5.0  0.0008  0.0055 -0.0061 -0.0012  0.0002  0.0019   \n",
       "LOI                     5.0  0.0206  0.1133 -0.1422 -0.0080 -0.0039  0.1222   \n",
       "#200                    5.0  0.0658  0.1154 -0.0589  0.0006  0.0100  0.1808   \n",
       "CS1                     5.0  0.0831  0.1027 -0.0216  0.0090  0.0817  0.1043   \n",
       "MgO                     5.0  0.1001  0.1704 -0.0015 -0.0004  0.0220  0.0816   \n",
       "#325                    5.0  0.1149  0.0854 -0.0151  0.0766  0.1503  0.1625   \n",
       "CS3                     5.0  0.1158  0.1693 -0.1054  0.0315  0.1033  0.2119   \n",
       "CS7                     5.0  0.1704  0.2133 -0.0527 -0.0057  0.1245  0.3873   \n",
       "Insoluble Residue       5.0  0.2399  0.3627 -0.0091 -0.0032  0.0524  0.3162   \n",
       "\n",
       "                         max  \n",
       "Blaine                0.0182  \n",
       "Initial setting time  0.0287  \n",
       "Final setting time    0.0132  \n",
       "SO3                   0.0089  \n",
       "LOI                   0.1351  \n",
       "#200                  0.1967  \n",
       "CS1                   0.2421  \n",
       "MgO                   0.3988  \n",
       "#325                  0.2003  \n",
       "CS3                   0.3378  \n",
       "CS7                   0.3985  \n",
       "Insoluble Residue     0.8433  "
      ]
     },
     "execution_count": 29,
     "metadata": {},
     "output_type": "execute_result"
    },
    {
     "data": {
      "application/javascript": [
       "\n",
       "            setTimeout(function() {\n",
       "                var nbb_cell_id = 29;\n",
       "                var nbb_unformatted_code = \"perm_importances_df.describe().round(4).T.sort_values(by=\\\"mean\\\")\";\n",
       "                var nbb_formatted_code = \"perm_importances_df.describe().round(4).T.sort_values(by=\\\"mean\\\")\";\n",
       "                var nbb_cells = Jupyter.notebook.get_cells();\n",
       "                for (var i = 0; i < nbb_cells.length; ++i) {\n",
       "                    if (nbb_cells[i].input_prompt_number == nbb_cell_id) {\n",
       "                        if (nbb_cells[i].get_text() == nbb_unformatted_code) {\n",
       "                             nbb_cells[i].set_text(nbb_formatted_code);\n",
       "                        }\n",
       "                        break;\n",
       "                    }\n",
       "                }\n",
       "            }, 500);\n",
       "            "
      ],
      "text/plain": [
       "<IPython.core.display.Javascript object>"
      ]
     },
     "metadata": {},
     "output_type": "display_data"
    }
   ],
   "source": [
    "perm_importances_df.describe().round(4).T.sort_values(by=\"mean\")"
   ]
  },
  {
   "cell_type": "code",
   "execution_count": 30,
   "id": "ec2e7177",
   "metadata": {},
   "outputs": [
    {
     "data": {
      "text/html": [
       "<div>\n",
       "<style scoped>\n",
       "    .dataframe tbody tr th:only-of-type {\n",
       "        vertical-align: middle;\n",
       "    }\n",
       "\n",
       "    .dataframe tbody tr th {\n",
       "        vertical-align: top;\n",
       "    }\n",
       "\n",
       "    .dataframe thead th {\n",
       "        text-align: right;\n",
       "    }\n",
       "</style>\n",
       "<table border=\"1\" class=\"dataframe\">\n",
       "  <thead>\n",
       "    <tr style=\"text-align: right;\">\n",
       "      <th></th>\n",
       "      <th>Blaine</th>\n",
       "      <th>Initial setting time</th>\n",
       "      <th>Final setting time</th>\n",
       "      <th>SO3</th>\n",
       "      <th>LOI</th>\n",
       "      <th>#200</th>\n",
       "      <th>CS1</th>\n",
       "      <th>MgO</th>\n",
       "      <th>#325</th>\n",
       "      <th>CS3</th>\n",
       "      <th>CS7</th>\n",
       "      <th>Insoluble Residue</th>\n",
       "    </tr>\n",
       "  </thead>\n",
       "  <tbody>\n",
       "    <tr>\n",
       "      <th>0</th>\n",
       "      <td>0.000228</td>\n",
       "      <td>-0.000064</td>\n",
       "      <td>0.003326</td>\n",
       "      <td>-0.001168</td>\n",
       "      <td>0.135061</td>\n",
       "      <td>0.010009</td>\n",
       "      <td>0.081687</td>\n",
       "      <td>0.021969</td>\n",
       "      <td>0.076592</td>\n",
       "      <td>0.337772</td>\n",
       "      <td>0.124496</td>\n",
       "      <td>0.316227</td>\n",
       "    </tr>\n",
       "    <tr>\n",
       "      <th>1</th>\n",
       "      <td>-0.027434</td>\n",
       "      <td>-0.002946</td>\n",
       "      <td>-0.011852</td>\n",
       "      <td>0.001917</td>\n",
       "      <td>-0.008003</td>\n",
       "      <td>0.180818</td>\n",
       "      <td>-0.021605</td>\n",
       "      <td>0.081579</td>\n",
       "      <td>0.200348</td>\n",
       "      <td>0.103266</td>\n",
       "      <td>-0.005702</td>\n",
       "      <td>-0.009064</td>\n",
       "    </tr>\n",
       "    <tr>\n",
       "      <th>2</th>\n",
       "      <td>-0.114146</td>\n",
       "      <td>-0.049686</td>\n",
       "      <td>-0.019005</td>\n",
       "      <td>0.000199</td>\n",
       "      <td>-0.142180</td>\n",
       "      <td>-0.058925</td>\n",
       "      <td>0.242145</td>\n",
       "      <td>0.398810</td>\n",
       "      <td>0.150320</td>\n",
       "      <td>-0.105387</td>\n",
       "      <td>-0.052700</td>\n",
       "      <td>0.052390</td>\n",
       "    </tr>\n",
       "    <tr>\n",
       "      <th>3</th>\n",
       "      <td>0.002685</td>\n",
       "      <td>0.008413</td>\n",
       "      <td>-0.000605</td>\n",
       "      <td>-0.006116</td>\n",
       "      <td>0.122234</td>\n",
       "      <td>0.196661</td>\n",
       "      <td>0.104277</td>\n",
       "      <td>-0.000395</td>\n",
       "      <td>0.162516</td>\n",
       "      <td>0.031479</td>\n",
       "      <td>0.398522</td>\n",
       "      <td>0.843297</td>\n",
       "    </tr>\n",
       "    <tr>\n",
       "      <th>4</th>\n",
       "      <td>0.018151</td>\n",
       "      <td>0.028724</td>\n",
       "      <td>0.013191</td>\n",
       "      <td>0.008927</td>\n",
       "      <td>-0.003924</td>\n",
       "      <td>0.000565</td>\n",
       "      <td>0.008972</td>\n",
       "      <td>-0.001538</td>\n",
       "      <td>-0.015106</td>\n",
       "      <td>0.211860</td>\n",
       "      <td>0.387254</td>\n",
       "      <td>-0.003215</td>\n",
       "    </tr>\n",
       "  </tbody>\n",
       "</table>\n",
       "</div>"
      ],
      "text/plain": [
       "     Blaine  Initial setting time  Final setting time       SO3       LOI  \\\n",
       "0  0.000228             -0.000064            0.003326 -0.001168  0.135061   \n",
       "1 -0.027434             -0.002946           -0.011852  0.001917 -0.008003   \n",
       "2 -0.114146             -0.049686           -0.019005  0.000199 -0.142180   \n",
       "3  0.002685              0.008413           -0.000605 -0.006116  0.122234   \n",
       "4  0.018151              0.028724            0.013191  0.008927 -0.003924   \n",
       "\n",
       "       #200       CS1       MgO      #325       CS3       CS7  \\\n",
       "0  0.010009  0.081687  0.021969  0.076592  0.337772  0.124496   \n",
       "1  0.180818 -0.021605  0.081579  0.200348  0.103266 -0.005702   \n",
       "2 -0.058925  0.242145  0.398810  0.150320 -0.105387 -0.052700   \n",
       "3  0.196661  0.104277 -0.000395  0.162516  0.031479  0.398522   \n",
       "4  0.000565  0.008972 -0.001538 -0.015106  0.211860  0.387254   \n",
       "\n",
       "   Insoluble Residue  \n",
       "0           0.316227  \n",
       "1          -0.009064  \n",
       "2           0.052390  \n",
       "3           0.843297  \n",
       "4          -0.003215  "
      ]
     },
     "execution_count": 30,
     "metadata": {},
     "output_type": "execute_result"
    },
    {
     "data": {
      "application/javascript": [
       "\n",
       "            setTimeout(function() {\n",
       "                var nbb_cell_id = 30;\n",
       "                var nbb_unformatted_code = \"perm_importances_df\";\n",
       "                var nbb_formatted_code = \"perm_importances_df\";\n",
       "                var nbb_cells = Jupyter.notebook.get_cells();\n",
       "                for (var i = 0; i < nbb_cells.length; ++i) {\n",
       "                    if (nbb_cells[i].input_prompt_number == nbb_cell_id) {\n",
       "                        if (nbb_cells[i].get_text() == nbb_unformatted_code) {\n",
       "                             nbb_cells[i].set_text(nbb_formatted_code);\n",
       "                        }\n",
       "                        break;\n",
       "                    }\n",
       "                }\n",
       "            }, 500);\n",
       "            "
      ],
      "text/plain": [
       "<IPython.core.display.Javascript object>"
      ]
     },
     "metadata": {},
     "output_type": "display_data"
    }
   ],
   "source": [
    "perm_importances_df"
   ]
  },
  {
   "cell_type": "markdown",
   "id": "c4567307",
   "metadata": {},
   "source": [
    "# Random Forest - Top model according to dominance count of 17 and SCPM of -4.98"
   ]
  },
  {
   "cell_type": "markdown",
   "id": "a892c485",
   "metadata": {},
   "source": [
    "## Functions and definitions"
   ]
  },
  {
   "cell_type": "code",
   "execution_count": 31,
   "id": "3fce2b45",
   "metadata": {},
   "outputs": [
    {
     "data": {
      "application/javascript": [
       "\n",
       "            setTimeout(function() {\n",
       "                var nbb_cell_id = 31;\n",
       "                var nbb_unformatted_code = \"def get_random_forest_df_importances(scores):\\n    importances = {}\\n    importances_with_column = []\\n    columns = x.columns\\n\\n    for index, pipeline in enumerate(scores[\\\"estimator\\\"]):\\n        model = pipeline.named_steps[\\\"estimator\\\"]\\n        importances[index] = model.feature_importances_\\n\\n    for index, importances_vec in importances.items():\\n        importances_col = pd.DataFrame(\\n            {col: [c] for col, c in zip(columns, importances_vec)},\\n            index=[f\\\"Importances - {index}\\\"],\\n        )\\n        importances_with_column.append(importances_col)\\n    df_importances = pd.concat(importances_with_column)\\n\\n    return df_importances\";\n",
       "                var nbb_formatted_code = \"def get_random_forest_df_importances(scores):\\n    importances = {}\\n    importances_with_column = []\\n    columns = x.columns\\n\\n    for index, pipeline in enumerate(scores[\\\"estimator\\\"]):\\n        model = pipeline.named_steps[\\\"estimator\\\"]\\n        importances[index] = model.feature_importances_\\n\\n    for index, importances_vec in importances.items():\\n        importances_col = pd.DataFrame(\\n            {col: [c] for col, c in zip(columns, importances_vec)},\\n            index=[f\\\"Importances - {index}\\\"],\\n        )\\n        importances_with_column.append(importances_col)\\n    df_importances = pd.concat(importances_with_column)\\n\\n    return df_importances\";\n",
       "                var nbb_cells = Jupyter.notebook.get_cells();\n",
       "                for (var i = 0; i < nbb_cells.length; ++i) {\n",
       "                    if (nbb_cells[i].input_prompt_number == nbb_cell_id) {\n",
       "                        if (nbb_cells[i].get_text() == nbb_unformatted_code) {\n",
       "                             nbb_cells[i].set_text(nbb_formatted_code);\n",
       "                        }\n",
       "                        break;\n",
       "                    }\n",
       "                }\n",
       "            }, 500);\n",
       "            "
      ],
      "text/plain": [
       "<IPython.core.display.Javascript object>"
      ]
     },
     "metadata": {},
     "output_type": "display_data"
    }
   ],
   "source": [
    "def get_random_forest_df_importances(scores):\n",
    "    importances = {}\n",
    "    importances_with_column = []\n",
    "    columns = x.columns\n",
    "\n",
    "    for index, pipeline in enumerate(scores[\"estimator\"]):\n",
    "        model = pipeline.named_steps[\"estimator\"]\n",
    "        importances[index] = model.feature_importances_\n",
    "\n",
    "    for index, importances_vec in importances.items():\n",
    "        importances_col = pd.DataFrame(\n",
    "            {col: [c] for col, c in zip(columns, importances_vec)},\n",
    "            index=[f\"Importances - {index}\"],\n",
    "        )\n",
    "        importances_with_column.append(importances_col)\n",
    "    df_importances = pd.concat(importances_with_column)\n",
    "\n",
    "    return df_importances"
   ]
  },
  {
   "cell_type": "markdown",
   "id": "56595a8a",
   "metadata": {},
   "source": [
    "# 1. Decision Tree Regressor"
   ]
  },
  {
   "cell_type": "code",
   "execution_count": 32,
   "id": "9c9ff536",
   "metadata": {},
   "outputs": [
    {
     "data": {
      "application/javascript": [
       "\n",
       "            setTimeout(function() {\n",
       "                var nbb_cell_id = 32;\n",
       "                var nbb_unformatted_code = \"PARAMS = {\\n    \\\"criterion\\\": \\\"squared_error\\\",\\n    \\\"n_estimators\\\": 5,\\n    \\\"max_depth\\\": 3,\\n    \\\"random_state\\\": SEED,\\n}\";\n",
       "                var nbb_formatted_code = \"PARAMS = {\\n    \\\"criterion\\\": \\\"squared_error\\\",\\n    \\\"n_estimators\\\": 5,\\n    \\\"max_depth\\\": 3,\\n    \\\"random_state\\\": SEED,\\n}\";\n",
       "                var nbb_cells = Jupyter.notebook.get_cells();\n",
       "                for (var i = 0; i < nbb_cells.length; ++i) {\n",
       "                    if (nbb_cells[i].input_prompt_number == nbb_cell_id) {\n",
       "                        if (nbb_cells[i].get_text() == nbb_unformatted_code) {\n",
       "                             nbb_cells[i].set_text(nbb_formatted_code);\n",
       "                        }\n",
       "                        break;\n",
       "                    }\n",
       "                }\n",
       "            }, 500);\n",
       "            "
      ],
      "text/plain": [
       "<IPython.core.display.Javascript object>"
      ]
     },
     "metadata": {},
     "output_type": "display_data"
    }
   ],
   "source": [
    "PARAMS = {\n",
    "    \"criterion\": \"squared_error\",\n",
    "    \"n_estimators\": 5,\n",
    "    \"max_depth\": 3,\n",
    "    \"random_state\": SEED,\n",
    "}"
   ]
  },
  {
   "cell_type": "markdown",
   "id": "9dc82c9b",
   "metadata": {},
   "source": [
    "## 1.2. Blocking Time Series Cross Validation\n"
   ]
  },
  {
   "cell_type": "code",
   "execution_count": 33,
   "id": "0a3df0d7",
   "metadata": {},
   "outputs": [
    {
     "name": "stdout",
     "output_type": "stream",
     "text": [
      "Blocking Time Series Split:\n",
      "Repeats: 3\n",
      "n_splits: 5\n",
      "\n",
      "******\n",
      "[TRAIN]\n",
      "******\n",
      "RMSE: -0.999 (0.232)\n",
      "MAE: -0.783 (0.171)\n",
      "MAPE: -0.018 (0.004)\n",
      "R2: 0.855 (0.058)\n",
      "\n",
      "======================\n",
      "\n",
      "******\n",
      "[TEST]\n",
      "******\n",
      "RMSE: -1.653 (0.393)\n",
      "MAE: -1.253 (0.227)\n",
      "MAPE: -0.028 (0.006)\n",
      "R2: 0.386 (0.444)\n",
      "\n",
      "======================\n",
      "\n"
     ]
    },
    {
     "data": {
      "application/javascript": [
       "\n",
       "            setTimeout(function() {\n",
       "                var nbb_cell_id = 33;\n",
       "                var nbb_unformatted_code = \"repeats = 3\\nn_splits = 5\\ntrain_size = 0.8\\n\\npipeline = Pipeline(\\n    [\\n        (\\\"imputer\\\", SimpleImputer(strategy=\\\"median\\\")),\\n        (\\\"estimator\\\", RandomForestRegressor(**PARAMS)),\\n    ]\\n)\\ncv = BlockingTimeSeriesSplit(n_splits=n_splits, train_size=train_size)\\nscores = cross_validate(\\n    pipeline,\\n    x,\\n    y,\\n    scoring=METRICS,\\n    cv=cv,\\n    n_jobs=-1,\\n    return_train_score=True,\\n    return_estimator=True,\\n    return_indices=True,\\n)\\nprint(\\\"Blocking Time Series Split:\\\")\\nprint(f\\\"Repeats: {repeats}\\\")\\nprint(f\\\"n_splits: {n_splits}\\\")\\nprint()\\nprint_scores(scores, METRICS, METRICS_DICT)\\n\\nresults_dict_copy = results_dict.copy()\\nresults_dict_copy[\\\"Cross Validation\\\"] = \\\"Blocking Time Series Split\\\"\\nresults_dict_copy[\\n    \\\"Cross Validation Params\\\"\\n] = '{\\\"N_Splits\\\": 5, \\\"Repeats\\\": 1, \\\"train_size\\\": 0.8}'\\nresults_dict_copy[\\\"Data Shape\\\"] = x.shape\\ndf_results = fill_results_dict(results_dict_copy, scores)\\nresults_to_save.append(df_results)\";\n",
       "                var nbb_formatted_code = \"repeats = 3\\nn_splits = 5\\ntrain_size = 0.8\\n\\npipeline = Pipeline(\\n    [\\n        (\\\"imputer\\\", SimpleImputer(strategy=\\\"median\\\")),\\n        (\\\"estimator\\\", RandomForestRegressor(**PARAMS)),\\n    ]\\n)\\ncv = BlockingTimeSeriesSplit(n_splits=n_splits, train_size=train_size)\\nscores = cross_validate(\\n    pipeline,\\n    x,\\n    y,\\n    scoring=METRICS,\\n    cv=cv,\\n    n_jobs=-1,\\n    return_train_score=True,\\n    return_estimator=True,\\n    return_indices=True,\\n)\\nprint(\\\"Blocking Time Series Split:\\\")\\nprint(f\\\"Repeats: {repeats}\\\")\\nprint(f\\\"n_splits: {n_splits}\\\")\\nprint()\\nprint_scores(scores, METRICS, METRICS_DICT)\\n\\nresults_dict_copy = results_dict.copy()\\nresults_dict_copy[\\\"Cross Validation\\\"] = \\\"Blocking Time Series Split\\\"\\nresults_dict_copy[\\n    \\\"Cross Validation Params\\\"\\n] = '{\\\"N_Splits\\\": 5, \\\"Repeats\\\": 1, \\\"train_size\\\": 0.8}'\\nresults_dict_copy[\\\"Data Shape\\\"] = x.shape\\ndf_results = fill_results_dict(results_dict_copy, scores)\\nresults_to_save.append(df_results)\";\n",
       "                var nbb_cells = Jupyter.notebook.get_cells();\n",
       "                for (var i = 0; i < nbb_cells.length; ++i) {\n",
       "                    if (nbb_cells[i].input_prompt_number == nbb_cell_id) {\n",
       "                        if (nbb_cells[i].get_text() == nbb_unformatted_code) {\n",
       "                             nbb_cells[i].set_text(nbb_formatted_code);\n",
       "                        }\n",
       "                        break;\n",
       "                    }\n",
       "                }\n",
       "            }, 500);\n",
       "            "
      ],
      "text/plain": [
       "<IPython.core.display.Javascript object>"
      ]
     },
     "metadata": {},
     "output_type": "display_data"
    }
   ],
   "source": [
    "repeats = 3\n",
    "n_splits = 5\n",
    "train_size = 0.8\n",
    "\n",
    "pipeline = Pipeline(\n",
    "    [\n",
    "        (\"imputer\", SimpleImputer(strategy=\"median\")),\n",
    "        (\"estimator\", RandomForestRegressor(**PARAMS)),\n",
    "    ]\n",
    ")\n",
    "cv = BlockingTimeSeriesSplit(n_splits=n_splits, train_size=train_size)\n",
    "scores = cross_validate(\n",
    "    pipeline,\n",
    "    x,\n",
    "    y,\n",
    "    scoring=METRICS,\n",
    "    cv=cv,\n",
    "    n_jobs=-1,\n",
    "    return_train_score=True,\n",
    "    return_estimator=True,\n",
    "    return_indices=True,\n",
    ")\n",
    "print(\"Blocking Time Series Split:\")\n",
    "print(f\"Repeats: {repeats}\")\n",
    "print(f\"n_splits: {n_splits}\")\n",
    "print()\n",
    "print_scores(scores, METRICS, METRICS_DICT)\n",
    "\n",
    "results_dict_copy = results_dict.copy()\n",
    "results_dict_copy[\"Cross Validation\"] = \"Blocking Time Series Split\"\n",
    "results_dict_copy[\n",
    "    \"Cross Validation Params\"\n",
    "] = '{\"N_Splits\": 5, \"Repeats\": 1, \"train_size\": 0.8}'\n",
    "results_dict_copy[\"Data Shape\"] = x.shape\n",
    "df_results = fill_results_dict(results_dict_copy, scores)\n",
    "results_to_save.append(df_results)"
   ]
  },
  {
   "cell_type": "markdown",
   "id": "87dcdce2",
   "metadata": {},
   "source": [
    "## Plotting the Predictions"
   ]
  },
  {
   "cell_type": "code",
   "execution_count": 34,
   "id": "946ef9a2",
   "metadata": {},
   "outputs": [
    {
     "data": {
      "application/javascript": [
       "\n",
       "            setTimeout(function() {\n",
       "                var nbb_cell_id = 34;\n",
       "                var nbb_unformatted_code = \"df_pred = pd.DataFrame()\\ndf_pred[\\\"DATE\\\"] = dates.copy()\\ndf_pred[\\\"CS28\\\"] = y.copy()\\ndf_pred[\\\"CS28_PRED\\\"] = np.nan\\ndf_pred[\\\"SET\\\"] = \\\"\\\"\\ndf_pred[\\\"CEMENT_TYPE\\\"] = df[\\\"Cement_Type\\\"].copy()\\ndf_pred[\\\"DATE\\\"] = pd.to_datetime(df_pred[\\\"DATE\\\"])\\n\\n\\nfor idx, pipeline in enumerate(scores[\\\"estimator\\\"]):\\n    index_train = scores[\\\"indices\\\"][\\\"train\\\"][idx]\\n    index_test = scores[\\\"indices\\\"][\\\"test\\\"][idx]\\n    index_preds = np.concatenate([index_train, index_test])\\n\\n    # results = scores[\\\"estimator\\\"][0].predict(x.loc[index_preds])\\n    results = pipeline.predict(x.loc[index_preds])\\n    df_pred.loc[index_preds, \\\"CS28_PRED\\\"] = results.copy()\\n    df_pred.loc[index_train, \\\"SET\\\"] = \\\"TRAIN\\\"\\n    df_pred.loc[index_test, \\\"SET\\\"] = \\\"TEST\\\"\\ndf_pred = df_pred.dropna()\";\n",
       "                var nbb_formatted_code = \"df_pred = pd.DataFrame()\\ndf_pred[\\\"DATE\\\"] = dates.copy()\\ndf_pred[\\\"CS28\\\"] = y.copy()\\ndf_pred[\\\"CS28_PRED\\\"] = np.nan\\ndf_pred[\\\"SET\\\"] = \\\"\\\"\\ndf_pred[\\\"CEMENT_TYPE\\\"] = df[\\\"Cement_Type\\\"].copy()\\ndf_pred[\\\"DATE\\\"] = pd.to_datetime(df_pred[\\\"DATE\\\"])\\n\\n\\nfor idx, pipeline in enumerate(scores[\\\"estimator\\\"]):\\n    index_train = scores[\\\"indices\\\"][\\\"train\\\"][idx]\\n    index_test = scores[\\\"indices\\\"][\\\"test\\\"][idx]\\n    index_preds = np.concatenate([index_train, index_test])\\n\\n    # results = scores[\\\"estimator\\\"][0].predict(x.loc[index_preds])\\n    results = pipeline.predict(x.loc[index_preds])\\n    df_pred.loc[index_preds, \\\"CS28_PRED\\\"] = results.copy()\\n    df_pred.loc[index_train, \\\"SET\\\"] = \\\"TRAIN\\\"\\n    df_pred.loc[index_test, \\\"SET\\\"] = \\\"TEST\\\"\\ndf_pred = df_pred.dropna()\";\n",
       "                var nbb_cells = Jupyter.notebook.get_cells();\n",
       "                for (var i = 0; i < nbb_cells.length; ++i) {\n",
       "                    if (nbb_cells[i].input_prompt_number == nbb_cell_id) {\n",
       "                        if (nbb_cells[i].get_text() == nbb_unformatted_code) {\n",
       "                             nbb_cells[i].set_text(nbb_formatted_code);\n",
       "                        }\n",
       "                        break;\n",
       "                    }\n",
       "                }\n",
       "            }, 500);\n",
       "            "
      ],
      "text/plain": [
       "<IPython.core.display.Javascript object>"
      ]
     },
     "metadata": {},
     "output_type": "display_data"
    }
   ],
   "source": [
    "df_pred = pd.DataFrame()\n",
    "df_pred[\"DATE\"] = dates.copy()\n",
    "df_pred[\"CS28\"] = y.copy()\n",
    "df_pred[\"CS28_PRED\"] = np.nan\n",
    "df_pred[\"SET\"] = \"\"\n",
    "df_pred[\"CEMENT_TYPE\"] = df[\"Cement_Type\"].copy()\n",
    "df_pred[\"DATE\"] = pd.to_datetime(df_pred[\"DATE\"])\n",
    "\n",
    "\n",
    "for idx, pipeline in enumerate(scores[\"estimator\"]):\n",
    "    index_train = scores[\"indices\"][\"train\"][idx]\n",
    "    index_test = scores[\"indices\"][\"test\"][idx]\n",
    "    index_preds = np.concatenate([index_train, index_test])\n",
    "\n",
    "    # results = scores[\"estimator\"][0].predict(x.loc[index_preds])\n",
    "    results = pipeline.predict(x.loc[index_preds])\n",
    "    df_pred.loc[index_preds, \"CS28_PRED\"] = results.copy()\n",
    "    df_pred.loc[index_train, \"SET\"] = \"TRAIN\"\n",
    "    df_pred.loc[index_test, \"SET\"] = \"TEST\"\n",
    "df_pred = df_pred.dropna()"
   ]
  },
  {
   "cell_type": "code",
   "execution_count": 35,
   "id": "f2b2fd6e",
   "metadata": {},
   "outputs": [
    {
     "data": {
      "text/html": [
       "<div>\n",
       "<style scoped>\n",
       "    .dataframe tbody tr th:only-of-type {\n",
       "        vertical-align: middle;\n",
       "    }\n",
       "\n",
       "    .dataframe tbody tr th {\n",
       "        vertical-align: top;\n",
       "    }\n",
       "\n",
       "    .dataframe thead th {\n",
       "        text-align: right;\n",
       "    }\n",
       "</style>\n",
       "<table border=\"1\" class=\"dataframe\">\n",
       "  <thead>\n",
       "    <tr style=\"text-align: right;\">\n",
       "      <th></th>\n",
       "      <th>DATE</th>\n",
       "      <th>CS28</th>\n",
       "      <th>CS28_PRED</th>\n",
       "      <th>SET</th>\n",
       "    </tr>\n",
       "  </thead>\n",
       "  <tbody>\n",
       "    <tr>\n",
       "      <th>0</th>\n",
       "      <td>2020-01-02</td>\n",
       "      <td>39.2875</td>\n",
       "      <td>40.653226</td>\n",
       "      <td>TRAIN</td>\n",
       "    </tr>\n",
       "    <tr>\n",
       "      <th>1</th>\n",
       "      <td>2020-01-02</td>\n",
       "      <td>48.0475</td>\n",
       "      <td>47.435194</td>\n",
       "      <td>TRAIN</td>\n",
       "    </tr>\n",
       "    <tr>\n",
       "      <th>2</th>\n",
       "      <td>2020-01-04</td>\n",
       "      <td>49.3350</td>\n",
       "      <td>47.781031</td>\n",
       "      <td>TRAIN</td>\n",
       "    </tr>\n",
       "    <tr>\n",
       "      <th>3</th>\n",
       "      <td>2020-01-07</td>\n",
       "      <td>41.8425</td>\n",
       "      <td>42.382821</td>\n",
       "      <td>TRAIN</td>\n",
       "    </tr>\n",
       "    <tr>\n",
       "      <th>4</th>\n",
       "      <td>2020-01-07</td>\n",
       "      <td>47.3150</td>\n",
       "      <td>46.692701</td>\n",
       "      <td>TRAIN</td>\n",
       "    </tr>\n",
       "    <tr>\n",
       "      <th>...</th>\n",
       "      <td>...</td>\n",
       "      <td>...</td>\n",
       "      <td>...</td>\n",
       "      <td>...</td>\n",
       "    </tr>\n",
       "    <tr>\n",
       "      <th>1160</th>\n",
       "      <td>2023-02-16</td>\n",
       "      <td>39.9700</td>\n",
       "      <td>40.593620</td>\n",
       "      <td>TEST</td>\n",
       "    </tr>\n",
       "    <tr>\n",
       "      <th>1161</th>\n",
       "      <td>2023-02-18</td>\n",
       "      <td>40.2000</td>\n",
       "      <td>40.593620</td>\n",
       "      <td>TEST</td>\n",
       "    </tr>\n",
       "    <tr>\n",
       "      <th>1162</th>\n",
       "      <td>2023-02-20</td>\n",
       "      <td>38.5075</td>\n",
       "      <td>40.593620</td>\n",
       "      <td>TEST</td>\n",
       "    </tr>\n",
       "    <tr>\n",
       "      <th>1163</th>\n",
       "      <td>2023-02-21</td>\n",
       "      <td>41.0575</td>\n",
       "      <td>43.181037</td>\n",
       "      <td>TEST</td>\n",
       "    </tr>\n",
       "    <tr>\n",
       "      <th>1164</th>\n",
       "      <td>2023-02-22</td>\n",
       "      <td>39.4950</td>\n",
       "      <td>41.900805</td>\n",
       "      <td>TEST</td>\n",
       "    </tr>\n",
       "  </tbody>\n",
       "</table>\n",
       "<p>1165 rows × 4 columns</p>\n",
       "</div>"
      ],
      "text/plain": [
       "           DATE     CS28  CS28_PRED    SET\n",
       "0    2020-01-02  39.2875  40.653226  TRAIN\n",
       "1    2020-01-02  48.0475  47.435194  TRAIN\n",
       "2    2020-01-04  49.3350  47.781031  TRAIN\n",
       "3    2020-01-07  41.8425  42.382821  TRAIN\n",
       "4    2020-01-07  47.3150  46.692701  TRAIN\n",
       "...         ...      ...        ...    ...\n",
       "1160 2023-02-16  39.9700  40.593620   TEST\n",
       "1161 2023-02-18  40.2000  40.593620   TEST\n",
       "1162 2023-02-20  38.5075  40.593620   TEST\n",
       "1163 2023-02-21  41.0575  43.181037   TEST\n",
       "1164 2023-02-22  39.4950  41.900805   TEST\n",
       "\n",
       "[1165 rows x 4 columns]"
      ]
     },
     "execution_count": 35,
     "metadata": {},
     "output_type": "execute_result"
    },
    {
     "data": {
      "application/javascript": [
       "\n",
       "            setTimeout(function() {\n",
       "                var nbb_cell_id = 35;\n",
       "                var nbb_unformatted_code = \"df_pred[[\\\"DATE\\\", \\\"CS28\\\", \\\"CS28_PRED\\\", \\\"SET\\\"]]\";\n",
       "                var nbb_formatted_code = \"df_pred[[\\\"DATE\\\", \\\"CS28\\\", \\\"CS28_PRED\\\", \\\"SET\\\"]]\";\n",
       "                var nbb_cells = Jupyter.notebook.get_cells();\n",
       "                for (var i = 0; i < nbb_cells.length; ++i) {\n",
       "                    if (nbb_cells[i].input_prompt_number == nbb_cell_id) {\n",
       "                        if (nbb_cells[i].get_text() == nbb_unformatted_code) {\n",
       "                             nbb_cells[i].set_text(nbb_formatted_code);\n",
       "                        }\n",
       "                        break;\n",
       "                    }\n",
       "                }\n",
       "            }, 500);\n",
       "            "
      ],
      "text/plain": [
       "<IPython.core.display.Javascript object>"
      ]
     },
     "metadata": {},
     "output_type": "display_data"
    }
   ],
   "source": [
    "df_pred[[\"DATE\", \"CS28\", \"CS28_PRED\", \"SET\"]]"
   ]
  },
  {
   "cell_type": "code",
   "execution_count": 36,
   "id": "3eaf9858",
   "metadata": {},
   "outputs": [
    {
     "data": {
      "text/plain": [
       "((1169, 13), (1165, 5))"
      ]
     },
     "execution_count": 36,
     "metadata": {},
     "output_type": "execute_result"
    },
    {
     "data": {
      "application/javascript": [
       "\n",
       "            setTimeout(function() {\n",
       "                var nbb_cell_id = 36;\n",
       "                var nbb_unformatted_code = \"df_copy.shape, df_pred.shape\";\n",
       "                var nbb_formatted_code = \"df_copy.shape, df_pred.shape\";\n",
       "                var nbb_cells = Jupyter.notebook.get_cells();\n",
       "                for (var i = 0; i < nbb_cells.length; ++i) {\n",
       "                    if (nbb_cells[i].input_prompt_number == nbb_cell_id) {\n",
       "                        if (nbb_cells[i].get_text() == nbb_unformatted_code) {\n",
       "                             nbb_cells[i].set_text(nbb_formatted_code);\n",
       "                        }\n",
       "                        break;\n",
       "                    }\n",
       "                }\n",
       "            }, 500);\n",
       "            "
      ],
      "text/plain": [
       "<IPython.core.display.Javascript object>"
      ]
     },
     "metadata": {},
     "output_type": "display_data"
    }
   ],
   "source": [
    "df_copy.shape, df_pred.shape"
   ]
  },
  {
   "cell_type": "code",
   "execution_count": 37,
   "id": "78582ffc",
   "metadata": {},
   "outputs": [
    {
     "data": {
      "application/javascript": [
       "\n",
       "            setTimeout(function() {\n",
       "                var nbb_cell_id = 37;\n",
       "                var nbb_unformatted_code = \"# df_copy_merge = df_copy.merge(df_pred, left_index=True, right_index=True, how=\\\"left\\\")\\n# df_copy_merge[\\\"COMPANY\\\"] = 206\\n# df_copy_merge[\\\"PLANT\\\"] = \\\"B\\\"\\n# for fold, (train_index, test_index) in enumerate(cv.split(x)):\\n#     df_copy_merge.loc[train_index, \\\"FOLD\\\"] = fold + 1\\n#     df_copy_merge.loc[test_index, \\\"FOLD\\\"] = fold + 1\\n# df_copy_merge[\\\"FOLD\\\"] = df_copy_merge[\\\"FOLD\\\"].astype(int)\\n# df_copy_merge.to_excel(\\\"local_model_random_forest_btsscv_206_b.xlsx\\\", index=False)\\n# df_copy_merge.to_csv(\\\"local_model_random_forest_btsscv_206_b.csv\\\", index=False)\";\n",
       "                var nbb_formatted_code = \"# df_copy_merge = df_copy.merge(df_pred, left_index=True, right_index=True, how=\\\"left\\\")\\n# df_copy_merge[\\\"COMPANY\\\"] = 206\\n# df_copy_merge[\\\"PLANT\\\"] = \\\"B\\\"\\n# for fold, (train_index, test_index) in enumerate(cv.split(x)):\\n#     df_copy_merge.loc[train_index, \\\"FOLD\\\"] = fold + 1\\n#     df_copy_merge.loc[test_index, \\\"FOLD\\\"] = fold + 1\\n# df_copy_merge[\\\"FOLD\\\"] = df_copy_merge[\\\"FOLD\\\"].astype(int)\\n# df_copy_merge.to_excel(\\\"local_model_random_forest_btsscv_206_b.xlsx\\\", index=False)\\n# df_copy_merge.to_csv(\\\"local_model_random_forest_btsscv_206_b.csv\\\", index=False)\";\n",
       "                var nbb_cells = Jupyter.notebook.get_cells();\n",
       "                for (var i = 0; i < nbb_cells.length; ++i) {\n",
       "                    if (nbb_cells[i].input_prompt_number == nbb_cell_id) {\n",
       "                        if (nbb_cells[i].get_text() == nbb_unformatted_code) {\n",
       "                             nbb_cells[i].set_text(nbb_formatted_code);\n",
       "                        }\n",
       "                        break;\n",
       "                    }\n",
       "                }\n",
       "            }, 500);\n",
       "            "
      ],
      "text/plain": [
       "<IPython.core.display.Javascript object>"
      ]
     },
     "metadata": {},
     "output_type": "display_data"
    }
   ],
   "source": [
    "# df_copy_merge = df_copy.merge(df_pred, left_index=True, right_index=True, how=\"left\")\n",
    "# df_copy_merge[\"COMPANY\"] = 206\n",
    "# df_copy_merge[\"PLANT\"] = \"B\"\n",
    "# for fold, (train_index, test_index) in enumerate(cv.split(x)):\n",
    "#     df_copy_merge.loc[train_index, \"FOLD\"] = fold + 1\n",
    "#     df_copy_merge.loc[test_index, \"FOLD\"] = fold + 1\n",
    "# df_copy_merge[\"FOLD\"] = df_copy_merge[\"FOLD\"].astype(int)\n",
    "# df_copy_merge.to_excel(\"local_model_random_forest_btsscv_206_b.xlsx\", index=False)\n",
    "# df_copy_merge.to_csv(\"local_model_random_forest_btsscv_206_b.csv\", index=False)"
   ]
  },
  {
   "cell_type": "code",
   "execution_count": 38,
   "id": "815dd30f",
   "metadata": {},
   "outputs": [
    {
     "data": {
      "application/javascript": [
       "\n",
       "            setTimeout(function() {\n",
       "                var nbb_cell_id = 38;\n",
       "                var nbb_unformatted_code = \"matplotlib.rc_file_defaults()\";\n",
       "                var nbb_formatted_code = \"matplotlib.rc_file_defaults()\";\n",
       "                var nbb_cells = Jupyter.notebook.get_cells();\n",
       "                for (var i = 0; i < nbb_cells.length; ++i) {\n",
       "                    if (nbb_cells[i].input_prompt_number == nbb_cell_id) {\n",
       "                        if (nbb_cells[i].get_text() == nbb_unformatted_code) {\n",
       "                             nbb_cells[i].set_text(nbb_formatted_code);\n",
       "                        }\n",
       "                        break;\n",
       "                    }\n",
       "                }\n",
       "            }, 500);\n",
       "            "
      ],
      "text/plain": [
       "<IPython.core.display.Javascript object>"
      ]
     },
     "metadata": {},
     "output_type": "display_data"
    }
   ],
   "source": [
    "matplotlib.rc_file_defaults()"
   ]
  },
  {
   "cell_type": "code",
   "execution_count": 39,
   "id": "98efa65d",
   "metadata": {},
   "outputs": [
    {
     "data": {
      "image/png": "[encoded data removed]",
      "text/plain": [
       "<Figure size 600x600 with 1 Axes>"
      ]
     },
     "metadata": {},
     "output_type": "display_data"
    },
    {
     "data": {
      "application/javascript": [
       "\n",
       "            setTimeout(function() {\n",
       "                var nbb_cell_id = 39;\n",
       "                var nbb_unformatted_code = \"# Filter to only include the test set\\ntest_data = df_pred[df_pred[\\\"SET\\\"] == \\\"TEST\\\"]\\n\\nplt.figure(figsize=(6, 6))\\nplt.scatter(\\n    test_data[\\\"CS28\\\"], test_data[\\\"CS28_PRED\\\"], color=\\\"tomato\\\", alpha=0.7, label=\\\"Predicted\\\"\\n)\\nplt.plot(\\n    [test_data[\\\"CS28\\\"].min(), test_data[\\\"CS28\\\"].max()],\\n    [test_data[\\\"CS28\\\"].min(), test_data[\\\"CS28\\\"].max()],\\n    color=\\\"black\\\", linestyle=\\\"--\\\", linewidth=2,\\n)\\nplt.xlabel(\\\"Actual CS28 (MPa)\\\")\\nplt.ylabel(\\\"Predicted CS28 (MPa)\\\")\\nplt.title(\\\"Predicted vs Actual CS28\\\")\\nplt.legend()\\nplt.grid(True)\\nplt.gca().spines[\\\"top\\\"].set_visible(False)\\nplt.gca().spines[\\\"right\\\"].set_visible(False)\\n\\nplt.savefig(\\\"ecics_206_b_local_cm_p_cs_btiss_top_dominant_pred_vs_actual_cs28.png\\\", dpi=300, bbox_inches='tight')\\nplt.show()\";\n",
       "                var nbb_formatted_code = \"# Filter to only include the test set\\ntest_data = df_pred[df_pred[\\\"SET\\\"] == \\\"TEST\\\"]\\n\\nplt.figure(figsize=(6, 6))\\nplt.scatter(\\n    test_data[\\\"CS28\\\"],\\n    test_data[\\\"CS28_PRED\\\"],\\n    color=\\\"tomato\\\",\\n    alpha=0.7,\\n    label=\\\"Predicted\\\",\\n)\\nplt.plot(\\n    [test_data[\\\"CS28\\\"].min(), test_data[\\\"CS28\\\"].max()],\\n    [test_data[\\\"CS28\\\"].min(), test_data[\\\"CS28\\\"].max()],\\n    color=\\\"black\\\",\\n    linestyle=\\\"--\\\",\\n    linewidth=2,\\n)\\nplt.xlabel(\\\"Actual CS28 (MPa)\\\")\\nplt.ylabel(\\\"Predicted CS28 (MPa)\\\")\\nplt.title(\\\"Predicted vs Actual CS28\\\")\\nplt.legend()\\nplt.grid(True)\\nplt.gca().spines[\\\"top\\\"].set_visible(False)\\nplt.gca().spines[\\\"right\\\"].set_visible(False)\\n\\nplt.savefig(\\n    \\\"ecics_206_b_local_cm_p_cs_btiss_top_dominant_pred_vs_actual_cs28.png\\\",\\n    dpi=300,\\n    bbox_inches=\\\"tight\\\",\\n)\\nplt.show()\";\n",
       "                var nbb_cells = Jupyter.notebook.get_cells();\n",
       "                for (var i = 0; i < nbb_cells.length; ++i) {\n",
       "                    if (nbb_cells[i].input_prompt_number == nbb_cell_id) {\n",
       "                        if (nbb_cells[i].get_text() == nbb_unformatted_code) {\n",
       "                             nbb_cells[i].set_text(nbb_formatted_code);\n",
       "                        }\n",
       "                        break;\n",
       "                    }\n",
       "                }\n",
       "            }, 500);\n",
       "            "
      ],
      "text/plain": [
       "<IPython.core.display.Javascript object>"
      ]
     },
     "metadata": {},
     "output_type": "display_data"
    }
   ],
   "source": [
    "# Filter to only include the test set\n",
    "test_data = df_pred[df_pred[\"SET\"] == \"TEST\"]\n",
    "\n",
    "plt.figure(figsize=(6, 6))\n",
    "plt.scatter(\n",
    "    test_data[\"CS28\"], test_data[\"CS28_PRED\"], color=\"tomato\", alpha=0.7, label=\"Predicted\"\n",
    ")\n",
    "plt.plot(\n",
    "    [test_data[\"CS28\"].min(), test_data[\"CS28\"].max()],\n",
    "    [test_data[\"CS28\"].min(), test_data[\"CS28\"].max()],\n",
    "    color=\"black\", linestyle=\"--\", linewidth=2,\n",
    ")\n",
    "plt.xlabel(\"Actual CS28 (MPa)\")\n",
    "plt.ylabel(\"Predicted CS28 (MPa)\")\n",
    "plt.title(\"Predicted vs Actual CS28\")\n",
    "plt.legend()\n",
    "plt.grid(True)\n",
    "plt.gca().spines[\"top\"].set_visible(False)\n",
    "plt.gca().spines[\"right\"].set_visible(False)\n",
    "\n",
    "plt.savefig(\"ecics_206_b_local_cm_p_cs_btiss_top_dominant_pred_vs_actual_cs28.png\", dpi=300, bbox_inches='tight')\n",
    "plt.show()\n"
   ]
  },
  {
   "cell_type": "code",
   "execution_count": 40,
   "id": "3e9b86f5",
   "metadata": {},
   "outputs": [
    {
     "data": {
      "image/png": "[encoded data removed]",
      "text/plain": [
       "<Figure size 1000x600 with 1 Axes>"
      ]
     },
     "metadata": {},
     "output_type": "display_data"
    },
    {
     "data": {
      "application/javascript": [
       "\n",
       "            setTimeout(function() {\n",
       "                var nbb_cell_id = 40;\n",
       "                var nbb_unformatted_code = \"plt.figure(figsize=(10, 6))\\nplt.plot(\\n    test_data[\\\"DATE\\\"],\\n    test_data[\\\"CS28\\\"],\\n    color=\\\"dodgerblue\\\",\\n    alpha=0.7,\\n    marker=\\\"o\\\",\\n    linestyle=\\\"none\\\",\\n    label=\\\"Actual CS28\\\",\\n)\\nplt.plot(\\n    test_data[\\\"DATE\\\"],\\n    test_data[\\\"CS28_PRED\\\"],\\n    color=\\\"tomato\\\",\\n    alpha=0.7,\\n    marker=\\\"o\\\",\\n    linestyle=\\\"none\\\",\\n    label=\\\"Predicted CS28\\\",\\n)\\nplt.xlabel(\\\"Date\\\")\\nplt.ylabel(\\\"CS28 (MPa)\\\")\\nplt.title(\\\"Actual vs Predicted CS28\\\")\\nplt.legend(loc=\\\"best\\\")\\nplt.grid(True)\\n\\nplt.gca().spines[\\\"top\\\"].set_visible(False)\\nplt.gca().spines[\\\"right\\\"].set_visible(False)\\n\\nplt.savefig(\\n    \\\"ecics_206_b_local_cm_p_cs_btiss_top_dominant_pred_vs_actual_cs28_over_time.png\\\",\\n    dpi=300,\\n    bbox_inches=\\\"tight\\\",\\n)\\n\\nplt.show()\";\n",
       "                var nbb_formatted_code = \"plt.figure(figsize=(10, 6))\\nplt.plot(\\n    test_data[\\\"DATE\\\"],\\n    test_data[\\\"CS28\\\"],\\n    color=\\\"dodgerblue\\\",\\n    alpha=0.7,\\n    marker=\\\"o\\\",\\n    linestyle=\\\"none\\\",\\n    label=\\\"Actual CS28\\\",\\n)\\nplt.plot(\\n    test_data[\\\"DATE\\\"],\\n    test_data[\\\"CS28_PRED\\\"],\\n    color=\\\"tomato\\\",\\n    alpha=0.7,\\n    marker=\\\"o\\\",\\n    linestyle=\\\"none\\\",\\n    label=\\\"Predicted CS28\\\",\\n)\\nplt.xlabel(\\\"Date\\\")\\nplt.ylabel(\\\"CS28 (MPa)\\\")\\nplt.title(\\\"Actual vs Predicted CS28\\\")\\nplt.legend(loc=\\\"best\\\")\\nplt.grid(True)\\n\\nplt.gca().spines[\\\"top\\\"].set_visible(False)\\nplt.gca().spines[\\\"right\\\"].set_visible(False)\\n\\nplt.savefig(\\n    \\\"ecics_206_b_local_cm_p_cs_btiss_top_dominant_pred_vs_actual_cs28_over_time.png\\\",\\n    dpi=300,\\n    bbox_inches=\\\"tight\\\",\\n)\\n\\nplt.show()\";\n",
       "                var nbb_cells = Jupyter.notebook.get_cells();\n",
       "                for (var i = 0; i < nbb_cells.length; ++i) {\n",
       "                    if (nbb_cells[i].input_prompt_number == nbb_cell_id) {\n",
       "                        if (nbb_cells[i].get_text() == nbb_unformatted_code) {\n",
       "                             nbb_cells[i].set_text(nbb_formatted_code);\n",
       "                        }\n",
       "                        break;\n",
       "                    }\n",
       "                }\n",
       "            }, 500);\n",
       "            "
      ],
      "text/plain": [
       "<IPython.core.display.Javascript object>"
      ]
     },
     "metadata": {},
     "output_type": "display_data"
    }
   ],
   "source": [
    "plt.figure(figsize=(10, 6))\n",
    "plt.plot(\n",
    "    test_data[\"DATE\"],\n",
    "    test_data[\"CS28\"],\n",
    "    color=\"dodgerblue\",\n",
    "    alpha=0.7,\n",
    "    marker=\"o\",\n",
    "    linestyle=\"none\",\n",
    "    label=\"Actual CS28\",\n",
    ")\n",
    "plt.plot(\n",
    "    test_data[\"DATE\"],\n",
    "    test_data[\"CS28_PRED\"],\n",
    "    color=\"tomato\",\n",
    "    alpha=0.7,\n",
    "    marker=\"o\",\n",
    "    linestyle=\"none\",\n",
    "    label=\"Predicted CS28\",\n",
    ")\n",
    "plt.xlabel(\"Date\")\n",
    "plt.ylabel(\"CS28 (MPa)\")\n",
    "plt.title(\"Actual vs Predicted CS28\")\n",
    "plt.legend(loc=\"best\")\n",
    "plt.grid(True)\n",
    "\n",
    "plt.gca().spines[\"top\"].set_visible(False)\n",
    "plt.gca().spines[\"right\"].set_visible(False)\n",
    "\n",
    "plt.savefig(\n",
    "    \"ecics_206_b_local_cm_p_cs_btiss_top_dominant_pred_vs_actual_cs28_over_time.png\",\n",
    "    dpi=300,\n",
    "    bbox_inches=\"tight\",\n",
    ")\n",
    "\n",
    "plt.show()\n"
   ]
  },
  {
   "cell_type": "markdown",
   "id": "5550c3fd",
   "metadata": {},
   "source": [
    "## Assessing Feature Importance"
   ]
  },
  {
   "cell_type": "code",
   "execution_count": 41,
   "id": "e4384b94",
   "metadata": {},
   "outputs": [
    {
     "data": {
      "application/javascript": [
       "\n",
       "            setTimeout(function() {\n",
       "                var nbb_cell_id = 41;\n",
       "                var nbb_unformatted_code = \"df_importances = get_random_forest_df_importances(scores)\";\n",
       "                var nbb_formatted_code = \"df_importances = get_random_forest_df_importances(scores)\";\n",
       "                var nbb_cells = Jupyter.notebook.get_cells();\n",
       "                for (var i = 0; i < nbb_cells.length; ++i) {\n",
       "                    if (nbb_cells[i].input_prompt_number == nbb_cell_id) {\n",
       "                        if (nbb_cells[i].get_text() == nbb_unformatted_code) {\n",
       "                             nbb_cells[i].set_text(nbb_formatted_code);\n",
       "                        }\n",
       "                        break;\n",
       "                    }\n",
       "                }\n",
       "            }, 500);\n",
       "            "
      ],
      "text/plain": [
       "<IPython.core.display.Javascript object>"
      ]
     },
     "metadata": {},
     "output_type": "display_data"
    }
   ],
   "source": [
    "df_importances = get_random_forest_df_importances(scores)"
   ]
  },
  {
   "cell_type": "code",
   "execution_count": 42,
   "id": "aa1133f6",
   "metadata": {},
   "outputs": [
    {
     "data": {
      "text/html": [
       "<div>\n",
       "<style scoped>\n",
       "    .dataframe tbody tr th:only-of-type {\n",
       "        vertical-align: middle;\n",
       "    }\n",
       "\n",
       "    .dataframe tbody tr th {\n",
       "        vertical-align: top;\n",
       "    }\n",
       "\n",
       "    .dataframe thead th {\n",
       "        text-align: right;\n",
       "    }\n",
       "</style>\n",
       "<table border=\"1\" class=\"dataframe\">\n",
       "  <thead>\n",
       "    <tr style=\"text-align: right;\">\n",
       "      <th></th>\n",
       "      <th>MgO</th>\n",
       "      <th>SO3</th>\n",
       "      <th>Loss on Ignition</th>\n",
       "      <th>Insoluble Residue</th>\n",
       "      <th>Blaine</th>\n",
       "      <th>#200</th>\n",
       "      <th>#325</th>\n",
       "      <th>Initial setting time</th>\n",
       "      <th>Final setting time</th>\n",
       "      <th>CS1</th>\n",
       "      <th>CS3</th>\n",
       "      <th>CS7</th>\n",
       "    </tr>\n",
       "  </thead>\n",
       "  <tbody>\n",
       "    <tr>\n",
       "      <th>Importances - 0</th>\n",
       "      <td>0.014127</td>\n",
       "      <td>0.000000</td>\n",
       "      <td>0.073965</td>\n",
       "      <td>0.002279</td>\n",
       "      <td>0.001973</td>\n",
       "      <td>0.001888</td>\n",
       "      <td>0.002094</td>\n",
       "      <td>0.000000</td>\n",
       "      <td>0.000000</td>\n",
       "      <td>0.351170</td>\n",
       "      <td>0.543468</td>\n",
       "      <td>0.009036</td>\n",
       "    </tr>\n",
       "    <tr>\n",
       "      <th>Importances - 1</th>\n",
       "      <td>0.384200</td>\n",
       "      <td>0.009544</td>\n",
       "      <td>0.012006</td>\n",
       "      <td>0.184691</td>\n",
       "      <td>0.001081</td>\n",
       "      <td>0.001668</td>\n",
       "      <td>0.003041</td>\n",
       "      <td>0.000000</td>\n",
       "      <td>0.002684</td>\n",
       "      <td>0.004974</td>\n",
       "      <td>0.383143</td>\n",
       "      <td>0.012969</td>\n",
       "    </tr>\n",
       "    <tr>\n",
       "      <th>Importances - 2</th>\n",
       "      <td>0.000808</td>\n",
       "      <td>0.000735</td>\n",
       "      <td>0.025546</td>\n",
       "      <td>0.379376</td>\n",
       "      <td>0.014789</td>\n",
       "      <td>0.001945</td>\n",
       "      <td>0.000000</td>\n",
       "      <td>0.005787</td>\n",
       "      <td>0.005475</td>\n",
       "      <td>0.552345</td>\n",
       "      <td>0.000000</td>\n",
       "      <td>0.013194</td>\n",
       "    </tr>\n",
       "    <tr>\n",
       "      <th>Importances - 3</th>\n",
       "      <td>0.171812</td>\n",
       "      <td>0.000000</td>\n",
       "      <td>0.012820</td>\n",
       "      <td>0.150369</td>\n",
       "      <td>0.167555</td>\n",
       "      <td>0.021594</td>\n",
       "      <td>0.002086</td>\n",
       "      <td>0.003325</td>\n",
       "      <td>0.000000</td>\n",
       "      <td>0.056086</td>\n",
       "      <td>0.324718</td>\n",
       "      <td>0.089634</td>\n",
       "    </tr>\n",
       "    <tr>\n",
       "      <th>Importances - 4</th>\n",
       "      <td>0.021385</td>\n",
       "      <td>0.020715</td>\n",
       "      <td>0.016728</td>\n",
       "      <td>0.015134</td>\n",
       "      <td>0.000000</td>\n",
       "      <td>0.000000</td>\n",
       "      <td>0.121037</td>\n",
       "      <td>0.000000</td>\n",
       "      <td>0.000000</td>\n",
       "      <td>0.027492</td>\n",
       "      <td>0.615836</td>\n",
       "      <td>0.161673</td>\n",
       "    </tr>\n",
       "  </tbody>\n",
       "</table>\n",
       "</div>"
      ],
      "text/plain": [
       "                      MgO       SO3  Loss on Ignition  Insoluble Residue  \\\n",
       "Importances - 0  0.014127  0.000000          0.073965           0.002279   \n",
       "Importances - 1  0.384200  0.009544          0.012006           0.184691   \n",
       "Importances - 2  0.000808  0.000735          0.025546           0.379376   \n",
       "Importances - 3  0.171812  0.000000          0.012820           0.150369   \n",
       "Importances - 4  0.021385  0.020715          0.016728           0.015134   \n",
       "\n",
       "                   Blaine      #200      #325  Initial setting time  \\\n",
       "Importances - 0  0.001973  0.001888  0.002094              0.000000   \n",
       "Importances - 1  0.001081  0.001668  0.003041              0.000000   \n",
       "Importances - 2  0.014789  0.001945  0.000000              0.005787   \n",
       "Importances - 3  0.167555  0.021594  0.002086              0.003325   \n",
       "Importances - 4  0.000000  0.000000  0.121037              0.000000   \n",
       "\n",
       "                 Final setting time       CS1       CS3       CS7  \n",
       "Importances - 0            0.000000  0.351170  0.543468  0.009036  \n",
       "Importances - 1            0.002684  0.004974  0.383143  0.012969  \n",
       "Importances - 2            0.005475  0.552345  0.000000  0.013194  \n",
       "Importances - 3            0.000000  0.056086  0.324718  0.089634  \n",
       "Importances - 4            0.000000  0.027492  0.615836  0.161673  "
      ]
     },
     "execution_count": 42,
     "metadata": {},
     "output_type": "execute_result"
    },
    {
     "data": {
      "application/javascript": [
       "\n",
       "            setTimeout(function() {\n",
       "                var nbb_cell_id = 42;\n",
       "                var nbb_unformatted_code = \"df_importances\";\n",
       "                var nbb_formatted_code = \"df_importances\";\n",
       "                var nbb_cells = Jupyter.notebook.get_cells();\n",
       "                for (var i = 0; i < nbb_cells.length; ++i) {\n",
       "                    if (nbb_cells[i].input_prompt_number == nbb_cell_id) {\n",
       "                        if (nbb_cells[i].get_text() == nbb_unformatted_code) {\n",
       "                             nbb_cells[i].set_text(nbb_formatted_code);\n",
       "                        }\n",
       "                        break;\n",
       "                    }\n",
       "                }\n",
       "            }, 500);\n",
       "            "
      ],
      "text/plain": [
       "<IPython.core.display.Javascript object>"
      ]
     },
     "metadata": {},
     "output_type": "display_data"
    }
   ],
   "source": [
    "df_importances"
   ]
  },
  {
   "cell_type": "code",
   "execution_count": 43,
   "id": "4044a526",
   "metadata": {},
   "outputs": [
    {
     "data": {
      "image/png": "[encoded data removed]",
      "text/plain": [
       "<Figure size 1000x550 with 1 Axes>"
      ]
     },
     "metadata": {},
     "output_type": "display_data"
    },
    {
     "data": {
      "application/javascript": [
       "\n",
       "            setTimeout(function() {\n",
       "                var nbb_cell_id = 43;\n",
       "                var nbb_unformatted_code = \"df_importances.mean(axis=0).sort_values().plot(\\n    kind=\\\"barh\\\", figsize=(10, 5.5), color=\\\"steelblue\\\"  # Consider using 'steelblue'\\n)\\nplt.title(\\\"Random Forest Variable Relevance\\\")\\nplt.xlabel(\\\"Variable Relevance (Mean Decrease in Impurity)\\\")\\nplt.grid(axis=\\\"x\\\", linestyle=\\\"--\\\", alpha=0.7)\\nplt.gca().spines[\\\"top\\\"].set_visible(False)\\nplt.gca().spines[\\\"right\\\"].set_visible(False)\\nplt.tight_layout()\\nplt.subplots_adjust(left=0.3)\\nplt.show()\";\n",
       "                var nbb_formatted_code = \"df_importances.mean(axis=0).sort_values().plot(\\n    kind=\\\"barh\\\", figsize=(10, 5.5), color=\\\"steelblue\\\"  # Consider using 'steelblue'\\n)\\nplt.title(\\\"Random Forest Variable Relevance\\\")\\nplt.xlabel(\\\"Variable Relevance (Mean Decrease in Impurity)\\\")\\nplt.grid(axis=\\\"x\\\", linestyle=\\\"--\\\", alpha=0.7)\\nplt.gca().spines[\\\"top\\\"].set_visible(False)\\nplt.gca().spines[\\\"right\\\"].set_visible(False)\\nplt.tight_layout()\\nplt.subplots_adjust(left=0.3)\\nplt.show()\";\n",
       "                var nbb_cells = Jupyter.notebook.get_cells();\n",
       "                for (var i = 0; i < nbb_cells.length; ++i) {\n",
       "                    if (nbb_cells[i].input_prompt_number == nbb_cell_id) {\n",
       "                        if (nbb_cells[i].get_text() == nbb_unformatted_code) {\n",
       "                             nbb_cells[i].set_text(nbb_formatted_code);\n",
       "                        }\n",
       "                        break;\n",
       "                    }\n",
       "                }\n",
       "            }, 500);\n",
       "            "
      ],
      "text/plain": [
       "<IPython.core.display.Javascript object>"
      ]
     },
     "metadata": {},
     "output_type": "display_data"
    }
   ],
   "source": [
    "df_importances.mean(axis=0).sort_values().plot(\n",
    "    kind=\"barh\", figsize=(10, 5.5), color=\"steelblue\"  # Consider using 'steelblue'\n",
    ")\n",
    "plt.title(\"Random Forest Variable Relevance\")\n",
    "plt.xlabel(\"Variable Relevance (Mean Decrease in Impurity)\")\n",
    "plt.grid(axis=\"x\", linestyle=\"--\", alpha=0.7)\n",
    "plt.gca().spines[\"top\"].set_visible(False)\n",
    "plt.gca().spines[\"right\"].set_visible(False)\n",
    "plt.tight_layout()\n",
    "plt.subplots_adjust(left=0.3)\n",
    "plt.show()"
   ]
  },
  {
   "cell_type": "code",
   "execution_count": 44,
   "id": "35341043",
   "metadata": {},
   "outputs": [
    {
     "data": {
      "image/png": "[encoded data removed]",
      "text/plain": [
       "<Figure size 1000x550 with 1 Axes>"
      ]
     },
     "metadata": {},
     "output_type": "display_data"
    },
    {
     "data": {
      "application/javascript": [
       "\n",
       "            setTimeout(function() {\n",
       "                var nbb_cell_id = 44;\n",
       "                var nbb_unformatted_code = \"# Calculate the means of the importance scores\\nmean_importances = df_importances.mean()\\n\\n# Sort the features by their mean relevance\\nsorted_features = mean_importances.sort_values()\\n\\n# Re-order the DataFrame according to the sorted features\\ndf_importances_sorted = df_importances[sorted_features.index]\\n\\n# Plot the sorted boxplot\\ndf_importances_sorted = df_importances_sorted.rename(\\n    columns={\\\"Loss on Ignition\\\": \\\"LOI\\\"}\\n)\\n\\n# Backup the original backend\\noriginal_backend = plt.get_backend()\\n\\n# Use Matplotlib's default backend\\n# plt.switch_backend(\\\"agg\\\")  # or any backend you prefer\\n\\n# Update font settings to default\\nplt.rcParams.update(\\n    {\\n        \\\"font.family\\\": \\\"sans-serif\\\",\\n        \\\"font.sans-serif\\\": [\\\"DejaVu Sans\\\"],\\n        \\\"font.size\\\": 10,\\n        \\\"text.usetex\\\": False,  # Use MathText, not LaTeX\\n    }\\n)\\n\\n\\n# Convert chemical formulas using MathText syntax\\ndf_importances_sorted_plot = df_importances_sorted.rename(\\n    columns={\\n        \\\"K2O\\\": r\\\"$\\\\mathrm{K_2O}$\\\",\\n        \\\"Free CaO\\\": r\\\"Free $\\\\mathrm{CaO}$\\\",\\n        \\\"Total C2S\\\": r\\\"Total $\\\\mathrm{C_2S}$\\\",\\n        \\\"Na2O\\\": r\\\"$\\\\mathrm{Na_2O}$\\\",\\n        \\\"CaO\\\": r\\\"$\\\\mathrm{CaO}$\\\",\\n        \\\"SiO2\\\": r\\\"$\\\\mathrm{SiO_2}$\\\",\\n        \\\"MgO\\\": r\\\"$\\\\mathrm{MgO}$\\\",\\n        \\\"Fe2O3\\\": r\\\"$\\\\mathrm{Fe_2O_3}$\\\",\\n        \\\"Al2O3\\\": r\\\"$\\\\mathrm{Al_2O_3}$\\\",\\n        \\\"Total C3S\\\": r\\\"Total $\\\\mathrm{C_3S}$\\\",\\n        \\\"C3A\\\": r\\\"$\\\\mathrm{C_3A}$\\\",\\n        \\\"C4AF\\\": r\\\"$\\\\mathrm{C_4AF}$\\\",\\n        \\\"LOI\\\": \\\"LOI\\\",\\n        \\\"SO3\\\": r\\\"$\\\\mathrm{SO_3}$\\\",\\n        \\\"Insoluble Residue\\\": \\\"IR\\\",\\n    }\\n)\\n\\nplt.figure(figsize=(10, 5.5))\\nsns.boxplot(\\n    data=df_importances_sorted_plot,\\n    orient=\\\"h\\\",\\n    color=\\\"lightsteelblue\\\",\\n    saturation=1,\\n    showmeans=True,\\n)\\nsns.despine(trim=True, left=False)\\nplt.xlabel(\\\"Relevance (MDI)\\\")\\nplt.title(\\\"Variable Relevance Distribution\\\")\\nplt.grid(axis=\\\"x\\\", linestyle=\\\"--\\\", alpha=0.7)\\nplt.subplots_adjust(left=0.3)\\nplt.savefig(\\n    \\\"ecics_206_b_local_cm_p_cs_btiss_top_dominant_dist_var_mdi_relevance.png\\\",\\n    dpi=300,\\n    bbox_inches=\\\"tight\\\",\\n)\\nplt.show()\\n\\n\\n# Step 3: Reset all rcParams to their default values\\nmatplotlib.rcParams.update(matplotlib.rcParamsDefault)\\nplt.rcdefaults()\\n\\n# Switch back to the original backend\\nplt.switch_backend(original_backend)\";\n",
       "                var nbb_formatted_code = \"# Calculate the means of the importance scores\\nmean_importances = df_importances.mean()\\n\\n# Sort the features by their mean relevance\\nsorted_features = mean_importances.sort_values()\\n\\n# Re-order the DataFrame according to the sorted features\\ndf_importances_sorted = df_importances[sorted_features.index]\\n\\n# Plot the sorted boxplot\\ndf_importances_sorted = df_importances_sorted.rename(\\n    columns={\\\"Loss on Ignition\\\": \\\"LOI\\\"}\\n)\\n\\n# Backup the original backend\\noriginal_backend = plt.get_backend()\\n\\n# Use Matplotlib's default backend\\n# plt.switch_backend(\\\"agg\\\")  # or any backend you prefer\\n\\n# Update font settings to default\\nplt.rcParams.update(\\n    {\\n        \\\"font.family\\\": \\\"sans-serif\\\",\\n        \\\"font.sans-serif\\\": [\\\"DejaVu Sans\\\"],\\n        \\\"font.size\\\": 10,\\n        \\\"text.usetex\\\": False,  # Use MathText, not LaTeX\\n    }\\n)\\n\\n\\n# Convert chemical formulas using MathText syntax\\ndf_importances_sorted_plot = df_importances_sorted.rename(\\n    columns={\\n        \\\"K2O\\\": r\\\"$\\\\mathrm{K_2O}$\\\",\\n        \\\"Free CaO\\\": r\\\"Free $\\\\mathrm{CaO}$\\\",\\n        \\\"Total C2S\\\": r\\\"Total $\\\\mathrm{C_2S}$\\\",\\n        \\\"Na2O\\\": r\\\"$\\\\mathrm{Na_2O}$\\\",\\n        \\\"CaO\\\": r\\\"$\\\\mathrm{CaO}$\\\",\\n        \\\"SiO2\\\": r\\\"$\\\\mathrm{SiO_2}$\\\",\\n        \\\"MgO\\\": r\\\"$\\\\mathrm{MgO}$\\\",\\n        \\\"Fe2O3\\\": r\\\"$\\\\mathrm{Fe_2O_3}$\\\",\\n        \\\"Al2O3\\\": r\\\"$\\\\mathrm{Al_2O_3}$\\\",\\n        \\\"Total C3S\\\": r\\\"Total $\\\\mathrm{C_3S}$\\\",\\n        \\\"C3A\\\": r\\\"$\\\\mathrm{C_3A}$\\\",\\n        \\\"C4AF\\\": r\\\"$\\\\mathrm{C_4AF}$\\\",\\n        \\\"LOI\\\": \\\"LOI\\\",\\n        \\\"SO3\\\": r\\\"$\\\\mathrm{SO_3}$\\\",\\n        \\\"Insoluble Residue\\\": \\\"IR\\\",\\n    }\\n)\\n\\nplt.figure(figsize=(10, 5.5))\\nsns.boxplot(\\n    data=df_importances_sorted_plot,\\n    orient=\\\"h\\\",\\n    color=\\\"lightsteelblue\\\",\\n    saturation=1,\\n    showmeans=True,\\n)\\nsns.despine(trim=True, left=False)\\nplt.xlabel(\\\"Relevance (MDI)\\\")\\nplt.title(\\\"Variable Relevance Distribution\\\")\\nplt.grid(axis=\\\"x\\\", linestyle=\\\"--\\\", alpha=0.7)\\nplt.subplots_adjust(left=0.3)\\nplt.savefig(\\n    \\\"ecics_206_b_local_cm_p_cs_btiss_top_dominant_dist_var_mdi_relevance.png\\\",\\n    dpi=300,\\n    bbox_inches=\\\"tight\\\",\\n)\\nplt.show()\\n\\n\\n# Step 3: Reset all rcParams to their default values\\nmatplotlib.rcParams.update(matplotlib.rcParamsDefault)\\nplt.rcdefaults()\\n\\n# Switch back to the original backend\\nplt.switch_backend(original_backend)\";\n",
       "                var nbb_cells = Jupyter.notebook.get_cells();\n",
       "                for (var i = 0; i < nbb_cells.length; ++i) {\n",
       "                    if (nbb_cells[i].input_prompt_number == nbb_cell_id) {\n",
       "                        if (nbb_cells[i].get_text() == nbb_unformatted_code) {\n",
       "                             nbb_cells[i].set_text(nbb_formatted_code);\n",
       "                        }\n",
       "                        break;\n",
       "                    }\n",
       "                }\n",
       "            }, 500);\n",
       "            "
      ],
      "text/plain": [
       "<IPython.core.display.Javascript object>"
      ]
     },
     "metadata": {},
     "output_type": "display_data"
    }
   ],
   "source": [
    "# Calculate the means of the importance scores\n",
    "mean_importances = df_importances.mean()\n",
    "\n",
    "# Sort the features by their mean relevance\n",
    "sorted_features = mean_importances.sort_values()\n",
    "\n",
    "# Re-order the DataFrame according to the sorted features\n",
    "df_importances_sorted = df_importances[sorted_features.index]\n",
    "\n",
    "# Plot the sorted boxplot\n",
    "df_importances_sorted = df_importances_sorted.rename(\n",
    "    columns={\"Loss on Ignition\": \"LOI\"}\n",
    ")\n",
    "\n",
    "# Backup the original backend\n",
    "original_backend = plt.get_backend()\n",
    "\n",
    "# Use Matplotlib's default backend\n",
    "# plt.switch_backend(\"agg\")  # or any backend you prefer\n",
    "\n",
    "# Update font settings to default\n",
    "plt.rcParams.update(\n",
    "    {\n",
    "        \"font.family\": \"sans-serif\",\n",
    "        \"font.sans-serif\": [\"DejaVu Sans\"],\n",
    "        \"font.size\": 10,\n",
    "        \"text.usetex\": False,  # Use MathText, not LaTeX\n",
    "    }\n",
    ")\n",
    "\n",
    "\n",
    "# Convert chemical formulas using MathText syntax\n",
    "df_importances_sorted_plot = df_importances_sorted.rename(\n",
    "    columns={\n",
    "        \"K2O\": r\"$\\mathrm{K_2O}$\",\n",
    "        \"Free CaO\": r\"Free $\\mathrm{CaO}$\",\n",
    "        \"Total C2S\": r\"Total $\\mathrm{C_2S}$\",\n",
    "        \"Na2O\": r\"$\\mathrm{Na_2O}$\",\n",
    "        \"CaO\": r\"$\\mathrm{CaO}$\",\n",
    "        \"SiO2\": r\"$\\mathrm{SiO_2}$\",\n",
    "        \"MgO\": r\"$\\mathrm{MgO}$\",\n",
    "        \"Fe2O3\": r\"$\\mathrm{Fe_2O_3}$\",\n",
    "        \"Al2O3\": r\"$\\mathrm{Al_2O_3}$\",\n",
    "        \"Total C3S\": r\"Total $\\mathrm{C_3S}$\",\n",
    "        \"C3A\": r\"$\\mathrm{C_3A}$\",\n",
    "        \"C4AF\": r\"$\\mathrm{C_4AF}$\",\n",
    "        \"LOI\": \"LOI\",\n",
    "        \"SO3\": r\"$\\mathrm{SO_3}$\",\n",
    "        \"Insoluble Residue\": \"IR\",\n",
    "    }\n",
    ")\n",
    "\n",
    "plt.figure(figsize=(10, 5.5))\n",
    "sns.boxplot(\n",
    "    data=df_importances_sorted_plot,\n",
    "    orient=\"h\",\n",
    "    color=\"lightsteelblue\",\n",
    "    saturation=1,\n",
    "    showmeans=True,\n",
    ")\n",
    "sns.despine(trim=True, left=False)\n",
    "plt.xlabel(\"Relevance (MDI)\")\n",
    "plt.title(\"Variable Relevance Distribution\")\n",
    "plt.grid(axis=\"x\", linestyle=\"--\", alpha=0.7)\n",
    "plt.subplots_adjust(left=0.3)\n",
    "plt.savefig(\n",
    "    \"ecics_206_b_local_cm_p_cs_btiss_top_dominant_dist_var_mdi_relevance.png\",\n",
    "    dpi=300,\n",
    "    bbox_inches=\"tight\",\n",
    ")\n",
    "plt.show()\n",
    "\n",
    "\n",
    "# Step 3: Reset all rcParams to their default values\n",
    "matplotlib.rcParams.update(matplotlib.rcParamsDefault)\n",
    "plt.rcdefaults()\n",
    "\n",
    "# Switch back to the original backend\n",
    "plt.switch_backend(original_backend)"
   ]
  },
  {
   "cell_type": "code",
   "execution_count": 45,
   "id": "dc00fbd1",
   "metadata": {},
   "outputs": [
    {
     "data": {
      "application/javascript": [
       "\n",
       "            setTimeout(function() {\n",
       "                var nbb_cell_id = 45;\n",
       "                var nbb_unformatted_code = \"# Initialize lists to store importance results\\nmdi_importances = []\\nperm_importances = []\\n\\n# Compute feature importances\\nfor i, (train_idx, test_idx) in enumerate(cv.split(x, y)):\\n    pipeline.fit(x.iloc[train_idx], y[train_idx])\\n\\n    # Extract the trained model\\n    model = pipeline.named_steps[\\\"estimator\\\"]\\n    imputer = pipeline.named_steps[\\\"imputer\\\"]\\n    # Compute MDI importance\\n    mdi_importances.append(model.feature_importances_)\\n\\n    # Compute permutation importance\\n    result = permutation_importance(\\n        model,\\n        imputer.transform(x.iloc[test_idx]),\\n        y[test_idx],\\n        n_repeats=10,\\n        random_state=SEED,\\n        n_jobs=-1,\\n        scoring=\\\"r2\\\",\\n    )\\n    perm_importances.append(result.importances_mean)\";\n",
       "                var nbb_formatted_code = \"# Initialize lists to store importance results\\nmdi_importances = []\\nperm_importances = []\\n\\n# Compute feature importances\\nfor i, (train_idx, test_idx) in enumerate(cv.split(x, y)):\\n    pipeline.fit(x.iloc[train_idx], y[train_idx])\\n\\n    # Extract the trained model\\n    model = pipeline.named_steps[\\\"estimator\\\"]\\n    imputer = pipeline.named_steps[\\\"imputer\\\"]\\n    # Compute MDI importance\\n    mdi_importances.append(model.feature_importances_)\\n\\n    # Compute permutation importance\\n    result = permutation_importance(\\n        model,\\n        imputer.transform(x.iloc[test_idx]),\\n        y[test_idx],\\n        n_repeats=10,\\n        random_state=SEED,\\n        n_jobs=-1,\\n        scoring=\\\"r2\\\",\\n    )\\n    perm_importances.append(result.importances_mean)\";\n",
       "                var nbb_cells = Jupyter.notebook.get_cells();\n",
       "                for (var i = 0; i < nbb_cells.length; ++i) {\n",
       "                    if (nbb_cells[i].input_prompt_number == nbb_cell_id) {\n",
       "                        if (nbb_cells[i].get_text() == nbb_unformatted_code) {\n",
       "                             nbb_cells[i].set_text(nbb_formatted_code);\n",
       "                        }\n",
       "                        break;\n",
       "                    }\n",
       "                }\n",
       "            }, 500);\n",
       "            "
      ],
      "text/plain": [
       "<IPython.core.display.Javascript object>"
      ]
     },
     "metadata": {},
     "output_type": "display_data"
    }
   ],
   "source": [
    "# Initialize lists to store importance results\n",
    "mdi_importances = []\n",
    "perm_importances = []\n",
    "\n",
    "# Compute feature importances\n",
    "for i, (train_idx, test_idx) in enumerate(cv.split(x, y)):\n",
    "    pipeline.fit(x.iloc[train_idx], y[train_idx])\n",
    "\n",
    "    # Extract the trained model\n",
    "    model = pipeline.named_steps[\"estimator\"]\n",
    "    imputer = pipeline.named_steps[\"imputer\"]\n",
    "    # Compute MDI importance\n",
    "    mdi_importances.append(model.feature_importances_)\n",
    "\n",
    "    # Compute permutation importance\n",
    "    result = permutation_importance(\n",
    "        model,\n",
    "        imputer.transform(x.iloc[test_idx]),\n",
    "        y[test_idx],\n",
    "        n_repeats=10,\n",
    "        random_state=SEED,\n",
    "        n_jobs=-1,\n",
    "        scoring=\"r2\",\n",
    "    )\n",
    "    perm_importances.append(result.importances_mean)"
   ]
  },
  {
   "cell_type": "code",
   "execution_count": 46,
   "id": "d57d2c62",
   "metadata": {},
   "outputs": [
    {
     "data": {
      "image/png": "[encoded data removed]",
      "text/plain": [
       "<Figure size 1000x550 with 1 Axes>"
      ]
     },
     "metadata": {},
     "output_type": "display_data"
    },
    {
     "data": {
      "application/javascript": [
       "\n",
       "            setTimeout(function() {\n",
       "                var nbb_cell_id = 46;\n",
       "                var nbb_unformatted_code = \"# Convert lists to DataFrames\\nmdi_importances_df = pd.DataFrame(mdi_importances, columns=x.columns)\\nperm_importances_df = pd.DataFrame(perm_importances, columns=x.columns)\\n\\n\\n# Calculate the mean importance for each feature\\nmean_importances = perm_importances_df.mean().sort_values()\\n\\n# Reorder the DataFrame columns based on mean importance\\nperm_importances_df = perm_importances_df[mean_importances.index]\\n\\nperm_importances_df = perm_importances_df.rename(columns={\\\"Loss on Ignition\\\": \\\"LOI\\\"})\\n\\n# Backup the original backend\\noriginal_backend = plt.get_backend()\\n\\n# Use Matplotlib's default backend\\n# plt.switch_backend(\\\"agg\\\")  # or any backend you prefer\\n\\n# Update font settings to default\\nplt.rcParams.update(\\n    {\\n        \\\"font.family\\\": \\\"sans-serif\\\",\\n        \\\"font.sans-serif\\\": [\\\"DejaVu Sans\\\"],\\n        \\\"font.size\\\": 10,\\n        \\\"text.usetex\\\": False,  # Use MathText, not LaTeX\\n    }\\n)\\n\\n\\n# Convert chemical formulas using MathText syntax\\nperm_importances_df_plot = perm_importances_df.rename(\\n    columns={\\n        \\\"K2O\\\": r\\\"$\\\\mathrm{K_2O}$\\\",\\n        \\\"Free CaO\\\": r\\\"Free $\\\\mathrm{CaO}$\\\",\\n        \\\"Total C2S\\\": r\\\"Total $\\\\mathrm{C_2S}$\\\",\\n        \\\"Na2O\\\": r\\\"$\\\\mathrm{Na_2O}$\\\",\\n        \\\"CaO\\\": r\\\"$\\\\mathrm{CaO}$\\\",\\n        \\\"SiO2\\\": r\\\"$\\\\mathrm{SiO_2}$\\\",\\n        \\\"MgO\\\": r\\\"$\\\\mathrm{MgO}$\\\",\\n        \\\"Fe2O3\\\": r\\\"$\\\\mathrm{Fe_2O_3}$\\\",\\n        \\\"Al2O3\\\": r\\\"$\\\\mathrm{Al_2O_3}$\\\",\\n        \\\"Total C3S\\\": r\\\"Total $\\\\mathrm{C_3S}$\\\",\\n        \\\"C3A\\\": r\\\"$\\\\mathrm{C_3A}$\\\",\\n        \\\"C4AF\\\": r\\\"$\\\\mathrm{C_4AF}$\\\",\\n        \\\"LOI\\\": \\\"LOI\\\",\\n        \\\"SO3\\\": r\\\"$\\\\mathrm{SO_3}$\\\",\\n        \\\"Insoluble Residue\\\": \\\"IR\\\",\\n    }\\n)\\n\\nplt.figure(figsize=(10, 5.5))\\nsns.boxplot(\\n    data=perm_importances_df_plot,\\n    orient=\\\"h\\\",\\n    color=\\\"lightsteelblue\\\",\\n    saturation=1,\\n    showmeans=True,\\n)\\nsns.despine(trim=True, left=False)\\nplt.xlabel(\\\"Relevance (Permutation)\\\")\\nplt.title(\\\"Variable Relevance Distribution\\\")\\nplt.grid(axis=\\\"x\\\", linestyle=\\\"--\\\", alpha=0.7)\\nplt.subplots_adjust(left=0.3)\\nplt.savefig(\\n    \\\"ecics_cm_btiss_random_forest_scpm_best_dist_var_perm_relevance.png\\\",\\n    dpi=300,\\n    bbox_inches=\\\"tight\\\",\\n)\\nplt.show()\\n\\n\\n# Step 3: Reset all rcParams to their default values\\nmatplotlib.rcParams.update(matplotlib.rcParamsDefault)\\nplt.rcdefaults()\\n\\n# Switch back to the original backend\\nplt.switch_backend(original_backend)\";\n",
       "                var nbb_formatted_code = \"# Convert lists to DataFrames\\nmdi_importances_df = pd.DataFrame(mdi_importances, columns=x.columns)\\nperm_importances_df = pd.DataFrame(perm_importances, columns=x.columns)\\n\\n\\n# Calculate the mean importance for each feature\\nmean_importances = perm_importances_df.mean().sort_values()\\n\\n# Reorder the DataFrame columns based on mean importance\\nperm_importances_df = perm_importances_df[mean_importances.index]\\n\\nperm_importances_df = perm_importances_df.rename(columns={\\\"Loss on Ignition\\\": \\\"LOI\\\"})\\n\\n# Backup the original backend\\noriginal_backend = plt.get_backend()\\n\\n# Use Matplotlib's default backend\\n# plt.switch_backend(\\\"agg\\\")  # or any backend you prefer\\n\\n# Update font settings to default\\nplt.rcParams.update(\\n    {\\n        \\\"font.family\\\": \\\"sans-serif\\\",\\n        \\\"font.sans-serif\\\": [\\\"DejaVu Sans\\\"],\\n        \\\"font.size\\\": 10,\\n        \\\"text.usetex\\\": False,  # Use MathText, not LaTeX\\n    }\\n)\\n\\n\\n# Convert chemical formulas using MathText syntax\\nperm_importances_df_plot = perm_importances_df.rename(\\n    columns={\\n        \\\"K2O\\\": r\\\"$\\\\mathrm{K_2O}$\\\",\\n        \\\"Free CaO\\\": r\\\"Free $\\\\mathrm{CaO}$\\\",\\n        \\\"Total C2S\\\": r\\\"Total $\\\\mathrm{C_2S}$\\\",\\n        \\\"Na2O\\\": r\\\"$\\\\mathrm{Na_2O}$\\\",\\n        \\\"CaO\\\": r\\\"$\\\\mathrm{CaO}$\\\",\\n        \\\"SiO2\\\": r\\\"$\\\\mathrm{SiO_2}$\\\",\\n        \\\"MgO\\\": r\\\"$\\\\mathrm{MgO}$\\\",\\n        \\\"Fe2O3\\\": r\\\"$\\\\mathrm{Fe_2O_3}$\\\",\\n        \\\"Al2O3\\\": r\\\"$\\\\mathrm{Al_2O_3}$\\\",\\n        \\\"Total C3S\\\": r\\\"Total $\\\\mathrm{C_3S}$\\\",\\n        \\\"C3A\\\": r\\\"$\\\\mathrm{C_3A}$\\\",\\n        \\\"C4AF\\\": r\\\"$\\\\mathrm{C_4AF}$\\\",\\n        \\\"LOI\\\": \\\"LOI\\\",\\n        \\\"SO3\\\": r\\\"$\\\\mathrm{SO_3}$\\\",\\n        \\\"Insoluble Residue\\\": \\\"IR\\\",\\n    }\\n)\\n\\nplt.figure(figsize=(10, 5.5))\\nsns.boxplot(\\n    data=perm_importances_df_plot,\\n    orient=\\\"h\\\",\\n    color=\\\"lightsteelblue\\\",\\n    saturation=1,\\n    showmeans=True,\\n)\\nsns.despine(trim=True, left=False)\\nplt.xlabel(\\\"Relevance (Permutation)\\\")\\nplt.title(\\\"Variable Relevance Distribution\\\")\\nplt.grid(axis=\\\"x\\\", linestyle=\\\"--\\\", alpha=0.7)\\nplt.subplots_adjust(left=0.3)\\nplt.savefig(\\n    \\\"ecics_cm_btiss_random_forest_scpm_best_dist_var_perm_relevance.png\\\",\\n    dpi=300,\\n    bbox_inches=\\\"tight\\\",\\n)\\nplt.show()\\n\\n\\n# Step 3: Reset all rcParams to their default values\\nmatplotlib.rcParams.update(matplotlib.rcParamsDefault)\\nplt.rcdefaults()\\n\\n# Switch back to the original backend\\nplt.switch_backend(original_backend)\";\n",
       "                var nbb_cells = Jupyter.notebook.get_cells();\n",
       "                for (var i = 0; i < nbb_cells.length; ++i) {\n",
       "                    if (nbb_cells[i].input_prompt_number == nbb_cell_id) {\n",
       "                        if (nbb_cells[i].get_text() == nbb_unformatted_code) {\n",
       "                             nbb_cells[i].set_text(nbb_formatted_code);\n",
       "                        }\n",
       "                        break;\n",
       "                    }\n",
       "                }\n",
       "            }, 500);\n",
       "            "
      ],
      "text/plain": [
       "<IPython.core.display.Javascript object>"
      ]
     },
     "metadata": {},
     "output_type": "display_data"
    }
   ],
   "source": [
    "# Convert lists to DataFrames\n",
    "mdi_importances_df = pd.DataFrame(mdi_importances, columns=x.columns)\n",
    "perm_importances_df = pd.DataFrame(perm_importances, columns=x.columns)\n",
    "\n",
    "\n",
    "# Calculate the mean importance for each feature\n",
    "mean_importances = perm_importances_df.mean().sort_values()\n",
    "\n",
    "# Reorder the DataFrame columns based on mean importance\n",
    "perm_importances_df = perm_importances_df[mean_importances.index]\n",
    "\n",
    "perm_importances_df = perm_importances_df.rename(columns={\"Loss on Ignition\": \"LOI\"})\n",
    "\n",
    "# Backup the original backend\n",
    "original_backend = plt.get_backend()\n",
    "\n",
    "# Use Matplotlib's default backend\n",
    "# plt.switch_backend(\"agg\")  # or any backend you prefer\n",
    "\n",
    "# Update font settings to default\n",
    "plt.rcParams.update(\n",
    "    {\n",
    "        \"font.family\": \"sans-serif\",\n",
    "        \"font.sans-serif\": [\"DejaVu Sans\"],\n",
    "        \"font.size\": 10,\n",
    "        \"text.usetex\": False,  # Use MathText, not LaTeX\n",
    "    }\n",
    ")\n",
    "\n",
    "\n",
    "# Convert chemical formulas using MathText syntax\n",
    "perm_importances_df_plot = perm_importances_df.rename(\n",
    "    columns={\n",
    "        \"K2O\": r\"$\\mathrm{K_2O}$\",\n",
    "        \"Free CaO\": r\"Free $\\mathrm{CaO}$\",\n",
    "        \"Total C2S\": r\"Total $\\mathrm{C_2S}$\",\n",
    "        \"Na2O\": r\"$\\mathrm{Na_2O}$\",\n",
    "        \"CaO\": r\"$\\mathrm{CaO}$\",\n",
    "        \"SiO2\": r\"$\\mathrm{SiO_2}$\",\n",
    "        \"MgO\": r\"$\\mathrm{MgO}$\",\n",
    "        \"Fe2O3\": r\"$\\mathrm{Fe_2O_3}$\",\n",
    "        \"Al2O3\": r\"$\\mathrm{Al_2O_3}$\",\n",
    "        \"Total C3S\": r\"Total $\\mathrm{C_3S}$\",\n",
    "        \"C3A\": r\"$\\mathrm{C_3A}$\",\n",
    "        \"C4AF\": r\"$\\mathrm{C_4AF}$\",\n",
    "        \"LOI\": \"LOI\",\n",
    "        \"SO3\": r\"$\\mathrm{SO_3}$\",\n",
    "        \"Insoluble Residue\": \"IR\",\n",
    "    }\n",
    ")\n",
    "\n",
    "plt.figure(figsize=(10, 5.5))\n",
    "sns.boxplot(\n",
    "    data=perm_importances_df_plot,\n",
    "    orient=\"h\",\n",
    "    color=\"lightsteelblue\",\n",
    "    saturation=1,\n",
    "    showmeans=True,\n",
    ")\n",
    "sns.despine(trim=True, left=False)\n",
    "plt.xlabel(\"Relevance (Permutation)\")\n",
    "plt.title(\"Variable Relevance Distribution\")\n",
    "plt.grid(axis=\"x\", linestyle=\"--\", alpha=0.7)\n",
    "plt.subplots_adjust(left=0.3)\n",
    "plt.savefig(\n",
    "    \"ecics_cm_btiss_random_forest_scpm_best_dist_var_perm_relevance.png\",\n",
    "    dpi=300,\n",
    "    bbox_inches=\"tight\",\n",
    ")\n",
    "plt.show()\n",
    "\n",
    "\n",
    "# Step 3: Reset all rcParams to their default values\n",
    "matplotlib.rcParams.update(matplotlib.rcParamsDefault)\n",
    "plt.rcdefaults()\n",
    "\n",
    "# Switch back to the original backend\n",
    "plt.switch_backend(original_backend)"
   ]
  },
  {
   "cell_type": "code",
   "execution_count": null,
   "id": "d5367926",
   "metadata": {},
   "outputs": [],
   "source": []
  }
 ],
 "metadata": {
  "kernelspec": {
   "display_name": "ccs28-venv",
   "language": "python",
   "name": "ccs28-venv"
  },
  "language_info": {
   "codemirror_mode": {
    "name": "ipython",
    "version": 3
   },
   "file_extension": ".py",
   "mimetype": "text/x-python",
   "name": "python",
   "nbconvert_exporter": "python",
   "pygments_lexer": "ipython3",
   "version": "3.10.12"
  }
 },
 "nbformat": 4,
 "nbformat_minor": 5
}
