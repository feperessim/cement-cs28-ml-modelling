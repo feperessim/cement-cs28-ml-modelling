{
 "cells": [
  {
   "cell_type": "code",
   "execution_count": 1,
   "id": "14b4fe5a",
   "metadata": {},
   "outputs": [
    {
     "data": {
      "application/javascript": [
       "\n",
       "            setTimeout(function() {\n",
       "                var nbb_cell_id = 1;\n",
       "                var nbb_unformatted_code = \"%load_ext nb_black\";\n",
       "                var nbb_formatted_code = \"%load_ext nb_black\";\n",
       "                var nbb_cells = Jupyter.notebook.get_cells();\n",
       "                for (var i = 0; i < nbb_cells.length; ++i) {\n",
       "                    if (nbb_cells[i].input_prompt_number == nbb_cell_id) {\n",
       "                        if (nbb_cells[i].get_text() == nbb_unformatted_code) {\n",
       "                             nbb_cells[i].set_text(nbb_formatted_code);\n",
       "                        }\n",
       "                        break;\n",
       "                    }\n",
       "                }\n",
       "            }, 500);\n",
       "            "
      ],
      "text/plain": [
       "<IPython.core.display.Javascript object>"
      ]
     },
     "metadata": {},
     "output_type": "display_data"
    }
   ],
   "source": [
    "%load_ext nb_black"
   ]
  },
  {
   "cell_type": "code",
   "execution_count": 2,
   "id": "6a4d72e6",
   "metadata": {},
   "outputs": [
    {
     "data": {
      "application/javascript": [
       "\n",
       "            setTimeout(function() {\n",
       "                var nbb_cell_id = 2;\n",
       "                var nbb_unformatted_code = \"import os\\nimport glob\\nfrom collections import deque, defaultdict\\nimport pandas as pd\\nimport numpy as np\";\n",
       "                var nbb_formatted_code = \"import os\\nimport glob\\nfrom collections import deque, defaultdict\\nimport pandas as pd\\nimport numpy as np\";\n",
       "                var nbb_cells = Jupyter.notebook.get_cells();\n",
       "                for (var i = 0; i < nbb_cells.length; ++i) {\n",
       "                    if (nbb_cells[i].input_prompt_number == nbb_cell_id) {\n",
       "                        if (nbb_cells[i].get_text() == nbb_unformatted_code) {\n",
       "                             nbb_cells[i].set_text(nbb_formatted_code);\n",
       "                        }\n",
       "                        break;\n",
       "                    }\n",
       "                }\n",
       "            }, 500);\n",
       "            "
      ],
      "text/plain": [
       "<IPython.core.display.Javascript object>"
      ]
     },
     "metadata": {},
     "output_type": "display_data"
    }
   ],
   "source": [
    "import os\n",
    "import glob\n",
    "from collections import deque, defaultdict\n",
    "import pandas as pd\n",
    "import numpy as np"
   ]
  },
  {
   "cell_type": "code",
   "execution_count": 3,
   "id": "266bcc91",
   "metadata": {},
   "outputs": [
    {
     "data": {
      "application/javascript": [
       "\n",
       "            setTimeout(function() {\n",
       "                var nbb_cell_id = 3;\n",
       "                var nbb_unformatted_code = \"import warnings\\n\\n# Suppress specific FutureWarning\\nwarnings.filterwarnings(\\\"ignore\\\", category=FutureWarning, module=\\\"seaborn._oldcore\\\")\";\n",
       "                var nbb_formatted_code = \"import warnings\\n\\n# Suppress specific FutureWarning\\nwarnings.filterwarnings(\\\"ignore\\\", category=FutureWarning, module=\\\"seaborn._oldcore\\\")\";\n",
       "                var nbb_cells = Jupyter.notebook.get_cells();\n",
       "                for (var i = 0; i < nbb_cells.length; ++i) {\n",
       "                    if (nbb_cells[i].input_prompt_number == nbb_cell_id) {\n",
       "                        if (nbb_cells[i].get_text() == nbb_unformatted_code) {\n",
       "                             nbb_cells[i].set_text(nbb_formatted_code);\n",
       "                        }\n",
       "                        break;\n",
       "                    }\n",
       "                }\n",
       "            }, 500);\n",
       "            "
      ],
      "text/plain": [
       "<IPython.core.display.Javascript object>"
      ]
     },
     "metadata": {},
     "output_type": "display_data"
    }
   ],
   "source": [
    "import warnings\n",
    "\n",
    "# Suppress specific FutureWarning\n",
    "warnings.filterwarnings(\"ignore\", category=FutureWarning, module=\"seaborn._oldcore\")\n"
   ]
  },
  {
   "cell_type": "code",
   "execution_count": 4,
   "id": "beacfb8e",
   "metadata": {},
   "outputs": [
    {
     "data": {
      "application/javascript": [
       "\n",
       "            setTimeout(function() {\n",
       "                var nbb_cell_id = 4;\n",
       "                var nbb_unformatted_code = \"import matplotlib.pyplot as plt\\nimport seaborn as sns\";\n",
       "                var nbb_formatted_code = \"import matplotlib.pyplot as plt\\nimport seaborn as sns\";\n",
       "                var nbb_cells = Jupyter.notebook.get_cells();\n",
       "                for (var i = 0; i < nbb_cells.length; ++i) {\n",
       "                    if (nbb_cells[i].input_prompt_number == nbb_cell_id) {\n",
       "                        if (nbb_cells[i].get_text() == nbb_unformatted_code) {\n",
       "                             nbb_cells[i].set_text(nbb_formatted_code);\n",
       "                        }\n",
       "                        break;\n",
       "                    }\n",
       "                }\n",
       "            }, 500);\n",
       "            "
      ],
      "text/plain": [
       "<IPython.core.display.Javascript object>"
      ]
     },
     "metadata": {},
     "output_type": "display_data"
    }
   ],
   "source": [
    "import matplotlib.pyplot as plt\n",
    "import seaborn as sns"
   ]
  },
  {
   "cell_type": "code",
   "execution_count": 5,
   "id": "b478134e",
   "metadata": {},
   "outputs": [
    {
     "data": {
      "application/javascript": [
       "\n",
       "            setTimeout(function() {\n",
       "                var nbb_cell_id = 5;\n",
       "                var nbb_unformatted_code = \"from sklearn.preprocessing import StandardScaler\";\n",
       "                var nbb_formatted_code = \"from sklearn.preprocessing import StandardScaler\";\n",
       "                var nbb_cells = Jupyter.notebook.get_cells();\n",
       "                for (var i = 0; i < nbb_cells.length; ++i) {\n",
       "                    if (nbb_cells[i].input_prompt_number == nbb_cell_id) {\n",
       "                        if (nbb_cells[i].get_text() == nbb_unformatted_code) {\n",
       "                             nbb_cells[i].set_text(nbb_formatted_code);\n",
       "                        }\n",
       "                        break;\n",
       "                    }\n",
       "                }\n",
       "            }, 500);\n",
       "            "
      ],
      "text/plain": [
       "<IPython.core.display.Javascript object>"
      ]
     },
     "metadata": {},
     "output_type": "display_data"
    }
   ],
   "source": [
    "from sklearn.preprocessing import StandardScaler"
   ]
  },
  {
   "cell_type": "code",
   "execution_count": 6,
   "id": "761bc49d",
   "metadata": {},
   "outputs": [
    {
     "data": {
      "application/javascript": [
       "\n",
       "            setTimeout(function() {\n",
       "                var nbb_cell_id = 6;\n",
       "                var nbb_unformatted_code = \"def read_csv_files_grouped(csv_files, plant, header=[0, 1]):\\n    results = []\\n    for filepath in csv_files:\\n        df = pd.read_csv(filepath, header=header, low_memory=False)\\n        df[\\\"plant\\\"] = plant  # Add the 'plant' column\\n        results.append(df)\\n    df = pd.concat(results, ignore_index=True)\\n    return df\";\n",
       "                var nbb_formatted_code = \"def read_csv_files_grouped(csv_files, plant, header=[0, 1]):\\n    results = []\\n    for filepath in csv_files:\\n        df = pd.read_csv(filepath, header=header, low_memory=False)\\n        df[\\\"plant\\\"] = plant  # Add the 'plant' column\\n        results.append(df)\\n    df = pd.concat(results, ignore_index=True)\\n    return df\";\n",
       "                var nbb_cells = Jupyter.notebook.get_cells();\n",
       "                for (var i = 0; i < nbb_cells.length; ++i) {\n",
       "                    if (nbb_cells[i].input_prompt_number == nbb_cell_id) {\n",
       "                        if (nbb_cells[i].get_text() == nbb_unformatted_code) {\n",
       "                             nbb_cells[i].set_text(nbb_formatted_code);\n",
       "                        }\n",
       "                        break;\n",
       "                    }\n",
       "                }\n",
       "            }, 500);\n",
       "            "
      ],
      "text/plain": [
       "<IPython.core.display.Javascript object>"
      ]
     },
     "metadata": {},
     "output_type": "display_data"
    }
   ],
   "source": [
    "def read_csv_files_grouped(csv_files, plant, header=[0, 1]):\n",
    "    results = []\n",
    "    for filepath in csv_files:\n",
    "        df = pd.read_csv(filepath, header=header, low_memory=False)\n",
    "        df[\"plant\"] = plant  # Add the 'plant' column\n",
    "        results.append(df)\n",
    "    df = pd.concat(results, ignore_index=True)\n",
    "    return df"
   ]
  },
  {
   "cell_type": "code",
   "execution_count": 7,
   "id": "96025481",
   "metadata": {},
   "outputs": [
    {
     "data": {
      "application/javascript": [
       "\n",
       "            setTimeout(function() {\n",
       "                var nbb_cell_id = 7;\n",
       "                var nbb_unformatted_code = \"def read_csv_files_full(csv_files, plant):\\n    results = []\\n    for filepath in csv_files:\\n        df = pd.read_csv(filepath, low_memory=False)\\n        df[\\\"plant\\\"] = plant  # Add the 'plant' column\\n        results.append(df)\\n    df = pd.concat(results, ignore_index=True)\\n    return df\";\n",
       "                var nbb_formatted_code = \"def read_csv_files_full(csv_files, plant):\\n    results = []\\n    for filepath in csv_files:\\n        df = pd.read_csv(filepath, low_memory=False)\\n        df[\\\"plant\\\"] = plant  # Add the 'plant' column\\n        results.append(df)\\n    df = pd.concat(results, ignore_index=True)\\n    return df\";\n",
       "                var nbb_cells = Jupyter.notebook.get_cells();\n",
       "                for (var i = 0; i < nbb_cells.length; ++i) {\n",
       "                    if (nbb_cells[i].input_prompt_number == nbb_cell_id) {\n",
       "                        if (nbb_cells[i].get_text() == nbb_unformatted_code) {\n",
       "                             nbb_cells[i].set_text(nbb_formatted_code);\n",
       "                        }\n",
       "                        break;\n",
       "                    }\n",
       "                }\n",
       "            }, 500);\n",
       "            "
      ],
      "text/plain": [
       "<IPython.core.display.Javascript object>"
      ]
     },
     "metadata": {},
     "output_type": "display_data"
    }
   ],
   "source": [
    "def read_csv_files_full(csv_files, plant):\n",
    "    results = []\n",
    "    for filepath in csv_files:\n",
    "        df = pd.read_csv(filepath, low_memory=False)\n",
    "        df[\"plant\"] = plant  # Add the 'plant' column\n",
    "        results.append(df)\n",
    "    df = pd.concat(results, ignore_index=True)\n",
    "    return df"
   ]
  },
  {
   "cell_type": "markdown",
   "id": "1ce03b12",
   "metadata": {},
   "source": [
    "### Renaming the Columns"
   ]
  },
  {
   "cell_type": "code",
   "execution_count": 8,
   "id": "eea580dc",
   "metadata": {},
   "outputs": [
    {
     "data": {
      "application/javascript": [
       "\n",
       "            setTimeout(function() {\n",
       "                var nbb_cell_id = 8;\n",
       "                var nbb_unformatted_code = \"def preprocess_rename_columns(df):\\n    df.columns = pd.MultiIndex.from_tuples(\\n        list(\\n            {\\n                col: (col[0], \\\"\\\") if \\\"Unnamed\\\" in col[1] else col for col in df.columns\\n            }.values()\\n        )\\n    )\\n    return df\";\n",
       "                var nbb_formatted_code = \"def preprocess_rename_columns(df):\\n    df.columns = pd.MultiIndex.from_tuples(\\n        list(\\n            {\\n                col: (col[0], \\\"\\\") if \\\"Unnamed\\\" in col[1] else col for col in df.columns\\n            }.values()\\n        )\\n    )\\n    return df\";\n",
       "                var nbb_cells = Jupyter.notebook.get_cells();\n",
       "                for (var i = 0; i < nbb_cells.length; ++i) {\n",
       "                    if (nbb_cells[i].input_prompt_number == nbb_cell_id) {\n",
       "                        if (nbb_cells[i].get_text() == nbb_unformatted_code) {\n",
       "                             nbb_cells[i].set_text(nbb_formatted_code);\n",
       "                        }\n",
       "                        break;\n",
       "                    }\n",
       "                }\n",
       "            }, 500);\n",
       "            "
      ],
      "text/plain": [
       "<IPython.core.display.Javascript object>"
      ]
     },
     "metadata": {},
     "output_type": "display_data"
    }
   ],
   "source": [
    "def preprocess_rename_columns(df):\n",
    "    df.columns = pd.MultiIndex.from_tuples(\n",
    "        list(\n",
    "            {\n",
    "                col: (col[0], \"\") if \"Unnamed\" in col[1] else col for col in df.columns\n",
    "            }.values()\n",
    "        )\n",
    "    )\n",
    "    return df"
   ]
  },
  {
   "cell_type": "markdown",
   "id": "593dadae",
   "metadata": {},
   "source": [
    "### Changing the order_of columns Columns"
   ]
  },
  {
   "cell_type": "code",
   "execution_count": 9,
   "id": "c84b6255",
   "metadata": {},
   "outputs": [
    {
     "data": {
      "application/javascript": [
       "\n",
       "            setTimeout(function() {\n",
       "                var nbb_cell_id = 9;\n",
       "                var nbb_unformatted_code = \"def preprocess_change_columns_order(df, column, pos):\\n    # Get the list of columns\\n    cols = df.columns.tolist()\\n    # Remove the specified column\\n    cols.remove(column)\\n    # Insert the column at the desired position\\n    cols.insert(pos, column)\\n    # Reorder the DataFrame columns\\n    return df[cols]\";\n",
       "                var nbb_formatted_code = \"def preprocess_change_columns_order(df, column, pos):\\n    # Get the list of columns\\n    cols = df.columns.tolist()\\n    # Remove the specified column\\n    cols.remove(column)\\n    # Insert the column at the desired position\\n    cols.insert(pos, column)\\n    # Reorder the DataFrame columns\\n    return df[cols]\";\n",
       "                var nbb_cells = Jupyter.notebook.get_cells();\n",
       "                for (var i = 0; i < nbb_cells.length; ++i) {\n",
       "                    if (nbb_cells[i].input_prompt_number == nbb_cell_id) {\n",
       "                        if (nbb_cells[i].get_text() == nbb_unformatted_code) {\n",
       "                             nbb_cells[i].set_text(nbb_formatted_code);\n",
       "                        }\n",
       "                        break;\n",
       "                    }\n",
       "                }\n",
       "            }, 500);\n",
       "            "
      ],
      "text/plain": [
       "<IPython.core.display.Javascript object>"
      ]
     },
     "metadata": {},
     "output_type": "display_data"
    }
   ],
   "source": [
    "def preprocess_change_columns_order(df, column, pos):\n",
    "    # Get the list of columns\n",
    "    cols = df.columns.tolist()\n",
    "    # Remove the specified column\n",
    "    cols.remove(column)\n",
    "    # Insert the column at the desired position\n",
    "    cols.insert(pos, column)\n",
    "    # Reorder the DataFrame columns\n",
    "    return df[cols]"
   ]
  },
  {
   "cell_type": "code",
   "execution_count": 10,
   "id": "7b00a8ec",
   "metadata": {},
   "outputs": [
    {
     "data": {
      "application/javascript": [
       "\n",
       "            setTimeout(function() {\n",
       "                var nbb_cell_id = 10;\n",
       "                var nbb_unformatted_code = \"def read_csv_files_path(csv_files_path_dict, path, plant):\\n    csv_files = glob.glob(os.path.join(path, \\\"*.csv\\\"))\\n    csv_files_path_dict[plant] = csv_files\\n    return csv_files_path_dict\";\n",
       "                var nbb_formatted_code = \"def read_csv_files_path(csv_files_path_dict, path, plant):\\n    csv_files = glob.glob(os.path.join(path, \\\"*.csv\\\"))\\n    csv_files_path_dict[plant] = csv_files\\n    return csv_files_path_dict\";\n",
       "                var nbb_cells = Jupyter.notebook.get_cells();\n",
       "                for (var i = 0; i < nbb_cells.length; ++i) {\n",
       "                    if (nbb_cells[i].input_prompt_number == nbb_cell_id) {\n",
       "                        if (nbb_cells[i].get_text() == nbb_unformatted_code) {\n",
       "                             nbb_cells[i].set_text(nbb_formatted_code);\n",
       "                        }\n",
       "                        break;\n",
       "                    }\n",
       "                }\n",
       "            }, 500);\n",
       "            "
      ],
      "text/plain": [
       "<IPython.core.display.Javascript object>"
      ]
     },
     "metadata": {},
     "output_type": "display_data"
    }
   ],
   "source": [
    "def read_csv_files_path(csv_files_path_dict, path, plant):\n",
    "    csv_files = glob.glob(os.path.join(path, \"*.csv\"))\n",
    "    csv_files_path_dict[plant] = csv_files\n",
    "    return csv_files_path_dict"
   ]
  },
  {
   "cell_type": "markdown",
   "id": "1c598ecf",
   "metadata": {},
   "source": [
    "# Reading The files"
   ]
  },
  {
   "cell_type": "code",
   "execution_count": 11,
   "id": "20f486cb",
   "metadata": {},
   "outputs": [
    {
     "data": {
      "application/javascript": [
       "\n",
       "            setTimeout(function() {\n",
       "                var nbb_cell_id = 11;\n",
       "                var nbb_unformatted_code = \"csv_files_path_grouped = dict()\\ncsv_files_path_full = dict()\";\n",
       "                var nbb_formatted_code = \"csv_files_path_grouped = dict()\\ncsv_files_path_full = dict()\";\n",
       "                var nbb_cells = Jupyter.notebook.get_cells();\n",
       "                for (var i = 0; i < nbb_cells.length; ++i) {\n",
       "                    if (nbb_cells[i].input_prompt_number == nbb_cell_id) {\n",
       "                        if (nbb_cells[i].get_text() == nbb_unformatted_code) {\n",
       "                             nbb_cells[i].set_text(nbb_formatted_code);\n",
       "                        }\n",
       "                        break;\n",
       "                    }\n",
       "                }\n",
       "            }, 500);\n",
       "            "
      ],
      "text/plain": [
       "<IPython.core.display.Javascript object>"
      ]
     },
     "metadata": {},
     "output_type": "display_data"
    }
   ],
   "source": [
    "csv_files_path_grouped = dict()\n",
    "csv_files_path_full = dict()"
   ]
  },
  {
   "cell_type": "markdown",
   "id": "a17fa9b0",
   "metadata": {},
   "source": [
    "### 203"
   ]
  },
  {
   "cell_type": "code",
   "execution_count": 12,
   "id": "4366fe99",
   "metadata": {},
   "outputs": [
    {
     "data": {
      "application/javascript": [
       "\n",
       "            setTimeout(function() {\n",
       "                var nbb_cell_id = 12;\n",
       "                var nbb_unformatted_code = \"plants_203 = [\\\"c\\\"]\\n\\nfor plant in plants_203:\\n    path_grouped = f\\\"/home/peressim/projects/ccs28-ml-modelling/reports/results/local_models/203/{plant}/grouped/\\\"\\n    path_full = f\\\"/home/peressim/projects/ccs28-ml-modelling/reports/results/local_models/203/{plant}/full/\\\"\\n    csv_files_path_full = read_csv_files_path(csv_files_path_full, path_full, plant)\\n    csv_files_path_grouped = read_csv_files_path(\\n        csv_files_path_grouped, path_grouped, plant\\n    )\";\n",
       "                var nbb_formatted_code = \"plants_203 = [\\\"c\\\"]\\n\\nfor plant in plants_203:\\n    path_grouped = f\\\"/home/peressim/projects/ccs28-ml-modelling/reports/results/local_models/203/{plant}/grouped/\\\"\\n    path_full = f\\\"/home/peressim/projects/ccs28-ml-modelling/reports/results/local_models/203/{plant}/full/\\\"\\n    csv_files_path_full = read_csv_files_path(csv_files_path_full, path_full, plant)\\n    csv_files_path_grouped = read_csv_files_path(\\n        csv_files_path_grouped, path_grouped, plant\\n    )\";\n",
       "                var nbb_cells = Jupyter.notebook.get_cells();\n",
       "                for (var i = 0; i < nbb_cells.length; ++i) {\n",
       "                    if (nbb_cells[i].input_prompt_number == nbb_cell_id) {\n",
       "                        if (nbb_cells[i].get_text() == nbb_unformatted_code) {\n",
       "                             nbb_cells[i].set_text(nbb_formatted_code);\n",
       "                        }\n",
       "                        break;\n",
       "                    }\n",
       "                }\n",
       "            }, 500);\n",
       "            "
      ],
      "text/plain": [
       "<IPython.core.display.Javascript object>"
      ]
     },
     "metadata": {},
     "output_type": "display_data"
    }
   ],
   "source": [
    "plants_203 = [\"c\"]\n",
    "\n",
    "for plant in plants_203:\n",
    "    path_grouped = f\"/home/peressim/projects/ccs28-ml-modelling/reports/results/local_models/203/{plant}/grouped/\"\n",
    "    path_full = f\"/home/peressim/projects/ccs28-ml-modelling/reports/results/local_models/203/{plant}/full/\"\n",
    "    csv_files_path_full = read_csv_files_path(csv_files_path_full, path_full, plant)\n",
    "    csv_files_path_grouped = read_csv_files_path(\n",
    "        csv_files_path_grouped, path_grouped, plant\n",
    "    )"
   ]
  },
  {
   "cell_type": "markdown",
   "id": "5b048698",
   "metadata": {},
   "source": [
    "### Reading all data"
   ]
  },
  {
   "cell_type": "markdown",
   "id": "b5949e95",
   "metadata": {},
   "source": [
    "#### Full"
   ]
  },
  {
   "cell_type": "code",
   "execution_count": 13,
   "id": "879119ff",
   "metadata": {},
   "outputs": [
    {
     "data": {
      "application/javascript": [
       "\n",
       "            setTimeout(function() {\n",
       "                var nbb_cell_id = 13;\n",
       "                var nbb_unformatted_code = \"dfs_plant = dict()\\ncolumn = (\\\"plant\\\", \\\"\\\")\\npos = 2\\n\\nfor plant, csv_files in csv_files_path_full.items():\\n    df = read_csv_files_full(csv_files, plant)\\n    df[\\\"plant\\\"] = plant\\n    dfs_plant[plant] = df\";\n",
       "                var nbb_formatted_code = \"dfs_plant = dict()\\ncolumn = (\\\"plant\\\", \\\"\\\")\\npos = 2\\n\\nfor plant, csv_files in csv_files_path_full.items():\\n    df = read_csv_files_full(csv_files, plant)\\n    df[\\\"plant\\\"] = plant\\n    dfs_plant[plant] = df\";\n",
       "                var nbb_cells = Jupyter.notebook.get_cells();\n",
       "                for (var i = 0; i < nbb_cells.length; ++i) {\n",
       "                    if (nbb_cells[i].input_prompt_number == nbb_cell_id) {\n",
       "                        if (nbb_cells[i].get_text() == nbb_unformatted_code) {\n",
       "                             nbb_cells[i].set_text(nbb_formatted_code);\n",
       "                        }\n",
       "                        break;\n",
       "                    }\n",
       "                }\n",
       "            }, 500);\n",
       "            "
      ],
      "text/plain": [
       "<IPython.core.display.Javascript object>"
      ]
     },
     "metadata": {},
     "output_type": "display_data"
    }
   ],
   "source": [
    "dfs_plant = dict()\n",
    "column = (\"plant\", \"\")\n",
    "pos = 2\n",
    "\n",
    "for plant, csv_files in csv_files_path_full.items():\n",
    "    df = read_csv_files_full(csv_files, plant)\n",
    "    df[\"plant\"] = plant\n",
    "    dfs_plant[plant] = df"
   ]
  },
  {
   "cell_type": "code",
   "execution_count": 14,
   "id": "9e35ce55",
   "metadata": {},
   "outputs": [
    {
     "data": {
      "application/javascript": [
       "\n",
       "            setTimeout(function() {\n",
       "                var nbb_cell_id = 14;\n",
       "                var nbb_unformatted_code = \"df_full = pd.concat(dfs_plant.values(), ignore_index=True)\";\n",
       "                var nbb_formatted_code = \"df_full = pd.concat(dfs_plant.values(), ignore_index=True)\";\n",
       "                var nbb_cells = Jupyter.notebook.get_cells();\n",
       "                for (var i = 0; i < nbb_cells.length; ++i) {\n",
       "                    if (nbb_cells[i].input_prompt_number == nbb_cell_id) {\n",
       "                        if (nbb_cells[i].get_text() == nbb_unformatted_code) {\n",
       "                             nbb_cells[i].set_text(nbb_formatted_code);\n",
       "                        }\n",
       "                        break;\n",
       "                    }\n",
       "                }\n",
       "            }, 500);\n",
       "            "
      ],
      "text/plain": [
       "<IPython.core.display.Javascript object>"
      ]
     },
     "metadata": {},
     "output_type": "display_data"
    }
   ],
   "source": [
    "df_full = pd.concat(dfs_plant.values(), ignore_index=True)"
   ]
  },
  {
   "cell_type": "code",
   "execution_count": 15,
   "id": "ff1275db",
   "metadata": {},
   "outputs": [
    {
     "data": {
      "text/plain": [
       "(8684, 23)"
      ]
     },
     "execution_count": 15,
     "metadata": {},
     "output_type": "execute_result"
    },
    {
     "data": {
      "application/javascript": [
       "\n",
       "            setTimeout(function() {\n",
       "                var nbb_cell_id = 15;\n",
       "                var nbb_unformatted_code = \"df_full.shape\";\n",
       "                var nbb_formatted_code = \"df_full.shape\";\n",
       "                var nbb_cells = Jupyter.notebook.get_cells();\n",
       "                for (var i = 0; i < nbb_cells.length; ++i) {\n",
       "                    if (nbb_cells[i].input_prompt_number == nbb_cell_id) {\n",
       "                        if (nbb_cells[i].get_text() == nbb_unformatted_code) {\n",
       "                             nbb_cells[i].set_text(nbb_formatted_code);\n",
       "                        }\n",
       "                        break;\n",
       "                    }\n",
       "                }\n",
       "            }, 500);\n",
       "            "
      ],
      "text/plain": [
       "<IPython.core.display.Javascript object>"
      ]
     },
     "metadata": {},
     "output_type": "display_data"
    }
   ],
   "source": [
    "df_full.shape"
   ]
  },
  {
   "cell_type": "code",
   "execution_count": 16,
   "id": "7ed64866",
   "metadata": {},
   "outputs": [
    {
     "name": "stdout",
     "output_type": "stream",
     "text": [
      "(555, 24)\n"
     ]
    },
    {
     "data": {
      "application/javascript": [
       "\n",
       "            setTimeout(function() {\n",
       "                var nbb_cell_id = 16;\n",
       "                var nbb_unformatted_code = \"filter_df = df_full[df_full[\\\"R2 Test\\\"] < 0].reset_index(drop=True)\\n\\nfilter_df[\\\"CP\\\"] = (\\n    filter_df[\\\"Company\\\"].astype(str) + \\\"_\\\" + filter_df[\\\"plant\\\"].astype(str)\\n)\\n\\nfilter_df[\\\"CP\\\"].unique()\\n\\nprint(filter_df.shape)\";\n",
       "                var nbb_formatted_code = \"filter_df = df_full[df_full[\\\"R2 Test\\\"] < 0].reset_index(drop=True)\\n\\nfilter_df[\\\"CP\\\"] = (\\n    filter_df[\\\"Company\\\"].astype(str) + \\\"_\\\" + filter_df[\\\"plant\\\"].astype(str)\\n)\\n\\nfilter_df[\\\"CP\\\"].unique()\\n\\nprint(filter_df.shape)\";\n",
       "                var nbb_cells = Jupyter.notebook.get_cells();\n",
       "                for (var i = 0; i < nbb_cells.length; ++i) {\n",
       "                    if (nbb_cells[i].input_prompt_number == nbb_cell_id) {\n",
       "                        if (nbb_cells[i].get_text() == nbb_unformatted_code) {\n",
       "                             nbb_cells[i].set_text(nbb_formatted_code);\n",
       "                        }\n",
       "                        break;\n",
       "                    }\n",
       "                }\n",
       "            }, 500);\n",
       "            "
      ],
      "text/plain": [
       "<IPython.core.display.Javascript object>"
      ]
     },
     "metadata": {},
     "output_type": "display_data"
    }
   ],
   "source": [
    "filter_df = df_full[df_full[\"R2 Test\"] < 0].reset_index(drop=True)\n",
    "\n",
    "filter_df[\"CP\"] = (\n",
    "    filter_df[\"Company\"].astype(str) + \"_\" + filter_df[\"plant\"].astype(str)\n",
    ")\n",
    "\n",
    "filter_df[\"CP\"].unique()\n",
    "\n",
    "print(filter_df.shape)"
   ]
  },
  {
   "cell_type": "code",
   "execution_count": 17,
   "id": "43e5211f",
   "metadata": {},
   "outputs": [
    {
     "data": {
      "application/javascript": [
       "\n",
       "            setTimeout(function() {\n",
       "                var nbb_cell_id = 17;\n",
       "                var nbb_unformatted_code = \"patterns = [\\n    \\\"Chemical + Mineralogical + Feature Engineering\\\",\\n    \\\"Chemical + Mineralogical + CS7 + One-Hot\\\",\\n    \\\"Chemical + Mineralogical + Physical + One-Hot\\\",\\n    \\\"Chemical + Mineralogical + CS3 + One-Hot\\\",\\n    \\\"Chemical + Mineralogical + CS3 + CS7 + One-Hot\\\",\\n    \\\"Chemical + Mineralogical + One-Hot\\\",\\n    \\\"Chemical + Mineralogical + CS1 + CS3 + CS7 + One-Hot\\\",\\n    \\\"Chemical + Mineralogical + CS1 + CS3 + One-Hot\\\",\\n    \\\"Chemical + Mineralogical + CS1 + One-Hot\\\",\\n    \\\"Chemical + Mineralogical + CS2 + One-Hot\\\",\\n    \\\"Chemical + Feature Engineering\\\",\\n]\\n\\nFEATURES_TO_REPLACE_1 = {\\n    \\\"Chemical + Mineralogical + CS3 + CS7\\\": \\\"Chemical + Mineralogical + Early CS\\\",\\n    \\\"Chemical + Mineralogical + CS7\\\": \\\"Chemical + Mineralogical + Early CS\\\",\\n    \\\"Chemical + Mineralogical + CS3\\\": \\\"Chemical + Mineralogical + Early CS\\\",\\n    \\\"Chemical + Mineralogical + CS1\\\": \\\"Chemical + Mineralogical + Early CS\\\",\\n    \\\"Chemical + Mineralogical + CS1 + CS3\\\": \\\"Chemical + Mineralogical + Early CS\\\",\\n    \\\"Chemical + Mineralogical + CS1 + CS3 + CS7\\\": \\\"Chemical + Mineralogical + Early CS\\\",\\n    \\\"Chemical + Mineralogical + CS2\\\": \\\"Chemical + Mineralogical + Early CS\\\",\\n    \\\"Chemical + CS1 + CS3 + CS7\\\": \\\"Chemical + Mineralogical + Early CS\\\",\\n    \\\"Chemical + CS3 + CS7\\\": \\\"Chemical + Mineralogical + Early CS\\\",\\n    \\\"Chemical + CS7\\\": \\\"Chemical + Mineralogical + Early CS\\\",\\n    \\\"Chemical + CS3\\\": \\\"Chemical + Mineralogical + Early CS\\\",\\n    \\\"Chemical + CS1 + CS3\\\": \\\"Chemical + Mineralogical + Early CS\\\",\\n    \\\"Chemical + CS1\\\": \\\"Chemical + Mineralogical + Early CS\\\",\\n    \\\"Chemical + CS1 + CS7\\\": \\\"Chemical + Mineralogical + Early CS\\\",\\n}\\n\\nFEATURES_TO_REPLACE_2 = {\\n    \\\"Chemical\\\": \\\"Chemical + Mineralogical\\\",\\n    \\\"Chemical + Properties CS Less\\\": \\\"Chemical + Mineralogical + Physical - Early CS\\\",\\n    \\\"Chemical + Mineralogical + Properties CS Less\\\": \\\"Chemical + Mineralogical + Physical - Early CS\\\",\\n    \\\"Chemical + Physical\\\": \\\"Chemical + Mineralogical + Physical\\\",\\n}\\n\\ndf_full = df_full[~df_full[\\\"Features\\\"].apply(lambda x: x in patterns)].reset_index(\\n    drop=True\\n)\\n\\ndf_full = df_full[~df_full[\\\"Cross Validation\\\"].eq(\\\"Out of time Split\\\")].reset_index(\\n    drop=True\\n)\\n\\n# removing afterwards\\ndf_full = df_full[~df_full[\\\"Cross Validation\\\"].eq(\\\"Repeated KFold\\\")].reset_index(\\n    drop=True\\n)\\n\\ndf_full[\\\"Features_bkp\\\"] = df_full[\\\"Features\\\"].copy()\\ndf_full[\\\"Features\\\"] = df_full[\\\"Features\\\"].replace(FEATURES_TO_REPLACE_1)\\n\\ndf_full[\\\"Features\\\"] = df_full[\\\"Features\\\"].replace(FEATURES_TO_REPLACE_2)\\n\\n\\n# removing afterwards\\ndf_full = df_full[\\n    ~df_full[\\\"Features\\\"].eq(\\\"Chemical + Mineralogical + Early CS\\\")\\n].reset_index(drop=True)\";\n",
       "                var nbb_formatted_code = \"patterns = [\\n    \\\"Chemical + Mineralogical + Feature Engineering\\\",\\n    \\\"Chemical + Mineralogical + CS7 + One-Hot\\\",\\n    \\\"Chemical + Mineralogical + Physical + One-Hot\\\",\\n    \\\"Chemical + Mineralogical + CS3 + One-Hot\\\",\\n    \\\"Chemical + Mineralogical + CS3 + CS7 + One-Hot\\\",\\n    \\\"Chemical + Mineralogical + One-Hot\\\",\\n    \\\"Chemical + Mineralogical + CS1 + CS3 + CS7 + One-Hot\\\",\\n    \\\"Chemical + Mineralogical + CS1 + CS3 + One-Hot\\\",\\n    \\\"Chemical + Mineralogical + CS1 + One-Hot\\\",\\n    \\\"Chemical + Mineralogical + CS2 + One-Hot\\\",\\n    \\\"Chemical + Feature Engineering\\\",\\n]\\n\\nFEATURES_TO_REPLACE_1 = {\\n    \\\"Chemical + Mineralogical + CS3 + CS7\\\": \\\"Chemical + Mineralogical + Early CS\\\",\\n    \\\"Chemical + Mineralogical + CS7\\\": \\\"Chemical + Mineralogical + Early CS\\\",\\n    \\\"Chemical + Mineralogical + CS3\\\": \\\"Chemical + Mineralogical + Early CS\\\",\\n    \\\"Chemical + Mineralogical + CS1\\\": \\\"Chemical + Mineralogical + Early CS\\\",\\n    \\\"Chemical + Mineralogical + CS1 + CS3\\\": \\\"Chemical + Mineralogical + Early CS\\\",\\n    \\\"Chemical + Mineralogical + CS1 + CS3 + CS7\\\": \\\"Chemical + Mineralogical + Early CS\\\",\\n    \\\"Chemical + Mineralogical + CS2\\\": \\\"Chemical + Mineralogical + Early CS\\\",\\n    \\\"Chemical + CS1 + CS3 + CS7\\\": \\\"Chemical + Mineralogical + Early CS\\\",\\n    \\\"Chemical + CS3 + CS7\\\": \\\"Chemical + Mineralogical + Early CS\\\",\\n    \\\"Chemical + CS7\\\": \\\"Chemical + Mineralogical + Early CS\\\",\\n    \\\"Chemical + CS3\\\": \\\"Chemical + Mineralogical + Early CS\\\",\\n    \\\"Chemical + CS1 + CS3\\\": \\\"Chemical + Mineralogical + Early CS\\\",\\n    \\\"Chemical + CS1\\\": \\\"Chemical + Mineralogical + Early CS\\\",\\n    \\\"Chemical + CS1 + CS7\\\": \\\"Chemical + Mineralogical + Early CS\\\",\\n}\\n\\nFEATURES_TO_REPLACE_2 = {\\n    \\\"Chemical\\\": \\\"Chemical + Mineralogical\\\",\\n    \\\"Chemical + Properties CS Less\\\": \\\"Chemical + Mineralogical + Physical - Early CS\\\",\\n    \\\"Chemical + Mineralogical + Properties CS Less\\\": \\\"Chemical + Mineralogical + Physical - Early CS\\\",\\n    \\\"Chemical + Physical\\\": \\\"Chemical + Mineralogical + Physical\\\",\\n}\\n\\ndf_full = df_full[~df_full[\\\"Features\\\"].apply(lambda x: x in patterns)].reset_index(\\n    drop=True\\n)\\n\\ndf_full = df_full[~df_full[\\\"Cross Validation\\\"].eq(\\\"Out of time Split\\\")].reset_index(\\n    drop=True\\n)\\n\\n# removing afterwards\\ndf_full = df_full[~df_full[\\\"Cross Validation\\\"].eq(\\\"Repeated KFold\\\")].reset_index(\\n    drop=True\\n)\\n\\ndf_full[\\\"Features_bkp\\\"] = df_full[\\\"Features\\\"].copy()\\ndf_full[\\\"Features\\\"] = df_full[\\\"Features\\\"].replace(FEATURES_TO_REPLACE_1)\\n\\ndf_full[\\\"Features\\\"] = df_full[\\\"Features\\\"].replace(FEATURES_TO_REPLACE_2)\\n\\n\\n# removing afterwards\\ndf_full = df_full[\\n    ~df_full[\\\"Features\\\"].eq(\\\"Chemical + Mineralogical + Early CS\\\")\\n].reset_index(drop=True)\";\n",
       "                var nbb_cells = Jupyter.notebook.get_cells();\n",
       "                for (var i = 0; i < nbb_cells.length; ++i) {\n",
       "                    if (nbb_cells[i].input_prompt_number == nbb_cell_id) {\n",
       "                        if (nbb_cells[i].get_text() == nbb_unformatted_code) {\n",
       "                             nbb_cells[i].set_text(nbb_formatted_code);\n",
       "                        }\n",
       "                        break;\n",
       "                    }\n",
       "                }\n",
       "            }, 500);\n",
       "            "
      ],
      "text/plain": [
       "<IPython.core.display.Javascript object>"
      ]
     },
     "metadata": {},
     "output_type": "display_data"
    }
   ],
   "source": [
    "patterns = [\n",
    "    \"Chemical + Mineralogical + Feature Engineering\",\n",
    "    \"Chemical + Mineralogical + CS7 + One-Hot\",\n",
    "    \"Chemical + Mineralogical + Physical + One-Hot\",\n",
    "    \"Chemical + Mineralogical + CS3 + One-Hot\",\n",
    "    \"Chemical + Mineralogical + CS3 + CS7 + One-Hot\",\n",
    "    \"Chemical + Mineralogical + One-Hot\",\n",
    "    \"Chemical + Mineralogical + CS1 + CS3 + CS7 + One-Hot\",\n",
    "    \"Chemical + Mineralogical + CS1 + CS3 + One-Hot\",\n",
    "    \"Chemical + Mineralogical + CS1 + One-Hot\",\n",
    "    \"Chemical + Mineralogical + CS2 + One-Hot\",\n",
    "    \"Chemical + Feature Engineering\",\n",
    "]\n",
    "\n",
    "FEATURES_TO_REPLACE_1 = {\n",
    "    \"Chemical + Mineralogical + CS3 + CS7\": \"Chemical + Mineralogical + Early CS\",\n",
    "    \"Chemical + Mineralogical + CS7\": \"Chemical + Mineralogical + Early CS\",\n",
    "    \"Chemical + Mineralogical + CS3\": \"Chemical + Mineralogical + Early CS\",\n",
    "    \"Chemical + Mineralogical + CS1\": \"Chemical + Mineralogical + Early CS\",\n",
    "    \"Chemical + Mineralogical + CS1 + CS3\": \"Chemical + Mineralogical + Early CS\",\n",
    "    \"Chemical + Mineralogical + CS1 + CS3 + CS7\": \"Chemical + Mineralogical + Early CS\",\n",
    "    \"Chemical + Mineralogical + CS2\": \"Chemical + Mineralogical + Early CS\",\n",
    "    \"Chemical + CS1 + CS3 + CS7\": \"Chemical + Mineralogical + Early CS\",\n",
    "    \"Chemical + CS3 + CS7\": \"Chemical + Mineralogical + Early CS\",\n",
    "    \"Chemical + CS7\": \"Chemical + Mineralogical + Early CS\",\n",
    "    \"Chemical + CS3\": \"Chemical + Mineralogical + Early CS\",\n",
    "    \"Chemical + CS1 + CS3\": \"Chemical + Mineralogical + Early CS\",\n",
    "    \"Chemical + CS1\": \"Chemical + Mineralogical + Early CS\",\n",
    "    \"Chemical + CS1 + CS7\": \"Chemical + Mineralogical + Early CS\",\n",
    "}\n",
    "\n",
    "FEATURES_TO_REPLACE_2 = {\n",
    "    \"Chemical\": \"Chemical + Mineralogical\",\n",
    "    \"Chemical + Properties CS Less\": \"Chemical + Mineralogical + Physical - Early CS\",\n",
    "    \"Chemical + Mineralogical + Properties CS Less\": \"Chemical + Mineralogical + Physical - Early CS\",\n",
    "    \"Chemical + Physical\": \"Chemical + Mineralogical + Physical\",\n",
    "}\n",
    "\n",
    "df_full = df_full[~df_full[\"Features\"].apply(lambda x: x in patterns)].reset_index(\n",
    "    drop=True\n",
    ")\n",
    "\n",
    "df_full = df_full[~df_full[\"Cross Validation\"].eq(\"Out of time Split\")].reset_index(\n",
    "    drop=True\n",
    ")\n",
    "\n",
    "# removing afterwards\n",
    "df_full = df_full[~df_full[\"Cross Validation\"].eq(\"Repeated KFold\")].reset_index(\n",
    "    drop=True\n",
    ")\n",
    "\n",
    "df_full[\"Features_bkp\"] = df_full[\"Features\"].copy()\n",
    "df_full[\"Features\"] = df_full[\"Features\"].replace(FEATURES_TO_REPLACE_1)\n",
    "\n",
    "df_full[\"Features\"] = df_full[\"Features\"].replace(FEATURES_TO_REPLACE_2)\n",
    "\n",
    "\n",
    "# removing afterwards\n",
    "df_full = df_full[\n",
    "    ~df_full[\"Features\"].eq(\"Chemical + Mineralogical + Early CS\")\n",
    "].reset_index(drop=True)"
   ]
  },
  {
   "cell_type": "code",
   "execution_count": 18,
   "id": "e8726ee8",
   "metadata": {},
   "outputs": [
    {
     "data": {
      "text/plain": [
       "array(['Blocking Time Series Split', 'Time Series Split'], dtype=object)"
      ]
     },
     "execution_count": 18,
     "metadata": {},
     "output_type": "execute_result"
    },
    {
     "data": {
      "application/javascript": [
       "\n",
       "            setTimeout(function() {\n",
       "                var nbb_cell_id = 18;\n",
       "                var nbb_unformatted_code = \"df_full[\\\"Cross Validation\\\"].unique()\";\n",
       "                var nbb_formatted_code = \"df_full[\\\"Cross Validation\\\"].unique()\";\n",
       "                var nbb_cells = Jupyter.notebook.get_cells();\n",
       "                for (var i = 0; i < nbb_cells.length; ++i) {\n",
       "                    if (nbb_cells[i].input_prompt_number == nbb_cell_id) {\n",
       "                        if (nbb_cells[i].get_text() == nbb_unformatted_code) {\n",
       "                             nbb_cells[i].set_text(nbb_formatted_code);\n",
       "                        }\n",
       "                        break;\n",
       "                    }\n",
       "                }\n",
       "            }, 500);\n",
       "            "
      ],
      "text/plain": [
       "<IPython.core.display.Javascript object>"
      ]
     },
     "metadata": {},
     "output_type": "display_data"
    }
   ],
   "source": [
    "df_full[\"Cross Validation\"].unique()"
   ]
  },
  {
   "cell_type": "code",
   "execution_count": 19,
   "id": "0cc6d709",
   "metadata": {},
   "outputs": [
    {
     "data": {
      "text/plain": [
       "array(['Chemical + Mineralogical + Physical - Early CS',\n",
       "       'Chemical + Mineralogical + Physical', 'Chemical + Mineralogical'],\n",
       "      dtype=object)"
      ]
     },
     "execution_count": 19,
     "metadata": {},
     "output_type": "execute_result"
    },
    {
     "data": {
      "application/javascript": [
       "\n",
       "            setTimeout(function() {\n",
       "                var nbb_cell_id = 19;\n",
       "                var nbb_unformatted_code = \"df_full[\\\"Features\\\"].unique()\";\n",
       "                var nbb_formatted_code = \"df_full[\\\"Features\\\"].unique()\";\n",
       "                var nbb_cells = Jupyter.notebook.get_cells();\n",
       "                for (var i = 0; i < nbb_cells.length; ++i) {\n",
       "                    if (nbb_cells[i].input_prompt_number == nbb_cell_id) {\n",
       "                        if (nbb_cells[i].get_text() == nbb_unformatted_code) {\n",
       "                             nbb_cells[i].set_text(nbb_formatted_code);\n",
       "                        }\n",
       "                        break;\n",
       "                    }\n",
       "                }\n",
       "            }, 500);\n",
       "            "
      ],
      "text/plain": [
       "<IPython.core.display.Javascript object>"
      ]
     },
     "metadata": {},
     "output_type": "display_data"
    }
   ],
   "source": [
    "df_full[\"Features\"].unique()"
   ]
  },
  {
   "cell_type": "code",
   "execution_count": 20,
   "id": "4baeba57",
   "metadata": {},
   "outputs": [
    {
     "data": {
      "text/plain": [
       "array(['Chemical + Properties CS Less', 'Chemical + Physical', 'Chemical'],\n",
       "      dtype=object)"
      ]
     },
     "execution_count": 20,
     "metadata": {},
     "output_type": "execute_result"
    },
    {
     "data": {
      "application/javascript": [
       "\n",
       "            setTimeout(function() {\n",
       "                var nbb_cell_id = 20;\n",
       "                var nbb_unformatted_code = \"df_full[\\\"Features_bkp\\\"].unique()\";\n",
       "                var nbb_formatted_code = \"df_full[\\\"Features_bkp\\\"].unique()\";\n",
       "                var nbb_cells = Jupyter.notebook.get_cells();\n",
       "                for (var i = 0; i < nbb_cells.length; ++i) {\n",
       "                    if (nbb_cells[i].input_prompt_number == nbb_cell_id) {\n",
       "                        if (nbb_cells[i].get_text() == nbb_unformatted_code) {\n",
       "                             nbb_cells[i].set_text(nbb_formatted_code);\n",
       "                        }\n",
       "                        break;\n",
       "                    }\n",
       "                }\n",
       "            }, 500);\n",
       "            "
      ],
      "text/plain": [
       "<IPython.core.display.Javascript object>"
      ]
     },
     "metadata": {},
     "output_type": "display_data"
    }
   ],
   "source": [
    "df_full[\"Features_bkp\"].unique()"
   ]
  },
  {
   "cell_type": "code",
   "execution_count": 21,
   "id": "90a310bb",
   "metadata": {},
   "outputs": [
    {
     "data": {
      "text/plain": [
       "(1515, 24)"
      ]
     },
     "execution_count": 21,
     "metadata": {},
     "output_type": "execute_result"
    },
    {
     "data": {
      "application/javascript": [
       "\n",
       "            setTimeout(function() {\n",
       "                var nbb_cell_id = 21;\n",
       "                var nbb_unformatted_code = \"df_full.shape\";\n",
       "                var nbb_formatted_code = \"df_full.shape\";\n",
       "                var nbb_cells = Jupyter.notebook.get_cells();\n",
       "                for (var i = 0; i < nbb_cells.length; ++i) {\n",
       "                    if (nbb_cells[i].input_prompt_number == nbb_cell_id) {\n",
       "                        if (nbb_cells[i].get_text() == nbb_unformatted_code) {\n",
       "                             nbb_cells[i].set_text(nbb_formatted_code);\n",
       "                        }\n",
       "                        break;\n",
       "                    }\n",
       "                }\n",
       "            }, 500);\n",
       "            "
      ],
      "text/plain": [
       "<IPython.core.display.Javascript object>"
      ]
     },
     "metadata": {},
     "output_type": "display_data"
    }
   ],
   "source": [
    "df_full.shape"
   ]
  },
  {
   "cell_type": "code",
   "execution_count": 22,
   "id": "f038d855",
   "metadata": {},
   "outputs": [
    {
     "data": {
      "text/html": [
       "<div>\n",
       "<style scoped>\n",
       "    .dataframe tbody tr th:only-of-type {\n",
       "        vertical-align: middle;\n",
       "    }\n",
       "\n",
       "    .dataframe tbody tr th {\n",
       "        vertical-align: top;\n",
       "    }\n",
       "\n",
       "    .dataframe thead th {\n",
       "        text-align: right;\n",
       "    }\n",
       "</style>\n",
       "<table border=\"1\" class=\"dataframe\">\n",
       "  <thead>\n",
       "    <tr style=\"text-align: right;\">\n",
       "      <th></th>\n",
       "      <th>count</th>\n",
       "      <th>mean</th>\n",
       "      <th>std</th>\n",
       "      <th>min</th>\n",
       "      <th>25%</th>\n",
       "      <th>50%</th>\n",
       "      <th>75%</th>\n",
       "      <th>max</th>\n",
       "    </tr>\n",
       "  </thead>\n",
       "  <tbody>\n",
       "    <tr>\n",
       "      <th>RMSE Test</th>\n",
       "      <td>1515.0</td>\n",
       "      <td>2.89</td>\n",
       "      <td>2.32</td>\n",
       "      <td>0.45</td>\n",
       "      <td>1.75</td>\n",
       "      <td>2.36</td>\n",
       "      <td>3.25</td>\n",
       "      <td>28.17</td>\n",
       "    </tr>\n",
       "    <tr>\n",
       "      <th>MAE Test</th>\n",
       "      <td>1515.0</td>\n",
       "      <td>1.98</td>\n",
       "      <td>1.21</td>\n",
       "      <td>0.38</td>\n",
       "      <td>1.31</td>\n",
       "      <td>1.71</td>\n",
       "      <td>2.28</td>\n",
       "      <td>12.46</td>\n",
       "    </tr>\n",
       "    <tr>\n",
       "      <th>MAPE Test</th>\n",
       "      <td>1515.0</td>\n",
       "      <td>0.05</td>\n",
       "      <td>0.03</td>\n",
       "      <td>0.01</td>\n",
       "      <td>0.03</td>\n",
       "      <td>0.04</td>\n",
       "      <td>0.05</td>\n",
       "      <td>0.30</td>\n",
       "    </tr>\n",
       "    <tr>\n",
       "      <th>R2 Test</th>\n",
       "      <td>1515.0</td>\n",
       "      <td>0.61</td>\n",
       "      <td>1.38</td>\n",
       "      <td>-21.80</td>\n",
       "      <td>0.70</td>\n",
       "      <td>0.84</td>\n",
       "      <td>0.91</td>\n",
       "      <td>0.99</td>\n",
       "    </tr>\n",
       "  </tbody>\n",
       "</table>\n",
       "</div>"
      ],
      "text/plain": [
       "            count  mean   std    min   25%   50%   75%    max\n",
       "RMSE Test  1515.0  2.89  2.32   0.45  1.75  2.36  3.25  28.17\n",
       "MAE Test   1515.0  1.98  1.21   0.38  1.31  1.71  2.28  12.46\n",
       "MAPE Test  1515.0  0.05  0.03   0.01  0.03  0.04  0.05   0.30\n",
       "R2 Test    1515.0  0.61  1.38 -21.80  0.70  0.84  0.91   0.99"
      ]
     },
     "execution_count": 22,
     "metadata": {},
     "output_type": "execute_result"
    },
    {
     "data": {
      "application/javascript": [
       "\n",
       "            setTimeout(function() {\n",
       "                var nbb_cell_id = 22;\n",
       "                var nbb_unformatted_code = \"df_full[[\\\"RMSE Test\\\", \\\"MAE Test\\\", \\\"MAPE Test\\\", \\\"R2 Test\\\"]].describe().round(2).T\";\n",
       "                var nbb_formatted_code = \"df_full[[\\\"RMSE Test\\\", \\\"MAE Test\\\", \\\"MAPE Test\\\", \\\"R2 Test\\\"]].describe().round(2).T\";\n",
       "                var nbb_cells = Jupyter.notebook.get_cells();\n",
       "                for (var i = 0; i < nbb_cells.length; ++i) {\n",
       "                    if (nbb_cells[i].input_prompt_number == nbb_cell_id) {\n",
       "                        if (nbb_cells[i].get_text() == nbb_unformatted_code) {\n",
       "                             nbb_cells[i].set_text(nbb_formatted_code);\n",
       "                        }\n",
       "                        break;\n",
       "                    }\n",
       "                }\n",
       "            }, 500);\n",
       "            "
      ],
      "text/plain": [
       "<IPython.core.display.Javascript object>"
      ]
     },
     "metadata": {},
     "output_type": "display_data"
    }
   ],
   "source": [
    "df_full[[\"RMSE Test\", \"MAE Test\", \"MAPE Test\", \"R2 Test\"]].describe().round(2).T"
   ]
  },
  {
   "cell_type": "code",
   "execution_count": 23,
   "id": "dabbd8ab",
   "metadata": {},
   "outputs": [
    {
     "data": {
      "text/plain": [
       "1"
      ]
     },
     "execution_count": 23,
     "metadata": {},
     "output_type": "execute_result"
    },
    {
     "data": {
      "application/javascript": [
       "\n",
       "            setTimeout(function() {\n",
       "                var nbb_cell_id = 23;\n",
       "                var nbb_unformatted_code = \"df_full[df_full[\\\"R2 Test\\\"] < 0][[\\\"Company\\\", \\\"plant\\\"]][\\\"plant\\\"].nunique()\";\n",
       "                var nbb_formatted_code = \"df_full[df_full[\\\"R2 Test\\\"] < 0][[\\\"Company\\\", \\\"plant\\\"]][\\\"plant\\\"].nunique()\";\n",
       "                var nbb_cells = Jupyter.notebook.get_cells();\n",
       "                for (var i = 0; i < nbb_cells.length; ++i) {\n",
       "                    if (nbb_cells[i].input_prompt_number == nbb_cell_id) {\n",
       "                        if (nbb_cells[i].get_text() == nbb_unformatted_code) {\n",
       "                             nbb_cells[i].set_text(nbb_formatted_code);\n",
       "                        }\n",
       "                        break;\n",
       "                    }\n",
       "                }\n",
       "            }, 500);\n",
       "            "
      ],
      "text/plain": [
       "<IPython.core.display.Javascript object>"
      ]
     },
     "metadata": {},
     "output_type": "display_data"
    }
   ],
   "source": [
    "df_full[df_full[\"R2 Test\"] < 0][[\"Company\", \"plant\"]][\"plant\"].nunique()"
   ]
  },
  {
   "cell_type": "code",
   "execution_count": 24,
   "id": "74f4abf9",
   "metadata": {},
   "outputs": [
    {
     "data": {
      "text/html": [
       "<div>\n",
       "<style scoped>\n",
       "    .dataframe tbody tr th:only-of-type {\n",
       "        vertical-align: middle;\n",
       "    }\n",
       "\n",
       "    .dataframe tbody tr th {\n",
       "        vertical-align: top;\n",
       "    }\n",
       "\n",
       "    .dataframe thead th {\n",
       "        text-align: right;\n",
       "    }\n",
       "</style>\n",
       "<table border=\"1\" class=\"dataframe\">\n",
       "  <thead>\n",
       "    <tr style=\"text-align: right;\">\n",
       "      <th></th>\n",
       "      <th>Category</th>\n",
       "      <th>Company</th>\n",
       "      <th>Plant</th>\n",
       "      <th>Features</th>\n",
       "      <th>Data Shape</th>\n",
       "      <th>Timesteps</th>\n",
       "      <th>Model</th>\n",
       "      <th>Model Params</th>\n",
       "      <th>Scaler</th>\n",
       "      <th>Scaler Params</th>\n",
       "      <th>...</th>\n",
       "      <th>RMSE Train</th>\n",
       "      <th>MAE Train</th>\n",
       "      <th>MAPE Train</th>\n",
       "      <th>R2 Train</th>\n",
       "      <th>RMSE Test</th>\n",
       "      <th>MAE Test</th>\n",
       "      <th>MAPE Test</th>\n",
       "      <th>R2 Test</th>\n",
       "      <th>plant</th>\n",
       "      <th>Features_bkp</th>\n",
       "    </tr>\n",
       "  </thead>\n",
       "  <tbody>\n",
       "    <tr>\n",
       "      <th>439</th>\n",
       "      <td>Local Model</td>\n",
       "      <td>203</td>\n",
       "      <td>C</td>\n",
       "      <td>Chemical + Mineralogical + Physical</td>\n",
       "      <td>(2829, 19)</td>\n",
       "      <td>14.0</td>\n",
       "      <td>BidirectionalGRU</td>\n",
       "      <td>NaN</td>\n",
       "      <td>Standard Scaler</td>\n",
       "      <td>NaN</td>\n",
       "      <td>...</td>\n",
       "      <td>0.910095</td>\n",
       "      <td>0.721416</td>\n",
       "      <td>0.016419</td>\n",
       "      <td>0.976681</td>\n",
       "      <td>28.173882</td>\n",
       "      <td>6.014505</td>\n",
       "      <td>0.129485</td>\n",
       "      <td>-21.801437</td>\n",
       "      <td>c</td>\n",
       "      <td>Chemical + Physical</td>\n",
       "    </tr>\n",
       "    <tr>\n",
       "      <th>444</th>\n",
       "      <td>Local Model</td>\n",
       "      <td>203</td>\n",
       "      <td>C</td>\n",
       "      <td>Chemical + Mineralogical + Physical</td>\n",
       "      <td>(2829, 19)</td>\n",
       "      <td>14.0</td>\n",
       "      <td>BidirectionalGRU</td>\n",
       "      <td>NaN</td>\n",
       "      <td>Standard Scaler</td>\n",
       "      <td>NaN</td>\n",
       "      <td>...</td>\n",
       "      <td>0.910095</td>\n",
       "      <td>0.721416</td>\n",
       "      <td>0.016419</td>\n",
       "      <td>0.976681</td>\n",
       "      <td>28.173882</td>\n",
       "      <td>6.014505</td>\n",
       "      <td>0.129485</td>\n",
       "      <td>-21.801437</td>\n",
       "      <td>c</td>\n",
       "      <td>Chemical + Physical</td>\n",
       "    </tr>\n",
       "    <tr>\n",
       "      <th>449</th>\n",
       "      <td>Local Model</td>\n",
       "      <td>203</td>\n",
       "      <td>C</td>\n",
       "      <td>Chemical + Mineralogical + Physical</td>\n",
       "      <td>(2829, 19)</td>\n",
       "      <td>14.0</td>\n",
       "      <td>BidirectionalGRU</td>\n",
       "      <td>NaN</td>\n",
       "      <td>Standard Scaler</td>\n",
       "      <td>NaN</td>\n",
       "      <td>...</td>\n",
       "      <td>0.910095</td>\n",
       "      <td>0.721416</td>\n",
       "      <td>0.016419</td>\n",
       "      <td>0.976681</td>\n",
       "      <td>28.173882</td>\n",
       "      <td>6.014505</td>\n",
       "      <td>0.129485</td>\n",
       "      <td>-21.801437</td>\n",
       "      <td>c</td>\n",
       "      <td>Chemical + Physical</td>\n",
       "    </tr>\n",
       "  </tbody>\n",
       "</table>\n",
       "<p>3 rows × 24 columns</p>\n",
       "</div>"
      ],
      "text/plain": [
       "        Category  Company Plant                             Features  \\\n",
       "439  Local Model      203     C  Chemical + Mineralogical + Physical   \n",
       "444  Local Model      203     C  Chemical + Mineralogical + Physical   \n",
       "449  Local Model      203     C  Chemical + Mineralogical + Physical   \n",
       "\n",
       "     Data Shape  Timesteps             Model  Model Params           Scaler  \\\n",
       "439  (2829, 19)       14.0  BidirectionalGRU           NaN  Standard Scaler   \n",
       "444  (2829, 19)       14.0  BidirectionalGRU           NaN  Standard Scaler   \n",
       "449  (2829, 19)       14.0  BidirectionalGRU           NaN  Standard Scaler   \n",
       "\n",
       "     Scaler Params  ... RMSE Train  MAE Train MAPE Train  R2 Train  RMSE Test  \\\n",
       "439            NaN  ...   0.910095   0.721416   0.016419  0.976681  28.173882   \n",
       "444            NaN  ...   0.910095   0.721416   0.016419  0.976681  28.173882   \n",
       "449            NaN  ...   0.910095   0.721416   0.016419  0.976681  28.173882   \n",
       "\n",
       "     MAE Test  MAPE Test    R2 Test  plant         Features_bkp  \n",
       "439  6.014505   0.129485 -21.801437      c  Chemical + Physical  \n",
       "444  6.014505   0.129485 -21.801437      c  Chemical + Physical  \n",
       "449  6.014505   0.129485 -21.801437      c  Chemical + Physical  \n",
       "\n",
       "[3 rows x 24 columns]"
      ]
     },
     "execution_count": 24,
     "metadata": {},
     "output_type": "execute_result"
    },
    {
     "data": {
      "application/javascript": [
       "\n",
       "            setTimeout(function() {\n",
       "                var nbb_cell_id = 24;\n",
       "                var nbb_unformatted_code = \"df_full[df_full[\\\"R2 Test\\\"].eq(df_full[\\\"R2 Test\\\"].min())]\";\n",
       "                var nbb_formatted_code = \"df_full[df_full[\\\"R2 Test\\\"].eq(df_full[\\\"R2 Test\\\"].min())]\";\n",
       "                var nbb_cells = Jupyter.notebook.get_cells();\n",
       "                for (var i = 0; i < nbb_cells.length; ++i) {\n",
       "                    if (nbb_cells[i].input_prompt_number == nbb_cell_id) {\n",
       "                        if (nbb_cells[i].get_text() == nbb_unformatted_code) {\n",
       "                             nbb_cells[i].set_text(nbb_formatted_code);\n",
       "                        }\n",
       "                        break;\n",
       "                    }\n",
       "                }\n",
       "            }, 500);\n",
       "            "
      ],
      "text/plain": [
       "<IPython.core.display.Javascript object>"
      ]
     },
     "metadata": {},
     "output_type": "display_data"
    }
   ],
   "source": [
    "df_full[df_full[\"R2 Test\"].eq(df_full[\"R2 Test\"].min())]"
   ]
  },
  {
   "cell_type": "code",
   "execution_count": 25,
   "id": "a8e219fd",
   "metadata": {},
   "outputs": [
    {
     "data": {
      "text/plain": [
       "439    Time Series Split\n",
       "444    Time Series Split\n",
       "449    Time Series Split\n",
       "Name: Cross Validation, dtype: object"
      ]
     },
     "execution_count": 25,
     "metadata": {},
     "output_type": "execute_result"
    },
    {
     "data": {
      "application/javascript": [
       "\n",
       "            setTimeout(function() {\n",
       "                var nbb_cell_id = 25;\n",
       "                var nbb_unformatted_code = \"df_full[(df_full[\\\"R2 Test\\\"].eq(df_full[\\\"R2 Test\\\"].min()))][\\\"Cross Validation\\\"]\";\n",
       "                var nbb_formatted_code = \"df_full[(df_full[\\\"R2 Test\\\"].eq(df_full[\\\"R2 Test\\\"].min()))][\\\"Cross Validation\\\"]\";\n",
       "                var nbb_cells = Jupyter.notebook.get_cells();\n",
       "                for (var i = 0; i < nbb_cells.length; ++i) {\n",
       "                    if (nbb_cells[i].input_prompt_number == nbb_cell_id) {\n",
       "                        if (nbb_cells[i].get_text() == nbb_unformatted_code) {\n",
       "                             nbb_cells[i].set_text(nbb_formatted_code);\n",
       "                        }\n",
       "                        break;\n",
       "                    }\n",
       "                }\n",
       "            }, 500);\n",
       "            "
      ],
      "text/plain": [
       "<IPython.core.display.Javascript object>"
      ]
     },
     "metadata": {},
     "output_type": "display_data"
    }
   ],
   "source": [
    "df_full[(df_full[\"R2 Test\"].eq(df_full[\"R2 Test\"].min()))][\"Cross Validation\"]"
   ]
  },
  {
   "cell_type": "code",
   "execution_count": 26,
   "id": "c9f23096",
   "metadata": {},
   "outputs": [
    {
     "name": "stdout",
     "output_type": "stream",
     "text": [
      "(90, 24)\n"
     ]
    },
    {
     "data": {
      "application/javascript": [
       "\n",
       "            setTimeout(function() {\n",
       "                var nbb_cell_id = 26;\n",
       "                var nbb_unformatted_code = \"filter_df = df_full[df_full[\\\"R2 Test\\\"] < 0].reset_index(drop=True)\\n\\nprint(filter_df.shape)\";\n",
       "                var nbb_formatted_code = \"filter_df = df_full[df_full[\\\"R2 Test\\\"] < 0].reset_index(drop=True)\\n\\nprint(filter_df.shape)\";\n",
       "                var nbb_cells = Jupyter.notebook.get_cells();\n",
       "                for (var i = 0; i < nbb_cells.length; ++i) {\n",
       "                    if (nbb_cells[i].input_prompt_number == nbb_cell_id) {\n",
       "                        if (nbb_cells[i].get_text() == nbb_unformatted_code) {\n",
       "                             nbb_cells[i].set_text(nbb_formatted_code);\n",
       "                        }\n",
       "                        break;\n",
       "                    }\n",
       "                }\n",
       "            }, 500);\n",
       "            "
      ],
      "text/plain": [
       "<IPython.core.display.Javascript object>"
      ]
     },
     "metadata": {},
     "output_type": "display_data"
    }
   ],
   "source": [
    "filter_df = df_full[df_full[\"R2 Test\"] < 0].reset_index(drop=True)\n",
    "\n",
    "print(filter_df.shape)"
   ]
  },
  {
   "cell_type": "code",
   "execution_count": 27,
   "id": "9c86cda1",
   "metadata": {},
   "outputs": [
    {
     "data": {
      "text/plain": [
       "(1515, 24)"
      ]
     },
     "execution_count": 27,
     "metadata": {},
     "output_type": "execute_result"
    },
    {
     "data": {
      "application/javascript": [
       "\n",
       "            setTimeout(function() {\n",
       "                var nbb_cell_id = 27;\n",
       "                var nbb_unformatted_code = \"df_full.shape\";\n",
       "                var nbb_formatted_code = \"df_full.shape\";\n",
       "                var nbb_cells = Jupyter.notebook.get_cells();\n",
       "                for (var i = 0; i < nbb_cells.length; ++i) {\n",
       "                    if (nbb_cells[i].input_prompt_number == nbb_cell_id) {\n",
       "                        if (nbb_cells[i].get_text() == nbb_unformatted_code) {\n",
       "                             nbb_cells[i].set_text(nbb_formatted_code);\n",
       "                        }\n",
       "                        break;\n",
       "                    }\n",
       "                }\n",
       "            }, 500);\n",
       "            "
      ],
      "text/plain": [
       "<IPython.core.display.Javascript object>"
      ]
     },
     "metadata": {},
     "output_type": "display_data"
    }
   ],
   "source": [
    "df_full.shape"
   ]
  },
  {
   "cell_type": "code",
   "execution_count": 28,
   "id": "a955cc98",
   "metadata": {},
   "outputs": [
    {
     "data": {
      "text/plain": [
       "array(['c'], dtype=object)"
      ]
     },
     "execution_count": 28,
     "metadata": {},
     "output_type": "execute_result"
    },
    {
     "data": {
      "application/javascript": [
       "\n",
       "            setTimeout(function() {\n",
       "                var nbb_cell_id = 28;\n",
       "                var nbb_unformatted_code = \"df_full[\\\"plant\\\"].unique()\";\n",
       "                var nbb_formatted_code = \"df_full[\\\"plant\\\"].unique()\";\n",
       "                var nbb_cells = Jupyter.notebook.get_cells();\n",
       "                for (var i = 0; i < nbb_cells.length; ++i) {\n",
       "                    if (nbb_cells[i].input_prompt_number == nbb_cell_id) {\n",
       "                        if (nbb_cells[i].get_text() == nbb_unformatted_code) {\n",
       "                             nbb_cells[i].set_text(nbb_formatted_code);\n",
       "                        }\n",
       "                        break;\n",
       "                    }\n",
       "                }\n",
       "            }, 500);\n",
       "            "
      ],
      "text/plain": [
       "<IPython.core.display.Javascript object>"
      ]
     },
     "metadata": {},
     "output_type": "display_data"
    }
   ],
   "source": [
    "df_full[\"plant\"].unique()"
   ]
  },
  {
   "cell_type": "code",
   "execution_count": 29,
   "id": "ab1bc5f0",
   "metadata": {},
   "outputs": [
    {
     "data": {
      "application/javascript": [
       "\n",
       "            setTimeout(function() {\n",
       "                var nbb_cell_id = 29;\n",
       "                var nbb_unformatted_code = \"df_full_203 = df_full[df_full[\\\"plant\\\"].isin([\\\"partner_i\\\", \\\"partner_ii\\\", \\\"partner_iv\\\"])].reset_index(\\n    drop=True\\n)\\ndf_full_203 = df_full[~df_full[\\\"plant\\\"].isin([\\\"partner_i\\\", \\\"partner_ii\\\", \\\"partner_iv\\\"])].reset_index(\\n    drop=True\\n)\";\n",
       "                var nbb_formatted_code = \"df_full_203 = df_full[df_full[\\\"plant\\\"].isin([\\\"partner_i\\\", \\\"partner_ii\\\", \\\"partner_iv\\\"])].reset_index(\\n    drop=True\\n)\\ndf_full_203 = df_full[~df_full[\\\"plant\\\"].isin([\\\"partner_i\\\", \\\"partner_ii\\\", \\\"partner_iv\\\"])].reset_index(\\n    drop=True\\n)\";\n",
       "                var nbb_cells = Jupyter.notebook.get_cells();\n",
       "                for (var i = 0; i < nbb_cells.length; ++i) {\n",
       "                    if (nbb_cells[i].input_prompt_number == nbb_cell_id) {\n",
       "                        if (nbb_cells[i].get_text() == nbb_unformatted_code) {\n",
       "                             nbb_cells[i].set_text(nbb_formatted_code);\n",
       "                        }\n",
       "                        break;\n",
       "                    }\n",
       "                }\n",
       "            }, 500);\n",
       "            "
      ],
      "text/plain": [
       "<IPython.core.display.Javascript object>"
      ]
     },
     "metadata": {},
     "output_type": "display_data"
    }
   ],
   "source": [
    "df_full_203 = df_full[df_full[\"plant\"].isin([\"partner_i\", \"partner_ii\", \"partner_iv\"])].reset_index(\n",
    "    drop=True\n",
    ")\n",
    "df_full_203 = df_full[~df_full[\"plant\"].isin([\"partner_i\", \"partner_ii\", \"partner_iv\"])].reset_index(\n",
    "    drop=True\n",
    ")"
   ]
  },
  {
   "cell_type": "code",
   "execution_count": 30,
   "id": "4473b8d6",
   "metadata": {},
   "outputs": [
    {
     "data": {
      "text/plain": [
       "(1515, 24)"
      ]
     },
     "execution_count": 30,
     "metadata": {},
     "output_type": "execute_result"
    },
    {
     "data": {
      "application/javascript": [
       "\n",
       "            setTimeout(function() {\n",
       "                var nbb_cell_id = 30;\n",
       "                var nbb_unformatted_code = \"df_full.shape\";\n",
       "                var nbb_formatted_code = \"df_full.shape\";\n",
       "                var nbb_cells = Jupyter.notebook.get_cells();\n",
       "                for (var i = 0; i < nbb_cells.length; ++i) {\n",
       "                    if (nbb_cells[i].input_prompt_number == nbb_cell_id) {\n",
       "                        if (nbb_cells[i].get_text() == nbb_unformatted_code) {\n",
       "                             nbb_cells[i].set_text(nbb_formatted_code);\n",
       "                        }\n",
       "                        break;\n",
       "                    }\n",
       "                }\n",
       "            }, 500);\n",
       "            "
      ],
      "text/plain": [
       "<IPython.core.display.Javascript object>"
      ]
     },
     "metadata": {},
     "output_type": "display_data"
    }
   ],
   "source": [
    "df_full.shape"
   ]
  },
  {
   "cell_type": "code",
   "execution_count": 31,
   "id": "bd89f6e2",
   "metadata": {},
   "outputs": [
    {
     "data": {
      "text/plain": [
       "(1515, 24)"
      ]
     },
     "execution_count": 31,
     "metadata": {},
     "output_type": "execute_result"
    },
    {
     "data": {
      "application/javascript": [
       "\n",
       "            setTimeout(function() {\n",
       "                var nbb_cell_id = 31;\n",
       "                var nbb_unformatted_code = \"df_full_203.shape\";\n",
       "                var nbb_formatted_code = \"df_full_203.shape\";\n",
       "                var nbb_cells = Jupyter.notebook.get_cells();\n",
       "                for (var i = 0; i < nbb_cells.length; ++i) {\n",
       "                    if (nbb_cells[i].input_prompt_number == nbb_cell_id) {\n",
       "                        if (nbb_cells[i].get_text() == nbb_unformatted_code) {\n",
       "                             nbb_cells[i].set_text(nbb_formatted_code);\n",
       "                        }\n",
       "                        break;\n",
       "                    }\n",
       "                }\n",
       "            }, 500);\n",
       "            "
      ],
      "text/plain": [
       "<IPython.core.display.Javascript object>"
      ]
     },
     "metadata": {},
     "output_type": "display_data"
    }
   ],
   "source": [
    "df_full_203.shape"
   ]
  },
  {
   "cell_type": "code",
   "execution_count": 32,
   "id": "9560a9e0",
   "metadata": {},
   "outputs": [
    {
     "data": {
      "text/plain": [
       "(1515, 24)"
      ]
     },
     "execution_count": 32,
     "metadata": {},
     "output_type": "execute_result"
    },
    {
     "data": {
      "application/javascript": [
       "\n",
       "            setTimeout(function() {\n",
       "                var nbb_cell_id = 32;\n",
       "                var nbb_unformatted_code = \"df_full_203.shape\";\n",
       "                var nbb_formatted_code = \"df_full_203.shape\";\n",
       "                var nbb_cells = Jupyter.notebook.get_cells();\n",
       "                for (var i = 0; i < nbb_cells.length; ++i) {\n",
       "                    if (nbb_cells[i].input_prompt_number == nbb_cell_id) {\n",
       "                        if (nbb_cells[i].get_text() == nbb_unformatted_code) {\n",
       "                             nbb_cells[i].set_text(nbb_formatted_code);\n",
       "                        }\n",
       "                        break;\n",
       "                    }\n",
       "                }\n",
       "            }, 500);\n",
       "            "
      ],
      "text/plain": [
       "<IPython.core.display.Javascript object>"
      ]
     },
     "metadata": {},
     "output_type": "display_data"
    }
   ],
   "source": [
    "df_full_203.shape"
   ]
  },
  {
   "cell_type": "code",
   "execution_count": 33,
   "id": "5ea75c57",
   "metadata": {},
   "outputs": [
    {
     "data": {
      "text/html": [
       "<div>\n",
       "<style scoped>\n",
       "    .dataframe tbody tr th:only-of-type {\n",
       "        vertical-align: middle;\n",
       "    }\n",
       "\n",
       "    .dataframe tbody tr th {\n",
       "        vertical-align: top;\n",
       "    }\n",
       "\n",
       "    .dataframe thead th {\n",
       "        text-align: right;\n",
       "    }\n",
       "</style>\n",
       "<table border=\"1\" class=\"dataframe\">\n",
       "  <thead>\n",
       "    <tr style=\"text-align: right;\">\n",
       "      <th></th>\n",
       "      <th>count</th>\n",
       "      <th>mean</th>\n",
       "      <th>std</th>\n",
       "      <th>min</th>\n",
       "      <th>25%</th>\n",
       "      <th>50%</th>\n",
       "      <th>75%</th>\n",
       "      <th>max</th>\n",
       "    </tr>\n",
       "  </thead>\n",
       "  <tbody>\n",
       "    <tr>\n",
       "      <th>RMSE Test</th>\n",
       "      <td>1515.0</td>\n",
       "      <td>2.89</td>\n",
       "      <td>2.32</td>\n",
       "      <td>0.45</td>\n",
       "      <td>1.75</td>\n",
       "      <td>2.36</td>\n",
       "      <td>3.25</td>\n",
       "      <td>28.17</td>\n",
       "    </tr>\n",
       "    <tr>\n",
       "      <th>MAE Test</th>\n",
       "      <td>1515.0</td>\n",
       "      <td>1.98</td>\n",
       "      <td>1.21</td>\n",
       "      <td>0.38</td>\n",
       "      <td>1.31</td>\n",
       "      <td>1.71</td>\n",
       "      <td>2.28</td>\n",
       "      <td>12.46</td>\n",
       "    </tr>\n",
       "    <tr>\n",
       "      <th>MAPE Test</th>\n",
       "      <td>1515.0</td>\n",
       "      <td>0.05</td>\n",
       "      <td>0.03</td>\n",
       "      <td>0.01</td>\n",
       "      <td>0.03</td>\n",
       "      <td>0.04</td>\n",
       "      <td>0.05</td>\n",
       "      <td>0.30</td>\n",
       "    </tr>\n",
       "    <tr>\n",
       "      <th>R2 Test</th>\n",
       "      <td>1515.0</td>\n",
       "      <td>0.61</td>\n",
       "      <td>1.38</td>\n",
       "      <td>-21.80</td>\n",
       "      <td>0.70</td>\n",
       "      <td>0.84</td>\n",
       "      <td>0.91</td>\n",
       "      <td>0.99</td>\n",
       "    </tr>\n",
       "  </tbody>\n",
       "</table>\n",
       "</div>"
      ],
      "text/plain": [
       "            count  mean   std    min   25%   50%   75%    max\n",
       "RMSE Test  1515.0  2.89  2.32   0.45  1.75  2.36  3.25  28.17\n",
       "MAE Test   1515.0  1.98  1.21   0.38  1.31  1.71  2.28  12.46\n",
       "MAPE Test  1515.0  0.05  0.03   0.01  0.03  0.04  0.05   0.30\n",
       "R2 Test    1515.0  0.61  1.38 -21.80  0.70  0.84  0.91   0.99"
      ]
     },
     "execution_count": 33,
     "metadata": {},
     "output_type": "execute_result"
    },
    {
     "data": {
      "application/javascript": [
       "\n",
       "            setTimeout(function() {\n",
       "                var nbb_cell_id = 33;\n",
       "                var nbb_unformatted_code = \"df_full_203[[\\\"RMSE Test\\\", \\\"MAE Test\\\", \\\"MAPE Test\\\", \\\"R2 Test\\\"]].describe().round(2).T\";\n",
       "                var nbb_formatted_code = \"df_full_203[[\\\"RMSE Test\\\", \\\"MAE Test\\\", \\\"MAPE Test\\\", \\\"R2 Test\\\"]].describe().round(2).T\";\n",
       "                var nbb_cells = Jupyter.notebook.get_cells();\n",
       "                for (var i = 0; i < nbb_cells.length; ++i) {\n",
       "                    if (nbb_cells[i].input_prompt_number == nbb_cell_id) {\n",
       "                        if (nbb_cells[i].get_text() == nbb_unformatted_code) {\n",
       "                             nbb_cells[i].set_text(nbb_formatted_code);\n",
       "                        }\n",
       "                        break;\n",
       "                    }\n",
       "                }\n",
       "            }, 500);\n",
       "            "
      ],
      "text/plain": [
       "<IPython.core.display.Javascript object>"
      ]
     },
     "metadata": {},
     "output_type": "display_data"
    }
   ],
   "source": [
    "df_full_203[[\"RMSE Test\", \"MAE Test\", \"MAPE Test\", \"R2 Test\"]].describe().round(2).T"
   ]
  },
  {
   "cell_type": "code",
   "execution_count": 34,
   "id": "5ad27a9d",
   "metadata": {},
   "outputs": [
    {
     "data": {
      "text/html": [
       "<div>\n",
       "<style scoped>\n",
       "    .dataframe tbody tr th:only-of-type {\n",
       "        vertical-align: middle;\n",
       "    }\n",
       "\n",
       "    .dataframe tbody tr th {\n",
       "        vertical-align: top;\n",
       "    }\n",
       "\n",
       "    .dataframe thead th {\n",
       "        text-align: right;\n",
       "    }\n",
       "</style>\n",
       "<table border=\"1\" class=\"dataframe\">\n",
       "  <thead>\n",
       "    <tr style=\"text-align: right;\">\n",
       "      <th></th>\n",
       "      <th>count</th>\n",
       "      <th>mean</th>\n",
       "      <th>std</th>\n",
       "      <th>min</th>\n",
       "      <th>25%</th>\n",
       "      <th>50%</th>\n",
       "      <th>75%</th>\n",
       "      <th>max</th>\n",
       "    </tr>\n",
       "  </thead>\n",
       "  <tbody>\n",
       "    <tr>\n",
       "      <th>RMSE Test</th>\n",
       "      <td>1515.0</td>\n",
       "      <td>2.89</td>\n",
       "      <td>2.32</td>\n",
       "      <td>0.45</td>\n",
       "      <td>1.75</td>\n",
       "      <td>2.36</td>\n",
       "      <td>3.25</td>\n",
       "      <td>28.17</td>\n",
       "    </tr>\n",
       "    <tr>\n",
       "      <th>MAE Test</th>\n",
       "      <td>1515.0</td>\n",
       "      <td>1.98</td>\n",
       "      <td>1.21</td>\n",
       "      <td>0.38</td>\n",
       "      <td>1.31</td>\n",
       "      <td>1.71</td>\n",
       "      <td>2.28</td>\n",
       "      <td>12.46</td>\n",
       "    </tr>\n",
       "    <tr>\n",
       "      <th>MAPE Test</th>\n",
       "      <td>1515.0</td>\n",
       "      <td>0.05</td>\n",
       "      <td>0.03</td>\n",
       "      <td>0.01</td>\n",
       "      <td>0.03</td>\n",
       "      <td>0.04</td>\n",
       "      <td>0.05</td>\n",
       "      <td>0.30</td>\n",
       "    </tr>\n",
       "    <tr>\n",
       "      <th>R2 Test</th>\n",
       "      <td>1515.0</td>\n",
       "      <td>0.61</td>\n",
       "      <td>1.38</td>\n",
       "      <td>-21.80</td>\n",
       "      <td>0.70</td>\n",
       "      <td>0.84</td>\n",
       "      <td>0.91</td>\n",
       "      <td>0.99</td>\n",
       "    </tr>\n",
       "  </tbody>\n",
       "</table>\n",
       "</div>"
      ],
      "text/plain": [
       "            count  mean   std    min   25%   50%   75%    max\n",
       "RMSE Test  1515.0  2.89  2.32   0.45  1.75  2.36  3.25  28.17\n",
       "MAE Test   1515.0  1.98  1.21   0.38  1.31  1.71  2.28  12.46\n",
       "MAPE Test  1515.0  0.05  0.03   0.01  0.03  0.04  0.05   0.30\n",
       "R2 Test    1515.0  0.61  1.38 -21.80  0.70  0.84  0.91   0.99"
      ]
     },
     "execution_count": 34,
     "metadata": {},
     "output_type": "execute_result"
    },
    {
     "data": {
      "application/javascript": [
       "\n",
       "            setTimeout(function() {\n",
       "                var nbb_cell_id = 34;\n",
       "                var nbb_unformatted_code = \"df_full_203[[\\\"RMSE Test\\\", \\\"MAE Test\\\", \\\"MAPE Test\\\", \\\"R2 Test\\\"]].describe().round(2).T\";\n",
       "                var nbb_formatted_code = \"df_full_203[[\\\"RMSE Test\\\", \\\"MAE Test\\\", \\\"MAPE Test\\\", \\\"R2 Test\\\"]].describe().round(2).T\";\n",
       "                var nbb_cells = Jupyter.notebook.get_cells();\n",
       "                for (var i = 0; i < nbb_cells.length; ++i) {\n",
       "                    if (nbb_cells[i].input_prompt_number == nbb_cell_id) {\n",
       "                        if (nbb_cells[i].get_text() == nbb_unformatted_code) {\n",
       "                             nbb_cells[i].set_text(nbb_formatted_code);\n",
       "                        }\n",
       "                        break;\n",
       "                    }\n",
       "                }\n",
       "            }, 500);\n",
       "            "
      ],
      "text/plain": [
       "<IPython.core.display.Javascript object>"
      ]
     },
     "metadata": {},
     "output_type": "display_data"
    }
   ],
   "source": [
    "df_full_203[[\"RMSE Test\", \"MAE Test\", \"MAPE Test\", \"R2 Test\"]].describe().round(2).T"
   ]
  },
  {
   "cell_type": "markdown",
   "id": "373fd415",
   "metadata": {},
   "source": [
    "# Analysis (full results)"
   ]
  },
  {
   "cell_type": "code",
   "execution_count": 35,
   "id": "22f86f99",
   "metadata": {},
   "outputs": [
    {
     "data": {
      "application/javascript": [
       "\n",
       "            setTimeout(function() {\n",
       "                var nbb_cell_id = 35;\n",
       "                var nbb_unformatted_code = \"df_full_203 = df_full[~df_full[\\\"plant\\\"].isin([\\\"partner_i\\\", \\\"partner_ii\\\", \\\"partner_iv\\\"])].reset_index(\\n    drop=True\\n)\";\n",
       "                var nbb_formatted_code = \"df_full_203 = df_full[~df_full[\\\"plant\\\"].isin([\\\"partner_i\\\", \\\"partner_ii\\\", \\\"partner_iv\\\"])].reset_index(\\n    drop=True\\n)\";\n",
       "                var nbb_cells = Jupyter.notebook.get_cells();\n",
       "                for (var i = 0; i < nbb_cells.length; ++i) {\n",
       "                    if (nbb_cells[i].input_prompt_number == nbb_cell_id) {\n",
       "                        if (nbb_cells[i].get_text() == nbb_unformatted_code) {\n",
       "                             nbb_cells[i].set_text(nbb_formatted_code);\n",
       "                        }\n",
       "                        break;\n",
       "                    }\n",
       "                }\n",
       "            }, 500);\n",
       "            "
      ],
      "text/plain": [
       "<IPython.core.display.Javascript object>"
      ]
     },
     "metadata": {},
     "output_type": "display_data"
    }
   ],
   "source": [
    "df_full_203 = df_full[~df_full[\"plant\"].isin([\"partner_i\", \"partner_ii\", \"partner_iv\"])].reset_index(\n",
    "    drop=True\n",
    ")"
   ]
  },
  {
   "cell_type": "markdown",
   "id": "c8586bc1",
   "metadata": {},
   "source": [
    "## 203"
   ]
  },
  {
   "cell_type": "code",
   "execution_count": 36,
   "id": "6ef5741b",
   "metadata": {},
   "outputs": [
    {
     "data": {
      "text/plain": [
       "(1515, 24)"
      ]
     },
     "execution_count": 36,
     "metadata": {},
     "output_type": "execute_result"
    },
    {
     "data": {
      "application/javascript": [
       "\n",
       "            setTimeout(function() {\n",
       "                var nbb_cell_id = 36;\n",
       "                var nbb_unformatted_code = \"df_full_203.shape\";\n",
       "                var nbb_formatted_code = \"df_full_203.shape\";\n",
       "                var nbb_cells = Jupyter.notebook.get_cells();\n",
       "                for (var i = 0; i < nbb_cells.length; ++i) {\n",
       "                    if (nbb_cells[i].input_prompt_number == nbb_cell_id) {\n",
       "                        if (nbb_cells[i].get_text() == nbb_unformatted_code) {\n",
       "                             nbb_cells[i].set_text(nbb_formatted_code);\n",
       "                        }\n",
       "                        break;\n",
       "                    }\n",
       "                }\n",
       "            }, 500);\n",
       "            "
      ],
      "text/plain": [
       "<IPython.core.display.Javascript object>"
      ]
     },
     "metadata": {},
     "output_type": "display_data"
    }
   ],
   "source": [
    "df_full_203.shape"
   ]
  },
  {
   "cell_type": "code",
   "execution_count": 37,
   "id": "32830e1e",
   "metadata": {},
   "outputs": [
    {
     "data": {
      "text/plain": [
       "array([203])"
      ]
     },
     "execution_count": 37,
     "metadata": {},
     "output_type": "execute_result"
    },
    {
     "data": {
      "application/javascript": [
       "\n",
       "            setTimeout(function() {\n",
       "                var nbb_cell_id = 37;\n",
       "                var nbb_unformatted_code = \"df_full_203[\\\"Company\\\"].unique()\";\n",
       "                var nbb_formatted_code = \"df_full_203[\\\"Company\\\"].unique()\";\n",
       "                var nbb_cells = Jupyter.notebook.get_cells();\n",
       "                for (var i = 0; i < nbb_cells.length; ++i) {\n",
       "                    if (nbb_cells[i].input_prompt_number == nbb_cell_id) {\n",
       "                        if (nbb_cells[i].get_text() == nbb_unformatted_code) {\n",
       "                             nbb_cells[i].set_text(nbb_formatted_code);\n",
       "                        }\n",
       "                        break;\n",
       "                    }\n",
       "                }\n",
       "            }, 500);\n",
       "            "
      ],
      "text/plain": [
       "<IPython.core.display.Javascript object>"
      ]
     },
     "metadata": {},
     "output_type": "display_data"
    }
   ],
   "source": [
    "df_full_203[\"Company\"].unique()"
   ]
  },
  {
   "cell_type": "markdown",
   "id": "a4650ea3",
   "metadata": {},
   "source": [
    "### Variable Grouping: CM"
   ]
  },
  {
   "cell_type": "code",
   "execution_count": 38,
   "id": "69b15d30",
   "metadata": {},
   "outputs": [
    {
     "data": {
      "text/plain": [
       "array(['Chemical + Mineralogical + Physical - Early CS',\n",
       "       'Chemical + Mineralogical + Physical', 'Chemical + Mineralogical'],\n",
       "      dtype=object)"
      ]
     },
     "execution_count": 38,
     "metadata": {},
     "output_type": "execute_result"
    },
    {
     "data": {
      "application/javascript": [
       "\n",
       "            setTimeout(function() {\n",
       "                var nbb_cell_id = 38;\n",
       "                var nbb_unformatted_code = \"df_full_203[\\\"Features\\\"].unique()\";\n",
       "                var nbb_formatted_code = \"df_full_203[\\\"Features\\\"].unique()\";\n",
       "                var nbb_cells = Jupyter.notebook.get_cells();\n",
       "                for (var i = 0; i < nbb_cells.length; ++i) {\n",
       "                    if (nbb_cells[i].input_prompt_number == nbb_cell_id) {\n",
       "                        if (nbb_cells[i].get_text() == nbb_unformatted_code) {\n",
       "                             nbb_cells[i].set_text(nbb_formatted_code);\n",
       "                        }\n",
       "                        break;\n",
       "                    }\n",
       "                }\n",
       "            }, 500);\n",
       "            "
      ],
      "text/plain": [
       "<IPython.core.display.Javascript object>"
      ]
     },
     "metadata": {},
     "output_type": "display_data"
    }
   ],
   "source": [
    "df_full_203[\"Features\"].unique()"
   ]
  },
  {
   "cell_type": "code",
   "execution_count": 39,
   "id": "aecbab4e",
   "metadata": {},
   "outputs": [
    {
     "data": {
      "application/javascript": [
       "\n",
       "            setTimeout(function() {\n",
       "                var nbb_cell_id = 39;\n",
       "                var nbb_unformatted_code = \"df_results_full_cm = (\\n    df_full_203[df_full_203[\\\"Features\\\"].eq(\\\"Chemical + Mineralogical\\\")]\\n    .copy()\\n    .reset_index(drop=True)\\n)\";\n",
       "                var nbb_formatted_code = \"df_results_full_cm = (\\n    df_full_203[df_full_203[\\\"Features\\\"].eq(\\\"Chemical + Mineralogical\\\")]\\n    .copy()\\n    .reset_index(drop=True)\\n)\";\n",
       "                var nbb_cells = Jupyter.notebook.get_cells();\n",
       "                for (var i = 0; i < nbb_cells.length; ++i) {\n",
       "                    if (nbb_cells[i].input_prompt_number == nbb_cell_id) {\n",
       "                        if (nbb_cells[i].get_text() == nbb_unformatted_code) {\n",
       "                             nbb_cells[i].set_text(nbb_formatted_code);\n",
       "                        }\n",
       "                        break;\n",
       "                    }\n",
       "                }\n",
       "            }, 500);\n",
       "            "
      ],
      "text/plain": [
       "<IPython.core.display.Javascript object>"
      ]
     },
     "metadata": {},
     "output_type": "display_data"
    }
   ],
   "source": [
    "df_results_full_cm = (\n",
    "    df_full_203[df_full_203[\"Features\"].eq(\"Chemical + Mineralogical\")]\n",
    "    .copy()\n",
    "    .reset_index(drop=True)\n",
    ")"
   ]
  },
  {
   "cell_type": "code",
   "execution_count": 40,
   "id": "ef22b5b7",
   "metadata": {},
   "outputs": [
    {
     "data": {
      "text/plain": [
       "array(['Chemical + Mineralogical'], dtype=object)"
      ]
     },
     "execution_count": 40,
     "metadata": {},
     "output_type": "execute_result"
    },
    {
     "data": {
      "application/javascript": [
       "\n",
       "            setTimeout(function() {\n",
       "                var nbb_cell_id = 40;\n",
       "                var nbb_unformatted_code = \"df_results_full_cm[\\\"Features\\\"].unique()\";\n",
       "                var nbb_formatted_code = \"df_results_full_cm[\\\"Features\\\"].unique()\";\n",
       "                var nbb_cells = Jupyter.notebook.get_cells();\n",
       "                for (var i = 0; i < nbb_cells.length; ++i) {\n",
       "                    if (nbb_cells[i].input_prompt_number == nbb_cell_id) {\n",
       "                        if (nbb_cells[i].get_text() == nbb_unformatted_code) {\n",
       "                             nbb_cells[i].set_text(nbb_formatted_code);\n",
       "                        }\n",
       "                        break;\n",
       "                    }\n",
       "                }\n",
       "            }, 500);\n",
       "            "
      ],
      "text/plain": [
       "<IPython.core.display.Javascript object>"
      ]
     },
     "metadata": {},
     "output_type": "display_data"
    }
   ],
   "source": [
    "df_results_full_cm[\"Features\"].unique()"
   ]
  },
  {
   "cell_type": "code",
   "execution_count": 41,
   "id": "b36d578a",
   "metadata": {},
   "outputs": [
    {
     "data": {
      "text/plain": [
       "(520, 24)"
      ]
     },
     "execution_count": 41,
     "metadata": {},
     "output_type": "execute_result"
    },
    {
     "data": {
      "application/javascript": [
       "\n",
       "            setTimeout(function() {\n",
       "                var nbb_cell_id = 41;\n",
       "                var nbb_unformatted_code = \"df_results_full_cm.shape\";\n",
       "                var nbb_formatted_code = \"df_results_full_cm.shape\";\n",
       "                var nbb_cells = Jupyter.notebook.get_cells();\n",
       "                for (var i = 0; i < nbb_cells.length; ++i) {\n",
       "                    if (nbb_cells[i].input_prompt_number == nbb_cell_id) {\n",
       "                        if (nbb_cells[i].get_text() == nbb_unformatted_code) {\n",
       "                             nbb_cells[i].set_text(nbb_formatted_code);\n",
       "                        }\n",
       "                        break;\n",
       "                    }\n",
       "                }\n",
       "            }, 500);\n",
       "            "
      ],
      "text/plain": [
       "<IPython.core.display.Javascript object>"
      ]
     },
     "metadata": {},
     "output_type": "display_data"
    }
   ],
   "source": [
    "df_results_full_cm.shape"
   ]
  },
  {
   "cell_type": "markdown",
   "id": "38793043",
   "metadata": {},
   "source": [
    "#### K-Fold"
   ]
  },
  {
   "cell_type": "code",
   "execution_count": 42,
   "id": "f42ea390",
   "metadata": {},
   "outputs": [
    {
     "data": {
      "text/plain": [
       "array(['Blocking Time Series Split', 'Time Series Split'], dtype=object)"
      ]
     },
     "execution_count": 42,
     "metadata": {},
     "output_type": "execute_result"
    },
    {
     "data": {
      "application/javascript": [
       "\n",
       "            setTimeout(function() {\n",
       "                var nbb_cell_id = 42;\n",
       "                var nbb_unformatted_code = \"df_results_full_cm[\\\"Cross Validation\\\"].unique()\";\n",
       "                var nbb_formatted_code = \"df_results_full_cm[\\\"Cross Validation\\\"].unique()\";\n",
       "                var nbb_cells = Jupyter.notebook.get_cells();\n",
       "                for (var i = 0; i < nbb_cells.length; ++i) {\n",
       "                    if (nbb_cells[i].input_prompt_number == nbb_cell_id) {\n",
       "                        if (nbb_cells[i].get_text() == nbb_unformatted_code) {\n",
       "                             nbb_cells[i].set_text(nbb_formatted_code);\n",
       "                        }\n",
       "                        break;\n",
       "                    }\n",
       "                }\n",
       "            }, 500);\n",
       "            "
      ],
      "text/plain": [
       "<IPython.core.display.Javascript object>"
      ]
     },
     "metadata": {},
     "output_type": "display_data"
    }
   ],
   "source": [
    "df_results_full_cm[\"Cross Validation\"].unique()"
   ]
  },
  {
   "cell_type": "code",
   "execution_count": 43,
   "id": "4081dd6a",
   "metadata": {},
   "outputs": [
    {
     "data": {
      "application/javascript": [
       "\n",
       "            setTimeout(function() {\n",
       "                var nbb_cell_id = 43;\n",
       "                var nbb_unformatted_code = \"df_results_full_cm_kf = (\\n    df_results_full_cm[df_results_full_cm[\\\"Cross Validation\\\"].eq(\\\"Repeated KFold\\\")]\\n    .copy()\\n    .reset_index(drop=True)\\n)\";\n",
       "                var nbb_formatted_code = \"df_results_full_cm_kf = (\\n    df_results_full_cm[df_results_full_cm[\\\"Cross Validation\\\"].eq(\\\"Repeated KFold\\\")]\\n    .copy()\\n    .reset_index(drop=True)\\n)\";\n",
       "                var nbb_cells = Jupyter.notebook.get_cells();\n",
       "                for (var i = 0; i < nbb_cells.length; ++i) {\n",
       "                    if (nbb_cells[i].input_prompt_number == nbb_cell_id) {\n",
       "                        if (nbb_cells[i].get_text() == nbb_unformatted_code) {\n",
       "                             nbb_cells[i].set_text(nbb_formatted_code);\n",
       "                        }\n",
       "                        break;\n",
       "                    }\n",
       "                }\n",
       "            }, 500);\n",
       "            "
      ],
      "text/plain": [
       "<IPython.core.display.Javascript object>"
      ]
     },
     "metadata": {},
     "output_type": "display_data"
    }
   ],
   "source": [
    "df_results_full_cm_kf = (\n",
    "    df_results_full_cm[df_results_full_cm[\"Cross Validation\"].eq(\"Repeated KFold\")]\n",
    "    .copy()\n",
    "    .reset_index(drop=True)\n",
    ")"
   ]
  },
  {
   "cell_type": "code",
   "execution_count": 44,
   "id": "aa9f441b",
   "metadata": {},
   "outputs": [
    {
     "data": {
      "text/plain": [
       "array([], dtype=object)"
      ]
     },
     "execution_count": 44,
     "metadata": {},
     "output_type": "execute_result"
    },
    {
     "data": {
      "application/javascript": [
       "\n",
       "            setTimeout(function() {\n",
       "                var nbb_cell_id = 44;\n",
       "                var nbb_unformatted_code = \"df_results_full_cm_kf[\\\"Cross Validation\\\"].unique()\";\n",
       "                var nbb_formatted_code = \"df_results_full_cm_kf[\\\"Cross Validation\\\"].unique()\";\n",
       "                var nbb_cells = Jupyter.notebook.get_cells();\n",
       "                for (var i = 0; i < nbb_cells.length; ++i) {\n",
       "                    if (nbb_cells[i].input_prompt_number == nbb_cell_id) {\n",
       "                        if (nbb_cells[i].get_text() == nbb_unformatted_code) {\n",
       "                             nbb_cells[i].set_text(nbb_formatted_code);\n",
       "                        }\n",
       "                        break;\n",
       "                    }\n",
       "                }\n",
       "            }, 500);\n",
       "            "
      ],
      "text/plain": [
       "<IPython.core.display.Javascript object>"
      ]
     },
     "metadata": {},
     "output_type": "display_data"
    }
   ],
   "source": [
    "df_results_full_cm_kf[\"Cross Validation\"].unique()"
   ]
  },
  {
   "cell_type": "code",
   "execution_count": 45,
   "id": "1c25da6b",
   "metadata": {},
   "outputs": [
    {
     "data": {
      "text/plain": [
       "(0, 24)"
      ]
     },
     "execution_count": 45,
     "metadata": {},
     "output_type": "execute_result"
    },
    {
     "data": {
      "application/javascript": [
       "\n",
       "            setTimeout(function() {\n",
       "                var nbb_cell_id = 45;\n",
       "                var nbb_unformatted_code = \"df_results_full_cm_kf.shape\";\n",
       "                var nbb_formatted_code = \"df_results_full_cm_kf.shape\";\n",
       "                var nbb_cells = Jupyter.notebook.get_cells();\n",
       "                for (var i = 0; i < nbb_cells.length; ++i) {\n",
       "                    if (nbb_cells[i].input_prompt_number == nbb_cell_id) {\n",
       "                        if (nbb_cells[i].get_text() == nbb_unformatted_code) {\n",
       "                             nbb_cells[i].set_text(nbb_formatted_code);\n",
       "                        }\n",
       "                        break;\n",
       "                    }\n",
       "                }\n",
       "            }, 500);\n",
       "            "
      ],
      "text/plain": [
       "<IPython.core.display.Javascript object>"
      ]
     },
     "metadata": {},
     "output_type": "display_data"
    }
   ],
   "source": [
    "df_results_full_cm_kf.shape"
   ]
  },
  {
   "cell_type": "code",
   "execution_count": 46,
   "id": "ab30f2bc",
   "metadata": {},
   "outputs": [
    {
     "data": {
      "text/plain": [
       "(0,)"
      ]
     },
     "execution_count": 46,
     "metadata": {},
     "output_type": "execute_result"
    },
    {
     "data": {
      "application/javascript": [
       "\n",
       "            setTimeout(function() {\n",
       "                var nbb_cell_id = 46;\n",
       "                var nbb_unformatted_code = \"df_results_full_cm_kf.groupby([\\\"Company\\\", \\\"Model\\\", \\\"Timesteps\\\"], dropna=False)[\\n    \\\"RMSE Test\\\"\\n].mean().shape\";\n",
       "                var nbb_formatted_code = \"df_results_full_cm_kf.groupby([\\\"Company\\\", \\\"Model\\\", \\\"Timesteps\\\"], dropna=False)[\\n    \\\"RMSE Test\\\"\\n].mean().shape\";\n",
       "                var nbb_cells = Jupyter.notebook.get_cells();\n",
       "                for (var i = 0; i < nbb_cells.length; ++i) {\n",
       "                    if (nbb_cells[i].input_prompt_number == nbb_cell_id) {\n",
       "                        if (nbb_cells[i].get_text() == nbb_unformatted_code) {\n",
       "                             nbb_cells[i].set_text(nbb_formatted_code);\n",
       "                        }\n",
       "                        break;\n",
       "                    }\n",
       "                }\n",
       "            }, 500);\n",
       "            "
      ],
      "text/plain": [
       "<IPython.core.display.Javascript object>"
      ]
     },
     "metadata": {},
     "output_type": "display_data"
    }
   ],
   "source": [
    "df_results_full_cm_kf.groupby([\"Company\", \"Model\", \"Timesteps\"], dropna=False)[\n",
    "    \"RMSE Test\"\n",
    "].mean().shape"
   ]
  },
  {
   "cell_type": "markdown",
   "id": "104d1bf7",
   "metadata": {},
   "source": [
    "### Blocking time series"
   ]
  },
  {
   "cell_type": "code",
   "execution_count": 47,
   "id": "4345340a",
   "metadata": {},
   "outputs": [
    {
     "data": {
      "text/plain": [
       "array(['Blocking Time Series Split', 'Time Series Split'], dtype=object)"
      ]
     },
     "execution_count": 47,
     "metadata": {},
     "output_type": "execute_result"
    },
    {
     "data": {
      "application/javascript": [
       "\n",
       "            setTimeout(function() {\n",
       "                var nbb_cell_id = 47;\n",
       "                var nbb_unformatted_code = \"df_results_full_cm[\\\"Cross Validation\\\"].unique()\";\n",
       "                var nbb_formatted_code = \"df_results_full_cm[\\\"Cross Validation\\\"].unique()\";\n",
       "                var nbb_cells = Jupyter.notebook.get_cells();\n",
       "                for (var i = 0; i < nbb_cells.length; ++i) {\n",
       "                    if (nbb_cells[i].input_prompt_number == nbb_cell_id) {\n",
       "                        if (nbb_cells[i].get_text() == nbb_unformatted_code) {\n",
       "                             nbb_cells[i].set_text(nbb_formatted_code);\n",
       "                        }\n",
       "                        break;\n",
       "                    }\n",
       "                }\n",
       "            }, 500);\n",
       "            "
      ],
      "text/plain": [
       "<IPython.core.display.Javascript object>"
      ]
     },
     "metadata": {},
     "output_type": "display_data"
    }
   ],
   "source": [
    "df_results_full_cm[\"Cross Validation\"].unique()"
   ]
  },
  {
   "cell_type": "code",
   "execution_count": 48,
   "id": "4a13ef0d",
   "metadata": {},
   "outputs": [
    {
     "data": {
      "application/javascript": [
       "\n",
       "            setTimeout(function() {\n",
       "                var nbb_cell_id = 48;\n",
       "                var nbb_unformatted_code = \"df_results_full_cm_btss = (\\n    df_results_full_cm[\\n        df_results_full_cm[\\\"Cross Validation\\\"].eq(\\\"Blocking Time Series Split\\\")\\n    ]\\n    .copy()\\n    .reset_index(drop=True)\\n)\";\n",
       "                var nbb_formatted_code = \"df_results_full_cm_btss = (\\n    df_results_full_cm[\\n        df_results_full_cm[\\\"Cross Validation\\\"].eq(\\\"Blocking Time Series Split\\\")\\n    ]\\n    .copy()\\n    .reset_index(drop=True)\\n)\";\n",
       "                var nbb_cells = Jupyter.notebook.get_cells();\n",
       "                for (var i = 0; i < nbb_cells.length; ++i) {\n",
       "                    if (nbb_cells[i].input_prompt_number == nbb_cell_id) {\n",
       "                        if (nbb_cells[i].get_text() == nbb_unformatted_code) {\n",
       "                             nbb_cells[i].set_text(nbb_formatted_code);\n",
       "                        }\n",
       "                        break;\n",
       "                    }\n",
       "                }\n",
       "            }, 500);\n",
       "            "
      ],
      "text/plain": [
       "<IPython.core.display.Javascript object>"
      ]
     },
     "metadata": {},
     "output_type": "display_data"
    }
   ],
   "source": [
    "df_results_full_cm_btss = (\n",
    "    df_results_full_cm[\n",
    "        df_results_full_cm[\"Cross Validation\"].eq(\"Blocking Time Series Split\")\n",
    "    ]\n",
    "    .copy()\n",
    "    .reset_index(drop=True)\n",
    ")"
   ]
  },
  {
   "cell_type": "code",
   "execution_count": 49,
   "id": "afebc9db",
   "metadata": {},
   "outputs": [
    {
     "data": {
      "text/plain": [
       "array(['Blocking Time Series Split'], dtype=object)"
      ]
     },
     "execution_count": 49,
     "metadata": {},
     "output_type": "execute_result"
    },
    {
     "data": {
      "application/javascript": [
       "\n",
       "            setTimeout(function() {\n",
       "                var nbb_cell_id = 49;\n",
       "                var nbb_unformatted_code = \"df_results_full_cm_btss[\\\"Cross Validation\\\"].unique()\";\n",
       "                var nbb_formatted_code = \"df_results_full_cm_btss[\\\"Cross Validation\\\"].unique()\";\n",
       "                var nbb_cells = Jupyter.notebook.get_cells();\n",
       "                for (var i = 0; i < nbb_cells.length; ++i) {\n",
       "                    if (nbb_cells[i].input_prompt_number == nbb_cell_id) {\n",
       "                        if (nbb_cells[i].get_text() == nbb_unformatted_code) {\n",
       "                             nbb_cells[i].set_text(nbb_formatted_code);\n",
       "                        }\n",
       "                        break;\n",
       "                    }\n",
       "                }\n",
       "            }, 500);\n",
       "            "
      ],
      "text/plain": [
       "<IPython.core.display.Javascript object>"
      ]
     },
     "metadata": {},
     "output_type": "display_data"
    }
   ],
   "source": [
    "df_results_full_cm_btss[\"Cross Validation\"].unique()"
   ]
  },
  {
   "cell_type": "code",
   "execution_count": 50,
   "id": "56c1b3c3",
   "metadata": {},
   "outputs": [
    {
     "data": {
      "text/plain": [
       "(260, 24)"
      ]
     },
     "execution_count": 50,
     "metadata": {},
     "output_type": "execute_result"
    },
    {
     "data": {
      "application/javascript": [
       "\n",
       "            setTimeout(function() {\n",
       "                var nbb_cell_id = 50;\n",
       "                var nbb_unformatted_code = \"df_results_full_cm_btss.shape\";\n",
       "                var nbb_formatted_code = \"df_results_full_cm_btss.shape\";\n",
       "                var nbb_cells = Jupyter.notebook.get_cells();\n",
       "                for (var i = 0; i < nbb_cells.length; ++i) {\n",
       "                    if (nbb_cells[i].input_prompt_number == nbb_cell_id) {\n",
       "                        if (nbb_cells[i].get_text() == nbb_unformatted_code) {\n",
       "                             nbb_cells[i].set_text(nbb_formatted_code);\n",
       "                        }\n",
       "                        break;\n",
       "                    }\n",
       "                }\n",
       "            }, 500);\n",
       "            "
      ],
      "text/plain": [
       "<IPython.core.display.Javascript object>"
      ]
     },
     "metadata": {},
     "output_type": "display_data"
    }
   ],
   "source": [
    "df_results_full_cm_btss.shape"
   ]
  },
  {
   "cell_type": "code",
   "execution_count": 51,
   "id": "122a15a1",
   "metadata": {},
   "outputs": [
    {
     "data": {
      "text/plain": [
       "(20,)"
      ]
     },
     "execution_count": 51,
     "metadata": {},
     "output_type": "execute_result"
    },
    {
     "data": {
      "application/javascript": [
       "\n",
       "            setTimeout(function() {\n",
       "                var nbb_cell_id = 51;\n",
       "                var nbb_unformatted_code = \"df_results_full_cm_btss.groupby(\\n    [\\\"Company\\\", \\\"Plant\\\", \\\"Model\\\", \\\"Timesteps\\\"], dropna=False\\n)[\\\"RMSE Test\\\"].mean().shape\";\n",
       "                var nbb_formatted_code = \"df_results_full_cm_btss.groupby(\\n    [\\\"Company\\\", \\\"Plant\\\", \\\"Model\\\", \\\"Timesteps\\\"], dropna=False\\n)[\\\"RMSE Test\\\"].mean().shape\";\n",
       "                var nbb_cells = Jupyter.notebook.get_cells();\n",
       "                for (var i = 0; i < nbb_cells.length; ++i) {\n",
       "                    if (nbb_cells[i].input_prompt_number == nbb_cell_id) {\n",
       "                        if (nbb_cells[i].get_text() == nbb_unformatted_code) {\n",
       "                             nbb_cells[i].set_text(nbb_formatted_code);\n",
       "                        }\n",
       "                        break;\n",
       "                    }\n",
       "                }\n",
       "            }, 500);\n",
       "            "
      ],
      "text/plain": [
       "<IPython.core.display.Javascript object>"
      ]
     },
     "metadata": {},
     "output_type": "display_data"
    }
   ],
   "source": [
    "df_results_full_cm_btss.groupby(\n",
    "    [\"Company\", \"Plant\", \"Model\", \"Timesteps\"], dropna=False\n",
    ")[\"RMSE Test\"].mean().shape"
   ]
  },
  {
   "cell_type": "markdown",
   "id": "2f3b57a3",
   "metadata": {},
   "source": [
    "### Time Series Split"
   ]
  },
  {
   "cell_type": "code",
   "execution_count": 52,
   "id": "088c5380",
   "metadata": {},
   "outputs": [
    {
     "data": {
      "text/plain": [
       "array(['Blocking Time Series Split', 'Time Series Split'], dtype=object)"
      ]
     },
     "execution_count": 52,
     "metadata": {},
     "output_type": "execute_result"
    },
    {
     "data": {
      "application/javascript": [
       "\n",
       "            setTimeout(function() {\n",
       "                var nbb_cell_id = 52;\n",
       "                var nbb_unformatted_code = \"df_results_full_cm[\\\"Cross Validation\\\"].unique()\";\n",
       "                var nbb_formatted_code = \"df_results_full_cm[\\\"Cross Validation\\\"].unique()\";\n",
       "                var nbb_cells = Jupyter.notebook.get_cells();\n",
       "                for (var i = 0; i < nbb_cells.length; ++i) {\n",
       "                    if (nbb_cells[i].input_prompt_number == nbb_cell_id) {\n",
       "                        if (nbb_cells[i].get_text() == nbb_unformatted_code) {\n",
       "                             nbb_cells[i].set_text(nbb_formatted_code);\n",
       "                        }\n",
       "                        break;\n",
       "                    }\n",
       "                }\n",
       "            }, 500);\n",
       "            "
      ],
      "text/plain": [
       "<IPython.core.display.Javascript object>"
      ]
     },
     "metadata": {},
     "output_type": "display_data"
    }
   ],
   "source": [
    "df_results_full_cm[\"Cross Validation\"].unique()"
   ]
  },
  {
   "cell_type": "code",
   "execution_count": 53,
   "id": "53f39541",
   "metadata": {},
   "outputs": [
    {
     "data": {
      "application/javascript": [
       "\n",
       "            setTimeout(function() {\n",
       "                var nbb_cell_id = 53;\n",
       "                var nbb_unformatted_code = \"df_results_full_cm_tss = (\\n    df_results_full_cm[df_results_full_cm[\\\"Cross Validation\\\"].eq(\\\"Time Series Split\\\")]\\n    .copy()\\n    .reset_index(drop=True)\\n)\";\n",
       "                var nbb_formatted_code = \"df_results_full_cm_tss = (\\n    df_results_full_cm[df_results_full_cm[\\\"Cross Validation\\\"].eq(\\\"Time Series Split\\\")]\\n    .copy()\\n    .reset_index(drop=True)\\n)\";\n",
       "                var nbb_cells = Jupyter.notebook.get_cells();\n",
       "                for (var i = 0; i < nbb_cells.length; ++i) {\n",
       "                    if (nbb_cells[i].input_prompt_number == nbb_cell_id) {\n",
       "                        if (nbb_cells[i].get_text() == nbb_unformatted_code) {\n",
       "                             nbb_cells[i].set_text(nbb_formatted_code);\n",
       "                        }\n",
       "                        break;\n",
       "                    }\n",
       "                }\n",
       "            }, 500);\n",
       "            "
      ],
      "text/plain": [
       "<IPython.core.display.Javascript object>"
      ]
     },
     "metadata": {},
     "output_type": "display_data"
    }
   ],
   "source": [
    "df_results_full_cm_tss = (\n",
    "    df_results_full_cm[df_results_full_cm[\"Cross Validation\"].eq(\"Time Series Split\")]\n",
    "    .copy()\n",
    "    .reset_index(drop=True)\n",
    ")"
   ]
  },
  {
   "cell_type": "code",
   "execution_count": 54,
   "id": "75bca975",
   "metadata": {},
   "outputs": [
    {
     "data": {
      "text/plain": [
       "array(['Time Series Split'], dtype=object)"
      ]
     },
     "execution_count": 54,
     "metadata": {},
     "output_type": "execute_result"
    },
    {
     "data": {
      "application/javascript": [
       "\n",
       "            setTimeout(function() {\n",
       "                var nbb_cell_id = 54;\n",
       "                var nbb_unformatted_code = \"df_results_full_cm_tss[\\\"Cross Validation\\\"].unique()\";\n",
       "                var nbb_formatted_code = \"df_results_full_cm_tss[\\\"Cross Validation\\\"].unique()\";\n",
       "                var nbb_cells = Jupyter.notebook.get_cells();\n",
       "                for (var i = 0; i < nbb_cells.length; ++i) {\n",
       "                    if (nbb_cells[i].input_prompt_number == nbb_cell_id) {\n",
       "                        if (nbb_cells[i].get_text() == nbb_unformatted_code) {\n",
       "                             nbb_cells[i].set_text(nbb_formatted_code);\n",
       "                        }\n",
       "                        break;\n",
       "                    }\n",
       "                }\n",
       "            }, 500);\n",
       "            "
      ],
      "text/plain": [
       "<IPython.core.display.Javascript object>"
      ]
     },
     "metadata": {},
     "output_type": "display_data"
    }
   ],
   "source": [
    "df_results_full_cm_tss[\"Cross Validation\"].unique()"
   ]
  },
  {
   "cell_type": "code",
   "execution_count": 55,
   "id": "32b900f8",
   "metadata": {},
   "outputs": [
    {
     "data": {
      "text/plain": [
       "(260, 24)"
      ]
     },
     "execution_count": 55,
     "metadata": {},
     "output_type": "execute_result"
    },
    {
     "data": {
      "application/javascript": [
       "\n",
       "            setTimeout(function() {\n",
       "                var nbb_cell_id = 55;\n",
       "                var nbb_unformatted_code = \"df_results_full_cm_tss.shape\";\n",
       "                var nbb_formatted_code = \"df_results_full_cm_tss.shape\";\n",
       "                var nbb_cells = Jupyter.notebook.get_cells();\n",
       "                for (var i = 0; i < nbb_cells.length; ++i) {\n",
       "                    if (nbb_cells[i].input_prompt_number == nbb_cell_id) {\n",
       "                        if (nbb_cells[i].get_text() == nbb_unformatted_code) {\n",
       "                             nbb_cells[i].set_text(nbb_formatted_code);\n",
       "                        }\n",
       "                        break;\n",
       "                    }\n",
       "                }\n",
       "            }, 500);\n",
       "            "
      ],
      "text/plain": [
       "<IPython.core.display.Javascript object>"
      ]
     },
     "metadata": {},
     "output_type": "display_data"
    }
   ],
   "source": [
    "df_results_full_cm_tss.shape"
   ]
  },
  {
   "cell_type": "code",
   "execution_count": 56,
   "id": "d3068137",
   "metadata": {},
   "outputs": [
    {
     "data": {
      "text/plain": [
       "(20,)"
      ]
     },
     "execution_count": 56,
     "metadata": {},
     "output_type": "execute_result"
    },
    {
     "data": {
      "application/javascript": [
       "\n",
       "            setTimeout(function() {\n",
       "                var nbb_cell_id = 56;\n",
       "                var nbb_unformatted_code = \"df_results_full_cm_tss.groupby(\\n    [\\\"Company\\\", \\\"Plant\\\", \\\"Model\\\", \\\"Timesteps\\\"], dropna=False\\n)[\\\"RMSE Test\\\"].mean().shape\";\n",
       "                var nbb_formatted_code = \"df_results_full_cm_tss.groupby(\\n    [\\\"Company\\\", \\\"Plant\\\", \\\"Model\\\", \\\"Timesteps\\\"], dropna=False\\n)[\\\"RMSE Test\\\"].mean().shape\";\n",
       "                var nbb_cells = Jupyter.notebook.get_cells();\n",
       "                for (var i = 0; i < nbb_cells.length; ++i) {\n",
       "                    if (nbb_cells[i].input_prompt_number == nbb_cell_id) {\n",
       "                        if (nbb_cells[i].get_text() == nbb_unformatted_code) {\n",
       "                             nbb_cells[i].set_text(nbb_formatted_code);\n",
       "                        }\n",
       "                        break;\n",
       "                    }\n",
       "                }\n",
       "            }, 500);\n",
       "            "
      ],
      "text/plain": [
       "<IPython.core.display.Javascript object>"
      ]
     },
     "metadata": {},
     "output_type": "display_data"
    }
   ],
   "source": [
    "df_results_full_cm_tss.groupby(\n",
    "    [\"Company\", \"Plant\", \"Model\", \"Timesteps\"], dropna=False\n",
    ")[\"RMSE Test\"].mean().shape"
   ]
  },
  {
   "cell_type": "markdown",
   "id": "bd78bb4d",
   "metadata": {},
   "source": [
    "### Variable Grouping: CM-P"
   ]
  },
  {
   "cell_type": "code",
   "execution_count": 57,
   "id": "adf1b618",
   "metadata": {},
   "outputs": [
    {
     "data": {
      "text/plain": [
       "array(['Chemical + Mineralogical + Physical - Early CS',\n",
       "       'Chemical + Mineralogical + Physical', 'Chemical + Mineralogical'],\n",
       "      dtype=object)"
      ]
     },
     "execution_count": 57,
     "metadata": {},
     "output_type": "execute_result"
    },
    {
     "data": {
      "application/javascript": [
       "\n",
       "            setTimeout(function() {\n",
       "                var nbb_cell_id = 57;\n",
       "                var nbb_unformatted_code = \"df_full_203[\\\"Features\\\"].unique()\";\n",
       "                var nbb_formatted_code = \"df_full_203[\\\"Features\\\"].unique()\";\n",
       "                var nbb_cells = Jupyter.notebook.get_cells();\n",
       "                for (var i = 0; i < nbb_cells.length; ++i) {\n",
       "                    if (nbb_cells[i].input_prompt_number == nbb_cell_id) {\n",
       "                        if (nbb_cells[i].get_text() == nbb_unformatted_code) {\n",
       "                             nbb_cells[i].set_text(nbb_formatted_code);\n",
       "                        }\n",
       "                        break;\n",
       "                    }\n",
       "                }\n",
       "            }, 500);\n",
       "            "
      ],
      "text/plain": [
       "<IPython.core.display.Javascript object>"
      ]
     },
     "metadata": {},
     "output_type": "display_data"
    }
   ],
   "source": [
    "df_full_203[\"Features\"].unique()"
   ]
  },
  {
   "cell_type": "code",
   "execution_count": 58,
   "id": "8a88f79c",
   "metadata": {},
   "outputs": [
    {
     "data": {
      "application/javascript": [
       "\n",
       "            setTimeout(function() {\n",
       "                var nbb_cell_id = 58;\n",
       "                var nbb_unformatted_code = \"df_results_full_cm_p = (\\n    df_full_203[\\n        df_full_203[\\\"Features\\\"].eq(\\\"Chemical + Mineralogical + Physical - Early CS\\\")\\n    ]\\n    .copy()\\n    .reset_index(drop=True)\\n)\";\n",
       "                var nbb_formatted_code = \"df_results_full_cm_p = (\\n    df_full_203[\\n        df_full_203[\\\"Features\\\"].eq(\\\"Chemical + Mineralogical + Physical - Early CS\\\")\\n    ]\\n    .copy()\\n    .reset_index(drop=True)\\n)\";\n",
       "                var nbb_cells = Jupyter.notebook.get_cells();\n",
       "                for (var i = 0; i < nbb_cells.length; ++i) {\n",
       "                    if (nbb_cells[i].input_prompt_number == nbb_cell_id) {\n",
       "                        if (nbb_cells[i].get_text() == nbb_unformatted_code) {\n",
       "                             nbb_cells[i].set_text(nbb_formatted_code);\n",
       "                        }\n",
       "                        break;\n",
       "                    }\n",
       "                }\n",
       "            }, 500);\n",
       "            "
      ],
      "text/plain": [
       "<IPython.core.display.Javascript object>"
      ]
     },
     "metadata": {},
     "output_type": "display_data"
    }
   ],
   "source": [
    "df_results_full_cm_p = (\n",
    "    df_full_203[\n",
    "        df_full_203[\"Features\"].eq(\"Chemical + Mineralogical + Physical - Early CS\")\n",
    "    ]\n",
    "    .copy()\n",
    "    .reset_index(drop=True)\n",
    ")"
   ]
  },
  {
   "cell_type": "code",
   "execution_count": 59,
   "id": "352f7ca8",
   "metadata": {},
   "outputs": [
    {
     "data": {
      "text/plain": [
       "array(['Chemical + Mineralogical + Physical - Early CS'], dtype=object)"
      ]
     },
     "execution_count": 59,
     "metadata": {},
     "output_type": "execute_result"
    },
    {
     "data": {
      "application/javascript": [
       "\n",
       "            setTimeout(function() {\n",
       "                var nbb_cell_id = 59;\n",
       "                var nbb_unformatted_code = \"df_results_full_cm_p[\\\"Features\\\"].unique()\";\n",
       "                var nbb_formatted_code = \"df_results_full_cm_p[\\\"Features\\\"].unique()\";\n",
       "                var nbb_cells = Jupyter.notebook.get_cells();\n",
       "                for (var i = 0; i < nbb_cells.length; ++i) {\n",
       "                    if (nbb_cells[i].input_prompt_number == nbb_cell_id) {\n",
       "                        if (nbb_cells[i].get_text() == nbb_unformatted_code) {\n",
       "                             nbb_cells[i].set_text(nbb_formatted_code);\n",
       "                        }\n",
       "                        break;\n",
       "                    }\n",
       "                }\n",
       "            }, 500);\n",
       "            "
      ],
      "text/plain": [
       "<IPython.core.display.Javascript object>"
      ]
     },
     "metadata": {},
     "output_type": "display_data"
    }
   ],
   "source": [
    "df_results_full_cm_p[\"Features\"].unique()"
   ]
  },
  {
   "cell_type": "code",
   "execution_count": 60,
   "id": "56297a27",
   "metadata": {},
   "outputs": [
    {
     "data": {
      "text/plain": [
       "(520, 24)"
      ]
     },
     "execution_count": 60,
     "metadata": {},
     "output_type": "execute_result"
    },
    {
     "data": {
      "application/javascript": [
       "\n",
       "            setTimeout(function() {\n",
       "                var nbb_cell_id = 60;\n",
       "                var nbb_unformatted_code = \"df_results_full_cm_p.shape\";\n",
       "                var nbb_formatted_code = \"df_results_full_cm_p.shape\";\n",
       "                var nbb_cells = Jupyter.notebook.get_cells();\n",
       "                for (var i = 0; i < nbb_cells.length; ++i) {\n",
       "                    if (nbb_cells[i].input_prompt_number == nbb_cell_id) {\n",
       "                        if (nbb_cells[i].get_text() == nbb_unformatted_code) {\n",
       "                             nbb_cells[i].set_text(nbb_formatted_code);\n",
       "                        }\n",
       "                        break;\n",
       "                    }\n",
       "                }\n",
       "            }, 500);\n",
       "            "
      ],
      "text/plain": [
       "<IPython.core.display.Javascript object>"
      ]
     },
     "metadata": {},
     "output_type": "display_data"
    }
   ],
   "source": [
    "df_results_full_cm_p.shape"
   ]
  },
  {
   "cell_type": "markdown",
   "id": "2780c6bb",
   "metadata": {},
   "source": [
    "### K-Fold"
   ]
  },
  {
   "cell_type": "code",
   "execution_count": 61,
   "id": "0dc51fd4",
   "metadata": {},
   "outputs": [
    {
     "data": {
      "application/javascript": [
       "\n",
       "            setTimeout(function() {\n",
       "                var nbb_cell_id = 61;\n",
       "                var nbb_unformatted_code = \"# df_results_full_cm_p[\\\"Cross Validation\\\"].unique()\";\n",
       "                var nbb_formatted_code = \"# df_results_full_cm_p[\\\"Cross Validation\\\"].unique()\";\n",
       "                var nbb_cells = Jupyter.notebook.get_cells();\n",
       "                for (var i = 0; i < nbb_cells.length; ++i) {\n",
       "                    if (nbb_cells[i].input_prompt_number == nbb_cell_id) {\n",
       "                        if (nbb_cells[i].get_text() == nbb_unformatted_code) {\n",
       "                             nbb_cells[i].set_text(nbb_formatted_code);\n",
       "                        }\n",
       "                        break;\n",
       "                    }\n",
       "                }\n",
       "            }, 500);\n",
       "            "
      ],
      "text/plain": [
       "<IPython.core.display.Javascript object>"
      ]
     },
     "metadata": {},
     "output_type": "display_data"
    }
   ],
   "source": [
    "# df_results_full_cm_p[\"Cross Validation\"].unique()"
   ]
  },
  {
   "cell_type": "code",
   "execution_count": 62,
   "id": "820d3853",
   "metadata": {},
   "outputs": [
    {
     "data": {
      "application/javascript": [
       "\n",
       "            setTimeout(function() {\n",
       "                var nbb_cell_id = 62;\n",
       "                var nbb_unformatted_code = \"# df_results_full_cm_p_kf = (\\n#     df_results_full_cm_p[df_results_full_cm_p[\\\"Cross Validation\\\"].eq(\\\"Repeated KFold\\\")]\\n#     .copy()\\n#     .reset_index(drop=True)\\n# )\";\n",
       "                var nbb_formatted_code = \"# df_results_full_cm_p_kf = (\\n#     df_results_full_cm_p[df_results_full_cm_p[\\\"Cross Validation\\\"].eq(\\\"Repeated KFold\\\")]\\n#     .copy()\\n#     .reset_index(drop=True)\\n# )\";\n",
       "                var nbb_cells = Jupyter.notebook.get_cells();\n",
       "                for (var i = 0; i < nbb_cells.length; ++i) {\n",
       "                    if (nbb_cells[i].input_prompt_number == nbb_cell_id) {\n",
       "                        if (nbb_cells[i].get_text() == nbb_unformatted_code) {\n",
       "                             nbb_cells[i].set_text(nbb_formatted_code);\n",
       "                        }\n",
       "                        break;\n",
       "                    }\n",
       "                }\n",
       "            }, 500);\n",
       "            "
      ],
      "text/plain": [
       "<IPython.core.display.Javascript object>"
      ]
     },
     "metadata": {},
     "output_type": "display_data"
    }
   ],
   "source": [
    "# df_results_full_cm_p_kf = (\n",
    "#     df_results_full_cm_p[df_results_full_cm_p[\"Cross Validation\"].eq(\"Repeated KFold\")]\n",
    "#     .copy()\n",
    "#     .reset_index(drop=True)\n",
    "# )"
   ]
  },
  {
   "cell_type": "code",
   "execution_count": 63,
   "id": "81f8c8c7",
   "metadata": {},
   "outputs": [
    {
     "data": {
      "application/javascript": [
       "\n",
       "            setTimeout(function() {\n",
       "                var nbb_cell_id = 63;\n",
       "                var nbb_unformatted_code = \"# df_results_full_cm_p_kf[\\\"Cross Validation\\\"].unique()\";\n",
       "                var nbb_formatted_code = \"# df_results_full_cm_p_kf[\\\"Cross Validation\\\"].unique()\";\n",
       "                var nbb_cells = Jupyter.notebook.get_cells();\n",
       "                for (var i = 0; i < nbb_cells.length; ++i) {\n",
       "                    if (nbb_cells[i].input_prompt_number == nbb_cell_id) {\n",
       "                        if (nbb_cells[i].get_text() == nbb_unformatted_code) {\n",
       "                             nbb_cells[i].set_text(nbb_formatted_code);\n",
       "                        }\n",
       "                        break;\n",
       "                    }\n",
       "                }\n",
       "            }, 500);\n",
       "            "
      ],
      "text/plain": [
       "<IPython.core.display.Javascript object>"
      ]
     },
     "metadata": {},
     "output_type": "display_data"
    }
   ],
   "source": [
    "# df_results_full_cm_p_kf[\"Cross Validation\"].unique()"
   ]
  },
  {
   "cell_type": "code",
   "execution_count": 64,
   "id": "28fa2f1d",
   "metadata": {},
   "outputs": [
    {
     "data": {
      "application/javascript": [
       "\n",
       "            setTimeout(function() {\n",
       "                var nbb_cell_id = 64;\n",
       "                var nbb_unformatted_code = \"# df_results_full_cm_p_kf.shape\";\n",
       "                var nbb_formatted_code = \"# df_results_full_cm_p_kf.shape\";\n",
       "                var nbb_cells = Jupyter.notebook.get_cells();\n",
       "                for (var i = 0; i < nbb_cells.length; ++i) {\n",
       "                    if (nbb_cells[i].input_prompt_number == nbb_cell_id) {\n",
       "                        if (nbb_cells[i].get_text() == nbb_unformatted_code) {\n",
       "                             nbb_cells[i].set_text(nbb_formatted_code);\n",
       "                        }\n",
       "                        break;\n",
       "                    }\n",
       "                }\n",
       "            }, 500);\n",
       "            "
      ],
      "text/plain": [
       "<IPython.core.display.Javascript object>"
      ]
     },
     "metadata": {},
     "output_type": "display_data"
    }
   ],
   "source": [
    "# df_results_full_cm_p_kf.shape"
   ]
  },
  {
   "cell_type": "code",
   "execution_count": 65,
   "id": "3afcfa29",
   "metadata": {},
   "outputs": [
    {
     "data": {
      "application/javascript": [
       "\n",
       "            setTimeout(function() {\n",
       "                var nbb_cell_id = 65;\n",
       "                var nbb_unformatted_code = \"# df_results_full_cm_kf.groupby([\\\"Company\\\", \\\"Model\\\", \\\"Timesteps\\\"], dropna=False)[\\n#     \\\"RMSE Test\\\"\\n# ].mean().shape\";\n",
       "                var nbb_formatted_code = \"# df_results_full_cm_kf.groupby([\\\"Company\\\", \\\"Model\\\", \\\"Timesteps\\\"], dropna=False)[\\n#     \\\"RMSE Test\\\"\\n# ].mean().shape\";\n",
       "                var nbb_cells = Jupyter.notebook.get_cells();\n",
       "                for (var i = 0; i < nbb_cells.length; ++i) {\n",
       "                    if (nbb_cells[i].input_prompt_number == nbb_cell_id) {\n",
       "                        if (nbb_cells[i].get_text() == nbb_unformatted_code) {\n",
       "                             nbb_cells[i].set_text(nbb_formatted_code);\n",
       "                        }\n",
       "                        break;\n",
       "                    }\n",
       "                }\n",
       "            }, 500);\n",
       "            "
      ],
      "text/plain": [
       "<IPython.core.display.Javascript object>"
      ]
     },
     "metadata": {},
     "output_type": "display_data"
    }
   ],
   "source": [
    "# df_results_full_cm_kf.groupby([\"Company\", \"Model\", \"Timesteps\"], dropna=False)[\n",
    "#     \"RMSE Test\"\n",
    "# ].mean().shape"
   ]
  },
  {
   "cell_type": "markdown",
   "id": "6c69bb9d",
   "metadata": {},
   "source": [
    "### Blocking time series"
   ]
  },
  {
   "cell_type": "code",
   "execution_count": 66,
   "id": "defa57c3",
   "metadata": {},
   "outputs": [
    {
     "data": {
      "text/plain": [
       "array(['Blocking Time Series Split', 'Time Series Split'], dtype=object)"
      ]
     },
     "execution_count": 66,
     "metadata": {},
     "output_type": "execute_result"
    },
    {
     "data": {
      "application/javascript": [
       "\n",
       "            setTimeout(function() {\n",
       "                var nbb_cell_id = 66;\n",
       "                var nbb_unformatted_code = \"df_results_full_cm_p[\\\"Cross Validation\\\"].unique()\";\n",
       "                var nbb_formatted_code = \"df_results_full_cm_p[\\\"Cross Validation\\\"].unique()\";\n",
       "                var nbb_cells = Jupyter.notebook.get_cells();\n",
       "                for (var i = 0; i < nbb_cells.length; ++i) {\n",
       "                    if (nbb_cells[i].input_prompt_number == nbb_cell_id) {\n",
       "                        if (nbb_cells[i].get_text() == nbb_unformatted_code) {\n",
       "                             nbb_cells[i].set_text(nbb_formatted_code);\n",
       "                        }\n",
       "                        break;\n",
       "                    }\n",
       "                }\n",
       "            }, 500);\n",
       "            "
      ],
      "text/plain": [
       "<IPython.core.display.Javascript object>"
      ]
     },
     "metadata": {},
     "output_type": "display_data"
    }
   ],
   "source": [
    "df_results_full_cm_p[\"Cross Validation\"].unique()"
   ]
  },
  {
   "cell_type": "code",
   "execution_count": 67,
   "id": "864aab26",
   "metadata": {},
   "outputs": [
    {
     "data": {
      "application/javascript": [
       "\n",
       "            setTimeout(function() {\n",
       "                var nbb_cell_id = 67;\n",
       "                var nbb_unformatted_code = \"df_results_full_cm_p_btss = (\\n    df_results_full_cm_p[\\n        df_results_full_cm_p[\\\"Cross Validation\\\"].eq(\\\"Blocking Time Series Split\\\")\\n    ]\\n    .copy()\\n    .reset_index(drop=True)\\n)\";\n",
       "                var nbb_formatted_code = \"df_results_full_cm_p_btss = (\\n    df_results_full_cm_p[\\n        df_results_full_cm_p[\\\"Cross Validation\\\"].eq(\\\"Blocking Time Series Split\\\")\\n    ]\\n    .copy()\\n    .reset_index(drop=True)\\n)\";\n",
       "                var nbb_cells = Jupyter.notebook.get_cells();\n",
       "                for (var i = 0; i < nbb_cells.length; ++i) {\n",
       "                    if (nbb_cells[i].input_prompt_number == nbb_cell_id) {\n",
       "                        if (nbb_cells[i].get_text() == nbb_unformatted_code) {\n",
       "                             nbb_cells[i].set_text(nbb_formatted_code);\n",
       "                        }\n",
       "                        break;\n",
       "                    }\n",
       "                }\n",
       "            }, 500);\n",
       "            "
      ],
      "text/plain": [
       "<IPython.core.display.Javascript object>"
      ]
     },
     "metadata": {},
     "output_type": "display_data"
    }
   ],
   "source": [
    "df_results_full_cm_p_btss = (\n",
    "    df_results_full_cm_p[\n",
    "        df_results_full_cm_p[\"Cross Validation\"].eq(\"Blocking Time Series Split\")\n",
    "    ]\n",
    "    .copy()\n",
    "    .reset_index(drop=True)\n",
    ")"
   ]
  },
  {
   "cell_type": "code",
   "execution_count": 68,
   "id": "684920f7",
   "metadata": {
    "scrolled": true
   },
   "outputs": [
    {
     "data": {
      "text/plain": [
       "array(['Blocking Time Series Split'], dtype=object)"
      ]
     },
     "execution_count": 68,
     "metadata": {},
     "output_type": "execute_result"
    },
    {
     "data": {
      "application/javascript": [
       "\n",
       "            setTimeout(function() {\n",
       "                var nbb_cell_id = 68;\n",
       "                var nbb_unformatted_code = \"df_results_full_cm_p_btss[\\\"Cross Validation\\\"].unique()\";\n",
       "                var nbb_formatted_code = \"df_results_full_cm_p_btss[\\\"Cross Validation\\\"].unique()\";\n",
       "                var nbb_cells = Jupyter.notebook.get_cells();\n",
       "                for (var i = 0; i < nbb_cells.length; ++i) {\n",
       "                    if (nbb_cells[i].input_prompt_number == nbb_cell_id) {\n",
       "                        if (nbb_cells[i].get_text() == nbb_unformatted_code) {\n",
       "                             nbb_cells[i].set_text(nbb_formatted_code);\n",
       "                        }\n",
       "                        break;\n",
       "                    }\n",
       "                }\n",
       "            }, 500);\n",
       "            "
      ],
      "text/plain": [
       "<IPython.core.display.Javascript object>"
      ]
     },
     "metadata": {},
     "output_type": "display_data"
    }
   ],
   "source": [
    "df_results_full_cm_p_btss[\"Cross Validation\"].unique()"
   ]
  },
  {
   "cell_type": "code",
   "execution_count": 69,
   "id": "3cc0b24d",
   "metadata": {},
   "outputs": [
    {
     "data": {
      "text/plain": [
       "(260, 24)"
      ]
     },
     "execution_count": 69,
     "metadata": {},
     "output_type": "execute_result"
    },
    {
     "data": {
      "application/javascript": [
       "\n",
       "            setTimeout(function() {\n",
       "                var nbb_cell_id = 69;\n",
       "                var nbb_unformatted_code = \"df_results_full_cm_p_btss.shape\";\n",
       "                var nbb_formatted_code = \"df_results_full_cm_p_btss.shape\";\n",
       "                var nbb_cells = Jupyter.notebook.get_cells();\n",
       "                for (var i = 0; i < nbb_cells.length; ++i) {\n",
       "                    if (nbb_cells[i].input_prompt_number == nbb_cell_id) {\n",
       "                        if (nbb_cells[i].get_text() == nbb_unformatted_code) {\n",
       "                             nbb_cells[i].set_text(nbb_formatted_code);\n",
       "                        }\n",
       "                        break;\n",
       "                    }\n",
       "                }\n",
       "            }, 500);\n",
       "            "
      ],
      "text/plain": [
       "<IPython.core.display.Javascript object>"
      ]
     },
     "metadata": {},
     "output_type": "display_data"
    }
   ],
   "source": [
    "df_results_full_cm_p_btss.shape"
   ]
  },
  {
   "cell_type": "code",
   "execution_count": 70,
   "id": "8b7c7c51",
   "metadata": {},
   "outputs": [
    {
     "data": {
      "text/plain": [
       "((260, 24), (260, 24))"
      ]
     },
     "execution_count": 70,
     "metadata": {},
     "output_type": "execute_result"
    },
    {
     "data": {
      "application/javascript": [
       "\n",
       "            setTimeout(function() {\n",
       "                var nbb_cell_id = 70;\n",
       "                var nbb_unformatted_code = \"df_results_full_cm_p_btss.shape, df_results_full_cm_btss.shape\";\n",
       "                var nbb_formatted_code = \"df_results_full_cm_p_btss.shape, df_results_full_cm_btss.shape\";\n",
       "                var nbb_cells = Jupyter.notebook.get_cells();\n",
       "                for (var i = 0; i < nbb_cells.length; ++i) {\n",
       "                    if (nbb_cells[i].input_prompt_number == nbb_cell_id) {\n",
       "                        if (nbb_cells[i].get_text() == nbb_unformatted_code) {\n",
       "                             nbb_cells[i].set_text(nbb_formatted_code);\n",
       "                        }\n",
       "                        break;\n",
       "                    }\n",
       "                }\n",
       "            }, 500);\n",
       "            "
      ],
      "text/plain": [
       "<IPython.core.display.Javascript object>"
      ]
     },
     "metadata": {},
     "output_type": "display_data"
    }
   ],
   "source": [
    "df_results_full_cm_p_btss.shape, df_results_full_cm_btss.shape"
   ]
  },
  {
   "cell_type": "code",
   "execution_count": 71,
   "id": "2ecba418",
   "metadata": {},
   "outputs": [
    {
     "data": {
      "text/plain": [
       "(20,)"
      ]
     },
     "execution_count": 71,
     "metadata": {},
     "output_type": "execute_result"
    },
    {
     "data": {
      "application/javascript": [
       "\n",
       "            setTimeout(function() {\n",
       "                var nbb_cell_id = 71;\n",
       "                var nbb_unformatted_code = \"df_results_full_cm_p_btss.groupby(\\n    [\\\"Company\\\", \\\"Cross Validation\\\", \\\"Plant\\\", \\\"Model\\\", \\\"Timesteps\\\"], dropna=False\\n)[\\\"RMSE Test\\\"].mean().shape\";\n",
       "                var nbb_formatted_code = \"df_results_full_cm_p_btss.groupby(\\n    [\\\"Company\\\", \\\"Cross Validation\\\", \\\"Plant\\\", \\\"Model\\\", \\\"Timesteps\\\"], dropna=False\\n)[\\\"RMSE Test\\\"].mean().shape\";\n",
       "                var nbb_cells = Jupyter.notebook.get_cells();\n",
       "                for (var i = 0; i < nbb_cells.length; ++i) {\n",
       "                    if (nbb_cells[i].input_prompt_number == nbb_cell_id) {\n",
       "                        if (nbb_cells[i].get_text() == nbb_unformatted_code) {\n",
       "                             nbb_cells[i].set_text(nbb_formatted_code);\n",
       "                        }\n",
       "                        break;\n",
       "                    }\n",
       "                }\n",
       "            }, 500);\n",
       "            "
      ],
      "text/plain": [
       "<IPython.core.display.Javascript object>"
      ]
     },
     "metadata": {},
     "output_type": "display_data"
    }
   ],
   "source": [
    "df_results_full_cm_p_btss.groupby(\n",
    "    [\"Company\", \"Cross Validation\", \"Plant\", \"Model\", \"Timesteps\"], dropna=False\n",
    ")[\"RMSE Test\"].mean().shape"
   ]
  },
  {
   "cell_type": "code",
   "execution_count": 72,
   "id": "e0a6c603",
   "metadata": {},
   "outputs": [
    {
     "data": {
      "application/javascript": [
       "\n",
       "            setTimeout(function() {\n",
       "                var nbb_cell_id = 72;\n",
       "                var nbb_unformatted_code = \"df_results_full_cm_btss.shape, df_results_full_cm_p_btss.shape\\n\\ndf1 = df_results_full_cm_btss\\ndf2 = df_results_full_cm_p_btss\\n\\ngrouping_columns = [\\\"Company\\\", \\\"Plant\\\", \\\"Model\\\", \\\"Timesteps\\\"]\";\n",
       "                var nbb_formatted_code = \"df_results_full_cm_btss.shape, df_results_full_cm_p_btss.shape\\n\\ndf1 = df_results_full_cm_btss\\ndf2 = df_results_full_cm_p_btss\\n\\ngrouping_columns = [\\\"Company\\\", \\\"Plant\\\", \\\"Model\\\", \\\"Timesteps\\\"]\";\n",
       "                var nbb_cells = Jupyter.notebook.get_cells();\n",
       "                for (var i = 0; i < nbb_cells.length; ++i) {\n",
       "                    if (nbb_cells[i].input_prompt_number == nbb_cell_id) {\n",
       "                        if (nbb_cells[i].get_text() == nbb_unformatted_code) {\n",
       "                             nbb_cells[i].set_text(nbb_formatted_code);\n",
       "                        }\n",
       "                        break;\n",
       "                    }\n",
       "                }\n",
       "            }, 500);\n",
       "            "
      ],
      "text/plain": [
       "<IPython.core.display.Javascript object>"
      ]
     },
     "metadata": {},
     "output_type": "display_data"
    }
   ],
   "source": [
    "df_results_full_cm_btss.shape, df_results_full_cm_p_btss.shape\n",
    "\n",
    "df1 = df_results_full_cm_btss\n",
    "df2 = df_results_full_cm_p_btss\n",
    "\n",
    "grouping_columns = [\"Company\", \"Plant\", \"Model\", \"Timesteps\"]"
   ]
  },
  {
   "cell_type": "code",
   "execution_count": 73,
   "id": "525c0e4c",
   "metadata": {},
   "outputs": [
    {
     "name": "stdout",
     "output_type": "stream",
     "text": [
      "Differences in group sizes:\n",
      "Empty DataFrame\n",
      "Columns: [self, other]\n",
      "Index: []\n"
     ]
    },
    {
     "data": {
      "application/javascript": [
       "\n",
       "            setTimeout(function() {\n",
       "                var nbb_cell_id = 73;\n",
       "                var nbb_unformatted_code = \"# Group by and get sizes for both datasets\\ngroup_sizes_df1 = df1.groupby(grouping_columns, dropna=False).size()\\ngroup_sizes_df2 = df2.groupby(grouping_columns, dropna=False).size()\\n\\n# Compare group sizes directly\\ngroup_size_diff = group_sizes_df1.compare(group_sizes_df2)\\nprint(\\\"Differences in group sizes:\\\")\\nprint(group_size_diff)\";\n",
       "                var nbb_formatted_code = \"# Group by and get sizes for both datasets\\ngroup_sizes_df1 = df1.groupby(grouping_columns, dropna=False).size()\\ngroup_sizes_df2 = df2.groupby(grouping_columns, dropna=False).size()\\n\\n# Compare group sizes directly\\ngroup_size_diff = group_sizes_df1.compare(group_sizes_df2)\\nprint(\\\"Differences in group sizes:\\\")\\nprint(group_size_diff)\";\n",
       "                var nbb_cells = Jupyter.notebook.get_cells();\n",
       "                for (var i = 0; i < nbb_cells.length; ++i) {\n",
       "                    if (nbb_cells[i].input_prompt_number == nbb_cell_id) {\n",
       "                        if (nbb_cells[i].get_text() == nbb_unformatted_code) {\n",
       "                             nbb_cells[i].set_text(nbb_formatted_code);\n",
       "                        }\n",
       "                        break;\n",
       "                    }\n",
       "                }\n",
       "            }, 500);\n",
       "            "
      ],
      "text/plain": [
       "<IPython.core.display.Javascript object>"
      ]
     },
     "metadata": {},
     "output_type": "display_data"
    }
   ],
   "source": [
    "# Group by and get sizes for both datasets\n",
    "group_sizes_df1 = df1.groupby(grouping_columns, dropna=False).size()\n",
    "group_sizes_df2 = df2.groupby(grouping_columns, dropna=False).size()\n",
    "\n",
    "# Compare group sizes directly\n",
    "group_size_diff = group_sizes_df1.compare(group_sizes_df2)\n",
    "print(\"Differences in group sizes:\")\n",
    "print(group_size_diff)"
   ]
  },
  {
   "cell_type": "code",
   "execution_count": 74,
   "id": "686ddfc2",
   "metadata": {},
   "outputs": [
    {
     "name": "stdout",
     "output_type": "stream",
     "text": [
      "Differences in group sizes:\n",
      "Empty DataFrame\n",
      "Columns: [self, other]\n",
      "Index: []\n"
     ]
    },
    {
     "data": {
      "application/javascript": [
       "\n",
       "            setTimeout(function() {\n",
       "                var nbb_cell_id = 74;\n",
       "                var nbb_unformatted_code = \"# Group by and get sizes for both datasets\\ngroup_sizes_df1 = df1.groupby(grouping_columns, dropna=False).size()\\ngroup_sizes_df2 = df2.groupby(grouping_columns, dropna=False).size()\\n\\n# Compare group sizes directly\\ngroup_size_diff = group_sizes_df2.compare(group_sizes_df1)\\nprint(\\\"Differences in group sizes:\\\")\\nprint(group_size_diff)\";\n",
       "                var nbb_formatted_code = \"# Group by and get sizes for both datasets\\ngroup_sizes_df1 = df1.groupby(grouping_columns, dropna=False).size()\\ngroup_sizes_df2 = df2.groupby(grouping_columns, dropna=False).size()\\n\\n# Compare group sizes directly\\ngroup_size_diff = group_sizes_df2.compare(group_sizes_df1)\\nprint(\\\"Differences in group sizes:\\\")\\nprint(group_size_diff)\";\n",
       "                var nbb_cells = Jupyter.notebook.get_cells();\n",
       "                for (var i = 0; i < nbb_cells.length; ++i) {\n",
       "                    if (nbb_cells[i].input_prompt_number == nbb_cell_id) {\n",
       "                        if (nbb_cells[i].get_text() == nbb_unformatted_code) {\n",
       "                             nbb_cells[i].set_text(nbb_formatted_code);\n",
       "                        }\n",
       "                        break;\n",
       "                    }\n",
       "                }\n",
       "            }, 500);\n",
       "            "
      ],
      "text/plain": [
       "<IPython.core.display.Javascript object>"
      ]
     },
     "metadata": {},
     "output_type": "display_data"
    }
   ],
   "source": [
    "# Group by and get sizes for both datasets\n",
    "group_sizes_df1 = df1.groupby(grouping_columns, dropna=False).size()\n",
    "group_sizes_df2 = df2.groupby(grouping_columns, dropna=False).size()\n",
    "\n",
    "# Compare group sizes directly\n",
    "group_size_diff = group_sizes_df2.compare(group_sizes_df1)\n",
    "print(\"Differences in group sizes:\")\n",
    "print(group_size_diff)"
   ]
  },
  {
   "cell_type": "markdown",
   "id": "22005053",
   "metadata": {},
   "source": [
    "### Time Series Split"
   ]
  },
  {
   "cell_type": "code",
   "execution_count": 75,
   "id": "292e9209",
   "metadata": {},
   "outputs": [
    {
     "data": {
      "text/plain": [
       "array(['Blocking Time Series Split', 'Time Series Split'], dtype=object)"
      ]
     },
     "execution_count": 75,
     "metadata": {},
     "output_type": "execute_result"
    },
    {
     "data": {
      "application/javascript": [
       "\n",
       "            setTimeout(function() {\n",
       "                var nbb_cell_id = 75;\n",
       "                var nbb_unformatted_code = \"df_results_full_cm_p[\\\"Cross Validation\\\"].unique()\";\n",
       "                var nbb_formatted_code = \"df_results_full_cm_p[\\\"Cross Validation\\\"].unique()\";\n",
       "                var nbb_cells = Jupyter.notebook.get_cells();\n",
       "                for (var i = 0; i < nbb_cells.length; ++i) {\n",
       "                    if (nbb_cells[i].input_prompt_number == nbb_cell_id) {\n",
       "                        if (nbb_cells[i].get_text() == nbb_unformatted_code) {\n",
       "                             nbb_cells[i].set_text(nbb_formatted_code);\n",
       "                        }\n",
       "                        break;\n",
       "                    }\n",
       "                }\n",
       "            }, 500);\n",
       "            "
      ],
      "text/plain": [
       "<IPython.core.display.Javascript object>"
      ]
     },
     "metadata": {},
     "output_type": "display_data"
    }
   ],
   "source": [
    "df_results_full_cm_p[\"Cross Validation\"].unique()"
   ]
  },
  {
   "cell_type": "code",
   "execution_count": 76,
   "id": "bcf38e40",
   "metadata": {},
   "outputs": [
    {
     "data": {
      "application/javascript": [
       "\n",
       "            setTimeout(function() {\n",
       "                var nbb_cell_id = 76;\n",
       "                var nbb_unformatted_code = \"df_results_full_cm_p_tss = (\\n    df_results_full_cm_p[\\n        df_results_full_cm_p[\\\"Cross Validation\\\"].eq(\\\"Time Series Split\\\")\\n    ]\\n    .copy()\\n    .reset_index(drop=True)\\n)\";\n",
       "                var nbb_formatted_code = \"df_results_full_cm_p_tss = (\\n    df_results_full_cm_p[\\n        df_results_full_cm_p[\\\"Cross Validation\\\"].eq(\\\"Time Series Split\\\")\\n    ]\\n    .copy()\\n    .reset_index(drop=True)\\n)\";\n",
       "                var nbb_cells = Jupyter.notebook.get_cells();\n",
       "                for (var i = 0; i < nbb_cells.length; ++i) {\n",
       "                    if (nbb_cells[i].input_prompt_number == nbb_cell_id) {\n",
       "                        if (nbb_cells[i].get_text() == nbb_unformatted_code) {\n",
       "                             nbb_cells[i].set_text(nbb_formatted_code);\n",
       "                        }\n",
       "                        break;\n",
       "                    }\n",
       "                }\n",
       "            }, 500);\n",
       "            "
      ],
      "text/plain": [
       "<IPython.core.display.Javascript object>"
      ]
     },
     "metadata": {},
     "output_type": "display_data"
    }
   ],
   "source": [
    "df_results_full_cm_p_tss = (\n",
    "    df_results_full_cm_p[\n",
    "        df_results_full_cm_p[\"Cross Validation\"].eq(\"Time Series Split\")\n",
    "    ]\n",
    "    .copy()\n",
    "    .reset_index(drop=True)\n",
    ")"
   ]
  },
  {
   "cell_type": "code",
   "execution_count": 77,
   "id": "58a94ec4",
   "metadata": {},
   "outputs": [
    {
     "data": {
      "text/plain": [
       "array(['Time Series Split'], dtype=object)"
      ]
     },
     "execution_count": 77,
     "metadata": {},
     "output_type": "execute_result"
    },
    {
     "data": {
      "application/javascript": [
       "\n",
       "            setTimeout(function() {\n",
       "                var nbb_cell_id = 77;\n",
       "                var nbb_unformatted_code = \"df_results_full_cm_p_tss[\\\"Cross Validation\\\"].unique()\";\n",
       "                var nbb_formatted_code = \"df_results_full_cm_p_tss[\\\"Cross Validation\\\"].unique()\";\n",
       "                var nbb_cells = Jupyter.notebook.get_cells();\n",
       "                for (var i = 0; i < nbb_cells.length; ++i) {\n",
       "                    if (nbb_cells[i].input_prompt_number == nbb_cell_id) {\n",
       "                        if (nbb_cells[i].get_text() == nbb_unformatted_code) {\n",
       "                             nbb_cells[i].set_text(nbb_formatted_code);\n",
       "                        }\n",
       "                        break;\n",
       "                    }\n",
       "                }\n",
       "            }, 500);\n",
       "            "
      ],
      "text/plain": [
       "<IPython.core.display.Javascript object>"
      ]
     },
     "metadata": {},
     "output_type": "display_data"
    }
   ],
   "source": [
    "df_results_full_cm_p_tss[\"Cross Validation\"].unique()"
   ]
  },
  {
   "cell_type": "code",
   "execution_count": 78,
   "id": "061f0116",
   "metadata": {},
   "outputs": [
    {
     "data": {
      "text/plain": [
       "(260, 24)"
      ]
     },
     "execution_count": 78,
     "metadata": {},
     "output_type": "execute_result"
    },
    {
     "data": {
      "application/javascript": [
       "\n",
       "            setTimeout(function() {\n",
       "                var nbb_cell_id = 78;\n",
       "                var nbb_unformatted_code = \"df_results_full_cm_p_tss.shape\";\n",
       "                var nbb_formatted_code = \"df_results_full_cm_p_tss.shape\";\n",
       "                var nbb_cells = Jupyter.notebook.get_cells();\n",
       "                for (var i = 0; i < nbb_cells.length; ++i) {\n",
       "                    if (nbb_cells[i].input_prompt_number == nbb_cell_id) {\n",
       "                        if (nbb_cells[i].get_text() == nbb_unformatted_code) {\n",
       "                             nbb_cells[i].set_text(nbb_formatted_code);\n",
       "                        }\n",
       "                        break;\n",
       "                    }\n",
       "                }\n",
       "            }, 500);\n",
       "            "
      ],
      "text/plain": [
       "<IPython.core.display.Javascript object>"
      ]
     },
     "metadata": {},
     "output_type": "display_data"
    }
   ],
   "source": [
    "df_results_full_cm_p_tss.shape"
   ]
  },
  {
   "cell_type": "code",
   "execution_count": 79,
   "id": "1e650749",
   "metadata": {},
   "outputs": [
    {
     "data": {
      "text/plain": [
       "(20,)"
      ]
     },
     "execution_count": 79,
     "metadata": {},
     "output_type": "execute_result"
    },
    {
     "data": {
      "application/javascript": [
       "\n",
       "            setTimeout(function() {\n",
       "                var nbb_cell_id = 79;\n",
       "                var nbb_unformatted_code = \"df_results_full_cm_p_tss.groupby(\\n    [\\\"Company\\\", \\\"Model\\\", \\\"Plant\\\", \\\"Timesteps\\\"], dropna=False\\n)[\\\"RMSE Test\\\"].mean().shape\";\n",
       "                var nbb_formatted_code = \"df_results_full_cm_p_tss.groupby(\\n    [\\\"Company\\\", \\\"Model\\\", \\\"Plant\\\", \\\"Timesteps\\\"], dropna=False\\n)[\\\"RMSE Test\\\"].mean().shape\";\n",
       "                var nbb_cells = Jupyter.notebook.get_cells();\n",
       "                for (var i = 0; i < nbb_cells.length; ++i) {\n",
       "                    if (nbb_cells[i].input_prompt_number == nbb_cell_id) {\n",
       "                        if (nbb_cells[i].get_text() == nbb_unformatted_code) {\n",
       "                             nbb_cells[i].set_text(nbb_formatted_code);\n",
       "                        }\n",
       "                        break;\n",
       "                    }\n",
       "                }\n",
       "            }, 500);\n",
       "            "
      ],
      "text/plain": [
       "<IPython.core.display.Javascript object>"
      ]
     },
     "metadata": {},
     "output_type": "display_data"
    }
   ],
   "source": [
    "df_results_full_cm_p_tss.groupby(\n",
    "    [\"Company\", \"Model\", \"Plant\", \"Timesteps\"], dropna=False\n",
    ")[\"RMSE Test\"].mean().shape"
   ]
  },
  {
   "cell_type": "markdown",
   "id": "89b9b2ff",
   "metadata": {},
   "source": [
    "### Variable Grouping: CM-P-CS"
   ]
  },
  {
   "cell_type": "code",
   "execution_count": 80,
   "id": "0928e85c",
   "metadata": {},
   "outputs": [
    {
     "data": {
      "text/plain": [
       "array(['Chemical + Mineralogical + Physical - Early CS',\n",
       "       'Chemical + Mineralogical + Physical', 'Chemical + Mineralogical'],\n",
       "      dtype=object)"
      ]
     },
     "execution_count": 80,
     "metadata": {},
     "output_type": "execute_result"
    },
    {
     "data": {
      "application/javascript": [
       "\n",
       "            setTimeout(function() {\n",
       "                var nbb_cell_id = 80;\n",
       "                var nbb_unformatted_code = \"df_full_203[\\\"Features\\\"].unique()\";\n",
       "                var nbb_formatted_code = \"df_full_203[\\\"Features\\\"].unique()\";\n",
       "                var nbb_cells = Jupyter.notebook.get_cells();\n",
       "                for (var i = 0; i < nbb_cells.length; ++i) {\n",
       "                    if (nbb_cells[i].input_prompt_number == nbb_cell_id) {\n",
       "                        if (nbb_cells[i].get_text() == nbb_unformatted_code) {\n",
       "                             nbb_cells[i].set_text(nbb_formatted_code);\n",
       "                        }\n",
       "                        break;\n",
       "                    }\n",
       "                }\n",
       "            }, 500);\n",
       "            "
      ],
      "text/plain": [
       "<IPython.core.display.Javascript object>"
      ]
     },
     "metadata": {},
     "output_type": "display_data"
    }
   ],
   "source": [
    "df_full_203[\"Features\"].unique()"
   ]
  },
  {
   "cell_type": "code",
   "execution_count": 81,
   "id": "efefb197",
   "metadata": {},
   "outputs": [
    {
     "data": {
      "application/javascript": [
       "\n",
       "            setTimeout(function() {\n",
       "                var nbb_cell_id = 81;\n",
       "                var nbb_unformatted_code = \"df_results_full_cm_p_cs = (\\n    df_full_203[df_full_203[\\\"Features\\\"].eq(\\\"Chemical + Mineralogical + Physical\\\")]\\n    .copy()\\n    .reset_index(drop=True)\\n)\";\n",
       "                var nbb_formatted_code = \"df_results_full_cm_p_cs = (\\n    df_full_203[df_full_203[\\\"Features\\\"].eq(\\\"Chemical + Mineralogical + Physical\\\")]\\n    .copy()\\n    .reset_index(drop=True)\\n)\";\n",
       "                var nbb_cells = Jupyter.notebook.get_cells();\n",
       "                for (var i = 0; i < nbb_cells.length; ++i) {\n",
       "                    if (nbb_cells[i].input_prompt_number == nbb_cell_id) {\n",
       "                        if (nbb_cells[i].get_text() == nbb_unformatted_code) {\n",
       "                             nbb_cells[i].set_text(nbb_formatted_code);\n",
       "                        }\n",
       "                        break;\n",
       "                    }\n",
       "                }\n",
       "            }, 500);\n",
       "            "
      ],
      "text/plain": [
       "<IPython.core.display.Javascript object>"
      ]
     },
     "metadata": {},
     "output_type": "display_data"
    }
   ],
   "source": [
    "df_results_full_cm_p_cs = (\n",
    "    df_full_203[df_full_203[\"Features\"].eq(\"Chemical + Mineralogical + Physical\")]\n",
    "    .copy()\n",
    "    .reset_index(drop=True)\n",
    ")"
   ]
  },
  {
   "cell_type": "code",
   "execution_count": 82,
   "id": "ec0b7d3e",
   "metadata": {},
   "outputs": [
    {
     "data": {
      "text/plain": [
       "array(['Chemical + Mineralogical + Physical'], dtype=object)"
      ]
     },
     "execution_count": 82,
     "metadata": {},
     "output_type": "execute_result"
    },
    {
     "data": {
      "application/javascript": [
       "\n",
       "            setTimeout(function() {\n",
       "                var nbb_cell_id = 82;\n",
       "                var nbb_unformatted_code = \"df_results_full_cm_p_cs[\\\"Features\\\"].unique()\";\n",
       "                var nbb_formatted_code = \"df_results_full_cm_p_cs[\\\"Features\\\"].unique()\";\n",
       "                var nbb_cells = Jupyter.notebook.get_cells();\n",
       "                for (var i = 0; i < nbb_cells.length; ++i) {\n",
       "                    if (nbb_cells[i].input_prompt_number == nbb_cell_id) {\n",
       "                        if (nbb_cells[i].get_text() == nbb_unformatted_code) {\n",
       "                             nbb_cells[i].set_text(nbb_formatted_code);\n",
       "                        }\n",
       "                        break;\n",
       "                    }\n",
       "                }\n",
       "            }, 500);\n",
       "            "
      ],
      "text/plain": [
       "<IPython.core.display.Javascript object>"
      ]
     },
     "metadata": {},
     "output_type": "display_data"
    }
   ],
   "source": [
    "df_results_full_cm_p_cs[\"Features\"].unique()"
   ]
  },
  {
   "cell_type": "code",
   "execution_count": 83,
   "id": "71dbb817",
   "metadata": {},
   "outputs": [
    {
     "data": {
      "text/plain": [
       "(475, 24)"
      ]
     },
     "execution_count": 83,
     "metadata": {},
     "output_type": "execute_result"
    },
    {
     "data": {
      "application/javascript": [
       "\n",
       "            setTimeout(function() {\n",
       "                var nbb_cell_id = 83;\n",
       "                var nbb_unformatted_code = \"df_results_full_cm_p_cs.shape\";\n",
       "                var nbb_formatted_code = \"df_results_full_cm_p_cs.shape\";\n",
       "                var nbb_cells = Jupyter.notebook.get_cells();\n",
       "                for (var i = 0; i < nbb_cells.length; ++i) {\n",
       "                    if (nbb_cells[i].input_prompt_number == nbb_cell_id) {\n",
       "                        if (nbb_cells[i].get_text() == nbb_unformatted_code) {\n",
       "                             nbb_cells[i].set_text(nbb_formatted_code);\n",
       "                        }\n",
       "                        break;\n",
       "                    }\n",
       "                }\n",
       "            }, 500);\n",
       "            "
      ],
      "text/plain": [
       "<IPython.core.display.Javascript object>"
      ]
     },
     "metadata": {},
     "output_type": "display_data"
    }
   ],
   "source": [
    "df_results_full_cm_p_cs.shape"
   ]
  },
  {
   "cell_type": "markdown",
   "id": "aab9d1bf",
   "metadata": {},
   "source": [
    "### K-Fold"
   ]
  },
  {
   "cell_type": "code",
   "execution_count": 84,
   "id": "2bdf0ad5",
   "metadata": {},
   "outputs": [
    {
     "data": {
      "text/plain": [
       "array(['Blocking Time Series Split', 'Time Series Split'], dtype=object)"
      ]
     },
     "execution_count": 84,
     "metadata": {},
     "output_type": "execute_result"
    },
    {
     "data": {
      "application/javascript": [
       "\n",
       "            setTimeout(function() {\n",
       "                var nbb_cell_id = 84;\n",
       "                var nbb_unformatted_code = \"df_results_full_cm_p_cs[\\\"Cross Validation\\\"].unique()\";\n",
       "                var nbb_formatted_code = \"df_results_full_cm_p_cs[\\\"Cross Validation\\\"].unique()\";\n",
       "                var nbb_cells = Jupyter.notebook.get_cells();\n",
       "                for (var i = 0; i < nbb_cells.length; ++i) {\n",
       "                    if (nbb_cells[i].input_prompt_number == nbb_cell_id) {\n",
       "                        if (nbb_cells[i].get_text() == nbb_unformatted_code) {\n",
       "                             nbb_cells[i].set_text(nbb_formatted_code);\n",
       "                        }\n",
       "                        break;\n",
       "                    }\n",
       "                }\n",
       "            }, 500);\n",
       "            "
      ],
      "text/plain": [
       "<IPython.core.display.Javascript object>"
      ]
     },
     "metadata": {},
     "output_type": "display_data"
    }
   ],
   "source": [
    "df_results_full_cm_p_cs[\"Cross Validation\"].unique()"
   ]
  },
  {
   "cell_type": "code",
   "execution_count": 85,
   "id": "2fa090b5",
   "metadata": {},
   "outputs": [
    {
     "data": {
      "application/javascript": [
       "\n",
       "            setTimeout(function() {\n",
       "                var nbb_cell_id = 85;\n",
       "                var nbb_unformatted_code = \"df_results_full_cm_p_cs_kf = (\\n    df_results_full_cm_p_cs[\\n        df_results_full_cm_p_cs[\\\"Cross Validation\\\"].eq(\\\"Repeated KFold\\\")\\n    ]\\n    .copy()\\n    .reset_index(drop=True)\\n)\";\n",
       "                var nbb_formatted_code = \"df_results_full_cm_p_cs_kf = (\\n    df_results_full_cm_p_cs[\\n        df_results_full_cm_p_cs[\\\"Cross Validation\\\"].eq(\\\"Repeated KFold\\\")\\n    ]\\n    .copy()\\n    .reset_index(drop=True)\\n)\";\n",
       "                var nbb_cells = Jupyter.notebook.get_cells();\n",
       "                for (var i = 0; i < nbb_cells.length; ++i) {\n",
       "                    if (nbb_cells[i].input_prompt_number == nbb_cell_id) {\n",
       "                        if (nbb_cells[i].get_text() == nbb_unformatted_code) {\n",
       "                             nbb_cells[i].set_text(nbb_formatted_code);\n",
       "                        }\n",
       "                        break;\n",
       "                    }\n",
       "                }\n",
       "            }, 500);\n",
       "            "
      ],
      "text/plain": [
       "<IPython.core.display.Javascript object>"
      ]
     },
     "metadata": {},
     "output_type": "display_data"
    }
   ],
   "source": [
    "df_results_full_cm_p_cs_kf = (\n",
    "    df_results_full_cm_p_cs[\n",
    "        df_results_full_cm_p_cs[\"Cross Validation\"].eq(\"Repeated KFold\")\n",
    "    ]\n",
    "    .copy()\n",
    "    .reset_index(drop=True)\n",
    ")"
   ]
  },
  {
   "cell_type": "code",
   "execution_count": 86,
   "id": "15ecb51b",
   "metadata": {},
   "outputs": [
    {
     "data": {
      "text/plain": [
       "array([], dtype=object)"
      ]
     },
     "execution_count": 86,
     "metadata": {},
     "output_type": "execute_result"
    },
    {
     "data": {
      "application/javascript": [
       "\n",
       "            setTimeout(function() {\n",
       "                var nbb_cell_id = 86;\n",
       "                var nbb_unformatted_code = \"df_results_full_cm_p_cs_kf[\\\"Cross Validation\\\"].unique()\";\n",
       "                var nbb_formatted_code = \"df_results_full_cm_p_cs_kf[\\\"Cross Validation\\\"].unique()\";\n",
       "                var nbb_cells = Jupyter.notebook.get_cells();\n",
       "                for (var i = 0; i < nbb_cells.length; ++i) {\n",
       "                    if (nbb_cells[i].input_prompt_number == nbb_cell_id) {\n",
       "                        if (nbb_cells[i].get_text() == nbb_unformatted_code) {\n",
       "                             nbb_cells[i].set_text(nbb_formatted_code);\n",
       "                        }\n",
       "                        break;\n",
       "                    }\n",
       "                }\n",
       "            }, 500);\n",
       "            "
      ],
      "text/plain": [
       "<IPython.core.display.Javascript object>"
      ]
     },
     "metadata": {},
     "output_type": "display_data"
    }
   ],
   "source": [
    "df_results_full_cm_p_cs_kf[\"Cross Validation\"].unique()"
   ]
  },
  {
   "cell_type": "code",
   "execution_count": 87,
   "id": "11f85d4b",
   "metadata": {},
   "outputs": [
    {
     "data": {
      "text/plain": [
       "(0, 24)"
      ]
     },
     "execution_count": 87,
     "metadata": {},
     "output_type": "execute_result"
    },
    {
     "data": {
      "application/javascript": [
       "\n",
       "            setTimeout(function() {\n",
       "                var nbb_cell_id = 87;\n",
       "                var nbb_unformatted_code = \"df_results_full_cm_p_cs_kf.shape\";\n",
       "                var nbb_formatted_code = \"df_results_full_cm_p_cs_kf.shape\";\n",
       "                var nbb_cells = Jupyter.notebook.get_cells();\n",
       "                for (var i = 0; i < nbb_cells.length; ++i) {\n",
       "                    if (nbb_cells[i].input_prompt_number == nbb_cell_id) {\n",
       "                        if (nbb_cells[i].get_text() == nbb_unformatted_code) {\n",
       "                             nbb_cells[i].set_text(nbb_formatted_code);\n",
       "                        }\n",
       "                        break;\n",
       "                    }\n",
       "                }\n",
       "            }, 500);\n",
       "            "
      ],
      "text/plain": [
       "<IPython.core.display.Javascript object>"
      ]
     },
     "metadata": {},
     "output_type": "display_data"
    }
   ],
   "source": [
    "df_results_full_cm_p_cs_kf.shape"
   ]
  },
  {
   "cell_type": "code",
   "execution_count": 88,
   "id": "af2b086b",
   "metadata": {},
   "outputs": [
    {
     "data": {
      "text/plain": [
       "(0,)"
      ]
     },
     "execution_count": 88,
     "metadata": {},
     "output_type": "execute_result"
    },
    {
     "data": {
      "application/javascript": [
       "\n",
       "            setTimeout(function() {\n",
       "                var nbb_cell_id = 88;\n",
       "                var nbb_unformatted_code = \"df_results_full_cm_p_cs_kf.groupby([\\\"Company\\\", \\\"Model\\\", \\\"Timesteps\\\"], dropna=False)[\\n    \\\"RMSE Test\\\"\\n].mean().shape\";\n",
       "                var nbb_formatted_code = \"df_results_full_cm_p_cs_kf.groupby([\\\"Company\\\", \\\"Model\\\", \\\"Timesteps\\\"], dropna=False)[\\n    \\\"RMSE Test\\\"\\n].mean().shape\";\n",
       "                var nbb_cells = Jupyter.notebook.get_cells();\n",
       "                for (var i = 0; i < nbb_cells.length; ++i) {\n",
       "                    if (nbb_cells[i].input_prompt_number == nbb_cell_id) {\n",
       "                        if (nbb_cells[i].get_text() == nbb_unformatted_code) {\n",
       "                             nbb_cells[i].set_text(nbb_formatted_code);\n",
       "                        }\n",
       "                        break;\n",
       "                    }\n",
       "                }\n",
       "            }, 500);\n",
       "            "
      ],
      "text/plain": [
       "<IPython.core.display.Javascript object>"
      ]
     },
     "metadata": {},
     "output_type": "display_data"
    }
   ],
   "source": [
    "df_results_full_cm_p_cs_kf.groupby([\"Company\", \"Model\", \"Timesteps\"], dropna=False)[\n",
    "    \"RMSE Test\"\n",
    "].mean().shape"
   ]
  },
  {
   "cell_type": "markdown",
   "id": "80477100",
   "metadata": {},
   "source": [
    "### Blocking time series"
   ]
  },
  {
   "cell_type": "code",
   "execution_count": 89,
   "id": "bb8557f9",
   "metadata": {},
   "outputs": [
    {
     "data": {
      "text/plain": [
       "array(['Blocking Time Series Split', 'Time Series Split'], dtype=object)"
      ]
     },
     "execution_count": 89,
     "metadata": {},
     "output_type": "execute_result"
    },
    {
     "data": {
      "application/javascript": [
       "\n",
       "            setTimeout(function() {\n",
       "                var nbb_cell_id = 89;\n",
       "                var nbb_unformatted_code = \"df_results_full_cm_p_cs[\\\"Cross Validation\\\"].unique()\";\n",
       "                var nbb_formatted_code = \"df_results_full_cm_p_cs[\\\"Cross Validation\\\"].unique()\";\n",
       "                var nbb_cells = Jupyter.notebook.get_cells();\n",
       "                for (var i = 0; i < nbb_cells.length; ++i) {\n",
       "                    if (nbb_cells[i].input_prompt_number == nbb_cell_id) {\n",
       "                        if (nbb_cells[i].get_text() == nbb_unformatted_code) {\n",
       "                             nbb_cells[i].set_text(nbb_formatted_code);\n",
       "                        }\n",
       "                        break;\n",
       "                    }\n",
       "                }\n",
       "            }, 500);\n",
       "            "
      ],
      "text/plain": [
       "<IPython.core.display.Javascript object>"
      ]
     },
     "metadata": {},
     "output_type": "display_data"
    }
   ],
   "source": [
    "df_results_full_cm_p_cs[\"Cross Validation\"].unique()"
   ]
  },
  {
   "cell_type": "code",
   "execution_count": 90,
   "id": "73df27fa",
   "metadata": {},
   "outputs": [
    {
     "data": {
      "application/javascript": [
       "\n",
       "            setTimeout(function() {\n",
       "                var nbb_cell_id = 90;\n",
       "                var nbb_unformatted_code = \"df_results_full_cm_p_cs_btss = (\\n    df_results_full_cm_p_cs[\\n        df_results_full_cm_p_cs[\\\"Cross Validation\\\"].eq(\\\"Blocking Time Series Split\\\")\\n    ]\\n    .copy()\\n    .reset_index(drop=True)\\n)\";\n",
       "                var nbb_formatted_code = \"df_results_full_cm_p_cs_btss = (\\n    df_results_full_cm_p_cs[\\n        df_results_full_cm_p_cs[\\\"Cross Validation\\\"].eq(\\\"Blocking Time Series Split\\\")\\n    ]\\n    .copy()\\n    .reset_index(drop=True)\\n)\";\n",
       "                var nbb_cells = Jupyter.notebook.get_cells();\n",
       "                for (var i = 0; i < nbb_cells.length; ++i) {\n",
       "                    if (nbb_cells[i].input_prompt_number == nbb_cell_id) {\n",
       "                        if (nbb_cells[i].get_text() == nbb_unformatted_code) {\n",
       "                             nbb_cells[i].set_text(nbb_formatted_code);\n",
       "                        }\n",
       "                        break;\n",
       "                    }\n",
       "                }\n",
       "            }, 500);\n",
       "            "
      ],
      "text/plain": [
       "<IPython.core.display.Javascript object>"
      ]
     },
     "metadata": {},
     "output_type": "display_data"
    }
   ],
   "source": [
    "df_results_full_cm_p_cs_btss = (\n",
    "    df_results_full_cm_p_cs[\n",
    "        df_results_full_cm_p_cs[\"Cross Validation\"].eq(\"Blocking Time Series Split\")\n",
    "    ]\n",
    "    .copy()\n",
    "    .reset_index(drop=True)\n",
    ")"
   ]
  },
  {
   "cell_type": "code",
   "execution_count": 91,
   "id": "786c9680",
   "metadata": {},
   "outputs": [
    {
     "data": {
      "text/plain": [
       "array(['Blocking Time Series Split'], dtype=object)"
      ]
     },
     "execution_count": 91,
     "metadata": {},
     "output_type": "execute_result"
    },
    {
     "data": {
      "application/javascript": [
       "\n",
       "            setTimeout(function() {\n",
       "                var nbb_cell_id = 91;\n",
       "                var nbb_unformatted_code = \"df_results_full_cm_p_cs_btss[\\\"Cross Validation\\\"].unique()\";\n",
       "                var nbb_formatted_code = \"df_results_full_cm_p_cs_btss[\\\"Cross Validation\\\"].unique()\";\n",
       "                var nbb_cells = Jupyter.notebook.get_cells();\n",
       "                for (var i = 0; i < nbb_cells.length; ++i) {\n",
       "                    if (nbb_cells[i].input_prompt_number == nbb_cell_id) {\n",
       "                        if (nbb_cells[i].get_text() == nbb_unformatted_code) {\n",
       "                             nbb_cells[i].set_text(nbb_formatted_code);\n",
       "                        }\n",
       "                        break;\n",
       "                    }\n",
       "                }\n",
       "            }, 500);\n",
       "            "
      ],
      "text/plain": [
       "<IPython.core.display.Javascript object>"
      ]
     },
     "metadata": {},
     "output_type": "display_data"
    }
   ],
   "source": [
    "df_results_full_cm_p_cs_btss[\"Cross Validation\"].unique()"
   ]
  },
  {
   "cell_type": "code",
   "execution_count": 92,
   "id": "a3fb5da5",
   "metadata": {},
   "outputs": [
    {
     "data": {
      "text/plain": [
       "(260, 24)"
      ]
     },
     "execution_count": 92,
     "metadata": {},
     "output_type": "execute_result"
    },
    {
     "data": {
      "application/javascript": [
       "\n",
       "            setTimeout(function() {\n",
       "                var nbb_cell_id = 92;\n",
       "                var nbb_unformatted_code = \"df_results_full_cm_p_cs_btss.shape\";\n",
       "                var nbb_formatted_code = \"df_results_full_cm_p_cs_btss.shape\";\n",
       "                var nbb_cells = Jupyter.notebook.get_cells();\n",
       "                for (var i = 0; i < nbb_cells.length; ++i) {\n",
       "                    if (nbb_cells[i].input_prompt_number == nbb_cell_id) {\n",
       "                        if (nbb_cells[i].get_text() == nbb_unformatted_code) {\n",
       "                             nbb_cells[i].set_text(nbb_formatted_code);\n",
       "                        }\n",
       "                        break;\n",
       "                    }\n",
       "                }\n",
       "            }, 500);\n",
       "            "
      ],
      "text/plain": [
       "<IPython.core.display.Javascript object>"
      ]
     },
     "metadata": {},
     "output_type": "display_data"
    }
   ],
   "source": [
    "df_results_full_cm_p_cs_btss.shape"
   ]
  },
  {
   "cell_type": "code",
   "execution_count": 93,
   "id": "e57b11d1",
   "metadata": {},
   "outputs": [
    {
     "data": {
      "text/plain": [
       "(20,)"
      ]
     },
     "execution_count": 93,
     "metadata": {},
     "output_type": "execute_result"
    },
    {
     "data": {
      "application/javascript": [
       "\n",
       "            setTimeout(function() {\n",
       "                var nbb_cell_id = 93;\n",
       "                var nbb_unformatted_code = \"df_results_full_cm_p_cs_btss.groupby(\\n    [\\\"Company\\\", \\\"Plant\\\", \\\"Model\\\", \\\"Timesteps\\\"], dropna=False\\n)[\\\"RMSE Test\\\"].mean().shape\";\n",
       "                var nbb_formatted_code = \"df_results_full_cm_p_cs_btss.groupby(\\n    [\\\"Company\\\", \\\"Plant\\\", \\\"Model\\\", \\\"Timesteps\\\"], dropna=False\\n)[\\\"RMSE Test\\\"].mean().shape\";\n",
       "                var nbb_cells = Jupyter.notebook.get_cells();\n",
       "                for (var i = 0; i < nbb_cells.length; ++i) {\n",
       "                    if (nbb_cells[i].input_prompt_number == nbb_cell_id) {\n",
       "                        if (nbb_cells[i].get_text() == nbb_unformatted_code) {\n",
       "                             nbb_cells[i].set_text(nbb_formatted_code);\n",
       "                        }\n",
       "                        break;\n",
       "                    }\n",
       "                }\n",
       "            }, 500);\n",
       "            "
      ],
      "text/plain": [
       "<IPython.core.display.Javascript object>"
      ]
     },
     "metadata": {},
     "output_type": "display_data"
    }
   ],
   "source": [
    "df_results_full_cm_p_cs_btss.groupby(\n",
    "    [\"Company\", \"Plant\", \"Model\", \"Timesteps\"], dropna=False\n",
    ")[\"RMSE Test\"].mean().shape"
   ]
  },
  {
   "cell_type": "markdown",
   "id": "0ab5bd97",
   "metadata": {},
   "source": [
    "### Time Series Split"
   ]
  },
  {
   "cell_type": "code",
   "execution_count": 94,
   "id": "e135f213",
   "metadata": {},
   "outputs": [
    {
     "data": {
      "text/plain": [
       "array(['Blocking Time Series Split', 'Time Series Split'], dtype=object)"
      ]
     },
     "execution_count": 94,
     "metadata": {},
     "output_type": "execute_result"
    },
    {
     "data": {
      "application/javascript": [
       "\n",
       "            setTimeout(function() {\n",
       "                var nbb_cell_id = 94;\n",
       "                var nbb_unformatted_code = \"df_results_full_cm_p_cs[\\\"Cross Validation\\\"].unique()\";\n",
       "                var nbb_formatted_code = \"df_results_full_cm_p_cs[\\\"Cross Validation\\\"].unique()\";\n",
       "                var nbb_cells = Jupyter.notebook.get_cells();\n",
       "                for (var i = 0; i < nbb_cells.length; ++i) {\n",
       "                    if (nbb_cells[i].input_prompt_number == nbb_cell_id) {\n",
       "                        if (nbb_cells[i].get_text() == nbb_unformatted_code) {\n",
       "                             nbb_cells[i].set_text(nbb_formatted_code);\n",
       "                        }\n",
       "                        break;\n",
       "                    }\n",
       "                }\n",
       "            }, 500);\n",
       "            "
      ],
      "text/plain": [
       "<IPython.core.display.Javascript object>"
      ]
     },
     "metadata": {},
     "output_type": "display_data"
    }
   ],
   "source": [
    "df_results_full_cm_p_cs[\"Cross Validation\"].unique()"
   ]
  },
  {
   "cell_type": "code",
   "execution_count": 95,
   "id": "1bc0924a",
   "metadata": {},
   "outputs": [
    {
     "data": {
      "application/javascript": [
       "\n",
       "            setTimeout(function() {\n",
       "                var nbb_cell_id = 95;\n",
       "                var nbb_unformatted_code = \"df_results_full_cm_p_cs_tss = (\\n    df_results_full_cm_p_cs[\\n        df_results_full_cm_p_cs[\\\"Cross Validation\\\"].eq(\\\"Time Series Split\\\")\\n    ]\\n    .copy()\\n    .reset_index(drop=True)\\n)\";\n",
       "                var nbb_formatted_code = \"df_results_full_cm_p_cs_tss = (\\n    df_results_full_cm_p_cs[\\n        df_results_full_cm_p_cs[\\\"Cross Validation\\\"].eq(\\\"Time Series Split\\\")\\n    ]\\n    .copy()\\n    .reset_index(drop=True)\\n)\";\n",
       "                var nbb_cells = Jupyter.notebook.get_cells();\n",
       "                for (var i = 0; i < nbb_cells.length; ++i) {\n",
       "                    if (nbb_cells[i].input_prompt_number == nbb_cell_id) {\n",
       "                        if (nbb_cells[i].get_text() == nbb_unformatted_code) {\n",
       "                             nbb_cells[i].set_text(nbb_formatted_code);\n",
       "                        }\n",
       "                        break;\n",
       "                    }\n",
       "                }\n",
       "            }, 500);\n",
       "            "
      ],
      "text/plain": [
       "<IPython.core.display.Javascript object>"
      ]
     },
     "metadata": {},
     "output_type": "display_data"
    }
   ],
   "source": [
    "df_results_full_cm_p_cs_tss = (\n",
    "    df_results_full_cm_p_cs[\n",
    "        df_results_full_cm_p_cs[\"Cross Validation\"].eq(\"Time Series Split\")\n",
    "    ]\n",
    "    .copy()\n",
    "    .reset_index(drop=True)\n",
    ")"
   ]
  },
  {
   "cell_type": "code",
   "execution_count": 96,
   "id": "7ad65629",
   "metadata": {},
   "outputs": [
    {
     "data": {
      "text/plain": [
       "array(['Time Series Split'], dtype=object)"
      ]
     },
     "execution_count": 96,
     "metadata": {},
     "output_type": "execute_result"
    },
    {
     "data": {
      "application/javascript": [
       "\n",
       "            setTimeout(function() {\n",
       "                var nbb_cell_id = 96;\n",
       "                var nbb_unformatted_code = \"df_results_full_cm_p_cs_tss[\\\"Cross Validation\\\"].unique()\";\n",
       "                var nbb_formatted_code = \"df_results_full_cm_p_cs_tss[\\\"Cross Validation\\\"].unique()\";\n",
       "                var nbb_cells = Jupyter.notebook.get_cells();\n",
       "                for (var i = 0; i < nbb_cells.length; ++i) {\n",
       "                    if (nbb_cells[i].input_prompt_number == nbb_cell_id) {\n",
       "                        if (nbb_cells[i].get_text() == nbb_unformatted_code) {\n",
       "                             nbb_cells[i].set_text(nbb_formatted_code);\n",
       "                        }\n",
       "                        break;\n",
       "                    }\n",
       "                }\n",
       "            }, 500);\n",
       "            "
      ],
      "text/plain": [
       "<IPython.core.display.Javascript object>"
      ]
     },
     "metadata": {},
     "output_type": "display_data"
    }
   ],
   "source": [
    "df_results_full_cm_p_cs_tss[\"Cross Validation\"].unique()"
   ]
  },
  {
   "cell_type": "code",
   "execution_count": 97,
   "id": "6476f6b8",
   "metadata": {},
   "outputs": [
    {
     "data": {
      "text/plain": [
       "(215, 24)"
      ]
     },
     "execution_count": 97,
     "metadata": {},
     "output_type": "execute_result"
    },
    {
     "data": {
      "application/javascript": [
       "\n",
       "            setTimeout(function() {\n",
       "                var nbb_cell_id = 97;\n",
       "                var nbb_unformatted_code = \"df_results_full_cm_p_cs_tss.shape\";\n",
       "                var nbb_formatted_code = \"df_results_full_cm_p_cs_tss.shape\";\n",
       "                var nbb_cells = Jupyter.notebook.get_cells();\n",
       "                for (var i = 0; i < nbb_cells.length; ++i) {\n",
       "                    if (nbb_cells[i].input_prompt_number == nbb_cell_id) {\n",
       "                        if (nbb_cells[i].get_text() == nbb_unformatted_code) {\n",
       "                             nbb_cells[i].set_text(nbb_formatted_code);\n",
       "                        }\n",
       "                        break;\n",
       "                    }\n",
       "                }\n",
       "            }, 500);\n",
       "            "
      ],
      "text/plain": [
       "<IPython.core.display.Javascript object>"
      ]
     },
     "metadata": {},
     "output_type": "display_data"
    }
   ],
   "source": [
    "df_results_full_cm_p_cs_tss.shape"
   ]
  },
  {
   "cell_type": "code",
   "execution_count": 98,
   "id": "29e3cb52",
   "metadata": {},
   "outputs": [
    {
     "data": {
      "text/plain": [
       "(17,)"
      ]
     },
     "execution_count": 98,
     "metadata": {},
     "output_type": "execute_result"
    },
    {
     "data": {
      "application/javascript": [
       "\n",
       "            setTimeout(function() {\n",
       "                var nbb_cell_id = 98;\n",
       "                var nbb_unformatted_code = \"df_results_full_cm_p_cs_tss.groupby(\\n    [\\\"Company\\\", \\\"Plant\\\", \\\"Model\\\", \\\"Timesteps\\\"], dropna=False\\n)[\\\"RMSE Test\\\"].mean().shape\";\n",
       "                var nbb_formatted_code = \"df_results_full_cm_p_cs_tss.groupby(\\n    [\\\"Company\\\", \\\"Plant\\\", \\\"Model\\\", \\\"Timesteps\\\"], dropna=False\\n)[\\\"RMSE Test\\\"].mean().shape\";\n",
       "                var nbb_cells = Jupyter.notebook.get_cells();\n",
       "                for (var i = 0; i < nbb_cells.length; ++i) {\n",
       "                    if (nbb_cells[i].input_prompt_number == nbb_cell_id) {\n",
       "                        if (nbb_cells[i].get_text() == nbb_unformatted_code) {\n",
       "                             nbb_cells[i].set_text(nbb_formatted_code);\n",
       "                        }\n",
       "                        break;\n",
       "                    }\n",
       "                }\n",
       "            }, 500);\n",
       "            "
      ],
      "text/plain": [
       "<IPython.core.display.Javascript object>"
      ]
     },
     "metadata": {},
     "output_type": "display_data"
    }
   ],
   "source": [
    "df_results_full_cm_p_cs_tss.groupby(\n",
    "    [\"Company\", \"Plant\", \"Model\", \"Timesteps\"], dropna=False\n",
    ")[\"RMSE Test\"].mean().shape"
   ]
  },
  {
   "cell_type": "markdown",
   "id": "8e1e8fb4",
   "metadata": {},
   "source": [
    "# Grouped Dataset"
   ]
  },
  {
   "cell_type": "code",
   "execution_count": 99,
   "id": "36abbb67",
   "metadata": {},
   "outputs": [
    {
     "data": {
      "application/javascript": [
       "\n",
       "            setTimeout(function() {\n",
       "                var nbb_cell_id = 99;\n",
       "                var nbb_unformatted_code = \"dfs_plant = dict()\\ncolumn = (\\\"plant\\\", \\\"\\\")\\npos = 2\\n\\nfor plant, csv_files in csv_files_path_grouped.items():\\n    df = read_csv_files_grouped(csv_files, plant)\\n    df[\\\"plant\\\"] = plant\\n    df = preprocess_rename_columns(df)\\n    df = preprocess_change_columns_order(df, column, pos)\\n    dfs_plant[plant] = df\";\n",
       "                var nbb_formatted_code = \"dfs_plant = dict()\\ncolumn = (\\\"plant\\\", \\\"\\\")\\npos = 2\\n\\nfor plant, csv_files in csv_files_path_grouped.items():\\n    df = read_csv_files_grouped(csv_files, plant)\\n    df[\\\"plant\\\"] = plant\\n    df = preprocess_rename_columns(df)\\n    df = preprocess_change_columns_order(df, column, pos)\\n    dfs_plant[plant] = df\";\n",
       "                var nbb_cells = Jupyter.notebook.get_cells();\n",
       "                for (var i = 0; i < nbb_cells.length; ++i) {\n",
       "                    if (nbb_cells[i].input_prompt_number == nbb_cell_id) {\n",
       "                        if (nbb_cells[i].get_text() == nbb_unformatted_code) {\n",
       "                             nbb_cells[i].set_text(nbb_formatted_code);\n",
       "                        }\n",
       "                        break;\n",
       "                    }\n",
       "                }\n",
       "            }, 500);\n",
       "            "
      ],
      "text/plain": [
       "<IPython.core.display.Javascript object>"
      ]
     },
     "metadata": {},
     "output_type": "display_data"
    }
   ],
   "source": [
    "dfs_plant = dict()\n",
    "column = (\"plant\", \"\")\n",
    "pos = 2\n",
    "\n",
    "for plant, csv_files in csv_files_path_grouped.items():\n",
    "    df = read_csv_files_grouped(csv_files, plant)\n",
    "    df[\"plant\"] = plant\n",
    "    df = preprocess_rename_columns(df)\n",
    "    df = preprocess_change_columns_order(df, column, pos)\n",
    "    dfs_plant[plant] = df"
   ]
  },
  {
   "cell_type": "code",
   "execution_count": 100,
   "id": "0dc1a2eb",
   "metadata": {},
   "outputs": [
    {
     "data": {
      "application/javascript": [
       "\n",
       "            setTimeout(function() {\n",
       "                var nbb_cell_id = 100;\n",
       "                var nbb_unformatted_code = \"df = pd.concat(dfs_plant)\\ndf_copy = df.copy()\\ndf_copy = (\\n    df_copy.reset_index(level=0)\\n    .rename({\\\"level_0\\\": \\\"Plant\\\"}, axis=1)\\n    .reset_index(drop=True)\\n)\";\n",
       "                var nbb_formatted_code = \"df = pd.concat(dfs_plant)\\ndf_copy = df.copy()\\ndf_copy = (\\n    df_copy.reset_index(level=0)\\n    .rename({\\\"level_0\\\": \\\"Plant\\\"}, axis=1)\\n    .reset_index(drop=True)\\n)\";\n",
       "                var nbb_cells = Jupyter.notebook.get_cells();\n",
       "                for (var i = 0; i < nbb_cells.length; ++i) {\n",
       "                    if (nbb_cells[i].input_prompt_number == nbb_cell_id) {\n",
       "                        if (nbb_cells[i].get_text() == nbb_unformatted_code) {\n",
       "                             nbb_cells[i].set_text(nbb_formatted_code);\n",
       "                        }\n",
       "                        break;\n",
       "                    }\n",
       "                }\n",
       "            }, 500);\n",
       "            "
      ],
      "text/plain": [
       "<IPython.core.display.Javascript object>"
      ]
     },
     "metadata": {},
     "output_type": "display_data"
    }
   ],
   "source": [
    "df = pd.concat(dfs_plant)\n",
    "df_copy = df.copy()\n",
    "df_copy = (\n",
    "    df_copy.reset_index(level=0)\n",
    "    .rename({\"level_0\": \"Plant\"}, axis=1)\n",
    "    .reset_index(drop=True)\n",
    ")"
   ]
  },
  {
   "cell_type": "code",
   "execution_count": 101,
   "id": "d38fa0b2",
   "metadata": {},
   "outputs": [
    {
     "data": {
      "text/plain": [
       "(797, 26)"
      ]
     },
     "execution_count": 101,
     "metadata": {},
     "output_type": "execute_result"
    },
    {
     "data": {
      "application/javascript": [
       "\n",
       "            setTimeout(function() {\n",
       "                var nbb_cell_id = 101;\n",
       "                var nbb_unformatted_code = \"df_copy.shape\";\n",
       "                var nbb_formatted_code = \"df_copy.shape\";\n",
       "                var nbb_cells = Jupyter.notebook.get_cells();\n",
       "                for (var i = 0; i < nbb_cells.length; ++i) {\n",
       "                    if (nbb_cells[i].input_prompt_number == nbb_cell_id) {\n",
       "                        if (nbb_cells[i].get_text() == nbb_unformatted_code) {\n",
       "                             nbb_cells[i].set_text(nbb_formatted_code);\n",
       "                        }\n",
       "                        break;\n",
       "                    }\n",
       "                }\n",
       "            }, 500);\n",
       "            "
      ],
      "text/plain": [
       "<IPython.core.display.Javascript object>"
      ]
     },
     "metadata": {},
     "output_type": "display_data"
    }
   ],
   "source": [
    "df_copy.shape"
   ]
  },
  {
   "cell_type": "code",
   "execution_count": 102,
   "id": "d9c1f579",
   "metadata": {},
   "outputs": [
    {
     "data": {
      "application/javascript": [
       "\n",
       "            setTimeout(function() {\n",
       "                var nbb_cell_id = 102;\n",
       "                var nbb_unformatted_code = \"df_full_filter = df_full[\\n    df_full[\\\"Cross Validation\\\"].eq(\\\"Time Series Split\\\")\\n].reset_index(drop=True)\\n\\ndf_full_groupped = df_full_filter.groupby(\\n    [\\n        \\\"Category\\\",\\n        \\\"Company\\\",\\n        \\\"Features\\\",\\n        \\\"Data Shape\\\",\\n        \\\"Timesteps\\\",\\n        \\\"Model\\\",\\n        \\\"Cross Validation\\\",\\n        \\\"Cross Validation Params\\\",\\n        \\\"plant\\\",\\n        \\\"Plant\\\",\\n    ],\\n    dropna=False,\\n    as_index=False,\\n).last()\";\n",
       "                var nbb_formatted_code = \"df_full_filter = df_full[\\n    df_full[\\\"Cross Validation\\\"].eq(\\\"Time Series Split\\\")\\n].reset_index(drop=True)\\n\\ndf_full_groupped = df_full_filter.groupby(\\n    [\\n        \\\"Category\\\",\\n        \\\"Company\\\",\\n        \\\"Features\\\",\\n        \\\"Data Shape\\\",\\n        \\\"Timesteps\\\",\\n        \\\"Model\\\",\\n        \\\"Cross Validation\\\",\\n        \\\"Cross Validation Params\\\",\\n        \\\"plant\\\",\\n        \\\"Plant\\\",\\n    ],\\n    dropna=False,\\n    as_index=False,\\n).last()\";\n",
       "                var nbb_cells = Jupyter.notebook.get_cells();\n",
       "                for (var i = 0; i < nbb_cells.length; ++i) {\n",
       "                    if (nbb_cells[i].input_prompt_number == nbb_cell_id) {\n",
       "                        if (nbb_cells[i].get_text() == nbb_unformatted_code) {\n",
       "                             nbb_cells[i].set_text(nbb_formatted_code);\n",
       "                        }\n",
       "                        break;\n",
       "                    }\n",
       "                }\n",
       "            }, 500);\n",
       "            "
      ],
      "text/plain": [
       "<IPython.core.display.Javascript object>"
      ]
     },
     "metadata": {},
     "output_type": "display_data"
    }
   ],
   "source": [
    "df_full_filter = df_full[\n",
    "    df_full[\"Cross Validation\"].eq(\"Time Series Split\")\n",
    "].reset_index(drop=True)\n",
    "\n",
    "df_full_groupped = df_full_filter.groupby(\n",
    "    [\n",
    "        \"Category\",\n",
    "        \"Company\",\n",
    "        \"Features\",\n",
    "        \"Data Shape\",\n",
    "        \"Timesteps\",\n",
    "        \"Model\",\n",
    "        \"Cross Validation\",\n",
    "        \"Cross Validation Params\",\n",
    "        \"plant\",\n",
    "        \"Plant\",\n",
    "    ],\n",
    "    dropna=False,\n",
    "    as_index=False,\n",
    ").last()"
   ]
  },
  {
   "cell_type": "code",
   "execution_count": 103,
   "id": "d0545367",
   "metadata": {},
   "outputs": [
    {
     "data": {
      "application/javascript": [
       "\n",
       "            setTimeout(function() {\n",
       "                var nbb_cell_id = 103;\n",
       "                var nbb_unformatted_code = \"df_copy = df_full_groupped\";\n",
       "                var nbb_formatted_code = \"df_copy = df_full_groupped\";\n",
       "                var nbb_cells = Jupyter.notebook.get_cells();\n",
       "                for (var i = 0; i < nbb_cells.length; ++i) {\n",
       "                    if (nbb_cells[i].input_prompt_number == nbb_cell_id) {\n",
       "                        if (nbb_cells[i].get_text() == nbb_unformatted_code) {\n",
       "                             nbb_cells[i].set_text(nbb_formatted_code);\n",
       "                        }\n",
       "                        break;\n",
       "                    }\n",
       "                }\n",
       "            }, 500);\n",
       "            "
      ],
      "text/plain": [
       "<IPython.core.display.Javascript object>"
      ]
     },
     "metadata": {},
     "output_type": "display_data"
    }
   ],
   "source": [
    "df_copy = df_full_groupped"
   ]
  },
  {
   "cell_type": "markdown",
   "id": "d61f0138",
   "metadata": {},
   "source": [
    "## Preprocessing steps"
   ]
  },
  {
   "cell_type": "code",
   "execution_count": 104,
   "id": "a3bc9a64",
   "metadata": {},
   "outputs": [
    {
     "data": {
      "application/javascript": [
       "\n",
       "            setTimeout(function() {\n",
       "                var nbb_cell_id = 104;\n",
       "                var nbb_unformatted_code = \"patterns = [\\n    \\\"Chemical + Mineralogical + Feature Engineering\\\",\\n    \\\"Chemical + Mineralogical + CS7 + One-Hot\\\",\\n    \\\"Chemical + Mineralogical + Physical + One-Hot\\\",\\n    \\\"Chemical + Mineralogical + CS3 + One-Hot\\\",\\n    \\\"Chemical + Mineralogical + CS3 + CS7 + One-Hot\\\",\\n    \\\"Chemical + Mineralogical + One-Hot\\\",\\n    \\\"Chemical + Mineralogical + CS1 + CS3 + CS7 + One-Hot\\\",\\n    \\\"Chemical + Mineralogical + CS1 + CS3 + One-Hot\\\",\\n    \\\"Chemical + Mineralogical + CS1 + One-Hot\\\",\\n    \\\"Chemical + Mineralogical + CS2 + One-Hot\\\",\\n    \\\"Chemical + Feature Engineering\\\",\\n]\\n\\nreplace_dict = {\\n    \\\"Chemical + Mineralogical + CS3 + CS7\\\": \\\"Chemical + Mineralogical + Early CS\\\",\\n    \\\"Chemical + Mineralogical + CS7\\\": \\\"Chemical + Mineralogical + Early CS\\\",\\n    \\\"Chemical + Mineralogical + CS3\\\": \\\"Chemical + Mineralogical + Early CS\\\",\\n    \\\"Chemical + Mineralogical + CS1\\\": \\\"Chemical + Mineralogical + Early CS\\\",\\n    \\\"Chemical + Mineralogical + CS1 + CS3\\\": \\\"Chemical + Mineralogical + Early CS\\\",\\n    \\\"Chemical + Mineralogical + CS1 + CS3 + CS7\\\": \\\"Chemical + Mineralogical + Early CS\\\",\\n    \\\"Chemical + Mineralogical + CS2\\\": \\\"Chemical + Mineralogical + Early CS\\\",\\n    \\\"Chemical + CS1 + CS3 + CS7\\\": \\\"Chemical + Mineralogical + Early CS\\\",\\n    \\\"Chemical + CS3 + CS7\\\": \\\"Chemical + Mineralogical + Early CS\\\",\\n    \\\"Chemical + CS7\\\": \\\"Chemical + Mineralogical + Early CS\\\",\\n    \\\"Chemical + CS3\\\": \\\"Chemical + Mineralogical + Early CS\\\",\\n    \\\"Chemical + CS1 + CS3\\\": \\\"Chemical + Mineralogical + Early CS\\\",\\n    \\\"Chemical + CS1\\\": \\\"Chemical + Mineralogical + Early CS\\\",\\n    \\\"Chemical + CS1 + CS7\\\": \\\"Chemical + Mineralogical + Early CS\\\",\\n}\\n\\nreplace_dict_2 = {\\n    \\\"Chemical\\\": \\\"Chemical + Mineralogical\\\",\\n    \\\"Chemical + Properties CS Less\\\": \\\"Chemical + Mineralogical + Physical - Early CS\\\",\\n    \\\"Chemical + Mineralogical + Properties CS Less\\\": \\\"Chemical + Mineralogical + Physical - Early CS\\\",\\n    \\\"Chemical + Physical\\\": \\\"Chemical + Mineralogical + Physical\\\",\\n}\\n\\ndf_copy = df_copy[~df_copy[\\\"Cross Validation\\\"].eq(\\\"Out of time Split\\\")].reset_index(\\n    drop=True\\n)\\n\\n# Removing afterwards\\ndf_copy = df_copy[~df_copy[\\\"Cross Validation\\\"].eq(\\\"Repeated KFold\\\")].reset_index(\\n    drop=True\\n)\\n\\ndf_copy = df_copy[~df_copy[\\\"Features\\\"].apply(lambda x: x in patterns)].reset_index(\\n    drop=True\\n)\\ndf_copy[\\\"Features_bkp\\\"] = df_copy[\\\"Features\\\"].copy()\\ndf_copy[\\\"Features\\\"] = df_copy[\\\"Features\\\"].replace(replace_dict)\\n\\ndf_copy[\\\"Features\\\"] = df_copy[\\\"Features\\\"].replace(replace_dict_2)\\n\\n# Removing afterwards\\ndf_copy = df_copy[\\n    ~df_copy[\\\"Features\\\"].eq(\\\"Chemical + Mineralogical + Early CS\\\")\\n].reset_index(drop=True)\";\n",
       "                var nbb_formatted_code = \"patterns = [\\n    \\\"Chemical + Mineralogical + Feature Engineering\\\",\\n    \\\"Chemical + Mineralogical + CS7 + One-Hot\\\",\\n    \\\"Chemical + Mineralogical + Physical + One-Hot\\\",\\n    \\\"Chemical + Mineralogical + CS3 + One-Hot\\\",\\n    \\\"Chemical + Mineralogical + CS3 + CS7 + One-Hot\\\",\\n    \\\"Chemical + Mineralogical + One-Hot\\\",\\n    \\\"Chemical + Mineralogical + CS1 + CS3 + CS7 + One-Hot\\\",\\n    \\\"Chemical + Mineralogical + CS1 + CS3 + One-Hot\\\",\\n    \\\"Chemical + Mineralogical + CS1 + One-Hot\\\",\\n    \\\"Chemical + Mineralogical + CS2 + One-Hot\\\",\\n    \\\"Chemical + Feature Engineering\\\",\\n]\\n\\nreplace_dict = {\\n    \\\"Chemical + Mineralogical + CS3 + CS7\\\": \\\"Chemical + Mineralogical + Early CS\\\",\\n    \\\"Chemical + Mineralogical + CS7\\\": \\\"Chemical + Mineralogical + Early CS\\\",\\n    \\\"Chemical + Mineralogical + CS3\\\": \\\"Chemical + Mineralogical + Early CS\\\",\\n    \\\"Chemical + Mineralogical + CS1\\\": \\\"Chemical + Mineralogical + Early CS\\\",\\n    \\\"Chemical + Mineralogical + CS1 + CS3\\\": \\\"Chemical + Mineralogical + Early CS\\\",\\n    \\\"Chemical + Mineralogical + CS1 + CS3 + CS7\\\": \\\"Chemical + Mineralogical + Early CS\\\",\\n    \\\"Chemical + Mineralogical + CS2\\\": \\\"Chemical + Mineralogical + Early CS\\\",\\n    \\\"Chemical + CS1 + CS3 + CS7\\\": \\\"Chemical + Mineralogical + Early CS\\\",\\n    \\\"Chemical + CS3 + CS7\\\": \\\"Chemical + Mineralogical + Early CS\\\",\\n    \\\"Chemical + CS7\\\": \\\"Chemical + Mineralogical + Early CS\\\",\\n    \\\"Chemical + CS3\\\": \\\"Chemical + Mineralogical + Early CS\\\",\\n    \\\"Chemical + CS1 + CS3\\\": \\\"Chemical + Mineralogical + Early CS\\\",\\n    \\\"Chemical + CS1\\\": \\\"Chemical + Mineralogical + Early CS\\\",\\n    \\\"Chemical + CS1 + CS7\\\": \\\"Chemical + Mineralogical + Early CS\\\",\\n}\\n\\nreplace_dict_2 = {\\n    \\\"Chemical\\\": \\\"Chemical + Mineralogical\\\",\\n    \\\"Chemical + Properties CS Less\\\": \\\"Chemical + Mineralogical + Physical - Early CS\\\",\\n    \\\"Chemical + Mineralogical + Properties CS Less\\\": \\\"Chemical + Mineralogical + Physical - Early CS\\\",\\n    \\\"Chemical + Physical\\\": \\\"Chemical + Mineralogical + Physical\\\",\\n}\\n\\ndf_copy = df_copy[~df_copy[\\\"Cross Validation\\\"].eq(\\\"Out of time Split\\\")].reset_index(\\n    drop=True\\n)\\n\\n# Removing afterwards\\ndf_copy = df_copy[~df_copy[\\\"Cross Validation\\\"].eq(\\\"Repeated KFold\\\")].reset_index(\\n    drop=True\\n)\\n\\ndf_copy = df_copy[~df_copy[\\\"Features\\\"].apply(lambda x: x in patterns)].reset_index(\\n    drop=True\\n)\\ndf_copy[\\\"Features_bkp\\\"] = df_copy[\\\"Features\\\"].copy()\\ndf_copy[\\\"Features\\\"] = df_copy[\\\"Features\\\"].replace(replace_dict)\\n\\ndf_copy[\\\"Features\\\"] = df_copy[\\\"Features\\\"].replace(replace_dict_2)\\n\\n# Removing afterwards\\ndf_copy = df_copy[\\n    ~df_copy[\\\"Features\\\"].eq(\\\"Chemical + Mineralogical + Early CS\\\")\\n].reset_index(drop=True)\";\n",
       "                var nbb_cells = Jupyter.notebook.get_cells();\n",
       "                for (var i = 0; i < nbb_cells.length; ++i) {\n",
       "                    if (nbb_cells[i].input_prompt_number == nbb_cell_id) {\n",
       "                        if (nbb_cells[i].get_text() == nbb_unformatted_code) {\n",
       "                             nbb_cells[i].set_text(nbb_formatted_code);\n",
       "                        }\n",
       "                        break;\n",
       "                    }\n",
       "                }\n",
       "            }, 500);\n",
       "            "
      ],
      "text/plain": [
       "<IPython.core.display.Javascript object>"
      ]
     },
     "metadata": {},
     "output_type": "display_data"
    }
   ],
   "source": [
    "patterns = [\n",
    "    \"Chemical + Mineralogical + Feature Engineering\",\n",
    "    \"Chemical + Mineralogical + CS7 + One-Hot\",\n",
    "    \"Chemical + Mineralogical + Physical + One-Hot\",\n",
    "    \"Chemical + Mineralogical + CS3 + One-Hot\",\n",
    "    \"Chemical + Mineralogical + CS3 + CS7 + One-Hot\",\n",
    "    \"Chemical + Mineralogical + One-Hot\",\n",
    "    \"Chemical + Mineralogical + CS1 + CS3 + CS7 + One-Hot\",\n",
    "    \"Chemical + Mineralogical + CS1 + CS3 + One-Hot\",\n",
    "    \"Chemical + Mineralogical + CS1 + One-Hot\",\n",
    "    \"Chemical + Mineralogical + CS2 + One-Hot\",\n",
    "    \"Chemical + Feature Engineering\",\n",
    "]\n",
    "\n",
    "replace_dict = {\n",
    "    \"Chemical + Mineralogical + CS3 + CS7\": \"Chemical + Mineralogical + Early CS\",\n",
    "    \"Chemical + Mineralogical + CS7\": \"Chemical + Mineralogical + Early CS\",\n",
    "    \"Chemical + Mineralogical + CS3\": \"Chemical + Mineralogical + Early CS\",\n",
    "    \"Chemical + Mineralogical + CS1\": \"Chemical + Mineralogical + Early CS\",\n",
    "    \"Chemical + Mineralogical + CS1 + CS3\": \"Chemical + Mineralogical + Early CS\",\n",
    "    \"Chemical + Mineralogical + CS1 + CS3 + CS7\": \"Chemical + Mineralogical + Early CS\",\n",
    "    \"Chemical + Mineralogical + CS2\": \"Chemical + Mineralogical + Early CS\",\n",
    "    \"Chemical + CS1 + CS3 + CS7\": \"Chemical + Mineralogical + Early CS\",\n",
    "    \"Chemical + CS3 + CS7\": \"Chemical + Mineralogical + Early CS\",\n",
    "    \"Chemical + CS7\": \"Chemical + Mineralogical + Early CS\",\n",
    "    \"Chemical + CS3\": \"Chemical + Mineralogical + Early CS\",\n",
    "    \"Chemical + CS1 + CS3\": \"Chemical + Mineralogical + Early CS\",\n",
    "    \"Chemical + CS1\": \"Chemical + Mineralogical + Early CS\",\n",
    "    \"Chemical + CS1 + CS7\": \"Chemical + Mineralogical + Early CS\",\n",
    "}\n",
    "\n",
    "replace_dict_2 = {\n",
    "    \"Chemical\": \"Chemical + Mineralogical\",\n",
    "    \"Chemical + Properties CS Less\": \"Chemical + Mineralogical + Physical - Early CS\",\n",
    "    \"Chemical + Mineralogical + Properties CS Less\": \"Chemical + Mineralogical + Physical - Early CS\",\n",
    "    \"Chemical + Physical\": \"Chemical + Mineralogical + Physical\",\n",
    "}\n",
    "\n",
    "df_copy = df_copy[~df_copy[\"Cross Validation\"].eq(\"Out of time Split\")].reset_index(\n",
    "    drop=True\n",
    ")\n",
    "\n",
    "# Removing afterwards\n",
    "df_copy = df_copy[~df_copy[\"Cross Validation\"].eq(\"Repeated KFold\")].reset_index(\n",
    "    drop=True\n",
    ")\n",
    "\n",
    "df_copy = df_copy[~df_copy[\"Features\"].apply(lambda x: x in patterns)].reset_index(\n",
    "    drop=True\n",
    ")\n",
    "df_copy[\"Features_bkp\"] = df_copy[\"Features\"].copy()\n",
    "df_copy[\"Features\"] = df_copy[\"Features\"].replace(replace_dict)\n",
    "\n",
    "df_copy[\"Features\"] = df_copy[\"Features\"].replace(replace_dict_2)\n",
    "\n",
    "# Removing afterwards\n",
    "df_copy = df_copy[\n",
    "    ~df_copy[\"Features\"].eq(\"Chemical + Mineralogical + Early CS\")\n",
    "].reset_index(drop=True)"
   ]
  },
  {
   "cell_type": "code",
   "execution_count": 105,
   "id": "2a85b96b",
   "metadata": {},
   "outputs": [
    {
     "data": {
      "application/javascript": [
       "\n",
       "            setTimeout(function() {\n",
       "                var nbb_cell_id = 105;\n",
       "                var nbb_unformatted_code = \"df_copy[\\\"MAPE Train\\\"] = df_copy[\\\"MAPE Train\\\"] * 100\\ndf_copy[\\\"MAPE Test\\\"] = df_copy[\\\"MAPE Test\\\"] * 100\\n\\ndf_copy[\\\"Model_bkp\\\"] = df_copy[\\\"Model\\\"].copy()\\ndf_copy[\\\"Model_bkp_2\\\"] = df_copy[\\\"Model\\\"] + df_copy[\\\"Timesteps\\\"].apply(\\n    lambda x: \\\"\\\" if pd.isna(x) else \\\"_\\\" + str(x)\\n)\\ndf_copy[\\\"Model\\\"] = df_copy[\\\"Model\\\"].replace(\\n    {\\n        \\\"MLP\\\": \\\"Neural Networks\\\",\\n        \\\"LSTM\\\": \\\"Neural Networks\\\",\\n        \\\"GRU\\\": \\\"Neural Networks\\\",\\n        \\\"BidirectionalLSTM\\\": \\\"Neural Networks\\\",\\n        \\\"BidirectionalGRU\\\": \\\"Neural Networks\\\",\\n        \\\"Transformer\\\": \\\"Neural Networks\\\",\\n        \\\"Decision Tree\\\": \\\"Trees\\\",\\n        \\\"Random Forest\\\": \\\"Trees\\\",\\n        \\\"XGBoost\\\": \\\"Trees\\\",\\n    }\\n)\";\n",
       "                var nbb_formatted_code = \"df_copy[\\\"MAPE Train\\\"] = df_copy[\\\"MAPE Train\\\"] * 100\\ndf_copy[\\\"MAPE Test\\\"] = df_copy[\\\"MAPE Test\\\"] * 100\\n\\ndf_copy[\\\"Model_bkp\\\"] = df_copy[\\\"Model\\\"].copy()\\ndf_copy[\\\"Model_bkp_2\\\"] = df_copy[\\\"Model\\\"] + df_copy[\\\"Timesteps\\\"].apply(\\n    lambda x: \\\"\\\" if pd.isna(x) else \\\"_\\\" + str(x)\\n)\\ndf_copy[\\\"Model\\\"] = df_copy[\\\"Model\\\"].replace(\\n    {\\n        \\\"MLP\\\": \\\"Neural Networks\\\",\\n        \\\"LSTM\\\": \\\"Neural Networks\\\",\\n        \\\"GRU\\\": \\\"Neural Networks\\\",\\n        \\\"BidirectionalLSTM\\\": \\\"Neural Networks\\\",\\n        \\\"BidirectionalGRU\\\": \\\"Neural Networks\\\",\\n        \\\"Transformer\\\": \\\"Neural Networks\\\",\\n        \\\"Decision Tree\\\": \\\"Trees\\\",\\n        \\\"Random Forest\\\": \\\"Trees\\\",\\n        \\\"XGBoost\\\": \\\"Trees\\\",\\n    }\\n)\";\n",
       "                var nbb_cells = Jupyter.notebook.get_cells();\n",
       "                for (var i = 0; i < nbb_cells.length; ++i) {\n",
       "                    if (nbb_cells[i].input_prompt_number == nbb_cell_id) {\n",
       "                        if (nbb_cells[i].get_text() == nbb_unformatted_code) {\n",
       "                             nbb_cells[i].set_text(nbb_formatted_code);\n",
       "                        }\n",
       "                        break;\n",
       "                    }\n",
       "                }\n",
       "            }, 500);\n",
       "            "
      ],
      "text/plain": [
       "<IPython.core.display.Javascript object>"
      ]
     },
     "metadata": {},
     "output_type": "display_data"
    }
   ],
   "source": [
    "df_copy[\"MAPE Train\"] = df_copy[\"MAPE Train\"] * 100\n",
    "df_copy[\"MAPE Test\"] = df_copy[\"MAPE Test\"] * 100\n",
    "\n",
    "df_copy[\"Model_bkp\"] = df_copy[\"Model\"].copy()\n",
    "df_copy[\"Model_bkp_2\"] = df_copy[\"Model\"] + df_copy[\"Timesteps\"].apply(\n",
    "    lambda x: \"\" if pd.isna(x) else \"_\" + str(x)\n",
    ")\n",
    "df_copy[\"Model\"] = df_copy[\"Model\"].replace(\n",
    "    {\n",
    "        \"MLP\": \"Neural Networks\",\n",
    "        \"LSTM\": \"Neural Networks\",\n",
    "        \"GRU\": \"Neural Networks\",\n",
    "        \"BidirectionalLSTM\": \"Neural Networks\",\n",
    "        \"BidirectionalGRU\": \"Neural Networks\",\n",
    "        \"Transformer\": \"Neural Networks\",\n",
    "        \"Decision Tree\": \"Trees\",\n",
    "        \"Random Forest\": \"Trees\",\n",
    "        \"XGBoost\": \"Trees\",\n",
    "    }\n",
    ")"
   ]
  },
  {
   "cell_type": "code",
   "execution_count": 106,
   "id": "647f4935",
   "metadata": {},
   "outputs": [
    {
     "data": {
      "text/plain": [
       "array(['Time Series Split'], dtype=object)"
      ]
     },
     "execution_count": 106,
     "metadata": {},
     "output_type": "execute_result"
    },
    {
     "data": {
      "application/javascript": [
       "\n",
       "            setTimeout(function() {\n",
       "                var nbb_cell_id = 106;\n",
       "                var nbb_unformatted_code = \"df_copy[\\\"Cross Validation\\\"].unique()\";\n",
       "                var nbb_formatted_code = \"df_copy[\\\"Cross Validation\\\"].unique()\";\n",
       "                var nbb_cells = Jupyter.notebook.get_cells();\n",
       "                for (var i = 0; i < nbb_cells.length; ++i) {\n",
       "                    if (nbb_cells[i].input_prompt_number == nbb_cell_id) {\n",
       "                        if (nbb_cells[i].get_text() == nbb_unformatted_code) {\n",
       "                             nbb_cells[i].set_text(nbb_formatted_code);\n",
       "                        }\n",
       "                        break;\n",
       "                    }\n",
       "                }\n",
       "            }, 500);\n",
       "            "
      ],
      "text/plain": [
       "<IPython.core.display.Javascript object>"
      ]
     },
     "metadata": {},
     "output_type": "display_data"
    }
   ],
   "source": [
    "df_copy[\"Cross Validation\"].unique()"
   ]
  },
  {
   "cell_type": "code",
   "execution_count": 107,
   "id": "57e2a624",
   "metadata": {},
   "outputs": [
    {
     "data": {
      "text/plain": [
       "array(['Chemical + Mineralogical', 'Chemical + Mineralogical + Physical',\n",
       "       'Chemical + Mineralogical + Physical - Early CS'], dtype=object)"
      ]
     },
     "execution_count": 107,
     "metadata": {},
     "output_type": "execute_result"
    },
    {
     "data": {
      "application/javascript": [
       "\n",
       "            setTimeout(function() {\n",
       "                var nbb_cell_id = 107;\n",
       "                var nbb_unformatted_code = \"df_copy[\\\"Features\\\"].unique()\";\n",
       "                var nbb_formatted_code = \"df_copy[\\\"Features\\\"].unique()\";\n",
       "                var nbb_cells = Jupyter.notebook.get_cells();\n",
       "                for (var i = 0; i < nbb_cells.length; ++i) {\n",
       "                    if (nbb_cells[i].input_prompt_number == nbb_cell_id) {\n",
       "                        if (nbb_cells[i].get_text() == nbb_unformatted_code) {\n",
       "                             nbb_cells[i].set_text(nbb_formatted_code);\n",
       "                        }\n",
       "                        break;\n",
       "                    }\n",
       "                }\n",
       "            }, 500);\n",
       "            "
      ],
      "text/plain": [
       "<IPython.core.display.Javascript object>"
      ]
     },
     "metadata": {},
     "output_type": "display_data"
    }
   ],
   "source": [
    "df_copy[\"Features\"].unique()"
   ]
  },
  {
   "cell_type": "code",
   "execution_count": 108,
   "id": "98689d8c",
   "metadata": {},
   "outputs": [
    {
     "data": {
      "text/plain": [
       "(57, 26)"
      ]
     },
     "execution_count": 108,
     "metadata": {},
     "output_type": "execute_result"
    },
    {
     "data": {
      "application/javascript": [
       "\n",
       "            setTimeout(function() {\n",
       "                var nbb_cell_id = 108;\n",
       "                var nbb_unformatted_code = \"df_copy.shape\";\n",
       "                var nbb_formatted_code = \"df_copy.shape\";\n",
       "                var nbb_cells = Jupyter.notebook.get_cells();\n",
       "                for (var i = 0; i < nbb_cells.length; ++i) {\n",
       "                    if (nbb_cells[i].input_prompt_number == nbb_cell_id) {\n",
       "                        if (nbb_cells[i].get_text() == nbb_unformatted_code) {\n",
       "                             nbb_cells[i].set_text(nbb_formatted_code);\n",
       "                        }\n",
       "                        break;\n",
       "                    }\n",
       "                }\n",
       "            }, 500);\n",
       "            "
      ],
      "text/plain": [
       "<IPython.core.display.Javascript object>"
      ]
     },
     "metadata": {},
     "output_type": "display_data"
    }
   ],
   "source": [
    "df_copy.shape"
   ]
  },
  {
   "cell_type": "code",
   "execution_count": 109,
   "id": "495cd891",
   "metadata": {},
   "outputs": [
    {
     "data": {
      "text/plain": [
       "array(['c'], dtype=object)"
      ]
     },
     "execution_count": 109,
     "metadata": {},
     "output_type": "execute_result"
    },
    {
     "data": {
      "application/javascript": [
       "\n",
       "            setTimeout(function() {\n",
       "                var nbb_cell_id = 109;\n",
       "                var nbb_unformatted_code = \"df_copy[\\\"plant\\\"].unique()\";\n",
       "                var nbb_formatted_code = \"df_copy[\\\"plant\\\"].unique()\";\n",
       "                var nbb_cells = Jupyter.notebook.get_cells();\n",
       "                for (var i = 0; i < nbb_cells.length; ++i) {\n",
       "                    if (nbb_cells[i].input_prompt_number == nbb_cell_id) {\n",
       "                        if (nbb_cells[i].get_text() == nbb_unformatted_code) {\n",
       "                             nbb_cells[i].set_text(nbb_formatted_code);\n",
       "                        }\n",
       "                        break;\n",
       "                    }\n",
       "                }\n",
       "            }, 500);\n",
       "            "
      ],
      "text/plain": [
       "<IPython.core.display.Javascript object>"
      ]
     },
     "metadata": {},
     "output_type": "display_data"
    }
   ],
   "source": [
    "df_copy[\"plant\"].unique()"
   ]
  },
  {
   "cell_type": "code",
   "execution_count": 110,
   "id": "d2ba9c9e",
   "metadata": {},
   "outputs": [
    {
     "data": {
      "text/plain": [
       "(1515, 24)"
      ]
     },
     "execution_count": 110,
     "metadata": {},
     "output_type": "execute_result"
    },
    {
     "data": {
      "application/javascript": [
       "\n",
       "            setTimeout(function() {\n",
       "                var nbb_cell_id = 110;\n",
       "                var nbb_unformatted_code = \"df_full.shape\";\n",
       "                var nbb_formatted_code = \"df_full.shape\";\n",
       "                var nbb_cells = Jupyter.notebook.get_cells();\n",
       "                for (var i = 0; i < nbb_cells.length; ++i) {\n",
       "                    if (nbb_cells[i].input_prompt_number == nbb_cell_id) {\n",
       "                        if (nbb_cells[i].get_text() == nbb_unformatted_code) {\n",
       "                             nbb_cells[i].set_text(nbb_formatted_code);\n",
       "                        }\n",
       "                        break;\n",
       "                    }\n",
       "                }\n",
       "            }, 500);\n",
       "            "
      ],
      "text/plain": [
       "<IPython.core.display.Javascript object>"
      ]
     },
     "metadata": {},
     "output_type": "display_data"
    }
   ],
   "source": [
    "df_full.shape"
   ]
  },
  {
   "cell_type": "code",
   "execution_count": 111,
   "id": "7e22755b",
   "metadata": {},
   "outputs": [
    {
     "data": {
      "application/javascript": [
       "\n",
       "            setTimeout(function() {\n",
       "                var nbb_cell_id = 111;\n",
       "                var nbb_unformatted_code = \"cols_groupby = [\\n    # \\\"Category\\\",\\n    # \\\"Company\\\",\\n    \\\"plant\\\",\\n    # \\\"Data Shape\\\",\\n    \\\"Timesteps\\\",\\n    \\\"Features_bkp\\\",\\n    \\\"Model\\\",\\n    \\\"Cross Validation\\\",\\n    \\\"Cross Validation Params\\\",\\n]\\n\\ncols_agg = [\\\"RMSE Train\\\", \\\"MAE Train\\\", \\\"MAPE Train\\\", \\\"R2 Train\\\"] + [\\n    \\\"RMSE Test\\\",\\n    \\\"MAE Test\\\",\\n    \\\"MAPE Test\\\",\\n    \\\"R2 Test\\\",\\n]\\n\\ndf_results_to_save = (\\n    df_full.groupby(cols_groupby, dropna=False)[cols_agg]\\n    .agg([\\\"mean\\\", lambda series: pd.Series(series.std(ddof=0), name=\\\"std\\\")])\\n    .reset_index()\\n    .rename(columns={\\\"<lambda_0>\\\": \\\"std\\\"})\\n)\";\n",
       "                var nbb_formatted_code = \"cols_groupby = [\\n    # \\\"Category\\\",\\n    # \\\"Company\\\",\\n    \\\"plant\\\",\\n    # \\\"Data Shape\\\",\\n    \\\"Timesteps\\\",\\n    \\\"Features_bkp\\\",\\n    \\\"Model\\\",\\n    \\\"Cross Validation\\\",\\n    \\\"Cross Validation Params\\\",\\n]\\n\\ncols_agg = [\\\"RMSE Train\\\", \\\"MAE Train\\\", \\\"MAPE Train\\\", \\\"R2 Train\\\"] + [\\n    \\\"RMSE Test\\\",\\n    \\\"MAE Test\\\",\\n    \\\"MAPE Test\\\",\\n    \\\"R2 Test\\\",\\n]\\n\\ndf_results_to_save = (\\n    df_full.groupby(cols_groupby, dropna=False)[cols_agg]\\n    .agg([\\\"mean\\\", lambda series: pd.Series(series.std(ddof=0), name=\\\"std\\\")])\\n    .reset_index()\\n    .rename(columns={\\\"<lambda_0>\\\": \\\"std\\\"})\\n)\";\n",
       "                var nbb_cells = Jupyter.notebook.get_cells();\n",
       "                for (var i = 0; i < nbb_cells.length; ++i) {\n",
       "                    if (nbb_cells[i].input_prompt_number == nbb_cell_id) {\n",
       "                        if (nbb_cells[i].get_text() == nbb_unformatted_code) {\n",
       "                             nbb_cells[i].set_text(nbb_formatted_code);\n",
       "                        }\n",
       "                        break;\n",
       "                    }\n",
       "                }\n",
       "            }, 500);\n",
       "            "
      ],
      "text/plain": [
       "<IPython.core.display.Javascript object>"
      ]
     },
     "metadata": {},
     "output_type": "display_data"
    }
   ],
   "source": [
    "cols_groupby = [\n",
    "    # \"Category\",\n",
    "    # \"Company\",\n",
    "    \"plant\",\n",
    "    # \"Data Shape\",\n",
    "    \"Timesteps\",\n",
    "    \"Features_bkp\",\n",
    "    \"Model\",\n",
    "    \"Cross Validation\",\n",
    "    \"Cross Validation Params\",\n",
    "]\n",
    "\n",
    "cols_agg = [\"RMSE Train\", \"MAE Train\", \"MAPE Train\", \"R2 Train\"] + [\n",
    "    \"RMSE Test\",\n",
    "    \"MAE Test\",\n",
    "    \"MAPE Test\",\n",
    "    \"R2 Test\",\n",
    "]\n",
    "\n",
    "df_results_to_save = (\n",
    "    df_full.groupby(cols_groupby, dropna=False)[cols_agg]\n",
    "    .agg([\"mean\", lambda series: pd.Series(series.std(ddof=0), name=\"std\")])\n",
    "    .reset_index()\n",
    "    .rename(columns={\"<lambda_0>\": \"std\"})\n",
    ")"
   ]
  },
  {
   "cell_type": "code",
   "execution_count": 112,
   "id": "663de4c8",
   "metadata": {},
   "outputs": [
    {
     "data": {
      "text/plain": [
       "(117, 22)"
      ]
     },
     "execution_count": 112,
     "metadata": {},
     "output_type": "execute_result"
    },
    {
     "data": {
      "application/javascript": [
       "\n",
       "            setTimeout(function() {\n",
       "                var nbb_cell_id = 112;\n",
       "                var nbb_unformatted_code = \"df_results_to_save.shape\";\n",
       "                var nbb_formatted_code = \"df_results_to_save.shape\";\n",
       "                var nbb_cells = Jupyter.notebook.get_cells();\n",
       "                for (var i = 0; i < nbb_cells.length; ++i) {\n",
       "                    if (nbb_cells[i].input_prompt_number == nbb_cell_id) {\n",
       "                        if (nbb_cells[i].get_text() == nbb_unformatted_code) {\n",
       "                             nbb_cells[i].set_text(nbb_formatted_code);\n",
       "                        }\n",
       "                        break;\n",
       "                    }\n",
       "                }\n",
       "            }, 500);\n",
       "            "
      ],
      "text/plain": [
       "<IPython.core.display.Javascript object>"
      ]
     },
     "metadata": {},
     "output_type": "display_data"
    }
   ],
   "source": [
    "df_results_to_save.shape"
   ]
  },
  {
   "cell_type": "code",
   "execution_count": 113,
   "id": "16364095",
   "metadata": {},
   "outputs": [
    {
     "data": {
      "text/plain": [
       "(57, 26)"
      ]
     },
     "execution_count": 113,
     "metadata": {},
     "output_type": "execute_result"
    },
    {
     "data": {
      "application/javascript": [
       "\n",
       "            setTimeout(function() {\n",
       "                var nbb_cell_id = 113;\n",
       "                var nbb_unformatted_code = \"df_copy.shape\";\n",
       "                var nbb_formatted_code = \"df_copy.shape\";\n",
       "                var nbb_cells = Jupyter.notebook.get_cells();\n",
       "                for (var i = 0; i < nbb_cells.length; ++i) {\n",
       "                    if (nbb_cells[i].input_prompt_number == nbb_cell_id) {\n",
       "                        if (nbb_cells[i].get_text() == nbb_unformatted_code) {\n",
       "                             nbb_cells[i].set_text(nbb_formatted_code);\n",
       "                        }\n",
       "                        break;\n",
       "                    }\n",
       "                }\n",
       "            }, 500);\n",
       "            "
      ],
      "text/plain": [
       "<IPython.core.display.Javascript object>"
      ]
     },
     "metadata": {},
     "output_type": "display_data"
    }
   ],
   "source": [
    "df_copy.shape"
   ]
  },
  {
   "cell_type": "code",
   "execution_count": 114,
   "id": "fdfa76b4",
   "metadata": {},
   "outputs": [
    {
     "data": {
      "application/javascript": [
       "\n",
       "            setTimeout(function() {\n",
       "                var nbb_cell_id = 114;\n",
       "                var nbb_unformatted_code = \"df_copy_grouped = df_copy.copy()\";\n",
       "                var nbb_formatted_code = \"df_copy_grouped = df_copy.copy()\";\n",
       "                var nbb_cells = Jupyter.notebook.get_cells();\n",
       "                for (var i = 0; i < nbb_cells.length; ++i) {\n",
       "                    if (nbb_cells[i].input_prompt_number == nbb_cell_id) {\n",
       "                        if (nbb_cells[i].get_text() == nbb_unformatted_code) {\n",
       "                             nbb_cells[i].set_text(nbb_formatted_code);\n",
       "                        }\n",
       "                        break;\n",
       "                    }\n",
       "                }\n",
       "            }, 500);\n",
       "            "
      ],
      "text/plain": [
       "<IPython.core.display.Javascript object>"
      ]
     },
     "metadata": {},
     "output_type": "display_data"
    }
   ],
   "source": [
    "df_copy_grouped = df_copy.copy()"
   ]
  },
  {
   "cell_type": "code",
   "execution_count": 115,
   "id": "43d97690",
   "metadata": {},
   "outputs": [
    {
     "data": {
      "text/plain": [
       "(57, 26)"
      ]
     },
     "execution_count": 115,
     "metadata": {},
     "output_type": "execute_result"
    },
    {
     "data": {
      "application/javascript": [
       "\n",
       "            setTimeout(function() {\n",
       "                var nbb_cell_id = 115;\n",
       "                var nbb_unformatted_code = \"df_copy_grouped.shape\";\n",
       "                var nbb_formatted_code = \"df_copy_grouped.shape\";\n",
       "                var nbb_cells = Jupyter.notebook.get_cells();\n",
       "                for (var i = 0; i < nbb_cells.length; ++i) {\n",
       "                    if (nbb_cells[i].input_prompt_number == nbb_cell_id) {\n",
       "                        if (nbb_cells[i].get_text() == nbb_unformatted_code) {\n",
       "                             nbb_cells[i].set_text(nbb_formatted_code);\n",
       "                        }\n",
       "                        break;\n",
       "                    }\n",
       "                }\n",
       "            }, 500);\n",
       "            "
      ],
      "text/plain": [
       "<IPython.core.display.Javascript object>"
      ]
     },
     "metadata": {},
     "output_type": "display_data"
    }
   ],
   "source": [
    "df_copy_grouped.shape"
   ]
  },
  {
   "cell_type": "markdown",
   "id": "ca839db8",
   "metadata": {},
   "source": [
    "# Topological Analysis - NEW"
   ]
  },
  {
   "cell_type": "markdown",
   "id": "2cdacf32",
   "metadata": {},
   "source": [
    "## Definitions"
   ]
  },
  {
   "cell_type": "code",
   "execution_count": 116,
   "id": "2be62215",
   "metadata": {},
   "outputs": [
    {
     "data": {
      "application/javascript": [
       "\n",
       "            setTimeout(function() {\n",
       "                var nbb_cell_id = 116;\n",
       "                var nbb_unformatted_code = \"# Function to compare two models strictly based on means only\\ndef dominates(model1, model2):\\n    \\\"\\\"\\\"Return True if model1 strictly dominates model2, False otherwise.\\\"\\\"\\\"\\n    # Check if model1 is at least as good as model2 in all metrics\\n    at_least_as_good = (\\n        model1[\\\"RMSE_mean\\\"] <= model2[\\\"RMSE_mean\\\"]\\n        and model1[\\\"MAE_mean\\\"] <= model2[\\\"MAE_mean\\\"]\\n        and model1[\\\"MAPE_mean\\\"] <= model2[\\\"MAPE_mean\\\"]\\n        and model1[\\\"R2_mean\\\"] >= model2[\\\"R2_mean\\\"]\\n    )\\n\\n    # Check if model1 is strictly better in at least one metric\\n    strictly_better_in_one = (\\n        model1[\\\"RMSE_mean\\\"] < model2[\\\"RMSE_mean\\\"]\\n        or model1[\\\"MAE_mean\\\"] < model2[\\\"MAE_mean\\\"]\\n        or model1[\\\"MAPE_mean\\\"] < model2[\\\"MAPE_mean\\\"]\\n        or model1[\\\"R2_mean\\\"] > model2[\\\"R2_mean\\\"]\\n    )\\n\\n    # Model1 strictly dominates Model2 if it is at least as good in all metrics and\\n    # strictly better in at least one metric\\n    return at_least_as_good and strictly_better_in_one\";\n",
       "                var nbb_formatted_code = \"# Function to compare two models strictly based on means only\\ndef dominates(model1, model2):\\n    \\\"\\\"\\\"Return True if model1 strictly dominates model2, False otherwise.\\\"\\\"\\\"\\n    # Check if model1 is at least as good as model2 in all metrics\\n    at_least_as_good = (\\n        model1[\\\"RMSE_mean\\\"] <= model2[\\\"RMSE_mean\\\"]\\n        and model1[\\\"MAE_mean\\\"] <= model2[\\\"MAE_mean\\\"]\\n        and model1[\\\"MAPE_mean\\\"] <= model2[\\\"MAPE_mean\\\"]\\n        and model1[\\\"R2_mean\\\"] >= model2[\\\"R2_mean\\\"]\\n    )\\n\\n    # Check if model1 is strictly better in at least one metric\\n    strictly_better_in_one = (\\n        model1[\\\"RMSE_mean\\\"] < model2[\\\"RMSE_mean\\\"]\\n        or model1[\\\"MAE_mean\\\"] < model2[\\\"MAE_mean\\\"]\\n        or model1[\\\"MAPE_mean\\\"] < model2[\\\"MAPE_mean\\\"]\\n        or model1[\\\"R2_mean\\\"] > model2[\\\"R2_mean\\\"]\\n    )\\n\\n    # Model1 strictly dominates Model2 if it is at least as good in all metrics and\\n    # strictly better in at least one metric\\n    return at_least_as_good and strictly_better_in_one\";\n",
       "                var nbb_cells = Jupyter.notebook.get_cells();\n",
       "                for (var i = 0; i < nbb_cells.length; ++i) {\n",
       "                    if (nbb_cells[i].input_prompt_number == nbb_cell_id) {\n",
       "                        if (nbb_cells[i].get_text() == nbb_unformatted_code) {\n",
       "                             nbb_cells[i].set_text(nbb_formatted_code);\n",
       "                        }\n",
       "                        break;\n",
       "                    }\n",
       "                }\n",
       "            }, 500);\n",
       "            "
      ],
      "text/plain": [
       "<IPython.core.display.Javascript object>"
      ]
     },
     "metadata": {},
     "output_type": "display_data"
    }
   ],
   "source": [
    "# Function to compare two models strictly based on means only\n",
    "def dominates(model1, model2):\n",
    "    \"\"\"Return True if model1 strictly dominates model2, False otherwise.\"\"\"\n",
    "    # Check if model1 is at least as good as model2 in all metrics\n",
    "    at_least_as_good = (\n",
    "        model1[\"RMSE_mean\"] <= model2[\"RMSE_mean\"]\n",
    "        and model1[\"MAE_mean\"] <= model2[\"MAE_mean\"]\n",
    "        and model1[\"MAPE_mean\"] <= model2[\"MAPE_mean\"]\n",
    "        and model1[\"R2_mean\"] >= model2[\"R2_mean\"]\n",
    "    )\n",
    "\n",
    "    # Check if model1 is strictly better in at least one metric\n",
    "    strictly_better_in_one = (\n",
    "        model1[\"RMSE_mean\"] < model2[\"RMSE_mean\"]\n",
    "        or model1[\"MAE_mean\"] < model2[\"MAE_mean\"]\n",
    "        or model1[\"MAPE_mean\"] < model2[\"MAPE_mean\"]\n",
    "        or model1[\"R2_mean\"] > model2[\"R2_mean\"]\n",
    "    )\n",
    "\n",
    "    # Model1 strictly dominates Model2 if it is at least as good in all metrics and\n",
    "    # strictly better in at least one metric\n",
    "    return at_least_as_good and strictly_better_in_one"
   ]
  },
  {
   "cell_type": "code",
   "execution_count": 117,
   "id": "55b4022d",
   "metadata": {},
   "outputs": [
    {
     "data": {
      "application/javascript": [
       "\n",
       "            setTimeout(function() {\n",
       "                var nbb_cell_id = 117;\n",
       "                var nbb_unformatted_code = \"def get_dominance_matrix_and_graph(df):\\n    n = len(df)\\n    dominance_matrix = np.zeros((n, n), dtype=bool)\\n\\n    for i in range(n):\\n        for j in range(n):\\n            if i != j:\\n                dominance_matrix[i, j] = dominates(df.iloc[i], df.iloc[j])\\n\\n    # Create the dominance graph\\n    dominance_graph = {i: [] for i in range(n)}\\n    for i in range(n):\\n        for j in range(n):\\n            if dominance_matrix[i, j]:\\n                dominance_graph[i].append(j)\\n\\n    return dominance_matrix, dominance_graph\";\n",
       "                var nbb_formatted_code = \"def get_dominance_matrix_and_graph(df):\\n    n = len(df)\\n    dominance_matrix = np.zeros((n, n), dtype=bool)\\n\\n    for i in range(n):\\n        for j in range(n):\\n            if i != j:\\n                dominance_matrix[i, j] = dominates(df.iloc[i], df.iloc[j])\\n\\n    # Create the dominance graph\\n    dominance_graph = {i: [] for i in range(n)}\\n    for i in range(n):\\n        for j in range(n):\\n            if dominance_matrix[i, j]:\\n                dominance_graph[i].append(j)\\n\\n    return dominance_matrix, dominance_graph\";\n",
       "                var nbb_cells = Jupyter.notebook.get_cells();\n",
       "                for (var i = 0; i < nbb_cells.length; ++i) {\n",
       "                    if (nbb_cells[i].input_prompt_number == nbb_cell_id) {\n",
       "                        if (nbb_cells[i].get_text() == nbb_unformatted_code) {\n",
       "                             nbb_cells[i].set_text(nbb_formatted_code);\n",
       "                        }\n",
       "                        break;\n",
       "                    }\n",
       "                }\n",
       "            }, 500);\n",
       "            "
      ],
      "text/plain": [
       "<IPython.core.display.Javascript object>"
      ]
     },
     "metadata": {},
     "output_type": "display_data"
    }
   ],
   "source": [
    "def get_dominance_matrix_and_graph(df):\n",
    "    n = len(df)\n",
    "    dominance_matrix = np.zeros((n, n), dtype=bool)\n",
    "\n",
    "    for i in range(n):\n",
    "        for j in range(n):\n",
    "            if i != j:\n",
    "                dominance_matrix[i, j] = dominates(df.iloc[i], df.iloc[j])\n",
    "\n",
    "    # Create the dominance graph\n",
    "    dominance_graph = {i: [] for i in range(n)}\n",
    "    for i in range(n):\n",
    "        for j in range(n):\n",
    "            if dominance_matrix[i, j]:\n",
    "                dominance_graph[i].append(j)\n",
    "\n",
    "    return dominance_matrix, dominance_graph"
   ]
  },
  {
   "cell_type": "code",
   "execution_count": 118,
   "id": "37b91228",
   "metadata": {},
   "outputs": [
    {
     "data": {
      "application/javascript": [
       "\n",
       "            setTimeout(function() {\n",
       "                var nbb_cell_id = 118;\n",
       "                var nbb_unformatted_code = \"# Topological Sorting\\ndef topological_sort(graph):\\n    \\\"\\\"\\\"Perform topological sorting on the given graph.\\\"\\\"\\\"\\n    in_degree = {u: 0 for u in graph}\\n    for u in graph:\\n        for v in graph[u]:\\n            in_degree[v] += 1\\n\\n    queue = deque([u for u in graph if in_degree[u] == 0])\\n    topo_order = []\\n\\n    while queue:\\n        u = queue.popleft()\\n        topo_order.append(u)\\n\\n        for v in graph[u]:\\n            in_degree[v] -= 1\\n            if in_degree[v] == 0:\\n                queue.append(v)\\n\\n    return topo_order\";\n",
       "                var nbb_formatted_code = \"# Topological Sorting\\ndef topological_sort(graph):\\n    \\\"\\\"\\\"Perform topological sorting on the given graph.\\\"\\\"\\\"\\n    in_degree = {u: 0 for u in graph}\\n    for u in graph:\\n        for v in graph[u]:\\n            in_degree[v] += 1\\n\\n    queue = deque([u for u in graph if in_degree[u] == 0])\\n    topo_order = []\\n\\n    while queue:\\n        u = queue.popleft()\\n        topo_order.append(u)\\n\\n        for v in graph[u]:\\n            in_degree[v] -= 1\\n            if in_degree[v] == 0:\\n                queue.append(v)\\n\\n    return topo_order\";\n",
       "                var nbb_cells = Jupyter.notebook.get_cells();\n",
       "                for (var i = 0; i < nbb_cells.length; ++i) {\n",
       "                    if (nbb_cells[i].input_prompt_number == nbb_cell_id) {\n",
       "                        if (nbb_cells[i].get_text() == nbb_unformatted_code) {\n",
       "                             nbb_cells[i].set_text(nbb_formatted_code);\n",
       "                        }\n",
       "                        break;\n",
       "                    }\n",
       "                }\n",
       "            }, 500);\n",
       "            "
      ],
      "text/plain": [
       "<IPython.core.display.Javascript object>"
      ]
     },
     "metadata": {},
     "output_type": "display_data"
    }
   ],
   "source": [
    "# Topological Sorting\n",
    "def topological_sort(graph):\n",
    "    \"\"\"Perform topological sorting on the given graph.\"\"\"\n",
    "    in_degree = {u: 0 for u in graph}\n",
    "    for u in graph:\n",
    "        for v in graph[u]:\n",
    "            in_degree[v] += 1\n",
    "\n",
    "    queue = deque([u for u in graph if in_degree[u] == 0])\n",
    "    topo_order = []\n",
    "\n",
    "    while queue:\n",
    "        u = queue.popleft()\n",
    "        topo_order.append(u)\n",
    "\n",
    "        for v in graph[u]:\n",
    "            in_degree[v] -= 1\n",
    "            if in_degree[v] == 0:\n",
    "                queue.append(v)\n",
    "\n",
    "    return topo_order"
   ]
  },
  {
   "cell_type": "code",
   "execution_count": 119,
   "id": "3eb95d66",
   "metadata": {},
   "outputs": [
    {
     "data": {
      "application/javascript": [
       "\n",
       "            setTimeout(function() {\n",
       "                var nbb_cell_id = 119;\n",
       "                var nbb_unformatted_code = \"# Function to find the top models in each group\\ndef find_top_models(group):\\n    max_net_dominance = group[\\\"Net_Dominance\\\"].max()\\n    top_models = group[group[\\\"Net_Dominance\\\"] == max_net_dominance]\\n    return top_models\";\n",
       "                var nbb_formatted_code = \"# Function to find the top models in each group\\ndef find_top_models(group):\\n    max_net_dominance = group[\\\"Net_Dominance\\\"].max()\\n    top_models = group[group[\\\"Net_Dominance\\\"] == max_net_dominance]\\n    return top_models\";\n",
       "                var nbb_cells = Jupyter.notebook.get_cells();\n",
       "                for (var i = 0; i < nbb_cells.length; ++i) {\n",
       "                    if (nbb_cells[i].input_prompt_number == nbb_cell_id) {\n",
       "                        if (nbb_cells[i].get_text() == nbb_unformatted_code) {\n",
       "                             nbb_cells[i].set_text(nbb_formatted_code);\n",
       "                        }\n",
       "                        break;\n",
       "                    }\n",
       "                }\n",
       "            }, 500);\n",
       "            "
      ],
      "text/plain": [
       "<IPython.core.display.Javascript object>"
      ]
     },
     "metadata": {},
     "output_type": "display_data"
    }
   ],
   "source": [
    "# Function to find the top models in each group\n",
    "def find_top_models(group):\n",
    "    max_net_dominance = group[\"Net_Dominance\"].max()\n",
    "    top_models = group[group[\"Net_Dominance\"] == max_net_dominance]\n",
    "    return top_models"
   ]
  },
  {
   "cell_type": "markdown",
   "id": "f86dac14",
   "metadata": {},
   "source": [
    "### Dominance Analysis and SCPM"
   ]
  },
  {
   "cell_type": "code",
   "execution_count": 120,
   "id": "0fced086",
   "metadata": {},
   "outputs": [
    {
     "data": {
      "application/javascript": [
       "\n",
       "            setTimeout(function() {\n",
       "                var nbb_cell_id = 120;\n",
       "                var nbb_unformatted_code = \"def compute_scpm(df):\\n    scaler = StandardScaler()\\n    standardized_metrics = scaler.fit_transform(\\n        df[[\\\"RMSE_mean\\\", \\\"MAE_mean\\\", \\\"MAPE_mean\\\", \\\"R2_mean\\\"]]\\n    )\\n\\n    # Creating a new dataframe with standardized values\\n    standardized_df = pd.DataFrame(\\n        standardized_metrics,\\n        columns=[\\\"RMSE_mean\\\", \\\"MAE_mean\\\", \\\"MAPE_mean\\\", \\\"R2_mean\\\"],\\n    )\\n\\n    # Summing all metrics and subtracting R2_mean\\n    standardized_df[\\\"Result\\\"] = (\\n        standardized_df[[\\\"RMSE_mean\\\", \\\"MAE_mean\\\", \\\"MAPE_mean\\\"]].sum(axis=1)\\n        - standardized_df[\\\"R2_mean\\\"]\\n    )\\n\\n    df[\\\"SCPM\\\"] = standardized_df[\\\"Result\\\"]\\n    return df\";\n",
       "                var nbb_formatted_code = \"def compute_scpm(df):\\n    scaler = StandardScaler()\\n    standardized_metrics = scaler.fit_transform(\\n        df[[\\\"RMSE_mean\\\", \\\"MAE_mean\\\", \\\"MAPE_mean\\\", \\\"R2_mean\\\"]]\\n    )\\n\\n    # Creating a new dataframe with standardized values\\n    standardized_df = pd.DataFrame(\\n        standardized_metrics,\\n        columns=[\\\"RMSE_mean\\\", \\\"MAE_mean\\\", \\\"MAPE_mean\\\", \\\"R2_mean\\\"],\\n    )\\n\\n    # Summing all metrics and subtracting R2_mean\\n    standardized_df[\\\"Result\\\"] = (\\n        standardized_df[[\\\"RMSE_mean\\\", \\\"MAE_mean\\\", \\\"MAPE_mean\\\"]].sum(axis=1)\\n        - standardized_df[\\\"R2_mean\\\"]\\n    )\\n\\n    df[\\\"SCPM\\\"] = standardized_df[\\\"Result\\\"]\\n    return df\";\n",
       "                var nbb_cells = Jupyter.notebook.get_cells();\n",
       "                for (var i = 0; i < nbb_cells.length; ++i) {\n",
       "                    if (nbb_cells[i].input_prompt_number == nbb_cell_id) {\n",
       "                        if (nbb_cells[i].get_text() == nbb_unformatted_code) {\n",
       "                             nbb_cells[i].set_text(nbb_formatted_code);\n",
       "                        }\n",
       "                        break;\n",
       "                    }\n",
       "                }\n",
       "            }, 500);\n",
       "            "
      ],
      "text/plain": [
       "<IPython.core.display.Javascript object>"
      ]
     },
     "metadata": {},
     "output_type": "display_data"
    }
   ],
   "source": [
    "def compute_scpm(df):\n",
    "    scaler = StandardScaler()\n",
    "    standardized_metrics = scaler.fit_transform(\n",
    "        df[[\"RMSE_mean\", \"MAE_mean\", \"MAPE_mean\", \"R2_mean\"]]\n",
    "    )\n",
    "\n",
    "    # Creating a new dataframe with standardized values\n",
    "    standardized_df = pd.DataFrame(\n",
    "        standardized_metrics,\n",
    "        columns=[\"RMSE_mean\", \"MAE_mean\", \"MAPE_mean\", \"R2_mean\"],\n",
    "    )\n",
    "\n",
    "    # Summing all metrics and subtracting R2_mean\n",
    "    standardized_df[\"Result\"] = (\n",
    "        standardized_df[[\"RMSE_mean\", \"MAE_mean\", \"MAPE_mean\"]].sum(axis=1)\n",
    "        - standardized_df[\"R2_mean\"]\n",
    "    )\n",
    "\n",
    "    df[\"SCPM\"] = standardized_df[\"Result\"]\n",
    "    return df"
   ]
  },
  {
   "cell_type": "code",
   "execution_count": 121,
   "id": "dc5ee482",
   "metadata": {},
   "outputs": [
    {
     "data": {
      "application/javascript": [
       "\n",
       "            setTimeout(function() {\n",
       "                var nbb_cell_id = 121;\n",
       "                var nbb_unformatted_code = \"def make_dominance_analysis(df):\\n    # Compute dominance matrix and graph\\n    dominance_matrix, dominance_graph = get_dominance_matrix_and_graph(df)\\n\\n    # Get the topological order\\n    topo_order = topological_sort(dominance_graph)\\n    df = df.copy()\\n    n = len(topo_order)\\n\\n    # Identify Dominant Models\\n    dominant_models = [\\n        df[\\\"Model_bkp_2\\\"].iloc[i]\\n        for i in range(len(df))\\n        if not np.any(dominance_matrix[:, i])\\n    ]\\n\\n    # Identify Non-Dominant Models\\n    non_dominant_models = [\\n        df[\\\"Model_bkp_2\\\"].iloc[i]\\n        for i in range(len(df))\\n        if np.any(dominance_matrix[:, i])\\n    ]\\n\\n    # Identify Models that are both dominated and dominate at least one\\n    intermediate_models = [\\n        df[\\\"Model_bkp_2\\\"].iloc[i]\\n        for i in range(len(df))\\n        if np.any(dominance_matrix[:, i]) and np.any(dominance_matrix[i, :])\\n    ]\\n\\n    # Add count of times each model is dominated by others\\n    df[\\\"Dominated_Count\\\"] = np.sum(dominance_matrix, axis=0)\\n\\n    # Classify models\\n    df[\\\"Classification\\\"] = \\\"intermediate_model\\\"  # default to intermediate_model\\n    df.loc[\\n        ~np.any(dominance_matrix, axis=1) & np.any(dominance_matrix, axis=0),\\n        \\\"Classification\\\",\\n    ] = \\\"non_dominant_model\\\"\\n    df.loc[~np.any(dominance_matrix, axis=0), \\\"Classification\\\"] = \\\"dominant_model\\\"\\n\\n    # Map the topological order to the model names and get dominance counts\\n    sorted_models = [df[\\\"Model\\\"].iloc[i] for i in topo_order]\\n\\n    df_sorted = df.iloc[topo_order].copy()\\n    df_sorted[\\\"Dominates_Count\\\"] = dominance_matrix.sum(axis=1)[topo_order]\\n    df_sorted_topo = df_sorted.copy()\\n\\n    df_sorted = df_sorted.sort_values(by=\\\"Dominates_Count\\\", ascending=False)\\n    df_sorted_count = df_sorted.copy()\\n\\n    return {\\n        \\\"dominance_matrix\\\": dominance_matrix,\\n        \\\"dominance_graph\\\": dominance_graph,\\n        \\\"df_sorted_topo\\\": df_sorted_topo,\\n        \\\"df_sorted_count\\\": df_sorted_count,\\n    }\";\n",
       "                var nbb_formatted_code = \"def make_dominance_analysis(df):\\n    # Compute dominance matrix and graph\\n    dominance_matrix, dominance_graph = get_dominance_matrix_and_graph(df)\\n\\n    # Get the topological order\\n    topo_order = topological_sort(dominance_graph)\\n    df = df.copy()\\n    n = len(topo_order)\\n\\n    # Identify Dominant Models\\n    dominant_models = [\\n        df[\\\"Model_bkp_2\\\"].iloc[i]\\n        for i in range(len(df))\\n        if not np.any(dominance_matrix[:, i])\\n    ]\\n\\n    # Identify Non-Dominant Models\\n    non_dominant_models = [\\n        df[\\\"Model_bkp_2\\\"].iloc[i]\\n        for i in range(len(df))\\n        if np.any(dominance_matrix[:, i])\\n    ]\\n\\n    # Identify Models that are both dominated and dominate at least one\\n    intermediate_models = [\\n        df[\\\"Model_bkp_2\\\"].iloc[i]\\n        for i in range(len(df))\\n        if np.any(dominance_matrix[:, i]) and np.any(dominance_matrix[i, :])\\n    ]\\n\\n    # Add count of times each model is dominated by others\\n    df[\\\"Dominated_Count\\\"] = np.sum(dominance_matrix, axis=0)\\n\\n    # Classify models\\n    df[\\\"Classification\\\"] = \\\"intermediate_model\\\"  # default to intermediate_model\\n    df.loc[\\n        ~np.any(dominance_matrix, axis=1) & np.any(dominance_matrix, axis=0),\\n        \\\"Classification\\\",\\n    ] = \\\"non_dominant_model\\\"\\n    df.loc[~np.any(dominance_matrix, axis=0), \\\"Classification\\\"] = \\\"dominant_model\\\"\\n\\n    # Map the topological order to the model names and get dominance counts\\n    sorted_models = [df[\\\"Model\\\"].iloc[i] for i in topo_order]\\n\\n    df_sorted = df.iloc[topo_order].copy()\\n    df_sorted[\\\"Dominates_Count\\\"] = dominance_matrix.sum(axis=1)[topo_order]\\n    df_sorted_topo = df_sorted.copy()\\n\\n    df_sorted = df_sorted.sort_values(by=\\\"Dominates_Count\\\", ascending=False)\\n    df_sorted_count = df_sorted.copy()\\n\\n    return {\\n        \\\"dominance_matrix\\\": dominance_matrix,\\n        \\\"dominance_graph\\\": dominance_graph,\\n        \\\"df_sorted_topo\\\": df_sorted_topo,\\n        \\\"df_sorted_count\\\": df_sorted_count,\\n    }\";\n",
       "                var nbb_cells = Jupyter.notebook.get_cells();\n",
       "                for (var i = 0; i < nbb_cells.length; ++i) {\n",
       "                    if (nbb_cells[i].input_prompt_number == nbb_cell_id) {\n",
       "                        if (nbb_cells[i].get_text() == nbb_unformatted_code) {\n",
       "                             nbb_cells[i].set_text(nbb_formatted_code);\n",
       "                        }\n",
       "                        break;\n",
       "                    }\n",
       "                }\n",
       "            }, 500);\n",
       "            "
      ],
      "text/plain": [
       "<IPython.core.display.Javascript object>"
      ]
     },
     "metadata": {},
     "output_type": "display_data"
    }
   ],
   "source": [
    "def make_dominance_analysis(df):\n",
    "    # Compute dominance matrix and graph\n",
    "    dominance_matrix, dominance_graph = get_dominance_matrix_and_graph(df)\n",
    "\n",
    "    # Get the topological order\n",
    "    topo_order = topological_sort(dominance_graph)\n",
    "    df = df.copy()\n",
    "    n = len(topo_order)\n",
    "\n",
    "    # Identify Dominant Models\n",
    "    dominant_models = [\n",
    "        df[\"Model_bkp_2\"].iloc[i]\n",
    "        for i in range(len(df))\n",
    "        if not np.any(dominance_matrix[:, i])\n",
    "    ]\n",
    "\n",
    "    # Identify Non-Dominant Models\n",
    "    non_dominant_models = [\n",
    "        df[\"Model_bkp_2\"].iloc[i]\n",
    "        for i in range(len(df))\n",
    "        if np.any(dominance_matrix[:, i])\n",
    "    ]\n",
    "\n",
    "    # Identify Models that are both dominated and dominate at least one\n",
    "    intermediate_models = [\n",
    "        df[\"Model_bkp_2\"].iloc[i]\n",
    "        for i in range(len(df))\n",
    "        if np.any(dominance_matrix[:, i]) and np.any(dominance_matrix[i, :])\n",
    "    ]\n",
    "\n",
    "    # Add count of times each model is dominated by others\n",
    "    df[\"Dominated_Count\"] = np.sum(dominance_matrix, axis=0)\n",
    "\n",
    "    # Classify models\n",
    "    df[\"Classification\"] = \"intermediate_model\"  # default to intermediate_model\n",
    "    df.loc[\n",
    "        ~np.any(dominance_matrix, axis=1) & np.any(dominance_matrix, axis=0),\n",
    "        \"Classification\",\n",
    "    ] = \"non_dominant_model\"\n",
    "    df.loc[~np.any(dominance_matrix, axis=0), \"Classification\"] = \"dominant_model\"\n",
    "\n",
    "    # Map the topological order to the model names and get dominance counts\n",
    "    sorted_models = [df[\"Model\"].iloc[i] for i in topo_order]\n",
    "\n",
    "    df_sorted = df.iloc[topo_order].copy()\n",
    "    df_sorted[\"Dominates_Count\"] = dominance_matrix.sum(axis=1)[topo_order]\n",
    "    df_sorted_topo = df_sorted.copy()\n",
    "\n",
    "    df_sorted = df_sorted.sort_values(by=\"Dominates_Count\", ascending=False)\n",
    "    df_sorted_count = df_sorted.copy()\n",
    "\n",
    "    return {\n",
    "        \"dominance_matrix\": dominance_matrix,\n",
    "        \"dominance_graph\": dominance_graph,\n",
    "        \"df_sorted_topo\": df_sorted_topo,\n",
    "        \"df_sorted_count\": df_sorted_count,\n",
    "    }"
   ]
  },
  {
   "cell_type": "markdown",
   "id": "71a89734",
   "metadata": {},
   "source": [
    "# Analysis"
   ]
  },
  {
   "cell_type": "markdown",
   "id": "5e5ecc11",
   "metadata": {},
   "source": [
    "## 203"
   ]
  },
  {
   "cell_type": "code",
   "execution_count": 122,
   "id": "ed916967",
   "metadata": {},
   "outputs": [
    {
     "data": {
      "application/javascript": [
       "\n",
       "            setTimeout(function() {\n",
       "                var nbb_cell_id = 122;\n",
       "                var nbb_unformatted_code = \"# Filter only 203 project\\ndf_203_grouped = df_copy_grouped[\\n    ~df_copy_grouped[\\\"plant\\\"].isin([\\\"partner_i\\\", \\\"partner_ii\\\", \\\"partner_iv\\\"])\\n]\";\n",
       "                var nbb_formatted_code = \"# Filter only 203 project\\ndf_203_grouped = df_copy_grouped[\\n    ~df_copy_grouped[\\\"plant\\\"].isin([\\\"partner_i\\\", \\\"partner_ii\\\", \\\"partner_iv\\\"])\\n]\";\n",
       "                var nbb_cells = Jupyter.notebook.get_cells();\n",
       "                for (var i = 0; i < nbb_cells.length; ++i) {\n",
       "                    if (nbb_cells[i].input_prompt_number == nbb_cell_id) {\n",
       "                        if (nbb_cells[i].get_text() == nbb_unformatted_code) {\n",
       "                             nbb_cells[i].set_text(nbb_formatted_code);\n",
       "                        }\n",
       "                        break;\n",
       "                    }\n",
       "                }\n",
       "            }, 500);\n",
       "            "
      ],
      "text/plain": [
       "<IPython.core.display.Javascript object>"
      ]
     },
     "metadata": {},
     "output_type": "display_data"
    }
   ],
   "source": [
    "# Filter only 203 project\n",
    "df_203_grouped = df_copy_grouped[\n",
    "    ~df_copy_grouped[\"plant\"].isin([\"partner_i\", \"partner_ii\", \"partner_iv\"])\n",
    "]"
   ]
  },
  {
   "cell_type": "code",
   "execution_count": 123,
   "id": "0256fa92",
   "metadata": {},
   "outputs": [
    {
     "data": {
      "application/javascript": [
       "\n",
       "            setTimeout(function() {\n",
       "                var nbb_cell_id = 123;\n",
       "                var nbb_unformatted_code = \"df_results = df_203_grouped[\\n    [\\n        (\\\"Company\\\"),\\n        (\\\"plant\\\"),\\n        (\\\"Cross Validation\\\"),\\n        (\\\"Features\\\"),\\n        (\\\"Features_bkp\\\"),\\n        (\\\"Model\\\"),\\n        (\\\"Model_bkp\\\"),\\n        (\\\"Model_bkp_2\\\"),\\n        (\\\"Timesteps\\\"),\\n        (\\\"RMSE Test\\\"),\\n        (\\\"MAE Test\\\"),\\n        (\\\"MAPE Test\\\"),\\n        (\\\"R2 Test\\\"),\\n    ]\\n].copy()\\ndf_results = df_results.reset_index(drop=True)\\n\\n# Rename columns\\nnew_column_names = [\\n    \\\"Company\\\",\\n    \\\"Plant\\\",\\n    \\\"Cross Validation\\\",\\n    \\\"Features\\\",\\n    \\\"Features_bkp\\\",\\n    \\\"Model\\\",\\n    \\\"Model_bkp\\\",\\n    \\\"Model_bkp_2\\\",\\n    \\\"Timesteps\\\",\\n    \\\"RMSE_mean\\\",\\n    \\\"MAE_mean\\\",\\n    \\\"MAPE_mean\\\",\\n    \\\"R2_mean\\\",\\n]\\n\\ndf_results.columns = new_column_names\";\n",
       "                var nbb_formatted_code = \"df_results = df_203_grouped[\\n    [\\n        (\\\"Company\\\"),\\n        (\\\"plant\\\"),\\n        (\\\"Cross Validation\\\"),\\n        (\\\"Features\\\"),\\n        (\\\"Features_bkp\\\"),\\n        (\\\"Model\\\"),\\n        (\\\"Model_bkp\\\"),\\n        (\\\"Model_bkp_2\\\"),\\n        (\\\"Timesteps\\\"),\\n        (\\\"RMSE Test\\\"),\\n        (\\\"MAE Test\\\"),\\n        (\\\"MAPE Test\\\"),\\n        (\\\"R2 Test\\\"),\\n    ]\\n].copy()\\ndf_results = df_results.reset_index(drop=True)\\n\\n# Rename columns\\nnew_column_names = [\\n    \\\"Company\\\",\\n    \\\"Plant\\\",\\n    \\\"Cross Validation\\\",\\n    \\\"Features\\\",\\n    \\\"Features_bkp\\\",\\n    \\\"Model\\\",\\n    \\\"Model_bkp\\\",\\n    \\\"Model_bkp_2\\\",\\n    \\\"Timesteps\\\",\\n    \\\"RMSE_mean\\\",\\n    \\\"MAE_mean\\\",\\n    \\\"MAPE_mean\\\",\\n    \\\"R2_mean\\\",\\n]\\n\\ndf_results.columns = new_column_names\";\n",
       "                var nbb_cells = Jupyter.notebook.get_cells();\n",
       "                for (var i = 0; i < nbb_cells.length; ++i) {\n",
       "                    if (nbb_cells[i].input_prompt_number == nbb_cell_id) {\n",
       "                        if (nbb_cells[i].get_text() == nbb_unformatted_code) {\n",
       "                             nbb_cells[i].set_text(nbb_formatted_code);\n",
       "                        }\n",
       "                        break;\n",
       "                    }\n",
       "                }\n",
       "            }, 500);\n",
       "            "
      ],
      "text/plain": [
       "<IPython.core.display.Javascript object>"
      ]
     },
     "metadata": {},
     "output_type": "display_data"
    }
   ],
   "source": [
    "df_results = df_203_grouped[\n",
    "    [\n",
    "        (\"Company\"),\n",
    "        (\"plant\"),\n",
    "        (\"Cross Validation\"),\n",
    "        (\"Features\"),\n",
    "        (\"Features_bkp\"),\n",
    "        (\"Model\"),\n",
    "        (\"Model_bkp\"),\n",
    "        (\"Model_bkp_2\"),\n",
    "        (\"Timesteps\"),\n",
    "        (\"RMSE Test\"),\n",
    "        (\"MAE Test\"),\n",
    "        (\"MAPE Test\"),\n",
    "        (\"R2 Test\"),\n",
    "    ]\n",
    "].copy()\n",
    "df_results = df_results.reset_index(drop=True)\n",
    "\n",
    "# Rename columns\n",
    "new_column_names = [\n",
    "    \"Company\",\n",
    "    \"Plant\",\n",
    "    \"Cross Validation\",\n",
    "    \"Features\",\n",
    "    \"Features_bkp\",\n",
    "    \"Model\",\n",
    "    \"Model_bkp\",\n",
    "    \"Model_bkp_2\",\n",
    "    \"Timesteps\",\n",
    "    \"RMSE_mean\",\n",
    "    \"MAE_mean\",\n",
    "    \"MAPE_mean\",\n",
    "    \"R2_mean\",\n",
    "]\n",
    "\n",
    "df_results.columns = new_column_names"
   ]
  },
  {
   "cell_type": "code",
   "execution_count": 124,
   "id": "d54f30c2",
   "metadata": {},
   "outputs": [
    {
     "data": {
      "text/plain": [
       "(57, 13)"
      ]
     },
     "execution_count": 124,
     "metadata": {},
     "output_type": "execute_result"
    },
    {
     "data": {
      "application/javascript": [
       "\n",
       "            setTimeout(function() {\n",
       "                var nbb_cell_id = 124;\n",
       "                var nbb_unformatted_code = \"df_results.shape\";\n",
       "                var nbb_formatted_code = \"df_results.shape\";\n",
       "                var nbb_cells = Jupyter.notebook.get_cells();\n",
       "                for (var i = 0; i < nbb_cells.length; ++i) {\n",
       "                    if (nbb_cells[i].input_prompt_number == nbb_cell_id) {\n",
       "                        if (nbb_cells[i].get_text() == nbb_unformatted_code) {\n",
       "                             nbb_cells[i].set_text(nbb_formatted_code);\n",
       "                        }\n",
       "                        break;\n",
       "                    }\n",
       "                }\n",
       "            }, 500);\n",
       "            "
      ],
      "text/plain": [
       "<IPython.core.display.Javascript object>"
      ]
     },
     "metadata": {},
     "output_type": "display_data"
    }
   ],
   "source": [
    "df_results.shape"
   ]
  },
  {
   "cell_type": "code",
   "execution_count": 125,
   "id": "8f800abc",
   "metadata": {},
   "outputs": [
    {
     "data": {
      "text/plain": [
       "array(['Time Series Split'], dtype=object)"
      ]
     },
     "execution_count": 125,
     "metadata": {},
     "output_type": "execute_result"
    },
    {
     "data": {
      "application/javascript": [
       "\n",
       "            setTimeout(function() {\n",
       "                var nbb_cell_id = 125;\n",
       "                var nbb_unformatted_code = \"df_results[\\\"Cross Validation\\\"].unique()\";\n",
       "                var nbb_formatted_code = \"df_results[\\\"Cross Validation\\\"].unique()\";\n",
       "                var nbb_cells = Jupyter.notebook.get_cells();\n",
       "                for (var i = 0; i < nbb_cells.length; ++i) {\n",
       "                    if (nbb_cells[i].input_prompt_number == nbb_cell_id) {\n",
       "                        if (nbb_cells[i].get_text() == nbb_unformatted_code) {\n",
       "                             nbb_cells[i].set_text(nbb_formatted_code);\n",
       "                        }\n",
       "                        break;\n",
       "                    }\n",
       "                }\n",
       "            }, 500);\n",
       "            "
      ],
      "text/plain": [
       "<IPython.core.display.Javascript object>"
      ]
     },
     "metadata": {},
     "output_type": "display_data"
    }
   ],
   "source": [
    "df_results[\"Cross Validation\"].unique()"
   ]
  },
  {
   "cell_type": "markdown",
   "id": "93187fbb",
   "metadata": {},
   "source": [
    "## Variable Grouping: CM"
   ]
  },
  {
   "cell_type": "code",
   "execution_count": 126,
   "id": "fbfee852",
   "metadata": {},
   "outputs": [
    {
     "data": {
      "text/plain": [
       "array(['Chemical + Mineralogical', 'Chemical + Mineralogical + Physical',\n",
       "       'Chemical + Mineralogical + Physical - Early CS'], dtype=object)"
      ]
     },
     "execution_count": 126,
     "metadata": {},
     "output_type": "execute_result"
    },
    {
     "data": {
      "application/javascript": [
       "\n",
       "            setTimeout(function() {\n",
       "                var nbb_cell_id = 126;\n",
       "                var nbb_unformatted_code = \"df_results[\\\"Features\\\"].unique()\";\n",
       "                var nbb_formatted_code = \"df_results[\\\"Features\\\"].unique()\";\n",
       "                var nbb_cells = Jupyter.notebook.get_cells();\n",
       "                for (var i = 0; i < nbb_cells.length; ++i) {\n",
       "                    if (nbb_cells[i].input_prompt_number == nbb_cell_id) {\n",
       "                        if (nbb_cells[i].get_text() == nbb_unformatted_code) {\n",
       "                             nbb_cells[i].set_text(nbb_formatted_code);\n",
       "                        }\n",
       "                        break;\n",
       "                    }\n",
       "                }\n",
       "            }, 500);\n",
       "            "
      ],
      "text/plain": [
       "<IPython.core.display.Javascript object>"
      ]
     },
     "metadata": {},
     "output_type": "display_data"
    }
   ],
   "source": [
    "df_results[\"Features\"].unique()"
   ]
  },
  {
   "cell_type": "code",
   "execution_count": 127,
   "id": "4e1f5c05",
   "metadata": {},
   "outputs": [
    {
     "data": {
      "application/javascript": [
       "\n",
       "            setTimeout(function() {\n",
       "                var nbb_cell_id = 127;\n",
       "                var nbb_unformatted_code = \"df_results_cm = (\\n    df_results[df_results[\\\"Features\\\"].eq(\\\"Chemical + Mineralogical\\\")]\\n    .copy()\\n    .reset_index(drop=True)\\n)\";\n",
       "                var nbb_formatted_code = \"df_results_cm = (\\n    df_results[df_results[\\\"Features\\\"].eq(\\\"Chemical + Mineralogical\\\")]\\n    .copy()\\n    .reset_index(drop=True)\\n)\";\n",
       "                var nbb_cells = Jupyter.notebook.get_cells();\n",
       "                for (var i = 0; i < nbb_cells.length; ++i) {\n",
       "                    if (nbb_cells[i].input_prompt_number == nbb_cell_id) {\n",
       "                        if (nbb_cells[i].get_text() == nbb_unformatted_code) {\n",
       "                             nbb_cells[i].set_text(nbb_formatted_code);\n",
       "                        }\n",
       "                        break;\n",
       "                    }\n",
       "                }\n",
       "            }, 500);\n",
       "            "
      ],
      "text/plain": [
       "<IPython.core.display.Javascript object>"
      ]
     },
     "metadata": {},
     "output_type": "display_data"
    }
   ],
   "source": [
    "df_results_cm = (\n",
    "    df_results[df_results[\"Features\"].eq(\"Chemical + Mineralogical\")]\n",
    "    .copy()\n",
    "    .reset_index(drop=True)\n",
    ")"
   ]
  },
  {
   "cell_type": "code",
   "execution_count": 128,
   "id": "5d4f7608",
   "metadata": {},
   "outputs": [
    {
     "data": {
      "text/plain": [
       "array(['Chemical + Mineralogical'], dtype=object)"
      ]
     },
     "execution_count": 128,
     "metadata": {},
     "output_type": "execute_result"
    },
    {
     "data": {
      "application/javascript": [
       "\n",
       "            setTimeout(function() {\n",
       "                var nbb_cell_id = 128;\n",
       "                var nbb_unformatted_code = \"df_results_cm[\\\"Features\\\"].unique()\";\n",
       "                var nbb_formatted_code = \"df_results_cm[\\\"Features\\\"].unique()\";\n",
       "                var nbb_cells = Jupyter.notebook.get_cells();\n",
       "                for (var i = 0; i < nbb_cells.length; ++i) {\n",
       "                    if (nbb_cells[i].input_prompt_number == nbb_cell_id) {\n",
       "                        if (nbb_cells[i].get_text() == nbb_unformatted_code) {\n",
       "                             nbb_cells[i].set_text(nbb_formatted_code);\n",
       "                        }\n",
       "                        break;\n",
       "                    }\n",
       "                }\n",
       "            }, 500);\n",
       "            "
      ],
      "text/plain": [
       "<IPython.core.display.Javascript object>"
      ]
     },
     "metadata": {},
     "output_type": "display_data"
    }
   ],
   "source": [
    "df_results_cm[\"Features\"].unique()"
   ]
  },
  {
   "cell_type": "code",
   "execution_count": 129,
   "id": "7dca2f2a",
   "metadata": {},
   "outputs": [
    {
     "data": {
      "text/plain": [
       "(20, 13)"
      ]
     },
     "execution_count": 129,
     "metadata": {},
     "output_type": "execute_result"
    },
    {
     "data": {
      "application/javascript": [
       "\n",
       "            setTimeout(function() {\n",
       "                var nbb_cell_id = 129;\n",
       "                var nbb_unformatted_code = \"df_results_cm.shape\";\n",
       "                var nbb_formatted_code = \"df_results_cm.shape\";\n",
       "                var nbb_cells = Jupyter.notebook.get_cells();\n",
       "                for (var i = 0; i < nbb_cells.length; ++i) {\n",
       "                    if (nbb_cells[i].input_prompt_number == nbb_cell_id) {\n",
       "                        if (nbb_cells[i].get_text() == nbb_unformatted_code) {\n",
       "                             nbb_cells[i].set_text(nbb_formatted_code);\n",
       "                        }\n",
       "                        break;\n",
       "                    }\n",
       "                }\n",
       "            }, 500);\n",
       "            "
      ],
      "text/plain": [
       "<IPython.core.display.Javascript object>"
      ]
     },
     "metadata": {},
     "output_type": "display_data"
    }
   ],
   "source": [
    "df_results_cm.shape"
   ]
  },
  {
   "cell_type": "markdown",
   "id": "8f695778",
   "metadata": {},
   "source": [
    "### Time Series Split"
   ]
  },
  {
   "cell_type": "code",
   "execution_count": 130,
   "id": "7f07f874",
   "metadata": {},
   "outputs": [
    {
     "data": {
      "text/plain": [
       "array(['Time Series Split'], dtype=object)"
      ]
     },
     "execution_count": 130,
     "metadata": {},
     "output_type": "execute_result"
    },
    {
     "data": {
      "application/javascript": [
       "\n",
       "            setTimeout(function() {\n",
       "                var nbb_cell_id = 130;\n",
       "                var nbb_unformatted_code = \"df_results_cm[\\\"Cross Validation\\\"].unique()\";\n",
       "                var nbb_formatted_code = \"df_results_cm[\\\"Cross Validation\\\"].unique()\";\n",
       "                var nbb_cells = Jupyter.notebook.get_cells();\n",
       "                for (var i = 0; i < nbb_cells.length; ++i) {\n",
       "                    if (nbb_cells[i].input_prompt_number == nbb_cell_id) {\n",
       "                        if (nbb_cells[i].get_text() == nbb_unformatted_code) {\n",
       "                             nbb_cells[i].set_text(nbb_formatted_code);\n",
       "                        }\n",
       "                        break;\n",
       "                    }\n",
       "                }\n",
       "            }, 500);\n",
       "            "
      ],
      "text/plain": [
       "<IPython.core.display.Javascript object>"
      ]
     },
     "metadata": {},
     "output_type": "display_data"
    }
   ],
   "source": [
    "df_results_cm[\"Cross Validation\"].unique()"
   ]
  },
  {
   "cell_type": "code",
   "execution_count": 131,
   "id": "80687541",
   "metadata": {},
   "outputs": [
    {
     "data": {
      "application/javascript": [
       "\n",
       "            setTimeout(function() {\n",
       "                var nbb_cell_id = 131;\n",
       "                var nbb_unformatted_code = \"df_results_cm_tss = (\\n    df_results_cm[df_results_cm[\\\"Cross Validation\\\"].eq(\\\"Time Series Split\\\")]\\n    .copy()\\n    .reset_index(drop=True)\\n)\";\n",
       "                var nbb_formatted_code = \"df_results_cm_tss = (\\n    df_results_cm[df_results_cm[\\\"Cross Validation\\\"].eq(\\\"Time Series Split\\\")]\\n    .copy()\\n    .reset_index(drop=True)\\n)\";\n",
       "                var nbb_cells = Jupyter.notebook.get_cells();\n",
       "                for (var i = 0; i < nbb_cells.length; ++i) {\n",
       "                    if (nbb_cells[i].input_prompt_number == nbb_cell_id) {\n",
       "                        if (nbb_cells[i].get_text() == nbb_unformatted_code) {\n",
       "                             nbb_cells[i].set_text(nbb_formatted_code);\n",
       "                        }\n",
       "                        break;\n",
       "                    }\n",
       "                }\n",
       "            }, 500);\n",
       "            "
      ],
      "text/plain": [
       "<IPython.core.display.Javascript object>"
      ]
     },
     "metadata": {},
     "output_type": "display_data"
    }
   ],
   "source": [
    "df_results_cm_tss = (\n",
    "    df_results_cm[df_results_cm[\"Cross Validation\"].eq(\"Time Series Split\")]\n",
    "    .copy()\n",
    "    .reset_index(drop=True)\n",
    ")"
   ]
  },
  {
   "cell_type": "code",
   "execution_count": 132,
   "id": "141da11c",
   "metadata": {},
   "outputs": [
    {
     "data": {
      "text/plain": [
       "array(['Time Series Split'], dtype=object)"
      ]
     },
     "execution_count": 132,
     "metadata": {},
     "output_type": "execute_result"
    },
    {
     "data": {
      "application/javascript": [
       "\n",
       "            setTimeout(function() {\n",
       "                var nbb_cell_id = 132;\n",
       "                var nbb_unformatted_code = \"df_results_cm_tss[\\\"Cross Validation\\\"].unique()\";\n",
       "                var nbb_formatted_code = \"df_results_cm_tss[\\\"Cross Validation\\\"].unique()\";\n",
       "                var nbb_cells = Jupyter.notebook.get_cells();\n",
       "                for (var i = 0; i < nbb_cells.length; ++i) {\n",
       "                    if (nbb_cells[i].input_prompt_number == nbb_cell_id) {\n",
       "                        if (nbb_cells[i].get_text() == nbb_unformatted_code) {\n",
       "                             nbb_cells[i].set_text(nbb_formatted_code);\n",
       "                        }\n",
       "                        break;\n",
       "                    }\n",
       "                }\n",
       "            }, 500);\n",
       "            "
      ],
      "text/plain": [
       "<IPython.core.display.Javascript object>"
      ]
     },
     "metadata": {},
     "output_type": "display_data"
    }
   ],
   "source": [
    "df_results_cm_tss[\"Cross Validation\"].unique()"
   ]
  },
  {
   "cell_type": "code",
   "execution_count": 133,
   "id": "6877ec1d",
   "metadata": {},
   "outputs": [
    {
     "data": {
      "text/plain": [
       "(20, 13)"
      ]
     },
     "execution_count": 133,
     "metadata": {},
     "output_type": "execute_result"
    },
    {
     "data": {
      "application/javascript": [
       "\n",
       "            setTimeout(function() {\n",
       "                var nbb_cell_id = 133;\n",
       "                var nbb_unformatted_code = \"df_results_cm_tss.shape\";\n",
       "                var nbb_formatted_code = \"df_results_cm_tss.shape\";\n",
       "                var nbb_cells = Jupyter.notebook.get_cells();\n",
       "                for (var i = 0; i < nbb_cells.length; ++i) {\n",
       "                    if (nbb_cells[i].input_prompt_number == nbb_cell_id) {\n",
       "                        if (nbb_cells[i].get_text() == nbb_unformatted_code) {\n",
       "                             nbb_cells[i].set_text(nbb_formatted_code);\n",
       "                        }\n",
       "                        break;\n",
       "                    }\n",
       "                }\n",
       "            }, 500);\n",
       "            "
      ],
      "text/plain": [
       "<IPython.core.display.Javascript object>"
      ]
     },
     "metadata": {},
     "output_type": "display_data"
    }
   ],
   "source": [
    "df_results_cm_tss.shape"
   ]
  },
  {
   "cell_type": "markdown",
   "id": "f51f4f3b",
   "metadata": {},
   "source": [
    "###### SCPM computation"
   ]
  },
  {
   "cell_type": "code",
   "execution_count": 134,
   "id": "32eb2b11",
   "metadata": {},
   "outputs": [
    {
     "data": {
      "application/javascript": [
       "\n",
       "            setTimeout(function() {\n",
       "                var nbb_cell_id = 134;\n",
       "                var nbb_unformatted_code = \"df_results_cm_tss = compute_scpm(df_results_cm_tss)\";\n",
       "                var nbb_formatted_code = \"df_results_cm_tss = compute_scpm(df_results_cm_tss)\";\n",
       "                var nbb_cells = Jupyter.notebook.get_cells();\n",
       "                for (var i = 0; i < nbb_cells.length; ++i) {\n",
       "                    if (nbb_cells[i].input_prompt_number == nbb_cell_id) {\n",
       "                        if (nbb_cells[i].get_text() == nbb_unformatted_code) {\n",
       "                             nbb_cells[i].set_text(nbb_formatted_code);\n",
       "                        }\n",
       "                        break;\n",
       "                    }\n",
       "                }\n",
       "            }, 500);\n",
       "            "
      ],
      "text/plain": [
       "<IPython.core.display.Javascript object>"
      ]
     },
     "metadata": {},
     "output_type": "display_data"
    }
   ],
   "source": [
    "df_results_cm_tss = compute_scpm(df_results_cm_tss)"
   ]
  },
  {
   "cell_type": "markdown",
   "id": "f4165f1d",
   "metadata": {},
   "source": [
    "##### Dominance Analysis"
   ]
  },
  {
   "cell_type": "code",
   "execution_count": 135,
   "id": "35c6695b",
   "metadata": {},
   "outputs": [
    {
     "data": {
      "application/javascript": [
       "\n",
       "            setTimeout(function() {\n",
       "                var nbb_cell_id = 135;\n",
       "                var nbb_unformatted_code = \"# Per project\\ndominance_dict = make_dominance_analysis(df_results_cm_tss)\\ndominance_matrix_cm_tss = dominance_dict[\\\"dominance_matrix\\\"]\\ndominance_graph_cm_tss = dominance_dict[\\\"dominance_graph\\\"]\\ndf_sorted_count = dominance_dict[\\\"df_sorted_count\\\"]\\ndf_sorted_topo = dominance_dict[\\\"df_sorted_topo\\\"]\";\n",
       "                var nbb_formatted_code = \"# Per project\\ndominance_dict = make_dominance_analysis(df_results_cm_tss)\\ndominance_matrix_cm_tss = dominance_dict[\\\"dominance_matrix\\\"]\\ndominance_graph_cm_tss = dominance_dict[\\\"dominance_graph\\\"]\\ndf_sorted_count = dominance_dict[\\\"df_sorted_count\\\"]\\ndf_sorted_topo = dominance_dict[\\\"df_sorted_topo\\\"]\";\n",
       "                var nbb_cells = Jupyter.notebook.get_cells();\n",
       "                for (var i = 0; i < nbb_cells.length; ++i) {\n",
       "                    if (nbb_cells[i].input_prompt_number == nbb_cell_id) {\n",
       "                        if (nbb_cells[i].get_text() == nbb_unformatted_code) {\n",
       "                             nbb_cells[i].set_text(nbb_formatted_code);\n",
       "                        }\n",
       "                        break;\n",
       "                    }\n",
       "                }\n",
       "            }, 500);\n",
       "            "
      ],
      "text/plain": [
       "<IPython.core.display.Javascript object>"
      ]
     },
     "metadata": {},
     "output_type": "display_data"
    }
   ],
   "source": [
    "# Per project\n",
    "dominance_dict = make_dominance_analysis(df_results_cm_tss)\n",
    "dominance_matrix_cm_tss = dominance_dict[\"dominance_matrix\"]\n",
    "dominance_graph_cm_tss = dominance_dict[\"dominance_graph\"]\n",
    "df_sorted_count = dominance_dict[\"df_sorted_count\"]\n",
    "df_sorted_topo = dominance_dict[\"df_sorted_topo\"]"
   ]
  },
  {
   "cell_type": "code",
   "execution_count": 136,
   "id": "0ca83cca",
   "metadata": {},
   "outputs": [
    {
     "data": {
      "text/plain": [
       "((20, 20), 20)"
      ]
     },
     "execution_count": 136,
     "metadata": {},
     "output_type": "execute_result"
    },
    {
     "data": {
      "application/javascript": [
       "\n",
       "            setTimeout(function() {\n",
       "                var nbb_cell_id = 136;\n",
       "                var nbb_unformatted_code = \"dominance_matrix_cm_tss.shape, len(dominance_graph_cm_tss)\";\n",
       "                var nbb_formatted_code = \"dominance_matrix_cm_tss.shape, len(dominance_graph_cm_tss)\";\n",
       "                var nbb_cells = Jupyter.notebook.get_cells();\n",
       "                for (var i = 0; i < nbb_cells.length; ++i) {\n",
       "                    if (nbb_cells[i].input_prompt_number == nbb_cell_id) {\n",
       "                        if (nbb_cells[i].get_text() == nbb_unformatted_code) {\n",
       "                             nbb_cells[i].set_text(nbb_formatted_code);\n",
       "                        }\n",
       "                        break;\n",
       "                    }\n",
       "                }\n",
       "            }, 500);\n",
       "            "
      ],
      "text/plain": [
       "<IPython.core.display.Javascript object>"
      ]
     },
     "metadata": {},
     "output_type": "display_data"
    }
   ],
   "source": [
    "dominance_matrix_cm_tss.shape, len(dominance_graph_cm_tss)"
   ]
  },
  {
   "cell_type": "code",
   "execution_count": 137,
   "id": "852bb392",
   "metadata": {},
   "outputs": [
    {
     "data": {
      "text/plain": [
       "Classification\n",
       "intermediate_model    18\n",
       "dominant_model         1\n",
       "non_dominant_model     1\n",
       "Name: count, dtype: int64"
      ]
     },
     "execution_count": 137,
     "metadata": {},
     "output_type": "execute_result"
    },
    {
     "data": {
      "application/javascript": [
       "\n",
       "            setTimeout(function() {\n",
       "                var nbb_cell_id = 137;\n",
       "                var nbb_unformatted_code = \"df_sorted_topo[\\\"Classification\\\"].value_counts()\";\n",
       "                var nbb_formatted_code = \"df_sorted_topo[\\\"Classification\\\"].value_counts()\";\n",
       "                var nbb_cells = Jupyter.notebook.get_cells();\n",
       "                for (var i = 0; i < nbb_cells.length; ++i) {\n",
       "                    if (nbb_cells[i].input_prompt_number == nbb_cell_id) {\n",
       "                        if (nbb_cells[i].get_text() == nbb_unformatted_code) {\n",
       "                             nbb_cells[i].set_text(nbb_formatted_code);\n",
       "                        }\n",
       "                        break;\n",
       "                    }\n",
       "                }\n",
       "            }, 500);\n",
       "            "
      ],
      "text/plain": [
       "<IPython.core.display.Javascript object>"
      ]
     },
     "metadata": {},
     "output_type": "display_data"
    }
   ],
   "source": [
    "df_sorted_topo[\"Classification\"].value_counts()"
   ]
  },
  {
   "cell_type": "code",
   "execution_count": 138,
   "id": "a00ac4b5",
   "metadata": {
    "scrolled": false
   },
   "outputs": [
    {
     "data": {
      "application/javascript": [
       "\n",
       "            setTimeout(function() {\n",
       "                var nbb_cell_id = 138;\n",
       "                var nbb_unformatted_code = \"df_sorted_topo.to_csv(\\n    \\\"../../../../reports/results/local_models/ecics/203_c_dominance_analysis_cm_tss_last_fold.csv\\\",\\n    index=False,\\n)\";\n",
       "                var nbb_formatted_code = \"df_sorted_topo.to_csv(\\n    \\\"../../../../reports/results/local_models/ecics/203_c_dominance_analysis_cm_tss_last_fold.csv\\\",\\n    index=False,\\n)\";\n",
       "                var nbb_cells = Jupyter.notebook.get_cells();\n",
       "                for (var i = 0; i < nbb_cells.length; ++i) {\n",
       "                    if (nbb_cells[i].input_prompt_number == nbb_cell_id) {\n",
       "                        if (nbb_cells[i].get_text() == nbb_unformatted_code) {\n",
       "                             nbb_cells[i].set_text(nbb_formatted_code);\n",
       "                        }\n",
       "                        break;\n",
       "                    }\n",
       "                }\n",
       "            }, 500);\n",
       "            "
      ],
      "text/plain": [
       "<IPython.core.display.Javascript object>"
      ]
     },
     "metadata": {},
     "output_type": "display_data"
    }
   ],
   "source": [
    "df_sorted_topo.to_csv(\n",
    "    \"../../../../reports/results/local_models/ecics/203_c_dominance_analysis_cm_tss_last_fold.csv\",\n",
    "    index=False,\n",
    ")"
   ]
  },
  {
   "cell_type": "code",
   "execution_count": 139,
   "id": "53f31d1d",
   "metadata": {},
   "outputs": [
    {
     "data": {
      "text/html": [
       "<div>\n",
       "<style scoped>\n",
       "    .dataframe tbody tr th:only-of-type {\n",
       "        vertical-align: middle;\n",
       "    }\n",
       "\n",
       "    .dataframe tbody tr th {\n",
       "        vertical-align: top;\n",
       "    }\n",
       "\n",
       "    .dataframe thead th {\n",
       "        text-align: right;\n",
       "    }\n",
       "</style>\n",
       "<table border=\"1\" class=\"dataframe\">\n",
       "  <thead>\n",
       "    <tr style=\"text-align: right;\">\n",
       "      <th></th>\n",
       "      <th>Company</th>\n",
       "      <th>Plant</th>\n",
       "      <th>Cross Validation</th>\n",
       "      <th>Features</th>\n",
       "      <th>Features_bkp</th>\n",
       "      <th>Model</th>\n",
       "      <th>Model_bkp</th>\n",
       "      <th>Model_bkp_2</th>\n",
       "      <th>Timesteps</th>\n",
       "      <th>RMSE_mean</th>\n",
       "      <th>MAE_mean</th>\n",
       "      <th>MAPE_mean</th>\n",
       "      <th>R2_mean</th>\n",
       "      <th>SCPM</th>\n",
       "      <th>Dominated_Count</th>\n",
       "      <th>Classification</th>\n",
       "      <th>Dominates_Count</th>\n",
       "    </tr>\n",
       "  </thead>\n",
       "  <tbody>\n",
       "    <tr>\n",
       "      <th>15</th>\n",
       "      <td>203</td>\n",
       "      <td>c</td>\n",
       "      <td>Time Series Split</td>\n",
       "      <td>Chemical + Mineralogical</td>\n",
       "      <td>Chemical + Mineralogical</td>\n",
       "      <td>Trees</td>\n",
       "      <td>Decision Tree</td>\n",
       "      <td>Decision Tree</td>\n",
       "      <td>NaN</td>\n",
       "      <td>1.739897</td>\n",
       "      <td>0.868059</td>\n",
       "      <td>2.195641</td>\n",
       "      <td>0.914413</td>\n",
       "      <td>-5.531850</td>\n",
       "      <td>0</td>\n",
       "      <td>dominant_model</td>\n",
       "      <td>19</td>\n",
       "    </tr>\n",
       "    <tr>\n",
       "      <th>18</th>\n",
       "      <td>203</td>\n",
       "      <td>c</td>\n",
       "      <td>Time Series Split</td>\n",
       "      <td>Chemical + Mineralogical</td>\n",
       "      <td>Chemical + Mineralogical</td>\n",
       "      <td>Trees</td>\n",
       "      <td>Random Forest</td>\n",
       "      <td>Random Forest</td>\n",
       "      <td>NaN</td>\n",
       "      <td>1.775107</td>\n",
       "      <td>1.031983</td>\n",
       "      <td>2.450693</td>\n",
       "      <td>0.910914</td>\n",
       "      <td>-4.915127</td>\n",
       "      <td>1</td>\n",
       "      <td>intermediate_model</td>\n",
       "      <td>18</td>\n",
       "    </tr>\n",
       "    <tr>\n",
       "      <th>4</th>\n",
       "      <td>203</td>\n",
       "      <td>c</td>\n",
       "      <td>Time Series Split</td>\n",
       "      <td>Chemical + Mineralogical</td>\n",
       "      <td>Chemical + Mineralogical</td>\n",
       "      <td>Neural Networks</td>\n",
       "      <td>Transformer</td>\n",
       "      <td>Transformer_1.0</td>\n",
       "      <td>1.0</td>\n",
       "      <td>1.825683</td>\n",
       "      <td>1.103373</td>\n",
       "      <td>2.651938</td>\n",
       "      <td>0.905765</td>\n",
       "      <td>-4.536957</td>\n",
       "      <td>2</td>\n",
       "      <td>intermediate_model</td>\n",
       "      <td>17</td>\n",
       "    </tr>\n",
       "    <tr>\n",
       "      <th>8</th>\n",
       "      <td>203</td>\n",
       "      <td>c</td>\n",
       "      <td>Time Series Split</td>\n",
       "      <td>Chemical + Mineralogical</td>\n",
       "      <td>Chemical + Mineralogical</td>\n",
       "      <td>Neural Networks</td>\n",
       "      <td>LSTM</td>\n",
       "      <td>LSTM_7.0</td>\n",
       "      <td>7.0</td>\n",
       "      <td>2.081702</td>\n",
       "      <td>1.348851</td>\n",
       "      <td>3.135087</td>\n",
       "      <td>0.876702</td>\n",
       "      <td>-3.378995</td>\n",
       "      <td>3</td>\n",
       "      <td>intermediate_model</td>\n",
       "      <td>16</td>\n",
       "    </tr>\n",
       "    <tr>\n",
       "      <th>7</th>\n",
       "      <td>203</td>\n",
       "      <td>c</td>\n",
       "      <td>Time Series Split</td>\n",
       "      <td>Chemical + Mineralogical</td>\n",
       "      <td>Chemical + Mineralogical</td>\n",
       "      <td>Neural Networks</td>\n",
       "      <td>GRU</td>\n",
       "      <td>GRU_7.0</td>\n",
       "      <td>7.0</td>\n",
       "      <td>2.463207</td>\n",
       "      <td>1.387738</td>\n",
       "      <td>3.274335</td>\n",
       "      <td>0.827368</td>\n",
       "      <td>-2.897302</td>\n",
       "      <td>4</td>\n",
       "      <td>intermediate_model</td>\n",
       "      <td>13</td>\n",
       "    </tr>\n",
       "  </tbody>\n",
       "</table>\n",
       "</div>"
      ],
      "text/plain": [
       "    Company Plant   Cross Validation                  Features  \\\n",
       "15      203     c  Time Series Split  Chemical + Mineralogical   \n",
       "18      203     c  Time Series Split  Chemical + Mineralogical   \n",
       "4       203     c  Time Series Split  Chemical + Mineralogical   \n",
       "8       203     c  Time Series Split  Chemical + Mineralogical   \n",
       "7       203     c  Time Series Split  Chemical + Mineralogical   \n",
       "\n",
       "                Features_bkp            Model      Model_bkp      Model_bkp_2  \\\n",
       "15  Chemical + Mineralogical            Trees  Decision Tree    Decision Tree   \n",
       "18  Chemical + Mineralogical            Trees  Random Forest    Random Forest   \n",
       "4   Chemical + Mineralogical  Neural Networks    Transformer  Transformer_1.0   \n",
       "8   Chemical + Mineralogical  Neural Networks           LSTM         LSTM_7.0   \n",
       "7   Chemical + Mineralogical  Neural Networks            GRU          GRU_7.0   \n",
       "\n",
       "    Timesteps  RMSE_mean  MAE_mean  MAPE_mean   R2_mean      SCPM  \\\n",
       "15        NaN   1.739897  0.868059   2.195641  0.914413 -5.531850   \n",
       "18        NaN   1.775107  1.031983   2.450693  0.910914 -4.915127   \n",
       "4         1.0   1.825683  1.103373   2.651938  0.905765 -4.536957   \n",
       "8         7.0   2.081702  1.348851   3.135087  0.876702 -3.378995   \n",
       "7         7.0   2.463207  1.387738   3.274335  0.827368 -2.897302   \n",
       "\n",
       "    Dominated_Count      Classification  Dominates_Count  \n",
       "15                0      dominant_model               19  \n",
       "18                1  intermediate_model               18  \n",
       "4                 2  intermediate_model               17  \n",
       "8                 3  intermediate_model               16  \n",
       "7                 4  intermediate_model               13  "
      ]
     },
     "execution_count": 139,
     "metadata": {},
     "output_type": "execute_result"
    },
    {
     "data": {
      "application/javascript": [
       "\n",
       "            setTimeout(function() {\n",
       "                var nbb_cell_id = 139;\n",
       "                var nbb_unformatted_code = \"df_sorted_topo.head(5)\";\n",
       "                var nbb_formatted_code = \"df_sorted_topo.head(5)\";\n",
       "                var nbb_cells = Jupyter.notebook.get_cells();\n",
       "                for (var i = 0; i < nbb_cells.length; ++i) {\n",
       "                    if (nbb_cells[i].input_prompt_number == nbb_cell_id) {\n",
       "                        if (nbb_cells[i].get_text() == nbb_unformatted_code) {\n",
       "                             nbb_cells[i].set_text(nbb_formatted_code);\n",
       "                        }\n",
       "                        break;\n",
       "                    }\n",
       "                }\n",
       "            }, 500);\n",
       "            "
      ],
      "text/plain": [
       "<IPython.core.display.Javascript object>"
      ]
     },
     "metadata": {},
     "output_type": "display_data"
    }
   ],
   "source": [
    "df_sorted_topo.head(5)"
   ]
  },
  {
   "cell_type": "code",
   "execution_count": 140,
   "id": "c40378dc",
   "metadata": {
    "scrolled": false
   },
   "outputs": [
    {
     "data": {
      "application/javascript": [
       "\n",
       "            setTimeout(function() {\n",
       "                var nbb_cell_id = 140;\n",
       "                var nbb_unformatted_code = \"df_sorted_topo_cols = df_sorted_topo[\\n    [\\n        # \\\"Model\\\",\\n        # \\\"Model_bkp\\\",\\n        \\\"Model_bkp_2\\\",\\n        \\\"RMSE_mean\\\",\\n        \\\"MAE_mean\\\",\\n        \\\"MAPE_mean\\\",\\n        \\\"R2_mean\\\",\\n        \\\"SCPM\\\",\\n        \\\"Dominated_Count\\\",\\n        \\\"Classification\\\",\\n        \\\"Dominates_Count\\\",\\n        \\\"Plant\\\",\\n    ]\\n].round(2)\";\n",
       "                var nbb_formatted_code = \"df_sorted_topo_cols = df_sorted_topo[\\n    [\\n        # \\\"Model\\\",\\n        # \\\"Model_bkp\\\",\\n        \\\"Model_bkp_2\\\",\\n        \\\"RMSE_mean\\\",\\n        \\\"MAE_mean\\\",\\n        \\\"MAPE_mean\\\",\\n        \\\"R2_mean\\\",\\n        \\\"SCPM\\\",\\n        \\\"Dominated_Count\\\",\\n        \\\"Classification\\\",\\n        \\\"Dominates_Count\\\",\\n        \\\"Plant\\\",\\n    ]\\n].round(2)\";\n",
       "                var nbb_cells = Jupyter.notebook.get_cells();\n",
       "                for (var i = 0; i < nbb_cells.length; ++i) {\n",
       "                    if (nbb_cells[i].input_prompt_number == nbb_cell_id) {\n",
       "                        if (nbb_cells[i].get_text() == nbb_unformatted_code) {\n",
       "                             nbb_cells[i].set_text(nbb_formatted_code);\n",
       "                        }\n",
       "                        break;\n",
       "                    }\n",
       "                }\n",
       "            }, 500);\n",
       "            "
      ],
      "text/plain": [
       "<IPython.core.display.Javascript object>"
      ]
     },
     "metadata": {},
     "output_type": "display_data"
    }
   ],
   "source": [
    "df_sorted_topo_cols = df_sorted_topo[\n",
    "    [\n",
    "        # \"Model\",\n",
    "        # \"Model_bkp\",\n",
    "        \"Model_bkp_2\",\n",
    "        \"RMSE_mean\",\n",
    "        \"MAE_mean\",\n",
    "        \"MAPE_mean\",\n",
    "        \"R2_mean\",\n",
    "        \"SCPM\",\n",
    "        \"Dominated_Count\",\n",
    "        \"Classification\",\n",
    "        \"Dominates_Count\",\n",
    "        \"Plant\",\n",
    "    ]\n",
    "].round(2)"
   ]
  },
  {
   "cell_type": "markdown",
   "id": "48cbc496",
   "metadata": {},
   "source": [
    "###### Dominant Models"
   ]
  },
  {
   "cell_type": "code",
   "execution_count": 141,
   "id": "ace07fa9",
   "metadata": {},
   "outputs": [
    {
     "data": {
      "text/html": [
       "<div>\n",
       "<style scoped>\n",
       "    .dataframe tbody tr th:only-of-type {\n",
       "        vertical-align: middle;\n",
       "    }\n",
       "\n",
       "    .dataframe tbody tr th {\n",
       "        vertical-align: top;\n",
       "    }\n",
       "\n",
       "    .dataframe thead th {\n",
       "        text-align: right;\n",
       "    }\n",
       "</style>\n",
       "<table border=\"1\" class=\"dataframe\">\n",
       "  <thead>\n",
       "    <tr style=\"text-align: right;\">\n",
       "      <th></th>\n",
       "      <th>Model_bkp_2</th>\n",
       "      <th>RMSE_mean</th>\n",
       "      <th>MAE_mean</th>\n",
       "      <th>MAPE_mean</th>\n",
       "      <th>R2_mean</th>\n",
       "      <th>SCPM</th>\n",
       "      <th>Dominated_Count</th>\n",
       "      <th>Classification</th>\n",
       "      <th>Dominates_Count</th>\n",
       "      <th>Plant</th>\n",
       "    </tr>\n",
       "  </thead>\n",
       "  <tbody>\n",
       "    <tr>\n",
       "      <th>15</th>\n",
       "      <td>Decision Tree</td>\n",
       "      <td>1.74</td>\n",
       "      <td>0.87</td>\n",
       "      <td>2.20</td>\n",
       "      <td>0.91</td>\n",
       "      <td>-5.53</td>\n",
       "      <td>0</td>\n",
       "      <td>dominant_model</td>\n",
       "      <td>19</td>\n",
       "      <td>c</td>\n",
       "    </tr>\n",
       "    <tr>\n",
       "      <th>18</th>\n",
       "      <td>Random Forest</td>\n",
       "      <td>1.78</td>\n",
       "      <td>1.03</td>\n",
       "      <td>2.45</td>\n",
       "      <td>0.91</td>\n",
       "      <td>-4.92</td>\n",
       "      <td>1</td>\n",
       "      <td>intermediate_model</td>\n",
       "      <td>18</td>\n",
       "      <td>c</td>\n",
       "    </tr>\n",
       "    <tr>\n",
       "      <th>4</th>\n",
       "      <td>Transformer_1.0</td>\n",
       "      <td>1.83</td>\n",
       "      <td>1.10</td>\n",
       "      <td>2.65</td>\n",
       "      <td>0.91</td>\n",
       "      <td>-4.54</td>\n",
       "      <td>2</td>\n",
       "      <td>intermediate_model</td>\n",
       "      <td>17</td>\n",
       "      <td>c</td>\n",
       "    </tr>\n",
       "    <tr>\n",
       "      <th>8</th>\n",
       "      <td>LSTM_7.0</td>\n",
       "      <td>2.08</td>\n",
       "      <td>1.35</td>\n",
       "      <td>3.14</td>\n",
       "      <td>0.88</td>\n",
       "      <td>-3.38</td>\n",
       "      <td>3</td>\n",
       "      <td>intermediate_model</td>\n",
       "      <td>16</td>\n",
       "      <td>c</td>\n",
       "    </tr>\n",
       "    <tr>\n",
       "      <th>7</th>\n",
       "      <td>GRU_7.0</td>\n",
       "      <td>2.46</td>\n",
       "      <td>1.39</td>\n",
       "      <td>3.27</td>\n",
       "      <td>0.83</td>\n",
       "      <td>-2.90</td>\n",
       "      <td>4</td>\n",
       "      <td>intermediate_model</td>\n",
       "      <td>13</td>\n",
       "      <td>c</td>\n",
       "    </tr>\n",
       "  </tbody>\n",
       "</table>\n",
       "</div>"
      ],
      "text/plain": [
       "        Model_bkp_2  RMSE_mean  MAE_mean  MAPE_mean  R2_mean  SCPM  \\\n",
       "15    Decision Tree       1.74      0.87       2.20     0.91 -5.53   \n",
       "18    Random Forest       1.78      1.03       2.45     0.91 -4.92   \n",
       "4   Transformer_1.0       1.83      1.10       2.65     0.91 -4.54   \n",
       "8          LSTM_7.0       2.08      1.35       3.14     0.88 -3.38   \n",
       "7           GRU_7.0       2.46      1.39       3.27     0.83 -2.90   \n",
       "\n",
       "    Dominated_Count      Classification  Dominates_Count Plant  \n",
       "15                0      dominant_model               19     c  \n",
       "18                1  intermediate_model               18     c  \n",
       "4                 2  intermediate_model               17     c  \n",
       "8                 3  intermediate_model               16     c  \n",
       "7                 4  intermediate_model               13     c  "
      ]
     },
     "execution_count": 141,
     "metadata": {},
     "output_type": "execute_result"
    },
    {
     "data": {
      "application/javascript": [
       "\n",
       "            setTimeout(function() {\n",
       "                var nbb_cell_id = 141;\n",
       "                var nbb_unformatted_code = \"# Top 5\\ndf_sorted_topo_cols.iloc[0:5].sort_values(\\n    by=[\\\"Dominates_Count\\\", \\\"SCPM\\\"], ascending=[False, True]\\n).round(2)\";\n",
       "                var nbb_formatted_code = \"# Top 5\\ndf_sorted_topo_cols.iloc[0:5].sort_values(\\n    by=[\\\"Dominates_Count\\\", \\\"SCPM\\\"], ascending=[False, True]\\n).round(2)\";\n",
       "                var nbb_cells = Jupyter.notebook.get_cells();\n",
       "                for (var i = 0; i < nbb_cells.length; ++i) {\n",
       "                    if (nbb_cells[i].input_prompt_number == nbb_cell_id) {\n",
       "                        if (nbb_cells[i].get_text() == nbb_unformatted_code) {\n",
       "                             nbb_cells[i].set_text(nbb_formatted_code);\n",
       "                        }\n",
       "                        break;\n",
       "                    }\n",
       "                }\n",
       "            }, 500);\n",
       "            "
      ],
      "text/plain": [
       "<IPython.core.display.Javascript object>"
      ]
     },
     "metadata": {},
     "output_type": "display_data"
    }
   ],
   "source": [
    "# Top 5\n",
    "df_sorted_topo_cols.iloc[0:5].sort_values(\n",
    "    by=[\"Dominates_Count\", \"SCPM\"], ascending=[False, True]\n",
    ").round(2)"
   ]
  },
  {
   "cell_type": "code",
   "execution_count": 142,
   "id": "394ef69f",
   "metadata": {},
   "outputs": [
    {
     "data": {
      "text/plain": [
       "(1, 10)"
      ]
     },
     "execution_count": 142,
     "metadata": {},
     "output_type": "execute_result"
    },
    {
     "data": {
      "application/javascript": [
       "\n",
       "            setTimeout(function() {\n",
       "                var nbb_cell_id = 142;\n",
       "                var nbb_unformatted_code = \"df_sorted_topo_cols[df_sorted_topo_cols[\\\"Classification\\\"].eq(\\\"dominant_model\\\")].shape\";\n",
       "                var nbb_formatted_code = \"df_sorted_topo_cols[df_sorted_topo_cols[\\\"Classification\\\"].eq(\\\"dominant_model\\\")].shape\";\n",
       "                var nbb_cells = Jupyter.notebook.get_cells();\n",
       "                for (var i = 0; i < nbb_cells.length; ++i) {\n",
       "                    if (nbb_cells[i].input_prompt_number == nbb_cell_id) {\n",
       "                        if (nbb_cells[i].get_text() == nbb_unformatted_code) {\n",
       "                             nbb_cells[i].set_text(nbb_formatted_code);\n",
       "                        }\n",
       "                        break;\n",
       "                    }\n",
       "                }\n",
       "            }, 500);\n",
       "            "
      ],
      "text/plain": [
       "<IPython.core.display.Javascript object>"
      ]
     },
     "metadata": {},
     "output_type": "display_data"
    }
   ],
   "source": [
    "df_sorted_topo_cols[df_sorted_topo_cols[\"Classification\"].eq(\"dominant_model\")].shape"
   ]
  },
  {
   "cell_type": "markdown",
   "id": "96f0edb2",
   "metadata": {},
   "source": [
    "###### Intermediate models"
   ]
  },
  {
   "cell_type": "code",
   "execution_count": 143,
   "id": "2a1f4f63",
   "metadata": {},
   "outputs": [
    {
     "data": {
      "text/html": [
       "<div>\n",
       "<style scoped>\n",
       "    .dataframe tbody tr th:only-of-type {\n",
       "        vertical-align: middle;\n",
       "    }\n",
       "\n",
       "    .dataframe tbody tr th {\n",
       "        vertical-align: top;\n",
       "    }\n",
       "\n",
       "    .dataframe thead th {\n",
       "        text-align: right;\n",
       "    }\n",
       "</style>\n",
       "<table border=\"1\" class=\"dataframe\">\n",
       "  <thead>\n",
       "    <tr style=\"text-align: right;\">\n",
       "      <th></th>\n",
       "      <th>Model_bkp_2</th>\n",
       "      <th>RMSE_mean</th>\n",
       "      <th>MAE_mean</th>\n",
       "      <th>MAPE_mean</th>\n",
       "      <th>R2_mean</th>\n",
       "      <th>SCPM</th>\n",
       "      <th>Dominated_Count</th>\n",
       "      <th>Classification</th>\n",
       "      <th>Dominates_Count</th>\n",
       "      <th>Plant</th>\n",
       "    </tr>\n",
       "  </thead>\n",
       "  <tbody>\n",
       "    <tr>\n",
       "      <th>18</th>\n",
       "      <td>Random Forest</td>\n",
       "      <td>1.78</td>\n",
       "      <td>1.03</td>\n",
       "      <td>2.45</td>\n",
       "      <td>0.91</td>\n",
       "      <td>-4.92</td>\n",
       "      <td>1</td>\n",
       "      <td>intermediate_model</td>\n",
       "      <td>18</td>\n",
       "      <td>c</td>\n",
       "    </tr>\n",
       "    <tr>\n",
       "      <th>4</th>\n",
       "      <td>Transformer_1.0</td>\n",
       "      <td>1.83</td>\n",
       "      <td>1.10</td>\n",
       "      <td>2.65</td>\n",
       "      <td>0.91</td>\n",
       "      <td>-4.54</td>\n",
       "      <td>2</td>\n",
       "      <td>intermediate_model</td>\n",
       "      <td>17</td>\n",
       "      <td>c</td>\n",
       "    </tr>\n",
       "    <tr>\n",
       "      <th>8</th>\n",
       "      <td>LSTM_7.0</td>\n",
       "      <td>2.08</td>\n",
       "      <td>1.35</td>\n",
       "      <td>3.14</td>\n",
       "      <td>0.88</td>\n",
       "      <td>-3.38</td>\n",
       "      <td>3</td>\n",
       "      <td>intermediate_model</td>\n",
       "      <td>16</td>\n",
       "      <td>c</td>\n",
       "    </tr>\n",
       "    <tr>\n",
       "      <th>7</th>\n",
       "      <td>GRU_7.0</td>\n",
       "      <td>2.46</td>\n",
       "      <td>1.39</td>\n",
       "      <td>3.27</td>\n",
       "      <td>0.83</td>\n",
       "      <td>-2.90</td>\n",
       "      <td>4</td>\n",
       "      <td>intermediate_model</td>\n",
       "      <td>13</td>\n",
       "      <td>c</td>\n",
       "    </tr>\n",
       "  </tbody>\n",
       "</table>\n",
       "</div>"
      ],
      "text/plain": [
       "        Model_bkp_2  RMSE_mean  MAE_mean  MAPE_mean  R2_mean  SCPM  \\\n",
       "18    Random Forest       1.78      1.03       2.45     0.91 -4.92   \n",
       "4   Transformer_1.0       1.83      1.10       2.65     0.91 -4.54   \n",
       "8          LSTM_7.0       2.08      1.35       3.14     0.88 -3.38   \n",
       "7           GRU_7.0       2.46      1.39       3.27     0.83 -2.90   \n",
       "\n",
       "    Dominated_Count      Classification  Dominates_Count Plant  \n",
       "18                1  intermediate_model               18     c  \n",
       "4                 2  intermediate_model               17     c  \n",
       "8                 3  intermediate_model               16     c  \n",
       "7                 4  intermediate_model               13     c  "
      ]
     },
     "execution_count": 143,
     "metadata": {},
     "output_type": "execute_result"
    },
    {
     "data": {
      "application/javascript": [
       "\n",
       "            setTimeout(function() {\n",
       "                var nbb_cell_id = 143;\n",
       "                var nbb_unformatted_code = \"df_sorted_topo_cols[\\n    df_sorted_topo_cols[\\\"Classification\\\"].eq(\\\"intermediate_model\\\")\\n].sort_values(by=[\\\"Dominates_Count\\\", \\\"SCPM\\\"], ascending=[False, True]).iloc[:4].round(2)\";\n",
       "                var nbb_formatted_code = \"df_sorted_topo_cols[\\n    df_sorted_topo_cols[\\\"Classification\\\"].eq(\\\"intermediate_model\\\")\\n].sort_values(by=[\\\"Dominates_Count\\\", \\\"SCPM\\\"], ascending=[False, True]).iloc[:4].round(2)\";\n",
       "                var nbb_cells = Jupyter.notebook.get_cells();\n",
       "                for (var i = 0; i < nbb_cells.length; ++i) {\n",
       "                    if (nbb_cells[i].input_prompt_number == nbb_cell_id) {\n",
       "                        if (nbb_cells[i].get_text() == nbb_unformatted_code) {\n",
       "                             nbb_cells[i].set_text(nbb_formatted_code);\n",
       "                        }\n",
       "                        break;\n",
       "                    }\n",
       "                }\n",
       "            }, 500);\n",
       "            "
      ],
      "text/plain": [
       "<IPython.core.display.Javascript object>"
      ]
     },
     "metadata": {},
     "output_type": "display_data"
    }
   ],
   "source": [
    "df_sorted_topo_cols[\n",
    "    df_sorted_topo_cols[\"Classification\"].eq(\"intermediate_model\")\n",
    "].sort_values(by=[\"Dominates_Count\", \"SCPM\"], ascending=[False, True]).iloc[:4].round(2)"
   ]
  },
  {
   "cell_type": "code",
   "execution_count": 144,
   "id": "96d11cdf",
   "metadata": {},
   "outputs": [
    {
     "data": {
      "text/plain": [
       "(18, 10)"
      ]
     },
     "execution_count": 144,
     "metadata": {},
     "output_type": "execute_result"
    },
    {
     "data": {
      "application/javascript": [
       "\n",
       "            setTimeout(function() {\n",
       "                var nbb_cell_id = 144;\n",
       "                var nbb_unformatted_code = \"df_sorted_topo_cols[\\n    df_sorted_topo_cols[\\\"Classification\\\"].eq(\\\"intermediate_model\\\")\\n].shape\";\n",
       "                var nbb_formatted_code = \"df_sorted_topo_cols[\\n    df_sorted_topo_cols[\\\"Classification\\\"].eq(\\\"intermediate_model\\\")\\n].shape\";\n",
       "                var nbb_cells = Jupyter.notebook.get_cells();\n",
       "                for (var i = 0; i < nbb_cells.length; ++i) {\n",
       "                    if (nbb_cells[i].input_prompt_number == nbb_cell_id) {\n",
       "                        if (nbb_cells[i].get_text() == nbb_unformatted_code) {\n",
       "                             nbb_cells[i].set_text(nbb_formatted_code);\n",
       "                        }\n",
       "                        break;\n",
       "                    }\n",
       "                }\n",
       "            }, 500);\n",
       "            "
      ],
      "text/plain": [
       "<IPython.core.display.Javascript object>"
      ]
     },
     "metadata": {},
     "output_type": "display_data"
    }
   ],
   "source": [
    "df_sorted_topo_cols[\n",
    "    df_sorted_topo_cols[\"Classification\"].eq(\"intermediate_model\")\n",
    "].shape"
   ]
  },
  {
   "cell_type": "markdown",
   "id": "2c67c843",
   "metadata": {},
   "source": [
    "###### non-dominant models"
   ]
  },
  {
   "cell_type": "code",
   "execution_count": 145,
   "id": "5d115037",
   "metadata": {},
   "outputs": [
    {
     "data": {
      "text/html": [
       "<div>\n",
       "<style scoped>\n",
       "    .dataframe tbody tr th:only-of-type {\n",
       "        vertical-align: middle;\n",
       "    }\n",
       "\n",
       "    .dataframe tbody tr th {\n",
       "        vertical-align: top;\n",
       "    }\n",
       "\n",
       "    .dataframe thead th {\n",
       "        text-align: right;\n",
       "    }\n",
       "</style>\n",
       "<table border=\"1\" class=\"dataframe\">\n",
       "  <thead>\n",
       "    <tr style=\"text-align: right;\">\n",
       "      <th></th>\n",
       "      <th>Model_bkp_2</th>\n",
       "      <th>RMSE_mean</th>\n",
       "      <th>MAE_mean</th>\n",
       "      <th>MAPE_mean</th>\n",
       "      <th>R2_mean</th>\n",
       "      <th>SCPM</th>\n",
       "      <th>Dominated_Count</th>\n",
       "      <th>Classification</th>\n",
       "      <th>Dominates_Count</th>\n",
       "      <th>Plant</th>\n",
       "    </tr>\n",
       "  </thead>\n",
       "  <tbody>\n",
       "    <tr>\n",
       "      <th>11</th>\n",
       "      <td>BidirectionalLSTM_14.0</td>\n",
       "      <td>9.31</td>\n",
       "      <td>2.78</td>\n",
       "      <td>6.2</td>\n",
       "      <td>-1.49</td>\n",
       "      <td>10.02</td>\n",
       "      <td>19</td>\n",
       "      <td>non_dominant_model</td>\n",
       "      <td>0</td>\n",
       "      <td>c</td>\n",
       "    </tr>\n",
       "  </tbody>\n",
       "</table>\n",
       "</div>"
      ],
      "text/plain": [
       "               Model_bkp_2  RMSE_mean  MAE_mean  MAPE_mean  R2_mean   SCPM  \\\n",
       "11  BidirectionalLSTM_14.0       9.31      2.78        6.2    -1.49  10.02   \n",
       "\n",
       "    Dominated_Count      Classification  Dominates_Count Plant  \n",
       "11               19  non_dominant_model                0     c  "
      ]
     },
     "execution_count": 145,
     "metadata": {},
     "output_type": "execute_result"
    },
    {
     "data": {
      "application/javascript": [
       "\n",
       "            setTimeout(function() {\n",
       "                var nbb_cell_id = 145;\n",
       "                var nbb_unformatted_code = \"df_sorted_topo_cols[\\n    df_sorted_topo_cols[\\\"Classification\\\"].eq(\\\"non_dominant_model\\\")\\n].sort_values(by=[\\\"Dominates_Count\\\", \\\"SCPM\\\"], ascending=[False, True]).iloc[:3]\";\n",
       "                var nbb_formatted_code = \"df_sorted_topo_cols[\\n    df_sorted_topo_cols[\\\"Classification\\\"].eq(\\\"non_dominant_model\\\")\\n].sort_values(by=[\\\"Dominates_Count\\\", \\\"SCPM\\\"], ascending=[False, True]).iloc[:3]\";\n",
       "                var nbb_cells = Jupyter.notebook.get_cells();\n",
       "                for (var i = 0; i < nbb_cells.length; ++i) {\n",
       "                    if (nbb_cells[i].input_prompt_number == nbb_cell_id) {\n",
       "                        if (nbb_cells[i].get_text() == nbb_unformatted_code) {\n",
       "                             nbb_cells[i].set_text(nbb_formatted_code);\n",
       "                        }\n",
       "                        break;\n",
       "                    }\n",
       "                }\n",
       "            }, 500);\n",
       "            "
      ],
      "text/plain": [
       "<IPython.core.display.Javascript object>"
      ]
     },
     "metadata": {},
     "output_type": "display_data"
    }
   ],
   "source": [
    "df_sorted_topo_cols[\n",
    "    df_sorted_topo_cols[\"Classification\"].eq(\"non_dominant_model\")\n",
    "].sort_values(by=[\"Dominates_Count\", \"SCPM\"], ascending=[False, True]).iloc[:3]"
   ]
  },
  {
   "cell_type": "code",
   "execution_count": 146,
   "id": "af70dd4b",
   "metadata": {},
   "outputs": [
    {
     "data": {
      "text/plain": [
       "(1, 10)"
      ]
     },
     "execution_count": 146,
     "metadata": {},
     "output_type": "execute_result"
    },
    {
     "data": {
      "application/javascript": [
       "\n",
       "            setTimeout(function() {\n",
       "                var nbb_cell_id = 146;\n",
       "                var nbb_unformatted_code = \"df_sorted_topo_cols[\\n    df_sorted_topo_cols[\\\"Classification\\\"].eq(\\\"non_dominant_model\\\")\\n].shape\";\n",
       "                var nbb_formatted_code = \"df_sorted_topo_cols[\\n    df_sorted_topo_cols[\\\"Classification\\\"].eq(\\\"non_dominant_model\\\")\\n].shape\";\n",
       "                var nbb_cells = Jupyter.notebook.get_cells();\n",
       "                for (var i = 0; i < nbb_cells.length; ++i) {\n",
       "                    if (nbb_cells[i].input_prompt_number == nbb_cell_id) {\n",
       "                        if (nbb_cells[i].get_text() == nbb_unformatted_code) {\n",
       "                             nbb_cells[i].set_text(nbb_formatted_code);\n",
       "                        }\n",
       "                        break;\n",
       "                    }\n",
       "                }\n",
       "            }, 500);\n",
       "            "
      ],
      "text/plain": [
       "<IPython.core.display.Javascript object>"
      ]
     },
     "metadata": {},
     "output_type": "display_data"
    }
   ],
   "source": [
    "df_sorted_topo_cols[\n",
    "    df_sorted_topo_cols[\"Classification\"].eq(\"non_dominant_model\")\n",
    "].shape"
   ]
  },
  {
   "cell_type": "markdown",
   "id": "2459a9ca",
   "metadata": {},
   "source": [
    "###### Statistics per model type"
   ]
  },
  {
   "cell_type": "code",
   "execution_count": 147,
   "id": "e8013976",
   "metadata": {},
   "outputs": [
    {
     "data": {
      "application/javascript": [
       "\n",
       "            setTimeout(function() {\n",
       "                var nbb_cell_id = 147;\n",
       "                var nbb_unformatted_code = \"df_sorted_topo_models_cols = df_sorted_topo[\\n    [\\n        \\\"Model\\\",\\n        # \\\"Model_bkp\\\",\\n        # \\\"Model_bkp_2\\\",\\n        \\\"RMSE_mean\\\",\\n        \\\"MAE_mean\\\",\\n        \\\"MAPE_mean\\\",\\n        \\\"R2_mean\\\",\\n        \\\"SCPM\\\",\\n        \\\"Dominated_Count\\\",\\n        \\\"Dominates_Count\\\",\\n        \\\"Classification\\\",\\n        \\\"Plant\\\",\\n    ]\\n]  # .round(2)\";\n",
       "                var nbb_formatted_code = \"df_sorted_topo_models_cols = df_sorted_topo[\\n    [\\n        \\\"Model\\\",\\n        # \\\"Model_bkp\\\",\\n        # \\\"Model_bkp_2\\\",\\n        \\\"RMSE_mean\\\",\\n        \\\"MAE_mean\\\",\\n        \\\"MAPE_mean\\\",\\n        \\\"R2_mean\\\",\\n        \\\"SCPM\\\",\\n        \\\"Dominated_Count\\\",\\n        \\\"Dominates_Count\\\",\\n        \\\"Classification\\\",\\n        \\\"Plant\\\",\\n    ]\\n]  # .round(2)\";\n",
       "                var nbb_cells = Jupyter.notebook.get_cells();\n",
       "                for (var i = 0; i < nbb_cells.length; ++i) {\n",
       "                    if (nbb_cells[i].input_prompt_number == nbb_cell_id) {\n",
       "                        if (nbb_cells[i].get_text() == nbb_unformatted_code) {\n",
       "                             nbb_cells[i].set_text(nbb_formatted_code);\n",
       "                        }\n",
       "                        break;\n",
       "                    }\n",
       "                }\n",
       "            }, 500);\n",
       "            "
      ],
      "text/plain": [
       "<IPython.core.display.Javascript object>"
      ]
     },
     "metadata": {},
     "output_type": "display_data"
    }
   ],
   "source": [
    "df_sorted_topo_models_cols = df_sorted_topo[\n",
    "    [\n",
    "        \"Model\",\n",
    "        # \"Model_bkp\",\n",
    "        # \"Model_bkp_2\",\n",
    "        \"RMSE_mean\",\n",
    "        \"MAE_mean\",\n",
    "        \"MAPE_mean\",\n",
    "        \"R2_mean\",\n",
    "        \"SCPM\",\n",
    "        \"Dominated_Count\",\n",
    "        \"Dominates_Count\",\n",
    "        \"Classification\",\n",
    "        \"Plant\",\n",
    "    ]\n",
    "]  # .round(2)"
   ]
  },
  {
   "cell_type": "code",
   "execution_count": 148,
   "id": "43178252",
   "metadata": {},
   "outputs": [
    {
     "data": {
      "text/plain": [
       "Model\n",
       "Neural Networks      16\n",
       "Trees                 3\n",
       "Linear Regression     1\n",
       "Name: count, dtype: int64"
      ]
     },
     "execution_count": 148,
     "metadata": {},
     "output_type": "execute_result"
    },
    {
     "data": {
      "application/javascript": [
       "\n",
       "            setTimeout(function() {\n",
       "                var nbb_cell_id = 148;\n",
       "                var nbb_unformatted_code = \"df_sorted_topo[\\\"Model\\\"].value_counts()\";\n",
       "                var nbb_formatted_code = \"df_sorted_topo[\\\"Model\\\"].value_counts()\";\n",
       "                var nbb_cells = Jupyter.notebook.get_cells();\n",
       "                for (var i = 0; i < nbb_cells.length; ++i) {\n",
       "                    if (nbb_cells[i].input_prompt_number == nbb_cell_id) {\n",
       "                        if (nbb_cells[i].get_text() == nbb_unformatted_code) {\n",
       "                             nbb_cells[i].set_text(nbb_formatted_code);\n",
       "                        }\n",
       "                        break;\n",
       "                    }\n",
       "                }\n",
       "            }, 500);\n",
       "            "
      ],
      "text/plain": [
       "<IPython.core.display.Javascript object>"
      ]
     },
     "metadata": {},
     "output_type": "display_data"
    }
   ],
   "source": [
    "df_sorted_topo[\"Model\"].value_counts()"
   ]
  },
  {
   "cell_type": "code",
   "execution_count": 149,
   "id": "d804ec14",
   "metadata": {},
   "outputs": [
    {
     "data": {
      "application/javascript": [
       "\n",
       "            setTimeout(function() {\n",
       "                var nbb_cell_id = 149;\n",
       "                var nbb_unformatted_code = \"df_sorted_topo_models_grouped = df_sorted_topo_models_cols.groupby(\\\"Model\\\").describe().T\";\n",
       "                var nbb_formatted_code = \"df_sorted_topo_models_grouped = df_sorted_topo_models_cols.groupby(\\\"Model\\\").describe().T\";\n",
       "                var nbb_cells = Jupyter.notebook.get_cells();\n",
       "                for (var i = 0; i < nbb_cells.length; ++i) {\n",
       "                    if (nbb_cells[i].input_prompt_number == nbb_cell_id) {\n",
       "                        if (nbb_cells[i].get_text() == nbb_unformatted_code) {\n",
       "                             nbb_cells[i].set_text(nbb_formatted_code);\n",
       "                        }\n",
       "                        break;\n",
       "                    }\n",
       "                }\n",
       "            }, 500);\n",
       "            "
      ],
      "text/plain": [
       "<IPython.core.display.Javascript object>"
      ]
     },
     "metadata": {},
     "output_type": "display_data"
    }
   ],
   "source": [
    "df_sorted_topo_models_grouped = df_sorted_topo_models_cols.groupby(\"Model\").describe().T"
   ]
  },
  {
   "cell_type": "code",
   "execution_count": 150,
   "id": "282f4080",
   "metadata": {},
   "outputs": [
    {
     "data": {
      "application/javascript": [
       "\n",
       "            setTimeout(function() {\n",
       "                var nbb_cell_id = 150;\n",
       "                var nbb_unformatted_code = \"df_sorted_topo_models_cols = df_sorted_topo[\\n    [\\n        \\\"Model\\\",\\n        \\\"Dominated_Count\\\",\\n        \\\"Dominates_Count\\\",\\n        \\\"Classification\\\",\\n    ]\\n]\";\n",
       "                var nbb_formatted_code = \"df_sorted_topo_models_cols = df_sorted_topo[\\n    [\\n        \\\"Model\\\",\\n        \\\"Dominated_Count\\\",\\n        \\\"Dominates_Count\\\",\\n        \\\"Classification\\\",\\n    ]\\n]\";\n",
       "                var nbb_cells = Jupyter.notebook.get_cells();\n",
       "                for (var i = 0; i < nbb_cells.length; ++i) {\n",
       "                    if (nbb_cells[i].input_prompt_number == nbb_cell_id) {\n",
       "                        if (nbb_cells[i].get_text() == nbb_unformatted_code) {\n",
       "                             nbb_cells[i].set_text(nbb_formatted_code);\n",
       "                        }\n",
       "                        break;\n",
       "                    }\n",
       "                }\n",
       "            }, 500);\n",
       "            "
      ],
      "text/plain": [
       "<IPython.core.display.Javascript object>"
      ]
     },
     "metadata": {},
     "output_type": "display_data"
    }
   ],
   "source": [
    "df_sorted_topo_models_cols = df_sorted_topo[\n",
    "    [\n",
    "        \"Model\",\n",
    "        \"Dominated_Count\",\n",
    "        \"Dominates_Count\",\n",
    "        \"Classification\",\n",
    "    ]\n",
    "]"
   ]
  },
  {
   "cell_type": "code",
   "execution_count": 151,
   "id": "83558bf7",
   "metadata": {},
   "outputs": [
    {
     "data": {
      "text/html": [
       "<div>\n",
       "<style scoped>\n",
       "    .dataframe tbody tr th:only-of-type {\n",
       "        vertical-align: middle;\n",
       "    }\n",
       "\n",
       "    .dataframe tbody tr th {\n",
       "        vertical-align: top;\n",
       "    }\n",
       "\n",
       "    .dataframe thead th {\n",
       "        text-align: right;\n",
       "    }\n",
       "</style>\n",
       "<table border=\"1\" class=\"dataframe\">\n",
       "  <thead>\n",
       "    <tr style=\"text-align: right;\">\n",
       "      <th></th>\n",
       "      <th></th>\n",
       "      <th>proportion</th>\n",
       "    </tr>\n",
       "    <tr>\n",
       "      <th>Model</th>\n",
       "      <th>Classification</th>\n",
       "      <th></th>\n",
       "    </tr>\n",
       "  </thead>\n",
       "  <tbody>\n",
       "    <tr>\n",
       "      <th>Linear Regression</th>\n",
       "      <th>intermediate_model</th>\n",
       "      <td>100.00</td>\n",
       "    </tr>\n",
       "    <tr>\n",
       "      <th rowspan=\"2\" valign=\"top\">Neural Networks</th>\n",
       "      <th>intermediate_model</th>\n",
       "      <td>93.75</td>\n",
       "    </tr>\n",
       "    <tr>\n",
       "      <th>non_dominant_model</th>\n",
       "      <td>6.25</td>\n",
       "    </tr>\n",
       "    <tr>\n",
       "      <th rowspan=\"2\" valign=\"top\">Trees</th>\n",
       "      <th>intermediate_model</th>\n",
       "      <td>66.67</td>\n",
       "    </tr>\n",
       "    <tr>\n",
       "      <th>dominant_model</th>\n",
       "      <td>33.33</td>\n",
       "    </tr>\n",
       "  </tbody>\n",
       "</table>\n",
       "</div>"
      ],
      "text/plain": [
       "                                      proportion\n",
       "Model             Classification                \n",
       "Linear Regression intermediate_model      100.00\n",
       "Neural Networks   intermediate_model       93.75\n",
       "                  non_dominant_model        6.25\n",
       "Trees             intermediate_model       66.67\n",
       "                  dominant_model           33.33"
      ]
     },
     "execution_count": 151,
     "metadata": {},
     "output_type": "execute_result"
    },
    {
     "data": {
      "application/javascript": [
       "\n",
       "            setTimeout(function() {\n",
       "                var nbb_cell_id = 151;\n",
       "                var nbb_unformatted_code = \"(\\n    df_sorted_topo_models_cols.groupby(\\\"Model\\\")[[\\\"Classification\\\"]]\\n    .value_counts(normalize=True)\\n    .to_frame()\\n    * 100\\n).round(2)\";\n",
       "                var nbb_formatted_code = \"(\\n    df_sorted_topo_models_cols.groupby(\\\"Model\\\")[[\\\"Classification\\\"]]\\n    .value_counts(normalize=True)\\n    .to_frame()\\n    * 100\\n).round(2)\";\n",
       "                var nbb_cells = Jupyter.notebook.get_cells();\n",
       "                for (var i = 0; i < nbb_cells.length; ++i) {\n",
       "                    if (nbb_cells[i].input_prompt_number == nbb_cell_id) {\n",
       "                        if (nbb_cells[i].get_text() == nbb_unformatted_code) {\n",
       "                             nbb_cells[i].set_text(nbb_formatted_code);\n",
       "                        }\n",
       "                        break;\n",
       "                    }\n",
       "                }\n",
       "            }, 500);\n",
       "            "
      ],
      "text/plain": [
       "<IPython.core.display.Javascript object>"
      ]
     },
     "metadata": {},
     "output_type": "display_data"
    }
   ],
   "source": [
    "(\n",
    "    df_sorted_topo_models_cols.groupby(\"Model\")[[\"Classification\"]]\n",
    "    .value_counts(normalize=True)\n",
    "    .to_frame()\n",
    "    * 100\n",
    ").round(2)"
   ]
  },
  {
   "cell_type": "code",
   "execution_count": 152,
   "id": "495c24c9",
   "metadata": {},
   "outputs": [
    {
     "data": {
      "text/html": [
       "<div>\n",
       "<style scoped>\n",
       "    .dataframe tbody tr th:only-of-type {\n",
       "        vertical-align: middle;\n",
       "    }\n",
       "\n",
       "    .dataframe tbody tr th {\n",
       "        vertical-align: top;\n",
       "    }\n",
       "\n",
       "    .dataframe thead th {\n",
       "        text-align: right;\n",
       "    }\n",
       "</style>\n",
       "<table border=\"1\" class=\"dataframe\">\n",
       "  <thead>\n",
       "    <tr style=\"text-align: right;\">\n",
       "      <th></th>\n",
       "      <th>Model</th>\n",
       "      <th>Linear Regression</th>\n",
       "      <th>Neural Networks</th>\n",
       "      <th>Trees</th>\n",
       "    </tr>\n",
       "  </thead>\n",
       "  <tbody>\n",
       "    <tr>\n",
       "      <th rowspan=\"8\" valign=\"top\">Dominated_Count</th>\n",
       "      <th>count</th>\n",
       "      <td>1.0</td>\n",
       "      <td>16.00</td>\n",
       "      <td>3.00</td>\n",
       "    </tr>\n",
       "    <tr>\n",
       "      <th>mean</th>\n",
       "      <td>10.0</td>\n",
       "      <td>8.50</td>\n",
       "      <td>1.67</td>\n",
       "    </tr>\n",
       "    <tr>\n",
       "      <th>std</th>\n",
       "      <td>NaN</td>\n",
       "      <td>4.66</td>\n",
       "      <td>2.08</td>\n",
       "    </tr>\n",
       "    <tr>\n",
       "      <th>min</th>\n",
       "      <td>10.0</td>\n",
       "      <td>2.00</td>\n",
       "      <td>0.00</td>\n",
       "    </tr>\n",
       "    <tr>\n",
       "      <th>25%</th>\n",
       "      <td>10.0</td>\n",
       "      <td>5.00</td>\n",
       "      <td>0.50</td>\n",
       "    </tr>\n",
       "    <tr>\n",
       "      <th>50%</th>\n",
       "      <td>10.0</td>\n",
       "      <td>7.50</td>\n",
       "      <td>1.00</td>\n",
       "    </tr>\n",
       "    <tr>\n",
       "      <th>75%</th>\n",
       "      <td>10.0</td>\n",
       "      <td>10.50</td>\n",
       "      <td>2.50</td>\n",
       "    </tr>\n",
       "    <tr>\n",
       "      <th>max</th>\n",
       "      <td>10.0</td>\n",
       "      <td>19.00</td>\n",
       "      <td>4.00</td>\n",
       "    </tr>\n",
       "    <tr>\n",
       "      <th rowspan=\"8\" valign=\"top\">Dominates_Count</th>\n",
       "      <th>count</th>\n",
       "      <td>1.0</td>\n",
       "      <td>16.00</td>\n",
       "      <td>3.00</td>\n",
       "    </tr>\n",
       "    <tr>\n",
       "      <th>mean</th>\n",
       "      <td>1.0</td>\n",
       "      <td>6.25</td>\n",
       "      <td>16.67</td>\n",
       "    </tr>\n",
       "    <tr>\n",
       "      <th>std</th>\n",
       "      <td>NaN</td>\n",
       "      <td>5.47</td>\n",
       "      <td>3.21</td>\n",
       "    </tr>\n",
       "    <tr>\n",
       "      <th>min</th>\n",
       "      <td>1.0</td>\n",
       "      <td>0.00</td>\n",
       "      <td>13.00</td>\n",
       "    </tr>\n",
       "    <tr>\n",
       "      <th>25%</th>\n",
       "      <td>1.0</td>\n",
       "      <td>2.00</td>\n",
       "      <td>15.50</td>\n",
       "    </tr>\n",
       "    <tr>\n",
       "      <th>50%</th>\n",
       "      <td>1.0</td>\n",
       "      <td>4.50</td>\n",
       "      <td>18.00</td>\n",
       "    </tr>\n",
       "    <tr>\n",
       "      <th>75%</th>\n",
       "      <td>1.0</td>\n",
       "      <td>9.50</td>\n",
       "      <td>18.50</td>\n",
       "    </tr>\n",
       "    <tr>\n",
       "      <th>max</th>\n",
       "      <td>1.0</td>\n",
       "      <td>17.00</td>\n",
       "      <td>19.00</td>\n",
       "    </tr>\n",
       "  </tbody>\n",
       "</table>\n",
       "</div>"
      ],
      "text/plain": [
       "Model                  Linear Regression  Neural Networks  Trees\n",
       "Dominated_Count count                1.0            16.00   3.00\n",
       "                mean                10.0             8.50   1.67\n",
       "                std                  NaN             4.66   2.08\n",
       "                min                 10.0             2.00   0.00\n",
       "                25%                 10.0             5.00   0.50\n",
       "                50%                 10.0             7.50   1.00\n",
       "                75%                 10.0            10.50   2.50\n",
       "                max                 10.0            19.00   4.00\n",
       "Dominates_Count count                1.0            16.00   3.00\n",
       "                mean                 1.0             6.25  16.67\n",
       "                std                  NaN             5.47   3.21\n",
       "                min                  1.0             0.00  13.00\n",
       "                25%                  1.0             2.00  15.50\n",
       "                50%                  1.0             4.50  18.00\n",
       "                75%                  1.0             9.50  18.50\n",
       "                max                  1.0            17.00  19.00"
      ]
     },
     "execution_count": 152,
     "metadata": {},
     "output_type": "execute_result"
    },
    {
     "data": {
      "application/javascript": [
       "\n",
       "            setTimeout(function() {\n",
       "                var nbb_cell_id = 152;\n",
       "                var nbb_unformatted_code = \"df_sorted_topo_models_cols.groupby(\\\"Model\\\").describe().round(2).T\";\n",
       "                var nbb_formatted_code = \"df_sorted_topo_models_cols.groupby(\\\"Model\\\").describe().round(2).T\";\n",
       "                var nbb_cells = Jupyter.notebook.get_cells();\n",
       "                for (var i = 0; i < nbb_cells.length; ++i) {\n",
       "                    if (nbb_cells[i].input_prompt_number == nbb_cell_id) {\n",
       "                        if (nbb_cells[i].get_text() == nbb_unformatted_code) {\n",
       "                             nbb_cells[i].set_text(nbb_formatted_code);\n",
       "                        }\n",
       "                        break;\n",
       "                    }\n",
       "                }\n",
       "            }, 500);\n",
       "            "
      ],
      "text/plain": [
       "<IPython.core.display.Javascript object>"
      ]
     },
     "metadata": {},
     "output_type": "display_data"
    }
   ],
   "source": [
    "df_sorted_topo_models_cols.groupby(\"Model\").describe().round(2).T"
   ]
  },
  {
   "cell_type": "code",
   "execution_count": 153,
   "id": "df40e728",
   "metadata": {},
   "outputs": [
    {
     "data": {
      "application/javascript": [
       "\n",
       "            setTimeout(function() {\n",
       "                var nbb_cell_id = 153;\n",
       "                var nbb_unformatted_code = \"# df_sorted_topo_models_cols\";\n",
       "                var nbb_formatted_code = \"# df_sorted_topo_models_cols\";\n",
       "                var nbb_cells = Jupyter.notebook.get_cells();\n",
       "                for (var i = 0; i < nbb_cells.length; ++i) {\n",
       "                    if (nbb_cells[i].input_prompt_number == nbb_cell_id) {\n",
       "                        if (nbb_cells[i].get_text() == nbb_unformatted_code) {\n",
       "                             nbb_cells[i].set_text(nbb_formatted_code);\n",
       "                        }\n",
       "                        break;\n",
       "                    }\n",
       "                }\n",
       "            }, 500);\n",
       "            "
      ],
      "text/plain": [
       "<IPython.core.display.Javascript object>"
      ]
     },
     "metadata": {},
     "output_type": "display_data"
    }
   ],
   "source": [
    "# df_sorted_topo_models_cols"
   ]
  },
  {
   "cell_type": "code",
   "execution_count": 154,
   "id": "f40a8145",
   "metadata": {},
   "outputs": [
    {
     "data": {
      "text/html": [
       "<div>\n",
       "<style scoped>\n",
       "    .dataframe tbody tr th:only-of-type {\n",
       "        vertical-align: middle;\n",
       "    }\n",
       "\n",
       "    .dataframe tbody tr th {\n",
       "        vertical-align: top;\n",
       "    }\n",
       "\n",
       "    .dataframe thead th {\n",
       "        text-align: right;\n",
       "    }\n",
       "</style>\n",
       "<table border=\"1\" class=\"dataframe\">\n",
       "  <thead>\n",
       "    <tr style=\"text-align: right;\">\n",
       "      <th></th>\n",
       "      <th>count</th>\n",
       "      <th>unique</th>\n",
       "      <th>top</th>\n",
       "      <th>freq</th>\n",
       "    </tr>\n",
       "    <tr>\n",
       "      <th>Model</th>\n",
       "      <th></th>\n",
       "      <th></th>\n",
       "      <th></th>\n",
       "      <th></th>\n",
       "    </tr>\n",
       "  </thead>\n",
       "  <tbody>\n",
       "    <tr>\n",
       "      <th>Linear Regression</th>\n",
       "      <td>1</td>\n",
       "      <td>1</td>\n",
       "      <td>intermediate_model</td>\n",
       "      <td>1</td>\n",
       "    </tr>\n",
       "    <tr>\n",
       "      <th>Neural Networks</th>\n",
       "      <td>16</td>\n",
       "      <td>2</td>\n",
       "      <td>intermediate_model</td>\n",
       "      <td>15</td>\n",
       "    </tr>\n",
       "    <tr>\n",
       "      <th>Trees</th>\n",
       "      <td>3</td>\n",
       "      <td>2</td>\n",
       "      <td>intermediate_model</td>\n",
       "      <td>2</td>\n",
       "    </tr>\n",
       "  </tbody>\n",
       "</table>\n",
       "</div>"
      ],
      "text/plain": [
       "                  count unique                 top freq\n",
       "Model                                                  \n",
       "Linear Regression     1      1  intermediate_model    1\n",
       "Neural Networks      16      2  intermediate_model   15\n",
       "Trees                 3      2  intermediate_model    2"
      ]
     },
     "execution_count": 154,
     "metadata": {},
     "output_type": "execute_result"
    },
    {
     "data": {
      "application/javascript": [
       "\n",
       "            setTimeout(function() {\n",
       "                var nbb_cell_id = 154;\n",
       "                var nbb_unformatted_code = \"df_sorted_topo_models_cols.groupby(\\\"Model\\\")[\\\"Classification\\\"].describe()\";\n",
       "                var nbb_formatted_code = \"df_sorted_topo_models_cols.groupby(\\\"Model\\\")[\\\"Classification\\\"].describe()\";\n",
       "                var nbb_cells = Jupyter.notebook.get_cells();\n",
       "                for (var i = 0; i < nbb_cells.length; ++i) {\n",
       "                    if (nbb_cells[i].input_prompt_number == nbb_cell_id) {\n",
       "                        if (nbb_cells[i].get_text() == nbb_unformatted_code) {\n",
       "                             nbb_cells[i].set_text(nbb_formatted_code);\n",
       "                        }\n",
       "                        break;\n",
       "                    }\n",
       "                }\n",
       "            }, 500);\n",
       "            "
      ],
      "text/plain": [
       "<IPython.core.display.Javascript object>"
      ]
     },
     "metadata": {},
     "output_type": "display_data"
    }
   ],
   "source": [
    "df_sorted_topo_models_cols.groupby(\"Model\")[\"Classification\"].describe()"
   ]
  },
  {
   "cell_type": "code",
   "execution_count": 155,
   "id": "8a60e04a",
   "metadata": {
    "scrolled": true
   },
   "outputs": [
    {
     "data": {
      "text/plain": [
       "Model              Classification    \n",
       "Linear Regression  intermediate_model     1\n",
       "Neural Networks    intermediate_model    15\n",
       "                   non_dominant_model     1\n",
       "Trees              intermediate_model     2\n",
       "                   dominant_model         1\n",
       "Name: count, dtype: int64"
      ]
     },
     "execution_count": 155,
     "metadata": {},
     "output_type": "execute_result"
    },
    {
     "data": {
      "application/javascript": [
       "\n",
       "            setTimeout(function() {\n",
       "                var nbb_cell_id = 155;\n",
       "                var nbb_unformatted_code = \"df_sorted_topo_models_cols.groupby(\\\"Model\\\")[[\\\"Classification\\\"]].value_counts()\";\n",
       "                var nbb_formatted_code = \"df_sorted_topo_models_cols.groupby(\\\"Model\\\")[[\\\"Classification\\\"]].value_counts()\";\n",
       "                var nbb_cells = Jupyter.notebook.get_cells();\n",
       "                for (var i = 0; i < nbb_cells.length; ++i) {\n",
       "                    if (nbb_cells[i].input_prompt_number == nbb_cell_id) {\n",
       "                        if (nbb_cells[i].get_text() == nbb_unformatted_code) {\n",
       "                             nbb_cells[i].set_text(nbb_formatted_code);\n",
       "                        }\n",
       "                        break;\n",
       "                    }\n",
       "                }\n",
       "            }, 500);\n",
       "            "
      ],
      "text/plain": [
       "<IPython.core.display.Javascript object>"
      ]
     },
     "metadata": {},
     "output_type": "display_data"
    }
   ],
   "source": [
    "df_sorted_topo_models_cols.groupby(\"Model\")[[\"Classification\"]].value_counts()"
   ]
  },
  {
   "cell_type": "code",
   "execution_count": 156,
   "id": "bc79665e",
   "metadata": {},
   "outputs": [
    {
     "data": {
      "application/javascript": [
       "\n",
       "            setTimeout(function() {\n",
       "                var nbb_cell_id = 156;\n",
       "                var nbb_unformatted_code = \"summary_stats = df_sorted_topo_models_cols.groupby(\\\"Model\\\").agg(\\n    Total_Models=(\\\"Model\\\", \\\"count\\\"),\\n    Mean_Dominance_Count=(\\\"Dominates_Count\\\", \\\"mean\\\"),\\n    Median_Dominance_Count=(\\\"Dominates_Count\\\", \\\"median\\\"),\\n    Total_Dominated=(\\\"Dominated_Count\\\", \\\"sum\\\"),\\n    Total_Dominating=(\\\"Dominates_Count\\\", \\\"sum\\\"),\\n)\\n\\ntotal_models = summary_stats[\\n    \\\"Total_Models\\\"\\n].sum()  # Get the total number of models across all categories\\nsummary_stats[\\\"Dominance Proportion\\\"] = summary_stats[\\\"Total_Dominating\\\"] / total_models\";\n",
       "                var nbb_formatted_code = \"summary_stats = df_sorted_topo_models_cols.groupby(\\\"Model\\\").agg(\\n    Total_Models=(\\\"Model\\\", \\\"count\\\"),\\n    Mean_Dominance_Count=(\\\"Dominates_Count\\\", \\\"mean\\\"),\\n    Median_Dominance_Count=(\\\"Dominates_Count\\\", \\\"median\\\"),\\n    Total_Dominated=(\\\"Dominated_Count\\\", \\\"sum\\\"),\\n    Total_Dominating=(\\\"Dominates_Count\\\", \\\"sum\\\"),\\n)\\n\\ntotal_models = summary_stats[\\n    \\\"Total_Models\\\"\\n].sum()  # Get the total number of models across all categories\\nsummary_stats[\\\"Dominance Proportion\\\"] = summary_stats[\\\"Total_Dominating\\\"] / total_models\";\n",
       "                var nbb_cells = Jupyter.notebook.get_cells();\n",
       "                for (var i = 0; i < nbb_cells.length; ++i) {\n",
       "                    if (nbb_cells[i].input_prompt_number == nbb_cell_id) {\n",
       "                        if (nbb_cells[i].get_text() == nbb_unformatted_code) {\n",
       "                             nbb_cells[i].set_text(nbb_formatted_code);\n",
       "                        }\n",
       "                        break;\n",
       "                    }\n",
       "                }\n",
       "            }, 500);\n",
       "            "
      ],
      "text/plain": [
       "<IPython.core.display.Javascript object>"
      ]
     },
     "metadata": {},
     "output_type": "display_data"
    }
   ],
   "source": [
    "summary_stats = df_sorted_topo_models_cols.groupby(\"Model\").agg(\n",
    "    Total_Models=(\"Model\", \"count\"),\n",
    "    Mean_Dominance_Count=(\"Dominates_Count\", \"mean\"),\n",
    "    Median_Dominance_Count=(\"Dominates_Count\", \"median\"),\n",
    "    Total_Dominated=(\"Dominated_Count\", \"sum\"),\n",
    "    Total_Dominating=(\"Dominates_Count\", \"sum\"),\n",
    ")\n",
    "\n",
    "total_models = summary_stats[\n",
    "    \"Total_Models\"\n",
    "].sum()  # Get the total number of models across all categories\n",
    "summary_stats[\"Dominance Proportion\"] = summary_stats[\"Total_Dominating\"] / total_models"
   ]
  },
  {
   "cell_type": "code",
   "execution_count": 157,
   "id": "115c9156",
   "metadata": {},
   "outputs": [
    {
     "data": {
      "text/html": [
       "<div>\n",
       "<style scoped>\n",
       "    .dataframe tbody tr th:only-of-type {\n",
       "        vertical-align: middle;\n",
       "    }\n",
       "\n",
       "    .dataframe tbody tr th {\n",
       "        vertical-align: top;\n",
       "    }\n",
       "\n",
       "    .dataframe thead th {\n",
       "        text-align: right;\n",
       "    }\n",
       "</style>\n",
       "<table border=\"1\" class=\"dataframe\">\n",
       "  <thead>\n",
       "    <tr style=\"text-align: right;\">\n",
       "      <th></th>\n",
       "      <th>Total_Models</th>\n",
       "      <th>Mean_Dominance_Count</th>\n",
       "      <th>Median_Dominance_Count</th>\n",
       "      <th>Total_Dominated</th>\n",
       "      <th>Total_Dominating</th>\n",
       "      <th>Dominance Proportion</th>\n",
       "    </tr>\n",
       "    <tr>\n",
       "      <th>Model</th>\n",
       "      <th></th>\n",
       "      <th></th>\n",
       "      <th></th>\n",
       "      <th></th>\n",
       "      <th></th>\n",
       "      <th></th>\n",
       "    </tr>\n",
       "  </thead>\n",
       "  <tbody>\n",
       "    <tr>\n",
       "      <th>Linear Regression</th>\n",
       "      <td>1</td>\n",
       "      <td>1.00</td>\n",
       "      <td>1.0</td>\n",
       "      <td>10</td>\n",
       "      <td>1</td>\n",
       "      <td>0.05</td>\n",
       "    </tr>\n",
       "    <tr>\n",
       "      <th>Neural Networks</th>\n",
       "      <td>16</td>\n",
       "      <td>6.25</td>\n",
       "      <td>4.5</td>\n",
       "      <td>136</td>\n",
       "      <td>100</td>\n",
       "      <td>5.00</td>\n",
       "    </tr>\n",
       "    <tr>\n",
       "      <th>Trees</th>\n",
       "      <td>3</td>\n",
       "      <td>16.67</td>\n",
       "      <td>18.0</td>\n",
       "      <td>5</td>\n",
       "      <td>50</td>\n",
       "      <td>2.50</td>\n",
       "    </tr>\n",
       "  </tbody>\n",
       "</table>\n",
       "</div>"
      ],
      "text/plain": [
       "                   Total_Models  Mean_Dominance_Count  Median_Dominance_Count  \\\n",
       "Model                                                                           \n",
       "Linear Regression             1                  1.00                     1.0   \n",
       "Neural Networks              16                  6.25                     4.5   \n",
       "Trees                         3                 16.67                    18.0   \n",
       "\n",
       "                   Total_Dominated  Total_Dominating  Dominance Proportion  \n",
       "Model                                                                       \n",
       "Linear Regression               10                 1                  0.05  \n",
       "Neural Networks                136               100                  5.00  \n",
       "Trees                            5                50                  2.50  "
      ]
     },
     "execution_count": 157,
     "metadata": {},
     "output_type": "execute_result"
    },
    {
     "data": {
      "application/javascript": [
       "\n",
       "            setTimeout(function() {\n",
       "                var nbb_cell_id = 157;\n",
       "                var nbb_unformatted_code = \"summary_stats.round(2)\";\n",
       "                var nbb_formatted_code = \"summary_stats.round(2)\";\n",
       "                var nbb_cells = Jupyter.notebook.get_cells();\n",
       "                for (var i = 0; i < nbb_cells.length; ++i) {\n",
       "                    if (nbb_cells[i].input_prompt_number == nbb_cell_id) {\n",
       "                        if (nbb_cells[i].get_text() == nbb_unformatted_code) {\n",
       "                             nbb_cells[i].set_text(nbb_formatted_code);\n",
       "                        }\n",
       "                        break;\n",
       "                    }\n",
       "                }\n",
       "            }, 500);\n",
       "            "
      ],
      "text/plain": [
       "<IPython.core.display.Javascript object>"
      ]
     },
     "metadata": {},
     "output_type": "display_data"
    }
   ],
   "source": [
    "summary_stats.round(2)"
   ]
  },
  {
   "cell_type": "code",
   "execution_count": 158,
   "id": "6f7a4645",
   "metadata": {},
   "outputs": [
    {
     "data": {
      "text/html": [
       "<div>\n",
       "<style scoped>\n",
       "    .dataframe tbody tr th:only-of-type {\n",
       "        vertical-align: middle;\n",
       "    }\n",
       "\n",
       "    .dataframe tbody tr th {\n",
       "        vertical-align: top;\n",
       "    }\n",
       "\n",
       "    .dataframe thead tr th {\n",
       "        text-align: left;\n",
       "    }\n",
       "\n",
       "    .dataframe thead tr:last-of-type th {\n",
       "        text-align: right;\n",
       "    }\n",
       "</style>\n",
       "<table border=\"1\" class=\"dataframe\">\n",
       "  <thead>\n",
       "    <tr>\n",
       "      <th></th>\n",
       "      <th colspan=\"8\" halign=\"left\">RMSE_mean</th>\n",
       "      <th colspan=\"2\" halign=\"left\">MAE_mean</th>\n",
       "      <th>...</th>\n",
       "      <th colspan=\"2\" halign=\"left\">Dominated_Count</th>\n",
       "      <th colspan=\"8\" halign=\"left\">Dominates_Count</th>\n",
       "    </tr>\n",
       "    <tr>\n",
       "      <th></th>\n",
       "      <th>count</th>\n",
       "      <th>mean</th>\n",
       "      <th>std</th>\n",
       "      <th>min</th>\n",
       "      <th>25%</th>\n",
       "      <th>50%</th>\n",
       "      <th>75%</th>\n",
       "      <th>max</th>\n",
       "      <th>count</th>\n",
       "      <th>mean</th>\n",
       "      <th>...</th>\n",
       "      <th>75%</th>\n",
       "      <th>max</th>\n",
       "      <th>count</th>\n",
       "      <th>mean</th>\n",
       "      <th>std</th>\n",
       "      <th>min</th>\n",
       "      <th>25%</th>\n",
       "      <th>50%</th>\n",
       "      <th>75%</th>\n",
       "      <th>max</th>\n",
       "    </tr>\n",
       "    <tr>\n",
       "      <th>Model</th>\n",
       "      <th></th>\n",
       "      <th></th>\n",
       "      <th></th>\n",
       "      <th></th>\n",
       "      <th></th>\n",
       "      <th></th>\n",
       "      <th></th>\n",
       "      <th></th>\n",
       "      <th></th>\n",
       "      <th></th>\n",
       "      <th></th>\n",
       "      <th></th>\n",
       "      <th></th>\n",
       "      <th></th>\n",
       "      <th></th>\n",
       "      <th></th>\n",
       "      <th></th>\n",
       "      <th></th>\n",
       "      <th></th>\n",
       "      <th></th>\n",
       "      <th></th>\n",
       "    </tr>\n",
       "  </thead>\n",
       "  <tbody>\n",
       "    <tr>\n",
       "      <th>Linear Regression</th>\n",
       "      <td>1.0</td>\n",
       "      <td>3.217708</td>\n",
       "      <td>NaN</td>\n",
       "      <td>3.217708</td>\n",
       "      <td>3.217708</td>\n",
       "      <td>3.217708</td>\n",
       "      <td>3.217708</td>\n",
       "      <td>3.217708</td>\n",
       "      <td>1.0</td>\n",
       "      <td>2.506032</td>\n",
       "      <td>...</td>\n",
       "      <td>10.0</td>\n",
       "      <td>10.0</td>\n",
       "      <td>1.0</td>\n",
       "      <td>1.000000</td>\n",
       "      <td>NaN</td>\n",
       "      <td>1.0</td>\n",
       "      <td>1.0</td>\n",
       "      <td>1.0</td>\n",
       "      <td>1.0</td>\n",
       "      <td>1.0</td>\n",
       "    </tr>\n",
       "    <tr>\n",
       "      <th>Neural Networks</th>\n",
       "      <td>16.0</td>\n",
       "      <td>4.430513</td>\n",
       "      <td>2.160407</td>\n",
       "      <td>1.825683</td>\n",
       "      <td>2.510192</td>\n",
       "      <td>4.622818</td>\n",
       "      <td>5.664599</td>\n",
       "      <td>9.305279</td>\n",
       "      <td>16.0</td>\n",
       "      <td>1.801679</td>\n",
       "      <td>...</td>\n",
       "      <td>10.5</td>\n",
       "      <td>19.0</td>\n",
       "      <td>16.0</td>\n",
       "      <td>6.250000</td>\n",
       "      <td>5.471136</td>\n",
       "      <td>0.0</td>\n",
       "      <td>2.0</td>\n",
       "      <td>4.5</td>\n",
       "      <td>9.5</td>\n",
       "      <td>17.0</td>\n",
       "    </tr>\n",
       "    <tr>\n",
       "      <th>Trees</th>\n",
       "      <td>3.0</td>\n",
       "      <td>1.887969</td>\n",
       "      <td>0.226660</td>\n",
       "      <td>1.739897</td>\n",
       "      <td>1.757502</td>\n",
       "      <td>1.775107</td>\n",
       "      <td>1.962005</td>\n",
       "      <td>2.148903</td>\n",
       "      <td>3.0</td>\n",
       "      <td>1.097405</td>\n",
       "      <td>...</td>\n",
       "      <td>2.5</td>\n",
       "      <td>4.0</td>\n",
       "      <td>3.0</td>\n",
       "      <td>16.666667</td>\n",
       "      <td>3.214550</td>\n",
       "      <td>13.0</td>\n",
       "      <td>15.5</td>\n",
       "      <td>18.0</td>\n",
       "      <td>18.5</td>\n",
       "      <td>19.0</td>\n",
       "    </tr>\n",
       "  </tbody>\n",
       "</table>\n",
       "<p>3 rows × 56 columns</p>\n",
       "</div>"
      ],
      "text/plain": [
       "                  RMSE_mean                                                    \\\n",
       "                      count      mean       std       min       25%       50%   \n",
       "Model                                                                           \n",
       "Linear Regression       1.0  3.217708       NaN  3.217708  3.217708  3.217708   \n",
       "Neural Networks        16.0  4.430513  2.160407  1.825683  2.510192  4.622818   \n",
       "Trees                   3.0  1.887969  0.226660  1.739897  1.757502  1.775107   \n",
       "\n",
       "                                      MAE_mean            ... Dominated_Count  \\\n",
       "                        75%       max    count      mean  ...             75%   \n",
       "Model                                                     ...                   \n",
       "Linear Regression  3.217708  3.217708      1.0  2.506032  ...            10.0   \n",
       "Neural Networks    5.664599  9.305279     16.0  1.801679  ...            10.5   \n",
       "Trees              1.962005  2.148903      3.0  1.097405  ...             2.5   \n",
       "\n",
       "                        Dominates_Count                                   \\\n",
       "                    max           count       mean       std   min   25%   \n",
       "Model                                                                      \n",
       "Linear Regression  10.0             1.0   1.000000       NaN   1.0   1.0   \n",
       "Neural Networks    19.0            16.0   6.250000  5.471136   0.0   2.0   \n",
       "Trees               4.0             3.0  16.666667  3.214550  13.0  15.5   \n",
       "\n",
       "                                     \n",
       "                    50%   75%   max  \n",
       "Model                                \n",
       "Linear Regression   1.0   1.0   1.0  \n",
       "Neural Networks     4.5   9.5  17.0  \n",
       "Trees              18.0  18.5  19.0  \n",
       "\n",
       "[3 rows x 56 columns]"
      ]
     },
     "execution_count": 158,
     "metadata": {},
     "output_type": "execute_result"
    },
    {
     "data": {
      "application/javascript": [
       "\n",
       "            setTimeout(function() {\n",
       "                var nbb_cell_id = 158;\n",
       "                var nbb_unformatted_code = \"df_sorted_topo_models_grouped.T\";\n",
       "                var nbb_formatted_code = \"df_sorted_topo_models_grouped.T\";\n",
       "                var nbb_cells = Jupyter.notebook.get_cells();\n",
       "                for (var i = 0; i < nbb_cells.length; ++i) {\n",
       "                    if (nbb_cells[i].input_prompt_number == nbb_cell_id) {\n",
       "                        if (nbb_cells[i].get_text() == nbb_unformatted_code) {\n",
       "                             nbb_cells[i].set_text(nbb_formatted_code);\n",
       "                        }\n",
       "                        break;\n",
       "                    }\n",
       "                }\n",
       "            }, 500);\n",
       "            "
      ],
      "text/plain": [
       "<IPython.core.display.Javascript object>"
      ]
     },
     "metadata": {},
     "output_type": "display_data"
    }
   ],
   "source": [
    "df_sorted_topo_models_grouped.T"
   ]
  },
  {
   "cell_type": "markdown",
   "id": "b27ee416",
   "metadata": {},
   "source": [
    "### SCPM Analysis"
   ]
  },
  {
   "cell_type": "code",
   "execution_count": 159,
   "id": "933c026c",
   "metadata": {},
   "outputs": [
    {
     "data": {
      "application/javascript": [
       "\n",
       "            setTimeout(function() {\n",
       "                var nbb_cell_id = 159;\n",
       "                var nbb_unformatted_code = \"cols = [\\n    # \\\"Model\\\",\\n    # \\\"Model_bkp\\\",\\n    \\\"Model_bkp_2\\\",\\n    \\\"RMSE_mean\\\",\\n    \\\"MAE_mean\\\",\\n    \\\"MAPE_mean\\\",\\n    \\\"R2_mean\\\",\\n    \\\"SCPM\\\",\\n    \\\"Dominated_Count\\\",\\n    \\\"Dominates_Count\\\",\\n    \\\"Classification\\\",\\n    \\\"Plant\\\",\\n]\";\n",
       "                var nbb_formatted_code = \"cols = [\\n    # \\\"Model\\\",\\n    # \\\"Model_bkp\\\",\\n    \\\"Model_bkp_2\\\",\\n    \\\"RMSE_mean\\\",\\n    \\\"MAE_mean\\\",\\n    \\\"MAPE_mean\\\",\\n    \\\"R2_mean\\\",\\n    \\\"SCPM\\\",\\n    \\\"Dominated_Count\\\",\\n    \\\"Dominates_Count\\\",\\n    \\\"Classification\\\",\\n    \\\"Plant\\\",\\n]\";\n",
       "                var nbb_cells = Jupyter.notebook.get_cells();\n",
       "                for (var i = 0; i < nbb_cells.length; ++i) {\n",
       "                    if (nbb_cells[i].input_prompt_number == nbb_cell_id) {\n",
       "                        if (nbb_cells[i].get_text() == nbb_unformatted_code) {\n",
       "                             nbb_cells[i].set_text(nbb_formatted_code);\n",
       "                        }\n",
       "                        break;\n",
       "                    }\n",
       "                }\n",
       "            }, 500);\n",
       "            "
      ],
      "text/plain": [
       "<IPython.core.display.Javascript object>"
      ]
     },
     "metadata": {},
     "output_type": "display_data"
    }
   ],
   "source": [
    "cols = [\n",
    "    # \"Model\",\n",
    "    # \"Model_bkp\",\n",
    "    \"Model_bkp_2\",\n",
    "    \"RMSE_mean\",\n",
    "    \"MAE_mean\",\n",
    "    \"MAPE_mean\",\n",
    "    \"R2_mean\",\n",
    "    \"SCPM\",\n",
    "    \"Dominated_Count\",\n",
    "    \"Dominates_Count\",\n",
    "    \"Classification\",\n",
    "    \"Plant\",\n",
    "]"
   ]
  },
  {
   "cell_type": "markdown",
   "id": "5deabe9a",
   "metadata": {},
   "source": [
    "#### SCPM Analysis by Project"
   ]
  },
  {
   "cell_type": "code",
   "execution_count": 160,
   "id": "d50a8d09",
   "metadata": {},
   "outputs": [
    {
     "data": {
      "application/javascript": [
       "\n",
       "            setTimeout(function() {\n",
       "                var nbb_cell_id = 160;\n",
       "                var nbb_unformatted_code = \"df_sorted_scpm = df_sorted_topo.sort_values(by=\\\"SCPM\\\").copy()\";\n",
       "                var nbb_formatted_code = \"df_sorted_scpm = df_sorted_topo.sort_values(by=\\\"SCPM\\\").copy()\";\n",
       "                var nbb_cells = Jupyter.notebook.get_cells();\n",
       "                for (var i = 0; i < nbb_cells.length; ++i) {\n",
       "                    if (nbb_cells[i].input_prompt_number == nbb_cell_id) {\n",
       "                        if (nbb_cells[i].get_text() == nbb_unformatted_code) {\n",
       "                             nbb_cells[i].set_text(nbb_formatted_code);\n",
       "                        }\n",
       "                        break;\n",
       "                    }\n",
       "                }\n",
       "            }, 500);\n",
       "            "
      ],
      "text/plain": [
       "<IPython.core.display.Javascript object>"
      ]
     },
     "metadata": {},
     "output_type": "display_data"
    }
   ],
   "source": [
    "df_sorted_scpm = df_sorted_topo.sort_values(by=\"SCPM\").copy()"
   ]
  },
  {
   "cell_type": "code",
   "execution_count": 161,
   "id": "1d2a4571",
   "metadata": {
    "scrolled": false
   },
   "outputs": [
    {
     "data": {
      "application/javascript": [
       "\n",
       "            setTimeout(function() {\n",
       "                var nbb_cell_id = 161;\n",
       "                var nbb_unformatted_code = \"# (df_sorted_topo[cols].reset_index() == df_sorted_scpm[cols].reset_index()).all(axis=1)\\ndf_sorted_scpm[\\\"topo_scmp_order_eq\\\"] = df_sorted_topo.index == df_sorted_scpm.index\";\n",
       "                var nbb_formatted_code = \"# (df_sorted_topo[cols].reset_index() == df_sorted_scpm[cols].reset_index()).all(axis=1)\\ndf_sorted_scpm[\\\"topo_scmp_order_eq\\\"] = df_sorted_topo.index == df_sorted_scpm.index\";\n",
       "                var nbb_cells = Jupyter.notebook.get_cells();\n",
       "                for (var i = 0; i < nbb_cells.length; ++i) {\n",
       "                    if (nbb_cells[i].input_prompt_number == nbb_cell_id) {\n",
       "                        if (nbb_cells[i].get_text() == nbb_unformatted_code) {\n",
       "                             nbb_cells[i].set_text(nbb_formatted_code);\n",
       "                        }\n",
       "                        break;\n",
       "                    }\n",
       "                }\n",
       "            }, 500);\n",
       "            "
      ],
      "text/plain": [
       "<IPython.core.display.Javascript object>"
      ]
     },
     "metadata": {},
     "output_type": "display_data"
    }
   ],
   "source": [
    "# (df_sorted_topo[cols].reset_index() == df_sorted_scpm[cols].reset_index()).all(axis=1)\n",
    "df_sorted_scpm[\"topo_scmp_order_eq\"] = df_sorted_topo.index == df_sorted_scpm.index"
   ]
  },
  {
   "cell_type": "code",
   "execution_count": 162,
   "id": "e7132849",
   "metadata": {
    "scrolled": false
   },
   "outputs": [
    {
     "data": {
      "text/html": [
       "<div>\n",
       "<style scoped>\n",
       "    .dataframe tbody tr th:only-of-type {\n",
       "        vertical-align: middle;\n",
       "    }\n",
       "\n",
       "    .dataframe tbody tr th {\n",
       "        vertical-align: top;\n",
       "    }\n",
       "\n",
       "    .dataframe thead th {\n",
       "        text-align: right;\n",
       "    }\n",
       "</style>\n",
       "<table border=\"1\" class=\"dataframe\">\n",
       "  <thead>\n",
       "    <tr style=\"text-align: right;\">\n",
       "      <th></th>\n",
       "      <th>Model_bkp_2</th>\n",
       "      <th>RMSE_mean</th>\n",
       "      <th>MAE_mean</th>\n",
       "      <th>MAPE_mean</th>\n",
       "      <th>R2_mean</th>\n",
       "      <th>SCPM</th>\n",
       "      <th>Dominated_Count</th>\n",
       "      <th>Dominates_Count</th>\n",
       "      <th>Classification</th>\n",
       "      <th>Plant</th>\n",
       "      <th>topo_scmp_order_eq</th>\n",
       "    </tr>\n",
       "  </thead>\n",
       "  <tbody>\n",
       "    <tr>\n",
       "      <th>15</th>\n",
       "      <td>Decision Tree</td>\n",
       "      <td>1.74</td>\n",
       "      <td>0.87</td>\n",
       "      <td>2.20</td>\n",
       "      <td>0.91</td>\n",
       "      <td>-5.53</td>\n",
       "      <td>0</td>\n",
       "      <td>19</td>\n",
       "      <td>dominant_model</td>\n",
       "      <td>c</td>\n",
       "      <td>True</td>\n",
       "    </tr>\n",
       "    <tr>\n",
       "      <th>18</th>\n",
       "      <td>Random Forest</td>\n",
       "      <td>1.78</td>\n",
       "      <td>1.03</td>\n",
       "      <td>2.45</td>\n",
       "      <td>0.91</td>\n",
       "      <td>-4.92</td>\n",
       "      <td>1</td>\n",
       "      <td>18</td>\n",
       "      <td>intermediate_model</td>\n",
       "      <td>c</td>\n",
       "      <td>True</td>\n",
       "    </tr>\n",
       "    <tr>\n",
       "      <th>4</th>\n",
       "      <td>Transformer_1.0</td>\n",
       "      <td>1.83</td>\n",
       "      <td>1.10</td>\n",
       "      <td>2.65</td>\n",
       "      <td>0.91</td>\n",
       "      <td>-4.54</td>\n",
       "      <td>2</td>\n",
       "      <td>17</td>\n",
       "      <td>intermediate_model</td>\n",
       "      <td>c</td>\n",
       "      <td>True</td>\n",
       "    </tr>\n",
       "    <tr>\n",
       "      <th>8</th>\n",
       "      <td>LSTM_7.0</td>\n",
       "      <td>2.08</td>\n",
       "      <td>1.35</td>\n",
       "      <td>3.14</td>\n",
       "      <td>0.88</td>\n",
       "      <td>-3.38</td>\n",
       "      <td>3</td>\n",
       "      <td>16</td>\n",
       "      <td>intermediate_model</td>\n",
       "      <td>c</td>\n",
       "      <td>True</td>\n",
       "    </tr>\n",
       "    <tr>\n",
       "      <th>7</th>\n",
       "      <td>GRU_7.0</td>\n",
       "      <td>2.46</td>\n",
       "      <td>1.39</td>\n",
       "      <td>3.27</td>\n",
       "      <td>0.83</td>\n",
       "      <td>-2.90</td>\n",
       "      <td>4</td>\n",
       "      <td>13</td>\n",
       "      <td>intermediate_model</td>\n",
       "      <td>c</td>\n",
       "      <td>True</td>\n",
       "    </tr>\n",
       "  </tbody>\n",
       "</table>\n",
       "</div>"
      ],
      "text/plain": [
       "        Model_bkp_2  RMSE_mean  MAE_mean  MAPE_mean  R2_mean  SCPM  \\\n",
       "15    Decision Tree       1.74      0.87       2.20     0.91 -5.53   \n",
       "18    Random Forest       1.78      1.03       2.45     0.91 -4.92   \n",
       "4   Transformer_1.0       1.83      1.10       2.65     0.91 -4.54   \n",
       "8          LSTM_7.0       2.08      1.35       3.14     0.88 -3.38   \n",
       "7           GRU_7.0       2.46      1.39       3.27     0.83 -2.90   \n",
       "\n",
       "    Dominated_Count  Dominates_Count      Classification Plant  \\\n",
       "15                0               19      dominant_model     c   \n",
       "18                1               18  intermediate_model     c   \n",
       "4                 2               17  intermediate_model     c   \n",
       "8                 3               16  intermediate_model     c   \n",
       "7                 4               13  intermediate_model     c   \n",
       "\n",
       "    topo_scmp_order_eq  \n",
       "15                True  \n",
       "18                True  \n",
       "4                 True  \n",
       "8                 True  \n",
       "7                 True  "
      ]
     },
     "execution_count": 162,
     "metadata": {},
     "output_type": "execute_result"
    },
    {
     "data": {
      "application/javascript": [
       "\n",
       "            setTimeout(function() {\n",
       "                var nbb_cell_id = 162;\n",
       "                var nbb_unformatted_code = \"df_sorted_scpm[cols + [\\\"topo_scmp_order_eq\\\"]].round(2).head(5)\";\n",
       "                var nbb_formatted_code = \"df_sorted_scpm[cols + [\\\"topo_scmp_order_eq\\\"]].round(2).head(5)\";\n",
       "                var nbb_cells = Jupyter.notebook.get_cells();\n",
       "                for (var i = 0; i < nbb_cells.length; ++i) {\n",
       "                    if (nbb_cells[i].input_prompt_number == nbb_cell_id) {\n",
       "                        if (nbb_cells[i].get_text() == nbb_unformatted_code) {\n",
       "                             nbb_cells[i].set_text(nbb_formatted_code);\n",
       "                        }\n",
       "                        break;\n",
       "                    }\n",
       "                }\n",
       "            }, 500);\n",
       "            "
      ],
      "text/plain": [
       "<IPython.core.display.Javascript object>"
      ]
     },
     "metadata": {},
     "output_type": "display_data"
    }
   ],
   "source": [
    "df_sorted_scpm[cols + [\"topo_scmp_order_eq\"]].round(2).head(5)"
   ]
  },
  {
   "cell_type": "markdown",
   "id": "4ca7690b",
   "metadata": {},
   "source": [
    "### Variable Grouping: CM-P"
   ]
  },
  {
   "cell_type": "code",
   "execution_count": 163,
   "id": "89de4a2c",
   "metadata": {},
   "outputs": [
    {
     "data": {
      "text/plain": [
       "array(['Chemical + Mineralogical', 'Chemical + Mineralogical + Physical',\n",
       "       'Chemical + Mineralogical + Physical - Early CS'], dtype=object)"
      ]
     },
     "execution_count": 163,
     "metadata": {},
     "output_type": "execute_result"
    },
    {
     "data": {
      "application/javascript": [
       "\n",
       "            setTimeout(function() {\n",
       "                var nbb_cell_id = 163;\n",
       "                var nbb_unformatted_code = \"df_results[\\\"Features\\\"].unique()\";\n",
       "                var nbb_formatted_code = \"df_results[\\\"Features\\\"].unique()\";\n",
       "                var nbb_cells = Jupyter.notebook.get_cells();\n",
       "                for (var i = 0; i < nbb_cells.length; ++i) {\n",
       "                    if (nbb_cells[i].input_prompt_number == nbb_cell_id) {\n",
       "                        if (nbb_cells[i].get_text() == nbb_unformatted_code) {\n",
       "                             nbb_cells[i].set_text(nbb_formatted_code);\n",
       "                        }\n",
       "                        break;\n",
       "                    }\n",
       "                }\n",
       "            }, 500);\n",
       "            "
      ],
      "text/plain": [
       "<IPython.core.display.Javascript object>"
      ]
     },
     "metadata": {},
     "output_type": "display_data"
    }
   ],
   "source": [
    "df_results[\"Features\"].unique()"
   ]
  },
  {
   "cell_type": "code",
   "execution_count": 164,
   "id": "5d8333e0",
   "metadata": {},
   "outputs": [
    {
     "data": {
      "application/javascript": [
       "\n",
       "            setTimeout(function() {\n",
       "                var nbb_cell_id = 164;\n",
       "                var nbb_unformatted_code = \"df_results_cm_p = (\\n    df_results[\\n        df_results[\\\"Features\\\"].eq(\\\"Chemical + Mineralogical + Physical - Early CS\\\")\\n    ]\\n    .copy()\\n    .reset_index(drop=True)\\n)\";\n",
       "                var nbb_formatted_code = \"df_results_cm_p = (\\n    df_results[\\n        df_results[\\\"Features\\\"].eq(\\\"Chemical + Mineralogical + Physical - Early CS\\\")\\n    ]\\n    .copy()\\n    .reset_index(drop=True)\\n)\";\n",
       "                var nbb_cells = Jupyter.notebook.get_cells();\n",
       "                for (var i = 0; i < nbb_cells.length; ++i) {\n",
       "                    if (nbb_cells[i].input_prompt_number == nbb_cell_id) {\n",
       "                        if (nbb_cells[i].get_text() == nbb_unformatted_code) {\n",
       "                             nbb_cells[i].set_text(nbb_formatted_code);\n",
       "                        }\n",
       "                        break;\n",
       "                    }\n",
       "                }\n",
       "            }, 500);\n",
       "            "
      ],
      "text/plain": [
       "<IPython.core.display.Javascript object>"
      ]
     },
     "metadata": {},
     "output_type": "display_data"
    }
   ],
   "source": [
    "df_results_cm_p = (\n",
    "    df_results[\n",
    "        df_results[\"Features\"].eq(\"Chemical + Mineralogical + Physical - Early CS\")\n",
    "    ]\n",
    "    .copy()\n",
    "    .reset_index(drop=True)\n",
    ")"
   ]
  },
  {
   "cell_type": "code",
   "execution_count": 165,
   "id": "f59bf03c",
   "metadata": {},
   "outputs": [
    {
     "data": {
      "text/plain": [
       "array(['Chemical + Mineralogical + Physical - Early CS'], dtype=object)"
      ]
     },
     "execution_count": 165,
     "metadata": {},
     "output_type": "execute_result"
    },
    {
     "data": {
      "application/javascript": [
       "\n",
       "            setTimeout(function() {\n",
       "                var nbb_cell_id = 165;\n",
       "                var nbb_unformatted_code = \"df_results_cm_p[\\\"Features\\\"].unique()\";\n",
       "                var nbb_formatted_code = \"df_results_cm_p[\\\"Features\\\"].unique()\";\n",
       "                var nbb_cells = Jupyter.notebook.get_cells();\n",
       "                for (var i = 0; i < nbb_cells.length; ++i) {\n",
       "                    if (nbb_cells[i].input_prompt_number == nbb_cell_id) {\n",
       "                        if (nbb_cells[i].get_text() == nbb_unformatted_code) {\n",
       "                             nbb_cells[i].set_text(nbb_formatted_code);\n",
       "                        }\n",
       "                        break;\n",
       "                    }\n",
       "                }\n",
       "            }, 500);\n",
       "            "
      ],
      "text/plain": [
       "<IPython.core.display.Javascript object>"
      ]
     },
     "metadata": {},
     "output_type": "display_data"
    }
   ],
   "source": [
    "df_results_cm_p[\"Features\"].unique()"
   ]
  },
  {
   "cell_type": "code",
   "execution_count": 166,
   "id": "ea039a09",
   "metadata": {},
   "outputs": [
    {
     "data": {
      "text/plain": [
       "(20, 13)"
      ]
     },
     "execution_count": 166,
     "metadata": {},
     "output_type": "execute_result"
    },
    {
     "data": {
      "application/javascript": [
       "\n",
       "            setTimeout(function() {\n",
       "                var nbb_cell_id = 166;\n",
       "                var nbb_unformatted_code = \"df_results_cm_p.shape\";\n",
       "                var nbb_formatted_code = \"df_results_cm_p.shape\";\n",
       "                var nbb_cells = Jupyter.notebook.get_cells();\n",
       "                for (var i = 0; i < nbb_cells.length; ++i) {\n",
       "                    if (nbb_cells[i].input_prompt_number == nbb_cell_id) {\n",
       "                        if (nbb_cells[i].get_text() == nbb_unformatted_code) {\n",
       "                             nbb_cells[i].set_text(nbb_formatted_code);\n",
       "                        }\n",
       "                        break;\n",
       "                    }\n",
       "                }\n",
       "            }, 500);\n",
       "            "
      ],
      "text/plain": [
       "<IPython.core.display.Javascript object>"
      ]
     },
     "metadata": {},
     "output_type": "display_data"
    }
   ],
   "source": [
    "df_results_cm_p.shape"
   ]
  },
  {
   "cell_type": "markdown",
   "id": "021dd40d",
   "metadata": {},
   "source": [
    "### Time Series Split"
   ]
  },
  {
   "cell_type": "code",
   "execution_count": 167,
   "id": "4f6ed789",
   "metadata": {},
   "outputs": [
    {
     "data": {
      "text/plain": [
       "array(['Time Series Split'], dtype=object)"
      ]
     },
     "execution_count": 167,
     "metadata": {},
     "output_type": "execute_result"
    },
    {
     "data": {
      "application/javascript": [
       "\n",
       "            setTimeout(function() {\n",
       "                var nbb_cell_id = 167;\n",
       "                var nbb_unformatted_code = \"df_results_cm_p[\\\"Cross Validation\\\"].unique()\";\n",
       "                var nbb_formatted_code = \"df_results_cm_p[\\\"Cross Validation\\\"].unique()\";\n",
       "                var nbb_cells = Jupyter.notebook.get_cells();\n",
       "                for (var i = 0; i < nbb_cells.length; ++i) {\n",
       "                    if (nbb_cells[i].input_prompt_number == nbb_cell_id) {\n",
       "                        if (nbb_cells[i].get_text() == nbb_unformatted_code) {\n",
       "                             nbb_cells[i].set_text(nbb_formatted_code);\n",
       "                        }\n",
       "                        break;\n",
       "                    }\n",
       "                }\n",
       "            }, 500);\n",
       "            "
      ],
      "text/plain": [
       "<IPython.core.display.Javascript object>"
      ]
     },
     "metadata": {},
     "output_type": "display_data"
    }
   ],
   "source": [
    "df_results_cm_p[\"Cross Validation\"].unique()"
   ]
  },
  {
   "cell_type": "code",
   "execution_count": 168,
   "id": "28069a4c",
   "metadata": {},
   "outputs": [
    {
     "data": {
      "application/javascript": [
       "\n",
       "            setTimeout(function() {\n",
       "                var nbb_cell_id = 168;\n",
       "                var nbb_unformatted_code = \"df_results_cm_p_tss = (\\n    df_results_cm_p[df_results_cm_p[\\\"Cross Validation\\\"].eq(\\\"Time Series Split\\\")]\\n    .copy()\\n    .reset_index(drop=True)\\n)\";\n",
       "                var nbb_formatted_code = \"df_results_cm_p_tss = (\\n    df_results_cm_p[df_results_cm_p[\\\"Cross Validation\\\"].eq(\\\"Time Series Split\\\")]\\n    .copy()\\n    .reset_index(drop=True)\\n)\";\n",
       "                var nbb_cells = Jupyter.notebook.get_cells();\n",
       "                for (var i = 0; i < nbb_cells.length; ++i) {\n",
       "                    if (nbb_cells[i].input_prompt_number == nbb_cell_id) {\n",
       "                        if (nbb_cells[i].get_text() == nbb_unformatted_code) {\n",
       "                             nbb_cells[i].set_text(nbb_formatted_code);\n",
       "                        }\n",
       "                        break;\n",
       "                    }\n",
       "                }\n",
       "            }, 500);\n",
       "            "
      ],
      "text/plain": [
       "<IPython.core.display.Javascript object>"
      ]
     },
     "metadata": {},
     "output_type": "display_data"
    }
   ],
   "source": [
    "df_results_cm_p_tss = (\n",
    "    df_results_cm_p[df_results_cm_p[\"Cross Validation\"].eq(\"Time Series Split\")]\n",
    "    .copy()\n",
    "    .reset_index(drop=True)\n",
    ")"
   ]
  },
  {
   "cell_type": "code",
   "execution_count": 169,
   "id": "270e9bc2",
   "metadata": {},
   "outputs": [
    {
     "data": {
      "text/plain": [
       "array(['Time Series Split'], dtype=object)"
      ]
     },
     "execution_count": 169,
     "metadata": {},
     "output_type": "execute_result"
    },
    {
     "data": {
      "application/javascript": [
       "\n",
       "            setTimeout(function() {\n",
       "                var nbb_cell_id = 169;\n",
       "                var nbb_unformatted_code = \"df_results_cm_p_tss[\\\"Cross Validation\\\"].unique()\";\n",
       "                var nbb_formatted_code = \"df_results_cm_p_tss[\\\"Cross Validation\\\"].unique()\";\n",
       "                var nbb_cells = Jupyter.notebook.get_cells();\n",
       "                for (var i = 0; i < nbb_cells.length; ++i) {\n",
       "                    if (nbb_cells[i].input_prompt_number == nbb_cell_id) {\n",
       "                        if (nbb_cells[i].get_text() == nbb_unformatted_code) {\n",
       "                             nbb_cells[i].set_text(nbb_formatted_code);\n",
       "                        }\n",
       "                        break;\n",
       "                    }\n",
       "                }\n",
       "            }, 500);\n",
       "            "
      ],
      "text/plain": [
       "<IPython.core.display.Javascript object>"
      ]
     },
     "metadata": {},
     "output_type": "display_data"
    }
   ],
   "source": [
    "df_results_cm_p_tss[\"Cross Validation\"].unique()"
   ]
  },
  {
   "cell_type": "code",
   "execution_count": 170,
   "id": "927023b8",
   "metadata": {},
   "outputs": [
    {
     "data": {
      "text/plain": [
       "(20, 13)"
      ]
     },
     "execution_count": 170,
     "metadata": {},
     "output_type": "execute_result"
    },
    {
     "data": {
      "application/javascript": [
       "\n",
       "            setTimeout(function() {\n",
       "                var nbb_cell_id = 170;\n",
       "                var nbb_unformatted_code = \"df_results_cm_p_tss.shape\";\n",
       "                var nbb_formatted_code = \"df_results_cm_p_tss.shape\";\n",
       "                var nbb_cells = Jupyter.notebook.get_cells();\n",
       "                for (var i = 0; i < nbb_cells.length; ++i) {\n",
       "                    if (nbb_cells[i].input_prompt_number == nbb_cell_id) {\n",
       "                        if (nbb_cells[i].get_text() == nbb_unformatted_code) {\n",
       "                             nbb_cells[i].set_text(nbb_formatted_code);\n",
       "                        }\n",
       "                        break;\n",
       "                    }\n",
       "                }\n",
       "            }, 500);\n",
       "            "
      ],
      "text/plain": [
       "<IPython.core.display.Javascript object>"
      ]
     },
     "metadata": {},
     "output_type": "display_data"
    }
   ],
   "source": [
    "df_results_cm_p_tss.shape"
   ]
  },
  {
   "cell_type": "markdown",
   "id": "2dc07f85",
   "metadata": {},
   "source": [
    "###### SCPM computation"
   ]
  },
  {
   "cell_type": "code",
   "execution_count": 171,
   "id": "03eee4fe",
   "metadata": {},
   "outputs": [
    {
     "data": {
      "application/javascript": [
       "\n",
       "            setTimeout(function() {\n",
       "                var nbb_cell_id = 171;\n",
       "                var nbb_unformatted_code = \"df_results_cm_p_tss = compute_scpm(df_results_cm_p_tss)\";\n",
       "                var nbb_formatted_code = \"df_results_cm_p_tss = compute_scpm(df_results_cm_p_tss)\";\n",
       "                var nbb_cells = Jupyter.notebook.get_cells();\n",
       "                for (var i = 0; i < nbb_cells.length; ++i) {\n",
       "                    if (nbb_cells[i].input_prompt_number == nbb_cell_id) {\n",
       "                        if (nbb_cells[i].get_text() == nbb_unformatted_code) {\n",
       "                             nbb_cells[i].set_text(nbb_formatted_code);\n",
       "                        }\n",
       "                        break;\n",
       "                    }\n",
       "                }\n",
       "            }, 500);\n",
       "            "
      ],
      "text/plain": [
       "<IPython.core.display.Javascript object>"
      ]
     },
     "metadata": {},
     "output_type": "display_data"
    }
   ],
   "source": [
    "df_results_cm_p_tss = compute_scpm(df_results_cm_p_tss)"
   ]
  },
  {
   "cell_type": "markdown",
   "id": "7d38e3a1",
   "metadata": {},
   "source": [
    "##### Dominance Analysis"
   ]
  },
  {
   "cell_type": "code",
   "execution_count": 172,
   "id": "bbe3a210",
   "metadata": {},
   "outputs": [
    {
     "data": {
      "application/javascript": [
       "\n",
       "            setTimeout(function() {\n",
       "                var nbb_cell_id = 172;\n",
       "                var nbb_unformatted_code = \"# Per project\\ndominance_dict = make_dominance_analysis(df_results_cm_p_tss)\\ndominance_matrix_cm_p_tss = dominance_dict[\\\"dominance_matrix\\\"]\\ndominance_graph_cm_p_tss = dominance_dict[\\\"dominance_graph\\\"]\\ndf_sorted_count = dominance_dict[\\\"df_sorted_count\\\"]\\ndf_sorted_topo = dominance_dict[\\\"df_sorted_topo\\\"]\";\n",
       "                var nbb_formatted_code = \"# Per project\\ndominance_dict = make_dominance_analysis(df_results_cm_p_tss)\\ndominance_matrix_cm_p_tss = dominance_dict[\\\"dominance_matrix\\\"]\\ndominance_graph_cm_p_tss = dominance_dict[\\\"dominance_graph\\\"]\\ndf_sorted_count = dominance_dict[\\\"df_sorted_count\\\"]\\ndf_sorted_topo = dominance_dict[\\\"df_sorted_topo\\\"]\";\n",
       "                var nbb_cells = Jupyter.notebook.get_cells();\n",
       "                for (var i = 0; i < nbb_cells.length; ++i) {\n",
       "                    if (nbb_cells[i].input_prompt_number == nbb_cell_id) {\n",
       "                        if (nbb_cells[i].get_text() == nbb_unformatted_code) {\n",
       "                             nbb_cells[i].set_text(nbb_formatted_code);\n",
       "                        }\n",
       "                        break;\n",
       "                    }\n",
       "                }\n",
       "            }, 500);\n",
       "            "
      ],
      "text/plain": [
       "<IPython.core.display.Javascript object>"
      ]
     },
     "metadata": {},
     "output_type": "display_data"
    }
   ],
   "source": [
    "# Per project\n",
    "dominance_dict = make_dominance_analysis(df_results_cm_p_tss)\n",
    "dominance_matrix_cm_p_tss = dominance_dict[\"dominance_matrix\"]\n",
    "dominance_graph_cm_p_tss = dominance_dict[\"dominance_graph\"]\n",
    "df_sorted_count = dominance_dict[\"df_sorted_count\"]\n",
    "df_sorted_topo = dominance_dict[\"df_sorted_topo\"]"
   ]
  },
  {
   "cell_type": "code",
   "execution_count": 173,
   "id": "cfe7cb0d",
   "metadata": {},
   "outputs": [
    {
     "data": {
      "text/plain": [
       "((20, 20), 20)"
      ]
     },
     "execution_count": 173,
     "metadata": {},
     "output_type": "execute_result"
    },
    {
     "data": {
      "application/javascript": [
       "\n",
       "            setTimeout(function() {\n",
       "                var nbb_cell_id = 173;\n",
       "                var nbb_unformatted_code = \"dominance_matrix_cm_p_tss.shape, len(dominance_graph_cm_p_tss)\";\n",
       "                var nbb_formatted_code = \"dominance_matrix_cm_p_tss.shape, len(dominance_graph_cm_p_tss)\";\n",
       "                var nbb_cells = Jupyter.notebook.get_cells();\n",
       "                for (var i = 0; i < nbb_cells.length; ++i) {\n",
       "                    if (nbb_cells[i].input_prompt_number == nbb_cell_id) {\n",
       "                        if (nbb_cells[i].get_text() == nbb_unformatted_code) {\n",
       "                             nbb_cells[i].set_text(nbb_formatted_code);\n",
       "                        }\n",
       "                        break;\n",
       "                    }\n",
       "                }\n",
       "            }, 500);\n",
       "            "
      ],
      "text/plain": [
       "<IPython.core.display.Javascript object>"
      ]
     },
     "metadata": {},
     "output_type": "display_data"
    }
   ],
   "source": [
    "dominance_matrix_cm_p_tss.shape, len(dominance_graph_cm_p_tss)"
   ]
  },
  {
   "cell_type": "code",
   "execution_count": 174,
   "id": "d209456d",
   "metadata": {},
   "outputs": [
    {
     "data": {
      "text/plain": [
       "Classification\n",
       "intermediate_model    18\n",
       "dominant_model         1\n",
       "non_dominant_model     1\n",
       "Name: count, dtype: int64"
      ]
     },
     "execution_count": 174,
     "metadata": {},
     "output_type": "execute_result"
    },
    {
     "data": {
      "application/javascript": [
       "\n",
       "            setTimeout(function() {\n",
       "                var nbb_cell_id = 174;\n",
       "                var nbb_unformatted_code = \"df_sorted_topo[\\\"Classification\\\"].value_counts()\";\n",
       "                var nbb_formatted_code = \"df_sorted_topo[\\\"Classification\\\"].value_counts()\";\n",
       "                var nbb_cells = Jupyter.notebook.get_cells();\n",
       "                for (var i = 0; i < nbb_cells.length; ++i) {\n",
       "                    if (nbb_cells[i].input_prompt_number == nbb_cell_id) {\n",
       "                        if (nbb_cells[i].get_text() == nbb_unformatted_code) {\n",
       "                             nbb_cells[i].set_text(nbb_formatted_code);\n",
       "                        }\n",
       "                        break;\n",
       "                    }\n",
       "                }\n",
       "            }, 500);\n",
       "            "
      ],
      "text/plain": [
       "<IPython.core.display.Javascript object>"
      ]
     },
     "metadata": {},
     "output_type": "display_data"
    }
   ],
   "source": [
    "df_sorted_topo[\"Classification\"].value_counts()"
   ]
  },
  {
   "cell_type": "code",
   "execution_count": 175,
   "id": "2ca6e822",
   "metadata": {
    "scrolled": false
   },
   "outputs": [
    {
     "data": {
      "application/javascript": [
       "\n",
       "            setTimeout(function() {\n",
       "                var nbb_cell_id = 175;\n",
       "                var nbb_unformatted_code = \"df_sorted_topo.to_csv(\\n    \\\"../../../../reports/results/local_models/ecics/203_c_dominance_analysis_cm_p_tss_last_fold.csv\\\",\\n    index=False,\\n)\";\n",
       "                var nbb_formatted_code = \"df_sorted_topo.to_csv(\\n    \\\"../../../../reports/results/local_models/ecics/203_c_dominance_analysis_cm_p_tss_last_fold.csv\\\",\\n    index=False,\\n)\";\n",
       "                var nbb_cells = Jupyter.notebook.get_cells();\n",
       "                for (var i = 0; i < nbb_cells.length; ++i) {\n",
       "                    if (nbb_cells[i].input_prompt_number == nbb_cell_id) {\n",
       "                        if (nbb_cells[i].get_text() == nbb_unformatted_code) {\n",
       "                             nbb_cells[i].set_text(nbb_formatted_code);\n",
       "                        }\n",
       "                        break;\n",
       "                    }\n",
       "                }\n",
       "            }, 500);\n",
       "            "
      ],
      "text/plain": [
       "<IPython.core.display.Javascript object>"
      ]
     },
     "metadata": {},
     "output_type": "display_data"
    }
   ],
   "source": [
    "df_sorted_topo.to_csv(\n",
    "    \"../../../../reports/results/local_models/ecics/203_c_dominance_analysis_cm_p_tss_last_fold.csv\",\n",
    "    index=False,\n",
    ")"
   ]
  },
  {
   "cell_type": "code",
   "execution_count": 176,
   "id": "e72bbf52",
   "metadata": {},
   "outputs": [
    {
     "data": {
      "text/html": [
       "<div>\n",
       "<style scoped>\n",
       "    .dataframe tbody tr th:only-of-type {\n",
       "        vertical-align: middle;\n",
       "    }\n",
       "\n",
       "    .dataframe tbody tr th {\n",
       "        vertical-align: top;\n",
       "    }\n",
       "\n",
       "    .dataframe thead th {\n",
       "        text-align: right;\n",
       "    }\n",
       "</style>\n",
       "<table border=\"1\" class=\"dataframe\">\n",
       "  <thead>\n",
       "    <tr style=\"text-align: right;\">\n",
       "      <th></th>\n",
       "      <th>Company</th>\n",
       "      <th>Plant</th>\n",
       "      <th>Cross Validation</th>\n",
       "      <th>Features</th>\n",
       "      <th>Features_bkp</th>\n",
       "      <th>Model</th>\n",
       "      <th>Model_bkp</th>\n",
       "      <th>Model_bkp_2</th>\n",
       "      <th>Timesteps</th>\n",
       "      <th>RMSE_mean</th>\n",
       "      <th>MAE_mean</th>\n",
       "      <th>MAPE_mean</th>\n",
       "      <th>R2_mean</th>\n",
       "      <th>SCPM</th>\n",
       "      <th>Dominated_Count</th>\n",
       "      <th>Classification</th>\n",
       "      <th>Dominates_Count</th>\n",
       "    </tr>\n",
       "  </thead>\n",
       "  <tbody>\n",
       "    <tr>\n",
       "      <th>18</th>\n",
       "      <td>203</td>\n",
       "      <td>c</td>\n",
       "      <td>Time Series Split</td>\n",
       "      <td>Chemical + Mineralogical + Physical - Early CS</td>\n",
       "      <td>Chemical + Mineralogical + Physical - Early CS</td>\n",
       "      <td>Trees</td>\n",
       "      <td>Random Forest</td>\n",
       "      <td>Random Forest</td>\n",
       "      <td>NaN</td>\n",
       "      <td>0.961127</td>\n",
       "      <td>0.737355</td>\n",
       "      <td>1.789304</td>\n",
       "      <td>0.973883</td>\n",
       "      <td>-2.788998</td>\n",
       "      <td>0</td>\n",
       "      <td>dominant_model</td>\n",
       "      <td>19</td>\n",
       "    </tr>\n",
       "    <tr>\n",
       "      <th>15</th>\n",
       "      <td>203</td>\n",
       "      <td>c</td>\n",
       "      <td>Time Series Split</td>\n",
       "      <td>Chemical + Mineralogical + Physical - Early CS</td>\n",
       "      <td>Chemical + Mineralogical + Physical - Early CS</td>\n",
       "      <td>Trees</td>\n",
       "      <td>Decision Tree</td>\n",
       "      <td>Decision Tree</td>\n",
       "      <td>NaN</td>\n",
       "      <td>0.993994</td>\n",
       "      <td>0.839081</td>\n",
       "      <td>1.997316</td>\n",
       "      <td>0.972066</td>\n",
       "      <td>-2.579229</td>\n",
       "      <td>1</td>\n",
       "      <td>intermediate_model</td>\n",
       "      <td>18</td>\n",
       "    </tr>\n",
       "    <tr>\n",
       "      <th>4</th>\n",
       "      <td>203</td>\n",
       "      <td>c</td>\n",
       "      <td>Time Series Split</td>\n",
       "      <td>Chemical + Mineralogical + Physical - Early CS</td>\n",
       "      <td>Chemical + Mineralogical + Physical - Early CS</td>\n",
       "      <td>Neural Networks</td>\n",
       "      <td>Transformer</td>\n",
       "      <td>Transformer_1.0</td>\n",
       "      <td>1.0</td>\n",
       "      <td>1.280703</td>\n",
       "      <td>0.984176</td>\n",
       "      <td>2.384542</td>\n",
       "      <td>0.953628</td>\n",
       "      <td>-2.188974</td>\n",
       "      <td>2</td>\n",
       "      <td>intermediate_model</td>\n",
       "      <td>17</td>\n",
       "    </tr>\n",
       "    <tr>\n",
       "      <th>0</th>\n",
       "      <td>203</td>\n",
       "      <td>c</td>\n",
       "      <td>Time Series Split</td>\n",
       "      <td>Chemical + Mineralogical + Physical - Early CS</td>\n",
       "      <td>Chemical + Mineralogical + Physical - Early CS</td>\n",
       "      <td>Neural Networks</td>\n",
       "      <td>BidirectionalGRU</td>\n",
       "      <td>BidirectionalGRU_1.0</td>\n",
       "      <td>1.0</td>\n",
       "      <td>1.863689</td>\n",
       "      <td>1.139583</td>\n",
       "      <td>2.576650</td>\n",
       "      <td>0.901801</td>\n",
       "      <td>-1.819912</td>\n",
       "      <td>3</td>\n",
       "      <td>intermediate_model</td>\n",
       "      <td>11</td>\n",
       "    </tr>\n",
       "    <tr>\n",
       "      <th>2</th>\n",
       "      <td>203</td>\n",
       "      <td>c</td>\n",
       "      <td>Time Series Split</td>\n",
       "      <td>Chemical + Mineralogical + Physical - Early CS</td>\n",
       "      <td>Chemical + Mineralogical + Physical - Early CS</td>\n",
       "      <td>Neural Networks</td>\n",
       "      <td>GRU</td>\n",
       "      <td>GRU_1.0</td>\n",
       "      <td>1.0</td>\n",
       "      <td>2.025519</td>\n",
       "      <td>1.097151</td>\n",
       "      <td>2.530100</td>\n",
       "      <td>0.884007</td>\n",
       "      <td>-1.851495</td>\n",
       "      <td>3</td>\n",
       "      <td>intermediate_model</td>\n",
       "      <td>9</td>\n",
       "    </tr>\n",
       "  </tbody>\n",
       "</table>\n",
       "</div>"
      ],
      "text/plain": [
       "    Company Plant   Cross Validation  \\\n",
       "18      203     c  Time Series Split   \n",
       "15      203     c  Time Series Split   \n",
       "4       203     c  Time Series Split   \n",
       "0       203     c  Time Series Split   \n",
       "2       203     c  Time Series Split   \n",
       "\n",
       "                                          Features  \\\n",
       "18  Chemical + Mineralogical + Physical - Early CS   \n",
       "15  Chemical + Mineralogical + Physical - Early CS   \n",
       "4   Chemical + Mineralogical + Physical - Early CS   \n",
       "0   Chemical + Mineralogical + Physical - Early CS   \n",
       "2   Chemical + Mineralogical + Physical - Early CS   \n",
       "\n",
       "                                      Features_bkp            Model  \\\n",
       "18  Chemical + Mineralogical + Physical - Early CS            Trees   \n",
       "15  Chemical + Mineralogical + Physical - Early CS            Trees   \n",
       "4   Chemical + Mineralogical + Physical - Early CS  Neural Networks   \n",
       "0   Chemical + Mineralogical + Physical - Early CS  Neural Networks   \n",
       "2   Chemical + Mineralogical + Physical - Early CS  Neural Networks   \n",
       "\n",
       "           Model_bkp           Model_bkp_2  Timesteps  RMSE_mean  MAE_mean  \\\n",
       "18     Random Forest         Random Forest        NaN   0.961127  0.737355   \n",
       "15     Decision Tree         Decision Tree        NaN   0.993994  0.839081   \n",
       "4        Transformer       Transformer_1.0        1.0   1.280703  0.984176   \n",
       "0   BidirectionalGRU  BidirectionalGRU_1.0        1.0   1.863689  1.139583   \n",
       "2                GRU               GRU_1.0        1.0   2.025519  1.097151   \n",
       "\n",
       "    MAPE_mean   R2_mean      SCPM  Dominated_Count      Classification  \\\n",
       "18   1.789304  0.973883 -2.788998                0      dominant_model   \n",
       "15   1.997316  0.972066 -2.579229                1  intermediate_model   \n",
       "4    2.384542  0.953628 -2.188974                2  intermediate_model   \n",
       "0    2.576650  0.901801 -1.819912                3  intermediate_model   \n",
       "2    2.530100  0.884007 -1.851495                3  intermediate_model   \n",
       "\n",
       "    Dominates_Count  \n",
       "18               19  \n",
       "15               18  \n",
       "4                17  \n",
       "0                11  \n",
       "2                 9  "
      ]
     },
     "execution_count": 176,
     "metadata": {},
     "output_type": "execute_result"
    },
    {
     "data": {
      "application/javascript": [
       "\n",
       "            setTimeout(function() {\n",
       "                var nbb_cell_id = 176;\n",
       "                var nbb_unformatted_code = \"df_sorted_topo.head(5)\";\n",
       "                var nbb_formatted_code = \"df_sorted_topo.head(5)\";\n",
       "                var nbb_cells = Jupyter.notebook.get_cells();\n",
       "                for (var i = 0; i < nbb_cells.length; ++i) {\n",
       "                    if (nbb_cells[i].input_prompt_number == nbb_cell_id) {\n",
       "                        if (nbb_cells[i].get_text() == nbb_unformatted_code) {\n",
       "                             nbb_cells[i].set_text(nbb_formatted_code);\n",
       "                        }\n",
       "                        break;\n",
       "                    }\n",
       "                }\n",
       "            }, 500);\n",
       "            "
      ],
      "text/plain": [
       "<IPython.core.display.Javascript object>"
      ]
     },
     "metadata": {},
     "output_type": "display_data"
    }
   ],
   "source": [
    "df_sorted_topo.head(5)"
   ]
  },
  {
   "cell_type": "code",
   "execution_count": 177,
   "id": "2cf44710",
   "metadata": {
    "scrolled": false
   },
   "outputs": [
    {
     "data": {
      "application/javascript": [
       "\n",
       "            setTimeout(function() {\n",
       "                var nbb_cell_id = 177;\n",
       "                var nbb_unformatted_code = \"df_sorted_topo_cols = df_sorted_topo[\\n    [\\n        # \\\"Model\\\",\\n        # \\\"Model_bkp\\\",\\n        \\\"Model_bkp_2\\\",\\n        \\\"RMSE_mean\\\",\\n        \\\"MAE_mean\\\",\\n        \\\"MAPE_mean\\\",\\n        \\\"R2_mean\\\",\\n        \\\"SCPM\\\",\\n        \\\"Dominated_Count\\\",\\n        \\\"Classification\\\",\\n        \\\"Dominates_Count\\\",\\n        \\\"Plant\\\",\\n    ]\\n].round(2)\";\n",
       "                var nbb_formatted_code = \"df_sorted_topo_cols = df_sorted_topo[\\n    [\\n        # \\\"Model\\\",\\n        # \\\"Model_bkp\\\",\\n        \\\"Model_bkp_2\\\",\\n        \\\"RMSE_mean\\\",\\n        \\\"MAE_mean\\\",\\n        \\\"MAPE_mean\\\",\\n        \\\"R2_mean\\\",\\n        \\\"SCPM\\\",\\n        \\\"Dominated_Count\\\",\\n        \\\"Classification\\\",\\n        \\\"Dominates_Count\\\",\\n        \\\"Plant\\\",\\n    ]\\n].round(2)\";\n",
       "                var nbb_cells = Jupyter.notebook.get_cells();\n",
       "                for (var i = 0; i < nbb_cells.length; ++i) {\n",
       "                    if (nbb_cells[i].input_prompt_number == nbb_cell_id) {\n",
       "                        if (nbb_cells[i].get_text() == nbb_unformatted_code) {\n",
       "                             nbb_cells[i].set_text(nbb_formatted_code);\n",
       "                        }\n",
       "                        break;\n",
       "                    }\n",
       "                }\n",
       "            }, 500);\n",
       "            "
      ],
      "text/plain": [
       "<IPython.core.display.Javascript object>"
      ]
     },
     "metadata": {},
     "output_type": "display_data"
    }
   ],
   "source": [
    "df_sorted_topo_cols = df_sorted_topo[\n",
    "    [\n",
    "        # \"Model\",\n",
    "        # \"Model_bkp\",\n",
    "        \"Model_bkp_2\",\n",
    "        \"RMSE_mean\",\n",
    "        \"MAE_mean\",\n",
    "        \"MAPE_mean\",\n",
    "        \"R2_mean\",\n",
    "        \"SCPM\",\n",
    "        \"Dominated_Count\",\n",
    "        \"Classification\",\n",
    "        \"Dominates_Count\",\n",
    "        \"Plant\",\n",
    "    ]\n",
    "].round(2)"
   ]
  },
  {
   "cell_type": "markdown",
   "id": "5b24340a",
   "metadata": {},
   "source": [
    "###### Dominant Models"
   ]
  },
  {
   "cell_type": "code",
   "execution_count": 178,
   "id": "6a484d60",
   "metadata": {},
   "outputs": [
    {
     "data": {
      "text/html": [
       "<div>\n",
       "<style scoped>\n",
       "    .dataframe tbody tr th:only-of-type {\n",
       "        vertical-align: middle;\n",
       "    }\n",
       "\n",
       "    .dataframe tbody tr th {\n",
       "        vertical-align: top;\n",
       "    }\n",
       "\n",
       "    .dataframe thead th {\n",
       "        text-align: right;\n",
       "    }\n",
       "</style>\n",
       "<table border=\"1\" class=\"dataframe\">\n",
       "  <thead>\n",
       "    <tr style=\"text-align: right;\">\n",
       "      <th></th>\n",
       "      <th>Model_bkp_2</th>\n",
       "      <th>RMSE_mean</th>\n",
       "      <th>MAE_mean</th>\n",
       "      <th>MAPE_mean</th>\n",
       "      <th>R2_mean</th>\n",
       "      <th>SCPM</th>\n",
       "      <th>Dominated_Count</th>\n",
       "      <th>Classification</th>\n",
       "      <th>Dominates_Count</th>\n",
       "      <th>Plant</th>\n",
       "    </tr>\n",
       "  </thead>\n",
       "  <tbody>\n",
       "    <tr>\n",
       "      <th>18</th>\n",
       "      <td>Random Forest</td>\n",
       "      <td>0.96</td>\n",
       "      <td>0.74</td>\n",
       "      <td>1.79</td>\n",
       "      <td>0.97</td>\n",
       "      <td>-2.79</td>\n",
       "      <td>0</td>\n",
       "      <td>dominant_model</td>\n",
       "      <td>19</td>\n",
       "      <td>c</td>\n",
       "    </tr>\n",
       "    <tr>\n",
       "      <th>15</th>\n",
       "      <td>Decision Tree</td>\n",
       "      <td>0.99</td>\n",
       "      <td>0.84</td>\n",
       "      <td>2.00</td>\n",
       "      <td>0.97</td>\n",
       "      <td>-2.58</td>\n",
       "      <td>1</td>\n",
       "      <td>intermediate_model</td>\n",
       "      <td>18</td>\n",
       "      <td>c</td>\n",
       "    </tr>\n",
       "    <tr>\n",
       "      <th>4</th>\n",
       "      <td>Transformer_1.0</td>\n",
       "      <td>1.28</td>\n",
       "      <td>0.98</td>\n",
       "      <td>2.38</td>\n",
       "      <td>0.95</td>\n",
       "      <td>-2.19</td>\n",
       "      <td>2</td>\n",
       "      <td>intermediate_model</td>\n",
       "      <td>17</td>\n",
       "      <td>c</td>\n",
       "    </tr>\n",
       "    <tr>\n",
       "      <th>9</th>\n",
       "      <td>Transformer_7.0</td>\n",
       "      <td>1.34</td>\n",
       "      <td>1.05</td>\n",
       "      <td>2.60</td>\n",
       "      <td>0.95</td>\n",
       "      <td>-2.00</td>\n",
       "      <td>3</td>\n",
       "      <td>intermediate_model</td>\n",
       "      <td>13</td>\n",
       "      <td>c</td>\n",
       "    </tr>\n",
       "    <tr>\n",
       "      <th>0</th>\n",
       "      <td>BidirectionalGRU_1.0</td>\n",
       "      <td>1.86</td>\n",
       "      <td>1.14</td>\n",
       "      <td>2.58</td>\n",
       "      <td>0.90</td>\n",
       "      <td>-1.82</td>\n",
       "      <td>3</td>\n",
       "      <td>intermediate_model</td>\n",
       "      <td>11</td>\n",
       "      <td>c</td>\n",
       "    </tr>\n",
       "  </tbody>\n",
       "</table>\n",
       "</div>"
      ],
      "text/plain": [
       "             Model_bkp_2  RMSE_mean  MAE_mean  MAPE_mean  R2_mean  SCPM  \\\n",
       "18         Random Forest       0.96      0.74       1.79     0.97 -2.79   \n",
       "15         Decision Tree       0.99      0.84       2.00     0.97 -2.58   \n",
       "4        Transformer_1.0       1.28      0.98       2.38     0.95 -2.19   \n",
       "9        Transformer_7.0       1.34      1.05       2.60     0.95 -2.00   \n",
       "0   BidirectionalGRU_1.0       1.86      1.14       2.58     0.90 -1.82   \n",
       "\n",
       "    Dominated_Count      Classification  Dominates_Count Plant  \n",
       "18                0      dominant_model               19     c  \n",
       "15                1  intermediate_model               18     c  \n",
       "4                 2  intermediate_model               17     c  \n",
       "9                 3  intermediate_model               13     c  \n",
       "0                 3  intermediate_model               11     c  "
      ]
     },
     "execution_count": 178,
     "metadata": {},
     "output_type": "execute_result"
    },
    {
     "data": {
      "application/javascript": [
       "\n",
       "            setTimeout(function() {\n",
       "                var nbb_cell_id = 178;\n",
       "                var nbb_unformatted_code = \"# Top 5\\ndf_sorted_topo_cols.sort_values(\\n    by=[\\\"Dominates_Count\\\", \\\"SCPM\\\"], ascending=[False, True]\\n).iloc[0:5].round(2)\";\n",
       "                var nbb_formatted_code = \"# Top 5\\ndf_sorted_topo_cols.sort_values(\\n    by=[\\\"Dominates_Count\\\", \\\"SCPM\\\"], ascending=[False, True]\\n).iloc[0:5].round(2)\";\n",
       "                var nbb_cells = Jupyter.notebook.get_cells();\n",
       "                for (var i = 0; i < nbb_cells.length; ++i) {\n",
       "                    if (nbb_cells[i].input_prompt_number == nbb_cell_id) {\n",
       "                        if (nbb_cells[i].get_text() == nbb_unformatted_code) {\n",
       "                             nbb_cells[i].set_text(nbb_formatted_code);\n",
       "                        }\n",
       "                        break;\n",
       "                    }\n",
       "                }\n",
       "            }, 500);\n",
       "            "
      ],
      "text/plain": [
       "<IPython.core.display.Javascript object>"
      ]
     },
     "metadata": {},
     "output_type": "display_data"
    }
   ],
   "source": [
    "# Top 5\n",
    "df_sorted_topo_cols.sort_values(\n",
    "    by=[\"Dominates_Count\", \"SCPM\"], ascending=[False, True]\n",
    ").iloc[0:5].round(2)"
   ]
  },
  {
   "cell_type": "code",
   "execution_count": 179,
   "id": "a9a01583",
   "metadata": {},
   "outputs": [
    {
     "data": {
      "text/html": [
       "<div>\n",
       "<style scoped>\n",
       "    .dataframe tbody tr th:only-of-type {\n",
       "        vertical-align: middle;\n",
       "    }\n",
       "\n",
       "    .dataframe tbody tr th {\n",
       "        vertical-align: top;\n",
       "    }\n",
       "\n",
       "    .dataframe thead th {\n",
       "        text-align: right;\n",
       "    }\n",
       "</style>\n",
       "<table border=\"1\" class=\"dataframe\">\n",
       "  <thead>\n",
       "    <tr style=\"text-align: right;\">\n",
       "      <th></th>\n",
       "      <th>Model_bkp_2</th>\n",
       "      <th>RMSE_mean</th>\n",
       "      <th>MAE_mean</th>\n",
       "      <th>MAPE_mean</th>\n",
       "      <th>R2_mean</th>\n",
       "      <th>SCPM</th>\n",
       "      <th>Dominated_Count</th>\n",
       "      <th>Classification</th>\n",
       "      <th>Dominates_Count</th>\n",
       "      <th>Plant</th>\n",
       "    </tr>\n",
       "  </thead>\n",
       "  <tbody>\n",
       "    <tr>\n",
       "      <th>18</th>\n",
       "      <td>Random Forest</td>\n",
       "      <td>0.96</td>\n",
       "      <td>0.74</td>\n",
       "      <td>1.79</td>\n",
       "      <td>0.97</td>\n",
       "      <td>-2.79</td>\n",
       "      <td>0</td>\n",
       "      <td>dominant_model</td>\n",
       "      <td>19</td>\n",
       "      <td>c</td>\n",
       "    </tr>\n",
       "    <tr>\n",
       "      <th>15</th>\n",
       "      <td>Decision Tree</td>\n",
       "      <td>0.99</td>\n",
       "      <td>0.84</td>\n",
       "      <td>2.00</td>\n",
       "      <td>0.97</td>\n",
       "      <td>-2.58</td>\n",
       "      <td>1</td>\n",
       "      <td>intermediate_model</td>\n",
       "      <td>18</td>\n",
       "      <td>c</td>\n",
       "    </tr>\n",
       "    <tr>\n",
       "      <th>4</th>\n",
       "      <td>Transformer_1.0</td>\n",
       "      <td>1.28</td>\n",
       "      <td>0.98</td>\n",
       "      <td>2.38</td>\n",
       "      <td>0.95</td>\n",
       "      <td>-2.19</td>\n",
       "      <td>2</td>\n",
       "      <td>intermediate_model</td>\n",
       "      <td>17</td>\n",
       "      <td>c</td>\n",
       "    </tr>\n",
       "    <tr>\n",
       "      <th>0</th>\n",
       "      <td>BidirectionalGRU_1.0</td>\n",
       "      <td>1.86</td>\n",
       "      <td>1.14</td>\n",
       "      <td>2.58</td>\n",
       "      <td>0.90</td>\n",
       "      <td>-1.82</td>\n",
       "      <td>3</td>\n",
       "      <td>intermediate_model</td>\n",
       "      <td>11</td>\n",
       "      <td>c</td>\n",
       "    </tr>\n",
       "    <tr>\n",
       "      <th>2</th>\n",
       "      <td>GRU_1.0</td>\n",
       "      <td>2.03</td>\n",
       "      <td>1.10</td>\n",
       "      <td>2.53</td>\n",
       "      <td>0.88</td>\n",
       "      <td>-1.85</td>\n",
       "      <td>3</td>\n",
       "      <td>intermediate_model</td>\n",
       "      <td>9</td>\n",
       "      <td>c</td>\n",
       "    </tr>\n",
       "  </tbody>\n",
       "</table>\n",
       "</div>"
      ],
      "text/plain": [
       "             Model_bkp_2  RMSE_mean  MAE_mean  MAPE_mean  R2_mean  SCPM  \\\n",
       "18         Random Forest       0.96      0.74       1.79     0.97 -2.79   \n",
       "15         Decision Tree       0.99      0.84       2.00     0.97 -2.58   \n",
       "4        Transformer_1.0       1.28      0.98       2.38     0.95 -2.19   \n",
       "0   BidirectionalGRU_1.0       1.86      1.14       2.58     0.90 -1.82   \n",
       "2                GRU_1.0       2.03      1.10       2.53     0.88 -1.85   \n",
       "\n",
       "    Dominated_Count      Classification  Dominates_Count Plant  \n",
       "18                0      dominant_model               19     c  \n",
       "15                1  intermediate_model               18     c  \n",
       "4                 2  intermediate_model               17     c  \n",
       "0                 3  intermediate_model               11     c  \n",
       "2                 3  intermediate_model                9     c  "
      ]
     },
     "execution_count": 179,
     "metadata": {},
     "output_type": "execute_result"
    },
    {
     "data": {
      "application/javascript": [
       "\n",
       "            setTimeout(function() {\n",
       "                var nbb_cell_id = 179;\n",
       "                var nbb_unformatted_code = \"# Top 4\\ndf_sorted_topo_cols.iloc[0:5].sort_values(by=\\\"Dominates_Count\\\", ascending=False)\";\n",
       "                var nbb_formatted_code = \"# Top 4\\ndf_sorted_topo_cols.iloc[0:5].sort_values(by=\\\"Dominates_Count\\\", ascending=False)\";\n",
       "                var nbb_cells = Jupyter.notebook.get_cells();\n",
       "                for (var i = 0; i < nbb_cells.length; ++i) {\n",
       "                    if (nbb_cells[i].input_prompt_number == nbb_cell_id) {\n",
       "                        if (nbb_cells[i].get_text() == nbb_unformatted_code) {\n",
       "                             nbb_cells[i].set_text(nbb_formatted_code);\n",
       "                        }\n",
       "                        break;\n",
       "                    }\n",
       "                }\n",
       "            }, 500);\n",
       "            "
      ],
      "text/plain": [
       "<IPython.core.display.Javascript object>"
      ]
     },
     "metadata": {},
     "output_type": "display_data"
    }
   ],
   "source": [
    "# Top 4\n",
    "df_sorted_topo_cols.iloc[0:5].sort_values(by=\"Dominates_Count\", ascending=False)"
   ]
  },
  {
   "cell_type": "code",
   "execution_count": 180,
   "id": "ddde9ed5",
   "metadata": {},
   "outputs": [
    {
     "data": {
      "text/plain": [
       "(1, 10)"
      ]
     },
     "execution_count": 180,
     "metadata": {},
     "output_type": "execute_result"
    },
    {
     "data": {
      "application/javascript": [
       "\n",
       "            setTimeout(function() {\n",
       "                var nbb_cell_id = 180;\n",
       "                var nbb_unformatted_code = \"df_sorted_topo_cols[df_sorted_topo_cols[\\\"Classification\\\"].eq(\\\"dominant_model\\\")].shape\";\n",
       "                var nbb_formatted_code = \"df_sorted_topo_cols[df_sorted_topo_cols[\\\"Classification\\\"].eq(\\\"dominant_model\\\")].shape\";\n",
       "                var nbb_cells = Jupyter.notebook.get_cells();\n",
       "                for (var i = 0; i < nbb_cells.length; ++i) {\n",
       "                    if (nbb_cells[i].input_prompt_number == nbb_cell_id) {\n",
       "                        if (nbb_cells[i].get_text() == nbb_unformatted_code) {\n",
       "                             nbb_cells[i].set_text(nbb_formatted_code);\n",
       "                        }\n",
       "                        break;\n",
       "                    }\n",
       "                }\n",
       "            }, 500);\n",
       "            "
      ],
      "text/plain": [
       "<IPython.core.display.Javascript object>"
      ]
     },
     "metadata": {},
     "output_type": "display_data"
    }
   ],
   "source": [
    "df_sorted_topo_cols[df_sorted_topo_cols[\"Classification\"].eq(\"dominant_model\")].shape"
   ]
  },
  {
   "cell_type": "markdown",
   "id": "f1f4460a",
   "metadata": {},
   "source": [
    "###### Intermediate models"
   ]
  },
  {
   "cell_type": "code",
   "execution_count": 181,
   "id": "2185ae1a",
   "metadata": {},
   "outputs": [
    {
     "data": {
      "text/html": [
       "<div>\n",
       "<style scoped>\n",
       "    .dataframe tbody tr th:only-of-type {\n",
       "        vertical-align: middle;\n",
       "    }\n",
       "\n",
       "    .dataframe tbody tr th {\n",
       "        vertical-align: top;\n",
       "    }\n",
       "\n",
       "    .dataframe thead th {\n",
       "        text-align: right;\n",
       "    }\n",
       "</style>\n",
       "<table border=\"1\" class=\"dataframe\">\n",
       "  <thead>\n",
       "    <tr style=\"text-align: right;\">\n",
       "      <th></th>\n",
       "      <th>Model_bkp_2</th>\n",
       "      <th>RMSE_mean</th>\n",
       "      <th>MAE_mean</th>\n",
       "      <th>MAPE_mean</th>\n",
       "      <th>R2_mean</th>\n",
       "      <th>SCPM</th>\n",
       "      <th>Dominated_Count</th>\n",
       "      <th>Classification</th>\n",
       "      <th>Dominates_Count</th>\n",
       "      <th>Plant</th>\n",
       "    </tr>\n",
       "  </thead>\n",
       "  <tbody>\n",
       "    <tr>\n",
       "      <th>15</th>\n",
       "      <td>Decision Tree</td>\n",
       "      <td>0.99</td>\n",
       "      <td>0.84</td>\n",
       "      <td>2.00</td>\n",
       "      <td>0.97</td>\n",
       "      <td>-2.58</td>\n",
       "      <td>1</td>\n",
       "      <td>intermediate_model</td>\n",
       "      <td>18</td>\n",
       "      <td>c</td>\n",
       "    </tr>\n",
       "    <tr>\n",
       "      <th>4</th>\n",
       "      <td>Transformer_1.0</td>\n",
       "      <td>1.28</td>\n",
       "      <td>0.98</td>\n",
       "      <td>2.38</td>\n",
       "      <td>0.95</td>\n",
       "      <td>-2.19</td>\n",
       "      <td>2</td>\n",
       "      <td>intermediate_model</td>\n",
       "      <td>17</td>\n",
       "      <td>c</td>\n",
       "    </tr>\n",
       "    <tr>\n",
       "      <th>9</th>\n",
       "      <td>Transformer_7.0</td>\n",
       "      <td>1.34</td>\n",
       "      <td>1.05</td>\n",
       "      <td>2.60</td>\n",
       "      <td>0.95</td>\n",
       "      <td>-2.00</td>\n",
       "      <td>3</td>\n",
       "      <td>intermediate_model</td>\n",
       "      <td>13</td>\n",
       "      <td>c</td>\n",
       "    </tr>\n",
       "  </tbody>\n",
       "</table>\n",
       "</div>"
      ],
      "text/plain": [
       "        Model_bkp_2  RMSE_mean  MAE_mean  MAPE_mean  R2_mean  SCPM  \\\n",
       "15    Decision Tree       0.99      0.84       2.00     0.97 -2.58   \n",
       "4   Transformer_1.0       1.28      0.98       2.38     0.95 -2.19   \n",
       "9   Transformer_7.0       1.34      1.05       2.60     0.95 -2.00   \n",
       "\n",
       "    Dominated_Count      Classification  Dominates_Count Plant  \n",
       "15                1  intermediate_model               18     c  \n",
       "4                 2  intermediate_model               17     c  \n",
       "9                 3  intermediate_model               13     c  "
      ]
     },
     "execution_count": 181,
     "metadata": {},
     "output_type": "execute_result"
    },
    {
     "data": {
      "application/javascript": [
       "\n",
       "            setTimeout(function() {\n",
       "                var nbb_cell_id = 181;\n",
       "                var nbb_unformatted_code = \"df_sorted_topo_cols[\\n    df_sorted_topo_cols[\\\"Classification\\\"].eq(\\\"intermediate_model\\\")\\n].sort_values(by=[\\\"Dominates_Count\\\", \\\"SCPM\\\"], ascending=[False, True]).iloc[:3]\";\n",
       "                var nbb_formatted_code = \"df_sorted_topo_cols[\\n    df_sorted_topo_cols[\\\"Classification\\\"].eq(\\\"intermediate_model\\\")\\n].sort_values(by=[\\\"Dominates_Count\\\", \\\"SCPM\\\"], ascending=[False, True]).iloc[:3]\";\n",
       "                var nbb_cells = Jupyter.notebook.get_cells();\n",
       "                for (var i = 0; i < nbb_cells.length; ++i) {\n",
       "                    if (nbb_cells[i].input_prompt_number == nbb_cell_id) {\n",
       "                        if (nbb_cells[i].get_text() == nbb_unformatted_code) {\n",
       "                             nbb_cells[i].set_text(nbb_formatted_code);\n",
       "                        }\n",
       "                        break;\n",
       "                    }\n",
       "                }\n",
       "            }, 500);\n",
       "            "
      ],
      "text/plain": [
       "<IPython.core.display.Javascript object>"
      ]
     },
     "metadata": {},
     "output_type": "display_data"
    }
   ],
   "source": [
    "df_sorted_topo_cols[\n",
    "    df_sorted_topo_cols[\"Classification\"].eq(\"intermediate_model\")\n",
    "].sort_values(by=[\"Dominates_Count\", \"SCPM\"], ascending=[False, True]).iloc[:3]"
   ]
  },
  {
   "cell_type": "code",
   "execution_count": 182,
   "id": "0d0289ab",
   "metadata": {},
   "outputs": [
    {
     "data": {
      "text/plain": [
       "(18, 10)"
      ]
     },
     "execution_count": 182,
     "metadata": {},
     "output_type": "execute_result"
    },
    {
     "data": {
      "application/javascript": [
       "\n",
       "            setTimeout(function() {\n",
       "                var nbb_cell_id = 182;\n",
       "                var nbb_unformatted_code = \"df_sorted_topo_cols[\\n    df_sorted_topo_cols[\\\"Classification\\\"].eq(\\\"intermediate_model\\\")\\n].shape\";\n",
       "                var nbb_formatted_code = \"df_sorted_topo_cols[\\n    df_sorted_topo_cols[\\\"Classification\\\"].eq(\\\"intermediate_model\\\")\\n].shape\";\n",
       "                var nbb_cells = Jupyter.notebook.get_cells();\n",
       "                for (var i = 0; i < nbb_cells.length; ++i) {\n",
       "                    if (nbb_cells[i].input_prompt_number == nbb_cell_id) {\n",
       "                        if (nbb_cells[i].get_text() == nbb_unformatted_code) {\n",
       "                             nbb_cells[i].set_text(nbb_formatted_code);\n",
       "                        }\n",
       "                        break;\n",
       "                    }\n",
       "                }\n",
       "            }, 500);\n",
       "            "
      ],
      "text/plain": [
       "<IPython.core.display.Javascript object>"
      ]
     },
     "metadata": {},
     "output_type": "display_data"
    }
   ],
   "source": [
    "df_sorted_topo_cols[\n",
    "    df_sorted_topo_cols[\"Classification\"].eq(\"intermediate_model\")\n",
    "].shape"
   ]
  },
  {
   "cell_type": "markdown",
   "id": "d09f3aa4",
   "metadata": {},
   "source": [
    "###### non-dominant models"
   ]
  },
  {
   "cell_type": "code",
   "execution_count": 183,
   "id": "201b152c",
   "metadata": {},
   "outputs": [
    {
     "data": {
      "text/html": [
       "<div>\n",
       "<style scoped>\n",
       "    .dataframe tbody tr th:only-of-type {\n",
       "        vertical-align: middle;\n",
       "    }\n",
       "\n",
       "    .dataframe tbody tr th {\n",
       "        vertical-align: top;\n",
       "    }\n",
       "\n",
       "    .dataframe thead th {\n",
       "        text-align: right;\n",
       "    }\n",
       "</style>\n",
       "<table border=\"1\" class=\"dataframe\">\n",
       "  <thead>\n",
       "    <tr style=\"text-align: right;\">\n",
       "      <th></th>\n",
       "      <th>Model_bkp_2</th>\n",
       "      <th>RMSE_mean</th>\n",
       "      <th>MAE_mean</th>\n",
       "      <th>MAPE_mean</th>\n",
       "      <th>R2_mean</th>\n",
       "      <th>SCPM</th>\n",
       "      <th>Dominated_Count</th>\n",
       "      <th>Classification</th>\n",
       "      <th>Dominates_Count</th>\n",
       "      <th>Plant</th>\n",
       "    </tr>\n",
       "  </thead>\n",
       "  <tbody>\n",
       "    <tr>\n",
       "      <th>12</th>\n",
       "      <td>GRU_14.0</td>\n",
       "      <td>24.65</td>\n",
       "      <td>5.29</td>\n",
       "      <td>11.43</td>\n",
       "      <td>-16.45</td>\n",
       "      <td>15.28</td>\n",
       "      <td>19</td>\n",
       "      <td>non_dominant_model</td>\n",
       "      <td>0</td>\n",
       "      <td>c</td>\n",
       "    </tr>\n",
       "  </tbody>\n",
       "</table>\n",
       "</div>"
      ],
      "text/plain": [
       "   Model_bkp_2  RMSE_mean  MAE_mean  MAPE_mean  R2_mean   SCPM  \\\n",
       "12    GRU_14.0      24.65      5.29      11.43   -16.45  15.28   \n",
       "\n",
       "    Dominated_Count      Classification  Dominates_Count Plant  \n",
       "12               19  non_dominant_model                0     c  "
      ]
     },
     "execution_count": 183,
     "metadata": {},
     "output_type": "execute_result"
    },
    {
     "data": {
      "application/javascript": [
       "\n",
       "            setTimeout(function() {\n",
       "                var nbb_cell_id = 183;\n",
       "                var nbb_unformatted_code = \"df_sorted_topo_cols[\\n    df_sorted_topo_cols[\\\"Classification\\\"].eq(\\\"non_dominant_model\\\")\\n].sort_values(by=[\\\"Dominates_Count\\\", \\\"SCPM\\\"], ascending=[False, True]).iloc[:5]\";\n",
       "                var nbb_formatted_code = \"df_sorted_topo_cols[\\n    df_sorted_topo_cols[\\\"Classification\\\"].eq(\\\"non_dominant_model\\\")\\n].sort_values(by=[\\\"Dominates_Count\\\", \\\"SCPM\\\"], ascending=[False, True]).iloc[:5]\";\n",
       "                var nbb_cells = Jupyter.notebook.get_cells();\n",
       "                for (var i = 0; i < nbb_cells.length; ++i) {\n",
       "                    if (nbb_cells[i].input_prompt_number == nbb_cell_id) {\n",
       "                        if (nbb_cells[i].get_text() == nbb_unformatted_code) {\n",
       "                             nbb_cells[i].set_text(nbb_formatted_code);\n",
       "                        }\n",
       "                        break;\n",
       "                    }\n",
       "                }\n",
       "            }, 500);\n",
       "            "
      ],
      "text/plain": [
       "<IPython.core.display.Javascript object>"
      ]
     },
     "metadata": {},
     "output_type": "display_data"
    }
   ],
   "source": [
    "df_sorted_topo_cols[\n",
    "    df_sorted_topo_cols[\"Classification\"].eq(\"non_dominant_model\")\n",
    "].sort_values(by=[\"Dominates_Count\", \"SCPM\"], ascending=[False, True]).iloc[:5]"
   ]
  },
  {
   "cell_type": "code",
   "execution_count": 184,
   "id": "1bbece8d",
   "metadata": {},
   "outputs": [
    {
     "data": {
      "text/plain": [
       "(1, 10)"
      ]
     },
     "execution_count": 184,
     "metadata": {},
     "output_type": "execute_result"
    },
    {
     "data": {
      "application/javascript": [
       "\n",
       "            setTimeout(function() {\n",
       "                var nbb_cell_id = 184;\n",
       "                var nbb_unformatted_code = \"df_sorted_topo_cols[\\n    df_sorted_topo_cols[\\\"Classification\\\"].eq(\\\"non_dominant_model\\\")\\n].shape\";\n",
       "                var nbb_formatted_code = \"df_sorted_topo_cols[\\n    df_sorted_topo_cols[\\\"Classification\\\"].eq(\\\"non_dominant_model\\\")\\n].shape\";\n",
       "                var nbb_cells = Jupyter.notebook.get_cells();\n",
       "                for (var i = 0; i < nbb_cells.length; ++i) {\n",
       "                    if (nbb_cells[i].input_prompt_number == nbb_cell_id) {\n",
       "                        if (nbb_cells[i].get_text() == nbb_unformatted_code) {\n",
       "                             nbb_cells[i].set_text(nbb_formatted_code);\n",
       "                        }\n",
       "                        break;\n",
       "                    }\n",
       "                }\n",
       "            }, 500);\n",
       "            "
      ],
      "text/plain": [
       "<IPython.core.display.Javascript object>"
      ]
     },
     "metadata": {},
     "output_type": "display_data"
    }
   ],
   "source": [
    "df_sorted_topo_cols[\n",
    "    df_sorted_topo_cols[\"Classification\"].eq(\"non_dominant_model\")\n",
    "].shape"
   ]
  },
  {
   "cell_type": "markdown",
   "id": "4c0f3b94",
   "metadata": {},
   "source": [
    "###### Statistics per model type"
   ]
  },
  {
   "cell_type": "code",
   "execution_count": 185,
   "id": "73a74360",
   "metadata": {},
   "outputs": [
    {
     "data": {
      "application/javascript": [
       "\n",
       "            setTimeout(function() {\n",
       "                var nbb_cell_id = 185;\n",
       "                var nbb_unformatted_code = \"df_sorted_topo_models_cols = df_sorted_topo[\\n    [\\n        \\\"Model\\\",\\n        # \\\"Model_bkp\\\",\\n        # \\\"Model_bkp_2\\\",\\n        \\\"RMSE_mean\\\",\\n        \\\"MAE_mean\\\",\\n        \\\"MAPE_mean\\\",\\n        \\\"R2_mean\\\",\\n        \\\"SCPM\\\",\\n        \\\"Dominated_Count\\\",\\n        \\\"Dominates_Count\\\",\\n        \\\"Classification\\\",\\n        \\\"Plant\\\",\\n    ]\\n]  # .round(2)\";\n",
       "                var nbb_formatted_code = \"df_sorted_topo_models_cols = df_sorted_topo[\\n    [\\n        \\\"Model\\\",\\n        # \\\"Model_bkp\\\",\\n        # \\\"Model_bkp_2\\\",\\n        \\\"RMSE_mean\\\",\\n        \\\"MAE_mean\\\",\\n        \\\"MAPE_mean\\\",\\n        \\\"R2_mean\\\",\\n        \\\"SCPM\\\",\\n        \\\"Dominated_Count\\\",\\n        \\\"Dominates_Count\\\",\\n        \\\"Classification\\\",\\n        \\\"Plant\\\",\\n    ]\\n]  # .round(2)\";\n",
       "                var nbb_cells = Jupyter.notebook.get_cells();\n",
       "                for (var i = 0; i < nbb_cells.length; ++i) {\n",
       "                    if (nbb_cells[i].input_prompt_number == nbb_cell_id) {\n",
       "                        if (nbb_cells[i].get_text() == nbb_unformatted_code) {\n",
       "                             nbb_cells[i].set_text(nbb_formatted_code);\n",
       "                        }\n",
       "                        break;\n",
       "                    }\n",
       "                }\n",
       "            }, 500);\n",
       "            "
      ],
      "text/plain": [
       "<IPython.core.display.Javascript object>"
      ]
     },
     "metadata": {},
     "output_type": "display_data"
    }
   ],
   "source": [
    "df_sorted_topo_models_cols = df_sorted_topo[\n",
    "    [\n",
    "        \"Model\",\n",
    "        # \"Model_bkp\",\n",
    "        # \"Model_bkp_2\",\n",
    "        \"RMSE_mean\",\n",
    "        \"MAE_mean\",\n",
    "        \"MAPE_mean\",\n",
    "        \"R2_mean\",\n",
    "        \"SCPM\",\n",
    "        \"Dominated_Count\",\n",
    "        \"Dominates_Count\",\n",
    "        \"Classification\",\n",
    "        \"Plant\",\n",
    "    ]\n",
    "]  # .round(2)"
   ]
  },
  {
   "cell_type": "code",
   "execution_count": 186,
   "id": "240b8dba",
   "metadata": {},
   "outputs": [
    {
     "data": {
      "text/plain": [
       "Model\n",
       "Neural Networks      16\n",
       "Trees                 3\n",
       "Linear Regression     1\n",
       "Name: count, dtype: int64"
      ]
     },
     "execution_count": 186,
     "metadata": {},
     "output_type": "execute_result"
    },
    {
     "data": {
      "application/javascript": [
       "\n",
       "            setTimeout(function() {\n",
       "                var nbb_cell_id = 186;\n",
       "                var nbb_unformatted_code = \"df_sorted_topo[\\\"Model\\\"].value_counts()\";\n",
       "                var nbb_formatted_code = \"df_sorted_topo[\\\"Model\\\"].value_counts()\";\n",
       "                var nbb_cells = Jupyter.notebook.get_cells();\n",
       "                for (var i = 0; i < nbb_cells.length; ++i) {\n",
       "                    if (nbb_cells[i].input_prompt_number == nbb_cell_id) {\n",
       "                        if (nbb_cells[i].get_text() == nbb_unformatted_code) {\n",
       "                             nbb_cells[i].set_text(nbb_formatted_code);\n",
       "                        }\n",
       "                        break;\n",
       "                    }\n",
       "                }\n",
       "            }, 500);\n",
       "            "
      ],
      "text/plain": [
       "<IPython.core.display.Javascript object>"
      ]
     },
     "metadata": {},
     "output_type": "display_data"
    }
   ],
   "source": [
    "df_sorted_topo[\"Model\"].value_counts()"
   ]
  },
  {
   "cell_type": "code",
   "execution_count": 187,
   "id": "1e93e399",
   "metadata": {},
   "outputs": [
    {
     "data": {
      "application/javascript": [
       "\n",
       "            setTimeout(function() {\n",
       "                var nbb_cell_id = 187;\n",
       "                var nbb_unformatted_code = \"df_sorted_topo_models_grouped = df_sorted_topo_models_cols.groupby(\\\"Model\\\").describe().T\";\n",
       "                var nbb_formatted_code = \"df_sorted_topo_models_grouped = df_sorted_topo_models_cols.groupby(\\\"Model\\\").describe().T\";\n",
       "                var nbb_cells = Jupyter.notebook.get_cells();\n",
       "                for (var i = 0; i < nbb_cells.length; ++i) {\n",
       "                    if (nbb_cells[i].input_prompt_number == nbb_cell_id) {\n",
       "                        if (nbb_cells[i].get_text() == nbb_unformatted_code) {\n",
       "                             nbb_cells[i].set_text(nbb_formatted_code);\n",
       "                        }\n",
       "                        break;\n",
       "                    }\n",
       "                }\n",
       "            }, 500);\n",
       "            "
      ],
      "text/plain": [
       "<IPython.core.display.Javascript object>"
      ]
     },
     "metadata": {},
     "output_type": "display_data"
    }
   ],
   "source": [
    "df_sorted_topo_models_grouped = df_sorted_topo_models_cols.groupby(\"Model\").describe().T"
   ]
  },
  {
   "cell_type": "code",
   "execution_count": 188,
   "id": "de93faba",
   "metadata": {},
   "outputs": [
    {
     "data": {
      "application/javascript": [
       "\n",
       "            setTimeout(function() {\n",
       "                var nbb_cell_id = 188;\n",
       "                var nbb_unformatted_code = \"df_sorted_topo_models_cols = df_sorted_topo[\\n    [\\n        \\\"Model\\\",\\n        \\\"Dominated_Count\\\",\\n        \\\"Dominates_Count\\\",\\n        \\\"Classification\\\",\\n    ]\\n]\";\n",
       "                var nbb_formatted_code = \"df_sorted_topo_models_cols = df_sorted_topo[\\n    [\\n        \\\"Model\\\",\\n        \\\"Dominated_Count\\\",\\n        \\\"Dominates_Count\\\",\\n        \\\"Classification\\\",\\n    ]\\n]\";\n",
       "                var nbb_cells = Jupyter.notebook.get_cells();\n",
       "                for (var i = 0; i < nbb_cells.length; ++i) {\n",
       "                    if (nbb_cells[i].input_prompt_number == nbb_cell_id) {\n",
       "                        if (nbb_cells[i].get_text() == nbb_unformatted_code) {\n",
       "                             nbb_cells[i].set_text(nbb_formatted_code);\n",
       "                        }\n",
       "                        break;\n",
       "                    }\n",
       "                }\n",
       "            }, 500);\n",
       "            "
      ],
      "text/plain": [
       "<IPython.core.display.Javascript object>"
      ]
     },
     "metadata": {},
     "output_type": "display_data"
    }
   ],
   "source": [
    "df_sorted_topo_models_cols = df_sorted_topo[\n",
    "    [\n",
    "        \"Model\",\n",
    "        \"Dominated_Count\",\n",
    "        \"Dominates_Count\",\n",
    "        \"Classification\",\n",
    "    ]\n",
    "]"
   ]
  },
  {
   "cell_type": "code",
   "execution_count": 189,
   "id": "ab3fb2bf",
   "metadata": {},
   "outputs": [
    {
     "data": {
      "text/html": [
       "<div>\n",
       "<style scoped>\n",
       "    .dataframe tbody tr th:only-of-type {\n",
       "        vertical-align: middle;\n",
       "    }\n",
       "\n",
       "    .dataframe tbody tr th {\n",
       "        vertical-align: top;\n",
       "    }\n",
       "\n",
       "    .dataframe thead th {\n",
       "        text-align: right;\n",
       "    }\n",
       "</style>\n",
       "<table border=\"1\" class=\"dataframe\">\n",
       "  <thead>\n",
       "    <tr style=\"text-align: right;\">\n",
       "      <th></th>\n",
       "      <th></th>\n",
       "      <th>proportion</th>\n",
       "    </tr>\n",
       "    <tr>\n",
       "      <th>Model</th>\n",
       "      <th>Classification</th>\n",
       "      <th></th>\n",
       "    </tr>\n",
       "  </thead>\n",
       "  <tbody>\n",
       "    <tr>\n",
       "      <th>Linear Regression</th>\n",
       "      <th>intermediate_model</th>\n",
       "      <td>100.00</td>\n",
       "    </tr>\n",
       "    <tr>\n",
       "      <th rowspan=\"2\" valign=\"top\">Neural Networks</th>\n",
       "      <th>intermediate_model</th>\n",
       "      <td>93.75</td>\n",
       "    </tr>\n",
       "    <tr>\n",
       "      <th>non_dominant_model</th>\n",
       "      <td>6.25</td>\n",
       "    </tr>\n",
       "    <tr>\n",
       "      <th rowspan=\"2\" valign=\"top\">Trees</th>\n",
       "      <th>intermediate_model</th>\n",
       "      <td>66.67</td>\n",
       "    </tr>\n",
       "    <tr>\n",
       "      <th>dominant_model</th>\n",
       "      <td>33.33</td>\n",
       "    </tr>\n",
       "  </tbody>\n",
       "</table>\n",
       "</div>"
      ],
      "text/plain": [
       "                                      proportion\n",
       "Model             Classification                \n",
       "Linear Regression intermediate_model      100.00\n",
       "Neural Networks   intermediate_model       93.75\n",
       "                  non_dominant_model        6.25\n",
       "Trees             intermediate_model       66.67\n",
       "                  dominant_model           33.33"
      ]
     },
     "execution_count": 189,
     "metadata": {},
     "output_type": "execute_result"
    },
    {
     "data": {
      "application/javascript": [
       "\n",
       "            setTimeout(function() {\n",
       "                var nbb_cell_id = 189;\n",
       "                var nbb_unformatted_code = \"(\\n    df_sorted_topo_models_cols.groupby(\\\"Model\\\")[[\\\"Classification\\\"]]\\n    .value_counts(normalize=True)\\n    .to_frame()\\n    * 100\\n).round(2)\";\n",
       "                var nbb_formatted_code = \"(\\n    df_sorted_topo_models_cols.groupby(\\\"Model\\\")[[\\\"Classification\\\"]]\\n    .value_counts(normalize=True)\\n    .to_frame()\\n    * 100\\n).round(2)\";\n",
       "                var nbb_cells = Jupyter.notebook.get_cells();\n",
       "                for (var i = 0; i < nbb_cells.length; ++i) {\n",
       "                    if (nbb_cells[i].input_prompt_number == nbb_cell_id) {\n",
       "                        if (nbb_cells[i].get_text() == nbb_unformatted_code) {\n",
       "                             nbb_cells[i].set_text(nbb_formatted_code);\n",
       "                        }\n",
       "                        break;\n",
       "                    }\n",
       "                }\n",
       "            }, 500);\n",
       "            "
      ],
      "text/plain": [
       "<IPython.core.display.Javascript object>"
      ]
     },
     "metadata": {},
     "output_type": "display_data"
    }
   ],
   "source": [
    "(\n",
    "    df_sorted_topo_models_cols.groupby(\"Model\")[[\"Classification\"]]\n",
    "    .value_counts(normalize=True)\n",
    "    .to_frame()\n",
    "    * 100\n",
    ").round(2)"
   ]
  },
  {
   "cell_type": "code",
   "execution_count": 190,
   "id": "1d4b66e0",
   "metadata": {},
   "outputs": [
    {
     "data": {
      "text/html": [
       "<div>\n",
       "<style scoped>\n",
       "    .dataframe tbody tr th:only-of-type {\n",
       "        vertical-align: middle;\n",
       "    }\n",
       "\n",
       "    .dataframe tbody tr th {\n",
       "        vertical-align: top;\n",
       "    }\n",
       "\n",
       "    .dataframe thead th {\n",
       "        text-align: right;\n",
       "    }\n",
       "</style>\n",
       "<table border=\"1\" class=\"dataframe\">\n",
       "  <thead>\n",
       "    <tr style=\"text-align: right;\">\n",
       "      <th></th>\n",
       "      <th>Model</th>\n",
       "      <th>Linear Regression</th>\n",
       "      <th>Neural Networks</th>\n",
       "      <th>Trees</th>\n",
       "    </tr>\n",
       "  </thead>\n",
       "  <tbody>\n",
       "    <tr>\n",
       "      <th rowspan=\"8\" valign=\"top\">Dominated_Count</th>\n",
       "      <th>count</th>\n",
       "      <td>1.0</td>\n",
       "      <td>16.00</td>\n",
       "      <td>3.00</td>\n",
       "    </tr>\n",
       "    <tr>\n",
       "      <th>mean</th>\n",
       "      <td>13.0</td>\n",
       "      <td>8.81</td>\n",
       "      <td>1.67</td>\n",
       "    </tr>\n",
       "    <tr>\n",
       "      <th>std</th>\n",
       "      <td>NaN</td>\n",
       "      <td>5.83</td>\n",
       "      <td>2.08</td>\n",
       "    </tr>\n",
       "    <tr>\n",
       "      <th>min</th>\n",
       "      <td>13.0</td>\n",
       "      <td>2.00</td>\n",
       "      <td>0.00</td>\n",
       "    </tr>\n",
       "    <tr>\n",
       "      <th>25%</th>\n",
       "      <td>13.0</td>\n",
       "      <td>3.00</td>\n",
       "      <td>0.50</td>\n",
       "    </tr>\n",
       "    <tr>\n",
       "      <th>50%</th>\n",
       "      <td>13.0</td>\n",
       "      <td>8.00</td>\n",
       "      <td>1.00</td>\n",
       "    </tr>\n",
       "    <tr>\n",
       "      <th>75%</th>\n",
       "      <td>13.0</td>\n",
       "      <td>12.50</td>\n",
       "      <td>2.50</td>\n",
       "    </tr>\n",
       "    <tr>\n",
       "      <th>max</th>\n",
       "      <td>13.0</td>\n",
       "      <td>19.00</td>\n",
       "      <td>4.00</td>\n",
       "    </tr>\n",
       "    <tr>\n",
       "      <th rowspan=\"8\" valign=\"top\">Dominates_Count</th>\n",
       "      <th>count</th>\n",
       "      <td>1.0</td>\n",
       "      <td>16.00</td>\n",
       "      <td>3.00</td>\n",
       "    </tr>\n",
       "    <tr>\n",
       "      <th>mean</th>\n",
       "      <td>3.0</td>\n",
       "      <td>6.88</td>\n",
       "      <td>15.33</td>\n",
       "    </tr>\n",
       "    <tr>\n",
       "      <th>std</th>\n",
       "      <td>NaN</td>\n",
       "      <td>4.76</td>\n",
       "      <td>5.51</td>\n",
       "    </tr>\n",
       "    <tr>\n",
       "      <th>min</th>\n",
       "      <td>3.0</td>\n",
       "      <td>0.00</td>\n",
       "      <td>9.00</td>\n",
       "    </tr>\n",
       "    <tr>\n",
       "      <th>25%</th>\n",
       "      <td>3.0</td>\n",
       "      <td>3.75</td>\n",
       "      <td>13.50</td>\n",
       "    </tr>\n",
       "    <tr>\n",
       "      <th>50%</th>\n",
       "      <td>3.0</td>\n",
       "      <td>7.50</td>\n",
       "      <td>18.00</td>\n",
       "    </tr>\n",
       "    <tr>\n",
       "      <th>75%</th>\n",
       "      <td>3.0</td>\n",
       "      <td>10.00</td>\n",
       "      <td>18.50</td>\n",
       "    </tr>\n",
       "    <tr>\n",
       "      <th>max</th>\n",
       "      <td>3.0</td>\n",
       "      <td>17.00</td>\n",
       "      <td>19.00</td>\n",
       "    </tr>\n",
       "  </tbody>\n",
       "</table>\n",
       "</div>"
      ],
      "text/plain": [
       "Model                  Linear Regression  Neural Networks  Trees\n",
       "Dominated_Count count                1.0            16.00   3.00\n",
       "                mean                13.0             8.81   1.67\n",
       "                std                  NaN             5.83   2.08\n",
       "                min                 13.0             2.00   0.00\n",
       "                25%                 13.0             3.00   0.50\n",
       "                50%                 13.0             8.00   1.00\n",
       "                75%                 13.0            12.50   2.50\n",
       "                max                 13.0            19.00   4.00\n",
       "Dominates_Count count                1.0            16.00   3.00\n",
       "                mean                 3.0             6.88  15.33\n",
       "                std                  NaN             4.76   5.51\n",
       "                min                  3.0             0.00   9.00\n",
       "                25%                  3.0             3.75  13.50\n",
       "                50%                  3.0             7.50  18.00\n",
       "                75%                  3.0            10.00  18.50\n",
       "                max                  3.0            17.00  19.00"
      ]
     },
     "execution_count": 190,
     "metadata": {},
     "output_type": "execute_result"
    },
    {
     "data": {
      "application/javascript": [
       "\n",
       "            setTimeout(function() {\n",
       "                var nbb_cell_id = 190;\n",
       "                var nbb_unformatted_code = \"df_sorted_topo_models_cols.groupby(\\\"Model\\\").describe().round(2).T\";\n",
       "                var nbb_formatted_code = \"df_sorted_topo_models_cols.groupby(\\\"Model\\\").describe().round(2).T\";\n",
       "                var nbb_cells = Jupyter.notebook.get_cells();\n",
       "                for (var i = 0; i < nbb_cells.length; ++i) {\n",
       "                    if (nbb_cells[i].input_prompt_number == nbb_cell_id) {\n",
       "                        if (nbb_cells[i].get_text() == nbb_unformatted_code) {\n",
       "                             nbb_cells[i].set_text(nbb_formatted_code);\n",
       "                        }\n",
       "                        break;\n",
       "                    }\n",
       "                }\n",
       "            }, 500);\n",
       "            "
      ],
      "text/plain": [
       "<IPython.core.display.Javascript object>"
      ]
     },
     "metadata": {},
     "output_type": "display_data"
    }
   ],
   "source": [
    "df_sorted_topo_models_cols.groupby(\"Model\").describe().round(2).T"
   ]
  },
  {
   "cell_type": "code",
   "execution_count": 191,
   "id": "cd394273",
   "metadata": {},
   "outputs": [
    {
     "data": {
      "application/javascript": [
       "\n",
       "            setTimeout(function() {\n",
       "                var nbb_cell_id = 191;\n",
       "                var nbb_unformatted_code = \"# df_sorted_topo_models_cols\";\n",
       "                var nbb_formatted_code = \"# df_sorted_topo_models_cols\";\n",
       "                var nbb_cells = Jupyter.notebook.get_cells();\n",
       "                for (var i = 0; i < nbb_cells.length; ++i) {\n",
       "                    if (nbb_cells[i].input_prompt_number == nbb_cell_id) {\n",
       "                        if (nbb_cells[i].get_text() == nbb_unformatted_code) {\n",
       "                             nbb_cells[i].set_text(nbb_formatted_code);\n",
       "                        }\n",
       "                        break;\n",
       "                    }\n",
       "                }\n",
       "            }, 500);\n",
       "            "
      ],
      "text/plain": [
       "<IPython.core.display.Javascript object>"
      ]
     },
     "metadata": {},
     "output_type": "display_data"
    }
   ],
   "source": [
    "# df_sorted_topo_models_cols"
   ]
  },
  {
   "cell_type": "code",
   "execution_count": 192,
   "id": "81829e73",
   "metadata": {},
   "outputs": [
    {
     "data": {
      "text/html": [
       "<div>\n",
       "<style scoped>\n",
       "    .dataframe tbody tr th:only-of-type {\n",
       "        vertical-align: middle;\n",
       "    }\n",
       "\n",
       "    .dataframe tbody tr th {\n",
       "        vertical-align: top;\n",
       "    }\n",
       "\n",
       "    .dataframe thead th {\n",
       "        text-align: right;\n",
       "    }\n",
       "</style>\n",
       "<table border=\"1\" class=\"dataframe\">\n",
       "  <thead>\n",
       "    <tr style=\"text-align: right;\">\n",
       "      <th></th>\n",
       "      <th>count</th>\n",
       "      <th>unique</th>\n",
       "      <th>top</th>\n",
       "      <th>freq</th>\n",
       "    </tr>\n",
       "    <tr>\n",
       "      <th>Model</th>\n",
       "      <th></th>\n",
       "      <th></th>\n",
       "      <th></th>\n",
       "      <th></th>\n",
       "    </tr>\n",
       "  </thead>\n",
       "  <tbody>\n",
       "    <tr>\n",
       "      <th>Linear Regression</th>\n",
       "      <td>1</td>\n",
       "      <td>1</td>\n",
       "      <td>intermediate_model</td>\n",
       "      <td>1</td>\n",
       "    </tr>\n",
       "    <tr>\n",
       "      <th>Neural Networks</th>\n",
       "      <td>16</td>\n",
       "      <td>2</td>\n",
       "      <td>intermediate_model</td>\n",
       "      <td>15</td>\n",
       "    </tr>\n",
       "    <tr>\n",
       "      <th>Trees</th>\n",
       "      <td>3</td>\n",
       "      <td>2</td>\n",
       "      <td>intermediate_model</td>\n",
       "      <td>2</td>\n",
       "    </tr>\n",
       "  </tbody>\n",
       "</table>\n",
       "</div>"
      ],
      "text/plain": [
       "                  count unique                 top freq\n",
       "Model                                                  \n",
       "Linear Regression     1      1  intermediate_model    1\n",
       "Neural Networks      16      2  intermediate_model   15\n",
       "Trees                 3      2  intermediate_model    2"
      ]
     },
     "execution_count": 192,
     "metadata": {},
     "output_type": "execute_result"
    },
    {
     "data": {
      "application/javascript": [
       "\n",
       "            setTimeout(function() {\n",
       "                var nbb_cell_id = 192;\n",
       "                var nbb_unformatted_code = \"df_sorted_topo_models_cols.groupby(\\\"Model\\\")[\\\"Classification\\\"].describe()\";\n",
       "                var nbb_formatted_code = \"df_sorted_topo_models_cols.groupby(\\\"Model\\\")[\\\"Classification\\\"].describe()\";\n",
       "                var nbb_cells = Jupyter.notebook.get_cells();\n",
       "                for (var i = 0; i < nbb_cells.length; ++i) {\n",
       "                    if (nbb_cells[i].input_prompt_number == nbb_cell_id) {\n",
       "                        if (nbb_cells[i].get_text() == nbb_unformatted_code) {\n",
       "                             nbb_cells[i].set_text(nbb_formatted_code);\n",
       "                        }\n",
       "                        break;\n",
       "                    }\n",
       "                }\n",
       "            }, 500);\n",
       "            "
      ],
      "text/plain": [
       "<IPython.core.display.Javascript object>"
      ]
     },
     "metadata": {},
     "output_type": "display_data"
    }
   ],
   "source": [
    "df_sorted_topo_models_cols.groupby(\"Model\")[\"Classification\"].describe()"
   ]
  },
  {
   "cell_type": "code",
   "execution_count": 193,
   "id": "8bb8dcee",
   "metadata": {
    "scrolled": true
   },
   "outputs": [
    {
     "data": {
      "text/plain": [
       "Model              Classification    \n",
       "Linear Regression  intermediate_model     1\n",
       "Neural Networks    intermediate_model    15\n",
       "                   non_dominant_model     1\n",
       "Trees              intermediate_model     2\n",
       "                   dominant_model         1\n",
       "Name: count, dtype: int64"
      ]
     },
     "execution_count": 193,
     "metadata": {},
     "output_type": "execute_result"
    },
    {
     "data": {
      "application/javascript": [
       "\n",
       "            setTimeout(function() {\n",
       "                var nbb_cell_id = 193;\n",
       "                var nbb_unformatted_code = \"df_sorted_topo_models_cols.groupby(\\\"Model\\\")[[\\\"Classification\\\"]].value_counts()\";\n",
       "                var nbb_formatted_code = \"df_sorted_topo_models_cols.groupby(\\\"Model\\\")[[\\\"Classification\\\"]].value_counts()\";\n",
       "                var nbb_cells = Jupyter.notebook.get_cells();\n",
       "                for (var i = 0; i < nbb_cells.length; ++i) {\n",
       "                    if (nbb_cells[i].input_prompt_number == nbb_cell_id) {\n",
       "                        if (nbb_cells[i].get_text() == nbb_unformatted_code) {\n",
       "                             nbb_cells[i].set_text(nbb_formatted_code);\n",
       "                        }\n",
       "                        break;\n",
       "                    }\n",
       "                }\n",
       "            }, 500);\n",
       "            "
      ],
      "text/plain": [
       "<IPython.core.display.Javascript object>"
      ]
     },
     "metadata": {},
     "output_type": "display_data"
    }
   ],
   "source": [
    "df_sorted_topo_models_cols.groupby(\"Model\")[[\"Classification\"]].value_counts()"
   ]
  },
  {
   "cell_type": "code",
   "execution_count": 194,
   "id": "9c678b45",
   "metadata": {},
   "outputs": [
    {
     "data": {
      "application/javascript": [
       "\n",
       "            setTimeout(function() {\n",
       "                var nbb_cell_id = 194;\n",
       "                var nbb_unformatted_code = \"summary_stats = df_sorted_topo_models_cols.groupby(\\\"Model\\\").agg(\\n    Total_Models=(\\\"Model\\\", \\\"count\\\"),\\n    Mean_Dominance_Count=(\\\"Dominates_Count\\\", \\\"mean\\\"),\\n    Median_Dominance_Count=(\\\"Dominates_Count\\\", \\\"median\\\"),\\n    Total_Dominated=(\\\"Dominated_Count\\\", \\\"sum\\\"),\\n    Total_Dominating=(\\\"Dominates_Count\\\", \\\"sum\\\"),\\n)\\n\\ntotal_models = summary_stats[\\n    \\\"Total_Models\\\"\\n].sum()  # Get the total number of models across all categories\\nsummary_stats[\\\"Dominance Proportion\\\"] = summary_stats[\\\"Total_Dominating\\\"] / total_models\";\n",
       "                var nbb_formatted_code = \"summary_stats = df_sorted_topo_models_cols.groupby(\\\"Model\\\").agg(\\n    Total_Models=(\\\"Model\\\", \\\"count\\\"),\\n    Mean_Dominance_Count=(\\\"Dominates_Count\\\", \\\"mean\\\"),\\n    Median_Dominance_Count=(\\\"Dominates_Count\\\", \\\"median\\\"),\\n    Total_Dominated=(\\\"Dominated_Count\\\", \\\"sum\\\"),\\n    Total_Dominating=(\\\"Dominates_Count\\\", \\\"sum\\\"),\\n)\\n\\ntotal_models = summary_stats[\\n    \\\"Total_Models\\\"\\n].sum()  # Get the total number of models across all categories\\nsummary_stats[\\\"Dominance Proportion\\\"] = summary_stats[\\\"Total_Dominating\\\"] / total_models\";\n",
       "                var nbb_cells = Jupyter.notebook.get_cells();\n",
       "                for (var i = 0; i < nbb_cells.length; ++i) {\n",
       "                    if (nbb_cells[i].input_prompt_number == nbb_cell_id) {\n",
       "                        if (nbb_cells[i].get_text() == nbb_unformatted_code) {\n",
       "                             nbb_cells[i].set_text(nbb_formatted_code);\n",
       "                        }\n",
       "                        break;\n",
       "                    }\n",
       "                }\n",
       "            }, 500);\n",
       "            "
      ],
      "text/plain": [
       "<IPython.core.display.Javascript object>"
      ]
     },
     "metadata": {},
     "output_type": "display_data"
    }
   ],
   "source": [
    "summary_stats = df_sorted_topo_models_cols.groupby(\"Model\").agg(\n",
    "    Total_Models=(\"Model\", \"count\"),\n",
    "    Mean_Dominance_Count=(\"Dominates_Count\", \"mean\"),\n",
    "    Median_Dominance_Count=(\"Dominates_Count\", \"median\"),\n",
    "    Total_Dominated=(\"Dominated_Count\", \"sum\"),\n",
    "    Total_Dominating=(\"Dominates_Count\", \"sum\"),\n",
    ")\n",
    "\n",
    "total_models = summary_stats[\n",
    "    \"Total_Models\"\n",
    "].sum()  # Get the total number of models across all categories\n",
    "summary_stats[\"Dominance Proportion\"] = summary_stats[\"Total_Dominating\"] / total_models"
   ]
  },
  {
   "cell_type": "code",
   "execution_count": 195,
   "id": "c6ff7aaa",
   "metadata": {},
   "outputs": [
    {
     "data": {
      "text/html": [
       "<div>\n",
       "<style scoped>\n",
       "    .dataframe tbody tr th:only-of-type {\n",
       "        vertical-align: middle;\n",
       "    }\n",
       "\n",
       "    .dataframe tbody tr th {\n",
       "        vertical-align: top;\n",
       "    }\n",
       "\n",
       "    .dataframe thead th {\n",
       "        text-align: right;\n",
       "    }\n",
       "</style>\n",
       "<table border=\"1\" class=\"dataframe\">\n",
       "  <thead>\n",
       "    <tr style=\"text-align: right;\">\n",
       "      <th></th>\n",
       "      <th>Total_Models</th>\n",
       "      <th>Mean_Dominance_Count</th>\n",
       "      <th>Median_Dominance_Count</th>\n",
       "      <th>Total_Dominated</th>\n",
       "      <th>Total_Dominating</th>\n",
       "      <th>Dominance Proportion</th>\n",
       "    </tr>\n",
       "    <tr>\n",
       "      <th>Model</th>\n",
       "      <th></th>\n",
       "      <th></th>\n",
       "      <th></th>\n",
       "      <th></th>\n",
       "      <th></th>\n",
       "      <th></th>\n",
       "    </tr>\n",
       "  </thead>\n",
       "  <tbody>\n",
       "    <tr>\n",
       "      <th>Linear Regression</th>\n",
       "      <td>1</td>\n",
       "      <td>3.00</td>\n",
       "      <td>3.0</td>\n",
       "      <td>13</td>\n",
       "      <td>3</td>\n",
       "      <td>0.15</td>\n",
       "    </tr>\n",
       "    <tr>\n",
       "      <th>Neural Networks</th>\n",
       "      <td>16</td>\n",
       "      <td>6.88</td>\n",
       "      <td>7.5</td>\n",
       "      <td>141</td>\n",
       "      <td>110</td>\n",
       "      <td>5.50</td>\n",
       "    </tr>\n",
       "    <tr>\n",
       "      <th>Trees</th>\n",
       "      <td>3</td>\n",
       "      <td>15.33</td>\n",
       "      <td>18.0</td>\n",
       "      <td>5</td>\n",
       "      <td>46</td>\n",
       "      <td>2.30</td>\n",
       "    </tr>\n",
       "  </tbody>\n",
       "</table>\n",
       "</div>"
      ],
      "text/plain": [
       "                   Total_Models  Mean_Dominance_Count  Median_Dominance_Count  \\\n",
       "Model                                                                           \n",
       "Linear Regression             1                  3.00                     3.0   \n",
       "Neural Networks              16                  6.88                     7.5   \n",
       "Trees                         3                 15.33                    18.0   \n",
       "\n",
       "                   Total_Dominated  Total_Dominating  Dominance Proportion  \n",
       "Model                                                                       \n",
       "Linear Regression               13                 3                  0.15  \n",
       "Neural Networks                141               110                  5.50  \n",
       "Trees                            5                46                  2.30  "
      ]
     },
     "execution_count": 195,
     "metadata": {},
     "output_type": "execute_result"
    },
    {
     "data": {
      "application/javascript": [
       "\n",
       "            setTimeout(function() {\n",
       "                var nbb_cell_id = 195;\n",
       "                var nbb_unformatted_code = \"summary_stats.round(2)\";\n",
       "                var nbb_formatted_code = \"summary_stats.round(2)\";\n",
       "                var nbb_cells = Jupyter.notebook.get_cells();\n",
       "                for (var i = 0; i < nbb_cells.length; ++i) {\n",
       "                    if (nbb_cells[i].input_prompt_number == nbb_cell_id) {\n",
       "                        if (nbb_cells[i].get_text() == nbb_unformatted_code) {\n",
       "                             nbb_cells[i].set_text(nbb_formatted_code);\n",
       "                        }\n",
       "                        break;\n",
       "                    }\n",
       "                }\n",
       "            }, 500);\n",
       "            "
      ],
      "text/plain": [
       "<IPython.core.display.Javascript object>"
      ]
     },
     "metadata": {},
     "output_type": "display_data"
    }
   ],
   "source": [
    "summary_stats.round(2)"
   ]
  },
  {
   "cell_type": "code",
   "execution_count": 196,
   "id": "cea6aa6e",
   "metadata": {},
   "outputs": [
    {
     "data": {
      "text/html": [
       "<div>\n",
       "<style scoped>\n",
       "    .dataframe tbody tr th:only-of-type {\n",
       "        vertical-align: middle;\n",
       "    }\n",
       "\n",
       "    .dataframe tbody tr th {\n",
       "        vertical-align: top;\n",
       "    }\n",
       "\n",
       "    .dataframe thead tr th {\n",
       "        text-align: left;\n",
       "    }\n",
       "\n",
       "    .dataframe thead tr:last-of-type th {\n",
       "        text-align: right;\n",
       "    }\n",
       "</style>\n",
       "<table border=\"1\" class=\"dataframe\">\n",
       "  <thead>\n",
       "    <tr>\n",
       "      <th></th>\n",
       "      <th colspan=\"8\" halign=\"left\">RMSE_mean</th>\n",
       "      <th colspan=\"2\" halign=\"left\">MAE_mean</th>\n",
       "      <th>...</th>\n",
       "      <th colspan=\"2\" halign=\"left\">Dominated_Count</th>\n",
       "      <th colspan=\"8\" halign=\"left\">Dominates_Count</th>\n",
       "    </tr>\n",
       "    <tr>\n",
       "      <th></th>\n",
       "      <th>count</th>\n",
       "      <th>mean</th>\n",
       "      <th>std</th>\n",
       "      <th>min</th>\n",
       "      <th>25%</th>\n",
       "      <th>50%</th>\n",
       "      <th>75%</th>\n",
       "      <th>max</th>\n",
       "      <th>count</th>\n",
       "      <th>mean</th>\n",
       "      <th>...</th>\n",
       "      <th>75%</th>\n",
       "      <th>max</th>\n",
       "      <th>count</th>\n",
       "      <th>mean</th>\n",
       "      <th>std</th>\n",
       "      <th>min</th>\n",
       "      <th>25%</th>\n",
       "      <th>50%</th>\n",
       "      <th>75%</th>\n",
       "      <th>max</th>\n",
       "    </tr>\n",
       "    <tr>\n",
       "      <th>Model</th>\n",
       "      <th></th>\n",
       "      <th></th>\n",
       "      <th></th>\n",
       "      <th></th>\n",
       "      <th></th>\n",
       "      <th></th>\n",
       "      <th></th>\n",
       "      <th></th>\n",
       "      <th></th>\n",
       "      <th></th>\n",
       "      <th></th>\n",
       "      <th></th>\n",
       "      <th></th>\n",
       "      <th></th>\n",
       "      <th></th>\n",
       "      <th></th>\n",
       "      <th></th>\n",
       "      <th></th>\n",
       "      <th></th>\n",
       "      <th></th>\n",
       "      <th></th>\n",
       "    </tr>\n",
       "  </thead>\n",
       "  <tbody>\n",
       "    <tr>\n",
       "      <th>Linear Regression</th>\n",
       "      <td>1.0</td>\n",
       "      <td>2.886565</td>\n",
       "      <td>NaN</td>\n",
       "      <td>2.886565</td>\n",
       "      <td>2.886565</td>\n",
       "      <td>2.886565</td>\n",
       "      <td>2.886565</td>\n",
       "      <td>2.886565</td>\n",
       "      <td>1.0</td>\n",
       "      <td>2.056180</td>\n",
       "      <td>...</td>\n",
       "      <td>13.0</td>\n",
       "      <td>13.0</td>\n",
       "      <td>1.0</td>\n",
       "      <td>3.000000</td>\n",
       "      <td>NaN</td>\n",
       "      <td>3.0</td>\n",
       "      <td>3.00</td>\n",
       "      <td>3.0</td>\n",
       "      <td>3.0</td>\n",
       "      <td>3.0</td>\n",
       "    </tr>\n",
       "    <tr>\n",
       "      <th>Neural Networks</th>\n",
       "      <td>16.0</td>\n",
       "      <td>5.040634</td>\n",
       "      <td>6.170265</td>\n",
       "      <td>1.280703</td>\n",
       "      <td>1.926118</td>\n",
       "      <td>2.297137</td>\n",
       "      <td>4.625864</td>\n",
       "      <td>24.648956</td>\n",
       "      <td>16.0</td>\n",
       "      <td>1.725927</td>\n",
       "      <td>...</td>\n",
       "      <td>12.5</td>\n",
       "      <td>19.0</td>\n",
       "      <td>16.0</td>\n",
       "      <td>6.875000</td>\n",
       "      <td>4.759202</td>\n",
       "      <td>0.0</td>\n",
       "      <td>3.75</td>\n",
       "      <td>7.5</td>\n",
       "      <td>10.0</td>\n",
       "      <td>17.0</td>\n",
       "    </tr>\n",
       "    <tr>\n",
       "      <th>Trees</th>\n",
       "      <td>3.0</td>\n",
       "      <td>1.157037</td>\n",
       "      <td>0.311297</td>\n",
       "      <td>0.961127</td>\n",
       "      <td>0.977561</td>\n",
       "      <td>0.993994</td>\n",
       "      <td>1.254992</td>\n",
       "      <td>1.515990</td>\n",
       "      <td>3.0</td>\n",
       "      <td>0.897590</td>\n",
       "      <td>...</td>\n",
       "      <td>2.5</td>\n",
       "      <td>4.0</td>\n",
       "      <td>3.0</td>\n",
       "      <td>15.333333</td>\n",
       "      <td>5.507571</td>\n",
       "      <td>9.0</td>\n",
       "      <td>13.50</td>\n",
       "      <td>18.0</td>\n",
       "      <td>18.5</td>\n",
       "      <td>19.0</td>\n",
       "    </tr>\n",
       "  </tbody>\n",
       "</table>\n",
       "<p>3 rows × 56 columns</p>\n",
       "</div>"
      ],
      "text/plain": [
       "                  RMSE_mean                                                    \\\n",
       "                      count      mean       std       min       25%       50%   \n",
       "Model                                                                           \n",
       "Linear Regression       1.0  2.886565       NaN  2.886565  2.886565  2.886565   \n",
       "Neural Networks        16.0  5.040634  6.170265  1.280703  1.926118  2.297137   \n",
       "Trees                   3.0  1.157037  0.311297  0.961127  0.977561  0.993994   \n",
       "\n",
       "                                       MAE_mean            ...  \\\n",
       "                        75%        max    count      mean  ...   \n",
       "Model                                                      ...   \n",
       "Linear Regression  2.886565   2.886565      1.0  2.056180  ...   \n",
       "Neural Networks    4.625864  24.648956     16.0  1.725927  ...   \n",
       "Trees              1.254992   1.515990      3.0  0.897590  ...   \n",
       "\n",
       "                  Dominated_Count       Dominates_Count                       \\\n",
       "                              75%   max           count       mean       std   \n",
       "Model                                                                          \n",
       "Linear Regression            13.0  13.0             1.0   3.000000       NaN   \n",
       "Neural Networks              12.5  19.0            16.0   6.875000  4.759202   \n",
       "Trees                         2.5   4.0             3.0  15.333333  5.507571   \n",
       "\n",
       "                                                 \n",
       "                   min    25%   50%   75%   max  \n",
       "Model                                            \n",
       "Linear Regression  3.0   3.00   3.0   3.0   3.0  \n",
       "Neural Networks    0.0   3.75   7.5  10.0  17.0  \n",
       "Trees              9.0  13.50  18.0  18.5  19.0  \n",
       "\n",
       "[3 rows x 56 columns]"
      ]
     },
     "execution_count": 196,
     "metadata": {},
     "output_type": "execute_result"
    },
    {
     "data": {
      "application/javascript": [
       "\n",
       "            setTimeout(function() {\n",
       "                var nbb_cell_id = 196;\n",
       "                var nbb_unformatted_code = \"df_sorted_topo_models_grouped.T\";\n",
       "                var nbb_formatted_code = \"df_sorted_topo_models_grouped.T\";\n",
       "                var nbb_cells = Jupyter.notebook.get_cells();\n",
       "                for (var i = 0; i < nbb_cells.length; ++i) {\n",
       "                    if (nbb_cells[i].input_prompt_number == nbb_cell_id) {\n",
       "                        if (nbb_cells[i].get_text() == nbb_unformatted_code) {\n",
       "                             nbb_cells[i].set_text(nbb_formatted_code);\n",
       "                        }\n",
       "                        break;\n",
       "                    }\n",
       "                }\n",
       "            }, 500);\n",
       "            "
      ],
      "text/plain": [
       "<IPython.core.display.Javascript object>"
      ]
     },
     "metadata": {},
     "output_type": "display_data"
    }
   ],
   "source": [
    "df_sorted_topo_models_grouped.T"
   ]
  },
  {
   "cell_type": "markdown",
   "id": "e1473c62",
   "metadata": {},
   "source": [
    "### SCPM Analysis"
   ]
  },
  {
   "cell_type": "code",
   "execution_count": 197,
   "id": "7b54a701",
   "metadata": {},
   "outputs": [
    {
     "data": {
      "application/javascript": [
       "\n",
       "            setTimeout(function() {\n",
       "                var nbb_cell_id = 197;\n",
       "                var nbb_unformatted_code = \"cols = [\\n    # \\\"Model\\\",\\n    # \\\"Model_bkp\\\",\\n    \\\"Model_bkp_2\\\",\\n    \\\"RMSE_mean\\\",\\n    \\\"MAE_mean\\\",\\n    \\\"MAPE_mean\\\",\\n    \\\"R2_mean\\\",\\n    \\\"SCPM\\\",\\n    \\\"Dominated_Count\\\",\\n    \\\"Dominates_Count\\\",\\n    \\\"Classification\\\",\\n    \\\"Plant\\\",\\n]\";\n",
       "                var nbb_formatted_code = \"cols = [\\n    # \\\"Model\\\",\\n    # \\\"Model_bkp\\\",\\n    \\\"Model_bkp_2\\\",\\n    \\\"RMSE_mean\\\",\\n    \\\"MAE_mean\\\",\\n    \\\"MAPE_mean\\\",\\n    \\\"R2_mean\\\",\\n    \\\"SCPM\\\",\\n    \\\"Dominated_Count\\\",\\n    \\\"Dominates_Count\\\",\\n    \\\"Classification\\\",\\n    \\\"Plant\\\",\\n]\";\n",
       "                var nbb_cells = Jupyter.notebook.get_cells();\n",
       "                for (var i = 0; i < nbb_cells.length; ++i) {\n",
       "                    if (nbb_cells[i].input_prompt_number == nbb_cell_id) {\n",
       "                        if (nbb_cells[i].get_text() == nbb_unformatted_code) {\n",
       "                             nbb_cells[i].set_text(nbb_formatted_code);\n",
       "                        }\n",
       "                        break;\n",
       "                    }\n",
       "                }\n",
       "            }, 500);\n",
       "            "
      ],
      "text/plain": [
       "<IPython.core.display.Javascript object>"
      ]
     },
     "metadata": {},
     "output_type": "display_data"
    }
   ],
   "source": [
    "cols = [\n",
    "    # \"Model\",\n",
    "    # \"Model_bkp\",\n",
    "    \"Model_bkp_2\",\n",
    "    \"RMSE_mean\",\n",
    "    \"MAE_mean\",\n",
    "    \"MAPE_mean\",\n",
    "    \"R2_mean\",\n",
    "    \"SCPM\",\n",
    "    \"Dominated_Count\",\n",
    "    \"Dominates_Count\",\n",
    "    \"Classification\",\n",
    "    \"Plant\",\n",
    "]"
   ]
  },
  {
   "cell_type": "markdown",
   "id": "0b8ae632",
   "metadata": {},
   "source": [
    "#### SCPM Analysis by Project"
   ]
  },
  {
   "cell_type": "code",
   "execution_count": 198,
   "id": "50021319",
   "metadata": {},
   "outputs": [
    {
     "data": {
      "application/javascript": [
       "\n",
       "            setTimeout(function() {\n",
       "                var nbb_cell_id = 198;\n",
       "                var nbb_unformatted_code = \"df_sorted_scpm = df_sorted_topo.sort_values(by=\\\"SCPM\\\").copy()\";\n",
       "                var nbb_formatted_code = \"df_sorted_scpm = df_sorted_topo.sort_values(by=\\\"SCPM\\\").copy()\";\n",
       "                var nbb_cells = Jupyter.notebook.get_cells();\n",
       "                for (var i = 0; i < nbb_cells.length; ++i) {\n",
       "                    if (nbb_cells[i].input_prompt_number == nbb_cell_id) {\n",
       "                        if (nbb_cells[i].get_text() == nbb_unformatted_code) {\n",
       "                             nbb_cells[i].set_text(nbb_formatted_code);\n",
       "                        }\n",
       "                        break;\n",
       "                    }\n",
       "                }\n",
       "            }, 500);\n",
       "            "
      ],
      "text/plain": [
       "<IPython.core.display.Javascript object>"
      ]
     },
     "metadata": {},
     "output_type": "display_data"
    }
   ],
   "source": [
    "df_sorted_scpm = df_sorted_topo.sort_values(by=\"SCPM\").copy()"
   ]
  },
  {
   "cell_type": "code",
   "execution_count": 199,
   "id": "b4da4c7d",
   "metadata": {
    "scrolled": false
   },
   "outputs": [
    {
     "data": {
      "application/javascript": [
       "\n",
       "            setTimeout(function() {\n",
       "                var nbb_cell_id = 199;\n",
       "                var nbb_unformatted_code = \"# (df_sorted_topo[cols].reset_index() == df_sorted_scpm[cols].reset_index()).all(axis=1)\\ndf_sorted_scpm[\\\"topo_scmp_order_eq\\\"] = df_sorted_topo.index == df_sorted_scpm.index\";\n",
       "                var nbb_formatted_code = \"# (df_sorted_topo[cols].reset_index() == df_sorted_scpm[cols].reset_index()).all(axis=1)\\ndf_sorted_scpm[\\\"topo_scmp_order_eq\\\"] = df_sorted_topo.index == df_sorted_scpm.index\";\n",
       "                var nbb_cells = Jupyter.notebook.get_cells();\n",
       "                for (var i = 0; i < nbb_cells.length; ++i) {\n",
       "                    if (nbb_cells[i].input_prompt_number == nbb_cell_id) {\n",
       "                        if (nbb_cells[i].get_text() == nbb_unformatted_code) {\n",
       "                             nbb_cells[i].set_text(nbb_formatted_code);\n",
       "                        }\n",
       "                        break;\n",
       "                    }\n",
       "                }\n",
       "            }, 500);\n",
       "            "
      ],
      "text/plain": [
       "<IPython.core.display.Javascript object>"
      ]
     },
     "metadata": {},
     "output_type": "display_data"
    }
   ],
   "source": [
    "# (df_sorted_topo[cols].reset_index() == df_sorted_scpm[cols].reset_index()).all(axis=1)\n",
    "df_sorted_scpm[\"topo_scmp_order_eq\"] = df_sorted_topo.index == df_sorted_scpm.index"
   ]
  },
  {
   "cell_type": "code",
   "execution_count": 200,
   "id": "c1d1c84b",
   "metadata": {
    "scrolled": false
   },
   "outputs": [
    {
     "data": {
      "text/html": [
       "<div>\n",
       "<style scoped>\n",
       "    .dataframe tbody tr th:only-of-type {\n",
       "        vertical-align: middle;\n",
       "    }\n",
       "\n",
       "    .dataframe tbody tr th {\n",
       "        vertical-align: top;\n",
       "    }\n",
       "\n",
       "    .dataframe thead th {\n",
       "        text-align: right;\n",
       "    }\n",
       "</style>\n",
       "<table border=\"1\" class=\"dataframe\">\n",
       "  <thead>\n",
       "    <tr style=\"text-align: right;\">\n",
       "      <th></th>\n",
       "      <th>Model_bkp_2</th>\n",
       "      <th>RMSE_mean</th>\n",
       "      <th>MAE_mean</th>\n",
       "      <th>MAPE_mean</th>\n",
       "      <th>R2_mean</th>\n",
       "      <th>SCPM</th>\n",
       "      <th>Dominated_Count</th>\n",
       "      <th>Dominates_Count</th>\n",
       "      <th>Classification</th>\n",
       "      <th>Plant</th>\n",
       "      <th>topo_scmp_order_eq</th>\n",
       "    </tr>\n",
       "  </thead>\n",
       "  <tbody>\n",
       "    <tr>\n",
       "      <th>18</th>\n",
       "      <td>Random Forest</td>\n",
       "      <td>0.96</td>\n",
       "      <td>0.74</td>\n",
       "      <td>1.79</td>\n",
       "      <td>0.97</td>\n",
       "      <td>-2.79</td>\n",
       "      <td>0</td>\n",
       "      <td>19</td>\n",
       "      <td>dominant_model</td>\n",
       "      <td>c</td>\n",
       "      <td>True</td>\n",
       "    </tr>\n",
       "    <tr>\n",
       "      <th>15</th>\n",
       "      <td>Decision Tree</td>\n",
       "      <td>0.99</td>\n",
       "      <td>0.84</td>\n",
       "      <td>2.00</td>\n",
       "      <td>0.97</td>\n",
       "      <td>-2.58</td>\n",
       "      <td>1</td>\n",
       "      <td>18</td>\n",
       "      <td>intermediate_model</td>\n",
       "      <td>c</td>\n",
       "      <td>True</td>\n",
       "    </tr>\n",
       "    <tr>\n",
       "      <th>4</th>\n",
       "      <td>Transformer_1.0</td>\n",
       "      <td>1.28</td>\n",
       "      <td>0.98</td>\n",
       "      <td>2.38</td>\n",
       "      <td>0.95</td>\n",
       "      <td>-2.19</td>\n",
       "      <td>2</td>\n",
       "      <td>17</td>\n",
       "      <td>intermediate_model</td>\n",
       "      <td>c</td>\n",
       "      <td>True</td>\n",
       "    </tr>\n",
       "    <tr>\n",
       "      <th>9</th>\n",
       "      <td>Transformer_7.0</td>\n",
       "      <td>1.34</td>\n",
       "      <td>1.05</td>\n",
       "      <td>2.60</td>\n",
       "      <td>0.95</td>\n",
       "      <td>-2.00</td>\n",
       "      <td>3</td>\n",
       "      <td>13</td>\n",
       "      <td>intermediate_model</td>\n",
       "      <td>c</td>\n",
       "      <td>False</td>\n",
       "    </tr>\n",
       "    <tr>\n",
       "      <th>2</th>\n",
       "      <td>GRU_1.0</td>\n",
       "      <td>2.03</td>\n",
       "      <td>1.10</td>\n",
       "      <td>2.53</td>\n",
       "      <td>0.88</td>\n",
       "      <td>-1.85</td>\n",
       "      <td>3</td>\n",
       "      <td>9</td>\n",
       "      <td>intermediate_model</td>\n",
       "      <td>c</td>\n",
       "      <td>True</td>\n",
       "    </tr>\n",
       "  </tbody>\n",
       "</table>\n",
       "</div>"
      ],
      "text/plain": [
       "        Model_bkp_2  RMSE_mean  MAE_mean  MAPE_mean  R2_mean  SCPM  \\\n",
       "18    Random Forest       0.96      0.74       1.79     0.97 -2.79   \n",
       "15    Decision Tree       0.99      0.84       2.00     0.97 -2.58   \n",
       "4   Transformer_1.0       1.28      0.98       2.38     0.95 -2.19   \n",
       "9   Transformer_7.0       1.34      1.05       2.60     0.95 -2.00   \n",
       "2           GRU_1.0       2.03      1.10       2.53     0.88 -1.85   \n",
       "\n",
       "    Dominated_Count  Dominates_Count      Classification Plant  \\\n",
       "18                0               19      dominant_model     c   \n",
       "15                1               18  intermediate_model     c   \n",
       "4                 2               17  intermediate_model     c   \n",
       "9                 3               13  intermediate_model     c   \n",
       "2                 3                9  intermediate_model     c   \n",
       "\n",
       "    topo_scmp_order_eq  \n",
       "18                True  \n",
       "15                True  \n",
       "4                 True  \n",
       "9                False  \n",
       "2                 True  "
      ]
     },
     "execution_count": 200,
     "metadata": {},
     "output_type": "execute_result"
    },
    {
     "data": {
      "application/javascript": [
       "\n",
       "            setTimeout(function() {\n",
       "                var nbb_cell_id = 200;\n",
       "                var nbb_unformatted_code = \"df_sorted_scpm[cols + [\\\"topo_scmp_order_eq\\\"]].round(2).head(5)\";\n",
       "                var nbb_formatted_code = \"df_sorted_scpm[cols + [\\\"topo_scmp_order_eq\\\"]].round(2).head(5)\";\n",
       "                var nbb_cells = Jupyter.notebook.get_cells();\n",
       "                for (var i = 0; i < nbb_cells.length; ++i) {\n",
       "                    if (nbb_cells[i].input_prompt_number == nbb_cell_id) {\n",
       "                        if (nbb_cells[i].get_text() == nbb_unformatted_code) {\n",
       "                             nbb_cells[i].set_text(nbb_formatted_code);\n",
       "                        }\n",
       "                        break;\n",
       "                    }\n",
       "                }\n",
       "            }, 500);\n",
       "            "
      ],
      "text/plain": [
       "<IPython.core.display.Javascript object>"
      ]
     },
     "metadata": {},
     "output_type": "display_data"
    }
   ],
   "source": [
    "df_sorted_scpm[cols + [\"topo_scmp_order_eq\"]].round(2).head(5)"
   ]
  },
  {
   "cell_type": "markdown",
   "id": "ede7680e",
   "metadata": {},
   "source": [
    "### Variable Grouping: CM-P-CS"
   ]
  },
  {
   "cell_type": "code",
   "execution_count": 201,
   "id": "d9fb4f17",
   "metadata": {},
   "outputs": [
    {
     "data": {
      "text/plain": [
       "array(['Chemical + Mineralogical', 'Chemical + Mineralogical + Physical',\n",
       "       'Chemical + Mineralogical + Physical - Early CS'], dtype=object)"
      ]
     },
     "execution_count": 201,
     "metadata": {},
     "output_type": "execute_result"
    },
    {
     "data": {
      "application/javascript": [
       "\n",
       "            setTimeout(function() {\n",
       "                var nbb_cell_id = 201;\n",
       "                var nbb_unformatted_code = \"df_results[\\\"Features\\\"].unique()\";\n",
       "                var nbb_formatted_code = \"df_results[\\\"Features\\\"].unique()\";\n",
       "                var nbb_cells = Jupyter.notebook.get_cells();\n",
       "                for (var i = 0; i < nbb_cells.length; ++i) {\n",
       "                    if (nbb_cells[i].input_prompt_number == nbb_cell_id) {\n",
       "                        if (nbb_cells[i].get_text() == nbb_unformatted_code) {\n",
       "                             nbb_cells[i].set_text(nbb_formatted_code);\n",
       "                        }\n",
       "                        break;\n",
       "                    }\n",
       "                }\n",
       "            }, 500);\n",
       "            "
      ],
      "text/plain": [
       "<IPython.core.display.Javascript object>"
      ]
     },
     "metadata": {},
     "output_type": "display_data"
    }
   ],
   "source": [
    "df_results[\"Features\"].unique()"
   ]
  },
  {
   "cell_type": "code",
   "execution_count": 202,
   "id": "5e874e8c",
   "metadata": {},
   "outputs": [
    {
     "data": {
      "application/javascript": [
       "\n",
       "            setTimeout(function() {\n",
       "                var nbb_cell_id = 202;\n",
       "                var nbb_unformatted_code = \"df_results_cm_p_cs = (\\n    df_results[df_results[\\\"Features\\\"].eq(\\\"Chemical + Mineralogical + Physical\\\")]\\n    .copy()\\n    .reset_index(drop=True)\\n)\";\n",
       "                var nbb_formatted_code = \"df_results_cm_p_cs = (\\n    df_results[df_results[\\\"Features\\\"].eq(\\\"Chemical + Mineralogical + Physical\\\")]\\n    .copy()\\n    .reset_index(drop=True)\\n)\";\n",
       "                var nbb_cells = Jupyter.notebook.get_cells();\n",
       "                for (var i = 0; i < nbb_cells.length; ++i) {\n",
       "                    if (nbb_cells[i].input_prompt_number == nbb_cell_id) {\n",
       "                        if (nbb_cells[i].get_text() == nbb_unformatted_code) {\n",
       "                             nbb_cells[i].set_text(nbb_formatted_code);\n",
       "                        }\n",
       "                        break;\n",
       "                    }\n",
       "                }\n",
       "            }, 500);\n",
       "            "
      ],
      "text/plain": [
       "<IPython.core.display.Javascript object>"
      ]
     },
     "metadata": {},
     "output_type": "display_data"
    }
   ],
   "source": [
    "df_results_cm_p_cs = (\n",
    "    df_results[df_results[\"Features\"].eq(\"Chemical + Mineralogical + Physical\")]\n",
    "    .copy()\n",
    "    .reset_index(drop=True)\n",
    ")"
   ]
  },
  {
   "cell_type": "code",
   "execution_count": 203,
   "id": "76b7fb16",
   "metadata": {},
   "outputs": [
    {
     "data": {
      "text/plain": [
       "array(['Chemical + Mineralogical + Physical'], dtype=object)"
      ]
     },
     "execution_count": 203,
     "metadata": {},
     "output_type": "execute_result"
    },
    {
     "data": {
      "application/javascript": [
       "\n",
       "            setTimeout(function() {\n",
       "                var nbb_cell_id = 203;\n",
       "                var nbb_unformatted_code = \"df_results_cm_p_cs[\\\"Features\\\"].unique()\";\n",
       "                var nbb_formatted_code = \"df_results_cm_p_cs[\\\"Features\\\"].unique()\";\n",
       "                var nbb_cells = Jupyter.notebook.get_cells();\n",
       "                for (var i = 0; i < nbb_cells.length; ++i) {\n",
       "                    if (nbb_cells[i].input_prompt_number == nbb_cell_id) {\n",
       "                        if (nbb_cells[i].get_text() == nbb_unformatted_code) {\n",
       "                             nbb_cells[i].set_text(nbb_formatted_code);\n",
       "                        }\n",
       "                        break;\n",
       "                    }\n",
       "                }\n",
       "            }, 500);\n",
       "            "
      ],
      "text/plain": [
       "<IPython.core.display.Javascript object>"
      ]
     },
     "metadata": {},
     "output_type": "display_data"
    }
   ],
   "source": [
    "df_results_cm_p_cs[\"Features\"].unique()"
   ]
  },
  {
   "cell_type": "code",
   "execution_count": 204,
   "id": "710183e3",
   "metadata": {},
   "outputs": [
    {
     "data": {
      "text/plain": [
       "(20, 13)"
      ]
     },
     "execution_count": 204,
     "metadata": {},
     "output_type": "execute_result"
    },
    {
     "data": {
      "application/javascript": [
       "\n",
       "            setTimeout(function() {\n",
       "                var nbb_cell_id = 204;\n",
       "                var nbb_unformatted_code = \"df_results_cm_p.shape\";\n",
       "                var nbb_formatted_code = \"df_results_cm_p.shape\";\n",
       "                var nbb_cells = Jupyter.notebook.get_cells();\n",
       "                for (var i = 0; i < nbb_cells.length; ++i) {\n",
       "                    if (nbb_cells[i].input_prompt_number == nbb_cell_id) {\n",
       "                        if (nbb_cells[i].get_text() == nbb_unformatted_code) {\n",
       "                             nbb_cells[i].set_text(nbb_formatted_code);\n",
       "                        }\n",
       "                        break;\n",
       "                    }\n",
       "                }\n",
       "            }, 500);\n",
       "            "
      ],
      "text/plain": [
       "<IPython.core.display.Javascript object>"
      ]
     },
     "metadata": {},
     "output_type": "display_data"
    }
   ],
   "source": [
    "df_results_cm_p.shape"
   ]
  },
  {
   "cell_type": "markdown",
   "id": "34d52571",
   "metadata": {},
   "source": [
    "### Time Series Split"
   ]
  },
  {
   "cell_type": "code",
   "execution_count": 205,
   "id": "94a40a67",
   "metadata": {},
   "outputs": [
    {
     "data": {
      "text/plain": [
       "array(['Time Series Split'], dtype=object)"
      ]
     },
     "execution_count": 205,
     "metadata": {},
     "output_type": "execute_result"
    },
    {
     "data": {
      "application/javascript": [
       "\n",
       "            setTimeout(function() {\n",
       "                var nbb_cell_id = 205;\n",
       "                var nbb_unformatted_code = \"df_results_cm_p_cs[\\\"Cross Validation\\\"].unique()\";\n",
       "                var nbb_formatted_code = \"df_results_cm_p_cs[\\\"Cross Validation\\\"].unique()\";\n",
       "                var nbb_cells = Jupyter.notebook.get_cells();\n",
       "                for (var i = 0; i < nbb_cells.length; ++i) {\n",
       "                    if (nbb_cells[i].input_prompt_number == nbb_cell_id) {\n",
       "                        if (nbb_cells[i].get_text() == nbb_unformatted_code) {\n",
       "                             nbb_cells[i].set_text(nbb_formatted_code);\n",
       "                        }\n",
       "                        break;\n",
       "                    }\n",
       "                }\n",
       "            }, 500);\n",
       "            "
      ],
      "text/plain": [
       "<IPython.core.display.Javascript object>"
      ]
     },
     "metadata": {},
     "output_type": "display_data"
    }
   ],
   "source": [
    "df_results_cm_p_cs[\"Cross Validation\"].unique()"
   ]
  },
  {
   "cell_type": "code",
   "execution_count": 206,
   "id": "082689cb",
   "metadata": {},
   "outputs": [
    {
     "data": {
      "application/javascript": [
       "\n",
       "            setTimeout(function() {\n",
       "                var nbb_cell_id = 206;\n",
       "                var nbb_unformatted_code = \"df_results_cm_p_cs_tss = (\\n    df_results_cm_p_cs[df_results_cm_p_cs[\\\"Cross Validation\\\"].eq(\\\"Time Series Split\\\")]\\n    .copy()\\n    .reset_index(drop=True)\\n)\";\n",
       "                var nbb_formatted_code = \"df_results_cm_p_cs_tss = (\\n    df_results_cm_p_cs[df_results_cm_p_cs[\\\"Cross Validation\\\"].eq(\\\"Time Series Split\\\")]\\n    .copy()\\n    .reset_index(drop=True)\\n)\";\n",
       "                var nbb_cells = Jupyter.notebook.get_cells();\n",
       "                for (var i = 0; i < nbb_cells.length; ++i) {\n",
       "                    if (nbb_cells[i].input_prompt_number == nbb_cell_id) {\n",
       "                        if (nbb_cells[i].get_text() == nbb_unformatted_code) {\n",
       "                             nbb_cells[i].set_text(nbb_formatted_code);\n",
       "                        }\n",
       "                        break;\n",
       "                    }\n",
       "                }\n",
       "            }, 500);\n",
       "            "
      ],
      "text/plain": [
       "<IPython.core.display.Javascript object>"
      ]
     },
     "metadata": {},
     "output_type": "display_data"
    }
   ],
   "source": [
    "df_results_cm_p_cs_tss = (\n",
    "    df_results_cm_p_cs[df_results_cm_p_cs[\"Cross Validation\"].eq(\"Time Series Split\")]\n",
    "    .copy()\n",
    "    .reset_index(drop=True)\n",
    ")"
   ]
  },
  {
   "cell_type": "code",
   "execution_count": 207,
   "id": "c27f6ae9",
   "metadata": {},
   "outputs": [
    {
     "data": {
      "text/plain": [
       "array(['Time Series Split'], dtype=object)"
      ]
     },
     "execution_count": 207,
     "metadata": {},
     "output_type": "execute_result"
    },
    {
     "data": {
      "application/javascript": [
       "\n",
       "            setTimeout(function() {\n",
       "                var nbb_cell_id = 207;\n",
       "                var nbb_unformatted_code = \"df_results_cm_p_cs_tss[\\\"Cross Validation\\\"].unique()\";\n",
       "                var nbb_formatted_code = \"df_results_cm_p_cs_tss[\\\"Cross Validation\\\"].unique()\";\n",
       "                var nbb_cells = Jupyter.notebook.get_cells();\n",
       "                for (var i = 0; i < nbb_cells.length; ++i) {\n",
       "                    if (nbb_cells[i].input_prompt_number == nbb_cell_id) {\n",
       "                        if (nbb_cells[i].get_text() == nbb_unformatted_code) {\n",
       "                             nbb_cells[i].set_text(nbb_formatted_code);\n",
       "                        }\n",
       "                        break;\n",
       "                    }\n",
       "                }\n",
       "            }, 500);\n",
       "            "
      ],
      "text/plain": [
       "<IPython.core.display.Javascript object>"
      ]
     },
     "metadata": {},
     "output_type": "display_data"
    }
   ],
   "source": [
    "df_results_cm_p_cs_tss[\"Cross Validation\"].unique()"
   ]
  },
  {
   "cell_type": "code",
   "execution_count": 208,
   "id": "c0cfa124",
   "metadata": {},
   "outputs": [
    {
     "data": {
      "text/plain": [
       "(17, 13)"
      ]
     },
     "execution_count": 208,
     "metadata": {},
     "output_type": "execute_result"
    },
    {
     "data": {
      "application/javascript": [
       "\n",
       "            setTimeout(function() {\n",
       "                var nbb_cell_id = 208;\n",
       "                var nbb_unformatted_code = \"df_results_cm_p_cs_tss.shape\";\n",
       "                var nbb_formatted_code = \"df_results_cm_p_cs_tss.shape\";\n",
       "                var nbb_cells = Jupyter.notebook.get_cells();\n",
       "                for (var i = 0; i < nbb_cells.length; ++i) {\n",
       "                    if (nbb_cells[i].input_prompt_number == nbb_cell_id) {\n",
       "                        if (nbb_cells[i].get_text() == nbb_unformatted_code) {\n",
       "                             nbb_cells[i].set_text(nbb_formatted_code);\n",
       "                        }\n",
       "                        break;\n",
       "                    }\n",
       "                }\n",
       "            }, 500);\n",
       "            "
      ],
      "text/plain": [
       "<IPython.core.display.Javascript object>"
      ]
     },
     "metadata": {},
     "output_type": "display_data"
    }
   ],
   "source": [
    "df_results_cm_p_cs_tss.shape"
   ]
  },
  {
   "cell_type": "markdown",
   "id": "25a94fb5",
   "metadata": {},
   "source": [
    "###### SCPM computation"
   ]
  },
  {
   "cell_type": "code",
   "execution_count": 209,
   "id": "fc3796de",
   "metadata": {},
   "outputs": [
    {
     "data": {
      "application/javascript": [
       "\n",
       "            setTimeout(function() {\n",
       "                var nbb_cell_id = 209;\n",
       "                var nbb_unformatted_code = \"df_results_cm_p_cs_tss = compute_scpm(df_results_cm_p_cs_tss)\";\n",
       "                var nbb_formatted_code = \"df_results_cm_p_cs_tss = compute_scpm(df_results_cm_p_cs_tss)\";\n",
       "                var nbb_cells = Jupyter.notebook.get_cells();\n",
       "                for (var i = 0; i < nbb_cells.length; ++i) {\n",
       "                    if (nbb_cells[i].input_prompt_number == nbb_cell_id) {\n",
       "                        if (nbb_cells[i].get_text() == nbb_unformatted_code) {\n",
       "                             nbb_cells[i].set_text(nbb_formatted_code);\n",
       "                        }\n",
       "                        break;\n",
       "                    }\n",
       "                }\n",
       "            }, 500);\n",
       "            "
      ],
      "text/plain": [
       "<IPython.core.display.Javascript object>"
      ]
     },
     "metadata": {},
     "output_type": "display_data"
    }
   ],
   "source": [
    "df_results_cm_p_cs_tss = compute_scpm(df_results_cm_p_cs_tss)"
   ]
  },
  {
   "cell_type": "markdown",
   "id": "156864ba",
   "metadata": {},
   "source": [
    "##### Dominance Analysis"
   ]
  },
  {
   "cell_type": "code",
   "execution_count": 210,
   "id": "6aa000ec",
   "metadata": {},
   "outputs": [
    {
     "data": {
      "application/javascript": [
       "\n",
       "            setTimeout(function() {\n",
       "                var nbb_cell_id = 210;\n",
       "                var nbb_unformatted_code = \"# Per project\\ndominance_dict = make_dominance_analysis(df_results_cm_p_cs_tss)\\ndominance_matrix_cm_p_cs_tss = dominance_dict[\\\"dominance_matrix\\\"]\\ndominance_graph_cm_p_cs_tss = dominance_dict[\\\"dominance_graph\\\"]\\ndf_sorted_count = dominance_dict[\\\"df_sorted_count\\\"]\\ndf_sorted_topo = dominance_dict[\\\"df_sorted_topo\\\"]\";\n",
       "                var nbb_formatted_code = \"# Per project\\ndominance_dict = make_dominance_analysis(df_results_cm_p_cs_tss)\\ndominance_matrix_cm_p_cs_tss = dominance_dict[\\\"dominance_matrix\\\"]\\ndominance_graph_cm_p_cs_tss = dominance_dict[\\\"dominance_graph\\\"]\\ndf_sorted_count = dominance_dict[\\\"df_sorted_count\\\"]\\ndf_sorted_topo = dominance_dict[\\\"df_sorted_topo\\\"]\";\n",
       "                var nbb_cells = Jupyter.notebook.get_cells();\n",
       "                for (var i = 0; i < nbb_cells.length; ++i) {\n",
       "                    if (nbb_cells[i].input_prompt_number == nbb_cell_id) {\n",
       "                        if (nbb_cells[i].get_text() == nbb_unformatted_code) {\n",
       "                             nbb_cells[i].set_text(nbb_formatted_code);\n",
       "                        }\n",
       "                        break;\n",
       "                    }\n",
       "                }\n",
       "            }, 500);\n",
       "            "
      ],
      "text/plain": [
       "<IPython.core.display.Javascript object>"
      ]
     },
     "metadata": {},
     "output_type": "display_data"
    }
   ],
   "source": [
    "# Per project\n",
    "dominance_dict = make_dominance_analysis(df_results_cm_p_cs_tss)\n",
    "dominance_matrix_cm_p_cs_tss = dominance_dict[\"dominance_matrix\"]\n",
    "dominance_graph_cm_p_cs_tss = dominance_dict[\"dominance_graph\"]\n",
    "df_sorted_count = dominance_dict[\"df_sorted_count\"]\n",
    "df_sorted_topo = dominance_dict[\"df_sorted_topo\"]"
   ]
  },
  {
   "cell_type": "code",
   "execution_count": 211,
   "id": "fa25c39a",
   "metadata": {},
   "outputs": [
    {
     "data": {
      "text/plain": [
       "((17, 17), 17)"
      ]
     },
     "execution_count": 211,
     "metadata": {},
     "output_type": "execute_result"
    },
    {
     "data": {
      "application/javascript": [
       "\n",
       "            setTimeout(function() {\n",
       "                var nbb_cell_id = 211;\n",
       "                var nbb_unformatted_code = \"dominance_matrix_cm_p_cs_tss.shape, len(dominance_graph_cm_p_cs_tss)\";\n",
       "                var nbb_formatted_code = \"dominance_matrix_cm_p_cs_tss.shape, len(dominance_graph_cm_p_cs_tss)\";\n",
       "                var nbb_cells = Jupyter.notebook.get_cells();\n",
       "                for (var i = 0; i < nbb_cells.length; ++i) {\n",
       "                    if (nbb_cells[i].input_prompt_number == nbb_cell_id) {\n",
       "                        if (nbb_cells[i].get_text() == nbb_unformatted_code) {\n",
       "                             nbb_cells[i].set_text(nbb_formatted_code);\n",
       "                        }\n",
       "                        break;\n",
       "                    }\n",
       "                }\n",
       "            }, 500);\n",
       "            "
      ],
      "text/plain": [
       "<IPython.core.display.Javascript object>"
      ]
     },
     "metadata": {},
     "output_type": "display_data"
    }
   ],
   "source": [
    "dominance_matrix_cm_p_cs_tss.shape, len(dominance_graph_cm_p_cs_tss)"
   ]
  },
  {
   "cell_type": "code",
   "execution_count": 212,
   "id": "818261dc",
   "metadata": {},
   "outputs": [
    {
     "data": {
      "text/plain": [
       "Classification\n",
       "intermediate_model    15\n",
       "dominant_model         1\n",
       "non_dominant_model     1\n",
       "Name: count, dtype: int64"
      ]
     },
     "execution_count": 212,
     "metadata": {},
     "output_type": "execute_result"
    },
    {
     "data": {
      "application/javascript": [
       "\n",
       "            setTimeout(function() {\n",
       "                var nbb_cell_id = 212;\n",
       "                var nbb_unformatted_code = \"df_sorted_topo[\\\"Classification\\\"].value_counts()\";\n",
       "                var nbb_formatted_code = \"df_sorted_topo[\\\"Classification\\\"].value_counts()\";\n",
       "                var nbb_cells = Jupyter.notebook.get_cells();\n",
       "                for (var i = 0; i < nbb_cells.length; ++i) {\n",
       "                    if (nbb_cells[i].input_prompt_number == nbb_cell_id) {\n",
       "                        if (nbb_cells[i].get_text() == nbb_unformatted_code) {\n",
       "                             nbb_cells[i].set_text(nbb_formatted_code);\n",
       "                        }\n",
       "                        break;\n",
       "                    }\n",
       "                }\n",
       "            }, 500);\n",
       "            "
      ],
      "text/plain": [
       "<IPython.core.display.Javascript object>"
      ]
     },
     "metadata": {},
     "output_type": "display_data"
    }
   ],
   "source": [
    "df_sorted_topo[\"Classification\"].value_counts()"
   ]
  },
  {
   "cell_type": "code",
   "execution_count": 213,
   "id": "235921a1",
   "metadata": {
    "scrolled": false
   },
   "outputs": [
    {
     "data": {
      "application/javascript": [
       "\n",
       "            setTimeout(function() {\n",
       "                var nbb_cell_id = 213;\n",
       "                var nbb_unformatted_code = \"df_sorted_topo.to_csv(\\n    \\\"../../../../reports/results/local_models/ecics/203_c_dominance_analysis_cm_p_cs_tss_last_fold.csv\\\",\\n    index=False,\\n)\";\n",
       "                var nbb_formatted_code = \"df_sorted_topo.to_csv(\\n    \\\"../../../../reports/results/local_models/ecics/203_c_dominance_analysis_cm_p_cs_tss_last_fold.csv\\\",\\n    index=False,\\n)\";\n",
       "                var nbb_cells = Jupyter.notebook.get_cells();\n",
       "                for (var i = 0; i < nbb_cells.length; ++i) {\n",
       "                    if (nbb_cells[i].input_prompt_number == nbb_cell_id) {\n",
       "                        if (nbb_cells[i].get_text() == nbb_unformatted_code) {\n",
       "                             nbb_cells[i].set_text(nbb_formatted_code);\n",
       "                        }\n",
       "                        break;\n",
       "                    }\n",
       "                }\n",
       "            }, 500);\n",
       "            "
      ],
      "text/plain": [
       "<IPython.core.display.Javascript object>"
      ]
     },
     "metadata": {},
     "output_type": "display_data"
    }
   ],
   "source": [
    "df_sorted_topo.to_csv(\n",
    "    \"../../../../reports/results/local_models/ecics/203_c_dominance_analysis_cm_p_cs_tss_last_fold.csv\",\n",
    "    index=False,\n",
    ")"
   ]
  },
  {
   "cell_type": "code",
   "execution_count": 214,
   "id": "d1f7abc2",
   "metadata": {},
   "outputs": [
    {
     "data": {
      "text/html": [
       "<div>\n",
       "<style scoped>\n",
       "    .dataframe tbody tr th:only-of-type {\n",
       "        vertical-align: middle;\n",
       "    }\n",
       "\n",
       "    .dataframe tbody tr th {\n",
       "        vertical-align: top;\n",
       "    }\n",
       "\n",
       "    .dataframe thead th {\n",
       "        text-align: right;\n",
       "    }\n",
       "</style>\n",
       "<table border=\"1\" class=\"dataframe\">\n",
       "  <thead>\n",
       "    <tr style=\"text-align: right;\">\n",
       "      <th></th>\n",
       "      <th>Company</th>\n",
       "      <th>Plant</th>\n",
       "      <th>Cross Validation</th>\n",
       "      <th>Features</th>\n",
       "      <th>Features_bkp</th>\n",
       "      <th>Model</th>\n",
       "      <th>Model_bkp</th>\n",
       "      <th>Model_bkp_2</th>\n",
       "      <th>Timesteps</th>\n",
       "      <th>RMSE_mean</th>\n",
       "      <th>MAE_mean</th>\n",
       "      <th>MAPE_mean</th>\n",
       "      <th>R2_mean</th>\n",
       "      <th>SCPM</th>\n",
       "      <th>Dominated_Count</th>\n",
       "      <th>Classification</th>\n",
       "      <th>Dominates_Count</th>\n",
       "    </tr>\n",
       "  </thead>\n",
       "  <tbody>\n",
       "    <tr>\n",
       "      <th>3</th>\n",
       "      <td>203</td>\n",
       "      <td>c</td>\n",
       "      <td>Time Series Split</td>\n",
       "      <td>Chemical + Mineralogical + Physical</td>\n",
       "      <td>Chemical + Mineralogical + Physical</td>\n",
       "      <td>Neural Networks</td>\n",
       "      <td>Transformer</td>\n",
       "      <td>Transformer_1.0</td>\n",
       "      <td>1.0</td>\n",
       "      <td>1.003179</td>\n",
       "      <td>0.782517</td>\n",
       "      <td>1.872219</td>\n",
       "      <td>0.971548</td>\n",
       "      <td>-1.970106</td>\n",
       "      <td>0</td>\n",
       "      <td>dominant_model</td>\n",
       "      <td>16</td>\n",
       "    </tr>\n",
       "    <tr>\n",
       "      <th>12</th>\n",
       "      <td>203</td>\n",
       "      <td>c</td>\n",
       "      <td>Time Series Split</td>\n",
       "      <td>Chemical + Mineralogical + Physical</td>\n",
       "      <td>Chemical + Mineralogical + Physical</td>\n",
       "      <td>Trees</td>\n",
       "      <td>Decision Tree</td>\n",
       "      <td>Decision Tree</td>\n",
       "      <td>NaN</td>\n",
       "      <td>1.065037</td>\n",
       "      <td>0.855666</td>\n",
       "      <td>2.050307</td>\n",
       "      <td>0.967931</td>\n",
       "      <td>-1.828186</td>\n",
       "      <td>1</td>\n",
       "      <td>intermediate_model</td>\n",
       "      <td>15</td>\n",
       "    </tr>\n",
       "    <tr>\n",
       "      <th>1</th>\n",
       "      <td>203</td>\n",
       "      <td>c</td>\n",
       "      <td>Time Series Split</td>\n",
       "      <td>Chemical + Mineralogical + Physical</td>\n",
       "      <td>Chemical + Mineralogical + Physical</td>\n",
       "      <td>Neural Networks</td>\n",
       "      <td>GRU</td>\n",
       "      <td>GRU_1.0</td>\n",
       "      <td>1.0</td>\n",
       "      <td>1.841270</td>\n",
       "      <td>0.912139</td>\n",
       "      <td>2.119028</td>\n",
       "      <td>0.904149</td>\n",
       "      <td>-1.619439</td>\n",
       "      <td>2</td>\n",
       "      <td>intermediate_model</td>\n",
       "      <td>6</td>\n",
       "    </tr>\n",
       "    <tr>\n",
       "      <th>13</th>\n",
       "      <td>203</td>\n",
       "      <td>c</td>\n",
       "      <td>Time Series Split</td>\n",
       "      <td>Chemical + Mineralogical + Physical</td>\n",
       "      <td>Chemical + Mineralogical + Physical</td>\n",
       "      <td>Linear Regression</td>\n",
       "      <td>Linear Regression</td>\n",
       "      <td>Linear Regression</td>\n",
       "      <td>NaN</td>\n",
       "      <td>1.340192</td>\n",
       "      <td>0.939599</td>\n",
       "      <td>2.181701</td>\n",
       "      <td>0.949220</td>\n",
       "      <td>-1.659252</td>\n",
       "      <td>2</td>\n",
       "      <td>intermediate_model</td>\n",
       "      <td>12</td>\n",
       "    </tr>\n",
       "    <tr>\n",
       "      <th>15</th>\n",
       "      <td>203</td>\n",
       "      <td>c</td>\n",
       "      <td>Time Series Split</td>\n",
       "      <td>Chemical + Mineralogical + Physical</td>\n",
       "      <td>Chemical + Mineralogical + Physical</td>\n",
       "      <td>Trees</td>\n",
       "      <td>Random Forest</td>\n",
       "      <td>Random Forest</td>\n",
       "      <td>NaN</td>\n",
       "      <td>1.156814</td>\n",
       "      <td>0.956269</td>\n",
       "      <td>2.290667</td>\n",
       "      <td>0.962166</td>\n",
       "      <td>-1.633602</td>\n",
       "      <td>2</td>\n",
       "      <td>intermediate_model</td>\n",
       "      <td>10</td>\n",
       "    </tr>\n",
       "  </tbody>\n",
       "</table>\n",
       "</div>"
      ],
      "text/plain": [
       "    Company Plant   Cross Validation                             Features  \\\n",
       "3       203     c  Time Series Split  Chemical + Mineralogical + Physical   \n",
       "12      203     c  Time Series Split  Chemical + Mineralogical + Physical   \n",
       "1       203     c  Time Series Split  Chemical + Mineralogical + Physical   \n",
       "13      203     c  Time Series Split  Chemical + Mineralogical + Physical   \n",
       "15      203     c  Time Series Split  Chemical + Mineralogical + Physical   \n",
       "\n",
       "                           Features_bkp              Model          Model_bkp  \\\n",
       "3   Chemical + Mineralogical + Physical    Neural Networks        Transformer   \n",
       "12  Chemical + Mineralogical + Physical              Trees      Decision Tree   \n",
       "1   Chemical + Mineralogical + Physical    Neural Networks                GRU   \n",
       "13  Chemical + Mineralogical + Physical  Linear Regression  Linear Regression   \n",
       "15  Chemical + Mineralogical + Physical              Trees      Random Forest   \n",
       "\n",
       "          Model_bkp_2  Timesteps  RMSE_mean  MAE_mean  MAPE_mean   R2_mean  \\\n",
       "3     Transformer_1.0        1.0   1.003179  0.782517   1.872219  0.971548   \n",
       "12      Decision Tree        NaN   1.065037  0.855666   2.050307  0.967931   \n",
       "1             GRU_1.0        1.0   1.841270  0.912139   2.119028  0.904149   \n",
       "13  Linear Regression        NaN   1.340192  0.939599   2.181701  0.949220   \n",
       "15      Random Forest        NaN   1.156814  0.956269   2.290667  0.962166   \n",
       "\n",
       "        SCPM  Dominated_Count      Classification  Dominates_Count  \n",
       "3  -1.970106                0      dominant_model               16  \n",
       "12 -1.828186                1  intermediate_model               15  \n",
       "1  -1.619439                2  intermediate_model                6  \n",
       "13 -1.659252                2  intermediate_model               12  \n",
       "15 -1.633602                2  intermediate_model               10  "
      ]
     },
     "execution_count": 214,
     "metadata": {},
     "output_type": "execute_result"
    },
    {
     "data": {
      "application/javascript": [
       "\n",
       "            setTimeout(function() {\n",
       "                var nbb_cell_id = 214;\n",
       "                var nbb_unformatted_code = \"df_sorted_topo.head(5)\";\n",
       "                var nbb_formatted_code = \"df_sorted_topo.head(5)\";\n",
       "                var nbb_cells = Jupyter.notebook.get_cells();\n",
       "                for (var i = 0; i < nbb_cells.length; ++i) {\n",
       "                    if (nbb_cells[i].input_prompt_number == nbb_cell_id) {\n",
       "                        if (nbb_cells[i].get_text() == nbb_unformatted_code) {\n",
       "                             nbb_cells[i].set_text(nbb_formatted_code);\n",
       "                        }\n",
       "                        break;\n",
       "                    }\n",
       "                }\n",
       "            }, 500);\n",
       "            "
      ],
      "text/plain": [
       "<IPython.core.display.Javascript object>"
      ]
     },
     "metadata": {},
     "output_type": "display_data"
    }
   ],
   "source": [
    "df_sorted_topo.head(5)"
   ]
  },
  {
   "cell_type": "code",
   "execution_count": 215,
   "id": "85e3e517",
   "metadata": {
    "scrolled": false
   },
   "outputs": [
    {
     "data": {
      "application/javascript": [
       "\n",
       "            setTimeout(function() {\n",
       "                var nbb_cell_id = 215;\n",
       "                var nbb_unformatted_code = \"df_sorted_topo_cols = df_sorted_topo[\\n    [\\n        # \\\"Model\\\",\\n        # \\\"Model_bkp\\\",\\n        \\\"Model_bkp_2\\\",\\n        \\\"RMSE_mean\\\",\\n        \\\"MAE_mean\\\",\\n        \\\"MAPE_mean\\\",\\n        \\\"R2_mean\\\",\\n        \\\"SCPM\\\",\\n        \\\"Dominated_Count\\\",\\n        \\\"Classification\\\",\\n        \\\"Dominates_Count\\\",\\n        \\\"Plant\\\",\\n    ]\\n].round(2)\";\n",
       "                var nbb_formatted_code = \"df_sorted_topo_cols = df_sorted_topo[\\n    [\\n        # \\\"Model\\\",\\n        # \\\"Model_bkp\\\",\\n        \\\"Model_bkp_2\\\",\\n        \\\"RMSE_mean\\\",\\n        \\\"MAE_mean\\\",\\n        \\\"MAPE_mean\\\",\\n        \\\"R2_mean\\\",\\n        \\\"SCPM\\\",\\n        \\\"Dominated_Count\\\",\\n        \\\"Classification\\\",\\n        \\\"Dominates_Count\\\",\\n        \\\"Plant\\\",\\n    ]\\n].round(2)\";\n",
       "                var nbb_cells = Jupyter.notebook.get_cells();\n",
       "                for (var i = 0; i < nbb_cells.length; ++i) {\n",
       "                    if (nbb_cells[i].input_prompt_number == nbb_cell_id) {\n",
       "                        if (nbb_cells[i].get_text() == nbb_unformatted_code) {\n",
       "                             nbb_cells[i].set_text(nbb_formatted_code);\n",
       "                        }\n",
       "                        break;\n",
       "                    }\n",
       "                }\n",
       "            }, 500);\n",
       "            "
      ],
      "text/plain": [
       "<IPython.core.display.Javascript object>"
      ]
     },
     "metadata": {},
     "output_type": "display_data"
    }
   ],
   "source": [
    "df_sorted_topo_cols = df_sorted_topo[\n",
    "    [\n",
    "        # \"Model\",\n",
    "        # \"Model_bkp\",\n",
    "        \"Model_bkp_2\",\n",
    "        \"RMSE_mean\",\n",
    "        \"MAE_mean\",\n",
    "        \"MAPE_mean\",\n",
    "        \"R2_mean\",\n",
    "        \"SCPM\",\n",
    "        \"Dominated_Count\",\n",
    "        \"Classification\",\n",
    "        \"Dominates_Count\",\n",
    "        \"Plant\",\n",
    "    ]\n",
    "].round(2)"
   ]
  },
  {
   "cell_type": "markdown",
   "id": "94666410",
   "metadata": {},
   "source": [
    "###### Dominant Models"
   ]
  },
  {
   "cell_type": "code",
   "execution_count": 216,
   "id": "ab8163f1",
   "metadata": {},
   "outputs": [
    {
     "data": {
      "text/html": [
       "<div>\n",
       "<style scoped>\n",
       "    .dataframe tbody tr th:only-of-type {\n",
       "        vertical-align: middle;\n",
       "    }\n",
       "\n",
       "    .dataframe tbody tr th {\n",
       "        vertical-align: top;\n",
       "    }\n",
       "\n",
       "    .dataframe thead th {\n",
       "        text-align: right;\n",
       "    }\n",
       "</style>\n",
       "<table border=\"1\" class=\"dataframe\">\n",
       "  <thead>\n",
       "    <tr style=\"text-align: right;\">\n",
       "      <th></th>\n",
       "      <th>Model_bkp_2</th>\n",
       "      <th>RMSE_mean</th>\n",
       "      <th>MAE_mean</th>\n",
       "      <th>MAPE_mean</th>\n",
       "      <th>R2_mean</th>\n",
       "      <th>SCPM</th>\n",
       "      <th>Dominated_Count</th>\n",
       "      <th>Classification</th>\n",
       "      <th>Dominates_Count</th>\n",
       "      <th>Plant</th>\n",
       "    </tr>\n",
       "  </thead>\n",
       "  <tbody>\n",
       "    <tr>\n",
       "      <th>3</th>\n",
       "      <td>Transformer_1.0</td>\n",
       "      <td>1.00</td>\n",
       "      <td>0.78</td>\n",
       "      <td>1.87</td>\n",
       "      <td>0.97</td>\n",
       "      <td>-1.97</td>\n",
       "      <td>0</td>\n",
       "      <td>dominant_model</td>\n",
       "      <td>16</td>\n",
       "      <td>c</td>\n",
       "    </tr>\n",
       "    <tr>\n",
       "      <th>12</th>\n",
       "      <td>Decision Tree</td>\n",
       "      <td>1.07</td>\n",
       "      <td>0.86</td>\n",
       "      <td>2.05</td>\n",
       "      <td>0.97</td>\n",
       "      <td>-1.83</td>\n",
       "      <td>1</td>\n",
       "      <td>intermediate_model</td>\n",
       "      <td>15</td>\n",
       "      <td>c</td>\n",
       "    </tr>\n",
       "    <tr>\n",
       "      <th>13</th>\n",
       "      <td>Linear Regression</td>\n",
       "      <td>1.34</td>\n",
       "      <td>0.94</td>\n",
       "      <td>2.18</td>\n",
       "      <td>0.95</td>\n",
       "      <td>-1.66</td>\n",
       "      <td>2</td>\n",
       "      <td>intermediate_model</td>\n",
       "      <td>12</td>\n",
       "      <td>c</td>\n",
       "    </tr>\n",
       "    <tr>\n",
       "      <th>15</th>\n",
       "      <td>Random Forest</td>\n",
       "      <td>1.16</td>\n",
       "      <td>0.96</td>\n",
       "      <td>2.29</td>\n",
       "      <td>0.96</td>\n",
       "      <td>-1.63</td>\n",
       "      <td>2</td>\n",
       "      <td>intermediate_model</td>\n",
       "      <td>10</td>\n",
       "      <td>c</td>\n",
       "    </tr>\n",
       "    <tr>\n",
       "      <th>6</th>\n",
       "      <td>LSTM_7.0</td>\n",
       "      <td>1.55</td>\n",
       "      <td>0.97</td>\n",
       "      <td>2.23</td>\n",
       "      <td>0.93</td>\n",
       "      <td>-1.58</td>\n",
       "      <td>3</td>\n",
       "      <td>intermediate_model</td>\n",
       "      <td>9</td>\n",
       "      <td>c</td>\n",
       "    </tr>\n",
       "  </tbody>\n",
       "</table>\n",
       "</div>"
      ],
      "text/plain": [
       "          Model_bkp_2  RMSE_mean  MAE_mean  MAPE_mean  R2_mean  SCPM  \\\n",
       "3     Transformer_1.0       1.00      0.78       1.87     0.97 -1.97   \n",
       "12      Decision Tree       1.07      0.86       2.05     0.97 -1.83   \n",
       "13  Linear Regression       1.34      0.94       2.18     0.95 -1.66   \n",
       "15      Random Forest       1.16      0.96       2.29     0.96 -1.63   \n",
       "6            LSTM_7.0       1.55      0.97       2.23     0.93 -1.58   \n",
       "\n",
       "    Dominated_Count      Classification  Dominates_Count Plant  \n",
       "3                 0      dominant_model               16     c  \n",
       "12                1  intermediate_model               15     c  \n",
       "13                2  intermediate_model               12     c  \n",
       "15                2  intermediate_model               10     c  \n",
       "6                 3  intermediate_model                9     c  "
      ]
     },
     "execution_count": 216,
     "metadata": {},
     "output_type": "execute_result"
    },
    {
     "data": {
      "application/javascript": [
       "\n",
       "            setTimeout(function() {\n",
       "                var nbb_cell_id = 216;\n",
       "                var nbb_unformatted_code = \"# Top 5\\ndf_sorted_topo_cols.sort_values(\\n    by=[\\\"Dominates_Count\\\", \\\"SCPM\\\"], ascending=[False, True]\\n).iloc[0:5].round(2)\";\n",
       "                var nbb_formatted_code = \"# Top 5\\ndf_sorted_topo_cols.sort_values(\\n    by=[\\\"Dominates_Count\\\", \\\"SCPM\\\"], ascending=[False, True]\\n).iloc[0:5].round(2)\";\n",
       "                var nbb_cells = Jupyter.notebook.get_cells();\n",
       "                for (var i = 0; i < nbb_cells.length; ++i) {\n",
       "                    if (nbb_cells[i].input_prompt_number == nbb_cell_id) {\n",
       "                        if (nbb_cells[i].get_text() == nbb_unformatted_code) {\n",
       "                             nbb_cells[i].set_text(nbb_formatted_code);\n",
       "                        }\n",
       "                        break;\n",
       "                    }\n",
       "                }\n",
       "            }, 500);\n",
       "            "
      ],
      "text/plain": [
       "<IPython.core.display.Javascript object>"
      ]
     },
     "metadata": {},
     "output_type": "display_data"
    }
   ],
   "source": [
    "# Top 5\n",
    "df_sorted_topo_cols.sort_values(\n",
    "    by=[\"Dominates_Count\", \"SCPM\"], ascending=[False, True]\n",
    ").iloc[0:5].round(2)"
   ]
  },
  {
   "cell_type": "code",
   "execution_count": 217,
   "id": "4d4c0737",
   "metadata": {},
   "outputs": [
    {
     "data": {
      "text/plain": [
       "(1, 10)"
      ]
     },
     "execution_count": 217,
     "metadata": {},
     "output_type": "execute_result"
    },
    {
     "data": {
      "application/javascript": [
       "\n",
       "            setTimeout(function() {\n",
       "                var nbb_cell_id = 217;\n",
       "                var nbb_unformatted_code = \"df_sorted_topo_cols[df_sorted_topo_cols[\\\"Classification\\\"].eq(\\\"dominant_model\\\")].shape\";\n",
       "                var nbb_formatted_code = \"df_sorted_topo_cols[df_sorted_topo_cols[\\\"Classification\\\"].eq(\\\"dominant_model\\\")].shape\";\n",
       "                var nbb_cells = Jupyter.notebook.get_cells();\n",
       "                for (var i = 0; i < nbb_cells.length; ++i) {\n",
       "                    if (nbb_cells[i].input_prompt_number == nbb_cell_id) {\n",
       "                        if (nbb_cells[i].get_text() == nbb_unformatted_code) {\n",
       "                             nbb_cells[i].set_text(nbb_formatted_code);\n",
       "                        }\n",
       "                        break;\n",
       "                    }\n",
       "                }\n",
       "            }, 500);\n",
       "            "
      ],
      "text/plain": [
       "<IPython.core.display.Javascript object>"
      ]
     },
     "metadata": {},
     "output_type": "display_data"
    }
   ],
   "source": [
    "df_sorted_topo_cols[df_sorted_topo_cols[\"Classification\"].eq(\"dominant_model\")].shape"
   ]
  },
  {
   "cell_type": "markdown",
   "id": "473f4422",
   "metadata": {},
   "source": [
    "###### Intermediate models"
   ]
  },
  {
   "cell_type": "code",
   "execution_count": 218,
   "id": "43e6f7b5",
   "metadata": {},
   "outputs": [
    {
     "data": {
      "text/html": [
       "<div>\n",
       "<style scoped>\n",
       "    .dataframe tbody tr th:only-of-type {\n",
       "        vertical-align: middle;\n",
       "    }\n",
       "\n",
       "    .dataframe tbody tr th {\n",
       "        vertical-align: top;\n",
       "    }\n",
       "\n",
       "    .dataframe thead th {\n",
       "        text-align: right;\n",
       "    }\n",
       "</style>\n",
       "<table border=\"1\" class=\"dataframe\">\n",
       "  <thead>\n",
       "    <tr style=\"text-align: right;\">\n",
       "      <th></th>\n",
       "      <th>Model_bkp_2</th>\n",
       "      <th>RMSE_mean</th>\n",
       "      <th>MAE_mean</th>\n",
       "      <th>MAPE_mean</th>\n",
       "      <th>R2_mean</th>\n",
       "      <th>SCPM</th>\n",
       "      <th>Dominated_Count</th>\n",
       "      <th>Classification</th>\n",
       "      <th>Dominates_Count</th>\n",
       "      <th>Plant</th>\n",
       "    </tr>\n",
       "  </thead>\n",
       "  <tbody>\n",
       "    <tr>\n",
       "      <th>12</th>\n",
       "      <td>Decision Tree</td>\n",
       "      <td>1.07</td>\n",
       "      <td>0.86</td>\n",
       "      <td>2.05</td>\n",
       "      <td>0.97</td>\n",
       "      <td>-1.83</td>\n",
       "      <td>1</td>\n",
       "      <td>intermediate_model</td>\n",
       "      <td>15</td>\n",
       "      <td>c</td>\n",
       "    </tr>\n",
       "    <tr>\n",
       "      <th>13</th>\n",
       "      <td>Linear Regression</td>\n",
       "      <td>1.34</td>\n",
       "      <td>0.94</td>\n",
       "      <td>2.18</td>\n",
       "      <td>0.95</td>\n",
       "      <td>-1.66</td>\n",
       "      <td>2</td>\n",
       "      <td>intermediate_model</td>\n",
       "      <td>12</td>\n",
       "      <td>c</td>\n",
       "    </tr>\n",
       "    <tr>\n",
       "      <th>15</th>\n",
       "      <td>Random Forest</td>\n",
       "      <td>1.16</td>\n",
       "      <td>0.96</td>\n",
       "      <td>2.29</td>\n",
       "      <td>0.96</td>\n",
       "      <td>-1.63</td>\n",
       "      <td>2</td>\n",
       "      <td>intermediate_model</td>\n",
       "      <td>10</td>\n",
       "      <td>c</td>\n",
       "    </tr>\n",
       "    <tr>\n",
       "      <th>6</th>\n",
       "      <td>LSTM_7.0</td>\n",
       "      <td>1.55</td>\n",
       "      <td>0.97</td>\n",
       "      <td>2.23</td>\n",
       "      <td>0.93</td>\n",
       "      <td>-1.58</td>\n",
       "      <td>3</td>\n",
       "      <td>intermediate_model</td>\n",
       "      <td>9</td>\n",
       "      <td>c</td>\n",
       "    </tr>\n",
       "  </tbody>\n",
       "</table>\n",
       "</div>"
      ],
      "text/plain": [
       "          Model_bkp_2  RMSE_mean  MAE_mean  MAPE_mean  R2_mean  SCPM  \\\n",
       "12      Decision Tree       1.07      0.86       2.05     0.97 -1.83   \n",
       "13  Linear Regression       1.34      0.94       2.18     0.95 -1.66   \n",
       "15      Random Forest       1.16      0.96       2.29     0.96 -1.63   \n",
       "6            LSTM_7.0       1.55      0.97       2.23     0.93 -1.58   \n",
       "\n",
       "    Dominated_Count      Classification  Dominates_Count Plant  \n",
       "12                1  intermediate_model               15     c  \n",
       "13                2  intermediate_model               12     c  \n",
       "15                2  intermediate_model               10     c  \n",
       "6                 3  intermediate_model                9     c  "
      ]
     },
     "execution_count": 218,
     "metadata": {},
     "output_type": "execute_result"
    },
    {
     "data": {
      "application/javascript": [
       "\n",
       "            setTimeout(function() {\n",
       "                var nbb_cell_id = 218;\n",
       "                var nbb_unformatted_code = \"df_sorted_topo_cols[\\n    df_sorted_topo_cols[\\\"Classification\\\"].eq(\\\"intermediate_model\\\")\\n].sort_values(by=[\\\"Dominates_Count\\\", \\\"SCPM\\\"], ascending=[False, True]).iloc[:4]\";\n",
       "                var nbb_formatted_code = \"df_sorted_topo_cols[\\n    df_sorted_topo_cols[\\\"Classification\\\"].eq(\\\"intermediate_model\\\")\\n].sort_values(by=[\\\"Dominates_Count\\\", \\\"SCPM\\\"], ascending=[False, True]).iloc[:4]\";\n",
       "                var nbb_cells = Jupyter.notebook.get_cells();\n",
       "                for (var i = 0; i < nbb_cells.length; ++i) {\n",
       "                    if (nbb_cells[i].input_prompt_number == nbb_cell_id) {\n",
       "                        if (nbb_cells[i].get_text() == nbb_unformatted_code) {\n",
       "                             nbb_cells[i].set_text(nbb_formatted_code);\n",
       "                        }\n",
       "                        break;\n",
       "                    }\n",
       "                }\n",
       "            }, 500);\n",
       "            "
      ],
      "text/plain": [
       "<IPython.core.display.Javascript object>"
      ]
     },
     "metadata": {},
     "output_type": "display_data"
    }
   ],
   "source": [
    "df_sorted_topo_cols[\n",
    "    df_sorted_topo_cols[\"Classification\"].eq(\"intermediate_model\")\n",
    "].sort_values(by=[\"Dominates_Count\", \"SCPM\"], ascending=[False, True]).iloc[:4]"
   ]
  },
  {
   "cell_type": "code",
   "execution_count": 219,
   "id": "d8643d5e",
   "metadata": {},
   "outputs": [
    {
     "data": {
      "text/plain": [
       "(15, 10)"
      ]
     },
     "execution_count": 219,
     "metadata": {},
     "output_type": "execute_result"
    },
    {
     "data": {
      "application/javascript": [
       "\n",
       "            setTimeout(function() {\n",
       "                var nbb_cell_id = 219;\n",
       "                var nbb_unformatted_code = \"df_sorted_topo_cols[\\n    df_sorted_topo_cols[\\\"Classification\\\"].eq(\\\"intermediate_model\\\")\\n].shape\";\n",
       "                var nbb_formatted_code = \"df_sorted_topo_cols[\\n    df_sorted_topo_cols[\\\"Classification\\\"].eq(\\\"intermediate_model\\\")\\n].shape\";\n",
       "                var nbb_cells = Jupyter.notebook.get_cells();\n",
       "                for (var i = 0; i < nbb_cells.length; ++i) {\n",
       "                    if (nbb_cells[i].input_prompt_number == nbb_cell_id) {\n",
       "                        if (nbb_cells[i].get_text() == nbb_unformatted_code) {\n",
       "                             nbb_cells[i].set_text(nbb_formatted_code);\n",
       "                        }\n",
       "                        break;\n",
       "                    }\n",
       "                }\n",
       "            }, 500);\n",
       "            "
      ],
      "text/plain": [
       "<IPython.core.display.Javascript object>"
      ]
     },
     "metadata": {},
     "output_type": "display_data"
    }
   ],
   "source": [
    "df_sorted_topo_cols[\n",
    "    df_sorted_topo_cols[\"Classification\"].eq(\"intermediate_model\")\n",
    "].shape"
   ]
  },
  {
   "cell_type": "markdown",
   "id": "8818f9e0",
   "metadata": {},
   "source": [
    "###### non-dominant models"
   ]
  },
  {
   "cell_type": "code",
   "execution_count": 220,
   "id": "cc052167",
   "metadata": {},
   "outputs": [
    {
     "data": {
      "text/html": [
       "<div>\n",
       "<style scoped>\n",
       "    .dataframe tbody tr th:only-of-type {\n",
       "        vertical-align: middle;\n",
       "    }\n",
       "\n",
       "    .dataframe tbody tr th {\n",
       "        vertical-align: top;\n",
       "    }\n",
       "\n",
       "    .dataframe thead th {\n",
       "        text-align: right;\n",
       "    }\n",
       "</style>\n",
       "<table border=\"1\" class=\"dataframe\">\n",
       "  <thead>\n",
       "    <tr style=\"text-align: right;\">\n",
       "      <th></th>\n",
       "      <th>Model_bkp_2</th>\n",
       "      <th>RMSE_mean</th>\n",
       "      <th>MAE_mean</th>\n",
       "      <th>MAPE_mean</th>\n",
       "      <th>R2_mean</th>\n",
       "      <th>SCPM</th>\n",
       "      <th>Dominated_Count</th>\n",
       "      <th>Classification</th>\n",
       "      <th>Dominates_Count</th>\n",
       "      <th>Plant</th>\n",
       "    </tr>\n",
       "  </thead>\n",
       "  <tbody>\n",
       "    <tr>\n",
       "      <th>8</th>\n",
       "      <td>BidirectionalGRU_14.0</td>\n",
       "      <td>28.17</td>\n",
       "      <td>6.01</td>\n",
       "      <td>12.95</td>\n",
       "      <td>-21.8</td>\n",
       "      <td>15.35</td>\n",
       "      <td>16</td>\n",
       "      <td>non_dominant_model</td>\n",
       "      <td>0</td>\n",
       "      <td>c</td>\n",
       "    </tr>\n",
       "  </tbody>\n",
       "</table>\n",
       "</div>"
      ],
      "text/plain": [
       "             Model_bkp_2  RMSE_mean  MAE_mean  MAPE_mean  R2_mean   SCPM  \\\n",
       "8  BidirectionalGRU_14.0      28.17      6.01      12.95    -21.8  15.35   \n",
       "\n",
       "   Dominated_Count      Classification  Dominates_Count Plant  \n",
       "8               16  non_dominant_model                0     c  "
      ]
     },
     "execution_count": 220,
     "metadata": {},
     "output_type": "execute_result"
    },
    {
     "data": {
      "application/javascript": [
       "\n",
       "            setTimeout(function() {\n",
       "                var nbb_cell_id = 220;\n",
       "                var nbb_unformatted_code = \"df_sorted_topo_cols[\\n    df_sorted_topo_cols[\\\"Classification\\\"].eq(\\\"non_dominant_model\\\")\\n].sort_values(by=[\\\"Dominated_Count\\\", \\\"SCPM\\\"], ascending=[True, False]).iloc[:5]\";\n",
       "                var nbb_formatted_code = \"df_sorted_topo_cols[\\n    df_sorted_topo_cols[\\\"Classification\\\"].eq(\\\"non_dominant_model\\\")\\n].sort_values(by=[\\\"Dominated_Count\\\", \\\"SCPM\\\"], ascending=[True, False]).iloc[:5]\";\n",
       "                var nbb_cells = Jupyter.notebook.get_cells();\n",
       "                for (var i = 0; i < nbb_cells.length; ++i) {\n",
       "                    if (nbb_cells[i].input_prompt_number == nbb_cell_id) {\n",
       "                        if (nbb_cells[i].get_text() == nbb_unformatted_code) {\n",
       "                             nbb_cells[i].set_text(nbb_formatted_code);\n",
       "                        }\n",
       "                        break;\n",
       "                    }\n",
       "                }\n",
       "            }, 500);\n",
       "            "
      ],
      "text/plain": [
       "<IPython.core.display.Javascript object>"
      ]
     },
     "metadata": {},
     "output_type": "display_data"
    }
   ],
   "source": [
    "df_sorted_topo_cols[\n",
    "    df_sorted_topo_cols[\"Classification\"].eq(\"non_dominant_model\")\n",
    "].sort_values(by=[\"Dominated_Count\", \"SCPM\"], ascending=[True, False]).iloc[:5]"
   ]
  },
  {
   "cell_type": "code",
   "execution_count": 221,
   "id": "5471e7f3",
   "metadata": {},
   "outputs": [
    {
     "data": {
      "text/plain": [
       "(1, 10)"
      ]
     },
     "execution_count": 221,
     "metadata": {},
     "output_type": "execute_result"
    },
    {
     "data": {
      "application/javascript": [
       "\n",
       "            setTimeout(function() {\n",
       "                var nbb_cell_id = 221;\n",
       "                var nbb_unformatted_code = \"df_sorted_topo_cols[\\n    df_sorted_topo_cols[\\\"Classification\\\"].eq(\\\"non_dominant_model\\\")\\n].shape\";\n",
       "                var nbb_formatted_code = \"df_sorted_topo_cols[\\n    df_sorted_topo_cols[\\\"Classification\\\"].eq(\\\"non_dominant_model\\\")\\n].shape\";\n",
       "                var nbb_cells = Jupyter.notebook.get_cells();\n",
       "                for (var i = 0; i < nbb_cells.length; ++i) {\n",
       "                    if (nbb_cells[i].input_prompt_number == nbb_cell_id) {\n",
       "                        if (nbb_cells[i].get_text() == nbb_unformatted_code) {\n",
       "                             nbb_cells[i].set_text(nbb_formatted_code);\n",
       "                        }\n",
       "                        break;\n",
       "                    }\n",
       "                }\n",
       "            }, 500);\n",
       "            "
      ],
      "text/plain": [
       "<IPython.core.display.Javascript object>"
      ]
     },
     "metadata": {},
     "output_type": "display_data"
    }
   ],
   "source": [
    "df_sorted_topo_cols[\n",
    "    df_sorted_topo_cols[\"Classification\"].eq(\"non_dominant_model\")\n",
    "].shape"
   ]
  },
  {
   "cell_type": "markdown",
   "id": "5b5aa404",
   "metadata": {},
   "source": [
    "###### Statistics per model type"
   ]
  },
  {
   "cell_type": "code",
   "execution_count": 222,
   "id": "ecc6a554",
   "metadata": {},
   "outputs": [
    {
     "data": {
      "application/javascript": [
       "\n",
       "            setTimeout(function() {\n",
       "                var nbb_cell_id = 222;\n",
       "                var nbb_unformatted_code = \"df_sorted_topo_models_cols = df_sorted_topo[\\n    [\\n        \\\"Model\\\",\\n        # \\\"Model_bkp\\\",\\n        # \\\"Model_bkp_2\\\",\\n        \\\"RMSE_mean\\\",\\n        \\\"MAE_mean\\\",\\n        \\\"MAPE_mean\\\",\\n        \\\"R2_mean\\\",\\n        \\\"SCPM\\\",\\n        \\\"Dominated_Count\\\",\\n        \\\"Dominates_Count\\\",\\n        \\\"Classification\\\",\\n        \\\"Plant\\\",\\n    ]\\n]  # .round(2)\";\n",
       "                var nbb_formatted_code = \"df_sorted_topo_models_cols = df_sorted_topo[\\n    [\\n        \\\"Model\\\",\\n        # \\\"Model_bkp\\\",\\n        # \\\"Model_bkp_2\\\",\\n        \\\"RMSE_mean\\\",\\n        \\\"MAE_mean\\\",\\n        \\\"MAPE_mean\\\",\\n        \\\"R2_mean\\\",\\n        \\\"SCPM\\\",\\n        \\\"Dominated_Count\\\",\\n        \\\"Dominates_Count\\\",\\n        \\\"Classification\\\",\\n        \\\"Plant\\\",\\n    ]\\n]  # .round(2)\";\n",
       "                var nbb_cells = Jupyter.notebook.get_cells();\n",
       "                for (var i = 0; i < nbb_cells.length; ++i) {\n",
       "                    if (nbb_cells[i].input_prompt_number == nbb_cell_id) {\n",
       "                        if (nbb_cells[i].get_text() == nbb_unformatted_code) {\n",
       "                             nbb_cells[i].set_text(nbb_formatted_code);\n",
       "                        }\n",
       "                        break;\n",
       "                    }\n",
       "                }\n",
       "            }, 500);\n",
       "            "
      ],
      "text/plain": [
       "<IPython.core.display.Javascript object>"
      ]
     },
     "metadata": {},
     "output_type": "display_data"
    }
   ],
   "source": [
    "df_sorted_topo_models_cols = df_sorted_topo[\n",
    "    [\n",
    "        \"Model\",\n",
    "        # \"Model_bkp\",\n",
    "        # \"Model_bkp_2\",\n",
    "        \"RMSE_mean\",\n",
    "        \"MAE_mean\",\n",
    "        \"MAPE_mean\",\n",
    "        \"R2_mean\",\n",
    "        \"SCPM\",\n",
    "        \"Dominated_Count\",\n",
    "        \"Dominates_Count\",\n",
    "        \"Classification\",\n",
    "        \"Plant\",\n",
    "    ]\n",
    "]  # .round(2)"
   ]
  },
  {
   "cell_type": "code",
   "execution_count": 223,
   "id": "259a2635",
   "metadata": {},
   "outputs": [
    {
     "data": {
      "text/plain": [
       "Model\n",
       "Neural Networks      13\n",
       "Trees                 3\n",
       "Linear Regression     1\n",
       "Name: count, dtype: int64"
      ]
     },
     "execution_count": 223,
     "metadata": {},
     "output_type": "execute_result"
    },
    {
     "data": {
      "application/javascript": [
       "\n",
       "            setTimeout(function() {\n",
       "                var nbb_cell_id = 223;\n",
       "                var nbb_unformatted_code = \"df_sorted_topo[\\\"Model\\\"].value_counts()\";\n",
       "                var nbb_formatted_code = \"df_sorted_topo[\\\"Model\\\"].value_counts()\";\n",
       "                var nbb_cells = Jupyter.notebook.get_cells();\n",
       "                for (var i = 0; i < nbb_cells.length; ++i) {\n",
       "                    if (nbb_cells[i].input_prompt_number == nbb_cell_id) {\n",
       "                        if (nbb_cells[i].get_text() == nbb_unformatted_code) {\n",
       "                             nbb_cells[i].set_text(nbb_formatted_code);\n",
       "                        }\n",
       "                        break;\n",
       "                    }\n",
       "                }\n",
       "            }, 500);\n",
       "            "
      ],
      "text/plain": [
       "<IPython.core.display.Javascript object>"
      ]
     },
     "metadata": {},
     "output_type": "display_data"
    }
   ],
   "source": [
    "df_sorted_topo[\"Model\"].value_counts()"
   ]
  },
  {
   "cell_type": "code",
   "execution_count": 224,
   "id": "b0cf8e8d",
   "metadata": {},
   "outputs": [
    {
     "data": {
      "application/javascript": [
       "\n",
       "            setTimeout(function() {\n",
       "                var nbb_cell_id = 224;\n",
       "                var nbb_unformatted_code = \"df_sorted_topo_models_grouped = df_sorted_topo_models_cols.groupby(\\\"Model\\\").describe().T\";\n",
       "                var nbb_formatted_code = \"df_sorted_topo_models_grouped = df_sorted_topo_models_cols.groupby(\\\"Model\\\").describe().T\";\n",
       "                var nbb_cells = Jupyter.notebook.get_cells();\n",
       "                for (var i = 0; i < nbb_cells.length; ++i) {\n",
       "                    if (nbb_cells[i].input_prompt_number == nbb_cell_id) {\n",
       "                        if (nbb_cells[i].get_text() == nbb_unformatted_code) {\n",
       "                             nbb_cells[i].set_text(nbb_formatted_code);\n",
       "                        }\n",
       "                        break;\n",
       "                    }\n",
       "                }\n",
       "            }, 500);\n",
       "            "
      ],
      "text/plain": [
       "<IPython.core.display.Javascript object>"
      ]
     },
     "metadata": {},
     "output_type": "display_data"
    }
   ],
   "source": [
    "df_sorted_topo_models_grouped = df_sorted_topo_models_cols.groupby(\"Model\").describe().T"
   ]
  },
  {
   "cell_type": "code",
   "execution_count": 225,
   "id": "bf934bf6",
   "metadata": {},
   "outputs": [
    {
     "data": {
      "application/javascript": [
       "\n",
       "            setTimeout(function() {\n",
       "                var nbb_cell_id = 225;\n",
       "                var nbb_unformatted_code = \"df_sorted_topo_models_cols = df_sorted_topo[\\n    [\\n        \\\"Model\\\",\\n        \\\"Dominated_Count\\\",\\n        \\\"Dominates_Count\\\",\\n        \\\"Classification\\\",\\n    ]\\n]\";\n",
       "                var nbb_formatted_code = \"df_sorted_topo_models_cols = df_sorted_topo[\\n    [\\n        \\\"Model\\\",\\n        \\\"Dominated_Count\\\",\\n        \\\"Dominates_Count\\\",\\n        \\\"Classification\\\",\\n    ]\\n]\";\n",
       "                var nbb_cells = Jupyter.notebook.get_cells();\n",
       "                for (var i = 0; i < nbb_cells.length; ++i) {\n",
       "                    if (nbb_cells[i].input_prompt_number == nbb_cell_id) {\n",
       "                        if (nbb_cells[i].get_text() == nbb_unformatted_code) {\n",
       "                             nbb_cells[i].set_text(nbb_formatted_code);\n",
       "                        }\n",
       "                        break;\n",
       "                    }\n",
       "                }\n",
       "            }, 500);\n",
       "            "
      ],
      "text/plain": [
       "<IPython.core.display.Javascript object>"
      ]
     },
     "metadata": {},
     "output_type": "display_data"
    }
   ],
   "source": [
    "df_sorted_topo_models_cols = df_sorted_topo[\n",
    "    [\n",
    "        \"Model\",\n",
    "        \"Dominated_Count\",\n",
    "        \"Dominates_Count\",\n",
    "        \"Classification\",\n",
    "    ]\n",
    "]"
   ]
  },
  {
   "cell_type": "code",
   "execution_count": 226,
   "id": "2b6ea771",
   "metadata": {},
   "outputs": [
    {
     "data": {
      "text/html": [
       "<div>\n",
       "<style scoped>\n",
       "    .dataframe tbody tr th:only-of-type {\n",
       "        vertical-align: middle;\n",
       "    }\n",
       "\n",
       "    .dataframe tbody tr th {\n",
       "        vertical-align: top;\n",
       "    }\n",
       "\n",
       "    .dataframe thead th {\n",
       "        text-align: right;\n",
       "    }\n",
       "</style>\n",
       "<table border=\"1\" class=\"dataframe\">\n",
       "  <thead>\n",
       "    <tr style=\"text-align: right;\">\n",
       "      <th></th>\n",
       "      <th></th>\n",
       "      <th>proportion</th>\n",
       "    </tr>\n",
       "    <tr>\n",
       "      <th>Model</th>\n",
       "      <th>Classification</th>\n",
       "      <th></th>\n",
       "    </tr>\n",
       "  </thead>\n",
       "  <tbody>\n",
       "    <tr>\n",
       "      <th>Linear Regression</th>\n",
       "      <th>intermediate_model</th>\n",
       "      <td>100.00</td>\n",
       "    </tr>\n",
       "    <tr>\n",
       "      <th rowspan=\"3\" valign=\"top\">Neural Networks</th>\n",
       "      <th>intermediate_model</th>\n",
       "      <td>84.62</td>\n",
       "    </tr>\n",
       "    <tr>\n",
       "      <th>dominant_model</th>\n",
       "      <td>7.69</td>\n",
       "    </tr>\n",
       "    <tr>\n",
       "      <th>non_dominant_model</th>\n",
       "      <td>7.69</td>\n",
       "    </tr>\n",
       "    <tr>\n",
       "      <th>Trees</th>\n",
       "      <th>intermediate_model</th>\n",
       "      <td>100.00</td>\n",
       "    </tr>\n",
       "  </tbody>\n",
       "</table>\n",
       "</div>"
      ],
      "text/plain": [
       "                                      proportion\n",
       "Model             Classification                \n",
       "Linear Regression intermediate_model      100.00\n",
       "Neural Networks   intermediate_model       84.62\n",
       "                  dominant_model            7.69\n",
       "                  non_dominant_model        7.69\n",
       "Trees             intermediate_model      100.00"
      ]
     },
     "execution_count": 226,
     "metadata": {},
     "output_type": "execute_result"
    },
    {
     "data": {
      "application/javascript": [
       "\n",
       "            setTimeout(function() {\n",
       "                var nbb_cell_id = 226;\n",
       "                var nbb_unformatted_code = \"(\\n    df_sorted_topo_models_cols.groupby(\\\"Model\\\")[[\\\"Classification\\\"]]\\n    .value_counts(normalize=True)\\n    .to_frame()\\n    * 100\\n).round(2)\";\n",
       "                var nbb_formatted_code = \"(\\n    df_sorted_topo_models_cols.groupby(\\\"Model\\\")[[\\\"Classification\\\"]]\\n    .value_counts(normalize=True)\\n    .to_frame()\\n    * 100\\n).round(2)\";\n",
       "                var nbb_cells = Jupyter.notebook.get_cells();\n",
       "                for (var i = 0; i < nbb_cells.length; ++i) {\n",
       "                    if (nbb_cells[i].input_prompt_number == nbb_cell_id) {\n",
       "                        if (nbb_cells[i].get_text() == nbb_unformatted_code) {\n",
       "                             nbb_cells[i].set_text(nbb_formatted_code);\n",
       "                        }\n",
       "                        break;\n",
       "                    }\n",
       "                }\n",
       "            }, 500);\n",
       "            "
      ],
      "text/plain": [
       "<IPython.core.display.Javascript object>"
      ]
     },
     "metadata": {},
     "output_type": "display_data"
    }
   ],
   "source": [
    "(\n",
    "    df_sorted_topo_models_cols.groupby(\"Model\")[[\"Classification\"]]\n",
    "    .value_counts(normalize=True)\n",
    "    .to_frame()\n",
    "    * 100\n",
    ").round(2)"
   ]
  },
  {
   "cell_type": "code",
   "execution_count": 227,
   "id": "63a5cbc8",
   "metadata": {},
   "outputs": [
    {
     "data": {
      "text/html": [
       "<div>\n",
       "<style scoped>\n",
       "    .dataframe tbody tr th:only-of-type {\n",
       "        vertical-align: middle;\n",
       "    }\n",
       "\n",
       "    .dataframe tbody tr th {\n",
       "        vertical-align: top;\n",
       "    }\n",
       "\n",
       "    .dataframe thead th {\n",
       "        text-align: right;\n",
       "    }\n",
       "</style>\n",
       "<table border=\"1\" class=\"dataframe\">\n",
       "  <thead>\n",
       "    <tr style=\"text-align: right;\">\n",
       "      <th></th>\n",
       "      <th>Model</th>\n",
       "      <th>Linear Regression</th>\n",
       "      <th>Neural Networks</th>\n",
       "      <th>Trees</th>\n",
       "    </tr>\n",
       "  </thead>\n",
       "  <tbody>\n",
       "    <tr>\n",
       "      <th rowspan=\"8\" valign=\"top\">Dominated_Count</th>\n",
       "      <th>count</th>\n",
       "      <td>1.0</td>\n",
       "      <td>13.00</td>\n",
       "      <td>3.00</td>\n",
       "    </tr>\n",
       "    <tr>\n",
       "      <th>mean</th>\n",
       "      <td>2.0</td>\n",
       "      <td>7.77</td>\n",
       "      <td>3.33</td>\n",
       "    </tr>\n",
       "    <tr>\n",
       "      <th>std</th>\n",
       "      <td>NaN</td>\n",
       "      <td>5.40</td>\n",
       "      <td>3.21</td>\n",
       "    </tr>\n",
       "    <tr>\n",
       "      <th>min</th>\n",
       "      <td>2.0</td>\n",
       "      <td>0.00</td>\n",
       "      <td>1.00</td>\n",
       "    </tr>\n",
       "    <tr>\n",
       "      <th>25%</th>\n",
       "      <td>2.0</td>\n",
       "      <td>3.00</td>\n",
       "      <td>1.50</td>\n",
       "    </tr>\n",
       "    <tr>\n",
       "      <th>50%</th>\n",
       "      <td>2.0</td>\n",
       "      <td>7.00</td>\n",
       "      <td>2.00</td>\n",
       "    </tr>\n",
       "    <tr>\n",
       "      <th>75%</th>\n",
       "      <td>2.0</td>\n",
       "      <td>13.00</td>\n",
       "      <td>4.50</td>\n",
       "    </tr>\n",
       "    <tr>\n",
       "      <th>max</th>\n",
       "      <td>2.0</td>\n",
       "      <td>16.00</td>\n",
       "      <td>7.00</td>\n",
       "    </tr>\n",
       "    <tr>\n",
       "      <th rowspan=\"8\" valign=\"top\">Dominates_Count</th>\n",
       "      <th>count</th>\n",
       "      <td>1.0</td>\n",
       "      <td>13.00</td>\n",
       "      <td>3.00</td>\n",
       "    </tr>\n",
       "    <tr>\n",
       "      <th>mean</th>\n",
       "      <td>12.0</td>\n",
       "      <td>5.46</td>\n",
       "      <td>10.00</td>\n",
       "    </tr>\n",
       "    <tr>\n",
       "      <th>std</th>\n",
       "      <td>NaN</td>\n",
       "      <td>4.18</td>\n",
       "      <td>5.00</td>\n",
       "    </tr>\n",
       "    <tr>\n",
       "      <th>min</th>\n",
       "      <td>12.0</td>\n",
       "      <td>0.00</td>\n",
       "      <td>5.00</td>\n",
       "    </tr>\n",
       "    <tr>\n",
       "      <th>25%</th>\n",
       "      <td>12.0</td>\n",
       "      <td>2.00</td>\n",
       "      <td>7.50</td>\n",
       "    </tr>\n",
       "    <tr>\n",
       "      <th>50%</th>\n",
       "      <td>12.0</td>\n",
       "      <td>5.00</td>\n",
       "      <td>10.00</td>\n",
       "    </tr>\n",
       "    <tr>\n",
       "      <th>75%</th>\n",
       "      <td>12.0</td>\n",
       "      <td>7.00</td>\n",
       "      <td>12.50</td>\n",
       "    </tr>\n",
       "    <tr>\n",
       "      <th>max</th>\n",
       "      <td>12.0</td>\n",
       "      <td>16.00</td>\n",
       "      <td>15.00</td>\n",
       "    </tr>\n",
       "  </tbody>\n",
       "</table>\n",
       "</div>"
      ],
      "text/plain": [
       "Model                  Linear Regression  Neural Networks  Trees\n",
       "Dominated_Count count                1.0            13.00   3.00\n",
       "                mean                 2.0             7.77   3.33\n",
       "                std                  NaN             5.40   3.21\n",
       "                min                  2.0             0.00   1.00\n",
       "                25%                  2.0             3.00   1.50\n",
       "                50%                  2.0             7.00   2.00\n",
       "                75%                  2.0            13.00   4.50\n",
       "                max                  2.0            16.00   7.00\n",
       "Dominates_Count count                1.0            13.00   3.00\n",
       "                mean                12.0             5.46  10.00\n",
       "                std                  NaN             4.18   5.00\n",
       "                min                 12.0             0.00   5.00\n",
       "                25%                 12.0             2.00   7.50\n",
       "                50%                 12.0             5.00  10.00\n",
       "                75%                 12.0             7.00  12.50\n",
       "                max                 12.0            16.00  15.00"
      ]
     },
     "execution_count": 227,
     "metadata": {},
     "output_type": "execute_result"
    },
    {
     "data": {
      "application/javascript": [
       "\n",
       "            setTimeout(function() {\n",
       "                var nbb_cell_id = 227;\n",
       "                var nbb_unformatted_code = \"df_sorted_topo_models_cols.groupby(\\\"Model\\\").describe().round(2).T\";\n",
       "                var nbb_formatted_code = \"df_sorted_topo_models_cols.groupby(\\\"Model\\\").describe().round(2).T\";\n",
       "                var nbb_cells = Jupyter.notebook.get_cells();\n",
       "                for (var i = 0; i < nbb_cells.length; ++i) {\n",
       "                    if (nbb_cells[i].input_prompt_number == nbb_cell_id) {\n",
       "                        if (nbb_cells[i].get_text() == nbb_unformatted_code) {\n",
       "                             nbb_cells[i].set_text(nbb_formatted_code);\n",
       "                        }\n",
       "                        break;\n",
       "                    }\n",
       "                }\n",
       "            }, 500);\n",
       "            "
      ],
      "text/plain": [
       "<IPython.core.display.Javascript object>"
      ]
     },
     "metadata": {},
     "output_type": "display_data"
    }
   ],
   "source": [
    "df_sorted_topo_models_cols.groupby(\"Model\").describe().round(2).T"
   ]
  },
  {
   "cell_type": "code",
   "execution_count": 228,
   "id": "3575436a",
   "metadata": {},
   "outputs": [
    {
     "data": {
      "application/javascript": [
       "\n",
       "            setTimeout(function() {\n",
       "                var nbb_cell_id = 228;\n",
       "                var nbb_unformatted_code = \"# df_sorted_topo_models_cols\";\n",
       "                var nbb_formatted_code = \"# df_sorted_topo_models_cols\";\n",
       "                var nbb_cells = Jupyter.notebook.get_cells();\n",
       "                for (var i = 0; i < nbb_cells.length; ++i) {\n",
       "                    if (nbb_cells[i].input_prompt_number == nbb_cell_id) {\n",
       "                        if (nbb_cells[i].get_text() == nbb_unformatted_code) {\n",
       "                             nbb_cells[i].set_text(nbb_formatted_code);\n",
       "                        }\n",
       "                        break;\n",
       "                    }\n",
       "                }\n",
       "            }, 500);\n",
       "            "
      ],
      "text/plain": [
       "<IPython.core.display.Javascript object>"
      ]
     },
     "metadata": {},
     "output_type": "display_data"
    }
   ],
   "source": [
    "# df_sorted_topo_models_cols"
   ]
  },
  {
   "cell_type": "code",
   "execution_count": 229,
   "id": "f1d3e794",
   "metadata": {},
   "outputs": [
    {
     "data": {
      "text/html": [
       "<div>\n",
       "<style scoped>\n",
       "    .dataframe tbody tr th:only-of-type {\n",
       "        vertical-align: middle;\n",
       "    }\n",
       "\n",
       "    .dataframe tbody tr th {\n",
       "        vertical-align: top;\n",
       "    }\n",
       "\n",
       "    .dataframe thead th {\n",
       "        text-align: right;\n",
       "    }\n",
       "</style>\n",
       "<table border=\"1\" class=\"dataframe\">\n",
       "  <thead>\n",
       "    <tr style=\"text-align: right;\">\n",
       "      <th></th>\n",
       "      <th>count</th>\n",
       "      <th>unique</th>\n",
       "      <th>top</th>\n",
       "      <th>freq</th>\n",
       "    </tr>\n",
       "    <tr>\n",
       "      <th>Model</th>\n",
       "      <th></th>\n",
       "      <th></th>\n",
       "      <th></th>\n",
       "      <th></th>\n",
       "    </tr>\n",
       "  </thead>\n",
       "  <tbody>\n",
       "    <tr>\n",
       "      <th>Linear Regression</th>\n",
       "      <td>1</td>\n",
       "      <td>1</td>\n",
       "      <td>intermediate_model</td>\n",
       "      <td>1</td>\n",
       "    </tr>\n",
       "    <tr>\n",
       "      <th>Neural Networks</th>\n",
       "      <td>13</td>\n",
       "      <td>3</td>\n",
       "      <td>intermediate_model</td>\n",
       "      <td>11</td>\n",
       "    </tr>\n",
       "    <tr>\n",
       "      <th>Trees</th>\n",
       "      <td>3</td>\n",
       "      <td>1</td>\n",
       "      <td>intermediate_model</td>\n",
       "      <td>3</td>\n",
       "    </tr>\n",
       "  </tbody>\n",
       "</table>\n",
       "</div>"
      ],
      "text/plain": [
       "                  count unique                 top freq\n",
       "Model                                                  \n",
       "Linear Regression     1      1  intermediate_model    1\n",
       "Neural Networks      13      3  intermediate_model   11\n",
       "Trees                 3      1  intermediate_model    3"
      ]
     },
     "execution_count": 229,
     "metadata": {},
     "output_type": "execute_result"
    },
    {
     "data": {
      "application/javascript": [
       "\n",
       "            setTimeout(function() {\n",
       "                var nbb_cell_id = 229;\n",
       "                var nbb_unformatted_code = \"df_sorted_topo_models_cols.groupby(\\\"Model\\\")[\\\"Classification\\\"].describe()\";\n",
       "                var nbb_formatted_code = \"df_sorted_topo_models_cols.groupby(\\\"Model\\\")[\\\"Classification\\\"].describe()\";\n",
       "                var nbb_cells = Jupyter.notebook.get_cells();\n",
       "                for (var i = 0; i < nbb_cells.length; ++i) {\n",
       "                    if (nbb_cells[i].input_prompt_number == nbb_cell_id) {\n",
       "                        if (nbb_cells[i].get_text() == nbb_unformatted_code) {\n",
       "                             nbb_cells[i].set_text(nbb_formatted_code);\n",
       "                        }\n",
       "                        break;\n",
       "                    }\n",
       "                }\n",
       "            }, 500);\n",
       "            "
      ],
      "text/plain": [
       "<IPython.core.display.Javascript object>"
      ]
     },
     "metadata": {},
     "output_type": "display_data"
    }
   ],
   "source": [
    "df_sorted_topo_models_cols.groupby(\"Model\")[\"Classification\"].describe()"
   ]
  },
  {
   "cell_type": "code",
   "execution_count": 230,
   "id": "712db1dd",
   "metadata": {
    "scrolled": true
   },
   "outputs": [
    {
     "data": {
      "text/plain": [
       "Model              Classification    \n",
       "Linear Regression  intermediate_model     1\n",
       "Neural Networks    intermediate_model    11\n",
       "                   dominant_model         1\n",
       "                   non_dominant_model     1\n",
       "Trees              intermediate_model     3\n",
       "Name: count, dtype: int64"
      ]
     },
     "execution_count": 230,
     "metadata": {},
     "output_type": "execute_result"
    },
    {
     "data": {
      "application/javascript": [
       "\n",
       "            setTimeout(function() {\n",
       "                var nbb_cell_id = 230;\n",
       "                var nbb_unformatted_code = \"df_sorted_topo_models_cols.groupby(\\\"Model\\\")[[\\\"Classification\\\"]].value_counts()\";\n",
       "                var nbb_formatted_code = \"df_sorted_topo_models_cols.groupby(\\\"Model\\\")[[\\\"Classification\\\"]].value_counts()\";\n",
       "                var nbb_cells = Jupyter.notebook.get_cells();\n",
       "                for (var i = 0; i < nbb_cells.length; ++i) {\n",
       "                    if (nbb_cells[i].input_prompt_number == nbb_cell_id) {\n",
       "                        if (nbb_cells[i].get_text() == nbb_unformatted_code) {\n",
       "                             nbb_cells[i].set_text(nbb_formatted_code);\n",
       "                        }\n",
       "                        break;\n",
       "                    }\n",
       "                }\n",
       "            }, 500);\n",
       "            "
      ],
      "text/plain": [
       "<IPython.core.display.Javascript object>"
      ]
     },
     "metadata": {},
     "output_type": "display_data"
    }
   ],
   "source": [
    "df_sorted_topo_models_cols.groupby(\"Model\")[[\"Classification\"]].value_counts()"
   ]
  },
  {
   "cell_type": "code",
   "execution_count": 231,
   "id": "0b5ff11d",
   "metadata": {},
   "outputs": [
    {
     "data": {
      "application/javascript": [
       "\n",
       "            setTimeout(function() {\n",
       "                var nbb_cell_id = 231;\n",
       "                var nbb_unformatted_code = \"summary_stats = df_sorted_topo_models_cols.groupby(\\\"Model\\\").agg(\\n    Total_Models=(\\\"Model\\\", \\\"count\\\"),\\n    Mean_Dominance_Count=(\\\"Dominates_Count\\\", \\\"mean\\\"),\\n    Median_Dominance_Count=(\\\"Dominates_Count\\\", \\\"median\\\"),\\n    Total_Dominated=(\\\"Dominated_Count\\\", \\\"sum\\\"),\\n    Total_Dominating=(\\\"Dominates_Count\\\", \\\"sum\\\"),\\n)\\n\\ntotal_models = summary_stats[\\n    \\\"Total_Models\\\"\\n].sum()  # Get the total number of models across all categories\\nsummary_stats[\\\"Dominance Proportion\\\"] = summary_stats[\\\"Total_Dominating\\\"] / total_models\";\n",
       "                var nbb_formatted_code = \"summary_stats = df_sorted_topo_models_cols.groupby(\\\"Model\\\").agg(\\n    Total_Models=(\\\"Model\\\", \\\"count\\\"),\\n    Mean_Dominance_Count=(\\\"Dominates_Count\\\", \\\"mean\\\"),\\n    Median_Dominance_Count=(\\\"Dominates_Count\\\", \\\"median\\\"),\\n    Total_Dominated=(\\\"Dominated_Count\\\", \\\"sum\\\"),\\n    Total_Dominating=(\\\"Dominates_Count\\\", \\\"sum\\\"),\\n)\\n\\ntotal_models = summary_stats[\\n    \\\"Total_Models\\\"\\n].sum()  # Get the total number of models across all categories\\nsummary_stats[\\\"Dominance Proportion\\\"] = summary_stats[\\\"Total_Dominating\\\"] / total_models\";\n",
       "                var nbb_cells = Jupyter.notebook.get_cells();\n",
       "                for (var i = 0; i < nbb_cells.length; ++i) {\n",
       "                    if (nbb_cells[i].input_prompt_number == nbb_cell_id) {\n",
       "                        if (nbb_cells[i].get_text() == nbb_unformatted_code) {\n",
       "                             nbb_cells[i].set_text(nbb_formatted_code);\n",
       "                        }\n",
       "                        break;\n",
       "                    }\n",
       "                }\n",
       "            }, 500);\n",
       "            "
      ],
      "text/plain": [
       "<IPython.core.display.Javascript object>"
      ]
     },
     "metadata": {},
     "output_type": "display_data"
    }
   ],
   "source": [
    "summary_stats = df_sorted_topo_models_cols.groupby(\"Model\").agg(\n",
    "    Total_Models=(\"Model\", \"count\"),\n",
    "    Mean_Dominance_Count=(\"Dominates_Count\", \"mean\"),\n",
    "    Median_Dominance_Count=(\"Dominates_Count\", \"median\"),\n",
    "    Total_Dominated=(\"Dominated_Count\", \"sum\"),\n",
    "    Total_Dominating=(\"Dominates_Count\", \"sum\"),\n",
    ")\n",
    "\n",
    "total_models = summary_stats[\n",
    "    \"Total_Models\"\n",
    "].sum()  # Get the total number of models across all categories\n",
    "summary_stats[\"Dominance Proportion\"] = summary_stats[\"Total_Dominating\"] / total_models"
   ]
  },
  {
   "cell_type": "code",
   "execution_count": 232,
   "id": "f6e5922b",
   "metadata": {},
   "outputs": [
    {
     "data": {
      "text/html": [
       "<div>\n",
       "<style scoped>\n",
       "    .dataframe tbody tr th:only-of-type {\n",
       "        vertical-align: middle;\n",
       "    }\n",
       "\n",
       "    .dataframe tbody tr th {\n",
       "        vertical-align: top;\n",
       "    }\n",
       "\n",
       "    .dataframe thead th {\n",
       "        text-align: right;\n",
       "    }\n",
       "</style>\n",
       "<table border=\"1\" class=\"dataframe\">\n",
       "  <thead>\n",
       "    <tr style=\"text-align: right;\">\n",
       "      <th></th>\n",
       "      <th>Total_Models</th>\n",
       "      <th>Mean_Dominance_Count</th>\n",
       "      <th>Median_Dominance_Count</th>\n",
       "      <th>Total_Dominated</th>\n",
       "      <th>Total_Dominating</th>\n",
       "      <th>Dominance Proportion</th>\n",
       "    </tr>\n",
       "    <tr>\n",
       "      <th>Model</th>\n",
       "      <th></th>\n",
       "      <th></th>\n",
       "      <th></th>\n",
       "      <th></th>\n",
       "      <th></th>\n",
       "      <th></th>\n",
       "    </tr>\n",
       "  </thead>\n",
       "  <tbody>\n",
       "    <tr>\n",
       "      <th>Linear Regression</th>\n",
       "      <td>1</td>\n",
       "      <td>12.00</td>\n",
       "      <td>12.0</td>\n",
       "      <td>2</td>\n",
       "      <td>12</td>\n",
       "      <td>0.71</td>\n",
       "    </tr>\n",
       "    <tr>\n",
       "      <th>Neural Networks</th>\n",
       "      <td>13</td>\n",
       "      <td>5.46</td>\n",
       "      <td>5.0</td>\n",
       "      <td>101</td>\n",
       "      <td>71</td>\n",
       "      <td>4.18</td>\n",
       "    </tr>\n",
       "    <tr>\n",
       "      <th>Trees</th>\n",
       "      <td>3</td>\n",
       "      <td>10.00</td>\n",
       "      <td>10.0</td>\n",
       "      <td>10</td>\n",
       "      <td>30</td>\n",
       "      <td>1.76</td>\n",
       "    </tr>\n",
       "  </tbody>\n",
       "</table>\n",
       "</div>"
      ],
      "text/plain": [
       "                   Total_Models  Mean_Dominance_Count  Median_Dominance_Count  \\\n",
       "Model                                                                           \n",
       "Linear Regression             1                 12.00                    12.0   \n",
       "Neural Networks              13                  5.46                     5.0   \n",
       "Trees                         3                 10.00                    10.0   \n",
       "\n",
       "                   Total_Dominated  Total_Dominating  Dominance Proportion  \n",
       "Model                                                                       \n",
       "Linear Regression                2                12                  0.71  \n",
       "Neural Networks                101                71                  4.18  \n",
       "Trees                           10                30                  1.76  "
      ]
     },
     "execution_count": 232,
     "metadata": {},
     "output_type": "execute_result"
    },
    {
     "data": {
      "application/javascript": [
       "\n",
       "            setTimeout(function() {\n",
       "                var nbb_cell_id = 232;\n",
       "                var nbb_unformatted_code = \"summary_stats.round(2)\";\n",
       "                var nbb_formatted_code = \"summary_stats.round(2)\";\n",
       "                var nbb_cells = Jupyter.notebook.get_cells();\n",
       "                for (var i = 0; i < nbb_cells.length; ++i) {\n",
       "                    if (nbb_cells[i].input_prompt_number == nbb_cell_id) {\n",
       "                        if (nbb_cells[i].get_text() == nbb_unformatted_code) {\n",
       "                             nbb_cells[i].set_text(nbb_formatted_code);\n",
       "                        }\n",
       "                        break;\n",
       "                    }\n",
       "                }\n",
       "            }, 500);\n",
       "            "
      ],
      "text/plain": [
       "<IPython.core.display.Javascript object>"
      ]
     },
     "metadata": {},
     "output_type": "display_data"
    }
   ],
   "source": [
    "summary_stats.round(2)"
   ]
  },
  {
   "cell_type": "code",
   "execution_count": 233,
   "id": "ee025c81",
   "metadata": {},
   "outputs": [
    {
     "data": {
      "text/html": [
       "<div>\n",
       "<style scoped>\n",
       "    .dataframe tbody tr th:only-of-type {\n",
       "        vertical-align: middle;\n",
       "    }\n",
       "\n",
       "    .dataframe tbody tr th {\n",
       "        vertical-align: top;\n",
       "    }\n",
       "\n",
       "    .dataframe thead tr th {\n",
       "        text-align: left;\n",
       "    }\n",
       "\n",
       "    .dataframe thead tr:last-of-type th {\n",
       "        text-align: right;\n",
       "    }\n",
       "</style>\n",
       "<table border=\"1\" class=\"dataframe\">\n",
       "  <thead>\n",
       "    <tr>\n",
       "      <th></th>\n",
       "      <th colspan=\"8\" halign=\"left\">RMSE_mean</th>\n",
       "      <th colspan=\"2\" halign=\"left\">MAE_mean</th>\n",
       "      <th>...</th>\n",
       "      <th colspan=\"2\" halign=\"left\">Dominated_Count</th>\n",
       "      <th colspan=\"8\" halign=\"left\">Dominates_Count</th>\n",
       "    </tr>\n",
       "    <tr>\n",
       "      <th></th>\n",
       "      <th>count</th>\n",
       "      <th>mean</th>\n",
       "      <th>std</th>\n",
       "      <th>min</th>\n",
       "      <th>25%</th>\n",
       "      <th>50%</th>\n",
       "      <th>75%</th>\n",
       "      <th>max</th>\n",
       "      <th>count</th>\n",
       "      <th>mean</th>\n",
       "      <th>...</th>\n",
       "      <th>75%</th>\n",
       "      <th>max</th>\n",
       "      <th>count</th>\n",
       "      <th>mean</th>\n",
       "      <th>std</th>\n",
       "      <th>min</th>\n",
       "      <th>25%</th>\n",
       "      <th>50%</th>\n",
       "      <th>75%</th>\n",
       "      <th>max</th>\n",
       "    </tr>\n",
       "    <tr>\n",
       "      <th>Model</th>\n",
       "      <th></th>\n",
       "      <th></th>\n",
       "      <th></th>\n",
       "      <th></th>\n",
       "      <th></th>\n",
       "      <th></th>\n",
       "      <th></th>\n",
       "      <th></th>\n",
       "      <th></th>\n",
       "      <th></th>\n",
       "      <th></th>\n",
       "      <th></th>\n",
       "      <th></th>\n",
       "      <th></th>\n",
       "      <th></th>\n",
       "      <th></th>\n",
       "      <th></th>\n",
       "      <th></th>\n",
       "      <th></th>\n",
       "      <th></th>\n",
       "      <th></th>\n",
       "    </tr>\n",
       "  </thead>\n",
       "  <tbody>\n",
       "    <tr>\n",
       "      <th>Linear Regression</th>\n",
       "      <td>1.0</td>\n",
       "      <td>1.340192</td>\n",
       "      <td>NaN</td>\n",
       "      <td>1.340192</td>\n",
       "      <td>1.340192</td>\n",
       "      <td>1.340192</td>\n",
       "      <td>1.340192</td>\n",
       "      <td>1.340192</td>\n",
       "      <td>1.0</td>\n",
       "      <td>0.939599</td>\n",
       "      <td>...</td>\n",
       "      <td>2.0</td>\n",
       "      <td>2.0</td>\n",
       "      <td>1.0</td>\n",
       "      <td>12.000000</td>\n",
       "      <td>NaN</td>\n",
       "      <td>12.0</td>\n",
       "      <td>12.0</td>\n",
       "      <td>12.0</td>\n",
       "      <td>12.0</td>\n",
       "      <td>12.0</td>\n",
       "    </tr>\n",
       "    <tr>\n",
       "      <th>Neural Networks</th>\n",
       "      <td>13.0</td>\n",
       "      <td>5.042425</td>\n",
       "      <td>7.302956</td>\n",
       "      <td>1.003179</td>\n",
       "      <td>1.557244</td>\n",
       "      <td>1.841270</td>\n",
       "      <td>5.639155</td>\n",
       "      <td>28.173882</td>\n",
       "      <td>13.0</td>\n",
       "      <td>1.626674</td>\n",
       "      <td>...</td>\n",
       "      <td>13.0</td>\n",
       "      <td>16.0</td>\n",
       "      <td>13.0</td>\n",
       "      <td>5.461538</td>\n",
       "      <td>4.175631</td>\n",
       "      <td>0.0</td>\n",
       "      <td>2.0</td>\n",
       "      <td>5.0</td>\n",
       "      <td>7.0</td>\n",
       "      <td>16.0</td>\n",
       "    </tr>\n",
       "    <tr>\n",
       "      <th>Trees</th>\n",
       "      <td>3.0</td>\n",
       "      <td>1.261562</td>\n",
       "      <td>0.264914</td>\n",
       "      <td>1.065037</td>\n",
       "      <td>1.110926</td>\n",
       "      <td>1.156814</td>\n",
       "      <td>1.359824</td>\n",
       "      <td>1.562834</td>\n",
       "      <td>3.0</td>\n",
       "      <td>0.993102</td>\n",
       "      <td>...</td>\n",
       "      <td>4.5</td>\n",
       "      <td>7.0</td>\n",
       "      <td>3.0</td>\n",
       "      <td>10.000000</td>\n",
       "      <td>5.000000</td>\n",
       "      <td>5.0</td>\n",
       "      <td>7.5</td>\n",
       "      <td>10.0</td>\n",
       "      <td>12.5</td>\n",
       "      <td>15.0</td>\n",
       "    </tr>\n",
       "  </tbody>\n",
       "</table>\n",
       "<p>3 rows × 56 columns</p>\n",
       "</div>"
      ],
      "text/plain": [
       "                  RMSE_mean                                                    \\\n",
       "                      count      mean       std       min       25%       50%   \n",
       "Model                                                                           \n",
       "Linear Regression       1.0  1.340192       NaN  1.340192  1.340192  1.340192   \n",
       "Neural Networks        13.0  5.042425  7.302956  1.003179  1.557244  1.841270   \n",
       "Trees                   3.0  1.261562  0.264914  1.065037  1.110926  1.156814   \n",
       "\n",
       "                                       MAE_mean            ...  \\\n",
       "                        75%        max    count      mean  ...   \n",
       "Model                                                      ...   \n",
       "Linear Regression  1.340192   1.340192      1.0  0.939599  ...   \n",
       "Neural Networks    5.639155  28.173882     13.0  1.626674  ...   \n",
       "Trees              1.359824   1.562834      3.0  0.993102  ...   \n",
       "\n",
       "                  Dominated_Count       Dominates_Count                       \\\n",
       "                              75%   max           count       mean       std   \n",
       "Model                                                                          \n",
       "Linear Regression             2.0   2.0             1.0  12.000000       NaN   \n",
       "Neural Networks              13.0  16.0            13.0   5.461538  4.175631   \n",
       "Trees                         4.5   7.0             3.0  10.000000  5.000000   \n",
       "\n",
       "                                                 \n",
       "                    min   25%   50%   75%   max  \n",
       "Model                                            \n",
       "Linear Regression  12.0  12.0  12.0  12.0  12.0  \n",
       "Neural Networks     0.0   2.0   5.0   7.0  16.0  \n",
       "Trees               5.0   7.5  10.0  12.5  15.0  \n",
       "\n",
       "[3 rows x 56 columns]"
      ]
     },
     "execution_count": 233,
     "metadata": {},
     "output_type": "execute_result"
    },
    {
     "data": {
      "application/javascript": [
       "\n",
       "            setTimeout(function() {\n",
       "                var nbb_cell_id = 233;\n",
       "                var nbb_unformatted_code = \"df_sorted_topo_models_grouped.T\";\n",
       "                var nbb_formatted_code = \"df_sorted_topo_models_grouped.T\";\n",
       "                var nbb_cells = Jupyter.notebook.get_cells();\n",
       "                for (var i = 0; i < nbb_cells.length; ++i) {\n",
       "                    if (nbb_cells[i].input_prompt_number == nbb_cell_id) {\n",
       "                        if (nbb_cells[i].get_text() == nbb_unformatted_code) {\n",
       "                             nbb_cells[i].set_text(nbb_formatted_code);\n",
       "                        }\n",
       "                        break;\n",
       "                    }\n",
       "                }\n",
       "            }, 500);\n",
       "            "
      ],
      "text/plain": [
       "<IPython.core.display.Javascript object>"
      ]
     },
     "metadata": {},
     "output_type": "display_data"
    }
   ],
   "source": [
    "df_sorted_topo_models_grouped.T"
   ]
  },
  {
   "cell_type": "markdown",
   "id": "de8e77ed",
   "metadata": {},
   "source": [
    "### SCPM Analysis"
   ]
  },
  {
   "cell_type": "code",
   "execution_count": 234,
   "id": "0870b4da",
   "metadata": {},
   "outputs": [
    {
     "data": {
      "application/javascript": [
       "\n",
       "            setTimeout(function() {\n",
       "                var nbb_cell_id = 234;\n",
       "                var nbb_unformatted_code = \"cols = [\\n    # \\\"Model\\\",\\n    # \\\"Model_bkp\\\",\\n    \\\"Model_bkp_2\\\",\\n    \\\"RMSE_mean\\\",\\n    \\\"MAE_mean\\\",\\n    \\\"MAPE_mean\\\",\\n    \\\"R2_mean\\\",\\n    \\\"SCPM\\\",\\n    \\\"Dominated_Count\\\",\\n    \\\"Dominates_Count\\\",\\n    \\\"Classification\\\",\\n    \\\"Plant\\\",\\n]\";\n",
       "                var nbb_formatted_code = \"cols = [\\n    # \\\"Model\\\",\\n    # \\\"Model_bkp\\\",\\n    \\\"Model_bkp_2\\\",\\n    \\\"RMSE_mean\\\",\\n    \\\"MAE_mean\\\",\\n    \\\"MAPE_mean\\\",\\n    \\\"R2_mean\\\",\\n    \\\"SCPM\\\",\\n    \\\"Dominated_Count\\\",\\n    \\\"Dominates_Count\\\",\\n    \\\"Classification\\\",\\n    \\\"Plant\\\",\\n]\";\n",
       "                var nbb_cells = Jupyter.notebook.get_cells();\n",
       "                for (var i = 0; i < nbb_cells.length; ++i) {\n",
       "                    if (nbb_cells[i].input_prompt_number == nbb_cell_id) {\n",
       "                        if (nbb_cells[i].get_text() == nbb_unformatted_code) {\n",
       "                             nbb_cells[i].set_text(nbb_formatted_code);\n",
       "                        }\n",
       "                        break;\n",
       "                    }\n",
       "                }\n",
       "            }, 500);\n",
       "            "
      ],
      "text/plain": [
       "<IPython.core.display.Javascript object>"
      ]
     },
     "metadata": {},
     "output_type": "display_data"
    }
   ],
   "source": [
    "cols = [\n",
    "    # \"Model\",\n",
    "    # \"Model_bkp\",\n",
    "    \"Model_bkp_2\",\n",
    "    \"RMSE_mean\",\n",
    "    \"MAE_mean\",\n",
    "    \"MAPE_mean\",\n",
    "    \"R2_mean\",\n",
    "    \"SCPM\",\n",
    "    \"Dominated_Count\",\n",
    "    \"Dominates_Count\",\n",
    "    \"Classification\",\n",
    "    \"Plant\",\n",
    "]"
   ]
  },
  {
   "cell_type": "markdown",
   "id": "b73d582b",
   "metadata": {},
   "source": [
    "#### SCPM Analysis by Project"
   ]
  },
  {
   "cell_type": "code",
   "execution_count": 235,
   "id": "0bb4ff19",
   "metadata": {},
   "outputs": [
    {
     "data": {
      "application/javascript": [
       "\n",
       "            setTimeout(function() {\n",
       "                var nbb_cell_id = 235;\n",
       "                var nbb_unformatted_code = \"df_sorted_scpm = df_sorted_topo.sort_values(by=\\\"SCPM\\\").copy()\";\n",
       "                var nbb_formatted_code = \"df_sorted_scpm = df_sorted_topo.sort_values(by=\\\"SCPM\\\").copy()\";\n",
       "                var nbb_cells = Jupyter.notebook.get_cells();\n",
       "                for (var i = 0; i < nbb_cells.length; ++i) {\n",
       "                    if (nbb_cells[i].input_prompt_number == nbb_cell_id) {\n",
       "                        if (nbb_cells[i].get_text() == nbb_unformatted_code) {\n",
       "                             nbb_cells[i].set_text(nbb_formatted_code);\n",
       "                        }\n",
       "                        break;\n",
       "                    }\n",
       "                }\n",
       "            }, 500);\n",
       "            "
      ],
      "text/plain": [
       "<IPython.core.display.Javascript object>"
      ]
     },
     "metadata": {},
     "output_type": "display_data"
    }
   ],
   "source": [
    "df_sorted_scpm = df_sorted_topo.sort_values(by=\"SCPM\").copy()"
   ]
  },
  {
   "cell_type": "code",
   "execution_count": 236,
   "id": "8f441a4c",
   "metadata": {
    "scrolled": false
   },
   "outputs": [
    {
     "data": {
      "application/javascript": [
       "\n",
       "            setTimeout(function() {\n",
       "                var nbb_cell_id = 236;\n",
       "                var nbb_unformatted_code = \"# (df_sorted_topo[cols].reset_index() == df_sorted_scpm[cols].reset_index()).all(axis=1)\\ndf_sorted_scpm[\\\"topo_scmp_order_eq\\\"] = df_sorted_topo.index == df_sorted_scpm.index\";\n",
       "                var nbb_formatted_code = \"# (df_sorted_topo[cols].reset_index() == df_sorted_scpm[cols].reset_index()).all(axis=1)\\ndf_sorted_scpm[\\\"topo_scmp_order_eq\\\"] = df_sorted_topo.index == df_sorted_scpm.index\";\n",
       "                var nbb_cells = Jupyter.notebook.get_cells();\n",
       "                for (var i = 0; i < nbb_cells.length; ++i) {\n",
       "                    if (nbb_cells[i].input_prompt_number == nbb_cell_id) {\n",
       "                        if (nbb_cells[i].get_text() == nbb_unformatted_code) {\n",
       "                             nbb_cells[i].set_text(nbb_formatted_code);\n",
       "                        }\n",
       "                        break;\n",
       "                    }\n",
       "                }\n",
       "            }, 500);\n",
       "            "
      ],
      "text/plain": [
       "<IPython.core.display.Javascript object>"
      ]
     },
     "metadata": {},
     "output_type": "display_data"
    }
   ],
   "source": [
    "# (df_sorted_topo[cols].reset_index() == df_sorted_scpm[cols].reset_index()).all(axis=1)\n",
    "df_sorted_scpm[\"topo_scmp_order_eq\"] = df_sorted_topo.index == df_sorted_scpm.index"
   ]
  },
  {
   "cell_type": "code",
   "execution_count": 237,
   "id": "e6855225",
   "metadata": {
    "scrolled": false
   },
   "outputs": [
    {
     "data": {
      "text/html": [
       "<div>\n",
       "<style scoped>\n",
       "    .dataframe tbody tr th:only-of-type {\n",
       "        vertical-align: middle;\n",
       "    }\n",
       "\n",
       "    .dataframe tbody tr th {\n",
       "        vertical-align: top;\n",
       "    }\n",
       "\n",
       "    .dataframe thead th {\n",
       "        text-align: right;\n",
       "    }\n",
       "</style>\n",
       "<table border=\"1\" class=\"dataframe\">\n",
       "  <thead>\n",
       "    <tr style=\"text-align: right;\">\n",
       "      <th></th>\n",
       "      <th>Model_bkp_2</th>\n",
       "      <th>RMSE_mean</th>\n",
       "      <th>MAE_mean</th>\n",
       "      <th>MAPE_mean</th>\n",
       "      <th>R2_mean</th>\n",
       "      <th>SCPM</th>\n",
       "      <th>Dominated_Count</th>\n",
       "      <th>Dominates_Count</th>\n",
       "      <th>Classification</th>\n",
       "      <th>Plant</th>\n",
       "      <th>topo_scmp_order_eq</th>\n",
       "    </tr>\n",
       "  </thead>\n",
       "  <tbody>\n",
       "    <tr>\n",
       "      <th>3</th>\n",
       "      <td>Transformer_1.0</td>\n",
       "      <td>1.00</td>\n",
       "      <td>0.78</td>\n",
       "      <td>1.87</td>\n",
       "      <td>0.97</td>\n",
       "      <td>-1.97</td>\n",
       "      <td>0</td>\n",
       "      <td>16</td>\n",
       "      <td>dominant_model</td>\n",
       "      <td>c</td>\n",
       "      <td>True</td>\n",
       "    </tr>\n",
       "    <tr>\n",
       "      <th>12</th>\n",
       "      <td>Decision Tree</td>\n",
       "      <td>1.07</td>\n",
       "      <td>0.86</td>\n",
       "      <td>2.05</td>\n",
       "      <td>0.97</td>\n",
       "      <td>-1.83</td>\n",
       "      <td>1</td>\n",
       "      <td>15</td>\n",
       "      <td>intermediate_model</td>\n",
       "      <td>c</td>\n",
       "      <td>True</td>\n",
       "    </tr>\n",
       "    <tr>\n",
       "      <th>13</th>\n",
       "      <td>Linear Regression</td>\n",
       "      <td>1.34</td>\n",
       "      <td>0.94</td>\n",
       "      <td>2.18</td>\n",
       "      <td>0.95</td>\n",
       "      <td>-1.66</td>\n",
       "      <td>2</td>\n",
       "      <td>12</td>\n",
       "      <td>intermediate_model</td>\n",
       "      <td>c</td>\n",
       "      <td>False</td>\n",
       "    </tr>\n",
       "    <tr>\n",
       "      <th>15</th>\n",
       "      <td>Random Forest</td>\n",
       "      <td>1.16</td>\n",
       "      <td>0.96</td>\n",
       "      <td>2.29</td>\n",
       "      <td>0.96</td>\n",
       "      <td>-1.63</td>\n",
       "      <td>2</td>\n",
       "      <td>10</td>\n",
       "      <td>intermediate_model</td>\n",
       "      <td>c</td>\n",
       "      <td>False</td>\n",
       "    </tr>\n",
       "    <tr>\n",
       "      <th>1</th>\n",
       "      <td>GRU_1.0</td>\n",
       "      <td>1.84</td>\n",
       "      <td>0.91</td>\n",
       "      <td>2.12</td>\n",
       "      <td>0.90</td>\n",
       "      <td>-1.62</td>\n",
       "      <td>2</td>\n",
       "      <td>6</td>\n",
       "      <td>intermediate_model</td>\n",
       "      <td>c</td>\n",
       "      <td>False</td>\n",
       "    </tr>\n",
       "  </tbody>\n",
       "</table>\n",
       "</div>"
      ],
      "text/plain": [
       "          Model_bkp_2  RMSE_mean  MAE_mean  MAPE_mean  R2_mean  SCPM  \\\n",
       "3     Transformer_1.0       1.00      0.78       1.87     0.97 -1.97   \n",
       "12      Decision Tree       1.07      0.86       2.05     0.97 -1.83   \n",
       "13  Linear Regression       1.34      0.94       2.18     0.95 -1.66   \n",
       "15      Random Forest       1.16      0.96       2.29     0.96 -1.63   \n",
       "1             GRU_1.0       1.84      0.91       2.12     0.90 -1.62   \n",
       "\n",
       "    Dominated_Count  Dominates_Count      Classification Plant  \\\n",
       "3                 0               16      dominant_model     c   \n",
       "12                1               15  intermediate_model     c   \n",
       "13                2               12  intermediate_model     c   \n",
       "15                2               10  intermediate_model     c   \n",
       "1                 2                6  intermediate_model     c   \n",
       "\n",
       "    topo_scmp_order_eq  \n",
       "3                 True  \n",
       "12                True  \n",
       "13               False  \n",
       "15               False  \n",
       "1                False  "
      ]
     },
     "execution_count": 237,
     "metadata": {},
     "output_type": "execute_result"
    },
    {
     "data": {
      "application/javascript": [
       "\n",
       "            setTimeout(function() {\n",
       "                var nbb_cell_id = 237;\n",
       "                var nbb_unformatted_code = \"df_sorted_scpm[cols + [\\\"topo_scmp_order_eq\\\"]].round(2).head(5)\";\n",
       "                var nbb_formatted_code = \"df_sorted_scpm[cols + [\\\"topo_scmp_order_eq\\\"]].round(2).head(5)\";\n",
       "                var nbb_cells = Jupyter.notebook.get_cells();\n",
       "                for (var i = 0; i < nbb_cells.length; ++i) {\n",
       "                    if (nbb_cells[i].input_prompt_number == nbb_cell_id) {\n",
       "                        if (nbb_cells[i].get_text() == nbb_unformatted_code) {\n",
       "                             nbb_cells[i].set_text(nbb_formatted_code);\n",
       "                        }\n",
       "                        break;\n",
       "                    }\n",
       "                }\n",
       "            }, 500);\n",
       "            "
      ],
      "text/plain": [
       "<IPython.core.display.Javascript object>"
      ]
     },
     "metadata": {},
     "output_type": "display_data"
    }
   ],
   "source": [
    "df_sorted_scpm[cols + [\"topo_scmp_order_eq\"]].round(2).head(5)"
   ]
  },
  {
   "cell_type": "code",
   "execution_count": null,
   "id": "78af5f4b",
   "metadata": {},
   "outputs": [],
   "source": []
  }
 ],
 "metadata": {
  "kernelspec": {
   "display_name": "ccs28-venv",
   "language": "python",
   "name": "ccs28-venv"
  },
  "language_info": {
   "codemirror_mode": {
    "name": "ipython",
    "version": 3
   },
   "file_extension": ".py",
   "mimetype": "text/x-python",
   "name": "python",
   "nbconvert_exporter": "python",
   "pygments_lexer": "ipython3",
   "version": "3.10.12"
  }
 },
 "nbformat": 4,
 "nbformat_minor": 5
}
