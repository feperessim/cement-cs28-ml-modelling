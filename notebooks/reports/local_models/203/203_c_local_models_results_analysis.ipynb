{
 "cells": [
  {
   "cell_type": "code",
   "execution_count": 1,
   "id": "14b4fe5a",
   "metadata": {},
   "outputs": [
    {
     "data": {
      "application/javascript": [
       "\n",
       "            setTimeout(function() {\n",
       "                var nbb_cell_id = 1;\n",
       "                var nbb_unformatted_code = \"%load_ext nb_black\";\n",
       "                var nbb_formatted_code = \"%load_ext nb_black\";\n",
       "                var nbb_cells = Jupyter.notebook.get_cells();\n",
       "                for (var i = 0; i < nbb_cells.length; ++i) {\n",
       "                    if (nbb_cells[i].input_prompt_number == nbb_cell_id) {\n",
       "                        if (nbb_cells[i].get_text() == nbb_unformatted_code) {\n",
       "                             nbb_cells[i].set_text(nbb_formatted_code);\n",
       "                        }\n",
       "                        break;\n",
       "                    }\n",
       "                }\n",
       "            }, 500);\n",
       "            "
      ],
      "text/plain": [
       "<IPython.core.display.Javascript object>"
      ]
     },
     "metadata": {},
     "output_type": "display_data"
    }
   ],
   "source": [
    "%load_ext nb_black"
   ]
  },
  {
   "cell_type": "code",
   "execution_count": 2,
   "id": "6a4d72e6",
   "metadata": {},
   "outputs": [
    {
     "data": {
      "application/javascript": [
       "\n",
       "            setTimeout(function() {\n",
       "                var nbb_cell_id = 2;\n",
       "                var nbb_unformatted_code = \"import os\\nimport glob\\nfrom collections import deque, defaultdict\\nimport pandas as pd\\nimport numpy as np\";\n",
       "                var nbb_formatted_code = \"import os\\nimport glob\\nfrom collections import deque, defaultdict\\nimport pandas as pd\\nimport numpy as np\";\n",
       "                var nbb_cells = Jupyter.notebook.get_cells();\n",
       "                for (var i = 0; i < nbb_cells.length; ++i) {\n",
       "                    if (nbb_cells[i].input_prompt_number == nbb_cell_id) {\n",
       "                        if (nbb_cells[i].get_text() == nbb_unformatted_code) {\n",
       "                             nbb_cells[i].set_text(nbb_formatted_code);\n",
       "                        }\n",
       "                        break;\n",
       "                    }\n",
       "                }\n",
       "            }, 500);\n",
       "            "
      ],
      "text/plain": [
       "<IPython.core.display.Javascript object>"
      ]
     },
     "metadata": {},
     "output_type": "display_data"
    }
   ],
   "source": [
    "import os\n",
    "import glob\n",
    "from collections import deque, defaultdict\n",
    "import pandas as pd\n",
    "import numpy as np"
   ]
  },
  {
   "cell_type": "code",
   "execution_count": 3,
   "id": "266bcc91",
   "metadata": {},
   "outputs": [
    {
     "data": {
      "application/javascript": [
       "\n",
       "            setTimeout(function() {\n",
       "                var nbb_cell_id = 3;\n",
       "                var nbb_unformatted_code = \"import warnings\\n\\n# Suppress specific FutureWarning\\nwarnings.filterwarnings(\\\"ignore\\\", category=FutureWarning, module=\\\"seaborn._oldcore\\\")\";\n",
       "                var nbb_formatted_code = \"import warnings\\n\\n# Suppress specific FutureWarning\\nwarnings.filterwarnings(\\\"ignore\\\", category=FutureWarning, module=\\\"seaborn._oldcore\\\")\";\n",
       "                var nbb_cells = Jupyter.notebook.get_cells();\n",
       "                for (var i = 0; i < nbb_cells.length; ++i) {\n",
       "                    if (nbb_cells[i].input_prompt_number == nbb_cell_id) {\n",
       "                        if (nbb_cells[i].get_text() == nbb_unformatted_code) {\n",
       "                             nbb_cells[i].set_text(nbb_formatted_code);\n",
       "                        }\n",
       "                        break;\n",
       "                    }\n",
       "                }\n",
       "            }, 500);\n",
       "            "
      ],
      "text/plain": [
       "<IPython.core.display.Javascript object>"
      ]
     },
     "metadata": {},
     "output_type": "display_data"
    }
   ],
   "source": [
    "import warnings\n",
    "\n",
    "# Suppress specific FutureWarning\n",
    "warnings.filterwarnings(\"ignore\", category=FutureWarning, module=\"seaborn._oldcore\")\n"
   ]
  },
  {
   "cell_type": "code",
   "execution_count": 4,
   "id": "beacfb8e",
   "metadata": {},
   "outputs": [
    {
     "data": {
      "application/javascript": [
       "\n",
       "            setTimeout(function() {\n",
       "                var nbb_cell_id = 4;\n",
       "                var nbb_unformatted_code = \"import matplotlib.pyplot as plt\\nimport seaborn as sns\";\n",
       "                var nbb_formatted_code = \"import matplotlib.pyplot as plt\\nimport seaborn as sns\";\n",
       "                var nbb_cells = Jupyter.notebook.get_cells();\n",
       "                for (var i = 0; i < nbb_cells.length; ++i) {\n",
       "                    if (nbb_cells[i].input_prompt_number == nbb_cell_id) {\n",
       "                        if (nbb_cells[i].get_text() == nbb_unformatted_code) {\n",
       "                             nbb_cells[i].set_text(nbb_formatted_code);\n",
       "                        }\n",
       "                        break;\n",
       "                    }\n",
       "                }\n",
       "            }, 500);\n",
       "            "
      ],
      "text/plain": [
       "<IPython.core.display.Javascript object>"
      ]
     },
     "metadata": {},
     "output_type": "display_data"
    }
   ],
   "source": [
    "import matplotlib.pyplot as plt\n",
    "import seaborn as sns"
   ]
  },
  {
   "cell_type": "code",
   "execution_count": 5,
   "id": "b478134e",
   "metadata": {},
   "outputs": [
    {
     "data": {
      "application/javascript": [
       "\n",
       "            setTimeout(function() {\n",
       "                var nbb_cell_id = 5;\n",
       "                var nbb_unformatted_code = \"from sklearn.preprocessing import StandardScaler\";\n",
       "                var nbb_formatted_code = \"from sklearn.preprocessing import StandardScaler\";\n",
       "                var nbb_cells = Jupyter.notebook.get_cells();\n",
       "                for (var i = 0; i < nbb_cells.length; ++i) {\n",
       "                    if (nbb_cells[i].input_prompt_number == nbb_cell_id) {\n",
       "                        if (nbb_cells[i].get_text() == nbb_unformatted_code) {\n",
       "                             nbb_cells[i].set_text(nbb_formatted_code);\n",
       "                        }\n",
       "                        break;\n",
       "                    }\n",
       "                }\n",
       "            }, 500);\n",
       "            "
      ],
      "text/plain": [
       "<IPython.core.display.Javascript object>"
      ]
     },
     "metadata": {},
     "output_type": "display_data"
    }
   ],
   "source": [
    "from sklearn.preprocessing import StandardScaler"
   ]
  },
  {
   "cell_type": "code",
   "execution_count": 6,
   "id": "761bc49d",
   "metadata": {},
   "outputs": [
    {
     "data": {
      "application/javascript": [
       "\n",
       "            setTimeout(function() {\n",
       "                var nbb_cell_id = 6;\n",
       "                var nbb_unformatted_code = \"def read_csv_files_grouped(csv_files, plant, header=[0, 1]):\\n    results = []\\n    for filepath in csv_files:\\n        df = pd.read_csv(filepath, header=header, low_memory=False)\\n        df[\\\"plant\\\"] = plant  # Add the 'plant' column\\n        results.append(df)\\n    df = pd.concat(results, ignore_index=True)\\n    return df\";\n",
       "                var nbb_formatted_code = \"def read_csv_files_grouped(csv_files, plant, header=[0, 1]):\\n    results = []\\n    for filepath in csv_files:\\n        df = pd.read_csv(filepath, header=header, low_memory=False)\\n        df[\\\"plant\\\"] = plant  # Add the 'plant' column\\n        results.append(df)\\n    df = pd.concat(results, ignore_index=True)\\n    return df\";\n",
       "                var nbb_cells = Jupyter.notebook.get_cells();\n",
       "                for (var i = 0; i < nbb_cells.length; ++i) {\n",
       "                    if (nbb_cells[i].input_prompt_number == nbb_cell_id) {\n",
       "                        if (nbb_cells[i].get_text() == nbb_unformatted_code) {\n",
       "                             nbb_cells[i].set_text(nbb_formatted_code);\n",
       "                        }\n",
       "                        break;\n",
       "                    }\n",
       "                }\n",
       "            }, 500);\n",
       "            "
      ],
      "text/plain": [
       "<IPython.core.display.Javascript object>"
      ]
     },
     "metadata": {},
     "output_type": "display_data"
    }
   ],
   "source": [
    "def read_csv_files_grouped(csv_files, plant, header=[0, 1]):\n",
    "    results = []\n",
    "    for filepath in csv_files:\n",
    "        df = pd.read_csv(filepath, header=header, low_memory=False)\n",
    "        df[\"plant\"] = plant  # Add the 'plant' column\n",
    "        results.append(df)\n",
    "    df = pd.concat(results, ignore_index=True)\n",
    "    return df"
   ]
  },
  {
   "cell_type": "code",
   "execution_count": 7,
   "id": "96025481",
   "metadata": {},
   "outputs": [
    {
     "data": {
      "application/javascript": [
       "\n",
       "            setTimeout(function() {\n",
       "                var nbb_cell_id = 7;\n",
       "                var nbb_unformatted_code = \"def read_csv_files_full(csv_files, plant):\\n    results = []\\n    for filepath in csv_files:\\n        df = pd.read_csv(filepath, low_memory=False)\\n        df[\\\"plant\\\"] = plant  # Add the 'plant' column\\n        results.append(df)\\n    df = pd.concat(results, ignore_index=True)\\n    return df\";\n",
       "                var nbb_formatted_code = \"def read_csv_files_full(csv_files, plant):\\n    results = []\\n    for filepath in csv_files:\\n        df = pd.read_csv(filepath, low_memory=False)\\n        df[\\\"plant\\\"] = plant  # Add the 'plant' column\\n        results.append(df)\\n    df = pd.concat(results, ignore_index=True)\\n    return df\";\n",
       "                var nbb_cells = Jupyter.notebook.get_cells();\n",
       "                for (var i = 0; i < nbb_cells.length; ++i) {\n",
       "                    if (nbb_cells[i].input_prompt_number == nbb_cell_id) {\n",
       "                        if (nbb_cells[i].get_text() == nbb_unformatted_code) {\n",
       "                             nbb_cells[i].set_text(nbb_formatted_code);\n",
       "                        }\n",
       "                        break;\n",
       "                    }\n",
       "                }\n",
       "            }, 500);\n",
       "            "
      ],
      "text/plain": [
       "<IPython.core.display.Javascript object>"
      ]
     },
     "metadata": {},
     "output_type": "display_data"
    }
   ],
   "source": [
    "def read_csv_files_full(csv_files, plant):\n",
    "    results = []\n",
    "    for filepath in csv_files:\n",
    "        df = pd.read_csv(filepath, low_memory=False)\n",
    "        df[\"plant\"] = plant  # Add the 'plant' column\n",
    "        results.append(df)\n",
    "    df = pd.concat(results, ignore_index=True)\n",
    "    return df"
   ]
  },
  {
   "cell_type": "markdown",
   "id": "1ce03b12",
   "metadata": {},
   "source": [
    "### Renaming the Columns"
   ]
  },
  {
   "cell_type": "code",
   "execution_count": 8,
   "id": "eea580dc",
   "metadata": {},
   "outputs": [
    {
     "data": {
      "application/javascript": [
       "\n",
       "            setTimeout(function() {\n",
       "                var nbb_cell_id = 8;\n",
       "                var nbb_unformatted_code = \"def preprocess_rename_columns(df):\\n    df.columns = pd.MultiIndex.from_tuples(\\n        list(\\n            {\\n                col: (col[0], \\\"\\\") if \\\"Unnamed\\\" in col[1] else col for col in df.columns\\n            }.values()\\n        )\\n    )\\n    return df\";\n",
       "                var nbb_formatted_code = \"def preprocess_rename_columns(df):\\n    df.columns = pd.MultiIndex.from_tuples(\\n        list(\\n            {\\n                col: (col[0], \\\"\\\") if \\\"Unnamed\\\" in col[1] else col for col in df.columns\\n            }.values()\\n        )\\n    )\\n    return df\";\n",
       "                var nbb_cells = Jupyter.notebook.get_cells();\n",
       "                for (var i = 0; i < nbb_cells.length; ++i) {\n",
       "                    if (nbb_cells[i].input_prompt_number == nbb_cell_id) {\n",
       "                        if (nbb_cells[i].get_text() == nbb_unformatted_code) {\n",
       "                             nbb_cells[i].set_text(nbb_formatted_code);\n",
       "                        }\n",
       "                        break;\n",
       "                    }\n",
       "                }\n",
       "            }, 500);\n",
       "            "
      ],
      "text/plain": [
       "<IPython.core.display.Javascript object>"
      ]
     },
     "metadata": {},
     "output_type": "display_data"
    }
   ],
   "source": [
    "def preprocess_rename_columns(df):\n",
    "    df.columns = pd.MultiIndex.from_tuples(\n",
    "        list(\n",
    "            {\n",
    "                col: (col[0], \"\") if \"Unnamed\" in col[1] else col for col in df.columns\n",
    "            }.values()\n",
    "        )\n",
    "    )\n",
    "    return df"
   ]
  },
  {
   "cell_type": "markdown",
   "id": "593dadae",
   "metadata": {},
   "source": [
    "### Changing the order_of columns Columns"
   ]
  },
  {
   "cell_type": "code",
   "execution_count": 9,
   "id": "c84b6255",
   "metadata": {},
   "outputs": [
    {
     "data": {
      "application/javascript": [
       "\n",
       "            setTimeout(function() {\n",
       "                var nbb_cell_id = 9;\n",
       "                var nbb_unformatted_code = \"def preprocess_change_columns_order(df, column, pos):\\n    # Get the list of columns\\n    cols = df.columns.tolist()\\n    # Remove the specified column\\n    cols.remove(column)\\n    # Insert the column at the desired position\\n    cols.insert(pos, column)\\n    # Reorder the DataFrame columns\\n    return df[cols]\";\n",
       "                var nbb_formatted_code = \"def preprocess_change_columns_order(df, column, pos):\\n    # Get the list of columns\\n    cols = df.columns.tolist()\\n    # Remove the specified column\\n    cols.remove(column)\\n    # Insert the column at the desired position\\n    cols.insert(pos, column)\\n    # Reorder the DataFrame columns\\n    return df[cols]\";\n",
       "                var nbb_cells = Jupyter.notebook.get_cells();\n",
       "                for (var i = 0; i < nbb_cells.length; ++i) {\n",
       "                    if (nbb_cells[i].input_prompt_number == nbb_cell_id) {\n",
       "                        if (nbb_cells[i].get_text() == nbb_unformatted_code) {\n",
       "                             nbb_cells[i].set_text(nbb_formatted_code);\n",
       "                        }\n",
       "                        break;\n",
       "                    }\n",
       "                }\n",
       "            }, 500);\n",
       "            "
      ],
      "text/plain": [
       "<IPython.core.display.Javascript object>"
      ]
     },
     "metadata": {},
     "output_type": "display_data"
    }
   ],
   "source": [
    "def preprocess_change_columns_order(df, column, pos):\n",
    "    # Get the list of columns\n",
    "    cols = df.columns.tolist()\n",
    "    # Remove the specified column\n",
    "    cols.remove(column)\n",
    "    # Insert the column at the desired position\n",
    "    cols.insert(pos, column)\n",
    "    # Reorder the DataFrame columns\n",
    "    return df[cols]"
   ]
  },
  {
   "cell_type": "code",
   "execution_count": 10,
   "id": "7b00a8ec",
   "metadata": {},
   "outputs": [
    {
     "data": {
      "application/javascript": [
       "\n",
       "            setTimeout(function() {\n",
       "                var nbb_cell_id = 10;\n",
       "                var nbb_unformatted_code = \"def read_csv_files_path(csv_files_path_dict, path, plant):\\n    csv_files = glob.glob(os.path.join(path, \\\"*.csv\\\"))\\n    csv_files_path_dict[plant] = csv_files\\n    return csv_files_path_dict\";\n",
       "                var nbb_formatted_code = \"def read_csv_files_path(csv_files_path_dict, path, plant):\\n    csv_files = glob.glob(os.path.join(path, \\\"*.csv\\\"))\\n    csv_files_path_dict[plant] = csv_files\\n    return csv_files_path_dict\";\n",
       "                var nbb_cells = Jupyter.notebook.get_cells();\n",
       "                for (var i = 0; i < nbb_cells.length; ++i) {\n",
       "                    if (nbb_cells[i].input_prompt_number == nbb_cell_id) {\n",
       "                        if (nbb_cells[i].get_text() == nbb_unformatted_code) {\n",
       "                             nbb_cells[i].set_text(nbb_formatted_code);\n",
       "                        }\n",
       "                        break;\n",
       "                    }\n",
       "                }\n",
       "            }, 500);\n",
       "            "
      ],
      "text/plain": [
       "<IPython.core.display.Javascript object>"
      ]
     },
     "metadata": {},
     "output_type": "display_data"
    }
   ],
   "source": [
    "def read_csv_files_path(csv_files_path_dict, path, plant):\n",
    "    csv_files = glob.glob(os.path.join(path, \"*.csv\"))\n",
    "    csv_files_path_dict[plant] = csv_files\n",
    "    return csv_files_path_dict"
   ]
  },
  {
   "cell_type": "markdown",
   "id": "1c598ecf",
   "metadata": {},
   "source": [
    "# Reading The files"
   ]
  },
  {
   "cell_type": "code",
   "execution_count": 11,
   "id": "20f486cb",
   "metadata": {},
   "outputs": [
    {
     "data": {
      "application/javascript": [
       "\n",
       "            setTimeout(function() {\n",
       "                var nbb_cell_id = 11;\n",
       "                var nbb_unformatted_code = \"csv_files_path_grouped = dict()\\ncsv_files_path_full = dict()\";\n",
       "                var nbb_formatted_code = \"csv_files_path_grouped = dict()\\ncsv_files_path_full = dict()\";\n",
       "                var nbb_cells = Jupyter.notebook.get_cells();\n",
       "                for (var i = 0; i < nbb_cells.length; ++i) {\n",
       "                    if (nbb_cells[i].input_prompt_number == nbb_cell_id) {\n",
       "                        if (nbb_cells[i].get_text() == nbb_unformatted_code) {\n",
       "                             nbb_cells[i].set_text(nbb_formatted_code);\n",
       "                        }\n",
       "                        break;\n",
       "                    }\n",
       "                }\n",
       "            }, 500);\n",
       "            "
      ],
      "text/plain": [
       "<IPython.core.display.Javascript object>"
      ]
     },
     "metadata": {},
     "output_type": "display_data"
    }
   ],
   "source": [
    "csv_files_path_grouped = dict()\n",
    "csv_files_path_full = dict()"
   ]
  },
  {
   "cell_type": "markdown",
   "id": "a17fa9b0",
   "metadata": {},
   "source": [
    "### 203"
   ]
  },
  {
   "cell_type": "code",
   "execution_count": 12,
   "id": "4366fe99",
   "metadata": {},
   "outputs": [
    {
     "data": {
      "application/javascript": [
       "\n",
       "            setTimeout(function() {\n",
       "                var nbb_cell_id = 12;\n",
       "                var nbb_unformatted_code = \"plants_203 = [\\\"c\\\"]\\n\\nfor plant in plants_203:\\n    path_grouped = f\\\"/home/peressim/projects/ccs28-ml-modelling/reports/results/local_models/203/{plant}/grouped/\\\"\\n    path_full = f\\\"/home/peressim/projects/ccs28-ml-modelling/reports/results/local_models/203/{plant}/full/\\\"\\n    csv_files_path_full = read_csv_files_path(csv_files_path_full, path_full, plant)\\n    csv_files_path_grouped = read_csv_files_path(\\n        csv_files_path_grouped, path_grouped, plant\\n    )\";\n",
       "                var nbb_formatted_code = \"plants_203 = [\\\"c\\\"]\\n\\nfor plant in plants_203:\\n    path_grouped = f\\\"/home/peressim/projects/ccs28-ml-modelling/reports/results/local_models/203/{plant}/grouped/\\\"\\n    path_full = f\\\"/home/peressim/projects/ccs28-ml-modelling/reports/results/local_models/203/{plant}/full/\\\"\\n    csv_files_path_full = read_csv_files_path(csv_files_path_full, path_full, plant)\\n    csv_files_path_grouped = read_csv_files_path(\\n        csv_files_path_grouped, path_grouped, plant\\n    )\";\n",
       "                var nbb_cells = Jupyter.notebook.get_cells();\n",
       "                for (var i = 0; i < nbb_cells.length; ++i) {\n",
       "                    if (nbb_cells[i].input_prompt_number == nbb_cell_id) {\n",
       "                        if (nbb_cells[i].get_text() == nbb_unformatted_code) {\n",
       "                             nbb_cells[i].set_text(nbb_formatted_code);\n",
       "                        }\n",
       "                        break;\n",
       "                    }\n",
       "                }\n",
       "            }, 500);\n",
       "            "
      ],
      "text/plain": [
       "<IPython.core.display.Javascript object>"
      ]
     },
     "metadata": {},
     "output_type": "display_data"
    }
   ],
   "source": [
    "plants_203 = [\"c\"]\n",
    "\n",
    "for plant in plants_203:\n",
    "    path_grouped = f\"/home/peressim/projects/ccs28-ml-modelling/reports/results/local_models/203/{plant}/grouped/\"\n",
    "    path_full = f\"/home/peressim/projects/ccs28-ml-modelling/reports/results/local_models/203/{plant}/full/\"\n",
    "    csv_files_path_full = read_csv_files_path(csv_files_path_full, path_full, plant)\n",
    "    csv_files_path_grouped = read_csv_files_path(\n",
    "        csv_files_path_grouped, path_grouped, plant\n",
    "    )"
   ]
  },
  {
   "cell_type": "markdown",
   "id": "5b048698",
   "metadata": {},
   "source": [
    "### Reading all data"
   ]
  },
  {
   "cell_type": "markdown",
   "id": "b5949e95",
   "metadata": {},
   "source": [
    "#### Full"
   ]
  },
  {
   "cell_type": "code",
   "execution_count": 13,
   "id": "879119ff",
   "metadata": {},
   "outputs": [
    {
     "data": {
      "application/javascript": [
       "\n",
       "            setTimeout(function() {\n",
       "                var nbb_cell_id = 13;\n",
       "                var nbb_unformatted_code = \"dfs_plant = dict()\\ncolumn = (\\\"plant\\\", \\\"\\\")\\npos = 2\\n\\nfor plant, csv_files in csv_files_path_full.items():\\n    df = read_csv_files_full(csv_files, plant)\\n    df[\\\"plant\\\"] = plant\\n    dfs_plant[plant] = df\";\n",
       "                var nbb_formatted_code = \"dfs_plant = dict()\\ncolumn = (\\\"plant\\\", \\\"\\\")\\npos = 2\\n\\nfor plant, csv_files in csv_files_path_full.items():\\n    df = read_csv_files_full(csv_files, plant)\\n    df[\\\"plant\\\"] = plant\\n    dfs_plant[plant] = df\";\n",
       "                var nbb_cells = Jupyter.notebook.get_cells();\n",
       "                for (var i = 0; i < nbb_cells.length; ++i) {\n",
       "                    if (nbb_cells[i].input_prompt_number == nbb_cell_id) {\n",
       "                        if (nbb_cells[i].get_text() == nbb_unformatted_code) {\n",
       "                             nbb_cells[i].set_text(nbb_formatted_code);\n",
       "                        }\n",
       "                        break;\n",
       "                    }\n",
       "                }\n",
       "            }, 500);\n",
       "            "
      ],
      "text/plain": [
       "<IPython.core.display.Javascript object>"
      ]
     },
     "metadata": {},
     "output_type": "display_data"
    }
   ],
   "source": [
    "dfs_plant = dict()\n",
    "column = (\"plant\", \"\")\n",
    "pos = 2\n",
    "\n",
    "for plant, csv_files in csv_files_path_full.items():\n",
    "    df = read_csv_files_full(csv_files, plant)\n",
    "    df[\"plant\"] = plant\n",
    "    dfs_plant[plant] = df"
   ]
  },
  {
   "cell_type": "code",
   "execution_count": 14,
   "id": "9e35ce55",
   "metadata": {},
   "outputs": [
    {
     "data": {
      "application/javascript": [
       "\n",
       "            setTimeout(function() {\n",
       "                var nbb_cell_id = 14;\n",
       "                var nbb_unformatted_code = \"df_full = pd.concat(dfs_plant.values(), ignore_index=True)\";\n",
       "                var nbb_formatted_code = \"df_full = pd.concat(dfs_plant.values(), ignore_index=True)\";\n",
       "                var nbb_cells = Jupyter.notebook.get_cells();\n",
       "                for (var i = 0; i < nbb_cells.length; ++i) {\n",
       "                    if (nbb_cells[i].input_prompt_number == nbb_cell_id) {\n",
       "                        if (nbb_cells[i].get_text() == nbb_unformatted_code) {\n",
       "                             nbb_cells[i].set_text(nbb_formatted_code);\n",
       "                        }\n",
       "                        break;\n",
       "                    }\n",
       "                }\n",
       "            }, 500);\n",
       "            "
      ],
      "text/plain": [
       "<IPython.core.display.Javascript object>"
      ]
     },
     "metadata": {},
     "output_type": "display_data"
    }
   ],
   "source": [
    "df_full = pd.concat(dfs_plant.values(), ignore_index=True)"
   ]
  },
  {
   "cell_type": "code",
   "execution_count": 15,
   "id": "ff1275db",
   "metadata": {},
   "outputs": [
    {
     "data": {
      "text/plain": [
       "(8684, 23)"
      ]
     },
     "execution_count": 15,
     "metadata": {},
     "output_type": "execute_result"
    },
    {
     "data": {
      "application/javascript": [
       "\n",
       "            setTimeout(function() {\n",
       "                var nbb_cell_id = 15;\n",
       "                var nbb_unformatted_code = \"df_full.shape\";\n",
       "                var nbb_formatted_code = \"df_full.shape\";\n",
       "                var nbb_cells = Jupyter.notebook.get_cells();\n",
       "                for (var i = 0; i < nbb_cells.length; ++i) {\n",
       "                    if (nbb_cells[i].input_prompt_number == nbb_cell_id) {\n",
       "                        if (nbb_cells[i].get_text() == nbb_unformatted_code) {\n",
       "                             nbb_cells[i].set_text(nbb_formatted_code);\n",
       "                        }\n",
       "                        break;\n",
       "                    }\n",
       "                }\n",
       "            }, 500);\n",
       "            "
      ],
      "text/plain": [
       "<IPython.core.display.Javascript object>"
      ]
     },
     "metadata": {},
     "output_type": "display_data"
    }
   ],
   "source": [
    "df_full.shape"
   ]
  },
  {
   "cell_type": "code",
   "execution_count": 16,
   "id": "7ed64866",
   "metadata": {},
   "outputs": [
    {
     "name": "stdout",
     "output_type": "stream",
     "text": [
      "(555, 24)\n"
     ]
    },
    {
     "data": {
      "application/javascript": [
       "\n",
       "            setTimeout(function() {\n",
       "                var nbb_cell_id = 16;\n",
       "                var nbb_unformatted_code = \"filter_df = df_full[df_full[\\\"R2 Test\\\"] < 0].reset_index(drop=True)\\n\\nfilter_df[\\\"CP\\\"] = (\\n    filter_df[\\\"Company\\\"].astype(str) + \\\"_\\\" + filter_df[\\\"plant\\\"].astype(str)\\n)\\n\\nfilter_df[\\\"CP\\\"].unique()\\n\\nprint(filter_df.shape)\";\n",
       "                var nbb_formatted_code = \"filter_df = df_full[df_full[\\\"R2 Test\\\"] < 0].reset_index(drop=True)\\n\\nfilter_df[\\\"CP\\\"] = (\\n    filter_df[\\\"Company\\\"].astype(str) + \\\"_\\\" + filter_df[\\\"plant\\\"].astype(str)\\n)\\n\\nfilter_df[\\\"CP\\\"].unique()\\n\\nprint(filter_df.shape)\";\n",
       "                var nbb_cells = Jupyter.notebook.get_cells();\n",
       "                for (var i = 0; i < nbb_cells.length; ++i) {\n",
       "                    if (nbb_cells[i].input_prompt_number == nbb_cell_id) {\n",
       "                        if (nbb_cells[i].get_text() == nbb_unformatted_code) {\n",
       "                             nbb_cells[i].set_text(nbb_formatted_code);\n",
       "                        }\n",
       "                        break;\n",
       "                    }\n",
       "                }\n",
       "            }, 500);\n",
       "            "
      ],
      "text/plain": [
       "<IPython.core.display.Javascript object>"
      ]
     },
     "metadata": {},
     "output_type": "display_data"
    }
   ],
   "source": [
    "filter_df = df_full[df_full[\"R2 Test\"] < 0].reset_index(drop=True)\n",
    "\n",
    "filter_df[\"CP\"] = (\n",
    "    filter_df[\"Company\"].astype(str) + \"_\" + filter_df[\"plant\"].astype(str)\n",
    ")\n",
    "\n",
    "filter_df[\"CP\"].unique()\n",
    "\n",
    "print(filter_df.shape)"
   ]
  },
  {
   "cell_type": "code",
   "execution_count": 17,
   "id": "43e5211f",
   "metadata": {},
   "outputs": [
    {
     "data": {
      "application/javascript": [
       "\n",
       "            setTimeout(function() {\n",
       "                var nbb_cell_id = 17;\n",
       "                var nbb_unformatted_code = \"patterns = [\\n    \\\"Chemical + Mineralogical + Feature Engineering\\\",\\n    \\\"Chemical + Mineralogical + CS7 + One-Hot\\\",\\n    \\\"Chemical + Mineralogical + Physical + One-Hot\\\",\\n    \\\"Chemical + Mineralogical + CS3 + One-Hot\\\",\\n    \\\"Chemical + Mineralogical + CS3 + CS7 + One-Hot\\\",\\n    \\\"Chemical + Mineralogical + One-Hot\\\",\\n    \\\"Chemical + Mineralogical + CS1 + CS3 + CS7 + One-Hot\\\",\\n    \\\"Chemical + Mineralogical + CS1 + CS3 + One-Hot\\\",\\n    \\\"Chemical + Mineralogical + CS1 + One-Hot\\\",\\n    \\\"Chemical + Mineralogical + CS2 + One-Hot\\\",\\n    \\\"Chemical + Feature Engineering\\\",\\n]\\n\\nFEATURES_TO_REPLACE_1 = {\\n    \\\"Chemical + Mineralogical + CS3 + CS7\\\": \\\"Chemical + Mineralogical + Early CS\\\",\\n    \\\"Chemical + Mineralogical + CS7\\\": \\\"Chemical + Mineralogical + Early CS\\\",\\n    \\\"Chemical + Mineralogical + CS3\\\": \\\"Chemical + Mineralogical + Early CS\\\",\\n    \\\"Chemical + Mineralogical + CS1\\\": \\\"Chemical + Mineralogical + Early CS\\\",\\n    \\\"Chemical + Mineralogical + CS1 + CS3\\\": \\\"Chemical + Mineralogical + Early CS\\\",\\n    \\\"Chemical + Mineralogical + CS1 + CS3 + CS7\\\": \\\"Chemical + Mineralogical + Early CS\\\",\\n    \\\"Chemical + Mineralogical + CS2\\\": \\\"Chemical + Mineralogical + Early CS\\\",\\n    \\\"Chemical + CS1 + CS3 + CS7\\\": \\\"Chemical + Mineralogical + Early CS\\\",\\n    \\\"Chemical + CS3 + CS7\\\": \\\"Chemical + Mineralogical + Early CS\\\",\\n    \\\"Chemical + CS7\\\": \\\"Chemical + Mineralogical + Early CS\\\",\\n    \\\"Chemical + CS3\\\": \\\"Chemical + Mineralogical + Early CS\\\",\\n    \\\"Chemical + CS1 + CS3\\\": \\\"Chemical + Mineralogical + Early CS\\\",\\n    \\\"Chemical + CS1\\\": \\\"Chemical + Mineralogical + Early CS\\\",\\n    \\\"Chemical + CS1 + CS7\\\": \\\"Chemical + Mineralogical + Early CS\\\",\\n}\\n\\nFEATURES_TO_REPLACE_2 = {\\n    \\\"Chemical\\\": \\\"Chemical + Mineralogical\\\",\\n    \\\"Chemical + Properties CS Less\\\": \\\"Chemical + Mineralogical + Physical - Early CS\\\",\\n    \\\"Chemical + Mineralogical + Properties CS Less\\\": \\\"Chemical + Mineralogical + Physical - Early CS\\\",\\n    \\\"Chemical + Physical\\\": \\\"Chemical + Mineralogical + Physical\\\",\\n}\\n\\ndf_full = df_full[~df_full[\\\"Features\\\"].apply(lambda x: x in patterns)].reset_index(\\n    drop=True\\n)\\n\\ndf_full = df_full[~df_full[\\\"Cross Validation\\\"].eq(\\\"Out of time Split\\\")].reset_index(\\n    drop=True\\n)\\n\\n# removing afterwards\\ndf_full = df_full[~df_full[\\\"Cross Validation\\\"].eq(\\\"Repeated KFold\\\")].reset_index(\\n    drop=True\\n)\\n\\ndf_full[\\\"Features_bkp\\\"] = df_full[\\\"Features\\\"].copy()\\ndf_full[\\\"Features\\\"] = df_full[\\\"Features\\\"].replace(FEATURES_TO_REPLACE_1)\\n\\ndf_full[\\\"Features\\\"] = df_full[\\\"Features\\\"].replace(FEATURES_TO_REPLACE_2)\\n\\n\\n# removing afterwards\\ndf_full = df_full[\\n    ~df_full[\\\"Features\\\"].eq(\\\"Chemical + Mineralogical + Early CS\\\")\\n].reset_index(drop=True)\";\n",
       "                var nbb_formatted_code = \"patterns = [\\n    \\\"Chemical + Mineralogical + Feature Engineering\\\",\\n    \\\"Chemical + Mineralogical + CS7 + One-Hot\\\",\\n    \\\"Chemical + Mineralogical + Physical + One-Hot\\\",\\n    \\\"Chemical + Mineralogical + CS3 + One-Hot\\\",\\n    \\\"Chemical + Mineralogical + CS3 + CS7 + One-Hot\\\",\\n    \\\"Chemical + Mineralogical + One-Hot\\\",\\n    \\\"Chemical + Mineralogical + CS1 + CS3 + CS7 + One-Hot\\\",\\n    \\\"Chemical + Mineralogical + CS1 + CS3 + One-Hot\\\",\\n    \\\"Chemical + Mineralogical + CS1 + One-Hot\\\",\\n    \\\"Chemical + Mineralogical + CS2 + One-Hot\\\",\\n    \\\"Chemical + Feature Engineering\\\",\\n]\\n\\nFEATURES_TO_REPLACE_1 = {\\n    \\\"Chemical + Mineralogical + CS3 + CS7\\\": \\\"Chemical + Mineralogical + Early CS\\\",\\n    \\\"Chemical + Mineralogical + CS7\\\": \\\"Chemical + Mineralogical + Early CS\\\",\\n    \\\"Chemical + Mineralogical + CS3\\\": \\\"Chemical + Mineralogical + Early CS\\\",\\n    \\\"Chemical + Mineralogical + CS1\\\": \\\"Chemical + Mineralogical + Early CS\\\",\\n    \\\"Chemical + Mineralogical + CS1 + CS3\\\": \\\"Chemical + Mineralogical + Early CS\\\",\\n    \\\"Chemical + Mineralogical + CS1 + CS3 + CS7\\\": \\\"Chemical + Mineralogical + Early CS\\\",\\n    \\\"Chemical + Mineralogical + CS2\\\": \\\"Chemical + Mineralogical + Early CS\\\",\\n    \\\"Chemical + CS1 + CS3 + CS7\\\": \\\"Chemical + Mineralogical + Early CS\\\",\\n    \\\"Chemical + CS3 + CS7\\\": \\\"Chemical + Mineralogical + Early CS\\\",\\n    \\\"Chemical + CS7\\\": \\\"Chemical + Mineralogical + Early CS\\\",\\n    \\\"Chemical + CS3\\\": \\\"Chemical + Mineralogical + Early CS\\\",\\n    \\\"Chemical + CS1 + CS3\\\": \\\"Chemical + Mineralogical + Early CS\\\",\\n    \\\"Chemical + CS1\\\": \\\"Chemical + Mineralogical + Early CS\\\",\\n    \\\"Chemical + CS1 + CS7\\\": \\\"Chemical + Mineralogical + Early CS\\\",\\n}\\n\\nFEATURES_TO_REPLACE_2 = {\\n    \\\"Chemical\\\": \\\"Chemical + Mineralogical\\\",\\n    \\\"Chemical + Properties CS Less\\\": \\\"Chemical + Mineralogical + Physical - Early CS\\\",\\n    \\\"Chemical + Mineralogical + Properties CS Less\\\": \\\"Chemical + Mineralogical + Physical - Early CS\\\",\\n    \\\"Chemical + Physical\\\": \\\"Chemical + Mineralogical + Physical\\\",\\n}\\n\\ndf_full = df_full[~df_full[\\\"Features\\\"].apply(lambda x: x in patterns)].reset_index(\\n    drop=True\\n)\\n\\ndf_full = df_full[~df_full[\\\"Cross Validation\\\"].eq(\\\"Out of time Split\\\")].reset_index(\\n    drop=True\\n)\\n\\n# removing afterwards\\ndf_full = df_full[~df_full[\\\"Cross Validation\\\"].eq(\\\"Repeated KFold\\\")].reset_index(\\n    drop=True\\n)\\n\\ndf_full[\\\"Features_bkp\\\"] = df_full[\\\"Features\\\"].copy()\\ndf_full[\\\"Features\\\"] = df_full[\\\"Features\\\"].replace(FEATURES_TO_REPLACE_1)\\n\\ndf_full[\\\"Features\\\"] = df_full[\\\"Features\\\"].replace(FEATURES_TO_REPLACE_2)\\n\\n\\n# removing afterwards\\ndf_full = df_full[\\n    ~df_full[\\\"Features\\\"].eq(\\\"Chemical + Mineralogical + Early CS\\\")\\n].reset_index(drop=True)\";\n",
       "                var nbb_cells = Jupyter.notebook.get_cells();\n",
       "                for (var i = 0; i < nbb_cells.length; ++i) {\n",
       "                    if (nbb_cells[i].input_prompt_number == nbb_cell_id) {\n",
       "                        if (nbb_cells[i].get_text() == nbb_unformatted_code) {\n",
       "                             nbb_cells[i].set_text(nbb_formatted_code);\n",
       "                        }\n",
       "                        break;\n",
       "                    }\n",
       "                }\n",
       "            }, 500);\n",
       "            "
      ],
      "text/plain": [
       "<IPython.core.display.Javascript object>"
      ]
     },
     "metadata": {},
     "output_type": "display_data"
    }
   ],
   "source": [
    "patterns = [\n",
    "    \"Chemical + Mineralogical + Feature Engineering\",\n",
    "    \"Chemical + Mineralogical + CS7 + One-Hot\",\n",
    "    \"Chemical + Mineralogical + Physical + One-Hot\",\n",
    "    \"Chemical + Mineralogical + CS3 + One-Hot\",\n",
    "    \"Chemical + Mineralogical + CS3 + CS7 + One-Hot\",\n",
    "    \"Chemical + Mineralogical + One-Hot\",\n",
    "    \"Chemical + Mineralogical + CS1 + CS3 + CS7 + One-Hot\",\n",
    "    \"Chemical + Mineralogical + CS1 + CS3 + One-Hot\",\n",
    "    \"Chemical + Mineralogical + CS1 + One-Hot\",\n",
    "    \"Chemical + Mineralogical + CS2 + One-Hot\",\n",
    "    \"Chemical + Feature Engineering\",\n",
    "]\n",
    "\n",
    "FEATURES_TO_REPLACE_1 = {\n",
    "    \"Chemical + Mineralogical + CS3 + CS7\": \"Chemical + Mineralogical + Early CS\",\n",
    "    \"Chemical + Mineralogical + CS7\": \"Chemical + Mineralogical + Early CS\",\n",
    "    \"Chemical + Mineralogical + CS3\": \"Chemical + Mineralogical + Early CS\",\n",
    "    \"Chemical + Mineralogical + CS1\": \"Chemical + Mineralogical + Early CS\",\n",
    "    \"Chemical + Mineralogical + CS1 + CS3\": \"Chemical + Mineralogical + Early CS\",\n",
    "    \"Chemical + Mineralogical + CS1 + CS3 + CS7\": \"Chemical + Mineralogical + Early CS\",\n",
    "    \"Chemical + Mineralogical + CS2\": \"Chemical + Mineralogical + Early CS\",\n",
    "    \"Chemical + CS1 + CS3 + CS7\": \"Chemical + Mineralogical + Early CS\",\n",
    "    \"Chemical + CS3 + CS7\": \"Chemical + Mineralogical + Early CS\",\n",
    "    \"Chemical + CS7\": \"Chemical + Mineralogical + Early CS\",\n",
    "    \"Chemical + CS3\": \"Chemical + Mineralogical + Early CS\",\n",
    "    \"Chemical + CS1 + CS3\": \"Chemical + Mineralogical + Early CS\",\n",
    "    \"Chemical + CS1\": \"Chemical + Mineralogical + Early CS\",\n",
    "    \"Chemical + CS1 + CS7\": \"Chemical + Mineralogical + Early CS\",\n",
    "}\n",
    "\n",
    "FEATURES_TO_REPLACE_2 = {\n",
    "    \"Chemical\": \"Chemical + Mineralogical\",\n",
    "    \"Chemical + Properties CS Less\": \"Chemical + Mineralogical + Physical - Early CS\",\n",
    "    \"Chemical + Mineralogical + Properties CS Less\": \"Chemical + Mineralogical + Physical - Early CS\",\n",
    "    \"Chemical + Physical\": \"Chemical + Mineralogical + Physical\",\n",
    "}\n",
    "\n",
    "df_full = df_full[~df_full[\"Features\"].apply(lambda x: x in patterns)].reset_index(\n",
    "    drop=True\n",
    ")\n",
    "\n",
    "df_full = df_full[~df_full[\"Cross Validation\"].eq(\"Out of time Split\")].reset_index(\n",
    "    drop=True\n",
    ")\n",
    "\n",
    "# removing afterwards\n",
    "df_full = df_full[~df_full[\"Cross Validation\"].eq(\"Repeated KFold\")].reset_index(\n",
    "    drop=True\n",
    ")\n",
    "\n",
    "df_full[\"Features_bkp\"] = df_full[\"Features\"].copy()\n",
    "df_full[\"Features\"] = df_full[\"Features\"].replace(FEATURES_TO_REPLACE_1)\n",
    "\n",
    "df_full[\"Features\"] = df_full[\"Features\"].replace(FEATURES_TO_REPLACE_2)\n",
    "\n",
    "\n",
    "# removing afterwards\n",
    "df_full = df_full[\n",
    "    ~df_full[\"Features\"].eq(\"Chemical + Mineralogical + Early CS\")\n",
    "].reset_index(drop=True)"
   ]
  },
  {
   "cell_type": "code",
   "execution_count": 18,
   "id": "e8726ee8",
   "metadata": {},
   "outputs": [
    {
     "data": {
      "text/plain": [
       "array(['Blocking Time Series Split', 'Time Series Split'], dtype=object)"
      ]
     },
     "execution_count": 18,
     "metadata": {},
     "output_type": "execute_result"
    },
    {
     "data": {
      "application/javascript": [
       "\n",
       "            setTimeout(function() {\n",
       "                var nbb_cell_id = 18;\n",
       "                var nbb_unformatted_code = \"df_full[\\\"Cross Validation\\\"].unique()\";\n",
       "                var nbb_formatted_code = \"df_full[\\\"Cross Validation\\\"].unique()\";\n",
       "                var nbb_cells = Jupyter.notebook.get_cells();\n",
       "                for (var i = 0; i < nbb_cells.length; ++i) {\n",
       "                    if (nbb_cells[i].input_prompt_number == nbb_cell_id) {\n",
       "                        if (nbb_cells[i].get_text() == nbb_unformatted_code) {\n",
       "                             nbb_cells[i].set_text(nbb_formatted_code);\n",
       "                        }\n",
       "                        break;\n",
       "                    }\n",
       "                }\n",
       "            }, 500);\n",
       "            "
      ],
      "text/plain": [
       "<IPython.core.display.Javascript object>"
      ]
     },
     "metadata": {},
     "output_type": "display_data"
    }
   ],
   "source": [
    "df_full[\"Cross Validation\"].unique()"
   ]
  },
  {
   "cell_type": "code",
   "execution_count": 19,
   "id": "0cc6d709",
   "metadata": {},
   "outputs": [
    {
     "data": {
      "text/plain": [
       "array(['Chemical + Mineralogical + Physical - Early CS',\n",
       "       'Chemical + Mineralogical + Physical', 'Chemical + Mineralogical'],\n",
       "      dtype=object)"
      ]
     },
     "execution_count": 19,
     "metadata": {},
     "output_type": "execute_result"
    },
    {
     "data": {
      "application/javascript": [
       "\n",
       "            setTimeout(function() {\n",
       "                var nbb_cell_id = 19;\n",
       "                var nbb_unformatted_code = \"df_full[\\\"Features\\\"].unique()\";\n",
       "                var nbb_formatted_code = \"df_full[\\\"Features\\\"].unique()\";\n",
       "                var nbb_cells = Jupyter.notebook.get_cells();\n",
       "                for (var i = 0; i < nbb_cells.length; ++i) {\n",
       "                    if (nbb_cells[i].input_prompt_number == nbb_cell_id) {\n",
       "                        if (nbb_cells[i].get_text() == nbb_unformatted_code) {\n",
       "                             nbb_cells[i].set_text(nbb_formatted_code);\n",
       "                        }\n",
       "                        break;\n",
       "                    }\n",
       "                }\n",
       "            }, 500);\n",
       "            "
      ],
      "text/plain": [
       "<IPython.core.display.Javascript object>"
      ]
     },
     "metadata": {},
     "output_type": "display_data"
    }
   ],
   "source": [
    "df_full[\"Features\"].unique()"
   ]
  },
  {
   "cell_type": "code",
   "execution_count": 20,
   "id": "4baeba57",
   "metadata": {},
   "outputs": [
    {
     "data": {
      "text/plain": [
       "array(['Chemical + Properties CS Less', 'Chemical + Physical', 'Chemical'],\n",
       "      dtype=object)"
      ]
     },
     "execution_count": 20,
     "metadata": {},
     "output_type": "execute_result"
    },
    {
     "data": {
      "application/javascript": [
       "\n",
       "            setTimeout(function() {\n",
       "                var nbb_cell_id = 20;\n",
       "                var nbb_unformatted_code = \"df_full[\\\"Features_bkp\\\"].unique()\";\n",
       "                var nbb_formatted_code = \"df_full[\\\"Features_bkp\\\"].unique()\";\n",
       "                var nbb_cells = Jupyter.notebook.get_cells();\n",
       "                for (var i = 0; i < nbb_cells.length; ++i) {\n",
       "                    if (nbb_cells[i].input_prompt_number == nbb_cell_id) {\n",
       "                        if (nbb_cells[i].get_text() == nbb_unformatted_code) {\n",
       "                             nbb_cells[i].set_text(nbb_formatted_code);\n",
       "                        }\n",
       "                        break;\n",
       "                    }\n",
       "                }\n",
       "            }, 500);\n",
       "            "
      ],
      "text/plain": [
       "<IPython.core.display.Javascript object>"
      ]
     },
     "metadata": {},
     "output_type": "display_data"
    }
   ],
   "source": [
    "df_full[\"Features_bkp\"].unique()"
   ]
  },
  {
   "cell_type": "code",
   "execution_count": 21,
   "id": "90a310bb",
   "metadata": {},
   "outputs": [
    {
     "data": {
      "text/plain": [
       "(1515, 24)"
      ]
     },
     "execution_count": 21,
     "metadata": {},
     "output_type": "execute_result"
    },
    {
     "data": {
      "application/javascript": [
       "\n",
       "            setTimeout(function() {\n",
       "                var nbb_cell_id = 21;\n",
       "                var nbb_unformatted_code = \"df_full.shape\";\n",
       "                var nbb_formatted_code = \"df_full.shape\";\n",
       "                var nbb_cells = Jupyter.notebook.get_cells();\n",
       "                for (var i = 0; i < nbb_cells.length; ++i) {\n",
       "                    if (nbb_cells[i].input_prompt_number == nbb_cell_id) {\n",
       "                        if (nbb_cells[i].get_text() == nbb_unformatted_code) {\n",
       "                             nbb_cells[i].set_text(nbb_formatted_code);\n",
       "                        }\n",
       "                        break;\n",
       "                    }\n",
       "                }\n",
       "            }, 500);\n",
       "            "
      ],
      "text/plain": [
       "<IPython.core.display.Javascript object>"
      ]
     },
     "metadata": {},
     "output_type": "display_data"
    }
   ],
   "source": [
    "df_full.shape"
   ]
  },
  {
   "cell_type": "code",
   "execution_count": 22,
   "id": "f038d855",
   "metadata": {},
   "outputs": [
    {
     "data": {
      "text/html": [
       "<div>\n",
       "<style scoped>\n",
       "    .dataframe tbody tr th:only-of-type {\n",
       "        vertical-align: middle;\n",
       "    }\n",
       "\n",
       "    .dataframe tbody tr th {\n",
       "        vertical-align: top;\n",
       "    }\n",
       "\n",
       "    .dataframe thead th {\n",
       "        text-align: right;\n",
       "    }\n",
       "</style>\n",
       "<table border=\"1\" class=\"dataframe\">\n",
       "  <thead>\n",
       "    <tr style=\"text-align: right;\">\n",
       "      <th></th>\n",
       "      <th>count</th>\n",
       "      <th>mean</th>\n",
       "      <th>std</th>\n",
       "      <th>min</th>\n",
       "      <th>25%</th>\n",
       "      <th>50%</th>\n",
       "      <th>75%</th>\n",
       "      <th>max</th>\n",
       "    </tr>\n",
       "  </thead>\n",
       "  <tbody>\n",
       "    <tr>\n",
       "      <th>RMSE Test</th>\n",
       "      <td>1515.0</td>\n",
       "      <td>2.89</td>\n",
       "      <td>2.32</td>\n",
       "      <td>0.45</td>\n",
       "      <td>1.75</td>\n",
       "      <td>2.36</td>\n",
       "      <td>3.25</td>\n",
       "      <td>28.17</td>\n",
       "    </tr>\n",
       "    <tr>\n",
       "      <th>MAE Test</th>\n",
       "      <td>1515.0</td>\n",
       "      <td>1.98</td>\n",
       "      <td>1.21</td>\n",
       "      <td>0.38</td>\n",
       "      <td>1.31</td>\n",
       "      <td>1.71</td>\n",
       "      <td>2.28</td>\n",
       "      <td>12.46</td>\n",
       "    </tr>\n",
       "    <tr>\n",
       "      <th>MAPE Test</th>\n",
       "      <td>1515.0</td>\n",
       "      <td>0.05</td>\n",
       "      <td>0.03</td>\n",
       "      <td>0.01</td>\n",
       "      <td>0.03</td>\n",
       "      <td>0.04</td>\n",
       "      <td>0.05</td>\n",
       "      <td>0.30</td>\n",
       "    </tr>\n",
       "    <tr>\n",
       "      <th>R2 Test</th>\n",
       "      <td>1515.0</td>\n",
       "      <td>0.61</td>\n",
       "      <td>1.38</td>\n",
       "      <td>-21.80</td>\n",
       "      <td>0.70</td>\n",
       "      <td>0.84</td>\n",
       "      <td>0.91</td>\n",
       "      <td>0.99</td>\n",
       "    </tr>\n",
       "  </tbody>\n",
       "</table>\n",
       "</div>"
      ],
      "text/plain": [
       "            count  mean   std    min   25%   50%   75%    max\n",
       "RMSE Test  1515.0  2.89  2.32   0.45  1.75  2.36  3.25  28.17\n",
       "MAE Test   1515.0  1.98  1.21   0.38  1.31  1.71  2.28  12.46\n",
       "MAPE Test  1515.0  0.05  0.03   0.01  0.03  0.04  0.05   0.30\n",
       "R2 Test    1515.0  0.61  1.38 -21.80  0.70  0.84  0.91   0.99"
      ]
     },
     "execution_count": 22,
     "metadata": {},
     "output_type": "execute_result"
    },
    {
     "data": {
      "application/javascript": [
       "\n",
       "            setTimeout(function() {\n",
       "                var nbb_cell_id = 22;\n",
       "                var nbb_unformatted_code = \"df_full[[\\\"RMSE Test\\\", \\\"MAE Test\\\", \\\"MAPE Test\\\", \\\"R2 Test\\\"]].describe().round(2).T\";\n",
       "                var nbb_formatted_code = \"df_full[[\\\"RMSE Test\\\", \\\"MAE Test\\\", \\\"MAPE Test\\\", \\\"R2 Test\\\"]].describe().round(2).T\";\n",
       "                var nbb_cells = Jupyter.notebook.get_cells();\n",
       "                for (var i = 0; i < nbb_cells.length; ++i) {\n",
       "                    if (nbb_cells[i].input_prompt_number == nbb_cell_id) {\n",
       "                        if (nbb_cells[i].get_text() == nbb_unformatted_code) {\n",
       "                             nbb_cells[i].set_text(nbb_formatted_code);\n",
       "                        }\n",
       "                        break;\n",
       "                    }\n",
       "                }\n",
       "            }, 500);\n",
       "            "
      ],
      "text/plain": [
       "<IPython.core.display.Javascript object>"
      ]
     },
     "metadata": {},
     "output_type": "display_data"
    }
   ],
   "source": [
    "df_full[[\"RMSE Test\", \"MAE Test\", \"MAPE Test\", \"R2 Test\"]].describe().round(2).T"
   ]
  },
  {
   "cell_type": "code",
   "execution_count": 23,
   "id": "dabbd8ab",
   "metadata": {},
   "outputs": [
    {
     "data": {
      "text/plain": [
       "1"
      ]
     },
     "execution_count": 23,
     "metadata": {},
     "output_type": "execute_result"
    },
    {
     "data": {
      "application/javascript": [
       "\n",
       "            setTimeout(function() {\n",
       "                var nbb_cell_id = 23;\n",
       "                var nbb_unformatted_code = \"df_full[df_full[\\\"R2 Test\\\"] < 0][[\\\"Company\\\", \\\"plant\\\"]][\\\"plant\\\"].nunique()\";\n",
       "                var nbb_formatted_code = \"df_full[df_full[\\\"R2 Test\\\"] < 0][[\\\"Company\\\", \\\"plant\\\"]][\\\"plant\\\"].nunique()\";\n",
       "                var nbb_cells = Jupyter.notebook.get_cells();\n",
       "                for (var i = 0; i < nbb_cells.length; ++i) {\n",
       "                    if (nbb_cells[i].input_prompt_number == nbb_cell_id) {\n",
       "                        if (nbb_cells[i].get_text() == nbb_unformatted_code) {\n",
       "                             nbb_cells[i].set_text(nbb_formatted_code);\n",
       "                        }\n",
       "                        break;\n",
       "                    }\n",
       "                }\n",
       "            }, 500);\n",
       "            "
      ],
      "text/plain": [
       "<IPython.core.display.Javascript object>"
      ]
     },
     "metadata": {},
     "output_type": "display_data"
    }
   ],
   "source": [
    "df_full[df_full[\"R2 Test\"] < 0][[\"Company\", \"plant\"]][\"plant\"].nunique()"
   ]
  },
  {
   "cell_type": "code",
   "execution_count": 24,
   "id": "74f4abf9",
   "metadata": {},
   "outputs": [
    {
     "data": {
      "text/html": [
       "<div>\n",
       "<style scoped>\n",
       "    .dataframe tbody tr th:only-of-type {\n",
       "        vertical-align: middle;\n",
       "    }\n",
       "\n",
       "    .dataframe tbody tr th {\n",
       "        vertical-align: top;\n",
       "    }\n",
       "\n",
       "    .dataframe thead th {\n",
       "        text-align: right;\n",
       "    }\n",
       "</style>\n",
       "<table border=\"1\" class=\"dataframe\">\n",
       "  <thead>\n",
       "    <tr style=\"text-align: right;\">\n",
       "      <th></th>\n",
       "      <th>Category</th>\n",
       "      <th>Company</th>\n",
       "      <th>Plant</th>\n",
       "      <th>Features</th>\n",
       "      <th>Data Shape</th>\n",
       "      <th>Timesteps</th>\n",
       "      <th>Model</th>\n",
       "      <th>Model Params</th>\n",
       "      <th>Scaler</th>\n",
       "      <th>Scaler Params</th>\n",
       "      <th>...</th>\n",
       "      <th>RMSE Train</th>\n",
       "      <th>MAE Train</th>\n",
       "      <th>MAPE Train</th>\n",
       "      <th>R2 Train</th>\n",
       "      <th>RMSE Test</th>\n",
       "      <th>MAE Test</th>\n",
       "      <th>MAPE Test</th>\n",
       "      <th>R2 Test</th>\n",
       "      <th>plant</th>\n",
       "      <th>Features_bkp</th>\n",
       "    </tr>\n",
       "  </thead>\n",
       "  <tbody>\n",
       "    <tr>\n",
       "      <th>439</th>\n",
       "      <td>Local Model</td>\n",
       "      <td>203</td>\n",
       "      <td>C</td>\n",
       "      <td>Chemical + Mineralogical + Physical</td>\n",
       "      <td>(2829, 19)</td>\n",
       "      <td>14.0</td>\n",
       "      <td>BidirectionalGRU</td>\n",
       "      <td>NaN</td>\n",
       "      <td>Standard Scaler</td>\n",
       "      <td>NaN</td>\n",
       "      <td>...</td>\n",
       "      <td>0.910095</td>\n",
       "      <td>0.721416</td>\n",
       "      <td>0.016419</td>\n",
       "      <td>0.976681</td>\n",
       "      <td>28.173882</td>\n",
       "      <td>6.014505</td>\n",
       "      <td>0.129485</td>\n",
       "      <td>-21.801437</td>\n",
       "      <td>c</td>\n",
       "      <td>Chemical + Physical</td>\n",
       "    </tr>\n",
       "    <tr>\n",
       "      <th>444</th>\n",
       "      <td>Local Model</td>\n",
       "      <td>203</td>\n",
       "      <td>C</td>\n",
       "      <td>Chemical + Mineralogical + Physical</td>\n",
       "      <td>(2829, 19)</td>\n",
       "      <td>14.0</td>\n",
       "      <td>BidirectionalGRU</td>\n",
       "      <td>NaN</td>\n",
       "      <td>Standard Scaler</td>\n",
       "      <td>NaN</td>\n",
       "      <td>...</td>\n",
       "      <td>0.910095</td>\n",
       "      <td>0.721416</td>\n",
       "      <td>0.016419</td>\n",
       "      <td>0.976681</td>\n",
       "      <td>28.173882</td>\n",
       "      <td>6.014505</td>\n",
       "      <td>0.129485</td>\n",
       "      <td>-21.801437</td>\n",
       "      <td>c</td>\n",
       "      <td>Chemical + Physical</td>\n",
       "    </tr>\n",
       "    <tr>\n",
       "      <th>449</th>\n",
       "      <td>Local Model</td>\n",
       "      <td>203</td>\n",
       "      <td>C</td>\n",
       "      <td>Chemical + Mineralogical + Physical</td>\n",
       "      <td>(2829, 19)</td>\n",
       "      <td>14.0</td>\n",
       "      <td>BidirectionalGRU</td>\n",
       "      <td>NaN</td>\n",
       "      <td>Standard Scaler</td>\n",
       "      <td>NaN</td>\n",
       "      <td>...</td>\n",
       "      <td>0.910095</td>\n",
       "      <td>0.721416</td>\n",
       "      <td>0.016419</td>\n",
       "      <td>0.976681</td>\n",
       "      <td>28.173882</td>\n",
       "      <td>6.014505</td>\n",
       "      <td>0.129485</td>\n",
       "      <td>-21.801437</td>\n",
       "      <td>c</td>\n",
       "      <td>Chemical + Physical</td>\n",
       "    </tr>\n",
       "  </tbody>\n",
       "</table>\n",
       "<p>3 rows × 24 columns</p>\n",
       "</div>"
      ],
      "text/plain": [
       "        Category  Company Plant                             Features  \\\n",
       "439  Local Model      203     C  Chemical + Mineralogical + Physical   \n",
       "444  Local Model      203     C  Chemical + Mineralogical + Physical   \n",
       "449  Local Model      203     C  Chemical + Mineralogical + Physical   \n",
       "\n",
       "     Data Shape  Timesteps             Model  Model Params           Scaler  \\\n",
       "439  (2829, 19)       14.0  BidirectionalGRU           NaN  Standard Scaler   \n",
       "444  (2829, 19)       14.0  BidirectionalGRU           NaN  Standard Scaler   \n",
       "449  (2829, 19)       14.0  BidirectionalGRU           NaN  Standard Scaler   \n",
       "\n",
       "     Scaler Params  ... RMSE Train  MAE Train MAPE Train  R2 Train  RMSE Test  \\\n",
       "439            NaN  ...   0.910095   0.721416   0.016419  0.976681  28.173882   \n",
       "444            NaN  ...   0.910095   0.721416   0.016419  0.976681  28.173882   \n",
       "449            NaN  ...   0.910095   0.721416   0.016419  0.976681  28.173882   \n",
       "\n",
       "     MAE Test  MAPE Test    R2 Test  plant         Features_bkp  \n",
       "439  6.014505   0.129485 -21.801437      c  Chemical + Physical  \n",
       "444  6.014505   0.129485 -21.801437      c  Chemical + Physical  \n",
       "449  6.014505   0.129485 -21.801437      c  Chemical + Physical  \n",
       "\n",
       "[3 rows x 24 columns]"
      ]
     },
     "execution_count": 24,
     "metadata": {},
     "output_type": "execute_result"
    },
    {
     "data": {
      "application/javascript": [
       "\n",
       "            setTimeout(function() {\n",
       "                var nbb_cell_id = 24;\n",
       "                var nbb_unformatted_code = \"df_full[df_full[\\\"R2 Test\\\"].eq(df_full[\\\"R2 Test\\\"].min())]\";\n",
       "                var nbb_formatted_code = \"df_full[df_full[\\\"R2 Test\\\"].eq(df_full[\\\"R2 Test\\\"].min())]\";\n",
       "                var nbb_cells = Jupyter.notebook.get_cells();\n",
       "                for (var i = 0; i < nbb_cells.length; ++i) {\n",
       "                    if (nbb_cells[i].input_prompt_number == nbb_cell_id) {\n",
       "                        if (nbb_cells[i].get_text() == nbb_unformatted_code) {\n",
       "                             nbb_cells[i].set_text(nbb_formatted_code);\n",
       "                        }\n",
       "                        break;\n",
       "                    }\n",
       "                }\n",
       "            }, 500);\n",
       "            "
      ],
      "text/plain": [
       "<IPython.core.display.Javascript object>"
      ]
     },
     "metadata": {},
     "output_type": "display_data"
    }
   ],
   "source": [
    "df_full[df_full[\"R2 Test\"].eq(df_full[\"R2 Test\"].min())]"
   ]
  },
  {
   "cell_type": "code",
   "execution_count": 25,
   "id": "a8e219fd",
   "metadata": {},
   "outputs": [
    {
     "data": {
      "text/plain": [
       "439    Time Series Split\n",
       "444    Time Series Split\n",
       "449    Time Series Split\n",
       "Name: Cross Validation, dtype: object"
      ]
     },
     "execution_count": 25,
     "metadata": {},
     "output_type": "execute_result"
    },
    {
     "data": {
      "application/javascript": [
       "\n",
       "            setTimeout(function() {\n",
       "                var nbb_cell_id = 25;\n",
       "                var nbb_unformatted_code = \"df_full[(df_full[\\\"R2 Test\\\"].eq(df_full[\\\"R2 Test\\\"].min()))][\\\"Cross Validation\\\"]\";\n",
       "                var nbb_formatted_code = \"df_full[(df_full[\\\"R2 Test\\\"].eq(df_full[\\\"R2 Test\\\"].min()))][\\\"Cross Validation\\\"]\";\n",
       "                var nbb_cells = Jupyter.notebook.get_cells();\n",
       "                for (var i = 0; i < nbb_cells.length; ++i) {\n",
       "                    if (nbb_cells[i].input_prompt_number == nbb_cell_id) {\n",
       "                        if (nbb_cells[i].get_text() == nbb_unformatted_code) {\n",
       "                             nbb_cells[i].set_text(nbb_formatted_code);\n",
       "                        }\n",
       "                        break;\n",
       "                    }\n",
       "                }\n",
       "            }, 500);\n",
       "            "
      ],
      "text/plain": [
       "<IPython.core.display.Javascript object>"
      ]
     },
     "metadata": {},
     "output_type": "display_data"
    }
   ],
   "source": [
    "df_full[(df_full[\"R2 Test\"].eq(df_full[\"R2 Test\"].min()))][\"Cross Validation\"]"
   ]
  },
  {
   "cell_type": "code",
   "execution_count": 26,
   "id": "c9f23096",
   "metadata": {},
   "outputs": [
    {
     "name": "stdout",
     "output_type": "stream",
     "text": [
      "(90, 24)\n"
     ]
    },
    {
     "data": {
      "application/javascript": [
       "\n",
       "            setTimeout(function() {\n",
       "                var nbb_cell_id = 26;\n",
       "                var nbb_unformatted_code = \"filter_df = df_full[df_full[\\\"R2 Test\\\"] < 0].reset_index(drop=True)\\n\\nprint(filter_df.shape)\";\n",
       "                var nbb_formatted_code = \"filter_df = df_full[df_full[\\\"R2 Test\\\"] < 0].reset_index(drop=True)\\n\\nprint(filter_df.shape)\";\n",
       "                var nbb_cells = Jupyter.notebook.get_cells();\n",
       "                for (var i = 0; i < nbb_cells.length; ++i) {\n",
       "                    if (nbb_cells[i].input_prompt_number == nbb_cell_id) {\n",
       "                        if (nbb_cells[i].get_text() == nbb_unformatted_code) {\n",
       "                             nbb_cells[i].set_text(nbb_formatted_code);\n",
       "                        }\n",
       "                        break;\n",
       "                    }\n",
       "                }\n",
       "            }, 500);\n",
       "            "
      ],
      "text/plain": [
       "<IPython.core.display.Javascript object>"
      ]
     },
     "metadata": {},
     "output_type": "display_data"
    }
   ],
   "source": [
    "filter_df = df_full[df_full[\"R2 Test\"] < 0].reset_index(drop=True)\n",
    "\n",
    "print(filter_df.shape)"
   ]
  },
  {
   "cell_type": "code",
   "execution_count": 27,
   "id": "9c86cda1",
   "metadata": {},
   "outputs": [
    {
     "data": {
      "text/plain": [
       "(1515, 24)"
      ]
     },
     "execution_count": 27,
     "metadata": {},
     "output_type": "execute_result"
    },
    {
     "data": {
      "application/javascript": [
       "\n",
       "            setTimeout(function() {\n",
       "                var nbb_cell_id = 27;\n",
       "                var nbb_unformatted_code = \"df_full.shape\";\n",
       "                var nbb_formatted_code = \"df_full.shape\";\n",
       "                var nbb_cells = Jupyter.notebook.get_cells();\n",
       "                for (var i = 0; i < nbb_cells.length; ++i) {\n",
       "                    if (nbb_cells[i].input_prompt_number == nbb_cell_id) {\n",
       "                        if (nbb_cells[i].get_text() == nbb_unformatted_code) {\n",
       "                             nbb_cells[i].set_text(nbb_formatted_code);\n",
       "                        }\n",
       "                        break;\n",
       "                    }\n",
       "                }\n",
       "            }, 500);\n",
       "            "
      ],
      "text/plain": [
       "<IPython.core.display.Javascript object>"
      ]
     },
     "metadata": {},
     "output_type": "display_data"
    }
   ],
   "source": [
    "df_full.shape"
   ]
  },
  {
   "cell_type": "code",
   "execution_count": 28,
   "id": "a955cc98",
   "metadata": {},
   "outputs": [
    {
     "data": {
      "text/plain": [
       "array(['c'], dtype=object)"
      ]
     },
     "execution_count": 28,
     "metadata": {},
     "output_type": "execute_result"
    },
    {
     "data": {
      "application/javascript": [
       "\n",
       "            setTimeout(function() {\n",
       "                var nbb_cell_id = 28;\n",
       "                var nbb_unformatted_code = \"df_full[\\\"plant\\\"].unique()\";\n",
       "                var nbb_formatted_code = \"df_full[\\\"plant\\\"].unique()\";\n",
       "                var nbb_cells = Jupyter.notebook.get_cells();\n",
       "                for (var i = 0; i < nbb_cells.length; ++i) {\n",
       "                    if (nbb_cells[i].input_prompt_number == nbb_cell_id) {\n",
       "                        if (nbb_cells[i].get_text() == nbb_unformatted_code) {\n",
       "                             nbb_cells[i].set_text(nbb_formatted_code);\n",
       "                        }\n",
       "                        break;\n",
       "                    }\n",
       "                }\n",
       "            }, 500);\n",
       "            "
      ],
      "text/plain": [
       "<IPython.core.display.Javascript object>"
      ]
     },
     "metadata": {},
     "output_type": "display_data"
    }
   ],
   "source": [
    "df_full[\"plant\"].unique()"
   ]
  },
  {
   "cell_type": "code",
   "execution_count": 29,
   "id": "ab1bc5f0",
   "metadata": {},
   "outputs": [
    {
     "data": {
      "application/javascript": [
       "\n",
       "            setTimeout(function() {\n",
       "                var nbb_cell_id = 29;\n",
       "                var nbb_unformatted_code = \"df_full_203 = df_full[df_full[\\\"plant\\\"].isin([\\\"partner_i\\\", \\\"partner_ii\\\", \\\"partner_iv\\\"])].reset_index(\\n    drop=True\\n)\\ndf_full_203 = df_full[~df_full[\\\"plant\\\"].isin([\\\"partner_i\\\", \\\"partner_ii\\\", \\\"partner_iv\\\"])].reset_index(\\n    drop=True\\n)\";\n",
       "                var nbb_formatted_code = \"df_full_203 = df_full[df_full[\\\"plant\\\"].isin([\\\"partner_i\\\", \\\"partner_ii\\\", \\\"partner_iv\\\"])].reset_index(\\n    drop=True\\n)\\ndf_full_203 = df_full[~df_full[\\\"plant\\\"].isin([\\\"partner_i\\\", \\\"partner_ii\\\", \\\"partner_iv\\\"])].reset_index(\\n    drop=True\\n)\";\n",
       "                var nbb_cells = Jupyter.notebook.get_cells();\n",
       "                for (var i = 0; i < nbb_cells.length; ++i) {\n",
       "                    if (nbb_cells[i].input_prompt_number == nbb_cell_id) {\n",
       "                        if (nbb_cells[i].get_text() == nbb_unformatted_code) {\n",
       "                             nbb_cells[i].set_text(nbb_formatted_code);\n",
       "                        }\n",
       "                        break;\n",
       "                    }\n",
       "                }\n",
       "            }, 500);\n",
       "            "
      ],
      "text/plain": [
       "<IPython.core.display.Javascript object>"
      ]
     },
     "metadata": {},
     "output_type": "display_data"
    }
   ],
   "source": [
    "df_full_203 = df_full[df_full[\"plant\"].isin([\"partner_i\", \"partner_ii\", \"partner_iv\"])].reset_index(\n",
    "    drop=True\n",
    ")\n",
    "df_full_203 = df_full[~df_full[\"plant\"].isin([\"partner_i\", \"partner_ii\", \"partner_iv\"])].reset_index(\n",
    "    drop=True\n",
    ")"
   ]
  },
  {
   "cell_type": "code",
   "execution_count": 30,
   "id": "4473b8d6",
   "metadata": {},
   "outputs": [
    {
     "data": {
      "text/plain": [
       "(1515, 24)"
      ]
     },
     "execution_count": 30,
     "metadata": {},
     "output_type": "execute_result"
    },
    {
     "data": {
      "application/javascript": [
       "\n",
       "            setTimeout(function() {\n",
       "                var nbb_cell_id = 30;\n",
       "                var nbb_unformatted_code = \"df_full.shape\";\n",
       "                var nbb_formatted_code = \"df_full.shape\";\n",
       "                var nbb_cells = Jupyter.notebook.get_cells();\n",
       "                for (var i = 0; i < nbb_cells.length; ++i) {\n",
       "                    if (nbb_cells[i].input_prompt_number == nbb_cell_id) {\n",
       "                        if (nbb_cells[i].get_text() == nbb_unformatted_code) {\n",
       "                             nbb_cells[i].set_text(nbb_formatted_code);\n",
       "                        }\n",
       "                        break;\n",
       "                    }\n",
       "                }\n",
       "            }, 500);\n",
       "            "
      ],
      "text/plain": [
       "<IPython.core.display.Javascript object>"
      ]
     },
     "metadata": {},
     "output_type": "display_data"
    }
   ],
   "source": [
    "df_full.shape"
   ]
  },
  {
   "cell_type": "code",
   "execution_count": 31,
   "id": "bd89f6e2",
   "metadata": {},
   "outputs": [
    {
     "data": {
      "text/plain": [
       "(1515, 24)"
      ]
     },
     "execution_count": 31,
     "metadata": {},
     "output_type": "execute_result"
    },
    {
     "data": {
      "application/javascript": [
       "\n",
       "            setTimeout(function() {\n",
       "                var nbb_cell_id = 31;\n",
       "                var nbb_unformatted_code = \"df_full_203.shape\";\n",
       "                var nbb_formatted_code = \"df_full_203.shape\";\n",
       "                var nbb_cells = Jupyter.notebook.get_cells();\n",
       "                for (var i = 0; i < nbb_cells.length; ++i) {\n",
       "                    if (nbb_cells[i].input_prompt_number == nbb_cell_id) {\n",
       "                        if (nbb_cells[i].get_text() == nbb_unformatted_code) {\n",
       "                             nbb_cells[i].set_text(nbb_formatted_code);\n",
       "                        }\n",
       "                        break;\n",
       "                    }\n",
       "                }\n",
       "            }, 500);\n",
       "            "
      ],
      "text/plain": [
       "<IPython.core.display.Javascript object>"
      ]
     },
     "metadata": {},
     "output_type": "display_data"
    }
   ],
   "source": [
    "df_full_203.shape"
   ]
  },
  {
   "cell_type": "code",
   "execution_count": 32,
   "id": "9560a9e0",
   "metadata": {},
   "outputs": [
    {
     "data": {
      "text/plain": [
       "(1515, 24)"
      ]
     },
     "execution_count": 32,
     "metadata": {},
     "output_type": "execute_result"
    },
    {
     "data": {
      "application/javascript": [
       "\n",
       "            setTimeout(function() {\n",
       "                var nbb_cell_id = 32;\n",
       "                var nbb_unformatted_code = \"df_full_203.shape\";\n",
       "                var nbb_formatted_code = \"df_full_203.shape\";\n",
       "                var nbb_cells = Jupyter.notebook.get_cells();\n",
       "                for (var i = 0; i < nbb_cells.length; ++i) {\n",
       "                    if (nbb_cells[i].input_prompt_number == nbb_cell_id) {\n",
       "                        if (nbb_cells[i].get_text() == nbb_unformatted_code) {\n",
       "                             nbb_cells[i].set_text(nbb_formatted_code);\n",
       "                        }\n",
       "                        break;\n",
       "                    }\n",
       "                }\n",
       "            }, 500);\n",
       "            "
      ],
      "text/plain": [
       "<IPython.core.display.Javascript object>"
      ]
     },
     "metadata": {},
     "output_type": "display_data"
    }
   ],
   "source": [
    "df_full_203.shape"
   ]
  },
  {
   "cell_type": "code",
   "execution_count": 33,
   "id": "5ea75c57",
   "metadata": {},
   "outputs": [
    {
     "data": {
      "text/html": [
       "<div>\n",
       "<style scoped>\n",
       "    .dataframe tbody tr th:only-of-type {\n",
       "        vertical-align: middle;\n",
       "    }\n",
       "\n",
       "    .dataframe tbody tr th {\n",
       "        vertical-align: top;\n",
       "    }\n",
       "\n",
       "    .dataframe thead th {\n",
       "        text-align: right;\n",
       "    }\n",
       "</style>\n",
       "<table border=\"1\" class=\"dataframe\">\n",
       "  <thead>\n",
       "    <tr style=\"text-align: right;\">\n",
       "      <th></th>\n",
       "      <th>count</th>\n",
       "      <th>mean</th>\n",
       "      <th>std</th>\n",
       "      <th>min</th>\n",
       "      <th>25%</th>\n",
       "      <th>50%</th>\n",
       "      <th>75%</th>\n",
       "      <th>max</th>\n",
       "    </tr>\n",
       "  </thead>\n",
       "  <tbody>\n",
       "    <tr>\n",
       "      <th>RMSE Test</th>\n",
       "      <td>1515.0</td>\n",
       "      <td>2.89</td>\n",
       "      <td>2.32</td>\n",
       "      <td>0.45</td>\n",
       "      <td>1.75</td>\n",
       "      <td>2.36</td>\n",
       "      <td>3.25</td>\n",
       "      <td>28.17</td>\n",
       "    </tr>\n",
       "    <tr>\n",
       "      <th>MAE Test</th>\n",
       "      <td>1515.0</td>\n",
       "      <td>1.98</td>\n",
       "      <td>1.21</td>\n",
       "      <td>0.38</td>\n",
       "      <td>1.31</td>\n",
       "      <td>1.71</td>\n",
       "      <td>2.28</td>\n",
       "      <td>12.46</td>\n",
       "    </tr>\n",
       "    <tr>\n",
       "      <th>MAPE Test</th>\n",
       "      <td>1515.0</td>\n",
       "      <td>0.05</td>\n",
       "      <td>0.03</td>\n",
       "      <td>0.01</td>\n",
       "      <td>0.03</td>\n",
       "      <td>0.04</td>\n",
       "      <td>0.05</td>\n",
       "      <td>0.30</td>\n",
       "    </tr>\n",
       "    <tr>\n",
       "      <th>R2 Test</th>\n",
       "      <td>1515.0</td>\n",
       "      <td>0.61</td>\n",
       "      <td>1.38</td>\n",
       "      <td>-21.80</td>\n",
       "      <td>0.70</td>\n",
       "      <td>0.84</td>\n",
       "      <td>0.91</td>\n",
       "      <td>0.99</td>\n",
       "    </tr>\n",
       "  </tbody>\n",
       "</table>\n",
       "</div>"
      ],
      "text/plain": [
       "            count  mean   std    min   25%   50%   75%    max\n",
       "RMSE Test  1515.0  2.89  2.32   0.45  1.75  2.36  3.25  28.17\n",
       "MAE Test   1515.0  1.98  1.21   0.38  1.31  1.71  2.28  12.46\n",
       "MAPE Test  1515.0  0.05  0.03   0.01  0.03  0.04  0.05   0.30\n",
       "R2 Test    1515.0  0.61  1.38 -21.80  0.70  0.84  0.91   0.99"
      ]
     },
     "execution_count": 33,
     "metadata": {},
     "output_type": "execute_result"
    },
    {
     "data": {
      "application/javascript": [
       "\n",
       "            setTimeout(function() {\n",
       "                var nbb_cell_id = 33;\n",
       "                var nbb_unformatted_code = \"df_full_203[[\\\"RMSE Test\\\", \\\"MAE Test\\\", \\\"MAPE Test\\\", \\\"R2 Test\\\"]].describe().round(2).T\";\n",
       "                var nbb_formatted_code = \"df_full_203[[\\\"RMSE Test\\\", \\\"MAE Test\\\", \\\"MAPE Test\\\", \\\"R2 Test\\\"]].describe().round(2).T\";\n",
       "                var nbb_cells = Jupyter.notebook.get_cells();\n",
       "                for (var i = 0; i < nbb_cells.length; ++i) {\n",
       "                    if (nbb_cells[i].input_prompt_number == nbb_cell_id) {\n",
       "                        if (nbb_cells[i].get_text() == nbb_unformatted_code) {\n",
       "                             nbb_cells[i].set_text(nbb_formatted_code);\n",
       "                        }\n",
       "                        break;\n",
       "                    }\n",
       "                }\n",
       "            }, 500);\n",
       "            "
      ],
      "text/plain": [
       "<IPython.core.display.Javascript object>"
      ]
     },
     "metadata": {},
     "output_type": "display_data"
    }
   ],
   "source": [
    "df_full_203[[\"RMSE Test\", \"MAE Test\", \"MAPE Test\", \"R2 Test\"]].describe().round(2).T"
   ]
  },
  {
   "cell_type": "code",
   "execution_count": 34,
   "id": "5ad27a9d",
   "metadata": {},
   "outputs": [
    {
     "data": {
      "text/html": [
       "<div>\n",
       "<style scoped>\n",
       "    .dataframe tbody tr th:only-of-type {\n",
       "        vertical-align: middle;\n",
       "    }\n",
       "\n",
       "    .dataframe tbody tr th {\n",
       "        vertical-align: top;\n",
       "    }\n",
       "\n",
       "    .dataframe thead th {\n",
       "        text-align: right;\n",
       "    }\n",
       "</style>\n",
       "<table border=\"1\" class=\"dataframe\">\n",
       "  <thead>\n",
       "    <tr style=\"text-align: right;\">\n",
       "      <th></th>\n",
       "      <th>count</th>\n",
       "      <th>mean</th>\n",
       "      <th>std</th>\n",
       "      <th>min</th>\n",
       "      <th>25%</th>\n",
       "      <th>50%</th>\n",
       "      <th>75%</th>\n",
       "      <th>max</th>\n",
       "    </tr>\n",
       "  </thead>\n",
       "  <tbody>\n",
       "    <tr>\n",
       "      <th>RMSE Test</th>\n",
       "      <td>1515.0</td>\n",
       "      <td>2.89</td>\n",
       "      <td>2.32</td>\n",
       "      <td>0.45</td>\n",
       "      <td>1.75</td>\n",
       "      <td>2.36</td>\n",
       "      <td>3.25</td>\n",
       "      <td>28.17</td>\n",
       "    </tr>\n",
       "    <tr>\n",
       "      <th>MAE Test</th>\n",
       "      <td>1515.0</td>\n",
       "      <td>1.98</td>\n",
       "      <td>1.21</td>\n",
       "      <td>0.38</td>\n",
       "      <td>1.31</td>\n",
       "      <td>1.71</td>\n",
       "      <td>2.28</td>\n",
       "      <td>12.46</td>\n",
       "    </tr>\n",
       "    <tr>\n",
       "      <th>MAPE Test</th>\n",
       "      <td>1515.0</td>\n",
       "      <td>0.05</td>\n",
       "      <td>0.03</td>\n",
       "      <td>0.01</td>\n",
       "      <td>0.03</td>\n",
       "      <td>0.04</td>\n",
       "      <td>0.05</td>\n",
       "      <td>0.30</td>\n",
       "    </tr>\n",
       "    <tr>\n",
       "      <th>R2 Test</th>\n",
       "      <td>1515.0</td>\n",
       "      <td>0.61</td>\n",
       "      <td>1.38</td>\n",
       "      <td>-21.80</td>\n",
       "      <td>0.70</td>\n",
       "      <td>0.84</td>\n",
       "      <td>0.91</td>\n",
       "      <td>0.99</td>\n",
       "    </tr>\n",
       "  </tbody>\n",
       "</table>\n",
       "</div>"
      ],
      "text/plain": [
       "            count  mean   std    min   25%   50%   75%    max\n",
       "RMSE Test  1515.0  2.89  2.32   0.45  1.75  2.36  3.25  28.17\n",
       "MAE Test   1515.0  1.98  1.21   0.38  1.31  1.71  2.28  12.46\n",
       "MAPE Test  1515.0  0.05  0.03   0.01  0.03  0.04  0.05   0.30\n",
       "R2 Test    1515.0  0.61  1.38 -21.80  0.70  0.84  0.91   0.99"
      ]
     },
     "execution_count": 34,
     "metadata": {},
     "output_type": "execute_result"
    },
    {
     "data": {
      "application/javascript": [
       "\n",
       "            setTimeout(function() {\n",
       "                var nbb_cell_id = 34;\n",
       "                var nbb_unformatted_code = \"df_full_203[[\\\"RMSE Test\\\", \\\"MAE Test\\\", \\\"MAPE Test\\\", \\\"R2 Test\\\"]].describe().round(2).T\";\n",
       "                var nbb_formatted_code = \"df_full_203[[\\\"RMSE Test\\\", \\\"MAE Test\\\", \\\"MAPE Test\\\", \\\"R2 Test\\\"]].describe().round(2).T\";\n",
       "                var nbb_cells = Jupyter.notebook.get_cells();\n",
       "                for (var i = 0; i < nbb_cells.length; ++i) {\n",
       "                    if (nbb_cells[i].input_prompt_number == nbb_cell_id) {\n",
       "                        if (nbb_cells[i].get_text() == nbb_unformatted_code) {\n",
       "                             nbb_cells[i].set_text(nbb_formatted_code);\n",
       "                        }\n",
       "                        break;\n",
       "                    }\n",
       "                }\n",
       "            }, 500);\n",
       "            "
      ],
      "text/plain": [
       "<IPython.core.display.Javascript object>"
      ]
     },
     "metadata": {},
     "output_type": "display_data"
    }
   ],
   "source": [
    "df_full_203[[\"RMSE Test\", \"MAE Test\", \"MAPE Test\", \"R2 Test\"]].describe().round(2).T"
   ]
  },
  {
   "cell_type": "markdown",
   "id": "373fd415",
   "metadata": {},
   "source": [
    "# Analysis (full results)"
   ]
  },
  {
   "cell_type": "code",
   "execution_count": 35,
   "id": "22f86f99",
   "metadata": {},
   "outputs": [
    {
     "data": {
      "application/javascript": [
       "\n",
       "            setTimeout(function() {\n",
       "                var nbb_cell_id = 35;\n",
       "                var nbb_unformatted_code = \"df_full_203 = df_full[~df_full[\\\"plant\\\"].isin([\\\"partner_i\\\", \\\"partner_ii\\\", \\\"partner_iv\\\"])].reset_index(\\n    drop=True\\n)\";\n",
       "                var nbb_formatted_code = \"df_full_203 = df_full[~df_full[\\\"plant\\\"].isin([\\\"partner_i\\\", \\\"partner_ii\\\", \\\"partner_iv\\\"])].reset_index(\\n    drop=True\\n)\";\n",
       "                var nbb_cells = Jupyter.notebook.get_cells();\n",
       "                for (var i = 0; i < nbb_cells.length; ++i) {\n",
       "                    if (nbb_cells[i].input_prompt_number == nbb_cell_id) {\n",
       "                        if (nbb_cells[i].get_text() == nbb_unformatted_code) {\n",
       "                             nbb_cells[i].set_text(nbb_formatted_code);\n",
       "                        }\n",
       "                        break;\n",
       "                    }\n",
       "                }\n",
       "            }, 500);\n",
       "            "
      ],
      "text/plain": [
       "<IPython.core.display.Javascript object>"
      ]
     },
     "metadata": {},
     "output_type": "display_data"
    }
   ],
   "source": [
    "df_full_203 = df_full[~df_full[\"plant\"].isin([\"partner_i\", \"partner_ii\", \"partner_iv\"])].reset_index(\n",
    "    drop=True\n",
    ")"
   ]
  },
  {
   "cell_type": "markdown",
   "id": "c8586bc1",
   "metadata": {},
   "source": [
    "## 203"
   ]
  },
  {
   "cell_type": "code",
   "execution_count": 36,
   "id": "6ef5741b",
   "metadata": {},
   "outputs": [
    {
     "data": {
      "text/plain": [
       "(1515, 24)"
      ]
     },
     "execution_count": 36,
     "metadata": {},
     "output_type": "execute_result"
    },
    {
     "data": {
      "application/javascript": [
       "\n",
       "            setTimeout(function() {\n",
       "                var nbb_cell_id = 36;\n",
       "                var nbb_unformatted_code = \"df_full_203.shape\";\n",
       "                var nbb_formatted_code = \"df_full_203.shape\";\n",
       "                var nbb_cells = Jupyter.notebook.get_cells();\n",
       "                for (var i = 0; i < nbb_cells.length; ++i) {\n",
       "                    if (nbb_cells[i].input_prompt_number == nbb_cell_id) {\n",
       "                        if (nbb_cells[i].get_text() == nbb_unformatted_code) {\n",
       "                             nbb_cells[i].set_text(nbb_formatted_code);\n",
       "                        }\n",
       "                        break;\n",
       "                    }\n",
       "                }\n",
       "            }, 500);\n",
       "            "
      ],
      "text/plain": [
       "<IPython.core.display.Javascript object>"
      ]
     },
     "metadata": {},
     "output_type": "display_data"
    }
   ],
   "source": [
    "df_full_203.shape"
   ]
  },
  {
   "cell_type": "code",
   "execution_count": 37,
   "id": "32830e1e",
   "metadata": {},
   "outputs": [
    {
     "data": {
      "text/plain": [
       "array([203])"
      ]
     },
     "execution_count": 37,
     "metadata": {},
     "output_type": "execute_result"
    },
    {
     "data": {
      "application/javascript": [
       "\n",
       "            setTimeout(function() {\n",
       "                var nbb_cell_id = 37;\n",
       "                var nbb_unformatted_code = \"df_full_203[\\\"Company\\\"].unique()\";\n",
       "                var nbb_formatted_code = \"df_full_203[\\\"Company\\\"].unique()\";\n",
       "                var nbb_cells = Jupyter.notebook.get_cells();\n",
       "                for (var i = 0; i < nbb_cells.length; ++i) {\n",
       "                    if (nbb_cells[i].input_prompt_number == nbb_cell_id) {\n",
       "                        if (nbb_cells[i].get_text() == nbb_unformatted_code) {\n",
       "                             nbb_cells[i].set_text(nbb_formatted_code);\n",
       "                        }\n",
       "                        break;\n",
       "                    }\n",
       "                }\n",
       "            }, 500);\n",
       "            "
      ],
      "text/plain": [
       "<IPython.core.display.Javascript object>"
      ]
     },
     "metadata": {},
     "output_type": "display_data"
    }
   ],
   "source": [
    "df_full_203[\"Company\"].unique()"
   ]
  },
  {
   "cell_type": "markdown",
   "id": "a4650ea3",
   "metadata": {},
   "source": [
    "### Variable Grouping: CM"
   ]
  },
  {
   "cell_type": "code",
   "execution_count": 38,
   "id": "69b15d30",
   "metadata": {},
   "outputs": [
    {
     "data": {
      "text/plain": [
       "array(['Chemical + Mineralogical + Physical - Early CS',\n",
       "       'Chemical + Mineralogical + Physical', 'Chemical + Mineralogical'],\n",
       "      dtype=object)"
      ]
     },
     "execution_count": 38,
     "metadata": {},
     "output_type": "execute_result"
    },
    {
     "data": {
      "application/javascript": [
       "\n",
       "            setTimeout(function() {\n",
       "                var nbb_cell_id = 38;\n",
       "                var nbb_unformatted_code = \"df_full_203[\\\"Features\\\"].unique()\";\n",
       "                var nbb_formatted_code = \"df_full_203[\\\"Features\\\"].unique()\";\n",
       "                var nbb_cells = Jupyter.notebook.get_cells();\n",
       "                for (var i = 0; i < nbb_cells.length; ++i) {\n",
       "                    if (nbb_cells[i].input_prompt_number == nbb_cell_id) {\n",
       "                        if (nbb_cells[i].get_text() == nbb_unformatted_code) {\n",
       "                             nbb_cells[i].set_text(nbb_formatted_code);\n",
       "                        }\n",
       "                        break;\n",
       "                    }\n",
       "                }\n",
       "            }, 500);\n",
       "            "
      ],
      "text/plain": [
       "<IPython.core.display.Javascript object>"
      ]
     },
     "metadata": {},
     "output_type": "display_data"
    }
   ],
   "source": [
    "df_full_203[\"Features\"].unique()"
   ]
  },
  {
   "cell_type": "code",
   "execution_count": 39,
   "id": "aecbab4e",
   "metadata": {},
   "outputs": [
    {
     "data": {
      "application/javascript": [
       "\n",
       "            setTimeout(function() {\n",
       "                var nbb_cell_id = 39;\n",
       "                var nbb_unformatted_code = \"df_results_full_cm = (\\n    df_full_203[df_full_203[\\\"Features\\\"].eq(\\\"Chemical + Mineralogical\\\")]\\n    .copy()\\n    .reset_index(drop=True)\\n)\";\n",
       "                var nbb_formatted_code = \"df_results_full_cm = (\\n    df_full_203[df_full_203[\\\"Features\\\"].eq(\\\"Chemical + Mineralogical\\\")]\\n    .copy()\\n    .reset_index(drop=True)\\n)\";\n",
       "                var nbb_cells = Jupyter.notebook.get_cells();\n",
       "                for (var i = 0; i < nbb_cells.length; ++i) {\n",
       "                    if (nbb_cells[i].input_prompt_number == nbb_cell_id) {\n",
       "                        if (nbb_cells[i].get_text() == nbb_unformatted_code) {\n",
       "                             nbb_cells[i].set_text(nbb_formatted_code);\n",
       "                        }\n",
       "                        break;\n",
       "                    }\n",
       "                }\n",
       "            }, 500);\n",
       "            "
      ],
      "text/plain": [
       "<IPython.core.display.Javascript object>"
      ]
     },
     "metadata": {},
     "output_type": "display_data"
    }
   ],
   "source": [
    "df_results_full_cm = (\n",
    "    df_full_203[df_full_203[\"Features\"].eq(\"Chemical + Mineralogical\")]\n",
    "    .copy()\n",
    "    .reset_index(drop=True)\n",
    ")"
   ]
  },
  {
   "cell_type": "code",
   "execution_count": 40,
   "id": "ef22b5b7",
   "metadata": {},
   "outputs": [
    {
     "data": {
      "text/plain": [
       "array(['Chemical + Mineralogical'], dtype=object)"
      ]
     },
     "execution_count": 40,
     "metadata": {},
     "output_type": "execute_result"
    },
    {
     "data": {
      "application/javascript": [
       "\n",
       "            setTimeout(function() {\n",
       "                var nbb_cell_id = 40;\n",
       "                var nbb_unformatted_code = \"df_results_full_cm[\\\"Features\\\"].unique()\";\n",
       "                var nbb_formatted_code = \"df_results_full_cm[\\\"Features\\\"].unique()\";\n",
       "                var nbb_cells = Jupyter.notebook.get_cells();\n",
       "                for (var i = 0; i < nbb_cells.length; ++i) {\n",
       "                    if (nbb_cells[i].input_prompt_number == nbb_cell_id) {\n",
       "                        if (nbb_cells[i].get_text() == nbb_unformatted_code) {\n",
       "                             nbb_cells[i].set_text(nbb_formatted_code);\n",
       "                        }\n",
       "                        break;\n",
       "                    }\n",
       "                }\n",
       "            }, 500);\n",
       "            "
      ],
      "text/plain": [
       "<IPython.core.display.Javascript object>"
      ]
     },
     "metadata": {},
     "output_type": "display_data"
    }
   ],
   "source": [
    "df_results_full_cm[\"Features\"].unique()"
   ]
  },
  {
   "cell_type": "code",
   "execution_count": 41,
   "id": "b36d578a",
   "metadata": {},
   "outputs": [
    {
     "data": {
      "text/plain": [
       "(520, 24)"
      ]
     },
     "execution_count": 41,
     "metadata": {},
     "output_type": "execute_result"
    },
    {
     "data": {
      "application/javascript": [
       "\n",
       "            setTimeout(function() {\n",
       "                var nbb_cell_id = 41;\n",
       "                var nbb_unformatted_code = \"df_results_full_cm.shape\";\n",
       "                var nbb_formatted_code = \"df_results_full_cm.shape\";\n",
       "                var nbb_cells = Jupyter.notebook.get_cells();\n",
       "                for (var i = 0; i < nbb_cells.length; ++i) {\n",
       "                    if (nbb_cells[i].input_prompt_number == nbb_cell_id) {\n",
       "                        if (nbb_cells[i].get_text() == nbb_unformatted_code) {\n",
       "                             nbb_cells[i].set_text(nbb_formatted_code);\n",
       "                        }\n",
       "                        break;\n",
       "                    }\n",
       "                }\n",
       "            }, 500);\n",
       "            "
      ],
      "text/plain": [
       "<IPython.core.display.Javascript object>"
      ]
     },
     "metadata": {},
     "output_type": "display_data"
    }
   ],
   "source": [
    "df_results_full_cm.shape"
   ]
  },
  {
   "cell_type": "markdown",
   "id": "38793043",
   "metadata": {},
   "source": [
    "#### K-Fold"
   ]
  },
  {
   "cell_type": "code",
   "execution_count": 42,
   "id": "f42ea390",
   "metadata": {},
   "outputs": [
    {
     "data": {
      "text/plain": [
       "array(['Blocking Time Series Split', 'Time Series Split'], dtype=object)"
      ]
     },
     "execution_count": 42,
     "metadata": {},
     "output_type": "execute_result"
    },
    {
     "data": {
      "application/javascript": [
       "\n",
       "            setTimeout(function() {\n",
       "                var nbb_cell_id = 42;\n",
       "                var nbb_unformatted_code = \"df_results_full_cm[\\\"Cross Validation\\\"].unique()\";\n",
       "                var nbb_formatted_code = \"df_results_full_cm[\\\"Cross Validation\\\"].unique()\";\n",
       "                var nbb_cells = Jupyter.notebook.get_cells();\n",
       "                for (var i = 0; i < nbb_cells.length; ++i) {\n",
       "                    if (nbb_cells[i].input_prompt_number == nbb_cell_id) {\n",
       "                        if (nbb_cells[i].get_text() == nbb_unformatted_code) {\n",
       "                             nbb_cells[i].set_text(nbb_formatted_code);\n",
       "                        }\n",
       "                        break;\n",
       "                    }\n",
       "                }\n",
       "            }, 500);\n",
       "            "
      ],
      "text/plain": [
       "<IPython.core.display.Javascript object>"
      ]
     },
     "metadata": {},
     "output_type": "display_data"
    }
   ],
   "source": [
    "df_results_full_cm[\"Cross Validation\"].unique()"
   ]
  },
  {
   "cell_type": "code",
   "execution_count": 43,
   "id": "4081dd6a",
   "metadata": {},
   "outputs": [
    {
     "data": {
      "application/javascript": [
       "\n",
       "            setTimeout(function() {\n",
       "                var nbb_cell_id = 43;\n",
       "                var nbb_unformatted_code = \"df_results_full_cm_kf = (\\n    df_results_full_cm[df_results_full_cm[\\\"Cross Validation\\\"].eq(\\\"Repeated KFold\\\")]\\n    .copy()\\n    .reset_index(drop=True)\\n)\";\n",
       "                var nbb_formatted_code = \"df_results_full_cm_kf = (\\n    df_results_full_cm[df_results_full_cm[\\\"Cross Validation\\\"].eq(\\\"Repeated KFold\\\")]\\n    .copy()\\n    .reset_index(drop=True)\\n)\";\n",
       "                var nbb_cells = Jupyter.notebook.get_cells();\n",
       "                for (var i = 0; i < nbb_cells.length; ++i) {\n",
       "                    if (nbb_cells[i].input_prompt_number == nbb_cell_id) {\n",
       "                        if (nbb_cells[i].get_text() == nbb_unformatted_code) {\n",
       "                             nbb_cells[i].set_text(nbb_formatted_code);\n",
       "                        }\n",
       "                        break;\n",
       "                    }\n",
       "                }\n",
       "            }, 500);\n",
       "            "
      ],
      "text/plain": [
       "<IPython.core.display.Javascript object>"
      ]
     },
     "metadata": {},
     "output_type": "display_data"
    }
   ],
   "source": [
    "df_results_full_cm_kf = (\n",
    "    df_results_full_cm[df_results_full_cm[\"Cross Validation\"].eq(\"Repeated KFold\")]\n",
    "    .copy()\n",
    "    .reset_index(drop=True)\n",
    ")"
   ]
  },
  {
   "cell_type": "code",
   "execution_count": 44,
   "id": "aa9f441b",
   "metadata": {},
   "outputs": [
    {
     "data": {
      "text/plain": [
       "array([], dtype=object)"
      ]
     },
     "execution_count": 44,
     "metadata": {},
     "output_type": "execute_result"
    },
    {
     "data": {
      "application/javascript": [
       "\n",
       "            setTimeout(function() {\n",
       "                var nbb_cell_id = 44;\n",
       "                var nbb_unformatted_code = \"df_results_full_cm_kf[\\\"Cross Validation\\\"].unique()\";\n",
       "                var nbb_formatted_code = \"df_results_full_cm_kf[\\\"Cross Validation\\\"].unique()\";\n",
       "                var nbb_cells = Jupyter.notebook.get_cells();\n",
       "                for (var i = 0; i < nbb_cells.length; ++i) {\n",
       "                    if (nbb_cells[i].input_prompt_number == nbb_cell_id) {\n",
       "                        if (nbb_cells[i].get_text() == nbb_unformatted_code) {\n",
       "                             nbb_cells[i].set_text(nbb_formatted_code);\n",
       "                        }\n",
       "                        break;\n",
       "                    }\n",
       "                }\n",
       "            }, 500);\n",
       "            "
      ],
      "text/plain": [
       "<IPython.core.display.Javascript object>"
      ]
     },
     "metadata": {},
     "output_type": "display_data"
    }
   ],
   "source": [
    "df_results_full_cm_kf[\"Cross Validation\"].unique()"
   ]
  },
  {
   "cell_type": "code",
   "execution_count": 45,
   "id": "1c25da6b",
   "metadata": {},
   "outputs": [
    {
     "data": {
      "text/plain": [
       "(0, 24)"
      ]
     },
     "execution_count": 45,
     "metadata": {},
     "output_type": "execute_result"
    },
    {
     "data": {
      "application/javascript": [
       "\n",
       "            setTimeout(function() {\n",
       "                var nbb_cell_id = 45;\n",
       "                var nbb_unformatted_code = \"df_results_full_cm_kf.shape\";\n",
       "                var nbb_formatted_code = \"df_results_full_cm_kf.shape\";\n",
       "                var nbb_cells = Jupyter.notebook.get_cells();\n",
       "                for (var i = 0; i < nbb_cells.length; ++i) {\n",
       "                    if (nbb_cells[i].input_prompt_number == nbb_cell_id) {\n",
       "                        if (nbb_cells[i].get_text() == nbb_unformatted_code) {\n",
       "                             nbb_cells[i].set_text(nbb_formatted_code);\n",
       "                        }\n",
       "                        break;\n",
       "                    }\n",
       "                }\n",
       "            }, 500);\n",
       "            "
      ],
      "text/plain": [
       "<IPython.core.display.Javascript object>"
      ]
     },
     "metadata": {},
     "output_type": "display_data"
    }
   ],
   "source": [
    "df_results_full_cm_kf.shape"
   ]
  },
  {
   "cell_type": "code",
   "execution_count": 46,
   "id": "ab30f2bc",
   "metadata": {},
   "outputs": [
    {
     "data": {
      "text/plain": [
       "(0,)"
      ]
     },
     "execution_count": 46,
     "metadata": {},
     "output_type": "execute_result"
    },
    {
     "data": {
      "application/javascript": [
       "\n",
       "            setTimeout(function() {\n",
       "                var nbb_cell_id = 46;\n",
       "                var nbb_unformatted_code = \"df_results_full_cm_kf.groupby([\\\"Company\\\", \\\"Model\\\", \\\"Timesteps\\\"], dropna=False)[\\n    \\\"RMSE Test\\\"\\n].mean().shape\";\n",
       "                var nbb_formatted_code = \"df_results_full_cm_kf.groupby([\\\"Company\\\", \\\"Model\\\", \\\"Timesteps\\\"], dropna=False)[\\n    \\\"RMSE Test\\\"\\n].mean().shape\";\n",
       "                var nbb_cells = Jupyter.notebook.get_cells();\n",
       "                for (var i = 0; i < nbb_cells.length; ++i) {\n",
       "                    if (nbb_cells[i].input_prompt_number == nbb_cell_id) {\n",
       "                        if (nbb_cells[i].get_text() == nbb_unformatted_code) {\n",
       "                             nbb_cells[i].set_text(nbb_formatted_code);\n",
       "                        }\n",
       "                        break;\n",
       "                    }\n",
       "                }\n",
       "            }, 500);\n",
       "            "
      ],
      "text/plain": [
       "<IPython.core.display.Javascript object>"
      ]
     },
     "metadata": {},
     "output_type": "display_data"
    }
   ],
   "source": [
    "df_results_full_cm_kf.groupby([\"Company\", \"Model\", \"Timesteps\"], dropna=False)[\n",
    "    \"RMSE Test\"\n",
    "].mean().shape"
   ]
  },
  {
   "cell_type": "markdown",
   "id": "104d1bf7",
   "metadata": {},
   "source": [
    "### Blocking time series"
   ]
  },
  {
   "cell_type": "code",
   "execution_count": 47,
   "id": "4345340a",
   "metadata": {},
   "outputs": [
    {
     "data": {
      "text/plain": [
       "array(['Blocking Time Series Split', 'Time Series Split'], dtype=object)"
      ]
     },
     "execution_count": 47,
     "metadata": {},
     "output_type": "execute_result"
    },
    {
     "data": {
      "application/javascript": [
       "\n",
       "            setTimeout(function() {\n",
       "                var nbb_cell_id = 47;\n",
       "                var nbb_unformatted_code = \"df_results_full_cm[\\\"Cross Validation\\\"].unique()\";\n",
       "                var nbb_formatted_code = \"df_results_full_cm[\\\"Cross Validation\\\"].unique()\";\n",
       "                var nbb_cells = Jupyter.notebook.get_cells();\n",
       "                for (var i = 0; i < nbb_cells.length; ++i) {\n",
       "                    if (nbb_cells[i].input_prompt_number == nbb_cell_id) {\n",
       "                        if (nbb_cells[i].get_text() == nbb_unformatted_code) {\n",
       "                             nbb_cells[i].set_text(nbb_formatted_code);\n",
       "                        }\n",
       "                        break;\n",
       "                    }\n",
       "                }\n",
       "            }, 500);\n",
       "            "
      ],
      "text/plain": [
       "<IPython.core.display.Javascript object>"
      ]
     },
     "metadata": {},
     "output_type": "display_data"
    }
   ],
   "source": [
    "df_results_full_cm[\"Cross Validation\"].unique()"
   ]
  },
  {
   "cell_type": "code",
   "execution_count": 48,
   "id": "4a13ef0d",
   "metadata": {},
   "outputs": [
    {
     "data": {
      "application/javascript": [
       "\n",
       "            setTimeout(function() {\n",
       "                var nbb_cell_id = 48;\n",
       "                var nbb_unformatted_code = \"df_results_full_cm_btss = (\\n    df_results_full_cm[\\n        df_results_full_cm[\\\"Cross Validation\\\"].eq(\\\"Blocking Time Series Split\\\")\\n    ]\\n    .copy()\\n    .reset_index(drop=True)\\n)\";\n",
       "                var nbb_formatted_code = \"df_results_full_cm_btss = (\\n    df_results_full_cm[\\n        df_results_full_cm[\\\"Cross Validation\\\"].eq(\\\"Blocking Time Series Split\\\")\\n    ]\\n    .copy()\\n    .reset_index(drop=True)\\n)\";\n",
       "                var nbb_cells = Jupyter.notebook.get_cells();\n",
       "                for (var i = 0; i < nbb_cells.length; ++i) {\n",
       "                    if (nbb_cells[i].input_prompt_number == nbb_cell_id) {\n",
       "                        if (nbb_cells[i].get_text() == nbb_unformatted_code) {\n",
       "                             nbb_cells[i].set_text(nbb_formatted_code);\n",
       "                        }\n",
       "                        break;\n",
       "                    }\n",
       "                }\n",
       "            }, 500);\n",
       "            "
      ],
      "text/plain": [
       "<IPython.core.display.Javascript object>"
      ]
     },
     "metadata": {},
     "output_type": "display_data"
    }
   ],
   "source": [
    "df_results_full_cm_btss = (\n",
    "    df_results_full_cm[\n",
    "        df_results_full_cm[\"Cross Validation\"].eq(\"Blocking Time Series Split\")\n",
    "    ]\n",
    "    .copy()\n",
    "    .reset_index(drop=True)\n",
    ")"
   ]
  },
  {
   "cell_type": "code",
   "execution_count": 49,
   "id": "afebc9db",
   "metadata": {},
   "outputs": [
    {
     "data": {
      "text/plain": [
       "array(['Blocking Time Series Split'], dtype=object)"
      ]
     },
     "execution_count": 49,
     "metadata": {},
     "output_type": "execute_result"
    },
    {
     "data": {
      "application/javascript": [
       "\n",
       "            setTimeout(function() {\n",
       "                var nbb_cell_id = 49;\n",
       "                var nbb_unformatted_code = \"df_results_full_cm_btss[\\\"Cross Validation\\\"].unique()\";\n",
       "                var nbb_formatted_code = \"df_results_full_cm_btss[\\\"Cross Validation\\\"].unique()\";\n",
       "                var nbb_cells = Jupyter.notebook.get_cells();\n",
       "                for (var i = 0; i < nbb_cells.length; ++i) {\n",
       "                    if (nbb_cells[i].input_prompt_number == nbb_cell_id) {\n",
       "                        if (nbb_cells[i].get_text() == nbb_unformatted_code) {\n",
       "                             nbb_cells[i].set_text(nbb_formatted_code);\n",
       "                        }\n",
       "                        break;\n",
       "                    }\n",
       "                }\n",
       "            }, 500);\n",
       "            "
      ],
      "text/plain": [
       "<IPython.core.display.Javascript object>"
      ]
     },
     "metadata": {},
     "output_type": "display_data"
    }
   ],
   "source": [
    "df_results_full_cm_btss[\"Cross Validation\"].unique()"
   ]
  },
  {
   "cell_type": "code",
   "execution_count": 50,
   "id": "56c1b3c3",
   "metadata": {},
   "outputs": [
    {
     "data": {
      "text/plain": [
       "(260, 24)"
      ]
     },
     "execution_count": 50,
     "metadata": {},
     "output_type": "execute_result"
    },
    {
     "data": {
      "application/javascript": [
       "\n",
       "            setTimeout(function() {\n",
       "                var nbb_cell_id = 50;\n",
       "                var nbb_unformatted_code = \"df_results_full_cm_btss.shape\";\n",
       "                var nbb_formatted_code = \"df_results_full_cm_btss.shape\";\n",
       "                var nbb_cells = Jupyter.notebook.get_cells();\n",
       "                for (var i = 0; i < nbb_cells.length; ++i) {\n",
       "                    if (nbb_cells[i].input_prompt_number == nbb_cell_id) {\n",
       "                        if (nbb_cells[i].get_text() == nbb_unformatted_code) {\n",
       "                             nbb_cells[i].set_text(nbb_formatted_code);\n",
       "                        }\n",
       "                        break;\n",
       "                    }\n",
       "                }\n",
       "            }, 500);\n",
       "            "
      ],
      "text/plain": [
       "<IPython.core.display.Javascript object>"
      ]
     },
     "metadata": {},
     "output_type": "display_data"
    }
   ],
   "source": [
    "df_results_full_cm_btss.shape"
   ]
  },
  {
   "cell_type": "code",
   "execution_count": 51,
   "id": "122a15a1",
   "metadata": {},
   "outputs": [
    {
     "data": {
      "text/plain": [
       "(20,)"
      ]
     },
     "execution_count": 51,
     "metadata": {},
     "output_type": "execute_result"
    },
    {
     "data": {
      "application/javascript": [
       "\n",
       "            setTimeout(function() {\n",
       "                var nbb_cell_id = 51;\n",
       "                var nbb_unformatted_code = \"df_results_full_cm_btss.groupby(\\n    [\\\"Company\\\", \\\"Plant\\\", \\\"Model\\\", \\\"Timesteps\\\"], dropna=False\\n)[\\\"RMSE Test\\\"].mean().shape\";\n",
       "                var nbb_formatted_code = \"df_results_full_cm_btss.groupby(\\n    [\\\"Company\\\", \\\"Plant\\\", \\\"Model\\\", \\\"Timesteps\\\"], dropna=False\\n)[\\\"RMSE Test\\\"].mean().shape\";\n",
       "                var nbb_cells = Jupyter.notebook.get_cells();\n",
       "                for (var i = 0; i < nbb_cells.length; ++i) {\n",
       "                    if (nbb_cells[i].input_prompt_number == nbb_cell_id) {\n",
       "                        if (nbb_cells[i].get_text() == nbb_unformatted_code) {\n",
       "                             nbb_cells[i].set_text(nbb_formatted_code);\n",
       "                        }\n",
       "                        break;\n",
       "                    }\n",
       "                }\n",
       "            }, 500);\n",
       "            "
      ],
      "text/plain": [
       "<IPython.core.display.Javascript object>"
      ]
     },
     "metadata": {},
     "output_type": "display_data"
    }
   ],
   "source": [
    "df_results_full_cm_btss.groupby(\n",
    "    [\"Company\", \"Plant\", \"Model\", \"Timesteps\"], dropna=False\n",
    ")[\"RMSE Test\"].mean().shape"
   ]
  },
  {
   "cell_type": "markdown",
   "id": "2f3b57a3",
   "metadata": {},
   "source": [
    "### Time Series Split"
   ]
  },
  {
   "cell_type": "code",
   "execution_count": 52,
   "id": "088c5380",
   "metadata": {},
   "outputs": [
    {
     "data": {
      "text/plain": [
       "array(['Blocking Time Series Split', 'Time Series Split'], dtype=object)"
      ]
     },
     "execution_count": 52,
     "metadata": {},
     "output_type": "execute_result"
    },
    {
     "data": {
      "application/javascript": [
       "\n",
       "            setTimeout(function() {\n",
       "                var nbb_cell_id = 52;\n",
       "                var nbb_unformatted_code = \"df_results_full_cm[\\\"Cross Validation\\\"].unique()\";\n",
       "                var nbb_formatted_code = \"df_results_full_cm[\\\"Cross Validation\\\"].unique()\";\n",
       "                var nbb_cells = Jupyter.notebook.get_cells();\n",
       "                for (var i = 0; i < nbb_cells.length; ++i) {\n",
       "                    if (nbb_cells[i].input_prompt_number == nbb_cell_id) {\n",
       "                        if (nbb_cells[i].get_text() == nbb_unformatted_code) {\n",
       "                             nbb_cells[i].set_text(nbb_formatted_code);\n",
       "                        }\n",
       "                        break;\n",
       "                    }\n",
       "                }\n",
       "            }, 500);\n",
       "            "
      ],
      "text/plain": [
       "<IPython.core.display.Javascript object>"
      ]
     },
     "metadata": {},
     "output_type": "display_data"
    }
   ],
   "source": [
    "df_results_full_cm[\"Cross Validation\"].unique()"
   ]
  },
  {
   "cell_type": "code",
   "execution_count": 53,
   "id": "53f39541",
   "metadata": {},
   "outputs": [
    {
     "data": {
      "application/javascript": [
       "\n",
       "            setTimeout(function() {\n",
       "                var nbb_cell_id = 53;\n",
       "                var nbb_unformatted_code = \"df_results_full_cm_tss = (\\n    df_results_full_cm[df_results_full_cm[\\\"Cross Validation\\\"].eq(\\\"Time Series Split\\\")]\\n    .copy()\\n    .reset_index(drop=True)\\n)\";\n",
       "                var nbb_formatted_code = \"df_results_full_cm_tss = (\\n    df_results_full_cm[df_results_full_cm[\\\"Cross Validation\\\"].eq(\\\"Time Series Split\\\")]\\n    .copy()\\n    .reset_index(drop=True)\\n)\";\n",
       "                var nbb_cells = Jupyter.notebook.get_cells();\n",
       "                for (var i = 0; i < nbb_cells.length; ++i) {\n",
       "                    if (nbb_cells[i].input_prompt_number == nbb_cell_id) {\n",
       "                        if (nbb_cells[i].get_text() == nbb_unformatted_code) {\n",
       "                             nbb_cells[i].set_text(nbb_formatted_code);\n",
       "                        }\n",
       "                        break;\n",
       "                    }\n",
       "                }\n",
       "            }, 500);\n",
       "            "
      ],
      "text/plain": [
       "<IPython.core.display.Javascript object>"
      ]
     },
     "metadata": {},
     "output_type": "display_data"
    }
   ],
   "source": [
    "df_results_full_cm_tss = (\n",
    "    df_results_full_cm[df_results_full_cm[\"Cross Validation\"].eq(\"Time Series Split\")]\n",
    "    .copy()\n",
    "    .reset_index(drop=True)\n",
    ")"
   ]
  },
  {
   "cell_type": "code",
   "execution_count": 54,
   "id": "75bca975",
   "metadata": {},
   "outputs": [
    {
     "data": {
      "text/plain": [
       "array(['Time Series Split'], dtype=object)"
      ]
     },
     "execution_count": 54,
     "metadata": {},
     "output_type": "execute_result"
    },
    {
     "data": {
      "application/javascript": [
       "\n",
       "            setTimeout(function() {\n",
       "                var nbb_cell_id = 54;\n",
       "                var nbb_unformatted_code = \"df_results_full_cm_tss[\\\"Cross Validation\\\"].unique()\";\n",
       "                var nbb_formatted_code = \"df_results_full_cm_tss[\\\"Cross Validation\\\"].unique()\";\n",
       "                var nbb_cells = Jupyter.notebook.get_cells();\n",
       "                for (var i = 0; i < nbb_cells.length; ++i) {\n",
       "                    if (nbb_cells[i].input_prompt_number == nbb_cell_id) {\n",
       "                        if (nbb_cells[i].get_text() == nbb_unformatted_code) {\n",
       "                             nbb_cells[i].set_text(nbb_formatted_code);\n",
       "                        }\n",
       "                        break;\n",
       "                    }\n",
       "                }\n",
       "            }, 500);\n",
       "            "
      ],
      "text/plain": [
       "<IPython.core.display.Javascript object>"
      ]
     },
     "metadata": {},
     "output_type": "display_data"
    }
   ],
   "source": [
    "df_results_full_cm_tss[\"Cross Validation\"].unique()"
   ]
  },
  {
   "cell_type": "code",
   "execution_count": 55,
   "id": "32b900f8",
   "metadata": {},
   "outputs": [
    {
     "data": {
      "text/plain": [
       "(260, 24)"
      ]
     },
     "execution_count": 55,
     "metadata": {},
     "output_type": "execute_result"
    },
    {
     "data": {
      "application/javascript": [
       "\n",
       "            setTimeout(function() {\n",
       "                var nbb_cell_id = 55;\n",
       "                var nbb_unformatted_code = \"df_results_full_cm_tss.shape\";\n",
       "                var nbb_formatted_code = \"df_results_full_cm_tss.shape\";\n",
       "                var nbb_cells = Jupyter.notebook.get_cells();\n",
       "                for (var i = 0; i < nbb_cells.length; ++i) {\n",
       "                    if (nbb_cells[i].input_prompt_number == nbb_cell_id) {\n",
       "                        if (nbb_cells[i].get_text() == nbb_unformatted_code) {\n",
       "                             nbb_cells[i].set_text(nbb_formatted_code);\n",
       "                        }\n",
       "                        break;\n",
       "                    }\n",
       "                }\n",
       "            }, 500);\n",
       "            "
      ],
      "text/plain": [
       "<IPython.core.display.Javascript object>"
      ]
     },
     "metadata": {},
     "output_type": "display_data"
    }
   ],
   "source": [
    "df_results_full_cm_tss.shape"
   ]
  },
  {
   "cell_type": "code",
   "execution_count": 56,
   "id": "d3068137",
   "metadata": {},
   "outputs": [
    {
     "data": {
      "text/plain": [
       "(20,)"
      ]
     },
     "execution_count": 56,
     "metadata": {},
     "output_type": "execute_result"
    },
    {
     "data": {
      "application/javascript": [
       "\n",
       "            setTimeout(function() {\n",
       "                var nbb_cell_id = 56;\n",
       "                var nbb_unformatted_code = \"df_results_full_cm_tss.groupby(\\n    [\\\"Company\\\", \\\"Plant\\\", \\\"Model\\\", \\\"Timesteps\\\"], dropna=False\\n)[\\\"RMSE Test\\\"].mean().shape\";\n",
       "                var nbb_formatted_code = \"df_results_full_cm_tss.groupby(\\n    [\\\"Company\\\", \\\"Plant\\\", \\\"Model\\\", \\\"Timesteps\\\"], dropna=False\\n)[\\\"RMSE Test\\\"].mean().shape\";\n",
       "                var nbb_cells = Jupyter.notebook.get_cells();\n",
       "                for (var i = 0; i < nbb_cells.length; ++i) {\n",
       "                    if (nbb_cells[i].input_prompt_number == nbb_cell_id) {\n",
       "                        if (nbb_cells[i].get_text() == nbb_unformatted_code) {\n",
       "                             nbb_cells[i].set_text(nbb_formatted_code);\n",
       "                        }\n",
       "                        break;\n",
       "                    }\n",
       "                }\n",
       "            }, 500);\n",
       "            "
      ],
      "text/plain": [
       "<IPython.core.display.Javascript object>"
      ]
     },
     "metadata": {},
     "output_type": "display_data"
    }
   ],
   "source": [
    "df_results_full_cm_tss.groupby(\n",
    "    [\"Company\", \"Plant\", \"Model\", \"Timesteps\"], dropna=False\n",
    ")[\"RMSE Test\"].mean().shape"
   ]
  },
  {
   "cell_type": "markdown",
   "id": "bd78bb4d",
   "metadata": {},
   "source": [
    "### Variable Grouping: CM-P"
   ]
  },
  {
   "cell_type": "code",
   "execution_count": 57,
   "id": "adf1b618",
   "metadata": {},
   "outputs": [
    {
     "data": {
      "text/plain": [
       "array(['Chemical + Mineralogical + Physical - Early CS',\n",
       "       'Chemical + Mineralogical + Physical', 'Chemical + Mineralogical'],\n",
       "      dtype=object)"
      ]
     },
     "execution_count": 57,
     "metadata": {},
     "output_type": "execute_result"
    },
    {
     "data": {
      "application/javascript": [
       "\n",
       "            setTimeout(function() {\n",
       "                var nbb_cell_id = 57;\n",
       "                var nbb_unformatted_code = \"df_full_203[\\\"Features\\\"].unique()\";\n",
       "                var nbb_formatted_code = \"df_full_203[\\\"Features\\\"].unique()\";\n",
       "                var nbb_cells = Jupyter.notebook.get_cells();\n",
       "                for (var i = 0; i < nbb_cells.length; ++i) {\n",
       "                    if (nbb_cells[i].input_prompt_number == nbb_cell_id) {\n",
       "                        if (nbb_cells[i].get_text() == nbb_unformatted_code) {\n",
       "                             nbb_cells[i].set_text(nbb_formatted_code);\n",
       "                        }\n",
       "                        break;\n",
       "                    }\n",
       "                }\n",
       "            }, 500);\n",
       "            "
      ],
      "text/plain": [
       "<IPython.core.display.Javascript object>"
      ]
     },
     "metadata": {},
     "output_type": "display_data"
    }
   ],
   "source": [
    "df_full_203[\"Features\"].unique()"
   ]
  },
  {
   "cell_type": "code",
   "execution_count": 58,
   "id": "8a88f79c",
   "metadata": {},
   "outputs": [
    {
     "data": {
      "application/javascript": [
       "\n",
       "            setTimeout(function() {\n",
       "                var nbb_cell_id = 58;\n",
       "                var nbb_unformatted_code = \"df_results_full_cm_p = (\\n    df_full_203[\\n        df_full_203[\\\"Features\\\"].eq(\\\"Chemical + Mineralogical + Physical - Early CS\\\")\\n    ]\\n    .copy()\\n    .reset_index(drop=True)\\n)\";\n",
       "                var nbb_formatted_code = \"df_results_full_cm_p = (\\n    df_full_203[\\n        df_full_203[\\\"Features\\\"].eq(\\\"Chemical + Mineralogical + Physical - Early CS\\\")\\n    ]\\n    .copy()\\n    .reset_index(drop=True)\\n)\";\n",
       "                var nbb_cells = Jupyter.notebook.get_cells();\n",
       "                for (var i = 0; i < nbb_cells.length; ++i) {\n",
       "                    if (nbb_cells[i].input_prompt_number == nbb_cell_id) {\n",
       "                        if (nbb_cells[i].get_text() == nbb_unformatted_code) {\n",
       "                             nbb_cells[i].set_text(nbb_formatted_code);\n",
       "                        }\n",
       "                        break;\n",
       "                    }\n",
       "                }\n",
       "            }, 500);\n",
       "            "
      ],
      "text/plain": [
       "<IPython.core.display.Javascript object>"
      ]
     },
     "metadata": {},
     "output_type": "display_data"
    }
   ],
   "source": [
    "df_results_full_cm_p = (\n",
    "    df_full_203[\n",
    "        df_full_203[\"Features\"].eq(\"Chemical + Mineralogical + Physical - Early CS\")\n",
    "    ]\n",
    "    .copy()\n",
    "    .reset_index(drop=True)\n",
    ")"
   ]
  },
  {
   "cell_type": "code",
   "execution_count": 59,
   "id": "352f7ca8",
   "metadata": {},
   "outputs": [
    {
     "data": {
      "text/plain": [
       "array(['Chemical + Mineralogical + Physical - Early CS'], dtype=object)"
      ]
     },
     "execution_count": 59,
     "metadata": {},
     "output_type": "execute_result"
    },
    {
     "data": {
      "application/javascript": [
       "\n",
       "            setTimeout(function() {\n",
       "                var nbb_cell_id = 59;\n",
       "                var nbb_unformatted_code = \"df_results_full_cm_p[\\\"Features\\\"].unique()\";\n",
       "                var nbb_formatted_code = \"df_results_full_cm_p[\\\"Features\\\"].unique()\";\n",
       "                var nbb_cells = Jupyter.notebook.get_cells();\n",
       "                for (var i = 0; i < nbb_cells.length; ++i) {\n",
       "                    if (nbb_cells[i].input_prompt_number == nbb_cell_id) {\n",
       "                        if (nbb_cells[i].get_text() == nbb_unformatted_code) {\n",
       "                             nbb_cells[i].set_text(nbb_formatted_code);\n",
       "                        }\n",
       "                        break;\n",
       "                    }\n",
       "                }\n",
       "            }, 500);\n",
       "            "
      ],
      "text/plain": [
       "<IPython.core.display.Javascript object>"
      ]
     },
     "metadata": {},
     "output_type": "display_data"
    }
   ],
   "source": [
    "df_results_full_cm_p[\"Features\"].unique()"
   ]
  },
  {
   "cell_type": "code",
   "execution_count": 60,
   "id": "56297a27",
   "metadata": {},
   "outputs": [
    {
     "data": {
      "text/plain": [
       "(520, 24)"
      ]
     },
     "execution_count": 60,
     "metadata": {},
     "output_type": "execute_result"
    },
    {
     "data": {
      "application/javascript": [
       "\n",
       "            setTimeout(function() {\n",
       "                var nbb_cell_id = 60;\n",
       "                var nbb_unformatted_code = \"df_results_full_cm_p.shape\";\n",
       "                var nbb_formatted_code = \"df_results_full_cm_p.shape\";\n",
       "                var nbb_cells = Jupyter.notebook.get_cells();\n",
       "                for (var i = 0; i < nbb_cells.length; ++i) {\n",
       "                    if (nbb_cells[i].input_prompt_number == nbb_cell_id) {\n",
       "                        if (nbb_cells[i].get_text() == nbb_unformatted_code) {\n",
       "                             nbb_cells[i].set_text(nbb_formatted_code);\n",
       "                        }\n",
       "                        break;\n",
       "                    }\n",
       "                }\n",
       "            }, 500);\n",
       "            "
      ],
      "text/plain": [
       "<IPython.core.display.Javascript object>"
      ]
     },
     "metadata": {},
     "output_type": "display_data"
    }
   ],
   "source": [
    "df_results_full_cm_p.shape"
   ]
  },
  {
   "cell_type": "markdown",
   "id": "2780c6bb",
   "metadata": {},
   "source": [
    "### K-Fold"
   ]
  },
  {
   "cell_type": "code",
   "execution_count": 61,
   "id": "0dc51fd4",
   "metadata": {},
   "outputs": [
    {
     "data": {
      "application/javascript": [
       "\n",
       "            setTimeout(function() {\n",
       "                var nbb_cell_id = 61;\n",
       "                var nbb_unformatted_code = \"# df_results_full_cm_p[\\\"Cross Validation\\\"].unique()\";\n",
       "                var nbb_formatted_code = \"# df_results_full_cm_p[\\\"Cross Validation\\\"].unique()\";\n",
       "                var nbb_cells = Jupyter.notebook.get_cells();\n",
       "                for (var i = 0; i < nbb_cells.length; ++i) {\n",
       "                    if (nbb_cells[i].input_prompt_number == nbb_cell_id) {\n",
       "                        if (nbb_cells[i].get_text() == nbb_unformatted_code) {\n",
       "                             nbb_cells[i].set_text(nbb_formatted_code);\n",
       "                        }\n",
       "                        break;\n",
       "                    }\n",
       "                }\n",
       "            }, 500);\n",
       "            "
      ],
      "text/plain": [
       "<IPython.core.display.Javascript object>"
      ]
     },
     "metadata": {},
     "output_type": "display_data"
    }
   ],
   "source": [
    "# df_results_full_cm_p[\"Cross Validation\"].unique()"
   ]
  },
  {
   "cell_type": "code",
   "execution_count": 62,
   "id": "820d3853",
   "metadata": {},
   "outputs": [
    {
     "data": {
      "application/javascript": [
       "\n",
       "            setTimeout(function() {\n",
       "                var nbb_cell_id = 62;\n",
       "                var nbb_unformatted_code = \"# df_results_full_cm_p_kf = (\\n#     df_results_full_cm_p[df_results_full_cm_p[\\\"Cross Validation\\\"].eq(\\\"Repeated KFold\\\")]\\n#     .copy()\\n#     .reset_index(drop=True)\\n# )\";\n",
       "                var nbb_formatted_code = \"# df_results_full_cm_p_kf = (\\n#     df_results_full_cm_p[df_results_full_cm_p[\\\"Cross Validation\\\"].eq(\\\"Repeated KFold\\\")]\\n#     .copy()\\n#     .reset_index(drop=True)\\n# )\";\n",
       "                var nbb_cells = Jupyter.notebook.get_cells();\n",
       "                for (var i = 0; i < nbb_cells.length; ++i) {\n",
       "                    if (nbb_cells[i].input_prompt_number == nbb_cell_id) {\n",
       "                        if (nbb_cells[i].get_text() == nbb_unformatted_code) {\n",
       "                             nbb_cells[i].set_text(nbb_formatted_code);\n",
       "                        }\n",
       "                        break;\n",
       "                    }\n",
       "                }\n",
       "            }, 500);\n",
       "            "
      ],
      "text/plain": [
       "<IPython.core.display.Javascript object>"
      ]
     },
     "metadata": {},
     "output_type": "display_data"
    }
   ],
   "source": [
    "# df_results_full_cm_p_kf = (\n",
    "#     df_results_full_cm_p[df_results_full_cm_p[\"Cross Validation\"].eq(\"Repeated KFold\")]\n",
    "#     .copy()\n",
    "#     .reset_index(drop=True)\n",
    "# )"
   ]
  },
  {
   "cell_type": "code",
   "execution_count": 63,
   "id": "81f8c8c7",
   "metadata": {},
   "outputs": [
    {
     "data": {
      "application/javascript": [
       "\n",
       "            setTimeout(function() {\n",
       "                var nbb_cell_id = 63;\n",
       "                var nbb_unformatted_code = \"# df_results_full_cm_p_kf[\\\"Cross Validation\\\"].unique()\";\n",
       "                var nbb_formatted_code = \"# df_results_full_cm_p_kf[\\\"Cross Validation\\\"].unique()\";\n",
       "                var nbb_cells = Jupyter.notebook.get_cells();\n",
       "                for (var i = 0; i < nbb_cells.length; ++i) {\n",
       "                    if (nbb_cells[i].input_prompt_number == nbb_cell_id) {\n",
       "                        if (nbb_cells[i].get_text() == nbb_unformatted_code) {\n",
       "                             nbb_cells[i].set_text(nbb_formatted_code);\n",
       "                        }\n",
       "                        break;\n",
       "                    }\n",
       "                }\n",
       "            }, 500);\n",
       "            "
      ],
      "text/plain": [
       "<IPython.core.display.Javascript object>"
      ]
     },
     "metadata": {},
     "output_type": "display_data"
    }
   ],
   "source": [
    "# df_results_full_cm_p_kf[\"Cross Validation\"].unique()"
   ]
  },
  {
   "cell_type": "code",
   "execution_count": 64,
   "id": "28fa2f1d",
   "metadata": {},
   "outputs": [
    {
     "data": {
      "application/javascript": [
       "\n",
       "            setTimeout(function() {\n",
       "                var nbb_cell_id = 64;\n",
       "                var nbb_unformatted_code = \"# df_results_full_cm_p_kf.shape\";\n",
       "                var nbb_formatted_code = \"# df_results_full_cm_p_kf.shape\";\n",
       "                var nbb_cells = Jupyter.notebook.get_cells();\n",
       "                for (var i = 0; i < nbb_cells.length; ++i) {\n",
       "                    if (nbb_cells[i].input_prompt_number == nbb_cell_id) {\n",
       "                        if (nbb_cells[i].get_text() == nbb_unformatted_code) {\n",
       "                             nbb_cells[i].set_text(nbb_formatted_code);\n",
       "                        }\n",
       "                        break;\n",
       "                    }\n",
       "                }\n",
       "            }, 500);\n",
       "            "
      ],
      "text/plain": [
       "<IPython.core.display.Javascript object>"
      ]
     },
     "metadata": {},
     "output_type": "display_data"
    }
   ],
   "source": [
    "# df_results_full_cm_p_kf.shape"
   ]
  },
  {
   "cell_type": "code",
   "execution_count": 65,
   "id": "3afcfa29",
   "metadata": {},
   "outputs": [
    {
     "data": {
      "application/javascript": [
       "\n",
       "            setTimeout(function() {\n",
       "                var nbb_cell_id = 65;\n",
       "                var nbb_unformatted_code = \"# df_results_full_cm_kf.groupby([\\\"Company\\\", \\\"Model\\\", \\\"Timesteps\\\"], dropna=False)[\\n#     \\\"RMSE Test\\\"\\n# ].mean().shape\";\n",
       "                var nbb_formatted_code = \"# df_results_full_cm_kf.groupby([\\\"Company\\\", \\\"Model\\\", \\\"Timesteps\\\"], dropna=False)[\\n#     \\\"RMSE Test\\\"\\n# ].mean().shape\";\n",
       "                var nbb_cells = Jupyter.notebook.get_cells();\n",
       "                for (var i = 0; i < nbb_cells.length; ++i) {\n",
       "                    if (nbb_cells[i].input_prompt_number == nbb_cell_id) {\n",
       "                        if (nbb_cells[i].get_text() == nbb_unformatted_code) {\n",
       "                             nbb_cells[i].set_text(nbb_formatted_code);\n",
       "                        }\n",
       "                        break;\n",
       "                    }\n",
       "                }\n",
       "            }, 500);\n",
       "            "
      ],
      "text/plain": [
       "<IPython.core.display.Javascript object>"
      ]
     },
     "metadata": {},
     "output_type": "display_data"
    }
   ],
   "source": [
    "# df_results_full_cm_kf.groupby([\"Company\", \"Model\", \"Timesteps\"], dropna=False)[\n",
    "#     \"RMSE Test\"\n",
    "# ].mean().shape"
   ]
  },
  {
   "cell_type": "markdown",
   "id": "6c69bb9d",
   "metadata": {},
   "source": [
    "### Blocking time series"
   ]
  },
  {
   "cell_type": "code",
   "execution_count": 66,
   "id": "defa57c3",
   "metadata": {},
   "outputs": [
    {
     "data": {
      "text/plain": [
       "array(['Blocking Time Series Split', 'Time Series Split'], dtype=object)"
      ]
     },
     "execution_count": 66,
     "metadata": {},
     "output_type": "execute_result"
    },
    {
     "data": {
      "application/javascript": [
       "\n",
       "            setTimeout(function() {\n",
       "                var nbb_cell_id = 66;\n",
       "                var nbb_unformatted_code = \"df_results_full_cm_p[\\\"Cross Validation\\\"].unique()\";\n",
       "                var nbb_formatted_code = \"df_results_full_cm_p[\\\"Cross Validation\\\"].unique()\";\n",
       "                var nbb_cells = Jupyter.notebook.get_cells();\n",
       "                for (var i = 0; i < nbb_cells.length; ++i) {\n",
       "                    if (nbb_cells[i].input_prompt_number == nbb_cell_id) {\n",
       "                        if (nbb_cells[i].get_text() == nbb_unformatted_code) {\n",
       "                             nbb_cells[i].set_text(nbb_formatted_code);\n",
       "                        }\n",
       "                        break;\n",
       "                    }\n",
       "                }\n",
       "            }, 500);\n",
       "            "
      ],
      "text/plain": [
       "<IPython.core.display.Javascript object>"
      ]
     },
     "metadata": {},
     "output_type": "display_data"
    }
   ],
   "source": [
    "df_results_full_cm_p[\"Cross Validation\"].unique()"
   ]
  },
  {
   "cell_type": "code",
   "execution_count": 67,
   "id": "864aab26",
   "metadata": {},
   "outputs": [
    {
     "data": {
      "application/javascript": [
       "\n",
       "            setTimeout(function() {\n",
       "                var nbb_cell_id = 67;\n",
       "                var nbb_unformatted_code = \"df_results_full_cm_p_btss = (\\n    df_results_full_cm_p[\\n        df_results_full_cm_p[\\\"Cross Validation\\\"].eq(\\\"Blocking Time Series Split\\\")\\n    ]\\n    .copy()\\n    .reset_index(drop=True)\\n)\";\n",
       "                var nbb_formatted_code = \"df_results_full_cm_p_btss = (\\n    df_results_full_cm_p[\\n        df_results_full_cm_p[\\\"Cross Validation\\\"].eq(\\\"Blocking Time Series Split\\\")\\n    ]\\n    .copy()\\n    .reset_index(drop=True)\\n)\";\n",
       "                var nbb_cells = Jupyter.notebook.get_cells();\n",
       "                for (var i = 0; i < nbb_cells.length; ++i) {\n",
       "                    if (nbb_cells[i].input_prompt_number == nbb_cell_id) {\n",
       "                        if (nbb_cells[i].get_text() == nbb_unformatted_code) {\n",
       "                             nbb_cells[i].set_text(nbb_formatted_code);\n",
       "                        }\n",
       "                        break;\n",
       "                    }\n",
       "                }\n",
       "            }, 500);\n",
       "            "
      ],
      "text/plain": [
       "<IPython.core.display.Javascript object>"
      ]
     },
     "metadata": {},
     "output_type": "display_data"
    }
   ],
   "source": [
    "df_results_full_cm_p_btss = (\n",
    "    df_results_full_cm_p[\n",
    "        df_results_full_cm_p[\"Cross Validation\"].eq(\"Blocking Time Series Split\")\n",
    "    ]\n",
    "    .copy()\n",
    "    .reset_index(drop=True)\n",
    ")"
   ]
  },
  {
   "cell_type": "code",
   "execution_count": 68,
   "id": "684920f7",
   "metadata": {
    "scrolled": true
   },
   "outputs": [
    {
     "data": {
      "text/plain": [
       "array(['Blocking Time Series Split'], dtype=object)"
      ]
     },
     "execution_count": 68,
     "metadata": {},
     "output_type": "execute_result"
    },
    {
     "data": {
      "application/javascript": [
       "\n",
       "            setTimeout(function() {\n",
       "                var nbb_cell_id = 68;\n",
       "                var nbb_unformatted_code = \"df_results_full_cm_p_btss[\\\"Cross Validation\\\"].unique()\";\n",
       "                var nbb_formatted_code = \"df_results_full_cm_p_btss[\\\"Cross Validation\\\"].unique()\";\n",
       "                var nbb_cells = Jupyter.notebook.get_cells();\n",
       "                for (var i = 0; i < nbb_cells.length; ++i) {\n",
       "                    if (nbb_cells[i].input_prompt_number == nbb_cell_id) {\n",
       "                        if (nbb_cells[i].get_text() == nbb_unformatted_code) {\n",
       "                             nbb_cells[i].set_text(nbb_formatted_code);\n",
       "                        }\n",
       "                        break;\n",
       "                    }\n",
       "                }\n",
       "            }, 500);\n",
       "            "
      ],
      "text/plain": [
       "<IPython.core.display.Javascript object>"
      ]
     },
     "metadata": {},
     "output_type": "display_data"
    }
   ],
   "source": [
    "df_results_full_cm_p_btss[\"Cross Validation\"].unique()"
   ]
  },
  {
   "cell_type": "code",
   "execution_count": 69,
   "id": "3cc0b24d",
   "metadata": {},
   "outputs": [
    {
     "data": {
      "text/plain": [
       "(260, 24)"
      ]
     },
     "execution_count": 69,
     "metadata": {},
     "output_type": "execute_result"
    },
    {
     "data": {
      "application/javascript": [
       "\n",
       "            setTimeout(function() {\n",
       "                var nbb_cell_id = 69;\n",
       "                var nbb_unformatted_code = \"df_results_full_cm_p_btss.shape\";\n",
       "                var nbb_formatted_code = \"df_results_full_cm_p_btss.shape\";\n",
       "                var nbb_cells = Jupyter.notebook.get_cells();\n",
       "                for (var i = 0; i < nbb_cells.length; ++i) {\n",
       "                    if (nbb_cells[i].input_prompt_number == nbb_cell_id) {\n",
       "                        if (nbb_cells[i].get_text() == nbb_unformatted_code) {\n",
       "                             nbb_cells[i].set_text(nbb_formatted_code);\n",
       "                        }\n",
       "                        break;\n",
       "                    }\n",
       "                }\n",
       "            }, 500);\n",
       "            "
      ],
      "text/plain": [
       "<IPython.core.display.Javascript object>"
      ]
     },
     "metadata": {},
     "output_type": "display_data"
    }
   ],
   "source": [
    "df_results_full_cm_p_btss.shape"
   ]
  },
  {
   "cell_type": "code",
   "execution_count": 70,
   "id": "8b7c7c51",
   "metadata": {},
   "outputs": [
    {
     "data": {
      "text/plain": [
       "((260, 24), (260, 24))"
      ]
     },
     "execution_count": 70,
     "metadata": {},
     "output_type": "execute_result"
    },
    {
     "data": {
      "application/javascript": [
       "\n",
       "            setTimeout(function() {\n",
       "                var nbb_cell_id = 70;\n",
       "                var nbb_unformatted_code = \"df_results_full_cm_p_btss.shape, df_results_full_cm_btss.shape\";\n",
       "                var nbb_formatted_code = \"df_results_full_cm_p_btss.shape, df_results_full_cm_btss.shape\";\n",
       "                var nbb_cells = Jupyter.notebook.get_cells();\n",
       "                for (var i = 0; i < nbb_cells.length; ++i) {\n",
       "                    if (nbb_cells[i].input_prompt_number == nbb_cell_id) {\n",
       "                        if (nbb_cells[i].get_text() == nbb_unformatted_code) {\n",
       "                             nbb_cells[i].set_text(nbb_formatted_code);\n",
       "                        }\n",
       "                        break;\n",
       "                    }\n",
       "                }\n",
       "            }, 500);\n",
       "            "
      ],
      "text/plain": [
       "<IPython.core.display.Javascript object>"
      ]
     },
     "metadata": {},
     "output_type": "display_data"
    }
   ],
   "source": [
    "df_results_full_cm_p_btss.shape, df_results_full_cm_btss.shape"
   ]
  },
  {
   "cell_type": "code",
   "execution_count": 71,
   "id": "2ecba418",
   "metadata": {},
   "outputs": [
    {
     "data": {
      "text/plain": [
       "(20,)"
      ]
     },
     "execution_count": 71,
     "metadata": {},
     "output_type": "execute_result"
    },
    {
     "data": {
      "application/javascript": [
       "\n",
       "            setTimeout(function() {\n",
       "                var nbb_cell_id = 71;\n",
       "                var nbb_unformatted_code = \"df_results_full_cm_p_btss.groupby(\\n    [\\\"Company\\\", \\\"Cross Validation\\\", \\\"Plant\\\", \\\"Model\\\", \\\"Timesteps\\\"], dropna=False\\n)[\\\"RMSE Test\\\"].mean().shape\";\n",
       "                var nbb_formatted_code = \"df_results_full_cm_p_btss.groupby(\\n    [\\\"Company\\\", \\\"Cross Validation\\\", \\\"Plant\\\", \\\"Model\\\", \\\"Timesteps\\\"], dropna=False\\n)[\\\"RMSE Test\\\"].mean().shape\";\n",
       "                var nbb_cells = Jupyter.notebook.get_cells();\n",
       "                for (var i = 0; i < nbb_cells.length; ++i) {\n",
       "                    if (nbb_cells[i].input_prompt_number == nbb_cell_id) {\n",
       "                        if (nbb_cells[i].get_text() == nbb_unformatted_code) {\n",
       "                             nbb_cells[i].set_text(nbb_formatted_code);\n",
       "                        }\n",
       "                        break;\n",
       "                    }\n",
       "                }\n",
       "            }, 500);\n",
       "            "
      ],
      "text/plain": [
       "<IPython.core.display.Javascript object>"
      ]
     },
     "metadata": {},
     "output_type": "display_data"
    }
   ],
   "source": [
    "df_results_full_cm_p_btss.groupby(\n",
    "    [\"Company\", \"Cross Validation\", \"Plant\", \"Model\", \"Timesteps\"], dropna=False\n",
    ")[\"RMSE Test\"].mean().shape"
   ]
  },
  {
   "cell_type": "code",
   "execution_count": 72,
   "id": "e0a6c603",
   "metadata": {},
   "outputs": [
    {
     "data": {
      "application/javascript": [
       "\n",
       "            setTimeout(function() {\n",
       "                var nbb_cell_id = 72;\n",
       "                var nbb_unformatted_code = \"df_results_full_cm_btss.shape, df_results_full_cm_p_btss.shape\\n\\ndf1 = df_results_full_cm_btss\\ndf2 = df_results_full_cm_p_btss\\n\\ngrouping_columns = [\\\"Company\\\", \\\"Plant\\\", \\\"Model\\\", \\\"Timesteps\\\"]\";\n",
       "                var nbb_formatted_code = \"df_results_full_cm_btss.shape, df_results_full_cm_p_btss.shape\\n\\ndf1 = df_results_full_cm_btss\\ndf2 = df_results_full_cm_p_btss\\n\\ngrouping_columns = [\\\"Company\\\", \\\"Plant\\\", \\\"Model\\\", \\\"Timesteps\\\"]\";\n",
       "                var nbb_cells = Jupyter.notebook.get_cells();\n",
       "                for (var i = 0; i < nbb_cells.length; ++i) {\n",
       "                    if (nbb_cells[i].input_prompt_number == nbb_cell_id) {\n",
       "                        if (nbb_cells[i].get_text() == nbb_unformatted_code) {\n",
       "                             nbb_cells[i].set_text(nbb_formatted_code);\n",
       "                        }\n",
       "                        break;\n",
       "                    }\n",
       "                }\n",
       "            }, 500);\n",
       "            "
      ],
      "text/plain": [
       "<IPython.core.display.Javascript object>"
      ]
     },
     "metadata": {},
     "output_type": "display_data"
    }
   ],
   "source": [
    "df_results_full_cm_btss.shape, df_results_full_cm_p_btss.shape\n",
    "\n",
    "df1 = df_results_full_cm_btss\n",
    "df2 = df_results_full_cm_p_btss\n",
    "\n",
    "grouping_columns = [\"Company\", \"Plant\", \"Model\", \"Timesteps\"]"
   ]
  },
  {
   "cell_type": "code",
   "execution_count": 73,
   "id": "525c0e4c",
   "metadata": {},
   "outputs": [
    {
     "name": "stdout",
     "output_type": "stream",
     "text": [
      "Differences in group sizes:\n",
      "Empty DataFrame\n",
      "Columns: [self, other]\n",
      "Index: []\n"
     ]
    },
    {
     "data": {
      "application/javascript": [
       "\n",
       "            setTimeout(function() {\n",
       "                var nbb_cell_id = 73;\n",
       "                var nbb_unformatted_code = \"# Group by and get sizes for both datasets\\ngroup_sizes_df1 = df1.groupby(grouping_columns, dropna=False).size()\\ngroup_sizes_df2 = df2.groupby(grouping_columns, dropna=False).size()\\n\\n# Compare group sizes directly\\ngroup_size_diff = group_sizes_df1.compare(group_sizes_df2)\\nprint(\\\"Differences in group sizes:\\\")\\nprint(group_size_diff)\";\n",
       "                var nbb_formatted_code = \"# Group by and get sizes for both datasets\\ngroup_sizes_df1 = df1.groupby(grouping_columns, dropna=False).size()\\ngroup_sizes_df2 = df2.groupby(grouping_columns, dropna=False).size()\\n\\n# Compare group sizes directly\\ngroup_size_diff = group_sizes_df1.compare(group_sizes_df2)\\nprint(\\\"Differences in group sizes:\\\")\\nprint(group_size_diff)\";\n",
       "                var nbb_cells = Jupyter.notebook.get_cells();\n",
       "                for (var i = 0; i < nbb_cells.length; ++i) {\n",
       "                    if (nbb_cells[i].input_prompt_number == nbb_cell_id) {\n",
       "                        if (nbb_cells[i].get_text() == nbb_unformatted_code) {\n",
       "                             nbb_cells[i].set_text(nbb_formatted_code);\n",
       "                        }\n",
       "                        break;\n",
       "                    }\n",
       "                }\n",
       "            }, 500);\n",
       "            "
      ],
      "text/plain": [
       "<IPython.core.display.Javascript object>"
      ]
     },
     "metadata": {},
     "output_type": "display_data"
    }
   ],
   "source": [
    "# Group by and get sizes for both datasets\n",
    "group_sizes_df1 = df1.groupby(grouping_columns, dropna=False).size()\n",
    "group_sizes_df2 = df2.groupby(grouping_columns, dropna=False).size()\n",
    "\n",
    "# Compare group sizes directly\n",
    "group_size_diff = group_sizes_df1.compare(group_sizes_df2)\n",
    "print(\"Differences in group sizes:\")\n",
    "print(group_size_diff)"
   ]
  },
  {
   "cell_type": "code",
   "execution_count": 74,
   "id": "686ddfc2",
   "metadata": {},
   "outputs": [
    {
     "name": "stdout",
     "output_type": "stream",
     "text": [
      "Differences in group sizes:\n",
      "Empty DataFrame\n",
      "Columns: [self, other]\n",
      "Index: []\n"
     ]
    },
    {
     "data": {
      "application/javascript": [
       "\n",
       "            setTimeout(function() {\n",
       "                var nbb_cell_id = 74;\n",
       "                var nbb_unformatted_code = \"# Group by and get sizes for both datasets\\ngroup_sizes_df1 = df1.groupby(grouping_columns, dropna=False).size()\\ngroup_sizes_df2 = df2.groupby(grouping_columns, dropna=False).size()\\n\\n# Compare group sizes directly\\ngroup_size_diff = group_sizes_df2.compare(group_sizes_df1)\\nprint(\\\"Differences in group sizes:\\\")\\nprint(group_size_diff)\";\n",
       "                var nbb_formatted_code = \"# Group by and get sizes for both datasets\\ngroup_sizes_df1 = df1.groupby(grouping_columns, dropna=False).size()\\ngroup_sizes_df2 = df2.groupby(grouping_columns, dropna=False).size()\\n\\n# Compare group sizes directly\\ngroup_size_diff = group_sizes_df2.compare(group_sizes_df1)\\nprint(\\\"Differences in group sizes:\\\")\\nprint(group_size_diff)\";\n",
       "                var nbb_cells = Jupyter.notebook.get_cells();\n",
       "                for (var i = 0; i < nbb_cells.length; ++i) {\n",
       "                    if (nbb_cells[i].input_prompt_number == nbb_cell_id) {\n",
       "                        if (nbb_cells[i].get_text() == nbb_unformatted_code) {\n",
       "                             nbb_cells[i].set_text(nbb_formatted_code);\n",
       "                        }\n",
       "                        break;\n",
       "                    }\n",
       "                }\n",
       "            }, 500);\n",
       "            "
      ],
      "text/plain": [
       "<IPython.core.display.Javascript object>"
      ]
     },
     "metadata": {},
     "output_type": "display_data"
    }
   ],
   "source": [
    "# Group by and get sizes for both datasets\n",
    "group_sizes_df1 = df1.groupby(grouping_columns, dropna=False).size()\n",
    "group_sizes_df2 = df2.groupby(grouping_columns, dropna=False).size()\n",
    "\n",
    "# Compare group sizes directly\n",
    "group_size_diff = group_sizes_df2.compare(group_sizes_df1)\n",
    "print(\"Differences in group sizes:\")\n",
    "print(group_size_diff)"
   ]
  },
  {
   "cell_type": "markdown",
   "id": "22005053",
   "metadata": {},
   "source": [
    "### Time Series Split"
   ]
  },
  {
   "cell_type": "code",
   "execution_count": 75,
   "id": "292e9209",
   "metadata": {},
   "outputs": [
    {
     "data": {
      "text/plain": [
       "array(['Blocking Time Series Split', 'Time Series Split'], dtype=object)"
      ]
     },
     "execution_count": 75,
     "metadata": {},
     "output_type": "execute_result"
    },
    {
     "data": {
      "application/javascript": [
       "\n",
       "            setTimeout(function() {\n",
       "                var nbb_cell_id = 75;\n",
       "                var nbb_unformatted_code = \"df_results_full_cm_p[\\\"Cross Validation\\\"].unique()\";\n",
       "                var nbb_formatted_code = \"df_results_full_cm_p[\\\"Cross Validation\\\"].unique()\";\n",
       "                var nbb_cells = Jupyter.notebook.get_cells();\n",
       "                for (var i = 0; i < nbb_cells.length; ++i) {\n",
       "                    if (nbb_cells[i].input_prompt_number == nbb_cell_id) {\n",
       "                        if (nbb_cells[i].get_text() == nbb_unformatted_code) {\n",
       "                             nbb_cells[i].set_text(nbb_formatted_code);\n",
       "                        }\n",
       "                        break;\n",
       "                    }\n",
       "                }\n",
       "            }, 500);\n",
       "            "
      ],
      "text/plain": [
       "<IPython.core.display.Javascript object>"
      ]
     },
     "metadata": {},
     "output_type": "display_data"
    }
   ],
   "source": [
    "df_results_full_cm_p[\"Cross Validation\"].unique()"
   ]
  },
  {
   "cell_type": "code",
   "execution_count": 76,
   "id": "bcf38e40",
   "metadata": {},
   "outputs": [
    {
     "data": {
      "application/javascript": [
       "\n",
       "            setTimeout(function() {\n",
       "                var nbb_cell_id = 76;\n",
       "                var nbb_unformatted_code = \"df_results_full_cm_p_tss = (\\n    df_results_full_cm_p[\\n        df_results_full_cm_p[\\\"Cross Validation\\\"].eq(\\\"Time Series Split\\\")\\n    ]\\n    .copy()\\n    .reset_index(drop=True)\\n)\";\n",
       "                var nbb_formatted_code = \"df_results_full_cm_p_tss = (\\n    df_results_full_cm_p[\\n        df_results_full_cm_p[\\\"Cross Validation\\\"].eq(\\\"Time Series Split\\\")\\n    ]\\n    .copy()\\n    .reset_index(drop=True)\\n)\";\n",
       "                var nbb_cells = Jupyter.notebook.get_cells();\n",
       "                for (var i = 0; i < nbb_cells.length; ++i) {\n",
       "                    if (nbb_cells[i].input_prompt_number == nbb_cell_id) {\n",
       "                        if (nbb_cells[i].get_text() == nbb_unformatted_code) {\n",
       "                             nbb_cells[i].set_text(nbb_formatted_code);\n",
       "                        }\n",
       "                        break;\n",
       "                    }\n",
       "                }\n",
       "            }, 500);\n",
       "            "
      ],
      "text/plain": [
       "<IPython.core.display.Javascript object>"
      ]
     },
     "metadata": {},
     "output_type": "display_data"
    }
   ],
   "source": [
    "df_results_full_cm_p_tss = (\n",
    "    df_results_full_cm_p[\n",
    "        df_results_full_cm_p[\"Cross Validation\"].eq(\"Time Series Split\")\n",
    "    ]\n",
    "    .copy()\n",
    "    .reset_index(drop=True)\n",
    ")"
   ]
  },
  {
   "cell_type": "code",
   "execution_count": 77,
   "id": "58a94ec4",
   "metadata": {},
   "outputs": [
    {
     "data": {
      "text/plain": [
       "array(['Time Series Split'], dtype=object)"
      ]
     },
     "execution_count": 77,
     "metadata": {},
     "output_type": "execute_result"
    },
    {
     "data": {
      "application/javascript": [
       "\n",
       "            setTimeout(function() {\n",
       "                var nbb_cell_id = 77;\n",
       "                var nbb_unformatted_code = \"df_results_full_cm_p_tss[\\\"Cross Validation\\\"].unique()\";\n",
       "                var nbb_formatted_code = \"df_results_full_cm_p_tss[\\\"Cross Validation\\\"].unique()\";\n",
       "                var nbb_cells = Jupyter.notebook.get_cells();\n",
       "                for (var i = 0; i < nbb_cells.length; ++i) {\n",
       "                    if (nbb_cells[i].input_prompt_number == nbb_cell_id) {\n",
       "                        if (nbb_cells[i].get_text() == nbb_unformatted_code) {\n",
       "                             nbb_cells[i].set_text(nbb_formatted_code);\n",
       "                        }\n",
       "                        break;\n",
       "                    }\n",
       "                }\n",
       "            }, 500);\n",
       "            "
      ],
      "text/plain": [
       "<IPython.core.display.Javascript object>"
      ]
     },
     "metadata": {},
     "output_type": "display_data"
    }
   ],
   "source": [
    "df_results_full_cm_p_tss[\"Cross Validation\"].unique()"
   ]
  },
  {
   "cell_type": "code",
   "execution_count": 78,
   "id": "061f0116",
   "metadata": {},
   "outputs": [
    {
     "data": {
      "text/plain": [
       "(260, 24)"
      ]
     },
     "execution_count": 78,
     "metadata": {},
     "output_type": "execute_result"
    },
    {
     "data": {
      "application/javascript": [
       "\n",
       "            setTimeout(function() {\n",
       "                var nbb_cell_id = 78;\n",
       "                var nbb_unformatted_code = \"df_results_full_cm_p_tss.shape\";\n",
       "                var nbb_formatted_code = \"df_results_full_cm_p_tss.shape\";\n",
       "                var nbb_cells = Jupyter.notebook.get_cells();\n",
       "                for (var i = 0; i < nbb_cells.length; ++i) {\n",
       "                    if (nbb_cells[i].input_prompt_number == nbb_cell_id) {\n",
       "                        if (nbb_cells[i].get_text() == nbb_unformatted_code) {\n",
       "                             nbb_cells[i].set_text(nbb_formatted_code);\n",
       "                        }\n",
       "                        break;\n",
       "                    }\n",
       "                }\n",
       "            }, 500);\n",
       "            "
      ],
      "text/plain": [
       "<IPython.core.display.Javascript object>"
      ]
     },
     "metadata": {},
     "output_type": "display_data"
    }
   ],
   "source": [
    "df_results_full_cm_p_tss.shape"
   ]
  },
  {
   "cell_type": "code",
   "execution_count": 79,
   "id": "1e650749",
   "metadata": {},
   "outputs": [
    {
     "data": {
      "text/plain": [
       "(20,)"
      ]
     },
     "execution_count": 79,
     "metadata": {},
     "output_type": "execute_result"
    },
    {
     "data": {
      "application/javascript": [
       "\n",
       "            setTimeout(function() {\n",
       "                var nbb_cell_id = 79;\n",
       "                var nbb_unformatted_code = \"df_results_full_cm_p_tss.groupby(\\n    [\\\"Company\\\", \\\"Model\\\", \\\"Plant\\\", \\\"Timesteps\\\"], dropna=False\\n)[\\\"RMSE Test\\\"].mean().shape\";\n",
       "                var nbb_formatted_code = \"df_results_full_cm_p_tss.groupby(\\n    [\\\"Company\\\", \\\"Model\\\", \\\"Plant\\\", \\\"Timesteps\\\"], dropna=False\\n)[\\\"RMSE Test\\\"].mean().shape\";\n",
       "                var nbb_cells = Jupyter.notebook.get_cells();\n",
       "                for (var i = 0; i < nbb_cells.length; ++i) {\n",
       "                    if (nbb_cells[i].input_prompt_number == nbb_cell_id) {\n",
       "                        if (nbb_cells[i].get_text() == nbb_unformatted_code) {\n",
       "                             nbb_cells[i].set_text(nbb_formatted_code);\n",
       "                        }\n",
       "                        break;\n",
       "                    }\n",
       "                }\n",
       "            }, 500);\n",
       "            "
      ],
      "text/plain": [
       "<IPython.core.display.Javascript object>"
      ]
     },
     "metadata": {},
     "output_type": "display_data"
    }
   ],
   "source": [
    "df_results_full_cm_p_tss.groupby(\n",
    "    [\"Company\", \"Model\", \"Plant\", \"Timesteps\"], dropna=False\n",
    ")[\"RMSE Test\"].mean().shape"
   ]
  },
  {
   "cell_type": "markdown",
   "id": "89b9b2ff",
   "metadata": {},
   "source": [
    "### Variable Grouping: CM-P-CS"
   ]
  },
  {
   "cell_type": "code",
   "execution_count": 80,
   "id": "0928e85c",
   "metadata": {},
   "outputs": [
    {
     "data": {
      "text/plain": [
       "array(['Chemical + Mineralogical + Physical - Early CS',\n",
       "       'Chemical + Mineralogical + Physical', 'Chemical + Mineralogical'],\n",
       "      dtype=object)"
      ]
     },
     "execution_count": 80,
     "metadata": {},
     "output_type": "execute_result"
    },
    {
     "data": {
      "application/javascript": [
       "\n",
       "            setTimeout(function() {\n",
       "                var nbb_cell_id = 80;\n",
       "                var nbb_unformatted_code = \"df_full_203[\\\"Features\\\"].unique()\";\n",
       "                var nbb_formatted_code = \"df_full_203[\\\"Features\\\"].unique()\";\n",
       "                var nbb_cells = Jupyter.notebook.get_cells();\n",
       "                for (var i = 0; i < nbb_cells.length; ++i) {\n",
       "                    if (nbb_cells[i].input_prompt_number == nbb_cell_id) {\n",
       "                        if (nbb_cells[i].get_text() == nbb_unformatted_code) {\n",
       "                             nbb_cells[i].set_text(nbb_formatted_code);\n",
       "                        }\n",
       "                        break;\n",
       "                    }\n",
       "                }\n",
       "            }, 500);\n",
       "            "
      ],
      "text/plain": [
       "<IPython.core.display.Javascript object>"
      ]
     },
     "metadata": {},
     "output_type": "display_data"
    }
   ],
   "source": [
    "df_full_203[\"Features\"].unique()"
   ]
  },
  {
   "cell_type": "code",
   "execution_count": 81,
   "id": "efefb197",
   "metadata": {},
   "outputs": [
    {
     "data": {
      "application/javascript": [
       "\n",
       "            setTimeout(function() {\n",
       "                var nbb_cell_id = 81;\n",
       "                var nbb_unformatted_code = \"df_results_full_cm_p_cs = (\\n    df_full_203[df_full_203[\\\"Features\\\"].eq(\\\"Chemical + Mineralogical + Physical\\\")]\\n    .copy()\\n    .reset_index(drop=True)\\n)\";\n",
       "                var nbb_formatted_code = \"df_results_full_cm_p_cs = (\\n    df_full_203[df_full_203[\\\"Features\\\"].eq(\\\"Chemical + Mineralogical + Physical\\\")]\\n    .copy()\\n    .reset_index(drop=True)\\n)\";\n",
       "                var nbb_cells = Jupyter.notebook.get_cells();\n",
       "                for (var i = 0; i < nbb_cells.length; ++i) {\n",
       "                    if (nbb_cells[i].input_prompt_number == nbb_cell_id) {\n",
       "                        if (nbb_cells[i].get_text() == nbb_unformatted_code) {\n",
       "                             nbb_cells[i].set_text(nbb_formatted_code);\n",
       "                        }\n",
       "                        break;\n",
       "                    }\n",
       "                }\n",
       "            }, 500);\n",
       "            "
      ],
      "text/plain": [
       "<IPython.core.display.Javascript object>"
      ]
     },
     "metadata": {},
     "output_type": "display_data"
    }
   ],
   "source": [
    "df_results_full_cm_p_cs = (\n",
    "    df_full_203[df_full_203[\"Features\"].eq(\"Chemical + Mineralogical + Physical\")]\n",
    "    .copy()\n",
    "    .reset_index(drop=True)\n",
    ")"
   ]
  },
  {
   "cell_type": "code",
   "execution_count": 82,
   "id": "ec0b7d3e",
   "metadata": {},
   "outputs": [
    {
     "data": {
      "text/plain": [
       "array(['Chemical + Mineralogical + Physical'], dtype=object)"
      ]
     },
     "execution_count": 82,
     "metadata": {},
     "output_type": "execute_result"
    },
    {
     "data": {
      "application/javascript": [
       "\n",
       "            setTimeout(function() {\n",
       "                var nbb_cell_id = 82;\n",
       "                var nbb_unformatted_code = \"df_results_full_cm_p_cs[\\\"Features\\\"].unique()\";\n",
       "                var nbb_formatted_code = \"df_results_full_cm_p_cs[\\\"Features\\\"].unique()\";\n",
       "                var nbb_cells = Jupyter.notebook.get_cells();\n",
       "                for (var i = 0; i < nbb_cells.length; ++i) {\n",
       "                    if (nbb_cells[i].input_prompt_number == nbb_cell_id) {\n",
       "                        if (nbb_cells[i].get_text() == nbb_unformatted_code) {\n",
       "                             nbb_cells[i].set_text(nbb_formatted_code);\n",
       "                        }\n",
       "                        break;\n",
       "                    }\n",
       "                }\n",
       "            }, 500);\n",
       "            "
      ],
      "text/plain": [
       "<IPython.core.display.Javascript object>"
      ]
     },
     "metadata": {},
     "output_type": "display_data"
    }
   ],
   "source": [
    "df_results_full_cm_p_cs[\"Features\"].unique()"
   ]
  },
  {
   "cell_type": "code",
   "execution_count": 83,
   "id": "71dbb817",
   "metadata": {},
   "outputs": [
    {
     "data": {
      "text/plain": [
       "(475, 24)"
      ]
     },
     "execution_count": 83,
     "metadata": {},
     "output_type": "execute_result"
    },
    {
     "data": {
      "application/javascript": [
       "\n",
       "            setTimeout(function() {\n",
       "                var nbb_cell_id = 83;\n",
       "                var nbb_unformatted_code = \"df_results_full_cm_p_cs.shape\";\n",
       "                var nbb_formatted_code = \"df_results_full_cm_p_cs.shape\";\n",
       "                var nbb_cells = Jupyter.notebook.get_cells();\n",
       "                for (var i = 0; i < nbb_cells.length; ++i) {\n",
       "                    if (nbb_cells[i].input_prompt_number == nbb_cell_id) {\n",
       "                        if (nbb_cells[i].get_text() == nbb_unformatted_code) {\n",
       "                             nbb_cells[i].set_text(nbb_formatted_code);\n",
       "                        }\n",
       "                        break;\n",
       "                    }\n",
       "                }\n",
       "            }, 500);\n",
       "            "
      ],
      "text/plain": [
       "<IPython.core.display.Javascript object>"
      ]
     },
     "metadata": {},
     "output_type": "display_data"
    }
   ],
   "source": [
    "df_results_full_cm_p_cs.shape"
   ]
  },
  {
   "cell_type": "markdown",
   "id": "aab9d1bf",
   "metadata": {},
   "source": [
    "### K-Fold"
   ]
  },
  {
   "cell_type": "code",
   "execution_count": 84,
   "id": "2bdf0ad5",
   "metadata": {},
   "outputs": [
    {
     "data": {
      "text/plain": [
       "array(['Blocking Time Series Split', 'Time Series Split'], dtype=object)"
      ]
     },
     "execution_count": 84,
     "metadata": {},
     "output_type": "execute_result"
    },
    {
     "data": {
      "application/javascript": [
       "\n",
       "            setTimeout(function() {\n",
       "                var nbb_cell_id = 84;\n",
       "                var nbb_unformatted_code = \"df_results_full_cm_p_cs[\\\"Cross Validation\\\"].unique()\";\n",
       "                var nbb_formatted_code = \"df_results_full_cm_p_cs[\\\"Cross Validation\\\"].unique()\";\n",
       "                var nbb_cells = Jupyter.notebook.get_cells();\n",
       "                for (var i = 0; i < nbb_cells.length; ++i) {\n",
       "                    if (nbb_cells[i].input_prompt_number == nbb_cell_id) {\n",
       "                        if (nbb_cells[i].get_text() == nbb_unformatted_code) {\n",
       "                             nbb_cells[i].set_text(nbb_formatted_code);\n",
       "                        }\n",
       "                        break;\n",
       "                    }\n",
       "                }\n",
       "            }, 500);\n",
       "            "
      ],
      "text/plain": [
       "<IPython.core.display.Javascript object>"
      ]
     },
     "metadata": {},
     "output_type": "display_data"
    }
   ],
   "source": [
    "df_results_full_cm_p_cs[\"Cross Validation\"].unique()"
   ]
  },
  {
   "cell_type": "code",
   "execution_count": 85,
   "id": "2fa090b5",
   "metadata": {},
   "outputs": [
    {
     "data": {
      "application/javascript": [
       "\n",
       "            setTimeout(function() {\n",
       "                var nbb_cell_id = 85;\n",
       "                var nbb_unformatted_code = \"df_results_full_cm_p_cs_kf = (\\n    df_results_full_cm_p_cs[\\n        df_results_full_cm_p_cs[\\\"Cross Validation\\\"].eq(\\\"Repeated KFold\\\")\\n    ]\\n    .copy()\\n    .reset_index(drop=True)\\n)\";\n",
       "                var nbb_formatted_code = \"df_results_full_cm_p_cs_kf = (\\n    df_results_full_cm_p_cs[\\n        df_results_full_cm_p_cs[\\\"Cross Validation\\\"].eq(\\\"Repeated KFold\\\")\\n    ]\\n    .copy()\\n    .reset_index(drop=True)\\n)\";\n",
       "                var nbb_cells = Jupyter.notebook.get_cells();\n",
       "                for (var i = 0; i < nbb_cells.length; ++i) {\n",
       "                    if (nbb_cells[i].input_prompt_number == nbb_cell_id) {\n",
       "                        if (nbb_cells[i].get_text() == nbb_unformatted_code) {\n",
       "                             nbb_cells[i].set_text(nbb_formatted_code);\n",
       "                        }\n",
       "                        break;\n",
       "                    }\n",
       "                }\n",
       "            }, 500);\n",
       "            "
      ],
      "text/plain": [
       "<IPython.core.display.Javascript object>"
      ]
     },
     "metadata": {},
     "output_type": "display_data"
    }
   ],
   "source": [
    "df_results_full_cm_p_cs_kf = (\n",
    "    df_results_full_cm_p_cs[\n",
    "        df_results_full_cm_p_cs[\"Cross Validation\"].eq(\"Repeated KFold\")\n",
    "    ]\n",
    "    .copy()\n",
    "    .reset_index(drop=True)\n",
    ")"
   ]
  },
  {
   "cell_type": "code",
   "execution_count": 86,
   "id": "15ecb51b",
   "metadata": {},
   "outputs": [
    {
     "data": {
      "text/plain": [
       "array([], dtype=object)"
      ]
     },
     "execution_count": 86,
     "metadata": {},
     "output_type": "execute_result"
    },
    {
     "data": {
      "application/javascript": [
       "\n",
       "            setTimeout(function() {\n",
       "                var nbb_cell_id = 86;\n",
       "                var nbb_unformatted_code = \"df_results_full_cm_p_cs_kf[\\\"Cross Validation\\\"].unique()\";\n",
       "                var nbb_formatted_code = \"df_results_full_cm_p_cs_kf[\\\"Cross Validation\\\"].unique()\";\n",
       "                var nbb_cells = Jupyter.notebook.get_cells();\n",
       "                for (var i = 0; i < nbb_cells.length; ++i) {\n",
       "                    if (nbb_cells[i].input_prompt_number == nbb_cell_id) {\n",
       "                        if (nbb_cells[i].get_text() == nbb_unformatted_code) {\n",
       "                             nbb_cells[i].set_text(nbb_formatted_code);\n",
       "                        }\n",
       "                        break;\n",
       "                    }\n",
       "                }\n",
       "            }, 500);\n",
       "            "
      ],
      "text/plain": [
       "<IPython.core.display.Javascript object>"
      ]
     },
     "metadata": {},
     "output_type": "display_data"
    }
   ],
   "source": [
    "df_results_full_cm_p_cs_kf[\"Cross Validation\"].unique()"
   ]
  },
  {
   "cell_type": "code",
   "execution_count": 87,
   "id": "11f85d4b",
   "metadata": {},
   "outputs": [
    {
     "data": {
      "text/plain": [
       "(0, 24)"
      ]
     },
     "execution_count": 87,
     "metadata": {},
     "output_type": "execute_result"
    },
    {
     "data": {
      "application/javascript": [
       "\n",
       "            setTimeout(function() {\n",
       "                var nbb_cell_id = 87;\n",
       "                var nbb_unformatted_code = \"df_results_full_cm_p_cs_kf.shape\";\n",
       "                var nbb_formatted_code = \"df_results_full_cm_p_cs_kf.shape\";\n",
       "                var nbb_cells = Jupyter.notebook.get_cells();\n",
       "                for (var i = 0; i < nbb_cells.length; ++i) {\n",
       "                    if (nbb_cells[i].input_prompt_number == nbb_cell_id) {\n",
       "                        if (nbb_cells[i].get_text() == nbb_unformatted_code) {\n",
       "                             nbb_cells[i].set_text(nbb_formatted_code);\n",
       "                        }\n",
       "                        break;\n",
       "                    }\n",
       "                }\n",
       "            }, 500);\n",
       "            "
      ],
      "text/plain": [
       "<IPython.core.display.Javascript object>"
      ]
     },
     "metadata": {},
     "output_type": "display_data"
    }
   ],
   "source": [
    "df_results_full_cm_p_cs_kf.shape"
   ]
  },
  {
   "cell_type": "code",
   "execution_count": 88,
   "id": "af2b086b",
   "metadata": {},
   "outputs": [
    {
     "data": {
      "text/plain": [
       "(0,)"
      ]
     },
     "execution_count": 88,
     "metadata": {},
     "output_type": "execute_result"
    },
    {
     "data": {
      "application/javascript": [
       "\n",
       "            setTimeout(function() {\n",
       "                var nbb_cell_id = 88;\n",
       "                var nbb_unformatted_code = \"df_results_full_cm_p_cs_kf.groupby([\\\"Company\\\", \\\"Model\\\", \\\"Timesteps\\\"], dropna=False)[\\n    \\\"RMSE Test\\\"\\n].mean().shape\";\n",
       "                var nbb_formatted_code = \"df_results_full_cm_p_cs_kf.groupby([\\\"Company\\\", \\\"Model\\\", \\\"Timesteps\\\"], dropna=False)[\\n    \\\"RMSE Test\\\"\\n].mean().shape\";\n",
       "                var nbb_cells = Jupyter.notebook.get_cells();\n",
       "                for (var i = 0; i < nbb_cells.length; ++i) {\n",
       "                    if (nbb_cells[i].input_prompt_number == nbb_cell_id) {\n",
       "                        if (nbb_cells[i].get_text() == nbb_unformatted_code) {\n",
       "                             nbb_cells[i].set_text(nbb_formatted_code);\n",
       "                        }\n",
       "                        break;\n",
       "                    }\n",
       "                }\n",
       "            }, 500);\n",
       "            "
      ],
      "text/plain": [
       "<IPython.core.display.Javascript object>"
      ]
     },
     "metadata": {},
     "output_type": "display_data"
    }
   ],
   "source": [
    "df_results_full_cm_p_cs_kf.groupby([\"Company\", \"Model\", \"Timesteps\"], dropna=False)[\n",
    "    \"RMSE Test\"\n",
    "].mean().shape"
   ]
  },
  {
   "cell_type": "markdown",
   "id": "80477100",
   "metadata": {},
   "source": [
    "### Blocking time series"
   ]
  },
  {
   "cell_type": "code",
   "execution_count": 89,
   "id": "bb8557f9",
   "metadata": {},
   "outputs": [
    {
     "data": {
      "text/plain": [
       "array(['Blocking Time Series Split', 'Time Series Split'], dtype=object)"
      ]
     },
     "execution_count": 89,
     "metadata": {},
     "output_type": "execute_result"
    },
    {
     "data": {
      "application/javascript": [
       "\n",
       "            setTimeout(function() {\n",
       "                var nbb_cell_id = 89;\n",
       "                var nbb_unformatted_code = \"df_results_full_cm_p_cs[\\\"Cross Validation\\\"].unique()\";\n",
       "                var nbb_formatted_code = \"df_results_full_cm_p_cs[\\\"Cross Validation\\\"].unique()\";\n",
       "                var nbb_cells = Jupyter.notebook.get_cells();\n",
       "                for (var i = 0; i < nbb_cells.length; ++i) {\n",
       "                    if (nbb_cells[i].input_prompt_number == nbb_cell_id) {\n",
       "                        if (nbb_cells[i].get_text() == nbb_unformatted_code) {\n",
       "                             nbb_cells[i].set_text(nbb_formatted_code);\n",
       "                        }\n",
       "                        break;\n",
       "                    }\n",
       "                }\n",
       "            }, 500);\n",
       "            "
      ],
      "text/plain": [
       "<IPython.core.display.Javascript object>"
      ]
     },
     "metadata": {},
     "output_type": "display_data"
    }
   ],
   "source": [
    "df_results_full_cm_p_cs[\"Cross Validation\"].unique()"
   ]
  },
  {
   "cell_type": "code",
   "execution_count": 90,
   "id": "73df27fa",
   "metadata": {},
   "outputs": [
    {
     "data": {
      "application/javascript": [
       "\n",
       "            setTimeout(function() {\n",
       "                var nbb_cell_id = 90;\n",
       "                var nbb_unformatted_code = \"df_results_full_cm_p_cs_btss = (\\n    df_results_full_cm_p_cs[\\n        df_results_full_cm_p_cs[\\\"Cross Validation\\\"].eq(\\\"Blocking Time Series Split\\\")\\n    ]\\n    .copy()\\n    .reset_index(drop=True)\\n)\";\n",
       "                var nbb_formatted_code = \"df_results_full_cm_p_cs_btss = (\\n    df_results_full_cm_p_cs[\\n        df_results_full_cm_p_cs[\\\"Cross Validation\\\"].eq(\\\"Blocking Time Series Split\\\")\\n    ]\\n    .copy()\\n    .reset_index(drop=True)\\n)\";\n",
       "                var nbb_cells = Jupyter.notebook.get_cells();\n",
       "                for (var i = 0; i < nbb_cells.length; ++i) {\n",
       "                    if (nbb_cells[i].input_prompt_number == nbb_cell_id) {\n",
       "                        if (nbb_cells[i].get_text() == nbb_unformatted_code) {\n",
       "                             nbb_cells[i].set_text(nbb_formatted_code);\n",
       "                        }\n",
       "                        break;\n",
       "                    }\n",
       "                }\n",
       "            }, 500);\n",
       "            "
      ],
      "text/plain": [
       "<IPython.core.display.Javascript object>"
      ]
     },
     "metadata": {},
     "output_type": "display_data"
    }
   ],
   "source": [
    "df_results_full_cm_p_cs_btss = (\n",
    "    df_results_full_cm_p_cs[\n",
    "        df_results_full_cm_p_cs[\"Cross Validation\"].eq(\"Blocking Time Series Split\")\n",
    "    ]\n",
    "    .copy()\n",
    "    .reset_index(drop=True)\n",
    ")"
   ]
  },
  {
   "cell_type": "code",
   "execution_count": 91,
   "id": "786c9680",
   "metadata": {},
   "outputs": [
    {
     "data": {
      "text/plain": [
       "array(['Blocking Time Series Split'], dtype=object)"
      ]
     },
     "execution_count": 91,
     "metadata": {},
     "output_type": "execute_result"
    },
    {
     "data": {
      "application/javascript": [
       "\n",
       "            setTimeout(function() {\n",
       "                var nbb_cell_id = 91;\n",
       "                var nbb_unformatted_code = \"df_results_full_cm_p_cs_btss[\\\"Cross Validation\\\"].unique()\";\n",
       "                var nbb_formatted_code = \"df_results_full_cm_p_cs_btss[\\\"Cross Validation\\\"].unique()\";\n",
       "                var nbb_cells = Jupyter.notebook.get_cells();\n",
       "                for (var i = 0; i < nbb_cells.length; ++i) {\n",
       "                    if (nbb_cells[i].input_prompt_number == nbb_cell_id) {\n",
       "                        if (nbb_cells[i].get_text() == nbb_unformatted_code) {\n",
       "                             nbb_cells[i].set_text(nbb_formatted_code);\n",
       "                        }\n",
       "                        break;\n",
       "                    }\n",
       "                }\n",
       "            }, 500);\n",
       "            "
      ],
      "text/plain": [
       "<IPython.core.display.Javascript object>"
      ]
     },
     "metadata": {},
     "output_type": "display_data"
    }
   ],
   "source": [
    "df_results_full_cm_p_cs_btss[\"Cross Validation\"].unique()"
   ]
  },
  {
   "cell_type": "code",
   "execution_count": 92,
   "id": "a3fb5da5",
   "metadata": {},
   "outputs": [
    {
     "data": {
      "text/plain": [
       "(260, 24)"
      ]
     },
     "execution_count": 92,
     "metadata": {},
     "output_type": "execute_result"
    },
    {
     "data": {
      "application/javascript": [
       "\n",
       "            setTimeout(function() {\n",
       "                var nbb_cell_id = 92;\n",
       "                var nbb_unformatted_code = \"df_results_full_cm_p_cs_btss.shape\";\n",
       "                var nbb_formatted_code = \"df_results_full_cm_p_cs_btss.shape\";\n",
       "                var nbb_cells = Jupyter.notebook.get_cells();\n",
       "                for (var i = 0; i < nbb_cells.length; ++i) {\n",
       "                    if (nbb_cells[i].input_prompt_number == nbb_cell_id) {\n",
       "                        if (nbb_cells[i].get_text() == nbb_unformatted_code) {\n",
       "                             nbb_cells[i].set_text(nbb_formatted_code);\n",
       "                        }\n",
       "                        break;\n",
       "                    }\n",
       "                }\n",
       "            }, 500);\n",
       "            "
      ],
      "text/plain": [
       "<IPython.core.display.Javascript object>"
      ]
     },
     "metadata": {},
     "output_type": "display_data"
    }
   ],
   "source": [
    "df_results_full_cm_p_cs_btss.shape"
   ]
  },
  {
   "cell_type": "code",
   "execution_count": 93,
   "id": "e57b11d1",
   "metadata": {},
   "outputs": [
    {
     "data": {
      "text/plain": [
       "(20,)"
      ]
     },
     "execution_count": 93,
     "metadata": {},
     "output_type": "execute_result"
    },
    {
     "data": {
      "application/javascript": [
       "\n",
       "            setTimeout(function() {\n",
       "                var nbb_cell_id = 93;\n",
       "                var nbb_unformatted_code = \"df_results_full_cm_p_cs_btss.groupby(\\n    [\\\"Company\\\", \\\"Plant\\\", \\\"Model\\\", \\\"Timesteps\\\"], dropna=False\\n)[\\\"RMSE Test\\\"].mean().shape\";\n",
       "                var nbb_formatted_code = \"df_results_full_cm_p_cs_btss.groupby(\\n    [\\\"Company\\\", \\\"Plant\\\", \\\"Model\\\", \\\"Timesteps\\\"], dropna=False\\n)[\\\"RMSE Test\\\"].mean().shape\";\n",
       "                var nbb_cells = Jupyter.notebook.get_cells();\n",
       "                for (var i = 0; i < nbb_cells.length; ++i) {\n",
       "                    if (nbb_cells[i].input_prompt_number == nbb_cell_id) {\n",
       "                        if (nbb_cells[i].get_text() == nbb_unformatted_code) {\n",
       "                             nbb_cells[i].set_text(nbb_formatted_code);\n",
       "                        }\n",
       "                        break;\n",
       "                    }\n",
       "                }\n",
       "            }, 500);\n",
       "            "
      ],
      "text/plain": [
       "<IPython.core.display.Javascript object>"
      ]
     },
     "metadata": {},
     "output_type": "display_data"
    }
   ],
   "source": [
    "df_results_full_cm_p_cs_btss.groupby(\n",
    "    [\"Company\", \"Plant\", \"Model\", \"Timesteps\"], dropna=False\n",
    ")[\"RMSE Test\"].mean().shape"
   ]
  },
  {
   "cell_type": "markdown",
   "id": "0ab5bd97",
   "metadata": {},
   "source": [
    "### Time Series Split"
   ]
  },
  {
   "cell_type": "code",
   "execution_count": 94,
   "id": "e135f213",
   "metadata": {},
   "outputs": [
    {
     "data": {
      "text/plain": [
       "array(['Blocking Time Series Split', 'Time Series Split'], dtype=object)"
      ]
     },
     "execution_count": 94,
     "metadata": {},
     "output_type": "execute_result"
    },
    {
     "data": {
      "application/javascript": [
       "\n",
       "            setTimeout(function() {\n",
       "                var nbb_cell_id = 94;\n",
       "                var nbb_unformatted_code = \"df_results_full_cm_p_cs[\\\"Cross Validation\\\"].unique()\";\n",
       "                var nbb_formatted_code = \"df_results_full_cm_p_cs[\\\"Cross Validation\\\"].unique()\";\n",
       "                var nbb_cells = Jupyter.notebook.get_cells();\n",
       "                for (var i = 0; i < nbb_cells.length; ++i) {\n",
       "                    if (nbb_cells[i].input_prompt_number == nbb_cell_id) {\n",
       "                        if (nbb_cells[i].get_text() == nbb_unformatted_code) {\n",
       "                             nbb_cells[i].set_text(nbb_formatted_code);\n",
       "                        }\n",
       "                        break;\n",
       "                    }\n",
       "                }\n",
       "            }, 500);\n",
       "            "
      ],
      "text/plain": [
       "<IPython.core.display.Javascript object>"
      ]
     },
     "metadata": {},
     "output_type": "display_data"
    }
   ],
   "source": [
    "df_results_full_cm_p_cs[\"Cross Validation\"].unique()"
   ]
  },
  {
   "cell_type": "code",
   "execution_count": 95,
   "id": "1bc0924a",
   "metadata": {},
   "outputs": [
    {
     "data": {
      "application/javascript": [
       "\n",
       "            setTimeout(function() {\n",
       "                var nbb_cell_id = 95;\n",
       "                var nbb_unformatted_code = \"df_results_full_cm_p_cs_tss = (\\n    df_results_full_cm_p_cs[\\n        df_results_full_cm_p_cs[\\\"Cross Validation\\\"].eq(\\\"Time Series Split\\\")\\n    ]\\n    .copy()\\n    .reset_index(drop=True)\\n)\";\n",
       "                var nbb_formatted_code = \"df_results_full_cm_p_cs_tss = (\\n    df_results_full_cm_p_cs[\\n        df_results_full_cm_p_cs[\\\"Cross Validation\\\"].eq(\\\"Time Series Split\\\")\\n    ]\\n    .copy()\\n    .reset_index(drop=True)\\n)\";\n",
       "                var nbb_cells = Jupyter.notebook.get_cells();\n",
       "                for (var i = 0; i < nbb_cells.length; ++i) {\n",
       "                    if (nbb_cells[i].input_prompt_number == nbb_cell_id) {\n",
       "                        if (nbb_cells[i].get_text() == nbb_unformatted_code) {\n",
       "                             nbb_cells[i].set_text(nbb_formatted_code);\n",
       "                        }\n",
       "                        break;\n",
       "                    }\n",
       "                }\n",
       "            }, 500);\n",
       "            "
      ],
      "text/plain": [
       "<IPython.core.display.Javascript object>"
      ]
     },
     "metadata": {},
     "output_type": "display_data"
    }
   ],
   "source": [
    "df_results_full_cm_p_cs_tss = (\n",
    "    df_results_full_cm_p_cs[\n",
    "        df_results_full_cm_p_cs[\"Cross Validation\"].eq(\"Time Series Split\")\n",
    "    ]\n",
    "    .copy()\n",
    "    .reset_index(drop=True)\n",
    ")"
   ]
  },
  {
   "cell_type": "code",
   "execution_count": 96,
   "id": "7ad65629",
   "metadata": {},
   "outputs": [
    {
     "data": {
      "text/plain": [
       "array(['Time Series Split'], dtype=object)"
      ]
     },
     "execution_count": 96,
     "metadata": {},
     "output_type": "execute_result"
    },
    {
     "data": {
      "application/javascript": [
       "\n",
       "            setTimeout(function() {\n",
       "                var nbb_cell_id = 96;\n",
       "                var nbb_unformatted_code = \"df_results_full_cm_p_cs_tss[\\\"Cross Validation\\\"].unique()\";\n",
       "                var nbb_formatted_code = \"df_results_full_cm_p_cs_tss[\\\"Cross Validation\\\"].unique()\";\n",
       "                var nbb_cells = Jupyter.notebook.get_cells();\n",
       "                for (var i = 0; i < nbb_cells.length; ++i) {\n",
       "                    if (nbb_cells[i].input_prompt_number == nbb_cell_id) {\n",
       "                        if (nbb_cells[i].get_text() == nbb_unformatted_code) {\n",
       "                             nbb_cells[i].set_text(nbb_formatted_code);\n",
       "                        }\n",
       "                        break;\n",
       "                    }\n",
       "                }\n",
       "            }, 500);\n",
       "            "
      ],
      "text/plain": [
       "<IPython.core.display.Javascript object>"
      ]
     },
     "metadata": {},
     "output_type": "display_data"
    }
   ],
   "source": [
    "df_results_full_cm_p_cs_tss[\"Cross Validation\"].unique()"
   ]
  },
  {
   "cell_type": "code",
   "execution_count": 97,
   "id": "6476f6b8",
   "metadata": {},
   "outputs": [
    {
     "data": {
      "text/plain": [
       "(215, 24)"
      ]
     },
     "execution_count": 97,
     "metadata": {},
     "output_type": "execute_result"
    },
    {
     "data": {
      "application/javascript": [
       "\n",
       "            setTimeout(function() {\n",
       "                var nbb_cell_id = 97;\n",
       "                var nbb_unformatted_code = \"df_results_full_cm_p_cs_tss.shape\";\n",
       "                var nbb_formatted_code = \"df_results_full_cm_p_cs_tss.shape\";\n",
       "                var nbb_cells = Jupyter.notebook.get_cells();\n",
       "                for (var i = 0; i < nbb_cells.length; ++i) {\n",
       "                    if (nbb_cells[i].input_prompt_number == nbb_cell_id) {\n",
       "                        if (nbb_cells[i].get_text() == nbb_unformatted_code) {\n",
       "                             nbb_cells[i].set_text(nbb_formatted_code);\n",
       "                        }\n",
       "                        break;\n",
       "                    }\n",
       "                }\n",
       "            }, 500);\n",
       "            "
      ],
      "text/plain": [
       "<IPython.core.display.Javascript object>"
      ]
     },
     "metadata": {},
     "output_type": "display_data"
    }
   ],
   "source": [
    "df_results_full_cm_p_cs_tss.shape"
   ]
  },
  {
   "cell_type": "code",
   "execution_count": 98,
   "id": "29e3cb52",
   "metadata": {},
   "outputs": [
    {
     "data": {
      "text/plain": [
       "(17,)"
      ]
     },
     "execution_count": 98,
     "metadata": {},
     "output_type": "execute_result"
    },
    {
     "data": {
      "application/javascript": [
       "\n",
       "            setTimeout(function() {\n",
       "                var nbb_cell_id = 98;\n",
       "                var nbb_unformatted_code = \"df_results_full_cm_p_cs_tss.groupby(\\n    [\\\"Company\\\", \\\"Plant\\\", \\\"Model\\\", \\\"Timesteps\\\"], dropna=False\\n)[\\\"RMSE Test\\\"].mean().shape\";\n",
       "                var nbb_formatted_code = \"df_results_full_cm_p_cs_tss.groupby(\\n    [\\\"Company\\\", \\\"Plant\\\", \\\"Model\\\", \\\"Timesteps\\\"], dropna=False\\n)[\\\"RMSE Test\\\"].mean().shape\";\n",
       "                var nbb_cells = Jupyter.notebook.get_cells();\n",
       "                for (var i = 0; i < nbb_cells.length; ++i) {\n",
       "                    if (nbb_cells[i].input_prompt_number == nbb_cell_id) {\n",
       "                        if (nbb_cells[i].get_text() == nbb_unformatted_code) {\n",
       "                             nbb_cells[i].set_text(nbb_formatted_code);\n",
       "                        }\n",
       "                        break;\n",
       "                    }\n",
       "                }\n",
       "            }, 500);\n",
       "            "
      ],
      "text/plain": [
       "<IPython.core.display.Javascript object>"
      ]
     },
     "metadata": {},
     "output_type": "display_data"
    }
   ],
   "source": [
    "df_results_full_cm_p_cs_tss.groupby(\n",
    "    [\"Company\", \"Plant\", \"Model\", \"Timesteps\"], dropna=False\n",
    ")[\"RMSE Test\"].mean().shape"
   ]
  },
  {
   "cell_type": "markdown",
   "id": "8e1e8fb4",
   "metadata": {},
   "source": [
    "# Grouped Dataset"
   ]
  },
  {
   "cell_type": "code",
   "execution_count": 99,
   "id": "36abbb67",
   "metadata": {},
   "outputs": [
    {
     "data": {
      "application/javascript": [
       "\n",
       "            setTimeout(function() {\n",
       "                var nbb_cell_id = 99;\n",
       "                var nbb_unformatted_code = \"dfs_plant = dict()\\ncolumn = (\\\"plant\\\", \\\"\\\")\\npos = 2\\n\\nfor plant, csv_files in csv_files_path_grouped.items():\\n    df = read_csv_files_grouped(csv_files, plant)\\n    df[\\\"plant\\\"] = plant\\n    df = preprocess_rename_columns(df)\\n    df = preprocess_change_columns_order(df, column, pos)\\n    dfs_plant[plant] = df\";\n",
       "                var nbb_formatted_code = \"dfs_plant = dict()\\ncolumn = (\\\"plant\\\", \\\"\\\")\\npos = 2\\n\\nfor plant, csv_files in csv_files_path_grouped.items():\\n    df = read_csv_files_grouped(csv_files, plant)\\n    df[\\\"plant\\\"] = plant\\n    df = preprocess_rename_columns(df)\\n    df = preprocess_change_columns_order(df, column, pos)\\n    dfs_plant[plant] = df\";\n",
       "                var nbb_cells = Jupyter.notebook.get_cells();\n",
       "                for (var i = 0; i < nbb_cells.length; ++i) {\n",
       "                    if (nbb_cells[i].input_prompt_number == nbb_cell_id) {\n",
       "                        if (nbb_cells[i].get_text() == nbb_unformatted_code) {\n",
       "                             nbb_cells[i].set_text(nbb_formatted_code);\n",
       "                        }\n",
       "                        break;\n",
       "                    }\n",
       "                }\n",
       "            }, 500);\n",
       "            "
      ],
      "text/plain": [
       "<IPython.core.display.Javascript object>"
      ]
     },
     "metadata": {},
     "output_type": "display_data"
    }
   ],
   "source": [
    "dfs_plant = dict()\n",
    "column = (\"plant\", \"\")\n",
    "pos = 2\n",
    "\n",
    "for plant, csv_files in csv_files_path_grouped.items():\n",
    "    df = read_csv_files_grouped(csv_files, plant)\n",
    "    df[\"plant\"] = plant\n",
    "    df = preprocess_rename_columns(df)\n",
    "    df = preprocess_change_columns_order(df, column, pos)\n",
    "    dfs_plant[plant] = df"
   ]
  },
  {
   "cell_type": "code",
   "execution_count": 100,
   "id": "0dc1a2eb",
   "metadata": {},
   "outputs": [
    {
     "data": {
      "application/javascript": [
       "\n",
       "            setTimeout(function() {\n",
       "                var nbb_cell_id = 100;\n",
       "                var nbb_unformatted_code = \"df = pd.concat(dfs_plant)\\ndf_copy = df.copy()\\ndf_copy = (\\n    df_copy.reset_index(level=0)\\n    .rename({\\\"level_0\\\": \\\"Plant\\\"}, axis=1)\\n    .reset_index(drop=True)\\n)\";\n",
       "                var nbb_formatted_code = \"df = pd.concat(dfs_plant)\\ndf_copy = df.copy()\\ndf_copy = (\\n    df_copy.reset_index(level=0)\\n    .rename({\\\"level_0\\\": \\\"Plant\\\"}, axis=1)\\n    .reset_index(drop=True)\\n)\";\n",
       "                var nbb_cells = Jupyter.notebook.get_cells();\n",
       "                for (var i = 0; i < nbb_cells.length; ++i) {\n",
       "                    if (nbb_cells[i].input_prompt_number == nbb_cell_id) {\n",
       "                        if (nbb_cells[i].get_text() == nbb_unformatted_code) {\n",
       "                             nbb_cells[i].set_text(nbb_formatted_code);\n",
       "                        }\n",
       "                        break;\n",
       "                    }\n",
       "                }\n",
       "            }, 500);\n",
       "            "
      ],
      "text/plain": [
       "<IPython.core.display.Javascript object>"
      ]
     },
     "metadata": {},
     "output_type": "display_data"
    }
   ],
   "source": [
    "df = pd.concat(dfs_plant)\n",
    "df_copy = df.copy()\n",
    "df_copy = (\n",
    "    df_copy.reset_index(level=0)\n",
    "    .rename({\"level_0\": \"Plant\"}, axis=1)\n",
    "    .reset_index(drop=True)\n",
    ")"
   ]
  },
  {
   "cell_type": "code",
   "execution_count": 101,
   "id": "d38fa0b2",
   "metadata": {},
   "outputs": [
    {
     "data": {
      "text/plain": [
       "(797, 26)"
      ]
     },
     "execution_count": 101,
     "metadata": {},
     "output_type": "execute_result"
    },
    {
     "data": {
      "application/javascript": [
       "\n",
       "            setTimeout(function() {\n",
       "                var nbb_cell_id = 101;\n",
       "                var nbb_unformatted_code = \"df_copy.shape\";\n",
       "                var nbb_formatted_code = \"df_copy.shape\";\n",
       "                var nbb_cells = Jupyter.notebook.get_cells();\n",
       "                for (var i = 0; i < nbb_cells.length; ++i) {\n",
       "                    if (nbb_cells[i].input_prompt_number == nbb_cell_id) {\n",
       "                        if (nbb_cells[i].get_text() == nbb_unformatted_code) {\n",
       "                             nbb_cells[i].set_text(nbb_formatted_code);\n",
       "                        }\n",
       "                        break;\n",
       "                    }\n",
       "                }\n",
       "            }, 500);\n",
       "            "
      ],
      "text/plain": [
       "<IPython.core.display.Javascript object>"
      ]
     },
     "metadata": {},
     "output_type": "display_data"
    }
   ],
   "source": [
    "df_copy.shape"
   ]
  },
  {
   "cell_type": "markdown",
   "id": "d61f0138",
   "metadata": {},
   "source": [
    "## Preprocessing steps"
   ]
  },
  {
   "cell_type": "code",
   "execution_count": 102,
   "id": "a3bc9a64",
   "metadata": {},
   "outputs": [
    {
     "data": {
      "application/javascript": [
       "\n",
       "            setTimeout(function() {\n",
       "                var nbb_cell_id = 102;\n",
       "                var nbb_unformatted_code = \"patterns = [\\n    \\\"Chemical + Mineralogical + Feature Engineering\\\",\\n    \\\"Chemical + Mineralogical + CS7 + One-Hot\\\",\\n    \\\"Chemical + Mineralogical + Physical + One-Hot\\\",\\n    \\\"Chemical + Mineralogical + CS3 + One-Hot\\\",\\n    \\\"Chemical + Mineralogical + CS3 + CS7 + One-Hot\\\",\\n    \\\"Chemical + Mineralogical + One-Hot\\\",\\n    \\\"Chemical + Mineralogical + CS1 + CS3 + CS7 + One-Hot\\\",\\n    \\\"Chemical + Mineralogical + CS1 + CS3 + One-Hot\\\",\\n    \\\"Chemical + Mineralogical + CS1 + One-Hot\\\",\\n    \\\"Chemical + Mineralogical + CS2 + One-Hot\\\",\\n    \\\"Chemical + Feature Engineering\\\",\\n]\\n\\nreplace_dict = {\\n    \\\"Chemical + Mineralogical + CS3 + CS7\\\": \\\"Chemical + Mineralogical + Early CS\\\",\\n    \\\"Chemical + Mineralogical + CS7\\\": \\\"Chemical + Mineralogical + Early CS\\\",\\n    \\\"Chemical + Mineralogical + CS3\\\": \\\"Chemical + Mineralogical + Early CS\\\",\\n    \\\"Chemical + Mineralogical + CS1\\\": \\\"Chemical + Mineralogical + Early CS\\\",\\n    \\\"Chemical + Mineralogical + CS1 + CS3\\\": \\\"Chemical + Mineralogical + Early CS\\\",\\n    \\\"Chemical + Mineralogical + CS1 + CS3 + CS7\\\": \\\"Chemical + Mineralogical + Early CS\\\",\\n    \\\"Chemical + Mineralogical + CS2\\\": \\\"Chemical + Mineralogical + Early CS\\\",\\n    \\\"Chemical + CS1 + CS3 + CS7\\\": \\\"Chemical + Mineralogical + Early CS\\\",\\n    \\\"Chemical + CS3 + CS7\\\": \\\"Chemical + Mineralogical + Early CS\\\",\\n    \\\"Chemical + CS7\\\": \\\"Chemical + Mineralogical + Early CS\\\",\\n    \\\"Chemical + CS3\\\": \\\"Chemical + Mineralogical + Early CS\\\",\\n    \\\"Chemical + CS1 + CS3\\\": \\\"Chemical + Mineralogical + Early CS\\\",\\n    \\\"Chemical + CS1\\\": \\\"Chemical + Mineralogical + Early CS\\\",\\n    \\\"Chemical + CS1 + CS7\\\": \\\"Chemical + Mineralogical + Early CS\\\",\\n}\\n\\nreplace_dict_2 = {\\n    \\\"Chemical\\\": \\\"Chemical + Mineralogical\\\",\\n    \\\"Chemical + Properties CS Less\\\": \\\"Chemical + Mineralogical + Physical - Early CS\\\",\\n    \\\"Chemical + Mineralogical + Properties CS Less\\\": \\\"Chemical + Mineralogical + Physical - Early CS\\\",\\n    \\\"Chemical + Physical\\\": \\\"Chemical + Mineralogical + Physical\\\",\\n}\\n\\ndf_copy = df_copy[~df_copy[\\\"Cross Validation\\\"].eq(\\\"Out of time Split\\\")].reset_index(\\n    drop=True\\n)\\n\\n# Removing afterwards\\ndf_copy = df_copy[~df_copy[\\\"Cross Validation\\\"].eq(\\\"Repeated KFold\\\")].reset_index(\\n    drop=True\\n)\\n\\ndf_copy = df_copy[~df_copy[\\\"Features\\\"].apply(lambda x: x in patterns)].reset_index(\\n    drop=True\\n)\\ndf_copy[\\\"Features_bkp\\\"] = df_copy[\\\"Features\\\"].copy()\\ndf_copy[\\\"Features\\\"] = df_copy[\\\"Features\\\"].replace(replace_dict)\\n\\ndf_copy[\\\"Features\\\"] = df_copy[\\\"Features\\\"].replace(replace_dict_2)\\n\\n# Removing afterwards\\ndf_copy = df_copy[\\n    ~df_copy[\\\"Features\\\"].eq(\\\"Chemical + Mineralogical + Early CS\\\")\\n].reset_index(drop=True)\";\n",
       "                var nbb_formatted_code = \"patterns = [\\n    \\\"Chemical + Mineralogical + Feature Engineering\\\",\\n    \\\"Chemical + Mineralogical + CS7 + One-Hot\\\",\\n    \\\"Chemical + Mineralogical + Physical + One-Hot\\\",\\n    \\\"Chemical + Mineralogical + CS3 + One-Hot\\\",\\n    \\\"Chemical + Mineralogical + CS3 + CS7 + One-Hot\\\",\\n    \\\"Chemical + Mineralogical + One-Hot\\\",\\n    \\\"Chemical + Mineralogical + CS1 + CS3 + CS7 + One-Hot\\\",\\n    \\\"Chemical + Mineralogical + CS1 + CS3 + One-Hot\\\",\\n    \\\"Chemical + Mineralogical + CS1 + One-Hot\\\",\\n    \\\"Chemical + Mineralogical + CS2 + One-Hot\\\",\\n    \\\"Chemical + Feature Engineering\\\",\\n]\\n\\nreplace_dict = {\\n    \\\"Chemical + Mineralogical + CS3 + CS7\\\": \\\"Chemical + Mineralogical + Early CS\\\",\\n    \\\"Chemical + Mineralogical + CS7\\\": \\\"Chemical + Mineralogical + Early CS\\\",\\n    \\\"Chemical + Mineralogical + CS3\\\": \\\"Chemical + Mineralogical + Early CS\\\",\\n    \\\"Chemical + Mineralogical + CS1\\\": \\\"Chemical + Mineralogical + Early CS\\\",\\n    \\\"Chemical + Mineralogical + CS1 + CS3\\\": \\\"Chemical + Mineralogical + Early CS\\\",\\n    \\\"Chemical + Mineralogical + CS1 + CS3 + CS7\\\": \\\"Chemical + Mineralogical + Early CS\\\",\\n    \\\"Chemical + Mineralogical + CS2\\\": \\\"Chemical + Mineralogical + Early CS\\\",\\n    \\\"Chemical + CS1 + CS3 + CS7\\\": \\\"Chemical + Mineralogical + Early CS\\\",\\n    \\\"Chemical + CS3 + CS7\\\": \\\"Chemical + Mineralogical + Early CS\\\",\\n    \\\"Chemical + CS7\\\": \\\"Chemical + Mineralogical + Early CS\\\",\\n    \\\"Chemical + CS3\\\": \\\"Chemical + Mineralogical + Early CS\\\",\\n    \\\"Chemical + CS1 + CS3\\\": \\\"Chemical + Mineralogical + Early CS\\\",\\n    \\\"Chemical + CS1\\\": \\\"Chemical + Mineralogical + Early CS\\\",\\n    \\\"Chemical + CS1 + CS7\\\": \\\"Chemical + Mineralogical + Early CS\\\",\\n}\\n\\nreplace_dict_2 = {\\n    \\\"Chemical\\\": \\\"Chemical + Mineralogical\\\",\\n    \\\"Chemical + Properties CS Less\\\": \\\"Chemical + Mineralogical + Physical - Early CS\\\",\\n    \\\"Chemical + Mineralogical + Properties CS Less\\\": \\\"Chemical + Mineralogical + Physical - Early CS\\\",\\n    \\\"Chemical + Physical\\\": \\\"Chemical + Mineralogical + Physical\\\",\\n}\\n\\ndf_copy = df_copy[~df_copy[\\\"Cross Validation\\\"].eq(\\\"Out of time Split\\\")].reset_index(\\n    drop=True\\n)\\n\\n# Removing afterwards\\ndf_copy = df_copy[~df_copy[\\\"Cross Validation\\\"].eq(\\\"Repeated KFold\\\")].reset_index(\\n    drop=True\\n)\\n\\ndf_copy = df_copy[~df_copy[\\\"Features\\\"].apply(lambda x: x in patterns)].reset_index(\\n    drop=True\\n)\\ndf_copy[\\\"Features_bkp\\\"] = df_copy[\\\"Features\\\"].copy()\\ndf_copy[\\\"Features\\\"] = df_copy[\\\"Features\\\"].replace(replace_dict)\\n\\ndf_copy[\\\"Features\\\"] = df_copy[\\\"Features\\\"].replace(replace_dict_2)\\n\\n# Removing afterwards\\ndf_copy = df_copy[\\n    ~df_copy[\\\"Features\\\"].eq(\\\"Chemical + Mineralogical + Early CS\\\")\\n].reset_index(drop=True)\";\n",
       "                var nbb_cells = Jupyter.notebook.get_cells();\n",
       "                for (var i = 0; i < nbb_cells.length; ++i) {\n",
       "                    if (nbb_cells[i].input_prompt_number == nbb_cell_id) {\n",
       "                        if (nbb_cells[i].get_text() == nbb_unformatted_code) {\n",
       "                             nbb_cells[i].set_text(nbb_formatted_code);\n",
       "                        }\n",
       "                        break;\n",
       "                    }\n",
       "                }\n",
       "            }, 500);\n",
       "            "
      ],
      "text/plain": [
       "<IPython.core.display.Javascript object>"
      ]
     },
     "metadata": {},
     "output_type": "display_data"
    }
   ],
   "source": [
    "patterns = [\n",
    "    \"Chemical + Mineralogical + Feature Engineering\",\n",
    "    \"Chemical + Mineralogical + CS7 + One-Hot\",\n",
    "    \"Chemical + Mineralogical + Physical + One-Hot\",\n",
    "    \"Chemical + Mineralogical + CS3 + One-Hot\",\n",
    "    \"Chemical + Mineralogical + CS3 + CS7 + One-Hot\",\n",
    "    \"Chemical + Mineralogical + One-Hot\",\n",
    "    \"Chemical + Mineralogical + CS1 + CS3 + CS7 + One-Hot\",\n",
    "    \"Chemical + Mineralogical + CS1 + CS3 + One-Hot\",\n",
    "    \"Chemical + Mineralogical + CS1 + One-Hot\",\n",
    "    \"Chemical + Mineralogical + CS2 + One-Hot\",\n",
    "    \"Chemical + Feature Engineering\",\n",
    "]\n",
    "\n",
    "replace_dict = {\n",
    "    \"Chemical + Mineralogical + CS3 + CS7\": \"Chemical + Mineralogical + Early CS\",\n",
    "    \"Chemical + Mineralogical + CS7\": \"Chemical + Mineralogical + Early CS\",\n",
    "    \"Chemical + Mineralogical + CS3\": \"Chemical + Mineralogical + Early CS\",\n",
    "    \"Chemical + Mineralogical + CS1\": \"Chemical + Mineralogical + Early CS\",\n",
    "    \"Chemical + Mineralogical + CS1 + CS3\": \"Chemical + Mineralogical + Early CS\",\n",
    "    \"Chemical + Mineralogical + CS1 + CS3 + CS7\": \"Chemical + Mineralogical + Early CS\",\n",
    "    \"Chemical + Mineralogical + CS2\": \"Chemical + Mineralogical + Early CS\",\n",
    "    \"Chemical + CS1 + CS3 + CS7\": \"Chemical + Mineralogical + Early CS\",\n",
    "    \"Chemical + CS3 + CS7\": \"Chemical + Mineralogical + Early CS\",\n",
    "    \"Chemical + CS7\": \"Chemical + Mineralogical + Early CS\",\n",
    "    \"Chemical + CS3\": \"Chemical + Mineralogical + Early CS\",\n",
    "    \"Chemical + CS1 + CS3\": \"Chemical + Mineralogical + Early CS\",\n",
    "    \"Chemical + CS1\": \"Chemical + Mineralogical + Early CS\",\n",
    "    \"Chemical + CS1 + CS7\": \"Chemical + Mineralogical + Early CS\",\n",
    "}\n",
    "\n",
    "replace_dict_2 = {\n",
    "    \"Chemical\": \"Chemical + Mineralogical\",\n",
    "    \"Chemical + Properties CS Less\": \"Chemical + Mineralogical + Physical - Early CS\",\n",
    "    \"Chemical + Mineralogical + Properties CS Less\": \"Chemical + Mineralogical + Physical - Early CS\",\n",
    "    \"Chemical + Physical\": \"Chemical + Mineralogical + Physical\",\n",
    "}\n",
    "\n",
    "df_copy = df_copy[~df_copy[\"Cross Validation\"].eq(\"Out of time Split\")].reset_index(\n",
    "    drop=True\n",
    ")\n",
    "\n",
    "# Removing afterwards\n",
    "df_copy = df_copy[~df_copy[\"Cross Validation\"].eq(\"Repeated KFold\")].reset_index(\n",
    "    drop=True\n",
    ")\n",
    "\n",
    "df_copy = df_copy[~df_copy[\"Features\"].apply(lambda x: x in patterns)].reset_index(\n",
    "    drop=True\n",
    ")\n",
    "df_copy[\"Features_bkp\"] = df_copy[\"Features\"].copy()\n",
    "df_copy[\"Features\"] = df_copy[\"Features\"].replace(replace_dict)\n",
    "\n",
    "df_copy[\"Features\"] = df_copy[\"Features\"].replace(replace_dict_2)\n",
    "\n",
    "# Removing afterwards\n",
    "df_copy = df_copy[\n",
    "    ~df_copy[\"Features\"].eq(\"Chemical + Mineralogical + Early CS\")\n",
    "].reset_index(drop=True)"
   ]
  },
  {
   "cell_type": "code",
   "execution_count": 103,
   "id": "2a85b96b",
   "metadata": {},
   "outputs": [
    {
     "data": {
      "application/javascript": [
       "\n",
       "            setTimeout(function() {\n",
       "                var nbb_cell_id = 103;\n",
       "                var nbb_unformatted_code = \"df_copy[(\\\"MAPE Train\\\", \\\"mean\\\")] = df_copy[(\\\"MAPE Train\\\", \\\"mean\\\")] * 100\\ndf_copy[(\\\"MAPE Train\\\", \\\"std\\\")] = df_copy[(\\\"MAPE Train\\\", \\\"std\\\")] * 100\\ndf_copy[(\\\"MAPE Test\\\", \\\"mean\\\")] = df_copy[(\\\"MAPE Test\\\", \\\"mean\\\")] * 100\\ndf_copy[(\\\"MAPE Test\\\", \\\"std\\\")] = df_copy[(\\\"MAPE Test\\\", \\\"std\\\")] * 100\\n\\ndf_copy[\\\"Model_bkp\\\"] = df_copy[\\\"Model\\\"].copy()\\ndf_copy[\\\"Model_bkp_2\\\"] = df_copy[\\\"Model\\\"] + df_copy[\\\"Timesteps\\\"].apply(\\n    lambda x: \\\"\\\" if pd.isna(x) else \\\"_\\\" + str(x)\\n)\\ndf_copy[\\\"Model\\\"] = df_copy[\\\"Model\\\"].replace(\\n    {\\n        \\\"MLP\\\": \\\"Neural Networks\\\",\\n        \\\"LSTM\\\": \\\"Neural Networks\\\",\\n        \\\"GRU\\\": \\\"Neural Networks\\\",\\n        \\\"BidirectionalLSTM\\\": \\\"Neural Networks\\\",\\n        \\\"BidirectionalGRU\\\": \\\"Neural Networks\\\",\\n        \\\"Transformer\\\": \\\"Neural Networks\\\",\\n        \\\"Decision Tree\\\": \\\"Trees\\\",\\n        \\\"Random Forest\\\": \\\"Trees\\\",\\n        \\\"XGBoost\\\": \\\"Trees\\\",\\n    }\\n)\";\n",
       "                var nbb_formatted_code = \"df_copy[(\\\"MAPE Train\\\", \\\"mean\\\")] = df_copy[(\\\"MAPE Train\\\", \\\"mean\\\")] * 100\\ndf_copy[(\\\"MAPE Train\\\", \\\"std\\\")] = df_copy[(\\\"MAPE Train\\\", \\\"std\\\")] * 100\\ndf_copy[(\\\"MAPE Test\\\", \\\"mean\\\")] = df_copy[(\\\"MAPE Test\\\", \\\"mean\\\")] * 100\\ndf_copy[(\\\"MAPE Test\\\", \\\"std\\\")] = df_copy[(\\\"MAPE Test\\\", \\\"std\\\")] * 100\\n\\ndf_copy[\\\"Model_bkp\\\"] = df_copy[\\\"Model\\\"].copy()\\ndf_copy[\\\"Model_bkp_2\\\"] = df_copy[\\\"Model\\\"] + df_copy[\\\"Timesteps\\\"].apply(\\n    lambda x: \\\"\\\" if pd.isna(x) else \\\"_\\\" + str(x)\\n)\\ndf_copy[\\\"Model\\\"] = df_copy[\\\"Model\\\"].replace(\\n    {\\n        \\\"MLP\\\": \\\"Neural Networks\\\",\\n        \\\"LSTM\\\": \\\"Neural Networks\\\",\\n        \\\"GRU\\\": \\\"Neural Networks\\\",\\n        \\\"BidirectionalLSTM\\\": \\\"Neural Networks\\\",\\n        \\\"BidirectionalGRU\\\": \\\"Neural Networks\\\",\\n        \\\"Transformer\\\": \\\"Neural Networks\\\",\\n        \\\"Decision Tree\\\": \\\"Trees\\\",\\n        \\\"Random Forest\\\": \\\"Trees\\\",\\n        \\\"XGBoost\\\": \\\"Trees\\\",\\n    }\\n)\";\n",
       "                var nbb_cells = Jupyter.notebook.get_cells();\n",
       "                for (var i = 0; i < nbb_cells.length; ++i) {\n",
       "                    if (nbb_cells[i].input_prompt_number == nbb_cell_id) {\n",
       "                        if (nbb_cells[i].get_text() == nbb_unformatted_code) {\n",
       "                             nbb_cells[i].set_text(nbb_formatted_code);\n",
       "                        }\n",
       "                        break;\n",
       "                    }\n",
       "                }\n",
       "            }, 500);\n",
       "            "
      ],
      "text/plain": [
       "<IPython.core.display.Javascript object>"
      ]
     },
     "metadata": {},
     "output_type": "display_data"
    }
   ],
   "source": [
    "df_copy[(\"MAPE Train\", \"mean\")] = df_copy[(\"MAPE Train\", \"mean\")] * 100\n",
    "df_copy[(\"MAPE Train\", \"std\")] = df_copy[(\"MAPE Train\", \"std\")] * 100\n",
    "df_copy[(\"MAPE Test\", \"mean\")] = df_copy[(\"MAPE Test\", \"mean\")] * 100\n",
    "df_copy[(\"MAPE Test\", \"std\")] = df_copy[(\"MAPE Test\", \"std\")] * 100\n",
    "\n",
    "df_copy[\"Model_bkp\"] = df_copy[\"Model\"].copy()\n",
    "df_copy[\"Model_bkp_2\"] = df_copy[\"Model\"] + df_copy[\"Timesteps\"].apply(\n",
    "    lambda x: \"\" if pd.isna(x) else \"_\" + str(x)\n",
    ")\n",
    "df_copy[\"Model\"] = df_copy[\"Model\"].replace(\n",
    "    {\n",
    "        \"MLP\": \"Neural Networks\",\n",
    "        \"LSTM\": \"Neural Networks\",\n",
    "        \"GRU\": \"Neural Networks\",\n",
    "        \"BidirectionalLSTM\": \"Neural Networks\",\n",
    "        \"BidirectionalGRU\": \"Neural Networks\",\n",
    "        \"Transformer\": \"Neural Networks\",\n",
    "        \"Decision Tree\": \"Trees\",\n",
    "        \"Random Forest\": \"Trees\",\n",
    "        \"XGBoost\": \"Trees\",\n",
    "    }\n",
    ")"
   ]
  },
  {
   "cell_type": "code",
   "execution_count": 104,
   "id": "647f4935",
   "metadata": {},
   "outputs": [
    {
     "data": {
      "text/plain": [
       "array(['Blocking Time Series Split', 'Time Series Split'], dtype=object)"
      ]
     },
     "execution_count": 104,
     "metadata": {},
     "output_type": "execute_result"
    },
    {
     "data": {
      "application/javascript": [
       "\n",
       "            setTimeout(function() {\n",
       "                var nbb_cell_id = 104;\n",
       "                var nbb_unformatted_code = \"df_copy[\\\"Cross Validation\\\"].unique()\";\n",
       "                var nbb_formatted_code = \"df_copy[\\\"Cross Validation\\\"].unique()\";\n",
       "                var nbb_cells = Jupyter.notebook.get_cells();\n",
       "                for (var i = 0; i < nbb_cells.length; ++i) {\n",
       "                    if (nbb_cells[i].input_prompt_number == nbb_cell_id) {\n",
       "                        if (nbb_cells[i].get_text() == nbb_unformatted_code) {\n",
       "                             nbb_cells[i].set_text(nbb_formatted_code);\n",
       "                        }\n",
       "                        break;\n",
       "                    }\n",
       "                }\n",
       "            }, 500);\n",
       "            "
      ],
      "text/plain": [
       "<IPython.core.display.Javascript object>"
      ]
     },
     "metadata": {},
     "output_type": "display_data"
    }
   ],
   "source": [
    "df_copy[\"Cross Validation\"].unique()"
   ]
  },
  {
   "cell_type": "code",
   "execution_count": 105,
   "id": "57e2a624",
   "metadata": {},
   "outputs": [
    {
     "data": {
      "text/plain": [
       "array(['Chemical + Mineralogical + Physical', 'Chemical + Mineralogical',\n",
       "       'Chemical + Mineralogical + Physical - Early CS'], dtype=object)"
      ]
     },
     "execution_count": 105,
     "metadata": {},
     "output_type": "execute_result"
    },
    {
     "data": {
      "application/javascript": [
       "\n",
       "            setTimeout(function() {\n",
       "                var nbb_cell_id = 105;\n",
       "                var nbb_unformatted_code = \"df_copy[\\\"Features\\\"].unique()\";\n",
       "                var nbb_formatted_code = \"df_copy[\\\"Features\\\"].unique()\";\n",
       "                var nbb_cells = Jupyter.notebook.get_cells();\n",
       "                for (var i = 0; i < nbb_cells.length; ++i) {\n",
       "                    if (nbb_cells[i].input_prompt_number == nbb_cell_id) {\n",
       "                        if (nbb_cells[i].get_text() == nbb_unformatted_code) {\n",
       "                             nbb_cells[i].set_text(nbb_formatted_code);\n",
       "                        }\n",
       "                        break;\n",
       "                    }\n",
       "                }\n",
       "            }, 500);\n",
       "            "
      ],
      "text/plain": [
       "<IPython.core.display.Javascript object>"
      ]
     },
     "metadata": {},
     "output_type": "display_data"
    }
   ],
   "source": [
    "df_copy[\"Features\"].unique()"
   ]
  },
  {
   "cell_type": "code",
   "execution_count": 106,
   "id": "04b37adf",
   "metadata": {},
   "outputs": [
    {
     "data": {
      "text/plain": [
       "array(['Trees', 'Neural Networks', 'Linear Regression'], dtype=object)"
      ]
     },
     "execution_count": 106,
     "metadata": {},
     "output_type": "execute_result"
    },
    {
     "data": {
      "application/javascript": [
       "\n",
       "            setTimeout(function() {\n",
       "                var nbb_cell_id = 106;\n",
       "                var nbb_unformatted_code = \"df_copy[\\\"Model\\\"].unique()\";\n",
       "                var nbb_formatted_code = \"df_copy[\\\"Model\\\"].unique()\";\n",
       "                var nbb_cells = Jupyter.notebook.get_cells();\n",
       "                for (var i = 0; i < nbb_cells.length; ++i) {\n",
       "                    if (nbb_cells[i].input_prompt_number == nbb_cell_id) {\n",
       "                        if (nbb_cells[i].get_text() == nbb_unformatted_code) {\n",
       "                             nbb_cells[i].set_text(nbb_formatted_code);\n",
       "                        }\n",
       "                        break;\n",
       "                    }\n",
       "                }\n",
       "            }, 500);\n",
       "            "
      ],
      "text/plain": [
       "<IPython.core.display.Javascript object>"
      ]
     },
     "metadata": {},
     "output_type": "display_data"
    }
   ],
   "source": [
    "df_copy[\"Model\"].unique()"
   ]
  },
  {
   "cell_type": "code",
   "execution_count": 107,
   "id": "c4a4df12",
   "metadata": {},
   "outputs": [
    {
     "data": {
      "text/plain": [
       "array(['Random Forest', 'Transformer', 'BidirectionalGRU', 'GRU', 'MLP',\n",
       "       'Decision Tree', 'BidirectionalLSTM', 'XGBoost',\n",
       "       'Linear Regression', 'LSTM'], dtype=object)"
      ]
     },
     "execution_count": 107,
     "metadata": {},
     "output_type": "execute_result"
    },
    {
     "data": {
      "application/javascript": [
       "\n",
       "            setTimeout(function() {\n",
       "                var nbb_cell_id = 107;\n",
       "                var nbb_unformatted_code = \"df_copy[\\\"Model_bkp\\\"].unique()\";\n",
       "                var nbb_formatted_code = \"df_copy[\\\"Model_bkp\\\"].unique()\";\n",
       "                var nbb_cells = Jupyter.notebook.get_cells();\n",
       "                for (var i = 0; i < nbb_cells.length; ++i) {\n",
       "                    if (nbb_cells[i].input_prompt_number == nbb_cell_id) {\n",
       "                        if (nbb_cells[i].get_text() == nbb_unformatted_code) {\n",
       "                             nbb_cells[i].set_text(nbb_formatted_code);\n",
       "                        }\n",
       "                        break;\n",
       "                    }\n",
       "                }\n",
       "            }, 500);\n",
       "            "
      ],
      "text/plain": [
       "<IPython.core.display.Javascript object>"
      ]
     },
     "metadata": {},
     "output_type": "display_data"
    }
   ],
   "source": [
    "df_copy[\"Model_bkp\"].unique()"
   ]
  },
  {
   "cell_type": "code",
   "execution_count": 108,
   "id": "cbec0547",
   "metadata": {},
   "outputs": [
    {
     "data": {
      "text/plain": [
       "array(['Random Forest', 'Transformer_1.0', 'Transformer_7.0',\n",
       "       'Transformer_14.0', 'BidirectionalGRU_1.0', 'BidirectionalGRU_7.0',\n",
       "       'BidirectionalGRU_14.0', 'GRU_1.0', 'GRU_7.0', 'GRU_14.0', 'MLP',\n",
       "       'Decision Tree', 'BidirectionalLSTM_1.0', 'BidirectionalLSTM_7.0',\n",
       "       'BidirectionalLSTM_14.0', 'XGBoost', 'Linear Regression',\n",
       "       'LSTM_1.0', 'LSTM_7.0', 'LSTM_14.0'], dtype=object)"
      ]
     },
     "execution_count": 108,
     "metadata": {},
     "output_type": "execute_result"
    },
    {
     "data": {
      "application/javascript": [
       "\n",
       "            setTimeout(function() {\n",
       "                var nbb_cell_id = 108;\n",
       "                var nbb_unformatted_code = \"df_copy[\\\"Model_bkp_2\\\"].unique()\";\n",
       "                var nbb_formatted_code = \"df_copy[\\\"Model_bkp_2\\\"].unique()\";\n",
       "                var nbb_cells = Jupyter.notebook.get_cells();\n",
       "                for (var i = 0; i < nbb_cells.length; ++i) {\n",
       "                    if (nbb_cells[i].input_prompt_number == nbb_cell_id) {\n",
       "                        if (nbb_cells[i].get_text() == nbb_unformatted_code) {\n",
       "                             nbb_cells[i].set_text(nbb_formatted_code);\n",
       "                        }\n",
       "                        break;\n",
       "                    }\n",
       "                }\n",
       "            }, 500);\n",
       "            "
      ],
      "text/plain": [
       "<IPython.core.display.Javascript object>"
      ]
     },
     "metadata": {},
     "output_type": "display_data"
    }
   ],
   "source": [
    "df_copy[\"Model_bkp_2\"].unique()"
   ]
  },
  {
   "cell_type": "code",
   "execution_count": 109,
   "id": "8c39c134",
   "metadata": {},
   "outputs": [
    {
     "data": {
      "text/plain": [
       "(117, 29)"
      ]
     },
     "execution_count": 109,
     "metadata": {},
     "output_type": "execute_result"
    },
    {
     "data": {
      "application/javascript": [
       "\n",
       "            setTimeout(function() {\n",
       "                var nbb_cell_id = 109;\n",
       "                var nbb_unformatted_code = \"df_copy.shape\";\n",
       "                var nbb_formatted_code = \"df_copy.shape\";\n",
       "                var nbb_cells = Jupyter.notebook.get_cells();\n",
       "                for (var i = 0; i < nbb_cells.length; ++i) {\n",
       "                    if (nbb_cells[i].input_prompt_number == nbb_cell_id) {\n",
       "                        if (nbb_cells[i].get_text() == nbb_unformatted_code) {\n",
       "                             nbb_cells[i].set_text(nbb_formatted_code);\n",
       "                        }\n",
       "                        break;\n",
       "                    }\n",
       "                }\n",
       "            }, 500);\n",
       "            "
      ],
      "text/plain": [
       "<IPython.core.display.Javascript object>"
      ]
     },
     "metadata": {},
     "output_type": "display_data"
    }
   ],
   "source": [
    "df_copy.shape"
   ]
  },
  {
   "cell_type": "code",
   "execution_count": 110,
   "id": "0cac3cf1",
   "metadata": {},
   "outputs": [
    {
     "data": {
      "application/javascript": [
       "\n",
       "            setTimeout(function() {\n",
       "                var nbb_cell_id = 110;\n",
       "                var nbb_unformatted_code = \"df_copy_grouped = df_copy.copy()\";\n",
       "                var nbb_formatted_code = \"df_copy_grouped = df_copy.copy()\";\n",
       "                var nbb_cells = Jupyter.notebook.get_cells();\n",
       "                for (var i = 0; i < nbb_cells.length; ++i) {\n",
       "                    if (nbb_cells[i].input_prompt_number == nbb_cell_id) {\n",
       "                        if (nbb_cells[i].get_text() == nbb_unformatted_code) {\n",
       "                             nbb_cells[i].set_text(nbb_formatted_code);\n",
       "                        }\n",
       "                        break;\n",
       "                    }\n",
       "                }\n",
       "            }, 500);\n",
       "            "
      ],
      "text/plain": [
       "<IPython.core.display.Javascript object>"
      ]
     },
     "metadata": {},
     "output_type": "display_data"
    }
   ],
   "source": [
    "df_copy_grouped = df_copy.copy()"
   ]
  },
  {
   "cell_type": "code",
   "execution_count": 111,
   "id": "b727c739",
   "metadata": {},
   "outputs": [
    {
     "data": {
      "text/html": [
       "<div>\n",
       "<style scoped>\n",
       "    .dataframe tbody tr th:only-of-type {\n",
       "        vertical-align: middle;\n",
       "    }\n",
       "\n",
       "    .dataframe tbody tr th {\n",
       "        vertical-align: top;\n",
       "    }\n",
       "\n",
       "    .dataframe thead th {\n",
       "        text-align: right;\n",
       "    }\n",
       "</style>\n",
       "<table border=\"1\" class=\"dataframe\">\n",
       "  <thead>\n",
       "    <tr style=\"text-align: right;\">\n",
       "      <th></th>\n",
       "      <th></th>\n",
       "      <th>count</th>\n",
       "      <th>mean</th>\n",
       "      <th>std</th>\n",
       "      <th>min</th>\n",
       "      <th>25%</th>\n",
       "      <th>50%</th>\n",
       "      <th>75%</th>\n",
       "      <th>max</th>\n",
       "    </tr>\n",
       "  </thead>\n",
       "  <tbody>\n",
       "    <tr>\n",
       "      <th>RMSE Test</th>\n",
       "      <th>mean</th>\n",
       "      <td>117.0</td>\n",
       "      <td>2.75</td>\n",
       "      <td>1.14</td>\n",
       "      <td>0.88</td>\n",
       "      <td>1.98</td>\n",
       "      <td>2.60</td>\n",
       "      <td>3.29</td>\n",
       "      <td>7.75</td>\n",
       "    </tr>\n",
       "    <tr>\n",
       "      <th>MAE Test</th>\n",
       "      <th>mean</th>\n",
       "      <td>117.0</td>\n",
       "      <td>1.90</td>\n",
       "      <td>0.61</td>\n",
       "      <td>0.66</td>\n",
       "      <td>1.49</td>\n",
       "      <td>1.90</td>\n",
       "      <td>2.31</td>\n",
       "      <td>3.78</td>\n",
       "    </tr>\n",
       "    <tr>\n",
       "      <th>MAPE Test</th>\n",
       "      <th>mean</th>\n",
       "      <td>117.0</td>\n",
       "      <td>4.45</td>\n",
       "      <td>1.42</td>\n",
       "      <td>1.54</td>\n",
       "      <td>3.47</td>\n",
       "      <td>4.41</td>\n",
       "      <td>5.42</td>\n",
       "      <td>9.24</td>\n",
       "    </tr>\n",
       "    <tr>\n",
       "      <th>R2 Test</th>\n",
       "      <th>mean</th>\n",
       "      <td>117.0</td>\n",
       "      <td>0.64</td>\n",
       "      <td>0.58</td>\n",
       "      <td>-3.75</td>\n",
       "      <td>0.64</td>\n",
       "      <td>0.79</td>\n",
       "      <td>0.87</td>\n",
       "      <td>0.98</td>\n",
       "    </tr>\n",
       "  </tbody>\n",
       "</table>\n",
       "</div>"
      ],
      "text/plain": [
       "                count  mean   std   min   25%   50%   75%   max\n",
       "RMSE Test mean  117.0  2.75  1.14  0.88  1.98  2.60  3.29  7.75\n",
       "MAE Test  mean  117.0  1.90  0.61  0.66  1.49  1.90  2.31  3.78\n",
       "MAPE Test mean  117.0  4.45  1.42  1.54  3.47  4.41  5.42  9.24\n",
       "R2 Test   mean  117.0  0.64  0.58 -3.75  0.64  0.79  0.87  0.98"
      ]
     },
     "execution_count": 111,
     "metadata": {},
     "output_type": "execute_result"
    },
    {
     "data": {
      "application/javascript": [
       "\n",
       "            setTimeout(function() {\n",
       "                var nbb_cell_id = 111;\n",
       "                var nbb_unformatted_code = \"df_copy[\\n    [\\n        (\\\"RMSE Test\\\", \\\"mean\\\"),\\n        (\\\"MAE Test\\\", \\\"mean\\\"),\\n        (\\\"MAPE Test\\\", \\\"mean\\\"),\\n        (\\\"R2 Test\\\", \\\"mean\\\"),\\n    ]\\n].describe().round(2).T\";\n",
       "                var nbb_formatted_code = \"df_copy[\\n    [\\n        (\\\"RMSE Test\\\", \\\"mean\\\"),\\n        (\\\"MAE Test\\\", \\\"mean\\\"),\\n        (\\\"MAPE Test\\\", \\\"mean\\\"),\\n        (\\\"R2 Test\\\", \\\"mean\\\"),\\n    ]\\n].describe().round(2).T\";\n",
       "                var nbb_cells = Jupyter.notebook.get_cells();\n",
       "                for (var i = 0; i < nbb_cells.length; ++i) {\n",
       "                    if (nbb_cells[i].input_prompt_number == nbb_cell_id) {\n",
       "                        if (nbb_cells[i].get_text() == nbb_unformatted_code) {\n",
       "                             nbb_cells[i].set_text(nbb_formatted_code);\n",
       "                        }\n",
       "                        break;\n",
       "                    }\n",
       "                }\n",
       "            }, 500);\n",
       "            "
      ],
      "text/plain": [
       "<IPython.core.display.Javascript object>"
      ]
     },
     "metadata": {},
     "output_type": "display_data"
    }
   ],
   "source": [
    "df_copy[\n",
    "    [\n",
    "        (\"RMSE Test\", \"mean\"),\n",
    "        (\"MAE Test\", \"mean\"),\n",
    "        (\"MAPE Test\", \"mean\"),\n",
    "        (\"R2 Test\", \"mean\"),\n",
    "    ]\n",
    "].describe().round(2).T"
   ]
  },
  {
   "cell_type": "code",
   "execution_count": 112,
   "id": "6d953f46",
   "metadata": {},
   "outputs": [
    {
     "data": {
      "text/plain": [
       "5"
      ]
     },
     "execution_count": 112,
     "metadata": {},
     "output_type": "execute_result"
    },
    {
     "data": {
      "application/javascript": [
       "\n",
       "            setTimeout(function() {\n",
       "                var nbb_cell_id = 112;\n",
       "                var nbb_unformatted_code = \"(df_copy[(\\\"R2 Test\\\", \\\"mean\\\")] < 0).sum()\";\n",
       "                var nbb_formatted_code = \"(df_copy[(\\\"R2 Test\\\", \\\"mean\\\")] < 0).sum()\";\n",
       "                var nbb_cells = Jupyter.notebook.get_cells();\n",
       "                for (var i = 0; i < nbb_cells.length; ++i) {\n",
       "                    if (nbb_cells[i].input_prompt_number == nbb_cell_id) {\n",
       "                        if (nbb_cells[i].get_text() == nbb_unformatted_code) {\n",
       "                             nbb_cells[i].set_text(nbb_formatted_code);\n",
       "                        }\n",
       "                        break;\n",
       "                    }\n",
       "                }\n",
       "            }, 500);\n",
       "            "
      ],
      "text/plain": [
       "<IPython.core.display.Javascript object>"
      ]
     },
     "metadata": {},
     "output_type": "display_data"
    }
   ],
   "source": [
    "(df_copy[(\"R2 Test\", \"mean\")] < 0).sum()"
   ]
  },
  {
   "cell_type": "code",
   "execution_count": 113,
   "id": "5598a655",
   "metadata": {},
   "outputs": [
    {
     "data": {
      "text/plain": [
       "0"
      ]
     },
     "execution_count": 113,
     "metadata": {},
     "output_type": "execute_result"
    },
    {
     "data": {
      "application/javascript": [
       "\n",
       "            setTimeout(function() {\n",
       "                var nbb_cell_id = 113;\n",
       "                var nbb_unformatted_code = \"(df_copy[(\\\"MAPE Test\\\", \\\"mean\\\")] > 100).sum()\";\n",
       "                var nbb_formatted_code = \"(df_copy[(\\\"MAPE Test\\\", \\\"mean\\\")] > 100).sum()\";\n",
       "                var nbb_cells = Jupyter.notebook.get_cells();\n",
       "                for (var i = 0; i < nbb_cells.length; ++i) {\n",
       "                    if (nbb_cells[i].input_prompt_number == nbb_cell_id) {\n",
       "                        if (nbb_cells[i].get_text() == nbb_unformatted_code) {\n",
       "                             nbb_cells[i].set_text(nbb_formatted_code);\n",
       "                        }\n",
       "                        break;\n",
       "                    }\n",
       "                }\n",
       "            }, 500);\n",
       "            "
      ],
      "text/plain": [
       "<IPython.core.display.Javascript object>"
      ]
     },
     "metadata": {},
     "output_type": "display_data"
    }
   ],
   "source": [
    "(df_copy[(\"MAPE Test\", \"mean\")] > 100).sum()"
   ]
  },
  {
   "cell_type": "code",
   "execution_count": 114,
   "id": "8baac337",
   "metadata": {},
   "outputs": [
    {
     "data": {
      "text/plain": [
       "0"
      ]
     },
     "execution_count": 114,
     "metadata": {},
     "output_type": "execute_result"
    },
    {
     "data": {
      "application/javascript": [
       "\n",
       "            setTimeout(function() {\n",
       "                var nbb_cell_id = 114;\n",
       "                var nbb_unformatted_code = \"(df_copy[(\\\"RMSE Test\\\", \\\"mean\\\")] > 100).sum()\";\n",
       "                var nbb_formatted_code = \"(df_copy[(\\\"RMSE Test\\\", \\\"mean\\\")] > 100).sum()\";\n",
       "                var nbb_cells = Jupyter.notebook.get_cells();\n",
       "                for (var i = 0; i < nbb_cells.length; ++i) {\n",
       "                    if (nbb_cells[i].input_prompt_number == nbb_cell_id) {\n",
       "                        if (nbb_cells[i].get_text() == nbb_unformatted_code) {\n",
       "                             nbb_cells[i].set_text(nbb_formatted_code);\n",
       "                        }\n",
       "                        break;\n",
       "                    }\n",
       "                }\n",
       "            }, 500);\n",
       "            "
      ],
      "text/plain": [
       "<IPython.core.display.Javascript object>"
      ]
     },
     "metadata": {},
     "output_type": "display_data"
    }
   ],
   "source": [
    "(df_copy[(\"RMSE Test\", \"mean\")] > 100).sum()"
   ]
  },
  {
   "cell_type": "code",
   "execution_count": 115,
   "id": "9c9b9445",
   "metadata": {},
   "outputs": [
    {
     "data": {
      "text/plain": [
       "0"
      ]
     },
     "execution_count": 115,
     "metadata": {},
     "output_type": "execute_result"
    },
    {
     "data": {
      "application/javascript": [
       "\n",
       "            setTimeout(function() {\n",
       "                var nbb_cell_id = 115;\n",
       "                var nbb_unformatted_code = \"(df_copy[(\\\"MAE Test\\\", \\\"mean\\\")] > 100).sum()\";\n",
       "                var nbb_formatted_code = \"(df_copy[(\\\"MAE Test\\\", \\\"mean\\\")] > 100).sum()\";\n",
       "                var nbb_cells = Jupyter.notebook.get_cells();\n",
       "                for (var i = 0; i < nbb_cells.length; ++i) {\n",
       "                    if (nbb_cells[i].input_prompt_number == nbb_cell_id) {\n",
       "                        if (nbb_cells[i].get_text() == nbb_unformatted_code) {\n",
       "                             nbb_cells[i].set_text(nbb_formatted_code);\n",
       "                        }\n",
       "                        break;\n",
       "                    }\n",
       "                }\n",
       "            }, 500);\n",
       "            "
      ],
      "text/plain": [
       "<IPython.core.display.Javascript object>"
      ]
     },
     "metadata": {},
     "output_type": "display_data"
    }
   ],
   "source": [
    "(df_copy[(\"MAE Test\", \"mean\")] > 100).sum()"
   ]
  },
  {
   "cell_type": "code",
   "execution_count": 116,
   "id": "e358c980",
   "metadata": {},
   "outputs": [
    {
     "data": {
      "text/plain": [
       "5"
      ]
     },
     "execution_count": 116,
     "metadata": {},
     "output_type": "execute_result"
    },
    {
     "data": {
      "application/javascript": [
       "\n",
       "            setTimeout(function() {\n",
       "                var nbb_cell_id = 116;\n",
       "                var nbb_unformatted_code = \"(\\n    (df_copy[(\\\"R2 Test\\\", \\\"mean\\\")] < 0)\\n    | (df_copy[(\\\"MAPE Test\\\", \\\"mean\\\")] > 100)\\n    | (df_copy[(\\\"RMSE Test\\\", \\\"mean\\\")] > 100)\\n    | (df_copy[(\\\"MAE Test\\\", \\\"mean\\\")] > 100)\\n).sum()\";\n",
       "                var nbb_formatted_code = \"(\\n    (df_copy[(\\\"R2 Test\\\", \\\"mean\\\")] < 0)\\n    | (df_copy[(\\\"MAPE Test\\\", \\\"mean\\\")] > 100)\\n    | (df_copy[(\\\"RMSE Test\\\", \\\"mean\\\")] > 100)\\n    | (df_copy[(\\\"MAE Test\\\", \\\"mean\\\")] > 100)\\n).sum()\";\n",
       "                var nbb_cells = Jupyter.notebook.get_cells();\n",
       "                for (var i = 0; i < nbb_cells.length; ++i) {\n",
       "                    if (nbb_cells[i].input_prompt_number == nbb_cell_id) {\n",
       "                        if (nbb_cells[i].get_text() == nbb_unformatted_code) {\n",
       "                             nbb_cells[i].set_text(nbb_formatted_code);\n",
       "                        }\n",
       "                        break;\n",
       "                    }\n",
       "                }\n",
       "            }, 500);\n",
       "            "
      ],
      "text/plain": [
       "<IPython.core.display.Javascript object>"
      ]
     },
     "metadata": {},
     "output_type": "display_data"
    }
   ],
   "source": [
    "(\n",
    "    (df_copy[(\"R2 Test\", \"mean\")] < 0)\n",
    "    | (df_copy[(\"MAPE Test\", \"mean\")] > 100)\n",
    "    | (df_copy[(\"RMSE Test\", \"mean\")] > 100)\n",
    "    | (df_copy[(\"MAE Test\", \"mean\")] > 100)\n",
    ").sum()"
   ]
  },
  {
   "cell_type": "code",
   "execution_count": 117,
   "id": "a6b78ff6",
   "metadata": {},
   "outputs": [
    {
     "data": {
      "application/javascript": [
       "\n",
       "            setTimeout(function() {\n",
       "                var nbb_cell_id = 117;\n",
       "                var nbb_unformatted_code = \"df_copy_2 = df_copy.copy()\";\n",
       "                var nbb_formatted_code = \"df_copy_2 = df_copy.copy()\";\n",
       "                var nbb_cells = Jupyter.notebook.get_cells();\n",
       "                for (var i = 0; i < nbb_cells.length; ++i) {\n",
       "                    if (nbb_cells[i].input_prompt_number == nbb_cell_id) {\n",
       "                        if (nbb_cells[i].get_text() == nbb_unformatted_code) {\n",
       "                             nbb_cells[i].set_text(nbb_formatted_code);\n",
       "                        }\n",
       "                        break;\n",
       "                    }\n",
       "                }\n",
       "            }, 500);\n",
       "            "
      ],
      "text/plain": [
       "<IPython.core.display.Javascript object>"
      ]
     },
     "metadata": {},
     "output_type": "display_data"
    }
   ],
   "source": [
    "df_copy_2 = df_copy.copy()"
   ]
  },
  {
   "cell_type": "code",
   "execution_count": 118,
   "id": "44d2ffae",
   "metadata": {},
   "outputs": [
    {
     "data": {
      "application/javascript": [
       "\n",
       "            setTimeout(function() {\n",
       "                var nbb_cell_id = 118;\n",
       "                var nbb_unformatted_code = \"df_copy = df_copy[\\n    ~(\\n        (df_copy[(\\\"R2 Test\\\", \\\"mean\\\")] < 0)\\n        | (df_copy[(\\\"MAPE Test\\\", \\\"mean\\\")] > 100)\\n        | (df_copy[(\\\"RMSE Test\\\", \\\"mean\\\")] > 100)\\n        | (df_copy[(\\\"MAE Test\\\", \\\"mean\\\")] > 100)\\n    )\\n].reset_index(drop=True)\";\n",
       "                var nbb_formatted_code = \"df_copy = df_copy[\\n    ~(\\n        (df_copy[(\\\"R2 Test\\\", \\\"mean\\\")] < 0)\\n        | (df_copy[(\\\"MAPE Test\\\", \\\"mean\\\")] > 100)\\n        | (df_copy[(\\\"RMSE Test\\\", \\\"mean\\\")] > 100)\\n        | (df_copy[(\\\"MAE Test\\\", \\\"mean\\\")] > 100)\\n    )\\n].reset_index(drop=True)\";\n",
       "                var nbb_cells = Jupyter.notebook.get_cells();\n",
       "                for (var i = 0; i < nbb_cells.length; ++i) {\n",
       "                    if (nbb_cells[i].input_prompt_number == nbb_cell_id) {\n",
       "                        if (nbb_cells[i].get_text() == nbb_unformatted_code) {\n",
       "                             nbb_cells[i].set_text(nbb_formatted_code);\n",
       "                        }\n",
       "                        break;\n",
       "                    }\n",
       "                }\n",
       "            }, 500);\n",
       "            "
      ],
      "text/plain": [
       "<IPython.core.display.Javascript object>"
      ]
     },
     "metadata": {},
     "output_type": "display_data"
    }
   ],
   "source": [
    "df_copy = df_copy[\n",
    "    ~(\n",
    "        (df_copy[(\"R2 Test\", \"mean\")] < 0)\n",
    "        | (df_copy[(\"MAPE Test\", \"mean\")] > 100)\n",
    "        | (df_copy[(\"RMSE Test\", \"mean\")] > 100)\n",
    "        | (df_copy[(\"MAE Test\", \"mean\")] > 100)\n",
    "    )\n",
    "].reset_index(drop=True)"
   ]
  },
  {
   "cell_type": "code",
   "execution_count": 119,
   "id": "00b818fb",
   "metadata": {},
   "outputs": [
    {
     "data": {
      "text/html": [
       "<div>\n",
       "<style scoped>\n",
       "    .dataframe tbody tr th:only-of-type {\n",
       "        vertical-align: middle;\n",
       "    }\n",
       "\n",
       "    .dataframe tbody tr th {\n",
       "        vertical-align: top;\n",
       "    }\n",
       "\n",
       "    .dataframe thead th {\n",
       "        text-align: right;\n",
       "    }\n",
       "</style>\n",
       "<table border=\"1\" class=\"dataframe\">\n",
       "  <thead>\n",
       "    <tr style=\"text-align: right;\">\n",
       "      <th></th>\n",
       "      <th></th>\n",
       "      <th>count</th>\n",
       "      <th>mean</th>\n",
       "      <th>std</th>\n",
       "      <th>min</th>\n",
       "      <th>25%</th>\n",
       "      <th>50%</th>\n",
       "      <th>75%</th>\n",
       "      <th>max</th>\n",
       "    </tr>\n",
       "  </thead>\n",
       "  <tbody>\n",
       "    <tr>\n",
       "      <th>RMSE Test</th>\n",
       "      <th>mean</th>\n",
       "      <td>112.0</td>\n",
       "      <td>2.60</td>\n",
       "      <td>0.86</td>\n",
       "      <td>0.88</td>\n",
       "      <td>1.97</td>\n",
       "      <td>2.51</td>\n",
       "      <td>3.21</td>\n",
       "      <td>4.58</td>\n",
       "    </tr>\n",
       "    <tr>\n",
       "      <th>MAE Test</th>\n",
       "      <th>mean</th>\n",
       "      <td>112.0</td>\n",
       "      <td>1.86</td>\n",
       "      <td>0.58</td>\n",
       "      <td>0.66</td>\n",
       "      <td>1.46</td>\n",
       "      <td>1.85</td>\n",
       "      <td>2.27</td>\n",
       "      <td>3.46</td>\n",
       "    </tr>\n",
       "    <tr>\n",
       "      <th>MAPE Test</th>\n",
       "      <th>mean</th>\n",
       "      <td>112.0</td>\n",
       "      <td>4.36</td>\n",
       "      <td>1.35</td>\n",
       "      <td>1.54</td>\n",
       "      <td>3.44</td>\n",
       "      <td>4.36</td>\n",
       "      <td>5.31</td>\n",
       "      <td>8.24</td>\n",
       "    </tr>\n",
       "    <tr>\n",
       "      <th>R2 Test</th>\n",
       "      <th>mean</th>\n",
       "      <td>112.0</td>\n",
       "      <td>0.74</td>\n",
       "      <td>0.19</td>\n",
       "      <td>0.09</td>\n",
       "      <td>0.66</td>\n",
       "      <td>0.79</td>\n",
       "      <td>0.88</td>\n",
       "      <td>0.98</td>\n",
       "    </tr>\n",
       "  </tbody>\n",
       "</table>\n",
       "</div>"
      ],
      "text/plain": [
       "                count  mean   std   min   25%   50%   75%   max\n",
       "RMSE Test mean  112.0  2.60  0.86  0.88  1.97  2.51  3.21  4.58\n",
       "MAE Test  mean  112.0  1.86  0.58  0.66  1.46  1.85  2.27  3.46\n",
       "MAPE Test mean  112.0  4.36  1.35  1.54  3.44  4.36  5.31  8.24\n",
       "R2 Test   mean  112.0  0.74  0.19  0.09  0.66  0.79  0.88  0.98"
      ]
     },
     "execution_count": 119,
     "metadata": {},
     "output_type": "execute_result"
    },
    {
     "data": {
      "application/javascript": [
       "\n",
       "            setTimeout(function() {\n",
       "                var nbb_cell_id = 119;\n",
       "                var nbb_unformatted_code = \"df_copy[\\n    [\\n        (\\\"RMSE Test\\\", \\\"mean\\\"),\\n        (\\\"MAE Test\\\", \\\"mean\\\"),\\n        (\\\"MAPE Test\\\", \\\"mean\\\"),\\n        (\\\"R2 Test\\\", \\\"mean\\\"),\\n    ]\\n].describe().round(2).T\";\n",
       "                var nbb_formatted_code = \"df_copy[\\n    [\\n        (\\\"RMSE Test\\\", \\\"mean\\\"),\\n        (\\\"MAE Test\\\", \\\"mean\\\"),\\n        (\\\"MAPE Test\\\", \\\"mean\\\"),\\n        (\\\"R2 Test\\\", \\\"mean\\\"),\\n    ]\\n].describe().round(2).T\";\n",
       "                var nbb_cells = Jupyter.notebook.get_cells();\n",
       "                for (var i = 0; i < nbb_cells.length; ++i) {\n",
       "                    if (nbb_cells[i].input_prompt_number == nbb_cell_id) {\n",
       "                        if (nbb_cells[i].get_text() == nbb_unformatted_code) {\n",
       "                             nbb_cells[i].set_text(nbb_formatted_code);\n",
       "                        }\n",
       "                        break;\n",
       "                    }\n",
       "                }\n",
       "            }, 500);\n",
       "            "
      ],
      "text/plain": [
       "<IPython.core.display.Javascript object>"
      ]
     },
     "metadata": {},
     "output_type": "display_data"
    }
   ],
   "source": [
    "df_copy[\n",
    "    [\n",
    "        (\"RMSE Test\", \"mean\"),\n",
    "        (\"MAE Test\", \"mean\"),\n",
    "        (\"MAPE Test\", \"mean\"),\n",
    "        (\"R2 Test\", \"mean\"),\n",
    "    ]\n",
    "].describe().round(2).T"
   ]
  },
  {
   "cell_type": "code",
   "execution_count": 120,
   "id": "a40ca39b",
   "metadata": {},
   "outputs": [
    {
     "data": {
      "text/html": [
       "<div>\n",
       "<style scoped>\n",
       "    .dataframe tbody tr th:only-of-type {\n",
       "        vertical-align: middle;\n",
       "    }\n",
       "\n",
       "    .dataframe tbody tr th {\n",
       "        vertical-align: top;\n",
       "    }\n",
       "\n",
       "    .dataframe thead th {\n",
       "        text-align: right;\n",
       "    }\n",
       "</style>\n",
       "<table border=\"1\" class=\"dataframe\">\n",
       "  <thead>\n",
       "    <tr style=\"text-align: right;\">\n",
       "      <th></th>\n",
       "      <th>count</th>\n",
       "      <th>mean</th>\n",
       "      <th>std</th>\n",
       "      <th>min</th>\n",
       "      <th>25%</th>\n",
       "      <th>50%</th>\n",
       "      <th>75%</th>\n",
       "      <th>max</th>\n",
       "    </tr>\n",
       "  </thead>\n",
       "  <tbody>\n",
       "    <tr>\n",
       "      <th>RMSE</th>\n",
       "      <td>112.0</td>\n",
       "      <td>2.60</td>\n",
       "      <td>0.86</td>\n",
       "      <td>0.88</td>\n",
       "      <td>1.97</td>\n",
       "      <td>2.51</td>\n",
       "      <td>3.21</td>\n",
       "      <td>4.58</td>\n",
       "    </tr>\n",
       "    <tr>\n",
       "      <th>MAE</th>\n",
       "      <td>112.0</td>\n",
       "      <td>1.86</td>\n",
       "      <td>0.58</td>\n",
       "      <td>0.66</td>\n",
       "      <td>1.46</td>\n",
       "      <td>1.85</td>\n",
       "      <td>2.27</td>\n",
       "      <td>3.46</td>\n",
       "    </tr>\n",
       "    <tr>\n",
       "      <th>MAPE</th>\n",
       "      <td>112.0</td>\n",
       "      <td>4.36</td>\n",
       "      <td>1.35</td>\n",
       "      <td>1.54</td>\n",
       "      <td>3.44</td>\n",
       "      <td>4.36</td>\n",
       "      <td>5.31</td>\n",
       "      <td>8.24</td>\n",
       "    </tr>\n",
       "    <tr>\n",
       "      <th>R2</th>\n",
       "      <td>112.0</td>\n",
       "      <td>0.74</td>\n",
       "      <td>0.19</td>\n",
       "      <td>0.09</td>\n",
       "      <td>0.66</td>\n",
       "      <td>0.79</td>\n",
       "      <td>0.88</td>\n",
       "      <td>0.98</td>\n",
       "    </tr>\n",
       "  </tbody>\n",
       "</table>\n",
       "</div>"
      ],
      "text/plain": [
       "      count  mean   std   min   25%   50%   75%   max\n",
       "RMSE  112.0  2.60  0.86  0.88  1.97  2.51  3.21  4.58\n",
       "MAE   112.0  1.86  0.58  0.66  1.46  1.85  2.27  3.46\n",
       "MAPE  112.0  4.36  1.35  1.54  3.44  4.36  5.31  8.24\n",
       "R2    112.0  0.74  0.19  0.09  0.66  0.79  0.88  0.98"
      ]
     },
     "execution_count": 120,
     "metadata": {},
     "output_type": "execute_result"
    },
    {
     "data": {
      "application/javascript": [
       "\n",
       "            setTimeout(function() {\n",
       "                var nbb_cell_id = 120;\n",
       "                var nbb_unformatted_code = \"em_copy = df_copy[\\n    [\\n        (\\\"RMSE Test\\\", \\\"mean\\\"),\\n        (\\\"MAE Test\\\", \\\"mean\\\"),\\n        (\\\"MAPE Test\\\", \\\"mean\\\"),\\n        (\\\"R2 Test\\\", \\\"mean\\\"),\\n    ]\\n].copy()\\n\\nem_copy.columns = [\\\"RMSE\\\", \\\"MAE\\\", \\\"MAPE\\\", \\\"R2\\\"]\\nem_copy.describe().round(2).T\";\n",
       "                var nbb_formatted_code = \"em_copy = df_copy[\\n    [\\n        (\\\"RMSE Test\\\", \\\"mean\\\"),\\n        (\\\"MAE Test\\\", \\\"mean\\\"),\\n        (\\\"MAPE Test\\\", \\\"mean\\\"),\\n        (\\\"R2 Test\\\", \\\"mean\\\"),\\n    ]\\n].copy()\\n\\nem_copy.columns = [\\\"RMSE\\\", \\\"MAE\\\", \\\"MAPE\\\", \\\"R2\\\"]\\nem_copy.describe().round(2).T\";\n",
       "                var nbb_cells = Jupyter.notebook.get_cells();\n",
       "                for (var i = 0; i < nbb_cells.length; ++i) {\n",
       "                    if (nbb_cells[i].input_prompt_number == nbb_cell_id) {\n",
       "                        if (nbb_cells[i].get_text() == nbb_unformatted_code) {\n",
       "                             nbb_cells[i].set_text(nbb_formatted_code);\n",
       "                        }\n",
       "                        break;\n",
       "                    }\n",
       "                }\n",
       "            }, 500);\n",
       "            "
      ],
      "text/plain": [
       "<IPython.core.display.Javascript object>"
      ]
     },
     "metadata": {},
     "output_type": "display_data"
    }
   ],
   "source": [
    "em_copy = df_copy[\n",
    "    [\n",
    "        (\"RMSE Test\", \"mean\"),\n",
    "        (\"MAE Test\", \"mean\"),\n",
    "        (\"MAPE Test\", \"mean\"),\n",
    "        (\"R2 Test\", \"mean\"),\n",
    "    ]\n",
    "].copy()\n",
    "\n",
    "em_copy.columns = [\"RMSE\", \"MAE\", \"MAPE\", \"R2\"]\n",
    "em_copy.describe().round(2).T"
   ]
  },
  {
   "cell_type": "code",
   "execution_count": 121,
   "id": "ddc2ac6f",
   "metadata": {},
   "outputs": [
    {
     "data": {
      "text/html": [
       "<div>\n",
       "<style scoped>\n",
       "    .dataframe tbody tr th:only-of-type {\n",
       "        vertical-align: middle;\n",
       "    }\n",
       "\n",
       "    .dataframe tbody tr th {\n",
       "        vertical-align: top;\n",
       "    }\n",
       "\n",
       "    .dataframe thead th {\n",
       "        text-align: right;\n",
       "    }\n",
       "</style>\n",
       "<table border=\"1\" class=\"dataframe\">\n",
       "  <thead>\n",
       "    <tr style=\"text-align: right;\">\n",
       "      <th></th>\n",
       "      <th></th>\n",
       "      <th>count</th>\n",
       "      <th>mean</th>\n",
       "      <th>std</th>\n",
       "      <th>min</th>\n",
       "      <th>25%</th>\n",
       "      <th>50%</th>\n",
       "      <th>75%</th>\n",
       "      <th>max</th>\n",
       "    </tr>\n",
       "  </thead>\n",
       "  <tbody>\n",
       "    <tr>\n",
       "      <th>RMSE Test</th>\n",
       "      <th>std</th>\n",
       "      <td>112.0</td>\n",
       "      <td>1.01</td>\n",
       "      <td>0.74</td>\n",
       "      <td>0.06</td>\n",
       "      <td>0.49</td>\n",
       "      <td>0.81</td>\n",
       "      <td>1.32</td>\n",
       "      <td>4.12</td>\n",
       "    </tr>\n",
       "    <tr>\n",
       "      <th>MAE Test</th>\n",
       "      <th>std</th>\n",
       "      <td>112.0</td>\n",
       "      <td>0.67</td>\n",
       "      <td>0.60</td>\n",
       "      <td>0.06</td>\n",
       "      <td>0.34</td>\n",
       "      <td>0.51</td>\n",
       "      <td>0.79</td>\n",
       "      <td>4.07</td>\n",
       "    </tr>\n",
       "    <tr>\n",
       "      <th>MAPE Test</th>\n",
       "      <th>std</th>\n",
       "      <td>112.0</td>\n",
       "      <td>1.58</td>\n",
       "      <td>1.47</td>\n",
       "      <td>0.15</td>\n",
       "      <td>0.73</td>\n",
       "      <td>1.16</td>\n",
       "      <td>1.78</td>\n",
       "      <td>9.73</td>\n",
       "    </tr>\n",
       "    <tr>\n",
       "      <th>R2 Test</th>\n",
       "      <th>std</th>\n",
       "      <td>112.0</td>\n",
       "      <td>0.21</td>\n",
       "      <td>0.26</td>\n",
       "      <td>0.00</td>\n",
       "      <td>0.06</td>\n",
       "      <td>0.13</td>\n",
       "      <td>0.27</td>\n",
       "      <td>1.60</td>\n",
       "    </tr>\n",
       "  </tbody>\n",
       "</table>\n",
       "</div>"
      ],
      "text/plain": [
       "               count  mean   std   min   25%   50%   75%   max\n",
       "RMSE Test std  112.0  1.01  0.74  0.06  0.49  0.81  1.32  4.12\n",
       "MAE Test  std  112.0  0.67  0.60  0.06  0.34  0.51  0.79  4.07\n",
       "MAPE Test std  112.0  1.58  1.47  0.15  0.73  1.16  1.78  9.73\n",
       "R2 Test   std  112.0  0.21  0.26  0.00  0.06  0.13  0.27  1.60"
      ]
     },
     "execution_count": 121,
     "metadata": {},
     "output_type": "execute_result"
    },
    {
     "data": {
      "application/javascript": [
       "\n",
       "            setTimeout(function() {\n",
       "                var nbb_cell_id = 121;\n",
       "                var nbb_unformatted_code = \"df_copy[\\n    [\\n        (\\\"RMSE Test\\\", \\\"std\\\"),\\n        (\\\"MAE Test\\\", \\\"std\\\"),\\n        (\\\"MAPE Test\\\", \\\"std\\\"),\\n        (\\\"R2 Test\\\", \\\"std\\\"),\\n    ]\\n].describe().round(2).T\";\n",
       "                var nbb_formatted_code = \"df_copy[\\n    [\\n        (\\\"RMSE Test\\\", \\\"std\\\"),\\n        (\\\"MAE Test\\\", \\\"std\\\"),\\n        (\\\"MAPE Test\\\", \\\"std\\\"),\\n        (\\\"R2 Test\\\", \\\"std\\\"),\\n    ]\\n].describe().round(2).T\";\n",
       "                var nbb_cells = Jupyter.notebook.get_cells();\n",
       "                for (var i = 0; i < nbb_cells.length; ++i) {\n",
       "                    if (nbb_cells[i].input_prompt_number == nbb_cell_id) {\n",
       "                        if (nbb_cells[i].get_text() == nbb_unformatted_code) {\n",
       "                             nbb_cells[i].set_text(nbb_formatted_code);\n",
       "                        }\n",
       "                        break;\n",
       "                    }\n",
       "                }\n",
       "            }, 500);\n",
       "            "
      ],
      "text/plain": [
       "<IPython.core.display.Javascript object>"
      ]
     },
     "metadata": {},
     "output_type": "display_data"
    }
   ],
   "source": [
    "df_copy[\n",
    "    [\n",
    "        (\"RMSE Test\", \"std\"),\n",
    "        (\"MAE Test\", \"std\"),\n",
    "        (\"MAPE Test\", \"std\"),\n",
    "        (\"R2 Test\", \"std\"),\n",
    "    ]\n",
    "].describe().round(2).T"
   ]
  },
  {
   "cell_type": "code",
   "execution_count": 122,
   "id": "98689d8c",
   "metadata": {},
   "outputs": [
    {
     "data": {
      "text/plain": [
       "(112, 29)"
      ]
     },
     "execution_count": 122,
     "metadata": {},
     "output_type": "execute_result"
    },
    {
     "data": {
      "application/javascript": [
       "\n",
       "            setTimeout(function() {\n",
       "                var nbb_cell_id = 122;\n",
       "                var nbb_unformatted_code = \"df_copy.shape\";\n",
       "                var nbb_formatted_code = \"df_copy.shape\";\n",
       "                var nbb_cells = Jupyter.notebook.get_cells();\n",
       "                for (var i = 0; i < nbb_cells.length; ++i) {\n",
       "                    if (nbb_cells[i].input_prompt_number == nbb_cell_id) {\n",
       "                        if (nbb_cells[i].get_text() == nbb_unformatted_code) {\n",
       "                             nbb_cells[i].set_text(nbb_formatted_code);\n",
       "                        }\n",
       "                        break;\n",
       "                    }\n",
       "                }\n",
       "            }, 500);\n",
       "            "
      ],
      "text/plain": [
       "<IPython.core.display.Javascript object>"
      ]
     },
     "metadata": {},
     "output_type": "display_data"
    }
   ],
   "source": [
    "df_copy.shape"
   ]
  },
  {
   "cell_type": "code",
   "execution_count": 123,
   "id": "495cd891",
   "metadata": {},
   "outputs": [
    {
     "data": {
      "text/plain": [
       "array(['c'], dtype=object)"
      ]
     },
     "execution_count": 123,
     "metadata": {},
     "output_type": "execute_result"
    },
    {
     "data": {
      "application/javascript": [
       "\n",
       "            setTimeout(function() {\n",
       "                var nbb_cell_id = 123;\n",
       "                var nbb_unformatted_code = \"df_copy[\\\"plant\\\"].unique()\";\n",
       "                var nbb_formatted_code = \"df_copy[\\\"plant\\\"].unique()\";\n",
       "                var nbb_cells = Jupyter.notebook.get_cells();\n",
       "                for (var i = 0; i < nbb_cells.length; ++i) {\n",
       "                    if (nbb_cells[i].input_prompt_number == nbb_cell_id) {\n",
       "                        if (nbb_cells[i].get_text() == nbb_unformatted_code) {\n",
       "                             nbb_cells[i].set_text(nbb_formatted_code);\n",
       "                        }\n",
       "                        break;\n",
       "                    }\n",
       "                }\n",
       "            }, 500);\n",
       "            "
      ],
      "text/plain": [
       "<IPython.core.display.Javascript object>"
      ]
     },
     "metadata": {},
     "output_type": "display_data"
    }
   ],
   "source": [
    "df_copy[\"plant\"].unique()"
   ]
  },
  {
   "cell_type": "code",
   "execution_count": 124,
   "id": "d650709e",
   "metadata": {},
   "outputs": [
    {
     "data": {
      "application/javascript": [
       "\n",
       "            setTimeout(function() {\n",
       "                var nbb_cell_id = 124;\n",
       "                var nbb_unformatted_code = \"df_203_groupd = df_copy_grouped[\\n    ~df_copy_grouped[\\\"plant\\\"].isin([\\\"partner_i\\\", \\\"partner_ii\\\", \\\"partner_iv\\\"])\\n]\";\n",
       "                var nbb_formatted_code = \"df_203_groupd = df_copy_grouped[\\n    ~df_copy_grouped[\\\"plant\\\"].isin([\\\"partner_i\\\", \\\"partner_ii\\\", \\\"partner_iv\\\"])\\n]\";\n",
       "                var nbb_cells = Jupyter.notebook.get_cells();\n",
       "                for (var i = 0; i < nbb_cells.length; ++i) {\n",
       "                    if (nbb_cells[i].input_prompt_number == nbb_cell_id) {\n",
       "                        if (nbb_cells[i].get_text() == nbb_unformatted_code) {\n",
       "                             nbb_cells[i].set_text(nbb_formatted_code);\n",
       "                        }\n",
       "                        break;\n",
       "                    }\n",
       "                }\n",
       "            }, 500);\n",
       "            "
      ],
      "text/plain": [
       "<IPython.core.display.Javascript object>"
      ]
     },
     "metadata": {},
     "output_type": "display_data"
    }
   ],
   "source": [
    "df_203_groupd = df_copy_grouped[\n",
    "    ~df_copy_grouped[\"plant\"].isin([\"partner_i\", \"partner_ii\", \"partner_iv\"])\n",
    "]"
   ]
  },
  {
   "cell_type": "code",
   "execution_count": 125,
   "id": "83ec1844",
   "metadata": {},
   "outputs": [
    {
     "data": {
      "text/plain": [
       "(117, 29)"
      ]
     },
     "execution_count": 125,
     "metadata": {},
     "output_type": "execute_result"
    },
    {
     "data": {
      "application/javascript": [
       "\n",
       "            setTimeout(function() {\n",
       "                var nbb_cell_id = 125;\n",
       "                var nbb_unformatted_code = \"df_203_groupd.shape\";\n",
       "                var nbb_formatted_code = \"df_203_groupd.shape\";\n",
       "                var nbb_cells = Jupyter.notebook.get_cells();\n",
       "                for (var i = 0; i < nbb_cells.length; ++i) {\n",
       "                    if (nbb_cells[i].input_prompt_number == nbb_cell_id) {\n",
       "                        if (nbb_cells[i].get_text() == nbb_unformatted_code) {\n",
       "                             nbb_cells[i].set_text(nbb_formatted_code);\n",
       "                        }\n",
       "                        break;\n",
       "                    }\n",
       "                }\n",
       "            }, 500);\n",
       "            "
      ],
      "text/plain": [
       "<IPython.core.display.Javascript object>"
      ]
     },
     "metadata": {},
     "output_type": "display_data"
    }
   ],
   "source": [
    "df_203_groupd.shape"
   ]
  },
  {
   "cell_type": "code",
   "execution_count": 126,
   "id": "d2ba9c9e",
   "metadata": {},
   "outputs": [
    {
     "data": {
      "text/plain": [
       "(1515, 24)"
      ]
     },
     "execution_count": 126,
     "metadata": {},
     "output_type": "execute_result"
    },
    {
     "data": {
      "application/javascript": [
       "\n",
       "            setTimeout(function() {\n",
       "                var nbb_cell_id = 126;\n",
       "                var nbb_unformatted_code = \"df_full.shape\";\n",
       "                var nbb_formatted_code = \"df_full.shape\";\n",
       "                var nbb_cells = Jupyter.notebook.get_cells();\n",
       "                for (var i = 0; i < nbb_cells.length; ++i) {\n",
       "                    if (nbb_cells[i].input_prompt_number == nbb_cell_id) {\n",
       "                        if (nbb_cells[i].get_text() == nbb_unformatted_code) {\n",
       "                             nbb_cells[i].set_text(nbb_formatted_code);\n",
       "                        }\n",
       "                        break;\n",
       "                    }\n",
       "                }\n",
       "            }, 500);\n",
       "            "
      ],
      "text/plain": [
       "<IPython.core.display.Javascript object>"
      ]
     },
     "metadata": {},
     "output_type": "display_data"
    }
   ],
   "source": [
    "df_full.shape"
   ]
  },
  {
   "cell_type": "code",
   "execution_count": 127,
   "id": "7e22755b",
   "metadata": {},
   "outputs": [
    {
     "data": {
      "application/javascript": [
       "\n",
       "            setTimeout(function() {\n",
       "                var nbb_cell_id = 127;\n",
       "                var nbb_unformatted_code = \"cols_groupby = [\\n    # \\\"Category\\\",\\n    # \\\"Company\\\",\\n    \\\"plant\\\",\\n    # \\\"Data Shape\\\",\\n    \\\"Timesteps\\\",\\n    \\\"Features_bkp\\\",\\n    \\\"Model\\\",\\n    \\\"Cross Validation\\\",\\n    \\\"Cross Validation Params\\\",\\n]\\n\\ncols_agg = [\\\"RMSE Train\\\", \\\"MAE Train\\\", \\\"MAPE Train\\\", \\\"R2 Train\\\"] + [\\n    \\\"RMSE Test\\\",\\n    \\\"MAE Test\\\",\\n    \\\"MAPE Test\\\",\\n    \\\"R2 Test\\\",\\n]\\n\\ndf_results_to_save = (\\n    df_full.groupby(cols_groupby, dropna=False)[cols_agg]\\n    .agg([\\\"mean\\\", lambda series: pd.Series(series.std(ddof=0), name=\\\"std\\\")])\\n    .reset_index()\\n    .rename(columns={\\\"<lambda_0>\\\": \\\"std\\\"})\\n)\";\n",
       "                var nbb_formatted_code = \"cols_groupby = [\\n    # \\\"Category\\\",\\n    # \\\"Company\\\",\\n    \\\"plant\\\",\\n    # \\\"Data Shape\\\",\\n    \\\"Timesteps\\\",\\n    \\\"Features_bkp\\\",\\n    \\\"Model\\\",\\n    \\\"Cross Validation\\\",\\n    \\\"Cross Validation Params\\\",\\n]\\n\\ncols_agg = [\\\"RMSE Train\\\", \\\"MAE Train\\\", \\\"MAPE Train\\\", \\\"R2 Train\\\"] + [\\n    \\\"RMSE Test\\\",\\n    \\\"MAE Test\\\",\\n    \\\"MAPE Test\\\",\\n    \\\"R2 Test\\\",\\n]\\n\\ndf_results_to_save = (\\n    df_full.groupby(cols_groupby, dropna=False)[cols_agg]\\n    .agg([\\\"mean\\\", lambda series: pd.Series(series.std(ddof=0), name=\\\"std\\\")])\\n    .reset_index()\\n    .rename(columns={\\\"<lambda_0>\\\": \\\"std\\\"})\\n)\";\n",
       "                var nbb_cells = Jupyter.notebook.get_cells();\n",
       "                for (var i = 0; i < nbb_cells.length; ++i) {\n",
       "                    if (nbb_cells[i].input_prompt_number == nbb_cell_id) {\n",
       "                        if (nbb_cells[i].get_text() == nbb_unformatted_code) {\n",
       "                             nbb_cells[i].set_text(nbb_formatted_code);\n",
       "                        }\n",
       "                        break;\n",
       "                    }\n",
       "                }\n",
       "            }, 500);\n",
       "            "
      ],
      "text/plain": [
       "<IPython.core.display.Javascript object>"
      ]
     },
     "metadata": {},
     "output_type": "display_data"
    }
   ],
   "source": [
    "cols_groupby = [\n",
    "    # \"Category\",\n",
    "    # \"Company\",\n",
    "    \"plant\",\n",
    "    # \"Data Shape\",\n",
    "    \"Timesteps\",\n",
    "    \"Features_bkp\",\n",
    "    \"Model\",\n",
    "    \"Cross Validation\",\n",
    "    \"Cross Validation Params\",\n",
    "]\n",
    "\n",
    "cols_agg = [\"RMSE Train\", \"MAE Train\", \"MAPE Train\", \"R2 Train\"] + [\n",
    "    \"RMSE Test\",\n",
    "    \"MAE Test\",\n",
    "    \"MAPE Test\",\n",
    "    \"R2 Test\",\n",
    "]\n",
    "\n",
    "df_results_to_save = (\n",
    "    df_full.groupby(cols_groupby, dropna=False)[cols_agg]\n",
    "    .agg([\"mean\", lambda series: pd.Series(series.std(ddof=0), name=\"std\")])\n",
    "    .reset_index()\n",
    "    .rename(columns={\"<lambda_0>\": \"std\"})\n",
    ")"
   ]
  },
  {
   "cell_type": "code",
   "execution_count": 128,
   "id": "663de4c8",
   "metadata": {},
   "outputs": [
    {
     "data": {
      "text/plain": [
       "(117, 22)"
      ]
     },
     "execution_count": 128,
     "metadata": {},
     "output_type": "execute_result"
    },
    {
     "data": {
      "application/javascript": [
       "\n",
       "            setTimeout(function() {\n",
       "                var nbb_cell_id = 128;\n",
       "                var nbb_unformatted_code = \"df_results_to_save.shape\";\n",
       "                var nbb_formatted_code = \"df_results_to_save.shape\";\n",
       "                var nbb_cells = Jupyter.notebook.get_cells();\n",
       "                for (var i = 0; i < nbb_cells.length; ++i) {\n",
       "                    if (nbb_cells[i].input_prompt_number == nbb_cell_id) {\n",
       "                        if (nbb_cells[i].get_text() == nbb_unformatted_code) {\n",
       "                             nbb_cells[i].set_text(nbb_formatted_code);\n",
       "                        }\n",
       "                        break;\n",
       "                    }\n",
       "                }\n",
       "            }, 500);\n",
       "            "
      ],
      "text/plain": [
       "<IPython.core.display.Javascript object>"
      ]
     },
     "metadata": {},
     "output_type": "display_data"
    }
   ],
   "source": [
    "df_results_to_save.shape"
   ]
  },
  {
   "cell_type": "code",
   "execution_count": 129,
   "id": "43d97690",
   "metadata": {},
   "outputs": [
    {
     "data": {
      "text/plain": [
       "(117, 29)"
      ]
     },
     "execution_count": 129,
     "metadata": {},
     "output_type": "execute_result"
    },
    {
     "data": {
      "application/javascript": [
       "\n",
       "            setTimeout(function() {\n",
       "                var nbb_cell_id = 129;\n",
       "                var nbb_unformatted_code = \"df_copy_grouped.shape\";\n",
       "                var nbb_formatted_code = \"df_copy_grouped.shape\";\n",
       "                var nbb_cells = Jupyter.notebook.get_cells();\n",
       "                for (var i = 0; i < nbb_cells.length; ++i) {\n",
       "                    if (nbb_cells[i].input_prompt_number == nbb_cell_id) {\n",
       "                        if (nbb_cells[i].get_text() == nbb_unformatted_code) {\n",
       "                             nbb_cells[i].set_text(nbb_formatted_code);\n",
       "                        }\n",
       "                        break;\n",
       "                    }\n",
       "                }\n",
       "            }, 500);\n",
       "            "
      ],
      "text/plain": [
       "<IPython.core.display.Javascript object>"
      ]
     },
     "metadata": {},
     "output_type": "display_data"
    }
   ],
   "source": [
    "df_copy_grouped.shape"
   ]
  },
  {
   "cell_type": "markdown",
   "id": "ca839db8",
   "metadata": {},
   "source": [
    "# Topological Analysis - NEW"
   ]
  },
  {
   "cell_type": "markdown",
   "id": "2cdacf32",
   "metadata": {},
   "source": [
    "## Definitions"
   ]
  },
  {
   "cell_type": "code",
   "execution_count": 130,
   "id": "2be62215",
   "metadata": {},
   "outputs": [
    {
     "data": {
      "application/javascript": [
       "\n",
       "            setTimeout(function() {\n",
       "                var nbb_cell_id = 130;\n",
       "                var nbb_unformatted_code = \"# Function to compare two models strictly based on means only\\ndef dominates(model1, model2):\\n    \\\"\\\"\\\"Return True if model1 strictly dominates model2, False otherwise.\\\"\\\"\\\"\\n    # Check if model1 is at least as good as model2 in all metrics\\n    at_least_as_good = (\\n        model1[\\\"RMSE_mean\\\"] <= model2[\\\"RMSE_mean\\\"]\\n        and model1[\\\"MAE_mean\\\"] <= model2[\\\"MAE_mean\\\"]\\n        and model1[\\\"MAPE_mean\\\"] <= model2[\\\"MAPE_mean\\\"]\\n        and model1[\\\"R2_mean\\\"] >= model2[\\\"R2_mean\\\"]\\n    )\\n\\n    # Check if model1 is strictly better in at least one metric\\n    strictly_better_in_one = (\\n        model1[\\\"RMSE_mean\\\"] < model2[\\\"RMSE_mean\\\"]\\n        or model1[\\\"MAE_mean\\\"] < model2[\\\"MAE_mean\\\"]\\n        or model1[\\\"MAPE_mean\\\"] < model2[\\\"MAPE_mean\\\"]\\n        or model1[\\\"R2_mean\\\"] > model2[\\\"R2_mean\\\"]\\n    )\\n\\n    # Model1 strictly dominates Model2 if it is at least as good in all metrics and\\n    # strictly better in at least one metric\\n    return at_least_as_good and strictly_better_in_one\";\n",
       "                var nbb_formatted_code = \"# Function to compare two models strictly based on means only\\ndef dominates(model1, model2):\\n    \\\"\\\"\\\"Return True if model1 strictly dominates model2, False otherwise.\\\"\\\"\\\"\\n    # Check if model1 is at least as good as model2 in all metrics\\n    at_least_as_good = (\\n        model1[\\\"RMSE_mean\\\"] <= model2[\\\"RMSE_mean\\\"]\\n        and model1[\\\"MAE_mean\\\"] <= model2[\\\"MAE_mean\\\"]\\n        and model1[\\\"MAPE_mean\\\"] <= model2[\\\"MAPE_mean\\\"]\\n        and model1[\\\"R2_mean\\\"] >= model2[\\\"R2_mean\\\"]\\n    )\\n\\n    # Check if model1 is strictly better in at least one metric\\n    strictly_better_in_one = (\\n        model1[\\\"RMSE_mean\\\"] < model2[\\\"RMSE_mean\\\"]\\n        or model1[\\\"MAE_mean\\\"] < model2[\\\"MAE_mean\\\"]\\n        or model1[\\\"MAPE_mean\\\"] < model2[\\\"MAPE_mean\\\"]\\n        or model1[\\\"R2_mean\\\"] > model2[\\\"R2_mean\\\"]\\n    )\\n\\n    # Model1 strictly dominates Model2 if it is at least as good in all metrics and\\n    # strictly better in at least one metric\\n    return at_least_as_good and strictly_better_in_one\";\n",
       "                var nbb_cells = Jupyter.notebook.get_cells();\n",
       "                for (var i = 0; i < nbb_cells.length; ++i) {\n",
       "                    if (nbb_cells[i].input_prompt_number == nbb_cell_id) {\n",
       "                        if (nbb_cells[i].get_text() == nbb_unformatted_code) {\n",
       "                             nbb_cells[i].set_text(nbb_formatted_code);\n",
       "                        }\n",
       "                        break;\n",
       "                    }\n",
       "                }\n",
       "            }, 500);\n",
       "            "
      ],
      "text/plain": [
       "<IPython.core.display.Javascript object>"
      ]
     },
     "metadata": {},
     "output_type": "display_data"
    }
   ],
   "source": [
    "# Function to compare two models strictly based on means only\n",
    "def dominates(model1, model2):\n",
    "    \"\"\"Return True if model1 strictly dominates model2, False otherwise.\"\"\"\n",
    "    # Check if model1 is at least as good as model2 in all metrics\n",
    "    at_least_as_good = (\n",
    "        model1[\"RMSE_mean\"] <= model2[\"RMSE_mean\"]\n",
    "        and model1[\"MAE_mean\"] <= model2[\"MAE_mean\"]\n",
    "        and model1[\"MAPE_mean\"] <= model2[\"MAPE_mean\"]\n",
    "        and model1[\"R2_mean\"] >= model2[\"R2_mean\"]\n",
    "    )\n",
    "\n",
    "    # Check if model1 is strictly better in at least one metric\n",
    "    strictly_better_in_one = (\n",
    "        model1[\"RMSE_mean\"] < model2[\"RMSE_mean\"]\n",
    "        or model1[\"MAE_mean\"] < model2[\"MAE_mean\"]\n",
    "        or model1[\"MAPE_mean\"] < model2[\"MAPE_mean\"]\n",
    "        or model1[\"R2_mean\"] > model2[\"R2_mean\"]\n",
    "    )\n",
    "\n",
    "    # Model1 strictly dominates Model2 if it is at least as good in all metrics and\n",
    "    # strictly better in at least one metric\n",
    "    return at_least_as_good and strictly_better_in_one"
   ]
  },
  {
   "cell_type": "code",
   "execution_count": 131,
   "id": "55b4022d",
   "metadata": {},
   "outputs": [
    {
     "data": {
      "application/javascript": [
       "\n",
       "            setTimeout(function() {\n",
       "                var nbb_cell_id = 131;\n",
       "                var nbb_unformatted_code = \"def get_dominance_matrix_and_graph(df):\\n    n = len(df)\\n    dominance_matrix = np.zeros((n, n), dtype=bool)\\n\\n    for i in range(n):\\n        for j in range(n):\\n            if i != j:\\n                dominance_matrix[i, j] = dominates(df.iloc[i], df.iloc[j])\\n\\n    # Create the dominance graph\\n    dominance_graph = {i: [] for i in range(n)}\\n    for i in range(n):\\n        for j in range(n):\\n            if dominance_matrix[i, j]:\\n                dominance_graph[i].append(j)\\n\\n    return dominance_matrix, dominance_graph\";\n",
       "                var nbb_formatted_code = \"def get_dominance_matrix_and_graph(df):\\n    n = len(df)\\n    dominance_matrix = np.zeros((n, n), dtype=bool)\\n\\n    for i in range(n):\\n        for j in range(n):\\n            if i != j:\\n                dominance_matrix[i, j] = dominates(df.iloc[i], df.iloc[j])\\n\\n    # Create the dominance graph\\n    dominance_graph = {i: [] for i in range(n)}\\n    for i in range(n):\\n        for j in range(n):\\n            if dominance_matrix[i, j]:\\n                dominance_graph[i].append(j)\\n\\n    return dominance_matrix, dominance_graph\";\n",
       "                var nbb_cells = Jupyter.notebook.get_cells();\n",
       "                for (var i = 0; i < nbb_cells.length; ++i) {\n",
       "                    if (nbb_cells[i].input_prompt_number == nbb_cell_id) {\n",
       "                        if (nbb_cells[i].get_text() == nbb_unformatted_code) {\n",
       "                             nbb_cells[i].set_text(nbb_formatted_code);\n",
       "                        }\n",
       "                        break;\n",
       "                    }\n",
       "                }\n",
       "            }, 500);\n",
       "            "
      ],
      "text/plain": [
       "<IPython.core.display.Javascript object>"
      ]
     },
     "metadata": {},
     "output_type": "display_data"
    }
   ],
   "source": [
    "def get_dominance_matrix_and_graph(df):\n",
    "    n = len(df)\n",
    "    dominance_matrix = np.zeros((n, n), dtype=bool)\n",
    "\n",
    "    for i in range(n):\n",
    "        for j in range(n):\n",
    "            if i != j:\n",
    "                dominance_matrix[i, j] = dominates(df.iloc[i], df.iloc[j])\n",
    "\n",
    "    # Create the dominance graph\n",
    "    dominance_graph = {i: [] for i in range(n)}\n",
    "    for i in range(n):\n",
    "        for j in range(n):\n",
    "            if dominance_matrix[i, j]:\n",
    "                dominance_graph[i].append(j)\n",
    "\n",
    "    return dominance_matrix, dominance_graph"
   ]
  },
  {
   "cell_type": "code",
   "execution_count": 132,
   "id": "37b91228",
   "metadata": {},
   "outputs": [
    {
     "data": {
      "application/javascript": [
       "\n",
       "            setTimeout(function() {\n",
       "                var nbb_cell_id = 132;\n",
       "                var nbb_unformatted_code = \"# Topological Sorting\\ndef topological_sort(graph):\\n    \\\"\\\"\\\"Perform topological sorting on the given graph.\\\"\\\"\\\"\\n    in_degree = {u: 0 for u in graph}\\n    for u in graph:\\n        for v in graph[u]:\\n            in_degree[v] += 1\\n\\n    queue = deque([u for u in graph if in_degree[u] == 0])\\n    topo_order = []\\n\\n    while queue:\\n        u = queue.popleft()\\n        topo_order.append(u)\\n\\n        for v in graph[u]:\\n            in_degree[v] -= 1\\n            if in_degree[v] == 0:\\n                queue.append(v)\\n\\n    return topo_order\";\n",
       "                var nbb_formatted_code = \"# Topological Sorting\\ndef topological_sort(graph):\\n    \\\"\\\"\\\"Perform topological sorting on the given graph.\\\"\\\"\\\"\\n    in_degree = {u: 0 for u in graph}\\n    for u in graph:\\n        for v in graph[u]:\\n            in_degree[v] += 1\\n\\n    queue = deque([u for u in graph if in_degree[u] == 0])\\n    topo_order = []\\n\\n    while queue:\\n        u = queue.popleft()\\n        topo_order.append(u)\\n\\n        for v in graph[u]:\\n            in_degree[v] -= 1\\n            if in_degree[v] == 0:\\n                queue.append(v)\\n\\n    return topo_order\";\n",
       "                var nbb_cells = Jupyter.notebook.get_cells();\n",
       "                for (var i = 0; i < nbb_cells.length; ++i) {\n",
       "                    if (nbb_cells[i].input_prompt_number == nbb_cell_id) {\n",
       "                        if (nbb_cells[i].get_text() == nbb_unformatted_code) {\n",
       "                             nbb_cells[i].set_text(nbb_formatted_code);\n",
       "                        }\n",
       "                        break;\n",
       "                    }\n",
       "                }\n",
       "            }, 500);\n",
       "            "
      ],
      "text/plain": [
       "<IPython.core.display.Javascript object>"
      ]
     },
     "metadata": {},
     "output_type": "display_data"
    }
   ],
   "source": [
    "# Topological Sorting\n",
    "def topological_sort(graph):\n",
    "    \"\"\"Perform topological sorting on the given graph.\"\"\"\n",
    "    in_degree = {u: 0 for u in graph}\n",
    "    for u in graph:\n",
    "        for v in graph[u]:\n",
    "            in_degree[v] += 1\n",
    "\n",
    "    queue = deque([u for u in graph if in_degree[u] == 0])\n",
    "    topo_order = []\n",
    "\n",
    "    while queue:\n",
    "        u = queue.popleft()\n",
    "        topo_order.append(u)\n",
    "\n",
    "        for v in graph[u]:\n",
    "            in_degree[v] -= 1\n",
    "            if in_degree[v] == 0:\n",
    "                queue.append(v)\n",
    "\n",
    "    return topo_order"
   ]
  },
  {
   "cell_type": "code",
   "execution_count": 133,
   "id": "3eb95d66",
   "metadata": {},
   "outputs": [
    {
     "data": {
      "application/javascript": [
       "\n",
       "            setTimeout(function() {\n",
       "                var nbb_cell_id = 133;\n",
       "                var nbb_unformatted_code = \"# Function to find the top models in each group\\ndef find_top_models(group):\\n    max_net_dominance = group[\\\"Net_Dominance\\\"].max()\\n    top_models = group[group[\\\"Net_Dominance\\\"] == max_net_dominance]\\n    return top_models\";\n",
       "                var nbb_formatted_code = \"# Function to find the top models in each group\\ndef find_top_models(group):\\n    max_net_dominance = group[\\\"Net_Dominance\\\"].max()\\n    top_models = group[group[\\\"Net_Dominance\\\"] == max_net_dominance]\\n    return top_models\";\n",
       "                var nbb_cells = Jupyter.notebook.get_cells();\n",
       "                for (var i = 0; i < nbb_cells.length; ++i) {\n",
       "                    if (nbb_cells[i].input_prompt_number == nbb_cell_id) {\n",
       "                        if (nbb_cells[i].get_text() == nbb_unformatted_code) {\n",
       "                             nbb_cells[i].set_text(nbb_formatted_code);\n",
       "                        }\n",
       "                        break;\n",
       "                    }\n",
       "                }\n",
       "            }, 500);\n",
       "            "
      ],
      "text/plain": [
       "<IPython.core.display.Javascript object>"
      ]
     },
     "metadata": {},
     "output_type": "display_data"
    }
   ],
   "source": [
    "# Function to find the top models in each group\n",
    "def find_top_models(group):\n",
    "    max_net_dominance = group[\"Net_Dominance\"].max()\n",
    "    top_models = group[group[\"Net_Dominance\"] == max_net_dominance]\n",
    "    return top_models"
   ]
  },
  {
   "cell_type": "markdown",
   "id": "f86dac14",
   "metadata": {},
   "source": [
    "### Dominance Analysis and SCPM"
   ]
  },
  {
   "cell_type": "code",
   "execution_count": 134,
   "id": "0fced086",
   "metadata": {},
   "outputs": [
    {
     "data": {
      "application/javascript": [
       "\n",
       "            setTimeout(function() {\n",
       "                var nbb_cell_id = 134;\n",
       "                var nbb_unformatted_code = \"def compute_scpm(df):\\n    scaler = StandardScaler()\\n    standardized_metrics = scaler.fit_transform(\\n        df[[\\\"RMSE_mean\\\", \\\"MAE_mean\\\", \\\"MAPE_mean\\\", \\\"R2_mean\\\"]]\\n    )\\n\\n    # Creating a new dataframe with standardized values\\n    standardized_df = pd.DataFrame(\\n        standardized_metrics,\\n        columns=[\\\"RMSE_mean\\\", \\\"MAE_mean\\\", \\\"MAPE_mean\\\", \\\"R2_mean\\\"],\\n    )\\n\\n    # Summing all metrics and subtracting R2_mean\\n    standardized_df[\\\"Result\\\"] = (\\n        standardized_df[[\\\"RMSE_mean\\\", \\\"MAE_mean\\\", \\\"MAPE_mean\\\"]].sum(axis=1)\\n        - standardized_df[\\\"R2_mean\\\"]\\n    )\\n\\n    df[\\\"SCPM\\\"] = standardized_df[\\\"Result\\\"]\\n    return df\";\n",
       "                var nbb_formatted_code = \"def compute_scpm(df):\\n    scaler = StandardScaler()\\n    standardized_metrics = scaler.fit_transform(\\n        df[[\\\"RMSE_mean\\\", \\\"MAE_mean\\\", \\\"MAPE_mean\\\", \\\"R2_mean\\\"]]\\n    )\\n\\n    # Creating a new dataframe with standardized values\\n    standardized_df = pd.DataFrame(\\n        standardized_metrics,\\n        columns=[\\\"RMSE_mean\\\", \\\"MAE_mean\\\", \\\"MAPE_mean\\\", \\\"R2_mean\\\"],\\n    )\\n\\n    # Summing all metrics and subtracting R2_mean\\n    standardized_df[\\\"Result\\\"] = (\\n        standardized_df[[\\\"RMSE_mean\\\", \\\"MAE_mean\\\", \\\"MAPE_mean\\\"]].sum(axis=1)\\n        - standardized_df[\\\"R2_mean\\\"]\\n    )\\n\\n    df[\\\"SCPM\\\"] = standardized_df[\\\"Result\\\"]\\n    return df\";\n",
       "                var nbb_cells = Jupyter.notebook.get_cells();\n",
       "                for (var i = 0; i < nbb_cells.length; ++i) {\n",
       "                    if (nbb_cells[i].input_prompt_number == nbb_cell_id) {\n",
       "                        if (nbb_cells[i].get_text() == nbb_unformatted_code) {\n",
       "                             nbb_cells[i].set_text(nbb_formatted_code);\n",
       "                        }\n",
       "                        break;\n",
       "                    }\n",
       "                }\n",
       "            }, 500);\n",
       "            "
      ],
      "text/plain": [
       "<IPython.core.display.Javascript object>"
      ]
     },
     "metadata": {},
     "output_type": "display_data"
    }
   ],
   "source": [
    "def compute_scpm(df):\n",
    "    scaler = StandardScaler()\n",
    "    standardized_metrics = scaler.fit_transform(\n",
    "        df[[\"RMSE_mean\", \"MAE_mean\", \"MAPE_mean\", \"R2_mean\"]]\n",
    "    )\n",
    "\n",
    "    # Creating a new dataframe with standardized values\n",
    "    standardized_df = pd.DataFrame(\n",
    "        standardized_metrics,\n",
    "        columns=[\"RMSE_mean\", \"MAE_mean\", \"MAPE_mean\", \"R2_mean\"],\n",
    "    )\n",
    "\n",
    "    # Summing all metrics and subtracting R2_mean\n",
    "    standardized_df[\"Result\"] = (\n",
    "        standardized_df[[\"RMSE_mean\", \"MAE_mean\", \"MAPE_mean\"]].sum(axis=1)\n",
    "        - standardized_df[\"R2_mean\"]\n",
    "    )\n",
    "\n",
    "    df[\"SCPM\"] = standardized_df[\"Result\"]\n",
    "    return df"
   ]
  },
  {
   "cell_type": "code",
   "execution_count": 135,
   "id": "dc5ee482",
   "metadata": {},
   "outputs": [
    {
     "data": {
      "application/javascript": [
       "\n",
       "            setTimeout(function() {\n",
       "                var nbb_cell_id = 135;\n",
       "                var nbb_unformatted_code = \"def make_dominance_analysis(df):\\n    # Compute dominance matrix and graph\\n    dominance_matrix, dominance_graph = get_dominance_matrix_and_graph(df)\\n\\n    # Get the topological order\\n    topo_order = topological_sort(dominance_graph)\\n    df = df.copy()\\n    n = len(topo_order)\\n\\n    # Identify Dominant Models\\n    dominant_models = [\\n        df[\\\"Model_bkp_2\\\"].iloc[i]\\n        for i in range(len(df))\\n        if not np.any(dominance_matrix[:, i])\\n    ]\\n\\n    # Identify Non-Dominant Models\\n    non_dominant_models = [\\n        df[\\\"Model_bkp_2\\\"].iloc[i]\\n        for i in range(len(df))\\n        if np.any(dominance_matrix[:, i])\\n    ]\\n\\n    # Identify Models that are both dominated and dominate at least one\\n    intermediate_models = [\\n        df[\\\"Model_bkp_2\\\"].iloc[i]\\n        for i in range(len(df))\\n        if np.any(dominance_matrix[:, i]) and np.any(dominance_matrix[i, :])\\n    ]\\n\\n    # Add count of times each model is dominated by others\\n    df[\\\"Dominated_Count\\\"] = np.sum(dominance_matrix, axis=0)\\n\\n    # Classify models\\n    df[\\\"Classification\\\"] = \\\"intermediate_model\\\"  # default to intermediate_model\\n    df.loc[\\n        ~np.any(dominance_matrix, axis=1) & np.any(dominance_matrix, axis=0),\\n        \\\"Classification\\\",\\n    ] = \\\"non_dominant_model\\\"\\n    df.loc[~np.any(dominance_matrix, axis=0), \\\"Classification\\\"] = \\\"dominant_model\\\"\\n\\n    # Map the topological order to the model names and get dominance counts\\n    sorted_models = [df[\\\"Model\\\"].iloc[i] for i in topo_order]\\n\\n    df_sorted = df.iloc[topo_order].copy()\\n    df_sorted[\\\"Dominates_Count\\\"] = dominance_matrix.sum(axis=1)[topo_order]\\n    df_sorted_topo = df_sorted.copy()\\n\\n    df_sorted = df_sorted.sort_values(by=\\\"Dominates_Count\\\", ascending=False)\\n    df_sorted_count = df_sorted.copy()\\n\\n    return {\\n        \\\"dominance_matrix\\\": dominance_matrix,\\n        \\\"dominance_graph\\\": dominance_graph,\\n        \\\"df_sorted_topo\\\": df_sorted_topo,\\n        \\\"df_sorted_count\\\": df_sorted_count,\\n    }\";\n",
       "                var nbb_formatted_code = \"def make_dominance_analysis(df):\\n    # Compute dominance matrix and graph\\n    dominance_matrix, dominance_graph = get_dominance_matrix_and_graph(df)\\n\\n    # Get the topological order\\n    topo_order = topological_sort(dominance_graph)\\n    df = df.copy()\\n    n = len(topo_order)\\n\\n    # Identify Dominant Models\\n    dominant_models = [\\n        df[\\\"Model_bkp_2\\\"].iloc[i]\\n        for i in range(len(df))\\n        if not np.any(dominance_matrix[:, i])\\n    ]\\n\\n    # Identify Non-Dominant Models\\n    non_dominant_models = [\\n        df[\\\"Model_bkp_2\\\"].iloc[i]\\n        for i in range(len(df))\\n        if np.any(dominance_matrix[:, i])\\n    ]\\n\\n    # Identify Models that are both dominated and dominate at least one\\n    intermediate_models = [\\n        df[\\\"Model_bkp_2\\\"].iloc[i]\\n        for i in range(len(df))\\n        if np.any(dominance_matrix[:, i]) and np.any(dominance_matrix[i, :])\\n    ]\\n\\n    # Add count of times each model is dominated by others\\n    df[\\\"Dominated_Count\\\"] = np.sum(dominance_matrix, axis=0)\\n\\n    # Classify models\\n    df[\\\"Classification\\\"] = \\\"intermediate_model\\\"  # default to intermediate_model\\n    df.loc[\\n        ~np.any(dominance_matrix, axis=1) & np.any(dominance_matrix, axis=0),\\n        \\\"Classification\\\",\\n    ] = \\\"non_dominant_model\\\"\\n    df.loc[~np.any(dominance_matrix, axis=0), \\\"Classification\\\"] = \\\"dominant_model\\\"\\n\\n    # Map the topological order to the model names and get dominance counts\\n    sorted_models = [df[\\\"Model\\\"].iloc[i] for i in topo_order]\\n\\n    df_sorted = df.iloc[topo_order].copy()\\n    df_sorted[\\\"Dominates_Count\\\"] = dominance_matrix.sum(axis=1)[topo_order]\\n    df_sorted_topo = df_sorted.copy()\\n\\n    df_sorted = df_sorted.sort_values(by=\\\"Dominates_Count\\\", ascending=False)\\n    df_sorted_count = df_sorted.copy()\\n\\n    return {\\n        \\\"dominance_matrix\\\": dominance_matrix,\\n        \\\"dominance_graph\\\": dominance_graph,\\n        \\\"df_sorted_topo\\\": df_sorted_topo,\\n        \\\"df_sorted_count\\\": df_sorted_count,\\n    }\";\n",
       "                var nbb_cells = Jupyter.notebook.get_cells();\n",
       "                for (var i = 0; i < nbb_cells.length; ++i) {\n",
       "                    if (nbb_cells[i].input_prompt_number == nbb_cell_id) {\n",
       "                        if (nbb_cells[i].get_text() == nbb_unformatted_code) {\n",
       "                             nbb_cells[i].set_text(nbb_formatted_code);\n",
       "                        }\n",
       "                        break;\n",
       "                    }\n",
       "                }\n",
       "            }, 500);\n",
       "            "
      ],
      "text/plain": [
       "<IPython.core.display.Javascript object>"
      ]
     },
     "metadata": {},
     "output_type": "display_data"
    }
   ],
   "source": [
    "def make_dominance_analysis(df):\n",
    "    # Compute dominance matrix and graph\n",
    "    dominance_matrix, dominance_graph = get_dominance_matrix_and_graph(df)\n",
    "\n",
    "    # Get the topological order\n",
    "    topo_order = topological_sort(dominance_graph)\n",
    "    df = df.copy()\n",
    "    n = len(topo_order)\n",
    "\n",
    "    # Identify Dominant Models\n",
    "    dominant_models = [\n",
    "        df[\"Model_bkp_2\"].iloc[i]\n",
    "        for i in range(len(df))\n",
    "        if not np.any(dominance_matrix[:, i])\n",
    "    ]\n",
    "\n",
    "    # Identify Non-Dominant Models\n",
    "    non_dominant_models = [\n",
    "        df[\"Model_bkp_2\"].iloc[i]\n",
    "        for i in range(len(df))\n",
    "        if np.any(dominance_matrix[:, i])\n",
    "    ]\n",
    "\n",
    "    # Identify Models that are both dominated and dominate at least one\n",
    "    intermediate_models = [\n",
    "        df[\"Model_bkp_2\"].iloc[i]\n",
    "        for i in range(len(df))\n",
    "        if np.any(dominance_matrix[:, i]) and np.any(dominance_matrix[i, :])\n",
    "    ]\n",
    "\n",
    "    # Add count of times each model is dominated by others\n",
    "    df[\"Dominated_Count\"] = np.sum(dominance_matrix, axis=0)\n",
    "\n",
    "    # Classify models\n",
    "    df[\"Classification\"] = \"intermediate_model\"  # default to intermediate_model\n",
    "    df.loc[\n",
    "        ~np.any(dominance_matrix, axis=1) & np.any(dominance_matrix, axis=0),\n",
    "        \"Classification\",\n",
    "    ] = \"non_dominant_model\"\n",
    "    df.loc[~np.any(dominance_matrix, axis=0), \"Classification\"] = \"dominant_model\"\n",
    "\n",
    "    # Map the topological order to the model names and get dominance counts\n",
    "    sorted_models = [df[\"Model\"].iloc[i] for i in topo_order]\n",
    "\n",
    "    df_sorted = df.iloc[topo_order].copy()\n",
    "    df_sorted[\"Dominates_Count\"] = dominance_matrix.sum(axis=1)[topo_order]\n",
    "    df_sorted_topo = df_sorted.copy()\n",
    "\n",
    "    df_sorted = df_sorted.sort_values(by=\"Dominates_Count\", ascending=False)\n",
    "    df_sorted_count = df_sorted.copy()\n",
    "\n",
    "    return {\n",
    "        \"dominance_matrix\": dominance_matrix,\n",
    "        \"dominance_graph\": dominance_graph,\n",
    "        \"df_sorted_topo\": df_sorted_topo,\n",
    "        \"df_sorted_count\": df_sorted_count,\n",
    "    }"
   ]
  },
  {
   "cell_type": "markdown",
   "id": "71a89734",
   "metadata": {},
   "source": [
    "# Analysis"
   ]
  },
  {
   "cell_type": "markdown",
   "id": "5e5ecc11",
   "metadata": {},
   "source": [
    "## 203"
   ]
  },
  {
   "cell_type": "code",
   "execution_count": 136,
   "id": "ed916967",
   "metadata": {},
   "outputs": [
    {
     "data": {
      "application/javascript": [
       "\n",
       "            setTimeout(function() {\n",
       "                var nbb_cell_id = 136;\n",
       "                var nbb_unformatted_code = \"# Filter only 203 project\\ndf_203_grouped = df_copy_grouped[\\n    ~df_copy_grouped[\\\"plant\\\"].isin([\\\"partner_i\\\", \\\"partner_ii\\\", \\\"partner_iv\\\"])\\n]\";\n",
       "                var nbb_formatted_code = \"# Filter only 203 project\\ndf_203_grouped = df_copy_grouped[\\n    ~df_copy_grouped[\\\"plant\\\"].isin([\\\"partner_i\\\", \\\"partner_ii\\\", \\\"partner_iv\\\"])\\n]\";\n",
       "                var nbb_cells = Jupyter.notebook.get_cells();\n",
       "                for (var i = 0; i < nbb_cells.length; ++i) {\n",
       "                    if (nbb_cells[i].input_prompt_number == nbb_cell_id) {\n",
       "                        if (nbb_cells[i].get_text() == nbb_unformatted_code) {\n",
       "                             nbb_cells[i].set_text(nbb_formatted_code);\n",
       "                        }\n",
       "                        break;\n",
       "                    }\n",
       "                }\n",
       "            }, 500);\n",
       "            "
      ],
      "text/plain": [
       "<IPython.core.display.Javascript object>"
      ]
     },
     "metadata": {},
     "output_type": "display_data"
    }
   ],
   "source": [
    "# Filter only 203 project\n",
    "df_203_grouped = df_copy_grouped[\n",
    "    ~df_copy_grouped[\"plant\"].isin([\"partner_i\", \"partner_ii\", \"partner_iv\"])\n",
    "]"
   ]
  },
  {
   "cell_type": "code",
   "execution_count": 137,
   "id": "0256fa92",
   "metadata": {},
   "outputs": [
    {
     "data": {
      "application/javascript": [
       "\n",
       "            setTimeout(function() {\n",
       "                var nbb_cell_id = 137;\n",
       "                var nbb_unformatted_code = \"df_results = df_203_grouped[\\n    [\\n        (\\\"Company\\\", \\\"\\\"),\\n        (\\\"plant\\\", \\\"\\\"),\\n        (\\\"Cross Validation\\\", \\\"\\\"),\\n        (\\\"Features\\\", \\\"\\\"),\\n        ('Features_bkp', ''),\\n        (\\\"Model\\\", \\\"\\\"),\\n        (\\\"Model_bkp\\\", \\\"\\\"),         \\n        ('Model_bkp_2',''),\\n        (\\\"Timesteps\\\", \\\"\\\"),\\n        (\\\"RMSE Test\\\", \\\"mean\\\"),\\n        (\\\"MAE Test\\\", \\\"mean\\\"),\\n        (\\\"MAPE Test\\\", \\\"mean\\\"),\\n        (\\\"R2 Test\\\", \\\"mean\\\"),\\n        (\\\"RMSE Test\\\", \\\"std\\\"),\\n        (\\\"MAE Test\\\", \\\"std\\\"),\\n        (\\\"MAPE Test\\\", \\\"std\\\"),\\n        (\\\"R2 Test\\\", \\\"std\\\"),\\n    ]\\n].copy()\\ndf_results = df_results.reset_index(drop=True)\\n\\n# Rename columns\\nnew_column_names = [\\n    \\\"Company\\\",\\n    \\\"Plant\\\",\\n    \\\"Cross Validation\\\",\\n    \\\"Features\\\",\\n    \\\"Features_bkp\\\",\\n    \\\"Model\\\",\\n    \\\"Model_bkp\\\",\\n    \\\"Model_bkp_2\\\",\\n    \\\"Timesteps\\\",\\n    \\\"RMSE_mean\\\",\\n    \\\"MAE_mean\\\",\\n    \\\"MAPE_mean\\\",\\n    \\\"R2_mean\\\",\\n    \\\"RMSE_std\\\",\\n    \\\"MAE_std\\\",\\n    \\\"MAPE_std\\\",\\n    \\\"R2_std\\\",\\n]\\n\\ndf_results.columns = new_column_names\";\n",
       "                var nbb_formatted_code = \"df_results = df_203_grouped[\\n    [\\n        (\\\"Company\\\", \\\"\\\"),\\n        (\\\"plant\\\", \\\"\\\"),\\n        (\\\"Cross Validation\\\", \\\"\\\"),\\n        (\\\"Features\\\", \\\"\\\"),\\n        (\\\"Features_bkp\\\", \\\"\\\"),\\n        (\\\"Model\\\", \\\"\\\"),\\n        (\\\"Model_bkp\\\", \\\"\\\"),\\n        (\\\"Model_bkp_2\\\", \\\"\\\"),\\n        (\\\"Timesteps\\\", \\\"\\\"),\\n        (\\\"RMSE Test\\\", \\\"mean\\\"),\\n        (\\\"MAE Test\\\", \\\"mean\\\"),\\n        (\\\"MAPE Test\\\", \\\"mean\\\"),\\n        (\\\"R2 Test\\\", \\\"mean\\\"),\\n        (\\\"RMSE Test\\\", \\\"std\\\"),\\n        (\\\"MAE Test\\\", \\\"std\\\"),\\n        (\\\"MAPE Test\\\", \\\"std\\\"),\\n        (\\\"R2 Test\\\", \\\"std\\\"),\\n    ]\\n].copy()\\ndf_results = df_results.reset_index(drop=True)\\n\\n# Rename columns\\nnew_column_names = [\\n    \\\"Company\\\",\\n    \\\"Plant\\\",\\n    \\\"Cross Validation\\\",\\n    \\\"Features\\\",\\n    \\\"Features_bkp\\\",\\n    \\\"Model\\\",\\n    \\\"Model_bkp\\\",\\n    \\\"Model_bkp_2\\\",\\n    \\\"Timesteps\\\",\\n    \\\"RMSE_mean\\\",\\n    \\\"MAE_mean\\\",\\n    \\\"MAPE_mean\\\",\\n    \\\"R2_mean\\\",\\n    \\\"RMSE_std\\\",\\n    \\\"MAE_std\\\",\\n    \\\"MAPE_std\\\",\\n    \\\"R2_std\\\",\\n]\\n\\ndf_results.columns = new_column_names\";\n",
       "                var nbb_cells = Jupyter.notebook.get_cells();\n",
       "                for (var i = 0; i < nbb_cells.length; ++i) {\n",
       "                    if (nbb_cells[i].input_prompt_number == nbb_cell_id) {\n",
       "                        if (nbb_cells[i].get_text() == nbb_unformatted_code) {\n",
       "                             nbb_cells[i].set_text(nbb_formatted_code);\n",
       "                        }\n",
       "                        break;\n",
       "                    }\n",
       "                }\n",
       "            }, 500);\n",
       "            "
      ],
      "text/plain": [
       "<IPython.core.display.Javascript object>"
      ]
     },
     "metadata": {},
     "output_type": "display_data"
    }
   ],
   "source": [
    "df_results = df_203_grouped[\n",
    "    [\n",
    "        (\"Company\", \"\"),\n",
    "        (\"plant\", \"\"),\n",
    "        (\"Cross Validation\", \"\"),\n",
    "        (\"Features\", \"\"),\n",
    "        ('Features_bkp', ''),\n",
    "        (\"Model\", \"\"),\n",
    "        (\"Model_bkp\", \"\"),         \n",
    "        ('Model_bkp_2',''),\n",
    "        (\"Timesteps\", \"\"),\n",
    "        (\"RMSE Test\", \"mean\"),\n",
    "        (\"MAE Test\", \"mean\"),\n",
    "        (\"MAPE Test\", \"mean\"),\n",
    "        (\"R2 Test\", \"mean\"),\n",
    "        (\"RMSE Test\", \"std\"),\n",
    "        (\"MAE Test\", \"std\"),\n",
    "        (\"MAPE Test\", \"std\"),\n",
    "        (\"R2 Test\", \"std\"),\n",
    "    ]\n",
    "].copy()\n",
    "df_results = df_results.reset_index(drop=True)\n",
    "\n",
    "# Rename columns\n",
    "new_column_names = [\n",
    "    \"Company\",\n",
    "    \"Plant\",\n",
    "    \"Cross Validation\",\n",
    "    \"Features\",\n",
    "    \"Features_bkp\",\n",
    "    \"Model\",\n",
    "    \"Model_bkp\",\n",
    "    \"Model_bkp_2\",\n",
    "    \"Timesteps\",\n",
    "    \"RMSE_mean\",\n",
    "    \"MAE_mean\",\n",
    "    \"MAPE_mean\",\n",
    "    \"R2_mean\",\n",
    "    \"RMSE_std\",\n",
    "    \"MAE_std\",\n",
    "    \"MAPE_std\",\n",
    "    \"R2_std\",\n",
    "]\n",
    "\n",
    "df_results.columns = new_column_names\n"
   ]
  },
  {
   "cell_type": "code",
   "execution_count": 138,
   "id": "d54f30c2",
   "metadata": {},
   "outputs": [
    {
     "data": {
      "text/plain": [
       "(117, 17)"
      ]
     },
     "execution_count": 138,
     "metadata": {},
     "output_type": "execute_result"
    },
    {
     "data": {
      "application/javascript": [
       "\n",
       "            setTimeout(function() {\n",
       "                var nbb_cell_id = 138;\n",
       "                var nbb_unformatted_code = \"df_results.shape\";\n",
       "                var nbb_formatted_code = \"df_results.shape\";\n",
       "                var nbb_cells = Jupyter.notebook.get_cells();\n",
       "                for (var i = 0; i < nbb_cells.length; ++i) {\n",
       "                    if (nbb_cells[i].input_prompt_number == nbb_cell_id) {\n",
       "                        if (nbb_cells[i].get_text() == nbb_unformatted_code) {\n",
       "                             nbb_cells[i].set_text(nbb_formatted_code);\n",
       "                        }\n",
       "                        break;\n",
       "                    }\n",
       "                }\n",
       "            }, 500);\n",
       "            "
      ],
      "text/plain": [
       "<IPython.core.display.Javascript object>"
      ]
     },
     "metadata": {},
     "output_type": "display_data"
    }
   ],
   "source": [
    "df_results.shape"
   ]
  },
  {
   "cell_type": "code",
   "execution_count": 139,
   "id": "8f800abc",
   "metadata": {},
   "outputs": [
    {
     "data": {
      "text/plain": [
       "array(['Blocking Time Series Split', 'Time Series Split'], dtype=object)"
      ]
     },
     "execution_count": 139,
     "metadata": {},
     "output_type": "execute_result"
    },
    {
     "data": {
      "application/javascript": [
       "\n",
       "            setTimeout(function() {\n",
       "                var nbb_cell_id = 139;\n",
       "                var nbb_unformatted_code = \"df_results[\\\"Cross Validation\\\"].unique()\";\n",
       "                var nbb_formatted_code = \"df_results[\\\"Cross Validation\\\"].unique()\";\n",
       "                var nbb_cells = Jupyter.notebook.get_cells();\n",
       "                for (var i = 0; i < nbb_cells.length; ++i) {\n",
       "                    if (nbb_cells[i].input_prompt_number == nbb_cell_id) {\n",
       "                        if (nbb_cells[i].get_text() == nbb_unformatted_code) {\n",
       "                             nbb_cells[i].set_text(nbb_formatted_code);\n",
       "                        }\n",
       "                        break;\n",
       "                    }\n",
       "                }\n",
       "            }, 500);\n",
       "            "
      ],
      "text/plain": [
       "<IPython.core.display.Javascript object>"
      ]
     },
     "metadata": {},
     "output_type": "display_data"
    }
   ],
   "source": [
    "df_results[\"Cross Validation\"].unique()"
   ]
  },
  {
   "cell_type": "markdown",
   "id": "93187fbb",
   "metadata": {},
   "source": [
    "## Variable Grouping: CM"
   ]
  },
  {
   "cell_type": "code",
   "execution_count": 140,
   "id": "fbfee852",
   "metadata": {},
   "outputs": [
    {
     "data": {
      "text/plain": [
       "array(['Chemical + Mineralogical + Physical', 'Chemical + Mineralogical',\n",
       "       'Chemical + Mineralogical + Physical - Early CS'], dtype=object)"
      ]
     },
     "execution_count": 140,
     "metadata": {},
     "output_type": "execute_result"
    },
    {
     "data": {
      "application/javascript": [
       "\n",
       "            setTimeout(function() {\n",
       "                var nbb_cell_id = 140;\n",
       "                var nbb_unformatted_code = \"df_results[\\\"Features\\\"].unique()\";\n",
       "                var nbb_formatted_code = \"df_results[\\\"Features\\\"].unique()\";\n",
       "                var nbb_cells = Jupyter.notebook.get_cells();\n",
       "                for (var i = 0; i < nbb_cells.length; ++i) {\n",
       "                    if (nbb_cells[i].input_prompt_number == nbb_cell_id) {\n",
       "                        if (nbb_cells[i].get_text() == nbb_unformatted_code) {\n",
       "                             nbb_cells[i].set_text(nbb_formatted_code);\n",
       "                        }\n",
       "                        break;\n",
       "                    }\n",
       "                }\n",
       "            }, 500);\n",
       "            "
      ],
      "text/plain": [
       "<IPython.core.display.Javascript object>"
      ]
     },
     "metadata": {},
     "output_type": "display_data"
    }
   ],
   "source": [
    "df_results[\"Features\"].unique()"
   ]
  },
  {
   "cell_type": "code",
   "execution_count": 141,
   "id": "4e1f5c05",
   "metadata": {},
   "outputs": [
    {
     "data": {
      "application/javascript": [
       "\n",
       "            setTimeout(function() {\n",
       "                var nbb_cell_id = 141;\n",
       "                var nbb_unformatted_code = \"df_results_cm = (\\n    df_results[df_results[\\\"Features\\\"].eq(\\\"Chemical + Mineralogical\\\")]\\n    .copy()\\n    .reset_index(drop=True)\\n)\";\n",
       "                var nbb_formatted_code = \"df_results_cm = (\\n    df_results[df_results[\\\"Features\\\"].eq(\\\"Chemical + Mineralogical\\\")]\\n    .copy()\\n    .reset_index(drop=True)\\n)\";\n",
       "                var nbb_cells = Jupyter.notebook.get_cells();\n",
       "                for (var i = 0; i < nbb_cells.length; ++i) {\n",
       "                    if (nbb_cells[i].input_prompt_number == nbb_cell_id) {\n",
       "                        if (nbb_cells[i].get_text() == nbb_unformatted_code) {\n",
       "                             nbb_cells[i].set_text(nbb_formatted_code);\n",
       "                        }\n",
       "                        break;\n",
       "                    }\n",
       "                }\n",
       "            }, 500);\n",
       "            "
      ],
      "text/plain": [
       "<IPython.core.display.Javascript object>"
      ]
     },
     "metadata": {},
     "output_type": "display_data"
    }
   ],
   "source": [
    "df_results_cm = (\n",
    "    df_results[df_results[\"Features\"].eq(\"Chemical + Mineralogical\")]\n",
    "    .copy()\n",
    "    .reset_index(drop=True)\n",
    ")"
   ]
  },
  {
   "cell_type": "code",
   "execution_count": 142,
   "id": "5d4f7608",
   "metadata": {},
   "outputs": [
    {
     "data": {
      "text/plain": [
       "array(['Chemical + Mineralogical'], dtype=object)"
      ]
     },
     "execution_count": 142,
     "metadata": {},
     "output_type": "execute_result"
    },
    {
     "data": {
      "application/javascript": [
       "\n",
       "            setTimeout(function() {\n",
       "                var nbb_cell_id = 142;\n",
       "                var nbb_unformatted_code = \"df_results_cm[\\\"Features\\\"].unique()\";\n",
       "                var nbb_formatted_code = \"df_results_cm[\\\"Features\\\"].unique()\";\n",
       "                var nbb_cells = Jupyter.notebook.get_cells();\n",
       "                for (var i = 0; i < nbb_cells.length; ++i) {\n",
       "                    if (nbb_cells[i].input_prompt_number == nbb_cell_id) {\n",
       "                        if (nbb_cells[i].get_text() == nbb_unformatted_code) {\n",
       "                             nbb_cells[i].set_text(nbb_formatted_code);\n",
       "                        }\n",
       "                        break;\n",
       "                    }\n",
       "                }\n",
       "            }, 500);\n",
       "            "
      ],
      "text/plain": [
       "<IPython.core.display.Javascript object>"
      ]
     },
     "metadata": {},
     "output_type": "display_data"
    }
   ],
   "source": [
    "df_results_cm[\"Features\"].unique()"
   ]
  },
  {
   "cell_type": "code",
   "execution_count": 143,
   "id": "7dca2f2a",
   "metadata": {},
   "outputs": [
    {
     "data": {
      "text/plain": [
       "(40, 17)"
      ]
     },
     "execution_count": 143,
     "metadata": {},
     "output_type": "execute_result"
    },
    {
     "data": {
      "application/javascript": [
       "\n",
       "            setTimeout(function() {\n",
       "                var nbb_cell_id = 143;\n",
       "                var nbb_unformatted_code = \"df_results_cm.shape\";\n",
       "                var nbb_formatted_code = \"df_results_cm.shape\";\n",
       "                var nbb_cells = Jupyter.notebook.get_cells();\n",
       "                for (var i = 0; i < nbb_cells.length; ++i) {\n",
       "                    if (nbb_cells[i].input_prompt_number == nbb_cell_id) {\n",
       "                        if (nbb_cells[i].get_text() == nbb_unformatted_code) {\n",
       "                             nbb_cells[i].set_text(nbb_formatted_code);\n",
       "                        }\n",
       "                        break;\n",
       "                    }\n",
       "                }\n",
       "            }, 500);\n",
       "            "
      ],
      "text/plain": [
       "<IPython.core.display.Javascript object>"
      ]
     },
     "metadata": {},
     "output_type": "display_data"
    }
   ],
   "source": [
    "df_results_cm.shape"
   ]
  },
  {
   "cell_type": "markdown",
   "id": "f1799a25",
   "metadata": {},
   "source": [
    "### Blocking time series"
   ]
  },
  {
   "cell_type": "code",
   "execution_count": 144,
   "id": "ab67a3d8",
   "metadata": {},
   "outputs": [
    {
     "data": {
      "text/plain": [
       "array(['Blocking Time Series Split', 'Time Series Split'], dtype=object)"
      ]
     },
     "execution_count": 144,
     "metadata": {},
     "output_type": "execute_result"
    },
    {
     "data": {
      "application/javascript": [
       "\n",
       "            setTimeout(function() {\n",
       "                var nbb_cell_id = 144;\n",
       "                var nbb_unformatted_code = \"df_results_cm[\\\"Cross Validation\\\"].unique()\";\n",
       "                var nbb_formatted_code = \"df_results_cm[\\\"Cross Validation\\\"].unique()\";\n",
       "                var nbb_cells = Jupyter.notebook.get_cells();\n",
       "                for (var i = 0; i < nbb_cells.length; ++i) {\n",
       "                    if (nbb_cells[i].input_prompt_number == nbb_cell_id) {\n",
       "                        if (nbb_cells[i].get_text() == nbb_unformatted_code) {\n",
       "                             nbb_cells[i].set_text(nbb_formatted_code);\n",
       "                        }\n",
       "                        break;\n",
       "                    }\n",
       "                }\n",
       "            }, 500);\n",
       "            "
      ],
      "text/plain": [
       "<IPython.core.display.Javascript object>"
      ]
     },
     "metadata": {},
     "output_type": "display_data"
    }
   ],
   "source": [
    "df_results_cm[\"Cross Validation\"].unique()"
   ]
  },
  {
   "cell_type": "code",
   "execution_count": 145,
   "id": "530d2ca6",
   "metadata": {},
   "outputs": [
    {
     "data": {
      "application/javascript": [
       "\n",
       "            setTimeout(function() {\n",
       "                var nbb_cell_id = 145;\n",
       "                var nbb_unformatted_code = \"df_results_cm_btss = (\\n    df_results_cm[df_results_cm[\\\"Cross Validation\\\"].eq(\\\"Blocking Time Series Split\\\")]\\n    .copy()\\n    .reset_index(drop=True)\\n)\";\n",
       "                var nbb_formatted_code = \"df_results_cm_btss = (\\n    df_results_cm[df_results_cm[\\\"Cross Validation\\\"].eq(\\\"Blocking Time Series Split\\\")]\\n    .copy()\\n    .reset_index(drop=True)\\n)\";\n",
       "                var nbb_cells = Jupyter.notebook.get_cells();\n",
       "                for (var i = 0; i < nbb_cells.length; ++i) {\n",
       "                    if (nbb_cells[i].input_prompt_number == nbb_cell_id) {\n",
       "                        if (nbb_cells[i].get_text() == nbb_unformatted_code) {\n",
       "                             nbb_cells[i].set_text(nbb_formatted_code);\n",
       "                        }\n",
       "                        break;\n",
       "                    }\n",
       "                }\n",
       "            }, 500);\n",
       "            "
      ],
      "text/plain": [
       "<IPython.core.display.Javascript object>"
      ]
     },
     "metadata": {},
     "output_type": "display_data"
    }
   ],
   "source": [
    "df_results_cm_btss = (\n",
    "    df_results_cm[df_results_cm[\"Cross Validation\"].eq(\"Blocking Time Series Split\")]\n",
    "    .copy()\n",
    "    .reset_index(drop=True)\n",
    ")"
   ]
  },
  {
   "cell_type": "code",
   "execution_count": 146,
   "id": "e56e684a",
   "metadata": {},
   "outputs": [
    {
     "data": {
      "text/plain": [
       "array(['Blocking Time Series Split'], dtype=object)"
      ]
     },
     "execution_count": 146,
     "metadata": {},
     "output_type": "execute_result"
    },
    {
     "data": {
      "application/javascript": [
       "\n",
       "            setTimeout(function() {\n",
       "                var nbb_cell_id = 146;\n",
       "                var nbb_unformatted_code = \"df_results_cm_btss[\\\"Cross Validation\\\"].unique()\";\n",
       "                var nbb_formatted_code = \"df_results_cm_btss[\\\"Cross Validation\\\"].unique()\";\n",
       "                var nbb_cells = Jupyter.notebook.get_cells();\n",
       "                for (var i = 0; i < nbb_cells.length; ++i) {\n",
       "                    if (nbb_cells[i].input_prompt_number == nbb_cell_id) {\n",
       "                        if (nbb_cells[i].get_text() == nbb_unformatted_code) {\n",
       "                             nbb_cells[i].set_text(nbb_formatted_code);\n",
       "                        }\n",
       "                        break;\n",
       "                    }\n",
       "                }\n",
       "            }, 500);\n",
       "            "
      ],
      "text/plain": [
       "<IPython.core.display.Javascript object>"
      ]
     },
     "metadata": {},
     "output_type": "display_data"
    }
   ],
   "source": [
    "df_results_cm_btss[\"Cross Validation\"].unique()"
   ]
  },
  {
   "cell_type": "code",
   "execution_count": 147,
   "id": "31488c8c",
   "metadata": {},
   "outputs": [
    {
     "data": {
      "text/plain": [
       "(20, 17)"
      ]
     },
     "execution_count": 147,
     "metadata": {},
     "output_type": "execute_result"
    },
    {
     "data": {
      "application/javascript": [
       "\n",
       "            setTimeout(function() {\n",
       "                var nbb_cell_id = 147;\n",
       "                var nbb_unformatted_code = \"df_results_cm_btss.shape\";\n",
       "                var nbb_formatted_code = \"df_results_cm_btss.shape\";\n",
       "                var nbb_cells = Jupyter.notebook.get_cells();\n",
       "                for (var i = 0; i < nbb_cells.length; ++i) {\n",
       "                    if (nbb_cells[i].input_prompt_number == nbb_cell_id) {\n",
       "                        if (nbb_cells[i].get_text() == nbb_unformatted_code) {\n",
       "                             nbb_cells[i].set_text(nbb_formatted_code);\n",
       "                        }\n",
       "                        break;\n",
       "                    }\n",
       "                }\n",
       "            }, 500);\n",
       "            "
      ],
      "text/plain": [
       "<IPython.core.display.Javascript object>"
      ]
     },
     "metadata": {},
     "output_type": "display_data"
    }
   ],
   "source": [
    "df_results_cm_btss.shape"
   ]
  },
  {
   "cell_type": "markdown",
   "id": "30f9dd8d",
   "metadata": {},
   "source": [
    "###### SCPM computation"
   ]
  },
  {
   "cell_type": "code",
   "execution_count": 148,
   "id": "45629b5d",
   "metadata": {},
   "outputs": [
    {
     "data": {
      "application/javascript": [
       "\n",
       "            setTimeout(function() {\n",
       "                var nbb_cell_id = 148;\n",
       "                var nbb_unformatted_code = \"df_results_cm_btss = compute_scpm(df_results_cm_btss)\";\n",
       "                var nbb_formatted_code = \"df_results_cm_btss = compute_scpm(df_results_cm_btss)\";\n",
       "                var nbb_cells = Jupyter.notebook.get_cells();\n",
       "                for (var i = 0; i < nbb_cells.length; ++i) {\n",
       "                    if (nbb_cells[i].input_prompt_number == nbb_cell_id) {\n",
       "                        if (nbb_cells[i].get_text() == nbb_unformatted_code) {\n",
       "                             nbb_cells[i].set_text(nbb_formatted_code);\n",
       "                        }\n",
       "                        break;\n",
       "                    }\n",
       "                }\n",
       "            }, 500);\n",
       "            "
      ],
      "text/plain": [
       "<IPython.core.display.Javascript object>"
      ]
     },
     "metadata": {},
     "output_type": "display_data"
    }
   ],
   "source": [
    "df_results_cm_btss = compute_scpm(df_results_cm_btss)"
   ]
  },
  {
   "cell_type": "markdown",
   "id": "87d1ae12",
   "metadata": {},
   "source": [
    "##### Dominance Analysis"
   ]
  },
  {
   "cell_type": "code",
   "execution_count": 149,
   "id": "ea6a47fd",
   "metadata": {},
   "outputs": [
    {
     "data": {
      "application/javascript": [
       "\n",
       "            setTimeout(function() {\n",
       "                var nbb_cell_id = 149;\n",
       "                var nbb_unformatted_code = \"# Per project\\ndominance_dict = make_dominance_analysis(df_results_cm_btss)\\ndominance_matrix_cm_btss = dominance_dict[\\\"dominance_matrix\\\"]\\ndominance_graph_cm_btss = dominance_dict[\\\"dominance_graph\\\"]\\ndf_sorted_count = dominance_dict[\\\"df_sorted_count\\\"]\\ndf_sorted_topo = dominance_dict[\\\"df_sorted_topo\\\"]\";\n",
       "                var nbb_formatted_code = \"# Per project\\ndominance_dict = make_dominance_analysis(df_results_cm_btss)\\ndominance_matrix_cm_btss = dominance_dict[\\\"dominance_matrix\\\"]\\ndominance_graph_cm_btss = dominance_dict[\\\"dominance_graph\\\"]\\ndf_sorted_count = dominance_dict[\\\"df_sorted_count\\\"]\\ndf_sorted_topo = dominance_dict[\\\"df_sorted_topo\\\"]\";\n",
       "                var nbb_cells = Jupyter.notebook.get_cells();\n",
       "                for (var i = 0; i < nbb_cells.length; ++i) {\n",
       "                    if (nbb_cells[i].input_prompt_number == nbb_cell_id) {\n",
       "                        if (nbb_cells[i].get_text() == nbb_unformatted_code) {\n",
       "                             nbb_cells[i].set_text(nbb_formatted_code);\n",
       "                        }\n",
       "                        break;\n",
       "                    }\n",
       "                }\n",
       "            }, 500);\n",
       "            "
      ],
      "text/plain": [
       "<IPython.core.display.Javascript object>"
      ]
     },
     "metadata": {},
     "output_type": "display_data"
    }
   ],
   "source": [
    "# Per project\n",
    "dominance_dict = make_dominance_analysis(df_results_cm_btss)\n",
    "dominance_matrix_cm_btss = dominance_dict[\"dominance_matrix\"]\n",
    "dominance_graph_cm_btss = dominance_dict[\"dominance_graph\"]\n",
    "df_sorted_count = dominance_dict[\"df_sorted_count\"]\n",
    "df_sorted_topo = dominance_dict[\"df_sorted_topo\"]"
   ]
  },
  {
   "cell_type": "code",
   "execution_count": 150,
   "id": "ae945c9e",
   "metadata": {},
   "outputs": [
    {
     "data": {
      "text/plain": [
       "((20, 20), 20)"
      ]
     },
     "execution_count": 150,
     "metadata": {},
     "output_type": "execute_result"
    },
    {
     "data": {
      "application/javascript": [
       "\n",
       "            setTimeout(function() {\n",
       "                var nbb_cell_id = 150;\n",
       "                var nbb_unformatted_code = \"dominance_matrix_cm_btss.shape, len(dominance_graph_cm_btss)\";\n",
       "                var nbb_formatted_code = \"dominance_matrix_cm_btss.shape, len(dominance_graph_cm_btss)\";\n",
       "                var nbb_cells = Jupyter.notebook.get_cells();\n",
       "                for (var i = 0; i < nbb_cells.length; ++i) {\n",
       "                    if (nbb_cells[i].input_prompt_number == nbb_cell_id) {\n",
       "                        if (nbb_cells[i].get_text() == nbb_unformatted_code) {\n",
       "                             nbb_cells[i].set_text(nbb_formatted_code);\n",
       "                        }\n",
       "                        break;\n",
       "                    }\n",
       "                }\n",
       "            }, 500);\n",
       "            "
      ],
      "text/plain": [
       "<IPython.core.display.Javascript object>"
      ]
     },
     "metadata": {},
     "output_type": "display_data"
    }
   ],
   "source": [
    "dominance_matrix_cm_btss.shape, len(dominance_graph_cm_btss)"
   ]
  },
  {
   "cell_type": "code",
   "execution_count": 151,
   "id": "e89d6f88",
   "metadata": {},
   "outputs": [
    {
     "data": {
      "text/plain": [
       "Classification\n",
       "intermediate_model    18\n",
       "dominant_model         1\n",
       "non_dominant_model     1\n",
       "Name: count, dtype: int64"
      ]
     },
     "execution_count": 151,
     "metadata": {},
     "output_type": "execute_result"
    },
    {
     "data": {
      "application/javascript": [
       "\n",
       "            setTimeout(function() {\n",
       "                var nbb_cell_id = 151;\n",
       "                var nbb_unformatted_code = \"df_sorted_topo[\\\"Classification\\\"].value_counts()\";\n",
       "                var nbb_formatted_code = \"df_sorted_topo[\\\"Classification\\\"].value_counts()\";\n",
       "                var nbb_cells = Jupyter.notebook.get_cells();\n",
       "                for (var i = 0; i < nbb_cells.length; ++i) {\n",
       "                    if (nbb_cells[i].input_prompt_number == nbb_cell_id) {\n",
       "                        if (nbb_cells[i].get_text() == nbb_unformatted_code) {\n",
       "                             nbb_cells[i].set_text(nbb_formatted_code);\n",
       "                        }\n",
       "                        break;\n",
       "                    }\n",
       "                }\n",
       "            }, 500);\n",
       "            "
      ],
      "text/plain": [
       "<IPython.core.display.Javascript object>"
      ]
     },
     "metadata": {},
     "output_type": "display_data"
    }
   ],
   "source": [
    "df_sorted_topo[\"Classification\"].value_counts()"
   ]
  },
  {
   "cell_type": "code",
   "execution_count": 152,
   "id": "7d3df79b",
   "metadata": {
    "scrolled": false
   },
   "outputs": [
    {
     "data": {
      "application/javascript": [
       "\n",
       "            setTimeout(function() {\n",
       "                var nbb_cell_id = 152;\n",
       "                var nbb_unformatted_code = \"df_sorted_topo.to_csv(\\n    \\\"../../../../reports/results/local_models/203/203_c_dominance_analysis_cm_btss.csv\\\",\\n    index=False,\\n)\";\n",
       "                var nbb_formatted_code = \"df_sorted_topo.to_csv(\\n    \\\"../../../../reports/results/local_models/203/203_c_dominance_analysis_cm_btss.csv\\\",\\n    index=False,\\n)\";\n",
       "                var nbb_cells = Jupyter.notebook.get_cells();\n",
       "                for (var i = 0; i < nbb_cells.length; ++i) {\n",
       "                    if (nbb_cells[i].input_prompt_number == nbb_cell_id) {\n",
       "                        if (nbb_cells[i].get_text() == nbb_unformatted_code) {\n",
       "                             nbb_cells[i].set_text(nbb_formatted_code);\n",
       "                        }\n",
       "                        break;\n",
       "                    }\n",
       "                }\n",
       "            }, 500);\n",
       "            "
      ],
      "text/plain": [
       "<IPython.core.display.Javascript object>"
      ]
     },
     "metadata": {},
     "output_type": "display_data"
    }
   ],
   "source": [
    "df_sorted_topo.to_csv(\n",
    "    \"../../../../reports/results/local_models/203/203_c_dominance_analysis_cm_btss.csv\",\n",
    "    index=False,\n",
    ")"
   ]
  },
  {
   "cell_type": "code",
   "execution_count": 153,
   "id": "cf5ac5e7",
   "metadata": {},
   "outputs": [
    {
     "data": {
      "text/html": [
       "<div>\n",
       "<style scoped>\n",
       "    .dataframe tbody tr th:only-of-type {\n",
       "        vertical-align: middle;\n",
       "    }\n",
       "\n",
       "    .dataframe tbody tr th {\n",
       "        vertical-align: top;\n",
       "    }\n",
       "\n",
       "    .dataframe thead th {\n",
       "        text-align: right;\n",
       "    }\n",
       "</style>\n",
       "<table border=\"1\" class=\"dataframe\">\n",
       "  <thead>\n",
       "    <tr style=\"text-align: right;\">\n",
       "      <th></th>\n",
       "      <th>Company</th>\n",
       "      <th>Plant</th>\n",
       "      <th>Cross Validation</th>\n",
       "      <th>Features</th>\n",
       "      <th>Features_bkp</th>\n",
       "      <th>Model</th>\n",
       "      <th>Model_bkp</th>\n",
       "      <th>Model_bkp_2</th>\n",
       "      <th>Timesteps</th>\n",
       "      <th>RMSE_mean</th>\n",
       "      <th>...</th>\n",
       "      <th>MAPE_mean</th>\n",
       "      <th>R2_mean</th>\n",
       "      <th>RMSE_std</th>\n",
       "      <th>MAE_std</th>\n",
       "      <th>MAPE_std</th>\n",
       "      <th>R2_std</th>\n",
       "      <th>SCPM</th>\n",
       "      <th>Dominated_Count</th>\n",
       "      <th>Classification</th>\n",
       "      <th>Dominates_Count</th>\n",
       "    </tr>\n",
       "  </thead>\n",
       "  <tbody>\n",
       "    <tr>\n",
       "      <th>0</th>\n",
       "      <td>203</td>\n",
       "      <td>c</td>\n",
       "      <td>Blocking Time Series Split</td>\n",
       "      <td>Chemical + Mineralogical</td>\n",
       "      <td>Chemical</td>\n",
       "      <td>Neural Networks</td>\n",
       "      <td>Transformer</td>\n",
       "      <td>Transformer_1.0</td>\n",
       "      <td>1.0</td>\n",
       "      <td>1.537175</td>\n",
       "      <td>...</td>\n",
       "      <td>2.488966</td>\n",
       "      <td>0.928655</td>\n",
       "      <td>0.468216</td>\n",
       "      <td>0.216604</td>\n",
       "      <td>0.541965</td>\n",
       "      <td>0.035101</td>\n",
       "      <td>-5.021284</td>\n",
       "      <td>0</td>\n",
       "      <td>dominant_model</td>\n",
       "      <td>19</td>\n",
       "    </tr>\n",
       "    <tr>\n",
       "      <th>13</th>\n",
       "      <td>203</td>\n",
       "      <td>c</td>\n",
       "      <td>Blocking Time Series Split</td>\n",
       "      <td>Chemical + Mineralogical</td>\n",
       "      <td>Chemical</td>\n",
       "      <td>Trees</td>\n",
       "      <td>Random Forest</td>\n",
       "      <td>Random Forest</td>\n",
       "      <td>NaN</td>\n",
       "      <td>1.690821</td>\n",
       "      <td>...</td>\n",
       "      <td>2.506176</td>\n",
       "      <td>0.911171</td>\n",
       "      <td>0.604527</td>\n",
       "      <td>0.347460</td>\n",
       "      <td>0.740677</td>\n",
       "      <td>0.052418</td>\n",
       "      <td>-4.739528</td>\n",
       "      <td>1</td>\n",
       "      <td>intermediate_model</td>\n",
       "      <td>17</td>\n",
       "    </tr>\n",
       "    <tr>\n",
       "      <th>16</th>\n",
       "      <td>203</td>\n",
       "      <td>c</td>\n",
       "      <td>Blocking Time Series Split</td>\n",
       "      <td>Chemical + Mineralogical</td>\n",
       "      <td>Chemical</td>\n",
       "      <td>Trees</td>\n",
       "      <td>Decision Tree</td>\n",
       "      <td>Decision Tree</td>\n",
       "      <td>NaN</td>\n",
       "      <td>1.818787</td>\n",
       "      <td>...</td>\n",
       "      <td>2.518619</td>\n",
       "      <td>0.897298</td>\n",
       "      <td>0.587358</td>\n",
       "      <td>0.188049</td>\n",
       "      <td>0.422755</td>\n",
       "      <td>0.056023</td>\n",
       "      <td>-4.547784</td>\n",
       "      <td>1</td>\n",
       "      <td>intermediate_model</td>\n",
       "      <td>17</td>\n",
       "    </tr>\n",
       "    <tr>\n",
       "      <th>1</th>\n",
       "      <td>203</td>\n",
       "      <td>c</td>\n",
       "      <td>Blocking Time Series Split</td>\n",
       "      <td>Chemical + Mineralogical</td>\n",
       "      <td>Chemical</td>\n",
       "      <td>Neural Networks</td>\n",
       "      <td>Transformer</td>\n",
       "      <td>Transformer_7.0</td>\n",
       "      <td>7.0</td>\n",
       "      <td>1.885277</td>\n",
       "      <td>...</td>\n",
       "      <td>3.305065</td>\n",
       "      <td>0.855936</td>\n",
       "      <td>1.274987</td>\n",
       "      <td>0.663642</td>\n",
       "      <td>2.069809</td>\n",
       "      <td>0.190961</td>\n",
       "      <td>-3.624045</td>\n",
       "      <td>3</td>\n",
       "      <td>intermediate_model</td>\n",
       "      <td>13</td>\n",
       "    </tr>\n",
       "    <tr>\n",
       "      <th>3</th>\n",
       "      <td>203</td>\n",
       "      <td>c</td>\n",
       "      <td>Blocking Time Series Split</td>\n",
       "      <td>Chemical + Mineralogical</td>\n",
       "      <td>Chemical</td>\n",
       "      <td>Neural Networks</td>\n",
       "      <td>BidirectionalGRU</td>\n",
       "      <td>BidirectionalGRU_1.0</td>\n",
       "      <td>1.0</td>\n",
       "      <td>1.954474</td>\n",
       "      <td>...</td>\n",
       "      <td>3.416799</td>\n",
       "      <td>0.885433</td>\n",
       "      <td>0.528196</td>\n",
       "      <td>0.369395</td>\n",
       "      <td>0.897439</td>\n",
       "      <td>0.045507</td>\n",
       "      <td>-3.375192</td>\n",
       "      <td>3</td>\n",
       "      <td>intermediate_model</td>\n",
       "      <td>14</td>\n",
       "    </tr>\n",
       "  </tbody>\n",
       "</table>\n",
       "<p>5 rows × 21 columns</p>\n",
       "</div>"
      ],
      "text/plain": [
       "    Company Plant            Cross Validation                  Features  \\\n",
       "0       203     c  Blocking Time Series Split  Chemical + Mineralogical   \n",
       "13      203     c  Blocking Time Series Split  Chemical + Mineralogical   \n",
       "16      203     c  Blocking Time Series Split  Chemical + Mineralogical   \n",
       "1       203     c  Blocking Time Series Split  Chemical + Mineralogical   \n",
       "3       203     c  Blocking Time Series Split  Chemical + Mineralogical   \n",
       "\n",
       "   Features_bkp            Model         Model_bkp           Model_bkp_2  \\\n",
       "0      Chemical  Neural Networks       Transformer       Transformer_1.0   \n",
       "13     Chemical            Trees     Random Forest         Random Forest   \n",
       "16     Chemical            Trees     Decision Tree         Decision Tree   \n",
       "1      Chemical  Neural Networks       Transformer       Transformer_7.0   \n",
       "3      Chemical  Neural Networks  BidirectionalGRU  BidirectionalGRU_1.0   \n",
       "\n",
       "    Timesteps  RMSE_mean  ...  MAPE_mean   R2_mean  RMSE_std   MAE_std  \\\n",
       "0         1.0   1.537175  ...   2.488966  0.928655  0.468216  0.216604   \n",
       "13        NaN   1.690821  ...   2.506176  0.911171  0.604527  0.347460   \n",
       "16        NaN   1.818787  ...   2.518619  0.897298  0.587358  0.188049   \n",
       "1         7.0   1.885277  ...   3.305065  0.855936  1.274987  0.663642   \n",
       "3         1.0   1.954474  ...   3.416799  0.885433  0.528196  0.369395   \n",
       "\n",
       "    MAPE_std    R2_std      SCPM  Dominated_Count      Classification  \\\n",
       "0   0.541965  0.035101 -5.021284                0      dominant_model   \n",
       "13  0.740677  0.052418 -4.739528                1  intermediate_model   \n",
       "16  0.422755  0.056023 -4.547784                1  intermediate_model   \n",
       "1   2.069809  0.190961 -3.624045                3  intermediate_model   \n",
       "3   0.897439  0.045507 -3.375192                3  intermediate_model   \n",
       "\n",
       "   Dominates_Count  \n",
       "0               19  \n",
       "13              17  \n",
       "16              17  \n",
       "1               13  \n",
       "3               14  \n",
       "\n",
       "[5 rows x 21 columns]"
      ]
     },
     "execution_count": 153,
     "metadata": {},
     "output_type": "execute_result"
    },
    {
     "data": {
      "application/javascript": [
       "\n",
       "            setTimeout(function() {\n",
       "                var nbb_cell_id = 153;\n",
       "                var nbb_unformatted_code = \"df_sorted_topo.head(5)\";\n",
       "                var nbb_formatted_code = \"df_sorted_topo.head(5)\";\n",
       "                var nbb_cells = Jupyter.notebook.get_cells();\n",
       "                for (var i = 0; i < nbb_cells.length; ++i) {\n",
       "                    if (nbb_cells[i].input_prompt_number == nbb_cell_id) {\n",
       "                        if (nbb_cells[i].get_text() == nbb_unformatted_code) {\n",
       "                             nbb_cells[i].set_text(nbb_formatted_code);\n",
       "                        }\n",
       "                        break;\n",
       "                    }\n",
       "                }\n",
       "            }, 500);\n",
       "            "
      ],
      "text/plain": [
       "<IPython.core.display.Javascript object>"
      ]
     },
     "metadata": {},
     "output_type": "display_data"
    }
   ],
   "source": [
    "df_sorted_topo.head(5)"
   ]
  },
  {
   "cell_type": "code",
   "execution_count": 154,
   "id": "757f6c31",
   "metadata": {
    "scrolled": false
   },
   "outputs": [
    {
     "data": {
      "application/javascript": [
       "\n",
       "            setTimeout(function() {\n",
       "                var nbb_cell_id = 154;\n",
       "                var nbb_unformatted_code = \"df_sorted_topo_cols = df_sorted_topo[\\n    [\\n        # \\\"Model\\\",\\n        # \\\"Model_bkp\\\",\\n        \\\"Model_bkp_2\\\",\\n        \\\"RMSE_mean\\\",\\n        \\\"RMSE_std\\\",\\n        \\\"MAE_mean\\\",\\n        \\\"MAE_std\\\",\\n        \\\"MAPE_mean\\\",\\n        \\\"MAPE_std\\\",\\n        \\\"R2_mean\\\",\\n        \\\"R2_std\\\",\\n        \\\"SCPM\\\",\\n        \\\"Dominated_Count\\\",\\n        \\\"Classification\\\",\\n        \\\"Dominates_Count\\\",\\n        \\\"Plant\\\",\\n    ]\\n].round(2)\";\n",
       "                var nbb_formatted_code = \"df_sorted_topo_cols = df_sorted_topo[\\n    [\\n        # \\\"Model\\\",\\n        # \\\"Model_bkp\\\",\\n        \\\"Model_bkp_2\\\",\\n        \\\"RMSE_mean\\\",\\n        \\\"RMSE_std\\\",\\n        \\\"MAE_mean\\\",\\n        \\\"MAE_std\\\",\\n        \\\"MAPE_mean\\\",\\n        \\\"MAPE_std\\\",\\n        \\\"R2_mean\\\",\\n        \\\"R2_std\\\",\\n        \\\"SCPM\\\",\\n        \\\"Dominated_Count\\\",\\n        \\\"Classification\\\",\\n        \\\"Dominates_Count\\\",\\n        \\\"Plant\\\",\\n    ]\\n].round(2)\";\n",
       "                var nbb_cells = Jupyter.notebook.get_cells();\n",
       "                for (var i = 0; i < nbb_cells.length; ++i) {\n",
       "                    if (nbb_cells[i].input_prompt_number == nbb_cell_id) {\n",
       "                        if (nbb_cells[i].get_text() == nbb_unformatted_code) {\n",
       "                             nbb_cells[i].set_text(nbb_formatted_code);\n",
       "                        }\n",
       "                        break;\n",
       "                    }\n",
       "                }\n",
       "            }, 500);\n",
       "            "
      ],
      "text/plain": [
       "<IPython.core.display.Javascript object>"
      ]
     },
     "metadata": {},
     "output_type": "display_data"
    }
   ],
   "source": [
    "df_sorted_topo_cols = df_sorted_topo[\n",
    "    [\n",
    "        # \"Model\",\n",
    "        # \"Model_bkp\",\n",
    "        \"Model_bkp_2\",\n",
    "        \"RMSE_mean\",\n",
    "        \"RMSE_std\",\n",
    "        \"MAE_mean\",\n",
    "        \"MAE_std\",\n",
    "        \"MAPE_mean\",\n",
    "        \"MAPE_std\",\n",
    "        \"R2_mean\",\n",
    "        \"R2_std\",\n",
    "        \"SCPM\",\n",
    "        \"Dominated_Count\",\n",
    "        \"Classification\",\n",
    "        \"Dominates_Count\",\n",
    "        \"Plant\",\n",
    "    ]\n",
    "].round(2)"
   ]
  },
  {
   "cell_type": "markdown",
   "id": "fb84a484",
   "metadata": {},
   "source": [
    "###### Dominant Models"
   ]
  },
  {
   "cell_type": "code",
   "execution_count": 155,
   "id": "c464053c",
   "metadata": {},
   "outputs": [
    {
     "data": {
      "text/html": [
       "<div>\n",
       "<style scoped>\n",
       "    .dataframe tbody tr th:only-of-type {\n",
       "        vertical-align: middle;\n",
       "    }\n",
       "\n",
       "    .dataframe tbody tr th {\n",
       "        vertical-align: top;\n",
       "    }\n",
       "\n",
       "    .dataframe thead th {\n",
       "        text-align: right;\n",
       "    }\n",
       "</style>\n",
       "<table border=\"1\" class=\"dataframe\">\n",
       "  <thead>\n",
       "    <tr style=\"text-align: right;\">\n",
       "      <th></th>\n",
       "      <th>Model_bkp_2</th>\n",
       "      <th>RMSE_mean</th>\n",
       "      <th>RMSE_std</th>\n",
       "      <th>MAE_mean</th>\n",
       "      <th>MAE_std</th>\n",
       "      <th>MAPE_mean</th>\n",
       "      <th>MAPE_std</th>\n",
       "      <th>R2_mean</th>\n",
       "      <th>R2_std</th>\n",
       "      <th>SCPM</th>\n",
       "      <th>Dominated_Count</th>\n",
       "      <th>Classification</th>\n",
       "      <th>Dominates_Count</th>\n",
       "      <th>Plant</th>\n",
       "    </tr>\n",
       "  </thead>\n",
       "  <tbody>\n",
       "    <tr>\n",
       "      <th>0</th>\n",
       "      <td>Transformer_1.0</td>\n",
       "      <td>1.54</td>\n",
       "      <td>0.47</td>\n",
       "      <td>1.06</td>\n",
       "      <td>0.22</td>\n",
       "      <td>2.49</td>\n",
       "      <td>0.54</td>\n",
       "      <td>0.93</td>\n",
       "      <td>0.04</td>\n",
       "      <td>-5.02</td>\n",
       "      <td>0</td>\n",
       "      <td>dominant_model</td>\n",
       "      <td>19</td>\n",
       "      <td>c</td>\n",
       "    </tr>\n",
       "    <tr>\n",
       "      <th>13</th>\n",
       "      <td>Random Forest</td>\n",
       "      <td>1.69</td>\n",
       "      <td>0.60</td>\n",
       "      <td>1.07</td>\n",
       "      <td>0.35</td>\n",
       "      <td>2.51</td>\n",
       "      <td>0.74</td>\n",
       "      <td>0.91</td>\n",
       "      <td>0.05</td>\n",
       "      <td>-4.74</td>\n",
       "      <td>1</td>\n",
       "      <td>intermediate_model</td>\n",
       "      <td>17</td>\n",
       "      <td>c</td>\n",
       "    </tr>\n",
       "    <tr>\n",
       "      <th>16</th>\n",
       "      <td>Decision Tree</td>\n",
       "      <td>1.82</td>\n",
       "      <td>0.59</td>\n",
       "      <td>1.06</td>\n",
       "      <td>0.19</td>\n",
       "      <td>2.52</td>\n",
       "      <td>0.42</td>\n",
       "      <td>0.90</td>\n",
       "      <td>0.06</td>\n",
       "      <td>-4.55</td>\n",
       "      <td>1</td>\n",
       "      <td>intermediate_model</td>\n",
       "      <td>17</td>\n",
       "      <td>c</td>\n",
       "    </tr>\n",
       "    <tr>\n",
       "      <th>3</th>\n",
       "      <td>BidirectionalGRU_1.0</td>\n",
       "      <td>1.95</td>\n",
       "      <td>0.53</td>\n",
       "      <td>1.46</td>\n",
       "      <td>0.37</td>\n",
       "      <td>3.42</td>\n",
       "      <td>0.90</td>\n",
       "      <td>0.89</td>\n",
       "      <td>0.05</td>\n",
       "      <td>-3.38</td>\n",
       "      <td>3</td>\n",
       "      <td>intermediate_model</td>\n",
       "      <td>14</td>\n",
       "      <td>c</td>\n",
       "    </tr>\n",
       "    <tr>\n",
       "      <th>1</th>\n",
       "      <td>Transformer_7.0</td>\n",
       "      <td>1.89</td>\n",
       "      <td>1.27</td>\n",
       "      <td>1.29</td>\n",
       "      <td>0.66</td>\n",
       "      <td>3.31</td>\n",
       "      <td>2.07</td>\n",
       "      <td>0.86</td>\n",
       "      <td>0.19</td>\n",
       "      <td>-3.62</td>\n",
       "      <td>3</td>\n",
       "      <td>intermediate_model</td>\n",
       "      <td>13</td>\n",
       "      <td>c</td>\n",
       "    </tr>\n",
       "  </tbody>\n",
       "</table>\n",
       "</div>"
      ],
      "text/plain": [
       "             Model_bkp_2  RMSE_mean  RMSE_std  MAE_mean  MAE_std  MAPE_mean  \\\n",
       "0        Transformer_1.0       1.54      0.47      1.06     0.22       2.49   \n",
       "13         Random Forest       1.69      0.60      1.07     0.35       2.51   \n",
       "16         Decision Tree       1.82      0.59      1.06     0.19       2.52   \n",
       "3   BidirectionalGRU_1.0       1.95      0.53      1.46     0.37       3.42   \n",
       "1        Transformer_7.0       1.89      1.27      1.29     0.66       3.31   \n",
       "\n",
       "    MAPE_std  R2_mean  R2_std  SCPM  Dominated_Count      Classification  \\\n",
       "0       0.54     0.93    0.04 -5.02                0      dominant_model   \n",
       "13      0.74     0.91    0.05 -4.74                1  intermediate_model   \n",
       "16      0.42     0.90    0.06 -4.55                1  intermediate_model   \n",
       "3       0.90     0.89    0.05 -3.38                3  intermediate_model   \n",
       "1       2.07     0.86    0.19 -3.62                3  intermediate_model   \n",
       "\n",
       "    Dominates_Count Plant  \n",
       "0                19     c  \n",
       "13               17     c  \n",
       "16               17     c  \n",
       "3                14     c  \n",
       "1                13     c  "
      ]
     },
     "execution_count": 155,
     "metadata": {},
     "output_type": "execute_result"
    },
    {
     "data": {
      "application/javascript": [
       "\n",
       "            setTimeout(function() {\n",
       "                var nbb_cell_id = 155;\n",
       "                var nbb_unformatted_code = \"# Top 5\\ndf_sorted_topo_cols.sort_values(\\n    by=[\\\"Dominates_Count\\\", \\\"SCPM\\\"], ascending=[False, True]\\n).iloc[0:5]\";\n",
       "                var nbb_formatted_code = \"# Top 5\\ndf_sorted_topo_cols.sort_values(\\n    by=[\\\"Dominates_Count\\\", \\\"SCPM\\\"], ascending=[False, True]\\n).iloc[0:5]\";\n",
       "                var nbb_cells = Jupyter.notebook.get_cells();\n",
       "                for (var i = 0; i < nbb_cells.length; ++i) {\n",
       "                    if (nbb_cells[i].input_prompt_number == nbb_cell_id) {\n",
       "                        if (nbb_cells[i].get_text() == nbb_unformatted_code) {\n",
       "                             nbb_cells[i].set_text(nbb_formatted_code);\n",
       "                        }\n",
       "                        break;\n",
       "                    }\n",
       "                }\n",
       "            }, 500);\n",
       "            "
      ],
      "text/plain": [
       "<IPython.core.display.Javascript object>"
      ]
     },
     "metadata": {},
     "output_type": "display_data"
    }
   ],
   "source": [
    "# Top 5\n",
    "df_sorted_topo_cols.sort_values(\n",
    "    by=[\"Dominates_Count\", \"SCPM\"], ascending=[False, True]\n",
    ").iloc[0:5]"
   ]
  },
  {
   "cell_type": "code",
   "execution_count": 156,
   "id": "348206f7",
   "metadata": {},
   "outputs": [
    {
     "data": {
      "text/plain": [
       "(1, 14)"
      ]
     },
     "execution_count": 156,
     "metadata": {},
     "output_type": "execute_result"
    },
    {
     "data": {
      "application/javascript": [
       "\n",
       "            setTimeout(function() {\n",
       "                var nbb_cell_id = 156;\n",
       "                var nbb_unformatted_code = \"df_sorted_topo_cols[df_sorted_topo_cols[\\\"Classification\\\"].eq(\\\"dominant_model\\\")].shape\";\n",
       "                var nbb_formatted_code = \"df_sorted_topo_cols[df_sorted_topo_cols[\\\"Classification\\\"].eq(\\\"dominant_model\\\")].shape\";\n",
       "                var nbb_cells = Jupyter.notebook.get_cells();\n",
       "                for (var i = 0; i < nbb_cells.length; ++i) {\n",
       "                    if (nbb_cells[i].input_prompt_number == nbb_cell_id) {\n",
       "                        if (nbb_cells[i].get_text() == nbb_unformatted_code) {\n",
       "                             nbb_cells[i].set_text(nbb_formatted_code);\n",
       "                        }\n",
       "                        break;\n",
       "                    }\n",
       "                }\n",
       "            }, 500);\n",
       "            "
      ],
      "text/plain": [
       "<IPython.core.display.Javascript object>"
      ]
     },
     "metadata": {},
     "output_type": "display_data"
    }
   ],
   "source": [
    "df_sorted_topo_cols[df_sorted_topo_cols[\"Classification\"].eq(\"dominant_model\")].shape"
   ]
  },
  {
   "cell_type": "markdown",
   "id": "8c6a2c1a",
   "metadata": {},
   "source": [
    "###### Intermediate models"
   ]
  },
  {
   "cell_type": "code",
   "execution_count": 157,
   "id": "7e20ad4a",
   "metadata": {},
   "outputs": [
    {
     "data": {
      "text/html": [
       "<div>\n",
       "<style scoped>\n",
       "    .dataframe tbody tr th:only-of-type {\n",
       "        vertical-align: middle;\n",
       "    }\n",
       "\n",
       "    .dataframe tbody tr th {\n",
       "        vertical-align: top;\n",
       "    }\n",
       "\n",
       "    .dataframe thead th {\n",
       "        text-align: right;\n",
       "    }\n",
       "</style>\n",
       "<table border=\"1\" class=\"dataframe\">\n",
       "  <thead>\n",
       "    <tr style=\"text-align: right;\">\n",
       "      <th></th>\n",
       "      <th>Model_bkp_2</th>\n",
       "      <th>RMSE_mean</th>\n",
       "      <th>RMSE_std</th>\n",
       "      <th>MAE_mean</th>\n",
       "      <th>MAE_std</th>\n",
       "      <th>MAPE_mean</th>\n",
       "      <th>MAPE_std</th>\n",
       "      <th>R2_mean</th>\n",
       "      <th>R2_std</th>\n",
       "      <th>SCPM</th>\n",
       "      <th>Dominated_Count</th>\n",
       "      <th>Classification</th>\n",
       "      <th>Dominates_Count</th>\n",
       "      <th>Plant</th>\n",
       "    </tr>\n",
       "  </thead>\n",
       "  <tbody>\n",
       "    <tr>\n",
       "      <th>13</th>\n",
       "      <td>Random Forest</td>\n",
       "      <td>1.69</td>\n",
       "      <td>0.60</td>\n",
       "      <td>1.07</td>\n",
       "      <td>0.35</td>\n",
       "      <td>2.51</td>\n",
       "      <td>0.74</td>\n",
       "      <td>0.91</td>\n",
       "      <td>0.05</td>\n",
       "      <td>-4.74</td>\n",
       "      <td>1</td>\n",
       "      <td>intermediate_model</td>\n",
       "      <td>17</td>\n",
       "      <td>c</td>\n",
       "    </tr>\n",
       "    <tr>\n",
       "      <th>16</th>\n",
       "      <td>Decision Tree</td>\n",
       "      <td>1.82</td>\n",
       "      <td>0.59</td>\n",
       "      <td>1.06</td>\n",
       "      <td>0.19</td>\n",
       "      <td>2.52</td>\n",
       "      <td>0.42</td>\n",
       "      <td>0.90</td>\n",
       "      <td>0.06</td>\n",
       "      <td>-4.55</td>\n",
       "      <td>1</td>\n",
       "      <td>intermediate_model</td>\n",
       "      <td>17</td>\n",
       "      <td>c</td>\n",
       "    </tr>\n",
       "    <tr>\n",
       "      <th>3</th>\n",
       "      <td>BidirectionalGRU_1.0</td>\n",
       "      <td>1.95</td>\n",
       "      <td>0.53</td>\n",
       "      <td>1.46</td>\n",
       "      <td>0.37</td>\n",
       "      <td>3.42</td>\n",
       "      <td>0.90</td>\n",
       "      <td>0.89</td>\n",
       "      <td>0.05</td>\n",
       "      <td>-3.38</td>\n",
       "      <td>3</td>\n",
       "      <td>intermediate_model</td>\n",
       "      <td>14</td>\n",
       "      <td>c</td>\n",
       "    </tr>\n",
       "  </tbody>\n",
       "</table>\n",
       "</div>"
      ],
      "text/plain": [
       "             Model_bkp_2  RMSE_mean  RMSE_std  MAE_mean  MAE_std  MAPE_mean  \\\n",
       "13         Random Forest       1.69      0.60      1.07     0.35       2.51   \n",
       "16         Decision Tree       1.82      0.59      1.06     0.19       2.52   \n",
       "3   BidirectionalGRU_1.0       1.95      0.53      1.46     0.37       3.42   \n",
       "\n",
       "    MAPE_std  R2_mean  R2_std  SCPM  Dominated_Count      Classification  \\\n",
       "13      0.74     0.91    0.05 -4.74                1  intermediate_model   \n",
       "16      0.42     0.90    0.06 -4.55                1  intermediate_model   \n",
       "3       0.90     0.89    0.05 -3.38                3  intermediate_model   \n",
       "\n",
       "    Dominates_Count Plant  \n",
       "13               17     c  \n",
       "16               17     c  \n",
       "3                14     c  "
      ]
     },
     "execution_count": 157,
     "metadata": {},
     "output_type": "execute_result"
    },
    {
     "data": {
      "application/javascript": [
       "\n",
       "            setTimeout(function() {\n",
       "                var nbb_cell_id = 157;\n",
       "                var nbb_unformatted_code = \"df_sorted_topo_cols[\\n    df_sorted_topo_cols[\\\"Classification\\\"].eq(\\\"intermediate_model\\\")\\n].sort_values(by=[\\\"Dominates_Count\\\", \\\"SCPM\\\"], ascending=[False, True]).iloc[:3]\";\n",
       "                var nbb_formatted_code = \"df_sorted_topo_cols[\\n    df_sorted_topo_cols[\\\"Classification\\\"].eq(\\\"intermediate_model\\\")\\n].sort_values(by=[\\\"Dominates_Count\\\", \\\"SCPM\\\"], ascending=[False, True]).iloc[:3]\";\n",
       "                var nbb_cells = Jupyter.notebook.get_cells();\n",
       "                for (var i = 0; i < nbb_cells.length; ++i) {\n",
       "                    if (nbb_cells[i].input_prompt_number == nbb_cell_id) {\n",
       "                        if (nbb_cells[i].get_text() == nbb_unformatted_code) {\n",
       "                             nbb_cells[i].set_text(nbb_formatted_code);\n",
       "                        }\n",
       "                        break;\n",
       "                    }\n",
       "                }\n",
       "            }, 500);\n",
       "            "
      ],
      "text/plain": [
       "<IPython.core.display.Javascript object>"
      ]
     },
     "metadata": {},
     "output_type": "display_data"
    }
   ],
   "source": [
    "df_sorted_topo_cols[\n",
    "    df_sorted_topo_cols[\"Classification\"].eq(\"intermediate_model\")\n",
    "].sort_values(by=[\"Dominates_Count\", \"SCPM\"], ascending=[False, True]).iloc[:3]"
   ]
  },
  {
   "cell_type": "code",
   "execution_count": 158,
   "id": "bffa57f3",
   "metadata": {},
   "outputs": [
    {
     "data": {
      "text/plain": [
       "(18, 14)"
      ]
     },
     "execution_count": 158,
     "metadata": {},
     "output_type": "execute_result"
    },
    {
     "data": {
      "application/javascript": [
       "\n",
       "            setTimeout(function() {\n",
       "                var nbb_cell_id = 158;\n",
       "                var nbb_unformatted_code = \"df_sorted_topo_cols[\\n    df_sorted_topo_cols[\\\"Classification\\\"].eq(\\\"intermediate_model\\\")\\n].shape\";\n",
       "                var nbb_formatted_code = \"df_sorted_topo_cols[\\n    df_sorted_topo_cols[\\\"Classification\\\"].eq(\\\"intermediate_model\\\")\\n].shape\";\n",
       "                var nbb_cells = Jupyter.notebook.get_cells();\n",
       "                for (var i = 0; i < nbb_cells.length; ++i) {\n",
       "                    if (nbb_cells[i].input_prompt_number == nbb_cell_id) {\n",
       "                        if (nbb_cells[i].get_text() == nbb_unformatted_code) {\n",
       "                             nbb_cells[i].set_text(nbb_formatted_code);\n",
       "                        }\n",
       "                        break;\n",
       "                    }\n",
       "                }\n",
       "            }, 500);\n",
       "            "
      ],
      "text/plain": [
       "<IPython.core.display.Javascript object>"
      ]
     },
     "metadata": {},
     "output_type": "display_data"
    }
   ],
   "source": [
    "df_sorted_topo_cols[\n",
    "    df_sorted_topo_cols[\"Classification\"].eq(\"intermediate_model\")\n",
    "].shape"
   ]
  },
  {
   "cell_type": "markdown",
   "id": "d5f9b2e6",
   "metadata": {},
   "source": [
    "###### non-dominant models"
   ]
  },
  {
   "cell_type": "code",
   "execution_count": 159,
   "id": "5538c631",
   "metadata": {},
   "outputs": [
    {
     "data": {
      "text/html": [
       "<div>\n",
       "<style scoped>\n",
       "    .dataframe tbody tr th:only-of-type {\n",
       "        vertical-align: middle;\n",
       "    }\n",
       "\n",
       "    .dataframe tbody tr th {\n",
       "        vertical-align: top;\n",
       "    }\n",
       "\n",
       "    .dataframe thead th {\n",
       "        text-align: right;\n",
       "    }\n",
       "</style>\n",
       "<table border=\"1\" class=\"dataframe\">\n",
       "  <thead>\n",
       "    <tr style=\"text-align: right;\">\n",
       "      <th></th>\n",
       "      <th>Model_bkp_2</th>\n",
       "      <th>RMSE_mean</th>\n",
       "      <th>RMSE_std</th>\n",
       "      <th>MAE_mean</th>\n",
       "      <th>MAE_std</th>\n",
       "      <th>MAPE_mean</th>\n",
       "      <th>MAPE_std</th>\n",
       "      <th>R2_mean</th>\n",
       "      <th>R2_std</th>\n",
       "      <th>SCPM</th>\n",
       "      <th>Dominated_Count</th>\n",
       "      <th>Classification</th>\n",
       "      <th>Dominates_Count</th>\n",
       "      <th>Plant</th>\n",
       "    </tr>\n",
       "  </thead>\n",
       "  <tbody>\n",
       "    <tr>\n",
       "      <th>10</th>\n",
       "      <td>BidirectionalLSTM_7.0</td>\n",
       "      <td>4.46</td>\n",
       "      <td>4.72</td>\n",
       "      <td>3.78</td>\n",
       "      <td>4.34</td>\n",
       "      <td>9.24</td>\n",
       "      <td>10.6</td>\n",
       "      <td>-0.16</td>\n",
       "      <td>2.05</td>\n",
       "      <td>9.34</td>\n",
       "      <td>19</td>\n",
       "      <td>non_dominant_model</td>\n",
       "      <td>0</td>\n",
       "      <td>c</td>\n",
       "    </tr>\n",
       "  </tbody>\n",
       "</table>\n",
       "</div>"
      ],
      "text/plain": [
       "              Model_bkp_2  RMSE_mean  RMSE_std  MAE_mean  MAE_std  MAPE_mean  \\\n",
       "10  BidirectionalLSTM_7.0       4.46      4.72      3.78     4.34       9.24   \n",
       "\n",
       "    MAPE_std  R2_mean  R2_std  SCPM  Dominated_Count      Classification  \\\n",
       "10      10.6    -0.16    2.05  9.34               19  non_dominant_model   \n",
       "\n",
       "    Dominates_Count Plant  \n",
       "10                0     c  "
      ]
     },
     "execution_count": 159,
     "metadata": {},
     "output_type": "execute_result"
    },
    {
     "data": {
      "application/javascript": [
       "\n",
       "            setTimeout(function() {\n",
       "                var nbb_cell_id = 159;\n",
       "                var nbb_unformatted_code = \"df_sorted_topo_cols[\\n    df_sorted_topo_cols[\\\"Classification\\\"].eq(\\\"non_dominant_model\\\")\\n].sort_values(by=[\\\"Dominates_Count\\\", \\\"SCPM\\\"], ascending=[False, True]).iloc[:2]\";\n",
       "                var nbb_formatted_code = \"df_sorted_topo_cols[\\n    df_sorted_topo_cols[\\\"Classification\\\"].eq(\\\"non_dominant_model\\\")\\n].sort_values(by=[\\\"Dominates_Count\\\", \\\"SCPM\\\"], ascending=[False, True]).iloc[:2]\";\n",
       "                var nbb_cells = Jupyter.notebook.get_cells();\n",
       "                for (var i = 0; i < nbb_cells.length; ++i) {\n",
       "                    if (nbb_cells[i].input_prompt_number == nbb_cell_id) {\n",
       "                        if (nbb_cells[i].get_text() == nbb_unformatted_code) {\n",
       "                             nbb_cells[i].set_text(nbb_formatted_code);\n",
       "                        }\n",
       "                        break;\n",
       "                    }\n",
       "                }\n",
       "            }, 500);\n",
       "            "
      ],
      "text/plain": [
       "<IPython.core.display.Javascript object>"
      ]
     },
     "metadata": {},
     "output_type": "display_data"
    }
   ],
   "source": [
    "df_sorted_topo_cols[\n",
    "    df_sorted_topo_cols[\"Classification\"].eq(\"non_dominant_model\")\n",
    "].sort_values(by=[\"Dominates_Count\", \"SCPM\"], ascending=[False, True]).iloc[:2]"
   ]
  },
  {
   "cell_type": "code",
   "execution_count": 160,
   "id": "db8a109f",
   "metadata": {},
   "outputs": [
    {
     "data": {
      "text/plain": [
       "(1, 14)"
      ]
     },
     "execution_count": 160,
     "metadata": {},
     "output_type": "execute_result"
    },
    {
     "data": {
      "application/javascript": [
       "\n",
       "            setTimeout(function() {\n",
       "                var nbb_cell_id = 160;\n",
       "                var nbb_unformatted_code = \"df_sorted_topo_cols[\\n    df_sorted_topo_cols[\\\"Classification\\\"].eq(\\\"non_dominant_model\\\")\\n].shape\";\n",
       "                var nbb_formatted_code = \"df_sorted_topo_cols[\\n    df_sorted_topo_cols[\\\"Classification\\\"].eq(\\\"non_dominant_model\\\")\\n].shape\";\n",
       "                var nbb_cells = Jupyter.notebook.get_cells();\n",
       "                for (var i = 0; i < nbb_cells.length; ++i) {\n",
       "                    if (nbb_cells[i].input_prompt_number == nbb_cell_id) {\n",
       "                        if (nbb_cells[i].get_text() == nbb_unformatted_code) {\n",
       "                             nbb_cells[i].set_text(nbb_formatted_code);\n",
       "                        }\n",
       "                        break;\n",
       "                    }\n",
       "                }\n",
       "            }, 500);\n",
       "            "
      ],
      "text/plain": [
       "<IPython.core.display.Javascript object>"
      ]
     },
     "metadata": {},
     "output_type": "display_data"
    }
   ],
   "source": [
    "df_sorted_topo_cols[\n",
    "    df_sorted_topo_cols[\"Classification\"].eq(\"non_dominant_model\")\n",
    "].shape"
   ]
  },
  {
   "cell_type": "markdown",
   "id": "677afb66",
   "metadata": {},
   "source": [
    "###### Statistics per model type"
   ]
  },
  {
   "cell_type": "code",
   "execution_count": 161,
   "id": "1c00560a",
   "metadata": {},
   "outputs": [
    {
     "data": {
      "application/javascript": [
       "\n",
       "            setTimeout(function() {\n",
       "                var nbb_cell_id = 161;\n",
       "                var nbb_unformatted_code = \"df_sorted_topo_models_cols = df_sorted_topo[\\n    [\\n        \\\"Model\\\",\\n        # \\\"Model_bkp\\\",\\n        # \\\"Model_bkp_2\\\",\\n        \\\"RMSE_mean\\\",\\n        \\\"RMSE_std\\\",\\n        \\\"MAE_mean\\\",\\n        \\\"MAE_std\\\",\\n        \\\"MAPE_mean\\\",\\n        \\\"MAPE_std\\\",\\n        \\\"R2_mean\\\",\\n        \\\"R2_std\\\",\\n        \\\"SCPM\\\",\\n        \\\"Dominated_Count\\\",\\n        \\\"Dominates_Count\\\",\\n        \\\"Classification\\\",\\n        \\\"Plant\\\",\\n    ]\\n]  # .round(2)\";\n",
       "                var nbb_formatted_code = \"df_sorted_topo_models_cols = df_sorted_topo[\\n    [\\n        \\\"Model\\\",\\n        # \\\"Model_bkp\\\",\\n        # \\\"Model_bkp_2\\\",\\n        \\\"RMSE_mean\\\",\\n        \\\"RMSE_std\\\",\\n        \\\"MAE_mean\\\",\\n        \\\"MAE_std\\\",\\n        \\\"MAPE_mean\\\",\\n        \\\"MAPE_std\\\",\\n        \\\"R2_mean\\\",\\n        \\\"R2_std\\\",\\n        \\\"SCPM\\\",\\n        \\\"Dominated_Count\\\",\\n        \\\"Dominates_Count\\\",\\n        \\\"Classification\\\",\\n        \\\"Plant\\\",\\n    ]\\n]  # .round(2)\";\n",
       "                var nbb_cells = Jupyter.notebook.get_cells();\n",
       "                for (var i = 0; i < nbb_cells.length; ++i) {\n",
       "                    if (nbb_cells[i].input_prompt_number == nbb_cell_id) {\n",
       "                        if (nbb_cells[i].get_text() == nbb_unformatted_code) {\n",
       "                             nbb_cells[i].set_text(nbb_formatted_code);\n",
       "                        }\n",
       "                        break;\n",
       "                    }\n",
       "                }\n",
       "            }, 500);\n",
       "            "
      ],
      "text/plain": [
       "<IPython.core.display.Javascript object>"
      ]
     },
     "metadata": {},
     "output_type": "display_data"
    }
   ],
   "source": [
    "df_sorted_topo_models_cols = df_sorted_topo[\n",
    "    [\n",
    "        \"Model\",\n",
    "        # \"Model_bkp\",\n",
    "        # \"Model_bkp_2\",\n",
    "        \"RMSE_mean\",\n",
    "        \"RMSE_std\",\n",
    "        \"MAE_mean\",\n",
    "        \"MAE_std\",\n",
    "        \"MAPE_mean\",\n",
    "        \"MAPE_std\",\n",
    "        \"R2_mean\",\n",
    "        \"R2_std\",\n",
    "        \"SCPM\",\n",
    "        \"Dominated_Count\",\n",
    "        \"Dominates_Count\",\n",
    "        \"Classification\",\n",
    "        \"Plant\",\n",
    "    ]\n",
    "]  # .round(2)"
   ]
  },
  {
   "cell_type": "code",
   "execution_count": 162,
   "id": "6dc3d3a7",
   "metadata": {},
   "outputs": [
    {
     "data": {
      "text/plain": [
       "Model\n",
       "Neural Networks      16\n",
       "Trees                 3\n",
       "Linear Regression     1\n",
       "Name: count, dtype: int64"
      ]
     },
     "execution_count": 162,
     "metadata": {},
     "output_type": "execute_result"
    },
    {
     "data": {
      "application/javascript": [
       "\n",
       "            setTimeout(function() {\n",
       "                var nbb_cell_id = 162;\n",
       "                var nbb_unformatted_code = \"df_sorted_topo[\\\"Model\\\"].value_counts()\";\n",
       "                var nbb_formatted_code = \"df_sorted_topo[\\\"Model\\\"].value_counts()\";\n",
       "                var nbb_cells = Jupyter.notebook.get_cells();\n",
       "                for (var i = 0; i < nbb_cells.length; ++i) {\n",
       "                    if (nbb_cells[i].input_prompt_number == nbb_cell_id) {\n",
       "                        if (nbb_cells[i].get_text() == nbb_unformatted_code) {\n",
       "                             nbb_cells[i].set_text(nbb_formatted_code);\n",
       "                        }\n",
       "                        break;\n",
       "                    }\n",
       "                }\n",
       "            }, 500);\n",
       "            "
      ],
      "text/plain": [
       "<IPython.core.display.Javascript object>"
      ]
     },
     "metadata": {},
     "output_type": "display_data"
    }
   ],
   "source": [
    "df_sorted_topo[\"Model\"].value_counts()"
   ]
  },
  {
   "cell_type": "code",
   "execution_count": 163,
   "id": "33c4cbc5",
   "metadata": {},
   "outputs": [
    {
     "data": {
      "application/javascript": [
       "\n",
       "            setTimeout(function() {\n",
       "                var nbb_cell_id = 163;\n",
       "                var nbb_unformatted_code = \"df_sorted_topo_models_grouped = df_sorted_topo_models_cols.groupby(\\\"Model\\\").describe().T\";\n",
       "                var nbb_formatted_code = \"df_sorted_topo_models_grouped = df_sorted_topo_models_cols.groupby(\\\"Model\\\").describe().T\";\n",
       "                var nbb_cells = Jupyter.notebook.get_cells();\n",
       "                for (var i = 0; i < nbb_cells.length; ++i) {\n",
       "                    if (nbb_cells[i].input_prompt_number == nbb_cell_id) {\n",
       "                        if (nbb_cells[i].get_text() == nbb_unformatted_code) {\n",
       "                             nbb_cells[i].set_text(nbb_formatted_code);\n",
       "                        }\n",
       "                        break;\n",
       "                    }\n",
       "                }\n",
       "            }, 500);\n",
       "            "
      ],
      "text/plain": [
       "<IPython.core.display.Javascript object>"
      ]
     },
     "metadata": {},
     "output_type": "display_data"
    }
   ],
   "source": [
    "df_sorted_topo_models_grouped = df_sorted_topo_models_cols.groupby(\"Model\").describe().T"
   ]
  },
  {
   "cell_type": "code",
   "execution_count": 164,
   "id": "0f187793",
   "metadata": {
    "scrolled": true
   },
   "outputs": [
    {
     "data": {
      "application/javascript": [
       "\n",
       "            setTimeout(function() {\n",
       "                var nbb_cell_id = 164;\n",
       "                var nbb_unformatted_code = \"# pd.set_option(\\\"display.max_rows\\\", None)\\n# df_sorted_topo_models_grouped\";\n",
       "                var nbb_formatted_code = \"# pd.set_option(\\\"display.max_rows\\\", None)\\n# df_sorted_topo_models_grouped\";\n",
       "                var nbb_cells = Jupyter.notebook.get_cells();\n",
       "                for (var i = 0; i < nbb_cells.length; ++i) {\n",
       "                    if (nbb_cells[i].input_prompt_number == nbb_cell_id) {\n",
       "                        if (nbb_cells[i].get_text() == nbb_unformatted_code) {\n",
       "                             nbb_cells[i].set_text(nbb_formatted_code);\n",
       "                        }\n",
       "                        break;\n",
       "                    }\n",
       "                }\n",
       "            }, 500);\n",
       "            "
      ],
      "text/plain": [
       "<IPython.core.display.Javascript object>"
      ]
     },
     "metadata": {},
     "output_type": "display_data"
    }
   ],
   "source": [
    "# pd.set_option(\"display.max_rows\", None)\n",
    "# df_sorted_topo_models_grouped"
   ]
  },
  {
   "cell_type": "code",
   "execution_count": 165,
   "id": "7319b545",
   "metadata": {},
   "outputs": [
    {
     "data": {
      "application/javascript": [
       "\n",
       "            setTimeout(function() {\n",
       "                var nbb_cell_id = 165;\n",
       "                var nbb_unformatted_code = \"df_sorted_topo_models_cols = df_sorted_topo[\\n    [\\n        \\\"Model\\\",\\n        \\\"Dominated_Count\\\",\\n        \\\"Dominates_Count\\\",\\n        \\\"Classification\\\",\\n    ]\\n]\";\n",
       "                var nbb_formatted_code = \"df_sorted_topo_models_cols = df_sorted_topo[\\n    [\\n        \\\"Model\\\",\\n        \\\"Dominated_Count\\\",\\n        \\\"Dominates_Count\\\",\\n        \\\"Classification\\\",\\n    ]\\n]\";\n",
       "                var nbb_cells = Jupyter.notebook.get_cells();\n",
       "                for (var i = 0; i < nbb_cells.length; ++i) {\n",
       "                    if (nbb_cells[i].input_prompt_number == nbb_cell_id) {\n",
       "                        if (nbb_cells[i].get_text() == nbb_unformatted_code) {\n",
       "                             nbb_cells[i].set_text(nbb_formatted_code);\n",
       "                        }\n",
       "                        break;\n",
       "                    }\n",
       "                }\n",
       "            }, 500);\n",
       "            "
      ],
      "text/plain": [
       "<IPython.core.display.Javascript object>"
      ]
     },
     "metadata": {},
     "output_type": "display_data"
    }
   ],
   "source": [
    "df_sorted_topo_models_cols = df_sorted_topo[\n",
    "    [\n",
    "        \"Model\",\n",
    "        \"Dominated_Count\",\n",
    "        \"Dominates_Count\",\n",
    "        \"Classification\",\n",
    "    ]\n",
    "]"
   ]
  },
  {
   "cell_type": "code",
   "execution_count": 166,
   "id": "f455d303",
   "metadata": {},
   "outputs": [
    {
     "data": {
      "text/html": [
       "<div>\n",
       "<style scoped>\n",
       "    .dataframe tbody tr th:only-of-type {\n",
       "        vertical-align: middle;\n",
       "    }\n",
       "\n",
       "    .dataframe tbody tr th {\n",
       "        vertical-align: top;\n",
       "    }\n",
       "\n",
       "    .dataframe thead th {\n",
       "        text-align: right;\n",
       "    }\n",
       "</style>\n",
       "<table border=\"1\" class=\"dataframe\">\n",
       "  <thead>\n",
       "    <tr style=\"text-align: right;\">\n",
       "      <th></th>\n",
       "      <th></th>\n",
       "      <th>proportion</th>\n",
       "    </tr>\n",
       "    <tr>\n",
       "      <th>Model</th>\n",
       "      <th>Classification</th>\n",
       "      <th></th>\n",
       "    </tr>\n",
       "  </thead>\n",
       "  <tbody>\n",
       "    <tr>\n",
       "      <th>Linear Regression</th>\n",
       "      <th>intermediate_model</th>\n",
       "      <td>100.00</td>\n",
       "    </tr>\n",
       "    <tr>\n",
       "      <th rowspan=\"3\" valign=\"top\">Neural Networks</th>\n",
       "      <th>intermediate_model</th>\n",
       "      <td>87.50</td>\n",
       "    </tr>\n",
       "    <tr>\n",
       "      <th>dominant_model</th>\n",
       "      <td>6.25</td>\n",
       "    </tr>\n",
       "    <tr>\n",
       "      <th>non_dominant_model</th>\n",
       "      <td>6.25</td>\n",
       "    </tr>\n",
       "    <tr>\n",
       "      <th>Trees</th>\n",
       "      <th>intermediate_model</th>\n",
       "      <td>100.00</td>\n",
       "    </tr>\n",
       "  </tbody>\n",
       "</table>\n",
       "</div>"
      ],
      "text/plain": [
       "                                      proportion\n",
       "Model             Classification                \n",
       "Linear Regression intermediate_model      100.00\n",
       "Neural Networks   intermediate_model       87.50\n",
       "                  dominant_model            6.25\n",
       "                  non_dominant_model        6.25\n",
       "Trees             intermediate_model      100.00"
      ]
     },
     "execution_count": 166,
     "metadata": {},
     "output_type": "execute_result"
    },
    {
     "data": {
      "application/javascript": [
       "\n",
       "            setTimeout(function() {\n",
       "                var nbb_cell_id = 166;\n",
       "                var nbb_unformatted_code = \"(\\n    df_sorted_topo_models_cols.groupby(\\\"Model\\\")[[\\\"Classification\\\"]]\\n    .value_counts(normalize=True)\\n    .to_frame()\\n    * 100\\n).round(2)\";\n",
       "                var nbb_formatted_code = \"(\\n    df_sorted_topo_models_cols.groupby(\\\"Model\\\")[[\\\"Classification\\\"]]\\n    .value_counts(normalize=True)\\n    .to_frame()\\n    * 100\\n).round(2)\";\n",
       "                var nbb_cells = Jupyter.notebook.get_cells();\n",
       "                for (var i = 0; i < nbb_cells.length; ++i) {\n",
       "                    if (nbb_cells[i].input_prompt_number == nbb_cell_id) {\n",
       "                        if (nbb_cells[i].get_text() == nbb_unformatted_code) {\n",
       "                             nbb_cells[i].set_text(nbb_formatted_code);\n",
       "                        }\n",
       "                        break;\n",
       "                    }\n",
       "                }\n",
       "            }, 500);\n",
       "            "
      ],
      "text/plain": [
       "<IPython.core.display.Javascript object>"
      ]
     },
     "metadata": {},
     "output_type": "display_data"
    }
   ],
   "source": [
    "(\n",
    "    df_sorted_topo_models_cols.groupby(\"Model\")[[\"Classification\"]]\n",
    "    .value_counts(normalize=True)\n",
    "    .to_frame()\n",
    "    * 100\n",
    ").round(2)"
   ]
  },
  {
   "cell_type": "code",
   "execution_count": 167,
   "id": "7848fdd2",
   "metadata": {},
   "outputs": [
    {
     "data": {
      "text/html": [
       "<div>\n",
       "<style scoped>\n",
       "    .dataframe tbody tr th:only-of-type {\n",
       "        vertical-align: middle;\n",
       "    }\n",
       "\n",
       "    .dataframe tbody tr th {\n",
       "        vertical-align: top;\n",
       "    }\n",
       "\n",
       "    .dataframe thead th {\n",
       "        text-align: right;\n",
       "    }\n",
       "</style>\n",
       "<table border=\"1\" class=\"dataframe\">\n",
       "  <thead>\n",
       "    <tr style=\"text-align: right;\">\n",
       "      <th></th>\n",
       "      <th>Model</th>\n",
       "      <th>Linear Regression</th>\n",
       "      <th>Neural Networks</th>\n",
       "      <th>Trees</th>\n",
       "    </tr>\n",
       "  </thead>\n",
       "  <tbody>\n",
       "    <tr>\n",
       "      <th rowspan=\"8\" valign=\"top\">Dominated_Count</th>\n",
       "      <th>count</th>\n",
       "      <td>1.0</td>\n",
       "      <td>16.00</td>\n",
       "      <td>3.00</td>\n",
       "    </tr>\n",
       "    <tr>\n",
       "      <th>mean</th>\n",
       "      <td>5.0</td>\n",
       "      <td>10.12</td>\n",
       "      <td>2.67</td>\n",
       "    </tr>\n",
       "    <tr>\n",
       "      <th>std</th>\n",
       "      <td>NaN</td>\n",
       "      <td>5.86</td>\n",
       "      <td>2.89</td>\n",
       "    </tr>\n",
       "    <tr>\n",
       "      <th>min</th>\n",
       "      <td>5.0</td>\n",
       "      <td>0.00</td>\n",
       "      <td>1.00</td>\n",
       "    </tr>\n",
       "    <tr>\n",
       "      <th>25%</th>\n",
       "      <td>5.0</td>\n",
       "      <td>4.00</td>\n",
       "      <td>1.00</td>\n",
       "    </tr>\n",
       "    <tr>\n",
       "      <th>50%</th>\n",
       "      <td>5.0</td>\n",
       "      <td>10.50</td>\n",
       "      <td>1.00</td>\n",
       "    </tr>\n",
       "    <tr>\n",
       "      <th>75%</th>\n",
       "      <td>5.0</td>\n",
       "      <td>13.75</td>\n",
       "      <td>3.50</td>\n",
       "    </tr>\n",
       "    <tr>\n",
       "      <th>max</th>\n",
       "      <td>5.0</td>\n",
       "      <td>19.00</td>\n",
       "      <td>6.00</td>\n",
       "    </tr>\n",
       "    <tr>\n",
       "      <th rowspan=\"8\" valign=\"top\">Dominates_Count</th>\n",
       "      <th>count</th>\n",
       "      <td>1.0</td>\n",
       "      <td>16.00</td>\n",
       "      <td>3.00</td>\n",
       "    </tr>\n",
       "    <tr>\n",
       "      <th>mean</th>\n",
       "      <td>11.0</td>\n",
       "      <td>7.44</td>\n",
       "      <td>15.00</td>\n",
       "    </tr>\n",
       "    <tr>\n",
       "      <th>std</th>\n",
       "      <td>NaN</td>\n",
       "      <td>5.48</td>\n",
       "      <td>3.46</td>\n",
       "    </tr>\n",
       "    <tr>\n",
       "      <th>min</th>\n",
       "      <td>11.0</td>\n",
       "      <td>0.00</td>\n",
       "      <td>11.00</td>\n",
       "    </tr>\n",
       "    <tr>\n",
       "      <th>25%</th>\n",
       "      <td>11.0</td>\n",
       "      <td>3.50</td>\n",
       "      <td>14.00</td>\n",
       "    </tr>\n",
       "    <tr>\n",
       "      <th>50%</th>\n",
       "      <td>11.0</td>\n",
       "      <td>7.00</td>\n",
       "      <td>17.00</td>\n",
       "    </tr>\n",
       "    <tr>\n",
       "      <th>75%</th>\n",
       "      <td>11.0</td>\n",
       "      <td>11.50</td>\n",
       "      <td>17.00</td>\n",
       "    </tr>\n",
       "    <tr>\n",
       "      <th>max</th>\n",
       "      <td>11.0</td>\n",
       "      <td>19.00</td>\n",
       "      <td>17.00</td>\n",
       "    </tr>\n",
       "  </tbody>\n",
       "</table>\n",
       "</div>"
      ],
      "text/plain": [
       "Model                  Linear Regression  Neural Networks  Trees\n",
       "Dominated_Count count                1.0            16.00   3.00\n",
       "                mean                 5.0            10.12   2.67\n",
       "                std                  NaN             5.86   2.89\n",
       "                min                  5.0             0.00   1.00\n",
       "                25%                  5.0             4.00   1.00\n",
       "                50%                  5.0            10.50   1.00\n",
       "                75%                  5.0            13.75   3.50\n",
       "                max                  5.0            19.00   6.00\n",
       "Dominates_Count count                1.0            16.00   3.00\n",
       "                mean                11.0             7.44  15.00\n",
       "                std                  NaN             5.48   3.46\n",
       "                min                 11.0             0.00  11.00\n",
       "                25%                 11.0             3.50  14.00\n",
       "                50%                 11.0             7.00  17.00\n",
       "                75%                 11.0            11.50  17.00\n",
       "                max                 11.0            19.00  17.00"
      ]
     },
     "execution_count": 167,
     "metadata": {},
     "output_type": "execute_result"
    },
    {
     "data": {
      "application/javascript": [
       "\n",
       "            setTimeout(function() {\n",
       "                var nbb_cell_id = 167;\n",
       "                var nbb_unformatted_code = \"df_sorted_topo_models_cols.groupby(\\\"Model\\\").describe().round(2).T\";\n",
       "                var nbb_formatted_code = \"df_sorted_topo_models_cols.groupby(\\\"Model\\\").describe().round(2).T\";\n",
       "                var nbb_cells = Jupyter.notebook.get_cells();\n",
       "                for (var i = 0; i < nbb_cells.length; ++i) {\n",
       "                    if (nbb_cells[i].input_prompt_number == nbb_cell_id) {\n",
       "                        if (nbb_cells[i].get_text() == nbb_unformatted_code) {\n",
       "                             nbb_cells[i].set_text(nbb_formatted_code);\n",
       "                        }\n",
       "                        break;\n",
       "                    }\n",
       "                }\n",
       "            }, 500);\n",
       "            "
      ],
      "text/plain": [
       "<IPython.core.display.Javascript object>"
      ]
     },
     "metadata": {},
     "output_type": "display_data"
    }
   ],
   "source": [
    "df_sorted_topo_models_cols.groupby(\"Model\").describe().round(2).T"
   ]
  },
  {
   "cell_type": "code",
   "execution_count": 168,
   "id": "b711fa71",
   "metadata": {},
   "outputs": [
    {
     "data": {
      "application/javascript": [
       "\n",
       "            setTimeout(function() {\n",
       "                var nbb_cell_id = 168;\n",
       "                var nbb_unformatted_code = \"# df_sorted_topo_models_cols\";\n",
       "                var nbb_formatted_code = \"# df_sorted_topo_models_cols\";\n",
       "                var nbb_cells = Jupyter.notebook.get_cells();\n",
       "                for (var i = 0; i < nbb_cells.length; ++i) {\n",
       "                    if (nbb_cells[i].input_prompt_number == nbb_cell_id) {\n",
       "                        if (nbb_cells[i].get_text() == nbb_unformatted_code) {\n",
       "                             nbb_cells[i].set_text(nbb_formatted_code);\n",
       "                        }\n",
       "                        break;\n",
       "                    }\n",
       "                }\n",
       "            }, 500);\n",
       "            "
      ],
      "text/plain": [
       "<IPython.core.display.Javascript object>"
      ]
     },
     "metadata": {},
     "output_type": "display_data"
    }
   ],
   "source": [
    "# df_sorted_topo_models_cols"
   ]
  },
  {
   "cell_type": "code",
   "execution_count": 169,
   "id": "7de64aba",
   "metadata": {},
   "outputs": [
    {
     "data": {
      "text/html": [
       "<div>\n",
       "<style scoped>\n",
       "    .dataframe tbody tr th:only-of-type {\n",
       "        vertical-align: middle;\n",
       "    }\n",
       "\n",
       "    .dataframe tbody tr th {\n",
       "        vertical-align: top;\n",
       "    }\n",
       "\n",
       "    .dataframe thead th {\n",
       "        text-align: right;\n",
       "    }\n",
       "</style>\n",
       "<table border=\"1\" class=\"dataframe\">\n",
       "  <thead>\n",
       "    <tr style=\"text-align: right;\">\n",
       "      <th></th>\n",
       "      <th>count</th>\n",
       "      <th>unique</th>\n",
       "      <th>top</th>\n",
       "      <th>freq</th>\n",
       "    </tr>\n",
       "    <tr>\n",
       "      <th>Model</th>\n",
       "      <th></th>\n",
       "      <th></th>\n",
       "      <th></th>\n",
       "      <th></th>\n",
       "    </tr>\n",
       "  </thead>\n",
       "  <tbody>\n",
       "    <tr>\n",
       "      <th>Linear Regression</th>\n",
       "      <td>1</td>\n",
       "      <td>1</td>\n",
       "      <td>intermediate_model</td>\n",
       "      <td>1</td>\n",
       "    </tr>\n",
       "    <tr>\n",
       "      <th>Neural Networks</th>\n",
       "      <td>16</td>\n",
       "      <td>3</td>\n",
       "      <td>intermediate_model</td>\n",
       "      <td>14</td>\n",
       "    </tr>\n",
       "    <tr>\n",
       "      <th>Trees</th>\n",
       "      <td>3</td>\n",
       "      <td>1</td>\n",
       "      <td>intermediate_model</td>\n",
       "      <td>3</td>\n",
       "    </tr>\n",
       "  </tbody>\n",
       "</table>\n",
       "</div>"
      ],
      "text/plain": [
       "                  count unique                 top freq\n",
       "Model                                                  \n",
       "Linear Regression     1      1  intermediate_model    1\n",
       "Neural Networks      16      3  intermediate_model   14\n",
       "Trees                 3      1  intermediate_model    3"
      ]
     },
     "execution_count": 169,
     "metadata": {},
     "output_type": "execute_result"
    },
    {
     "data": {
      "application/javascript": [
       "\n",
       "            setTimeout(function() {\n",
       "                var nbb_cell_id = 169;\n",
       "                var nbb_unformatted_code = \"df_sorted_topo_models_cols.groupby(\\\"Model\\\")[\\\"Classification\\\"].describe()\";\n",
       "                var nbb_formatted_code = \"df_sorted_topo_models_cols.groupby(\\\"Model\\\")[\\\"Classification\\\"].describe()\";\n",
       "                var nbb_cells = Jupyter.notebook.get_cells();\n",
       "                for (var i = 0; i < nbb_cells.length; ++i) {\n",
       "                    if (nbb_cells[i].input_prompt_number == nbb_cell_id) {\n",
       "                        if (nbb_cells[i].get_text() == nbb_unformatted_code) {\n",
       "                             nbb_cells[i].set_text(nbb_formatted_code);\n",
       "                        }\n",
       "                        break;\n",
       "                    }\n",
       "                }\n",
       "            }, 500);\n",
       "            "
      ],
      "text/plain": [
       "<IPython.core.display.Javascript object>"
      ]
     },
     "metadata": {},
     "output_type": "display_data"
    }
   ],
   "source": [
    "df_sorted_topo_models_cols.groupby(\"Model\")[\"Classification\"].describe()"
   ]
  },
  {
   "cell_type": "code",
   "execution_count": 170,
   "id": "d355fde3",
   "metadata": {
    "scrolled": true
   },
   "outputs": [
    {
     "data": {
      "text/plain": [
       "Model              Classification    \n",
       "Linear Regression  intermediate_model     1\n",
       "Neural Networks    intermediate_model    14\n",
       "                   dominant_model         1\n",
       "                   non_dominant_model     1\n",
       "Trees              intermediate_model     3\n",
       "Name: count, dtype: int64"
      ]
     },
     "execution_count": 170,
     "metadata": {},
     "output_type": "execute_result"
    },
    {
     "data": {
      "application/javascript": [
       "\n",
       "            setTimeout(function() {\n",
       "                var nbb_cell_id = 170;\n",
       "                var nbb_unformatted_code = \"df_sorted_topo_models_cols.groupby(\\\"Model\\\")[[\\\"Classification\\\"]].value_counts()\";\n",
       "                var nbb_formatted_code = \"df_sorted_topo_models_cols.groupby(\\\"Model\\\")[[\\\"Classification\\\"]].value_counts()\";\n",
       "                var nbb_cells = Jupyter.notebook.get_cells();\n",
       "                for (var i = 0; i < nbb_cells.length; ++i) {\n",
       "                    if (nbb_cells[i].input_prompt_number == nbb_cell_id) {\n",
       "                        if (nbb_cells[i].get_text() == nbb_unformatted_code) {\n",
       "                             nbb_cells[i].set_text(nbb_formatted_code);\n",
       "                        }\n",
       "                        break;\n",
       "                    }\n",
       "                }\n",
       "            }, 500);\n",
       "            "
      ],
      "text/plain": [
       "<IPython.core.display.Javascript object>"
      ]
     },
     "metadata": {},
     "output_type": "display_data"
    }
   ],
   "source": [
    "df_sorted_topo_models_cols.groupby(\"Model\")[[\"Classification\"]].value_counts()"
   ]
  },
  {
   "cell_type": "code",
   "execution_count": 171,
   "id": "24fdb7d5",
   "metadata": {
    "scrolled": true
   },
   "outputs": [
    {
     "data": {
      "application/javascript": [
       "\n",
       "            setTimeout(function() {\n",
       "                var nbb_cell_id = 171;\n",
       "                var nbb_unformatted_code = \"# df_sorted_topo_models_cols\";\n",
       "                var nbb_formatted_code = \"# df_sorted_topo_models_cols\";\n",
       "                var nbb_cells = Jupyter.notebook.get_cells();\n",
       "                for (var i = 0; i < nbb_cells.length; ++i) {\n",
       "                    if (nbb_cells[i].input_prompt_number == nbb_cell_id) {\n",
       "                        if (nbb_cells[i].get_text() == nbb_unformatted_code) {\n",
       "                             nbb_cells[i].set_text(nbb_formatted_code);\n",
       "                        }\n",
       "                        break;\n",
       "                    }\n",
       "                }\n",
       "            }, 500);\n",
       "            "
      ],
      "text/plain": [
       "<IPython.core.display.Javascript object>"
      ]
     },
     "metadata": {},
     "output_type": "display_data"
    }
   ],
   "source": [
    "# df_sorted_topo_models_cols"
   ]
  },
  {
   "cell_type": "code",
   "execution_count": 172,
   "id": "2a944df1",
   "metadata": {},
   "outputs": [
    {
     "data": {
      "application/javascript": [
       "\n",
       "            setTimeout(function() {\n",
       "                var nbb_cell_id = 172;\n",
       "                var nbb_unformatted_code = \"summary_stats = df_sorted_topo_models_cols.groupby(\\\"Model\\\").agg(\\n    Total_Models=(\\\"Model\\\", \\\"count\\\"),\\n    Mean_Dominance_Count=(\\\"Dominates_Count\\\", \\\"mean\\\"),\\n    Median_Dominance_Count=(\\\"Dominates_Count\\\", \\\"median\\\"),\\n    Total_Dominated=(\\\"Dominated_Count\\\", \\\"sum\\\"),\\n    Total_Dominating=(\\\"Dominates_Count\\\", \\\"sum\\\"),\\n)\\n\\ntotal_models = summary_stats[\\n    \\\"Total_Models\\\"\\n].sum()  # Get the total number of models across all categories\\nsummary_stats[\\\"Dominance Proportion\\\"] = summary_stats[\\\"Total_Dominating\\\"] / total_models\";\n",
       "                var nbb_formatted_code = \"summary_stats = df_sorted_topo_models_cols.groupby(\\\"Model\\\").agg(\\n    Total_Models=(\\\"Model\\\", \\\"count\\\"),\\n    Mean_Dominance_Count=(\\\"Dominates_Count\\\", \\\"mean\\\"),\\n    Median_Dominance_Count=(\\\"Dominates_Count\\\", \\\"median\\\"),\\n    Total_Dominated=(\\\"Dominated_Count\\\", \\\"sum\\\"),\\n    Total_Dominating=(\\\"Dominates_Count\\\", \\\"sum\\\"),\\n)\\n\\ntotal_models = summary_stats[\\n    \\\"Total_Models\\\"\\n].sum()  # Get the total number of models across all categories\\nsummary_stats[\\\"Dominance Proportion\\\"] = summary_stats[\\\"Total_Dominating\\\"] / total_models\";\n",
       "                var nbb_cells = Jupyter.notebook.get_cells();\n",
       "                for (var i = 0; i < nbb_cells.length; ++i) {\n",
       "                    if (nbb_cells[i].input_prompt_number == nbb_cell_id) {\n",
       "                        if (nbb_cells[i].get_text() == nbb_unformatted_code) {\n",
       "                             nbb_cells[i].set_text(nbb_formatted_code);\n",
       "                        }\n",
       "                        break;\n",
       "                    }\n",
       "                }\n",
       "            }, 500);\n",
       "            "
      ],
      "text/plain": [
       "<IPython.core.display.Javascript object>"
      ]
     },
     "metadata": {},
     "output_type": "display_data"
    }
   ],
   "source": [
    "summary_stats = df_sorted_topo_models_cols.groupby(\"Model\").agg(\n",
    "    Total_Models=(\"Model\", \"count\"),\n",
    "    Mean_Dominance_Count=(\"Dominates_Count\", \"mean\"),\n",
    "    Median_Dominance_Count=(\"Dominates_Count\", \"median\"),\n",
    "    Total_Dominated=(\"Dominated_Count\", \"sum\"),\n",
    "    Total_Dominating=(\"Dominates_Count\", \"sum\"),\n",
    ")\n",
    "\n",
    "total_models = summary_stats[\n",
    "    \"Total_Models\"\n",
    "].sum()  # Get the total number of models across all categories\n",
    "summary_stats[\"Dominance Proportion\"] = summary_stats[\"Total_Dominating\"] / total_models"
   ]
  },
  {
   "cell_type": "code",
   "execution_count": 173,
   "id": "f098a975",
   "metadata": {},
   "outputs": [
    {
     "data": {
      "text/html": [
       "<div>\n",
       "<style scoped>\n",
       "    .dataframe tbody tr th:only-of-type {\n",
       "        vertical-align: middle;\n",
       "    }\n",
       "\n",
       "    .dataframe tbody tr th {\n",
       "        vertical-align: top;\n",
       "    }\n",
       "\n",
       "    .dataframe thead th {\n",
       "        text-align: right;\n",
       "    }\n",
       "</style>\n",
       "<table border=\"1\" class=\"dataframe\">\n",
       "  <thead>\n",
       "    <tr style=\"text-align: right;\">\n",
       "      <th></th>\n",
       "      <th>Total_Models</th>\n",
       "      <th>Mean_Dominance_Count</th>\n",
       "      <th>Median_Dominance_Count</th>\n",
       "      <th>Total_Dominated</th>\n",
       "      <th>Total_Dominating</th>\n",
       "      <th>Dominance Proportion</th>\n",
       "    </tr>\n",
       "    <tr>\n",
       "      <th>Model</th>\n",
       "      <th></th>\n",
       "      <th></th>\n",
       "      <th></th>\n",
       "      <th></th>\n",
       "      <th></th>\n",
       "      <th></th>\n",
       "    </tr>\n",
       "  </thead>\n",
       "  <tbody>\n",
       "    <tr>\n",
       "      <th>Linear Regression</th>\n",
       "      <td>1</td>\n",
       "      <td>11.0000</td>\n",
       "      <td>11.0</td>\n",
       "      <td>5</td>\n",
       "      <td>11</td>\n",
       "      <td>0.55</td>\n",
       "    </tr>\n",
       "    <tr>\n",
       "      <th>Neural Networks</th>\n",
       "      <td>16</td>\n",
       "      <td>7.4375</td>\n",
       "      <td>7.0</td>\n",
       "      <td>162</td>\n",
       "      <td>119</td>\n",
       "      <td>5.95</td>\n",
       "    </tr>\n",
       "    <tr>\n",
       "      <th>Trees</th>\n",
       "      <td>3</td>\n",
       "      <td>15.0000</td>\n",
       "      <td>17.0</td>\n",
       "      <td>8</td>\n",
       "      <td>45</td>\n",
       "      <td>2.25</td>\n",
       "    </tr>\n",
       "  </tbody>\n",
       "</table>\n",
       "</div>"
      ],
      "text/plain": [
       "                   Total_Models  Mean_Dominance_Count  Median_Dominance_Count  \\\n",
       "Model                                                                           \n",
       "Linear Regression             1               11.0000                    11.0   \n",
       "Neural Networks              16                7.4375                     7.0   \n",
       "Trees                         3               15.0000                    17.0   \n",
       "\n",
       "                   Total_Dominated  Total_Dominating  Dominance Proportion  \n",
       "Model                                                                       \n",
       "Linear Regression                5                11                  0.55  \n",
       "Neural Networks                162               119                  5.95  \n",
       "Trees                            8                45                  2.25  "
      ]
     },
     "execution_count": 173,
     "metadata": {},
     "output_type": "execute_result"
    },
    {
     "data": {
      "application/javascript": [
       "\n",
       "            setTimeout(function() {\n",
       "                var nbb_cell_id = 173;\n",
       "                var nbb_unformatted_code = \"summary_stats\";\n",
       "                var nbb_formatted_code = \"summary_stats\";\n",
       "                var nbb_cells = Jupyter.notebook.get_cells();\n",
       "                for (var i = 0; i < nbb_cells.length; ++i) {\n",
       "                    if (nbb_cells[i].input_prompt_number == nbb_cell_id) {\n",
       "                        if (nbb_cells[i].get_text() == nbb_unformatted_code) {\n",
       "                             nbb_cells[i].set_text(nbb_formatted_code);\n",
       "                        }\n",
       "                        break;\n",
       "                    }\n",
       "                }\n",
       "            }, 500);\n",
       "            "
      ],
      "text/plain": [
       "<IPython.core.display.Javascript object>"
      ]
     },
     "metadata": {},
     "output_type": "display_data"
    }
   ],
   "source": [
    "summary_stats"
   ]
  },
  {
   "cell_type": "code",
   "execution_count": 174,
   "id": "a9eb49f0",
   "metadata": {},
   "outputs": [
    {
     "data": {
      "text/html": [
       "<div>\n",
       "<style scoped>\n",
       "    .dataframe tbody tr th:only-of-type {\n",
       "        vertical-align: middle;\n",
       "    }\n",
       "\n",
       "    .dataframe tbody tr th {\n",
       "        vertical-align: top;\n",
       "    }\n",
       "\n",
       "    .dataframe thead tr th {\n",
       "        text-align: left;\n",
       "    }\n",
       "\n",
       "    .dataframe thead tr:last-of-type th {\n",
       "        text-align: right;\n",
       "    }\n",
       "</style>\n",
       "<table border=\"1\" class=\"dataframe\">\n",
       "  <thead>\n",
       "    <tr>\n",
       "      <th></th>\n",
       "      <th colspan=\"8\" halign=\"left\">RMSE_mean</th>\n",
       "      <th colspan=\"2\" halign=\"left\">RMSE_std</th>\n",
       "      <th>...</th>\n",
       "      <th colspan=\"2\" halign=\"left\">Dominated_Count</th>\n",
       "      <th colspan=\"8\" halign=\"left\">Dominates_Count</th>\n",
       "    </tr>\n",
       "    <tr>\n",
       "      <th></th>\n",
       "      <th>count</th>\n",
       "      <th>mean</th>\n",
       "      <th>std</th>\n",
       "      <th>min</th>\n",
       "      <th>25%</th>\n",
       "      <th>50%</th>\n",
       "      <th>75%</th>\n",
       "      <th>max</th>\n",
       "      <th>count</th>\n",
       "      <th>mean</th>\n",
       "      <th>...</th>\n",
       "      <th>75%</th>\n",
       "      <th>max</th>\n",
       "      <th>count</th>\n",
       "      <th>mean</th>\n",
       "      <th>std</th>\n",
       "      <th>min</th>\n",
       "      <th>25%</th>\n",
       "      <th>50%</th>\n",
       "      <th>75%</th>\n",
       "      <th>max</th>\n",
       "    </tr>\n",
       "    <tr>\n",
       "      <th>Model</th>\n",
       "      <th></th>\n",
       "      <th></th>\n",
       "      <th></th>\n",
       "      <th></th>\n",
       "      <th></th>\n",
       "      <th></th>\n",
       "      <th></th>\n",
       "      <th></th>\n",
       "      <th></th>\n",
       "      <th></th>\n",
       "      <th></th>\n",
       "      <th></th>\n",
       "      <th></th>\n",
       "      <th></th>\n",
       "      <th></th>\n",
       "      <th></th>\n",
       "      <th></th>\n",
       "      <th></th>\n",
       "      <th></th>\n",
       "      <th></th>\n",
       "      <th></th>\n",
       "    </tr>\n",
       "  </thead>\n",
       "  <tbody>\n",
       "    <tr>\n",
       "      <th>Linear Regression</th>\n",
       "      <td>1.0</td>\n",
       "      <td>2.150860</td>\n",
       "      <td>NaN</td>\n",
       "      <td>2.150860</td>\n",
       "      <td>2.150860</td>\n",
       "      <td>2.150860</td>\n",
       "      <td>2.150860</td>\n",
       "      <td>2.150860</td>\n",
       "      <td>1.0</td>\n",
       "      <td>0.621980</td>\n",
       "      <td>...</td>\n",
       "      <td>5.00</td>\n",
       "      <td>5.0</td>\n",
       "      <td>1.0</td>\n",
       "      <td>11.0000</td>\n",
       "      <td>NaN</td>\n",
       "      <td>11.0</td>\n",
       "      <td>11.0</td>\n",
       "      <td>11.0</td>\n",
       "      <td>11.0</td>\n",
       "      <td>11.0</td>\n",
       "    </tr>\n",
       "    <tr>\n",
       "      <th>Neural Networks</th>\n",
       "      <td>16.0</td>\n",
       "      <td>2.881803</td>\n",
       "      <td>0.832540</td>\n",
       "      <td>1.537175</td>\n",
       "      <td>2.074038</td>\n",
       "      <td>3.038227</td>\n",
       "      <td>3.458874</td>\n",
       "      <td>4.459451</td>\n",
       "      <td>16.0</td>\n",
       "      <td>1.831552</td>\n",
       "      <td>...</td>\n",
       "      <td>13.75</td>\n",
       "      <td>19.0</td>\n",
       "      <td>16.0</td>\n",
       "      <td>7.4375</td>\n",
       "      <td>5.476845</td>\n",
       "      <td>0.0</td>\n",
       "      <td>3.5</td>\n",
       "      <td>7.0</td>\n",
       "      <td>11.5</td>\n",
       "      <td>19.0</td>\n",
       "    </tr>\n",
       "    <tr>\n",
       "      <th>Trees</th>\n",
       "      <td>3.0</td>\n",
       "      <td>1.897274</td>\n",
       "      <td>0.254925</td>\n",
       "      <td>1.690821</td>\n",
       "      <td>1.754804</td>\n",
       "      <td>1.818787</td>\n",
       "      <td>2.000500</td>\n",
       "      <td>2.182213</td>\n",
       "      <td>3.0</td>\n",
       "      <td>0.620186</td>\n",
       "      <td>...</td>\n",
       "      <td>3.50</td>\n",
       "      <td>6.0</td>\n",
       "      <td>3.0</td>\n",
       "      <td>15.0000</td>\n",
       "      <td>3.464102</td>\n",
       "      <td>11.0</td>\n",
       "      <td>14.0</td>\n",
       "      <td>17.0</td>\n",
       "      <td>17.0</td>\n",
       "      <td>17.0</td>\n",
       "    </tr>\n",
       "  </tbody>\n",
       "</table>\n",
       "<p>3 rows × 88 columns</p>\n",
       "</div>"
      ],
      "text/plain": [
       "                  RMSE_mean                                                    \\\n",
       "                      count      mean       std       min       25%       50%   \n",
       "Model                                                                           \n",
       "Linear Regression       1.0  2.150860       NaN  2.150860  2.150860  2.150860   \n",
       "Neural Networks        16.0  2.881803  0.832540  1.537175  2.074038  3.038227   \n",
       "Trees                   3.0  1.897274  0.254925  1.690821  1.754804  1.818787   \n",
       "\n",
       "                                      RMSE_std            ... Dominated_Count  \\\n",
       "                        75%       max    count      mean  ...             75%   \n",
       "Model                                                     ...                   \n",
       "Linear Regression  2.150860  2.150860      1.0  0.621980  ...            5.00   \n",
       "Neural Networks    3.458874  4.459451     16.0  1.831552  ...           13.75   \n",
       "Trees              2.000500  2.182213      3.0  0.620186  ...            3.50   \n",
       "\n",
       "                        Dominates_Count                                       \\\n",
       "                    max           count     mean       std   min   25%   50%   \n",
       "Model                                                                          \n",
       "Linear Regression   5.0             1.0  11.0000       NaN  11.0  11.0  11.0   \n",
       "Neural Networks    19.0            16.0   7.4375  5.476845   0.0   3.5   7.0   \n",
       "Trees               6.0             3.0  15.0000  3.464102  11.0  14.0  17.0   \n",
       "\n",
       "                               \n",
       "                    75%   max  \n",
       "Model                          \n",
       "Linear Regression  11.0  11.0  \n",
       "Neural Networks    11.5  19.0  \n",
       "Trees              17.0  17.0  \n",
       "\n",
       "[3 rows x 88 columns]"
      ]
     },
     "execution_count": 174,
     "metadata": {},
     "output_type": "execute_result"
    },
    {
     "data": {
      "application/javascript": [
       "\n",
       "            setTimeout(function() {\n",
       "                var nbb_cell_id = 174;\n",
       "                var nbb_unformatted_code = \"df_sorted_topo_models_grouped.T\";\n",
       "                var nbb_formatted_code = \"df_sorted_topo_models_grouped.T\";\n",
       "                var nbb_cells = Jupyter.notebook.get_cells();\n",
       "                for (var i = 0; i < nbb_cells.length; ++i) {\n",
       "                    if (nbb_cells[i].input_prompt_number == nbb_cell_id) {\n",
       "                        if (nbb_cells[i].get_text() == nbb_unformatted_code) {\n",
       "                             nbb_cells[i].set_text(nbb_formatted_code);\n",
       "                        }\n",
       "                        break;\n",
       "                    }\n",
       "                }\n",
       "            }, 500);\n",
       "            "
      ],
      "text/plain": [
       "<IPython.core.display.Javascript object>"
      ]
     },
     "metadata": {},
     "output_type": "display_data"
    }
   ],
   "source": [
    "df_sorted_topo_models_grouped.T"
   ]
  },
  {
   "cell_type": "markdown",
   "id": "966a077e",
   "metadata": {},
   "source": [
    "### SCPM Analysis"
   ]
  },
  {
   "cell_type": "code",
   "execution_count": 175,
   "id": "912d03c8",
   "metadata": {},
   "outputs": [
    {
     "data": {
      "application/javascript": [
       "\n",
       "            setTimeout(function() {\n",
       "                var nbb_cell_id = 175;\n",
       "                var nbb_unformatted_code = \"cols = [\\n    # \\\"Model\\\",\\n    # \\\"Model_bkp\\\",\\n    \\\"Model_bkp_2\\\",\\n    \\\"RMSE_mean\\\",\\n    \\\"RMSE_std\\\",\\n    \\\"MAE_mean\\\",\\n    \\\"MAE_std\\\",\\n    \\\"MAPE_mean\\\",\\n    \\\"MAPE_std\\\",\\n    \\\"R2_mean\\\",\\n    \\\"R2_std\\\",\\n    \\\"SCPM\\\",\\n    \\\"Dominated_Count\\\",\\n    \\\"Dominates_Count\\\",\\n    \\\"Classification\\\",\\n    \\\"Plant\\\",\\n]\";\n",
       "                var nbb_formatted_code = \"cols = [\\n    # \\\"Model\\\",\\n    # \\\"Model_bkp\\\",\\n    \\\"Model_bkp_2\\\",\\n    \\\"RMSE_mean\\\",\\n    \\\"RMSE_std\\\",\\n    \\\"MAE_mean\\\",\\n    \\\"MAE_std\\\",\\n    \\\"MAPE_mean\\\",\\n    \\\"MAPE_std\\\",\\n    \\\"R2_mean\\\",\\n    \\\"R2_std\\\",\\n    \\\"SCPM\\\",\\n    \\\"Dominated_Count\\\",\\n    \\\"Dominates_Count\\\",\\n    \\\"Classification\\\",\\n    \\\"Plant\\\",\\n]\";\n",
       "                var nbb_cells = Jupyter.notebook.get_cells();\n",
       "                for (var i = 0; i < nbb_cells.length; ++i) {\n",
       "                    if (nbb_cells[i].input_prompt_number == nbb_cell_id) {\n",
       "                        if (nbb_cells[i].get_text() == nbb_unformatted_code) {\n",
       "                             nbb_cells[i].set_text(nbb_formatted_code);\n",
       "                        }\n",
       "                        break;\n",
       "                    }\n",
       "                }\n",
       "            }, 500);\n",
       "            "
      ],
      "text/plain": [
       "<IPython.core.display.Javascript object>"
      ]
     },
     "metadata": {},
     "output_type": "display_data"
    }
   ],
   "source": [
    "cols = [\n",
    "    # \"Model\",\n",
    "    # \"Model_bkp\",\n",
    "    \"Model_bkp_2\",\n",
    "    \"RMSE_mean\",\n",
    "    \"RMSE_std\",\n",
    "    \"MAE_mean\",\n",
    "    \"MAE_std\",\n",
    "    \"MAPE_mean\",\n",
    "    \"MAPE_std\",\n",
    "    \"R2_mean\",\n",
    "    \"R2_std\",\n",
    "    \"SCPM\",\n",
    "    \"Dominated_Count\",\n",
    "    \"Dominates_Count\",\n",
    "    \"Classification\",\n",
    "    \"Plant\",\n",
    "]"
   ]
  },
  {
   "cell_type": "markdown",
   "id": "a6ba0a7a",
   "metadata": {},
   "source": [
    "#### SCPM Analysis by Project"
   ]
  },
  {
   "cell_type": "code",
   "execution_count": 176,
   "id": "7e57207b",
   "metadata": {},
   "outputs": [
    {
     "data": {
      "application/javascript": [
       "\n",
       "            setTimeout(function() {\n",
       "                var nbb_cell_id = 176;\n",
       "                var nbb_unformatted_code = \"df_sorted_scpm = df_sorted_topo.sort_values(by=\\\"SCPM\\\").copy()\";\n",
       "                var nbb_formatted_code = \"df_sorted_scpm = df_sorted_topo.sort_values(by=\\\"SCPM\\\").copy()\";\n",
       "                var nbb_cells = Jupyter.notebook.get_cells();\n",
       "                for (var i = 0; i < nbb_cells.length; ++i) {\n",
       "                    if (nbb_cells[i].input_prompt_number == nbb_cell_id) {\n",
       "                        if (nbb_cells[i].get_text() == nbb_unformatted_code) {\n",
       "                             nbb_cells[i].set_text(nbb_formatted_code);\n",
       "                        }\n",
       "                        break;\n",
       "                    }\n",
       "                }\n",
       "            }, 500);\n",
       "            "
      ],
      "text/plain": [
       "<IPython.core.display.Javascript object>"
      ]
     },
     "metadata": {},
     "output_type": "display_data"
    }
   ],
   "source": [
    "df_sorted_scpm = df_sorted_topo.sort_values(by=\"SCPM\").copy()"
   ]
  },
  {
   "cell_type": "code",
   "execution_count": 177,
   "id": "afb8e271",
   "metadata": {
    "scrolled": false
   },
   "outputs": [
    {
     "data": {
      "application/javascript": [
       "\n",
       "            setTimeout(function() {\n",
       "                var nbb_cell_id = 177;\n",
       "                var nbb_unformatted_code = \"# (df_sorted_topo[cols].reset_index() == df_sorted_scpm[cols].reset_index()).all(axis=1)\\ndf_sorted_scpm[\\\"topo_scmp_order_eq\\\"] = df_sorted_topo.index == df_sorted_scpm.index\";\n",
       "                var nbb_formatted_code = \"# (df_sorted_topo[cols].reset_index() == df_sorted_scpm[cols].reset_index()).all(axis=1)\\ndf_sorted_scpm[\\\"topo_scmp_order_eq\\\"] = df_sorted_topo.index == df_sorted_scpm.index\";\n",
       "                var nbb_cells = Jupyter.notebook.get_cells();\n",
       "                for (var i = 0; i < nbb_cells.length; ++i) {\n",
       "                    if (nbb_cells[i].input_prompt_number == nbb_cell_id) {\n",
       "                        if (nbb_cells[i].get_text() == nbb_unformatted_code) {\n",
       "                             nbb_cells[i].set_text(nbb_formatted_code);\n",
       "                        }\n",
       "                        break;\n",
       "                    }\n",
       "                }\n",
       "            }, 500);\n",
       "            "
      ],
      "text/plain": [
       "<IPython.core.display.Javascript object>"
      ]
     },
     "metadata": {},
     "output_type": "display_data"
    }
   ],
   "source": [
    "# (df_sorted_topo[cols].reset_index() == df_sorted_scpm[cols].reset_index()).all(axis=1)\n",
    "df_sorted_scpm[\"topo_scmp_order_eq\"] = df_sorted_topo.index == df_sorted_scpm.index"
   ]
  },
  {
   "cell_type": "code",
   "execution_count": 178,
   "id": "587d30b8",
   "metadata": {
    "scrolled": false
   },
   "outputs": [
    {
     "data": {
      "text/html": [
       "<div>\n",
       "<style scoped>\n",
       "    .dataframe tbody tr th:only-of-type {\n",
       "        vertical-align: middle;\n",
       "    }\n",
       "\n",
       "    .dataframe tbody tr th {\n",
       "        vertical-align: top;\n",
       "    }\n",
       "\n",
       "    .dataframe thead th {\n",
       "        text-align: right;\n",
       "    }\n",
       "</style>\n",
       "<table border=\"1\" class=\"dataframe\">\n",
       "  <thead>\n",
       "    <tr style=\"text-align: right;\">\n",
       "      <th></th>\n",
       "      <th>Model_bkp_2</th>\n",
       "      <th>RMSE_mean</th>\n",
       "      <th>RMSE_std</th>\n",
       "      <th>MAE_mean</th>\n",
       "      <th>MAE_std</th>\n",
       "      <th>MAPE_mean</th>\n",
       "      <th>MAPE_std</th>\n",
       "      <th>R2_mean</th>\n",
       "      <th>R2_std</th>\n",
       "      <th>SCPM</th>\n",
       "      <th>Dominated_Count</th>\n",
       "      <th>Dominates_Count</th>\n",
       "      <th>Classification</th>\n",
       "      <th>Plant</th>\n",
       "      <th>topo_scmp_order_eq</th>\n",
       "    </tr>\n",
       "  </thead>\n",
       "  <tbody>\n",
       "    <tr>\n",
       "      <th>0</th>\n",
       "      <td>Transformer_1.0</td>\n",
       "      <td>1.54</td>\n",
       "      <td>0.47</td>\n",
       "      <td>1.06</td>\n",
       "      <td>0.22</td>\n",
       "      <td>2.49</td>\n",
       "      <td>0.54</td>\n",
       "      <td>0.93</td>\n",
       "      <td>0.04</td>\n",
       "      <td>-5.02</td>\n",
       "      <td>0</td>\n",
       "      <td>19</td>\n",
       "      <td>dominant_model</td>\n",
       "      <td>c</td>\n",
       "      <td>True</td>\n",
       "    </tr>\n",
       "    <tr>\n",
       "      <th>13</th>\n",
       "      <td>Random Forest</td>\n",
       "      <td>1.69</td>\n",
       "      <td>0.60</td>\n",
       "      <td>1.07</td>\n",
       "      <td>0.35</td>\n",
       "      <td>2.51</td>\n",
       "      <td>0.74</td>\n",
       "      <td>0.91</td>\n",
       "      <td>0.05</td>\n",
       "      <td>-4.74</td>\n",
       "      <td>1</td>\n",
       "      <td>17</td>\n",
       "      <td>intermediate_model</td>\n",
       "      <td>c</td>\n",
       "      <td>True</td>\n",
       "    </tr>\n",
       "    <tr>\n",
       "      <th>16</th>\n",
       "      <td>Decision Tree</td>\n",
       "      <td>1.82</td>\n",
       "      <td>0.59</td>\n",
       "      <td>1.06</td>\n",
       "      <td>0.19</td>\n",
       "      <td>2.52</td>\n",
       "      <td>0.42</td>\n",
       "      <td>0.90</td>\n",
       "      <td>0.06</td>\n",
       "      <td>-4.55</td>\n",
       "      <td>1</td>\n",
       "      <td>17</td>\n",
       "      <td>intermediate_model</td>\n",
       "      <td>c</td>\n",
       "      <td>True</td>\n",
       "    </tr>\n",
       "    <tr>\n",
       "      <th>1</th>\n",
       "      <td>Transformer_7.0</td>\n",
       "      <td>1.89</td>\n",
       "      <td>1.27</td>\n",
       "      <td>1.29</td>\n",
       "      <td>0.66</td>\n",
       "      <td>3.31</td>\n",
       "      <td>2.07</td>\n",
       "      <td>0.86</td>\n",
       "      <td>0.19</td>\n",
       "      <td>-3.62</td>\n",
       "      <td>3</td>\n",
       "      <td>13</td>\n",
       "      <td>intermediate_model</td>\n",
       "      <td>c</td>\n",
       "      <td>True</td>\n",
       "    </tr>\n",
       "    <tr>\n",
       "      <th>3</th>\n",
       "      <td>BidirectionalGRU_1.0</td>\n",
       "      <td>1.95</td>\n",
       "      <td>0.53</td>\n",
       "      <td>1.46</td>\n",
       "      <td>0.37</td>\n",
       "      <td>3.42</td>\n",
       "      <td>0.90</td>\n",
       "      <td>0.89</td>\n",
       "      <td>0.05</td>\n",
       "      <td>-3.38</td>\n",
       "      <td>3</td>\n",
       "      <td>14</td>\n",
       "      <td>intermediate_model</td>\n",
       "      <td>c</td>\n",
       "      <td>True</td>\n",
       "    </tr>\n",
       "  </tbody>\n",
       "</table>\n",
       "</div>"
      ],
      "text/plain": [
       "             Model_bkp_2  RMSE_mean  RMSE_std  MAE_mean  MAE_std  MAPE_mean  \\\n",
       "0        Transformer_1.0       1.54      0.47      1.06     0.22       2.49   \n",
       "13         Random Forest       1.69      0.60      1.07     0.35       2.51   \n",
       "16         Decision Tree       1.82      0.59      1.06     0.19       2.52   \n",
       "1        Transformer_7.0       1.89      1.27      1.29     0.66       3.31   \n",
       "3   BidirectionalGRU_1.0       1.95      0.53      1.46     0.37       3.42   \n",
       "\n",
       "    MAPE_std  R2_mean  R2_std  SCPM  Dominated_Count  Dominates_Count  \\\n",
       "0       0.54     0.93    0.04 -5.02                0               19   \n",
       "13      0.74     0.91    0.05 -4.74                1               17   \n",
       "16      0.42     0.90    0.06 -4.55                1               17   \n",
       "1       2.07     0.86    0.19 -3.62                3               13   \n",
       "3       0.90     0.89    0.05 -3.38                3               14   \n",
       "\n",
       "        Classification Plant  topo_scmp_order_eq  \n",
       "0       dominant_model     c                True  \n",
       "13  intermediate_model     c                True  \n",
       "16  intermediate_model     c                True  \n",
       "1   intermediate_model     c                True  \n",
       "3   intermediate_model     c                True  "
      ]
     },
     "execution_count": 178,
     "metadata": {},
     "output_type": "execute_result"
    },
    {
     "data": {
      "application/javascript": [
       "\n",
       "            setTimeout(function() {\n",
       "                var nbb_cell_id = 178;\n",
       "                var nbb_unformatted_code = \"df_sorted_scpm[cols + [\\\"topo_scmp_order_eq\\\"]].round(2).head(5)\";\n",
       "                var nbb_formatted_code = \"df_sorted_scpm[cols + [\\\"topo_scmp_order_eq\\\"]].round(2).head(5)\";\n",
       "                var nbb_cells = Jupyter.notebook.get_cells();\n",
       "                for (var i = 0; i < nbb_cells.length; ++i) {\n",
       "                    if (nbb_cells[i].input_prompt_number == nbb_cell_id) {\n",
       "                        if (nbb_cells[i].get_text() == nbb_unformatted_code) {\n",
       "                             nbb_cells[i].set_text(nbb_formatted_code);\n",
       "                        }\n",
       "                        break;\n",
       "                    }\n",
       "                }\n",
       "            }, 500);\n",
       "            "
      ],
      "text/plain": [
       "<IPython.core.display.Javascript object>"
      ]
     },
     "metadata": {},
     "output_type": "display_data"
    }
   ],
   "source": [
    "df_sorted_scpm[cols + [\"topo_scmp_order_eq\"]].round(2).head(5)"
   ]
  },
  {
   "cell_type": "markdown",
   "id": "8f695778",
   "metadata": {},
   "source": [
    "### Time Series Split"
   ]
  },
  {
   "cell_type": "code",
   "execution_count": 179,
   "id": "7f07f874",
   "metadata": {},
   "outputs": [
    {
     "data": {
      "text/plain": [
       "array(['Blocking Time Series Split', 'Time Series Split'], dtype=object)"
      ]
     },
     "execution_count": 179,
     "metadata": {},
     "output_type": "execute_result"
    },
    {
     "data": {
      "application/javascript": [
       "\n",
       "            setTimeout(function() {\n",
       "                var nbb_cell_id = 179;\n",
       "                var nbb_unformatted_code = \"df_results_cm[\\\"Cross Validation\\\"].unique()\";\n",
       "                var nbb_formatted_code = \"df_results_cm[\\\"Cross Validation\\\"].unique()\";\n",
       "                var nbb_cells = Jupyter.notebook.get_cells();\n",
       "                for (var i = 0; i < nbb_cells.length; ++i) {\n",
       "                    if (nbb_cells[i].input_prompt_number == nbb_cell_id) {\n",
       "                        if (nbb_cells[i].get_text() == nbb_unformatted_code) {\n",
       "                             nbb_cells[i].set_text(nbb_formatted_code);\n",
       "                        }\n",
       "                        break;\n",
       "                    }\n",
       "                }\n",
       "            }, 500);\n",
       "            "
      ],
      "text/plain": [
       "<IPython.core.display.Javascript object>"
      ]
     },
     "metadata": {},
     "output_type": "display_data"
    }
   ],
   "source": [
    "df_results_cm[\"Cross Validation\"].unique()"
   ]
  },
  {
   "cell_type": "code",
   "execution_count": 180,
   "id": "80687541",
   "metadata": {},
   "outputs": [
    {
     "data": {
      "application/javascript": [
       "\n",
       "            setTimeout(function() {\n",
       "                var nbb_cell_id = 180;\n",
       "                var nbb_unformatted_code = \"df_results_cm_tss = (\\n    df_results_cm[df_results_cm[\\\"Cross Validation\\\"].eq(\\\"Time Series Split\\\")]\\n    .copy()\\n    .reset_index(drop=True)\\n)\";\n",
       "                var nbb_formatted_code = \"df_results_cm_tss = (\\n    df_results_cm[df_results_cm[\\\"Cross Validation\\\"].eq(\\\"Time Series Split\\\")]\\n    .copy()\\n    .reset_index(drop=True)\\n)\";\n",
       "                var nbb_cells = Jupyter.notebook.get_cells();\n",
       "                for (var i = 0; i < nbb_cells.length; ++i) {\n",
       "                    if (nbb_cells[i].input_prompt_number == nbb_cell_id) {\n",
       "                        if (nbb_cells[i].get_text() == nbb_unformatted_code) {\n",
       "                             nbb_cells[i].set_text(nbb_formatted_code);\n",
       "                        }\n",
       "                        break;\n",
       "                    }\n",
       "                }\n",
       "            }, 500);\n",
       "            "
      ],
      "text/plain": [
       "<IPython.core.display.Javascript object>"
      ]
     },
     "metadata": {},
     "output_type": "display_data"
    }
   ],
   "source": [
    "df_results_cm_tss = (\n",
    "    df_results_cm[df_results_cm[\"Cross Validation\"].eq(\"Time Series Split\")]\n",
    "    .copy()\n",
    "    .reset_index(drop=True)\n",
    ")"
   ]
  },
  {
   "cell_type": "code",
   "execution_count": 181,
   "id": "141da11c",
   "metadata": {},
   "outputs": [
    {
     "data": {
      "text/plain": [
       "array(['Time Series Split'], dtype=object)"
      ]
     },
     "execution_count": 181,
     "metadata": {},
     "output_type": "execute_result"
    },
    {
     "data": {
      "application/javascript": [
       "\n",
       "            setTimeout(function() {\n",
       "                var nbb_cell_id = 181;\n",
       "                var nbb_unformatted_code = \"df_results_cm_tss[\\\"Cross Validation\\\"].unique()\";\n",
       "                var nbb_formatted_code = \"df_results_cm_tss[\\\"Cross Validation\\\"].unique()\";\n",
       "                var nbb_cells = Jupyter.notebook.get_cells();\n",
       "                for (var i = 0; i < nbb_cells.length; ++i) {\n",
       "                    if (nbb_cells[i].input_prompt_number == nbb_cell_id) {\n",
       "                        if (nbb_cells[i].get_text() == nbb_unformatted_code) {\n",
       "                             nbb_cells[i].set_text(nbb_formatted_code);\n",
       "                        }\n",
       "                        break;\n",
       "                    }\n",
       "                }\n",
       "            }, 500);\n",
       "            "
      ],
      "text/plain": [
       "<IPython.core.display.Javascript object>"
      ]
     },
     "metadata": {},
     "output_type": "display_data"
    }
   ],
   "source": [
    "df_results_cm_tss[\"Cross Validation\"].unique()"
   ]
  },
  {
   "cell_type": "code",
   "execution_count": 182,
   "id": "6877ec1d",
   "metadata": {},
   "outputs": [
    {
     "data": {
      "text/plain": [
       "(20, 17)"
      ]
     },
     "execution_count": 182,
     "metadata": {},
     "output_type": "execute_result"
    },
    {
     "data": {
      "application/javascript": [
       "\n",
       "            setTimeout(function() {\n",
       "                var nbb_cell_id = 182;\n",
       "                var nbb_unformatted_code = \"df_results_cm_tss.shape\";\n",
       "                var nbb_formatted_code = \"df_results_cm_tss.shape\";\n",
       "                var nbb_cells = Jupyter.notebook.get_cells();\n",
       "                for (var i = 0; i < nbb_cells.length; ++i) {\n",
       "                    if (nbb_cells[i].input_prompt_number == nbb_cell_id) {\n",
       "                        if (nbb_cells[i].get_text() == nbb_unformatted_code) {\n",
       "                             nbb_cells[i].set_text(nbb_formatted_code);\n",
       "                        }\n",
       "                        break;\n",
       "                    }\n",
       "                }\n",
       "            }, 500);\n",
       "            "
      ],
      "text/plain": [
       "<IPython.core.display.Javascript object>"
      ]
     },
     "metadata": {},
     "output_type": "display_data"
    }
   ],
   "source": [
    "df_results_cm_tss.shape"
   ]
  },
  {
   "cell_type": "markdown",
   "id": "f51f4f3b",
   "metadata": {},
   "source": [
    "###### SCPM computation"
   ]
  },
  {
   "cell_type": "code",
   "execution_count": 183,
   "id": "32eb2b11",
   "metadata": {},
   "outputs": [
    {
     "data": {
      "application/javascript": [
       "\n",
       "            setTimeout(function() {\n",
       "                var nbb_cell_id = 183;\n",
       "                var nbb_unformatted_code = \"df_results_cm_tss = compute_scpm(df_results_cm_tss)\";\n",
       "                var nbb_formatted_code = \"df_results_cm_tss = compute_scpm(df_results_cm_tss)\";\n",
       "                var nbb_cells = Jupyter.notebook.get_cells();\n",
       "                for (var i = 0; i < nbb_cells.length; ++i) {\n",
       "                    if (nbb_cells[i].input_prompt_number == nbb_cell_id) {\n",
       "                        if (nbb_cells[i].get_text() == nbb_unformatted_code) {\n",
       "                             nbb_cells[i].set_text(nbb_formatted_code);\n",
       "                        }\n",
       "                        break;\n",
       "                    }\n",
       "                }\n",
       "            }, 500);\n",
       "            "
      ],
      "text/plain": [
       "<IPython.core.display.Javascript object>"
      ]
     },
     "metadata": {},
     "output_type": "display_data"
    }
   ],
   "source": [
    "df_results_cm_tss = compute_scpm(df_results_cm_tss)"
   ]
  },
  {
   "cell_type": "markdown",
   "id": "f4165f1d",
   "metadata": {},
   "source": [
    "##### Dominance Analysis"
   ]
  },
  {
   "cell_type": "code",
   "execution_count": 184,
   "id": "35c6695b",
   "metadata": {},
   "outputs": [
    {
     "data": {
      "application/javascript": [
       "\n",
       "            setTimeout(function() {\n",
       "                var nbb_cell_id = 184;\n",
       "                var nbb_unformatted_code = \"# Per project\\ndominance_dict = make_dominance_analysis(df_results_cm_tss)\\ndominance_matrix_cm_tss = dominance_dict[\\\"dominance_matrix\\\"]\\ndominance_graph_cm_tss = dominance_dict[\\\"dominance_graph\\\"]\\ndf_sorted_count = dominance_dict[\\\"df_sorted_count\\\"]\\ndf_sorted_topo = dominance_dict[\\\"df_sorted_topo\\\"]\";\n",
       "                var nbb_formatted_code = \"# Per project\\ndominance_dict = make_dominance_analysis(df_results_cm_tss)\\ndominance_matrix_cm_tss = dominance_dict[\\\"dominance_matrix\\\"]\\ndominance_graph_cm_tss = dominance_dict[\\\"dominance_graph\\\"]\\ndf_sorted_count = dominance_dict[\\\"df_sorted_count\\\"]\\ndf_sorted_topo = dominance_dict[\\\"df_sorted_topo\\\"]\";\n",
       "                var nbb_cells = Jupyter.notebook.get_cells();\n",
       "                for (var i = 0; i < nbb_cells.length; ++i) {\n",
       "                    if (nbb_cells[i].input_prompt_number == nbb_cell_id) {\n",
       "                        if (nbb_cells[i].get_text() == nbb_unformatted_code) {\n",
       "                             nbb_cells[i].set_text(nbb_formatted_code);\n",
       "                        }\n",
       "                        break;\n",
       "                    }\n",
       "                }\n",
       "            }, 500);\n",
       "            "
      ],
      "text/plain": [
       "<IPython.core.display.Javascript object>"
      ]
     },
     "metadata": {},
     "output_type": "display_data"
    }
   ],
   "source": [
    "# Per project\n",
    "dominance_dict = make_dominance_analysis(df_results_cm_tss)\n",
    "dominance_matrix_cm_tss = dominance_dict[\"dominance_matrix\"]\n",
    "dominance_graph_cm_tss = dominance_dict[\"dominance_graph\"]\n",
    "df_sorted_count = dominance_dict[\"df_sorted_count\"]\n",
    "df_sorted_topo = dominance_dict[\"df_sorted_topo\"]"
   ]
  },
  {
   "cell_type": "code",
   "execution_count": 185,
   "id": "0ca83cca",
   "metadata": {},
   "outputs": [
    {
     "data": {
      "text/plain": [
       "((20, 20), 20)"
      ]
     },
     "execution_count": 185,
     "metadata": {},
     "output_type": "execute_result"
    },
    {
     "data": {
      "application/javascript": [
       "\n",
       "            setTimeout(function() {\n",
       "                var nbb_cell_id = 185;\n",
       "                var nbb_unformatted_code = \"dominance_matrix_cm_tss.shape, len(dominance_graph_cm_tss)\";\n",
       "                var nbb_formatted_code = \"dominance_matrix_cm_tss.shape, len(dominance_graph_cm_tss)\";\n",
       "                var nbb_cells = Jupyter.notebook.get_cells();\n",
       "                for (var i = 0; i < nbb_cells.length; ++i) {\n",
       "                    if (nbb_cells[i].input_prompt_number == nbb_cell_id) {\n",
       "                        if (nbb_cells[i].get_text() == nbb_unformatted_code) {\n",
       "                             nbb_cells[i].set_text(nbb_formatted_code);\n",
       "                        }\n",
       "                        break;\n",
       "                    }\n",
       "                }\n",
       "            }, 500);\n",
       "            "
      ],
      "text/plain": [
       "<IPython.core.display.Javascript object>"
      ]
     },
     "metadata": {},
     "output_type": "display_data"
    }
   ],
   "source": [
    "dominance_matrix_cm_tss.shape, len(dominance_graph_cm_tss)"
   ]
  },
  {
   "cell_type": "code",
   "execution_count": 186,
   "id": "852bb392",
   "metadata": {},
   "outputs": [
    {
     "data": {
      "text/plain": [
       "Classification\n",
       "intermediate_model    16\n",
       "dominant_model         3\n",
       "non_dominant_model     1\n",
       "Name: count, dtype: int64"
      ]
     },
     "execution_count": 186,
     "metadata": {},
     "output_type": "execute_result"
    },
    {
     "data": {
      "application/javascript": [
       "\n",
       "            setTimeout(function() {\n",
       "                var nbb_cell_id = 186;\n",
       "                var nbb_unformatted_code = \"df_sorted_topo[\\\"Classification\\\"].value_counts()\";\n",
       "                var nbb_formatted_code = \"df_sorted_topo[\\\"Classification\\\"].value_counts()\";\n",
       "                var nbb_cells = Jupyter.notebook.get_cells();\n",
       "                for (var i = 0; i < nbb_cells.length; ++i) {\n",
       "                    if (nbb_cells[i].input_prompt_number == nbb_cell_id) {\n",
       "                        if (nbb_cells[i].get_text() == nbb_unformatted_code) {\n",
       "                             nbb_cells[i].set_text(nbb_formatted_code);\n",
       "                        }\n",
       "                        break;\n",
       "                    }\n",
       "                }\n",
       "            }, 500);\n",
       "            "
      ],
      "text/plain": [
       "<IPython.core.display.Javascript object>"
      ]
     },
     "metadata": {},
     "output_type": "display_data"
    }
   ],
   "source": [
    "df_sorted_topo[\"Classification\"].value_counts()"
   ]
  },
  {
   "cell_type": "code",
   "execution_count": 187,
   "id": "a00ac4b5",
   "metadata": {
    "scrolled": false
   },
   "outputs": [
    {
     "data": {
      "application/javascript": [
       "\n",
       "            setTimeout(function() {\n",
       "                var nbb_cell_id = 187;\n",
       "                var nbb_unformatted_code = \"df_sorted_topo.to_csv(\\n    \\\"../../../../reports/results/local_models/ecics/203_c_dominance_analysis_cm_tss.csv\\\",\\n    index=False,\\n)\";\n",
       "                var nbb_formatted_code = \"df_sorted_topo.to_csv(\\n    \\\"../../../../reports/results/local_models/ecics/203_c_dominance_analysis_cm_tss.csv\\\",\\n    index=False,\\n)\";\n",
       "                var nbb_cells = Jupyter.notebook.get_cells();\n",
       "                for (var i = 0; i < nbb_cells.length; ++i) {\n",
       "                    if (nbb_cells[i].input_prompt_number == nbb_cell_id) {\n",
       "                        if (nbb_cells[i].get_text() == nbb_unformatted_code) {\n",
       "                             nbb_cells[i].set_text(nbb_formatted_code);\n",
       "                        }\n",
       "                        break;\n",
       "                    }\n",
       "                }\n",
       "            }, 500);\n",
       "            "
      ],
      "text/plain": [
       "<IPython.core.display.Javascript object>"
      ]
     },
     "metadata": {},
     "output_type": "display_data"
    }
   ],
   "source": [
    "df_sorted_topo.to_csv(\n",
    "    \"../../../../reports/results/local_models/ecics/203_c_dominance_analysis_cm_tss.csv\",\n",
    "    index=False,\n",
    ")"
   ]
  },
  {
   "cell_type": "code",
   "execution_count": 188,
   "id": "53f31d1d",
   "metadata": {},
   "outputs": [
    {
     "data": {
      "text/html": [
       "<div>\n",
       "<style scoped>\n",
       "    .dataframe tbody tr th:only-of-type {\n",
       "        vertical-align: middle;\n",
       "    }\n",
       "\n",
       "    .dataframe tbody tr th {\n",
       "        vertical-align: top;\n",
       "    }\n",
       "\n",
       "    .dataframe thead th {\n",
       "        text-align: right;\n",
       "    }\n",
       "</style>\n",
       "<table border=\"1\" class=\"dataframe\">\n",
       "  <thead>\n",
       "    <tr style=\"text-align: right;\">\n",
       "      <th></th>\n",
       "      <th>Company</th>\n",
       "      <th>Plant</th>\n",
       "      <th>Cross Validation</th>\n",
       "      <th>Features</th>\n",
       "      <th>Features_bkp</th>\n",
       "      <th>Model</th>\n",
       "      <th>Model_bkp</th>\n",
       "      <th>Model_bkp_2</th>\n",
       "      <th>Timesteps</th>\n",
       "      <th>RMSE_mean</th>\n",
       "      <th>...</th>\n",
       "      <th>MAPE_mean</th>\n",
       "      <th>R2_mean</th>\n",
       "      <th>RMSE_std</th>\n",
       "      <th>MAE_std</th>\n",
       "      <th>MAPE_std</th>\n",
       "      <th>R2_std</th>\n",
       "      <th>SCPM</th>\n",
       "      <th>Dominated_Count</th>\n",
       "      <th>Classification</th>\n",
       "      <th>Dominates_Count</th>\n",
       "    </tr>\n",
       "  </thead>\n",
       "  <tbody>\n",
       "    <tr>\n",
       "      <th>1</th>\n",
       "      <td>203</td>\n",
       "      <td>c</td>\n",
       "      <td>Time Series Split</td>\n",
       "      <td>Chemical + Mineralogical</td>\n",
       "      <td>Chemical</td>\n",
       "      <td>Neural Networks</td>\n",
       "      <td>Transformer</td>\n",
       "      <td>Transformer_7.0</td>\n",
       "      <td>7.0</td>\n",
       "      <td>2.374921</td>\n",
       "      <td>...</td>\n",
       "      <td>4.081860</td>\n",
       "      <td>0.829885</td>\n",
       "      <td>0.446533</td>\n",
       "      <td>0.265232</td>\n",
       "      <td>0.617194</td>\n",
       "      <td>0.060037</td>\n",
       "      <td>-4.372614</td>\n",
       "      <td>0</td>\n",
       "      <td>dominant_model</td>\n",
       "      <td>16</td>\n",
       "    </tr>\n",
       "    <tr>\n",
       "      <th>13</th>\n",
       "      <td>203</td>\n",
       "      <td>c</td>\n",
       "      <td>Time Series Split</td>\n",
       "      <td>Chemical + Mineralogical</td>\n",
       "      <td>Chemical</td>\n",
       "      <td>Trees</td>\n",
       "      <td>Random Forest</td>\n",
       "      <td>Random Forest</td>\n",
       "      <td>NaN</td>\n",
       "      <td>2.469346</td>\n",
       "      <td>...</td>\n",
       "      <td>3.743004</td>\n",
       "      <td>0.808014</td>\n",
       "      <td>0.831938</td>\n",
       "      <td>0.538519</td>\n",
       "      <td>1.177852</td>\n",
       "      <td>0.120594</td>\n",
       "      <td>-4.813562</td>\n",
       "      <td>0</td>\n",
       "      <td>dominant_model</td>\n",
       "      <td>17</td>\n",
       "    </tr>\n",
       "    <tr>\n",
       "      <th>16</th>\n",
       "      <td>203</td>\n",
       "      <td>c</td>\n",
       "      <td>Time Series Split</td>\n",
       "      <td>Chemical + Mineralogical</td>\n",
       "      <td>Chemical</td>\n",
       "      <td>Trees</td>\n",
       "      <td>Decision Tree</td>\n",
       "      <td>Decision Tree</td>\n",
       "      <td>NaN</td>\n",
       "      <td>2.613836</td>\n",
       "      <td>...</td>\n",
       "      <td>3.471669</td>\n",
       "      <td>0.781673</td>\n",
       "      <td>0.997199</td>\n",
       "      <td>0.504591</td>\n",
       "      <td>1.067576</td>\n",
       "      <td>0.151227</td>\n",
       "      <td>-5.218253</td>\n",
       "      <td>0</td>\n",
       "      <td>dominant_model</td>\n",
       "      <td>15</td>\n",
       "    </tr>\n",
       "    <tr>\n",
       "      <th>0</th>\n",
       "      <td>203</td>\n",
       "      <td>c</td>\n",
       "      <td>Time Series Split</td>\n",
       "      <td>Chemical + Mineralogical</td>\n",
       "      <td>Chemical</td>\n",
       "      <td>Neural Networks</td>\n",
       "      <td>Transformer</td>\n",
       "      <td>Transformer_1.0</td>\n",
       "      <td>1.0</td>\n",
       "      <td>2.517192</td>\n",
       "      <td>...</td>\n",
       "      <td>4.028560</td>\n",
       "      <td>0.805481</td>\n",
       "      <td>0.612866</td>\n",
       "      <td>0.336935</td>\n",
       "      <td>0.923056</td>\n",
       "      <td>0.100521</td>\n",
       "      <td>-4.277953</td>\n",
       "      <td>1</td>\n",
       "      <td>intermediate_model</td>\n",
       "      <td>16</td>\n",
       "    </tr>\n",
       "    <tr>\n",
       "      <th>18</th>\n",
       "      <td>203</td>\n",
       "      <td>c</td>\n",
       "      <td>Time Series Split</td>\n",
       "      <td>Chemical + Mineralogical</td>\n",
       "      <td>Chemical</td>\n",
       "      <td>Neural Networks</td>\n",
       "      <td>LSTM</td>\n",
       "      <td>LSTM_7.0</td>\n",
       "      <td>7.0</td>\n",
       "      <td>2.604495</td>\n",
       "      <td>...</td>\n",
       "      <td>4.371307</td>\n",
       "      <td>0.798854</td>\n",
       "      <td>0.340278</td>\n",
       "      <td>0.297855</td>\n",
       "      <td>0.685576</td>\n",
       "      <td>0.053949</td>\n",
       "      <td>-3.185973</td>\n",
       "      <td>3</td>\n",
       "      <td>intermediate_model</td>\n",
       "      <td>14</td>\n",
       "    </tr>\n",
       "  </tbody>\n",
       "</table>\n",
       "<p>5 rows × 21 columns</p>\n",
       "</div>"
      ],
      "text/plain": [
       "    Company Plant   Cross Validation                  Features Features_bkp  \\\n",
       "1       203     c  Time Series Split  Chemical + Mineralogical     Chemical   \n",
       "13      203     c  Time Series Split  Chemical + Mineralogical     Chemical   \n",
       "16      203     c  Time Series Split  Chemical + Mineralogical     Chemical   \n",
       "0       203     c  Time Series Split  Chemical + Mineralogical     Chemical   \n",
       "18      203     c  Time Series Split  Chemical + Mineralogical     Chemical   \n",
       "\n",
       "              Model      Model_bkp      Model_bkp_2  Timesteps  RMSE_mean  \\\n",
       "1   Neural Networks    Transformer  Transformer_7.0        7.0   2.374921   \n",
       "13            Trees  Random Forest    Random Forest        NaN   2.469346   \n",
       "16            Trees  Decision Tree    Decision Tree        NaN   2.613836   \n",
       "0   Neural Networks    Transformer  Transformer_1.0        1.0   2.517192   \n",
       "18  Neural Networks           LSTM         LSTM_7.0        7.0   2.604495   \n",
       "\n",
       "    ...  MAPE_mean   R2_mean  RMSE_std   MAE_std  MAPE_std    R2_std  \\\n",
       "1   ...   4.081860  0.829885  0.446533  0.265232  0.617194  0.060037   \n",
       "13  ...   3.743004  0.808014  0.831938  0.538519  1.177852  0.120594   \n",
       "16  ...   3.471669  0.781673  0.997199  0.504591  1.067576  0.151227   \n",
       "0   ...   4.028560  0.805481  0.612866  0.336935  0.923056  0.100521   \n",
       "18  ...   4.371307  0.798854  0.340278  0.297855  0.685576  0.053949   \n",
       "\n",
       "        SCPM  Dominated_Count      Classification Dominates_Count  \n",
       "1  -4.372614                0      dominant_model              16  \n",
       "13 -4.813562                0      dominant_model              17  \n",
       "16 -5.218253                0      dominant_model              15  \n",
       "0  -4.277953                1  intermediate_model              16  \n",
       "18 -3.185973                3  intermediate_model              14  \n",
       "\n",
       "[5 rows x 21 columns]"
      ]
     },
     "execution_count": 188,
     "metadata": {},
     "output_type": "execute_result"
    },
    {
     "data": {
      "application/javascript": [
       "\n",
       "            setTimeout(function() {\n",
       "                var nbb_cell_id = 188;\n",
       "                var nbb_unformatted_code = \"df_sorted_topo.head(5)\";\n",
       "                var nbb_formatted_code = \"df_sorted_topo.head(5)\";\n",
       "                var nbb_cells = Jupyter.notebook.get_cells();\n",
       "                for (var i = 0; i < nbb_cells.length; ++i) {\n",
       "                    if (nbb_cells[i].input_prompt_number == nbb_cell_id) {\n",
       "                        if (nbb_cells[i].get_text() == nbb_unformatted_code) {\n",
       "                             nbb_cells[i].set_text(nbb_formatted_code);\n",
       "                        }\n",
       "                        break;\n",
       "                    }\n",
       "                }\n",
       "            }, 500);\n",
       "            "
      ],
      "text/plain": [
       "<IPython.core.display.Javascript object>"
      ]
     },
     "metadata": {},
     "output_type": "display_data"
    }
   ],
   "source": [
    "df_sorted_topo.head(5)"
   ]
  },
  {
   "cell_type": "code",
   "execution_count": 189,
   "id": "c40378dc",
   "metadata": {
    "scrolled": false
   },
   "outputs": [
    {
     "data": {
      "application/javascript": [
       "\n",
       "            setTimeout(function() {\n",
       "                var nbb_cell_id = 189;\n",
       "                var nbb_unformatted_code = \"df_sorted_topo_cols = df_sorted_topo[\\n    [\\n        # \\\"Model\\\",\\n        # \\\"Model_bkp\\\",\\n        \\\"Model_bkp_2\\\",\\n        \\\"RMSE_mean\\\",\\n        \\\"RMSE_std\\\",\\n        \\\"MAE_mean\\\",\\n        \\\"MAE_std\\\",\\n        \\\"MAPE_mean\\\",\\n        \\\"MAPE_std\\\",\\n        \\\"R2_mean\\\",\\n        \\\"R2_std\\\",\\n        \\\"SCPM\\\",\\n        \\\"Dominated_Count\\\",\\n        \\\"Classification\\\",\\n        \\\"Dominates_Count\\\",\\n        \\\"Plant\\\",\\n    ]\\n]  # .round(2)\";\n",
       "                var nbb_formatted_code = \"df_sorted_topo_cols = df_sorted_topo[\\n    [\\n        # \\\"Model\\\",\\n        # \\\"Model_bkp\\\",\\n        \\\"Model_bkp_2\\\",\\n        \\\"RMSE_mean\\\",\\n        \\\"RMSE_std\\\",\\n        \\\"MAE_mean\\\",\\n        \\\"MAE_std\\\",\\n        \\\"MAPE_mean\\\",\\n        \\\"MAPE_std\\\",\\n        \\\"R2_mean\\\",\\n        \\\"R2_std\\\",\\n        \\\"SCPM\\\",\\n        \\\"Dominated_Count\\\",\\n        \\\"Classification\\\",\\n        \\\"Dominates_Count\\\",\\n        \\\"Plant\\\",\\n    ]\\n]  # .round(2)\";\n",
       "                var nbb_cells = Jupyter.notebook.get_cells();\n",
       "                for (var i = 0; i < nbb_cells.length; ++i) {\n",
       "                    if (nbb_cells[i].input_prompt_number == nbb_cell_id) {\n",
       "                        if (nbb_cells[i].get_text() == nbb_unformatted_code) {\n",
       "                             nbb_cells[i].set_text(nbb_formatted_code);\n",
       "                        }\n",
       "                        break;\n",
       "                    }\n",
       "                }\n",
       "            }, 500);\n",
       "            "
      ],
      "text/plain": [
       "<IPython.core.display.Javascript object>"
      ]
     },
     "metadata": {},
     "output_type": "display_data"
    }
   ],
   "source": [
    "df_sorted_topo_cols = df_sorted_topo[\n",
    "    [\n",
    "        # \"Model\",\n",
    "        # \"Model_bkp\",\n",
    "        \"Model_bkp_2\",\n",
    "        \"RMSE_mean\",\n",
    "        \"RMSE_std\",\n",
    "        \"MAE_mean\",\n",
    "        \"MAE_std\",\n",
    "        \"MAPE_mean\",\n",
    "        \"MAPE_std\",\n",
    "        \"R2_mean\",\n",
    "        \"R2_std\",\n",
    "        \"SCPM\",\n",
    "        \"Dominated_Count\",\n",
    "        \"Classification\",\n",
    "        \"Dominates_Count\",\n",
    "        \"Plant\",\n",
    "    ]\n",
    "]  # .round(2)"
   ]
  },
  {
   "cell_type": "markdown",
   "id": "48cbc496",
   "metadata": {},
   "source": [
    "###### Dominant Models"
   ]
  },
  {
   "cell_type": "code",
   "execution_count": 190,
   "id": "ace07fa9",
   "metadata": {},
   "outputs": [
    {
     "data": {
      "text/html": [
       "<div>\n",
       "<style scoped>\n",
       "    .dataframe tbody tr th:only-of-type {\n",
       "        vertical-align: middle;\n",
       "    }\n",
       "\n",
       "    .dataframe tbody tr th {\n",
       "        vertical-align: top;\n",
       "    }\n",
       "\n",
       "    .dataframe thead th {\n",
       "        text-align: right;\n",
       "    }\n",
       "</style>\n",
       "<table border=\"1\" class=\"dataframe\">\n",
       "  <thead>\n",
       "    <tr style=\"text-align: right;\">\n",
       "      <th></th>\n",
       "      <th>Model_bkp_2</th>\n",
       "      <th>RMSE_mean</th>\n",
       "      <th>RMSE_std</th>\n",
       "      <th>MAE_mean</th>\n",
       "      <th>MAE_std</th>\n",
       "      <th>MAPE_mean</th>\n",
       "      <th>MAPE_std</th>\n",
       "      <th>R2_mean</th>\n",
       "      <th>R2_std</th>\n",
       "      <th>SCPM</th>\n",
       "      <th>Dominated_Count</th>\n",
       "      <th>Classification</th>\n",
       "      <th>Dominates_Count</th>\n",
       "      <th>Plant</th>\n",
       "    </tr>\n",
       "  </thead>\n",
       "  <tbody>\n",
       "    <tr>\n",
       "      <th>13</th>\n",
       "      <td>Random Forest</td>\n",
       "      <td>2.47</td>\n",
       "      <td>0.83</td>\n",
       "      <td>1.62</td>\n",
       "      <td>0.54</td>\n",
       "      <td>3.74</td>\n",
       "      <td>1.18</td>\n",
       "      <td>0.81</td>\n",
       "      <td>0.12</td>\n",
       "      <td>-4.81</td>\n",
       "      <td>0</td>\n",
       "      <td>dominant_model</td>\n",
       "      <td>17</td>\n",
       "      <td>c</td>\n",
       "    </tr>\n",
       "    <tr>\n",
       "      <th>1</th>\n",
       "      <td>Transformer_7.0</td>\n",
       "      <td>2.37</td>\n",
       "      <td>0.45</td>\n",
       "      <td>1.70</td>\n",
       "      <td>0.27</td>\n",
       "      <td>4.08</td>\n",
       "      <td>0.62</td>\n",
       "      <td>0.83</td>\n",
       "      <td>0.06</td>\n",
       "      <td>-4.37</td>\n",
       "      <td>0</td>\n",
       "      <td>dominant_model</td>\n",
       "      <td>16</td>\n",
       "      <td>c</td>\n",
       "    </tr>\n",
       "    <tr>\n",
       "      <th>0</th>\n",
       "      <td>Transformer_1.0</td>\n",
       "      <td>2.52</td>\n",
       "      <td>0.61</td>\n",
       "      <td>1.67</td>\n",
       "      <td>0.34</td>\n",
       "      <td>4.03</td>\n",
       "      <td>0.92</td>\n",
       "      <td>0.81</td>\n",
       "      <td>0.10</td>\n",
       "      <td>-4.28</td>\n",
       "      <td>1</td>\n",
       "      <td>intermediate_model</td>\n",
       "      <td>16</td>\n",
       "      <td>c</td>\n",
       "    </tr>\n",
       "    <tr>\n",
       "      <th>16</th>\n",
       "      <td>Decision Tree</td>\n",
       "      <td>2.61</td>\n",
       "      <td>1.00</td>\n",
       "      <td>1.50</td>\n",
       "      <td>0.50</td>\n",
       "      <td>3.47</td>\n",
       "      <td>1.07</td>\n",
       "      <td>0.78</td>\n",
       "      <td>0.15</td>\n",
       "      <td>-5.22</td>\n",
       "      <td>0</td>\n",
       "      <td>dominant_model</td>\n",
       "      <td>15</td>\n",
       "      <td>c</td>\n",
       "    </tr>\n",
       "    <tr>\n",
       "      <th>18</th>\n",
       "      <td>LSTM_7.0</td>\n",
       "      <td>2.60</td>\n",
       "      <td>0.34</td>\n",
       "      <td>1.90</td>\n",
       "      <td>0.30</td>\n",
       "      <td>4.37</td>\n",
       "      <td>0.69</td>\n",
       "      <td>0.80</td>\n",
       "      <td>0.05</td>\n",
       "      <td>-3.19</td>\n",
       "      <td>3</td>\n",
       "      <td>intermediate_model</td>\n",
       "      <td>14</td>\n",
       "      <td>c</td>\n",
       "    </tr>\n",
       "  </tbody>\n",
       "</table>\n",
       "</div>"
      ],
      "text/plain": [
       "        Model_bkp_2  RMSE_mean  RMSE_std  MAE_mean  MAE_std  MAPE_mean  \\\n",
       "13    Random Forest       2.47      0.83      1.62     0.54       3.74   \n",
       "1   Transformer_7.0       2.37      0.45      1.70     0.27       4.08   \n",
       "0   Transformer_1.0       2.52      0.61      1.67     0.34       4.03   \n",
       "16    Decision Tree       2.61      1.00      1.50     0.50       3.47   \n",
       "18         LSTM_7.0       2.60      0.34      1.90     0.30       4.37   \n",
       "\n",
       "    MAPE_std  R2_mean  R2_std  SCPM  Dominated_Count      Classification  \\\n",
       "13      1.18     0.81    0.12 -4.81                0      dominant_model   \n",
       "1       0.62     0.83    0.06 -4.37                0      dominant_model   \n",
       "0       0.92     0.81    0.10 -4.28                1  intermediate_model   \n",
       "16      1.07     0.78    0.15 -5.22                0      dominant_model   \n",
       "18      0.69     0.80    0.05 -3.19                3  intermediate_model   \n",
       "\n",
       "    Dominates_Count Plant  \n",
       "13               17     c  \n",
       "1                16     c  \n",
       "0                16     c  \n",
       "16               15     c  \n",
       "18               14     c  "
      ]
     },
     "execution_count": 190,
     "metadata": {},
     "output_type": "execute_result"
    },
    {
     "data": {
      "application/javascript": [
       "\n",
       "            setTimeout(function() {\n",
       "                var nbb_cell_id = 190;\n",
       "                var nbb_unformatted_code = \"# Top 5\\ndf_sorted_topo_cols.iloc[0:5].sort_values(\\n    by=[\\\"Dominates_Count\\\", \\\"SCPM\\\"], ascending=[False, True]\\n).round(2)\";\n",
       "                var nbb_formatted_code = \"# Top 5\\ndf_sorted_topo_cols.iloc[0:5].sort_values(\\n    by=[\\\"Dominates_Count\\\", \\\"SCPM\\\"], ascending=[False, True]\\n).round(2)\";\n",
       "                var nbb_cells = Jupyter.notebook.get_cells();\n",
       "                for (var i = 0; i < nbb_cells.length; ++i) {\n",
       "                    if (nbb_cells[i].input_prompt_number == nbb_cell_id) {\n",
       "                        if (nbb_cells[i].get_text() == nbb_unformatted_code) {\n",
       "                             nbb_cells[i].set_text(nbb_formatted_code);\n",
       "                        }\n",
       "                        break;\n",
       "                    }\n",
       "                }\n",
       "            }, 500);\n",
       "            "
      ],
      "text/plain": [
       "<IPython.core.display.Javascript object>"
      ]
     },
     "metadata": {},
     "output_type": "display_data"
    }
   ],
   "source": [
    "# Top 5\n",
    "df_sorted_topo_cols.iloc[0:5].sort_values(\n",
    "    by=[\"Dominates_Count\", \"SCPM\"], ascending=[False, True]\n",
    ").round(2)"
   ]
  },
  {
   "cell_type": "code",
   "execution_count": 191,
   "id": "394ef69f",
   "metadata": {},
   "outputs": [
    {
     "data": {
      "text/plain": [
       "(3, 14)"
      ]
     },
     "execution_count": 191,
     "metadata": {},
     "output_type": "execute_result"
    },
    {
     "data": {
      "application/javascript": [
       "\n",
       "            setTimeout(function() {\n",
       "                var nbb_cell_id = 191;\n",
       "                var nbb_unformatted_code = \"df_sorted_topo_cols[df_sorted_topo_cols[\\\"Classification\\\"].eq(\\\"dominant_model\\\")].shape\";\n",
       "                var nbb_formatted_code = \"df_sorted_topo_cols[df_sorted_topo_cols[\\\"Classification\\\"].eq(\\\"dominant_model\\\")].shape\";\n",
       "                var nbb_cells = Jupyter.notebook.get_cells();\n",
       "                for (var i = 0; i < nbb_cells.length; ++i) {\n",
       "                    if (nbb_cells[i].input_prompt_number == nbb_cell_id) {\n",
       "                        if (nbb_cells[i].get_text() == nbb_unformatted_code) {\n",
       "                             nbb_cells[i].set_text(nbb_formatted_code);\n",
       "                        }\n",
       "                        break;\n",
       "                    }\n",
       "                }\n",
       "            }, 500);\n",
       "            "
      ],
      "text/plain": [
       "<IPython.core.display.Javascript object>"
      ]
     },
     "metadata": {},
     "output_type": "display_data"
    }
   ],
   "source": [
    "df_sorted_topo_cols[df_sorted_topo_cols[\"Classification\"].eq(\"dominant_model\")].shape"
   ]
  },
  {
   "cell_type": "markdown",
   "id": "96f0edb2",
   "metadata": {},
   "source": [
    "###### Intermediate models"
   ]
  },
  {
   "cell_type": "code",
   "execution_count": 192,
   "id": "2a1f4f63",
   "metadata": {},
   "outputs": [
    {
     "data": {
      "text/html": [
       "<div>\n",
       "<style scoped>\n",
       "    .dataframe tbody tr th:only-of-type {\n",
       "        vertical-align: middle;\n",
       "    }\n",
       "\n",
       "    .dataframe tbody tr th {\n",
       "        vertical-align: top;\n",
       "    }\n",
       "\n",
       "    .dataframe thead th {\n",
       "        text-align: right;\n",
       "    }\n",
       "</style>\n",
       "<table border=\"1\" class=\"dataframe\">\n",
       "  <thead>\n",
       "    <tr style=\"text-align: right;\">\n",
       "      <th></th>\n",
       "      <th>Model_bkp_2</th>\n",
       "      <th>RMSE_mean</th>\n",
       "      <th>RMSE_std</th>\n",
       "      <th>MAE_mean</th>\n",
       "      <th>MAE_std</th>\n",
       "      <th>MAPE_mean</th>\n",
       "      <th>MAPE_std</th>\n",
       "      <th>R2_mean</th>\n",
       "      <th>R2_std</th>\n",
       "      <th>SCPM</th>\n",
       "      <th>Dominated_Count</th>\n",
       "      <th>Classification</th>\n",
       "      <th>Dominates_Count</th>\n",
       "      <th>Plant</th>\n",
       "    </tr>\n",
       "  </thead>\n",
       "  <tbody>\n",
       "    <tr>\n",
       "      <th>0</th>\n",
       "      <td>Transformer_1.0</td>\n",
       "      <td>2.52</td>\n",
       "      <td>0.61</td>\n",
       "      <td>1.67</td>\n",
       "      <td>0.34</td>\n",
       "      <td>4.03</td>\n",
       "      <td>0.92</td>\n",
       "      <td>0.81</td>\n",
       "      <td>0.10</td>\n",
       "      <td>-4.28</td>\n",
       "      <td>1</td>\n",
       "      <td>intermediate_model</td>\n",
       "      <td>16</td>\n",
       "      <td>c</td>\n",
       "    </tr>\n",
       "    <tr>\n",
       "      <th>18</th>\n",
       "      <td>LSTM_7.0</td>\n",
       "      <td>2.60</td>\n",
       "      <td>0.34</td>\n",
       "      <td>1.90</td>\n",
       "      <td>0.30</td>\n",
       "      <td>4.37</td>\n",
       "      <td>0.69</td>\n",
       "      <td>0.80</td>\n",
       "      <td>0.05</td>\n",
       "      <td>-3.19</td>\n",
       "      <td>3</td>\n",
       "      <td>intermediate_model</td>\n",
       "      <td>14</td>\n",
       "      <td>c</td>\n",
       "    </tr>\n",
       "    <tr>\n",
       "      <th>12</th>\n",
       "      <td>XGBoost</td>\n",
       "      <td>2.74</td>\n",
       "      <td>0.83</td>\n",
       "      <td>2.06</td>\n",
       "      <td>0.69</td>\n",
       "      <td>4.90</td>\n",
       "      <td>1.51</td>\n",
       "      <td>0.77</td>\n",
       "      <td>0.13</td>\n",
       "      <td>-1.90</td>\n",
       "      <td>5</td>\n",
       "      <td>intermediate_model</td>\n",
       "      <td>11</td>\n",
       "      <td>c</td>\n",
       "    </tr>\n",
       "    <tr>\n",
       "      <th>2</th>\n",
       "      <td>Transformer_14.0</td>\n",
       "      <td>2.88</td>\n",
       "      <td>0.77</td>\n",
       "      <td>2.08</td>\n",
       "      <td>0.52</td>\n",
       "      <td>5.02</td>\n",
       "      <td>1.43</td>\n",
       "      <td>0.74</td>\n",
       "      <td>0.14</td>\n",
       "      <td>-1.47</td>\n",
       "      <td>6</td>\n",
       "      <td>intermediate_model</td>\n",
       "      <td>10</td>\n",
       "      <td>c</td>\n",
       "    </tr>\n",
       "  </tbody>\n",
       "</table>\n",
       "</div>"
      ],
      "text/plain": [
       "         Model_bkp_2  RMSE_mean  RMSE_std  MAE_mean  MAE_std  MAPE_mean  \\\n",
       "0    Transformer_1.0       2.52      0.61      1.67     0.34       4.03   \n",
       "18          LSTM_7.0       2.60      0.34      1.90     0.30       4.37   \n",
       "12           XGBoost       2.74      0.83      2.06     0.69       4.90   \n",
       "2   Transformer_14.0       2.88      0.77      2.08     0.52       5.02   \n",
       "\n",
       "    MAPE_std  R2_mean  R2_std  SCPM  Dominated_Count      Classification  \\\n",
       "0       0.92     0.81    0.10 -4.28                1  intermediate_model   \n",
       "18      0.69     0.80    0.05 -3.19                3  intermediate_model   \n",
       "12      1.51     0.77    0.13 -1.90                5  intermediate_model   \n",
       "2       1.43     0.74    0.14 -1.47                6  intermediate_model   \n",
       "\n",
       "    Dominates_Count Plant  \n",
       "0                16     c  \n",
       "18               14     c  \n",
       "12               11     c  \n",
       "2                10     c  "
      ]
     },
     "execution_count": 192,
     "metadata": {},
     "output_type": "execute_result"
    },
    {
     "data": {
      "application/javascript": [
       "\n",
       "            setTimeout(function() {\n",
       "                var nbb_cell_id = 192;\n",
       "                var nbb_unformatted_code = \"df_sorted_topo_cols[\\n    df_sorted_topo_cols[\\\"Classification\\\"].eq(\\\"intermediate_model\\\")\\n].sort_values(by=[\\\"Dominates_Count\\\", \\\"SCPM\\\"], ascending=[False, True]).iloc[:4].round(2)\";\n",
       "                var nbb_formatted_code = \"df_sorted_topo_cols[\\n    df_sorted_topo_cols[\\\"Classification\\\"].eq(\\\"intermediate_model\\\")\\n].sort_values(by=[\\\"Dominates_Count\\\", \\\"SCPM\\\"], ascending=[False, True]).iloc[:4].round(2)\";\n",
       "                var nbb_cells = Jupyter.notebook.get_cells();\n",
       "                for (var i = 0; i < nbb_cells.length; ++i) {\n",
       "                    if (nbb_cells[i].input_prompt_number == nbb_cell_id) {\n",
       "                        if (nbb_cells[i].get_text() == nbb_unformatted_code) {\n",
       "                             nbb_cells[i].set_text(nbb_formatted_code);\n",
       "                        }\n",
       "                        break;\n",
       "                    }\n",
       "                }\n",
       "            }, 500);\n",
       "            "
      ],
      "text/plain": [
       "<IPython.core.display.Javascript object>"
      ]
     },
     "metadata": {},
     "output_type": "display_data"
    }
   ],
   "source": [
    "df_sorted_topo_cols[\n",
    "    df_sorted_topo_cols[\"Classification\"].eq(\"intermediate_model\")\n",
    "].sort_values(by=[\"Dominates_Count\", \"SCPM\"], ascending=[False, True]).iloc[:4].round(2)"
   ]
  },
  {
   "cell_type": "code",
   "execution_count": 193,
   "id": "96d11cdf",
   "metadata": {},
   "outputs": [
    {
     "data": {
      "text/plain": [
       "(16, 14)"
      ]
     },
     "execution_count": 193,
     "metadata": {},
     "output_type": "execute_result"
    },
    {
     "data": {
      "application/javascript": [
       "\n",
       "            setTimeout(function() {\n",
       "                var nbb_cell_id = 193;\n",
       "                var nbb_unformatted_code = \"df_sorted_topo_cols[\\n    df_sorted_topo_cols[\\\"Classification\\\"].eq(\\\"intermediate_model\\\")\\n].shape\";\n",
       "                var nbb_formatted_code = \"df_sorted_topo_cols[\\n    df_sorted_topo_cols[\\\"Classification\\\"].eq(\\\"intermediate_model\\\")\\n].shape\";\n",
       "                var nbb_cells = Jupyter.notebook.get_cells();\n",
       "                for (var i = 0; i < nbb_cells.length; ++i) {\n",
       "                    if (nbb_cells[i].input_prompt_number == nbb_cell_id) {\n",
       "                        if (nbb_cells[i].get_text() == nbb_unformatted_code) {\n",
       "                             nbb_cells[i].set_text(nbb_formatted_code);\n",
       "                        }\n",
       "                        break;\n",
       "                    }\n",
       "                }\n",
       "            }, 500);\n",
       "            "
      ],
      "text/plain": [
       "<IPython.core.display.Javascript object>"
      ]
     },
     "metadata": {},
     "output_type": "display_data"
    }
   ],
   "source": [
    "df_sorted_topo_cols[\n",
    "    df_sorted_topo_cols[\"Classification\"].eq(\"intermediate_model\")\n",
    "].shape"
   ]
  },
  {
   "cell_type": "markdown",
   "id": "2c67c843",
   "metadata": {},
   "source": [
    "###### non-dominant models"
   ]
  },
  {
   "cell_type": "code",
   "execution_count": 194,
   "id": "5d115037",
   "metadata": {},
   "outputs": [
    {
     "data": {
      "text/html": [
       "<div>\n",
       "<style scoped>\n",
       "    .dataframe tbody tr th:only-of-type {\n",
       "        vertical-align: middle;\n",
       "    }\n",
       "\n",
       "    .dataframe tbody tr th {\n",
       "        vertical-align: top;\n",
       "    }\n",
       "\n",
       "    .dataframe thead th {\n",
       "        text-align: right;\n",
       "    }\n",
       "</style>\n",
       "<table border=\"1\" class=\"dataframe\">\n",
       "  <thead>\n",
       "    <tr style=\"text-align: right;\">\n",
       "      <th></th>\n",
       "      <th>Model_bkp_2</th>\n",
       "      <th>RMSE_mean</th>\n",
       "      <th>RMSE_std</th>\n",
       "      <th>MAE_mean</th>\n",
       "      <th>MAE_std</th>\n",
       "      <th>MAPE_mean</th>\n",
       "      <th>MAPE_std</th>\n",
       "      <th>R2_mean</th>\n",
       "      <th>R2_std</th>\n",
       "      <th>SCPM</th>\n",
       "      <th>Dominated_Count</th>\n",
       "      <th>Classification</th>\n",
       "      <th>Dominates_Count</th>\n",
       "      <th>Plant</th>\n",
       "    </tr>\n",
       "  </thead>\n",
       "  <tbody>\n",
       "    <tr>\n",
       "      <th>9</th>\n",
       "      <td>BidirectionalLSTM_1.0</td>\n",
       "      <td>6.278918</td>\n",
       "      <td>4.369569</td>\n",
       "      <td>2.978662</td>\n",
       "      <td>0.965418</td>\n",
       "      <td>6.645053</td>\n",
       "      <td>2.047407</td>\n",
       "      <td>-0.699758</td>\n",
       "      <td>2.293754</td>\n",
       "      <td>10.718797</td>\n",
       "      <td>19</td>\n",
       "      <td>non_dominant_model</td>\n",
       "      <td>0</td>\n",
       "      <td>c</td>\n",
       "    </tr>\n",
       "  </tbody>\n",
       "</table>\n",
       "</div>"
      ],
      "text/plain": [
       "             Model_bkp_2  RMSE_mean  RMSE_std  MAE_mean   MAE_std  MAPE_mean  \\\n",
       "9  BidirectionalLSTM_1.0   6.278918  4.369569  2.978662  0.965418   6.645053   \n",
       "\n",
       "   MAPE_std   R2_mean    R2_std       SCPM  Dominated_Count  \\\n",
       "9  2.047407 -0.699758  2.293754  10.718797               19   \n",
       "\n",
       "       Classification  Dominates_Count Plant  \n",
       "9  non_dominant_model                0     c  "
      ]
     },
     "execution_count": 194,
     "metadata": {},
     "output_type": "execute_result"
    },
    {
     "data": {
      "application/javascript": [
       "\n",
       "            setTimeout(function() {\n",
       "                var nbb_cell_id = 194;\n",
       "                var nbb_unformatted_code = \"df_sorted_topo_cols[\\n    df_sorted_topo_cols[\\\"Classification\\\"].eq(\\\"non_dominant_model\\\")\\n].sort_values(by=[\\\"Dominates_Count\\\", \\\"SCPM\\\"], ascending=[False, True]).iloc[:3]\";\n",
       "                var nbb_formatted_code = \"df_sorted_topo_cols[\\n    df_sorted_topo_cols[\\\"Classification\\\"].eq(\\\"non_dominant_model\\\")\\n].sort_values(by=[\\\"Dominates_Count\\\", \\\"SCPM\\\"], ascending=[False, True]).iloc[:3]\";\n",
       "                var nbb_cells = Jupyter.notebook.get_cells();\n",
       "                for (var i = 0; i < nbb_cells.length; ++i) {\n",
       "                    if (nbb_cells[i].input_prompt_number == nbb_cell_id) {\n",
       "                        if (nbb_cells[i].get_text() == nbb_unformatted_code) {\n",
       "                             nbb_cells[i].set_text(nbb_formatted_code);\n",
       "                        }\n",
       "                        break;\n",
       "                    }\n",
       "                }\n",
       "            }, 500);\n",
       "            "
      ],
      "text/plain": [
       "<IPython.core.display.Javascript object>"
      ]
     },
     "metadata": {},
     "output_type": "display_data"
    }
   ],
   "source": [
    "df_sorted_topo_cols[\n",
    "    df_sorted_topo_cols[\"Classification\"].eq(\"non_dominant_model\")\n",
    "].sort_values(by=[\"Dominates_Count\", \"SCPM\"], ascending=[False, True]).iloc[:3]"
   ]
  },
  {
   "cell_type": "code",
   "execution_count": 195,
   "id": "af70dd4b",
   "metadata": {},
   "outputs": [
    {
     "data": {
      "text/plain": [
       "(1, 14)"
      ]
     },
     "execution_count": 195,
     "metadata": {},
     "output_type": "execute_result"
    },
    {
     "data": {
      "application/javascript": [
       "\n",
       "            setTimeout(function() {\n",
       "                var nbb_cell_id = 195;\n",
       "                var nbb_unformatted_code = \"df_sorted_topo_cols[\\n    df_sorted_topo_cols[\\\"Classification\\\"].eq(\\\"non_dominant_model\\\")\\n].shape\";\n",
       "                var nbb_formatted_code = \"df_sorted_topo_cols[\\n    df_sorted_topo_cols[\\\"Classification\\\"].eq(\\\"non_dominant_model\\\")\\n].shape\";\n",
       "                var nbb_cells = Jupyter.notebook.get_cells();\n",
       "                for (var i = 0; i < nbb_cells.length; ++i) {\n",
       "                    if (nbb_cells[i].input_prompt_number == nbb_cell_id) {\n",
       "                        if (nbb_cells[i].get_text() == nbb_unformatted_code) {\n",
       "                             nbb_cells[i].set_text(nbb_formatted_code);\n",
       "                        }\n",
       "                        break;\n",
       "                    }\n",
       "                }\n",
       "            }, 500);\n",
       "            "
      ],
      "text/plain": [
       "<IPython.core.display.Javascript object>"
      ]
     },
     "metadata": {},
     "output_type": "display_data"
    }
   ],
   "source": [
    "df_sorted_topo_cols[\n",
    "    df_sorted_topo_cols[\"Classification\"].eq(\"non_dominant_model\")\n",
    "].shape"
   ]
  },
  {
   "cell_type": "markdown",
   "id": "2459a9ca",
   "metadata": {},
   "source": [
    "###### Statistics per model type"
   ]
  },
  {
   "cell_type": "code",
   "execution_count": 196,
   "id": "e8013976",
   "metadata": {},
   "outputs": [
    {
     "data": {
      "application/javascript": [
       "\n",
       "            setTimeout(function() {\n",
       "                var nbb_cell_id = 196;\n",
       "                var nbb_unformatted_code = \"df_sorted_topo_models_cols = df_sorted_topo[\\n    [\\n        \\\"Model\\\",\\n        # \\\"Model_bkp\\\",\\n        # \\\"Model_bkp_2\\\",\\n        \\\"RMSE_mean\\\",\\n        \\\"RMSE_std\\\",\\n        \\\"MAE_mean\\\",\\n        \\\"MAE_std\\\",\\n        \\\"MAPE_mean\\\",\\n        \\\"MAPE_std\\\",\\n        \\\"R2_mean\\\",\\n        \\\"R2_std\\\",\\n        \\\"SCPM\\\",\\n        \\\"Dominated_Count\\\",\\n        \\\"Dominates_Count\\\",\\n        \\\"Classification\\\",\\n        \\\"Plant\\\",\\n    ]\\n]  # .round(2)\";\n",
       "                var nbb_formatted_code = \"df_sorted_topo_models_cols = df_sorted_topo[\\n    [\\n        \\\"Model\\\",\\n        # \\\"Model_bkp\\\",\\n        # \\\"Model_bkp_2\\\",\\n        \\\"RMSE_mean\\\",\\n        \\\"RMSE_std\\\",\\n        \\\"MAE_mean\\\",\\n        \\\"MAE_std\\\",\\n        \\\"MAPE_mean\\\",\\n        \\\"MAPE_std\\\",\\n        \\\"R2_mean\\\",\\n        \\\"R2_std\\\",\\n        \\\"SCPM\\\",\\n        \\\"Dominated_Count\\\",\\n        \\\"Dominates_Count\\\",\\n        \\\"Classification\\\",\\n        \\\"Plant\\\",\\n    ]\\n]  # .round(2)\";\n",
       "                var nbb_cells = Jupyter.notebook.get_cells();\n",
       "                for (var i = 0; i < nbb_cells.length; ++i) {\n",
       "                    if (nbb_cells[i].input_prompt_number == nbb_cell_id) {\n",
       "                        if (nbb_cells[i].get_text() == nbb_unformatted_code) {\n",
       "                             nbb_cells[i].set_text(nbb_formatted_code);\n",
       "                        }\n",
       "                        break;\n",
       "                    }\n",
       "                }\n",
       "            }, 500);\n",
       "            "
      ],
      "text/plain": [
       "<IPython.core.display.Javascript object>"
      ]
     },
     "metadata": {},
     "output_type": "display_data"
    }
   ],
   "source": [
    "df_sorted_topo_models_cols = df_sorted_topo[\n",
    "    [\n",
    "        \"Model\",\n",
    "        # \"Model_bkp\",\n",
    "        # \"Model_bkp_2\",\n",
    "        \"RMSE_mean\",\n",
    "        \"RMSE_std\",\n",
    "        \"MAE_mean\",\n",
    "        \"MAE_std\",\n",
    "        \"MAPE_mean\",\n",
    "        \"MAPE_std\",\n",
    "        \"R2_mean\",\n",
    "        \"R2_std\",\n",
    "        \"SCPM\",\n",
    "        \"Dominated_Count\",\n",
    "        \"Dominates_Count\",\n",
    "        \"Classification\",\n",
    "        \"Plant\",\n",
    "    ]\n",
    "]  # .round(2)"
   ]
  },
  {
   "cell_type": "code",
   "execution_count": 197,
   "id": "43178252",
   "metadata": {},
   "outputs": [
    {
     "data": {
      "text/plain": [
       "Model\n",
       "Neural Networks      16\n",
       "Trees                 3\n",
       "Linear Regression     1\n",
       "Name: count, dtype: int64"
      ]
     },
     "execution_count": 197,
     "metadata": {},
     "output_type": "execute_result"
    },
    {
     "data": {
      "application/javascript": [
       "\n",
       "            setTimeout(function() {\n",
       "                var nbb_cell_id = 197;\n",
       "                var nbb_unformatted_code = \"df_sorted_topo[\\\"Model\\\"].value_counts()\";\n",
       "                var nbb_formatted_code = \"df_sorted_topo[\\\"Model\\\"].value_counts()\";\n",
       "                var nbb_cells = Jupyter.notebook.get_cells();\n",
       "                for (var i = 0; i < nbb_cells.length; ++i) {\n",
       "                    if (nbb_cells[i].input_prompt_number == nbb_cell_id) {\n",
       "                        if (nbb_cells[i].get_text() == nbb_unformatted_code) {\n",
       "                             nbb_cells[i].set_text(nbb_formatted_code);\n",
       "                        }\n",
       "                        break;\n",
       "                    }\n",
       "                }\n",
       "            }, 500);\n",
       "            "
      ],
      "text/plain": [
       "<IPython.core.display.Javascript object>"
      ]
     },
     "metadata": {},
     "output_type": "display_data"
    }
   ],
   "source": [
    "df_sorted_topo[\"Model\"].value_counts()"
   ]
  },
  {
   "cell_type": "code",
   "execution_count": 198,
   "id": "d804ec14",
   "metadata": {},
   "outputs": [
    {
     "data": {
      "application/javascript": [
       "\n",
       "            setTimeout(function() {\n",
       "                var nbb_cell_id = 198;\n",
       "                var nbb_unformatted_code = \"df_sorted_topo_models_grouped = df_sorted_topo_models_cols.groupby(\\\"Model\\\").describe().T\";\n",
       "                var nbb_formatted_code = \"df_sorted_topo_models_grouped = df_sorted_topo_models_cols.groupby(\\\"Model\\\").describe().T\";\n",
       "                var nbb_cells = Jupyter.notebook.get_cells();\n",
       "                for (var i = 0; i < nbb_cells.length; ++i) {\n",
       "                    if (nbb_cells[i].input_prompt_number == nbb_cell_id) {\n",
       "                        if (nbb_cells[i].get_text() == nbb_unformatted_code) {\n",
       "                             nbb_cells[i].set_text(nbb_formatted_code);\n",
       "                        }\n",
       "                        break;\n",
       "                    }\n",
       "                }\n",
       "            }, 500);\n",
       "            "
      ],
      "text/plain": [
       "<IPython.core.display.Javascript object>"
      ]
     },
     "metadata": {},
     "output_type": "display_data"
    }
   ],
   "source": [
    "df_sorted_topo_models_grouped = df_sorted_topo_models_cols.groupby(\"Model\").describe().T"
   ]
  },
  {
   "cell_type": "code",
   "execution_count": 199,
   "id": "282f4080",
   "metadata": {},
   "outputs": [
    {
     "data": {
      "application/javascript": [
       "\n",
       "            setTimeout(function() {\n",
       "                var nbb_cell_id = 199;\n",
       "                var nbb_unformatted_code = \"df_sorted_topo_models_cols = df_sorted_topo[\\n    [\\n        \\\"Model\\\",\\n        \\\"Dominated_Count\\\",\\n        \\\"Dominates_Count\\\",\\n        \\\"Classification\\\",\\n    ]\\n]\";\n",
       "                var nbb_formatted_code = \"df_sorted_topo_models_cols = df_sorted_topo[\\n    [\\n        \\\"Model\\\",\\n        \\\"Dominated_Count\\\",\\n        \\\"Dominates_Count\\\",\\n        \\\"Classification\\\",\\n    ]\\n]\";\n",
       "                var nbb_cells = Jupyter.notebook.get_cells();\n",
       "                for (var i = 0; i < nbb_cells.length; ++i) {\n",
       "                    if (nbb_cells[i].input_prompt_number == nbb_cell_id) {\n",
       "                        if (nbb_cells[i].get_text() == nbb_unformatted_code) {\n",
       "                             nbb_cells[i].set_text(nbb_formatted_code);\n",
       "                        }\n",
       "                        break;\n",
       "                    }\n",
       "                }\n",
       "            }, 500);\n",
       "            "
      ],
      "text/plain": [
       "<IPython.core.display.Javascript object>"
      ]
     },
     "metadata": {},
     "output_type": "display_data"
    }
   ],
   "source": [
    "df_sorted_topo_models_cols = df_sorted_topo[\n",
    "    [\n",
    "        \"Model\",\n",
    "        \"Dominated_Count\",\n",
    "        \"Dominates_Count\",\n",
    "        \"Classification\",\n",
    "    ]\n",
    "]"
   ]
  },
  {
   "cell_type": "code",
   "execution_count": 200,
   "id": "83558bf7",
   "metadata": {},
   "outputs": [
    {
     "data": {
      "text/html": [
       "<div>\n",
       "<style scoped>\n",
       "    .dataframe tbody tr th:only-of-type {\n",
       "        vertical-align: middle;\n",
       "    }\n",
       "\n",
       "    .dataframe tbody tr th {\n",
       "        vertical-align: top;\n",
       "    }\n",
       "\n",
       "    .dataframe thead th {\n",
       "        text-align: right;\n",
       "    }\n",
       "</style>\n",
       "<table border=\"1\" class=\"dataframe\">\n",
       "  <thead>\n",
       "    <tr style=\"text-align: right;\">\n",
       "      <th></th>\n",
       "      <th></th>\n",
       "      <th>proportion</th>\n",
       "    </tr>\n",
       "    <tr>\n",
       "      <th>Model</th>\n",
       "      <th>Classification</th>\n",
       "      <th></th>\n",
       "    </tr>\n",
       "  </thead>\n",
       "  <tbody>\n",
       "    <tr>\n",
       "      <th>Linear Regression</th>\n",
       "      <th>intermediate_model</th>\n",
       "      <td>100.00</td>\n",
       "    </tr>\n",
       "    <tr>\n",
       "      <th rowspan=\"3\" valign=\"top\">Neural Networks</th>\n",
       "      <th>intermediate_model</th>\n",
       "      <td>87.50</td>\n",
       "    </tr>\n",
       "    <tr>\n",
       "      <th>dominant_model</th>\n",
       "      <td>6.25</td>\n",
       "    </tr>\n",
       "    <tr>\n",
       "      <th>non_dominant_model</th>\n",
       "      <td>6.25</td>\n",
       "    </tr>\n",
       "    <tr>\n",
       "      <th rowspan=\"2\" valign=\"top\">Trees</th>\n",
       "      <th>dominant_model</th>\n",
       "      <td>66.67</td>\n",
       "    </tr>\n",
       "    <tr>\n",
       "      <th>intermediate_model</th>\n",
       "      <td>33.33</td>\n",
       "    </tr>\n",
       "  </tbody>\n",
       "</table>\n",
       "</div>"
      ],
      "text/plain": [
       "                                      proportion\n",
       "Model             Classification                \n",
       "Linear Regression intermediate_model      100.00\n",
       "Neural Networks   intermediate_model       87.50\n",
       "                  dominant_model            6.25\n",
       "                  non_dominant_model        6.25\n",
       "Trees             dominant_model           66.67\n",
       "                  intermediate_model       33.33"
      ]
     },
     "execution_count": 200,
     "metadata": {},
     "output_type": "execute_result"
    },
    {
     "data": {
      "application/javascript": [
       "\n",
       "            setTimeout(function() {\n",
       "                var nbb_cell_id = 200;\n",
       "                var nbb_unformatted_code = \"(\\n    df_sorted_topo_models_cols.groupby(\\\"Model\\\")[[\\\"Classification\\\"]]\\n    .value_counts(normalize=True)\\n    .to_frame()\\n    * 100\\n).round(2)\";\n",
       "                var nbb_formatted_code = \"(\\n    df_sorted_topo_models_cols.groupby(\\\"Model\\\")[[\\\"Classification\\\"]]\\n    .value_counts(normalize=True)\\n    .to_frame()\\n    * 100\\n).round(2)\";\n",
       "                var nbb_cells = Jupyter.notebook.get_cells();\n",
       "                for (var i = 0; i < nbb_cells.length; ++i) {\n",
       "                    if (nbb_cells[i].input_prompt_number == nbb_cell_id) {\n",
       "                        if (nbb_cells[i].get_text() == nbb_unformatted_code) {\n",
       "                             nbb_cells[i].set_text(nbb_formatted_code);\n",
       "                        }\n",
       "                        break;\n",
       "                    }\n",
       "                }\n",
       "            }, 500);\n",
       "            "
      ],
      "text/plain": [
       "<IPython.core.display.Javascript object>"
      ]
     },
     "metadata": {},
     "output_type": "display_data"
    }
   ],
   "source": [
    "(\n",
    "    df_sorted_topo_models_cols.groupby(\"Model\")[[\"Classification\"]]\n",
    "    .value_counts(normalize=True)\n",
    "    .to_frame()\n",
    "    * 100\n",
    ").round(2)"
   ]
  },
  {
   "cell_type": "code",
   "execution_count": 201,
   "id": "495c24c9",
   "metadata": {},
   "outputs": [
    {
     "data": {
      "text/html": [
       "<div>\n",
       "<style scoped>\n",
       "    .dataframe tbody tr th:only-of-type {\n",
       "        vertical-align: middle;\n",
       "    }\n",
       "\n",
       "    .dataframe tbody tr th {\n",
       "        vertical-align: top;\n",
       "    }\n",
       "\n",
       "    .dataframe thead th {\n",
       "        text-align: right;\n",
       "    }\n",
       "</style>\n",
       "<table border=\"1\" class=\"dataframe\">\n",
       "  <thead>\n",
       "    <tr style=\"text-align: right;\">\n",
       "      <th></th>\n",
       "      <th>Model</th>\n",
       "      <th>Linear Regression</th>\n",
       "      <th>Neural Networks</th>\n",
       "      <th>Trees</th>\n",
       "    </tr>\n",
       "  </thead>\n",
       "  <tbody>\n",
       "    <tr>\n",
       "      <th rowspan=\"8\" valign=\"top\">Dominated_Count</th>\n",
       "      <th>count</th>\n",
       "      <td>1.0</td>\n",
       "      <td>16.00</td>\n",
       "      <td>3.00</td>\n",
       "    </tr>\n",
       "    <tr>\n",
       "      <th>mean</th>\n",
       "      <td>8.0</td>\n",
       "      <td>9.12</td>\n",
       "      <td>1.67</td>\n",
       "    </tr>\n",
       "    <tr>\n",
       "      <th>std</th>\n",
       "      <td>NaN</td>\n",
       "      <td>5.92</td>\n",
       "      <td>2.89</td>\n",
       "    </tr>\n",
       "    <tr>\n",
       "      <th>min</th>\n",
       "      <td>8.0</td>\n",
       "      <td>0.00</td>\n",
       "      <td>0.00</td>\n",
       "    </tr>\n",
       "    <tr>\n",
       "      <th>25%</th>\n",
       "      <td>8.0</td>\n",
       "      <td>4.75</td>\n",
       "      <td>0.00</td>\n",
       "    </tr>\n",
       "    <tr>\n",
       "      <th>50%</th>\n",
       "      <td>8.0</td>\n",
       "      <td>8.50</td>\n",
       "      <td>0.00</td>\n",
       "    </tr>\n",
       "    <tr>\n",
       "      <th>75%</th>\n",
       "      <td>8.0</td>\n",
       "      <td>13.50</td>\n",
       "      <td>2.50</td>\n",
       "    </tr>\n",
       "    <tr>\n",
       "      <th>max</th>\n",
       "      <td>8.0</td>\n",
       "      <td>19.00</td>\n",
       "      <td>5.00</td>\n",
       "    </tr>\n",
       "    <tr>\n",
       "      <th rowspan=\"8\" valign=\"top\">Dominates_Count</th>\n",
       "      <th>count</th>\n",
       "      <td>1.0</td>\n",
       "      <td>16.00</td>\n",
       "      <td>3.00</td>\n",
       "    </tr>\n",
       "    <tr>\n",
       "      <th>mean</th>\n",
       "      <td>4.0</td>\n",
       "      <td>7.00</td>\n",
       "      <td>14.33</td>\n",
       "    </tr>\n",
       "    <tr>\n",
       "      <th>std</th>\n",
       "      <td>NaN</td>\n",
       "      <td>5.20</td>\n",
       "      <td>3.06</td>\n",
       "    </tr>\n",
       "    <tr>\n",
       "      <th>min</th>\n",
       "      <td>4.0</td>\n",
       "      <td>0.00</td>\n",
       "      <td>11.00</td>\n",
       "    </tr>\n",
       "    <tr>\n",
       "      <th>25%</th>\n",
       "      <td>4.0</td>\n",
       "      <td>2.75</td>\n",
       "      <td>13.00</td>\n",
       "    </tr>\n",
       "    <tr>\n",
       "      <th>50%</th>\n",
       "      <td>4.0</td>\n",
       "      <td>6.50</td>\n",
       "      <td>15.00</td>\n",
       "    </tr>\n",
       "    <tr>\n",
       "      <th>75%</th>\n",
       "      <td>4.0</td>\n",
       "      <td>10.00</td>\n",
       "      <td>16.00</td>\n",
       "    </tr>\n",
       "    <tr>\n",
       "      <th>max</th>\n",
       "      <td>4.0</td>\n",
       "      <td>16.00</td>\n",
       "      <td>17.00</td>\n",
       "    </tr>\n",
       "  </tbody>\n",
       "</table>\n",
       "</div>"
      ],
      "text/plain": [
       "Model                  Linear Regression  Neural Networks  Trees\n",
       "Dominated_Count count                1.0            16.00   3.00\n",
       "                mean                 8.0             9.12   1.67\n",
       "                std                  NaN             5.92   2.89\n",
       "                min                  8.0             0.00   0.00\n",
       "                25%                  8.0             4.75   0.00\n",
       "                50%                  8.0             8.50   0.00\n",
       "                75%                  8.0            13.50   2.50\n",
       "                max                  8.0            19.00   5.00\n",
       "Dominates_Count count                1.0            16.00   3.00\n",
       "                mean                 4.0             7.00  14.33\n",
       "                std                  NaN             5.20   3.06\n",
       "                min                  4.0             0.00  11.00\n",
       "                25%                  4.0             2.75  13.00\n",
       "                50%                  4.0             6.50  15.00\n",
       "                75%                  4.0            10.00  16.00\n",
       "                max                  4.0            16.00  17.00"
      ]
     },
     "execution_count": 201,
     "metadata": {},
     "output_type": "execute_result"
    },
    {
     "data": {
      "application/javascript": [
       "\n",
       "            setTimeout(function() {\n",
       "                var nbb_cell_id = 201;\n",
       "                var nbb_unformatted_code = \"df_sorted_topo_models_cols.groupby(\\\"Model\\\").describe().round(2).T\";\n",
       "                var nbb_formatted_code = \"df_sorted_topo_models_cols.groupby(\\\"Model\\\").describe().round(2).T\";\n",
       "                var nbb_cells = Jupyter.notebook.get_cells();\n",
       "                for (var i = 0; i < nbb_cells.length; ++i) {\n",
       "                    if (nbb_cells[i].input_prompt_number == nbb_cell_id) {\n",
       "                        if (nbb_cells[i].get_text() == nbb_unformatted_code) {\n",
       "                             nbb_cells[i].set_text(nbb_formatted_code);\n",
       "                        }\n",
       "                        break;\n",
       "                    }\n",
       "                }\n",
       "            }, 500);\n",
       "            "
      ],
      "text/plain": [
       "<IPython.core.display.Javascript object>"
      ]
     },
     "metadata": {},
     "output_type": "display_data"
    }
   ],
   "source": [
    "df_sorted_topo_models_cols.groupby(\"Model\").describe().round(2).T"
   ]
  },
  {
   "cell_type": "code",
   "execution_count": 202,
   "id": "df40e728",
   "metadata": {},
   "outputs": [
    {
     "data": {
      "application/javascript": [
       "\n",
       "            setTimeout(function() {\n",
       "                var nbb_cell_id = 202;\n",
       "                var nbb_unformatted_code = \"# df_sorted_topo_models_cols\";\n",
       "                var nbb_formatted_code = \"# df_sorted_topo_models_cols\";\n",
       "                var nbb_cells = Jupyter.notebook.get_cells();\n",
       "                for (var i = 0; i < nbb_cells.length; ++i) {\n",
       "                    if (nbb_cells[i].input_prompt_number == nbb_cell_id) {\n",
       "                        if (nbb_cells[i].get_text() == nbb_unformatted_code) {\n",
       "                             nbb_cells[i].set_text(nbb_formatted_code);\n",
       "                        }\n",
       "                        break;\n",
       "                    }\n",
       "                }\n",
       "            }, 500);\n",
       "            "
      ],
      "text/plain": [
       "<IPython.core.display.Javascript object>"
      ]
     },
     "metadata": {},
     "output_type": "display_data"
    }
   ],
   "source": [
    "# df_sorted_topo_models_cols"
   ]
  },
  {
   "cell_type": "code",
   "execution_count": 203,
   "id": "f40a8145",
   "metadata": {},
   "outputs": [
    {
     "data": {
      "text/html": [
       "<div>\n",
       "<style scoped>\n",
       "    .dataframe tbody tr th:only-of-type {\n",
       "        vertical-align: middle;\n",
       "    }\n",
       "\n",
       "    .dataframe tbody tr th {\n",
       "        vertical-align: top;\n",
       "    }\n",
       "\n",
       "    .dataframe thead th {\n",
       "        text-align: right;\n",
       "    }\n",
       "</style>\n",
       "<table border=\"1\" class=\"dataframe\">\n",
       "  <thead>\n",
       "    <tr style=\"text-align: right;\">\n",
       "      <th></th>\n",
       "      <th>count</th>\n",
       "      <th>unique</th>\n",
       "      <th>top</th>\n",
       "      <th>freq</th>\n",
       "    </tr>\n",
       "    <tr>\n",
       "      <th>Model</th>\n",
       "      <th></th>\n",
       "      <th></th>\n",
       "      <th></th>\n",
       "      <th></th>\n",
       "    </tr>\n",
       "  </thead>\n",
       "  <tbody>\n",
       "    <tr>\n",
       "      <th>Linear Regression</th>\n",
       "      <td>1</td>\n",
       "      <td>1</td>\n",
       "      <td>intermediate_model</td>\n",
       "      <td>1</td>\n",
       "    </tr>\n",
       "    <tr>\n",
       "      <th>Neural Networks</th>\n",
       "      <td>16</td>\n",
       "      <td>3</td>\n",
       "      <td>intermediate_model</td>\n",
       "      <td>14</td>\n",
       "    </tr>\n",
       "    <tr>\n",
       "      <th>Trees</th>\n",
       "      <td>3</td>\n",
       "      <td>2</td>\n",
       "      <td>dominant_model</td>\n",
       "      <td>2</td>\n",
       "    </tr>\n",
       "  </tbody>\n",
       "</table>\n",
       "</div>"
      ],
      "text/plain": [
       "                  count unique                 top freq\n",
       "Model                                                  \n",
       "Linear Regression     1      1  intermediate_model    1\n",
       "Neural Networks      16      3  intermediate_model   14\n",
       "Trees                 3      2      dominant_model    2"
      ]
     },
     "execution_count": 203,
     "metadata": {},
     "output_type": "execute_result"
    },
    {
     "data": {
      "application/javascript": [
       "\n",
       "            setTimeout(function() {\n",
       "                var nbb_cell_id = 203;\n",
       "                var nbb_unformatted_code = \"df_sorted_topo_models_cols.groupby(\\\"Model\\\")[\\\"Classification\\\"].describe()\";\n",
       "                var nbb_formatted_code = \"df_sorted_topo_models_cols.groupby(\\\"Model\\\")[\\\"Classification\\\"].describe()\";\n",
       "                var nbb_cells = Jupyter.notebook.get_cells();\n",
       "                for (var i = 0; i < nbb_cells.length; ++i) {\n",
       "                    if (nbb_cells[i].input_prompt_number == nbb_cell_id) {\n",
       "                        if (nbb_cells[i].get_text() == nbb_unformatted_code) {\n",
       "                             nbb_cells[i].set_text(nbb_formatted_code);\n",
       "                        }\n",
       "                        break;\n",
       "                    }\n",
       "                }\n",
       "            }, 500);\n",
       "            "
      ],
      "text/plain": [
       "<IPython.core.display.Javascript object>"
      ]
     },
     "metadata": {},
     "output_type": "display_data"
    }
   ],
   "source": [
    "df_sorted_topo_models_cols.groupby(\"Model\")[\"Classification\"].describe()"
   ]
  },
  {
   "cell_type": "code",
   "execution_count": 204,
   "id": "8a60e04a",
   "metadata": {
    "scrolled": true
   },
   "outputs": [
    {
     "data": {
      "text/plain": [
       "Model              Classification    \n",
       "Linear Regression  intermediate_model     1\n",
       "Neural Networks    intermediate_model    14\n",
       "                   dominant_model         1\n",
       "                   non_dominant_model     1\n",
       "Trees              dominant_model         2\n",
       "                   intermediate_model     1\n",
       "Name: count, dtype: int64"
      ]
     },
     "execution_count": 204,
     "metadata": {},
     "output_type": "execute_result"
    },
    {
     "data": {
      "application/javascript": [
       "\n",
       "            setTimeout(function() {\n",
       "                var nbb_cell_id = 204;\n",
       "                var nbb_unformatted_code = \"df_sorted_topo_models_cols.groupby(\\\"Model\\\")[[\\\"Classification\\\"]].value_counts()\";\n",
       "                var nbb_formatted_code = \"df_sorted_topo_models_cols.groupby(\\\"Model\\\")[[\\\"Classification\\\"]].value_counts()\";\n",
       "                var nbb_cells = Jupyter.notebook.get_cells();\n",
       "                for (var i = 0; i < nbb_cells.length; ++i) {\n",
       "                    if (nbb_cells[i].input_prompt_number == nbb_cell_id) {\n",
       "                        if (nbb_cells[i].get_text() == nbb_unformatted_code) {\n",
       "                             nbb_cells[i].set_text(nbb_formatted_code);\n",
       "                        }\n",
       "                        break;\n",
       "                    }\n",
       "                }\n",
       "            }, 500);\n",
       "            "
      ],
      "text/plain": [
       "<IPython.core.display.Javascript object>"
      ]
     },
     "metadata": {},
     "output_type": "display_data"
    }
   ],
   "source": [
    "df_sorted_topo_models_cols.groupby(\"Model\")[[\"Classification\"]].value_counts()"
   ]
  },
  {
   "cell_type": "code",
   "execution_count": 205,
   "id": "bc79665e",
   "metadata": {},
   "outputs": [
    {
     "data": {
      "application/javascript": [
       "\n",
       "            setTimeout(function() {\n",
       "                var nbb_cell_id = 205;\n",
       "                var nbb_unformatted_code = \"summary_stats = df_sorted_topo_models_cols.groupby(\\\"Model\\\").agg(\\n    Total_Models=(\\\"Model\\\", \\\"count\\\"),\\n    Mean_Dominance_Count=(\\\"Dominates_Count\\\", \\\"mean\\\"),\\n    Median_Dominance_Count=(\\\"Dominates_Count\\\", \\\"median\\\"),\\n    Total_Dominated=(\\\"Dominated_Count\\\", \\\"sum\\\"),\\n    Total_Dominating=(\\\"Dominates_Count\\\", \\\"sum\\\"),\\n)\\n\\ntotal_models = summary_stats[\\n    \\\"Total_Models\\\"\\n].sum()  # Get the total number of models across all categories\\nsummary_stats[\\\"Dominance Proportion\\\"] = summary_stats[\\\"Total_Dominating\\\"] / total_models\";\n",
       "                var nbb_formatted_code = \"summary_stats = df_sorted_topo_models_cols.groupby(\\\"Model\\\").agg(\\n    Total_Models=(\\\"Model\\\", \\\"count\\\"),\\n    Mean_Dominance_Count=(\\\"Dominates_Count\\\", \\\"mean\\\"),\\n    Median_Dominance_Count=(\\\"Dominates_Count\\\", \\\"median\\\"),\\n    Total_Dominated=(\\\"Dominated_Count\\\", \\\"sum\\\"),\\n    Total_Dominating=(\\\"Dominates_Count\\\", \\\"sum\\\"),\\n)\\n\\ntotal_models = summary_stats[\\n    \\\"Total_Models\\\"\\n].sum()  # Get the total number of models across all categories\\nsummary_stats[\\\"Dominance Proportion\\\"] = summary_stats[\\\"Total_Dominating\\\"] / total_models\";\n",
       "                var nbb_cells = Jupyter.notebook.get_cells();\n",
       "                for (var i = 0; i < nbb_cells.length; ++i) {\n",
       "                    if (nbb_cells[i].input_prompt_number == nbb_cell_id) {\n",
       "                        if (nbb_cells[i].get_text() == nbb_unformatted_code) {\n",
       "                             nbb_cells[i].set_text(nbb_formatted_code);\n",
       "                        }\n",
       "                        break;\n",
       "                    }\n",
       "                }\n",
       "            }, 500);\n",
       "            "
      ],
      "text/plain": [
       "<IPython.core.display.Javascript object>"
      ]
     },
     "metadata": {},
     "output_type": "display_data"
    }
   ],
   "source": [
    "summary_stats = df_sorted_topo_models_cols.groupby(\"Model\").agg(\n",
    "    Total_Models=(\"Model\", \"count\"),\n",
    "    Mean_Dominance_Count=(\"Dominates_Count\", \"mean\"),\n",
    "    Median_Dominance_Count=(\"Dominates_Count\", \"median\"),\n",
    "    Total_Dominated=(\"Dominated_Count\", \"sum\"),\n",
    "    Total_Dominating=(\"Dominates_Count\", \"sum\"),\n",
    ")\n",
    "\n",
    "total_models = summary_stats[\n",
    "    \"Total_Models\"\n",
    "].sum()  # Get the total number of models across all categories\n",
    "summary_stats[\"Dominance Proportion\"] = summary_stats[\"Total_Dominating\"] / total_models"
   ]
  },
  {
   "cell_type": "code",
   "execution_count": 206,
   "id": "115c9156",
   "metadata": {},
   "outputs": [
    {
     "data": {
      "text/html": [
       "<div>\n",
       "<style scoped>\n",
       "    .dataframe tbody tr th:only-of-type {\n",
       "        vertical-align: middle;\n",
       "    }\n",
       "\n",
       "    .dataframe tbody tr th {\n",
       "        vertical-align: top;\n",
       "    }\n",
       "\n",
       "    .dataframe thead th {\n",
       "        text-align: right;\n",
       "    }\n",
       "</style>\n",
       "<table border=\"1\" class=\"dataframe\">\n",
       "  <thead>\n",
       "    <tr style=\"text-align: right;\">\n",
       "      <th></th>\n",
       "      <th>Total_Models</th>\n",
       "      <th>Mean_Dominance_Count</th>\n",
       "      <th>Median_Dominance_Count</th>\n",
       "      <th>Total_Dominated</th>\n",
       "      <th>Total_Dominating</th>\n",
       "      <th>Dominance Proportion</th>\n",
       "    </tr>\n",
       "    <tr>\n",
       "      <th>Model</th>\n",
       "      <th></th>\n",
       "      <th></th>\n",
       "      <th></th>\n",
       "      <th></th>\n",
       "      <th></th>\n",
       "      <th></th>\n",
       "    </tr>\n",
       "  </thead>\n",
       "  <tbody>\n",
       "    <tr>\n",
       "      <th>Linear Regression</th>\n",
       "      <td>1</td>\n",
       "      <td>4.00</td>\n",
       "      <td>4.0</td>\n",
       "      <td>8</td>\n",
       "      <td>4</td>\n",
       "      <td>0.20</td>\n",
       "    </tr>\n",
       "    <tr>\n",
       "      <th>Neural Networks</th>\n",
       "      <td>16</td>\n",
       "      <td>7.00</td>\n",
       "      <td>6.5</td>\n",
       "      <td>146</td>\n",
       "      <td>112</td>\n",
       "      <td>5.60</td>\n",
       "    </tr>\n",
       "    <tr>\n",
       "      <th>Trees</th>\n",
       "      <td>3</td>\n",
       "      <td>14.33</td>\n",
       "      <td>15.0</td>\n",
       "      <td>5</td>\n",
       "      <td>43</td>\n",
       "      <td>2.15</td>\n",
       "    </tr>\n",
       "  </tbody>\n",
       "</table>\n",
       "</div>"
      ],
      "text/plain": [
       "                   Total_Models  Mean_Dominance_Count  Median_Dominance_Count  \\\n",
       "Model                                                                           \n",
       "Linear Regression             1                  4.00                     4.0   \n",
       "Neural Networks              16                  7.00                     6.5   \n",
       "Trees                         3                 14.33                    15.0   \n",
       "\n",
       "                   Total_Dominated  Total_Dominating  Dominance Proportion  \n",
       "Model                                                                       \n",
       "Linear Regression                8                 4                  0.20  \n",
       "Neural Networks                146               112                  5.60  \n",
       "Trees                            5                43                  2.15  "
      ]
     },
     "execution_count": 206,
     "metadata": {},
     "output_type": "execute_result"
    },
    {
     "data": {
      "application/javascript": [
       "\n",
       "            setTimeout(function() {\n",
       "                var nbb_cell_id = 206;\n",
       "                var nbb_unformatted_code = \"summary_stats.round(2)\";\n",
       "                var nbb_formatted_code = \"summary_stats.round(2)\";\n",
       "                var nbb_cells = Jupyter.notebook.get_cells();\n",
       "                for (var i = 0; i < nbb_cells.length; ++i) {\n",
       "                    if (nbb_cells[i].input_prompt_number == nbb_cell_id) {\n",
       "                        if (nbb_cells[i].get_text() == nbb_unformatted_code) {\n",
       "                             nbb_cells[i].set_text(nbb_formatted_code);\n",
       "                        }\n",
       "                        break;\n",
       "                    }\n",
       "                }\n",
       "            }, 500);\n",
       "            "
      ],
      "text/plain": [
       "<IPython.core.display.Javascript object>"
      ]
     },
     "metadata": {},
     "output_type": "display_data"
    }
   ],
   "source": [
    "summary_stats.round(2)"
   ]
  },
  {
   "cell_type": "code",
   "execution_count": 207,
   "id": "6f7a4645",
   "metadata": {},
   "outputs": [
    {
     "data": {
      "text/html": [
       "<div>\n",
       "<style scoped>\n",
       "    .dataframe tbody tr th:only-of-type {\n",
       "        vertical-align: middle;\n",
       "    }\n",
       "\n",
       "    .dataframe tbody tr th {\n",
       "        vertical-align: top;\n",
       "    }\n",
       "\n",
       "    .dataframe thead tr th {\n",
       "        text-align: left;\n",
       "    }\n",
       "\n",
       "    .dataframe thead tr:last-of-type th {\n",
       "        text-align: right;\n",
       "    }\n",
       "</style>\n",
       "<table border=\"1\" class=\"dataframe\">\n",
       "  <thead>\n",
       "    <tr>\n",
       "      <th></th>\n",
       "      <th colspan=\"8\" halign=\"left\">RMSE_mean</th>\n",
       "      <th colspan=\"2\" halign=\"left\">RMSE_std</th>\n",
       "      <th>...</th>\n",
       "      <th colspan=\"2\" halign=\"left\">Dominated_Count</th>\n",
       "      <th colspan=\"8\" halign=\"left\">Dominates_Count</th>\n",
       "    </tr>\n",
       "    <tr>\n",
       "      <th></th>\n",
       "      <th>count</th>\n",
       "      <th>mean</th>\n",
       "      <th>std</th>\n",
       "      <th>min</th>\n",
       "      <th>25%</th>\n",
       "      <th>50%</th>\n",
       "      <th>75%</th>\n",
       "      <th>max</th>\n",
       "      <th>count</th>\n",
       "      <th>mean</th>\n",
       "      <th>...</th>\n",
       "      <th>75%</th>\n",
       "      <th>max</th>\n",
       "      <th>count</th>\n",
       "      <th>mean</th>\n",
       "      <th>std</th>\n",
       "      <th>min</th>\n",
       "      <th>25%</th>\n",
       "      <th>50%</th>\n",
       "      <th>75%</th>\n",
       "      <th>max</th>\n",
       "    </tr>\n",
       "    <tr>\n",
       "      <th>Model</th>\n",
       "      <th></th>\n",
       "      <th></th>\n",
       "      <th></th>\n",
       "      <th></th>\n",
       "      <th></th>\n",
       "      <th></th>\n",
       "      <th></th>\n",
       "      <th></th>\n",
       "      <th></th>\n",
       "      <th></th>\n",
       "      <th></th>\n",
       "      <th></th>\n",
       "      <th></th>\n",
       "      <th></th>\n",
       "      <th></th>\n",
       "      <th></th>\n",
       "      <th></th>\n",
       "      <th></th>\n",
       "      <th></th>\n",
       "      <th></th>\n",
       "      <th></th>\n",
       "    </tr>\n",
       "  </thead>\n",
       "  <tbody>\n",
       "    <tr>\n",
       "      <th>Linear Regression</th>\n",
       "      <td>1.0</td>\n",
       "      <td>3.237811</td>\n",
       "      <td>NaN</td>\n",
       "      <td>3.237811</td>\n",
       "      <td>3.237811</td>\n",
       "      <td>3.237811</td>\n",
       "      <td>3.237811</td>\n",
       "      <td>3.237811</td>\n",
       "      <td>1.0</td>\n",
       "      <td>0.768772</td>\n",
       "      <td>...</td>\n",
       "      <td>8.0</td>\n",
       "      <td>8.0</td>\n",
       "      <td>1.0</td>\n",
       "      <td>4.000000</td>\n",
       "      <td>NaN</td>\n",
       "      <td>4.0</td>\n",
       "      <td>4.00</td>\n",
       "      <td>4.0</td>\n",
       "      <td>4.0</td>\n",
       "      <td>4.0</td>\n",
       "    </tr>\n",
       "    <tr>\n",
       "      <th>Neural Networks</th>\n",
       "      <td>16.0</td>\n",
       "      <td>3.651869</td>\n",
       "      <td>0.990150</td>\n",
       "      <td>2.374921</td>\n",
       "      <td>3.000890</td>\n",
       "      <td>3.507452</td>\n",
       "      <td>4.118500</td>\n",
       "      <td>6.278918</td>\n",
       "      <td>16.0</td>\n",
       "      <td>1.375059</td>\n",
       "      <td>...</td>\n",
       "      <td>13.5</td>\n",
       "      <td>19.0</td>\n",
       "      <td>16.0</td>\n",
       "      <td>7.000000</td>\n",
       "      <td>5.202563</td>\n",
       "      <td>0.0</td>\n",
       "      <td>2.75</td>\n",
       "      <td>6.5</td>\n",
       "      <td>10.0</td>\n",
       "      <td>16.0</td>\n",
       "    </tr>\n",
       "    <tr>\n",
       "      <th>Trees</th>\n",
       "      <td>3.0</td>\n",
       "      <td>2.608345</td>\n",
       "      <td>0.136337</td>\n",
       "      <td>2.469346</td>\n",
       "      <td>2.541591</td>\n",
       "      <td>2.613836</td>\n",
       "      <td>2.677844</td>\n",
       "      <td>2.741853</td>\n",
       "      <td>3.0</td>\n",
       "      <td>0.885118</td>\n",
       "      <td>...</td>\n",
       "      <td>2.5</td>\n",
       "      <td>5.0</td>\n",
       "      <td>3.0</td>\n",
       "      <td>14.333333</td>\n",
       "      <td>3.055050</td>\n",
       "      <td>11.0</td>\n",
       "      <td>13.00</td>\n",
       "      <td>15.0</td>\n",
       "      <td>16.0</td>\n",
       "      <td>17.0</td>\n",
       "    </tr>\n",
       "  </tbody>\n",
       "</table>\n",
       "<p>3 rows × 88 columns</p>\n",
       "</div>"
      ],
      "text/plain": [
       "                  RMSE_mean                                                    \\\n",
       "                      count      mean       std       min       25%       50%   \n",
       "Model                                                                           \n",
       "Linear Regression       1.0  3.237811       NaN  3.237811  3.237811  3.237811   \n",
       "Neural Networks        16.0  3.651869  0.990150  2.374921  3.000890  3.507452   \n",
       "Trees                   3.0  2.608345  0.136337  2.469346  2.541591  2.613836   \n",
       "\n",
       "                                      RMSE_std            ... Dominated_Count  \\\n",
       "                        75%       max    count      mean  ...             75%   \n",
       "Model                                                     ...                   \n",
       "Linear Regression  3.237811  3.237811      1.0  0.768772  ...             8.0   \n",
       "Neural Networks    4.118500  6.278918     16.0  1.375059  ...            13.5   \n",
       "Trees              2.677844  2.741853      3.0  0.885118  ...             2.5   \n",
       "\n",
       "                        Dominates_Count                                    \\\n",
       "                    max           count       mean       std   min    25%   \n",
       "Model                                                                       \n",
       "Linear Regression   8.0             1.0   4.000000       NaN   4.0   4.00   \n",
       "Neural Networks    19.0            16.0   7.000000  5.202563   0.0   2.75   \n",
       "Trees               5.0             3.0  14.333333  3.055050  11.0  13.00   \n",
       "\n",
       "                                     \n",
       "                    50%   75%   max  \n",
       "Model                                \n",
       "Linear Regression   4.0   4.0   4.0  \n",
       "Neural Networks     6.5  10.0  16.0  \n",
       "Trees              15.0  16.0  17.0  \n",
       "\n",
       "[3 rows x 88 columns]"
      ]
     },
     "execution_count": 207,
     "metadata": {},
     "output_type": "execute_result"
    },
    {
     "data": {
      "application/javascript": [
       "\n",
       "            setTimeout(function() {\n",
       "                var nbb_cell_id = 207;\n",
       "                var nbb_unformatted_code = \"df_sorted_topo_models_grouped.T\";\n",
       "                var nbb_formatted_code = \"df_sorted_topo_models_grouped.T\";\n",
       "                var nbb_cells = Jupyter.notebook.get_cells();\n",
       "                for (var i = 0; i < nbb_cells.length; ++i) {\n",
       "                    if (nbb_cells[i].input_prompt_number == nbb_cell_id) {\n",
       "                        if (nbb_cells[i].get_text() == nbb_unformatted_code) {\n",
       "                             nbb_cells[i].set_text(nbb_formatted_code);\n",
       "                        }\n",
       "                        break;\n",
       "                    }\n",
       "                }\n",
       "            }, 500);\n",
       "            "
      ],
      "text/plain": [
       "<IPython.core.display.Javascript object>"
      ]
     },
     "metadata": {},
     "output_type": "display_data"
    }
   ],
   "source": [
    "df_sorted_topo_models_grouped.T"
   ]
  },
  {
   "cell_type": "markdown",
   "id": "b27ee416",
   "metadata": {},
   "source": [
    "### SCPM Analysis"
   ]
  },
  {
   "cell_type": "code",
   "execution_count": 208,
   "id": "933c026c",
   "metadata": {},
   "outputs": [
    {
     "data": {
      "application/javascript": [
       "\n",
       "            setTimeout(function() {\n",
       "                var nbb_cell_id = 208;\n",
       "                var nbb_unformatted_code = \"cols = [\\n    # \\\"Model\\\",\\n    # \\\"Model_bkp\\\",\\n    \\\"Model_bkp_2\\\",\\n    \\\"RMSE_mean\\\",\\n    \\\"RMSE_std\\\",\\n    \\\"MAE_mean\\\",\\n    \\\"MAE_std\\\",\\n    \\\"MAPE_mean\\\",\\n    \\\"MAPE_std\\\",\\n    \\\"R2_mean\\\",\\n    \\\"R2_std\\\",\\n    \\\"SCPM\\\",\\n    \\\"Dominated_Count\\\",\\n    \\\"Dominates_Count\\\",\\n    \\\"Classification\\\",\\n    \\\"Plant\\\",\\n]\";\n",
       "                var nbb_formatted_code = \"cols = [\\n    # \\\"Model\\\",\\n    # \\\"Model_bkp\\\",\\n    \\\"Model_bkp_2\\\",\\n    \\\"RMSE_mean\\\",\\n    \\\"RMSE_std\\\",\\n    \\\"MAE_mean\\\",\\n    \\\"MAE_std\\\",\\n    \\\"MAPE_mean\\\",\\n    \\\"MAPE_std\\\",\\n    \\\"R2_mean\\\",\\n    \\\"R2_std\\\",\\n    \\\"SCPM\\\",\\n    \\\"Dominated_Count\\\",\\n    \\\"Dominates_Count\\\",\\n    \\\"Classification\\\",\\n    \\\"Plant\\\",\\n]\";\n",
       "                var nbb_cells = Jupyter.notebook.get_cells();\n",
       "                for (var i = 0; i < nbb_cells.length; ++i) {\n",
       "                    if (nbb_cells[i].input_prompt_number == nbb_cell_id) {\n",
       "                        if (nbb_cells[i].get_text() == nbb_unformatted_code) {\n",
       "                             nbb_cells[i].set_text(nbb_formatted_code);\n",
       "                        }\n",
       "                        break;\n",
       "                    }\n",
       "                }\n",
       "            }, 500);\n",
       "            "
      ],
      "text/plain": [
       "<IPython.core.display.Javascript object>"
      ]
     },
     "metadata": {},
     "output_type": "display_data"
    }
   ],
   "source": [
    "cols = [\n",
    "    # \"Model\",\n",
    "    # \"Model_bkp\",\n",
    "    \"Model_bkp_2\",\n",
    "    \"RMSE_mean\",\n",
    "    \"RMSE_std\",\n",
    "    \"MAE_mean\",\n",
    "    \"MAE_std\",\n",
    "    \"MAPE_mean\",\n",
    "    \"MAPE_std\",\n",
    "    \"R2_mean\",\n",
    "    \"R2_std\",\n",
    "    \"SCPM\",\n",
    "    \"Dominated_Count\",\n",
    "    \"Dominates_Count\",\n",
    "    \"Classification\",\n",
    "    \"Plant\",\n",
    "]"
   ]
  },
  {
   "cell_type": "markdown",
   "id": "5deabe9a",
   "metadata": {},
   "source": [
    "#### SCPM Analysis by Project"
   ]
  },
  {
   "cell_type": "code",
   "execution_count": 209,
   "id": "d50a8d09",
   "metadata": {},
   "outputs": [
    {
     "data": {
      "application/javascript": [
       "\n",
       "            setTimeout(function() {\n",
       "                var nbb_cell_id = 209;\n",
       "                var nbb_unformatted_code = \"df_sorted_scpm = df_sorted_topo.sort_values(by=\\\"SCPM\\\").copy()\";\n",
       "                var nbb_formatted_code = \"df_sorted_scpm = df_sorted_topo.sort_values(by=\\\"SCPM\\\").copy()\";\n",
       "                var nbb_cells = Jupyter.notebook.get_cells();\n",
       "                for (var i = 0; i < nbb_cells.length; ++i) {\n",
       "                    if (nbb_cells[i].input_prompt_number == nbb_cell_id) {\n",
       "                        if (nbb_cells[i].get_text() == nbb_unformatted_code) {\n",
       "                             nbb_cells[i].set_text(nbb_formatted_code);\n",
       "                        }\n",
       "                        break;\n",
       "                    }\n",
       "                }\n",
       "            }, 500);\n",
       "            "
      ],
      "text/plain": [
       "<IPython.core.display.Javascript object>"
      ]
     },
     "metadata": {},
     "output_type": "display_data"
    }
   ],
   "source": [
    "df_sorted_scpm = df_sorted_topo.sort_values(by=\"SCPM\").copy()"
   ]
  },
  {
   "cell_type": "code",
   "execution_count": 210,
   "id": "1d2a4571",
   "metadata": {
    "scrolled": false
   },
   "outputs": [
    {
     "data": {
      "application/javascript": [
       "\n",
       "            setTimeout(function() {\n",
       "                var nbb_cell_id = 210;\n",
       "                var nbb_unformatted_code = \"# (df_sorted_topo[cols].reset_index() == df_sorted_scpm[cols].reset_index()).all(axis=1)\\ndf_sorted_scpm[\\\"topo_scmp_order_eq\\\"] = df_sorted_topo.index == df_sorted_scpm.index\";\n",
       "                var nbb_formatted_code = \"# (df_sorted_topo[cols].reset_index() == df_sorted_scpm[cols].reset_index()).all(axis=1)\\ndf_sorted_scpm[\\\"topo_scmp_order_eq\\\"] = df_sorted_topo.index == df_sorted_scpm.index\";\n",
       "                var nbb_cells = Jupyter.notebook.get_cells();\n",
       "                for (var i = 0; i < nbb_cells.length; ++i) {\n",
       "                    if (nbb_cells[i].input_prompt_number == nbb_cell_id) {\n",
       "                        if (nbb_cells[i].get_text() == nbb_unformatted_code) {\n",
       "                             nbb_cells[i].set_text(nbb_formatted_code);\n",
       "                        }\n",
       "                        break;\n",
       "                    }\n",
       "                }\n",
       "            }, 500);\n",
       "            "
      ],
      "text/plain": [
       "<IPython.core.display.Javascript object>"
      ]
     },
     "metadata": {},
     "output_type": "display_data"
    }
   ],
   "source": [
    "# (df_sorted_topo[cols].reset_index() == df_sorted_scpm[cols].reset_index()).all(axis=1)\n",
    "df_sorted_scpm[\"topo_scmp_order_eq\"] = df_sorted_topo.index == df_sorted_scpm.index"
   ]
  },
  {
   "cell_type": "code",
   "execution_count": 211,
   "id": "e7132849",
   "metadata": {
    "scrolled": false
   },
   "outputs": [
    {
     "data": {
      "text/html": [
       "<div>\n",
       "<style scoped>\n",
       "    .dataframe tbody tr th:only-of-type {\n",
       "        vertical-align: middle;\n",
       "    }\n",
       "\n",
       "    .dataframe tbody tr th {\n",
       "        vertical-align: top;\n",
       "    }\n",
       "\n",
       "    .dataframe thead th {\n",
       "        text-align: right;\n",
       "    }\n",
       "</style>\n",
       "<table border=\"1\" class=\"dataframe\">\n",
       "  <thead>\n",
       "    <tr style=\"text-align: right;\">\n",
       "      <th></th>\n",
       "      <th>Model_bkp_2</th>\n",
       "      <th>RMSE_mean</th>\n",
       "      <th>RMSE_std</th>\n",
       "      <th>MAE_mean</th>\n",
       "      <th>MAE_std</th>\n",
       "      <th>MAPE_mean</th>\n",
       "      <th>MAPE_std</th>\n",
       "      <th>R2_mean</th>\n",
       "      <th>R2_std</th>\n",
       "      <th>SCPM</th>\n",
       "      <th>Dominated_Count</th>\n",
       "      <th>Dominates_Count</th>\n",
       "      <th>Classification</th>\n",
       "      <th>Plant</th>\n",
       "      <th>topo_scmp_order_eq</th>\n",
       "    </tr>\n",
       "  </thead>\n",
       "  <tbody>\n",
       "    <tr>\n",
       "      <th>16</th>\n",
       "      <td>Decision Tree</td>\n",
       "      <td>2.61</td>\n",
       "      <td>1.00</td>\n",
       "      <td>1.50</td>\n",
       "      <td>0.50</td>\n",
       "      <td>3.47</td>\n",
       "      <td>1.07</td>\n",
       "      <td>0.78</td>\n",
       "      <td>0.15</td>\n",
       "      <td>-5.22</td>\n",
       "      <td>0</td>\n",
       "      <td>15</td>\n",
       "      <td>dominant_model</td>\n",
       "      <td>c</td>\n",
       "      <td>False</td>\n",
       "    </tr>\n",
       "    <tr>\n",
       "      <th>13</th>\n",
       "      <td>Random Forest</td>\n",
       "      <td>2.47</td>\n",
       "      <td>0.83</td>\n",
       "      <td>1.62</td>\n",
       "      <td>0.54</td>\n",
       "      <td>3.74</td>\n",
       "      <td>1.18</td>\n",
       "      <td>0.81</td>\n",
       "      <td>0.12</td>\n",
       "      <td>-4.81</td>\n",
       "      <td>0</td>\n",
       "      <td>17</td>\n",
       "      <td>dominant_model</td>\n",
       "      <td>c</td>\n",
       "      <td>True</td>\n",
       "    </tr>\n",
       "    <tr>\n",
       "      <th>1</th>\n",
       "      <td>Transformer_7.0</td>\n",
       "      <td>2.37</td>\n",
       "      <td>0.45</td>\n",
       "      <td>1.70</td>\n",
       "      <td>0.27</td>\n",
       "      <td>4.08</td>\n",
       "      <td>0.62</td>\n",
       "      <td>0.83</td>\n",
       "      <td>0.06</td>\n",
       "      <td>-4.37</td>\n",
       "      <td>0</td>\n",
       "      <td>16</td>\n",
       "      <td>dominant_model</td>\n",
       "      <td>c</td>\n",
       "      <td>False</td>\n",
       "    </tr>\n",
       "    <tr>\n",
       "      <th>0</th>\n",
       "      <td>Transformer_1.0</td>\n",
       "      <td>2.52</td>\n",
       "      <td>0.61</td>\n",
       "      <td>1.67</td>\n",
       "      <td>0.34</td>\n",
       "      <td>4.03</td>\n",
       "      <td>0.92</td>\n",
       "      <td>0.81</td>\n",
       "      <td>0.10</td>\n",
       "      <td>-4.28</td>\n",
       "      <td>1</td>\n",
       "      <td>16</td>\n",
       "      <td>intermediate_model</td>\n",
       "      <td>c</td>\n",
       "      <td>True</td>\n",
       "    </tr>\n",
       "    <tr>\n",
       "      <th>18</th>\n",
       "      <td>LSTM_7.0</td>\n",
       "      <td>2.60</td>\n",
       "      <td>0.34</td>\n",
       "      <td>1.90</td>\n",
       "      <td>0.30</td>\n",
       "      <td>4.37</td>\n",
       "      <td>0.69</td>\n",
       "      <td>0.80</td>\n",
       "      <td>0.05</td>\n",
       "      <td>-3.19</td>\n",
       "      <td>3</td>\n",
       "      <td>14</td>\n",
       "      <td>intermediate_model</td>\n",
       "      <td>c</td>\n",
       "      <td>True</td>\n",
       "    </tr>\n",
       "  </tbody>\n",
       "</table>\n",
       "</div>"
      ],
      "text/plain": [
       "        Model_bkp_2  RMSE_mean  RMSE_std  MAE_mean  MAE_std  MAPE_mean  \\\n",
       "16    Decision Tree       2.61      1.00      1.50     0.50       3.47   \n",
       "13    Random Forest       2.47      0.83      1.62     0.54       3.74   \n",
       "1   Transformer_7.0       2.37      0.45      1.70     0.27       4.08   \n",
       "0   Transformer_1.0       2.52      0.61      1.67     0.34       4.03   \n",
       "18         LSTM_7.0       2.60      0.34      1.90     0.30       4.37   \n",
       "\n",
       "    MAPE_std  R2_mean  R2_std  SCPM  Dominated_Count  Dominates_Count  \\\n",
       "16      1.07     0.78    0.15 -5.22                0               15   \n",
       "13      1.18     0.81    0.12 -4.81                0               17   \n",
       "1       0.62     0.83    0.06 -4.37                0               16   \n",
       "0       0.92     0.81    0.10 -4.28                1               16   \n",
       "18      0.69     0.80    0.05 -3.19                3               14   \n",
       "\n",
       "        Classification Plant  topo_scmp_order_eq  \n",
       "16      dominant_model     c               False  \n",
       "13      dominant_model     c                True  \n",
       "1       dominant_model     c               False  \n",
       "0   intermediate_model     c                True  \n",
       "18  intermediate_model     c                True  "
      ]
     },
     "execution_count": 211,
     "metadata": {},
     "output_type": "execute_result"
    },
    {
     "data": {
      "application/javascript": [
       "\n",
       "            setTimeout(function() {\n",
       "                var nbb_cell_id = 211;\n",
       "                var nbb_unformatted_code = \"df_sorted_scpm[cols + [\\\"topo_scmp_order_eq\\\"]].round(2).head(5)\";\n",
       "                var nbb_formatted_code = \"df_sorted_scpm[cols + [\\\"topo_scmp_order_eq\\\"]].round(2).head(5)\";\n",
       "                var nbb_cells = Jupyter.notebook.get_cells();\n",
       "                for (var i = 0; i < nbb_cells.length; ++i) {\n",
       "                    if (nbb_cells[i].input_prompt_number == nbb_cell_id) {\n",
       "                        if (nbb_cells[i].get_text() == nbb_unformatted_code) {\n",
       "                             nbb_cells[i].set_text(nbb_formatted_code);\n",
       "                        }\n",
       "                        break;\n",
       "                    }\n",
       "                }\n",
       "            }, 500);\n",
       "            "
      ],
      "text/plain": [
       "<IPython.core.display.Javascript object>"
      ]
     },
     "metadata": {},
     "output_type": "display_data"
    }
   ],
   "source": [
    "df_sorted_scpm[cols + [\"topo_scmp_order_eq\"]].round(2).head(5)"
   ]
  },
  {
   "cell_type": "markdown",
   "id": "4ca7690b",
   "metadata": {},
   "source": [
    "### Variable Grouping: CM-P"
   ]
  },
  {
   "cell_type": "code",
   "execution_count": 212,
   "id": "89de4a2c",
   "metadata": {},
   "outputs": [
    {
     "data": {
      "text/plain": [
       "array(['Chemical + Mineralogical + Physical', 'Chemical + Mineralogical',\n",
       "       'Chemical + Mineralogical + Physical - Early CS'], dtype=object)"
      ]
     },
     "execution_count": 212,
     "metadata": {},
     "output_type": "execute_result"
    },
    {
     "data": {
      "application/javascript": [
       "\n",
       "            setTimeout(function() {\n",
       "                var nbb_cell_id = 212;\n",
       "                var nbb_unformatted_code = \"df_results[\\\"Features\\\"].unique()\";\n",
       "                var nbb_formatted_code = \"df_results[\\\"Features\\\"].unique()\";\n",
       "                var nbb_cells = Jupyter.notebook.get_cells();\n",
       "                for (var i = 0; i < nbb_cells.length; ++i) {\n",
       "                    if (nbb_cells[i].input_prompt_number == nbb_cell_id) {\n",
       "                        if (nbb_cells[i].get_text() == nbb_unformatted_code) {\n",
       "                             nbb_cells[i].set_text(nbb_formatted_code);\n",
       "                        }\n",
       "                        break;\n",
       "                    }\n",
       "                }\n",
       "            }, 500);\n",
       "            "
      ],
      "text/plain": [
       "<IPython.core.display.Javascript object>"
      ]
     },
     "metadata": {},
     "output_type": "display_data"
    }
   ],
   "source": [
    "df_results[\"Features\"].unique()"
   ]
  },
  {
   "cell_type": "code",
   "execution_count": 213,
   "id": "5d8333e0",
   "metadata": {},
   "outputs": [
    {
     "data": {
      "application/javascript": [
       "\n",
       "            setTimeout(function() {\n",
       "                var nbb_cell_id = 213;\n",
       "                var nbb_unformatted_code = \"df_results_cm_p = (\\n    df_results[\\n        df_results[\\\"Features\\\"].eq(\\\"Chemical + Mineralogical + Physical - Early CS\\\")\\n    ]\\n    .copy()\\n    .reset_index(drop=True)\\n)\";\n",
       "                var nbb_formatted_code = \"df_results_cm_p = (\\n    df_results[\\n        df_results[\\\"Features\\\"].eq(\\\"Chemical + Mineralogical + Physical - Early CS\\\")\\n    ]\\n    .copy()\\n    .reset_index(drop=True)\\n)\";\n",
       "                var nbb_cells = Jupyter.notebook.get_cells();\n",
       "                for (var i = 0; i < nbb_cells.length; ++i) {\n",
       "                    if (nbb_cells[i].input_prompt_number == nbb_cell_id) {\n",
       "                        if (nbb_cells[i].get_text() == nbb_unformatted_code) {\n",
       "                             nbb_cells[i].set_text(nbb_formatted_code);\n",
       "                        }\n",
       "                        break;\n",
       "                    }\n",
       "                }\n",
       "            }, 500);\n",
       "            "
      ],
      "text/plain": [
       "<IPython.core.display.Javascript object>"
      ]
     },
     "metadata": {},
     "output_type": "display_data"
    }
   ],
   "source": [
    "df_results_cm_p = (\n",
    "    df_results[\n",
    "        df_results[\"Features\"].eq(\"Chemical + Mineralogical + Physical - Early CS\")\n",
    "    ]\n",
    "    .copy()\n",
    "    .reset_index(drop=True)\n",
    ")"
   ]
  },
  {
   "cell_type": "code",
   "execution_count": 214,
   "id": "f59bf03c",
   "metadata": {},
   "outputs": [
    {
     "data": {
      "text/plain": [
       "array(['Chemical + Mineralogical + Physical - Early CS'], dtype=object)"
      ]
     },
     "execution_count": 214,
     "metadata": {},
     "output_type": "execute_result"
    },
    {
     "data": {
      "application/javascript": [
       "\n",
       "            setTimeout(function() {\n",
       "                var nbb_cell_id = 214;\n",
       "                var nbb_unformatted_code = \"df_results_cm_p[\\\"Features\\\"].unique()\";\n",
       "                var nbb_formatted_code = \"df_results_cm_p[\\\"Features\\\"].unique()\";\n",
       "                var nbb_cells = Jupyter.notebook.get_cells();\n",
       "                for (var i = 0; i < nbb_cells.length; ++i) {\n",
       "                    if (nbb_cells[i].input_prompt_number == nbb_cell_id) {\n",
       "                        if (nbb_cells[i].get_text() == nbb_unformatted_code) {\n",
       "                             nbb_cells[i].set_text(nbb_formatted_code);\n",
       "                        }\n",
       "                        break;\n",
       "                    }\n",
       "                }\n",
       "            }, 500);\n",
       "            "
      ],
      "text/plain": [
       "<IPython.core.display.Javascript object>"
      ]
     },
     "metadata": {},
     "output_type": "display_data"
    }
   ],
   "source": [
    "df_results_cm_p[\"Features\"].unique()"
   ]
  },
  {
   "cell_type": "code",
   "execution_count": 215,
   "id": "ea039a09",
   "metadata": {},
   "outputs": [
    {
     "data": {
      "text/plain": [
       "(40, 17)"
      ]
     },
     "execution_count": 215,
     "metadata": {},
     "output_type": "execute_result"
    },
    {
     "data": {
      "application/javascript": [
       "\n",
       "            setTimeout(function() {\n",
       "                var nbb_cell_id = 215;\n",
       "                var nbb_unformatted_code = \"df_results_cm_p.shape\";\n",
       "                var nbb_formatted_code = \"df_results_cm_p.shape\";\n",
       "                var nbb_cells = Jupyter.notebook.get_cells();\n",
       "                for (var i = 0; i < nbb_cells.length; ++i) {\n",
       "                    if (nbb_cells[i].input_prompt_number == nbb_cell_id) {\n",
       "                        if (nbb_cells[i].get_text() == nbb_unformatted_code) {\n",
       "                             nbb_cells[i].set_text(nbb_formatted_code);\n",
       "                        }\n",
       "                        break;\n",
       "                    }\n",
       "                }\n",
       "            }, 500);\n",
       "            "
      ],
      "text/plain": [
       "<IPython.core.display.Javascript object>"
      ]
     },
     "metadata": {},
     "output_type": "display_data"
    }
   ],
   "source": [
    "df_results_cm_p.shape"
   ]
  },
  {
   "cell_type": "markdown",
   "id": "47db39c5",
   "metadata": {},
   "source": [
    "### Blocking time series"
   ]
  },
  {
   "cell_type": "code",
   "execution_count": 216,
   "id": "645d9502",
   "metadata": {},
   "outputs": [
    {
     "data": {
      "text/plain": [
       "array(['Blocking Time Series Split', 'Time Series Split'], dtype=object)"
      ]
     },
     "execution_count": 216,
     "metadata": {},
     "output_type": "execute_result"
    },
    {
     "data": {
      "application/javascript": [
       "\n",
       "            setTimeout(function() {\n",
       "                var nbb_cell_id = 216;\n",
       "                var nbb_unformatted_code = \"df_results_cm_p[\\\"Cross Validation\\\"].unique()\";\n",
       "                var nbb_formatted_code = \"df_results_cm_p[\\\"Cross Validation\\\"].unique()\";\n",
       "                var nbb_cells = Jupyter.notebook.get_cells();\n",
       "                for (var i = 0; i < nbb_cells.length; ++i) {\n",
       "                    if (nbb_cells[i].input_prompt_number == nbb_cell_id) {\n",
       "                        if (nbb_cells[i].get_text() == nbb_unformatted_code) {\n",
       "                             nbb_cells[i].set_text(nbb_formatted_code);\n",
       "                        }\n",
       "                        break;\n",
       "                    }\n",
       "                }\n",
       "            }, 500);\n",
       "            "
      ],
      "text/plain": [
       "<IPython.core.display.Javascript object>"
      ]
     },
     "metadata": {},
     "output_type": "display_data"
    }
   ],
   "source": [
    "df_results_cm_p[\"Cross Validation\"].unique()"
   ]
  },
  {
   "cell_type": "code",
   "execution_count": 217,
   "id": "ec0752c6",
   "metadata": {},
   "outputs": [
    {
     "data": {
      "application/javascript": [
       "\n",
       "            setTimeout(function() {\n",
       "                var nbb_cell_id = 217;\n",
       "                var nbb_unformatted_code = \"df_results_cm_p_btss = (\\n    df_results_cm_p[\\n        df_results_cm_p[\\\"Cross Validation\\\"].eq(\\\"Blocking Time Series Split\\\")\\n    ]\\n    .copy()\\n    .reset_index(drop=True)\\n)\";\n",
       "                var nbb_formatted_code = \"df_results_cm_p_btss = (\\n    df_results_cm_p[\\n        df_results_cm_p[\\\"Cross Validation\\\"].eq(\\\"Blocking Time Series Split\\\")\\n    ]\\n    .copy()\\n    .reset_index(drop=True)\\n)\";\n",
       "                var nbb_cells = Jupyter.notebook.get_cells();\n",
       "                for (var i = 0; i < nbb_cells.length; ++i) {\n",
       "                    if (nbb_cells[i].input_prompt_number == nbb_cell_id) {\n",
       "                        if (nbb_cells[i].get_text() == nbb_unformatted_code) {\n",
       "                             nbb_cells[i].set_text(nbb_formatted_code);\n",
       "                        }\n",
       "                        break;\n",
       "                    }\n",
       "                }\n",
       "            }, 500);\n",
       "            "
      ],
      "text/plain": [
       "<IPython.core.display.Javascript object>"
      ]
     },
     "metadata": {},
     "output_type": "display_data"
    }
   ],
   "source": [
    "df_results_cm_p_btss = (\n",
    "    df_results_cm_p[\n",
    "        df_results_cm_p[\"Cross Validation\"].eq(\"Blocking Time Series Split\")\n",
    "    ]\n",
    "    .copy()\n",
    "    .reset_index(drop=True)\n",
    ")"
   ]
  },
  {
   "cell_type": "code",
   "execution_count": 218,
   "id": "2eab9e97",
   "metadata": {},
   "outputs": [
    {
     "data": {
      "text/plain": [
       "array(['Blocking Time Series Split'], dtype=object)"
      ]
     },
     "execution_count": 218,
     "metadata": {},
     "output_type": "execute_result"
    },
    {
     "data": {
      "application/javascript": [
       "\n",
       "            setTimeout(function() {\n",
       "                var nbb_cell_id = 218;\n",
       "                var nbb_unformatted_code = \"df_results_cm_p_btss[\\\"Cross Validation\\\"].unique()\";\n",
       "                var nbb_formatted_code = \"df_results_cm_p_btss[\\\"Cross Validation\\\"].unique()\";\n",
       "                var nbb_cells = Jupyter.notebook.get_cells();\n",
       "                for (var i = 0; i < nbb_cells.length; ++i) {\n",
       "                    if (nbb_cells[i].input_prompt_number == nbb_cell_id) {\n",
       "                        if (nbb_cells[i].get_text() == nbb_unformatted_code) {\n",
       "                             nbb_cells[i].set_text(nbb_formatted_code);\n",
       "                        }\n",
       "                        break;\n",
       "                    }\n",
       "                }\n",
       "            }, 500);\n",
       "            "
      ],
      "text/plain": [
       "<IPython.core.display.Javascript object>"
      ]
     },
     "metadata": {},
     "output_type": "display_data"
    }
   ],
   "source": [
    "df_results_cm_p_btss[\"Cross Validation\"].unique()"
   ]
  },
  {
   "cell_type": "code",
   "execution_count": 219,
   "id": "14c5a925",
   "metadata": {},
   "outputs": [
    {
     "data": {
      "text/plain": [
       "((40, 17), (20, 17))"
      ]
     },
     "execution_count": 219,
     "metadata": {},
     "output_type": "execute_result"
    },
    {
     "data": {
      "application/javascript": [
       "\n",
       "            setTimeout(function() {\n",
       "                var nbb_cell_id = 219;\n",
       "                var nbb_unformatted_code = \"df_results_cm_p.shape, df_results_cm_p_btss.shape\";\n",
       "                var nbb_formatted_code = \"df_results_cm_p.shape, df_results_cm_p_btss.shape\";\n",
       "                var nbb_cells = Jupyter.notebook.get_cells();\n",
       "                for (var i = 0; i < nbb_cells.length; ++i) {\n",
       "                    if (nbb_cells[i].input_prompt_number == nbb_cell_id) {\n",
       "                        if (nbb_cells[i].get_text() == nbb_unformatted_code) {\n",
       "                             nbb_cells[i].set_text(nbb_formatted_code);\n",
       "                        }\n",
       "                        break;\n",
       "                    }\n",
       "                }\n",
       "            }, 500);\n",
       "            "
      ],
      "text/plain": [
       "<IPython.core.display.Javascript object>"
      ]
     },
     "metadata": {},
     "output_type": "display_data"
    }
   ],
   "source": [
    "df_results_cm_p.shape, df_results_cm_p_btss.shape"
   ]
  },
  {
   "cell_type": "markdown",
   "id": "8a787d9d",
   "metadata": {},
   "source": [
    "###### SCPM computation"
   ]
  },
  {
   "cell_type": "code",
   "execution_count": 220,
   "id": "8b35c7c9",
   "metadata": {},
   "outputs": [
    {
     "data": {
      "application/javascript": [
       "\n",
       "            setTimeout(function() {\n",
       "                var nbb_cell_id = 220;\n",
       "                var nbb_unformatted_code = \"df_results_cm_p_btss = compute_scpm(df_results_cm_p_btss)\";\n",
       "                var nbb_formatted_code = \"df_results_cm_p_btss = compute_scpm(df_results_cm_p_btss)\";\n",
       "                var nbb_cells = Jupyter.notebook.get_cells();\n",
       "                for (var i = 0; i < nbb_cells.length; ++i) {\n",
       "                    if (nbb_cells[i].input_prompt_number == nbb_cell_id) {\n",
       "                        if (nbb_cells[i].get_text() == nbb_unformatted_code) {\n",
       "                             nbb_cells[i].set_text(nbb_formatted_code);\n",
       "                        }\n",
       "                        break;\n",
       "                    }\n",
       "                }\n",
       "            }, 500);\n",
       "            "
      ],
      "text/plain": [
       "<IPython.core.display.Javascript object>"
      ]
     },
     "metadata": {},
     "output_type": "display_data"
    }
   ],
   "source": [
    "df_results_cm_p_btss = compute_scpm(df_results_cm_p_btss)"
   ]
  },
  {
   "cell_type": "markdown",
   "id": "a2fa3b49",
   "metadata": {},
   "source": [
    "##### Dominance Analysis"
   ]
  },
  {
   "cell_type": "code",
   "execution_count": 221,
   "id": "b0733048",
   "metadata": {},
   "outputs": [
    {
     "data": {
      "application/javascript": [
       "\n",
       "            setTimeout(function() {\n",
       "                var nbb_cell_id = 221;\n",
       "                var nbb_unformatted_code = \"# Per project\\ndominance_dict = make_dominance_analysis(df_results_cm_p_btss)\\ndominance_matrix_cm_p_btss = dominance_dict[\\\"dominance_matrix\\\"]\\ndominance_graph_cm_p_btss = dominance_dict[\\\"dominance_graph\\\"]\\ndf_sorted_count = dominance_dict[\\\"df_sorted_count\\\"]\\ndf_sorted_topo = dominance_dict[\\\"df_sorted_topo\\\"]\";\n",
       "                var nbb_formatted_code = \"# Per project\\ndominance_dict = make_dominance_analysis(df_results_cm_p_btss)\\ndominance_matrix_cm_p_btss = dominance_dict[\\\"dominance_matrix\\\"]\\ndominance_graph_cm_p_btss = dominance_dict[\\\"dominance_graph\\\"]\\ndf_sorted_count = dominance_dict[\\\"df_sorted_count\\\"]\\ndf_sorted_topo = dominance_dict[\\\"df_sorted_topo\\\"]\";\n",
       "                var nbb_cells = Jupyter.notebook.get_cells();\n",
       "                for (var i = 0; i < nbb_cells.length; ++i) {\n",
       "                    if (nbb_cells[i].input_prompt_number == nbb_cell_id) {\n",
       "                        if (nbb_cells[i].get_text() == nbb_unformatted_code) {\n",
       "                             nbb_cells[i].set_text(nbb_formatted_code);\n",
       "                        }\n",
       "                        break;\n",
       "                    }\n",
       "                }\n",
       "            }, 500);\n",
       "            "
      ],
      "text/plain": [
       "<IPython.core.display.Javascript object>"
      ]
     },
     "metadata": {},
     "output_type": "display_data"
    }
   ],
   "source": [
    "# Per project\n",
    "dominance_dict = make_dominance_analysis(df_results_cm_p_btss)\n",
    "dominance_matrix_cm_p_btss = dominance_dict[\"dominance_matrix\"]\n",
    "dominance_graph_cm_p_btss = dominance_dict[\"dominance_graph\"]\n",
    "df_sorted_count = dominance_dict[\"df_sorted_count\"]\n",
    "df_sorted_topo = dominance_dict[\"df_sorted_topo\"]"
   ]
  },
  {
   "cell_type": "code",
   "execution_count": 222,
   "id": "cc13b6cd",
   "metadata": {},
   "outputs": [
    {
     "data": {
      "text/plain": [
       "((20, 20), 20)"
      ]
     },
     "execution_count": 222,
     "metadata": {},
     "output_type": "execute_result"
    },
    {
     "data": {
      "application/javascript": [
       "\n",
       "            setTimeout(function() {\n",
       "                var nbb_cell_id = 222;\n",
       "                var nbb_unformatted_code = \"dominance_matrix_cm_p_btss.shape, len(dominance_graph_cm_p_btss)\";\n",
       "                var nbb_formatted_code = \"dominance_matrix_cm_p_btss.shape, len(dominance_graph_cm_p_btss)\";\n",
       "                var nbb_cells = Jupyter.notebook.get_cells();\n",
       "                for (var i = 0; i < nbb_cells.length; ++i) {\n",
       "                    if (nbb_cells[i].input_prompt_number == nbb_cell_id) {\n",
       "                        if (nbb_cells[i].get_text() == nbb_unformatted_code) {\n",
       "                             nbb_cells[i].set_text(nbb_formatted_code);\n",
       "                        }\n",
       "                        break;\n",
       "                    }\n",
       "                }\n",
       "            }, 500);\n",
       "            "
      ],
      "text/plain": [
       "<IPython.core.display.Javascript object>"
      ]
     },
     "metadata": {},
     "output_type": "display_data"
    }
   ],
   "source": [
    "dominance_matrix_cm_p_btss.shape, len(dominance_graph_cm_p_btss)"
   ]
  },
  {
   "cell_type": "code",
   "execution_count": 223,
   "id": "348f7e8c",
   "metadata": {},
   "outputs": [
    {
     "data": {
      "text/plain": [
       "Classification\n",
       "intermediate_model    18\n",
       "dominant_model         1\n",
       "non_dominant_model     1\n",
       "Name: count, dtype: int64"
      ]
     },
     "execution_count": 223,
     "metadata": {},
     "output_type": "execute_result"
    },
    {
     "data": {
      "application/javascript": [
       "\n",
       "            setTimeout(function() {\n",
       "                var nbb_cell_id = 223;\n",
       "                var nbb_unformatted_code = \"df_sorted_topo[\\\"Classification\\\"].value_counts()\";\n",
       "                var nbb_formatted_code = \"df_sorted_topo[\\\"Classification\\\"].value_counts()\";\n",
       "                var nbb_cells = Jupyter.notebook.get_cells();\n",
       "                for (var i = 0; i < nbb_cells.length; ++i) {\n",
       "                    if (nbb_cells[i].input_prompt_number == nbb_cell_id) {\n",
       "                        if (nbb_cells[i].get_text() == nbb_unformatted_code) {\n",
       "                             nbb_cells[i].set_text(nbb_formatted_code);\n",
       "                        }\n",
       "                        break;\n",
       "                    }\n",
       "                }\n",
       "            }, 500);\n",
       "            "
      ],
      "text/plain": [
       "<IPython.core.display.Javascript object>"
      ]
     },
     "metadata": {},
     "output_type": "display_data"
    }
   ],
   "source": [
    "df_sorted_topo[\"Classification\"].value_counts()"
   ]
  },
  {
   "cell_type": "code",
   "execution_count": 224,
   "id": "abfa6244",
   "metadata": {
    "scrolled": false
   },
   "outputs": [
    {
     "data": {
      "application/javascript": [
       "\n",
       "            setTimeout(function() {\n",
       "                var nbb_cell_id = 224;\n",
       "                var nbb_unformatted_code = \"df_sorted_topo.to_csv(\\n    \\\"../../../../reports/results/local_models/ecics/203_c_dominance_analysis_cm_p_btss.csv\\\",\\n    index=False,\\n)\";\n",
       "                var nbb_formatted_code = \"df_sorted_topo.to_csv(\\n    \\\"../../../../reports/results/local_models/ecics/203_c_dominance_analysis_cm_p_btss.csv\\\",\\n    index=False,\\n)\";\n",
       "                var nbb_cells = Jupyter.notebook.get_cells();\n",
       "                for (var i = 0; i < nbb_cells.length; ++i) {\n",
       "                    if (nbb_cells[i].input_prompt_number == nbb_cell_id) {\n",
       "                        if (nbb_cells[i].get_text() == nbb_unformatted_code) {\n",
       "                             nbb_cells[i].set_text(nbb_formatted_code);\n",
       "                        }\n",
       "                        break;\n",
       "                    }\n",
       "                }\n",
       "            }, 500);\n",
       "            "
      ],
      "text/plain": [
       "<IPython.core.display.Javascript object>"
      ]
     },
     "metadata": {},
     "output_type": "display_data"
    }
   ],
   "source": [
    "df_sorted_topo.to_csv(\n",
    "    \"../../../../reports/results/local_models/ecics/203_c_dominance_analysis_cm_p_btss.csv\",\n",
    "    index=False,\n",
    ")"
   ]
  },
  {
   "cell_type": "code",
   "execution_count": 225,
   "id": "7a6df7c4",
   "metadata": {},
   "outputs": [
    {
     "data": {
      "text/html": [
       "<div>\n",
       "<style scoped>\n",
       "    .dataframe tbody tr th:only-of-type {\n",
       "        vertical-align: middle;\n",
       "    }\n",
       "\n",
       "    .dataframe tbody tr th {\n",
       "        vertical-align: top;\n",
       "    }\n",
       "\n",
       "    .dataframe thead th {\n",
       "        text-align: right;\n",
       "    }\n",
       "</style>\n",
       "<table border=\"1\" class=\"dataframe\">\n",
       "  <thead>\n",
       "    <tr style=\"text-align: right;\">\n",
       "      <th></th>\n",
       "      <th>Company</th>\n",
       "      <th>Plant</th>\n",
       "      <th>Cross Validation</th>\n",
       "      <th>Features</th>\n",
       "      <th>Features_bkp</th>\n",
       "      <th>Model</th>\n",
       "      <th>Model_bkp</th>\n",
       "      <th>Model_bkp_2</th>\n",
       "      <th>Timesteps</th>\n",
       "      <th>RMSE_mean</th>\n",
       "      <th>...</th>\n",
       "      <th>MAPE_mean</th>\n",
       "      <th>R2_mean</th>\n",
       "      <th>RMSE_std</th>\n",
       "      <th>MAE_std</th>\n",
       "      <th>MAPE_std</th>\n",
       "      <th>R2_std</th>\n",
       "      <th>SCPM</th>\n",
       "      <th>Dominated_Count</th>\n",
       "      <th>Classification</th>\n",
       "      <th>Dominates_Count</th>\n",
       "    </tr>\n",
       "  </thead>\n",
       "  <tbody>\n",
       "    <tr>\n",
       "      <th>15</th>\n",
       "      <td>203</td>\n",
       "      <td>c</td>\n",
       "      <td>Blocking Time Series Split</td>\n",
       "      <td>Chemical + Mineralogical + Physical - Early CS</td>\n",
       "      <td>Chemical + Properties CS Less</td>\n",
       "      <td>Neural Networks</td>\n",
       "      <td>Transformer</td>\n",
       "      <td>Transformer_1.0</td>\n",
       "      <td>1.0</td>\n",
       "      <td>1.113216</td>\n",
       "      <td>...</td>\n",
       "      <td>1.971579</td>\n",
       "      <td>0.963484</td>\n",
       "      <td>0.210617</td>\n",
       "      <td>0.094078</td>\n",
       "      <td>0.188811</td>\n",
       "      <td>0.011791</td>\n",
       "      <td>-5.269450</td>\n",
       "      <td>0</td>\n",
       "      <td>dominant_model</td>\n",
       "      <td>19</td>\n",
       "    </tr>\n",
       "    <tr>\n",
       "      <th>5</th>\n",
       "      <td>203</td>\n",
       "      <td>c</td>\n",
       "      <td>Blocking Time Series Split</td>\n",
       "      <td>Chemical + Mineralogical + Physical - Early CS</td>\n",
       "      <td>Chemical + Properties CS Less</td>\n",
       "      <td>Trees</td>\n",
       "      <td>Random Forest</td>\n",
       "      <td>Random Forest</td>\n",
       "      <td>NaN</td>\n",
       "      <td>1.164482</td>\n",
       "      <td>...</td>\n",
       "      <td>2.093257</td>\n",
       "      <td>0.956677</td>\n",
       "      <td>0.343249</td>\n",
       "      <td>0.222080</td>\n",
       "      <td>0.546564</td>\n",
       "      <td>0.022441</td>\n",
       "      <td>-5.004775</td>\n",
       "      <td>1</td>\n",
       "      <td>intermediate_model</td>\n",
       "      <td>18</td>\n",
       "    </tr>\n",
       "    <tr>\n",
       "      <th>16</th>\n",
       "      <td>203</td>\n",
       "      <td>c</td>\n",
       "      <td>Blocking Time Series Split</td>\n",
       "      <td>Chemical + Mineralogical + Physical - Early CS</td>\n",
       "      <td>Chemical + Properties CS Less</td>\n",
       "      <td>Neural Networks</td>\n",
       "      <td>Transformer</td>\n",
       "      <td>Transformer_7.0</td>\n",
       "      <td>7.0</td>\n",
       "      <td>1.352578</td>\n",
       "      <td>...</td>\n",
       "      <td>2.563343</td>\n",
       "      <td>0.945704</td>\n",
       "      <td>0.206991</td>\n",
       "      <td>0.136490</td>\n",
       "      <td>0.380527</td>\n",
       "      <td>0.011697</td>\n",
       "      <td>-4.056963</td>\n",
       "      <td>2</td>\n",
       "      <td>intermediate_model</td>\n",
       "      <td>16</td>\n",
       "    </tr>\n",
       "    <tr>\n",
       "      <th>19</th>\n",
       "      <td>203</td>\n",
       "      <td>c</td>\n",
       "      <td>Blocking Time Series Split</td>\n",
       "      <td>Chemical + Mineralogical + Physical - Early CS</td>\n",
       "      <td>Chemical + Properties CS Less</td>\n",
       "      <td>Linear Regression</td>\n",
       "      <td>Linear Regression</td>\n",
       "      <td>Linear Regression</td>\n",
       "      <td>NaN</td>\n",
       "      <td>1.397380</td>\n",
       "      <td>...</td>\n",
       "      <td>2.549150</td>\n",
       "      <td>0.942855</td>\n",
       "      <td>0.210220</td>\n",
       "      <td>0.139439</td>\n",
       "      <td>0.350685</td>\n",
       "      <td>0.016063</td>\n",
       "      <td>-3.972969</td>\n",
       "      <td>2</td>\n",
       "      <td>intermediate_model</td>\n",
       "      <td>16</td>\n",
       "    </tr>\n",
       "    <tr>\n",
       "      <th>4</th>\n",
       "      <td>203</td>\n",
       "      <td>c</td>\n",
       "      <td>Blocking Time Series Split</td>\n",
       "      <td>Chemical + Mineralogical + Physical - Early CS</td>\n",
       "      <td>Chemical + Properties CS Less</td>\n",
       "      <td>Trees</td>\n",
       "      <td>XGBoost</td>\n",
       "      <td>XGBoost</td>\n",
       "      <td>NaN</td>\n",
       "      <td>1.544001</td>\n",
       "      <td>...</td>\n",
       "      <td>3.046233</td>\n",
       "      <td>0.928582</td>\n",
       "      <td>0.254903</td>\n",
       "      <td>0.156771</td>\n",
       "      <td>0.358178</td>\n",
       "      <td>0.026031</td>\n",
       "      <td>-3.050336</td>\n",
       "      <td>4</td>\n",
       "      <td>intermediate_model</td>\n",
       "      <td>12</td>\n",
       "    </tr>\n",
       "  </tbody>\n",
       "</table>\n",
       "<p>5 rows × 21 columns</p>\n",
       "</div>"
      ],
      "text/plain": [
       "    Company Plant            Cross Validation  \\\n",
       "15      203     c  Blocking Time Series Split   \n",
       "5       203     c  Blocking Time Series Split   \n",
       "16      203     c  Blocking Time Series Split   \n",
       "19      203     c  Blocking Time Series Split   \n",
       "4       203     c  Blocking Time Series Split   \n",
       "\n",
       "                                          Features  \\\n",
       "15  Chemical + Mineralogical + Physical - Early CS   \n",
       "5   Chemical + Mineralogical + Physical - Early CS   \n",
       "16  Chemical + Mineralogical + Physical - Early CS   \n",
       "19  Chemical + Mineralogical + Physical - Early CS   \n",
       "4   Chemical + Mineralogical + Physical - Early CS   \n",
       "\n",
       "                     Features_bkp              Model          Model_bkp  \\\n",
       "15  Chemical + Properties CS Less    Neural Networks        Transformer   \n",
       "5   Chemical + Properties CS Less              Trees      Random Forest   \n",
       "16  Chemical + Properties CS Less    Neural Networks        Transformer   \n",
       "19  Chemical + Properties CS Less  Linear Regression  Linear Regression   \n",
       "4   Chemical + Properties CS Less              Trees            XGBoost   \n",
       "\n",
       "          Model_bkp_2  Timesteps  RMSE_mean  ...  MAPE_mean   R2_mean  \\\n",
       "15    Transformer_1.0        1.0   1.113216  ...   1.971579  0.963484   \n",
       "5       Random Forest        NaN   1.164482  ...   2.093257  0.956677   \n",
       "16    Transformer_7.0        7.0   1.352578  ...   2.563343  0.945704   \n",
       "19  Linear Regression        NaN   1.397380  ...   2.549150  0.942855   \n",
       "4             XGBoost        NaN   1.544001  ...   3.046233  0.928582   \n",
       "\n",
       "    RMSE_std   MAE_std  MAPE_std    R2_std      SCPM  Dominated_Count  \\\n",
       "15  0.210617  0.094078  0.188811  0.011791 -5.269450                0   \n",
       "5   0.343249  0.222080  0.546564  0.022441 -5.004775                1   \n",
       "16  0.206991  0.136490  0.380527  0.011697 -4.056963                2   \n",
       "19  0.210220  0.139439  0.350685  0.016063 -3.972969                2   \n",
       "4   0.254903  0.156771  0.358178  0.026031 -3.050336                4   \n",
       "\n",
       "        Classification Dominates_Count  \n",
       "15      dominant_model              19  \n",
       "5   intermediate_model              18  \n",
       "16  intermediate_model              16  \n",
       "19  intermediate_model              16  \n",
       "4   intermediate_model              12  \n",
       "\n",
       "[5 rows x 21 columns]"
      ]
     },
     "execution_count": 225,
     "metadata": {},
     "output_type": "execute_result"
    },
    {
     "data": {
      "application/javascript": [
       "\n",
       "            setTimeout(function() {\n",
       "                var nbb_cell_id = 225;\n",
       "                var nbb_unformatted_code = \"df_sorted_topo.head(5)\";\n",
       "                var nbb_formatted_code = \"df_sorted_topo.head(5)\";\n",
       "                var nbb_cells = Jupyter.notebook.get_cells();\n",
       "                for (var i = 0; i < nbb_cells.length; ++i) {\n",
       "                    if (nbb_cells[i].input_prompt_number == nbb_cell_id) {\n",
       "                        if (nbb_cells[i].get_text() == nbb_unformatted_code) {\n",
       "                             nbb_cells[i].set_text(nbb_formatted_code);\n",
       "                        }\n",
       "                        break;\n",
       "                    }\n",
       "                }\n",
       "            }, 500);\n",
       "            "
      ],
      "text/plain": [
       "<IPython.core.display.Javascript object>"
      ]
     },
     "metadata": {},
     "output_type": "display_data"
    }
   ],
   "source": [
    "df_sorted_topo.head(5)"
   ]
  },
  {
   "cell_type": "code",
   "execution_count": 226,
   "id": "397acd1b",
   "metadata": {
    "scrolled": false
   },
   "outputs": [
    {
     "data": {
      "application/javascript": [
       "\n",
       "            setTimeout(function() {\n",
       "                var nbb_cell_id = 226;\n",
       "                var nbb_unformatted_code = \"df_sorted_topo_cols = df_sorted_topo[\\n    [\\n        # \\\"Model\\\",\\n        # \\\"Model_bkp\\\",\\n        \\\"Model_bkp_2\\\",\\n        \\\"RMSE_mean\\\",\\n        \\\"RMSE_std\\\",\\n        \\\"MAE_mean\\\",\\n        \\\"MAE_std\\\",\\n        \\\"MAPE_mean\\\",\\n        \\\"MAPE_std\\\",\\n        \\\"R2_mean\\\",\\n        \\\"R2_std\\\",\\n        \\\"SCPM\\\",\\n        \\\"Dominated_Count\\\",\\n        \\\"Classification\\\",\\n        \\\"Dominates_Count\\\",\\n        \\\"Plant\\\",\\n    ]\\n].round(2)\";\n",
       "                var nbb_formatted_code = \"df_sorted_topo_cols = df_sorted_topo[\\n    [\\n        # \\\"Model\\\",\\n        # \\\"Model_bkp\\\",\\n        \\\"Model_bkp_2\\\",\\n        \\\"RMSE_mean\\\",\\n        \\\"RMSE_std\\\",\\n        \\\"MAE_mean\\\",\\n        \\\"MAE_std\\\",\\n        \\\"MAPE_mean\\\",\\n        \\\"MAPE_std\\\",\\n        \\\"R2_mean\\\",\\n        \\\"R2_std\\\",\\n        \\\"SCPM\\\",\\n        \\\"Dominated_Count\\\",\\n        \\\"Classification\\\",\\n        \\\"Dominates_Count\\\",\\n        \\\"Plant\\\",\\n    ]\\n].round(2)\";\n",
       "                var nbb_cells = Jupyter.notebook.get_cells();\n",
       "                for (var i = 0; i < nbb_cells.length; ++i) {\n",
       "                    if (nbb_cells[i].input_prompt_number == nbb_cell_id) {\n",
       "                        if (nbb_cells[i].get_text() == nbb_unformatted_code) {\n",
       "                             nbb_cells[i].set_text(nbb_formatted_code);\n",
       "                        }\n",
       "                        break;\n",
       "                    }\n",
       "                }\n",
       "            }, 500);\n",
       "            "
      ],
      "text/plain": [
       "<IPython.core.display.Javascript object>"
      ]
     },
     "metadata": {},
     "output_type": "display_data"
    }
   ],
   "source": [
    "df_sorted_topo_cols = df_sorted_topo[\n",
    "    [\n",
    "        # \"Model\",\n",
    "        # \"Model_bkp\",\n",
    "        \"Model_bkp_2\",\n",
    "        \"RMSE_mean\",\n",
    "        \"RMSE_std\",\n",
    "        \"MAE_mean\",\n",
    "        \"MAE_std\",\n",
    "        \"MAPE_mean\",\n",
    "        \"MAPE_std\",\n",
    "        \"R2_mean\",\n",
    "        \"R2_std\",\n",
    "        \"SCPM\",\n",
    "        \"Dominated_Count\",\n",
    "        \"Classification\",\n",
    "        \"Dominates_Count\",\n",
    "        \"Plant\",\n",
    "    ]\n",
    "].round(2)"
   ]
  },
  {
   "cell_type": "markdown",
   "id": "195ffb1b",
   "metadata": {},
   "source": [
    "###### Dominant Models"
   ]
  },
  {
   "cell_type": "code",
   "execution_count": 227,
   "id": "39e1e227",
   "metadata": {},
   "outputs": [
    {
     "data": {
      "text/html": [
       "<div>\n",
       "<style scoped>\n",
       "    .dataframe tbody tr th:only-of-type {\n",
       "        vertical-align: middle;\n",
       "    }\n",
       "\n",
       "    .dataframe tbody tr th {\n",
       "        vertical-align: top;\n",
       "    }\n",
       "\n",
       "    .dataframe thead th {\n",
       "        text-align: right;\n",
       "    }\n",
       "</style>\n",
       "<table border=\"1\" class=\"dataframe\">\n",
       "  <thead>\n",
       "    <tr style=\"text-align: right;\">\n",
       "      <th></th>\n",
       "      <th>Model_bkp_2</th>\n",
       "      <th>RMSE_mean</th>\n",
       "      <th>RMSE_std</th>\n",
       "      <th>MAE_mean</th>\n",
       "      <th>MAE_std</th>\n",
       "      <th>MAPE_mean</th>\n",
       "      <th>MAPE_std</th>\n",
       "      <th>R2_mean</th>\n",
       "      <th>R2_std</th>\n",
       "      <th>SCPM</th>\n",
       "      <th>Dominated_Count</th>\n",
       "      <th>Classification</th>\n",
       "      <th>Dominates_Count</th>\n",
       "      <th>Plant</th>\n",
       "    </tr>\n",
       "  </thead>\n",
       "  <tbody>\n",
       "    <tr>\n",
       "      <th>15</th>\n",
       "      <td>Transformer_1.0</td>\n",
       "      <td>1.11</td>\n",
       "      <td>0.21</td>\n",
       "      <td>0.82</td>\n",
       "      <td>0.09</td>\n",
       "      <td>1.97</td>\n",
       "      <td>0.19</td>\n",
       "      <td>0.96</td>\n",
       "      <td>0.01</td>\n",
       "      <td>-5.27</td>\n",
       "      <td>0</td>\n",
       "      <td>dominant_model</td>\n",
       "      <td>19</td>\n",
       "      <td>c</td>\n",
       "    </tr>\n",
       "    <tr>\n",
       "      <th>5</th>\n",
       "      <td>Random Forest</td>\n",
       "      <td>1.16</td>\n",
       "      <td>0.34</td>\n",
       "      <td>0.86</td>\n",
       "      <td>0.22</td>\n",
       "      <td>2.09</td>\n",
       "      <td>0.55</td>\n",
       "      <td>0.96</td>\n",
       "      <td>0.02</td>\n",
       "      <td>-5.00</td>\n",
       "      <td>1</td>\n",
       "      <td>intermediate_model</td>\n",
       "      <td>18</td>\n",
       "      <td>c</td>\n",
       "    </tr>\n",
       "    <tr>\n",
       "      <th>16</th>\n",
       "      <td>Transformer_7.0</td>\n",
       "      <td>1.35</td>\n",
       "      <td>0.21</td>\n",
       "      <td>1.04</td>\n",
       "      <td>0.14</td>\n",
       "      <td>2.56</td>\n",
       "      <td>0.38</td>\n",
       "      <td>0.95</td>\n",
       "      <td>0.01</td>\n",
       "      <td>-4.06</td>\n",
       "      <td>2</td>\n",
       "      <td>intermediate_model</td>\n",
       "      <td>16</td>\n",
       "      <td>c</td>\n",
       "    </tr>\n",
       "    <tr>\n",
       "      <th>19</th>\n",
       "      <td>Linear Regression</td>\n",
       "      <td>1.40</td>\n",
       "      <td>0.21</td>\n",
       "      <td>1.05</td>\n",
       "      <td>0.14</td>\n",
       "      <td>2.55</td>\n",
       "      <td>0.35</td>\n",
       "      <td>0.94</td>\n",
       "      <td>0.02</td>\n",
       "      <td>-3.97</td>\n",
       "      <td>2</td>\n",
       "      <td>intermediate_model</td>\n",
       "      <td>16</td>\n",
       "      <td>c</td>\n",
       "    </tr>\n",
       "    <tr>\n",
       "      <th>4</th>\n",
       "      <td>XGBoost</td>\n",
       "      <td>1.54</td>\n",
       "      <td>0.25</td>\n",
       "      <td>1.22</td>\n",
       "      <td>0.16</td>\n",
       "      <td>3.05</td>\n",
       "      <td>0.36</td>\n",
       "      <td>0.93</td>\n",
       "      <td>0.03</td>\n",
       "      <td>-3.05</td>\n",
       "      <td>4</td>\n",
       "      <td>intermediate_model</td>\n",
       "      <td>12</td>\n",
       "      <td>c</td>\n",
       "    </tr>\n",
       "  </tbody>\n",
       "</table>\n",
       "</div>"
      ],
      "text/plain": [
       "          Model_bkp_2  RMSE_mean  RMSE_std  MAE_mean  MAE_std  MAPE_mean  \\\n",
       "15    Transformer_1.0       1.11      0.21      0.82     0.09       1.97   \n",
       "5       Random Forest       1.16      0.34      0.86     0.22       2.09   \n",
       "16    Transformer_7.0       1.35      0.21      1.04     0.14       2.56   \n",
       "19  Linear Regression       1.40      0.21      1.05     0.14       2.55   \n",
       "4             XGBoost       1.54      0.25      1.22     0.16       3.05   \n",
       "\n",
       "    MAPE_std  R2_mean  R2_std  SCPM  Dominated_Count      Classification  \\\n",
       "15      0.19     0.96    0.01 -5.27                0      dominant_model   \n",
       "5       0.55     0.96    0.02 -5.00                1  intermediate_model   \n",
       "16      0.38     0.95    0.01 -4.06                2  intermediate_model   \n",
       "19      0.35     0.94    0.02 -3.97                2  intermediate_model   \n",
       "4       0.36     0.93    0.03 -3.05                4  intermediate_model   \n",
       "\n",
       "    Dominates_Count Plant  \n",
       "15               19     c  \n",
       "5                18     c  \n",
       "16               16     c  \n",
       "19               16     c  \n",
       "4                12     c  "
      ]
     },
     "execution_count": 227,
     "metadata": {},
     "output_type": "execute_result"
    },
    {
     "data": {
      "application/javascript": [
       "\n",
       "            setTimeout(function() {\n",
       "                var nbb_cell_id = 227;\n",
       "                var nbb_unformatted_code = \"# Top 5\\ndf_sorted_topo_cols.iloc[0:5].sort_values(\\n    by=[\\\"Dominates_Count\\\", \\\"SCPM\\\"], ascending=[False, True]\\n).round(2)\";\n",
       "                var nbb_formatted_code = \"# Top 5\\ndf_sorted_topo_cols.iloc[0:5].sort_values(\\n    by=[\\\"Dominates_Count\\\", \\\"SCPM\\\"], ascending=[False, True]\\n).round(2)\";\n",
       "                var nbb_cells = Jupyter.notebook.get_cells();\n",
       "                for (var i = 0; i < nbb_cells.length; ++i) {\n",
       "                    if (nbb_cells[i].input_prompt_number == nbb_cell_id) {\n",
       "                        if (nbb_cells[i].get_text() == nbb_unformatted_code) {\n",
       "                             nbb_cells[i].set_text(nbb_formatted_code);\n",
       "                        }\n",
       "                        break;\n",
       "                    }\n",
       "                }\n",
       "            }, 500);\n",
       "            "
      ],
      "text/plain": [
       "<IPython.core.display.Javascript object>"
      ]
     },
     "metadata": {},
     "output_type": "display_data"
    }
   ],
   "source": [
    "# Top 5\n",
    "df_sorted_topo_cols.iloc[0:5].sort_values(\n",
    "    by=[\"Dominates_Count\", \"SCPM\"], ascending=[False, True]\n",
    ").round(2)"
   ]
  },
  {
   "cell_type": "code",
   "execution_count": 228,
   "id": "4b278447",
   "metadata": {},
   "outputs": [
    {
     "data": {
      "text/plain": [
       "(1, 14)"
      ]
     },
     "execution_count": 228,
     "metadata": {},
     "output_type": "execute_result"
    },
    {
     "data": {
      "application/javascript": [
       "\n",
       "            setTimeout(function() {\n",
       "                var nbb_cell_id = 228;\n",
       "                var nbb_unformatted_code = \"df_sorted_topo_cols[df_sorted_topo_cols[\\\"Classification\\\"].eq(\\\"dominant_model\\\")].shape\";\n",
       "                var nbb_formatted_code = \"df_sorted_topo_cols[df_sorted_topo_cols[\\\"Classification\\\"].eq(\\\"dominant_model\\\")].shape\";\n",
       "                var nbb_cells = Jupyter.notebook.get_cells();\n",
       "                for (var i = 0; i < nbb_cells.length; ++i) {\n",
       "                    if (nbb_cells[i].input_prompt_number == nbb_cell_id) {\n",
       "                        if (nbb_cells[i].get_text() == nbb_unformatted_code) {\n",
       "                             nbb_cells[i].set_text(nbb_formatted_code);\n",
       "                        }\n",
       "                        break;\n",
       "                    }\n",
       "                }\n",
       "            }, 500);\n",
       "            "
      ],
      "text/plain": [
       "<IPython.core.display.Javascript object>"
      ]
     },
     "metadata": {},
     "output_type": "display_data"
    }
   ],
   "source": [
    "df_sorted_topo_cols[df_sorted_topo_cols[\"Classification\"].eq(\"dominant_model\")].shape"
   ]
  },
  {
   "cell_type": "markdown",
   "id": "606fb4a1",
   "metadata": {},
   "source": [
    "###### Intermediate models"
   ]
  },
  {
   "cell_type": "code",
   "execution_count": 229,
   "id": "d440a30a",
   "metadata": {},
   "outputs": [
    {
     "data": {
      "text/html": [
       "<div>\n",
       "<style scoped>\n",
       "    .dataframe tbody tr th:only-of-type {\n",
       "        vertical-align: middle;\n",
       "    }\n",
       "\n",
       "    .dataframe tbody tr th {\n",
       "        vertical-align: top;\n",
       "    }\n",
       "\n",
       "    .dataframe thead th {\n",
       "        text-align: right;\n",
       "    }\n",
       "</style>\n",
       "<table border=\"1\" class=\"dataframe\">\n",
       "  <thead>\n",
       "    <tr style=\"text-align: right;\">\n",
       "      <th></th>\n",
       "      <th>Model_bkp_2</th>\n",
       "      <th>RMSE_mean</th>\n",
       "      <th>RMSE_std</th>\n",
       "      <th>MAE_mean</th>\n",
       "      <th>MAE_std</th>\n",
       "      <th>MAPE_mean</th>\n",
       "      <th>MAPE_std</th>\n",
       "      <th>R2_mean</th>\n",
       "      <th>R2_std</th>\n",
       "      <th>SCPM</th>\n",
       "      <th>Dominated_Count</th>\n",
       "      <th>Classification</th>\n",
       "      <th>Dominates_Count</th>\n",
       "      <th>Plant</th>\n",
       "    </tr>\n",
       "  </thead>\n",
       "  <tbody>\n",
       "    <tr>\n",
       "      <th>5</th>\n",
       "      <td>Random Forest</td>\n",
       "      <td>1.16</td>\n",
       "      <td>0.34</td>\n",
       "      <td>0.86</td>\n",
       "      <td>0.22</td>\n",
       "      <td>2.09</td>\n",
       "      <td>0.55</td>\n",
       "      <td>0.96</td>\n",
       "      <td>0.02</td>\n",
       "      <td>-5.00</td>\n",
       "      <td>1</td>\n",
       "      <td>intermediate_model</td>\n",
       "      <td>18</td>\n",
       "      <td>c</td>\n",
       "    </tr>\n",
       "    <tr>\n",
       "      <th>16</th>\n",
       "      <td>Transformer_7.0</td>\n",
       "      <td>1.35</td>\n",
       "      <td>0.21</td>\n",
       "      <td>1.04</td>\n",
       "      <td>0.14</td>\n",
       "      <td>2.56</td>\n",
       "      <td>0.38</td>\n",
       "      <td>0.95</td>\n",
       "      <td>0.01</td>\n",
       "      <td>-4.06</td>\n",
       "      <td>2</td>\n",
       "      <td>intermediate_model</td>\n",
       "      <td>16</td>\n",
       "      <td>c</td>\n",
       "    </tr>\n",
       "    <tr>\n",
       "      <th>19</th>\n",
       "      <td>Linear Regression</td>\n",
       "      <td>1.40</td>\n",
       "      <td>0.21</td>\n",
       "      <td>1.05</td>\n",
       "      <td>0.14</td>\n",
       "      <td>2.55</td>\n",
       "      <td>0.35</td>\n",
       "      <td>0.94</td>\n",
       "      <td>0.02</td>\n",
       "      <td>-3.97</td>\n",
       "      <td>2</td>\n",
       "      <td>intermediate_model</td>\n",
       "      <td>16</td>\n",
       "      <td>c</td>\n",
       "    </tr>\n",
       "  </tbody>\n",
       "</table>\n",
       "</div>"
      ],
      "text/plain": [
       "          Model_bkp_2  RMSE_mean  RMSE_std  MAE_mean  MAE_std  MAPE_mean  \\\n",
       "5       Random Forest       1.16      0.34      0.86     0.22       2.09   \n",
       "16    Transformer_7.0       1.35      0.21      1.04     0.14       2.56   \n",
       "19  Linear Regression       1.40      0.21      1.05     0.14       2.55   \n",
       "\n",
       "    MAPE_std  R2_mean  R2_std  SCPM  Dominated_Count      Classification  \\\n",
       "5       0.55     0.96    0.02 -5.00                1  intermediate_model   \n",
       "16      0.38     0.95    0.01 -4.06                2  intermediate_model   \n",
       "19      0.35     0.94    0.02 -3.97                2  intermediate_model   \n",
       "\n",
       "    Dominates_Count Plant  \n",
       "5                18     c  \n",
       "16               16     c  \n",
       "19               16     c  "
      ]
     },
     "execution_count": 229,
     "metadata": {},
     "output_type": "execute_result"
    },
    {
     "data": {
      "application/javascript": [
       "\n",
       "            setTimeout(function() {\n",
       "                var nbb_cell_id = 229;\n",
       "                var nbb_unformatted_code = \"df_sorted_topo_cols[\\n    df_sorted_topo_cols[\\\"Classification\\\"].eq(\\\"intermediate_model\\\")\\n].sort_values(by=[\\\"Dominates_Count\\\", \\\"SCPM\\\"], ascending=[False, True]).iloc[:3]\";\n",
       "                var nbb_formatted_code = \"df_sorted_topo_cols[\\n    df_sorted_topo_cols[\\\"Classification\\\"].eq(\\\"intermediate_model\\\")\\n].sort_values(by=[\\\"Dominates_Count\\\", \\\"SCPM\\\"], ascending=[False, True]).iloc[:3]\";\n",
       "                var nbb_cells = Jupyter.notebook.get_cells();\n",
       "                for (var i = 0; i < nbb_cells.length; ++i) {\n",
       "                    if (nbb_cells[i].input_prompt_number == nbb_cell_id) {\n",
       "                        if (nbb_cells[i].get_text() == nbb_unformatted_code) {\n",
       "                             nbb_cells[i].set_text(nbb_formatted_code);\n",
       "                        }\n",
       "                        break;\n",
       "                    }\n",
       "                }\n",
       "            }, 500);\n",
       "            "
      ],
      "text/plain": [
       "<IPython.core.display.Javascript object>"
      ]
     },
     "metadata": {},
     "output_type": "display_data"
    }
   ],
   "source": [
    "df_sorted_topo_cols[\n",
    "    df_sorted_topo_cols[\"Classification\"].eq(\"intermediate_model\")\n",
    "].sort_values(by=[\"Dominates_Count\", \"SCPM\"], ascending=[False, True]).iloc[:3]"
   ]
  },
  {
   "cell_type": "code",
   "execution_count": 230,
   "id": "4c2b76d3",
   "metadata": {},
   "outputs": [
    {
     "data": {
      "text/plain": [
       "(18, 14)"
      ]
     },
     "execution_count": 230,
     "metadata": {},
     "output_type": "execute_result"
    },
    {
     "data": {
      "application/javascript": [
       "\n",
       "            setTimeout(function() {\n",
       "                var nbb_cell_id = 230;\n",
       "                var nbb_unformatted_code = \"df_sorted_topo_cols[\\n    df_sorted_topo_cols[\\\"Classification\\\"].eq(\\\"intermediate_model\\\")\\n].shape\";\n",
       "                var nbb_formatted_code = \"df_sorted_topo_cols[\\n    df_sorted_topo_cols[\\\"Classification\\\"].eq(\\\"intermediate_model\\\")\\n].shape\";\n",
       "                var nbb_cells = Jupyter.notebook.get_cells();\n",
       "                for (var i = 0; i < nbb_cells.length; ++i) {\n",
       "                    if (nbb_cells[i].input_prompt_number == nbb_cell_id) {\n",
       "                        if (nbb_cells[i].get_text() == nbb_unformatted_code) {\n",
       "                             nbb_cells[i].set_text(nbb_formatted_code);\n",
       "                        }\n",
       "                        break;\n",
       "                    }\n",
       "                }\n",
       "            }, 500);\n",
       "            "
      ],
      "text/plain": [
       "<IPython.core.display.Javascript object>"
      ]
     },
     "metadata": {},
     "output_type": "display_data"
    }
   ],
   "source": [
    "df_sorted_topo_cols[\n",
    "    df_sorted_topo_cols[\"Classification\"].eq(\"intermediate_model\")\n",
    "].shape"
   ]
  },
  {
   "cell_type": "markdown",
   "id": "a34eb765",
   "metadata": {},
   "source": [
    "###### non-dominant models"
   ]
  },
  {
   "cell_type": "code",
   "execution_count": 231,
   "id": "43617770",
   "metadata": {},
   "outputs": [
    {
     "data": {
      "text/html": [
       "<div>\n",
       "<style scoped>\n",
       "    .dataframe tbody tr th:only-of-type {\n",
       "        vertical-align: middle;\n",
       "    }\n",
       "\n",
       "    .dataframe tbody tr th {\n",
       "        vertical-align: top;\n",
       "    }\n",
       "\n",
       "    .dataframe thead th {\n",
       "        text-align: right;\n",
       "    }\n",
       "</style>\n",
       "<table border=\"1\" class=\"dataframe\">\n",
       "  <thead>\n",
       "    <tr style=\"text-align: right;\">\n",
       "      <th></th>\n",
       "      <th>Model_bkp_2</th>\n",
       "      <th>RMSE_mean</th>\n",
       "      <th>RMSE_std</th>\n",
       "      <th>MAE_mean</th>\n",
       "      <th>MAE_std</th>\n",
       "      <th>MAPE_mean</th>\n",
       "      <th>MAPE_std</th>\n",
       "      <th>R2_mean</th>\n",
       "      <th>R2_std</th>\n",
       "      <th>SCPM</th>\n",
       "      <th>Dominated_Count</th>\n",
       "      <th>Classification</th>\n",
       "      <th>Dominates_Count</th>\n",
       "      <th>Plant</th>\n",
       "    </tr>\n",
       "  </thead>\n",
       "  <tbody>\n",
       "    <tr>\n",
       "      <th>7</th>\n",
       "      <td>BidirectionalLSTM_7.0</td>\n",
       "      <td>3.89</td>\n",
       "      <td>2.27</td>\n",
       "      <td>3.19</td>\n",
       "      <td>2.23</td>\n",
       "      <td>7.8</td>\n",
       "      <td>5.32</td>\n",
       "      <td>0.44</td>\n",
       "      <td>0.59</td>\n",
       "      <td>10.29</td>\n",
       "      <td>19</td>\n",
       "      <td>non_dominant_model</td>\n",
       "      <td>0</td>\n",
       "      <td>c</td>\n",
       "    </tr>\n",
       "  </tbody>\n",
       "</table>\n",
       "</div>"
      ],
      "text/plain": [
       "             Model_bkp_2  RMSE_mean  RMSE_std  MAE_mean  MAE_std  MAPE_mean  \\\n",
       "7  BidirectionalLSTM_7.0       3.89      2.27      3.19     2.23        7.8   \n",
       "\n",
       "   MAPE_std  R2_mean  R2_std   SCPM  Dominated_Count      Classification  \\\n",
       "7      5.32     0.44    0.59  10.29               19  non_dominant_model   \n",
       "\n",
       "   Dominates_Count Plant  \n",
       "7                0     c  "
      ]
     },
     "execution_count": 231,
     "metadata": {},
     "output_type": "execute_result"
    },
    {
     "data": {
      "application/javascript": [
       "\n",
       "            setTimeout(function() {\n",
       "                var nbb_cell_id = 231;\n",
       "                var nbb_unformatted_code = \"df_sorted_topo_cols[\\n    df_sorted_topo_cols[\\\"Classification\\\"].eq(\\\"non_dominant_model\\\")\\n].sort_values(by=[\\\"Dominated_Count\\\", \\\"SCPM\\\"], ascending=[True, True]).iloc[:3]\";\n",
       "                var nbb_formatted_code = \"df_sorted_topo_cols[\\n    df_sorted_topo_cols[\\\"Classification\\\"].eq(\\\"non_dominant_model\\\")\\n].sort_values(by=[\\\"Dominated_Count\\\", \\\"SCPM\\\"], ascending=[True, True]).iloc[:3]\";\n",
       "                var nbb_cells = Jupyter.notebook.get_cells();\n",
       "                for (var i = 0; i < nbb_cells.length; ++i) {\n",
       "                    if (nbb_cells[i].input_prompt_number == nbb_cell_id) {\n",
       "                        if (nbb_cells[i].get_text() == nbb_unformatted_code) {\n",
       "                             nbb_cells[i].set_text(nbb_formatted_code);\n",
       "                        }\n",
       "                        break;\n",
       "                    }\n",
       "                }\n",
       "            }, 500);\n",
       "            "
      ],
      "text/plain": [
       "<IPython.core.display.Javascript object>"
      ]
     },
     "metadata": {},
     "output_type": "display_data"
    }
   ],
   "source": [
    "df_sorted_topo_cols[\n",
    "    df_sorted_topo_cols[\"Classification\"].eq(\"non_dominant_model\")\n",
    "].sort_values(by=[\"Dominated_Count\", \"SCPM\"], ascending=[True, True]).iloc[:3]"
   ]
  },
  {
   "cell_type": "code",
   "execution_count": 232,
   "id": "8ade2f3d",
   "metadata": {},
   "outputs": [
    {
     "data": {
      "text/plain": [
       "(1, 14)"
      ]
     },
     "execution_count": 232,
     "metadata": {},
     "output_type": "execute_result"
    },
    {
     "data": {
      "application/javascript": [
       "\n",
       "            setTimeout(function() {\n",
       "                var nbb_cell_id = 232;\n",
       "                var nbb_unformatted_code = \"df_sorted_topo_cols[\\n    df_sorted_topo_cols[\\\"Classification\\\"].eq(\\\"non_dominant_model\\\")\\n].shape\";\n",
       "                var nbb_formatted_code = \"df_sorted_topo_cols[\\n    df_sorted_topo_cols[\\\"Classification\\\"].eq(\\\"non_dominant_model\\\")\\n].shape\";\n",
       "                var nbb_cells = Jupyter.notebook.get_cells();\n",
       "                for (var i = 0; i < nbb_cells.length; ++i) {\n",
       "                    if (nbb_cells[i].input_prompt_number == nbb_cell_id) {\n",
       "                        if (nbb_cells[i].get_text() == nbb_unformatted_code) {\n",
       "                             nbb_cells[i].set_text(nbb_formatted_code);\n",
       "                        }\n",
       "                        break;\n",
       "                    }\n",
       "                }\n",
       "            }, 500);\n",
       "            "
      ],
      "text/plain": [
       "<IPython.core.display.Javascript object>"
      ]
     },
     "metadata": {},
     "output_type": "display_data"
    }
   ],
   "source": [
    "df_sorted_topo_cols[\n",
    "    df_sorted_topo_cols[\"Classification\"].eq(\"non_dominant_model\")\n",
    "].shape"
   ]
  },
  {
   "cell_type": "markdown",
   "id": "41ce1fa8",
   "metadata": {},
   "source": [
    "###### Statistics per model type"
   ]
  },
  {
   "cell_type": "code",
   "execution_count": 233,
   "id": "f86346f7",
   "metadata": {},
   "outputs": [
    {
     "data": {
      "application/javascript": [
       "\n",
       "            setTimeout(function() {\n",
       "                var nbb_cell_id = 233;\n",
       "                var nbb_unformatted_code = \"df_sorted_topo_models_cols = df_sorted_topo[\\n    [\\n        \\\"Model\\\",\\n        # \\\"Model_bkp\\\",\\n        # \\\"Model_bkp_2\\\",\\n        \\\"RMSE_mean\\\",\\n        \\\"RMSE_std\\\",\\n        \\\"MAE_mean\\\",\\n        \\\"MAE_std\\\",\\n        \\\"MAPE_mean\\\",\\n        \\\"MAPE_std\\\",\\n        \\\"R2_mean\\\",\\n        \\\"R2_std\\\",\\n        \\\"SCPM\\\",\\n        \\\"Dominated_Count\\\",\\n        \\\"Dominates_Count\\\",\\n        \\\"Classification\\\",\\n        \\\"Plant\\\",\\n    ]\\n]  # .round(2)\";\n",
       "                var nbb_formatted_code = \"df_sorted_topo_models_cols = df_sorted_topo[\\n    [\\n        \\\"Model\\\",\\n        # \\\"Model_bkp\\\",\\n        # \\\"Model_bkp_2\\\",\\n        \\\"RMSE_mean\\\",\\n        \\\"RMSE_std\\\",\\n        \\\"MAE_mean\\\",\\n        \\\"MAE_std\\\",\\n        \\\"MAPE_mean\\\",\\n        \\\"MAPE_std\\\",\\n        \\\"R2_mean\\\",\\n        \\\"R2_std\\\",\\n        \\\"SCPM\\\",\\n        \\\"Dominated_Count\\\",\\n        \\\"Dominates_Count\\\",\\n        \\\"Classification\\\",\\n        \\\"Plant\\\",\\n    ]\\n]  # .round(2)\";\n",
       "                var nbb_cells = Jupyter.notebook.get_cells();\n",
       "                for (var i = 0; i < nbb_cells.length; ++i) {\n",
       "                    if (nbb_cells[i].input_prompt_number == nbb_cell_id) {\n",
       "                        if (nbb_cells[i].get_text() == nbb_unformatted_code) {\n",
       "                             nbb_cells[i].set_text(nbb_formatted_code);\n",
       "                        }\n",
       "                        break;\n",
       "                    }\n",
       "                }\n",
       "            }, 500);\n",
       "            "
      ],
      "text/plain": [
       "<IPython.core.display.Javascript object>"
      ]
     },
     "metadata": {},
     "output_type": "display_data"
    }
   ],
   "source": [
    "df_sorted_topo_models_cols = df_sorted_topo[\n",
    "    [\n",
    "        \"Model\",\n",
    "        # \"Model_bkp\",\n",
    "        # \"Model_bkp_2\",\n",
    "        \"RMSE_mean\",\n",
    "        \"RMSE_std\",\n",
    "        \"MAE_mean\",\n",
    "        \"MAE_std\",\n",
    "        \"MAPE_mean\",\n",
    "        \"MAPE_std\",\n",
    "        \"R2_mean\",\n",
    "        \"R2_std\",\n",
    "        \"SCPM\",\n",
    "        \"Dominated_Count\",\n",
    "        \"Dominates_Count\",\n",
    "        \"Classification\",\n",
    "        \"Plant\",\n",
    "    ]\n",
    "]  # .round(2)"
   ]
  },
  {
   "cell_type": "code",
   "execution_count": 234,
   "id": "05f4cf16",
   "metadata": {},
   "outputs": [
    {
     "data": {
      "text/plain": [
       "Model\n",
       "Neural Networks      16\n",
       "Trees                 3\n",
       "Linear Regression     1\n",
       "Name: count, dtype: int64"
      ]
     },
     "execution_count": 234,
     "metadata": {},
     "output_type": "execute_result"
    },
    {
     "data": {
      "application/javascript": [
       "\n",
       "            setTimeout(function() {\n",
       "                var nbb_cell_id = 234;\n",
       "                var nbb_unformatted_code = \"df_sorted_topo[\\\"Model\\\"].value_counts()\";\n",
       "                var nbb_formatted_code = \"df_sorted_topo[\\\"Model\\\"].value_counts()\";\n",
       "                var nbb_cells = Jupyter.notebook.get_cells();\n",
       "                for (var i = 0; i < nbb_cells.length; ++i) {\n",
       "                    if (nbb_cells[i].input_prompt_number == nbb_cell_id) {\n",
       "                        if (nbb_cells[i].get_text() == nbb_unformatted_code) {\n",
       "                             nbb_cells[i].set_text(nbb_formatted_code);\n",
       "                        }\n",
       "                        break;\n",
       "                    }\n",
       "                }\n",
       "            }, 500);\n",
       "            "
      ],
      "text/plain": [
       "<IPython.core.display.Javascript object>"
      ]
     },
     "metadata": {},
     "output_type": "display_data"
    }
   ],
   "source": [
    "df_sorted_topo[\"Model\"].value_counts()"
   ]
  },
  {
   "cell_type": "code",
   "execution_count": 235,
   "id": "606c8770",
   "metadata": {},
   "outputs": [
    {
     "data": {
      "application/javascript": [
       "\n",
       "            setTimeout(function() {\n",
       "                var nbb_cell_id = 235;\n",
       "                var nbb_unformatted_code = \"df_sorted_topo_models_grouped = df_sorted_topo_models_cols.groupby(\\\"Model\\\").describe().T\";\n",
       "                var nbb_formatted_code = \"df_sorted_topo_models_grouped = df_sorted_topo_models_cols.groupby(\\\"Model\\\").describe().T\";\n",
       "                var nbb_cells = Jupyter.notebook.get_cells();\n",
       "                for (var i = 0; i < nbb_cells.length; ++i) {\n",
       "                    if (nbb_cells[i].input_prompt_number == nbb_cell_id) {\n",
       "                        if (nbb_cells[i].get_text() == nbb_unformatted_code) {\n",
       "                             nbb_cells[i].set_text(nbb_formatted_code);\n",
       "                        }\n",
       "                        break;\n",
       "                    }\n",
       "                }\n",
       "            }, 500);\n",
       "            "
      ],
      "text/plain": [
       "<IPython.core.display.Javascript object>"
      ]
     },
     "metadata": {},
     "output_type": "display_data"
    }
   ],
   "source": [
    "df_sorted_topo_models_grouped = df_sorted_topo_models_cols.groupby(\"Model\").describe().T"
   ]
  },
  {
   "cell_type": "code",
   "execution_count": 236,
   "id": "2288f1c0",
   "metadata": {},
   "outputs": [
    {
     "data": {
      "application/javascript": [
       "\n",
       "            setTimeout(function() {\n",
       "                var nbb_cell_id = 236;\n",
       "                var nbb_unformatted_code = \"df_sorted_topo_models_cols = df_sorted_topo[\\n    [\\n        \\\"Model\\\",\\n        \\\"Dominated_Count\\\",\\n        \\\"Dominates_Count\\\",\\n        \\\"Classification\\\",\\n    ]\\n]\";\n",
       "                var nbb_formatted_code = \"df_sorted_topo_models_cols = df_sorted_topo[\\n    [\\n        \\\"Model\\\",\\n        \\\"Dominated_Count\\\",\\n        \\\"Dominates_Count\\\",\\n        \\\"Classification\\\",\\n    ]\\n]\";\n",
       "                var nbb_cells = Jupyter.notebook.get_cells();\n",
       "                for (var i = 0; i < nbb_cells.length; ++i) {\n",
       "                    if (nbb_cells[i].input_prompt_number == nbb_cell_id) {\n",
       "                        if (nbb_cells[i].get_text() == nbb_unformatted_code) {\n",
       "                             nbb_cells[i].set_text(nbb_formatted_code);\n",
       "                        }\n",
       "                        break;\n",
       "                    }\n",
       "                }\n",
       "            }, 500);\n",
       "            "
      ],
      "text/plain": [
       "<IPython.core.display.Javascript object>"
      ]
     },
     "metadata": {},
     "output_type": "display_data"
    }
   ],
   "source": [
    "df_sorted_topo_models_cols = df_sorted_topo[\n",
    "    [\n",
    "        \"Model\",\n",
    "        \"Dominated_Count\",\n",
    "        \"Dominates_Count\",\n",
    "        \"Classification\",\n",
    "    ]\n",
    "]"
   ]
  },
  {
   "cell_type": "code",
   "execution_count": 237,
   "id": "1f600f58",
   "metadata": {},
   "outputs": [
    {
     "data": {
      "text/html": [
       "<div>\n",
       "<style scoped>\n",
       "    .dataframe tbody tr th:only-of-type {\n",
       "        vertical-align: middle;\n",
       "    }\n",
       "\n",
       "    .dataframe tbody tr th {\n",
       "        vertical-align: top;\n",
       "    }\n",
       "\n",
       "    .dataframe thead th {\n",
       "        text-align: right;\n",
       "    }\n",
       "</style>\n",
       "<table border=\"1\" class=\"dataframe\">\n",
       "  <thead>\n",
       "    <tr style=\"text-align: right;\">\n",
       "      <th></th>\n",
       "      <th></th>\n",
       "      <th>proportion</th>\n",
       "    </tr>\n",
       "    <tr>\n",
       "      <th>Model</th>\n",
       "      <th>Classification</th>\n",
       "      <th></th>\n",
       "    </tr>\n",
       "  </thead>\n",
       "  <tbody>\n",
       "    <tr>\n",
       "      <th>Linear Regression</th>\n",
       "      <th>intermediate_model</th>\n",
       "      <td>100.00</td>\n",
       "    </tr>\n",
       "    <tr>\n",
       "      <th rowspan=\"3\" valign=\"top\">Neural Networks</th>\n",
       "      <th>intermediate_model</th>\n",
       "      <td>87.50</td>\n",
       "    </tr>\n",
       "    <tr>\n",
       "      <th>dominant_model</th>\n",
       "      <td>6.25</td>\n",
       "    </tr>\n",
       "    <tr>\n",
       "      <th>non_dominant_model</th>\n",
       "      <td>6.25</td>\n",
       "    </tr>\n",
       "    <tr>\n",
       "      <th>Trees</th>\n",
       "      <th>intermediate_model</th>\n",
       "      <td>100.00</td>\n",
       "    </tr>\n",
       "  </tbody>\n",
       "</table>\n",
       "</div>"
      ],
      "text/plain": [
       "                                      proportion\n",
       "Model             Classification                \n",
       "Linear Regression intermediate_model      100.00\n",
       "Neural Networks   intermediate_model       87.50\n",
       "                  dominant_model            6.25\n",
       "                  non_dominant_model        6.25\n",
       "Trees             intermediate_model      100.00"
      ]
     },
     "execution_count": 237,
     "metadata": {},
     "output_type": "execute_result"
    },
    {
     "data": {
      "application/javascript": [
       "\n",
       "            setTimeout(function() {\n",
       "                var nbb_cell_id = 237;\n",
       "                var nbb_unformatted_code = \"(\\n    df_sorted_topo_models_cols.groupby(\\\"Model\\\")[[\\\"Classification\\\"]]\\n    .value_counts(normalize=True)\\n    .to_frame()\\n    * 100\\n).round(2)\";\n",
       "                var nbb_formatted_code = \"(\\n    df_sorted_topo_models_cols.groupby(\\\"Model\\\")[[\\\"Classification\\\"]]\\n    .value_counts(normalize=True)\\n    .to_frame()\\n    * 100\\n).round(2)\";\n",
       "                var nbb_cells = Jupyter.notebook.get_cells();\n",
       "                for (var i = 0; i < nbb_cells.length; ++i) {\n",
       "                    if (nbb_cells[i].input_prompt_number == nbb_cell_id) {\n",
       "                        if (nbb_cells[i].get_text() == nbb_unformatted_code) {\n",
       "                             nbb_cells[i].set_text(nbb_formatted_code);\n",
       "                        }\n",
       "                        break;\n",
       "                    }\n",
       "                }\n",
       "            }, 500);\n",
       "            "
      ],
      "text/plain": [
       "<IPython.core.display.Javascript object>"
      ]
     },
     "metadata": {},
     "output_type": "display_data"
    }
   ],
   "source": [
    "(\n",
    "    df_sorted_topo_models_cols.groupby(\"Model\")[[\"Classification\"]]\n",
    "    .value_counts(normalize=True)\n",
    "    .to_frame()\n",
    "    * 100\n",
    ").round(2)"
   ]
  },
  {
   "cell_type": "code",
   "execution_count": 238,
   "id": "4f4bc89f",
   "metadata": {},
   "outputs": [
    {
     "data": {
      "text/html": [
       "<div>\n",
       "<style scoped>\n",
       "    .dataframe tbody tr th:only-of-type {\n",
       "        vertical-align: middle;\n",
       "    }\n",
       "\n",
       "    .dataframe tbody tr th {\n",
       "        vertical-align: top;\n",
       "    }\n",
       "\n",
       "    .dataframe thead th {\n",
       "        text-align: right;\n",
       "    }\n",
       "</style>\n",
       "<table border=\"1\" class=\"dataframe\">\n",
       "  <thead>\n",
       "    <tr style=\"text-align: right;\">\n",
       "      <th></th>\n",
       "      <th>Model</th>\n",
       "      <th>Linear Regression</th>\n",
       "      <th>Neural Networks</th>\n",
       "      <th>Trees</th>\n",
       "    </tr>\n",
       "  </thead>\n",
       "  <tbody>\n",
       "    <tr>\n",
       "      <th rowspan=\"8\" valign=\"top\">Dominated_Count</th>\n",
       "      <th>count</th>\n",
       "      <td>1.0</td>\n",
       "      <td>16.00</td>\n",
       "      <td>3.00</td>\n",
       "    </tr>\n",
       "    <tr>\n",
       "      <th>mean</th>\n",
       "      <td>2.0</td>\n",
       "      <td>10.25</td>\n",
       "      <td>3.00</td>\n",
       "    </tr>\n",
       "    <tr>\n",
       "      <th>std</th>\n",
       "      <td>NaN</td>\n",
       "      <td>5.41</td>\n",
       "      <td>1.73</td>\n",
       "    </tr>\n",
       "    <tr>\n",
       "      <th>min</th>\n",
       "      <td>2.0</td>\n",
       "      <td>0.00</td>\n",
       "      <td>1.00</td>\n",
       "    </tr>\n",
       "    <tr>\n",
       "      <th>25%</th>\n",
       "      <td>2.0</td>\n",
       "      <td>7.00</td>\n",
       "      <td>2.50</td>\n",
       "    </tr>\n",
       "    <tr>\n",
       "      <th>50%</th>\n",
       "      <td>2.0</td>\n",
       "      <td>11.50</td>\n",
       "      <td>4.00</td>\n",
       "    </tr>\n",
       "    <tr>\n",
       "      <th>75%</th>\n",
       "      <td>2.0</td>\n",
       "      <td>15.00</td>\n",
       "      <td>4.00</td>\n",
       "    </tr>\n",
       "    <tr>\n",
       "      <th>max</th>\n",
       "      <td>2.0</td>\n",
       "      <td>19.00</td>\n",
       "      <td>4.00</td>\n",
       "    </tr>\n",
       "    <tr>\n",
       "      <th rowspan=\"8\" valign=\"top\">Dominates_Count</th>\n",
       "      <th>count</th>\n",
       "      <td>1.0</td>\n",
       "      <td>16.00</td>\n",
       "      <td>3.00</td>\n",
       "    </tr>\n",
       "    <tr>\n",
       "      <th>mean</th>\n",
       "      <td>16.0</td>\n",
       "      <td>7.31</td>\n",
       "      <td>14.00</td>\n",
       "    </tr>\n",
       "    <tr>\n",
       "      <th>std</th>\n",
       "      <td>NaN</td>\n",
       "      <td>5.80</td>\n",
       "      <td>3.46</td>\n",
       "    </tr>\n",
       "    <tr>\n",
       "      <th>min</th>\n",
       "      <td>16.0</td>\n",
       "      <td>0.00</td>\n",
       "      <td>12.00</td>\n",
       "    </tr>\n",
       "    <tr>\n",
       "      <th>25%</th>\n",
       "      <td>16.0</td>\n",
       "      <td>1.00</td>\n",
       "      <td>12.00</td>\n",
       "    </tr>\n",
       "    <tr>\n",
       "      <th>50%</th>\n",
       "      <td>16.0</td>\n",
       "      <td>7.00</td>\n",
       "      <td>12.00</td>\n",
       "    </tr>\n",
       "    <tr>\n",
       "      <th>75%</th>\n",
       "      <td>16.0</td>\n",
       "      <td>11.25</td>\n",
       "      <td>15.00</td>\n",
       "    </tr>\n",
       "    <tr>\n",
       "      <th>max</th>\n",
       "      <td>16.0</td>\n",
       "      <td>19.00</td>\n",
       "      <td>18.00</td>\n",
       "    </tr>\n",
       "  </tbody>\n",
       "</table>\n",
       "</div>"
      ],
      "text/plain": [
       "Model                  Linear Regression  Neural Networks  Trees\n",
       "Dominated_Count count                1.0            16.00   3.00\n",
       "                mean                 2.0            10.25   3.00\n",
       "                std                  NaN             5.41   1.73\n",
       "                min                  2.0             0.00   1.00\n",
       "                25%                  2.0             7.00   2.50\n",
       "                50%                  2.0            11.50   4.00\n",
       "                75%                  2.0            15.00   4.00\n",
       "                max                  2.0            19.00   4.00\n",
       "Dominates_Count count                1.0            16.00   3.00\n",
       "                mean                16.0             7.31  14.00\n",
       "                std                  NaN             5.80   3.46\n",
       "                min                 16.0             0.00  12.00\n",
       "                25%                 16.0             1.00  12.00\n",
       "                50%                 16.0             7.00  12.00\n",
       "                75%                 16.0            11.25  15.00\n",
       "                max                 16.0            19.00  18.00"
      ]
     },
     "execution_count": 238,
     "metadata": {},
     "output_type": "execute_result"
    },
    {
     "data": {
      "application/javascript": [
       "\n",
       "            setTimeout(function() {\n",
       "                var nbb_cell_id = 238;\n",
       "                var nbb_unformatted_code = \"df_sorted_topo_models_cols.groupby(\\\"Model\\\").describe().round(2).T\";\n",
       "                var nbb_formatted_code = \"df_sorted_topo_models_cols.groupby(\\\"Model\\\").describe().round(2).T\";\n",
       "                var nbb_cells = Jupyter.notebook.get_cells();\n",
       "                for (var i = 0; i < nbb_cells.length; ++i) {\n",
       "                    if (nbb_cells[i].input_prompt_number == nbb_cell_id) {\n",
       "                        if (nbb_cells[i].get_text() == nbb_unformatted_code) {\n",
       "                             nbb_cells[i].set_text(nbb_formatted_code);\n",
       "                        }\n",
       "                        break;\n",
       "                    }\n",
       "                }\n",
       "            }, 500);\n",
       "            "
      ],
      "text/plain": [
       "<IPython.core.display.Javascript object>"
      ]
     },
     "metadata": {},
     "output_type": "display_data"
    }
   ],
   "source": [
    "df_sorted_topo_models_cols.groupby(\"Model\").describe().round(2).T"
   ]
  },
  {
   "cell_type": "code",
   "execution_count": 239,
   "id": "f1b15df4",
   "metadata": {},
   "outputs": [
    {
     "data": {
      "text/html": [
       "<div>\n",
       "<style scoped>\n",
       "    .dataframe tbody tr th:only-of-type {\n",
       "        vertical-align: middle;\n",
       "    }\n",
       "\n",
       "    .dataframe tbody tr th {\n",
       "        vertical-align: top;\n",
       "    }\n",
       "\n",
       "    .dataframe thead th {\n",
       "        text-align: right;\n",
       "    }\n",
       "</style>\n",
       "<table border=\"1\" class=\"dataframe\">\n",
       "  <thead>\n",
       "    <tr style=\"text-align: right;\">\n",
       "      <th></th>\n",
       "      <th>count</th>\n",
       "      <th>unique</th>\n",
       "      <th>top</th>\n",
       "      <th>freq</th>\n",
       "    </tr>\n",
       "    <tr>\n",
       "      <th>Model</th>\n",
       "      <th></th>\n",
       "      <th></th>\n",
       "      <th></th>\n",
       "      <th></th>\n",
       "    </tr>\n",
       "  </thead>\n",
       "  <tbody>\n",
       "    <tr>\n",
       "      <th>Linear Regression</th>\n",
       "      <td>1</td>\n",
       "      <td>1</td>\n",
       "      <td>intermediate_model</td>\n",
       "      <td>1</td>\n",
       "    </tr>\n",
       "    <tr>\n",
       "      <th>Neural Networks</th>\n",
       "      <td>16</td>\n",
       "      <td>3</td>\n",
       "      <td>intermediate_model</td>\n",
       "      <td>14</td>\n",
       "    </tr>\n",
       "    <tr>\n",
       "      <th>Trees</th>\n",
       "      <td>3</td>\n",
       "      <td>1</td>\n",
       "      <td>intermediate_model</td>\n",
       "      <td>3</td>\n",
       "    </tr>\n",
       "  </tbody>\n",
       "</table>\n",
       "</div>"
      ],
      "text/plain": [
       "                  count unique                 top freq\n",
       "Model                                                  \n",
       "Linear Regression     1      1  intermediate_model    1\n",
       "Neural Networks      16      3  intermediate_model   14\n",
       "Trees                 3      1  intermediate_model    3"
      ]
     },
     "execution_count": 239,
     "metadata": {},
     "output_type": "execute_result"
    },
    {
     "data": {
      "application/javascript": [
       "\n",
       "            setTimeout(function() {\n",
       "                var nbb_cell_id = 239;\n",
       "                var nbb_unformatted_code = \"df_sorted_topo_models_cols.groupby(\\\"Model\\\")[\\\"Classification\\\"].describe()\";\n",
       "                var nbb_formatted_code = \"df_sorted_topo_models_cols.groupby(\\\"Model\\\")[\\\"Classification\\\"].describe()\";\n",
       "                var nbb_cells = Jupyter.notebook.get_cells();\n",
       "                for (var i = 0; i < nbb_cells.length; ++i) {\n",
       "                    if (nbb_cells[i].input_prompt_number == nbb_cell_id) {\n",
       "                        if (nbb_cells[i].get_text() == nbb_unformatted_code) {\n",
       "                             nbb_cells[i].set_text(nbb_formatted_code);\n",
       "                        }\n",
       "                        break;\n",
       "                    }\n",
       "                }\n",
       "            }, 500);\n",
       "            "
      ],
      "text/plain": [
       "<IPython.core.display.Javascript object>"
      ]
     },
     "metadata": {},
     "output_type": "display_data"
    }
   ],
   "source": [
    "df_sorted_topo_models_cols.groupby(\"Model\")[\"Classification\"].describe()"
   ]
  },
  {
   "cell_type": "code",
   "execution_count": 240,
   "id": "c189a15a",
   "metadata": {
    "scrolled": true
   },
   "outputs": [
    {
     "data": {
      "text/plain": [
       "Model              Classification    \n",
       "Linear Regression  intermediate_model     1\n",
       "Neural Networks    intermediate_model    14\n",
       "                   dominant_model         1\n",
       "                   non_dominant_model     1\n",
       "Trees              intermediate_model     3\n",
       "Name: count, dtype: int64"
      ]
     },
     "execution_count": 240,
     "metadata": {},
     "output_type": "execute_result"
    },
    {
     "data": {
      "application/javascript": [
       "\n",
       "            setTimeout(function() {\n",
       "                var nbb_cell_id = 240;\n",
       "                var nbb_unformatted_code = \"df_sorted_topo_models_cols.groupby(\\\"Model\\\")[[\\\"Classification\\\"]].value_counts()\";\n",
       "                var nbb_formatted_code = \"df_sorted_topo_models_cols.groupby(\\\"Model\\\")[[\\\"Classification\\\"]].value_counts()\";\n",
       "                var nbb_cells = Jupyter.notebook.get_cells();\n",
       "                for (var i = 0; i < nbb_cells.length; ++i) {\n",
       "                    if (nbb_cells[i].input_prompt_number == nbb_cell_id) {\n",
       "                        if (nbb_cells[i].get_text() == nbb_unformatted_code) {\n",
       "                             nbb_cells[i].set_text(nbb_formatted_code);\n",
       "                        }\n",
       "                        break;\n",
       "                    }\n",
       "                }\n",
       "            }, 500);\n",
       "            "
      ],
      "text/plain": [
       "<IPython.core.display.Javascript object>"
      ]
     },
     "metadata": {},
     "output_type": "display_data"
    }
   ],
   "source": [
    "df_sorted_topo_models_cols.groupby(\"Model\")[[\"Classification\"]].value_counts()"
   ]
  },
  {
   "cell_type": "code",
   "execution_count": 241,
   "id": "8e851081",
   "metadata": {},
   "outputs": [
    {
     "data": {
      "application/javascript": [
       "\n",
       "            setTimeout(function() {\n",
       "                var nbb_cell_id = 241;\n",
       "                var nbb_unformatted_code = \"summary_stats = df_sorted_topo_models_cols.groupby(\\\"Model\\\").agg(\\n    Total_Models=(\\\"Model\\\", \\\"count\\\"),\\n    Mean_Dominance_Count=(\\\"Dominates_Count\\\", \\\"mean\\\"),\\n    Median_Dominance_Count=(\\\"Dominates_Count\\\", \\\"median\\\"),\\n    Total_Dominated=(\\\"Dominated_Count\\\", \\\"sum\\\"),\\n    Total_Dominating=(\\\"Dominates_Count\\\", \\\"sum\\\"),\\n)\\n\\ntotal_models = summary_stats[\\n    \\\"Total_Models\\\"\\n].sum()  # Get the total number of models across all categories\\nsummary_stats[\\\"Dominance Proportion\\\"] = summary_stats[\\\"Total_Dominating\\\"] / total_models\";\n",
       "                var nbb_formatted_code = \"summary_stats = df_sorted_topo_models_cols.groupby(\\\"Model\\\").agg(\\n    Total_Models=(\\\"Model\\\", \\\"count\\\"),\\n    Mean_Dominance_Count=(\\\"Dominates_Count\\\", \\\"mean\\\"),\\n    Median_Dominance_Count=(\\\"Dominates_Count\\\", \\\"median\\\"),\\n    Total_Dominated=(\\\"Dominated_Count\\\", \\\"sum\\\"),\\n    Total_Dominating=(\\\"Dominates_Count\\\", \\\"sum\\\"),\\n)\\n\\ntotal_models = summary_stats[\\n    \\\"Total_Models\\\"\\n].sum()  # Get the total number of models across all categories\\nsummary_stats[\\\"Dominance Proportion\\\"] = summary_stats[\\\"Total_Dominating\\\"] / total_models\";\n",
       "                var nbb_cells = Jupyter.notebook.get_cells();\n",
       "                for (var i = 0; i < nbb_cells.length; ++i) {\n",
       "                    if (nbb_cells[i].input_prompt_number == nbb_cell_id) {\n",
       "                        if (nbb_cells[i].get_text() == nbb_unformatted_code) {\n",
       "                             nbb_cells[i].set_text(nbb_formatted_code);\n",
       "                        }\n",
       "                        break;\n",
       "                    }\n",
       "                }\n",
       "            }, 500);\n",
       "            "
      ],
      "text/plain": [
       "<IPython.core.display.Javascript object>"
      ]
     },
     "metadata": {},
     "output_type": "display_data"
    }
   ],
   "source": [
    "summary_stats = df_sorted_topo_models_cols.groupby(\"Model\").agg(\n",
    "    Total_Models=(\"Model\", \"count\"),\n",
    "    Mean_Dominance_Count=(\"Dominates_Count\", \"mean\"),\n",
    "    Median_Dominance_Count=(\"Dominates_Count\", \"median\"),\n",
    "    Total_Dominated=(\"Dominated_Count\", \"sum\"),\n",
    "    Total_Dominating=(\"Dominates_Count\", \"sum\"),\n",
    ")\n",
    "\n",
    "total_models = summary_stats[\n",
    "    \"Total_Models\"\n",
    "].sum()  # Get the total number of models across all categories\n",
    "summary_stats[\"Dominance Proportion\"] = summary_stats[\"Total_Dominating\"] / total_models"
   ]
  },
  {
   "cell_type": "code",
   "execution_count": 242,
   "id": "3209e04f",
   "metadata": {},
   "outputs": [
    {
     "data": {
      "text/html": [
       "<div>\n",
       "<style scoped>\n",
       "    .dataframe tbody tr th:only-of-type {\n",
       "        vertical-align: middle;\n",
       "    }\n",
       "\n",
       "    .dataframe tbody tr th {\n",
       "        vertical-align: top;\n",
       "    }\n",
       "\n",
       "    .dataframe thead th {\n",
       "        text-align: right;\n",
       "    }\n",
       "</style>\n",
       "<table border=\"1\" class=\"dataframe\">\n",
       "  <thead>\n",
       "    <tr style=\"text-align: right;\">\n",
       "      <th></th>\n",
       "      <th>Total_Models</th>\n",
       "      <th>Mean_Dominance_Count</th>\n",
       "      <th>Median_Dominance_Count</th>\n",
       "      <th>Total_Dominated</th>\n",
       "      <th>Total_Dominating</th>\n",
       "      <th>Dominance Proportion</th>\n",
       "    </tr>\n",
       "    <tr>\n",
       "      <th>Model</th>\n",
       "      <th></th>\n",
       "      <th></th>\n",
       "      <th></th>\n",
       "      <th></th>\n",
       "      <th></th>\n",
       "      <th></th>\n",
       "    </tr>\n",
       "  </thead>\n",
       "  <tbody>\n",
       "    <tr>\n",
       "      <th>Linear Regression</th>\n",
       "      <td>1</td>\n",
       "      <td>16.0000</td>\n",
       "      <td>16.0</td>\n",
       "      <td>2</td>\n",
       "      <td>16</td>\n",
       "      <td>0.80</td>\n",
       "    </tr>\n",
       "    <tr>\n",
       "      <th>Neural Networks</th>\n",
       "      <td>16</td>\n",
       "      <td>7.3125</td>\n",
       "      <td>7.0</td>\n",
       "      <td>164</td>\n",
       "      <td>117</td>\n",
       "      <td>5.85</td>\n",
       "    </tr>\n",
       "    <tr>\n",
       "      <th>Trees</th>\n",
       "      <td>3</td>\n",
       "      <td>14.0000</td>\n",
       "      <td>12.0</td>\n",
       "      <td>9</td>\n",
       "      <td>42</td>\n",
       "      <td>2.10</td>\n",
       "    </tr>\n",
       "  </tbody>\n",
       "</table>\n",
       "</div>"
      ],
      "text/plain": [
       "                   Total_Models  Mean_Dominance_Count  Median_Dominance_Count  \\\n",
       "Model                                                                           \n",
       "Linear Regression             1               16.0000                    16.0   \n",
       "Neural Networks              16                7.3125                     7.0   \n",
       "Trees                         3               14.0000                    12.0   \n",
       "\n",
       "                   Total_Dominated  Total_Dominating  Dominance Proportion  \n",
       "Model                                                                       \n",
       "Linear Regression                2                16                  0.80  \n",
       "Neural Networks                164               117                  5.85  \n",
       "Trees                            9                42                  2.10  "
      ]
     },
     "execution_count": 242,
     "metadata": {},
     "output_type": "execute_result"
    },
    {
     "data": {
      "application/javascript": [
       "\n",
       "            setTimeout(function() {\n",
       "                var nbb_cell_id = 242;\n",
       "                var nbb_unformatted_code = \"summary_stats\";\n",
       "                var nbb_formatted_code = \"summary_stats\";\n",
       "                var nbb_cells = Jupyter.notebook.get_cells();\n",
       "                for (var i = 0; i < nbb_cells.length; ++i) {\n",
       "                    if (nbb_cells[i].input_prompt_number == nbb_cell_id) {\n",
       "                        if (nbb_cells[i].get_text() == nbb_unformatted_code) {\n",
       "                             nbb_cells[i].set_text(nbb_formatted_code);\n",
       "                        }\n",
       "                        break;\n",
       "                    }\n",
       "                }\n",
       "            }, 500);\n",
       "            "
      ],
      "text/plain": [
       "<IPython.core.display.Javascript object>"
      ]
     },
     "metadata": {},
     "output_type": "display_data"
    }
   ],
   "source": [
    "summary_stats"
   ]
  },
  {
   "cell_type": "code",
   "execution_count": 243,
   "id": "430b5648",
   "metadata": {},
   "outputs": [
    {
     "data": {
      "text/html": [
       "<div>\n",
       "<style scoped>\n",
       "    .dataframe tbody tr th:only-of-type {\n",
       "        vertical-align: middle;\n",
       "    }\n",
       "\n",
       "    .dataframe tbody tr th {\n",
       "        vertical-align: top;\n",
       "    }\n",
       "\n",
       "    .dataframe thead tr th {\n",
       "        text-align: left;\n",
       "    }\n",
       "\n",
       "    .dataframe thead tr:last-of-type th {\n",
       "        text-align: right;\n",
       "    }\n",
       "</style>\n",
       "<table border=\"1\" class=\"dataframe\">\n",
       "  <thead>\n",
       "    <tr>\n",
       "      <th></th>\n",
       "      <th colspan=\"8\" halign=\"left\">RMSE_mean</th>\n",
       "      <th colspan=\"2\" halign=\"left\">RMSE_std</th>\n",
       "      <th>...</th>\n",
       "      <th colspan=\"2\" halign=\"left\">Dominated_Count</th>\n",
       "      <th colspan=\"8\" halign=\"left\">Dominates_Count</th>\n",
       "    </tr>\n",
       "    <tr>\n",
       "      <th></th>\n",
       "      <th>count</th>\n",
       "      <th>mean</th>\n",
       "      <th>std</th>\n",
       "      <th>min</th>\n",
       "      <th>25%</th>\n",
       "      <th>50%</th>\n",
       "      <th>75%</th>\n",
       "      <th>max</th>\n",
       "      <th>count</th>\n",
       "      <th>mean</th>\n",
       "      <th>...</th>\n",
       "      <th>75%</th>\n",
       "      <th>max</th>\n",
       "      <th>count</th>\n",
       "      <th>mean</th>\n",
       "      <th>std</th>\n",
       "      <th>min</th>\n",
       "      <th>25%</th>\n",
       "      <th>50%</th>\n",
       "      <th>75%</th>\n",
       "      <th>max</th>\n",
       "    </tr>\n",
       "    <tr>\n",
       "      <th>Model</th>\n",
       "      <th></th>\n",
       "      <th></th>\n",
       "      <th></th>\n",
       "      <th></th>\n",
       "      <th></th>\n",
       "      <th></th>\n",
       "      <th></th>\n",
       "      <th></th>\n",
       "      <th></th>\n",
       "      <th></th>\n",
       "      <th></th>\n",
       "      <th></th>\n",
       "      <th></th>\n",
       "      <th></th>\n",
       "      <th></th>\n",
       "      <th></th>\n",
       "      <th></th>\n",
       "      <th></th>\n",
       "      <th></th>\n",
       "      <th></th>\n",
       "      <th></th>\n",
       "    </tr>\n",
       "  </thead>\n",
       "  <tbody>\n",
       "    <tr>\n",
       "      <th>Linear Regression</th>\n",
       "      <td>1.0</td>\n",
       "      <td>1.397380</td>\n",
       "      <td>NaN</td>\n",
       "      <td>1.397380</td>\n",
       "      <td>1.397380</td>\n",
       "      <td>1.397380</td>\n",
       "      <td>1.397380</td>\n",
       "      <td>1.397380</td>\n",
       "      <td>1.0</td>\n",
       "      <td>0.210220</td>\n",
       "      <td>...</td>\n",
       "      <td>2.0</td>\n",
       "      <td>2.0</td>\n",
       "      <td>1.0</td>\n",
       "      <td>16.0000</td>\n",
       "      <td>NaN</td>\n",
       "      <td>16.0</td>\n",
       "      <td>16.0</td>\n",
       "      <td>16.0</td>\n",
       "      <td>16.00</td>\n",
       "      <td>16.0</td>\n",
       "    </tr>\n",
       "    <tr>\n",
       "      <th>Neural Networks</th>\n",
       "      <td>16.0</td>\n",
       "      <td>2.327602</td>\n",
       "      <td>0.723700</td>\n",
       "      <td>1.113216</td>\n",
       "      <td>1.865003</td>\n",
       "      <td>2.397739</td>\n",
       "      <td>2.742636</td>\n",
       "      <td>3.885565</td>\n",
       "      <td>16.0</td>\n",
       "      <td>0.872075</td>\n",
       "      <td>...</td>\n",
       "      <td>15.0</td>\n",
       "      <td>19.0</td>\n",
       "      <td>16.0</td>\n",
       "      <td>7.3125</td>\n",
       "      <td>5.804811</td>\n",
       "      <td>0.0</td>\n",
       "      <td>1.0</td>\n",
       "      <td>7.0</td>\n",
       "      <td>11.25</td>\n",
       "      <td>19.0</td>\n",
       "    </tr>\n",
       "    <tr>\n",
       "      <th>Trees</th>\n",
       "      <td>3.0</td>\n",
       "      <td>1.454054</td>\n",
       "      <td>0.256703</td>\n",
       "      <td>1.164482</td>\n",
       "      <td>1.354242</td>\n",
       "      <td>1.544001</td>\n",
       "      <td>1.598840</td>\n",
       "      <td>1.653679</td>\n",
       "      <td>3.0</td>\n",
       "      <td>0.526040</td>\n",
       "      <td>...</td>\n",
       "      <td>4.0</td>\n",
       "      <td>4.0</td>\n",
       "      <td>3.0</td>\n",
       "      <td>14.0000</td>\n",
       "      <td>3.464102</td>\n",
       "      <td>12.0</td>\n",
       "      <td>12.0</td>\n",
       "      <td>12.0</td>\n",
       "      <td>15.00</td>\n",
       "      <td>18.0</td>\n",
       "    </tr>\n",
       "  </tbody>\n",
       "</table>\n",
       "<p>3 rows × 88 columns</p>\n",
       "</div>"
      ],
      "text/plain": [
       "                  RMSE_mean                                                    \\\n",
       "                      count      mean       std       min       25%       50%   \n",
       "Model                                                                           \n",
       "Linear Regression       1.0  1.397380       NaN  1.397380  1.397380  1.397380   \n",
       "Neural Networks        16.0  2.327602  0.723700  1.113216  1.865003  2.397739   \n",
       "Trees                   3.0  1.454054  0.256703  1.164482  1.354242  1.544001   \n",
       "\n",
       "                                      RMSE_std            ... Dominated_Count  \\\n",
       "                        75%       max    count      mean  ...             75%   \n",
       "Model                                                     ...                   \n",
       "Linear Regression  1.397380  1.397380      1.0  0.210220  ...             2.0   \n",
       "Neural Networks    2.742636  3.885565     16.0  0.872075  ...            15.0   \n",
       "Trees              1.598840  1.653679      3.0  0.526040  ...             4.0   \n",
       "\n",
       "                        Dominates_Count                                       \\\n",
       "                    max           count     mean       std   min   25%   50%   \n",
       "Model                                                                          \n",
       "Linear Regression   2.0             1.0  16.0000       NaN  16.0  16.0  16.0   \n",
       "Neural Networks    19.0            16.0   7.3125  5.804811   0.0   1.0   7.0   \n",
       "Trees               4.0             3.0  14.0000  3.464102  12.0  12.0  12.0   \n",
       "\n",
       "                                \n",
       "                     75%   max  \n",
       "Model                           \n",
       "Linear Regression  16.00  16.0  \n",
       "Neural Networks    11.25  19.0  \n",
       "Trees              15.00  18.0  \n",
       "\n",
       "[3 rows x 88 columns]"
      ]
     },
     "execution_count": 243,
     "metadata": {},
     "output_type": "execute_result"
    },
    {
     "data": {
      "application/javascript": [
       "\n",
       "            setTimeout(function() {\n",
       "                var nbb_cell_id = 243;\n",
       "                var nbb_unformatted_code = \"df_sorted_topo_models_grouped.T\";\n",
       "                var nbb_formatted_code = \"df_sorted_topo_models_grouped.T\";\n",
       "                var nbb_cells = Jupyter.notebook.get_cells();\n",
       "                for (var i = 0; i < nbb_cells.length; ++i) {\n",
       "                    if (nbb_cells[i].input_prompt_number == nbb_cell_id) {\n",
       "                        if (nbb_cells[i].get_text() == nbb_unformatted_code) {\n",
       "                             nbb_cells[i].set_text(nbb_formatted_code);\n",
       "                        }\n",
       "                        break;\n",
       "                    }\n",
       "                }\n",
       "            }, 500);\n",
       "            "
      ],
      "text/plain": [
       "<IPython.core.display.Javascript object>"
      ]
     },
     "metadata": {},
     "output_type": "display_data"
    }
   ],
   "source": [
    "df_sorted_topo_models_grouped.T"
   ]
  },
  {
   "cell_type": "markdown",
   "id": "3e9c6145",
   "metadata": {},
   "source": [
    "### SCPM Analysis"
   ]
  },
  {
   "cell_type": "code",
   "execution_count": 244,
   "id": "17baa9c9",
   "metadata": {},
   "outputs": [
    {
     "data": {
      "application/javascript": [
       "\n",
       "            setTimeout(function() {\n",
       "                var nbb_cell_id = 244;\n",
       "                var nbb_unformatted_code = \"cols = [\\n    # \\\"Model\\\",\\n    # \\\"Model_bkp\\\",\\n    \\\"Model_bkp_2\\\",\\n    \\\"RMSE_mean\\\",\\n    \\\"RMSE_std\\\",\\n    \\\"MAE_mean\\\",\\n    \\\"MAE_std\\\",\\n    \\\"MAPE_mean\\\",\\n    \\\"MAPE_std\\\",\\n    \\\"R2_mean\\\",\\n    \\\"R2_std\\\",\\n    \\\"SCPM\\\",\\n    \\\"Dominated_Count\\\",\\n    \\\"Dominates_Count\\\",\\n    \\\"Classification\\\",\\n    \\\"Plant\\\",\\n]\";\n",
       "                var nbb_formatted_code = \"cols = [\\n    # \\\"Model\\\",\\n    # \\\"Model_bkp\\\",\\n    \\\"Model_bkp_2\\\",\\n    \\\"RMSE_mean\\\",\\n    \\\"RMSE_std\\\",\\n    \\\"MAE_mean\\\",\\n    \\\"MAE_std\\\",\\n    \\\"MAPE_mean\\\",\\n    \\\"MAPE_std\\\",\\n    \\\"R2_mean\\\",\\n    \\\"R2_std\\\",\\n    \\\"SCPM\\\",\\n    \\\"Dominated_Count\\\",\\n    \\\"Dominates_Count\\\",\\n    \\\"Classification\\\",\\n    \\\"Plant\\\",\\n]\";\n",
       "                var nbb_cells = Jupyter.notebook.get_cells();\n",
       "                for (var i = 0; i < nbb_cells.length; ++i) {\n",
       "                    if (nbb_cells[i].input_prompt_number == nbb_cell_id) {\n",
       "                        if (nbb_cells[i].get_text() == nbb_unformatted_code) {\n",
       "                             nbb_cells[i].set_text(nbb_formatted_code);\n",
       "                        }\n",
       "                        break;\n",
       "                    }\n",
       "                }\n",
       "            }, 500);\n",
       "            "
      ],
      "text/plain": [
       "<IPython.core.display.Javascript object>"
      ]
     },
     "metadata": {},
     "output_type": "display_data"
    }
   ],
   "source": [
    "cols = [\n",
    "    # \"Model\",\n",
    "    # \"Model_bkp\",\n",
    "    \"Model_bkp_2\",\n",
    "    \"RMSE_mean\",\n",
    "    \"RMSE_std\",\n",
    "    \"MAE_mean\",\n",
    "    \"MAE_std\",\n",
    "    \"MAPE_mean\",\n",
    "    \"MAPE_std\",\n",
    "    \"R2_mean\",\n",
    "    \"R2_std\",\n",
    "    \"SCPM\",\n",
    "    \"Dominated_Count\",\n",
    "    \"Dominates_Count\",\n",
    "    \"Classification\",\n",
    "    \"Plant\",\n",
    "]"
   ]
  },
  {
   "cell_type": "markdown",
   "id": "aa26c797",
   "metadata": {},
   "source": [
    "#### SCPM Analysis by Project"
   ]
  },
  {
   "cell_type": "code",
   "execution_count": 245,
   "id": "26c1cddb",
   "metadata": {},
   "outputs": [
    {
     "data": {
      "application/javascript": [
       "\n",
       "            setTimeout(function() {\n",
       "                var nbb_cell_id = 245;\n",
       "                var nbb_unformatted_code = \"df_sorted_scpm = df_sorted_topo.sort_values(by=\\\"SCPM\\\").copy()\";\n",
       "                var nbb_formatted_code = \"df_sorted_scpm = df_sorted_topo.sort_values(by=\\\"SCPM\\\").copy()\";\n",
       "                var nbb_cells = Jupyter.notebook.get_cells();\n",
       "                for (var i = 0; i < nbb_cells.length; ++i) {\n",
       "                    if (nbb_cells[i].input_prompt_number == nbb_cell_id) {\n",
       "                        if (nbb_cells[i].get_text() == nbb_unformatted_code) {\n",
       "                             nbb_cells[i].set_text(nbb_formatted_code);\n",
       "                        }\n",
       "                        break;\n",
       "                    }\n",
       "                }\n",
       "            }, 500);\n",
       "            "
      ],
      "text/plain": [
       "<IPython.core.display.Javascript object>"
      ]
     },
     "metadata": {},
     "output_type": "display_data"
    }
   ],
   "source": [
    "df_sorted_scpm = df_sorted_topo.sort_values(by=\"SCPM\").copy()"
   ]
  },
  {
   "cell_type": "code",
   "execution_count": 246,
   "id": "73703732",
   "metadata": {
    "scrolled": false
   },
   "outputs": [
    {
     "data": {
      "application/javascript": [
       "\n",
       "            setTimeout(function() {\n",
       "                var nbb_cell_id = 246;\n",
       "                var nbb_unformatted_code = \"df_sorted_scpm[\\\"topo_scmp_order_eq\\\"] = df_sorted_topo.index == df_sorted_scpm.index\";\n",
       "                var nbb_formatted_code = \"df_sorted_scpm[\\\"topo_scmp_order_eq\\\"] = df_sorted_topo.index == df_sorted_scpm.index\";\n",
       "                var nbb_cells = Jupyter.notebook.get_cells();\n",
       "                for (var i = 0; i < nbb_cells.length; ++i) {\n",
       "                    if (nbb_cells[i].input_prompt_number == nbb_cell_id) {\n",
       "                        if (nbb_cells[i].get_text() == nbb_unformatted_code) {\n",
       "                             nbb_cells[i].set_text(nbb_formatted_code);\n",
       "                        }\n",
       "                        break;\n",
       "                    }\n",
       "                }\n",
       "            }, 500);\n",
       "            "
      ],
      "text/plain": [
       "<IPython.core.display.Javascript object>"
      ]
     },
     "metadata": {},
     "output_type": "display_data"
    }
   ],
   "source": [
    "df_sorted_scpm[\"topo_scmp_order_eq\"] = df_sorted_topo.index == df_sorted_scpm.index"
   ]
  },
  {
   "cell_type": "code",
   "execution_count": 247,
   "id": "ce06c906",
   "metadata": {
    "scrolled": false
   },
   "outputs": [
    {
     "data": {
      "text/html": [
       "<div>\n",
       "<style scoped>\n",
       "    .dataframe tbody tr th:only-of-type {\n",
       "        vertical-align: middle;\n",
       "    }\n",
       "\n",
       "    .dataframe tbody tr th {\n",
       "        vertical-align: top;\n",
       "    }\n",
       "\n",
       "    .dataframe thead th {\n",
       "        text-align: right;\n",
       "    }\n",
       "</style>\n",
       "<table border=\"1\" class=\"dataframe\">\n",
       "  <thead>\n",
       "    <tr style=\"text-align: right;\">\n",
       "      <th></th>\n",
       "      <th>Model_bkp_2</th>\n",
       "      <th>RMSE_mean</th>\n",
       "      <th>RMSE_std</th>\n",
       "      <th>MAE_mean</th>\n",
       "      <th>MAE_std</th>\n",
       "      <th>MAPE_mean</th>\n",
       "      <th>MAPE_std</th>\n",
       "      <th>R2_mean</th>\n",
       "      <th>R2_std</th>\n",
       "      <th>SCPM</th>\n",
       "      <th>Dominated_Count</th>\n",
       "      <th>Dominates_Count</th>\n",
       "      <th>Classification</th>\n",
       "      <th>Plant</th>\n",
       "      <th>topo_scmp_order_eq</th>\n",
       "    </tr>\n",
       "  </thead>\n",
       "  <tbody>\n",
       "    <tr>\n",
       "      <th>15</th>\n",
       "      <td>Transformer_1.0</td>\n",
       "      <td>1.11</td>\n",
       "      <td>0.21</td>\n",
       "      <td>0.82</td>\n",
       "      <td>0.09</td>\n",
       "      <td>1.97</td>\n",
       "      <td>0.19</td>\n",
       "      <td>0.96</td>\n",
       "      <td>0.01</td>\n",
       "      <td>-5.27</td>\n",
       "      <td>0</td>\n",
       "      <td>19</td>\n",
       "      <td>dominant_model</td>\n",
       "      <td>c</td>\n",
       "      <td>True</td>\n",
       "    </tr>\n",
       "    <tr>\n",
       "      <th>5</th>\n",
       "      <td>Random Forest</td>\n",
       "      <td>1.16</td>\n",
       "      <td>0.34</td>\n",
       "      <td>0.86</td>\n",
       "      <td>0.22</td>\n",
       "      <td>2.09</td>\n",
       "      <td>0.55</td>\n",
       "      <td>0.96</td>\n",
       "      <td>0.02</td>\n",
       "      <td>-5.00</td>\n",
       "      <td>1</td>\n",
       "      <td>18</td>\n",
       "      <td>intermediate_model</td>\n",
       "      <td>c</td>\n",
       "      <td>True</td>\n",
       "    </tr>\n",
       "    <tr>\n",
       "      <th>16</th>\n",
       "      <td>Transformer_7.0</td>\n",
       "      <td>1.35</td>\n",
       "      <td>0.21</td>\n",
       "      <td>1.04</td>\n",
       "      <td>0.14</td>\n",
       "      <td>2.56</td>\n",
       "      <td>0.38</td>\n",
       "      <td>0.95</td>\n",
       "      <td>0.01</td>\n",
       "      <td>-4.06</td>\n",
       "      <td>2</td>\n",
       "      <td>16</td>\n",
       "      <td>intermediate_model</td>\n",
       "      <td>c</td>\n",
       "      <td>True</td>\n",
       "    </tr>\n",
       "    <tr>\n",
       "      <th>19</th>\n",
       "      <td>Linear Regression</td>\n",
       "      <td>1.40</td>\n",
       "      <td>0.21</td>\n",
       "      <td>1.05</td>\n",
       "      <td>0.14</td>\n",
       "      <td>2.55</td>\n",
       "      <td>0.35</td>\n",
       "      <td>0.94</td>\n",
       "      <td>0.02</td>\n",
       "      <td>-3.97</td>\n",
       "      <td>2</td>\n",
       "      <td>16</td>\n",
       "      <td>intermediate_model</td>\n",
       "      <td>c</td>\n",
       "      <td>True</td>\n",
       "    </tr>\n",
       "    <tr>\n",
       "      <th>12</th>\n",
       "      <td>BidirectionalGRU_1.0</td>\n",
       "      <td>1.55</td>\n",
       "      <td>0.48</td>\n",
       "      <td>1.16</td>\n",
       "      <td>0.29</td>\n",
       "      <td>2.72</td>\n",
       "      <td>0.67</td>\n",
       "      <td>0.93</td>\n",
       "      <td>0.04</td>\n",
       "      <td>-3.34</td>\n",
       "      <td>4</td>\n",
       "      <td>12</td>\n",
       "      <td>intermediate_model</td>\n",
       "      <td>c</td>\n",
       "      <td>False</td>\n",
       "    </tr>\n",
       "  </tbody>\n",
       "</table>\n",
       "</div>"
      ],
      "text/plain": [
       "             Model_bkp_2  RMSE_mean  RMSE_std  MAE_mean  MAE_std  MAPE_mean  \\\n",
       "15       Transformer_1.0       1.11      0.21      0.82     0.09       1.97   \n",
       "5          Random Forest       1.16      0.34      0.86     0.22       2.09   \n",
       "16       Transformer_7.0       1.35      0.21      1.04     0.14       2.56   \n",
       "19     Linear Regression       1.40      0.21      1.05     0.14       2.55   \n",
       "12  BidirectionalGRU_1.0       1.55      0.48      1.16     0.29       2.72   \n",
       "\n",
       "    MAPE_std  R2_mean  R2_std  SCPM  Dominated_Count  Dominates_Count  \\\n",
       "15      0.19     0.96    0.01 -5.27                0               19   \n",
       "5       0.55     0.96    0.02 -5.00                1               18   \n",
       "16      0.38     0.95    0.01 -4.06                2               16   \n",
       "19      0.35     0.94    0.02 -3.97                2               16   \n",
       "12      0.67     0.93    0.04 -3.34                4               12   \n",
       "\n",
       "        Classification Plant  topo_scmp_order_eq  \n",
       "15      dominant_model     c                True  \n",
       "5   intermediate_model     c                True  \n",
       "16  intermediate_model     c                True  \n",
       "19  intermediate_model     c                True  \n",
       "12  intermediate_model     c               False  "
      ]
     },
     "execution_count": 247,
     "metadata": {},
     "output_type": "execute_result"
    },
    {
     "data": {
      "application/javascript": [
       "\n",
       "            setTimeout(function() {\n",
       "                var nbb_cell_id = 247;\n",
       "                var nbb_unformatted_code = \"df_sorted_scpm[cols + [\\\"topo_scmp_order_eq\\\"]].round(2).head(5)\";\n",
       "                var nbb_formatted_code = \"df_sorted_scpm[cols + [\\\"topo_scmp_order_eq\\\"]].round(2).head(5)\";\n",
       "                var nbb_cells = Jupyter.notebook.get_cells();\n",
       "                for (var i = 0; i < nbb_cells.length; ++i) {\n",
       "                    if (nbb_cells[i].input_prompt_number == nbb_cell_id) {\n",
       "                        if (nbb_cells[i].get_text() == nbb_unformatted_code) {\n",
       "                             nbb_cells[i].set_text(nbb_formatted_code);\n",
       "                        }\n",
       "                        break;\n",
       "                    }\n",
       "                }\n",
       "            }, 500);\n",
       "            "
      ],
      "text/plain": [
       "<IPython.core.display.Javascript object>"
      ]
     },
     "metadata": {},
     "output_type": "display_data"
    }
   ],
   "source": [
    "df_sorted_scpm[cols + [\"topo_scmp_order_eq\"]].round(2).head(5)"
   ]
  },
  {
   "cell_type": "markdown",
   "id": "021dd40d",
   "metadata": {},
   "source": [
    "### Time Series Split"
   ]
  },
  {
   "cell_type": "code",
   "execution_count": 248,
   "id": "4f6ed789",
   "metadata": {},
   "outputs": [
    {
     "data": {
      "text/plain": [
       "array(['Blocking Time Series Split', 'Time Series Split'], dtype=object)"
      ]
     },
     "execution_count": 248,
     "metadata": {},
     "output_type": "execute_result"
    },
    {
     "data": {
      "application/javascript": [
       "\n",
       "            setTimeout(function() {\n",
       "                var nbb_cell_id = 248;\n",
       "                var nbb_unformatted_code = \"df_results_cm_p[\\\"Cross Validation\\\"].unique()\";\n",
       "                var nbb_formatted_code = \"df_results_cm_p[\\\"Cross Validation\\\"].unique()\";\n",
       "                var nbb_cells = Jupyter.notebook.get_cells();\n",
       "                for (var i = 0; i < nbb_cells.length; ++i) {\n",
       "                    if (nbb_cells[i].input_prompt_number == nbb_cell_id) {\n",
       "                        if (nbb_cells[i].get_text() == nbb_unformatted_code) {\n",
       "                             nbb_cells[i].set_text(nbb_formatted_code);\n",
       "                        }\n",
       "                        break;\n",
       "                    }\n",
       "                }\n",
       "            }, 500);\n",
       "            "
      ],
      "text/plain": [
       "<IPython.core.display.Javascript object>"
      ]
     },
     "metadata": {},
     "output_type": "display_data"
    }
   ],
   "source": [
    "df_results_cm_p[\"Cross Validation\"].unique()"
   ]
  },
  {
   "cell_type": "code",
   "execution_count": 249,
   "id": "28069a4c",
   "metadata": {},
   "outputs": [
    {
     "data": {
      "application/javascript": [
       "\n",
       "            setTimeout(function() {\n",
       "                var nbb_cell_id = 249;\n",
       "                var nbb_unformatted_code = \"df_results_cm_p_tss = (\\n    df_results_cm_p[df_results_cm_p[\\\"Cross Validation\\\"].eq(\\\"Time Series Split\\\")]\\n    .copy()\\n    .reset_index(drop=True)\\n)\";\n",
       "                var nbb_formatted_code = \"df_results_cm_p_tss = (\\n    df_results_cm_p[df_results_cm_p[\\\"Cross Validation\\\"].eq(\\\"Time Series Split\\\")]\\n    .copy()\\n    .reset_index(drop=True)\\n)\";\n",
       "                var nbb_cells = Jupyter.notebook.get_cells();\n",
       "                for (var i = 0; i < nbb_cells.length; ++i) {\n",
       "                    if (nbb_cells[i].input_prompt_number == nbb_cell_id) {\n",
       "                        if (nbb_cells[i].get_text() == nbb_unformatted_code) {\n",
       "                             nbb_cells[i].set_text(nbb_formatted_code);\n",
       "                        }\n",
       "                        break;\n",
       "                    }\n",
       "                }\n",
       "            }, 500);\n",
       "            "
      ],
      "text/plain": [
       "<IPython.core.display.Javascript object>"
      ]
     },
     "metadata": {},
     "output_type": "display_data"
    }
   ],
   "source": [
    "df_results_cm_p_tss = (\n",
    "    df_results_cm_p[df_results_cm_p[\"Cross Validation\"].eq(\"Time Series Split\")]\n",
    "    .copy()\n",
    "    .reset_index(drop=True)\n",
    ")"
   ]
  },
  {
   "cell_type": "code",
   "execution_count": 250,
   "id": "270e9bc2",
   "metadata": {},
   "outputs": [
    {
     "data": {
      "text/plain": [
       "array(['Time Series Split'], dtype=object)"
      ]
     },
     "execution_count": 250,
     "metadata": {},
     "output_type": "execute_result"
    },
    {
     "data": {
      "application/javascript": [
       "\n",
       "            setTimeout(function() {\n",
       "                var nbb_cell_id = 250;\n",
       "                var nbb_unformatted_code = \"df_results_cm_p_tss[\\\"Cross Validation\\\"].unique()\";\n",
       "                var nbb_formatted_code = \"df_results_cm_p_tss[\\\"Cross Validation\\\"].unique()\";\n",
       "                var nbb_cells = Jupyter.notebook.get_cells();\n",
       "                for (var i = 0; i < nbb_cells.length; ++i) {\n",
       "                    if (nbb_cells[i].input_prompt_number == nbb_cell_id) {\n",
       "                        if (nbb_cells[i].get_text() == nbb_unformatted_code) {\n",
       "                             nbb_cells[i].set_text(nbb_formatted_code);\n",
       "                        }\n",
       "                        break;\n",
       "                    }\n",
       "                }\n",
       "            }, 500);\n",
       "            "
      ],
      "text/plain": [
       "<IPython.core.display.Javascript object>"
      ]
     },
     "metadata": {},
     "output_type": "display_data"
    }
   ],
   "source": [
    "df_results_cm_p_tss[\"Cross Validation\"].unique()"
   ]
  },
  {
   "cell_type": "code",
   "execution_count": 251,
   "id": "927023b8",
   "metadata": {},
   "outputs": [
    {
     "data": {
      "text/plain": [
       "(20, 17)"
      ]
     },
     "execution_count": 251,
     "metadata": {},
     "output_type": "execute_result"
    },
    {
     "data": {
      "application/javascript": [
       "\n",
       "            setTimeout(function() {\n",
       "                var nbb_cell_id = 251;\n",
       "                var nbb_unformatted_code = \"df_results_cm_p_tss.shape\";\n",
       "                var nbb_formatted_code = \"df_results_cm_p_tss.shape\";\n",
       "                var nbb_cells = Jupyter.notebook.get_cells();\n",
       "                for (var i = 0; i < nbb_cells.length; ++i) {\n",
       "                    if (nbb_cells[i].input_prompt_number == nbb_cell_id) {\n",
       "                        if (nbb_cells[i].get_text() == nbb_unformatted_code) {\n",
       "                             nbb_cells[i].set_text(nbb_formatted_code);\n",
       "                        }\n",
       "                        break;\n",
       "                    }\n",
       "                }\n",
       "            }, 500);\n",
       "            "
      ],
      "text/plain": [
       "<IPython.core.display.Javascript object>"
      ]
     },
     "metadata": {},
     "output_type": "display_data"
    }
   ],
   "source": [
    "df_results_cm_p_tss.shape"
   ]
  },
  {
   "cell_type": "markdown",
   "id": "2dc07f85",
   "metadata": {},
   "source": [
    "###### SCPM computation"
   ]
  },
  {
   "cell_type": "code",
   "execution_count": 252,
   "id": "03eee4fe",
   "metadata": {},
   "outputs": [
    {
     "data": {
      "application/javascript": [
       "\n",
       "            setTimeout(function() {\n",
       "                var nbb_cell_id = 252;\n",
       "                var nbb_unformatted_code = \"df_results_cm_p_tss = compute_scpm(df_results_cm_p_tss)\";\n",
       "                var nbb_formatted_code = \"df_results_cm_p_tss = compute_scpm(df_results_cm_p_tss)\";\n",
       "                var nbb_cells = Jupyter.notebook.get_cells();\n",
       "                for (var i = 0; i < nbb_cells.length; ++i) {\n",
       "                    if (nbb_cells[i].input_prompt_number == nbb_cell_id) {\n",
       "                        if (nbb_cells[i].get_text() == nbb_unformatted_code) {\n",
       "                             nbb_cells[i].set_text(nbb_formatted_code);\n",
       "                        }\n",
       "                        break;\n",
       "                    }\n",
       "                }\n",
       "            }, 500);\n",
       "            "
      ],
      "text/plain": [
       "<IPython.core.display.Javascript object>"
      ]
     },
     "metadata": {},
     "output_type": "display_data"
    }
   ],
   "source": [
    "df_results_cm_p_tss = compute_scpm(df_results_cm_p_tss)"
   ]
  },
  {
   "cell_type": "markdown",
   "id": "7d38e3a1",
   "metadata": {},
   "source": [
    "##### Dominance Analysis"
   ]
  },
  {
   "cell_type": "code",
   "execution_count": 253,
   "id": "bbe3a210",
   "metadata": {},
   "outputs": [
    {
     "data": {
      "application/javascript": [
       "\n",
       "            setTimeout(function() {\n",
       "                var nbb_cell_id = 253;\n",
       "                var nbb_unformatted_code = \"# Per project\\ndominance_dict = make_dominance_analysis(df_results_cm_p_tss)\\ndominance_matrix_cm_p_tss = dominance_dict[\\\"dominance_matrix\\\"]\\ndominance_graph_cm_p_tss = dominance_dict[\\\"dominance_graph\\\"]\\ndf_sorted_count = dominance_dict[\\\"df_sorted_count\\\"]\\ndf_sorted_topo = dominance_dict[\\\"df_sorted_topo\\\"]\";\n",
       "                var nbb_formatted_code = \"# Per project\\ndominance_dict = make_dominance_analysis(df_results_cm_p_tss)\\ndominance_matrix_cm_p_tss = dominance_dict[\\\"dominance_matrix\\\"]\\ndominance_graph_cm_p_tss = dominance_dict[\\\"dominance_graph\\\"]\\ndf_sorted_count = dominance_dict[\\\"df_sorted_count\\\"]\\ndf_sorted_topo = dominance_dict[\\\"df_sorted_topo\\\"]\";\n",
       "                var nbb_cells = Jupyter.notebook.get_cells();\n",
       "                for (var i = 0; i < nbb_cells.length; ++i) {\n",
       "                    if (nbb_cells[i].input_prompt_number == nbb_cell_id) {\n",
       "                        if (nbb_cells[i].get_text() == nbb_unformatted_code) {\n",
       "                             nbb_cells[i].set_text(nbb_formatted_code);\n",
       "                        }\n",
       "                        break;\n",
       "                    }\n",
       "                }\n",
       "            }, 500);\n",
       "            "
      ],
      "text/plain": [
       "<IPython.core.display.Javascript object>"
      ]
     },
     "metadata": {},
     "output_type": "display_data"
    }
   ],
   "source": [
    "# Per project\n",
    "dominance_dict = make_dominance_analysis(df_results_cm_p_tss)\n",
    "dominance_matrix_cm_p_tss = dominance_dict[\"dominance_matrix\"]\n",
    "dominance_graph_cm_p_tss = dominance_dict[\"dominance_graph\"]\n",
    "df_sorted_count = dominance_dict[\"df_sorted_count\"]\n",
    "df_sorted_topo = dominance_dict[\"df_sorted_topo\"]"
   ]
  },
  {
   "cell_type": "code",
   "execution_count": 254,
   "id": "cfe7cb0d",
   "metadata": {},
   "outputs": [
    {
     "data": {
      "text/plain": [
       "((20, 20), 20)"
      ]
     },
     "execution_count": 254,
     "metadata": {},
     "output_type": "execute_result"
    },
    {
     "data": {
      "application/javascript": [
       "\n",
       "            setTimeout(function() {\n",
       "                var nbb_cell_id = 254;\n",
       "                var nbb_unformatted_code = \"dominance_matrix_cm_p_tss.shape, len(dominance_graph_cm_p_tss)\";\n",
       "                var nbb_formatted_code = \"dominance_matrix_cm_p_tss.shape, len(dominance_graph_cm_p_tss)\";\n",
       "                var nbb_cells = Jupyter.notebook.get_cells();\n",
       "                for (var i = 0; i < nbb_cells.length; ++i) {\n",
       "                    if (nbb_cells[i].input_prompt_number == nbb_cell_id) {\n",
       "                        if (nbb_cells[i].get_text() == nbb_unformatted_code) {\n",
       "                             nbb_cells[i].set_text(nbb_formatted_code);\n",
       "                        }\n",
       "                        break;\n",
       "                    }\n",
       "                }\n",
       "            }, 500);\n",
       "            "
      ],
      "text/plain": [
       "<IPython.core.display.Javascript object>"
      ]
     },
     "metadata": {},
     "output_type": "display_data"
    }
   ],
   "source": [
    "dominance_matrix_cm_p_tss.shape, len(dominance_graph_cm_p_tss)"
   ]
  },
  {
   "cell_type": "code",
   "execution_count": 255,
   "id": "d209456d",
   "metadata": {},
   "outputs": [
    {
     "data": {
      "text/plain": [
       "Classification\n",
       "intermediate_model    15\n",
       "non_dominant_model     3\n",
       "dominant_model         2\n",
       "Name: count, dtype: int64"
      ]
     },
     "execution_count": 255,
     "metadata": {},
     "output_type": "execute_result"
    },
    {
     "data": {
      "application/javascript": [
       "\n",
       "            setTimeout(function() {\n",
       "                var nbb_cell_id = 255;\n",
       "                var nbb_unformatted_code = \"df_sorted_topo[\\\"Classification\\\"].value_counts()\";\n",
       "                var nbb_formatted_code = \"df_sorted_topo[\\\"Classification\\\"].value_counts()\";\n",
       "                var nbb_cells = Jupyter.notebook.get_cells();\n",
       "                for (var i = 0; i < nbb_cells.length; ++i) {\n",
       "                    if (nbb_cells[i].input_prompt_number == nbb_cell_id) {\n",
       "                        if (nbb_cells[i].get_text() == nbb_unformatted_code) {\n",
       "                             nbb_cells[i].set_text(nbb_formatted_code);\n",
       "                        }\n",
       "                        break;\n",
       "                    }\n",
       "                }\n",
       "            }, 500);\n",
       "            "
      ],
      "text/plain": [
       "<IPython.core.display.Javascript object>"
      ]
     },
     "metadata": {},
     "output_type": "display_data"
    }
   ],
   "source": [
    "df_sorted_topo[\"Classification\"].value_counts()"
   ]
  },
  {
   "cell_type": "code",
   "execution_count": 256,
   "id": "2ca6e822",
   "metadata": {
    "scrolled": false
   },
   "outputs": [
    {
     "data": {
      "application/javascript": [
       "\n",
       "            setTimeout(function() {\n",
       "                var nbb_cell_id = 256;\n",
       "                var nbb_unformatted_code = \"df_sorted_topo.to_csv(\\n    \\\"../../../../reports/results/local_models/ecics/203_c_dominance_analysis_cm_p_tss.csv\\\",\\n    index=False,\\n)\";\n",
       "                var nbb_formatted_code = \"df_sorted_topo.to_csv(\\n    \\\"../../../../reports/results/local_models/ecics/203_c_dominance_analysis_cm_p_tss.csv\\\",\\n    index=False,\\n)\";\n",
       "                var nbb_cells = Jupyter.notebook.get_cells();\n",
       "                for (var i = 0; i < nbb_cells.length; ++i) {\n",
       "                    if (nbb_cells[i].input_prompt_number == nbb_cell_id) {\n",
       "                        if (nbb_cells[i].get_text() == nbb_unformatted_code) {\n",
       "                             nbb_cells[i].set_text(nbb_formatted_code);\n",
       "                        }\n",
       "                        break;\n",
       "                    }\n",
       "                }\n",
       "            }, 500);\n",
       "            "
      ],
      "text/plain": [
       "<IPython.core.display.Javascript object>"
      ]
     },
     "metadata": {},
     "output_type": "display_data"
    }
   ],
   "source": [
    "df_sorted_topo.to_csv(\n",
    "    \"../../../../reports/results/local_models/ecics/203_c_dominance_analysis_cm_p_tss.csv\",\n",
    "    index=False,\n",
    ")"
   ]
  },
  {
   "cell_type": "code",
   "execution_count": 257,
   "id": "e72bbf52",
   "metadata": {},
   "outputs": [
    {
     "data": {
      "text/html": [
       "<div>\n",
       "<style scoped>\n",
       "    .dataframe tbody tr th:only-of-type {\n",
       "        vertical-align: middle;\n",
       "    }\n",
       "\n",
       "    .dataframe tbody tr th {\n",
       "        vertical-align: top;\n",
       "    }\n",
       "\n",
       "    .dataframe thead th {\n",
       "        text-align: right;\n",
       "    }\n",
       "</style>\n",
       "<table border=\"1\" class=\"dataframe\">\n",
       "  <thead>\n",
       "    <tr style=\"text-align: right;\">\n",
       "      <th></th>\n",
       "      <th>Company</th>\n",
       "      <th>Plant</th>\n",
       "      <th>Cross Validation</th>\n",
       "      <th>Features</th>\n",
       "      <th>Features_bkp</th>\n",
       "      <th>Model</th>\n",
       "      <th>Model_bkp</th>\n",
       "      <th>Model_bkp_2</th>\n",
       "      <th>Timesteps</th>\n",
       "      <th>RMSE_mean</th>\n",
       "      <th>...</th>\n",
       "      <th>MAPE_mean</th>\n",
       "      <th>R2_mean</th>\n",
       "      <th>RMSE_std</th>\n",
       "      <th>MAE_std</th>\n",
       "      <th>MAPE_std</th>\n",
       "      <th>R2_std</th>\n",
       "      <th>SCPM</th>\n",
       "      <th>Dominated_Count</th>\n",
       "      <th>Classification</th>\n",
       "      <th>Dominates_Count</th>\n",
       "    </tr>\n",
       "  </thead>\n",
       "  <tbody>\n",
       "    <tr>\n",
       "      <th>5</th>\n",
       "      <td>203</td>\n",
       "      <td>c</td>\n",
       "      <td>Time Series Split</td>\n",
       "      <td>Chemical + Mineralogical + Physical - Early CS</td>\n",
       "      <td>Chemical + Properties CS Less</td>\n",
       "      <td>Trees</td>\n",
       "      <td>Random Forest</td>\n",
       "      <td>Random Forest</td>\n",
       "      <td>NaN</td>\n",
       "      <td>1.930476</td>\n",
       "      <td>...</td>\n",
       "      <td>3.111834</td>\n",
       "      <td>0.869324</td>\n",
       "      <td>1.050019</td>\n",
       "      <td>0.645549</td>\n",
       "      <td>1.302312</td>\n",
       "      <td>0.129117</td>\n",
       "      <td>-5.402798</td>\n",
       "      <td>0</td>\n",
       "      <td>dominant_model</td>\n",
       "      <td>18</td>\n",
       "    </tr>\n",
       "    <tr>\n",
       "      <th>16</th>\n",
       "      <td>203</td>\n",
       "      <td>c</td>\n",
       "      <td>Time Series Split</td>\n",
       "      <td>Chemical + Mineralogical + Physical - Early CS</td>\n",
       "      <td>Chemical + Properties CS Less</td>\n",
       "      <td>Neural Networks</td>\n",
       "      <td>Transformer</td>\n",
       "      <td>Transformer_7.0</td>\n",
       "      <td>7.0</td>\n",
       "      <td>1.968269</td>\n",
       "      <td>...</td>\n",
       "      <td>3.547691</td>\n",
       "      <td>0.879904</td>\n",
       "      <td>0.476715</td>\n",
       "      <td>0.338001</td>\n",
       "      <td>0.726416</td>\n",
       "      <td>0.059485</td>\n",
       "      <td>-4.530218</td>\n",
       "      <td>0</td>\n",
       "      <td>dominant_model</td>\n",
       "      <td>18</td>\n",
       "    </tr>\n",
       "    <tr>\n",
       "      <th>11</th>\n",
       "      <td>203</td>\n",
       "      <td>c</td>\n",
       "      <td>Time Series Split</td>\n",
       "      <td>Chemical + Mineralogical + Physical - Early CS</td>\n",
       "      <td>Chemical + Properties CS Less</td>\n",
       "      <td>Neural Networks</td>\n",
       "      <td>LSTM</td>\n",
       "      <td>LSTM_14.0</td>\n",
       "      <td>14.0</td>\n",
       "      <td>2.385303</td>\n",
       "      <td>...</td>\n",
       "      <td>3.581665</td>\n",
       "      <td>0.832393</td>\n",
       "      <td>0.349957</td>\n",
       "      <td>0.290923</td>\n",
       "      <td>0.634890</td>\n",
       "      <td>0.039929</td>\n",
       "      <td>-3.928519</td>\n",
       "      <td>2</td>\n",
       "      <td>intermediate_model</td>\n",
       "      <td>16</td>\n",
       "    </tr>\n",
       "    <tr>\n",
       "      <th>15</th>\n",
       "      <td>203</td>\n",
       "      <td>c</td>\n",
       "      <td>Time Series Split</td>\n",
       "      <td>Chemical + Mineralogical + Physical - Early CS</td>\n",
       "      <td>Chemical + Properties CS Less</td>\n",
       "      <td>Neural Networks</td>\n",
       "      <td>Transformer</td>\n",
       "      <td>Transformer_1.0</td>\n",
       "      <td>1.0</td>\n",
       "      <td>2.168878</td>\n",
       "      <td>...</td>\n",
       "      <td>3.832677</td>\n",
       "      <td>0.854362</td>\n",
       "      <td>0.666195</td>\n",
       "      <td>0.503445</td>\n",
       "      <td>1.119284</td>\n",
       "      <td>0.077029</td>\n",
       "      <td>-3.600525</td>\n",
       "      <td>2</td>\n",
       "      <td>intermediate_model</td>\n",
       "      <td>15</td>\n",
       "    </tr>\n",
       "    <tr>\n",
       "      <th>18</th>\n",
       "      <td>203</td>\n",
       "      <td>c</td>\n",
       "      <td>Time Series Split</td>\n",
       "      <td>Chemical + Mineralogical + Physical - Early CS</td>\n",
       "      <td>Chemical + Properties CS Less</td>\n",
       "      <td>Trees</td>\n",
       "      <td>Decision Tree</td>\n",
       "      <td>Decision Tree</td>\n",
       "      <td>NaN</td>\n",
       "      <td>2.416298</td>\n",
       "      <td>...</td>\n",
       "      <td>3.705620</td>\n",
       "      <td>0.791749</td>\n",
       "      <td>1.308648</td>\n",
       "      <td>0.661583</td>\n",
       "      <td>1.349594</td>\n",
       "      <td>0.179707</td>\n",
       "      <td>-3.486942</td>\n",
       "      <td>3</td>\n",
       "      <td>intermediate_model</td>\n",
       "      <td>13</td>\n",
       "    </tr>\n",
       "  </tbody>\n",
       "</table>\n",
       "<p>5 rows × 21 columns</p>\n",
       "</div>"
      ],
      "text/plain": [
       "    Company Plant   Cross Validation  \\\n",
       "5       203     c  Time Series Split   \n",
       "16      203     c  Time Series Split   \n",
       "11      203     c  Time Series Split   \n",
       "15      203     c  Time Series Split   \n",
       "18      203     c  Time Series Split   \n",
       "\n",
       "                                          Features  \\\n",
       "5   Chemical + Mineralogical + Physical - Early CS   \n",
       "16  Chemical + Mineralogical + Physical - Early CS   \n",
       "11  Chemical + Mineralogical + Physical - Early CS   \n",
       "15  Chemical + Mineralogical + Physical - Early CS   \n",
       "18  Chemical + Mineralogical + Physical - Early CS   \n",
       "\n",
       "                     Features_bkp            Model      Model_bkp  \\\n",
       "5   Chemical + Properties CS Less            Trees  Random Forest   \n",
       "16  Chemical + Properties CS Less  Neural Networks    Transformer   \n",
       "11  Chemical + Properties CS Less  Neural Networks           LSTM   \n",
       "15  Chemical + Properties CS Less  Neural Networks    Transformer   \n",
       "18  Chemical + Properties CS Less            Trees  Decision Tree   \n",
       "\n",
       "        Model_bkp_2  Timesteps  RMSE_mean  ...  MAPE_mean   R2_mean  RMSE_std  \\\n",
       "5     Random Forest        NaN   1.930476  ...   3.111834  0.869324  1.050019   \n",
       "16  Transformer_7.0        7.0   1.968269  ...   3.547691  0.879904  0.476715   \n",
       "11        LSTM_14.0       14.0   2.385303  ...   3.581665  0.832393  0.349957   \n",
       "15  Transformer_1.0        1.0   2.168878  ...   3.832677  0.854362  0.666195   \n",
       "18    Decision Tree        NaN   2.416298  ...   3.705620  0.791749  1.308648   \n",
       "\n",
       "     MAE_std  MAPE_std    R2_std      SCPM  Dominated_Count  \\\n",
       "5   0.645549  1.302312  0.129117 -5.402798                0   \n",
       "16  0.338001  0.726416  0.059485 -4.530218                0   \n",
       "11  0.290923  0.634890  0.039929 -3.928519                2   \n",
       "15  0.503445  1.119284  0.077029 -3.600525                2   \n",
       "18  0.661583  1.349594  0.179707 -3.486942                3   \n",
       "\n",
       "        Classification Dominates_Count  \n",
       "5       dominant_model              18  \n",
       "16      dominant_model              18  \n",
       "11  intermediate_model              16  \n",
       "15  intermediate_model              15  \n",
       "18  intermediate_model              13  \n",
       "\n",
       "[5 rows x 21 columns]"
      ]
     },
     "execution_count": 257,
     "metadata": {},
     "output_type": "execute_result"
    },
    {
     "data": {
      "application/javascript": [
       "\n",
       "            setTimeout(function() {\n",
       "                var nbb_cell_id = 257;\n",
       "                var nbb_unformatted_code = \"df_sorted_topo.head(5)\";\n",
       "                var nbb_formatted_code = \"df_sorted_topo.head(5)\";\n",
       "                var nbb_cells = Jupyter.notebook.get_cells();\n",
       "                for (var i = 0; i < nbb_cells.length; ++i) {\n",
       "                    if (nbb_cells[i].input_prompt_number == nbb_cell_id) {\n",
       "                        if (nbb_cells[i].get_text() == nbb_unformatted_code) {\n",
       "                             nbb_cells[i].set_text(nbb_formatted_code);\n",
       "                        }\n",
       "                        break;\n",
       "                    }\n",
       "                }\n",
       "            }, 500);\n",
       "            "
      ],
      "text/plain": [
       "<IPython.core.display.Javascript object>"
      ]
     },
     "metadata": {},
     "output_type": "display_data"
    }
   ],
   "source": [
    "df_sorted_topo.head(5)"
   ]
  },
  {
   "cell_type": "code",
   "execution_count": 258,
   "id": "2cf44710",
   "metadata": {
    "scrolled": false
   },
   "outputs": [
    {
     "data": {
      "application/javascript": [
       "\n",
       "            setTimeout(function() {\n",
       "                var nbb_cell_id = 258;\n",
       "                var nbb_unformatted_code = \"df_sorted_topo_cols = df_sorted_topo[\\n    [\\n        # \\\"Model\\\",\\n        # \\\"Model_bkp\\\",\\n        \\\"Model_bkp_2\\\",\\n        \\\"RMSE_mean\\\",\\n        \\\"RMSE_std\\\",\\n        \\\"MAE_mean\\\",\\n        \\\"MAE_std\\\",\\n        \\\"MAPE_mean\\\",\\n        \\\"MAPE_std\\\",\\n        \\\"R2_mean\\\",\\n        \\\"R2_std\\\",\\n        \\\"SCPM\\\",\\n        \\\"Dominated_Count\\\",\\n        \\\"Classification\\\",\\n        \\\"Dominates_Count\\\",\\n        \\\"Plant\\\",\\n    ]\\n].round(2)\";\n",
       "                var nbb_formatted_code = \"df_sorted_topo_cols = df_sorted_topo[\\n    [\\n        # \\\"Model\\\",\\n        # \\\"Model_bkp\\\",\\n        \\\"Model_bkp_2\\\",\\n        \\\"RMSE_mean\\\",\\n        \\\"RMSE_std\\\",\\n        \\\"MAE_mean\\\",\\n        \\\"MAE_std\\\",\\n        \\\"MAPE_mean\\\",\\n        \\\"MAPE_std\\\",\\n        \\\"R2_mean\\\",\\n        \\\"R2_std\\\",\\n        \\\"SCPM\\\",\\n        \\\"Dominated_Count\\\",\\n        \\\"Classification\\\",\\n        \\\"Dominates_Count\\\",\\n        \\\"Plant\\\",\\n    ]\\n].round(2)\";\n",
       "                var nbb_cells = Jupyter.notebook.get_cells();\n",
       "                for (var i = 0; i < nbb_cells.length; ++i) {\n",
       "                    if (nbb_cells[i].input_prompt_number == nbb_cell_id) {\n",
       "                        if (nbb_cells[i].get_text() == nbb_unformatted_code) {\n",
       "                             nbb_cells[i].set_text(nbb_formatted_code);\n",
       "                        }\n",
       "                        break;\n",
       "                    }\n",
       "                }\n",
       "            }, 500);\n",
       "            "
      ],
      "text/plain": [
       "<IPython.core.display.Javascript object>"
      ]
     },
     "metadata": {},
     "output_type": "display_data"
    }
   ],
   "source": [
    "df_sorted_topo_cols = df_sorted_topo[\n",
    "    [\n",
    "        # \"Model\",\n",
    "        # \"Model_bkp\",\n",
    "        \"Model_bkp_2\",\n",
    "        \"RMSE_mean\",\n",
    "        \"RMSE_std\",\n",
    "        \"MAE_mean\",\n",
    "        \"MAE_std\",\n",
    "        \"MAPE_mean\",\n",
    "        \"MAPE_std\",\n",
    "        \"R2_mean\",\n",
    "        \"R2_std\",\n",
    "        \"SCPM\",\n",
    "        \"Dominated_Count\",\n",
    "        \"Classification\",\n",
    "        \"Dominates_Count\",\n",
    "        \"Plant\",\n",
    "    ]\n",
    "].round(2)"
   ]
  },
  {
   "cell_type": "markdown",
   "id": "5b24340a",
   "metadata": {},
   "source": [
    "###### Dominant Models"
   ]
  },
  {
   "cell_type": "code",
   "execution_count": 259,
   "id": "6a484d60",
   "metadata": {},
   "outputs": [
    {
     "data": {
      "text/html": [
       "<div>\n",
       "<style scoped>\n",
       "    .dataframe tbody tr th:only-of-type {\n",
       "        vertical-align: middle;\n",
       "    }\n",
       "\n",
       "    .dataframe tbody tr th {\n",
       "        vertical-align: top;\n",
       "    }\n",
       "\n",
       "    .dataframe thead th {\n",
       "        text-align: right;\n",
       "    }\n",
       "</style>\n",
       "<table border=\"1\" class=\"dataframe\">\n",
       "  <thead>\n",
       "    <tr style=\"text-align: right;\">\n",
       "      <th></th>\n",
       "      <th>Model_bkp_2</th>\n",
       "      <th>RMSE_mean</th>\n",
       "      <th>RMSE_std</th>\n",
       "      <th>MAE_mean</th>\n",
       "      <th>MAE_std</th>\n",
       "      <th>MAPE_mean</th>\n",
       "      <th>MAPE_std</th>\n",
       "      <th>R2_mean</th>\n",
       "      <th>R2_std</th>\n",
       "      <th>SCPM</th>\n",
       "      <th>Dominated_Count</th>\n",
       "      <th>Classification</th>\n",
       "      <th>Dominates_Count</th>\n",
       "      <th>Plant</th>\n",
       "    </tr>\n",
       "  </thead>\n",
       "  <tbody>\n",
       "    <tr>\n",
       "      <th>5</th>\n",
       "      <td>Random Forest</td>\n",
       "      <td>1.93</td>\n",
       "      <td>1.05</td>\n",
       "      <td>1.37</td>\n",
       "      <td>0.65</td>\n",
       "      <td>3.11</td>\n",
       "      <td>1.30</td>\n",
       "      <td>0.87</td>\n",
       "      <td>0.13</td>\n",
       "      <td>-5.40</td>\n",
       "      <td>0</td>\n",
       "      <td>dominant_model</td>\n",
       "      <td>18</td>\n",
       "      <td>c</td>\n",
       "    </tr>\n",
       "    <tr>\n",
       "      <th>16</th>\n",
       "      <td>Transformer_7.0</td>\n",
       "      <td>1.97</td>\n",
       "      <td>0.48</td>\n",
       "      <td>1.49</td>\n",
       "      <td>0.34</td>\n",
       "      <td>3.55</td>\n",
       "      <td>0.73</td>\n",
       "      <td>0.88</td>\n",
       "      <td>0.06</td>\n",
       "      <td>-4.53</td>\n",
       "      <td>0</td>\n",
       "      <td>dominant_model</td>\n",
       "      <td>18</td>\n",
       "      <td>c</td>\n",
       "    </tr>\n",
       "    <tr>\n",
       "      <th>11</th>\n",
       "      <td>LSTM_14.0</td>\n",
       "      <td>2.39</td>\n",
       "      <td>0.35</td>\n",
       "      <td>1.55</td>\n",
       "      <td>0.29</td>\n",
       "      <td>3.58</td>\n",
       "      <td>0.63</td>\n",
       "      <td>0.83</td>\n",
       "      <td>0.04</td>\n",
       "      <td>-3.93</td>\n",
       "      <td>2</td>\n",
       "      <td>intermediate_model</td>\n",
       "      <td>16</td>\n",
       "      <td>c</td>\n",
       "    </tr>\n",
       "    <tr>\n",
       "      <th>15</th>\n",
       "      <td>Transformer_1.0</td>\n",
       "      <td>2.17</td>\n",
       "      <td>0.67</td>\n",
       "      <td>1.64</td>\n",
       "      <td>0.50</td>\n",
       "      <td>3.83</td>\n",
       "      <td>1.12</td>\n",
       "      <td>0.85</td>\n",
       "      <td>0.08</td>\n",
       "      <td>-3.60</td>\n",
       "      <td>2</td>\n",
       "      <td>intermediate_model</td>\n",
       "      <td>15</td>\n",
       "      <td>c</td>\n",
       "    </tr>\n",
       "    <tr>\n",
       "      <th>18</th>\n",
       "      <td>Decision Tree</td>\n",
       "      <td>2.42</td>\n",
       "      <td>1.31</td>\n",
       "      <td>1.63</td>\n",
       "      <td>0.66</td>\n",
       "      <td>3.71</td>\n",
       "      <td>1.35</td>\n",
       "      <td>0.79</td>\n",
       "      <td>0.18</td>\n",
       "      <td>-3.49</td>\n",
       "      <td>3</td>\n",
       "      <td>intermediate_model</td>\n",
       "      <td>13</td>\n",
       "      <td>c</td>\n",
       "    </tr>\n",
       "  </tbody>\n",
       "</table>\n",
       "</div>"
      ],
      "text/plain": [
       "        Model_bkp_2  RMSE_mean  RMSE_std  MAE_mean  MAE_std  MAPE_mean  \\\n",
       "5     Random Forest       1.93      1.05      1.37     0.65       3.11   \n",
       "16  Transformer_7.0       1.97      0.48      1.49     0.34       3.55   \n",
       "11        LSTM_14.0       2.39      0.35      1.55     0.29       3.58   \n",
       "15  Transformer_1.0       2.17      0.67      1.64     0.50       3.83   \n",
       "18    Decision Tree       2.42      1.31      1.63     0.66       3.71   \n",
       "\n",
       "    MAPE_std  R2_mean  R2_std  SCPM  Dominated_Count      Classification  \\\n",
       "5       1.30     0.87    0.13 -5.40                0      dominant_model   \n",
       "16      0.73     0.88    0.06 -4.53                0      dominant_model   \n",
       "11      0.63     0.83    0.04 -3.93                2  intermediate_model   \n",
       "15      1.12     0.85    0.08 -3.60                2  intermediate_model   \n",
       "18      1.35     0.79    0.18 -3.49                3  intermediate_model   \n",
       "\n",
       "    Dominates_Count Plant  \n",
       "5                18     c  \n",
       "16               18     c  \n",
       "11               16     c  \n",
       "15               15     c  \n",
       "18               13     c  "
      ]
     },
     "execution_count": 259,
     "metadata": {},
     "output_type": "execute_result"
    },
    {
     "data": {
      "application/javascript": [
       "\n",
       "            setTimeout(function() {\n",
       "                var nbb_cell_id = 259;\n",
       "                var nbb_unformatted_code = \"# Top 5\\ndf_sorted_topo_cols.sort_values(\\n    by=[\\\"Dominates_Count\\\", \\\"SCPM\\\"], ascending=[False, True]\\n).iloc[0:5].round(2)\";\n",
       "                var nbb_formatted_code = \"# Top 5\\ndf_sorted_topo_cols.sort_values(\\n    by=[\\\"Dominates_Count\\\", \\\"SCPM\\\"], ascending=[False, True]\\n).iloc[0:5].round(2)\";\n",
       "                var nbb_cells = Jupyter.notebook.get_cells();\n",
       "                for (var i = 0; i < nbb_cells.length; ++i) {\n",
       "                    if (nbb_cells[i].input_prompt_number == nbb_cell_id) {\n",
       "                        if (nbb_cells[i].get_text() == nbb_unformatted_code) {\n",
       "                             nbb_cells[i].set_text(nbb_formatted_code);\n",
       "                        }\n",
       "                        break;\n",
       "                    }\n",
       "                }\n",
       "            }, 500);\n",
       "            "
      ],
      "text/plain": [
       "<IPython.core.display.Javascript object>"
      ]
     },
     "metadata": {},
     "output_type": "display_data"
    }
   ],
   "source": [
    "# Top 5\n",
    "df_sorted_topo_cols.sort_values(\n",
    "    by=[\"Dominates_Count\", \"SCPM\"], ascending=[False, True]\n",
    ").iloc[0:5].round(2)"
   ]
  },
  {
   "cell_type": "code",
   "execution_count": 260,
   "id": "a9a01583",
   "metadata": {},
   "outputs": [
    {
     "data": {
      "text/html": [
       "<div>\n",
       "<style scoped>\n",
       "    .dataframe tbody tr th:only-of-type {\n",
       "        vertical-align: middle;\n",
       "    }\n",
       "\n",
       "    .dataframe tbody tr th {\n",
       "        vertical-align: top;\n",
       "    }\n",
       "\n",
       "    .dataframe thead th {\n",
       "        text-align: right;\n",
       "    }\n",
       "</style>\n",
       "<table border=\"1\" class=\"dataframe\">\n",
       "  <thead>\n",
       "    <tr style=\"text-align: right;\">\n",
       "      <th></th>\n",
       "      <th>Model_bkp_2</th>\n",
       "      <th>RMSE_mean</th>\n",
       "      <th>RMSE_std</th>\n",
       "      <th>MAE_mean</th>\n",
       "      <th>MAE_std</th>\n",
       "      <th>MAPE_mean</th>\n",
       "      <th>MAPE_std</th>\n",
       "      <th>R2_mean</th>\n",
       "      <th>R2_std</th>\n",
       "      <th>SCPM</th>\n",
       "      <th>Dominated_Count</th>\n",
       "      <th>Classification</th>\n",
       "      <th>Dominates_Count</th>\n",
       "      <th>Plant</th>\n",
       "    </tr>\n",
       "  </thead>\n",
       "  <tbody>\n",
       "    <tr>\n",
       "      <th>5</th>\n",
       "      <td>Random Forest</td>\n",
       "      <td>1.93</td>\n",
       "      <td>1.05</td>\n",
       "      <td>1.37</td>\n",
       "      <td>0.65</td>\n",
       "      <td>3.11</td>\n",
       "      <td>1.30</td>\n",
       "      <td>0.87</td>\n",
       "      <td>0.13</td>\n",
       "      <td>-5.40</td>\n",
       "      <td>0</td>\n",
       "      <td>dominant_model</td>\n",
       "      <td>18</td>\n",
       "      <td>c</td>\n",
       "    </tr>\n",
       "    <tr>\n",
       "      <th>16</th>\n",
       "      <td>Transformer_7.0</td>\n",
       "      <td>1.97</td>\n",
       "      <td>0.48</td>\n",
       "      <td>1.49</td>\n",
       "      <td>0.34</td>\n",
       "      <td>3.55</td>\n",
       "      <td>0.73</td>\n",
       "      <td>0.88</td>\n",
       "      <td>0.06</td>\n",
       "      <td>-4.53</td>\n",
       "      <td>0</td>\n",
       "      <td>dominant_model</td>\n",
       "      <td>18</td>\n",
       "      <td>c</td>\n",
       "    </tr>\n",
       "    <tr>\n",
       "      <th>11</th>\n",
       "      <td>LSTM_14.0</td>\n",
       "      <td>2.39</td>\n",
       "      <td>0.35</td>\n",
       "      <td>1.55</td>\n",
       "      <td>0.29</td>\n",
       "      <td>3.58</td>\n",
       "      <td>0.63</td>\n",
       "      <td>0.83</td>\n",
       "      <td>0.04</td>\n",
       "      <td>-3.93</td>\n",
       "      <td>2</td>\n",
       "      <td>intermediate_model</td>\n",
       "      <td>16</td>\n",
       "      <td>c</td>\n",
       "    </tr>\n",
       "    <tr>\n",
       "      <th>15</th>\n",
       "      <td>Transformer_1.0</td>\n",
       "      <td>2.17</td>\n",
       "      <td>0.67</td>\n",
       "      <td>1.64</td>\n",
       "      <td>0.50</td>\n",
       "      <td>3.83</td>\n",
       "      <td>1.12</td>\n",
       "      <td>0.85</td>\n",
       "      <td>0.08</td>\n",
       "      <td>-3.60</td>\n",
       "      <td>2</td>\n",
       "      <td>intermediate_model</td>\n",
       "      <td>15</td>\n",
       "      <td>c</td>\n",
       "    </tr>\n",
       "    <tr>\n",
       "      <th>18</th>\n",
       "      <td>Decision Tree</td>\n",
       "      <td>2.42</td>\n",
       "      <td>1.31</td>\n",
       "      <td>1.63</td>\n",
       "      <td>0.66</td>\n",
       "      <td>3.71</td>\n",
       "      <td>1.35</td>\n",
       "      <td>0.79</td>\n",
       "      <td>0.18</td>\n",
       "      <td>-3.49</td>\n",
       "      <td>3</td>\n",
       "      <td>intermediate_model</td>\n",
       "      <td>13</td>\n",
       "      <td>c</td>\n",
       "    </tr>\n",
       "  </tbody>\n",
       "</table>\n",
       "</div>"
      ],
      "text/plain": [
       "        Model_bkp_2  RMSE_mean  RMSE_std  MAE_mean  MAE_std  MAPE_mean  \\\n",
       "5     Random Forest       1.93      1.05      1.37     0.65       3.11   \n",
       "16  Transformer_7.0       1.97      0.48      1.49     0.34       3.55   \n",
       "11        LSTM_14.0       2.39      0.35      1.55     0.29       3.58   \n",
       "15  Transformer_1.0       2.17      0.67      1.64     0.50       3.83   \n",
       "18    Decision Tree       2.42      1.31      1.63     0.66       3.71   \n",
       "\n",
       "    MAPE_std  R2_mean  R2_std  SCPM  Dominated_Count      Classification  \\\n",
       "5       1.30     0.87    0.13 -5.40                0      dominant_model   \n",
       "16      0.73     0.88    0.06 -4.53                0      dominant_model   \n",
       "11      0.63     0.83    0.04 -3.93                2  intermediate_model   \n",
       "15      1.12     0.85    0.08 -3.60                2  intermediate_model   \n",
       "18      1.35     0.79    0.18 -3.49                3  intermediate_model   \n",
       "\n",
       "    Dominates_Count Plant  \n",
       "5                18     c  \n",
       "16               18     c  \n",
       "11               16     c  \n",
       "15               15     c  \n",
       "18               13     c  "
      ]
     },
     "execution_count": 260,
     "metadata": {},
     "output_type": "execute_result"
    },
    {
     "data": {
      "application/javascript": [
       "\n",
       "            setTimeout(function() {\n",
       "                var nbb_cell_id = 260;\n",
       "                var nbb_unformatted_code = \"# Top 4\\ndf_sorted_topo_cols.iloc[0:5].sort_values(by=\\\"Dominates_Count\\\", ascending=False)\";\n",
       "                var nbb_formatted_code = \"# Top 4\\ndf_sorted_topo_cols.iloc[0:5].sort_values(by=\\\"Dominates_Count\\\", ascending=False)\";\n",
       "                var nbb_cells = Jupyter.notebook.get_cells();\n",
       "                for (var i = 0; i < nbb_cells.length; ++i) {\n",
       "                    if (nbb_cells[i].input_prompt_number == nbb_cell_id) {\n",
       "                        if (nbb_cells[i].get_text() == nbb_unformatted_code) {\n",
       "                             nbb_cells[i].set_text(nbb_formatted_code);\n",
       "                        }\n",
       "                        break;\n",
       "                    }\n",
       "                }\n",
       "            }, 500);\n",
       "            "
      ],
      "text/plain": [
       "<IPython.core.display.Javascript object>"
      ]
     },
     "metadata": {},
     "output_type": "display_data"
    }
   ],
   "source": [
    "# Top 4\n",
    "df_sorted_topo_cols.iloc[0:5].sort_values(by=\"Dominates_Count\", ascending=False)"
   ]
  },
  {
   "cell_type": "code",
   "execution_count": 261,
   "id": "ddde9ed5",
   "metadata": {},
   "outputs": [
    {
     "data": {
      "text/plain": [
       "(2, 14)"
      ]
     },
     "execution_count": 261,
     "metadata": {},
     "output_type": "execute_result"
    },
    {
     "data": {
      "application/javascript": [
       "\n",
       "            setTimeout(function() {\n",
       "                var nbb_cell_id = 261;\n",
       "                var nbb_unformatted_code = \"df_sorted_topo_cols[df_sorted_topo_cols[\\\"Classification\\\"].eq(\\\"dominant_model\\\")].shape\";\n",
       "                var nbb_formatted_code = \"df_sorted_topo_cols[df_sorted_topo_cols[\\\"Classification\\\"].eq(\\\"dominant_model\\\")].shape\";\n",
       "                var nbb_cells = Jupyter.notebook.get_cells();\n",
       "                for (var i = 0; i < nbb_cells.length; ++i) {\n",
       "                    if (nbb_cells[i].input_prompt_number == nbb_cell_id) {\n",
       "                        if (nbb_cells[i].get_text() == nbb_unformatted_code) {\n",
       "                             nbb_cells[i].set_text(nbb_formatted_code);\n",
       "                        }\n",
       "                        break;\n",
       "                    }\n",
       "                }\n",
       "            }, 500);\n",
       "            "
      ],
      "text/plain": [
       "<IPython.core.display.Javascript object>"
      ]
     },
     "metadata": {},
     "output_type": "display_data"
    }
   ],
   "source": [
    "df_sorted_topo_cols[df_sorted_topo_cols[\"Classification\"].eq(\"dominant_model\")].shape"
   ]
  },
  {
   "cell_type": "markdown",
   "id": "f1f4460a",
   "metadata": {},
   "source": [
    "###### Intermediate models"
   ]
  },
  {
   "cell_type": "code",
   "execution_count": 262,
   "id": "2185ae1a",
   "metadata": {},
   "outputs": [
    {
     "data": {
      "text/html": [
       "<div>\n",
       "<style scoped>\n",
       "    .dataframe tbody tr th:only-of-type {\n",
       "        vertical-align: middle;\n",
       "    }\n",
       "\n",
       "    .dataframe tbody tr th {\n",
       "        vertical-align: top;\n",
       "    }\n",
       "\n",
       "    .dataframe thead th {\n",
       "        text-align: right;\n",
       "    }\n",
       "</style>\n",
       "<table border=\"1\" class=\"dataframe\">\n",
       "  <thead>\n",
       "    <tr style=\"text-align: right;\">\n",
       "      <th></th>\n",
       "      <th>Model_bkp_2</th>\n",
       "      <th>RMSE_mean</th>\n",
       "      <th>RMSE_std</th>\n",
       "      <th>MAE_mean</th>\n",
       "      <th>MAE_std</th>\n",
       "      <th>MAPE_mean</th>\n",
       "      <th>MAPE_std</th>\n",
       "      <th>R2_mean</th>\n",
       "      <th>R2_std</th>\n",
       "      <th>SCPM</th>\n",
       "      <th>Dominated_Count</th>\n",
       "      <th>Classification</th>\n",
       "      <th>Dominates_Count</th>\n",
       "      <th>Plant</th>\n",
       "    </tr>\n",
       "  </thead>\n",
       "  <tbody>\n",
       "    <tr>\n",
       "      <th>11</th>\n",
       "      <td>LSTM_14.0</td>\n",
       "      <td>2.39</td>\n",
       "      <td>0.35</td>\n",
       "      <td>1.55</td>\n",
       "      <td>0.29</td>\n",
       "      <td>3.58</td>\n",
       "      <td>0.63</td>\n",
       "      <td>0.83</td>\n",
       "      <td>0.04</td>\n",
       "      <td>-3.93</td>\n",
       "      <td>2</td>\n",
       "      <td>intermediate_model</td>\n",
       "      <td>16</td>\n",
       "      <td>c</td>\n",
       "    </tr>\n",
       "    <tr>\n",
       "      <th>15</th>\n",
       "      <td>Transformer_1.0</td>\n",
       "      <td>2.17</td>\n",
       "      <td>0.67</td>\n",
       "      <td>1.64</td>\n",
       "      <td>0.50</td>\n",
       "      <td>3.83</td>\n",
       "      <td>1.12</td>\n",
       "      <td>0.85</td>\n",
       "      <td>0.08</td>\n",
       "      <td>-3.60</td>\n",
       "      <td>2</td>\n",
       "      <td>intermediate_model</td>\n",
       "      <td>15</td>\n",
       "      <td>c</td>\n",
       "    </tr>\n",
       "    <tr>\n",
       "      <th>18</th>\n",
       "      <td>Decision Tree</td>\n",
       "      <td>2.42</td>\n",
       "      <td>1.31</td>\n",
       "      <td>1.63</td>\n",
       "      <td>0.66</td>\n",
       "      <td>3.71</td>\n",
       "      <td>1.35</td>\n",
       "      <td>0.79</td>\n",
       "      <td>0.18</td>\n",
       "      <td>-3.49</td>\n",
       "      <td>3</td>\n",
       "      <td>intermediate_model</td>\n",
       "      <td>13</td>\n",
       "      <td>c</td>\n",
       "    </tr>\n",
       "  </tbody>\n",
       "</table>\n",
       "</div>"
      ],
      "text/plain": [
       "        Model_bkp_2  RMSE_mean  RMSE_std  MAE_mean  MAE_std  MAPE_mean  \\\n",
       "11        LSTM_14.0       2.39      0.35      1.55     0.29       3.58   \n",
       "15  Transformer_1.0       2.17      0.67      1.64     0.50       3.83   \n",
       "18    Decision Tree       2.42      1.31      1.63     0.66       3.71   \n",
       "\n",
       "    MAPE_std  R2_mean  R2_std  SCPM  Dominated_Count      Classification  \\\n",
       "11      0.63     0.83    0.04 -3.93                2  intermediate_model   \n",
       "15      1.12     0.85    0.08 -3.60                2  intermediate_model   \n",
       "18      1.35     0.79    0.18 -3.49                3  intermediate_model   \n",
       "\n",
       "    Dominates_Count Plant  \n",
       "11               16     c  \n",
       "15               15     c  \n",
       "18               13     c  "
      ]
     },
     "execution_count": 262,
     "metadata": {},
     "output_type": "execute_result"
    },
    {
     "data": {
      "application/javascript": [
       "\n",
       "            setTimeout(function() {\n",
       "                var nbb_cell_id = 262;\n",
       "                var nbb_unformatted_code = \"df_sorted_topo_cols[\\n    df_sorted_topo_cols[\\\"Classification\\\"].eq(\\\"intermediate_model\\\")\\n].sort_values(by=[\\\"Dominates_Count\\\", \\\"SCPM\\\"], ascending=[False, True]).iloc[:3]\";\n",
       "                var nbb_formatted_code = \"df_sorted_topo_cols[\\n    df_sorted_topo_cols[\\\"Classification\\\"].eq(\\\"intermediate_model\\\")\\n].sort_values(by=[\\\"Dominates_Count\\\", \\\"SCPM\\\"], ascending=[False, True]).iloc[:3]\";\n",
       "                var nbb_cells = Jupyter.notebook.get_cells();\n",
       "                for (var i = 0; i < nbb_cells.length; ++i) {\n",
       "                    if (nbb_cells[i].input_prompt_number == nbb_cell_id) {\n",
       "                        if (nbb_cells[i].get_text() == nbb_unformatted_code) {\n",
       "                             nbb_cells[i].set_text(nbb_formatted_code);\n",
       "                        }\n",
       "                        break;\n",
       "                    }\n",
       "                }\n",
       "            }, 500);\n",
       "            "
      ],
      "text/plain": [
       "<IPython.core.display.Javascript object>"
      ]
     },
     "metadata": {},
     "output_type": "display_data"
    }
   ],
   "source": [
    "df_sorted_topo_cols[\n",
    "    df_sorted_topo_cols[\"Classification\"].eq(\"intermediate_model\")\n",
    "].sort_values(by=[\"Dominates_Count\", \"SCPM\"], ascending=[False, True]).iloc[:3]"
   ]
  },
  {
   "cell_type": "code",
   "execution_count": 263,
   "id": "0d0289ab",
   "metadata": {},
   "outputs": [
    {
     "data": {
      "text/plain": [
       "(15, 14)"
      ]
     },
     "execution_count": 263,
     "metadata": {},
     "output_type": "execute_result"
    },
    {
     "data": {
      "application/javascript": [
       "\n",
       "            setTimeout(function() {\n",
       "                var nbb_cell_id = 263;\n",
       "                var nbb_unformatted_code = \"df_sorted_topo_cols[\\n    df_sorted_topo_cols[\\\"Classification\\\"].eq(\\\"intermediate_model\\\")\\n].shape\";\n",
       "                var nbb_formatted_code = \"df_sorted_topo_cols[\\n    df_sorted_topo_cols[\\\"Classification\\\"].eq(\\\"intermediate_model\\\")\\n].shape\";\n",
       "                var nbb_cells = Jupyter.notebook.get_cells();\n",
       "                for (var i = 0; i < nbb_cells.length; ++i) {\n",
       "                    if (nbb_cells[i].input_prompt_number == nbb_cell_id) {\n",
       "                        if (nbb_cells[i].get_text() == nbb_unformatted_code) {\n",
       "                             nbb_cells[i].set_text(nbb_formatted_code);\n",
       "                        }\n",
       "                        break;\n",
       "                    }\n",
       "                }\n",
       "            }, 500);\n",
       "            "
      ],
      "text/plain": [
       "<IPython.core.display.Javascript object>"
      ]
     },
     "metadata": {},
     "output_type": "display_data"
    }
   ],
   "source": [
    "df_sorted_topo_cols[\n",
    "    df_sorted_topo_cols[\"Classification\"].eq(\"intermediate_model\")\n",
    "].shape"
   ]
  },
  {
   "cell_type": "markdown",
   "id": "d09f3aa4",
   "metadata": {},
   "source": [
    "###### non-dominant models"
   ]
  },
  {
   "cell_type": "code",
   "execution_count": 264,
   "id": "201b152c",
   "metadata": {},
   "outputs": [
    {
     "data": {
      "text/html": [
       "<div>\n",
       "<style scoped>\n",
       "    .dataframe tbody tr th:only-of-type {\n",
       "        vertical-align: middle;\n",
       "    }\n",
       "\n",
       "    .dataframe tbody tr th {\n",
       "        vertical-align: top;\n",
       "    }\n",
       "\n",
       "    .dataframe thead th {\n",
       "        text-align: right;\n",
       "    }\n",
       "</style>\n",
       "<table border=\"1\" class=\"dataframe\">\n",
       "  <thead>\n",
       "    <tr style=\"text-align: right;\">\n",
       "      <th></th>\n",
       "      <th>Model_bkp_2</th>\n",
       "      <th>RMSE_mean</th>\n",
       "      <th>RMSE_std</th>\n",
       "      <th>MAE_mean</th>\n",
       "      <th>MAE_std</th>\n",
       "      <th>MAPE_mean</th>\n",
       "      <th>MAPE_std</th>\n",
       "      <th>R2_mean</th>\n",
       "      <th>R2_std</th>\n",
       "      <th>SCPM</th>\n",
       "      <th>Dominated_Count</th>\n",
       "      <th>Classification</th>\n",
       "      <th>Dominates_Count</th>\n",
       "      <th>Plant</th>\n",
       "    </tr>\n",
       "  </thead>\n",
       "  <tbody>\n",
       "    <tr>\n",
       "      <th>8</th>\n",
       "      <td>BidirectionalLSTM_14.0</td>\n",
       "      <td>4.57</td>\n",
       "      <td>3.02</td>\n",
       "      <td>2.35</td>\n",
       "      <td>0.48</td>\n",
       "      <td>5.46</td>\n",
       "      <td>1.12</td>\n",
       "      <td>0.14</td>\n",
       "      <td>1.13</td>\n",
       "      <td>3.16</td>\n",
       "      <td>15</td>\n",
       "      <td>non_dominant_model</td>\n",
       "      <td>0</td>\n",
       "      <td>c</td>\n",
       "    </tr>\n",
       "    <tr>\n",
       "      <th>9</th>\n",
       "      <td>LSTM_1.0</td>\n",
       "      <td>4.32</td>\n",
       "      <td>1.83</td>\n",
       "      <td>2.90</td>\n",
       "      <td>1.23</td>\n",
       "      <td>6.45</td>\n",
       "      <td>2.57</td>\n",
       "      <td>0.36</td>\n",
       "      <td>0.50</td>\n",
       "      <td>5.34</td>\n",
       "      <td>16</td>\n",
       "      <td>non_dominant_model</td>\n",
       "      <td>0</td>\n",
       "      <td>c</td>\n",
       "    </tr>\n",
       "    <tr>\n",
       "      <th>3</th>\n",
       "      <td>GRU_14.0</td>\n",
       "      <td>6.78</td>\n",
       "      <td>8.94</td>\n",
       "      <td>2.45</td>\n",
       "      <td>1.44</td>\n",
       "      <td>5.42</td>\n",
       "      <td>3.04</td>\n",
       "      <td>-2.62</td>\n",
       "      <td>6.92</td>\n",
       "      <td>8.76</td>\n",
       "      <td>16</td>\n",
       "      <td>non_dominant_model</td>\n",
       "      <td>0</td>\n",
       "      <td>c</td>\n",
       "    </tr>\n",
       "  </tbody>\n",
       "</table>\n",
       "</div>"
      ],
      "text/plain": [
       "              Model_bkp_2  RMSE_mean  RMSE_std  MAE_mean  MAE_std  MAPE_mean  \\\n",
       "8  BidirectionalLSTM_14.0       4.57      3.02      2.35     0.48       5.46   \n",
       "9                LSTM_1.0       4.32      1.83      2.90     1.23       6.45   \n",
       "3                GRU_14.0       6.78      8.94      2.45     1.44       5.42   \n",
       "\n",
       "   MAPE_std  R2_mean  R2_std  SCPM  Dominated_Count      Classification  \\\n",
       "8      1.12     0.14    1.13  3.16               15  non_dominant_model   \n",
       "9      2.57     0.36    0.50  5.34               16  non_dominant_model   \n",
       "3      3.04    -2.62    6.92  8.76               16  non_dominant_model   \n",
       "\n",
       "   Dominates_Count Plant  \n",
       "8                0     c  \n",
       "9                0     c  \n",
       "3                0     c  "
      ]
     },
     "execution_count": 264,
     "metadata": {},
     "output_type": "execute_result"
    },
    {
     "data": {
      "application/javascript": [
       "\n",
       "            setTimeout(function() {\n",
       "                var nbb_cell_id = 264;\n",
       "                var nbb_unformatted_code = \"df_sorted_topo_cols[\\n    df_sorted_topo_cols[\\\"Classification\\\"].eq(\\\"non_dominant_model\\\")\\n].sort_values(by=[\\\"Dominates_Count\\\", \\\"SCPM\\\"], ascending=[False, True]).iloc[:5]\";\n",
       "                var nbb_formatted_code = \"df_sorted_topo_cols[\\n    df_sorted_topo_cols[\\\"Classification\\\"].eq(\\\"non_dominant_model\\\")\\n].sort_values(by=[\\\"Dominates_Count\\\", \\\"SCPM\\\"], ascending=[False, True]).iloc[:5]\";\n",
       "                var nbb_cells = Jupyter.notebook.get_cells();\n",
       "                for (var i = 0; i < nbb_cells.length; ++i) {\n",
       "                    if (nbb_cells[i].input_prompt_number == nbb_cell_id) {\n",
       "                        if (nbb_cells[i].get_text() == nbb_unformatted_code) {\n",
       "                             nbb_cells[i].set_text(nbb_formatted_code);\n",
       "                        }\n",
       "                        break;\n",
       "                    }\n",
       "                }\n",
       "            }, 500);\n",
       "            "
      ],
      "text/plain": [
       "<IPython.core.display.Javascript object>"
      ]
     },
     "metadata": {},
     "output_type": "display_data"
    }
   ],
   "source": [
    "df_sorted_topo_cols[\n",
    "    df_sorted_topo_cols[\"Classification\"].eq(\"non_dominant_model\")\n",
    "].sort_values(by=[\"Dominates_Count\", \"SCPM\"], ascending=[False, True]).iloc[:5]"
   ]
  },
  {
   "cell_type": "code",
   "execution_count": 265,
   "id": "1bbece8d",
   "metadata": {},
   "outputs": [
    {
     "data": {
      "text/plain": [
       "(3, 14)"
      ]
     },
     "execution_count": 265,
     "metadata": {},
     "output_type": "execute_result"
    },
    {
     "data": {
      "application/javascript": [
       "\n",
       "            setTimeout(function() {\n",
       "                var nbb_cell_id = 265;\n",
       "                var nbb_unformatted_code = \"df_sorted_topo_cols[\\n    df_sorted_topo_cols[\\\"Classification\\\"].eq(\\\"non_dominant_model\\\")\\n].shape\";\n",
       "                var nbb_formatted_code = \"df_sorted_topo_cols[\\n    df_sorted_topo_cols[\\\"Classification\\\"].eq(\\\"non_dominant_model\\\")\\n].shape\";\n",
       "                var nbb_cells = Jupyter.notebook.get_cells();\n",
       "                for (var i = 0; i < nbb_cells.length; ++i) {\n",
       "                    if (nbb_cells[i].input_prompt_number == nbb_cell_id) {\n",
       "                        if (nbb_cells[i].get_text() == nbb_unformatted_code) {\n",
       "                             nbb_cells[i].set_text(nbb_formatted_code);\n",
       "                        }\n",
       "                        break;\n",
       "                    }\n",
       "                }\n",
       "            }, 500);\n",
       "            "
      ],
      "text/plain": [
       "<IPython.core.display.Javascript object>"
      ]
     },
     "metadata": {},
     "output_type": "display_data"
    }
   ],
   "source": [
    "df_sorted_topo_cols[\n",
    "    df_sorted_topo_cols[\"Classification\"].eq(\"non_dominant_model\")\n",
    "].shape"
   ]
  },
  {
   "cell_type": "markdown",
   "id": "4c0f3b94",
   "metadata": {},
   "source": [
    "###### Statistics per model type"
   ]
  },
  {
   "cell_type": "code",
   "execution_count": 266,
   "id": "73a74360",
   "metadata": {},
   "outputs": [
    {
     "data": {
      "application/javascript": [
       "\n",
       "            setTimeout(function() {\n",
       "                var nbb_cell_id = 266;\n",
       "                var nbb_unformatted_code = \"df_sorted_topo_models_cols = df_sorted_topo[\\n    [\\n        \\\"Model\\\",\\n        # \\\"Model_bkp\\\",\\n        # \\\"Model_bkp_2\\\",\\n        \\\"RMSE_mean\\\",\\n        \\\"RMSE_std\\\",\\n        \\\"MAE_mean\\\",\\n        \\\"MAE_std\\\",\\n        \\\"MAPE_mean\\\",\\n        \\\"MAPE_std\\\",\\n        \\\"R2_mean\\\",\\n        \\\"R2_std\\\",\\n        \\\"SCPM\\\",\\n        \\\"Dominated_Count\\\",\\n        \\\"Dominates_Count\\\",\\n        \\\"Classification\\\",\\n        \\\"Plant\\\",\\n    ]\\n]  # .round(2)\";\n",
       "                var nbb_formatted_code = \"df_sorted_topo_models_cols = df_sorted_topo[\\n    [\\n        \\\"Model\\\",\\n        # \\\"Model_bkp\\\",\\n        # \\\"Model_bkp_2\\\",\\n        \\\"RMSE_mean\\\",\\n        \\\"RMSE_std\\\",\\n        \\\"MAE_mean\\\",\\n        \\\"MAE_std\\\",\\n        \\\"MAPE_mean\\\",\\n        \\\"MAPE_std\\\",\\n        \\\"R2_mean\\\",\\n        \\\"R2_std\\\",\\n        \\\"SCPM\\\",\\n        \\\"Dominated_Count\\\",\\n        \\\"Dominates_Count\\\",\\n        \\\"Classification\\\",\\n        \\\"Plant\\\",\\n    ]\\n]  # .round(2)\";\n",
       "                var nbb_cells = Jupyter.notebook.get_cells();\n",
       "                for (var i = 0; i < nbb_cells.length; ++i) {\n",
       "                    if (nbb_cells[i].input_prompt_number == nbb_cell_id) {\n",
       "                        if (nbb_cells[i].get_text() == nbb_unformatted_code) {\n",
       "                             nbb_cells[i].set_text(nbb_formatted_code);\n",
       "                        }\n",
       "                        break;\n",
       "                    }\n",
       "                }\n",
       "            }, 500);\n",
       "            "
      ],
      "text/plain": [
       "<IPython.core.display.Javascript object>"
      ]
     },
     "metadata": {},
     "output_type": "display_data"
    }
   ],
   "source": [
    "df_sorted_topo_models_cols = df_sorted_topo[\n",
    "    [\n",
    "        \"Model\",\n",
    "        # \"Model_bkp\",\n",
    "        # \"Model_bkp_2\",\n",
    "        \"RMSE_mean\",\n",
    "        \"RMSE_std\",\n",
    "        \"MAE_mean\",\n",
    "        \"MAE_std\",\n",
    "        \"MAPE_mean\",\n",
    "        \"MAPE_std\",\n",
    "        \"R2_mean\",\n",
    "        \"R2_std\",\n",
    "        \"SCPM\",\n",
    "        \"Dominated_Count\",\n",
    "        \"Dominates_Count\",\n",
    "        \"Classification\",\n",
    "        \"Plant\",\n",
    "    ]\n",
    "]  # .round(2)"
   ]
  },
  {
   "cell_type": "code",
   "execution_count": 267,
   "id": "240b8dba",
   "metadata": {},
   "outputs": [
    {
     "data": {
      "text/plain": [
       "Model\n",
       "Neural Networks      16\n",
       "Trees                 3\n",
       "Linear Regression     1\n",
       "Name: count, dtype: int64"
      ]
     },
     "execution_count": 267,
     "metadata": {},
     "output_type": "execute_result"
    },
    {
     "data": {
      "application/javascript": [
       "\n",
       "            setTimeout(function() {\n",
       "                var nbb_cell_id = 267;\n",
       "                var nbb_unformatted_code = \"df_sorted_topo[\\\"Model\\\"].value_counts()\";\n",
       "                var nbb_formatted_code = \"df_sorted_topo[\\\"Model\\\"].value_counts()\";\n",
       "                var nbb_cells = Jupyter.notebook.get_cells();\n",
       "                for (var i = 0; i < nbb_cells.length; ++i) {\n",
       "                    if (nbb_cells[i].input_prompt_number == nbb_cell_id) {\n",
       "                        if (nbb_cells[i].get_text() == nbb_unformatted_code) {\n",
       "                             nbb_cells[i].set_text(nbb_formatted_code);\n",
       "                        }\n",
       "                        break;\n",
       "                    }\n",
       "                }\n",
       "            }, 500);\n",
       "            "
      ],
      "text/plain": [
       "<IPython.core.display.Javascript object>"
      ]
     },
     "metadata": {},
     "output_type": "display_data"
    }
   ],
   "source": [
    "df_sorted_topo[\"Model\"].value_counts()"
   ]
  },
  {
   "cell_type": "code",
   "execution_count": 268,
   "id": "1e93e399",
   "metadata": {},
   "outputs": [
    {
     "data": {
      "application/javascript": [
       "\n",
       "            setTimeout(function() {\n",
       "                var nbb_cell_id = 268;\n",
       "                var nbb_unformatted_code = \"df_sorted_topo_models_grouped = df_sorted_topo_models_cols.groupby(\\\"Model\\\").describe().T\";\n",
       "                var nbb_formatted_code = \"df_sorted_topo_models_grouped = df_sorted_topo_models_cols.groupby(\\\"Model\\\").describe().T\";\n",
       "                var nbb_cells = Jupyter.notebook.get_cells();\n",
       "                for (var i = 0; i < nbb_cells.length; ++i) {\n",
       "                    if (nbb_cells[i].input_prompt_number == nbb_cell_id) {\n",
       "                        if (nbb_cells[i].get_text() == nbb_unformatted_code) {\n",
       "                             nbb_cells[i].set_text(nbb_formatted_code);\n",
       "                        }\n",
       "                        break;\n",
       "                    }\n",
       "                }\n",
       "            }, 500);\n",
       "            "
      ],
      "text/plain": [
       "<IPython.core.display.Javascript object>"
      ]
     },
     "metadata": {},
     "output_type": "display_data"
    }
   ],
   "source": [
    "df_sorted_topo_models_grouped = df_sorted_topo_models_cols.groupby(\"Model\").describe().T"
   ]
  },
  {
   "cell_type": "code",
   "execution_count": 269,
   "id": "de93faba",
   "metadata": {},
   "outputs": [
    {
     "data": {
      "application/javascript": [
       "\n",
       "            setTimeout(function() {\n",
       "                var nbb_cell_id = 269;\n",
       "                var nbb_unformatted_code = \"df_sorted_topo_models_cols = df_sorted_topo[\\n    [\\n        \\\"Model\\\",\\n        \\\"Dominated_Count\\\",\\n        \\\"Dominates_Count\\\",\\n        \\\"Classification\\\",\\n    ]\\n]\";\n",
       "                var nbb_formatted_code = \"df_sorted_topo_models_cols = df_sorted_topo[\\n    [\\n        \\\"Model\\\",\\n        \\\"Dominated_Count\\\",\\n        \\\"Dominates_Count\\\",\\n        \\\"Classification\\\",\\n    ]\\n]\";\n",
       "                var nbb_cells = Jupyter.notebook.get_cells();\n",
       "                for (var i = 0; i < nbb_cells.length; ++i) {\n",
       "                    if (nbb_cells[i].input_prompt_number == nbb_cell_id) {\n",
       "                        if (nbb_cells[i].get_text() == nbb_unformatted_code) {\n",
       "                             nbb_cells[i].set_text(nbb_formatted_code);\n",
       "                        }\n",
       "                        break;\n",
       "                    }\n",
       "                }\n",
       "            }, 500);\n",
       "            "
      ],
      "text/plain": [
       "<IPython.core.display.Javascript object>"
      ]
     },
     "metadata": {},
     "output_type": "display_data"
    }
   ],
   "source": [
    "df_sorted_topo_models_cols = df_sorted_topo[\n",
    "    [\n",
    "        \"Model\",\n",
    "        \"Dominated_Count\",\n",
    "        \"Dominates_Count\",\n",
    "        \"Classification\",\n",
    "    ]\n",
    "]"
   ]
  },
  {
   "cell_type": "code",
   "execution_count": 270,
   "id": "ab3fb2bf",
   "metadata": {},
   "outputs": [
    {
     "data": {
      "text/html": [
       "<div>\n",
       "<style scoped>\n",
       "    .dataframe tbody tr th:only-of-type {\n",
       "        vertical-align: middle;\n",
       "    }\n",
       "\n",
       "    .dataframe tbody tr th {\n",
       "        vertical-align: top;\n",
       "    }\n",
       "\n",
       "    .dataframe thead th {\n",
       "        text-align: right;\n",
       "    }\n",
       "</style>\n",
       "<table border=\"1\" class=\"dataframe\">\n",
       "  <thead>\n",
       "    <tr style=\"text-align: right;\">\n",
       "      <th></th>\n",
       "      <th></th>\n",
       "      <th>proportion</th>\n",
       "    </tr>\n",
       "    <tr>\n",
       "      <th>Model</th>\n",
       "      <th>Classification</th>\n",
       "      <th></th>\n",
       "    </tr>\n",
       "  </thead>\n",
       "  <tbody>\n",
       "    <tr>\n",
       "      <th>Linear Regression</th>\n",
       "      <th>intermediate_model</th>\n",
       "      <td>100.00</td>\n",
       "    </tr>\n",
       "    <tr>\n",
       "      <th rowspan=\"3\" valign=\"top\">Neural Networks</th>\n",
       "      <th>intermediate_model</th>\n",
       "      <td>75.00</td>\n",
       "    </tr>\n",
       "    <tr>\n",
       "      <th>non_dominant_model</th>\n",
       "      <td>18.75</td>\n",
       "    </tr>\n",
       "    <tr>\n",
       "      <th>dominant_model</th>\n",
       "      <td>6.25</td>\n",
       "    </tr>\n",
       "    <tr>\n",
       "      <th rowspan=\"2\" valign=\"top\">Trees</th>\n",
       "      <th>intermediate_model</th>\n",
       "      <td>66.67</td>\n",
       "    </tr>\n",
       "    <tr>\n",
       "      <th>dominant_model</th>\n",
       "      <td>33.33</td>\n",
       "    </tr>\n",
       "  </tbody>\n",
       "</table>\n",
       "</div>"
      ],
      "text/plain": [
       "                                      proportion\n",
       "Model             Classification                \n",
       "Linear Regression intermediate_model      100.00\n",
       "Neural Networks   intermediate_model       75.00\n",
       "                  non_dominant_model       18.75\n",
       "                  dominant_model            6.25\n",
       "Trees             intermediate_model       66.67\n",
       "                  dominant_model           33.33"
      ]
     },
     "execution_count": 270,
     "metadata": {},
     "output_type": "execute_result"
    },
    {
     "data": {
      "application/javascript": [
       "\n",
       "            setTimeout(function() {\n",
       "                var nbb_cell_id = 270;\n",
       "                var nbb_unformatted_code = \"(\\n    df_sorted_topo_models_cols.groupby(\\\"Model\\\")[[\\\"Classification\\\"]]\\n    .value_counts(normalize=True)\\n    .to_frame()\\n    * 100\\n).round(2)\";\n",
       "                var nbb_formatted_code = \"(\\n    df_sorted_topo_models_cols.groupby(\\\"Model\\\")[[\\\"Classification\\\"]]\\n    .value_counts(normalize=True)\\n    .to_frame()\\n    * 100\\n).round(2)\";\n",
       "                var nbb_cells = Jupyter.notebook.get_cells();\n",
       "                for (var i = 0; i < nbb_cells.length; ++i) {\n",
       "                    if (nbb_cells[i].input_prompt_number == nbb_cell_id) {\n",
       "                        if (nbb_cells[i].get_text() == nbb_unformatted_code) {\n",
       "                             nbb_cells[i].set_text(nbb_formatted_code);\n",
       "                        }\n",
       "                        break;\n",
       "                    }\n",
       "                }\n",
       "            }, 500);\n",
       "            "
      ],
      "text/plain": [
       "<IPython.core.display.Javascript object>"
      ]
     },
     "metadata": {},
     "output_type": "display_data"
    }
   ],
   "source": [
    "(\n",
    "    df_sorted_topo_models_cols.groupby(\"Model\")[[\"Classification\"]]\n",
    "    .value_counts(normalize=True)\n",
    "    .to_frame()\n",
    "    * 100\n",
    ").round(2)"
   ]
  },
  {
   "cell_type": "code",
   "execution_count": 271,
   "id": "1d4b66e0",
   "metadata": {},
   "outputs": [
    {
     "data": {
      "text/html": [
       "<div>\n",
       "<style scoped>\n",
       "    .dataframe tbody tr th:only-of-type {\n",
       "        vertical-align: middle;\n",
       "    }\n",
       "\n",
       "    .dataframe tbody tr th {\n",
       "        vertical-align: top;\n",
       "    }\n",
       "\n",
       "    .dataframe thead th {\n",
       "        text-align: right;\n",
       "    }\n",
       "</style>\n",
       "<table border=\"1\" class=\"dataframe\">\n",
       "  <thead>\n",
       "    <tr style=\"text-align: right;\">\n",
       "      <th></th>\n",
       "      <th>Model</th>\n",
       "      <th>Linear Regression</th>\n",
       "      <th>Neural Networks</th>\n",
       "      <th>Trees</th>\n",
       "    </tr>\n",
       "  </thead>\n",
       "  <tbody>\n",
       "    <tr>\n",
       "      <th rowspan=\"8\" valign=\"top\">Dominated_Count</th>\n",
       "      <th>count</th>\n",
       "      <td>1.0</td>\n",
       "      <td>16.00</td>\n",
       "      <td>3.00</td>\n",
       "    </tr>\n",
       "    <tr>\n",
       "      <th>mean</th>\n",
       "      <td>7.0</td>\n",
       "      <td>8.88</td>\n",
       "      <td>2.33</td>\n",
       "    </tr>\n",
       "    <tr>\n",
       "      <th>std</th>\n",
       "      <td>NaN</td>\n",
       "      <td>5.19</td>\n",
       "      <td>2.08</td>\n",
       "    </tr>\n",
       "    <tr>\n",
       "      <th>min</th>\n",
       "      <td>7.0</td>\n",
       "      <td>0.00</td>\n",
       "      <td>0.00</td>\n",
       "    </tr>\n",
       "    <tr>\n",
       "      <th>25%</th>\n",
       "      <td>7.0</td>\n",
       "      <td>6.25</td>\n",
       "      <td>1.50</td>\n",
       "    </tr>\n",
       "    <tr>\n",
       "      <th>50%</th>\n",
       "      <td>7.0</td>\n",
       "      <td>8.50</td>\n",
       "      <td>3.00</td>\n",
       "    </tr>\n",
       "    <tr>\n",
       "      <th>75%</th>\n",
       "      <td>7.0</td>\n",
       "      <td>12.75</td>\n",
       "      <td>3.50</td>\n",
       "    </tr>\n",
       "    <tr>\n",
       "      <th>max</th>\n",
       "      <td>7.0</td>\n",
       "      <td>16.00</td>\n",
       "      <td>4.00</td>\n",
       "    </tr>\n",
       "    <tr>\n",
       "      <th rowspan=\"8\" valign=\"top\">Dominates_Count</th>\n",
       "      <th>count</th>\n",
       "      <td>1.0</td>\n",
       "      <td>16.00</td>\n",
       "      <td>3.00</td>\n",
       "    </tr>\n",
       "    <tr>\n",
       "      <th>mean</th>\n",
       "      <td>8.0</td>\n",
       "      <td>6.50</td>\n",
       "      <td>14.67</td>\n",
       "    </tr>\n",
       "    <tr>\n",
       "      <th>std</th>\n",
       "      <td>NaN</td>\n",
       "      <td>6.06</td>\n",
       "      <td>2.89</td>\n",
       "    </tr>\n",
       "    <tr>\n",
       "      <th>min</th>\n",
       "      <td>8.0</td>\n",
       "      <td>0.00</td>\n",
       "      <td>13.00</td>\n",
       "    </tr>\n",
       "    <tr>\n",
       "      <th>25%</th>\n",
       "      <td>8.0</td>\n",
       "      <td>1.00</td>\n",
       "      <td>13.00</td>\n",
       "    </tr>\n",
       "    <tr>\n",
       "      <th>50%</th>\n",
       "      <td>8.0</td>\n",
       "      <td>4.50</td>\n",
       "      <td>13.00</td>\n",
       "    </tr>\n",
       "    <tr>\n",
       "      <th>75%</th>\n",
       "      <td>8.0</td>\n",
       "      <td>9.25</td>\n",
       "      <td>15.50</td>\n",
       "    </tr>\n",
       "    <tr>\n",
       "      <th>max</th>\n",
       "      <td>8.0</td>\n",
       "      <td>18.00</td>\n",
       "      <td>18.00</td>\n",
       "    </tr>\n",
       "  </tbody>\n",
       "</table>\n",
       "</div>"
      ],
      "text/plain": [
       "Model                  Linear Regression  Neural Networks  Trees\n",
       "Dominated_Count count                1.0            16.00   3.00\n",
       "                mean                 7.0             8.88   2.33\n",
       "                std                  NaN             5.19   2.08\n",
       "                min                  7.0             0.00   0.00\n",
       "                25%                  7.0             6.25   1.50\n",
       "                50%                  7.0             8.50   3.00\n",
       "                75%                  7.0            12.75   3.50\n",
       "                max                  7.0            16.00   4.00\n",
       "Dominates_Count count                1.0            16.00   3.00\n",
       "                mean                 8.0             6.50  14.67\n",
       "                std                  NaN             6.06   2.89\n",
       "                min                  8.0             0.00  13.00\n",
       "                25%                  8.0             1.00  13.00\n",
       "                50%                  8.0             4.50  13.00\n",
       "                75%                  8.0             9.25  15.50\n",
       "                max                  8.0            18.00  18.00"
      ]
     },
     "execution_count": 271,
     "metadata": {},
     "output_type": "execute_result"
    },
    {
     "data": {
      "application/javascript": [
       "\n",
       "            setTimeout(function() {\n",
       "                var nbb_cell_id = 271;\n",
       "                var nbb_unformatted_code = \"df_sorted_topo_models_cols.groupby(\\\"Model\\\").describe().round(2).T\";\n",
       "                var nbb_formatted_code = \"df_sorted_topo_models_cols.groupby(\\\"Model\\\").describe().round(2).T\";\n",
       "                var nbb_cells = Jupyter.notebook.get_cells();\n",
       "                for (var i = 0; i < nbb_cells.length; ++i) {\n",
       "                    if (nbb_cells[i].input_prompt_number == nbb_cell_id) {\n",
       "                        if (nbb_cells[i].get_text() == nbb_unformatted_code) {\n",
       "                             nbb_cells[i].set_text(nbb_formatted_code);\n",
       "                        }\n",
       "                        break;\n",
       "                    }\n",
       "                }\n",
       "            }, 500);\n",
       "            "
      ],
      "text/plain": [
       "<IPython.core.display.Javascript object>"
      ]
     },
     "metadata": {},
     "output_type": "display_data"
    }
   ],
   "source": [
    "df_sorted_topo_models_cols.groupby(\"Model\").describe().round(2).T"
   ]
  },
  {
   "cell_type": "code",
   "execution_count": 272,
   "id": "cd394273",
   "metadata": {},
   "outputs": [
    {
     "data": {
      "application/javascript": [
       "\n",
       "            setTimeout(function() {\n",
       "                var nbb_cell_id = 272;\n",
       "                var nbb_unformatted_code = \"# df_sorted_topo_models_cols\";\n",
       "                var nbb_formatted_code = \"# df_sorted_topo_models_cols\";\n",
       "                var nbb_cells = Jupyter.notebook.get_cells();\n",
       "                for (var i = 0; i < nbb_cells.length; ++i) {\n",
       "                    if (nbb_cells[i].input_prompt_number == nbb_cell_id) {\n",
       "                        if (nbb_cells[i].get_text() == nbb_unformatted_code) {\n",
       "                             nbb_cells[i].set_text(nbb_formatted_code);\n",
       "                        }\n",
       "                        break;\n",
       "                    }\n",
       "                }\n",
       "            }, 500);\n",
       "            "
      ],
      "text/plain": [
       "<IPython.core.display.Javascript object>"
      ]
     },
     "metadata": {},
     "output_type": "display_data"
    }
   ],
   "source": [
    "# df_sorted_topo_models_cols"
   ]
  },
  {
   "cell_type": "code",
   "execution_count": 273,
   "id": "81829e73",
   "metadata": {},
   "outputs": [
    {
     "data": {
      "text/html": [
       "<div>\n",
       "<style scoped>\n",
       "    .dataframe tbody tr th:only-of-type {\n",
       "        vertical-align: middle;\n",
       "    }\n",
       "\n",
       "    .dataframe tbody tr th {\n",
       "        vertical-align: top;\n",
       "    }\n",
       "\n",
       "    .dataframe thead th {\n",
       "        text-align: right;\n",
       "    }\n",
       "</style>\n",
       "<table border=\"1\" class=\"dataframe\">\n",
       "  <thead>\n",
       "    <tr style=\"text-align: right;\">\n",
       "      <th></th>\n",
       "      <th>count</th>\n",
       "      <th>unique</th>\n",
       "      <th>top</th>\n",
       "      <th>freq</th>\n",
       "    </tr>\n",
       "    <tr>\n",
       "      <th>Model</th>\n",
       "      <th></th>\n",
       "      <th></th>\n",
       "      <th></th>\n",
       "      <th></th>\n",
       "    </tr>\n",
       "  </thead>\n",
       "  <tbody>\n",
       "    <tr>\n",
       "      <th>Linear Regression</th>\n",
       "      <td>1</td>\n",
       "      <td>1</td>\n",
       "      <td>intermediate_model</td>\n",
       "      <td>1</td>\n",
       "    </tr>\n",
       "    <tr>\n",
       "      <th>Neural Networks</th>\n",
       "      <td>16</td>\n",
       "      <td>3</td>\n",
       "      <td>intermediate_model</td>\n",
       "      <td>12</td>\n",
       "    </tr>\n",
       "    <tr>\n",
       "      <th>Trees</th>\n",
       "      <td>3</td>\n",
       "      <td>2</td>\n",
       "      <td>intermediate_model</td>\n",
       "      <td>2</td>\n",
       "    </tr>\n",
       "  </tbody>\n",
       "</table>\n",
       "</div>"
      ],
      "text/plain": [
       "                  count unique                 top freq\n",
       "Model                                                  \n",
       "Linear Regression     1      1  intermediate_model    1\n",
       "Neural Networks      16      3  intermediate_model   12\n",
       "Trees                 3      2  intermediate_model    2"
      ]
     },
     "execution_count": 273,
     "metadata": {},
     "output_type": "execute_result"
    },
    {
     "data": {
      "application/javascript": [
       "\n",
       "            setTimeout(function() {\n",
       "                var nbb_cell_id = 273;\n",
       "                var nbb_unformatted_code = \"df_sorted_topo_models_cols.groupby(\\\"Model\\\")[\\\"Classification\\\"].describe()\";\n",
       "                var nbb_formatted_code = \"df_sorted_topo_models_cols.groupby(\\\"Model\\\")[\\\"Classification\\\"].describe()\";\n",
       "                var nbb_cells = Jupyter.notebook.get_cells();\n",
       "                for (var i = 0; i < nbb_cells.length; ++i) {\n",
       "                    if (nbb_cells[i].input_prompt_number == nbb_cell_id) {\n",
       "                        if (nbb_cells[i].get_text() == nbb_unformatted_code) {\n",
       "                             nbb_cells[i].set_text(nbb_formatted_code);\n",
       "                        }\n",
       "                        break;\n",
       "                    }\n",
       "                }\n",
       "            }, 500);\n",
       "            "
      ],
      "text/plain": [
       "<IPython.core.display.Javascript object>"
      ]
     },
     "metadata": {},
     "output_type": "display_data"
    }
   ],
   "source": [
    "df_sorted_topo_models_cols.groupby(\"Model\")[\"Classification\"].describe()"
   ]
  },
  {
   "cell_type": "code",
   "execution_count": 274,
   "id": "8bb8dcee",
   "metadata": {
    "scrolled": true
   },
   "outputs": [
    {
     "data": {
      "text/plain": [
       "Model              Classification    \n",
       "Linear Regression  intermediate_model     1\n",
       "Neural Networks    intermediate_model    12\n",
       "                   non_dominant_model     3\n",
       "                   dominant_model         1\n",
       "Trees              intermediate_model     2\n",
       "                   dominant_model         1\n",
       "Name: count, dtype: int64"
      ]
     },
     "execution_count": 274,
     "metadata": {},
     "output_type": "execute_result"
    },
    {
     "data": {
      "application/javascript": [
       "\n",
       "            setTimeout(function() {\n",
       "                var nbb_cell_id = 274;\n",
       "                var nbb_unformatted_code = \"df_sorted_topo_models_cols.groupby(\\\"Model\\\")[[\\\"Classification\\\"]].value_counts()\";\n",
       "                var nbb_formatted_code = \"df_sorted_topo_models_cols.groupby(\\\"Model\\\")[[\\\"Classification\\\"]].value_counts()\";\n",
       "                var nbb_cells = Jupyter.notebook.get_cells();\n",
       "                for (var i = 0; i < nbb_cells.length; ++i) {\n",
       "                    if (nbb_cells[i].input_prompt_number == nbb_cell_id) {\n",
       "                        if (nbb_cells[i].get_text() == nbb_unformatted_code) {\n",
       "                             nbb_cells[i].set_text(nbb_formatted_code);\n",
       "                        }\n",
       "                        break;\n",
       "                    }\n",
       "                }\n",
       "            }, 500);\n",
       "            "
      ],
      "text/plain": [
       "<IPython.core.display.Javascript object>"
      ]
     },
     "metadata": {},
     "output_type": "display_data"
    }
   ],
   "source": [
    "df_sorted_topo_models_cols.groupby(\"Model\")[[\"Classification\"]].value_counts()"
   ]
  },
  {
   "cell_type": "code",
   "execution_count": 275,
   "id": "9c678b45",
   "metadata": {},
   "outputs": [
    {
     "data": {
      "application/javascript": [
       "\n",
       "            setTimeout(function() {\n",
       "                var nbb_cell_id = 275;\n",
       "                var nbb_unformatted_code = \"summary_stats = df_sorted_topo_models_cols.groupby(\\\"Model\\\").agg(\\n    Total_Models=(\\\"Model\\\", \\\"count\\\"),\\n    Mean_Dominance_Count=(\\\"Dominates_Count\\\", \\\"mean\\\"),\\n    Median_Dominance_Count=(\\\"Dominates_Count\\\", \\\"median\\\"),\\n    Total_Dominated=(\\\"Dominated_Count\\\", \\\"sum\\\"),\\n    Total_Dominating=(\\\"Dominates_Count\\\", \\\"sum\\\"),\\n)\\n\\ntotal_models = summary_stats[\\n    \\\"Total_Models\\\"\\n].sum()  # Get the total number of models across all categories\\nsummary_stats[\\\"Dominance Proportion\\\"] = summary_stats[\\\"Total_Dominating\\\"] / total_models\";\n",
       "                var nbb_formatted_code = \"summary_stats = df_sorted_topo_models_cols.groupby(\\\"Model\\\").agg(\\n    Total_Models=(\\\"Model\\\", \\\"count\\\"),\\n    Mean_Dominance_Count=(\\\"Dominates_Count\\\", \\\"mean\\\"),\\n    Median_Dominance_Count=(\\\"Dominates_Count\\\", \\\"median\\\"),\\n    Total_Dominated=(\\\"Dominated_Count\\\", \\\"sum\\\"),\\n    Total_Dominating=(\\\"Dominates_Count\\\", \\\"sum\\\"),\\n)\\n\\ntotal_models = summary_stats[\\n    \\\"Total_Models\\\"\\n].sum()  # Get the total number of models across all categories\\nsummary_stats[\\\"Dominance Proportion\\\"] = summary_stats[\\\"Total_Dominating\\\"] / total_models\";\n",
       "                var nbb_cells = Jupyter.notebook.get_cells();\n",
       "                for (var i = 0; i < nbb_cells.length; ++i) {\n",
       "                    if (nbb_cells[i].input_prompt_number == nbb_cell_id) {\n",
       "                        if (nbb_cells[i].get_text() == nbb_unformatted_code) {\n",
       "                             nbb_cells[i].set_text(nbb_formatted_code);\n",
       "                        }\n",
       "                        break;\n",
       "                    }\n",
       "                }\n",
       "            }, 500);\n",
       "            "
      ],
      "text/plain": [
       "<IPython.core.display.Javascript object>"
      ]
     },
     "metadata": {},
     "output_type": "display_data"
    }
   ],
   "source": [
    "summary_stats = df_sorted_topo_models_cols.groupby(\"Model\").agg(\n",
    "    Total_Models=(\"Model\", \"count\"),\n",
    "    Mean_Dominance_Count=(\"Dominates_Count\", \"mean\"),\n",
    "    Median_Dominance_Count=(\"Dominates_Count\", \"median\"),\n",
    "    Total_Dominated=(\"Dominated_Count\", \"sum\"),\n",
    "    Total_Dominating=(\"Dominates_Count\", \"sum\"),\n",
    ")\n",
    "\n",
    "total_models = summary_stats[\n",
    "    \"Total_Models\"\n",
    "].sum()  # Get the total number of models across all categories\n",
    "summary_stats[\"Dominance Proportion\"] = summary_stats[\"Total_Dominating\"] / total_models"
   ]
  },
  {
   "cell_type": "code",
   "execution_count": 276,
   "id": "c6ff7aaa",
   "metadata": {},
   "outputs": [
    {
     "data": {
      "text/html": [
       "<div>\n",
       "<style scoped>\n",
       "    .dataframe tbody tr th:only-of-type {\n",
       "        vertical-align: middle;\n",
       "    }\n",
       "\n",
       "    .dataframe tbody tr th {\n",
       "        vertical-align: top;\n",
       "    }\n",
       "\n",
       "    .dataframe thead th {\n",
       "        text-align: right;\n",
       "    }\n",
       "</style>\n",
       "<table border=\"1\" class=\"dataframe\">\n",
       "  <thead>\n",
       "    <tr style=\"text-align: right;\">\n",
       "      <th></th>\n",
       "      <th>Total_Models</th>\n",
       "      <th>Mean_Dominance_Count</th>\n",
       "      <th>Median_Dominance_Count</th>\n",
       "      <th>Total_Dominated</th>\n",
       "      <th>Total_Dominating</th>\n",
       "      <th>Dominance Proportion</th>\n",
       "    </tr>\n",
       "    <tr>\n",
       "      <th>Model</th>\n",
       "      <th></th>\n",
       "      <th></th>\n",
       "      <th></th>\n",
       "      <th></th>\n",
       "      <th></th>\n",
       "      <th></th>\n",
       "    </tr>\n",
       "  </thead>\n",
       "  <tbody>\n",
       "    <tr>\n",
       "      <th>Linear Regression</th>\n",
       "      <td>1</td>\n",
       "      <td>8.00</td>\n",
       "      <td>8.0</td>\n",
       "      <td>7</td>\n",
       "      <td>8</td>\n",
       "      <td>0.4</td>\n",
       "    </tr>\n",
       "    <tr>\n",
       "      <th>Neural Networks</th>\n",
       "      <td>16</td>\n",
       "      <td>6.50</td>\n",
       "      <td>4.5</td>\n",
       "      <td>142</td>\n",
       "      <td>104</td>\n",
       "      <td>5.2</td>\n",
       "    </tr>\n",
       "    <tr>\n",
       "      <th>Trees</th>\n",
       "      <td>3</td>\n",
       "      <td>14.67</td>\n",
       "      <td>13.0</td>\n",
       "      <td>7</td>\n",
       "      <td>44</td>\n",
       "      <td>2.2</td>\n",
       "    </tr>\n",
       "  </tbody>\n",
       "</table>\n",
       "</div>"
      ],
      "text/plain": [
       "                   Total_Models  Mean_Dominance_Count  Median_Dominance_Count  \\\n",
       "Model                                                                           \n",
       "Linear Regression             1                  8.00                     8.0   \n",
       "Neural Networks              16                  6.50                     4.5   \n",
       "Trees                         3                 14.67                    13.0   \n",
       "\n",
       "                   Total_Dominated  Total_Dominating  Dominance Proportion  \n",
       "Model                                                                       \n",
       "Linear Regression                7                 8                   0.4  \n",
       "Neural Networks                142               104                   5.2  \n",
       "Trees                            7                44                   2.2  "
      ]
     },
     "execution_count": 276,
     "metadata": {},
     "output_type": "execute_result"
    },
    {
     "data": {
      "application/javascript": [
       "\n",
       "            setTimeout(function() {\n",
       "                var nbb_cell_id = 276;\n",
       "                var nbb_unformatted_code = \"summary_stats.round(2)\";\n",
       "                var nbb_formatted_code = \"summary_stats.round(2)\";\n",
       "                var nbb_cells = Jupyter.notebook.get_cells();\n",
       "                for (var i = 0; i < nbb_cells.length; ++i) {\n",
       "                    if (nbb_cells[i].input_prompt_number == nbb_cell_id) {\n",
       "                        if (nbb_cells[i].get_text() == nbb_unformatted_code) {\n",
       "                             nbb_cells[i].set_text(nbb_formatted_code);\n",
       "                        }\n",
       "                        break;\n",
       "                    }\n",
       "                }\n",
       "            }, 500);\n",
       "            "
      ],
      "text/plain": [
       "<IPython.core.display.Javascript object>"
      ]
     },
     "metadata": {},
     "output_type": "display_data"
    }
   ],
   "source": [
    "summary_stats.round(2)"
   ]
  },
  {
   "cell_type": "code",
   "execution_count": 277,
   "id": "cea6aa6e",
   "metadata": {},
   "outputs": [
    {
     "data": {
      "text/html": [
       "<div>\n",
       "<style scoped>\n",
       "    .dataframe tbody tr th:only-of-type {\n",
       "        vertical-align: middle;\n",
       "    }\n",
       "\n",
       "    .dataframe tbody tr th {\n",
       "        vertical-align: top;\n",
       "    }\n",
       "\n",
       "    .dataframe thead tr th {\n",
       "        text-align: left;\n",
       "    }\n",
       "\n",
       "    .dataframe thead tr:last-of-type th {\n",
       "        text-align: right;\n",
       "    }\n",
       "</style>\n",
       "<table border=\"1\" class=\"dataframe\">\n",
       "  <thead>\n",
       "    <tr>\n",
       "      <th></th>\n",
       "      <th colspan=\"8\" halign=\"left\">RMSE_mean</th>\n",
       "      <th colspan=\"2\" halign=\"left\">RMSE_std</th>\n",
       "      <th>...</th>\n",
       "      <th colspan=\"2\" halign=\"left\">Dominated_Count</th>\n",
       "      <th colspan=\"8\" halign=\"left\">Dominates_Count</th>\n",
       "    </tr>\n",
       "    <tr>\n",
       "      <th></th>\n",
       "      <th>count</th>\n",
       "      <th>mean</th>\n",
       "      <th>std</th>\n",
       "      <th>min</th>\n",
       "      <th>25%</th>\n",
       "      <th>50%</th>\n",
       "      <th>75%</th>\n",
       "      <th>max</th>\n",
       "      <th>count</th>\n",
       "      <th>mean</th>\n",
       "      <th>...</th>\n",
       "      <th>75%</th>\n",
       "      <th>max</th>\n",
       "      <th>count</th>\n",
       "      <th>mean</th>\n",
       "      <th>std</th>\n",
       "      <th>min</th>\n",
       "      <th>25%</th>\n",
       "      <th>50%</th>\n",
       "      <th>75%</th>\n",
       "      <th>max</th>\n",
       "    </tr>\n",
       "    <tr>\n",
       "      <th>Model</th>\n",
       "      <th></th>\n",
       "      <th></th>\n",
       "      <th></th>\n",
       "      <th></th>\n",
       "      <th></th>\n",
       "      <th></th>\n",
       "      <th></th>\n",
       "      <th></th>\n",
       "      <th></th>\n",
       "      <th></th>\n",
       "      <th></th>\n",
       "      <th></th>\n",
       "      <th></th>\n",
       "      <th></th>\n",
       "      <th></th>\n",
       "      <th></th>\n",
       "      <th></th>\n",
       "      <th></th>\n",
       "      <th></th>\n",
       "      <th></th>\n",
       "      <th></th>\n",
       "    </tr>\n",
       "  </thead>\n",
       "  <tbody>\n",
       "    <tr>\n",
       "      <th>Linear Regression</th>\n",
       "      <td>1.0</td>\n",
       "      <td>2.787250</td>\n",
       "      <td>NaN</td>\n",
       "      <td>2.787250</td>\n",
       "      <td>2.787250</td>\n",
       "      <td>2.787250</td>\n",
       "      <td>2.787250</td>\n",
       "      <td>2.787250</td>\n",
       "      <td>1.0</td>\n",
       "      <td>0.515494</td>\n",
       "      <td>...</td>\n",
       "      <td>7.00</td>\n",
       "      <td>7.0</td>\n",
       "      <td>1.0</td>\n",
       "      <td>8.000000</td>\n",
       "      <td>NaN</td>\n",
       "      <td>8.0</td>\n",
       "      <td>8.0</td>\n",
       "      <td>8.0</td>\n",
       "      <td>8.00</td>\n",
       "      <td>8.0</td>\n",
       "    </tr>\n",
       "    <tr>\n",
       "      <th>Neural Networks</th>\n",
       "      <td>16.0</td>\n",
       "      <td>3.567874</td>\n",
       "      <td>1.288881</td>\n",
       "      <td>1.968269</td>\n",
       "      <td>2.772547</td>\n",
       "      <td>3.282451</td>\n",
       "      <td>4.001532</td>\n",
       "      <td>6.775743</td>\n",
       "      <td>16.0</td>\n",
       "      <td>1.778408</td>\n",
       "      <td>...</td>\n",
       "      <td>12.75</td>\n",
       "      <td>16.0</td>\n",
       "      <td>16.0</td>\n",
       "      <td>6.500000</td>\n",
       "      <td>6.055301</td>\n",
       "      <td>0.0</td>\n",
       "      <td>1.0</td>\n",
       "      <td>4.5</td>\n",
       "      <td>9.25</td>\n",
       "      <td>18.0</td>\n",
       "    </tr>\n",
       "    <tr>\n",
       "      <th>Trees</th>\n",
       "      <td>3.0</td>\n",
       "      <td>2.264681</td>\n",
       "      <td>0.289844</td>\n",
       "      <td>1.930476</td>\n",
       "      <td>2.173387</td>\n",
       "      <td>2.416298</td>\n",
       "      <td>2.431783</td>\n",
       "      <td>2.447268</td>\n",
       "      <td>3.0</td>\n",
       "      <td>1.154860</td>\n",
       "      <td>...</td>\n",
       "      <td>3.50</td>\n",
       "      <td>4.0</td>\n",
       "      <td>3.0</td>\n",
       "      <td>14.666667</td>\n",
       "      <td>2.886751</td>\n",
       "      <td>13.0</td>\n",
       "      <td>13.0</td>\n",
       "      <td>13.0</td>\n",
       "      <td>15.50</td>\n",
       "      <td>18.0</td>\n",
       "    </tr>\n",
       "  </tbody>\n",
       "</table>\n",
       "<p>3 rows × 88 columns</p>\n",
       "</div>"
      ],
      "text/plain": [
       "                  RMSE_mean                                                    \\\n",
       "                      count      mean       std       min       25%       50%   \n",
       "Model                                                                           \n",
       "Linear Regression       1.0  2.787250       NaN  2.787250  2.787250  2.787250   \n",
       "Neural Networks        16.0  3.567874  1.288881  1.968269  2.772547  3.282451   \n",
       "Trees                   3.0  2.264681  0.289844  1.930476  2.173387  2.416298   \n",
       "\n",
       "                                      RMSE_std            ... Dominated_Count  \\\n",
       "                        75%       max    count      mean  ...             75%   \n",
       "Model                                                     ...                   \n",
       "Linear Regression  2.787250  2.787250      1.0  0.515494  ...            7.00   \n",
       "Neural Networks    4.001532  6.775743     16.0  1.778408  ...           12.75   \n",
       "Trees              2.431783  2.447268      3.0  1.154860  ...            3.50   \n",
       "\n",
       "                        Dominates_Count                                   \\\n",
       "                    max           count       mean       std   min   25%   \n",
       "Model                                                                      \n",
       "Linear Regression   7.0             1.0   8.000000       NaN   8.0   8.0   \n",
       "Neural Networks    16.0            16.0   6.500000  6.055301   0.0   1.0   \n",
       "Trees               4.0             3.0  14.666667  2.886751  13.0  13.0   \n",
       "\n",
       "                                      \n",
       "                    50%    75%   max  \n",
       "Model                                 \n",
       "Linear Regression   8.0   8.00   8.0  \n",
       "Neural Networks     4.5   9.25  18.0  \n",
       "Trees              13.0  15.50  18.0  \n",
       "\n",
       "[3 rows x 88 columns]"
      ]
     },
     "execution_count": 277,
     "metadata": {},
     "output_type": "execute_result"
    },
    {
     "data": {
      "application/javascript": [
       "\n",
       "            setTimeout(function() {\n",
       "                var nbb_cell_id = 277;\n",
       "                var nbb_unformatted_code = \"df_sorted_topo_models_grouped.T\";\n",
       "                var nbb_formatted_code = \"df_sorted_topo_models_grouped.T\";\n",
       "                var nbb_cells = Jupyter.notebook.get_cells();\n",
       "                for (var i = 0; i < nbb_cells.length; ++i) {\n",
       "                    if (nbb_cells[i].input_prompt_number == nbb_cell_id) {\n",
       "                        if (nbb_cells[i].get_text() == nbb_unformatted_code) {\n",
       "                             nbb_cells[i].set_text(nbb_formatted_code);\n",
       "                        }\n",
       "                        break;\n",
       "                    }\n",
       "                }\n",
       "            }, 500);\n",
       "            "
      ],
      "text/plain": [
       "<IPython.core.display.Javascript object>"
      ]
     },
     "metadata": {},
     "output_type": "display_data"
    }
   ],
   "source": [
    "df_sorted_topo_models_grouped.T"
   ]
  },
  {
   "cell_type": "markdown",
   "id": "e1473c62",
   "metadata": {},
   "source": [
    "### SCPM Analysis"
   ]
  },
  {
   "cell_type": "code",
   "execution_count": 278,
   "id": "7b54a701",
   "metadata": {},
   "outputs": [
    {
     "data": {
      "application/javascript": [
       "\n",
       "            setTimeout(function() {\n",
       "                var nbb_cell_id = 278;\n",
       "                var nbb_unformatted_code = \"cols = [\\n    # \\\"Model\\\",\\n    # \\\"Model_bkp\\\",\\n    \\\"Model_bkp_2\\\",\\n    \\\"RMSE_mean\\\",\\n    \\\"RMSE_std\\\",\\n    \\\"MAE_mean\\\",\\n    \\\"MAE_std\\\",\\n    \\\"MAPE_mean\\\",\\n    \\\"MAPE_std\\\",\\n    \\\"R2_mean\\\",\\n    \\\"R2_std\\\",\\n    \\\"SCPM\\\",\\n    \\\"Dominated_Count\\\",\\n    \\\"Dominates_Count\\\",\\n    \\\"Classification\\\",\\n    \\\"Plant\\\",\\n]\";\n",
       "                var nbb_formatted_code = \"cols = [\\n    # \\\"Model\\\",\\n    # \\\"Model_bkp\\\",\\n    \\\"Model_bkp_2\\\",\\n    \\\"RMSE_mean\\\",\\n    \\\"RMSE_std\\\",\\n    \\\"MAE_mean\\\",\\n    \\\"MAE_std\\\",\\n    \\\"MAPE_mean\\\",\\n    \\\"MAPE_std\\\",\\n    \\\"R2_mean\\\",\\n    \\\"R2_std\\\",\\n    \\\"SCPM\\\",\\n    \\\"Dominated_Count\\\",\\n    \\\"Dominates_Count\\\",\\n    \\\"Classification\\\",\\n    \\\"Plant\\\",\\n]\";\n",
       "                var nbb_cells = Jupyter.notebook.get_cells();\n",
       "                for (var i = 0; i < nbb_cells.length; ++i) {\n",
       "                    if (nbb_cells[i].input_prompt_number == nbb_cell_id) {\n",
       "                        if (nbb_cells[i].get_text() == nbb_unformatted_code) {\n",
       "                             nbb_cells[i].set_text(nbb_formatted_code);\n",
       "                        }\n",
       "                        break;\n",
       "                    }\n",
       "                }\n",
       "            }, 500);\n",
       "            "
      ],
      "text/plain": [
       "<IPython.core.display.Javascript object>"
      ]
     },
     "metadata": {},
     "output_type": "display_data"
    }
   ],
   "source": [
    "cols = [\n",
    "    # \"Model\",\n",
    "    # \"Model_bkp\",\n",
    "    \"Model_bkp_2\",\n",
    "    \"RMSE_mean\",\n",
    "    \"RMSE_std\",\n",
    "    \"MAE_mean\",\n",
    "    \"MAE_std\",\n",
    "    \"MAPE_mean\",\n",
    "    \"MAPE_std\",\n",
    "    \"R2_mean\",\n",
    "    \"R2_std\",\n",
    "    \"SCPM\",\n",
    "    \"Dominated_Count\",\n",
    "    \"Dominates_Count\",\n",
    "    \"Classification\",\n",
    "    \"Plant\",\n",
    "]"
   ]
  },
  {
   "cell_type": "markdown",
   "id": "0b8ae632",
   "metadata": {},
   "source": [
    "#### SCPM Analysis by Project"
   ]
  },
  {
   "cell_type": "code",
   "execution_count": 279,
   "id": "50021319",
   "metadata": {},
   "outputs": [
    {
     "data": {
      "application/javascript": [
       "\n",
       "            setTimeout(function() {\n",
       "                var nbb_cell_id = 279;\n",
       "                var nbb_unformatted_code = \"df_sorted_scpm = df_sorted_topo.sort_values(by=\\\"SCPM\\\").copy()\";\n",
       "                var nbb_formatted_code = \"df_sorted_scpm = df_sorted_topo.sort_values(by=\\\"SCPM\\\").copy()\";\n",
       "                var nbb_cells = Jupyter.notebook.get_cells();\n",
       "                for (var i = 0; i < nbb_cells.length; ++i) {\n",
       "                    if (nbb_cells[i].input_prompt_number == nbb_cell_id) {\n",
       "                        if (nbb_cells[i].get_text() == nbb_unformatted_code) {\n",
       "                             nbb_cells[i].set_text(nbb_formatted_code);\n",
       "                        }\n",
       "                        break;\n",
       "                    }\n",
       "                }\n",
       "            }, 500);\n",
       "            "
      ],
      "text/plain": [
       "<IPython.core.display.Javascript object>"
      ]
     },
     "metadata": {},
     "output_type": "display_data"
    }
   ],
   "source": [
    "df_sorted_scpm = df_sorted_topo.sort_values(by=\"SCPM\").copy()"
   ]
  },
  {
   "cell_type": "code",
   "execution_count": 280,
   "id": "b4da4c7d",
   "metadata": {
    "scrolled": false
   },
   "outputs": [
    {
     "data": {
      "application/javascript": [
       "\n",
       "            setTimeout(function() {\n",
       "                var nbb_cell_id = 280;\n",
       "                var nbb_unformatted_code = \"# (df_sorted_topo[cols].reset_index() == df_sorted_scpm[cols].reset_index()).all(axis=1)\\ndf_sorted_scpm[\\\"topo_scmp_order_eq\\\"] = df_sorted_topo.index == df_sorted_scpm.index\";\n",
       "                var nbb_formatted_code = \"# (df_sorted_topo[cols].reset_index() == df_sorted_scpm[cols].reset_index()).all(axis=1)\\ndf_sorted_scpm[\\\"topo_scmp_order_eq\\\"] = df_sorted_topo.index == df_sorted_scpm.index\";\n",
       "                var nbb_cells = Jupyter.notebook.get_cells();\n",
       "                for (var i = 0; i < nbb_cells.length; ++i) {\n",
       "                    if (nbb_cells[i].input_prompt_number == nbb_cell_id) {\n",
       "                        if (nbb_cells[i].get_text() == nbb_unformatted_code) {\n",
       "                             nbb_cells[i].set_text(nbb_formatted_code);\n",
       "                        }\n",
       "                        break;\n",
       "                    }\n",
       "                }\n",
       "            }, 500);\n",
       "            "
      ],
      "text/plain": [
       "<IPython.core.display.Javascript object>"
      ]
     },
     "metadata": {},
     "output_type": "display_data"
    }
   ],
   "source": [
    "# (df_sorted_topo[cols].reset_index() == df_sorted_scpm[cols].reset_index()).all(axis=1)\n",
    "df_sorted_scpm[\"topo_scmp_order_eq\"] = df_sorted_topo.index == df_sorted_scpm.index"
   ]
  },
  {
   "cell_type": "code",
   "execution_count": 281,
   "id": "c1d1c84b",
   "metadata": {
    "scrolled": false
   },
   "outputs": [
    {
     "data": {
      "text/html": [
       "<div>\n",
       "<style scoped>\n",
       "    .dataframe tbody tr th:only-of-type {\n",
       "        vertical-align: middle;\n",
       "    }\n",
       "\n",
       "    .dataframe tbody tr th {\n",
       "        vertical-align: top;\n",
       "    }\n",
       "\n",
       "    .dataframe thead th {\n",
       "        text-align: right;\n",
       "    }\n",
       "</style>\n",
       "<table border=\"1\" class=\"dataframe\">\n",
       "  <thead>\n",
       "    <tr style=\"text-align: right;\">\n",
       "      <th></th>\n",
       "      <th>Model_bkp_2</th>\n",
       "      <th>RMSE_mean</th>\n",
       "      <th>RMSE_std</th>\n",
       "      <th>MAE_mean</th>\n",
       "      <th>MAE_std</th>\n",
       "      <th>MAPE_mean</th>\n",
       "      <th>MAPE_std</th>\n",
       "      <th>R2_mean</th>\n",
       "      <th>R2_std</th>\n",
       "      <th>SCPM</th>\n",
       "      <th>Dominated_Count</th>\n",
       "      <th>Dominates_Count</th>\n",
       "      <th>Classification</th>\n",
       "      <th>Plant</th>\n",
       "      <th>topo_scmp_order_eq</th>\n",
       "    </tr>\n",
       "  </thead>\n",
       "  <tbody>\n",
       "    <tr>\n",
       "      <th>5</th>\n",
       "      <td>Random Forest</td>\n",
       "      <td>1.93</td>\n",
       "      <td>1.05</td>\n",
       "      <td>1.37</td>\n",
       "      <td>0.65</td>\n",
       "      <td>3.11</td>\n",
       "      <td>1.30</td>\n",
       "      <td>0.87</td>\n",
       "      <td>0.13</td>\n",
       "      <td>-5.40</td>\n",
       "      <td>0</td>\n",
       "      <td>18</td>\n",
       "      <td>dominant_model</td>\n",
       "      <td>c</td>\n",
       "      <td>True</td>\n",
       "    </tr>\n",
       "    <tr>\n",
       "      <th>16</th>\n",
       "      <td>Transformer_7.0</td>\n",
       "      <td>1.97</td>\n",
       "      <td>0.48</td>\n",
       "      <td>1.49</td>\n",
       "      <td>0.34</td>\n",
       "      <td>3.55</td>\n",
       "      <td>0.73</td>\n",
       "      <td>0.88</td>\n",
       "      <td>0.06</td>\n",
       "      <td>-4.53</td>\n",
       "      <td>0</td>\n",
       "      <td>18</td>\n",
       "      <td>dominant_model</td>\n",
       "      <td>c</td>\n",
       "      <td>True</td>\n",
       "    </tr>\n",
       "    <tr>\n",
       "      <th>11</th>\n",
       "      <td>LSTM_14.0</td>\n",
       "      <td>2.39</td>\n",
       "      <td>0.35</td>\n",
       "      <td>1.55</td>\n",
       "      <td>0.29</td>\n",
       "      <td>3.58</td>\n",
       "      <td>0.63</td>\n",
       "      <td>0.83</td>\n",
       "      <td>0.04</td>\n",
       "      <td>-3.93</td>\n",
       "      <td>2</td>\n",
       "      <td>16</td>\n",
       "      <td>intermediate_model</td>\n",
       "      <td>c</td>\n",
       "      <td>True</td>\n",
       "    </tr>\n",
       "    <tr>\n",
       "      <th>15</th>\n",
       "      <td>Transformer_1.0</td>\n",
       "      <td>2.17</td>\n",
       "      <td>0.67</td>\n",
       "      <td>1.64</td>\n",
       "      <td>0.50</td>\n",
       "      <td>3.83</td>\n",
       "      <td>1.12</td>\n",
       "      <td>0.85</td>\n",
       "      <td>0.08</td>\n",
       "      <td>-3.60</td>\n",
       "      <td>2</td>\n",
       "      <td>15</td>\n",
       "      <td>intermediate_model</td>\n",
       "      <td>c</td>\n",
       "      <td>True</td>\n",
       "    </tr>\n",
       "    <tr>\n",
       "      <th>18</th>\n",
       "      <td>Decision Tree</td>\n",
       "      <td>2.42</td>\n",
       "      <td>1.31</td>\n",
       "      <td>1.63</td>\n",
       "      <td>0.66</td>\n",
       "      <td>3.71</td>\n",
       "      <td>1.35</td>\n",
       "      <td>0.79</td>\n",
       "      <td>0.18</td>\n",
       "      <td>-3.49</td>\n",
       "      <td>3</td>\n",
       "      <td>13</td>\n",
       "      <td>intermediate_model</td>\n",
       "      <td>c</td>\n",
       "      <td>True</td>\n",
       "    </tr>\n",
       "  </tbody>\n",
       "</table>\n",
       "</div>"
      ],
      "text/plain": [
       "        Model_bkp_2  RMSE_mean  RMSE_std  MAE_mean  MAE_std  MAPE_mean  \\\n",
       "5     Random Forest       1.93      1.05      1.37     0.65       3.11   \n",
       "16  Transformer_7.0       1.97      0.48      1.49     0.34       3.55   \n",
       "11        LSTM_14.0       2.39      0.35      1.55     0.29       3.58   \n",
       "15  Transformer_1.0       2.17      0.67      1.64     0.50       3.83   \n",
       "18    Decision Tree       2.42      1.31      1.63     0.66       3.71   \n",
       "\n",
       "    MAPE_std  R2_mean  R2_std  SCPM  Dominated_Count  Dominates_Count  \\\n",
       "5       1.30     0.87    0.13 -5.40                0               18   \n",
       "16      0.73     0.88    0.06 -4.53                0               18   \n",
       "11      0.63     0.83    0.04 -3.93                2               16   \n",
       "15      1.12     0.85    0.08 -3.60                2               15   \n",
       "18      1.35     0.79    0.18 -3.49                3               13   \n",
       "\n",
       "        Classification Plant  topo_scmp_order_eq  \n",
       "5       dominant_model     c                True  \n",
       "16      dominant_model     c                True  \n",
       "11  intermediate_model     c                True  \n",
       "15  intermediate_model     c                True  \n",
       "18  intermediate_model     c                True  "
      ]
     },
     "execution_count": 281,
     "metadata": {},
     "output_type": "execute_result"
    },
    {
     "data": {
      "application/javascript": [
       "\n",
       "            setTimeout(function() {\n",
       "                var nbb_cell_id = 281;\n",
       "                var nbb_unformatted_code = \"df_sorted_scpm[cols + [\\\"topo_scmp_order_eq\\\"]].round(2).head(5)\";\n",
       "                var nbb_formatted_code = \"df_sorted_scpm[cols + [\\\"topo_scmp_order_eq\\\"]].round(2).head(5)\";\n",
       "                var nbb_cells = Jupyter.notebook.get_cells();\n",
       "                for (var i = 0; i < nbb_cells.length; ++i) {\n",
       "                    if (nbb_cells[i].input_prompt_number == nbb_cell_id) {\n",
       "                        if (nbb_cells[i].get_text() == nbb_unformatted_code) {\n",
       "                             nbb_cells[i].set_text(nbb_formatted_code);\n",
       "                        }\n",
       "                        break;\n",
       "                    }\n",
       "                }\n",
       "            }, 500);\n",
       "            "
      ],
      "text/plain": [
       "<IPython.core.display.Javascript object>"
      ]
     },
     "metadata": {},
     "output_type": "display_data"
    }
   ],
   "source": [
    "df_sorted_scpm[cols + [\"topo_scmp_order_eq\"]].round(2).head(5)"
   ]
  },
  {
   "cell_type": "markdown",
   "id": "ede7680e",
   "metadata": {},
   "source": [
    "### Variable Grouping: CM-P-CS"
   ]
  },
  {
   "cell_type": "code",
   "execution_count": 282,
   "id": "d9fb4f17",
   "metadata": {},
   "outputs": [
    {
     "data": {
      "text/plain": [
       "array(['Chemical + Mineralogical + Physical', 'Chemical + Mineralogical',\n",
       "       'Chemical + Mineralogical + Physical - Early CS'], dtype=object)"
      ]
     },
     "execution_count": 282,
     "metadata": {},
     "output_type": "execute_result"
    },
    {
     "data": {
      "application/javascript": [
       "\n",
       "            setTimeout(function() {\n",
       "                var nbb_cell_id = 282;\n",
       "                var nbb_unformatted_code = \"df_results[\\\"Features\\\"].unique()\";\n",
       "                var nbb_formatted_code = \"df_results[\\\"Features\\\"].unique()\";\n",
       "                var nbb_cells = Jupyter.notebook.get_cells();\n",
       "                for (var i = 0; i < nbb_cells.length; ++i) {\n",
       "                    if (nbb_cells[i].input_prompt_number == nbb_cell_id) {\n",
       "                        if (nbb_cells[i].get_text() == nbb_unformatted_code) {\n",
       "                             nbb_cells[i].set_text(nbb_formatted_code);\n",
       "                        }\n",
       "                        break;\n",
       "                    }\n",
       "                }\n",
       "            }, 500);\n",
       "            "
      ],
      "text/plain": [
       "<IPython.core.display.Javascript object>"
      ]
     },
     "metadata": {},
     "output_type": "display_data"
    }
   ],
   "source": [
    "df_results[\"Features\"].unique()"
   ]
  },
  {
   "cell_type": "code",
   "execution_count": 283,
   "id": "5e874e8c",
   "metadata": {},
   "outputs": [
    {
     "data": {
      "application/javascript": [
       "\n",
       "            setTimeout(function() {\n",
       "                var nbb_cell_id = 283;\n",
       "                var nbb_unformatted_code = \"df_results_cm_p_cs = (\\n    df_results[df_results[\\\"Features\\\"].eq(\\\"Chemical + Mineralogical + Physical\\\")]\\n    .copy()\\n    .reset_index(drop=True)\\n)\";\n",
       "                var nbb_formatted_code = \"df_results_cm_p_cs = (\\n    df_results[df_results[\\\"Features\\\"].eq(\\\"Chemical + Mineralogical + Physical\\\")]\\n    .copy()\\n    .reset_index(drop=True)\\n)\";\n",
       "                var nbb_cells = Jupyter.notebook.get_cells();\n",
       "                for (var i = 0; i < nbb_cells.length; ++i) {\n",
       "                    if (nbb_cells[i].input_prompt_number == nbb_cell_id) {\n",
       "                        if (nbb_cells[i].get_text() == nbb_unformatted_code) {\n",
       "                             nbb_cells[i].set_text(nbb_formatted_code);\n",
       "                        }\n",
       "                        break;\n",
       "                    }\n",
       "                }\n",
       "            }, 500);\n",
       "            "
      ],
      "text/plain": [
       "<IPython.core.display.Javascript object>"
      ]
     },
     "metadata": {},
     "output_type": "display_data"
    }
   ],
   "source": [
    "df_results_cm_p_cs = (\n",
    "    df_results[df_results[\"Features\"].eq(\"Chemical + Mineralogical + Physical\")]\n",
    "    .copy()\n",
    "    .reset_index(drop=True)\n",
    ")"
   ]
  },
  {
   "cell_type": "code",
   "execution_count": 284,
   "id": "76b7fb16",
   "metadata": {},
   "outputs": [
    {
     "data": {
      "text/plain": [
       "array(['Chemical + Mineralogical + Physical'], dtype=object)"
      ]
     },
     "execution_count": 284,
     "metadata": {},
     "output_type": "execute_result"
    },
    {
     "data": {
      "application/javascript": [
       "\n",
       "            setTimeout(function() {\n",
       "                var nbb_cell_id = 284;\n",
       "                var nbb_unformatted_code = \"df_results_cm_p_cs[\\\"Features\\\"].unique()\";\n",
       "                var nbb_formatted_code = \"df_results_cm_p_cs[\\\"Features\\\"].unique()\";\n",
       "                var nbb_cells = Jupyter.notebook.get_cells();\n",
       "                for (var i = 0; i < nbb_cells.length; ++i) {\n",
       "                    if (nbb_cells[i].input_prompt_number == nbb_cell_id) {\n",
       "                        if (nbb_cells[i].get_text() == nbb_unformatted_code) {\n",
       "                             nbb_cells[i].set_text(nbb_formatted_code);\n",
       "                        }\n",
       "                        break;\n",
       "                    }\n",
       "                }\n",
       "            }, 500);\n",
       "            "
      ],
      "text/plain": [
       "<IPython.core.display.Javascript object>"
      ]
     },
     "metadata": {},
     "output_type": "display_data"
    }
   ],
   "source": [
    "df_results_cm_p_cs[\"Features\"].unique()"
   ]
  },
  {
   "cell_type": "code",
   "execution_count": 285,
   "id": "710183e3",
   "metadata": {},
   "outputs": [
    {
     "data": {
      "text/plain": [
       "(40, 17)"
      ]
     },
     "execution_count": 285,
     "metadata": {},
     "output_type": "execute_result"
    },
    {
     "data": {
      "application/javascript": [
       "\n",
       "            setTimeout(function() {\n",
       "                var nbb_cell_id = 285;\n",
       "                var nbb_unformatted_code = \"df_results_cm_p.shape\";\n",
       "                var nbb_formatted_code = \"df_results_cm_p.shape\";\n",
       "                var nbb_cells = Jupyter.notebook.get_cells();\n",
       "                for (var i = 0; i < nbb_cells.length; ++i) {\n",
       "                    if (nbb_cells[i].input_prompt_number == nbb_cell_id) {\n",
       "                        if (nbb_cells[i].get_text() == nbb_unformatted_code) {\n",
       "                             nbb_cells[i].set_text(nbb_formatted_code);\n",
       "                        }\n",
       "                        break;\n",
       "                    }\n",
       "                }\n",
       "            }, 500);\n",
       "            "
      ],
      "text/plain": [
       "<IPython.core.display.Javascript object>"
      ]
     },
     "metadata": {},
     "output_type": "display_data"
    }
   ],
   "source": [
    "df_results_cm_p.shape"
   ]
  },
  {
   "cell_type": "markdown",
   "id": "80dc1081",
   "metadata": {},
   "source": [
    "### Blocking time series"
   ]
  },
  {
   "cell_type": "code",
   "execution_count": 286,
   "id": "8b5fd1bd",
   "metadata": {},
   "outputs": [
    {
     "data": {
      "text/plain": [
       "array(['Blocking Time Series Split', 'Time Series Split'], dtype=object)"
      ]
     },
     "execution_count": 286,
     "metadata": {},
     "output_type": "execute_result"
    },
    {
     "data": {
      "application/javascript": [
       "\n",
       "            setTimeout(function() {\n",
       "                var nbb_cell_id = 286;\n",
       "                var nbb_unformatted_code = \"df_results_cm_p_cs[\\\"Cross Validation\\\"].unique()\";\n",
       "                var nbb_formatted_code = \"df_results_cm_p_cs[\\\"Cross Validation\\\"].unique()\";\n",
       "                var nbb_cells = Jupyter.notebook.get_cells();\n",
       "                for (var i = 0; i < nbb_cells.length; ++i) {\n",
       "                    if (nbb_cells[i].input_prompt_number == nbb_cell_id) {\n",
       "                        if (nbb_cells[i].get_text() == nbb_unformatted_code) {\n",
       "                             nbb_cells[i].set_text(nbb_formatted_code);\n",
       "                        }\n",
       "                        break;\n",
       "                    }\n",
       "                }\n",
       "            }, 500);\n",
       "            "
      ],
      "text/plain": [
       "<IPython.core.display.Javascript object>"
      ]
     },
     "metadata": {},
     "output_type": "display_data"
    }
   ],
   "source": [
    "df_results_cm_p_cs[\"Cross Validation\"].unique()"
   ]
  },
  {
   "cell_type": "code",
   "execution_count": 287,
   "id": "5c2d16f6",
   "metadata": {},
   "outputs": [
    {
     "data": {
      "application/javascript": [
       "\n",
       "            setTimeout(function() {\n",
       "                var nbb_cell_id = 287;\n",
       "                var nbb_unformatted_code = \"df_results_cm_p_cs_btss = (\\n    df_results_cm_p_cs[\\n        df_results_cm_p_cs[\\\"Cross Validation\\\"].eq(\\\"Blocking Time Series Split\\\")\\n    ]\\n    .copy()\\n    .reset_index(drop=True)\\n)\";\n",
       "                var nbb_formatted_code = \"df_results_cm_p_cs_btss = (\\n    df_results_cm_p_cs[\\n        df_results_cm_p_cs[\\\"Cross Validation\\\"].eq(\\\"Blocking Time Series Split\\\")\\n    ]\\n    .copy()\\n    .reset_index(drop=True)\\n)\";\n",
       "                var nbb_cells = Jupyter.notebook.get_cells();\n",
       "                for (var i = 0; i < nbb_cells.length; ++i) {\n",
       "                    if (nbb_cells[i].input_prompt_number == nbb_cell_id) {\n",
       "                        if (nbb_cells[i].get_text() == nbb_unformatted_code) {\n",
       "                             nbb_cells[i].set_text(nbb_formatted_code);\n",
       "                        }\n",
       "                        break;\n",
       "                    }\n",
       "                }\n",
       "            }, 500);\n",
       "            "
      ],
      "text/plain": [
       "<IPython.core.display.Javascript object>"
      ]
     },
     "metadata": {},
     "output_type": "display_data"
    }
   ],
   "source": [
    "df_results_cm_p_cs_btss = (\n",
    "    df_results_cm_p_cs[\n",
    "        df_results_cm_p_cs[\"Cross Validation\"].eq(\"Blocking Time Series Split\")\n",
    "    ]\n",
    "    .copy()\n",
    "    .reset_index(drop=True)\n",
    ")"
   ]
  },
  {
   "cell_type": "code",
   "execution_count": 288,
   "id": "12ef9ad8",
   "metadata": {},
   "outputs": [
    {
     "data": {
      "text/plain": [
       "array(['Blocking Time Series Split'], dtype=object)"
      ]
     },
     "execution_count": 288,
     "metadata": {},
     "output_type": "execute_result"
    },
    {
     "data": {
      "application/javascript": [
       "\n",
       "            setTimeout(function() {\n",
       "                var nbb_cell_id = 288;\n",
       "                var nbb_unformatted_code = \"df_results_cm_p_cs_btss[\\\"Cross Validation\\\"].unique()\";\n",
       "                var nbb_formatted_code = \"df_results_cm_p_cs_btss[\\\"Cross Validation\\\"].unique()\";\n",
       "                var nbb_cells = Jupyter.notebook.get_cells();\n",
       "                for (var i = 0; i < nbb_cells.length; ++i) {\n",
       "                    if (nbb_cells[i].input_prompt_number == nbb_cell_id) {\n",
       "                        if (nbb_cells[i].get_text() == nbb_unformatted_code) {\n",
       "                             nbb_cells[i].set_text(nbb_formatted_code);\n",
       "                        }\n",
       "                        break;\n",
       "                    }\n",
       "                }\n",
       "            }, 500);\n",
       "            "
      ],
      "text/plain": [
       "<IPython.core.display.Javascript object>"
      ]
     },
     "metadata": {},
     "output_type": "display_data"
    }
   ],
   "source": [
    "df_results_cm_p_cs_btss[\"Cross Validation\"].unique()"
   ]
  },
  {
   "cell_type": "code",
   "execution_count": 289,
   "id": "6ffe544c",
   "metadata": {},
   "outputs": [
    {
     "data": {
      "text/plain": [
       "((37, 17), (20, 17))"
      ]
     },
     "execution_count": 289,
     "metadata": {},
     "output_type": "execute_result"
    },
    {
     "data": {
      "application/javascript": [
       "\n",
       "            setTimeout(function() {\n",
       "                var nbb_cell_id = 289;\n",
       "                var nbb_unformatted_code = \"df_results_cm_p_cs.shape, df_results_cm_p_cs_btss.shape\";\n",
       "                var nbb_formatted_code = \"df_results_cm_p_cs.shape, df_results_cm_p_cs_btss.shape\";\n",
       "                var nbb_cells = Jupyter.notebook.get_cells();\n",
       "                for (var i = 0; i < nbb_cells.length; ++i) {\n",
       "                    if (nbb_cells[i].input_prompt_number == nbb_cell_id) {\n",
       "                        if (nbb_cells[i].get_text() == nbb_unformatted_code) {\n",
       "                             nbb_cells[i].set_text(nbb_formatted_code);\n",
       "                        }\n",
       "                        break;\n",
       "                    }\n",
       "                }\n",
       "            }, 500);\n",
       "            "
      ],
      "text/plain": [
       "<IPython.core.display.Javascript object>"
      ]
     },
     "metadata": {},
     "output_type": "display_data"
    }
   ],
   "source": [
    "df_results_cm_p_cs.shape, df_results_cm_p_cs_btss.shape"
   ]
  },
  {
   "cell_type": "markdown",
   "id": "d8c9100c",
   "metadata": {},
   "source": [
    "###### SCPM computation"
   ]
  },
  {
   "cell_type": "code",
   "execution_count": 290,
   "id": "3bb29ecc",
   "metadata": {},
   "outputs": [
    {
     "data": {
      "application/javascript": [
       "\n",
       "            setTimeout(function() {\n",
       "                var nbb_cell_id = 290;\n",
       "                var nbb_unformatted_code = \"df_results_cm_p_cs_btss = compute_scpm(df_results_cm_p_cs_btss)\";\n",
       "                var nbb_formatted_code = \"df_results_cm_p_cs_btss = compute_scpm(df_results_cm_p_cs_btss)\";\n",
       "                var nbb_cells = Jupyter.notebook.get_cells();\n",
       "                for (var i = 0; i < nbb_cells.length; ++i) {\n",
       "                    if (nbb_cells[i].input_prompt_number == nbb_cell_id) {\n",
       "                        if (nbb_cells[i].get_text() == nbb_unformatted_code) {\n",
       "                             nbb_cells[i].set_text(nbb_formatted_code);\n",
       "                        }\n",
       "                        break;\n",
       "                    }\n",
       "                }\n",
       "            }, 500);\n",
       "            "
      ],
      "text/plain": [
       "<IPython.core.display.Javascript object>"
      ]
     },
     "metadata": {},
     "output_type": "display_data"
    }
   ],
   "source": [
    "df_results_cm_p_cs_btss = compute_scpm(df_results_cm_p_cs_btss)"
   ]
  },
  {
   "cell_type": "markdown",
   "id": "ef66216e",
   "metadata": {},
   "source": [
    "##### Dominance Analysis"
   ]
  },
  {
   "cell_type": "code",
   "execution_count": 291,
   "id": "b0816a37",
   "metadata": {},
   "outputs": [
    {
     "data": {
      "application/javascript": [
       "\n",
       "            setTimeout(function() {\n",
       "                var nbb_cell_id = 291;\n",
       "                var nbb_unformatted_code = \"# Per project\\ndominance_dict = make_dominance_analysis(df_results_cm_p_cs_btss)\\ndominance_matrix_cm_p_cs_btss = dominance_dict[\\\"dominance_matrix\\\"]\\ndominance_graph_cm_p_cs_btss = dominance_dict[\\\"dominance_graph\\\"]\\ndf_sorted_count = dominance_dict[\\\"df_sorted_count\\\"]\\ndf_sorted_topo = dominance_dict[\\\"df_sorted_topo\\\"]\";\n",
       "                var nbb_formatted_code = \"# Per project\\ndominance_dict = make_dominance_analysis(df_results_cm_p_cs_btss)\\ndominance_matrix_cm_p_cs_btss = dominance_dict[\\\"dominance_matrix\\\"]\\ndominance_graph_cm_p_cs_btss = dominance_dict[\\\"dominance_graph\\\"]\\ndf_sorted_count = dominance_dict[\\\"df_sorted_count\\\"]\\ndf_sorted_topo = dominance_dict[\\\"df_sorted_topo\\\"]\";\n",
       "                var nbb_cells = Jupyter.notebook.get_cells();\n",
       "                for (var i = 0; i < nbb_cells.length; ++i) {\n",
       "                    if (nbb_cells[i].input_prompt_number == nbb_cell_id) {\n",
       "                        if (nbb_cells[i].get_text() == nbb_unformatted_code) {\n",
       "                             nbb_cells[i].set_text(nbb_formatted_code);\n",
       "                        }\n",
       "                        break;\n",
       "                    }\n",
       "                }\n",
       "            }, 500);\n",
       "            "
      ],
      "text/plain": [
       "<IPython.core.display.Javascript object>"
      ]
     },
     "metadata": {},
     "output_type": "display_data"
    }
   ],
   "source": [
    "# Per project\n",
    "dominance_dict = make_dominance_analysis(df_results_cm_p_cs_btss)\n",
    "dominance_matrix_cm_p_cs_btss = dominance_dict[\"dominance_matrix\"]\n",
    "dominance_graph_cm_p_cs_btss = dominance_dict[\"dominance_graph\"]\n",
    "df_sorted_count = dominance_dict[\"df_sorted_count\"]\n",
    "df_sorted_topo = dominance_dict[\"df_sorted_topo\"]"
   ]
  },
  {
   "cell_type": "code",
   "execution_count": 292,
   "id": "0fdcb2a7",
   "metadata": {},
   "outputs": [
    {
     "data": {
      "text/plain": [
       "((20, 20), 20)"
      ]
     },
     "execution_count": 292,
     "metadata": {},
     "output_type": "execute_result"
    },
    {
     "data": {
      "application/javascript": [
       "\n",
       "            setTimeout(function() {\n",
       "                var nbb_cell_id = 292;\n",
       "                var nbb_unformatted_code = \"dominance_matrix_cm_p_cs_btss.shape, len(dominance_graph_cm_p_cs_btss)\";\n",
       "                var nbb_formatted_code = \"dominance_matrix_cm_p_cs_btss.shape, len(dominance_graph_cm_p_cs_btss)\";\n",
       "                var nbb_cells = Jupyter.notebook.get_cells();\n",
       "                for (var i = 0; i < nbb_cells.length; ++i) {\n",
       "                    if (nbb_cells[i].input_prompt_number == nbb_cell_id) {\n",
       "                        if (nbb_cells[i].get_text() == nbb_unformatted_code) {\n",
       "                             nbb_cells[i].set_text(nbb_formatted_code);\n",
       "                        }\n",
       "                        break;\n",
       "                    }\n",
       "                }\n",
       "            }, 500);\n",
       "            "
      ],
      "text/plain": [
       "<IPython.core.display.Javascript object>"
      ]
     },
     "metadata": {},
     "output_type": "display_data"
    }
   ],
   "source": [
    "dominance_matrix_cm_p_cs_btss.shape, len(dominance_graph_cm_p_cs_btss)"
   ]
  },
  {
   "cell_type": "code",
   "execution_count": 293,
   "id": "b8002b4f",
   "metadata": {},
   "outputs": [
    {
     "data": {
      "text/plain": [
       "Classification\n",
       "intermediate_model    18\n",
       "dominant_model         1\n",
       "non_dominant_model     1\n",
       "Name: count, dtype: int64"
      ]
     },
     "execution_count": 293,
     "metadata": {},
     "output_type": "execute_result"
    },
    {
     "data": {
      "application/javascript": [
       "\n",
       "            setTimeout(function() {\n",
       "                var nbb_cell_id = 293;\n",
       "                var nbb_unformatted_code = \"df_sorted_topo[\\\"Classification\\\"].value_counts()\";\n",
       "                var nbb_formatted_code = \"df_sorted_topo[\\\"Classification\\\"].value_counts()\";\n",
       "                var nbb_cells = Jupyter.notebook.get_cells();\n",
       "                for (var i = 0; i < nbb_cells.length; ++i) {\n",
       "                    if (nbb_cells[i].input_prompt_number == nbb_cell_id) {\n",
       "                        if (nbb_cells[i].get_text() == nbb_unformatted_code) {\n",
       "                             nbb_cells[i].set_text(nbb_formatted_code);\n",
       "                        }\n",
       "                        break;\n",
       "                    }\n",
       "                }\n",
       "            }, 500);\n",
       "            "
      ],
      "text/plain": [
       "<IPython.core.display.Javascript object>"
      ]
     },
     "metadata": {},
     "output_type": "display_data"
    }
   ],
   "source": [
    "df_sorted_topo[\"Classification\"].value_counts()"
   ]
  },
  {
   "cell_type": "code",
   "execution_count": 294,
   "id": "899f5d9f",
   "metadata": {
    "scrolled": false
   },
   "outputs": [
    {
     "data": {
      "application/javascript": [
       "\n",
       "            setTimeout(function() {\n",
       "                var nbb_cell_id = 294;\n",
       "                var nbb_unformatted_code = \"df_sorted_topo.to_csv(\\n    \\\"../../../../reports/results/local_models/ecics/203_c_dominance_analysis_cm_p_cs_btss.csv\\\",\\n    index=False,\\n)\";\n",
       "                var nbb_formatted_code = \"df_sorted_topo.to_csv(\\n    \\\"../../../../reports/results/local_models/ecics/203_c_dominance_analysis_cm_p_cs_btss.csv\\\",\\n    index=False,\\n)\";\n",
       "                var nbb_cells = Jupyter.notebook.get_cells();\n",
       "                for (var i = 0; i < nbb_cells.length; ++i) {\n",
       "                    if (nbb_cells[i].input_prompt_number == nbb_cell_id) {\n",
       "                        if (nbb_cells[i].get_text() == nbb_unformatted_code) {\n",
       "                             nbb_cells[i].set_text(nbb_formatted_code);\n",
       "                        }\n",
       "                        break;\n",
       "                    }\n",
       "                }\n",
       "            }, 500);\n",
       "            "
      ],
      "text/plain": [
       "<IPython.core.display.Javascript object>"
      ]
     },
     "metadata": {},
     "output_type": "display_data"
    }
   ],
   "source": [
    "df_sorted_topo.to_csv(\n",
    "    \"../../../../reports/results/local_models/ecics/203_c_dominance_analysis_cm_p_cs_btss.csv\",\n",
    "    index=False,\n",
    ")"
   ]
  },
  {
   "cell_type": "code",
   "execution_count": 295,
   "id": "c5c0ee18",
   "metadata": {},
   "outputs": [
    {
     "data": {
      "text/html": [
       "<div>\n",
       "<style scoped>\n",
       "    .dataframe tbody tr th:only-of-type {\n",
       "        vertical-align: middle;\n",
       "    }\n",
       "\n",
       "    .dataframe tbody tr th {\n",
       "        vertical-align: top;\n",
       "    }\n",
       "\n",
       "    .dataframe thead th {\n",
       "        text-align: right;\n",
       "    }\n",
       "</style>\n",
       "<table border=\"1\" class=\"dataframe\">\n",
       "  <thead>\n",
       "    <tr style=\"text-align: right;\">\n",
       "      <th></th>\n",
       "      <th>Company</th>\n",
       "      <th>Plant</th>\n",
       "      <th>Cross Validation</th>\n",
       "      <th>Features</th>\n",
       "      <th>Features_bkp</th>\n",
       "      <th>Model</th>\n",
       "      <th>Model_bkp</th>\n",
       "      <th>Model_bkp_2</th>\n",
       "      <th>Timesteps</th>\n",
       "      <th>RMSE_mean</th>\n",
       "      <th>...</th>\n",
       "      <th>MAPE_mean</th>\n",
       "      <th>R2_mean</th>\n",
       "      <th>RMSE_std</th>\n",
       "      <th>MAE_std</th>\n",
       "      <th>MAPE_std</th>\n",
       "      <th>R2_std</th>\n",
       "      <th>SCPM</th>\n",
       "      <th>Dominated_Count</th>\n",
       "      <th>Classification</th>\n",
       "      <th>Dominates_Count</th>\n",
       "    </tr>\n",
       "  </thead>\n",
       "  <tbody>\n",
       "    <tr>\n",
       "      <th>0</th>\n",
       "      <td>203</td>\n",
       "      <td>c</td>\n",
       "      <td>Blocking Time Series Split</td>\n",
       "      <td>Chemical + Mineralogical + Physical</td>\n",
       "      <td>Chemical + Physical</td>\n",
       "      <td>Trees</td>\n",
       "      <td>Random Forest</td>\n",
       "      <td>Random Forest</td>\n",
       "      <td>NaN</td>\n",
       "      <td>0.876747</td>\n",
       "      <td>...</td>\n",
       "      <td>1.544938</td>\n",
       "      <td>0.977017</td>\n",
       "      <td>0.192428</td>\n",
       "      <td>0.154084</td>\n",
       "      <td>0.326348</td>\n",
       "      <td>0.008537</td>\n",
       "      <td>-6.358553</td>\n",
       "      <td>0</td>\n",
       "      <td>dominant_model</td>\n",
       "      <td>19</td>\n",
       "    </tr>\n",
       "    <tr>\n",
       "      <th>11</th>\n",
       "      <td>203</td>\n",
       "      <td>c</td>\n",
       "      <td>Blocking Time Series Split</td>\n",
       "      <td>Chemical + Mineralogical + Physical</td>\n",
       "      <td>Chemical + Physical</td>\n",
       "      <td>Neural Networks</td>\n",
       "      <td>Transformer</td>\n",
       "      <td>Transformer_1.0</td>\n",
       "      <td>1.0</td>\n",
       "      <td>0.999045</td>\n",
       "      <td>...</td>\n",
       "      <td>1.861475</td>\n",
       "      <td>0.971209</td>\n",
       "      <td>0.060993</td>\n",
       "      <td>0.057925</td>\n",
       "      <td>0.154027</td>\n",
       "      <td>0.002508</td>\n",
       "      <td>-5.719730</td>\n",
       "      <td>1</td>\n",
       "      <td>intermediate_model</td>\n",
       "      <td>18</td>\n",
       "    </tr>\n",
       "    <tr>\n",
       "      <th>5</th>\n",
       "      <td>203</td>\n",
       "      <td>c</td>\n",
       "      <td>Blocking Time Series Split</td>\n",
       "      <td>Chemical + Mineralogical + Physical</td>\n",
       "      <td>Chemical + Physical</td>\n",
       "      <td>Trees</td>\n",
       "      <td>Decision Tree</td>\n",
       "      <td>Decision Tree</td>\n",
       "      <td>NaN</td>\n",
       "      <td>1.150395</td>\n",
       "      <td>...</td>\n",
       "      <td>2.069280</td>\n",
       "      <td>0.952045</td>\n",
       "      <td>0.512101</td>\n",
       "      <td>0.372709</td>\n",
       "      <td>0.955340</td>\n",
       "      <td>0.042966</td>\n",
       "      <td>-5.079948</td>\n",
       "      <td>2</td>\n",
       "      <td>intermediate_model</td>\n",
       "      <td>16</td>\n",
       "    </tr>\n",
       "    <tr>\n",
       "      <th>9</th>\n",
       "      <td>203</td>\n",
       "      <td>c</td>\n",
       "      <td>Blocking Time Series Split</td>\n",
       "      <td>Chemical + Mineralogical + Physical</td>\n",
       "      <td>Chemical + Physical</td>\n",
       "      <td>Linear Regression</td>\n",
       "      <td>Linear Regression</td>\n",
       "      <td>Linear Regression</td>\n",
       "      <td>NaN</td>\n",
       "      <td>1.112537</td>\n",
       "      <td>...</td>\n",
       "      <td>2.058687</td>\n",
       "      <td>0.964267</td>\n",
       "      <td>0.080123</td>\n",
       "      <td>0.073386</td>\n",
       "      <td>0.185810</td>\n",
       "      <td>0.004084</td>\n",
       "      <td>-5.229151</td>\n",
       "      <td>2</td>\n",
       "      <td>intermediate_model</td>\n",
       "      <td>16</td>\n",
       "    </tr>\n",
       "    <tr>\n",
       "      <th>10</th>\n",
       "      <td>203</td>\n",
       "      <td>c</td>\n",
       "      <td>Blocking Time Series Split</td>\n",
       "      <td>Chemical + Mineralogical + Physical</td>\n",
       "      <td>Chemical + Physical</td>\n",
       "      <td>Trees</td>\n",
       "      <td>XGBoost</td>\n",
       "      <td>XGBoost</td>\n",
       "      <td>NaN</td>\n",
       "      <td>1.489677</td>\n",
       "      <td>...</td>\n",
       "      <td>2.980154</td>\n",
       "      <td>0.935297</td>\n",
       "      <td>0.127922</td>\n",
       "      <td>0.114261</td>\n",
       "      <td>0.189484</td>\n",
       "      <td>0.012392</td>\n",
       "      <td>-3.298618</td>\n",
       "      <td>4</td>\n",
       "      <td>intermediate_model</td>\n",
       "      <td>15</td>\n",
       "    </tr>\n",
       "  </tbody>\n",
       "</table>\n",
       "<p>5 rows × 21 columns</p>\n",
       "</div>"
      ],
      "text/plain": [
       "    Company Plant            Cross Validation  \\\n",
       "0       203     c  Blocking Time Series Split   \n",
       "11      203     c  Blocking Time Series Split   \n",
       "5       203     c  Blocking Time Series Split   \n",
       "9       203     c  Blocking Time Series Split   \n",
       "10      203     c  Blocking Time Series Split   \n",
       "\n",
       "                               Features         Features_bkp  \\\n",
       "0   Chemical + Mineralogical + Physical  Chemical + Physical   \n",
       "11  Chemical + Mineralogical + Physical  Chemical + Physical   \n",
       "5   Chemical + Mineralogical + Physical  Chemical + Physical   \n",
       "9   Chemical + Mineralogical + Physical  Chemical + Physical   \n",
       "10  Chemical + Mineralogical + Physical  Chemical + Physical   \n",
       "\n",
       "                Model          Model_bkp        Model_bkp_2  Timesteps  \\\n",
       "0               Trees      Random Forest      Random Forest        NaN   \n",
       "11    Neural Networks        Transformer    Transformer_1.0        1.0   \n",
       "5               Trees      Decision Tree      Decision Tree        NaN   \n",
       "9   Linear Regression  Linear Regression  Linear Regression        NaN   \n",
       "10              Trees            XGBoost            XGBoost        NaN   \n",
       "\n",
       "    RMSE_mean  ...  MAPE_mean   R2_mean  RMSE_std   MAE_std  MAPE_std  \\\n",
       "0    0.876747  ...   1.544938  0.977017  0.192428  0.154084  0.326348   \n",
       "11   0.999045  ...   1.861475  0.971209  0.060993  0.057925  0.154027   \n",
       "5    1.150395  ...   2.069280  0.952045  0.512101  0.372709  0.955340   \n",
       "9    1.112537  ...   2.058687  0.964267  0.080123  0.073386  0.185810   \n",
       "10   1.489677  ...   2.980154  0.935297  0.127922  0.114261  0.189484   \n",
       "\n",
       "      R2_std      SCPM  Dominated_Count      Classification Dominates_Count  \n",
       "0   0.008537 -6.358553                0      dominant_model              19  \n",
       "11  0.002508 -5.719730                1  intermediate_model              18  \n",
       "5   0.042966 -5.079948                2  intermediate_model              16  \n",
       "9   0.004084 -5.229151                2  intermediate_model              16  \n",
       "10  0.012392 -3.298618                4  intermediate_model              15  \n",
       "\n",
       "[5 rows x 21 columns]"
      ]
     },
     "execution_count": 295,
     "metadata": {},
     "output_type": "execute_result"
    },
    {
     "data": {
      "application/javascript": [
       "\n",
       "            setTimeout(function() {\n",
       "                var nbb_cell_id = 295;\n",
       "                var nbb_unformatted_code = \"df_sorted_topo.head(5)\";\n",
       "                var nbb_formatted_code = \"df_sorted_topo.head(5)\";\n",
       "                var nbb_cells = Jupyter.notebook.get_cells();\n",
       "                for (var i = 0; i < nbb_cells.length; ++i) {\n",
       "                    if (nbb_cells[i].input_prompt_number == nbb_cell_id) {\n",
       "                        if (nbb_cells[i].get_text() == nbb_unformatted_code) {\n",
       "                             nbb_cells[i].set_text(nbb_formatted_code);\n",
       "                        }\n",
       "                        break;\n",
       "                    }\n",
       "                }\n",
       "            }, 500);\n",
       "            "
      ],
      "text/plain": [
       "<IPython.core.display.Javascript object>"
      ]
     },
     "metadata": {},
     "output_type": "display_data"
    }
   ],
   "source": [
    "df_sorted_topo.head(5)"
   ]
  },
  {
   "cell_type": "code",
   "execution_count": 296,
   "id": "fd2d84a6",
   "metadata": {
    "scrolled": false
   },
   "outputs": [
    {
     "data": {
      "application/javascript": [
       "\n",
       "            setTimeout(function() {\n",
       "                var nbb_cell_id = 296;\n",
       "                var nbb_unformatted_code = \"df_sorted_topo_cols = df_sorted_topo[\\n    [\\n        # \\\"Model\\\",\\n        # \\\"Model_bkp\\\",\\n        \\\"Model_bkp_2\\\",\\n        \\\"RMSE_mean\\\",\\n        \\\"RMSE_std\\\",\\n        \\\"MAE_mean\\\",\\n        \\\"MAE_std\\\",\\n        \\\"MAPE_mean\\\",\\n        \\\"MAPE_std\\\",\\n        \\\"R2_mean\\\",\\n        \\\"R2_std\\\",\\n        \\\"SCPM\\\",\\n        \\\"Dominated_Count\\\",\\n        \\\"Classification\\\",\\n        \\\"Dominates_Count\\\",\\n        \\\"Plant\\\",\\n    ]\\n].round(2)\";\n",
       "                var nbb_formatted_code = \"df_sorted_topo_cols = df_sorted_topo[\\n    [\\n        # \\\"Model\\\",\\n        # \\\"Model_bkp\\\",\\n        \\\"Model_bkp_2\\\",\\n        \\\"RMSE_mean\\\",\\n        \\\"RMSE_std\\\",\\n        \\\"MAE_mean\\\",\\n        \\\"MAE_std\\\",\\n        \\\"MAPE_mean\\\",\\n        \\\"MAPE_std\\\",\\n        \\\"R2_mean\\\",\\n        \\\"R2_std\\\",\\n        \\\"SCPM\\\",\\n        \\\"Dominated_Count\\\",\\n        \\\"Classification\\\",\\n        \\\"Dominates_Count\\\",\\n        \\\"Plant\\\",\\n    ]\\n].round(2)\";\n",
       "                var nbb_cells = Jupyter.notebook.get_cells();\n",
       "                for (var i = 0; i < nbb_cells.length; ++i) {\n",
       "                    if (nbb_cells[i].input_prompt_number == nbb_cell_id) {\n",
       "                        if (nbb_cells[i].get_text() == nbb_unformatted_code) {\n",
       "                             nbb_cells[i].set_text(nbb_formatted_code);\n",
       "                        }\n",
       "                        break;\n",
       "                    }\n",
       "                }\n",
       "            }, 500);\n",
       "            "
      ],
      "text/plain": [
       "<IPython.core.display.Javascript object>"
      ]
     },
     "metadata": {},
     "output_type": "display_data"
    }
   ],
   "source": [
    "df_sorted_topo_cols = df_sorted_topo[\n",
    "    [\n",
    "        # \"Model\",\n",
    "        # \"Model_bkp\",\n",
    "        \"Model_bkp_2\",\n",
    "        \"RMSE_mean\",\n",
    "        \"RMSE_std\",\n",
    "        \"MAE_mean\",\n",
    "        \"MAE_std\",\n",
    "        \"MAPE_mean\",\n",
    "        \"MAPE_std\",\n",
    "        \"R2_mean\",\n",
    "        \"R2_std\",\n",
    "        \"SCPM\",\n",
    "        \"Dominated_Count\",\n",
    "        \"Classification\",\n",
    "        \"Dominates_Count\",\n",
    "        \"Plant\",\n",
    "    ]\n",
    "].round(2)"
   ]
  },
  {
   "cell_type": "markdown",
   "id": "82d5b517",
   "metadata": {},
   "source": [
    "###### Dominant Models"
   ]
  },
  {
   "cell_type": "code",
   "execution_count": 297,
   "id": "c394736a",
   "metadata": {},
   "outputs": [
    {
     "data": {
      "text/html": [
       "<div>\n",
       "<style scoped>\n",
       "    .dataframe tbody tr th:only-of-type {\n",
       "        vertical-align: middle;\n",
       "    }\n",
       "\n",
       "    .dataframe tbody tr th {\n",
       "        vertical-align: top;\n",
       "    }\n",
       "\n",
       "    .dataframe thead th {\n",
       "        text-align: right;\n",
       "    }\n",
       "</style>\n",
       "<table border=\"1\" class=\"dataframe\">\n",
       "  <thead>\n",
       "    <tr style=\"text-align: right;\">\n",
       "      <th></th>\n",
       "      <th>Model_bkp_2</th>\n",
       "      <th>RMSE_mean</th>\n",
       "      <th>RMSE_std</th>\n",
       "      <th>MAE_mean</th>\n",
       "      <th>MAE_std</th>\n",
       "      <th>MAPE_mean</th>\n",
       "      <th>MAPE_std</th>\n",
       "      <th>R2_mean</th>\n",
       "      <th>R2_std</th>\n",
       "      <th>SCPM</th>\n",
       "      <th>Dominated_Count</th>\n",
       "      <th>Classification</th>\n",
       "      <th>Dominates_Count</th>\n",
       "      <th>Plant</th>\n",
       "    </tr>\n",
       "  </thead>\n",
       "  <tbody>\n",
       "    <tr>\n",
       "      <th>0</th>\n",
       "      <td>Random Forest</td>\n",
       "      <td>0.88</td>\n",
       "      <td>0.19</td>\n",
       "      <td>0.66</td>\n",
       "      <td>0.15</td>\n",
       "      <td>1.54</td>\n",
       "      <td>0.33</td>\n",
       "      <td>0.98</td>\n",
       "      <td>0.01</td>\n",
       "      <td>-6.36</td>\n",
       "      <td>0</td>\n",
       "      <td>dominant_model</td>\n",
       "      <td>19</td>\n",
       "      <td>c</td>\n",
       "    </tr>\n",
       "    <tr>\n",
       "      <th>11</th>\n",
       "      <td>Transformer_1.0</td>\n",
       "      <td>1.00</td>\n",
       "      <td>0.06</td>\n",
       "      <td>0.78</td>\n",
       "      <td>0.06</td>\n",
       "      <td>1.86</td>\n",
       "      <td>0.15</td>\n",
       "      <td>0.97</td>\n",
       "      <td>0.00</td>\n",
       "      <td>-5.72</td>\n",
       "      <td>1</td>\n",
       "      <td>intermediate_model</td>\n",
       "      <td>18</td>\n",
       "      <td>c</td>\n",
       "    </tr>\n",
       "    <tr>\n",
       "      <th>9</th>\n",
       "      <td>Linear Regression</td>\n",
       "      <td>1.11</td>\n",
       "      <td>0.08</td>\n",
       "      <td>0.87</td>\n",
       "      <td>0.07</td>\n",
       "      <td>2.06</td>\n",
       "      <td>0.19</td>\n",
       "      <td>0.96</td>\n",
       "      <td>0.00</td>\n",
       "      <td>-5.23</td>\n",
       "      <td>2</td>\n",
       "      <td>intermediate_model</td>\n",
       "      <td>16</td>\n",
       "      <td>c</td>\n",
       "    </tr>\n",
       "    <tr>\n",
       "      <th>5</th>\n",
       "      <td>Decision Tree</td>\n",
       "      <td>1.15</td>\n",
       "      <td>0.51</td>\n",
       "      <td>0.86</td>\n",
       "      <td>0.37</td>\n",
       "      <td>2.07</td>\n",
       "      <td>0.96</td>\n",
       "      <td>0.95</td>\n",
       "      <td>0.04</td>\n",
       "      <td>-5.08</td>\n",
       "      <td>2</td>\n",
       "      <td>intermediate_model</td>\n",
       "      <td>16</td>\n",
       "      <td>c</td>\n",
       "    </tr>\n",
       "    <tr>\n",
       "      <th>10</th>\n",
       "      <td>XGBoost</td>\n",
       "      <td>1.49</td>\n",
       "      <td>0.13</td>\n",
       "      <td>1.19</td>\n",
       "      <td>0.11</td>\n",
       "      <td>2.98</td>\n",
       "      <td>0.19</td>\n",
       "      <td>0.94</td>\n",
       "      <td>0.01</td>\n",
       "      <td>-3.30</td>\n",
       "      <td>4</td>\n",
       "      <td>intermediate_model</td>\n",
       "      <td>15</td>\n",
       "      <td>c</td>\n",
       "    </tr>\n",
       "  </tbody>\n",
       "</table>\n",
       "</div>"
      ],
      "text/plain": [
       "          Model_bkp_2  RMSE_mean  RMSE_std  MAE_mean  MAE_std  MAPE_mean  \\\n",
       "0       Random Forest       0.88      0.19      0.66     0.15       1.54   \n",
       "11    Transformer_1.0       1.00      0.06      0.78     0.06       1.86   \n",
       "9   Linear Regression       1.11      0.08      0.87     0.07       2.06   \n",
       "5       Decision Tree       1.15      0.51      0.86     0.37       2.07   \n",
       "10            XGBoost       1.49      0.13      1.19     0.11       2.98   \n",
       "\n",
       "    MAPE_std  R2_mean  R2_std  SCPM  Dominated_Count      Classification  \\\n",
       "0       0.33     0.98    0.01 -6.36                0      dominant_model   \n",
       "11      0.15     0.97    0.00 -5.72                1  intermediate_model   \n",
       "9       0.19     0.96    0.00 -5.23                2  intermediate_model   \n",
       "5       0.96     0.95    0.04 -5.08                2  intermediate_model   \n",
       "10      0.19     0.94    0.01 -3.30                4  intermediate_model   \n",
       "\n",
       "    Dominates_Count Plant  \n",
       "0                19     c  \n",
       "11               18     c  \n",
       "9                16     c  \n",
       "5                16     c  \n",
       "10               15     c  "
      ]
     },
     "execution_count": 297,
     "metadata": {},
     "output_type": "execute_result"
    },
    {
     "data": {
      "application/javascript": [
       "\n",
       "            setTimeout(function() {\n",
       "                var nbb_cell_id = 297;\n",
       "                var nbb_unformatted_code = \"# Top 5\\ndf_sorted_topo_cols.sort_values(\\n    by=[\\\"Dominates_Count\\\", \\\"SCPM\\\"], ascending=[False, True]\\n).iloc[0:5].round(2)\";\n",
       "                var nbb_formatted_code = \"# Top 5\\ndf_sorted_topo_cols.sort_values(\\n    by=[\\\"Dominates_Count\\\", \\\"SCPM\\\"], ascending=[False, True]\\n).iloc[0:5].round(2)\";\n",
       "                var nbb_cells = Jupyter.notebook.get_cells();\n",
       "                for (var i = 0; i < nbb_cells.length; ++i) {\n",
       "                    if (nbb_cells[i].input_prompt_number == nbb_cell_id) {\n",
       "                        if (nbb_cells[i].get_text() == nbb_unformatted_code) {\n",
       "                             nbb_cells[i].set_text(nbb_formatted_code);\n",
       "                        }\n",
       "                        break;\n",
       "                    }\n",
       "                }\n",
       "            }, 500);\n",
       "            "
      ],
      "text/plain": [
       "<IPython.core.display.Javascript object>"
      ]
     },
     "metadata": {},
     "output_type": "display_data"
    }
   ],
   "source": [
    "# Top 5\n",
    "df_sorted_topo_cols.sort_values(\n",
    "    by=[\"Dominates_Count\", \"SCPM\"], ascending=[False, True]\n",
    ").iloc[0:5].round(2)"
   ]
  },
  {
   "cell_type": "code",
   "execution_count": 298,
   "id": "f657c01f",
   "metadata": {},
   "outputs": [
    {
     "data": {
      "text/plain": [
       "(1, 14)"
      ]
     },
     "execution_count": 298,
     "metadata": {},
     "output_type": "execute_result"
    },
    {
     "data": {
      "application/javascript": [
       "\n",
       "            setTimeout(function() {\n",
       "                var nbb_cell_id = 298;\n",
       "                var nbb_unformatted_code = \"df_sorted_topo_cols[df_sorted_topo_cols[\\\"Classification\\\"].eq(\\\"dominant_model\\\")].shape\";\n",
       "                var nbb_formatted_code = \"df_sorted_topo_cols[df_sorted_topo_cols[\\\"Classification\\\"].eq(\\\"dominant_model\\\")].shape\";\n",
       "                var nbb_cells = Jupyter.notebook.get_cells();\n",
       "                for (var i = 0; i < nbb_cells.length; ++i) {\n",
       "                    if (nbb_cells[i].input_prompt_number == nbb_cell_id) {\n",
       "                        if (nbb_cells[i].get_text() == nbb_unformatted_code) {\n",
       "                             nbb_cells[i].set_text(nbb_formatted_code);\n",
       "                        }\n",
       "                        break;\n",
       "                    }\n",
       "                }\n",
       "            }, 500);\n",
       "            "
      ],
      "text/plain": [
       "<IPython.core.display.Javascript object>"
      ]
     },
     "metadata": {},
     "output_type": "display_data"
    }
   ],
   "source": [
    "df_sorted_topo_cols[df_sorted_topo_cols[\"Classification\"].eq(\"dominant_model\")].shape"
   ]
  },
  {
   "cell_type": "markdown",
   "id": "787e7e7d",
   "metadata": {},
   "source": [
    "###### Intermediate models"
   ]
  },
  {
   "cell_type": "code",
   "execution_count": 299,
   "id": "91d0dba8",
   "metadata": {},
   "outputs": [
    {
     "data": {
      "text/html": [
       "<div>\n",
       "<style scoped>\n",
       "    .dataframe tbody tr th:only-of-type {\n",
       "        vertical-align: middle;\n",
       "    }\n",
       "\n",
       "    .dataframe tbody tr th {\n",
       "        vertical-align: top;\n",
       "    }\n",
       "\n",
       "    .dataframe thead th {\n",
       "        text-align: right;\n",
       "    }\n",
       "</style>\n",
       "<table border=\"1\" class=\"dataframe\">\n",
       "  <thead>\n",
       "    <tr style=\"text-align: right;\">\n",
       "      <th></th>\n",
       "      <th>Model_bkp_2</th>\n",
       "      <th>RMSE_mean</th>\n",
       "      <th>RMSE_std</th>\n",
       "      <th>MAE_mean</th>\n",
       "      <th>MAE_std</th>\n",
       "      <th>MAPE_mean</th>\n",
       "      <th>MAPE_std</th>\n",
       "      <th>R2_mean</th>\n",
       "      <th>R2_std</th>\n",
       "      <th>SCPM</th>\n",
       "      <th>Dominated_Count</th>\n",
       "      <th>Classification</th>\n",
       "      <th>Dominates_Count</th>\n",
       "      <th>Plant</th>\n",
       "    </tr>\n",
       "  </thead>\n",
       "  <tbody>\n",
       "    <tr>\n",
       "      <th>11</th>\n",
       "      <td>Transformer_1.0</td>\n",
       "      <td>1.00</td>\n",
       "      <td>0.06</td>\n",
       "      <td>0.78</td>\n",
       "      <td>0.06</td>\n",
       "      <td>1.86</td>\n",
       "      <td>0.15</td>\n",
       "      <td>0.97</td>\n",
       "      <td>0.00</td>\n",
       "      <td>-5.72</td>\n",
       "      <td>1</td>\n",
       "      <td>intermediate_model</td>\n",
       "      <td>18</td>\n",
       "      <td>c</td>\n",
       "    </tr>\n",
       "    <tr>\n",
       "      <th>9</th>\n",
       "      <td>Linear Regression</td>\n",
       "      <td>1.11</td>\n",
       "      <td>0.08</td>\n",
       "      <td>0.87</td>\n",
       "      <td>0.07</td>\n",
       "      <td>2.06</td>\n",
       "      <td>0.19</td>\n",
       "      <td>0.96</td>\n",
       "      <td>0.00</td>\n",
       "      <td>-5.23</td>\n",
       "      <td>2</td>\n",
       "      <td>intermediate_model</td>\n",
       "      <td>16</td>\n",
       "      <td>c</td>\n",
       "    </tr>\n",
       "    <tr>\n",
       "      <th>5</th>\n",
       "      <td>Decision Tree</td>\n",
       "      <td>1.15</td>\n",
       "      <td>0.51</td>\n",
       "      <td>0.86</td>\n",
       "      <td>0.37</td>\n",
       "      <td>2.07</td>\n",
       "      <td>0.96</td>\n",
       "      <td>0.95</td>\n",
       "      <td>0.04</td>\n",
       "      <td>-5.08</td>\n",
       "      <td>2</td>\n",
       "      <td>intermediate_model</td>\n",
       "      <td>16</td>\n",
       "      <td>c</td>\n",
       "    </tr>\n",
       "  </tbody>\n",
       "</table>\n",
       "</div>"
      ],
      "text/plain": [
       "          Model_bkp_2  RMSE_mean  RMSE_std  MAE_mean  MAE_std  MAPE_mean  \\\n",
       "11    Transformer_1.0       1.00      0.06      0.78     0.06       1.86   \n",
       "9   Linear Regression       1.11      0.08      0.87     0.07       2.06   \n",
       "5       Decision Tree       1.15      0.51      0.86     0.37       2.07   \n",
       "\n",
       "    MAPE_std  R2_mean  R2_std  SCPM  Dominated_Count      Classification  \\\n",
       "11      0.15     0.97    0.00 -5.72                1  intermediate_model   \n",
       "9       0.19     0.96    0.00 -5.23                2  intermediate_model   \n",
       "5       0.96     0.95    0.04 -5.08                2  intermediate_model   \n",
       "\n",
       "    Dominates_Count Plant  \n",
       "11               18     c  \n",
       "9                16     c  \n",
       "5                16     c  "
      ]
     },
     "execution_count": 299,
     "metadata": {},
     "output_type": "execute_result"
    },
    {
     "data": {
      "application/javascript": [
       "\n",
       "            setTimeout(function() {\n",
       "                var nbb_cell_id = 299;\n",
       "                var nbb_unformatted_code = \"df_sorted_topo_cols[\\n    df_sorted_topo_cols[\\\"Classification\\\"].eq(\\\"intermediate_model\\\")\\n].sort_values(by=[\\\"Dominates_Count\\\", \\\"SCPM\\\"], ascending=[False, True]).iloc[:3]\";\n",
       "                var nbb_formatted_code = \"df_sorted_topo_cols[\\n    df_sorted_topo_cols[\\\"Classification\\\"].eq(\\\"intermediate_model\\\")\\n].sort_values(by=[\\\"Dominates_Count\\\", \\\"SCPM\\\"], ascending=[False, True]).iloc[:3]\";\n",
       "                var nbb_cells = Jupyter.notebook.get_cells();\n",
       "                for (var i = 0; i < nbb_cells.length; ++i) {\n",
       "                    if (nbb_cells[i].input_prompt_number == nbb_cell_id) {\n",
       "                        if (nbb_cells[i].get_text() == nbb_unformatted_code) {\n",
       "                             nbb_cells[i].set_text(nbb_formatted_code);\n",
       "                        }\n",
       "                        break;\n",
       "                    }\n",
       "                }\n",
       "            }, 500);\n",
       "            "
      ],
      "text/plain": [
       "<IPython.core.display.Javascript object>"
      ]
     },
     "metadata": {},
     "output_type": "display_data"
    }
   ],
   "source": [
    "df_sorted_topo_cols[\n",
    "    df_sorted_topo_cols[\"Classification\"].eq(\"intermediate_model\")\n",
    "].sort_values(by=[\"Dominates_Count\", \"SCPM\"], ascending=[False, True]).iloc[:3]"
   ]
  },
  {
   "cell_type": "code",
   "execution_count": 300,
   "id": "bcb88b20",
   "metadata": {},
   "outputs": [
    {
     "data": {
      "text/plain": [
       "(18, 14)"
      ]
     },
     "execution_count": 300,
     "metadata": {},
     "output_type": "execute_result"
    },
    {
     "data": {
      "application/javascript": [
       "\n",
       "            setTimeout(function() {\n",
       "                var nbb_cell_id = 300;\n",
       "                var nbb_unformatted_code = \"df_sorted_topo_cols[\\n    df_sorted_topo_cols[\\\"Classification\\\"].eq(\\\"intermediate_model\\\")\\n].shape\";\n",
       "                var nbb_formatted_code = \"df_sorted_topo_cols[\\n    df_sorted_topo_cols[\\\"Classification\\\"].eq(\\\"intermediate_model\\\")\\n].shape\";\n",
       "                var nbb_cells = Jupyter.notebook.get_cells();\n",
       "                for (var i = 0; i < nbb_cells.length; ++i) {\n",
       "                    if (nbb_cells[i].input_prompt_number == nbb_cell_id) {\n",
       "                        if (nbb_cells[i].get_text() == nbb_unformatted_code) {\n",
       "                             nbb_cells[i].set_text(nbb_formatted_code);\n",
       "                        }\n",
       "                        break;\n",
       "                    }\n",
       "                }\n",
       "            }, 500);\n",
       "            "
      ],
      "text/plain": [
       "<IPython.core.display.Javascript object>"
      ]
     },
     "metadata": {},
     "output_type": "display_data"
    }
   ],
   "source": [
    "df_sorted_topo_cols[\n",
    "    df_sorted_topo_cols[\"Classification\"].eq(\"intermediate_model\")\n",
    "].shape"
   ]
  },
  {
   "cell_type": "markdown",
   "id": "004f6e74",
   "metadata": {},
   "source": [
    "###### non-dominant models"
   ]
  },
  {
   "cell_type": "code",
   "execution_count": 301,
   "id": "5914642e",
   "metadata": {},
   "outputs": [
    {
     "data": {
      "text/html": [
       "<div>\n",
       "<style scoped>\n",
       "    .dataframe tbody tr th:only-of-type {\n",
       "        vertical-align: middle;\n",
       "    }\n",
       "\n",
       "    .dataframe tbody tr th {\n",
       "        vertical-align: top;\n",
       "    }\n",
       "\n",
       "    .dataframe thead th {\n",
       "        text-align: right;\n",
       "    }\n",
       "</style>\n",
       "<table border=\"1\" class=\"dataframe\">\n",
       "  <thead>\n",
       "    <tr style=\"text-align: right;\">\n",
       "      <th></th>\n",
       "      <th>Model_bkp_2</th>\n",
       "      <th>RMSE_mean</th>\n",
       "      <th>RMSE_std</th>\n",
       "      <th>MAE_mean</th>\n",
       "      <th>MAE_std</th>\n",
       "      <th>MAPE_mean</th>\n",
       "      <th>MAPE_std</th>\n",
       "      <th>R2_mean</th>\n",
       "      <th>R2_std</th>\n",
       "      <th>SCPM</th>\n",
       "      <th>Dominated_Count</th>\n",
       "      <th>Classification</th>\n",
       "      <th>Dominates_Count</th>\n",
       "      <th>Plant</th>\n",
       "    </tr>\n",
       "  </thead>\n",
       "  <tbody>\n",
       "    <tr>\n",
       "      <th>18</th>\n",
       "      <td>BidirectionalLSTM_7.0</td>\n",
       "      <td>3.73</td>\n",
       "      <td>2.0</td>\n",
       "      <td>2.94</td>\n",
       "      <td>1.98</td>\n",
       "      <td>7.11</td>\n",
       "      <td>4.53</td>\n",
       "      <td>0.5</td>\n",
       "      <td>0.52</td>\n",
       "      <td>9.28</td>\n",
       "      <td>19</td>\n",
       "      <td>non_dominant_model</td>\n",
       "      <td>0</td>\n",
       "      <td>c</td>\n",
       "    </tr>\n",
       "  </tbody>\n",
       "</table>\n",
       "</div>"
      ],
      "text/plain": [
       "              Model_bkp_2  RMSE_mean  RMSE_std  MAE_mean  MAE_std  MAPE_mean  \\\n",
       "18  BidirectionalLSTM_7.0       3.73       2.0      2.94     1.98       7.11   \n",
       "\n",
       "    MAPE_std  R2_mean  R2_std  SCPM  Dominated_Count      Classification  \\\n",
       "18      4.53      0.5    0.52  9.28               19  non_dominant_model   \n",
       "\n",
       "    Dominates_Count Plant  \n",
       "18                0     c  "
      ]
     },
     "execution_count": 301,
     "metadata": {},
     "output_type": "execute_result"
    },
    {
     "data": {
      "application/javascript": [
       "\n",
       "            setTimeout(function() {\n",
       "                var nbb_cell_id = 301;\n",
       "                var nbb_unformatted_code = \"df_sorted_topo_cols[\\n    df_sorted_topo_cols[\\\"Classification\\\"].eq(\\\"non_dominant_model\\\")\\n].sort_values(by=[\\\"Dominated_Count\\\", \\\"SCPM\\\"], ascending=[True, True]).iloc[:6]\";\n",
       "                var nbb_formatted_code = \"df_sorted_topo_cols[\\n    df_sorted_topo_cols[\\\"Classification\\\"].eq(\\\"non_dominant_model\\\")\\n].sort_values(by=[\\\"Dominated_Count\\\", \\\"SCPM\\\"], ascending=[True, True]).iloc[:6]\";\n",
       "                var nbb_cells = Jupyter.notebook.get_cells();\n",
       "                for (var i = 0; i < nbb_cells.length; ++i) {\n",
       "                    if (nbb_cells[i].input_prompt_number == nbb_cell_id) {\n",
       "                        if (nbb_cells[i].get_text() == nbb_unformatted_code) {\n",
       "                             nbb_cells[i].set_text(nbb_formatted_code);\n",
       "                        }\n",
       "                        break;\n",
       "                    }\n",
       "                }\n",
       "            }, 500);\n",
       "            "
      ],
      "text/plain": [
       "<IPython.core.display.Javascript object>"
      ]
     },
     "metadata": {},
     "output_type": "display_data"
    }
   ],
   "source": [
    "df_sorted_topo_cols[\n",
    "    df_sorted_topo_cols[\"Classification\"].eq(\"non_dominant_model\")\n",
    "].sort_values(by=[\"Dominated_Count\", \"SCPM\"], ascending=[True, True]).iloc[:6]"
   ]
  },
  {
   "cell_type": "code",
   "execution_count": 302,
   "id": "d6c76498",
   "metadata": {},
   "outputs": [
    {
     "data": {
      "text/plain": [
       "(1, 14)"
      ]
     },
     "execution_count": 302,
     "metadata": {},
     "output_type": "execute_result"
    },
    {
     "data": {
      "application/javascript": [
       "\n",
       "            setTimeout(function() {\n",
       "                var nbb_cell_id = 302;\n",
       "                var nbb_unformatted_code = \"df_sorted_topo_cols[\\n    df_sorted_topo_cols[\\\"Classification\\\"].eq(\\\"non_dominant_model\\\")\\n].shape\";\n",
       "                var nbb_formatted_code = \"df_sorted_topo_cols[\\n    df_sorted_topo_cols[\\\"Classification\\\"].eq(\\\"non_dominant_model\\\")\\n].shape\";\n",
       "                var nbb_cells = Jupyter.notebook.get_cells();\n",
       "                for (var i = 0; i < nbb_cells.length; ++i) {\n",
       "                    if (nbb_cells[i].input_prompt_number == nbb_cell_id) {\n",
       "                        if (nbb_cells[i].get_text() == nbb_unformatted_code) {\n",
       "                             nbb_cells[i].set_text(nbb_formatted_code);\n",
       "                        }\n",
       "                        break;\n",
       "                    }\n",
       "                }\n",
       "            }, 500);\n",
       "            "
      ],
      "text/plain": [
       "<IPython.core.display.Javascript object>"
      ]
     },
     "metadata": {},
     "output_type": "display_data"
    }
   ],
   "source": [
    "df_sorted_topo_cols[\n",
    "    df_sorted_topo_cols[\"Classification\"].eq(\"non_dominant_model\")\n",
    "].shape"
   ]
  },
  {
   "cell_type": "markdown",
   "id": "ceceba81",
   "metadata": {},
   "source": [
    "###### Statistics per model type"
   ]
  },
  {
   "cell_type": "code",
   "execution_count": 303,
   "id": "509fea05",
   "metadata": {},
   "outputs": [
    {
     "data": {
      "application/javascript": [
       "\n",
       "            setTimeout(function() {\n",
       "                var nbb_cell_id = 303;\n",
       "                var nbb_unformatted_code = \"df_sorted_topo_models_cols = df_sorted_topo[\\n    [\\n        \\\"Model\\\",\\n        # \\\"Model_bkp\\\",\\n        # \\\"Model_bkp_2\\\",\\n        \\\"RMSE_mean\\\",\\n        \\\"RMSE_std\\\",\\n        \\\"MAE_mean\\\",\\n        \\\"MAE_std\\\",\\n        \\\"MAPE_mean\\\",\\n        \\\"MAPE_std\\\",\\n        \\\"R2_mean\\\",\\n        \\\"R2_std\\\",\\n        \\\"SCPM\\\",\\n        \\\"Dominated_Count\\\",\\n        \\\"Dominates_Count\\\",\\n        \\\"Classification\\\",\\n        \\\"Plant\\\",\\n    ]\\n]  # .round(2)\";\n",
       "                var nbb_formatted_code = \"df_sorted_topo_models_cols = df_sorted_topo[\\n    [\\n        \\\"Model\\\",\\n        # \\\"Model_bkp\\\",\\n        # \\\"Model_bkp_2\\\",\\n        \\\"RMSE_mean\\\",\\n        \\\"RMSE_std\\\",\\n        \\\"MAE_mean\\\",\\n        \\\"MAE_std\\\",\\n        \\\"MAPE_mean\\\",\\n        \\\"MAPE_std\\\",\\n        \\\"R2_mean\\\",\\n        \\\"R2_std\\\",\\n        \\\"SCPM\\\",\\n        \\\"Dominated_Count\\\",\\n        \\\"Dominates_Count\\\",\\n        \\\"Classification\\\",\\n        \\\"Plant\\\",\\n    ]\\n]  # .round(2)\";\n",
       "                var nbb_cells = Jupyter.notebook.get_cells();\n",
       "                for (var i = 0; i < nbb_cells.length; ++i) {\n",
       "                    if (nbb_cells[i].input_prompt_number == nbb_cell_id) {\n",
       "                        if (nbb_cells[i].get_text() == nbb_unformatted_code) {\n",
       "                             nbb_cells[i].set_text(nbb_formatted_code);\n",
       "                        }\n",
       "                        break;\n",
       "                    }\n",
       "                }\n",
       "            }, 500);\n",
       "            "
      ],
      "text/plain": [
       "<IPython.core.display.Javascript object>"
      ]
     },
     "metadata": {},
     "output_type": "display_data"
    }
   ],
   "source": [
    "df_sorted_topo_models_cols = df_sorted_topo[\n",
    "    [\n",
    "        \"Model\",\n",
    "        # \"Model_bkp\",\n",
    "        # \"Model_bkp_2\",\n",
    "        \"RMSE_mean\",\n",
    "        \"RMSE_std\",\n",
    "        \"MAE_mean\",\n",
    "        \"MAE_std\",\n",
    "        \"MAPE_mean\",\n",
    "        \"MAPE_std\",\n",
    "        \"R2_mean\",\n",
    "        \"R2_std\",\n",
    "        \"SCPM\",\n",
    "        \"Dominated_Count\",\n",
    "        \"Dominates_Count\",\n",
    "        \"Classification\",\n",
    "        \"Plant\",\n",
    "    ]\n",
    "]  # .round(2)"
   ]
  },
  {
   "cell_type": "code",
   "execution_count": 304,
   "id": "06819f6a",
   "metadata": {},
   "outputs": [
    {
     "data": {
      "text/plain": [
       "Model\n",
       "Neural Networks      16\n",
       "Trees                 3\n",
       "Linear Regression     1\n",
       "Name: count, dtype: int64"
      ]
     },
     "execution_count": 304,
     "metadata": {},
     "output_type": "execute_result"
    },
    {
     "data": {
      "application/javascript": [
       "\n",
       "            setTimeout(function() {\n",
       "                var nbb_cell_id = 304;\n",
       "                var nbb_unformatted_code = \"df_sorted_topo[\\\"Model\\\"].value_counts()\";\n",
       "                var nbb_formatted_code = \"df_sorted_topo[\\\"Model\\\"].value_counts()\";\n",
       "                var nbb_cells = Jupyter.notebook.get_cells();\n",
       "                for (var i = 0; i < nbb_cells.length; ++i) {\n",
       "                    if (nbb_cells[i].input_prompt_number == nbb_cell_id) {\n",
       "                        if (nbb_cells[i].get_text() == nbb_unformatted_code) {\n",
       "                             nbb_cells[i].set_text(nbb_formatted_code);\n",
       "                        }\n",
       "                        break;\n",
       "                    }\n",
       "                }\n",
       "            }, 500);\n",
       "            "
      ],
      "text/plain": [
       "<IPython.core.display.Javascript object>"
      ]
     },
     "metadata": {},
     "output_type": "display_data"
    }
   ],
   "source": [
    "df_sorted_topo[\"Model\"].value_counts()"
   ]
  },
  {
   "cell_type": "code",
   "execution_count": 305,
   "id": "1fc615e5",
   "metadata": {},
   "outputs": [
    {
     "data": {
      "application/javascript": [
       "\n",
       "            setTimeout(function() {\n",
       "                var nbb_cell_id = 305;\n",
       "                var nbb_unformatted_code = \"df_sorted_topo_models_grouped = df_sorted_topo_models_cols.groupby(\\\"Model\\\").describe().T\";\n",
       "                var nbb_formatted_code = \"df_sorted_topo_models_grouped = df_sorted_topo_models_cols.groupby(\\\"Model\\\").describe().T\";\n",
       "                var nbb_cells = Jupyter.notebook.get_cells();\n",
       "                for (var i = 0; i < nbb_cells.length; ++i) {\n",
       "                    if (nbb_cells[i].input_prompt_number == nbb_cell_id) {\n",
       "                        if (nbb_cells[i].get_text() == nbb_unformatted_code) {\n",
       "                             nbb_cells[i].set_text(nbb_formatted_code);\n",
       "                        }\n",
       "                        break;\n",
       "                    }\n",
       "                }\n",
       "            }, 500);\n",
       "            "
      ],
      "text/plain": [
       "<IPython.core.display.Javascript object>"
      ]
     },
     "metadata": {},
     "output_type": "display_data"
    }
   ],
   "source": [
    "df_sorted_topo_models_grouped = df_sorted_topo_models_cols.groupby(\"Model\").describe().T"
   ]
  },
  {
   "cell_type": "code",
   "execution_count": 306,
   "id": "8fe55d22",
   "metadata": {},
   "outputs": [
    {
     "data": {
      "application/javascript": [
       "\n",
       "            setTimeout(function() {\n",
       "                var nbb_cell_id = 306;\n",
       "                var nbb_unformatted_code = \"df_sorted_topo_models_cols = df_sorted_topo[\\n    [\\n        \\\"Model\\\",\\n        \\\"Dominated_Count\\\",\\n        \\\"Dominates_Count\\\",\\n        \\\"Classification\\\",\\n    ]\\n]\";\n",
       "                var nbb_formatted_code = \"df_sorted_topo_models_cols = df_sorted_topo[\\n    [\\n        \\\"Model\\\",\\n        \\\"Dominated_Count\\\",\\n        \\\"Dominates_Count\\\",\\n        \\\"Classification\\\",\\n    ]\\n]\";\n",
       "                var nbb_cells = Jupyter.notebook.get_cells();\n",
       "                for (var i = 0; i < nbb_cells.length; ++i) {\n",
       "                    if (nbb_cells[i].input_prompt_number == nbb_cell_id) {\n",
       "                        if (nbb_cells[i].get_text() == nbb_unformatted_code) {\n",
       "                             nbb_cells[i].set_text(nbb_formatted_code);\n",
       "                        }\n",
       "                        break;\n",
       "                    }\n",
       "                }\n",
       "            }, 500);\n",
       "            "
      ],
      "text/plain": [
       "<IPython.core.display.Javascript object>"
      ]
     },
     "metadata": {},
     "output_type": "display_data"
    }
   ],
   "source": [
    "df_sorted_topo_models_cols = df_sorted_topo[\n",
    "    [\n",
    "        \"Model\",\n",
    "        \"Dominated_Count\",\n",
    "        \"Dominates_Count\",\n",
    "        \"Classification\",\n",
    "    ]\n",
    "]"
   ]
  },
  {
   "cell_type": "code",
   "execution_count": 307,
   "id": "3e2f8ee7",
   "metadata": {},
   "outputs": [
    {
     "data": {
      "text/html": [
       "<div>\n",
       "<style scoped>\n",
       "    .dataframe tbody tr th:only-of-type {\n",
       "        vertical-align: middle;\n",
       "    }\n",
       "\n",
       "    .dataframe tbody tr th {\n",
       "        vertical-align: top;\n",
       "    }\n",
       "\n",
       "    .dataframe thead th {\n",
       "        text-align: right;\n",
       "    }\n",
       "</style>\n",
       "<table border=\"1\" class=\"dataframe\">\n",
       "  <thead>\n",
       "    <tr style=\"text-align: right;\">\n",
       "      <th></th>\n",
       "      <th></th>\n",
       "      <th>proportion</th>\n",
       "    </tr>\n",
       "    <tr>\n",
       "      <th>Model</th>\n",
       "      <th>Classification</th>\n",
       "      <th></th>\n",
       "    </tr>\n",
       "  </thead>\n",
       "  <tbody>\n",
       "    <tr>\n",
       "      <th>Linear Regression</th>\n",
       "      <th>intermediate_model</th>\n",
       "      <td>100.00</td>\n",
       "    </tr>\n",
       "    <tr>\n",
       "      <th rowspan=\"2\" valign=\"top\">Neural Networks</th>\n",
       "      <th>intermediate_model</th>\n",
       "      <td>93.75</td>\n",
       "    </tr>\n",
       "    <tr>\n",
       "      <th>non_dominant_model</th>\n",
       "      <td>6.25</td>\n",
       "    </tr>\n",
       "    <tr>\n",
       "      <th rowspan=\"2\" valign=\"top\">Trees</th>\n",
       "      <th>intermediate_model</th>\n",
       "      <td>66.67</td>\n",
       "    </tr>\n",
       "    <tr>\n",
       "      <th>dominant_model</th>\n",
       "      <td>33.33</td>\n",
       "    </tr>\n",
       "  </tbody>\n",
       "</table>\n",
       "</div>"
      ],
      "text/plain": [
       "                                      proportion\n",
       "Model             Classification                \n",
       "Linear Regression intermediate_model      100.00\n",
       "Neural Networks   intermediate_model       93.75\n",
       "                  non_dominant_model        6.25\n",
       "Trees             intermediate_model       66.67\n",
       "                  dominant_model           33.33"
      ]
     },
     "execution_count": 307,
     "metadata": {},
     "output_type": "execute_result"
    },
    {
     "data": {
      "application/javascript": [
       "\n",
       "            setTimeout(function() {\n",
       "                var nbb_cell_id = 307;\n",
       "                var nbb_unformatted_code = \"(\\n    df_sorted_topo_models_cols.groupby(\\\"Model\\\")[[\\\"Classification\\\"]]\\n    .value_counts(normalize=True)\\n    .to_frame()\\n    * 100\\n).round(2)\";\n",
       "                var nbb_formatted_code = \"(\\n    df_sorted_topo_models_cols.groupby(\\\"Model\\\")[[\\\"Classification\\\"]]\\n    .value_counts(normalize=True)\\n    .to_frame()\\n    * 100\\n).round(2)\";\n",
       "                var nbb_cells = Jupyter.notebook.get_cells();\n",
       "                for (var i = 0; i < nbb_cells.length; ++i) {\n",
       "                    if (nbb_cells[i].input_prompt_number == nbb_cell_id) {\n",
       "                        if (nbb_cells[i].get_text() == nbb_unformatted_code) {\n",
       "                             nbb_cells[i].set_text(nbb_formatted_code);\n",
       "                        }\n",
       "                        break;\n",
       "                    }\n",
       "                }\n",
       "            }, 500);\n",
       "            "
      ],
      "text/plain": [
       "<IPython.core.display.Javascript object>"
      ]
     },
     "metadata": {},
     "output_type": "display_data"
    }
   ],
   "source": [
    "(\n",
    "    df_sorted_topo_models_cols.groupby(\"Model\")[[\"Classification\"]]\n",
    "    .value_counts(normalize=True)\n",
    "    .to_frame()\n",
    "    * 100\n",
    ").round(2)"
   ]
  },
  {
   "cell_type": "code",
   "execution_count": 308,
   "id": "c3f9a4c9",
   "metadata": {},
   "outputs": [
    {
     "data": {
      "text/html": [
       "<div>\n",
       "<style scoped>\n",
       "    .dataframe tbody tr th:only-of-type {\n",
       "        vertical-align: middle;\n",
       "    }\n",
       "\n",
       "    .dataframe tbody tr th {\n",
       "        vertical-align: top;\n",
       "    }\n",
       "\n",
       "    .dataframe thead th {\n",
       "        text-align: right;\n",
       "    }\n",
       "</style>\n",
       "<table border=\"1\" class=\"dataframe\">\n",
       "  <thead>\n",
       "    <tr style=\"text-align: right;\">\n",
       "      <th></th>\n",
       "      <th>Model</th>\n",
       "      <th>Linear Regression</th>\n",
       "      <th>Neural Networks</th>\n",
       "      <th>Trees</th>\n",
       "    </tr>\n",
       "  </thead>\n",
       "  <tbody>\n",
       "    <tr>\n",
       "      <th rowspan=\"8\" valign=\"top\">Dominated_Count</th>\n",
       "      <th>count</th>\n",
       "      <td>1.0</td>\n",
       "      <td>16.00</td>\n",
       "      <td>3.00</td>\n",
       "    </tr>\n",
       "    <tr>\n",
       "      <th>mean</th>\n",
       "      <td>2.0</td>\n",
       "      <td>10.56</td>\n",
       "      <td>2.00</td>\n",
       "    </tr>\n",
       "    <tr>\n",
       "      <th>std</th>\n",
       "      <td>NaN</td>\n",
       "      <td>5.12</td>\n",
       "      <td>2.00</td>\n",
       "    </tr>\n",
       "    <tr>\n",
       "      <th>min</th>\n",
       "      <td>2.0</td>\n",
       "      <td>1.00</td>\n",
       "      <td>0.00</td>\n",
       "    </tr>\n",
       "    <tr>\n",
       "      <th>25%</th>\n",
       "      <td>2.0</td>\n",
       "      <td>7.00</td>\n",
       "      <td>1.00</td>\n",
       "    </tr>\n",
       "    <tr>\n",
       "      <th>50%</th>\n",
       "      <td>2.0</td>\n",
       "      <td>9.50</td>\n",
       "      <td>2.00</td>\n",
       "    </tr>\n",
       "    <tr>\n",
       "      <th>75%</th>\n",
       "      <td>2.0</td>\n",
       "      <td>15.00</td>\n",
       "      <td>3.00</td>\n",
       "    </tr>\n",
       "    <tr>\n",
       "      <th>max</th>\n",
       "      <td>2.0</td>\n",
       "      <td>19.00</td>\n",
       "      <td>4.00</td>\n",
       "    </tr>\n",
       "    <tr>\n",
       "      <th rowspan=\"8\" valign=\"top\">Dominates_Count</th>\n",
       "      <th>count</th>\n",
       "      <td>1.0</td>\n",
       "      <td>16.00</td>\n",
       "      <td>3.00</td>\n",
       "    </tr>\n",
       "    <tr>\n",
       "      <th>mean</th>\n",
       "      <td>16.0</td>\n",
       "      <td>6.94</td>\n",
       "      <td>16.67</td>\n",
       "    </tr>\n",
       "    <tr>\n",
       "      <th>std</th>\n",
       "      <td>NaN</td>\n",
       "      <td>5.03</td>\n",
       "      <td>2.08</td>\n",
       "    </tr>\n",
       "    <tr>\n",
       "      <th>min</th>\n",
       "      <td>16.0</td>\n",
       "      <td>0.00</td>\n",
       "      <td>15.00</td>\n",
       "    </tr>\n",
       "    <tr>\n",
       "      <th>25%</th>\n",
       "      <td>16.0</td>\n",
       "      <td>2.75</td>\n",
       "      <td>15.50</td>\n",
       "    </tr>\n",
       "    <tr>\n",
       "      <th>50%</th>\n",
       "      <td>16.0</td>\n",
       "      <td>6.50</td>\n",
       "      <td>16.00</td>\n",
       "    </tr>\n",
       "    <tr>\n",
       "      <th>75%</th>\n",
       "      <td>16.0</td>\n",
       "      <td>10.25</td>\n",
       "      <td>17.50</td>\n",
       "    </tr>\n",
       "    <tr>\n",
       "      <th>max</th>\n",
       "      <td>16.0</td>\n",
       "      <td>18.00</td>\n",
       "      <td>19.00</td>\n",
       "    </tr>\n",
       "  </tbody>\n",
       "</table>\n",
       "</div>"
      ],
      "text/plain": [
       "Model                  Linear Regression  Neural Networks  Trees\n",
       "Dominated_Count count                1.0            16.00   3.00\n",
       "                mean                 2.0            10.56   2.00\n",
       "                std                  NaN             5.12   2.00\n",
       "                min                  2.0             1.00   0.00\n",
       "                25%                  2.0             7.00   1.00\n",
       "                50%                  2.0             9.50   2.00\n",
       "                75%                  2.0            15.00   3.00\n",
       "                max                  2.0            19.00   4.00\n",
       "Dominates_Count count                1.0            16.00   3.00\n",
       "                mean                16.0             6.94  16.67\n",
       "                std                  NaN             5.03   2.08\n",
       "                min                 16.0             0.00  15.00\n",
       "                25%                 16.0             2.75  15.50\n",
       "                50%                 16.0             6.50  16.00\n",
       "                75%                 16.0            10.25  17.50\n",
       "                max                 16.0            18.00  19.00"
      ]
     },
     "execution_count": 308,
     "metadata": {},
     "output_type": "execute_result"
    },
    {
     "data": {
      "application/javascript": [
       "\n",
       "            setTimeout(function() {\n",
       "                var nbb_cell_id = 308;\n",
       "                var nbb_unformatted_code = \"df_sorted_topo_models_cols.groupby(\\\"Model\\\").describe().round(2).T\";\n",
       "                var nbb_formatted_code = \"df_sorted_topo_models_cols.groupby(\\\"Model\\\").describe().round(2).T\";\n",
       "                var nbb_cells = Jupyter.notebook.get_cells();\n",
       "                for (var i = 0; i < nbb_cells.length; ++i) {\n",
       "                    if (nbb_cells[i].input_prompt_number == nbb_cell_id) {\n",
       "                        if (nbb_cells[i].get_text() == nbb_unformatted_code) {\n",
       "                             nbb_cells[i].set_text(nbb_formatted_code);\n",
       "                        }\n",
       "                        break;\n",
       "                    }\n",
       "                }\n",
       "            }, 500);\n",
       "            "
      ],
      "text/plain": [
       "<IPython.core.display.Javascript object>"
      ]
     },
     "metadata": {},
     "output_type": "display_data"
    }
   ],
   "source": [
    "df_sorted_topo_models_cols.groupby(\"Model\").describe().round(2).T"
   ]
  },
  {
   "cell_type": "code",
   "execution_count": 309,
   "id": "ea7df8a0",
   "metadata": {},
   "outputs": [
    {
     "data": {
      "text/html": [
       "<div>\n",
       "<style scoped>\n",
       "    .dataframe tbody tr th:only-of-type {\n",
       "        vertical-align: middle;\n",
       "    }\n",
       "\n",
       "    .dataframe tbody tr th {\n",
       "        vertical-align: top;\n",
       "    }\n",
       "\n",
       "    .dataframe thead th {\n",
       "        text-align: right;\n",
       "    }\n",
       "</style>\n",
       "<table border=\"1\" class=\"dataframe\">\n",
       "  <thead>\n",
       "    <tr style=\"text-align: right;\">\n",
       "      <th></th>\n",
       "      <th>count</th>\n",
       "      <th>unique</th>\n",
       "      <th>top</th>\n",
       "      <th>freq</th>\n",
       "    </tr>\n",
       "    <tr>\n",
       "      <th>Model</th>\n",
       "      <th></th>\n",
       "      <th></th>\n",
       "      <th></th>\n",
       "      <th></th>\n",
       "    </tr>\n",
       "  </thead>\n",
       "  <tbody>\n",
       "    <tr>\n",
       "      <th>Linear Regression</th>\n",
       "      <td>1</td>\n",
       "      <td>1</td>\n",
       "      <td>intermediate_model</td>\n",
       "      <td>1</td>\n",
       "    </tr>\n",
       "    <tr>\n",
       "      <th>Neural Networks</th>\n",
       "      <td>16</td>\n",
       "      <td>2</td>\n",
       "      <td>intermediate_model</td>\n",
       "      <td>15</td>\n",
       "    </tr>\n",
       "    <tr>\n",
       "      <th>Trees</th>\n",
       "      <td>3</td>\n",
       "      <td>2</td>\n",
       "      <td>intermediate_model</td>\n",
       "      <td>2</td>\n",
       "    </tr>\n",
       "  </tbody>\n",
       "</table>\n",
       "</div>"
      ],
      "text/plain": [
       "                  count unique                 top freq\n",
       "Model                                                  \n",
       "Linear Regression     1      1  intermediate_model    1\n",
       "Neural Networks      16      2  intermediate_model   15\n",
       "Trees                 3      2  intermediate_model    2"
      ]
     },
     "execution_count": 309,
     "metadata": {},
     "output_type": "execute_result"
    },
    {
     "data": {
      "application/javascript": [
       "\n",
       "            setTimeout(function() {\n",
       "                var nbb_cell_id = 309;\n",
       "                var nbb_unformatted_code = \"df_sorted_topo_models_cols.groupby(\\\"Model\\\")[\\\"Classification\\\"].describe()\";\n",
       "                var nbb_formatted_code = \"df_sorted_topo_models_cols.groupby(\\\"Model\\\")[\\\"Classification\\\"].describe()\";\n",
       "                var nbb_cells = Jupyter.notebook.get_cells();\n",
       "                for (var i = 0; i < nbb_cells.length; ++i) {\n",
       "                    if (nbb_cells[i].input_prompt_number == nbb_cell_id) {\n",
       "                        if (nbb_cells[i].get_text() == nbb_unformatted_code) {\n",
       "                             nbb_cells[i].set_text(nbb_formatted_code);\n",
       "                        }\n",
       "                        break;\n",
       "                    }\n",
       "                }\n",
       "            }, 500);\n",
       "            "
      ],
      "text/plain": [
       "<IPython.core.display.Javascript object>"
      ]
     },
     "metadata": {},
     "output_type": "display_data"
    }
   ],
   "source": [
    "df_sorted_topo_models_cols.groupby(\"Model\")[\"Classification\"].describe()"
   ]
  },
  {
   "cell_type": "code",
   "execution_count": 310,
   "id": "58b31ad4",
   "metadata": {
    "scrolled": true
   },
   "outputs": [
    {
     "data": {
      "text/plain": [
       "Model              Classification    \n",
       "Linear Regression  intermediate_model     1\n",
       "Neural Networks    intermediate_model    15\n",
       "                   non_dominant_model     1\n",
       "Trees              intermediate_model     2\n",
       "                   dominant_model         1\n",
       "Name: count, dtype: int64"
      ]
     },
     "execution_count": 310,
     "metadata": {},
     "output_type": "execute_result"
    },
    {
     "data": {
      "application/javascript": [
       "\n",
       "            setTimeout(function() {\n",
       "                var nbb_cell_id = 310;\n",
       "                var nbb_unformatted_code = \"df_sorted_topo_models_cols.groupby(\\\"Model\\\")[[\\\"Classification\\\"]].value_counts()\";\n",
       "                var nbb_formatted_code = \"df_sorted_topo_models_cols.groupby(\\\"Model\\\")[[\\\"Classification\\\"]].value_counts()\";\n",
       "                var nbb_cells = Jupyter.notebook.get_cells();\n",
       "                for (var i = 0; i < nbb_cells.length; ++i) {\n",
       "                    if (nbb_cells[i].input_prompt_number == nbb_cell_id) {\n",
       "                        if (nbb_cells[i].get_text() == nbb_unformatted_code) {\n",
       "                             nbb_cells[i].set_text(nbb_formatted_code);\n",
       "                        }\n",
       "                        break;\n",
       "                    }\n",
       "                }\n",
       "            }, 500);\n",
       "            "
      ],
      "text/plain": [
       "<IPython.core.display.Javascript object>"
      ]
     },
     "metadata": {},
     "output_type": "display_data"
    }
   ],
   "source": [
    "df_sorted_topo_models_cols.groupby(\"Model\")[[\"Classification\"]].value_counts()"
   ]
  },
  {
   "cell_type": "code",
   "execution_count": 311,
   "id": "5de9c500",
   "metadata": {
    "scrolled": true
   },
   "outputs": [
    {
     "data": {
      "application/javascript": [
       "\n",
       "            setTimeout(function() {\n",
       "                var nbb_cell_id = 311;\n",
       "                var nbb_unformatted_code = \"# df_sorted_topo_models_cols\";\n",
       "                var nbb_formatted_code = \"# df_sorted_topo_models_cols\";\n",
       "                var nbb_cells = Jupyter.notebook.get_cells();\n",
       "                for (var i = 0; i < nbb_cells.length; ++i) {\n",
       "                    if (nbb_cells[i].input_prompt_number == nbb_cell_id) {\n",
       "                        if (nbb_cells[i].get_text() == nbb_unformatted_code) {\n",
       "                             nbb_cells[i].set_text(nbb_formatted_code);\n",
       "                        }\n",
       "                        break;\n",
       "                    }\n",
       "                }\n",
       "            }, 500);\n",
       "            "
      ],
      "text/plain": [
       "<IPython.core.display.Javascript object>"
      ]
     },
     "metadata": {},
     "output_type": "display_data"
    }
   ],
   "source": [
    "# df_sorted_topo_models_cols"
   ]
  },
  {
   "cell_type": "code",
   "execution_count": 312,
   "id": "5fffb79c",
   "metadata": {},
   "outputs": [
    {
     "data": {
      "application/javascript": [
       "\n",
       "            setTimeout(function() {\n",
       "                var nbb_cell_id = 312;\n",
       "                var nbb_unformatted_code = \"summary_stats = df_sorted_topo_models_cols.groupby(\\\"Model\\\").agg(\\n    Total_Models=(\\\"Model\\\", \\\"count\\\"),\\n    Mean_Dominance_Count=(\\\"Dominates_Count\\\", \\\"mean\\\"),\\n    Median_Dominance_Count=(\\\"Dominates_Count\\\", \\\"median\\\"),\\n    Total_Dominated=(\\\"Dominated_Count\\\", \\\"sum\\\"),\\n    Total_Dominating=(\\\"Dominates_Count\\\", \\\"sum\\\"),\\n)\\n\\ntotal_models = summary_stats[\\n    \\\"Total_Models\\\"\\n].sum()  # Get the total number of models across all categories\\nsummary_stats[\\\"Dominance Proportion\\\"] = summary_stats[\\\"Total_Dominating\\\"] / total_models\";\n",
       "                var nbb_formatted_code = \"summary_stats = df_sorted_topo_models_cols.groupby(\\\"Model\\\").agg(\\n    Total_Models=(\\\"Model\\\", \\\"count\\\"),\\n    Mean_Dominance_Count=(\\\"Dominates_Count\\\", \\\"mean\\\"),\\n    Median_Dominance_Count=(\\\"Dominates_Count\\\", \\\"median\\\"),\\n    Total_Dominated=(\\\"Dominated_Count\\\", \\\"sum\\\"),\\n    Total_Dominating=(\\\"Dominates_Count\\\", \\\"sum\\\"),\\n)\\n\\ntotal_models = summary_stats[\\n    \\\"Total_Models\\\"\\n].sum()  # Get the total number of models across all categories\\nsummary_stats[\\\"Dominance Proportion\\\"] = summary_stats[\\\"Total_Dominating\\\"] / total_models\";\n",
       "                var nbb_cells = Jupyter.notebook.get_cells();\n",
       "                for (var i = 0; i < nbb_cells.length; ++i) {\n",
       "                    if (nbb_cells[i].input_prompt_number == nbb_cell_id) {\n",
       "                        if (nbb_cells[i].get_text() == nbb_unformatted_code) {\n",
       "                             nbb_cells[i].set_text(nbb_formatted_code);\n",
       "                        }\n",
       "                        break;\n",
       "                    }\n",
       "                }\n",
       "            }, 500);\n",
       "            "
      ],
      "text/plain": [
       "<IPython.core.display.Javascript object>"
      ]
     },
     "metadata": {},
     "output_type": "display_data"
    }
   ],
   "source": [
    "summary_stats = df_sorted_topo_models_cols.groupby(\"Model\").agg(\n",
    "    Total_Models=(\"Model\", \"count\"),\n",
    "    Mean_Dominance_Count=(\"Dominates_Count\", \"mean\"),\n",
    "    Median_Dominance_Count=(\"Dominates_Count\", \"median\"),\n",
    "    Total_Dominated=(\"Dominated_Count\", \"sum\"),\n",
    "    Total_Dominating=(\"Dominates_Count\", \"sum\"),\n",
    ")\n",
    "\n",
    "total_models = summary_stats[\n",
    "    \"Total_Models\"\n",
    "].sum()  # Get the total number of models across all categories\n",
    "summary_stats[\"Dominance Proportion\"] = summary_stats[\"Total_Dominating\"] / total_models"
   ]
  },
  {
   "cell_type": "code",
   "execution_count": 313,
   "id": "97fbf608",
   "metadata": {},
   "outputs": [
    {
     "data": {
      "text/html": [
       "<div>\n",
       "<style scoped>\n",
       "    .dataframe tbody tr th:only-of-type {\n",
       "        vertical-align: middle;\n",
       "    }\n",
       "\n",
       "    .dataframe tbody tr th {\n",
       "        vertical-align: top;\n",
       "    }\n",
       "\n",
       "    .dataframe thead th {\n",
       "        text-align: right;\n",
       "    }\n",
       "</style>\n",
       "<table border=\"1\" class=\"dataframe\">\n",
       "  <thead>\n",
       "    <tr style=\"text-align: right;\">\n",
       "      <th></th>\n",
       "      <th>Total_Models</th>\n",
       "      <th>Mean_Dominance_Count</th>\n",
       "      <th>Median_Dominance_Count</th>\n",
       "      <th>Total_Dominated</th>\n",
       "      <th>Total_Dominating</th>\n",
       "      <th>Dominance Proportion</th>\n",
       "    </tr>\n",
       "    <tr>\n",
       "      <th>Model</th>\n",
       "      <th></th>\n",
       "      <th></th>\n",
       "      <th></th>\n",
       "      <th></th>\n",
       "      <th></th>\n",
       "      <th></th>\n",
       "    </tr>\n",
       "  </thead>\n",
       "  <tbody>\n",
       "    <tr>\n",
       "      <th>Linear Regression</th>\n",
       "      <td>1</td>\n",
       "      <td>16.000000</td>\n",
       "      <td>16.0</td>\n",
       "      <td>2</td>\n",
       "      <td>16</td>\n",
       "      <td>0.80</td>\n",
       "    </tr>\n",
       "    <tr>\n",
       "      <th>Neural Networks</th>\n",
       "      <td>16</td>\n",
       "      <td>6.937500</td>\n",
       "      <td>6.5</td>\n",
       "      <td>169</td>\n",
       "      <td>111</td>\n",
       "      <td>5.55</td>\n",
       "    </tr>\n",
       "    <tr>\n",
       "      <th>Trees</th>\n",
       "      <td>3</td>\n",
       "      <td>16.666667</td>\n",
       "      <td>16.0</td>\n",
       "      <td>6</td>\n",
       "      <td>50</td>\n",
       "      <td>2.50</td>\n",
       "    </tr>\n",
       "  </tbody>\n",
       "</table>\n",
       "</div>"
      ],
      "text/plain": [
       "                   Total_Models  Mean_Dominance_Count  Median_Dominance_Count  \\\n",
       "Model                                                                           \n",
       "Linear Regression             1             16.000000                    16.0   \n",
       "Neural Networks              16              6.937500                     6.5   \n",
       "Trees                         3             16.666667                    16.0   \n",
       "\n",
       "                   Total_Dominated  Total_Dominating  Dominance Proportion  \n",
       "Model                                                                       \n",
       "Linear Regression                2                16                  0.80  \n",
       "Neural Networks                169               111                  5.55  \n",
       "Trees                            6                50                  2.50  "
      ]
     },
     "execution_count": 313,
     "metadata": {},
     "output_type": "execute_result"
    },
    {
     "data": {
      "application/javascript": [
       "\n",
       "            setTimeout(function() {\n",
       "                var nbb_cell_id = 313;\n",
       "                var nbb_unformatted_code = \"summary_stats\";\n",
       "                var nbb_formatted_code = \"summary_stats\";\n",
       "                var nbb_cells = Jupyter.notebook.get_cells();\n",
       "                for (var i = 0; i < nbb_cells.length; ++i) {\n",
       "                    if (nbb_cells[i].input_prompt_number == nbb_cell_id) {\n",
       "                        if (nbb_cells[i].get_text() == nbb_unformatted_code) {\n",
       "                             nbb_cells[i].set_text(nbb_formatted_code);\n",
       "                        }\n",
       "                        break;\n",
       "                    }\n",
       "                }\n",
       "            }, 500);\n",
       "            "
      ],
      "text/plain": [
       "<IPython.core.display.Javascript object>"
      ]
     },
     "metadata": {},
     "output_type": "display_data"
    }
   ],
   "source": [
    "summary_stats"
   ]
  },
  {
   "cell_type": "code",
   "execution_count": 314,
   "id": "83848a18",
   "metadata": {},
   "outputs": [
    {
     "data": {
      "text/html": [
       "<div>\n",
       "<style scoped>\n",
       "    .dataframe tbody tr th:only-of-type {\n",
       "        vertical-align: middle;\n",
       "    }\n",
       "\n",
       "    .dataframe tbody tr th {\n",
       "        vertical-align: top;\n",
       "    }\n",
       "\n",
       "    .dataframe thead tr th {\n",
       "        text-align: left;\n",
       "    }\n",
       "\n",
       "    .dataframe thead tr:last-of-type th {\n",
       "        text-align: right;\n",
       "    }\n",
       "</style>\n",
       "<table border=\"1\" class=\"dataframe\">\n",
       "  <thead>\n",
       "    <tr>\n",
       "      <th></th>\n",
       "      <th colspan=\"8\" halign=\"left\">RMSE_mean</th>\n",
       "      <th colspan=\"2\" halign=\"left\">RMSE_std</th>\n",
       "      <th>...</th>\n",
       "      <th colspan=\"2\" halign=\"left\">Dominated_Count</th>\n",
       "      <th colspan=\"8\" halign=\"left\">Dominates_Count</th>\n",
       "    </tr>\n",
       "    <tr>\n",
       "      <th></th>\n",
       "      <th>count</th>\n",
       "      <th>mean</th>\n",
       "      <th>std</th>\n",
       "      <th>min</th>\n",
       "      <th>25%</th>\n",
       "      <th>50%</th>\n",
       "      <th>75%</th>\n",
       "      <th>max</th>\n",
       "      <th>count</th>\n",
       "      <th>mean</th>\n",
       "      <th>...</th>\n",
       "      <th>75%</th>\n",
       "      <th>max</th>\n",
       "      <th>count</th>\n",
       "      <th>mean</th>\n",
       "      <th>std</th>\n",
       "      <th>min</th>\n",
       "      <th>25%</th>\n",
       "      <th>50%</th>\n",
       "      <th>75%</th>\n",
       "      <th>max</th>\n",
       "    </tr>\n",
       "    <tr>\n",
       "      <th>Model</th>\n",
       "      <th></th>\n",
       "      <th></th>\n",
       "      <th></th>\n",
       "      <th></th>\n",
       "      <th></th>\n",
       "      <th></th>\n",
       "      <th></th>\n",
       "      <th></th>\n",
       "      <th></th>\n",
       "      <th></th>\n",
       "      <th></th>\n",
       "      <th></th>\n",
       "      <th></th>\n",
       "      <th></th>\n",
       "      <th></th>\n",
       "      <th></th>\n",
       "      <th></th>\n",
       "      <th></th>\n",
       "      <th></th>\n",
       "      <th></th>\n",
       "      <th></th>\n",
       "    </tr>\n",
       "  </thead>\n",
       "  <tbody>\n",
       "    <tr>\n",
       "      <th>Linear Regression</th>\n",
       "      <td>1.0</td>\n",
       "      <td>1.112537</td>\n",
       "      <td>NaN</td>\n",
       "      <td>1.112537</td>\n",
       "      <td>1.112537</td>\n",
       "      <td>1.112537</td>\n",
       "      <td>1.112537</td>\n",
       "      <td>1.112537</td>\n",
       "      <td>1.0</td>\n",
       "      <td>0.080123</td>\n",
       "      <td>...</td>\n",
       "      <td>2.0</td>\n",
       "      <td>2.0</td>\n",
       "      <td>1.0</td>\n",
       "      <td>16.000000</td>\n",
       "      <td>NaN</td>\n",
       "      <td>16.0</td>\n",
       "      <td>16.00</td>\n",
       "      <td>16.0</td>\n",
       "      <td>16.00</td>\n",
       "      <td>16.0</td>\n",
       "    </tr>\n",
       "    <tr>\n",
       "      <th>Neural Networks</th>\n",
       "      <td>16.0</td>\n",
       "      <td>2.386522</td>\n",
       "      <td>0.651324</td>\n",
       "      <td>0.999045</td>\n",
       "      <td>2.074538</td>\n",
       "      <td>2.380414</td>\n",
       "      <td>2.757541</td>\n",
       "      <td>3.733490</td>\n",
       "      <td>16.0</td>\n",
       "      <td>0.751028</td>\n",
       "      <td>...</td>\n",
       "      <td>15.0</td>\n",
       "      <td>19.0</td>\n",
       "      <td>16.0</td>\n",
       "      <td>6.937500</td>\n",
       "      <td>5.026181</td>\n",
       "      <td>0.0</td>\n",
       "      <td>2.75</td>\n",
       "      <td>6.5</td>\n",
       "      <td>10.25</td>\n",
       "      <td>18.0</td>\n",
       "    </tr>\n",
       "    <tr>\n",
       "      <th>Trees</th>\n",
       "      <td>3.0</td>\n",
       "      <td>1.172273</td>\n",
       "      <td>0.307050</td>\n",
       "      <td>0.876747</td>\n",
       "      <td>1.013571</td>\n",
       "      <td>1.150395</td>\n",
       "      <td>1.320036</td>\n",
       "      <td>1.489677</td>\n",
       "      <td>3.0</td>\n",
       "      <td>0.277483</td>\n",
       "      <td>...</td>\n",
       "      <td>3.0</td>\n",
       "      <td>4.0</td>\n",
       "      <td>3.0</td>\n",
       "      <td>16.666667</td>\n",
       "      <td>2.081666</td>\n",
       "      <td>15.0</td>\n",
       "      <td>15.50</td>\n",
       "      <td>16.0</td>\n",
       "      <td>17.50</td>\n",
       "      <td>19.0</td>\n",
       "    </tr>\n",
       "  </tbody>\n",
       "</table>\n",
       "<p>3 rows × 88 columns</p>\n",
       "</div>"
      ],
      "text/plain": [
       "                  RMSE_mean                                                    \\\n",
       "                      count      mean       std       min       25%       50%   \n",
       "Model                                                                           \n",
       "Linear Regression       1.0  1.112537       NaN  1.112537  1.112537  1.112537   \n",
       "Neural Networks        16.0  2.386522  0.651324  0.999045  2.074538  2.380414   \n",
       "Trees                   3.0  1.172273  0.307050  0.876747  1.013571  1.150395   \n",
       "\n",
       "                                      RMSE_std            ... Dominated_Count  \\\n",
       "                        75%       max    count      mean  ...             75%   \n",
       "Model                                                     ...                   \n",
       "Linear Regression  1.112537  1.112537      1.0  0.080123  ...             2.0   \n",
       "Neural Networks    2.757541  3.733490     16.0  0.751028  ...            15.0   \n",
       "Trees              1.320036  1.489677      3.0  0.277483  ...             3.0   \n",
       "\n",
       "                        Dominates_Count                                    \\\n",
       "                    max           count       mean       std   min    25%   \n",
       "Model                                                                       \n",
       "Linear Regression   2.0             1.0  16.000000       NaN  16.0  16.00   \n",
       "Neural Networks    19.0            16.0   6.937500  5.026181   0.0   2.75   \n",
       "Trees               4.0             3.0  16.666667  2.081666  15.0  15.50   \n",
       "\n",
       "                                      \n",
       "                    50%    75%   max  \n",
       "Model                                 \n",
       "Linear Regression  16.0  16.00  16.0  \n",
       "Neural Networks     6.5  10.25  18.0  \n",
       "Trees              16.0  17.50  19.0  \n",
       "\n",
       "[3 rows x 88 columns]"
      ]
     },
     "execution_count": 314,
     "metadata": {},
     "output_type": "execute_result"
    },
    {
     "data": {
      "application/javascript": [
       "\n",
       "            setTimeout(function() {\n",
       "                var nbb_cell_id = 314;\n",
       "                var nbb_unformatted_code = \"df_sorted_topo_models_grouped.T\";\n",
       "                var nbb_formatted_code = \"df_sorted_topo_models_grouped.T\";\n",
       "                var nbb_cells = Jupyter.notebook.get_cells();\n",
       "                for (var i = 0; i < nbb_cells.length; ++i) {\n",
       "                    if (nbb_cells[i].input_prompt_number == nbb_cell_id) {\n",
       "                        if (nbb_cells[i].get_text() == nbb_unformatted_code) {\n",
       "                             nbb_cells[i].set_text(nbb_formatted_code);\n",
       "                        }\n",
       "                        break;\n",
       "                    }\n",
       "                }\n",
       "            }, 500);\n",
       "            "
      ],
      "text/plain": [
       "<IPython.core.display.Javascript object>"
      ]
     },
     "metadata": {},
     "output_type": "display_data"
    }
   ],
   "source": [
    "df_sorted_topo_models_grouped.T"
   ]
  },
  {
   "cell_type": "markdown",
   "id": "60088fc1",
   "metadata": {},
   "source": [
    "### SCPM Analysis"
   ]
  },
  {
   "cell_type": "code",
   "execution_count": 315,
   "id": "a043523b",
   "metadata": {},
   "outputs": [
    {
     "data": {
      "application/javascript": [
       "\n",
       "            setTimeout(function() {\n",
       "                var nbb_cell_id = 315;\n",
       "                var nbb_unformatted_code = \"cols = [\\n    # \\\"Model\\\",\\n    # \\\"Model_bkp\\\",\\n    \\\"Model_bkp_2\\\",\\n    \\\"RMSE_mean\\\",\\n    \\\"RMSE_std\\\",\\n    \\\"MAE_mean\\\",\\n    \\\"MAE_std\\\",\\n    \\\"MAPE_mean\\\",\\n    \\\"MAPE_std\\\",\\n    \\\"R2_mean\\\",\\n    \\\"R2_std\\\",\\n    \\\"SCPM\\\",\\n    \\\"Dominated_Count\\\",\\n    \\\"Dominates_Count\\\",\\n    \\\"Classification\\\",\\n    \\\"Plant\\\",\\n]\";\n",
       "                var nbb_formatted_code = \"cols = [\\n    # \\\"Model\\\",\\n    # \\\"Model_bkp\\\",\\n    \\\"Model_bkp_2\\\",\\n    \\\"RMSE_mean\\\",\\n    \\\"RMSE_std\\\",\\n    \\\"MAE_mean\\\",\\n    \\\"MAE_std\\\",\\n    \\\"MAPE_mean\\\",\\n    \\\"MAPE_std\\\",\\n    \\\"R2_mean\\\",\\n    \\\"R2_std\\\",\\n    \\\"SCPM\\\",\\n    \\\"Dominated_Count\\\",\\n    \\\"Dominates_Count\\\",\\n    \\\"Classification\\\",\\n    \\\"Plant\\\",\\n]\";\n",
       "                var nbb_cells = Jupyter.notebook.get_cells();\n",
       "                for (var i = 0; i < nbb_cells.length; ++i) {\n",
       "                    if (nbb_cells[i].input_prompt_number == nbb_cell_id) {\n",
       "                        if (nbb_cells[i].get_text() == nbb_unformatted_code) {\n",
       "                             nbb_cells[i].set_text(nbb_formatted_code);\n",
       "                        }\n",
       "                        break;\n",
       "                    }\n",
       "                }\n",
       "            }, 500);\n",
       "            "
      ],
      "text/plain": [
       "<IPython.core.display.Javascript object>"
      ]
     },
     "metadata": {},
     "output_type": "display_data"
    }
   ],
   "source": [
    "cols = [\n",
    "    # \"Model\",\n",
    "    # \"Model_bkp\",\n",
    "    \"Model_bkp_2\",\n",
    "    \"RMSE_mean\",\n",
    "    \"RMSE_std\",\n",
    "    \"MAE_mean\",\n",
    "    \"MAE_std\",\n",
    "    \"MAPE_mean\",\n",
    "    \"MAPE_std\",\n",
    "    \"R2_mean\",\n",
    "    \"R2_std\",\n",
    "    \"SCPM\",\n",
    "    \"Dominated_Count\",\n",
    "    \"Dominates_Count\",\n",
    "    \"Classification\",\n",
    "    \"Plant\",\n",
    "]"
   ]
  },
  {
   "cell_type": "markdown",
   "id": "52de1b9b",
   "metadata": {},
   "source": [
    "#### SCPM Analysis by Project"
   ]
  },
  {
   "cell_type": "code",
   "execution_count": 316,
   "id": "9a54c847",
   "metadata": {},
   "outputs": [
    {
     "data": {
      "application/javascript": [
       "\n",
       "            setTimeout(function() {\n",
       "                var nbb_cell_id = 316;\n",
       "                var nbb_unformatted_code = \"df_sorted_scpm = df_sorted_topo.sort_values(by=\\\"SCPM\\\").copy()\";\n",
       "                var nbb_formatted_code = \"df_sorted_scpm = df_sorted_topo.sort_values(by=\\\"SCPM\\\").copy()\";\n",
       "                var nbb_cells = Jupyter.notebook.get_cells();\n",
       "                for (var i = 0; i < nbb_cells.length; ++i) {\n",
       "                    if (nbb_cells[i].input_prompt_number == nbb_cell_id) {\n",
       "                        if (nbb_cells[i].get_text() == nbb_unformatted_code) {\n",
       "                             nbb_cells[i].set_text(nbb_formatted_code);\n",
       "                        }\n",
       "                        break;\n",
       "                    }\n",
       "                }\n",
       "            }, 500);\n",
       "            "
      ],
      "text/plain": [
       "<IPython.core.display.Javascript object>"
      ]
     },
     "metadata": {},
     "output_type": "display_data"
    }
   ],
   "source": [
    "df_sorted_scpm = df_sorted_topo.sort_values(by=\"SCPM\").copy()"
   ]
  },
  {
   "cell_type": "code",
   "execution_count": 317,
   "id": "81dbbded",
   "metadata": {
    "scrolled": false
   },
   "outputs": [
    {
     "data": {
      "application/javascript": [
       "\n",
       "            setTimeout(function() {\n",
       "                var nbb_cell_id = 317;\n",
       "                var nbb_unformatted_code = \"df_sorted_scpm[\\\"topo_scmp_order_eq\\\"] = df_sorted_topo.index == df_sorted_scpm.index\";\n",
       "                var nbb_formatted_code = \"df_sorted_scpm[\\\"topo_scmp_order_eq\\\"] = df_sorted_topo.index == df_sorted_scpm.index\";\n",
       "                var nbb_cells = Jupyter.notebook.get_cells();\n",
       "                for (var i = 0; i < nbb_cells.length; ++i) {\n",
       "                    if (nbb_cells[i].input_prompt_number == nbb_cell_id) {\n",
       "                        if (nbb_cells[i].get_text() == nbb_unformatted_code) {\n",
       "                             nbb_cells[i].set_text(nbb_formatted_code);\n",
       "                        }\n",
       "                        break;\n",
       "                    }\n",
       "                }\n",
       "            }, 500);\n",
       "            "
      ],
      "text/plain": [
       "<IPython.core.display.Javascript object>"
      ]
     },
     "metadata": {},
     "output_type": "display_data"
    }
   ],
   "source": [
    "df_sorted_scpm[\"topo_scmp_order_eq\"] = df_sorted_topo.index == df_sorted_scpm.index"
   ]
  },
  {
   "cell_type": "code",
   "execution_count": 318,
   "id": "ae8cf1bd",
   "metadata": {
    "scrolled": false
   },
   "outputs": [
    {
     "data": {
      "text/html": [
       "<div>\n",
       "<style scoped>\n",
       "    .dataframe tbody tr th:only-of-type {\n",
       "        vertical-align: middle;\n",
       "    }\n",
       "\n",
       "    .dataframe tbody tr th {\n",
       "        vertical-align: top;\n",
       "    }\n",
       "\n",
       "    .dataframe thead th {\n",
       "        text-align: right;\n",
       "    }\n",
       "</style>\n",
       "<table border=\"1\" class=\"dataframe\">\n",
       "  <thead>\n",
       "    <tr style=\"text-align: right;\">\n",
       "      <th></th>\n",
       "      <th>Model_bkp_2</th>\n",
       "      <th>RMSE_mean</th>\n",
       "      <th>RMSE_std</th>\n",
       "      <th>MAE_mean</th>\n",
       "      <th>MAE_std</th>\n",
       "      <th>MAPE_mean</th>\n",
       "      <th>MAPE_std</th>\n",
       "      <th>R2_mean</th>\n",
       "      <th>R2_std</th>\n",
       "      <th>SCPM</th>\n",
       "      <th>Dominated_Count</th>\n",
       "      <th>Dominates_Count</th>\n",
       "      <th>Classification</th>\n",
       "      <th>Plant</th>\n",
       "      <th>topo_scmp_order_eq</th>\n",
       "    </tr>\n",
       "  </thead>\n",
       "  <tbody>\n",
       "    <tr>\n",
       "      <th>0</th>\n",
       "      <td>Random Forest</td>\n",
       "      <td>0.87675</td>\n",
       "      <td>0.19243</td>\n",
       "      <td>0.65788</td>\n",
       "      <td>0.15408</td>\n",
       "      <td>1.54494</td>\n",
       "      <td>0.32635</td>\n",
       "      <td>0.97702</td>\n",
       "      <td>0.00854</td>\n",
       "      <td>-6.35855</td>\n",
       "      <td>0</td>\n",
       "      <td>19</td>\n",
       "      <td>dominant_model</td>\n",
       "      <td>c</td>\n",
       "      <td>True</td>\n",
       "    </tr>\n",
       "    <tr>\n",
       "      <th>11</th>\n",
       "      <td>Transformer_1.0</td>\n",
       "      <td>0.99905</td>\n",
       "      <td>0.06099</td>\n",
       "      <td>0.78292</td>\n",
       "      <td>0.05792</td>\n",
       "      <td>1.86148</td>\n",
       "      <td>0.15403</td>\n",
       "      <td>0.97121</td>\n",
       "      <td>0.00251</td>\n",
       "      <td>-5.71973</td>\n",
       "      <td>1</td>\n",
       "      <td>18</td>\n",
       "      <td>intermediate_model</td>\n",
       "      <td>c</td>\n",
       "      <td>True</td>\n",
       "    </tr>\n",
       "    <tr>\n",
       "      <th>9</th>\n",
       "      <td>Linear Regression</td>\n",
       "      <td>1.11254</td>\n",
       "      <td>0.08012</td>\n",
       "      <td>0.86923</td>\n",
       "      <td>0.07339</td>\n",
       "      <td>2.05869</td>\n",
       "      <td>0.18581</td>\n",
       "      <td>0.96427</td>\n",
       "      <td>0.00408</td>\n",
       "      <td>-5.22915</td>\n",
       "      <td>2</td>\n",
       "      <td>16</td>\n",
       "      <td>intermediate_model</td>\n",
       "      <td>c</td>\n",
       "      <td>False</td>\n",
       "    </tr>\n",
       "    <tr>\n",
       "      <th>5</th>\n",
       "      <td>Decision Tree</td>\n",
       "      <td>1.15040</td>\n",
       "      <td>0.51210</td>\n",
       "      <td>0.85931</td>\n",
       "      <td>0.37271</td>\n",
       "      <td>2.06928</td>\n",
       "      <td>0.95534</td>\n",
       "      <td>0.95205</td>\n",
       "      <td>0.04297</td>\n",
       "      <td>-5.07995</td>\n",
       "      <td>2</td>\n",
       "      <td>16</td>\n",
       "      <td>intermediate_model</td>\n",
       "      <td>c</td>\n",
       "      <td>False</td>\n",
       "    </tr>\n",
       "    <tr>\n",
       "      <th>10</th>\n",
       "      <td>XGBoost</td>\n",
       "      <td>1.48968</td>\n",
       "      <td>0.12792</td>\n",
       "      <td>1.19444</td>\n",
       "      <td>0.11426</td>\n",
       "      <td>2.98015</td>\n",
       "      <td>0.18948</td>\n",
       "      <td>0.93530</td>\n",
       "      <td>0.01239</td>\n",
       "      <td>-3.29862</td>\n",
       "      <td>4</td>\n",
       "      <td>15</td>\n",
       "      <td>intermediate_model</td>\n",
       "      <td>c</td>\n",
       "      <td>True</td>\n",
       "    </tr>\n",
       "  </tbody>\n",
       "</table>\n",
       "</div>"
      ],
      "text/plain": [
       "          Model_bkp_2  RMSE_mean  RMSE_std  MAE_mean  MAE_std  MAPE_mean  \\\n",
       "0       Random Forest    0.87675   0.19243   0.65788  0.15408    1.54494   \n",
       "11    Transformer_1.0    0.99905   0.06099   0.78292  0.05792    1.86148   \n",
       "9   Linear Regression    1.11254   0.08012   0.86923  0.07339    2.05869   \n",
       "5       Decision Tree    1.15040   0.51210   0.85931  0.37271    2.06928   \n",
       "10            XGBoost    1.48968   0.12792   1.19444  0.11426    2.98015   \n",
       "\n",
       "    MAPE_std  R2_mean   R2_std     SCPM  Dominated_Count  Dominates_Count  \\\n",
       "0    0.32635  0.97702  0.00854 -6.35855                0               19   \n",
       "11   0.15403  0.97121  0.00251 -5.71973                1               18   \n",
       "9    0.18581  0.96427  0.00408 -5.22915                2               16   \n",
       "5    0.95534  0.95205  0.04297 -5.07995                2               16   \n",
       "10   0.18948  0.93530  0.01239 -3.29862                4               15   \n",
       "\n",
       "        Classification Plant  topo_scmp_order_eq  \n",
       "0       dominant_model     c                True  \n",
       "11  intermediate_model     c                True  \n",
       "9   intermediate_model     c               False  \n",
       "5   intermediate_model     c               False  \n",
       "10  intermediate_model     c                True  "
      ]
     },
     "execution_count": 318,
     "metadata": {},
     "output_type": "execute_result"
    },
    {
     "data": {
      "application/javascript": [
       "\n",
       "            setTimeout(function() {\n",
       "                var nbb_cell_id = 318;\n",
       "                var nbb_unformatted_code = \"df_sorted_scpm[cols + [\\\"topo_scmp_order_eq\\\"]].round(5).head(5)\";\n",
       "                var nbb_formatted_code = \"df_sorted_scpm[cols + [\\\"topo_scmp_order_eq\\\"]].round(5).head(5)\";\n",
       "                var nbb_cells = Jupyter.notebook.get_cells();\n",
       "                for (var i = 0; i < nbb_cells.length; ++i) {\n",
       "                    if (nbb_cells[i].input_prompt_number == nbb_cell_id) {\n",
       "                        if (nbb_cells[i].get_text() == nbb_unformatted_code) {\n",
       "                             nbb_cells[i].set_text(nbb_formatted_code);\n",
       "                        }\n",
       "                        break;\n",
       "                    }\n",
       "                }\n",
       "            }, 500);\n",
       "            "
      ],
      "text/plain": [
       "<IPython.core.display.Javascript object>"
      ]
     },
     "metadata": {},
     "output_type": "display_data"
    }
   ],
   "source": [
    "df_sorted_scpm[cols + [\"topo_scmp_order_eq\"]].round(5).head(5)"
   ]
  },
  {
   "cell_type": "markdown",
   "id": "34d52571",
   "metadata": {},
   "source": [
    "### Time Series Split"
   ]
  },
  {
   "cell_type": "code",
   "execution_count": 319,
   "id": "94a40a67",
   "metadata": {},
   "outputs": [
    {
     "data": {
      "text/plain": [
       "array(['Blocking Time Series Split', 'Time Series Split'], dtype=object)"
      ]
     },
     "execution_count": 319,
     "metadata": {},
     "output_type": "execute_result"
    },
    {
     "data": {
      "application/javascript": [
       "\n",
       "            setTimeout(function() {\n",
       "                var nbb_cell_id = 319;\n",
       "                var nbb_unformatted_code = \"df_results_cm_p_cs[\\\"Cross Validation\\\"].unique()\";\n",
       "                var nbb_formatted_code = \"df_results_cm_p_cs[\\\"Cross Validation\\\"].unique()\";\n",
       "                var nbb_cells = Jupyter.notebook.get_cells();\n",
       "                for (var i = 0; i < nbb_cells.length; ++i) {\n",
       "                    if (nbb_cells[i].input_prompt_number == nbb_cell_id) {\n",
       "                        if (nbb_cells[i].get_text() == nbb_unformatted_code) {\n",
       "                             nbb_cells[i].set_text(nbb_formatted_code);\n",
       "                        }\n",
       "                        break;\n",
       "                    }\n",
       "                }\n",
       "            }, 500);\n",
       "            "
      ],
      "text/plain": [
       "<IPython.core.display.Javascript object>"
      ]
     },
     "metadata": {},
     "output_type": "display_data"
    }
   ],
   "source": [
    "df_results_cm_p_cs[\"Cross Validation\"].unique()"
   ]
  },
  {
   "cell_type": "code",
   "execution_count": 320,
   "id": "082689cb",
   "metadata": {},
   "outputs": [
    {
     "data": {
      "application/javascript": [
       "\n",
       "            setTimeout(function() {\n",
       "                var nbb_cell_id = 320;\n",
       "                var nbb_unformatted_code = \"df_results_cm_p_cs_tss = (\\n    df_results_cm_p_cs[df_results_cm_p_cs[\\\"Cross Validation\\\"].eq(\\\"Time Series Split\\\")]\\n    .copy()\\n    .reset_index(drop=True)\\n)\";\n",
       "                var nbb_formatted_code = \"df_results_cm_p_cs_tss = (\\n    df_results_cm_p_cs[df_results_cm_p_cs[\\\"Cross Validation\\\"].eq(\\\"Time Series Split\\\")]\\n    .copy()\\n    .reset_index(drop=True)\\n)\";\n",
       "                var nbb_cells = Jupyter.notebook.get_cells();\n",
       "                for (var i = 0; i < nbb_cells.length; ++i) {\n",
       "                    if (nbb_cells[i].input_prompt_number == nbb_cell_id) {\n",
       "                        if (nbb_cells[i].get_text() == nbb_unformatted_code) {\n",
       "                             nbb_cells[i].set_text(nbb_formatted_code);\n",
       "                        }\n",
       "                        break;\n",
       "                    }\n",
       "                }\n",
       "            }, 500);\n",
       "            "
      ],
      "text/plain": [
       "<IPython.core.display.Javascript object>"
      ]
     },
     "metadata": {},
     "output_type": "display_data"
    }
   ],
   "source": [
    "df_results_cm_p_cs_tss = (\n",
    "    df_results_cm_p_cs[df_results_cm_p_cs[\"Cross Validation\"].eq(\"Time Series Split\")]\n",
    "    .copy()\n",
    "    .reset_index(drop=True)\n",
    ")"
   ]
  },
  {
   "cell_type": "code",
   "execution_count": 321,
   "id": "c27f6ae9",
   "metadata": {},
   "outputs": [
    {
     "data": {
      "text/plain": [
       "array(['Time Series Split'], dtype=object)"
      ]
     },
     "execution_count": 321,
     "metadata": {},
     "output_type": "execute_result"
    },
    {
     "data": {
      "application/javascript": [
       "\n",
       "            setTimeout(function() {\n",
       "                var nbb_cell_id = 321;\n",
       "                var nbb_unformatted_code = \"df_results_cm_p_cs_tss[\\\"Cross Validation\\\"].unique()\";\n",
       "                var nbb_formatted_code = \"df_results_cm_p_cs_tss[\\\"Cross Validation\\\"].unique()\";\n",
       "                var nbb_cells = Jupyter.notebook.get_cells();\n",
       "                for (var i = 0; i < nbb_cells.length; ++i) {\n",
       "                    if (nbb_cells[i].input_prompt_number == nbb_cell_id) {\n",
       "                        if (nbb_cells[i].get_text() == nbb_unformatted_code) {\n",
       "                             nbb_cells[i].set_text(nbb_formatted_code);\n",
       "                        }\n",
       "                        break;\n",
       "                    }\n",
       "                }\n",
       "            }, 500);\n",
       "            "
      ],
      "text/plain": [
       "<IPython.core.display.Javascript object>"
      ]
     },
     "metadata": {},
     "output_type": "display_data"
    }
   ],
   "source": [
    "df_results_cm_p_cs_tss[\"Cross Validation\"].unique()"
   ]
  },
  {
   "cell_type": "code",
   "execution_count": 322,
   "id": "c0cfa124",
   "metadata": {},
   "outputs": [
    {
     "data": {
      "text/plain": [
       "(17, 17)"
      ]
     },
     "execution_count": 322,
     "metadata": {},
     "output_type": "execute_result"
    },
    {
     "data": {
      "application/javascript": [
       "\n",
       "            setTimeout(function() {\n",
       "                var nbb_cell_id = 322;\n",
       "                var nbb_unformatted_code = \"df_results_cm_p_cs_tss.shape\";\n",
       "                var nbb_formatted_code = \"df_results_cm_p_cs_tss.shape\";\n",
       "                var nbb_cells = Jupyter.notebook.get_cells();\n",
       "                for (var i = 0; i < nbb_cells.length; ++i) {\n",
       "                    if (nbb_cells[i].input_prompt_number == nbb_cell_id) {\n",
       "                        if (nbb_cells[i].get_text() == nbb_unformatted_code) {\n",
       "                             nbb_cells[i].set_text(nbb_formatted_code);\n",
       "                        }\n",
       "                        break;\n",
       "                    }\n",
       "                }\n",
       "            }, 500);\n",
       "            "
      ],
      "text/plain": [
       "<IPython.core.display.Javascript object>"
      ]
     },
     "metadata": {},
     "output_type": "display_data"
    }
   ],
   "source": [
    "df_results_cm_p_cs_tss.shape"
   ]
  },
  {
   "cell_type": "markdown",
   "id": "25a94fb5",
   "metadata": {},
   "source": [
    "###### SCPM computation"
   ]
  },
  {
   "cell_type": "code",
   "execution_count": 323,
   "id": "fc3796de",
   "metadata": {},
   "outputs": [
    {
     "data": {
      "application/javascript": [
       "\n",
       "            setTimeout(function() {\n",
       "                var nbb_cell_id = 323;\n",
       "                var nbb_unformatted_code = \"df_results_cm_p_cs_tss = compute_scpm(df_results_cm_p_cs_tss)\";\n",
       "                var nbb_formatted_code = \"df_results_cm_p_cs_tss = compute_scpm(df_results_cm_p_cs_tss)\";\n",
       "                var nbb_cells = Jupyter.notebook.get_cells();\n",
       "                for (var i = 0; i < nbb_cells.length; ++i) {\n",
       "                    if (nbb_cells[i].input_prompt_number == nbb_cell_id) {\n",
       "                        if (nbb_cells[i].get_text() == nbb_unformatted_code) {\n",
       "                             nbb_cells[i].set_text(nbb_formatted_code);\n",
       "                        }\n",
       "                        break;\n",
       "                    }\n",
       "                }\n",
       "            }, 500);\n",
       "            "
      ],
      "text/plain": [
       "<IPython.core.display.Javascript object>"
      ]
     },
     "metadata": {},
     "output_type": "display_data"
    }
   ],
   "source": [
    "df_results_cm_p_cs_tss = compute_scpm(df_results_cm_p_cs_tss)"
   ]
  },
  {
   "cell_type": "markdown",
   "id": "156864ba",
   "metadata": {},
   "source": [
    "##### Dominance Analysis"
   ]
  },
  {
   "cell_type": "code",
   "execution_count": 324,
   "id": "6aa000ec",
   "metadata": {},
   "outputs": [
    {
     "data": {
      "application/javascript": [
       "\n",
       "            setTimeout(function() {\n",
       "                var nbb_cell_id = 324;\n",
       "                var nbb_unformatted_code = \"# Per project\\ndominance_dict = make_dominance_analysis(df_results_cm_p_cs_tss)\\ndominance_matrix_cm_p_cs_tss = dominance_dict[\\\"dominance_matrix\\\"]\\ndominance_graph_cm_p_cs_tss = dominance_dict[\\\"dominance_graph\\\"]\\ndf_sorted_count = dominance_dict[\\\"df_sorted_count\\\"]\\ndf_sorted_topo = dominance_dict[\\\"df_sorted_topo\\\"]\";\n",
       "                var nbb_formatted_code = \"# Per project\\ndominance_dict = make_dominance_analysis(df_results_cm_p_cs_tss)\\ndominance_matrix_cm_p_cs_tss = dominance_dict[\\\"dominance_matrix\\\"]\\ndominance_graph_cm_p_cs_tss = dominance_dict[\\\"dominance_graph\\\"]\\ndf_sorted_count = dominance_dict[\\\"df_sorted_count\\\"]\\ndf_sorted_topo = dominance_dict[\\\"df_sorted_topo\\\"]\";\n",
       "                var nbb_cells = Jupyter.notebook.get_cells();\n",
       "                for (var i = 0; i < nbb_cells.length; ++i) {\n",
       "                    if (nbb_cells[i].input_prompt_number == nbb_cell_id) {\n",
       "                        if (nbb_cells[i].get_text() == nbb_unformatted_code) {\n",
       "                             nbb_cells[i].set_text(nbb_formatted_code);\n",
       "                        }\n",
       "                        break;\n",
       "                    }\n",
       "                }\n",
       "            }, 500);\n",
       "            "
      ],
      "text/plain": [
       "<IPython.core.display.Javascript object>"
      ]
     },
     "metadata": {},
     "output_type": "display_data"
    }
   ],
   "source": [
    "# Per project\n",
    "dominance_dict = make_dominance_analysis(df_results_cm_p_cs_tss)\n",
    "dominance_matrix_cm_p_cs_tss = dominance_dict[\"dominance_matrix\"]\n",
    "dominance_graph_cm_p_cs_tss = dominance_dict[\"dominance_graph\"]\n",
    "df_sorted_count = dominance_dict[\"df_sorted_count\"]\n",
    "df_sorted_topo = dominance_dict[\"df_sorted_topo\"]"
   ]
  },
  {
   "cell_type": "code",
   "execution_count": 325,
   "id": "fa25c39a",
   "metadata": {},
   "outputs": [
    {
     "data": {
      "text/plain": [
       "((17, 17), 17)"
      ]
     },
     "execution_count": 325,
     "metadata": {},
     "output_type": "execute_result"
    },
    {
     "data": {
      "application/javascript": [
       "\n",
       "            setTimeout(function() {\n",
       "                var nbb_cell_id = 325;\n",
       "                var nbb_unformatted_code = \"dominance_matrix_cm_p_cs_tss.shape, len(dominance_graph_cm_p_cs_tss)\";\n",
       "                var nbb_formatted_code = \"dominance_matrix_cm_p_cs_tss.shape, len(dominance_graph_cm_p_cs_tss)\";\n",
       "                var nbb_cells = Jupyter.notebook.get_cells();\n",
       "                for (var i = 0; i < nbb_cells.length; ++i) {\n",
       "                    if (nbb_cells[i].input_prompt_number == nbb_cell_id) {\n",
       "                        if (nbb_cells[i].get_text() == nbb_unformatted_code) {\n",
       "                             nbb_cells[i].set_text(nbb_formatted_code);\n",
       "                        }\n",
       "                        break;\n",
       "                    }\n",
       "                }\n",
       "            }, 500);\n",
       "            "
      ],
      "text/plain": [
       "<IPython.core.display.Javascript object>"
      ]
     },
     "metadata": {},
     "output_type": "display_data"
    }
   ],
   "source": [
    "dominance_matrix_cm_p_cs_tss.shape, len(dominance_graph_cm_p_cs_tss)"
   ]
  },
  {
   "cell_type": "code",
   "execution_count": 326,
   "id": "818261dc",
   "metadata": {},
   "outputs": [
    {
     "data": {
      "text/plain": [
       "Classification\n",
       "intermediate_model    14\n",
       "dominant_model         2\n",
       "non_dominant_model     1\n",
       "Name: count, dtype: int64"
      ]
     },
     "execution_count": 326,
     "metadata": {},
     "output_type": "execute_result"
    },
    {
     "data": {
      "application/javascript": [
       "\n",
       "            setTimeout(function() {\n",
       "                var nbb_cell_id = 326;\n",
       "                var nbb_unformatted_code = \"df_sorted_topo[\\\"Classification\\\"].value_counts()\";\n",
       "                var nbb_formatted_code = \"df_sorted_topo[\\\"Classification\\\"].value_counts()\";\n",
       "                var nbb_cells = Jupyter.notebook.get_cells();\n",
       "                for (var i = 0; i < nbb_cells.length; ++i) {\n",
       "                    if (nbb_cells[i].input_prompt_number == nbb_cell_id) {\n",
       "                        if (nbb_cells[i].get_text() == nbb_unformatted_code) {\n",
       "                             nbb_cells[i].set_text(nbb_formatted_code);\n",
       "                        }\n",
       "                        break;\n",
       "                    }\n",
       "                }\n",
       "            }, 500);\n",
       "            "
      ],
      "text/plain": [
       "<IPython.core.display.Javascript object>"
      ]
     },
     "metadata": {},
     "output_type": "display_data"
    }
   ],
   "source": [
    "df_sorted_topo[\"Classification\"].value_counts()"
   ]
  },
  {
   "cell_type": "code",
   "execution_count": 327,
   "id": "235921a1",
   "metadata": {
    "scrolled": false
   },
   "outputs": [
    {
     "data": {
      "application/javascript": [
       "\n",
       "            setTimeout(function() {\n",
       "                var nbb_cell_id = 327;\n",
       "                var nbb_unformatted_code = \"df_sorted_topo.to_csv(\\n    \\\"../../../../reports/results/local_models/ecics/203_c_dominance_analysis_cm_p_cs_tss.csv\\\",\\n    index=False,\\n)\";\n",
       "                var nbb_formatted_code = \"df_sorted_topo.to_csv(\\n    \\\"../../../../reports/results/local_models/ecics/203_c_dominance_analysis_cm_p_cs_tss.csv\\\",\\n    index=False,\\n)\";\n",
       "                var nbb_cells = Jupyter.notebook.get_cells();\n",
       "                for (var i = 0; i < nbb_cells.length; ++i) {\n",
       "                    if (nbb_cells[i].input_prompt_number == nbb_cell_id) {\n",
       "                        if (nbb_cells[i].get_text() == nbb_unformatted_code) {\n",
       "                             nbb_cells[i].set_text(nbb_formatted_code);\n",
       "                        }\n",
       "                        break;\n",
       "                    }\n",
       "                }\n",
       "            }, 500);\n",
       "            "
      ],
      "text/plain": [
       "<IPython.core.display.Javascript object>"
      ]
     },
     "metadata": {},
     "output_type": "display_data"
    }
   ],
   "source": [
    "df_sorted_topo.to_csv(\n",
    "    \"../../../../reports/results/local_models/ecics/203_c_dominance_analysis_cm_p_cs_tss.csv\",\n",
    "    index=False,\n",
    ")"
   ]
  },
  {
   "cell_type": "code",
   "execution_count": 328,
   "id": "d1f7abc2",
   "metadata": {},
   "outputs": [
    {
     "data": {
      "text/html": [
       "<div>\n",
       "<style scoped>\n",
       "    .dataframe tbody tr th:only-of-type {\n",
       "        vertical-align: middle;\n",
       "    }\n",
       "\n",
       "    .dataframe tbody tr th {\n",
       "        vertical-align: top;\n",
       "    }\n",
       "\n",
       "    .dataframe thead th {\n",
       "        text-align: right;\n",
       "    }\n",
       "</style>\n",
       "<table border=\"1\" class=\"dataframe\">\n",
       "  <thead>\n",
       "    <tr style=\"text-align: right;\">\n",
       "      <th></th>\n",
       "      <th>Company</th>\n",
       "      <th>Plant</th>\n",
       "      <th>Cross Validation</th>\n",
       "      <th>Features</th>\n",
       "      <th>Features_bkp</th>\n",
       "      <th>Model</th>\n",
       "      <th>Model_bkp</th>\n",
       "      <th>Model_bkp_2</th>\n",
       "      <th>Timesteps</th>\n",
       "      <th>RMSE_mean</th>\n",
       "      <th>...</th>\n",
       "      <th>MAPE_mean</th>\n",
       "      <th>R2_mean</th>\n",
       "      <th>RMSE_std</th>\n",
       "      <th>MAE_std</th>\n",
       "      <th>MAPE_std</th>\n",
       "      <th>R2_std</th>\n",
       "      <th>SCPM</th>\n",
       "      <th>Dominated_Count</th>\n",
       "      <th>Classification</th>\n",
       "      <th>Dominates_Count</th>\n",
       "    </tr>\n",
       "  </thead>\n",
       "  <tbody>\n",
       "    <tr>\n",
       "      <th>0</th>\n",
       "      <td>203</td>\n",
       "      <td>c</td>\n",
       "      <td>Time Series Split</td>\n",
       "      <td>Chemical + Mineralogical + Physical</td>\n",
       "      <td>Chemical + Physical</td>\n",
       "      <td>Trees</td>\n",
       "      <td>Random Forest</td>\n",
       "      <td>Random Forest</td>\n",
       "      <td>NaN</td>\n",
       "      <td>1.469900</td>\n",
       "      <td>...</td>\n",
       "      <td>2.543769</td>\n",
       "      <td>0.929517</td>\n",
       "      <td>0.637965</td>\n",
       "      <td>0.357381</td>\n",
       "      <td>0.739222</td>\n",
       "      <td>0.058918</td>\n",
       "      <td>-3.879706</td>\n",
       "      <td>0</td>\n",
       "      <td>dominant_model</td>\n",
       "      <td>14</td>\n",
       "    </tr>\n",
       "    <tr>\n",
       "      <th>9</th>\n",
       "      <td>203</td>\n",
       "      <td>c</td>\n",
       "      <td>Time Series Split</td>\n",
       "      <td>Chemical + Mineralogical + Physical</td>\n",
       "      <td>Chemical + Physical</td>\n",
       "      <td>Linear Regression</td>\n",
       "      <td>Linear Regression</td>\n",
       "      <td>Linear Regression</td>\n",
       "      <td>NaN</td>\n",
       "      <td>1.492822</td>\n",
       "      <td>...</td>\n",
       "      <td>2.558572</td>\n",
       "      <td>0.935135</td>\n",
       "      <td>0.285013</td>\n",
       "      <td>0.266661</td>\n",
       "      <td>0.598803</td>\n",
       "      <td>0.020116</td>\n",
       "      <td>-3.833748</td>\n",
       "      <td>0</td>\n",
       "      <td>dominant_model</td>\n",
       "      <td>15</td>\n",
       "    </tr>\n",
       "    <tr>\n",
       "      <th>11</th>\n",
       "      <td>203</td>\n",
       "      <td>c</td>\n",
       "      <td>Time Series Split</td>\n",
       "      <td>Chemical + Mineralogical + Physical</td>\n",
       "      <td>Chemical + Physical</td>\n",
       "      <td>Neural Networks</td>\n",
       "      <td>Transformer</td>\n",
       "      <td>Transformer_1.0</td>\n",
       "      <td>1.0</td>\n",
       "      <td>1.517652</td>\n",
       "      <td>...</td>\n",
       "      <td>2.677090</td>\n",
       "      <td>0.929673</td>\n",
       "      <td>0.377983</td>\n",
       "      <td>0.272467</td>\n",
       "      <td>0.603415</td>\n",
       "      <td>0.032692</td>\n",
       "      <td>-3.564974</td>\n",
       "      <td>1</td>\n",
       "      <td>intermediate_model</td>\n",
       "      <td>14</td>\n",
       "    </tr>\n",
       "    <tr>\n",
       "      <th>5</th>\n",
       "      <td>203</td>\n",
       "      <td>c</td>\n",
       "      <td>Time Series Split</td>\n",
       "      <td>Chemical + Mineralogical + Physical</td>\n",
       "      <td>Chemical + Physical</td>\n",
       "      <td>Trees</td>\n",
       "      <td>Decision Tree</td>\n",
       "      <td>Decision Tree</td>\n",
       "      <td>NaN</td>\n",
       "      <td>1.729078</td>\n",
       "      <td>...</td>\n",
       "      <td>2.933841</td>\n",
       "      <td>0.890315</td>\n",
       "      <td>1.055642</td>\n",
       "      <td>0.630465</td>\n",
       "      <td>1.306712</td>\n",
       "      <td>0.130899</td>\n",
       "      <td>-2.736717</td>\n",
       "      <td>3</td>\n",
       "      <td>intermediate_model</td>\n",
       "      <td>11</td>\n",
       "    </tr>\n",
       "    <tr>\n",
       "      <th>12</th>\n",
       "      <td>203</td>\n",
       "      <td>c</td>\n",
       "      <td>Time Series Split</td>\n",
       "      <td>Chemical + Mineralogical + Physical</td>\n",
       "      <td>Chemical + Physical</td>\n",
       "      <td>Neural Networks</td>\n",
       "      <td>Transformer</td>\n",
       "      <td>Transformer_7.0</td>\n",
       "      <td>7.0</td>\n",
       "      <td>1.737521</td>\n",
       "      <td>...</td>\n",
       "      <td>3.181172</td>\n",
       "      <td>0.911078</td>\n",
       "      <td>0.147880</td>\n",
       "      <td>0.158667</td>\n",
       "      <td>0.372748</td>\n",
       "      <td>0.018718</td>\n",
       "      <td>-2.354102</td>\n",
       "      <td>3</td>\n",
       "      <td>intermediate_model</td>\n",
       "      <td>12</td>\n",
       "    </tr>\n",
       "  </tbody>\n",
       "</table>\n",
       "<p>5 rows × 21 columns</p>\n",
       "</div>"
      ],
      "text/plain": [
       "    Company Plant   Cross Validation                             Features  \\\n",
       "0       203     c  Time Series Split  Chemical + Mineralogical + Physical   \n",
       "9       203     c  Time Series Split  Chemical + Mineralogical + Physical   \n",
       "11      203     c  Time Series Split  Chemical + Mineralogical + Physical   \n",
       "5       203     c  Time Series Split  Chemical + Mineralogical + Physical   \n",
       "12      203     c  Time Series Split  Chemical + Mineralogical + Physical   \n",
       "\n",
       "           Features_bkp              Model          Model_bkp  \\\n",
       "0   Chemical + Physical              Trees      Random Forest   \n",
       "9   Chemical + Physical  Linear Regression  Linear Regression   \n",
       "11  Chemical + Physical    Neural Networks        Transformer   \n",
       "5   Chemical + Physical              Trees      Decision Tree   \n",
       "12  Chemical + Physical    Neural Networks        Transformer   \n",
       "\n",
       "          Model_bkp_2  Timesteps  RMSE_mean  ...  MAPE_mean   R2_mean  \\\n",
       "0       Random Forest        NaN   1.469900  ...   2.543769  0.929517   \n",
       "9   Linear Regression        NaN   1.492822  ...   2.558572  0.935135   \n",
       "11    Transformer_1.0        1.0   1.517652  ...   2.677090  0.929673   \n",
       "5       Decision Tree        NaN   1.729078  ...   2.933841  0.890315   \n",
       "12    Transformer_7.0        7.0   1.737521  ...   3.181172  0.911078   \n",
       "\n",
       "    RMSE_std   MAE_std  MAPE_std    R2_std      SCPM  Dominated_Count  \\\n",
       "0   0.637965  0.357381  0.739222  0.058918 -3.879706                0   \n",
       "9   0.285013  0.266661  0.598803  0.020116 -3.833748                0   \n",
       "11  0.377983  0.272467  0.603415  0.032692 -3.564974                1   \n",
       "5   1.055642  0.630465  1.306712  0.130899 -2.736717                3   \n",
       "12  0.147880  0.158667  0.372748  0.018718 -2.354102                3   \n",
       "\n",
       "        Classification Dominates_Count  \n",
       "0       dominant_model              14  \n",
       "9       dominant_model              15  \n",
       "11  intermediate_model              14  \n",
       "5   intermediate_model              11  \n",
       "12  intermediate_model              12  \n",
       "\n",
       "[5 rows x 21 columns]"
      ]
     },
     "execution_count": 328,
     "metadata": {},
     "output_type": "execute_result"
    },
    {
     "data": {
      "application/javascript": [
       "\n",
       "            setTimeout(function() {\n",
       "                var nbb_cell_id = 328;\n",
       "                var nbb_unformatted_code = \"df_sorted_topo.head(5)\";\n",
       "                var nbb_formatted_code = \"df_sorted_topo.head(5)\";\n",
       "                var nbb_cells = Jupyter.notebook.get_cells();\n",
       "                for (var i = 0; i < nbb_cells.length; ++i) {\n",
       "                    if (nbb_cells[i].input_prompt_number == nbb_cell_id) {\n",
       "                        if (nbb_cells[i].get_text() == nbb_unformatted_code) {\n",
       "                             nbb_cells[i].set_text(nbb_formatted_code);\n",
       "                        }\n",
       "                        break;\n",
       "                    }\n",
       "                }\n",
       "            }, 500);\n",
       "            "
      ],
      "text/plain": [
       "<IPython.core.display.Javascript object>"
      ]
     },
     "metadata": {},
     "output_type": "display_data"
    }
   ],
   "source": [
    "df_sorted_topo.head(5)"
   ]
  },
  {
   "cell_type": "code",
   "execution_count": 329,
   "id": "85e3e517",
   "metadata": {
    "scrolled": false
   },
   "outputs": [
    {
     "data": {
      "application/javascript": [
       "\n",
       "            setTimeout(function() {\n",
       "                var nbb_cell_id = 329;\n",
       "                var nbb_unformatted_code = \"df_sorted_topo_cols = df_sorted_topo[\\n    [\\n        # \\\"Model\\\",\\n        # \\\"Model_bkp\\\",\\n        \\\"Model_bkp_2\\\",\\n        \\\"RMSE_mean\\\",\\n        \\\"RMSE_std\\\",\\n        \\\"MAE_mean\\\",\\n        \\\"MAE_std\\\",\\n        \\\"MAPE_mean\\\",\\n        \\\"MAPE_std\\\",\\n        \\\"R2_mean\\\",\\n        \\\"R2_std\\\",\\n        \\\"SCPM\\\",\\n        \\\"Dominated_Count\\\",\\n        \\\"Classification\\\",\\n        \\\"Dominates_Count\\\",\\n        \\\"Plant\\\",\\n    ]\\n].round(2)\";\n",
       "                var nbb_formatted_code = \"df_sorted_topo_cols = df_sorted_topo[\\n    [\\n        # \\\"Model\\\",\\n        # \\\"Model_bkp\\\",\\n        \\\"Model_bkp_2\\\",\\n        \\\"RMSE_mean\\\",\\n        \\\"RMSE_std\\\",\\n        \\\"MAE_mean\\\",\\n        \\\"MAE_std\\\",\\n        \\\"MAPE_mean\\\",\\n        \\\"MAPE_std\\\",\\n        \\\"R2_mean\\\",\\n        \\\"R2_std\\\",\\n        \\\"SCPM\\\",\\n        \\\"Dominated_Count\\\",\\n        \\\"Classification\\\",\\n        \\\"Dominates_Count\\\",\\n        \\\"Plant\\\",\\n    ]\\n].round(2)\";\n",
       "                var nbb_cells = Jupyter.notebook.get_cells();\n",
       "                for (var i = 0; i < nbb_cells.length; ++i) {\n",
       "                    if (nbb_cells[i].input_prompt_number == nbb_cell_id) {\n",
       "                        if (nbb_cells[i].get_text() == nbb_unformatted_code) {\n",
       "                             nbb_cells[i].set_text(nbb_formatted_code);\n",
       "                        }\n",
       "                        break;\n",
       "                    }\n",
       "                }\n",
       "            }, 500);\n",
       "            "
      ],
      "text/plain": [
       "<IPython.core.display.Javascript object>"
      ]
     },
     "metadata": {},
     "output_type": "display_data"
    }
   ],
   "source": [
    "df_sorted_topo_cols = df_sorted_topo[\n",
    "    [\n",
    "        # \"Model\",\n",
    "        # \"Model_bkp\",\n",
    "        \"Model_bkp_2\",\n",
    "        \"RMSE_mean\",\n",
    "        \"RMSE_std\",\n",
    "        \"MAE_mean\",\n",
    "        \"MAE_std\",\n",
    "        \"MAPE_mean\",\n",
    "        \"MAPE_std\",\n",
    "        \"R2_mean\",\n",
    "        \"R2_std\",\n",
    "        \"SCPM\",\n",
    "        \"Dominated_Count\",\n",
    "        \"Classification\",\n",
    "        \"Dominates_Count\",\n",
    "        \"Plant\",\n",
    "    ]\n",
    "].round(2)"
   ]
  },
  {
   "cell_type": "markdown",
   "id": "94666410",
   "metadata": {},
   "source": [
    "###### Dominant Models"
   ]
  },
  {
   "cell_type": "code",
   "execution_count": 330,
   "id": "ab8163f1",
   "metadata": {},
   "outputs": [
    {
     "data": {
      "text/html": [
       "<div>\n",
       "<style scoped>\n",
       "    .dataframe tbody tr th:only-of-type {\n",
       "        vertical-align: middle;\n",
       "    }\n",
       "\n",
       "    .dataframe tbody tr th {\n",
       "        vertical-align: top;\n",
       "    }\n",
       "\n",
       "    .dataframe thead th {\n",
       "        text-align: right;\n",
       "    }\n",
       "</style>\n",
       "<table border=\"1\" class=\"dataframe\">\n",
       "  <thead>\n",
       "    <tr style=\"text-align: right;\">\n",
       "      <th></th>\n",
       "      <th>Model_bkp_2</th>\n",
       "      <th>RMSE_mean</th>\n",
       "      <th>RMSE_std</th>\n",
       "      <th>MAE_mean</th>\n",
       "      <th>MAE_std</th>\n",
       "      <th>MAPE_mean</th>\n",
       "      <th>MAPE_std</th>\n",
       "      <th>R2_mean</th>\n",
       "      <th>R2_std</th>\n",
       "      <th>SCPM</th>\n",
       "      <th>Dominated_Count</th>\n",
       "      <th>Classification</th>\n",
       "      <th>Dominates_Count</th>\n",
       "      <th>Plant</th>\n",
       "    </tr>\n",
       "  </thead>\n",
       "  <tbody>\n",
       "    <tr>\n",
       "      <th>9</th>\n",
       "      <td>Linear Regression</td>\n",
       "      <td>1.49</td>\n",
       "      <td>0.29</td>\n",
       "      <td>1.11</td>\n",
       "      <td>0.27</td>\n",
       "      <td>2.56</td>\n",
       "      <td>0.60</td>\n",
       "      <td>0.94</td>\n",
       "      <td>0.02</td>\n",
       "      <td>-3.83</td>\n",
       "      <td>0</td>\n",
       "      <td>dominant_model</td>\n",
       "      <td>15</td>\n",
       "      <td>c</td>\n",
       "    </tr>\n",
       "    <tr>\n",
       "      <th>0</th>\n",
       "      <td>Random Forest</td>\n",
       "      <td>1.47</td>\n",
       "      <td>0.64</td>\n",
       "      <td>1.10</td>\n",
       "      <td>0.36</td>\n",
       "      <td>2.54</td>\n",
       "      <td>0.74</td>\n",
       "      <td>0.93</td>\n",
       "      <td>0.06</td>\n",
       "      <td>-3.88</td>\n",
       "      <td>0</td>\n",
       "      <td>dominant_model</td>\n",
       "      <td>14</td>\n",
       "      <td>c</td>\n",
       "    </tr>\n",
       "    <tr>\n",
       "      <th>11</th>\n",
       "      <td>Transformer_1.0</td>\n",
       "      <td>1.52</td>\n",
       "      <td>0.38</td>\n",
       "      <td>1.15</td>\n",
       "      <td>0.27</td>\n",
       "      <td>2.68</td>\n",
       "      <td>0.60</td>\n",
       "      <td>0.93</td>\n",
       "      <td>0.03</td>\n",
       "      <td>-3.56</td>\n",
       "      <td>1</td>\n",
       "      <td>intermediate_model</td>\n",
       "      <td>14</td>\n",
       "      <td>c</td>\n",
       "    </tr>\n",
       "    <tr>\n",
       "      <th>12</th>\n",
       "      <td>Transformer_7.0</td>\n",
       "      <td>1.74</td>\n",
       "      <td>0.15</td>\n",
       "      <td>1.34</td>\n",
       "      <td>0.16</td>\n",
       "      <td>3.18</td>\n",
       "      <td>0.37</td>\n",
       "      <td>0.91</td>\n",
       "      <td>0.02</td>\n",
       "      <td>-2.35</td>\n",
       "      <td>3</td>\n",
       "      <td>intermediate_model</td>\n",
       "      <td>12</td>\n",
       "      <td>c</td>\n",
       "    </tr>\n",
       "    <tr>\n",
       "      <th>5</th>\n",
       "      <td>Decision Tree</td>\n",
       "      <td>1.73</td>\n",
       "      <td>1.06</td>\n",
       "      <td>1.30</td>\n",
       "      <td>0.63</td>\n",
       "      <td>2.93</td>\n",
       "      <td>1.31</td>\n",
       "      <td>0.89</td>\n",
       "      <td>0.13</td>\n",
       "      <td>-2.74</td>\n",
       "      <td>3</td>\n",
       "      <td>intermediate_model</td>\n",
       "      <td>11</td>\n",
       "      <td>c</td>\n",
       "    </tr>\n",
       "  </tbody>\n",
       "</table>\n",
       "</div>"
      ],
      "text/plain": [
       "          Model_bkp_2  RMSE_mean  RMSE_std  MAE_mean  MAE_std  MAPE_mean  \\\n",
       "9   Linear Regression       1.49      0.29      1.11     0.27       2.56   \n",
       "0       Random Forest       1.47      0.64      1.10     0.36       2.54   \n",
       "11    Transformer_1.0       1.52      0.38      1.15     0.27       2.68   \n",
       "12    Transformer_7.0       1.74      0.15      1.34     0.16       3.18   \n",
       "5       Decision Tree       1.73      1.06      1.30     0.63       2.93   \n",
       "\n",
       "    MAPE_std  R2_mean  R2_std  SCPM  Dominated_Count      Classification  \\\n",
       "9       0.60     0.94    0.02 -3.83                0      dominant_model   \n",
       "0       0.74     0.93    0.06 -3.88                0      dominant_model   \n",
       "11      0.60     0.93    0.03 -3.56                1  intermediate_model   \n",
       "12      0.37     0.91    0.02 -2.35                3  intermediate_model   \n",
       "5       1.31     0.89    0.13 -2.74                3  intermediate_model   \n",
       "\n",
       "    Dominates_Count Plant  \n",
       "9                15     c  \n",
       "0                14     c  \n",
       "11               14     c  \n",
       "12               12     c  \n",
       "5                11     c  "
      ]
     },
     "execution_count": 330,
     "metadata": {},
     "output_type": "execute_result"
    },
    {
     "data": {
      "application/javascript": [
       "\n",
       "            setTimeout(function() {\n",
       "                var nbb_cell_id = 330;\n",
       "                var nbb_unformatted_code = \"# Top 5\\ndf_sorted_topo_cols.sort_values(\\n    by=[\\\"Dominates_Count\\\", \\\"SCPM\\\"], ascending=[False, True]\\n).iloc[0:5].round(2)\";\n",
       "                var nbb_formatted_code = \"# Top 5\\ndf_sorted_topo_cols.sort_values(\\n    by=[\\\"Dominates_Count\\\", \\\"SCPM\\\"], ascending=[False, True]\\n).iloc[0:5].round(2)\";\n",
       "                var nbb_cells = Jupyter.notebook.get_cells();\n",
       "                for (var i = 0; i < nbb_cells.length; ++i) {\n",
       "                    if (nbb_cells[i].input_prompt_number == nbb_cell_id) {\n",
       "                        if (nbb_cells[i].get_text() == nbb_unformatted_code) {\n",
       "                             nbb_cells[i].set_text(nbb_formatted_code);\n",
       "                        }\n",
       "                        break;\n",
       "                    }\n",
       "                }\n",
       "            }, 500);\n",
       "            "
      ],
      "text/plain": [
       "<IPython.core.display.Javascript object>"
      ]
     },
     "metadata": {},
     "output_type": "display_data"
    }
   ],
   "source": [
    "# Top 5\n",
    "df_sorted_topo_cols.sort_values(\n",
    "    by=[\"Dominates_Count\", \"SCPM\"], ascending=[False, True]\n",
    ").iloc[0:5].round(2)"
   ]
  },
  {
   "cell_type": "code",
   "execution_count": 331,
   "id": "4d4c0737",
   "metadata": {},
   "outputs": [
    {
     "data": {
      "text/plain": [
       "(2, 14)"
      ]
     },
     "execution_count": 331,
     "metadata": {},
     "output_type": "execute_result"
    },
    {
     "data": {
      "application/javascript": [
       "\n",
       "            setTimeout(function() {\n",
       "                var nbb_cell_id = 331;\n",
       "                var nbb_unformatted_code = \"df_sorted_topo_cols[df_sorted_topo_cols[\\\"Classification\\\"].eq(\\\"dominant_model\\\")].shape\";\n",
       "                var nbb_formatted_code = \"df_sorted_topo_cols[df_sorted_topo_cols[\\\"Classification\\\"].eq(\\\"dominant_model\\\")].shape\";\n",
       "                var nbb_cells = Jupyter.notebook.get_cells();\n",
       "                for (var i = 0; i < nbb_cells.length; ++i) {\n",
       "                    if (nbb_cells[i].input_prompt_number == nbb_cell_id) {\n",
       "                        if (nbb_cells[i].get_text() == nbb_unformatted_code) {\n",
       "                             nbb_cells[i].set_text(nbb_formatted_code);\n",
       "                        }\n",
       "                        break;\n",
       "                    }\n",
       "                }\n",
       "            }, 500);\n",
       "            "
      ],
      "text/plain": [
       "<IPython.core.display.Javascript object>"
      ]
     },
     "metadata": {},
     "output_type": "display_data"
    }
   ],
   "source": [
    "df_sorted_topo_cols[df_sorted_topo_cols[\"Classification\"].eq(\"dominant_model\")].shape"
   ]
  },
  {
   "cell_type": "markdown",
   "id": "473f4422",
   "metadata": {},
   "source": [
    "###### Intermediate models"
   ]
  },
  {
   "cell_type": "code",
   "execution_count": 332,
   "id": "43e6f7b5",
   "metadata": {},
   "outputs": [
    {
     "data": {
      "text/html": [
       "<div>\n",
       "<style scoped>\n",
       "    .dataframe tbody tr th:only-of-type {\n",
       "        vertical-align: middle;\n",
       "    }\n",
       "\n",
       "    .dataframe tbody tr th {\n",
       "        vertical-align: top;\n",
       "    }\n",
       "\n",
       "    .dataframe thead th {\n",
       "        text-align: right;\n",
       "    }\n",
       "</style>\n",
       "<table border=\"1\" class=\"dataframe\">\n",
       "  <thead>\n",
       "    <tr style=\"text-align: right;\">\n",
       "      <th></th>\n",
       "      <th>Model_bkp_2</th>\n",
       "      <th>RMSE_mean</th>\n",
       "      <th>RMSE_std</th>\n",
       "      <th>MAE_mean</th>\n",
       "      <th>MAE_std</th>\n",
       "      <th>MAPE_mean</th>\n",
       "      <th>MAPE_std</th>\n",
       "      <th>R2_mean</th>\n",
       "      <th>R2_std</th>\n",
       "      <th>SCPM</th>\n",
       "      <th>Dominated_Count</th>\n",
       "      <th>Classification</th>\n",
       "      <th>Dominates_Count</th>\n",
       "      <th>Plant</th>\n",
       "    </tr>\n",
       "  </thead>\n",
       "  <tbody>\n",
       "    <tr>\n",
       "      <th>11</th>\n",
       "      <td>Transformer_1.0</td>\n",
       "      <td>1.52</td>\n",
       "      <td>0.38</td>\n",
       "      <td>1.15</td>\n",
       "      <td>0.27</td>\n",
       "      <td>2.68</td>\n",
       "      <td>0.60</td>\n",
       "      <td>0.93</td>\n",
       "      <td>0.03</td>\n",
       "      <td>-3.56</td>\n",
       "      <td>1</td>\n",
       "      <td>intermediate_model</td>\n",
       "      <td>14</td>\n",
       "      <td>c</td>\n",
       "    </tr>\n",
       "    <tr>\n",
       "      <th>12</th>\n",
       "      <td>Transformer_7.0</td>\n",
       "      <td>1.74</td>\n",
       "      <td>0.15</td>\n",
       "      <td>1.34</td>\n",
       "      <td>0.16</td>\n",
       "      <td>3.18</td>\n",
       "      <td>0.37</td>\n",
       "      <td>0.91</td>\n",
       "      <td>0.02</td>\n",
       "      <td>-2.35</td>\n",
       "      <td>3</td>\n",
       "      <td>intermediate_model</td>\n",
       "      <td>12</td>\n",
       "      <td>c</td>\n",
       "    </tr>\n",
       "    <tr>\n",
       "      <th>5</th>\n",
       "      <td>Decision Tree</td>\n",
       "      <td>1.73</td>\n",
       "      <td>1.06</td>\n",
       "      <td>1.30</td>\n",
       "      <td>0.63</td>\n",
       "      <td>2.93</td>\n",
       "      <td>1.31</td>\n",
       "      <td>0.89</td>\n",
       "      <td>0.13</td>\n",
       "      <td>-2.74</td>\n",
       "      <td>3</td>\n",
       "      <td>intermediate_model</td>\n",
       "      <td>11</td>\n",
       "      <td>c</td>\n",
       "    </tr>\n",
       "    <tr>\n",
       "      <th>13</th>\n",
       "      <td>Transformer_14.0</td>\n",
       "      <td>1.84</td>\n",
       "      <td>0.32</td>\n",
       "      <td>1.42</td>\n",
       "      <td>0.25</td>\n",
       "      <td>3.43</td>\n",
       "      <td>0.59</td>\n",
       "      <td>0.89</td>\n",
       "      <td>0.05</td>\n",
       "      <td>-1.80</td>\n",
       "      <td>4</td>\n",
       "      <td>intermediate_model</td>\n",
       "      <td>10</td>\n",
       "      <td>c</td>\n",
       "    </tr>\n",
       "  </tbody>\n",
       "</table>\n",
       "</div>"
      ],
      "text/plain": [
       "         Model_bkp_2  RMSE_mean  RMSE_std  MAE_mean  MAE_std  MAPE_mean  \\\n",
       "11   Transformer_1.0       1.52      0.38      1.15     0.27       2.68   \n",
       "12   Transformer_7.0       1.74      0.15      1.34     0.16       3.18   \n",
       "5      Decision Tree       1.73      1.06      1.30     0.63       2.93   \n",
       "13  Transformer_14.0       1.84      0.32      1.42     0.25       3.43   \n",
       "\n",
       "    MAPE_std  R2_mean  R2_std  SCPM  Dominated_Count      Classification  \\\n",
       "11      0.60     0.93    0.03 -3.56                1  intermediate_model   \n",
       "12      0.37     0.91    0.02 -2.35                3  intermediate_model   \n",
       "5       1.31     0.89    0.13 -2.74                3  intermediate_model   \n",
       "13      0.59     0.89    0.05 -1.80                4  intermediate_model   \n",
       "\n",
       "    Dominates_Count Plant  \n",
       "11               14     c  \n",
       "12               12     c  \n",
       "5                11     c  \n",
       "13               10     c  "
      ]
     },
     "execution_count": 332,
     "metadata": {},
     "output_type": "execute_result"
    },
    {
     "data": {
      "application/javascript": [
       "\n",
       "            setTimeout(function() {\n",
       "                var nbb_cell_id = 332;\n",
       "                var nbb_unformatted_code = \"df_sorted_topo_cols[\\n    df_sorted_topo_cols[\\\"Classification\\\"].eq(\\\"intermediate_model\\\")\\n].sort_values(by=[\\\"Dominates_Count\\\", \\\"SCPM\\\"], ascending=[False, True]).iloc[:4]\";\n",
       "                var nbb_formatted_code = \"df_sorted_topo_cols[\\n    df_sorted_topo_cols[\\\"Classification\\\"].eq(\\\"intermediate_model\\\")\\n].sort_values(by=[\\\"Dominates_Count\\\", \\\"SCPM\\\"], ascending=[False, True]).iloc[:4]\";\n",
       "                var nbb_cells = Jupyter.notebook.get_cells();\n",
       "                for (var i = 0; i < nbb_cells.length; ++i) {\n",
       "                    if (nbb_cells[i].input_prompt_number == nbb_cell_id) {\n",
       "                        if (nbb_cells[i].get_text() == nbb_unformatted_code) {\n",
       "                             nbb_cells[i].set_text(nbb_formatted_code);\n",
       "                        }\n",
       "                        break;\n",
       "                    }\n",
       "                }\n",
       "            }, 500);\n",
       "            "
      ],
      "text/plain": [
       "<IPython.core.display.Javascript object>"
      ]
     },
     "metadata": {},
     "output_type": "display_data"
    }
   ],
   "source": [
    "df_sorted_topo_cols[\n",
    "    df_sorted_topo_cols[\"Classification\"].eq(\"intermediate_model\")\n",
    "].sort_values(by=[\"Dominates_Count\", \"SCPM\"], ascending=[False, True]).iloc[:4]"
   ]
  },
  {
   "cell_type": "code",
   "execution_count": 333,
   "id": "d8643d5e",
   "metadata": {},
   "outputs": [
    {
     "data": {
      "text/plain": [
       "(14, 14)"
      ]
     },
     "execution_count": 333,
     "metadata": {},
     "output_type": "execute_result"
    },
    {
     "data": {
      "application/javascript": [
       "\n",
       "            setTimeout(function() {\n",
       "                var nbb_cell_id = 333;\n",
       "                var nbb_unformatted_code = \"df_sorted_topo_cols[\\n    df_sorted_topo_cols[\\\"Classification\\\"].eq(\\\"intermediate_model\\\")\\n].shape\";\n",
       "                var nbb_formatted_code = \"df_sorted_topo_cols[\\n    df_sorted_topo_cols[\\\"Classification\\\"].eq(\\\"intermediate_model\\\")\\n].shape\";\n",
       "                var nbb_cells = Jupyter.notebook.get_cells();\n",
       "                for (var i = 0; i < nbb_cells.length; ++i) {\n",
       "                    if (nbb_cells[i].input_prompt_number == nbb_cell_id) {\n",
       "                        if (nbb_cells[i].get_text() == nbb_unformatted_code) {\n",
       "                             nbb_cells[i].set_text(nbb_formatted_code);\n",
       "                        }\n",
       "                        break;\n",
       "                    }\n",
       "                }\n",
       "            }, 500);\n",
       "            "
      ],
      "text/plain": [
       "<IPython.core.display.Javascript object>"
      ]
     },
     "metadata": {},
     "output_type": "display_data"
    }
   ],
   "source": [
    "df_sorted_topo_cols[\n",
    "    df_sorted_topo_cols[\"Classification\"].eq(\"intermediate_model\")\n",
    "].shape"
   ]
  },
  {
   "cell_type": "markdown",
   "id": "8818f9e0",
   "metadata": {},
   "source": [
    "###### non-dominant models"
   ]
  },
  {
   "cell_type": "code",
   "execution_count": 334,
   "id": "cc052167",
   "metadata": {},
   "outputs": [
    {
     "data": {
      "text/html": [
       "<div>\n",
       "<style scoped>\n",
       "    .dataframe tbody tr th:only-of-type {\n",
       "        vertical-align: middle;\n",
       "    }\n",
       "\n",
       "    .dataframe tbody tr th {\n",
       "        vertical-align: top;\n",
       "    }\n",
       "\n",
       "    .dataframe thead th {\n",
       "        text-align: right;\n",
       "    }\n",
       "</style>\n",
       "<table border=\"1\" class=\"dataframe\">\n",
       "  <thead>\n",
       "    <tr style=\"text-align: right;\">\n",
       "      <th></th>\n",
       "      <th>Model_bkp_2</th>\n",
       "      <th>RMSE_mean</th>\n",
       "      <th>RMSE_std</th>\n",
       "      <th>MAE_mean</th>\n",
       "      <th>MAE_std</th>\n",
       "      <th>MAPE_mean</th>\n",
       "      <th>MAPE_std</th>\n",
       "      <th>R2_mean</th>\n",
       "      <th>R2_std</th>\n",
       "      <th>SCPM</th>\n",
       "      <th>Dominated_Count</th>\n",
       "      <th>Classification</th>\n",
       "      <th>Dominates_Count</th>\n",
       "      <th>Plant</th>\n",
       "    </tr>\n",
       "  </thead>\n",
       "  <tbody>\n",
       "    <tr>\n",
       "      <th>8</th>\n",
       "      <td>BidirectionalGRU_14.0</td>\n",
       "      <td>7.75</td>\n",
       "      <td>10.25</td>\n",
       "      <td>2.58</td>\n",
       "      <td>1.74</td>\n",
       "      <td>5.79</td>\n",
       "      <td>3.65</td>\n",
       "      <td>-3.75</td>\n",
       "      <td>9.03</td>\n",
       "      <td>12.19</td>\n",
       "      <td>16</td>\n",
       "      <td>non_dominant_model</td>\n",
       "      <td>0</td>\n",
       "      <td>c</td>\n",
       "    </tr>\n",
       "  </tbody>\n",
       "</table>\n",
       "</div>"
      ],
      "text/plain": [
       "             Model_bkp_2  RMSE_mean  RMSE_std  MAE_mean  MAE_std  MAPE_mean  \\\n",
       "8  BidirectionalGRU_14.0       7.75     10.25      2.58     1.74       5.79   \n",
       "\n",
       "   MAPE_std  R2_mean  R2_std   SCPM  Dominated_Count      Classification  \\\n",
       "8      3.65    -3.75    9.03  12.19               16  non_dominant_model   \n",
       "\n",
       "   Dominates_Count Plant  \n",
       "8                0     c  "
      ]
     },
     "execution_count": 334,
     "metadata": {},
     "output_type": "execute_result"
    },
    {
     "data": {
      "application/javascript": [
       "\n",
       "            setTimeout(function() {\n",
       "                var nbb_cell_id = 334;\n",
       "                var nbb_unformatted_code = \"df_sorted_topo_cols[\\n    df_sorted_topo_cols[\\\"Classification\\\"].eq(\\\"non_dominant_model\\\")\\n].sort_values(by=[\\\"Dominated_Count\\\", \\\"SCPM\\\"], ascending=[True, False]).iloc[:5]\";\n",
       "                var nbb_formatted_code = \"df_sorted_topo_cols[\\n    df_sorted_topo_cols[\\\"Classification\\\"].eq(\\\"non_dominant_model\\\")\\n].sort_values(by=[\\\"Dominated_Count\\\", \\\"SCPM\\\"], ascending=[True, False]).iloc[:5]\";\n",
       "                var nbb_cells = Jupyter.notebook.get_cells();\n",
       "                for (var i = 0; i < nbb_cells.length; ++i) {\n",
       "                    if (nbb_cells[i].input_prompt_number == nbb_cell_id) {\n",
       "                        if (nbb_cells[i].get_text() == nbb_unformatted_code) {\n",
       "                             nbb_cells[i].set_text(nbb_formatted_code);\n",
       "                        }\n",
       "                        break;\n",
       "                    }\n",
       "                }\n",
       "            }, 500);\n",
       "            "
      ],
      "text/plain": [
       "<IPython.core.display.Javascript object>"
      ]
     },
     "metadata": {},
     "output_type": "display_data"
    }
   ],
   "source": [
    "df_sorted_topo_cols[\n",
    "    df_sorted_topo_cols[\"Classification\"].eq(\"non_dominant_model\")\n",
    "].sort_values(by=[\"Dominated_Count\", \"SCPM\"], ascending=[True, False]).iloc[:5]"
   ]
  },
  {
   "cell_type": "code",
   "execution_count": 335,
   "id": "5471e7f3",
   "metadata": {},
   "outputs": [
    {
     "data": {
      "text/plain": [
       "(1, 14)"
      ]
     },
     "execution_count": 335,
     "metadata": {},
     "output_type": "execute_result"
    },
    {
     "data": {
      "application/javascript": [
       "\n",
       "            setTimeout(function() {\n",
       "                var nbb_cell_id = 335;\n",
       "                var nbb_unformatted_code = \"df_sorted_topo_cols[\\n    df_sorted_topo_cols[\\\"Classification\\\"].eq(\\\"non_dominant_model\\\")\\n].shape\";\n",
       "                var nbb_formatted_code = \"df_sorted_topo_cols[\\n    df_sorted_topo_cols[\\\"Classification\\\"].eq(\\\"non_dominant_model\\\")\\n].shape\";\n",
       "                var nbb_cells = Jupyter.notebook.get_cells();\n",
       "                for (var i = 0; i < nbb_cells.length; ++i) {\n",
       "                    if (nbb_cells[i].input_prompt_number == nbb_cell_id) {\n",
       "                        if (nbb_cells[i].get_text() == nbb_unformatted_code) {\n",
       "                             nbb_cells[i].set_text(nbb_formatted_code);\n",
       "                        }\n",
       "                        break;\n",
       "                    }\n",
       "                }\n",
       "            }, 500);\n",
       "            "
      ],
      "text/plain": [
       "<IPython.core.display.Javascript object>"
      ]
     },
     "metadata": {},
     "output_type": "display_data"
    }
   ],
   "source": [
    "df_sorted_topo_cols[\n",
    "    df_sorted_topo_cols[\"Classification\"].eq(\"non_dominant_model\")\n",
    "].shape"
   ]
  },
  {
   "cell_type": "markdown",
   "id": "5b5aa404",
   "metadata": {},
   "source": [
    "###### Statistics per model type"
   ]
  },
  {
   "cell_type": "code",
   "execution_count": 336,
   "id": "ecc6a554",
   "metadata": {},
   "outputs": [
    {
     "data": {
      "application/javascript": [
       "\n",
       "            setTimeout(function() {\n",
       "                var nbb_cell_id = 336;\n",
       "                var nbb_unformatted_code = \"df_sorted_topo_models_cols = df_sorted_topo[\\n    [\\n        \\\"Model\\\",\\n        # \\\"Model_bkp\\\",\\n        # \\\"Model_bkp_2\\\",\\n        \\\"RMSE_mean\\\",\\n        \\\"RMSE_std\\\",\\n        \\\"MAE_mean\\\",\\n        \\\"MAE_std\\\",\\n        \\\"MAPE_mean\\\",\\n        \\\"MAPE_std\\\",\\n        \\\"R2_mean\\\",\\n        \\\"R2_std\\\",\\n        \\\"SCPM\\\",\\n        \\\"Dominated_Count\\\",\\n        \\\"Dominates_Count\\\",\\n        \\\"Classification\\\",\\n        \\\"Plant\\\",\\n    ]\\n]  # .round(2)\";\n",
       "                var nbb_formatted_code = \"df_sorted_topo_models_cols = df_sorted_topo[\\n    [\\n        \\\"Model\\\",\\n        # \\\"Model_bkp\\\",\\n        # \\\"Model_bkp_2\\\",\\n        \\\"RMSE_mean\\\",\\n        \\\"RMSE_std\\\",\\n        \\\"MAE_mean\\\",\\n        \\\"MAE_std\\\",\\n        \\\"MAPE_mean\\\",\\n        \\\"MAPE_std\\\",\\n        \\\"R2_mean\\\",\\n        \\\"R2_std\\\",\\n        \\\"SCPM\\\",\\n        \\\"Dominated_Count\\\",\\n        \\\"Dominates_Count\\\",\\n        \\\"Classification\\\",\\n        \\\"Plant\\\",\\n    ]\\n]  # .round(2)\";\n",
       "                var nbb_cells = Jupyter.notebook.get_cells();\n",
       "                for (var i = 0; i < nbb_cells.length; ++i) {\n",
       "                    if (nbb_cells[i].input_prompt_number == nbb_cell_id) {\n",
       "                        if (nbb_cells[i].get_text() == nbb_unformatted_code) {\n",
       "                             nbb_cells[i].set_text(nbb_formatted_code);\n",
       "                        }\n",
       "                        break;\n",
       "                    }\n",
       "                }\n",
       "            }, 500);\n",
       "            "
      ],
      "text/plain": [
       "<IPython.core.display.Javascript object>"
      ]
     },
     "metadata": {},
     "output_type": "display_data"
    }
   ],
   "source": [
    "df_sorted_topo_models_cols = df_sorted_topo[\n",
    "    [\n",
    "        \"Model\",\n",
    "        # \"Model_bkp\",\n",
    "        # \"Model_bkp_2\",\n",
    "        \"RMSE_mean\",\n",
    "        \"RMSE_std\",\n",
    "        \"MAE_mean\",\n",
    "        \"MAE_std\",\n",
    "        \"MAPE_mean\",\n",
    "        \"MAPE_std\",\n",
    "        \"R2_mean\",\n",
    "        \"R2_std\",\n",
    "        \"SCPM\",\n",
    "        \"Dominated_Count\",\n",
    "        \"Dominates_Count\",\n",
    "        \"Classification\",\n",
    "        \"Plant\",\n",
    "    ]\n",
    "]  # .round(2)"
   ]
  },
  {
   "cell_type": "code",
   "execution_count": 337,
   "id": "259a2635",
   "metadata": {},
   "outputs": [
    {
     "data": {
      "text/plain": [
       "Model\n",
       "Neural Networks      13\n",
       "Trees                 3\n",
       "Linear Regression     1\n",
       "Name: count, dtype: int64"
      ]
     },
     "execution_count": 337,
     "metadata": {},
     "output_type": "execute_result"
    },
    {
     "data": {
      "application/javascript": [
       "\n",
       "            setTimeout(function() {\n",
       "                var nbb_cell_id = 337;\n",
       "                var nbb_unformatted_code = \"df_sorted_topo[\\\"Model\\\"].value_counts()\";\n",
       "                var nbb_formatted_code = \"df_sorted_topo[\\\"Model\\\"].value_counts()\";\n",
       "                var nbb_cells = Jupyter.notebook.get_cells();\n",
       "                for (var i = 0; i < nbb_cells.length; ++i) {\n",
       "                    if (nbb_cells[i].input_prompt_number == nbb_cell_id) {\n",
       "                        if (nbb_cells[i].get_text() == nbb_unformatted_code) {\n",
       "                             nbb_cells[i].set_text(nbb_formatted_code);\n",
       "                        }\n",
       "                        break;\n",
       "                    }\n",
       "                }\n",
       "            }, 500);\n",
       "            "
      ],
      "text/plain": [
       "<IPython.core.display.Javascript object>"
      ]
     },
     "metadata": {},
     "output_type": "display_data"
    }
   ],
   "source": [
    "df_sorted_topo[\"Model\"].value_counts()"
   ]
  },
  {
   "cell_type": "code",
   "execution_count": 338,
   "id": "b0cf8e8d",
   "metadata": {},
   "outputs": [
    {
     "data": {
      "application/javascript": [
       "\n",
       "            setTimeout(function() {\n",
       "                var nbb_cell_id = 338;\n",
       "                var nbb_unformatted_code = \"df_sorted_topo_models_grouped = df_sorted_topo_models_cols.groupby(\\\"Model\\\").describe().T\";\n",
       "                var nbb_formatted_code = \"df_sorted_topo_models_grouped = df_sorted_topo_models_cols.groupby(\\\"Model\\\").describe().T\";\n",
       "                var nbb_cells = Jupyter.notebook.get_cells();\n",
       "                for (var i = 0; i < nbb_cells.length; ++i) {\n",
       "                    if (nbb_cells[i].input_prompt_number == nbb_cell_id) {\n",
       "                        if (nbb_cells[i].get_text() == nbb_unformatted_code) {\n",
       "                             nbb_cells[i].set_text(nbb_formatted_code);\n",
       "                        }\n",
       "                        break;\n",
       "                    }\n",
       "                }\n",
       "            }, 500);\n",
       "            "
      ],
      "text/plain": [
       "<IPython.core.display.Javascript object>"
      ]
     },
     "metadata": {},
     "output_type": "display_data"
    }
   ],
   "source": [
    "df_sorted_topo_models_grouped = df_sorted_topo_models_cols.groupby(\"Model\").describe().T"
   ]
  },
  {
   "cell_type": "code",
   "execution_count": 339,
   "id": "bf934bf6",
   "metadata": {},
   "outputs": [
    {
     "data": {
      "application/javascript": [
       "\n",
       "            setTimeout(function() {\n",
       "                var nbb_cell_id = 339;\n",
       "                var nbb_unformatted_code = \"df_sorted_topo_models_cols = df_sorted_topo[\\n    [\\n        \\\"Model\\\",\\n        \\\"Dominated_Count\\\",\\n        \\\"Dominates_Count\\\",\\n        \\\"Classification\\\",\\n    ]\\n]\";\n",
       "                var nbb_formatted_code = \"df_sorted_topo_models_cols = df_sorted_topo[\\n    [\\n        \\\"Model\\\",\\n        \\\"Dominated_Count\\\",\\n        \\\"Dominates_Count\\\",\\n        \\\"Classification\\\",\\n    ]\\n]\";\n",
       "                var nbb_cells = Jupyter.notebook.get_cells();\n",
       "                for (var i = 0; i < nbb_cells.length; ++i) {\n",
       "                    if (nbb_cells[i].input_prompt_number == nbb_cell_id) {\n",
       "                        if (nbb_cells[i].get_text() == nbb_unformatted_code) {\n",
       "                             nbb_cells[i].set_text(nbb_formatted_code);\n",
       "                        }\n",
       "                        break;\n",
       "                    }\n",
       "                }\n",
       "            }, 500);\n",
       "            "
      ],
      "text/plain": [
       "<IPython.core.display.Javascript object>"
      ]
     },
     "metadata": {},
     "output_type": "display_data"
    }
   ],
   "source": [
    "df_sorted_topo_models_cols = df_sorted_topo[\n",
    "    [\n",
    "        \"Model\",\n",
    "        \"Dominated_Count\",\n",
    "        \"Dominates_Count\",\n",
    "        \"Classification\",\n",
    "    ]\n",
    "]"
   ]
  },
  {
   "cell_type": "code",
   "execution_count": 340,
   "id": "2b6ea771",
   "metadata": {},
   "outputs": [
    {
     "data": {
      "text/html": [
       "<div>\n",
       "<style scoped>\n",
       "    .dataframe tbody tr th:only-of-type {\n",
       "        vertical-align: middle;\n",
       "    }\n",
       "\n",
       "    .dataframe tbody tr th {\n",
       "        vertical-align: top;\n",
       "    }\n",
       "\n",
       "    .dataframe thead th {\n",
       "        text-align: right;\n",
       "    }\n",
       "</style>\n",
       "<table border=\"1\" class=\"dataframe\">\n",
       "  <thead>\n",
       "    <tr style=\"text-align: right;\">\n",
       "      <th></th>\n",
       "      <th></th>\n",
       "      <th>proportion</th>\n",
       "    </tr>\n",
       "    <tr>\n",
       "      <th>Model</th>\n",
       "      <th>Classification</th>\n",
       "      <th></th>\n",
       "    </tr>\n",
       "  </thead>\n",
       "  <tbody>\n",
       "    <tr>\n",
       "      <th>Linear Regression</th>\n",
       "      <th>dominant_model</th>\n",
       "      <td>100.00</td>\n",
       "    </tr>\n",
       "    <tr>\n",
       "      <th rowspan=\"2\" valign=\"top\">Neural Networks</th>\n",
       "      <th>intermediate_model</th>\n",
       "      <td>92.31</td>\n",
       "    </tr>\n",
       "    <tr>\n",
       "      <th>non_dominant_model</th>\n",
       "      <td>7.69</td>\n",
       "    </tr>\n",
       "    <tr>\n",
       "      <th rowspan=\"2\" valign=\"top\">Trees</th>\n",
       "      <th>intermediate_model</th>\n",
       "      <td>66.67</td>\n",
       "    </tr>\n",
       "    <tr>\n",
       "      <th>dominant_model</th>\n",
       "      <td>33.33</td>\n",
       "    </tr>\n",
       "  </tbody>\n",
       "</table>\n",
       "</div>"
      ],
      "text/plain": [
       "                                      proportion\n",
       "Model             Classification                \n",
       "Linear Regression dominant_model          100.00\n",
       "Neural Networks   intermediate_model       92.31\n",
       "                  non_dominant_model        7.69\n",
       "Trees             intermediate_model       66.67\n",
       "                  dominant_model           33.33"
      ]
     },
     "execution_count": 340,
     "metadata": {},
     "output_type": "execute_result"
    },
    {
     "data": {
      "application/javascript": [
       "\n",
       "            setTimeout(function() {\n",
       "                var nbb_cell_id = 340;\n",
       "                var nbb_unformatted_code = \"(\\n    df_sorted_topo_models_cols.groupby(\\\"Model\\\")[[\\\"Classification\\\"]]\\n    .value_counts(normalize=True)\\n    .to_frame()\\n    * 100\\n).round(2)\";\n",
       "                var nbb_formatted_code = \"(\\n    df_sorted_topo_models_cols.groupby(\\\"Model\\\")[[\\\"Classification\\\"]]\\n    .value_counts(normalize=True)\\n    .to_frame()\\n    * 100\\n).round(2)\";\n",
       "                var nbb_cells = Jupyter.notebook.get_cells();\n",
       "                for (var i = 0; i < nbb_cells.length; ++i) {\n",
       "                    if (nbb_cells[i].input_prompt_number == nbb_cell_id) {\n",
       "                        if (nbb_cells[i].get_text() == nbb_unformatted_code) {\n",
       "                             nbb_cells[i].set_text(nbb_formatted_code);\n",
       "                        }\n",
       "                        break;\n",
       "                    }\n",
       "                }\n",
       "            }, 500);\n",
       "            "
      ],
      "text/plain": [
       "<IPython.core.display.Javascript object>"
      ]
     },
     "metadata": {},
     "output_type": "display_data"
    }
   ],
   "source": [
    "(\n",
    "    df_sorted_topo_models_cols.groupby(\"Model\")[[\"Classification\"]]\n",
    "    .value_counts(normalize=True)\n",
    "    .to_frame()\n",
    "    * 100\n",
    ").round(2)"
   ]
  },
  {
   "cell_type": "code",
   "execution_count": 341,
   "id": "63a5cbc8",
   "metadata": {},
   "outputs": [
    {
     "data": {
      "text/html": [
       "<div>\n",
       "<style scoped>\n",
       "    .dataframe tbody tr th:only-of-type {\n",
       "        vertical-align: middle;\n",
       "    }\n",
       "\n",
       "    .dataframe tbody tr th {\n",
       "        vertical-align: top;\n",
       "    }\n",
       "\n",
       "    .dataframe thead th {\n",
       "        text-align: right;\n",
       "    }\n",
       "</style>\n",
       "<table border=\"1\" class=\"dataframe\">\n",
       "  <thead>\n",
       "    <tr style=\"text-align: right;\">\n",
       "      <th></th>\n",
       "      <th>Model</th>\n",
       "      <th>Linear Regression</th>\n",
       "      <th>Neural Networks</th>\n",
       "      <th>Trees</th>\n",
       "    </tr>\n",
       "  </thead>\n",
       "  <tbody>\n",
       "    <tr>\n",
       "      <th rowspan=\"8\" valign=\"top\">Dominated_Count</th>\n",
       "      <th>count</th>\n",
       "      <td>1.0</td>\n",
       "      <td>13.00</td>\n",
       "      <td>3.00</td>\n",
       "    </tr>\n",
       "    <tr>\n",
       "      <th>mean</th>\n",
       "      <td>0.0</td>\n",
       "      <td>7.92</td>\n",
       "      <td>3.00</td>\n",
       "    </tr>\n",
       "    <tr>\n",
       "      <th>std</th>\n",
       "      <td>NaN</td>\n",
       "      <td>4.41</td>\n",
       "      <td>3.00</td>\n",
       "    </tr>\n",
       "    <tr>\n",
       "      <th>min</th>\n",
       "      <td>0.0</td>\n",
       "      <td>1.00</td>\n",
       "      <td>0.00</td>\n",
       "    </tr>\n",
       "    <tr>\n",
       "      <th>25%</th>\n",
       "      <td>0.0</td>\n",
       "      <td>5.00</td>\n",
       "      <td>1.50</td>\n",
       "    </tr>\n",
       "    <tr>\n",
       "      <th>50%</th>\n",
       "      <td>0.0</td>\n",
       "      <td>7.00</td>\n",
       "      <td>3.00</td>\n",
       "    </tr>\n",
       "    <tr>\n",
       "      <th>75%</th>\n",
       "      <td>0.0</td>\n",
       "      <td>10.00</td>\n",
       "      <td>4.50</td>\n",
       "    </tr>\n",
       "    <tr>\n",
       "      <th>max</th>\n",
       "      <td>0.0</td>\n",
       "      <td>16.00</td>\n",
       "      <td>6.00</td>\n",
       "    </tr>\n",
       "    <tr>\n",
       "      <th rowspan=\"8\" valign=\"top\">Dominates_Count</th>\n",
       "      <th>count</th>\n",
       "      <td>1.0</td>\n",
       "      <td>13.00</td>\n",
       "      <td>3.00</td>\n",
       "    </tr>\n",
       "    <tr>\n",
       "      <th>mean</th>\n",
       "      <td>15.0</td>\n",
       "      <td>5.15</td>\n",
       "      <td>10.00</td>\n",
       "    </tr>\n",
       "    <tr>\n",
       "      <th>std</th>\n",
       "      <td>NaN</td>\n",
       "      <td>4.45</td>\n",
       "      <td>4.58</td>\n",
       "    </tr>\n",
       "    <tr>\n",
       "      <th>min</th>\n",
       "      <td>15.0</td>\n",
       "      <td>0.00</td>\n",
       "      <td>5.00</td>\n",
       "    </tr>\n",
       "    <tr>\n",
       "      <th>25%</th>\n",
       "      <td>15.0</td>\n",
       "      <td>2.00</td>\n",
       "      <td>8.00</td>\n",
       "    </tr>\n",
       "    <tr>\n",
       "      <th>50%</th>\n",
       "      <td>15.0</td>\n",
       "      <td>3.00</td>\n",
       "      <td>11.00</td>\n",
       "    </tr>\n",
       "    <tr>\n",
       "      <th>75%</th>\n",
       "      <td>15.0</td>\n",
       "      <td>7.00</td>\n",
       "      <td>12.50</td>\n",
       "    </tr>\n",
       "    <tr>\n",
       "      <th>max</th>\n",
       "      <td>15.0</td>\n",
       "      <td>14.00</td>\n",
       "      <td>14.00</td>\n",
       "    </tr>\n",
       "  </tbody>\n",
       "</table>\n",
       "</div>"
      ],
      "text/plain": [
       "Model                  Linear Regression  Neural Networks  Trees\n",
       "Dominated_Count count                1.0            13.00   3.00\n",
       "                mean                 0.0             7.92   3.00\n",
       "                std                  NaN             4.41   3.00\n",
       "                min                  0.0             1.00   0.00\n",
       "                25%                  0.0             5.00   1.50\n",
       "                50%                  0.0             7.00   3.00\n",
       "                75%                  0.0            10.00   4.50\n",
       "                max                  0.0            16.00   6.00\n",
       "Dominates_Count count                1.0            13.00   3.00\n",
       "                mean                15.0             5.15  10.00\n",
       "                std                  NaN             4.45   4.58\n",
       "                min                 15.0             0.00   5.00\n",
       "                25%                 15.0             2.00   8.00\n",
       "                50%                 15.0             3.00  11.00\n",
       "                75%                 15.0             7.00  12.50\n",
       "                max                 15.0            14.00  14.00"
      ]
     },
     "execution_count": 341,
     "metadata": {},
     "output_type": "execute_result"
    },
    {
     "data": {
      "application/javascript": [
       "\n",
       "            setTimeout(function() {\n",
       "                var nbb_cell_id = 341;\n",
       "                var nbb_unformatted_code = \"df_sorted_topo_models_cols.groupby(\\\"Model\\\").describe().round(2).T\";\n",
       "                var nbb_formatted_code = \"df_sorted_topo_models_cols.groupby(\\\"Model\\\").describe().round(2).T\";\n",
       "                var nbb_cells = Jupyter.notebook.get_cells();\n",
       "                for (var i = 0; i < nbb_cells.length; ++i) {\n",
       "                    if (nbb_cells[i].input_prompt_number == nbb_cell_id) {\n",
       "                        if (nbb_cells[i].get_text() == nbb_unformatted_code) {\n",
       "                             nbb_cells[i].set_text(nbb_formatted_code);\n",
       "                        }\n",
       "                        break;\n",
       "                    }\n",
       "                }\n",
       "            }, 500);\n",
       "            "
      ],
      "text/plain": [
       "<IPython.core.display.Javascript object>"
      ]
     },
     "metadata": {},
     "output_type": "display_data"
    }
   ],
   "source": [
    "df_sorted_topo_models_cols.groupby(\"Model\").describe().round(2).T"
   ]
  },
  {
   "cell_type": "code",
   "execution_count": 342,
   "id": "3575436a",
   "metadata": {},
   "outputs": [
    {
     "data": {
      "application/javascript": [
       "\n",
       "            setTimeout(function() {\n",
       "                var nbb_cell_id = 342;\n",
       "                var nbb_unformatted_code = \"# df_sorted_topo_models_cols\";\n",
       "                var nbb_formatted_code = \"# df_sorted_topo_models_cols\";\n",
       "                var nbb_cells = Jupyter.notebook.get_cells();\n",
       "                for (var i = 0; i < nbb_cells.length; ++i) {\n",
       "                    if (nbb_cells[i].input_prompt_number == nbb_cell_id) {\n",
       "                        if (nbb_cells[i].get_text() == nbb_unformatted_code) {\n",
       "                             nbb_cells[i].set_text(nbb_formatted_code);\n",
       "                        }\n",
       "                        break;\n",
       "                    }\n",
       "                }\n",
       "            }, 500);\n",
       "            "
      ],
      "text/plain": [
       "<IPython.core.display.Javascript object>"
      ]
     },
     "metadata": {},
     "output_type": "display_data"
    }
   ],
   "source": [
    "# df_sorted_topo_models_cols"
   ]
  },
  {
   "cell_type": "code",
   "execution_count": 343,
   "id": "f1d3e794",
   "metadata": {},
   "outputs": [
    {
     "data": {
      "text/html": [
       "<div>\n",
       "<style scoped>\n",
       "    .dataframe tbody tr th:only-of-type {\n",
       "        vertical-align: middle;\n",
       "    }\n",
       "\n",
       "    .dataframe tbody tr th {\n",
       "        vertical-align: top;\n",
       "    }\n",
       "\n",
       "    .dataframe thead th {\n",
       "        text-align: right;\n",
       "    }\n",
       "</style>\n",
       "<table border=\"1\" class=\"dataframe\">\n",
       "  <thead>\n",
       "    <tr style=\"text-align: right;\">\n",
       "      <th></th>\n",
       "      <th>count</th>\n",
       "      <th>unique</th>\n",
       "      <th>top</th>\n",
       "      <th>freq</th>\n",
       "    </tr>\n",
       "    <tr>\n",
       "      <th>Model</th>\n",
       "      <th></th>\n",
       "      <th></th>\n",
       "      <th></th>\n",
       "      <th></th>\n",
       "    </tr>\n",
       "  </thead>\n",
       "  <tbody>\n",
       "    <tr>\n",
       "      <th>Linear Regression</th>\n",
       "      <td>1</td>\n",
       "      <td>1</td>\n",
       "      <td>dominant_model</td>\n",
       "      <td>1</td>\n",
       "    </tr>\n",
       "    <tr>\n",
       "      <th>Neural Networks</th>\n",
       "      <td>13</td>\n",
       "      <td>2</td>\n",
       "      <td>intermediate_model</td>\n",
       "      <td>12</td>\n",
       "    </tr>\n",
       "    <tr>\n",
       "      <th>Trees</th>\n",
       "      <td>3</td>\n",
       "      <td>2</td>\n",
       "      <td>intermediate_model</td>\n",
       "      <td>2</td>\n",
       "    </tr>\n",
       "  </tbody>\n",
       "</table>\n",
       "</div>"
      ],
      "text/plain": [
       "                  count unique                 top freq\n",
       "Model                                                  \n",
       "Linear Regression     1      1      dominant_model    1\n",
       "Neural Networks      13      2  intermediate_model   12\n",
       "Trees                 3      2  intermediate_model    2"
      ]
     },
     "execution_count": 343,
     "metadata": {},
     "output_type": "execute_result"
    },
    {
     "data": {
      "application/javascript": [
       "\n",
       "            setTimeout(function() {\n",
       "                var nbb_cell_id = 343;\n",
       "                var nbb_unformatted_code = \"df_sorted_topo_models_cols.groupby(\\\"Model\\\")[\\\"Classification\\\"].describe()\";\n",
       "                var nbb_formatted_code = \"df_sorted_topo_models_cols.groupby(\\\"Model\\\")[\\\"Classification\\\"].describe()\";\n",
       "                var nbb_cells = Jupyter.notebook.get_cells();\n",
       "                for (var i = 0; i < nbb_cells.length; ++i) {\n",
       "                    if (nbb_cells[i].input_prompt_number == nbb_cell_id) {\n",
       "                        if (nbb_cells[i].get_text() == nbb_unformatted_code) {\n",
       "                             nbb_cells[i].set_text(nbb_formatted_code);\n",
       "                        }\n",
       "                        break;\n",
       "                    }\n",
       "                }\n",
       "            }, 500);\n",
       "            "
      ],
      "text/plain": [
       "<IPython.core.display.Javascript object>"
      ]
     },
     "metadata": {},
     "output_type": "display_data"
    }
   ],
   "source": [
    "df_sorted_topo_models_cols.groupby(\"Model\")[\"Classification\"].describe()"
   ]
  },
  {
   "cell_type": "code",
   "execution_count": 344,
   "id": "712db1dd",
   "metadata": {
    "scrolled": true
   },
   "outputs": [
    {
     "data": {
      "text/plain": [
       "Model              Classification    \n",
       "Linear Regression  dominant_model         1\n",
       "Neural Networks    intermediate_model    12\n",
       "                   non_dominant_model     1\n",
       "Trees              intermediate_model     2\n",
       "                   dominant_model         1\n",
       "Name: count, dtype: int64"
      ]
     },
     "execution_count": 344,
     "metadata": {},
     "output_type": "execute_result"
    },
    {
     "data": {
      "application/javascript": [
       "\n",
       "            setTimeout(function() {\n",
       "                var nbb_cell_id = 344;\n",
       "                var nbb_unformatted_code = \"df_sorted_topo_models_cols.groupby(\\\"Model\\\")[[\\\"Classification\\\"]].value_counts()\";\n",
       "                var nbb_formatted_code = \"df_sorted_topo_models_cols.groupby(\\\"Model\\\")[[\\\"Classification\\\"]].value_counts()\";\n",
       "                var nbb_cells = Jupyter.notebook.get_cells();\n",
       "                for (var i = 0; i < nbb_cells.length; ++i) {\n",
       "                    if (nbb_cells[i].input_prompt_number == nbb_cell_id) {\n",
       "                        if (nbb_cells[i].get_text() == nbb_unformatted_code) {\n",
       "                             nbb_cells[i].set_text(nbb_formatted_code);\n",
       "                        }\n",
       "                        break;\n",
       "                    }\n",
       "                }\n",
       "            }, 500);\n",
       "            "
      ],
      "text/plain": [
       "<IPython.core.display.Javascript object>"
      ]
     },
     "metadata": {},
     "output_type": "display_data"
    }
   ],
   "source": [
    "df_sorted_topo_models_cols.groupby(\"Model\")[[\"Classification\"]].value_counts()"
   ]
  },
  {
   "cell_type": "code",
   "execution_count": 345,
   "id": "0b5ff11d",
   "metadata": {},
   "outputs": [
    {
     "data": {
      "application/javascript": [
       "\n",
       "            setTimeout(function() {\n",
       "                var nbb_cell_id = 345;\n",
       "                var nbb_unformatted_code = \"summary_stats = df_sorted_topo_models_cols.groupby(\\\"Model\\\").agg(\\n    Total_Models=(\\\"Model\\\", \\\"count\\\"),\\n    Mean_Dominance_Count=(\\\"Dominates_Count\\\", \\\"mean\\\"),\\n    Median_Dominance_Count=(\\\"Dominates_Count\\\", \\\"median\\\"),\\n    Total_Dominated=(\\\"Dominated_Count\\\", \\\"sum\\\"),\\n    Total_Dominating=(\\\"Dominates_Count\\\", \\\"sum\\\"),\\n)\\n\\ntotal_models = summary_stats[\\n    \\\"Total_Models\\\"\\n].sum()  # Get the total number of models across all categories\\nsummary_stats[\\\"Dominance Proportion\\\"] = summary_stats[\\\"Total_Dominating\\\"] / total_models\";\n",
       "                var nbb_formatted_code = \"summary_stats = df_sorted_topo_models_cols.groupby(\\\"Model\\\").agg(\\n    Total_Models=(\\\"Model\\\", \\\"count\\\"),\\n    Mean_Dominance_Count=(\\\"Dominates_Count\\\", \\\"mean\\\"),\\n    Median_Dominance_Count=(\\\"Dominates_Count\\\", \\\"median\\\"),\\n    Total_Dominated=(\\\"Dominated_Count\\\", \\\"sum\\\"),\\n    Total_Dominating=(\\\"Dominates_Count\\\", \\\"sum\\\"),\\n)\\n\\ntotal_models = summary_stats[\\n    \\\"Total_Models\\\"\\n].sum()  # Get the total number of models across all categories\\nsummary_stats[\\\"Dominance Proportion\\\"] = summary_stats[\\\"Total_Dominating\\\"] / total_models\";\n",
       "                var nbb_cells = Jupyter.notebook.get_cells();\n",
       "                for (var i = 0; i < nbb_cells.length; ++i) {\n",
       "                    if (nbb_cells[i].input_prompt_number == nbb_cell_id) {\n",
       "                        if (nbb_cells[i].get_text() == nbb_unformatted_code) {\n",
       "                             nbb_cells[i].set_text(nbb_formatted_code);\n",
       "                        }\n",
       "                        break;\n",
       "                    }\n",
       "                }\n",
       "            }, 500);\n",
       "            "
      ],
      "text/plain": [
       "<IPython.core.display.Javascript object>"
      ]
     },
     "metadata": {},
     "output_type": "display_data"
    }
   ],
   "source": [
    "summary_stats = df_sorted_topo_models_cols.groupby(\"Model\").agg(\n",
    "    Total_Models=(\"Model\", \"count\"),\n",
    "    Mean_Dominance_Count=(\"Dominates_Count\", \"mean\"),\n",
    "    Median_Dominance_Count=(\"Dominates_Count\", \"median\"),\n",
    "    Total_Dominated=(\"Dominated_Count\", \"sum\"),\n",
    "    Total_Dominating=(\"Dominates_Count\", \"sum\"),\n",
    ")\n",
    "\n",
    "total_models = summary_stats[\n",
    "    \"Total_Models\"\n",
    "].sum()  # Get the total number of models across all categories\n",
    "summary_stats[\"Dominance Proportion\"] = summary_stats[\"Total_Dominating\"] / total_models"
   ]
  },
  {
   "cell_type": "code",
   "execution_count": 346,
   "id": "f6e5922b",
   "metadata": {},
   "outputs": [
    {
     "data": {
      "text/html": [
       "<div>\n",
       "<style scoped>\n",
       "    .dataframe tbody tr th:only-of-type {\n",
       "        vertical-align: middle;\n",
       "    }\n",
       "\n",
       "    .dataframe tbody tr th {\n",
       "        vertical-align: top;\n",
       "    }\n",
       "\n",
       "    .dataframe thead th {\n",
       "        text-align: right;\n",
       "    }\n",
       "</style>\n",
       "<table border=\"1\" class=\"dataframe\">\n",
       "  <thead>\n",
       "    <tr style=\"text-align: right;\">\n",
       "      <th></th>\n",
       "      <th>Total_Models</th>\n",
       "      <th>Mean_Dominance_Count</th>\n",
       "      <th>Median_Dominance_Count</th>\n",
       "      <th>Total_Dominated</th>\n",
       "      <th>Total_Dominating</th>\n",
       "      <th>Dominance Proportion</th>\n",
       "    </tr>\n",
       "    <tr>\n",
       "      <th>Model</th>\n",
       "      <th></th>\n",
       "      <th></th>\n",
       "      <th></th>\n",
       "      <th></th>\n",
       "      <th></th>\n",
       "      <th></th>\n",
       "    </tr>\n",
       "  </thead>\n",
       "  <tbody>\n",
       "    <tr>\n",
       "      <th>Linear Regression</th>\n",
       "      <td>1</td>\n",
       "      <td>15.00</td>\n",
       "      <td>15.0</td>\n",
       "      <td>0</td>\n",
       "      <td>15</td>\n",
       "      <td>0.88</td>\n",
       "    </tr>\n",
       "    <tr>\n",
       "      <th>Neural Networks</th>\n",
       "      <td>13</td>\n",
       "      <td>5.15</td>\n",
       "      <td>3.0</td>\n",
       "      <td>103</td>\n",
       "      <td>67</td>\n",
       "      <td>3.94</td>\n",
       "    </tr>\n",
       "    <tr>\n",
       "      <th>Trees</th>\n",
       "      <td>3</td>\n",
       "      <td>10.00</td>\n",
       "      <td>11.0</td>\n",
       "      <td>9</td>\n",
       "      <td>30</td>\n",
       "      <td>1.76</td>\n",
       "    </tr>\n",
       "  </tbody>\n",
       "</table>\n",
       "</div>"
      ],
      "text/plain": [
       "                   Total_Models  Mean_Dominance_Count  Median_Dominance_Count  \\\n",
       "Model                                                                           \n",
       "Linear Regression             1                 15.00                    15.0   \n",
       "Neural Networks              13                  5.15                     3.0   \n",
       "Trees                         3                 10.00                    11.0   \n",
       "\n",
       "                   Total_Dominated  Total_Dominating  Dominance Proportion  \n",
       "Model                                                                       \n",
       "Linear Regression                0                15                  0.88  \n",
       "Neural Networks                103                67                  3.94  \n",
       "Trees                            9                30                  1.76  "
      ]
     },
     "execution_count": 346,
     "metadata": {},
     "output_type": "execute_result"
    },
    {
     "data": {
      "application/javascript": [
       "\n",
       "            setTimeout(function() {\n",
       "                var nbb_cell_id = 346;\n",
       "                var nbb_unformatted_code = \"summary_stats.round(2)\";\n",
       "                var nbb_formatted_code = \"summary_stats.round(2)\";\n",
       "                var nbb_cells = Jupyter.notebook.get_cells();\n",
       "                for (var i = 0; i < nbb_cells.length; ++i) {\n",
       "                    if (nbb_cells[i].input_prompt_number == nbb_cell_id) {\n",
       "                        if (nbb_cells[i].get_text() == nbb_unformatted_code) {\n",
       "                             nbb_cells[i].set_text(nbb_formatted_code);\n",
       "                        }\n",
       "                        break;\n",
       "                    }\n",
       "                }\n",
       "            }, 500);\n",
       "            "
      ],
      "text/plain": [
       "<IPython.core.display.Javascript object>"
      ]
     },
     "metadata": {},
     "output_type": "display_data"
    }
   ],
   "source": [
    "summary_stats.round(2)"
   ]
  },
  {
   "cell_type": "code",
   "execution_count": 347,
   "id": "ee025c81",
   "metadata": {},
   "outputs": [
    {
     "data": {
      "text/html": [
       "<div>\n",
       "<style scoped>\n",
       "    .dataframe tbody tr th:only-of-type {\n",
       "        vertical-align: middle;\n",
       "    }\n",
       "\n",
       "    .dataframe tbody tr th {\n",
       "        vertical-align: top;\n",
       "    }\n",
       "\n",
       "    .dataframe thead tr th {\n",
       "        text-align: left;\n",
       "    }\n",
       "\n",
       "    .dataframe thead tr:last-of-type th {\n",
       "        text-align: right;\n",
       "    }\n",
       "</style>\n",
       "<table border=\"1\" class=\"dataframe\">\n",
       "  <thead>\n",
       "    <tr>\n",
       "      <th></th>\n",
       "      <th colspan=\"8\" halign=\"left\">RMSE_mean</th>\n",
       "      <th colspan=\"2\" halign=\"left\">RMSE_std</th>\n",
       "      <th>...</th>\n",
       "      <th colspan=\"2\" halign=\"left\">Dominated_Count</th>\n",
       "      <th colspan=\"8\" halign=\"left\">Dominates_Count</th>\n",
       "    </tr>\n",
       "    <tr>\n",
       "      <th></th>\n",
       "      <th>count</th>\n",
       "      <th>mean</th>\n",
       "      <th>std</th>\n",
       "      <th>min</th>\n",
       "      <th>25%</th>\n",
       "      <th>50%</th>\n",
       "      <th>75%</th>\n",
       "      <th>max</th>\n",
       "      <th>count</th>\n",
       "      <th>mean</th>\n",
       "      <th>...</th>\n",
       "      <th>75%</th>\n",
       "      <th>max</th>\n",
       "      <th>count</th>\n",
       "      <th>mean</th>\n",
       "      <th>std</th>\n",
       "      <th>min</th>\n",
       "      <th>25%</th>\n",
       "      <th>50%</th>\n",
       "      <th>75%</th>\n",
       "      <th>max</th>\n",
       "    </tr>\n",
       "    <tr>\n",
       "      <th>Model</th>\n",
       "      <th></th>\n",
       "      <th></th>\n",
       "      <th></th>\n",
       "      <th></th>\n",
       "      <th></th>\n",
       "      <th></th>\n",
       "      <th></th>\n",
       "      <th></th>\n",
       "      <th></th>\n",
       "      <th></th>\n",
       "      <th></th>\n",
       "      <th></th>\n",
       "      <th></th>\n",
       "      <th></th>\n",
       "      <th></th>\n",
       "      <th></th>\n",
       "      <th></th>\n",
       "      <th></th>\n",
       "      <th></th>\n",
       "      <th></th>\n",
       "      <th></th>\n",
       "    </tr>\n",
       "  </thead>\n",
       "  <tbody>\n",
       "    <tr>\n",
       "      <th>Linear Regression</th>\n",
       "      <td>1.0</td>\n",
       "      <td>1.492822</td>\n",
       "      <td>NaN</td>\n",
       "      <td>1.492822</td>\n",
       "      <td>1.492822</td>\n",
       "      <td>1.492822</td>\n",
       "      <td>1.492822</td>\n",
       "      <td>1.492822</td>\n",
       "      <td>1.0</td>\n",
       "      <td>0.285013</td>\n",
       "      <td>...</td>\n",
       "      <td>0.0</td>\n",
       "      <td>0.0</td>\n",
       "      <td>1.0</td>\n",
       "      <td>15.000000</td>\n",
       "      <td>NaN</td>\n",
       "      <td>15.0</td>\n",
       "      <td>15.0</td>\n",
       "      <td>15.0</td>\n",
       "      <td>15.0</td>\n",
       "      <td>15.0</td>\n",
       "    </tr>\n",
       "    <tr>\n",
       "      <th>Neural Networks</th>\n",
       "      <td>13.0</td>\n",
       "      <td>3.034903</td>\n",
       "      <td>1.594949</td>\n",
       "      <td>1.517652</td>\n",
       "      <td>2.134392</td>\n",
       "      <td>2.717913</td>\n",
       "      <td>3.348556</td>\n",
       "      <td>7.745173</td>\n",
       "      <td>13.0</td>\n",
       "      <td>1.857645</td>\n",
       "      <td>...</td>\n",
       "      <td>10.0</td>\n",
       "      <td>16.0</td>\n",
       "      <td>13.0</td>\n",
       "      <td>5.153846</td>\n",
       "      <td>4.450583</td>\n",
       "      <td>0.0</td>\n",
       "      <td>2.0</td>\n",
       "      <td>3.0</td>\n",
       "      <td>7.0</td>\n",
       "      <td>14.0</td>\n",
       "    </tr>\n",
       "    <tr>\n",
       "      <th>Trees</th>\n",
       "      <td>3.0</td>\n",
       "      <td>1.764142</td>\n",
       "      <td>0.313249</td>\n",
       "      <td>1.469900</td>\n",
       "      <td>1.599489</td>\n",
       "      <td>1.729078</td>\n",
       "      <td>1.911263</td>\n",
       "      <td>2.093448</td>\n",
       "      <td>3.0</td>\n",
       "      <td>0.917052</td>\n",
       "      <td>...</td>\n",
       "      <td>4.5</td>\n",
       "      <td>6.0</td>\n",
       "      <td>3.0</td>\n",
       "      <td>10.000000</td>\n",
       "      <td>4.582576</td>\n",
       "      <td>5.0</td>\n",
       "      <td>8.0</td>\n",
       "      <td>11.0</td>\n",
       "      <td>12.5</td>\n",
       "      <td>14.0</td>\n",
       "    </tr>\n",
       "  </tbody>\n",
       "</table>\n",
       "<p>3 rows × 88 columns</p>\n",
       "</div>"
      ],
      "text/plain": [
       "                  RMSE_mean                                                    \\\n",
       "                      count      mean       std       min       25%       50%   \n",
       "Model                                                                           \n",
       "Linear Regression       1.0  1.492822       NaN  1.492822  1.492822  1.492822   \n",
       "Neural Networks        13.0  3.034903  1.594949  1.517652  2.134392  2.717913   \n",
       "Trees                   3.0  1.764142  0.313249  1.469900  1.599489  1.729078   \n",
       "\n",
       "                                      RMSE_std            ... Dominated_Count  \\\n",
       "                        75%       max    count      mean  ...             75%   \n",
       "Model                                                     ...                   \n",
       "Linear Regression  1.492822  1.492822      1.0  0.285013  ...             0.0   \n",
       "Neural Networks    3.348556  7.745173     13.0  1.857645  ...            10.0   \n",
       "Trees              1.911263  2.093448      3.0  0.917052  ...             4.5   \n",
       "\n",
       "                        Dominates_Count                                   \\\n",
       "                    max           count       mean       std   min   25%   \n",
       "Model                                                                      \n",
       "Linear Regression   0.0             1.0  15.000000       NaN  15.0  15.0   \n",
       "Neural Networks    16.0            13.0   5.153846  4.450583   0.0   2.0   \n",
       "Trees               6.0             3.0  10.000000  4.582576   5.0   8.0   \n",
       "\n",
       "                                     \n",
       "                    50%   75%   max  \n",
       "Model                                \n",
       "Linear Regression  15.0  15.0  15.0  \n",
       "Neural Networks     3.0   7.0  14.0  \n",
       "Trees              11.0  12.5  14.0  \n",
       "\n",
       "[3 rows x 88 columns]"
      ]
     },
     "execution_count": 347,
     "metadata": {},
     "output_type": "execute_result"
    },
    {
     "data": {
      "application/javascript": [
       "\n",
       "            setTimeout(function() {\n",
       "                var nbb_cell_id = 347;\n",
       "                var nbb_unformatted_code = \"df_sorted_topo_models_grouped.T\";\n",
       "                var nbb_formatted_code = \"df_sorted_topo_models_grouped.T\";\n",
       "                var nbb_cells = Jupyter.notebook.get_cells();\n",
       "                for (var i = 0; i < nbb_cells.length; ++i) {\n",
       "                    if (nbb_cells[i].input_prompt_number == nbb_cell_id) {\n",
       "                        if (nbb_cells[i].get_text() == nbb_unformatted_code) {\n",
       "                             nbb_cells[i].set_text(nbb_formatted_code);\n",
       "                        }\n",
       "                        break;\n",
       "                    }\n",
       "                }\n",
       "            }, 500);\n",
       "            "
      ],
      "text/plain": [
       "<IPython.core.display.Javascript object>"
      ]
     },
     "metadata": {},
     "output_type": "display_data"
    }
   ],
   "source": [
    "df_sorted_topo_models_grouped.T"
   ]
  },
  {
   "cell_type": "markdown",
   "id": "de8e77ed",
   "metadata": {},
   "source": [
    "### SCPM Analysis"
   ]
  },
  {
   "cell_type": "code",
   "execution_count": 348,
   "id": "0870b4da",
   "metadata": {},
   "outputs": [
    {
     "data": {
      "application/javascript": [
       "\n",
       "            setTimeout(function() {\n",
       "                var nbb_cell_id = 348;\n",
       "                var nbb_unformatted_code = \"cols = [\\n    # \\\"Model\\\",\\n    # \\\"Model_bkp\\\",\\n    \\\"Model_bkp_2\\\",\\n    \\\"RMSE_mean\\\",\\n    \\\"RMSE_std\\\",\\n    \\\"MAE_mean\\\",\\n    \\\"MAE_std\\\",\\n    \\\"MAPE_mean\\\",\\n    \\\"MAPE_std\\\",\\n    \\\"R2_mean\\\",\\n    \\\"R2_std\\\",\\n    \\\"SCPM\\\",\\n    \\\"Dominated_Count\\\",\\n    \\\"Dominates_Count\\\",\\n    \\\"Classification\\\",\\n    \\\"Plant\\\",\\n]\";\n",
       "                var nbb_formatted_code = \"cols = [\\n    # \\\"Model\\\",\\n    # \\\"Model_bkp\\\",\\n    \\\"Model_bkp_2\\\",\\n    \\\"RMSE_mean\\\",\\n    \\\"RMSE_std\\\",\\n    \\\"MAE_mean\\\",\\n    \\\"MAE_std\\\",\\n    \\\"MAPE_mean\\\",\\n    \\\"MAPE_std\\\",\\n    \\\"R2_mean\\\",\\n    \\\"R2_std\\\",\\n    \\\"SCPM\\\",\\n    \\\"Dominated_Count\\\",\\n    \\\"Dominates_Count\\\",\\n    \\\"Classification\\\",\\n    \\\"Plant\\\",\\n]\";\n",
       "                var nbb_cells = Jupyter.notebook.get_cells();\n",
       "                for (var i = 0; i < nbb_cells.length; ++i) {\n",
       "                    if (nbb_cells[i].input_prompt_number == nbb_cell_id) {\n",
       "                        if (nbb_cells[i].get_text() == nbb_unformatted_code) {\n",
       "                             nbb_cells[i].set_text(nbb_formatted_code);\n",
       "                        }\n",
       "                        break;\n",
       "                    }\n",
       "                }\n",
       "            }, 500);\n",
       "            "
      ],
      "text/plain": [
       "<IPython.core.display.Javascript object>"
      ]
     },
     "metadata": {},
     "output_type": "display_data"
    }
   ],
   "source": [
    "cols = [\n",
    "    # \"Model\",\n",
    "    # \"Model_bkp\",\n",
    "    \"Model_bkp_2\",\n",
    "    \"RMSE_mean\",\n",
    "    \"RMSE_std\",\n",
    "    \"MAE_mean\",\n",
    "    \"MAE_std\",\n",
    "    \"MAPE_mean\",\n",
    "    \"MAPE_std\",\n",
    "    \"R2_mean\",\n",
    "    \"R2_std\",\n",
    "    \"SCPM\",\n",
    "    \"Dominated_Count\",\n",
    "    \"Dominates_Count\",\n",
    "    \"Classification\",\n",
    "    \"Plant\",\n",
    "]"
   ]
  },
  {
   "cell_type": "markdown",
   "id": "b73d582b",
   "metadata": {},
   "source": [
    "#### SCPM Analysis by Project"
   ]
  },
  {
   "cell_type": "code",
   "execution_count": 349,
   "id": "0bb4ff19",
   "metadata": {},
   "outputs": [
    {
     "data": {
      "application/javascript": [
       "\n",
       "            setTimeout(function() {\n",
       "                var nbb_cell_id = 349;\n",
       "                var nbb_unformatted_code = \"df_sorted_scpm = df_sorted_topo.sort_values(by=\\\"SCPM\\\").copy()\";\n",
       "                var nbb_formatted_code = \"df_sorted_scpm = df_sorted_topo.sort_values(by=\\\"SCPM\\\").copy()\";\n",
       "                var nbb_cells = Jupyter.notebook.get_cells();\n",
       "                for (var i = 0; i < nbb_cells.length; ++i) {\n",
       "                    if (nbb_cells[i].input_prompt_number == nbb_cell_id) {\n",
       "                        if (nbb_cells[i].get_text() == nbb_unformatted_code) {\n",
       "                             nbb_cells[i].set_text(nbb_formatted_code);\n",
       "                        }\n",
       "                        break;\n",
       "                    }\n",
       "                }\n",
       "            }, 500);\n",
       "            "
      ],
      "text/plain": [
       "<IPython.core.display.Javascript object>"
      ]
     },
     "metadata": {},
     "output_type": "display_data"
    }
   ],
   "source": [
    "df_sorted_scpm = df_sorted_topo.sort_values(by=\"SCPM\").copy()"
   ]
  },
  {
   "cell_type": "code",
   "execution_count": 350,
   "id": "8f441a4c",
   "metadata": {
    "scrolled": false
   },
   "outputs": [
    {
     "data": {
      "application/javascript": [
       "\n",
       "            setTimeout(function() {\n",
       "                var nbb_cell_id = 350;\n",
       "                var nbb_unformatted_code = \"# (df_sorted_topo[cols].reset_index() == df_sorted_scpm[cols].reset_index()).all(axis=1)\\ndf_sorted_scpm[\\\"topo_scmp_order_eq\\\"] = df_sorted_topo.index == df_sorted_scpm.index\";\n",
       "                var nbb_formatted_code = \"# (df_sorted_topo[cols].reset_index() == df_sorted_scpm[cols].reset_index()).all(axis=1)\\ndf_sorted_scpm[\\\"topo_scmp_order_eq\\\"] = df_sorted_topo.index == df_sorted_scpm.index\";\n",
       "                var nbb_cells = Jupyter.notebook.get_cells();\n",
       "                for (var i = 0; i < nbb_cells.length; ++i) {\n",
       "                    if (nbb_cells[i].input_prompt_number == nbb_cell_id) {\n",
       "                        if (nbb_cells[i].get_text() == nbb_unformatted_code) {\n",
       "                             nbb_cells[i].set_text(nbb_formatted_code);\n",
       "                        }\n",
       "                        break;\n",
       "                    }\n",
       "                }\n",
       "            }, 500);\n",
       "            "
      ],
      "text/plain": [
       "<IPython.core.display.Javascript object>"
      ]
     },
     "metadata": {},
     "output_type": "display_data"
    }
   ],
   "source": [
    "# (df_sorted_topo[cols].reset_index() == df_sorted_scpm[cols].reset_index()).all(axis=1)\n",
    "df_sorted_scpm[\"topo_scmp_order_eq\"] = df_sorted_topo.index == df_sorted_scpm.index"
   ]
  },
  {
   "cell_type": "code",
   "execution_count": 351,
   "id": "e6855225",
   "metadata": {
    "scrolled": false
   },
   "outputs": [
    {
     "data": {
      "text/html": [
       "<div>\n",
       "<style scoped>\n",
       "    .dataframe tbody tr th:only-of-type {\n",
       "        vertical-align: middle;\n",
       "    }\n",
       "\n",
       "    .dataframe tbody tr th {\n",
       "        vertical-align: top;\n",
       "    }\n",
       "\n",
       "    .dataframe thead th {\n",
       "        text-align: right;\n",
       "    }\n",
       "</style>\n",
       "<table border=\"1\" class=\"dataframe\">\n",
       "  <thead>\n",
       "    <tr style=\"text-align: right;\">\n",
       "      <th></th>\n",
       "      <th>Model_bkp_2</th>\n",
       "      <th>RMSE_mean</th>\n",
       "      <th>RMSE_std</th>\n",
       "      <th>MAE_mean</th>\n",
       "      <th>MAE_std</th>\n",
       "      <th>MAPE_mean</th>\n",
       "      <th>MAPE_std</th>\n",
       "      <th>R2_mean</th>\n",
       "      <th>R2_std</th>\n",
       "      <th>SCPM</th>\n",
       "      <th>Dominated_Count</th>\n",
       "      <th>Dominates_Count</th>\n",
       "      <th>Classification</th>\n",
       "      <th>Plant</th>\n",
       "      <th>topo_scmp_order_eq</th>\n",
       "    </tr>\n",
       "  </thead>\n",
       "  <tbody>\n",
       "    <tr>\n",
       "      <th>0</th>\n",
       "      <td>Random Forest</td>\n",
       "      <td>1.47</td>\n",
       "      <td>0.64</td>\n",
       "      <td>1.10</td>\n",
       "      <td>0.36</td>\n",
       "      <td>2.54</td>\n",
       "      <td>0.74</td>\n",
       "      <td>0.93</td>\n",
       "      <td>0.06</td>\n",
       "      <td>-3.88</td>\n",
       "      <td>0</td>\n",
       "      <td>14</td>\n",
       "      <td>dominant_model</td>\n",
       "      <td>c</td>\n",
       "      <td>True</td>\n",
       "    </tr>\n",
       "    <tr>\n",
       "      <th>9</th>\n",
       "      <td>Linear Regression</td>\n",
       "      <td>1.49</td>\n",
       "      <td>0.29</td>\n",
       "      <td>1.11</td>\n",
       "      <td>0.27</td>\n",
       "      <td>2.56</td>\n",
       "      <td>0.60</td>\n",
       "      <td>0.94</td>\n",
       "      <td>0.02</td>\n",
       "      <td>-3.83</td>\n",
       "      <td>0</td>\n",
       "      <td>15</td>\n",
       "      <td>dominant_model</td>\n",
       "      <td>c</td>\n",
       "      <td>True</td>\n",
       "    </tr>\n",
       "    <tr>\n",
       "      <th>11</th>\n",
       "      <td>Transformer_1.0</td>\n",
       "      <td>1.52</td>\n",
       "      <td>0.38</td>\n",
       "      <td>1.15</td>\n",
       "      <td>0.27</td>\n",
       "      <td>2.68</td>\n",
       "      <td>0.60</td>\n",
       "      <td>0.93</td>\n",
       "      <td>0.03</td>\n",
       "      <td>-3.56</td>\n",
       "      <td>1</td>\n",
       "      <td>14</td>\n",
       "      <td>intermediate_model</td>\n",
       "      <td>c</td>\n",
       "      <td>True</td>\n",
       "    </tr>\n",
       "    <tr>\n",
       "      <th>5</th>\n",
       "      <td>Decision Tree</td>\n",
       "      <td>1.73</td>\n",
       "      <td>1.06</td>\n",
       "      <td>1.30</td>\n",
       "      <td>0.63</td>\n",
       "      <td>2.93</td>\n",
       "      <td>1.31</td>\n",
       "      <td>0.89</td>\n",
       "      <td>0.13</td>\n",
       "      <td>-2.74</td>\n",
       "      <td>3</td>\n",
       "      <td>11</td>\n",
       "      <td>intermediate_model</td>\n",
       "      <td>c</td>\n",
       "      <td>True</td>\n",
       "    </tr>\n",
       "    <tr>\n",
       "      <th>12</th>\n",
       "      <td>Transformer_7.0</td>\n",
       "      <td>1.74</td>\n",
       "      <td>0.15</td>\n",
       "      <td>1.34</td>\n",
       "      <td>0.16</td>\n",
       "      <td>3.18</td>\n",
       "      <td>0.37</td>\n",
       "      <td>0.91</td>\n",
       "      <td>0.02</td>\n",
       "      <td>-2.35</td>\n",
       "      <td>3</td>\n",
       "      <td>12</td>\n",
       "      <td>intermediate_model</td>\n",
       "      <td>c</td>\n",
       "      <td>True</td>\n",
       "    </tr>\n",
       "  </tbody>\n",
       "</table>\n",
       "</div>"
      ],
      "text/plain": [
       "          Model_bkp_2  RMSE_mean  RMSE_std  MAE_mean  MAE_std  MAPE_mean  \\\n",
       "0       Random Forest       1.47      0.64      1.10     0.36       2.54   \n",
       "9   Linear Regression       1.49      0.29      1.11     0.27       2.56   \n",
       "11    Transformer_1.0       1.52      0.38      1.15     0.27       2.68   \n",
       "5       Decision Tree       1.73      1.06      1.30     0.63       2.93   \n",
       "12    Transformer_7.0       1.74      0.15      1.34     0.16       3.18   \n",
       "\n",
       "    MAPE_std  R2_mean  R2_std  SCPM  Dominated_Count  Dominates_Count  \\\n",
       "0       0.74     0.93    0.06 -3.88                0               14   \n",
       "9       0.60     0.94    0.02 -3.83                0               15   \n",
       "11      0.60     0.93    0.03 -3.56                1               14   \n",
       "5       1.31     0.89    0.13 -2.74                3               11   \n",
       "12      0.37     0.91    0.02 -2.35                3               12   \n",
       "\n",
       "        Classification Plant  topo_scmp_order_eq  \n",
       "0       dominant_model     c                True  \n",
       "9       dominant_model     c                True  \n",
       "11  intermediate_model     c                True  \n",
       "5   intermediate_model     c                True  \n",
       "12  intermediate_model     c                True  "
      ]
     },
     "execution_count": 351,
     "metadata": {},
     "output_type": "execute_result"
    },
    {
     "data": {
      "application/javascript": [
       "\n",
       "            setTimeout(function() {\n",
       "                var nbb_cell_id = 351;\n",
       "                var nbb_unformatted_code = \"df_sorted_scpm[cols + [\\\"topo_scmp_order_eq\\\"]].round(2).head(5)\";\n",
       "                var nbb_formatted_code = \"df_sorted_scpm[cols + [\\\"topo_scmp_order_eq\\\"]].round(2).head(5)\";\n",
       "                var nbb_cells = Jupyter.notebook.get_cells();\n",
       "                for (var i = 0; i < nbb_cells.length; ++i) {\n",
       "                    if (nbb_cells[i].input_prompt_number == nbb_cell_id) {\n",
       "                        if (nbb_cells[i].get_text() == nbb_unformatted_code) {\n",
       "                             nbb_cells[i].set_text(nbb_formatted_code);\n",
       "                        }\n",
       "                        break;\n",
       "                    }\n",
       "                }\n",
       "            }, 500);\n",
       "            "
      ],
      "text/plain": [
       "<IPython.core.display.Javascript object>"
      ]
     },
     "metadata": {},
     "output_type": "display_data"
    }
   ],
   "source": [
    "df_sorted_scpm[cols + [\"topo_scmp_order_eq\"]].round(2).head(5)"
   ]
  },
  {
   "cell_type": "code",
   "execution_count": null,
   "id": "78af5f4b",
   "metadata": {},
   "outputs": [],
   "source": []
  }
 ],
 "metadata": {
  "kernelspec": {
   "display_name": "ccs28-venv",
   "language": "python",
   "name": "ccs28-venv"
  },
  "language_info": {
   "codemirror_mode": {
    "name": "ipython",
    "version": 3
   },
   "file_extension": ".py",
   "mimetype": "text/x-python",
   "name": "python",
   "nbconvert_exporter": "python",
   "pygments_lexer": "ipython3",
   "version": "3.10.12"
  }
 },
 "nbformat": 4,
 "nbformat_minor": 5
}
