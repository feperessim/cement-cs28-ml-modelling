{
 "cells": [
  {
   "cell_type": "markdown",
   "id": "82cc3a14",
   "metadata": {},
   "source": [
    "# Vizualiation of predicitons "
   ]
  },
  {
   "cell_type": "markdown",
   "id": "2fc283c8",
   "metadata": {},
   "source": [
    "## Predictions of the top performing models according the dominance analysis and scpm ranking"
   ]
  },
  {
   "cell_type": "markdown",
   "id": "35565ecb",
   "metadata": {},
   "source": [
    "### Random Forest - Top model according to the SCPM of -4.96"
   ]
  },
  {
   "cell_type": "code",
   "execution_count": 2,
   "id": "2210e4ce",
   "metadata": {},
   "outputs": [
    {
     "data": {
      "application/javascript": [
       "\n",
       "            setTimeout(function() {\n",
       "                var nbb_cell_id = 2;\n",
       "                var nbb_unformatted_code = \"%load_ext nb_black\";\n",
       "                var nbb_formatted_code = \"%load_ext nb_black\";\n",
       "                var nbb_cells = Jupyter.notebook.get_cells();\n",
       "                for (var i = 0; i < nbb_cells.length; ++i) {\n",
       "                    if (nbb_cells[i].input_prompt_number == nbb_cell_id) {\n",
       "                        if (nbb_cells[i].get_text() == nbb_unformatted_code) {\n",
       "                             nbb_cells[i].set_text(nbb_formatted_code);\n",
       "                        }\n",
       "                        break;\n",
       "                    }\n",
       "                }\n",
       "            }, 500);\n",
       "            "
      ],
      "text/plain": [
       "<IPython.core.display.Javascript object>"
      ]
     },
     "metadata": {},
     "output_type": "display_data"
    }
   ],
   "source": [
    "%load_ext nb_black"
   ]
  },
  {
   "cell_type": "code",
   "execution_count": 3,
   "id": "668af128",
   "metadata": {},
   "outputs": [
    {
     "name": "stderr",
     "output_type": "stream",
     "text": [
      "2024-10-30 22:38:11.697428: I tensorflow/core/util/port.cc:110] oneDNN custom operations are on. You may see slightly different numerical results due to floating-point round-off errors from different computation orders. To turn them off, set the environment variable `TF_ENABLE_ONEDNN_OPTS=0`.\n",
      "2024-10-30 22:38:11.699692: I tensorflow/tsl/cuda/cudart_stub.cc:28] Could not find cuda drivers on your machine, GPU will not be used.\n",
      "2024-10-30 22:38:11.746137: I tensorflow/tsl/cuda/cudart_stub.cc:28] Could not find cuda drivers on your machine, GPU will not be used.\n",
      "2024-10-30 22:38:11.747280: I tensorflow/core/platform/cpu_feature_guard.cc:182] This TensorFlow binary is optimized to use available CPU instructions in performance-critical operations.\n",
      "To enable the following instructions: AVX2 AVX512F AVX512_VNNI FMA, in other operations, rebuild TensorFlow with the appropriate compiler flags.\n",
      "2024-10-30 22:38:12.539668: W tensorflow/compiler/tf2tensorrt/utils/py_utils.cc:38] TF-TRT Warning: Could not find TensorRT\n"
     ]
    },
    {
     "data": {
      "application/javascript": [
       "\n",
       "            setTimeout(function() {\n",
       "                var nbb_cell_id = 3;\n",
       "                var nbb_unformatted_code = \"# Database Reading and Manipulation\\nimport pandas as pd\\n\\n# Linear Algebra\\nimport numpy as np\\n\\n# Plotting\\nimport matplotlib.pyplot as plt\\n\\n# Time\\nimport time\\n\\n# Random and os for reproducibility\\nimport random\\nimport os\\n\\n# Model Selection\\nfrom sklearn.model_selection import train_test_split\\nfrom sklearn.model_selection import TimeSeriesSplit\\nfrom sklearn.model_selection import RepeatedKFold\\nfrom sklearn.model_selection import cross_val_score\\nfrom sklearn.model_selection import cross_validate\\nfrom sklearn.model_selection import GridSearchCV\\n\\n# Modeling\\nimport tensorflow as tf\\n\\n# Processing\\nfrom sklearn.preprocessing import StandardScaler\\nfrom sklearn.preprocessing import RobustScaler\\n\\n# Metrics\\nfrom sklearn.metrics import mean_squared_error\\nfrom sklearn.metrics import mean_absolute_error\\nfrom sklearn.metrics import mean_absolute_percentage_error\\nfrom sklearn.metrics import r2_score\\n\\n# Pipeline\\nfrom sklearn.pipeline import Pipeline\\n\\n# Data imputation\\nfrom sklearn.impute import SimpleImputer\\n\\n# Making keras compatible with scikit learn api\\n# https://scikit-learn.org/stable/developers/develop.html\\nfrom sklearn.base import BaseEstimator, RegressorMixin\\n\\n# Custom modules\\n## Model selection\\nfrom src.cross_validation.blocking_time_series_split import BlockingTimeSeriesSplit\\n\\n## Function to print scores\\nfrom src.utils.print_scores import print_scores\\n\\n## Function to calculate score regression metrics\\nfrom src.utils.score_regression_metrics import score_regression_metrics\\n\\n## Function to fill the results metric dict\\nfrom src.utils.fill_results_dict import fill_results_dict\\n\\n# Converting Times Series Data to 3D format\\nfrom src.utils.split_sequences import split_sequences\\n\\n# Transformer Encoder for time series data\\nfrom src.models.transformer_ts_tf import Transformer\\n\\n# To run cross validation parallelized\\nfrom joblib import Parallel, delayed\\n\\nimport joblib\\n\\nimport matplotlib\";\n",
       "                var nbb_formatted_code = \"# Database Reading and Manipulation\\nimport pandas as pd\\n\\n# Linear Algebra\\nimport numpy as np\\n\\n# Plotting\\nimport matplotlib.pyplot as plt\\n\\n# Time\\nimport time\\n\\n# Random and os for reproducibility\\nimport random\\nimport os\\n\\n# Model Selection\\nfrom sklearn.model_selection import train_test_split\\nfrom sklearn.model_selection import TimeSeriesSplit\\nfrom sklearn.model_selection import RepeatedKFold\\nfrom sklearn.model_selection import cross_val_score\\nfrom sklearn.model_selection import cross_validate\\nfrom sklearn.model_selection import GridSearchCV\\n\\n# Modeling\\nimport tensorflow as tf\\n\\n# Processing\\nfrom sklearn.preprocessing import StandardScaler\\nfrom sklearn.preprocessing import RobustScaler\\n\\n# Metrics\\nfrom sklearn.metrics import mean_squared_error\\nfrom sklearn.metrics import mean_absolute_error\\nfrom sklearn.metrics import mean_absolute_percentage_error\\nfrom sklearn.metrics import r2_score\\n\\n# Pipeline\\nfrom sklearn.pipeline import Pipeline\\n\\n# Data imputation\\nfrom sklearn.impute import SimpleImputer\\n\\n# Making keras compatible with scikit learn api\\n# https://scikit-learn.org/stable/developers/develop.html\\nfrom sklearn.base import BaseEstimator, RegressorMixin\\n\\n# Custom modules\\n## Model selection\\nfrom src.cross_validation.blocking_time_series_split import BlockingTimeSeriesSplit\\n\\n## Function to print scores\\nfrom src.utils.print_scores import print_scores\\n\\n## Function to calculate score regression metrics\\nfrom src.utils.score_regression_metrics import score_regression_metrics\\n\\n## Function to fill the results metric dict\\nfrom src.utils.fill_results_dict import fill_results_dict\\n\\n# Converting Times Series Data to 3D format\\nfrom src.utils.split_sequences import split_sequences\\n\\n# Transformer Encoder for time series data\\nfrom src.models.transformer_ts_tf import Transformer\\n\\n# To run cross validation parallelized\\nfrom joblib import Parallel, delayed\\n\\nimport joblib\\n\\nimport matplotlib\";\n",
       "                var nbb_cells = Jupyter.notebook.get_cells();\n",
       "                for (var i = 0; i < nbb_cells.length; ++i) {\n",
       "                    if (nbb_cells[i].input_prompt_number == nbb_cell_id) {\n",
       "                        if (nbb_cells[i].get_text() == nbb_unformatted_code) {\n",
       "                             nbb_cells[i].set_text(nbb_formatted_code);\n",
       "                        }\n",
       "                        break;\n",
       "                    }\n",
       "                }\n",
       "            }, 500);\n",
       "            "
      ],
      "text/plain": [
       "<IPython.core.display.Javascript object>"
      ]
     },
     "metadata": {},
     "output_type": "display_data"
    }
   ],
   "source": [
    "# Database Reading and Manipulation\n",
    "import pandas as pd\n",
    "\n",
    "# Linear Algebra\n",
    "import numpy as np\n",
    "\n",
    "# Plotting\n",
    "import matplotlib.pyplot as plt\n",
    "\n",
    "# Time\n",
    "import time\n",
    "\n",
    "# Random and os for reproducibility\n",
    "import random\n",
    "import os\n",
    "\n",
    "# Model Selection\n",
    "from sklearn.model_selection import train_test_split\n",
    "from sklearn.model_selection import TimeSeriesSplit\n",
    "from sklearn.model_selection import RepeatedKFold\n",
    "from sklearn.model_selection import cross_val_score\n",
    "from sklearn.model_selection import cross_validate\n",
    "from sklearn.model_selection import GridSearchCV\n",
    "\n",
    "# Modeling\n",
    "import tensorflow as tf\n",
    "\n",
    "# Processing\n",
    "from sklearn.preprocessing import StandardScaler\n",
    "from sklearn.preprocessing import RobustScaler\n",
    "\n",
    "# Metrics\n",
    "from sklearn.metrics import mean_squared_error\n",
    "from sklearn.metrics import mean_absolute_error\n",
    "from sklearn.metrics import mean_absolute_percentage_error\n",
    "from sklearn.metrics import r2_score\n",
    "\n",
    "# Pipeline\n",
    "from sklearn.pipeline import Pipeline\n",
    "\n",
    "# Data imputation\n",
    "from sklearn.impute import SimpleImputer\n",
    "\n",
    "# Making keras compatible with scikit learn api\n",
    "# https://scikit-learn.org/stable/developers/develop.html\n",
    "from sklearn.base import BaseEstimator, RegressorMixin\n",
    "\n",
    "# Custom modules\n",
    "## Model selection\n",
    "from src.cross_validation.blocking_time_series_split import BlockingTimeSeriesSplit\n",
    "\n",
    "## Function to print scores\n",
    "from src.utils.print_scores import print_scores\n",
    "\n",
    "## Function to calculate score regression metrics\n",
    "from src.utils.score_regression_metrics import score_regression_metrics\n",
    "\n",
    "## Function to fill the results metric dict\n",
    "from src.utils.fill_results_dict import fill_results_dict\n",
    "\n",
    "# Converting Times Series Data to 3D format\n",
    "from src.utils.split_sequences import split_sequences\n",
    "\n",
    "# Transformer Encoder for time series data\n",
    "from src.models.transformer_ts_tf import Transformer\n",
    "\n",
    "# To run cross validation parallelized\n",
    "from joblib import Parallel, delayed\n",
    "\n",
    "import joblib\n",
    "\n",
    "import matplotlib"
   ]
  },
  {
   "cell_type": "markdown",
   "id": "fe4a2623",
   "metadata": {},
   "source": [
    "# Functions and definitions"
   ]
  },
  {
   "cell_type": "code",
   "execution_count": 4,
   "id": "a89f9fa9",
   "metadata": {},
   "outputs": [
    {
     "data": {
      "application/javascript": [
       "\n",
       "            setTimeout(function() {\n",
       "                var nbb_cell_id = 4;\n",
       "                var nbb_unformatted_code = \"def generate_sequences_helper(\\n    dataset, cement_types, dates=None, timesteps=None, split_by_cement_type=False\\n):\\n    index_train = dataset[\\\"y_train\\\"].index\\n    index_test = dataset[\\\"y_test\\\"].index\\n\\n    dataset[\\\"y_train\\\"] = dataset[\\\"y_train\\\"].reset_index(drop=True)\\n    dataset[\\\"y_test\\\"] = dataset[\\\"y_test\\\"].reset_index(drop=True)\\n\\n    if dates is not None:\\n        dataset[\\\"dates_train\\\"] = dates[index_train].reset_index(drop=True)\\n        dataset[\\\"dates_test\\\"] = dates[index_test].reset_index(drop=True)\\n\\n    dataset[\\\"cement_types_train\\\"] = cement_types.loc[index_train].reset_index(drop=True)\\n    dataset[\\\"cement_types_test\\\"] = cement_types.loc[index_test].reset_index(drop=True)\\n\\n    dataset = generate_sequences(dataset, timesteps, split_by_cement_type)\\n\\n    return dataset\";\n",
       "                var nbb_formatted_code = \"def generate_sequences_helper(\\n    dataset, cement_types, dates=None, timesteps=None, split_by_cement_type=False\\n):\\n    index_train = dataset[\\\"y_train\\\"].index\\n    index_test = dataset[\\\"y_test\\\"].index\\n\\n    dataset[\\\"y_train\\\"] = dataset[\\\"y_train\\\"].reset_index(drop=True)\\n    dataset[\\\"y_test\\\"] = dataset[\\\"y_test\\\"].reset_index(drop=True)\\n\\n    if dates is not None:\\n        dataset[\\\"dates_train\\\"] = dates[index_train].reset_index(drop=True)\\n        dataset[\\\"dates_test\\\"] = dates[index_test].reset_index(drop=True)\\n\\n    dataset[\\\"cement_types_train\\\"] = cement_types.loc[index_train].reset_index(drop=True)\\n    dataset[\\\"cement_types_test\\\"] = cement_types.loc[index_test].reset_index(drop=True)\\n\\n    dataset = generate_sequences(dataset, timesteps, split_by_cement_type)\\n\\n    return dataset\";\n",
       "                var nbb_cells = Jupyter.notebook.get_cells();\n",
       "                for (var i = 0; i < nbb_cells.length; ++i) {\n",
       "                    if (nbb_cells[i].input_prompt_number == nbb_cell_id) {\n",
       "                        if (nbb_cells[i].get_text() == nbb_unformatted_code) {\n",
       "                             nbb_cells[i].set_text(nbb_formatted_code);\n",
       "                        }\n",
       "                        break;\n",
       "                    }\n",
       "                }\n",
       "            }, 500);\n",
       "            "
      ],
      "text/plain": [
       "<IPython.core.display.Javascript object>"
      ]
     },
     "metadata": {},
     "output_type": "display_data"
    }
   ],
   "source": [
    "def generate_sequences_helper(\n",
    "    dataset, cement_types, dates=None, timesteps=None, split_by_cement_type=False\n",
    "):\n",
    "    index_train = dataset[\"y_train\"].index\n",
    "    index_test = dataset[\"y_test\"].index\n",
    "\n",
    "    dataset[\"y_train\"] = dataset[\"y_train\"].reset_index(drop=True)\n",
    "    dataset[\"y_test\"] = dataset[\"y_test\"].reset_index(drop=True)\n",
    "\n",
    "    if dates is not None:\n",
    "        dataset[\"dates_train\"] = dates[index_train].reset_index(drop=True)\n",
    "        dataset[\"dates_test\"] = dates[index_test].reset_index(drop=True)\n",
    "\n",
    "    dataset[\"cement_types_train\"] = cement_types.loc[index_train].reset_index(drop=True)\n",
    "    dataset[\"cement_types_test\"] = cement_types.loc[index_test].reset_index(drop=True)\n",
    "\n",
    "    dataset = generate_sequences(dataset, timesteps, split_by_cement_type)\n",
    "\n",
    "    return dataset"
   ]
  },
  {
   "cell_type": "code",
   "execution_count": 5,
   "id": "681f7eae",
   "metadata": {},
   "outputs": [
    {
     "data": {
      "application/javascript": [
       "\n",
       "            setTimeout(function() {\n",
       "                var nbb_cell_id = 5;\n",
       "                var nbb_unformatted_code = \"def generate_sequences(dataset, timesteps, split_by_cement_type=False):\\n    if split_by_cement_type:\\n        dataset[\\\"x_train\\\"], dataset[\\\"y_train\\\"] = split_sequences_per_cement_type(\\n            pd.concat(\\n                [\\n                    dataset[\\\"dates_train\\\"],\\n                    pd.DataFrame(dataset[\\\"x_train\\\"], columns=x.columns),\\n                    dataset[\\\"cement_types_train\\\"],\\n                    dataset[\\\"y_train\\\"],\\n                ],\\n                axis=1,\\n            ),\\n            timesteps,\\n        )\\n\\n        dataset[\\\"x_test\\\"], dataset[\\\"y_test\\\"] = split_sequences_per_cement_type(\\n            pd.concat(\\n                [\\n                    dataset[\\\"dates_test\\\"],\\n                    pd.DataFrame(dataset[\\\"x_test\\\"], columns=x.columns),\\n                    dataset[\\\"cement_types_test\\\"],\\n                    dataset[\\\"y_test\\\"],\\n                ],\\n                axis=1,\\n            ),\\n            timesteps,\\n        )\\n    else:\\n        dataset[\\\"x_train\\\"], dataset[\\\"y_train\\\"] = split_sequences(\\n            pd.concat(\\n                [\\n                    pd.DataFrame(dataset[\\\"x_train\\\"], columns=x.columns),\\n                    dataset[\\\"y_train\\\"],\\n                ],\\n                axis=1,\\n            ).values,\\n            timesteps,\\n        )\\n\\n        dataset[\\\"x_test\\\"], dataset[\\\"y_test\\\"] = split_sequences(\\n            pd.concat(\\n                [\\n                    pd.DataFrame(dataset[\\\"x_test\\\"], columns=x.columns),\\n                    dataset[\\\"y_test\\\"],\\n                ],\\n                axis=1,\\n            ).values,\\n            timesteps,\\n        )\\n    return dataset\";\n",
       "                var nbb_formatted_code = \"def generate_sequences(dataset, timesteps, split_by_cement_type=False):\\n    if split_by_cement_type:\\n        dataset[\\\"x_train\\\"], dataset[\\\"y_train\\\"] = split_sequences_per_cement_type(\\n            pd.concat(\\n                [\\n                    dataset[\\\"dates_train\\\"],\\n                    pd.DataFrame(dataset[\\\"x_train\\\"], columns=x.columns),\\n                    dataset[\\\"cement_types_train\\\"],\\n                    dataset[\\\"y_train\\\"],\\n                ],\\n                axis=1,\\n            ),\\n            timesteps,\\n        )\\n\\n        dataset[\\\"x_test\\\"], dataset[\\\"y_test\\\"] = split_sequences_per_cement_type(\\n            pd.concat(\\n                [\\n                    dataset[\\\"dates_test\\\"],\\n                    pd.DataFrame(dataset[\\\"x_test\\\"], columns=x.columns),\\n                    dataset[\\\"cement_types_test\\\"],\\n                    dataset[\\\"y_test\\\"],\\n                ],\\n                axis=1,\\n            ),\\n            timesteps,\\n        )\\n    else:\\n        dataset[\\\"x_train\\\"], dataset[\\\"y_train\\\"] = split_sequences(\\n            pd.concat(\\n                [\\n                    pd.DataFrame(dataset[\\\"x_train\\\"], columns=x.columns),\\n                    dataset[\\\"y_train\\\"],\\n                ],\\n                axis=1,\\n            ).values,\\n            timesteps,\\n        )\\n\\n        dataset[\\\"x_test\\\"], dataset[\\\"y_test\\\"] = split_sequences(\\n            pd.concat(\\n                [\\n                    pd.DataFrame(dataset[\\\"x_test\\\"], columns=x.columns),\\n                    dataset[\\\"y_test\\\"],\\n                ],\\n                axis=1,\\n            ).values,\\n            timesteps,\\n        )\\n    return dataset\";\n",
       "                var nbb_cells = Jupyter.notebook.get_cells();\n",
       "                for (var i = 0; i < nbb_cells.length; ++i) {\n",
       "                    if (nbb_cells[i].input_prompt_number == nbb_cell_id) {\n",
       "                        if (nbb_cells[i].get_text() == nbb_unformatted_code) {\n",
       "                             nbb_cells[i].set_text(nbb_formatted_code);\n",
       "                        }\n",
       "                        break;\n",
       "                    }\n",
       "                }\n",
       "            }, 500);\n",
       "            "
      ],
      "text/plain": [
       "<IPython.core.display.Javascript object>"
      ]
     },
     "metadata": {},
     "output_type": "display_data"
    }
   ],
   "source": [
    "def generate_sequences(dataset, timesteps, split_by_cement_type=False):\n",
    "    if split_by_cement_type:\n",
    "        dataset[\"x_train\"], dataset[\"y_train\"] = split_sequences_per_cement_type(\n",
    "            pd.concat(\n",
    "                [\n",
    "                    dataset[\"dates_train\"],\n",
    "                    pd.DataFrame(dataset[\"x_train\"], columns=x.columns),\n",
    "                    dataset[\"cement_types_train\"],\n",
    "                    dataset[\"y_train\"],\n",
    "                ],\n",
    "                axis=1,\n",
    "            ),\n",
    "            timesteps,\n",
    "        )\n",
    "\n",
    "        dataset[\"x_test\"], dataset[\"y_test\"] = split_sequences_per_cement_type(\n",
    "            pd.concat(\n",
    "                [\n",
    "                    dataset[\"dates_test\"],\n",
    "                    pd.DataFrame(dataset[\"x_test\"], columns=x.columns),\n",
    "                    dataset[\"cement_types_test\"],\n",
    "                    dataset[\"y_test\"],\n",
    "                ],\n",
    "                axis=1,\n",
    "            ),\n",
    "            timesteps,\n",
    "        )\n",
    "    else:\n",
    "        dataset[\"x_train\"], dataset[\"y_train\"] = split_sequences(\n",
    "            pd.concat(\n",
    "                [\n",
    "                    pd.DataFrame(dataset[\"x_train\"], columns=x.columns),\n",
    "                    dataset[\"y_train\"],\n",
    "                ],\n",
    "                axis=1,\n",
    "            ).values,\n",
    "            timesteps,\n",
    "        )\n",
    "\n",
    "        dataset[\"x_test\"], dataset[\"y_test\"] = split_sequences(\n",
    "            pd.concat(\n",
    "                [\n",
    "                    pd.DataFrame(dataset[\"x_test\"], columns=x.columns),\n",
    "                    dataset[\"y_test\"],\n",
    "                ],\n",
    "                axis=1,\n",
    "            ).values,\n",
    "            timesteps,\n",
    "        )\n",
    "    return dataset"
   ]
  },
  {
   "cell_type": "code",
   "execution_count": 6,
   "id": "63ea4605",
   "metadata": {},
   "outputs": [
    {
     "data": {
      "application/javascript": [
       "\n",
       "            setTimeout(function() {\n",
       "                var nbb_cell_id = 6;\n",
       "                var nbb_unformatted_code = \"def impute_data(dataset, imputer=None, imputer_params=None):\\n    x_train = dataset[\\\"x_train\\\"]\\n    x_test = dataset[\\\"x_test\\\"]\\n\\n    # Apply imputation to the data\\n    if imputer is not None:\\n        imputer = imputer() if imputer_params is None else imputer(**imputer_params)\\n        x_train = imputer.fit_transform(x_train)\\n        x_test = imputer.transform(x_test)\\n\\n    dataset[\\\"x_train\\\"] = x_train\\n    dataset[\\\"x_test\\\"] = x_test\\n\\n    return imputer, dataset\";\n",
       "                var nbb_formatted_code = \"def impute_data(dataset, imputer=None, imputer_params=None):\\n    x_train = dataset[\\\"x_train\\\"]\\n    x_test = dataset[\\\"x_test\\\"]\\n\\n    # Apply imputation to the data\\n    if imputer is not None:\\n        imputer = imputer() if imputer_params is None else imputer(**imputer_params)\\n        x_train = imputer.fit_transform(x_train)\\n        x_test = imputer.transform(x_test)\\n\\n    dataset[\\\"x_train\\\"] = x_train\\n    dataset[\\\"x_test\\\"] = x_test\\n\\n    return imputer, dataset\";\n",
       "                var nbb_cells = Jupyter.notebook.get_cells();\n",
       "                for (var i = 0; i < nbb_cells.length; ++i) {\n",
       "                    if (nbb_cells[i].input_prompt_number == nbb_cell_id) {\n",
       "                        if (nbb_cells[i].get_text() == nbb_unformatted_code) {\n",
       "                             nbb_cells[i].set_text(nbb_formatted_code);\n",
       "                        }\n",
       "                        break;\n",
       "                    }\n",
       "                }\n",
       "            }, 500);\n",
       "            "
      ],
      "text/plain": [
       "<IPython.core.display.Javascript object>"
      ]
     },
     "metadata": {},
     "output_type": "display_data"
    }
   ],
   "source": [
    "def impute_data(dataset, imputer=None, imputer_params=None):\n",
    "    x_train = dataset[\"x_train\"]\n",
    "    x_test = dataset[\"x_test\"]\n",
    "\n",
    "    # Apply imputation to the data\n",
    "    if imputer is not None:\n",
    "        imputer = imputer() if imputer_params is None else imputer(**imputer_params)\n",
    "        x_train = imputer.fit_transform(x_train)\n",
    "        x_test = imputer.transform(x_test)\n",
    "\n",
    "    dataset[\"x_train\"] = x_train\n",
    "    dataset[\"x_test\"] = x_test\n",
    "\n",
    "    return imputer, dataset"
   ]
  },
  {
   "cell_type": "code",
   "execution_count": 7,
   "id": "35f83e2f",
   "metadata": {},
   "outputs": [
    {
     "data": {
      "application/javascript": [
       "\n",
       "            setTimeout(function() {\n",
       "                var nbb_cell_id = 7;\n",
       "                var nbb_unformatted_code = \"def transform_data(dataset, transformer=None):\\n    x_train = dataset[\\\"x_train\\\"]\\n    x_test = dataset[\\\"x_test\\\"]\\n\\n    # Apply data normalization/standardization to the data\\n    if transformer is not None:\\n        scaler = transformer()\\n        x_train = scaler.fit_transform(x_train)\\n        x_test = scaler.transform(x_test)\\n\\n    dataset[\\\"x_train\\\"] = x_train\\n    dataset[\\\"x_test\\\"] = x_test\\n\\n    return scaler, dataset\";\n",
       "                var nbb_formatted_code = \"def transform_data(dataset, transformer=None):\\n    x_train = dataset[\\\"x_train\\\"]\\n    x_test = dataset[\\\"x_test\\\"]\\n\\n    # Apply data normalization/standardization to the data\\n    if transformer is not None:\\n        scaler = transformer()\\n        x_train = scaler.fit_transform(x_train)\\n        x_test = scaler.transform(x_test)\\n\\n    dataset[\\\"x_train\\\"] = x_train\\n    dataset[\\\"x_test\\\"] = x_test\\n\\n    return scaler, dataset\";\n",
       "                var nbb_cells = Jupyter.notebook.get_cells();\n",
       "                for (var i = 0; i < nbb_cells.length; ++i) {\n",
       "                    if (nbb_cells[i].input_prompt_number == nbb_cell_id) {\n",
       "                        if (nbb_cells[i].get_text() == nbb_unformatted_code) {\n",
       "                             nbb_cells[i].set_text(nbb_formatted_code);\n",
       "                        }\n",
       "                        break;\n",
       "                    }\n",
       "                }\n",
       "            }, 500);\n",
       "            "
      ],
      "text/plain": [
       "<IPython.core.display.Javascript object>"
      ]
     },
     "metadata": {},
     "output_type": "display_data"
    }
   ],
   "source": [
    "def transform_data(dataset, transformer=None):\n",
    "    x_train = dataset[\"x_train\"]\n",
    "    x_test = dataset[\"x_test\"]\n",
    "\n",
    "    # Apply data normalization/standardization to the data\n",
    "    if transformer is not None:\n",
    "        scaler = transformer()\n",
    "        x_train = scaler.fit_transform(x_train)\n",
    "        x_test = scaler.transform(x_test)\n",
    "\n",
    "    dataset[\"x_train\"] = x_train\n",
    "    dataset[\"x_test\"] = x_test\n",
    "\n",
    "    return scaler, dataset"
   ]
  },
  {
   "cell_type": "code",
   "execution_count": 8,
   "id": "e16ab99d",
   "metadata": {},
   "outputs": [
    {
     "data": {
      "application/javascript": [
       "\n",
       "            setTimeout(function() {\n",
       "                var nbb_cell_id = 8;\n",
       "                var nbb_unformatted_code = \"def preprocess_data(dataset, transformer=None, imputer=None, imputer_params=None):\\n    imputer, dataset = impute_data(dataset, imputer, imputer_params)\\n    scaler, dataset = transform_data(dataset, transformer)\\n    return imputer, scaler, dataset\";\n",
       "                var nbb_formatted_code = \"def preprocess_data(dataset, transformer=None, imputer=None, imputer_params=None):\\n    imputer, dataset = impute_data(dataset, imputer, imputer_params)\\n    scaler, dataset = transform_data(dataset, transformer)\\n    return imputer, scaler, dataset\";\n",
       "                var nbb_cells = Jupyter.notebook.get_cells();\n",
       "                for (var i = 0; i < nbb_cells.length; ++i) {\n",
       "                    if (nbb_cells[i].input_prompt_number == nbb_cell_id) {\n",
       "                        if (nbb_cells[i].get_text() == nbb_unformatted_code) {\n",
       "                             nbb_cells[i].set_text(nbb_formatted_code);\n",
       "                        }\n",
       "                        break;\n",
       "                    }\n",
       "                }\n",
       "            }, 500);\n",
       "            "
      ],
      "text/plain": [
       "<IPython.core.display.Javascript object>"
      ]
     },
     "metadata": {},
     "output_type": "display_data"
    }
   ],
   "source": [
    "def preprocess_data(dataset, transformer=None, imputer=None, imputer_params=None):\n",
    "    imputer, dataset = impute_data(dataset, imputer, imputer_params)\n",
    "    scaler, dataset = transform_data(dataset, transformer)\n",
    "    return imputer, scaler, dataset"
   ]
  },
  {
   "cell_type": "code",
   "execution_count": 9,
   "id": "ef2592e5",
   "metadata": {},
   "outputs": [
    {
     "data": {
      "application/javascript": [
       "\n",
       "            setTimeout(function() {\n",
       "                var nbb_cell_id = 9;\n",
       "                var nbb_unformatted_code = \"def train_and_evaluate_model(Estimator, dataset, estimator_params=None):\\n    \\\"\\\"\\\"\\n    Purpose: Helper function to be used in conjunction with\\n    blocked time_series cross validation function\\n    \\\"\\\"\\\"\\n    x_train = dataset[\\\"x_train\\\"]\\n    y_train = dataset[\\\"y_train\\\"]\\n    x_test = dataset[\\\"x_test\\\"]\\n    y_test = dataset[\\\"y_test\\\"]\\n\\n    # Instantiate the model\\n    model = Estimator() if estimator_params is None else Estimator(**estimator_params)\\n\\n    # Fitting the model\\n    model.fit(x_train, y_train)\\n\\n    # Making predictions on train/test sets\\n    y_train_pred = model.predict(x_train)\\n    y_test_pred = model.predict(x_test)\\n\\n    # Return regression metrics\\n    return model, score_regression_metrics(y_train, y_train_pred, y_test, y_test_pred)\";\n",
       "                var nbb_formatted_code = \"def train_and_evaluate_model(Estimator, dataset, estimator_params=None):\\n    \\\"\\\"\\\"\\n    Purpose: Helper function to be used in conjunction with\\n    blocked time_series cross validation function\\n    \\\"\\\"\\\"\\n    x_train = dataset[\\\"x_train\\\"]\\n    y_train = dataset[\\\"y_train\\\"]\\n    x_test = dataset[\\\"x_test\\\"]\\n    y_test = dataset[\\\"y_test\\\"]\\n\\n    # Instantiate the model\\n    model = Estimator() if estimator_params is None else Estimator(**estimator_params)\\n\\n    # Fitting the model\\n    model.fit(x_train, y_train)\\n\\n    # Making predictions on train/test sets\\n    y_train_pred = model.predict(x_train)\\n    y_test_pred = model.predict(x_test)\\n\\n    # Return regression metrics\\n    return model, score_regression_metrics(y_train, y_train_pred, y_test, y_test_pred)\";\n",
       "                var nbb_cells = Jupyter.notebook.get_cells();\n",
       "                for (var i = 0; i < nbb_cells.length; ++i) {\n",
       "                    if (nbb_cells[i].input_prompt_number == nbb_cell_id) {\n",
       "                        if (nbb_cells[i].get_text() == nbb_unformatted_code) {\n",
       "                             nbb_cells[i].set_text(nbb_formatted_code);\n",
       "                        }\n",
       "                        break;\n",
       "                    }\n",
       "                }\n",
       "            }, 500);\n",
       "            "
      ],
      "text/plain": [
       "<IPython.core.display.Javascript object>"
      ]
     },
     "metadata": {},
     "output_type": "display_data"
    }
   ],
   "source": [
    "def train_and_evaluate_model(Estimator, dataset, estimator_params=None):\n",
    "    \"\"\"\n",
    "    Purpose: Helper function to be used in conjunction with\n",
    "    blocked time_series cross validation function\n",
    "    \"\"\"\n",
    "    x_train = dataset[\"x_train\"]\n",
    "    y_train = dataset[\"y_train\"]\n",
    "    x_test = dataset[\"x_test\"]\n",
    "    y_test = dataset[\"y_test\"]\n",
    "\n",
    "    # Instantiate the model\n",
    "    model = Estimator() if estimator_params is None else Estimator(**estimator_params)\n",
    "\n",
    "    # Fitting the model\n",
    "    model.fit(x_train, y_train)\n",
    "\n",
    "    # Making predictions on train/test sets\n",
    "    y_train_pred = model.predict(x_train)\n",
    "    y_test_pred = model.predict(x_test)\n",
    "\n",
    "    # Return regression metrics\n",
    "    return model, score_regression_metrics(y_train, y_train_pred, y_test, y_test_pred)"
   ]
  },
  {
   "cell_type": "code",
   "execution_count": 10,
   "id": "86edb8ed",
   "metadata": {},
   "outputs": [
    {
     "data": {
      "application/javascript": [
       "\n",
       "            setTimeout(function() {\n",
       "                var nbb_cell_id = 10;\n",
       "                var nbb_unformatted_code = \"def custom_cross_validate_parallelized(\\n    Estimator,\\n    Imputer,\\n    Transform,\\n    x,\\n    y,\\n    cv,\\n    timesteps,\\n    dates=None,\\n    cement_types=None,\\n    estimator_params=None,\\n    imputer_params=None,\\n    split_by_cement_type=True,\\n    n_jobs=-1,\\n    REPEAT=0,  # Add REPEAT as a parameter\\n):\\n    def process_fold(\\n        train_index, test_index, dates, cement_types, x, y, repeat_num, fold_num\\n    ):\\n        dataset = {\\n            \\\"dates_train\\\": dates[train_index].reset_index(drop=True),\\n            \\\"cement_types_train\\\": cement_types.loc[train_index].reset_index(drop=True),\\n            \\\"x_train\\\": x.loc[train_index].reset_index(drop=True),\\n            \\\"y_train\\\": y[train_index].reset_index(drop=True),\\n            \\\"dates_test\\\": dates[test_index].reset_index(drop=True),\\n            \\\"cement_types_test\\\": cement_types.loc[test_index].reset_index(drop=True),\\n            \\\"x_test\\\": x.loc[test_index].reset_index(drop=True),\\n            \\\"y_test\\\": y[test_index].reset_index(drop=True),\\n        }\\n\\n        set_seeds(SEED + repeat_num)\\n\\n        # Preprocess the dataset\\n        imputer, scaler, dataset = preprocess_data(\\n            dataset, Transform, Imputer, imputer_params\\n        )\\n\\n        # Generate sequences (3D format)\\n        dataset = generate_sequences(dataset, timesteps, split_by_cement_type)\\n\\n        # Train and Evaluate the model\\n        estimator, score = train_and_evaluate_model(\\n            Estimator, dataset, estimator_params\\n        )\\n\\n        # Create a directory to save models if it doesn't exist\\n        model_dir = f\\\"models_repeat{repeat_num}_fold{fold_num}\\\"\\n        os.makedirs(model_dir, exist_ok=True)\\n\\n        # Save the imputer\\n        imputer_filename = os.path.join(model_dir, f\\\"imputer.joblib\\\")\\n        joblib.dump(imputer, imputer_filename)\\n\\n        # Save the scaler\\n        scaler_filename = os.path.join(model_dir, f\\\"scaler.joblib\\\")\\n        joblib.dump(scaler, scaler_filename)\\n\\n        # Save the Keras model\\n        # model_filename = os.path.join(model_dir, f\\\"keras_model.h5\\\")\\n        # estimator.model.save(model_filename)\\n        # Save the Keras model in SavedModel format\\n        model_filename = os.path.join(model_dir, f\\\"keras_model\\\")  # No extension\\n        estimator.model.save(model_filename, save_format=\\\"tf\\\")  # Specify save_format\\n\\n        # Optionally, return the filenames\\n        filenames = {\\n            \\\"imputer\\\": imputer_filename,\\n            \\\"scaler\\\": scaler_filename,\\n            \\\"model\\\": model_filename,\\n        }\\n\\n        return score, filenames\\n\\n    # Use enumerate to get fold numbers\\n    results = Parallel(n_jobs=n_jobs)(\\n        delayed(process_fold)(\\n            train_index, test_index, dates, cement_types, x, y, REPEAT, fold_num\\n        )\\n        for fold_num, (train_index, test_index) in enumerate(cv.split(x))\\n    )\\n\\n    # Unpack scores and filenames\\n    scores, filenames_list = zip(*results)\\n\\n    # Process scores as before\\n    scores_final = {key: [] for key, _ in scores[0].items()}\\n    for scores_dict in scores:\\n        for key, value in scores_dict.items():\\n            scores_final[key] += [value]\\n\\n    # Optionally, collect filenames\\n    # filenames_list contains the filenames for each fold\\n\\n    results = [scores_final]\\n    return filenames_list, results\";\n",
       "                var nbb_formatted_code = \"def custom_cross_validate_parallelized(\\n    Estimator,\\n    Imputer,\\n    Transform,\\n    x,\\n    y,\\n    cv,\\n    timesteps,\\n    dates=None,\\n    cement_types=None,\\n    estimator_params=None,\\n    imputer_params=None,\\n    split_by_cement_type=True,\\n    n_jobs=-1,\\n    REPEAT=0,  # Add REPEAT as a parameter\\n):\\n    def process_fold(\\n        train_index, test_index, dates, cement_types, x, y, repeat_num, fold_num\\n    ):\\n        dataset = {\\n            \\\"dates_train\\\": dates[train_index].reset_index(drop=True),\\n            \\\"cement_types_train\\\": cement_types.loc[train_index].reset_index(drop=True),\\n            \\\"x_train\\\": x.loc[train_index].reset_index(drop=True),\\n            \\\"y_train\\\": y[train_index].reset_index(drop=True),\\n            \\\"dates_test\\\": dates[test_index].reset_index(drop=True),\\n            \\\"cement_types_test\\\": cement_types.loc[test_index].reset_index(drop=True),\\n            \\\"x_test\\\": x.loc[test_index].reset_index(drop=True),\\n            \\\"y_test\\\": y[test_index].reset_index(drop=True),\\n        }\\n\\n        set_seeds(SEED + repeat_num)\\n\\n        # Preprocess the dataset\\n        imputer, scaler, dataset = preprocess_data(\\n            dataset, Transform, Imputer, imputer_params\\n        )\\n\\n        # Generate sequences (3D format)\\n        dataset = generate_sequences(dataset, timesteps, split_by_cement_type)\\n\\n        # Train and Evaluate the model\\n        estimator, score = train_and_evaluate_model(\\n            Estimator, dataset, estimator_params\\n        )\\n\\n        # Create a directory to save models if it doesn't exist\\n        model_dir = f\\\"models_repeat{repeat_num}_fold{fold_num}\\\"\\n        os.makedirs(model_dir, exist_ok=True)\\n\\n        # Save the imputer\\n        imputer_filename = os.path.join(model_dir, f\\\"imputer.joblib\\\")\\n        joblib.dump(imputer, imputer_filename)\\n\\n        # Save the scaler\\n        scaler_filename = os.path.join(model_dir, f\\\"scaler.joblib\\\")\\n        joblib.dump(scaler, scaler_filename)\\n\\n        # Save the Keras model\\n        # model_filename = os.path.join(model_dir, f\\\"keras_model.h5\\\")\\n        # estimator.model.save(model_filename)\\n        # Save the Keras model in SavedModel format\\n        model_filename = os.path.join(model_dir, f\\\"keras_model\\\")  # No extension\\n        estimator.model.save(model_filename, save_format=\\\"tf\\\")  # Specify save_format\\n\\n        # Optionally, return the filenames\\n        filenames = {\\n            \\\"imputer\\\": imputer_filename,\\n            \\\"scaler\\\": scaler_filename,\\n            \\\"model\\\": model_filename,\\n        }\\n\\n        return score, filenames\\n\\n    # Use enumerate to get fold numbers\\n    results = Parallel(n_jobs=n_jobs)(\\n        delayed(process_fold)(\\n            train_index, test_index, dates, cement_types, x, y, REPEAT, fold_num\\n        )\\n        for fold_num, (train_index, test_index) in enumerate(cv.split(x))\\n    )\\n\\n    # Unpack scores and filenames\\n    scores, filenames_list = zip(*results)\\n\\n    # Process scores as before\\n    scores_final = {key: [] for key, _ in scores[0].items()}\\n    for scores_dict in scores:\\n        for key, value in scores_dict.items():\\n            scores_final[key] += [value]\\n\\n    # Optionally, collect filenames\\n    # filenames_list contains the filenames for each fold\\n\\n    results = [scores_final]\\n    return filenames_list, results\";\n",
       "                var nbb_cells = Jupyter.notebook.get_cells();\n",
       "                for (var i = 0; i < nbb_cells.length; ++i) {\n",
       "                    if (nbb_cells[i].input_prompt_number == nbb_cell_id) {\n",
       "                        if (nbb_cells[i].get_text() == nbb_unformatted_code) {\n",
       "                             nbb_cells[i].set_text(nbb_formatted_code);\n",
       "                        }\n",
       "                        break;\n",
       "                    }\n",
       "                }\n",
       "            }, 500);\n",
       "            "
      ],
      "text/plain": [
       "<IPython.core.display.Javascript object>"
      ]
     },
     "metadata": {},
     "output_type": "display_data"
    }
   ],
   "source": [
    "def custom_cross_validate_parallelized(\n",
    "    Estimator,\n",
    "    Imputer,\n",
    "    Transform,\n",
    "    x,\n",
    "    y,\n",
    "    cv,\n",
    "    timesteps,\n",
    "    dates=None,\n",
    "    cement_types=None,\n",
    "    estimator_params=None,\n",
    "    imputer_params=None,\n",
    "    split_by_cement_type=True,\n",
    "    n_jobs=-1,\n",
    "    REPEAT=0,  # Add REPEAT as a parameter\n",
    "):\n",
    "    def process_fold(\n",
    "        train_index, test_index, dates, cement_types, x, y, repeat_num, fold_num\n",
    "    ):\n",
    "        dataset = {\n",
    "            \"dates_train\": dates[train_index].reset_index(drop=True),\n",
    "            \"cement_types_train\": cement_types.loc[train_index].reset_index(drop=True),\n",
    "            \"x_train\": x.loc[train_index].reset_index(drop=True),\n",
    "            \"y_train\": y[train_index].reset_index(drop=True),\n",
    "            \"dates_test\": dates[test_index].reset_index(drop=True),\n",
    "            \"cement_types_test\": cement_types.loc[test_index].reset_index(drop=True),\n",
    "            \"x_test\": x.loc[test_index].reset_index(drop=True),\n",
    "            \"y_test\": y[test_index].reset_index(drop=True),\n",
    "        }\n",
    "\n",
    "        set_seeds(SEED + repeat_num)\n",
    "\n",
    "        # Preprocess the dataset\n",
    "        imputer, scaler, dataset = preprocess_data(\n",
    "            dataset, Transform, Imputer, imputer_params\n",
    "        )\n",
    "\n",
    "        # Generate sequences (3D format)\n",
    "        dataset = generate_sequences(dataset, timesteps, split_by_cement_type)\n",
    "\n",
    "        # Train and Evaluate the model\n",
    "        estimator, score = train_and_evaluate_model(\n",
    "            Estimator, dataset, estimator_params\n",
    "        )\n",
    "\n",
    "        # Create a directory to save models if it doesn't exist\n",
    "        model_dir = f\"models_repeat{repeat_num}_fold{fold_num}\"\n",
    "        os.makedirs(model_dir, exist_ok=True)\n",
    "\n",
    "        # Save the imputer\n",
    "        imputer_filename = os.path.join(model_dir, f\"imputer.joblib\")\n",
    "        joblib.dump(imputer, imputer_filename)\n",
    "\n",
    "        # Save the scaler\n",
    "        scaler_filename = os.path.join(model_dir, f\"scaler.joblib\")\n",
    "        joblib.dump(scaler, scaler_filename)\n",
    "\n",
    "        # Save the Keras model\n",
    "        # model_filename = os.path.join(model_dir, f\"keras_model.h5\")\n",
    "        # estimator.model.save(model_filename)\n",
    "        # Save the Keras model in SavedModel format\n",
    "        model_filename = os.path.join(model_dir, f\"keras_model\")  # No extension\n",
    "        estimator.model.save(model_filename, save_format=\"tf\")  # Specify save_format\n",
    "\n",
    "        # Optionally, return the filenames\n",
    "        filenames = {\n",
    "            \"imputer\": imputer_filename,\n",
    "            \"scaler\": scaler_filename,\n",
    "            \"model\": model_filename,\n",
    "        }\n",
    "\n",
    "        return score, filenames\n",
    "\n",
    "    # Use enumerate to get fold numbers\n",
    "    results = Parallel(n_jobs=n_jobs)(\n",
    "        delayed(process_fold)(\n",
    "            train_index, test_index, dates, cement_types, x, y, REPEAT, fold_num\n",
    "        )\n",
    "        for fold_num, (train_index, test_index) in enumerate(cv.split(x))\n",
    "    )\n",
    "\n",
    "    # Unpack scores and filenames\n",
    "    scores, filenames_list = zip(*results)\n",
    "\n",
    "    # Process scores as before\n",
    "    scores_final = {key: [] for key, _ in scores[0].items()}\n",
    "    for scores_dict in scores:\n",
    "        for key, value in scores_dict.items():\n",
    "            scores_final[key] += [value]\n",
    "\n",
    "    # Optionally, collect filenames\n",
    "    # filenames_list contains the filenames for each fold\n",
    "\n",
    "    results = [scores_final]\n",
    "    return filenames_list, results"
   ]
  },
  {
   "cell_type": "code",
   "execution_count": 47,
   "id": "f6d47701",
   "metadata": {},
   "outputs": [
    {
     "data": {
      "application/javascript": [
       "\n",
       "            setTimeout(function() {\n",
       "                var nbb_cell_id = 47;\n",
       "                var nbb_unformatted_code = \"class TransformerWrapper(RegressorMixin):\\n    def __init__(self, params):\\n        self.params = params\\n        self.model = self.get_model()\\n        self.batch_size = 16\\n        self.epochs = 300\\n        self.verbose = 0\\n\\n    def fit(self, X=None, y=None):\\n        self.model.fit(\\n            X, y, batch_size=self.batch_size, epochs=self.epochs, verbose=self.verbose\\n        )\\n\\n    def predict(self, X=None):\\n        return self.model.predict(X, verbose=self.verbose)\\n\\n    def get_model(self):\\n        model = Transformer(\\n            num_hid=self.params[\\\"num_features\\\"],\\n            time_steps=self.params[\\\"timesteps\\\"],\\n            num_head=self.params[\\\"num_heads\\\"],\\n            num_layers_enc=self.params[\\\"num_layers_enc\\\"],\\n            num_feed_forward=self.params[\\\"num_feed_forward\\\"],\\n        )\\n        model.compile(\\n            tf.keras.optimizers.Adam(learning_rate=0.001),\\n            loss=\\\"mse\\\",\\n            metrics=[tf.keras.metrics.RootMeanSquaredError(name=\\\"RMSE\\\")],\\n        )\\n        return model\";\n",
       "                var nbb_formatted_code = \"class TransformerWrapper(RegressorMixin):\\n    def __init__(self, params):\\n        self.params = params\\n        self.model = self.get_model()\\n        self.batch_size = 16\\n        self.epochs = 300\\n        self.verbose = 0\\n\\n    def fit(self, X=None, y=None):\\n        self.model.fit(\\n            X, y, batch_size=self.batch_size, epochs=self.epochs, verbose=self.verbose\\n        )\\n\\n    def predict(self, X=None):\\n        return self.model.predict(X, verbose=self.verbose)\\n\\n    def get_model(self):\\n        model = Transformer(\\n            num_hid=self.params[\\\"num_features\\\"],\\n            time_steps=self.params[\\\"timesteps\\\"],\\n            num_head=self.params[\\\"num_heads\\\"],\\n            num_layers_enc=self.params[\\\"num_layers_enc\\\"],\\n            num_feed_forward=self.params[\\\"num_feed_forward\\\"],\\n        )\\n        model.compile(\\n            tf.keras.optimizers.Adam(learning_rate=0.001),\\n            loss=\\\"mse\\\",\\n            metrics=[tf.keras.metrics.RootMeanSquaredError(name=\\\"RMSE\\\")],\\n        )\\n        return model\";\n",
       "                var nbb_cells = Jupyter.notebook.get_cells();\n",
       "                for (var i = 0; i < nbb_cells.length; ++i) {\n",
       "                    if (nbb_cells[i].input_prompt_number == nbb_cell_id) {\n",
       "                        if (nbb_cells[i].get_text() == nbb_unformatted_code) {\n",
       "                             nbb_cells[i].set_text(nbb_formatted_code);\n",
       "                        }\n",
       "                        break;\n",
       "                    }\n",
       "                }\n",
       "            }, 500);\n",
       "            "
      ],
      "text/plain": [
       "<IPython.core.display.Javascript object>"
      ]
     },
     "metadata": {},
     "output_type": "display_data"
    }
   ],
   "source": [
    "class TransformerWrapper(RegressorMixin):\n",
    "    def __init__(self, params):\n",
    "        self.params = params\n",
    "        self.model = self.get_model()\n",
    "        self.batch_size = 16\n",
    "        self.epochs = 300\n",
    "        self.verbose = 0\n",
    "\n",
    "    def fit(self, X=None, y=None):\n",
    "        self.model.fit(\n",
    "            X, y, batch_size=self.batch_size, epochs=self.epochs, verbose=self.verbose\n",
    "        )\n",
    "\n",
    "    def predict(self, X=None):\n",
    "        return self.model.predict(X, verbose=self.verbose)\n",
    "\n",
    "    def get_model(self):\n",
    "        model = Transformer(\n",
    "            num_hid=self.params[\"num_features\"],\n",
    "            time_steps=self.params[\"timesteps\"],\n",
    "            num_head=self.params[\"num_heads\"],\n",
    "            num_layers_enc=self.params[\"num_layers_enc\"],\n",
    "            num_feed_forward=self.params[\"num_feed_forward\"],\n",
    "        )\n",
    "        model.compile(\n",
    "            tf.keras.optimizers.Adam(learning_rate=0.001),\n",
    "            loss=\"mse\",\n",
    "            metrics=[tf.keras.metrics.RootMeanSquaredError(name=\"RMSE\")],\n",
    "        )\n",
    "        return model"
   ]
  },
  {
   "cell_type": "code",
   "execution_count": 12,
   "id": "dfb4cfd2",
   "metadata": {},
   "outputs": [
    {
     "data": {
      "application/javascript": [
       "\n",
       "            setTimeout(function() {\n",
       "                var nbb_cell_id = 12;\n",
       "                var nbb_unformatted_code = \"def pad_time_series(dataframe, timesteps):\\n    \\\"\\\"\\\"\\n    Pad timeseries with zeros\\n    \\\"\\\"\\\"\\n    df_tmp = pd.DataFrame(\\n        dict(\\n            zip(\\n                dataframe.columns,\\n                [[0 for _ in range(timesteps - 1)] for _ in range(dataframe.shape[1])],\\n            )\\n        )\\n    )\\n    df_tmp[DATE] = dataframe[DATE].iloc[0]\\n    return pd.concat([df_tmp, dataframe], axis=0).reset_index(drop=True)\";\n",
       "                var nbb_formatted_code = \"def pad_time_series(dataframe, timesteps):\\n    \\\"\\\"\\\"\\n    Pad timeseries with zeros\\n    \\\"\\\"\\\"\\n    df_tmp = pd.DataFrame(\\n        dict(\\n            zip(\\n                dataframe.columns,\\n                [[0 for _ in range(timesteps - 1)] for _ in range(dataframe.shape[1])],\\n            )\\n        )\\n    )\\n    df_tmp[DATE] = dataframe[DATE].iloc[0]\\n    return pd.concat([df_tmp, dataframe], axis=0).reset_index(drop=True)\";\n",
       "                var nbb_cells = Jupyter.notebook.get_cells();\n",
       "                for (var i = 0; i < nbb_cells.length; ++i) {\n",
       "                    if (nbb_cells[i].input_prompt_number == nbb_cell_id) {\n",
       "                        if (nbb_cells[i].get_text() == nbb_unformatted_code) {\n",
       "                             nbb_cells[i].set_text(nbb_formatted_code);\n",
       "                        }\n",
       "                        break;\n",
       "                    }\n",
       "                }\n",
       "            }, 500);\n",
       "            "
      ],
      "text/plain": [
       "<IPython.core.display.Javascript object>"
      ]
     },
     "metadata": {},
     "output_type": "display_data"
    }
   ],
   "source": [
    "def pad_time_series(dataframe, timesteps):\n",
    "    \"\"\"\n",
    "    Pad timeseries with zeros\n",
    "    \"\"\"\n",
    "    df_tmp = pd.DataFrame(\n",
    "        dict(\n",
    "            zip(\n",
    "                dataframe.columns,\n",
    "                [[0 for _ in range(timesteps - 1)] for _ in range(dataframe.shape[1])],\n",
    "            )\n",
    "        )\n",
    "    )\n",
    "    df_tmp[DATE] = dataframe[DATE].iloc[0]\n",
    "    return pd.concat([df_tmp, dataframe], axis=0).reset_index(drop=True)"
   ]
  },
  {
   "cell_type": "code",
   "execution_count": 13,
   "id": "0d92bb92",
   "metadata": {},
   "outputs": [
    {
     "data": {
      "application/javascript": [
       "\n",
       "            setTimeout(function() {\n",
       "                var nbb_cell_id = 13;\n",
       "                var nbb_unformatted_code = \"def split_sequences_per_cement_type(dataframe, timesteps, pad=False):\\n    \\\"\\\"\\\"\\n    Create sequences per cement time\\n    to avoid having parts of the sequence\\n    of different types of cement.\\n    \\\"\\\"\\\"\\n    if timesteps == 1:\\n        return split_sequences(\\n            dataframe.drop([DATE] + CEMENT_TYPES, axis=1).values, timesteps\\n        )\\n\\n    dates = dataframe[DATE][timesteps - 1 :]\\n    data = []\\n    dataframes = []\\n\\n    for cement_type in CEMENT_TYPES:\\n        data.append(dataframe[dataframe[cement_type] == 1])\\n    data.append(dataframe[(dataframe[CEMENT_TYPES] == 0).all(axis=1)])\\n\\n    for df in data:\\n        if pad:\\n            dates = df[DATE].reset_index(drop=True)\\n            df = pad_time_series(df, timesteps).reset_index(drop=True)\\n        else:\\n            dates = df[DATE][timesteps - 1 :].reset_index(drop=True)\\n        x, y = split_sequences(df.drop([DATE] + CEMENT_TYPES, axis=1).values, timesteps)\\n        x = pd.DataFrame({\\\"Sequences\\\": [sample.tolist() for sample in x]})\\n        y = pd.DataFrame({\\\"Target\\\": y})\\n        dataframes.append(pd.concat([dates, x, y], axis=1))\\n\\n    data = pd.concat(dataframes, axis=0)\\n    data[DATE] = pd.to_datetime(data[DATE])\\n    data = data.sort_values(by=DATE).reset_index(drop=True)\\n    x = data[\\\"Sequences\\\"]\\n    y = data[\\\"Target\\\"].values\\n    x = np.array(x.tolist())\\n\\n    return x, y\";\n",
       "                var nbb_formatted_code = \"def split_sequences_per_cement_type(dataframe, timesteps, pad=False):\\n    \\\"\\\"\\\"\\n    Create sequences per cement time\\n    to avoid having parts of the sequence\\n    of different types of cement.\\n    \\\"\\\"\\\"\\n    if timesteps == 1:\\n        return split_sequences(\\n            dataframe.drop([DATE] + CEMENT_TYPES, axis=1).values, timesteps\\n        )\\n\\n    dates = dataframe[DATE][timesteps - 1 :]\\n    data = []\\n    dataframes = []\\n\\n    for cement_type in CEMENT_TYPES:\\n        data.append(dataframe[dataframe[cement_type] == 1])\\n    data.append(dataframe[(dataframe[CEMENT_TYPES] == 0).all(axis=1)])\\n\\n    for df in data:\\n        if pad:\\n            dates = df[DATE].reset_index(drop=True)\\n            df = pad_time_series(df, timesteps).reset_index(drop=True)\\n        else:\\n            dates = df[DATE][timesteps - 1 :].reset_index(drop=True)\\n        x, y = split_sequences(df.drop([DATE] + CEMENT_TYPES, axis=1).values, timesteps)\\n        x = pd.DataFrame({\\\"Sequences\\\": [sample.tolist() for sample in x]})\\n        y = pd.DataFrame({\\\"Target\\\": y})\\n        dataframes.append(pd.concat([dates, x, y], axis=1))\\n\\n    data = pd.concat(dataframes, axis=0)\\n    data[DATE] = pd.to_datetime(data[DATE])\\n    data = data.sort_values(by=DATE).reset_index(drop=True)\\n    x = data[\\\"Sequences\\\"]\\n    y = data[\\\"Target\\\"].values\\n    x = np.array(x.tolist())\\n\\n    return x, y\";\n",
       "                var nbb_cells = Jupyter.notebook.get_cells();\n",
       "                for (var i = 0; i < nbb_cells.length; ++i) {\n",
       "                    if (nbb_cells[i].input_prompt_number == nbb_cell_id) {\n",
       "                        if (nbb_cells[i].get_text() == nbb_unformatted_code) {\n",
       "                             nbb_cells[i].set_text(nbb_formatted_code);\n",
       "                        }\n",
       "                        break;\n",
       "                    }\n",
       "                }\n",
       "            }, 500);\n",
       "            "
      ],
      "text/plain": [
       "<IPython.core.display.Javascript object>"
      ]
     },
     "metadata": {},
     "output_type": "display_data"
    }
   ],
   "source": [
    "def split_sequences_per_cement_type(dataframe, timesteps, pad=False):\n",
    "    \"\"\"\n",
    "    Create sequences per cement time\n",
    "    to avoid having parts of the sequence\n",
    "    of different types of cement.\n",
    "    \"\"\"\n",
    "    if timesteps == 1:\n",
    "        return split_sequences(\n",
    "            dataframe.drop([DATE] + CEMENT_TYPES, axis=1).values, timesteps\n",
    "        )\n",
    "\n",
    "    dates = dataframe[DATE][timesteps - 1 :]\n",
    "    data = []\n",
    "    dataframes = []\n",
    "\n",
    "    for cement_type in CEMENT_TYPES:\n",
    "        data.append(dataframe[dataframe[cement_type] == 1])\n",
    "    data.append(dataframe[(dataframe[CEMENT_TYPES] == 0).all(axis=1)])\n",
    "\n",
    "    for df in data:\n",
    "        if pad:\n",
    "            dates = df[DATE].reset_index(drop=True)\n",
    "            df = pad_time_series(df, timesteps).reset_index(drop=True)\n",
    "        else:\n",
    "            dates = df[DATE][timesteps - 1 :].reset_index(drop=True)\n",
    "        x, y = split_sequences(df.drop([DATE] + CEMENT_TYPES, axis=1).values, timesteps)\n",
    "        x = pd.DataFrame({\"Sequences\": [sample.tolist() for sample in x]})\n",
    "        y = pd.DataFrame({\"Target\": y})\n",
    "        dataframes.append(pd.concat([dates, x, y], axis=1))\n",
    "\n",
    "    data = pd.concat(dataframes, axis=0)\n",
    "    data[DATE] = pd.to_datetime(data[DATE])\n",
    "    data = data.sort_values(by=DATE).reset_index(drop=True)\n",
    "    x = data[\"Sequences\"]\n",
    "    y = data[\"Target\"].values\n",
    "    x = np.array(x.tolist())\n",
    "\n",
    "    return x, y"
   ]
  },
  {
   "cell_type": "code",
   "execution_count": 14,
   "id": "df1fd29f",
   "metadata": {},
   "outputs": [
    {
     "data": {
      "application/javascript": [
       "\n",
       "            setTimeout(function() {\n",
       "                var nbb_cell_id = 14;\n",
       "                var nbb_unformatted_code = \"SEED = 47\\nREPEAT = 0\";\n",
       "                var nbb_formatted_code = \"SEED = 47\\nREPEAT = 0\";\n",
       "                var nbb_cells = Jupyter.notebook.get_cells();\n",
       "                for (var i = 0; i < nbb_cells.length; ++i) {\n",
       "                    if (nbb_cells[i].input_prompt_number == nbb_cell_id) {\n",
       "                        if (nbb_cells[i].get_text() == nbb_unformatted_code) {\n",
       "                             nbb_cells[i].set_text(nbb_formatted_code);\n",
       "                        }\n",
       "                        break;\n",
       "                    }\n",
       "                }\n",
       "            }, 500);\n",
       "            "
      ],
      "text/plain": [
       "<IPython.core.display.Javascript object>"
      ]
     },
     "metadata": {},
     "output_type": "display_data"
    }
   ],
   "source": [
    "SEED = 47\n",
    "REPEAT = 0"
   ]
  },
  {
   "cell_type": "code",
   "execution_count": 15,
   "id": "abf8efa3",
   "metadata": {},
   "outputs": [
    {
     "data": {
      "application/javascript": [
       "\n",
       "            setTimeout(function() {\n",
       "                var nbb_cell_id = 15;\n",
       "                var nbb_unformatted_code = \"def set_seeds(seed=SEED):\\n    os.environ[\\\"PYTHONHASHSEED\\\"] = str(seed)\\n    tf.random.set_seed(seed)\\n    np.random.seed(seed)\\n    random.seed(seed)\\n\\n\\n# https://stackoverflow.com/questions/36288235/how-to-get-stable-results-with-tensorflow-setting-random-seed\";\n",
       "                var nbb_formatted_code = \"def set_seeds(seed=SEED):\\n    os.environ[\\\"PYTHONHASHSEED\\\"] = str(seed)\\n    tf.random.set_seed(seed)\\n    np.random.seed(seed)\\n    random.seed(seed)\\n\\n\\n# https://stackoverflow.com/questions/36288235/how-to-get-stable-results-with-tensorflow-setting-random-seed\";\n",
       "                var nbb_cells = Jupyter.notebook.get_cells();\n",
       "                for (var i = 0; i < nbb_cells.length; ++i) {\n",
       "                    if (nbb_cells[i].input_prompt_number == nbb_cell_id) {\n",
       "                        if (nbb_cells[i].get_text() == nbb_unformatted_code) {\n",
       "                             nbb_cells[i].set_text(nbb_formatted_code);\n",
       "                        }\n",
       "                        break;\n",
       "                    }\n",
       "                }\n",
       "            }, 500);\n",
       "            "
      ],
      "text/plain": [
       "<IPython.core.display.Javascript object>"
      ]
     },
     "metadata": {},
     "output_type": "display_data"
    }
   ],
   "source": [
    "def set_seeds(seed=SEED):\n",
    "    os.environ[\"PYTHONHASHSEED\"] = str(seed)\n",
    "    tf.random.set_seed(seed)\n",
    "    np.random.seed(seed)\n",
    "    random.seed(seed)\n",
    "\n",
    "\n",
    "# https://stackoverflow.com/questions/36288235/how-to-get-stable-results-with-tensorflow-setting-random-seed"
   ]
  },
  {
   "cell_type": "code",
   "execution_count": 16,
   "id": "c073cff2",
   "metadata": {},
   "outputs": [
    {
     "data": {
      "application/javascript": [
       "\n",
       "            setTimeout(function() {\n",
       "                var nbb_cell_id = 16;\n",
       "                var nbb_unformatted_code = \"def set_global_determinism():\\n    set_seeds(seed=SEED)\\n\\n    os.environ[\\\"TF_DETERMINISTIC_OPS\\\"] = \\\"1\\\"\\n    os.environ[\\\"TF_CUDNN_DETERMINISTIC\\\"] = \\\"1\\\"\\n\\n    tf.config.threading.set_inter_op_parallelism_threads(1)\\n    tf.config.threading.set_intra_op_parallelism_threads(1)\";\n",
       "                var nbb_formatted_code = \"def set_global_determinism():\\n    set_seeds(seed=SEED)\\n\\n    os.environ[\\\"TF_DETERMINISTIC_OPS\\\"] = \\\"1\\\"\\n    os.environ[\\\"TF_CUDNN_DETERMINISTIC\\\"] = \\\"1\\\"\\n\\n    tf.config.threading.set_inter_op_parallelism_threads(1)\\n    tf.config.threading.set_intra_op_parallelism_threads(1)\";\n",
       "                var nbb_cells = Jupyter.notebook.get_cells();\n",
       "                for (var i = 0; i < nbb_cells.length; ++i) {\n",
       "                    if (nbb_cells[i].input_prompt_number == nbb_cell_id) {\n",
       "                        if (nbb_cells[i].get_text() == nbb_unformatted_code) {\n",
       "                             nbb_cells[i].set_text(nbb_formatted_code);\n",
       "                        }\n",
       "                        break;\n",
       "                    }\n",
       "                }\n",
       "            }, 500);\n",
       "            "
      ],
      "text/plain": [
       "<IPython.core.display.Javascript object>"
      ]
     },
     "metadata": {},
     "output_type": "display_data"
    }
   ],
   "source": [
    "def set_global_determinism():\n",
    "    set_seeds(seed=SEED)\n",
    "\n",
    "    os.environ[\"TF_DETERMINISTIC_OPS\"] = \"1\"\n",
    "    os.environ[\"TF_CUDNN_DETERMINISTIC\"] = \"1\"\n",
    "\n",
    "    tf.config.threading.set_inter_op_parallelism_threads(1)\n",
    "    tf.config.threading.set_intra_op_parallelism_threads(1)"
   ]
  },
  {
   "cell_type": "code",
   "execution_count": 17,
   "id": "1043969f",
   "metadata": {},
   "outputs": [
    {
     "data": {
      "application/javascript": [
       "\n",
       "            setTimeout(function() {\n",
       "                var nbb_cell_id = 17;\n",
       "                var nbb_unformatted_code = \"def get_transformer_params(\\n    timesteps=1,\\n    num_features=0,\\n    num_heads=1,\\n    num_layers_enc=1,\\n    num_feed_forward=16,\\n    dropout_rate=0.1,\\n    activation=\\\"relu\\\",\\n    batch_size=64,\\n    epochs=300,\\n    callbacks=None,\\n    validation_split=0.0,\\n    verbose=0,\\n):\\n    params = {}\\n    params[\\\"num_features\\\"] = num_features\\n    params[\\\"timesteps\\\"] = timesteps\\n    params[\\\"num_heads\\\"] = num_heads\\n    params[\\\"num_layers_enc\\\"] = num_layers_enc\\n    params[\\\"num_feed_forward\\\"] = num_feed_forward\\n    params[\\\"verbose\\\"] = verbose\\n    params[\\\"dropout_rate\\\"] = dropout_rate\\n    params[\\\"activation\\\"] = activation\\n    params[\\\"batch_size\\\"] = batch_size\\n    params[\\\"epochs\\\"] = epochs\\n    params[\\\"callbacks\\\"] = callbacks\\n    params[\\\"validation_split\\\"] = validation_split\\n\\n    return params\";\n",
       "                var nbb_formatted_code = \"def get_transformer_params(\\n    timesteps=1,\\n    num_features=0,\\n    num_heads=1,\\n    num_layers_enc=1,\\n    num_feed_forward=16,\\n    dropout_rate=0.1,\\n    activation=\\\"relu\\\",\\n    batch_size=64,\\n    epochs=300,\\n    callbacks=None,\\n    validation_split=0.0,\\n    verbose=0,\\n):\\n    params = {}\\n    params[\\\"num_features\\\"] = num_features\\n    params[\\\"timesteps\\\"] = timesteps\\n    params[\\\"num_heads\\\"] = num_heads\\n    params[\\\"num_layers_enc\\\"] = num_layers_enc\\n    params[\\\"num_feed_forward\\\"] = num_feed_forward\\n    params[\\\"verbose\\\"] = verbose\\n    params[\\\"dropout_rate\\\"] = dropout_rate\\n    params[\\\"activation\\\"] = activation\\n    params[\\\"batch_size\\\"] = batch_size\\n    params[\\\"epochs\\\"] = epochs\\n    params[\\\"callbacks\\\"] = callbacks\\n    params[\\\"validation_split\\\"] = validation_split\\n\\n    return params\";\n",
       "                var nbb_cells = Jupyter.notebook.get_cells();\n",
       "                for (var i = 0; i < nbb_cells.length; ++i) {\n",
       "                    if (nbb_cells[i].input_prompt_number == nbb_cell_id) {\n",
       "                        if (nbb_cells[i].get_text() == nbb_unformatted_code) {\n",
       "                             nbb_cells[i].set_text(nbb_formatted_code);\n",
       "                        }\n",
       "                        break;\n",
       "                    }\n",
       "                }\n",
       "            }, 500);\n",
       "            "
      ],
      "text/plain": [
       "<IPython.core.display.Javascript object>"
      ]
     },
     "metadata": {},
     "output_type": "display_data"
    }
   ],
   "source": [
    "def get_transformer_params(\n",
    "    timesteps=1,\n",
    "    num_features=0,\n",
    "    num_heads=1,\n",
    "    num_layers_enc=1,\n",
    "    num_feed_forward=16,\n",
    "    dropout_rate=0.1,\n",
    "    activation=\"relu\",\n",
    "    batch_size=64,\n",
    "    epochs=300,\n",
    "    callbacks=None,\n",
    "    validation_split=0.0,\n",
    "    verbose=0,\n",
    "):\n",
    "    params = {}\n",
    "    params[\"num_features\"] = num_features\n",
    "    params[\"timesteps\"] = timesteps\n",
    "    params[\"num_heads\"] = num_heads\n",
    "    params[\"num_layers_enc\"] = num_layers_enc\n",
    "    params[\"num_feed_forward\"] = num_feed_forward\n",
    "    params[\"verbose\"] = verbose\n",
    "    params[\"dropout_rate\"] = dropout_rate\n",
    "    params[\"activation\"] = activation\n",
    "    params[\"batch_size\"] = batch_size\n",
    "    params[\"epochs\"] = epochs\n",
    "    params[\"callbacks\"] = callbacks\n",
    "    params[\"validation_split\"] = validation_split\n",
    "\n",
    "    return params"
   ]
  },
  {
   "cell_type": "code",
   "execution_count": 26,
   "id": "5fd7155a",
   "metadata": {},
   "outputs": [
    {
     "data": {
      "application/javascript": [
       "\n",
       "            setTimeout(function() {\n",
       "                var nbb_cell_id = 26;\n",
       "                var nbb_unformatted_code = \"\\n\\nMETRICS = (\\n    \\\"neg_root_mean_squared_error\\\",\\n    \\\"neg_mean_absolute_error\\\",\\n    \\\"neg_mean_absolute_percentage_error\\\",\\n    \\\"r2\\\",\\n)\\nMETRICS_DICT = {\\n    \\\"neg_root_mean_squared_error\\\": \\\"RMSE\\\",\\n    \\\"neg_mean_absolute_error\\\": \\\"MAE\\\",\\n    \\\"neg_mean_absolute_percentage_error\\\": \\\"MAPE\\\",\\n    \\\"r2\\\": \\\"R2\\\",\\n}\\nDATE = \\\"Date\\\"\\nCEMENT_TYPES = [\\n    \\\"Cement_Type_CP II-E40\\\",\\n    \\\"Cement_Type_CP II-F40\\\",\\n    \\\"Cement_Type_CP VARI\\\",\\n]\";\n",
       "                var nbb_formatted_code = \"METRICS = (\\n    \\\"neg_root_mean_squared_error\\\",\\n    \\\"neg_mean_absolute_error\\\",\\n    \\\"neg_mean_absolute_percentage_error\\\",\\n    \\\"r2\\\",\\n)\\nMETRICS_DICT = {\\n    \\\"neg_root_mean_squared_error\\\": \\\"RMSE\\\",\\n    \\\"neg_mean_absolute_error\\\": \\\"MAE\\\",\\n    \\\"neg_mean_absolute_percentage_error\\\": \\\"MAPE\\\",\\n    \\\"r2\\\": \\\"R2\\\",\\n}\\nDATE = \\\"Date\\\"\\nCEMENT_TYPES = [\\n    \\\"Cement_Type_CP II-E40\\\",\\n    \\\"Cement_Type_CP II-F40\\\",\\n    \\\"Cement_Type_CP VARI\\\",\\n]\";\n",
       "                var nbb_cells = Jupyter.notebook.get_cells();\n",
       "                for (var i = 0; i < nbb_cells.length; ++i) {\n",
       "                    if (nbb_cells[i].input_prompt_number == nbb_cell_id) {\n",
       "                        if (nbb_cells[i].get_text() == nbb_unformatted_code) {\n",
       "                             nbb_cells[i].set_text(nbb_formatted_code);\n",
       "                        }\n",
       "                        break;\n",
       "                    }\n",
       "                }\n",
       "            }, 500);\n",
       "            "
      ],
      "text/plain": [
       "<IPython.core.display.Javascript object>"
      ]
     },
     "metadata": {},
     "output_type": "display_data"
    }
   ],
   "source": [
    "METRICS = (\n",
    "    \"neg_root_mean_squared_error\",\n",
    "    \"neg_mean_absolute_error\",\n",
    "    \"neg_mean_absolute_percentage_error\",\n",
    "    \"r2\",\n",
    ")\n",
    "METRICS_DICT = {\n",
    "    \"neg_root_mean_squared_error\": \"RMSE\",\n",
    "    \"neg_mean_absolute_error\": \"MAE\",\n",
    "    \"neg_mean_absolute_percentage_error\": \"MAPE\",\n",
    "    \"r2\": \"R2\",\n",
    "}\n",
    "DATE = \"Date\"\n",
    "CEMENT_TYPES = [\n",
    "    \"Cement_Type_CP II-E40\",\n",
    "    \"Cement_Type_CP II-F40\",\n",
    "    \"Cement_Type_CP VARI\",\n",
    "]"
   ]
  },
  {
   "cell_type": "markdown",
   "id": "68005865",
   "metadata": {},
   "source": [
    "## Defining a dataframe structure to save the results"
   ]
  },
  {
   "cell_type": "code",
   "execution_count": 27,
   "id": "a5e0d3ea",
   "metadata": {},
   "outputs": [
    {
     "data": {
      "application/javascript": [
       "\n",
       "            setTimeout(function() {\n",
       "                var nbb_cell_id = 27;\n",
       "                var nbb_unformatted_code = \"results_to_save = []\\n\\nresults_dict = {\\n    \\\"Category\\\": \\\"Local Model\\\",\\n    \\\"Company\\\": \\\"203\\\",\\n    \\\"Plant\\\": \\\"C\\\",\\n    \\\"Features\\\": \\\"Chemical\\\",\\n    \\\"Data Shape\\\": None,\\n    \\\"Timesteps\\\": None,\\n    \\\"Model\\\": \\\"Random Forest\\\",\\n    \\\"Model Params\\\": None,\\n    \\\"Scaler\\\": None,\\n    \\\"Scaler Params\\\": None,\\n    \\\"Imputer\\\": \\\"Median\\\",\\n    \\\"Imputer Params\\\": None,\\n    \\\"Cross Validation\\\": None,\\n    \\\"Cross Validation Params\\\": np.nan,\\n    \\\"RMSE Train\\\": np.nan,\\n    \\\"MAE Train\\\": np.nan,\\n    \\\"MAPE Train\\\": np.nan,\\n    \\\"R2 Train\\\": np.nan,\\n    \\\"RMSE Test\\\": np.nan,\\n    \\\"MAE Test\\\": np.nan,\\n    \\\"MAPE Test\\\": np.nan,\\n    \\\"R2 Test\\\": np.nan,\\n}\";\n",
       "                var nbb_formatted_code = \"results_to_save = []\\n\\nresults_dict = {\\n    \\\"Category\\\": \\\"Local Model\\\",\\n    \\\"Company\\\": \\\"203\\\",\\n    \\\"Plant\\\": \\\"C\\\",\\n    \\\"Features\\\": \\\"Chemical\\\",\\n    \\\"Data Shape\\\": None,\\n    \\\"Timesteps\\\": None,\\n    \\\"Model\\\": \\\"Random Forest\\\",\\n    \\\"Model Params\\\": None,\\n    \\\"Scaler\\\": None,\\n    \\\"Scaler Params\\\": None,\\n    \\\"Imputer\\\": \\\"Median\\\",\\n    \\\"Imputer Params\\\": None,\\n    \\\"Cross Validation\\\": None,\\n    \\\"Cross Validation Params\\\": np.nan,\\n    \\\"RMSE Train\\\": np.nan,\\n    \\\"MAE Train\\\": np.nan,\\n    \\\"MAPE Train\\\": np.nan,\\n    \\\"R2 Train\\\": np.nan,\\n    \\\"RMSE Test\\\": np.nan,\\n    \\\"MAE Test\\\": np.nan,\\n    \\\"MAPE Test\\\": np.nan,\\n    \\\"R2 Test\\\": np.nan,\\n}\";\n",
       "                var nbb_cells = Jupyter.notebook.get_cells();\n",
       "                for (var i = 0; i < nbb_cells.length; ++i) {\n",
       "                    if (nbb_cells[i].input_prompt_number == nbb_cell_id) {\n",
       "                        if (nbb_cells[i].get_text() == nbb_unformatted_code) {\n",
       "                             nbb_cells[i].set_text(nbb_formatted_code);\n",
       "                        }\n",
       "                        break;\n",
       "                    }\n",
       "                }\n",
       "            }, 500);\n",
       "            "
      ],
      "text/plain": [
       "<IPython.core.display.Javascript object>"
      ]
     },
     "metadata": {},
     "output_type": "display_data"
    }
   ],
   "source": [
    "results_to_save = []\n",
    "\n",
    "results_dict = {\n",
    "    \"Category\": \"Local Model\",\n",
    "    \"Company\": \"203\",\n",
    "    \"Plant\": \"C\",\n",
    "    \"Features\": \"Chemical\",\n",
    "    \"Data Shape\": None,\n",
    "    \"Timesteps\": None,\n",
    "    \"Model\": \"Random Forest\",\n",
    "    \"Model Params\": None,\n",
    "    \"Scaler\": None,\n",
    "    \"Scaler Params\": None,\n",
    "    \"Imputer\": \"Median\",\n",
    "    \"Imputer Params\": None,\n",
    "    \"Cross Validation\": None,\n",
    "    \"Cross Validation Params\": np.nan,\n",
    "    \"RMSE Train\": np.nan,\n",
    "    \"MAE Train\": np.nan,\n",
    "    \"MAPE Train\": np.nan,\n",
    "    \"R2 Train\": np.nan,\n",
    "    \"RMSE Test\": np.nan,\n",
    "    \"MAE Test\": np.nan,\n",
    "    \"MAPE Test\": np.nan,\n",
    "    \"R2 Test\": np.nan,\n",
    "}"
   ]
  },
  {
   "cell_type": "markdown",
   "id": "2a452455",
   "metadata": {},
   "source": [
    "# Reading the dataset"
   ]
  },
  {
   "cell_type": "code",
   "execution_count": 37,
   "id": "d0e89a40",
   "metadata": {},
   "outputs": [
    {
     "data": {
      "application/javascript": [
       "\n",
       "            setTimeout(function() {\n",
       "                var nbb_cell_id = 37;\n",
       "                var nbb_unformatted_code = \"df = pd.read_csv(\\\"../../../../data/processed/203/c.csv\\\")\";\n",
       "                var nbb_formatted_code = \"df = pd.read_csv(\\\"../../../../data/processed/203/c.csv\\\")\";\n",
       "                var nbb_cells = Jupyter.notebook.get_cells();\n",
       "                for (var i = 0; i < nbb_cells.length; ++i) {\n",
       "                    if (nbb_cells[i].input_prompt_number == nbb_cell_id) {\n",
       "                        if (nbb_cells[i].get_text() == nbb_unformatted_code) {\n",
       "                             nbb_cells[i].set_text(nbb_formatted_code);\n",
       "                        }\n",
       "                        break;\n",
       "                    }\n",
       "                }\n",
       "            }, 500);\n",
       "            "
      ],
      "text/plain": [
       "<IPython.core.display.Javascript object>"
      ]
     },
     "metadata": {},
     "output_type": "display_data"
    }
   ],
   "source": [
    "df = pd.read_csv(\"../../../../data/processed/203/c.csv\")"
   ]
  },
  {
   "cell_type": "markdown",
   "id": "2ae57845",
   "metadata": {},
   "source": [
    "## Defining Features\n",
    "\n",
    "In this set of experiments we keep only chemical and mineralogical features yielded by the same testing method/procedure"
   ]
  },
  {
   "cell_type": "code",
   "execution_count": 44,
   "id": "ea0331c1",
   "metadata": {},
   "outputs": [
    {
     "data": {
      "application/javascript": [
       "\n",
       "            setTimeout(function() {\n",
       "                var nbb_cell_id = 44;\n",
       "                var nbb_unformatted_code = \"df_copy = df.copy()\\ndf_copy = pd.get_dummies(data=df_copy, columns=[\\\"Cement_Type\\\"], drop_first=True)\\n\\ndf_copy = df_copy.drop(\\n    [\\n        \\\"Blaine\\\",\\n        \\\"#200\\\",\\n        \\\"#325\\\",\\n        \\\"Final setting time\\\",\\n        \\\"Initial setting time\\\",\\n        \\\"CS1\\\",\\n        \\\"CS3\\\",\\n        \\\"CS7\\\",\\n    ],\\n    axis=1,\\n)\";\n",
       "                var nbb_formatted_code = \"df_copy = df.copy()\\ndf_copy = pd.get_dummies(data=df_copy, columns=[\\\"Cement_Type\\\"], drop_first=True)\\n\\ndf_copy = df_copy.drop(\\n    [\\n        \\\"Blaine\\\",\\n        \\\"#200\\\",\\n        \\\"#325\\\",\\n        \\\"Final setting time\\\",\\n        \\\"Initial setting time\\\",\\n        \\\"CS1\\\",\\n        \\\"CS3\\\",\\n        \\\"CS7\\\",\\n    ],\\n    axis=1,\\n)\";\n",
       "                var nbb_cells = Jupyter.notebook.get_cells();\n",
       "                for (var i = 0; i < nbb_cells.length; ++i) {\n",
       "                    if (nbb_cells[i].input_prompt_number == nbb_cell_id) {\n",
       "                        if (nbb_cells[i].get_text() == nbb_unformatted_code) {\n",
       "                             nbb_cells[i].set_text(nbb_formatted_code);\n",
       "                        }\n",
       "                        break;\n",
       "                    }\n",
       "                }\n",
       "            }, 500);\n",
       "            "
      ],
      "text/plain": [
       "<IPython.core.display.Javascript object>"
      ]
     },
     "metadata": {},
     "output_type": "display_data"
    }
   ],
   "source": [
    "df_copy = df.copy()\n",
    "df_copy = pd.get_dummies(data=df_copy, columns=[\"Cement_Type\"], drop_first=True)\n",
    "\n",
    "df_copy = df_copy.drop(\n",
    "    [\n",
    "        \"Blaine\",\n",
    "        \"#200\",\n",
    "        \"#325\",\n",
    "        \"Final setting time\",\n",
    "        \"Initial setting time\",\n",
    "        \"CS1\",\n",
    "        \"CS3\",\n",
    "        \"CS7\",\n",
    "    ],\n",
    "    axis=1,\n",
    ")"
   ]
  },
  {
   "cell_type": "markdown",
   "id": "83ba187d",
   "metadata": {},
   "source": [
    "<h2>1. Dataset: df_no_cs</h2> <br>In this dataset the CS1, CS3  and CS7 variables are not considered. Only Chemical and mineralogical features measured by the same method. For this particular dataset, all chemical features, with the exception of LOI were measured by XRF and XRD methods."
   ]
  },
  {
   "cell_type": "code",
   "execution_count": 45,
   "id": "d4212564",
   "metadata": {},
   "outputs": [
    {
     "data": {
      "application/javascript": [
       "\n",
       "            setTimeout(function() {\n",
       "                var nbb_cell_id = 45;\n",
       "                var nbb_unformatted_code = \"df_copy[CEMENT_TYPES] = df_copy[CEMENT_TYPES].astype(int)\\ndates = df[\\\"Date\\\"].copy()\\ny = df_copy.pop(\\\"CS28\\\")\\nx = df_copy\\ndf_copy = pd.concat([x, y], axis=1)\";\n",
       "                var nbb_formatted_code = \"df_copy[CEMENT_TYPES] = df_copy[CEMENT_TYPES].astype(int)\\ndates = df[\\\"Date\\\"].copy()\\ny = df_copy.pop(\\\"CS28\\\")\\nx = df_copy\\ndf_copy = pd.concat([x, y], axis=1)\";\n",
       "                var nbb_cells = Jupyter.notebook.get_cells();\n",
       "                for (var i = 0; i < nbb_cells.length; ++i) {\n",
       "                    if (nbb_cells[i].input_prompt_number == nbb_cell_id) {\n",
       "                        if (nbb_cells[i].get_text() == nbb_unformatted_code) {\n",
       "                             nbb_cells[i].set_text(nbb_formatted_code);\n",
       "                        }\n",
       "                        break;\n",
       "                    }\n",
       "                }\n",
       "            }, 500);\n",
       "            "
      ],
      "text/plain": [
       "<IPython.core.display.Javascript object>"
      ]
     },
     "metadata": {},
     "output_type": "display_data"
    }
   ],
   "source": [
    "df_copy[CEMENT_TYPES] = df_copy[CEMENT_TYPES].astype(int)\n",
    "dates = df[\"Date\"].copy()\n",
    "y = df_copy.pop(\"CS28\")\n",
    "x = df_copy\n",
    "df_copy = pd.concat([x, y], axis=1)"
   ]
  },
  {
   "cell_type": "markdown",
   "id": "0b53c8d6",
   "metadata": {},
   "source": [
    "# Transformer Encoder"
   ]
  },
  {
   "cell_type": "code",
   "execution_count": 40,
   "id": "a0cfed31",
   "metadata": {},
   "outputs": [
    {
     "data": {
      "application/javascript": [
       "\n",
       "            setTimeout(function() {\n",
       "                var nbb_cell_id = 40;\n",
       "                var nbb_unformatted_code = \"# params = get_transformer_params(\\n#     timesteps=1,\\n#     num_features=x.shape[-1],\\n#     num_heads=1,\\n#     num_layers_enc=1,\\n#     num_feed_forward=16,\\n#     dropout_rate=0.1,\\n#     activation=\\\"relu\\\",\\n#     batch_size=16,\\n#     epochs=300,\\n#     callbacks=None,\\n#     validation_split=0.0,\\n#     verbose=0,\\n# )\";\n",
       "                var nbb_formatted_code = \"# params = get_transformer_params(\\n#     timesteps=1,\\n#     num_features=x.shape[-1],\\n#     num_heads=1,\\n#     num_layers_enc=1,\\n#     num_feed_forward=16,\\n#     dropout_rate=0.1,\\n#     activation=\\\"relu\\\",\\n#     batch_size=16,\\n#     epochs=300,\\n#     callbacks=None,\\n#     validation_split=0.0,\\n#     verbose=0,\\n# )\";\n",
       "                var nbb_cells = Jupyter.notebook.get_cells();\n",
       "                for (var i = 0; i < nbb_cells.length; ++i) {\n",
       "                    if (nbb_cells[i].input_prompt_number == nbb_cell_id) {\n",
       "                        if (nbb_cells[i].get_text() == nbb_unformatted_code) {\n",
       "                             nbb_cells[i].set_text(nbb_formatted_code);\n",
       "                        }\n",
       "                        break;\n",
       "                    }\n",
       "                }\n",
       "            }, 500);\n",
       "            "
      ],
      "text/plain": [
       "<IPython.core.display.Javascript object>"
      ]
     },
     "metadata": {},
     "output_type": "display_data"
    }
   ],
   "source": [
    "# params = get_transformer_params(\n",
    "#     timesteps=1,\n",
    "#     num_features=x.shape[-1],\n",
    "#     num_heads=1,\n",
    "#     num_layers_enc=1,\n",
    "#     num_feed_forward=16,\n",
    "#     dropout_rate=0.1,\n",
    "#     activation=\"relu\",\n",
    "#     batch_size=16,\n",
    "#     epochs=300,\n",
    "#     callbacks=None,\n",
    "#     validation_split=0.0,\n",
    "#     verbose=0,\n",
    "# )"
   ]
  },
  {
   "cell_type": "code",
   "execution_count": 41,
   "id": "2c4c4e4a",
   "metadata": {},
   "outputs": [
    {
     "data": {
      "application/javascript": [
       "\n",
       "            setTimeout(function() {\n",
       "                var nbb_cell_id = 41;\n",
       "                var nbb_unformatted_code = \"params = {}\\nparams[\\\"timesteps\\\"] = None\\nparams[\\\"num_features\\\"] = None\\nparams[\\\"num_heads\\\"] = 1\\nparams[\\\"num_layers_enc\\\"] = 1\\nparams[\\\"num_feed_forward\\\"] = 16\";\n",
       "                var nbb_formatted_code = \"params = {}\\nparams[\\\"timesteps\\\"] = None\\nparams[\\\"num_features\\\"] = None\\nparams[\\\"num_heads\\\"] = 1\\nparams[\\\"num_layers_enc\\\"] = 1\\nparams[\\\"num_feed_forward\\\"] = 16\";\n",
       "                var nbb_cells = Jupyter.notebook.get_cells();\n",
       "                for (var i = 0; i < nbb_cells.length; ++i) {\n",
       "                    if (nbb_cells[i].input_prompt_number == nbb_cell_id) {\n",
       "                        if (nbb_cells[i].get_text() == nbb_unformatted_code) {\n",
       "                             nbb_cells[i].set_text(nbb_formatted_code);\n",
       "                        }\n",
       "                        break;\n",
       "                    }\n",
       "                }\n",
       "            }, 500);\n",
       "            "
      ],
      "text/plain": [
       "<IPython.core.display.Javascript object>"
      ]
     },
     "metadata": {},
     "output_type": "display_data"
    }
   ],
   "source": [
    "params = {}\n",
    "params[\"timesteps\"] = None\n",
    "params[\"num_features\"] = None\n",
    "params[\"num_heads\"] = 1\n",
    "params[\"num_layers_enc\"] = 1\n",
    "params[\"num_feed_forward\"] = 16"
   ]
  },
  {
   "cell_type": "markdown",
   "id": "d1f6805a",
   "metadata": {},
   "source": [
    "## 1.2. Blocking Time Series Cross Validation\n",
    "\n",
    "<b>Dataset shape:</b> (1234, 38)<br>\n",
    "<b>Splits:</b>5<br>    \n",
    "    1. 5 folds of 246 samples\n",
    "    2. 50% train (123 samples each fold)\n",
    "    3. 50% test (123 samples each fold)\n",
    "<b>Total:</b> 5 models<br>"
   ]
  },
  {
   "cell_type": "code",
   "execution_count": 48,
   "id": "473be546",
   "metadata": {},
   "outputs": [
    {
     "name": "stdout",
     "output_type": "stream",
     "text": [
      "Blocking Time Series Split:\n",
      "Repeats: 3\n",
      "n_splits: 5\n",
      "\n"
     ]
    },
    {
     "name": "stderr",
     "output_type": "stream",
     "text": [
      "2024-10-30 22:41:29.245876: I tensorflow/core/util/port.cc:110] oneDNN custom operations are on. You may see slightly different numerical results due to floating-point round-off errors from different computation orders. To turn them off, set the environment variable `TF_ENABLE_ONEDNN_OPTS=0`.\n",
      "2024-10-30 22:41:29.249146: I tensorflow/tsl/cuda/cudart_stub.cc:28] Could not find cuda drivers on your machine, GPU will not be used.\n",
      "2024-10-30 22:41:29.264323: I tensorflow/core/util/port.cc:110] oneDNN custom operations are on. You may see slightly different numerical results due to floating-point round-off errors from different computation orders. To turn them off, set the environment variable `TF_ENABLE_ONEDNN_OPTS=0`.\n",
      "2024-10-30 22:41:29.267525: I tensorflow/tsl/cuda/cudart_stub.cc:28] Could not find cuda drivers on your machine, GPU will not be used.\n",
      "2024-10-30 22:41:29.271678: I tensorflow/core/util/port.cc:110] oneDNN custom operations are on. You may see slightly different numerical results due to floating-point round-off errors from different computation orders. To turn them off, set the environment variable `TF_ENABLE_ONEDNN_OPTS=0`.\n",
      "2024-10-30 22:41:29.274498: I tensorflow/tsl/cuda/cudart_stub.cc:28] Could not find cuda drivers on your machine, GPU will not be used.\n",
      "2024-10-30 22:41:29.292493: I tensorflow/core/util/port.cc:110] oneDNN custom operations are on. You may see slightly different numerical results due to floating-point round-off errors from different computation orders. To turn them off, set the environment variable `TF_ENABLE_ONEDNN_OPTS=0`.\n",
      "2024-10-30 22:41:29.295491: I tensorflow/tsl/cuda/cudart_stub.cc:28] Could not find cuda drivers on your machine, GPU will not be used.\n",
      "2024-10-30 22:41:29.327715: I tensorflow/tsl/cuda/cudart_stub.cc:28] Could not find cuda drivers on your machine, GPU will not be used.\n",
      "2024-10-30 22:41:29.328474: I tensorflow/core/platform/cpu_feature_guard.cc:182] This TensorFlow binary is optimized to use available CPU instructions in performance-critical operations.\n",
      "To enable the following instructions: AVX2 AVX512F AVX512_VNNI FMA, in other operations, rebuild TensorFlow with the appropriate compiler flags.\n",
      "2024-10-30 22:41:29.343291: I tensorflow/tsl/cuda/cudart_stub.cc:28] Could not find cuda drivers on your machine, GPU will not be used.\n",
      "2024-10-30 22:41:29.344166: I tensorflow/core/platform/cpu_feature_guard.cc:182] This TensorFlow binary is optimized to use available CPU instructions in performance-critical operations.\n",
      "To enable the following instructions: AVX2 AVX512F AVX512_VNNI FMA, in other operations, rebuild TensorFlow with the appropriate compiler flags.\n",
      "2024-10-30 22:41:29.352079: I tensorflow/tsl/cuda/cudart_stub.cc:28] Could not find cuda drivers on your machine, GPU will not be used.\n",
      "2024-10-30 22:41:29.352899: I tensorflow/core/platform/cpu_feature_guard.cc:182] This TensorFlow binary is optimized to use available CPU instructions in performance-critical operations.\n",
      "To enable the following instructions: AVX2 AVX512F AVX512_VNNI FMA, in other operations, rebuild TensorFlow with the appropriate compiler flags.\n",
      "2024-10-30 22:41:29.369668: I tensorflow/core/util/port.cc:110] oneDNN custom operations are on. You may see slightly different numerical results due to floating-point round-off errors from different computation orders. To turn them off, set the environment variable `TF_ENABLE_ONEDNN_OPTS=0`.\n",
      "2024-10-30 22:41:29.369720: I tensorflow/tsl/cuda/cudart_stub.cc:28] Could not find cuda drivers on your machine, GPU will not be used.\n",
      "2024-10-30 22:41:29.370381: I tensorflow/core/platform/cpu_feature_guard.cc:182] This TensorFlow binary is optimized to use available CPU instructions in performance-critical operations.\n",
      "To enable the following instructions: AVX2 AVX512F AVX512_VNNI FMA, in other operations, rebuild TensorFlow with the appropriate compiler flags.\n",
      "2024-10-30 22:41:29.372737: I tensorflow/tsl/cuda/cudart_stub.cc:28] Could not find cuda drivers on your machine, GPU will not be used.\n",
      "2024-10-30 22:41:29.448419: I tensorflow/tsl/cuda/cudart_stub.cc:28] Could not find cuda drivers on your machine, GPU will not be used.\n",
      "2024-10-30 22:41:29.449419: I tensorflow/core/platform/cpu_feature_guard.cc:182] This TensorFlow binary is optimized to use available CPU instructions in performance-critical operations.\n",
      "To enable the following instructions: AVX2 AVX512F AVX512_VNNI FMA, in other operations, rebuild TensorFlow with the appropriate compiler flags.\n",
      "2024-10-30 22:41:30.643430: W tensorflow/compiler/tf2tensorrt/utils/py_utils.cc:38] TF-TRT Warning: Could not find TensorRT\n",
      "2024-10-30 22:41:30.666390: W tensorflow/compiler/tf2tensorrt/utils/py_utils.cc:38] TF-TRT Warning: Could not find TensorRT\n",
      "2024-10-30 22:41:30.672736: W tensorflow/compiler/tf2tensorrt/utils/py_utils.cc:38] TF-TRT Warning: Could not find TensorRT\n",
      "2024-10-30 22:41:30.673591: W tensorflow/compiler/tf2tensorrt/utils/py_utils.cc:38] TF-TRT Warning: Could not find TensorRT\n",
      "2024-10-30 22:41:30.748658: W tensorflow/compiler/tf2tensorrt/utils/py_utils.cc:38] TF-TRT Warning: Could not find TensorRT\n",
      "2024-10-30 22:41:32.311190: W tensorflow/core/common_runtime/gpu/gpu_device.cc:1960] Cannot dlopen some GPU libraries. Please make sure the missing libraries mentioned above are installed properly if you would like to use GPU. Follow the guide at https://www.tensorflow.org/install/gpu for how to download and setup the required libraries for your platform.\n",
      "Skipping registering GPU devices...\n",
      "2024-10-30 22:41:32.440504: W tensorflow/core/common_runtime/gpu/gpu_device.cc:1960] Cannot dlopen some GPU libraries. Please make sure the missing libraries mentioned above are installed properly if you would like to use GPU. Follow the guide at https://www.tensorflow.org/install/gpu for how to download and setup the required libraries for your platform.\n",
      "Skipping registering GPU devices...\n",
      "2024-10-30 22:41:32.460494: W tensorflow/core/common_runtime/gpu/gpu_device.cc:1960] Cannot dlopen some GPU libraries. Please make sure the missing libraries mentioned above are installed properly if you would like to use GPU. Follow the guide at https://www.tensorflow.org/install/gpu for how to download and setup the required libraries for your platform.\n",
      "Skipping registering GPU devices...\n",
      "2024-10-30 22:41:32.498797: W tensorflow/core/common_runtime/gpu/gpu_device.cc:1960] Cannot dlopen some GPU libraries. Please make sure the missing libraries mentioned above are installed properly if you would like to use GPU. Follow the guide at https://www.tensorflow.org/install/gpu for how to download and setup the required libraries for your platform.\n",
      "Skipping registering GPU devices...\n",
      "2024-10-30 22:41:32.528005: W tensorflow/core/common_runtime/gpu/gpu_device.cc:1960] Cannot dlopen some GPU libraries. Please make sure the missing libraries mentioned above are installed properly if you would like to use GPU. Follow the guide at https://www.tensorflow.org/install/gpu for how to download and setup the required libraries for your platform.\n",
      "Skipping registering GPU devices...\n",
      "2024-10-30 22:42:17.810981: I tensorflow/core/util/port.cc:110] oneDNN custom operations are on. You may see slightly different numerical results due to floating-point round-off errors from different computation orders. To turn them off, set the environment variable `TF_ENABLE_ONEDNN_OPTS=0`.\n",
      "2024-10-30 22:42:17.813036: I tensorflow/tsl/cuda/cudart_stub.cc:28] Could not find cuda drivers on your machine, GPU will not be used.\n",
      "2024-10-30 22:42:17.849238: I tensorflow/core/util/port.cc:110] oneDNN custom operations are on. You may see slightly different numerical results due to floating-point round-off errors from different computation orders. To turn them off, set the environment variable `TF_ENABLE_ONEDNN_OPTS=0`.\n",
      "2024-10-30 22:42:17.849661: I tensorflow/core/util/port.cc:110] oneDNN custom operations are on. You may see slightly different numerical results due to floating-point round-off errors from different computation orders. To turn them off, set the environment variable `TF_ENABLE_ONEDNN_OPTS=0`.\n",
      "2024-10-30 22:42:17.851355: I tensorflow/tsl/cuda/cudart_stub.cc:28] Could not find cuda drivers on your machine, GPU will not be used.\n",
      "2024-10-30 22:42:17.851789: I tensorflow/tsl/cuda/cudart_stub.cc:28] Could not find cuda drivers on your machine, GPU will not be used.\n",
      "2024-10-30 22:42:17.858720: I tensorflow/tsl/cuda/cudart_stub.cc:28] Could not find cuda drivers on your machine, GPU will not be used.\n",
      "2024-10-30 22:42:17.859237: I tensorflow/core/platform/cpu_feature_guard.cc:182] This TensorFlow binary is optimized to use available CPU instructions in performance-critical operations.\n",
      "To enable the following instructions: AVX2 AVX512F AVX512_VNNI FMA, in other operations, rebuild TensorFlow with the appropriate compiler flags.\n",
      "2024-10-30 22:42:17.882580: I tensorflow/core/util/port.cc:110] oneDNN custom operations are on. You may see slightly different numerical results due to floating-point round-off errors from different computation orders. To turn them off, set the environment variable `TF_ENABLE_ONEDNN_OPTS=0`.\n",
      "2024-10-30 22:42:17.884725: I tensorflow/tsl/cuda/cudart_stub.cc:28] Could not find cuda drivers on your machine, GPU will not be used.\n",
      "2024-10-30 22:42:17.896542: I tensorflow/tsl/cuda/cudart_stub.cc:28] Could not find cuda drivers on your machine, GPU will not be used.\n",
      "2024-10-30 22:42:17.897049: I tensorflow/core/platform/cpu_feature_guard.cc:182] This TensorFlow binary is optimized to use available CPU instructions in performance-critical operations.\n",
      "To enable the following instructions: AVX2 AVX512F AVX512_VNNI FMA, in other operations, rebuild TensorFlow with the appropriate compiler flags.\n",
      "2024-10-30 22:42:17.897947: I tensorflow/tsl/cuda/cudart_stub.cc:28] Could not find cuda drivers on your machine, GPU will not be used.\n",
      "2024-10-30 22:42:17.898496: I tensorflow/core/platform/cpu_feature_guard.cc:182] This TensorFlow binary is optimized to use available CPU instructions in performance-critical operations.\n",
      "To enable the following instructions: AVX2 AVX512F AVX512_VNNI FMA, in other operations, rebuild TensorFlow with the appropriate compiler flags.\n",
      "2024-10-30 22:42:17.912265: I tensorflow/core/util/port.cc:110] oneDNN custom operations are on. You may see slightly different numerical results due to floating-point round-off errors from different computation orders. To turn them off, set the environment variable `TF_ENABLE_ONEDNN_OPTS=0`.\n",
      "2024-10-30 22:42:17.914345: I tensorflow/tsl/cuda/cudart_stub.cc:28] Could not find cuda drivers on your machine, GPU will not be used.\n",
      "2024-10-30 22:42:17.931479: I tensorflow/tsl/cuda/cudart_stub.cc:28] Could not find cuda drivers on your machine, GPU will not be used.\n",
      "2024-10-30 22:42:17.931968: I tensorflow/core/platform/cpu_feature_guard.cc:182] This TensorFlow binary is optimized to use available CPU instructions in performance-critical operations.\n",
      "To enable the following instructions: AVX2 AVX512F AVX512_VNNI FMA, in other operations, rebuild TensorFlow with the appropriate compiler flags.\n",
      "2024-10-30 22:42:17.962197: I tensorflow/tsl/cuda/cudart_stub.cc:28] Could not find cuda drivers on your machine, GPU will not be used.\n",
      "2024-10-30 22:42:17.962718: I tensorflow/core/platform/cpu_feature_guard.cc:182] This TensorFlow binary is optimized to use available CPU instructions in performance-critical operations.\n",
      "To enable the following instructions: AVX2 AVX512F AVX512_VNNI FMA, in other operations, rebuild TensorFlow with the appropriate compiler flags.\n"
     ]
    },
    {
     "name": "stderr",
     "output_type": "stream",
     "text": [
      "2024-10-30 22:42:18.644366: W tensorflow/compiler/tf2tensorrt/utils/py_utils.cc:38] TF-TRT Warning: Could not find TensorRT\n",
      "2024-10-30 22:42:18.678672: W tensorflow/compiler/tf2tensorrt/utils/py_utils.cc:38] TF-TRT Warning: Could not find TensorRT\n",
      "2024-10-30 22:42:18.711449: W tensorflow/compiler/tf2tensorrt/utils/py_utils.cc:38] TF-TRT Warning: Could not find TensorRT\n",
      "2024-10-30 22:42:18.716276: W tensorflow/compiler/tf2tensorrt/utils/py_utils.cc:38] TF-TRT Warning: Could not find TensorRT\n",
      "2024-10-30 22:42:18.773648: W tensorflow/compiler/tf2tensorrt/utils/py_utils.cc:38] TF-TRT Warning: Could not find TensorRT\n",
      "2024-10-30 22:42:19.775562: W tensorflow/core/common_runtime/gpu/gpu_device.cc:1960] Cannot dlopen some GPU libraries. Please make sure the missing libraries mentioned above are installed properly if you would like to use GPU. Follow the guide at https://www.tensorflow.org/install/gpu for how to download and setup the required libraries for your platform.\n",
      "Skipping registering GPU devices...\n",
      "2024-10-30 22:42:19.795831: W tensorflow/core/common_runtime/gpu/gpu_device.cc:1960] Cannot dlopen some GPU libraries. Please make sure the missing libraries mentioned above are installed properly if you would like to use GPU. Follow the guide at https://www.tensorflow.org/install/gpu for how to download and setup the required libraries for your platform.\n",
      "Skipping registering GPU devices...\n",
      "2024-10-30 22:42:19.798418: W tensorflow/core/common_runtime/gpu/gpu_device.cc:1960] Cannot dlopen some GPU libraries. Please make sure the missing libraries mentioned above are installed properly if you would like to use GPU. Follow the guide at https://www.tensorflow.org/install/gpu for how to download and setup the required libraries for your platform.\n",
      "Skipping registering GPU devices...\n",
      "2024-10-30 22:42:19.835521: W tensorflow/core/common_runtime/gpu/gpu_device.cc:1960] Cannot dlopen some GPU libraries. Please make sure the missing libraries mentioned above are installed properly if you would like to use GPU. Follow the guide at https://www.tensorflow.org/install/gpu for how to download and setup the required libraries for your platform.\n",
      "Skipping registering GPU devices...\n",
      "2024-10-30 22:42:19.890756: W tensorflow/core/common_runtime/gpu/gpu_device.cc:1960] Cannot dlopen some GPU libraries. Please make sure the missing libraries mentioned above are installed properly if you would like to use GPU. Follow the guide at https://www.tensorflow.org/install/gpu for how to download and setup the required libraries for your platform.\n",
      "Skipping registering GPU devices...\n",
      "2024-10-30 22:43:07.621075: I tensorflow/core/util/port.cc:110] oneDNN custom operations are on. You may see slightly different numerical results due to floating-point round-off errors from different computation orders. To turn them off, set the environment variable `TF_ENABLE_ONEDNN_OPTS=0`.\n",
      "2024-10-30 22:43:07.621281: I tensorflow/core/util/port.cc:110] oneDNN custom operations are on. You may see slightly different numerical results due to floating-point round-off errors from different computation orders. To turn them off, set the environment variable `TF_ENABLE_ONEDNN_OPTS=0`.\n",
      "2024-10-30 22:43:07.621295: I tensorflow/core/util/port.cc:110] oneDNN custom operations are on. You may see slightly different numerical results due to floating-point round-off errors from different computation orders. To turn them off, set the environment variable `TF_ENABLE_ONEDNN_OPTS=0`.\n",
      "2024-10-30 22:43:07.623768: I tensorflow/core/util/port.cc:110] oneDNN custom operations are on. You may see slightly different numerical results due to floating-point round-off errors from different computation orders. To turn them off, set the environment variable `TF_ENABLE_ONEDNN_OPTS=0`.\n",
      "2024-10-30 22:43:07.624393: I tensorflow/tsl/cuda/cudart_stub.cc:28] Could not find cuda drivers on your machine, GPU will not be used.\n",
      "2024-10-30 22:43:07.624493: I tensorflow/tsl/cuda/cudart_stub.cc:28] Could not find cuda drivers on your machine, GPU will not be used.\n",
      "2024-10-30 22:43:07.624729: I tensorflow/tsl/cuda/cudart_stub.cc:28] Could not find cuda drivers on your machine, GPU will not be used.\n",
      "2024-10-30 22:43:07.626552: I tensorflow/tsl/cuda/cudart_stub.cc:28] Could not find cuda drivers on your machine, GPU will not be used.\n",
      "2024-10-30 22:43:07.647786: I tensorflow/core/util/port.cc:110] oneDNN custom operations are on. You may see slightly different numerical results due to floating-point round-off errors from different computation orders. To turn them off, set the environment variable `TF_ENABLE_ONEDNN_OPTS=0`.\n",
      "2024-10-30 22:43:07.650972: I tensorflow/tsl/cuda/cudart_stub.cc:28] Could not find cuda drivers on your machine, GPU will not be used.\n",
      "2024-10-30 22:43:07.698436: I tensorflow/tsl/cuda/cudart_stub.cc:28] Could not find cuda drivers on your machine, GPU will not be used.\n",
      "2024-10-30 22:43:07.699324: I tensorflow/core/platform/cpu_feature_guard.cc:182] This TensorFlow binary is optimized to use available CPU instructions in performance-critical operations.\n",
      "To enable the following instructions: AVX2 AVX512F AVX512_VNNI FMA, in other operations, rebuild TensorFlow with the appropriate compiler flags.\n",
      "2024-10-30 22:43:07.699624: I tensorflow/tsl/cuda/cudart_stub.cc:28] Could not find cuda drivers on your machine, GPU will not be used.\n",
      "2024-10-30 22:43:07.700407: I tensorflow/core/platform/cpu_feature_guard.cc:182] This TensorFlow binary is optimized to use available CPU instructions in performance-critical operations.\n",
      "To enable the following instructions: AVX2 AVX512F AVX512_VNNI FMA, in other operations, rebuild TensorFlow with the appropriate compiler flags.\n",
      "2024-10-30 22:43:07.704936: I tensorflow/tsl/cuda/cudart_stub.cc:28] Could not find cuda drivers on your machine, GPU will not be used.\n",
      "2024-10-30 22:43:07.705634: I tensorflow/core/platform/cpu_feature_guard.cc:182] This TensorFlow binary is optimized to use available CPU instructions in performance-critical operations.\n",
      "To enable the following instructions: AVX2 AVX512F AVX512_VNNI FMA, in other operations, rebuild TensorFlow with the appropriate compiler flags.\n",
      "2024-10-30 22:43:07.709831: I tensorflow/tsl/cuda/cudart_stub.cc:28] Could not find cuda drivers on your machine, GPU will not be used.\n",
      "2024-10-30 22:43:07.710545: I tensorflow/core/platform/cpu_feature_guard.cc:182] This TensorFlow binary is optimized to use available CPU instructions in performance-critical operations.\n",
      "To enable the following instructions: AVX2 AVX512F AVX512_VNNI FMA, in other operations, rebuild TensorFlow with the appropriate compiler flags.\n",
      "2024-10-30 22:43:07.732591: I tensorflow/tsl/cuda/cudart_stub.cc:28] Could not find cuda drivers on your machine, GPU will not be used.\n",
      "2024-10-30 22:43:07.733255: I tensorflow/core/platform/cpu_feature_guard.cc:182] This TensorFlow binary is optimized to use available CPU instructions in performance-critical operations.\n",
      "To enable the following instructions: AVX2 AVX512F AVX512_VNNI FMA, in other operations, rebuild TensorFlow with the appropriate compiler flags.\n",
      "2024-10-30 22:43:08.946598: W tensorflow/compiler/tf2tensorrt/utils/py_utils.cc:38] TF-TRT Warning: Could not find TensorRT\n",
      "2024-10-30 22:43:08.967821: W tensorflow/compiler/tf2tensorrt/utils/py_utils.cc:38] TF-TRT Warning: Could not find TensorRT\n",
      "2024-10-30 22:43:09.005285: W tensorflow/compiler/tf2tensorrt/utils/py_utils.cc:38] TF-TRT Warning: Could not find TensorRT\n",
      "2024-10-30 22:43:09.008907: W tensorflow/compiler/tf2tensorrt/utils/py_utils.cc:38] TF-TRT Warning: Could not find TensorRT\n",
      "2024-10-30 22:43:09.027928: W tensorflow/compiler/tf2tensorrt/utils/py_utils.cc:38] TF-TRT Warning: Could not find TensorRT\n",
      "2024-10-30 22:43:10.612140: W tensorflow/core/common_runtime/gpu/gpu_device.cc:1960] Cannot dlopen some GPU libraries. Please make sure the missing libraries mentioned above are installed properly if you would like to use GPU. Follow the guide at https://www.tensorflow.org/install/gpu for how to download and setup the required libraries for your platform.\n",
      "Skipping registering GPU devices...\n",
      "2024-10-30 22:43:10.615196: W tensorflow/core/common_runtime/gpu/gpu_device.cc:1960] Cannot dlopen some GPU libraries. Please make sure the missing libraries mentioned above are installed properly if you would like to use GPU. Follow the guide at https://www.tensorflow.org/install/gpu for how to download and setup the required libraries for your platform.\n",
      "Skipping registering GPU devices...\n",
      "2024-10-30 22:43:10.691557: W tensorflow/core/common_runtime/gpu/gpu_device.cc:1960] Cannot dlopen some GPU libraries. Please make sure the missing libraries mentioned above are installed properly if you would like to use GPU. Follow the guide at https://www.tensorflow.org/install/gpu for how to download and setup the required libraries for your platform.\n",
      "Skipping registering GPU devices...\n"
     ]
    },
    {
     "name": "stderr",
     "output_type": "stream",
     "text": [
      "2024-10-30 22:43:10.886545: W tensorflow/core/common_runtime/gpu/gpu_device.cc:1960] Cannot dlopen some GPU libraries. Please make sure the missing libraries mentioned above are installed properly if you would like to use GPU. Follow the guide at https://www.tensorflow.org/install/gpu for how to download and setup the required libraries for your platform.\n",
      "Skipping registering GPU devices...\n",
      "2024-10-30 22:43:10.896014: W tensorflow/core/common_runtime/gpu/gpu_device.cc:1960] Cannot dlopen some GPU libraries. Please make sure the missing libraries mentioned above are installed properly if you would like to use GPU. Follow the guide at https://www.tensorflow.org/install/gpu for how to download and setup the required libraries for your platform.\n",
      "Skipping registering GPU devices...\n"
     ]
    },
    {
     "name": "stdout",
     "output_type": "stream",
     "text": [
      "TIMESTEPS: 1 \n",
      "******\n",
      "[TRAIN]\n",
      "******\n",
      "RMSE: 1.015 (0.112)\n",
      "MAE: 0.765 (0.080)\n",
      "MAPE: 0.018 (0.002)\n",
      "R2: 0.970 (0.007)\n",
      "\n",
      "======================\n",
      "\n",
      "******\n",
      "[TEST]\n",
      "******\n",
      "RMSE: 1.680 (0.632)\n",
      "MAE: 1.119 (0.321)\n",
      "MAPE: 0.026 (0.007)\n",
      "R2: 0.910 (0.062)\n",
      "\n",
      "======================\n",
      "\n",
      "Minutes Elapsed:  2.5242286403973897\n"
     ]
    },
    {
     "data": {
      "application/javascript": [
       "\n",
       "            setTimeout(function() {\n",
       "                var nbb_cell_id = 48;\n",
       "                var nbb_unformatted_code = \"start = time.time()\\n\\nrepeats = 3\\nn_splits = 5\\ntrain_size = 0.8\\nTIMESTEPS_LIST = [1]\\nREPEAT = 0\\nfilenames_lists = {}\\nprint(\\\"Blocking Time Series Split:\\\")\\nprint(f\\\"Repeats: {repeats}\\\")\\nprint(f\\\"n_splits: {n_splits}\\\")\\nprint()\\n\\nfor timesteps in TIMESTEPS_LIST:\\n    set_seeds()\\n    scores_final = None\\n\\n    params[\\\"timesteps\\\"] = timesteps\\n\\n    for repeat in range(repeats):\\n        REPEAT = repeat\\n        x = df_copy.drop([\\\"Date\\\", \\\"CS28\\\"] + CEMENT_TYPES, axis=1)\\n        y = df_copy[\\\"CS28\\\"]\\n        params[\\\"num_features\\\"] = x.shape[-1]\\n\\n        cv = BlockingTimeSeriesSplit(n_splits=n_splits, train_size=train_size)\\n\\n        filenames_list, scores = custom_cross_validate_parallelized(\\n            TransformerWrapper,\\n            SimpleImputer,\\n            StandardScaler,\\n            x,\\n            y,\\n            cv,\\n            timesteps,\\n            dates=dates,\\n            cement_types=df_copy[CEMENT_TYPES],\\n            estimator_params={\\\"params\\\": params},\\n            imputer_params={\\\"strategy\\\": \\\"median\\\"},\\n            split_by_cement_type=True,\\n            REPEAT=REPEAT,\\n        )\\n        filenames_lists[repeat] = filenames_list\\n        scores = scores[0]\\n        if scores_final is None:\\n            scores_final = {key: [] for key, _ in scores.items()}\\n\\n        for key, value in scores.items():\\n            scores_final[key] += [value]\\n\\n    print(\\\"TIMESTEPS: %d \\\" % timesteps)\\n    print_scores(scores_final, METRICS, METRICS_DICT)\\n\\n    # Saving the results\\n    scores = {key: np.array(val).flatten() for key, val in scores_final.items()}\\n    results_dict_copy = results_dict.copy()\\n    results_dict_copy[\\\"Timesteps\\\"] = timesteps\\n    results_dict_copy[\\\"Cross Validation\\\"] = \\\"Blocking Time Series Split\\\"\\n    results_dict_copy[\\n        \\\"Cross Validation Params\\\"\\n    ] = '{\\\"N_Splits\\\": 5, \\\"Repeats\\\": 3, \\\"train_size\\\": 0.8}'\\n    results_dict_copy[\\\"Data Shape\\\"] = x.shape\\n    df_results = fill_results_dict(results_dict_copy, scores)\\n    results_to_save.append(df_results)\\n\\nend = time.time()\\nprint(\\\"Minutes Elapsed: \\\", (end - start) / 60)\";\n",
       "                var nbb_formatted_code = \"start = time.time()\\n\\nrepeats = 3\\nn_splits = 5\\ntrain_size = 0.8\\nTIMESTEPS_LIST = [1]\\nREPEAT = 0\\nfilenames_lists = {}\\nprint(\\\"Blocking Time Series Split:\\\")\\nprint(f\\\"Repeats: {repeats}\\\")\\nprint(f\\\"n_splits: {n_splits}\\\")\\nprint()\\n\\nfor timesteps in TIMESTEPS_LIST:\\n    set_seeds()\\n    scores_final = None\\n\\n    params[\\\"timesteps\\\"] = timesteps\\n\\n    for repeat in range(repeats):\\n        REPEAT = repeat\\n        x = df_copy.drop([\\\"Date\\\", \\\"CS28\\\"] + CEMENT_TYPES, axis=1)\\n        y = df_copy[\\\"CS28\\\"]\\n        params[\\\"num_features\\\"] = x.shape[-1]\\n\\n        cv = BlockingTimeSeriesSplit(n_splits=n_splits, train_size=train_size)\\n\\n        filenames_list, scores = custom_cross_validate_parallelized(\\n            TransformerWrapper,\\n            SimpleImputer,\\n            StandardScaler,\\n            x,\\n            y,\\n            cv,\\n            timesteps,\\n            dates=dates,\\n            cement_types=df_copy[CEMENT_TYPES],\\n            estimator_params={\\\"params\\\": params},\\n            imputer_params={\\\"strategy\\\": \\\"median\\\"},\\n            split_by_cement_type=True,\\n            REPEAT=REPEAT,\\n        )\\n        filenames_lists[repeat] = filenames_list\\n        scores = scores[0]\\n        if scores_final is None:\\n            scores_final = {key: [] for key, _ in scores.items()}\\n\\n        for key, value in scores.items():\\n            scores_final[key] += [value]\\n\\n    print(\\\"TIMESTEPS: %d \\\" % timesteps)\\n    print_scores(scores_final, METRICS, METRICS_DICT)\\n\\n    # Saving the results\\n    scores = {key: np.array(val).flatten() for key, val in scores_final.items()}\\n    results_dict_copy = results_dict.copy()\\n    results_dict_copy[\\\"Timesteps\\\"] = timesteps\\n    results_dict_copy[\\\"Cross Validation\\\"] = \\\"Blocking Time Series Split\\\"\\n    results_dict_copy[\\n        \\\"Cross Validation Params\\\"\\n    ] = '{\\\"N_Splits\\\": 5, \\\"Repeats\\\": 3, \\\"train_size\\\": 0.8}'\\n    results_dict_copy[\\\"Data Shape\\\"] = x.shape\\n    df_results = fill_results_dict(results_dict_copy, scores)\\n    results_to_save.append(df_results)\\n\\nend = time.time()\\nprint(\\\"Minutes Elapsed: \\\", (end - start) / 60)\";\n",
       "                var nbb_cells = Jupyter.notebook.get_cells();\n",
       "                for (var i = 0; i < nbb_cells.length; ++i) {\n",
       "                    if (nbb_cells[i].input_prompt_number == nbb_cell_id) {\n",
       "                        if (nbb_cells[i].get_text() == nbb_unformatted_code) {\n",
       "                             nbb_cells[i].set_text(nbb_formatted_code);\n",
       "                        }\n",
       "                        break;\n",
       "                    }\n",
       "                }\n",
       "            }, 500);\n",
       "            "
      ],
      "text/plain": [
       "<IPython.core.display.Javascript object>"
      ]
     },
     "metadata": {},
     "output_type": "display_data"
    }
   ],
   "source": [
    "start = time.time()\n",
    "\n",
    "repeats = 3\n",
    "n_splits = 5\n",
    "train_size = 0.8\n",
    "TIMESTEPS_LIST = [1]\n",
    "REPEAT = 0\n",
    "filenames_lists = {}\n",
    "print(\"Blocking Time Series Split:\")\n",
    "print(f\"Repeats: {repeats}\")\n",
    "print(f\"n_splits: {n_splits}\")\n",
    "print()\n",
    "\n",
    "for timesteps in TIMESTEPS_LIST:\n",
    "    set_seeds()\n",
    "    scores_final = None\n",
    "\n",
    "    params[\"timesteps\"] = timesteps\n",
    "\n",
    "    for repeat in range(repeats):\n",
    "        REPEAT = repeat\n",
    "        x = df_copy.drop([\"Date\", \"CS28\"] + CEMENT_TYPES, axis=1)\n",
    "        y = df_copy[\"CS28\"]\n",
    "        params[\"num_features\"] = x.shape[-1]\n",
    "\n",
    "        cv = BlockingTimeSeriesSplit(n_splits=n_splits, train_size=train_size)\n",
    "\n",
    "        filenames_list, scores = custom_cross_validate_parallelized(\n",
    "            TransformerWrapper,\n",
    "            SimpleImputer,\n",
    "            StandardScaler,\n",
    "            x,\n",
    "            y,\n",
    "            cv,\n",
    "            timesteps,\n",
    "            dates=dates,\n",
    "            cement_types=df_copy[CEMENT_TYPES],\n",
    "            estimator_params={\"params\": params},\n",
    "            imputer_params={\"strategy\": \"median\"},\n",
    "            split_by_cement_type=True,\n",
    "            REPEAT=REPEAT,\n",
    "        )\n",
    "        filenames_lists[repeat] = filenames_list\n",
    "        scores = scores[0]\n",
    "        if scores_final is None:\n",
    "            scores_final = {key: [] for key, _ in scores.items()}\n",
    "\n",
    "        for key, value in scores.items():\n",
    "            scores_final[key] += [value]\n",
    "\n",
    "    print(\"TIMESTEPS: %d \" % timesteps)\n",
    "    print_scores(scores_final, METRICS, METRICS_DICT)\n",
    "\n",
    "    # Saving the results\n",
    "    scores = {key: np.array(val).flatten() for key, val in scores_final.items()}\n",
    "    results_dict_copy = results_dict.copy()\n",
    "    results_dict_copy[\"Timesteps\"] = timesteps\n",
    "    results_dict_copy[\"Cross Validation\"] = \"Blocking Time Series Split\"\n",
    "    results_dict_copy[\n",
    "        \"Cross Validation Params\"\n",
    "    ] = '{\"N_Splits\": 5, \"Repeats\": 3, \"train_size\": 0.8}'\n",
    "    results_dict_copy[\"Data Shape\"] = x.shape\n",
    "    df_results = fill_results_dict(results_dict_copy, scores)\n",
    "    results_to_save.append(df_results)\n",
    "\n",
    "end = time.time()\n",
    "print(\"Minutes Elapsed: \", (end - start) / 60)"
   ]
  },
  {
   "cell_type": "markdown",
   "id": "a3f4ad0e",
   "metadata": {},
   "source": [
    "## Plotting the Predictions"
   ]
  },
  {
   "cell_type": "code",
   "execution_count": 51,
   "id": "3f45b891",
   "metadata": {},
   "outputs": [
    {
     "name": "stderr",
     "output_type": "stream",
     "text": [
      "2024-10-30 22:46:53.642169: W tensorflow/core/common_runtime/gpu/gpu_device.cc:1960] Cannot dlopen some GPU libraries. Please make sure the missing libraries mentioned above are installed properly if you would like to use GPU. Follow the guide at https://www.tensorflow.org/install/gpu for how to download and setup the required libraries for your platform.\n",
      "Skipping registering GPU devices...\n"
     ]
    },
    {
     "data": {
      "application/javascript": [
       "\n",
       "            setTimeout(function() {\n",
       "                var nbb_cell_id = 51;\n",
       "                var nbb_unformatted_code = \"from tensorflow.keras.models import load_model\\n\\npipelines_final = []\\n\\nfor repeat in range(repeats):\\n    for fold in range(n_splits):\\n        imputer_filename = filenames_lists[repeat][fold][\\\"imputer\\\"]\\n        scaler_filename = filenames_lists[repeat][fold][\\\"scaler\\\"]\\n        model_filename = filenames_lists[repeat][fold][\\\"model\\\"]\\n\\n        # Load the imputer\\n        imputer = joblib.load(imputer_filename)\\n        # Load the scaler\\n        scaler = joblib.load(scaler_filename)\\n        # Load the Keras model\\n        estimator = load_model(model_filename)\\n\\n        pipelines_final.append((imputer, scaler, estimator))\";\n",
       "                var nbb_formatted_code = \"from tensorflow.keras.models import load_model\\n\\npipelines_final = []\\n\\nfor repeat in range(repeats):\\n    for fold in range(n_splits):\\n        imputer_filename = filenames_lists[repeat][fold][\\\"imputer\\\"]\\n        scaler_filename = filenames_lists[repeat][fold][\\\"scaler\\\"]\\n        model_filename = filenames_lists[repeat][fold][\\\"model\\\"]\\n\\n        # Load the imputer\\n        imputer = joblib.load(imputer_filename)\\n        # Load the scaler\\n        scaler = joblib.load(scaler_filename)\\n        # Load the Keras model\\n        estimator = load_model(model_filename)\\n\\n        pipelines_final.append((imputer, scaler, estimator))\";\n",
       "                var nbb_cells = Jupyter.notebook.get_cells();\n",
       "                for (var i = 0; i < nbb_cells.length; ++i) {\n",
       "                    if (nbb_cells[i].input_prompt_number == nbb_cell_id) {\n",
       "                        if (nbb_cells[i].get_text() == nbb_unformatted_code) {\n",
       "                             nbb_cells[i].set_text(nbb_formatted_code);\n",
       "                        }\n",
       "                        break;\n",
       "                    }\n",
       "                }\n",
       "            }, 500);\n",
       "            "
      ],
      "text/plain": [
       "<IPython.core.display.Javascript object>"
      ]
     },
     "metadata": {},
     "output_type": "display_data"
    }
   ],
   "source": [
    "from tensorflow.keras.models import load_model\n",
    "\n",
    "pipelines_final = []\n",
    "\n",
    "for repeat in range(repeats):\n",
    "    for fold in range(n_splits):\n",
    "        imputer_filename = filenames_lists[repeat][fold][\"imputer\"]\n",
    "        scaler_filename = filenames_lists[repeat][fold][\"scaler\"]\n",
    "        model_filename = filenames_lists[repeat][fold][\"model\"]\n",
    "\n",
    "        # Load the imputer\n",
    "        imputer = joblib.load(imputer_filename)\n",
    "        # Load the scaler\n",
    "        scaler = joblib.load(scaler_filename)\n",
    "        # Load the Keras model\n",
    "        estimator = load_model(model_filename)\n",
    "\n",
    "        pipelines_final.append((imputer, scaler, estimator))"
   ]
  },
  {
   "cell_type": "code",
   "execution_count": 52,
   "id": "576a8fc8",
   "metadata": {},
   "outputs": [
    {
     "data": {
      "application/javascript": [
       "\n",
       "            setTimeout(function() {\n",
       "                var nbb_cell_id = 52;\n",
       "                var nbb_unformatted_code = \"indices_final = {\\\"train\\\": [], \\\"test\\\": []}\\n\\nfor repeat in range(repeats):\\n    for train, test in cv.split(x):\\n        indices_final[\\\"train\\\"].extend([train])\\n        indices_final[\\\"test\\\"].extend([test])\";\n",
       "                var nbb_formatted_code = \"indices_final = {\\\"train\\\": [], \\\"test\\\": []}\\n\\nfor repeat in range(repeats):\\n    for train, test in cv.split(x):\\n        indices_final[\\\"train\\\"].extend([train])\\n        indices_final[\\\"test\\\"].extend([test])\";\n",
       "                var nbb_cells = Jupyter.notebook.get_cells();\n",
       "                for (var i = 0; i < nbb_cells.length; ++i) {\n",
       "                    if (nbb_cells[i].input_prompt_number == nbb_cell_id) {\n",
       "                        if (nbb_cells[i].get_text() == nbb_unformatted_code) {\n",
       "                             nbb_cells[i].set_text(nbb_formatted_code);\n",
       "                        }\n",
       "                        break;\n",
       "                    }\n",
       "                }\n",
       "            }, 500);\n",
       "            "
      ],
      "text/plain": [
       "<IPython.core.display.Javascript object>"
      ]
     },
     "metadata": {},
     "output_type": "display_data"
    }
   ],
   "source": [
    "indices_final = {\"train\": [], \"test\": []}\n",
    "\n",
    "for repeat in range(repeats):\n",
    "    for train, test in cv.split(x):\n",
    "        indices_final[\"train\"].extend([train])\n",
    "        indices_final[\"test\"].extend([test])"
   ]
  },
  {
   "cell_type": "code",
   "execution_count": 53,
   "id": "9471f014",
   "metadata": {},
   "outputs": [
    {
     "data": {
      "text/plain": [
       "15"
      ]
     },
     "execution_count": 53,
     "metadata": {},
     "output_type": "execute_result"
    },
    {
     "data": {
      "application/javascript": [
       "\n",
       "            setTimeout(function() {\n",
       "                var nbb_cell_id = 53;\n",
       "                var nbb_unformatted_code = \"len(indices_final[\\\"train\\\"])\";\n",
       "                var nbb_formatted_code = \"len(indices_final[\\\"train\\\"])\";\n",
       "                var nbb_cells = Jupyter.notebook.get_cells();\n",
       "                for (var i = 0; i < nbb_cells.length; ++i) {\n",
       "                    if (nbb_cells[i].input_prompt_number == nbb_cell_id) {\n",
       "                        if (nbb_cells[i].get_text() == nbb_unformatted_code) {\n",
       "                             nbb_cells[i].set_text(nbb_formatted_code);\n",
       "                        }\n",
       "                        break;\n",
       "                    }\n",
       "                }\n",
       "            }, 500);\n",
       "            "
      ],
      "text/plain": [
       "<IPython.core.display.Javascript object>"
      ]
     },
     "metadata": {},
     "output_type": "display_data"
    }
   ],
   "source": [
    "len(indices_final[\"train\"])"
   ]
  },
  {
   "cell_type": "code",
   "execution_count": 54,
   "id": "17a6a8bb",
   "metadata": {},
   "outputs": [
    {
     "data": {
      "application/javascript": [
       "\n",
       "            setTimeout(function() {\n",
       "                var nbb_cell_id = 54;\n",
       "                var nbb_unformatted_code = \"def split_sequences_per_cement_type_helper(dataframe, timesteps, pad=False):\\n    \\\"\\\"\\\"\\n    Create sequences per cement time\\n    to avoid having parts of the sequence\\n    of different types of cement.\\n    \\\"\\\"\\\"\\n    if timesteps == 1:\\n        x, y = split_sequences(\\n            dataframe.drop([DATE] + CEMENT_TYPES, axis=1).values, timesteps\\n        )\\n        return x, y, dataframe[DATE]\\n\\n    dates = dataframe[DATE][timesteps - 1 :]\\n    data = []\\n    dataframes = []\\n\\n    for cement_type in CEMENT_TYPES:\\n        data.append(dataframe[dataframe[cement_type] == 1])\\n    data.append(dataframe[(dataframe[CEMENT_TYPES] == 0).all(axis=1)])\\n\\n    for df in data:\\n        if pad:\\n            dates = df[DATE].reset_index(drop=True)\\n            df = pad_time_series(df, timesteps).reset_index(drop=True)\\n        else:\\n            dates = df[DATE][timesteps - 1 :].reset_index(drop=True)\\n        x, y = split_sequences(df.drop([DATE] + CEMENT_TYPES, axis=1).values, timesteps)\\n        x = pd.DataFrame({\\\"Sequences\\\": [sample.tolist() for sample in x]})\\n        y = pd.DataFrame({\\\"Target\\\": y})\\n        dataframes.append(pd.concat([dates, x, y], axis=1))\\n\\n    data = pd.concat(dataframes, axis=0)\\n    data[DATE] = pd.to_datetime(data[DATE])\\n    data = data.sort_values(by=DATE).reset_index(drop=True)\\n    x = data[\\\"Sequences\\\"]\\n    y = data[\\\"Target\\\"].values\\n    x = np.array(x.tolist())\\n    dates = data[DATE]\\n\\n    return x, y, dates\";\n",
       "                var nbb_formatted_code = \"def split_sequences_per_cement_type_helper(dataframe, timesteps, pad=False):\\n    \\\"\\\"\\\"\\n    Create sequences per cement time\\n    to avoid having parts of the sequence\\n    of different types of cement.\\n    \\\"\\\"\\\"\\n    if timesteps == 1:\\n        x, y = split_sequences(\\n            dataframe.drop([DATE] + CEMENT_TYPES, axis=1).values, timesteps\\n        )\\n        return x, y, dataframe[DATE]\\n\\n    dates = dataframe[DATE][timesteps - 1 :]\\n    data = []\\n    dataframes = []\\n\\n    for cement_type in CEMENT_TYPES:\\n        data.append(dataframe[dataframe[cement_type] == 1])\\n    data.append(dataframe[(dataframe[CEMENT_TYPES] == 0).all(axis=1)])\\n\\n    for df in data:\\n        if pad:\\n            dates = df[DATE].reset_index(drop=True)\\n            df = pad_time_series(df, timesteps).reset_index(drop=True)\\n        else:\\n            dates = df[DATE][timesteps - 1 :].reset_index(drop=True)\\n        x, y = split_sequences(df.drop([DATE] + CEMENT_TYPES, axis=1).values, timesteps)\\n        x = pd.DataFrame({\\\"Sequences\\\": [sample.tolist() for sample in x]})\\n        y = pd.DataFrame({\\\"Target\\\": y})\\n        dataframes.append(pd.concat([dates, x, y], axis=1))\\n\\n    data = pd.concat(dataframes, axis=0)\\n    data[DATE] = pd.to_datetime(data[DATE])\\n    data = data.sort_values(by=DATE).reset_index(drop=True)\\n    x = data[\\\"Sequences\\\"]\\n    y = data[\\\"Target\\\"].values\\n    x = np.array(x.tolist())\\n    dates = data[DATE]\\n\\n    return x, y, dates\";\n",
       "                var nbb_cells = Jupyter.notebook.get_cells();\n",
       "                for (var i = 0; i < nbb_cells.length; ++i) {\n",
       "                    if (nbb_cells[i].input_prompt_number == nbb_cell_id) {\n",
       "                        if (nbb_cells[i].get_text() == nbb_unformatted_code) {\n",
       "                             nbb_cells[i].set_text(nbb_formatted_code);\n",
       "                        }\n",
       "                        break;\n",
       "                    }\n",
       "                }\n",
       "            }, 500);\n",
       "            "
      ],
      "text/plain": [
       "<IPython.core.display.Javascript object>"
      ]
     },
     "metadata": {},
     "output_type": "display_data"
    }
   ],
   "source": [
    "def split_sequences_per_cement_type_helper(dataframe, timesteps, pad=False):\n",
    "    \"\"\"\n",
    "    Create sequences per cement time\n",
    "    to avoid having parts of the sequence\n",
    "    of different types of cement.\n",
    "    \"\"\"\n",
    "    if timesteps == 1:\n",
    "        x, y = split_sequences(\n",
    "            dataframe.drop([DATE] + CEMENT_TYPES, axis=1).values, timesteps\n",
    "        )\n",
    "        return x, y, dataframe[DATE]\n",
    "\n",
    "    dates = dataframe[DATE][timesteps - 1 :]\n",
    "    data = []\n",
    "    dataframes = []\n",
    "\n",
    "    for cement_type in CEMENT_TYPES:\n",
    "        data.append(dataframe[dataframe[cement_type] == 1])\n",
    "    data.append(dataframe[(dataframe[CEMENT_TYPES] == 0).all(axis=1)])\n",
    "\n",
    "    for df in data:\n",
    "        if pad:\n",
    "            dates = df[DATE].reset_index(drop=True)\n",
    "            df = pad_time_series(df, timesteps).reset_index(drop=True)\n",
    "        else:\n",
    "            dates = df[DATE][timesteps - 1 :].reset_index(drop=True)\n",
    "        x, y = split_sequences(df.drop([DATE] + CEMENT_TYPES, axis=1).values, timesteps)\n",
    "        x = pd.DataFrame({\"Sequences\": [sample.tolist() for sample in x]})\n",
    "        y = pd.DataFrame({\"Target\": y})\n",
    "        dataframes.append(pd.concat([dates, x, y], axis=1))\n",
    "\n",
    "    data = pd.concat(dataframes, axis=0)\n",
    "    data[DATE] = pd.to_datetime(data[DATE])\n",
    "    data = data.sort_values(by=DATE).reset_index(drop=True)\n",
    "    x = data[\"Sequences\"]\n",
    "    y = data[\"Target\"].values\n",
    "    x = np.array(x.tolist())\n",
    "    dates = data[DATE]\n",
    "\n",
    "    return x, y, dates"
   ]
  },
  {
   "cell_type": "code",
   "execution_count": 55,
   "id": "2543aff4",
   "metadata": {},
   "outputs": [
    {
     "data": {
      "application/javascript": [
       "\n",
       "            setTimeout(function() {\n",
       "                var nbb_cell_id = 55;\n",
       "                var nbb_unformatted_code = \"def generate_sequences_helper(dataset, timesteps, split_by_cement_type=False):\\n    if split_by_cement_type:\\n        (\\n            dataset[\\\"x_train\\\"],\\n            dataset[\\\"y_train\\\"],\\n            dates_train,\\n        ) = split_sequences_per_cement_type_helper(\\n            pd.concat(\\n                [\\n                    dataset[\\\"dates_train\\\"],\\n                    pd.DataFrame(dataset[\\\"x_train\\\"], columns=x.columns),\\n                    dataset[\\\"cement_types_train\\\"],\\n                    dataset[\\\"y_train\\\"],\\n                ],\\n                axis=1,\\n            ),\\n            timesteps,\\n        )\\n\\n        (\\n            dataset[\\\"x_test\\\"],\\n            dataset[\\\"y_test\\\"],\\n            dates_test,\\n        ) = split_sequences_per_cement_type_helper(\\n            pd.concat(\\n                [\\n                    dataset[\\\"dates_test\\\"],\\n                    pd.DataFrame(dataset[\\\"x_test\\\"], columns=x.columns),\\n                    dataset[\\\"cement_types_test\\\"],\\n                    dataset[\\\"y_test\\\"],\\n                ],\\n                axis=1,\\n            ),\\n            timesteps,\\n        )\\n        dataset[\\\"dates_train_seq\\\"] = dates_train\\n        dataset[\\\"dates_test_seq\\\"] = dates_test\\n    else:\\n        dataset[\\\"x_train\\\"], dataset[\\\"y_train\\\"] = split_sequences(\\n            pd.concat(\\n                [\\n                    pd.DataFrame(dataset[\\\"x_train\\\"], columns=x.columns),\\n                    dataset[\\\"y_train\\\"],\\n                ],\\n                axis=1,\\n            ).values,\\n            timesteps,\\n        )\\n\\n        dataset[\\\"x_test\\\"], dataset[\\\"y_test\\\"] = split_sequences(\\n            pd.concat(\\n                [\\n                    pd.DataFrame(dataset[\\\"x_test\\\"], columns=x.columns),\\n                    dataset[\\\"y_test\\\"],\\n                ],\\n                axis=1,\\n            ).values,\\n            timesteps,\\n        )\\n    return dataset\";\n",
       "                var nbb_formatted_code = \"def generate_sequences_helper(dataset, timesteps, split_by_cement_type=False):\\n    if split_by_cement_type:\\n        (\\n            dataset[\\\"x_train\\\"],\\n            dataset[\\\"y_train\\\"],\\n            dates_train,\\n        ) = split_sequences_per_cement_type_helper(\\n            pd.concat(\\n                [\\n                    dataset[\\\"dates_train\\\"],\\n                    pd.DataFrame(dataset[\\\"x_train\\\"], columns=x.columns),\\n                    dataset[\\\"cement_types_train\\\"],\\n                    dataset[\\\"y_train\\\"],\\n                ],\\n                axis=1,\\n            ),\\n            timesteps,\\n        )\\n\\n        (\\n            dataset[\\\"x_test\\\"],\\n            dataset[\\\"y_test\\\"],\\n            dates_test,\\n        ) = split_sequences_per_cement_type_helper(\\n            pd.concat(\\n                [\\n                    dataset[\\\"dates_test\\\"],\\n                    pd.DataFrame(dataset[\\\"x_test\\\"], columns=x.columns),\\n                    dataset[\\\"cement_types_test\\\"],\\n                    dataset[\\\"y_test\\\"],\\n                ],\\n                axis=1,\\n            ),\\n            timesteps,\\n        )\\n        dataset[\\\"dates_train_seq\\\"] = dates_train\\n        dataset[\\\"dates_test_seq\\\"] = dates_test\\n    else:\\n        dataset[\\\"x_train\\\"], dataset[\\\"y_train\\\"] = split_sequences(\\n            pd.concat(\\n                [\\n                    pd.DataFrame(dataset[\\\"x_train\\\"], columns=x.columns),\\n                    dataset[\\\"y_train\\\"],\\n                ],\\n                axis=1,\\n            ).values,\\n            timesteps,\\n        )\\n\\n        dataset[\\\"x_test\\\"], dataset[\\\"y_test\\\"] = split_sequences(\\n            pd.concat(\\n                [\\n                    pd.DataFrame(dataset[\\\"x_test\\\"], columns=x.columns),\\n                    dataset[\\\"y_test\\\"],\\n                ],\\n                axis=1,\\n            ).values,\\n            timesteps,\\n        )\\n    return dataset\";\n",
       "                var nbb_cells = Jupyter.notebook.get_cells();\n",
       "                for (var i = 0; i < nbb_cells.length; ++i) {\n",
       "                    if (nbb_cells[i].input_prompt_number == nbb_cell_id) {\n",
       "                        if (nbb_cells[i].get_text() == nbb_unformatted_code) {\n",
       "                             nbb_cells[i].set_text(nbb_formatted_code);\n",
       "                        }\n",
       "                        break;\n",
       "                    }\n",
       "                }\n",
       "            }, 500);\n",
       "            "
      ],
      "text/plain": [
       "<IPython.core.display.Javascript object>"
      ]
     },
     "metadata": {},
     "output_type": "display_data"
    }
   ],
   "source": [
    "def generate_sequences_helper(dataset, timesteps, split_by_cement_type=False):\n",
    "    if split_by_cement_type:\n",
    "        (\n",
    "            dataset[\"x_train\"],\n",
    "            dataset[\"y_train\"],\n",
    "            dates_train,\n",
    "        ) = split_sequences_per_cement_type_helper(\n",
    "            pd.concat(\n",
    "                [\n",
    "                    dataset[\"dates_train\"],\n",
    "                    pd.DataFrame(dataset[\"x_train\"], columns=x.columns),\n",
    "                    dataset[\"cement_types_train\"],\n",
    "                    dataset[\"y_train\"],\n",
    "                ],\n",
    "                axis=1,\n",
    "            ),\n",
    "            timesteps,\n",
    "        )\n",
    "\n",
    "        (\n",
    "            dataset[\"x_test\"],\n",
    "            dataset[\"y_test\"],\n",
    "            dates_test,\n",
    "        ) = split_sequences_per_cement_type_helper(\n",
    "            pd.concat(\n",
    "                [\n",
    "                    dataset[\"dates_test\"],\n",
    "                    pd.DataFrame(dataset[\"x_test\"], columns=x.columns),\n",
    "                    dataset[\"cement_types_test\"],\n",
    "                    dataset[\"y_test\"],\n",
    "                ],\n",
    "                axis=1,\n",
    "            ),\n",
    "            timesteps,\n",
    "        )\n",
    "        dataset[\"dates_train_seq\"] = dates_train\n",
    "        dataset[\"dates_test_seq\"] = dates_test\n",
    "    else:\n",
    "        dataset[\"x_train\"], dataset[\"y_train\"] = split_sequences(\n",
    "            pd.concat(\n",
    "                [\n",
    "                    pd.DataFrame(dataset[\"x_train\"], columns=x.columns),\n",
    "                    dataset[\"y_train\"],\n",
    "                ],\n",
    "                axis=1,\n",
    "            ).values,\n",
    "            timesteps,\n",
    "        )\n",
    "\n",
    "        dataset[\"x_test\"], dataset[\"y_test\"] = split_sequences(\n",
    "            pd.concat(\n",
    "                [\n",
    "                    pd.DataFrame(dataset[\"x_test\"], columns=x.columns),\n",
    "                    dataset[\"y_test\"],\n",
    "                ],\n",
    "                axis=1,\n",
    "            ).values,\n",
    "            timesteps,\n",
    "        )\n",
    "    return dataset"
   ]
  },
  {
   "cell_type": "code",
   "execution_count": 56,
   "id": "7ef4dcc7",
   "metadata": {},
   "outputs": [
    {
     "data": {
      "application/javascript": [
       "\n",
       "            setTimeout(function() {\n",
       "                var nbb_cell_id = 56;\n",
       "                var nbb_unformatted_code = \"# Store predictions for each fold\\nall_predictions = []\\ncement_types=df_copy[CEMENT_TYPES]\\nparams[\\\"timesteps\\\"]=timesteps\\n\\nfor idx, (imputer, scaler, estimator) in enumerate(pipelines_final):\\n    train_index = indices_final[\\\"train\\\"][idx]\\n    test_index = indices_final[\\\"test\\\"][idx]\\n    \\n    # Prepare dataset for prediction\\n    dataset = {\\n        \\\"dates_train\\\": dates.iloc[train_index].reset_index(drop=True),\\n        \\\"cement_types_train\\\": cement_types.iloc[train_index].reset_index(drop=True),\\n        \\\"x_train\\\": x.iloc[train_index].reset_index(drop=True),\\n        \\\"y_train\\\": y.iloc[train_index].reset_index(drop=True),\\n        \\\"dates_test\\\": dates.iloc[test_index].reset_index(drop=True),\\n        \\\"cement_types_test\\\": cement_types.iloc[test_index].reset_index(drop=True),\\n        \\\"x_test\\\": x.iloc[test_index].reset_index(drop=True),\\n        \\\"y_test\\\": y.iloc[test_index].reset_index(drop=True),\\n    }\\n\\n    # Apply preprocessing\\n    dataset[\\\"x_train\\\"] = imputer.transform(dataset[\\\"x_train\\\"])\\n    dataset[\\\"x_test\\\"] = imputer.transform(dataset[\\\"x_test\\\"])\\n\\n    dataset[\\\"x_train\\\"] = scaler.transform(dataset[\\\"x_train\\\"])\\n    dataset[\\\"x_test\\\"] = scaler.transform(dataset[\\\"x_test\\\"])\\n\\n    # Generate sequences\\n    dataset = generate_sequences_helper(dataset, params[\\\"timesteps\\\"], split_by_cement_type=True)\\n\\n    if timesteps == 1:\\n    # Adjust dates for sequences\\n        dates_train = dataset[\\\"dates_train\\\"][params[\\\"timesteps\\\"] - 1:].reset_index(drop=True)\\n        dates_test = dataset[\\\"dates_test\\\"][params[\\\"timesteps\\\"] - 1:].reset_index(drop=True)\\n    else:\\n        dates_train = dataset[\\\"dates_train_seq\\\"]#.reset_index(drop=True)\\n        dates_test = dataset[\\\"dates_test_seq\\\"]#.reset_index(drop=True)\\n\\n    # Make predictions\\n    y_train_pred = estimator.predict(dataset[\\\"x_train\\\"], verbose=0).flatten()\\n    y_test_pred = estimator.predict(dataset[\\\"x_test\\\"], verbose=0).flatten()\\n\\n    # Store predictions along with fold information\\n    fold_predictions_train = pd.DataFrame({\\n        \\\"DATE\\\": dates_train,\\n        \\\"CS28\\\": dataset[\\\"y_train\\\"],\\n        \\\"CS28_PRED\\\": y_train_pred,\\n        \\\"SET\\\": [\\\"TRAIN\\\"] * len(y_train_pred),\\n        \\\"FOLD\\\": [idx + 1] * len(y_train_pred),\\n        \\\"REPEAT\\\": [(idx)//5] * len(y_train_pred),\\n        #\\\"INDEX\\\": dates_train.index.values,\\n    })\\n\\n    fold_predictions_test = pd.DataFrame({\\n        \\\"DATE\\\": dates_test,\\n        \\\"CS28\\\": dataset[\\\"y_test\\\"],\\n        \\\"CS28_PRED\\\": y_test_pred,\\n        \\\"SET\\\": [\\\"TEST\\\"] * len(y_test_pred),\\n        \\\"FOLD\\\": [idx + 1] * len(y_test_pred),\\n        \\\"REPEAT\\\": [(idx)//5] * len(y_test_pred),\\n        #\\\"INDEX\\\": dates_test.index.values,\\n    })\\n\\n    all_predictions.append(pd.concat([fold_predictions_train, fold_predictions_test], axis=0))\";\n",
       "                var nbb_formatted_code = \"# Store predictions for each fold\\nall_predictions = []\\ncement_types = df_copy[CEMENT_TYPES]\\nparams[\\\"timesteps\\\"] = timesteps\\n\\nfor idx, (imputer, scaler, estimator) in enumerate(pipelines_final):\\n    train_index = indices_final[\\\"train\\\"][idx]\\n    test_index = indices_final[\\\"test\\\"][idx]\\n\\n    # Prepare dataset for prediction\\n    dataset = {\\n        \\\"dates_train\\\": dates.iloc[train_index].reset_index(drop=True),\\n        \\\"cement_types_train\\\": cement_types.iloc[train_index].reset_index(drop=True),\\n        \\\"x_train\\\": x.iloc[train_index].reset_index(drop=True),\\n        \\\"y_train\\\": y.iloc[train_index].reset_index(drop=True),\\n        \\\"dates_test\\\": dates.iloc[test_index].reset_index(drop=True),\\n        \\\"cement_types_test\\\": cement_types.iloc[test_index].reset_index(drop=True),\\n        \\\"x_test\\\": x.iloc[test_index].reset_index(drop=True),\\n        \\\"y_test\\\": y.iloc[test_index].reset_index(drop=True),\\n    }\\n\\n    # Apply preprocessing\\n    dataset[\\\"x_train\\\"] = imputer.transform(dataset[\\\"x_train\\\"])\\n    dataset[\\\"x_test\\\"] = imputer.transform(dataset[\\\"x_test\\\"])\\n\\n    dataset[\\\"x_train\\\"] = scaler.transform(dataset[\\\"x_train\\\"])\\n    dataset[\\\"x_test\\\"] = scaler.transform(dataset[\\\"x_test\\\"])\\n\\n    # Generate sequences\\n    dataset = generate_sequences_helper(\\n        dataset, params[\\\"timesteps\\\"], split_by_cement_type=True\\n    )\\n\\n    if timesteps == 1:\\n        # Adjust dates for sequences\\n        dates_train = dataset[\\\"dates_train\\\"][params[\\\"timesteps\\\"] - 1 :].reset_index(\\n            drop=True\\n        )\\n        dates_test = dataset[\\\"dates_test\\\"][params[\\\"timesteps\\\"] - 1 :].reset_index(\\n            drop=True\\n        )\\n    else:\\n        dates_train = dataset[\\\"dates_train_seq\\\"]  # .reset_index(drop=True)\\n        dates_test = dataset[\\\"dates_test_seq\\\"]  # .reset_index(drop=True)\\n\\n    # Make predictions\\n    y_train_pred = estimator.predict(dataset[\\\"x_train\\\"], verbose=0).flatten()\\n    y_test_pred = estimator.predict(dataset[\\\"x_test\\\"], verbose=0).flatten()\\n\\n    # Store predictions along with fold information\\n    fold_predictions_train = pd.DataFrame(\\n        {\\n            \\\"DATE\\\": dates_train,\\n            \\\"CS28\\\": dataset[\\\"y_train\\\"],\\n            \\\"CS28_PRED\\\": y_train_pred,\\n            \\\"SET\\\": [\\\"TRAIN\\\"] * len(y_train_pred),\\n            \\\"FOLD\\\": [idx + 1] * len(y_train_pred),\\n            \\\"REPEAT\\\": [(idx) // 5] * len(y_train_pred),\\n            # \\\"INDEX\\\": dates_train.index.values,\\n        }\\n    )\\n\\n    fold_predictions_test = pd.DataFrame(\\n        {\\n            \\\"DATE\\\": dates_test,\\n            \\\"CS28\\\": dataset[\\\"y_test\\\"],\\n            \\\"CS28_PRED\\\": y_test_pred,\\n            \\\"SET\\\": [\\\"TEST\\\"] * len(y_test_pred),\\n            \\\"FOLD\\\": [idx + 1] * len(y_test_pred),\\n            \\\"REPEAT\\\": [(idx) // 5] * len(y_test_pred),\\n            # \\\"INDEX\\\": dates_test.index.values,\\n        }\\n    )\\n\\n    all_predictions.append(\\n        pd.concat([fold_predictions_train, fold_predictions_test], axis=0)\\n    )\";\n",
       "                var nbb_cells = Jupyter.notebook.get_cells();\n",
       "                for (var i = 0; i < nbb_cells.length; ++i) {\n",
       "                    if (nbb_cells[i].input_prompt_number == nbb_cell_id) {\n",
       "                        if (nbb_cells[i].get_text() == nbb_unformatted_code) {\n",
       "                             nbb_cells[i].set_text(nbb_formatted_code);\n",
       "                        }\n",
       "                        break;\n",
       "                    }\n",
       "                }\n",
       "            }, 500);\n",
       "            "
      ],
      "text/plain": [
       "<IPython.core.display.Javascript object>"
      ]
     },
     "metadata": {},
     "output_type": "display_data"
    }
   ],
   "source": [
    "# Store predictions for each fold\n",
    "all_predictions = []\n",
    "cement_types=df_copy[CEMENT_TYPES]\n",
    "params[\"timesteps\"]=timesteps\n",
    "\n",
    "for idx, (imputer, scaler, estimator) in enumerate(pipelines_final):\n",
    "    train_index = indices_final[\"train\"][idx]\n",
    "    test_index = indices_final[\"test\"][idx]\n",
    "    \n",
    "    # Prepare dataset for prediction\n",
    "    dataset = {\n",
    "        \"dates_train\": dates.iloc[train_index].reset_index(drop=True),\n",
    "        \"cement_types_train\": cement_types.iloc[train_index].reset_index(drop=True),\n",
    "        \"x_train\": x.iloc[train_index].reset_index(drop=True),\n",
    "        \"y_train\": y.iloc[train_index].reset_index(drop=True),\n",
    "        \"dates_test\": dates.iloc[test_index].reset_index(drop=True),\n",
    "        \"cement_types_test\": cement_types.iloc[test_index].reset_index(drop=True),\n",
    "        \"x_test\": x.iloc[test_index].reset_index(drop=True),\n",
    "        \"y_test\": y.iloc[test_index].reset_index(drop=True),\n",
    "    }\n",
    "\n",
    "    # Apply preprocessing\n",
    "    dataset[\"x_train\"] = imputer.transform(dataset[\"x_train\"])\n",
    "    dataset[\"x_test\"] = imputer.transform(dataset[\"x_test\"])\n",
    "\n",
    "    dataset[\"x_train\"] = scaler.transform(dataset[\"x_train\"])\n",
    "    dataset[\"x_test\"] = scaler.transform(dataset[\"x_test\"])\n",
    "\n",
    "    # Generate sequences\n",
    "    dataset = generate_sequences_helper(dataset, params[\"timesteps\"], split_by_cement_type=True)\n",
    "\n",
    "    if timesteps == 1:\n",
    "    # Adjust dates for sequences\n",
    "        dates_train = dataset[\"dates_train\"][params[\"timesteps\"] - 1:].reset_index(drop=True)\n",
    "        dates_test = dataset[\"dates_test\"][params[\"timesteps\"] - 1:].reset_index(drop=True)\n",
    "    else:\n",
    "        dates_train = dataset[\"dates_train_seq\"]#.reset_index(drop=True)\n",
    "        dates_test = dataset[\"dates_test_seq\"]#.reset_index(drop=True)\n",
    "\n",
    "    # Make predictions\n",
    "    y_train_pred = estimator.predict(dataset[\"x_train\"], verbose=0).flatten()\n",
    "    y_test_pred = estimator.predict(dataset[\"x_test\"], verbose=0).flatten()\n",
    "\n",
    "    # Store predictions along with fold information\n",
    "    fold_predictions_train = pd.DataFrame({\n",
    "        \"DATE\": dates_train,\n",
    "        \"CS28\": dataset[\"y_train\"],\n",
    "        \"CS28_PRED\": y_train_pred,\n",
    "        \"SET\": [\"TRAIN\"] * len(y_train_pred),\n",
    "        \"FOLD\": [idx + 1] * len(y_train_pred),\n",
    "        \"REPEAT\": [(idx)//5] * len(y_train_pred),\n",
    "        #\"INDEX\": dates_train.index.values,\n",
    "    })\n",
    "\n",
    "    fold_predictions_test = pd.DataFrame({\n",
    "        \"DATE\": dates_test,\n",
    "        \"CS28\": dataset[\"y_test\"],\n",
    "        \"CS28_PRED\": y_test_pred,\n",
    "        \"SET\": [\"TEST\"] * len(y_test_pred),\n",
    "        \"FOLD\": [idx + 1] * len(y_test_pred),\n",
    "        \"REPEAT\": [(idx)//5] * len(y_test_pred),\n",
    "        #\"INDEX\": dates_test.index.values,\n",
    "    })\n",
    "\n",
    "    all_predictions.append(pd.concat([fold_predictions_train, fold_predictions_test], axis=0))\n"
   ]
  },
  {
   "cell_type": "code",
   "execution_count": 16,
   "id": "5eab3797",
   "metadata": {},
   "outputs": [
    {
     "data": {
      "application/javascript": [
       "\n",
       "            setTimeout(function() {\n",
       "                var nbb_cell_id = 16;\n",
       "                var nbb_unformatted_code = \"matplotlib.rc_file_defaults()\";\n",
       "                var nbb_formatted_code = \"matplotlib.rc_file_defaults()\";\n",
       "                var nbb_cells = Jupyter.notebook.get_cells();\n",
       "                for (var i = 0; i < nbb_cells.length; ++i) {\n",
       "                    if (nbb_cells[i].input_prompt_number == nbb_cell_id) {\n",
       "                        if (nbb_cells[i].get_text() == nbb_unformatted_code) {\n",
       "                             nbb_cells[i].set_text(nbb_formatted_code);\n",
       "                        }\n",
       "                        break;\n",
       "                    }\n",
       "                }\n",
       "            }, 500);\n",
       "            "
      ],
      "text/plain": [
       "<IPython.core.display.Javascript object>"
      ]
     },
     "metadata": {},
     "output_type": "display_data"
    }
   ],
   "source": [
    "# df_pred = pd.concat(all_predictions).reset_index(drop=True)\n",
    "# df_pred[\"DATE\"] = pd.to_datetime(df_pred[\"DATE\"])\n",
    "\n",
    "# mean = pd.concat(\n",
    "#     [\n",
    "#         df_pred[df_pred[\"REPEAT\"].eq(0)][\"CS28_PRED\"].reset_index(drop=True),\n",
    "#         df_pred[df_pred[\"REPEAT\"].eq(1)][\"CS28_PRED\"].reset_index(drop=True),\n",
    "#         df_pred[df_pred[\"REPEAT\"].eq(2)][\"CS28_PRED\"].reset_index(drop=True),\n",
    "#     ],\n",
    "#     axis=1,\n",
    "# ).mean(axis=1)\n",
    "\n",
    "# df_copy_merge = (\n",
    "#     df_copy.drop([\"Cement_Type_CP II-Z-32\", \"CS28\"], axis=1)\n",
    "#     .merge(df_pred, left_index=True, right_index=True, how=\"left\")\n",
    "#     .drop(\"REPEAT\", axis=1)\n",
    "# )\n",
    "\n",
    "# df_copy_merge[\"COMPANY\"] = 203\n",
    "# df_copy_merge[\"PLANT\"] = \"C\"\n",
    "# df_copy_merge[\"CS28_PRED\"] = mean\n",
    "\n",
    "# df_copy_merge.to_excel(\"global_model_transformer_1ts_btsscv_203_c.xlsx\", index=False)\n",
    "# df_copy_merge.to_csv(\"global_model_transformer_1ts_btsscv_203_c.csv\", index=False)"
   ]
  },
  {
   "cell_type": "code",
   "execution_count": 57,
   "id": "510bb2f8",
   "metadata": {},
   "outputs": [
    {
     "data": {
      "image/png": "[encoded data removed]",
      "text/plain": [
       "<Figure size 600x600 with 1 Axes>"
      ]
     },
     "metadata": {},
     "output_type": "display_data"
    },
    {
     "data": {
      "application/javascript": [
       "\n",
       "            setTimeout(function() {\n",
       "                var nbb_cell_id = 57;\n",
       "                var nbb_unformatted_code = \"df_pred = pd.concat(all_predictions).reset_index(drop=True)\\ndf_pred[\\\"DATE\\\"] = pd.to_datetime(df_pred[\\\"DATE\\\"])\\n\\n# Proceed with your plotting code\\n# Scatter plot of actual vs predicted values\\ntest_data = df_pred[df_pred[\\\"SET\\\"] == \\\"TEST\\\"]\\n\\ntest_data_tmp = test_data[test_data[\\\"REPEAT\\\"].eq(0)].copy().reset_index(drop=True)\\n\\nmean = pd.concat(\\n    [test_data[test_data[\\\"REPEAT\\\"].eq(0)][\\\"CS28_PRED\\\"].reset_index(drop=True),\\n    test_data[test_data[\\\"REPEAT\\\"].eq(1)][\\\"CS28_PRED\\\"].reset_index(drop=True),\\n    test_data[test_data[\\\"REPEAT\\\"].eq(2)][\\\"CS28_PRED\\\"].reset_index(drop=True)],\\naxis=1).mean(axis=1)\\n\\ntest_data_tmp[\\\"CS28_PRED\\\"] = mean\\ntest_data = test_data_tmp\\n\\n# test_data = test_data.groupby(\\\"INDEX\\\", as_index=False).agg(\\n#     {\\\"DATE\\\": \\\"first\\\", \\\"CS28\\\": \\\"first\\\", \\\"CS28_PRED\\\": \\\"mean\\\", \\\"SET\\\": \\\"first\\\", \\\"FOLD\\\": \\\"first\\\"}\\n# )\\nplt.figure(figsize=(6, 6))\\nplt.scatter(\\n    test_data[\\\"CS28\\\"],\\n    test_data[\\\"CS28_PRED\\\"],\\n    color=\\\"tomato\\\",\\n    alpha=0.7,\\n    label=\\\"Predicted\\\",\\n)\\nplt.plot(\\n    [test_data[\\\"CS28\\\"].min(), test_data[\\\"CS28\\\"].max()],\\n    [test_data[\\\"CS28\\\"].min(), test_data[\\\"CS28\\\"].max()],\\n    color=\\\"black\\\",\\n    linestyle=\\\"--\\\",\\n    linewidth=2,\\n)\\nplt.xlabel(\\\"Actual CS28 (MPa)\\\")\\nplt.ylabel(\\\"Predicted CS28 (MPa)\\\")\\nplt.title(\\\"Predicted vs Actual CS28\\\")\\nplt.legend()\\nplt.grid(True)\\nplt.gca().spines[\\\"top\\\"].set_visible(False)\\nplt.gca().spines[\\\"right\\\"].set_visible(False)\\n\\nplt.savefig(\\n    \\\"ecics_203_c_local_cm_btiss_dominant_top_one_pred_vs_actual_cs28.png\\\", dpi=300, bbox_inches=\\\"tight\\\"\\n)\\nplt.show()\";\n",
       "                var nbb_formatted_code = \"df_pred = pd.concat(all_predictions).reset_index(drop=True)\\ndf_pred[\\\"DATE\\\"] = pd.to_datetime(df_pred[\\\"DATE\\\"])\\n\\n# Proceed with your plotting code\\n# Scatter plot of actual vs predicted values\\ntest_data = df_pred[df_pred[\\\"SET\\\"] == \\\"TEST\\\"]\\n\\ntest_data_tmp = test_data[test_data[\\\"REPEAT\\\"].eq(0)].copy().reset_index(drop=True)\\n\\nmean = pd.concat(\\n    [\\n        test_data[test_data[\\\"REPEAT\\\"].eq(0)][\\\"CS28_PRED\\\"].reset_index(drop=True),\\n        test_data[test_data[\\\"REPEAT\\\"].eq(1)][\\\"CS28_PRED\\\"].reset_index(drop=True),\\n        test_data[test_data[\\\"REPEAT\\\"].eq(2)][\\\"CS28_PRED\\\"].reset_index(drop=True),\\n    ],\\n    axis=1,\\n).mean(axis=1)\\n\\ntest_data_tmp[\\\"CS28_PRED\\\"] = mean\\ntest_data = test_data_tmp\\n\\n# test_data = test_data.groupby(\\\"INDEX\\\", as_index=False).agg(\\n#     {\\\"DATE\\\": \\\"first\\\", \\\"CS28\\\": \\\"first\\\", \\\"CS28_PRED\\\": \\\"mean\\\", \\\"SET\\\": \\\"first\\\", \\\"FOLD\\\": \\\"first\\\"}\\n# )\\nplt.figure(figsize=(6, 6))\\nplt.scatter(\\n    test_data[\\\"CS28\\\"],\\n    test_data[\\\"CS28_PRED\\\"],\\n    color=\\\"tomato\\\",\\n    alpha=0.7,\\n    label=\\\"Predicted\\\",\\n)\\nplt.plot(\\n    [test_data[\\\"CS28\\\"].min(), test_data[\\\"CS28\\\"].max()],\\n    [test_data[\\\"CS28\\\"].min(), test_data[\\\"CS28\\\"].max()],\\n    color=\\\"black\\\",\\n    linestyle=\\\"--\\\",\\n    linewidth=2,\\n)\\nplt.xlabel(\\\"Actual CS28 (MPa)\\\")\\nplt.ylabel(\\\"Predicted CS28 (MPa)\\\")\\nplt.title(\\\"Predicted vs Actual CS28\\\")\\nplt.legend()\\nplt.grid(True)\\nplt.gca().spines[\\\"top\\\"].set_visible(False)\\nplt.gca().spines[\\\"right\\\"].set_visible(False)\\n\\nplt.savefig(\\n    \\\"ecics_203_c_local_cm_btiss_dominant_top_one_pred_vs_actual_cs28.png\\\",\\n    dpi=300,\\n    bbox_inches=\\\"tight\\\",\\n)\\nplt.show()\";\n",
       "                var nbb_cells = Jupyter.notebook.get_cells();\n",
       "                for (var i = 0; i < nbb_cells.length; ++i) {\n",
       "                    if (nbb_cells[i].input_prompt_number == nbb_cell_id) {\n",
       "                        if (nbb_cells[i].get_text() == nbb_unformatted_code) {\n",
       "                             nbb_cells[i].set_text(nbb_formatted_code);\n",
       "                        }\n",
       "                        break;\n",
       "                    }\n",
       "                }\n",
       "            }, 500);\n",
       "            "
      ],
      "text/plain": [
       "<IPython.core.display.Javascript object>"
      ]
     },
     "metadata": {},
     "output_type": "display_data"
    }
   ],
   "source": [
    "df_pred = pd.concat(all_predictions).reset_index(drop=True)\n",
    "df_pred[\"DATE\"] = pd.to_datetime(df_pred[\"DATE\"])\n",
    "\n",
    "# Proceed with your plotting code\n",
    "# Scatter plot of actual vs predicted values\n",
    "test_data = df_pred[df_pred[\"SET\"] == \"TEST\"]\n",
    "\n",
    "test_data_tmp = test_data[test_data[\"REPEAT\"].eq(0)].copy().reset_index(drop=True)\n",
    "\n",
    "mean = pd.concat(\n",
    "    [test_data[test_data[\"REPEAT\"].eq(0)][\"CS28_PRED\"].reset_index(drop=True),\n",
    "    test_data[test_data[\"REPEAT\"].eq(1)][\"CS28_PRED\"].reset_index(drop=True),\n",
    "    test_data[test_data[\"REPEAT\"].eq(2)][\"CS28_PRED\"].reset_index(drop=True)],\n",
    "axis=1).mean(axis=1)\n",
    "\n",
    "test_data_tmp[\"CS28_PRED\"] = mean\n",
    "test_data = test_data_tmp\n",
    "\n",
    "# test_data = test_data.groupby(\"INDEX\", as_index=False).agg(\n",
    "#     {\"DATE\": \"first\", \"CS28\": \"first\", \"CS28_PRED\": \"mean\", \"SET\": \"first\", \"FOLD\": \"first\"}\n",
    "# )\n",
    "plt.figure(figsize=(6, 6))\n",
    "plt.scatter(\n",
    "    test_data[\"CS28\"],\n",
    "    test_data[\"CS28_PRED\"],\n",
    "    color=\"tomato\",\n",
    "    alpha=0.7,\n",
    "    label=\"Predicted\",\n",
    ")\n",
    "plt.plot(\n",
    "    [test_data[\"CS28\"].min(), test_data[\"CS28\"].max()],\n",
    "    [test_data[\"CS28\"].min(), test_data[\"CS28\"].max()],\n",
    "    color=\"black\",\n",
    "    linestyle=\"--\",\n",
    "    linewidth=2,\n",
    ")\n",
    "plt.xlabel(\"Actual CS28 (MPa)\")\n",
    "plt.ylabel(\"Predicted CS28 (MPa)\")\n",
    "plt.title(\"Predicted vs Actual CS28\")\n",
    "plt.legend()\n",
    "plt.grid(True)\n",
    "plt.gca().spines[\"top\"].set_visible(False)\n",
    "plt.gca().spines[\"right\"].set_visible(False)\n",
    "\n",
    "plt.savefig(\n",
    "    \"ecics_203_c_local_cm_btiss_dominant_top_one_pred_vs_actual_cs28.png\", dpi=300, bbox_inches=\"tight\"\n",
    ")\n",
    "plt.show()\n"
   ]
  },
  {
   "cell_type": "code",
   "execution_count": 62,
   "id": "62be6c0f",
   "metadata": {},
   "outputs": [
    {
     "data": {
      "image/png": "[encoded data removed]",
      "text/plain": [
       "<Figure size 1200x600 with 1 Axes>"
      ]
     },
     "metadata": {},
     "output_type": "display_data"
    },
    {
     "data": {
      "application/javascript": [
       "\n",
       "            setTimeout(function() {\n",
       "                var nbb_cell_id = 62;\n",
       "                var nbb_unformatted_code = \"import matplotlib.pyplot as plt\\nimport matplotlib.dates as mdates\\n\\nplt.figure(figsize=(12, 6))\\nplt.plot(\\n    test_data[\\\"DATE\\\"],\\n    test_data[\\\"CS28\\\"],\\n    color=\\\"dodgerblue\\\",\\n    alpha=0.7,\\n    marker=\\\"o\\\",\\n    linestyle=\\\"none\\\",\\n    label=\\\"Actual CS28\\\",\\n)\\nplt.plot(\\n    test_data[\\\"DATE\\\"],\\n    test_data[\\\"CS28_PRED\\\"],\\n    color=\\\"tomato\\\",\\n    alpha=0.7,\\n    marker=\\\"o\\\",\\n    linestyle=\\\"none\\\",\\n    label=\\\"Predicted CS28\\\",\\n)\\nplt.xlabel(\\\"Date\\\")\\nplt.ylabel(\\\"CS28 (MPa)\\\")\\nplt.title(\\\"Actual vs Predicted CS28\\\")\\nplt.legend()\\nplt.grid(True)\\n\\n# Improving x-axis readability\\nplt.gca().xaxis.set_major_locator(mdates.MonthLocator())  # Set ticks for each month\\nplt.gca().xaxis.set_major_formatter(mdates.DateFormatter('%Y-%m'))  # Format date as 'YYYY-MM-DD'\\nplt.gcf().autofmt_xdate(rotation=45)  # Rotate x-axis labels\\n\\nplt.gca().spines[\\\"top\\\"].set_visible(False)\\nplt.gca().spines[\\\"right\\\"].set_visible(False)\\n\\nplt.savefig(\\n    \\\"ecics_203_c_local_cm_btiss_dominant_top_one_pred_vs_actual_cs28_over_time.png\\\",\\n    dpi=300,\\n    bbox_inches=\\\"tight\\\",\\n)\\n\\nplt.show()\";\n",
       "                var nbb_formatted_code = \"import matplotlib.pyplot as plt\\nimport matplotlib.dates as mdates\\n\\nplt.figure(figsize=(12, 6))\\nplt.plot(\\n    test_data[\\\"DATE\\\"],\\n    test_data[\\\"CS28\\\"],\\n    color=\\\"dodgerblue\\\",\\n    alpha=0.7,\\n    marker=\\\"o\\\",\\n    linestyle=\\\"none\\\",\\n    label=\\\"Actual CS28\\\",\\n)\\nplt.plot(\\n    test_data[\\\"DATE\\\"],\\n    test_data[\\\"CS28_PRED\\\"],\\n    color=\\\"tomato\\\",\\n    alpha=0.7,\\n    marker=\\\"o\\\",\\n    linestyle=\\\"none\\\",\\n    label=\\\"Predicted CS28\\\",\\n)\\nplt.xlabel(\\\"Date\\\")\\nplt.ylabel(\\\"CS28 (MPa)\\\")\\nplt.title(\\\"Actual vs Predicted CS28\\\")\\nplt.legend()\\nplt.grid(True)\\n\\n# Improving x-axis readability\\nplt.gca().xaxis.set_major_locator(mdates.MonthLocator())  # Set ticks for each month\\nplt.gca().xaxis.set_major_formatter(\\n    mdates.DateFormatter(\\\"%Y-%m\\\")\\n)  # Format date as 'YYYY-MM-DD'\\nplt.gcf().autofmt_xdate(rotation=45)  # Rotate x-axis labels\\n\\nplt.gca().spines[\\\"top\\\"].set_visible(False)\\nplt.gca().spines[\\\"right\\\"].set_visible(False)\\n\\nplt.savefig(\\n    \\\"ecics_203_c_local_cm_btiss_dominant_top_one_pred_vs_actual_cs28_over_time.png\\\",\\n    dpi=300,\\n    bbox_inches=\\\"tight\\\",\\n)\\n\\nplt.show()\";\n",
       "                var nbb_cells = Jupyter.notebook.get_cells();\n",
       "                for (var i = 0; i < nbb_cells.length; ++i) {\n",
       "                    if (nbb_cells[i].input_prompt_number == nbb_cell_id) {\n",
       "                        if (nbb_cells[i].get_text() == nbb_unformatted_code) {\n",
       "                             nbb_cells[i].set_text(nbb_formatted_code);\n",
       "                        }\n",
       "                        break;\n",
       "                    }\n",
       "                }\n",
       "            }, 500);\n",
       "            "
      ],
      "text/plain": [
       "<IPython.core.display.Javascript object>"
      ]
     },
     "metadata": {},
     "output_type": "display_data"
    }
   ],
   "source": [
    "import matplotlib.pyplot as plt\n",
    "import matplotlib.dates as mdates\n",
    "\n",
    "plt.figure(figsize=(12, 6))\n",
    "plt.plot(\n",
    "    test_data[\"DATE\"],\n",
    "    test_data[\"CS28\"],\n",
    "    color=\"dodgerblue\",\n",
    "    alpha=0.7,\n",
    "    marker=\"o\",\n",
    "    linestyle=\"none\",\n",
    "    label=\"Actual CS28\",\n",
    ")\n",
    "plt.plot(\n",
    "    test_data[\"DATE\"],\n",
    "    test_data[\"CS28_PRED\"],\n",
    "    color=\"tomato\",\n",
    "    alpha=0.7,\n",
    "    marker=\"o\",\n",
    "    linestyle=\"none\",\n",
    "    label=\"Predicted CS28\",\n",
    ")\n",
    "plt.xlabel(\"Date\")\n",
    "plt.ylabel(\"CS28 (MPa)\")\n",
    "plt.title(\"Actual vs Predicted CS28\")\n",
    "plt.legend()\n",
    "plt.grid(True)\n",
    "\n",
    "# Improving x-axis readability\n",
    "plt.gca().xaxis.set_major_locator(mdates.MonthLocator())  # Set ticks for each month\n",
    "plt.gca().xaxis.set_major_formatter(mdates.DateFormatter('%Y-%m'))  # Format date as 'YYYY-MM-DD'\n",
    "plt.gcf().autofmt_xdate(rotation=45)  # Rotate x-axis labels\n",
    "\n",
    "plt.gca().spines[\"top\"].set_visible(False)\n",
    "plt.gca().spines[\"right\"].set_visible(False)\n",
    "\n",
    "plt.savefig(\n",
    "    \"ecics_203_c_local_cm_btiss_dominant_top_one_pred_vs_actual_cs28_over_time.png\",\n",
    "    dpi=300,\n",
    "    bbox_inches=\"tight\",\n",
    ")\n",
    "\n",
    "plt.show()\n"
   ]
  },
  {
   "cell_type": "code",
   "execution_count": 63,
   "id": "9338f3cb",
   "metadata": {},
   "outputs": [
    {
     "data": {
      "image/png": "[encoded data removed]",
      "text/plain": [
       "<Figure size 1000x600 with 1 Axes>"
      ]
     },
     "metadata": {},
     "output_type": "display_data"
    },
    {
     "data": {
      "application/javascript": [
       "\n",
       "            setTimeout(function() {\n",
       "                var nbb_cell_id = 63;\n",
       "                var nbb_unformatted_code = \"import matplotlib.pyplot as plt\\nimport matplotlib.dates as mdates\\n\\nplt.figure(figsize=(10, 6))\\nplt.plot(\\n    test_data[\\\"DATE\\\"],\\n    test_data[\\\"CS28\\\"],\\n    color=\\\"dodgerblue\\\",\\n    alpha=0.7,\\n    marker=\\\"o\\\",\\n    linestyle=\\\"none\\\",\\n    label=\\\"Actual CS28\\\",\\n)\\nplt.plot(\\n    test_data[\\\"DATE\\\"],\\n    test_data[\\\"CS28_PRED\\\"],\\n    color=\\\"tomato\\\",\\n    alpha=0.7,\\n    marker=\\\"o\\\",\\n    linestyle=\\\"none\\\",\\n    label=\\\"Predicted CS28\\\",\\n)\\nplt.xlabel(\\\"Date\\\")\\nplt.ylabel(\\\"CS28 (MPa)\\\")\\nplt.title(\\\"Actual vs Predicted CS28\\\")\\nplt.legend()\\nplt.grid(True)\\n\\n# Improved x-axis readability\\nplt.gca().xaxis.set_major_locator(mdates.MonthLocator(interval=3))  # Display every 3rd month\\nplt.gca().xaxis.set_major_formatter(mdates.DateFormatter('%Y-%m'))  # Format date as 'YYYY-MM'\\nplt.gcf().autofmt_xdate(rotation=45)  # Rotate x-axis labels for clarity\\n\\nplt.gca().spines[\\\"top\\\"].set_visible(False)\\nplt.gca().spines[\\\"right\\\"].set_visible(False)\\n\\nplt.savefig(\\n    \\\"ecics_203_c_local_cm_btiss_dominant_top_one_pred_vs_actual_cs28_over_time.png\\\",\\n    dpi=300,\\n    bbox_inches=\\\"tight\\\",\\n)\\n\\nplt.show()\";\n",
       "                var nbb_formatted_code = \"import matplotlib.pyplot as plt\\nimport matplotlib.dates as mdates\\n\\nplt.figure(figsize=(10, 6))\\nplt.plot(\\n    test_data[\\\"DATE\\\"],\\n    test_data[\\\"CS28\\\"],\\n    color=\\\"dodgerblue\\\",\\n    alpha=0.7,\\n    marker=\\\"o\\\",\\n    linestyle=\\\"none\\\",\\n    label=\\\"Actual CS28\\\",\\n)\\nplt.plot(\\n    test_data[\\\"DATE\\\"],\\n    test_data[\\\"CS28_PRED\\\"],\\n    color=\\\"tomato\\\",\\n    alpha=0.7,\\n    marker=\\\"o\\\",\\n    linestyle=\\\"none\\\",\\n    label=\\\"Predicted CS28\\\",\\n)\\nplt.xlabel(\\\"Date\\\")\\nplt.ylabel(\\\"CS28 (MPa)\\\")\\nplt.title(\\\"Actual vs Predicted CS28\\\")\\nplt.legend()\\nplt.grid(True)\\n\\n# Improved x-axis readability\\nplt.gca().xaxis.set_major_locator(\\n    mdates.MonthLocator(interval=3)\\n)  # Display every 3rd month\\nplt.gca().xaxis.set_major_formatter(\\n    mdates.DateFormatter(\\\"%Y-%m\\\")\\n)  # Format date as 'YYYY-MM'\\nplt.gcf().autofmt_xdate(rotation=45)  # Rotate x-axis labels for clarity\\n\\nplt.gca().spines[\\\"top\\\"].set_visible(False)\\nplt.gca().spines[\\\"right\\\"].set_visible(False)\\n\\nplt.savefig(\\n    \\\"ecics_203_c_local_cm_btiss_dominant_top_one_pred_vs_actual_cs28_over_time.png\\\",\\n    dpi=300,\\n    bbox_inches=\\\"tight\\\",\\n)\\n\\nplt.show()\";\n",
       "                var nbb_cells = Jupyter.notebook.get_cells();\n",
       "                for (var i = 0; i < nbb_cells.length; ++i) {\n",
       "                    if (nbb_cells[i].input_prompt_number == nbb_cell_id) {\n",
       "                        if (nbb_cells[i].get_text() == nbb_unformatted_code) {\n",
       "                             nbb_cells[i].set_text(nbb_formatted_code);\n",
       "                        }\n",
       "                        break;\n",
       "                    }\n",
       "                }\n",
       "            }, 500);\n",
       "            "
      ],
      "text/plain": [
       "<IPython.core.display.Javascript object>"
      ]
     },
     "metadata": {},
     "output_type": "display_data"
    }
   ],
   "source": [
    "import matplotlib.pyplot as plt\n",
    "import matplotlib.dates as mdates\n",
    "\n",
    "plt.figure(figsize=(10, 6))\n",
    "plt.plot(\n",
    "    test_data[\"DATE\"],\n",
    "    test_data[\"CS28\"],\n",
    "    color=\"dodgerblue\",\n",
    "    alpha=0.7,\n",
    "    marker=\"o\",\n",
    "    linestyle=\"none\",\n",
    "    label=\"Actual CS28\",\n",
    ")\n",
    "plt.plot(\n",
    "    test_data[\"DATE\"],\n",
    "    test_data[\"CS28_PRED\"],\n",
    "    color=\"tomato\",\n",
    "    alpha=0.7,\n",
    "    marker=\"o\",\n",
    "    linestyle=\"none\",\n",
    "    label=\"Predicted CS28\",\n",
    ")\n",
    "plt.xlabel(\"Date\")\n",
    "plt.ylabel(\"CS28 (MPa)\")\n",
    "plt.title(\"Actual vs Predicted CS28\")\n",
    "plt.legend()\n",
    "plt.grid(True)\n",
    "\n",
    "# Improved x-axis readability\n",
    "plt.gca().xaxis.set_major_locator(mdates.MonthLocator(interval=3))  # Display every 3rd month\n",
    "plt.gca().xaxis.set_major_formatter(mdates.DateFormatter('%Y-%m'))  # Format date as 'YYYY-MM'\n",
    "plt.gcf().autofmt_xdate(rotation=45)  # Rotate x-axis labels for clarity\n",
    "\n",
    "plt.gca().spines[\"top\"].set_visible(False)\n",
    "plt.gca().spines[\"right\"].set_visible(False)\n",
    "\n",
    "plt.savefig(\n",
    "    \"ecics_203_c_local_cm_btiss_dominant_top_one_pred_vs_actual_cs28_over_time.png\",\n",
    "    dpi=300,\n",
    "    bbox_inches=\"tight\",\n",
    ")\n",
    "\n",
    "plt.show()\n"
   ]
  },
  {
   "cell_type": "markdown",
   "id": "b8df764b",
   "metadata": {},
   "source": [
    "# Feature Importance"
   ]
  },
  {
   "cell_type": "code",
   "execution_count": 64,
   "id": "c703dcb6",
   "metadata": {},
   "outputs": [
    {
     "data": {
      "application/javascript": [
       "\n",
       "            setTimeout(function() {\n",
       "                var nbb_cell_id = 64;\n",
       "                var nbb_unformatted_code = \"def permutation_importance_seq(model, X, y, metric, n_repeats=5):\\n    \\\"\\\"\\\"\\n    Computes permutation importance for sequence models with 3D input.\\n    \\\"\\\"\\\"\\n    baseline_score = metric(y, model.predict(X))\\n    num_features = X.shape[2]  # Number of features\\n    importances = np.zeros(num_features)\\n    set_seeds()\\n    for i in range(num_features):\\n        scores = []\\n        for _ in range(n_repeats):\\n            X_permuted = X.copy()\\n            # Shuffle feature i across samples, keeping time steps intact\\n            for t in range(X.shape[1]):\\n                # Extract the feature values at time t\\n                feature_values = X_permuted[:, t, i]\\n                np.random.shuffle(feature_values)\\n                X_permuted[:, t, i] = feature_values\\n            # Compute metric with permuted data\\n            permuted_score = metric(y, model.predict(X_permuted, verbose=0))\\n            scores.append(permuted_score)\\n        # Importance is the increase in metric when the feature is permuted\\n        importances[i] = baseline_score - np.mean(scores)\\n    return importances\";\n",
       "                var nbb_formatted_code = \"def permutation_importance_seq(model, X, y, metric, n_repeats=5):\\n    \\\"\\\"\\\"\\n    Computes permutation importance for sequence models with 3D input.\\n    \\\"\\\"\\\"\\n    baseline_score = metric(y, model.predict(X))\\n    num_features = X.shape[2]  # Number of features\\n    importances = np.zeros(num_features)\\n    set_seeds()\\n    for i in range(num_features):\\n        scores = []\\n        for _ in range(n_repeats):\\n            X_permuted = X.copy()\\n            # Shuffle feature i across samples, keeping time steps intact\\n            for t in range(X.shape[1]):\\n                # Extract the feature values at time t\\n                feature_values = X_permuted[:, t, i]\\n                np.random.shuffle(feature_values)\\n                X_permuted[:, t, i] = feature_values\\n            # Compute metric with permuted data\\n            permuted_score = metric(y, model.predict(X_permuted, verbose=0))\\n            scores.append(permuted_score)\\n        # Importance is the increase in metric when the feature is permuted\\n        importances[i] = baseline_score - np.mean(scores)\\n    return importances\";\n",
       "                var nbb_cells = Jupyter.notebook.get_cells();\n",
       "                for (var i = 0; i < nbb_cells.length; ++i) {\n",
       "                    if (nbb_cells[i].input_prompt_number == nbb_cell_id) {\n",
       "                        if (nbb_cells[i].get_text() == nbb_unformatted_code) {\n",
       "                             nbb_cells[i].set_text(nbb_formatted_code);\n",
       "                        }\n",
       "                        break;\n",
       "                    }\n",
       "                }\n",
       "            }, 500);\n",
       "            "
      ],
      "text/plain": [
       "<IPython.core.display.Javascript object>"
      ]
     },
     "metadata": {},
     "output_type": "display_data"
    }
   ],
   "source": [
    "def permutation_importance_seq(model, X, y, metric, n_repeats=5):\n",
    "    \"\"\"\n",
    "    Computes permutation importance for sequence models with 3D input.\n",
    "    \"\"\"\n",
    "    baseline_score = metric(y, model.predict(X))\n",
    "    num_features = X.shape[2]  # Number of features\n",
    "    importances = np.zeros(num_features)\n",
    "    set_seeds()\n",
    "    for i in range(num_features):\n",
    "        scores = []\n",
    "        for _ in range(n_repeats):\n",
    "            X_permuted = X.copy()\n",
    "            # Shuffle feature i across samples, keeping time steps intact\n",
    "            for t in range(X.shape[1]):\n",
    "                # Extract the feature values at time t\n",
    "                feature_values = X_permuted[:, t, i]\n",
    "                np.random.shuffle(feature_values)\n",
    "                X_permuted[:, t, i] = feature_values\n",
    "            # Compute metric with permuted data\n",
    "            permuted_score = metric(y, model.predict(X_permuted, verbose=0))\n",
    "            scores.append(permuted_score)\n",
    "        # Importance is the increase in metric when the feature is permuted\n",
    "        importances[i] = baseline_score - np.mean(scores)\n",
    "    return importances"
   ]
  },
  {
   "cell_type": "code",
   "execution_count": 65,
   "id": "0d7b58bc",
   "metadata": {},
   "outputs": [
    {
     "name": "stderr",
     "output_type": "stream",
     "text": [
      "\r",
      "0it [00:00, ?it/s]"
     ]
    },
    {
     "name": "stdout",
     "output_type": "stream",
     "text": [
      "4/4 [==============================] - 0s 4ms/step\n"
     ]
    },
    {
     "name": "stderr",
     "output_type": "stream",
     "text": [
      "\r",
      "1it [00:06,  6.44s/it]"
     ]
    },
    {
     "name": "stdout",
     "output_type": "stream",
     "text": [
      "4/4 [==============================] - 0s 3ms/step\n"
     ]
    },
    {
     "name": "stderr",
     "output_type": "stream",
     "text": [
      "\r",
      "2it [00:13,  6.54s/it]"
     ]
    },
    {
     "name": "stdout",
     "output_type": "stream",
     "text": [
      "4/4 [==============================] - 0s 2ms/step\n"
     ]
    },
    {
     "name": "stderr",
     "output_type": "stream",
     "text": [
      "\r",
      "3it [00:19,  6.50s/it]"
     ]
    },
    {
     "name": "stdout",
     "output_type": "stream",
     "text": [
      "4/4 [==============================] - 0s 3ms/step\n"
     ]
    },
    {
     "name": "stderr",
     "output_type": "stream",
     "text": [
      "\r",
      "4it [00:26,  6.52s/it]"
     ]
    },
    {
     "name": "stdout",
     "output_type": "stream",
     "text": [
      "4/4 [==============================] - 0s 3ms/step\n"
     ]
    },
    {
     "name": "stderr",
     "output_type": "stream",
     "text": [
      "\r",
      "5it [00:32,  6.50s/it]"
     ]
    },
    {
     "name": "stdout",
     "output_type": "stream",
     "text": [
      "4/4 [==============================] - 0s 3ms/step\n"
     ]
    },
    {
     "name": "stderr",
     "output_type": "stream",
     "text": [
      "\r",
      "6it [00:39,  6.49s/it]"
     ]
    },
    {
     "name": "stdout",
     "output_type": "stream",
     "text": [
      "4/4 [==============================] - 0s 3ms/step\n"
     ]
    },
    {
     "name": "stderr",
     "output_type": "stream",
     "text": [
      "\r",
      "7it [00:45,  6.50s/it]"
     ]
    },
    {
     "name": "stdout",
     "output_type": "stream",
     "text": [
      "4/4 [==============================] - 0s 3ms/step\n"
     ]
    },
    {
     "name": "stderr",
     "output_type": "stream",
     "text": [
      "\r",
      "8it [00:52,  6.53s/it]"
     ]
    },
    {
     "name": "stdout",
     "output_type": "stream",
     "text": [
      "4/4 [==============================] - 0s 3ms/step\n"
     ]
    },
    {
     "name": "stderr",
     "output_type": "stream",
     "text": [
      "\r",
      "9it [00:58,  6.54s/it]"
     ]
    },
    {
     "name": "stdout",
     "output_type": "stream",
     "text": [
      "4/4 [==============================] - 0s 3ms/step\n"
     ]
    },
    {
     "name": "stderr",
     "output_type": "stream",
     "text": [
      "\r",
      "10it [01:05,  6.56s/it]"
     ]
    },
    {
     "name": "stdout",
     "output_type": "stream",
     "text": [
      "4/4 [==============================] - 0s 3ms/step\n"
     ]
    },
    {
     "name": "stderr",
     "output_type": "stream",
     "text": [
      "\r",
      "11it [01:11,  6.61s/it]"
     ]
    },
    {
     "name": "stdout",
     "output_type": "stream",
     "text": [
      "4/4 [==============================] - 0s 3ms/step\n"
     ]
    },
    {
     "name": "stderr",
     "output_type": "stream",
     "text": [
      "\r",
      "12it [01:18,  6.69s/it]"
     ]
    },
    {
     "name": "stdout",
     "output_type": "stream",
     "text": [
      "4/4 [==============================] - 0s 3ms/step\n"
     ]
    },
    {
     "name": "stderr",
     "output_type": "stream",
     "text": [
      "\r",
      "13it [01:25,  6.69s/it]"
     ]
    },
    {
     "name": "stdout",
     "output_type": "stream",
     "text": [
      "4/4 [==============================] - 0s 3ms/step\n"
     ]
    },
    {
     "name": "stderr",
     "output_type": "stream",
     "text": [
      "\r",
      "14it [01:32,  6.80s/it]"
     ]
    },
    {
     "name": "stdout",
     "output_type": "stream",
     "text": [
      "4/4 [==============================] - 0s 3ms/step\n"
     ]
    },
    {
     "name": "stderr",
     "output_type": "stream",
     "text": [
      "15it [01:40,  6.69s/it]\n"
     ]
    },
    {
     "data": {
      "application/javascript": [
       "\n",
       "            setTimeout(function() {\n",
       "                var nbb_cell_id = 65;\n",
       "                var nbb_unformatted_code = \"from sklearn.metrics import mean_squared_error\\nfrom sklearn.metrics import r2_score\\n\\nfrom tqdm import tqdm\\n\\nfeature_importances = []\\n\\nfor idx, (imputer, scaler, estimator) in tqdm(enumerate(pipelines_final)):\\n    train_index = indices_final[\\\"train\\\"][idx]\\n    x_train = x.iloc[train_index].reset_index(drop=True)\\n    y_train = y.iloc[train_index].reset_index(drop=True)\\n\\n    test_index = indices_final[\\\"test\\\"][idx]\\n    x_test = x.iloc[test_index].reset_index(drop=True)\\n    y_test = y.iloc[test_index].reset_index(drop=True)\\n\\n    # Preprocess x_test\\n    x_test_imputed = imputer.transform(x_test)\\n    x_test_scaled = scaler.transform(x_test_imputed)\\n\\n    # Generate sequences\\n    dataset = {\\n        \\\"x_train\\\": x_test_scaled,\\n        \\\"y_train\\\": y_test,\\n        \\\"x_test\\\": x_test_scaled,\\n        \\\"y_test\\\": y_test,\\n    }\\n    dataset = generate_sequences(\\n        dataset, params[\\\"timesteps\\\"], split_by_cement_type=False\\n    )\\n    x_test_seq = dataset[\\\"x_test\\\"]\\n    y_test_seq = dataset[\\\"y_test\\\"]\\n\\n    # Compute permutation importance\\n    importances = permutation_importance_seq(\\n        estimator, x_test_seq, y_test_seq, r2_score, n_repeats=10\\n    )\\n    feature_importances.append(importances)\";\n",
       "                var nbb_formatted_code = \"from sklearn.metrics import mean_squared_error\\nfrom sklearn.metrics import r2_score\\n\\nfrom tqdm import tqdm\\n\\nfeature_importances = []\\n\\nfor idx, (imputer, scaler, estimator) in tqdm(enumerate(pipelines_final)):\\n    train_index = indices_final[\\\"train\\\"][idx]\\n    x_train = x.iloc[train_index].reset_index(drop=True)\\n    y_train = y.iloc[train_index].reset_index(drop=True)\\n\\n    test_index = indices_final[\\\"test\\\"][idx]\\n    x_test = x.iloc[test_index].reset_index(drop=True)\\n    y_test = y.iloc[test_index].reset_index(drop=True)\\n\\n    # Preprocess x_test\\n    x_test_imputed = imputer.transform(x_test)\\n    x_test_scaled = scaler.transform(x_test_imputed)\\n\\n    # Generate sequences\\n    dataset = {\\n        \\\"x_train\\\": x_test_scaled,\\n        \\\"y_train\\\": y_test,\\n        \\\"x_test\\\": x_test_scaled,\\n        \\\"y_test\\\": y_test,\\n    }\\n    dataset = generate_sequences(\\n        dataset, params[\\\"timesteps\\\"], split_by_cement_type=False\\n    )\\n    x_test_seq = dataset[\\\"x_test\\\"]\\n    y_test_seq = dataset[\\\"y_test\\\"]\\n\\n    # Compute permutation importance\\n    importances = permutation_importance_seq(\\n        estimator, x_test_seq, y_test_seq, r2_score, n_repeats=10\\n    )\\n    feature_importances.append(importances)\";\n",
       "                var nbb_cells = Jupyter.notebook.get_cells();\n",
       "                for (var i = 0; i < nbb_cells.length; ++i) {\n",
       "                    if (nbb_cells[i].input_prompt_number == nbb_cell_id) {\n",
       "                        if (nbb_cells[i].get_text() == nbb_unformatted_code) {\n",
       "                             nbb_cells[i].set_text(nbb_formatted_code);\n",
       "                        }\n",
       "                        break;\n",
       "                    }\n",
       "                }\n",
       "            }, 500);\n",
       "            "
      ],
      "text/plain": [
       "<IPython.core.display.Javascript object>"
      ]
     },
     "metadata": {},
     "output_type": "display_data"
    }
   ],
   "source": [
    "from sklearn.metrics import mean_squared_error\n",
    "from sklearn.metrics import r2_score\n",
    "\n",
    "from tqdm import tqdm\n",
    "\n",
    "feature_importances = []\n",
    "\n",
    "for idx, (imputer, scaler, estimator) in tqdm(enumerate(pipelines_final)):\n",
    "    train_index = indices_final[\"train\"][idx]\n",
    "    x_train = x.iloc[train_index].reset_index(drop=True)\n",
    "    y_train = y.iloc[train_index].reset_index(drop=True)\n",
    "\n",
    "    test_index = indices_final[\"test\"][idx]\n",
    "    x_test = x.iloc[test_index].reset_index(drop=True)\n",
    "    y_test = y.iloc[test_index].reset_index(drop=True)\n",
    "\n",
    "    # Preprocess x_test\n",
    "    x_test_imputed = imputer.transform(x_test)\n",
    "    x_test_scaled = scaler.transform(x_test_imputed)\n",
    "\n",
    "    # Generate sequences\n",
    "    dataset = {\n",
    "        \"x_train\": x_test_scaled,\n",
    "        \"y_train\": y_test,\n",
    "        \"x_test\": x_test_scaled,\n",
    "        \"y_test\": y_test,\n",
    "    }\n",
    "    dataset = generate_sequences(\n",
    "        dataset, params[\"timesteps\"], split_by_cement_type=False\n",
    "    )\n",
    "    x_test_seq = dataset[\"x_test\"]\n",
    "    y_test_seq = dataset[\"y_test\"]\n",
    "\n",
    "    # Compute permutation importance\n",
    "    importances = permutation_importance_seq(\n",
    "        estimator, x_test_seq, y_test_seq, r2_score, n_repeats=10\n",
    "    )\n",
    "    feature_importances.append(importances)"
   ]
  },
  {
   "cell_type": "code",
   "execution_count": 66,
   "id": "2a9d3eea",
   "metadata": {},
   "outputs": [
    {
     "data": {
      "application/javascript": [
       "\n",
       "            setTimeout(function() {\n",
       "                var nbb_cell_id = 66;\n",
       "                var nbb_unformatted_code = \"import numpy as np\\nimport pandas as pd\\n\\n# Average importances across folds\\nmean_importances = np.mean(feature_importances, axis=0)\\n\\n# importances_df = pd.DataFrame(feature_importances, columns=x.columns)\\n# Transpose the list of arrays so that each row corresponds to a permutation/model, and each column to a feature\\nimportances_df = pd.DataFrame(feature_importances)\\n\\n# Assign the feature names to the columns\\nimportances_df.columns = x.columns\\n\\n# Map importances to feature names\\nimportances_df_mean = (\\n    importances_df.mean(axis=0)\\n    .to_frame()\\n    .reset_index(0)\\n    .rename({\\\"index\\\": \\\"Feature\\\", 0: \\\"Importance\\\"}, axis=1)\\n)\";\n",
       "                var nbb_formatted_code = \"import numpy as np\\nimport pandas as pd\\n\\n# Average importances across folds\\nmean_importances = np.mean(feature_importances, axis=0)\\n\\n# importances_df = pd.DataFrame(feature_importances, columns=x.columns)\\n# Transpose the list of arrays so that each row corresponds to a permutation/model, and each column to a feature\\nimportances_df = pd.DataFrame(feature_importances)\\n\\n# Assign the feature names to the columns\\nimportances_df.columns = x.columns\\n\\n# Map importances to feature names\\nimportances_df_mean = (\\n    importances_df.mean(axis=0)\\n    .to_frame()\\n    .reset_index(0)\\n    .rename({\\\"index\\\": \\\"Feature\\\", 0: \\\"Importance\\\"}, axis=1)\\n)\";\n",
       "                var nbb_cells = Jupyter.notebook.get_cells();\n",
       "                for (var i = 0; i < nbb_cells.length; ++i) {\n",
       "                    if (nbb_cells[i].input_prompt_number == nbb_cell_id) {\n",
       "                        if (nbb_cells[i].get_text() == nbb_unformatted_code) {\n",
       "                             nbb_cells[i].set_text(nbb_formatted_code);\n",
       "                        }\n",
       "                        break;\n",
       "                    }\n",
       "                }\n",
       "            }, 500);\n",
       "            "
      ],
      "text/plain": [
       "<IPython.core.display.Javascript object>"
      ]
     },
     "metadata": {},
     "output_type": "display_data"
    }
   ],
   "source": [
    "import numpy as np\n",
    "import pandas as pd\n",
    "\n",
    "# Average importances across folds\n",
    "mean_importances = np.mean(feature_importances, axis=0)\n",
    "\n",
    "# importances_df = pd.DataFrame(feature_importances, columns=x.columns)\n",
    "# Transpose the list of arrays so that each row corresponds to a permutation/model, and each column to a feature\n",
    "importances_df = pd.DataFrame(feature_importances)\n",
    "\n",
    "# Assign the feature names to the columns\n",
    "importances_df.columns = x.columns\n",
    "\n",
    "# Map importances to feature names\n",
    "importances_df_mean = (\n",
    "    importances_df.mean(axis=0)\n",
    "    .to_frame()\n",
    "    .reset_index(0)\n",
    "    .rename({\"index\": \"Feature\", 0: \"Importance\"}, axis=1)\n",
    ")"
   ]
  },
  {
   "cell_type": "code",
   "execution_count": 67,
   "id": "0fe5ebd3",
   "metadata": {},
   "outputs": [
    {
     "data": {
      "application/javascript": [
       "\n",
       "            setTimeout(function() {\n",
       "                var nbb_cell_id = 67;\n",
       "                var nbb_unformatted_code = \"rename_dict = {\\n    \\\"K2O\\\": r\\\"$\\\\mathrm{K_2O}$\\\",\\n    \\\"Free CaO\\\": r\\\"Free $\\\\mathrm{CaO}$\\\",\\n    \\\"Total C2S\\\": r\\\"Total $\\\\mathrm{C_2S}$\\\",\\n    \\\"Na2O\\\": r\\\"$\\\\mathrm{Na_2O}$\\\",\\n    \\\"CaO\\\": r\\\"$\\\\mathrm{CaO}$\\\",\\n    \\\"SiO2\\\": r\\\"$\\\\mathrm{SiO_2}$\\\",\\n    \\\"MgO\\\": r\\\"$\\\\mathrm{MgO}$\\\",\\n    \\\"Fe2O3\\\": r\\\"$\\\\mathrm{Fe_2O_3}$\\\",\\n    \\\"Al2O3\\\": r\\\"$\\\\mathrm{Al_2O_3}$\\\",\\n    \\\"Total C3S\\\": r\\\"Total $\\\\mathrm{C_3S}$\\\",\\n    \\\"C3A\\\": r\\\"$\\\\mathrm{C_3A}$\\\",\\n    \\\"C4AF\\\": r\\\"$\\\\mathrm{C_4AF}$\\\",\\n    \\\"LOI\\\": \\\"LOI\\\",\\n    \\\"SO3\\\": r\\\"$\\\\mathrm{SO_3}$\\\",\\n    \\\"Insoluble Residue\\\": \\\"IR\\\",\\n}\\n\\nimportances_df = importances_df.rename(rename_dict, axis=1)\\nimportances_df_mean[\\\"Feature\\\"] = importances_df_mean[\\\"Feature\\\"].replace(rename_dict)\";\n",
       "                var nbb_formatted_code = \"rename_dict = {\\n    \\\"K2O\\\": r\\\"$\\\\mathrm{K_2O}$\\\",\\n    \\\"Free CaO\\\": r\\\"Free $\\\\mathrm{CaO}$\\\",\\n    \\\"Total C2S\\\": r\\\"Total $\\\\mathrm{C_2S}$\\\",\\n    \\\"Na2O\\\": r\\\"$\\\\mathrm{Na_2O}$\\\",\\n    \\\"CaO\\\": r\\\"$\\\\mathrm{CaO}$\\\",\\n    \\\"SiO2\\\": r\\\"$\\\\mathrm{SiO_2}$\\\",\\n    \\\"MgO\\\": r\\\"$\\\\mathrm{MgO}$\\\",\\n    \\\"Fe2O3\\\": r\\\"$\\\\mathrm{Fe_2O_3}$\\\",\\n    \\\"Al2O3\\\": r\\\"$\\\\mathrm{Al_2O_3}$\\\",\\n    \\\"Total C3S\\\": r\\\"Total $\\\\mathrm{C_3S}$\\\",\\n    \\\"C3A\\\": r\\\"$\\\\mathrm{C_3A}$\\\",\\n    \\\"C4AF\\\": r\\\"$\\\\mathrm{C_4AF}$\\\",\\n    \\\"LOI\\\": \\\"LOI\\\",\\n    \\\"SO3\\\": r\\\"$\\\\mathrm{SO_3}$\\\",\\n    \\\"Insoluble Residue\\\": \\\"IR\\\",\\n}\\n\\nimportances_df = importances_df.rename(rename_dict, axis=1)\\nimportances_df_mean[\\\"Feature\\\"] = importances_df_mean[\\\"Feature\\\"].replace(rename_dict)\";\n",
       "                var nbb_cells = Jupyter.notebook.get_cells();\n",
       "                for (var i = 0; i < nbb_cells.length; ++i) {\n",
       "                    if (nbb_cells[i].input_prompt_number == nbb_cell_id) {\n",
       "                        if (nbb_cells[i].get_text() == nbb_unformatted_code) {\n",
       "                             nbb_cells[i].set_text(nbb_formatted_code);\n",
       "                        }\n",
       "                        break;\n",
       "                    }\n",
       "                }\n",
       "            }, 500);\n",
       "            "
      ],
      "text/plain": [
       "<IPython.core.display.Javascript object>"
      ]
     },
     "metadata": {},
     "output_type": "display_data"
    }
   ],
   "source": [
    "rename_dict = {\n",
    "    \"K2O\": r\"$\\mathrm{K_2O}$\",\n",
    "    \"Free CaO\": r\"Free $\\mathrm{CaO}$\",\n",
    "    \"Total C2S\": r\"Total $\\mathrm{C_2S}$\",\n",
    "    \"Na2O\": r\"$\\mathrm{Na_2O}$\",\n",
    "    \"CaO\": r\"$\\mathrm{CaO}$\",\n",
    "    \"SiO2\": r\"$\\mathrm{SiO_2}$\",\n",
    "    \"MgO\": r\"$\\mathrm{MgO}$\",\n",
    "    \"Fe2O3\": r\"$\\mathrm{Fe_2O_3}$\",\n",
    "    \"Al2O3\": r\"$\\mathrm{Al_2O_3}$\",\n",
    "    \"Total C3S\": r\"Total $\\mathrm{C_3S}$\",\n",
    "    \"C3A\": r\"$\\mathrm{C_3A}$\",\n",
    "    \"C4AF\": r\"$\\mathrm{C_4AF}$\",\n",
    "    \"LOI\": \"LOI\",\n",
    "    \"SO3\": r\"$\\mathrm{SO_3}$\",\n",
    "    \"Insoluble Residue\": \"IR\",\n",
    "}\n",
    "\n",
    "importances_df = importances_df.rename(rename_dict, axis=1)\n",
    "importances_df_mean[\"Feature\"] = importances_df_mean[\"Feature\"].replace(rename_dict)"
   ]
  },
  {
   "cell_type": "code",
   "execution_count": 68,
   "id": "84264d77",
   "metadata": {},
   "outputs": [
    {
     "name": "stderr",
     "output_type": "stream",
     "text": [
      "/home/peressim/virtual_environments/ccs28-venv/lib/python3.10/site-packages/seaborn/_oldcore.py:1498: FutureWarning: is_categorical_dtype is deprecated and will be removed in a future version. Use isinstance(dtype, CategoricalDtype) instead\n",
      "  if pd.api.types.is_categorical_dtype(vector):\n",
      "/home/peressim/virtual_environments/ccs28-venv/lib/python3.10/site-packages/seaborn/_oldcore.py:1498: FutureWarning: is_categorical_dtype is deprecated and will be removed in a future version. Use isinstance(dtype, CategoricalDtype) instead\n",
      "  if pd.api.types.is_categorical_dtype(vector):\n",
      "/home/peressim/virtual_environments/ccs28-venv/lib/python3.10/site-packages/seaborn/_oldcore.py:1498: FutureWarning: is_categorical_dtype is deprecated and will be removed in a future version. Use isinstance(dtype, CategoricalDtype) instead\n",
      "  if pd.api.types.is_categorical_dtype(vector):\n"
     ]
    },
    {
     "data": {
      "image/png": "[encoded data removed]",
      "text/plain": [
       "<Figure size 1000x600 with 1 Axes>"
      ]
     },
     "metadata": {},
     "output_type": "display_data"
    },
    {
     "data": {
      "application/javascript": [
       "\n",
       "            setTimeout(function() {\n",
       "                var nbb_cell_id = 68;\n",
       "                var nbb_unformatted_code = \"import matplotlib.pyplot as plt\\nimport seaborn as sns\\n\\n# Sort importances\\nmean_importances_df = importances_df_mean.sort_values(by='Importance', ascending=False).round(2)\\n\\n# Plot\\nplt.figure(figsize=(10, 6))\\nsns.barplot(x='Importance', y='Feature', data=mean_importances_df, color=\\\"lightsteelblue\\\")\\nplt.title(\\\"Variable Relevance\\\")\\nplt.xlabel(\\\"Relevance (Permutation)\\\")\\nplt.ylabel(\\\"Features\\\")\\nplt.grid(axis=\\\"x\\\", linestyle=\\\"--\\\", alpha=0.7)\\nplt.tight_layout()\\n# plt.savefig(\\n#     \\\"variable_relevance.png\\\",\\n#     dpi=300,\\n#     bbox_inches=\\\"tight\\\",\\n# )\\nplt.show()\";\n",
       "                var nbb_formatted_code = \"import matplotlib.pyplot as plt\\nimport seaborn as sns\\n\\n# Sort importances\\nmean_importances_df = importances_df_mean.sort_values(\\n    by=\\\"Importance\\\", ascending=False\\n).round(2)\\n\\n# Plot\\nplt.figure(figsize=(10, 6))\\nsns.barplot(\\n    x=\\\"Importance\\\", y=\\\"Feature\\\", data=mean_importances_df, color=\\\"lightsteelblue\\\"\\n)\\nplt.title(\\\"Variable Relevance\\\")\\nplt.xlabel(\\\"Relevance (Permutation)\\\")\\nplt.ylabel(\\\"Features\\\")\\nplt.grid(axis=\\\"x\\\", linestyle=\\\"--\\\", alpha=0.7)\\nplt.tight_layout()\\n# plt.savefig(\\n#     \\\"variable_relevance.png\\\",\\n#     dpi=300,\\n#     bbox_inches=\\\"tight\\\",\\n# )\\nplt.show()\";\n",
       "                var nbb_cells = Jupyter.notebook.get_cells();\n",
       "                for (var i = 0; i < nbb_cells.length; ++i) {\n",
       "                    if (nbb_cells[i].input_prompt_number == nbb_cell_id) {\n",
       "                        if (nbb_cells[i].get_text() == nbb_unformatted_code) {\n",
       "                             nbb_cells[i].set_text(nbb_formatted_code);\n",
       "                        }\n",
       "                        break;\n",
       "                    }\n",
       "                }\n",
       "            }, 500);\n",
       "            "
      ],
      "text/plain": [
       "<IPython.core.display.Javascript object>"
      ]
     },
     "metadata": {},
     "output_type": "display_data"
    }
   ],
   "source": [
    "import matplotlib.pyplot as plt\n",
    "import seaborn as sns\n",
    "\n",
    "# Sort importances\n",
    "mean_importances_df = importances_df_mean.sort_values(\n",
    "    by=\"Importance\", ascending=False\n",
    ").round(2)\n",
    "\n",
    "# Plot\n",
    "plt.figure(figsize=(10, 6))\n",
    "sns.barplot(\n",
    "    x=\"Importance\", y=\"Feature\", data=mean_importances_df, color=\"lightsteelblue\"\n",
    ")\n",
    "plt.title(\"Variable Relevance\")\n",
    "plt.xlabel(\"Relevance (Permutation)\")\n",
    "plt.ylabel(\"Features\")\n",
    "plt.grid(axis=\"x\", linestyle=\"--\", alpha=0.7)\n",
    "plt.tight_layout()\n",
    "# plt.savefig(\n",
    "#     \"variable_relevance.png\",\n",
    "#     dpi=300,\n",
    "#     bbox_inches=\"tight\",\n",
    "# )\n",
    "plt.show()"
   ]
  },
  {
   "cell_type": "code",
   "execution_count": 71,
   "id": "11d51e52",
   "metadata": {},
   "outputs": [
    {
     "name": "stderr",
     "output_type": "stream",
     "text": [
      "/home/peressim/virtual_environments/ccs28-venv/lib/python3.10/site-packages/seaborn/_oldcore.py:1498: FutureWarning: is_categorical_dtype is deprecated and will be removed in a future version. Use isinstance(dtype, CategoricalDtype) instead\n",
      "  if pd.api.types.is_categorical_dtype(vector):\n",
      "/home/peressim/virtual_environments/ccs28-venv/lib/python3.10/site-packages/seaborn/_oldcore.py:1498: FutureWarning: is_categorical_dtype is deprecated and will be removed in a future version. Use isinstance(dtype, CategoricalDtype) instead\n",
      "  if pd.api.types.is_categorical_dtype(vector):\n",
      "/home/peressim/virtual_environments/ccs28-venv/lib/python3.10/site-packages/seaborn/_oldcore.py:1498: FutureWarning: is_categorical_dtype is deprecated and will be removed in a future version. Use isinstance(dtype, CategoricalDtype) instead\n",
      "  if pd.api.types.is_categorical_dtype(vector):\n",
      "/home/peressim/virtual_environments/ccs28-venv/lib/python3.10/site-packages/seaborn/_oldcore.py:1498: FutureWarning: is_categorical_dtype is deprecated and will be removed in a future version. Use isinstance(dtype, CategoricalDtype) instead\n",
      "  if pd.api.types.is_categorical_dtype(vector):\n",
      "/home/peressim/virtual_environments/ccs28-venv/lib/python3.10/site-packages/seaborn/_oldcore.py:1498: FutureWarning: is_categorical_dtype is deprecated and will be removed in a future version. Use isinstance(dtype, CategoricalDtype) instead\n",
      "  if pd.api.types.is_categorical_dtype(vector):\n",
      "/home/peressim/virtual_environments/ccs28-venv/lib/python3.10/site-packages/seaborn/_oldcore.py:1498: FutureWarning: is_categorical_dtype is deprecated and will be removed in a future version. Use isinstance(dtype, CategoricalDtype) instead\n",
      "  if pd.api.types.is_categorical_dtype(vector):\n",
      "/home/peressim/virtual_environments/ccs28-venv/lib/python3.10/site-packages/seaborn/_oldcore.py:1498: FutureWarning: is_categorical_dtype is deprecated and will be removed in a future version. Use isinstance(dtype, CategoricalDtype) instead\n",
      "  if pd.api.types.is_categorical_dtype(vector):\n",
      "/home/peressim/virtual_environments/ccs28-venv/lib/python3.10/site-packages/seaborn/_oldcore.py:1498: FutureWarning: is_categorical_dtype is deprecated and will be removed in a future version. Use isinstance(dtype, CategoricalDtype) instead\n",
      "  if pd.api.types.is_categorical_dtype(vector):\n",
      "/home/peressim/virtual_environments/ccs28-venv/lib/python3.10/site-packages/seaborn/_oldcore.py:1498: FutureWarning: is_categorical_dtype is deprecated and will be removed in a future version. Use isinstance(dtype, CategoricalDtype) instead\n",
      "  if pd.api.types.is_categorical_dtype(vector):\n",
      "/home/peressim/virtual_environments/ccs28-venv/lib/python3.10/site-packages/seaborn/_oldcore.py:1498: FutureWarning: is_categorical_dtype is deprecated and will be removed in a future version. Use isinstance(dtype, CategoricalDtype) instead\n",
      "  if pd.api.types.is_categorical_dtype(vector):\n",
      "/home/peressim/virtual_environments/ccs28-venv/lib/python3.10/site-packages/seaborn/_oldcore.py:1498: FutureWarning: is_categorical_dtype is deprecated and will be removed in a future version. Use isinstance(dtype, CategoricalDtype) instead\n",
      "  if pd.api.types.is_categorical_dtype(vector):\n"
     ]
    },
    {
     "data": {
      "image/png": "[encoded data removed]",
      "text/plain": [
       "<Figure size 1000x550 with 1 Axes>"
      ]
     },
     "metadata": {},
     "output_type": "display_data"
    },
    {
     "data": {
      "application/javascript": [
       "\n",
       "            setTimeout(function() {\n",
       "                var nbb_cell_id = 71;\n",
       "                var nbb_unformatted_code = \"perm_importances_df = importances_df\\n\\n\\n# Calculate the mean importance for each feature\\nmean_importances = perm_importances_df.mean().sort_values()\\n\\n# Reorder the DataFrame columns based on mean importance\\nperm_importances_df = perm_importances_df[mean_importances.index]\\n\\n\\n# Backup the original backend\\noriginal_backend = plt.get_backend()\\n\\n# Update font settings to default\\nplt.rcParams.update(\\n    {\\n        \\\"font.family\\\": \\\"sans-serif\\\",\\n        \\\"font.sans-serif\\\": [\\\"DejaVu Sans\\\"],\\n        \\\"font.size\\\": 10,\\n        \\\"text.usetex\\\": False,  # Use MathText, not LaTeX\\n    }\\n)\\n\\n# Convert chemical formulas using MathText syntax\\nperm_importances_df_plot = perm_importances_df.rename(\\n    columns={\\n        \\\"K2O\\\": r\\\"$\\\\mathrm{K_2O}$\\\",\\n        \\\"Free CaO\\\": r\\\"Free $\\\\mathrm{CaO}$\\\",\\n        \\\"Total C2S\\\": r\\\"Total $\\\\mathrm{C_2S}$\\\",\\n        \\\"Na2O\\\": r\\\"$\\\\mathrm{Na_2O}$\\\",\\n        \\\"CaO\\\": r\\\"$\\\\mathrm{CaO}$\\\",\\n        \\\"SiO2\\\": r\\\"$\\\\mathrm{SiO_2}$\\\",\\n        \\\"MgO\\\": r\\\"$\\\\mathrm{MgO}$\\\",\\n        \\\"Fe2O3\\\": r\\\"$\\\\mathrm{Fe_2O_3}$\\\",\\n        \\\"Al2O3\\\": r\\\"$\\\\mathrm{Al_2O_3}$\\\",\\n        \\\"Total C3S\\\": r\\\"Total $\\\\mathrm{C_3S}$\\\",\\n        \\\"C3A\\\": r\\\"$\\\\mathrm{C_3A}$\\\",\\n        \\\"C4AF\\\": r\\\"$\\\\mathrm{C_4AF}$\\\",\\n        \\\"LOI\\\": \\\"LOI\\\",\\n        \\\"SO3\\\": r\\\"$\\\\mathrm{SO_3}$\\\",\\n        \\\"Insoluble Residue\\\": \\\"IR\\\",\\n        \\\"Loss on Ignition\\\": \\\"LOI\\\",\\n        \\\"TiO2\\\": r\\\"$\\\\mathrm{TiO_2}$\\\",\\n    }\\n)\\n\\nplt.figure(figsize=(10, 5.5))\\nsns.boxplot(\\n    data=perm_importances_df_plot,\\n    orient=\\\"h\\\",\\n    color=\\\"lightsteelblue\\\",\\n    saturation=1,\\n    showmeans=True,\\n)\\nsns.despine(trim=True, left=False)\\nplt.xlabel(\\\"Relevance (Permutation)\\\")\\nplt.title(\\\"Variable Relevance Distribution\\\")\\nplt.grid(axis=\\\"x\\\", linestyle=\\\"--\\\", alpha=0.7)\\nplt.subplots_adjust(left=0.3)\\nplt.savefig(\\n    \\\"ecics_203_c_local_cm_btiss_transformer_scpm_best_dist_var_perm_relevance.png\\\",\\n    dpi=300,\\n    bbox_inches=\\\"tight\\\",\\n)\\n\\n\\n# Step 3: Reset all rcParams to their default values\\nmatplotlib.rcParams.update(matplotlib.rcParamsDefault)\\nplt.rcdefaults()\\n\\n# Switch back to the original backend\\nplt.switch_backend(original_backend)\\n\\nplt.show()\";\n",
       "                var nbb_formatted_code = \"perm_importances_df = importances_df\\n\\n\\n# Calculate the mean importance for each feature\\nmean_importances = perm_importances_df.mean().sort_values()\\n\\n# Reorder the DataFrame columns based on mean importance\\nperm_importances_df = perm_importances_df[mean_importances.index]\\n\\n\\n# Backup the original backend\\noriginal_backend = plt.get_backend()\\n\\n# Update font settings to default\\nplt.rcParams.update(\\n    {\\n        \\\"font.family\\\": \\\"sans-serif\\\",\\n        \\\"font.sans-serif\\\": [\\\"DejaVu Sans\\\"],\\n        \\\"font.size\\\": 10,\\n        \\\"text.usetex\\\": False,  # Use MathText, not LaTeX\\n    }\\n)\\n\\n# Convert chemical formulas using MathText syntax\\nperm_importances_df_plot = perm_importances_df.rename(\\n    columns={\\n        \\\"K2O\\\": r\\\"$\\\\mathrm{K_2O}$\\\",\\n        \\\"Free CaO\\\": r\\\"Free $\\\\mathrm{CaO}$\\\",\\n        \\\"Total C2S\\\": r\\\"Total $\\\\mathrm{C_2S}$\\\",\\n        \\\"Na2O\\\": r\\\"$\\\\mathrm{Na_2O}$\\\",\\n        \\\"CaO\\\": r\\\"$\\\\mathrm{CaO}$\\\",\\n        \\\"SiO2\\\": r\\\"$\\\\mathrm{SiO_2}$\\\",\\n        \\\"MgO\\\": r\\\"$\\\\mathrm{MgO}$\\\",\\n        \\\"Fe2O3\\\": r\\\"$\\\\mathrm{Fe_2O_3}$\\\",\\n        \\\"Al2O3\\\": r\\\"$\\\\mathrm{Al_2O_3}$\\\",\\n        \\\"Total C3S\\\": r\\\"Total $\\\\mathrm{C_3S}$\\\",\\n        \\\"C3A\\\": r\\\"$\\\\mathrm{C_3A}$\\\",\\n        \\\"C4AF\\\": r\\\"$\\\\mathrm{C_4AF}$\\\",\\n        \\\"LOI\\\": \\\"LOI\\\",\\n        \\\"SO3\\\": r\\\"$\\\\mathrm{SO_3}$\\\",\\n        \\\"Insoluble Residue\\\": \\\"IR\\\",\\n        \\\"Loss on Ignition\\\": \\\"LOI\\\",\\n        \\\"TiO2\\\": r\\\"$\\\\mathrm{TiO_2}$\\\",\\n    }\\n)\\n\\nplt.figure(figsize=(10, 5.5))\\nsns.boxplot(\\n    data=perm_importances_df_plot,\\n    orient=\\\"h\\\",\\n    color=\\\"lightsteelblue\\\",\\n    saturation=1,\\n    showmeans=True,\\n)\\nsns.despine(trim=True, left=False)\\nplt.xlabel(\\\"Relevance (Permutation)\\\")\\nplt.title(\\\"Variable Relevance Distribution\\\")\\nplt.grid(axis=\\\"x\\\", linestyle=\\\"--\\\", alpha=0.7)\\nplt.subplots_adjust(left=0.3)\\nplt.savefig(\\n    \\\"ecics_203_c_local_cm_btiss_transformer_scpm_best_dist_var_perm_relevance.png\\\",\\n    dpi=300,\\n    bbox_inches=\\\"tight\\\",\\n)\\n\\n\\n# Step 3: Reset all rcParams to their default values\\nmatplotlib.rcParams.update(matplotlib.rcParamsDefault)\\nplt.rcdefaults()\\n\\n# Switch back to the original backend\\nplt.switch_backend(original_backend)\\n\\nplt.show()\";\n",
       "                var nbb_cells = Jupyter.notebook.get_cells();\n",
       "                for (var i = 0; i < nbb_cells.length; ++i) {\n",
       "                    if (nbb_cells[i].input_prompt_number == nbb_cell_id) {\n",
       "                        if (nbb_cells[i].get_text() == nbb_unformatted_code) {\n",
       "                             nbb_cells[i].set_text(nbb_formatted_code);\n",
       "                        }\n",
       "                        break;\n",
       "                    }\n",
       "                }\n",
       "            }, 500);\n",
       "            "
      ],
      "text/plain": [
       "<IPython.core.display.Javascript object>"
      ]
     },
     "metadata": {},
     "output_type": "display_data"
    }
   ],
   "source": [
    "perm_importances_df = importances_df\n",
    "\n",
    "\n",
    "# Calculate the mean importance for each feature\n",
    "mean_importances = perm_importances_df.mean().sort_values()\n",
    "\n",
    "# Reorder the DataFrame columns based on mean importance\n",
    "perm_importances_df = perm_importances_df[mean_importances.index]\n",
    "\n",
    "\n",
    "# Backup the original backend\n",
    "original_backend = plt.get_backend()\n",
    "\n",
    "# Update font settings to default\n",
    "plt.rcParams.update(\n",
    "    {\n",
    "        \"font.family\": \"sans-serif\",\n",
    "        \"font.sans-serif\": [\"DejaVu Sans\"],\n",
    "        \"font.size\": 10,\n",
    "        \"text.usetex\": False,  # Use MathText, not LaTeX\n",
    "    }\n",
    ")\n",
    "\n",
    "# Convert chemical formulas using MathText syntax\n",
    "perm_importances_df_plot = perm_importances_df.rename(\n",
    "    columns={\n",
    "        \"K2O\": r\"$\\mathrm{K_2O}$\",\n",
    "        \"Free CaO\": r\"Free $\\mathrm{CaO}$\",\n",
    "        \"Total C2S\": r\"Total $\\mathrm{C_2S}$\",\n",
    "        \"Na2O\": r\"$\\mathrm{Na_2O}$\",\n",
    "        \"CaO\": r\"$\\mathrm{CaO}$\",\n",
    "        \"SiO2\": r\"$\\mathrm{SiO_2}$\",\n",
    "        \"MgO\": r\"$\\mathrm{MgO}$\",\n",
    "        \"Fe2O3\": r\"$\\mathrm{Fe_2O_3}$\",\n",
    "        \"Al2O3\": r\"$\\mathrm{Al_2O_3}$\",\n",
    "        \"Total C3S\": r\"Total $\\mathrm{C_3S}$\",\n",
    "        \"C3A\": r\"$\\mathrm{C_3A}$\",\n",
    "        \"C4AF\": r\"$\\mathrm{C_4AF}$\",\n",
    "        \"LOI\": \"LOI\",\n",
    "        \"SO3\": r\"$\\mathrm{SO_3}$\",\n",
    "        \"Insoluble Residue\": \"IR\",\n",
    "        \"Loss on Ignition\": \"LOI\",\n",
    "        \"TiO2\": r\"$\\mathrm{TiO_2}$\",\n",
    "    }\n",
    ")\n",
    "\n",
    "plt.figure(figsize=(10, 5.5))\n",
    "sns.boxplot(\n",
    "    data=perm_importances_df_plot,\n",
    "    orient=\"h\",\n",
    "    color=\"lightsteelblue\",\n",
    "    saturation=1,\n",
    "    showmeans=True,\n",
    ")\n",
    "sns.despine(trim=True, left=False)\n",
    "plt.xlabel(\"Relevance (Permutation)\")\n",
    "plt.title(\"Variable Relevance Distribution\")\n",
    "plt.grid(axis=\"x\", linestyle=\"--\", alpha=0.7)\n",
    "plt.subplots_adjust(left=0.3)\n",
    "plt.savefig(\n",
    "    \"ecics_203_c_local_cm_btiss_transformer_scpm_best_dist_var_perm_relevance.png\",\n",
    "    dpi=300,\n",
    "    bbox_inches=\"tight\",\n",
    ")\n",
    "\n",
    "\n",
    "# Step 3: Reset all rcParams to their default values\n",
    "matplotlib.rcParams.update(matplotlib.rcParamsDefault)\n",
    "plt.rcdefaults()\n",
    "\n",
    "# Switch back to the original backend\n",
    "plt.switch_backend(original_backend)\n",
    "\n",
    "plt.show()"
   ]
  },
  {
   "cell_type": "code",
   "execution_count": 72,
   "id": "68a502b3",
   "metadata": {},
   "outputs": [
    {
     "data": {
      "text/html": [
       "<div>\n",
       "<style scoped>\n",
       "    .dataframe tbody tr th:only-of-type {\n",
       "        vertical-align: middle;\n",
       "    }\n",
       "\n",
       "    .dataframe tbody tr th {\n",
       "        vertical-align: top;\n",
       "    }\n",
       "\n",
       "    .dataframe thead th {\n",
       "        text-align: right;\n",
       "    }\n",
       "</style>\n",
       "<table border=\"1\" class=\"dataframe\">\n",
       "  <thead>\n",
       "    <tr style=\"text-align: right;\">\n",
       "      <th></th>\n",
       "      <th>count</th>\n",
       "      <th>mean</th>\n",
       "      <th>std</th>\n",
       "      <th>min</th>\n",
       "      <th>25%</th>\n",
       "      <th>50%</th>\n",
       "      <th>75%</th>\n",
       "      <th>max</th>\n",
       "    </tr>\n",
       "  </thead>\n",
       "  <tbody>\n",
       "    <tr>\n",
       "      <th>$\\mathrm{MgO}$</th>\n",
       "      <td>15.0</td>\n",
       "      <td>0.001593</td>\n",
       "      <td>0.009801</td>\n",
       "      <td>-0.030401</td>\n",
       "      <td>0.001058</td>\n",
       "      <td>0.002358</td>\n",
       "      <td>0.004664</td>\n",
       "      <td>0.012179</td>\n",
       "    </tr>\n",
       "    <tr>\n",
       "      <th>$\\mathrm{K_2O}$</th>\n",
       "      <td>15.0</td>\n",
       "      <td>0.005674</td>\n",
       "      <td>0.013454</td>\n",
       "      <td>-0.017530</td>\n",
       "      <td>0.000352</td>\n",
       "      <td>0.002963</td>\n",
       "      <td>0.007349</td>\n",
       "      <td>0.044282</td>\n",
       "    </tr>\n",
       "    <tr>\n",
       "      <th>TiO2</th>\n",
       "      <td>15.0</td>\n",
       "      <td>0.007764</td>\n",
       "      <td>0.011378</td>\n",
       "      <td>-0.005668</td>\n",
       "      <td>-0.000578</td>\n",
       "      <td>0.002741</td>\n",
       "      <td>0.016332</td>\n",
       "      <td>0.028868</td>\n",
       "    </tr>\n",
       "    <tr>\n",
       "      <th>$\\mathrm{Na_2O}$</th>\n",
       "      <td>15.0</td>\n",
       "      <td>0.012344</td>\n",
       "      <td>0.021466</td>\n",
       "      <td>-0.011041</td>\n",
       "      <td>0.000086</td>\n",
       "      <td>0.001396</td>\n",
       "      <td>0.020674</td>\n",
       "      <td>0.064166</td>\n",
       "    </tr>\n",
       "    <tr>\n",
       "      <th>Loss on Ignition</th>\n",
       "      <td>15.0</td>\n",
       "      <td>0.034007</td>\n",
       "      <td>0.068077</td>\n",
       "      <td>0.000074</td>\n",
       "      <td>0.003034</td>\n",
       "      <td>0.007839</td>\n",
       "      <td>0.024305</td>\n",
       "      <td>0.267878</td>\n",
       "    </tr>\n",
       "    <tr>\n",
       "      <th>$\\mathrm{Fe_2O_3}$</th>\n",
       "      <td>15.0</td>\n",
       "      <td>0.034312</td>\n",
       "      <td>0.066347</td>\n",
       "      <td>-0.002611</td>\n",
       "      <td>0.001541</td>\n",
       "      <td>0.003477</td>\n",
       "      <td>0.030603</td>\n",
       "      <td>0.248603</td>\n",
       "    </tr>\n",
       "    <tr>\n",
       "      <th>IR</th>\n",
       "      <td>15.0</td>\n",
       "      <td>0.103425</td>\n",
       "      <td>0.160748</td>\n",
       "      <td>-0.036074</td>\n",
       "      <td>-0.000237</td>\n",
       "      <td>0.001612</td>\n",
       "      <td>0.191953</td>\n",
       "      <td>0.469852</td>\n",
       "    </tr>\n",
       "    <tr>\n",
       "      <th>$\\mathrm{Al_2O_3}$</th>\n",
       "      <td>15.0</td>\n",
       "      <td>0.105085</td>\n",
       "      <td>0.265249</td>\n",
       "      <td>-0.008214</td>\n",
       "      <td>0.002643</td>\n",
       "      <td>0.005131</td>\n",
       "      <td>0.034346</td>\n",
       "      <td>1.021256</td>\n",
       "    </tr>\n",
       "    <tr>\n",
       "      <th>$\\mathrm{CaO}$</th>\n",
       "      <td>15.0</td>\n",
       "      <td>0.180490</td>\n",
       "      <td>0.196602</td>\n",
       "      <td>-0.027736</td>\n",
       "      <td>0.006346</td>\n",
       "      <td>0.158889</td>\n",
       "      <td>0.310141</td>\n",
       "      <td>0.621165</td>\n",
       "    </tr>\n",
       "    <tr>\n",
       "      <th>$\\mathrm{SO_3}$</th>\n",
       "      <td>15.0</td>\n",
       "      <td>0.278228</td>\n",
       "      <td>0.284612</td>\n",
       "      <td>0.002113</td>\n",
       "      <td>0.060002</td>\n",
       "      <td>0.114460</td>\n",
       "      <td>0.424610</td>\n",
       "      <td>0.845198</td>\n",
       "    </tr>\n",
       "    <tr>\n",
       "      <th>$\\mathrm{SiO_2}$</th>\n",
       "      <td>15.0</td>\n",
       "      <td>0.583879</td>\n",
       "      <td>0.216994</td>\n",
       "      <td>0.294758</td>\n",
       "      <td>0.434109</td>\n",
       "      <td>0.592457</td>\n",
       "      <td>0.690318</td>\n",
       "      <td>1.065349</td>\n",
       "    </tr>\n",
       "  </tbody>\n",
       "</table>\n",
       "</div>"
      ],
      "text/plain": [
       "                    count      mean       std       min       25%       50%  \\\n",
       "$\\mathrm{MgO}$       15.0  0.001593  0.009801 -0.030401  0.001058  0.002358   \n",
       "$\\mathrm{K_2O}$      15.0  0.005674  0.013454 -0.017530  0.000352  0.002963   \n",
       "TiO2                 15.0  0.007764  0.011378 -0.005668 -0.000578  0.002741   \n",
       "$\\mathrm{Na_2O}$     15.0  0.012344  0.021466 -0.011041  0.000086  0.001396   \n",
       "Loss on Ignition     15.0  0.034007  0.068077  0.000074  0.003034  0.007839   \n",
       "$\\mathrm{Fe_2O_3}$   15.0  0.034312  0.066347 -0.002611  0.001541  0.003477   \n",
       "IR                   15.0  0.103425  0.160748 -0.036074 -0.000237  0.001612   \n",
       "$\\mathrm{Al_2O_3}$   15.0  0.105085  0.265249 -0.008214  0.002643  0.005131   \n",
       "$\\mathrm{CaO}$       15.0  0.180490  0.196602 -0.027736  0.006346  0.158889   \n",
       "$\\mathrm{SO_3}$      15.0  0.278228  0.284612  0.002113  0.060002  0.114460   \n",
       "$\\mathrm{SiO_2}$     15.0  0.583879  0.216994  0.294758  0.434109  0.592457   \n",
       "\n",
       "                         75%       max  \n",
       "$\\mathrm{MgO}$      0.004664  0.012179  \n",
       "$\\mathrm{K_2O}$     0.007349  0.044282  \n",
       "TiO2                0.016332  0.028868  \n",
       "$\\mathrm{Na_2O}$    0.020674  0.064166  \n",
       "Loss on Ignition    0.024305  0.267878  \n",
       "$\\mathrm{Fe_2O_3}$  0.030603  0.248603  \n",
       "IR                  0.191953  0.469852  \n",
       "$\\mathrm{Al_2O_3}$  0.034346  1.021256  \n",
       "$\\mathrm{CaO}$      0.310141  0.621165  \n",
       "$\\mathrm{SO_3}$     0.424610  0.845198  \n",
       "$\\mathrm{SiO_2}$    0.690318  1.065349  "
      ]
     },
     "execution_count": 72,
     "metadata": {},
     "output_type": "execute_result"
    },
    {
     "data": {
      "application/javascript": [
       "\n",
       "            setTimeout(function() {\n",
       "                var nbb_cell_id = 72;\n",
       "                var nbb_unformatted_code = \"perm_importances_df.describe().T\";\n",
       "                var nbb_formatted_code = \"perm_importances_df.describe().T\";\n",
       "                var nbb_cells = Jupyter.notebook.get_cells();\n",
       "                for (var i = 0; i < nbb_cells.length; ++i) {\n",
       "                    if (nbb_cells[i].input_prompt_number == nbb_cell_id) {\n",
       "                        if (nbb_cells[i].get_text() == nbb_unformatted_code) {\n",
       "                             nbb_cells[i].set_text(nbb_formatted_code);\n",
       "                        }\n",
       "                        break;\n",
       "                    }\n",
       "                }\n",
       "            }, 500);\n",
       "            "
      ],
      "text/plain": [
       "<IPython.core.display.Javascript object>"
      ]
     },
     "metadata": {},
     "output_type": "display_data"
    }
   ],
   "source": [
    "perm_importances_df.describe().T"
   ]
  },
  {
   "cell_type": "code",
   "execution_count": null,
   "id": "cdf9e8e0",
   "metadata": {},
   "outputs": [],
   "source": []
  }
 ],
 "metadata": {
  "kernelspec": {
   "display_name": "ccs28-venv",
   "language": "python",
   "name": "ccs28-venv"
  },
  "language_info": {
   "codemirror_mode": {
    "name": "ipython",
    "version": 3
   },
   "file_extension": ".py",
   "mimetype": "text/x-python",
   "name": "python",
   "nbconvert_exporter": "python",
   "pygments_lexer": "ipython3",
   "version": "3.10.12"
  }
 },
 "nbformat": 4,
 "nbformat_minor": 5
}
