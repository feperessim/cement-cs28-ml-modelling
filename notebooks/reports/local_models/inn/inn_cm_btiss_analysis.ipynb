{
 "cells": [
  {
   "cell_type": "markdown",
   "id": "35565ecb",
   "metadata": {},
   "source": [
    "# Random Forest - Top model according to the SCPM of -4.96"
   ]
  },
  {
   "cell_type": "code",
   "execution_count": 1,
   "id": "2210e4ce",
   "metadata": {},
   "outputs": [
    {
     "data": {
      "application/javascript": [
       "\n",
       "            setTimeout(function() {\n",
       "                var nbb_cell_id = 1;\n",
       "                var nbb_unformatted_code = \"%load_ext nb_black\";\n",
       "                var nbb_formatted_code = \"%load_ext nb_black\";\n",
       "                var nbb_cells = Jupyter.notebook.get_cells();\n",
       "                for (var i = 0; i < nbb_cells.length; ++i) {\n",
       "                    if (nbb_cells[i].input_prompt_number == nbb_cell_id) {\n",
       "                        if (nbb_cells[i].get_text() == nbb_unformatted_code) {\n",
       "                             nbb_cells[i].set_text(nbb_formatted_code);\n",
       "                        }\n",
       "                        break;\n",
       "                    }\n",
       "                }\n",
       "            }, 500);\n",
       "            "
      ],
      "text/plain": [
       "<IPython.core.display.Javascript object>"
      ]
     },
     "metadata": {},
     "output_type": "display_data"
    }
   ],
   "source": [
    "%load_ext nb_black"
   ]
  },
  {
   "cell_type": "code",
   "execution_count": 2,
   "id": "668af128",
   "metadata": {},
   "outputs": [
    {
     "data": {
      "application/javascript": [
       "\n",
       "            setTimeout(function() {\n",
       "                var nbb_cell_id = 2;\n",
       "                var nbb_unformatted_code = \"# Database Reading and Manipulation\\nimport pandas as pd\\n\\n# Linear Algebra\\nimport numpy as np\\n\\n# Plotting\\nimport matplotlib\\nimport matplotlib.pyplot as plt\\nimport seaborn as sns\\n\\n# Model Selection\\nfrom sklearn.model_selection import train_test_split\\nfrom sklearn.model_selection import TimeSeriesSplit\\nfrom sklearn.model_selection import RepeatedKFold\\nfrom sklearn.model_selection import cross_val_score\\nfrom sklearn.model_selection import cross_validate\\nfrom sklearn.model_selection import GridSearchCV\\n\\n# Modeling\\nfrom sklearn.ensemble import RandomForestRegressor\\n\\n# Metrics\\nfrom sklearn.metrics import mean_squared_error\\nfrom sklearn.metrics import mean_absolute_error\\nfrom sklearn.metrics import mean_absolute_percentage_error\\nfrom sklearn.metrics import r2_score\\n\\n# Processing\\nfrom sklearn.preprocessing import StandardScaler\\n\\n\\n# Pipeline\\nfrom sklearn.pipeline import Pipeline\\n\\n# Data imputation\\nfrom sklearn.impute import SimpleImputer\\n\\n# Custom modules\\n## Model selection\\nfrom src.cross_validation.blocking_time_series_split import BlockingTimeSeriesSplit\\n\\n## Function to print scores\\nfrom src.utils.print_scores import print_scores\\n\\n## Function to calculate score regression metrics\\nfrom src.utils.score_regression_metrics import score_regression_metrics\\n\\n## Function to fill the results metric dict\\nfrom src.utils.fill_results_dict import fill_results_dict\\n\\n# Warnings\\nimport warnings\";\n",
       "                var nbb_formatted_code = \"# Database Reading and Manipulation\\nimport pandas as pd\\n\\n# Linear Algebra\\nimport numpy as np\\n\\n# Plotting\\nimport matplotlib\\nimport matplotlib.pyplot as plt\\nimport seaborn as sns\\n\\n# Model Selection\\nfrom sklearn.model_selection import train_test_split\\nfrom sklearn.model_selection import TimeSeriesSplit\\nfrom sklearn.model_selection import RepeatedKFold\\nfrom sklearn.model_selection import cross_val_score\\nfrom sklearn.model_selection import cross_validate\\nfrom sklearn.model_selection import GridSearchCV\\n\\n# Modeling\\nfrom sklearn.ensemble import RandomForestRegressor\\n\\n# Metrics\\nfrom sklearn.metrics import mean_squared_error\\nfrom sklearn.metrics import mean_absolute_error\\nfrom sklearn.metrics import mean_absolute_percentage_error\\nfrom sklearn.metrics import r2_score\\n\\n# Processing\\nfrom sklearn.preprocessing import StandardScaler\\n\\n\\n# Pipeline\\nfrom sklearn.pipeline import Pipeline\\n\\n# Data imputation\\nfrom sklearn.impute import SimpleImputer\\n\\n# Custom modules\\n## Model selection\\nfrom src.cross_validation.blocking_time_series_split import BlockingTimeSeriesSplit\\n\\n## Function to print scores\\nfrom src.utils.print_scores import print_scores\\n\\n## Function to calculate score regression metrics\\nfrom src.utils.score_regression_metrics import score_regression_metrics\\n\\n## Function to fill the results metric dict\\nfrom src.utils.fill_results_dict import fill_results_dict\\n\\n# Warnings\\nimport warnings\";\n",
       "                var nbb_cells = Jupyter.notebook.get_cells();\n",
       "                for (var i = 0; i < nbb_cells.length; ++i) {\n",
       "                    if (nbb_cells[i].input_prompt_number == nbb_cell_id) {\n",
       "                        if (nbb_cells[i].get_text() == nbb_unformatted_code) {\n",
       "                             nbb_cells[i].set_text(nbb_formatted_code);\n",
       "                        }\n",
       "                        break;\n",
       "                    }\n",
       "                }\n",
       "            }, 500);\n",
       "            "
      ],
      "text/plain": [
       "<IPython.core.display.Javascript object>"
      ]
     },
     "metadata": {},
     "output_type": "display_data"
    }
   ],
   "source": [
    "# Database Reading and Manipulation\n",
    "import pandas as pd\n",
    "\n",
    "# Linear Algebra\n",
    "import numpy as np\n",
    "\n",
    "# Plotting\n",
    "import matplotlib\n",
    "import matplotlib.pyplot as plt\n",
    "import seaborn as sns\n",
    "\n",
    "# Model Selection\n",
    "from sklearn.model_selection import train_test_split\n",
    "from sklearn.model_selection import TimeSeriesSplit\n",
    "from sklearn.model_selection import RepeatedKFold\n",
    "from sklearn.model_selection import cross_val_score\n",
    "from sklearn.model_selection import cross_validate\n",
    "from sklearn.model_selection import GridSearchCV\n",
    "\n",
    "# Modeling\n",
    "from sklearn.ensemble import RandomForestRegressor\n",
    "\n",
    "# Metrics\n",
    "from sklearn.metrics import mean_squared_error\n",
    "from sklearn.metrics import mean_absolute_error\n",
    "from sklearn.metrics import mean_absolute_percentage_error\n",
    "from sklearn.metrics import r2_score\n",
    "\n",
    "# Processing\n",
    "from sklearn.preprocessing import StandardScaler\n",
    "\n",
    "\n",
    "# Pipeline\n",
    "from sklearn.pipeline import Pipeline\n",
    "\n",
    "# Data imputation\n",
    "from sklearn.impute import SimpleImputer\n",
    "\n",
    "# Custom modules\n",
    "## Model selection\n",
    "from src.cross_validation.blocking_time_series_split import BlockingTimeSeriesSplit\n",
    "\n",
    "## Function to print scores\n",
    "from src.utils.print_scores import print_scores\n",
    "\n",
    "## Function to calculate score regression metrics\n",
    "from src.utils.score_regression_metrics import score_regression_metrics\n",
    "\n",
    "## Function to fill the results metric dict\n",
    "from src.utils.fill_results_dict import fill_results_dict\n",
    "\n",
    "# Warnings\n",
    "import warnings"
   ]
  },
  {
   "cell_type": "markdown",
   "id": "fe4a2623",
   "metadata": {},
   "source": [
    "# Functions and definitions"
   ]
  },
  {
   "cell_type": "code",
   "execution_count": 3,
   "id": "a89f9fa9",
   "metadata": {},
   "outputs": [
    {
     "data": {
      "application/javascript": [
       "\n",
       "            setTimeout(function() {\n",
       "                var nbb_cell_id = 3;\n",
       "                var nbb_unformatted_code = \"def get_random_forest_df_importances(scores):\\n    importances = {}\\n    importances_with_column = []\\n    columns = x.columns\\n\\n    for index, pipeline in enumerate(scores[\\\"estimator\\\"]):\\n        model = pipeline.named_steps[\\\"estimator\\\"]\\n        importances[index] = model.feature_importances_\\n\\n    for index, importances_vec in importances.items():\\n        importances_col = pd.DataFrame(\\n            {col: [c] for col, c in zip(columns, importances_vec)},\\n            index=[f\\\"Importances - {index}\\\"],\\n        )\\n        importances_with_column.append(importances_col)\\n    df_importances = pd.concat(importances_with_column)\\n\\n    return df_importances\";\n",
       "                var nbb_formatted_code = \"def get_random_forest_df_importances(scores):\\n    importances = {}\\n    importances_with_column = []\\n    columns = x.columns\\n\\n    for index, pipeline in enumerate(scores[\\\"estimator\\\"]):\\n        model = pipeline.named_steps[\\\"estimator\\\"]\\n        importances[index] = model.feature_importances_\\n\\n    for index, importances_vec in importances.items():\\n        importances_col = pd.DataFrame(\\n            {col: [c] for col, c in zip(columns, importances_vec)},\\n            index=[f\\\"Importances - {index}\\\"],\\n        )\\n        importances_with_column.append(importances_col)\\n    df_importances = pd.concat(importances_with_column)\\n\\n    return df_importances\";\n",
       "                var nbb_cells = Jupyter.notebook.get_cells();\n",
       "                for (var i = 0; i < nbb_cells.length; ++i) {\n",
       "                    if (nbb_cells[i].input_prompt_number == nbb_cell_id) {\n",
       "                        if (nbb_cells[i].get_text() == nbb_unformatted_code) {\n",
       "                             nbb_cells[i].set_text(nbb_formatted_code);\n",
       "                        }\n",
       "                        break;\n",
       "                    }\n",
       "                }\n",
       "            }, 500);\n",
       "            "
      ],
      "text/plain": [
       "<IPython.core.display.Javascript object>"
      ]
     },
     "metadata": {},
     "output_type": "display_data"
    }
   ],
   "source": [
    "def get_random_forest_df_importances(scores):\n",
    "    importances = {}\n",
    "    importances_with_column = []\n",
    "    columns = x.columns\n",
    "\n",
    "    for index, pipeline in enumerate(scores[\"estimator\"]):\n",
    "        model = pipeline.named_steps[\"estimator\"]\n",
    "        importances[index] = model.feature_importances_\n",
    "\n",
    "    for index, importances_vec in importances.items():\n",
    "        importances_col = pd.DataFrame(\n",
    "            {col: [c] for col, c in zip(columns, importances_vec)},\n",
    "            index=[f\"Importances - {index}\"],\n",
    "        )\n",
    "        importances_with_column.append(importances_col)\n",
    "    df_importances = pd.concat(importances_with_column)\n",
    "\n",
    "    return df_importances"
   ]
  },
  {
   "cell_type": "code",
   "execution_count": 4,
   "id": "cd388f34",
   "metadata": {},
   "outputs": [
    {
     "data": {
      "application/javascript": [
       "\n",
       "            setTimeout(function() {\n",
       "                var nbb_cell_id = 4;\n",
       "                var nbb_unformatted_code = \"SEED = 47\\nMETRICS = (\\n    \\\"neg_root_mean_squared_error\\\",\\n    \\\"neg_mean_absolute_error\\\",\\n    \\\"neg_mean_absolute_percentage_error\\\",\\n    \\\"r2\\\",\\n)\\nMETRICS_DICT = {\\n    \\\"neg_root_mean_squared_error\\\": \\\"RMSE\\\",\\n    \\\"neg_mean_absolute_error\\\": \\\"MAE\\\",\\n    \\\"neg_mean_absolute_percentage_error\\\": \\\"MAPE\\\",\\n    \\\"r2\\\": \\\"R2\\\",\\n}\";\n",
       "                var nbb_formatted_code = \"SEED = 47\\nMETRICS = (\\n    \\\"neg_root_mean_squared_error\\\",\\n    \\\"neg_mean_absolute_error\\\",\\n    \\\"neg_mean_absolute_percentage_error\\\",\\n    \\\"r2\\\",\\n)\\nMETRICS_DICT = {\\n    \\\"neg_root_mean_squared_error\\\": \\\"RMSE\\\",\\n    \\\"neg_mean_absolute_error\\\": \\\"MAE\\\",\\n    \\\"neg_mean_absolute_percentage_error\\\": \\\"MAPE\\\",\\n    \\\"r2\\\": \\\"R2\\\",\\n}\";\n",
       "                var nbb_cells = Jupyter.notebook.get_cells();\n",
       "                for (var i = 0; i < nbb_cells.length; ++i) {\n",
       "                    if (nbb_cells[i].input_prompt_number == nbb_cell_id) {\n",
       "                        if (nbb_cells[i].get_text() == nbb_unformatted_code) {\n",
       "                             nbb_cells[i].set_text(nbb_formatted_code);\n",
       "                        }\n",
       "                        break;\n",
       "                    }\n",
       "                }\n",
       "            }, 500);\n",
       "            "
      ],
      "text/plain": [
       "<IPython.core.display.Javascript object>"
      ]
     },
     "metadata": {},
     "output_type": "display_data"
    }
   ],
   "source": [
    "SEED = 47\n",
    "METRICS = (\n",
    "    \"neg_root_mean_squared_error\",\n",
    "    \"neg_mean_absolute_error\",\n",
    "    \"neg_mean_absolute_percentage_error\",\n",
    "    \"r2\",\n",
    ")\n",
    "METRICS_DICT = {\n",
    "    \"neg_root_mean_squared_error\": \"RMSE\",\n",
    "    \"neg_mean_absolute_error\": \"MAE\",\n",
    "    \"neg_mean_absolute_percentage_error\": \"MAPE\",\n",
    "    \"r2\": \"R2\",\n",
    "}"
   ]
  },
  {
   "cell_type": "code",
   "execution_count": 5,
   "id": "450d14b3",
   "metadata": {},
   "outputs": [
    {
     "data": {
      "application/javascript": [
       "\n",
       "            setTimeout(function() {\n",
       "                var nbb_cell_id = 5;\n",
       "                var nbb_unformatted_code = \"SEED = 47\\nMETRICS = (\\n    \\\"neg_root_mean_squared_error\\\",\\n    \\\"neg_mean_absolute_error\\\",\\n    \\\"neg_mean_absolute_percentage_error\\\",\\n    \\\"r2\\\",\\n)\\nMETRICS_DICT = {\\n    \\\"neg_root_mean_squared_error\\\": \\\"RMSE\\\",\\n    \\\"neg_mean_absolute_error\\\": \\\"MAE\\\",\\n    \\\"neg_mean_absolute_percentage_error\\\": \\\"MAPE\\\",\\n    \\\"r2\\\": \\\"R2\\\",\\n}\";\n",
       "                var nbb_formatted_code = \"SEED = 47\\nMETRICS = (\\n    \\\"neg_root_mean_squared_error\\\",\\n    \\\"neg_mean_absolute_error\\\",\\n    \\\"neg_mean_absolute_percentage_error\\\",\\n    \\\"r2\\\",\\n)\\nMETRICS_DICT = {\\n    \\\"neg_root_mean_squared_error\\\": \\\"RMSE\\\",\\n    \\\"neg_mean_absolute_error\\\": \\\"MAE\\\",\\n    \\\"neg_mean_absolute_percentage_error\\\": \\\"MAPE\\\",\\n    \\\"r2\\\": \\\"R2\\\",\\n}\";\n",
       "                var nbb_cells = Jupyter.notebook.get_cells();\n",
       "                for (var i = 0; i < nbb_cells.length; ++i) {\n",
       "                    if (nbb_cells[i].input_prompt_number == nbb_cell_id) {\n",
       "                        if (nbb_cells[i].get_text() == nbb_unformatted_code) {\n",
       "                             nbb_cells[i].set_text(nbb_formatted_code);\n",
       "                        }\n",
       "                        break;\n",
       "                    }\n",
       "                }\n",
       "            }, 500);\n",
       "            "
      ],
      "text/plain": [
       "<IPython.core.display.Javascript object>"
      ]
     },
     "metadata": {},
     "output_type": "display_data"
    }
   ],
   "source": [
    "SEED = 47\n",
    "METRICS = (\n",
    "    \"neg_root_mean_squared_error\",\n",
    "    \"neg_mean_absolute_error\",\n",
    "    \"neg_mean_absolute_percentage_error\",\n",
    "    \"r2\",\n",
    ")\n",
    "METRICS_DICT = {\n",
    "    \"neg_root_mean_squared_error\": \"RMSE\",\n",
    "    \"neg_mean_absolute_error\": \"MAE\",\n",
    "    \"neg_mean_absolute_percentage_error\": \"MAPE\",\n",
    "    \"r2\": \"R2\",\n",
    "}"
   ]
  },
  {
   "cell_type": "markdown",
   "id": "68005865",
   "metadata": {},
   "source": [
    "## Defining a dataframe structure to save the results"
   ]
  },
  {
   "cell_type": "code",
   "execution_count": 6,
   "id": "a5e0d3ea",
   "metadata": {},
   "outputs": [
    {
     "data": {
      "application/javascript": [
       "\n",
       "            setTimeout(function() {\n",
       "                var nbb_cell_id = 6;\n",
       "                var nbb_unformatted_code = \"results_to_save = []\\n\\nresults_dict = {\\n    \\\"Category\\\": \\\"Local Model\\\",\\n    \\\"Company\\\": \\\"partner_ii\\\",\\n    \\\"Features\\\": \\\"Chemical + Mineralogical\\\",\\n    \\\"Data Shape\\\": None,\\n    \\\"Timesteps\\\": None,\\n    \\\"Model\\\": \\\"Random Forest\\\",\\n    \\\"Model Params\\\": None,\\n    \\\"Scaler\\\": \\\"Standard Scaler\\\",\\n    \\\"Scaler Params\\\": None,\\n    \\\"Imputer\\\": \\\"Median\\\",\\n    \\\"Imputer Params\\\": None,\\n    \\\"Cross Validation\\\": None,\\n    \\\"Cross Validation Params\\\": np.nan,\\n    \\\"RMSE Train\\\": np.nan,\\n    \\\"MAE Train\\\": np.nan,\\n    \\\"MAPE Train\\\": np.nan,\\n    \\\"R2 Train\\\": np.nan,\\n    \\\"RMSE Test\\\": np.nan,\\n    \\\"MAE Test\\\": np.nan,\\n    \\\"MAPE Test\\\": np.nan,\\n    \\\"R2 Test\\\": np.nan,\\n}\";\n",
       "                var nbb_formatted_code = \"results_to_save = []\\n\\nresults_dict = {\\n    \\\"Category\\\": \\\"Local Model\\\",\\n    \\\"Company\\\": \\\"partner_ii\\\",\\n    \\\"Features\\\": \\\"Chemical + Mineralogical\\\",\\n    \\\"Data Shape\\\": None,\\n    \\\"Timesteps\\\": None,\\n    \\\"Model\\\": \\\"Random Forest\\\",\\n    \\\"Model Params\\\": None,\\n    \\\"Scaler\\\": \\\"Standard Scaler\\\",\\n    \\\"Scaler Params\\\": None,\\n    \\\"Imputer\\\": \\\"Median\\\",\\n    \\\"Imputer Params\\\": None,\\n    \\\"Cross Validation\\\": None,\\n    \\\"Cross Validation Params\\\": np.nan,\\n    \\\"RMSE Train\\\": np.nan,\\n    \\\"MAE Train\\\": np.nan,\\n    \\\"MAPE Train\\\": np.nan,\\n    \\\"R2 Train\\\": np.nan,\\n    \\\"RMSE Test\\\": np.nan,\\n    \\\"MAE Test\\\": np.nan,\\n    \\\"MAPE Test\\\": np.nan,\\n    \\\"R2 Test\\\": np.nan,\\n}\";\n",
       "                var nbb_cells = Jupyter.notebook.get_cells();\n",
       "                for (var i = 0; i < nbb_cells.length; ++i) {\n",
       "                    if (nbb_cells[i].input_prompt_number == nbb_cell_id) {\n",
       "                        if (nbb_cells[i].get_text() == nbb_unformatted_code) {\n",
       "                             nbb_cells[i].set_text(nbb_formatted_code);\n",
       "                        }\n",
       "                        break;\n",
       "                    }\n",
       "                }\n",
       "            }, 500);\n",
       "            "
      ],
      "text/plain": [
       "<IPython.core.display.Javascript object>"
      ]
     },
     "metadata": {},
     "output_type": "display_data"
    }
   ],
   "source": [
    "results_to_save = []\n",
    "\n",
    "results_dict = {\n",
    "    \"Category\": \"Local Model\",\n",
    "    \"Company\": \"partner_ii\",\n",
    "    \"Features\": \"Chemical + Mineralogical\",\n",
    "    \"Data Shape\": None,\n",
    "    \"Timesteps\": None,\n",
    "    \"Model\": \"Random Forest\",\n",
    "    \"Model Params\": None,\n",
    "    \"Scaler\": \"Standard Scaler\",\n",
    "    \"Scaler Params\": None,\n",
    "    \"Imputer\": \"Median\",\n",
    "    \"Imputer Params\": None,\n",
    "    \"Cross Validation\": None,\n",
    "    \"Cross Validation Params\": np.nan,\n",
    "    \"RMSE Train\": np.nan,\n",
    "    \"MAE Train\": np.nan,\n",
    "    \"MAPE Train\": np.nan,\n",
    "    \"R2 Train\": np.nan,\n",
    "    \"RMSE Test\": np.nan,\n",
    "    \"MAE Test\": np.nan,\n",
    "    \"MAPE Test\": np.nan,\n",
    "    \"R2 Test\": np.nan,\n",
    "}"
   ]
  },
  {
   "cell_type": "markdown",
   "id": "2a452455",
   "metadata": {},
   "source": [
    "# Reading the dataset"
   ]
  },
  {
   "cell_type": "code",
   "execution_count": 7,
   "id": "d0e89a40",
   "metadata": {},
   "outputs": [
    {
     "data": {
      "application/javascript": [
       "\n",
       "            setTimeout(function() {\n",
       "                var nbb_cell_id = 7;\n",
       "                var nbb_unformatted_code = \"df = pd.read_csv(\\\"../../../../data/processed/partner_ii/cement-shipping.csv\\\")\";\n",
       "                var nbb_formatted_code = \"df = pd.read_csv(\\\"../../../../data/processed/partner_ii/cement-shipping.csv\\\")\";\n",
       "                var nbb_cells = Jupyter.notebook.get_cells();\n",
       "                for (var i = 0; i < nbb_cells.length; ++i) {\n",
       "                    if (nbb_cells[i].input_prompt_number == nbb_cell_id) {\n",
       "                        if (nbb_cells[i].get_text() == nbb_unformatted_code) {\n",
       "                             nbb_cells[i].set_text(nbb_formatted_code);\n",
       "                        }\n",
       "                        break;\n",
       "                    }\n",
       "                }\n",
       "            }, 500);\n",
       "            "
      ],
      "text/plain": [
       "<IPython.core.display.Javascript object>"
      ]
     },
     "metadata": {},
     "output_type": "display_data"
    }
   ],
   "source": [
    "df = pd.read_csv(\"../../../../data/processed/partner_ii/cement-shipping.csv\")"
   ]
  },
  {
   "cell_type": "markdown",
   "id": "2ae57845",
   "metadata": {},
   "source": [
    "## Defining Features\n",
    "\n",
    "In this set of experiments we keep only chemical and mineralogical features yielded by the same testing method/procedure"
   ]
  },
  {
   "cell_type": "code",
   "execution_count": 8,
   "id": "ea0331c1",
   "metadata": {},
   "outputs": [
    {
     "data": {
      "application/javascript": [
       "\n",
       "            setTimeout(function() {\n",
       "                var nbb_cell_id = 8;\n",
       "                var nbb_unformatted_code = \"df_copy = df.drop(\\n    [\\n        # Properties\\n        \\\"Initial setting time\\\",\\n        \\\"Blaine\\\",\\n        \\\"Sieve 32 um\\\",\\n        \\\"Sieve 45 um\\\",\\n        \\\"CS1\\\",\\n        \\\"CS3\\\",\\n        \\\"CS7\\\",\\n        \\\"Cement_Type\\\",\\n    ],\\n    axis=1,\\n).copy()\";\n",
       "                var nbb_formatted_code = \"df_copy = df.drop(\\n    [\\n        # Properties\\n        \\\"Initial setting time\\\",\\n        \\\"Blaine\\\",\\n        \\\"Sieve 32 um\\\",\\n        \\\"Sieve 45 um\\\",\\n        \\\"CS1\\\",\\n        \\\"CS3\\\",\\n        \\\"CS7\\\",\\n        \\\"Cement_Type\\\",\\n    ],\\n    axis=1,\\n).copy()\";\n",
       "                var nbb_cells = Jupyter.notebook.get_cells();\n",
       "                for (var i = 0; i < nbb_cells.length; ++i) {\n",
       "                    if (nbb_cells[i].input_prompt_number == nbb_cell_id) {\n",
       "                        if (nbb_cells[i].get_text() == nbb_unformatted_code) {\n",
       "                             nbb_cells[i].set_text(nbb_formatted_code);\n",
       "                        }\n",
       "                        break;\n",
       "                    }\n",
       "                }\n",
       "            }, 500);\n",
       "            "
      ],
      "text/plain": [
       "<IPython.core.display.Javascript object>"
      ]
     },
     "metadata": {},
     "output_type": "display_data"
    }
   ],
   "source": [
    "df_copy = df.drop(\n",
    "    [\n",
    "        # Properties\n",
    "        \"Initial setting time\",\n",
    "        \"Blaine\",\n",
    "        \"Sieve 32 um\",\n",
    "        \"Sieve 45 um\",\n",
    "        \"CS1\",\n",
    "        \"CS3\",\n",
    "        \"CS7\",\n",
    "        \"Cement_Type\",\n",
    "    ],\n",
    "    axis=1,\n",
    ").copy()"
   ]
  },
  {
   "cell_type": "markdown",
   "id": "0b53c8d6",
   "metadata": {},
   "source": [
    "# 1. Decision Tree Regressor"
   ]
  },
  {
   "cell_type": "code",
   "execution_count": 9,
   "id": "a0cfed31",
   "metadata": {},
   "outputs": [
    {
     "data": {
      "application/javascript": [
       "\n",
       "            setTimeout(function() {\n",
       "                var nbb_cell_id = 9;\n",
       "                var nbb_unformatted_code = \"PARAMS = {\\n    \\\"criterion\\\": \\\"squared_error\\\",\\n    \\\"n_estimators\\\": 5,\\n    \\\"max_depth\\\": 3,\\n    \\\"random_state\\\": SEED,\\n}\";\n",
       "                var nbb_formatted_code = \"PARAMS = {\\n    \\\"criterion\\\": \\\"squared_error\\\",\\n    \\\"n_estimators\\\": 5,\\n    \\\"max_depth\\\": 3,\\n    \\\"random_state\\\": SEED,\\n}\";\n",
       "                var nbb_cells = Jupyter.notebook.get_cells();\n",
       "                for (var i = 0; i < nbb_cells.length; ++i) {\n",
       "                    if (nbb_cells[i].input_prompt_number == nbb_cell_id) {\n",
       "                        if (nbb_cells[i].get_text() == nbb_unformatted_code) {\n",
       "                             nbb_cells[i].set_text(nbb_formatted_code);\n",
       "                        }\n",
       "                        break;\n",
       "                    }\n",
       "                }\n",
       "            }, 500);\n",
       "            "
      ],
      "text/plain": [
       "<IPython.core.display.Javascript object>"
      ]
     },
     "metadata": {},
     "output_type": "display_data"
    }
   ],
   "source": [
    "PARAMS = {\n",
    "    \"criterion\": \"squared_error\",\n",
    "    \"n_estimators\": 5,\n",
    "    \"max_depth\": 3,\n",
    "    \"random_state\": SEED,\n",
    "}"
   ]
  },
  {
   "cell_type": "markdown",
   "id": "cbbbf097",
   "metadata": {},
   "source": [
    "<h2>1. Dataset: df_no_cs</h2> <br>In this dataset the CS1, CS3  and CS7 variables are not considered. Only Chemical and mineralogical features measured by the same method. For this particular dataset, all chemical features, with the exception of LOI were measured by XRF and XRD methods."
   ]
  },
  {
   "cell_type": "code",
   "execution_count": 10,
   "id": "eed9d427",
   "metadata": {},
   "outputs": [
    {
     "data": {
      "application/javascript": [
       "\n",
       "            setTimeout(function() {\n",
       "                var nbb_cell_id = 10;\n",
       "                var nbb_unformatted_code = \"y = df_copy.pop(\\\"CS28\\\").values\\nx = df_copy.drop([\\\"Date\\\"], axis=1)\\ndates = df[\\\"Date\\\"].copy()\";\n",
       "                var nbb_formatted_code = \"y = df_copy.pop(\\\"CS28\\\").values\\nx = df_copy.drop([\\\"Date\\\"], axis=1)\\ndates = df[\\\"Date\\\"].copy()\";\n",
       "                var nbb_cells = Jupyter.notebook.get_cells();\n",
       "                for (var i = 0; i < nbb_cells.length; ++i) {\n",
       "                    if (nbb_cells[i].input_prompt_number == nbb_cell_id) {\n",
       "                        if (nbb_cells[i].get_text() == nbb_unformatted_code) {\n",
       "                             nbb_cells[i].set_text(nbb_formatted_code);\n",
       "                        }\n",
       "                        break;\n",
       "                    }\n",
       "                }\n",
       "            }, 500);\n",
       "            "
      ],
      "text/plain": [
       "<IPython.core.display.Javascript object>"
      ]
     },
     "metadata": {},
     "output_type": "display_data"
    }
   ],
   "source": [
    "y = df_copy.pop(\"CS28\").values\n",
    "x = df_copy.drop([\"Date\"], axis=1)\n",
    "dates = df[\"Date\"].copy()"
   ]
  },
  {
   "cell_type": "markdown",
   "id": "d1f6805a",
   "metadata": {},
   "source": [
    "## 1.2. Blocking Time Series Cross Validation\n",
    "\n",
    "<b>Dataset shape:</b> (1234, 38)<br>\n",
    "<b>Splits:</b>5<br>    \n",
    "    1. 5 folds of 246 samples\n",
    "    2. 50% train (123 samples each fold)\n",
    "    3. 50% test (123 samples each fold)\n",
    "<b>Total:</b> 5 models<br>"
   ]
  },
  {
   "cell_type": "code",
   "execution_count": 11,
   "id": "473be546",
   "metadata": {},
   "outputs": [
    {
     "name": "stdout",
     "output_type": "stream",
     "text": [
      "Blocking Time Series Split:\n",
      "Repeats: 3\n",
      "n_splits: 5\n",
      "\n",
      "******\n",
      "[TRAIN]\n",
      "******\n",
      "RMSE: -1.710 (0.157)\n",
      "MAE: -1.351 (0.128)\n",
      "MAPE: -0.032 (0.002)\n",
      "R2: 0.691 (0.072)\n",
      "\n",
      "======================\n",
      "\n",
      "******\n",
      "[TEST]\n",
      "******\n",
      "RMSE: -2.666 (0.344)\n",
      "MAE: -2.038 (0.207)\n",
      "MAPE: -0.046 (0.004)\n",
      "R2: 0.251 (0.191)\n",
      "\n",
      "======================\n",
      "\n"
     ]
    },
    {
     "data": {
      "application/javascript": [
       "\n",
       "            setTimeout(function() {\n",
       "                var nbb_cell_id = 11;\n",
       "                var nbb_unformatted_code = \"repeats = 3\\nn_splits = 5\\ntrain_size = 0.8\\n\\npipeline = Pipeline(\\n    [\\n        (\\\"imputer\\\", SimpleImputer(strategy=\\\"median\\\")),\\n        (\\\"estimator\\\", RandomForestRegressor(**PARAMS)),\\n    ]\\n)\\ncv = BlockingTimeSeriesSplit(n_splits=n_splits, train_size=train_size)\\nscores = cross_validate(\\n    pipeline,\\n    x,\\n    y,\\n    scoring=METRICS,\\n    cv=cv,\\n    n_jobs=-1,\\n    return_train_score=True,\\n    return_estimator=True,\\n    return_indices=True,\\n)\\nprint(\\\"Blocking Time Series Split:\\\")\\nprint(f\\\"Repeats: {repeats}\\\")\\nprint(f\\\"n_splits: {n_splits}\\\")\\nprint()\\nprint_scores(scores, METRICS, METRICS_DICT)\\n\\nresults_dict_copy = results_dict.copy()\\nresults_dict_copy[\\\"Cross Validation\\\"] = \\\"Blocking Time Series Split\\\"\\nresults_dict_copy[\\n    \\\"Cross Validation Params\\\"\\n] = '{\\\"N_Splits\\\": 5, \\\"Repeats\\\": 1, \\\"train_size\\\": 0.8}'\\nresults_dict_copy[\\\"Data Shape\\\"] = x.shape\\ndf_results = fill_results_dict(results_dict_copy, scores)\\nresults_to_save.append(df_results)\";\n",
       "                var nbb_formatted_code = \"repeats = 3\\nn_splits = 5\\ntrain_size = 0.8\\n\\npipeline = Pipeline(\\n    [\\n        (\\\"imputer\\\", SimpleImputer(strategy=\\\"median\\\")),\\n        (\\\"estimator\\\", RandomForestRegressor(**PARAMS)),\\n    ]\\n)\\ncv = BlockingTimeSeriesSplit(n_splits=n_splits, train_size=train_size)\\nscores = cross_validate(\\n    pipeline,\\n    x,\\n    y,\\n    scoring=METRICS,\\n    cv=cv,\\n    n_jobs=-1,\\n    return_train_score=True,\\n    return_estimator=True,\\n    return_indices=True,\\n)\\nprint(\\\"Blocking Time Series Split:\\\")\\nprint(f\\\"Repeats: {repeats}\\\")\\nprint(f\\\"n_splits: {n_splits}\\\")\\nprint()\\nprint_scores(scores, METRICS, METRICS_DICT)\\n\\nresults_dict_copy = results_dict.copy()\\nresults_dict_copy[\\\"Cross Validation\\\"] = \\\"Blocking Time Series Split\\\"\\nresults_dict_copy[\\n    \\\"Cross Validation Params\\\"\\n] = '{\\\"N_Splits\\\": 5, \\\"Repeats\\\": 1, \\\"train_size\\\": 0.8}'\\nresults_dict_copy[\\\"Data Shape\\\"] = x.shape\\ndf_results = fill_results_dict(results_dict_copy, scores)\\nresults_to_save.append(df_results)\";\n",
       "                var nbb_cells = Jupyter.notebook.get_cells();\n",
       "                for (var i = 0; i < nbb_cells.length; ++i) {\n",
       "                    if (nbb_cells[i].input_prompt_number == nbb_cell_id) {\n",
       "                        if (nbb_cells[i].get_text() == nbb_unformatted_code) {\n",
       "                             nbb_cells[i].set_text(nbb_formatted_code);\n",
       "                        }\n",
       "                        break;\n",
       "                    }\n",
       "                }\n",
       "            }, 500);\n",
       "            "
      ],
      "text/plain": [
       "<IPython.core.display.Javascript object>"
      ]
     },
     "metadata": {},
     "output_type": "display_data"
    }
   ],
   "source": [
    "repeats = 3\n",
    "n_splits = 5\n",
    "train_size = 0.8\n",
    "\n",
    "pipeline = Pipeline(\n",
    "    [\n",
    "        (\"imputer\", SimpleImputer(strategy=\"median\")),\n",
    "        (\"estimator\", RandomForestRegressor(**PARAMS)),\n",
    "    ]\n",
    ")\n",
    "cv = BlockingTimeSeriesSplit(n_splits=n_splits, train_size=train_size)\n",
    "scores = cross_validate(\n",
    "    pipeline,\n",
    "    x,\n",
    "    y,\n",
    "    scoring=METRICS,\n",
    "    cv=cv,\n",
    "    n_jobs=-1,\n",
    "    return_train_score=True,\n",
    "    return_estimator=True,\n",
    "    return_indices=True,\n",
    ")\n",
    "print(\"Blocking Time Series Split:\")\n",
    "print(f\"Repeats: {repeats}\")\n",
    "print(f\"n_splits: {n_splits}\")\n",
    "print()\n",
    "print_scores(scores, METRICS, METRICS_DICT)\n",
    "\n",
    "results_dict_copy = results_dict.copy()\n",
    "results_dict_copy[\"Cross Validation\"] = \"Blocking Time Series Split\"\n",
    "results_dict_copy[\n",
    "    \"Cross Validation Params\"\n",
    "] = '{\"N_Splits\": 5, \"Repeats\": 1, \"train_size\": 0.8}'\n",
    "results_dict_copy[\"Data Shape\"] = x.shape\n",
    "df_results = fill_results_dict(results_dict_copy, scores)\n",
    "results_to_save.append(df_results)"
   ]
  },
  {
   "cell_type": "markdown",
   "id": "a3f4ad0e",
   "metadata": {},
   "source": [
    "## Plotting the Predictions"
   ]
  },
  {
   "cell_type": "code",
   "execution_count": 12,
   "id": "3f45b891",
   "metadata": {},
   "outputs": [
    {
     "data": {
      "application/javascript": [
       "\n",
       "            setTimeout(function() {\n",
       "                var nbb_cell_id = 12;\n",
       "                var nbb_unformatted_code = \"df_pred = pd.DataFrame()\\ndf_pred[\\\"DATE\\\"] = dates.copy()\\ndf_pred[\\\"CS28\\\"] = y.copy()\\ndf_pred[\\\"CS28_PRED\\\"] = np.nan\\ndf_pred[\\\"SET\\\"] = \\\"\\\"\\ndf_pred[\\\"CEMENT_TYPE\\\"] = df[\\\"Cement_Type\\\"].copy()\\ndf_pred[\\\"DATE\\\"] = pd.to_datetime(df_pred[\\\"DATE\\\"])\\n\\n\\nfor idx, pipeline in enumerate(scores[\\\"estimator\\\"]):\\n    index_train = scores[\\\"indices\\\"][\\\"train\\\"][idx]\\n    index_test = scores[\\\"indices\\\"][\\\"test\\\"][idx]\\n    index_preds = np.concatenate([index_train, index_test])\\n\\n    # results = scores[\\\"estimator\\\"][0].predict(x.loc[index_preds])\\n    results = pipeline.predict(x.loc[index_preds])\\n    df_pred.loc[index_preds, \\\"CS28_PRED\\\"] = results.copy()\\n    df_pred.loc[index_train, \\\"SET\\\"] = \\\"TRAIN\\\"\\n    df_pred.loc[index_test, \\\"SET\\\"] = \\\"TEST\\\"\\ndf_pred = df_pred.dropna()\";\n",
       "                var nbb_formatted_code = \"df_pred = pd.DataFrame()\\ndf_pred[\\\"DATE\\\"] = dates.copy()\\ndf_pred[\\\"CS28\\\"] = y.copy()\\ndf_pred[\\\"CS28_PRED\\\"] = np.nan\\ndf_pred[\\\"SET\\\"] = \\\"\\\"\\ndf_pred[\\\"CEMENT_TYPE\\\"] = df[\\\"Cement_Type\\\"].copy()\\ndf_pred[\\\"DATE\\\"] = pd.to_datetime(df_pred[\\\"DATE\\\"])\\n\\n\\nfor idx, pipeline in enumerate(scores[\\\"estimator\\\"]):\\n    index_train = scores[\\\"indices\\\"][\\\"train\\\"][idx]\\n    index_test = scores[\\\"indices\\\"][\\\"test\\\"][idx]\\n    index_preds = np.concatenate([index_train, index_test])\\n\\n    # results = scores[\\\"estimator\\\"][0].predict(x.loc[index_preds])\\n    results = pipeline.predict(x.loc[index_preds])\\n    df_pred.loc[index_preds, \\\"CS28_PRED\\\"] = results.copy()\\n    df_pred.loc[index_train, \\\"SET\\\"] = \\\"TRAIN\\\"\\n    df_pred.loc[index_test, \\\"SET\\\"] = \\\"TEST\\\"\\ndf_pred = df_pred.dropna()\";\n",
       "                var nbb_cells = Jupyter.notebook.get_cells();\n",
       "                for (var i = 0; i < nbb_cells.length; ++i) {\n",
       "                    if (nbb_cells[i].input_prompt_number == nbb_cell_id) {\n",
       "                        if (nbb_cells[i].get_text() == nbb_unformatted_code) {\n",
       "                             nbb_cells[i].set_text(nbb_formatted_code);\n",
       "                        }\n",
       "                        break;\n",
       "                    }\n",
       "                }\n",
       "            }, 500);\n",
       "            "
      ],
      "text/plain": [
       "<IPython.core.display.Javascript object>"
      ]
     },
     "metadata": {},
     "output_type": "display_data"
    }
   ],
   "source": [
    "df_pred = pd.DataFrame()\n",
    "df_pred[\"DATE\"] = dates.copy()\n",
    "df_pred[\"CS28\"] = y.copy()\n",
    "df_pred[\"CS28_PRED\"] = np.nan\n",
    "df_pred[\"SET\"] = \"\"\n",
    "df_pred[\"CEMENT_TYPE\"] = df[\"Cement_Type\"].copy()\n",
    "df_pred[\"DATE\"] = pd.to_datetime(df_pred[\"DATE\"])\n",
    "\n",
    "\n",
    "for idx, pipeline in enumerate(scores[\"estimator\"]):\n",
    "    index_train = scores[\"indices\"][\"train\"][idx]\n",
    "    index_test = scores[\"indices\"][\"test\"][idx]\n",
    "    index_preds = np.concatenate([index_train, index_test])\n",
    "\n",
    "    # results = scores[\"estimator\"][0].predict(x.loc[index_preds])\n",
    "    results = pipeline.predict(x.loc[index_preds])\n",
    "    df_pred.loc[index_preds, \"CS28_PRED\"] = results.copy()\n",
    "    df_pred.loc[index_train, \"SET\"] = \"TRAIN\"\n",
    "    df_pred.loc[index_test, \"SET\"] = \"TEST\"\n",
    "df_pred = df_pred.dropna()"
   ]
  },
  {
   "cell_type": "code",
   "execution_count": 13,
   "id": "576a8fc8",
   "metadata": {},
   "outputs": [
    {
     "data": {
      "text/html": [
       "<div>\n",
       "<style scoped>\n",
       "    .dataframe tbody tr th:only-of-type {\n",
       "        vertical-align: middle;\n",
       "    }\n",
       "\n",
       "    .dataframe tbody tr th {\n",
       "        vertical-align: top;\n",
       "    }\n",
       "\n",
       "    .dataframe thead th {\n",
       "        text-align: right;\n",
       "    }\n",
       "</style>\n",
       "<table border=\"1\" class=\"dataframe\">\n",
       "  <thead>\n",
       "    <tr style=\"text-align: right;\">\n",
       "      <th></th>\n",
       "      <th>DATE</th>\n",
       "      <th>CS28</th>\n",
       "      <th>CS28_PRED</th>\n",
       "      <th>SET</th>\n",
       "    </tr>\n",
       "  </thead>\n",
       "  <tbody>\n",
       "    <tr>\n",
       "      <th>0</th>\n",
       "      <td>2020-01-01 11:00:00+00:00</td>\n",
       "      <td>42.93</td>\n",
       "      <td>41.297922</td>\n",
       "      <td>TRAIN</td>\n",
       "    </tr>\n",
       "    <tr>\n",
       "      <th>1</th>\n",
       "      <td>2020-01-02 11:00:00+00:00</td>\n",
       "      <td>49.72</td>\n",
       "      <td>48.695354</td>\n",
       "      <td>TRAIN</td>\n",
       "    </tr>\n",
       "    <tr>\n",
       "      <th>2</th>\n",
       "      <td>2020-01-02 11:00:00+00:00</td>\n",
       "      <td>39.49</td>\n",
       "      <td>41.297922</td>\n",
       "      <td>TRAIN</td>\n",
       "    </tr>\n",
       "    <tr>\n",
       "      <th>3</th>\n",
       "      <td>2020-01-03 11:00:00+00:00</td>\n",
       "      <td>40.55</td>\n",
       "      <td>41.297922</td>\n",
       "      <td>TRAIN</td>\n",
       "    </tr>\n",
       "    <tr>\n",
       "      <th>4</th>\n",
       "      <td>2020-01-04 11:00:00+00:00</td>\n",
       "      <td>42.64</td>\n",
       "      <td>41.297922</td>\n",
       "      <td>TRAIN</td>\n",
       "    </tr>\n",
       "    <tr>\n",
       "      <th>...</th>\n",
       "      <td>...</td>\n",
       "      <td>...</td>\n",
       "      <td>...</td>\n",
       "      <td>...</td>\n",
       "    </tr>\n",
       "    <tr>\n",
       "      <th>1045</th>\n",
       "      <td>2021-12-25 11:00:00+00:00</td>\n",
       "      <td>37.12</td>\n",
       "      <td>39.773592</td>\n",
       "      <td>TEST</td>\n",
       "    </tr>\n",
       "    <tr>\n",
       "      <th>1046</th>\n",
       "      <td>2021-12-26 11:00:00+00:00</td>\n",
       "      <td>40.22</td>\n",
       "      <td>39.118626</td>\n",
       "      <td>TEST</td>\n",
       "    </tr>\n",
       "    <tr>\n",
       "      <th>1047</th>\n",
       "      <td>2021-12-27 11:00:00+00:00</td>\n",
       "      <td>44.20</td>\n",
       "      <td>45.547106</td>\n",
       "      <td>TEST</td>\n",
       "    </tr>\n",
       "    <tr>\n",
       "      <th>1048</th>\n",
       "      <td>2021-12-28 11:00:00+00:00</td>\n",
       "      <td>46.44</td>\n",
       "      <td>45.735606</td>\n",
       "      <td>TEST</td>\n",
       "    </tr>\n",
       "    <tr>\n",
       "      <th>1049</th>\n",
       "      <td>2021-12-29 11:00:00+00:00</td>\n",
       "      <td>39.87</td>\n",
       "      <td>39.005548</td>\n",
       "      <td>TEST</td>\n",
       "    </tr>\n",
       "  </tbody>\n",
       "</table>\n",
       "<p>1050 rows × 4 columns</p>\n",
       "</div>"
      ],
      "text/plain": [
       "                          DATE   CS28  CS28_PRED    SET\n",
       "0    2020-01-01 11:00:00+00:00  42.93  41.297922  TRAIN\n",
       "1    2020-01-02 11:00:00+00:00  49.72  48.695354  TRAIN\n",
       "2    2020-01-02 11:00:00+00:00  39.49  41.297922  TRAIN\n",
       "3    2020-01-03 11:00:00+00:00  40.55  41.297922  TRAIN\n",
       "4    2020-01-04 11:00:00+00:00  42.64  41.297922  TRAIN\n",
       "...                        ...    ...        ...    ...\n",
       "1045 2021-12-25 11:00:00+00:00  37.12  39.773592   TEST\n",
       "1046 2021-12-26 11:00:00+00:00  40.22  39.118626   TEST\n",
       "1047 2021-12-27 11:00:00+00:00  44.20  45.547106   TEST\n",
       "1048 2021-12-28 11:00:00+00:00  46.44  45.735606   TEST\n",
       "1049 2021-12-29 11:00:00+00:00  39.87  39.005548   TEST\n",
       "\n",
       "[1050 rows x 4 columns]"
      ]
     },
     "execution_count": 13,
     "metadata": {},
     "output_type": "execute_result"
    },
    {
     "data": {
      "application/javascript": [
       "\n",
       "            setTimeout(function() {\n",
       "                var nbb_cell_id = 13;\n",
       "                var nbb_unformatted_code = \"df_pred[[\\\"DATE\\\", \\\"CS28\\\", \\\"CS28_PRED\\\", \\\"SET\\\"]]\";\n",
       "                var nbb_formatted_code = \"df_pred[[\\\"DATE\\\", \\\"CS28\\\", \\\"CS28_PRED\\\", \\\"SET\\\"]]\";\n",
       "                var nbb_cells = Jupyter.notebook.get_cells();\n",
       "                for (var i = 0; i < nbb_cells.length; ++i) {\n",
       "                    if (nbb_cells[i].input_prompt_number == nbb_cell_id) {\n",
       "                        if (nbb_cells[i].get_text() == nbb_unformatted_code) {\n",
       "                             nbb_cells[i].set_text(nbb_formatted_code);\n",
       "                        }\n",
       "                        break;\n",
       "                    }\n",
       "                }\n",
       "            }, 500);\n",
       "            "
      ],
      "text/plain": [
       "<IPython.core.display.Javascript object>"
      ]
     },
     "metadata": {},
     "output_type": "display_data"
    }
   ],
   "source": [
    "df_pred[[\"DATE\", \"CS28\", \"CS28_PRED\", \"SET\"]]"
   ]
  },
  {
   "cell_type": "code",
   "execution_count": 14,
   "id": "96fed55e",
   "metadata": {},
   "outputs": [
    {
     "data": {
      "text/html": [
       "<div>\n",
       "<style scoped>\n",
       "    .dataframe tbody tr th:only-of-type {\n",
       "        vertical-align: middle;\n",
       "    }\n",
       "\n",
       "    .dataframe tbody tr th {\n",
       "        vertical-align: top;\n",
       "    }\n",
       "\n",
       "    .dataframe thead th {\n",
       "        text-align: right;\n",
       "    }\n",
       "</style>\n",
       "<table border=\"1\" class=\"dataframe\">\n",
       "  <thead>\n",
       "    <tr style=\"text-align: right;\">\n",
       "      <th></th>\n",
       "      <th>Date</th>\n",
       "      <th>CaO</th>\n",
       "      <th>SiO2</th>\n",
       "      <th>Al2O3</th>\n",
       "      <th>Fe2O3</th>\n",
       "      <th>MgO</th>\n",
       "      <th>SO3</th>\n",
       "      <th>K2O</th>\n",
       "      <th>Na2O</th>\n",
       "      <th>Total C3S</th>\n",
       "      <th>Total C2S</th>\n",
       "      <th>C3A</th>\n",
       "      <th>C4AF</th>\n",
       "      <th>Free CaO</th>\n",
       "      <th>Loss on Ignition</th>\n",
       "    </tr>\n",
       "  </thead>\n",
       "  <tbody>\n",
       "    <tr>\n",
       "      <th>0</th>\n",
       "      <td>2020-01-01 11:00:00</td>\n",
       "      <td>63.45</td>\n",
       "      <td>19.63</td>\n",
       "      <td>4.90</td>\n",
       "      <td>3.30</td>\n",
       "      <td>3.50</td>\n",
       "      <td>2.89</td>\n",
       "      <td>0.65</td>\n",
       "      <td>0.06</td>\n",
       "      <td>57.88</td>\n",
       "      <td>14.47</td>\n",
       "      <td>5.55</td>\n",
       "      <td>11.26</td>\n",
       "      <td>0.67</td>\n",
       "      <td>3.08</td>\n",
       "    </tr>\n",
       "    <tr>\n",
       "      <th>1</th>\n",
       "      <td>2020-01-02 11:00:00</td>\n",
       "      <td>62.22</td>\n",
       "      <td>19.30</td>\n",
       "      <td>4.80</td>\n",
       "      <td>3.23</td>\n",
       "      <td>3.60</td>\n",
       "      <td>3.20</td>\n",
       "      <td>0.67</td>\n",
       "      <td>0.07</td>\n",
       "      <td>57.86</td>\n",
       "      <td>14.79</td>\n",
       "      <td>5.33</td>\n",
       "      <td>11.46</td>\n",
       "      <td>0.69</td>\n",
       "      <td>3.08</td>\n",
       "    </tr>\n",
       "    <tr>\n",
       "      <th>2</th>\n",
       "      <td>2020-01-02 11:00:00</td>\n",
       "      <td>62.34</td>\n",
       "      <td>19.28</td>\n",
       "      <td>4.81</td>\n",
       "      <td>3.29</td>\n",
       "      <td>3.48</td>\n",
       "      <td>2.85</td>\n",
       "      <td>0.66</td>\n",
       "      <td>0.06</td>\n",
       "      <td>57.24</td>\n",
       "      <td>14.72</td>\n",
       "      <td>5.52</td>\n",
       "      <td>11.06</td>\n",
       "      <td>0.75</td>\n",
       "      <td>3.38</td>\n",
       "    </tr>\n",
       "    <tr>\n",
       "      <th>3</th>\n",
       "      <td>2020-01-03 11:00:00</td>\n",
       "      <td>62.18</td>\n",
       "      <td>19.29</td>\n",
       "      <td>4.85</td>\n",
       "      <td>3.33</td>\n",
       "      <td>3.47</td>\n",
       "      <td>2.87</td>\n",
       "      <td>0.69</td>\n",
       "      <td>0.08</td>\n",
       "      <td>58.03</td>\n",
       "      <td>13.46</td>\n",
       "      <td>5.55</td>\n",
       "      <td>11.33</td>\n",
       "      <td>0.70</td>\n",
       "      <td>3.20</td>\n",
       "    </tr>\n",
       "    <tr>\n",
       "      <th>4</th>\n",
       "      <td>2020-01-04 11:00:00</td>\n",
       "      <td>61.97</td>\n",
       "      <td>19.28</td>\n",
       "      <td>4.93</td>\n",
       "      <td>3.39</td>\n",
       "      <td>3.49</td>\n",
       "      <td>2.87</td>\n",
       "      <td>0.72</td>\n",
       "      <td>0.11</td>\n",
       "      <td>58.32</td>\n",
       "      <td>13.38</td>\n",
       "      <td>5.73</td>\n",
       "      <td>11.56</td>\n",
       "      <td>0.63</td>\n",
       "      <td>2.94</td>\n",
       "    </tr>\n",
       "    <tr>\n",
       "      <th>...</th>\n",
       "      <td>...</td>\n",
       "      <td>...</td>\n",
       "      <td>...</td>\n",
       "      <td>...</td>\n",
       "      <td>...</td>\n",
       "      <td>...</td>\n",
       "      <td>...</td>\n",
       "      <td>...</td>\n",
       "      <td>...</td>\n",
       "      <td>...</td>\n",
       "      <td>...</td>\n",
       "      <td>...</td>\n",
       "      <td>...</td>\n",
       "      <td>...</td>\n",
       "      <td>...</td>\n",
       "    </tr>\n",
       "    <tr>\n",
       "      <th>1048</th>\n",
       "      <td>2021-12-28 11:00:00</td>\n",
       "      <td>63.32</td>\n",
       "      <td>19.52</td>\n",
       "      <td>4.39</td>\n",
       "      <td>3.25</td>\n",
       "      <td>2.26</td>\n",
       "      <td>3.39</td>\n",
       "      <td>0.61</td>\n",
       "      <td>0.09</td>\n",
       "      <td>59.16</td>\n",
       "      <td>14.46</td>\n",
       "      <td>4.62</td>\n",
       "      <td>12.13</td>\n",
       "      <td>0.64</td>\n",
       "      <td>2.86</td>\n",
       "    </tr>\n",
       "    <tr>\n",
       "      <th>1049</th>\n",
       "      <td>2021-12-29 11:00:00</td>\n",
       "      <td>62.24</td>\n",
       "      <td>18.11</td>\n",
       "      <td>4.19</td>\n",
       "      <td>3.03</td>\n",
       "      <td>2.26</td>\n",
       "      <td>3.13</td>\n",
       "      <td>0.59</td>\n",
       "      <td>0.07</td>\n",
       "      <td>52.90</td>\n",
       "      <td>15.11</td>\n",
       "      <td>4.59</td>\n",
       "      <td>10.77</td>\n",
       "      <td>0.76</td>\n",
       "      <td>5.56</td>\n",
       "    </tr>\n",
       "    <tr>\n",
       "      <th>1050</th>\n",
       "      <td>2021-12-30 11:00:00</td>\n",
       "      <td>62.23</td>\n",
       "      <td>18.10</td>\n",
       "      <td>4.21</td>\n",
       "      <td>3.03</td>\n",
       "      <td>2.26</td>\n",
       "      <td>3.08</td>\n",
       "      <td>0.59</td>\n",
       "      <td>0.08</td>\n",
       "      <td>52.27</td>\n",
       "      <td>15.41</td>\n",
       "      <td>4.74</td>\n",
       "      <td>10.42</td>\n",
       "      <td>0.85</td>\n",
       "      <td>5.60</td>\n",
       "    </tr>\n",
       "    <tr>\n",
       "      <th>1051</th>\n",
       "      <td>2021-12-31 11:00:00</td>\n",
       "      <td>62.27</td>\n",
       "      <td>18.02</td>\n",
       "      <td>4.15</td>\n",
       "      <td>2.99</td>\n",
       "      <td>2.33</td>\n",
       "      <td>3.12</td>\n",
       "      <td>0.60</td>\n",
       "      <td>0.08</td>\n",
       "      <td>53.11</td>\n",
       "      <td>14.65</td>\n",
       "      <td>4.49</td>\n",
       "      <td>10.41</td>\n",
       "      <td>1.05</td>\n",
       "      <td>5.73</td>\n",
       "    </tr>\n",
       "    <tr>\n",
       "      <th>1052</th>\n",
       "      <td>2021-12-31 11:00:00</td>\n",
       "      <td>62.95</td>\n",
       "      <td>19.38</td>\n",
       "      <td>4.44</td>\n",
       "      <td>3.22</td>\n",
       "      <td>2.35</td>\n",
       "      <td>2.91</td>\n",
       "      <td>0.62</td>\n",
       "      <td>0.10</td>\n",
       "      <td>58.20</td>\n",
       "      <td>14.83</td>\n",
       "      <td>4.89</td>\n",
       "      <td>11.17</td>\n",
       "      <td>1.03</td>\n",
       "      <td>3.21</td>\n",
       "    </tr>\n",
       "  </tbody>\n",
       "</table>\n",
       "<p>1053 rows × 15 columns</p>\n",
       "</div>"
      ],
      "text/plain": [
       "                    Date    CaO   SiO2  Al2O3  Fe2O3   MgO   SO3   K2O  Na2O  \\\n",
       "0    2020-01-01 11:00:00  63.45  19.63   4.90   3.30  3.50  2.89  0.65  0.06   \n",
       "1    2020-01-02 11:00:00  62.22  19.30   4.80   3.23  3.60  3.20  0.67  0.07   \n",
       "2    2020-01-02 11:00:00  62.34  19.28   4.81   3.29  3.48  2.85  0.66  0.06   \n",
       "3    2020-01-03 11:00:00  62.18  19.29   4.85   3.33  3.47  2.87  0.69  0.08   \n",
       "4    2020-01-04 11:00:00  61.97  19.28   4.93   3.39  3.49  2.87  0.72  0.11   \n",
       "...                  ...    ...    ...    ...    ...   ...   ...   ...   ...   \n",
       "1048 2021-12-28 11:00:00  63.32  19.52   4.39   3.25  2.26  3.39  0.61  0.09   \n",
       "1049 2021-12-29 11:00:00  62.24  18.11   4.19   3.03  2.26  3.13  0.59  0.07   \n",
       "1050 2021-12-30 11:00:00  62.23  18.10   4.21   3.03  2.26  3.08  0.59  0.08   \n",
       "1051 2021-12-31 11:00:00  62.27  18.02   4.15   2.99  2.33  3.12  0.60  0.08   \n",
       "1052 2021-12-31 11:00:00  62.95  19.38   4.44   3.22  2.35  2.91  0.62  0.10   \n",
       "\n",
       "      Total C3S  Total C2S   C3A   C4AF  Free CaO  Loss on Ignition  \n",
       "0         57.88      14.47  5.55  11.26      0.67              3.08  \n",
       "1         57.86      14.79  5.33  11.46      0.69              3.08  \n",
       "2         57.24      14.72  5.52  11.06      0.75              3.38  \n",
       "3         58.03      13.46  5.55  11.33      0.70              3.20  \n",
       "4         58.32      13.38  5.73  11.56      0.63              2.94  \n",
       "...         ...        ...   ...    ...       ...               ...  \n",
       "1048      59.16      14.46  4.62  12.13      0.64              2.86  \n",
       "1049      52.90      15.11  4.59  10.77      0.76              5.56  \n",
       "1050      52.27      15.41  4.74  10.42      0.85              5.60  \n",
       "1051      53.11      14.65  4.49  10.41      1.05              5.73  \n",
       "1052      58.20      14.83  4.89  11.17      1.03              3.21  \n",
       "\n",
       "[1053 rows x 15 columns]"
      ]
     },
     "execution_count": 14,
     "metadata": {},
     "output_type": "execute_result"
    },
    {
     "data": {
      "application/javascript": [
       "\n",
       "            setTimeout(function() {\n",
       "                var nbb_cell_id = 14;\n",
       "                var nbb_unformatted_code = \"df_copy_copy = df_copy.copy()\\ndf_copy_copy[\\\"Date\\\"] = pd.to_datetime(df_copy_copy[\\\"Date\\\"])\\ndf_copy_copy[\\\"Date\\\"] = df_copy_copy[\\\"Date\\\"].dt.tz_localize(None)\\ndf_copy_copy\";\n",
       "                var nbb_formatted_code = \"df_copy_copy = df_copy.copy()\\ndf_copy_copy[\\\"Date\\\"] = pd.to_datetime(df_copy_copy[\\\"Date\\\"])\\ndf_copy_copy[\\\"Date\\\"] = df_copy_copy[\\\"Date\\\"].dt.tz_localize(None)\\ndf_copy_copy\";\n",
       "                var nbb_cells = Jupyter.notebook.get_cells();\n",
       "                for (var i = 0; i < nbb_cells.length; ++i) {\n",
       "                    if (nbb_cells[i].input_prompt_number == nbb_cell_id) {\n",
       "                        if (nbb_cells[i].get_text() == nbb_unformatted_code) {\n",
       "                             nbb_cells[i].set_text(nbb_formatted_code);\n",
       "                        }\n",
       "                        break;\n",
       "                    }\n",
       "                }\n",
       "            }, 500);\n",
       "            "
      ],
      "text/plain": [
       "<IPython.core.display.Javascript object>"
      ]
     },
     "metadata": {},
     "output_type": "display_data"
    }
   ],
   "source": [
    "df_copy_copy = df_copy.copy()\n",
    "df_copy_copy[\"Date\"] = pd.to_datetime(df_copy_copy[\"Date\"])\n",
    "df_copy_copy[\"Date\"] = df_copy_copy[\"Date\"].dt.tz_localize(None)\n",
    "df_copy_copy"
   ]
  },
  {
   "cell_type": "code",
   "execution_count": 15,
   "id": "7a76f875",
   "metadata": {},
   "outputs": [
    {
     "data": {
      "text/html": [
       "<div>\n",
       "<style scoped>\n",
       "    .dataframe tbody tr th:only-of-type {\n",
       "        vertical-align: middle;\n",
       "    }\n",
       "\n",
       "    .dataframe tbody tr th {\n",
       "        vertical-align: top;\n",
       "    }\n",
       "\n",
       "    .dataframe thead th {\n",
       "        text-align: right;\n",
       "    }\n",
       "</style>\n",
       "<table border=\"1\" class=\"dataframe\">\n",
       "  <thead>\n",
       "    <tr style=\"text-align: right;\">\n",
       "      <th></th>\n",
       "      <th>DATE</th>\n",
       "      <th>CS28</th>\n",
       "      <th>CS28_PRED</th>\n",
       "      <th>SET</th>\n",
       "      <th>CEMENT_TYPE</th>\n",
       "    </tr>\n",
       "  </thead>\n",
       "  <tbody>\n",
       "    <tr>\n",
       "      <th>0</th>\n",
       "      <td>2020-01-01 11:00:00+00:00</td>\n",
       "      <td>42.93</td>\n",
       "      <td>41.297922</td>\n",
       "      <td>TRAIN</td>\n",
       "      <td>Type I-II</td>\n",
       "    </tr>\n",
       "    <tr>\n",
       "      <th>1</th>\n",
       "      <td>2020-01-02 11:00:00+00:00</td>\n",
       "      <td>49.72</td>\n",
       "      <td>48.695354</td>\n",
       "      <td>TRAIN</td>\n",
       "      <td>Type III</td>\n",
       "    </tr>\n",
       "    <tr>\n",
       "      <th>2</th>\n",
       "      <td>2020-01-02 11:00:00+00:00</td>\n",
       "      <td>39.49</td>\n",
       "      <td>41.297922</td>\n",
       "      <td>TRAIN</td>\n",
       "      <td>Type I-II</td>\n",
       "    </tr>\n",
       "    <tr>\n",
       "      <th>3</th>\n",
       "      <td>2020-01-03 11:00:00+00:00</td>\n",
       "      <td>40.55</td>\n",
       "      <td>41.297922</td>\n",
       "      <td>TRAIN</td>\n",
       "      <td>Type I-II</td>\n",
       "    </tr>\n",
       "    <tr>\n",
       "      <th>4</th>\n",
       "      <td>2020-01-04 11:00:00+00:00</td>\n",
       "      <td>42.64</td>\n",
       "      <td>41.297922</td>\n",
       "      <td>TRAIN</td>\n",
       "      <td>Type I-II</td>\n",
       "    </tr>\n",
       "    <tr>\n",
       "      <th>...</th>\n",
       "      <td>...</td>\n",
       "      <td>...</td>\n",
       "      <td>...</td>\n",
       "      <td>...</td>\n",
       "      <td>...</td>\n",
       "    </tr>\n",
       "    <tr>\n",
       "      <th>1045</th>\n",
       "      <td>2021-12-25 11:00:00+00:00</td>\n",
       "      <td>37.12</td>\n",
       "      <td>39.773592</td>\n",
       "      <td>TEST</td>\n",
       "      <td>Type I-II</td>\n",
       "    </tr>\n",
       "    <tr>\n",
       "      <th>1046</th>\n",
       "      <td>2021-12-26 11:00:00+00:00</td>\n",
       "      <td>40.22</td>\n",
       "      <td>39.118626</td>\n",
       "      <td>TEST</td>\n",
       "      <td>Type I-II</td>\n",
       "    </tr>\n",
       "    <tr>\n",
       "      <th>1047</th>\n",
       "      <td>2021-12-27 11:00:00+00:00</td>\n",
       "      <td>44.20</td>\n",
       "      <td>45.547106</td>\n",
       "      <td>TEST</td>\n",
       "      <td>Type III</td>\n",
       "    </tr>\n",
       "    <tr>\n",
       "      <th>1048</th>\n",
       "      <td>2021-12-28 11:00:00+00:00</td>\n",
       "      <td>46.44</td>\n",
       "      <td>45.735606</td>\n",
       "      <td>TEST</td>\n",
       "      <td>Type III</td>\n",
       "    </tr>\n",
       "    <tr>\n",
       "      <th>1049</th>\n",
       "      <td>2021-12-29 11:00:00+00:00</td>\n",
       "      <td>39.87</td>\n",
       "      <td>39.005548</td>\n",
       "      <td>TEST</td>\n",
       "      <td>Type IL</td>\n",
       "    </tr>\n",
       "  </tbody>\n",
       "</table>\n",
       "<p>1050 rows × 5 columns</p>\n",
       "</div>"
      ],
      "text/plain": [
       "                          DATE   CS28  CS28_PRED    SET CEMENT_TYPE\n",
       "0    2020-01-01 11:00:00+00:00  42.93  41.297922  TRAIN   Type I-II\n",
       "1    2020-01-02 11:00:00+00:00  49.72  48.695354  TRAIN    Type III\n",
       "2    2020-01-02 11:00:00+00:00  39.49  41.297922  TRAIN   Type I-II\n",
       "3    2020-01-03 11:00:00+00:00  40.55  41.297922  TRAIN   Type I-II\n",
       "4    2020-01-04 11:00:00+00:00  42.64  41.297922  TRAIN   Type I-II\n",
       "...                        ...    ...        ...    ...         ...\n",
       "1045 2021-12-25 11:00:00+00:00  37.12  39.773592   TEST   Type I-II\n",
       "1046 2021-12-26 11:00:00+00:00  40.22  39.118626   TEST   Type I-II\n",
       "1047 2021-12-27 11:00:00+00:00  44.20  45.547106   TEST    Type III\n",
       "1048 2021-12-28 11:00:00+00:00  46.44  45.735606   TEST    Type III\n",
       "1049 2021-12-29 11:00:00+00:00  39.87  39.005548   TEST     Type IL\n",
       "\n",
       "[1050 rows x 5 columns]"
      ]
     },
     "execution_count": 15,
     "metadata": {},
     "output_type": "execute_result"
    },
    {
     "data": {
      "application/javascript": [
       "\n",
       "            setTimeout(function() {\n",
       "                var nbb_cell_id = 15;\n",
       "                var nbb_unformatted_code = \"df_pred\";\n",
       "                var nbb_formatted_code = \"df_pred\";\n",
       "                var nbb_cells = Jupyter.notebook.get_cells();\n",
       "                for (var i = 0; i < nbb_cells.length; ++i) {\n",
       "                    if (nbb_cells[i].input_prompt_number == nbb_cell_id) {\n",
       "                        if (nbb_cells[i].get_text() == nbb_unformatted_code) {\n",
       "                             nbb_cells[i].set_text(nbb_formatted_code);\n",
       "                        }\n",
       "                        break;\n",
       "                    }\n",
       "                }\n",
       "            }, 500);\n",
       "            "
      ],
      "text/plain": [
       "<IPython.core.display.Javascript object>"
      ]
     },
     "metadata": {},
     "output_type": "display_data"
    }
   ],
   "source": [
    "df_pred"
   ]
  },
  {
   "cell_type": "code",
   "execution_count": 16,
   "id": "5c1f7b64",
   "metadata": {},
   "outputs": [
    {
     "data": {
      "application/javascript": [
       "\n",
       "            setTimeout(function() {\n",
       "                var nbb_cell_id = 16;\n",
       "                var nbb_unformatted_code = \"df_copy_copy = df_copy.copy()\\ndf_copy_copy[\\\"Date\\\"] = pd.to_datetime(df_copy_copy[\\\"Date\\\"])\\ndf_copy_copy[\\\"Date\\\"] = df_copy_copy[\\\"Date\\\"].dt.tz_localize(None)\\n\\ndf_pred_copy = df_pred.copy()\\ndf_pred_copy[\\\"DATE\\\"] = pd.to_datetime(df_pred_copy[\\\"DATE\\\"])\\ndf_pred_copy[\\\"DATE\\\"] = df_pred_copy[\\\"DATE\\\"].dt.tz_localize(None)\\n\\ndf_copy_merge = df_copy_copy.reset_index(drop=True).merge(\\n    df_pred_copy.reset_index(drop=True), left_index=True, right_index=True, how=\\\"inner\\\"\\n)\\ndf_copy_merge[\\\"COMPANY\\\"] = \\\"Partner ii\\\"\\ndf_copy_merge[\\\"PLANT\\\"] = \\\"Partner ii\\\"\\n\\nfor fold, (train_index, test_index) in enumerate(cv.split(x)):\\n    df_copy_merge.loc[train_index, \\\"FOLD\\\"] = fold + 1\\n    df_copy_merge.loc[test_index, \\\"FOLD\\\"] = fold + 1\\ndf_copy_merge[\\\"FOLD\\\"] = df_copy_merge[\\\"FOLD\\\"].astype(int)\\ndf_copy_merge.to_excel(\\\"local_model_random_forest_btsscv_partner_ii.xlsx\\\", index=False)\\ndf_copy_merge.to_csv(\\\"local_model_random_forest_btsscv_partner_ii.csv\\\", index=False)\";\n",
       "                var nbb_formatted_code = \"df_copy_copy = df_copy.copy()\\ndf_copy_copy[\\\"Date\\\"] = pd.to_datetime(df_copy_copy[\\\"Date\\\"])\\ndf_copy_copy[\\\"Date\\\"] = df_copy_copy[\\\"Date\\\"].dt.tz_localize(None)\\n\\ndf_pred_copy = df_pred.copy()\\ndf_pred_copy[\\\"DATE\\\"] = pd.to_datetime(df_pred_copy[\\\"DATE\\\"])\\ndf_pred_copy[\\\"DATE\\\"] = df_pred_copy[\\\"DATE\\\"].dt.tz_localize(None)\\n\\ndf_copy_merge = df_copy_copy.reset_index(drop=True).merge(\\n    df_pred_copy.reset_index(drop=True), left_index=True, right_index=True, how=\\\"inner\\\"\\n)\\ndf_copy_merge[\\\"COMPANY\\\"] = \\\"Partner ii\\\"\\ndf_copy_merge[\\\"PLANT\\\"] = \\\"Partner ii\\\"\\n\\nfor fold, (train_index, test_index) in enumerate(cv.split(x)):\\n    df_copy_merge.loc[train_index, \\\"FOLD\\\"] = fold + 1\\n    df_copy_merge.loc[test_index, \\\"FOLD\\\"] = fold + 1\\ndf_copy_merge[\\\"FOLD\\\"] = df_copy_merge[\\\"FOLD\\\"].astype(int)\\ndf_copy_merge.to_excel(\\\"local_model_random_forest_btsscv_partner_ii.xlsx\\\", index=False)\\ndf_copy_merge.to_csv(\\\"local_model_random_forest_btsscv_partner_ii.csv\\\", index=False)\";\n",
       "                var nbb_cells = Jupyter.notebook.get_cells();\n",
       "                for (var i = 0; i < nbb_cells.length; ++i) {\n",
       "                    if (nbb_cells[i].input_prompt_number == nbb_cell_id) {\n",
       "                        if (nbb_cells[i].get_text() == nbb_unformatted_code) {\n",
       "                             nbb_cells[i].set_text(nbb_formatted_code);\n",
       "                        }\n",
       "                        break;\n",
       "                    }\n",
       "                }\n",
       "            }, 500);\n",
       "            "
      ],
      "text/plain": [
       "<IPython.core.display.Javascript object>"
      ]
     },
     "metadata": {},
     "output_type": "display_data"
    }
   ],
   "source": [
    "df_copy_copy = df_copy.copy()\n",
    "df_copy_copy[\"Date\"] = pd.to_datetime(df_copy_copy[\"Date\"])\n",
    "df_copy_copy[\"Date\"] = df_copy_copy[\"Date\"].dt.tz_localize(None)\n",
    "\n",
    "df_pred_copy = df_pred.copy()\n",
    "df_pred_copy[\"DATE\"] = pd.to_datetime(df_pred_copy[\"DATE\"])\n",
    "df_pred_copy[\"DATE\"] = df_pred_copy[\"DATE\"].dt.tz_localize(None)\n",
    "\n",
    "df_copy_merge = df_copy_copy.reset_index(drop=True).merge(\n",
    "    df_pred_copy.reset_index(drop=True), left_index=True, right_index=True, how=\"inner\"\n",
    ")\n",
    "df_copy_merge[\"COMPANY\"] = \"Partner ii\"\n",
    "df_copy_merge[\"PLANT\"] = \"Partner ii\"\n",
    "\n",
    "for fold, (train_index, test_index) in enumerate(cv.split(x)):\n",
    "    df_copy_merge.loc[train_index, \"FOLD\"] = fold + 1\n",
    "    df_copy_merge.loc[test_index, \"FOLD\"] = fold + 1\n",
    "df_copy_merge[\"FOLD\"] = df_copy_merge[\"FOLD\"].astype(int)\n",
    "df_copy_merge.to_excel(\"local_model_random_forest_btsscv_partner_ii.xlsx\", index=False)\n",
    "df_copy_merge.to_csv(\"local_model_random_forest_btsscv_partner_ii.csv\", index=False)"
   ]
  },
  {
   "cell_type": "code",
   "execution_count": 17,
   "id": "9471f014",
   "metadata": {},
   "outputs": [
    {
     "data": {
      "text/html": [
       "<div>\n",
       "<style scoped>\n",
       "    .dataframe tbody tr th:only-of-type {\n",
       "        vertical-align: middle;\n",
       "    }\n",
       "\n",
       "    .dataframe tbody tr th {\n",
       "        vertical-align: top;\n",
       "    }\n",
       "\n",
       "    .dataframe thead th {\n",
       "        text-align: right;\n",
       "    }\n",
       "</style>\n",
       "<table border=\"1\" class=\"dataframe\">\n",
       "  <thead>\n",
       "    <tr style=\"text-align: right;\">\n",
       "      <th></th>\n",
       "      <th>DATE</th>\n",
       "      <th>CS28</th>\n",
       "      <th>CS28_PRED</th>\n",
       "      <th>SET</th>\n",
       "      <th>CEMENT_TYPE</th>\n",
       "    </tr>\n",
       "  </thead>\n",
       "  <tbody>\n",
       "    <tr>\n",
       "      <th>0</th>\n",
       "      <td>2020-01-01 11:00:00+00:00</td>\n",
       "      <td>42.93</td>\n",
       "      <td>41.297922</td>\n",
       "      <td>TRAIN</td>\n",
       "      <td>Type I-II</td>\n",
       "    </tr>\n",
       "    <tr>\n",
       "      <th>1</th>\n",
       "      <td>2020-01-02 11:00:00+00:00</td>\n",
       "      <td>49.72</td>\n",
       "      <td>48.695354</td>\n",
       "      <td>TRAIN</td>\n",
       "      <td>Type III</td>\n",
       "    </tr>\n",
       "    <tr>\n",
       "      <th>2</th>\n",
       "      <td>2020-01-02 11:00:00+00:00</td>\n",
       "      <td>39.49</td>\n",
       "      <td>41.297922</td>\n",
       "      <td>TRAIN</td>\n",
       "      <td>Type I-II</td>\n",
       "    </tr>\n",
       "    <tr>\n",
       "      <th>3</th>\n",
       "      <td>2020-01-03 11:00:00+00:00</td>\n",
       "      <td>40.55</td>\n",
       "      <td>41.297922</td>\n",
       "      <td>TRAIN</td>\n",
       "      <td>Type I-II</td>\n",
       "    </tr>\n",
       "    <tr>\n",
       "      <th>4</th>\n",
       "      <td>2020-01-04 11:00:00+00:00</td>\n",
       "      <td>42.64</td>\n",
       "      <td>41.297922</td>\n",
       "      <td>TRAIN</td>\n",
       "      <td>Type I-II</td>\n",
       "    </tr>\n",
       "    <tr>\n",
       "      <th>...</th>\n",
       "      <td>...</td>\n",
       "      <td>...</td>\n",
       "      <td>...</td>\n",
       "      <td>...</td>\n",
       "      <td>...</td>\n",
       "    </tr>\n",
       "    <tr>\n",
       "      <th>1045</th>\n",
       "      <td>2021-12-25 11:00:00+00:00</td>\n",
       "      <td>37.12</td>\n",
       "      <td>39.773592</td>\n",
       "      <td>TEST</td>\n",
       "      <td>Type I-II</td>\n",
       "    </tr>\n",
       "    <tr>\n",
       "      <th>1046</th>\n",
       "      <td>2021-12-26 11:00:00+00:00</td>\n",
       "      <td>40.22</td>\n",
       "      <td>39.118626</td>\n",
       "      <td>TEST</td>\n",
       "      <td>Type I-II</td>\n",
       "    </tr>\n",
       "    <tr>\n",
       "      <th>1047</th>\n",
       "      <td>2021-12-27 11:00:00+00:00</td>\n",
       "      <td>44.20</td>\n",
       "      <td>45.547106</td>\n",
       "      <td>TEST</td>\n",
       "      <td>Type III</td>\n",
       "    </tr>\n",
       "    <tr>\n",
       "      <th>1048</th>\n",
       "      <td>2021-12-28 11:00:00+00:00</td>\n",
       "      <td>46.44</td>\n",
       "      <td>45.735606</td>\n",
       "      <td>TEST</td>\n",
       "      <td>Type III</td>\n",
       "    </tr>\n",
       "    <tr>\n",
       "      <th>1049</th>\n",
       "      <td>2021-12-29 11:00:00+00:00</td>\n",
       "      <td>39.87</td>\n",
       "      <td>39.005548</td>\n",
       "      <td>TEST</td>\n",
       "      <td>Type IL</td>\n",
       "    </tr>\n",
       "  </tbody>\n",
       "</table>\n",
       "<p>1050 rows × 5 columns</p>\n",
       "</div>"
      ],
      "text/plain": [
       "                          DATE   CS28  CS28_PRED    SET CEMENT_TYPE\n",
       "0    2020-01-01 11:00:00+00:00  42.93  41.297922  TRAIN   Type I-II\n",
       "1    2020-01-02 11:00:00+00:00  49.72  48.695354  TRAIN    Type III\n",
       "2    2020-01-02 11:00:00+00:00  39.49  41.297922  TRAIN   Type I-II\n",
       "3    2020-01-03 11:00:00+00:00  40.55  41.297922  TRAIN   Type I-II\n",
       "4    2020-01-04 11:00:00+00:00  42.64  41.297922  TRAIN   Type I-II\n",
       "...                        ...    ...        ...    ...         ...\n",
       "1045 2021-12-25 11:00:00+00:00  37.12  39.773592   TEST   Type I-II\n",
       "1046 2021-12-26 11:00:00+00:00  40.22  39.118626   TEST   Type I-II\n",
       "1047 2021-12-27 11:00:00+00:00  44.20  45.547106   TEST    Type III\n",
       "1048 2021-12-28 11:00:00+00:00  46.44  45.735606   TEST    Type III\n",
       "1049 2021-12-29 11:00:00+00:00  39.87  39.005548   TEST     Type IL\n",
       "\n",
       "[1050 rows x 5 columns]"
      ]
     },
     "execution_count": 17,
     "metadata": {},
     "output_type": "execute_result"
    },
    {
     "data": {
      "application/javascript": [
       "\n",
       "            setTimeout(function() {\n",
       "                var nbb_cell_id = 17;\n",
       "                var nbb_unformatted_code = \"df_pred\";\n",
       "                var nbb_formatted_code = \"df_pred\";\n",
       "                var nbb_cells = Jupyter.notebook.get_cells();\n",
       "                for (var i = 0; i < nbb_cells.length; ++i) {\n",
       "                    if (nbb_cells[i].input_prompt_number == nbb_cell_id) {\n",
       "                        if (nbb_cells[i].get_text() == nbb_unformatted_code) {\n",
       "                             nbb_cells[i].set_text(nbb_formatted_code);\n",
       "                        }\n",
       "                        break;\n",
       "                    }\n",
       "                }\n",
       "            }, 500);\n",
       "            "
      ],
      "text/plain": [
       "<IPython.core.display.Javascript object>"
      ]
     },
     "metadata": {},
     "output_type": "display_data"
    }
   ],
   "source": [
    "df_pred"
   ]
  },
  {
   "cell_type": "code",
   "execution_count": 18,
   "id": "2543aff4",
   "metadata": {},
   "outputs": [
    {
     "data": {
      "application/javascript": [
       "\n",
       "            setTimeout(function() {\n",
       "                var nbb_cell_id = 18;\n",
       "                var nbb_unformatted_code = \"matplotlib.rc_file_defaults()\";\n",
       "                var nbb_formatted_code = \"matplotlib.rc_file_defaults()\";\n",
       "                var nbb_cells = Jupyter.notebook.get_cells();\n",
       "                for (var i = 0; i < nbb_cells.length; ++i) {\n",
       "                    if (nbb_cells[i].input_prompt_number == nbb_cell_id) {\n",
       "                        if (nbb_cells[i].get_text() == nbb_unformatted_code) {\n",
       "                             nbb_cells[i].set_text(nbb_formatted_code);\n",
       "                        }\n",
       "                        break;\n",
       "                    }\n",
       "                }\n",
       "            }, 500);\n",
       "            "
      ],
      "text/plain": [
       "<IPython.core.display.Javascript object>"
      ]
     },
     "metadata": {},
     "output_type": "display_data"
    }
   ],
   "source": [
    "matplotlib.rc_file_defaults()"
   ]
  },
  {
   "cell_type": "code",
   "execution_count": 19,
   "id": "7ef4dcc7",
   "metadata": {},
   "outputs": [
    {
     "data": {
      "application/javascript": [
       "\n",
       "            setTimeout(function() {\n",
       "                var nbb_cell_id = 19;\n",
       "                var nbb_unformatted_code = \"# # Assuming your DataFrame is named 'df_pred'\\n\\n# # Filter for test set predictions\\n# df_test = df_pred[df_pred['SET'] == 'TEST']\\n\\n# # Convert DATE to datetime objects if not already\\n# df_test['DATE'] = pd.to_datetime(df_test['DATE'])\\n\\n# # Create the plot\\n# fig, ax = plt.subplots(1, 1, sharex=True, sharey=True, figsize=(15, 10))\\n# colors = plt.cm.get_cmap(\\\"tab20\\\").colors\\n\\n# # Plot actual values\\n# ax.plot(df_test['DATE'], df_test['CS28'], label='Actual CS28', marker='o', linestyle='', color=colors[0])\\n# # Plot predicted values\\n# ax.plot(df_test['DATE'], df_test['CS28_PRED'], label='Predicted CS28', marker='x', linestyle='', color=colors[2])\\n\\n\\n\\n# # Add labels and title\\n# ax.set_xlabel(\\\"Date\\\", labelpad=20, fontsize=15)\\n# ax.set_ylabel('CS28 (MPa)', labelpad=20, fontsize=15)\\n# plt.title('Random Forest Model Predictions on Test Set')\\n# ax.legend()\\n# ax.grid(True)\\n\\n# # Rotate x-axis labels for better readability (optional)\\n# plt.xticks(rotation=45)\\n\\n# ax.grid(which=\\\"both\\\")\\n# ax.spines[\\\"top\\\"].set_visible(False)\\n# ax.spines[\\\"right\\\"].set_visible(False)\\n\\n# # Show the plot\\n# plt.tight_layout() # Adjust layout for better spacing\\n# plt.show()\";\n",
       "                var nbb_formatted_code = \"# # Assuming your DataFrame is named 'df_pred'\\n\\n# # Filter for test set predictions\\n# df_test = df_pred[df_pred['SET'] == 'TEST']\\n\\n# # Convert DATE to datetime objects if not already\\n# df_test['DATE'] = pd.to_datetime(df_test['DATE'])\\n\\n# # Create the plot\\n# fig, ax = plt.subplots(1, 1, sharex=True, sharey=True, figsize=(15, 10))\\n# colors = plt.cm.get_cmap(\\\"tab20\\\").colors\\n\\n# # Plot actual values\\n# ax.plot(df_test['DATE'], df_test['CS28'], label='Actual CS28', marker='o', linestyle='', color=colors[0])\\n# # Plot predicted values\\n# ax.plot(df_test['DATE'], df_test['CS28_PRED'], label='Predicted CS28', marker='x', linestyle='', color=colors[2])\\n\\n\\n# # Add labels and title\\n# ax.set_xlabel(\\\"Date\\\", labelpad=20, fontsize=15)\\n# ax.set_ylabel('CS28 (MPa)', labelpad=20, fontsize=15)\\n# plt.title('Random Forest Model Predictions on Test Set')\\n# ax.legend()\\n# ax.grid(True)\\n\\n# # Rotate x-axis labels for better readability (optional)\\n# plt.xticks(rotation=45)\\n\\n# ax.grid(which=\\\"both\\\")\\n# ax.spines[\\\"top\\\"].set_visible(False)\\n# ax.spines[\\\"right\\\"].set_visible(False)\\n\\n# # Show the plot\\n# plt.tight_layout() # Adjust layout for better spacing\\n# plt.show()\";\n",
       "                var nbb_cells = Jupyter.notebook.get_cells();\n",
       "                for (var i = 0; i < nbb_cells.length; ++i) {\n",
       "                    if (nbb_cells[i].input_prompt_number == nbb_cell_id) {\n",
       "                        if (nbb_cells[i].get_text() == nbb_unformatted_code) {\n",
       "                             nbb_cells[i].set_text(nbb_formatted_code);\n",
       "                        }\n",
       "                        break;\n",
       "                    }\n",
       "                }\n",
       "            }, 500);\n",
       "            "
      ],
      "text/plain": [
       "<IPython.core.display.Javascript object>"
      ]
     },
     "metadata": {},
     "output_type": "display_data"
    }
   ],
   "source": [
    "# # Assuming your DataFrame is named 'df_pred'\n",
    "\n",
    "# # Filter for test set predictions\n",
    "# df_test = df_pred[df_pred['SET'] == 'TEST']\n",
    "\n",
    "# # Convert DATE to datetime objects if not already\n",
    "# df_test['DATE'] = pd.to_datetime(df_test['DATE'])\n",
    "\n",
    "# # Create the plot\n",
    "# fig, ax = plt.subplots(1, 1, sharex=True, sharey=True, figsize=(15, 10))\n",
    "# colors = plt.cm.get_cmap(\"tab20\").colors\n",
    "\n",
    "# # Plot actual values\n",
    "# ax.plot(df_test['DATE'], df_test['CS28'], label='Actual CS28', marker='o', linestyle='', color=colors[0])\n",
    "# # Plot predicted values\n",
    "# ax.plot(df_test['DATE'], df_test['CS28_PRED'], label='Predicted CS28', marker='x', linestyle='', color=colors[2])\n",
    "\n",
    "\n",
    "\n",
    "# # Add labels and title\n",
    "# ax.set_xlabel(\"Date\", labelpad=20, fontsize=15)\n",
    "# ax.set_ylabel('CS28 (MPa)', labelpad=20, fontsize=15)\n",
    "# plt.title('Random Forest Model Predictions on Test Set')\n",
    "# ax.legend()\n",
    "# ax.grid(True)\n",
    "\n",
    "# # Rotate x-axis labels for better readability (optional)\n",
    "# plt.xticks(rotation=45)\n",
    "\n",
    "# ax.grid(which=\"both\")\n",
    "# ax.spines[\"top\"].set_visible(False)\n",
    "# ax.spines[\"right\"].set_visible(False)\n",
    "\n",
    "# # Show the plot\n",
    "# plt.tight_layout() # Adjust layout for better spacing\n",
    "# plt.show()\n"
   ]
  },
  {
   "cell_type": "code",
   "execution_count": 20,
   "id": "5eab3797",
   "metadata": {},
   "outputs": [
    {
     "data": {
      "application/javascript": [
       "\n",
       "            setTimeout(function() {\n",
       "                var nbb_cell_id = 20;\n",
       "                var nbb_unformatted_code = \"matplotlib.rc_file_defaults()\";\n",
       "                var nbb_formatted_code = \"matplotlib.rc_file_defaults()\";\n",
       "                var nbb_cells = Jupyter.notebook.get_cells();\n",
       "                for (var i = 0; i < nbb_cells.length; ++i) {\n",
       "                    if (nbb_cells[i].input_prompt_number == nbb_cell_id) {\n",
       "                        if (nbb_cells[i].get_text() == nbb_unformatted_code) {\n",
       "                             nbb_cells[i].set_text(nbb_formatted_code);\n",
       "                        }\n",
       "                        break;\n",
       "                    }\n",
       "                }\n",
       "            }, 500);\n",
       "            "
      ],
      "text/plain": [
       "<IPython.core.display.Javascript object>"
      ]
     },
     "metadata": {},
     "output_type": "display_data"
    }
   ],
   "source": [
    "matplotlib.rc_file_defaults()"
   ]
  },
  {
   "cell_type": "code",
   "execution_count": 21,
   "id": "62be6c0f",
   "metadata": {},
   "outputs": [
    {
     "data": {
      "image/png": "[encoded data removed]",
      "text/plain": [
       "<Figure size 500x500 with 1 Axes>"
      ]
     },
     "metadata": {},
     "output_type": "display_data"
    },
    {
     "data": {
      "application/javascript": [
       "\n",
       "            setTimeout(function() {\n",
       "                var nbb_cell_id = 21;\n",
       "                var nbb_unformatted_code = \"# Filter to only include the test set\\ntest_data = df_pred[df_pred[\\\"SET\\\"] == \\\"TEST\\\"]\\n\\n# Plot Predicted vs Actual for the test set\\nplt.figure(figsize=(5.0, 5.0))\\nplt.scatter(\\n    test_data[\\\"CS28\\\"], test_data[\\\"CS28_PRED\\\"], color=\\\"red\\\", alpha=0.5, label=\\\"Test Set\\\"\\n)\\nplt.plot(\\n    [test_data[\\\"CS28\\\"].min(), test_data[\\\"CS28\\\"].max()],\\n    [test_data[\\\"CS28\\\"].min(), test_data[\\\"CS28\\\"].max()],\\n    \\\"k--\\\",\\n    lw=2,\\n)\\nplt.xlabel(\\\"Actual CS28 (MPa)\\\")\\nplt.ylabel(\\\"Predicted CS28 (MPa)\\\")\\nplt.title(\\\"Predicted vs Actual CS28\\\")\\nplt.legend()\\nplt.grid(True)\\nplt.gca().spines[\\\"top\\\"].set_visible(False)\\nplt.gca().spines[\\\"right\\\"].set_visible(False)\\n\\nplt.savefig(\\\"inn_cm_btiss_scpm_top_one_pred_vs_actual_cs28.png\\\", dpi=300, bbox_inches='tight')\\n\\nplt.show()\\n# USAR ESSE\";\n",
       "                var nbb_formatted_code = \"# Filter to only include the test set\\ntest_data = df_pred[df_pred[\\\"SET\\\"] == \\\"TEST\\\"]\\n\\n# Plot Predicted vs Actual for the test set\\nplt.figure(figsize=(5.0, 5.0))\\nplt.scatter(\\n    test_data[\\\"CS28\\\"], test_data[\\\"CS28_PRED\\\"], color=\\\"red\\\", alpha=0.5, label=\\\"Test Set\\\"\\n)\\nplt.plot(\\n    [test_data[\\\"CS28\\\"].min(), test_data[\\\"CS28\\\"].max()],\\n    [test_data[\\\"CS28\\\"].min(), test_data[\\\"CS28\\\"].max()],\\n    \\\"k--\\\",\\n    lw=2,\\n)\\nplt.xlabel(\\\"Actual CS28 (MPa)\\\")\\nplt.ylabel(\\\"Predicted CS28 (MPa)\\\")\\nplt.title(\\\"Predicted vs Actual CS28\\\")\\nplt.legend()\\nplt.grid(True)\\nplt.gca().spines[\\\"top\\\"].set_visible(False)\\nplt.gca().spines[\\\"right\\\"].set_visible(False)\\n\\nplt.savefig(\\n    \\\"inn_cm_btiss_scpm_top_one_pred_vs_actual_cs28.png\\\", dpi=300, bbox_inches=\\\"tight\\\"\\n)\\n\\nplt.show()\\n# USAR ESSE\";\n",
       "                var nbb_cells = Jupyter.notebook.get_cells();\n",
       "                for (var i = 0; i < nbb_cells.length; ++i) {\n",
       "                    if (nbb_cells[i].input_prompt_number == nbb_cell_id) {\n",
       "                        if (nbb_cells[i].get_text() == nbb_unformatted_code) {\n",
       "                             nbb_cells[i].set_text(nbb_formatted_code);\n",
       "                        }\n",
       "                        break;\n",
       "                    }\n",
       "                }\n",
       "            }, 500);\n",
       "            "
      ],
      "text/plain": [
       "<IPython.core.display.Javascript object>"
      ]
     },
     "metadata": {},
     "output_type": "display_data"
    }
   ],
   "source": [
    "# Filter to only include the test set\n",
    "test_data = df_pred[df_pred[\"SET\"] == \"TEST\"]\n",
    "\n",
    "# Plot Predicted vs Actual for the test set\n",
    "plt.figure(figsize=(5.0, 5.0))\n",
    "plt.scatter(\n",
    "    test_data[\"CS28\"], test_data[\"CS28_PRED\"], color=\"red\", alpha=0.5, label=\"Test Set\"\n",
    ")\n",
    "plt.plot(\n",
    "    [test_data[\"CS28\"].min(), test_data[\"CS28\"].max()],\n",
    "    [test_data[\"CS28\"].min(), test_data[\"CS28\"].max()],\n",
    "    \"k--\",\n",
    "    lw=2,\n",
    ")\n",
    "plt.xlabel(\"Actual CS28 (MPa)\")\n",
    "plt.ylabel(\"Predicted CS28 (MPa)\")\n",
    "plt.title(\"Predicted vs Actual CS28\")\n",
    "plt.legend()\n",
    "plt.grid(True)\n",
    "plt.gca().spines[\"top\"].set_visible(False)\n",
    "plt.gca().spines[\"right\"].set_visible(False)\n",
    "\n",
    "plt.savefig(\"inn_cm_btiss_scpm_top_one_pred_vs_actual_cs28.png\", dpi=300, bbox_inches='tight')\n",
    "\n",
    "plt.show()\n",
    "# USAR ESSE\n",
    "\n"
   ]
  },
  {
   "cell_type": "code",
   "execution_count": 22,
   "id": "9338f3cb",
   "metadata": {},
   "outputs": [
    {
     "data": {
      "application/javascript": [
       "\n",
       "            setTimeout(function() {\n",
       "                var nbb_cell_id = 22;\n",
       "                var nbb_unformatted_code = \"# # Plot Predicted vs Actual for the test set\\n# plt.figure(figsize=(5.5, 5.5))\\n# plt.scatter(\\n#     test_data[\\\"CS28\\\"], test_data[\\\"CS28_PRED\\\"], color=\\\"dodgerblue\\\", alpha=0.7, label=\\\"Test Set\\\"\\n# )\\n# plt.plot(\\n#     [df_pred[\\\"CS28\\\"].min(), df_pred[\\\"CS28\\\"].max()],\\n#     [df_pred[\\\"CS28\\\"].min(), df_pred[\\\"CS28\\\"].max()],\\n#     color=\\\"black\\\", linestyle=\\\"--\\\", linewidth=2,\\n# )\\n# plt.xlabel(\\\"Actual CS28 (MPa)\\\")\\n# plt.ylabel(\\\"Predicted CS28 (MPa)\\\")\\n# plt.title(\\\"Predicted vs Actual CS28\\\")\\n# plt.legend()\\n# plt.grid(True)\\n# plt.gca().spines[\\\"top\\\"].set_visible(False)\\n# plt.gca().spines[\\\"right\\\"].set_visible(False)\\n\\n# plt.savefig(\\\"inn_cm_btiss_scpm_top_one_pred_vs_actual_cs28.png\\\", dpi=300, bbox_inches='tight')\\n# plt.show()\";\n",
       "                var nbb_formatted_code = \"# # Plot Predicted vs Actual for the test set\\n# plt.figure(figsize=(5.5, 5.5))\\n# plt.scatter(\\n#     test_data[\\\"CS28\\\"], test_data[\\\"CS28_PRED\\\"], color=\\\"dodgerblue\\\", alpha=0.7, label=\\\"Test Set\\\"\\n# )\\n# plt.plot(\\n#     [df_pred[\\\"CS28\\\"].min(), df_pred[\\\"CS28\\\"].max()],\\n#     [df_pred[\\\"CS28\\\"].min(), df_pred[\\\"CS28\\\"].max()],\\n#     color=\\\"black\\\", linestyle=\\\"--\\\", linewidth=2,\\n# )\\n# plt.xlabel(\\\"Actual CS28 (MPa)\\\")\\n# plt.ylabel(\\\"Predicted CS28 (MPa)\\\")\\n# plt.title(\\\"Predicted vs Actual CS28\\\")\\n# plt.legend()\\n# plt.grid(True)\\n# plt.gca().spines[\\\"top\\\"].set_visible(False)\\n# plt.gca().spines[\\\"right\\\"].set_visible(False)\\n\\n# plt.savefig(\\\"inn_cm_btiss_scpm_top_one_pred_vs_actual_cs28.png\\\", dpi=300, bbox_inches='tight')\\n# plt.show()\";\n",
       "                var nbb_cells = Jupyter.notebook.get_cells();\n",
       "                for (var i = 0; i < nbb_cells.length; ++i) {\n",
       "                    if (nbb_cells[i].input_prompt_number == nbb_cell_id) {\n",
       "                        if (nbb_cells[i].get_text() == nbb_unformatted_code) {\n",
       "                             nbb_cells[i].set_text(nbb_formatted_code);\n",
       "                        }\n",
       "                        break;\n",
       "                    }\n",
       "                }\n",
       "            }, 500);\n",
       "            "
      ],
      "text/plain": [
       "<IPython.core.display.Javascript object>"
      ]
     },
     "metadata": {},
     "output_type": "display_data"
    }
   ],
   "source": [
    "# # Plot Predicted vs Actual for the test set\n",
    "# plt.figure(figsize=(5.5, 5.5))\n",
    "# plt.scatter(\n",
    "#     test_data[\"CS28\"], test_data[\"CS28_PRED\"], color=\"dodgerblue\", alpha=0.7, label=\"Test Set\"\n",
    "# )\n",
    "# plt.plot(\n",
    "#     [df_pred[\"CS28\"].min(), df_pred[\"CS28\"].max()],\n",
    "#     [df_pred[\"CS28\"].min(), df_pred[\"CS28\"].max()],\n",
    "#     color=\"black\", linestyle=\"--\", linewidth=2,\n",
    "# )\n",
    "# plt.xlabel(\"Actual CS28 (MPa)\")\n",
    "# plt.ylabel(\"Predicted CS28 (MPa)\")\n",
    "# plt.title(\"Predicted vs Actual CS28\")\n",
    "# plt.legend()\n",
    "# plt.grid(True)\n",
    "# plt.gca().spines[\"top\"].set_visible(False)\n",
    "# plt.gca().spines[\"right\"].set_visible(False)\n",
    "\n",
    "# plt.savefig(\"inn_cm_btiss_scpm_top_one_pred_vs_actual_cs28.png\", dpi=300, bbox_inches='tight')\n",
    "# plt.show()\n"
   ]
  },
  {
   "cell_type": "code",
   "execution_count": 23,
   "id": "a9b99ebb",
   "metadata": {},
   "outputs": [
    {
     "data": {
      "image/png": "[encoded data removed]",
      "text/plain": [
       "<Figure size 600x600 with 1 Axes>"
      ]
     },
     "metadata": {},
     "output_type": "display_data"
    },
    {
     "data": {
      "application/javascript": [
       "\n",
       "            setTimeout(function() {\n",
       "                var nbb_cell_id = 23;\n",
       "                var nbb_unformatted_code = \"plt.figure(figsize=(6, 6))\\nplt.scatter(\\n    test_data[\\\"CS28\\\"], test_data[\\\"CS28_PRED\\\"], color=\\\"tomato\\\", alpha=0.7, label=\\\"Predicted\\\"\\n)\\nplt.plot(\\n    [test_data[\\\"CS28\\\"].min(), test_data[\\\"CS28\\\"].max()],\\n    [test_data[\\\"CS28\\\"].min(), test_data[\\\"CS28\\\"].max()],\\n    color=\\\"black\\\", linestyle=\\\"--\\\", linewidth=2,\\n)\\nplt.xlabel(\\\"Actual CS28 (MPa)\\\")\\nplt.ylabel(\\\"Predicted CS28 (MPa)\\\")\\nplt.title(\\\"Predicted vs Actual CS28\\\")\\nplt.legend()\\nplt.grid(True)\\nplt.gca().spines[\\\"top\\\"].set_visible(False)\\nplt.gca().spines[\\\"right\\\"].set_visible(False)\\n\\nplt.savefig(\\\"inn_cm_btiss_scpm_top_one_pred_vs_actual_cs28.png\\\", dpi=300, bbox_inches='tight')\\nplt.show()\";\n",
       "                var nbb_formatted_code = \"plt.figure(figsize=(6, 6))\\nplt.scatter(\\n    test_data[\\\"CS28\\\"],\\n    test_data[\\\"CS28_PRED\\\"],\\n    color=\\\"tomato\\\",\\n    alpha=0.7,\\n    label=\\\"Predicted\\\",\\n)\\nplt.plot(\\n    [test_data[\\\"CS28\\\"].min(), test_data[\\\"CS28\\\"].max()],\\n    [test_data[\\\"CS28\\\"].min(), test_data[\\\"CS28\\\"].max()],\\n    color=\\\"black\\\",\\n    linestyle=\\\"--\\\",\\n    linewidth=2,\\n)\\nplt.xlabel(\\\"Actual CS28 (MPa)\\\")\\nplt.ylabel(\\\"Predicted CS28 (MPa)\\\")\\nplt.title(\\\"Predicted vs Actual CS28\\\")\\nplt.legend()\\nplt.grid(True)\\nplt.gca().spines[\\\"top\\\"].set_visible(False)\\nplt.gca().spines[\\\"right\\\"].set_visible(False)\\n\\nplt.savefig(\\n    \\\"inn_cm_btiss_scpm_top_one_pred_vs_actual_cs28.png\\\", dpi=300, bbox_inches=\\\"tight\\\"\\n)\\nplt.show()\";\n",
       "                var nbb_cells = Jupyter.notebook.get_cells();\n",
       "                for (var i = 0; i < nbb_cells.length; ++i) {\n",
       "                    if (nbb_cells[i].input_prompt_number == nbb_cell_id) {\n",
       "                        if (nbb_cells[i].get_text() == nbb_unformatted_code) {\n",
       "                             nbb_cells[i].set_text(nbb_formatted_code);\n",
       "                        }\n",
       "                        break;\n",
       "                    }\n",
       "                }\n",
       "            }, 500);\n",
       "            "
      ],
      "text/plain": [
       "<IPython.core.display.Javascript object>"
      ]
     },
     "metadata": {},
     "output_type": "display_data"
    }
   ],
   "source": [
    "plt.figure(figsize=(6, 6))\n",
    "plt.scatter(\n",
    "    test_data[\"CS28\"], test_data[\"CS28_PRED\"], color=\"tomato\", alpha=0.7, label=\"Predicted\"\n",
    ")\n",
    "plt.plot(\n",
    "    [test_data[\"CS28\"].min(), test_data[\"CS28\"].max()],\n",
    "    [test_data[\"CS28\"].min(), test_data[\"CS28\"].max()],\n",
    "    color=\"black\", linestyle=\"--\", linewidth=2,\n",
    ")\n",
    "plt.xlabel(\"Actual CS28 (MPa)\")\n",
    "plt.ylabel(\"Predicted CS28 (MPa)\")\n",
    "plt.title(\"Predicted vs Actual CS28\")\n",
    "plt.legend()\n",
    "plt.grid(True)\n",
    "plt.gca().spines[\"top\"].set_visible(False)\n",
    "plt.gca().spines[\"right\"].set_visible(False)\n",
    "\n",
    "plt.savefig(\"inn_cm_btiss_scpm_top_one_pred_vs_actual_cs28.png\", dpi=300, bbox_inches='tight')\n",
    "plt.show()\n"
   ]
  },
  {
   "cell_type": "code",
   "execution_count": 24,
   "id": "3315de0f",
   "metadata": {},
   "outputs": [
    {
     "data": {
      "image/png": "[encoded data removed]",
      "text/plain": [
       "<Figure size 1000x600 with 1 Axes>"
      ]
     },
     "metadata": {},
     "output_type": "display_data"
    },
    {
     "data": {
      "application/javascript": [
       "\n",
       "            setTimeout(function() {\n",
       "                var nbb_cell_id = 24;\n",
       "                var nbb_unformatted_code = \"plt.figure(figsize=(10, 6))\\nplt.plot(\\n    test_data[\\\"DATE\\\"],\\n    test_data[\\\"CS28\\\"],\\n    color=\\\"dodgerblue\\\",\\n    alpha=0.7,\\n    marker=\\\"o\\\",\\n    linestyle=\\\"none\\\",\\n    label=\\\"Actual CS28\\\",\\n)\\nplt.plot(\\n    test_data[\\\"DATE\\\"],\\n    test_data[\\\"CS28_PRED\\\"],\\n    color=\\\"tomato\\\",\\n    alpha=0.7,\\n    marker=\\\"o\\\",\\n    linestyle=\\\"none\\\",\\n    label=\\\"Predicted CS28\\\",\\n)\\nplt.xlabel(\\\"Date\\\")\\nplt.ylabel(\\\"CS28 (MPa)\\\")\\nplt.title(\\\"Actual vs Predicted CS28\\\")\\nplt.legend()\\nplt.grid(True)\\n\\nplt.gca().spines[\\\"top\\\"].set_visible(False)\\nplt.gca().spines[\\\"right\\\"].set_visible(False)\\n\\nplt.savefig(\\n    \\\"inn_cm_btiss_scpm_top_one_pred_vs_actual_cs28_over_time.png\\\",\\n    dpi=300,\\n    bbox_inches=\\\"tight\\\",\\n)\\n\\nplt.show()\";\n",
       "                var nbb_formatted_code = \"plt.figure(figsize=(10, 6))\\nplt.plot(\\n    test_data[\\\"DATE\\\"],\\n    test_data[\\\"CS28\\\"],\\n    color=\\\"dodgerblue\\\",\\n    alpha=0.7,\\n    marker=\\\"o\\\",\\n    linestyle=\\\"none\\\",\\n    label=\\\"Actual CS28\\\",\\n)\\nplt.plot(\\n    test_data[\\\"DATE\\\"],\\n    test_data[\\\"CS28_PRED\\\"],\\n    color=\\\"tomato\\\",\\n    alpha=0.7,\\n    marker=\\\"o\\\",\\n    linestyle=\\\"none\\\",\\n    label=\\\"Predicted CS28\\\",\\n)\\nplt.xlabel(\\\"Date\\\")\\nplt.ylabel(\\\"CS28 (MPa)\\\")\\nplt.title(\\\"Actual vs Predicted CS28\\\")\\nplt.legend()\\nplt.grid(True)\\n\\nplt.gca().spines[\\\"top\\\"].set_visible(False)\\nplt.gca().spines[\\\"right\\\"].set_visible(False)\\n\\nplt.savefig(\\n    \\\"inn_cm_btiss_scpm_top_one_pred_vs_actual_cs28_over_time.png\\\",\\n    dpi=300,\\n    bbox_inches=\\\"tight\\\",\\n)\\n\\nplt.show()\";\n",
       "                var nbb_cells = Jupyter.notebook.get_cells();\n",
       "                for (var i = 0; i < nbb_cells.length; ++i) {\n",
       "                    if (nbb_cells[i].input_prompt_number == nbb_cell_id) {\n",
       "                        if (nbb_cells[i].get_text() == nbb_unformatted_code) {\n",
       "                             nbb_cells[i].set_text(nbb_formatted_code);\n",
       "                        }\n",
       "                        break;\n",
       "                    }\n",
       "                }\n",
       "            }, 500);\n",
       "            "
      ],
      "text/plain": [
       "<IPython.core.display.Javascript object>"
      ]
     },
     "metadata": {},
     "output_type": "display_data"
    }
   ],
   "source": [
    "plt.figure(figsize=(10, 6))\n",
    "plt.plot(\n",
    "    test_data[\"DATE\"],\n",
    "    test_data[\"CS28\"],\n",
    "    color=\"dodgerblue\",\n",
    "    alpha=0.7,\n",
    "    marker=\"o\",\n",
    "    linestyle=\"none\",\n",
    "    label=\"Actual CS28\",\n",
    ")\n",
    "plt.plot(\n",
    "    test_data[\"DATE\"],\n",
    "    test_data[\"CS28_PRED\"],\n",
    "    color=\"tomato\",\n",
    "    alpha=0.7,\n",
    "    marker=\"o\",\n",
    "    linestyle=\"none\",\n",
    "    label=\"Predicted CS28\",\n",
    ")\n",
    "plt.xlabel(\"Date\")\n",
    "plt.ylabel(\"CS28 (MPa)\")\n",
    "plt.title(\"Actual vs Predicted CS28\")\n",
    "plt.legend()\n",
    "plt.grid(True)\n",
    "\n",
    "plt.gca().spines[\"top\"].set_visible(False)\n",
    "plt.gca().spines[\"right\"].set_visible(False)\n",
    "\n",
    "plt.savefig(\n",
    "    \"inn_cm_btiss_scpm_top_one_pred_vs_actual_cs28_over_time.png\",\n",
    "    dpi=300,\n",
    "    bbox_inches=\"tight\",\n",
    ")\n",
    "\n",
    "plt.show()\n"
   ]
  },
  {
   "cell_type": "code",
   "execution_count": 25,
   "id": "69c2093c",
   "metadata": {},
   "outputs": [
    {
     "data": {
      "application/javascript": [
       "\n",
       "            setTimeout(function() {\n",
       "                var nbb_cell_id = 25;\n",
       "                var nbb_unformatted_code = \"# import matplotlib.pyplot as plt\\n# import matplotlib.dates as mdates\\n\\n# plt.figure(figsize=(10, 6))\\n# plt.plot(\\n#     test_data[\\\"DATE\\\"],\\n#     test_data[\\\"CS28\\\"],\\n#     color=\\\"dodgerblue\\\",\\n#     alpha=0.7,\\n#     marker=\\\"o\\\",\\n#     linestyle=\\\"none\\\",\\n#     label=\\\"Actual CS28\\\",\\n# )\\n# plt.plot(\\n#     test_data[\\\"DATE\\\"],\\n#     test_data[\\\"CS28_PRED\\\"],\\n#     color=\\\"tomato\\\",\\n#     alpha=0.7,\\n#     marker=\\\"o\\\",\\n#     linestyle=\\\"none\\\",\\n#     label=\\\"Predicted CS28\\\",\\n# )\\n# plt.xlabel(\\\"Date\\\")\\n# plt.ylabel(\\\"CS28 (MPa)\\\")\\n# plt.title(\\\"Actual vs Predicted CS28\\\")\\n# plt.legend()\\n# plt.grid(True)\\n\\n# # Improving x-axis readability\\n# plt.gca().xaxis.set_major_locator(mdates.MonthLocator())  # Set ticks for each month\\n# plt.gca().xaxis.set_major_formatter(mdates.DateFormatter('%Y-%m'))  # Format date as 'YYYY-MM-DD'\\n# #plt.gcf().autofmt_xdate(rotation=45)  # Rotate x-axis labels\\n\\n# plt.gca().spines[\\\"top\\\"].set_visible(False)\\n# plt.gca().spines[\\\"right\\\"].set_visible(False)\\n\\n# plt.savefig(\\n#     \\\"inn_cm_btiss_scpm_top_one_pred_vs_actual_cs28_over_time.png\\\",\\n#     dpi=300,\\n#     bbox_inches=\\\"tight\\\",\\n# )\\n\\n# plt.show()\";\n",
       "                var nbb_formatted_code = \"# import matplotlib.pyplot as plt\\n# import matplotlib.dates as mdates\\n\\n# plt.figure(figsize=(10, 6))\\n# plt.plot(\\n#     test_data[\\\"DATE\\\"],\\n#     test_data[\\\"CS28\\\"],\\n#     color=\\\"dodgerblue\\\",\\n#     alpha=0.7,\\n#     marker=\\\"o\\\",\\n#     linestyle=\\\"none\\\",\\n#     label=\\\"Actual CS28\\\",\\n# )\\n# plt.plot(\\n#     test_data[\\\"DATE\\\"],\\n#     test_data[\\\"CS28_PRED\\\"],\\n#     color=\\\"tomato\\\",\\n#     alpha=0.7,\\n#     marker=\\\"o\\\",\\n#     linestyle=\\\"none\\\",\\n#     label=\\\"Predicted CS28\\\",\\n# )\\n# plt.xlabel(\\\"Date\\\")\\n# plt.ylabel(\\\"CS28 (MPa)\\\")\\n# plt.title(\\\"Actual vs Predicted CS28\\\")\\n# plt.legend()\\n# plt.grid(True)\\n\\n# # Improving x-axis readability\\n# plt.gca().xaxis.set_major_locator(mdates.MonthLocator())  # Set ticks for each month\\n# plt.gca().xaxis.set_major_formatter(mdates.DateFormatter('%Y-%m'))  # Format date as 'YYYY-MM-DD'\\n# #plt.gcf().autofmt_xdate(rotation=45)  # Rotate x-axis labels\\n\\n# plt.gca().spines[\\\"top\\\"].set_visible(False)\\n# plt.gca().spines[\\\"right\\\"].set_visible(False)\\n\\n# plt.savefig(\\n#     \\\"inn_cm_btiss_scpm_top_one_pred_vs_actual_cs28_over_time.png\\\",\\n#     dpi=300,\\n#     bbox_inches=\\\"tight\\\",\\n# )\\n\\n# plt.show()\";\n",
       "                var nbb_cells = Jupyter.notebook.get_cells();\n",
       "                for (var i = 0; i < nbb_cells.length; ++i) {\n",
       "                    if (nbb_cells[i].input_prompt_number == nbb_cell_id) {\n",
       "                        if (nbb_cells[i].get_text() == nbb_unformatted_code) {\n",
       "                             nbb_cells[i].set_text(nbb_formatted_code);\n",
       "                        }\n",
       "                        break;\n",
       "                    }\n",
       "                }\n",
       "            }, 500);\n",
       "            "
      ],
      "text/plain": [
       "<IPython.core.display.Javascript object>"
      ]
     },
     "metadata": {},
     "output_type": "display_data"
    }
   ],
   "source": [
    "# import matplotlib.pyplot as plt\n",
    "# import matplotlib.dates as mdates\n",
    "\n",
    "# plt.figure(figsize=(10, 6))\n",
    "# plt.plot(\n",
    "#     test_data[\"DATE\"],\n",
    "#     test_data[\"CS28\"],\n",
    "#     color=\"dodgerblue\",\n",
    "#     alpha=0.7,\n",
    "#     marker=\"o\",\n",
    "#     linestyle=\"none\",\n",
    "#     label=\"Actual CS28\",\n",
    "# )\n",
    "# plt.plot(\n",
    "#     test_data[\"DATE\"],\n",
    "#     test_data[\"CS28_PRED\"],\n",
    "#     color=\"tomato\",\n",
    "#     alpha=0.7,\n",
    "#     marker=\"o\",\n",
    "#     linestyle=\"none\",\n",
    "#     label=\"Predicted CS28\",\n",
    "# )\n",
    "# plt.xlabel(\"Date\")\n",
    "# plt.ylabel(\"CS28 (MPa)\")\n",
    "# plt.title(\"Actual vs Predicted CS28\")\n",
    "# plt.legend()\n",
    "# plt.grid(True)\n",
    "\n",
    "# # Improving x-axis readability\n",
    "# plt.gca().xaxis.set_major_locator(mdates.MonthLocator())  # Set ticks for each month\n",
    "# plt.gca().xaxis.set_major_formatter(mdates.DateFormatter('%Y-%m'))  # Format date as 'YYYY-MM-DD'\n",
    "# #plt.gcf().autofmt_xdate(rotation=45)  # Rotate x-axis labels\n",
    "\n",
    "# plt.gca().spines[\"top\"].set_visible(False)\n",
    "# plt.gca().spines[\"right\"].set_visible(False)\n",
    "\n",
    "# plt.savefig(\n",
    "#     \"inn_cm_btiss_scpm_top_one_pred_vs_actual_cs28_over_time.png\",\n",
    "#     dpi=300,\n",
    "#     bbox_inches=\"tight\",\n",
    "# )\n",
    "\n",
    "# plt.show()\n"
   ]
  },
  {
   "cell_type": "code",
   "execution_count": 26,
   "id": "bd879a99",
   "metadata": {},
   "outputs": [
    {
     "data": {
      "application/javascript": [
       "\n",
       "            setTimeout(function() {\n",
       "                var nbb_cell_id = 26;\n",
       "                var nbb_unformatted_code = \"# # Set the desired width for the square figure\\n# square_figure_width = 5  # inches\\n\\n# # Calculate height of the second figure to maintain proportion\\n# second_figure_height = (10 / 10) * square_figure_width\\n\\n# # --- Figure 1 (Square) ---\\n# plt.figure(figsize=(square_figure_width, square_figure_width))\\n# plt.scatter(\\n#     test_data[\\\"CS28\\\"],\\n#     test_data[\\\"CS28_PRED\\\"],\\n#     color=\\\"tomato\\\",\\n#     alpha=0.7,\\n#     label=\\\"Predicted\\\",\\n# )\\n# plt.plot(\\n#     [min(test_data[\\\"CS28\\\"]), max(test_data[\\\"CS28\\\"])],\\n#     [min(test_data[\\\"CS28\\\"]), max(test_data[\\\"CS28\\\"])],\\n#     color=\\\"black\\\",\\n#     linestyle=\\\"--\\\",\\n#     linewidth=2,\\n# )\\n# plt.xlabel(\\\"Actual CS28 (MPa)\\\")\\n# plt.ylabel(\\\"Predicted CS28 (MPa)\\\")\\n# plt.title(\\\"Predicted vs Actual CS28\\\")\\n# plt.legend()\\n# plt.grid(True)\\n# plt.gca().spines[\\\"top\\\"].set_visible(False)\\n# plt.gca().spines[\\\"right\\\"].set_visible(False)\\n\\n# plt.savefig(\\n#     \\\"inn_cm_btiss_scpm_top_one_pred_vs_actual_cs28.png\\\", dpi=300, bbox_inches=\\\"tight\\\"\\n# )\\n# plt.show()\";\n",
       "                var nbb_formatted_code = \"# # Set the desired width for the square figure\\n# square_figure_width = 5  # inches\\n\\n# # Calculate height of the second figure to maintain proportion\\n# second_figure_height = (10 / 10) * square_figure_width\\n\\n# # --- Figure 1 (Square) ---\\n# plt.figure(figsize=(square_figure_width, square_figure_width))\\n# plt.scatter(\\n#     test_data[\\\"CS28\\\"],\\n#     test_data[\\\"CS28_PRED\\\"],\\n#     color=\\\"tomato\\\",\\n#     alpha=0.7,\\n#     label=\\\"Predicted\\\",\\n# )\\n# plt.plot(\\n#     [min(test_data[\\\"CS28\\\"]), max(test_data[\\\"CS28\\\"])],\\n#     [min(test_data[\\\"CS28\\\"]), max(test_data[\\\"CS28\\\"])],\\n#     color=\\\"black\\\",\\n#     linestyle=\\\"--\\\",\\n#     linewidth=2,\\n# )\\n# plt.xlabel(\\\"Actual CS28 (MPa)\\\")\\n# plt.ylabel(\\\"Predicted CS28 (MPa)\\\")\\n# plt.title(\\\"Predicted vs Actual CS28\\\")\\n# plt.legend()\\n# plt.grid(True)\\n# plt.gca().spines[\\\"top\\\"].set_visible(False)\\n# plt.gca().spines[\\\"right\\\"].set_visible(False)\\n\\n# plt.savefig(\\n#     \\\"inn_cm_btiss_scpm_top_one_pred_vs_actual_cs28.png\\\", dpi=300, bbox_inches=\\\"tight\\\"\\n# )\\n# plt.show()\";\n",
       "                var nbb_cells = Jupyter.notebook.get_cells();\n",
       "                for (var i = 0; i < nbb_cells.length; ++i) {\n",
       "                    if (nbb_cells[i].input_prompt_number == nbb_cell_id) {\n",
       "                        if (nbb_cells[i].get_text() == nbb_unformatted_code) {\n",
       "                             nbb_cells[i].set_text(nbb_formatted_code);\n",
       "                        }\n",
       "                        break;\n",
       "                    }\n",
       "                }\n",
       "            }, 500);\n",
       "            "
      ],
      "text/plain": [
       "<IPython.core.display.Javascript object>"
      ]
     },
     "metadata": {},
     "output_type": "display_data"
    }
   ],
   "source": [
    "# # Set the desired width for the square figure\n",
    "# square_figure_width = 5  # inches\n",
    "\n",
    "# # Calculate height of the second figure to maintain proportion\n",
    "# second_figure_height = (10 / 10) * square_figure_width\n",
    "\n",
    "# # --- Figure 1 (Square) ---\n",
    "# plt.figure(figsize=(square_figure_width, square_figure_width))\n",
    "# plt.scatter(\n",
    "#     test_data[\"CS28\"],\n",
    "#     test_data[\"CS28_PRED\"],\n",
    "#     color=\"tomato\",\n",
    "#     alpha=0.7,\n",
    "#     label=\"Predicted\",\n",
    "# )\n",
    "# plt.plot(\n",
    "#     [min(test_data[\"CS28\"]), max(test_data[\"CS28\"])],\n",
    "#     [min(test_data[\"CS28\"]), max(test_data[\"CS28\"])],\n",
    "#     color=\"black\",\n",
    "#     linestyle=\"--\",\n",
    "#     linewidth=2,\n",
    "# )\n",
    "# plt.xlabel(\"Actual CS28 (MPa)\")\n",
    "# plt.ylabel(\"Predicted CS28 (MPa)\")\n",
    "# plt.title(\"Predicted vs Actual CS28\")\n",
    "# plt.legend()\n",
    "# plt.grid(True)\n",
    "# plt.gca().spines[\"top\"].set_visible(False)\n",
    "# plt.gca().spines[\"right\"].set_visible(False)\n",
    "\n",
    "# plt.savefig(\n",
    "#     \"inn_cm_btiss_scpm_top_one_pred_vs_actual_cs28.png\", dpi=300, bbox_inches=\"tight\"\n",
    "# )\n",
    "# plt.show()\n"
   ]
  },
  {
   "cell_type": "code",
   "execution_count": 27,
   "id": "c87a8e93",
   "metadata": {},
   "outputs": [
    {
     "data": {
      "application/javascript": [
       "\n",
       "            setTimeout(function() {\n",
       "                var nbb_cell_id = 27;\n",
       "                var nbb_unformatted_code = \"# # --- Figure 2 ---\\n# plt.figure(figsize=(square_figure_width, second_figure_height))\\n# plt.plot(\\n#     test_data[\\\"DATE\\\"],\\n#     test_data[\\\"CS28\\\"],\\n#     color=\\\"dodgerblue\\\",\\n#     alpha=0.7,\\n#     marker=\\\"o\\\",\\n#     linestyle=\\\"none\\\",\\n#     label=\\\"Actual CS28\\\",\\n# )\\n# plt.plot(\\n#     test_data[\\\"DATE\\\"],\\n#     test_data[\\\"CS28_PRED\\\"],\\n#     color=\\\"tomato\\\",\\n#     alpha=0.7,\\n#     marker=\\\"o\\\",\\n#     linestyle=\\\"none\\\",\\n#     label=\\\"Predicted CS28\\\",\\n# )\\n# plt.xlabel(\\\"Date\\\")\\n# plt.ylabel(\\\"CS28 (MPa)\\\")\\n# plt.title(\\\"Actual vs Predicted CS28\\\")\\n# plt.legend()\\n# plt.grid(True)\\n\\n# plt.gca().spines[\\\"top\\\"].set_visible(False)\\n# plt.gca().spines[\\\"right\\\"].set_visible(False)\\n\\n# plt.savefig(\\n#     \\\"inn_cm_btiss_scpm_top_one_pred_vs_actual_cs28_over_time.png\\\",\\n#     dpi=300,\\n#     bbox_inches=\\\"tight\\\",\\n# )\\n\\n# plt.show()\";\n",
       "                var nbb_formatted_code = \"# # --- Figure 2 ---\\n# plt.figure(figsize=(square_figure_width, second_figure_height))\\n# plt.plot(\\n#     test_data[\\\"DATE\\\"],\\n#     test_data[\\\"CS28\\\"],\\n#     color=\\\"dodgerblue\\\",\\n#     alpha=0.7,\\n#     marker=\\\"o\\\",\\n#     linestyle=\\\"none\\\",\\n#     label=\\\"Actual CS28\\\",\\n# )\\n# plt.plot(\\n#     test_data[\\\"DATE\\\"],\\n#     test_data[\\\"CS28_PRED\\\"],\\n#     color=\\\"tomato\\\",\\n#     alpha=0.7,\\n#     marker=\\\"o\\\",\\n#     linestyle=\\\"none\\\",\\n#     label=\\\"Predicted CS28\\\",\\n# )\\n# plt.xlabel(\\\"Date\\\")\\n# plt.ylabel(\\\"CS28 (MPa)\\\")\\n# plt.title(\\\"Actual vs Predicted CS28\\\")\\n# plt.legend()\\n# plt.grid(True)\\n\\n# plt.gca().spines[\\\"top\\\"].set_visible(False)\\n# plt.gca().spines[\\\"right\\\"].set_visible(False)\\n\\n# plt.savefig(\\n#     \\\"inn_cm_btiss_scpm_top_one_pred_vs_actual_cs28_over_time.png\\\",\\n#     dpi=300,\\n#     bbox_inches=\\\"tight\\\",\\n# )\\n\\n# plt.show()\";\n",
       "                var nbb_cells = Jupyter.notebook.get_cells();\n",
       "                for (var i = 0; i < nbb_cells.length; ++i) {\n",
       "                    if (nbb_cells[i].input_prompt_number == nbb_cell_id) {\n",
       "                        if (nbb_cells[i].get_text() == nbb_unformatted_code) {\n",
       "                             nbb_cells[i].set_text(nbb_formatted_code);\n",
       "                        }\n",
       "                        break;\n",
       "                    }\n",
       "                }\n",
       "            }, 500);\n",
       "            "
      ],
      "text/plain": [
       "<IPython.core.display.Javascript object>"
      ]
     },
     "metadata": {},
     "output_type": "display_data"
    }
   ],
   "source": [
    "# # --- Figure 2 ---\n",
    "# plt.figure(figsize=(square_figure_width, second_figure_height))\n",
    "# plt.plot(\n",
    "#     test_data[\"DATE\"],\n",
    "#     test_data[\"CS28\"],\n",
    "#     color=\"dodgerblue\",\n",
    "#     alpha=0.7,\n",
    "#     marker=\"o\",\n",
    "#     linestyle=\"none\",\n",
    "#     label=\"Actual CS28\",\n",
    "# )\n",
    "# plt.plot(\n",
    "#     test_data[\"DATE\"],\n",
    "#     test_data[\"CS28_PRED\"],\n",
    "#     color=\"tomato\",\n",
    "#     alpha=0.7,\n",
    "#     marker=\"o\",\n",
    "#     linestyle=\"none\",\n",
    "#     label=\"Predicted CS28\",\n",
    "# )\n",
    "# plt.xlabel(\"Date\")\n",
    "# plt.ylabel(\"CS28 (MPa)\")\n",
    "# plt.title(\"Actual vs Predicted CS28\")\n",
    "# plt.legend()\n",
    "# plt.grid(True)\n",
    "\n",
    "# plt.gca().spines[\"top\"].set_visible(False)\n",
    "# plt.gca().spines[\"right\"].set_visible(False)\n",
    "\n",
    "# plt.savefig(\n",
    "#     \"inn_cm_btiss_scpm_top_one_pred_vs_actual_cs28_over_time.png\",\n",
    "#     dpi=300,\n",
    "#     bbox_inches=\"tight\",\n",
    "# )\n",
    "\n",
    "# plt.show()"
   ]
  },
  {
   "cell_type": "code",
   "execution_count": 28,
   "id": "6a22aa01",
   "metadata": {
    "scrolled": false
   },
   "outputs": [
    {
     "data": {
      "application/javascript": [
       "\n",
       "            setTimeout(function() {\n",
       "                var nbb_cell_id = 28;\n",
       "                var nbb_unformatted_code = \"# # Filter to only include the test set\\n# test_data = df_pred[df_pred[\\\"SET\\\"] == \\\"TEST\\\"]\\n\\n# # Plot Actual vs Predicted over Time with \\\"o\\\" Markers (Test Set Only)\\n# plt.figure(figsize=(10, 7))\\n# plt.plot(\\n#     test_data[\\\"DATE\\\"],\\n#     test_data[\\\"CS28\\\"],\\n#     color=\\\"blue\\\",\\n#     alpha=0.5,\\n#     marker=\\\"o\\\",\\n#     linestyle=\\\"none\\\",\\n#     label=\\\"Actual CS28\\\",\\n# )\\n# plt.plot(\\n#     test_data[\\\"DATE\\\"],\\n#     test_data[\\\"CS28_PRED\\\"],\\n#     color=\\\"red\\\",\\n#     alpha=0.5,\\n#     marker=\\\"o\\\",\\n#     linestyle=\\\"none\\\",\\n#     label=\\\"Predicted CS28\\\",\\n# )\\n# plt.xlabel(\\\"Date\\\")\\n# plt.ylabel(\\\"CS28 (MPa)\\\")\\n# plt.title(\\\"Actual vs Predicted CS28\\\")\\n# plt.legend()\\n# plt.grid(True)\\n\\n# plt.gca().spines[\\\"top\\\"].set_visible(False)\\n# plt.gca().spines[\\\"right\\\"].set_visible(False)\\n\\n# plt.show()\\n\\n# # usar os dois\";\n",
       "                var nbb_formatted_code = \"# # Filter to only include the test set\\n# test_data = df_pred[df_pred[\\\"SET\\\"] == \\\"TEST\\\"]\\n\\n# # Plot Actual vs Predicted over Time with \\\"o\\\" Markers (Test Set Only)\\n# plt.figure(figsize=(10, 7))\\n# plt.plot(\\n#     test_data[\\\"DATE\\\"],\\n#     test_data[\\\"CS28\\\"],\\n#     color=\\\"blue\\\",\\n#     alpha=0.5,\\n#     marker=\\\"o\\\",\\n#     linestyle=\\\"none\\\",\\n#     label=\\\"Actual CS28\\\",\\n# )\\n# plt.plot(\\n#     test_data[\\\"DATE\\\"],\\n#     test_data[\\\"CS28_PRED\\\"],\\n#     color=\\\"red\\\",\\n#     alpha=0.5,\\n#     marker=\\\"o\\\",\\n#     linestyle=\\\"none\\\",\\n#     label=\\\"Predicted CS28\\\",\\n# )\\n# plt.xlabel(\\\"Date\\\")\\n# plt.ylabel(\\\"CS28 (MPa)\\\")\\n# plt.title(\\\"Actual vs Predicted CS28\\\")\\n# plt.legend()\\n# plt.grid(True)\\n\\n# plt.gca().spines[\\\"top\\\"].set_visible(False)\\n# plt.gca().spines[\\\"right\\\"].set_visible(False)\\n\\n# plt.show()\\n\\n# # usar os dois\";\n",
       "                var nbb_cells = Jupyter.notebook.get_cells();\n",
       "                for (var i = 0; i < nbb_cells.length; ++i) {\n",
       "                    if (nbb_cells[i].input_prompt_number == nbb_cell_id) {\n",
       "                        if (nbb_cells[i].get_text() == nbb_unformatted_code) {\n",
       "                             nbb_cells[i].set_text(nbb_formatted_code);\n",
       "                        }\n",
       "                        break;\n",
       "                    }\n",
       "                }\n",
       "            }, 500);\n",
       "            "
      ],
      "text/plain": [
       "<IPython.core.display.Javascript object>"
      ]
     },
     "metadata": {},
     "output_type": "display_data"
    }
   ],
   "source": [
    "# # Filter to only include the test set\n",
    "# test_data = df_pred[df_pred[\"SET\"] == \"TEST\"]\n",
    "\n",
    "# # Plot Actual vs Predicted over Time with \"o\" Markers (Test Set Only)\n",
    "# plt.figure(figsize=(10, 7))\n",
    "# plt.plot(\n",
    "#     test_data[\"DATE\"],\n",
    "#     test_data[\"CS28\"],\n",
    "#     color=\"blue\",\n",
    "#     alpha=0.5,\n",
    "#     marker=\"o\",\n",
    "#     linestyle=\"none\",\n",
    "#     label=\"Actual CS28\",\n",
    "# )\n",
    "# plt.plot(\n",
    "#     test_data[\"DATE\"],\n",
    "#     test_data[\"CS28_PRED\"],\n",
    "#     color=\"red\",\n",
    "#     alpha=0.5,\n",
    "#     marker=\"o\",\n",
    "#     linestyle=\"none\",\n",
    "#     label=\"Predicted CS28\",\n",
    "# )\n",
    "# plt.xlabel(\"Date\")\n",
    "# plt.ylabel(\"CS28 (MPa)\")\n",
    "# plt.title(\"Actual vs Predicted CS28\")\n",
    "# plt.legend()\n",
    "# plt.grid(True)\n",
    "\n",
    "# plt.gca().spines[\"top\"].set_visible(False)\n",
    "# plt.gca().spines[\"right\"].set_visible(False)\n",
    "\n",
    "# plt.show()\n",
    "\n",
    "# # usar os dois"
   ]
  },
  {
   "cell_type": "code",
   "execution_count": 29,
   "id": "9baf63d3",
   "metadata": {},
   "outputs": [
    {
     "data": {
      "application/javascript": [
       "\n",
       "            setTimeout(function() {\n",
       "                var nbb_cell_id = 29;\n",
       "                var nbb_unformatted_code = \"# # Filter to only include the test set\\n# test_data = df_pred[df_pred[\\\"SET\\\"] == \\\"TEST\\\"]\\n\\n# # Plot Actual vs Predicted over Time with \\\"o\\\" Markers (Test Set Only)\\n# plt.figure(figsize=(10, 5.5))\\n# plt.plot(\\n#     test_data[\\\"DATE\\\"],\\n#     test_data[\\\"CS28\\\"],\\n#     color=\\\"blue\\\",\\n#     alpha=0.5,\\n#     marker=\\\"o\\\",\\n#     linestyle=\\\"none\\\",\\n#     label=\\\"Actual CS28\\\",\\n# )\\n# plt.plot(\\n#     test_data[\\\"DATE\\\"],\\n#     test_data[\\\"CS28_PRED\\\"],\\n#     color=\\\"red\\\",\\n#     alpha=0.5,\\n#     marker=\\\"o\\\",\\n#     linestyle=\\\"none\\\",\\n#     label=\\\"Predicted CS28\\\",\\n# )\\n# plt.xlabel(\\\"Date\\\")\\n# plt.ylabel(\\\"CS28 (MPa)\\\")\\n# plt.title(\\\"Actual vs Predicted CS28\\\")\\n# plt.legend()\\n# plt.grid(True)\\n\\n# plt.gca().spines[\\\"top\\\"].set_visible(False)\\n# plt.gca().spines[\\\"right\\\"].set_visible(False)\\n\\n# plt.savefig(\\n#     \\\"inn_cm_btiss_scpm_top_one_pred_vs_actual_cs28_over_time.png\\\",\\n#     dpi=300,\\n#     bbox_inches=\\\"tight\\\",\\n# )\\n\\n# plt.show()\\n\\n# # usar os dois\";\n",
       "                var nbb_formatted_code = \"# # Filter to only include the test set\\n# test_data = df_pred[df_pred[\\\"SET\\\"] == \\\"TEST\\\"]\\n\\n# # Plot Actual vs Predicted over Time with \\\"o\\\" Markers (Test Set Only)\\n# plt.figure(figsize=(10, 5.5))\\n# plt.plot(\\n#     test_data[\\\"DATE\\\"],\\n#     test_data[\\\"CS28\\\"],\\n#     color=\\\"blue\\\",\\n#     alpha=0.5,\\n#     marker=\\\"o\\\",\\n#     linestyle=\\\"none\\\",\\n#     label=\\\"Actual CS28\\\",\\n# )\\n# plt.plot(\\n#     test_data[\\\"DATE\\\"],\\n#     test_data[\\\"CS28_PRED\\\"],\\n#     color=\\\"red\\\",\\n#     alpha=0.5,\\n#     marker=\\\"o\\\",\\n#     linestyle=\\\"none\\\",\\n#     label=\\\"Predicted CS28\\\",\\n# )\\n# plt.xlabel(\\\"Date\\\")\\n# plt.ylabel(\\\"CS28 (MPa)\\\")\\n# plt.title(\\\"Actual vs Predicted CS28\\\")\\n# plt.legend()\\n# plt.grid(True)\\n\\n# plt.gca().spines[\\\"top\\\"].set_visible(False)\\n# plt.gca().spines[\\\"right\\\"].set_visible(False)\\n\\n# plt.savefig(\\n#     \\\"inn_cm_btiss_scpm_top_one_pred_vs_actual_cs28_over_time.png\\\",\\n#     dpi=300,\\n#     bbox_inches=\\\"tight\\\",\\n# )\\n\\n# plt.show()\\n\\n# # usar os dois\";\n",
       "                var nbb_cells = Jupyter.notebook.get_cells();\n",
       "                for (var i = 0; i < nbb_cells.length; ++i) {\n",
       "                    if (nbb_cells[i].input_prompt_number == nbb_cell_id) {\n",
       "                        if (nbb_cells[i].get_text() == nbb_unformatted_code) {\n",
       "                             nbb_cells[i].set_text(nbb_formatted_code);\n",
       "                        }\n",
       "                        break;\n",
       "                    }\n",
       "                }\n",
       "            }, 500);\n",
       "            "
      ],
      "text/plain": [
       "<IPython.core.display.Javascript object>"
      ]
     },
     "metadata": {},
     "output_type": "display_data"
    }
   ],
   "source": [
    "# # Filter to only include the test set\n",
    "# test_data = df_pred[df_pred[\"SET\"] == \"TEST\"]\n",
    "\n",
    "# # Plot Actual vs Predicted over Time with \"o\" Markers (Test Set Only)\n",
    "# plt.figure(figsize=(10, 5.5))\n",
    "# plt.plot(\n",
    "#     test_data[\"DATE\"],\n",
    "#     test_data[\"CS28\"],\n",
    "#     color=\"blue\",\n",
    "#     alpha=0.5,\n",
    "#     marker=\"o\",\n",
    "#     linestyle=\"none\",\n",
    "#     label=\"Actual CS28\",\n",
    "# )\n",
    "# plt.plot(\n",
    "#     test_data[\"DATE\"],\n",
    "#     test_data[\"CS28_PRED\"],\n",
    "#     color=\"red\",\n",
    "#     alpha=0.5,\n",
    "#     marker=\"o\",\n",
    "#     linestyle=\"none\",\n",
    "#     label=\"Predicted CS28\",\n",
    "# )\n",
    "# plt.xlabel(\"Date\")\n",
    "# plt.ylabel(\"CS28 (MPa)\")\n",
    "# plt.title(\"Actual vs Predicted CS28\")\n",
    "# plt.legend()\n",
    "# plt.grid(True)\n",
    "\n",
    "# plt.gca().spines[\"top\"].set_visible(False)\n",
    "# plt.gca().spines[\"right\"].set_visible(False)\n",
    "\n",
    "# plt.savefig(\n",
    "#     \"inn_cm_btiss_scpm_top_one_pred_vs_actual_cs28_over_time.png\",\n",
    "#     dpi=300,\n",
    "#     bbox_inches=\"tight\",\n",
    "# )\n",
    "\n",
    "# plt.show()\n",
    "\n",
    "# # usar os dois"
   ]
  },
  {
   "cell_type": "code",
   "execution_count": 30,
   "id": "ebf06963",
   "metadata": {},
   "outputs": [
    {
     "data": {
      "application/javascript": [
       "\n",
       "            setTimeout(function() {\n",
       "                var nbb_cell_id = 30;\n",
       "                var nbb_unformatted_code = \"# # Plot Actual vs Predicted over Time with \\\"o\\\" Markers (Test Set Only)\\n# plt.figure(figsize=(10, 5.5))\\n# plt.plot(\\n#     test_data[\\\"DATE\\\"],\\n#     test_data[\\\"CS28\\\"],\\n#     color=\\\"steelblue\\\",\\n#     alpha=0.7,\\n#     marker=\\\"o\\\",\\n#     linestyle=\\\"none\\\",\\n#     label=\\\"Actual CS28\\\",\\n# )\\n# plt.plot(\\n#     test_data[\\\"DATE\\\"],\\n#     test_data[\\\"CS28_PRED\\\"],\\n#     color=\\\"tomato\\\",\\n#     alpha=0.7,\\n#     marker=\\\"o\\\",\\n#     linestyle=\\\"none\\\",\\n#     label=\\\"Predicted CS28\\\",\\n# )\\n# plt.xlabel(\\\"Date\\\")\\n# plt.ylabel(\\\"CS28 (MPa)\\\")\\n# plt.title(\\\"Actual vs Predicted CS28\\\")\\n# plt.legend()\\n# plt.grid(True)\\n\\n# plt.gca().spines[\\\"top\\\"].set_visible(False)\\n# plt.gca().spines[\\\"right\\\"].set_visible(False)\\n\\n# plt.savefig(\\n#     \\\"inn_cm_btiss_scpm_top_one_pred_vs_actual_cs28_over_time.png\\\",\\n#     dpi=300,\\n#     bbox_inches=\\\"tight\\\",\\n# )\\n\\n# plt.show()\";\n",
       "                var nbb_formatted_code = \"# # Plot Actual vs Predicted over Time with \\\"o\\\" Markers (Test Set Only)\\n# plt.figure(figsize=(10, 5.5))\\n# plt.plot(\\n#     test_data[\\\"DATE\\\"],\\n#     test_data[\\\"CS28\\\"],\\n#     color=\\\"steelblue\\\",\\n#     alpha=0.7,\\n#     marker=\\\"o\\\",\\n#     linestyle=\\\"none\\\",\\n#     label=\\\"Actual CS28\\\",\\n# )\\n# plt.plot(\\n#     test_data[\\\"DATE\\\"],\\n#     test_data[\\\"CS28_PRED\\\"],\\n#     color=\\\"tomato\\\",\\n#     alpha=0.7,\\n#     marker=\\\"o\\\",\\n#     linestyle=\\\"none\\\",\\n#     label=\\\"Predicted CS28\\\",\\n# )\\n# plt.xlabel(\\\"Date\\\")\\n# plt.ylabel(\\\"CS28 (MPa)\\\")\\n# plt.title(\\\"Actual vs Predicted CS28\\\")\\n# plt.legend()\\n# plt.grid(True)\\n\\n# plt.gca().spines[\\\"top\\\"].set_visible(False)\\n# plt.gca().spines[\\\"right\\\"].set_visible(False)\\n\\n# plt.savefig(\\n#     \\\"inn_cm_btiss_scpm_top_one_pred_vs_actual_cs28_over_time.png\\\",\\n#     dpi=300,\\n#     bbox_inches=\\\"tight\\\",\\n# )\\n\\n# plt.show()\";\n",
       "                var nbb_cells = Jupyter.notebook.get_cells();\n",
       "                for (var i = 0; i < nbb_cells.length; ++i) {\n",
       "                    if (nbb_cells[i].input_prompt_number == nbb_cell_id) {\n",
       "                        if (nbb_cells[i].get_text() == nbb_unformatted_code) {\n",
       "                             nbb_cells[i].set_text(nbb_formatted_code);\n",
       "                        }\n",
       "                        break;\n",
       "                    }\n",
       "                }\n",
       "            }, 500);\n",
       "            "
      ],
      "text/plain": [
       "<IPython.core.display.Javascript object>"
      ]
     },
     "metadata": {},
     "output_type": "display_data"
    }
   ],
   "source": [
    "# # Plot Actual vs Predicted over Time with \"o\" Markers (Test Set Only)\n",
    "# plt.figure(figsize=(10, 5.5))\n",
    "# plt.plot(\n",
    "#     test_data[\"DATE\"],\n",
    "#     test_data[\"CS28\"],\n",
    "#     color=\"steelblue\",\n",
    "#     alpha=0.7,\n",
    "#     marker=\"o\",\n",
    "#     linestyle=\"none\",\n",
    "#     label=\"Actual CS28\",\n",
    "# )\n",
    "# plt.plot(\n",
    "#     test_data[\"DATE\"],\n",
    "#     test_data[\"CS28_PRED\"],\n",
    "#     color=\"tomato\",\n",
    "#     alpha=0.7,\n",
    "#     marker=\"o\",\n",
    "#     linestyle=\"none\",\n",
    "#     label=\"Predicted CS28\",\n",
    "# )\n",
    "# plt.xlabel(\"Date\")\n",
    "# plt.ylabel(\"CS28 (MPa)\")\n",
    "# plt.title(\"Actual vs Predicted CS28\")\n",
    "# plt.legend()\n",
    "# plt.grid(True)\n",
    "\n",
    "# plt.gca().spines[\"top\"].set_visible(False)\n",
    "# plt.gca().spines[\"right\"].set_visible(False)\n",
    "\n",
    "# plt.savefig(\n",
    "#     \"inn_cm_btiss_scpm_top_one_pred_vs_actual_cs28_over_time.png\",\n",
    "#     dpi=300,\n",
    "#     bbox_inches=\"tight\",\n",
    "# )\n",
    "\n",
    "# plt.show()\n"
   ]
  },
  {
   "cell_type": "markdown",
   "id": "c1787fa2",
   "metadata": {},
   "source": [
    "## Assessing Feature Importance"
   ]
  },
  {
   "cell_type": "code",
   "execution_count": 31,
   "id": "758f06d5",
   "metadata": {},
   "outputs": [
    {
     "data": {
      "application/javascript": [
       "\n",
       "            setTimeout(function() {\n",
       "                var nbb_cell_id = 31;\n",
       "                var nbb_unformatted_code = \"df_importances = get_random_forest_df_importances(scores)\";\n",
       "                var nbb_formatted_code = \"df_importances = get_random_forest_df_importances(scores)\";\n",
       "                var nbb_cells = Jupyter.notebook.get_cells();\n",
       "                for (var i = 0; i < nbb_cells.length; ++i) {\n",
       "                    if (nbb_cells[i].input_prompt_number == nbb_cell_id) {\n",
       "                        if (nbb_cells[i].get_text() == nbb_unformatted_code) {\n",
       "                             nbb_cells[i].set_text(nbb_formatted_code);\n",
       "                        }\n",
       "                        break;\n",
       "                    }\n",
       "                }\n",
       "            }, 500);\n",
       "            "
      ],
      "text/plain": [
       "<IPython.core.display.Javascript object>"
      ]
     },
     "metadata": {},
     "output_type": "display_data"
    }
   ],
   "source": [
    "df_importances = get_random_forest_df_importances(scores)"
   ]
  },
  {
   "cell_type": "code",
   "execution_count": 32,
   "id": "e31a252b",
   "metadata": {},
   "outputs": [
    {
     "data": {
      "text/html": [
       "<div>\n",
       "<style scoped>\n",
       "    .dataframe tbody tr th:only-of-type {\n",
       "        vertical-align: middle;\n",
       "    }\n",
       "\n",
       "    .dataframe tbody tr th {\n",
       "        vertical-align: top;\n",
       "    }\n",
       "\n",
       "    .dataframe thead th {\n",
       "        text-align: right;\n",
       "    }\n",
       "</style>\n",
       "<table border=\"1\" class=\"dataframe\">\n",
       "  <thead>\n",
       "    <tr style=\"text-align: right;\">\n",
       "      <th></th>\n",
       "      <th>CaO</th>\n",
       "      <th>SiO2</th>\n",
       "      <th>Al2O3</th>\n",
       "      <th>Fe2O3</th>\n",
       "      <th>MgO</th>\n",
       "      <th>SO3</th>\n",
       "      <th>K2O</th>\n",
       "      <th>Na2O</th>\n",
       "      <th>Total C3S</th>\n",
       "      <th>Total C2S</th>\n",
       "      <th>C3A</th>\n",
       "      <th>C4AF</th>\n",
       "      <th>Free CaO</th>\n",
       "      <th>Loss on Ignition</th>\n",
       "    </tr>\n",
       "  </thead>\n",
       "  <tbody>\n",
       "    <tr>\n",
       "      <th>Importances - 0</th>\n",
       "      <td>0.000000</td>\n",
       "      <td>0.006089</td>\n",
       "      <td>0.008008</td>\n",
       "      <td>0.005019</td>\n",
       "      <td>0.019573</td>\n",
       "      <td>0.742794</td>\n",
       "      <td>0.000000</td>\n",
       "      <td>0.004910</td>\n",
       "      <td>0.001927</td>\n",
       "      <td>0.002092</td>\n",
       "      <td>0.027734</td>\n",
       "      <td>0.024693</td>\n",
       "      <td>0.001281</td>\n",
       "      <td>0.155880</td>\n",
       "    </tr>\n",
       "    <tr>\n",
       "      <th>Importances - 1</th>\n",
       "      <td>0.010792</td>\n",
       "      <td>0.017089</td>\n",
       "      <td>0.027686</td>\n",
       "      <td>0.000000</td>\n",
       "      <td>0.030040</td>\n",
       "      <td>0.633920</td>\n",
       "      <td>0.012829</td>\n",
       "      <td>0.074868</td>\n",
       "      <td>0.014503</td>\n",
       "      <td>0.036336</td>\n",
       "      <td>0.037413</td>\n",
       "      <td>0.070023</td>\n",
       "      <td>0.015527</td>\n",
       "      <td>0.018973</td>\n",
       "    </tr>\n",
       "    <tr>\n",
       "      <th>Importances - 2</th>\n",
       "      <td>0.013023</td>\n",
       "      <td>0.000000</td>\n",
       "      <td>0.017181</td>\n",
       "      <td>0.000000</td>\n",
       "      <td>0.034247</td>\n",
       "      <td>0.435691</td>\n",
       "      <td>0.003953</td>\n",
       "      <td>0.023071</td>\n",
       "      <td>0.002181</td>\n",
       "      <td>0.013835</td>\n",
       "      <td>0.067239</td>\n",
       "      <td>0.034165</td>\n",
       "      <td>0.011335</td>\n",
       "      <td>0.344079</td>\n",
       "    </tr>\n",
       "    <tr>\n",
       "      <th>Importances - 3</th>\n",
       "      <td>0.068643</td>\n",
       "      <td>0.031942</td>\n",
       "      <td>0.040793</td>\n",
       "      <td>0.005617</td>\n",
       "      <td>0.000000</td>\n",
       "      <td>0.621461</td>\n",
       "      <td>0.035035</td>\n",
       "      <td>0.000000</td>\n",
       "      <td>0.031853</td>\n",
       "      <td>0.034382</td>\n",
       "      <td>0.027837</td>\n",
       "      <td>0.092179</td>\n",
       "      <td>0.010257</td>\n",
       "      <td>0.000000</td>\n",
       "    </tr>\n",
       "    <tr>\n",
       "      <th>Importances - 4</th>\n",
       "      <td>0.000000</td>\n",
       "      <td>0.024472</td>\n",
       "      <td>0.000000</td>\n",
       "      <td>0.029401</td>\n",
       "      <td>0.000000</td>\n",
       "      <td>0.615892</td>\n",
       "      <td>0.022753</td>\n",
       "      <td>0.015106</td>\n",
       "      <td>0.048888</td>\n",
       "      <td>0.025704</td>\n",
       "      <td>0.000000</td>\n",
       "      <td>0.119827</td>\n",
       "      <td>0.018885</td>\n",
       "      <td>0.079072</td>\n",
       "    </tr>\n",
       "  </tbody>\n",
       "</table>\n",
       "</div>"
      ],
      "text/plain": [
       "                      CaO      SiO2     Al2O3     Fe2O3       MgO       SO3  \\\n",
       "Importances - 0  0.000000  0.006089  0.008008  0.005019  0.019573  0.742794   \n",
       "Importances - 1  0.010792  0.017089  0.027686  0.000000  0.030040  0.633920   \n",
       "Importances - 2  0.013023  0.000000  0.017181  0.000000  0.034247  0.435691   \n",
       "Importances - 3  0.068643  0.031942  0.040793  0.005617  0.000000  0.621461   \n",
       "Importances - 4  0.000000  0.024472  0.000000  0.029401  0.000000  0.615892   \n",
       "\n",
       "                      K2O      Na2O  Total C3S  Total C2S       C3A      C4AF  \\\n",
       "Importances - 0  0.000000  0.004910   0.001927   0.002092  0.027734  0.024693   \n",
       "Importances - 1  0.012829  0.074868   0.014503   0.036336  0.037413  0.070023   \n",
       "Importances - 2  0.003953  0.023071   0.002181   0.013835  0.067239  0.034165   \n",
       "Importances - 3  0.035035  0.000000   0.031853   0.034382  0.027837  0.092179   \n",
       "Importances - 4  0.022753  0.015106   0.048888   0.025704  0.000000  0.119827   \n",
       "\n",
       "                 Free CaO  Loss on Ignition  \n",
       "Importances - 0  0.001281          0.155880  \n",
       "Importances - 1  0.015527          0.018973  \n",
       "Importances - 2  0.011335          0.344079  \n",
       "Importances - 3  0.010257          0.000000  \n",
       "Importances - 4  0.018885          0.079072  "
      ]
     },
     "execution_count": 32,
     "metadata": {},
     "output_type": "execute_result"
    },
    {
     "data": {
      "application/javascript": [
       "\n",
       "            setTimeout(function() {\n",
       "                var nbb_cell_id = 32;\n",
       "                var nbb_unformatted_code = \"df_importances\";\n",
       "                var nbb_formatted_code = \"df_importances\";\n",
       "                var nbb_cells = Jupyter.notebook.get_cells();\n",
       "                for (var i = 0; i < nbb_cells.length; ++i) {\n",
       "                    if (nbb_cells[i].input_prompt_number == nbb_cell_id) {\n",
       "                        if (nbb_cells[i].get_text() == nbb_unformatted_code) {\n",
       "                             nbb_cells[i].set_text(nbb_formatted_code);\n",
       "                        }\n",
       "                        break;\n",
       "                    }\n",
       "                }\n",
       "            }, 500);\n",
       "            "
      ],
      "text/plain": [
       "<IPython.core.display.Javascript object>"
      ]
     },
     "metadata": {},
     "output_type": "display_data"
    }
   ],
   "source": [
    "df_importances"
   ]
  },
  {
   "cell_type": "code",
   "execution_count": 33,
   "id": "cdb5745e",
   "metadata": {},
   "outputs": [
    {
     "data": {
      "image/png": "[encoded data removed]",
      "text/plain": [
       "<Figure size 1000x550 with 1 Axes>"
      ]
     },
     "metadata": {},
     "output_type": "display_data"
    },
    {
     "data": {
      "application/javascript": [
       "\n",
       "            setTimeout(function() {\n",
       "                var nbb_cell_id = 33;\n",
       "                var nbb_unformatted_code = \"df_importances.mean(axis=0).sort_values().plot(\\n    kind=\\\"barh\\\", figsize=(10, 5.5), color=\\\"steelblue\\\"  # Consider using 'steelblue'\\n)\\nplt.title(\\\"Random Forest Variable Importance\\\")\\nplt.xlabel(\\\"Variable Importance (Mean Decrease in Impurity)\\\")\\nplt.grid(axis=\\\"x\\\", linestyle=\\\"--\\\", alpha=0.7)\\nplt.gca().spines[\\\"top\\\"].set_visible(False)\\nplt.gca().spines[\\\"right\\\"].set_visible(False)\\nplt.tight_layout()\\nplt.subplots_adjust(left=0.3)\\nplt.show()\";\n",
       "                var nbb_formatted_code = \"df_importances.mean(axis=0).sort_values().plot(\\n    kind=\\\"barh\\\", figsize=(10, 5.5), color=\\\"steelblue\\\"  # Consider using 'steelblue'\\n)\\nplt.title(\\\"Random Forest Variable Importance\\\")\\nplt.xlabel(\\\"Variable Importance (Mean Decrease in Impurity)\\\")\\nplt.grid(axis=\\\"x\\\", linestyle=\\\"--\\\", alpha=0.7)\\nplt.gca().spines[\\\"top\\\"].set_visible(False)\\nplt.gca().spines[\\\"right\\\"].set_visible(False)\\nplt.tight_layout()\\nplt.subplots_adjust(left=0.3)\\nplt.show()\";\n",
       "                var nbb_cells = Jupyter.notebook.get_cells();\n",
       "                for (var i = 0; i < nbb_cells.length; ++i) {\n",
       "                    if (nbb_cells[i].input_prompt_number == nbb_cell_id) {\n",
       "                        if (nbb_cells[i].get_text() == nbb_unformatted_code) {\n",
       "                             nbb_cells[i].set_text(nbb_formatted_code);\n",
       "                        }\n",
       "                        break;\n",
       "                    }\n",
       "                }\n",
       "            }, 500);\n",
       "            "
      ],
      "text/plain": [
       "<IPython.core.display.Javascript object>"
      ]
     },
     "metadata": {},
     "output_type": "display_data"
    }
   ],
   "source": [
    "df_importances.mean(axis=0).sort_values().plot(\n",
    "    kind=\"barh\", figsize=(10, 5.5), color=\"steelblue\"  # Consider using 'steelblue'\n",
    ")\n",
    "plt.title(\"Random Forest Variable Importance\")\n",
    "plt.xlabel(\"Variable Importance (Mean Decrease in Impurity)\")\n",
    "plt.grid(axis=\"x\", linestyle=\"--\", alpha=0.7)\n",
    "plt.gca().spines[\"top\"].set_visible(False)\n",
    "plt.gca().spines[\"right\"].set_visible(False)\n",
    "plt.tight_layout()\n",
    "plt.subplots_adjust(left=0.3)\n",
    "plt.show()"
   ]
  },
  {
   "cell_type": "code",
   "execution_count": 34,
   "id": "8f69eae7",
   "metadata": {},
   "outputs": [
    {
     "data": {
      "image/png": "[encoded data removed]",
      "text/plain": [
       "<Figure size 1000x550 with 1 Axes>"
      ]
     },
     "metadata": {},
     "output_type": "display_data"
    },
    {
     "data": {
      "application/javascript": [
       "\n",
       "            setTimeout(function() {\n",
       "                var nbb_cell_id = 34;\n",
       "                var nbb_unformatted_code = \"warnings.filterwarnings(\\\"ignore\\\")\\nplt.figure(figsize=(10, 5.5))\\nsns.boxplot(data=df_importances, orient=\\\"h\\\", color=\\\"lightsteelblue\\\", saturation=0.7, showmeans=True)\\nsns.despine(trim=True, left=False)\\nplt.xlabel(\\\"Importance (MDI)\\\")\\nplt.title(\\\"Variable Importance Distribution\\\")\\nplt.grid(axis='x', linestyle='--', alpha=0.7)\\nplt.subplots_adjust(left=0.3)\\nplt.show()\";\n",
       "                var nbb_formatted_code = \"warnings.filterwarnings(\\\"ignore\\\")\\nplt.figure(figsize=(10, 5.5))\\nsns.boxplot(\\n    data=df_importances,\\n    orient=\\\"h\\\",\\n    color=\\\"lightsteelblue\\\",\\n    saturation=0.7,\\n    showmeans=True,\\n)\\nsns.despine(trim=True, left=False)\\nplt.xlabel(\\\"Importance (MDI)\\\")\\nplt.title(\\\"Variable Importance Distribution\\\")\\nplt.grid(axis=\\\"x\\\", linestyle=\\\"--\\\", alpha=0.7)\\nplt.subplots_adjust(left=0.3)\\nplt.show()\";\n",
       "                var nbb_cells = Jupyter.notebook.get_cells();\n",
       "                for (var i = 0; i < nbb_cells.length; ++i) {\n",
       "                    if (nbb_cells[i].input_prompt_number == nbb_cell_id) {\n",
       "                        if (nbb_cells[i].get_text() == nbb_unformatted_code) {\n",
       "                             nbb_cells[i].set_text(nbb_formatted_code);\n",
       "                        }\n",
       "                        break;\n",
       "                    }\n",
       "                }\n",
       "            }, 500);\n",
       "            "
      ],
      "text/plain": [
       "<IPython.core.display.Javascript object>"
      ]
     },
     "metadata": {},
     "output_type": "display_data"
    }
   ],
   "source": [
    "warnings.filterwarnings(\"ignore\")\n",
    "plt.figure(figsize=(10, 5.5))\n",
    "sns.boxplot(data=df_importances, orient=\"h\", color=\"lightsteelblue\", saturation=0.7, showmeans=True)\n",
    "sns.despine(trim=True, left=False)\n",
    "plt.xlabel(\"Importance (MDI)\")\n",
    "plt.title(\"Variable Importance Distribution\")\n",
    "plt.grid(axis='x', linestyle='--', alpha=0.7)\n",
    "plt.subplots_adjust(left=0.3)\n",
    "plt.show()\n"
   ]
  },
  {
   "cell_type": "code",
   "execution_count": 35,
   "id": "81db1205",
   "metadata": {
    "scrolled": false
   },
   "outputs": [
    {
     "data": {
      "application/javascript": [
       "\n",
       "            setTimeout(function() {\n",
       "                var nbb_cell_id = 35;\n",
       "                var nbb_unformatted_code = \"# warnings.filterwarnings(\\\"ignore\\\")\\n# plt.figure(figsize=(10, 5.5))\\n# sns.boxplot(data=df_importances, orient=\\\"h\\\", color=\\\"lightsteelblue\\\", saturation=1, showmeans=True)\\n# sns.despine(trim=True, left=False)\\n# plt.xlabel(\\\"Relevance (MDI)\\\")\\n# plt.title(\\\"Variable Relevance Distribution\\\")\\n# plt.grid(axis='x', linestyle='--', alpha=0.7)\\n# plt.subplots_adjust(left=0.3)\\n# plt.show()\";\n",
       "                var nbb_formatted_code = \"# warnings.filterwarnings(\\\"ignore\\\")\\n# plt.figure(figsize=(10, 5.5))\\n# sns.boxplot(data=df_importances, orient=\\\"h\\\", color=\\\"lightsteelblue\\\", saturation=1, showmeans=True)\\n# sns.despine(trim=True, left=False)\\n# plt.xlabel(\\\"Relevance (MDI)\\\")\\n# plt.title(\\\"Variable Relevance Distribution\\\")\\n# plt.grid(axis='x', linestyle='--', alpha=0.7)\\n# plt.subplots_adjust(left=0.3)\\n# plt.show()\";\n",
       "                var nbb_cells = Jupyter.notebook.get_cells();\n",
       "                for (var i = 0; i < nbb_cells.length; ++i) {\n",
       "                    if (nbb_cells[i].input_prompt_number == nbb_cell_id) {\n",
       "                        if (nbb_cells[i].get_text() == nbb_unformatted_code) {\n",
       "                             nbb_cells[i].set_text(nbb_formatted_code);\n",
       "                        }\n",
       "                        break;\n",
       "                    }\n",
       "                }\n",
       "            }, 500);\n",
       "            "
      ],
      "text/plain": [
       "<IPython.core.display.Javascript object>"
      ]
     },
     "metadata": {},
     "output_type": "display_data"
    }
   ],
   "source": [
    "# warnings.filterwarnings(\"ignore\")\n",
    "# plt.figure(figsize=(10, 5.5))\n",
    "# sns.boxplot(data=df_importances, orient=\"h\", color=\"lightsteelblue\", saturation=1, showmeans=True)\n",
    "# sns.despine(trim=True, left=False)\n",
    "# plt.xlabel(\"Relevance (MDI)\")\n",
    "# plt.title(\"Variable Relevance Distribution\")\n",
    "# plt.grid(axis='x', linestyle='--', alpha=0.7)\n",
    "# plt.subplots_adjust(left=0.3)\n",
    "# plt.show()\n"
   ]
  },
  {
   "cell_type": "code",
   "execution_count": 36,
   "id": "501b9e5f",
   "metadata": {},
   "outputs": [
    {
     "data": {
      "image/png": "[encoded data removed]",
      "text/plain": [
       "<Figure size 1000x550 with 1 Axes>"
      ]
     },
     "metadata": {},
     "output_type": "display_data"
    },
    {
     "data": {
      "application/javascript": [
       "\n",
       "            setTimeout(function() {\n",
       "                var nbb_cell_id = 36;\n",
       "                var nbb_unformatted_code = \"# Calculate the means of the importance scores\\nmean_importances = df_importances.mean()\\n\\n# Sort the features by their mean relevance\\nsorted_features = mean_importances.sort_values()\\n\\n# Re-order the DataFrame according to the sorted features\\ndf_importances_sorted = df_importances[sorted_features.index]\\n\\n# Plot the sorted boxplot\\ndf_importances_sorted = df_importances_sorted.rename(\\n    columns={\\\"Loss on Ignition\\\": \\\"LOI\\\"}\\n)\\n\\nplt.figure(figsize=(10, 5.5))\\nsns.boxplot(\\n    data=df_importances_sorted,\\n    orient=\\\"h\\\",\\n    color=\\\"lightsteelblue\\\",\\n    saturation=1,\\n    showmeans=True,\\n)\\nsns.despine(trim=True, left=False)\\nplt.xlabel(\\\"Importance (MDI)\\\")\\nplt.title(\\\"Variable Relevance Distribution\\\")\\nplt.grid(axis=\\\"x\\\", linestyle=\\\"--\\\", alpha=0.7)\\nplt.subplots_adjust(left=0.3)\\nplt.savefig(\\\"inn_cm_btiss_random_forest_scpm_best_dist_var_relevance.png\\\", dpi=300, bbox_inches='tight')\\nplt.show()\";\n",
       "                var nbb_formatted_code = \"# Calculate the means of the importance scores\\nmean_importances = df_importances.mean()\\n\\n# Sort the features by their mean relevance\\nsorted_features = mean_importances.sort_values()\\n\\n# Re-order the DataFrame according to the sorted features\\ndf_importances_sorted = df_importances[sorted_features.index]\\n\\n# Plot the sorted boxplot\\ndf_importances_sorted = df_importances_sorted.rename(\\n    columns={\\\"Loss on Ignition\\\": \\\"LOI\\\"}\\n)\\n\\nplt.figure(figsize=(10, 5.5))\\nsns.boxplot(\\n    data=df_importances_sorted,\\n    orient=\\\"h\\\",\\n    color=\\\"lightsteelblue\\\",\\n    saturation=1,\\n    showmeans=True,\\n)\\nsns.despine(trim=True, left=False)\\nplt.xlabel(\\\"Importance (MDI)\\\")\\nplt.title(\\\"Variable Relevance Distribution\\\")\\nplt.grid(axis=\\\"x\\\", linestyle=\\\"--\\\", alpha=0.7)\\nplt.subplots_adjust(left=0.3)\\nplt.savefig(\\n    \\\"inn_cm_btiss_random_forest_scpm_best_dist_var_relevance.png\\\",\\n    dpi=300,\\n    bbox_inches=\\\"tight\\\",\\n)\\nplt.show()\";\n",
       "                var nbb_cells = Jupyter.notebook.get_cells();\n",
       "                for (var i = 0; i < nbb_cells.length; ++i) {\n",
       "                    if (nbb_cells[i].input_prompt_number == nbb_cell_id) {\n",
       "                        if (nbb_cells[i].get_text() == nbb_unformatted_code) {\n",
       "                             nbb_cells[i].set_text(nbb_formatted_code);\n",
       "                        }\n",
       "                        break;\n",
       "                    }\n",
       "                }\n",
       "            }, 500);\n",
       "            "
      ],
      "text/plain": [
       "<IPython.core.display.Javascript object>"
      ]
     },
     "metadata": {},
     "output_type": "display_data"
    }
   ],
   "source": [
    "# Calculate the means of the importance scores\n",
    "mean_importances = df_importances.mean()\n",
    "\n",
    "# Sort the features by their mean relevance\n",
    "sorted_features = mean_importances.sort_values()\n",
    "\n",
    "# Re-order the DataFrame according to the sorted features\n",
    "df_importances_sorted = df_importances[sorted_features.index]\n",
    "\n",
    "# Plot the sorted boxplot\n",
    "df_importances_sorted = df_importances_sorted.rename(\n",
    "    columns={\"Loss on Ignition\": \"LOI\"}\n",
    ")\n",
    "\n",
    "plt.figure(figsize=(10, 5.5))\n",
    "sns.boxplot(\n",
    "    data=df_importances_sorted,\n",
    "    orient=\"h\",\n",
    "    color=\"lightsteelblue\",\n",
    "    saturation=1,\n",
    "    showmeans=True,\n",
    ")\n",
    "sns.despine(trim=True, left=False)\n",
    "plt.xlabel(\"Importance (MDI)\")\n",
    "plt.title(\"Variable Relevance Distribution\")\n",
    "plt.grid(axis=\"x\", linestyle=\"--\", alpha=0.7)\n",
    "plt.subplots_adjust(left=0.3)\n",
    "plt.savefig(\"inn_cm_btiss_random_forest_scpm_best_dist_var_relevance.png\", dpi=300, bbox_inches='tight')\n",
    "plt.show()\n"
   ]
  },
  {
   "cell_type": "code",
   "execution_count": 37,
   "id": "37146acc",
   "metadata": {},
   "outputs": [
    {
     "data": {
      "image/png": "[encoded data removed]",
      "text/plain": [
       "<Figure size 1000x550 with 1 Axes>"
      ]
     },
     "metadata": {},
     "output_type": "display_data"
    },
    {
     "data": {
      "application/javascript": [
       "\n",
       "            setTimeout(function() {\n",
       "                var nbb_cell_id = 37;\n",
       "                var nbb_unformatted_code = \"# Backup the original backend\\noriginal_backend = plt.get_backend()\\n\\n# Use Matplotlib's default backend\\n# plt.switch_backend(\\\"agg\\\")  # or any backend you prefer\\n\\n# Update font settings to default\\nplt.rcParams.update(\\n    {\\n        \\\"font.family\\\": \\\"sans-serif\\\",\\n        \\\"font.sans-serif\\\": [\\\"DejaVu Sans\\\"],\\n        \\\"font.size\\\": 10,\\n        \\\"text.usetex\\\": False,  # Use MathText, not LaTeX\\n    }\\n)\\n\\n\\n# Convert chemical formulas using MathText syntax\\ndf_importances_sorted_plot = df_importances_sorted.rename(\\n    columns={\\n        \\\"K2O\\\": r\\\"$\\\\mathrm{K_2O}$\\\",\\n        \\\"Free CaO\\\": r\\\"Free $\\\\mathrm{CaO}$\\\",\\n        \\\"Total C2S\\\": r\\\"Total $\\\\mathrm{C_2S}$\\\",\\n        \\\"Na2O\\\": r\\\"$\\\\mathrm{Na_2O}$\\\",\\n        \\\"CaO\\\": r\\\"$\\\\mathrm{CaO}$\\\",\\n        \\\"SiO2\\\": r\\\"$\\\\mathrm{SiO_2}$\\\",\\n        \\\"MgO\\\": r\\\"$\\\\mathrm{MgO}$\\\",\\n        \\\"Fe2O3\\\": r\\\"$\\\\mathrm{Fe_2O_3}$\\\",\\n        \\\"Al2O3\\\": r\\\"$\\\\mathrm{Al_2O_3}$\\\",\\n        \\\"Total C3S\\\": r\\\"Total $\\\\mathrm{C_3S}$\\\",\\n        \\\"C3A\\\": r\\\"$\\\\mathrm{C_3A}$\\\",\\n        \\\"C4AF\\\": r\\\"$\\\\mathrm{C_4AF}$\\\",\\n        \\\"LOI\\\": \\\"LOI\\\",\\n        \\\"SO3\\\": r\\\"$\\\\mathrm{SO_3}$\\\",\\n    }\\n)\\n\\nplt.figure(figsize=(10, 5.5))\\nsns.boxplot(\\n    data=df_importances_sorted_plot,\\n    orient=\\\"h\\\",\\n    color=\\\"lightsteelblue\\\",\\n    saturation=1,\\n    showmeans=True,\\n)\\nsns.despine(trim=True, left=False)\\nplt.xlabel(\\\"Importance (MDI)\\\")\\nplt.title(\\\"Variable Importance Distribution\\\")\\nplt.grid(axis=\\\"x\\\", linestyle=\\\"--\\\", alpha=0.7)\\nplt.subplots_adjust(left=0.3)\\nplt.savefig(\\n    \\\"inn_cm_btiss_random_forest_scpm_best_dist_var_relevance.png\\\",\\n    dpi=300,\\n    bbox_inches=\\\"tight\\\",\\n)\\nplt.show()\\n\\n\\n# Step 3: Reset all rcParams to their default values\\nmatplotlib.rcParams.update(matplotlib.rcParamsDefault)\\nplt.rcdefaults()\\n\\n# Switch back to the original backend\\nplt.switch_backend(original_backend)\";\n",
       "                var nbb_formatted_code = \"# Backup the original backend\\noriginal_backend = plt.get_backend()\\n\\n# Use Matplotlib's default backend\\n# plt.switch_backend(\\\"agg\\\")  # or any backend you prefer\\n\\n# Update font settings to default\\nplt.rcParams.update(\\n    {\\n        \\\"font.family\\\": \\\"sans-serif\\\",\\n        \\\"font.sans-serif\\\": [\\\"DejaVu Sans\\\"],\\n        \\\"font.size\\\": 10,\\n        \\\"text.usetex\\\": False,  # Use MathText, not LaTeX\\n    }\\n)\\n\\n\\n# Convert chemical formulas using MathText syntax\\ndf_importances_sorted_plot = df_importances_sorted.rename(\\n    columns={\\n        \\\"K2O\\\": r\\\"$\\\\mathrm{K_2O}$\\\",\\n        \\\"Free CaO\\\": r\\\"Free $\\\\mathrm{CaO}$\\\",\\n        \\\"Total C2S\\\": r\\\"Total $\\\\mathrm{C_2S}$\\\",\\n        \\\"Na2O\\\": r\\\"$\\\\mathrm{Na_2O}$\\\",\\n        \\\"CaO\\\": r\\\"$\\\\mathrm{CaO}$\\\",\\n        \\\"SiO2\\\": r\\\"$\\\\mathrm{SiO_2}$\\\",\\n        \\\"MgO\\\": r\\\"$\\\\mathrm{MgO}$\\\",\\n        \\\"Fe2O3\\\": r\\\"$\\\\mathrm{Fe_2O_3}$\\\",\\n        \\\"Al2O3\\\": r\\\"$\\\\mathrm{Al_2O_3}$\\\",\\n        \\\"Total C3S\\\": r\\\"Total $\\\\mathrm{C_3S}$\\\",\\n        \\\"C3A\\\": r\\\"$\\\\mathrm{C_3A}$\\\",\\n        \\\"C4AF\\\": r\\\"$\\\\mathrm{C_4AF}$\\\",\\n        \\\"LOI\\\": \\\"LOI\\\",\\n        \\\"SO3\\\": r\\\"$\\\\mathrm{SO_3}$\\\",\\n    }\\n)\\n\\nplt.figure(figsize=(10, 5.5))\\nsns.boxplot(\\n    data=df_importances_sorted_plot,\\n    orient=\\\"h\\\",\\n    color=\\\"lightsteelblue\\\",\\n    saturation=1,\\n    showmeans=True,\\n)\\nsns.despine(trim=True, left=False)\\nplt.xlabel(\\\"Importance (MDI)\\\")\\nplt.title(\\\"Variable Importance Distribution\\\")\\nplt.grid(axis=\\\"x\\\", linestyle=\\\"--\\\", alpha=0.7)\\nplt.subplots_adjust(left=0.3)\\nplt.savefig(\\n    \\\"inn_cm_btiss_random_forest_scpm_best_dist_var_relevance.png\\\",\\n    dpi=300,\\n    bbox_inches=\\\"tight\\\",\\n)\\nplt.show()\\n\\n\\n# Step 3: Reset all rcParams to their default values\\nmatplotlib.rcParams.update(matplotlib.rcParamsDefault)\\nplt.rcdefaults()\\n\\n# Switch back to the original backend\\nplt.switch_backend(original_backend)\";\n",
       "                var nbb_cells = Jupyter.notebook.get_cells();\n",
       "                for (var i = 0; i < nbb_cells.length; ++i) {\n",
       "                    if (nbb_cells[i].input_prompt_number == nbb_cell_id) {\n",
       "                        if (nbb_cells[i].get_text() == nbb_unformatted_code) {\n",
       "                             nbb_cells[i].set_text(nbb_formatted_code);\n",
       "                        }\n",
       "                        break;\n",
       "                    }\n",
       "                }\n",
       "            }, 500);\n",
       "            "
      ],
      "text/plain": [
       "<IPython.core.display.Javascript object>"
      ]
     },
     "metadata": {},
     "output_type": "display_data"
    }
   ],
   "source": [
    "# Backup the original backend\n",
    "original_backend = plt.get_backend()\n",
    "\n",
    "# Use Matplotlib's default backend\n",
    "# plt.switch_backend(\"agg\")  # or any backend you prefer\n",
    "\n",
    "# Update font settings to default\n",
    "plt.rcParams.update(\n",
    "    {\n",
    "        \"font.family\": \"sans-serif\",\n",
    "        \"font.sans-serif\": [\"DejaVu Sans\"],\n",
    "        \"font.size\": 10,\n",
    "        \"text.usetex\": False,  # Use MathText, not LaTeX\n",
    "    }\n",
    ")\n",
    "\n",
    "\n",
    "# Convert chemical formulas using MathText syntax\n",
    "df_importances_sorted_plot = df_importances_sorted.rename(\n",
    "    columns={\n",
    "        \"K2O\": r\"$\\mathrm{K_2O}$\",\n",
    "        \"Free CaO\": r\"Free $\\mathrm{CaO}$\",\n",
    "        \"Total C2S\": r\"Total $\\mathrm{C_2S}$\",\n",
    "        \"Na2O\": r\"$\\mathrm{Na_2O}$\",\n",
    "        \"CaO\": r\"$\\mathrm{CaO}$\",\n",
    "        \"SiO2\": r\"$\\mathrm{SiO_2}$\",\n",
    "        \"MgO\": r\"$\\mathrm{MgO}$\",\n",
    "        \"Fe2O3\": r\"$\\mathrm{Fe_2O_3}$\",\n",
    "        \"Al2O3\": r\"$\\mathrm{Al_2O_3}$\",\n",
    "        \"Total C3S\": r\"Total $\\mathrm{C_3S}$\",\n",
    "        \"C3A\": r\"$\\mathrm{C_3A}$\",\n",
    "        \"C4AF\": r\"$\\mathrm{C_4AF}$\",\n",
    "        \"LOI\": \"LOI\",\n",
    "        \"SO3\": r\"$\\mathrm{SO_3}$\",\n",
    "    }\n",
    ")\n",
    "\n",
    "plt.figure(figsize=(10, 5.5))\n",
    "sns.boxplot(\n",
    "    data=df_importances_sorted_plot,\n",
    "    orient=\"h\",\n",
    "    color=\"lightsteelblue\",\n",
    "    saturation=1,\n",
    "    showmeans=True,\n",
    ")\n",
    "sns.despine(trim=True, left=False)\n",
    "plt.xlabel(\"Importance (MDI)\")\n",
    "plt.title(\"Variable Importance Distribution\")\n",
    "plt.grid(axis=\"x\", linestyle=\"--\", alpha=0.7)\n",
    "plt.subplots_adjust(left=0.3)\n",
    "plt.savefig(\n",
    "    \"inn_cm_btiss_random_forest_scpm_best_dist_var_relevance.png\",\n",
    "    dpi=300,\n",
    "    bbox_inches=\"tight\",\n",
    ")\n",
    "plt.show()\n",
    "\n",
    "\n",
    "# Step 3: Reset all rcParams to their default values\n",
    "matplotlib.rcParams.update(matplotlib.rcParamsDefault)\n",
    "plt.rcdefaults()\n",
    "\n",
    "# Switch back to the original backend\n",
    "plt.switch_backend(original_backend)"
   ]
  },
  {
   "cell_type": "code",
   "execution_count": 38,
   "id": "f5f46aec",
   "metadata": {},
   "outputs": [
    {
     "data": {
      "text/html": [
       "<div>\n",
       "<style scoped>\n",
       "    .dataframe tbody tr th:only-of-type {\n",
       "        vertical-align: middle;\n",
       "    }\n",
       "\n",
       "    .dataframe tbody tr th {\n",
       "        vertical-align: top;\n",
       "    }\n",
       "\n",
       "    .dataframe thead th {\n",
       "        text-align: right;\n",
       "    }\n",
       "</style>\n",
       "<table border=\"1\" class=\"dataframe\">\n",
       "  <thead>\n",
       "    <tr style=\"text-align: right;\">\n",
       "      <th></th>\n",
       "      <th>CaO</th>\n",
       "      <th>SiO2</th>\n",
       "      <th>Al2O3</th>\n",
       "      <th>Fe2O3</th>\n",
       "      <th>MgO</th>\n",
       "      <th>SO3</th>\n",
       "      <th>K2O</th>\n",
       "      <th>Na2O</th>\n",
       "      <th>Total C3S</th>\n",
       "      <th>Total C2S</th>\n",
       "      <th>C3A</th>\n",
       "      <th>C4AF</th>\n",
       "      <th>Free CaO</th>\n",
       "      <th>Loss on Ignition</th>\n",
       "    </tr>\n",
       "  </thead>\n",
       "  <tbody>\n",
       "    <tr>\n",
       "      <th>Importances - 0</th>\n",
       "      <td>0.000000</td>\n",
       "      <td>0.006089</td>\n",
       "      <td>0.008008</td>\n",
       "      <td>0.005019</td>\n",
       "      <td>0.019573</td>\n",
       "      <td>0.742794</td>\n",
       "      <td>0.000000</td>\n",
       "      <td>0.004910</td>\n",
       "      <td>0.001927</td>\n",
       "      <td>0.002092</td>\n",
       "      <td>0.027734</td>\n",
       "      <td>0.024693</td>\n",
       "      <td>0.001281</td>\n",
       "      <td>0.155880</td>\n",
       "    </tr>\n",
       "    <tr>\n",
       "      <th>Importances - 1</th>\n",
       "      <td>0.010792</td>\n",
       "      <td>0.017089</td>\n",
       "      <td>0.027686</td>\n",
       "      <td>0.000000</td>\n",
       "      <td>0.030040</td>\n",
       "      <td>0.633920</td>\n",
       "      <td>0.012829</td>\n",
       "      <td>0.074868</td>\n",
       "      <td>0.014503</td>\n",
       "      <td>0.036336</td>\n",
       "      <td>0.037413</td>\n",
       "      <td>0.070023</td>\n",
       "      <td>0.015527</td>\n",
       "      <td>0.018973</td>\n",
       "    </tr>\n",
       "    <tr>\n",
       "      <th>Importances - 2</th>\n",
       "      <td>0.013023</td>\n",
       "      <td>0.000000</td>\n",
       "      <td>0.017181</td>\n",
       "      <td>0.000000</td>\n",
       "      <td>0.034247</td>\n",
       "      <td>0.435691</td>\n",
       "      <td>0.003953</td>\n",
       "      <td>0.023071</td>\n",
       "      <td>0.002181</td>\n",
       "      <td>0.013835</td>\n",
       "      <td>0.067239</td>\n",
       "      <td>0.034165</td>\n",
       "      <td>0.011335</td>\n",
       "      <td>0.344079</td>\n",
       "    </tr>\n",
       "    <tr>\n",
       "      <th>Importances - 3</th>\n",
       "      <td>0.068643</td>\n",
       "      <td>0.031942</td>\n",
       "      <td>0.040793</td>\n",
       "      <td>0.005617</td>\n",
       "      <td>0.000000</td>\n",
       "      <td>0.621461</td>\n",
       "      <td>0.035035</td>\n",
       "      <td>0.000000</td>\n",
       "      <td>0.031853</td>\n",
       "      <td>0.034382</td>\n",
       "      <td>0.027837</td>\n",
       "      <td>0.092179</td>\n",
       "      <td>0.010257</td>\n",
       "      <td>0.000000</td>\n",
       "    </tr>\n",
       "    <tr>\n",
       "      <th>Importances - 4</th>\n",
       "      <td>0.000000</td>\n",
       "      <td>0.024472</td>\n",
       "      <td>0.000000</td>\n",
       "      <td>0.029401</td>\n",
       "      <td>0.000000</td>\n",
       "      <td>0.615892</td>\n",
       "      <td>0.022753</td>\n",
       "      <td>0.015106</td>\n",
       "      <td>0.048888</td>\n",
       "      <td>0.025704</td>\n",
       "      <td>0.000000</td>\n",
       "      <td>0.119827</td>\n",
       "      <td>0.018885</td>\n",
       "      <td>0.079072</td>\n",
       "    </tr>\n",
       "  </tbody>\n",
       "</table>\n",
       "</div>"
      ],
      "text/plain": [
       "                      CaO      SiO2     Al2O3     Fe2O3       MgO       SO3  \\\n",
       "Importances - 0  0.000000  0.006089  0.008008  0.005019  0.019573  0.742794   \n",
       "Importances - 1  0.010792  0.017089  0.027686  0.000000  0.030040  0.633920   \n",
       "Importances - 2  0.013023  0.000000  0.017181  0.000000  0.034247  0.435691   \n",
       "Importances - 3  0.068643  0.031942  0.040793  0.005617  0.000000  0.621461   \n",
       "Importances - 4  0.000000  0.024472  0.000000  0.029401  0.000000  0.615892   \n",
       "\n",
       "                      K2O      Na2O  Total C3S  Total C2S       C3A      C4AF  \\\n",
       "Importances - 0  0.000000  0.004910   0.001927   0.002092  0.027734  0.024693   \n",
       "Importances - 1  0.012829  0.074868   0.014503   0.036336  0.037413  0.070023   \n",
       "Importances - 2  0.003953  0.023071   0.002181   0.013835  0.067239  0.034165   \n",
       "Importances - 3  0.035035  0.000000   0.031853   0.034382  0.027837  0.092179   \n",
       "Importances - 4  0.022753  0.015106   0.048888   0.025704  0.000000  0.119827   \n",
       "\n",
       "                 Free CaO  Loss on Ignition  \n",
       "Importances - 0  0.001281          0.155880  \n",
       "Importances - 1  0.015527          0.018973  \n",
       "Importances - 2  0.011335          0.344079  \n",
       "Importances - 3  0.010257          0.000000  \n",
       "Importances - 4  0.018885          0.079072  "
      ]
     },
     "execution_count": 38,
     "metadata": {},
     "output_type": "execute_result"
    },
    {
     "data": {
      "application/javascript": [
       "\n",
       "            setTimeout(function() {\n",
       "                var nbb_cell_id = 38;\n",
       "                var nbb_unformatted_code = \"df_importances\";\n",
       "                var nbb_formatted_code = \"df_importances\";\n",
       "                var nbb_cells = Jupyter.notebook.get_cells();\n",
       "                for (var i = 0; i < nbb_cells.length; ++i) {\n",
       "                    if (nbb_cells[i].input_prompt_number == nbb_cell_id) {\n",
       "                        if (nbb_cells[i].get_text() == nbb_unformatted_code) {\n",
       "                             nbb_cells[i].set_text(nbb_formatted_code);\n",
       "                        }\n",
       "                        break;\n",
       "                    }\n",
       "                }\n",
       "            }, 500);\n",
       "            "
      ],
      "text/plain": [
       "<IPython.core.display.Javascript object>"
      ]
     },
     "metadata": {},
     "output_type": "display_data"
    }
   ],
   "source": [
    "df_importances"
   ]
  },
  {
   "cell_type": "code",
   "execution_count": 39,
   "id": "c6392192",
   "metadata": {},
   "outputs": [
    {
     "data": {
      "text/html": [
       "<div>\n",
       "<style scoped>\n",
       "    .dataframe tbody tr th:only-of-type {\n",
       "        vertical-align: middle;\n",
       "    }\n",
       "\n",
       "    .dataframe tbody tr th {\n",
       "        vertical-align: top;\n",
       "    }\n",
       "\n",
       "    .dataframe thead th {\n",
       "        text-align: right;\n",
       "    }\n",
       "</style>\n",
       "<table border=\"1\" class=\"dataframe\">\n",
       "  <thead>\n",
       "    <tr style=\"text-align: right;\">\n",
       "      <th></th>\n",
       "      <th>count</th>\n",
       "      <th>mean</th>\n",
       "      <th>std</th>\n",
       "      <th>min</th>\n",
       "      <th>25%</th>\n",
       "      <th>50%</th>\n",
       "      <th>75%</th>\n",
       "      <th>max</th>\n",
       "    </tr>\n",
       "  </thead>\n",
       "  <tbody>\n",
       "    <tr>\n",
       "      <th>CaO</th>\n",
       "      <td>5.0</td>\n",
       "      <td>0.018492</td>\n",
       "      <td>0.028672</td>\n",
       "      <td>0.000000</td>\n",
       "      <td>0.000000</td>\n",
       "      <td>0.010792</td>\n",
       "      <td>0.013023</td>\n",
       "      <td>0.068643</td>\n",
       "    </tr>\n",
       "    <tr>\n",
       "      <th>SiO2</th>\n",
       "      <td>5.0</td>\n",
       "      <td>0.015918</td>\n",
       "      <td>0.013051</td>\n",
       "      <td>0.000000</td>\n",
       "      <td>0.006089</td>\n",
       "      <td>0.017089</td>\n",
       "      <td>0.024472</td>\n",
       "      <td>0.031942</td>\n",
       "    </tr>\n",
       "    <tr>\n",
       "      <th>Al2O3</th>\n",
       "      <td>5.0</td>\n",
       "      <td>0.018734</td>\n",
       "      <td>0.016087</td>\n",
       "      <td>0.000000</td>\n",
       "      <td>0.008008</td>\n",
       "      <td>0.017181</td>\n",
       "      <td>0.027686</td>\n",
       "      <td>0.040793</td>\n",
       "    </tr>\n",
       "    <tr>\n",
       "      <th>Fe2O3</th>\n",
       "      <td>5.0</td>\n",
       "      <td>0.008007</td>\n",
       "      <td>0.012253</td>\n",
       "      <td>0.000000</td>\n",
       "      <td>0.000000</td>\n",
       "      <td>0.005019</td>\n",
       "      <td>0.005617</td>\n",
       "      <td>0.029401</td>\n",
       "    </tr>\n",
       "    <tr>\n",
       "      <th>MgO</th>\n",
       "      <td>5.0</td>\n",
       "      <td>0.016772</td>\n",
       "      <td>0.016216</td>\n",
       "      <td>0.000000</td>\n",
       "      <td>0.000000</td>\n",
       "      <td>0.019573</td>\n",
       "      <td>0.030040</td>\n",
       "      <td>0.034247</td>\n",
       "    </tr>\n",
       "    <tr>\n",
       "      <th>SO3</th>\n",
       "      <td>5.0</td>\n",
       "      <td>0.609951</td>\n",
       "      <td>0.110404</td>\n",
       "      <td>0.435691</td>\n",
       "      <td>0.615892</td>\n",
       "      <td>0.621461</td>\n",
       "      <td>0.633920</td>\n",
       "      <td>0.742794</td>\n",
       "    </tr>\n",
       "    <tr>\n",
       "      <th>K2O</th>\n",
       "      <td>5.0</td>\n",
       "      <td>0.014914</td>\n",
       "      <td>0.014259</td>\n",
       "      <td>0.000000</td>\n",
       "      <td>0.003953</td>\n",
       "      <td>0.012829</td>\n",
       "      <td>0.022753</td>\n",
       "      <td>0.035035</td>\n",
       "    </tr>\n",
       "    <tr>\n",
       "      <th>Na2O</th>\n",
       "      <td>5.0</td>\n",
       "      <td>0.023591</td>\n",
       "      <td>0.030030</td>\n",
       "      <td>0.000000</td>\n",
       "      <td>0.004910</td>\n",
       "      <td>0.015106</td>\n",
       "      <td>0.023071</td>\n",
       "      <td>0.074868</td>\n",
       "    </tr>\n",
       "    <tr>\n",
       "      <th>Total C3S</th>\n",
       "      <td>5.0</td>\n",
       "      <td>0.019871</td>\n",
       "      <td>0.020306</td>\n",
       "      <td>0.001927</td>\n",
       "      <td>0.002181</td>\n",
       "      <td>0.014503</td>\n",
       "      <td>0.031853</td>\n",
       "      <td>0.048888</td>\n",
       "    </tr>\n",
       "    <tr>\n",
       "      <th>Total C2S</th>\n",
       "      <td>5.0</td>\n",
       "      <td>0.022470</td>\n",
       "      <td>0.014443</td>\n",
       "      <td>0.002092</td>\n",
       "      <td>0.013835</td>\n",
       "      <td>0.025704</td>\n",
       "      <td>0.034382</td>\n",
       "      <td>0.036336</td>\n",
       "    </tr>\n",
       "    <tr>\n",
       "      <th>C3A</th>\n",
       "      <td>5.0</td>\n",
       "      <td>0.032045</td>\n",
       "      <td>0.024138</td>\n",
       "      <td>0.000000</td>\n",
       "      <td>0.027734</td>\n",
       "      <td>0.027837</td>\n",
       "      <td>0.037413</td>\n",
       "      <td>0.067239</td>\n",
       "    </tr>\n",
       "    <tr>\n",
       "      <th>C4AF</th>\n",
       "      <td>5.0</td>\n",
       "      <td>0.068177</td>\n",
       "      <td>0.039670</td>\n",
       "      <td>0.024693</td>\n",
       "      <td>0.034165</td>\n",
       "      <td>0.070023</td>\n",
       "      <td>0.092179</td>\n",
       "      <td>0.119827</td>\n",
       "    </tr>\n",
       "    <tr>\n",
       "      <th>Free CaO</th>\n",
       "      <td>5.0</td>\n",
       "      <td>0.011457</td>\n",
       "      <td>0.006647</td>\n",
       "      <td>0.001281</td>\n",
       "      <td>0.010257</td>\n",
       "      <td>0.011335</td>\n",
       "      <td>0.015527</td>\n",
       "      <td>0.018885</td>\n",
       "    </tr>\n",
       "    <tr>\n",
       "      <th>Loss on Ignition</th>\n",
       "      <td>5.0</td>\n",
       "      <td>0.119601</td>\n",
       "      <td>0.139445</td>\n",
       "      <td>0.000000</td>\n",
       "      <td>0.018973</td>\n",
       "      <td>0.079072</td>\n",
       "      <td>0.155880</td>\n",
       "      <td>0.344079</td>\n",
       "    </tr>\n",
       "  </tbody>\n",
       "</table>\n",
       "</div>"
      ],
      "text/plain": [
       "                  count      mean       std       min       25%       50%  \\\n",
       "CaO                 5.0  0.018492  0.028672  0.000000  0.000000  0.010792   \n",
       "SiO2                5.0  0.015918  0.013051  0.000000  0.006089  0.017089   \n",
       "Al2O3               5.0  0.018734  0.016087  0.000000  0.008008  0.017181   \n",
       "Fe2O3               5.0  0.008007  0.012253  0.000000  0.000000  0.005019   \n",
       "MgO                 5.0  0.016772  0.016216  0.000000  0.000000  0.019573   \n",
       "SO3                 5.0  0.609951  0.110404  0.435691  0.615892  0.621461   \n",
       "K2O                 5.0  0.014914  0.014259  0.000000  0.003953  0.012829   \n",
       "Na2O                5.0  0.023591  0.030030  0.000000  0.004910  0.015106   \n",
       "Total C3S           5.0  0.019871  0.020306  0.001927  0.002181  0.014503   \n",
       "Total C2S           5.0  0.022470  0.014443  0.002092  0.013835  0.025704   \n",
       "C3A                 5.0  0.032045  0.024138  0.000000  0.027734  0.027837   \n",
       "C4AF                5.0  0.068177  0.039670  0.024693  0.034165  0.070023   \n",
       "Free CaO            5.0  0.011457  0.006647  0.001281  0.010257  0.011335   \n",
       "Loss on Ignition    5.0  0.119601  0.139445  0.000000  0.018973  0.079072   \n",
       "\n",
       "                       75%       max  \n",
       "CaO               0.013023  0.068643  \n",
       "SiO2              0.024472  0.031942  \n",
       "Al2O3             0.027686  0.040793  \n",
       "Fe2O3             0.005617  0.029401  \n",
       "MgO               0.030040  0.034247  \n",
       "SO3               0.633920  0.742794  \n",
       "K2O               0.022753  0.035035  \n",
       "Na2O              0.023071  0.074868  \n",
       "Total C3S         0.031853  0.048888  \n",
       "Total C2S         0.034382  0.036336  \n",
       "C3A               0.037413  0.067239  \n",
       "C4AF              0.092179  0.119827  \n",
       "Free CaO          0.015527  0.018885  \n",
       "Loss on Ignition  0.155880  0.344079  "
      ]
     },
     "execution_count": 39,
     "metadata": {},
     "output_type": "execute_result"
    },
    {
     "data": {
      "application/javascript": [
       "\n",
       "            setTimeout(function() {\n",
       "                var nbb_cell_id = 39;\n",
       "                var nbb_unformatted_code = \"df_importances.describe().T\";\n",
       "                var nbb_formatted_code = \"df_importances.describe().T\";\n",
       "                var nbb_cells = Jupyter.notebook.get_cells();\n",
       "                for (var i = 0; i < nbb_cells.length; ++i) {\n",
       "                    if (nbb_cells[i].input_prompt_number == nbb_cell_id) {\n",
       "                        if (nbb_cells[i].get_text() == nbb_unformatted_code) {\n",
       "                             nbb_cells[i].set_text(nbb_formatted_code);\n",
       "                        }\n",
       "                        break;\n",
       "                    }\n",
       "                }\n",
       "            }, 500);\n",
       "            "
      ],
      "text/plain": [
       "<IPython.core.display.Javascript object>"
      ]
     },
     "metadata": {},
     "output_type": "display_data"
    }
   ],
   "source": [
    "df_importances.describe().T"
   ]
  },
  {
   "cell_type": "code",
   "execution_count": 40,
   "id": "8eb194e9",
   "metadata": {},
   "outputs": [
    {
     "data": {
      "text/plain": [
       "CaO                 0.018492\n",
       "SiO2                0.015918\n",
       "Al2O3               0.018734\n",
       "Fe2O3               0.008007\n",
       "MgO                 0.016772\n",
       "SO3                 0.609951\n",
       "K2O                 0.014914\n",
       "Na2O                0.023591\n",
       "Total C3S           0.019871\n",
       "Total C2S           0.022470\n",
       "C3A                 0.032045\n",
       "C4AF                0.068177\n",
       "Free CaO            0.011457\n",
       "Loss on Ignition    0.119601\n",
       "dtype: float64"
      ]
     },
     "execution_count": 40,
     "metadata": {},
     "output_type": "execute_result"
    },
    {
     "data": {
      "application/javascript": [
       "\n",
       "            setTimeout(function() {\n",
       "                var nbb_cell_id = 40;\n",
       "                var nbb_unformatted_code = \"df_importances.mean(axis=0)\";\n",
       "                var nbb_formatted_code = \"df_importances.mean(axis=0)\";\n",
       "                var nbb_cells = Jupyter.notebook.get_cells();\n",
       "                for (var i = 0; i < nbb_cells.length; ++i) {\n",
       "                    if (nbb_cells[i].input_prompt_number == nbb_cell_id) {\n",
       "                        if (nbb_cells[i].get_text() == nbb_unformatted_code) {\n",
       "                             nbb_cells[i].set_text(nbb_formatted_code);\n",
       "                        }\n",
       "                        break;\n",
       "                    }\n",
       "                }\n",
       "            }, 500);\n",
       "            "
      ],
      "text/plain": [
       "<IPython.core.display.Javascript object>"
      ]
     },
     "metadata": {},
     "output_type": "display_data"
    }
   ],
   "source": [
    "df_importances.mean(axis=0)"
   ]
  },
  {
   "cell_type": "code",
   "execution_count": 41,
   "id": "a6ce5396",
   "metadata": {},
   "outputs": [
    {
     "data": {
      "text/plain": [
       "CaO                 0.025645\n",
       "SiO2                0.011673\n",
       "Al2O3               0.014389\n",
       "Fe2O3               0.010960\n",
       "MgO                 0.014504\n",
       "SO3                 0.098748\n",
       "K2O                 0.012753\n",
       "Na2O                0.026859\n",
       "Total C3S           0.018162\n",
       "Total C2S           0.012919\n",
       "C3A                 0.021590\n",
       "C4AF                0.035482\n",
       "Free CaO            0.005946\n",
       "Loss on Ignition    0.124723\n",
       "dtype: float64"
      ]
     },
     "execution_count": 41,
     "metadata": {},
     "output_type": "execute_result"
    },
    {
     "data": {
      "application/javascript": [
       "\n",
       "            setTimeout(function() {\n",
       "                var nbb_cell_id = 41;\n",
       "                var nbb_unformatted_code = \"df_importances.std(axis=0, ddof=0)\";\n",
       "                var nbb_formatted_code = \"df_importances.std(axis=0, ddof=0)\";\n",
       "                var nbb_cells = Jupyter.notebook.get_cells();\n",
       "                for (var i = 0; i < nbb_cells.length; ++i) {\n",
       "                    if (nbb_cells[i].input_prompt_number == nbb_cell_id) {\n",
       "                        if (nbb_cells[i].get_text() == nbb_unformatted_code) {\n",
       "                             nbb_cells[i].set_text(nbb_formatted_code);\n",
       "                        }\n",
       "                        break;\n",
       "                    }\n",
       "                }\n",
       "            }, 500);\n",
       "            "
      ],
      "text/plain": [
       "<IPython.core.display.Javascript object>"
      ]
     },
     "metadata": {},
     "output_type": "display_data"
    }
   ],
   "source": [
    "df_importances.std(axis=0, ddof=0)"
   ]
  },
  {
   "cell_type": "code",
   "execution_count": 42,
   "id": "758d7cb7",
   "metadata": {},
   "outputs": [
    {
     "data": {
      "text/plain": [
       "Date                693\n",
       "CaO                 226\n",
       "SiO2                182\n",
       "Al2O3                89\n",
       "Fe2O3                56\n",
       "MgO                 178\n",
       "SO3                  78\n",
       "K2O                  32\n",
       "Na2O                 18\n",
       "Total C3S           630\n",
       "Total C2S           561\n",
       "C3A                 232\n",
       "C4AF                224\n",
       "Free CaO             98\n",
       "Loss on Ignition    173\n",
       "dtype: int64"
      ]
     },
     "execution_count": 42,
     "metadata": {},
     "output_type": "execute_result"
    },
    {
     "data": {
      "application/javascript": [
       "\n",
       "            setTimeout(function() {\n",
       "                var nbb_cell_id = 42;\n",
       "                var nbb_unformatted_code = \"df_copy.nunique()\";\n",
       "                var nbb_formatted_code = \"df_copy.nunique()\";\n",
       "                var nbb_cells = Jupyter.notebook.get_cells();\n",
       "                for (var i = 0; i < nbb_cells.length; ++i) {\n",
       "                    if (nbb_cells[i].input_prompt_number == nbb_cell_id) {\n",
       "                        if (nbb_cells[i].get_text() == nbb_unformatted_code) {\n",
       "                             nbb_cells[i].set_text(nbb_formatted_code);\n",
       "                        }\n",
       "                        break;\n",
       "                    }\n",
       "                }\n",
       "            }, 500);\n",
       "            "
      ],
      "text/plain": [
       "<IPython.core.display.Javascript object>"
      ]
     },
     "metadata": {},
     "output_type": "display_data"
    }
   ],
   "source": [
    "df_copy.nunique()"
   ]
  },
  {
   "cell_type": "code",
   "execution_count": 43,
   "id": "c8597955",
   "metadata": {},
   "outputs": [
    {
     "data": {
      "text/plain": [
       "{'imputer': SimpleImputer(strategy='median'),\n",
       " 'estimator': RandomForestRegressor(max_depth=3, n_estimators=5, random_state=47)}"
      ]
     },
     "execution_count": 43,
     "metadata": {},
     "output_type": "execute_result"
    },
    {
     "data": {
      "application/javascript": [
       "\n",
       "            setTimeout(function() {\n",
       "                var nbb_cell_id = 43;\n",
       "                var nbb_unformatted_code = \"pipeline.named_steps\";\n",
       "                var nbb_formatted_code = \"pipeline.named_steps\";\n",
       "                var nbb_cells = Jupyter.notebook.get_cells();\n",
       "                for (var i = 0; i < nbb_cells.length; ++i) {\n",
       "                    if (nbb_cells[i].input_prompt_number == nbb_cell_id) {\n",
       "                        if (nbb_cells[i].get_text() == nbb_unformatted_code) {\n",
       "                             nbb_cells[i].set_text(nbb_formatted_code);\n",
       "                        }\n",
       "                        break;\n",
       "                    }\n",
       "                }\n",
       "            }, 500);\n",
       "            "
      ],
      "text/plain": [
       "<IPython.core.display.Javascript object>"
      ]
     },
     "metadata": {},
     "output_type": "display_data"
    }
   ],
   "source": [
    "pipeline.named_steps"
   ]
  },
  {
   "cell_type": "code",
   "execution_count": 44,
   "id": "0696f607",
   "metadata": {},
   "outputs": [
    {
     "data": {
      "application/javascript": [
       "\n",
       "            setTimeout(function() {\n",
       "                var nbb_cell_id = 44;\n",
       "                var nbb_unformatted_code = \"from sklearn.inspection import permutation_importance\";\n",
       "                var nbb_formatted_code = \"from sklearn.inspection import permutation_importance\";\n",
       "                var nbb_cells = Jupyter.notebook.get_cells();\n",
       "                for (var i = 0; i < nbb_cells.length; ++i) {\n",
       "                    if (nbb_cells[i].input_prompt_number == nbb_cell_id) {\n",
       "                        if (nbb_cells[i].get_text() == nbb_unformatted_code) {\n",
       "                             nbb_cells[i].set_text(nbb_formatted_code);\n",
       "                        }\n",
       "                        break;\n",
       "                    }\n",
       "                }\n",
       "            }, 500);\n",
       "            "
      ],
      "text/plain": [
       "<IPython.core.display.Javascript object>"
      ]
     },
     "metadata": {},
     "output_type": "display_data"
    }
   ],
   "source": [
    "from sklearn.inspection import permutation_importance"
   ]
  },
  {
   "cell_type": "code",
   "execution_count": 45,
   "id": "b7357125",
   "metadata": {},
   "outputs": [
    {
     "data": {
      "application/javascript": [
       "\n",
       "            setTimeout(function() {\n",
       "                var nbb_cell_id = 45;\n",
       "                var nbb_unformatted_code = \"# Initialize lists to store importance results\\nmdi_importances = []\\nperm_importances = []\\n\\n# Compute feature importances\\nfor i, (train_idx, test_idx) in enumerate(cv.split(x, y)):\\n    pipeline.fit(x.iloc[train_idx], y[train_idx])\\n\\n    # Extract the trained model\\n    model = pipeline.named_steps[\\\"estimator\\\"]\\n    imputer = pipeline.named_steps[\\\"imputer\\\"]\\n    # Compute MDI importance\\n    mdi_importances.append(model.feature_importances_)\\n\\n    # Compute permutation importance\\n    result = permutation_importance(\\n        model,\\n        imputer.transform(x.iloc[test_idx]),\\n        y[test_idx],\\n        n_repeats=10,\\n        random_state=SEED,\\n        n_jobs=-1,\\n        scoring=\\\"r2\\\",\\n    )\\n    perm_importances.append(result.importances_mean)\";\n",
       "                var nbb_formatted_code = \"# Initialize lists to store importance results\\nmdi_importances = []\\nperm_importances = []\\n\\n# Compute feature importances\\nfor i, (train_idx, test_idx) in enumerate(cv.split(x, y)):\\n    pipeline.fit(x.iloc[train_idx], y[train_idx])\\n\\n    # Extract the trained model\\n    model = pipeline.named_steps[\\\"estimator\\\"]\\n    imputer = pipeline.named_steps[\\\"imputer\\\"]\\n    # Compute MDI importance\\n    mdi_importances.append(model.feature_importances_)\\n\\n    # Compute permutation importance\\n    result = permutation_importance(\\n        model,\\n        imputer.transform(x.iloc[test_idx]),\\n        y[test_idx],\\n        n_repeats=10,\\n        random_state=SEED,\\n        n_jobs=-1,\\n        scoring=\\\"r2\\\",\\n    )\\n    perm_importances.append(result.importances_mean)\";\n",
       "                var nbb_cells = Jupyter.notebook.get_cells();\n",
       "                for (var i = 0; i < nbb_cells.length; ++i) {\n",
       "                    if (nbb_cells[i].input_prompt_number == nbb_cell_id) {\n",
       "                        if (nbb_cells[i].get_text() == nbb_unformatted_code) {\n",
       "                             nbb_cells[i].set_text(nbb_formatted_code);\n",
       "                        }\n",
       "                        break;\n",
       "                    }\n",
       "                }\n",
       "            }, 500);\n",
       "            "
      ],
      "text/plain": [
       "<IPython.core.display.Javascript object>"
      ]
     },
     "metadata": {},
     "output_type": "display_data"
    }
   ],
   "source": [
    "# Initialize lists to store importance results\n",
    "mdi_importances = []\n",
    "perm_importances = []\n",
    "\n",
    "# Compute feature importances\n",
    "for i, (train_idx, test_idx) in enumerate(cv.split(x, y)):\n",
    "    pipeline.fit(x.iloc[train_idx], y[train_idx])\n",
    "\n",
    "    # Extract the trained model\n",
    "    model = pipeline.named_steps[\"estimator\"]\n",
    "    imputer = pipeline.named_steps[\"imputer\"]\n",
    "    # Compute MDI importance\n",
    "    mdi_importances.append(model.feature_importances_)\n",
    "\n",
    "    # Compute permutation importance\n",
    "    result = permutation_importance(\n",
    "        model,\n",
    "        imputer.transform(x.iloc[test_idx]),\n",
    "        y[test_idx],\n",
    "        n_repeats=10,\n",
    "        random_state=SEED,\n",
    "        n_jobs=-1,\n",
    "        scoring=\"r2\",\n",
    "    )\n",
    "    perm_importances.append(result.importances_mean)"
   ]
  },
  {
   "cell_type": "code",
   "execution_count": 46,
   "id": "6cddce2d",
   "metadata": {},
   "outputs": [
    {
     "data": {
      "image/png": "[encoded data removed]",
      "text/plain": [
       "<Figure size 1000x550 with 1 Axes>"
      ]
     },
     "metadata": {},
     "output_type": "display_data"
    },
    {
     "data": {
      "application/javascript": [
       "\n",
       "            setTimeout(function() {\n",
       "                var nbb_cell_id = 46;\n",
       "                var nbb_unformatted_code = \"# Convert lists to DataFrames\\nmdi_importances_df = pd.DataFrame(mdi_importances, columns=x.columns)\\nperm_importances_df = pd.DataFrame(perm_importances, columns=x.columns)\\n\\n\\n# Calculate the mean importance for each feature\\nmean_importances = perm_importances_df.mean().sort_values()\\n\\n# Reorder the DataFrame columns based on mean importance\\nperm_importances_df = perm_importances_df[mean_importances.index]\\n\\nperm_importances_df = perm_importances_df.rename(columns={\\\"Loss on Ignition\\\": \\\"LOI\\\"})\\n\\n\\nplt.figure(figsize=(10, 5.5))\\nsns.boxplot(\\n    data=perm_importances_df,\\n    orient=\\\"h\\\",\\n    color=\\\"lightsteelblue\\\",\\n    saturation=1,\\n    showmeans=True,\\n)\\nsns.despine(trim=True, left=False)\\nplt.xlabel(\\\"Importance (Permutation)\\\")\\nplt.title(\\\"Variable Importance Distribution\\\")\\nplt.grid(axis=\\\"x\\\", linestyle=\\\"--\\\", alpha=0.7)\\nplt.subplots_adjust(left=0.3)\\nplt.savefig(\\n    \\\"inn_cm_btiss_random_forest_scpm_best_dist_var_perm_relevance.png\\\",\\n    dpi=300,\\n    bbox_inches=\\\"tight\\\",\\n)\\nplt.show()\";\n",
       "                var nbb_formatted_code = \"# Convert lists to DataFrames\\nmdi_importances_df = pd.DataFrame(mdi_importances, columns=x.columns)\\nperm_importances_df = pd.DataFrame(perm_importances, columns=x.columns)\\n\\n\\n# Calculate the mean importance for each feature\\nmean_importances = perm_importances_df.mean().sort_values()\\n\\n# Reorder the DataFrame columns based on mean importance\\nperm_importances_df = perm_importances_df[mean_importances.index]\\n\\nperm_importances_df = perm_importances_df.rename(columns={\\\"Loss on Ignition\\\": \\\"LOI\\\"})\\n\\n\\nplt.figure(figsize=(10, 5.5))\\nsns.boxplot(\\n    data=perm_importances_df,\\n    orient=\\\"h\\\",\\n    color=\\\"lightsteelblue\\\",\\n    saturation=1,\\n    showmeans=True,\\n)\\nsns.despine(trim=True, left=False)\\nplt.xlabel(\\\"Importance (Permutation)\\\")\\nplt.title(\\\"Variable Importance Distribution\\\")\\nplt.grid(axis=\\\"x\\\", linestyle=\\\"--\\\", alpha=0.7)\\nplt.subplots_adjust(left=0.3)\\nplt.savefig(\\n    \\\"inn_cm_btiss_random_forest_scpm_best_dist_var_perm_relevance.png\\\",\\n    dpi=300,\\n    bbox_inches=\\\"tight\\\",\\n)\\nplt.show()\";\n",
       "                var nbb_cells = Jupyter.notebook.get_cells();\n",
       "                for (var i = 0; i < nbb_cells.length; ++i) {\n",
       "                    if (nbb_cells[i].input_prompt_number == nbb_cell_id) {\n",
       "                        if (nbb_cells[i].get_text() == nbb_unformatted_code) {\n",
       "                             nbb_cells[i].set_text(nbb_formatted_code);\n",
       "                        }\n",
       "                        break;\n",
       "                    }\n",
       "                }\n",
       "            }, 500);\n",
       "            "
      ],
      "text/plain": [
       "<IPython.core.display.Javascript object>"
      ]
     },
     "metadata": {},
     "output_type": "display_data"
    }
   ],
   "source": [
    "# Convert lists to DataFrames\n",
    "mdi_importances_df = pd.DataFrame(mdi_importances, columns=x.columns)\n",
    "perm_importances_df = pd.DataFrame(perm_importances, columns=x.columns)\n",
    "\n",
    "\n",
    "# Calculate the mean importance for each feature\n",
    "mean_importances = perm_importances_df.mean().sort_values()\n",
    "\n",
    "# Reorder the DataFrame columns based on mean importance\n",
    "perm_importances_df = perm_importances_df[mean_importances.index]\n",
    "\n",
    "perm_importances_df = perm_importances_df.rename(columns={\"Loss on Ignition\": \"LOI\"})\n",
    "\n",
    "\n",
    "plt.figure(figsize=(10, 5.5))\n",
    "sns.boxplot(\n",
    "    data=perm_importances_df,\n",
    "    orient=\"h\",\n",
    "    color=\"lightsteelblue\",\n",
    "    saturation=1,\n",
    "    showmeans=True,\n",
    ")\n",
    "sns.despine(trim=True, left=False)\n",
    "plt.xlabel(\"Importance (Permutation)\")\n",
    "plt.title(\"Variable Importance Distribution\")\n",
    "plt.grid(axis=\"x\", linestyle=\"--\", alpha=0.7)\n",
    "plt.subplots_adjust(left=0.3)\n",
    "plt.savefig(\n",
    "    \"inn_cm_btiss_random_forest_scpm_best_dist_var_perm_relevance.png\",\n",
    "    dpi=300,\n",
    "    bbox_inches=\"tight\",\n",
    ")\n",
    "plt.show()"
   ]
  },
  {
   "cell_type": "code",
   "execution_count": 47,
   "id": "fdb2d00a",
   "metadata": {},
   "outputs": [
    {
     "data": {
      "image/png": "[encoded data removed]",
      "text/plain": [
       "<Figure size 1000x550 with 1 Axes>"
      ]
     },
     "metadata": {},
     "output_type": "display_data"
    },
    {
     "data": {
      "application/javascript": [
       "\n",
       "            setTimeout(function() {\n",
       "                var nbb_cell_id = 47;\n",
       "                var nbb_unformatted_code = \"# Backup the original backend\\noriginal_backend = plt.get_backend()\\n\\n# Use Matplotlib's default backend\\n# plt.switch_backend(\\\"agg\\\")  # or any backend you prefer\\n\\n# Update font settings to default\\nplt.rcParams.update(\\n    {\\n        \\\"font.family\\\": \\\"sans-serif\\\",\\n        \\\"font.sans-serif\\\": [\\\"DejaVu Sans\\\"],\\n        \\\"font.size\\\": 10,\\n        \\\"text.usetex\\\": False,  # Use MathText, not LaTeX\\n    }\\n)\\n\\n\\n# Convert chemical formulas using MathText syntax\\nperm_importances_df_plot = perm_importances_df.rename(\\n    columns={\\n        \\\"K2O\\\": r\\\"$\\\\mathrm{K_2O}$\\\",\\n        \\\"Free CaO\\\": r\\\"Free $\\\\mathrm{CaO}$\\\",\\n        \\\"Total C2S\\\": r\\\"Total $\\\\mathrm{C_2S}$\\\",\\n        \\\"Na2O\\\": r\\\"$\\\\mathrm{Na_2O}$\\\",\\n        \\\"CaO\\\": r\\\"$\\\\mathrm{CaO}$\\\",\\n        \\\"SiO2\\\": r\\\"$\\\\mathrm{SiO_2}$\\\",\\n        \\\"MgO\\\": r\\\"$\\\\mathrm{MgO}$\\\",\\n        \\\"Fe2O3\\\": r\\\"$\\\\mathrm{Fe_2O_3}$\\\",\\n        \\\"Al2O3\\\": r\\\"$\\\\mathrm{Al_2O_3}$\\\",\\n        \\\"Total C3S\\\": r\\\"Total $\\\\mathrm{C_3S}$\\\",\\n        \\\"C3A\\\": r\\\"$\\\\mathrm{C_3A}$\\\",\\n        \\\"C4AF\\\": r\\\"$\\\\mathrm{C_4AF}$\\\",\\n        \\\"LOI\\\": \\\"LOI\\\",\\n        \\\"SO3\\\": r\\\"$\\\\mathrm{SO_3}$\\\",\\n    }\\n)\\n\\nplt.figure(figsize=(10, 5.5))\\nsns.boxplot(\\n    data=perm_importances_df_plot,\\n    orient=\\\"h\\\",\\n    color=\\\"lightsteelblue\\\",\\n    saturation=1,\\n    showmeans=True,\\n)\\nsns.despine(trim=True, left=False)\\nplt.xlabel(\\\"Importance (Permutation)\\\")\\nplt.title(\\\"Variable Importance Distribution\\\")\\nplt.grid(axis=\\\"x\\\", linestyle=\\\"--\\\", alpha=0.7)\\nplt.subplots_adjust(left=0.3)\\nplt.savefig(\\n    \\\"inn_cm_btiss_random_forest_scpm_best_dist_var_perm_relevance.png\\\",\\n    dpi=300,\\n    bbox_inches=\\\"tight\\\",\\n)\\nplt.show()\\n\\n\\n# Step 3: Reset all rcParams to their default values\\nmatplotlib.rcParams.update(matplotlib.rcParamsDefault)\\nplt.rcdefaults()\\n\\n# Switch back to the original backend\\nplt.switch_backend(original_backend)\";\n",
       "                var nbb_formatted_code = \"# Backup the original backend\\noriginal_backend = plt.get_backend()\\n\\n# Use Matplotlib's default backend\\n# plt.switch_backend(\\\"agg\\\")  # or any backend you prefer\\n\\n# Update font settings to default\\nplt.rcParams.update(\\n    {\\n        \\\"font.family\\\": \\\"sans-serif\\\",\\n        \\\"font.sans-serif\\\": [\\\"DejaVu Sans\\\"],\\n        \\\"font.size\\\": 10,\\n        \\\"text.usetex\\\": False,  # Use MathText, not LaTeX\\n    }\\n)\\n\\n\\n# Convert chemical formulas using MathText syntax\\nperm_importances_df_plot = perm_importances_df.rename(\\n    columns={\\n        \\\"K2O\\\": r\\\"$\\\\mathrm{K_2O}$\\\",\\n        \\\"Free CaO\\\": r\\\"Free $\\\\mathrm{CaO}$\\\",\\n        \\\"Total C2S\\\": r\\\"Total $\\\\mathrm{C_2S}$\\\",\\n        \\\"Na2O\\\": r\\\"$\\\\mathrm{Na_2O}$\\\",\\n        \\\"CaO\\\": r\\\"$\\\\mathrm{CaO}$\\\",\\n        \\\"SiO2\\\": r\\\"$\\\\mathrm{SiO_2}$\\\",\\n        \\\"MgO\\\": r\\\"$\\\\mathrm{MgO}$\\\",\\n        \\\"Fe2O3\\\": r\\\"$\\\\mathrm{Fe_2O_3}$\\\",\\n        \\\"Al2O3\\\": r\\\"$\\\\mathrm{Al_2O_3}$\\\",\\n        \\\"Total C3S\\\": r\\\"Total $\\\\mathrm{C_3S}$\\\",\\n        \\\"C3A\\\": r\\\"$\\\\mathrm{C_3A}$\\\",\\n        \\\"C4AF\\\": r\\\"$\\\\mathrm{C_4AF}$\\\",\\n        \\\"LOI\\\": \\\"LOI\\\",\\n        \\\"SO3\\\": r\\\"$\\\\mathrm{SO_3}$\\\",\\n    }\\n)\\n\\nplt.figure(figsize=(10, 5.5))\\nsns.boxplot(\\n    data=perm_importances_df_plot,\\n    orient=\\\"h\\\",\\n    color=\\\"lightsteelblue\\\",\\n    saturation=1,\\n    showmeans=True,\\n)\\nsns.despine(trim=True, left=False)\\nplt.xlabel(\\\"Importance (Permutation)\\\")\\nplt.title(\\\"Variable Importance Distribution\\\")\\nplt.grid(axis=\\\"x\\\", linestyle=\\\"--\\\", alpha=0.7)\\nplt.subplots_adjust(left=0.3)\\nplt.savefig(\\n    \\\"inn_cm_btiss_random_forest_scpm_best_dist_var_perm_relevance.png\\\",\\n    dpi=300,\\n    bbox_inches=\\\"tight\\\",\\n)\\nplt.show()\\n\\n\\n# Step 3: Reset all rcParams to their default values\\nmatplotlib.rcParams.update(matplotlib.rcParamsDefault)\\nplt.rcdefaults()\\n\\n# Switch back to the original backend\\nplt.switch_backend(original_backend)\";\n",
       "                var nbb_cells = Jupyter.notebook.get_cells();\n",
       "                for (var i = 0; i < nbb_cells.length; ++i) {\n",
       "                    if (nbb_cells[i].input_prompt_number == nbb_cell_id) {\n",
       "                        if (nbb_cells[i].get_text() == nbb_unformatted_code) {\n",
       "                             nbb_cells[i].set_text(nbb_formatted_code);\n",
       "                        }\n",
       "                        break;\n",
       "                    }\n",
       "                }\n",
       "            }, 500);\n",
       "            "
      ],
      "text/plain": [
       "<IPython.core.display.Javascript object>"
      ]
     },
     "metadata": {},
     "output_type": "display_data"
    }
   ],
   "source": [
    "# Backup the original backend\n",
    "original_backend = plt.get_backend()\n",
    "\n",
    "# Use Matplotlib's default backend\n",
    "# plt.switch_backend(\"agg\")  # or any backend you prefer\n",
    "\n",
    "# Update font settings to default\n",
    "plt.rcParams.update(\n",
    "    {\n",
    "        \"font.family\": \"sans-serif\",\n",
    "        \"font.sans-serif\": [\"DejaVu Sans\"],\n",
    "        \"font.size\": 10,\n",
    "        \"text.usetex\": False,  # Use MathText, not LaTeX\n",
    "    }\n",
    ")\n",
    "\n",
    "\n",
    "# Convert chemical formulas using MathText syntax\n",
    "perm_importances_df_plot = perm_importances_df.rename(\n",
    "    columns={\n",
    "        \"K2O\": r\"$\\mathrm{K_2O}$\",\n",
    "        \"Free CaO\": r\"Free $\\mathrm{CaO}$\",\n",
    "        \"Total C2S\": r\"Total $\\mathrm{C_2S}$\",\n",
    "        \"Na2O\": r\"$\\mathrm{Na_2O}$\",\n",
    "        \"CaO\": r\"$\\mathrm{CaO}$\",\n",
    "        \"SiO2\": r\"$\\mathrm{SiO_2}$\",\n",
    "        \"MgO\": r\"$\\mathrm{MgO}$\",\n",
    "        \"Fe2O3\": r\"$\\mathrm{Fe_2O_3}$\",\n",
    "        \"Al2O3\": r\"$\\mathrm{Al_2O_3}$\",\n",
    "        \"Total C3S\": r\"Total $\\mathrm{C_3S}$\",\n",
    "        \"C3A\": r\"$\\mathrm{C_3A}$\",\n",
    "        \"C4AF\": r\"$\\mathrm{C_4AF}$\",\n",
    "        \"LOI\": \"LOI\",\n",
    "        \"SO3\": r\"$\\mathrm{SO_3}$\",\n",
    "    }\n",
    ")\n",
    "\n",
    "plt.figure(figsize=(10, 5.5))\n",
    "sns.boxplot(\n",
    "    data=perm_importances_df_plot,\n",
    "    orient=\"h\",\n",
    "    color=\"lightsteelblue\",\n",
    "    saturation=1,\n",
    "    showmeans=True,\n",
    ")\n",
    "sns.despine(trim=True, left=False)\n",
    "plt.xlabel(\"Importance (Permutation)\")\n",
    "plt.title(\"Variable Importance Distribution\")\n",
    "plt.grid(axis=\"x\", linestyle=\"--\", alpha=0.7)\n",
    "plt.subplots_adjust(left=0.3)\n",
    "plt.savefig(\n",
    "    \"inn_cm_btiss_random_forest_scpm_best_dist_var_perm_relevance.png\",\n",
    "    dpi=300,\n",
    "    bbox_inches=\"tight\",\n",
    ")\n",
    "plt.show()\n",
    "\n",
    "\n",
    "# Step 3: Reset all rcParams to their default values\n",
    "matplotlib.rcParams.update(matplotlib.rcParamsDefault)\n",
    "plt.rcdefaults()\n",
    "\n",
    "# Switch back to the original backend\n",
    "plt.switch_backend(original_backend)"
   ]
  },
  {
   "cell_type": "code",
   "execution_count": 48,
   "id": "bd7142ad",
   "metadata": {},
   "outputs": [
    {
     "data": {
      "text/html": [
       "<div>\n",
       "<style scoped>\n",
       "    .dataframe tbody tr th:only-of-type {\n",
       "        vertical-align: middle;\n",
       "    }\n",
       "\n",
       "    .dataframe tbody tr th {\n",
       "        vertical-align: top;\n",
       "    }\n",
       "\n",
       "    .dataframe thead th {\n",
       "        text-align: right;\n",
       "    }\n",
       "</style>\n",
       "<table border=\"1\" class=\"dataframe\">\n",
       "  <thead>\n",
       "    <tr style=\"text-align: right;\">\n",
       "      <th></th>\n",
       "      <th>count</th>\n",
       "      <th>mean</th>\n",
       "      <th>std</th>\n",
       "      <th>min</th>\n",
       "      <th>25%</th>\n",
       "      <th>50%</th>\n",
       "      <th>75%</th>\n",
       "      <th>max</th>\n",
       "    </tr>\n",
       "  </thead>\n",
       "  <tbody>\n",
       "    <tr>\n",
       "      <th>Total C2S</th>\n",
       "      <td>5.0</td>\n",
       "      <td>-0.015412</td>\n",
       "      <td>0.035707</td>\n",
       "      <td>-0.077673</td>\n",
       "      <td>-0.013437</td>\n",
       "      <td>0.002431</td>\n",
       "      <td>0.005191</td>\n",
       "      <td>0.006426</td>\n",
       "    </tr>\n",
       "    <tr>\n",
       "      <th>Fe2O3</th>\n",
       "      <td>5.0</td>\n",
       "      <td>-0.006696</td>\n",
       "      <td>0.013616</td>\n",
       "      <td>-0.030777</td>\n",
       "      <td>-0.004080</td>\n",
       "      <td>0.000000</td>\n",
       "      <td>0.000000</td>\n",
       "      <td>0.001375</td>\n",
       "    </tr>\n",
       "    <tr>\n",
       "      <th>Al2O3</th>\n",
       "      <td>5.0</td>\n",
       "      <td>-0.001877</td>\n",
       "      <td>0.013818</td>\n",
       "      <td>-0.022309</td>\n",
       "      <td>-0.004590</td>\n",
       "      <td>0.000000</td>\n",
       "      <td>0.001366</td>\n",
       "      <td>0.016147</td>\n",
       "    </tr>\n",
       "    <tr>\n",
       "      <th>MgO</th>\n",
       "      <td>5.0</td>\n",
       "      <td>-0.001452</td>\n",
       "      <td>0.005098</td>\n",
       "      <td>-0.010116</td>\n",
       "      <td>-0.000583</td>\n",
       "      <td>0.000000</td>\n",
       "      <td>0.000000</td>\n",
       "      <td>0.003440</td>\n",
       "    </tr>\n",
       "    <tr>\n",
       "      <th>Total C3S</th>\n",
       "      <td>5.0</td>\n",
       "      <td>0.001830</td>\n",
       "      <td>0.035373</td>\n",
       "      <td>-0.027762</td>\n",
       "      <td>-0.014790</td>\n",
       "      <td>-0.010863</td>\n",
       "      <td>0.000000</td>\n",
       "      <td>0.062564</td>\n",
       "    </tr>\n",
       "    <tr>\n",
       "      <th>C3A</th>\n",
       "      <td>5.0</td>\n",
       "      <td>0.003227</td>\n",
       "      <td>0.005628</td>\n",
       "      <td>-0.001386</td>\n",
       "      <td>-0.000522</td>\n",
       "      <td>0.000000</td>\n",
       "      <td>0.006398</td>\n",
       "      <td>0.011647</td>\n",
       "    </tr>\n",
       "    <tr>\n",
       "      <th>K2O</th>\n",
       "      <td>5.0</td>\n",
       "      <td>0.004844</td>\n",
       "      <td>0.004906</td>\n",
       "      <td>0.000000</td>\n",
       "      <td>0.000000</td>\n",
       "      <td>0.005772</td>\n",
       "      <td>0.006978</td>\n",
       "      <td>0.011471</td>\n",
       "    </tr>\n",
       "    <tr>\n",
       "      <th>Na2O</th>\n",
       "      <td>5.0</td>\n",
       "      <td>0.006872</td>\n",
       "      <td>0.012971</td>\n",
       "      <td>-0.002953</td>\n",
       "      <td>0.000000</td>\n",
       "      <td>0.000000</td>\n",
       "      <td>0.008550</td>\n",
       "      <td>0.028762</td>\n",
       "    </tr>\n",
       "    <tr>\n",
       "      <th>SiO2</th>\n",
       "      <td>5.0</td>\n",
       "      <td>0.009040</td>\n",
       "      <td>0.009419</td>\n",
       "      <td>0.000000</td>\n",
       "      <td>0.000000</td>\n",
       "      <td>0.008128</td>\n",
       "      <td>0.016270</td>\n",
       "      <td>0.020800</td>\n",
       "    </tr>\n",
       "    <tr>\n",
       "      <th>Free CaO</th>\n",
       "      <td>5.0</td>\n",
       "      <td>0.010907</td>\n",
       "      <td>0.026191</td>\n",
       "      <td>-0.022349</td>\n",
       "      <td>0.000830</td>\n",
       "      <td>0.011504</td>\n",
       "      <td>0.014624</td>\n",
       "      <td>0.049924</td>\n",
       "    </tr>\n",
       "    <tr>\n",
       "      <th>C4AF</th>\n",
       "      <td>5.0</td>\n",
       "      <td>0.013203</td>\n",
       "      <td>0.031826</td>\n",
       "      <td>-0.012926</td>\n",
       "      <td>-0.007758</td>\n",
       "      <td>0.000000</td>\n",
       "      <td>0.021699</td>\n",
       "      <td>0.065002</td>\n",
       "    </tr>\n",
       "    <tr>\n",
       "      <th>CaO</th>\n",
       "      <td>5.0</td>\n",
       "      <td>0.016435</td>\n",
       "      <td>0.033095</td>\n",
       "      <td>0.000000</td>\n",
       "      <td>0.000000</td>\n",
       "      <td>0.000000</td>\n",
       "      <td>0.006772</td>\n",
       "      <td>0.075404</td>\n",
       "    </tr>\n",
       "    <tr>\n",
       "      <th>LOI</th>\n",
       "      <td>5.0</td>\n",
       "      <td>0.110883</td>\n",
       "      <td>0.101849</td>\n",
       "      <td>0.000000</td>\n",
       "      <td>0.000000</td>\n",
       "      <td>0.166408</td>\n",
       "      <td>0.193152</td>\n",
       "      <td>0.194856</td>\n",
       "    </tr>\n",
       "    <tr>\n",
       "      <th>SO3</th>\n",
       "      <td>5.0</td>\n",
       "      <td>0.490381</td>\n",
       "      <td>0.201143</td>\n",
       "      <td>0.217435</td>\n",
       "      <td>0.354179</td>\n",
       "      <td>0.535535</td>\n",
       "      <td>0.656574</td>\n",
       "      <td>0.688180</td>\n",
       "    </tr>\n",
       "  </tbody>\n",
       "</table>\n",
       "</div>"
      ],
      "text/plain": [
       "           count      mean       std       min       25%       50%       75%  \\\n",
       "Total C2S    5.0 -0.015412  0.035707 -0.077673 -0.013437  0.002431  0.005191   \n",
       "Fe2O3        5.0 -0.006696  0.013616 -0.030777 -0.004080  0.000000  0.000000   \n",
       "Al2O3        5.0 -0.001877  0.013818 -0.022309 -0.004590  0.000000  0.001366   \n",
       "MgO          5.0 -0.001452  0.005098 -0.010116 -0.000583  0.000000  0.000000   \n",
       "Total C3S    5.0  0.001830  0.035373 -0.027762 -0.014790 -0.010863  0.000000   \n",
       "C3A          5.0  0.003227  0.005628 -0.001386 -0.000522  0.000000  0.006398   \n",
       "K2O          5.0  0.004844  0.004906  0.000000  0.000000  0.005772  0.006978   \n",
       "Na2O         5.0  0.006872  0.012971 -0.002953  0.000000  0.000000  0.008550   \n",
       "SiO2         5.0  0.009040  0.009419  0.000000  0.000000  0.008128  0.016270   \n",
       "Free CaO     5.0  0.010907  0.026191 -0.022349  0.000830  0.011504  0.014624   \n",
       "C4AF         5.0  0.013203  0.031826 -0.012926 -0.007758  0.000000  0.021699   \n",
       "CaO          5.0  0.016435  0.033095  0.000000  0.000000  0.000000  0.006772   \n",
       "LOI          5.0  0.110883  0.101849  0.000000  0.000000  0.166408  0.193152   \n",
       "SO3          5.0  0.490381  0.201143  0.217435  0.354179  0.535535  0.656574   \n",
       "\n",
       "                max  \n",
       "Total C2S  0.006426  \n",
       "Fe2O3      0.001375  \n",
       "Al2O3      0.016147  \n",
       "MgO        0.003440  \n",
       "Total C3S  0.062564  \n",
       "C3A        0.011647  \n",
       "K2O        0.011471  \n",
       "Na2O       0.028762  \n",
       "SiO2       0.020800  \n",
       "Free CaO   0.049924  \n",
       "C4AF       0.065002  \n",
       "CaO        0.075404  \n",
       "LOI        0.194856  \n",
       "SO3        0.688180  "
      ]
     },
     "execution_count": 48,
     "metadata": {},
     "output_type": "execute_result"
    },
    {
     "data": {
      "application/javascript": [
       "\n",
       "            setTimeout(function() {\n",
       "                var nbb_cell_id = 48;\n",
       "                var nbb_unformatted_code = \"perm_importances_df.describe().T\";\n",
       "                var nbb_formatted_code = \"perm_importances_df.describe().T\";\n",
       "                var nbb_cells = Jupyter.notebook.get_cells();\n",
       "                for (var i = 0; i < nbb_cells.length; ++i) {\n",
       "                    if (nbb_cells[i].input_prompt_number == nbb_cell_id) {\n",
       "                        if (nbb_cells[i].get_text() == nbb_unformatted_code) {\n",
       "                             nbb_cells[i].set_text(nbb_formatted_code);\n",
       "                        }\n",
       "                        break;\n",
       "                    }\n",
       "                }\n",
       "            }, 500);\n",
       "            "
      ],
      "text/plain": [
       "<IPython.core.display.Javascript object>"
      ]
     },
     "metadata": {},
     "output_type": "display_data"
    }
   ],
   "source": [
    "perm_importances_df.describe().T"
   ]
  },
  {
   "cell_type": "code",
   "execution_count": 49,
   "id": "270a9768",
   "metadata": {},
   "outputs": [
    {
     "data": {
      "text/html": [
       "<div>\n",
       "<style scoped>\n",
       "    .dataframe tbody tr th:only-of-type {\n",
       "        vertical-align: middle;\n",
       "    }\n",
       "\n",
       "    .dataframe tbody tr th {\n",
       "        vertical-align: top;\n",
       "    }\n",
       "\n",
       "    .dataframe thead th {\n",
       "        text-align: right;\n",
       "    }\n",
       "</style>\n",
       "<table border=\"1\" class=\"dataframe\">\n",
       "  <thead>\n",
       "    <tr style=\"text-align: right;\">\n",
       "      <th></th>\n",
       "      <th>Total C2S</th>\n",
       "      <th>Fe2O3</th>\n",
       "      <th>Al2O3</th>\n",
       "      <th>MgO</th>\n",
       "      <th>Total C3S</th>\n",
       "      <th>C3A</th>\n",
       "      <th>K2O</th>\n",
       "      <th>Na2O</th>\n",
       "      <th>SiO2</th>\n",
       "      <th>Free CaO</th>\n",
       "      <th>C4AF</th>\n",
       "      <th>CaO</th>\n",
       "      <th>LOI</th>\n",
       "      <th>SO3</th>\n",
       "    </tr>\n",
       "  </thead>\n",
       "  <tbody>\n",
       "    <tr>\n",
       "      <th>0</th>\n",
       "      <td>0.006426</td>\n",
       "      <td>0.001375</td>\n",
       "      <td>0.001366</td>\n",
       "      <td>-0.010116</td>\n",
       "      <td>0.000000</td>\n",
       "      <td>0.006398</td>\n",
       "      <td>0.000000</td>\n",
       "      <td>0.008550</td>\n",
       "      <td>0.008128</td>\n",
       "      <td>0.011504</td>\n",
       "      <td>0.021699</td>\n",
       "      <td>0.000000</td>\n",
       "      <td>0.194856</td>\n",
       "      <td>0.217435</td>\n",
       "    </tr>\n",
       "    <tr>\n",
       "      <th>1</th>\n",
       "      <td>-0.013437</td>\n",
       "      <td>0.000000</td>\n",
       "      <td>0.016147</td>\n",
       "      <td>0.003440</td>\n",
       "      <td>-0.010863</td>\n",
       "      <td>-0.000522</td>\n",
       "      <td>0.006978</td>\n",
       "      <td>-0.002953</td>\n",
       "      <td>0.016270</td>\n",
       "      <td>-0.022349</td>\n",
       "      <td>0.065002</td>\n",
       "      <td>0.000000</td>\n",
       "      <td>0.000000</td>\n",
       "      <td>0.535535</td>\n",
       "    </tr>\n",
       "    <tr>\n",
       "      <th>2</th>\n",
       "      <td>0.005191</td>\n",
       "      <td>0.000000</td>\n",
       "      <td>-0.004590</td>\n",
       "      <td>-0.000583</td>\n",
       "      <td>-0.014790</td>\n",
       "      <td>-0.001386</td>\n",
       "      <td>0.000000</td>\n",
       "      <td>0.028762</td>\n",
       "      <td>0.000000</td>\n",
       "      <td>0.014624</td>\n",
       "      <td>-0.007758</td>\n",
       "      <td>0.006772</td>\n",
       "      <td>0.166408</td>\n",
       "      <td>0.354179</td>\n",
       "    </tr>\n",
       "    <tr>\n",
       "      <th>3</th>\n",
       "      <td>-0.077673</td>\n",
       "      <td>-0.004080</td>\n",
       "      <td>-0.022309</td>\n",
       "      <td>0.000000</td>\n",
       "      <td>-0.027762</td>\n",
       "      <td>0.011647</td>\n",
       "      <td>0.005772</td>\n",
       "      <td>0.000000</td>\n",
       "      <td>0.000000</td>\n",
       "      <td>0.000830</td>\n",
       "      <td>-0.012926</td>\n",
       "      <td>0.075404</td>\n",
       "      <td>0.000000</td>\n",
       "      <td>0.656574</td>\n",
       "    </tr>\n",
       "    <tr>\n",
       "      <th>4</th>\n",
       "      <td>0.002431</td>\n",
       "      <td>-0.030777</td>\n",
       "      <td>0.000000</td>\n",
       "      <td>0.000000</td>\n",
       "      <td>0.062564</td>\n",
       "      <td>0.000000</td>\n",
       "      <td>0.011471</td>\n",
       "      <td>0.000000</td>\n",
       "      <td>0.020800</td>\n",
       "      <td>0.049924</td>\n",
       "      <td>0.000000</td>\n",
       "      <td>0.000000</td>\n",
       "      <td>0.193152</td>\n",
       "      <td>0.688180</td>\n",
       "    </tr>\n",
       "  </tbody>\n",
       "</table>\n",
       "</div>"
      ],
      "text/plain": [
       "   Total C2S     Fe2O3     Al2O3       MgO  Total C3S       C3A       K2O  \\\n",
       "0   0.006426  0.001375  0.001366 -0.010116   0.000000  0.006398  0.000000   \n",
       "1  -0.013437  0.000000  0.016147  0.003440  -0.010863 -0.000522  0.006978   \n",
       "2   0.005191  0.000000 -0.004590 -0.000583  -0.014790 -0.001386  0.000000   \n",
       "3  -0.077673 -0.004080 -0.022309  0.000000  -0.027762  0.011647  0.005772   \n",
       "4   0.002431 -0.030777  0.000000  0.000000   0.062564  0.000000  0.011471   \n",
       "\n",
       "       Na2O      SiO2  Free CaO      C4AF       CaO       LOI       SO3  \n",
       "0  0.008550  0.008128  0.011504  0.021699  0.000000  0.194856  0.217435  \n",
       "1 -0.002953  0.016270 -0.022349  0.065002  0.000000  0.000000  0.535535  \n",
       "2  0.028762  0.000000  0.014624 -0.007758  0.006772  0.166408  0.354179  \n",
       "3  0.000000  0.000000  0.000830 -0.012926  0.075404  0.000000  0.656574  \n",
       "4  0.000000  0.020800  0.049924  0.000000  0.000000  0.193152  0.688180  "
      ]
     },
     "execution_count": 49,
     "metadata": {},
     "output_type": "execute_result"
    },
    {
     "data": {
      "application/javascript": [
       "\n",
       "            setTimeout(function() {\n",
       "                var nbb_cell_id = 49;\n",
       "                var nbb_unformatted_code = \"perm_importances_df\";\n",
       "                var nbb_formatted_code = \"perm_importances_df\";\n",
       "                var nbb_cells = Jupyter.notebook.get_cells();\n",
       "                for (var i = 0; i < nbb_cells.length; ++i) {\n",
       "                    if (nbb_cells[i].input_prompt_number == nbb_cell_id) {\n",
       "                        if (nbb_cells[i].get_text() == nbb_unformatted_code) {\n",
       "                             nbb_cells[i].set_text(nbb_formatted_code);\n",
       "                        }\n",
       "                        break;\n",
       "                    }\n",
       "                }\n",
       "            }, 500);\n",
       "            "
      ],
      "text/plain": [
       "<IPython.core.display.Javascript object>"
      ]
     },
     "metadata": {},
     "output_type": "display_data"
    }
   ],
   "source": [
    "perm_importances_df"
   ]
  },
  {
   "cell_type": "code",
   "execution_count": 50,
   "id": "9bd7e5cc",
   "metadata": {},
   "outputs": [
    {
     "data": {
      "text/plain": [
       "Total C2S   -0.015412\n",
       "Fe2O3       -0.006696\n",
       "Al2O3       -0.001877\n",
       "MgO         -0.001452\n",
       "Total C3S    0.001830\n",
       "C3A          0.003227\n",
       "K2O          0.004844\n",
       "Na2O         0.006872\n",
       "SiO2         0.009040\n",
       "Free CaO     0.010907\n",
       "C4AF         0.013203\n",
       "CaO          0.016435\n",
       "LOI          0.110883\n",
       "SO3          0.490381\n",
       "dtype: float64"
      ]
     },
     "execution_count": 50,
     "metadata": {},
     "output_type": "execute_result"
    },
    {
     "data": {
      "application/javascript": [
       "\n",
       "            setTimeout(function() {\n",
       "                var nbb_cell_id = 50;\n",
       "                var nbb_unformatted_code = \"perm_importances_df.mean(axis=0)\";\n",
       "                var nbb_formatted_code = \"perm_importances_df.mean(axis=0)\";\n",
       "                var nbb_cells = Jupyter.notebook.get_cells();\n",
       "                for (var i = 0; i < nbb_cells.length; ++i) {\n",
       "                    if (nbb_cells[i].input_prompt_number == nbb_cell_id) {\n",
       "                        if (nbb_cells[i].get_text() == nbb_unformatted_code) {\n",
       "                             nbb_cells[i].set_text(nbb_formatted_code);\n",
       "                        }\n",
       "                        break;\n",
       "                    }\n",
       "                }\n",
       "            }, 500);\n",
       "            "
      ],
      "text/plain": [
       "<IPython.core.display.Javascript object>"
      ]
     },
     "metadata": {},
     "output_type": "display_data"
    }
   ],
   "source": [
    "perm_importances_df.mean(axis=0)"
   ]
  },
  {
   "cell_type": "code",
   "execution_count": 51,
   "id": "964f46d3",
   "metadata": {},
   "outputs": [
    {
     "data": {
      "text/plain": [
       "Total C2S    0.031938\n",
       "Fe2O3        0.012178\n",
       "Al2O3        0.012359\n",
       "MgO          0.004560\n",
       "Total C3S    0.031639\n",
       "C3A          0.005034\n",
       "K2O          0.004388\n",
       "Na2O         0.011601\n",
       "SiO2         0.008424\n",
       "Free CaO     0.023426\n",
       "C4AF         0.028466\n",
       "CaO          0.029601\n",
       "LOI          0.091096\n",
       "SO3          0.179908\n",
       "dtype: float64"
      ]
     },
     "execution_count": 51,
     "metadata": {},
     "output_type": "execute_result"
    },
    {
     "data": {
      "application/javascript": [
       "\n",
       "            setTimeout(function() {\n",
       "                var nbb_cell_id = 51;\n",
       "                var nbb_unformatted_code = \"perm_importances_df.std(axis=0, ddof=0)\";\n",
       "                var nbb_formatted_code = \"perm_importances_df.std(axis=0, ddof=0)\";\n",
       "                var nbb_cells = Jupyter.notebook.get_cells();\n",
       "                for (var i = 0; i < nbb_cells.length; ++i) {\n",
       "                    if (nbb_cells[i].input_prompt_number == nbb_cell_id) {\n",
       "                        if (nbb_cells[i].get_text() == nbb_unformatted_code) {\n",
       "                             nbb_cells[i].set_text(nbb_formatted_code);\n",
       "                        }\n",
       "                        break;\n",
       "                    }\n",
       "                }\n",
       "            }, 500);\n",
       "            "
      ],
      "text/plain": [
       "<IPython.core.display.Javascript object>"
      ]
     },
     "metadata": {},
     "output_type": "display_data"
    }
   ],
   "source": [
    "perm_importances_df.std(axis=0, ddof=0)"
   ]
  },
  {
   "cell_type": "code",
   "execution_count": 52,
   "id": "4560d11e",
   "metadata": {},
   "outputs": [
    {
     "data": {
      "application/javascript": [
       "\n",
       "            setTimeout(function() {\n",
       "                var nbb_cell_id = 52;\n",
       "                var nbb_unformatted_code = \"from sklearn.metrics import make_scorer\\n\\ndef compute_scmp(y_true, y_pred):\\n    # Compute the performance metrics\\n    rmse = mean_squared_error(y_true, y_pred, squared=False)\\n    mae = mean_absolute_error(y_true, y_pred)\\n    mape = np.mean(np.abs((y_true - y_pred) / y_true)) * 100\\n    r2 = r2_score(y_true, y_pred)\\n\\n    # Create a DataFrame with these metrics\\n    metrics_df = pd.DataFrame({\\n        \\\"RMSE Test\\\": [rmse],\\n        \\\"MAE Test\\\": [mae],\\n        \\\"MAPE Test\\\": [mape],\\n        \\\"R2 Test\\\": [r2]\\n    })\\n\\n    # Standardize the metrics\\n    scaler = StandardScaler(with_mean=False)\\n    standardized_metrics = scaler.fit_transform(metrics_df)\\n\\n    # Creating a new DataFrame with standardized values\\n    standardized_df = pd.DataFrame(\\n        standardized_metrics,\\n        columns=[\\\"RMSE Test\\\", \\\"MAE Test\\\", \\\"MAPE Test\\\", \\\"R2 Test\\\"],\\n    )\\n\\n    # Compute SCPM: sum errors and subtract R2\\n    scpm = (\\n        standardized_df[\\\"RMSE Test\\\"]\\n        + standardized_df[\\\"MAE Test\\\"]\\n        + standardized_df[\\\"MAPE Test\\\"]\\n        - standardized_df[\\\"R2 Test\\\"]\\n    )\\n\\n    return scpm.iloc[0]  # Return the scalar SCPM score\\n\\n# Convert the SCPM function to a scorer that can be used in permutation_importance\\nscmp_scorer = make_scorer(compute_scmp, greater_is_better=False)\";\n",
       "                var nbb_formatted_code = \"from sklearn.metrics import make_scorer\\n\\n\\ndef compute_scmp(y_true, y_pred):\\n    # Compute the performance metrics\\n    rmse = mean_squared_error(y_true, y_pred, squared=False)\\n    mae = mean_absolute_error(y_true, y_pred)\\n    mape = np.mean(np.abs((y_true - y_pred) / y_true)) * 100\\n    r2 = r2_score(y_true, y_pred)\\n\\n    # Create a DataFrame with these metrics\\n    metrics_df = pd.DataFrame(\\n        {\\\"RMSE Test\\\": [rmse], \\\"MAE Test\\\": [mae], \\\"MAPE Test\\\": [mape], \\\"R2 Test\\\": [r2]}\\n    )\\n\\n    # Standardize the metrics\\n    scaler = StandardScaler(with_mean=False)\\n    standardized_metrics = scaler.fit_transform(metrics_df)\\n\\n    # Creating a new DataFrame with standardized values\\n    standardized_df = pd.DataFrame(\\n        standardized_metrics,\\n        columns=[\\\"RMSE Test\\\", \\\"MAE Test\\\", \\\"MAPE Test\\\", \\\"R2 Test\\\"],\\n    )\\n\\n    # Compute SCPM: sum errors and subtract R2\\n    scpm = (\\n        standardized_df[\\\"RMSE Test\\\"]\\n        + standardized_df[\\\"MAE Test\\\"]\\n        + standardized_df[\\\"MAPE Test\\\"]\\n        - standardized_df[\\\"R2 Test\\\"]\\n    )\\n\\n    return scpm.iloc[0]  # Return the scalar SCPM score\\n\\n\\n# Convert the SCPM function to a scorer that can be used in permutation_importance\\nscmp_scorer = make_scorer(compute_scmp, greater_is_better=False)\";\n",
       "                var nbb_cells = Jupyter.notebook.get_cells();\n",
       "                for (var i = 0; i < nbb_cells.length; ++i) {\n",
       "                    if (nbb_cells[i].input_prompt_number == nbb_cell_id) {\n",
       "                        if (nbb_cells[i].get_text() == nbb_unformatted_code) {\n",
       "                             nbb_cells[i].set_text(nbb_formatted_code);\n",
       "                        }\n",
       "                        break;\n",
       "                    }\n",
       "                }\n",
       "            }, 500);\n",
       "            "
      ],
      "text/plain": [
       "<IPython.core.display.Javascript object>"
      ]
     },
     "metadata": {},
     "output_type": "display_data"
    }
   ],
   "source": [
    "from sklearn.metrics import make_scorer\n",
    "\n",
    "def compute_scmp(y_true, y_pred):\n",
    "    # Compute the performance metrics\n",
    "    rmse = mean_squared_error(y_true, y_pred, squared=False)\n",
    "    mae = mean_absolute_error(y_true, y_pred)\n",
    "    mape = np.mean(np.abs((y_true - y_pred) / y_true)) * 100\n",
    "    r2 = r2_score(y_true, y_pred)\n",
    "\n",
    "    # Create a DataFrame with these metrics\n",
    "    metrics_df = pd.DataFrame({\n",
    "        \"RMSE Test\": [rmse],\n",
    "        \"MAE Test\": [mae],\n",
    "        \"MAPE Test\": [mape],\n",
    "        \"R2 Test\": [r2]\n",
    "    })\n",
    "\n",
    "    # Standardize the metrics\n",
    "    scaler = StandardScaler(with_mean=False)\n",
    "    standardized_metrics = scaler.fit_transform(metrics_df)\n",
    "\n",
    "    # Creating a new DataFrame with standardized values\n",
    "    standardized_df = pd.DataFrame(\n",
    "        standardized_metrics,\n",
    "        columns=[\"RMSE Test\", \"MAE Test\", \"MAPE Test\", \"R2 Test\"],\n",
    "    )\n",
    "\n",
    "    # Compute SCPM: sum errors and subtract R2\n",
    "    scpm = (\n",
    "        standardized_df[\"RMSE Test\"]\n",
    "        + standardized_df[\"MAE Test\"]\n",
    "        + standardized_df[\"MAPE Test\"]\n",
    "        - standardized_df[\"R2 Test\"]\n",
    "    )\n",
    "\n",
    "    return scpm.iloc[0]  # Return the scalar SCPM score\n",
    "\n",
    "# Convert the SCPM function to a scorer that can be used in permutation_importance\n",
    "scmp_scorer = make_scorer(compute_scmp, greater_is_better=False)\n"
   ]
  },
  {
   "cell_type": "code",
   "execution_count": 53,
   "id": "53012050",
   "metadata": {},
   "outputs": [
    {
     "data": {
      "application/javascript": [
       "\n",
       "            setTimeout(function() {\n",
       "                var nbb_cell_id = 53;\n",
       "                var nbb_unformatted_code = \"# # Compute feature importances using the custom SCPM scoring function\\n# perm_importances = []\\n\\n# for i, (train_idx, test_idx) in enumerate(cv.split(x, y)):\\n#     pipeline.fit(x.iloc[train_idx], y[train_idx])\\n\\n#     # Extract the trained model and imputer\\n#     model = pipeline.named_steps[\\\"estimator\\\"]\\n#     imputer = pipeline.named_steps[\\\"imputer\\\"]\\n    \\n#     # Compute permutation importance with SCPM as the scoring function\\n#     result = permutation_importance(\\n#         model,\\n#         imputer.transform(x.iloc[test_idx]),\\n#         y[test_idx],\\n#         n_repeats=10,\\n#         random_state=SEED,\\n#         n_jobs=-1,\\n#         scoring=scmp_scorer  # Use the custom SCPM scorer\\n#     )\\n#     perm_importances.append(result.importances_mean)\";\n",
       "                var nbb_formatted_code = \"# # Compute feature importances using the custom SCPM scoring function\\n# perm_importances = []\\n\\n# for i, (train_idx, test_idx) in enumerate(cv.split(x, y)):\\n#     pipeline.fit(x.iloc[train_idx], y[train_idx])\\n\\n#     # Extract the trained model and imputer\\n#     model = pipeline.named_steps[\\\"estimator\\\"]\\n#     imputer = pipeline.named_steps[\\\"imputer\\\"]\\n\\n#     # Compute permutation importance with SCPM as the scoring function\\n#     result = permutation_importance(\\n#         model,\\n#         imputer.transform(x.iloc[test_idx]),\\n#         y[test_idx],\\n#         n_repeats=10,\\n#         random_state=SEED,\\n#         n_jobs=-1,\\n#         scoring=scmp_scorer  # Use the custom SCPM scorer\\n#     )\\n#     perm_importances.append(result.importances_mean)\";\n",
       "                var nbb_cells = Jupyter.notebook.get_cells();\n",
       "                for (var i = 0; i < nbb_cells.length; ++i) {\n",
       "                    if (nbb_cells[i].input_prompt_number == nbb_cell_id) {\n",
       "                        if (nbb_cells[i].get_text() == nbb_unformatted_code) {\n",
       "                             nbb_cells[i].set_text(nbb_formatted_code);\n",
       "                        }\n",
       "                        break;\n",
       "                    }\n",
       "                }\n",
       "            }, 500);\n",
       "            "
      ],
      "text/plain": [
       "<IPython.core.display.Javascript object>"
      ]
     },
     "metadata": {},
     "output_type": "display_data"
    }
   ],
   "source": [
    "# # Compute feature importances using the custom SCPM scoring function\n",
    "# perm_importances = []\n",
    "\n",
    "# for i, (train_idx, test_idx) in enumerate(cv.split(x, y)):\n",
    "#     pipeline.fit(x.iloc[train_idx], y[train_idx])\n",
    "\n",
    "#     # Extract the trained model and imputer\n",
    "#     model = pipeline.named_steps[\"estimator\"]\n",
    "#     imputer = pipeline.named_steps[\"imputer\"]\n",
    "    \n",
    "#     # Compute permutation importance with SCPM as the scoring function\n",
    "#     result = permutation_importance(\n",
    "#         model,\n",
    "#         imputer.transform(x.iloc[test_idx]),\n",
    "#         y[test_idx],\n",
    "#         n_repeats=10,\n",
    "#         random_state=SEED,\n",
    "#         n_jobs=-1,\n",
    "#         scoring=scmp_scorer  # Use the custom SCPM scorer\n",
    "#     )\n",
    "#     perm_importances.append(result.importances_mean)\n"
   ]
  },
  {
   "cell_type": "code",
   "execution_count": 54,
   "id": "4e3ae86c",
   "metadata": {},
   "outputs": [
    {
     "data": {
      "application/javascript": [
       "\n",
       "            setTimeout(function() {\n",
       "                var nbb_cell_id = 54;\n",
       "                var nbb_unformatted_code = \"# # Convert lists to DataFrames\\n# mdi_importances_df = pd.DataFrame(mdi_importances, columns=x.columns)\\n# perm_importances_df = pd.DataFrame(perm_importances, columns=x.columns)\\n\\n\\n# # Calculate the mean importance for each feature\\n# mean_importances = perm_importances_df.mean().sort_values()\\n\\n# # Reorder the DataFrame columns based on mean importance\\n# perm_importances_df = perm_importances_df[mean_importances.index]\\n\\n# perm_importances_df = perm_importances_df.rename(columns={\\\"Loss on Ignition\\\": \\\"LOI\\\"})\\n\\n\\n# plt.figure(figsize=(10, 5.5))\\n# sns.boxplot(\\n#     data=perm_importances_df,\\n#     orient=\\\"h\\\",\\n#     color=\\\"lightsteelblue\\\",\\n#     saturation=1,\\n#     showmeans=True,\\n# )\\n# sns.despine(trim=True, left=False)\\n# plt.xlabel(\\\"Relevance (Permutation)\\\")\\n# plt.title(\\\"Permutation Variable Relevance Distribution\\\")\\n# plt.grid(axis=\\\"x\\\", linestyle=\\\"--\\\", alpha=0.7)\\n# plt.subplots_adjust(left=0.3)\\n# plt.show()\";\n",
       "                var nbb_formatted_code = \"# # Convert lists to DataFrames\\n# mdi_importances_df = pd.DataFrame(mdi_importances, columns=x.columns)\\n# perm_importances_df = pd.DataFrame(perm_importances, columns=x.columns)\\n\\n\\n# # Calculate the mean importance for each feature\\n# mean_importances = perm_importances_df.mean().sort_values()\\n\\n# # Reorder the DataFrame columns based on mean importance\\n# perm_importances_df = perm_importances_df[mean_importances.index]\\n\\n# perm_importances_df = perm_importances_df.rename(columns={\\\"Loss on Ignition\\\": \\\"LOI\\\"})\\n\\n\\n# plt.figure(figsize=(10, 5.5))\\n# sns.boxplot(\\n#     data=perm_importances_df,\\n#     orient=\\\"h\\\",\\n#     color=\\\"lightsteelblue\\\",\\n#     saturation=1,\\n#     showmeans=True,\\n# )\\n# sns.despine(trim=True, left=False)\\n# plt.xlabel(\\\"Relevance (Permutation)\\\")\\n# plt.title(\\\"Permutation Variable Relevance Distribution\\\")\\n# plt.grid(axis=\\\"x\\\", linestyle=\\\"--\\\", alpha=0.7)\\n# plt.subplots_adjust(left=0.3)\\n# plt.show()\";\n",
       "                var nbb_cells = Jupyter.notebook.get_cells();\n",
       "                for (var i = 0; i < nbb_cells.length; ++i) {\n",
       "                    if (nbb_cells[i].input_prompt_number == nbb_cell_id) {\n",
       "                        if (nbb_cells[i].get_text() == nbb_unformatted_code) {\n",
       "                             nbb_cells[i].set_text(nbb_formatted_code);\n",
       "                        }\n",
       "                        break;\n",
       "                    }\n",
       "                }\n",
       "            }, 500);\n",
       "            "
      ],
      "text/plain": [
       "<IPython.core.display.Javascript object>"
      ]
     },
     "metadata": {},
     "output_type": "display_data"
    }
   ],
   "source": [
    "# # Convert lists to DataFrames\n",
    "# mdi_importances_df = pd.DataFrame(mdi_importances, columns=x.columns)\n",
    "# perm_importances_df = pd.DataFrame(perm_importances, columns=x.columns)\n",
    "\n",
    "\n",
    "# # Calculate the mean importance for each feature\n",
    "# mean_importances = perm_importances_df.mean().sort_values()\n",
    "\n",
    "# # Reorder the DataFrame columns based on mean importance\n",
    "# perm_importances_df = perm_importances_df[mean_importances.index]\n",
    "\n",
    "# perm_importances_df = perm_importances_df.rename(columns={\"Loss on Ignition\": \"LOI\"})\n",
    "\n",
    "\n",
    "# plt.figure(figsize=(10, 5.5))\n",
    "# sns.boxplot(\n",
    "#     data=perm_importances_df,\n",
    "#     orient=\"h\",\n",
    "#     color=\"lightsteelblue\",\n",
    "#     saturation=1,\n",
    "#     showmeans=True,\n",
    "# )\n",
    "# sns.despine(trim=True, left=False)\n",
    "# plt.xlabel(\"Relevance (Permutation)\")\n",
    "# plt.title(\"Permutation Variable Relevance Distribution\")\n",
    "# plt.grid(axis=\"x\", linestyle=\"--\", alpha=0.7)\n",
    "# plt.subplots_adjust(left=0.3)\n",
    "# plt.show()"
   ]
  },
  {
   "cell_type": "code",
   "execution_count": 55,
   "id": "4ae679a1",
   "metadata": {},
   "outputs": [
    {
     "data": {
      "application/javascript": [
       "\n",
       "            setTimeout(function() {\n",
       "                var nbb_cell_id = 55;\n",
       "                var nbb_unformatted_code = \"# plt.figure(figsize=(10, 5.5))\\n# sns.boxplot(\\n#     data=perm_importances_df,\\n#     orient=\\\"h\\\",\\n#     color=\\\"lightsteelblue\\\",\\n#     saturation=1,\\n#     showmeans=True,\\n# )\\n# sns.despine(trim=True, left=False)\";\n",
       "                var nbb_formatted_code = \"# plt.figure(figsize=(10, 5.5))\\n# sns.boxplot(\\n#     data=perm_importances_df,\\n#     orient=\\\"h\\\",\\n#     color=\\\"lightsteelblue\\\",\\n#     saturation=1,\\n#     showmeans=True,\\n# )\\n# sns.despine(trim=True, left=False)\";\n",
       "                var nbb_cells = Jupyter.notebook.get_cells();\n",
       "                for (var i = 0; i < nbb_cells.length; ++i) {\n",
       "                    if (nbb_cells[i].input_prompt_number == nbb_cell_id) {\n",
       "                        if (nbb_cells[i].get_text() == nbb_unformatted_code) {\n",
       "                             nbb_cells[i].set_text(nbb_formatted_code);\n",
       "                        }\n",
       "                        break;\n",
       "                    }\n",
       "                }\n",
       "            }, 500);\n",
       "            "
      ],
      "text/plain": [
       "<IPython.core.display.Javascript object>"
      ]
     },
     "metadata": {},
     "output_type": "display_data"
    }
   ],
   "source": [
    "# plt.figure(figsize=(10, 5.5))\n",
    "# sns.boxplot(\n",
    "#     data=perm_importances_df,\n",
    "#     orient=\"h\",\n",
    "#     color=\"lightsteelblue\",\n",
    "#     saturation=1,\n",
    "#     showmeans=True,\n",
    "# )\n",
    "# sns.despine(trim=True, left=False)\n"
   ]
  },
  {
   "cell_type": "code",
   "execution_count": 56,
   "id": "19b8a370",
   "metadata": {},
   "outputs": [
    {
     "data": {
      "application/javascript": [
       "\n",
       "            setTimeout(function() {\n",
       "                var nbb_cell_id = 56;\n",
       "                var nbb_unformatted_code = \"# # Plot for Permutation Importance Relevance with a contrasting color\\n# plt.figure(figsize=(10, 5.5))\\n# sns.boxplot(\\n#     data=perm_importances_df,\\n#     orient=\\\"h\\\",\\n#     color=\\\"lightsteelblue\\\",\\n#     saturation=1,\\n#     showmeans=True,\\n# )\\n# sns.despine(trim=True, left=False)\\n\\n# plt.title(\\\"Permutation Feature Relevance Distribution\\\")\\n# plt.xlabel(\\\"Relevance (Permutation)\\\")\\n# # plt.ylabel(\\\"Feature\\\")\\n# plt.tight_layout()\\n# plt.grid(axis=\\\"x\\\", linestyle=\\\"--\\\", alpha=0.7)\\n# plt.subplots_adjust(left=0.3)\\n# plt.show()\";\n",
       "                var nbb_formatted_code = \"# # Plot for Permutation Importance Relevance with a contrasting color\\n# plt.figure(figsize=(10, 5.5))\\n# sns.boxplot(\\n#     data=perm_importances_df,\\n#     orient=\\\"h\\\",\\n#     color=\\\"lightsteelblue\\\",\\n#     saturation=1,\\n#     showmeans=True,\\n# )\\n# sns.despine(trim=True, left=False)\\n\\n# plt.title(\\\"Permutation Feature Relevance Distribution\\\")\\n# plt.xlabel(\\\"Relevance (Permutation)\\\")\\n# # plt.ylabel(\\\"Feature\\\")\\n# plt.tight_layout()\\n# plt.grid(axis=\\\"x\\\", linestyle=\\\"--\\\", alpha=0.7)\\n# plt.subplots_adjust(left=0.3)\\n# plt.show()\";\n",
       "                var nbb_cells = Jupyter.notebook.get_cells();\n",
       "                for (var i = 0; i < nbb_cells.length; ++i) {\n",
       "                    if (nbb_cells[i].input_prompt_number == nbb_cell_id) {\n",
       "                        if (nbb_cells[i].get_text() == nbb_unformatted_code) {\n",
       "                             nbb_cells[i].set_text(nbb_formatted_code);\n",
       "                        }\n",
       "                        break;\n",
       "                    }\n",
       "                }\n",
       "            }, 500);\n",
       "            "
      ],
      "text/plain": [
       "<IPython.core.display.Javascript object>"
      ]
     },
     "metadata": {},
     "output_type": "display_data"
    }
   ],
   "source": [
    "# # Plot for Permutation Importance Relevance with a contrasting color\n",
    "# plt.figure(figsize=(10, 5.5))\n",
    "# sns.boxplot(\n",
    "#     data=perm_importances_df,\n",
    "#     orient=\"h\",\n",
    "#     color=\"lightsteelblue\",\n",
    "#     saturation=1,\n",
    "#     showmeans=True,\n",
    "# )\n",
    "# sns.despine(trim=True, left=False)\n",
    "\n",
    "# plt.title(\"Permutation Feature Relevance Distribution\")\n",
    "# plt.xlabel(\"Relevance (Permutation)\")\n",
    "# # plt.ylabel(\"Feature\")\n",
    "# plt.tight_layout()\n",
    "# plt.grid(axis=\"x\", linestyle=\"--\", alpha=0.7)\n",
    "# plt.subplots_adjust(left=0.3)\n",
    "# plt.show()"
   ]
  },
  {
   "cell_type": "code",
   "execution_count": 57,
   "id": "dd065d4b",
   "metadata": {},
   "outputs": [
    {
     "data": {
      "application/javascript": [
       "\n",
       "            setTimeout(function() {\n",
       "                var nbb_cell_id = 57;\n",
       "                var nbb_unformatted_code = \"# # Plot the distribution of importance scores across folds\\n# plt.figure(figsize=(12, 7))\\n# # sns.boxplot(data=mdi_importances_df, orient=\\\"h\\\", color=\\\"skyblue\\\", saturation=0.7)\\n# sns.boxplot(\\n#     data=perm_importances_df, orient=\\\"h\\\", color=\\\"salmon\\\", saturation=0.7, showmeans=True\\n# )\\n# plt.title(\\\"Feature Importance Distribution Across Folds\\\")\\n# plt.xlabel(\\\"Importance Score\\\")\\n# plt.ylabel(\\\"Feature\\\")\\n# plt.tight_layout()\\n# plt.show()\";\n",
       "                var nbb_formatted_code = \"# # Plot the distribution of importance scores across folds\\n# plt.figure(figsize=(12, 7))\\n# # sns.boxplot(data=mdi_importances_df, orient=\\\"h\\\", color=\\\"skyblue\\\", saturation=0.7)\\n# sns.boxplot(\\n#     data=perm_importances_df, orient=\\\"h\\\", color=\\\"salmon\\\", saturation=0.7, showmeans=True\\n# )\\n# plt.title(\\\"Feature Importance Distribution Across Folds\\\")\\n# plt.xlabel(\\\"Importance Score\\\")\\n# plt.ylabel(\\\"Feature\\\")\\n# plt.tight_layout()\\n# plt.show()\";\n",
       "                var nbb_cells = Jupyter.notebook.get_cells();\n",
       "                for (var i = 0; i < nbb_cells.length; ++i) {\n",
       "                    if (nbb_cells[i].input_prompt_number == nbb_cell_id) {\n",
       "                        if (nbb_cells[i].get_text() == nbb_unformatted_code) {\n",
       "                             nbb_cells[i].set_text(nbb_formatted_code);\n",
       "                        }\n",
       "                        break;\n",
       "                    }\n",
       "                }\n",
       "            }, 500);\n",
       "            "
      ],
      "text/plain": [
       "<IPython.core.display.Javascript object>"
      ]
     },
     "metadata": {},
     "output_type": "display_data"
    }
   ],
   "source": [
    "# # Plot the distribution of importance scores across folds\n",
    "# plt.figure(figsize=(12, 7))\n",
    "# # sns.boxplot(data=mdi_importances_df, orient=\"h\", color=\"skyblue\", saturation=0.7)\n",
    "# sns.boxplot(\n",
    "#     data=perm_importances_df, orient=\"h\", color=\"salmon\", saturation=0.7, showmeans=True\n",
    "# )\n",
    "# plt.title(\"Feature Importance Distribution Across Folds\")\n",
    "# plt.xlabel(\"Importance Score\")\n",
    "# plt.ylabel(\"Feature\")\n",
    "# plt.tight_layout()\n",
    "# plt.show()"
   ]
  },
  {
   "cell_type": "code",
   "execution_count": 58,
   "id": "44cd87f1",
   "metadata": {},
   "outputs": [
    {
     "data": {
      "application/javascript": [
       "\n",
       "            setTimeout(function() {\n",
       "                var nbb_cell_id = 58;\n",
       "                var nbb_unformatted_code = \"# # Average the importance values over all folds\\n# mdi_importances_mean = np.mean(mdi_importances, axis=0)\\n# perm_importances_mean = np.mean(perm_importances, axis=0)\\n\\n# # Create a DataFrame for easy comparison and plotting\\n# importances_df = pd.DataFrame(\\n#     {\\n#         \\\"Feature\\\": x.columns,\\n#         \\\"MDI Importance\\\": mdi_importances_mean,\\n#         \\\"Permutation Importance\\\": perm_importances_mean,\\n#     }\\n# ).sort_values(by=\\\"Permutation Importance\\\", ascending=False)\\n\\n# df_importances_sorted = df_importances_sorted.rename(\\n#     columns={\\\"Loss on Ignition\\\": \\\"LOI\\\"}\\n# )\\n\\n# # Plotting the importances\\n# importances_df.set_index(\\\"Feature\\\").plot(\\n#     kind=\\\"barh\\\", figsize=(10, 7), color=[\\\"skyblue\\\", \\\"salmon\\\"]\\n# )\\n# plt.title(\\\"Feature Importance: MDI vs Permutation\\\")\\n# plt.xlabel(\\\"Importance Score\\\")\\n# plt.show()\";\n",
       "                var nbb_formatted_code = \"# # Average the importance values over all folds\\n# mdi_importances_mean = np.mean(mdi_importances, axis=0)\\n# perm_importances_mean = np.mean(perm_importances, axis=0)\\n\\n# # Create a DataFrame for easy comparison and plotting\\n# importances_df = pd.DataFrame(\\n#     {\\n#         \\\"Feature\\\": x.columns,\\n#         \\\"MDI Importance\\\": mdi_importances_mean,\\n#         \\\"Permutation Importance\\\": perm_importances_mean,\\n#     }\\n# ).sort_values(by=\\\"Permutation Importance\\\", ascending=False)\\n\\n# df_importances_sorted = df_importances_sorted.rename(\\n#     columns={\\\"Loss on Ignition\\\": \\\"LOI\\\"}\\n# )\\n\\n# # Plotting the importances\\n# importances_df.set_index(\\\"Feature\\\").plot(\\n#     kind=\\\"barh\\\", figsize=(10, 7), color=[\\\"skyblue\\\", \\\"salmon\\\"]\\n# )\\n# plt.title(\\\"Feature Importance: MDI vs Permutation\\\")\\n# plt.xlabel(\\\"Importance Score\\\")\\n# plt.show()\";\n",
       "                var nbb_cells = Jupyter.notebook.get_cells();\n",
       "                for (var i = 0; i < nbb_cells.length; ++i) {\n",
       "                    if (nbb_cells[i].input_prompt_number == nbb_cell_id) {\n",
       "                        if (nbb_cells[i].get_text() == nbb_unformatted_code) {\n",
       "                             nbb_cells[i].set_text(nbb_formatted_code);\n",
       "                        }\n",
       "                        break;\n",
       "                    }\n",
       "                }\n",
       "            }, 500);\n",
       "            "
      ],
      "text/plain": [
       "<IPython.core.display.Javascript object>"
      ]
     },
     "metadata": {},
     "output_type": "display_data"
    }
   ],
   "source": [
    "# # Average the importance values over all folds\n",
    "# mdi_importances_mean = np.mean(mdi_importances, axis=0)\n",
    "# perm_importances_mean = np.mean(perm_importances, axis=0)\n",
    "\n",
    "# # Create a DataFrame for easy comparison and plotting\n",
    "# importances_df = pd.DataFrame(\n",
    "#     {\n",
    "#         \"Feature\": x.columns,\n",
    "#         \"MDI Importance\": mdi_importances_mean,\n",
    "#         \"Permutation Importance\": perm_importances_mean,\n",
    "#     }\n",
    "# ).sort_values(by=\"Permutation Importance\", ascending=False)\n",
    "\n",
    "# df_importances_sorted = df_importances_sorted.rename(\n",
    "#     columns={\"Loss on Ignition\": \"LOI\"}\n",
    "# )\n",
    "\n",
    "# # Plotting the importances\n",
    "# importances_df.set_index(\"Feature\").plot(\n",
    "#     kind=\"barh\", figsize=(10, 7), color=[\"skyblue\", \"salmon\"]\n",
    "# )\n",
    "# plt.title(\"Feature Importance: MDI vs Permutation\")\n",
    "# plt.xlabel(\"Importance Score\")\n",
    "# plt.show()"
   ]
  },
  {
   "cell_type": "code",
   "execution_count": 59,
   "id": "c3b1e7c1",
   "metadata": {},
   "outputs": [
    {
     "data": {
      "application/javascript": [
       "\n",
       "            setTimeout(function() {\n",
       "                var nbb_cell_id = 59;\n",
       "                var nbb_unformatted_code = \"# # Convert lists to DataFrames\\n# mdi_importances_df = pd.DataFrame(mdi_importances, columns=x.columns)\\n# perm_importances_df = pd.DataFrame(perm_importances, columns=x.columns)\\n\\n# # Average the importance values over all folds\\n# mdi_importances_mean = mdi_importances_df.mean(axis=0)\\n# perm_importances_mean = perm_importances_df.mean(axis=0)\\n\\n# # Create a combined DataFrame for plotting\\n# importances_df = pd.DataFrame(\\n#     {\\n#         \\\"Feature\\\": x.columns,\\n#         \\\"MDI Importance Mean\\\": mdi_importances_mean,\\n#         \\\"Permutation Importance Mean\\\": perm_importances_mean,\\n#     }\\n# ).sort_values(by=\\\"Permutation Importance Mean\\\", ascending=False)\\n\\n# # Plot the mean importance values\\n# importances_df.set_index(\\\"Feature\\\").plot(\\n#     kind=\\\"barh\\\", figsize=(10, 7), color=[\\\"skyblue\\\", \\\"salmon\\\"]\\n# )\\n# plt.title(\\\"Feature Importance: Mean MDI vs Permutation\\\")\\n# plt.xlabel(\\\"Importance Score\\\")\\n# plt.show()\\n\\n# # Plot the distribution of importance scores across folds\\n# plt.figure(figsize=(12, 7))\\n# sns.boxplot(data=mdi_importances_df, orient=\\\"h\\\", color=\\\"skyblue\\\", saturation=0.7)\\n# sns.boxplot(data=perm_importances_df, orient=\\\"h\\\", color=\\\"salmon\\\", saturation=0.7)\\n# plt.title(\\\"Feature Importance Distribution Across Folds\\\")\\n# plt.xlabel(\\\"Importance Score\\\")\\n# plt.ylabel(\\\"Feature\\\")\\n# plt.tight_layout()\\n# plt.show()\\n\\n# # # Combined plot: Mean importance with distribution as boxplots\\n# # fig, ax = plt.subplots(figsize=(12, 7))\\n# # sns.boxplot(data=mdi_importances_df, orient=\\\"h\\\", color=\\\"skyblue\\\", saturation=0.5, ax=ax)\\n# # sns.boxplot(data=perm_importances_df, orient=\\\"h\\\", color=\\\"salmon\\\", saturation=0.5, ax=ax)\\n# # importances_df.set_index(\\\"Feature\\\").plot(\\n# #     kind=\\\"barh\\\", color=[\\\"darkblue\\\", \\\"darkred\\\"], ax=ax, alpha=0.7, linewidth=2\\n# # )\\n# # plt.title(\\\"Feature Importance: Mean and Distribution\\\")\\n# # plt.xlabel(\\\"Importance Score\\\")\\n# # plt.ylabel(\\\"Feature\\\")\\n# # plt.tight_layout()\\n# # plt.show()\";\n",
       "                var nbb_formatted_code = \"# # Convert lists to DataFrames\\n# mdi_importances_df = pd.DataFrame(mdi_importances, columns=x.columns)\\n# perm_importances_df = pd.DataFrame(perm_importances, columns=x.columns)\\n\\n# # Average the importance values over all folds\\n# mdi_importances_mean = mdi_importances_df.mean(axis=0)\\n# perm_importances_mean = perm_importances_df.mean(axis=0)\\n\\n# # Create a combined DataFrame for plotting\\n# importances_df = pd.DataFrame(\\n#     {\\n#         \\\"Feature\\\": x.columns,\\n#         \\\"MDI Importance Mean\\\": mdi_importances_mean,\\n#         \\\"Permutation Importance Mean\\\": perm_importances_mean,\\n#     }\\n# ).sort_values(by=\\\"Permutation Importance Mean\\\", ascending=False)\\n\\n# # Plot the mean importance values\\n# importances_df.set_index(\\\"Feature\\\").plot(\\n#     kind=\\\"barh\\\", figsize=(10, 7), color=[\\\"skyblue\\\", \\\"salmon\\\"]\\n# )\\n# plt.title(\\\"Feature Importance: Mean MDI vs Permutation\\\")\\n# plt.xlabel(\\\"Importance Score\\\")\\n# plt.show()\\n\\n# # Plot the distribution of importance scores across folds\\n# plt.figure(figsize=(12, 7))\\n# sns.boxplot(data=mdi_importances_df, orient=\\\"h\\\", color=\\\"skyblue\\\", saturation=0.7)\\n# sns.boxplot(data=perm_importances_df, orient=\\\"h\\\", color=\\\"salmon\\\", saturation=0.7)\\n# plt.title(\\\"Feature Importance Distribution Across Folds\\\")\\n# plt.xlabel(\\\"Importance Score\\\")\\n# plt.ylabel(\\\"Feature\\\")\\n# plt.tight_layout()\\n# plt.show()\\n\\n# # # Combined plot: Mean importance with distribution as boxplots\\n# # fig, ax = plt.subplots(figsize=(12, 7))\\n# # sns.boxplot(data=mdi_importances_df, orient=\\\"h\\\", color=\\\"skyblue\\\", saturation=0.5, ax=ax)\\n# # sns.boxplot(data=perm_importances_df, orient=\\\"h\\\", color=\\\"salmon\\\", saturation=0.5, ax=ax)\\n# # importances_df.set_index(\\\"Feature\\\").plot(\\n# #     kind=\\\"barh\\\", color=[\\\"darkblue\\\", \\\"darkred\\\"], ax=ax, alpha=0.7, linewidth=2\\n# # )\\n# # plt.title(\\\"Feature Importance: Mean and Distribution\\\")\\n# # plt.xlabel(\\\"Importance Score\\\")\\n# # plt.ylabel(\\\"Feature\\\")\\n# # plt.tight_layout()\\n# # plt.show()\";\n",
       "                var nbb_cells = Jupyter.notebook.get_cells();\n",
       "                for (var i = 0; i < nbb_cells.length; ++i) {\n",
       "                    if (nbb_cells[i].input_prompt_number == nbb_cell_id) {\n",
       "                        if (nbb_cells[i].get_text() == nbb_unformatted_code) {\n",
       "                             nbb_cells[i].set_text(nbb_formatted_code);\n",
       "                        }\n",
       "                        break;\n",
       "                    }\n",
       "                }\n",
       "            }, 500);\n",
       "            "
      ],
      "text/plain": [
       "<IPython.core.display.Javascript object>"
      ]
     },
     "metadata": {},
     "output_type": "display_data"
    }
   ],
   "source": [
    "# # Convert lists to DataFrames\n",
    "# mdi_importances_df = pd.DataFrame(mdi_importances, columns=x.columns)\n",
    "# perm_importances_df = pd.DataFrame(perm_importances, columns=x.columns)\n",
    "\n",
    "# # Average the importance values over all folds\n",
    "# mdi_importances_mean = mdi_importances_df.mean(axis=0)\n",
    "# perm_importances_mean = perm_importances_df.mean(axis=0)\n",
    "\n",
    "# # Create a combined DataFrame for plotting\n",
    "# importances_df = pd.DataFrame(\n",
    "#     {\n",
    "#         \"Feature\": x.columns,\n",
    "#         \"MDI Importance Mean\": mdi_importances_mean,\n",
    "#         \"Permutation Importance Mean\": perm_importances_mean,\n",
    "#     }\n",
    "# ).sort_values(by=\"Permutation Importance Mean\", ascending=False)\n",
    "\n",
    "# # Plot the mean importance values\n",
    "# importances_df.set_index(\"Feature\").plot(\n",
    "#     kind=\"barh\", figsize=(10, 7), color=[\"skyblue\", \"salmon\"]\n",
    "# )\n",
    "# plt.title(\"Feature Importance: Mean MDI vs Permutation\")\n",
    "# plt.xlabel(\"Importance Score\")\n",
    "# plt.show()\n",
    "\n",
    "# # Plot the distribution of importance scores across folds\n",
    "# plt.figure(figsize=(12, 7))\n",
    "# sns.boxplot(data=mdi_importances_df, orient=\"h\", color=\"skyblue\", saturation=0.7)\n",
    "# sns.boxplot(data=perm_importances_df, orient=\"h\", color=\"salmon\", saturation=0.7)\n",
    "# plt.title(\"Feature Importance Distribution Across Folds\")\n",
    "# plt.xlabel(\"Importance Score\")\n",
    "# plt.ylabel(\"Feature\")\n",
    "# plt.tight_layout()\n",
    "# plt.show()\n",
    "\n",
    "# # # Combined plot: Mean importance with distribution as boxplots\n",
    "# # fig, ax = plt.subplots(figsize=(12, 7))\n",
    "# # sns.boxplot(data=mdi_importances_df, orient=\"h\", color=\"skyblue\", saturation=0.5, ax=ax)\n",
    "# # sns.boxplot(data=perm_importances_df, orient=\"h\", color=\"salmon\", saturation=0.5, ax=ax)\n",
    "# # importances_df.set_index(\"Feature\").plot(\n",
    "# #     kind=\"barh\", color=[\"darkblue\", \"darkred\"], ax=ax, alpha=0.7, linewidth=2\n",
    "# # )\n",
    "# # plt.title(\"Feature Importance: Mean and Distribution\")\n",
    "# # plt.xlabel(\"Importance Score\")\n",
    "# # plt.ylabel(\"Feature\")\n",
    "# # plt.tight_layout()\n",
    "# # plt.show()"
   ]
  },
  {
   "cell_type": "code",
   "execution_count": 60,
   "id": "1340ecfe",
   "metadata": {},
   "outputs": [
    {
     "data": {
      "application/javascript": [
       "\n",
       "            setTimeout(function() {\n",
       "                var nbb_cell_id = 60;\n",
       "                var nbb_unformatted_code = \"# # Plot the distribution of importance scores across folds\\n# plt.figure(figsize=(12, 7))\\n# sns.boxplot(\\n#     data=mdi_importances_df, orient=\\\"h\\\", color=\\\"skyblue\\\", saturation=0.7, showmeans=True\\n# )\\n# # sns.boxplot(data=perm_importances_df, orient=\\\"h\\\", color=\\\"salmon\\\", saturation=0.7)\\n# plt.title(\\\"Feature Importance Distribution Across Folds\\\")\\n# plt.xlabel(\\\"Importance Score\\\")\\n# plt.ylabel(\\\"Feature\\\")\\n# plt.tight_layout()\\n# plt.show()\";\n",
       "                var nbb_formatted_code = \"# # Plot the distribution of importance scores across folds\\n# plt.figure(figsize=(12, 7))\\n# sns.boxplot(\\n#     data=mdi_importances_df, orient=\\\"h\\\", color=\\\"skyblue\\\", saturation=0.7, showmeans=True\\n# )\\n# # sns.boxplot(data=perm_importances_df, orient=\\\"h\\\", color=\\\"salmon\\\", saturation=0.7)\\n# plt.title(\\\"Feature Importance Distribution Across Folds\\\")\\n# plt.xlabel(\\\"Importance Score\\\")\\n# plt.ylabel(\\\"Feature\\\")\\n# plt.tight_layout()\\n# plt.show()\";\n",
       "                var nbb_cells = Jupyter.notebook.get_cells();\n",
       "                for (var i = 0; i < nbb_cells.length; ++i) {\n",
       "                    if (nbb_cells[i].input_prompt_number == nbb_cell_id) {\n",
       "                        if (nbb_cells[i].get_text() == nbb_unformatted_code) {\n",
       "                             nbb_cells[i].set_text(nbb_formatted_code);\n",
       "                        }\n",
       "                        break;\n",
       "                    }\n",
       "                }\n",
       "            }, 500);\n",
       "            "
      ],
      "text/plain": [
       "<IPython.core.display.Javascript object>"
      ]
     },
     "metadata": {},
     "output_type": "display_data"
    }
   ],
   "source": [
    "# # Plot the distribution of importance scores across folds\n",
    "# plt.figure(figsize=(12, 7))\n",
    "# sns.boxplot(\n",
    "#     data=mdi_importances_df, orient=\"h\", color=\"skyblue\", saturation=0.7, showmeans=True\n",
    "# )\n",
    "# # sns.boxplot(data=perm_importances_df, orient=\"h\", color=\"salmon\", saturation=0.7)\n",
    "# plt.title(\"Feature Importance Distribution Across Folds\")\n",
    "# plt.xlabel(\"Importance Score\")\n",
    "# plt.ylabel(\"Feature\")\n",
    "# plt.tight_layout()\n",
    "# plt.show()"
   ]
  },
  {
   "cell_type": "code",
   "execution_count": 61,
   "id": "8fdb4b4a",
   "metadata": {},
   "outputs": [
    {
     "data": {
      "application/javascript": [
       "\n",
       "            setTimeout(function() {\n",
       "                var nbb_cell_id = 61;\n",
       "                var nbb_unformatted_code = \"# # Plot the distribution of importance scores across folds\\n# plt.figure(figsize=(12, 7))\\n# # sns.boxplot(data=mdi_importances_df, orient=\\\"h\\\", color=\\\"skyblue\\\", saturation=0.7)\\n# sns.boxplot(\\n#     data=perm_importances_df, orient=\\\"h\\\", color=\\\"salmon\\\", saturation=0.7, showmeans=True\\n# )\\n# plt.title(\\\"Feature Importance Distribution Across Folds\\\")\\n# plt.xlabel(\\\"Importance Score\\\")\\n# plt.ylabel(\\\"Feature\\\")\\n# plt.tight_layout()\\n# plt.show()\";\n",
       "                var nbb_formatted_code = \"# # Plot the distribution of importance scores across folds\\n# plt.figure(figsize=(12, 7))\\n# # sns.boxplot(data=mdi_importances_df, orient=\\\"h\\\", color=\\\"skyblue\\\", saturation=0.7)\\n# sns.boxplot(\\n#     data=perm_importances_df, orient=\\\"h\\\", color=\\\"salmon\\\", saturation=0.7, showmeans=True\\n# )\\n# plt.title(\\\"Feature Importance Distribution Across Folds\\\")\\n# plt.xlabel(\\\"Importance Score\\\")\\n# plt.ylabel(\\\"Feature\\\")\\n# plt.tight_layout()\\n# plt.show()\";\n",
       "                var nbb_cells = Jupyter.notebook.get_cells();\n",
       "                for (var i = 0; i < nbb_cells.length; ++i) {\n",
       "                    if (nbb_cells[i].input_prompt_number == nbb_cell_id) {\n",
       "                        if (nbb_cells[i].get_text() == nbb_unformatted_code) {\n",
       "                             nbb_cells[i].set_text(nbb_formatted_code);\n",
       "                        }\n",
       "                        break;\n",
       "                    }\n",
       "                }\n",
       "            }, 500);\n",
       "            "
      ],
      "text/plain": [
       "<IPython.core.display.Javascript object>"
      ]
     },
     "metadata": {},
     "output_type": "display_data"
    }
   ],
   "source": [
    "# # Plot the distribution of importance scores across folds\n",
    "# plt.figure(figsize=(12, 7))\n",
    "# # sns.boxplot(data=mdi_importances_df, orient=\"h\", color=\"skyblue\", saturation=0.7)\n",
    "# sns.boxplot(\n",
    "#     data=perm_importances_df, orient=\"h\", color=\"salmon\", saturation=0.7, showmeans=True\n",
    "# )\n",
    "# plt.title(\"Feature Importance Distribution Across Folds\")\n",
    "# plt.xlabel(\"Importance Score\")\n",
    "# plt.ylabel(\"Feature\")\n",
    "# plt.tight_layout()\n",
    "# plt.show()"
   ]
  },
  {
   "cell_type": "code",
   "execution_count": 62,
   "id": "0f23d484",
   "metadata": {},
   "outputs": [
    {
     "data": {
      "application/javascript": [
       "\n",
       "            setTimeout(function() {\n",
       "                var nbb_cell_id = 62;\n",
       "                var nbb_unformatted_code = \"# plt.figure(figsize=(14, 8))\\n\\n# # Create a DataFrame that stacks the two importance DataFrames\\n# stacked_importances = pd.concat(\\n#     [mdi_importances_df.melt(var_name='Feature', value_name='Importance').assign(Type='MDI'),\\n#      perm_importances_df.melt(var_name='Feature', value_name='Importance').assign(Type='Permutation')],\\n#     axis=0\\n# )\\n\\n# sns.boxplot(x='Importance', y='Feature', hue='Type', data=stacked_importances, palette=[\\\"skyblue\\\", \\\"salmon\\\"])\\n# plt.title(\\\"Feature Importance Distribution Across Folds (MDI vs Permutation)\\\")\\n# plt.xlabel(\\\"Importance Score\\\")\\n# plt.ylabel(\\\"Feature\\\")\\n# plt.tight_layout()\\n# plt.show()\";\n",
       "                var nbb_formatted_code = \"# plt.figure(figsize=(14, 8))\\n\\n# # Create a DataFrame that stacks the two importance DataFrames\\n# stacked_importances = pd.concat(\\n#     [mdi_importances_df.melt(var_name='Feature', value_name='Importance').assign(Type='MDI'),\\n#      perm_importances_df.melt(var_name='Feature', value_name='Importance').assign(Type='Permutation')],\\n#     axis=0\\n# )\\n\\n# sns.boxplot(x='Importance', y='Feature', hue='Type', data=stacked_importances, palette=[\\\"skyblue\\\", \\\"salmon\\\"])\\n# plt.title(\\\"Feature Importance Distribution Across Folds (MDI vs Permutation)\\\")\\n# plt.xlabel(\\\"Importance Score\\\")\\n# plt.ylabel(\\\"Feature\\\")\\n# plt.tight_layout()\\n# plt.show()\";\n",
       "                var nbb_cells = Jupyter.notebook.get_cells();\n",
       "                for (var i = 0; i < nbb_cells.length; ++i) {\n",
       "                    if (nbb_cells[i].input_prompt_number == nbb_cell_id) {\n",
       "                        if (nbb_cells[i].get_text() == nbb_unformatted_code) {\n",
       "                             nbb_cells[i].set_text(nbb_formatted_code);\n",
       "                        }\n",
       "                        break;\n",
       "                    }\n",
       "                }\n",
       "            }, 500);\n",
       "            "
      ],
      "text/plain": [
       "<IPython.core.display.Javascript object>"
      ]
     },
     "metadata": {},
     "output_type": "display_data"
    }
   ],
   "source": [
    "# plt.figure(figsize=(14, 8))\n",
    "\n",
    "# # Create a DataFrame that stacks the two importance DataFrames\n",
    "# stacked_importances = pd.concat(\n",
    "#     [mdi_importances_df.melt(var_name='Feature', value_name='Importance').assign(Type='MDI'),\n",
    "#      perm_importances_df.melt(var_name='Feature', value_name='Importance').assign(Type='Permutation')],\n",
    "#     axis=0\n",
    "# )\n",
    "\n",
    "# sns.boxplot(x='Importance', y='Feature', hue='Type', data=stacked_importances, palette=[\"skyblue\", \"salmon\"])\n",
    "# plt.title(\"Feature Importance Distribution Across Folds (MDI vs Permutation)\")\n",
    "# plt.xlabel(\"Importance Score\")\n",
    "# plt.ylabel(\"Feature\")\n",
    "# plt.tight_layout()\n",
    "# plt.show()\n"
   ]
  },
  {
   "cell_type": "code",
   "execution_count": 63,
   "id": "d3bd1291",
   "metadata": {},
   "outputs": [
    {
     "data": {
      "application/javascript": [
       "\n",
       "            setTimeout(function() {\n",
       "                var nbb_cell_id = 63;\n",
       "                var nbb_unformatted_code = \"# plt.figure(figsize=(14, 8))\\n\\n# # Create a DataFrame that stacks the two importance DataFrames\\n# stacked_importances = pd.concat(\\n#     [mdi_importances_df.melt(var_name='Feature', value_name='Importance').assign(Type='MDI'),\\n#      perm_importances_df.melt(var_name='Feature', value_name='Importance').assign(Type='Permutation')],\\n#     axis=0\\n# )\\n\\n# g = sns.FacetGrid(stacked_importances, row=\\\"Type\\\", aspect=2, height=4, sharex=True, sharey=True)\\n# g.map(sns.boxplot, \\\"Importance\\\", \\\"Feature\\\", palette=[\\\"skyblue\\\"], orient=\\\"h\\\", showmeans=True)\\n# g.add_legend()\\n# g.fig.subplots_adjust(top=0.9)\\n# g.fig.suptitle(\\\"Feature Importance Distribution Across Folds (MDI vs Permutation)\\\")\\n# plt.show()\";\n",
       "                var nbb_formatted_code = \"# plt.figure(figsize=(14, 8))\\n\\n# # Create a DataFrame that stacks the two importance DataFrames\\n# stacked_importances = pd.concat(\\n#     [mdi_importances_df.melt(var_name='Feature', value_name='Importance').assign(Type='MDI'),\\n#      perm_importances_df.melt(var_name='Feature', value_name='Importance').assign(Type='Permutation')],\\n#     axis=0\\n# )\\n\\n# g = sns.FacetGrid(stacked_importances, row=\\\"Type\\\", aspect=2, height=4, sharex=True, sharey=True)\\n# g.map(sns.boxplot, \\\"Importance\\\", \\\"Feature\\\", palette=[\\\"skyblue\\\"], orient=\\\"h\\\", showmeans=True)\\n# g.add_legend()\\n# g.fig.subplots_adjust(top=0.9)\\n# g.fig.suptitle(\\\"Feature Importance Distribution Across Folds (MDI vs Permutation)\\\")\\n# plt.show()\";\n",
       "                var nbb_cells = Jupyter.notebook.get_cells();\n",
       "                for (var i = 0; i < nbb_cells.length; ++i) {\n",
       "                    if (nbb_cells[i].input_prompt_number == nbb_cell_id) {\n",
       "                        if (nbb_cells[i].get_text() == nbb_unformatted_code) {\n",
       "                             nbb_cells[i].set_text(nbb_formatted_code);\n",
       "                        }\n",
       "                        break;\n",
       "                    }\n",
       "                }\n",
       "            }, 500);\n",
       "            "
      ],
      "text/plain": [
       "<IPython.core.display.Javascript object>"
      ]
     },
     "metadata": {},
     "output_type": "display_data"
    }
   ],
   "source": [
    "# plt.figure(figsize=(14, 8))\n",
    "\n",
    "# # Create a DataFrame that stacks the two importance DataFrames\n",
    "# stacked_importances = pd.concat(\n",
    "#     [mdi_importances_df.melt(var_name='Feature', value_name='Importance').assign(Type='MDI'),\n",
    "#      perm_importances_df.melt(var_name='Feature', value_name='Importance').assign(Type='Permutation')],\n",
    "#     axis=0\n",
    "# )\n",
    "\n",
    "# g = sns.FacetGrid(stacked_importances, row=\"Type\", aspect=2, height=4, sharex=True, sharey=True)\n",
    "# g.map(sns.boxplot, \"Importance\", \"Feature\", palette=[\"skyblue\"], orient=\"h\", showmeans=True)\n",
    "# g.add_legend()\n",
    "# g.fig.subplots_adjust(top=0.9)\n",
    "# g.fig.suptitle(\"Feature Importance Distribution Across Folds (MDI vs Permutation)\")\n",
    "# plt.show()\n"
   ]
  },
  {
   "cell_type": "code",
   "execution_count": 64,
   "id": "14d3cd27",
   "metadata": {},
   "outputs": [
    {
     "data": {
      "application/javascript": [
       "\n",
       "            setTimeout(function() {\n",
       "                var nbb_cell_id = 64;\n",
       "                var nbb_unformatted_code = \"# # Create a combined DataFrame for plotting\\n# importances_df = pd.DataFrame(\\n#     {\\n#         \\\"Feature\\\": x.columns,\\n#         \\\"MDI Importance\\\": mdi_importances_mean,\\n#         \\\"Permutation Importance\\\": perm_importances_mean,\\n#     }\\n# ).sort_values(by=\\\"Permutation Importance\\\", ascending=False)\\n\\n# # Plot the mean importance values\\n# importances_df.set_index(\\\"Feature\\\").plot(\\n#     kind=\\\"barh\\\", figsize=(10, 7), color=[\\\"skyblue\\\", \\\"salmon\\\"]\\n# )\\n# plt.title(\\\"Feature Importance: MDI vs Permutation\\\")\\n# plt.xlabel(\\\"Importance Score\\\")\\n# plt.show()\";\n",
       "                var nbb_formatted_code = \"# # Create a combined DataFrame for plotting\\n# importances_df = pd.DataFrame(\\n#     {\\n#         \\\"Feature\\\": x.columns,\\n#         \\\"MDI Importance\\\": mdi_importances_mean,\\n#         \\\"Permutation Importance\\\": perm_importances_mean,\\n#     }\\n# ).sort_values(by=\\\"Permutation Importance\\\", ascending=False)\\n\\n# # Plot the mean importance values\\n# importances_df.set_index(\\\"Feature\\\").plot(\\n#     kind=\\\"barh\\\", figsize=(10, 7), color=[\\\"skyblue\\\", \\\"salmon\\\"]\\n# )\\n# plt.title(\\\"Feature Importance: MDI vs Permutation\\\")\\n# plt.xlabel(\\\"Importance Score\\\")\\n# plt.show()\";\n",
       "                var nbb_cells = Jupyter.notebook.get_cells();\n",
       "                for (var i = 0; i < nbb_cells.length; ++i) {\n",
       "                    if (nbb_cells[i].input_prompt_number == nbb_cell_id) {\n",
       "                        if (nbb_cells[i].get_text() == nbb_unformatted_code) {\n",
       "                             nbb_cells[i].set_text(nbb_formatted_code);\n",
       "                        }\n",
       "                        break;\n",
       "                    }\n",
       "                }\n",
       "            }, 500);\n",
       "            "
      ],
      "text/plain": [
       "<IPython.core.display.Javascript object>"
      ]
     },
     "metadata": {},
     "output_type": "display_data"
    }
   ],
   "source": [
    "# # Create a combined DataFrame for plotting\n",
    "# importances_df = pd.DataFrame(\n",
    "#     {\n",
    "#         \"Feature\": x.columns,\n",
    "#         \"MDI Importance\": mdi_importances_mean,\n",
    "#         \"Permutation Importance\": perm_importances_mean,\n",
    "#     }\n",
    "# ).sort_values(by=\"Permutation Importance\", ascending=False)\n",
    "\n",
    "# # Plot the mean importance values\n",
    "# importances_df.set_index(\"Feature\").plot(\n",
    "#     kind=\"barh\", figsize=(10, 7), color=[\"skyblue\", \"salmon\"]\n",
    "# )\n",
    "# plt.title(\"Feature Importance: MDI vs Permutation\")\n",
    "# plt.xlabel(\"Importance Score\")\n",
    "# plt.show()\n"
   ]
  },
  {
   "cell_type": "code",
   "execution_count": 65,
   "id": "a61d3ea4",
   "metadata": {},
   "outputs": [
    {
     "data": {
      "application/javascript": [
       "\n",
       "            setTimeout(function() {\n",
       "                var nbb_cell_id = 65;\n",
       "                var nbb_unformatted_code = \"# plt.figure(figsize=(10, 7))\\n# plt.scatter(mdi_importances_mean, perm_importances_mean, color=\\\"mediumseagreen\\\")\\n# plt.title(\\\"MDI vs Permutation Importance\\\")\\n# plt.xlabel(\\\"MDI Importance\\\")\\n# plt.ylabel(\\\"Permutation Importance\\\")\\n# for i, feature in enumerate(x.columns):\\n#     plt.text(mdi_importances_mean[i], perm_importances_mean[i], feature, fontsize=9)\\n# plt.grid(True)\\n# plt.show()\";\n",
       "                var nbb_formatted_code = \"# plt.figure(figsize=(10, 7))\\n# plt.scatter(mdi_importances_mean, perm_importances_mean, color=\\\"mediumseagreen\\\")\\n# plt.title(\\\"MDI vs Permutation Importance\\\")\\n# plt.xlabel(\\\"MDI Importance\\\")\\n# plt.ylabel(\\\"Permutation Importance\\\")\\n# for i, feature in enumerate(x.columns):\\n#     plt.text(mdi_importances_mean[i], perm_importances_mean[i], feature, fontsize=9)\\n# plt.grid(True)\\n# plt.show()\";\n",
       "                var nbb_cells = Jupyter.notebook.get_cells();\n",
       "                for (var i = 0; i < nbb_cells.length; ++i) {\n",
       "                    if (nbb_cells[i].input_prompt_number == nbb_cell_id) {\n",
       "                        if (nbb_cells[i].get_text() == nbb_unformatted_code) {\n",
       "                             nbb_cells[i].set_text(nbb_formatted_code);\n",
       "                        }\n",
       "                        break;\n",
       "                    }\n",
       "                }\n",
       "            }, 500);\n",
       "            "
      ],
      "text/plain": [
       "<IPython.core.display.Javascript object>"
      ]
     },
     "metadata": {},
     "output_type": "display_data"
    }
   ],
   "source": [
    "# plt.figure(figsize=(10, 7))\n",
    "# plt.scatter(mdi_importances_mean, perm_importances_mean, color=\"mediumseagreen\")\n",
    "# plt.title(\"MDI vs Permutation Importance\")\n",
    "# plt.xlabel(\"MDI Importance\")\n",
    "# plt.ylabel(\"Permutation Importance\")\n",
    "# for i, feature in enumerate(x.columns):\n",
    "#     plt.text(mdi_importances_mean[i], perm_importances_mean[i], feature, fontsize=9)\n",
    "# plt.grid(True)\n",
    "# plt.show()\n"
   ]
  },
  {
   "cell_type": "code",
   "execution_count": 66,
   "id": "5c1a38c8",
   "metadata": {
    "scrolled": false
   },
   "outputs": [
    {
     "data": {
      "application/javascript": [
       "\n",
       "            setTimeout(function() {\n",
       "                var nbb_cell_id = 66;\n",
       "                var nbb_unformatted_code = \"# plt.figure(figsize=(12, 7))\\n\\n# # Boxplot for MDI Importance\\n# sns.boxplot(data=mdi_importances_df, orient=\\\"h\\\", color=\\\"skyblue\\\", saturation=0.7)\\n# plt.title(\\\"MDI Feature Importance Distribution Across Folds\\\")\\n# plt.xlabel(\\\"Importance Score\\\")\\n# plt.ylabel(\\\"Feature\\\")\\n# plt.tight_layout()\\n# plt.show()\\n\\n# plt.figure(figsize=(12, 7))\\n\\n# # Boxplot for Permutation Importance\\n# sns.boxplot(data=perm_importances_df, orient=\\\"h\\\", color=\\\"salmon\\\", saturation=0.7)\\n# plt.title(\\\"Permutation Feature Importance Distribution Across Folds\\\")\\n# plt.xlabel(\\\"Importance Score\\\")\\n# plt.ylabel(\\\"Feature\\\")\\n# plt.tight_layout()\\n# plt.show()\";\n",
       "                var nbb_formatted_code = \"# plt.figure(figsize=(12, 7))\\n\\n# # Boxplot for MDI Importance\\n# sns.boxplot(data=mdi_importances_df, orient=\\\"h\\\", color=\\\"skyblue\\\", saturation=0.7)\\n# plt.title(\\\"MDI Feature Importance Distribution Across Folds\\\")\\n# plt.xlabel(\\\"Importance Score\\\")\\n# plt.ylabel(\\\"Feature\\\")\\n# plt.tight_layout()\\n# plt.show()\\n\\n# plt.figure(figsize=(12, 7))\\n\\n# # Boxplot for Permutation Importance\\n# sns.boxplot(data=perm_importances_df, orient=\\\"h\\\", color=\\\"salmon\\\", saturation=0.7)\\n# plt.title(\\\"Permutation Feature Importance Distribution Across Folds\\\")\\n# plt.xlabel(\\\"Importance Score\\\")\\n# plt.ylabel(\\\"Feature\\\")\\n# plt.tight_layout()\\n# plt.show()\";\n",
       "                var nbb_cells = Jupyter.notebook.get_cells();\n",
       "                for (var i = 0; i < nbb_cells.length; ++i) {\n",
       "                    if (nbb_cells[i].input_prompt_number == nbb_cell_id) {\n",
       "                        if (nbb_cells[i].get_text() == nbb_unformatted_code) {\n",
       "                             nbb_cells[i].set_text(nbb_formatted_code);\n",
       "                        }\n",
       "                        break;\n",
       "                    }\n",
       "                }\n",
       "            }, 500);\n",
       "            "
      ],
      "text/plain": [
       "<IPython.core.display.Javascript object>"
      ]
     },
     "metadata": {},
     "output_type": "display_data"
    }
   ],
   "source": [
    "# plt.figure(figsize=(12, 7))\n",
    "\n",
    "# # Boxplot for MDI Importance\n",
    "# sns.boxplot(data=mdi_importances_df, orient=\"h\", color=\"skyblue\", saturation=0.7)\n",
    "# plt.title(\"MDI Feature Importance Distribution Across Folds\")\n",
    "# plt.xlabel(\"Importance Score\")\n",
    "# plt.ylabel(\"Feature\")\n",
    "# plt.tight_layout()\n",
    "# plt.show()\n",
    "\n",
    "# plt.figure(figsize=(12, 7))\n",
    "\n",
    "# # Boxplot for Permutation Importance\n",
    "# sns.boxplot(data=perm_importances_df, orient=\"h\", color=\"salmon\", saturation=0.7)\n",
    "# plt.title(\"Permutation Feature Importance Distribution Across Folds\")\n",
    "# plt.xlabel(\"Importance Score\")\n",
    "# plt.ylabel(\"Feature\")\n",
    "# plt.tight_layout()\n",
    "# plt.show()\n"
   ]
  },
  {
   "cell_type": "code",
   "execution_count": 67,
   "id": "bac66025",
   "metadata": {},
   "outputs": [
    {
     "data": {
      "application/javascript": [
       "\n",
       "            setTimeout(function() {\n",
       "                var nbb_cell_id = 67;\n",
       "                var nbb_unformatted_code = \"# # Compute the mean and standard deviation of importance values over all folds\\n# mdi_importances_mean = mdi_importances_df.mean(axis=0)\\n# mdi_importances_std = mdi_importances_df.std(axis=0)\\n# perm_importances_mean = perm_importances_df.mean(axis=0)\\n# perm_importances_std = perm_importances_df.std(axis=0)\";\n",
       "                var nbb_formatted_code = \"# # Compute the mean and standard deviation of importance values over all folds\\n# mdi_importances_mean = mdi_importances_df.mean(axis=0)\\n# mdi_importances_std = mdi_importances_df.std(axis=0)\\n# perm_importances_mean = perm_importances_df.mean(axis=0)\\n# perm_importances_std = perm_importances_df.std(axis=0)\";\n",
       "                var nbb_cells = Jupyter.notebook.get_cells();\n",
       "                for (var i = 0; i < nbb_cells.length; ++i) {\n",
       "                    if (nbb_cells[i].input_prompt_number == nbb_cell_id) {\n",
       "                        if (nbb_cells[i].get_text() == nbb_unformatted_code) {\n",
       "                             nbb_cells[i].set_text(nbb_formatted_code);\n",
       "                        }\n",
       "                        break;\n",
       "                    }\n",
       "                }\n",
       "            }, 500);\n",
       "            "
      ],
      "text/plain": [
       "<IPython.core.display.Javascript object>"
      ]
     },
     "metadata": {},
     "output_type": "display_data"
    }
   ],
   "source": [
    "# # Compute the mean and standard deviation of importance values over all folds\n",
    "# mdi_importances_mean = mdi_importances_df.mean(axis=0)\n",
    "# mdi_importances_std = mdi_importances_df.std(axis=0)\n",
    "# perm_importances_mean = perm_importances_df.mean(axis=0)\n",
    "# perm_importances_std = perm_importances_df.std(axis=0)"
   ]
  },
  {
   "cell_type": "code",
   "execution_count": 68,
   "id": "2a7c4cc0",
   "metadata": {},
   "outputs": [
    {
     "data": {
      "application/javascript": [
       "\n",
       "            setTimeout(function() {\n",
       "                var nbb_cell_id = 68;\n",
       "                var nbb_unformatted_code = \"# # Create a combined DataFrame for plotting\\n# importances_df = pd.DataFrame({\\n#     \\\"Feature\\\": x.columns,\\n#     \\\"MDI Importance Mean\\\": mdi_importances_mean,\\n#     \\\"MDI Importance Std\\\": mdi_importances_std,\\n#     \\\"Permutation Importance Mean\\\": perm_importances_mean,\\n#     \\\"Permutation Importance Std\\\": perm_importances_std\\n# }).sort_values(by=\\\"Permutation Importance Mean\\\", ascending=False)\\n\\n# # Plot the mean importance values with standard deviation as error bars\\n# fig, ax = plt.subplots(figsize=(10, 5.5))\\n# importances_df.plot.barh(\\n#     x=\\\"Feature\\\", \\n#     y=[\\\"MDI Importance Mean\\\", \\\"Permutation Importance Mean\\\"], \\n#     xerr={\\\"MDI Importance Mean\\\": importances_df[\\\"MDI Importance Std\\\"],\\n#           \\\"Permutation Importance Mean\\\": importances_df[\\\"Permutation Importance Std\\\"]},\\n#     color=[\\\"skyblue\\\", \\\"salmon\\\"], \\n#     ax=ax\\n# )\\n# ax.set_title(\\\"Feature Importance: Mean MDI vs Permutation with Standard Deviation\\\")\\n# ax.set_xlabel(\\\"Importance Score\\\")\\n# plt.tight_layout()\\n# plt.show()\";\n",
       "                var nbb_formatted_code = \"# # Create a combined DataFrame for plotting\\n# importances_df = pd.DataFrame({\\n#     \\\"Feature\\\": x.columns,\\n#     \\\"MDI Importance Mean\\\": mdi_importances_mean,\\n#     \\\"MDI Importance Std\\\": mdi_importances_std,\\n#     \\\"Permutation Importance Mean\\\": perm_importances_mean,\\n#     \\\"Permutation Importance Std\\\": perm_importances_std\\n# }).sort_values(by=\\\"Permutation Importance Mean\\\", ascending=False)\\n\\n# # Plot the mean importance values with standard deviation as error bars\\n# fig, ax = plt.subplots(figsize=(10, 5.5))\\n# importances_df.plot.barh(\\n#     x=\\\"Feature\\\",\\n#     y=[\\\"MDI Importance Mean\\\", \\\"Permutation Importance Mean\\\"],\\n#     xerr={\\\"MDI Importance Mean\\\": importances_df[\\\"MDI Importance Std\\\"],\\n#           \\\"Permutation Importance Mean\\\": importances_df[\\\"Permutation Importance Std\\\"]},\\n#     color=[\\\"skyblue\\\", \\\"salmon\\\"],\\n#     ax=ax\\n# )\\n# ax.set_title(\\\"Feature Importance: Mean MDI vs Permutation with Standard Deviation\\\")\\n# ax.set_xlabel(\\\"Importance Score\\\")\\n# plt.tight_layout()\\n# plt.show()\";\n",
       "                var nbb_cells = Jupyter.notebook.get_cells();\n",
       "                for (var i = 0; i < nbb_cells.length; ++i) {\n",
       "                    if (nbb_cells[i].input_prompt_number == nbb_cell_id) {\n",
       "                        if (nbb_cells[i].get_text() == nbb_unformatted_code) {\n",
       "                             nbb_cells[i].set_text(nbb_formatted_code);\n",
       "                        }\n",
       "                        break;\n",
       "                    }\n",
       "                }\n",
       "            }, 500);\n",
       "            "
      ],
      "text/plain": [
       "<IPython.core.display.Javascript object>"
      ]
     },
     "metadata": {},
     "output_type": "display_data"
    }
   ],
   "source": [
    "# # Create a combined DataFrame for plotting\n",
    "# importances_df = pd.DataFrame({\n",
    "#     \"Feature\": x.columns,\n",
    "#     \"MDI Importance Mean\": mdi_importances_mean,\n",
    "#     \"MDI Importance Std\": mdi_importances_std,\n",
    "#     \"Permutation Importance Mean\": perm_importances_mean,\n",
    "#     \"Permutation Importance Std\": perm_importances_std\n",
    "# }).sort_values(by=\"Permutation Importance Mean\", ascending=False)\n",
    "\n",
    "# # Plot the mean importance values with standard deviation as error bars\n",
    "# fig, ax = plt.subplots(figsize=(10, 5.5))\n",
    "# importances_df.plot.barh(\n",
    "#     x=\"Feature\", \n",
    "#     y=[\"MDI Importance Mean\", \"Permutation Importance Mean\"], \n",
    "#     xerr={\"MDI Importance Mean\": importances_df[\"MDI Importance Std\"],\n",
    "#           \"Permutation Importance Mean\": importances_df[\"Permutation Importance Std\"]},\n",
    "#     color=[\"skyblue\", \"salmon\"], \n",
    "#     ax=ax\n",
    "# )\n",
    "# ax.set_title(\"Feature Importance: Mean MDI vs Permutation with Standard Deviation\")\n",
    "# ax.set_xlabel(\"Importance Score\")\n",
    "# plt.tight_layout()\n",
    "# plt.show()\n"
   ]
  },
  {
   "cell_type": "code",
   "execution_count": 69,
   "id": "1bd2d238",
   "metadata": {},
   "outputs": [
    {
     "data": {
      "application/javascript": [
       "\n",
       "            setTimeout(function() {\n",
       "                var nbb_cell_id = 69;\n",
       "                var nbb_unformatted_code = \"# mdi_importances_std\";\n",
       "                var nbb_formatted_code = \"# mdi_importances_std\";\n",
       "                var nbb_cells = Jupyter.notebook.get_cells();\n",
       "                for (var i = 0; i < nbb_cells.length; ++i) {\n",
       "                    if (nbb_cells[i].input_prompt_number == nbb_cell_id) {\n",
       "                        if (nbb_cells[i].get_text() == nbb_unformatted_code) {\n",
       "                             nbb_cells[i].set_text(nbb_formatted_code);\n",
       "                        }\n",
       "                        break;\n",
       "                    }\n",
       "                }\n",
       "            }, 500);\n",
       "            "
      ],
      "text/plain": [
       "<IPython.core.display.Javascript object>"
      ]
     },
     "metadata": {},
     "output_type": "display_data"
    }
   ],
   "source": [
    "# mdi_importances_std"
   ]
  },
  {
   "cell_type": "code",
   "execution_count": 70,
   "id": "9109f586",
   "metadata": {},
   "outputs": [
    {
     "data": {
      "application/javascript": [
       "\n",
       "            setTimeout(function() {\n",
       "                var nbb_cell_id = 70;\n",
       "                var nbb_unformatted_code = \"# perm_importances_std\";\n",
       "                var nbb_formatted_code = \"# perm_importances_std\";\n",
       "                var nbb_cells = Jupyter.notebook.get_cells();\n",
       "                for (var i = 0; i < nbb_cells.length; ++i) {\n",
       "                    if (nbb_cells[i].input_prompt_number == nbb_cell_id) {\n",
       "                        if (nbb_cells[i].get_text() == nbb_unformatted_code) {\n",
       "                             nbb_cells[i].set_text(nbb_formatted_code);\n",
       "                        }\n",
       "                        break;\n",
       "                    }\n",
       "                }\n",
       "            }, 500);\n",
       "            "
      ],
      "text/plain": [
       "<IPython.core.display.Javascript object>"
      ]
     },
     "metadata": {},
     "output_type": "display_data"
    }
   ],
   "source": [
    "# perm_importances_std"
   ]
  },
  {
   "cell_type": "code",
   "execution_count": 71,
   "id": "69cbdd74",
   "metadata": {},
   "outputs": [
    {
     "data": {
      "application/javascript": [
       "\n",
       "            setTimeout(function() {\n",
       "                var nbb_cell_id = 71;\n",
       "                var nbb_unformatted_code = \"# fig, ax = plt.subplots(figsize=(12, 8))\\n# ax.barh(importances_df[\\\"Feature\\\"], importances_df[\\\"MDI Importance Mean\\\"], xerr=importances_df[\\\"MDI Importance Std\\\"], color=\\\"skyblue\\\", alpha=0.7, label=\\\"MDI Importance\\\")\\n# ax.barh(importances_df[\\\"Feature\\\"], importances_df[\\\"Permutation Importance Mean\\\"], xerr=importances_df[\\\"Permutation Importance Std\\\"], color=\\\"salmon\\\", alpha=0.7, label=\\\"Permutation Importance\\\")\\n# ax.set_title(\\\"Feature Importance: MDI vs Permutation with Standard Deviation\\\")\\n# ax.set_xlabel(\\\"Importance Score\\\")\\n# ax.legend()\\n# plt.tight_layout()\\n# plt.show()\";\n",
       "                var nbb_formatted_code = \"# fig, ax = plt.subplots(figsize=(12, 8))\\n# ax.barh(importances_df[\\\"Feature\\\"], importances_df[\\\"MDI Importance Mean\\\"], xerr=importances_df[\\\"MDI Importance Std\\\"], color=\\\"skyblue\\\", alpha=0.7, label=\\\"MDI Importance\\\")\\n# ax.barh(importances_df[\\\"Feature\\\"], importances_df[\\\"Permutation Importance Mean\\\"], xerr=importances_df[\\\"Permutation Importance Std\\\"], color=\\\"salmon\\\", alpha=0.7, label=\\\"Permutation Importance\\\")\\n# ax.set_title(\\\"Feature Importance: MDI vs Permutation with Standard Deviation\\\")\\n# ax.set_xlabel(\\\"Importance Score\\\")\\n# ax.legend()\\n# plt.tight_layout()\\n# plt.show()\";\n",
       "                var nbb_cells = Jupyter.notebook.get_cells();\n",
       "                for (var i = 0; i < nbb_cells.length; ++i) {\n",
       "                    if (nbb_cells[i].input_prompt_number == nbb_cell_id) {\n",
       "                        if (nbb_cells[i].get_text() == nbb_unformatted_code) {\n",
       "                             nbb_cells[i].set_text(nbb_formatted_code);\n",
       "                        }\n",
       "                        break;\n",
       "                    }\n",
       "                }\n",
       "            }, 500);\n",
       "            "
      ],
      "text/plain": [
       "<IPython.core.display.Javascript object>"
      ]
     },
     "metadata": {},
     "output_type": "display_data"
    }
   ],
   "source": [
    "# fig, ax = plt.subplots(figsize=(12, 8))\n",
    "# ax.barh(importances_df[\"Feature\"], importances_df[\"MDI Importance Mean\"], xerr=importances_df[\"MDI Importance Std\"], color=\"skyblue\", alpha=0.7, label=\"MDI Importance\")\n",
    "# ax.barh(importances_df[\"Feature\"], importances_df[\"Permutation Importance Mean\"], xerr=importances_df[\"Permutation Importance Std\"], color=\"salmon\", alpha=0.7, label=\"Permutation Importance\")\n",
    "# ax.set_title(\"Feature Importance: MDI vs Permutation with Standard Deviation\")\n",
    "# ax.set_xlabel(\"Importance Score\")\n",
    "# ax.legend()\n",
    "# plt.tight_layout()\n",
    "# plt.show()\n"
   ]
  },
  {
   "cell_type": "code",
   "execution_count": 72,
   "id": "e9bd8e78",
   "metadata": {},
   "outputs": [
    {
     "data": {
      "application/javascript": [
       "\n",
       "            setTimeout(function() {\n",
       "                var nbb_cell_id = 72;\n",
       "                var nbb_unformatted_code = \"# stacked_importances = pd.concat([\\n#     mdi_importances_df.melt(var_name='Feature', value_name='Importance').assign(Type='MDI'),\\n#     perm_importances_df.melt(var_name='Feature', value_name='Importance').assign(Type='Permutation')],\\n#     axis=0\\n# )\\n\\n# g = sns.FacetGrid(stacked_importances, row=\\\"Type\\\", aspect=2, height=4, sharex=True, sharey=True)\\n# g.map(sns.boxplot, \\\"Importance\\\", \\\"Feature\\\", palette=[\\\"skyblue\\\", \\\"salmon\\\"], orient=\\\"h\\\")\\n# g.add_legend()\\n# g.fig.subplots_adjust(top=0.9)\\n# g.fig.suptitle(\\\"Feature Importance Distribution Across Folds (MDI vs Permutation)\\\")\\n# plt.show()\";\n",
       "                var nbb_formatted_code = \"# stacked_importances = pd.concat([\\n#     mdi_importances_df.melt(var_name='Feature', value_name='Importance').assign(Type='MDI'),\\n#     perm_importances_df.melt(var_name='Feature', value_name='Importance').assign(Type='Permutation')],\\n#     axis=0\\n# )\\n\\n# g = sns.FacetGrid(stacked_importances, row=\\\"Type\\\", aspect=2, height=4, sharex=True, sharey=True)\\n# g.map(sns.boxplot, \\\"Importance\\\", \\\"Feature\\\", palette=[\\\"skyblue\\\", \\\"salmon\\\"], orient=\\\"h\\\")\\n# g.add_legend()\\n# g.fig.subplots_adjust(top=0.9)\\n# g.fig.suptitle(\\\"Feature Importance Distribution Across Folds (MDI vs Permutation)\\\")\\n# plt.show()\";\n",
       "                var nbb_cells = Jupyter.notebook.get_cells();\n",
       "                for (var i = 0; i < nbb_cells.length; ++i) {\n",
       "                    if (nbb_cells[i].input_prompt_number == nbb_cell_id) {\n",
       "                        if (nbb_cells[i].get_text() == nbb_unformatted_code) {\n",
       "                             nbb_cells[i].set_text(nbb_formatted_code);\n",
       "                        }\n",
       "                        break;\n",
       "                    }\n",
       "                }\n",
       "            }, 500);\n",
       "            "
      ],
      "text/plain": [
       "<IPython.core.display.Javascript object>"
      ]
     },
     "metadata": {},
     "output_type": "display_data"
    }
   ],
   "source": [
    "# stacked_importances = pd.concat([\n",
    "#     mdi_importances_df.melt(var_name='Feature', value_name='Importance').assign(Type='MDI'),\n",
    "#     perm_importances_df.melt(var_name='Feature', value_name='Importance').assign(Type='Permutation')],\n",
    "#     axis=0\n",
    "# )\n",
    "\n",
    "# g = sns.FacetGrid(stacked_importances, row=\"Type\", aspect=2, height=4, sharex=True, sharey=True)\n",
    "# g.map(sns.boxplot, \"Importance\", \"Feature\", palette=[\"skyblue\", \"salmon\"], orient=\"h\")\n",
    "# g.add_legend()\n",
    "# g.fig.subplots_adjust(top=0.9)\n",
    "# g.fig.suptitle(\"Feature Importance Distribution Across Folds (MDI vs Permutation)\")\n",
    "# plt.show()\n"
   ]
  },
  {
   "cell_type": "code",
   "execution_count": 73,
   "id": "55267cb0",
   "metadata": {},
   "outputs": [
    {
     "data": {
      "application/javascript": [
       "\n",
       "            setTimeout(function() {\n",
       "                var nbb_cell_id = 73;\n",
       "                var nbb_unformatted_code = \"# mdi_importances_df\";\n",
       "                var nbb_formatted_code = \"# mdi_importances_df\";\n",
       "                var nbb_cells = Jupyter.notebook.get_cells();\n",
       "                for (var i = 0; i < nbb_cells.length; ++i) {\n",
       "                    if (nbb_cells[i].input_prompt_number == nbb_cell_id) {\n",
       "                        if (nbb_cells[i].get_text() == nbb_unformatted_code) {\n",
       "                             nbb_cells[i].set_text(nbb_formatted_code);\n",
       "                        }\n",
       "                        break;\n",
       "                    }\n",
       "                }\n",
       "            }, 500);\n",
       "            "
      ],
      "text/plain": [
       "<IPython.core.display.Javascript object>"
      ]
     },
     "metadata": {},
     "output_type": "display_data"
    }
   ],
   "source": [
    "# mdi_importances_df"
   ]
  },
  {
   "cell_type": "code",
   "execution_count": 74,
   "id": "065b9fac",
   "metadata": {},
   "outputs": [
    {
     "data": {
      "application/javascript": [
       "\n",
       "            setTimeout(function() {\n",
       "                var nbb_cell_id = 74;\n",
       "                var nbb_unformatted_code = \"# stacked_importances = pd.concat([\\n#     mdi_importances_df.melt(var_name='Variable', value_name='Importance').assign(Type='MDI'),\\n#     perm_importances_df.melt(var_name='Variable', value_name='Importance').assign(Type='Permutation')],\\n#     axis=0\\n# )\\n\\n# g = sns.FacetGrid(stacked_importances, row=\\\"Type\\\", aspect=2, height=4, sharex=True, sharey=True)\\n# g.map(sns.boxplot, \\\"Importance\\\", \\\"Variable\\\", palette=[\\\"skyblue\\\", \\\"salmon\\\"], orient=\\\"h\\\")\\n# g.add_legend()\\n# #sns.despine(trim=True, left=False)\\n# #plt.subplots_adjust(left=0.3)\\n\\n# g.fig.subplots_adjust(top=0.9)\\n# g.fig.suptitle(\\\"Variable Importance Distribution Across Folds (MDI vs Permutation)\\\")\\n# plt.show()\";\n",
       "                var nbb_formatted_code = \"# stacked_importances = pd.concat([\\n#     mdi_importances_df.melt(var_name='Variable', value_name='Importance').assign(Type='MDI'),\\n#     perm_importances_df.melt(var_name='Variable', value_name='Importance').assign(Type='Permutation')],\\n#     axis=0\\n# )\\n\\n# g = sns.FacetGrid(stacked_importances, row=\\\"Type\\\", aspect=2, height=4, sharex=True, sharey=True)\\n# g.map(sns.boxplot, \\\"Importance\\\", \\\"Variable\\\", palette=[\\\"skyblue\\\", \\\"salmon\\\"], orient=\\\"h\\\")\\n# g.add_legend()\\n# #sns.despine(trim=True, left=False)\\n# #plt.subplots_adjust(left=0.3)\\n\\n# g.fig.subplots_adjust(top=0.9)\\n# g.fig.suptitle(\\\"Variable Importance Distribution Across Folds (MDI vs Permutation)\\\")\\n# plt.show()\";\n",
       "                var nbb_cells = Jupyter.notebook.get_cells();\n",
       "                for (var i = 0; i < nbb_cells.length; ++i) {\n",
       "                    if (nbb_cells[i].input_prompt_number == nbb_cell_id) {\n",
       "                        if (nbb_cells[i].get_text() == nbb_unformatted_code) {\n",
       "                             nbb_cells[i].set_text(nbb_formatted_code);\n",
       "                        }\n",
       "                        break;\n",
       "                    }\n",
       "                }\n",
       "            }, 500);\n",
       "            "
      ],
      "text/plain": [
       "<IPython.core.display.Javascript object>"
      ]
     },
     "metadata": {},
     "output_type": "display_data"
    }
   ],
   "source": [
    "# stacked_importances = pd.concat([\n",
    "#     mdi_importances_df.melt(var_name='Variable', value_name='Importance').assign(Type='MDI'),\n",
    "#     perm_importances_df.melt(var_name='Variable', value_name='Importance').assign(Type='Permutation')],\n",
    "#     axis=0\n",
    "# )\n",
    "\n",
    "# g = sns.FacetGrid(stacked_importances, row=\"Type\", aspect=2, height=4, sharex=True, sharey=True)\n",
    "# g.map(sns.boxplot, \"Importance\", \"Variable\", palette=[\"skyblue\", \"salmon\"], orient=\"h\")\n",
    "# g.add_legend()\n",
    "# #sns.despine(trim=True, left=False)\n",
    "# #plt.subplots_adjust(left=0.3)\n",
    "\n",
    "# g.fig.subplots_adjust(top=0.9)\n",
    "# g.fig.suptitle(\"Variable Importance Distribution Across Folds (MDI vs Permutation)\")\n",
    "# plt.show()\n"
   ]
  },
  {
   "cell_type": "code",
   "execution_count": 75,
   "id": "14c984e9",
   "metadata": {},
   "outputs": [
    {
     "data": {
      "application/javascript": [
       "\n",
       "            setTimeout(function() {\n",
       "                var nbb_cell_id = 75;\n",
       "                var nbb_unformatted_code = \"# stacked_importances = pd.concat([\\n#     mdi_importances_df.melt(var_name='Feature', value_name='Importance').assign(Type='MDI'),\\n#     perm_importances_df.melt(var_name='Feature', value_name='Importance').assign(Type='Permutation')],\\n#     axis=0\\n# )\\n\\n# # FacetGrid with separate colors for MDI and Permutation Importance\\n# g = sns.FacetGrid(stacked_importances, row=\\\"Type\\\", aspect=2, height=4, palette={\\\"MDI\\\": \\\"skyblue\\\", \\\"Permutation\\\": \\\"salmon\\\"}, sharex=True, sharey=True)\\n# g.map(sns.boxplot, \\\"Importance\\\", \\\"Feature\\\", orient=\\\"h\\\")\\n# g.add_legend()\\n# g.fig.subplots_adjust(top=0.9)\\n# g.fig.suptitle(\\\"Feature Importance Distribution Across Folds (MDI vs Permutation)\\\")\\n# plt.show()\";\n",
       "                var nbb_formatted_code = \"# stacked_importances = pd.concat([\\n#     mdi_importances_df.melt(var_name='Feature', value_name='Importance').assign(Type='MDI'),\\n#     perm_importances_df.melt(var_name='Feature', value_name='Importance').assign(Type='Permutation')],\\n#     axis=0\\n# )\\n\\n# # FacetGrid with separate colors for MDI and Permutation Importance\\n# g = sns.FacetGrid(stacked_importances, row=\\\"Type\\\", aspect=2, height=4, palette={\\\"MDI\\\": \\\"skyblue\\\", \\\"Permutation\\\": \\\"salmon\\\"}, sharex=True, sharey=True)\\n# g.map(sns.boxplot, \\\"Importance\\\", \\\"Feature\\\", orient=\\\"h\\\")\\n# g.add_legend()\\n# g.fig.subplots_adjust(top=0.9)\\n# g.fig.suptitle(\\\"Feature Importance Distribution Across Folds (MDI vs Permutation)\\\")\\n# plt.show()\";\n",
       "                var nbb_cells = Jupyter.notebook.get_cells();\n",
       "                for (var i = 0; i < nbb_cells.length; ++i) {\n",
       "                    if (nbb_cells[i].input_prompt_number == nbb_cell_id) {\n",
       "                        if (nbb_cells[i].get_text() == nbb_unformatted_code) {\n",
       "                             nbb_cells[i].set_text(nbb_formatted_code);\n",
       "                        }\n",
       "                        break;\n",
       "                    }\n",
       "                }\n",
       "            }, 500);\n",
       "            "
      ],
      "text/plain": [
       "<IPython.core.display.Javascript object>"
      ]
     },
     "metadata": {},
     "output_type": "display_data"
    }
   ],
   "source": [
    "# stacked_importances = pd.concat([\n",
    "#     mdi_importances_df.melt(var_name='Feature', value_name='Importance').assign(Type='MDI'),\n",
    "#     perm_importances_df.melt(var_name='Feature', value_name='Importance').assign(Type='Permutation')],\n",
    "#     axis=0\n",
    "# )\n",
    "\n",
    "# # FacetGrid with separate colors for MDI and Permutation Importance\n",
    "# g = sns.FacetGrid(stacked_importances, row=\"Type\", aspect=2, height=4, palette={\"MDI\": \"skyblue\", \"Permutation\": \"salmon\"}, sharex=True, sharey=True)\n",
    "# g.map(sns.boxplot, \"Importance\", \"Feature\", orient=\"h\")\n",
    "# g.add_legend()\n",
    "# g.fig.subplots_adjust(top=0.9)\n",
    "# g.fig.suptitle(\"Feature Importance Distribution Across Folds (MDI vs Permutation)\")\n",
    "# plt.show()\n"
   ]
  },
  {
   "cell_type": "code",
   "execution_count": 76,
   "id": "1111c458",
   "metadata": {},
   "outputs": [
    {
     "data": {
      "application/javascript": [
       "\n",
       "            setTimeout(function() {\n",
       "                var nbb_cell_id = 76;\n",
       "                var nbb_unformatted_code = \"# stacked_importances = pd.concat([\\n#     mdi_importances_df.melt(var_name='Feature', value_name='Importance').assign(Type='MDI'),\\n#     perm_importances_df.melt(var_name='Feature', value_name='Importance').assign(Type='Permutation')],\\n#     axis=0\\n# )\\n\\n# # Plot with hue to control color by importance type\\n# plt.figure(figsize=(12, 7))\\n# sns.boxplot(x=\\\"Importance\\\", y=\\\"Feature\\\", hue=\\\"Type\\\", data=stacked_importances, palette={\\\"MDI\\\": \\\"skyblue\\\", \\\"Permutation\\\": \\\"salmon\\\"}, orient=\\\"h\\\")\\n# plt.title(\\\"Feature Importance Distribution Across Folds (MDI vs Permutation)\\\")\\n# plt.xlabel(\\\"Importance Score\\\")\\n# plt.tight_layout()\\n# plt.show()\";\n",
       "                var nbb_formatted_code = \"# stacked_importances = pd.concat([\\n#     mdi_importances_df.melt(var_name='Feature', value_name='Importance').assign(Type='MDI'),\\n#     perm_importances_df.melt(var_name='Feature', value_name='Importance').assign(Type='Permutation')],\\n#     axis=0\\n# )\\n\\n# # Plot with hue to control color by importance type\\n# plt.figure(figsize=(12, 7))\\n# sns.boxplot(x=\\\"Importance\\\", y=\\\"Feature\\\", hue=\\\"Type\\\", data=stacked_importances, palette={\\\"MDI\\\": \\\"skyblue\\\", \\\"Permutation\\\": \\\"salmon\\\"}, orient=\\\"h\\\")\\n# plt.title(\\\"Feature Importance Distribution Across Folds (MDI vs Permutation)\\\")\\n# plt.xlabel(\\\"Importance Score\\\")\\n# plt.tight_layout()\\n# plt.show()\";\n",
       "                var nbb_cells = Jupyter.notebook.get_cells();\n",
       "                for (var i = 0; i < nbb_cells.length; ++i) {\n",
       "                    if (nbb_cells[i].input_prompt_number == nbb_cell_id) {\n",
       "                        if (nbb_cells[i].get_text() == nbb_unformatted_code) {\n",
       "                             nbb_cells[i].set_text(nbb_formatted_code);\n",
       "                        }\n",
       "                        break;\n",
       "                    }\n",
       "                }\n",
       "            }, 500);\n",
       "            "
      ],
      "text/plain": [
       "<IPython.core.display.Javascript object>"
      ]
     },
     "metadata": {},
     "output_type": "display_data"
    }
   ],
   "source": [
    "# stacked_importances = pd.concat([\n",
    "#     mdi_importances_df.melt(var_name='Feature', value_name='Importance').assign(Type='MDI'),\n",
    "#     perm_importances_df.melt(var_name='Feature', value_name='Importance').assign(Type='Permutation')],\n",
    "#     axis=0\n",
    "# )\n",
    "\n",
    "# # Plot with hue to control color by importance type\n",
    "# plt.figure(figsize=(12, 7))\n",
    "# sns.boxplot(x=\"Importance\", y=\"Feature\", hue=\"Type\", data=stacked_importances, palette={\"MDI\": \"skyblue\", \"Permutation\": \"salmon\"}, orient=\"h\")\n",
    "# plt.title(\"Feature Importance Distribution Across Folds (MDI vs Permutation)\")\n",
    "# plt.xlabel(\"Importance Score\")\n",
    "# plt.tight_layout()\n",
    "# plt.show()\n"
   ]
  },
  {
   "cell_type": "code",
   "execution_count": 77,
   "id": "0cdb59fd",
   "metadata": {
    "scrolled": false
   },
   "outputs": [
    {
     "data": {
      "application/javascript": [
       "\n",
       "            setTimeout(function() {\n",
       "                var nbb_cell_id = 77;\n",
       "                var nbb_unformatted_code = \"# # Plot for MDI Relevance\\n# plt.figure(figsize=(12, 7))\\n# sns.boxplot(data=mdi_importances_df, orient=\\\"h\\\", color=\\\"skyblue\\\")\\n# plt.title(\\\"MDI Feature Relevance Distribution Across Folds\\\")\\n# plt.xlabel(\\\"Relevance Score\\\")\\n# plt.ylabel(\\\"Feature\\\")\\n# plt.tight_layout()\\n# plt.show()\\n\\n# # Plot for Permutation Relevance\\n# plt.figure(figsize=(12, 7))\\n# sns.boxplot(data=perm_importances_df, orient=\\\"h\\\", color=\\\"salmon\\\")\\n# plt.title(\\\"Permutation Feature Relevance Distribution Across Folds\\\")\\n# plt.xlabel(\\\"Relevance Score\\\")\\n# plt.ylabel(\\\"Feature\\\")\\n# plt.tight_layout()\\n# plt.show()\";\n",
       "                var nbb_formatted_code = \"# # Plot for MDI Relevance\\n# plt.figure(figsize=(12, 7))\\n# sns.boxplot(data=mdi_importances_df, orient=\\\"h\\\", color=\\\"skyblue\\\")\\n# plt.title(\\\"MDI Feature Relevance Distribution Across Folds\\\")\\n# plt.xlabel(\\\"Relevance Score\\\")\\n# plt.ylabel(\\\"Feature\\\")\\n# plt.tight_layout()\\n# plt.show()\\n\\n# # Plot for Permutation Relevance\\n# plt.figure(figsize=(12, 7))\\n# sns.boxplot(data=perm_importances_df, orient=\\\"h\\\", color=\\\"salmon\\\")\\n# plt.title(\\\"Permutation Feature Relevance Distribution Across Folds\\\")\\n# plt.xlabel(\\\"Relevance Score\\\")\\n# plt.ylabel(\\\"Feature\\\")\\n# plt.tight_layout()\\n# plt.show()\";\n",
       "                var nbb_cells = Jupyter.notebook.get_cells();\n",
       "                for (var i = 0; i < nbb_cells.length; ++i) {\n",
       "                    if (nbb_cells[i].input_prompt_number == nbb_cell_id) {\n",
       "                        if (nbb_cells[i].get_text() == nbb_unformatted_code) {\n",
       "                             nbb_cells[i].set_text(nbb_formatted_code);\n",
       "                        }\n",
       "                        break;\n",
       "                    }\n",
       "                }\n",
       "            }, 500);\n",
       "            "
      ],
      "text/plain": [
       "<IPython.core.display.Javascript object>"
      ]
     },
     "metadata": {},
     "output_type": "display_data"
    }
   ],
   "source": [
    "# # Plot for MDI Relevance\n",
    "# plt.figure(figsize=(12, 7))\n",
    "# sns.boxplot(data=mdi_importances_df, orient=\"h\", color=\"skyblue\")\n",
    "# plt.title(\"MDI Feature Relevance Distribution Across Folds\")\n",
    "# plt.xlabel(\"Relevance Score\")\n",
    "# plt.ylabel(\"Feature\")\n",
    "# plt.tight_layout()\n",
    "# plt.show()\n",
    "\n",
    "# # Plot for Permutation Relevance\n",
    "# plt.figure(figsize=(12, 7))\n",
    "# sns.boxplot(data=perm_importances_df, orient=\"h\", color=\"salmon\")\n",
    "# plt.title(\"Permutation Feature Relevance Distribution Across Folds\")\n",
    "# plt.xlabel(\"Relevance Score\")\n",
    "# plt.ylabel(\"Feature\")\n",
    "# plt.tight_layout()\n",
    "# plt.show()\n"
   ]
  },
  {
   "cell_type": "code",
   "execution_count": 78,
   "id": "bfd13d43",
   "metadata": {
    "scrolled": false
   },
   "outputs": [
    {
     "data": {
      "application/javascript": [
       "\n",
       "            setTimeout(function() {\n",
       "                var nbb_cell_id = 78;\n",
       "                var nbb_unformatted_code = \"# # Plot for MDI Relevance with a new color\\n# plt.figure(figsize=(12, 7))\\n# sns.boxplot(data=mdi_importances_df, orient=\\\"h\\\", color=\\\"steelblue\\\")\\n# plt.title(\\\"MDI Feature Relevance Distribution Across Folds\\\")\\n# plt.xlabel(\\\"Relevance Score\\\")\\n# plt.ylabel(\\\"Feature\\\")\\n# plt.tight_layout()\\n# plt.show()\\n\\n# # Plot for Permutation Importance Relevance with a contrasting color\\n# plt.figure(figsize=(12, 7))\\n# sns.boxplot(data=perm_importances_df, orient=\\\"h\\\", color=\\\"salmon\\\")\\n# plt.title(\\\"Permutation Feature Relevance Distribution Across Folds\\\")\\n# plt.xlabel(\\\"Relevance Score\\\")\\n# plt.ylabel(\\\"Feature\\\")\\n# plt.tight_layout()\\n# plt.show()\";\n",
       "                var nbb_formatted_code = \"# # Plot for MDI Relevance with a new color\\n# plt.figure(figsize=(12, 7))\\n# sns.boxplot(data=mdi_importances_df, orient=\\\"h\\\", color=\\\"steelblue\\\")\\n# plt.title(\\\"MDI Feature Relevance Distribution Across Folds\\\")\\n# plt.xlabel(\\\"Relevance Score\\\")\\n# plt.ylabel(\\\"Feature\\\")\\n# plt.tight_layout()\\n# plt.show()\\n\\n# # Plot for Permutation Importance Relevance with a contrasting color\\n# plt.figure(figsize=(12, 7))\\n# sns.boxplot(data=perm_importances_df, orient=\\\"h\\\", color=\\\"salmon\\\")\\n# plt.title(\\\"Permutation Feature Relevance Distribution Across Folds\\\")\\n# plt.xlabel(\\\"Relevance Score\\\")\\n# plt.ylabel(\\\"Feature\\\")\\n# plt.tight_layout()\\n# plt.show()\";\n",
       "                var nbb_cells = Jupyter.notebook.get_cells();\n",
       "                for (var i = 0; i < nbb_cells.length; ++i) {\n",
       "                    if (nbb_cells[i].input_prompt_number == nbb_cell_id) {\n",
       "                        if (nbb_cells[i].get_text() == nbb_unformatted_code) {\n",
       "                             nbb_cells[i].set_text(nbb_formatted_code);\n",
       "                        }\n",
       "                        break;\n",
       "                    }\n",
       "                }\n",
       "            }, 500);\n",
       "            "
      ],
      "text/plain": [
       "<IPython.core.display.Javascript object>"
      ]
     },
     "metadata": {},
     "output_type": "display_data"
    }
   ],
   "source": [
    "# # Plot for MDI Relevance with a new color\n",
    "# plt.figure(figsize=(12, 7))\n",
    "# sns.boxplot(data=mdi_importances_df, orient=\"h\", color=\"steelblue\")\n",
    "# plt.title(\"MDI Feature Relevance Distribution Across Folds\")\n",
    "# plt.xlabel(\"Relevance Score\")\n",
    "# plt.ylabel(\"Feature\")\n",
    "# plt.tight_layout()\n",
    "# plt.show()\n",
    "\n",
    "# # Plot for Permutation Importance Relevance with a contrasting color\n",
    "# plt.figure(figsize=(12, 7))\n",
    "# sns.boxplot(data=perm_importances_df, orient=\"h\", color=\"salmon\")\n",
    "# plt.title(\"Permutation Feature Relevance Distribution Across Folds\")\n",
    "# plt.xlabel(\"Relevance Score\")\n",
    "# plt.ylabel(\"Feature\")\n",
    "# plt.tight_layout()\n",
    "# plt.show()\n"
   ]
  },
  {
   "cell_type": "code",
   "execution_count": 79,
   "id": "7f2eb13e",
   "metadata": {},
   "outputs": [
    {
     "data": {
      "application/javascript": [
       "\n",
       "            setTimeout(function() {\n",
       "                var nbb_cell_id = 79;\n",
       "                var nbb_unformatted_code = \"# fig, ax = plt.subplots(figsize=(12, 8))\\n# ax.barh(importances_df[\\\"Feature\\\"], importances_df[\\\"MDI Importance Mean\\\"], xerr=importances_df[\\\"MDI Importance Std\\\"], color=\\\"skyblue\\\", alpha=0.7, label=\\\"MDI Importance\\\")\\n# ax.set_title(\\\"Feature Importance: MDI vs Permutation with Standard Deviation\\\")\\n# ax.set_xlabel(\\\"Importance Score\\\")\\n# ax.legend()\\n# plt.tight_layout()\\n# plt.show()\";\n",
       "                var nbb_formatted_code = \"# fig, ax = plt.subplots(figsize=(12, 8))\\n# ax.barh(importances_df[\\\"Feature\\\"], importances_df[\\\"MDI Importance Mean\\\"], xerr=importances_df[\\\"MDI Importance Std\\\"], color=\\\"skyblue\\\", alpha=0.7, label=\\\"MDI Importance\\\")\\n# ax.set_title(\\\"Feature Importance: MDI vs Permutation with Standard Deviation\\\")\\n# ax.set_xlabel(\\\"Importance Score\\\")\\n# ax.legend()\\n# plt.tight_layout()\\n# plt.show()\";\n",
       "                var nbb_cells = Jupyter.notebook.get_cells();\n",
       "                for (var i = 0; i < nbb_cells.length; ++i) {\n",
       "                    if (nbb_cells[i].input_prompt_number == nbb_cell_id) {\n",
       "                        if (nbb_cells[i].get_text() == nbb_unformatted_code) {\n",
       "                             nbb_cells[i].set_text(nbb_formatted_code);\n",
       "                        }\n",
       "                        break;\n",
       "                    }\n",
       "                }\n",
       "            }, 500);\n",
       "            "
      ],
      "text/plain": [
       "<IPython.core.display.Javascript object>"
      ]
     },
     "metadata": {},
     "output_type": "display_data"
    }
   ],
   "source": [
    "# fig, ax = plt.subplots(figsize=(12, 8))\n",
    "# ax.barh(importances_df[\"Feature\"], importances_df[\"MDI Importance Mean\"], xerr=importances_df[\"MDI Importance Std\"], color=\"skyblue\", alpha=0.7, label=\"MDI Importance\")\n",
    "# ax.set_title(\"Feature Importance: MDI vs Permutation with Standard Deviation\")\n",
    "# ax.set_xlabel(\"Importance Score\")\n",
    "# ax.legend()\n",
    "# plt.tight_layout()\n",
    "# plt.show()\n"
   ]
  },
  {
   "cell_type": "code",
   "execution_count": 80,
   "id": "539d3dc6",
   "metadata": {},
   "outputs": [
    {
     "data": {
      "application/javascript": [
       "\n",
       "            setTimeout(function() {\n",
       "                var nbb_cell_id = 80;\n",
       "                var nbb_unformatted_code = \"# fig, ax = plt.subplots(figsize=(12, 8))\\n# ax.barh(importances_df[\\\"Feature\\\"], importances_df[\\\"Permutation Importance Mean\\\"], xerr=importances_df[\\\"Permutation Importance Std\\\"], color=\\\"salmon\\\", alpha=0.7, label=\\\"Permutation Importance\\\")\\n# ax.set_title(\\\"Feature Importance: MDI vs Permutation with Standard Deviation\\\")\\n# ax.set_xlabel(\\\"Importance Score\\\")\\n# ax.legend()\\n# plt.tight_layout()\\n# plt.show()\";\n",
       "                var nbb_formatted_code = \"# fig, ax = plt.subplots(figsize=(12, 8))\\n# ax.barh(importances_df[\\\"Feature\\\"], importances_df[\\\"Permutation Importance Mean\\\"], xerr=importances_df[\\\"Permutation Importance Std\\\"], color=\\\"salmon\\\", alpha=0.7, label=\\\"Permutation Importance\\\")\\n# ax.set_title(\\\"Feature Importance: MDI vs Permutation with Standard Deviation\\\")\\n# ax.set_xlabel(\\\"Importance Score\\\")\\n# ax.legend()\\n# plt.tight_layout()\\n# plt.show()\";\n",
       "                var nbb_cells = Jupyter.notebook.get_cells();\n",
       "                for (var i = 0; i < nbb_cells.length; ++i) {\n",
       "                    if (nbb_cells[i].input_prompt_number == nbb_cell_id) {\n",
       "                        if (nbb_cells[i].get_text() == nbb_unformatted_code) {\n",
       "                             nbb_cells[i].set_text(nbb_formatted_code);\n",
       "                        }\n",
       "                        break;\n",
       "                    }\n",
       "                }\n",
       "            }, 500);\n",
       "            "
      ],
      "text/plain": [
       "<IPython.core.display.Javascript object>"
      ]
     },
     "metadata": {},
     "output_type": "display_data"
    }
   ],
   "source": [
    "# fig, ax = plt.subplots(figsize=(12, 8))\n",
    "# ax.barh(importances_df[\"Feature\"], importances_df[\"Permutation Importance Mean\"], xerr=importances_df[\"Permutation Importance Std\"], color=\"salmon\", alpha=0.7, label=\"Permutation Importance\")\n",
    "# ax.set_title(\"Feature Importance: MDI vs Permutation with Standard Deviation\")\n",
    "# ax.set_xlabel(\"Importance Score\")\n",
    "# ax.legend()\n",
    "# plt.tight_layout()\n",
    "# plt.show()\n"
   ]
  },
  {
   "cell_type": "code",
   "execution_count": null,
   "id": "0d7b58bc",
   "metadata": {},
   "outputs": [],
   "source": []
  }
 ],
 "metadata": {
  "kernelspec": {
   "display_name": "ccs28-venv",
   "language": "python",
   "name": "ccs28-venv"
  },
  "language_info": {
   "codemirror_mode": {
    "name": "ipython",
    "version": 3
   },
   "file_extension": ".py",
   "mimetype": "text/x-python",
   "name": "python",
   "nbconvert_exporter": "python",
   "pygments_lexer": "ipython3",
   "version": "3.10.12"
  }
 },
 "nbformat": 4,
 "nbformat_minor": 5
}
