{
 "cells": [
  {
   "cell_type": "markdown",
   "id": "35565ecb",
   "metadata": {},
   "source": [
    "# Random Forest - Top model according to the SCPM of -5.20 and dominance count 18"
   ]
  },
  {
   "cell_type": "code",
   "execution_count": 1,
   "id": "2210e4ce",
   "metadata": {},
   "outputs": [
    {
     "data": {
      "application/javascript": [
       "\n",
       "            setTimeout(function() {\n",
       "                var nbb_cell_id = 1;\n",
       "                var nbb_unformatted_code = \"%load_ext nb_black\";\n",
       "                var nbb_formatted_code = \"%load_ext nb_black\";\n",
       "                var nbb_cells = Jupyter.notebook.get_cells();\n",
       "                for (var i = 0; i < nbb_cells.length; ++i) {\n",
       "                    if (nbb_cells[i].input_prompt_number == nbb_cell_id) {\n",
       "                        if (nbb_cells[i].get_text() == nbb_unformatted_code) {\n",
       "                             nbb_cells[i].set_text(nbb_formatted_code);\n",
       "                        }\n",
       "                        break;\n",
       "                    }\n",
       "                }\n",
       "            }, 500);\n",
       "            "
      ],
      "text/plain": [
       "<IPython.core.display.Javascript object>"
      ]
     },
     "metadata": {},
     "output_type": "display_data"
    }
   ],
   "source": [
    "%load_ext nb_black"
   ]
  },
  {
   "cell_type": "code",
   "execution_count": 2,
   "id": "668af128",
   "metadata": {},
   "outputs": [
    {
     "data": {
      "application/javascript": [
       "\n",
       "            setTimeout(function() {\n",
       "                var nbb_cell_id = 2;\n",
       "                var nbb_unformatted_code = \"# Database Reading and Manipulation\\nimport pandas as pd\\n\\n# Linear Algebra\\nimport numpy as np\\n\\n# Plotting\\nimport matplotlib\\nimport matplotlib.pyplot as plt\\nimport seaborn as sns\\n\\n# Model Selection\\nfrom sklearn.model_selection import train_test_split\\nfrom sklearn.model_selection import TimeSeriesSplit\\nfrom sklearn.model_selection import RepeatedKFold\\nfrom sklearn.model_selection import cross_val_score\\nfrom sklearn.model_selection import cross_validate\\nfrom sklearn.model_selection import GridSearchCV\\n\\n# Modeling\\nfrom sklearn.ensemble import RandomForestRegressor\\n\\n# Metrics\\nfrom sklearn.metrics import mean_squared_error\\nfrom sklearn.metrics import mean_absolute_error\\nfrom sklearn.metrics import mean_absolute_percentage_error\\nfrom sklearn.metrics import r2_score\\n\\n# Processing\\nfrom sklearn.preprocessing import StandardScaler\\n\\n\\n# Pipeline\\nfrom sklearn.pipeline import Pipeline\\n\\n# Data imputation\\nfrom sklearn.impute import SimpleImputer\\n\\n# Custom modules\\n## Model selection\\nfrom src.cross_validation.blocking_time_series_split import BlockingTimeSeriesSplit\\n\\n## Function to print scores\\nfrom src.utils.print_scores import print_scores\\n\\n## Function to calculate score regression metrics\\nfrom src.utils.score_regression_metrics import score_regression_metrics\\n\\n## Function to fill the results metric dict\\nfrom src.utils.fill_results_dict import fill_results_dict\\n\\n# Warnings\\nimport warnings\";\n",
       "                var nbb_formatted_code = \"# Database Reading and Manipulation\\nimport pandas as pd\\n\\n# Linear Algebra\\nimport numpy as np\\n\\n# Plotting\\nimport matplotlib\\nimport matplotlib.pyplot as plt\\nimport seaborn as sns\\n\\n# Model Selection\\nfrom sklearn.model_selection import train_test_split\\nfrom sklearn.model_selection import TimeSeriesSplit\\nfrom sklearn.model_selection import RepeatedKFold\\nfrom sklearn.model_selection import cross_val_score\\nfrom sklearn.model_selection import cross_validate\\nfrom sklearn.model_selection import GridSearchCV\\n\\n# Modeling\\nfrom sklearn.ensemble import RandomForestRegressor\\n\\n# Metrics\\nfrom sklearn.metrics import mean_squared_error\\nfrom sklearn.metrics import mean_absolute_error\\nfrom sklearn.metrics import mean_absolute_percentage_error\\nfrom sklearn.metrics import r2_score\\n\\n# Processing\\nfrom sklearn.preprocessing import StandardScaler\\n\\n\\n# Pipeline\\nfrom sklearn.pipeline import Pipeline\\n\\n# Data imputation\\nfrom sklearn.impute import SimpleImputer\\n\\n# Custom modules\\n## Model selection\\nfrom src.cross_validation.blocking_time_series_split import BlockingTimeSeriesSplit\\n\\n## Function to print scores\\nfrom src.utils.print_scores import print_scores\\n\\n## Function to calculate score regression metrics\\nfrom src.utils.score_regression_metrics import score_regression_metrics\\n\\n## Function to fill the results metric dict\\nfrom src.utils.fill_results_dict import fill_results_dict\\n\\n# Warnings\\nimport warnings\";\n",
       "                var nbb_cells = Jupyter.notebook.get_cells();\n",
       "                for (var i = 0; i < nbb_cells.length; ++i) {\n",
       "                    if (nbb_cells[i].input_prompt_number == nbb_cell_id) {\n",
       "                        if (nbb_cells[i].get_text() == nbb_unformatted_code) {\n",
       "                             nbb_cells[i].set_text(nbb_formatted_code);\n",
       "                        }\n",
       "                        break;\n",
       "                    }\n",
       "                }\n",
       "            }, 500);\n",
       "            "
      ],
      "text/plain": [
       "<IPython.core.display.Javascript object>"
      ]
     },
     "metadata": {},
     "output_type": "display_data"
    }
   ],
   "source": [
    "# Database Reading and Manipulation\n",
    "import pandas as pd\n",
    "\n",
    "# Linear Algebra\n",
    "import numpy as np\n",
    "\n",
    "# Plotting\n",
    "import matplotlib\n",
    "import matplotlib.pyplot as plt\n",
    "import seaborn as sns\n",
    "\n",
    "# Model Selection\n",
    "from sklearn.model_selection import train_test_split\n",
    "from sklearn.model_selection import TimeSeriesSplit\n",
    "from sklearn.model_selection import RepeatedKFold\n",
    "from sklearn.model_selection import cross_val_score\n",
    "from sklearn.model_selection import cross_validate\n",
    "from sklearn.model_selection import GridSearchCV\n",
    "\n",
    "# Modeling\n",
    "from sklearn.ensemble import RandomForestRegressor\n",
    "\n",
    "# Metrics\n",
    "from sklearn.metrics import mean_squared_error\n",
    "from sklearn.metrics import mean_absolute_error\n",
    "from sklearn.metrics import mean_absolute_percentage_error\n",
    "from sklearn.metrics import r2_score\n",
    "\n",
    "# Processing\n",
    "from sklearn.preprocessing import StandardScaler\n",
    "\n",
    "\n",
    "# Pipeline\n",
    "from sklearn.pipeline import Pipeline\n",
    "\n",
    "# Data imputation\n",
    "from sklearn.impute import SimpleImputer\n",
    "\n",
    "# Custom modules\n",
    "## Model selection\n",
    "from src.cross_validation.blocking_time_series_split import BlockingTimeSeriesSplit\n",
    "\n",
    "## Function to print scores\n",
    "from src.utils.print_scores import print_scores\n",
    "\n",
    "## Function to calculate score regression metrics\n",
    "from src.utils.score_regression_metrics import score_regression_metrics\n",
    "\n",
    "## Function to fill the results metric dict\n",
    "from src.utils.fill_results_dict import fill_results_dict\n",
    "\n",
    "# Warnings\n",
    "import warnings"
   ]
  },
  {
   "cell_type": "markdown",
   "id": "fe4a2623",
   "metadata": {},
   "source": [
    "# Functions and definitions"
   ]
  },
  {
   "cell_type": "code",
   "execution_count": 3,
   "id": "a89f9fa9",
   "metadata": {},
   "outputs": [
    {
     "data": {
      "application/javascript": [
       "\n",
       "            setTimeout(function() {\n",
       "                var nbb_cell_id = 3;\n",
       "                var nbb_unformatted_code = \"def get_random_forest_df_importances(scores):\\n    importances = {}\\n    importances_with_column = []\\n    columns = x.columns\\n\\n    for index, pipeline in enumerate(scores[\\\"estimator\\\"]):\\n        model = pipeline.named_steps[\\\"estimator\\\"]\\n        importances[index] = model.feature_importances_\\n\\n    for index, importances_vec in importances.items():\\n        importances_col = pd.DataFrame(\\n            {col: [c] for col, c in zip(columns, importances_vec)},\\n            index=[f\\\"Importances - {index}\\\"],\\n        )\\n        importances_with_column.append(importances_col)\\n    df_importances = pd.concat(importances_with_column)\\n\\n    return df_importances\";\n",
       "                var nbb_formatted_code = \"def get_random_forest_df_importances(scores):\\n    importances = {}\\n    importances_with_column = []\\n    columns = x.columns\\n\\n    for index, pipeline in enumerate(scores[\\\"estimator\\\"]):\\n        model = pipeline.named_steps[\\\"estimator\\\"]\\n        importances[index] = model.feature_importances_\\n\\n    for index, importances_vec in importances.items():\\n        importances_col = pd.DataFrame(\\n            {col: [c] for col, c in zip(columns, importances_vec)},\\n            index=[f\\\"Importances - {index}\\\"],\\n        )\\n        importances_with_column.append(importances_col)\\n    df_importances = pd.concat(importances_with_column)\\n\\n    return df_importances\";\n",
       "                var nbb_cells = Jupyter.notebook.get_cells();\n",
       "                for (var i = 0; i < nbb_cells.length; ++i) {\n",
       "                    if (nbb_cells[i].input_prompt_number == nbb_cell_id) {\n",
       "                        if (nbb_cells[i].get_text() == nbb_unformatted_code) {\n",
       "                             nbb_cells[i].set_text(nbb_formatted_code);\n",
       "                        }\n",
       "                        break;\n",
       "                    }\n",
       "                }\n",
       "            }, 500);\n",
       "            "
      ],
      "text/plain": [
       "<IPython.core.display.Javascript object>"
      ]
     },
     "metadata": {},
     "output_type": "display_data"
    }
   ],
   "source": [
    "def get_random_forest_df_importances(scores):\n",
    "    importances = {}\n",
    "    importances_with_column = []\n",
    "    columns = x.columns\n",
    "\n",
    "    for index, pipeline in enumerate(scores[\"estimator\"]):\n",
    "        model = pipeline.named_steps[\"estimator\"]\n",
    "        importances[index] = model.feature_importances_\n",
    "\n",
    "    for index, importances_vec in importances.items():\n",
    "        importances_col = pd.DataFrame(\n",
    "            {col: [c] for col, c in zip(columns, importances_vec)},\n",
    "            index=[f\"Importances - {index}\"],\n",
    "        )\n",
    "        importances_with_column.append(importances_col)\n",
    "    df_importances = pd.concat(importances_with_column)\n",
    "\n",
    "    return df_importances"
   ]
  },
  {
   "cell_type": "code",
   "execution_count": 4,
   "id": "cd388f34",
   "metadata": {},
   "outputs": [
    {
     "data": {
      "application/javascript": [
       "\n",
       "            setTimeout(function() {\n",
       "                var nbb_cell_id = 4;\n",
       "                var nbb_unformatted_code = \"SEED = 47\\nMETRICS = (\\n    \\\"neg_root_mean_squared_error\\\",\\n    \\\"neg_mean_absolute_error\\\",\\n    \\\"neg_mean_absolute_percentage_error\\\",\\n    \\\"r2\\\",\\n)\\nMETRICS_DICT = {\\n    \\\"neg_root_mean_squared_error\\\": \\\"RMSE\\\",\\n    \\\"neg_mean_absolute_error\\\": \\\"MAE\\\",\\n    \\\"neg_mean_absolute_percentage_error\\\": \\\"MAPE\\\",\\n    \\\"r2\\\": \\\"R2\\\",\\n}\";\n",
       "                var nbb_formatted_code = \"SEED = 47\\nMETRICS = (\\n    \\\"neg_root_mean_squared_error\\\",\\n    \\\"neg_mean_absolute_error\\\",\\n    \\\"neg_mean_absolute_percentage_error\\\",\\n    \\\"r2\\\",\\n)\\nMETRICS_DICT = {\\n    \\\"neg_root_mean_squared_error\\\": \\\"RMSE\\\",\\n    \\\"neg_mean_absolute_error\\\": \\\"MAE\\\",\\n    \\\"neg_mean_absolute_percentage_error\\\": \\\"MAPE\\\",\\n    \\\"r2\\\": \\\"R2\\\",\\n}\";\n",
       "                var nbb_cells = Jupyter.notebook.get_cells();\n",
       "                for (var i = 0; i < nbb_cells.length; ++i) {\n",
       "                    if (nbb_cells[i].input_prompt_number == nbb_cell_id) {\n",
       "                        if (nbb_cells[i].get_text() == nbb_unformatted_code) {\n",
       "                             nbb_cells[i].set_text(nbb_formatted_code);\n",
       "                        }\n",
       "                        break;\n",
       "                    }\n",
       "                }\n",
       "            }, 500);\n",
       "            "
      ],
      "text/plain": [
       "<IPython.core.display.Javascript object>"
      ]
     },
     "metadata": {},
     "output_type": "display_data"
    }
   ],
   "source": [
    "SEED = 47\n",
    "METRICS = (\n",
    "    \"neg_root_mean_squared_error\",\n",
    "    \"neg_mean_absolute_error\",\n",
    "    \"neg_mean_absolute_percentage_error\",\n",
    "    \"r2\",\n",
    ")\n",
    "METRICS_DICT = {\n",
    "    \"neg_root_mean_squared_error\": \"RMSE\",\n",
    "    \"neg_mean_absolute_error\": \"MAE\",\n",
    "    \"neg_mean_absolute_percentage_error\": \"MAPE\",\n",
    "    \"r2\": \"R2\",\n",
    "}"
   ]
  },
  {
   "cell_type": "markdown",
   "id": "68005865",
   "metadata": {},
   "source": [
    "## Defining a dataframe structure to save the results"
   ]
  },
  {
   "cell_type": "code",
   "execution_count": 5,
   "id": "a5e0d3ea",
   "metadata": {},
   "outputs": [
    {
     "data": {
      "application/javascript": [
       "\n",
       "            setTimeout(function() {\n",
       "                var nbb_cell_id = 5;\n",
       "                var nbb_unformatted_code = \"results_to_save = []\\n\\nresults_dict = {\\n    \\\"Category\\\": \\\"Local Model\\\",\\n    \\\"Company\\\": \\\"207\\\",\\n    \\\"Plant\\\": \\\"AT\\\",\\n    \\\"Features\\\": \\\"Chemical + Physical\\\",\\n    \\\"Data Shape\\\": None,\\n    \\\"Timesteps\\\": None,\\n    \\\"Model\\\": \\\"Random Forest\\\",\\n    \\\"Model Params\\\": None,\\n    \\\"Scaler\\\": None,\\n    \\\"Scaler Params\\\": None,\\n    \\\"Imputer\\\": \\\"Median\\\",\\n    \\\"Imputer Params\\\": None,\\n    \\\"Cross Validation\\\": None,\\n    \\\"Cross Validation Params\\\": np.nan,\\n    \\\"RMSE Train\\\": np.nan,\\n    \\\"MAE Train\\\": np.nan,\\n    \\\"MAPE Train\\\": np.nan,\\n    \\\"R2 Train\\\": np.nan,\\n    \\\"RMSE Test\\\": np.nan,\\n    \\\"MAE Test\\\": np.nan,\\n    \\\"MAPE Test\\\": np.nan,\\n    \\\"R2 Test\\\": np.nan,\\n}\";\n",
       "                var nbb_formatted_code = \"results_to_save = []\\n\\nresults_dict = {\\n    \\\"Category\\\": \\\"Local Model\\\",\\n    \\\"Company\\\": \\\"207\\\",\\n    \\\"Plant\\\": \\\"AT\\\",\\n    \\\"Features\\\": \\\"Chemical + Physical\\\",\\n    \\\"Data Shape\\\": None,\\n    \\\"Timesteps\\\": None,\\n    \\\"Model\\\": \\\"Random Forest\\\",\\n    \\\"Model Params\\\": None,\\n    \\\"Scaler\\\": None,\\n    \\\"Scaler Params\\\": None,\\n    \\\"Imputer\\\": \\\"Median\\\",\\n    \\\"Imputer Params\\\": None,\\n    \\\"Cross Validation\\\": None,\\n    \\\"Cross Validation Params\\\": np.nan,\\n    \\\"RMSE Train\\\": np.nan,\\n    \\\"MAE Train\\\": np.nan,\\n    \\\"MAPE Train\\\": np.nan,\\n    \\\"R2 Train\\\": np.nan,\\n    \\\"RMSE Test\\\": np.nan,\\n    \\\"MAE Test\\\": np.nan,\\n    \\\"MAPE Test\\\": np.nan,\\n    \\\"R2 Test\\\": np.nan,\\n}\";\n",
       "                var nbb_cells = Jupyter.notebook.get_cells();\n",
       "                for (var i = 0; i < nbb_cells.length; ++i) {\n",
       "                    if (nbb_cells[i].input_prompt_number == nbb_cell_id) {\n",
       "                        if (nbb_cells[i].get_text() == nbb_unformatted_code) {\n",
       "                             nbb_cells[i].set_text(nbb_formatted_code);\n",
       "                        }\n",
       "                        break;\n",
       "                    }\n",
       "                }\n",
       "            }, 500);\n",
       "            "
      ],
      "text/plain": [
       "<IPython.core.display.Javascript object>"
      ]
     },
     "metadata": {},
     "output_type": "display_data"
    }
   ],
   "source": [
    "results_to_save = []\n",
    "\n",
    "results_dict = {\n",
    "    \"Category\": \"Local Model\",\n",
    "    \"Company\": \"207\",\n",
    "    \"Plant\": \"AT\",\n",
    "    \"Features\": \"Chemical + Physical\",\n",
    "    \"Data Shape\": None,\n",
    "    \"Timesteps\": None,\n",
    "    \"Model\": \"Random Forest\",\n",
    "    \"Model Params\": None,\n",
    "    \"Scaler\": None,\n",
    "    \"Scaler Params\": None,\n",
    "    \"Imputer\": \"Median\",\n",
    "    \"Imputer Params\": None,\n",
    "    \"Cross Validation\": None,\n",
    "    \"Cross Validation Params\": np.nan,\n",
    "    \"RMSE Train\": np.nan,\n",
    "    \"MAE Train\": np.nan,\n",
    "    \"MAPE Train\": np.nan,\n",
    "    \"R2 Train\": np.nan,\n",
    "    \"RMSE Test\": np.nan,\n",
    "    \"MAE Test\": np.nan,\n",
    "    \"MAPE Test\": np.nan,\n",
    "    \"R2 Test\": np.nan,\n",
    "}"
   ]
  },
  {
   "cell_type": "markdown",
   "id": "2a452455",
   "metadata": {},
   "source": [
    "# Reading the dataset"
   ]
  },
  {
   "cell_type": "code",
   "execution_count": 6,
   "id": "d0e89a40",
   "metadata": {},
   "outputs": [
    {
     "data": {
      "application/javascript": [
       "\n",
       "            setTimeout(function() {\n",
       "                var nbb_cell_id = 6;\n",
       "                var nbb_unformatted_code = \"df = pd.read_csv(\\\"../../../../data/processed/207/at.csv\\\")\";\n",
       "                var nbb_formatted_code = \"df = pd.read_csv(\\\"../../../../data/processed/207/at.csv\\\")\";\n",
       "                var nbb_cells = Jupyter.notebook.get_cells();\n",
       "                for (var i = 0; i < nbb_cells.length; ++i) {\n",
       "                    if (nbb_cells[i].input_prompt_number == nbb_cell_id) {\n",
       "                        if (nbb_cells[i].get_text() == nbb_unformatted_code) {\n",
       "                             nbb_cells[i].set_text(nbb_formatted_code);\n",
       "                        }\n",
       "                        break;\n",
       "                    }\n",
       "                }\n",
       "            }, 500);\n",
       "            "
      ],
      "text/plain": [
       "<IPython.core.display.Javascript object>"
      ]
     },
     "metadata": {},
     "output_type": "display_data"
    }
   ],
   "source": [
    "df = pd.read_csv(\"../../../../data/processed/207/at.csv\")"
   ]
  },
  {
   "cell_type": "markdown",
   "id": "2ae57845",
   "metadata": {},
   "source": [
    "## Defining Features\n",
    "\n",
    "In this set of experiments we keep only chemical and mineralogical features yielded by the same testing method/procedure"
   ]
  },
  {
   "cell_type": "code",
   "execution_count": 7,
   "id": "ea0331c1",
   "metadata": {},
   "outputs": [
    {
     "data": {
      "application/javascript": [
       "\n",
       "            setTimeout(function() {\n",
       "                var nbb_cell_id = 7;\n",
       "                var nbb_unformatted_code = \"df_copy = df.copy().drop(\\n    [\\n        \\\"Cement_Type\\\",\\n    ],\\n    axis=1,\\n)\";\n",
       "                var nbb_formatted_code = \"df_copy = df.copy().drop(\\n    [\\n        \\\"Cement_Type\\\",\\n    ],\\n    axis=1,\\n)\";\n",
       "                var nbb_cells = Jupyter.notebook.get_cells();\n",
       "                for (var i = 0; i < nbb_cells.length; ++i) {\n",
       "                    if (nbb_cells[i].input_prompt_number == nbb_cell_id) {\n",
       "                        if (nbb_cells[i].get_text() == nbb_unformatted_code) {\n",
       "                             nbb_cells[i].set_text(nbb_formatted_code);\n",
       "                        }\n",
       "                        break;\n",
       "                    }\n",
       "                }\n",
       "            }, 500);\n",
       "            "
      ],
      "text/plain": [
       "<IPython.core.display.Javascript object>"
      ]
     },
     "metadata": {},
     "output_type": "display_data"
    }
   ],
   "source": [
    "df_copy = df.copy().drop(\n",
    "    [\n",
    "        \"Cement_Type\",\n",
    "    ],\n",
    "    axis=1,\n",
    ")"
   ]
  },
  {
   "cell_type": "markdown",
   "id": "0b53c8d6",
   "metadata": {},
   "source": [
    "# 1. Decision Tree Regressor"
   ]
  },
  {
   "cell_type": "code",
   "execution_count": 8,
   "id": "a0cfed31",
   "metadata": {},
   "outputs": [
    {
     "data": {
      "application/javascript": [
       "\n",
       "            setTimeout(function() {\n",
       "                var nbb_cell_id = 8;\n",
       "                var nbb_unformatted_code = \"PARAMS = {\\n    \\\"criterion\\\": \\\"squared_error\\\",\\n    \\\"n_estimators\\\": 5,\\n    \\\"max_depth\\\": 3,\\n    \\\"random_state\\\": SEED,\\n}\";\n",
       "                var nbb_formatted_code = \"PARAMS = {\\n    \\\"criterion\\\": \\\"squared_error\\\",\\n    \\\"n_estimators\\\": 5,\\n    \\\"max_depth\\\": 3,\\n    \\\"random_state\\\": SEED,\\n}\";\n",
       "                var nbb_cells = Jupyter.notebook.get_cells();\n",
       "                for (var i = 0; i < nbb_cells.length; ++i) {\n",
       "                    if (nbb_cells[i].input_prompt_number == nbb_cell_id) {\n",
       "                        if (nbb_cells[i].get_text() == nbb_unformatted_code) {\n",
       "                             nbb_cells[i].set_text(nbb_formatted_code);\n",
       "                        }\n",
       "                        break;\n",
       "                    }\n",
       "                }\n",
       "            }, 500);\n",
       "            "
      ],
      "text/plain": [
       "<IPython.core.display.Javascript object>"
      ]
     },
     "metadata": {},
     "output_type": "display_data"
    }
   ],
   "source": [
    "PARAMS = {\n",
    "    \"criterion\": \"squared_error\",\n",
    "    \"n_estimators\": 5,\n",
    "    \"max_depth\": 3,\n",
    "    \"random_state\": SEED,\n",
    "}"
   ]
  },
  {
   "cell_type": "markdown",
   "id": "cbbbf097",
   "metadata": {},
   "source": [
    "<h2>1. Dataset: df_no_cs</h2> <br>In this dataset the CS1, CS3  and CS7 variables are not considered. Only Chemical and mineralogical features measured by the same method. For this particular dataset, all chemical features, with the exception of LOI were measured by XRF and XRD methods."
   ]
  },
  {
   "cell_type": "code",
   "execution_count": 9,
   "id": "eed9d427",
   "metadata": {},
   "outputs": [
    {
     "data": {
      "application/javascript": [
       "\n",
       "            setTimeout(function() {\n",
       "                var nbb_cell_id = 9;\n",
       "                var nbb_unformatted_code = \"y = df_copy.pop(\\\"CS28\\\").values\\nx = df_copy.drop([\\\"Date\\\"], axis=1)\\ndates = df[\\\"Date\\\"].copy()\";\n",
       "                var nbb_formatted_code = \"y = df_copy.pop(\\\"CS28\\\").values\\nx = df_copy.drop([\\\"Date\\\"], axis=1)\\ndates = df[\\\"Date\\\"].copy()\";\n",
       "                var nbb_cells = Jupyter.notebook.get_cells();\n",
       "                for (var i = 0; i < nbb_cells.length; ++i) {\n",
       "                    if (nbb_cells[i].input_prompt_number == nbb_cell_id) {\n",
       "                        if (nbb_cells[i].get_text() == nbb_unformatted_code) {\n",
       "                             nbb_cells[i].set_text(nbb_formatted_code);\n",
       "                        }\n",
       "                        break;\n",
       "                    }\n",
       "                }\n",
       "            }, 500);\n",
       "            "
      ],
      "text/plain": [
       "<IPython.core.display.Javascript object>"
      ]
     },
     "metadata": {},
     "output_type": "display_data"
    }
   ],
   "source": [
    "y = df_copy.pop(\"CS28\").values\n",
    "x = df_copy.drop([\"Date\"], axis=1)\n",
    "dates = df[\"Date\"].copy()"
   ]
  },
  {
   "cell_type": "markdown",
   "id": "d1f6805a",
   "metadata": {},
   "source": [
    "## 1.2. Blocking Time Series Cross Validation\n",
    "\n",
    "<b>Dataset shape:</b> (1234, 38)<br>\n",
    "<b>Splits:</b>5<br>    \n",
    "    1. 5 folds of 246 samples\n",
    "    2. 50% train (123 samples each fold)\n",
    "    3. 50% test (123 samples each fold)\n",
    "<b>Total:</b> 5 models<br>"
   ]
  },
  {
   "cell_type": "code",
   "execution_count": 10,
   "id": "473be546",
   "metadata": {},
   "outputs": [
    {
     "name": "stdout",
     "output_type": "stream",
     "text": [
      "Blocking Time Series Split:\n",
      "Repeats: 3\n",
      "n_splits: 5\n",
      "\n",
      "******\n",
      "[TRAIN]\n",
      "******\n",
      "RMSE: -1.407 (0.179)\n",
      "MAE: -1.114 (0.140)\n",
      "MAPE: -0.025 (0.003)\n",
      "R2: 0.671 (0.166)\n",
      "\n",
      "======================\n",
      "\n",
      "******\n",
      "[TEST]\n",
      "******\n",
      "RMSE: -1.841 (0.437)\n",
      "MAE: -1.494 (0.358)\n",
      "MAPE: -0.033 (0.007)\n",
      "R2: 0.394 (0.424)\n",
      "\n",
      "======================\n",
      "\n"
     ]
    },
    {
     "data": {
      "application/javascript": [
       "\n",
       "            setTimeout(function() {\n",
       "                var nbb_cell_id = 10;\n",
       "                var nbb_unformatted_code = \"repeats = 3\\nn_splits = 5\\ntrain_size = 0.8\\n\\npipeline = Pipeline(\\n    [\\n        (\\\"imputer\\\", SimpleImputer(strategy=\\\"median\\\")),\\n        (\\\"estimator\\\", RandomForestRegressor(**PARAMS)),\\n    ]\\n)\\ncv = BlockingTimeSeriesSplit(n_splits=n_splits, train_size=train_size)\\nscores = cross_validate(\\n    pipeline,\\n    x,\\n    y,\\n    scoring=METRICS,\\n    cv=cv,\\n    n_jobs=-1,\\n    return_train_score=True,\\n    return_estimator=True,\\n    return_indices=True,\\n)\\nprint(\\\"Blocking Time Series Split:\\\")\\nprint(f\\\"Repeats: {repeats}\\\")\\nprint(f\\\"n_splits: {n_splits}\\\")\\nprint()\\nprint_scores(scores, METRICS, METRICS_DICT)\\n\\nresults_dict_copy = results_dict.copy()\\nresults_dict_copy[\\\"Cross Validation\\\"] = \\\"Blocking Time Series Split\\\"\\nresults_dict_copy[\\n    \\\"Cross Validation Params\\\"\\n] = '{\\\"N_Splits\\\": 5, \\\"Repeats\\\": 1, \\\"train_size\\\": 0.8}'\\nresults_dict_copy[\\\"Data Shape\\\"] = x.shape\\ndf_results = fill_results_dict(results_dict_copy, scores)\\nresults_to_save.append(df_results)\";\n",
       "                var nbb_formatted_code = \"repeats = 3\\nn_splits = 5\\ntrain_size = 0.8\\n\\npipeline = Pipeline(\\n    [\\n        (\\\"imputer\\\", SimpleImputer(strategy=\\\"median\\\")),\\n        (\\\"estimator\\\", RandomForestRegressor(**PARAMS)),\\n    ]\\n)\\ncv = BlockingTimeSeriesSplit(n_splits=n_splits, train_size=train_size)\\nscores = cross_validate(\\n    pipeline,\\n    x,\\n    y,\\n    scoring=METRICS,\\n    cv=cv,\\n    n_jobs=-1,\\n    return_train_score=True,\\n    return_estimator=True,\\n    return_indices=True,\\n)\\nprint(\\\"Blocking Time Series Split:\\\")\\nprint(f\\\"Repeats: {repeats}\\\")\\nprint(f\\\"n_splits: {n_splits}\\\")\\nprint()\\nprint_scores(scores, METRICS, METRICS_DICT)\\n\\nresults_dict_copy = results_dict.copy()\\nresults_dict_copy[\\\"Cross Validation\\\"] = \\\"Blocking Time Series Split\\\"\\nresults_dict_copy[\\n    \\\"Cross Validation Params\\\"\\n] = '{\\\"N_Splits\\\": 5, \\\"Repeats\\\": 1, \\\"train_size\\\": 0.8}'\\nresults_dict_copy[\\\"Data Shape\\\"] = x.shape\\ndf_results = fill_results_dict(results_dict_copy, scores)\\nresults_to_save.append(df_results)\";\n",
       "                var nbb_cells = Jupyter.notebook.get_cells();\n",
       "                for (var i = 0; i < nbb_cells.length; ++i) {\n",
       "                    if (nbb_cells[i].input_prompt_number == nbb_cell_id) {\n",
       "                        if (nbb_cells[i].get_text() == nbb_unformatted_code) {\n",
       "                             nbb_cells[i].set_text(nbb_formatted_code);\n",
       "                        }\n",
       "                        break;\n",
       "                    }\n",
       "                }\n",
       "            }, 500);\n",
       "            "
      ],
      "text/plain": [
       "<IPython.core.display.Javascript object>"
      ]
     },
     "metadata": {},
     "output_type": "display_data"
    }
   ],
   "source": [
    "repeats = 3\n",
    "n_splits = 5\n",
    "train_size = 0.8\n",
    "\n",
    "pipeline = Pipeline(\n",
    "    [\n",
    "        (\"imputer\", SimpleImputer(strategy=\"median\")),\n",
    "        (\"estimator\", RandomForestRegressor(**PARAMS)),\n",
    "    ]\n",
    ")\n",
    "cv = BlockingTimeSeriesSplit(n_splits=n_splits, train_size=train_size)\n",
    "scores = cross_validate(\n",
    "    pipeline,\n",
    "    x,\n",
    "    y,\n",
    "    scoring=METRICS,\n",
    "    cv=cv,\n",
    "    n_jobs=-1,\n",
    "    return_train_score=True,\n",
    "    return_estimator=True,\n",
    "    return_indices=True,\n",
    ")\n",
    "print(\"Blocking Time Series Split:\")\n",
    "print(f\"Repeats: {repeats}\")\n",
    "print(f\"n_splits: {n_splits}\")\n",
    "print()\n",
    "print_scores(scores, METRICS, METRICS_DICT)\n",
    "\n",
    "results_dict_copy = results_dict.copy()\n",
    "results_dict_copy[\"Cross Validation\"] = \"Blocking Time Series Split\"\n",
    "results_dict_copy[\n",
    "    \"Cross Validation Params\"\n",
    "] = '{\"N_Splits\": 5, \"Repeats\": 1, \"train_size\": 0.8}'\n",
    "results_dict_copy[\"Data Shape\"] = x.shape\n",
    "df_results = fill_results_dict(results_dict_copy, scores)\n",
    "results_to_save.append(df_results)"
   ]
  },
  {
   "cell_type": "markdown",
   "id": "a3f4ad0e",
   "metadata": {},
   "source": [
    "## Plotting the Predictions"
   ]
  },
  {
   "cell_type": "code",
   "execution_count": 11,
   "id": "3f45b891",
   "metadata": {},
   "outputs": [
    {
     "data": {
      "application/javascript": [
       "\n",
       "            setTimeout(function() {\n",
       "                var nbb_cell_id = 11;\n",
       "                var nbb_unformatted_code = \"df_pred = pd.DataFrame()\\ndf_pred[\\\"DATE\\\"] = dates.copy()\\ndf_pred[\\\"CS28\\\"] = y.copy()\\ndf_pred[\\\"CS28_PRED\\\"] = np.nan\\ndf_pred[\\\"SET\\\"] = \\\"\\\"\\ndf_pred[\\\"CEMENT_TYPE\\\"] = df[\\\"Cement_Type\\\"].copy()\\ndf_pred[\\\"DATE\\\"] = pd.to_datetime(df_pred[\\\"DATE\\\"])\\n\\n\\nfor idx, pipeline in enumerate(scores[\\\"estimator\\\"]):\\n    index_train = scores[\\\"indices\\\"][\\\"train\\\"][idx]\\n    index_test = scores[\\\"indices\\\"][\\\"test\\\"][idx]\\n    index_preds = np.concatenate([index_train, index_test])\\n\\n    # results = scores[\\\"estimator\\\"][0].predict(x.loc[index_preds])\\n    results = pipeline.predict(x.loc[index_preds])\\n    df_pred.loc[index_preds, \\\"CS28_PRED\\\"] = results.copy()\\n    df_pred.loc[index_train, \\\"SET\\\"] = \\\"TRAIN\\\"\\n    df_pred.loc[index_test, \\\"SET\\\"] = \\\"TEST\\\"\\ndf_pred = df_pred.dropna()\";\n",
       "                var nbb_formatted_code = \"df_pred = pd.DataFrame()\\ndf_pred[\\\"DATE\\\"] = dates.copy()\\ndf_pred[\\\"CS28\\\"] = y.copy()\\ndf_pred[\\\"CS28_PRED\\\"] = np.nan\\ndf_pred[\\\"SET\\\"] = \\\"\\\"\\ndf_pred[\\\"CEMENT_TYPE\\\"] = df[\\\"Cement_Type\\\"].copy()\\ndf_pred[\\\"DATE\\\"] = pd.to_datetime(df_pred[\\\"DATE\\\"])\\n\\n\\nfor idx, pipeline in enumerate(scores[\\\"estimator\\\"]):\\n    index_train = scores[\\\"indices\\\"][\\\"train\\\"][idx]\\n    index_test = scores[\\\"indices\\\"][\\\"test\\\"][idx]\\n    index_preds = np.concatenate([index_train, index_test])\\n\\n    # results = scores[\\\"estimator\\\"][0].predict(x.loc[index_preds])\\n    results = pipeline.predict(x.loc[index_preds])\\n    df_pred.loc[index_preds, \\\"CS28_PRED\\\"] = results.copy()\\n    df_pred.loc[index_train, \\\"SET\\\"] = \\\"TRAIN\\\"\\n    df_pred.loc[index_test, \\\"SET\\\"] = \\\"TEST\\\"\\ndf_pred = df_pred.dropna()\";\n",
       "                var nbb_cells = Jupyter.notebook.get_cells();\n",
       "                for (var i = 0; i < nbb_cells.length; ++i) {\n",
       "                    if (nbb_cells[i].input_prompt_number == nbb_cell_id) {\n",
       "                        if (nbb_cells[i].get_text() == nbb_unformatted_code) {\n",
       "                             nbb_cells[i].set_text(nbb_formatted_code);\n",
       "                        }\n",
       "                        break;\n",
       "                    }\n",
       "                }\n",
       "            }, 500);\n",
       "            "
      ],
      "text/plain": [
       "<IPython.core.display.Javascript object>"
      ]
     },
     "metadata": {},
     "output_type": "display_data"
    }
   ],
   "source": [
    "df_pred = pd.DataFrame()\n",
    "df_pred[\"DATE\"] = dates.copy()\n",
    "df_pred[\"CS28\"] = y.copy()\n",
    "df_pred[\"CS28_PRED\"] = np.nan\n",
    "df_pred[\"SET\"] = \"\"\n",
    "df_pred[\"CEMENT_TYPE\"] = df[\"Cement_Type\"].copy()\n",
    "df_pred[\"DATE\"] = pd.to_datetime(df_pred[\"DATE\"])\n",
    "\n",
    "\n",
    "for idx, pipeline in enumerate(scores[\"estimator\"]):\n",
    "    index_train = scores[\"indices\"][\"train\"][idx]\n",
    "    index_test = scores[\"indices\"][\"test\"][idx]\n",
    "    index_preds = np.concatenate([index_train, index_test])\n",
    "\n",
    "    # results = scores[\"estimator\"][0].predict(x.loc[index_preds])\n",
    "    results = pipeline.predict(x.loc[index_preds])\n",
    "    df_pred.loc[index_preds, \"CS28_PRED\"] = results.copy()\n",
    "    df_pred.loc[index_train, \"SET\"] = \"TRAIN\"\n",
    "    df_pred.loc[index_test, \"SET\"] = \"TEST\"\n",
    "df_pred = df_pred.dropna()"
   ]
  },
  {
   "cell_type": "code",
   "execution_count": 12,
   "id": "9471f014",
   "metadata": {},
   "outputs": [
    {
     "data": {
      "text/html": [
       "<div>\n",
       "<style scoped>\n",
       "    .dataframe tbody tr th:only-of-type {\n",
       "        vertical-align: middle;\n",
       "    }\n",
       "\n",
       "    .dataframe tbody tr th {\n",
       "        vertical-align: top;\n",
       "    }\n",
       "\n",
       "    .dataframe thead th {\n",
       "        text-align: right;\n",
       "    }\n",
       "</style>\n",
       "<table border=\"1\" class=\"dataframe\">\n",
       "  <thead>\n",
       "    <tr style=\"text-align: right;\">\n",
       "      <th></th>\n",
       "      <th>DATE</th>\n",
       "      <th>CS28</th>\n",
       "      <th>CS28_PRED</th>\n",
       "      <th>SET</th>\n",
       "      <th>CEMENT_TYPE</th>\n",
       "    </tr>\n",
       "  </thead>\n",
       "  <tbody>\n",
       "    <tr>\n",
       "      <th>0</th>\n",
       "      <td>2021-01-01</td>\n",
       "      <td>41.400002</td>\n",
       "      <td>42.947492</td>\n",
       "      <td>TRAIN</td>\n",
       "      <td>CPIII40</td>\n",
       "    </tr>\n",
       "    <tr>\n",
       "      <th>1</th>\n",
       "      <td>2021-01-01</td>\n",
       "      <td>33.500000</td>\n",
       "      <td>35.308823</td>\n",
       "      <td>TRAIN</td>\n",
       "      <td>CPIIF32</td>\n",
       "    </tr>\n",
       "    <tr>\n",
       "      <th>2</th>\n",
       "      <td>2021-01-02</td>\n",
       "      <td>42.900002</td>\n",
       "      <td>44.555296</td>\n",
       "      <td>TRAIN</td>\n",
       "      <td>CPVARI</td>\n",
       "    </tr>\n",
       "    <tr>\n",
       "      <th>3</th>\n",
       "      <td>2021-01-04</td>\n",
       "      <td>44.900002</td>\n",
       "      <td>45.312838</td>\n",
       "      <td>TRAIN</td>\n",
       "      <td>CPVARI</td>\n",
       "    </tr>\n",
       "    <tr>\n",
       "      <th>4</th>\n",
       "      <td>2021-01-04</td>\n",
       "      <td>41.500000</td>\n",
       "      <td>42.947492</td>\n",
       "      <td>TRAIN</td>\n",
       "      <td>CPIII40</td>\n",
       "    </tr>\n",
       "    <tr>\n",
       "      <th>...</th>\n",
       "      <td>...</td>\n",
       "      <td>...</td>\n",
       "      <td>...</td>\n",
       "      <td>...</td>\n",
       "      <td>...</td>\n",
       "    </tr>\n",
       "    <tr>\n",
       "      <th>1720</th>\n",
       "      <td>2023-09-20</td>\n",
       "      <td>44.299999</td>\n",
       "      <td>43.628261</td>\n",
       "      <td>TEST</td>\n",
       "      <td>CPIII40</td>\n",
       "    </tr>\n",
       "    <tr>\n",
       "      <th>1721</th>\n",
       "      <td>2023-09-21</td>\n",
       "      <td>47.799999</td>\n",
       "      <td>46.036277</td>\n",
       "      <td>TEST</td>\n",
       "      <td>CPVARI</td>\n",
       "    </tr>\n",
       "    <tr>\n",
       "      <th>1722</th>\n",
       "      <td>2023-09-21</td>\n",
       "      <td>44.299999</td>\n",
       "      <td>43.245448</td>\n",
       "      <td>TEST</td>\n",
       "      <td>CPIII40</td>\n",
       "    </tr>\n",
       "    <tr>\n",
       "      <th>1723</th>\n",
       "      <td>2023-09-22</td>\n",
       "      <td>44.299999</td>\n",
       "      <td>43.245448</td>\n",
       "      <td>TEST</td>\n",
       "      <td>CPIII40</td>\n",
       "    </tr>\n",
       "    <tr>\n",
       "      <th>1724</th>\n",
       "      <td>2023-09-22</td>\n",
       "      <td>47.799999</td>\n",
       "      <td>46.036277</td>\n",
       "      <td>TEST</td>\n",
       "      <td>CPVARI</td>\n",
       "    </tr>\n",
       "  </tbody>\n",
       "</table>\n",
       "<p>1725 rows × 5 columns</p>\n",
       "</div>"
      ],
      "text/plain": [
       "           DATE       CS28  CS28_PRED    SET CEMENT_TYPE\n",
       "0    2021-01-01  41.400002  42.947492  TRAIN     CPIII40\n",
       "1    2021-01-01  33.500000  35.308823  TRAIN     CPIIF32\n",
       "2    2021-01-02  42.900002  44.555296  TRAIN      CPVARI\n",
       "3    2021-01-04  44.900002  45.312838  TRAIN      CPVARI\n",
       "4    2021-01-04  41.500000  42.947492  TRAIN     CPIII40\n",
       "...         ...        ...        ...    ...         ...\n",
       "1720 2023-09-20  44.299999  43.628261   TEST     CPIII40\n",
       "1721 2023-09-21  47.799999  46.036277   TEST      CPVARI\n",
       "1722 2023-09-21  44.299999  43.245448   TEST     CPIII40\n",
       "1723 2023-09-22  44.299999  43.245448   TEST     CPIII40\n",
       "1724 2023-09-22  47.799999  46.036277   TEST      CPVARI\n",
       "\n",
       "[1725 rows x 5 columns]"
      ]
     },
     "execution_count": 12,
     "metadata": {},
     "output_type": "execute_result"
    },
    {
     "data": {
      "application/javascript": [
       "\n",
       "            setTimeout(function() {\n",
       "                var nbb_cell_id = 12;\n",
       "                var nbb_unformatted_code = \"df_pred\";\n",
       "                var nbb_formatted_code = \"df_pred\";\n",
       "                var nbb_cells = Jupyter.notebook.get_cells();\n",
       "                for (var i = 0; i < nbb_cells.length; ++i) {\n",
       "                    if (nbb_cells[i].input_prompt_number == nbb_cell_id) {\n",
       "                        if (nbb_cells[i].get_text() == nbb_unformatted_code) {\n",
       "                             nbb_cells[i].set_text(nbb_formatted_code);\n",
       "                        }\n",
       "                        break;\n",
       "                    }\n",
       "                }\n",
       "            }, 500);\n",
       "            "
      ],
      "text/plain": [
       "<IPython.core.display.Javascript object>"
      ]
     },
     "metadata": {},
     "output_type": "display_data"
    }
   ],
   "source": [
    "df_pred"
   ]
  },
  {
   "cell_type": "code",
   "execution_count": 13,
   "id": "0b846374",
   "metadata": {},
   "outputs": [
    {
     "data": {
      "application/javascript": [
       "\n",
       "            setTimeout(function() {\n",
       "                var nbb_cell_id = 13;\n",
       "                var nbb_unformatted_code = \"# df_copy_merge = df_copy.merge(df_pred, left_index=True, right_index=True, how=\\\"left\\\")\\n# df_copy_merge[\\\"COMPANY\\\"] = 209\\n# df_copy_merge[\\\"PLANT\\\"] = \\\"S\\\"\\n# for fold, (train_index, test_index) in enumerate(cv.split(x)):\\n#     df_copy_merge.loc[train_index, \\\"FOLD\\\"] = fold + 1\\n#     df_copy_merge.loc[test_index, \\\"FOLD\\\"] = fold + 1\\n# df_copy_merge[\\\"FOLD\\\"] = df_copy_merge[\\\"FOLD\\\"].astype(int)\\n# df_copy_merge.to_excel(\\\"local_model_random_forest_btsscv_209_s.xlsx\\\", index=False)\\n# df_copy_merge.to_csv(\\\"local_model_random_forest_btsscv_209_s.csv\\\", index=False)\";\n",
       "                var nbb_formatted_code = \"# df_copy_merge = df_copy.merge(df_pred, left_index=True, right_index=True, how=\\\"left\\\")\\n# df_copy_merge[\\\"COMPANY\\\"] = 209\\n# df_copy_merge[\\\"PLANT\\\"] = \\\"S\\\"\\n# for fold, (train_index, test_index) in enumerate(cv.split(x)):\\n#     df_copy_merge.loc[train_index, \\\"FOLD\\\"] = fold + 1\\n#     df_copy_merge.loc[test_index, \\\"FOLD\\\"] = fold + 1\\n# df_copy_merge[\\\"FOLD\\\"] = df_copy_merge[\\\"FOLD\\\"].astype(int)\\n# df_copy_merge.to_excel(\\\"local_model_random_forest_btsscv_209_s.xlsx\\\", index=False)\\n# df_copy_merge.to_csv(\\\"local_model_random_forest_btsscv_209_s.csv\\\", index=False)\";\n",
       "                var nbb_cells = Jupyter.notebook.get_cells();\n",
       "                for (var i = 0; i < nbb_cells.length; ++i) {\n",
       "                    if (nbb_cells[i].input_prompt_number == nbb_cell_id) {\n",
       "                        if (nbb_cells[i].get_text() == nbb_unformatted_code) {\n",
       "                             nbb_cells[i].set_text(nbb_formatted_code);\n",
       "                        }\n",
       "                        break;\n",
       "                    }\n",
       "                }\n",
       "            }, 500);\n",
       "            "
      ],
      "text/plain": [
       "<IPython.core.display.Javascript object>"
      ]
     },
     "metadata": {},
     "output_type": "display_data"
    }
   ],
   "source": [
    "# df_copy_merge = df_copy.merge(df_pred, left_index=True, right_index=True, how=\"left\")\n",
    "# df_copy_merge[\"COMPANY\"] = 209\n",
    "# df_copy_merge[\"PLANT\"] = \"S\"\n",
    "# for fold, (train_index, test_index) in enumerate(cv.split(x)):\n",
    "#     df_copy_merge.loc[train_index, \"FOLD\"] = fold + 1\n",
    "#     df_copy_merge.loc[test_index, \"FOLD\"] = fold + 1\n",
    "# df_copy_merge[\"FOLD\"] = df_copy_merge[\"FOLD\"].astype(int)\n",
    "# df_copy_merge.to_excel(\"local_model_random_forest_btsscv_209_s.xlsx\", index=False)\n",
    "# df_copy_merge.to_csv(\"local_model_random_forest_btsscv_209_s.csv\", index=False)"
   ]
  },
  {
   "cell_type": "code",
   "execution_count": 14,
   "id": "2543aff4",
   "metadata": {},
   "outputs": [
    {
     "data": {
      "application/javascript": [
       "\n",
       "            setTimeout(function() {\n",
       "                var nbb_cell_id = 14;\n",
       "                var nbb_unformatted_code = \"matplotlib.rc_file_defaults()\";\n",
       "                var nbb_formatted_code = \"matplotlib.rc_file_defaults()\";\n",
       "                var nbb_cells = Jupyter.notebook.get_cells();\n",
       "                for (var i = 0; i < nbb_cells.length; ++i) {\n",
       "                    if (nbb_cells[i].input_prompt_number == nbb_cell_id) {\n",
       "                        if (nbb_cells[i].get_text() == nbb_unformatted_code) {\n",
       "                             nbb_cells[i].set_text(nbb_formatted_code);\n",
       "                        }\n",
       "                        break;\n",
       "                    }\n",
       "                }\n",
       "            }, 500);\n",
       "            "
      ],
      "text/plain": [
       "<IPython.core.display.Javascript object>"
      ]
     },
     "metadata": {},
     "output_type": "display_data"
    }
   ],
   "source": [
    "matplotlib.rc_file_defaults()"
   ]
  },
  {
   "cell_type": "code",
   "execution_count": 15,
   "id": "a9b99ebb",
   "metadata": {},
   "outputs": [
    {
     "data": {
      "image/png": "[encoded data removed]",
      "text/plain": [
       "<Figure size 600x600 with 1 Axes>"
      ]
     },
     "metadata": {},
     "output_type": "display_data"
    },
    {
     "data": {
      "application/javascript": [
       "\n",
       "            setTimeout(function() {\n",
       "                var nbb_cell_id = 15;\n",
       "                var nbb_unformatted_code = \"test_data = df_pred[df_pred[\\\"SET\\\"] == \\\"TEST\\\"]\\n\\nplt.figure(figsize=(6, 6))\\nplt.scatter(\\n    test_data[\\\"CS28\\\"], test_data[\\\"CS28_PRED\\\"], color=\\\"tomato\\\", alpha=0.7, label=\\\"Predicted\\\"\\n)\\nplt.plot(\\n    [test_data[\\\"CS28\\\"].min(), test_data[\\\"CS28\\\"].max()],\\n    [test_data[\\\"CS28\\\"].min(), test_data[\\\"CS28\\\"].max()],\\n    color=\\\"black\\\", linestyle=\\\"--\\\", linewidth=2,\\n)\\nplt.xlabel(\\\"Actual CS28 (MPa)\\\")\\nplt.ylabel(\\\"Predicted CS28 (MPa)\\\")\\nplt.title(\\\"Predicted vs Actual CS28\\\")\\nplt.legend()\\nplt.grid(True)\\nplt.gca().spines[\\\"top\\\"].set_visible(False)\\nplt.gca().spines[\\\"right\\\"].set_visible(False)\\n\\nplt.savefig(\\\"ecics_207_at_cm_p_cs_btiss_scpm_top_one_random_forest_pred_vs_actual_cs28.png\\\", dpi=300, bbox_inches='tight')\\nplt.show()\";\n",
       "                var nbb_formatted_code = \"test_data = df_pred[df_pred[\\\"SET\\\"] == \\\"TEST\\\"]\\n\\nplt.figure(figsize=(6, 6))\\nplt.scatter(\\n    test_data[\\\"CS28\\\"],\\n    test_data[\\\"CS28_PRED\\\"],\\n    color=\\\"tomato\\\",\\n    alpha=0.7,\\n    label=\\\"Predicted\\\",\\n)\\nplt.plot(\\n    [test_data[\\\"CS28\\\"].min(), test_data[\\\"CS28\\\"].max()],\\n    [test_data[\\\"CS28\\\"].min(), test_data[\\\"CS28\\\"].max()],\\n    color=\\\"black\\\",\\n    linestyle=\\\"--\\\",\\n    linewidth=2,\\n)\\nplt.xlabel(\\\"Actual CS28 (MPa)\\\")\\nplt.ylabel(\\\"Predicted CS28 (MPa)\\\")\\nplt.title(\\\"Predicted vs Actual CS28\\\")\\nplt.legend()\\nplt.grid(True)\\nplt.gca().spines[\\\"top\\\"].set_visible(False)\\nplt.gca().spines[\\\"right\\\"].set_visible(False)\\n\\nplt.savefig(\\n    \\\"ecics_207_at_cm_p_cs_btiss_scpm_top_one_random_forest_pred_vs_actual_cs28.png\\\",\\n    dpi=300,\\n    bbox_inches=\\\"tight\\\",\\n)\\nplt.show()\";\n",
       "                var nbb_cells = Jupyter.notebook.get_cells();\n",
       "                for (var i = 0; i < nbb_cells.length; ++i) {\n",
       "                    if (nbb_cells[i].input_prompt_number == nbb_cell_id) {\n",
       "                        if (nbb_cells[i].get_text() == nbb_unformatted_code) {\n",
       "                             nbb_cells[i].set_text(nbb_formatted_code);\n",
       "                        }\n",
       "                        break;\n",
       "                    }\n",
       "                }\n",
       "            }, 500);\n",
       "            "
      ],
      "text/plain": [
       "<IPython.core.display.Javascript object>"
      ]
     },
     "metadata": {},
     "output_type": "display_data"
    }
   ],
   "source": [
    "test_data = df_pred[df_pred[\"SET\"] == \"TEST\"]\n",
    "\n",
    "plt.figure(figsize=(6, 6))\n",
    "plt.scatter(\n",
    "    test_data[\"CS28\"], test_data[\"CS28_PRED\"], color=\"tomato\", alpha=0.7, label=\"Predicted\"\n",
    ")\n",
    "plt.plot(\n",
    "    [test_data[\"CS28\"].min(), test_data[\"CS28\"].max()],\n",
    "    [test_data[\"CS28\"].min(), test_data[\"CS28\"].max()],\n",
    "    color=\"black\", linestyle=\"--\", linewidth=2,\n",
    ")\n",
    "plt.xlabel(\"Actual CS28 (MPa)\")\n",
    "plt.ylabel(\"Predicted CS28 (MPa)\")\n",
    "plt.title(\"Predicted vs Actual CS28\")\n",
    "plt.legend()\n",
    "plt.grid(True)\n",
    "plt.gca().spines[\"top\"].set_visible(False)\n",
    "plt.gca().spines[\"right\"].set_visible(False)\n",
    "\n",
    "plt.savefig(\"ecics_207_at_cm_p_cs_btiss_scpm_top_one_random_forest_pred_vs_actual_cs28.png\", dpi=300, bbox_inches='tight')\n",
    "plt.show()\n"
   ]
  },
  {
   "cell_type": "code",
   "execution_count": 16,
   "id": "944796d2",
   "metadata": {
    "scrolled": true
   },
   "outputs": [
    {
     "data": {
      "text/plain": [
       "Cement_Type\n",
       "CPIII40    814\n",
       "CPVARI     781\n",
       "CPIIF32    134\n",
       "Name: count, dtype: int64"
      ]
     },
     "execution_count": 16,
     "metadata": {},
     "output_type": "execute_result"
    },
    {
     "data": {
      "application/javascript": [
       "\n",
       "            setTimeout(function() {\n",
       "                var nbb_cell_id = 16;\n",
       "                var nbb_unformatted_code = \"df[\\\"Cement_Type\\\"].value_counts()\";\n",
       "                var nbb_formatted_code = \"df[\\\"Cement_Type\\\"].value_counts()\";\n",
       "                var nbb_cells = Jupyter.notebook.get_cells();\n",
       "                for (var i = 0; i < nbb_cells.length; ++i) {\n",
       "                    if (nbb_cells[i].input_prompt_number == nbb_cell_id) {\n",
       "                        if (nbb_cells[i].get_text() == nbb_unformatted_code) {\n",
       "                             nbb_cells[i].set_text(nbb_formatted_code);\n",
       "                        }\n",
       "                        break;\n",
       "                    }\n",
       "                }\n",
       "            }, 500);\n",
       "            "
      ],
      "text/plain": [
       "<IPython.core.display.Javascript object>"
      ]
     },
     "metadata": {},
     "output_type": "display_data"
    }
   ],
   "source": [
    "df[\"Cement_Type\"].value_counts()"
   ]
  },
  {
   "cell_type": "code",
   "execution_count": 17,
   "id": "3315de0f",
   "metadata": {},
   "outputs": [
    {
     "data": {
      "image/png": "[encoded data removed]",
      "text/plain": [
       "<Figure size 1000x600 with 1 Axes>"
      ]
     },
     "metadata": {},
     "output_type": "display_data"
    },
    {
     "data": {
      "application/javascript": [
       "\n",
       "            setTimeout(function() {\n",
       "                var nbb_cell_id = 17;\n",
       "                var nbb_unformatted_code = \"plt.figure(figsize=(10, 6))\\nplt.plot(\\n    test_data[\\\"DATE\\\"],\\n    test_data[\\\"CS28\\\"],\\n    color=\\\"dodgerblue\\\",\\n    alpha=0.7,\\n    marker=\\\"o\\\",\\n    linestyle=\\\"none\\\",\\n    label=\\\"Actual CS28\\\",\\n)\\nplt.plot(\\n    test_data[\\\"DATE\\\"],\\n    test_data[\\\"CS28_PRED\\\"],\\n    color=\\\"tomato\\\",\\n    alpha=0.7,\\n    marker=\\\"o\\\",\\n    linestyle=\\\"none\\\",\\n    label=\\\"Predicted CS28\\\",\\n)\\nplt.xlabel(\\\"Date\\\")\\nplt.ylabel(\\\"CS28 (MPa)\\\")\\nplt.title(\\\"Actual vs Predicted CS28\\\")\\nplt.legend(loc=\\\"best\\\")\\nplt.grid(True)\\n\\nplt.gca().spines[\\\"top\\\"].set_visible(False)\\nplt.gca().spines[\\\"right\\\"].set_visible(False)\\n\\nplt.savefig(\\n    \\\"ecics_207_at_cm_p_cs_btiss_scpm_top_one_random_forest_pred_vs_actual_cs28_over_time.png\\\",\\n    dpi=300,\\n    bbox_inches=\\\"tight\\\",\\n)\\n\\nplt.show()\";\n",
       "                var nbb_formatted_code = \"plt.figure(figsize=(10, 6))\\nplt.plot(\\n    test_data[\\\"DATE\\\"],\\n    test_data[\\\"CS28\\\"],\\n    color=\\\"dodgerblue\\\",\\n    alpha=0.7,\\n    marker=\\\"o\\\",\\n    linestyle=\\\"none\\\",\\n    label=\\\"Actual CS28\\\",\\n)\\nplt.plot(\\n    test_data[\\\"DATE\\\"],\\n    test_data[\\\"CS28_PRED\\\"],\\n    color=\\\"tomato\\\",\\n    alpha=0.7,\\n    marker=\\\"o\\\",\\n    linestyle=\\\"none\\\",\\n    label=\\\"Predicted CS28\\\",\\n)\\nplt.xlabel(\\\"Date\\\")\\nplt.ylabel(\\\"CS28 (MPa)\\\")\\nplt.title(\\\"Actual vs Predicted CS28\\\")\\nplt.legend(loc=\\\"best\\\")\\nplt.grid(True)\\n\\nplt.gca().spines[\\\"top\\\"].set_visible(False)\\nplt.gca().spines[\\\"right\\\"].set_visible(False)\\n\\nplt.savefig(\\n    \\\"ecics_207_at_cm_p_cs_btiss_scpm_top_one_random_forest_pred_vs_actual_cs28_over_time.png\\\",\\n    dpi=300,\\n    bbox_inches=\\\"tight\\\",\\n)\\n\\nplt.show()\";\n",
       "                var nbb_cells = Jupyter.notebook.get_cells();\n",
       "                for (var i = 0; i < nbb_cells.length; ++i) {\n",
       "                    if (nbb_cells[i].input_prompt_number == nbb_cell_id) {\n",
       "                        if (nbb_cells[i].get_text() == nbb_unformatted_code) {\n",
       "                             nbb_cells[i].set_text(nbb_formatted_code);\n",
       "                        }\n",
       "                        break;\n",
       "                    }\n",
       "                }\n",
       "            }, 500);\n",
       "            "
      ],
      "text/plain": [
       "<IPython.core.display.Javascript object>"
      ]
     },
     "metadata": {},
     "output_type": "display_data"
    }
   ],
   "source": [
    "plt.figure(figsize=(10, 6))\n",
    "plt.plot(\n",
    "    test_data[\"DATE\"],\n",
    "    test_data[\"CS28\"],\n",
    "    color=\"dodgerblue\",\n",
    "    alpha=0.7,\n",
    "    marker=\"o\",\n",
    "    linestyle=\"none\",\n",
    "    label=\"Actual CS28\",\n",
    ")\n",
    "plt.plot(\n",
    "    test_data[\"DATE\"],\n",
    "    test_data[\"CS28_PRED\"],\n",
    "    color=\"tomato\",\n",
    "    alpha=0.7,\n",
    "    marker=\"o\",\n",
    "    linestyle=\"none\",\n",
    "    label=\"Predicted CS28\",\n",
    ")\n",
    "plt.xlabel(\"Date\")\n",
    "plt.ylabel(\"CS28 (MPa)\")\n",
    "plt.title(\"Actual vs Predicted CS28\")\n",
    "plt.legend(loc=\"best\")\n",
    "plt.grid(True)\n",
    "\n",
    "plt.gca().spines[\"top\"].set_visible(False)\n",
    "plt.gca().spines[\"right\"].set_visible(False)\n",
    "\n",
    "plt.savefig(\n",
    "    \"ecics_207_at_cm_p_cs_btiss_scpm_top_one_random_forest_pred_vs_actual_cs28_over_time.png\",\n",
    "    dpi=300,\n",
    "    bbox_inches=\"tight\",\n",
    ")\n",
    "\n",
    "plt.show()\n"
   ]
  },
  {
   "cell_type": "markdown",
   "id": "c1787fa2",
   "metadata": {},
   "source": [
    "## Assessing Feature Importance"
   ]
  },
  {
   "cell_type": "code",
   "execution_count": 18,
   "id": "758f06d5",
   "metadata": {},
   "outputs": [
    {
     "data": {
      "application/javascript": [
       "\n",
       "            setTimeout(function() {\n",
       "                var nbb_cell_id = 18;\n",
       "                var nbb_unformatted_code = \"df_importances = get_random_forest_df_importances(scores)\";\n",
       "                var nbb_formatted_code = \"df_importances = get_random_forest_df_importances(scores)\";\n",
       "                var nbb_cells = Jupyter.notebook.get_cells();\n",
       "                for (var i = 0; i < nbb_cells.length; ++i) {\n",
       "                    if (nbb_cells[i].input_prompt_number == nbb_cell_id) {\n",
       "                        if (nbb_cells[i].get_text() == nbb_unformatted_code) {\n",
       "                             nbb_cells[i].set_text(nbb_formatted_code);\n",
       "                        }\n",
       "                        break;\n",
       "                    }\n",
       "                }\n",
       "            }, 500);\n",
       "            "
      ],
      "text/plain": [
       "<IPython.core.display.Javascript object>"
      ]
     },
     "metadata": {},
     "output_type": "display_data"
    }
   ],
   "source": [
    "df_importances = get_random_forest_df_importances(scores)"
   ]
  },
  {
   "cell_type": "code",
   "execution_count": 19,
   "id": "e31a252b",
   "metadata": {},
   "outputs": [
    {
     "data": {
      "text/html": [
       "<div>\n",
       "<style scoped>\n",
       "    .dataframe tbody tr th:only-of-type {\n",
       "        vertical-align: middle;\n",
       "    }\n",
       "\n",
       "    .dataframe tbody tr th {\n",
       "        vertical-align: top;\n",
       "    }\n",
       "\n",
       "    .dataframe thead th {\n",
       "        text-align: right;\n",
       "    }\n",
       "</style>\n",
       "<table border=\"1\" class=\"dataframe\">\n",
       "  <thead>\n",
       "    <tr style=\"text-align: right;\">\n",
       "      <th></th>\n",
       "      <th>CaO</th>\n",
       "      <th>MgO</th>\n",
       "      <th>Na2O</th>\n",
       "      <th>Al2O3</th>\n",
       "      <th>SiO2</th>\n",
       "      <th>SO3</th>\n",
       "      <th>K2O</th>\n",
       "      <th>Fe2O3</th>\n",
       "      <th>Loss on Ignition</th>\n",
       "      <th>Insoluble Residue</th>\n",
       "      <th>Blaine</th>\n",
       "      <th>#200</th>\n",
       "      <th>#400</th>\n",
       "      <th>Specific Gravity</th>\n",
       "      <th>Initial setting time</th>\n",
       "      <th>Final setting time</th>\n",
       "      <th>CS3</th>\n",
       "      <th>CS7</th>\n",
       "    </tr>\n",
       "  </thead>\n",
       "  <tbody>\n",
       "    <tr>\n",
       "      <th>Importances - 0</th>\n",
       "      <td>0.000000</td>\n",
       "      <td>0.006226</td>\n",
       "      <td>0.060307</td>\n",
       "      <td>0.000000</td>\n",
       "      <td>0.000000</td>\n",
       "      <td>0.000000</td>\n",
       "      <td>0.073641</td>\n",
       "      <td>0.000000</td>\n",
       "      <td>0.037124</td>\n",
       "      <td>0.006247</td>\n",
       "      <td>0.006209</td>\n",
       "      <td>0.008960</td>\n",
       "      <td>0.000000</td>\n",
       "      <td>0.000000</td>\n",
       "      <td>0.046686</td>\n",
       "      <td>0.010453</td>\n",
       "      <td>0.062346</td>\n",
       "      <td>0.681801</td>\n",
       "    </tr>\n",
       "    <tr>\n",
       "      <th>Importances - 1</th>\n",
       "      <td>0.014901</td>\n",
       "      <td>0.000000</td>\n",
       "      <td>0.014005</td>\n",
       "      <td>0.005156</td>\n",
       "      <td>0.000000</td>\n",
       "      <td>0.160575</td>\n",
       "      <td>0.047403</td>\n",
       "      <td>0.030355</td>\n",
       "      <td>0.036040</td>\n",
       "      <td>0.024501</td>\n",
       "      <td>0.008011</td>\n",
       "      <td>0.001658</td>\n",
       "      <td>0.000000</td>\n",
       "      <td>0.011045</td>\n",
       "      <td>0.039100</td>\n",
       "      <td>0.029134</td>\n",
       "      <td>0.004306</td>\n",
       "      <td>0.573808</td>\n",
       "    </tr>\n",
       "    <tr>\n",
       "      <th>Importances - 2</th>\n",
       "      <td>0.006781</td>\n",
       "      <td>0.199299</td>\n",
       "      <td>0.000000</td>\n",
       "      <td>0.002192</td>\n",
       "      <td>0.064297</td>\n",
       "      <td>0.028763</td>\n",
       "      <td>0.131305</td>\n",
       "      <td>0.045419</td>\n",
       "      <td>0.045932</td>\n",
       "      <td>0.000000</td>\n",
       "      <td>0.086989</td>\n",
       "      <td>0.017947</td>\n",
       "      <td>0.011049</td>\n",
       "      <td>0.049837</td>\n",
       "      <td>0.000000</td>\n",
       "      <td>0.025770</td>\n",
       "      <td>0.005460</td>\n",
       "      <td>0.278961</td>\n",
       "    </tr>\n",
       "    <tr>\n",
       "      <th>Importances - 3</th>\n",
       "      <td>0.046913</td>\n",
       "      <td>0.000000</td>\n",
       "      <td>0.000000</td>\n",
       "      <td>0.008105</td>\n",
       "      <td>0.009704</td>\n",
       "      <td>0.001954</td>\n",
       "      <td>0.000319</td>\n",
       "      <td>0.007450</td>\n",
       "      <td>0.724834</td>\n",
       "      <td>0.004885</td>\n",
       "      <td>0.000000</td>\n",
       "      <td>0.002483</td>\n",
       "      <td>0.000000</td>\n",
       "      <td>0.000000</td>\n",
       "      <td>0.000000</td>\n",
       "      <td>0.000000</td>\n",
       "      <td>0.147618</td>\n",
       "      <td>0.045734</td>\n",
       "    </tr>\n",
       "    <tr>\n",
       "      <th>Importances - 4</th>\n",
       "      <td>0.000000</td>\n",
       "      <td>0.010711</td>\n",
       "      <td>0.002996</td>\n",
       "      <td>0.000000</td>\n",
       "      <td>0.001734</td>\n",
       "      <td>0.001743</td>\n",
       "      <td>0.000000</td>\n",
       "      <td>0.003841</td>\n",
       "      <td>0.879072</td>\n",
       "      <td>0.000000</td>\n",
       "      <td>0.000000</td>\n",
       "      <td>0.000000</td>\n",
       "      <td>0.000000</td>\n",
       "      <td>0.000000</td>\n",
       "      <td>0.000000</td>\n",
       "      <td>0.000000</td>\n",
       "      <td>0.014315</td>\n",
       "      <td>0.085588</td>\n",
       "    </tr>\n",
       "  </tbody>\n",
       "</table>\n",
       "</div>"
      ],
      "text/plain": [
       "                      CaO       MgO      Na2O     Al2O3      SiO2       SO3  \\\n",
       "Importances - 0  0.000000  0.006226  0.060307  0.000000  0.000000  0.000000   \n",
       "Importances - 1  0.014901  0.000000  0.014005  0.005156  0.000000  0.160575   \n",
       "Importances - 2  0.006781  0.199299  0.000000  0.002192  0.064297  0.028763   \n",
       "Importances - 3  0.046913  0.000000  0.000000  0.008105  0.009704  0.001954   \n",
       "Importances - 4  0.000000  0.010711  0.002996  0.000000  0.001734  0.001743   \n",
       "\n",
       "                      K2O     Fe2O3  Loss on Ignition  Insoluble Residue  \\\n",
       "Importances - 0  0.073641  0.000000          0.037124           0.006247   \n",
       "Importances - 1  0.047403  0.030355          0.036040           0.024501   \n",
       "Importances - 2  0.131305  0.045419          0.045932           0.000000   \n",
       "Importances - 3  0.000319  0.007450          0.724834           0.004885   \n",
       "Importances - 4  0.000000  0.003841          0.879072           0.000000   \n",
       "\n",
       "                   Blaine      #200      #400  Specific Gravity  \\\n",
       "Importances - 0  0.006209  0.008960  0.000000          0.000000   \n",
       "Importances - 1  0.008011  0.001658  0.000000          0.011045   \n",
       "Importances - 2  0.086989  0.017947  0.011049          0.049837   \n",
       "Importances - 3  0.000000  0.002483  0.000000          0.000000   \n",
       "Importances - 4  0.000000  0.000000  0.000000          0.000000   \n",
       "\n",
       "                 Initial setting time  Final setting time       CS3       CS7  \n",
       "Importances - 0              0.046686            0.010453  0.062346  0.681801  \n",
       "Importances - 1              0.039100            0.029134  0.004306  0.573808  \n",
       "Importances - 2              0.000000            0.025770  0.005460  0.278961  \n",
       "Importances - 3              0.000000            0.000000  0.147618  0.045734  \n",
       "Importances - 4              0.000000            0.000000  0.014315  0.085588  "
      ]
     },
     "execution_count": 19,
     "metadata": {},
     "output_type": "execute_result"
    },
    {
     "data": {
      "application/javascript": [
       "\n",
       "            setTimeout(function() {\n",
       "                var nbb_cell_id = 19;\n",
       "                var nbb_unformatted_code = \"df_importances\";\n",
       "                var nbb_formatted_code = \"df_importances\";\n",
       "                var nbb_cells = Jupyter.notebook.get_cells();\n",
       "                for (var i = 0; i < nbb_cells.length; ++i) {\n",
       "                    if (nbb_cells[i].input_prompt_number == nbb_cell_id) {\n",
       "                        if (nbb_cells[i].get_text() == nbb_unformatted_code) {\n",
       "                             nbb_cells[i].set_text(nbb_formatted_code);\n",
       "                        }\n",
       "                        break;\n",
       "                    }\n",
       "                }\n",
       "            }, 500);\n",
       "            "
      ],
      "text/plain": [
       "<IPython.core.display.Javascript object>"
      ]
     },
     "metadata": {},
     "output_type": "display_data"
    }
   ],
   "source": [
    "df_importances"
   ]
  },
  {
   "cell_type": "code",
   "execution_count": 20,
   "id": "cdb5745e",
   "metadata": {},
   "outputs": [
    {
     "data": {
      "image/png": "[encoded data removed]",
      "text/plain": [
       "<Figure size 1000x550 with 1 Axes>"
      ]
     },
     "metadata": {},
     "output_type": "display_data"
    },
    {
     "data": {
      "application/javascript": [
       "\n",
       "            setTimeout(function() {\n",
       "                var nbb_cell_id = 20;\n",
       "                var nbb_unformatted_code = \"df_importances.mean(axis=0).sort_values().plot(\\n    kind=\\\"barh\\\", figsize=(10, 5.5), color=\\\"steelblue\\\"  # Consider using 'steelblue'\\n)\\nplt.title(\\\"Random Forest Variable Relevance\\\")\\nplt.xlabel(\\\"Variable Relevance (Mean Decrease in Impurity)\\\")\\nplt.grid(axis=\\\"x\\\", linestyle=\\\"--\\\", alpha=0.7)\\nplt.gca().spines[\\\"top\\\"].set_visible(False)\\nplt.gca().spines[\\\"right\\\"].set_visible(False)\\nplt.tight_layout()\\nplt.subplots_adjust(left=0.3)\\nplt.show()\";\n",
       "                var nbb_formatted_code = \"df_importances.mean(axis=0).sort_values().plot(\\n    kind=\\\"barh\\\", figsize=(10, 5.5), color=\\\"steelblue\\\"  # Consider using 'steelblue'\\n)\\nplt.title(\\\"Random Forest Variable Relevance\\\")\\nplt.xlabel(\\\"Variable Relevance (Mean Decrease in Impurity)\\\")\\nplt.grid(axis=\\\"x\\\", linestyle=\\\"--\\\", alpha=0.7)\\nplt.gca().spines[\\\"top\\\"].set_visible(False)\\nplt.gca().spines[\\\"right\\\"].set_visible(False)\\nplt.tight_layout()\\nplt.subplots_adjust(left=0.3)\\nplt.show()\";\n",
       "                var nbb_cells = Jupyter.notebook.get_cells();\n",
       "                for (var i = 0; i < nbb_cells.length; ++i) {\n",
       "                    if (nbb_cells[i].input_prompt_number == nbb_cell_id) {\n",
       "                        if (nbb_cells[i].get_text() == nbb_unformatted_code) {\n",
       "                             nbb_cells[i].set_text(nbb_formatted_code);\n",
       "                        }\n",
       "                        break;\n",
       "                    }\n",
       "                }\n",
       "            }, 500);\n",
       "            "
      ],
      "text/plain": [
       "<IPython.core.display.Javascript object>"
      ]
     },
     "metadata": {},
     "output_type": "display_data"
    }
   ],
   "source": [
    "df_importances.mean(axis=0).sort_values().plot(\n",
    "    kind=\"barh\", figsize=(10, 5.5), color=\"steelblue\"  # Consider using 'steelblue'\n",
    ")\n",
    "plt.title(\"Random Forest Variable Relevance\")\n",
    "plt.xlabel(\"Variable Relevance (Mean Decrease in Impurity)\")\n",
    "plt.grid(axis=\"x\", linestyle=\"--\", alpha=0.7)\n",
    "plt.gca().spines[\"top\"].set_visible(False)\n",
    "plt.gca().spines[\"right\"].set_visible(False)\n",
    "plt.tight_layout()\n",
    "plt.subplots_adjust(left=0.3)\n",
    "plt.show()"
   ]
  },
  {
   "cell_type": "code",
   "execution_count": 21,
   "id": "8f69eae7",
   "metadata": {},
   "outputs": [
    {
     "data": {
      "image/png": "[encoded data removed]",
      "text/plain": [
       "<Figure size 1000x550 with 1 Axes>"
      ]
     },
     "metadata": {},
     "output_type": "display_data"
    },
    {
     "data": {
      "application/javascript": [
       "\n",
       "            setTimeout(function() {\n",
       "                var nbb_cell_id = 21;\n",
       "                var nbb_unformatted_code = \"warnings.filterwarnings(\\\"ignore\\\")\\nplt.figure(figsize=(10, 5.5))\\nsns.boxplot(data=df_importances, orient=\\\"h\\\", color=\\\"lightsteelblue\\\", saturation=0.7, showmeans=True)\\nsns.despine(trim=True, left=False)\\nplt.xlabel(\\\"Relevance (MDI)\\\")\\nplt.title(\\\"Variable Relevance Distribution\\\")\\nplt.grid(axis='x', linestyle='--', alpha=0.7)\\nplt.subplots_adjust(left=0.3)\\nplt.show()\";\n",
       "                var nbb_formatted_code = \"warnings.filterwarnings(\\\"ignore\\\")\\nplt.figure(figsize=(10, 5.5))\\nsns.boxplot(\\n    data=df_importances,\\n    orient=\\\"h\\\",\\n    color=\\\"lightsteelblue\\\",\\n    saturation=0.7,\\n    showmeans=True,\\n)\\nsns.despine(trim=True, left=False)\\nplt.xlabel(\\\"Relevance (MDI)\\\")\\nplt.title(\\\"Variable Relevance Distribution\\\")\\nplt.grid(axis=\\\"x\\\", linestyle=\\\"--\\\", alpha=0.7)\\nplt.subplots_adjust(left=0.3)\\nplt.show()\";\n",
       "                var nbb_cells = Jupyter.notebook.get_cells();\n",
       "                for (var i = 0; i < nbb_cells.length; ++i) {\n",
       "                    if (nbb_cells[i].input_prompt_number == nbb_cell_id) {\n",
       "                        if (nbb_cells[i].get_text() == nbb_unformatted_code) {\n",
       "                             nbb_cells[i].set_text(nbb_formatted_code);\n",
       "                        }\n",
       "                        break;\n",
       "                    }\n",
       "                }\n",
       "            }, 500);\n",
       "            "
      ],
      "text/plain": [
       "<IPython.core.display.Javascript object>"
      ]
     },
     "metadata": {},
     "output_type": "display_data"
    }
   ],
   "source": [
    "warnings.filterwarnings(\"ignore\")\n",
    "plt.figure(figsize=(10, 5.5))\n",
    "sns.boxplot(data=df_importances, orient=\"h\", color=\"lightsteelblue\", saturation=0.7, showmeans=True)\n",
    "sns.despine(trim=True, left=False)\n",
    "plt.xlabel(\"Relevance (MDI)\")\n",
    "plt.title(\"Variable Relevance Distribution\")\n",
    "plt.grid(axis='x', linestyle='--', alpha=0.7)\n",
    "plt.subplots_adjust(left=0.3)\n",
    "plt.show()\n"
   ]
  },
  {
   "cell_type": "code",
   "execution_count": 22,
   "id": "37146acc",
   "metadata": {},
   "outputs": [
    {
     "data": {
      "image/png": "[encoded data removed]",
      "text/plain": [
       "<Figure size 1000x550 with 1 Axes>"
      ]
     },
     "metadata": {},
     "output_type": "display_data"
    },
    {
     "data": {
      "application/javascript": [
       "\n",
       "            setTimeout(function() {\n",
       "                var nbb_cell_id = 22;\n",
       "                var nbb_unformatted_code = \"# Calculate the means of the importance scores\\nmean_importances = df_importances.mean()\\n\\n# Sort the features by their mean relevance\\nsorted_features = mean_importances.sort_values()\\n\\n# Re-order the DataFrame according to the sorted features\\ndf_importances_sorted = df_importances[sorted_features.index]\\n\\n# Backup the original backend\\noriginal_backend = plt.get_backend()\\n\\n# Use Matplotlib's default backend\\n# plt.switch_backend(\\\"agg\\\")  # or any backend you prefer\\n\\n# Update font settings to default\\nplt.rcParams.update(\\n    {\\n        \\\"font.family\\\": \\\"sans-serif\\\",\\n        \\\"font.sans-serif\\\": [\\\"DejaVu Sans\\\"],\\n        \\\"font.size\\\": 10,\\n        \\\"text.usetex\\\": False,  # Use MathText, not LaTeX\\n    }\\n)\\n\\n\\n# Convert chemical formulas using MathText syntax\\ndf_importances_sorted_plot = df_importances_sorted.rename(\\n    columns={\\n        \\\"K2O\\\": r\\\"$\\\\mathrm{K_2O}$\\\",\\n        \\\"Free CaO\\\": r\\\"Free $\\\\mathrm{CaO}$\\\",\\n        \\\"Total C2S\\\": r\\\"Total $\\\\mathrm{C_2S}$\\\",\\n        \\\"Na2O\\\": r\\\"$\\\\mathrm{Na_2O}$\\\",\\n        \\\"CaO\\\": r\\\"$\\\\mathrm{CaO}$\\\",\\n        \\\"SiO2\\\": r\\\"$\\\\mathrm{SiO_2}$\\\",\\n        \\\"MgO\\\": r\\\"$\\\\mathrm{MgO}$\\\",\\n        \\\"Fe2O3\\\": r\\\"$\\\\mathrm{Fe_2O_3}$\\\",\\n        \\\"Al2O3\\\": r\\\"$\\\\mathrm{Al_2O_3}$\\\",\\n        \\\"Total C3S\\\": r\\\"Total $\\\\mathrm{C_3S}$\\\",\\n        \\\"C3A\\\": r\\\"$\\\\mathrm{C_3A}$\\\",\\n        \\\"C4AF\\\": r\\\"$\\\\mathrm{C_4AF}$\\\",\\n        \\\"LOI\\\": \\\"LOI\\\",\\n        \\\"SO3\\\": r\\\"$\\\\mathrm{SO_3}$\\\",\\n        \\\"Insoluble Residue\\\": \\\"IR\\\",\\n    }\\n)\\n\\nplt.figure(figsize=(10, 5.5))\\nsns.boxplot(\\n    data=df_importances_sorted_plot,\\n    orient=\\\"h\\\",\\n    color=\\\"lightsteelblue\\\",\\n    saturation=1,\\n    showmeans=True,\\n)\\nsns.despine(trim=True, left=False)\\nplt.xlabel(\\\"Relevance (MDI)\\\")\\nplt.title(\\\"Variable Relevance Distribution\\\")\\nplt.grid(axis=\\\"x\\\", linestyle=\\\"--\\\", alpha=0.7)\\nplt.subplots_adjust(left=0.3)\\nplt.savefig(\\n    \\\"ecics_207_at_cm_p_cs_btiss_random_forest_scpm_best_dist_var_relevance.png\\\",\\n    dpi=300,\\n    bbox_inches=\\\"tight\\\",\\n)\\nplt.show()\\n\\n\\n# Step 3: Reset all rcParams to their default values\\nmatplotlib.rcParams.update(matplotlib.rcParamsDefault)\\nplt.rcdefaults()\\n\\n# Switch back to the original backend\\nplt.switch_backend(original_backend)\";\n",
       "                var nbb_formatted_code = \"# Calculate the means of the importance scores\\nmean_importances = df_importances.mean()\\n\\n# Sort the features by their mean relevance\\nsorted_features = mean_importances.sort_values()\\n\\n# Re-order the DataFrame according to the sorted features\\ndf_importances_sorted = df_importances[sorted_features.index]\\n\\n# Backup the original backend\\noriginal_backend = plt.get_backend()\\n\\n# Use Matplotlib's default backend\\n# plt.switch_backend(\\\"agg\\\")  # or any backend you prefer\\n\\n# Update font settings to default\\nplt.rcParams.update(\\n    {\\n        \\\"font.family\\\": \\\"sans-serif\\\",\\n        \\\"font.sans-serif\\\": [\\\"DejaVu Sans\\\"],\\n        \\\"font.size\\\": 10,\\n        \\\"text.usetex\\\": False,  # Use MathText, not LaTeX\\n    }\\n)\\n\\n\\n# Convert chemical formulas using MathText syntax\\ndf_importances_sorted_plot = df_importances_sorted.rename(\\n    columns={\\n        \\\"K2O\\\": r\\\"$\\\\mathrm{K_2O}$\\\",\\n        \\\"Free CaO\\\": r\\\"Free $\\\\mathrm{CaO}$\\\",\\n        \\\"Total C2S\\\": r\\\"Total $\\\\mathrm{C_2S}$\\\",\\n        \\\"Na2O\\\": r\\\"$\\\\mathrm{Na_2O}$\\\",\\n        \\\"CaO\\\": r\\\"$\\\\mathrm{CaO}$\\\",\\n        \\\"SiO2\\\": r\\\"$\\\\mathrm{SiO_2}$\\\",\\n        \\\"MgO\\\": r\\\"$\\\\mathrm{MgO}$\\\",\\n        \\\"Fe2O3\\\": r\\\"$\\\\mathrm{Fe_2O_3}$\\\",\\n        \\\"Al2O3\\\": r\\\"$\\\\mathrm{Al_2O_3}$\\\",\\n        \\\"Total C3S\\\": r\\\"Total $\\\\mathrm{C_3S}$\\\",\\n        \\\"C3A\\\": r\\\"$\\\\mathrm{C_3A}$\\\",\\n        \\\"C4AF\\\": r\\\"$\\\\mathrm{C_4AF}$\\\",\\n        \\\"LOI\\\": \\\"LOI\\\",\\n        \\\"SO3\\\": r\\\"$\\\\mathrm{SO_3}$\\\",\\n        \\\"Insoluble Residue\\\": \\\"IR\\\",\\n    }\\n)\\n\\nplt.figure(figsize=(10, 5.5))\\nsns.boxplot(\\n    data=df_importances_sorted_plot,\\n    orient=\\\"h\\\",\\n    color=\\\"lightsteelblue\\\",\\n    saturation=1,\\n    showmeans=True,\\n)\\nsns.despine(trim=True, left=False)\\nplt.xlabel(\\\"Relevance (MDI)\\\")\\nplt.title(\\\"Variable Relevance Distribution\\\")\\nplt.grid(axis=\\\"x\\\", linestyle=\\\"--\\\", alpha=0.7)\\nplt.subplots_adjust(left=0.3)\\nplt.savefig(\\n    \\\"ecics_207_at_cm_p_cs_btiss_random_forest_scpm_best_dist_var_relevance.png\\\",\\n    dpi=300,\\n    bbox_inches=\\\"tight\\\",\\n)\\nplt.show()\\n\\n\\n# Step 3: Reset all rcParams to their default values\\nmatplotlib.rcParams.update(matplotlib.rcParamsDefault)\\nplt.rcdefaults()\\n\\n# Switch back to the original backend\\nplt.switch_backend(original_backend)\";\n",
       "                var nbb_cells = Jupyter.notebook.get_cells();\n",
       "                for (var i = 0; i < nbb_cells.length; ++i) {\n",
       "                    if (nbb_cells[i].input_prompt_number == nbb_cell_id) {\n",
       "                        if (nbb_cells[i].get_text() == nbb_unformatted_code) {\n",
       "                             nbb_cells[i].set_text(nbb_formatted_code);\n",
       "                        }\n",
       "                        break;\n",
       "                    }\n",
       "                }\n",
       "            }, 500);\n",
       "            "
      ],
      "text/plain": [
       "<IPython.core.display.Javascript object>"
      ]
     },
     "metadata": {},
     "output_type": "display_data"
    }
   ],
   "source": [
    "# Calculate the means of the importance scores\n",
    "mean_importances = df_importances.mean()\n",
    "\n",
    "# Sort the features by their mean relevance\n",
    "sorted_features = mean_importances.sort_values()\n",
    "\n",
    "# Re-order the DataFrame according to the sorted features\n",
    "df_importances_sorted = df_importances[sorted_features.index]\n",
    "\n",
    "# Backup the original backend\n",
    "original_backend = plt.get_backend()\n",
    "\n",
    "# Use Matplotlib's default backend\n",
    "# plt.switch_backend(\"agg\")  # or any backend you prefer\n",
    "\n",
    "# Update font settings to default\n",
    "plt.rcParams.update(\n",
    "    {\n",
    "        \"font.family\": \"sans-serif\",\n",
    "        \"font.sans-serif\": [\"DejaVu Sans\"],\n",
    "        \"font.size\": 10,\n",
    "        \"text.usetex\": False,  # Use MathText, not LaTeX\n",
    "    }\n",
    ")\n",
    "\n",
    "\n",
    "# Convert chemical formulas using MathText syntax\n",
    "df_importances_sorted_plot = df_importances_sorted.rename(\n",
    "    columns={\n",
    "        \"K2O\": r\"$\\mathrm{K_2O}$\",\n",
    "        \"Free CaO\": r\"Free $\\mathrm{CaO}$\",\n",
    "        \"Total C2S\": r\"Total $\\mathrm{C_2S}$\",\n",
    "        \"Na2O\": r\"$\\mathrm{Na_2O}$\",\n",
    "        \"CaO\": r\"$\\mathrm{CaO}$\",\n",
    "        \"SiO2\": r\"$\\mathrm{SiO_2}$\",\n",
    "        \"MgO\": r\"$\\mathrm{MgO}$\",\n",
    "        \"Fe2O3\": r\"$\\mathrm{Fe_2O_3}$\",\n",
    "        \"Al2O3\": r\"$\\mathrm{Al_2O_3}$\",\n",
    "        \"Total C3S\": r\"Total $\\mathrm{C_3S}$\",\n",
    "        \"C3A\": r\"$\\mathrm{C_3A}$\",\n",
    "        \"C4AF\": r\"$\\mathrm{C_4AF}$\",\n",
    "        \"LOI\": \"LOI\",\n",
    "        \"SO3\": r\"$\\mathrm{SO_3}$\",\n",
    "        \"Insoluble Residue\": \"IR\",\n",
    "    }\n",
    ")\n",
    "\n",
    "plt.figure(figsize=(10, 5.5))\n",
    "sns.boxplot(\n",
    "    data=df_importances_sorted_plot,\n",
    "    orient=\"h\",\n",
    "    color=\"lightsteelblue\",\n",
    "    saturation=1,\n",
    "    showmeans=True,\n",
    ")\n",
    "sns.despine(trim=True, left=False)\n",
    "plt.xlabel(\"Relevance (MDI)\")\n",
    "plt.title(\"Variable Relevance Distribution\")\n",
    "plt.grid(axis=\"x\", linestyle=\"--\", alpha=0.7)\n",
    "plt.subplots_adjust(left=0.3)\n",
    "plt.savefig(\n",
    "    \"ecics_207_at_cm_p_cs_btiss_random_forest_scpm_best_dist_var_relevance.png\",\n",
    "    dpi=300,\n",
    "    bbox_inches=\"tight\",\n",
    ")\n",
    "plt.show()\n",
    "\n",
    "\n",
    "# Step 3: Reset all rcParams to their default values\n",
    "matplotlib.rcParams.update(matplotlib.rcParamsDefault)\n",
    "plt.rcdefaults()\n",
    "\n",
    "# Switch back to the original backend\n",
    "plt.switch_backend(original_backend)"
   ]
  },
  {
   "cell_type": "code",
   "execution_count": 23,
   "id": "f5f46aec",
   "metadata": {},
   "outputs": [
    {
     "data": {
      "text/html": [
       "<div>\n",
       "<style scoped>\n",
       "    .dataframe tbody tr th:only-of-type {\n",
       "        vertical-align: middle;\n",
       "    }\n",
       "\n",
       "    .dataframe tbody tr th {\n",
       "        vertical-align: top;\n",
       "    }\n",
       "\n",
       "    .dataframe thead th {\n",
       "        text-align: right;\n",
       "    }\n",
       "</style>\n",
       "<table border=\"1\" class=\"dataframe\">\n",
       "  <thead>\n",
       "    <tr style=\"text-align: right;\">\n",
       "      <th></th>\n",
       "      <th>CaO</th>\n",
       "      <th>MgO</th>\n",
       "      <th>Na2O</th>\n",
       "      <th>Al2O3</th>\n",
       "      <th>SiO2</th>\n",
       "      <th>SO3</th>\n",
       "      <th>K2O</th>\n",
       "      <th>Fe2O3</th>\n",
       "      <th>Loss on Ignition</th>\n",
       "      <th>Insoluble Residue</th>\n",
       "      <th>Blaine</th>\n",
       "      <th>#200</th>\n",
       "      <th>#400</th>\n",
       "      <th>Specific Gravity</th>\n",
       "      <th>Initial setting time</th>\n",
       "      <th>Final setting time</th>\n",
       "      <th>CS3</th>\n",
       "      <th>CS7</th>\n",
       "    </tr>\n",
       "  </thead>\n",
       "  <tbody>\n",
       "    <tr>\n",
       "      <th>Importances - 0</th>\n",
       "      <td>0.000000</td>\n",
       "      <td>0.006226</td>\n",
       "      <td>0.060307</td>\n",
       "      <td>0.000000</td>\n",
       "      <td>0.000000</td>\n",
       "      <td>0.000000</td>\n",
       "      <td>0.073641</td>\n",
       "      <td>0.000000</td>\n",
       "      <td>0.037124</td>\n",
       "      <td>0.006247</td>\n",
       "      <td>0.006209</td>\n",
       "      <td>0.008960</td>\n",
       "      <td>0.000000</td>\n",
       "      <td>0.000000</td>\n",
       "      <td>0.046686</td>\n",
       "      <td>0.010453</td>\n",
       "      <td>0.062346</td>\n",
       "      <td>0.681801</td>\n",
       "    </tr>\n",
       "    <tr>\n",
       "      <th>Importances - 1</th>\n",
       "      <td>0.014901</td>\n",
       "      <td>0.000000</td>\n",
       "      <td>0.014005</td>\n",
       "      <td>0.005156</td>\n",
       "      <td>0.000000</td>\n",
       "      <td>0.160575</td>\n",
       "      <td>0.047403</td>\n",
       "      <td>0.030355</td>\n",
       "      <td>0.036040</td>\n",
       "      <td>0.024501</td>\n",
       "      <td>0.008011</td>\n",
       "      <td>0.001658</td>\n",
       "      <td>0.000000</td>\n",
       "      <td>0.011045</td>\n",
       "      <td>0.039100</td>\n",
       "      <td>0.029134</td>\n",
       "      <td>0.004306</td>\n",
       "      <td>0.573808</td>\n",
       "    </tr>\n",
       "    <tr>\n",
       "      <th>Importances - 2</th>\n",
       "      <td>0.006781</td>\n",
       "      <td>0.199299</td>\n",
       "      <td>0.000000</td>\n",
       "      <td>0.002192</td>\n",
       "      <td>0.064297</td>\n",
       "      <td>0.028763</td>\n",
       "      <td>0.131305</td>\n",
       "      <td>0.045419</td>\n",
       "      <td>0.045932</td>\n",
       "      <td>0.000000</td>\n",
       "      <td>0.086989</td>\n",
       "      <td>0.017947</td>\n",
       "      <td>0.011049</td>\n",
       "      <td>0.049837</td>\n",
       "      <td>0.000000</td>\n",
       "      <td>0.025770</td>\n",
       "      <td>0.005460</td>\n",
       "      <td>0.278961</td>\n",
       "    </tr>\n",
       "    <tr>\n",
       "      <th>Importances - 3</th>\n",
       "      <td>0.046913</td>\n",
       "      <td>0.000000</td>\n",
       "      <td>0.000000</td>\n",
       "      <td>0.008105</td>\n",
       "      <td>0.009704</td>\n",
       "      <td>0.001954</td>\n",
       "      <td>0.000319</td>\n",
       "      <td>0.007450</td>\n",
       "      <td>0.724834</td>\n",
       "      <td>0.004885</td>\n",
       "      <td>0.000000</td>\n",
       "      <td>0.002483</td>\n",
       "      <td>0.000000</td>\n",
       "      <td>0.000000</td>\n",
       "      <td>0.000000</td>\n",
       "      <td>0.000000</td>\n",
       "      <td>0.147618</td>\n",
       "      <td>0.045734</td>\n",
       "    </tr>\n",
       "    <tr>\n",
       "      <th>Importances - 4</th>\n",
       "      <td>0.000000</td>\n",
       "      <td>0.010711</td>\n",
       "      <td>0.002996</td>\n",
       "      <td>0.000000</td>\n",
       "      <td>0.001734</td>\n",
       "      <td>0.001743</td>\n",
       "      <td>0.000000</td>\n",
       "      <td>0.003841</td>\n",
       "      <td>0.879072</td>\n",
       "      <td>0.000000</td>\n",
       "      <td>0.000000</td>\n",
       "      <td>0.000000</td>\n",
       "      <td>0.000000</td>\n",
       "      <td>0.000000</td>\n",
       "      <td>0.000000</td>\n",
       "      <td>0.000000</td>\n",
       "      <td>0.014315</td>\n",
       "      <td>0.085588</td>\n",
       "    </tr>\n",
       "  </tbody>\n",
       "</table>\n",
       "</div>"
      ],
      "text/plain": [
       "                      CaO       MgO      Na2O     Al2O3      SiO2       SO3  \\\n",
       "Importances - 0  0.000000  0.006226  0.060307  0.000000  0.000000  0.000000   \n",
       "Importances - 1  0.014901  0.000000  0.014005  0.005156  0.000000  0.160575   \n",
       "Importances - 2  0.006781  0.199299  0.000000  0.002192  0.064297  0.028763   \n",
       "Importances - 3  0.046913  0.000000  0.000000  0.008105  0.009704  0.001954   \n",
       "Importances - 4  0.000000  0.010711  0.002996  0.000000  0.001734  0.001743   \n",
       "\n",
       "                      K2O     Fe2O3  Loss on Ignition  Insoluble Residue  \\\n",
       "Importances - 0  0.073641  0.000000          0.037124           0.006247   \n",
       "Importances - 1  0.047403  0.030355          0.036040           0.024501   \n",
       "Importances - 2  0.131305  0.045419          0.045932           0.000000   \n",
       "Importances - 3  0.000319  0.007450          0.724834           0.004885   \n",
       "Importances - 4  0.000000  0.003841          0.879072           0.000000   \n",
       "\n",
       "                   Blaine      #200      #400  Specific Gravity  \\\n",
       "Importances - 0  0.006209  0.008960  0.000000          0.000000   \n",
       "Importances - 1  0.008011  0.001658  0.000000          0.011045   \n",
       "Importances - 2  0.086989  0.017947  0.011049          0.049837   \n",
       "Importances - 3  0.000000  0.002483  0.000000          0.000000   \n",
       "Importances - 4  0.000000  0.000000  0.000000          0.000000   \n",
       "\n",
       "                 Initial setting time  Final setting time       CS3       CS7  \n",
       "Importances - 0              0.046686            0.010453  0.062346  0.681801  \n",
       "Importances - 1              0.039100            0.029134  0.004306  0.573808  \n",
       "Importances - 2              0.000000            0.025770  0.005460  0.278961  \n",
       "Importances - 3              0.000000            0.000000  0.147618  0.045734  \n",
       "Importances - 4              0.000000            0.000000  0.014315  0.085588  "
      ]
     },
     "execution_count": 23,
     "metadata": {},
     "output_type": "execute_result"
    },
    {
     "data": {
      "application/javascript": [
       "\n",
       "            setTimeout(function() {\n",
       "                var nbb_cell_id = 23;\n",
       "                var nbb_unformatted_code = \"df_importances\";\n",
       "                var nbb_formatted_code = \"df_importances\";\n",
       "                var nbb_cells = Jupyter.notebook.get_cells();\n",
       "                for (var i = 0; i < nbb_cells.length; ++i) {\n",
       "                    if (nbb_cells[i].input_prompt_number == nbb_cell_id) {\n",
       "                        if (nbb_cells[i].get_text() == nbb_unformatted_code) {\n",
       "                             nbb_cells[i].set_text(nbb_formatted_code);\n",
       "                        }\n",
       "                        break;\n",
       "                    }\n",
       "                }\n",
       "            }, 500);\n",
       "            "
      ],
      "text/plain": [
       "<IPython.core.display.Javascript object>"
      ]
     },
     "metadata": {},
     "output_type": "display_data"
    }
   ],
   "source": [
    "df_importances"
   ]
  },
  {
   "cell_type": "code",
   "execution_count": 24,
   "id": "c6392192",
   "metadata": {},
   "outputs": [
    {
     "data": {
      "text/html": [
       "<div>\n",
       "<style scoped>\n",
       "    .dataframe tbody tr th:only-of-type {\n",
       "        vertical-align: middle;\n",
       "    }\n",
       "\n",
       "    .dataframe tbody tr th {\n",
       "        vertical-align: top;\n",
       "    }\n",
       "\n",
       "    .dataframe thead th {\n",
       "        text-align: right;\n",
       "    }\n",
       "</style>\n",
       "<table border=\"1\" class=\"dataframe\">\n",
       "  <thead>\n",
       "    <tr style=\"text-align: right;\">\n",
       "      <th></th>\n",
       "      <th>count</th>\n",
       "      <th>mean</th>\n",
       "      <th>std</th>\n",
       "      <th>min</th>\n",
       "      <th>25%</th>\n",
       "      <th>50%</th>\n",
       "      <th>75%</th>\n",
       "      <th>max</th>\n",
       "    </tr>\n",
       "  </thead>\n",
       "  <tbody>\n",
       "    <tr>\n",
       "      <th>CaO</th>\n",
       "      <td>5.0</td>\n",
       "      <td>0.013719</td>\n",
       "      <td>0.019544</td>\n",
       "      <td>0.000000</td>\n",
       "      <td>0.000000</td>\n",
       "      <td>0.006781</td>\n",
       "      <td>0.014901</td>\n",
       "      <td>0.046913</td>\n",
       "    </tr>\n",
       "    <tr>\n",
       "      <th>MgO</th>\n",
       "      <td>5.0</td>\n",
       "      <td>0.043247</td>\n",
       "      <td>0.087353</td>\n",
       "      <td>0.000000</td>\n",
       "      <td>0.000000</td>\n",
       "      <td>0.006226</td>\n",
       "      <td>0.010711</td>\n",
       "      <td>0.199299</td>\n",
       "    </tr>\n",
       "    <tr>\n",
       "      <th>Na2O</th>\n",
       "      <td>5.0</td>\n",
       "      <td>0.015462</td>\n",
       "      <td>0.025723</td>\n",
       "      <td>0.000000</td>\n",
       "      <td>0.000000</td>\n",
       "      <td>0.002996</td>\n",
       "      <td>0.014005</td>\n",
       "      <td>0.060307</td>\n",
       "    </tr>\n",
       "    <tr>\n",
       "      <th>Al2O3</th>\n",
       "      <td>5.0</td>\n",
       "      <td>0.003091</td>\n",
       "      <td>0.003511</td>\n",
       "      <td>0.000000</td>\n",
       "      <td>0.000000</td>\n",
       "      <td>0.002192</td>\n",
       "      <td>0.005156</td>\n",
       "      <td>0.008105</td>\n",
       "    </tr>\n",
       "    <tr>\n",
       "      <th>SiO2</th>\n",
       "      <td>5.0</td>\n",
       "      <td>0.015147</td>\n",
       "      <td>0.027767</td>\n",
       "      <td>0.000000</td>\n",
       "      <td>0.000000</td>\n",
       "      <td>0.001734</td>\n",
       "      <td>0.009704</td>\n",
       "      <td>0.064297</td>\n",
       "    </tr>\n",
       "    <tr>\n",
       "      <th>SO3</th>\n",
       "      <td>5.0</td>\n",
       "      <td>0.038607</td>\n",
       "      <td>0.069221</td>\n",
       "      <td>0.000000</td>\n",
       "      <td>0.001743</td>\n",
       "      <td>0.001954</td>\n",
       "      <td>0.028763</td>\n",
       "      <td>0.160575</td>\n",
       "    </tr>\n",
       "    <tr>\n",
       "      <th>K2O</th>\n",
       "      <td>5.0</td>\n",
       "      <td>0.050534</td>\n",
       "      <td>0.055097</td>\n",
       "      <td>0.000000</td>\n",
       "      <td>0.000319</td>\n",
       "      <td>0.047403</td>\n",
       "      <td>0.073641</td>\n",
       "      <td>0.131305</td>\n",
       "    </tr>\n",
       "    <tr>\n",
       "      <th>Fe2O3</th>\n",
       "      <td>5.0</td>\n",
       "      <td>0.017413</td>\n",
       "      <td>0.019612</td>\n",
       "      <td>0.000000</td>\n",
       "      <td>0.003841</td>\n",
       "      <td>0.007450</td>\n",
       "      <td>0.030355</td>\n",
       "      <td>0.045419</td>\n",
       "    </tr>\n",
       "    <tr>\n",
       "      <th>Loss on Ignition</th>\n",
       "      <td>5.0</td>\n",
       "      <td>0.344600</td>\n",
       "      <td>0.421068</td>\n",
       "      <td>0.036040</td>\n",
       "      <td>0.037124</td>\n",
       "      <td>0.045932</td>\n",
       "      <td>0.724834</td>\n",
       "      <td>0.879072</td>\n",
       "    </tr>\n",
       "    <tr>\n",
       "      <th>Insoluble Residue</th>\n",
       "      <td>5.0</td>\n",
       "      <td>0.007127</td>\n",
       "      <td>0.010115</td>\n",
       "      <td>0.000000</td>\n",
       "      <td>0.000000</td>\n",
       "      <td>0.004885</td>\n",
       "      <td>0.006247</td>\n",
       "      <td>0.024501</td>\n",
       "    </tr>\n",
       "    <tr>\n",
       "      <th>Blaine</th>\n",
       "      <td>5.0</td>\n",
       "      <td>0.020242</td>\n",
       "      <td>0.037487</td>\n",
       "      <td>0.000000</td>\n",
       "      <td>0.000000</td>\n",
       "      <td>0.006209</td>\n",
       "      <td>0.008011</td>\n",
       "      <td>0.086989</td>\n",
       "    </tr>\n",
       "    <tr>\n",
       "      <th>#200</th>\n",
       "      <td>5.0</td>\n",
       "      <td>0.006210</td>\n",
       "      <td>0.007391</td>\n",
       "      <td>0.000000</td>\n",
       "      <td>0.001658</td>\n",
       "      <td>0.002483</td>\n",
       "      <td>0.008960</td>\n",
       "      <td>0.017947</td>\n",
       "    </tr>\n",
       "    <tr>\n",
       "      <th>#400</th>\n",
       "      <td>5.0</td>\n",
       "      <td>0.002210</td>\n",
       "      <td>0.004941</td>\n",
       "      <td>0.000000</td>\n",
       "      <td>0.000000</td>\n",
       "      <td>0.000000</td>\n",
       "      <td>0.000000</td>\n",
       "      <td>0.011049</td>\n",
       "    </tr>\n",
       "    <tr>\n",
       "      <th>Specific Gravity</th>\n",
       "      <td>5.0</td>\n",
       "      <td>0.012176</td>\n",
       "      <td>0.021589</td>\n",
       "      <td>0.000000</td>\n",
       "      <td>0.000000</td>\n",
       "      <td>0.000000</td>\n",
       "      <td>0.011045</td>\n",
       "      <td>0.049837</td>\n",
       "    </tr>\n",
       "    <tr>\n",
       "      <th>Initial setting time</th>\n",
       "      <td>5.0</td>\n",
       "      <td>0.017157</td>\n",
       "      <td>0.023646</td>\n",
       "      <td>0.000000</td>\n",
       "      <td>0.000000</td>\n",
       "      <td>0.000000</td>\n",
       "      <td>0.039100</td>\n",
       "      <td>0.046686</td>\n",
       "    </tr>\n",
       "    <tr>\n",
       "      <th>Final setting time</th>\n",
       "      <td>5.0</td>\n",
       "      <td>0.013072</td>\n",
       "      <td>0.013855</td>\n",
       "      <td>0.000000</td>\n",
       "      <td>0.000000</td>\n",
       "      <td>0.010453</td>\n",
       "      <td>0.025770</td>\n",
       "      <td>0.029134</td>\n",
       "    </tr>\n",
       "    <tr>\n",
       "      <th>CS3</th>\n",
       "      <td>5.0</td>\n",
       "      <td>0.046809</td>\n",
       "      <td>0.061188</td>\n",
       "      <td>0.004306</td>\n",
       "      <td>0.005460</td>\n",
       "      <td>0.014315</td>\n",
       "      <td>0.062346</td>\n",
       "      <td>0.147618</td>\n",
       "    </tr>\n",
       "    <tr>\n",
       "      <th>CS7</th>\n",
       "      <td>5.0</td>\n",
       "      <td>0.333179</td>\n",
       "      <td>0.285616</td>\n",
       "      <td>0.045734</td>\n",
       "      <td>0.085588</td>\n",
       "      <td>0.278961</td>\n",
       "      <td>0.573808</td>\n",
       "      <td>0.681801</td>\n",
       "    </tr>\n",
       "  </tbody>\n",
       "</table>\n",
       "</div>"
      ],
      "text/plain": [
       "                      count      mean       std       min       25%       50%  \\\n",
       "CaO                     5.0  0.013719  0.019544  0.000000  0.000000  0.006781   \n",
       "MgO                     5.0  0.043247  0.087353  0.000000  0.000000  0.006226   \n",
       "Na2O                    5.0  0.015462  0.025723  0.000000  0.000000  0.002996   \n",
       "Al2O3                   5.0  0.003091  0.003511  0.000000  0.000000  0.002192   \n",
       "SiO2                    5.0  0.015147  0.027767  0.000000  0.000000  0.001734   \n",
       "SO3                     5.0  0.038607  0.069221  0.000000  0.001743  0.001954   \n",
       "K2O                     5.0  0.050534  0.055097  0.000000  0.000319  0.047403   \n",
       "Fe2O3                   5.0  0.017413  0.019612  0.000000  0.003841  0.007450   \n",
       "Loss on Ignition        5.0  0.344600  0.421068  0.036040  0.037124  0.045932   \n",
       "Insoluble Residue       5.0  0.007127  0.010115  0.000000  0.000000  0.004885   \n",
       "Blaine                  5.0  0.020242  0.037487  0.000000  0.000000  0.006209   \n",
       "#200                    5.0  0.006210  0.007391  0.000000  0.001658  0.002483   \n",
       "#400                    5.0  0.002210  0.004941  0.000000  0.000000  0.000000   \n",
       "Specific Gravity        5.0  0.012176  0.021589  0.000000  0.000000  0.000000   \n",
       "Initial setting time    5.0  0.017157  0.023646  0.000000  0.000000  0.000000   \n",
       "Final setting time      5.0  0.013072  0.013855  0.000000  0.000000  0.010453   \n",
       "CS3                     5.0  0.046809  0.061188  0.004306  0.005460  0.014315   \n",
       "CS7                     5.0  0.333179  0.285616  0.045734  0.085588  0.278961   \n",
       "\n",
       "                           75%       max  \n",
       "CaO                   0.014901  0.046913  \n",
       "MgO                   0.010711  0.199299  \n",
       "Na2O                  0.014005  0.060307  \n",
       "Al2O3                 0.005156  0.008105  \n",
       "SiO2                  0.009704  0.064297  \n",
       "SO3                   0.028763  0.160575  \n",
       "K2O                   0.073641  0.131305  \n",
       "Fe2O3                 0.030355  0.045419  \n",
       "Loss on Ignition      0.724834  0.879072  \n",
       "Insoluble Residue     0.006247  0.024501  \n",
       "Blaine                0.008011  0.086989  \n",
       "#200                  0.008960  0.017947  \n",
       "#400                  0.000000  0.011049  \n",
       "Specific Gravity      0.011045  0.049837  \n",
       "Initial setting time  0.039100  0.046686  \n",
       "Final setting time    0.025770  0.029134  \n",
       "CS3                   0.062346  0.147618  \n",
       "CS7                   0.573808  0.681801  "
      ]
     },
     "execution_count": 24,
     "metadata": {},
     "output_type": "execute_result"
    },
    {
     "data": {
      "application/javascript": [
       "\n",
       "            setTimeout(function() {\n",
       "                var nbb_cell_id = 24;\n",
       "                var nbb_unformatted_code = \"df_importances.describe().T\";\n",
       "                var nbb_formatted_code = \"df_importances.describe().T\";\n",
       "                var nbb_cells = Jupyter.notebook.get_cells();\n",
       "                for (var i = 0; i < nbb_cells.length; ++i) {\n",
       "                    if (nbb_cells[i].input_prompt_number == nbb_cell_id) {\n",
       "                        if (nbb_cells[i].get_text() == nbb_unformatted_code) {\n",
       "                             nbb_cells[i].set_text(nbb_formatted_code);\n",
       "                        }\n",
       "                        break;\n",
       "                    }\n",
       "                }\n",
       "            }, 500);\n",
       "            "
      ],
      "text/plain": [
       "<IPython.core.display.Javascript object>"
      ]
     },
     "metadata": {},
     "output_type": "display_data"
    }
   ],
   "source": [
    "df_importances.describe().T"
   ]
  },
  {
   "cell_type": "code",
   "execution_count": 25,
   "id": "8eb194e9",
   "metadata": {},
   "outputs": [
    {
     "data": {
      "text/plain": [
       "CaO                     0.013719\n",
       "MgO                     0.043247\n",
       "Na2O                    0.015462\n",
       "Al2O3                   0.003091\n",
       "SiO2                    0.015147\n",
       "SO3                     0.038607\n",
       "K2O                     0.050534\n",
       "Fe2O3                   0.017413\n",
       "Loss on Ignition        0.344600\n",
       "Insoluble Residue       0.007127\n",
       "Blaine                  0.020242\n",
       "#200                    0.006210\n",
       "#400                    0.002210\n",
       "Specific Gravity        0.012176\n",
       "Initial setting time    0.017157\n",
       "Final setting time      0.013072\n",
       "CS3                     0.046809\n",
       "CS7                     0.333179\n",
       "dtype: float64"
      ]
     },
     "execution_count": 25,
     "metadata": {},
     "output_type": "execute_result"
    },
    {
     "data": {
      "application/javascript": [
       "\n",
       "            setTimeout(function() {\n",
       "                var nbb_cell_id = 25;\n",
       "                var nbb_unformatted_code = \"df_importances.mean(axis=0)\";\n",
       "                var nbb_formatted_code = \"df_importances.mean(axis=0)\";\n",
       "                var nbb_cells = Jupyter.notebook.get_cells();\n",
       "                for (var i = 0; i < nbb_cells.length; ++i) {\n",
       "                    if (nbb_cells[i].input_prompt_number == nbb_cell_id) {\n",
       "                        if (nbb_cells[i].get_text() == nbb_unformatted_code) {\n",
       "                             nbb_cells[i].set_text(nbb_formatted_code);\n",
       "                        }\n",
       "                        break;\n",
       "                    }\n",
       "                }\n",
       "            }, 500);\n",
       "            "
      ],
      "text/plain": [
       "<IPython.core.display.Javascript object>"
      ]
     },
     "metadata": {},
     "output_type": "display_data"
    }
   ],
   "source": [
    "df_importances.mean(axis=0)"
   ]
  },
  {
   "cell_type": "code",
   "execution_count": 26,
   "id": "a6ce5396",
   "metadata": {},
   "outputs": [
    {
     "data": {
      "text/plain": [
       "CaO                     0.017480\n",
       "MgO                     0.078131\n",
       "Na2O                    0.023008\n",
       "Al2O3                   0.003141\n",
       "SiO2                    0.024836\n",
       "SO3                     0.061913\n",
       "K2O                     0.049281\n",
       "Fe2O3                   0.017541\n",
       "Loss on Ignition        0.376614\n",
       "Insoluble Residue       0.009047\n",
       "Blaine                  0.033530\n",
       "#200                    0.006610\n",
       "#400                    0.004420\n",
       "Specific Gravity        0.019310\n",
       "Initial setting time    0.021150\n",
       "Final setting time      0.012392\n",
       "CS3                     0.054728\n",
       "CS7                     0.255462\n",
       "dtype: float64"
      ]
     },
     "execution_count": 26,
     "metadata": {},
     "output_type": "execute_result"
    },
    {
     "data": {
      "application/javascript": [
       "\n",
       "            setTimeout(function() {\n",
       "                var nbb_cell_id = 26;\n",
       "                var nbb_unformatted_code = \"df_importances.std(axis=0, ddof=0)\";\n",
       "                var nbb_formatted_code = \"df_importances.std(axis=0, ddof=0)\";\n",
       "                var nbb_cells = Jupyter.notebook.get_cells();\n",
       "                for (var i = 0; i < nbb_cells.length; ++i) {\n",
       "                    if (nbb_cells[i].input_prompt_number == nbb_cell_id) {\n",
       "                        if (nbb_cells[i].get_text() == nbb_unformatted_code) {\n",
       "                             nbb_cells[i].set_text(nbb_formatted_code);\n",
       "                        }\n",
       "                        break;\n",
       "                    }\n",
       "                }\n",
       "            }, 500);\n",
       "            "
      ],
      "text/plain": [
       "<IPython.core.display.Javascript object>"
      ]
     },
     "metadata": {},
     "output_type": "display_data"
    }
   ],
   "source": [
    "df_importances.std(axis=0, ddof=0)"
   ]
  },
  {
   "cell_type": "code",
   "execution_count": 27,
   "id": "758d7cb7",
   "metadata": {},
   "outputs": [
    {
     "data": {
      "text/plain": [
       "Date                    844\n",
       "CaO                     632\n",
       "MgO                     211\n",
       "Na2O                     12\n",
       "Al2O3                   297\n",
       "SiO2                    591\n",
       "SO3                     205\n",
       "K2O                      49\n",
       "Fe2O3                   182\n",
       "Loss on Ignition        414\n",
       "Insoluble Residue       191\n",
       "Blaine                  142\n",
       "#200                     34\n",
       "#400                     78\n",
       "Specific Gravity         21\n",
       "Initial setting time     54\n",
       "Final setting time       56\n",
       "CS3                     224\n",
       "CS7                     199\n",
       "dtype: int64"
      ]
     },
     "execution_count": 27,
     "metadata": {},
     "output_type": "execute_result"
    },
    {
     "data": {
      "application/javascript": [
       "\n",
       "            setTimeout(function() {\n",
       "                var nbb_cell_id = 27;\n",
       "                var nbb_unformatted_code = \"df_copy.nunique()\";\n",
       "                var nbb_formatted_code = \"df_copy.nunique()\";\n",
       "                var nbb_cells = Jupyter.notebook.get_cells();\n",
       "                for (var i = 0; i < nbb_cells.length; ++i) {\n",
       "                    if (nbb_cells[i].input_prompt_number == nbb_cell_id) {\n",
       "                        if (nbb_cells[i].get_text() == nbb_unformatted_code) {\n",
       "                             nbb_cells[i].set_text(nbb_formatted_code);\n",
       "                        }\n",
       "                        break;\n",
       "                    }\n",
       "                }\n",
       "            }, 500);\n",
       "            "
      ],
      "text/plain": [
       "<IPython.core.display.Javascript object>"
      ]
     },
     "metadata": {},
     "output_type": "display_data"
    }
   ],
   "source": [
    "df_copy.nunique()"
   ]
  },
  {
   "cell_type": "code",
   "execution_count": 28,
   "id": "c8597955",
   "metadata": {},
   "outputs": [
    {
     "data": {
      "text/plain": [
       "{'imputer': SimpleImputer(strategy='median'),\n",
       " 'estimator': RandomForestRegressor(max_depth=3, n_estimators=5, random_state=47)}"
      ]
     },
     "execution_count": 28,
     "metadata": {},
     "output_type": "execute_result"
    },
    {
     "data": {
      "application/javascript": [
       "\n",
       "            setTimeout(function() {\n",
       "                var nbb_cell_id = 28;\n",
       "                var nbb_unformatted_code = \"pipeline.named_steps\";\n",
       "                var nbb_formatted_code = \"pipeline.named_steps\";\n",
       "                var nbb_cells = Jupyter.notebook.get_cells();\n",
       "                for (var i = 0; i < nbb_cells.length; ++i) {\n",
       "                    if (nbb_cells[i].input_prompt_number == nbb_cell_id) {\n",
       "                        if (nbb_cells[i].get_text() == nbb_unformatted_code) {\n",
       "                             nbb_cells[i].set_text(nbb_formatted_code);\n",
       "                        }\n",
       "                        break;\n",
       "                    }\n",
       "                }\n",
       "            }, 500);\n",
       "            "
      ],
      "text/plain": [
       "<IPython.core.display.Javascript object>"
      ]
     },
     "metadata": {},
     "output_type": "display_data"
    }
   ],
   "source": [
    "pipeline.named_steps"
   ]
  },
  {
   "cell_type": "code",
   "execution_count": 29,
   "id": "0696f607",
   "metadata": {},
   "outputs": [
    {
     "data": {
      "application/javascript": [
       "\n",
       "            setTimeout(function() {\n",
       "                var nbb_cell_id = 29;\n",
       "                var nbb_unformatted_code = \"from sklearn.inspection import permutation_importance\";\n",
       "                var nbb_formatted_code = \"from sklearn.inspection import permutation_importance\";\n",
       "                var nbb_cells = Jupyter.notebook.get_cells();\n",
       "                for (var i = 0; i < nbb_cells.length; ++i) {\n",
       "                    if (nbb_cells[i].input_prompt_number == nbb_cell_id) {\n",
       "                        if (nbb_cells[i].get_text() == nbb_unformatted_code) {\n",
       "                             nbb_cells[i].set_text(nbb_formatted_code);\n",
       "                        }\n",
       "                        break;\n",
       "                    }\n",
       "                }\n",
       "            }, 500);\n",
       "            "
      ],
      "text/plain": [
       "<IPython.core.display.Javascript object>"
      ]
     },
     "metadata": {},
     "output_type": "display_data"
    }
   ],
   "source": [
    "from sklearn.inspection import permutation_importance"
   ]
  },
  {
   "cell_type": "code",
   "execution_count": 30,
   "id": "b7357125",
   "metadata": {},
   "outputs": [
    {
     "data": {
      "application/javascript": [
       "\n",
       "            setTimeout(function() {\n",
       "                var nbb_cell_id = 30;\n",
       "                var nbb_unformatted_code = \"# Initialize lists to store importance results\\nmdi_importances = []\\nperm_importances = []\\n\\n# Compute feature importances\\nfor i, (train_idx, test_idx) in enumerate(cv.split(x, y)):\\n    pipeline.fit(x.iloc[train_idx], y[train_idx])\\n\\n    # Extract the trained model\\n    model = pipeline.named_steps[\\\"estimator\\\"]\\n    imputer = pipeline.named_steps[\\\"imputer\\\"]\\n    # Compute MDI importance\\n    mdi_importances.append(model.feature_importances_)\\n\\n    # Compute permutation importance\\n    result = permutation_importance(\\n        model,\\n        imputer.transform(x.iloc[test_idx]),\\n        y[test_idx],\\n        n_repeats=10,\\n        random_state=SEED,\\n        n_jobs=-1,\\n        scoring=\\\"r2\\\",\\n    )\\n    perm_importances.append(result.importances_mean)\";\n",
       "                var nbb_formatted_code = \"# Initialize lists to store importance results\\nmdi_importances = []\\nperm_importances = []\\n\\n# Compute feature importances\\nfor i, (train_idx, test_idx) in enumerate(cv.split(x, y)):\\n    pipeline.fit(x.iloc[train_idx], y[train_idx])\\n\\n    # Extract the trained model\\n    model = pipeline.named_steps[\\\"estimator\\\"]\\n    imputer = pipeline.named_steps[\\\"imputer\\\"]\\n    # Compute MDI importance\\n    mdi_importances.append(model.feature_importances_)\\n\\n    # Compute permutation importance\\n    result = permutation_importance(\\n        model,\\n        imputer.transform(x.iloc[test_idx]),\\n        y[test_idx],\\n        n_repeats=10,\\n        random_state=SEED,\\n        n_jobs=-1,\\n        scoring=\\\"r2\\\",\\n    )\\n    perm_importances.append(result.importances_mean)\";\n",
       "                var nbb_cells = Jupyter.notebook.get_cells();\n",
       "                for (var i = 0; i < nbb_cells.length; ++i) {\n",
       "                    if (nbb_cells[i].input_prompt_number == nbb_cell_id) {\n",
       "                        if (nbb_cells[i].get_text() == nbb_unformatted_code) {\n",
       "                             nbb_cells[i].set_text(nbb_formatted_code);\n",
       "                        }\n",
       "                        break;\n",
       "                    }\n",
       "                }\n",
       "            }, 500);\n",
       "            "
      ],
      "text/plain": [
       "<IPython.core.display.Javascript object>"
      ]
     },
     "metadata": {},
     "output_type": "display_data"
    }
   ],
   "source": [
    "# Initialize lists to store importance results\n",
    "mdi_importances = []\n",
    "perm_importances = []\n",
    "\n",
    "# Compute feature importances\n",
    "for i, (train_idx, test_idx) in enumerate(cv.split(x, y)):\n",
    "    pipeline.fit(x.iloc[train_idx], y[train_idx])\n",
    "\n",
    "    # Extract the trained model\n",
    "    model = pipeline.named_steps[\"estimator\"]\n",
    "    imputer = pipeline.named_steps[\"imputer\"]\n",
    "    # Compute MDI importance\n",
    "    mdi_importances.append(model.feature_importances_)\n",
    "\n",
    "    # Compute permutation importance\n",
    "    result = permutation_importance(\n",
    "        model,\n",
    "        imputer.transform(x.iloc[test_idx]),\n",
    "        y[test_idx],\n",
    "        n_repeats=10,\n",
    "        random_state=SEED,\n",
    "        n_jobs=-1,\n",
    "        scoring=\"r2\",\n",
    "    )\n",
    "    perm_importances.append(result.importances_mean)"
   ]
  },
  {
   "cell_type": "code",
   "execution_count": 31,
   "id": "fdb2d00a",
   "metadata": {},
   "outputs": [
    {
     "data": {
      "image/png": "[encoded data removed]",
      "text/plain": [
       "<Figure size 1000x550 with 1 Axes>"
      ]
     },
     "metadata": {},
     "output_type": "display_data"
    },
    {
     "data": {
      "application/javascript": [
       "\n",
       "            setTimeout(function() {\n",
       "                var nbb_cell_id = 31;\n",
       "                var nbb_unformatted_code = \"# Convert lists to DataFrames\\nmdi_importances_df = pd.DataFrame(mdi_importances, columns=x.columns)\\nperm_importances_df = pd.DataFrame(perm_importances, columns=x.columns)\\n\\n\\n# Calculate the mean importance for each feature\\nmean_importances = perm_importances_df.mean().sort_values()\\n\\n# Reorder the DataFrame columns based on mean importance\\nperm_importances_df = perm_importances_df[mean_importances.index]\\n\\nperm_importances_df = perm_importances_df.rename(columns={\\\"Loss on Ignition\\\": \\\"LOI\\\"})\\n\\n\\n# Backup the original backend\\noriginal_backend = plt.get_backend()\\n\\n# Use Matplotlib's default backend\\n# plt.switch_backend(\\\"agg\\\")  # or any backend you prefer\\n\\n# Update font settings to default\\nplt.rcParams.update(\\n    {\\n        \\\"font.family\\\": \\\"sans-serif\\\",\\n        \\\"font.sans-serif\\\": [\\\"DejaVu Sans\\\"],\\n        \\\"font.size\\\": 10,\\n        \\\"text.usetex\\\": False,  # Use MathText, not LaTeX\\n    }\\n)\\n\\n\\n# Convert chemical formulas using MathText syntax\\nperm_importances_df_plot = perm_importances_df.rename(\\n    columns={\\n        \\\"K2O\\\": r\\\"$\\\\mathrm{K_2O}$\\\",\\n        \\\"Free CaO\\\": r\\\"Free $\\\\mathrm{CaO}$\\\",\\n        \\\"Total C2S\\\": r\\\"Total $\\\\mathrm{C_2S}$\\\",\\n        \\\"Na2O\\\": r\\\"$\\\\mathrm{Na_2O}$\\\",\\n        \\\"CaO\\\": r\\\"$\\\\mathrm{CaO}$\\\",\\n        \\\"SiO2\\\": r\\\"$\\\\mathrm{SiO_2}$\\\",\\n        \\\"MgO\\\": r\\\"$\\\\mathrm{MgO}$\\\",\\n        \\\"Fe2O3\\\": r\\\"$\\\\mathrm{Fe_2O_3}$\\\",\\n        \\\"Al2O3\\\": r\\\"$\\\\mathrm{Al_2O_3}$\\\",\\n        \\\"Total C3S\\\": r\\\"Total $\\\\mathrm{C_3S}$\\\",\\n        \\\"C3A\\\": r\\\"$\\\\mathrm{C_3A}$\\\",\\n        \\\"C4AF\\\": r\\\"$\\\\mathrm{C_4AF}$\\\",\\n        \\\"LOI\\\": \\\"LOI\\\",\\n        \\\"SO3\\\": r\\\"$\\\\mathrm{SO_3}$\\\",\\n        \\\"Insoluble Residue\\\": \\\"IR\\\",\\n        \\\"TiO2\\\": r\\\"$\\\\mathrm{TiO_2}$\\\",\\n    }\\n)\\n\\nplt.figure(figsize=(10, 5.5))\\nsns.boxplot(\\n    data=perm_importances_df_plot,\\n    orient=\\\"h\\\",\\n    color=\\\"lightsteelblue\\\",\\n    saturation=1,\\n    showmeans=True,\\n)\\nsns.despine(trim=True, left=False)\\nplt.xlabel(\\\"Relevance (Permutation)\\\")\\nplt.title(\\\"Variable Relevance Distribution\\\")\\nplt.grid(axis=\\\"x\\\", linestyle=\\\"--\\\", alpha=0.7)\\nplt.subplots_adjust(left=0.3)\\nplt.savefig(\\n    \\\"ecics_207_at_cm_p_cs_btiss_random_forest_scpm_best_dist_var_perm_relevance.png\\\",\\n    dpi=300,\\n    bbox_inches=\\\"tight\\\",\\n)\\nplt.show()\\n\\n\\n# Step 3: Reset all rcParams to their default values\\nmatplotlib.rcParams.update(matplotlib.rcParamsDefault)\\nplt.rcdefaults()\\n\\n# Switch back to the original backend\\nplt.switch_backend(original_backend)\";\n",
       "                var nbb_formatted_code = \"# Convert lists to DataFrames\\nmdi_importances_df = pd.DataFrame(mdi_importances, columns=x.columns)\\nperm_importances_df = pd.DataFrame(perm_importances, columns=x.columns)\\n\\n\\n# Calculate the mean importance for each feature\\nmean_importances = perm_importances_df.mean().sort_values()\\n\\n# Reorder the DataFrame columns based on mean importance\\nperm_importances_df = perm_importances_df[mean_importances.index]\\n\\nperm_importances_df = perm_importances_df.rename(columns={\\\"Loss on Ignition\\\": \\\"LOI\\\"})\\n\\n\\n# Backup the original backend\\noriginal_backend = plt.get_backend()\\n\\n# Use Matplotlib's default backend\\n# plt.switch_backend(\\\"agg\\\")  # or any backend you prefer\\n\\n# Update font settings to default\\nplt.rcParams.update(\\n    {\\n        \\\"font.family\\\": \\\"sans-serif\\\",\\n        \\\"font.sans-serif\\\": [\\\"DejaVu Sans\\\"],\\n        \\\"font.size\\\": 10,\\n        \\\"text.usetex\\\": False,  # Use MathText, not LaTeX\\n    }\\n)\\n\\n\\n# Convert chemical formulas using MathText syntax\\nperm_importances_df_plot = perm_importances_df.rename(\\n    columns={\\n        \\\"K2O\\\": r\\\"$\\\\mathrm{K_2O}$\\\",\\n        \\\"Free CaO\\\": r\\\"Free $\\\\mathrm{CaO}$\\\",\\n        \\\"Total C2S\\\": r\\\"Total $\\\\mathrm{C_2S}$\\\",\\n        \\\"Na2O\\\": r\\\"$\\\\mathrm{Na_2O}$\\\",\\n        \\\"CaO\\\": r\\\"$\\\\mathrm{CaO}$\\\",\\n        \\\"SiO2\\\": r\\\"$\\\\mathrm{SiO_2}$\\\",\\n        \\\"MgO\\\": r\\\"$\\\\mathrm{MgO}$\\\",\\n        \\\"Fe2O3\\\": r\\\"$\\\\mathrm{Fe_2O_3}$\\\",\\n        \\\"Al2O3\\\": r\\\"$\\\\mathrm{Al_2O_3}$\\\",\\n        \\\"Total C3S\\\": r\\\"Total $\\\\mathrm{C_3S}$\\\",\\n        \\\"C3A\\\": r\\\"$\\\\mathrm{C_3A}$\\\",\\n        \\\"C4AF\\\": r\\\"$\\\\mathrm{C_4AF}$\\\",\\n        \\\"LOI\\\": \\\"LOI\\\",\\n        \\\"SO3\\\": r\\\"$\\\\mathrm{SO_3}$\\\",\\n        \\\"Insoluble Residue\\\": \\\"IR\\\",\\n        \\\"TiO2\\\": r\\\"$\\\\mathrm{TiO_2}$\\\",\\n    }\\n)\\n\\nplt.figure(figsize=(10, 5.5))\\nsns.boxplot(\\n    data=perm_importances_df_plot,\\n    orient=\\\"h\\\",\\n    color=\\\"lightsteelblue\\\",\\n    saturation=1,\\n    showmeans=True,\\n)\\nsns.despine(trim=True, left=False)\\nplt.xlabel(\\\"Relevance (Permutation)\\\")\\nplt.title(\\\"Variable Relevance Distribution\\\")\\nplt.grid(axis=\\\"x\\\", linestyle=\\\"--\\\", alpha=0.7)\\nplt.subplots_adjust(left=0.3)\\nplt.savefig(\\n    \\\"ecics_207_at_cm_p_cs_btiss_random_forest_scpm_best_dist_var_perm_relevance.png\\\",\\n    dpi=300,\\n    bbox_inches=\\\"tight\\\",\\n)\\nplt.show()\\n\\n\\n# Step 3: Reset all rcParams to their default values\\nmatplotlib.rcParams.update(matplotlib.rcParamsDefault)\\nplt.rcdefaults()\\n\\n# Switch back to the original backend\\nplt.switch_backend(original_backend)\";\n",
       "                var nbb_cells = Jupyter.notebook.get_cells();\n",
       "                for (var i = 0; i < nbb_cells.length; ++i) {\n",
       "                    if (nbb_cells[i].input_prompt_number == nbb_cell_id) {\n",
       "                        if (nbb_cells[i].get_text() == nbb_unformatted_code) {\n",
       "                             nbb_cells[i].set_text(nbb_formatted_code);\n",
       "                        }\n",
       "                        break;\n",
       "                    }\n",
       "                }\n",
       "            }, 500);\n",
       "            "
      ],
      "text/plain": [
       "<IPython.core.display.Javascript object>"
      ]
     },
     "metadata": {},
     "output_type": "display_data"
    }
   ],
   "source": [
    "# Convert lists to DataFrames\n",
    "mdi_importances_df = pd.DataFrame(mdi_importances, columns=x.columns)\n",
    "perm_importances_df = pd.DataFrame(perm_importances, columns=x.columns)\n",
    "\n",
    "\n",
    "# Calculate the mean importance for each feature\n",
    "mean_importances = perm_importances_df.mean().sort_values()\n",
    "\n",
    "# Reorder the DataFrame columns based on mean importance\n",
    "perm_importances_df = perm_importances_df[mean_importances.index]\n",
    "\n",
    "perm_importances_df = perm_importances_df.rename(columns={\"Loss on Ignition\": \"LOI\"})\n",
    "\n",
    "\n",
    "# Backup the original backend\n",
    "original_backend = plt.get_backend()\n",
    "\n",
    "# Use Matplotlib's default backend\n",
    "# plt.switch_backend(\"agg\")  # or any backend you prefer\n",
    "\n",
    "# Update font settings to default\n",
    "plt.rcParams.update(\n",
    "    {\n",
    "        \"font.family\": \"sans-serif\",\n",
    "        \"font.sans-serif\": [\"DejaVu Sans\"],\n",
    "        \"font.size\": 10,\n",
    "        \"text.usetex\": False,  # Use MathText, not LaTeX\n",
    "    }\n",
    ")\n",
    "\n",
    "\n",
    "# Convert chemical formulas using MathText syntax\n",
    "perm_importances_df_plot = perm_importances_df.rename(\n",
    "    columns={\n",
    "        \"K2O\": r\"$\\mathrm{K_2O}$\",\n",
    "        \"Free CaO\": r\"Free $\\mathrm{CaO}$\",\n",
    "        \"Total C2S\": r\"Total $\\mathrm{C_2S}$\",\n",
    "        \"Na2O\": r\"$\\mathrm{Na_2O}$\",\n",
    "        \"CaO\": r\"$\\mathrm{CaO}$\",\n",
    "        \"SiO2\": r\"$\\mathrm{SiO_2}$\",\n",
    "        \"MgO\": r\"$\\mathrm{MgO}$\",\n",
    "        \"Fe2O3\": r\"$\\mathrm{Fe_2O_3}$\",\n",
    "        \"Al2O3\": r\"$\\mathrm{Al_2O_3}$\",\n",
    "        \"Total C3S\": r\"Total $\\mathrm{C_3S}$\",\n",
    "        \"C3A\": r\"$\\mathrm{C_3A}$\",\n",
    "        \"C4AF\": r\"$\\mathrm{C_4AF}$\",\n",
    "        \"LOI\": \"LOI\",\n",
    "        \"SO3\": r\"$\\mathrm{SO_3}$\",\n",
    "        \"Insoluble Residue\": \"IR\",\n",
    "        \"TiO2\": r\"$\\mathrm{TiO_2}$\",\n",
    "    }\n",
    ")\n",
    "\n",
    "plt.figure(figsize=(10, 5.5))\n",
    "sns.boxplot(\n",
    "    data=perm_importances_df_plot,\n",
    "    orient=\"h\",\n",
    "    color=\"lightsteelblue\",\n",
    "    saturation=1,\n",
    "    showmeans=True,\n",
    ")\n",
    "sns.despine(trim=True, left=False)\n",
    "plt.xlabel(\"Relevance (Permutation)\")\n",
    "plt.title(\"Variable Relevance Distribution\")\n",
    "plt.grid(axis=\"x\", linestyle=\"--\", alpha=0.7)\n",
    "plt.subplots_adjust(left=0.3)\n",
    "plt.savefig(\n",
    "    \"ecics_207_at_cm_p_cs_btiss_random_forest_scpm_best_dist_var_perm_relevance.png\",\n",
    "    dpi=300,\n",
    "    bbox_inches=\"tight\",\n",
    ")\n",
    "plt.show()\n",
    "\n",
    "\n",
    "# Step 3: Reset all rcParams to their default values\n",
    "matplotlib.rcParams.update(matplotlib.rcParamsDefault)\n",
    "plt.rcdefaults()\n",
    "\n",
    "# Switch back to the original backend\n",
    "plt.switch_backend(original_backend)"
   ]
  },
  {
   "cell_type": "code",
   "execution_count": 32,
   "id": "bd7142ad",
   "metadata": {},
   "outputs": [
    {
     "data": {
      "text/html": [
       "<div>\n",
       "<style scoped>\n",
       "    .dataframe tbody tr th:only-of-type {\n",
       "        vertical-align: middle;\n",
       "    }\n",
       "\n",
       "    .dataframe tbody tr th {\n",
       "        vertical-align: top;\n",
       "    }\n",
       "\n",
       "    .dataframe thead th {\n",
       "        text-align: right;\n",
       "    }\n",
       "</style>\n",
       "<table border=\"1\" class=\"dataframe\">\n",
       "  <thead>\n",
       "    <tr style=\"text-align: right;\">\n",
       "      <th></th>\n",
       "      <th>count</th>\n",
       "      <th>mean</th>\n",
       "      <th>std</th>\n",
       "      <th>min</th>\n",
       "      <th>25%</th>\n",
       "      <th>50%</th>\n",
       "      <th>75%</th>\n",
       "      <th>max</th>\n",
       "    </tr>\n",
       "  </thead>\n",
       "  <tbody>\n",
       "    <tr>\n",
       "      <th>Fe2O3</th>\n",
       "      <td>5.0</td>\n",
       "      <td>-0.01</td>\n",
       "      <td>0.02</td>\n",
       "      <td>-0.05</td>\n",
       "      <td>-0.03</td>\n",
       "      <td>-0.00</td>\n",
       "      <td>-0.00</td>\n",
       "      <td>0.00</td>\n",
       "    </tr>\n",
       "    <tr>\n",
       "      <th>MgO</th>\n",
       "      <td>5.0</td>\n",
       "      <td>-0.00</td>\n",
       "      <td>0.01</td>\n",
       "      <td>-0.02</td>\n",
       "      <td>-0.01</td>\n",
       "      <td>0.00</td>\n",
       "      <td>0.00</td>\n",
       "      <td>0.00</td>\n",
       "    </tr>\n",
       "    <tr>\n",
       "      <th>#400</th>\n",
       "      <td>5.0</td>\n",
       "      <td>-0.00</td>\n",
       "      <td>0.00</td>\n",
       "      <td>-0.01</td>\n",
       "      <td>0.00</td>\n",
       "      <td>0.00</td>\n",
       "      <td>0.00</td>\n",
       "      <td>0.00</td>\n",
       "    </tr>\n",
       "    <tr>\n",
       "      <th>Al2O3</th>\n",
       "      <td>5.0</td>\n",
       "      <td>-0.00</td>\n",
       "      <td>0.00</td>\n",
       "      <td>-0.00</td>\n",
       "      <td>0.00</td>\n",
       "      <td>0.00</td>\n",
       "      <td>0.00</td>\n",
       "      <td>0.00</td>\n",
       "    </tr>\n",
       "    <tr>\n",
       "      <th>SiO2</th>\n",
       "      <td>5.0</td>\n",
       "      <td>0.00</td>\n",
       "      <td>0.00</td>\n",
       "      <td>-0.00</td>\n",
       "      <td>0.00</td>\n",
       "      <td>0.00</td>\n",
       "      <td>0.00</td>\n",
       "      <td>0.00</td>\n",
       "    </tr>\n",
       "    <tr>\n",
       "      <th>Specific Gravity</th>\n",
       "      <td>5.0</td>\n",
       "      <td>0.00</td>\n",
       "      <td>0.00</td>\n",
       "      <td>0.00</td>\n",
       "      <td>0.00</td>\n",
       "      <td>0.00</td>\n",
       "      <td>0.00</td>\n",
       "      <td>0.00</td>\n",
       "    </tr>\n",
       "    <tr>\n",
       "      <th>#200</th>\n",
       "      <td>5.0</td>\n",
       "      <td>0.00</td>\n",
       "      <td>0.00</td>\n",
       "      <td>0.00</td>\n",
       "      <td>0.00</td>\n",
       "      <td>0.00</td>\n",
       "      <td>0.00</td>\n",
       "      <td>0.00</td>\n",
       "    </tr>\n",
       "    <tr>\n",
       "      <th>CaO</th>\n",
       "      <td>5.0</td>\n",
       "      <td>0.00</td>\n",
       "      <td>0.00</td>\n",
       "      <td>0.00</td>\n",
       "      <td>0.00</td>\n",
       "      <td>0.00</td>\n",
       "      <td>0.00</td>\n",
       "      <td>0.00</td>\n",
       "    </tr>\n",
       "    <tr>\n",
       "      <th>Insoluble Residue</th>\n",
       "      <td>5.0</td>\n",
       "      <td>0.00</td>\n",
       "      <td>0.01</td>\n",
       "      <td>-0.01</td>\n",
       "      <td>0.00</td>\n",
       "      <td>0.00</td>\n",
       "      <td>0.00</td>\n",
       "      <td>0.01</td>\n",
       "    </tr>\n",
       "    <tr>\n",
       "      <th>Na2O</th>\n",
       "      <td>5.0</td>\n",
       "      <td>0.00</td>\n",
       "      <td>0.01</td>\n",
       "      <td>-0.00</td>\n",
       "      <td>0.00</td>\n",
       "      <td>0.00</td>\n",
       "      <td>0.00</td>\n",
       "      <td>0.02</td>\n",
       "    </tr>\n",
       "    <tr>\n",
       "      <th>Final setting time</th>\n",
       "      <td>5.0</td>\n",
       "      <td>0.01</td>\n",
       "      <td>0.02</td>\n",
       "      <td>-0.00</td>\n",
       "      <td>0.00</td>\n",
       "      <td>0.00</td>\n",
       "      <td>0.00</td>\n",
       "      <td>0.04</td>\n",
       "    </tr>\n",
       "    <tr>\n",
       "      <th>Initial setting time</th>\n",
       "      <td>5.0</td>\n",
       "      <td>0.01</td>\n",
       "      <td>0.02</td>\n",
       "      <td>-0.00</td>\n",
       "      <td>0.00</td>\n",
       "      <td>0.00</td>\n",
       "      <td>0.00</td>\n",
       "      <td>0.05</td>\n",
       "    </tr>\n",
       "    <tr>\n",
       "      <th>Blaine</th>\n",
       "      <td>5.0</td>\n",
       "      <td>0.01</td>\n",
       "      <td>0.03</td>\n",
       "      <td>0.00</td>\n",
       "      <td>0.00</td>\n",
       "      <td>0.00</td>\n",
       "      <td>0.00</td>\n",
       "      <td>0.07</td>\n",
       "    </tr>\n",
       "    <tr>\n",
       "      <th>SO3</th>\n",
       "      <td>5.0</td>\n",
       "      <td>0.02</td>\n",
       "      <td>0.03</td>\n",
       "      <td>0.00</td>\n",
       "      <td>0.00</td>\n",
       "      <td>0.00</td>\n",
       "      <td>0.01</td>\n",
       "      <td>0.07</td>\n",
       "    </tr>\n",
       "    <tr>\n",
       "      <th>K2O</th>\n",
       "      <td>5.0</td>\n",
       "      <td>0.02</td>\n",
       "      <td>0.04</td>\n",
       "      <td>0.00</td>\n",
       "      <td>0.00</td>\n",
       "      <td>0.00</td>\n",
       "      <td>0.02</td>\n",
       "      <td>0.09</td>\n",
       "    </tr>\n",
       "    <tr>\n",
       "      <th>CS3</th>\n",
       "      <td>5.0</td>\n",
       "      <td>0.10</td>\n",
       "      <td>0.21</td>\n",
       "      <td>0.00</td>\n",
       "      <td>0.00</td>\n",
       "      <td>0.00</td>\n",
       "      <td>0.00</td>\n",
       "      <td>0.47</td>\n",
       "    </tr>\n",
       "    <tr>\n",
       "      <th>CS7</th>\n",
       "      <td>5.0</td>\n",
       "      <td>0.44</td>\n",
       "      <td>0.69</td>\n",
       "      <td>0.03</td>\n",
       "      <td>0.15</td>\n",
       "      <td>0.15</td>\n",
       "      <td>0.20</td>\n",
       "      <td>1.67</td>\n",
       "    </tr>\n",
       "    <tr>\n",
       "      <th>LOI</th>\n",
       "      <td>5.0</td>\n",
       "      <td>0.54</td>\n",
       "      <td>0.76</td>\n",
       "      <td>-0.01</td>\n",
       "      <td>-0.00</td>\n",
       "      <td>0.01</td>\n",
       "      <td>1.07</td>\n",
       "      <td>1.62</td>\n",
       "    </tr>\n",
       "  </tbody>\n",
       "</table>\n",
       "</div>"
      ],
      "text/plain": [
       "                      count  mean   std   min   25%   50%   75%   max\n",
       "Fe2O3                   5.0 -0.01  0.02 -0.05 -0.03 -0.00 -0.00  0.00\n",
       "MgO                     5.0 -0.00  0.01 -0.02 -0.01  0.00  0.00  0.00\n",
       "#400                    5.0 -0.00  0.00 -0.01  0.00  0.00  0.00  0.00\n",
       "Al2O3                   5.0 -0.00  0.00 -0.00  0.00  0.00  0.00  0.00\n",
       "SiO2                    5.0  0.00  0.00 -0.00  0.00  0.00  0.00  0.00\n",
       "Specific Gravity        5.0  0.00  0.00  0.00  0.00  0.00  0.00  0.00\n",
       "#200                    5.0  0.00  0.00  0.00  0.00  0.00  0.00  0.00\n",
       "CaO                     5.0  0.00  0.00  0.00  0.00  0.00  0.00  0.00\n",
       "Insoluble Residue       5.0  0.00  0.01 -0.01  0.00  0.00  0.00  0.01\n",
       "Na2O                    5.0  0.00  0.01 -0.00  0.00  0.00  0.00  0.02\n",
       "Final setting time      5.0  0.01  0.02 -0.00  0.00  0.00  0.00  0.04\n",
       "Initial setting time    5.0  0.01  0.02 -0.00  0.00  0.00  0.00  0.05\n",
       "Blaine                  5.0  0.01  0.03  0.00  0.00  0.00  0.00  0.07\n",
       "SO3                     5.0  0.02  0.03  0.00  0.00  0.00  0.01  0.07\n",
       "K2O                     5.0  0.02  0.04  0.00  0.00  0.00  0.02  0.09\n",
       "CS3                     5.0  0.10  0.21  0.00  0.00  0.00  0.00  0.47\n",
       "CS7                     5.0  0.44  0.69  0.03  0.15  0.15  0.20  1.67\n",
       "LOI                     5.0  0.54  0.76 -0.01 -0.00  0.01  1.07  1.62"
      ]
     },
     "execution_count": 32,
     "metadata": {},
     "output_type": "execute_result"
    },
    {
     "data": {
      "application/javascript": [
       "\n",
       "            setTimeout(function() {\n",
       "                var nbb_cell_id = 32;\n",
       "                var nbb_unformatted_code = \"perm_importances_df.describe().T.round(2)\";\n",
       "                var nbb_formatted_code = \"perm_importances_df.describe().T.round(2)\";\n",
       "                var nbb_cells = Jupyter.notebook.get_cells();\n",
       "                for (var i = 0; i < nbb_cells.length; ++i) {\n",
       "                    if (nbb_cells[i].input_prompt_number == nbb_cell_id) {\n",
       "                        if (nbb_cells[i].get_text() == nbb_unformatted_code) {\n",
       "                             nbb_cells[i].set_text(nbb_formatted_code);\n",
       "                        }\n",
       "                        break;\n",
       "                    }\n",
       "                }\n",
       "            }, 500);\n",
       "            "
      ],
      "text/plain": [
       "<IPython.core.display.Javascript object>"
      ]
     },
     "metadata": {},
     "output_type": "display_data"
    }
   ],
   "source": [
    "perm_importances_df.describe().T.round(2)"
   ]
  },
  {
   "cell_type": "code",
   "execution_count": 33,
   "id": "270a9768",
   "metadata": {},
   "outputs": [
    {
     "data": {
      "text/html": [
       "<div>\n",
       "<style scoped>\n",
       "    .dataframe tbody tr th:only-of-type {\n",
       "        vertical-align: middle;\n",
       "    }\n",
       "\n",
       "    .dataframe tbody tr th {\n",
       "        vertical-align: top;\n",
       "    }\n",
       "\n",
       "    .dataframe thead th {\n",
       "        text-align: right;\n",
       "    }\n",
       "</style>\n",
       "<table border=\"1\" class=\"dataframe\">\n",
       "  <thead>\n",
       "    <tr style=\"text-align: right;\">\n",
       "      <th></th>\n",
       "      <th>Fe2O3</th>\n",
       "      <th>MgO</th>\n",
       "      <th>#400</th>\n",
       "      <th>Al2O3</th>\n",
       "      <th>SiO2</th>\n",
       "      <th>Specific Gravity</th>\n",
       "      <th>#200</th>\n",
       "      <th>CaO</th>\n",
       "      <th>Insoluble Residue</th>\n",
       "      <th>Na2O</th>\n",
       "      <th>Final setting time</th>\n",
       "      <th>Initial setting time</th>\n",
       "      <th>Blaine</th>\n",
       "      <th>SO3</th>\n",
       "      <th>K2O</th>\n",
       "      <th>CS3</th>\n",
       "      <th>CS7</th>\n",
       "      <th>LOI</th>\n",
       "    </tr>\n",
       "  </thead>\n",
       "  <tbody>\n",
       "    <tr>\n",
       "      <th>0</th>\n",
       "      <td>0.000000</td>\n",
       "      <td>-0.006363</td>\n",
       "      <td>0.000000</td>\n",
       "      <td>0.000000</td>\n",
       "      <td>0.000000</td>\n",
       "      <td>0.000000</td>\n",
       "      <td>0.000000</td>\n",
       "      <td>0.000000</td>\n",
       "      <td>-0.006140</td>\n",
       "      <td>0.000000</td>\n",
       "      <td>-0.001493</td>\n",
       "      <td>-0.000544</td>\n",
       "      <td>0.002273</td>\n",
       "      <td>0.000000</td>\n",
       "      <td>0.021371</td>\n",
       "      <td>0.474476</td>\n",
       "      <td>1.670486</td>\n",
       "      <td>-0.007359</td>\n",
       "    </tr>\n",
       "    <tr>\n",
       "      <th>1</th>\n",
       "      <td>-0.045146</td>\n",
       "      <td>0.000000</td>\n",
       "      <td>0.000000</td>\n",
       "      <td>-0.004603</td>\n",
       "      <td>0.000000</td>\n",
       "      <td>0.000097</td>\n",
       "      <td>0.000321</td>\n",
       "      <td>0.003951</td>\n",
       "      <td>0.002693</td>\n",
       "      <td>0.016120</td>\n",
       "      <td>0.043818</td>\n",
       "      <td>0.050608</td>\n",
       "      <td>0.000064</td>\n",
       "      <td>0.071377</td>\n",
       "      <td>0.085892</td>\n",
       "      <td>0.000580</td>\n",
       "      <td>0.204764</td>\n",
       "      <td>0.006353</td>\n",
       "    </tr>\n",
       "    <tr>\n",
       "      <th>2</th>\n",
       "      <td>-0.026807</td>\n",
       "      <td>-0.018315</td>\n",
       "      <td>-0.010561</td>\n",
       "      <td>0.000000</td>\n",
       "      <td>-0.003071</td>\n",
       "      <td>0.001741</td>\n",
       "      <td>0.000000</td>\n",
       "      <td>0.000504</td>\n",
       "      <td>0.000000</td>\n",
       "      <td>0.000000</td>\n",
       "      <td>0.000000</td>\n",
       "      <td>0.000000</td>\n",
       "      <td>0.067251</td>\n",
       "      <td>0.000000</td>\n",
       "      <td>0.000000</td>\n",
       "      <td>0.000000</td>\n",
       "      <td>0.146178</td>\n",
       "      <td>-0.003314</td>\n",
       "    </tr>\n",
       "    <tr>\n",
       "      <th>3</th>\n",
       "      <td>-0.001264</td>\n",
       "      <td>0.000000</td>\n",
       "      <td>0.000000</td>\n",
       "      <td>0.003066</td>\n",
       "      <td>0.000005</td>\n",
       "      <td>0.000000</td>\n",
       "      <td>0.004104</td>\n",
       "      <td>0.000013</td>\n",
       "      <td>0.008553</td>\n",
       "      <td>0.000000</td>\n",
       "      <td>0.000000</td>\n",
       "      <td>0.000000</td>\n",
       "      <td>0.000000</td>\n",
       "      <td>0.006338</td>\n",
       "      <td>0.001729</td>\n",
       "      <td>0.003261</td>\n",
       "      <td>0.031119</td>\n",
       "      <td>1.616139</td>\n",
       "    </tr>\n",
       "    <tr>\n",
       "      <th>4</th>\n",
       "      <td>-0.001065</td>\n",
       "      <td>0.000000</td>\n",
       "      <td>0.000000</td>\n",
       "      <td>0.000000</td>\n",
       "      <td>0.003677</td>\n",
       "      <td>0.000000</td>\n",
       "      <td>0.000000</td>\n",
       "      <td>0.000000</td>\n",
       "      <td>0.000000</td>\n",
       "      <td>-0.000181</td>\n",
       "      <td>0.000000</td>\n",
       "      <td>0.000000</td>\n",
       "      <td>0.000000</td>\n",
       "      <td>0.001623</td>\n",
       "      <td>0.000000</td>\n",
       "      <td>0.000278</td>\n",
       "      <td>0.150834</td>\n",
       "      <td>1.067489</td>\n",
       "    </tr>\n",
       "  </tbody>\n",
       "</table>\n",
       "</div>"
      ],
      "text/plain": [
       "      Fe2O3       MgO      #400     Al2O3      SiO2  Specific Gravity  \\\n",
       "0  0.000000 -0.006363  0.000000  0.000000  0.000000          0.000000   \n",
       "1 -0.045146  0.000000  0.000000 -0.004603  0.000000          0.000097   \n",
       "2 -0.026807 -0.018315 -0.010561  0.000000 -0.003071          0.001741   \n",
       "3 -0.001264  0.000000  0.000000  0.003066  0.000005          0.000000   \n",
       "4 -0.001065  0.000000  0.000000  0.000000  0.003677          0.000000   \n",
       "\n",
       "       #200       CaO  Insoluble Residue      Na2O  Final setting time  \\\n",
       "0  0.000000  0.000000          -0.006140  0.000000           -0.001493   \n",
       "1  0.000321  0.003951           0.002693  0.016120            0.043818   \n",
       "2  0.000000  0.000504           0.000000  0.000000            0.000000   \n",
       "3  0.004104  0.000013           0.008553  0.000000            0.000000   \n",
       "4  0.000000  0.000000           0.000000 -0.000181            0.000000   \n",
       "\n",
       "   Initial setting time    Blaine       SO3       K2O       CS3       CS7  \\\n",
       "0             -0.000544  0.002273  0.000000  0.021371  0.474476  1.670486   \n",
       "1              0.050608  0.000064  0.071377  0.085892  0.000580  0.204764   \n",
       "2              0.000000  0.067251  0.000000  0.000000  0.000000  0.146178   \n",
       "3              0.000000  0.000000  0.006338  0.001729  0.003261  0.031119   \n",
       "4              0.000000  0.000000  0.001623  0.000000  0.000278  0.150834   \n",
       "\n",
       "        LOI  \n",
       "0 -0.007359  \n",
       "1  0.006353  \n",
       "2 -0.003314  \n",
       "3  1.616139  \n",
       "4  1.067489  "
      ]
     },
     "execution_count": 33,
     "metadata": {},
     "output_type": "execute_result"
    },
    {
     "data": {
      "application/javascript": [
       "\n",
       "            setTimeout(function() {\n",
       "                var nbb_cell_id = 33;\n",
       "                var nbb_unformatted_code = \"perm_importances_df\";\n",
       "                var nbb_formatted_code = \"perm_importances_df\";\n",
       "                var nbb_cells = Jupyter.notebook.get_cells();\n",
       "                for (var i = 0; i < nbb_cells.length; ++i) {\n",
       "                    if (nbb_cells[i].input_prompt_number == nbb_cell_id) {\n",
       "                        if (nbb_cells[i].get_text() == nbb_unformatted_code) {\n",
       "                             nbb_cells[i].set_text(nbb_formatted_code);\n",
       "                        }\n",
       "                        break;\n",
       "                    }\n",
       "                }\n",
       "            }, 500);\n",
       "            "
      ],
      "text/plain": [
       "<IPython.core.display.Javascript object>"
      ]
     },
     "metadata": {},
     "output_type": "display_data"
    }
   ],
   "source": [
    "perm_importances_df"
   ]
  },
  {
   "cell_type": "code",
   "execution_count": 34,
   "id": "9bd7e5cc",
   "metadata": {},
   "outputs": [
    {
     "data": {
      "text/plain": [
       "Fe2O3                  -0.014856\n",
       "MgO                    -0.004936\n",
       "#400                   -0.002112\n",
       "Al2O3                  -0.000307\n",
       "SiO2                    0.000122\n",
       "Specific Gravity        0.000368\n",
       "#200                    0.000885\n",
       "CaO                     0.000893\n",
       "Insoluble Residue       0.001021\n",
       "Na2O                    0.003188\n",
       "Final setting time      0.008465\n",
       "Initial setting time    0.010013\n",
       "Blaine                  0.013918\n",
       "SO3                     0.015868\n",
       "K2O                     0.021798\n",
       "CS3                     0.095719\n",
       "CS7                     0.440676\n",
       "LOI                     0.535861\n",
       "dtype: float64"
      ]
     },
     "execution_count": 34,
     "metadata": {},
     "output_type": "execute_result"
    },
    {
     "data": {
      "application/javascript": [
       "\n",
       "            setTimeout(function() {\n",
       "                var nbb_cell_id = 34;\n",
       "                var nbb_unformatted_code = \"perm_importances_df.mean(axis=0)\";\n",
       "                var nbb_formatted_code = \"perm_importances_df.mean(axis=0)\";\n",
       "                var nbb_cells = Jupyter.notebook.get_cells();\n",
       "                for (var i = 0; i < nbb_cells.length; ++i) {\n",
       "                    if (nbb_cells[i].input_prompt_number == nbb_cell_id) {\n",
       "                        if (nbb_cells[i].get_text() == nbb_unformatted_code) {\n",
       "                             nbb_cells[i].set_text(nbb_formatted_code);\n",
       "                        }\n",
       "                        break;\n",
       "                    }\n",
       "                }\n",
       "            }, 500);\n",
       "            "
      ],
      "text/plain": [
       "<IPython.core.display.Javascript object>"
      ]
     },
     "metadata": {},
     "output_type": "display_data"
    }
   ],
   "source": [
    "perm_importances_df.mean(axis=0)"
   ]
  },
  {
   "cell_type": "code",
   "execution_count": 35,
   "id": "964f46d3",
   "metadata": {},
   "outputs": [
    {
     "data": {
      "text/plain": [
       "Fe2O3                   0.018199\n",
       "MgO                     0.007129\n",
       "#400                    0.004224\n",
       "Al2O3                   0.002454\n",
       "SiO2                    0.002139\n",
       "Specific Gravity        0.000688\n",
       "#200                    0.001614\n",
       "CaO                     0.001541\n",
       "Insoluble Residue       0.004752\n",
       "Na2O                    0.006466\n",
       "Final setting time      0.017686\n",
       "Initial setting time    0.020299\n",
       "Blaine                  0.026681\n",
       "SO3                     0.027852\n",
       "K2O                     0.033049\n",
       "CS3                     0.189382\n",
       "CS7                     0.617505\n",
       "LOI                     0.680559\n",
       "dtype: float64"
      ]
     },
     "execution_count": 35,
     "metadata": {},
     "output_type": "execute_result"
    },
    {
     "data": {
      "application/javascript": [
       "\n",
       "            setTimeout(function() {\n",
       "                var nbb_cell_id = 35;\n",
       "                var nbb_unformatted_code = \"perm_importances_df.std(axis=0, ddof=0)\";\n",
       "                var nbb_formatted_code = \"perm_importances_df.std(axis=0, ddof=0)\";\n",
       "                var nbb_cells = Jupyter.notebook.get_cells();\n",
       "                for (var i = 0; i < nbb_cells.length; ++i) {\n",
       "                    if (nbb_cells[i].input_prompt_number == nbb_cell_id) {\n",
       "                        if (nbb_cells[i].get_text() == nbb_unformatted_code) {\n",
       "                             nbb_cells[i].set_text(nbb_formatted_code);\n",
       "                        }\n",
       "                        break;\n",
       "                    }\n",
       "                }\n",
       "            }, 500);\n",
       "            "
      ],
      "text/plain": [
       "<IPython.core.display.Javascript object>"
      ]
     },
     "metadata": {},
     "output_type": "display_data"
    }
   ],
   "source": [
    "perm_importances_df.std(axis=0, ddof=0)"
   ]
  },
  {
   "cell_type": "code",
   "execution_count": null,
   "id": "691e6060",
   "metadata": {},
   "outputs": [],
   "source": []
  }
 ],
 "metadata": {
  "kernelspec": {
   "display_name": "ccs28-venv",
   "language": "python",
   "name": "ccs28-venv"
  },
  "language_info": {
   "codemirror_mode": {
    "name": "ipython",
    "version": 3
   },
   "file_extension": ".py",
   "mimetype": "text/x-python",
   "name": "python",
   "nbconvert_exporter": "python",
   "pygments_lexer": "ipython3",
   "version": "3.10.12"
  }
 },
 "nbformat": 4,
 "nbformat_minor": 5
}
