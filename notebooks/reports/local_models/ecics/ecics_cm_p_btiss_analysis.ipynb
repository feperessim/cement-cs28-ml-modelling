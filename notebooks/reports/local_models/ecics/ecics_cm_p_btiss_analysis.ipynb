{
 "cells": [
  {
   "cell_type": "markdown",
   "id": "35565ecb",
   "metadata": {},
   "source": [
    "# Random Forest - Top model according to the SCPM of -3.32"
   ]
  },
  {
   "cell_type": "code",
   "execution_count": 1,
   "id": "2210e4ce",
   "metadata": {},
   "outputs": [
    {
     "data": {
      "application/javascript": [
       "\n",
       "            setTimeout(function() {\n",
       "                var nbb_cell_id = 1;\n",
       "                var nbb_unformatted_code = \"%load_ext nb_black\";\n",
       "                var nbb_formatted_code = \"%load_ext nb_black\";\n",
       "                var nbb_cells = Jupyter.notebook.get_cells();\n",
       "                for (var i = 0; i < nbb_cells.length; ++i) {\n",
       "                    if (nbb_cells[i].input_prompt_number == nbb_cell_id) {\n",
       "                        if (nbb_cells[i].get_text() == nbb_unformatted_code) {\n",
       "                             nbb_cells[i].set_text(nbb_formatted_code);\n",
       "                        }\n",
       "                        break;\n",
       "                    }\n",
       "                }\n",
       "            }, 500);\n",
       "            "
      ],
      "text/plain": [
       "<IPython.core.display.Javascript object>"
      ]
     },
     "metadata": {},
     "output_type": "display_data"
    }
   ],
   "source": [
    "%load_ext nb_black"
   ]
  },
  {
   "cell_type": "code",
   "execution_count": 2,
   "id": "668af128",
   "metadata": {},
   "outputs": [
    {
     "data": {
      "application/javascript": [
       "\n",
       "            setTimeout(function() {\n",
       "                var nbb_cell_id = 2;\n",
       "                var nbb_unformatted_code = \"# Database Reading and Manipulation\\nimport pandas as pd\\n\\n# Linear Algebra\\nimport numpy as np\\n\\n# Plotting\\nimport matplotlib\\nimport matplotlib.pyplot as plt\\nimport seaborn as sns\\n\\n# Model Selection\\nfrom sklearn.model_selection import train_test_split\\nfrom sklearn.model_selection import TimeSeriesSplit\\nfrom sklearn.model_selection import RepeatedKFold\\nfrom sklearn.model_selection import cross_val_score\\nfrom sklearn.model_selection import cross_validate\\nfrom sklearn.model_selection import GridSearchCV\\n\\n# Modeling\\nfrom sklearn.ensemble import RandomForestRegressor\\n\\n# Metrics\\nfrom sklearn.metrics import mean_squared_error\\nfrom sklearn.metrics import mean_absolute_error\\nfrom sklearn.metrics import mean_absolute_percentage_error\\nfrom sklearn.metrics import r2_score\\n\\n# Processing\\nfrom sklearn.preprocessing import StandardScaler\\n\\n\\n# Pipeline\\nfrom sklearn.pipeline import Pipeline\\n\\n# Data imputation\\nfrom sklearn.impute import SimpleImputer\\n\\n# Custom modules\\n## Model selection\\nfrom src.cross_validation.blocking_time_series_split import BlockingTimeSeriesSplit\\n\\n## Function to print scores\\nfrom src.utils.print_scores import print_scores\\n\\n## Function to calculate score regression metrics\\nfrom src.utils.score_regression_metrics import score_regression_metrics\\n\\n## Function to fill the results metric dict\\nfrom src.utils.fill_results_dict import fill_results_dict\\n\\n# Warnings\\nimport warnings\";\n",
       "                var nbb_formatted_code = \"# Database Reading and Manipulation\\nimport pandas as pd\\n\\n# Linear Algebra\\nimport numpy as np\\n\\n# Plotting\\nimport matplotlib\\nimport matplotlib.pyplot as plt\\nimport seaborn as sns\\n\\n# Model Selection\\nfrom sklearn.model_selection import train_test_split\\nfrom sklearn.model_selection import TimeSeriesSplit\\nfrom sklearn.model_selection import RepeatedKFold\\nfrom sklearn.model_selection import cross_val_score\\nfrom sklearn.model_selection import cross_validate\\nfrom sklearn.model_selection import GridSearchCV\\n\\n# Modeling\\nfrom sklearn.ensemble import RandomForestRegressor\\n\\n# Metrics\\nfrom sklearn.metrics import mean_squared_error\\nfrom sklearn.metrics import mean_absolute_error\\nfrom sklearn.metrics import mean_absolute_percentage_error\\nfrom sklearn.metrics import r2_score\\n\\n# Processing\\nfrom sklearn.preprocessing import StandardScaler\\n\\n\\n# Pipeline\\nfrom sklearn.pipeline import Pipeline\\n\\n# Data imputation\\nfrom sklearn.impute import SimpleImputer\\n\\n# Custom modules\\n## Model selection\\nfrom src.cross_validation.blocking_time_series_split import BlockingTimeSeriesSplit\\n\\n## Function to print scores\\nfrom src.utils.print_scores import print_scores\\n\\n## Function to calculate score regression metrics\\nfrom src.utils.score_regression_metrics import score_regression_metrics\\n\\n## Function to fill the results metric dict\\nfrom src.utils.fill_results_dict import fill_results_dict\\n\\n# Warnings\\nimport warnings\";\n",
       "                var nbb_cells = Jupyter.notebook.get_cells();\n",
       "                for (var i = 0; i < nbb_cells.length; ++i) {\n",
       "                    if (nbb_cells[i].input_prompt_number == nbb_cell_id) {\n",
       "                        if (nbb_cells[i].get_text() == nbb_unformatted_code) {\n",
       "                             nbb_cells[i].set_text(nbb_formatted_code);\n",
       "                        }\n",
       "                        break;\n",
       "                    }\n",
       "                }\n",
       "            }, 500);\n",
       "            "
      ],
      "text/plain": [
       "<IPython.core.display.Javascript object>"
      ]
     },
     "metadata": {},
     "output_type": "display_data"
    }
   ],
   "source": [
    "# Database Reading and Manipulation\n",
    "import pandas as pd\n",
    "\n",
    "# Linear Algebra\n",
    "import numpy as np\n",
    "\n",
    "# Plotting\n",
    "import matplotlib\n",
    "import matplotlib.pyplot as plt\n",
    "import seaborn as sns\n",
    "\n",
    "# Model Selection\n",
    "from sklearn.model_selection import train_test_split\n",
    "from sklearn.model_selection import TimeSeriesSplit\n",
    "from sklearn.model_selection import RepeatedKFold\n",
    "from sklearn.model_selection import cross_val_score\n",
    "from sklearn.model_selection import cross_validate\n",
    "from sklearn.model_selection import GridSearchCV\n",
    "\n",
    "# Modeling\n",
    "from sklearn.ensemble import RandomForestRegressor\n",
    "\n",
    "# Metrics\n",
    "from sklearn.metrics import mean_squared_error\n",
    "from sklearn.metrics import mean_absolute_error\n",
    "from sklearn.metrics import mean_absolute_percentage_error\n",
    "from sklearn.metrics import r2_score\n",
    "\n",
    "# Processing\n",
    "from sklearn.preprocessing import StandardScaler\n",
    "\n",
    "\n",
    "# Pipeline\n",
    "from sklearn.pipeline import Pipeline\n",
    "\n",
    "# Data imputation\n",
    "from sklearn.impute import SimpleImputer\n",
    "\n",
    "# Custom modules\n",
    "## Model selection\n",
    "from src.cross_validation.blocking_time_series_split import BlockingTimeSeriesSplit\n",
    "\n",
    "## Function to print scores\n",
    "from src.utils.print_scores import print_scores\n",
    "\n",
    "## Function to calculate score regression metrics\n",
    "from src.utils.score_regression_metrics import score_regression_metrics\n",
    "\n",
    "## Function to fill the results metric dict\n",
    "from src.utils.fill_results_dict import fill_results_dict\n",
    "\n",
    "# Warnings\n",
    "import warnings"
   ]
  },
  {
   "cell_type": "markdown",
   "id": "fe4a2623",
   "metadata": {},
   "source": [
    "# Functions and definitions"
   ]
  },
  {
   "cell_type": "code",
   "execution_count": 3,
   "id": "a89f9fa9",
   "metadata": {},
   "outputs": [
    {
     "data": {
      "application/javascript": [
       "\n",
       "            setTimeout(function() {\n",
       "                var nbb_cell_id = 3;\n",
       "                var nbb_unformatted_code = \"def get_random_forest_df_importances(scores):\\n    importances = {}\\n    importances_with_column = []\\n    columns = x.columns\\n\\n    for index, pipeline in enumerate(scores[\\\"estimator\\\"]):\\n        model = pipeline.named_steps[\\\"estimator\\\"]\\n        importances[index] = model.feature_importances_\\n\\n    for index, importances_vec in importances.items():\\n        importances_col = pd.DataFrame(\\n            {col: [c] for col, c in zip(columns, importances_vec)},\\n            index=[f\\\"Importances - {index}\\\"],\\n        )\\n        importances_with_column.append(importances_col)\\n    df_importances = pd.concat(importances_with_column)\\n\\n    return df_importances\";\n",
       "                var nbb_formatted_code = \"def get_random_forest_df_importances(scores):\\n    importances = {}\\n    importances_with_column = []\\n    columns = x.columns\\n\\n    for index, pipeline in enumerate(scores[\\\"estimator\\\"]):\\n        model = pipeline.named_steps[\\\"estimator\\\"]\\n        importances[index] = model.feature_importances_\\n\\n    for index, importances_vec in importances.items():\\n        importances_col = pd.DataFrame(\\n            {col: [c] for col, c in zip(columns, importances_vec)},\\n            index=[f\\\"Importances - {index}\\\"],\\n        )\\n        importances_with_column.append(importances_col)\\n    df_importances = pd.concat(importances_with_column)\\n\\n    return df_importances\";\n",
       "                var nbb_cells = Jupyter.notebook.get_cells();\n",
       "                for (var i = 0; i < nbb_cells.length; ++i) {\n",
       "                    if (nbb_cells[i].input_prompt_number == nbb_cell_id) {\n",
       "                        if (nbb_cells[i].get_text() == nbb_unformatted_code) {\n",
       "                             nbb_cells[i].set_text(nbb_formatted_code);\n",
       "                        }\n",
       "                        break;\n",
       "                    }\n",
       "                }\n",
       "            }, 500);\n",
       "            "
      ],
      "text/plain": [
       "<IPython.core.display.Javascript object>"
      ]
     },
     "metadata": {},
     "output_type": "display_data"
    }
   ],
   "source": [
    "def get_random_forest_df_importances(scores):\n",
    "    importances = {}\n",
    "    importances_with_column = []\n",
    "    columns = x.columns\n",
    "\n",
    "    for index, pipeline in enumerate(scores[\"estimator\"]):\n",
    "        model = pipeline.named_steps[\"estimator\"]\n",
    "        importances[index] = model.feature_importances_\n",
    "\n",
    "    for index, importances_vec in importances.items():\n",
    "        importances_col = pd.DataFrame(\n",
    "            {col: [c] for col, c in zip(columns, importances_vec)},\n",
    "            index=[f\"Importances - {index}\"],\n",
    "        )\n",
    "        importances_with_column.append(importances_col)\n",
    "    df_importances = pd.concat(importances_with_column)\n",
    "\n",
    "    return df_importances"
   ]
  },
  {
   "cell_type": "code",
   "execution_count": 4,
   "id": "cd388f34",
   "metadata": {},
   "outputs": [
    {
     "data": {
      "application/javascript": [
       "\n",
       "            setTimeout(function() {\n",
       "                var nbb_cell_id = 4;\n",
       "                var nbb_unformatted_code = \"SEED = 47\\nMETRICS = (\\n    \\\"neg_root_mean_squared_error\\\",\\n    \\\"neg_mean_absolute_error\\\",\\n    \\\"neg_mean_absolute_percentage_error\\\",\\n    \\\"r2\\\",\\n)\\nMETRICS_DICT = {\\n    \\\"neg_root_mean_squared_error\\\": \\\"RMSE\\\",\\n    \\\"neg_mean_absolute_error\\\": \\\"MAE\\\",\\n    \\\"neg_mean_absolute_percentage_error\\\": \\\"MAPE\\\",\\n    \\\"r2\\\": \\\"R2\\\",\\n}\";\n",
       "                var nbb_formatted_code = \"SEED = 47\\nMETRICS = (\\n    \\\"neg_root_mean_squared_error\\\",\\n    \\\"neg_mean_absolute_error\\\",\\n    \\\"neg_mean_absolute_percentage_error\\\",\\n    \\\"r2\\\",\\n)\\nMETRICS_DICT = {\\n    \\\"neg_root_mean_squared_error\\\": \\\"RMSE\\\",\\n    \\\"neg_mean_absolute_error\\\": \\\"MAE\\\",\\n    \\\"neg_mean_absolute_percentage_error\\\": \\\"MAPE\\\",\\n    \\\"r2\\\": \\\"R2\\\",\\n}\";\n",
       "                var nbb_cells = Jupyter.notebook.get_cells();\n",
       "                for (var i = 0; i < nbb_cells.length; ++i) {\n",
       "                    if (nbb_cells[i].input_prompt_number == nbb_cell_id) {\n",
       "                        if (nbb_cells[i].get_text() == nbb_unformatted_code) {\n",
       "                             nbb_cells[i].set_text(nbb_formatted_code);\n",
       "                        }\n",
       "                        break;\n",
       "                    }\n",
       "                }\n",
       "            }, 500);\n",
       "            "
      ],
      "text/plain": [
       "<IPython.core.display.Javascript object>"
      ]
     },
     "metadata": {},
     "output_type": "display_data"
    }
   ],
   "source": [
    "SEED = 47\n",
    "METRICS = (\n",
    "    \"neg_root_mean_squared_error\",\n",
    "    \"neg_mean_absolute_error\",\n",
    "    \"neg_mean_absolute_percentage_error\",\n",
    "    \"r2\",\n",
    ")\n",
    "METRICS_DICT = {\n",
    "    \"neg_root_mean_squared_error\": \"RMSE\",\n",
    "    \"neg_mean_absolute_error\": \"MAE\",\n",
    "    \"neg_mean_absolute_percentage_error\": \"MAPE\",\n",
    "    \"r2\": \"R2\",\n",
    "}"
   ]
  },
  {
   "cell_type": "markdown",
   "id": "68005865",
   "metadata": {},
   "source": [
    "## Defining a dataframe structure to save the results"
   ]
  },
  {
   "cell_type": "code",
   "execution_count": 5,
   "id": "a5e0d3ea",
   "metadata": {},
   "outputs": [
    {
     "data": {
      "application/javascript": [
       "\n",
       "            setTimeout(function() {\n",
       "                var nbb_cell_id = 5;\n",
       "                var nbb_unformatted_code = \"results_to_save = []\\n\\nresults_dict = {\\n    \\\"Category\\\": \\\"Local Model\\\",\\n    \\\"Company\\\": \\\"209\\\",\\n    \\\"Plant\\\": \\\"AM\\\",\\n    \\\"Features\\\": \\\"Chemical + Properties CS Less\\\",\\n    \\\"Data Shape\\\": None,\\n    \\\"Timesteps\\\": None,\\n    \\\"Model\\\": \\\"Random Forest\\\",\\n    \\\"Model Params\\\": None,\\n    \\\"Scaler\\\": None,\\n    \\\"Scaler Params\\\": None,\\n    \\\"Imputer\\\": \\\"Median\\\",\\n    \\\"Imputer Params\\\": None,\\n    \\\"Cross Validation\\\": None,\\n    \\\"Cross Validation Params\\\": np.nan,\\n    \\\"RMSE Train\\\": np.nan,\\n    \\\"MAE Train\\\": np.nan,\\n    \\\"MAPE Train\\\": np.nan,\\n    \\\"R2 Train\\\": np.nan,\\n    \\\"RMSE Test\\\": np.nan,\\n    \\\"MAE Test\\\": np.nan,\\n    \\\"MAPE Test\\\": np.nan,\\n    \\\"R2 Test\\\": np.nan,\\n}\";\n",
       "                var nbb_formatted_code = \"results_to_save = []\\n\\nresults_dict = {\\n    \\\"Category\\\": \\\"Local Model\\\",\\n    \\\"Company\\\": \\\"209\\\",\\n    \\\"Plant\\\": \\\"AM\\\",\\n    \\\"Features\\\": \\\"Chemical + Properties CS Less\\\",\\n    \\\"Data Shape\\\": None,\\n    \\\"Timesteps\\\": None,\\n    \\\"Model\\\": \\\"Random Forest\\\",\\n    \\\"Model Params\\\": None,\\n    \\\"Scaler\\\": None,\\n    \\\"Scaler Params\\\": None,\\n    \\\"Imputer\\\": \\\"Median\\\",\\n    \\\"Imputer Params\\\": None,\\n    \\\"Cross Validation\\\": None,\\n    \\\"Cross Validation Params\\\": np.nan,\\n    \\\"RMSE Train\\\": np.nan,\\n    \\\"MAE Train\\\": np.nan,\\n    \\\"MAPE Train\\\": np.nan,\\n    \\\"R2 Train\\\": np.nan,\\n    \\\"RMSE Test\\\": np.nan,\\n    \\\"MAE Test\\\": np.nan,\\n    \\\"MAPE Test\\\": np.nan,\\n    \\\"R2 Test\\\": np.nan,\\n}\";\n",
       "                var nbb_cells = Jupyter.notebook.get_cells();\n",
       "                for (var i = 0; i < nbb_cells.length; ++i) {\n",
       "                    if (nbb_cells[i].input_prompt_number == nbb_cell_id) {\n",
       "                        if (nbb_cells[i].get_text() == nbb_unformatted_code) {\n",
       "                             nbb_cells[i].set_text(nbb_formatted_code);\n",
       "                        }\n",
       "                        break;\n",
       "                    }\n",
       "                }\n",
       "            }, 500);\n",
       "            "
      ],
      "text/plain": [
       "<IPython.core.display.Javascript object>"
      ]
     },
     "metadata": {},
     "output_type": "display_data"
    }
   ],
   "source": [
    "results_to_save = []\n",
    "\n",
    "results_dict = {\n",
    "    \"Category\": \"Local Model\",\n",
    "    \"Company\": \"209\",\n",
    "    \"Plant\": \"AM\",\n",
    "    \"Features\": \"Chemical + Properties CS Less\",\n",
    "    \"Data Shape\": None,\n",
    "    \"Timesteps\": None,\n",
    "    \"Model\": \"Random Forest\",\n",
    "    \"Model Params\": None,\n",
    "    \"Scaler\": None,\n",
    "    \"Scaler Params\": None,\n",
    "    \"Imputer\": \"Median\",\n",
    "    \"Imputer Params\": None,\n",
    "    \"Cross Validation\": None,\n",
    "    \"Cross Validation Params\": np.nan,\n",
    "    \"RMSE Train\": np.nan,\n",
    "    \"MAE Train\": np.nan,\n",
    "    \"MAPE Train\": np.nan,\n",
    "    \"R2 Train\": np.nan,\n",
    "    \"RMSE Test\": np.nan,\n",
    "    \"MAE Test\": np.nan,\n",
    "    \"MAPE Test\": np.nan,\n",
    "    \"R2 Test\": np.nan,\n",
    "}"
   ]
  },
  {
   "cell_type": "markdown",
   "id": "2a452455",
   "metadata": {},
   "source": [
    "# Reading the dataset"
   ]
  },
  {
   "cell_type": "code",
   "execution_count": 6,
   "id": "d0e89a40",
   "metadata": {},
   "outputs": [
    {
     "data": {
      "application/javascript": [
       "\n",
       "            setTimeout(function() {\n",
       "                var nbb_cell_id = 6;\n",
       "                var nbb_unformatted_code = \"df = pd.read_csv(\\\"../../../../data/processed/209/am.csv\\\")\";\n",
       "                var nbb_formatted_code = \"df = pd.read_csv(\\\"../../../../data/processed/209/am.csv\\\")\";\n",
       "                var nbb_cells = Jupyter.notebook.get_cells();\n",
       "                for (var i = 0; i < nbb_cells.length; ++i) {\n",
       "                    if (nbb_cells[i].input_prompt_number == nbb_cell_id) {\n",
       "                        if (nbb_cells[i].get_text() == nbb_unformatted_code) {\n",
       "                             nbb_cells[i].set_text(nbb_formatted_code);\n",
       "                        }\n",
       "                        break;\n",
       "                    }\n",
       "                }\n",
       "            }, 500);\n",
       "            "
      ],
      "text/plain": [
       "<IPython.core.display.Javascript object>"
      ]
     },
     "metadata": {},
     "output_type": "display_data"
    }
   ],
   "source": [
    "df = pd.read_csv(\"../../../../data/processed/209/am.csv\")"
   ]
  },
  {
   "cell_type": "markdown",
   "id": "2ae57845",
   "metadata": {},
   "source": [
    "## Defining Features\n",
    "\n",
    "In this set of experiments we keep only chemical and mineralogical features yielded by the same testing method/procedure"
   ]
  },
  {
   "cell_type": "code",
   "execution_count": 7,
   "id": "ea0331c1",
   "metadata": {},
   "outputs": [
    {
     "data": {
      "application/javascript": [
       "\n",
       "            setTimeout(function() {\n",
       "                var nbb_cell_id = 7;\n",
       "                var nbb_unformatted_code = \"df_copy = df.copy().drop(\\n    [\\n        \\\"Cement_Type\\\",\\n        \\\"CS3\\\",\\n        \\\"CS7\\\",\\n    ],\\n    axis=1,\\n)\";\n",
       "                var nbb_formatted_code = \"df_copy = df.copy().drop(\\n    [\\n        \\\"Cement_Type\\\",\\n        \\\"CS3\\\",\\n        \\\"CS7\\\",\\n    ],\\n    axis=1,\\n)\";\n",
       "                var nbb_cells = Jupyter.notebook.get_cells();\n",
       "                for (var i = 0; i < nbb_cells.length; ++i) {\n",
       "                    if (nbb_cells[i].input_prompt_number == nbb_cell_id) {\n",
       "                        if (nbb_cells[i].get_text() == nbb_unformatted_code) {\n",
       "                             nbb_cells[i].set_text(nbb_formatted_code);\n",
       "                        }\n",
       "                        break;\n",
       "                    }\n",
       "                }\n",
       "            }, 500);\n",
       "            "
      ],
      "text/plain": [
       "<IPython.core.display.Javascript object>"
      ]
     },
     "metadata": {},
     "output_type": "display_data"
    }
   ],
   "source": [
    "df_copy = df.copy().drop(\n",
    "    [\n",
    "        \"Cement_Type\",\n",
    "        \"CS3\",\n",
    "        \"CS7\",\n",
    "    ],\n",
    "    axis=1,\n",
    ")"
   ]
  },
  {
   "cell_type": "markdown",
   "id": "0b53c8d6",
   "metadata": {},
   "source": [
    "# 1. Decision Tree Regressor"
   ]
  },
  {
   "cell_type": "code",
   "execution_count": 8,
   "id": "a0cfed31",
   "metadata": {},
   "outputs": [
    {
     "data": {
      "application/javascript": [
       "\n",
       "            setTimeout(function() {\n",
       "                var nbb_cell_id = 8;\n",
       "                var nbb_unformatted_code = \"PARAMS = {\\n    \\\"criterion\\\": \\\"squared_error\\\",\\n    \\\"n_estimators\\\": 5,\\n    \\\"max_depth\\\": 3,\\n    \\\"random_state\\\": SEED,\\n}\";\n",
       "                var nbb_formatted_code = \"PARAMS = {\\n    \\\"criterion\\\": \\\"squared_error\\\",\\n    \\\"n_estimators\\\": 5,\\n    \\\"max_depth\\\": 3,\\n    \\\"random_state\\\": SEED,\\n}\";\n",
       "                var nbb_cells = Jupyter.notebook.get_cells();\n",
       "                for (var i = 0; i < nbb_cells.length; ++i) {\n",
       "                    if (nbb_cells[i].input_prompt_number == nbb_cell_id) {\n",
       "                        if (nbb_cells[i].get_text() == nbb_unformatted_code) {\n",
       "                             nbb_cells[i].set_text(nbb_formatted_code);\n",
       "                        }\n",
       "                        break;\n",
       "                    }\n",
       "                }\n",
       "            }, 500);\n",
       "            "
      ],
      "text/plain": [
       "<IPython.core.display.Javascript object>"
      ]
     },
     "metadata": {},
     "output_type": "display_data"
    }
   ],
   "source": [
    "PARAMS = {\n",
    "    \"criterion\": \"squared_error\",\n",
    "    \"n_estimators\": 5,\n",
    "    \"max_depth\": 3,\n",
    "    \"random_state\": SEED,\n",
    "}"
   ]
  },
  {
   "cell_type": "markdown",
   "id": "cbbbf097",
   "metadata": {},
   "source": [
    "<h2>1. Dataset: df_no_cs</h2> <br>In this dataset the CS1, CS3  and CS7 variables are not considered. Only Chemical and mineralogical features measured by the same method. For this particular dataset, all chemical features, with the exception of LOI were measured by XRF and XRD methods."
   ]
  },
  {
   "cell_type": "code",
   "execution_count": 9,
   "id": "eed9d427",
   "metadata": {},
   "outputs": [
    {
     "data": {
      "application/javascript": [
       "\n",
       "            setTimeout(function() {\n",
       "                var nbb_cell_id = 9;\n",
       "                var nbb_unformatted_code = \"y = df_copy.pop(\\\"CS28\\\").values\\nx = df_copy.drop([\\\"Date\\\"], axis=1)\\ndates = df[\\\"Date\\\"].copy()\";\n",
       "                var nbb_formatted_code = \"y = df_copy.pop(\\\"CS28\\\").values\\nx = df_copy.drop([\\\"Date\\\"], axis=1)\\ndates = df[\\\"Date\\\"].copy()\";\n",
       "                var nbb_cells = Jupyter.notebook.get_cells();\n",
       "                for (var i = 0; i < nbb_cells.length; ++i) {\n",
       "                    if (nbb_cells[i].input_prompt_number == nbb_cell_id) {\n",
       "                        if (nbb_cells[i].get_text() == nbb_unformatted_code) {\n",
       "                             nbb_cells[i].set_text(nbb_formatted_code);\n",
       "                        }\n",
       "                        break;\n",
       "                    }\n",
       "                }\n",
       "            }, 500);\n",
       "            "
      ],
      "text/plain": [
       "<IPython.core.display.Javascript object>"
      ]
     },
     "metadata": {},
     "output_type": "display_data"
    }
   ],
   "source": [
    "y = df_copy.pop(\"CS28\").values\n",
    "x = df_copy.drop([\"Date\"], axis=1)\n",
    "dates = df[\"Date\"].copy()"
   ]
  },
  {
   "cell_type": "markdown",
   "id": "d1f6805a",
   "metadata": {},
   "source": [
    "## 1.2. Blocking Time Series Cross Validation\n",
    "\n",
    "<b>Dataset shape:</b> (1234, 38)<br>\n",
    "<b>Splits:</b>5<br>    \n",
    "    1. 5 folds of 246 samples\n",
    "    2. 50% train (123 samples each fold)\n",
    "    3. 50% test (123 samples each fold)\n",
    "<b>Total:</b> 5 models<br>"
   ]
  },
  {
   "cell_type": "code",
   "execution_count": 10,
   "id": "473be546",
   "metadata": {},
   "outputs": [
    {
     "name": "stdout",
     "output_type": "stream",
     "text": [
      "Blocking Time Series Split:\n",
      "Repeats: 3\n",
      "n_splits: 5\n",
      "\n",
      "******\n",
      "[TRAIN]\n",
      "******\n",
      "RMSE: -0.983 (0.082)\n",
      "MAE: -0.726 (0.048)\n",
      "MAPE: -0.017 (0.001)\n",
      "R2: 0.973 (0.005)\n",
      "\n",
      "======================\n",
      "\n",
      "******\n",
      "[TEST]\n",
      "******\n",
      "RMSE: -1.049 (0.072)\n",
      "MAE: -0.812 (0.061)\n",
      "MAPE: -0.020 (0.001)\n",
      "R2: 0.968 (0.008)\n",
      "\n",
      "======================\n",
      "\n"
     ]
    },
    {
     "data": {
      "application/javascript": [
       "\n",
       "            setTimeout(function() {\n",
       "                var nbb_cell_id = 10;\n",
       "                var nbb_unformatted_code = \"repeats = 3\\nn_splits = 5\\ntrain_size = 0.8\\n\\npipeline = Pipeline(\\n    [\\n        (\\\"imputer\\\", SimpleImputer(strategy=\\\"median\\\")),\\n        (\\\"estimator\\\", RandomForestRegressor(**PARAMS)),\\n    ]\\n)\\ncv = BlockingTimeSeriesSplit(n_splits=n_splits, train_size=train_size)\\nscores = cross_validate(\\n    pipeline,\\n    x,\\n    y,\\n    scoring=METRICS,\\n    cv=cv,\\n    n_jobs=-1,\\n    return_train_score=True,\\n    return_estimator=True,\\n    return_indices=True,\\n)\\nprint(\\\"Blocking Time Series Split:\\\")\\nprint(f\\\"Repeats: {repeats}\\\")\\nprint(f\\\"n_splits: {n_splits}\\\")\\nprint()\\nprint_scores(scores, METRICS, METRICS_DICT)\\n\\nresults_dict_copy = results_dict.copy()\\nresults_dict_copy[\\\"Cross Validation\\\"] = \\\"Blocking Time Series Split\\\"\\nresults_dict_copy[\\n    \\\"Cross Validation Params\\\"\\n] = '{\\\"N_Splits\\\": 5, \\\"Repeats\\\": 1, \\\"train_size\\\": 0.8}'\\nresults_dict_copy[\\\"Data Shape\\\"] = x.shape\\ndf_results = fill_results_dict(results_dict_copy, scores)\\nresults_to_save.append(df_results)\";\n",
       "                var nbb_formatted_code = \"repeats = 3\\nn_splits = 5\\ntrain_size = 0.8\\n\\npipeline = Pipeline(\\n    [\\n        (\\\"imputer\\\", SimpleImputer(strategy=\\\"median\\\")),\\n        (\\\"estimator\\\", RandomForestRegressor(**PARAMS)),\\n    ]\\n)\\ncv = BlockingTimeSeriesSplit(n_splits=n_splits, train_size=train_size)\\nscores = cross_validate(\\n    pipeline,\\n    x,\\n    y,\\n    scoring=METRICS,\\n    cv=cv,\\n    n_jobs=-1,\\n    return_train_score=True,\\n    return_estimator=True,\\n    return_indices=True,\\n)\\nprint(\\\"Blocking Time Series Split:\\\")\\nprint(f\\\"Repeats: {repeats}\\\")\\nprint(f\\\"n_splits: {n_splits}\\\")\\nprint()\\nprint_scores(scores, METRICS, METRICS_DICT)\\n\\nresults_dict_copy = results_dict.copy()\\nresults_dict_copy[\\\"Cross Validation\\\"] = \\\"Blocking Time Series Split\\\"\\nresults_dict_copy[\\n    \\\"Cross Validation Params\\\"\\n] = '{\\\"N_Splits\\\": 5, \\\"Repeats\\\": 1, \\\"train_size\\\": 0.8}'\\nresults_dict_copy[\\\"Data Shape\\\"] = x.shape\\ndf_results = fill_results_dict(results_dict_copy, scores)\\nresults_to_save.append(df_results)\";\n",
       "                var nbb_cells = Jupyter.notebook.get_cells();\n",
       "                for (var i = 0; i < nbb_cells.length; ++i) {\n",
       "                    if (nbb_cells[i].input_prompt_number == nbb_cell_id) {\n",
       "                        if (nbb_cells[i].get_text() == nbb_unformatted_code) {\n",
       "                             nbb_cells[i].set_text(nbb_formatted_code);\n",
       "                        }\n",
       "                        break;\n",
       "                    }\n",
       "                }\n",
       "            }, 500);\n",
       "            "
      ],
      "text/plain": [
       "<IPython.core.display.Javascript object>"
      ]
     },
     "metadata": {},
     "output_type": "display_data"
    }
   ],
   "source": [
    "repeats = 3\n",
    "n_splits = 5\n",
    "train_size = 0.8\n",
    "\n",
    "pipeline = Pipeline(\n",
    "    [\n",
    "        (\"imputer\", SimpleImputer(strategy=\"median\")),\n",
    "        (\"estimator\", RandomForestRegressor(**PARAMS)),\n",
    "    ]\n",
    ")\n",
    "cv = BlockingTimeSeriesSplit(n_splits=n_splits, train_size=train_size)\n",
    "scores = cross_validate(\n",
    "    pipeline,\n",
    "    x,\n",
    "    y,\n",
    "    scoring=METRICS,\n",
    "    cv=cv,\n",
    "    n_jobs=-1,\n",
    "    return_train_score=True,\n",
    "    return_estimator=True,\n",
    "    return_indices=True,\n",
    ")\n",
    "print(\"Blocking Time Series Split:\")\n",
    "print(f\"Repeats: {repeats}\")\n",
    "print(f\"n_splits: {n_splits}\")\n",
    "print()\n",
    "print_scores(scores, METRICS, METRICS_DICT)\n",
    "\n",
    "results_dict_copy = results_dict.copy()\n",
    "results_dict_copy[\"Cross Validation\"] = \"Blocking Time Series Split\"\n",
    "results_dict_copy[\n",
    "    \"Cross Validation Params\"\n",
    "] = '{\"N_Splits\": 5, \"Repeats\": 1, \"train_size\": 0.8}'\n",
    "results_dict_copy[\"Data Shape\"] = x.shape\n",
    "df_results = fill_results_dict(results_dict_copy, scores)\n",
    "results_to_save.append(df_results)"
   ]
  },
  {
   "cell_type": "markdown",
   "id": "a3f4ad0e",
   "metadata": {},
   "source": [
    "## Plotting the Predictions"
   ]
  },
  {
   "cell_type": "code",
   "execution_count": 11,
   "id": "3f45b891",
   "metadata": {},
   "outputs": [
    {
     "data": {
      "application/javascript": [
       "\n",
       "            setTimeout(function() {\n",
       "                var nbb_cell_id = 11;\n",
       "                var nbb_unformatted_code = \"df_pred = pd.DataFrame()\\ndf_pred[\\\"DATE\\\"] = dates.copy()\\ndf_pred[\\\"CS28\\\"] = y.copy()\\ndf_pred[\\\"CS28_PRED\\\"] = np.nan\\ndf_pred[\\\"SET\\\"] = \\\"\\\"\\ndf_pred[\\\"CEMENT_TYPE\\\"] = df[\\\"Cement_Type\\\"].copy()\\ndf_pred[\\\"DATE\\\"] = pd.to_datetime(df_pred[\\\"DATE\\\"])\\n\\n\\nfor idx, pipeline in enumerate(scores[\\\"estimator\\\"]):\\n    index_train = scores[\\\"indices\\\"][\\\"train\\\"][idx]\\n    index_test = scores[\\\"indices\\\"][\\\"test\\\"][idx]\\n    index_preds = np.concatenate([index_train, index_test])\\n\\n    # results = scores[\\\"estimator\\\"][0].predict(x.loc[index_preds])\\n    results = pipeline.predict(x.loc[index_preds])\\n    df_pred.loc[index_preds, \\\"CS28_PRED\\\"] = results.copy()\\n    df_pred.loc[index_train, \\\"SET\\\"] = \\\"TRAIN\\\"\\n    df_pred.loc[index_test, \\\"SET\\\"] = \\\"TEST\\\"\\ndf_pred = df_pred.dropna()\";\n",
       "                var nbb_formatted_code = \"df_pred = pd.DataFrame()\\ndf_pred[\\\"DATE\\\"] = dates.copy()\\ndf_pred[\\\"CS28\\\"] = y.copy()\\ndf_pred[\\\"CS28_PRED\\\"] = np.nan\\ndf_pred[\\\"SET\\\"] = \\\"\\\"\\ndf_pred[\\\"CEMENT_TYPE\\\"] = df[\\\"Cement_Type\\\"].copy()\\ndf_pred[\\\"DATE\\\"] = pd.to_datetime(df_pred[\\\"DATE\\\"])\\n\\n\\nfor idx, pipeline in enumerate(scores[\\\"estimator\\\"]):\\n    index_train = scores[\\\"indices\\\"][\\\"train\\\"][idx]\\n    index_test = scores[\\\"indices\\\"][\\\"test\\\"][idx]\\n    index_preds = np.concatenate([index_train, index_test])\\n\\n    # results = scores[\\\"estimator\\\"][0].predict(x.loc[index_preds])\\n    results = pipeline.predict(x.loc[index_preds])\\n    df_pred.loc[index_preds, \\\"CS28_PRED\\\"] = results.copy()\\n    df_pred.loc[index_train, \\\"SET\\\"] = \\\"TRAIN\\\"\\n    df_pred.loc[index_test, \\\"SET\\\"] = \\\"TEST\\\"\\ndf_pred = df_pred.dropna()\";\n",
       "                var nbb_cells = Jupyter.notebook.get_cells();\n",
       "                for (var i = 0; i < nbb_cells.length; ++i) {\n",
       "                    if (nbb_cells[i].input_prompt_number == nbb_cell_id) {\n",
       "                        if (nbb_cells[i].get_text() == nbb_unformatted_code) {\n",
       "                             nbb_cells[i].set_text(nbb_formatted_code);\n",
       "                        }\n",
       "                        break;\n",
       "                    }\n",
       "                }\n",
       "            }, 500);\n",
       "            "
      ],
      "text/plain": [
       "<IPython.core.display.Javascript object>"
      ]
     },
     "metadata": {},
     "output_type": "display_data"
    }
   ],
   "source": [
    "df_pred = pd.DataFrame()\n",
    "df_pred[\"DATE\"] = dates.copy()\n",
    "df_pred[\"CS28\"] = y.copy()\n",
    "df_pred[\"CS28_PRED\"] = np.nan\n",
    "df_pred[\"SET\"] = \"\"\n",
    "df_pred[\"CEMENT_TYPE\"] = df[\"Cement_Type\"].copy()\n",
    "df_pred[\"DATE\"] = pd.to_datetime(df_pred[\"DATE\"])\n",
    "\n",
    "\n",
    "for idx, pipeline in enumerate(scores[\"estimator\"]):\n",
    "    index_train = scores[\"indices\"][\"train\"][idx]\n",
    "    index_test = scores[\"indices\"][\"test\"][idx]\n",
    "    index_preds = np.concatenate([index_train, index_test])\n",
    "\n",
    "    # results = scores[\"estimator\"][0].predict(x.loc[index_preds])\n",
    "    results = pipeline.predict(x.loc[index_preds])\n",
    "    df_pred.loc[index_preds, \"CS28_PRED\"] = results.copy()\n",
    "    df_pred.loc[index_train, \"SET\"] = \"TRAIN\"\n",
    "    df_pred.loc[index_test, \"SET\"] = \"TEST\"\n",
    "df_pred = df_pred.dropna()"
   ]
  },
  {
   "cell_type": "code",
   "execution_count": 12,
   "id": "576a8fc8",
   "metadata": {},
   "outputs": [
    {
     "data": {
      "text/html": [
       "<div>\n",
       "<style scoped>\n",
       "    .dataframe tbody tr th:only-of-type {\n",
       "        vertical-align: middle;\n",
       "    }\n",
       "\n",
       "    .dataframe tbody tr th {\n",
       "        vertical-align: top;\n",
       "    }\n",
       "\n",
       "    .dataframe thead th {\n",
       "        text-align: right;\n",
       "    }\n",
       "</style>\n",
       "<table border=\"1\" class=\"dataframe\">\n",
       "  <thead>\n",
       "    <tr style=\"text-align: right;\">\n",
       "      <th></th>\n",
       "      <th>DATE</th>\n",
       "      <th>CS28</th>\n",
       "      <th>CS28_PRED</th>\n",
       "      <th>SET</th>\n",
       "    </tr>\n",
       "  </thead>\n",
       "  <tbody>\n",
       "    <tr>\n",
       "      <th>0</th>\n",
       "      <td>2021-01-04</td>\n",
       "      <td>39.600000</td>\n",
       "      <td>40.752554</td>\n",
       "      <td>TRAIN</td>\n",
       "    </tr>\n",
       "    <tr>\n",
       "      <th>1</th>\n",
       "      <td>2021-01-04</td>\n",
       "      <td>44.700001</td>\n",
       "      <td>44.955922</td>\n",
       "      <td>TRAIN</td>\n",
       "    </tr>\n",
       "    <tr>\n",
       "      <th>2</th>\n",
       "      <td>2021-01-04</td>\n",
       "      <td>35.700001</td>\n",
       "      <td>35.009541</td>\n",
       "      <td>TRAIN</td>\n",
       "    </tr>\n",
       "    <tr>\n",
       "      <th>3</th>\n",
       "      <td>2021-01-04</td>\n",
       "      <td>33.400002</td>\n",
       "      <td>34.230276</td>\n",
       "      <td>TRAIN</td>\n",
       "    </tr>\n",
       "    <tr>\n",
       "      <th>4</th>\n",
       "      <td>2021-01-04</td>\n",
       "      <td>49.400002</td>\n",
       "      <td>47.588094</td>\n",
       "      <td>TRAIN</td>\n",
       "    </tr>\n",
       "    <tr>\n",
       "      <th>...</th>\n",
       "      <td>...</td>\n",
       "      <td>...</td>\n",
       "      <td>...</td>\n",
       "      <td>...</td>\n",
       "    </tr>\n",
       "    <tr>\n",
       "      <th>3770</th>\n",
       "      <td>2023-07-22</td>\n",
       "      <td>39.200001</td>\n",
       "      <td>40.217530</td>\n",
       "      <td>TEST</td>\n",
       "    </tr>\n",
       "    <tr>\n",
       "      <th>3771</th>\n",
       "      <td>2023-07-22</td>\n",
       "      <td>48.000000</td>\n",
       "      <td>48.279558</td>\n",
       "      <td>TEST</td>\n",
       "    </tr>\n",
       "    <tr>\n",
       "      <th>3772</th>\n",
       "      <td>2023-07-24</td>\n",
       "      <td>47.000000</td>\n",
       "      <td>48.279558</td>\n",
       "      <td>TEST</td>\n",
       "    </tr>\n",
       "    <tr>\n",
       "      <th>3773</th>\n",
       "      <td>2023-07-25</td>\n",
       "      <td>47.000000</td>\n",
       "      <td>46.756481</td>\n",
       "      <td>TEST</td>\n",
       "    </tr>\n",
       "    <tr>\n",
       "      <th>3774</th>\n",
       "      <td>2023-07-25</td>\n",
       "      <td>45.299999</td>\n",
       "      <td>47.345520</td>\n",
       "      <td>TEST</td>\n",
       "    </tr>\n",
       "  </tbody>\n",
       "</table>\n",
       "<p>3775 rows × 4 columns</p>\n",
       "</div>"
      ],
      "text/plain": [
       "           DATE       CS28  CS28_PRED    SET\n",
       "0    2021-01-04  39.600000  40.752554  TRAIN\n",
       "1    2021-01-04  44.700001  44.955922  TRAIN\n",
       "2    2021-01-04  35.700001  35.009541  TRAIN\n",
       "3    2021-01-04  33.400002  34.230276  TRAIN\n",
       "4    2021-01-04  49.400002  47.588094  TRAIN\n",
       "...         ...        ...        ...    ...\n",
       "3770 2023-07-22  39.200001  40.217530   TEST\n",
       "3771 2023-07-22  48.000000  48.279558   TEST\n",
       "3772 2023-07-24  47.000000  48.279558   TEST\n",
       "3773 2023-07-25  47.000000  46.756481   TEST\n",
       "3774 2023-07-25  45.299999  47.345520   TEST\n",
       "\n",
       "[3775 rows x 4 columns]"
      ]
     },
     "execution_count": 12,
     "metadata": {},
     "output_type": "execute_result"
    },
    {
     "data": {
      "application/javascript": [
       "\n",
       "            setTimeout(function() {\n",
       "                var nbb_cell_id = 12;\n",
       "                var nbb_unformatted_code = \"df_pred[[\\\"DATE\\\", \\\"CS28\\\", \\\"CS28_PRED\\\", \\\"SET\\\"]]\";\n",
       "                var nbb_formatted_code = \"df_pred[[\\\"DATE\\\", \\\"CS28\\\", \\\"CS28_PRED\\\", \\\"SET\\\"]]\";\n",
       "                var nbb_cells = Jupyter.notebook.get_cells();\n",
       "                for (var i = 0; i < nbb_cells.length; ++i) {\n",
       "                    if (nbb_cells[i].input_prompt_number == nbb_cell_id) {\n",
       "                        if (nbb_cells[i].get_text() == nbb_unformatted_code) {\n",
       "                             nbb_cells[i].set_text(nbb_formatted_code);\n",
       "                        }\n",
       "                        break;\n",
       "                    }\n",
       "                }\n",
       "            }, 500);\n",
       "            "
      ],
      "text/plain": [
       "<IPython.core.display.Javascript object>"
      ]
     },
     "metadata": {},
     "output_type": "display_data"
    }
   ],
   "source": [
    "df_pred[[\"DATE\", \"CS28\", \"CS28_PRED\", \"SET\"]]"
   ]
  },
  {
   "cell_type": "code",
   "execution_count": 13,
   "id": "e237d059",
   "metadata": {},
   "outputs": [
    {
     "data": {
      "application/javascript": [
       "\n",
       "            setTimeout(function() {\n",
       "                var nbb_cell_id = 13;\n",
       "                var nbb_unformatted_code = \"df_copy_merge = df_copy.reset_index(drop=True).merge(\\n    df_pred.reset_index(drop=True), left_index=True, right_index=True, how=\\\"inner\\\"\\n)\\ndf_copy_merge[\\\"COMPANY\\\"] = 209\\ndf_copy_merge[\\\"PLANT\\\"] = \\\"AM\\\"\\n\\nfor fold, (train_index, test_index) in enumerate(cv.split(x)):\\n    df_copy_merge.loc[train_index, \\\"FOLD\\\"] = fold + 1\\n    df_copy_merge.loc[test_index, \\\"FOLD\\\"] = fold + 1\\ndf_copy_merge[\\\"FOLD\\\"] = df_copy_merge[\\\"FOLD\\\"].astype(int)\\ndf_copy_merge.to_excel(\\\"local_model_random_forest_btsscv_209_am.xlsx\\\", index=False)\\ndf_copy_merge.to_csv(\\\"local_model_random_forest_btsscv_209_am.csv\\\", index=False)\";\n",
       "                var nbb_formatted_code = \"df_copy_merge = df_copy.reset_index(drop=True).merge(\\n    df_pred.reset_index(drop=True), left_index=True, right_index=True, how=\\\"inner\\\"\\n)\\ndf_copy_merge[\\\"COMPANY\\\"] = 209\\ndf_copy_merge[\\\"PLANT\\\"] = \\\"AM\\\"\\n\\nfor fold, (train_index, test_index) in enumerate(cv.split(x)):\\n    df_copy_merge.loc[train_index, \\\"FOLD\\\"] = fold + 1\\n    df_copy_merge.loc[test_index, \\\"FOLD\\\"] = fold + 1\\ndf_copy_merge[\\\"FOLD\\\"] = df_copy_merge[\\\"FOLD\\\"].astype(int)\\ndf_copy_merge.to_excel(\\\"local_model_random_forest_btsscv_209_am.xlsx\\\", index=False)\\ndf_copy_merge.to_csv(\\\"local_model_random_forest_btsscv_209_am.csv\\\", index=False)\";\n",
       "                var nbb_cells = Jupyter.notebook.get_cells();\n",
       "                for (var i = 0; i < nbb_cells.length; ++i) {\n",
       "                    if (nbb_cells[i].input_prompt_number == nbb_cell_id) {\n",
       "                        if (nbb_cells[i].get_text() == nbb_unformatted_code) {\n",
       "                             nbb_cells[i].set_text(nbb_formatted_code);\n",
       "                        }\n",
       "                        break;\n",
       "                    }\n",
       "                }\n",
       "            }, 500);\n",
       "            "
      ],
      "text/plain": [
       "<IPython.core.display.Javascript object>"
      ]
     },
     "metadata": {},
     "output_type": "display_data"
    }
   ],
   "source": [
    "df_copy_merge = df_copy.reset_index(drop=True).merge(\n",
    "    df_pred.reset_index(drop=True), left_index=True, right_index=True, how=\"inner\"\n",
    ")\n",
    "df_copy_merge[\"COMPANY\"] = 209\n",
    "df_copy_merge[\"PLANT\"] = \"AM\"\n",
    "\n",
    "for fold, (train_index, test_index) in enumerate(cv.split(x)):\n",
    "    df_copy_merge.loc[train_index, \"FOLD\"] = fold + 1\n",
    "    df_copy_merge.loc[test_index, \"FOLD\"] = fold + 1\n",
    "df_copy_merge[\"FOLD\"] = df_copy_merge[\"FOLD\"].astype(int)\n",
    "df_copy_merge.to_excel(\"local_model_random_forest_btsscv_209_am.xlsx\", index=False)\n",
    "df_copy_merge.to_csv(\"local_model_random_forest_btsscv_209_am.csv\", index=False)"
   ]
  },
  {
   "cell_type": "code",
   "execution_count": 14,
   "id": "9471f014",
   "metadata": {},
   "outputs": [
    {
     "data": {
      "text/html": [
       "<div>\n",
       "<style scoped>\n",
       "    .dataframe tbody tr th:only-of-type {\n",
       "        vertical-align: middle;\n",
       "    }\n",
       "\n",
       "    .dataframe tbody tr th {\n",
       "        vertical-align: top;\n",
       "    }\n",
       "\n",
       "    .dataframe thead th {\n",
       "        text-align: right;\n",
       "    }\n",
       "</style>\n",
       "<table border=\"1\" class=\"dataframe\">\n",
       "  <thead>\n",
       "    <tr style=\"text-align: right;\">\n",
       "      <th></th>\n",
       "      <th>DATE</th>\n",
       "      <th>CS28</th>\n",
       "      <th>CS28_PRED</th>\n",
       "      <th>SET</th>\n",
       "      <th>CEMENT_TYPE</th>\n",
       "    </tr>\n",
       "  </thead>\n",
       "  <tbody>\n",
       "    <tr>\n",
       "      <th>0</th>\n",
       "      <td>2021-01-04</td>\n",
       "      <td>39.600000</td>\n",
       "      <td>40.752554</td>\n",
       "      <td>TRAIN</td>\n",
       "      <td>CP IV-32</td>\n",
       "    </tr>\n",
       "    <tr>\n",
       "      <th>1</th>\n",
       "      <td>2021-01-04</td>\n",
       "      <td>44.700001</td>\n",
       "      <td>44.955922</td>\n",
       "      <td>TRAIN</td>\n",
       "      <td>CP II-F-40</td>\n",
       "    </tr>\n",
       "    <tr>\n",
       "      <th>2</th>\n",
       "      <td>2021-01-04</td>\n",
       "      <td>35.700001</td>\n",
       "      <td>35.009541</td>\n",
       "      <td>TRAIN</td>\n",
       "      <td>CP II-Z-32</td>\n",
       "    </tr>\n",
       "    <tr>\n",
       "      <th>3</th>\n",
       "      <td>2021-01-04</td>\n",
       "      <td>33.400002</td>\n",
       "      <td>34.230276</td>\n",
       "      <td>TRAIN</td>\n",
       "      <td>CP II-Z-32</td>\n",
       "    </tr>\n",
       "    <tr>\n",
       "      <th>4</th>\n",
       "      <td>2021-01-04</td>\n",
       "      <td>49.400002</td>\n",
       "      <td>47.588094</td>\n",
       "      <td>TRAIN</td>\n",
       "      <td>CP V-ARI</td>\n",
       "    </tr>\n",
       "    <tr>\n",
       "      <th>...</th>\n",
       "      <td>...</td>\n",
       "      <td>...</td>\n",
       "      <td>...</td>\n",
       "      <td>...</td>\n",
       "      <td>...</td>\n",
       "    </tr>\n",
       "    <tr>\n",
       "      <th>3770</th>\n",
       "      <td>2023-07-22</td>\n",
       "      <td>39.200001</td>\n",
       "      <td>40.217530</td>\n",
       "      <td>TEST</td>\n",
       "      <td>CP IV-32</td>\n",
       "    </tr>\n",
       "    <tr>\n",
       "      <th>3771</th>\n",
       "      <td>2023-07-22</td>\n",
       "      <td>48.000000</td>\n",
       "      <td>48.279558</td>\n",
       "      <td>TEST</td>\n",
       "      <td>CP V-ARI</td>\n",
       "    </tr>\n",
       "    <tr>\n",
       "      <th>3772</th>\n",
       "      <td>2023-07-24</td>\n",
       "      <td>47.000000</td>\n",
       "      <td>48.279558</td>\n",
       "      <td>TEST</td>\n",
       "      <td>CP V-ARI</td>\n",
       "    </tr>\n",
       "    <tr>\n",
       "      <th>3773</th>\n",
       "      <td>2023-07-25</td>\n",
       "      <td>47.000000</td>\n",
       "      <td>46.756481</td>\n",
       "      <td>TEST</td>\n",
       "      <td>CP V-ARI</td>\n",
       "    </tr>\n",
       "    <tr>\n",
       "      <th>3774</th>\n",
       "      <td>2023-07-25</td>\n",
       "      <td>45.299999</td>\n",
       "      <td>47.345520</td>\n",
       "      <td>TEST</td>\n",
       "      <td>CP II-F-40</td>\n",
       "    </tr>\n",
       "  </tbody>\n",
       "</table>\n",
       "<p>3775 rows × 5 columns</p>\n",
       "</div>"
      ],
      "text/plain": [
       "           DATE       CS28  CS28_PRED    SET CEMENT_TYPE\n",
       "0    2021-01-04  39.600000  40.752554  TRAIN    CP IV-32\n",
       "1    2021-01-04  44.700001  44.955922  TRAIN  CP II-F-40\n",
       "2    2021-01-04  35.700001  35.009541  TRAIN  CP II-Z-32\n",
       "3    2021-01-04  33.400002  34.230276  TRAIN  CP II-Z-32\n",
       "4    2021-01-04  49.400002  47.588094  TRAIN    CP V-ARI\n",
       "...         ...        ...        ...    ...         ...\n",
       "3770 2023-07-22  39.200001  40.217530   TEST    CP IV-32\n",
       "3771 2023-07-22  48.000000  48.279558   TEST    CP V-ARI\n",
       "3772 2023-07-24  47.000000  48.279558   TEST    CP V-ARI\n",
       "3773 2023-07-25  47.000000  46.756481   TEST    CP V-ARI\n",
       "3774 2023-07-25  45.299999  47.345520   TEST  CP II-F-40\n",
       "\n",
       "[3775 rows x 5 columns]"
      ]
     },
     "execution_count": 14,
     "metadata": {},
     "output_type": "execute_result"
    },
    {
     "data": {
      "application/javascript": [
       "\n",
       "            setTimeout(function() {\n",
       "                var nbb_cell_id = 14;\n",
       "                var nbb_unformatted_code = \"df_pred\";\n",
       "                var nbb_formatted_code = \"df_pred\";\n",
       "                var nbb_cells = Jupyter.notebook.get_cells();\n",
       "                for (var i = 0; i < nbb_cells.length; ++i) {\n",
       "                    if (nbb_cells[i].input_prompt_number == nbb_cell_id) {\n",
       "                        if (nbb_cells[i].get_text() == nbb_unformatted_code) {\n",
       "                             nbb_cells[i].set_text(nbb_formatted_code);\n",
       "                        }\n",
       "                        break;\n",
       "                    }\n",
       "                }\n",
       "            }, 500);\n",
       "            "
      ],
      "text/plain": [
       "<IPython.core.display.Javascript object>"
      ]
     },
     "metadata": {},
     "output_type": "display_data"
    }
   ],
   "source": [
    "df_pred"
   ]
  },
  {
   "cell_type": "code",
   "execution_count": 15,
   "id": "2543aff4",
   "metadata": {},
   "outputs": [
    {
     "data": {
      "application/javascript": [
       "\n",
       "            setTimeout(function() {\n",
       "                var nbb_cell_id = 15;\n",
       "                var nbb_unformatted_code = \"matplotlib.rc_file_defaults()\";\n",
       "                var nbb_formatted_code = \"matplotlib.rc_file_defaults()\";\n",
       "                var nbb_cells = Jupyter.notebook.get_cells();\n",
       "                for (var i = 0; i < nbb_cells.length; ++i) {\n",
       "                    if (nbb_cells[i].input_prompt_number == nbb_cell_id) {\n",
       "                        if (nbb_cells[i].get_text() == nbb_unformatted_code) {\n",
       "                             nbb_cells[i].set_text(nbb_formatted_code);\n",
       "                        }\n",
       "                        break;\n",
       "                    }\n",
       "                }\n",
       "            }, 500);\n",
       "            "
      ],
      "text/plain": [
       "<IPython.core.display.Javascript object>"
      ]
     },
     "metadata": {},
     "output_type": "display_data"
    }
   ],
   "source": [
    "matplotlib.rc_file_defaults()"
   ]
  },
  {
   "cell_type": "code",
   "execution_count": 16,
   "id": "62be6c0f",
   "metadata": {},
   "outputs": [
    {
     "data": {
      "image/png": "[encoded data removed]",
      "text/plain": [
       "<Figure size 500x500 with 1 Axes>"
      ]
     },
     "metadata": {},
     "output_type": "display_data"
    },
    {
     "data": {
      "application/javascript": [
       "\n",
       "            setTimeout(function() {\n",
       "                var nbb_cell_id = 16;\n",
       "                var nbb_unformatted_code = \"# Filter to only include the test set\\ntest_data = df_pred[df_pred[\\\"SET\\\"] == \\\"TEST\\\"]\\n\\n# Plot Predicted vs Actual for the test set\\nplt.figure(figsize=(5.0, 5.0))\\nplt.scatter(\\n    test_data[\\\"CS28\\\"], test_data[\\\"CS28_PRED\\\"], color=\\\"red\\\", alpha=0.5, label=\\\"Test Set\\\"\\n)\\nplt.plot(\\n    [test_data[\\\"CS28\\\"].min(), test_data[\\\"CS28\\\"].max()],\\n    [test_data[\\\"CS28\\\"].min(), test_data[\\\"CS28\\\"].max()],\\n    \\\"k--\\\",\\n    lw=2,\\n)\\nplt.xlabel(\\\"Actual CS28 (MPa)\\\")\\nplt.ylabel(\\\"Predicted CS28 (MPa)\\\")\\nplt.title(\\\"Predicted vs Actual CS28\\\")\\nplt.legend()\\nplt.grid(True)\\nplt.gca().spines[\\\"top\\\"].set_visible(False)\\nplt.gca().spines[\\\"right\\\"].set_visible(False)\\n\\nplt.savefig(\\\"ecics_cm_p_btiss_scpm_top_one_pred_vs_actual_cs28.png\\\", dpi=300, bbox_inches='tight')\\n\\nplt.show()\\n# USAR ESSE\";\n",
       "                var nbb_formatted_code = \"# Filter to only include the test set\\ntest_data = df_pred[df_pred[\\\"SET\\\"] == \\\"TEST\\\"]\\n\\n# Plot Predicted vs Actual for the test set\\nplt.figure(figsize=(5.0, 5.0))\\nplt.scatter(\\n    test_data[\\\"CS28\\\"], test_data[\\\"CS28_PRED\\\"], color=\\\"red\\\", alpha=0.5, label=\\\"Test Set\\\"\\n)\\nplt.plot(\\n    [test_data[\\\"CS28\\\"].min(), test_data[\\\"CS28\\\"].max()],\\n    [test_data[\\\"CS28\\\"].min(), test_data[\\\"CS28\\\"].max()],\\n    \\\"k--\\\",\\n    lw=2,\\n)\\nplt.xlabel(\\\"Actual CS28 (MPa)\\\")\\nplt.ylabel(\\\"Predicted CS28 (MPa)\\\")\\nplt.title(\\\"Predicted vs Actual CS28\\\")\\nplt.legend()\\nplt.grid(True)\\nplt.gca().spines[\\\"top\\\"].set_visible(False)\\nplt.gca().spines[\\\"right\\\"].set_visible(False)\\n\\nplt.savefig(\\n    \\\"ecics_cm_p_btiss_scpm_top_one_pred_vs_actual_cs28.png\\\",\\n    dpi=300,\\n    bbox_inches=\\\"tight\\\",\\n)\\n\\nplt.show()\\n# USAR ESSE\";\n",
       "                var nbb_cells = Jupyter.notebook.get_cells();\n",
       "                for (var i = 0; i < nbb_cells.length; ++i) {\n",
       "                    if (nbb_cells[i].input_prompt_number == nbb_cell_id) {\n",
       "                        if (nbb_cells[i].get_text() == nbb_unformatted_code) {\n",
       "                             nbb_cells[i].set_text(nbb_formatted_code);\n",
       "                        }\n",
       "                        break;\n",
       "                    }\n",
       "                }\n",
       "            }, 500);\n",
       "            "
      ],
      "text/plain": [
       "<IPython.core.display.Javascript object>"
      ]
     },
     "metadata": {},
     "output_type": "display_data"
    }
   ],
   "source": [
    "# Filter to only include the test set\n",
    "test_data = df_pred[df_pred[\"SET\"] == \"TEST\"]\n",
    "\n",
    "# Plot Predicted vs Actual for the test set\n",
    "plt.figure(figsize=(5.0, 5.0))\n",
    "plt.scatter(\n",
    "    test_data[\"CS28\"], test_data[\"CS28_PRED\"], color=\"red\", alpha=0.5, label=\"Test Set\"\n",
    ")\n",
    "plt.plot(\n",
    "    [test_data[\"CS28\"].min(), test_data[\"CS28\"].max()],\n",
    "    [test_data[\"CS28\"].min(), test_data[\"CS28\"].max()],\n",
    "    \"k--\",\n",
    "    lw=2,\n",
    ")\n",
    "plt.xlabel(\"Actual CS28 (MPa)\")\n",
    "plt.ylabel(\"Predicted CS28 (MPa)\")\n",
    "plt.title(\"Predicted vs Actual CS28\")\n",
    "plt.legend()\n",
    "plt.grid(True)\n",
    "plt.gca().spines[\"top\"].set_visible(False)\n",
    "plt.gca().spines[\"right\"].set_visible(False)\n",
    "\n",
    "plt.savefig(\"ecics_cm_p_btiss_scpm_top_one_pred_vs_actual_cs28.png\", dpi=300, bbox_inches='tight')\n",
    "\n",
    "plt.show()\n",
    "# USAR ESSE\n",
    "\n"
   ]
  },
  {
   "cell_type": "code",
   "execution_count": 17,
   "id": "a9b99ebb",
   "metadata": {},
   "outputs": [
    {
     "data": {
      "image/png": "[encoded data removed]",
      "text/plain": [
       "<Figure size 600x600 with 1 Axes>"
      ]
     },
     "metadata": {},
     "output_type": "display_data"
    },
    {
     "data": {
      "application/javascript": [
       "\n",
       "            setTimeout(function() {\n",
       "                var nbb_cell_id = 17;\n",
       "                var nbb_unformatted_code = \"plt.figure(figsize=(6, 6))\\nplt.scatter(\\n    test_data[\\\"CS28\\\"], test_data[\\\"CS28_PRED\\\"], color=\\\"tomato\\\", alpha=0.7, label=\\\"Predicted\\\"\\n)\\nplt.plot(\\n    [test_data[\\\"CS28\\\"].min(), test_data[\\\"CS28\\\"].max()],\\n    [test_data[\\\"CS28\\\"].min(), test_data[\\\"CS28\\\"].max()],\\n    color=\\\"black\\\", linestyle=\\\"--\\\", linewidth=2,\\n)\\nplt.xlabel(\\\"Actual CS28 (MPa)\\\")\\nplt.ylabel(\\\"Predicted CS28 (MPa)\\\")\\nplt.title(\\\"Predicted vs Actual CS28\\\")\\nplt.legend()\\nplt.grid(True)\\nplt.gca().spines[\\\"top\\\"].set_visible(False)\\nplt.gca().spines[\\\"right\\\"].set_visible(False)\\n\\nplt.savefig(\\\"ecics_cm_p_btiss_scpm_top_one_pred_vs_actual_cs28.png\\\", dpi=300, bbox_inches='tight')\\nplt.show()\";\n",
       "                var nbb_formatted_code = \"plt.figure(figsize=(6, 6))\\nplt.scatter(\\n    test_data[\\\"CS28\\\"],\\n    test_data[\\\"CS28_PRED\\\"],\\n    color=\\\"tomato\\\",\\n    alpha=0.7,\\n    label=\\\"Predicted\\\",\\n)\\nplt.plot(\\n    [test_data[\\\"CS28\\\"].min(), test_data[\\\"CS28\\\"].max()],\\n    [test_data[\\\"CS28\\\"].min(), test_data[\\\"CS28\\\"].max()],\\n    color=\\\"black\\\",\\n    linestyle=\\\"--\\\",\\n    linewidth=2,\\n)\\nplt.xlabel(\\\"Actual CS28 (MPa)\\\")\\nplt.ylabel(\\\"Predicted CS28 (MPa)\\\")\\nplt.title(\\\"Predicted vs Actual CS28\\\")\\nplt.legend()\\nplt.grid(True)\\nplt.gca().spines[\\\"top\\\"].set_visible(False)\\nplt.gca().spines[\\\"right\\\"].set_visible(False)\\n\\nplt.savefig(\\n    \\\"ecics_cm_p_btiss_scpm_top_one_pred_vs_actual_cs28.png\\\",\\n    dpi=300,\\n    bbox_inches=\\\"tight\\\",\\n)\\nplt.show()\";\n",
       "                var nbb_cells = Jupyter.notebook.get_cells();\n",
       "                for (var i = 0; i < nbb_cells.length; ++i) {\n",
       "                    if (nbb_cells[i].input_prompt_number == nbb_cell_id) {\n",
       "                        if (nbb_cells[i].get_text() == nbb_unformatted_code) {\n",
       "                             nbb_cells[i].set_text(nbb_formatted_code);\n",
       "                        }\n",
       "                        break;\n",
       "                    }\n",
       "                }\n",
       "            }, 500);\n",
       "            "
      ],
      "text/plain": [
       "<IPython.core.display.Javascript object>"
      ]
     },
     "metadata": {},
     "output_type": "display_data"
    }
   ],
   "source": [
    "plt.figure(figsize=(6, 6))\n",
    "plt.scatter(\n",
    "    test_data[\"CS28\"], test_data[\"CS28_PRED\"], color=\"tomato\", alpha=0.7, label=\"Predicted\"\n",
    ")\n",
    "plt.plot(\n",
    "    [test_data[\"CS28\"].min(), test_data[\"CS28\"].max()],\n",
    "    [test_data[\"CS28\"].min(), test_data[\"CS28\"].max()],\n",
    "    color=\"black\", linestyle=\"--\", linewidth=2,\n",
    ")\n",
    "plt.xlabel(\"Actual CS28 (MPa)\")\n",
    "plt.ylabel(\"Predicted CS28 (MPa)\")\n",
    "plt.title(\"Predicted vs Actual CS28\")\n",
    "plt.legend()\n",
    "plt.grid(True)\n",
    "plt.gca().spines[\"top\"].set_visible(False)\n",
    "plt.gca().spines[\"right\"].set_visible(False)\n",
    "\n",
    "plt.savefig(\"ecics_cm_p_btiss_scpm_top_one_pred_vs_actual_cs28.png\", dpi=300, bbox_inches='tight')\n",
    "plt.show()\n"
   ]
  },
  {
   "cell_type": "code",
   "execution_count": 18,
   "id": "9d8ab4de",
   "metadata": {},
   "outputs": [
    {
     "data": {
      "image/png": "[encoded data removed]",
      "text/plain": [
       "<Figure size 600x600 with 1 Axes>"
      ]
     },
     "metadata": {},
     "output_type": "display_data"
    },
    {
     "data": {
      "application/javascript": [
       "\n",
       "            setTimeout(function() {\n",
       "                var nbb_cell_id = 18;\n",
       "                var nbb_unformatted_code = \"plt.figure(figsize=(6, 6))\\nplt.scatter(\\n    test_data[\\\"CS28\\\"], test_data[\\\"CS28_PRED\\\"], color=\\\"tomato\\\", alpha=0.7, label=\\\"Predicted\\\"\\n)\\nplt.plot(\\n    [test_data[\\\"CS28\\\"].min(), test_data[\\\"CS28\\\"].max()],\\n    [test_data[\\\"CS28\\\"].min(), test_data[\\\"CS28\\\"].max()],\\n    color=\\\"black\\\", linestyle=\\\"--\\\", linewidth=2,\\n)\\nplt.xlabel(\\\"Actual CS28 (MPa)\\\")\\nplt.ylabel(\\\"Predicted CS28 (MPa)\\\")\\nplt.title(\\\"Predicted vs Actual CS28\\\")\\nplt.legend()\\nplt.grid(True)\\nplt.gca().spines[\\\"top\\\"].set_visible(False)\\nplt.gca().spines[\\\"right\\\"].set_visible(False)\\n\\nr2 = 0.97\\nplt.text(\\n    0.82,\\n    0.07,\\n    f\\\"$R^2 = {r2:.2f}$\\\",\\n    transform=plt.gca().transAxes,\\n    verticalalignment=\\\"top\\\",\\n)\\n\\nplt.savefig(\\\"ecics_cm_p_btiss_scpm_top_one_pred_vs_actual_cs28.png\\\", dpi=300, bbox_inches='tight')\\nplt.show()\";\n",
       "                var nbb_formatted_code = \"plt.figure(figsize=(6, 6))\\nplt.scatter(\\n    test_data[\\\"CS28\\\"],\\n    test_data[\\\"CS28_PRED\\\"],\\n    color=\\\"tomato\\\",\\n    alpha=0.7,\\n    label=\\\"Predicted\\\",\\n)\\nplt.plot(\\n    [test_data[\\\"CS28\\\"].min(), test_data[\\\"CS28\\\"].max()],\\n    [test_data[\\\"CS28\\\"].min(), test_data[\\\"CS28\\\"].max()],\\n    color=\\\"black\\\",\\n    linestyle=\\\"--\\\",\\n    linewidth=2,\\n)\\nplt.xlabel(\\\"Actual CS28 (MPa)\\\")\\nplt.ylabel(\\\"Predicted CS28 (MPa)\\\")\\nplt.title(\\\"Predicted vs Actual CS28\\\")\\nplt.legend()\\nplt.grid(True)\\nplt.gca().spines[\\\"top\\\"].set_visible(False)\\nplt.gca().spines[\\\"right\\\"].set_visible(False)\\n\\nr2 = 0.97\\nplt.text(\\n    0.82,\\n    0.07,\\n    f\\\"$R^2 = {r2:.2f}$\\\",\\n    transform=plt.gca().transAxes,\\n    verticalalignment=\\\"top\\\",\\n)\\n\\nplt.savefig(\\n    \\\"ecics_cm_p_btiss_scpm_top_one_pred_vs_actual_cs28.png\\\",\\n    dpi=300,\\n    bbox_inches=\\\"tight\\\",\\n)\\nplt.show()\";\n",
       "                var nbb_cells = Jupyter.notebook.get_cells();\n",
       "                for (var i = 0; i < nbb_cells.length; ++i) {\n",
       "                    if (nbb_cells[i].input_prompt_number == nbb_cell_id) {\n",
       "                        if (nbb_cells[i].get_text() == nbb_unformatted_code) {\n",
       "                             nbb_cells[i].set_text(nbb_formatted_code);\n",
       "                        }\n",
       "                        break;\n",
       "                    }\n",
       "                }\n",
       "            }, 500);\n",
       "            "
      ],
      "text/plain": [
       "<IPython.core.display.Javascript object>"
      ]
     },
     "metadata": {},
     "output_type": "display_data"
    }
   ],
   "source": [
    "plt.figure(figsize=(6, 6))\n",
    "plt.scatter(\n",
    "    test_data[\"CS28\"], test_data[\"CS28_PRED\"], color=\"tomato\", alpha=0.7, label=\"Predicted\"\n",
    ")\n",
    "plt.plot(\n",
    "    [test_data[\"CS28\"].min(), test_data[\"CS28\"].max()],\n",
    "    [test_data[\"CS28\"].min(), test_data[\"CS28\"].max()],\n",
    "    color=\"black\", linestyle=\"--\", linewidth=2,\n",
    ")\n",
    "plt.xlabel(\"Actual CS28 (MPa)\")\n",
    "plt.ylabel(\"Predicted CS28 (MPa)\")\n",
    "plt.title(\"Predicted vs Actual CS28\")\n",
    "plt.legend()\n",
    "plt.grid(True)\n",
    "plt.gca().spines[\"top\"].set_visible(False)\n",
    "plt.gca().spines[\"right\"].set_visible(False)\n",
    "\n",
    "r2 = 0.97\n",
    "plt.text(\n",
    "    0.82,\n",
    "    0.07,\n",
    "    f\"$R^2 = {r2:.2f}$\",\n",
    "    transform=plt.gca().transAxes,\n",
    "    verticalalignment=\"top\",\n",
    ")\n",
    "\n",
    "plt.savefig(\"ecics_cm_p_btiss_scpm_top_one_pred_vs_actual_cs28.png\", dpi=300, bbox_inches='tight')\n",
    "plt.show()\n"
   ]
  },
  {
   "cell_type": "code",
   "execution_count": 19,
   "id": "944796d2",
   "metadata": {
    "scrolled": true
   },
   "outputs": [
    {
     "data": {
      "text/plain": [
       "Cement_Type\n",
       "CP II-Z-32    1179\n",
       "CP II-F-40     941\n",
       "CP V-ARI       811\n",
       "CP II-F-32     355\n",
       "CP II-Z-40     306\n",
       "CP IV-32       184\n",
       "Name: count, dtype: int64"
      ]
     },
     "execution_count": 19,
     "metadata": {},
     "output_type": "execute_result"
    },
    {
     "data": {
      "application/javascript": [
       "\n",
       "            setTimeout(function() {\n",
       "                var nbb_cell_id = 19;\n",
       "                var nbb_unformatted_code = \"df[\\\"Cement_Type\\\"].value_counts()\";\n",
       "                var nbb_formatted_code = \"df[\\\"Cement_Type\\\"].value_counts()\";\n",
       "                var nbb_cells = Jupyter.notebook.get_cells();\n",
       "                for (var i = 0; i < nbb_cells.length; ++i) {\n",
       "                    if (nbb_cells[i].input_prompt_number == nbb_cell_id) {\n",
       "                        if (nbb_cells[i].get_text() == nbb_unformatted_code) {\n",
       "                             nbb_cells[i].set_text(nbb_formatted_code);\n",
       "                        }\n",
       "                        break;\n",
       "                    }\n",
       "                }\n",
       "            }, 500);\n",
       "            "
      ],
      "text/plain": [
       "<IPython.core.display.Javascript object>"
      ]
     },
     "metadata": {},
     "output_type": "display_data"
    }
   ],
   "source": [
    "df[\"Cement_Type\"].value_counts()"
   ]
  },
  {
   "cell_type": "code",
   "execution_count": 20,
   "id": "9d898145",
   "metadata": {},
   "outputs": [
    {
     "data": {
      "text/plain": [
       "count    811.000000\n",
       "mean      47.572133\n",
       "std        1.480270\n",
       "min       44.000000\n",
       "25%       47.000000\n",
       "50%       47.500000\n",
       "75%       48.350000\n",
       "max       53.799999\n",
       "Name: CS28, dtype: float64"
      ]
     },
     "execution_count": 20,
     "metadata": {},
     "output_type": "execute_result"
    },
    {
     "data": {
      "application/javascript": [
       "\n",
       "            setTimeout(function() {\n",
       "                var nbb_cell_id = 20;\n",
       "                var nbb_unformatted_code = \"df[df[\\\"Cement_Type\\\"].eq(\\\"CP V-ARI\\\")][\\\"CS28\\\"].describe()\";\n",
       "                var nbb_formatted_code = \"df[df[\\\"Cement_Type\\\"].eq(\\\"CP V-ARI\\\")][\\\"CS28\\\"].describe()\";\n",
       "                var nbb_cells = Jupyter.notebook.get_cells();\n",
       "                for (var i = 0; i < nbb_cells.length; ++i) {\n",
       "                    if (nbb_cells[i].input_prompt_number == nbb_cell_id) {\n",
       "                        if (nbb_cells[i].get_text() == nbb_unformatted_code) {\n",
       "                             nbb_cells[i].set_text(nbb_formatted_code);\n",
       "                        }\n",
       "                        break;\n",
       "                    }\n",
       "                }\n",
       "            }, 500);\n",
       "            "
      ],
      "text/plain": [
       "<IPython.core.display.Javascript object>"
      ]
     },
     "metadata": {},
     "output_type": "display_data"
    }
   ],
   "source": [
    "df[df[\"Cement_Type\"].eq(\"CP V-ARI\")][\"CS28\"].describe()"
   ]
  },
  {
   "cell_type": "code",
   "execution_count": 21,
   "id": "c703dcb6",
   "metadata": {},
   "outputs": [
    {
     "data": {
      "text/html": [
       "<div>\n",
       "<style scoped>\n",
       "    .dataframe tbody tr th:only-of-type {\n",
       "        vertical-align: middle;\n",
       "    }\n",
       "\n",
       "    .dataframe tbody tr th {\n",
       "        vertical-align: top;\n",
       "    }\n",
       "\n",
       "    .dataframe thead th {\n",
       "        text-align: right;\n",
       "    }\n",
       "</style>\n",
       "<table border=\"1\" class=\"dataframe\">\n",
       "  <thead>\n",
       "    <tr style=\"text-align: right;\">\n",
       "      <th></th>\n",
       "      <th>DATE</th>\n",
       "      <th>CS28</th>\n",
       "      <th>CS28_PRED</th>\n",
       "      <th>SET</th>\n",
       "      <th>CEMENT_TYPE</th>\n",
       "    </tr>\n",
       "  </thead>\n",
       "  <tbody>\n",
       "  </tbody>\n",
       "</table>\n",
       "</div>"
      ],
      "text/plain": [
       "Empty DataFrame\n",
       "Columns: [DATE, CS28, CS28_PRED, SET, CEMENT_TYPE]\n",
       "Index: []"
      ]
     },
     "execution_count": 21,
     "metadata": {},
     "output_type": "execute_result"
    },
    {
     "data": {
      "application/javascript": [
       "\n",
       "            setTimeout(function() {\n",
       "                var nbb_cell_id = 21;\n",
       "                var nbb_unformatted_code = \"test_data[\\n    (test_data[\\\"CS28\\\"] > 34)\\n    & (test_data[\\\"CS28\\\"] < 36)\\n    & (test_data[\\\"CS28_PRED\\\"] > 42)\\n    & (test_data[\\\"CS28_PRED\\\"] < 44)\\n]\";\n",
       "                var nbb_formatted_code = \"test_data[\\n    (test_data[\\\"CS28\\\"] > 34)\\n    & (test_data[\\\"CS28\\\"] < 36)\\n    & (test_data[\\\"CS28_PRED\\\"] > 42)\\n    & (test_data[\\\"CS28_PRED\\\"] < 44)\\n]\";\n",
       "                var nbb_cells = Jupyter.notebook.get_cells();\n",
       "                for (var i = 0; i < nbb_cells.length; ++i) {\n",
       "                    if (nbb_cells[i].input_prompt_number == nbb_cell_id) {\n",
       "                        if (nbb_cells[i].get_text() == nbb_unformatted_code) {\n",
       "                             nbb_cells[i].set_text(nbb_formatted_code);\n",
       "                        }\n",
       "                        break;\n",
       "                    }\n",
       "                }\n",
       "            }, 500);\n",
       "            "
      ],
      "text/plain": [
       "<IPython.core.display.Javascript object>"
      ]
     },
     "metadata": {},
     "output_type": "display_data"
    }
   ],
   "source": [
    "test_data[\n",
    "    (test_data[\"CS28\"] > 34)\n",
    "    & (test_data[\"CS28\"] < 36)\n",
    "    & (test_data[\"CS28_PRED\"] > 42)\n",
    "    & (test_data[\"CS28_PRED\"] < 44)\n",
    "]"
   ]
  },
  {
   "cell_type": "code",
   "execution_count": 22,
   "id": "6141c0b3",
   "metadata": {},
   "outputs": [
    {
     "data": {
      "text/plain": [
       "count    1237.000000\n",
       "mean       34.773888\n",
       "std         1.237810\n",
       "min        33.000000\n",
       "25%        33.799999\n",
       "50%        34.400002\n",
       "75%        35.799999\n",
       "max        37.900000\n",
       "Name: CS28, dtype: float64"
      ]
     },
     "execution_count": 22,
     "metadata": {},
     "output_type": "execute_result"
    },
    {
     "data": {
      "application/javascript": [
       "\n",
       "            setTimeout(function() {\n",
       "                var nbb_cell_id = 22;\n",
       "                var nbb_unformatted_code = \"df_pred[\\\"CS28\\\"][(df_pred[\\\"CS28\\\"] < 38) & (df_pred[\\\"SET\\\"] == \\\"TRAIN\\\")].describe()\";\n",
       "                var nbb_formatted_code = \"df_pred[\\\"CS28\\\"][(df_pred[\\\"CS28\\\"] < 38) & (df_pred[\\\"SET\\\"] == \\\"TRAIN\\\")].describe()\";\n",
       "                var nbb_cells = Jupyter.notebook.get_cells();\n",
       "                for (var i = 0; i < nbb_cells.length; ++i) {\n",
       "                    if (nbb_cells[i].input_prompt_number == nbb_cell_id) {\n",
       "                        if (nbb_cells[i].get_text() == nbb_unformatted_code) {\n",
       "                             nbb_cells[i].set_text(nbb_formatted_code);\n",
       "                        }\n",
       "                        break;\n",
       "                    }\n",
       "                }\n",
       "            }, 500);\n",
       "            "
      ],
      "text/plain": [
       "<IPython.core.display.Javascript object>"
      ]
     },
     "metadata": {},
     "output_type": "display_data"
    }
   ],
   "source": [
    "df_pred[\"CS28\"][(df_pred[\"CS28\"] < 38) & (df_pred[\"SET\"] == \"TRAIN\")].describe()"
   ]
  },
  {
   "cell_type": "code",
   "execution_count": 23,
   "id": "d6222f52",
   "metadata": {},
   "outputs": [
    {
     "name": "stdout",
     "output_type": "stream",
     "text": [
      "The history saving thread hit an unexpected error (OperationalError('database is locked')).History will not be written to the database.\n"
     ]
    },
    {
     "data": {
      "text/plain": [
       "count    1637.000000\n",
       "mean       46.851662\n",
       "std         1.520308\n",
       "min        44.099998\n",
       "25%        45.599998\n",
       "50%        47.000000\n",
       "75%        47.700001\n",
       "max        53.799999\n",
       "Name: CS28, dtype: float64"
      ]
     },
     "execution_count": 23,
     "metadata": {},
     "output_type": "execute_result"
    },
    {
     "data": {
      "application/javascript": [
       "\n",
       "            setTimeout(function() {\n",
       "                var nbb_cell_id = 23;\n",
       "                var nbb_unformatted_code = \"df_pred[\\\"CS28\\\"][(df_pred[\\\"CS28\\\"] > 44) & (df_pred[\\\"SET\\\"] == \\\"TRAIN\\\")].describe()\";\n",
       "                var nbb_formatted_code = \"df_pred[\\\"CS28\\\"][(df_pred[\\\"CS28\\\"] > 44) & (df_pred[\\\"SET\\\"] == \\\"TRAIN\\\")].describe()\";\n",
       "                var nbb_cells = Jupyter.notebook.get_cells();\n",
       "                for (var i = 0; i < nbb_cells.length; ++i) {\n",
       "                    if (nbb_cells[i].input_prompt_number == nbb_cell_id) {\n",
       "                        if (nbb_cells[i].get_text() == nbb_unformatted_code) {\n",
       "                             nbb_cells[i].set_text(nbb_formatted_code);\n",
       "                        }\n",
       "                        break;\n",
       "                    }\n",
       "                }\n",
       "            }, 500);\n",
       "            "
      ],
      "text/plain": [
       "<IPython.core.display.Javascript object>"
      ]
     },
     "metadata": {},
     "output_type": "display_data"
    }
   ],
   "source": [
    "df_pred[\"CS28\"][(df_pred[\"CS28\"] > 44) & (df_pred[\"SET\"] == \"TRAIN\")].describe()"
   ]
  },
  {
   "cell_type": "code",
   "execution_count": 24,
   "id": "3315de0f",
   "metadata": {},
   "outputs": [
    {
     "data": {
      "image/png": "[encoded data removed]",
      "text/plain": [
       "<Figure size 1000x600 with 1 Axes>"
      ]
     },
     "metadata": {},
     "output_type": "display_data"
    },
    {
     "data": {
      "application/javascript": [
       "\n",
       "            setTimeout(function() {\n",
       "                var nbb_cell_id = 24;\n",
       "                var nbb_unformatted_code = \"plt.figure(figsize=(10, 6))\\nplt.plot(\\n    test_data[\\\"DATE\\\"],\\n    test_data[\\\"CS28\\\"],\\n    color=\\\"dodgerblue\\\",\\n    alpha=0.7,\\n    marker=\\\"o\\\",\\n    linestyle=\\\"none\\\",\\n    label=\\\"Actual CS28\\\",\\n)\\nplt.plot(\\n    test_data[\\\"DATE\\\"],\\n    test_data[\\\"CS28_PRED\\\"],\\n    color=\\\"tomato\\\",\\n    alpha=0.7,\\n    marker=\\\"o\\\",\\n    linestyle=\\\"none\\\",\\n    label=\\\"Predicted CS28\\\",\\n)\\nplt.xlabel(\\\"Date\\\")\\nplt.ylabel(\\\"CS28 (MPa)\\\")\\nplt.title(\\\"Actual vs Predicted CS28\\\")\\nplt.legend(loc=\\\"best\\\")\\nplt.grid(True)\\n\\nplt.gca().spines[\\\"top\\\"].set_visible(False)\\nplt.gca().spines[\\\"right\\\"].set_visible(False)\\n\\nplt.savefig(\\n    \\\"ecics_cm_p_btiss_scpm_top_one_pred_vs_actual_cs28_over_time.png\\\",\\n    dpi=300,\\n    bbox_inches=\\\"tight\\\",\\n)\\n\\nplt.show()\";\n",
       "                var nbb_formatted_code = \"plt.figure(figsize=(10, 6))\\nplt.plot(\\n    test_data[\\\"DATE\\\"],\\n    test_data[\\\"CS28\\\"],\\n    color=\\\"dodgerblue\\\",\\n    alpha=0.7,\\n    marker=\\\"o\\\",\\n    linestyle=\\\"none\\\",\\n    label=\\\"Actual CS28\\\",\\n)\\nplt.plot(\\n    test_data[\\\"DATE\\\"],\\n    test_data[\\\"CS28_PRED\\\"],\\n    color=\\\"tomato\\\",\\n    alpha=0.7,\\n    marker=\\\"o\\\",\\n    linestyle=\\\"none\\\",\\n    label=\\\"Predicted CS28\\\",\\n)\\nplt.xlabel(\\\"Date\\\")\\nplt.ylabel(\\\"CS28 (MPa)\\\")\\nplt.title(\\\"Actual vs Predicted CS28\\\")\\nplt.legend(loc=\\\"best\\\")\\nplt.grid(True)\\n\\nplt.gca().spines[\\\"top\\\"].set_visible(False)\\nplt.gca().spines[\\\"right\\\"].set_visible(False)\\n\\nplt.savefig(\\n    \\\"ecics_cm_p_btiss_scpm_top_one_pred_vs_actual_cs28_over_time.png\\\",\\n    dpi=300,\\n    bbox_inches=\\\"tight\\\",\\n)\\n\\nplt.show()\";\n",
       "                var nbb_cells = Jupyter.notebook.get_cells();\n",
       "                for (var i = 0; i < nbb_cells.length; ++i) {\n",
       "                    if (nbb_cells[i].input_prompt_number == nbb_cell_id) {\n",
       "                        if (nbb_cells[i].get_text() == nbb_unformatted_code) {\n",
       "                             nbb_cells[i].set_text(nbb_formatted_code);\n",
       "                        }\n",
       "                        break;\n",
       "                    }\n",
       "                }\n",
       "            }, 500);\n",
       "            "
      ],
      "text/plain": [
       "<IPython.core.display.Javascript object>"
      ]
     },
     "metadata": {},
     "output_type": "display_data"
    }
   ],
   "source": [
    "plt.figure(figsize=(10, 6))\n",
    "plt.plot(\n",
    "    test_data[\"DATE\"],\n",
    "    test_data[\"CS28\"],\n",
    "    color=\"dodgerblue\",\n",
    "    alpha=0.7,\n",
    "    marker=\"o\",\n",
    "    linestyle=\"none\",\n",
    "    label=\"Actual CS28\",\n",
    ")\n",
    "plt.plot(\n",
    "    test_data[\"DATE\"],\n",
    "    test_data[\"CS28_PRED\"],\n",
    "    color=\"tomato\",\n",
    "    alpha=0.7,\n",
    "    marker=\"o\",\n",
    "    linestyle=\"none\",\n",
    "    label=\"Predicted CS28\",\n",
    ")\n",
    "plt.xlabel(\"Date\")\n",
    "plt.ylabel(\"CS28 (MPa)\")\n",
    "plt.title(\"Actual vs Predicted CS28\")\n",
    "plt.legend(loc=\"best\")\n",
    "plt.grid(True)\n",
    "\n",
    "plt.gca().spines[\"top\"].set_visible(False)\n",
    "plt.gca().spines[\"right\"].set_visible(False)\n",
    "\n",
    "plt.savefig(\n",
    "    \"ecics_cm_p_btiss_scpm_top_one_pred_vs_actual_cs28_over_time.png\",\n",
    "    dpi=300,\n",
    "    bbox_inches=\"tight\",\n",
    ")\n",
    "\n",
    "plt.show()\n"
   ]
  },
  {
   "cell_type": "markdown",
   "id": "c1787fa2",
   "metadata": {},
   "source": [
    "## Assessing Feature Importance"
   ]
  },
  {
   "cell_type": "code",
   "execution_count": 25,
   "id": "758f06d5",
   "metadata": {},
   "outputs": [
    {
     "data": {
      "application/javascript": [
       "\n",
       "            setTimeout(function() {\n",
       "                var nbb_cell_id = 25;\n",
       "                var nbb_unformatted_code = \"df_importances = get_random_forest_df_importances(scores)\";\n",
       "                var nbb_formatted_code = \"df_importances = get_random_forest_df_importances(scores)\";\n",
       "                var nbb_cells = Jupyter.notebook.get_cells();\n",
       "                for (var i = 0; i < nbb_cells.length; ++i) {\n",
       "                    if (nbb_cells[i].input_prompt_number == nbb_cell_id) {\n",
       "                        if (nbb_cells[i].get_text() == nbb_unformatted_code) {\n",
       "                             nbb_cells[i].set_text(nbb_formatted_code);\n",
       "                        }\n",
       "                        break;\n",
       "                    }\n",
       "                }\n",
       "            }, 500);\n",
       "            "
      ],
      "text/plain": [
       "<IPython.core.display.Javascript object>"
      ]
     },
     "metadata": {},
     "output_type": "display_data"
    }
   ],
   "source": [
    "df_importances = get_random_forest_df_importances(scores)"
   ]
  },
  {
   "cell_type": "code",
   "execution_count": 26,
   "id": "e31a252b",
   "metadata": {},
   "outputs": [
    {
     "data": {
      "text/html": [
       "<div>\n",
       "<style scoped>\n",
       "    .dataframe tbody tr th:only-of-type {\n",
       "        vertical-align: middle;\n",
       "    }\n",
       "\n",
       "    .dataframe tbody tr th {\n",
       "        vertical-align: top;\n",
       "    }\n",
       "\n",
       "    .dataframe thead th {\n",
       "        text-align: right;\n",
       "    }\n",
       "</style>\n",
       "<table border=\"1\" class=\"dataframe\">\n",
       "  <thead>\n",
       "    <tr style=\"text-align: right;\">\n",
       "      <th></th>\n",
       "      <th>CaO</th>\n",
       "      <th>MgO</th>\n",
       "      <th>Na2O</th>\n",
       "      <th>Al2O3</th>\n",
       "      <th>SiO2</th>\n",
       "      <th>SO3</th>\n",
       "      <th>K2O</th>\n",
       "      <th>Fe2O3</th>\n",
       "      <th>Loss on Ignition</th>\n",
       "      <th>Insoluble Residue</th>\n",
       "      <th>Blaine</th>\n",
       "      <th>#325</th>\n",
       "      <th>Initial setting time</th>\n",
       "      <th>Final setting time</th>\n",
       "    </tr>\n",
       "  </thead>\n",
       "  <tbody>\n",
       "    <tr>\n",
       "      <th>Importances - 0</th>\n",
       "      <td>0.010120</td>\n",
       "      <td>0.002508</td>\n",
       "      <td>0.004238</td>\n",
       "      <td>0.000000</td>\n",
       "      <td>0.000000</td>\n",
       "      <td>0.000000</td>\n",
       "      <td>0.002055</td>\n",
       "      <td>0.001015</td>\n",
       "      <td>0.003915</td>\n",
       "      <td>0.009538</td>\n",
       "      <td>0.381727</td>\n",
       "      <td>0.584088</td>\n",
       "      <td>0.000000</td>\n",
       "      <td>0.000796</td>\n",
       "    </tr>\n",
       "    <tr>\n",
       "      <th>Importances - 1</th>\n",
       "      <td>0.000000</td>\n",
       "      <td>0.000232</td>\n",
       "      <td>0.000000</td>\n",
       "      <td>0.000160</td>\n",
       "      <td>0.012408</td>\n",
       "      <td>0.000178</td>\n",
       "      <td>0.025888</td>\n",
       "      <td>0.000646</td>\n",
       "      <td>0.014903</td>\n",
       "      <td>0.023644</td>\n",
       "      <td>0.915738</td>\n",
       "      <td>0.004789</td>\n",
       "      <td>0.000000</td>\n",
       "      <td>0.001413</td>\n",
       "    </tr>\n",
       "    <tr>\n",
       "      <th>Importances - 2</th>\n",
       "      <td>0.000000</td>\n",
       "      <td>0.000071</td>\n",
       "      <td>0.000438</td>\n",
       "      <td>0.000251</td>\n",
       "      <td>0.002277</td>\n",
       "      <td>0.014949</td>\n",
       "      <td>0.000143</td>\n",
       "      <td>0.000189</td>\n",
       "      <td>0.006782</td>\n",
       "      <td>0.049626</td>\n",
       "      <td>0.369078</td>\n",
       "      <td>0.556041</td>\n",
       "      <td>0.000154</td>\n",
       "      <td>0.000000</td>\n",
       "    </tr>\n",
       "    <tr>\n",
       "      <th>Importances - 3</th>\n",
       "      <td>0.000808</td>\n",
       "      <td>0.000637</td>\n",
       "      <td>0.000000</td>\n",
       "      <td>0.000000</td>\n",
       "      <td>0.008293</td>\n",
       "      <td>0.000000</td>\n",
       "      <td>0.000649</td>\n",
       "      <td>0.002779</td>\n",
       "      <td>0.015312</td>\n",
       "      <td>0.034260</td>\n",
       "      <td>0.014889</td>\n",
       "      <td>0.922373</td>\n",
       "      <td>0.000000</td>\n",
       "      <td>0.000000</td>\n",
       "    </tr>\n",
       "    <tr>\n",
       "      <th>Importances - 4</th>\n",
       "      <td>0.011702</td>\n",
       "      <td>0.000000</td>\n",
       "      <td>0.000000</td>\n",
       "      <td>0.001660</td>\n",
       "      <td>0.000000</td>\n",
       "      <td>0.014476</td>\n",
       "      <td>0.000000</td>\n",
       "      <td>0.016790</td>\n",
       "      <td>0.015329</td>\n",
       "      <td>0.036496</td>\n",
       "      <td>0.710648</td>\n",
       "      <td>0.192093</td>\n",
       "      <td>0.000000</td>\n",
       "      <td>0.000805</td>\n",
       "    </tr>\n",
       "  </tbody>\n",
       "</table>\n",
       "</div>"
      ],
      "text/plain": [
       "                      CaO       MgO      Na2O     Al2O3      SiO2       SO3  \\\n",
       "Importances - 0  0.010120  0.002508  0.004238  0.000000  0.000000  0.000000   \n",
       "Importances - 1  0.000000  0.000232  0.000000  0.000160  0.012408  0.000178   \n",
       "Importances - 2  0.000000  0.000071  0.000438  0.000251  0.002277  0.014949   \n",
       "Importances - 3  0.000808  0.000637  0.000000  0.000000  0.008293  0.000000   \n",
       "Importances - 4  0.011702  0.000000  0.000000  0.001660  0.000000  0.014476   \n",
       "\n",
       "                      K2O     Fe2O3  Loss on Ignition  Insoluble Residue  \\\n",
       "Importances - 0  0.002055  0.001015          0.003915           0.009538   \n",
       "Importances - 1  0.025888  0.000646          0.014903           0.023644   \n",
       "Importances - 2  0.000143  0.000189          0.006782           0.049626   \n",
       "Importances - 3  0.000649  0.002779          0.015312           0.034260   \n",
       "Importances - 4  0.000000  0.016790          0.015329           0.036496   \n",
       "\n",
       "                   Blaine      #325  Initial setting time  Final setting time  \n",
       "Importances - 0  0.381727  0.584088              0.000000            0.000796  \n",
       "Importances - 1  0.915738  0.004789              0.000000            0.001413  \n",
       "Importances - 2  0.369078  0.556041              0.000154            0.000000  \n",
       "Importances - 3  0.014889  0.922373              0.000000            0.000000  \n",
       "Importances - 4  0.710648  0.192093              0.000000            0.000805  "
      ]
     },
     "execution_count": 26,
     "metadata": {},
     "output_type": "execute_result"
    },
    {
     "data": {
      "application/javascript": [
       "\n",
       "            setTimeout(function() {\n",
       "                var nbb_cell_id = 26;\n",
       "                var nbb_unformatted_code = \"df_importances\";\n",
       "                var nbb_formatted_code = \"df_importances\";\n",
       "                var nbb_cells = Jupyter.notebook.get_cells();\n",
       "                for (var i = 0; i < nbb_cells.length; ++i) {\n",
       "                    if (nbb_cells[i].input_prompt_number == nbb_cell_id) {\n",
       "                        if (nbb_cells[i].get_text() == nbb_unformatted_code) {\n",
       "                             nbb_cells[i].set_text(nbb_formatted_code);\n",
       "                        }\n",
       "                        break;\n",
       "                    }\n",
       "                }\n",
       "            }, 500);\n",
       "            "
      ],
      "text/plain": [
       "<IPython.core.display.Javascript object>"
      ]
     },
     "metadata": {},
     "output_type": "display_data"
    }
   ],
   "source": [
    "df_importances"
   ]
  },
  {
   "cell_type": "code",
   "execution_count": 27,
   "id": "cdb5745e",
   "metadata": {},
   "outputs": [
    {
     "data": {
      "image/png": "[encoded data removed]",
      "text/plain": [
       "<Figure size 1000x550 with 1 Axes>"
      ]
     },
     "metadata": {},
     "output_type": "display_data"
    },
    {
     "data": {
      "application/javascript": [
       "\n",
       "            setTimeout(function() {\n",
       "                var nbb_cell_id = 27;\n",
       "                var nbb_unformatted_code = \"df_importances.mean(axis=0).sort_values().plot(\\n    kind=\\\"barh\\\", figsize=(10, 5.5), color=\\\"steelblue\\\"  # Consider using 'steelblue'\\n)\\nplt.title(\\\"Random Forest Variable Importance\\\")\\nplt.xlabel(\\\"Variable Importance (Mean Decrease in Impurity)\\\")\\nplt.grid(axis=\\\"x\\\", linestyle=\\\"--\\\", alpha=0.7)\\nplt.gca().spines[\\\"top\\\"].set_visible(False)\\nplt.gca().spines[\\\"right\\\"].set_visible(False)\\nplt.tight_layout()\\nplt.subplots_adjust(left=0.3)\\nplt.show()\";\n",
       "                var nbb_formatted_code = \"df_importances.mean(axis=0).sort_values().plot(\\n    kind=\\\"barh\\\", figsize=(10, 5.5), color=\\\"steelblue\\\"  # Consider using 'steelblue'\\n)\\nplt.title(\\\"Random Forest Variable Importance\\\")\\nplt.xlabel(\\\"Variable Importance (Mean Decrease in Impurity)\\\")\\nplt.grid(axis=\\\"x\\\", linestyle=\\\"--\\\", alpha=0.7)\\nplt.gca().spines[\\\"top\\\"].set_visible(False)\\nplt.gca().spines[\\\"right\\\"].set_visible(False)\\nplt.tight_layout()\\nplt.subplots_adjust(left=0.3)\\nplt.show()\";\n",
       "                var nbb_cells = Jupyter.notebook.get_cells();\n",
       "                for (var i = 0; i < nbb_cells.length; ++i) {\n",
       "                    if (nbb_cells[i].input_prompt_number == nbb_cell_id) {\n",
       "                        if (nbb_cells[i].get_text() == nbb_unformatted_code) {\n",
       "                             nbb_cells[i].set_text(nbb_formatted_code);\n",
       "                        }\n",
       "                        break;\n",
       "                    }\n",
       "                }\n",
       "            }, 500);\n",
       "            "
      ],
      "text/plain": [
       "<IPython.core.display.Javascript object>"
      ]
     },
     "metadata": {},
     "output_type": "display_data"
    }
   ],
   "source": [
    "df_importances.mean(axis=0).sort_values().plot(\n",
    "    kind=\"barh\", figsize=(10, 5.5), color=\"steelblue\"  # Consider using 'steelblue'\n",
    ")\n",
    "plt.title(\"Random Forest Variable Importance\")\n",
    "plt.xlabel(\"Variable Importance (Mean Decrease in Impurity)\")\n",
    "plt.grid(axis=\"x\", linestyle=\"--\", alpha=0.7)\n",
    "plt.gca().spines[\"top\"].set_visible(False)\n",
    "plt.gca().spines[\"right\"].set_visible(False)\n",
    "plt.tight_layout()\n",
    "plt.subplots_adjust(left=0.3)\n",
    "plt.show()"
   ]
  },
  {
   "cell_type": "code",
   "execution_count": 28,
   "id": "8f69eae7",
   "metadata": {},
   "outputs": [
    {
     "data": {
      "image/png": "[encoded data removed]",
      "text/plain": [
       "<Figure size 1000x550 with 1 Axes>"
      ]
     },
     "metadata": {},
     "output_type": "display_data"
    },
    {
     "data": {
      "application/javascript": [
       "\n",
       "            setTimeout(function() {\n",
       "                var nbb_cell_id = 28;\n",
       "                var nbb_unformatted_code = \"warnings.filterwarnings(\\\"ignore\\\")\\nplt.figure(figsize=(10, 5.5))\\nsns.boxplot(data=df_importances, orient=\\\"h\\\", color=\\\"lightsteelblue\\\", saturation=0.7, showmeans=True)\\nsns.despine(trim=True, left=False)\\nplt.xlabel(\\\"Relevance (MDI)\\\")\\nplt.title(\\\"Variable Importance Distribution\\\")\\nplt.grid(axis='x', linestyle='--', alpha=0.7)\\nplt.subplots_adjust(left=0.3)\\nplt.show()\";\n",
       "                var nbb_formatted_code = \"warnings.filterwarnings(\\\"ignore\\\")\\nplt.figure(figsize=(10, 5.5))\\nsns.boxplot(\\n    data=df_importances,\\n    orient=\\\"h\\\",\\n    color=\\\"lightsteelblue\\\",\\n    saturation=0.7,\\n    showmeans=True,\\n)\\nsns.despine(trim=True, left=False)\\nplt.xlabel(\\\"Relevance (MDI)\\\")\\nplt.title(\\\"Variable Importance Distribution\\\")\\nplt.grid(axis=\\\"x\\\", linestyle=\\\"--\\\", alpha=0.7)\\nplt.subplots_adjust(left=0.3)\\nplt.show()\";\n",
       "                var nbb_cells = Jupyter.notebook.get_cells();\n",
       "                for (var i = 0; i < nbb_cells.length; ++i) {\n",
       "                    if (nbb_cells[i].input_prompt_number == nbb_cell_id) {\n",
       "                        if (nbb_cells[i].get_text() == nbb_unformatted_code) {\n",
       "                             nbb_cells[i].set_text(nbb_formatted_code);\n",
       "                        }\n",
       "                        break;\n",
       "                    }\n",
       "                }\n",
       "            }, 500);\n",
       "            "
      ],
      "text/plain": [
       "<IPython.core.display.Javascript object>"
      ]
     },
     "metadata": {},
     "output_type": "display_data"
    }
   ],
   "source": [
    "warnings.filterwarnings(\"ignore\")\n",
    "plt.figure(figsize=(10, 5.5))\n",
    "sns.boxplot(data=df_importances, orient=\"h\", color=\"lightsteelblue\", saturation=0.7, showmeans=True)\n",
    "sns.despine(trim=True, left=False)\n",
    "plt.xlabel(\"Relevance (MDI)\")\n",
    "plt.title(\"Variable Importance Distribution\")\n",
    "plt.grid(axis='x', linestyle='--', alpha=0.7)\n",
    "plt.subplots_adjust(left=0.3)\n",
    "plt.show()\n"
   ]
  },
  {
   "cell_type": "code",
   "execution_count": 29,
   "id": "501b9e5f",
   "metadata": {},
   "outputs": [
    {
     "data": {
      "image/png": "[encoded data removed]",
      "text/plain": [
       "<Figure size 1000x550 with 1 Axes>"
      ]
     },
     "metadata": {},
     "output_type": "display_data"
    },
    {
     "data": {
      "application/javascript": [
       "\n",
       "            setTimeout(function() {\n",
       "                var nbb_cell_id = 29;\n",
       "                var nbb_unformatted_code = \"# Calculate the means of the importance scores\\nmean_importances = df_importances.mean()\\n\\n# Sort the features by their mean relevance\\nsorted_features = mean_importances.sort_values()\\n\\n# Re-order the DataFrame according to the sorted features\\ndf_importances_sorted = df_importances[sorted_features.index]\\n\\n# Plot the sorted boxplot\\ndf_importances_sorted = df_importances_sorted.rename(\\n    columns={\\\"Loss on Ignition\\\": \\\"LOI\\\",\\n             \\\"Insoluble Residue\\\": \\\"IR\\\",\\n            }\\n)\\n\\nplt.figure(figsize=(10, 5.5))\\nsns.boxplot(\\n    data=df_importances_sorted,\\n    orient=\\\"h\\\",\\n    color=\\\"lightsteelblue\\\",\\n    saturation=1,\\n    showmeans=True,\\n)\\nsns.despine(trim=True, left=False)\\nplt.xlabel(\\\"Importance (MDI)\\\")\\nplt.title(\\\"Variable Importance Distribution\\\")\\nplt.grid(axis=\\\"x\\\", linestyle=\\\"--\\\", alpha=0.7)\\nplt.subplots_adjust(left=0.3)\\nplt.savefig(\\\"ecics_cm_p_btiss_random_forest_scpm_best_dist_var_relevance.png\\\", dpi=300, bbox_inches='tight')\\nplt.show()\";\n",
       "                var nbb_formatted_code = \"# Calculate the means of the importance scores\\nmean_importances = df_importances.mean()\\n\\n# Sort the features by their mean relevance\\nsorted_features = mean_importances.sort_values()\\n\\n# Re-order the DataFrame according to the sorted features\\ndf_importances_sorted = df_importances[sorted_features.index]\\n\\n# Plot the sorted boxplot\\ndf_importances_sorted = df_importances_sorted.rename(\\n    columns={\\n        \\\"Loss on Ignition\\\": \\\"LOI\\\",\\n        \\\"Insoluble Residue\\\": \\\"IR\\\",\\n    }\\n)\\n\\nplt.figure(figsize=(10, 5.5))\\nsns.boxplot(\\n    data=df_importances_sorted,\\n    orient=\\\"h\\\",\\n    color=\\\"lightsteelblue\\\",\\n    saturation=1,\\n    showmeans=True,\\n)\\nsns.despine(trim=True, left=False)\\nplt.xlabel(\\\"Importance (MDI)\\\")\\nplt.title(\\\"Variable Importance Distribution\\\")\\nplt.grid(axis=\\\"x\\\", linestyle=\\\"--\\\", alpha=0.7)\\nplt.subplots_adjust(left=0.3)\\nplt.savefig(\\n    \\\"ecics_cm_p_btiss_random_forest_scpm_best_dist_var_relevance.png\\\",\\n    dpi=300,\\n    bbox_inches=\\\"tight\\\",\\n)\\nplt.show()\";\n",
       "                var nbb_cells = Jupyter.notebook.get_cells();\n",
       "                for (var i = 0; i < nbb_cells.length; ++i) {\n",
       "                    if (nbb_cells[i].input_prompt_number == nbb_cell_id) {\n",
       "                        if (nbb_cells[i].get_text() == nbb_unformatted_code) {\n",
       "                             nbb_cells[i].set_text(nbb_formatted_code);\n",
       "                        }\n",
       "                        break;\n",
       "                    }\n",
       "                }\n",
       "            }, 500);\n",
       "            "
      ],
      "text/plain": [
       "<IPython.core.display.Javascript object>"
      ]
     },
     "metadata": {},
     "output_type": "display_data"
    }
   ],
   "source": [
    "# Calculate the means of the importance scores\n",
    "mean_importances = df_importances.mean()\n",
    "\n",
    "# Sort the features by their mean relevance\n",
    "sorted_features = mean_importances.sort_values()\n",
    "\n",
    "# Re-order the DataFrame according to the sorted features\n",
    "df_importances_sorted = df_importances[sorted_features.index]\n",
    "\n",
    "# Plot the sorted boxplot\n",
    "df_importances_sorted = df_importances_sorted.rename(\n",
    "    columns={\"Loss on Ignition\": \"LOI\",\n",
    "             \"Insoluble Residue\": \"IR\",\n",
    "            }\n",
    ")\n",
    "\n",
    "plt.figure(figsize=(10, 5.5))\n",
    "sns.boxplot(\n",
    "    data=df_importances_sorted,\n",
    "    orient=\"h\",\n",
    "    color=\"lightsteelblue\",\n",
    "    saturation=1,\n",
    "    showmeans=True,\n",
    ")\n",
    "sns.despine(trim=True, left=False)\n",
    "plt.xlabel(\"Importance (MDI)\")\n",
    "plt.title(\"Variable Importance Distribution\")\n",
    "plt.grid(axis=\"x\", linestyle=\"--\", alpha=0.7)\n",
    "plt.subplots_adjust(left=0.3)\n",
    "plt.savefig(\"ecics_cm_p_btiss_random_forest_scpm_best_dist_var_relevance.png\", dpi=300, bbox_inches='tight')\n",
    "plt.show()\n"
   ]
  },
  {
   "cell_type": "code",
   "execution_count": 30,
   "id": "37146acc",
   "metadata": {},
   "outputs": [
    {
     "data": {
      "image/png": "[encoded data removed]",
      "text/plain": [
       "<Figure size 1000x550 with 1 Axes>"
      ]
     },
     "metadata": {},
     "output_type": "display_data"
    },
    {
     "data": {
      "application/javascript": [
       "\n",
       "            setTimeout(function() {\n",
       "                var nbb_cell_id = 30;\n",
       "                var nbb_unformatted_code = \"# Backup the original backend\\noriginal_backend = plt.get_backend()\\n\\n# Use Matplotlib's default backend\\n# plt.switch_backend(\\\"agg\\\")  # or any backend you prefer\\n\\n# Update font settings to default\\nplt.rcParams.update(\\n    {\\n        \\\"font.family\\\": \\\"sans-serif\\\",\\n        \\\"font.sans-serif\\\": [\\\"DejaVu Sans\\\"],\\n        \\\"font.size\\\": 10,\\n        \\\"text.usetex\\\": False,  # Use MathText, not LaTeX\\n    }\\n)\\n\\n\\n# Convert chemical formulas using MathText syntax\\ndf_importances_sorted_plot = df_importances_sorted.rename(\\n    columns={\\n        \\\"K2O\\\": r\\\"$\\\\mathrm{K_2O}$\\\",\\n        \\\"Free CaO\\\": r\\\"Free $\\\\mathrm{CaO}$\\\",\\n        \\\"Total C2S\\\": r\\\"Total $\\\\mathrm{C_2S}$\\\",\\n        \\\"Na2O\\\": r\\\"$\\\\mathrm{Na_2O}$\\\",\\n        \\\"CaO\\\": r\\\"$\\\\mathrm{CaO}$\\\",\\n        \\\"SiO2\\\": r\\\"$\\\\mathrm{SiO_2}$\\\",\\n        \\\"MgO\\\": r\\\"$\\\\mathrm{MgO}$\\\",\\n        \\\"Fe2O3\\\": r\\\"$\\\\mathrm{Fe_2O_3}$\\\",\\n        \\\"Al2O3\\\": r\\\"$\\\\mathrm{Al_2O_3}$\\\",\\n        \\\"Total C3S\\\": r\\\"Total $\\\\mathrm{C_3S}$\\\",\\n        \\\"C3A\\\": r\\\"$\\\\mathrm{C_3A}$\\\",\\n        \\\"C4AF\\\": r\\\"$\\\\mathrm{C_4AF}$\\\",\\n        \\\"LOI\\\": \\\"LOI\\\",\\n        \\\"SO3\\\": r\\\"$\\\\mathrm{SO_3}$\\\",\\n        \\\"Insoluble Residue\\\": \\\"IR\\\",\\n    }\\n)\\n\\nplt.figure(figsize=(10, 5.5))\\nsns.boxplot(\\n    data=df_importances_sorted_plot,\\n    orient=\\\"h\\\",\\n    color=\\\"lightsteelblue\\\",\\n    saturation=1,\\n    showmeans=True,\\n)\\nsns.despine(trim=True, left=False)\\nplt.xlabel(\\\"Importance (MDI)\\\")\\nplt.title(\\\"Variable Importance Distribution\\\")\\nplt.grid(axis=\\\"x\\\", linestyle=\\\"--\\\", alpha=0.7)\\nplt.subplots_adjust(left=0.3)\\nplt.savefig(\\n    \\\"ecics_cm_p_btiss_random_forest_scpm_best_dist_var_relevance.png\\\",\\n    dpi=300,\\n    bbox_inches=\\\"tight\\\",\\n)\\nplt.show()\\n\\n\\n# Step 3: Reset all rcParams to their default values\\nmatplotlib.rcParams.update(matplotlib.rcParamsDefault)\\nplt.rcdefaults()\\n\\n# Switch back to the original backend\\nplt.switch_backend(original_backend)\";\n",
       "                var nbb_formatted_code = \"# Backup the original backend\\noriginal_backend = plt.get_backend()\\n\\n# Use Matplotlib's default backend\\n# plt.switch_backend(\\\"agg\\\")  # or any backend you prefer\\n\\n# Update font settings to default\\nplt.rcParams.update(\\n    {\\n        \\\"font.family\\\": \\\"sans-serif\\\",\\n        \\\"font.sans-serif\\\": [\\\"DejaVu Sans\\\"],\\n        \\\"font.size\\\": 10,\\n        \\\"text.usetex\\\": False,  # Use MathText, not LaTeX\\n    }\\n)\\n\\n\\n# Convert chemical formulas using MathText syntax\\ndf_importances_sorted_plot = df_importances_sorted.rename(\\n    columns={\\n        \\\"K2O\\\": r\\\"$\\\\mathrm{K_2O}$\\\",\\n        \\\"Free CaO\\\": r\\\"Free $\\\\mathrm{CaO}$\\\",\\n        \\\"Total C2S\\\": r\\\"Total $\\\\mathrm{C_2S}$\\\",\\n        \\\"Na2O\\\": r\\\"$\\\\mathrm{Na_2O}$\\\",\\n        \\\"CaO\\\": r\\\"$\\\\mathrm{CaO}$\\\",\\n        \\\"SiO2\\\": r\\\"$\\\\mathrm{SiO_2}$\\\",\\n        \\\"MgO\\\": r\\\"$\\\\mathrm{MgO}$\\\",\\n        \\\"Fe2O3\\\": r\\\"$\\\\mathrm{Fe_2O_3}$\\\",\\n        \\\"Al2O3\\\": r\\\"$\\\\mathrm{Al_2O_3}$\\\",\\n        \\\"Total C3S\\\": r\\\"Total $\\\\mathrm{C_3S}$\\\",\\n        \\\"C3A\\\": r\\\"$\\\\mathrm{C_3A}$\\\",\\n        \\\"C4AF\\\": r\\\"$\\\\mathrm{C_4AF}$\\\",\\n        \\\"LOI\\\": \\\"LOI\\\",\\n        \\\"SO3\\\": r\\\"$\\\\mathrm{SO_3}$\\\",\\n        \\\"Insoluble Residue\\\": \\\"IR\\\",\\n    }\\n)\\n\\nplt.figure(figsize=(10, 5.5))\\nsns.boxplot(\\n    data=df_importances_sorted_plot,\\n    orient=\\\"h\\\",\\n    color=\\\"lightsteelblue\\\",\\n    saturation=1,\\n    showmeans=True,\\n)\\nsns.despine(trim=True, left=False)\\nplt.xlabel(\\\"Importance (MDI)\\\")\\nplt.title(\\\"Variable Importance Distribution\\\")\\nplt.grid(axis=\\\"x\\\", linestyle=\\\"--\\\", alpha=0.7)\\nplt.subplots_adjust(left=0.3)\\nplt.savefig(\\n    \\\"ecics_cm_p_btiss_random_forest_scpm_best_dist_var_relevance.png\\\",\\n    dpi=300,\\n    bbox_inches=\\\"tight\\\",\\n)\\nplt.show()\\n\\n\\n# Step 3: Reset all rcParams to their default values\\nmatplotlib.rcParams.update(matplotlib.rcParamsDefault)\\nplt.rcdefaults()\\n\\n# Switch back to the original backend\\nplt.switch_backend(original_backend)\";\n",
       "                var nbb_cells = Jupyter.notebook.get_cells();\n",
       "                for (var i = 0; i < nbb_cells.length; ++i) {\n",
       "                    if (nbb_cells[i].input_prompt_number == nbb_cell_id) {\n",
       "                        if (nbb_cells[i].get_text() == nbb_unformatted_code) {\n",
       "                             nbb_cells[i].set_text(nbb_formatted_code);\n",
       "                        }\n",
       "                        break;\n",
       "                    }\n",
       "                }\n",
       "            }, 500);\n",
       "            "
      ],
      "text/plain": [
       "<IPython.core.display.Javascript object>"
      ]
     },
     "metadata": {},
     "output_type": "display_data"
    }
   ],
   "source": [
    "# Backup the original backend\n",
    "original_backend = plt.get_backend()\n",
    "\n",
    "# Use Matplotlib's default backend\n",
    "# plt.switch_backend(\"agg\")  # or any backend you prefer\n",
    "\n",
    "# Update font settings to default\n",
    "plt.rcParams.update(\n",
    "    {\n",
    "        \"font.family\": \"sans-serif\",\n",
    "        \"font.sans-serif\": [\"DejaVu Sans\"],\n",
    "        \"font.size\": 10,\n",
    "        \"text.usetex\": False,  # Use MathText, not LaTeX\n",
    "    }\n",
    ")\n",
    "\n",
    "\n",
    "# Convert chemical formulas using MathText syntax\n",
    "df_importances_sorted_plot = df_importances_sorted.rename(\n",
    "    columns={\n",
    "        \"K2O\": r\"$\\mathrm{K_2O}$\",\n",
    "        \"Free CaO\": r\"Free $\\mathrm{CaO}$\",\n",
    "        \"Total C2S\": r\"Total $\\mathrm{C_2S}$\",\n",
    "        \"Na2O\": r\"$\\mathrm{Na_2O}$\",\n",
    "        \"CaO\": r\"$\\mathrm{CaO}$\",\n",
    "        \"SiO2\": r\"$\\mathrm{SiO_2}$\",\n",
    "        \"MgO\": r\"$\\mathrm{MgO}$\",\n",
    "        \"Fe2O3\": r\"$\\mathrm{Fe_2O_3}$\",\n",
    "        \"Al2O3\": r\"$\\mathrm{Al_2O_3}$\",\n",
    "        \"Total C3S\": r\"Total $\\mathrm{C_3S}$\",\n",
    "        \"C3A\": r\"$\\mathrm{C_3A}$\",\n",
    "        \"C4AF\": r\"$\\mathrm{C_4AF}$\",\n",
    "        \"LOI\": \"LOI\",\n",
    "        \"SO3\": r\"$\\mathrm{SO_3}$\",\n",
    "        \"Insoluble Residue\": \"IR\",\n",
    "    }\n",
    ")\n",
    "\n",
    "plt.figure(figsize=(10, 5.5))\n",
    "sns.boxplot(\n",
    "    data=df_importances_sorted_plot,\n",
    "    orient=\"h\",\n",
    "    color=\"lightsteelblue\",\n",
    "    saturation=1,\n",
    "    showmeans=True,\n",
    ")\n",
    "sns.despine(trim=True, left=False)\n",
    "plt.xlabel(\"Importance (MDI)\")\n",
    "plt.title(\"Variable Importance Distribution\")\n",
    "plt.grid(axis=\"x\", linestyle=\"--\", alpha=0.7)\n",
    "plt.subplots_adjust(left=0.3)\n",
    "plt.savefig(\n",
    "    \"ecics_cm_p_btiss_random_forest_scpm_best_dist_var_relevance.png\",\n",
    "    dpi=300,\n",
    "    bbox_inches=\"tight\",\n",
    ")\n",
    "plt.show()\n",
    "\n",
    "\n",
    "# Step 3: Reset all rcParams to their default values\n",
    "matplotlib.rcParams.update(matplotlib.rcParamsDefault)\n",
    "plt.rcdefaults()\n",
    "\n",
    "# Switch back to the original backend\n",
    "plt.switch_backend(original_backend)"
   ]
  },
  {
   "cell_type": "code",
   "execution_count": 31,
   "id": "f5f46aec",
   "metadata": {},
   "outputs": [
    {
     "data": {
      "text/html": [
       "<div>\n",
       "<style scoped>\n",
       "    .dataframe tbody tr th:only-of-type {\n",
       "        vertical-align: middle;\n",
       "    }\n",
       "\n",
       "    .dataframe tbody tr th {\n",
       "        vertical-align: top;\n",
       "    }\n",
       "\n",
       "    .dataframe thead th {\n",
       "        text-align: right;\n",
       "    }\n",
       "</style>\n",
       "<table border=\"1\" class=\"dataframe\">\n",
       "  <thead>\n",
       "    <tr style=\"text-align: right;\">\n",
       "      <th></th>\n",
       "      <th>CaO</th>\n",
       "      <th>MgO</th>\n",
       "      <th>Na2O</th>\n",
       "      <th>Al2O3</th>\n",
       "      <th>SiO2</th>\n",
       "      <th>SO3</th>\n",
       "      <th>K2O</th>\n",
       "      <th>Fe2O3</th>\n",
       "      <th>Loss on Ignition</th>\n",
       "      <th>Insoluble Residue</th>\n",
       "      <th>Blaine</th>\n",
       "      <th>#325</th>\n",
       "      <th>Initial setting time</th>\n",
       "      <th>Final setting time</th>\n",
       "    </tr>\n",
       "  </thead>\n",
       "  <tbody>\n",
       "    <tr>\n",
       "      <th>Importances - 0</th>\n",
       "      <td>0.010120</td>\n",
       "      <td>0.002508</td>\n",
       "      <td>0.004238</td>\n",
       "      <td>0.000000</td>\n",
       "      <td>0.000000</td>\n",
       "      <td>0.000000</td>\n",
       "      <td>0.002055</td>\n",
       "      <td>0.001015</td>\n",
       "      <td>0.003915</td>\n",
       "      <td>0.009538</td>\n",
       "      <td>0.381727</td>\n",
       "      <td>0.584088</td>\n",
       "      <td>0.000000</td>\n",
       "      <td>0.000796</td>\n",
       "    </tr>\n",
       "    <tr>\n",
       "      <th>Importances - 1</th>\n",
       "      <td>0.000000</td>\n",
       "      <td>0.000232</td>\n",
       "      <td>0.000000</td>\n",
       "      <td>0.000160</td>\n",
       "      <td>0.012408</td>\n",
       "      <td>0.000178</td>\n",
       "      <td>0.025888</td>\n",
       "      <td>0.000646</td>\n",
       "      <td>0.014903</td>\n",
       "      <td>0.023644</td>\n",
       "      <td>0.915738</td>\n",
       "      <td>0.004789</td>\n",
       "      <td>0.000000</td>\n",
       "      <td>0.001413</td>\n",
       "    </tr>\n",
       "    <tr>\n",
       "      <th>Importances - 2</th>\n",
       "      <td>0.000000</td>\n",
       "      <td>0.000071</td>\n",
       "      <td>0.000438</td>\n",
       "      <td>0.000251</td>\n",
       "      <td>0.002277</td>\n",
       "      <td>0.014949</td>\n",
       "      <td>0.000143</td>\n",
       "      <td>0.000189</td>\n",
       "      <td>0.006782</td>\n",
       "      <td>0.049626</td>\n",
       "      <td>0.369078</td>\n",
       "      <td>0.556041</td>\n",
       "      <td>0.000154</td>\n",
       "      <td>0.000000</td>\n",
       "    </tr>\n",
       "    <tr>\n",
       "      <th>Importances - 3</th>\n",
       "      <td>0.000808</td>\n",
       "      <td>0.000637</td>\n",
       "      <td>0.000000</td>\n",
       "      <td>0.000000</td>\n",
       "      <td>0.008293</td>\n",
       "      <td>0.000000</td>\n",
       "      <td>0.000649</td>\n",
       "      <td>0.002779</td>\n",
       "      <td>0.015312</td>\n",
       "      <td>0.034260</td>\n",
       "      <td>0.014889</td>\n",
       "      <td>0.922373</td>\n",
       "      <td>0.000000</td>\n",
       "      <td>0.000000</td>\n",
       "    </tr>\n",
       "    <tr>\n",
       "      <th>Importances - 4</th>\n",
       "      <td>0.011702</td>\n",
       "      <td>0.000000</td>\n",
       "      <td>0.000000</td>\n",
       "      <td>0.001660</td>\n",
       "      <td>0.000000</td>\n",
       "      <td>0.014476</td>\n",
       "      <td>0.000000</td>\n",
       "      <td>0.016790</td>\n",
       "      <td>0.015329</td>\n",
       "      <td>0.036496</td>\n",
       "      <td>0.710648</td>\n",
       "      <td>0.192093</td>\n",
       "      <td>0.000000</td>\n",
       "      <td>0.000805</td>\n",
       "    </tr>\n",
       "  </tbody>\n",
       "</table>\n",
       "</div>"
      ],
      "text/plain": [
       "                      CaO       MgO      Na2O     Al2O3      SiO2       SO3  \\\n",
       "Importances - 0  0.010120  0.002508  0.004238  0.000000  0.000000  0.000000   \n",
       "Importances - 1  0.000000  0.000232  0.000000  0.000160  0.012408  0.000178   \n",
       "Importances - 2  0.000000  0.000071  0.000438  0.000251  0.002277  0.014949   \n",
       "Importances - 3  0.000808  0.000637  0.000000  0.000000  0.008293  0.000000   \n",
       "Importances - 4  0.011702  0.000000  0.000000  0.001660  0.000000  0.014476   \n",
       "\n",
       "                      K2O     Fe2O3  Loss on Ignition  Insoluble Residue  \\\n",
       "Importances - 0  0.002055  0.001015          0.003915           0.009538   \n",
       "Importances - 1  0.025888  0.000646          0.014903           0.023644   \n",
       "Importances - 2  0.000143  0.000189          0.006782           0.049626   \n",
       "Importances - 3  0.000649  0.002779          0.015312           0.034260   \n",
       "Importances - 4  0.000000  0.016790          0.015329           0.036496   \n",
       "\n",
       "                   Blaine      #325  Initial setting time  Final setting time  \n",
       "Importances - 0  0.381727  0.584088              0.000000            0.000796  \n",
       "Importances - 1  0.915738  0.004789              0.000000            0.001413  \n",
       "Importances - 2  0.369078  0.556041              0.000154            0.000000  \n",
       "Importances - 3  0.014889  0.922373              0.000000            0.000000  \n",
       "Importances - 4  0.710648  0.192093              0.000000            0.000805  "
      ]
     },
     "execution_count": 31,
     "metadata": {},
     "output_type": "execute_result"
    },
    {
     "data": {
      "application/javascript": [
       "\n",
       "            setTimeout(function() {\n",
       "                var nbb_cell_id = 31;\n",
       "                var nbb_unformatted_code = \"df_importances\";\n",
       "                var nbb_formatted_code = \"df_importances\";\n",
       "                var nbb_cells = Jupyter.notebook.get_cells();\n",
       "                for (var i = 0; i < nbb_cells.length; ++i) {\n",
       "                    if (nbb_cells[i].input_prompt_number == nbb_cell_id) {\n",
       "                        if (nbb_cells[i].get_text() == nbb_unformatted_code) {\n",
       "                             nbb_cells[i].set_text(nbb_formatted_code);\n",
       "                        }\n",
       "                        break;\n",
       "                    }\n",
       "                }\n",
       "            }, 500);\n",
       "            "
      ],
      "text/plain": [
       "<IPython.core.display.Javascript object>"
      ]
     },
     "metadata": {},
     "output_type": "display_data"
    }
   ],
   "source": [
    "df_importances"
   ]
  },
  {
   "cell_type": "code",
   "execution_count": 32,
   "id": "c6392192",
   "metadata": {},
   "outputs": [
    {
     "data": {
      "text/html": [
       "<div>\n",
       "<style scoped>\n",
       "    .dataframe tbody tr th:only-of-type {\n",
       "        vertical-align: middle;\n",
       "    }\n",
       "\n",
       "    .dataframe tbody tr th {\n",
       "        vertical-align: top;\n",
       "    }\n",
       "\n",
       "    .dataframe thead th {\n",
       "        text-align: right;\n",
       "    }\n",
       "</style>\n",
       "<table border=\"1\" class=\"dataframe\">\n",
       "  <thead>\n",
       "    <tr style=\"text-align: right;\">\n",
       "      <th></th>\n",
       "      <th>count</th>\n",
       "      <th>mean</th>\n",
       "      <th>std</th>\n",
       "      <th>min</th>\n",
       "      <th>25%</th>\n",
       "      <th>50%</th>\n",
       "      <th>75%</th>\n",
       "      <th>max</th>\n",
       "    </tr>\n",
       "  </thead>\n",
       "  <tbody>\n",
       "    <tr>\n",
       "      <th>CaO</th>\n",
       "      <td>5.0</td>\n",
       "      <td>0.004526</td>\n",
       "      <td>0.005865</td>\n",
       "      <td>0.000000</td>\n",
       "      <td>0.000000</td>\n",
       "      <td>0.000808</td>\n",
       "      <td>0.010120</td>\n",
       "      <td>0.011702</td>\n",
       "    </tr>\n",
       "    <tr>\n",
       "      <th>MgO</th>\n",
       "      <td>5.0</td>\n",
       "      <td>0.000690</td>\n",
       "      <td>0.001046</td>\n",
       "      <td>0.000000</td>\n",
       "      <td>0.000071</td>\n",
       "      <td>0.000232</td>\n",
       "      <td>0.000637</td>\n",
       "      <td>0.002508</td>\n",
       "    </tr>\n",
       "    <tr>\n",
       "      <th>Na2O</th>\n",
       "      <td>5.0</td>\n",
       "      <td>0.000935</td>\n",
       "      <td>0.001856</td>\n",
       "      <td>0.000000</td>\n",
       "      <td>0.000000</td>\n",
       "      <td>0.000000</td>\n",
       "      <td>0.000438</td>\n",
       "      <td>0.004238</td>\n",
       "    </tr>\n",
       "    <tr>\n",
       "      <th>Al2O3</th>\n",
       "      <td>5.0</td>\n",
       "      <td>0.000414</td>\n",
       "      <td>0.000705</td>\n",
       "      <td>0.000000</td>\n",
       "      <td>0.000000</td>\n",
       "      <td>0.000160</td>\n",
       "      <td>0.000251</td>\n",
       "      <td>0.001660</td>\n",
       "    </tr>\n",
       "    <tr>\n",
       "      <th>SiO2</th>\n",
       "      <td>5.0</td>\n",
       "      <td>0.004596</td>\n",
       "      <td>0.005530</td>\n",
       "      <td>0.000000</td>\n",
       "      <td>0.000000</td>\n",
       "      <td>0.002277</td>\n",
       "      <td>0.008293</td>\n",
       "      <td>0.012408</td>\n",
       "    </tr>\n",
       "    <tr>\n",
       "      <th>SO3</th>\n",
       "      <td>5.0</td>\n",
       "      <td>0.005920</td>\n",
       "      <td>0.008028</td>\n",
       "      <td>0.000000</td>\n",
       "      <td>0.000000</td>\n",
       "      <td>0.000178</td>\n",
       "      <td>0.014476</td>\n",
       "      <td>0.014949</td>\n",
       "    </tr>\n",
       "    <tr>\n",
       "      <th>K2O</th>\n",
       "      <td>5.0</td>\n",
       "      <td>0.005747</td>\n",
       "      <td>0.011289</td>\n",
       "      <td>0.000000</td>\n",
       "      <td>0.000143</td>\n",
       "      <td>0.000649</td>\n",
       "      <td>0.002055</td>\n",
       "      <td>0.025888</td>\n",
       "    </tr>\n",
       "    <tr>\n",
       "      <th>Fe2O3</th>\n",
       "      <td>5.0</td>\n",
       "      <td>0.004284</td>\n",
       "      <td>0.007060</td>\n",
       "      <td>0.000189</td>\n",
       "      <td>0.000646</td>\n",
       "      <td>0.001015</td>\n",
       "      <td>0.002779</td>\n",
       "      <td>0.016790</td>\n",
       "    </tr>\n",
       "    <tr>\n",
       "      <th>Loss on Ignition</th>\n",
       "      <td>5.0</td>\n",
       "      <td>0.011248</td>\n",
       "      <td>0.005483</td>\n",
       "      <td>0.003915</td>\n",
       "      <td>0.006782</td>\n",
       "      <td>0.014903</td>\n",
       "      <td>0.015312</td>\n",
       "      <td>0.015329</td>\n",
       "    </tr>\n",
       "    <tr>\n",
       "      <th>Insoluble Residue</th>\n",
       "      <td>5.0</td>\n",
       "      <td>0.030713</td>\n",
       "      <td>0.015017</td>\n",
       "      <td>0.009538</td>\n",
       "      <td>0.023644</td>\n",
       "      <td>0.034260</td>\n",
       "      <td>0.036496</td>\n",
       "      <td>0.049626</td>\n",
       "    </tr>\n",
       "    <tr>\n",
       "      <th>Blaine</th>\n",
       "      <td>5.0</td>\n",
       "      <td>0.478416</td>\n",
       "      <td>0.346895</td>\n",
       "      <td>0.014889</td>\n",
       "      <td>0.369078</td>\n",
       "      <td>0.381727</td>\n",
       "      <td>0.710648</td>\n",
       "      <td>0.915738</td>\n",
       "    </tr>\n",
       "    <tr>\n",
       "      <th>#325</th>\n",
       "      <td>5.0</td>\n",
       "      <td>0.451877</td>\n",
       "      <td>0.359538</td>\n",
       "      <td>0.004789</td>\n",
       "      <td>0.192093</td>\n",
       "      <td>0.556041</td>\n",
       "      <td>0.584088</td>\n",
       "      <td>0.922373</td>\n",
       "    </tr>\n",
       "    <tr>\n",
       "      <th>Initial setting time</th>\n",
       "      <td>5.0</td>\n",
       "      <td>0.000031</td>\n",
       "      <td>0.000069</td>\n",
       "      <td>0.000000</td>\n",
       "      <td>0.000000</td>\n",
       "      <td>0.000000</td>\n",
       "      <td>0.000000</td>\n",
       "      <td>0.000154</td>\n",
       "    </tr>\n",
       "    <tr>\n",
       "      <th>Final setting time</th>\n",
       "      <td>5.0</td>\n",
       "      <td>0.000603</td>\n",
       "      <td>0.000604</td>\n",
       "      <td>0.000000</td>\n",
       "      <td>0.000000</td>\n",
       "      <td>0.000796</td>\n",
       "      <td>0.000805</td>\n",
       "      <td>0.001413</td>\n",
       "    </tr>\n",
       "  </tbody>\n",
       "</table>\n",
       "</div>"
      ],
      "text/plain": [
       "                      count      mean       std       min       25%       50%  \\\n",
       "CaO                     5.0  0.004526  0.005865  0.000000  0.000000  0.000808   \n",
       "MgO                     5.0  0.000690  0.001046  0.000000  0.000071  0.000232   \n",
       "Na2O                    5.0  0.000935  0.001856  0.000000  0.000000  0.000000   \n",
       "Al2O3                   5.0  0.000414  0.000705  0.000000  0.000000  0.000160   \n",
       "SiO2                    5.0  0.004596  0.005530  0.000000  0.000000  0.002277   \n",
       "SO3                     5.0  0.005920  0.008028  0.000000  0.000000  0.000178   \n",
       "K2O                     5.0  0.005747  0.011289  0.000000  0.000143  0.000649   \n",
       "Fe2O3                   5.0  0.004284  0.007060  0.000189  0.000646  0.001015   \n",
       "Loss on Ignition        5.0  0.011248  0.005483  0.003915  0.006782  0.014903   \n",
       "Insoluble Residue       5.0  0.030713  0.015017  0.009538  0.023644  0.034260   \n",
       "Blaine                  5.0  0.478416  0.346895  0.014889  0.369078  0.381727   \n",
       "#325                    5.0  0.451877  0.359538  0.004789  0.192093  0.556041   \n",
       "Initial setting time    5.0  0.000031  0.000069  0.000000  0.000000  0.000000   \n",
       "Final setting time      5.0  0.000603  0.000604  0.000000  0.000000  0.000796   \n",
       "\n",
       "                           75%       max  \n",
       "CaO                   0.010120  0.011702  \n",
       "MgO                   0.000637  0.002508  \n",
       "Na2O                  0.000438  0.004238  \n",
       "Al2O3                 0.000251  0.001660  \n",
       "SiO2                  0.008293  0.012408  \n",
       "SO3                   0.014476  0.014949  \n",
       "K2O                   0.002055  0.025888  \n",
       "Fe2O3                 0.002779  0.016790  \n",
       "Loss on Ignition      0.015312  0.015329  \n",
       "Insoluble Residue     0.036496  0.049626  \n",
       "Blaine                0.710648  0.915738  \n",
       "#325                  0.584088  0.922373  \n",
       "Initial setting time  0.000000  0.000154  \n",
       "Final setting time    0.000805  0.001413  "
      ]
     },
     "execution_count": 32,
     "metadata": {},
     "output_type": "execute_result"
    },
    {
     "data": {
      "application/javascript": [
       "\n",
       "            setTimeout(function() {\n",
       "                var nbb_cell_id = 32;\n",
       "                var nbb_unformatted_code = \"df_importances.describe().T\";\n",
       "                var nbb_formatted_code = \"df_importances.describe().T\";\n",
       "                var nbb_cells = Jupyter.notebook.get_cells();\n",
       "                for (var i = 0; i < nbb_cells.length; ++i) {\n",
       "                    if (nbb_cells[i].input_prompt_number == nbb_cell_id) {\n",
       "                        if (nbb_cells[i].get_text() == nbb_unformatted_code) {\n",
       "                             nbb_cells[i].set_text(nbb_formatted_code);\n",
       "                        }\n",
       "                        break;\n",
       "                    }\n",
       "                }\n",
       "            }, 500);\n",
       "            "
      ],
      "text/plain": [
       "<IPython.core.display.Javascript object>"
      ]
     },
     "metadata": {},
     "output_type": "display_data"
    }
   ],
   "source": [
    "df_importances.describe().T"
   ]
  },
  {
   "cell_type": "code",
   "execution_count": 33,
   "id": "8eb194e9",
   "metadata": {},
   "outputs": [
    {
     "data": {
      "text/plain": [
       "CaO                     0.004526\n",
       "MgO                     0.000690\n",
       "Na2O                    0.000935\n",
       "Al2O3                   0.000414\n",
       "SiO2                    0.004596\n",
       "SO3                     0.005920\n",
       "K2O                     0.005747\n",
       "Fe2O3                   0.004284\n",
       "Loss on Ignition        0.011248\n",
       "Insoluble Residue       0.030713\n",
       "Blaine                  0.478416\n",
       "#325                    0.451877\n",
       "Initial setting time    0.000031\n",
       "Final setting time      0.000603\n",
       "dtype: float64"
      ]
     },
     "execution_count": 33,
     "metadata": {},
     "output_type": "execute_result"
    },
    {
     "data": {
      "application/javascript": [
       "\n",
       "            setTimeout(function() {\n",
       "                var nbb_cell_id = 33;\n",
       "                var nbb_unformatted_code = \"df_importances.mean(axis=0)\";\n",
       "                var nbb_formatted_code = \"df_importances.mean(axis=0)\";\n",
       "                var nbb_cells = Jupyter.notebook.get_cells();\n",
       "                for (var i = 0; i < nbb_cells.length; ++i) {\n",
       "                    if (nbb_cells[i].input_prompt_number == nbb_cell_id) {\n",
       "                        if (nbb_cells[i].get_text() == nbb_unformatted_code) {\n",
       "                             nbb_cells[i].set_text(nbb_formatted_code);\n",
       "                        }\n",
       "                        break;\n",
       "                    }\n",
       "                }\n",
       "            }, 500);\n",
       "            "
      ],
      "text/plain": [
       "<IPython.core.display.Javascript object>"
      ]
     },
     "metadata": {},
     "output_type": "display_data"
    }
   ],
   "source": [
    "df_importances.mean(axis=0)"
   ]
  },
  {
   "cell_type": "code",
   "execution_count": 34,
   "id": "a6ce5396",
   "metadata": {},
   "outputs": [
    {
     "data": {
      "text/plain": [
       "CaO                     0.005245\n",
       "MgO                     0.000936\n",
       "Na2O                    0.001660\n",
       "Al2O3                   0.000630\n",
       "SiO2                    0.004946\n",
       "SO3                     0.007180\n",
       "K2O                     0.010097\n",
       "Fe2O3                   0.006314\n",
       "Loss on Ignition        0.004904\n",
       "Insoluble Residue       0.013432\n",
       "Blaine                  0.310272\n",
       "#325                    0.321581\n",
       "Initial setting time    0.000062\n",
       "Final setting time      0.000541\n",
       "dtype: float64"
      ]
     },
     "execution_count": 34,
     "metadata": {},
     "output_type": "execute_result"
    },
    {
     "data": {
      "application/javascript": [
       "\n",
       "            setTimeout(function() {\n",
       "                var nbb_cell_id = 34;\n",
       "                var nbb_unformatted_code = \"df_importances.std(axis=0, ddof=0)\";\n",
       "                var nbb_formatted_code = \"df_importances.std(axis=0, ddof=0)\";\n",
       "                var nbb_cells = Jupyter.notebook.get_cells();\n",
       "                for (var i = 0; i < nbb_cells.length; ++i) {\n",
       "                    if (nbb_cells[i].input_prompt_number == nbb_cell_id) {\n",
       "                        if (nbb_cells[i].get_text() == nbb_unformatted_code) {\n",
       "                             nbb_cells[i].set_text(nbb_formatted_code);\n",
       "                        }\n",
       "                        break;\n",
       "                    }\n",
       "                }\n",
       "            }, 500);\n",
       "            "
      ],
      "text/plain": [
       "<IPython.core.display.Javascript object>"
      ]
     },
     "metadata": {},
     "output_type": "display_data"
    }
   ],
   "source": [
    "df_importances.std(axis=0, ddof=0)"
   ]
  },
  {
   "cell_type": "code",
   "execution_count": 35,
   "id": "758d7cb7",
   "metadata": {},
   "outputs": [
    {
     "data": {
      "text/plain": [
       "Date                     688\n",
       "CaO                     1936\n",
       "MgO                     1145\n",
       "Na2O                     741\n",
       "Al2O3                   1251\n",
       "SiO2                    1716\n",
       "SO3                     1046\n",
       "K2O                      810\n",
       "Fe2O3                    929\n",
       "Loss on Ignition         821\n",
       "Insoluble Residue       1309\n",
       "Blaine                   215\n",
       "#325                     158\n",
       "Initial setting time      34\n",
       "Final setting time        40\n",
       "dtype: int64"
      ]
     },
     "execution_count": 35,
     "metadata": {},
     "output_type": "execute_result"
    },
    {
     "data": {
      "application/javascript": [
       "\n",
       "            setTimeout(function() {\n",
       "                var nbb_cell_id = 35;\n",
       "                var nbb_unformatted_code = \"df_copy.nunique()\";\n",
       "                var nbb_formatted_code = \"df_copy.nunique()\";\n",
       "                var nbb_cells = Jupyter.notebook.get_cells();\n",
       "                for (var i = 0; i < nbb_cells.length; ++i) {\n",
       "                    if (nbb_cells[i].input_prompt_number == nbb_cell_id) {\n",
       "                        if (nbb_cells[i].get_text() == nbb_unformatted_code) {\n",
       "                             nbb_cells[i].set_text(nbb_formatted_code);\n",
       "                        }\n",
       "                        break;\n",
       "                    }\n",
       "                }\n",
       "            }, 500);\n",
       "            "
      ],
      "text/plain": [
       "<IPython.core.display.Javascript object>"
      ]
     },
     "metadata": {},
     "output_type": "display_data"
    }
   ],
   "source": [
    "df_copy.nunique()"
   ]
  },
  {
   "cell_type": "code",
   "execution_count": 36,
   "id": "c8597955",
   "metadata": {},
   "outputs": [
    {
     "data": {
      "text/plain": [
       "{'imputer': SimpleImputer(strategy='median'),\n",
       " 'estimator': RandomForestRegressor(max_depth=3, n_estimators=5, random_state=47)}"
      ]
     },
     "execution_count": 36,
     "metadata": {},
     "output_type": "execute_result"
    },
    {
     "data": {
      "application/javascript": [
       "\n",
       "            setTimeout(function() {\n",
       "                var nbb_cell_id = 36;\n",
       "                var nbb_unformatted_code = \"pipeline.named_steps\";\n",
       "                var nbb_formatted_code = \"pipeline.named_steps\";\n",
       "                var nbb_cells = Jupyter.notebook.get_cells();\n",
       "                for (var i = 0; i < nbb_cells.length; ++i) {\n",
       "                    if (nbb_cells[i].input_prompt_number == nbb_cell_id) {\n",
       "                        if (nbb_cells[i].get_text() == nbb_unformatted_code) {\n",
       "                             nbb_cells[i].set_text(nbb_formatted_code);\n",
       "                        }\n",
       "                        break;\n",
       "                    }\n",
       "                }\n",
       "            }, 500);\n",
       "            "
      ],
      "text/plain": [
       "<IPython.core.display.Javascript object>"
      ]
     },
     "metadata": {},
     "output_type": "display_data"
    }
   ],
   "source": [
    "pipeline.named_steps"
   ]
  },
  {
   "cell_type": "code",
   "execution_count": 37,
   "id": "0696f607",
   "metadata": {},
   "outputs": [
    {
     "data": {
      "application/javascript": [
       "\n",
       "            setTimeout(function() {\n",
       "                var nbb_cell_id = 37;\n",
       "                var nbb_unformatted_code = \"from sklearn.inspection import permutation_importance\";\n",
       "                var nbb_formatted_code = \"from sklearn.inspection import permutation_importance\";\n",
       "                var nbb_cells = Jupyter.notebook.get_cells();\n",
       "                for (var i = 0; i < nbb_cells.length; ++i) {\n",
       "                    if (nbb_cells[i].input_prompt_number == nbb_cell_id) {\n",
       "                        if (nbb_cells[i].get_text() == nbb_unformatted_code) {\n",
       "                             nbb_cells[i].set_text(nbb_formatted_code);\n",
       "                        }\n",
       "                        break;\n",
       "                    }\n",
       "                }\n",
       "            }, 500);\n",
       "            "
      ],
      "text/plain": [
       "<IPython.core.display.Javascript object>"
      ]
     },
     "metadata": {},
     "output_type": "display_data"
    }
   ],
   "source": [
    "from sklearn.inspection import permutation_importance"
   ]
  },
  {
   "cell_type": "code",
   "execution_count": 38,
   "id": "b7357125",
   "metadata": {},
   "outputs": [
    {
     "data": {
      "application/javascript": [
       "\n",
       "            setTimeout(function() {\n",
       "                var nbb_cell_id = 38;\n",
       "                var nbb_unformatted_code = \"# Initialize lists to store importance results\\nmdi_importances = []\\nperm_importances = []\\n\\n# Compute feature importances\\nfor i, (train_idx, test_idx) in enumerate(cv.split(x, y)):\\n    pipeline.fit(x.iloc[train_idx], y[train_idx])\\n\\n    # Extract the trained model\\n    model = pipeline.named_steps[\\\"estimator\\\"]\\n    imputer = pipeline.named_steps[\\\"imputer\\\"]\\n    # Compute MDI importance\\n    mdi_importances.append(model.feature_importances_)\\n\\n    # Compute permutation importance\\n    result = permutation_importance(\\n        model,\\n        imputer.transform(x.iloc[test_idx]),\\n        y[test_idx],\\n        n_repeats=10,\\n        random_state=SEED,\\n        n_jobs=-1,\\n        scoring=\\\"r2\\\",\\n    )\\n    perm_importances.append(result.importances_mean)\";\n",
       "                var nbb_formatted_code = \"# Initialize lists to store importance results\\nmdi_importances = []\\nperm_importances = []\\n\\n# Compute feature importances\\nfor i, (train_idx, test_idx) in enumerate(cv.split(x, y)):\\n    pipeline.fit(x.iloc[train_idx], y[train_idx])\\n\\n    # Extract the trained model\\n    model = pipeline.named_steps[\\\"estimator\\\"]\\n    imputer = pipeline.named_steps[\\\"imputer\\\"]\\n    # Compute MDI importance\\n    mdi_importances.append(model.feature_importances_)\\n\\n    # Compute permutation importance\\n    result = permutation_importance(\\n        model,\\n        imputer.transform(x.iloc[test_idx]),\\n        y[test_idx],\\n        n_repeats=10,\\n        random_state=SEED,\\n        n_jobs=-1,\\n        scoring=\\\"r2\\\",\\n    )\\n    perm_importances.append(result.importances_mean)\";\n",
       "                var nbb_cells = Jupyter.notebook.get_cells();\n",
       "                for (var i = 0; i < nbb_cells.length; ++i) {\n",
       "                    if (nbb_cells[i].input_prompt_number == nbb_cell_id) {\n",
       "                        if (nbb_cells[i].get_text() == nbb_unformatted_code) {\n",
       "                             nbb_cells[i].set_text(nbb_formatted_code);\n",
       "                        }\n",
       "                        break;\n",
       "                    }\n",
       "                }\n",
       "            }, 500);\n",
       "            "
      ],
      "text/plain": [
       "<IPython.core.display.Javascript object>"
      ]
     },
     "metadata": {},
     "output_type": "display_data"
    }
   ],
   "source": [
    "# Initialize lists to store importance results\n",
    "mdi_importances = []\n",
    "perm_importances = []\n",
    "\n",
    "# Compute feature importances\n",
    "for i, (train_idx, test_idx) in enumerate(cv.split(x, y)):\n",
    "    pipeline.fit(x.iloc[train_idx], y[train_idx])\n",
    "\n",
    "    # Extract the trained model\n",
    "    model = pipeline.named_steps[\"estimator\"]\n",
    "    imputer = pipeline.named_steps[\"imputer\"]\n",
    "    # Compute MDI importance\n",
    "    mdi_importances.append(model.feature_importances_)\n",
    "\n",
    "    # Compute permutation importance\n",
    "    result = permutation_importance(\n",
    "        model,\n",
    "        imputer.transform(x.iloc[test_idx]),\n",
    "        y[test_idx],\n",
    "        n_repeats=10,\n",
    "        random_state=SEED,\n",
    "        n_jobs=-1,\n",
    "        scoring=\"r2\",\n",
    "    )\n",
    "    perm_importances.append(result.importances_mean)"
   ]
  },
  {
   "cell_type": "code",
   "execution_count": 39,
   "id": "6cddce2d",
   "metadata": {},
   "outputs": [
    {
     "data": {
      "image/png": "[encoded data removed]",
      "text/plain": [
       "<Figure size 1000x550 with 1 Axes>"
      ]
     },
     "metadata": {},
     "output_type": "display_data"
    },
    {
     "data": {
      "application/javascript": [
       "\n",
       "            setTimeout(function() {\n",
       "                var nbb_cell_id = 39;\n",
       "                var nbb_unformatted_code = \"# Convert lists to DataFrames\\nmdi_importances_df = pd.DataFrame(mdi_importances, columns=x.columns)\\nperm_importances_df = pd.DataFrame(perm_importances, columns=x.columns)\\n\\n\\n# Calculate the mean importance for each feature\\nmean_importances = perm_importances_df.mean().sort_values()\\n\\n# Reorder the DataFrame columns based on mean importance\\nperm_importances_df = perm_importances_df[mean_importances.index]\\n\\nperm_importances_df = perm_importances_df.rename(\\n    columns={\\n        \\\"Loss on Ignition\\\": \\\"LOI\\\",\\n        \\\"Insoluble Residue\\\": \\\"IR\\\",\\n    }\\n)\\n\\n\\nplt.figure(figsize=(10, 5.5))\\nsns.boxplot(\\n    data=perm_importances_df,\\n    orient=\\\"h\\\",\\n    color=\\\"lightsteelblue\\\",\\n    saturation=1,\\n    showmeans=True,\\n)\\nsns.despine(trim=True, left=False)\\nplt.xlabel(\\\"Importance (Permutation)\\\")\\nplt.title(\\\"Variable Importance Distribution\\\")\\nplt.grid(axis=\\\"x\\\", linestyle=\\\"--\\\", alpha=0.7)\\nplt.subplots_adjust(left=0.3)\\nplt.savefig(\\n    \\\"ecics_cm_p_btiss_random_forest_scpm_best_dist_var_perm_relevance.png\\\",\\n    dpi=300,\\n    bbox_inches=\\\"tight\\\",\\n)\\nplt.show()\";\n",
       "                var nbb_formatted_code = \"# Convert lists to DataFrames\\nmdi_importances_df = pd.DataFrame(mdi_importances, columns=x.columns)\\nperm_importances_df = pd.DataFrame(perm_importances, columns=x.columns)\\n\\n\\n# Calculate the mean importance for each feature\\nmean_importances = perm_importances_df.mean().sort_values()\\n\\n# Reorder the DataFrame columns based on mean importance\\nperm_importances_df = perm_importances_df[mean_importances.index]\\n\\nperm_importances_df = perm_importances_df.rename(\\n    columns={\\n        \\\"Loss on Ignition\\\": \\\"LOI\\\",\\n        \\\"Insoluble Residue\\\": \\\"IR\\\",\\n    }\\n)\\n\\n\\nplt.figure(figsize=(10, 5.5))\\nsns.boxplot(\\n    data=perm_importances_df,\\n    orient=\\\"h\\\",\\n    color=\\\"lightsteelblue\\\",\\n    saturation=1,\\n    showmeans=True,\\n)\\nsns.despine(trim=True, left=False)\\nplt.xlabel(\\\"Importance (Permutation)\\\")\\nplt.title(\\\"Variable Importance Distribution\\\")\\nplt.grid(axis=\\\"x\\\", linestyle=\\\"--\\\", alpha=0.7)\\nplt.subplots_adjust(left=0.3)\\nplt.savefig(\\n    \\\"ecics_cm_p_btiss_random_forest_scpm_best_dist_var_perm_relevance.png\\\",\\n    dpi=300,\\n    bbox_inches=\\\"tight\\\",\\n)\\nplt.show()\";\n",
       "                var nbb_cells = Jupyter.notebook.get_cells();\n",
       "                for (var i = 0; i < nbb_cells.length; ++i) {\n",
       "                    if (nbb_cells[i].input_prompt_number == nbb_cell_id) {\n",
       "                        if (nbb_cells[i].get_text() == nbb_unformatted_code) {\n",
       "                             nbb_cells[i].set_text(nbb_formatted_code);\n",
       "                        }\n",
       "                        break;\n",
       "                    }\n",
       "                }\n",
       "            }, 500);\n",
       "            "
      ],
      "text/plain": [
       "<IPython.core.display.Javascript object>"
      ]
     },
     "metadata": {},
     "output_type": "display_data"
    }
   ],
   "source": [
    "# Convert lists to DataFrames\n",
    "mdi_importances_df = pd.DataFrame(mdi_importances, columns=x.columns)\n",
    "perm_importances_df = pd.DataFrame(perm_importances, columns=x.columns)\n",
    "\n",
    "\n",
    "# Calculate the mean importance for each feature\n",
    "mean_importances = perm_importances_df.mean().sort_values()\n",
    "\n",
    "# Reorder the DataFrame columns based on mean importance\n",
    "perm_importances_df = perm_importances_df[mean_importances.index]\n",
    "\n",
    "perm_importances_df = perm_importances_df.rename(\n",
    "    columns={\n",
    "        \"Loss on Ignition\": \"LOI\",\n",
    "        \"Insoluble Residue\": \"IR\",\n",
    "    }\n",
    ")\n",
    "\n",
    "\n",
    "plt.figure(figsize=(10, 5.5))\n",
    "sns.boxplot(\n",
    "    data=perm_importances_df,\n",
    "    orient=\"h\",\n",
    "    color=\"lightsteelblue\",\n",
    "    saturation=1,\n",
    "    showmeans=True,\n",
    ")\n",
    "sns.despine(trim=True, left=False)\n",
    "plt.xlabel(\"Importance (Permutation)\")\n",
    "plt.title(\"Variable Importance Distribution\")\n",
    "plt.grid(axis=\"x\", linestyle=\"--\", alpha=0.7)\n",
    "plt.subplots_adjust(left=0.3)\n",
    "plt.savefig(\n",
    "    \"ecics_cm_p_btiss_random_forest_scpm_best_dist_var_perm_relevance.png\",\n",
    "    dpi=300,\n",
    "    bbox_inches=\"tight\",\n",
    ")\n",
    "plt.show()"
   ]
  },
  {
   "cell_type": "code",
   "execution_count": 40,
   "id": "fdb2d00a",
   "metadata": {},
   "outputs": [
    {
     "data": {
      "image/png": "[encoded data removed]",
      "text/plain": [
       "<Figure size 1000x550 with 1 Axes>"
      ]
     },
     "metadata": {},
     "output_type": "display_data"
    },
    {
     "data": {
      "application/javascript": [
       "\n",
       "            setTimeout(function() {\n",
       "                var nbb_cell_id = 40;\n",
       "                var nbb_unformatted_code = \"# Backup the original backend\\noriginal_backend = plt.get_backend()\\n\\n# Use Matplotlib's default backend\\n# plt.switch_backend(\\\"agg\\\")  # or any backend you prefer\\n\\n# Update font settings to default\\nplt.rcParams.update(\\n    {\\n        \\\"font.family\\\": \\\"sans-serif\\\",\\n        \\\"font.sans-serif\\\": [\\\"DejaVu Sans\\\"],\\n        \\\"font.size\\\": 10,\\n        \\\"text.usetex\\\": False,  # Use MathText, not LaTeX\\n    }\\n)\\n\\n\\n# Convert chemical formulas using MathText syntax\\nperm_importances_df_plot = perm_importances_df.rename(\\n    columns={\\n        \\\"K2O\\\": r\\\"$\\\\mathrm{K_2O}$\\\",\\n        \\\"Free CaO\\\": r\\\"Free $\\\\mathrm{CaO}$\\\",\\n        \\\"Total C2S\\\": r\\\"Total $\\\\mathrm{C_2S}$\\\",\\n        \\\"Na2O\\\": r\\\"$\\\\mathrm{Na_2O}$\\\",\\n        \\\"CaO\\\": r\\\"$\\\\mathrm{CaO}$\\\",\\n        \\\"SiO2\\\": r\\\"$\\\\mathrm{SiO_2}$\\\",\\n        \\\"MgO\\\": r\\\"$\\\\mathrm{MgO}$\\\",\\n        \\\"Fe2O3\\\": r\\\"$\\\\mathrm{Fe_2O_3}$\\\",\\n        \\\"Al2O3\\\": r\\\"$\\\\mathrm{Al_2O_3}$\\\",\\n        \\\"Total C3S\\\": r\\\"Total $\\\\mathrm{C_3S}$\\\",\\n        \\\"C3A\\\": r\\\"$\\\\mathrm{C_3A}$\\\",\\n        \\\"C4AF\\\": r\\\"$\\\\mathrm{C_4AF}$\\\",\\n        \\\"LOI\\\": \\\"LOI\\\",\\n        \\\"SO3\\\": r\\\"$\\\\mathrm{SO_3}$\\\",\\n        \\\"Insoluble Residue\\\": \\\"IR\\\",\\n    }\\n)\\n\\nplt.figure(figsize=(10, 5.5))\\nsns.boxplot(\\n    data=perm_importances_df_plot,\\n    orient=\\\"h\\\",\\n    color=\\\"lightsteelblue\\\",\\n    saturation=1,\\n    showmeans=True,\\n)\\nsns.despine(trim=True, left=False)\\nplt.xlabel(\\\"Importance (Permutation)\\\")\\nplt.title(\\\"Variable Importance Distribution\\\")\\nplt.grid(axis=\\\"x\\\", linestyle=\\\"--\\\", alpha=0.7)\\nplt.subplots_adjust(left=0.3)\\nplt.savefig(\\n    \\\"ecics_cm_p_btiss_random_forest_scpm_best_dist_var_perm_relevance.png\\\",\\n    dpi=300,\\n    bbox_inches=\\\"tight\\\",\\n)\\nplt.show()\\n\\n\\n# Step 3: Reset all rcParams to their default values\\nmatplotlib.rcParams.update(matplotlib.rcParamsDefault)\\nplt.rcdefaults()\\n\\n# Switch back to the original backend\\nplt.switch_backend(original_backend)\";\n",
       "                var nbb_formatted_code = \"# Backup the original backend\\noriginal_backend = plt.get_backend()\\n\\n# Use Matplotlib's default backend\\n# plt.switch_backend(\\\"agg\\\")  # or any backend you prefer\\n\\n# Update font settings to default\\nplt.rcParams.update(\\n    {\\n        \\\"font.family\\\": \\\"sans-serif\\\",\\n        \\\"font.sans-serif\\\": [\\\"DejaVu Sans\\\"],\\n        \\\"font.size\\\": 10,\\n        \\\"text.usetex\\\": False,  # Use MathText, not LaTeX\\n    }\\n)\\n\\n\\n# Convert chemical formulas using MathText syntax\\nperm_importances_df_plot = perm_importances_df.rename(\\n    columns={\\n        \\\"K2O\\\": r\\\"$\\\\mathrm{K_2O}$\\\",\\n        \\\"Free CaO\\\": r\\\"Free $\\\\mathrm{CaO}$\\\",\\n        \\\"Total C2S\\\": r\\\"Total $\\\\mathrm{C_2S}$\\\",\\n        \\\"Na2O\\\": r\\\"$\\\\mathrm{Na_2O}$\\\",\\n        \\\"CaO\\\": r\\\"$\\\\mathrm{CaO}$\\\",\\n        \\\"SiO2\\\": r\\\"$\\\\mathrm{SiO_2}$\\\",\\n        \\\"MgO\\\": r\\\"$\\\\mathrm{MgO}$\\\",\\n        \\\"Fe2O3\\\": r\\\"$\\\\mathrm{Fe_2O_3}$\\\",\\n        \\\"Al2O3\\\": r\\\"$\\\\mathrm{Al_2O_3}$\\\",\\n        \\\"Total C3S\\\": r\\\"Total $\\\\mathrm{C_3S}$\\\",\\n        \\\"C3A\\\": r\\\"$\\\\mathrm{C_3A}$\\\",\\n        \\\"C4AF\\\": r\\\"$\\\\mathrm{C_4AF}$\\\",\\n        \\\"LOI\\\": \\\"LOI\\\",\\n        \\\"SO3\\\": r\\\"$\\\\mathrm{SO_3}$\\\",\\n        \\\"Insoluble Residue\\\": \\\"IR\\\",\\n    }\\n)\\n\\nplt.figure(figsize=(10, 5.5))\\nsns.boxplot(\\n    data=perm_importances_df_plot,\\n    orient=\\\"h\\\",\\n    color=\\\"lightsteelblue\\\",\\n    saturation=1,\\n    showmeans=True,\\n)\\nsns.despine(trim=True, left=False)\\nplt.xlabel(\\\"Importance (Permutation)\\\")\\nplt.title(\\\"Variable Importance Distribution\\\")\\nplt.grid(axis=\\\"x\\\", linestyle=\\\"--\\\", alpha=0.7)\\nplt.subplots_adjust(left=0.3)\\nplt.savefig(\\n    \\\"ecics_cm_p_btiss_random_forest_scpm_best_dist_var_perm_relevance.png\\\",\\n    dpi=300,\\n    bbox_inches=\\\"tight\\\",\\n)\\nplt.show()\\n\\n\\n# Step 3: Reset all rcParams to their default values\\nmatplotlib.rcParams.update(matplotlib.rcParamsDefault)\\nplt.rcdefaults()\\n\\n# Switch back to the original backend\\nplt.switch_backend(original_backend)\";\n",
       "                var nbb_cells = Jupyter.notebook.get_cells();\n",
       "                for (var i = 0; i < nbb_cells.length; ++i) {\n",
       "                    if (nbb_cells[i].input_prompt_number == nbb_cell_id) {\n",
       "                        if (nbb_cells[i].get_text() == nbb_unformatted_code) {\n",
       "                             nbb_cells[i].set_text(nbb_formatted_code);\n",
       "                        }\n",
       "                        break;\n",
       "                    }\n",
       "                }\n",
       "            }, 500);\n",
       "            "
      ],
      "text/plain": [
       "<IPython.core.display.Javascript object>"
      ]
     },
     "metadata": {},
     "output_type": "display_data"
    }
   ],
   "source": [
    "# Backup the original backend\n",
    "original_backend = plt.get_backend()\n",
    "\n",
    "# Use Matplotlib's default backend\n",
    "# plt.switch_backend(\"agg\")  # or any backend you prefer\n",
    "\n",
    "# Update font settings to default\n",
    "plt.rcParams.update(\n",
    "    {\n",
    "        \"font.family\": \"sans-serif\",\n",
    "        \"font.sans-serif\": [\"DejaVu Sans\"],\n",
    "        \"font.size\": 10,\n",
    "        \"text.usetex\": False,  # Use MathText, not LaTeX\n",
    "    }\n",
    ")\n",
    "\n",
    "\n",
    "# Convert chemical formulas using MathText syntax\n",
    "perm_importances_df_plot = perm_importances_df.rename(\n",
    "    columns={\n",
    "        \"K2O\": r\"$\\mathrm{K_2O}$\",\n",
    "        \"Free CaO\": r\"Free $\\mathrm{CaO}$\",\n",
    "        \"Total C2S\": r\"Total $\\mathrm{C_2S}$\",\n",
    "        \"Na2O\": r\"$\\mathrm{Na_2O}$\",\n",
    "        \"CaO\": r\"$\\mathrm{CaO}$\",\n",
    "        \"SiO2\": r\"$\\mathrm{SiO_2}$\",\n",
    "        \"MgO\": r\"$\\mathrm{MgO}$\",\n",
    "        \"Fe2O3\": r\"$\\mathrm{Fe_2O_3}$\",\n",
    "        \"Al2O3\": r\"$\\mathrm{Al_2O_3}$\",\n",
    "        \"Total C3S\": r\"Total $\\mathrm{C_3S}$\",\n",
    "        \"C3A\": r\"$\\mathrm{C_3A}$\",\n",
    "        \"C4AF\": r\"$\\mathrm{C_4AF}$\",\n",
    "        \"LOI\": \"LOI\",\n",
    "        \"SO3\": r\"$\\mathrm{SO_3}$\",\n",
    "        \"Insoluble Residue\": \"IR\",\n",
    "    }\n",
    ")\n",
    "\n",
    "plt.figure(figsize=(10, 5.5))\n",
    "sns.boxplot(\n",
    "    data=perm_importances_df_plot,\n",
    "    orient=\"h\",\n",
    "    color=\"lightsteelblue\",\n",
    "    saturation=1,\n",
    "    showmeans=True,\n",
    ")\n",
    "sns.despine(trim=True, left=False)\n",
    "plt.xlabel(\"Importance (Permutation)\")\n",
    "plt.title(\"Variable Importance Distribution\")\n",
    "plt.grid(axis=\"x\", linestyle=\"--\", alpha=0.7)\n",
    "plt.subplots_adjust(left=0.3)\n",
    "plt.savefig(\n",
    "    \"ecics_cm_p_btiss_random_forest_scpm_best_dist_var_perm_relevance.png\",\n",
    "    dpi=300,\n",
    "    bbox_inches=\"tight\",\n",
    ")\n",
    "plt.show()\n",
    "\n",
    "\n",
    "# Step 3: Reset all rcParams to their default values\n",
    "matplotlib.rcParams.update(matplotlib.rcParamsDefault)\n",
    "plt.rcdefaults()\n",
    "\n",
    "# Switch back to the original backend\n",
    "plt.switch_backend(original_backend)"
   ]
  },
  {
   "cell_type": "code",
   "execution_count": 41,
   "id": "bd7142ad",
   "metadata": {},
   "outputs": [
    {
     "data": {
      "text/html": [
       "<div>\n",
       "<style scoped>\n",
       "    .dataframe tbody tr th:only-of-type {\n",
       "        vertical-align: middle;\n",
       "    }\n",
       "\n",
       "    .dataframe tbody tr th {\n",
       "        vertical-align: top;\n",
       "    }\n",
       "\n",
       "    .dataframe thead th {\n",
       "        text-align: right;\n",
       "    }\n",
       "</style>\n",
       "<table border=\"1\" class=\"dataframe\">\n",
       "  <thead>\n",
       "    <tr style=\"text-align: right;\">\n",
       "      <th></th>\n",
       "      <th>count</th>\n",
       "      <th>mean</th>\n",
       "      <th>std</th>\n",
       "      <th>min</th>\n",
       "      <th>25%</th>\n",
       "      <th>50%</th>\n",
       "      <th>75%</th>\n",
       "      <th>max</th>\n",
       "    </tr>\n",
       "  </thead>\n",
       "  <tbody>\n",
       "    <tr>\n",
       "      <th>Initial setting time</th>\n",
       "      <td>5.0</td>\n",
       "      <td>0.000069</td>\n",
       "      <td>0.000154</td>\n",
       "      <td>0.000000</td>\n",
       "      <td>0.000000</td>\n",
       "      <td>0.000000</td>\n",
       "      <td>0.000000</td>\n",
       "      <td>0.000344</td>\n",
       "    </tr>\n",
       "    <tr>\n",
       "      <th>Na2O</th>\n",
       "      <td>5.0</td>\n",
       "      <td>0.000081</td>\n",
       "      <td>0.000351</td>\n",
       "      <td>-0.000269</td>\n",
       "      <td>0.000000</td>\n",
       "      <td>0.000000</td>\n",
       "      <td>0.000000</td>\n",
       "      <td>0.000673</td>\n",
       "    </tr>\n",
       "    <tr>\n",
       "      <th>Fe2O3</th>\n",
       "      <td>5.0</td>\n",
       "      <td>0.000163</td>\n",
       "      <td>0.005976</td>\n",
       "      <td>-0.008543</td>\n",
       "      <td>-0.000106</td>\n",
       "      <td>0.000386</td>\n",
       "      <td>0.000752</td>\n",
       "      <td>0.008324</td>\n",
       "    </tr>\n",
       "    <tr>\n",
       "      <th>MgO</th>\n",
       "      <td>5.0</td>\n",
       "      <td>0.000196</td>\n",
       "      <td>0.000450</td>\n",
       "      <td>-0.000257</td>\n",
       "      <td>0.000000</td>\n",
       "      <td>0.000002</td>\n",
       "      <td>0.000322</td>\n",
       "      <td>0.000913</td>\n",
       "    </tr>\n",
       "    <tr>\n",
       "      <th>Final setting time</th>\n",
       "      <td>5.0</td>\n",
       "      <td>0.001240</td>\n",
       "      <td>0.001257</td>\n",
       "      <td>0.000000</td>\n",
       "      <td>0.000000</td>\n",
       "      <td>0.001267</td>\n",
       "      <td>0.002118</td>\n",
       "      <td>0.002813</td>\n",
       "    </tr>\n",
       "    <tr>\n",
       "      <th>Al2O3</th>\n",
       "      <td>5.0</td>\n",
       "      <td>0.001319</td>\n",
       "      <td>0.002997</td>\n",
       "      <td>-0.000326</td>\n",
       "      <td>0.000000</td>\n",
       "      <td>0.000000</td>\n",
       "      <td>0.000252</td>\n",
       "      <td>0.006668</td>\n",
       "    </tr>\n",
       "    <tr>\n",
       "      <th>SiO2</th>\n",
       "      <td>5.0</td>\n",
       "      <td>0.002795</td>\n",
       "      <td>0.004490</td>\n",
       "      <td>0.000000</td>\n",
       "      <td>0.000000</td>\n",
       "      <td>0.000436</td>\n",
       "      <td>0.003037</td>\n",
       "      <td>0.010502</td>\n",
       "    </tr>\n",
       "    <tr>\n",
       "      <th>CaO</th>\n",
       "      <td>5.0</td>\n",
       "      <td>0.003102</td>\n",
       "      <td>0.005218</td>\n",
       "      <td>0.000000</td>\n",
       "      <td>0.000000</td>\n",
       "      <td>0.000039</td>\n",
       "      <td>0.003416</td>\n",
       "      <td>0.012055</td>\n",
       "    </tr>\n",
       "    <tr>\n",
       "      <th>K2O</th>\n",
       "      <td>5.0</td>\n",
       "      <td>0.003258</td>\n",
       "      <td>0.005790</td>\n",
       "      <td>0.000000</td>\n",
       "      <td>0.000000</td>\n",
       "      <td>0.000851</td>\n",
       "      <td>0.001921</td>\n",
       "      <td>0.013520</td>\n",
       "    </tr>\n",
       "    <tr>\n",
       "      <th>SO3</th>\n",
       "      <td>5.0</td>\n",
       "      <td>0.004724</td>\n",
       "      <td>0.007320</td>\n",
       "      <td>0.000000</td>\n",
       "      <td>0.000000</td>\n",
       "      <td>0.000308</td>\n",
       "      <td>0.006458</td>\n",
       "      <td>0.016856</td>\n",
       "    </tr>\n",
       "    <tr>\n",
       "      <th>IR</th>\n",
       "      <td>5.0</td>\n",
       "      <td>0.029058</td>\n",
       "      <td>0.027892</td>\n",
       "      <td>-0.000253</td>\n",
       "      <td>0.008735</td>\n",
       "      <td>0.028395</td>\n",
       "      <td>0.037263</td>\n",
       "      <td>0.071152</td>\n",
       "    </tr>\n",
       "    <tr>\n",
       "      <th>LOI</th>\n",
       "      <td>5.0</td>\n",
       "      <td>0.033109</td>\n",
       "      <td>0.024254</td>\n",
       "      <td>0.005698</td>\n",
       "      <td>0.016227</td>\n",
       "      <td>0.029330</td>\n",
       "      <td>0.048570</td>\n",
       "      <td>0.065718</td>\n",
       "    </tr>\n",
       "    <tr>\n",
       "      <th>Blaine</th>\n",
       "      <td>5.0</td>\n",
       "      <td>0.522316</td>\n",
       "      <td>0.598807</td>\n",
       "      <td>0.035298</td>\n",
       "      <td>0.195484</td>\n",
       "      <td>0.200040</td>\n",
       "      <td>0.677451</td>\n",
       "      <td>1.503308</td>\n",
       "    </tr>\n",
       "    <tr>\n",
       "      <th>#325</th>\n",
       "      <td>5.0</td>\n",
       "      <td>0.555516</td>\n",
       "      <td>0.494350</td>\n",
       "      <td>0.005636</td>\n",
       "      <td>0.205166</td>\n",
       "      <td>0.572128</td>\n",
       "      <td>0.712941</td>\n",
       "      <td>1.281710</td>\n",
       "    </tr>\n",
       "  </tbody>\n",
       "</table>\n",
       "</div>"
      ],
      "text/plain": [
       "                      count      mean       std       min       25%       50%  \\\n",
       "Initial setting time    5.0  0.000069  0.000154  0.000000  0.000000  0.000000   \n",
       "Na2O                    5.0  0.000081  0.000351 -0.000269  0.000000  0.000000   \n",
       "Fe2O3                   5.0  0.000163  0.005976 -0.008543 -0.000106  0.000386   \n",
       "MgO                     5.0  0.000196  0.000450 -0.000257  0.000000  0.000002   \n",
       "Final setting time      5.0  0.001240  0.001257  0.000000  0.000000  0.001267   \n",
       "Al2O3                   5.0  0.001319  0.002997 -0.000326  0.000000  0.000000   \n",
       "SiO2                    5.0  0.002795  0.004490  0.000000  0.000000  0.000436   \n",
       "CaO                     5.0  0.003102  0.005218  0.000000  0.000000  0.000039   \n",
       "K2O                     5.0  0.003258  0.005790  0.000000  0.000000  0.000851   \n",
       "SO3                     5.0  0.004724  0.007320  0.000000  0.000000  0.000308   \n",
       "IR                      5.0  0.029058  0.027892 -0.000253  0.008735  0.028395   \n",
       "LOI                     5.0  0.033109  0.024254  0.005698  0.016227  0.029330   \n",
       "Blaine                  5.0  0.522316  0.598807  0.035298  0.195484  0.200040   \n",
       "#325                    5.0  0.555516  0.494350  0.005636  0.205166  0.572128   \n",
       "\n",
       "                           75%       max  \n",
       "Initial setting time  0.000000  0.000344  \n",
       "Na2O                  0.000000  0.000673  \n",
       "Fe2O3                 0.000752  0.008324  \n",
       "MgO                   0.000322  0.000913  \n",
       "Final setting time    0.002118  0.002813  \n",
       "Al2O3                 0.000252  0.006668  \n",
       "SiO2                  0.003037  0.010502  \n",
       "CaO                   0.003416  0.012055  \n",
       "K2O                   0.001921  0.013520  \n",
       "SO3                   0.006458  0.016856  \n",
       "IR                    0.037263  0.071152  \n",
       "LOI                   0.048570  0.065718  \n",
       "Blaine                0.677451  1.503308  \n",
       "#325                  0.712941  1.281710  "
      ]
     },
     "execution_count": 41,
     "metadata": {},
     "output_type": "execute_result"
    },
    {
     "data": {
      "application/javascript": [
       "\n",
       "            setTimeout(function() {\n",
       "                var nbb_cell_id = 41;\n",
       "                var nbb_unformatted_code = \"perm_importances_df.describe().T\";\n",
       "                var nbb_formatted_code = \"perm_importances_df.describe().T\";\n",
       "                var nbb_cells = Jupyter.notebook.get_cells();\n",
       "                for (var i = 0; i < nbb_cells.length; ++i) {\n",
       "                    if (nbb_cells[i].input_prompt_number == nbb_cell_id) {\n",
       "                        if (nbb_cells[i].get_text() == nbb_unformatted_code) {\n",
       "                             nbb_cells[i].set_text(nbb_formatted_code);\n",
       "                        }\n",
       "                        break;\n",
       "                    }\n",
       "                }\n",
       "            }, 500);\n",
       "            "
      ],
      "text/plain": [
       "<IPython.core.display.Javascript object>"
      ]
     },
     "metadata": {},
     "output_type": "display_data"
    }
   ],
   "source": [
    "perm_importances_df.describe().T"
   ]
  },
  {
   "cell_type": "code",
   "execution_count": 42,
   "id": "270a9768",
   "metadata": {},
   "outputs": [
    {
     "data": {
      "text/html": [
       "<div>\n",
       "<style scoped>\n",
       "    .dataframe tbody tr th:only-of-type {\n",
       "        vertical-align: middle;\n",
       "    }\n",
       "\n",
       "    .dataframe tbody tr th {\n",
       "        vertical-align: top;\n",
       "    }\n",
       "\n",
       "    .dataframe thead th {\n",
       "        text-align: right;\n",
       "    }\n",
       "</style>\n",
       "<table border=\"1\" class=\"dataframe\">\n",
       "  <thead>\n",
       "    <tr style=\"text-align: right;\">\n",
       "      <th></th>\n",
       "      <th>Initial setting time</th>\n",
       "      <th>Na2O</th>\n",
       "      <th>Fe2O3</th>\n",
       "      <th>MgO</th>\n",
       "      <th>Final setting time</th>\n",
       "      <th>Al2O3</th>\n",
       "      <th>SiO2</th>\n",
       "      <th>CaO</th>\n",
       "      <th>K2O</th>\n",
       "      <th>SO3</th>\n",
       "      <th>IR</th>\n",
       "      <th>LOI</th>\n",
       "      <th>Blaine</th>\n",
       "      <th>#325</th>\n",
       "    </tr>\n",
       "  </thead>\n",
       "  <tbody>\n",
       "    <tr>\n",
       "      <th>0</th>\n",
       "      <td>0.000000</td>\n",
       "      <td>0.000673</td>\n",
       "      <td>0.000752</td>\n",
       "      <td>0.000322</td>\n",
       "      <td>0.001267</td>\n",
       "      <td>0.000000</td>\n",
       "      <td>0.000000</td>\n",
       "      <td>0.000039</td>\n",
       "      <td>0.000000</td>\n",
       "      <td>0.000000</td>\n",
       "      <td>-0.000253</td>\n",
       "      <td>0.005698</td>\n",
       "      <td>0.200040</td>\n",
       "      <td>0.712941</td>\n",
       "    </tr>\n",
       "    <tr>\n",
       "      <th>1</th>\n",
       "      <td>0.000000</td>\n",
       "      <td>0.000000</td>\n",
       "      <td>-0.000106</td>\n",
       "      <td>0.000913</td>\n",
       "      <td>0.002118</td>\n",
       "      <td>-0.000326</td>\n",
       "      <td>0.003037</td>\n",
       "      <td>0.000000</td>\n",
       "      <td>0.013520</td>\n",
       "      <td>0.000308</td>\n",
       "      <td>0.008735</td>\n",
       "      <td>0.065718</td>\n",
       "      <td>1.503308</td>\n",
       "      <td>0.005636</td>\n",
       "    </tr>\n",
       "    <tr>\n",
       "      <th>2</th>\n",
       "      <td>0.000344</td>\n",
       "      <td>-0.000269</td>\n",
       "      <td>0.000386</td>\n",
       "      <td>0.000002</td>\n",
       "      <td>0.000000</td>\n",
       "      <td>0.000252</td>\n",
       "      <td>0.000436</td>\n",
       "      <td>0.000000</td>\n",
       "      <td>0.000851</td>\n",
       "      <td>0.016856</td>\n",
       "      <td>0.028395</td>\n",
       "      <td>0.016227</td>\n",
       "      <td>0.195484</td>\n",
       "      <td>0.572128</td>\n",
       "    </tr>\n",
       "    <tr>\n",
       "      <th>3</th>\n",
       "      <td>0.000000</td>\n",
       "      <td>0.000000</td>\n",
       "      <td>0.008324</td>\n",
       "      <td>-0.000257</td>\n",
       "      <td>0.000000</td>\n",
       "      <td>0.000000</td>\n",
       "      <td>0.010502</td>\n",
       "      <td>0.003416</td>\n",
       "      <td>0.001921</td>\n",
       "      <td>0.000000</td>\n",
       "      <td>0.071152</td>\n",
       "      <td>0.048570</td>\n",
       "      <td>0.035298</td>\n",
       "      <td>1.281710</td>\n",
       "    </tr>\n",
       "    <tr>\n",
       "      <th>4</th>\n",
       "      <td>0.000000</td>\n",
       "      <td>0.000000</td>\n",
       "      <td>-0.008543</td>\n",
       "      <td>0.000000</td>\n",
       "      <td>0.002813</td>\n",
       "      <td>0.006668</td>\n",
       "      <td>0.000000</td>\n",
       "      <td>0.012055</td>\n",
       "      <td>0.000000</td>\n",
       "      <td>0.006458</td>\n",
       "      <td>0.037263</td>\n",
       "      <td>0.029330</td>\n",
       "      <td>0.677451</td>\n",
       "      <td>0.205166</td>\n",
       "    </tr>\n",
       "  </tbody>\n",
       "</table>\n",
       "</div>"
      ],
      "text/plain": [
       "   Initial setting time      Na2O     Fe2O3       MgO  Final setting time  \\\n",
       "0              0.000000  0.000673  0.000752  0.000322            0.001267   \n",
       "1              0.000000  0.000000 -0.000106  0.000913            0.002118   \n",
       "2              0.000344 -0.000269  0.000386  0.000002            0.000000   \n",
       "3              0.000000  0.000000  0.008324 -0.000257            0.000000   \n",
       "4              0.000000  0.000000 -0.008543  0.000000            0.002813   \n",
       "\n",
       "      Al2O3      SiO2       CaO       K2O       SO3        IR       LOI  \\\n",
       "0  0.000000  0.000000  0.000039  0.000000  0.000000 -0.000253  0.005698   \n",
       "1 -0.000326  0.003037  0.000000  0.013520  0.000308  0.008735  0.065718   \n",
       "2  0.000252  0.000436  0.000000  0.000851  0.016856  0.028395  0.016227   \n",
       "3  0.000000  0.010502  0.003416  0.001921  0.000000  0.071152  0.048570   \n",
       "4  0.006668  0.000000  0.012055  0.000000  0.006458  0.037263  0.029330   \n",
       "\n",
       "     Blaine      #325  \n",
       "0  0.200040  0.712941  \n",
       "1  1.503308  0.005636  \n",
       "2  0.195484  0.572128  \n",
       "3  0.035298  1.281710  \n",
       "4  0.677451  0.205166  "
      ]
     },
     "execution_count": 42,
     "metadata": {},
     "output_type": "execute_result"
    },
    {
     "data": {
      "application/javascript": [
       "\n",
       "            setTimeout(function() {\n",
       "                var nbb_cell_id = 42;\n",
       "                var nbb_unformatted_code = \"perm_importances_df\";\n",
       "                var nbb_formatted_code = \"perm_importances_df\";\n",
       "                var nbb_cells = Jupyter.notebook.get_cells();\n",
       "                for (var i = 0; i < nbb_cells.length; ++i) {\n",
       "                    if (nbb_cells[i].input_prompt_number == nbb_cell_id) {\n",
       "                        if (nbb_cells[i].get_text() == nbb_unformatted_code) {\n",
       "                             nbb_cells[i].set_text(nbb_formatted_code);\n",
       "                        }\n",
       "                        break;\n",
       "                    }\n",
       "                }\n",
       "            }, 500);\n",
       "            "
      ],
      "text/plain": [
       "<IPython.core.display.Javascript object>"
      ]
     },
     "metadata": {},
     "output_type": "display_data"
    }
   ],
   "source": [
    "perm_importances_df"
   ]
  },
  {
   "cell_type": "code",
   "execution_count": 43,
   "id": "9bd7e5cc",
   "metadata": {},
   "outputs": [
    {
     "data": {
      "text/plain": [
       "Initial setting time    0.000069\n",
       "Na2O                    0.000081\n",
       "Fe2O3                   0.000163\n",
       "MgO                     0.000196\n",
       "Final setting time      0.001240\n",
       "Al2O3                   0.001319\n",
       "SiO2                    0.002795\n",
       "CaO                     0.003102\n",
       "K2O                     0.003258\n",
       "SO3                     0.004724\n",
       "IR                      0.029058\n",
       "LOI                     0.033109\n",
       "Blaine                  0.522316\n",
       "#325                    0.555516\n",
       "dtype: float64"
      ]
     },
     "execution_count": 43,
     "metadata": {},
     "output_type": "execute_result"
    },
    {
     "data": {
      "application/javascript": [
       "\n",
       "            setTimeout(function() {\n",
       "                var nbb_cell_id = 43;\n",
       "                var nbb_unformatted_code = \"perm_importances_df.mean(axis=0)\";\n",
       "                var nbb_formatted_code = \"perm_importances_df.mean(axis=0)\";\n",
       "                var nbb_cells = Jupyter.notebook.get_cells();\n",
       "                for (var i = 0; i < nbb_cells.length; ++i) {\n",
       "                    if (nbb_cells[i].input_prompt_number == nbb_cell_id) {\n",
       "                        if (nbb_cells[i].get_text() == nbb_unformatted_code) {\n",
       "                             nbb_cells[i].set_text(nbb_formatted_code);\n",
       "                        }\n",
       "                        break;\n",
       "                    }\n",
       "                }\n",
       "            }, 500);\n",
       "            "
      ],
      "text/plain": [
       "<IPython.core.display.Javascript object>"
      ]
     },
     "metadata": {},
     "output_type": "display_data"
    }
   ],
   "source": [
    "perm_importances_df.mean(axis=0)"
   ]
  },
  {
   "cell_type": "code",
   "execution_count": 44,
   "id": "964f46d3",
   "metadata": {},
   "outputs": [
    {
     "data": {
      "text/plain": [
       "Initial setting time    0.000138\n",
       "Na2O                    0.000314\n",
       "Fe2O3                   0.005346\n",
       "MgO                     0.000403\n",
       "Final setting time      0.001124\n",
       "Al2O3                   0.002681\n",
       "SiO2                    0.004016\n",
       "CaO                     0.004667\n",
       "K2O                     0.005179\n",
       "SO3                     0.006547\n",
       "IR                      0.024947\n",
       "LOI                     0.021694\n",
       "Blaine                  0.535589\n",
       "#325                    0.442160\n",
       "dtype: float64"
      ]
     },
     "execution_count": 44,
     "metadata": {},
     "output_type": "execute_result"
    },
    {
     "data": {
      "application/javascript": [
       "\n",
       "            setTimeout(function() {\n",
       "                var nbb_cell_id = 44;\n",
       "                var nbb_unformatted_code = \"perm_importances_df.std(axis=0, ddof=0)\";\n",
       "                var nbb_formatted_code = \"perm_importances_df.std(axis=0, ddof=0)\";\n",
       "                var nbb_cells = Jupyter.notebook.get_cells();\n",
       "                for (var i = 0; i < nbb_cells.length; ++i) {\n",
       "                    if (nbb_cells[i].input_prompt_number == nbb_cell_id) {\n",
       "                        if (nbb_cells[i].get_text() == nbb_unformatted_code) {\n",
       "                             nbb_cells[i].set_text(nbb_formatted_code);\n",
       "                        }\n",
       "                        break;\n",
       "                    }\n",
       "                }\n",
       "            }, 500);\n",
       "            "
      ],
      "text/plain": [
       "<IPython.core.display.Javascript object>"
      ]
     },
     "metadata": {},
     "output_type": "display_data"
    }
   ],
   "source": [
    "perm_importances_df.std(axis=0, ddof=0)"
   ]
  },
  {
   "cell_type": "code",
   "execution_count": 45,
   "id": "4560d11e",
   "metadata": {},
   "outputs": [
    {
     "data": {
      "application/javascript": [
       "\n",
       "            setTimeout(function() {\n",
       "                var nbb_cell_id = 45;\n",
       "                var nbb_unformatted_code = \"from sklearn.metrics import make_scorer\\n\\ndef compute_scmp(y_true, y_pred):\\n    # Compute the performance metrics\\n    rmse = mean_squared_error(y_true, y_pred, squared=False)\\n    mae = mean_absolute_error(y_true, y_pred)\\n    mape = np.mean(np.abs((y_true - y_pred) / y_true)) * 100\\n    r2 = r2_score(y_true, y_pred)\\n\\n    # Create a DataFrame with these metrics\\n    metrics_df = pd.DataFrame({\\n        \\\"RMSE Test\\\": [rmse],\\n        \\\"MAE Test\\\": [mae],\\n        \\\"MAPE Test\\\": [mape],\\n        \\\"R2 Test\\\": [r2]\\n    })\\n\\n    # Standardize the metrics\\n    scaler = StandardScaler(with_mean=False)\\n    standardized_metrics = scaler.fit_transform(metrics_df)\\n\\n    # Creating a new DataFrame with standardized values\\n    standardized_df = pd.DataFrame(\\n        standardized_metrics,\\n        columns=[\\\"RMSE Test\\\", \\\"MAE Test\\\", \\\"MAPE Test\\\", \\\"R2 Test\\\"],\\n    )\\n\\n    # Compute SCPM: sum errors and subtract R2\\n    scpm = (\\n        standardized_df[\\\"RMSE Test\\\"]\\n        + standardized_df[\\\"MAE Test\\\"]\\n        + standardized_df[\\\"MAPE Test\\\"]\\n        - standardized_df[\\\"R2 Test\\\"]\\n    )\\n\\n    return scpm.iloc[0]  # Return the scalar SCPM score\\n\\n# Convert the SCPM function to a scorer that can be used in permutation_importance\\nscmp_scorer = make_scorer(compute_scmp, greater_is_better=False)\";\n",
       "                var nbb_formatted_code = \"from sklearn.metrics import make_scorer\\n\\n\\ndef compute_scmp(y_true, y_pred):\\n    # Compute the performance metrics\\n    rmse = mean_squared_error(y_true, y_pred, squared=False)\\n    mae = mean_absolute_error(y_true, y_pred)\\n    mape = np.mean(np.abs((y_true - y_pred) / y_true)) * 100\\n    r2 = r2_score(y_true, y_pred)\\n\\n    # Create a DataFrame with these metrics\\n    metrics_df = pd.DataFrame(\\n        {\\\"RMSE Test\\\": [rmse], \\\"MAE Test\\\": [mae], \\\"MAPE Test\\\": [mape], \\\"R2 Test\\\": [r2]}\\n    )\\n\\n    # Standardize the metrics\\n    scaler = StandardScaler(with_mean=False)\\n    standardized_metrics = scaler.fit_transform(metrics_df)\\n\\n    # Creating a new DataFrame with standardized values\\n    standardized_df = pd.DataFrame(\\n        standardized_metrics,\\n        columns=[\\\"RMSE Test\\\", \\\"MAE Test\\\", \\\"MAPE Test\\\", \\\"R2 Test\\\"],\\n    )\\n\\n    # Compute SCPM: sum errors and subtract R2\\n    scpm = (\\n        standardized_df[\\\"RMSE Test\\\"]\\n        + standardized_df[\\\"MAE Test\\\"]\\n        + standardized_df[\\\"MAPE Test\\\"]\\n        - standardized_df[\\\"R2 Test\\\"]\\n    )\\n\\n    return scpm.iloc[0]  # Return the scalar SCPM score\\n\\n\\n# Convert the SCPM function to a scorer that can be used in permutation_importance\\nscmp_scorer = make_scorer(compute_scmp, greater_is_better=False)\";\n",
       "                var nbb_cells = Jupyter.notebook.get_cells();\n",
       "                for (var i = 0; i < nbb_cells.length; ++i) {\n",
       "                    if (nbb_cells[i].input_prompt_number == nbb_cell_id) {\n",
       "                        if (nbb_cells[i].get_text() == nbb_unformatted_code) {\n",
       "                             nbb_cells[i].set_text(nbb_formatted_code);\n",
       "                        }\n",
       "                        break;\n",
       "                    }\n",
       "                }\n",
       "            }, 500);\n",
       "            "
      ],
      "text/plain": [
       "<IPython.core.display.Javascript object>"
      ]
     },
     "metadata": {},
     "output_type": "display_data"
    }
   ],
   "source": [
    "from sklearn.metrics import make_scorer\n",
    "\n",
    "def compute_scmp(y_true, y_pred):\n",
    "    # Compute the performance metrics\n",
    "    rmse = mean_squared_error(y_true, y_pred, squared=False)\n",
    "    mae = mean_absolute_error(y_true, y_pred)\n",
    "    mape = np.mean(np.abs((y_true - y_pred) / y_true)) * 100\n",
    "    r2 = r2_score(y_true, y_pred)\n",
    "\n",
    "    # Create a DataFrame with these metrics\n",
    "    metrics_df = pd.DataFrame({\n",
    "        \"RMSE Test\": [rmse],\n",
    "        \"MAE Test\": [mae],\n",
    "        \"MAPE Test\": [mape],\n",
    "        \"R2 Test\": [r2]\n",
    "    })\n",
    "\n",
    "    # Standardize the metrics\n",
    "    scaler = StandardScaler(with_mean=False)\n",
    "    standardized_metrics = scaler.fit_transform(metrics_df)\n",
    "\n",
    "    # Creating a new DataFrame with standardized values\n",
    "    standardized_df = pd.DataFrame(\n",
    "        standardized_metrics,\n",
    "        columns=[\"RMSE Test\", \"MAE Test\", \"MAPE Test\", \"R2 Test\"],\n",
    "    )\n",
    "\n",
    "    # Compute SCPM: sum errors and subtract R2\n",
    "    scpm = (\n",
    "        standardized_df[\"RMSE Test\"]\n",
    "        + standardized_df[\"MAE Test\"]\n",
    "        + standardized_df[\"MAPE Test\"]\n",
    "        - standardized_df[\"R2 Test\"]\n",
    "    )\n",
    "\n",
    "    return scpm.iloc[0]  # Return the scalar SCPM score\n",
    "\n",
    "# Convert the SCPM function to a scorer that can be used in permutation_importance\n",
    "scmp_scorer = make_scorer(compute_scmp, greater_is_better=False)\n"
   ]
  },
  {
   "cell_type": "code",
   "execution_count": 46,
   "id": "0d7b58bc",
   "metadata": {},
   "outputs": [
    {
     "data": {
      "text/html": [
       "<div>\n",
       "<style scoped>\n",
       "    .dataframe tbody tr th:only-of-type {\n",
       "        vertical-align: middle;\n",
       "    }\n",
       "\n",
       "    .dataframe tbody tr th {\n",
       "        vertical-align: top;\n",
       "    }\n",
       "\n",
       "    .dataframe thead th {\n",
       "        text-align: right;\n",
       "    }\n",
       "</style>\n",
       "<table border=\"1\" class=\"dataframe\">\n",
       "  <thead>\n",
       "    <tr style=\"text-align: right;\">\n",
       "      <th></th>\n",
       "      <th>count</th>\n",
       "      <th>mean</th>\n",
       "      <th>std</th>\n",
       "      <th>min</th>\n",
       "      <th>25%</th>\n",
       "      <th>50%</th>\n",
       "      <th>75%</th>\n",
       "      <th>max</th>\n",
       "    </tr>\n",
       "  </thead>\n",
       "  <tbody>\n",
       "    <tr>\n",
       "      <th>Initial setting time</th>\n",
       "      <td>4.0</td>\n",
       "      <td>0.000086</td>\n",
       "      <td>0.000172</td>\n",
       "      <td>0.000000</td>\n",
       "      <td>0.000000</td>\n",
       "      <td>0.000000e+00</td>\n",
       "      <td>0.000086</td>\n",
       "      <td>0.000344</td>\n",
       "    </tr>\n",
       "    <tr>\n",
       "      <th>Na2O</th>\n",
       "      <td>4.0</td>\n",
       "      <td>0.000101</td>\n",
       "      <td>0.000402</td>\n",
       "      <td>-0.000269</td>\n",
       "      <td>-0.000067</td>\n",
       "      <td>0.000000e+00</td>\n",
       "      <td>0.000168</td>\n",
       "      <td>0.000673</td>\n",
       "    </tr>\n",
       "    <tr>\n",
       "      <th>Fe2O3</th>\n",
       "      <td>4.0</td>\n",
       "      <td>0.000230</td>\n",
       "      <td>0.006899</td>\n",
       "      <td>-0.008543</td>\n",
       "      <td>-0.001846</td>\n",
       "      <td>5.691180e-04</td>\n",
       "      <td>0.002645</td>\n",
       "      <td>0.008324</td>\n",
       "    </tr>\n",
       "    <tr>\n",
       "      <th>MgO</th>\n",
       "      <td>4.0</td>\n",
       "      <td>0.000017</td>\n",
       "      <td>0.000237</td>\n",
       "      <td>-0.000257</td>\n",
       "      <td>-0.000064</td>\n",
       "      <td>8.302762e-07</td>\n",
       "      <td>0.000082</td>\n",
       "      <td>0.000322</td>\n",
       "    </tr>\n",
       "    <tr>\n",
       "      <th>Final setting time</th>\n",
       "      <td>4.0</td>\n",
       "      <td>0.001020</td>\n",
       "      <td>0.001336</td>\n",
       "      <td>0.000000</td>\n",
       "      <td>0.000000</td>\n",
       "      <td>6.335712e-04</td>\n",
       "      <td>0.001654</td>\n",
       "      <td>0.002813</td>\n",
       "    </tr>\n",
       "    <tr>\n",
       "      <th>Al2O3</th>\n",
       "      <td>4.0</td>\n",
       "      <td>0.001730</td>\n",
       "      <td>0.003294</td>\n",
       "      <td>0.000000</td>\n",
       "      <td>0.000000</td>\n",
       "      <td>1.259670e-04</td>\n",
       "      <td>0.001856</td>\n",
       "      <td>0.006668</td>\n",
       "    </tr>\n",
       "    <tr>\n",
       "      <th>SiO2</th>\n",
       "      <td>4.0</td>\n",
       "      <td>0.002735</td>\n",
       "      <td>0.005183</td>\n",
       "      <td>0.000000</td>\n",
       "      <td>0.000000</td>\n",
       "      <td>2.181799e-04</td>\n",
       "      <td>0.002953</td>\n",
       "      <td>0.010502</td>\n",
       "    </tr>\n",
       "    <tr>\n",
       "      <th>CaO</th>\n",
       "      <td>4.0</td>\n",
       "      <td>0.003878</td>\n",
       "      <td>0.005682</td>\n",
       "      <td>0.000000</td>\n",
       "      <td>0.000029</td>\n",
       "      <td>1.727329e-03</td>\n",
       "      <td>0.005576</td>\n",
       "      <td>0.012055</td>\n",
       "    </tr>\n",
       "    <tr>\n",
       "      <th>K2O</th>\n",
       "      <td>4.0</td>\n",
       "      <td>0.000693</td>\n",
       "      <td>0.000912</td>\n",
       "      <td>0.000000</td>\n",
       "      <td>0.000000</td>\n",
       "      <td>4.256135e-04</td>\n",
       "      <td>0.001119</td>\n",
       "      <td>0.001921</td>\n",
       "    </tr>\n",
       "    <tr>\n",
       "      <th>SO3</th>\n",
       "      <td>4.0</td>\n",
       "      <td>0.005828</td>\n",
       "      <td>0.007957</td>\n",
       "      <td>0.000000</td>\n",
       "      <td>0.000000</td>\n",
       "      <td>3.229047e-03</td>\n",
       "      <td>0.009057</td>\n",
       "      <td>0.016856</td>\n",
       "    </tr>\n",
       "    <tr>\n",
       "      <th>IR</th>\n",
       "      <td>4.0</td>\n",
       "      <td>0.034139</td>\n",
       "      <td>0.029414</td>\n",
       "      <td>-0.000253</td>\n",
       "      <td>0.021233</td>\n",
       "      <td>3.282894e-02</td>\n",
       "      <td>0.045735</td>\n",
       "      <td>0.071152</td>\n",
       "    </tr>\n",
       "    <tr>\n",
       "      <th>LOI</th>\n",
       "      <td>4.0</td>\n",
       "      <td>0.024956</td>\n",
       "      <td>0.018474</td>\n",
       "      <td>0.005698</td>\n",
       "      <td>0.013595</td>\n",
       "      <td>2.277830e-02</td>\n",
       "      <td>0.034140</td>\n",
       "      <td>0.048570</td>\n",
       "    </tr>\n",
       "    <tr>\n",
       "      <th>Blaine</th>\n",
       "      <td>4.0</td>\n",
       "      <td>0.277068</td>\n",
       "      <td>0.277698</td>\n",
       "      <td>0.035298</td>\n",
       "      <td>0.155438</td>\n",
       "      <td>1.977621e-01</td>\n",
       "      <td>0.319393</td>\n",
       "      <td>0.677451</td>\n",
       "    </tr>\n",
       "    <tr>\n",
       "      <th>#325</th>\n",
       "      <td>4.0</td>\n",
       "      <td>0.692986</td>\n",
       "      <td>0.447053</td>\n",
       "      <td>0.205166</td>\n",
       "      <td>0.480388</td>\n",
       "      <td>6.425345e-01</td>\n",
       "      <td>0.855133</td>\n",
       "      <td>1.281710</td>\n",
       "    </tr>\n",
       "  </tbody>\n",
       "</table>\n",
       "</div>"
      ],
      "text/plain": [
       "                      count      mean       std       min       25%  \\\n",
       "Initial setting time    4.0  0.000086  0.000172  0.000000  0.000000   \n",
       "Na2O                    4.0  0.000101  0.000402 -0.000269 -0.000067   \n",
       "Fe2O3                   4.0  0.000230  0.006899 -0.008543 -0.001846   \n",
       "MgO                     4.0  0.000017  0.000237 -0.000257 -0.000064   \n",
       "Final setting time      4.0  0.001020  0.001336  0.000000  0.000000   \n",
       "Al2O3                   4.0  0.001730  0.003294  0.000000  0.000000   \n",
       "SiO2                    4.0  0.002735  0.005183  0.000000  0.000000   \n",
       "CaO                     4.0  0.003878  0.005682  0.000000  0.000029   \n",
       "K2O                     4.0  0.000693  0.000912  0.000000  0.000000   \n",
       "SO3                     4.0  0.005828  0.007957  0.000000  0.000000   \n",
       "IR                      4.0  0.034139  0.029414 -0.000253  0.021233   \n",
       "LOI                     4.0  0.024956  0.018474  0.005698  0.013595   \n",
       "Blaine                  4.0  0.277068  0.277698  0.035298  0.155438   \n",
       "#325                    4.0  0.692986  0.447053  0.205166  0.480388   \n",
       "\n",
       "                               50%       75%       max  \n",
       "Initial setting time  0.000000e+00  0.000086  0.000344  \n",
       "Na2O                  0.000000e+00  0.000168  0.000673  \n",
       "Fe2O3                 5.691180e-04  0.002645  0.008324  \n",
       "MgO                   8.302762e-07  0.000082  0.000322  \n",
       "Final setting time    6.335712e-04  0.001654  0.002813  \n",
       "Al2O3                 1.259670e-04  0.001856  0.006668  \n",
       "SiO2                  2.181799e-04  0.002953  0.010502  \n",
       "CaO                   1.727329e-03  0.005576  0.012055  \n",
       "K2O                   4.256135e-04  0.001119  0.001921  \n",
       "SO3                   3.229047e-03  0.009057  0.016856  \n",
       "IR                    3.282894e-02  0.045735  0.071152  \n",
       "LOI                   2.277830e-02  0.034140  0.048570  \n",
       "Blaine                1.977621e-01  0.319393  0.677451  \n",
       "#325                  6.425345e-01  0.855133  1.281710  "
      ]
     },
     "execution_count": 46,
     "metadata": {},
     "output_type": "execute_result"
    },
    {
     "data": {
      "application/javascript": [
       "\n",
       "            setTimeout(function() {\n",
       "                var nbb_cell_id = 46;\n",
       "                var nbb_unformatted_code = \"perm_importances_df.drop(perm_importances_df[\\\"Blaine\\\"].idxmax()).describe().T\";\n",
       "                var nbb_formatted_code = \"perm_importances_df.drop(perm_importances_df[\\\"Blaine\\\"].idxmax()).describe().T\";\n",
       "                var nbb_cells = Jupyter.notebook.get_cells();\n",
       "                for (var i = 0; i < nbb_cells.length; ++i) {\n",
       "                    if (nbb_cells[i].input_prompt_number == nbb_cell_id) {\n",
       "                        if (nbb_cells[i].get_text() == nbb_unformatted_code) {\n",
       "                             nbb_cells[i].set_text(nbb_formatted_code);\n",
       "                        }\n",
       "                        break;\n",
       "                    }\n",
       "                }\n",
       "            }, 500);\n",
       "            "
      ],
      "text/plain": [
       "<IPython.core.display.Javascript object>"
      ]
     },
     "metadata": {},
     "output_type": "display_data"
    }
   ],
   "source": [
    "perm_importances_df.drop(perm_importances_df[\"Blaine\"].idxmax()).describe().T"
   ]
  },
  {
   "cell_type": "code",
   "execution_count": null,
   "id": "a5c6076d",
   "metadata": {},
   "outputs": [],
   "source": []
  }
 ],
 "metadata": {
  "kernelspec": {
   "display_name": "ccs28-venv",
   "language": "python",
   "name": "ccs28-venv"
  },
  "language_info": {
   "codemirror_mode": {
    "name": "ipython",
    "version": 3
   },
   "file_extension": ".py",
   "mimetype": "text/x-python",
   "name": "python",
   "nbconvert_exporter": "python",
   "pygments_lexer": "ipython3",
   "version": "3.10.12"
  }
 },
 "nbformat": 4,
 "nbformat_minor": 5
}
