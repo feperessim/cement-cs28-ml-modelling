{
 "cells": [
  {
   "cell_type": "code",
   "execution_count": 1,
   "id": "a51c55d3",
   "metadata": {
    "execution": {
     "iopub.execute_input": "2024-01-29T01:33:25.408745Z",
     "iopub.status.busy": "2024-01-29T01:33:25.408208Z",
     "iopub.status.idle": "2024-01-29T01:33:25.541047Z",
     "shell.execute_reply": "2024-01-29T01:33:25.539232Z"
    },
    "papermill": {
     "duration": 0.145732,
     "end_time": "2024-01-29T01:33:25.544437",
     "exception": false,
     "start_time": "2024-01-29T01:33:25.398705",
     "status": "completed"
    },
    "tags": []
   },
   "outputs": [
    {
     "data": {
      "application/javascript": [
       "\n",
       "            setTimeout(function() {\n",
       "                var nbb_cell_id = 1;\n",
       "                var nbb_unformatted_code = \"%load_ext nb_black\";\n",
       "                var nbb_formatted_code = \"%load_ext nb_black\";\n",
       "                var nbb_cells = Jupyter.notebook.get_cells();\n",
       "                for (var i = 0; i < nbb_cells.length; ++i) {\n",
       "                    if (nbb_cells[i].input_prompt_number == nbb_cell_id) {\n",
       "                        if (nbb_cells[i].get_text() == nbb_unformatted_code) {\n",
       "                             nbb_cells[i].set_text(nbb_formatted_code);\n",
       "                        }\n",
       "                        break;\n",
       "                    }\n",
       "                }\n",
       "            }, 500);\n",
       "            "
      ],
      "text/plain": [
       "<IPython.core.display.Javascript object>"
      ]
     },
     "metadata": {},
     "output_type": "display_data"
    }
   ],
   "source": [
    "%load_ext nb_black"
   ]
  },
  {
   "cell_type": "code",
   "execution_count": 2,
   "id": "514113f9",
   "metadata": {
    "execution": {
     "iopub.execute_input": "2024-01-29T01:33:25.560540Z",
     "iopub.status.busy": "2024-01-29T01:33:25.560008Z",
     "iopub.status.idle": "2024-01-29T01:33:27.610281Z",
     "shell.execute_reply": "2024-01-29T01:33:27.608362Z"
    },
    "papermill": {
     "duration": 2.061953,
     "end_time": "2024-01-29T01:33:27.613433",
     "exception": false,
     "start_time": "2024-01-29T01:33:25.551480",
     "status": "completed"
    },
    "tags": []
   },
   "outputs": [
    {
     "data": {
      "application/javascript": [
       "\n",
       "            setTimeout(function() {\n",
       "                var nbb_cell_id = 2;\n",
       "                var nbb_unformatted_code = \"# OS Features\\nimport os\\n\\n# Database Reading and Manipulation\\nimport pandas as pd\\n\\n# Linear Algebra\\nimport numpy as np\\n\\n# Plotting\\nimport matplotlib.pyplot as plt\\n\\n# Processing results\\nimport json\\n\\n# Model Selection\\nfrom sklearn.model_selection import train_test_split\\nfrom sklearn.model_selection import TimeSeriesSplit\\nfrom sklearn.model_selection import RepeatedKFold\\nfrom sklearn.model_selection import cross_val_score\\nfrom sklearn.model_selection import cross_validate\\nfrom sklearn.model_selection import GridSearchCV\\n\\n# Custom modules\\n## Model selection\\nfrom src.cross_validation.blocking_time_series_split import BlockingTimeSeriesSplit\\n\\n## Function to print scores\\nfrom src.utils.print_scores import print_scores\\n\\n## Function to calculate score regression metrics\\nfrom src.utils.score_regression_metrics import score_regression_metrics\\n\\n## Function to fill the results metric dict\\nfrom src.utils.fill_results_dict import fill_results_dict\\n\\n# Modeling\\nfrom sklearn.linear_model import LinearRegression\\n\\n# Preprocessing - Data standardization\\nfrom sklearn.preprocessing import StandardScaler\\n\\n# Metrics\\nfrom sklearn.metrics import mean_squared_error\\nfrom sklearn.metrics import mean_absolute_error\\nfrom sklearn.metrics import mean_absolute_percentage_error\\nfrom sklearn.metrics import r2_score\\n\\n# Pipeline\\nfrom sklearn.pipeline import Pipeline\\n\\n# Data imputation\\nfrom sklearn.impute import SimpleImputer\";\n",
       "                var nbb_formatted_code = \"# OS Features\\nimport os\\n\\n# Database Reading and Manipulation\\nimport pandas as pd\\n\\n# Linear Algebra\\nimport numpy as np\\n\\n# Plotting\\nimport matplotlib.pyplot as plt\\n\\n# Processing results\\nimport json\\n\\n# Model Selection\\nfrom sklearn.model_selection import train_test_split\\nfrom sklearn.model_selection import TimeSeriesSplit\\nfrom sklearn.model_selection import RepeatedKFold\\nfrom sklearn.model_selection import cross_val_score\\nfrom sklearn.model_selection import cross_validate\\nfrom sklearn.model_selection import GridSearchCV\\n\\n# Custom modules\\n## Model selection\\nfrom src.cross_validation.blocking_time_series_split import BlockingTimeSeriesSplit\\n\\n## Function to print scores\\nfrom src.utils.print_scores import print_scores\\n\\n## Function to calculate score regression metrics\\nfrom src.utils.score_regression_metrics import score_regression_metrics\\n\\n## Function to fill the results metric dict\\nfrom src.utils.fill_results_dict import fill_results_dict\\n\\n# Modeling\\nfrom sklearn.linear_model import LinearRegression\\n\\n# Preprocessing - Data standardization\\nfrom sklearn.preprocessing import StandardScaler\\n\\n# Metrics\\nfrom sklearn.metrics import mean_squared_error\\nfrom sklearn.metrics import mean_absolute_error\\nfrom sklearn.metrics import mean_absolute_percentage_error\\nfrom sklearn.metrics import r2_score\\n\\n# Pipeline\\nfrom sklearn.pipeline import Pipeline\\n\\n# Data imputation\\nfrom sklearn.impute import SimpleImputer\";\n",
       "                var nbb_cells = Jupyter.notebook.get_cells();\n",
       "                for (var i = 0; i < nbb_cells.length; ++i) {\n",
       "                    if (nbb_cells[i].input_prompt_number == nbb_cell_id) {\n",
       "                        if (nbb_cells[i].get_text() == nbb_unformatted_code) {\n",
       "                             nbb_cells[i].set_text(nbb_formatted_code);\n",
       "                        }\n",
       "                        break;\n",
       "                    }\n",
       "                }\n",
       "            }, 500);\n",
       "            "
      ],
      "text/plain": [
       "<IPython.core.display.Javascript object>"
      ]
     },
     "metadata": {},
     "output_type": "display_data"
    }
   ],
   "source": [
    "# OS Features\n",
    "import os\n",
    "\n",
    "# Database Reading and Manipulation\n",
    "import pandas as pd\n",
    "\n",
    "# Linear Algebra\n",
    "import numpy as np\n",
    "\n",
    "# Plotting\n",
    "import matplotlib.pyplot as plt\n",
    "\n",
    "# Processing results\n",
    "import json\n",
    "\n",
    "# Model Selection\n",
    "from sklearn.model_selection import train_test_split\n",
    "from sklearn.model_selection import TimeSeriesSplit\n",
    "from sklearn.model_selection import RepeatedKFold\n",
    "from sklearn.model_selection import cross_val_score\n",
    "from sklearn.model_selection import cross_validate\n",
    "from sklearn.model_selection import GridSearchCV\n",
    "\n",
    "# Custom modules\n",
    "## Model selection\n",
    "from src.cross_validation.blocking_time_series_split import BlockingTimeSeriesSplit\n",
    "\n",
    "## Function to print scores\n",
    "from src.utils.print_scores import print_scores\n",
    "\n",
    "## Function to calculate score regression metrics\n",
    "from src.utils.score_regression_metrics import score_regression_metrics\n",
    "\n",
    "## Function to fill the results metric dict\n",
    "from src.utils.fill_results_dict import fill_results_dict\n",
    "\n",
    "# Modeling\n",
    "from sklearn.linear_model import LinearRegression\n",
    "\n",
    "# Preprocessing - Data standardization\n",
    "from sklearn.preprocessing import StandardScaler\n",
    "\n",
    "# Metrics\n",
    "from sklearn.metrics import mean_squared_error\n",
    "from sklearn.metrics import mean_absolute_error\n",
    "from sklearn.metrics import mean_absolute_percentage_error\n",
    "from sklearn.metrics import r2_score\n",
    "\n",
    "# Pipeline\n",
    "from sklearn.pipeline import Pipeline\n",
    "\n",
    "# Data imputation\n",
    "from sklearn.impute import SimpleImputer"
   ]
  },
  {
   "cell_type": "markdown",
   "id": "ab15e5de",
   "metadata": {
    "papermill": {
     "duration": 0.008031,
     "end_time": "2024-01-29T01:33:27.629498",
     "exception": false,
     "start_time": "2024-01-29T01:33:27.621467",
     "status": "completed"
    },
    "tags": []
   },
   "source": [
    "# Functions and definitions"
   ]
  },
  {
   "cell_type": "code",
   "execution_count": 3,
   "id": "3aa15e87",
   "metadata": {
    "execution": {
     "iopub.execute_input": "2024-01-29T01:33:27.648230Z",
     "iopub.status.busy": "2024-01-29T01:33:27.647242Z",
     "iopub.status.idle": "2024-01-29T01:33:27.669141Z",
     "shell.execute_reply": "2024-01-29T01:33:27.666034Z"
    },
    "papermill": {
     "duration": 0.036358,
     "end_time": "2024-01-29T01:33:27.672961",
     "exception": false,
     "start_time": "2024-01-29T01:33:27.636603",
     "status": "completed"
    },
    "tags": []
   },
   "outputs": [
    {
     "data": {
      "application/javascript": [
       "\n",
       "            setTimeout(function() {\n",
       "                var nbb_cell_id = 3;\n",
       "                var nbb_unformatted_code = \"SEED = 47\\nMETRICS = (\\n    \\\"neg_root_mean_squared_error\\\",\\n    \\\"neg_mean_absolute_error\\\",\\n    \\\"neg_mean_absolute_percentage_error\\\",\\n    \\\"r2\\\",\\n)\\nMETRICS_DICT = {\\n    \\\"neg_root_mean_squared_error\\\": \\\"RMSE\\\",\\n    \\\"neg_mean_absolute_error\\\": \\\"MAE\\\",\\n    \\\"neg_mean_absolute_percentage_error\\\": \\\"MAPE\\\",\\n    \\\"r2\\\": \\\"R2\\\",\\n}\";\n",
       "                var nbb_formatted_code = \"SEED = 47\\nMETRICS = (\\n    \\\"neg_root_mean_squared_error\\\",\\n    \\\"neg_mean_absolute_error\\\",\\n    \\\"neg_mean_absolute_percentage_error\\\",\\n    \\\"r2\\\",\\n)\\nMETRICS_DICT = {\\n    \\\"neg_root_mean_squared_error\\\": \\\"RMSE\\\",\\n    \\\"neg_mean_absolute_error\\\": \\\"MAE\\\",\\n    \\\"neg_mean_absolute_percentage_error\\\": \\\"MAPE\\\",\\n    \\\"r2\\\": \\\"R2\\\",\\n}\";\n",
       "                var nbb_cells = Jupyter.notebook.get_cells();\n",
       "                for (var i = 0; i < nbb_cells.length; ++i) {\n",
       "                    if (nbb_cells[i].input_prompt_number == nbb_cell_id) {\n",
       "                        if (nbb_cells[i].get_text() == nbb_unformatted_code) {\n",
       "                             nbb_cells[i].set_text(nbb_formatted_code);\n",
       "                        }\n",
       "                        break;\n",
       "                    }\n",
       "                }\n",
       "            }, 500);\n",
       "            "
      ],
      "text/plain": [
       "<IPython.core.display.Javascript object>"
      ]
     },
     "metadata": {},
     "output_type": "display_data"
    }
   ],
   "source": [
    "SEED = 47\n",
    "METRICS = (\n",
    "    \"neg_root_mean_squared_error\",\n",
    "    \"neg_mean_absolute_error\",\n",
    "    \"neg_mean_absolute_percentage_error\",\n",
    "    \"r2\",\n",
    ")\n",
    "METRICS_DICT = {\n",
    "    \"neg_root_mean_squared_error\": \"RMSE\",\n",
    "    \"neg_mean_absolute_error\": \"MAE\",\n",
    "    \"neg_mean_absolute_percentage_error\": \"MAPE\",\n",
    "    \"r2\": \"R2\",\n",
    "}"
   ]
  },
  {
   "cell_type": "markdown",
   "id": "f971ad48",
   "metadata": {
    "papermill": {
     "duration": 0.007697,
     "end_time": "2024-01-29T01:33:27.687627",
     "exception": false,
     "start_time": "2024-01-29T01:33:27.679930",
     "status": "completed"
    },
    "tags": []
   },
   "source": [
    "## Defining a dataframe structure to save the results"
   ]
  },
  {
   "cell_type": "code",
   "execution_count": 4,
   "id": "cf0756ff",
   "metadata": {
    "execution": {
     "iopub.execute_input": "2024-01-29T01:33:27.704402Z",
     "iopub.status.busy": "2024-01-29T01:33:27.703888Z",
     "iopub.status.idle": "2024-01-29T01:33:27.723793Z",
     "shell.execute_reply": "2024-01-29T01:33:27.722095Z"
    },
    "papermill": {
     "duration": 0.033731,
     "end_time": "2024-01-29T01:33:27.728271",
     "exception": false,
     "start_time": "2024-01-29T01:33:27.694540",
     "status": "completed"
    },
    "tags": []
   },
   "outputs": [
    {
     "data": {
      "application/javascript": [
       "\n",
       "            setTimeout(function() {\n",
       "                var nbb_cell_id = 4;\n",
       "                var nbb_unformatted_code = \"results_to_save = []\\n\\nresults_dict = {\\n    \\\"Category\\\": \\\"Local Model\\\",\\n    \\\"Company\\\": \\\"204\\\",\\n    \\\"Plant\\\": \\\"F\\\",\\n    \\\"Features\\\": \\\"Chemical\\\",\\n    \\\"Data Shape\\\": None,\\n    \\\"Timesteps\\\": None,\\n    \\\"Model\\\": \\\"Linear Regression\\\",\\n    \\\"Model Params\\\": None,\\n    \\\"Scaler\\\": \\\"Standard Scaler\\\",\\n    \\\"Scaler Params\\\": None,\\n    \\\"Imputer\\\": \\\"Median\\\",\\n    \\\"Imputer Params\\\": None,\\n    \\\"Cross Validation\\\": None,\\n    \\\"Cross Validation Params\\\": np.nan,\\n    \\\"RMSE Train\\\": np.nan,\\n    \\\"MAE Train\\\": np.nan,\\n    \\\"MAPE Train\\\": np.nan,\\n    \\\"R2 Train\\\": np.nan,\\n    \\\"RMSE Test\\\": np.nan,\\n    \\\"MAE Test\\\": np.nan,\\n    \\\"MAPE Test\\\": np.nan,\\n    \\\"R2 Test\\\": np.nan,\\n}\";\n",
       "                var nbb_formatted_code = \"results_to_save = []\\n\\nresults_dict = {\\n    \\\"Category\\\": \\\"Local Model\\\",\\n    \\\"Company\\\": \\\"204\\\",\\n    \\\"Plant\\\": \\\"F\\\",\\n    \\\"Features\\\": \\\"Chemical\\\",\\n    \\\"Data Shape\\\": None,\\n    \\\"Timesteps\\\": None,\\n    \\\"Model\\\": \\\"Linear Regression\\\",\\n    \\\"Model Params\\\": None,\\n    \\\"Scaler\\\": \\\"Standard Scaler\\\",\\n    \\\"Scaler Params\\\": None,\\n    \\\"Imputer\\\": \\\"Median\\\",\\n    \\\"Imputer Params\\\": None,\\n    \\\"Cross Validation\\\": None,\\n    \\\"Cross Validation Params\\\": np.nan,\\n    \\\"RMSE Train\\\": np.nan,\\n    \\\"MAE Train\\\": np.nan,\\n    \\\"MAPE Train\\\": np.nan,\\n    \\\"R2 Train\\\": np.nan,\\n    \\\"RMSE Test\\\": np.nan,\\n    \\\"MAE Test\\\": np.nan,\\n    \\\"MAPE Test\\\": np.nan,\\n    \\\"R2 Test\\\": np.nan,\\n}\";\n",
       "                var nbb_cells = Jupyter.notebook.get_cells();\n",
       "                for (var i = 0; i < nbb_cells.length; ++i) {\n",
       "                    if (nbb_cells[i].input_prompt_number == nbb_cell_id) {\n",
       "                        if (nbb_cells[i].get_text() == nbb_unformatted_code) {\n",
       "                             nbb_cells[i].set_text(nbb_formatted_code);\n",
       "                        }\n",
       "                        break;\n",
       "                    }\n",
       "                }\n",
       "            }, 500);\n",
       "            "
      ],
      "text/plain": [
       "<IPython.core.display.Javascript object>"
      ]
     },
     "metadata": {},
     "output_type": "display_data"
    }
   ],
   "source": [
    "results_to_save = []\n",
    "\n",
    "results_dict = {\n",
    "    \"Category\": \"Local Model\",\n",
    "    \"Company\": \"204\",\n",
    "    \"Plant\": \"F\",\n",
    "    \"Features\": \"Chemical\",\n",
    "    \"Data Shape\": None,\n",
    "    \"Timesteps\": None,\n",
    "    \"Model\": \"Linear Regression\",\n",
    "    \"Model Params\": None,\n",
    "    \"Scaler\": \"Standard Scaler\",\n",
    "    \"Scaler Params\": None,\n",
    "    \"Imputer\": \"Median\",\n",
    "    \"Imputer Params\": None,\n",
    "    \"Cross Validation\": None,\n",
    "    \"Cross Validation Params\": np.nan,\n",
    "    \"RMSE Train\": np.nan,\n",
    "    \"MAE Train\": np.nan,\n",
    "    \"MAPE Train\": np.nan,\n",
    "    \"R2 Train\": np.nan,\n",
    "    \"RMSE Test\": np.nan,\n",
    "    \"MAE Test\": np.nan,\n",
    "    \"MAPE Test\": np.nan,\n",
    "    \"R2 Test\": np.nan,\n",
    "}"
   ]
  },
  {
   "cell_type": "markdown",
   "id": "d19fd042",
   "metadata": {
    "papermill": {
     "duration": 0.011182,
     "end_time": "2024-01-29T01:33:27.747032",
     "exception": false,
     "start_time": "2024-01-29T01:33:27.735850",
     "status": "completed"
    },
    "tags": []
   },
   "source": [
    "# Reading the dataset"
   ]
  },
  {
   "cell_type": "code",
   "execution_count": 125,
   "id": "2f920d09",
   "metadata": {
    "execution": {
     "iopub.execute_input": "2024-01-29T01:33:27.765058Z",
     "iopub.status.busy": "2024-01-29T01:33:27.764533Z",
     "iopub.status.idle": "2024-01-29T01:33:27.790307Z",
     "shell.execute_reply": "2024-01-29T01:33:27.788003Z"
    },
    "papermill": {
     "duration": 0.039176,
     "end_time": "2024-01-29T01:33:27.793648",
     "exception": false,
     "start_time": "2024-01-29T01:33:27.754472",
     "status": "completed"
    },
    "tags": []
   },
   "outputs": [
    {
     "data": {
      "application/javascript": [
       "\n",
       "            setTimeout(function() {\n",
       "                var nbb_cell_id = 125;\n",
       "                var nbb_unformatted_code = \"df = pd.read_csv(\\\"../../../../../data/processed/204/f.csv\\\")\";\n",
       "                var nbb_formatted_code = \"df = pd.read_csv(\\\"../../../../../data/processed/204/f.csv\\\")\";\n",
       "                var nbb_cells = Jupyter.notebook.get_cells();\n",
       "                for (var i = 0; i < nbb_cells.length; ++i) {\n",
       "                    if (nbb_cells[i].input_prompt_number == nbb_cell_id) {\n",
       "                        if (nbb_cells[i].get_text() == nbb_unformatted_code) {\n",
       "                             nbb_cells[i].set_text(nbb_formatted_code);\n",
       "                        }\n",
       "                        break;\n",
       "                    }\n",
       "                }\n",
       "            }, 500);\n",
       "            "
      ],
      "text/plain": [
       "<IPython.core.display.Javascript object>"
      ]
     },
     "metadata": {},
     "output_type": "display_data"
    }
   ],
   "source": [
    "df = pd.read_csv(\"../../../../../data/processed/204/f.csv\")"
   ]
  },
  {
   "cell_type": "markdown",
   "id": "db738873",
   "metadata": {
    "papermill": {
     "duration": 0.018609,
     "end_time": "2024-01-29T01:33:27.819465",
     "exception": false,
     "start_time": "2024-01-29T01:33:27.800856",
     "status": "completed"
    },
    "tags": []
   },
   "source": [
    "## Defining Features\n",
    "\n",
    "In this set of experiments we use all available features"
   ]
  },
  {
   "cell_type": "code",
   "execution_count": 126,
   "id": "f25da3d8",
   "metadata": {
    "execution": {
     "iopub.execute_input": "2024-01-29T01:33:27.837717Z",
     "iopub.status.busy": "2024-01-29T01:33:27.837165Z",
     "iopub.status.idle": "2024-01-29T01:33:27.857522Z",
     "shell.execute_reply": "2024-01-29T01:33:27.855645Z"
    },
    "papermill": {
     "duration": 0.034059,
     "end_time": "2024-01-29T01:33:27.861208",
     "exception": false,
     "start_time": "2024-01-29T01:33:27.827149",
     "status": "completed"
    },
    "tags": []
   },
   "outputs": [
    {
     "data": {
      "application/javascript": [
       "\n",
       "            setTimeout(function() {\n",
       "                var nbb_cell_id = 126;\n",
       "                var nbb_unformatted_code = \"df_copy = df.copy().drop(\\n    [\\n        \\\"Cement_Type\\\",\\n        \\\"Blaine\\\",\\n        \\\"#200\\\",\\n        \\\"#325\\\",\\n        \\\"Final setting time\\\",\\n        \\\"Initial setting time\\\",\\n        \\\"CS1\\\",\\n        \\\"CS3\\\",\\n        \\\"CS7\\\",\\n    ],\\n    axis=1,\\n)\";\n",
       "                var nbb_formatted_code = \"df_copy = df.copy().drop(\\n    [\\n        \\\"Cement_Type\\\",\\n        \\\"Blaine\\\",\\n        \\\"#200\\\",\\n        \\\"#325\\\",\\n        \\\"Final setting time\\\",\\n        \\\"Initial setting time\\\",\\n        \\\"CS1\\\",\\n        \\\"CS3\\\",\\n        \\\"CS7\\\",\\n    ],\\n    axis=1,\\n)\";\n",
       "                var nbb_cells = Jupyter.notebook.get_cells();\n",
       "                for (var i = 0; i < nbb_cells.length; ++i) {\n",
       "                    if (nbb_cells[i].input_prompt_number == nbb_cell_id) {\n",
       "                        if (nbb_cells[i].get_text() == nbb_unformatted_code) {\n",
       "                             nbb_cells[i].set_text(nbb_formatted_code);\n",
       "                        }\n",
       "                        break;\n",
       "                    }\n",
       "                }\n",
       "            }, 500);\n",
       "            "
      ],
      "text/plain": [
       "<IPython.core.display.Javascript object>"
      ]
     },
     "metadata": {},
     "output_type": "display_data"
    }
   ],
   "source": [
    "df_copy = df.copy().drop(\n",
    "    [\n",
    "        \"Cement_Type\",\n",
    "        \"Blaine\",\n",
    "        \"#200\",\n",
    "        \"#325\",\n",
    "        \"Final setting time\",\n",
    "        \"Initial setting time\",\n",
    "        \"CS1\",\n",
    "        \"CS3\",\n",
    "        \"CS7\",\n",
    "    ],\n",
    "    axis=1,\n",
    ")"
   ]
  },
  {
   "cell_type": "markdown",
   "id": "c1679d48",
   "metadata": {
    "papermill": {
     "duration": 0.007205,
     "end_time": "2024-01-29T01:33:27.878713",
     "exception": false,
     "start_time": "2024-01-29T01:33:27.871508",
     "status": "completed"
    },
    "tags": []
   },
   "source": [
    "# 1. Linear Regression"
   ]
  },
  {
   "cell_type": "markdown",
   "id": "1d9e9dbb",
   "metadata": {
    "papermill": {
     "duration": 0.007282,
     "end_time": "2024-01-29T01:33:27.892932",
     "exception": false,
     "start_time": "2024-01-29T01:33:27.885650",
     "status": "completed"
    },
    "tags": []
   },
   "source": [
    "<h2>1. Dataset: df_copy</h2> <br>In this dataset all features are used."
   ]
  },
  {
   "cell_type": "code",
   "execution_count": 127,
   "id": "427aaadf",
   "metadata": {
    "execution": {
     "iopub.execute_input": "2024-01-29T01:33:27.912960Z",
     "iopub.status.busy": "2024-01-29T01:33:27.912384Z",
     "iopub.status.idle": "2024-01-29T01:33:27.931107Z",
     "shell.execute_reply": "2024-01-29T01:33:27.929167Z"
    },
    "papermill": {
     "duration": 0.032637,
     "end_time": "2024-01-29T01:33:27.934661",
     "exception": false,
     "start_time": "2024-01-29T01:33:27.902024",
     "status": "completed"
    },
    "tags": []
   },
   "outputs": [
    {
     "data": {
      "application/javascript": [
       "\n",
       "            setTimeout(function() {\n",
       "                var nbb_cell_id = 127;\n",
       "                var nbb_unformatted_code = \"y = df_copy.pop(\\\"CS28\\\").values\\nx = df_copy.drop([\\\"Date\\\"], axis=1)\\ndates = df[\\\"Date\\\"].copy()\";\n",
       "                var nbb_formatted_code = \"y = df_copy.pop(\\\"CS28\\\").values\\nx = df_copy.drop([\\\"Date\\\"], axis=1)\\ndates = df[\\\"Date\\\"].copy()\";\n",
       "                var nbb_cells = Jupyter.notebook.get_cells();\n",
       "                for (var i = 0; i < nbb_cells.length; ++i) {\n",
       "                    if (nbb_cells[i].input_prompt_number == nbb_cell_id) {\n",
       "                        if (nbb_cells[i].get_text() == nbb_unformatted_code) {\n",
       "                             nbb_cells[i].set_text(nbb_formatted_code);\n",
       "                        }\n",
       "                        break;\n",
       "                    }\n",
       "                }\n",
       "            }, 500);\n",
       "            "
      ],
      "text/plain": [
       "<IPython.core.display.Javascript object>"
      ]
     },
     "metadata": {},
     "output_type": "display_data"
    }
   ],
   "source": [
    "y = df_copy.pop(\"CS28\").values\n",
    "x = df_copy.drop([\"Date\"], axis=1)\n",
    "dates = df[\"Date\"].copy()"
   ]
  },
  {
   "cell_type": "markdown",
   "id": "b3eb0e45",
   "metadata": {
    "papermill": {
     "duration": 0.007339,
     "end_time": "2024-01-29T01:33:27.949224",
     "exception": false,
     "start_time": "2024-01-29T01:33:27.941885",
     "status": "completed"
    },
    "tags": []
   },
   "source": [
    "## 1.1 Repeated KFold Cross validation\n",
    "\n",
    "<b>Dataset shape:</b> (594, 38)<br>\n",
    "<b>Repeats:</b>10<br>\n",
    "<b>Splits:</b>10<br>\n",
    "    1. 10 folds of 59 samples each\n",
    "    2. 90% train (535 samples each fold)\n",
    "    3. 10% test (59 samples each fold)\n",
    "<b>Total:</b> 100 models<br>"
   ]
  },
  {
   "cell_type": "code",
   "execution_count": 128,
   "id": "cfbc61b6",
   "metadata": {
    "execution": {
     "iopub.execute_input": "2024-01-29T01:33:27.966959Z",
     "iopub.status.busy": "2024-01-29T01:33:27.966433Z",
     "iopub.status.idle": "2024-01-29T01:33:30.577334Z",
     "shell.execute_reply": "2024-01-29T01:33:30.574334Z"
    },
    "papermill": {
     "duration": 2.624232,
     "end_time": "2024-01-29T01:33:30.581000",
     "exception": false,
     "start_time": "2024-01-29T01:33:27.956768",
     "status": "completed"
    },
    "tags": []
   },
   "outputs": [
    {
     "name": "stdout",
     "output_type": "stream",
     "text": [
      "Repeated Cross Validation:\n",
      "Repeats: 3\n",
      "n_splits: 5\n",
      "\n",
      "******\n",
      "[TRAIN]\n",
      "******\n",
      "RMSE: -1.939 (0.035)\n",
      "MAE: -1.400 (0.013)\n",
      "MAPE: -0.033 (0.000)\n",
      "R2: 0.922 (0.003)\n",
      "\n",
      "======================\n",
      "\n",
      "******\n",
      "[TEST]\n",
      "******\n",
      "RMSE: -1.969 (0.153)\n",
      "MAE: -1.410 (0.040)\n",
      "MAPE: -0.033 (0.001)\n",
      "R2: 0.919 (0.013)\n",
      "\n",
      "======================\n",
      "\n"
     ]
    },
    {
     "data": {
      "application/javascript": [
       "\n",
       "            setTimeout(function() {\n",
       "                var nbb_cell_id = 128;\n",
       "                var nbb_unformatted_code = \"repeats = 3\\nn_splits = 5\\npipeline = Pipeline(\\n    [\\n        (\\\"imputer\\\", SimpleImputer(strategy=\\\"median\\\")),\\n        (\\\"transformer\\\", StandardScaler()),\\n        (\\\"estimator\\\", LinearRegression()),\\n    ]\\n)\\ncv = RepeatedKFold(n_splits=n_splits, n_repeats=repeats, random_state=SEED)\\nscores = cross_validate(\\n    pipeline,\\n    x,\\n    y,\\n    scoring=METRICS,\\n    cv=cv,\\n    n_jobs=-1,\\n    return_train_score=True,\\n    return_estimator=True,\\n    return_indices=True,\\n)\\nprint(\\\"Repeated Cross Validation:\\\")\\nprint(f\\\"Repeats: {repeats}\\\")\\nprint(f\\\"n_splits: {n_splits}\\\")\\nprint()\\nprint_scores(scores, METRICS, METRICS_DICT)\\n\\nresults_dict_copy = results_dict.copy()\\nresults_dict_copy[\\\"Cross Validation\\\"] = \\\"Repeated KFold\\\"\\nresults_dict_copy[\\\"Cross Validation Params\\\"] = '{\\\"N_Splits\\\": 5, \\\"Repeats\\\": 3}'\\nresults_dict_copy[\\\"Data Shape\\\"] = x.shape\\ndf_results = fill_results_dict(results_dict_copy, scores)\\nresults_to_save.append(df_results)\";\n",
       "                var nbb_formatted_code = \"repeats = 3\\nn_splits = 5\\npipeline = Pipeline(\\n    [\\n        (\\\"imputer\\\", SimpleImputer(strategy=\\\"median\\\")),\\n        (\\\"transformer\\\", StandardScaler()),\\n        (\\\"estimator\\\", LinearRegression()),\\n    ]\\n)\\ncv = RepeatedKFold(n_splits=n_splits, n_repeats=repeats, random_state=SEED)\\nscores = cross_validate(\\n    pipeline,\\n    x,\\n    y,\\n    scoring=METRICS,\\n    cv=cv,\\n    n_jobs=-1,\\n    return_train_score=True,\\n    return_estimator=True,\\n    return_indices=True,\\n)\\nprint(\\\"Repeated Cross Validation:\\\")\\nprint(f\\\"Repeats: {repeats}\\\")\\nprint(f\\\"n_splits: {n_splits}\\\")\\nprint()\\nprint_scores(scores, METRICS, METRICS_DICT)\\n\\nresults_dict_copy = results_dict.copy()\\nresults_dict_copy[\\\"Cross Validation\\\"] = \\\"Repeated KFold\\\"\\nresults_dict_copy[\\\"Cross Validation Params\\\"] = '{\\\"N_Splits\\\": 5, \\\"Repeats\\\": 3}'\\nresults_dict_copy[\\\"Data Shape\\\"] = x.shape\\ndf_results = fill_results_dict(results_dict_copy, scores)\\nresults_to_save.append(df_results)\";\n",
       "                var nbb_cells = Jupyter.notebook.get_cells();\n",
       "                for (var i = 0; i < nbb_cells.length; ++i) {\n",
       "                    if (nbb_cells[i].input_prompt_number == nbb_cell_id) {\n",
       "                        if (nbb_cells[i].get_text() == nbb_unformatted_code) {\n",
       "                             nbb_cells[i].set_text(nbb_formatted_code);\n",
       "                        }\n",
       "                        break;\n",
       "                    }\n",
       "                }\n",
       "            }, 500);\n",
       "            "
      ],
      "text/plain": [
       "<IPython.core.display.Javascript object>"
      ]
     },
     "metadata": {},
     "output_type": "display_data"
    }
   ],
   "source": [
    "repeats = 3\n",
    "n_splits = 5\n",
    "pipeline = Pipeline(\n",
    "    [\n",
    "        (\"imputer\", SimpleImputer(strategy=\"median\")),\n",
    "        (\"transformer\", StandardScaler()),\n",
    "        (\"estimator\", LinearRegression()),\n",
    "    ]\n",
    ")\n",
    "cv = RepeatedKFold(n_splits=n_splits, n_repeats=repeats, random_state=SEED)\n",
    "scores = cross_validate(\n",
    "    pipeline,\n",
    "    x,\n",
    "    y,\n",
    "    scoring=METRICS,\n",
    "    cv=cv,\n",
    "    n_jobs=-1,\n",
    "    return_train_score=True,\n",
    "    return_estimator=True,\n",
    "    return_indices=True,\n",
    ")\n",
    "print(\"Repeated Cross Validation:\")\n",
    "print(f\"Repeats: {repeats}\")\n",
    "print(f\"n_splits: {n_splits}\")\n",
    "print()\n",
    "print_scores(scores, METRICS, METRICS_DICT)\n",
    "\n",
    "results_dict_copy = results_dict.copy()\n",
    "results_dict_copy[\"Cross Validation\"] = \"Repeated KFold\"\n",
    "results_dict_copy[\"Cross Validation Params\"] = '{\"N_Splits\": 5, \"Repeats\": 3}'\n",
    "results_dict_copy[\"Data Shape\"] = x.shape\n",
    "df_results = fill_results_dict(results_dict_copy, scores)\n",
    "results_to_save.append(df_results)"
   ]
  },
  {
   "cell_type": "code",
   "execution_count": 129,
   "id": "7a7a1008",
   "metadata": {},
   "outputs": [
    {
     "data": {
      "application/javascript": [
       "\n",
       "            setTimeout(function() {\n",
       "                var nbb_cell_id = 129;\n",
       "                var nbb_unformatted_code = \"df_pred = pd.DataFrame()\\ndf_pred[\\\"DATE\\\"] = dates.copy()\\ndf_pred[\\\"CS28\\\"] = y.copy()\\ndf_pred[\\\"DATE\\\"] = pd.to_datetime(df_pred[\\\"DATE\\\"])\";\n",
       "                var nbb_formatted_code = \"df_pred = pd.DataFrame()\\ndf_pred[\\\"DATE\\\"] = dates.copy()\\ndf_pred[\\\"CS28\\\"] = y.copy()\\ndf_pred[\\\"DATE\\\"] = pd.to_datetime(df_pred[\\\"DATE\\\"])\";\n",
       "                var nbb_cells = Jupyter.notebook.get_cells();\n",
       "                for (var i = 0; i < nbb_cells.length; ++i) {\n",
       "                    if (nbb_cells[i].input_prompt_number == nbb_cell_id) {\n",
       "                        if (nbb_cells[i].get_text() == nbb_unformatted_code) {\n",
       "                             nbb_cells[i].set_text(nbb_formatted_code);\n",
       "                        }\n",
       "                        break;\n",
       "                    }\n",
       "                }\n",
       "            }, 500);\n",
       "            "
      ],
      "text/plain": [
       "<IPython.core.display.Javascript object>"
      ]
     },
     "metadata": {},
     "output_type": "display_data"
    }
   ],
   "source": [
    "df_pred = pd.DataFrame()\n",
    "df_pred[\"DATE\"] = dates.copy()\n",
    "df_pred[\"CS28\"] = y.copy()\n",
    "df_pred[\"DATE\"] = pd.to_datetime(df_pred[\"DATE\"])"
   ]
  },
  {
   "cell_type": "code",
   "execution_count": 130,
   "id": "50df3a50",
   "metadata": {},
   "outputs": [
    {
     "data": {
      "application/javascript": [
       "\n",
       "            setTimeout(function() {\n",
       "                var nbb_cell_id = 130;\n",
       "                var nbb_unformatted_code = \"for idx, pipeline in enumerate(scores[\\\"estimator\\\"]):\\n    index_train = scores[\\\"indices\\\"][\\\"train\\\"][idx]\\n    index_test = scores[\\\"indices\\\"][\\\"test\\\"][idx]\\n    index_preds = np.concatenate([index_train, index_test])\\n\\n    fold = f\\\"_FOLD_{idx + 1}\\\"\\n    df_pred[\\\"CS28_PRED\\\" + fold] = np.nan\\n    df_pred[\\\"SET\\\" + fold] = \\\"\\\"\\n\\n    results = pipeline.predict(x.loc[index_preds])\\n    df_pred.loc[index_preds, \\\"CS28_PRED\\\" + fold] = results.copy()\\n    df_pred.loc[index_train, \\\"SET\\\" + fold] = \\\"TRAIN\\\"\\n    df_pred.loc[index_test, \\\"SET\\\" + fold] = \\\"TEST\\\"\\n\\ndf_pred[\\\"CEMENT_TYPE\\\"] = df[\\\"Cement_Type\\\"].copy()\";\n",
       "                var nbb_formatted_code = \"for idx, pipeline in enumerate(scores[\\\"estimator\\\"]):\\n    index_train = scores[\\\"indices\\\"][\\\"train\\\"][idx]\\n    index_test = scores[\\\"indices\\\"][\\\"test\\\"][idx]\\n    index_preds = np.concatenate([index_train, index_test])\\n\\n    fold = f\\\"_FOLD_{idx + 1}\\\"\\n    df_pred[\\\"CS28_PRED\\\" + fold] = np.nan\\n    df_pred[\\\"SET\\\" + fold] = \\\"\\\"\\n\\n    results = pipeline.predict(x.loc[index_preds])\\n    df_pred.loc[index_preds, \\\"CS28_PRED\\\" + fold] = results.copy()\\n    df_pred.loc[index_train, \\\"SET\\\" + fold] = \\\"TRAIN\\\"\\n    df_pred.loc[index_test, \\\"SET\\\" + fold] = \\\"TEST\\\"\\n\\ndf_pred[\\\"CEMENT_TYPE\\\"] = df[\\\"Cement_Type\\\"].copy()\";\n",
       "                var nbb_cells = Jupyter.notebook.get_cells();\n",
       "                for (var i = 0; i < nbb_cells.length; ++i) {\n",
       "                    if (nbb_cells[i].input_prompt_number == nbb_cell_id) {\n",
       "                        if (nbb_cells[i].get_text() == nbb_unformatted_code) {\n",
       "                             nbb_cells[i].set_text(nbb_formatted_code);\n",
       "                        }\n",
       "                        break;\n",
       "                    }\n",
       "                }\n",
       "            }, 500);\n",
       "            "
      ],
      "text/plain": [
       "<IPython.core.display.Javascript object>"
      ]
     },
     "metadata": {},
     "output_type": "display_data"
    }
   ],
   "source": [
    "for idx, pipeline in enumerate(scores[\"estimator\"]):\n",
    "    index_train = scores[\"indices\"][\"train\"][idx]\n",
    "    index_test = scores[\"indices\"][\"test\"][idx]\n",
    "    index_preds = np.concatenate([index_train, index_test])\n",
    "\n",
    "    fold = f\"_FOLD_{idx + 1}\"\n",
    "    df_pred[\"CS28_PRED\" + fold] = np.nan\n",
    "    df_pred[\"SET\" + fold] = \"\"\n",
    "\n",
    "    results = pipeline.predict(x.loc[index_preds])\n",
    "    df_pred.loc[index_preds, \"CS28_PRED\" + fold] = results.copy()\n",
    "    df_pred.loc[index_train, \"SET\" + fold] = \"TRAIN\"\n",
    "    df_pred.loc[index_test, \"SET\" + fold] = \"TEST\"\n",
    "\n",
    "df_pred[\"CEMENT_TYPE\"] = df[\"Cement_Type\"].copy()"
   ]
  },
  {
   "cell_type": "code",
   "execution_count": 131,
   "id": "7cc750b9",
   "metadata": {},
   "outputs": [
    {
     "data": {
      "text/html": [
       "<div>\n",
       "<style scoped>\n",
       "    .dataframe tbody tr th:only-of-type {\n",
       "        vertical-align: middle;\n",
       "    }\n",
       "\n",
       "    .dataframe tbody tr th {\n",
       "        vertical-align: top;\n",
       "    }\n",
       "\n",
       "    .dataframe thead th {\n",
       "        text-align: right;\n",
       "    }\n",
       "</style>\n",
       "<table border=\"1\" class=\"dataframe\">\n",
       "  <thead>\n",
       "    <tr style=\"text-align: right;\">\n",
       "      <th></th>\n",
       "      <th>DATE</th>\n",
       "      <th>CS28</th>\n",
       "      <th>CS28_PRED_FOLD_1</th>\n",
       "      <th>SET_FOLD_1</th>\n",
       "      <th>CS28_PRED_FOLD_2</th>\n",
       "      <th>SET_FOLD_2</th>\n",
       "      <th>CS28_PRED_FOLD_3</th>\n",
       "      <th>SET_FOLD_3</th>\n",
       "      <th>CS28_PRED_FOLD_4</th>\n",
       "      <th>SET_FOLD_4</th>\n",
       "      <th>...</th>\n",
       "      <th>SET_FOLD_11</th>\n",
       "      <th>CS28_PRED_FOLD_12</th>\n",
       "      <th>SET_FOLD_12</th>\n",
       "      <th>CS28_PRED_FOLD_13</th>\n",
       "      <th>SET_FOLD_13</th>\n",
       "      <th>CS28_PRED_FOLD_14</th>\n",
       "      <th>SET_FOLD_14</th>\n",
       "      <th>CS28_PRED_FOLD_15</th>\n",
       "      <th>SET_FOLD_15</th>\n",
       "      <th>CEMENT_TYPE</th>\n",
       "    </tr>\n",
       "  </thead>\n",
       "  <tbody>\n",
       "    <tr>\n",
       "      <th>0</th>\n",
       "      <td>2020-01-02</td>\n",
       "      <td>36.3</td>\n",
       "      <td>39.697456</td>\n",
       "      <td>TEST</td>\n",
       "      <td>39.708375</td>\n",
       "      <td>TRAIN</td>\n",
       "      <td>39.613436</td>\n",
       "      <td>TRAIN</td>\n",
       "      <td>39.594554</td>\n",
       "      <td>TRAIN</td>\n",
       "      <td>...</td>\n",
       "      <td>TRAIN</td>\n",
       "      <td>39.717157</td>\n",
       "      <td>TEST</td>\n",
       "      <td>39.659281</td>\n",
       "      <td>TRAIN</td>\n",
       "      <td>39.617682</td>\n",
       "      <td>TRAIN</td>\n",
       "      <td>39.585685</td>\n",
       "      <td>TRAIN</td>\n",
       "      <td>CPII F 32</td>\n",
       "    </tr>\n",
       "    <tr>\n",
       "      <th>1</th>\n",
       "      <td>2020-01-04</td>\n",
       "      <td>52.2</td>\n",
       "      <td>49.966207</td>\n",
       "      <td>TRAIN</td>\n",
       "      <td>50.056261</td>\n",
       "      <td>TRAIN</td>\n",
       "      <td>49.961162</td>\n",
       "      <td>TRAIN</td>\n",
       "      <td>49.986780</td>\n",
       "      <td>TEST</td>\n",
       "      <td>...</td>\n",
       "      <td>TRAIN</td>\n",
       "      <td>49.911494</td>\n",
       "      <td>TRAIN</td>\n",
       "      <td>49.972208</td>\n",
       "      <td>TRAIN</td>\n",
       "      <td>50.052748</td>\n",
       "      <td>TRAIN</td>\n",
       "      <td>49.977625</td>\n",
       "      <td>TEST</td>\n",
       "      <td>CPV ARI RS</td>\n",
       "    </tr>\n",
       "    <tr>\n",
       "      <th>2</th>\n",
       "      <td>2020-01-04</td>\n",
       "      <td>48.7</td>\n",
       "      <td>50.370249</td>\n",
       "      <td>TEST</td>\n",
       "      <td>50.393587</td>\n",
       "      <td>TRAIN</td>\n",
       "      <td>50.307148</td>\n",
       "      <td>TRAIN</td>\n",
       "      <td>50.335970</td>\n",
       "      <td>TRAIN</td>\n",
       "      <td>...</td>\n",
       "      <td>TRAIN</td>\n",
       "      <td>50.286545</td>\n",
       "      <td>TRAIN</td>\n",
       "      <td>50.393326</td>\n",
       "      <td>TRAIN</td>\n",
       "      <td>50.392738</td>\n",
       "      <td>TRAIN</td>\n",
       "      <td>50.305705</td>\n",
       "      <td>TEST</td>\n",
       "      <td>CPV ARI RS</td>\n",
       "    </tr>\n",
       "    <tr>\n",
       "      <th>3</th>\n",
       "      <td>2020-01-05</td>\n",
       "      <td>33.0</td>\n",
       "      <td>36.991007</td>\n",
       "      <td>TRAIN</td>\n",
       "      <td>36.789011</td>\n",
       "      <td>TRAIN</td>\n",
       "      <td>36.978100</td>\n",
       "      <td>TRAIN</td>\n",
       "      <td>36.907477</td>\n",
       "      <td>TRAIN</td>\n",
       "      <td>...</td>\n",
       "      <td>TEST</td>\n",
       "      <td>36.943879</td>\n",
       "      <td>TRAIN</td>\n",
       "      <td>36.925763</td>\n",
       "      <td>TRAIN</td>\n",
       "      <td>36.939681</td>\n",
       "      <td>TRAIN</td>\n",
       "      <td>36.829752</td>\n",
       "      <td>TRAIN</td>\n",
       "      <td>CPIV 32</td>\n",
       "    </tr>\n",
       "    <tr>\n",
       "      <th>4</th>\n",
       "      <td>2020-01-05</td>\n",
       "      <td>33.8</td>\n",
       "      <td>36.001563</td>\n",
       "      <td>TRAIN</td>\n",
       "      <td>35.960548</td>\n",
       "      <td>TRAIN</td>\n",
       "      <td>35.924956</td>\n",
       "      <td>TRAIN</td>\n",
       "      <td>35.885915</td>\n",
       "      <td>TEST</td>\n",
       "      <td>...</td>\n",
       "      <td>TEST</td>\n",
       "      <td>36.040039</td>\n",
       "      <td>TRAIN</td>\n",
       "      <td>35.967121</td>\n",
       "      <td>TRAIN</td>\n",
       "      <td>35.884464</td>\n",
       "      <td>TRAIN</td>\n",
       "      <td>35.879709</td>\n",
       "      <td>TRAIN</td>\n",
       "      <td>CPII F 32</td>\n",
       "    </tr>\n",
       "    <tr>\n",
       "      <th>...</th>\n",
       "      <td>...</td>\n",
       "      <td>...</td>\n",
       "      <td>...</td>\n",
       "      <td>...</td>\n",
       "      <td>...</td>\n",
       "      <td>...</td>\n",
       "      <td>...</td>\n",
       "      <td>...</td>\n",
       "      <td>...</td>\n",
       "      <td>...</td>\n",
       "      <td>...</td>\n",
       "      <td>...</td>\n",
       "      <td>...</td>\n",
       "      <td>...</td>\n",
       "      <td>...</td>\n",
       "      <td>...</td>\n",
       "      <td>...</td>\n",
       "      <td>...</td>\n",
       "      <td>...</td>\n",
       "      <td>...</td>\n",
       "      <td>...</td>\n",
       "    </tr>\n",
       "    <tr>\n",
       "      <th>2557</th>\n",
       "      <td>2023-06-28</td>\n",
       "      <td>47.6</td>\n",
       "      <td>47.684472</td>\n",
       "      <td>TRAIN</td>\n",
       "      <td>47.640743</td>\n",
       "      <td>TRAIN</td>\n",
       "      <td>47.659992</td>\n",
       "      <td>TRAIN</td>\n",
       "      <td>47.713680</td>\n",
       "      <td>TRAIN</td>\n",
       "      <td>...</td>\n",
       "      <td>TRAIN</td>\n",
       "      <td>47.630904</td>\n",
       "      <td>TRAIN</td>\n",
       "      <td>47.641706</td>\n",
       "      <td>TEST</td>\n",
       "      <td>47.795473</td>\n",
       "      <td>TRAIN</td>\n",
       "      <td>47.682114</td>\n",
       "      <td>TRAIN</td>\n",
       "      <td>CPV ARI RS</td>\n",
       "    </tr>\n",
       "    <tr>\n",
       "      <th>2558</th>\n",
       "      <td>2023-06-28</td>\n",
       "      <td>36.9</td>\n",
       "      <td>34.774343</td>\n",
       "      <td>TRAIN</td>\n",
       "      <td>34.748134</td>\n",
       "      <td>TRAIN</td>\n",
       "      <td>34.810389</td>\n",
       "      <td>TEST</td>\n",
       "      <td>34.764458</td>\n",
       "      <td>TRAIN</td>\n",
       "      <td>...</td>\n",
       "      <td>TRAIN</td>\n",
       "      <td>34.799744</td>\n",
       "      <td>TEST</td>\n",
       "      <td>34.732600</td>\n",
       "      <td>TRAIN</td>\n",
       "      <td>34.776790</td>\n",
       "      <td>TRAIN</td>\n",
       "      <td>34.710125</td>\n",
       "      <td>TRAIN</td>\n",
       "      <td>CPIV 32</td>\n",
       "    </tr>\n",
       "    <tr>\n",
       "      <th>2559</th>\n",
       "      <td>2023-07-02</td>\n",
       "      <td>49.6</td>\n",
       "      <td>47.134144</td>\n",
       "      <td>TRAIN</td>\n",
       "      <td>47.257362</td>\n",
       "      <td>TRAIN</td>\n",
       "      <td>47.211904</td>\n",
       "      <td>TRAIN</td>\n",
       "      <td>47.176162</td>\n",
       "      <td>TEST</td>\n",
       "      <td>...</td>\n",
       "      <td>TEST</td>\n",
       "      <td>47.193926</td>\n",
       "      <td>TRAIN</td>\n",
       "      <td>47.209190</td>\n",
       "      <td>TRAIN</td>\n",
       "      <td>47.209256</td>\n",
       "      <td>TRAIN</td>\n",
       "      <td>47.182970</td>\n",
       "      <td>TRAIN</td>\n",
       "      <td>CPV ARI</td>\n",
       "    </tr>\n",
       "    <tr>\n",
       "      <th>2560</th>\n",
       "      <td>2023-07-02</td>\n",
       "      <td>36.5</td>\n",
       "      <td>33.625709</td>\n",
       "      <td>TRAIN</td>\n",
       "      <td>33.670874</td>\n",
       "      <td>TRAIN</td>\n",
       "      <td>33.621634</td>\n",
       "      <td>TRAIN</td>\n",
       "      <td>33.552825</td>\n",
       "      <td>TEST</td>\n",
       "      <td>...</td>\n",
       "      <td>TRAIN</td>\n",
       "      <td>33.729573</td>\n",
       "      <td>TRAIN</td>\n",
       "      <td>33.594759</td>\n",
       "      <td>TEST</td>\n",
       "      <td>33.554271</td>\n",
       "      <td>TRAIN</td>\n",
       "      <td>33.565987</td>\n",
       "      <td>TRAIN</td>\n",
       "      <td>CPII F 32</td>\n",
       "    </tr>\n",
       "    <tr>\n",
       "      <th>2561</th>\n",
       "      <td>2023-07-02</td>\n",
       "      <td>48.0</td>\n",
       "      <td>47.993584</td>\n",
       "      <td>TEST</td>\n",
       "      <td>47.953804</td>\n",
       "      <td>TRAIN</td>\n",
       "      <td>47.999091</td>\n",
       "      <td>TRAIN</td>\n",
       "      <td>48.016505</td>\n",
       "      <td>TRAIN</td>\n",
       "      <td>...</td>\n",
       "      <td>TRAIN</td>\n",
       "      <td>47.954389</td>\n",
       "      <td>TRAIN</td>\n",
       "      <td>47.952736</td>\n",
       "      <td>TRAIN</td>\n",
       "      <td>48.104327</td>\n",
       "      <td>TRAIN</td>\n",
       "      <td>47.998546</td>\n",
       "      <td>TEST</td>\n",
       "      <td>CPV ARI RS</td>\n",
       "    </tr>\n",
       "  </tbody>\n",
       "</table>\n",
       "<p>2562 rows × 33 columns</p>\n",
       "</div>"
      ],
      "text/plain": [
       "           DATE  CS28  CS28_PRED_FOLD_1 SET_FOLD_1  CS28_PRED_FOLD_2  \\\n",
       "0    2020-01-02  36.3         39.697456       TEST         39.708375   \n",
       "1    2020-01-04  52.2         49.966207      TRAIN         50.056261   \n",
       "2    2020-01-04  48.7         50.370249       TEST         50.393587   \n",
       "3    2020-01-05  33.0         36.991007      TRAIN         36.789011   \n",
       "4    2020-01-05  33.8         36.001563      TRAIN         35.960548   \n",
       "...         ...   ...               ...        ...               ...   \n",
       "2557 2023-06-28  47.6         47.684472      TRAIN         47.640743   \n",
       "2558 2023-06-28  36.9         34.774343      TRAIN         34.748134   \n",
       "2559 2023-07-02  49.6         47.134144      TRAIN         47.257362   \n",
       "2560 2023-07-02  36.5         33.625709      TRAIN         33.670874   \n",
       "2561 2023-07-02  48.0         47.993584       TEST         47.953804   \n",
       "\n",
       "     SET_FOLD_2  CS28_PRED_FOLD_3 SET_FOLD_3  CS28_PRED_FOLD_4 SET_FOLD_4  \\\n",
       "0         TRAIN         39.613436      TRAIN         39.594554      TRAIN   \n",
       "1         TRAIN         49.961162      TRAIN         49.986780       TEST   \n",
       "2         TRAIN         50.307148      TRAIN         50.335970      TRAIN   \n",
       "3         TRAIN         36.978100      TRAIN         36.907477      TRAIN   \n",
       "4         TRAIN         35.924956      TRAIN         35.885915       TEST   \n",
       "...         ...               ...        ...               ...        ...   \n",
       "2557      TRAIN         47.659992      TRAIN         47.713680      TRAIN   \n",
       "2558      TRAIN         34.810389       TEST         34.764458      TRAIN   \n",
       "2559      TRAIN         47.211904      TRAIN         47.176162       TEST   \n",
       "2560      TRAIN         33.621634      TRAIN         33.552825       TEST   \n",
       "2561      TRAIN         47.999091      TRAIN         48.016505      TRAIN   \n",
       "\n",
       "      ...  SET_FOLD_11 CS28_PRED_FOLD_12  SET_FOLD_12 CS28_PRED_FOLD_13  \\\n",
       "0     ...        TRAIN         39.717157         TEST         39.659281   \n",
       "1     ...        TRAIN         49.911494        TRAIN         49.972208   \n",
       "2     ...        TRAIN         50.286545        TRAIN         50.393326   \n",
       "3     ...         TEST         36.943879        TRAIN         36.925763   \n",
       "4     ...         TEST         36.040039        TRAIN         35.967121   \n",
       "...   ...          ...               ...          ...               ...   \n",
       "2557  ...        TRAIN         47.630904        TRAIN         47.641706   \n",
       "2558  ...        TRAIN         34.799744         TEST         34.732600   \n",
       "2559  ...         TEST         47.193926        TRAIN         47.209190   \n",
       "2560  ...        TRAIN         33.729573        TRAIN         33.594759   \n",
       "2561  ...        TRAIN         47.954389        TRAIN         47.952736   \n",
       "\n",
       "      SET_FOLD_13 CS28_PRED_FOLD_14  SET_FOLD_14 CS28_PRED_FOLD_15  \\\n",
       "0           TRAIN         39.617682        TRAIN         39.585685   \n",
       "1           TRAIN         50.052748        TRAIN         49.977625   \n",
       "2           TRAIN         50.392738        TRAIN         50.305705   \n",
       "3           TRAIN         36.939681        TRAIN         36.829752   \n",
       "4           TRAIN         35.884464        TRAIN         35.879709   \n",
       "...           ...               ...          ...               ...   \n",
       "2557         TEST         47.795473        TRAIN         47.682114   \n",
       "2558        TRAIN         34.776790        TRAIN         34.710125   \n",
       "2559        TRAIN         47.209256        TRAIN         47.182970   \n",
       "2560         TEST         33.554271        TRAIN         33.565987   \n",
       "2561        TRAIN         48.104327        TRAIN         47.998546   \n",
       "\n",
       "      SET_FOLD_15 CEMENT_TYPE  \n",
       "0           TRAIN   CPII F 32  \n",
       "1            TEST  CPV ARI RS  \n",
       "2            TEST  CPV ARI RS  \n",
       "3           TRAIN     CPIV 32  \n",
       "4           TRAIN   CPII F 32  \n",
       "...           ...         ...  \n",
       "2557        TRAIN  CPV ARI RS  \n",
       "2558        TRAIN     CPIV 32  \n",
       "2559        TRAIN     CPV ARI  \n",
       "2560        TRAIN   CPII F 32  \n",
       "2561         TEST  CPV ARI RS  \n",
       "\n",
       "[2562 rows x 33 columns]"
      ]
     },
     "execution_count": 131,
     "metadata": {},
     "output_type": "execute_result"
    },
    {
     "data": {
      "application/javascript": [
       "\n",
       "            setTimeout(function() {\n",
       "                var nbb_cell_id = 131;\n",
       "                var nbb_unformatted_code = \"df_pred\";\n",
       "                var nbb_formatted_code = \"df_pred\";\n",
       "                var nbb_cells = Jupyter.notebook.get_cells();\n",
       "                for (var i = 0; i < nbb_cells.length; ++i) {\n",
       "                    if (nbb_cells[i].input_prompt_number == nbb_cell_id) {\n",
       "                        if (nbb_cells[i].get_text() == nbb_unformatted_code) {\n",
       "                             nbb_cells[i].set_text(nbb_formatted_code);\n",
       "                        }\n",
       "                        break;\n",
       "                    }\n",
       "                }\n",
       "            }, 500);\n",
       "            "
      ],
      "text/plain": [
       "<IPython.core.display.Javascript object>"
      ]
     },
     "metadata": {},
     "output_type": "display_data"
    }
   ],
   "source": [
    "df_pred"
   ]
  },
  {
   "cell_type": "code",
   "execution_count": 133,
   "id": "b10177b6",
   "metadata": {},
   "outputs": [
    {
     "data": {
      "text/plain": [
       "DATE                 0\n",
       "CS28                 0\n",
       "CS28_PRED_FOLD_1     0\n",
       "SET_FOLD_1           0\n",
       "CS28_PRED_FOLD_2     0\n",
       "SET_FOLD_2           0\n",
       "CS28_PRED_FOLD_3     0\n",
       "SET_FOLD_3           0\n",
       "CS28_PRED_FOLD_4     0\n",
       "SET_FOLD_4           0\n",
       "CS28_PRED_FOLD_5     0\n",
       "SET_FOLD_5           0\n",
       "CS28_PRED_FOLD_6     0\n",
       "SET_FOLD_6           0\n",
       "CS28_PRED_FOLD_7     0\n",
       "SET_FOLD_7           0\n",
       "CS28_PRED_FOLD_8     0\n",
       "SET_FOLD_8           0\n",
       "CS28_PRED_FOLD_9     0\n",
       "SET_FOLD_9           0\n",
       "CS28_PRED_FOLD_10    0\n",
       "SET_FOLD_10          0\n",
       "CS28_PRED_FOLD_11    0\n",
       "SET_FOLD_11          0\n",
       "CS28_PRED_FOLD_12    0\n",
       "SET_FOLD_12          0\n",
       "CS28_PRED_FOLD_13    0\n",
       "SET_FOLD_13          0\n",
       "CS28_PRED_FOLD_14    0\n",
       "SET_FOLD_14          0\n",
       "CS28_PRED_FOLD_15    0\n",
       "SET_FOLD_15          0\n",
       "CEMENT_TYPE          0\n",
       "dtype: int64"
      ]
     },
     "execution_count": 133,
     "metadata": {},
     "output_type": "execute_result"
    },
    {
     "data": {
      "application/javascript": [
       "\n",
       "            setTimeout(function() {\n",
       "                var nbb_cell_id = 133;\n",
       "                var nbb_unformatted_code = \"df_pred.isna().sum()\";\n",
       "                var nbb_formatted_code = \"df_pred.isna().sum()\";\n",
       "                var nbb_cells = Jupyter.notebook.get_cells();\n",
       "                for (var i = 0; i < nbb_cells.length; ++i) {\n",
       "                    if (nbb_cells[i].input_prompt_number == nbb_cell_id) {\n",
       "                        if (nbb_cells[i].get_text() == nbb_unformatted_code) {\n",
       "                             nbb_cells[i].set_text(nbb_formatted_code);\n",
       "                        }\n",
       "                        break;\n",
       "                    }\n",
       "                }\n",
       "            }, 500);\n",
       "            "
      ],
      "text/plain": [
       "<IPython.core.display.Javascript object>"
      ]
     },
     "metadata": {},
     "output_type": "display_data"
    }
   ],
   "source": [
    "df_pred.isna().sum()"
   ]
  },
  {
   "cell_type": "code",
   "execution_count": 134,
   "id": "4b4a0bf0",
   "metadata": {},
   "outputs": [
    {
     "name": "stdout",
     "output_type": "stream",
     "text": [
      "<class 'pandas.core.frame.DataFrame'>\n",
      "RangeIndex: 2562 entries, 0 to 2561\n",
      "Data columns (total 33 columns):\n",
      " #   Column             Non-Null Count  Dtype         \n",
      "---  ------             --------------  -----         \n",
      " 0   DATE               2562 non-null   datetime64[ns]\n",
      " 1   CS28               2562 non-null   float64       \n",
      " 2   CS28_PRED_FOLD_1   2562 non-null   float64       \n",
      " 3   SET_FOLD_1         2562 non-null   object        \n",
      " 4   CS28_PRED_FOLD_2   2562 non-null   float64       \n",
      " 5   SET_FOLD_2         2562 non-null   object        \n",
      " 6   CS28_PRED_FOLD_3   2562 non-null   float64       \n",
      " 7   SET_FOLD_3         2562 non-null   object        \n",
      " 8   CS28_PRED_FOLD_4   2562 non-null   float64       \n",
      " 9   SET_FOLD_4         2562 non-null   object        \n",
      " 10  CS28_PRED_FOLD_5   2562 non-null   float64       \n",
      " 11  SET_FOLD_5         2562 non-null   object        \n",
      " 12  CS28_PRED_FOLD_6   2562 non-null   float64       \n",
      " 13  SET_FOLD_6         2562 non-null   object        \n",
      " 14  CS28_PRED_FOLD_7   2562 non-null   float64       \n",
      " 15  SET_FOLD_7         2562 non-null   object        \n",
      " 16  CS28_PRED_FOLD_8   2562 non-null   float64       \n",
      " 17  SET_FOLD_8         2562 non-null   object        \n",
      " 18  CS28_PRED_FOLD_9   2562 non-null   float64       \n",
      " 19  SET_FOLD_9         2562 non-null   object        \n",
      " 20  CS28_PRED_FOLD_10  2562 non-null   float64       \n",
      " 21  SET_FOLD_10        2562 non-null   object        \n",
      " 22  CS28_PRED_FOLD_11  2562 non-null   float64       \n",
      " 23  SET_FOLD_11        2562 non-null   object        \n",
      " 24  CS28_PRED_FOLD_12  2562 non-null   float64       \n",
      " 25  SET_FOLD_12        2562 non-null   object        \n",
      " 26  CS28_PRED_FOLD_13  2562 non-null   float64       \n",
      " 27  SET_FOLD_13        2562 non-null   object        \n",
      " 28  CS28_PRED_FOLD_14  2562 non-null   float64       \n",
      " 29  SET_FOLD_14        2562 non-null   object        \n",
      " 30  CS28_PRED_FOLD_15  2562 non-null   float64       \n",
      " 31  SET_FOLD_15        2562 non-null   object        \n",
      " 32  CEMENT_TYPE        2562 non-null   object        \n",
      "dtypes: datetime64[ns](1), float64(16), object(16)\n",
      "memory usage: 660.6+ KB\n"
     ]
    },
    {
     "data": {
      "application/javascript": [
       "\n",
       "            setTimeout(function() {\n",
       "                var nbb_cell_id = 134;\n",
       "                var nbb_unformatted_code = \"df_pred.info()\";\n",
       "                var nbb_formatted_code = \"df_pred.info()\";\n",
       "                var nbb_cells = Jupyter.notebook.get_cells();\n",
       "                for (var i = 0; i < nbb_cells.length; ++i) {\n",
       "                    if (nbb_cells[i].input_prompt_number == nbb_cell_id) {\n",
       "                        if (nbb_cells[i].get_text() == nbb_unformatted_code) {\n",
       "                             nbb_cells[i].set_text(nbb_formatted_code);\n",
       "                        }\n",
       "                        break;\n",
       "                    }\n",
       "                }\n",
       "            }, 500);\n",
       "            "
      ],
      "text/plain": [
       "<IPython.core.display.Javascript object>"
      ]
     },
     "metadata": {},
     "output_type": "display_data"
    }
   ],
   "source": [
    "df_pred.info()"
   ]
  },
  {
   "cell_type": "code",
   "execution_count": 135,
   "id": "bf9481b2",
   "metadata": {},
   "outputs": [
    {
     "data": {
      "application/javascript": [
       "\n",
       "            setTimeout(function() {\n",
       "                var nbb_cell_id = 135;\n",
       "                var nbb_unformatted_code = \"df_pred.to_excel(\\\"fab_204_plant_F_KFOLD.xlsx\\\", index=False)\";\n",
       "                var nbb_formatted_code = \"df_pred.to_excel(\\\"fab_204_plant_F_KFOLD.xlsx\\\", index=False)\";\n",
       "                var nbb_cells = Jupyter.notebook.get_cells();\n",
       "                for (var i = 0; i < nbb_cells.length; ++i) {\n",
       "                    if (nbb_cells[i].input_prompt_number == nbb_cell_id) {\n",
       "                        if (nbb_cells[i].get_text() == nbb_unformatted_code) {\n",
       "                             nbb_cells[i].set_text(nbb_formatted_code);\n",
       "                        }\n",
       "                        break;\n",
       "                    }\n",
       "                }\n",
       "            }, 500);\n",
       "            "
      ],
      "text/plain": [
       "<IPython.core.display.Javascript object>"
      ]
     },
     "metadata": {},
     "output_type": "display_data"
    }
   ],
   "source": [
    "df_pred.to_excel(\"fab_204_plant_F_KFOLD.xlsx\", index=False)"
   ]
  },
  {
   "cell_type": "code",
   "execution_count": 136,
   "id": "68dd18ef",
   "metadata": {},
   "outputs": [
    {
     "data": {
      "text/plain": [
       "<matplotlib.legend.Legend at 0x7f4334a1f430>"
      ]
     },
     "execution_count": 136,
     "metadata": {},
     "output_type": "execute_result"
    },
    {
     "data": {
      "image/png": "[encoded data removed]",
      "text/plain": [
       "<Figure size 640x480 with 1 Axes>"
      ]
     },
     "metadata": {},
     "output_type": "display_data"
    },
    {
     "data": {
      "application/javascript": [
       "\n",
       "            setTimeout(function() {\n",
       "                var nbb_cell_id = 136;\n",
       "                var nbb_unformatted_code = \"df_pred.set_index(\\\"DATE\\\").plot(style=\\\".\\\")\\nplt.legend(bbox_to_anchor=(1.05, 1), loc='upper left')\";\n",
       "                var nbb_formatted_code = \"df_pred.set_index(\\\"DATE\\\").plot(style=\\\".\\\")\\nplt.legend(bbox_to_anchor=(1.05, 1), loc=\\\"upper left\\\")\";\n",
       "                var nbb_cells = Jupyter.notebook.get_cells();\n",
       "                for (var i = 0; i < nbb_cells.length; ++i) {\n",
       "                    if (nbb_cells[i].input_prompt_number == nbb_cell_id) {\n",
       "                        if (nbb_cells[i].get_text() == nbb_unformatted_code) {\n",
       "                             nbb_cells[i].set_text(nbb_formatted_code);\n",
       "                        }\n",
       "                        break;\n",
       "                    }\n",
       "                }\n",
       "            }, 500);\n",
       "            "
      ],
      "text/plain": [
       "<IPython.core.display.Javascript object>"
      ]
     },
     "metadata": {},
     "output_type": "display_data"
    }
   ],
   "source": [
    "df_pred.set_index(\"DATE\").plot(style=\".\")\n",
    "plt.legend(bbox_to_anchor=(1.05, 1), loc='upper left')\n"
   ]
  },
  {
   "cell_type": "code",
   "execution_count": null,
   "id": "0340a45a",
   "metadata": {},
   "outputs": [],
   "source": [
    "r_list = []\n",
    "for idx, pipeline in enumerate(scores[\"estimator\"]):\n",
    "    fold = f\"_FOLD_{idx + 1}\"\n",
    "    df_filter = df_pred[df_pred[\"SET\" + fold] == \"TEST\"]\n",
    "    r = r2_score(df_filter[\"CS28\"], df_filter[\"CS28_PRED\" + fold])\n",
    "    print(r)\n",
    "    r_list.append(r)"
   ]
  },
  {
   "cell_type": "code",
   "execution_count": 138,
   "id": "27262148",
   "metadata": {},
   "outputs": [
    {
     "data": {
      "text/plain": [
       "0.9194174112686567"
      ]
     },
     "execution_count": 138,
     "metadata": {},
     "output_type": "execute_result"
    },
    {
     "data": {
      "application/javascript": [
       "\n",
       "            setTimeout(function() {\n",
       "                var nbb_cell_id = 138;\n",
       "                var nbb_unformatted_code = \"np.mean(r_list)\";\n",
       "                var nbb_formatted_code = \"np.mean(r_list)\";\n",
       "                var nbb_cells = Jupyter.notebook.get_cells();\n",
       "                for (var i = 0; i < nbb_cells.length; ++i) {\n",
       "                    if (nbb_cells[i].input_prompt_number == nbb_cell_id) {\n",
       "                        if (nbb_cells[i].get_text() == nbb_unformatted_code) {\n",
       "                             nbb_cells[i].set_text(nbb_formatted_code);\n",
       "                        }\n",
       "                        break;\n",
       "                    }\n",
       "                }\n",
       "            }, 500);\n",
       "            "
      ],
      "text/plain": [
       "<IPython.core.display.Javascript object>"
      ]
     },
     "metadata": {},
     "output_type": "display_data"
    }
   ],
   "source": [
    "np.mean(r_list)"
   ]
  },
  {
   "cell_type": "code",
   "execution_count": 161,
   "id": "abb9d176",
   "metadata": {},
   "outputs": [
    {
     "data": {
      "application/javascript": [
       "\n",
       "            setTimeout(function() {\n",
       "                var nbb_cell_id = 161;\n",
       "                var nbb_unformatted_code = \"df_geral = pd.concat([df_pred[[\\\"CS28\\\"]].copy()] * 15).reset_index(drop=True)\\nsets = []\\npreds = []\\n\\nfor idx, pipeline in enumerate(scores[\\\"estimator\\\"]):\\n    fold = f\\\"_FOLD_{idx + 1}\\\"\\n    sets.append(df_pred[\\\"SET\\\" + fold].copy())\\n    preds.append(df_pred[\\\"CS28_PRED\\\" + fold].copy())\\n    \\ndf_geral[\\\"SET\\\"] = pd.concat(sets).reset_index(drop=True)\\ndf_geral[\\\"CS28_PRED\\\"] = pd.concat(preds).reset_index(drop=True)\";\n",
       "                var nbb_formatted_code = \"df_geral = pd.concat([df_pred[[\\\"CS28\\\"]].copy()] * 15).reset_index(drop=True)\\nsets = []\\npreds = []\\n\\nfor idx, pipeline in enumerate(scores[\\\"estimator\\\"]):\\n    fold = f\\\"_FOLD_{idx + 1}\\\"\\n    sets.append(df_pred[\\\"SET\\\" + fold].copy())\\n    preds.append(df_pred[\\\"CS28_PRED\\\" + fold].copy())\\n\\ndf_geral[\\\"SET\\\"] = pd.concat(sets).reset_index(drop=True)\\ndf_geral[\\\"CS28_PRED\\\"] = pd.concat(preds).reset_index(drop=True)\";\n",
       "                var nbb_cells = Jupyter.notebook.get_cells();\n",
       "                for (var i = 0; i < nbb_cells.length; ++i) {\n",
       "                    if (nbb_cells[i].input_prompt_number == nbb_cell_id) {\n",
       "                        if (nbb_cells[i].get_text() == nbb_unformatted_code) {\n",
       "                             nbb_cells[i].set_text(nbb_formatted_code);\n",
       "                        }\n",
       "                        break;\n",
       "                    }\n",
       "                }\n",
       "            }, 500);\n",
       "            "
      ],
      "text/plain": [
       "<IPython.core.display.Javascript object>"
      ]
     },
     "metadata": {},
     "output_type": "display_data"
    }
   ],
   "source": [
    "df_geral = pd.concat([df_pred[[\"CS28\"]].copy()] * 15).reset_index(drop=True)\n",
    "sets = []\n",
    "preds = []\n",
    "\n",
    "for idx, pipeline in enumerate(scores[\"estimator\"]):\n",
    "    fold = f\"_FOLD_{idx + 1}\"\n",
    "    sets.append(df_pred[\"SET\" + fold].copy())\n",
    "    preds.append(df_pred[\"CS28_PRED\" + fold].copy())\n",
    "\n",
    "df_geral[\"SET\"] = pd.concat(sets).reset_index(drop=True)\n",
    "df_geral[\"CS28_PRED\"] = pd.concat(preds).reset_index(drop=True)"
   ]
  },
  {
   "cell_type": "code",
   "execution_count": 163,
   "id": "170bb66e",
   "metadata": {},
   "outputs": [
    {
     "data": {
      "text/plain": [
       "0.9195227095304191"
      ]
     },
     "execution_count": 163,
     "metadata": {},
     "output_type": "execute_result"
    },
    {
     "data": {
      "application/javascript": [
       "\n",
       "            setTimeout(function() {\n",
       "                var nbb_cell_id = 163;\n",
       "                var nbb_unformatted_code = \"df_filter = df_geral[df_geral[\\\"SET\\\"] == \\\"TEST\\\"]\\nr2_score(df_filter[\\\"CS28\\\"], df_filter[\\\"CS28_PRED\\\"])\";\n",
       "                var nbb_formatted_code = \"df_filter = df_geral[df_geral[\\\"SET\\\"] == \\\"TEST\\\"]\\nr2_score(df_filter[\\\"CS28\\\"], df_filter[\\\"CS28_PRED\\\"])\";\n",
       "                var nbb_cells = Jupyter.notebook.get_cells();\n",
       "                for (var i = 0; i < nbb_cells.length; ++i) {\n",
       "                    if (nbb_cells[i].input_prompt_number == nbb_cell_id) {\n",
       "                        if (nbb_cells[i].get_text() == nbb_unformatted_code) {\n",
       "                             nbb_cells[i].set_text(nbb_formatted_code);\n",
       "                        }\n",
       "                        break;\n",
       "                    }\n",
       "                }\n",
       "            }, 500);\n",
       "            "
      ],
      "text/plain": [
       "<IPython.core.display.Javascript object>"
      ]
     },
     "metadata": {},
     "output_type": "display_data"
    }
   ],
   "source": [
    "df_filter = df_geral[df_geral[\"SET\"] == \"TEST\"]\n",
    "r2_score(df_filter[\"CS28\"], df_filter[\"CS28_PRED\"])"
   ]
  },
  {
   "cell_type": "markdown",
   "id": "f8f5ef93",
   "metadata": {
    "papermill": {
     "duration": 0.008138,
     "end_time": "2024-01-29T01:33:30.597902",
     "exception": false,
     "start_time": "2024-01-29T01:33:30.589764",
     "status": "completed"
    },
    "tags": []
   },
   "source": [
    "## 1.2. Blocking Time Series Cross Validation\n",
    "\n",
    "<b>Dataset shape:</b> (594, 38)<br>\n",
    "<b>Splits:</b>5<br>    \n",
    "    1. 5 folds of 118 samples\n",
    "    2. 50% train (59 samples each fold)\n",
    "    3. 50% test (59 samples each fold)\n",
    "<b>Total:</b> 5 models<br>"
   ]
  },
  {
   "cell_type": "code",
   "execution_count": 164,
   "id": "217ec09e",
   "metadata": {
    "execution": {
     "iopub.execute_input": "2024-01-29T01:33:30.620330Z",
     "iopub.status.busy": "2024-01-29T01:33:30.619786Z",
     "iopub.status.idle": "2024-01-29T01:33:30.690984Z",
     "shell.execute_reply": "2024-01-29T01:33:30.689387Z"
    },
    "papermill": {
     "duration": 0.086925,
     "end_time": "2024-01-29T01:33:30.694187",
     "exception": false,
     "start_time": "2024-01-29T01:33:30.607262",
     "status": "completed"
    },
    "tags": []
   },
   "outputs": [
    {
     "name": "stdout",
     "output_type": "stream",
     "text": [
      "Blocking Time Series Split:\n",
      "Repeats: 3\n",
      "n_splits: 5\n",
      "\n",
      "******\n",
      "[TRAIN]\n",
      "******\n",
      "RMSE: -1.771 (0.156)\n",
      "MAE: -1.271 (0.150)\n",
      "MAPE: -0.030 (0.003)\n",
      "R2: 0.935 (0.010)\n",
      "\n",
      "======================\n",
      "\n",
      "******\n",
      "[TEST]\n",
      "******\n",
      "RMSE: -1.998 (0.485)\n",
      "MAE: -1.518 (0.290)\n",
      "MAPE: -0.035 (0.007)\n",
      "R2: 0.910 (0.044)\n",
      "\n",
      "======================\n",
      "\n"
     ]
    },
    {
     "data": {
      "application/javascript": [
       "\n",
       "            setTimeout(function() {\n",
       "                var nbb_cell_id = 164;\n",
       "                var nbb_unformatted_code = \"n_splits = 5\\ntrain_size = 0.8\\n\\npipeline = Pipeline(\\n    [\\n        (\\\"imputer\\\", SimpleImputer(strategy=\\\"median\\\")),\\n        (\\\"transformer\\\", StandardScaler()),\\n        (\\\"estimator\\\", LinearRegression()),\\n    ]\\n)\\ncv = BlockingTimeSeriesSplit(n_splits=n_splits, train_size=train_size)\\nscores = cross_validate(\\n    pipeline,\\n    x,\\n    y,\\n    scoring=METRICS,\\n    cv=cv,\\n    n_jobs=-1,\\n    return_train_score=True,\\n    return_estimator=True,\\n    return_indices=True,\\n)\\nprint(\\\"Blocking Time Series Split:\\\")\\nprint(f\\\"Repeats: {repeats}\\\")\\nprint(f\\\"n_splits: {n_splits}\\\")\\nprint()\\nprint_scores(scores, METRICS, METRICS_DICT)\\n\\nresults_dict_copy = results_dict.copy()\\nresults_dict_copy[\\\"Cross Validation\\\"] = \\\"Blocking Time Series Split\\\"\\nresults_dict_copy[\\n    \\\"Cross Validation Params\\\"\\n] = '{\\\"N_Splits\\\": 5, \\\"Repeats\\\": 1, \\\"train_size\\\": 0.8}'\\nresults_dict_copy[\\\"Data Shape\\\"] = x.shape\\ndf_results = fill_results_dict(results_dict_copy, scores)\\nresults_to_save.append(df_results)\";\n",
       "                var nbb_formatted_code = \"n_splits = 5\\ntrain_size = 0.8\\n\\npipeline = Pipeline(\\n    [\\n        (\\\"imputer\\\", SimpleImputer(strategy=\\\"median\\\")),\\n        (\\\"transformer\\\", StandardScaler()),\\n        (\\\"estimator\\\", LinearRegression()),\\n    ]\\n)\\ncv = BlockingTimeSeriesSplit(n_splits=n_splits, train_size=train_size)\\nscores = cross_validate(\\n    pipeline,\\n    x,\\n    y,\\n    scoring=METRICS,\\n    cv=cv,\\n    n_jobs=-1,\\n    return_train_score=True,\\n    return_estimator=True,\\n    return_indices=True,\\n)\\nprint(\\\"Blocking Time Series Split:\\\")\\nprint(f\\\"Repeats: {repeats}\\\")\\nprint(f\\\"n_splits: {n_splits}\\\")\\nprint()\\nprint_scores(scores, METRICS, METRICS_DICT)\\n\\nresults_dict_copy = results_dict.copy()\\nresults_dict_copy[\\\"Cross Validation\\\"] = \\\"Blocking Time Series Split\\\"\\nresults_dict_copy[\\n    \\\"Cross Validation Params\\\"\\n] = '{\\\"N_Splits\\\": 5, \\\"Repeats\\\": 1, \\\"train_size\\\": 0.8}'\\nresults_dict_copy[\\\"Data Shape\\\"] = x.shape\\ndf_results = fill_results_dict(results_dict_copy, scores)\\nresults_to_save.append(df_results)\";\n",
       "                var nbb_cells = Jupyter.notebook.get_cells();\n",
       "                for (var i = 0; i < nbb_cells.length; ++i) {\n",
       "                    if (nbb_cells[i].input_prompt_number == nbb_cell_id) {\n",
       "                        if (nbb_cells[i].get_text() == nbb_unformatted_code) {\n",
       "                             nbb_cells[i].set_text(nbb_formatted_code);\n",
       "                        }\n",
       "                        break;\n",
       "                    }\n",
       "                }\n",
       "            }, 500);\n",
       "            "
      ],
      "text/plain": [
       "<IPython.core.display.Javascript object>"
      ]
     },
     "metadata": {},
     "output_type": "display_data"
    }
   ],
   "source": [
    "n_splits = 5\n",
    "train_size = 0.8\n",
    "\n",
    "pipeline = Pipeline(\n",
    "    [\n",
    "        (\"imputer\", SimpleImputer(strategy=\"median\")),\n",
    "        (\"transformer\", StandardScaler()),\n",
    "        (\"estimator\", LinearRegression()),\n",
    "    ]\n",
    ")\n",
    "cv = BlockingTimeSeriesSplit(n_splits=n_splits, train_size=train_size)\n",
    "scores = cross_validate(\n",
    "    pipeline,\n",
    "    x,\n",
    "    y,\n",
    "    scoring=METRICS,\n",
    "    cv=cv,\n",
    "    n_jobs=-1,\n",
    "    return_train_score=True,\n",
    "    return_estimator=True,\n",
    "    return_indices=True,\n",
    ")\n",
    "print(\"Blocking Time Series Split:\")\n",
    "print(f\"Repeats: {repeats}\")\n",
    "print(f\"n_splits: {n_splits}\")\n",
    "print()\n",
    "print_scores(scores, METRICS, METRICS_DICT)\n",
    "\n",
    "results_dict_copy = results_dict.copy()\n",
    "results_dict_copy[\"Cross Validation\"] = \"Blocking Time Series Split\"\n",
    "results_dict_copy[\n",
    "    \"Cross Validation Params\"\n",
    "] = '{\"N_Splits\": 5, \"Repeats\": 1, \"train_size\": 0.8}'\n",
    "results_dict_copy[\"Data Shape\"] = x.shape\n",
    "df_results = fill_results_dict(results_dict_copy, scores)\n",
    "results_to_save.append(df_results)"
   ]
  },
  {
   "cell_type": "code",
   "execution_count": 165,
   "id": "0871cc13",
   "metadata": {},
   "outputs": [
    {
     "data": {
      "application/javascript": [
       "\n",
       "            setTimeout(function() {\n",
       "                var nbb_cell_id = 165;\n",
       "                var nbb_unformatted_code = \"df_pred = pd.DataFrame()\\ndf_pred[\\\"DATE\\\"] = dates.copy()\\ndf_pred[\\\"CS28\\\"] = y.copy()\\ndf_pred[\\\"CS28_PRED\\\"] = np.nan\\ndf_pred[\\\"SET\\\"] = \\\"\\\"\\ndf_pred[\\\"CEMENT_TYPE\\\"] = df[\\\"Cement_Type\\\"].copy()\\ndf_pred[\\\"DATE\\\"] = pd.to_datetime(df_pred[\\\"DATE\\\"])\";\n",
       "                var nbb_formatted_code = \"df_pred = pd.DataFrame()\\ndf_pred[\\\"DATE\\\"] = dates.copy()\\ndf_pred[\\\"CS28\\\"] = y.copy()\\ndf_pred[\\\"CS28_PRED\\\"] = np.nan\\ndf_pred[\\\"SET\\\"] = \\\"\\\"\\ndf_pred[\\\"CEMENT_TYPE\\\"] = df[\\\"Cement_Type\\\"].copy()\\ndf_pred[\\\"DATE\\\"] = pd.to_datetime(df_pred[\\\"DATE\\\"])\";\n",
       "                var nbb_cells = Jupyter.notebook.get_cells();\n",
       "                for (var i = 0; i < nbb_cells.length; ++i) {\n",
       "                    if (nbb_cells[i].input_prompt_number == nbb_cell_id) {\n",
       "                        if (nbb_cells[i].get_text() == nbb_unformatted_code) {\n",
       "                             nbb_cells[i].set_text(nbb_formatted_code);\n",
       "                        }\n",
       "                        break;\n",
       "                    }\n",
       "                }\n",
       "            }, 500);\n",
       "            "
      ],
      "text/plain": [
       "<IPython.core.display.Javascript object>"
      ]
     },
     "metadata": {},
     "output_type": "display_data"
    }
   ],
   "source": [
    "df_pred = pd.DataFrame()\n",
    "df_pred[\"DATE\"] = dates.copy()\n",
    "df_pred[\"CS28\"] = y.copy()\n",
    "df_pred[\"CS28_PRED\"] = np.nan\n",
    "df_pred[\"SET\"] = \"\"\n",
    "df_pred[\"CEMENT_TYPE\"] = df[\"Cement_Type\"].copy()\n",
    "df_pred[\"DATE\"] = pd.to_datetime(df_pred[\"DATE\"])"
   ]
  },
  {
   "cell_type": "code",
   "execution_count": 166,
   "id": "f911c951",
   "metadata": {},
   "outputs": [
    {
     "data": {
      "application/javascript": [
       "\n",
       "            setTimeout(function() {\n",
       "                var nbb_cell_id = 166;\n",
       "                var nbb_unformatted_code = \"for idx, pipeline in enumerate(scores[\\\"estimator\\\"]):\\n    index_train = scores[\\\"indices\\\"][\\\"train\\\"][idx]\\n    index_test = scores[\\\"indices\\\"][\\\"test\\\"][idx]\\n    index_preds = np.concatenate([index_train, index_test])\\n\\n    # results = scores[\\\"estimator\\\"][0].predict(x.loc[index_preds])\\n    results = pipeline.predict(x.loc[index_preds])\\n    df_pred.loc[index_preds, \\\"CS28_PRED\\\"] = results.copy()\\n    df_pred.loc[index_train, \\\"SET\\\"] = \\\"TRAIN\\\"\\n    df_pred.loc[index_test, \\\"SET\\\"] = \\\"TEST\\\"\\ndf_pred = df_pred.dropna()\";\n",
       "                var nbb_formatted_code = \"for idx, pipeline in enumerate(scores[\\\"estimator\\\"]):\\n    index_train = scores[\\\"indices\\\"][\\\"train\\\"][idx]\\n    index_test = scores[\\\"indices\\\"][\\\"test\\\"][idx]\\n    index_preds = np.concatenate([index_train, index_test])\\n\\n    # results = scores[\\\"estimator\\\"][0].predict(x.loc[index_preds])\\n    results = pipeline.predict(x.loc[index_preds])\\n    df_pred.loc[index_preds, \\\"CS28_PRED\\\"] = results.copy()\\n    df_pred.loc[index_train, \\\"SET\\\"] = \\\"TRAIN\\\"\\n    df_pred.loc[index_test, \\\"SET\\\"] = \\\"TEST\\\"\\ndf_pred = df_pred.dropna()\";\n",
       "                var nbb_cells = Jupyter.notebook.get_cells();\n",
       "                for (var i = 0; i < nbb_cells.length; ++i) {\n",
       "                    if (nbb_cells[i].input_prompt_number == nbb_cell_id) {\n",
       "                        if (nbb_cells[i].get_text() == nbb_unformatted_code) {\n",
       "                             nbb_cells[i].set_text(nbb_formatted_code);\n",
       "                        }\n",
       "                        break;\n",
       "                    }\n",
       "                }\n",
       "            }, 500);\n",
       "            "
      ],
      "text/plain": [
       "<IPython.core.display.Javascript object>"
      ]
     },
     "metadata": {},
     "output_type": "display_data"
    }
   ],
   "source": [
    "for idx, pipeline in enumerate(scores[\"estimator\"]):\n",
    "    index_train = scores[\"indices\"][\"train\"][idx]\n",
    "    index_test = scores[\"indices\"][\"test\"][idx]\n",
    "    index_preds = np.concatenate([index_train, index_test])\n",
    "\n",
    "    # results = scores[\"estimator\"][0].predict(x.loc[index_preds])\n",
    "    results = pipeline.predict(x.loc[index_preds])\n",
    "    df_pred.loc[index_preds, \"CS28_PRED\"] = results.copy()\n",
    "    df_pred.loc[index_train, \"SET\"] = \"TRAIN\"\n",
    "    df_pred.loc[index_test, \"SET\"] = \"TEST\"\n",
    "df_pred = df_pred.dropna()"
   ]
  },
  {
   "cell_type": "code",
   "execution_count": 167,
   "id": "ac3f1eb2",
   "metadata": {},
   "outputs": [
    {
     "data": {
      "text/html": [
       "<div>\n",
       "<style scoped>\n",
       "    .dataframe tbody tr th:only-of-type {\n",
       "        vertical-align: middle;\n",
       "    }\n",
       "\n",
       "    .dataframe tbody tr th {\n",
       "        vertical-align: top;\n",
       "    }\n",
       "\n",
       "    .dataframe thead th {\n",
       "        text-align: right;\n",
       "    }\n",
       "</style>\n",
       "<table border=\"1\" class=\"dataframe\">\n",
       "  <thead>\n",
       "    <tr style=\"text-align: right;\">\n",
       "      <th></th>\n",
       "      <th>DATE</th>\n",
       "      <th>CS28</th>\n",
       "      <th>CS28_PRED</th>\n",
       "      <th>SET</th>\n",
       "      <th>CEMENT_TYPE</th>\n",
       "    </tr>\n",
       "  </thead>\n",
       "  <tbody>\n",
       "    <tr>\n",
       "      <th>0</th>\n",
       "      <td>2020-01-02</td>\n",
       "      <td>36.3</td>\n",
       "      <td>39.297072</td>\n",
       "      <td>TRAIN</td>\n",
       "      <td>CPII F 32</td>\n",
       "    </tr>\n",
       "    <tr>\n",
       "      <th>1</th>\n",
       "      <td>2020-01-04</td>\n",
       "      <td>52.2</td>\n",
       "      <td>50.466946</td>\n",
       "      <td>TRAIN</td>\n",
       "      <td>CPV ARI RS</td>\n",
       "    </tr>\n",
       "    <tr>\n",
       "      <th>2</th>\n",
       "      <td>2020-01-04</td>\n",
       "      <td>48.7</td>\n",
       "      <td>49.921702</td>\n",
       "      <td>TRAIN</td>\n",
       "      <td>CPV ARI RS</td>\n",
       "    </tr>\n",
       "    <tr>\n",
       "      <th>3</th>\n",
       "      <td>2020-01-05</td>\n",
       "      <td>33.0</td>\n",
       "      <td>36.163445</td>\n",
       "      <td>TRAIN</td>\n",
       "      <td>CPIV 32</td>\n",
       "    </tr>\n",
       "    <tr>\n",
       "      <th>4</th>\n",
       "      <td>2020-01-05</td>\n",
       "      <td>33.8</td>\n",
       "      <td>35.378976</td>\n",
       "      <td>TRAIN</td>\n",
       "      <td>CPII F 32</td>\n",
       "    </tr>\n",
       "    <tr>\n",
       "      <th>...</th>\n",
       "      <td>...</td>\n",
       "      <td>...</td>\n",
       "      <td>...</td>\n",
       "      <td>...</td>\n",
       "      <td>...</td>\n",
       "    </tr>\n",
       "    <tr>\n",
       "      <th>2555</th>\n",
       "      <td>2023-06-28</td>\n",
       "      <td>48.5</td>\n",
       "      <td>48.246005</td>\n",
       "      <td>TEST</td>\n",
       "      <td>CPV ARI RS</td>\n",
       "    </tr>\n",
       "    <tr>\n",
       "      <th>2556</th>\n",
       "      <td>2023-06-28</td>\n",
       "      <td>36.5</td>\n",
       "      <td>35.652174</td>\n",
       "      <td>TEST</td>\n",
       "      <td>CPII F 32</td>\n",
       "    </tr>\n",
       "    <tr>\n",
       "      <th>2557</th>\n",
       "      <td>2023-06-28</td>\n",
       "      <td>47.6</td>\n",
       "      <td>48.246414</td>\n",
       "      <td>TEST</td>\n",
       "      <td>CPV ARI RS</td>\n",
       "    </tr>\n",
       "    <tr>\n",
       "      <th>2558</th>\n",
       "      <td>2023-06-28</td>\n",
       "      <td>36.9</td>\n",
       "      <td>35.932740</td>\n",
       "      <td>TEST</td>\n",
       "      <td>CPIV 32</td>\n",
       "    </tr>\n",
       "    <tr>\n",
       "      <th>2559</th>\n",
       "      <td>2023-07-02</td>\n",
       "      <td>49.6</td>\n",
       "      <td>47.633098</td>\n",
       "      <td>TEST</td>\n",
       "      <td>CPV ARI</td>\n",
       "    </tr>\n",
       "  </tbody>\n",
       "</table>\n",
       "<p>2560 rows × 5 columns</p>\n",
       "</div>"
      ],
      "text/plain": [
       "           DATE  CS28  CS28_PRED    SET CEMENT_TYPE\n",
       "0    2020-01-02  36.3  39.297072  TRAIN   CPII F 32\n",
       "1    2020-01-04  52.2  50.466946  TRAIN  CPV ARI RS\n",
       "2    2020-01-04  48.7  49.921702  TRAIN  CPV ARI RS\n",
       "3    2020-01-05  33.0  36.163445  TRAIN     CPIV 32\n",
       "4    2020-01-05  33.8  35.378976  TRAIN   CPII F 32\n",
       "...         ...   ...        ...    ...         ...\n",
       "2555 2023-06-28  48.5  48.246005   TEST  CPV ARI RS\n",
       "2556 2023-06-28  36.5  35.652174   TEST   CPII F 32\n",
       "2557 2023-06-28  47.6  48.246414   TEST  CPV ARI RS\n",
       "2558 2023-06-28  36.9  35.932740   TEST     CPIV 32\n",
       "2559 2023-07-02  49.6  47.633098   TEST     CPV ARI\n",
       "\n",
       "[2560 rows x 5 columns]"
      ]
     },
     "execution_count": 167,
     "metadata": {},
     "output_type": "execute_result"
    },
    {
     "data": {
      "application/javascript": [
       "\n",
       "            setTimeout(function() {\n",
       "                var nbb_cell_id = 167;\n",
       "                var nbb_unformatted_code = \"df_pred\";\n",
       "                var nbb_formatted_code = \"df_pred\";\n",
       "                var nbb_cells = Jupyter.notebook.get_cells();\n",
       "                for (var i = 0; i < nbb_cells.length; ++i) {\n",
       "                    if (nbb_cells[i].input_prompt_number == nbb_cell_id) {\n",
       "                        if (nbb_cells[i].get_text() == nbb_unformatted_code) {\n",
       "                             nbb_cells[i].set_text(nbb_formatted_code);\n",
       "                        }\n",
       "                        break;\n",
       "                    }\n",
       "                }\n",
       "            }, 500);\n",
       "            "
      ],
      "text/plain": [
       "<IPython.core.display.Javascript object>"
      ]
     },
     "metadata": {},
     "output_type": "display_data"
    }
   ],
   "source": [
    "df_pred"
   ]
  },
  {
   "cell_type": "code",
   "execution_count": 170,
   "id": "9e32ffec",
   "metadata": {},
   "outputs": [
    {
     "data": {
      "application/javascript": [
       "\n",
       "            setTimeout(function() {\n",
       "                var nbb_cell_id = 170;\n",
       "                var nbb_unformatted_code = \"df_pred.to_excel(\\\"fab_204_plant_F_BLOCKING.xlsx\\\", index=False)\";\n",
       "                var nbb_formatted_code = \"df_pred.to_excel(\\\"fab_204_plant_F_BLOCKING.xlsx\\\", index=False)\";\n",
       "                var nbb_cells = Jupyter.notebook.get_cells();\n",
       "                for (var i = 0; i < nbb_cells.length; ++i) {\n",
       "                    if (nbb_cells[i].input_prompt_number == nbb_cell_id) {\n",
       "                        if (nbb_cells[i].get_text() == nbb_unformatted_code) {\n",
       "                             nbb_cells[i].set_text(nbb_formatted_code);\n",
       "                        }\n",
       "                        break;\n",
       "                    }\n",
       "                }\n",
       "            }, 500);\n",
       "            "
      ],
      "text/plain": [
       "<IPython.core.display.Javascript object>"
      ]
     },
     "metadata": {},
     "output_type": "display_data"
    }
   ],
   "source": [
    "df_pred.to_excel(\"fab_204_plant_F_BLOCKING.xlsx\", index=False)"
   ]
  },
  {
   "cell_type": "code",
   "execution_count": 171,
   "id": "bb0c46f3",
   "metadata": {},
   "outputs": [
    {
     "name": "stdout",
     "output_type": "stream",
     "text": [
      "<class 'pandas.core.frame.DataFrame'>\n",
      "Index: 2560 entries, 0 to 2559\n",
      "Data columns (total 5 columns):\n",
      " #   Column       Non-Null Count  Dtype         \n",
      "---  ------       --------------  -----         \n",
      " 0   DATE         2560 non-null   datetime64[ns]\n",
      " 1   CS28         2560 non-null   float64       \n",
      " 2   CS28_PRED    2560 non-null   float64       \n",
      " 3   SET          2560 non-null   object        \n",
      " 4   CEMENT_TYPE  2560 non-null   object        \n",
      "dtypes: datetime64[ns](1), float64(2), object(2)\n",
      "memory usage: 120.0+ KB\n"
     ]
    },
    {
     "data": {
      "application/javascript": [
       "\n",
       "            setTimeout(function() {\n",
       "                var nbb_cell_id = 171;\n",
       "                var nbb_unformatted_code = \"df_pred.info()\";\n",
       "                var nbb_formatted_code = \"df_pred.info()\";\n",
       "                var nbb_cells = Jupyter.notebook.get_cells();\n",
       "                for (var i = 0; i < nbb_cells.length; ++i) {\n",
       "                    if (nbb_cells[i].input_prompt_number == nbb_cell_id) {\n",
       "                        if (nbb_cells[i].get_text() == nbb_unformatted_code) {\n",
       "                             nbb_cells[i].set_text(nbb_formatted_code);\n",
       "                        }\n",
       "                        break;\n",
       "                    }\n",
       "                }\n",
       "            }, 500);\n",
       "            "
      ],
      "text/plain": [
       "<IPython.core.display.Javascript object>"
      ]
     },
     "metadata": {},
     "output_type": "display_data"
    }
   ],
   "source": [
    "df_pred.info()"
   ]
  },
  {
   "cell_type": "code",
   "execution_count": 172,
   "id": "e65f08b7",
   "metadata": {},
   "outputs": [
    {
     "data": {
      "text/plain": [
       "0.9092997290895463"
      ]
     },
     "execution_count": 172,
     "metadata": {},
     "output_type": "execute_result"
    },
    {
     "data": {
      "application/javascript": [
       "\n",
       "            setTimeout(function() {\n",
       "                var nbb_cell_id = 172;\n",
       "                var nbb_unformatted_code = \"df_filter = df_pred[df_pred[\\\"SET\\\"] == \\\"TEST\\\"]\\nr2_score(df_filter[\\\"CS28\\\"], df_filter[\\\"CS28_PRED\\\"])\";\n",
       "                var nbb_formatted_code = \"df_filter = df_pred[df_pred[\\\"SET\\\"] == \\\"TEST\\\"]\\nr2_score(df_filter[\\\"CS28\\\"], df_filter[\\\"CS28_PRED\\\"])\";\n",
       "                var nbb_cells = Jupyter.notebook.get_cells();\n",
       "                for (var i = 0; i < nbb_cells.length; ++i) {\n",
       "                    if (nbb_cells[i].input_prompt_number == nbb_cell_id) {\n",
       "                        if (nbb_cells[i].get_text() == nbb_unformatted_code) {\n",
       "                             nbb_cells[i].set_text(nbb_formatted_code);\n",
       "                        }\n",
       "                        break;\n",
       "                    }\n",
       "                }\n",
       "            }, 500);\n",
       "            "
      ],
      "text/plain": [
       "<IPython.core.display.Javascript object>"
      ]
     },
     "metadata": {},
     "output_type": "display_data"
    }
   ],
   "source": [
    "df_filter = df_pred[df_pred[\"SET\"] == \"TEST\"]\n",
    "r2_score(df_filter[\"CS28\"], df_filter[\"CS28_PRED\"])"
   ]
  },
  {
   "cell_type": "code",
   "execution_count": 173,
   "id": "a1362cba",
   "metadata": {},
   "outputs": [
    {
     "data": {
      "application/javascript": [
       "\n",
       "            setTimeout(function() {\n",
       "                var nbb_cell_id = 173;\n",
       "                var nbb_unformatted_code = \"preds = []\\n\\nfor idx, pipeline in enumerate(scores[\\\"estimator\\\"]):\\n    index_train = scores[\\\"indices\\\"][\\\"train\\\"][idx]\\n    index_test = scores[\\\"indices\\\"][\\\"test\\\"][idx]\\n    preds.append(df_pred.loc[index_test].copy())\\n\\nscrs = []\\nfor df_filter in preds:\\n    r = r2_score(df_filter[\\\"CS28\\\"], df_filter[\\\"CS28_PRED\\\"])\\n    scrs.append(r)    \";\n",
       "                var nbb_formatted_code = \"preds = []\\n\\nfor idx, pipeline in enumerate(scores[\\\"estimator\\\"]):\\n    index_train = scores[\\\"indices\\\"][\\\"train\\\"][idx]\\n    index_test = scores[\\\"indices\\\"][\\\"test\\\"][idx]\\n    preds.append(df_pred.loc[index_test].copy())\\n\\nscrs = []\\nfor df_filter in preds:\\n    r = r2_score(df_filter[\\\"CS28\\\"], df_filter[\\\"CS28_PRED\\\"])\\n    scrs.append(r)\";\n",
       "                var nbb_cells = Jupyter.notebook.get_cells();\n",
       "                for (var i = 0; i < nbb_cells.length; ++i) {\n",
       "                    if (nbb_cells[i].input_prompt_number == nbb_cell_id) {\n",
       "                        if (nbb_cells[i].get_text() == nbb_unformatted_code) {\n",
       "                             nbb_cells[i].set_text(nbb_formatted_code);\n",
       "                        }\n",
       "                        break;\n",
       "                    }\n",
       "                }\n",
       "            }, 500);\n",
       "            "
      ],
      "text/plain": [
       "<IPython.core.display.Javascript object>"
      ]
     },
     "metadata": {},
     "output_type": "display_data"
    }
   ],
   "source": [
    "preds = []\n",
    "\n",
    "for idx, pipeline in enumerate(scores[\"estimator\"]):\n",
    "    index_train = scores[\"indices\"][\"train\"][idx]\n",
    "    index_test = scores[\"indices\"][\"test\"][idx]\n",
    "    preds.append(df_pred.loc[index_test].copy())\n",
    "\n",
    "scrs = []\n",
    "for df_filter in preds:\n",
    "    r = r2_score(df_filter[\"CS28\"], df_filter[\"CS28_PRED\"])\n",
    "    scrs.append(r)"
   ]
  },
  {
   "cell_type": "code",
   "execution_count": 174,
   "id": "59279d03",
   "metadata": {},
   "outputs": [
    {
     "data": {
      "text/plain": [
       "0.9099117484862482"
      ]
     },
     "execution_count": 174,
     "metadata": {},
     "output_type": "execute_result"
    },
    {
     "data": {
      "application/javascript": [
       "\n",
       "            setTimeout(function() {\n",
       "                var nbb_cell_id = 174;\n",
       "                var nbb_unformatted_code = \"np.mean(scrs)\";\n",
       "                var nbb_formatted_code = \"np.mean(scrs)\";\n",
       "                var nbb_cells = Jupyter.notebook.get_cells();\n",
       "                for (var i = 0; i < nbb_cells.length; ++i) {\n",
       "                    if (nbb_cells[i].input_prompt_number == nbb_cell_id) {\n",
       "                        if (nbb_cells[i].get_text() == nbb_unformatted_code) {\n",
       "                             nbb_cells[i].set_text(nbb_formatted_code);\n",
       "                        }\n",
       "                        break;\n",
       "                    }\n",
       "                }\n",
       "            }, 500);\n",
       "            "
      ],
      "text/plain": [
       "<IPython.core.display.Javascript object>"
      ]
     },
     "metadata": {},
     "output_type": "display_data"
    }
   ],
   "source": [
    "np.mean(scrs)"
   ]
  },
  {
   "cell_type": "code",
   "execution_count": 175,
   "id": "7adf52ef",
   "metadata": {},
   "outputs": [
    {
     "name": "stdout",
     "output_type": "stream",
     "text": [
      "0.9327982875998237\n",
      "0.9231012306185428\n",
      "0.9153350298502175\n",
      "0.8252268827425364\n",
      "0.9530973116201208\n"
     ]
    },
    {
     "data": {
      "application/javascript": [
       "\n",
       "            setTimeout(function() {\n",
       "                var nbb_cell_id = 175;\n",
       "                var nbb_unformatted_code = \"for r in scrs:\\n    print(r)\";\n",
       "                var nbb_formatted_code = \"for r in scrs:\\n    print(r)\";\n",
       "                var nbb_cells = Jupyter.notebook.get_cells();\n",
       "                for (var i = 0; i < nbb_cells.length; ++i) {\n",
       "                    if (nbb_cells[i].input_prompt_number == nbb_cell_id) {\n",
       "                        if (nbb_cells[i].get_text() == nbb_unformatted_code) {\n",
       "                             nbb_cells[i].set_text(nbb_formatted_code);\n",
       "                        }\n",
       "                        break;\n",
       "                    }\n",
       "                }\n",
       "            }, 500);\n",
       "            "
      ],
      "text/plain": [
       "<IPython.core.display.Javascript object>"
      ]
     },
     "metadata": {},
     "output_type": "display_data"
    }
   ],
   "source": [
    "for r in scrs:\n",
    "    print(r)"
   ]
  },
  {
   "cell_type": "code",
   "execution_count": 176,
   "id": "2d36a4da",
   "metadata": {},
   "outputs": [
    {
     "data": {
      "application/javascript": [
       "\n",
       "            setTimeout(function() {\n",
       "                var nbb_cell_id = 176;\n",
       "                var nbb_unformatted_code = \"df_copy2 = df.copy()\";\n",
       "                var nbb_formatted_code = \"df_copy2 = df.copy()\";\n",
       "                var nbb_cells = Jupyter.notebook.get_cells();\n",
       "                for (var i = 0; i < nbb_cells.length; ++i) {\n",
       "                    if (nbb_cells[i].input_prompt_number == nbb_cell_id) {\n",
       "                        if (nbb_cells[i].get_text() == nbb_unformatted_code) {\n",
       "                             nbb_cells[i].set_text(nbb_formatted_code);\n",
       "                        }\n",
       "                        break;\n",
       "                    }\n",
       "                }\n",
       "            }, 500);\n",
       "            "
      ],
      "text/plain": [
       "<IPython.core.display.Javascript object>"
      ]
     },
     "metadata": {},
     "output_type": "display_data"
    }
   ],
   "source": [
    "df_copy2 = df.copy()"
   ]
  },
  {
   "cell_type": "code",
   "execution_count": 181,
   "id": "4eefe1aa",
   "metadata": {},
   "outputs": [
    {
     "data": {
      "image/png": "[encoded data removed]",
      "text/plain": [
       "<Figure size 1000x600 with 1 Axes>"
      ]
     },
     "metadata": {},
     "output_type": "display_data"
    },
    {
     "data": {
      "application/javascript": [
       "\n",
       "            setTimeout(function() {\n",
       "                var nbb_cell_id = 181;\n",
       "                var nbb_unformatted_code = \"import pandas as pd\\nimport matplotlib.pyplot as plt\\n\\n\\ndf = df_pred.drop([\\\"CEMENT_TYPE\\\"], axis=1).reset_index(drop=True).copy()\\n\\n# Convert 'DATE' column to datetime\\ndf['DATE'] = pd.to_datetime(df['DATE'])\\n\\n# Separate train and test sets\\ntrain_data = df[df['SET'] == 'TRAIN']\\ntest_data = df[df['SET'] == 'TEST']\\n\\n# Plotting\\nplt.figure(figsize=(10, 6))\\n\\nplt.scatter(train_data['DATE'], train_data['CS28_PRED'], color='blue', label='Train Predictions')\\nplt.scatter(test_data['DATE'], test_data['CS28_PRED'], color='red', label='Test Predictions')\\n\\n# plt.scatter(df['DATE'], df['CS28'], color='green', label='Actual')\\n\\nplt.xlabel('Date')\\nplt.ylabel('CS28 Prediction')\\nplt.title('CS28 Predictions')\\nplt.xticks(rotation=45)\\nplt.legend()\\nplt.tight_layout()\\nplt.show()\";\n",
       "                var nbb_formatted_code = \"import pandas as pd\\nimport matplotlib.pyplot as plt\\n\\n\\ndf = df_pred.drop([\\\"CEMENT_TYPE\\\"], axis=1).reset_index(drop=True).copy()\\n\\n# Convert 'DATE' column to datetime\\ndf[\\\"DATE\\\"] = pd.to_datetime(df[\\\"DATE\\\"])\\n\\n# Separate train and test sets\\ntrain_data = df[df[\\\"SET\\\"] == \\\"TRAIN\\\"]\\ntest_data = df[df[\\\"SET\\\"] == \\\"TEST\\\"]\\n\\n# Plotting\\nplt.figure(figsize=(10, 6))\\n\\nplt.scatter(\\n    train_data[\\\"DATE\\\"], train_data[\\\"CS28_PRED\\\"], color=\\\"blue\\\", label=\\\"Train Predictions\\\"\\n)\\nplt.scatter(\\n    test_data[\\\"DATE\\\"], test_data[\\\"CS28_PRED\\\"], color=\\\"red\\\", label=\\\"Test Predictions\\\"\\n)\\n\\n# plt.scatter(df['DATE'], df['CS28'], color='green', label='Actual')\\n\\nplt.xlabel(\\\"Date\\\")\\nplt.ylabel(\\\"CS28 Prediction\\\")\\nplt.title(\\\"CS28 Predictions\\\")\\nplt.xticks(rotation=45)\\nplt.legend()\\nplt.tight_layout()\\nplt.show()\";\n",
       "                var nbb_cells = Jupyter.notebook.get_cells();\n",
       "                for (var i = 0; i < nbb_cells.length; ++i) {\n",
       "                    if (nbb_cells[i].input_prompt_number == nbb_cell_id) {\n",
       "                        if (nbb_cells[i].get_text() == nbb_unformatted_code) {\n",
       "                             nbb_cells[i].set_text(nbb_formatted_code);\n",
       "                        }\n",
       "                        break;\n",
       "                    }\n",
       "                }\n",
       "            }, 500);\n",
       "            "
      ],
      "text/plain": [
       "<IPython.core.display.Javascript object>"
      ]
     },
     "metadata": {},
     "output_type": "display_data"
    }
   ],
   "source": [
    "import pandas as pd\n",
    "import matplotlib.pyplot as plt\n",
    "\n",
    "\n",
    "df = df_pred.drop([\"CEMENT_TYPE\"], axis=1).reset_index(drop=True).copy()\n",
    "\n",
    "# Convert 'DATE' column to datetime\n",
    "df['DATE'] = pd.to_datetime(df['DATE'])\n",
    "\n",
    "# Separate train and test sets\n",
    "train_data = df[df['SET'] == 'TRAIN']\n",
    "test_data = df[df['SET'] == 'TEST']\n",
    "\n",
    "# Plotting\n",
    "plt.figure(figsize=(10, 6))\n",
    "\n",
    "plt.scatter(train_data['DATE'], train_data['CS28_PRED'], color='blue', label='Train Predictions')\n",
    "plt.scatter(test_data['DATE'], test_data['CS28_PRED'], color='red', label='Test Predictions')\n",
    "\n",
    "# plt.scatter(df['DATE'], df['CS28'], color='green', label='Actual')\n",
    "\n",
    "plt.xlabel('Date')\n",
    "plt.ylabel('CS28 Prediction')\n",
    "plt.title('CS28 Predictions')\n",
    "plt.xticks(rotation=45)\n",
    "plt.legend()\n",
    "plt.tight_layout()\n",
    "plt.show()\n"
   ]
  },
  {
   "cell_type": "code",
   "execution_count": 180,
   "id": "313aec2a",
   "metadata": {},
   "outputs": [
    {
     "data": {
      "image/png": "[encoded data removed]",
      "text/plain": [
       "<Figure size 1000x600 with 1 Axes>"
      ]
     },
     "metadata": {},
     "output_type": "display_data"
    },
    {
     "data": {
      "application/javascript": [
       "\n",
       "            setTimeout(function() {\n",
       "                var nbb_cell_id = 180;\n",
       "                var nbb_unformatted_code = \"import pandas as pd\\nimport matplotlib.pyplot as plt\\n\\n# Assuming you already have your DataFrame df\\ndf = df_pred.iloc[1:].reset_index(drop=True).copy()\\n\\n# Get unique cement types\\ncement_types = ['CP II-F32', 'CP VARI', 'CP II-F40', 'CP IV32', 'CP II-E40', 'CP II-E32', 'CP II-Z32', 'CP III32']\\n\\n# Define colors for train and test sets for each cement type\\ncement_colors = {\\n    'CP II-F32': {'TRAIN': 'blue', 'TEST': 'orange'},\\n    'CP VARI': {'TRAIN': 'red', 'TEST': 'green'},\\n    'CP II-F40': {'TRAIN': 'purple', 'TEST': 'brown'},\\n    'CP IV32': {'TRAIN': 'pink', 'TEST': 'gray'},\\n    'CP II-E40': {'TRAIN': 'cyan', 'TEST': 'black'},\\n    'CP II-E32': {'TRAIN': 'yellow', 'TEST': 'magenta'},\\n    'CP II-Z32': {'TRAIN': 'lime', 'TEST': 'olive'},\\n    'CP III32': {'TRAIN': 'cyan', 'TEST': 'blueviolet'}\\n}\\n\\n# Plotting\\nplt.figure(figsize=(10, 6))\\n\\n# Plotting predictions for each cement type and set type\\nfor cement_type in cement_types:\\n    for set_type in ['TRAIN', 'TEST']:\\n        set_cement_data = df[(df['CEMENT_TYPE'] == cement_type) & (df['SET'] == set_type)]\\n        plt.scatter(set_cement_data['DATE'], set_cement_data['CS28_PRED'], label=f'{set_type} - {cement_type}', color=cement_colors[cement_type][set_type], alpha=0.7)\\n\\nplt.xlabel('Date')\\nplt.ylabel('CS28 Prediction')\\nplt.title('CS28 Predictions by Cement Type and Set')\\nplt.xticks(rotation=45)\\n\\n# Place legend outside the graph\\nplt.legend(bbox_to_anchor=(1.05, 1), loc='upper left')\\n\\nplt.tight_layout()\\nplt.show()\";\n",
       "                var nbb_formatted_code = \"import pandas as pd\\nimport matplotlib.pyplot as plt\\n\\n# Assuming you already have your DataFrame df\\ndf = df_pred.iloc[1:].reset_index(drop=True).copy()\\n\\n# Get unique cement types\\ncement_types = [\\n    \\\"CP II-F32\\\",\\n    \\\"CP VARI\\\",\\n    \\\"CP II-F40\\\",\\n    \\\"CP IV32\\\",\\n    \\\"CP II-E40\\\",\\n    \\\"CP II-E32\\\",\\n    \\\"CP II-Z32\\\",\\n    \\\"CP III32\\\",\\n]\\n\\n# Define colors for train and test sets for each cement type\\ncement_colors = {\\n    \\\"CP II-F32\\\": {\\\"TRAIN\\\": \\\"blue\\\", \\\"TEST\\\": \\\"orange\\\"},\\n    \\\"CP VARI\\\": {\\\"TRAIN\\\": \\\"red\\\", \\\"TEST\\\": \\\"green\\\"},\\n    \\\"CP II-F40\\\": {\\\"TRAIN\\\": \\\"purple\\\", \\\"TEST\\\": \\\"brown\\\"},\\n    \\\"CP IV32\\\": {\\\"TRAIN\\\": \\\"pink\\\", \\\"TEST\\\": \\\"gray\\\"},\\n    \\\"CP II-E40\\\": {\\\"TRAIN\\\": \\\"cyan\\\", \\\"TEST\\\": \\\"black\\\"},\\n    \\\"CP II-E32\\\": {\\\"TRAIN\\\": \\\"yellow\\\", \\\"TEST\\\": \\\"magenta\\\"},\\n    \\\"CP II-Z32\\\": {\\\"TRAIN\\\": \\\"lime\\\", \\\"TEST\\\": \\\"olive\\\"},\\n    \\\"CP III32\\\": {\\\"TRAIN\\\": \\\"cyan\\\", \\\"TEST\\\": \\\"blueviolet\\\"},\\n}\\n\\n# Plotting\\nplt.figure(figsize=(10, 6))\\n\\n# Plotting predictions for each cement type and set type\\nfor cement_type in cement_types:\\n    for set_type in [\\\"TRAIN\\\", \\\"TEST\\\"]:\\n        set_cement_data = df[\\n            (df[\\\"CEMENT_TYPE\\\"] == cement_type) & (df[\\\"SET\\\"] == set_type)\\n        ]\\n        plt.scatter(\\n            set_cement_data[\\\"DATE\\\"],\\n            set_cement_data[\\\"CS28_PRED\\\"],\\n            label=f\\\"{set_type} - {cement_type}\\\",\\n            color=cement_colors[cement_type][set_type],\\n            alpha=0.7,\\n        )\\n\\nplt.xlabel(\\\"Date\\\")\\nplt.ylabel(\\\"CS28 Prediction\\\")\\nplt.title(\\\"CS28 Predictions by Cement Type and Set\\\")\\nplt.xticks(rotation=45)\\n\\n# Place legend outside the graph\\nplt.legend(bbox_to_anchor=(1.05, 1), loc=\\\"upper left\\\")\\n\\nplt.tight_layout()\\nplt.show()\";\n",
       "                var nbb_cells = Jupyter.notebook.get_cells();\n",
       "                for (var i = 0; i < nbb_cells.length; ++i) {\n",
       "                    if (nbb_cells[i].input_prompt_number == nbb_cell_id) {\n",
       "                        if (nbb_cells[i].get_text() == nbb_unformatted_code) {\n",
       "                             nbb_cells[i].set_text(nbb_formatted_code);\n",
       "                        }\n",
       "                        break;\n",
       "                    }\n",
       "                }\n",
       "            }, 500);\n",
       "            "
      ],
      "text/plain": [
       "<IPython.core.display.Javascript object>"
      ]
     },
     "metadata": {},
     "output_type": "display_data"
    }
   ],
   "source": [
    "import pandas as pd\n",
    "import matplotlib.pyplot as plt\n",
    "\n",
    "# Assuming you already have your DataFrame df\n",
    "df = df_pred.iloc[1:].reset_index(drop=True).copy()\n",
    "\n",
    "# Get unique cement types\n",
    "cement_types = ['CP II-F32', 'CP VARI', 'CP II-F40', 'CP IV32', 'CP II-E40', 'CP II-E32', 'CP II-Z32', 'CP III32']\n",
    "\n",
    "# Define colors for train and test sets for each cement type\n",
    "cement_colors = {\n",
    "    'CP II-F32': {'TRAIN': 'blue', 'TEST': 'orange'},\n",
    "    'CP VARI': {'TRAIN': 'red', 'TEST': 'green'},\n",
    "    'CP II-F40': {'TRAIN': 'purple', 'TEST': 'brown'},\n",
    "    'CP IV32': {'TRAIN': 'pink', 'TEST': 'gray'},\n",
    "    'CP II-E40': {'TRAIN': 'cyan', 'TEST': 'black'},\n",
    "    'CP II-E32': {'TRAIN': 'yellow', 'TEST': 'magenta'},\n",
    "    'CP II-Z32': {'TRAIN': 'lime', 'TEST': 'olive'},\n",
    "    'CP III32': {'TRAIN': 'cyan', 'TEST': 'blueviolet'}\n",
    "}\n",
    "\n",
    "# Plotting\n",
    "plt.figure(figsize=(10, 6))\n",
    "\n",
    "# Plotting predictions for each cement type and set type\n",
    "for cement_type in cement_types:\n",
    "    for set_type in ['TRAIN', 'TEST']:\n",
    "        set_cement_data = df[(df['CEMENT_TYPE'] == cement_type) & (df['SET'] == set_type)]\n",
    "        plt.scatter(set_cement_data['DATE'], set_cement_data['CS28_PRED'], label=f'{set_type} - {cement_type}', color=cement_colors[cement_type][set_type], alpha=0.7)\n",
    "\n",
    "plt.xlabel('Date')\n",
    "plt.ylabel('CS28 Prediction')\n",
    "plt.title('CS28 Predictions by Cement Type and Set')\n",
    "plt.xticks(rotation=45)\n",
    "\n",
    "# Place legend outside the graph\n",
    "plt.legend(bbox_to_anchor=(1.05, 1), loc='upper left')\n",
    "\n",
    "plt.tight_layout()\n",
    "plt.show()\n"
   ]
  },
  {
   "cell_type": "code",
   "execution_count": null,
   "id": "2aea2543",
   "metadata": {},
   "outputs": [],
   "source": []
  },
  {
   "cell_type": "markdown",
   "id": "9bda47a6",
   "metadata": {
    "papermill": {
     "duration": 0.008446,
     "end_time": "2024-01-29T01:33:30.711122",
     "exception": false,
     "start_time": "2024-01-29T01:33:30.702676",
     "status": "completed"
    },
    "tags": []
   },
   "source": [
    "## 1.3. Time Series Split Cross Validation\n",
    "\n",
    "The training set has size i * n_samples // (n_splits + 1) + n_samples % (n_splits + 1) in the i th split, with a test set of size n_samples//(n_splits + 1) by default, where n_samples is the number of samples.\n",
    "\n",
    "\n",
    "<b>Dataset shape:</b> (594, 38)<br>\n",
    "<b>Splits:</b>10<br>    \n",
    "    1. Train: 10 folds of 54, 108, 162, 216, 270, 324, 378, 432, 486 samples each fold\n",
    "    2. Test: 54 samples each fold\n",
    "<b>Total:</b> 10 models<br>"
   ]
  },
  {
   "cell_type": "code",
   "execution_count": 10,
   "id": "aa5ebed9",
   "metadata": {
    "execution": {
     "iopub.execute_input": "2024-01-29T01:33:30.732249Z",
     "iopub.status.busy": "2024-01-29T01:33:30.731615Z",
     "iopub.status.idle": "2024-01-29T01:33:30.800538Z",
     "shell.execute_reply": "2024-01-29T01:33:30.798745Z"
    },
    "papermill": {
     "duration": 0.083388,
     "end_time": "2024-01-29T01:33:30.803673",
     "exception": false,
     "start_time": "2024-01-29T01:33:30.720285",
     "status": "completed"
    },
    "tags": []
   },
   "outputs": [
    {
     "name": "stdout",
     "output_type": "stream",
     "text": [
      "Time Series Split:\n",
      "Repeats: 3\n",
      "n_splits: 5\n",
      "\n",
      "******\n",
      "[TRAIN]\n",
      "******\n",
      "RMSE: -1.820 (0.151)\n",
      "MAE: -1.315 (0.124)\n",
      "MAPE: -0.031 (0.003)\n",
      "R2: 0.932 (0.012)\n",
      "\n",
      "======================\n",
      "\n",
      "******\n",
      "[TEST]\n",
      "******\n",
      "RMSE: -2.135 (0.315)\n",
      "MAE: -1.548 (0.172)\n",
      "MAPE: -0.036 (0.004)\n",
      "R2: 0.903 (0.028)\n",
      "\n",
      "======================\n",
      "\n"
     ]
    },
    {
     "data": {
      "application/javascript": [
       "\n",
       "            setTimeout(function() {\n",
       "                var nbb_cell_id = 10;\n",
       "                var nbb_unformatted_code = \"n_splits = 5\\ngap = 0\\npipeline = Pipeline(\\n    [\\n        (\\\"imputer\\\", SimpleImputer(strategy=\\\"median\\\")),\\n        (\\\"transformer\\\", StandardScaler()),\\n        (\\\"estimator\\\", LinearRegression()),\\n    ]\\n)\\ncv = TimeSeriesSplit(gap=gap, max_train_size=None, n_splits=n_splits, test_size=None)\\n\\nscores = cross_validate(\\n    pipeline,\\n    x,\\n    y,\\n    scoring=METRICS,\\n    cv=cv,\\n    n_jobs=-1,\\n    return_train_score=True,\\n)\\nprint(\\\"Time Series Split:\\\")\\nprint(f\\\"Repeats: {repeats}\\\")\\nprint(f\\\"n_splits: {n_splits}\\\")\\nprint()\\nprint_scores(scores, METRICS, METRICS_DICT)\\n\\nresults_dict_copy = results_dict.copy()\\nresults_dict_copy[\\\"Cross Validation\\\"] = \\\"Time Series Split\\\"\\nresults_dict_copy[\\\"Cross Validation Params\\\"] = '{\\\"N_Splits\\\": 5, \\\"Repeats\\\": 1, \\\"Gap\\\": 0}'\\nresults_dict_copy[\\\"Data Shape\\\"] = x.shape\\ndf_results = fill_results_dict(results_dict_copy, scores)\\nresults_to_save.append(df_results)\";\n",
       "                var nbb_formatted_code = \"n_splits = 5\\ngap = 0\\npipeline = Pipeline(\\n    [\\n        (\\\"imputer\\\", SimpleImputer(strategy=\\\"median\\\")),\\n        (\\\"transformer\\\", StandardScaler()),\\n        (\\\"estimator\\\", LinearRegression()),\\n    ]\\n)\\ncv = TimeSeriesSplit(gap=gap, max_train_size=None, n_splits=n_splits, test_size=None)\\n\\nscores = cross_validate(\\n    pipeline,\\n    x,\\n    y,\\n    scoring=METRICS,\\n    cv=cv,\\n    n_jobs=-1,\\n    return_train_score=True,\\n)\\nprint(\\\"Time Series Split:\\\")\\nprint(f\\\"Repeats: {repeats}\\\")\\nprint(f\\\"n_splits: {n_splits}\\\")\\nprint()\\nprint_scores(scores, METRICS, METRICS_DICT)\\n\\nresults_dict_copy = results_dict.copy()\\nresults_dict_copy[\\\"Cross Validation\\\"] = \\\"Time Series Split\\\"\\nresults_dict_copy[\\\"Cross Validation Params\\\"] = '{\\\"N_Splits\\\": 5, \\\"Repeats\\\": 1, \\\"Gap\\\": 0}'\\nresults_dict_copy[\\\"Data Shape\\\"] = x.shape\\ndf_results = fill_results_dict(results_dict_copy, scores)\\nresults_to_save.append(df_results)\";\n",
       "                var nbb_cells = Jupyter.notebook.get_cells();\n",
       "                for (var i = 0; i < nbb_cells.length; ++i) {\n",
       "                    if (nbb_cells[i].input_prompt_number == nbb_cell_id) {\n",
       "                        if (nbb_cells[i].get_text() == nbb_unformatted_code) {\n",
       "                             nbb_cells[i].set_text(nbb_formatted_code);\n",
       "                        }\n",
       "                        break;\n",
       "                    }\n",
       "                }\n",
       "            }, 500);\n",
       "            "
      ],
      "text/plain": [
       "<IPython.core.display.Javascript object>"
      ]
     },
     "metadata": {},
     "output_type": "display_data"
    }
   ],
   "source": [
    "n_splits = 5\n",
    "gap = 0\n",
    "pipeline = Pipeline(\n",
    "    [\n",
    "        (\"imputer\", SimpleImputer(strategy=\"median\")),\n",
    "        (\"transformer\", StandardScaler()),\n",
    "        (\"estimator\", LinearRegression()),\n",
    "    ]\n",
    ")\n",
    "cv = TimeSeriesSplit(gap=gap, max_train_size=None, n_splits=n_splits, test_size=None)\n",
    "\n",
    "scores = cross_validate(\n",
    "    pipeline,\n",
    "    x,\n",
    "    y,\n",
    "    scoring=METRICS,\n",
    "    cv=cv,\n",
    "    n_jobs=-1,\n",
    "    return_train_score=True,\n",
    ")\n",
    "print(\"Time Series Split:\")\n",
    "print(f\"Repeats: {repeats}\")\n",
    "print(f\"n_splits: {n_splits}\")\n",
    "print()\n",
    "print_scores(scores, METRICS, METRICS_DICT)\n",
    "\n",
    "results_dict_copy = results_dict.copy()\n",
    "results_dict_copy[\"Cross Validation\"] = \"Time Series Split\"\n",
    "results_dict_copy[\"Cross Validation Params\"] = '{\"N_Splits\": 5, \"Repeats\": 1, \"Gap\": 0}'\n",
    "results_dict_copy[\"Data Shape\"] = x.shape\n",
    "df_results = fill_results_dict(results_dict_copy, scores)\n",
    "results_to_save.append(df_results)"
   ]
  },
  {
   "cell_type": "markdown",
   "id": "ae16c568",
   "metadata": {
    "papermill": {
     "duration": 0.008456,
     "end_time": "2024-01-29T01:33:30.820834",
     "exception": false,
     "start_time": "2024-01-29T01:33:30.812378",
     "status": "completed"
    },
    "tags": []
   },
   "source": [
    "## 1.4. Out of time Split Cross Validation\n",
    "\n",
    "<b>Dataset shape:</b> (594, 38)<br>\n",
    "<b>Train size: 80%</b><br>\n",
    "<b>Test  size: 20%</b>\n",
    "\n",
    "\n",
    "<b>Splits:</b> 2<br>    \n",
    "    1. Train: 475\n",
    "    2. Test: 118\n",
    "<b>Total:</b> 1 model<br>"
   ]
  },
  {
   "cell_type": "code",
   "execution_count": 11,
   "id": "d7229274",
   "metadata": {
    "execution": {
     "iopub.execute_input": "2024-01-29T01:33:30.840519Z",
     "iopub.status.busy": "2024-01-29T01:33:30.839963Z",
     "iopub.status.idle": "2024-01-29T01:33:30.898144Z",
     "shell.execute_reply": "2024-01-29T01:33:30.896503Z"
    },
    "papermill": {
     "duration": 0.072443,
     "end_time": "2024-01-29T01:33:30.901381",
     "exception": false,
     "start_time": "2024-01-29T01:33:30.828938",
     "status": "completed"
    },
    "scrolled": true,
    "tags": []
   },
   "outputs": [
    {
     "name": "stdout",
     "output_type": "stream",
     "text": [
      "******\n",
      "[TRAIN]\n",
      "******\n",
      "RMSE: 1.993 (0.000)\n",
      "MAE: 1.441 (0.000)\n",
      "MAPE: 0.033 (0.000)\n",
      "R2: 0.919 (0.000)\n",
      "\n",
      "======================\n",
      "\n",
      "******\n",
      "[TEST]\n",
      "******\n",
      "RMSE: 1.816 (0.000)\n",
      "MAE: 1.334 (0.000)\n",
      "MAPE: 0.032 (0.000)\n",
      "R2: 0.927 (0.000)\n",
      "\n",
      "======================\n",
      "\n"
     ]
    },
    {
     "data": {
      "application/javascript": [
       "\n",
       "            setTimeout(function() {\n",
       "                var nbb_cell_id = 11;\n",
       "                var nbb_unformatted_code = \"test_size = 0.2\\n\\nx_train, x_test, y_train, y_test = train_test_split(\\n    x, y, test_size=test_size, random_state=SEED, shuffle=False\\n)\\npipeline = Pipeline(\\n    [\\n        (\\\"imputer\\\", SimpleImputer(strategy=\\\"median\\\")),\\n        (\\\"transformer\\\", StandardScaler()),\\n        (\\\"estimator\\\", LinearRegression()),\\n    ]\\n)\\n\\npipeline.fit(x_train, y_train)\\n\\ny_train_pred = pipeline.predict(x_train)\\ny_test_pred = pipeline.predict(x_test)\\n\\nscores = score_regression_metrics(y_train, y_train_pred, y_test, y_test_pred)\\nprint_scores(scores, METRICS, METRICS_DICT)\\n\\nresults_dict_copy = results_dict.copy()\\nresults_dict_copy[\\\"Cross Validation\\\"] = \\\"Out of time Split\\\"\\nresults_dict_copy[\\\"Cross Validation Params\\\"] = '{\\\"Test Size\\\": 0.2}'\\nresults_dict_copy[\\\"Data Shape\\\"] = x.shape\\ndf_results = fill_results_dict(\\n    results_dict_copy, {key: [value] for key, value in scores.items()}\\n)\\nresults_to_save.append(df_results)\";\n",
       "                var nbb_formatted_code = \"test_size = 0.2\\n\\nx_train, x_test, y_train, y_test = train_test_split(\\n    x, y, test_size=test_size, random_state=SEED, shuffle=False\\n)\\npipeline = Pipeline(\\n    [\\n        (\\\"imputer\\\", SimpleImputer(strategy=\\\"median\\\")),\\n        (\\\"transformer\\\", StandardScaler()),\\n        (\\\"estimator\\\", LinearRegression()),\\n    ]\\n)\\n\\npipeline.fit(x_train, y_train)\\n\\ny_train_pred = pipeline.predict(x_train)\\ny_test_pred = pipeline.predict(x_test)\\n\\nscores = score_regression_metrics(y_train, y_train_pred, y_test, y_test_pred)\\nprint_scores(scores, METRICS, METRICS_DICT)\\n\\nresults_dict_copy = results_dict.copy()\\nresults_dict_copy[\\\"Cross Validation\\\"] = \\\"Out of time Split\\\"\\nresults_dict_copy[\\\"Cross Validation Params\\\"] = '{\\\"Test Size\\\": 0.2}'\\nresults_dict_copy[\\\"Data Shape\\\"] = x.shape\\ndf_results = fill_results_dict(\\n    results_dict_copy, {key: [value] for key, value in scores.items()}\\n)\\nresults_to_save.append(df_results)\";\n",
       "                var nbb_cells = Jupyter.notebook.get_cells();\n",
       "                for (var i = 0; i < nbb_cells.length; ++i) {\n",
       "                    if (nbb_cells[i].input_prompt_number == nbb_cell_id) {\n",
       "                        if (nbb_cells[i].get_text() == nbb_unformatted_code) {\n",
       "                             nbb_cells[i].set_text(nbb_formatted_code);\n",
       "                        }\n",
       "                        break;\n",
       "                    }\n",
       "                }\n",
       "            }, 500);\n",
       "            "
      ],
      "text/plain": [
       "<IPython.core.display.Javascript object>"
      ]
     },
     "metadata": {},
     "output_type": "display_data"
    }
   ],
   "source": [
    "test_size = 0.2\n",
    "\n",
    "x_train, x_test, y_train, y_test = train_test_split(\n",
    "    x, y, test_size=test_size, random_state=SEED, shuffle=False\n",
    ")\n",
    "pipeline = Pipeline(\n",
    "    [\n",
    "        (\"imputer\", SimpleImputer(strategy=\"median\")),\n",
    "        (\"transformer\", StandardScaler()),\n",
    "        (\"estimator\", LinearRegression()),\n",
    "    ]\n",
    ")\n",
    "\n",
    "pipeline.fit(x_train, y_train)\n",
    "\n",
    "y_train_pred = pipeline.predict(x_train)\n",
    "y_test_pred = pipeline.predict(x_test)\n",
    "\n",
    "scores = score_regression_metrics(y_train, y_train_pred, y_test, y_test_pred)\n",
    "print_scores(scores, METRICS, METRICS_DICT)\n",
    "\n",
    "results_dict_copy = results_dict.copy()\n",
    "results_dict_copy[\"Cross Validation\"] = \"Out of time Split\"\n",
    "results_dict_copy[\"Cross Validation Params\"] = '{\"Test Size\": 0.2}'\n",
    "results_dict_copy[\"Data Shape\"] = x.shape\n",
    "df_results = fill_results_dict(\n",
    "    results_dict_copy, {key: [value] for key, value in scores.items()}\n",
    ")\n",
    "results_to_save.append(df_results)"
   ]
  },
  {
   "cell_type": "code",
   "execution_count": 12,
   "id": "43d4a160",
   "metadata": {
    "execution": {
     "iopub.execute_input": "2024-01-29T01:33:30.927938Z",
     "iopub.status.busy": "2024-01-29T01:33:30.925590Z",
     "iopub.status.idle": "2024-01-29T01:33:31.038780Z",
     "shell.execute_reply": "2024-01-29T01:33:31.037002Z"
    },
    "papermill": {
     "duration": 0.132182,
     "end_time": "2024-01-29T01:33:31.042555",
     "exception": false,
     "start_time": "2024-01-29T01:33:30.910373",
     "status": "completed"
    },
    "tags": []
   },
   "outputs": [
    {
     "data": {
      "text/html": [
       "<div>\n",
       "<style scoped>\n",
       "    .dataframe tbody tr th:only-of-type {\n",
       "        vertical-align: middle;\n",
       "    }\n",
       "\n",
       "    .dataframe tbody tr th {\n",
       "        vertical-align: top;\n",
       "    }\n",
       "\n",
       "    .dataframe thead tr th {\n",
       "        text-align: left;\n",
       "    }\n",
       "</style>\n",
       "<table border=\"1\" class=\"dataframe\">\n",
       "  <thead>\n",
       "    <tr>\n",
       "      <th></th>\n",
       "      <th>Features</th>\n",
       "      <th>Model</th>\n",
       "      <th>Cross Validation</th>\n",
       "      <th>Cross Validation Params</th>\n",
       "      <th colspan=\"2\" halign=\"left\">RMSE Test</th>\n",
       "      <th colspan=\"2\" halign=\"left\">MAE Test</th>\n",
       "      <th colspan=\"2\" halign=\"left\">MAPE Test</th>\n",
       "      <th colspan=\"2\" halign=\"left\">R2 Test</th>\n",
       "    </tr>\n",
       "    <tr>\n",
       "      <th></th>\n",
       "      <th></th>\n",
       "      <th></th>\n",
       "      <th></th>\n",
       "      <th></th>\n",
       "      <th>mean</th>\n",
       "      <th>std</th>\n",
       "      <th>mean</th>\n",
       "      <th>std</th>\n",
       "      <th>mean</th>\n",
       "      <th>std</th>\n",
       "      <th>mean</th>\n",
       "      <th>std</th>\n",
       "    </tr>\n",
       "  </thead>\n",
       "  <tbody>\n",
       "    <tr>\n",
       "      <th>0</th>\n",
       "      <td>Chemical</td>\n",
       "      <td>Linear Regression</td>\n",
       "      <td>Blocking Time Series Split</td>\n",
       "      <td>{\"N_Splits\": 5, \"Repeats\": 1, \"train_size\": 0.8}</td>\n",
       "      <td>1.998465</td>\n",
       "      <td>0.484797</td>\n",
       "      <td>1.517878</td>\n",
       "      <td>0.289553</td>\n",
       "      <td>0.035482</td>\n",
       "      <td>0.006823</td>\n",
       "      <td>0.909912</td>\n",
       "      <td>0.044190</td>\n",
       "    </tr>\n",
       "    <tr>\n",
       "      <th>1</th>\n",
       "      <td>Chemical</td>\n",
       "      <td>Linear Regression</td>\n",
       "      <td>Out of time Split</td>\n",
       "      <td>{\"Test Size\": 0.2}</td>\n",
       "      <td>1.816078</td>\n",
       "      <td>0.000000</td>\n",
       "      <td>1.334122</td>\n",
       "      <td>0.000000</td>\n",
       "      <td>0.031670</td>\n",
       "      <td>0.000000</td>\n",
       "      <td>0.926967</td>\n",
       "      <td>0.000000</td>\n",
       "    </tr>\n",
       "    <tr>\n",
       "      <th>2</th>\n",
       "      <td>Chemical</td>\n",
       "      <td>Linear Regression</td>\n",
       "      <td>Repeated KFold</td>\n",
       "      <td>{\"N_Splits\": 5, \"Repeats\": 3}</td>\n",
       "      <td>1.969420</td>\n",
       "      <td>0.152776</td>\n",
       "      <td>1.410058</td>\n",
       "      <td>0.039831</td>\n",
       "      <td>0.032871</td>\n",
       "      <td>0.001115</td>\n",
       "      <td>0.919417</td>\n",
       "      <td>0.012880</td>\n",
       "    </tr>\n",
       "    <tr>\n",
       "      <th>3</th>\n",
       "      <td>Chemical</td>\n",
       "      <td>Linear Regression</td>\n",
       "      <td>Time Series Split</td>\n",
       "      <td>{\"N_Splits\": 5, \"Repeats\": 1, \"Gap\": 0}</td>\n",
       "      <td>2.135229</td>\n",
       "      <td>0.315449</td>\n",
       "      <td>1.548382</td>\n",
       "      <td>0.172280</td>\n",
       "      <td>0.036036</td>\n",
       "      <td>0.003653</td>\n",
       "      <td>0.902621</td>\n",
       "      <td>0.028284</td>\n",
       "    </tr>\n",
       "  </tbody>\n",
       "</table>\n",
       "</div>"
      ],
      "text/plain": [
       "   Features              Model            Cross Validation  \\\n",
       "                                                             \n",
       "0  Chemical  Linear Regression  Blocking Time Series Split   \n",
       "1  Chemical  Linear Regression           Out of time Split   \n",
       "2  Chemical  Linear Regression              Repeated KFold   \n",
       "3  Chemical  Linear Regression           Time Series Split   \n",
       "\n",
       "                            Cross Validation Params RMSE Test            \\\n",
       "                                                         mean       std   \n",
       "0  {\"N_Splits\": 5, \"Repeats\": 1, \"train_size\": 0.8}  1.998465  0.484797   \n",
       "1                                {\"Test Size\": 0.2}  1.816078  0.000000   \n",
       "2                     {\"N_Splits\": 5, \"Repeats\": 3}  1.969420  0.152776   \n",
       "3           {\"N_Splits\": 5, \"Repeats\": 1, \"Gap\": 0}  2.135229  0.315449   \n",
       "\n",
       "   MAE Test           MAPE Test             R2 Test            \n",
       "       mean       std      mean       std      mean       std  \n",
       "0  1.517878  0.289553  0.035482  0.006823  0.909912  0.044190  \n",
       "1  1.334122  0.000000  0.031670  0.000000  0.926967  0.000000  \n",
       "2  1.410058  0.039831  0.032871  0.001115  0.919417  0.012880  \n",
       "3  1.548382  0.172280  0.036036  0.003653  0.902621  0.028284  "
      ]
     },
     "execution_count": 12,
     "metadata": {},
     "output_type": "execute_result"
    },
    {
     "data": {
      "application/javascript": [
       "\n",
       "            setTimeout(function() {\n",
       "                var nbb_cell_id = 12;\n",
       "                var nbb_unformatted_code = \"pd.concat(results_to_save).groupby(\\n    [\\\"Features\\\", \\\"Model\\\", \\\"Cross Validation\\\", \\\"Cross Validation Params\\\"]\\n)[[\\\"RMSE Test\\\", \\\"MAE Test\\\", \\\"MAPE Test\\\", \\\"R2 Test\\\"]].agg(\\n    [\\\"mean\\\", lambda series: pd.Series(series.std(ddof=0), name=\\\"std\\\")]\\n).reset_index().rename(\\n    columns={\\\"<lambda_0>\\\": \\\"std\\\"}\\n)\";\n",
       "                var nbb_formatted_code = \"pd.concat(results_to_save).groupby(\\n    [\\\"Features\\\", \\\"Model\\\", \\\"Cross Validation\\\", \\\"Cross Validation Params\\\"]\\n)[[\\\"RMSE Test\\\", \\\"MAE Test\\\", \\\"MAPE Test\\\", \\\"R2 Test\\\"]].agg(\\n    [\\\"mean\\\", lambda series: pd.Series(series.std(ddof=0), name=\\\"std\\\")]\\n).reset_index().rename(\\n    columns={\\\"<lambda_0>\\\": \\\"std\\\"}\\n)\";\n",
       "                var nbb_cells = Jupyter.notebook.get_cells();\n",
       "                for (var i = 0; i < nbb_cells.length; ++i) {\n",
       "                    if (nbb_cells[i].input_prompt_number == nbb_cell_id) {\n",
       "                        if (nbb_cells[i].get_text() == nbb_unformatted_code) {\n",
       "                             nbb_cells[i].set_text(nbb_formatted_code);\n",
       "                        }\n",
       "                        break;\n",
       "                    }\n",
       "                }\n",
       "            }, 500);\n",
       "            "
      ],
      "text/plain": [
       "<IPython.core.display.Javascript object>"
      ]
     },
     "metadata": {},
     "output_type": "display_data"
    }
   ],
   "source": [
    "pd.concat(results_to_save).groupby(\n",
    "    [\"Features\", \"Model\", \"Cross Validation\", \"Cross Validation Params\"]\n",
    ")[[\"RMSE Test\", \"MAE Test\", \"MAPE Test\", \"R2 Test\"]].agg(\n",
    "    [\"mean\", lambda series: pd.Series(series.std(ddof=0), name=\"std\")]\n",
    ").reset_index().rename(\n",
    "    columns={\"<lambda_0>\": \"std\"}\n",
    ")"
   ]
  },
  {
   "cell_type": "markdown",
   "id": "3a2a712f",
   "metadata": {
    "papermill": {
     "duration": 0.010103,
     "end_time": "2024-01-29T01:33:31.063161",
     "exception": false,
     "start_time": "2024-01-29T01:33:31.053058",
     "status": "completed"
    },
    "tags": []
   },
   "source": [
    "# Saving the results Dataframe"
   ]
  },
  {
   "cell_type": "code",
   "execution_count": 13,
   "id": "f93d8ffc",
   "metadata": {
    "execution": {
     "iopub.execute_input": "2024-01-29T01:33:31.084794Z",
     "iopub.status.busy": "2024-01-29T01:33:31.084041Z",
     "iopub.status.idle": "2024-01-29T01:33:31.095253Z",
     "shell.execute_reply": "2024-01-29T01:33:31.093773Z"
    },
    "papermill": {
     "duration": 0.025963,
     "end_time": "2024-01-29T01:33:31.098077",
     "exception": false,
     "start_time": "2024-01-29T01:33:31.072114",
     "status": "completed"
    },
    "tags": []
   },
   "outputs": [
    {
     "data": {
      "application/javascript": [
       "\n",
       "            setTimeout(function() {\n",
       "                var nbb_cell_id = 13;\n",
       "                var nbb_unformatted_code = \"index_to_save = 2\";\n",
       "                var nbb_formatted_code = \"index_to_save = 2\";\n",
       "                var nbb_cells = Jupyter.notebook.get_cells();\n",
       "                for (var i = 0; i < nbb_cells.length; ++i) {\n",
       "                    if (nbb_cells[i].input_prompt_number == nbb_cell_id) {\n",
       "                        if (nbb_cells[i].get_text() == nbb_unformatted_code) {\n",
       "                             nbb_cells[i].set_text(nbb_formatted_code);\n",
       "                        }\n",
       "                        break;\n",
       "                    }\n",
       "                }\n",
       "            }, 500);\n",
       "            "
      ],
      "text/plain": [
       "<IPython.core.display.Javascript object>"
      ]
     },
     "metadata": {},
     "output_type": "display_data"
    }
   ],
   "source": [
    "index_to_save = 2"
   ]
  },
  {
   "cell_type": "code",
   "execution_count": 14,
   "id": "940afb86",
   "metadata": {
    "execution": {
     "iopub.execute_input": "2024-01-29T01:33:31.122350Z",
     "iopub.status.busy": "2024-01-29T01:33:31.121689Z",
     "iopub.status.idle": "2024-01-29T01:33:31.145224Z",
     "shell.execute_reply": "2024-01-29T01:33:31.143087Z"
    },
    "papermill": {
     "duration": 0.038809,
     "end_time": "2024-01-29T01:33:31.148402",
     "exception": false,
     "start_time": "2024-01-29T01:33:31.109593",
     "status": "completed"
    },
    "tags": []
   },
   "outputs": [
    {
     "data": {
      "application/javascript": [
       "\n",
       "            setTimeout(function() {\n",
       "                var nbb_cell_id = 14;\n",
       "                var nbb_unformatted_code = \"path = \\\"../../../../../reports/results/local_models/204/f/full/\\\"\\nfilename = f\\\"linear_regression_results_full_{index_to_save}.csv\\\"\\n\\npd.concat(results_to_save).to_csv(\\n    path_or_buf=path + filename,\\n    mode=\\\"w\\\",\\n    index=False,\\n    header=True,\\n)\";\n",
       "                var nbb_formatted_code = \"path = \\\"../../../../../reports/results/local_models/204/f/full/\\\"\\nfilename = f\\\"linear_regression_results_full_{index_to_save}.csv\\\"\\n\\npd.concat(results_to_save).to_csv(\\n    path_or_buf=path + filename,\\n    mode=\\\"w\\\",\\n    index=False,\\n    header=True,\\n)\";\n",
       "                var nbb_cells = Jupyter.notebook.get_cells();\n",
       "                for (var i = 0; i < nbb_cells.length; ++i) {\n",
       "                    if (nbb_cells[i].input_prompt_number == nbb_cell_id) {\n",
       "                        if (nbb_cells[i].get_text() == nbb_unformatted_code) {\n",
       "                             nbb_cells[i].set_text(nbb_formatted_code);\n",
       "                        }\n",
       "                        break;\n",
       "                    }\n",
       "                }\n",
       "            }, 500);\n",
       "            "
      ],
      "text/plain": [
       "<IPython.core.display.Javascript object>"
      ]
     },
     "metadata": {},
     "output_type": "display_data"
    }
   ],
   "source": [
    "path = \"../../../../../reports/results/local_models/204/f/full/\"\n",
    "filename = f\"linear_regression_results_full_{index_to_save}.csv\"\n",
    "\n",
    "pd.concat(results_to_save).to_csv(\n",
    "    path_or_buf=path + filename,\n",
    "    mode=\"w\",\n",
    "    index=False,\n",
    "    header=True,\n",
    ")"
   ]
  },
  {
   "cell_type": "markdown",
   "id": "a0bb1b0e",
   "metadata": {
    "papermill": {
     "duration": 0.011162,
     "end_time": "2024-01-29T01:33:31.171726",
     "exception": false,
     "start_time": "2024-01-29T01:33:31.160564",
     "status": "completed"
    },
    "tags": []
   },
   "source": [
    "## Saving the grouped dataframe"
   ]
  },
  {
   "cell_type": "code",
   "execution_count": 15,
   "id": "ae0da064",
   "metadata": {
    "execution": {
     "iopub.execute_input": "2024-01-29T01:33:31.194992Z",
     "iopub.status.busy": "2024-01-29T01:33:31.194429Z",
     "iopub.status.idle": "2024-01-29T01:33:31.274518Z",
     "shell.execute_reply": "2024-01-29T01:33:31.273015Z"
    },
    "papermill": {
     "duration": 0.09634,
     "end_time": "2024-01-29T01:33:31.278224",
     "exception": false,
     "start_time": "2024-01-29T01:33:31.181884",
     "status": "completed"
    },
    "tags": []
   },
   "outputs": [
    {
     "data": {
      "application/javascript": [
       "\n",
       "            setTimeout(function() {\n",
       "                var nbb_cell_id = 15;\n",
       "                var nbb_unformatted_code = \"cols_groupby = [\\n    \\\"Category\\\",\\n    \\\"Company\\\",\\n    \\\"Data Shape\\\",\\n    \\\"Timesteps\\\",\\n    \\\"Features\\\",\\n    \\\"Model\\\",\\n    \\\"Cross Validation\\\",\\n    \\\"Cross Validation Params\\\",\\n]\\n\\ncols_agg = [\\\"RMSE Train\\\", \\\"MAE Train\\\", \\\"MAPE Train\\\", \\\"R2 Train\\\"] + [\\n    \\\"RMSE Test\\\",\\n    \\\"MAE Test\\\",\\n    \\\"MAPE Test\\\",\\n    \\\"R2 Test\\\",\\n]\\n\\npath = \\\"../../../../../reports/results/local_models/204/f/grouped/\\\"\\nfilename = f\\\"linear_regression_results_grouped_{index_to_save}.csv\\\"\\n\\n\\ndf_results_to_save = (\\n    pd.concat(results_to_save)\\n    .groupby(cols_groupby, dropna=False)[cols_agg]\\n    .agg([\\\"mean\\\", lambda series: pd.Series(series.std(ddof=0), name=\\\"std\\\")])\\n    .reset_index()\\n    .rename(columns={\\\"<lambda_0>\\\": \\\"std\\\"})\\n)\\n\\ndf_results_to_save.to_csv(\\n    path_or_buf=path + filename,\\n    mode=\\\"w\\\",\\n    index=False,\\n    header=True,\\n)\";\n",
       "                var nbb_formatted_code = \"cols_groupby = [\\n    \\\"Category\\\",\\n    \\\"Company\\\",\\n    \\\"Data Shape\\\",\\n    \\\"Timesteps\\\",\\n    \\\"Features\\\",\\n    \\\"Model\\\",\\n    \\\"Cross Validation\\\",\\n    \\\"Cross Validation Params\\\",\\n]\\n\\ncols_agg = [\\\"RMSE Train\\\", \\\"MAE Train\\\", \\\"MAPE Train\\\", \\\"R2 Train\\\"] + [\\n    \\\"RMSE Test\\\",\\n    \\\"MAE Test\\\",\\n    \\\"MAPE Test\\\",\\n    \\\"R2 Test\\\",\\n]\\n\\npath = \\\"../../../../../reports/results/local_models/204/f/grouped/\\\"\\nfilename = f\\\"linear_regression_results_grouped_{index_to_save}.csv\\\"\\n\\n\\ndf_results_to_save = (\\n    pd.concat(results_to_save)\\n    .groupby(cols_groupby, dropna=False)[cols_agg]\\n    .agg([\\\"mean\\\", lambda series: pd.Series(series.std(ddof=0), name=\\\"std\\\")])\\n    .reset_index()\\n    .rename(columns={\\\"<lambda_0>\\\": \\\"std\\\"})\\n)\\n\\ndf_results_to_save.to_csv(\\n    path_or_buf=path + filename,\\n    mode=\\\"w\\\",\\n    index=False,\\n    header=True,\\n)\";\n",
       "                var nbb_cells = Jupyter.notebook.get_cells();\n",
       "                for (var i = 0; i < nbb_cells.length; ++i) {\n",
       "                    if (nbb_cells[i].input_prompt_number == nbb_cell_id) {\n",
       "                        if (nbb_cells[i].get_text() == nbb_unformatted_code) {\n",
       "                             nbb_cells[i].set_text(nbb_formatted_code);\n",
       "                        }\n",
       "                        break;\n",
       "                    }\n",
       "                }\n",
       "            }, 500);\n",
       "            "
      ],
      "text/plain": [
       "<IPython.core.display.Javascript object>"
      ]
     },
     "metadata": {},
     "output_type": "display_data"
    }
   ],
   "source": [
    "cols_groupby = [\n",
    "    \"Category\",\n",
    "    \"Company\",\n",
    "    \"Data Shape\",\n",
    "    \"Timesteps\",\n",
    "    \"Features\",\n",
    "    \"Model\",\n",
    "    \"Cross Validation\",\n",
    "    \"Cross Validation Params\",\n",
    "]\n",
    "\n",
    "cols_agg = [\"RMSE Train\", \"MAE Train\", \"MAPE Train\", \"R2 Train\"] + [\n",
    "    \"RMSE Test\",\n",
    "    \"MAE Test\",\n",
    "    \"MAPE Test\",\n",
    "    \"R2 Test\",\n",
    "]\n",
    "\n",
    "path = \"../../../../../reports/results/local_models/204/f/grouped/\"\n",
    "filename = f\"linear_regression_results_grouped_{index_to_save}.csv\"\n",
    "\n",
    "\n",
    "df_results_to_save = (\n",
    "    pd.concat(results_to_save)\n",
    "    .groupby(cols_groupby, dropna=False)[cols_agg]\n",
    "    .agg([\"mean\", lambda series: pd.Series(series.std(ddof=0), name=\"std\")])\n",
    "    .reset_index()\n",
    "    .rename(columns={\"<lambda_0>\": \"std\"})\n",
    ")\n",
    "\n",
    "df_results_to_save.to_csv(\n",
    "    path_or_buf=path + filename,\n",
    "    mode=\"w\",\n",
    "    index=False,\n",
    "    header=True,\n",
    ")"
   ]
  },
  {
   "cell_type": "code",
   "execution_count": 16,
   "id": "973c89ba",
   "metadata": {
    "execution": {
     "iopub.execute_input": "2024-01-29T01:33:31.303167Z",
     "iopub.status.busy": "2024-01-29T01:33:31.302604Z",
     "iopub.status.idle": "2024-01-29T01:33:31.443259Z",
     "shell.execute_reply": "2024-01-29T01:33:31.441203Z"
    },
    "papermill": {
     "duration": 0.157306,
     "end_time": "2024-01-29T01:33:31.446893",
     "exception": false,
     "start_time": "2024-01-29T01:33:31.289587",
     "status": "completed"
    },
    "tags": []
   },
   "outputs": [
    {
     "data": {
      "text/html": [
       "<style type=\"text/css\">\n",
       "#T_f9968_row0_col0, #T_f9968_row1_col0, #T_f9968_row2_col0, #T_f9968_row3_col0, #T_f9968_row4_col0, #T_f9968_row5_col0, #T_f9968_row6_col0 {\n",
       "  background-color: #f7fcf5;\n",
       "  color: #000000;\n",
       "}\n",
       "#T_f9968_row7_col0 {\n",
       "  background-color: #f6fcf4;\n",
       "  color: #000000;\n",
       "}\n",
       "#T_f9968_row8_col0 {\n",
       "  background-color: #1a843f;\n",
       "  color: #f1f1f1;\n",
       "}\n",
       "</style>\n",
       "<table id=\"T_f9968\">\n",
       "  <thead>\n",
       "    <tr>\n",
       "      <th class=\"blank level0\" >&nbsp;</th>\n",
       "      <th id=\"T_f9968_level0_col0\" class=\"col_heading level0 col0\" >Coefficients</th>\n",
       "    </tr>\n",
       "  </thead>\n",
       "  <tbody>\n",
       "    <tr>\n",
       "      <th id=\"T_f9968_level0_row0\" class=\"row_heading level0 row0\" >Loss on Ignition</th>\n",
       "      <td id=\"T_f9968_row0_col0\" class=\"data row0 col0\" >-2.471971</td>\n",
       "    </tr>\n",
       "    <tr>\n",
       "      <th id=\"T_f9968_level0_row1\" class=\"row_heading level0 row1\" >SiO2</th>\n",
       "      <td id=\"T_f9968_row1_col0\" class=\"data row1 col0\" >-0.282642</td>\n",
       "    </tr>\n",
       "    <tr>\n",
       "      <th id=\"T_f9968_level0_row2\" class=\"row_heading level0 row2\" >Fe2O3</th>\n",
       "      <td id=\"T_f9968_row2_col0\" class=\"data row2 col0\" >-0.118890</td>\n",
       "    </tr>\n",
       "    <tr>\n",
       "      <th id=\"T_f9968_level0_row3\" class=\"row_heading level0 row3\" >K2O</th>\n",
       "      <td id=\"T_f9968_row3_col0\" class=\"data row3 col0\" >0.019808</td>\n",
       "    </tr>\n",
       "    <tr>\n",
       "      <th id=\"T_f9968_level0_row4\" class=\"row_heading level0 row4\" >Na2O</th>\n",
       "      <td id=\"T_f9968_row4_col0\" class=\"data row4 col0\" >0.066136</td>\n",
       "    </tr>\n",
       "    <tr>\n",
       "      <th id=\"T_f9968_level0_row5\" class=\"row_heading level0 row5\" >MgO</th>\n",
       "      <td id=\"T_f9968_row5_col0\" class=\"data row5 col0\" >0.140063</td>\n",
       "    </tr>\n",
       "    <tr>\n",
       "      <th id=\"T_f9968_level0_row6\" class=\"row_heading level0 row6\" >Al2O3</th>\n",
       "      <td id=\"T_f9968_row6_col0\" class=\"data row6 col0\" >0.391064</td>\n",
       "    </tr>\n",
       "    <tr>\n",
       "      <th id=\"T_f9968_level0_row7\" class=\"row_heading level0 row7\" >CaO</th>\n",
       "      <td id=\"T_f9968_row7_col0\" class=\"data row7 col0\" >1.031876</td>\n",
       "    </tr>\n",
       "    <tr>\n",
       "      <th id=\"T_f9968_level0_row8\" class=\"row_heading level0 row8\" >SO3</th>\n",
       "      <td id=\"T_f9968_row8_col0\" class=\"data row8 col0\" >4.117608</td>\n",
       "    </tr>\n",
       "  </tbody>\n",
       "</table>\n"
      ],
      "text/plain": [
       "<pandas.io.formats.style.Styler at 0x7fb5588d3280>"
      ]
     },
     "execution_count": 16,
     "metadata": {},
     "output_type": "execute_result"
    },
    {
     "data": {
      "application/javascript": [
       "\n",
       "            setTimeout(function() {\n",
       "                var nbb_cell_id = 16;\n",
       "                var nbb_unformatted_code = \"pd.Series(\\n    pipeline.named_steps[\\\"estimator\\\"].coef_,\\n    df_copy.drop([\\\"Date\\\"], axis=1).columns,\\n).to_frame(name=\\\"Coefficients\\\").sort_values(\\n    by=\\\"Coefficients\\\"\\n).style.background_gradient(\\n    axis=None, vmin=1, vmax=5, cmap=\\\"Greens\\\"\\n)\";\n",
       "                var nbb_formatted_code = \"pd.Series(\\n    pipeline.named_steps[\\\"estimator\\\"].coef_,\\n    df_copy.drop([\\\"Date\\\"], axis=1).columns,\\n).to_frame(name=\\\"Coefficients\\\").sort_values(\\n    by=\\\"Coefficients\\\"\\n).style.background_gradient(\\n    axis=None, vmin=1, vmax=5, cmap=\\\"Greens\\\"\\n)\";\n",
       "                var nbb_cells = Jupyter.notebook.get_cells();\n",
       "                for (var i = 0; i < nbb_cells.length; ++i) {\n",
       "                    if (nbb_cells[i].input_prompt_number == nbb_cell_id) {\n",
       "                        if (nbb_cells[i].get_text() == nbb_unformatted_code) {\n",
       "                             nbb_cells[i].set_text(nbb_formatted_code);\n",
       "                        }\n",
       "                        break;\n",
       "                    }\n",
       "                }\n",
       "            }, 500);\n",
       "            "
      ],
      "text/plain": [
       "<IPython.core.display.Javascript object>"
      ]
     },
     "metadata": {},
     "output_type": "display_data"
    }
   ],
   "source": [
    "pd.Series(\n",
    "    pipeline.named_steps[\"estimator\"].coef_,\n",
    "    df_copy.drop([\"Date\"], axis=1).columns,\n",
    ").to_frame(name=\"Coefficients\").sort_values(\n",
    "    by=\"Coefficients\"\n",
    ").style.background_gradient(\n",
    "    axis=None, vmin=1, vmax=5, cmap=\"Greens\"\n",
    ")"
   ]
  },
  {
   "cell_type": "code",
   "execution_count": null,
   "id": "4736ae15",
   "metadata": {
    "papermill": {
     "duration": 0.013001,
     "end_time": "2024-01-29T01:33:31.471362",
     "exception": false,
     "start_time": "2024-01-29T01:33:31.458361",
     "status": "completed"
    },
    "tags": []
   },
   "outputs": [],
   "source": []
  }
 ],
 "metadata": {
  "kernelspec": {
   "display_name": "ccs28-venv",
   "language": "python",
   "name": "ccs28-venv"
  },
  "language_info": {
   "codemirror_mode": {
    "name": "ipython",
    "version": 3
   },
   "file_extension": ".py",
   "mimetype": "text/x-python",
   "name": "python",
   "nbconvert_exporter": "python",
   "pygments_lexer": "ipython3",
   "version": "3.10.12"
  },
  "papermill": {
   "default_parameters": {},
   "duration": 10.461993,
   "end_time": "2024-01-29T01:33:34.122877",
   "environment_variables": {},
   "exception": null,
   "input_path": "/home/peressim/projects/ccs28-ml-modelling/notebooks/modelling/204/linear_regression/ab/chemical-ds.ipynb",
   "output_path": "/home/peressim/projects/ccs28-ml-modelling/notebooks/modelling/204/linear_regression/ab/chemical-ds.ipynb",
   "parameters": {},
   "start_time": "2024-01-29T01:33:23.660884",
   "version": "2.5.0"
  }
 },
 "nbformat": 4,
 "nbformat_minor": 5
}
