{
 "cells": [
  {
   "cell_type": "code",
   "execution_count": 1,
   "metadata": {},
   "outputs": [
    {
     "data": {
      "application/javascript": [
       "\n",
       "            setTimeout(function() {\n",
       "                var nbb_cell_id = 1;\n",
       "                var nbb_unformatted_code = \"%load_ext nb_black\";\n",
       "                var nbb_formatted_code = \"%load_ext nb_black\";\n",
       "                var nbb_cells = Jupyter.notebook.get_cells();\n",
       "                for (var i = 0; i < nbb_cells.length; ++i) {\n",
       "                    if (nbb_cells[i].input_prompt_number == nbb_cell_id) {\n",
       "                        if (nbb_cells[i].get_text() == nbb_unformatted_code) {\n",
       "                             nbb_cells[i].set_text(nbb_formatted_code);\n",
       "                        }\n",
       "                        break;\n",
       "                    }\n",
       "                }\n",
       "            }, 500);\n",
       "            "
      ],
      "text/plain": [
       "<IPython.core.display.Javascript object>"
      ]
     },
     "metadata": {},
     "output_type": "display_data"
    }
   ],
   "source": [
    "%load_ext nb_black"
   ]
  },
  {
   "cell_type": "code",
   "execution_count": 2,
   "metadata": {},
   "outputs": [
    {
     "name": "stderr",
     "output_type": "stream",
     "text": [
      "2024-11-08 23:56:32.394239: I tensorflow/core/util/port.cc:110] oneDNN custom operations are on. You may see slightly different numerical results due to floating-point round-off errors from different computation orders. To turn them off, set the environment variable `TF_ENABLE_ONEDNN_OPTS=0`.\n",
      "2024-11-08 23:56:33.472132: I tensorflow/tsl/cuda/cudart_stub.cc:28] Could not find cuda drivers on your machine, GPU will not be used.\n",
      "2024-11-08 23:56:40.122238: I tensorflow/tsl/cuda/cudart_stub.cc:28] Could not find cuda drivers on your machine, GPU will not be used.\n",
      "2024-11-08 23:56:40.134886: I tensorflow/core/platform/cpu_feature_guard.cc:182] This TensorFlow binary is optimized to use available CPU instructions in performance-critical operations.\n",
      "To enable the following instructions: AVX2 AVX512F AVX512_VNNI FMA, in other operations, rebuild TensorFlow with the appropriate compiler flags.\n",
      "2024-11-08 23:56:51.200784: W tensorflow/compiler/tf2tensorrt/utils/py_utils.cc:38] TF-TRT Warning: Could not find TensorRT\n"
     ]
    },
    {
     "data": {
      "application/javascript": [
       "\n",
       "            setTimeout(function() {\n",
       "                var nbb_cell_id = 2;\n",
       "                var nbb_unformatted_code = \"# Database Reading and Manipulation\\nimport pandas as pd\\n\\n# Linear Algebra\\nimport numpy as np\\n\\n# Time\\nimport time\\n\\n# Random and os for reproducibility\\nimport random\\nimport os\\n\\n# Model Selection\\nfrom sklearn.model_selection import train_test_split\\nfrom sklearn.model_selection import TimeSeriesSplit\\nfrom sklearn.model_selection import RepeatedKFold\\nfrom sklearn.model_selection import cross_validate\\n\\n# Modeling\\nimport tensorflow as tf\\n\\n# Processing\\nfrom sklearn.preprocessing import StandardScaler\\n\\n# Pipeline\\nfrom sklearn.pipeline import Pipeline\\n\\n# Data imputation\\nfrom sklearn.impute import SimpleImputer\\n\\n# Making keras compatible with scikit learn api\\n# https://scikit-learn.org/stable/developers/develop.html\\nfrom sklearn.base import RegressorMixin\\n\\n# Custom modules\\n## Model selection\\nfrom src.cross_validation.blocking_time_series_split import BlockingTimeSeriesSplit\\n\\n## Function to print scores\\nfrom src.utils.print_scores import print_scores\\n\\n## Function to calculate score regression metrics\\nfrom src.utils.score_regression_metrics import score_regression_metrics\\n\\n## Function to fill the results metric dict\\nfrom src.utils.fill_results_dict import fill_results_dict\";\n",
       "                var nbb_formatted_code = \"# Database Reading and Manipulation\\nimport pandas as pd\\n\\n# Linear Algebra\\nimport numpy as np\\n\\n# Time\\nimport time\\n\\n# Random and os for reproducibility\\nimport random\\nimport os\\n\\n# Model Selection\\nfrom sklearn.model_selection import train_test_split\\nfrom sklearn.model_selection import TimeSeriesSplit\\nfrom sklearn.model_selection import RepeatedKFold\\nfrom sklearn.model_selection import cross_validate\\n\\n# Modeling\\nimport tensorflow as tf\\n\\n# Processing\\nfrom sklearn.preprocessing import StandardScaler\\n\\n# Pipeline\\nfrom sklearn.pipeline import Pipeline\\n\\n# Data imputation\\nfrom sklearn.impute import SimpleImputer\\n\\n# Making keras compatible with scikit learn api\\n# https://scikit-learn.org/stable/developers/develop.html\\nfrom sklearn.base import RegressorMixin\\n\\n# Custom modules\\n## Model selection\\nfrom src.cross_validation.blocking_time_series_split import BlockingTimeSeriesSplit\\n\\n## Function to print scores\\nfrom src.utils.print_scores import print_scores\\n\\n## Function to calculate score regression metrics\\nfrom src.utils.score_regression_metrics import score_regression_metrics\\n\\n## Function to fill the results metric dict\\nfrom src.utils.fill_results_dict import fill_results_dict\";\n",
       "                var nbb_cells = Jupyter.notebook.get_cells();\n",
       "                for (var i = 0; i < nbb_cells.length; ++i) {\n",
       "                    if (nbb_cells[i].input_prompt_number == nbb_cell_id) {\n",
       "                        if (nbb_cells[i].get_text() == nbb_unformatted_code) {\n",
       "                             nbb_cells[i].set_text(nbb_formatted_code);\n",
       "                        }\n",
       "                        break;\n",
       "                    }\n",
       "                }\n",
       "            }, 500);\n",
       "            "
      ],
      "text/plain": [
       "<IPython.core.display.Javascript object>"
      ]
     },
     "metadata": {},
     "output_type": "display_data"
    }
   ],
   "source": [
    "# Database Reading and Manipulation\n",
    "import pandas as pd\n",
    "\n",
    "# Linear Algebra\n",
    "import numpy as np\n",
    "\n",
    "# Time\n",
    "import time\n",
    "\n",
    "# Random and os for reproducibility\n",
    "import random\n",
    "import os\n",
    "\n",
    "# Model Selection\n",
    "from sklearn.model_selection import train_test_split\n",
    "from sklearn.model_selection import TimeSeriesSplit\n",
    "from sklearn.model_selection import RepeatedKFold\n",
    "from sklearn.model_selection import cross_validate\n",
    "\n",
    "# Modeling\n",
    "import tensorflow as tf\n",
    "\n",
    "# Processing\n",
    "from sklearn.preprocessing import StandardScaler\n",
    "\n",
    "# Pipeline\n",
    "from sklearn.pipeline import Pipeline\n",
    "\n",
    "# Data imputation\n",
    "from sklearn.impute import SimpleImputer\n",
    "\n",
    "# Making keras compatible with scikit learn api\n",
    "# https://scikit-learn.org/stable/developers/develop.html\n",
    "from sklearn.base import RegressorMixin\n",
    "\n",
    "# Custom modules\n",
    "## Model selection\n",
    "from src.cross_validation.blocking_time_series_split import BlockingTimeSeriesSplit\n",
    "\n",
    "## Function to print scores\n",
    "from src.utils.print_scores import print_scores\n",
    "\n",
    "## Function to calculate score regression metrics\n",
    "from src.utils.score_regression_metrics import score_regression_metrics\n",
    "\n",
    "## Function to fill the results metric dict\n",
    "from src.utils.fill_results_dict import fill_results_dict"
   ]
  },
  {
   "cell_type": "markdown",
   "metadata": {},
   "source": [
    "# Functions and definitions"
   ]
  },
  {
   "cell_type": "code",
   "execution_count": 3,
   "metadata": {},
   "outputs": [
    {
     "data": {
      "application/javascript": [
       "\n",
       "            setTimeout(function() {\n",
       "                var nbb_cell_id = 3;\n",
       "                var nbb_unformatted_code = \"class MLP(RegressorMixin):\\n    def __init__(\\n        self,\\n        callbacks=None,\\n        validation_split=0.0,\\n    ):\\n        self.model = self.get_model()\\n        self.batch_size = 16\\n        self.epochs = 300\\n        self.verbose = 0\\n        self.callbacks = callbacks\\n        self.validation_split = validation_split\\n\\n    def fit(self, X=None, y=None):\\n        self.model.build(X.shape)\\n        self.load_pretrained_weights()\\n        self.history = self.model.fit(\\n            X,\\n            y,\\n            batch_size=self.batch_size,\\n            epochs=self.epochs,\\n            verbose=self.verbose,\\n            callbacks=self.callbacks,\\n            validation_split=self.validation_split,\\n        )\\n\\n    def predict(self, X=None):\\n        return self.model.predict(X, verbose=self.verbose)\\n\\n    def get_model(self):\\n        model = tf.keras.Sequential()\\n\\n        # First Dense layer with Batch Normalization\\n        model.add(tf.keras.layers.Dense(units=256, activation=\\\"relu\\\"))\\n        model.add(tf.keras.layers.BatchNormalization())  # Add BatchNormalization\\n        model.add(tf.keras.layers.Dropout(rate=0.25))\\n        # Subsequent Dense layers with Batch Normalization\\n        model.add(tf.keras.layers.Dense(units=128, activation=\\\"relu\\\"))\\n        model.add(tf.keras.layers.BatchNormalization())\\n        model.add(tf.keras.layers.Dense(units=64, activation=\\\"relu\\\"))\\n        model.add(tf.keras.layers.BatchNormalization())\\n        model.add(tf.keras.layers.Dropout(rate=0.10))\\n        model.add(tf.keras.layers.Dense(units=32, activation=\\\"relu\\\"))\\n        model.add(tf.keras.layers.BatchNormalization())\\n        model.add(tf.keras.layers.Dense(units=16, activation=\\\"relu\\\"))\\n        model.add(tf.keras.layers.BatchNormalization())\\n        model.add(tf.keras.layers.Dropout(rate=0.10))\\n        model.add(tf.keras.layers.Dense(units=1))\\n\\n        model.compile(\\n            optimizer=tf.keras.optimizers.legacy.Adam(learning_rate=0.0001),\\n            loss=\\\"mse\\\",\\n            metrics=[tf.keras.metrics.RootMeanSquaredError(name=\\\"RMSE\\\")],\\n        )\\n\\n        return model\\n\\n    def load_pretrained_weights(self, freeze_layers=0):\\n        # Load global weights\\n        self.model.load_weights(full_path)\\n\\n        # Freeze layers\\n        for layer in self.model.layers[:freeze_layers]:\\n            layer.trainable = False\\n        if freeze_layers > 0:\\n            self.model.compile(\\n                optimizer=tf.keras.optimizers.legacy.Adam(learning_rate=0.0001),\\n                loss=\\\"mse\\\",\\n                metrics=[tf.keras.metrics.RootMeanSquaredError(name=\\\"RMSE\\\")],\\n            )\\n        return\";\n",
       "                var nbb_formatted_code = \"class MLP(RegressorMixin):\\n    def __init__(\\n        self,\\n        callbacks=None,\\n        validation_split=0.0,\\n    ):\\n        self.model = self.get_model()\\n        self.batch_size = 16\\n        self.epochs = 300\\n        self.verbose = 0\\n        self.callbacks = callbacks\\n        self.validation_split = validation_split\\n\\n    def fit(self, X=None, y=None):\\n        self.model.build(X.shape)\\n        self.load_pretrained_weights()\\n        self.history = self.model.fit(\\n            X,\\n            y,\\n            batch_size=self.batch_size,\\n            epochs=self.epochs,\\n            verbose=self.verbose,\\n            callbacks=self.callbacks,\\n            validation_split=self.validation_split,\\n        )\\n\\n    def predict(self, X=None):\\n        return self.model.predict(X, verbose=self.verbose)\\n\\n    def get_model(self):\\n        model = tf.keras.Sequential()\\n\\n        # First Dense layer with Batch Normalization\\n        model.add(tf.keras.layers.Dense(units=256, activation=\\\"relu\\\"))\\n        model.add(tf.keras.layers.BatchNormalization())  # Add BatchNormalization\\n        model.add(tf.keras.layers.Dropout(rate=0.25))\\n        # Subsequent Dense layers with Batch Normalization\\n        model.add(tf.keras.layers.Dense(units=128, activation=\\\"relu\\\"))\\n        model.add(tf.keras.layers.BatchNormalization())\\n        model.add(tf.keras.layers.Dense(units=64, activation=\\\"relu\\\"))\\n        model.add(tf.keras.layers.BatchNormalization())\\n        model.add(tf.keras.layers.Dropout(rate=0.10))\\n        model.add(tf.keras.layers.Dense(units=32, activation=\\\"relu\\\"))\\n        model.add(tf.keras.layers.BatchNormalization())\\n        model.add(tf.keras.layers.Dense(units=16, activation=\\\"relu\\\"))\\n        model.add(tf.keras.layers.BatchNormalization())\\n        model.add(tf.keras.layers.Dropout(rate=0.10))\\n        model.add(tf.keras.layers.Dense(units=1))\\n\\n        model.compile(\\n            optimizer=tf.keras.optimizers.legacy.Adam(learning_rate=0.0001),\\n            loss=\\\"mse\\\",\\n            metrics=[tf.keras.metrics.RootMeanSquaredError(name=\\\"RMSE\\\")],\\n        )\\n\\n        return model\\n\\n    def load_pretrained_weights(self, freeze_layers=0):\\n        # Load global weights\\n        self.model.load_weights(full_path)\\n\\n        # Freeze layers\\n        for layer in self.model.layers[:freeze_layers]:\\n            layer.trainable = False\\n        if freeze_layers > 0:\\n            self.model.compile(\\n                optimizer=tf.keras.optimizers.legacy.Adam(learning_rate=0.0001),\\n                loss=\\\"mse\\\",\\n                metrics=[tf.keras.metrics.RootMeanSquaredError(name=\\\"RMSE\\\")],\\n            )\\n        return\";\n",
       "                var nbb_cells = Jupyter.notebook.get_cells();\n",
       "                for (var i = 0; i < nbb_cells.length; ++i) {\n",
       "                    if (nbb_cells[i].input_prompt_number == nbb_cell_id) {\n",
       "                        if (nbb_cells[i].get_text() == nbb_unformatted_code) {\n",
       "                             nbb_cells[i].set_text(nbb_formatted_code);\n",
       "                        }\n",
       "                        break;\n",
       "                    }\n",
       "                }\n",
       "            }, 500);\n",
       "            "
      ],
      "text/plain": [
       "<IPython.core.display.Javascript object>"
      ]
     },
     "metadata": {},
     "output_type": "display_data"
    }
   ],
   "source": [
    "class MLP(RegressorMixin):\n",
    "    def __init__(\n",
    "        self,\n",
    "        callbacks=None,\n",
    "        validation_split=0.0,\n",
    "    ):\n",
    "        self.model = self.get_model()\n",
    "        self.batch_size = 16\n",
    "        self.epochs = 300\n",
    "        self.verbose = 0\n",
    "        self.callbacks = callbacks\n",
    "        self.validation_split = validation_split\n",
    "\n",
    "    def fit(self, X=None, y=None):\n",
    "        self.model.build(X.shape)\n",
    "        self.load_pretrained_weights()\n",
    "        self.history = self.model.fit(\n",
    "            X,\n",
    "            y,\n",
    "            batch_size=self.batch_size,\n",
    "            epochs=self.epochs,\n",
    "            verbose=self.verbose,\n",
    "            callbacks=self.callbacks,\n",
    "            validation_split=self.validation_split,\n",
    "        )\n",
    "\n",
    "    def predict(self, X=None):\n",
    "        return self.model.predict(X, verbose=self.verbose)\n",
    "\n",
    "    def get_model(self):\n",
    "        model = tf.keras.Sequential()\n",
    "\n",
    "        # First Dense layer with Batch Normalization\n",
    "        model.add(tf.keras.layers.Dense(units=256, activation=\"relu\"))\n",
    "        model.add(tf.keras.layers.BatchNormalization())  # Add BatchNormalization\n",
    "        model.add(tf.keras.layers.Dropout(rate=0.25))\n",
    "        # Subsequent Dense layers with Batch Normalization\n",
    "        model.add(tf.keras.layers.Dense(units=128, activation=\"relu\"))\n",
    "        model.add(tf.keras.layers.BatchNormalization())\n",
    "        model.add(tf.keras.layers.Dense(units=64, activation=\"relu\"))\n",
    "        model.add(tf.keras.layers.BatchNormalization())\n",
    "        model.add(tf.keras.layers.Dropout(rate=0.10))\n",
    "        model.add(tf.keras.layers.Dense(units=32, activation=\"relu\"))\n",
    "        model.add(tf.keras.layers.BatchNormalization())\n",
    "        model.add(tf.keras.layers.Dense(units=16, activation=\"relu\"))\n",
    "        model.add(tf.keras.layers.BatchNormalization())\n",
    "        model.add(tf.keras.layers.Dropout(rate=0.10))\n",
    "        model.add(tf.keras.layers.Dense(units=1))\n",
    "\n",
    "        model.compile(\n",
    "            optimizer=tf.keras.optimizers.legacy.Adam(learning_rate=0.0001),\n",
    "            loss=\"mse\",\n",
    "            metrics=[tf.keras.metrics.RootMeanSquaredError(name=\"RMSE\")],\n",
    "        )\n",
    "\n",
    "        return model\n",
    "\n",
    "    def load_pretrained_weights(self, freeze_layers=0):\n",
    "        # Load global weights\n",
    "        self.model.load_weights(full_path)\n",
    "\n",
    "        # Freeze layers\n",
    "        for layer in self.model.layers[:freeze_layers]:\n",
    "            layer.trainable = False\n",
    "        if freeze_layers > 0:\n",
    "            self.model.compile(\n",
    "                optimizer=tf.keras.optimizers.legacy.Adam(learning_rate=0.0001),\n",
    "                loss=\"mse\",\n",
    "                metrics=[tf.keras.metrics.RootMeanSquaredError(name=\"RMSE\")],\n",
    "            )\n",
    "        return"
   ]
  },
  {
   "cell_type": "markdown",
   "metadata": {},
   "source": [
    "# Settings for Reproducibility"
   ]
  },
  {
   "cell_type": "code",
   "execution_count": 4,
   "metadata": {},
   "outputs": [
    {
     "data": {
      "application/javascript": [
       "\n",
       "            setTimeout(function() {\n",
       "                var nbb_cell_id = 4;\n",
       "                var nbb_unformatted_code = \"SEED = 47\";\n",
       "                var nbb_formatted_code = \"SEED = 47\";\n",
       "                var nbb_cells = Jupyter.notebook.get_cells();\n",
       "                for (var i = 0; i < nbb_cells.length; ++i) {\n",
       "                    if (nbb_cells[i].input_prompt_number == nbb_cell_id) {\n",
       "                        if (nbb_cells[i].get_text() == nbb_unformatted_code) {\n",
       "                             nbb_cells[i].set_text(nbb_formatted_code);\n",
       "                        }\n",
       "                        break;\n",
       "                    }\n",
       "                }\n",
       "            }, 500);\n",
       "            "
      ],
      "text/plain": [
       "<IPython.core.display.Javascript object>"
      ]
     },
     "metadata": {},
     "output_type": "display_data"
    }
   ],
   "source": [
    "SEED = 47"
   ]
  },
  {
   "cell_type": "code",
   "execution_count": 5,
   "metadata": {},
   "outputs": [
    {
     "data": {
      "application/javascript": [
       "\n",
       "            setTimeout(function() {\n",
       "                var nbb_cell_id = 5;\n",
       "                var nbb_unformatted_code = \"def set_seeds(seed=SEED):\\n    os.environ[\\\"CUDA_VISIBLE_DEVICES\\\"] = \\\"\\\"\\n    os.environ[\\\"PYTHONHASHSEED\\\"] = str(seed)\\n    tf.random.set_seed(seed)\\n    np.random.seed(seed)\\n    random.seed(seed)\\n\\n\\n# https://stackoverflow.com/questions/36288235/how-to-get-stable-results-with-tensorflow-setting-random-seed\";\n",
       "                var nbb_formatted_code = \"def set_seeds(seed=SEED):\\n    os.environ[\\\"CUDA_VISIBLE_DEVICES\\\"] = \\\"\\\"\\n    os.environ[\\\"PYTHONHASHSEED\\\"] = str(seed)\\n    tf.random.set_seed(seed)\\n    np.random.seed(seed)\\n    random.seed(seed)\\n\\n\\n# https://stackoverflow.com/questions/36288235/how-to-get-stable-results-with-tensorflow-setting-random-seed\";\n",
       "                var nbb_cells = Jupyter.notebook.get_cells();\n",
       "                for (var i = 0; i < nbb_cells.length; ++i) {\n",
       "                    if (nbb_cells[i].input_prompt_number == nbb_cell_id) {\n",
       "                        if (nbb_cells[i].get_text() == nbb_unformatted_code) {\n",
       "                             nbb_cells[i].set_text(nbb_formatted_code);\n",
       "                        }\n",
       "                        break;\n",
       "                    }\n",
       "                }\n",
       "            }, 500);\n",
       "            "
      ],
      "text/plain": [
       "<IPython.core.display.Javascript object>"
      ]
     },
     "metadata": {},
     "output_type": "display_data"
    }
   ],
   "source": [
    "def set_seeds(seed=SEED):\n",
    "    os.environ[\"CUDA_VISIBLE_DEVICES\"] = \"\"\n",
    "    os.environ[\"PYTHONHASHSEED\"] = str(seed)\n",
    "    tf.random.set_seed(seed)\n",
    "    np.random.seed(seed)\n",
    "    random.seed(seed)\n",
    "\n",
    "\n",
    "# https://stackoverflow.com/questions/36288235/how-to-get-stable-results-with-tensorflow-setting-random-seed"
   ]
  },
  {
   "cell_type": "code",
   "execution_count": 6,
   "metadata": {},
   "outputs": [
    {
     "data": {
      "application/javascript": [
       "\n",
       "            setTimeout(function() {\n",
       "                var nbb_cell_id = 6;\n",
       "                var nbb_unformatted_code = \"index_to_save = 10\";\n",
       "                var nbb_formatted_code = \"index_to_save = 10\";\n",
       "                var nbb_cells = Jupyter.notebook.get_cells();\n",
       "                for (var i = 0; i < nbb_cells.length; ++i) {\n",
       "                    if (nbb_cells[i].input_prompt_number == nbb_cell_id) {\n",
       "                        if (nbb_cells[i].get_text() == nbb_unformatted_code) {\n",
       "                             nbb_cells[i].set_text(nbb_formatted_code);\n",
       "                        }\n",
       "                        break;\n",
       "                    }\n",
       "                }\n",
       "            }, 500);\n",
       "            "
      ],
      "text/plain": [
       "<IPython.core.display.Javascript object>"
      ]
     },
     "metadata": {},
     "output_type": "display_data"
    }
   ],
   "source": [
    "index_to_save = 10"
   ]
  },
  {
   "cell_type": "code",
   "execution_count": 7,
   "metadata": {},
   "outputs": [
    {
     "data": {
      "application/javascript": [
       "\n",
       "            setTimeout(function() {\n",
       "                var nbb_cell_id = 7;\n",
       "                var nbb_unformatted_code = \"weights_path = \\\"../../../../../../../models/global_models/inn/mlp/inn/pre_training\\\"\\nmodel_name = \\\"mlp_chemical_properties_csless_vars_weights.h5\\\"\\nfull_path = os.path.join(weights_path, model_name)\";\n",
       "                var nbb_formatted_code = \"weights_path = \\\"../../../../../../../models/global_models/inn/mlp/inn/pre_training\\\"\\nmodel_name = \\\"mlp_chemical_properties_csless_vars_weights.h5\\\"\\nfull_path = os.path.join(weights_path, model_name)\";\n",
       "                var nbb_cells = Jupyter.notebook.get_cells();\n",
       "                for (var i = 0; i < nbb_cells.length; ++i) {\n",
       "                    if (nbb_cells[i].input_prompt_number == nbb_cell_id) {\n",
       "                        if (nbb_cells[i].get_text() == nbb_unformatted_code) {\n",
       "                             nbb_cells[i].set_text(nbb_formatted_code);\n",
       "                        }\n",
       "                        break;\n",
       "                    }\n",
       "                }\n",
       "            }, 500);\n",
       "            "
      ],
      "text/plain": [
       "<IPython.core.display.Javascript object>"
      ]
     },
     "metadata": {},
     "output_type": "display_data"
    }
   ],
   "source": [
    "weights_path = \"../../../../../../../models/global_models/inn/mlp/inn/pre_training\"\n",
    "model_name = \"mlp_chemical_properties_csless_vars_weights.h5\"\n",
    "full_path = os.path.join(weights_path, model_name)"
   ]
  },
  {
   "cell_type": "code",
   "execution_count": 8,
   "metadata": {},
   "outputs": [
    {
     "data": {
      "application/javascript": [
       "\n",
       "            setTimeout(function() {\n",
       "                var nbb_cell_id = 8;\n",
       "                var nbb_unformatted_code = \"SEED = 47\\nMETRICS = (\\n    \\\"neg_root_mean_squared_error\\\",\\n    \\\"neg_mean_absolute_error\\\",\\n    \\\"neg_mean_absolute_percentage_error\\\",\\n    \\\"r2\\\",\\n)\\nMETRICS_DICT = {\\n    \\\"neg_root_mean_squared_error\\\": \\\"RMSE\\\",\\n    \\\"neg_mean_absolute_error\\\": \\\"MAE\\\",\\n    \\\"neg_mean_absolute_percentage_error\\\": \\\"MAPE\\\",\\n    \\\"r2\\\": \\\"R2\\\",\\n}\";\n",
       "                var nbb_formatted_code = \"SEED = 47\\nMETRICS = (\\n    \\\"neg_root_mean_squared_error\\\",\\n    \\\"neg_mean_absolute_error\\\",\\n    \\\"neg_mean_absolute_percentage_error\\\",\\n    \\\"r2\\\",\\n)\\nMETRICS_DICT = {\\n    \\\"neg_root_mean_squared_error\\\": \\\"RMSE\\\",\\n    \\\"neg_mean_absolute_error\\\": \\\"MAE\\\",\\n    \\\"neg_mean_absolute_percentage_error\\\": \\\"MAPE\\\",\\n    \\\"r2\\\": \\\"R2\\\",\\n}\";\n",
       "                var nbb_cells = Jupyter.notebook.get_cells();\n",
       "                for (var i = 0; i < nbb_cells.length; ++i) {\n",
       "                    if (nbb_cells[i].input_prompt_number == nbb_cell_id) {\n",
       "                        if (nbb_cells[i].get_text() == nbb_unformatted_code) {\n",
       "                             nbb_cells[i].set_text(nbb_formatted_code);\n",
       "                        }\n",
       "                        break;\n",
       "                    }\n",
       "                }\n",
       "            }, 500);\n",
       "            "
      ],
      "text/plain": [
       "<IPython.core.display.Javascript object>"
      ]
     },
     "metadata": {},
     "output_type": "display_data"
    }
   ],
   "source": [
    "SEED = 47\n",
    "METRICS = (\n",
    "    \"neg_root_mean_squared_error\",\n",
    "    \"neg_mean_absolute_error\",\n",
    "    \"neg_mean_absolute_percentage_error\",\n",
    "    \"r2\",\n",
    ")\n",
    "METRICS_DICT = {\n",
    "    \"neg_root_mean_squared_error\": \"RMSE\",\n",
    "    \"neg_mean_absolute_error\": \"MAE\",\n",
    "    \"neg_mean_absolute_percentage_error\": \"MAPE\",\n",
    "    \"r2\": \"R2\",\n",
    "}"
   ]
  },
  {
   "cell_type": "markdown",
   "metadata": {},
   "source": [
    "## Defining a dataframe structure to save the results"
   ]
  },
  {
   "cell_type": "code",
   "execution_count": 9,
   "metadata": {},
   "outputs": [
    {
     "data": {
      "application/javascript": [
       "\n",
       "            setTimeout(function() {\n",
       "                var nbb_cell_id = 9;\n",
       "                var nbb_unformatted_code = \"results_to_save = []\\n\\nresults_dict = {\\n    \\\"Category\\\": \\\"Global Model\\\",\\n    \\\"Company\\\": \\\"partner_i\\\",\\n    \\\"Plant\\\": \\\"partner_i\\\",\\n    \\\"Features\\\": \\\"Chemical + Properties CS Less\\\",\\n    \\\"Data Shape\\\": None,\\n    \\\"Timesteps\\\": None,\\n    \\\"Model\\\": \\\"MLP\\\",\\n    \\\"Model Params\\\": None,\\n    \\\"Scaler\\\": \\\"Standard Scaler\\\",\\n    \\\"Scaler Params\\\": None,\\n    \\\"Imputer\\\": \\\"Median\\\",\\n    \\\"Imputer Params\\\": None,\\n    \\\"Cross Validation\\\": None,\\n    \\\"Cross Validation Params\\\": np.nan,\\n    \\\"RMSE Train\\\": np.nan,\\n    \\\"MAE Train\\\": np.nan,\\n    \\\"MAPE Train\\\": np.nan,\\n    \\\"R2 Train\\\": np.nan,\\n    \\\"RMSE Test\\\": np.nan,\\n    \\\"MAE Test\\\": np.nan,\\n    \\\"MAPE Test\\\": np.nan,\\n    \\\"R2 Test\\\": np.nan,\\n}\";\n",
       "                var nbb_formatted_code = \"results_to_save = []\\n\\nresults_dict = {\\n    \\\"Category\\\": \\\"Global Model\\\",\\n    \\\"Company\\\": \\\"partner_i\\\",\\n    \\\"Plant\\\": \\\"partner_i\\\",\\n    \\\"Features\\\": \\\"Chemical + Properties CS Less\\\",\\n    \\\"Data Shape\\\": None,\\n    \\\"Timesteps\\\": None,\\n    \\\"Model\\\": \\\"MLP\\\",\\n    \\\"Model Params\\\": None,\\n    \\\"Scaler\\\": \\\"Standard Scaler\\\",\\n    \\\"Scaler Params\\\": None,\\n    \\\"Imputer\\\": \\\"Median\\\",\\n    \\\"Imputer Params\\\": None,\\n    \\\"Cross Validation\\\": None,\\n    \\\"Cross Validation Params\\\": np.nan,\\n    \\\"RMSE Train\\\": np.nan,\\n    \\\"MAE Train\\\": np.nan,\\n    \\\"MAPE Train\\\": np.nan,\\n    \\\"R2 Train\\\": np.nan,\\n    \\\"RMSE Test\\\": np.nan,\\n    \\\"MAE Test\\\": np.nan,\\n    \\\"MAPE Test\\\": np.nan,\\n    \\\"R2 Test\\\": np.nan,\\n}\";\n",
       "                var nbb_cells = Jupyter.notebook.get_cells();\n",
       "                for (var i = 0; i < nbb_cells.length; ++i) {\n",
       "                    if (nbb_cells[i].input_prompt_number == nbb_cell_id) {\n",
       "                        if (nbb_cells[i].get_text() == nbb_unformatted_code) {\n",
       "                             nbb_cells[i].set_text(nbb_formatted_code);\n",
       "                        }\n",
       "                        break;\n",
       "                    }\n",
       "                }\n",
       "            }, 500);\n",
       "            "
      ],
      "text/plain": [
       "<IPython.core.display.Javascript object>"
      ]
     },
     "metadata": {},
     "output_type": "display_data"
    }
   ],
   "source": [
    "results_to_save = []\n",
    "\n",
    "results_dict = {\n",
    "    \"Category\": \"Global Model\",\n",
    "    \"Company\": \"partner_i\",\n",
    "    \"Plant\": \"partner_i\",\n",
    "    \"Features\": \"Chemical + Properties CS Less\",\n",
    "    \"Data Shape\": None,\n",
    "    \"Timesteps\": None,\n",
    "    \"Model\": \"MLP\",\n",
    "    \"Model Params\": None,\n",
    "    \"Scaler\": \"Standard Scaler\",\n",
    "    \"Scaler Params\": None,\n",
    "    \"Imputer\": \"Median\",\n",
    "    \"Imputer Params\": None,\n",
    "    \"Cross Validation\": None,\n",
    "    \"Cross Validation Params\": np.nan,\n",
    "    \"RMSE Train\": np.nan,\n",
    "    \"MAE Train\": np.nan,\n",
    "    \"MAPE Train\": np.nan,\n",
    "    \"R2 Train\": np.nan,\n",
    "    \"RMSE Test\": np.nan,\n",
    "    \"MAE Test\": np.nan,\n",
    "    \"MAPE Test\": np.nan,\n",
    "    \"R2 Test\": np.nan,\n",
    "}"
   ]
  },
  {
   "cell_type": "markdown",
   "metadata": {},
   "source": [
    "# Reading the dataset"
   ]
  },
  {
   "cell_type": "code",
   "execution_count": 10,
   "metadata": {},
   "outputs": [
    {
     "data": {
      "application/javascript": [
       "\n",
       "            setTimeout(function() {\n",
       "                var nbb_cell_id = 10;\n",
       "                var nbb_unformatted_code = \"df = pd.read_csv(\\n    \\\"../../../../../../../data/processed/partner_i-Oficial/cement-shipping_fine_tuning.csv\\\"\\n)\";\n",
       "                var nbb_formatted_code = \"df = pd.read_csv(\\n    \\\"../../../../../../../data/processed/partner_i-Oficial/cement-shipping_fine_tuning.csv\\\"\\n)\";\n",
       "                var nbb_cells = Jupyter.notebook.get_cells();\n",
       "                for (var i = 0; i < nbb_cells.length; ++i) {\n",
       "                    if (nbb_cells[i].input_prompt_number == nbb_cell_id) {\n",
       "                        if (nbb_cells[i].get_text() == nbb_unformatted_code) {\n",
       "                             nbb_cells[i].set_text(nbb_formatted_code);\n",
       "                        }\n",
       "                        break;\n",
       "                    }\n",
       "                }\n",
       "            }, 500);\n",
       "            "
      ],
      "text/plain": [
       "<IPython.core.display.Javascript object>"
      ]
     },
     "metadata": {},
     "output_type": "display_data"
    }
   ],
   "source": [
    "df = pd.read_csv(\n",
    "    \"../../../../../../../data/processed/partner_i-Oficial/cement-shipping_fine_tuning.csv\"\n",
    ")"
   ]
  },
  {
   "cell_type": "markdown",
   "metadata": {},
   "source": [
    "## Defining Features\n",
    "\n",
    "In this set of experiments we use all available features"
   ]
  },
  {
   "cell_type": "code",
   "execution_count": 11,
   "metadata": {},
   "outputs": [
    {
     "data": {
      "application/javascript": [
       "\n",
       "            setTimeout(function() {\n",
       "                var nbb_cell_id = 11;\n",
       "                var nbb_unformatted_code = \"df_copy = df.copy().drop(\\n    [\\n        \\\"Cement_Type\\\",\\n        \\\"Factory_Plant\\\",\\n        \\\"CS1\\\",\\n        \\\"CS3\\\",\\n        \\\"CS7\\\",\\n    ],\\n    axis=1,\\n)\";\n",
       "                var nbb_formatted_code = \"df_copy = df.copy().drop(\\n    [\\n        \\\"Cement_Type\\\",\\n        \\\"Factory_Plant\\\",\\n        \\\"CS1\\\",\\n        \\\"CS3\\\",\\n        \\\"CS7\\\",\\n    ],\\n    axis=1,\\n)\";\n",
       "                var nbb_cells = Jupyter.notebook.get_cells();\n",
       "                for (var i = 0; i < nbb_cells.length; ++i) {\n",
       "                    if (nbb_cells[i].input_prompt_number == nbb_cell_id) {\n",
       "                        if (nbb_cells[i].get_text() == nbb_unformatted_code) {\n",
       "                             nbb_cells[i].set_text(nbb_formatted_code);\n",
       "                        }\n",
       "                        break;\n",
       "                    }\n",
       "                }\n",
       "            }, 500);\n",
       "            "
      ],
      "text/plain": [
       "<IPython.core.display.Javascript object>"
      ]
     },
     "metadata": {},
     "output_type": "display_data"
    }
   ],
   "source": [
    "df_copy = df.copy().drop(\n",
    "    [\n",
    "        \"Cement_Type\",\n",
    "        \"Factory_Plant\",\n",
    "        \"CS1\",\n",
    "        \"CS3\",\n",
    "        \"CS7\",\n",
    "    ],\n",
    "    axis=1,\n",
    ")"
   ]
  },
  {
   "cell_type": "markdown",
   "metadata": {},
   "source": [
    "<h2>1. Dataset: df_copy</h2> <br>In this dataset all features are used."
   ]
  },
  {
   "cell_type": "code",
   "execution_count": 12,
   "metadata": {},
   "outputs": [
    {
     "data": {
      "application/javascript": [
       "\n",
       "            setTimeout(function() {\n",
       "                var nbb_cell_id = 12;\n",
       "                var nbb_unformatted_code = \"y = df_copy.pop(\\\"CS28\\\").values\\nx = df_copy.drop([\\\"Date\\\"], axis=1)\\ndates = df[\\\"Date\\\"].copy()\";\n",
       "                var nbb_formatted_code = \"y = df_copy.pop(\\\"CS28\\\").values\\nx = df_copy.drop([\\\"Date\\\"], axis=1)\\ndates = df[\\\"Date\\\"].copy()\";\n",
       "                var nbb_cells = Jupyter.notebook.get_cells();\n",
       "                for (var i = 0; i < nbb_cells.length; ++i) {\n",
       "                    if (nbb_cells[i].input_prompt_number == nbb_cell_id) {\n",
       "                        if (nbb_cells[i].get_text() == nbb_unformatted_code) {\n",
       "                             nbb_cells[i].set_text(nbb_formatted_code);\n",
       "                        }\n",
       "                        break;\n",
       "                    }\n",
       "                }\n",
       "            }, 500);\n",
       "            "
      ],
      "text/plain": [
       "<IPython.core.display.Javascript object>"
      ]
     },
     "metadata": {},
     "output_type": "display_data"
    }
   ],
   "source": [
    "y = df_copy.pop(\"CS28\").values\n",
    "x = df_copy.drop([\"Date\"], axis=1)\n",
    "dates = df[\"Date\"].copy()"
   ]
  },
  {
   "cell_type": "markdown",
   "metadata": {},
   "source": [
    "# 1. Multi Layer Perceptron"
   ]
  },
  {
   "cell_type": "markdown",
   "metadata": {},
   "source": [
    "## 1.1 Repeated KFold Cross validation\n",
    "\n",
    "<b>Dataset shape:</b> (594, 38)<br>\n",
    "<b>Repeats:</b>10<br>\n",
    "<b>Splits:</b>10<br>\n",
    "    1. 10 folds of 59 samples each\n",
    "    2. 90% train (535 samples each fold)\n",
    "    3. 10% test (59 samples each fold)\n",
    "<b>Total:</b> 100 models<br>"
   ]
  },
  {
   "cell_type": "code",
   "execution_count": 13,
   "metadata": {
    "scrolled": false
   },
   "outputs": [
    {
     "data": {
      "application/javascript": [
       "\n",
       "            setTimeout(function() {\n",
       "                var nbb_cell_id = 13;\n",
       "                var nbb_unformatted_code = \"# set_seeds()\\n# start = time.time()\\n\\n# repeats = 3\\n# n_splits = 5\\n# pipeline = Pipeline(\\n#     [\\n#         (\\\"imputer\\\", SimpleImputer(strategy=\\\"median\\\")),\\n#         (\\\"transformer\\\", StandardScaler()),\\n#         (\\\"estimator\\\", MLP()),\\n#     ]\\n# )\\n# cv = RepeatedKFold(n_splits=n_splits, n_repeats=repeats, random_state=SEED)\\n# scores = cross_validate(\\n#     pipeline,\\n#     x,\\n#     y,\\n#     scoring=METRICS,\\n#     cv=cv,\\n#     n_jobs=1,\\n#     return_train_score=True,\\n# )\\n# print(\\\"Repeated Cross Validation:\\\")\\n# print(f\\\"Repeats: {repeats}\\\")\\n# print(f\\\"n_splits: {n_splits}\\\")\\n# print()\\n# print_scores(scores, METRICS, METRICS_DICT)\\n\\n# results_dict_copy = results_dict.copy()\\n# results_dict_copy[\\\"Cross Validation\\\"] = \\\"Repeated KFold\\\"\\n# results_dict_copy[\\\"Cross Validation Params\\\"] = '{\\\"N_Splits\\\": 5, \\\"Repeats\\\": 3}'\\n# results_dict_copy[\\\"Data Shape\\\"] = x.shape\\n# df_results = fill_results_dict(results_dict_copy, scores)\\n# results_to_save.append(df_results)\\n\\n# end = time.time()\\n# print(\\\"Minutes Elapsed: \\\", (end - start) / 60)\";\n",
       "                var nbb_formatted_code = \"# set_seeds()\\n# start = time.time()\\n\\n# repeats = 3\\n# n_splits = 5\\n# pipeline = Pipeline(\\n#     [\\n#         (\\\"imputer\\\", SimpleImputer(strategy=\\\"median\\\")),\\n#         (\\\"transformer\\\", StandardScaler()),\\n#         (\\\"estimator\\\", MLP()),\\n#     ]\\n# )\\n# cv = RepeatedKFold(n_splits=n_splits, n_repeats=repeats, random_state=SEED)\\n# scores = cross_validate(\\n#     pipeline,\\n#     x,\\n#     y,\\n#     scoring=METRICS,\\n#     cv=cv,\\n#     n_jobs=1,\\n#     return_train_score=True,\\n# )\\n# print(\\\"Repeated Cross Validation:\\\")\\n# print(f\\\"Repeats: {repeats}\\\")\\n# print(f\\\"n_splits: {n_splits}\\\")\\n# print()\\n# print_scores(scores, METRICS, METRICS_DICT)\\n\\n# results_dict_copy = results_dict.copy()\\n# results_dict_copy[\\\"Cross Validation\\\"] = \\\"Repeated KFold\\\"\\n# results_dict_copy[\\\"Cross Validation Params\\\"] = '{\\\"N_Splits\\\": 5, \\\"Repeats\\\": 3}'\\n# results_dict_copy[\\\"Data Shape\\\"] = x.shape\\n# df_results = fill_results_dict(results_dict_copy, scores)\\n# results_to_save.append(df_results)\\n\\n# end = time.time()\\n# print(\\\"Minutes Elapsed: \\\", (end - start) / 60)\";\n",
       "                var nbb_cells = Jupyter.notebook.get_cells();\n",
       "                for (var i = 0; i < nbb_cells.length; ++i) {\n",
       "                    if (nbb_cells[i].input_prompt_number == nbb_cell_id) {\n",
       "                        if (nbb_cells[i].get_text() == nbb_unformatted_code) {\n",
       "                             nbb_cells[i].set_text(nbb_formatted_code);\n",
       "                        }\n",
       "                        break;\n",
       "                    }\n",
       "                }\n",
       "            }, 500);\n",
       "            "
      ],
      "text/plain": [
       "<IPython.core.display.Javascript object>"
      ]
     },
     "metadata": {},
     "output_type": "display_data"
    }
   ],
   "source": [
    "# set_seeds()\n",
    "# start = time.time()\n",
    "\n",
    "# repeats = 3\n",
    "# n_splits = 5\n",
    "# pipeline = Pipeline(\n",
    "#     [\n",
    "#         (\"imputer\", SimpleImputer(strategy=\"median\")),\n",
    "#         (\"transformer\", StandardScaler()),\n",
    "#         (\"estimator\", MLP()),\n",
    "#     ]\n",
    "# )\n",
    "# cv = RepeatedKFold(n_splits=n_splits, n_repeats=repeats, random_state=SEED)\n",
    "# scores = cross_validate(\n",
    "#     pipeline,\n",
    "#     x,\n",
    "#     y,\n",
    "#     scoring=METRICS,\n",
    "#     cv=cv,\n",
    "#     n_jobs=1,\n",
    "#     return_train_score=True,\n",
    "# )\n",
    "# print(\"Repeated Cross Validation:\")\n",
    "# print(f\"Repeats: {repeats}\")\n",
    "# print(f\"n_splits: {n_splits}\")\n",
    "# print()\n",
    "# print_scores(scores, METRICS, METRICS_DICT)\n",
    "\n",
    "# results_dict_copy = results_dict.copy()\n",
    "# results_dict_copy[\"Cross Validation\"] = \"Repeated KFold\"\n",
    "# results_dict_copy[\"Cross Validation Params\"] = '{\"N_Splits\": 5, \"Repeats\": 3}'\n",
    "# results_dict_copy[\"Data Shape\"] = x.shape\n",
    "# df_results = fill_results_dict(results_dict_copy, scores)\n",
    "# results_to_save.append(df_results)\n",
    "\n",
    "# end = time.time()\n",
    "# print(\"Minutes Elapsed: \", (end - start) / 60)"
   ]
  },
  {
   "cell_type": "markdown",
   "metadata": {},
   "source": [
    "## 1.2. Blocking Time Series Cross Validation\n",
    "\n",
    "<b>Dataset shape:</b> (594, 38)<br>\n",
    "<b>Splits:</b>5<br>    \n",
    "    1. 5 folds of 118 samples\n",
    "    2. 50% train (59 samples each fold)\n",
    "    3. 50% test (59 samples each fold)\n",
    "<b>Total:</b> 5 models<br>"
   ]
  },
  {
   "cell_type": "code",
   "execution_count": 14,
   "metadata": {},
   "outputs": [
    {
     "data": {
      "application/javascript": [
       "\n",
       "            setTimeout(function() {\n",
       "                var nbb_cell_id = 14;\n",
       "                var nbb_unformatted_code = \"# set_seeds()\\n# start = time.time()\\n\\n# repeats = 3\\n# n_splits = 5\\n# train_size = 0.8\\n# scores_final = None\\n\\n# for _ in range(repeats):\\n#     pipeline = Pipeline(\\n#         [\\n#             (\\\"imputer\\\", SimpleImputer(strategy=\\\"median\\\")),\\n#             (\\\"transformer\\\", StandardScaler()),\\n#             (\\\"estimator\\\", MLP()),\\n#         ]\\n#     )\\n#     cv = BlockingTimeSeriesSplit(n_splits=n_splits, train_size=train_size)\\n#     scores = cross_validate(\\n#         pipeline,\\n#         x,\\n#         y,\\n#         scoring=METRICS,\\n#         cv=cv,\\n#         # n_jobs=None,\\n#         return_train_score=True,\\n#     )\\n#     if scores_final is None:\\n#         scores_final = {key: [] for key, _ in scores.items()}\\n\\n#     for key, value in scores.items():\\n#         scores_final[key] += [value]\\n\\n\\n# print(\\\"Blocking Time Series Split:\\\")\\n# print(f\\\"Repeats: {repeats}\\\")\\n# print(f\\\"n_splits: {n_splits}\\\")\\n# print()\\n# print_scores(scores_final, METRICS, METRICS_DICT)\\n\\n# scores = {key: np.array(val).flatten() for key, val in scores_final.items()}\\n# results_dict_copy = results_dict.copy()\\n# results_dict_copy[\\\"Cross Validation\\\"] = \\\"Blocking Time Series Split\\\"\\n# results_dict_copy[\\n#     \\\"Cross Validation Params\\\"\\n# ] = '{\\\"N_Splits\\\": 5, \\\"Repeats\\\": 3, \\\"train_size\\\": 0.8}'\\n# results_dict_copy[\\\"Data Shape\\\"] = x.shape\\n# df_results = fill_results_dict(results_dict_copy, scores)\\n# results_to_save.append(df_results)\\n\\n# end = time.time()\\n# print(\\\"Minutes Elapsed: \\\", (end - start) / 60)\";\n",
       "                var nbb_formatted_code = \"# set_seeds()\\n# start = time.time()\\n\\n# repeats = 3\\n# n_splits = 5\\n# train_size = 0.8\\n# scores_final = None\\n\\n# for _ in range(repeats):\\n#     pipeline = Pipeline(\\n#         [\\n#             (\\\"imputer\\\", SimpleImputer(strategy=\\\"median\\\")),\\n#             (\\\"transformer\\\", StandardScaler()),\\n#             (\\\"estimator\\\", MLP()),\\n#         ]\\n#     )\\n#     cv = BlockingTimeSeriesSplit(n_splits=n_splits, train_size=train_size)\\n#     scores = cross_validate(\\n#         pipeline,\\n#         x,\\n#         y,\\n#         scoring=METRICS,\\n#         cv=cv,\\n#         # n_jobs=None,\\n#         return_train_score=True,\\n#     )\\n#     if scores_final is None:\\n#         scores_final = {key: [] for key, _ in scores.items()}\\n\\n#     for key, value in scores.items():\\n#         scores_final[key] += [value]\\n\\n\\n# print(\\\"Blocking Time Series Split:\\\")\\n# print(f\\\"Repeats: {repeats}\\\")\\n# print(f\\\"n_splits: {n_splits}\\\")\\n# print()\\n# print_scores(scores_final, METRICS, METRICS_DICT)\\n\\n# scores = {key: np.array(val).flatten() for key, val in scores_final.items()}\\n# results_dict_copy = results_dict.copy()\\n# results_dict_copy[\\\"Cross Validation\\\"] = \\\"Blocking Time Series Split\\\"\\n# results_dict_copy[\\n#     \\\"Cross Validation Params\\\"\\n# ] = '{\\\"N_Splits\\\": 5, \\\"Repeats\\\": 3, \\\"train_size\\\": 0.8}'\\n# results_dict_copy[\\\"Data Shape\\\"] = x.shape\\n# df_results = fill_results_dict(results_dict_copy, scores)\\n# results_to_save.append(df_results)\\n\\n# end = time.time()\\n# print(\\\"Minutes Elapsed: \\\", (end - start) / 60)\";\n",
       "                var nbb_cells = Jupyter.notebook.get_cells();\n",
       "                for (var i = 0; i < nbb_cells.length; ++i) {\n",
       "                    if (nbb_cells[i].input_prompt_number == nbb_cell_id) {\n",
       "                        if (nbb_cells[i].get_text() == nbb_unformatted_code) {\n",
       "                             nbb_cells[i].set_text(nbb_formatted_code);\n",
       "                        }\n",
       "                        break;\n",
       "                    }\n",
       "                }\n",
       "            }, 500);\n",
       "            "
      ],
      "text/plain": [
       "<IPython.core.display.Javascript object>"
      ]
     },
     "metadata": {},
     "output_type": "display_data"
    }
   ],
   "source": [
    "# set_seeds()\n",
    "# start = time.time()\n",
    "\n",
    "# repeats = 3\n",
    "# n_splits = 5\n",
    "# train_size = 0.8\n",
    "# scores_final = None\n",
    "\n",
    "# for _ in range(repeats):\n",
    "#     pipeline = Pipeline(\n",
    "#         [\n",
    "#             (\"imputer\", SimpleImputer(strategy=\"median\")),\n",
    "#             (\"transformer\", StandardScaler()),\n",
    "#             (\"estimator\", MLP()),\n",
    "#         ]\n",
    "#     )\n",
    "#     cv = BlockingTimeSeriesSplit(n_splits=n_splits, train_size=train_size)\n",
    "#     scores = cross_validate(\n",
    "#         pipeline,\n",
    "#         x,\n",
    "#         y,\n",
    "#         scoring=METRICS,\n",
    "#         cv=cv,\n",
    "#         # n_jobs=None,\n",
    "#         return_train_score=True,\n",
    "#     )\n",
    "#     if scores_final is None:\n",
    "#         scores_final = {key: [] for key, _ in scores.items()}\n",
    "\n",
    "#     for key, value in scores.items():\n",
    "#         scores_final[key] += [value]\n",
    "\n",
    "\n",
    "# print(\"Blocking Time Series Split:\")\n",
    "# print(f\"Repeats: {repeats}\")\n",
    "# print(f\"n_splits: {n_splits}\")\n",
    "# print()\n",
    "# print_scores(scores_final, METRICS, METRICS_DICT)\n",
    "\n",
    "# scores = {key: np.array(val).flatten() for key, val in scores_final.items()}\n",
    "# results_dict_copy = results_dict.copy()\n",
    "# results_dict_copy[\"Cross Validation\"] = \"Blocking Time Series Split\"\n",
    "# results_dict_copy[\n",
    "#     \"Cross Validation Params\"\n",
    "# ] = '{\"N_Splits\": 5, \"Repeats\": 3, \"train_size\": 0.8}'\n",
    "# results_dict_copy[\"Data Shape\"] = x.shape\n",
    "# df_results = fill_results_dict(results_dict_copy, scores)\n",
    "# results_to_save.append(df_results)\n",
    "\n",
    "# end = time.time()\n",
    "# print(\"Minutes Elapsed: \", (end - start) / 60)"
   ]
  },
  {
   "cell_type": "markdown",
   "metadata": {},
   "source": [
    "## 1.3. Time Series Split Cross Validation\n",
    "\n",
    "The training set has size i * n_samples // (n_splits + 1) + n_samples % (n_splits + 1) in the i th split, with a test set of size n_samples//(n_splits + 1) by default, where n_samples is the number of samples.\n",
    "\n",
    "\n",
    "<b>Dataset shape:</b> (594, 38)<br>\n",
    "<b>Splits:</b>10<br>    \n",
    "    1. Train: 10 folds of 54, 108, 162, 216, 270, 324, 378, 432, 486 samples each fold\n",
    "    2. Test: 54 samples each fold\n",
    "<b>Total:</b> 10 models<br>"
   ]
  },
  {
   "cell_type": "code",
   "execution_count": 15,
   "metadata": {},
   "outputs": [
    {
     "data": {
      "application/javascript": [
       "\n",
       "            setTimeout(function() {\n",
       "                var nbb_cell_id = 15;\n",
       "                var nbb_unformatted_code = \"# set_seeds()\\n# start = time.time()\\n\\n# scores_final = None\\n# repeats = 3\\n# n_splits = 5\\n# gap = 0\\n\\n# for _ in range(repeats):\\n#     pipeline = Pipeline(\\n#         [\\n#             (\\\"imputer\\\", SimpleImputer(strategy=\\\"median\\\")),\\n#             (\\\"transformer\\\", StandardScaler()),\\n#             (\\\"estimator\\\", MLP()),\\n#         ]\\n#     )\\n#     cv = TimeSeriesSplit(gap=gap, max_train_size=None, n_splits=n_splits)\\n\\n#     scores = cross_validate(\\n#         pipeline,\\n#         x,\\n#         y,\\n#         scoring=METRICS,\\n#         cv=cv,\\n#         # n_jobs=-1,\\n#         return_train_score=True,\\n#     )\\n#     if scores_final is None:\\n#         scores_final = {key: [] for key, _ in scores.items()}\\n#     for key, value in scores.items():\\n#         scores_final[key] += [value]\\n\\n# print(\\\"Blocking Time Series Split:\\\")\\n# print(f\\\"Repeats: {repeats}\\\")\\n# print(f\\\"n_splits: {n_splits}\\\")\\n# print()\\n# print_scores(scores_final, METRICS, METRICS_DICT)\\n\\n# # Saving the results\\n# scores = {key: np.array(val).flatten() for key, val in scores_final.items()}\\n# results_dict_copy = results_dict.copy()\\n# results_dict_copy[\\\"Cross Validation\\\"] = \\\"Time Series Split\\\"\\n# results_dict_copy[\\\"Cross Validation Params\\\"] = '{\\\"N_Splits\\\": 5, \\\"Repeats\\\": 3, \\\"Gap\\\": 0}'\\n# results_dict_copy[\\\"Data Shape\\\"] = x.shape\\n# df_results = fill_results_dict(results_dict_copy, scores)\\n# results_to_save.append(df_results)\\n\\n# end = time.time()\\n# print(\\\"Minutes Elapsed: \\\", (end - start) / 60)\";\n",
       "                var nbb_formatted_code = \"# set_seeds()\\n# start = time.time()\\n\\n# scores_final = None\\n# repeats = 3\\n# n_splits = 5\\n# gap = 0\\n\\n# for _ in range(repeats):\\n#     pipeline = Pipeline(\\n#         [\\n#             (\\\"imputer\\\", SimpleImputer(strategy=\\\"median\\\")),\\n#             (\\\"transformer\\\", StandardScaler()),\\n#             (\\\"estimator\\\", MLP()),\\n#         ]\\n#     )\\n#     cv = TimeSeriesSplit(gap=gap, max_train_size=None, n_splits=n_splits)\\n\\n#     scores = cross_validate(\\n#         pipeline,\\n#         x,\\n#         y,\\n#         scoring=METRICS,\\n#         cv=cv,\\n#         # n_jobs=-1,\\n#         return_train_score=True,\\n#     )\\n#     if scores_final is None:\\n#         scores_final = {key: [] for key, _ in scores.items()}\\n#     for key, value in scores.items():\\n#         scores_final[key] += [value]\\n\\n# print(\\\"Blocking Time Series Split:\\\")\\n# print(f\\\"Repeats: {repeats}\\\")\\n# print(f\\\"n_splits: {n_splits}\\\")\\n# print()\\n# print_scores(scores_final, METRICS, METRICS_DICT)\\n\\n# # Saving the results\\n# scores = {key: np.array(val).flatten() for key, val in scores_final.items()}\\n# results_dict_copy = results_dict.copy()\\n# results_dict_copy[\\\"Cross Validation\\\"] = \\\"Time Series Split\\\"\\n# results_dict_copy[\\\"Cross Validation Params\\\"] = '{\\\"N_Splits\\\": 5, \\\"Repeats\\\": 3, \\\"Gap\\\": 0}'\\n# results_dict_copy[\\\"Data Shape\\\"] = x.shape\\n# df_results = fill_results_dict(results_dict_copy, scores)\\n# results_to_save.append(df_results)\\n\\n# end = time.time()\\n# print(\\\"Minutes Elapsed: \\\", (end - start) / 60)\";\n",
       "                var nbb_cells = Jupyter.notebook.get_cells();\n",
       "                for (var i = 0; i < nbb_cells.length; ++i) {\n",
       "                    if (nbb_cells[i].input_prompt_number == nbb_cell_id) {\n",
       "                        if (nbb_cells[i].get_text() == nbb_unformatted_code) {\n",
       "                             nbb_cells[i].set_text(nbb_formatted_code);\n",
       "                        }\n",
       "                        break;\n",
       "                    }\n",
       "                }\n",
       "            }, 500);\n",
       "            "
      ],
      "text/plain": [
       "<IPython.core.display.Javascript object>"
      ]
     },
     "metadata": {},
     "output_type": "display_data"
    }
   ],
   "source": [
    "# set_seeds()\n",
    "# start = time.time()\n",
    "\n",
    "# scores_final = None\n",
    "# repeats = 3\n",
    "# n_splits = 5\n",
    "# gap = 0\n",
    "\n",
    "# for _ in range(repeats):\n",
    "#     pipeline = Pipeline(\n",
    "#         [\n",
    "#             (\"imputer\", SimpleImputer(strategy=\"median\")),\n",
    "#             (\"transformer\", StandardScaler()),\n",
    "#             (\"estimator\", MLP()),\n",
    "#         ]\n",
    "#     )\n",
    "#     cv = TimeSeriesSplit(gap=gap, max_train_size=None, n_splits=n_splits)\n",
    "\n",
    "#     scores = cross_validate(\n",
    "#         pipeline,\n",
    "#         x,\n",
    "#         y,\n",
    "#         scoring=METRICS,\n",
    "#         cv=cv,\n",
    "#         # n_jobs=-1,\n",
    "#         return_train_score=True,\n",
    "#     )\n",
    "#     if scores_final is None:\n",
    "#         scores_final = {key: [] for key, _ in scores.items()}\n",
    "#     for key, value in scores.items():\n",
    "#         scores_final[key] += [value]\n",
    "\n",
    "# print(\"Blocking Time Series Split:\")\n",
    "# print(f\"Repeats: {repeats}\")\n",
    "# print(f\"n_splits: {n_splits}\")\n",
    "# print()\n",
    "# print_scores(scores_final, METRICS, METRICS_DICT)\n",
    "\n",
    "# # Saving the results\n",
    "# scores = {key: np.array(val).flatten() for key, val in scores_final.items()}\n",
    "# results_dict_copy = results_dict.copy()\n",
    "# results_dict_copy[\"Cross Validation\"] = \"Time Series Split\"\n",
    "# results_dict_copy[\"Cross Validation Params\"] = '{\"N_Splits\": 5, \"Repeats\": 3, \"Gap\": 0}'\n",
    "# results_dict_copy[\"Data Shape\"] = x.shape\n",
    "# df_results = fill_results_dict(results_dict_copy, scores)\n",
    "# results_to_save.append(df_results)\n",
    "\n",
    "# end = time.time()\n",
    "# print(\"Minutes Elapsed: \", (end - start) / 60)"
   ]
  },
  {
   "cell_type": "markdown",
   "metadata": {},
   "source": [
    "## 1.4. Out of time Split Cross Validation\n",
    "\n",
    "<b>Dataset shape:</b> (594, 38)<br>\n",
    "<b>Train size: 80%</b><br>\n",
    "<b>Test  size: 20%</b>\n",
    "\n",
    "\n",
    "<b>Splits:</b> 2<br>    \n",
    "    1. Train: 475\n",
    "    2. Test: 118\n",
    "<b>Total:</b> 1 model<br>"
   ]
  },
  {
   "cell_type": "code",
   "execution_count": 16,
   "metadata": {
    "scrolled": false
   },
   "outputs": [
    {
     "name": "stdout",
     "output_type": "stream",
     "text": [
      "Out of time Cross Val:\n",
      "Repeats: 3\n",
      "Train: 50% Test: 50%\n",
      "\n"
     ]
    },
    {
     "name": "stderr",
     "output_type": "stream",
     "text": [
      "2024-11-08 23:57:04.371750: E tensorflow/compiler/xla/stream_executor/cuda/cuda_driver.cc:268] failed call to cuInit: CUDA_ERROR_NO_DEVICE: no CUDA-capable device is detected\n",
      "2024-11-08 23:57:04.371970: I tensorflow/compiler/xla/stream_executor/cuda/cuda_diagnostics.cc:168] retrieving CUDA diagnostic information for host: inspirada\n",
      "2024-11-08 23:57:04.371990: I tensorflow/compiler/xla/stream_executor/cuda/cuda_diagnostics.cc:175] hostname: inspirada\n",
      "2024-11-08 23:57:04.372245: I tensorflow/compiler/xla/stream_executor/cuda/cuda_diagnostics.cc:199] libcuda reported version is: 535.183.1\n",
      "2024-11-08 23:57:04.372300: I tensorflow/compiler/xla/stream_executor/cuda/cuda_diagnostics.cc:203] kernel reported version is: 535.183.1\n",
      "2024-11-08 23:57:04.372312: I tensorflow/compiler/xla/stream_executor/cuda/cuda_diagnostics.cc:309] kernel version seems to match DSO: 535.183.1\n"
     ]
    },
    {
     "name": "stdout",
     "output_type": "stream",
     "text": [
      "******\n",
      "[TRAIN]\n",
      "******\n",
      "RMSE: 0.935 (0.012)\n",
      "MAE: 0.743 (0.015)\n",
      "MAPE: 0.017 (0.000)\n",
      "R2: 0.969 (0.001)\n",
      "\n",
      "======================\n",
      "\n",
      "******\n",
      "[TEST]\n",
      "******\n",
      "RMSE: 1.862 (0.032)\n",
      "MAE: 1.302 (0.021)\n",
      "MAPE: 0.030 (0.001)\n",
      "R2: 0.853 (0.005)\n",
      "\n",
      "======================\n",
      "\n",
      "Minutes Elapsed:  1.1734421531359354\n"
     ]
    },
    {
     "data": {
      "application/javascript": [
       "\n",
       "            setTimeout(function() {\n",
       "                var nbb_cell_id = 16;\n",
       "                var nbb_unformatted_code = \"set_seeds()\\nstart = time.time()\\n\\ntest_size = 0.5\\nrepeats = 3\\nscores_final = None\\npreds = {}\\n\\nprint(\\\"Out of time Cross Val:\\\")\\nprint(f\\\"Repeats: {repeats}\\\")\\nprint(f\\\"Train: {50}%\\\", f\\\"Test: {50}%\\\")\\nprint()\\n\\n\\nfor repeat in range(repeats):\\n    set_seeds(SEED + repeat)\\n\\n    x_train, x_test, y_train, y_test = train_test_split(\\n        x, y, test_size=test_size, random_state=SEED, shuffle=False\\n    )\\n\\n    pipeline = Pipeline(\\n        [\\n            (\\\"imputer\\\", SimpleImputer(strategy=\\\"median\\\")),\\n            (\\\"transformer\\\", StandardScaler()),\\n            (\\\"estimator\\\", MLP()),\\n        ]\\n    )\\n\\n    pipeline.fit(x_train, y_train)\\n\\n    y_train_pred = pipeline.predict(x_train)\\n    y_test_pred = pipeline.predict(x_test)\\n\\n    scores = score_regression_metrics(y_train, y_train_pred, y_test, y_test_pred)\\n\\n    if scores_final is None:\\n        scores_final = {key: [] for key, _ in scores.items()}\\n\\n    for key, value in scores.items():\\n        scores_final[key] += [value]\\n\\n    preds[repeat + 1] = {\\n        \\\"pipeline\\\": pipeline,\\n        \\\"x_train\\\": x_train,\\n        \\\"x_test\\\": x_test,\\n        \\\"y_train\\\": y_train,\\n        \\\"y_test\\\": y_test,\\n        \\\"y_train_pred\\\": y_train_pred,\\n        \\\"y_test_pred\\\": y_test_pred,\\n    }\\n\\n# Saving the results\\nresults_dict_copy = results_dict.copy()\\nresults_dict_copy[\\\"Cross Validation\\\"] = \\\"Out of time Split\\\"\\nresults_dict_copy[\\\"Cross Validation Params\\\"] = '{\\\"Test Size\\\": 0.2}'\\nresults_dict_copy[\\\"Data Shape\\\"] = x.shape\\ndf_results = fill_results_dict(\\n    results_dict_copy, {key: value for key, value in scores_final.items()}\\n)\\nresults_to_save.append(df_results)\\n\\nprint_scores(scores_final, METRICS, METRICS_DICT)\\n\\nend = time.time()\\nprint(\\\"Minutes Elapsed: \\\", (end - start) / 60)\";\n",
       "                var nbb_formatted_code = \"set_seeds()\\nstart = time.time()\\n\\ntest_size = 0.5\\nrepeats = 3\\nscores_final = None\\npreds = {}\\n\\nprint(\\\"Out of time Cross Val:\\\")\\nprint(f\\\"Repeats: {repeats}\\\")\\nprint(f\\\"Train: {50}%\\\", f\\\"Test: {50}%\\\")\\nprint()\\n\\n\\nfor repeat in range(repeats):\\n    set_seeds(SEED + repeat)\\n\\n    x_train, x_test, y_train, y_test = train_test_split(\\n        x, y, test_size=test_size, random_state=SEED, shuffle=False\\n    )\\n\\n    pipeline = Pipeline(\\n        [\\n            (\\\"imputer\\\", SimpleImputer(strategy=\\\"median\\\")),\\n            (\\\"transformer\\\", StandardScaler()),\\n            (\\\"estimator\\\", MLP()),\\n        ]\\n    )\\n\\n    pipeline.fit(x_train, y_train)\\n\\n    y_train_pred = pipeline.predict(x_train)\\n    y_test_pred = pipeline.predict(x_test)\\n\\n    scores = score_regression_metrics(y_train, y_train_pred, y_test, y_test_pred)\\n\\n    if scores_final is None:\\n        scores_final = {key: [] for key, _ in scores.items()}\\n\\n    for key, value in scores.items():\\n        scores_final[key] += [value]\\n\\n    preds[repeat + 1] = {\\n        \\\"pipeline\\\": pipeline,\\n        \\\"x_train\\\": x_train,\\n        \\\"x_test\\\": x_test,\\n        \\\"y_train\\\": y_train,\\n        \\\"y_test\\\": y_test,\\n        \\\"y_train_pred\\\": y_train_pred,\\n        \\\"y_test_pred\\\": y_test_pred,\\n    }\\n\\n# Saving the results\\nresults_dict_copy = results_dict.copy()\\nresults_dict_copy[\\\"Cross Validation\\\"] = \\\"Out of time Split\\\"\\nresults_dict_copy[\\\"Cross Validation Params\\\"] = '{\\\"Test Size\\\": 0.2}'\\nresults_dict_copy[\\\"Data Shape\\\"] = x.shape\\ndf_results = fill_results_dict(\\n    results_dict_copy, {key: value for key, value in scores_final.items()}\\n)\\nresults_to_save.append(df_results)\\n\\nprint_scores(scores_final, METRICS, METRICS_DICT)\\n\\nend = time.time()\\nprint(\\\"Minutes Elapsed: \\\", (end - start) / 60)\";\n",
       "                var nbb_cells = Jupyter.notebook.get_cells();\n",
       "                for (var i = 0; i < nbb_cells.length; ++i) {\n",
       "                    if (nbb_cells[i].input_prompt_number == nbb_cell_id) {\n",
       "                        if (nbb_cells[i].get_text() == nbb_unformatted_code) {\n",
       "                             nbb_cells[i].set_text(nbb_formatted_code);\n",
       "                        }\n",
       "                        break;\n",
       "                    }\n",
       "                }\n",
       "            }, 500);\n",
       "            "
      ],
      "text/plain": [
       "<IPython.core.display.Javascript object>"
      ]
     },
     "metadata": {},
     "output_type": "display_data"
    }
   ],
   "source": [
    "set_seeds()\n",
    "start = time.time()\n",
    "\n",
    "test_size = 0.5\n",
    "repeats = 3\n",
    "scores_final = None\n",
    "preds = {}\n",
    "\n",
    "print(\"Out of time Cross Val:\")\n",
    "print(f\"Repeats: {repeats}\")\n",
    "print(f\"Train: {50}%\", f\"Test: {50}%\")\n",
    "print()\n",
    "\n",
    "\n",
    "for repeat in range(repeats):\n",
    "    set_seeds(SEED + repeat)\n",
    "\n",
    "    x_train, x_test, y_train, y_test = train_test_split(\n",
    "        x, y, test_size=test_size, random_state=SEED, shuffle=False\n",
    "    )\n",
    "\n",
    "    pipeline = Pipeline(\n",
    "        [\n",
    "            (\"imputer\", SimpleImputer(strategy=\"median\")),\n",
    "            (\"transformer\", StandardScaler()),\n",
    "            (\"estimator\", MLP()),\n",
    "        ]\n",
    "    )\n",
    "\n",
    "    pipeline.fit(x_train, y_train)\n",
    "\n",
    "    y_train_pred = pipeline.predict(x_train)\n",
    "    y_test_pred = pipeline.predict(x_test)\n",
    "\n",
    "    scores = score_regression_metrics(y_train, y_train_pred, y_test, y_test_pred)\n",
    "\n",
    "    if scores_final is None:\n",
    "        scores_final = {key: [] for key, _ in scores.items()}\n",
    "\n",
    "    for key, value in scores.items():\n",
    "        scores_final[key] += [value]\n",
    "\n",
    "    preds[repeat + 1] = {\n",
    "        \"pipeline\": pipeline,\n",
    "        \"x_train\": x_train,\n",
    "        \"x_test\": x_test,\n",
    "        \"y_train\": y_train,\n",
    "        \"y_test\": y_test,\n",
    "        \"y_train_pred\": y_train_pred,\n",
    "        \"y_test_pred\": y_test_pred,\n",
    "    }\n",
    "\n",
    "# Saving the results\n",
    "results_dict_copy = results_dict.copy()\n",
    "results_dict_copy[\"Cross Validation\"] = \"Out of time Split\"\n",
    "results_dict_copy[\"Cross Validation Params\"] = '{\"Test Size\": 0.2}'\n",
    "results_dict_copy[\"Data Shape\"] = x.shape\n",
    "df_results = fill_results_dict(\n",
    "    results_dict_copy, {key: value for key, value in scores_final.items()}\n",
    ")\n",
    "results_to_save.append(df_results)\n",
    "\n",
    "print_scores(scores_final, METRICS, METRICS_DICT)\n",
    "\n",
    "end = time.time()\n",
    "print(\"Minutes Elapsed: \", (end - start) / 60)"
   ]
  },
  {
   "cell_type": "code",
   "execution_count": 17,
   "metadata": {},
   "outputs": [
    {
     "data": {
      "text/html": [
       "<div>\n",
       "<style scoped>\n",
       "    .dataframe tbody tr th:only-of-type {\n",
       "        vertical-align: middle;\n",
       "    }\n",
       "\n",
       "    .dataframe tbody tr th {\n",
       "        vertical-align: top;\n",
       "    }\n",
       "\n",
       "    .dataframe thead tr th {\n",
       "        text-align: left;\n",
       "    }\n",
       "</style>\n",
       "<table border=\"1\" class=\"dataframe\">\n",
       "  <thead>\n",
       "    <tr>\n",
       "      <th></th>\n",
       "      <th>Features</th>\n",
       "      <th>Model</th>\n",
       "      <th>Cross Validation</th>\n",
       "      <th colspan=\"2\" halign=\"left\">RMSE Test</th>\n",
       "      <th colspan=\"2\" halign=\"left\">MAE Test</th>\n",
       "      <th colspan=\"2\" halign=\"left\">MAPE Test</th>\n",
       "      <th colspan=\"2\" halign=\"left\">R2 Test</th>\n",
       "    </tr>\n",
       "    <tr>\n",
       "      <th></th>\n",
       "      <th></th>\n",
       "      <th></th>\n",
       "      <th></th>\n",
       "      <th>mean</th>\n",
       "      <th>std</th>\n",
       "      <th>mean</th>\n",
       "      <th>std</th>\n",
       "      <th>mean</th>\n",
       "      <th>std</th>\n",
       "      <th>mean</th>\n",
       "      <th>std</th>\n",
       "    </tr>\n",
       "  </thead>\n",
       "  <tbody>\n",
       "    <tr>\n",
       "      <th>0</th>\n",
       "      <td>Chemical + Properties CS Less</td>\n",
       "      <td>MLP</td>\n",
       "      <td>Out of time Split</td>\n",
       "      <td>1.86</td>\n",
       "      <td>0.03</td>\n",
       "      <td>1.3</td>\n",
       "      <td>0.02</td>\n",
       "      <td>0.03</td>\n",
       "      <td>0.0</td>\n",
       "      <td>0.85</td>\n",
       "      <td>0.01</td>\n",
       "    </tr>\n",
       "  </tbody>\n",
       "</table>\n",
       "</div>"
      ],
      "text/plain": [
       "                        Features Model   Cross Validation RMSE Test        \\\n",
       "                                                               mean   std   \n",
       "0  Chemical + Properties CS Less   MLP  Out of time Split      1.86  0.03   \n",
       "\n",
       "  MAE Test       MAPE Test      R2 Test        \n",
       "      mean   std      mean  std    mean   std  \n",
       "0      1.3  0.02      0.03  0.0    0.85  0.01  "
      ]
     },
     "execution_count": 17,
     "metadata": {},
     "output_type": "execute_result"
    },
    {
     "data": {
      "application/javascript": [
       "\n",
       "            setTimeout(function() {\n",
       "                var nbb_cell_id = 17;\n",
       "                var nbb_unformatted_code = \"pd.concat(results_to_save).reset_index().groupby(\\n    [\\\"Features\\\", \\\"Model\\\", \\\"Cross Validation\\\"], dropna=False\\n)[[\\\"RMSE Test\\\", \\\"MAE Test\\\", \\\"MAPE Test\\\", \\\"R2 Test\\\"]].agg(\\n    [\\\"mean\\\", lambda series: pd.Series(series.std(ddof=0), name=\\\"std\\\")]\\n).reset_index().rename(\\n    columns={\\\"<lambda_0>\\\": \\\"std\\\"}\\n).round(\\n    2\\n)\";\n",
       "                var nbb_formatted_code = \"pd.concat(results_to_save).reset_index().groupby(\\n    [\\\"Features\\\", \\\"Model\\\", \\\"Cross Validation\\\"], dropna=False\\n)[[\\\"RMSE Test\\\", \\\"MAE Test\\\", \\\"MAPE Test\\\", \\\"R2 Test\\\"]].agg(\\n    [\\\"mean\\\", lambda series: pd.Series(series.std(ddof=0), name=\\\"std\\\")]\\n).reset_index().rename(\\n    columns={\\\"<lambda_0>\\\": \\\"std\\\"}\\n).round(\\n    2\\n)\";\n",
       "                var nbb_cells = Jupyter.notebook.get_cells();\n",
       "                for (var i = 0; i < nbb_cells.length; ++i) {\n",
       "                    if (nbb_cells[i].input_prompt_number == nbb_cell_id) {\n",
       "                        if (nbb_cells[i].get_text() == nbb_unformatted_code) {\n",
       "                             nbb_cells[i].set_text(nbb_formatted_code);\n",
       "                        }\n",
       "                        break;\n",
       "                    }\n",
       "                }\n",
       "            }, 500);\n",
       "            "
      ],
      "text/plain": [
       "<IPython.core.display.Javascript object>"
      ]
     },
     "metadata": {},
     "output_type": "display_data"
    }
   ],
   "source": [
    "pd.concat(results_to_save).reset_index().groupby(\n",
    "    [\"Features\", \"Model\", \"Cross Validation\"], dropna=False\n",
    ")[[\"RMSE Test\", \"MAE Test\", \"MAPE Test\", \"R2 Test\"]].agg(\n",
    "    [\"mean\", lambda series: pd.Series(series.std(ddof=0), name=\"std\")]\n",
    ").reset_index().rename(\n",
    "    columns={\"<lambda_0>\": \"std\"}\n",
    ").round(\n",
    "    2\n",
    ")"
   ]
  },
  {
   "cell_type": "code",
   "execution_count": 18,
   "metadata": {},
   "outputs": [
    {
     "data": {
      "application/javascript": [
       "\n",
       "            setTimeout(function() {\n",
       "                var nbb_cell_id = 18;\n",
       "                var nbb_unformatted_code = \"y_test = x_test = preds[1][\\\"y_test\\\"]\\ny_test_pred = []\\n\\nfor repeat in range(repeats):\\n    y_test_tmp = preds[repeat + 1][\\\"y_test_pred\\\"]  # .squeeze()\\n    y_test_pred.append(y_test_tmp)\\n\\ny_test_pred = np.mean(np.array(y_test_pred), axis=0)\\nx_test = preds[1][\\\"x_test\\\"]\";\n",
       "                var nbb_formatted_code = \"y_test = x_test = preds[1][\\\"y_test\\\"]\\ny_test_pred = []\\n\\nfor repeat in range(repeats):\\n    y_test_tmp = preds[repeat + 1][\\\"y_test_pred\\\"]  # .squeeze()\\n    y_test_pred.append(y_test_tmp)\\n\\ny_test_pred = np.mean(np.array(y_test_pred), axis=0)\\nx_test = preds[1][\\\"x_test\\\"]\";\n",
       "                var nbb_cells = Jupyter.notebook.get_cells();\n",
       "                for (var i = 0; i < nbb_cells.length; ++i) {\n",
       "                    if (nbb_cells[i].input_prompt_number == nbb_cell_id) {\n",
       "                        if (nbb_cells[i].get_text() == nbb_unformatted_code) {\n",
       "                             nbb_cells[i].set_text(nbb_formatted_code);\n",
       "                        }\n",
       "                        break;\n",
       "                    }\n",
       "                }\n",
       "            }, 500);\n",
       "            "
      ],
      "text/plain": [
       "<IPython.core.display.Javascript object>"
      ]
     },
     "metadata": {},
     "output_type": "display_data"
    }
   ],
   "source": [
    "y_test = x_test = preds[1][\"y_test\"]\n",
    "y_test_pred = []\n",
    "\n",
    "for repeat in range(repeats):\n",
    "    y_test_tmp = preds[repeat + 1][\"y_test_pred\"]  # .squeeze()\n",
    "    y_test_pred.append(y_test_tmp)\n",
    "\n",
    "y_test_pred = np.mean(np.array(y_test_pred), axis=0)\n",
    "x_test = preds[1][\"x_test\"]"
   ]
  },
  {
   "cell_type": "code",
   "execution_count": 19,
   "metadata": {},
   "outputs": [
    {
     "data": {
      "application/javascript": [
       "\n",
       "            setTimeout(function() {\n",
       "                var nbb_cell_id = 19;\n",
       "                var nbb_unformatted_code = \"filtered_dates = dates[x_test.index]\\n\\n# Step 2: Create a new dataframe with \\\"Date\\\", \\\"CS28\\\", and \\\"CS28_PRED\\\" columns\\ntest_data = pd.DataFrame({\\n    'Date': pd.to_datetime(filtered_dates),\\n    'CS28': y_test.squeeze(),\\n    'CS28_PRED': y_test_pred.squeeze()\\n})\";\n",
       "                var nbb_formatted_code = \"filtered_dates = dates[x_test.index]\\n\\n# Step 2: Create a new dataframe with \\\"Date\\\", \\\"CS28\\\", and \\\"CS28_PRED\\\" columns\\ntest_data = pd.DataFrame(\\n    {\\n        \\\"Date\\\": pd.to_datetime(filtered_dates),\\n        \\\"CS28\\\": y_test.squeeze(),\\n        \\\"CS28_PRED\\\": y_test_pred.squeeze(),\\n    }\\n)\";\n",
       "                var nbb_cells = Jupyter.notebook.get_cells();\n",
       "                for (var i = 0; i < nbb_cells.length; ++i) {\n",
       "                    if (nbb_cells[i].input_prompt_number == nbb_cell_id) {\n",
       "                        if (nbb_cells[i].get_text() == nbb_unformatted_code) {\n",
       "                             nbb_cells[i].set_text(nbb_formatted_code);\n",
       "                        }\n",
       "                        break;\n",
       "                    }\n",
       "                }\n",
       "            }, 500);\n",
       "            "
      ],
      "text/plain": [
       "<IPython.core.display.Javascript object>"
      ]
     },
     "metadata": {},
     "output_type": "display_data"
    }
   ],
   "source": [
    "filtered_dates = dates[x_test.index]\n",
    "\n",
    "# Step 2: Create a new dataframe with \"Date\", \"CS28\", and \"CS28_PRED\" columns\n",
    "test_data = pd.DataFrame({\n",
    "    'Date': pd.to_datetime(filtered_dates),\n",
    "    'CS28': y_test.squeeze(),\n",
    "    'CS28_PRED': y_test_pred.squeeze()\n",
    "})\n"
   ]
  },
  {
   "cell_type": "code",
   "execution_count": 32,
   "metadata": {},
   "outputs": [
    {
     "data": {
      "application/javascript": [
       "\n",
       "            setTimeout(function() {\n",
       "                var nbb_cell_id = 32;\n",
       "                var nbb_unformatted_code = \"df_copy_merge = (\\n    x_test\\n    .merge(test_data, left_index=True, right_index=True, how=\\\"left\\\")\\n)\\n\\ndf_copy_merge[\\\"COMPANY\\\"] = \\\"Partner I\\\"\\ndf_copy_merge[\\\"PLANT\\\"] = \\\"Partner I\\\"\\n#df_copy_merge[\\\"CS28_PRED\\\"] = mean\\n\\ndf_copy_merge.to_excel(\\\"global_model_mlp_holdout_partnerI.xlsx\\\", index=False)\\ndf_copy_merge.to_csv(\\\"global_model_mlp_holdout_partnerI.csv\\\", index=False)\";\n",
       "                var nbb_formatted_code = \"df_copy_merge = x_test.merge(test_data, left_index=True, right_index=True, how=\\\"left\\\")\\n\\ndf_copy_merge[\\\"COMPANY\\\"] = \\\"Partner I\\\"\\ndf_copy_merge[\\\"PLANT\\\"] = \\\"Partner I\\\"\\n# df_copy_merge[\\\"CS28_PRED\\\"] = mean\\n\\ndf_copy_merge.to_excel(\\\"global_model_mlp_holdout_partnerI.xlsx\\\", index=False)\\ndf_copy_merge.to_csv(\\\"global_model_mlp_holdout_partnerI.csv\\\", index=False)\";\n",
       "                var nbb_cells = Jupyter.notebook.get_cells();\n",
       "                for (var i = 0; i < nbb_cells.length; ++i) {\n",
       "                    if (nbb_cells[i].input_prompt_number == nbb_cell_id) {\n",
       "                        if (nbb_cells[i].get_text() == nbb_unformatted_code) {\n",
       "                             nbb_cells[i].set_text(nbb_formatted_code);\n",
       "                        }\n",
       "                        break;\n",
       "                    }\n",
       "                }\n",
       "            }, 500);\n",
       "            "
      ],
      "text/plain": [
       "<IPython.core.display.Javascript object>"
      ]
     },
     "metadata": {},
     "output_type": "display_data"
    }
   ],
   "source": [
    "df_copy_merge = x_test.merge(test_data, left_index=True, right_index=True, how=\"left\")\n",
    "\n",
    "df_copy_merge[\"COMPANY\"] = \"Partner I\"\n",
    "df_copy_merge[\"PLANT\"] = \"Partner I\"\n",
    "# df_copy_merge[\"CS28_PRED\"] = mean\n",
    "\n",
    "df_copy_merge.to_excel(\"global_model_mlp_holdout_partnerI.xlsx\", index=False)\n",
    "df_copy_merge.to_csv(\"global_model_mlp_holdout_partnerI.csv\", index=False) "
   ]
  },
  {
   "cell_type": "code",
   "execution_count": 20,
   "metadata": {},
   "outputs": [
    {
     "data": {
      "application/javascript": [
       "\n",
       "            setTimeout(function() {\n",
       "                var nbb_cell_id = 20;\n",
       "                var nbb_unformatted_code = \"import matplotlib.pyplot as plt\";\n",
       "                var nbb_formatted_code = \"import matplotlib.pyplot as plt\";\n",
       "                var nbb_cells = Jupyter.notebook.get_cells();\n",
       "                for (var i = 0; i < nbb_cells.length; ++i) {\n",
       "                    if (nbb_cells[i].input_prompt_number == nbb_cell_id) {\n",
       "                        if (nbb_cells[i].get_text() == nbb_unformatted_code) {\n",
       "                             nbb_cells[i].set_text(nbb_formatted_code);\n",
       "                        }\n",
       "                        break;\n",
       "                    }\n",
       "                }\n",
       "            }, 500);\n",
       "            "
      ],
      "text/plain": [
       "<IPython.core.display.Javascript object>"
      ]
     },
     "metadata": {},
     "output_type": "display_data"
    }
   ],
   "source": [
    "import matplotlib.pyplot as plt"
   ]
  },
  {
   "cell_type": "code",
   "execution_count": 21,
   "metadata": {},
   "outputs": [
    {
     "data": {
      "image/png": "[encoded data removed]",
      "text/plain": [
       "<Figure size 600x600 with 1 Axes>"
      ]
     },
     "metadata": {},
     "output_type": "display_data"
    },
    {
     "data": {
      "application/javascript": [
       "\n",
       "            setTimeout(function() {\n",
       "                var nbb_cell_id = 21;\n",
       "                var nbb_unformatted_code = \"plt.figure(figsize=(6, 6))\\nplt.scatter(\\n    test_data[\\\"CS28\\\"],\\n    test_data[\\\"CS28_PRED\\\"],\\n    color=\\\"tomato\\\",\\n    alpha=0.7,\\n    label=\\\"Predicted\\\",\\n)\\nplt.plot(\\n    [y.min(), y.max()],\\n    [y.min(), y.max()],\\n    color=\\\"black\\\",\\n    linestyle=\\\"--\\\",\\n    linewidth=2,\\n)\\nplt.xlabel(\\\"Actual CS28 (MPa)\\\")\\nplt.ylabel(\\\"Predicted CS28 (MPa)\\\")\\nplt.title(\\\"Predicted vs Actual CS28\\\")\\nplt.legend()\\nplt.grid(True)\\nplt.gca().spines[\\\"top\\\"].set_visible(False)\\nplt.gca().spines[\\\"right\\\"].set_visible(False)\\n\\nplt.savefig(\\n    \\\"inn_partner_i_global_fine_tuning_cm_p_mlp_pred_vs_actual_cs28.png\\\",\\n    dpi=300,\\n    bbox_inches=\\\"tight\\\",\\n)\\n\\nplt.show()\";\n",
       "                var nbb_formatted_code = \"plt.figure(figsize=(6, 6))\\nplt.scatter(\\n    test_data[\\\"CS28\\\"],\\n    test_data[\\\"CS28_PRED\\\"],\\n    color=\\\"tomato\\\",\\n    alpha=0.7,\\n    label=\\\"Predicted\\\",\\n)\\nplt.plot(\\n    [y.min(), y.max()],\\n    [y.min(), y.max()],\\n    color=\\\"black\\\",\\n    linestyle=\\\"--\\\",\\n    linewidth=2,\\n)\\nplt.xlabel(\\\"Actual CS28 (MPa)\\\")\\nplt.ylabel(\\\"Predicted CS28 (MPa)\\\")\\nplt.title(\\\"Predicted vs Actual CS28\\\")\\nplt.legend()\\nplt.grid(True)\\nplt.gca().spines[\\\"top\\\"].set_visible(False)\\nplt.gca().spines[\\\"right\\\"].set_visible(False)\\n\\nplt.savefig(\\n    \\\"inn_partner_i_global_fine_tuning_cm_p_mlp_pred_vs_actual_cs28.png\\\",\\n    dpi=300,\\n    bbox_inches=\\\"tight\\\",\\n)\\n\\nplt.show()\";\n",
       "                var nbb_cells = Jupyter.notebook.get_cells();\n",
       "                for (var i = 0; i < nbb_cells.length; ++i) {\n",
       "                    if (nbb_cells[i].input_prompt_number == nbb_cell_id) {\n",
       "                        if (nbb_cells[i].get_text() == nbb_unformatted_code) {\n",
       "                             nbb_cells[i].set_text(nbb_formatted_code);\n",
       "                        }\n",
       "                        break;\n",
       "                    }\n",
       "                }\n",
       "            }, 500);\n",
       "            "
      ],
      "text/plain": [
       "<IPython.core.display.Javascript object>"
      ]
     },
     "metadata": {},
     "output_type": "display_data"
    }
   ],
   "source": [
    "plt.figure(figsize=(6, 6))\n",
    "plt.scatter(\n",
    "    test_data[\"CS28\"],\n",
    "    test_data[\"CS28_PRED\"],\n",
    "    color=\"tomato\",\n",
    "    alpha=0.7,\n",
    "    label=\"Predicted\",\n",
    ")\n",
    "plt.plot(\n",
    "    [y.min(), y.max()],\n",
    "    [y.min(), y.max()],\n",
    "    color=\"black\",\n",
    "    linestyle=\"--\",\n",
    "    linewidth=2,\n",
    ")\n",
    "plt.xlabel(\"Actual CS28 (MPa)\")\n",
    "plt.ylabel(\"Predicted CS28 (MPa)\")\n",
    "plt.title(\"Predicted vs Actual CS28\")\n",
    "plt.legend()\n",
    "plt.grid(True)\n",
    "plt.gca().spines[\"top\"].set_visible(False)\n",
    "plt.gca().spines[\"right\"].set_visible(False)\n",
    "\n",
    "plt.savefig(\n",
    "    \"inn_partner_i_global_fine_tuning_cm_p_mlp_pred_vs_actual_cs28.png\",\n",
    "    dpi=300,\n",
    "    bbox_inches=\"tight\",\n",
    ")\n",
    "\n",
    "plt.show()"
   ]
  },
  {
   "cell_type": "code",
   "execution_count": 22,
   "metadata": {},
   "outputs": [
    {
     "data": {
      "image/png": "[encoded data removed]",
      "text/plain": [
       "<Figure size 1000x600 with 1 Axes>"
      ]
     },
     "metadata": {},
     "output_type": "display_data"
    },
    {
     "data": {
      "application/javascript": [
       "\n",
       "            setTimeout(function() {\n",
       "                var nbb_cell_id = 22;\n",
       "                var nbb_unformatted_code = \"plt.figure(figsize=(10, 6))\\nplt.plot(\\n    test_data[\\\"Date\\\"],\\n    test_data[\\\"CS28\\\"],\\n    color=\\\"dodgerblue\\\",\\n    alpha=0.7,\\n    marker=\\\"o\\\",\\n    linestyle=\\\"none\\\",\\n    label=\\\"Actual CS28\\\",\\n)\\nplt.plot(\\n    test_data[\\\"Date\\\"],\\n    test_data[\\\"CS28_PRED\\\"],\\n    color=\\\"tomato\\\",\\n    alpha=0.7,\\n    marker=\\\"o\\\",\\n    linestyle=\\\"none\\\",\\n    label=\\\"Predicted CS28\\\",\\n)\\nplt.xlabel(\\\"Date\\\")\\nplt.ylabel(\\\"CS28 (MPa)\\\")\\nplt.title(\\\"Actual vs Predicted CS28\\\")\\nplt.legend()\\nplt.grid(True)\\n\\nplt.gca().spines[\\\"top\\\"].set_visible(False)\\nplt.gca().spines[\\\"right\\\"].set_visible(False)\\n\\nplt.savefig(\\n    \\\"inn_partner_i_global_fine_tuning_cm_p_mlp_pred_vs_actual_cs28_over_time.png\\\",\\n    dpi=300,\\n    bbox_inches=\\\"tight\\\",\\n)\\n\\nplt.show()\";\n",
       "                var nbb_formatted_code = \"plt.figure(figsize=(10, 6))\\nplt.plot(\\n    test_data[\\\"Date\\\"],\\n    test_data[\\\"CS28\\\"],\\n    color=\\\"dodgerblue\\\",\\n    alpha=0.7,\\n    marker=\\\"o\\\",\\n    linestyle=\\\"none\\\",\\n    label=\\\"Actual CS28\\\",\\n)\\nplt.plot(\\n    test_data[\\\"Date\\\"],\\n    test_data[\\\"CS28_PRED\\\"],\\n    color=\\\"tomato\\\",\\n    alpha=0.7,\\n    marker=\\\"o\\\",\\n    linestyle=\\\"none\\\",\\n    label=\\\"Predicted CS28\\\",\\n)\\nplt.xlabel(\\\"Date\\\")\\nplt.ylabel(\\\"CS28 (MPa)\\\")\\nplt.title(\\\"Actual vs Predicted CS28\\\")\\nplt.legend()\\nplt.grid(True)\\n\\nplt.gca().spines[\\\"top\\\"].set_visible(False)\\nplt.gca().spines[\\\"right\\\"].set_visible(False)\\n\\nplt.savefig(\\n    \\\"inn_partner_i_global_fine_tuning_cm_p_mlp_pred_vs_actual_cs28_over_time.png\\\",\\n    dpi=300,\\n    bbox_inches=\\\"tight\\\",\\n)\\n\\nplt.show()\";\n",
       "                var nbb_cells = Jupyter.notebook.get_cells();\n",
       "                for (var i = 0; i < nbb_cells.length; ++i) {\n",
       "                    if (nbb_cells[i].input_prompt_number == nbb_cell_id) {\n",
       "                        if (nbb_cells[i].get_text() == nbb_unformatted_code) {\n",
       "                             nbb_cells[i].set_text(nbb_formatted_code);\n",
       "                        }\n",
       "                        break;\n",
       "                    }\n",
       "                }\n",
       "            }, 500);\n",
       "            "
      ],
      "text/plain": [
       "<IPython.core.display.Javascript object>"
      ]
     },
     "metadata": {},
     "output_type": "display_data"
    }
   ],
   "source": [
    "plt.figure(figsize=(10, 6))\n",
    "plt.plot(\n",
    "    test_data[\"Date\"],\n",
    "    test_data[\"CS28\"],\n",
    "    color=\"dodgerblue\",\n",
    "    alpha=0.7,\n",
    "    marker=\"o\",\n",
    "    linestyle=\"none\",\n",
    "    label=\"Actual CS28\",\n",
    ")\n",
    "plt.plot(\n",
    "    test_data[\"Date\"],\n",
    "    test_data[\"CS28_PRED\"],\n",
    "    color=\"tomato\",\n",
    "    alpha=0.7,\n",
    "    marker=\"o\",\n",
    "    linestyle=\"none\",\n",
    "    label=\"Predicted CS28\",\n",
    ")\n",
    "plt.xlabel(\"Date\")\n",
    "plt.ylabel(\"CS28 (MPa)\")\n",
    "plt.title(\"Actual vs Predicted CS28\")\n",
    "plt.legend()\n",
    "plt.grid(True)\n",
    "\n",
    "plt.gca().spines[\"top\"].set_visible(False)\n",
    "plt.gca().spines[\"right\"].set_visible(False)\n",
    "\n",
    "plt.savefig(\n",
    "    \"inn_partner_i_global_fine_tuning_cm_p_mlp_pred_vs_actual_cs28_over_time.png\",\n",
    "    dpi=300,\n",
    "    bbox_inches=\"tight\",\n",
    ")\n",
    "\n",
    "plt.show()\n"
   ]
  },
  {
   "cell_type": "code",
   "execution_count": 23,
   "metadata": {},
   "outputs": [
    {
     "data": {
      "application/javascript": [
       "\n",
       "            setTimeout(function() {\n",
       "                var nbb_cell_id = 23;\n",
       "                var nbb_unformatted_code = \"def permutation_importance_mlp(model, X, y, metric, n_repeats=5):\\n    \\\"\\\"\\\"\\n    Computes permutation importance for MLP models with 2D input.\\n    \\\"\\\"\\\"\\n    import numpy as np\\n    import pandas as pd\\n\\n    baseline_score = metric(y, model.predict(X))\\n    num_features = X.shape[1]  # Number of features\\n    importances = np.zeros(num_features)\\n    set_seeds()\\n\\n    for i in range(num_features):\\n        scores = []\\n        for _ in range(n_repeats):\\n            X_permuted = X.copy()\\n            # Shuffle feature i across samples\\n            if isinstance(X_permuted, pd.DataFrame):\\n                # Use .iloc for integer-based indexing\\n                feature_values = X_permuted.iloc[:, i].copy()\\n                # Convert to NumPy array for shuffling\\n                feature_values_array = feature_values.values\\n                np.random.shuffle(feature_values_array)\\n                # Assign back to the DataFrame column\\n                X_permuted.iloc[:, i] = feature_values_array\\n            else:\\n                # If X_permuted is a NumPy array\\n                feature_values = X_permuted[:, i].copy()\\n                np.random.shuffle(feature_values)\\n                X_permuted[:, i] = feature_values\\n            # Compute metric with permuted data\\n            permuted_score = metric(y, model.predict(X_permuted))\\n            scores.append(permuted_score)\\n        # Importance is the decrease in performance when the feature is permuted\\n        importances[i] = baseline_score - np.mean(scores)\\n    return importances\";\n",
       "                var nbb_formatted_code = \"def permutation_importance_mlp(model, X, y, metric, n_repeats=5):\\n    \\\"\\\"\\\"\\n    Computes permutation importance for MLP models with 2D input.\\n    \\\"\\\"\\\"\\n    import numpy as np\\n    import pandas as pd\\n\\n    baseline_score = metric(y, model.predict(X))\\n    num_features = X.shape[1]  # Number of features\\n    importances = np.zeros(num_features)\\n    set_seeds()\\n\\n    for i in range(num_features):\\n        scores = []\\n        for _ in range(n_repeats):\\n            X_permuted = X.copy()\\n            # Shuffle feature i across samples\\n            if isinstance(X_permuted, pd.DataFrame):\\n                # Use .iloc for integer-based indexing\\n                feature_values = X_permuted.iloc[:, i].copy()\\n                # Convert to NumPy array for shuffling\\n                feature_values_array = feature_values.values\\n                np.random.shuffle(feature_values_array)\\n                # Assign back to the DataFrame column\\n                X_permuted.iloc[:, i] = feature_values_array\\n            else:\\n                # If X_permuted is a NumPy array\\n                feature_values = X_permuted[:, i].copy()\\n                np.random.shuffle(feature_values)\\n                X_permuted[:, i] = feature_values\\n            # Compute metric with permuted data\\n            permuted_score = metric(y, model.predict(X_permuted))\\n            scores.append(permuted_score)\\n        # Importance is the decrease in performance when the feature is permuted\\n        importances[i] = baseline_score - np.mean(scores)\\n    return importances\";\n",
       "                var nbb_cells = Jupyter.notebook.get_cells();\n",
       "                for (var i = 0; i < nbb_cells.length; ++i) {\n",
       "                    if (nbb_cells[i].input_prompt_number == nbb_cell_id) {\n",
       "                        if (nbb_cells[i].get_text() == nbb_unformatted_code) {\n",
       "                             nbb_cells[i].set_text(nbb_formatted_code);\n",
       "                        }\n",
       "                        break;\n",
       "                    }\n",
       "                }\n",
       "            }, 500);\n",
       "            "
      ],
      "text/plain": [
       "<IPython.core.display.Javascript object>"
      ]
     },
     "metadata": {},
     "output_type": "display_data"
    }
   ],
   "source": [
    "def permutation_importance_mlp(model, X, y, metric, n_repeats=5):\n",
    "    \"\"\"\n",
    "    Computes permutation importance for MLP models with 2D input.\n",
    "    \"\"\"\n",
    "    import numpy as np\n",
    "    import pandas as pd\n",
    "\n",
    "    baseline_score = metric(y, model.predict(X))\n",
    "    num_features = X.shape[1]  # Number of features\n",
    "    importances = np.zeros(num_features)\n",
    "    set_seeds()\n",
    "\n",
    "    for i in range(num_features):\n",
    "        scores = []\n",
    "        for _ in range(n_repeats):\n",
    "            X_permuted = X.copy()\n",
    "            # Shuffle feature i across samples\n",
    "            if isinstance(X_permuted, pd.DataFrame):\n",
    "                # Use .iloc for integer-based indexing\n",
    "                feature_values = X_permuted.iloc[:, i].copy()\n",
    "                # Convert to NumPy array for shuffling\n",
    "                feature_values_array = feature_values.values\n",
    "                np.random.shuffle(feature_values_array)\n",
    "                # Assign back to the DataFrame column\n",
    "                X_permuted.iloc[:, i] = feature_values_array\n",
    "            else:\n",
    "                # If X_permuted is a NumPy array\n",
    "                feature_values = X_permuted[:, i].copy()\n",
    "                np.random.shuffle(feature_values)\n",
    "                X_permuted[:, i] = feature_values\n",
    "            # Compute metric with permuted data\n",
    "            permuted_score = metric(y, model.predict(X_permuted))\n",
    "            scores.append(permuted_score)\n",
    "        # Importance is the decrease in performance when the feature is permuted\n",
    "        importances[i] = baseline_score - np.mean(scores)\n",
    "    return importances\n"
   ]
  },
  {
   "cell_type": "code",
   "execution_count": 24,
   "metadata": {},
   "outputs": [
    {
     "data": {
      "application/javascript": [
       "\n",
       "            setTimeout(function() {\n",
       "                var nbb_cell_id = 24;\n",
       "                var nbb_unformatted_code = \"from sklearn.metrics import mean_squared_error\\nfrom sklearn.metrics import r2_score\\n\\nfrom tqdm import tqdm\\n\\nfeature_importances = []\\n\\nfor repeat in preds.keys():\\n    x_test_seq = preds[repeat][\\\"x_test\\\"]\\n    y_test_seq = preds[repeat][\\\"y_test\\\"]\\n    estimator = preds[repeat][\\\"pipeline\\\"]\\n\\n    # Compute permutation importance\\n    importances = permutation_importance_mlp(\\n        estimator, x_test_seq, y_test_seq, r2_score, n_repeats=10\\n    )\\n    feature_importances.append(importances)\";\n",
       "                var nbb_formatted_code = \"from sklearn.metrics import mean_squared_error\\nfrom sklearn.metrics import r2_score\\n\\nfrom tqdm import tqdm\\n\\nfeature_importances = []\\n\\nfor repeat in preds.keys():\\n    x_test_seq = preds[repeat][\\\"x_test\\\"]\\n    y_test_seq = preds[repeat][\\\"y_test\\\"]\\n    estimator = preds[repeat][\\\"pipeline\\\"]\\n\\n    # Compute permutation importance\\n    importances = permutation_importance_mlp(\\n        estimator, x_test_seq, y_test_seq, r2_score, n_repeats=10\\n    )\\n    feature_importances.append(importances)\";\n",
       "                var nbb_cells = Jupyter.notebook.get_cells();\n",
       "                for (var i = 0; i < nbb_cells.length; ++i) {\n",
       "                    if (nbb_cells[i].input_prompt_number == nbb_cell_id) {\n",
       "                        if (nbb_cells[i].get_text() == nbb_unformatted_code) {\n",
       "                             nbb_cells[i].set_text(nbb_formatted_code);\n",
       "                        }\n",
       "                        break;\n",
       "                    }\n",
       "                }\n",
       "            }, 500);\n",
       "            "
      ],
      "text/plain": [
       "<IPython.core.display.Javascript object>"
      ]
     },
     "metadata": {},
     "output_type": "display_data"
    }
   ],
   "source": [
    "from sklearn.metrics import mean_squared_error\n",
    "from sklearn.metrics import r2_score\n",
    "\n",
    "from tqdm import tqdm\n",
    "\n",
    "feature_importances = []\n",
    "\n",
    "for repeat in preds.keys():\n",
    "    x_test_seq = preds[repeat][\"x_test\"]\n",
    "    y_test_seq = preds[repeat][\"y_test\"]\n",
    "    estimator = preds[repeat][\"pipeline\"]\n",
    "\n",
    "    # Compute permutation importance\n",
    "    importances = permutation_importance_mlp(\n",
    "        estimator, x_test_seq, y_test_seq, r2_score, n_repeats=10\n",
    "    )\n",
    "    feature_importances.append(importances)"
   ]
  },
  {
   "cell_type": "code",
   "execution_count": 25,
   "metadata": {},
   "outputs": [
    {
     "data": {
      "application/javascript": [
       "\n",
       "            setTimeout(function() {\n",
       "                var nbb_cell_id = 25;\n",
       "                var nbb_unformatted_code = \"import numpy as np\\nimport pandas as pd\\n\\n# Average importances across folds\\nmean_importances = np.mean(feature_importances, axis=0)\\n\\n# importances_df = pd.DataFrame(feature_importances, columns=x.columns)\\n# Transpose the list of arrays so that each row corresponds to a permutation/model, and each column to a feature\\nimportances_df = pd.DataFrame(feature_importances)\\n\\n# Assign the feature names to the columns\\nimportances_df.columns = x.columns\\n\\n# Map importances to feature names\\nimportances_df_mean = (\\n    importances_df.mean(axis=0)\\n    .to_frame()\\n    .reset_index(0)\\n    .rename({\\\"index\\\": \\\"Feature\\\", 0: \\\"Importance\\\"}, axis=1)\\n)\";\n",
       "                var nbb_formatted_code = \"import numpy as np\\nimport pandas as pd\\n\\n# Average importances across folds\\nmean_importances = np.mean(feature_importances, axis=0)\\n\\n# importances_df = pd.DataFrame(feature_importances, columns=x.columns)\\n# Transpose the list of arrays so that each row corresponds to a permutation/model, and each column to a feature\\nimportances_df = pd.DataFrame(feature_importances)\\n\\n# Assign the feature names to the columns\\nimportances_df.columns = x.columns\\n\\n# Map importances to feature names\\nimportances_df_mean = (\\n    importances_df.mean(axis=0)\\n    .to_frame()\\n    .reset_index(0)\\n    .rename({\\\"index\\\": \\\"Feature\\\", 0: \\\"Importance\\\"}, axis=1)\\n)\";\n",
       "                var nbb_cells = Jupyter.notebook.get_cells();\n",
       "                for (var i = 0; i < nbb_cells.length; ++i) {\n",
       "                    if (nbb_cells[i].input_prompt_number == nbb_cell_id) {\n",
       "                        if (nbb_cells[i].get_text() == nbb_unformatted_code) {\n",
       "                             nbb_cells[i].set_text(nbb_formatted_code);\n",
       "                        }\n",
       "                        break;\n",
       "                    }\n",
       "                }\n",
       "            }, 500);\n",
       "            "
      ],
      "text/plain": [
       "<IPython.core.display.Javascript object>"
      ]
     },
     "metadata": {},
     "output_type": "display_data"
    }
   ],
   "source": [
    "import numpy as np\n",
    "import pandas as pd\n",
    "\n",
    "# Average importances across folds\n",
    "mean_importances = np.mean(feature_importances, axis=0)\n",
    "\n",
    "# importances_df = pd.DataFrame(feature_importances, columns=x.columns)\n",
    "# Transpose the list of arrays so that each row corresponds to a permutation/model, and each column to a feature\n",
    "importances_df = pd.DataFrame(feature_importances)\n",
    "\n",
    "# Assign the feature names to the columns\n",
    "importances_df.columns = x.columns\n",
    "\n",
    "# Map importances to feature names\n",
    "importances_df_mean = (\n",
    "    importances_df.mean(axis=0)\n",
    "    .to_frame()\n",
    "    .reset_index(0)\n",
    "    .rename({\"index\": \"Feature\", 0: \"Importance\"}, axis=1)\n",
    ")"
   ]
  },
  {
   "cell_type": "code",
   "execution_count": 26,
   "metadata": {},
   "outputs": [
    {
     "data": {
      "application/javascript": [
       "\n",
       "            setTimeout(function() {\n",
       "                var nbb_cell_id = 26;\n",
       "                var nbb_unformatted_code = \"rename_dict = {\\n    \\\"Alpha C2S\\\": r\\\"Alpha $\\\\mathrm{C_2S}$\\\",\\n    \\\"Beta C2S\\\": r\\\"Beta $\\\\mathrm{C_2S}$\\\",\\n    \\\"Gamma C2S\\\": r\\\"Gamma $\\\\mathrm{C_2S}$\\\",\\n    \\\"Cubic C3A\\\": r\\\"Cubic $\\\\mathrm{C_3A}$\\\",\\n    \\\"Orthorhombic C3A\\\": r\\\"Orthorhombic $\\\\mathrm{C_3A}$\\\",\\n    \\\"K2O\\\": r\\\"$\\\\mathrm{K_2O}$\\\",\\n    \\\"Free CaO\\\": r\\\"Free $\\\\mathrm{CaO}$\\\",\\n    \\\"Total C2S\\\": r\\\"Total $\\\\mathrm{C_2S}$\\\",\\n    \\\"Na2O\\\": r\\\"$\\\\mathrm{Na_2O}$\\\",\\n    \\\"CaO\\\": r\\\"$\\\\mathrm{CaO}$\\\",\\n    \\\"SiO2\\\": r\\\"$\\\\mathrm{SiO_2}$\\\",\\n    \\\"MgO\\\": r\\\"$\\\\mathrm{MgO}$\\\",\\n    \\\"Fe2O3\\\": r\\\"$\\\\mathrm{Fe_2O_3}$\\\",\\n    \\\"Al2O3\\\": r\\\"$\\\\mathrm{Al_2O_3}$\\\",\\n    \\\"Total C3S\\\": r\\\"Total $\\\\mathrm{C_3S}$\\\",\\n    \\\"C3A\\\": r\\\"$\\\\mathrm{C_3A}$\\\",\\n    \\\"C4AF\\\": r\\\"$\\\\mathrm{C_4AF}$\\\",\\n    \\\"LOI\\\": \\\"LOI\\\",\\n    \\\"SO3\\\": r\\\"$\\\\mathrm{SO_3}$\\\",\\n    \\\"Loss on Ignition\\\": \\\"LOI\\\",\\n}\\n\\nimportances_df = importances_df.rename(rename_dict, axis=1)\\n\\nimportances_df_mean[\\\"Feature\\\"] = importances_df_mean[\\\"Feature\\\"].replace(rename_dict)\";\n",
       "                var nbb_formatted_code = \"rename_dict = {\\n    \\\"Alpha C2S\\\": r\\\"Alpha $\\\\mathrm{C_2S}$\\\",\\n    \\\"Beta C2S\\\": r\\\"Beta $\\\\mathrm{C_2S}$\\\",\\n    \\\"Gamma C2S\\\": r\\\"Gamma $\\\\mathrm{C_2S}$\\\",\\n    \\\"Cubic C3A\\\": r\\\"Cubic $\\\\mathrm{C_3A}$\\\",\\n    \\\"Orthorhombic C3A\\\": r\\\"Orthorhombic $\\\\mathrm{C_3A}$\\\",\\n    \\\"K2O\\\": r\\\"$\\\\mathrm{K_2O}$\\\",\\n    \\\"Free CaO\\\": r\\\"Free $\\\\mathrm{CaO}$\\\",\\n    \\\"Total C2S\\\": r\\\"Total $\\\\mathrm{C_2S}$\\\",\\n    \\\"Na2O\\\": r\\\"$\\\\mathrm{Na_2O}$\\\",\\n    \\\"CaO\\\": r\\\"$\\\\mathrm{CaO}$\\\",\\n    \\\"SiO2\\\": r\\\"$\\\\mathrm{SiO_2}$\\\",\\n    \\\"MgO\\\": r\\\"$\\\\mathrm{MgO}$\\\",\\n    \\\"Fe2O3\\\": r\\\"$\\\\mathrm{Fe_2O_3}$\\\",\\n    \\\"Al2O3\\\": r\\\"$\\\\mathrm{Al_2O_3}$\\\",\\n    \\\"Total C3S\\\": r\\\"Total $\\\\mathrm{C_3S}$\\\",\\n    \\\"C3A\\\": r\\\"$\\\\mathrm{C_3A}$\\\",\\n    \\\"C4AF\\\": r\\\"$\\\\mathrm{C_4AF}$\\\",\\n    \\\"LOI\\\": \\\"LOI\\\",\\n    \\\"SO3\\\": r\\\"$\\\\mathrm{SO_3}$\\\",\\n    \\\"Loss on Ignition\\\": \\\"LOI\\\",\\n}\\n\\nimportances_df = importances_df.rename(rename_dict, axis=1)\\n\\nimportances_df_mean[\\\"Feature\\\"] = importances_df_mean[\\\"Feature\\\"].replace(rename_dict)\";\n",
       "                var nbb_cells = Jupyter.notebook.get_cells();\n",
       "                for (var i = 0; i < nbb_cells.length; ++i) {\n",
       "                    if (nbb_cells[i].input_prompt_number == nbb_cell_id) {\n",
       "                        if (nbb_cells[i].get_text() == nbb_unformatted_code) {\n",
       "                             nbb_cells[i].set_text(nbb_formatted_code);\n",
       "                        }\n",
       "                        break;\n",
       "                    }\n",
       "                }\n",
       "            }, 500);\n",
       "            "
      ],
      "text/plain": [
       "<IPython.core.display.Javascript object>"
      ]
     },
     "metadata": {},
     "output_type": "display_data"
    }
   ],
   "source": [
    "rename_dict = {\n",
    "    \"Alpha C2S\": r\"Alpha $\\mathrm{C_2S}$\",\n",
    "    \"Beta C2S\": r\"Beta $\\mathrm{C_2S}$\",\n",
    "    \"Gamma C2S\": r\"Gamma $\\mathrm{C_2S}$\",\n",
    "    \"Cubic C3A\": r\"Cubic $\\mathrm{C_3A}$\",\n",
    "    \"Orthorhombic C3A\": r\"Orthorhombic $\\mathrm{C_3A}$\",\n",
    "    \"K2O\": r\"$\\mathrm{K_2O}$\",\n",
    "    \"Free CaO\": r\"Free $\\mathrm{CaO}$\",\n",
    "    \"Total C2S\": r\"Total $\\mathrm{C_2S}$\",\n",
    "    \"Na2O\": r\"$\\mathrm{Na_2O}$\",\n",
    "    \"CaO\": r\"$\\mathrm{CaO}$\",\n",
    "    \"SiO2\": r\"$\\mathrm{SiO_2}$\",\n",
    "    \"MgO\": r\"$\\mathrm{MgO}$\",\n",
    "    \"Fe2O3\": r\"$\\mathrm{Fe_2O_3}$\",\n",
    "    \"Al2O3\": r\"$\\mathrm{Al_2O_3}$\",\n",
    "    \"Total C3S\": r\"Total $\\mathrm{C_3S}$\",\n",
    "    \"C3A\": r\"$\\mathrm{C_3A}$\",\n",
    "    \"C4AF\": r\"$\\mathrm{C_4AF}$\",\n",
    "    \"LOI\": \"LOI\",\n",
    "    \"SO3\": r\"$\\mathrm{SO_3}$\",\n",
    "    \"Loss on Ignition\": \"LOI\",\n",
    "}\n",
    "\n",
    "importances_df = importances_df.rename(rename_dict, axis=1)\n",
    "\n",
    "importances_df_mean[\"Feature\"] = importances_df_mean[\"Feature\"].replace(rename_dict)"
   ]
  },
  {
   "cell_type": "code",
   "execution_count": 27,
   "metadata": {},
   "outputs": [
    {
     "name": "stderr",
     "output_type": "stream",
     "text": [
      "/home/peressim/virtual_environments/ccs28-venv/lib/python3.10/site-packages/seaborn/_oldcore.py:1498: FutureWarning: is_categorical_dtype is deprecated and will be removed in a future version. Use isinstance(dtype, CategoricalDtype) instead\n",
      "  if pd.api.types.is_categorical_dtype(vector):\n",
      "/home/peressim/virtual_environments/ccs28-venv/lib/python3.10/site-packages/seaborn/_oldcore.py:1498: FutureWarning: is_categorical_dtype is deprecated and will be removed in a future version. Use isinstance(dtype, CategoricalDtype) instead\n",
      "  if pd.api.types.is_categorical_dtype(vector):\n",
      "/home/peressim/virtual_environments/ccs28-venv/lib/python3.10/site-packages/seaborn/_oldcore.py:1498: FutureWarning: is_categorical_dtype is deprecated and will be removed in a future version. Use isinstance(dtype, CategoricalDtype) instead\n",
      "  if pd.api.types.is_categorical_dtype(vector):\n"
     ]
    },
    {
     "data": {
      "image/png": "[encoded data removed]",
      "text/plain": [
       "<Figure size 1000x600 with 1 Axes>"
      ]
     },
     "metadata": {},
     "output_type": "display_data"
    },
    {
     "data": {
      "application/javascript": [
       "\n",
       "            setTimeout(function() {\n",
       "                var nbb_cell_id = 27;\n",
       "                var nbb_unformatted_code = \"import matplotlib.pyplot as plt\\nimport seaborn as sns\\n\\n# Sort importances\\nmean_importances_df = importances_df_mean.sort_values(by='Importance', ascending=False).round(2)\\n\\n# Plot\\nplt.figure(figsize=(10, 6))\\nsns.barplot(x='Importance', y='Feature', data=mean_importances_df, color=\\\"lightsteelblue\\\")\\nplt.title(\\\"Variable Relevance\\\")\\nplt.xlabel(\\\"Relevance (Permutation)\\\")\\nplt.ylabel(\\\"Features\\\")\\nplt.grid(axis=\\\"x\\\", linestyle=\\\"--\\\", alpha=0.7)\\nplt.tight_layout()\\nplt.savefig(\\n    \\\"inn_partner_i_global_fine_tuning_cm_p_conv1d_best_mean_var_perm_relevance.png\\\",\\n    dpi=300,\\n    bbox_inches=\\\"tight\\\",\\n)\\nplt.show()\";\n",
       "                var nbb_formatted_code = \"import matplotlib.pyplot as plt\\nimport seaborn as sns\\n\\n# Sort importances\\nmean_importances_df = importances_df_mean.sort_values(\\n    by=\\\"Importance\\\", ascending=False\\n).round(2)\\n\\n# Plot\\nplt.figure(figsize=(10, 6))\\nsns.barplot(\\n    x=\\\"Importance\\\", y=\\\"Feature\\\", data=mean_importances_df, color=\\\"lightsteelblue\\\"\\n)\\nplt.title(\\\"Variable Relevance\\\")\\nplt.xlabel(\\\"Relevance (Permutation)\\\")\\nplt.ylabel(\\\"Features\\\")\\nplt.grid(axis=\\\"x\\\", linestyle=\\\"--\\\", alpha=0.7)\\nplt.tight_layout()\\nplt.savefig(\\n    \\\"inn_partner_i_global_fine_tuning_cm_p_conv1d_best_mean_var_perm_relevance.png\\\",\\n    dpi=300,\\n    bbox_inches=\\\"tight\\\",\\n)\\nplt.show()\";\n",
       "                var nbb_cells = Jupyter.notebook.get_cells();\n",
       "                for (var i = 0; i < nbb_cells.length; ++i) {\n",
       "                    if (nbb_cells[i].input_prompt_number == nbb_cell_id) {\n",
       "                        if (nbb_cells[i].get_text() == nbb_unformatted_code) {\n",
       "                             nbb_cells[i].set_text(nbb_formatted_code);\n",
       "                        }\n",
       "                        break;\n",
       "                    }\n",
       "                }\n",
       "            }, 500);\n",
       "            "
      ],
      "text/plain": [
       "<IPython.core.display.Javascript object>"
      ]
     },
     "metadata": {},
     "output_type": "display_data"
    }
   ],
   "source": [
    "import matplotlib.pyplot as plt\n",
    "import seaborn as sns\n",
    "\n",
    "# Sort importances\n",
    "mean_importances_df = importances_df_mean.sort_values(by='Importance', ascending=False).round(2)\n",
    "\n",
    "# Plot\n",
    "plt.figure(figsize=(10, 6))\n",
    "sns.barplot(x='Importance', y='Feature', data=mean_importances_df, color=\"lightsteelblue\")\n",
    "plt.title(\"Variable Relevance\")\n",
    "plt.xlabel(\"Relevance (Permutation)\")\n",
    "plt.ylabel(\"Features\")\n",
    "plt.grid(axis=\"x\", linestyle=\"--\", alpha=0.7)\n",
    "plt.tight_layout()\n",
    "plt.savefig(\n",
    "    \"inn_partner_i_global_fine_tuning_cm_p_mlp_best_mean_var_perm_relevance.png\",\n",
    "    dpi=300,\n",
    "    bbox_inches=\"tight\",\n",
    ")\n",
    "plt.show()\n"
   ]
  },
  {
   "cell_type": "code",
   "execution_count": 28,
   "metadata": {},
   "outputs": [
    {
     "name": "stderr",
     "output_type": "stream",
     "text": [
      "/home/peressim/virtual_environments/ccs28-venv/lib/python3.10/site-packages/seaborn/_oldcore.py:1498: FutureWarning: is_categorical_dtype is deprecated and will be removed in a future version. Use isinstance(dtype, CategoricalDtype) instead\n",
      "  if pd.api.types.is_categorical_dtype(vector):\n",
      "/home/peressim/virtual_environments/ccs28-venv/lib/python3.10/site-packages/seaborn/_oldcore.py:1498: FutureWarning: is_categorical_dtype is deprecated and will be removed in a future version. Use isinstance(dtype, CategoricalDtype) instead\n",
      "  if pd.api.types.is_categorical_dtype(vector):\n",
      "/home/peressim/virtual_environments/ccs28-venv/lib/python3.10/site-packages/seaborn/_oldcore.py:1498: FutureWarning: is_categorical_dtype is deprecated and will be removed in a future version. Use isinstance(dtype, CategoricalDtype) instead\n",
      "  if pd.api.types.is_categorical_dtype(vector):\n",
      "/home/peressim/virtual_environments/ccs28-venv/lib/python3.10/site-packages/seaborn/_oldcore.py:1498: FutureWarning: is_categorical_dtype is deprecated and will be removed in a future version. Use isinstance(dtype, CategoricalDtype) instead\n",
      "  if pd.api.types.is_categorical_dtype(vector):\n",
      "/home/peressim/virtual_environments/ccs28-venv/lib/python3.10/site-packages/seaborn/_oldcore.py:1498: FutureWarning: is_categorical_dtype is deprecated and will be removed in a future version. Use isinstance(dtype, CategoricalDtype) instead\n",
      "  if pd.api.types.is_categorical_dtype(vector):\n",
      "/home/peressim/virtual_environments/ccs28-venv/lib/python3.10/site-packages/seaborn/_oldcore.py:1498: FutureWarning: is_categorical_dtype is deprecated and will be removed in a future version. Use isinstance(dtype, CategoricalDtype) instead\n",
      "  if pd.api.types.is_categorical_dtype(vector):\n",
      "/home/peressim/virtual_environments/ccs28-venv/lib/python3.10/site-packages/seaborn/_oldcore.py:1498: FutureWarning: is_categorical_dtype is deprecated and will be removed in a future version. Use isinstance(dtype, CategoricalDtype) instead\n",
      "  if pd.api.types.is_categorical_dtype(vector):\n",
      "/home/peressim/virtual_environments/ccs28-venv/lib/python3.10/site-packages/seaborn/_oldcore.py:1498: FutureWarning: is_categorical_dtype is deprecated and will be removed in a future version. Use isinstance(dtype, CategoricalDtype) instead\n",
      "  if pd.api.types.is_categorical_dtype(vector):\n",
      "/home/peressim/virtual_environments/ccs28-venv/lib/python3.10/site-packages/seaborn/_oldcore.py:1498: FutureWarning: is_categorical_dtype is deprecated and will be removed in a future version. Use isinstance(dtype, CategoricalDtype) instead\n",
      "  if pd.api.types.is_categorical_dtype(vector):\n",
      "/home/peressim/virtual_environments/ccs28-venv/lib/python3.10/site-packages/seaborn/_oldcore.py:1498: FutureWarning: is_categorical_dtype is deprecated and will be removed in a future version. Use isinstance(dtype, CategoricalDtype) instead\n",
      "  if pd.api.types.is_categorical_dtype(vector):\n",
      "/home/peressim/virtual_environments/ccs28-venv/lib/python3.10/site-packages/seaborn/_oldcore.py:1498: FutureWarning: is_categorical_dtype is deprecated and will be removed in a future version. Use isinstance(dtype, CategoricalDtype) instead\n",
      "  if pd.api.types.is_categorical_dtype(vector):\n",
      "/home/peressim/virtual_environments/ccs28-venv/lib/python3.10/site-packages/seaborn/_oldcore.py:1498: FutureWarning: is_categorical_dtype is deprecated and will be removed in a future version. Use isinstance(dtype, CategoricalDtype) instead\n",
      "  if pd.api.types.is_categorical_dtype(vector):\n",
      "/home/peressim/virtual_environments/ccs28-venv/lib/python3.10/site-packages/seaborn/_oldcore.py:1498: FutureWarning: is_categorical_dtype is deprecated and will be removed in a future version. Use isinstance(dtype, CategoricalDtype) instead\n",
      "  if pd.api.types.is_categorical_dtype(vector):\n",
      "/home/peressim/virtual_environments/ccs28-venv/lib/python3.10/site-packages/seaborn/_oldcore.py:1498: FutureWarning: is_categorical_dtype is deprecated and will be removed in a future version. Use isinstance(dtype, CategoricalDtype) instead\n",
      "  if pd.api.types.is_categorical_dtype(vector):\n",
      "/home/peressim/virtual_environments/ccs28-venv/lib/python3.10/site-packages/seaborn/_oldcore.py:1498: FutureWarning: is_categorical_dtype is deprecated and will be removed in a future version. Use isinstance(dtype, CategoricalDtype) instead\n",
      "  if pd.api.types.is_categorical_dtype(vector):\n",
      "/home/peressim/virtual_environments/ccs28-venv/lib/python3.10/site-packages/seaborn/_oldcore.py:1498: FutureWarning: is_categorical_dtype is deprecated and will be removed in a future version. Use isinstance(dtype, CategoricalDtype) instead\n",
      "  if pd.api.types.is_categorical_dtype(vector):\n"
     ]
    },
    {
     "data": {
      "image/png": "[encoded data removed]",
      "text/plain": [
       "<Figure size 1000x550 with 1 Axes>"
      ]
     },
     "metadata": {},
     "output_type": "display_data"
    },
    {
     "data": {
      "application/javascript": [
       "\n",
       "            setTimeout(function() {\n",
       "                var nbb_cell_id = 28;\n",
       "                var nbb_unformatted_code = \"perm_importances_df = importances_df\\n\\n\\n# Calculate the mean importance for each feature\\nmean_importances = perm_importances_df.mean().sort_values()\\n\\n# Reorder the DataFrame columns based on mean importance\\nperm_importances_df = perm_importances_df[mean_importances.index]\\n\\nplt.figure(figsize=(10, 5.5))\\nsns.boxplot(\\n    data=perm_importances_df,\\n    orient=\\\"h\\\",\\n    color=\\\"lightsteelblue\\\",\\n    saturation=1,\\n    showmeans=True,\\n)\\nsns.despine(trim=True, left=False)\\nplt.xlabel(\\\"Relevance (Permutation)\\\")\\nplt.title(\\\"Variable Relevance Distribution\\\")\\nplt.grid(axis=\\\"x\\\", linestyle=\\\"--\\\", alpha=0.7)\\nplt.subplots_adjust(left=0.3)\\nplt.savefig(\\n    \\\"inn_partner_i_global_fine_tuning_cm_p_mlp_best_dist_var_perm_relevance.png\\\",\\n    dpi=300,\\n    bbox_inches=\\\"tight\\\",\\n)\\nplt.show()\";\n",
       "                var nbb_formatted_code = \"perm_importances_df = importances_df\\n\\n\\n# Calculate the mean importance for each feature\\nmean_importances = perm_importances_df.mean().sort_values()\\n\\n# Reorder the DataFrame columns based on mean importance\\nperm_importances_df = perm_importances_df[mean_importances.index]\\n\\nplt.figure(figsize=(10, 5.5))\\nsns.boxplot(\\n    data=perm_importances_df,\\n    orient=\\\"h\\\",\\n    color=\\\"lightsteelblue\\\",\\n    saturation=1,\\n    showmeans=True,\\n)\\nsns.despine(trim=True, left=False)\\nplt.xlabel(\\\"Relevance (Permutation)\\\")\\nplt.title(\\\"Variable Relevance Distribution\\\")\\nplt.grid(axis=\\\"x\\\", linestyle=\\\"--\\\", alpha=0.7)\\nplt.subplots_adjust(left=0.3)\\nplt.savefig(\\n    \\\"inn_partner_i_global_fine_tuning_cm_p_mlp_best_dist_var_perm_relevance.png\\\",\\n    dpi=300,\\n    bbox_inches=\\\"tight\\\",\\n)\\nplt.show()\";\n",
       "                var nbb_cells = Jupyter.notebook.get_cells();\n",
       "                for (var i = 0; i < nbb_cells.length; ++i) {\n",
       "                    if (nbb_cells[i].input_prompt_number == nbb_cell_id) {\n",
       "                        if (nbb_cells[i].get_text() == nbb_unformatted_code) {\n",
       "                             nbb_cells[i].set_text(nbb_formatted_code);\n",
       "                        }\n",
       "                        break;\n",
       "                    }\n",
       "                }\n",
       "            }, 500);\n",
       "            "
      ],
      "text/plain": [
       "<IPython.core.display.Javascript object>"
      ]
     },
     "metadata": {},
     "output_type": "display_data"
    }
   ],
   "source": [
    "perm_importances_df = importances_df\n",
    "\n",
    "\n",
    "# Calculate the mean importance for each feature\n",
    "mean_importances = perm_importances_df.mean().sort_values()\n",
    "\n",
    "# Reorder the DataFrame columns based on mean importance\n",
    "perm_importances_df = perm_importances_df[mean_importances.index]\n",
    "\n",
    "plt.figure(figsize=(10, 5.5))\n",
    "sns.boxplot(\n",
    "    data=perm_importances_df,\n",
    "    orient=\"h\",\n",
    "    color=\"lightsteelblue\",\n",
    "    saturation=1,\n",
    "    showmeans=True,\n",
    ")\n",
    "sns.despine(trim=True, left=False)\n",
    "plt.xlabel(\"Relevance (Permutation)\")\n",
    "plt.title(\"Variable Relevance Distribution\")\n",
    "plt.grid(axis=\"x\", linestyle=\"--\", alpha=0.7)\n",
    "plt.subplots_adjust(left=0.3)\n",
    "plt.savefig(\n",
    "    \"inn_partner_i_global_fine_tuning_cm_p_mlp_best_dist_var_perm_relevance.png\",\n",
    "    dpi=300,\n",
    "    bbox_inches=\"tight\",\n",
    ")\n",
    "plt.show()"
   ]
  },
  {
   "cell_type": "code",
   "execution_count": 29,
   "metadata": {},
   "outputs": [
    {
     "data": {
      "text/html": [
       "<div>\n",
       "<style scoped>\n",
       "    .dataframe tbody tr th:only-of-type {\n",
       "        vertical-align: middle;\n",
       "    }\n",
       "\n",
       "    .dataframe tbody tr th {\n",
       "        vertical-align: top;\n",
       "    }\n",
       "\n",
       "    .dataframe thead th {\n",
       "        text-align: right;\n",
       "    }\n",
       "</style>\n",
       "<table border=\"1\" class=\"dataframe\">\n",
       "  <thead>\n",
       "    <tr style=\"text-align: right;\">\n",
       "      <th></th>\n",
       "      <th>$\\mathrm{MgO}$</th>\n",
       "      <th>Free $\\mathrm{CaO}$</th>\n",
       "      <th>$\\mathrm{CaO}$</th>\n",
       "      <th>Total $\\mathrm{C_3S}$</th>\n",
       "      <th>$\\mathrm{SiO_2}$</th>\n",
       "      <th>$\\mathrm{Na_2O}$</th>\n",
       "      <th>$\\mathrm{C_3A}$</th>\n",
       "      <th>LOI</th>\n",
       "      <th>Blaine</th>\n",
       "      <th>$\\mathrm{K_2O}$</th>\n",
       "      <th>$\\mathrm{SO_3}$</th>\n",
       "      <th>$\\mathrm{C_4AF}$</th>\n",
       "      <th>$\\mathrm{Al_2O_3}$</th>\n",
       "      <th>$\\mathrm{Fe_2O_3}$</th>\n",
       "      <th>#325</th>\n",
       "      <th>Initial setting time</th>\n",
       "    </tr>\n",
       "  </thead>\n",
       "  <tbody>\n",
       "    <tr>\n",
       "      <th>0</th>\n",
       "      <td>-0.013438</td>\n",
       "      <td>-0.003272</td>\n",
       "      <td>-0.000157</td>\n",
       "      <td>0.000608</td>\n",
       "      <td>0.003060</td>\n",
       "      <td>0.012065</td>\n",
       "      <td>0.021910</td>\n",
       "      <td>0.031770</td>\n",
       "      <td>0.033267</td>\n",
       "      <td>0.030538</td>\n",
       "      <td>0.036086</td>\n",
       "      <td>0.033671</td>\n",
       "      <td>0.038931</td>\n",
       "      <td>0.067697</td>\n",
       "      <td>0.091684</td>\n",
       "      <td>0.688894</td>\n",
       "    </tr>\n",
       "    <tr>\n",
       "      <th>1</th>\n",
       "      <td>-0.012703</td>\n",
       "      <td>-0.004595</td>\n",
       "      <td>-0.002597</td>\n",
       "      <td>0.000262</td>\n",
       "      <td>-0.002866</td>\n",
       "      <td>0.006888</td>\n",
       "      <td>0.024491</td>\n",
       "      <td>0.022116</td>\n",
       "      <td>0.027193</td>\n",
       "      <td>0.032554</td>\n",
       "      <td>0.038209</td>\n",
       "      <td>0.038436</td>\n",
       "      <td>0.037764</td>\n",
       "      <td>0.069056</td>\n",
       "      <td>0.090644</td>\n",
       "      <td>0.703101</td>\n",
       "    </tr>\n",
       "    <tr>\n",
       "      <th>2</th>\n",
       "      <td>-0.007303</td>\n",
       "      <td>-0.002884</td>\n",
       "      <td>-0.001724</td>\n",
       "      <td>0.001135</td>\n",
       "      <td>0.003293</td>\n",
       "      <td>0.005453</td>\n",
       "      <td>0.018074</td>\n",
       "      <td>0.029394</td>\n",
       "      <td>0.029528</td>\n",
       "      <td>0.032860</td>\n",
       "      <td>0.038733</td>\n",
       "      <td>0.043264</td>\n",
       "      <td>0.040391</td>\n",
       "      <td>0.079803</td>\n",
       "      <td>0.081896</td>\n",
       "      <td>0.650705</td>\n",
       "    </tr>\n",
       "  </tbody>\n",
       "</table>\n",
       "</div>"
      ],
      "text/plain": [
       "   $\\mathrm{MgO}$  Free $\\mathrm{CaO}$  $\\mathrm{CaO}$  Total $\\mathrm{C_3S}$  \\\n",
       "0       -0.013438            -0.003272       -0.000157               0.000608   \n",
       "1       -0.012703            -0.004595       -0.002597               0.000262   \n",
       "2       -0.007303            -0.002884       -0.001724               0.001135   \n",
       "\n",
       "   $\\mathrm{SiO_2}$  $\\mathrm{Na_2O}$  $\\mathrm{C_3A}$       LOI    Blaine  \\\n",
       "0          0.003060          0.012065         0.021910  0.031770  0.033267   \n",
       "1         -0.002866          0.006888         0.024491  0.022116  0.027193   \n",
       "2          0.003293          0.005453         0.018074  0.029394  0.029528   \n",
       "\n",
       "   $\\mathrm{K_2O}$  $\\mathrm{SO_3}$  $\\mathrm{C_4AF}$  $\\mathrm{Al_2O_3}$  \\\n",
       "0         0.030538         0.036086          0.033671            0.038931   \n",
       "1         0.032554         0.038209          0.038436            0.037764   \n",
       "2         0.032860         0.038733          0.043264            0.040391   \n",
       "\n",
       "   $\\mathrm{Fe_2O_3}$      #325  Initial setting time  \n",
       "0            0.067697  0.091684              0.688894  \n",
       "1            0.069056  0.090644              0.703101  \n",
       "2            0.079803  0.081896              0.650705  "
      ]
     },
     "execution_count": 29,
     "metadata": {},
     "output_type": "execute_result"
    },
    {
     "data": {
      "application/javascript": [
       "\n",
       "            setTimeout(function() {\n",
       "                var nbb_cell_id = 29;\n",
       "                var nbb_unformatted_code = \"perm_importances_df\";\n",
       "                var nbb_formatted_code = \"perm_importances_df\";\n",
       "                var nbb_cells = Jupyter.notebook.get_cells();\n",
       "                for (var i = 0; i < nbb_cells.length; ++i) {\n",
       "                    if (nbb_cells[i].input_prompt_number == nbb_cell_id) {\n",
       "                        if (nbb_cells[i].get_text() == nbb_unformatted_code) {\n",
       "                             nbb_cells[i].set_text(nbb_formatted_code);\n",
       "                        }\n",
       "                        break;\n",
       "                    }\n",
       "                }\n",
       "            }, 500);\n",
       "            "
      ],
      "text/plain": [
       "<IPython.core.display.Javascript object>"
      ]
     },
     "metadata": {},
     "output_type": "display_data"
    }
   ],
   "source": [
    "perm_importances_df"
   ]
  },
  {
   "cell_type": "markdown",
   "metadata": {},
   "source": [
    "# Saving the results Dataframe"
   ]
  },
  {
   "cell_type": "markdown",
   "metadata": {},
   "source": [
    "## Saving the full dataframe"
   ]
  },
  {
   "cell_type": "code",
   "execution_count": 30,
   "metadata": {},
   "outputs": [
    {
     "data": {
      "application/javascript": [
       "\n",
       "            setTimeout(function() {\n",
       "                var nbb_cell_id = 30;\n",
       "                var nbb_unformatted_code = \"path = f\\\"../../../../../../../reports/results/global_models/inn_v2/partner_i/fine_tuning/full/\\\"\\nfilename = f\\\"mlp_results_full_{index_to_save}.csv\\\"\\n\\npd.concat(results_to_save).to_csv(\\n    path_or_buf=path + filename,\\n    mode=\\\"w\\\",\\n    index=False,\\n    header=True,\\n)\";\n",
       "                var nbb_formatted_code = \"path = f\\\"../../../../../../../reports/results/global_models/inn_v2/partner_i/fine_tuning/full/\\\"\\nfilename = f\\\"mlp_results_full_{index_to_save}.csv\\\"\\n\\npd.concat(results_to_save).to_csv(\\n    path_or_buf=path + filename,\\n    mode=\\\"w\\\",\\n    index=False,\\n    header=True,\\n)\";\n",
       "                var nbb_cells = Jupyter.notebook.get_cells();\n",
       "                for (var i = 0; i < nbb_cells.length; ++i) {\n",
       "                    if (nbb_cells[i].input_prompt_number == nbb_cell_id) {\n",
       "                        if (nbb_cells[i].get_text() == nbb_unformatted_code) {\n",
       "                             nbb_cells[i].set_text(nbb_formatted_code);\n",
       "                        }\n",
       "                        break;\n",
       "                    }\n",
       "                }\n",
       "            }, 500);\n",
       "            "
      ],
      "text/plain": [
       "<IPython.core.display.Javascript object>"
      ]
     },
     "metadata": {},
     "output_type": "display_data"
    }
   ],
   "source": [
    "path = f\"../../../../../../../reports/results/global_models/inn_v2/partner_i/fine_tuning/full/\"\n",
    "filename = f\"mlp_results_full_{index_to_save}.csv\"\n",
    "\n",
    "pd.concat(results_to_save).to_csv(\n",
    "    path_or_buf=path + filename,\n",
    "    mode=\"w\",\n",
    "    index=False,\n",
    "    header=True,\n",
    ")"
   ]
  },
  {
   "cell_type": "markdown",
   "metadata": {},
   "source": [
    "## Saving the grouped dataframe"
   ]
  },
  {
   "cell_type": "code",
   "execution_count": 31,
   "metadata": {},
   "outputs": [
    {
     "data": {
      "application/javascript": [
       "\n",
       "            setTimeout(function() {\n",
       "                var nbb_cell_id = 31;\n",
       "                var nbb_unformatted_code = \"cols_groupby = [\\n    \\\"Category\\\",\\n    \\\"Company\\\",\\n    \\\"Data Shape\\\",\\n    \\\"Timesteps\\\",\\n    \\\"Features\\\",\\n    \\\"Model\\\",\\n    \\\"Cross Validation\\\",\\n    \\\"Cross Validation Params\\\",\\n]\\n\\ncols_agg = [\\\"RMSE Train\\\", \\\"MAE Train\\\", \\\"MAPE Train\\\", \\\"R2 Train\\\"] + [\\n    \\\"RMSE Test\\\",\\n    \\\"MAE Test\\\",\\n    \\\"MAPE Test\\\",\\n    \\\"R2 Test\\\",\\n]\\n\\npath = f\\\"../../../../../../../reports/results/global_models/inn_v2/partner_i/fine_tuning/grouped/\\\"\\nfilename = f\\\"mlp_results_grouped_{index_to_save}.csv\\\"\\n\\n\\ndf_results_to_save = (\\n    pd.concat(results_to_save)\\n    .groupby(cols_groupby, dropna=False)[cols_agg]\\n    .agg([\\\"mean\\\", lambda series: pd.Series(series.std(ddof=0), name=\\\"std\\\")])\\n    .reset_index()\\n    .rename(columns={\\\"<lambda_0>\\\": \\\"std\\\"})\\n)\\n\\ndf_results_to_save.to_csv(\\n    path_or_buf=path + filename,\\n    mode=\\\"w\\\",\\n    index=False,\\n    header=True,\\n)\";\n",
       "                var nbb_formatted_code = \"cols_groupby = [\\n    \\\"Category\\\",\\n    \\\"Company\\\",\\n    \\\"Data Shape\\\",\\n    \\\"Timesteps\\\",\\n    \\\"Features\\\",\\n    \\\"Model\\\",\\n    \\\"Cross Validation\\\",\\n    \\\"Cross Validation Params\\\",\\n]\\n\\ncols_agg = [\\\"RMSE Train\\\", \\\"MAE Train\\\", \\\"MAPE Train\\\", \\\"R2 Train\\\"] + [\\n    \\\"RMSE Test\\\",\\n    \\\"MAE Test\\\",\\n    \\\"MAPE Test\\\",\\n    \\\"R2 Test\\\",\\n]\\n\\npath = f\\\"../../../../../../../reports/results/global_models/inn_v2/partner_i/fine_tuning/grouped/\\\"\\nfilename = f\\\"mlp_results_grouped_{index_to_save}.csv\\\"\\n\\n\\ndf_results_to_save = (\\n    pd.concat(results_to_save)\\n    .groupby(cols_groupby, dropna=False)[cols_agg]\\n    .agg([\\\"mean\\\", lambda series: pd.Series(series.std(ddof=0), name=\\\"std\\\")])\\n    .reset_index()\\n    .rename(columns={\\\"<lambda_0>\\\": \\\"std\\\"})\\n)\\n\\ndf_results_to_save.to_csv(\\n    path_or_buf=path + filename,\\n    mode=\\\"w\\\",\\n    index=False,\\n    header=True,\\n)\";\n",
       "                var nbb_cells = Jupyter.notebook.get_cells();\n",
       "                for (var i = 0; i < nbb_cells.length; ++i) {\n",
       "                    if (nbb_cells[i].input_prompt_number == nbb_cell_id) {\n",
       "                        if (nbb_cells[i].get_text() == nbb_unformatted_code) {\n",
       "                             nbb_cells[i].set_text(nbb_formatted_code);\n",
       "                        }\n",
       "                        break;\n",
       "                    }\n",
       "                }\n",
       "            }, 500);\n",
       "            "
      ],
      "text/plain": [
       "<IPython.core.display.Javascript object>"
      ]
     },
     "metadata": {},
     "output_type": "display_data"
    }
   ],
   "source": [
    "cols_groupby = [\n",
    "    \"Category\",\n",
    "    \"Company\",\n",
    "    \"Data Shape\",\n",
    "    \"Timesteps\",\n",
    "    \"Features\",\n",
    "    \"Model\",\n",
    "    \"Cross Validation\",\n",
    "    \"Cross Validation Params\",\n",
    "]\n",
    "\n",
    "cols_agg = [\"RMSE Train\", \"MAE Train\", \"MAPE Train\", \"R2 Train\"] + [\n",
    "    \"RMSE Test\",\n",
    "    \"MAE Test\",\n",
    "    \"MAPE Test\",\n",
    "    \"R2 Test\",\n",
    "]\n",
    "\n",
    "path = f\"../../../../../../../reports/results/global_models/inn_v2/partner_i/fine_tuning/grouped/\"\n",
    "filename = f\"mlp_results_grouped_{index_to_save}.csv\"\n",
    "\n",
    "\n",
    "df_results_to_save = (\n",
    "    pd.concat(results_to_save)\n",
    "    .groupby(cols_groupby, dropna=False)[cols_agg]\n",
    "    .agg([\"mean\", lambda series: pd.Series(series.std(ddof=0), name=\"std\")])\n",
    "    .reset_index()\n",
    "    .rename(columns={\"<lambda_0>\": \"std\"})\n",
    ")\n",
    "\n",
    "df_results_to_save.to_csv(\n",
    "    path_or_buf=path + filename,\n",
    "    mode=\"w\",\n",
    "    index=False,\n",
    "    header=True,\n",
    ")"
   ]
  },
  {
   "cell_type": "code",
   "execution_count": 32,
   "metadata": {},
   "outputs": [
    {
     "data": {
      "text/plain": [
       "(367, 16)"
      ]
     },
     "execution_count": 32,
     "metadata": {},
     "output_type": "execute_result"
    },
    {
     "data": {
      "application/javascript": [
       "\n",
       "            setTimeout(function() {\n",
       "                var nbb_cell_id = 32;\n",
       "                var nbb_unformatted_code = \"x.shape\";\n",
       "                var nbb_formatted_code = \"x.shape\";\n",
       "                var nbb_cells = Jupyter.notebook.get_cells();\n",
       "                for (var i = 0; i < nbb_cells.length; ++i) {\n",
       "                    if (nbb_cells[i].input_prompt_number == nbb_cell_id) {\n",
       "                        if (nbb_cells[i].get_text() == nbb_unformatted_code) {\n",
       "                             nbb_cells[i].set_text(nbb_formatted_code);\n",
       "                        }\n",
       "                        break;\n",
       "                    }\n",
       "                }\n",
       "            }, 500);\n",
       "            "
      ],
      "text/plain": [
       "<IPython.core.display.Javascript object>"
      ]
     },
     "metadata": {},
     "output_type": "display_data"
    }
   ],
   "source": [
    "x.shape"
   ]
  },
  {
   "cell_type": "code",
   "execution_count": null,
   "metadata": {},
   "outputs": [],
   "source": []
  }
 ],
 "metadata": {
  "kernelspec": {
   "display_name": "ccs28-venv",
   "language": "python",
   "name": "ccs28-venv"
  },
  "language_info": {
   "codemirror_mode": {
    "name": "ipython",
    "version": 3
   },
   "file_extension": ".py",
   "mimetype": "text/x-python",
   "name": "python",
   "nbconvert_exporter": "python",
   "pygments_lexer": "ipython3",
   "version": "3.10.12"
  }
 },
 "nbformat": 4,
 "nbformat_minor": 2
}
