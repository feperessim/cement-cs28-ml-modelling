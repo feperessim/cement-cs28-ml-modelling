{
 "cells": [
  {
   "cell_type": "code",
   "execution_count": 1,
   "metadata": {},
   "outputs": [
    {
     "data": {
      "application/javascript": [
       "\n",
       "            setTimeout(function() {\n",
       "                var nbb_cell_id = 1;\n",
       "                var nbb_unformatted_code = \"%load_ext nb_black\";\n",
       "                var nbb_formatted_code = \"%load_ext nb_black\";\n",
       "                var nbb_cells = Jupyter.notebook.get_cells();\n",
       "                for (var i = 0; i < nbb_cells.length; ++i) {\n",
       "                    if (nbb_cells[i].input_prompt_number == nbb_cell_id) {\n",
       "                        if (nbb_cells[i].get_text() == nbb_unformatted_code) {\n",
       "                             nbb_cells[i].set_text(nbb_formatted_code);\n",
       "                        }\n",
       "                        break;\n",
       "                    }\n",
       "                }\n",
       "            }, 500);\n",
       "            "
      ],
      "text/plain": [
       "<IPython.core.display.Javascript object>"
      ]
     },
     "metadata": {},
     "output_type": "display_data"
    }
   ],
   "source": [
    "%load_ext nb_black"
   ]
  },
  {
   "cell_type": "code",
   "execution_count": 2,
   "metadata": {
    "execution": {
     "iopub.execute_input": "2022-10-01T19:37:38.021523Z",
     "iopub.status.busy": "2022-10-01T19:37:38.021092Z",
     "iopub.status.idle": "2022-10-01T19:37:42.654282Z",
     "shell.execute_reply": "2022-10-01T19:37:42.653296Z",
     "shell.execute_reply.started": "2022-10-01T19:37:38.021438Z"
    }
   },
   "outputs": [
    {
     "name": "stderr",
     "output_type": "stream",
     "text": [
      "2024-09-19 12:51:33.531259: I tensorflow/core/util/port.cc:110] oneDNN custom operations are on. You may see slightly different numerical results due to floating-point round-off errors from different computation orders. To turn them off, set the environment variable `TF_ENABLE_ONEDNN_OPTS=0`.\n",
      "2024-09-19 12:51:33.538742: I tensorflow/tsl/cuda/cudart_stub.cc:28] Could not find cuda drivers on your machine, GPU will not be used.\n",
      "2024-09-19 12:51:33.651099: I tensorflow/tsl/cuda/cudart_stub.cc:28] Could not find cuda drivers on your machine, GPU will not be used.\n",
      "2024-09-19 12:51:33.658310: I tensorflow/core/platform/cpu_feature_guard.cc:182] This TensorFlow binary is optimized to use available CPU instructions in performance-critical operations.\n",
      "To enable the following instructions: AVX2 AVX512F AVX512_VNNI FMA, in other operations, rebuild TensorFlow with the appropriate compiler flags.\n",
      "2024-09-19 12:51:35.779632: W tensorflow/compiler/tf2tensorrt/utils/py_utils.cc:38] TF-TRT Warning: Could not find TensorRT\n"
     ]
    },
    {
     "data": {
      "application/javascript": [
       "\n",
       "            setTimeout(function() {\n",
       "                var nbb_cell_id = 2;\n",
       "                var nbb_unformatted_code = \"# Database Reading and Manipulation\\nimport pandas as pd\\n\\n# Linear Algebra\\nimport numpy as np\\n\\n# Plotting\\nimport matplotlib.pyplot as plt\\n\\n# Time\\nimport time\\n\\n# Random and os for reproducibility\\nimport random\\nimport os\\n\\n# Model Selection\\nfrom sklearn.model_selection import train_test_split\\nfrom sklearn.model_selection import TimeSeriesSplit\\nfrom sklearn.model_selection import RepeatedKFold\\nfrom sklearn.model_selection import cross_val_score\\nfrom sklearn.model_selection import cross_validate\\nfrom sklearn.model_selection import GridSearchCV\\n\\n# Modeling\\nimport tensorflow as tf\\n\\n# Processing\\nfrom sklearn.preprocessing import StandardScaler\\nfrom sklearn.preprocessing import RobustScaler\\n\\n# Metrics\\nfrom sklearn.metrics import mean_squared_error\\nfrom sklearn.metrics import mean_absolute_error\\nfrom sklearn.metrics import mean_absolute_percentage_error\\nfrom sklearn.metrics import r2_score\\n\\n# Pipeline\\nfrom sklearn.pipeline import Pipeline\\n\\n# Data imputation\\nfrom sklearn.impute import SimpleImputer\\n\\n# Making keras compatible with scikit learn api\\n# https://scikit-learn.org/stable/developers/develop.html\\nfrom sklearn.base import BaseEstimator, RegressorMixin\\n\\n# Custom modules\\n## Model selection\\nfrom src.cross_validation.blocking_time_series_split import BlockingTimeSeriesSplit\\n\\n## Function to print scores\\nfrom src.utils.print_scores import print_scores\\n\\n## Function to calculate score regression metrics\\nfrom src.utils.score_regression_metrics import score_regression_metrics\\n\\n## Function to fill the results metric dict\\nfrom src.utils.fill_results_dict import fill_results_dict\\n\\n# Converting Times Series Data to 3D format\\nfrom src.utils.split_sequences import split_sequences\\n\\n# Transformer Encoder for time series data\\nfrom src.models.transformer_ts_tf import Transformer\";\n",
       "                var nbb_formatted_code = \"# Database Reading and Manipulation\\nimport pandas as pd\\n\\n# Linear Algebra\\nimport numpy as np\\n\\n# Plotting\\nimport matplotlib.pyplot as plt\\n\\n# Time\\nimport time\\n\\n# Random and os for reproducibility\\nimport random\\nimport os\\n\\n# Model Selection\\nfrom sklearn.model_selection import train_test_split\\nfrom sklearn.model_selection import TimeSeriesSplit\\nfrom sklearn.model_selection import RepeatedKFold\\nfrom sklearn.model_selection import cross_val_score\\nfrom sklearn.model_selection import cross_validate\\nfrom sklearn.model_selection import GridSearchCV\\n\\n# Modeling\\nimport tensorflow as tf\\n\\n# Processing\\nfrom sklearn.preprocessing import StandardScaler\\nfrom sklearn.preprocessing import RobustScaler\\n\\n# Metrics\\nfrom sklearn.metrics import mean_squared_error\\nfrom sklearn.metrics import mean_absolute_error\\nfrom sklearn.metrics import mean_absolute_percentage_error\\nfrom sklearn.metrics import r2_score\\n\\n# Pipeline\\nfrom sklearn.pipeline import Pipeline\\n\\n# Data imputation\\nfrom sklearn.impute import SimpleImputer\\n\\n# Making keras compatible with scikit learn api\\n# https://scikit-learn.org/stable/developers/develop.html\\nfrom sklearn.base import BaseEstimator, RegressorMixin\\n\\n# Custom modules\\n## Model selection\\nfrom src.cross_validation.blocking_time_series_split import BlockingTimeSeriesSplit\\n\\n## Function to print scores\\nfrom src.utils.print_scores import print_scores\\n\\n## Function to calculate score regression metrics\\nfrom src.utils.score_regression_metrics import score_regression_metrics\\n\\n## Function to fill the results metric dict\\nfrom src.utils.fill_results_dict import fill_results_dict\\n\\n# Converting Times Series Data to 3D format\\nfrom src.utils.split_sequences import split_sequences\\n\\n# Transformer Encoder for time series data\\nfrom src.models.transformer_ts_tf import Transformer\";\n",
       "                var nbb_cells = Jupyter.notebook.get_cells();\n",
       "                for (var i = 0; i < nbb_cells.length; ++i) {\n",
       "                    if (nbb_cells[i].input_prompt_number == nbb_cell_id) {\n",
       "                        if (nbb_cells[i].get_text() == nbb_unformatted_code) {\n",
       "                             nbb_cells[i].set_text(nbb_formatted_code);\n",
       "                        }\n",
       "                        break;\n",
       "                    }\n",
       "                }\n",
       "            }, 500);\n",
       "            "
      ],
      "text/plain": [
       "<IPython.core.display.Javascript object>"
      ]
     },
     "metadata": {},
     "output_type": "display_data"
    }
   ],
   "source": [
    "# Database Reading and Manipulation\n",
    "import pandas as pd\n",
    "\n",
    "# Linear Algebra\n",
    "import numpy as np\n",
    "\n",
    "# Plotting\n",
    "import matplotlib.pyplot as plt\n",
    "\n",
    "# Time\n",
    "import time\n",
    "\n",
    "# Random and os for reproducibility\n",
    "import random\n",
    "import os\n",
    "\n",
    "# Model Selection\n",
    "from sklearn.model_selection import train_test_split\n",
    "from sklearn.model_selection import TimeSeriesSplit\n",
    "from sklearn.model_selection import RepeatedKFold\n",
    "from sklearn.model_selection import cross_val_score\n",
    "from sklearn.model_selection import cross_validate\n",
    "from sklearn.model_selection import GridSearchCV\n",
    "\n",
    "# Modeling\n",
    "import tensorflow as tf\n",
    "\n",
    "# Processing\n",
    "from sklearn.preprocessing import StandardScaler\n",
    "from sklearn.preprocessing import RobustScaler\n",
    "\n",
    "# Metrics\n",
    "from sklearn.metrics import mean_squared_error\n",
    "from sklearn.metrics import mean_absolute_error\n",
    "from sklearn.metrics import mean_absolute_percentage_error\n",
    "from sklearn.metrics import r2_score\n",
    "\n",
    "# Pipeline\n",
    "from sklearn.pipeline import Pipeline\n",
    "\n",
    "# Data imputation\n",
    "from sklearn.impute import SimpleImputer\n",
    "\n",
    "# Making keras compatible with scikit learn api\n",
    "# https://scikit-learn.org/stable/developers/develop.html\n",
    "from sklearn.base import BaseEstimator, RegressorMixin\n",
    "\n",
    "# Custom modules\n",
    "## Model selection\n",
    "from src.cross_validation.blocking_time_series_split import BlockingTimeSeriesSplit\n",
    "\n",
    "## Function to print scores\n",
    "from src.utils.print_scores import print_scores\n",
    "\n",
    "## Function to calculate score regression metrics\n",
    "from src.utils.score_regression_metrics import score_regression_metrics\n",
    "\n",
    "## Function to fill the results metric dict\n",
    "from src.utils.fill_results_dict import fill_results_dict\n",
    "\n",
    "# Converting Times Series Data to 3D format\n",
    "from src.utils.split_sequences import split_sequences\n",
    "\n",
    "# Transformer Encoder for time series data\n",
    "from src.models.transformer_ts_tf import Transformer"
   ]
  },
  {
   "cell_type": "markdown",
   "metadata": {},
   "source": [
    "# Functions and definitions"
   ]
  },
  {
   "cell_type": "markdown",
   "metadata": {},
   "source": [
    "### Convert train/test data to 3D format"
   ]
  },
  {
   "cell_type": "code",
   "execution_count": 3,
   "metadata": {},
   "outputs": [
    {
     "data": {
      "application/javascript": [
       "\n",
       "            setTimeout(function() {\n",
       "                var nbb_cell_id = 3;\n",
       "                var nbb_unformatted_code = \"def generate_sequences_helper(\\n    dataset, cement_types, dates=None, timesteps=None, split_by_cement_type=False\\n):\\n    index_train = dataset[\\\"y_train\\\"].index\\n    index_test = dataset[\\\"y_test\\\"].index\\n\\n    dataset[\\\"y_train\\\"] = dataset[\\\"y_train\\\"].reset_index(drop=True)\\n    dataset[\\\"y_test\\\"] = dataset[\\\"y_test\\\"].reset_index(drop=True)\\n\\n    if dates is not None:\\n        dataset[\\\"dates_train\\\"] = dates[index_train].reset_index(drop=True)\\n        dataset[\\\"dates_test\\\"] = dates[index_test].reset_index(drop=True)\\n\\n    dataset[\\\"cement_types_train\\\"] = cement_types.loc[index_train].reset_index(drop=True)\\n    dataset[\\\"cement_types_test\\\"] = cement_types.loc[index_test].reset_index(drop=True)\\n\\n    dataset = generate_sequences(dataset, timesteps, split_by_cement_type)\\n\\n    return dataset\";\n",
       "                var nbb_formatted_code = \"def generate_sequences_helper(\\n    dataset, cement_types, dates=None, timesteps=None, split_by_cement_type=False\\n):\\n    index_train = dataset[\\\"y_train\\\"].index\\n    index_test = dataset[\\\"y_test\\\"].index\\n\\n    dataset[\\\"y_train\\\"] = dataset[\\\"y_train\\\"].reset_index(drop=True)\\n    dataset[\\\"y_test\\\"] = dataset[\\\"y_test\\\"].reset_index(drop=True)\\n\\n    if dates is not None:\\n        dataset[\\\"dates_train\\\"] = dates[index_train].reset_index(drop=True)\\n        dataset[\\\"dates_test\\\"] = dates[index_test].reset_index(drop=True)\\n\\n    dataset[\\\"cement_types_train\\\"] = cement_types.loc[index_train].reset_index(drop=True)\\n    dataset[\\\"cement_types_test\\\"] = cement_types.loc[index_test].reset_index(drop=True)\\n\\n    dataset = generate_sequences(dataset, timesteps, split_by_cement_type)\\n\\n    return dataset\";\n",
       "                var nbb_cells = Jupyter.notebook.get_cells();\n",
       "                for (var i = 0; i < nbb_cells.length; ++i) {\n",
       "                    if (nbb_cells[i].input_prompt_number == nbb_cell_id) {\n",
       "                        if (nbb_cells[i].get_text() == nbb_unformatted_code) {\n",
       "                             nbb_cells[i].set_text(nbb_formatted_code);\n",
       "                        }\n",
       "                        break;\n",
       "                    }\n",
       "                }\n",
       "            }, 500);\n",
       "            "
      ],
      "text/plain": [
       "<IPython.core.display.Javascript object>"
      ]
     },
     "metadata": {},
     "output_type": "display_data"
    }
   ],
   "source": [
    "def generate_sequences_helper(\n",
    "    dataset, cement_types, dates=None, timesteps=None, split_by_cement_type=False\n",
    "):\n",
    "    index_train = dataset[\"y_train\"].index\n",
    "    index_test = dataset[\"y_test\"].index\n",
    "\n",
    "    dataset[\"y_train\"] = dataset[\"y_train\"].reset_index(drop=True)\n",
    "    dataset[\"y_test\"] = dataset[\"y_test\"].reset_index(drop=True)\n",
    "\n",
    "    if dates is not None:\n",
    "        dataset[\"dates_train\"] = dates[index_train].reset_index(drop=True)\n",
    "        dataset[\"dates_test\"] = dates[index_test].reset_index(drop=True)\n",
    "\n",
    "    dataset[\"cement_types_train\"] = cement_types.loc[index_train].reset_index(drop=True)\n",
    "    dataset[\"cement_types_test\"] = cement_types.loc[index_test].reset_index(drop=True)\n",
    "\n",
    "    dataset = generate_sequences(dataset, timesteps, split_by_cement_type)\n",
    "\n",
    "    return dataset"
   ]
  },
  {
   "cell_type": "code",
   "execution_count": 4,
   "metadata": {},
   "outputs": [
    {
     "data": {
      "application/javascript": [
       "\n",
       "            setTimeout(function() {\n",
       "                var nbb_cell_id = 4;\n",
       "                var nbb_unformatted_code = \"def generate_sequences(dataset, timesteps, split_by_cement_type=False):\\n    if split_by_cement_type:\\n        dataset[\\\"x_train\\\"], dataset[\\\"y_train\\\"] = split_sequences_per_cement_type(\\n            pd.concat(\\n                [\\n                    dataset[\\\"dates_train\\\"],\\n                    pd.DataFrame(dataset[\\\"x_train\\\"], columns=x.columns),\\n                    dataset[\\\"cement_types_train\\\"],\\n                    dataset[\\\"y_train\\\"],\\n                ],\\n                axis=1,\\n            ),\\n            timesteps,\\n        )\\n\\n        dataset[\\\"x_test\\\"], dataset[\\\"y_test\\\"] = split_sequences_per_cement_type(\\n            pd.concat(\\n                [\\n                    dataset[\\\"dates_test\\\"],\\n                    pd.DataFrame(dataset[\\\"x_test\\\"], columns=x.columns),\\n                    dataset[\\\"cement_types_test\\\"],\\n                    dataset[\\\"y_test\\\"],\\n                ],\\n                axis=1,\\n            ),\\n            timesteps,\\n        )\\n    else:\\n        dataset[\\\"x_train\\\"], dataset[\\\"y_train\\\"] = split_sequences(\\n            pd.concat(\\n                [\\n                    pd.DataFrame(dataset[\\\"x_train\\\"], columns=x.columns),\\n                    dataset[\\\"y_train\\\"],\\n                ],\\n                axis=1,\\n            ).values,\\n            timesteps,\\n        )\\n\\n        dataset[\\\"x_test\\\"], dataset[\\\"y_test\\\"] = split_sequences(\\n            pd.concat(\\n                [\\n                    pd.DataFrame(dataset[\\\"x_test\\\"], columns=x.columns),\\n                    dataset[\\\"y_test\\\"],\\n                ],\\n                axis=1,\\n            ).values,\\n            timesteps,\\n        )\\n    return dataset\";\n",
       "                var nbb_formatted_code = \"def generate_sequences(dataset, timesteps, split_by_cement_type=False):\\n    if split_by_cement_type:\\n        dataset[\\\"x_train\\\"], dataset[\\\"y_train\\\"] = split_sequences_per_cement_type(\\n            pd.concat(\\n                [\\n                    dataset[\\\"dates_train\\\"],\\n                    pd.DataFrame(dataset[\\\"x_train\\\"], columns=x.columns),\\n                    dataset[\\\"cement_types_train\\\"],\\n                    dataset[\\\"y_train\\\"],\\n                ],\\n                axis=1,\\n            ),\\n            timesteps,\\n        )\\n\\n        dataset[\\\"x_test\\\"], dataset[\\\"y_test\\\"] = split_sequences_per_cement_type(\\n            pd.concat(\\n                [\\n                    dataset[\\\"dates_test\\\"],\\n                    pd.DataFrame(dataset[\\\"x_test\\\"], columns=x.columns),\\n                    dataset[\\\"cement_types_test\\\"],\\n                    dataset[\\\"y_test\\\"],\\n                ],\\n                axis=1,\\n            ),\\n            timesteps,\\n        )\\n    else:\\n        dataset[\\\"x_train\\\"], dataset[\\\"y_train\\\"] = split_sequences(\\n            pd.concat(\\n                [\\n                    pd.DataFrame(dataset[\\\"x_train\\\"], columns=x.columns),\\n                    dataset[\\\"y_train\\\"],\\n                ],\\n                axis=1,\\n            ).values,\\n            timesteps,\\n        )\\n\\n        dataset[\\\"x_test\\\"], dataset[\\\"y_test\\\"] = split_sequences(\\n            pd.concat(\\n                [\\n                    pd.DataFrame(dataset[\\\"x_test\\\"], columns=x.columns),\\n                    dataset[\\\"y_test\\\"],\\n                ],\\n                axis=1,\\n            ).values,\\n            timesteps,\\n        )\\n    return dataset\";\n",
       "                var nbb_cells = Jupyter.notebook.get_cells();\n",
       "                for (var i = 0; i < nbb_cells.length; ++i) {\n",
       "                    if (nbb_cells[i].input_prompt_number == nbb_cell_id) {\n",
       "                        if (nbb_cells[i].get_text() == nbb_unformatted_code) {\n",
       "                             nbb_cells[i].set_text(nbb_formatted_code);\n",
       "                        }\n",
       "                        break;\n",
       "                    }\n",
       "                }\n",
       "            }, 500);\n",
       "            "
      ],
      "text/plain": [
       "<IPython.core.display.Javascript object>"
      ]
     },
     "metadata": {},
     "output_type": "display_data"
    }
   ],
   "source": [
    "def generate_sequences(dataset, timesteps, split_by_cement_type=False):\n",
    "    if split_by_cement_type:\n",
    "        dataset[\"x_train\"], dataset[\"y_train\"] = split_sequences_per_cement_type(\n",
    "            pd.concat(\n",
    "                [\n",
    "                    dataset[\"dates_train\"],\n",
    "                    pd.DataFrame(dataset[\"x_train\"], columns=x.columns),\n",
    "                    dataset[\"cement_types_train\"],\n",
    "                    dataset[\"y_train\"],\n",
    "                ],\n",
    "                axis=1,\n",
    "            ),\n",
    "            timesteps,\n",
    "        )\n",
    "\n",
    "        dataset[\"x_test\"], dataset[\"y_test\"] = split_sequences_per_cement_type(\n",
    "            pd.concat(\n",
    "                [\n",
    "                    dataset[\"dates_test\"],\n",
    "                    pd.DataFrame(dataset[\"x_test\"], columns=x.columns),\n",
    "                    dataset[\"cement_types_test\"],\n",
    "                    dataset[\"y_test\"],\n",
    "                ],\n",
    "                axis=1,\n",
    "            ),\n",
    "            timesteps,\n",
    "        )\n",
    "    else:\n",
    "        dataset[\"x_train\"], dataset[\"y_train\"] = split_sequences(\n",
    "            pd.concat(\n",
    "                [\n",
    "                    pd.DataFrame(dataset[\"x_train\"], columns=x.columns),\n",
    "                    dataset[\"y_train\"],\n",
    "                ],\n",
    "                axis=1,\n",
    "            ).values,\n",
    "            timesteps,\n",
    "        )\n",
    "\n",
    "        dataset[\"x_test\"], dataset[\"y_test\"] = split_sequences(\n",
    "            pd.concat(\n",
    "                [\n",
    "                    pd.DataFrame(dataset[\"x_test\"], columns=x.columns),\n",
    "                    dataset[\"y_test\"],\n",
    "                ],\n",
    "                axis=1,\n",
    "            ).values,\n",
    "            timesteps,\n",
    "        )\n",
    "    return dataset"
   ]
  },
  {
   "cell_type": "markdown",
   "metadata": {},
   "source": [
    "### Data preprocessing"
   ]
  },
  {
   "cell_type": "code",
   "execution_count": 5,
   "metadata": {},
   "outputs": [
    {
     "data": {
      "application/javascript": [
       "\n",
       "            setTimeout(function() {\n",
       "                var nbb_cell_id = 5;\n",
       "                var nbb_unformatted_code = \"def impute_data(dataset, imputer=None, imputer_params=None):\\n    x_train = dataset[\\\"x_train\\\"]\\n    x_test = dataset[\\\"x_test\\\"]\\n\\n    # Apply imputation to the data\\n    if imputer is not None:\\n        imputer = imputer() if imputer_params is None else imputer(**imputer_params)\\n        x_train = imputer.fit_transform(x_train)\\n        x_test = imputer.transform(x_test)\\n\\n    dataset[\\\"x_train\\\"] = x_train\\n    dataset[\\\"x_test\\\"] = x_test\\n\\n    return dataset\";\n",
       "                var nbb_formatted_code = \"def impute_data(dataset, imputer=None, imputer_params=None):\\n    x_train = dataset[\\\"x_train\\\"]\\n    x_test = dataset[\\\"x_test\\\"]\\n\\n    # Apply imputation to the data\\n    if imputer is not None:\\n        imputer = imputer() if imputer_params is None else imputer(**imputer_params)\\n        x_train = imputer.fit_transform(x_train)\\n        x_test = imputer.transform(x_test)\\n\\n    dataset[\\\"x_train\\\"] = x_train\\n    dataset[\\\"x_test\\\"] = x_test\\n\\n    return dataset\";\n",
       "                var nbb_cells = Jupyter.notebook.get_cells();\n",
       "                for (var i = 0; i < nbb_cells.length; ++i) {\n",
       "                    if (nbb_cells[i].input_prompt_number == nbb_cell_id) {\n",
       "                        if (nbb_cells[i].get_text() == nbb_unformatted_code) {\n",
       "                             nbb_cells[i].set_text(nbb_formatted_code);\n",
       "                        }\n",
       "                        break;\n",
       "                    }\n",
       "                }\n",
       "            }, 500);\n",
       "            "
      ],
      "text/plain": [
       "<IPython.core.display.Javascript object>"
      ]
     },
     "metadata": {},
     "output_type": "display_data"
    }
   ],
   "source": [
    "def impute_data(dataset, imputer=None, imputer_params=None):\n",
    "    x_train = dataset[\"x_train\"]\n",
    "    x_test = dataset[\"x_test\"]\n",
    "\n",
    "    # Apply imputation to the data\n",
    "    if imputer is not None:\n",
    "        imputer = imputer() if imputer_params is None else imputer(**imputer_params)\n",
    "        x_train = imputer.fit_transform(x_train)\n",
    "        x_test = imputer.transform(x_test)\n",
    "\n",
    "    dataset[\"x_train\"] = x_train\n",
    "    dataset[\"x_test\"] = x_test\n",
    "\n",
    "    return dataset"
   ]
  },
  {
   "cell_type": "code",
   "execution_count": 6,
   "metadata": {},
   "outputs": [
    {
     "data": {
      "application/javascript": [
       "\n",
       "            setTimeout(function() {\n",
       "                var nbb_cell_id = 6;\n",
       "                var nbb_unformatted_code = \"def transform_data(dataset, transformer=None):\\n    x_train = dataset[\\\"x_train\\\"]\\n    x_test = dataset[\\\"x_test\\\"]\\n\\n    # Apply data normalization/standardization to the data\\n    if transformer is not None:\\n        scaler = transformer()\\n        x_train = scaler.fit_transform(x_train)\\n        x_test = scaler.transform(x_test)\\n\\n    dataset[\\\"x_train\\\"] = x_train\\n    dataset[\\\"x_test\\\"] = x_test\\n\\n    return dataset\";\n",
       "                var nbb_formatted_code = \"def transform_data(dataset, transformer=None):\\n    x_train = dataset[\\\"x_train\\\"]\\n    x_test = dataset[\\\"x_test\\\"]\\n\\n    # Apply data normalization/standardization to the data\\n    if transformer is not None:\\n        scaler = transformer()\\n        x_train = scaler.fit_transform(x_train)\\n        x_test = scaler.transform(x_test)\\n\\n    dataset[\\\"x_train\\\"] = x_train\\n    dataset[\\\"x_test\\\"] = x_test\\n\\n    return dataset\";\n",
       "                var nbb_cells = Jupyter.notebook.get_cells();\n",
       "                for (var i = 0; i < nbb_cells.length; ++i) {\n",
       "                    if (nbb_cells[i].input_prompt_number == nbb_cell_id) {\n",
       "                        if (nbb_cells[i].get_text() == nbb_unformatted_code) {\n",
       "                             nbb_cells[i].set_text(nbb_formatted_code);\n",
       "                        }\n",
       "                        break;\n",
       "                    }\n",
       "                }\n",
       "            }, 500);\n",
       "            "
      ],
      "text/plain": [
       "<IPython.core.display.Javascript object>"
      ]
     },
     "metadata": {},
     "output_type": "display_data"
    }
   ],
   "source": [
    "def transform_data(dataset, transformer=None):\n",
    "    x_train = dataset[\"x_train\"]\n",
    "    x_test = dataset[\"x_test\"]\n",
    "\n",
    "    # Apply data normalization/standardization to the data\n",
    "    if transformer is not None:\n",
    "        scaler = transformer()\n",
    "        x_train = scaler.fit_transform(x_train)\n",
    "        x_test = scaler.transform(x_test)\n",
    "\n",
    "    dataset[\"x_train\"] = x_train\n",
    "    dataset[\"x_test\"] = x_test\n",
    "\n",
    "    return dataset"
   ]
  },
  {
   "cell_type": "code",
   "execution_count": 7,
   "metadata": {},
   "outputs": [
    {
     "data": {
      "application/javascript": [
       "\n",
       "            setTimeout(function() {\n",
       "                var nbb_cell_id = 7;\n",
       "                var nbb_unformatted_code = \"def preprocess_data(dataset, transformer=None, imputer=None, imputer_params=None):\\n    dataset = impute_data(dataset, imputer, imputer_params)\\n    dataset = transform_data(dataset, transformer)\\n    return dataset\";\n",
       "                var nbb_formatted_code = \"def preprocess_data(dataset, transformer=None, imputer=None, imputer_params=None):\\n    dataset = impute_data(dataset, imputer, imputer_params)\\n    dataset = transform_data(dataset, transformer)\\n    return dataset\";\n",
       "                var nbb_cells = Jupyter.notebook.get_cells();\n",
       "                for (var i = 0; i < nbb_cells.length; ++i) {\n",
       "                    if (nbb_cells[i].input_prompt_number == nbb_cell_id) {\n",
       "                        if (nbb_cells[i].get_text() == nbb_unformatted_code) {\n",
       "                             nbb_cells[i].set_text(nbb_formatted_code);\n",
       "                        }\n",
       "                        break;\n",
       "                    }\n",
       "                }\n",
       "            }, 500);\n",
       "            "
      ],
      "text/plain": [
       "<IPython.core.display.Javascript object>"
      ]
     },
     "metadata": {},
     "output_type": "display_data"
    }
   ],
   "source": [
    "def preprocess_data(dataset, transformer=None, imputer=None, imputer_params=None):\n",
    "    dataset = impute_data(dataset, imputer, imputer_params)\n",
    "    dataset = transform_data(dataset, transformer)\n",
    "    return dataset"
   ]
  },
  {
   "cell_type": "markdown",
   "metadata": {},
   "source": [
    "### Train and evaluate the model"
   ]
  },
  {
   "cell_type": "code",
   "execution_count": 8,
   "metadata": {},
   "outputs": [
    {
     "data": {
      "application/javascript": [
       "\n",
       "            setTimeout(function() {\n",
       "                var nbb_cell_id = 8;\n",
       "                var nbb_unformatted_code = \"def train_and_evaluate_model(Estimator, dataset, estimator_params=None):\\n    \\\"\\\"\\\"\\n    Purpose: Helper function to be used in conjunction with\\n    blocked time_series cross validation function\\n    \\\"\\\"\\\"\\n    x_train = dataset[\\\"x_train\\\"]\\n    y_train = dataset[\\\"y_train\\\"]\\n    x_test = dataset[\\\"x_test\\\"]\\n    y_test = dataset[\\\"y_test\\\"]\\n\\n    # Instantiate the model\\n    model = Estimator() if estimator_params is None else Estimator(estimator_params)\\n\\n    # Fitting the model\\n    model.fit(x_train, y_train)\\n\\n    # Making predictions on train/test sets\\n    y_train_pred = model.predict(x_train)\\n    y_test_pred = model.predict(x_test)\\n\\n    # Return regression metrics\\n    return score_regression_metrics(y_train, y_train_pred, y_test, y_test_pred)\";\n",
       "                var nbb_formatted_code = \"def train_and_evaluate_model(Estimator, dataset, estimator_params=None):\\n    \\\"\\\"\\\"\\n    Purpose: Helper function to be used in conjunction with\\n    blocked time_series cross validation function\\n    \\\"\\\"\\\"\\n    x_train = dataset[\\\"x_train\\\"]\\n    y_train = dataset[\\\"y_train\\\"]\\n    x_test = dataset[\\\"x_test\\\"]\\n    y_test = dataset[\\\"y_test\\\"]\\n\\n    # Instantiate the model\\n    model = Estimator() if estimator_params is None else Estimator(estimator_params)\\n\\n    # Fitting the model\\n    model.fit(x_train, y_train)\\n\\n    # Making predictions on train/test sets\\n    y_train_pred = model.predict(x_train)\\n    y_test_pred = model.predict(x_test)\\n\\n    # Return regression metrics\\n    return score_regression_metrics(y_train, y_train_pred, y_test, y_test_pred)\";\n",
       "                var nbb_cells = Jupyter.notebook.get_cells();\n",
       "                for (var i = 0; i < nbb_cells.length; ++i) {\n",
       "                    if (nbb_cells[i].input_prompt_number == nbb_cell_id) {\n",
       "                        if (nbb_cells[i].get_text() == nbb_unformatted_code) {\n",
       "                             nbb_cells[i].set_text(nbb_formatted_code);\n",
       "                        }\n",
       "                        break;\n",
       "                    }\n",
       "                }\n",
       "            }, 500);\n",
       "            "
      ],
      "text/plain": [
       "<IPython.core.display.Javascript object>"
      ]
     },
     "metadata": {},
     "output_type": "display_data"
    }
   ],
   "source": [
    "def train_and_evaluate_model(Estimator, dataset, estimator_params=None):\n",
    "    \"\"\"\n",
    "    Purpose: Helper function to be used in conjunction with\n",
    "    blocked time_series cross validation function\n",
    "    \"\"\"\n",
    "    x_train = dataset[\"x_train\"]\n",
    "    y_train = dataset[\"y_train\"]\n",
    "    x_test = dataset[\"x_test\"]\n",
    "    y_test = dataset[\"y_test\"]\n",
    "\n",
    "    # Instantiate the model\n",
    "    model = Estimator() if estimator_params is None else Estimator(estimator_params)\n",
    "\n",
    "    # Fitting the model\n",
    "    model.fit(x_train, y_train)\n",
    "\n",
    "    # Making predictions on train/test sets\n",
    "    y_train_pred = model.predict(x_train)\n",
    "    y_test_pred = model.predict(x_test)\n",
    "\n",
    "    # Return regression metrics\n",
    "    return score_regression_metrics(y_train, y_train_pred, y_test, y_test_pred)"
   ]
  },
  {
   "cell_type": "markdown",
   "metadata": {},
   "source": [
    "### Custom Cross Validate"
   ]
  },
  {
   "cell_type": "code",
   "execution_count": 9,
   "metadata": {},
   "outputs": [
    {
     "data": {
      "application/javascript": [
       "\n",
       "            setTimeout(function() {\n",
       "                var nbb_cell_id = 9;\n",
       "                var nbb_unformatted_code = \"def custom_cross_validate(\\n    Estimator,\\n    Imputer,\\n    Transform,\\n    x,\\n    y,\\n    cv,\\n    timesteps,\\n    dates=None,\\n    cement_types=None,\\n    estimator_params=None,\\n    imputer_params=None,\\n    split_by_cement_type=True,\\n):\\n    results = []\\n    scores = []\\n\\n    for train_index, test_index in cv.split(x):\\n        dataset = {\\n            \\\"dates_train\\\": dates[train_index].reset_index(drop=True),\\n            \\\"cement_types_train\\\": cement_types.loc[train_index].reset_index(drop=True),\\n            \\\"x_train\\\": x.loc[train_index].reset_index(drop=True),\\n            \\\"y_train\\\": y[train_index].reset_index(drop=True),\\n            \\\"dates_test\\\": dates[test_index].reset_index(drop=True),\\n            \\\"cement_types_test\\\": cement_types.loc[test_index].reset_index(drop=True),\\n            \\\"x_test\\\": x.loc[test_index].reset_index(drop=True),\\n            \\\"y_test\\\": y[test_index].reset_index(drop=True),\\n        }\\n\\n        # Preprocess the dataset\\n        dataset = preprocess_data(dataset, Transform, Imputer, imputer_params)\\n\\n        # generate sequences (3D format)\\n        dataset = generate_sequences(dataset, timesteps, split_by_cement_type)\\n\\n        # Train and Evaluate the model\\n        score = train_and_evaluate_model(Estimator, dataset, estimator_params)\\n        scores.append(score)\\n\\n    # After every iteration metrics results are appended together\\n    scores_final = {key: [] for key, _ in scores[0].items()}\\n    for scores_dict in scores:\\n        for key, value in scores_dict.items():\\n            scores_final[key] += [value]\\n    results.append(scores_final)\\n    return results\";\n",
       "                var nbb_formatted_code = \"def custom_cross_validate(\\n    Estimator,\\n    Imputer,\\n    Transform,\\n    x,\\n    y,\\n    cv,\\n    timesteps,\\n    dates=None,\\n    cement_types=None,\\n    estimator_params=None,\\n    imputer_params=None,\\n    split_by_cement_type=True,\\n):\\n    results = []\\n    scores = []\\n\\n    for train_index, test_index in cv.split(x):\\n        dataset = {\\n            \\\"dates_train\\\": dates[train_index].reset_index(drop=True),\\n            \\\"cement_types_train\\\": cement_types.loc[train_index].reset_index(drop=True),\\n            \\\"x_train\\\": x.loc[train_index].reset_index(drop=True),\\n            \\\"y_train\\\": y[train_index].reset_index(drop=True),\\n            \\\"dates_test\\\": dates[test_index].reset_index(drop=True),\\n            \\\"cement_types_test\\\": cement_types.loc[test_index].reset_index(drop=True),\\n            \\\"x_test\\\": x.loc[test_index].reset_index(drop=True),\\n            \\\"y_test\\\": y[test_index].reset_index(drop=True),\\n        }\\n\\n        # Preprocess the dataset\\n        dataset = preprocess_data(dataset, Transform, Imputer, imputer_params)\\n\\n        # generate sequences (3D format)\\n        dataset = generate_sequences(dataset, timesteps, split_by_cement_type)\\n\\n        # Train and Evaluate the model\\n        score = train_and_evaluate_model(Estimator, dataset, estimator_params)\\n        scores.append(score)\\n\\n    # After every iteration metrics results are appended together\\n    scores_final = {key: [] for key, _ in scores[0].items()}\\n    for scores_dict in scores:\\n        for key, value in scores_dict.items():\\n            scores_final[key] += [value]\\n    results.append(scores_final)\\n    return results\";\n",
       "                var nbb_cells = Jupyter.notebook.get_cells();\n",
       "                for (var i = 0; i < nbb_cells.length; ++i) {\n",
       "                    if (nbb_cells[i].input_prompt_number == nbb_cell_id) {\n",
       "                        if (nbb_cells[i].get_text() == nbb_unformatted_code) {\n",
       "                             nbb_cells[i].set_text(nbb_formatted_code);\n",
       "                        }\n",
       "                        break;\n",
       "                    }\n",
       "                }\n",
       "            }, 500);\n",
       "            "
      ],
      "text/plain": [
       "<IPython.core.display.Javascript object>"
      ]
     },
     "metadata": {},
     "output_type": "display_data"
    }
   ],
   "source": [
    "def custom_cross_validate(\n",
    "    Estimator,\n",
    "    Imputer,\n",
    "    Transform,\n",
    "    x,\n",
    "    y,\n",
    "    cv,\n",
    "    timesteps,\n",
    "    dates=None,\n",
    "    cement_types=None,\n",
    "    estimator_params=None,\n",
    "    imputer_params=None,\n",
    "    split_by_cement_type=True,\n",
    "):\n",
    "    results = []\n",
    "    scores = []\n",
    "\n",
    "    for train_index, test_index in cv.split(x):\n",
    "        dataset = {\n",
    "            \"dates_train\": dates[train_index].reset_index(drop=True),\n",
    "            \"cement_types_train\": cement_types.loc[train_index].reset_index(drop=True),\n",
    "            \"x_train\": x.loc[train_index].reset_index(drop=True),\n",
    "            \"y_train\": y[train_index].reset_index(drop=True),\n",
    "            \"dates_test\": dates[test_index].reset_index(drop=True),\n",
    "            \"cement_types_test\": cement_types.loc[test_index].reset_index(drop=True),\n",
    "            \"x_test\": x.loc[test_index].reset_index(drop=True),\n",
    "            \"y_test\": y[test_index].reset_index(drop=True),\n",
    "        }\n",
    "\n",
    "        # Preprocess the dataset\n",
    "        dataset = preprocess_data(dataset, Transform, Imputer, imputer_params)\n",
    "\n",
    "        # generate sequences (3D format)\n",
    "        dataset = generate_sequences(dataset, timesteps, split_by_cement_type)\n",
    "\n",
    "        # Train and Evaluate the model\n",
    "        score = train_and_evaluate_model(Estimator, dataset, estimator_params)\n",
    "        scores.append(score)\n",
    "\n",
    "    # After every iteration metrics results are appended together\n",
    "    scores_final = {key: [] for key, _ in scores[0].items()}\n",
    "    for scores_dict in scores:\n",
    "        for key, value in scores_dict.items():\n",
    "            scores_final[key] += [value]\n",
    "    results.append(scores_final)\n",
    "    return results"
   ]
  },
  {
   "cell_type": "markdown",
   "metadata": {},
   "source": [
    "## Model Definition"
   ]
  },
  {
   "cell_type": "code",
   "execution_count": 10,
   "metadata": {
    "execution": {
     "iopub.execute_input": "2022-10-01T19:37:42.749732Z",
     "iopub.status.busy": "2022-10-01T19:37:42.749341Z",
     "iopub.status.idle": "2022-10-01T19:37:42.761491Z",
     "shell.execute_reply": "2022-10-01T19:37:42.760656Z",
     "shell.execute_reply.started": "2022-10-01T19:37:42.749695Z"
    }
   },
   "outputs": [
    {
     "data": {
      "application/javascript": [
       "\n",
       "            setTimeout(function() {\n",
       "                var nbb_cell_id = 10;\n",
       "                var nbb_unformatted_code = \"class TransformerWrapper(RegressorMixin):\\n    def __init__(self, params):\\n        self.params = params\\n        self.model = self.get_model()\\n        self.batch_size = self.params.get(\\\"batch_size\\\", 16)\\n        self.epochs = self.params.get(\\\"epochs\\\", 300)\\n        self.verbose = self.params.get(\\\"verbose\\\", 0)\\n        self.callbacks = self.params.get(\\\"callbacks\\\", None)\\n        self.validation_split = self.params.get(\\\"validation_split\\\", 0.0)\\n        self.num_features = self.params.get(\\\"num_features\\\", x.shape[-1])\\n\\n    def fit(self, X=None, y=None):\\n        self.history = self.model.fit(\\n            X,\\n            y,\\n            batch_size=self.batch_size,\\n            epochs=self.epochs,\\n            verbose=self.verbose,\\n            callbacks=self.callbacks,\\n            validation_split=self.validation_split,\\n        )\\n\\n    def predict(self, X=None):\\n        return self.model.predict(X, verbose=self.verbose)\\n\\n    def get_model(self):\\n        model = Transformer(\\n            num_hid=self.params[\\\"num_features\\\"],\\n            time_steps=self.params[\\\"timesteps\\\"],\\n            num_head=self.params[\\\"num_heads\\\"],\\n            num_layers_enc=self.params[\\\"num_layers_enc\\\"],\\n            num_feed_forward=self.params[\\\"num_feed_forward\\\"],\\n            dropout_rate=self.params.get(\\\"dropout_rate\\\", 0.1),\\n            activation=self.params.get(\\\"activation\\\", \\\"relu\\\"),\\n        )\\n        model.compile(\\n            tf.keras.optimizers.Adam(learning_rate=0.001),\\n            loss=\\\"mse\\\",\\n            metrics=[tf.keras.metrics.RootMeanSquaredError(name=\\\"RMSE\\\")],\\n        )\\n        return model\";\n",
       "                var nbb_formatted_code = \"class TransformerWrapper(RegressorMixin):\\n    def __init__(self, params):\\n        self.params = params\\n        self.model = self.get_model()\\n        self.batch_size = self.params.get(\\\"batch_size\\\", 16)\\n        self.epochs = self.params.get(\\\"epochs\\\", 300)\\n        self.verbose = self.params.get(\\\"verbose\\\", 0)\\n        self.callbacks = self.params.get(\\\"callbacks\\\", None)\\n        self.validation_split = self.params.get(\\\"validation_split\\\", 0.0)\\n        self.num_features = self.params.get(\\\"num_features\\\", x.shape[-1])\\n\\n    def fit(self, X=None, y=None):\\n        self.history = self.model.fit(\\n            X,\\n            y,\\n            batch_size=self.batch_size,\\n            epochs=self.epochs,\\n            verbose=self.verbose,\\n            callbacks=self.callbacks,\\n            validation_split=self.validation_split,\\n        )\\n\\n    def predict(self, X=None):\\n        return self.model.predict(X, verbose=self.verbose)\\n\\n    def get_model(self):\\n        model = Transformer(\\n            num_hid=self.params[\\\"num_features\\\"],\\n            time_steps=self.params[\\\"timesteps\\\"],\\n            num_head=self.params[\\\"num_heads\\\"],\\n            num_layers_enc=self.params[\\\"num_layers_enc\\\"],\\n            num_feed_forward=self.params[\\\"num_feed_forward\\\"],\\n            dropout_rate=self.params.get(\\\"dropout_rate\\\", 0.1),\\n            activation=self.params.get(\\\"activation\\\", \\\"relu\\\"),\\n        )\\n        model.compile(\\n            tf.keras.optimizers.Adam(learning_rate=0.001),\\n            loss=\\\"mse\\\",\\n            metrics=[tf.keras.metrics.RootMeanSquaredError(name=\\\"RMSE\\\")],\\n        )\\n        return model\";\n",
       "                var nbb_cells = Jupyter.notebook.get_cells();\n",
       "                for (var i = 0; i < nbb_cells.length; ++i) {\n",
       "                    if (nbb_cells[i].input_prompt_number == nbb_cell_id) {\n",
       "                        if (nbb_cells[i].get_text() == nbb_unformatted_code) {\n",
       "                             nbb_cells[i].set_text(nbb_formatted_code);\n",
       "                        }\n",
       "                        break;\n",
       "                    }\n",
       "                }\n",
       "            }, 500);\n",
       "            "
      ],
      "text/plain": [
       "<IPython.core.display.Javascript object>"
      ]
     },
     "metadata": {},
     "output_type": "display_data"
    }
   ],
   "source": [
    "class TransformerWrapper(RegressorMixin):\n",
    "    def __init__(self, params):\n",
    "        self.params = params\n",
    "        self.model = self.get_model()\n",
    "        self.batch_size = self.params.get(\"batch_size\", 16)\n",
    "        self.epochs = self.params.get(\"epochs\", 300)\n",
    "        self.verbose = self.params.get(\"verbose\", 0)\n",
    "        self.callbacks = self.params.get(\"callbacks\", None)\n",
    "        self.validation_split = self.params.get(\"validation_split\", 0.0)\n",
    "        self.num_features = self.params.get(\"num_features\", x.shape[-1])\n",
    "\n",
    "    def fit(self, X=None, y=None):\n",
    "        self.history = self.model.fit(\n",
    "            X,\n",
    "            y,\n",
    "            batch_size=self.batch_size,\n",
    "            epochs=self.epochs,\n",
    "            verbose=self.verbose,\n",
    "            callbacks=self.callbacks,\n",
    "            validation_split=self.validation_split,\n",
    "        )\n",
    "\n",
    "    def predict(self, X=None):\n",
    "        return self.model.predict(X, verbose=self.verbose)\n",
    "\n",
    "    def get_model(self):\n",
    "        model = Transformer(\n",
    "            num_hid=self.params[\"num_features\"],\n",
    "            time_steps=self.params[\"timesteps\"],\n",
    "            num_head=self.params[\"num_heads\"],\n",
    "            num_layers_enc=self.params[\"num_layers_enc\"],\n",
    "            num_feed_forward=self.params[\"num_feed_forward\"],\n",
    "            dropout_rate=self.params.get(\"dropout_rate\", 0.1),\n",
    "            activation=self.params.get(\"activation\", \"relu\"),\n",
    "        )\n",
    "        model.compile(\n",
    "            tf.keras.optimizers.Adam(learning_rate=0.001),\n",
    "            loss=\"mse\",\n",
    "            metrics=[tf.keras.metrics.RootMeanSquaredError(name=\"RMSE\")],\n",
    "        )\n",
    "        return model"
   ]
  },
  {
   "cell_type": "code",
   "execution_count": 11,
   "metadata": {},
   "outputs": [
    {
     "data": {
      "application/javascript": [
       "\n",
       "            setTimeout(function() {\n",
       "                var nbb_cell_id = 11;\n",
       "                var nbb_unformatted_code = \"def pad_time_series(dataframe, timesteps):\\n    \\\"\\\"\\\"\\n    Pad timeseries with zeros\\n    \\\"\\\"\\\"\\n    df_tmp = pd.DataFrame(\\n        dict(\\n            zip(\\n                dataframe.columns,\\n                [[0 for _ in range(timesteps - 1)] for _ in range(dataframe.shape[1])],\\n            )\\n        )\\n    )\\n    df_tmp[DATE] = dataframe[DATE].iloc[0]\\n    return pd.concat([df_tmp, dataframe], axis=0).reset_index(drop=True)\";\n",
       "                var nbb_formatted_code = \"def pad_time_series(dataframe, timesteps):\\n    \\\"\\\"\\\"\\n    Pad timeseries with zeros\\n    \\\"\\\"\\\"\\n    df_tmp = pd.DataFrame(\\n        dict(\\n            zip(\\n                dataframe.columns,\\n                [[0 for _ in range(timesteps - 1)] for _ in range(dataframe.shape[1])],\\n            )\\n        )\\n    )\\n    df_tmp[DATE] = dataframe[DATE].iloc[0]\\n    return pd.concat([df_tmp, dataframe], axis=0).reset_index(drop=True)\";\n",
       "                var nbb_cells = Jupyter.notebook.get_cells();\n",
       "                for (var i = 0; i < nbb_cells.length; ++i) {\n",
       "                    if (nbb_cells[i].input_prompt_number == nbb_cell_id) {\n",
       "                        if (nbb_cells[i].get_text() == nbb_unformatted_code) {\n",
       "                             nbb_cells[i].set_text(nbb_formatted_code);\n",
       "                        }\n",
       "                        break;\n",
       "                    }\n",
       "                }\n",
       "            }, 500);\n",
       "            "
      ],
      "text/plain": [
       "<IPython.core.display.Javascript object>"
      ]
     },
     "metadata": {},
     "output_type": "display_data"
    }
   ],
   "source": [
    "def pad_time_series(dataframe, timesteps):\n",
    "    \"\"\"\n",
    "    Pad timeseries with zeros\n",
    "    \"\"\"\n",
    "    df_tmp = pd.DataFrame(\n",
    "        dict(\n",
    "            zip(\n",
    "                dataframe.columns,\n",
    "                [[0 for _ in range(timesteps - 1)] for _ in range(dataframe.shape[1])],\n",
    "            )\n",
    "        )\n",
    "    )\n",
    "    df_tmp[DATE] = dataframe[DATE].iloc[0]\n",
    "    return pd.concat([df_tmp, dataframe], axis=0).reset_index(drop=True)"
   ]
  },
  {
   "cell_type": "code",
   "execution_count": 12,
   "metadata": {},
   "outputs": [
    {
     "data": {
      "application/javascript": [
       "\n",
       "            setTimeout(function() {\n",
       "                var nbb_cell_id = 12;\n",
       "                var nbb_unformatted_code = \"def split_sequences_per_cement_type(dataframe, timesteps, pad=False):\\n    \\\"\\\"\\\"\\n    Create sequences per cement time\\n    to avoid having parts of the sequence\\n    of different types of cement.\\n    \\\"\\\"\\\"\\n    if timesteps == 1:\\n        return split_sequences(\\n            dataframe.drop([DATE] + CEMENT_TYPES, axis=1).values, timesteps\\n        )\\n\\n    dates = dataframe[DATE][timesteps - 1 :]\\n    data = []\\n    dataframes = []\\n\\n    for cement_type in CEMENT_TYPES:\\n        data.append(dataframe[dataframe[cement_type] == 1])\\n    data.append(dataframe[(dataframe[CEMENT_TYPES] == 0).all(axis=1)])\\n\\n    for df in data:\\n        if pad:\\n            dates = df[DATE].reset_index(drop=True)\\n            df = pad_time_series(df, timesteps).reset_index(drop=True)\\n        else:\\n            dates = df[DATE][timesteps - 1 :].reset_index(drop=True)\\n        x, y = split_sequences(df.drop([DATE] + CEMENT_TYPES, axis=1).values, timesteps)\\n        x = pd.DataFrame({\\\"Sequences\\\": [sample.tolist() for sample in x]})\\n        y = pd.DataFrame({\\\"Target\\\": y})\\n        dataframes.append(pd.concat([dates, x, y], axis=1))\\n\\n    data = pd.concat(dataframes, axis=0)\\n    data[DATE] = pd.to_datetime(data[DATE])\\n    data = data.sort_values(by=DATE).reset_index(drop=True)\\n    x = data[\\\"Sequences\\\"]\\n    y = data[\\\"Target\\\"].values\\n    x = np.array(x.tolist())\\n\\n    return x, y\";\n",
       "                var nbb_formatted_code = \"def split_sequences_per_cement_type(dataframe, timesteps, pad=False):\\n    \\\"\\\"\\\"\\n    Create sequences per cement time\\n    to avoid having parts of the sequence\\n    of different types of cement.\\n    \\\"\\\"\\\"\\n    if timesteps == 1:\\n        return split_sequences(\\n            dataframe.drop([DATE] + CEMENT_TYPES, axis=1).values, timesteps\\n        )\\n\\n    dates = dataframe[DATE][timesteps - 1 :]\\n    data = []\\n    dataframes = []\\n\\n    for cement_type in CEMENT_TYPES:\\n        data.append(dataframe[dataframe[cement_type] == 1])\\n    data.append(dataframe[(dataframe[CEMENT_TYPES] == 0).all(axis=1)])\\n\\n    for df in data:\\n        if pad:\\n            dates = df[DATE].reset_index(drop=True)\\n            df = pad_time_series(df, timesteps).reset_index(drop=True)\\n        else:\\n            dates = df[DATE][timesteps - 1 :].reset_index(drop=True)\\n        x, y = split_sequences(df.drop([DATE] + CEMENT_TYPES, axis=1).values, timesteps)\\n        x = pd.DataFrame({\\\"Sequences\\\": [sample.tolist() for sample in x]})\\n        y = pd.DataFrame({\\\"Target\\\": y})\\n        dataframes.append(pd.concat([dates, x, y], axis=1))\\n\\n    data = pd.concat(dataframes, axis=0)\\n    data[DATE] = pd.to_datetime(data[DATE])\\n    data = data.sort_values(by=DATE).reset_index(drop=True)\\n    x = data[\\\"Sequences\\\"]\\n    y = data[\\\"Target\\\"].values\\n    x = np.array(x.tolist())\\n\\n    return x, y\";\n",
       "                var nbb_cells = Jupyter.notebook.get_cells();\n",
       "                for (var i = 0; i < nbb_cells.length; ++i) {\n",
       "                    if (nbb_cells[i].input_prompt_number == nbb_cell_id) {\n",
       "                        if (nbb_cells[i].get_text() == nbb_unformatted_code) {\n",
       "                             nbb_cells[i].set_text(nbb_formatted_code);\n",
       "                        }\n",
       "                        break;\n",
       "                    }\n",
       "                }\n",
       "            }, 500);\n",
       "            "
      ],
      "text/plain": [
       "<IPython.core.display.Javascript object>"
      ]
     },
     "metadata": {},
     "output_type": "display_data"
    }
   ],
   "source": [
    "def split_sequences_per_cement_type(dataframe, timesteps, pad=False):\n",
    "    \"\"\"\n",
    "    Create sequences per cement time\n",
    "    to avoid having parts of the sequence\n",
    "    of different types of cement.\n",
    "    \"\"\"\n",
    "    if timesteps == 1:\n",
    "        return split_sequences(\n",
    "            dataframe.drop([DATE] + CEMENT_TYPES, axis=1).values, timesteps\n",
    "        )\n",
    "\n",
    "    dates = dataframe[DATE][timesteps - 1 :]\n",
    "    data = []\n",
    "    dataframes = []\n",
    "\n",
    "    for cement_type in CEMENT_TYPES:\n",
    "        data.append(dataframe[dataframe[cement_type] == 1])\n",
    "    data.append(dataframe[(dataframe[CEMENT_TYPES] == 0).all(axis=1)])\n",
    "\n",
    "    for df in data:\n",
    "        if pad:\n",
    "            dates = df[DATE].reset_index(drop=True)\n",
    "            df = pad_time_series(df, timesteps).reset_index(drop=True)\n",
    "        else:\n",
    "            dates = df[DATE][timesteps - 1 :].reset_index(drop=True)\n",
    "        x, y = split_sequences(df.drop([DATE] + CEMENT_TYPES, axis=1).values, timesteps)\n",
    "        x = pd.DataFrame({\"Sequences\": [sample.tolist() for sample in x]})\n",
    "        y = pd.DataFrame({\"Target\": y})\n",
    "        dataframes.append(pd.concat([dates, x, y], axis=1))\n",
    "\n",
    "    data = pd.concat(dataframes, axis=0)\n",
    "    data[DATE] = pd.to_datetime(data[DATE])\n",
    "    data = data.sort_values(by=DATE).reset_index(drop=True)\n",
    "    x = data[\"Sequences\"]\n",
    "    y = data[\"Target\"].values\n",
    "    x = np.array(x.tolist())\n",
    "\n",
    "    return x, y"
   ]
  },
  {
   "cell_type": "markdown",
   "metadata": {},
   "source": [
    "# Settings for Reproducibility"
   ]
  },
  {
   "cell_type": "code",
   "execution_count": 13,
   "metadata": {
    "execution": {
     "iopub.execute_input": "2022-10-01T19:37:42.775919Z",
     "iopub.status.busy": "2022-10-01T19:37:42.775308Z",
     "iopub.status.idle": "2022-10-01T19:37:42.788396Z",
     "shell.execute_reply": "2022-10-01T19:37:42.787455Z",
     "shell.execute_reply.started": "2022-10-01T19:37:42.775885Z"
    }
   },
   "outputs": [
    {
     "data": {
      "application/javascript": [
       "\n",
       "            setTimeout(function() {\n",
       "                var nbb_cell_id = 13;\n",
       "                var nbb_unformatted_code = \"def set_seeds():\\n    os.environ[\\\"CUDA_VISIBLE_DEVICES\\\"] = \\\"\\\"\\n    os.environ[\\\"PYTHONHASHSEED\\\"] = str(SEED)\\n    tf.random.set_seed(SEED)\\n    np.random.seed(SEED)\\n    random.seed(SEED)\\n\\n\\n# https://stackoverflow.com/questions/36288235/how-to-get-stable-results-with-tensorflow-setting-random-seed\";\n",
       "                var nbb_formatted_code = \"def set_seeds():\\n    os.environ[\\\"CUDA_VISIBLE_DEVICES\\\"] = \\\"\\\"\\n    os.environ[\\\"PYTHONHASHSEED\\\"] = str(SEED)\\n    tf.random.set_seed(SEED)\\n    np.random.seed(SEED)\\n    random.seed(SEED)\\n\\n\\n# https://stackoverflow.com/questions/36288235/how-to-get-stable-results-with-tensorflow-setting-random-seed\";\n",
       "                var nbb_cells = Jupyter.notebook.get_cells();\n",
       "                for (var i = 0; i < nbb_cells.length; ++i) {\n",
       "                    if (nbb_cells[i].input_prompt_number == nbb_cell_id) {\n",
       "                        if (nbb_cells[i].get_text() == nbb_unformatted_code) {\n",
       "                             nbb_cells[i].set_text(nbb_formatted_code);\n",
       "                        }\n",
       "                        break;\n",
       "                    }\n",
       "                }\n",
       "            }, 500);\n",
       "            "
      ],
      "text/plain": [
       "<IPython.core.display.Javascript object>"
      ]
     },
     "metadata": {},
     "output_type": "display_data"
    }
   ],
   "source": [
    "def set_seeds():\n",
    "    os.environ[\"CUDA_VISIBLE_DEVICES\"] = \"\"\n",
    "    os.environ[\"PYTHONHASHSEED\"] = str(SEED)\n",
    "    tf.random.set_seed(SEED)\n",
    "    np.random.seed(SEED)\n",
    "    random.seed(SEED)\n",
    "\n",
    "\n",
    "# https://stackoverflow.com/questions/36288235/how-to-get-stable-results-with-tensorflow-setting-random-seed"
   ]
  },
  {
   "cell_type": "code",
   "execution_count": 14,
   "metadata": {
    "execution": {
     "iopub.execute_input": "2022-10-01T19:37:42.791965Z",
     "iopub.status.busy": "2022-10-01T19:37:42.791690Z",
     "iopub.status.idle": "2022-10-01T19:37:42.798718Z",
     "shell.execute_reply": "2022-10-01T19:37:42.797787Z",
     "shell.execute_reply.started": "2022-10-01T19:37:42.791920Z"
    }
   },
   "outputs": [
    {
     "data": {
      "application/javascript": [
       "\n",
       "            setTimeout(function() {\n",
       "                var nbb_cell_id = 14;\n",
       "                var nbb_unformatted_code = \"def set_global_determinism():\\n    set_seeds(seed=SEED)\\n\\n    os.environ[\\\"TF_DETERMINISTIC_OPS\\\"] = \\\"1\\\"\\n    os.environ[\\\"TF_CUDNN_DETERMINISTIC\\\"] = \\\"1\\\"\\n\\n    tf.config.threading.set_inter_op_parallelism_threads(1)\\n    tf.config.threading.set_intra_op_parallelism_threads(1)\";\n",
       "                var nbb_formatted_code = \"def set_global_determinism():\\n    set_seeds(seed=SEED)\\n\\n    os.environ[\\\"TF_DETERMINISTIC_OPS\\\"] = \\\"1\\\"\\n    os.environ[\\\"TF_CUDNN_DETERMINISTIC\\\"] = \\\"1\\\"\\n\\n    tf.config.threading.set_inter_op_parallelism_threads(1)\\n    tf.config.threading.set_intra_op_parallelism_threads(1)\";\n",
       "                var nbb_cells = Jupyter.notebook.get_cells();\n",
       "                for (var i = 0; i < nbb_cells.length; ++i) {\n",
       "                    if (nbb_cells[i].input_prompt_number == nbb_cell_id) {\n",
       "                        if (nbb_cells[i].get_text() == nbb_unformatted_code) {\n",
       "                             nbb_cells[i].set_text(nbb_formatted_code);\n",
       "                        }\n",
       "                        break;\n",
       "                    }\n",
       "                }\n",
       "            }, 500);\n",
       "            "
      ],
      "text/plain": [
       "<IPython.core.display.Javascript object>"
      ]
     },
     "metadata": {},
     "output_type": "display_data"
    }
   ],
   "source": [
    "def set_global_determinism():\n",
    "    set_seeds(seed=SEED)\n",
    "\n",
    "    os.environ[\"TF_DETERMINISTIC_OPS\"] = \"1\"\n",
    "    os.environ[\"TF_CUDNN_DETERMINISTIC\"] = \"1\"\n",
    "\n",
    "    tf.config.threading.set_inter_op_parallelism_threads(1)\n",
    "    tf.config.threading.set_intra_op_parallelism_threads(1)"
   ]
  },
  {
   "cell_type": "code",
   "execution_count": 15,
   "metadata": {},
   "outputs": [
    {
     "data": {
      "application/javascript": [
       "\n",
       "            setTimeout(function() {\n",
       "                var nbb_cell_id = 15;\n",
       "                var nbb_unformatted_code = \"index_to_save = 2\\nmodel_index = 1\";\n",
       "                var nbb_formatted_code = \"index_to_save = 2\\nmodel_index = 1\";\n",
       "                var nbb_cells = Jupyter.notebook.get_cells();\n",
       "                for (var i = 0; i < nbb_cells.length; ++i) {\n",
       "                    if (nbb_cells[i].input_prompt_number == nbb_cell_id) {\n",
       "                        if (nbb_cells[i].get_text() == nbb_unformatted_code) {\n",
       "                             nbb_cells[i].set_text(nbb_formatted_code);\n",
       "                        }\n",
       "                        break;\n",
       "                    }\n",
       "                }\n",
       "            }, 500);\n",
       "            "
      ],
      "text/plain": [
       "<IPython.core.display.Javascript object>"
      ]
     },
     "metadata": {},
     "output_type": "display_data"
    }
   ],
   "source": [
    "index_to_save = 2\n",
    "model_index = 1"
   ]
  },
  {
   "cell_type": "code",
   "execution_count": 16,
   "metadata": {
    "execution": {
     "iopub.execute_input": "2022-10-01T19:37:42.801733Z",
     "iopub.status.busy": "2022-10-01T19:37:42.799988Z",
     "iopub.status.idle": "2022-10-01T19:37:42.809646Z",
     "shell.execute_reply": "2022-10-01T19:37:42.808739Z",
     "shell.execute_reply.started": "2022-10-01T19:37:42.801698Z"
    }
   },
   "outputs": [
    {
     "data": {
      "application/javascript": [
       "\n",
       "            setTimeout(function() {\n",
       "                var nbb_cell_id = 16;\n",
       "                var nbb_unformatted_code = \"SEED = 47\\nMETRICS = (\\n    \\\"neg_root_mean_squared_error\\\",\\n    \\\"neg_mean_absolute_error\\\",\\n    \\\"neg_mean_absolute_percentage_error\\\",\\n    \\\"r2\\\",\\n)\\nMETRICS_DICT = {\\n    \\\"neg_root_mean_squared_error\\\": \\\"RMSE\\\",\\n    \\\"neg_mean_absolute_error\\\": \\\"MAE\\\",\\n    \\\"neg_mean_absolute_percentage_error\\\": \\\"MAPE\\\",\\n    \\\"r2\\\": \\\"R2\\\",\\n}\\nDATE = \\\"Date\\\"\\nCEMENT_TYPES = [\\n    \\\"Cement_Type_CP I-S-40\\\",\\n    \\\"Cement_Type_CP II-E-32\\\",\\n    \\\"Cement_Type_CP II-E-40\\\",\\n    \\\"Cement_Type_CP II-F-32\\\",\\n    \\\"Cement_Type_CP II-F-40\\\",\\n    \\\"Cement_Type_CP II-Z-32\\\",\\n    \\\"Cement_Type_CP II-Z-40\\\",\\n    \\\"Cement_Type_CP III-32\\\",\\n    \\\"Cement_Type_CP III-32 RS\\\",\\n    \\\"Cement_Type_CP III-40\\\",\\n    \\\"Cement_Type_CP III-40 RS\\\",\\n    \\\"Cement_Type_CP IV-32\\\",\\n    \\\"Cement_Type_CP IV-32 RS\\\",\\n    \\\"Cement_Type_CP V-ARI\\\",\\n    \\\"Cement_Type_CP V-ARI RS\\\",\\n    \\\"Cement_Type_Fibrocimento\\\",\\n    # \\\"Cement_Type_Type I-II\\\",\\n    # \\\"Cement_Type_Type III\\\",\\n    # \\\"Cement_Type_Type IL\\\",\\n    \\\"Cement_Type_CP I-40\\\",\\n]\";\n",
       "                var nbb_formatted_code = \"SEED = 47\\nMETRICS = (\\n    \\\"neg_root_mean_squared_error\\\",\\n    \\\"neg_mean_absolute_error\\\",\\n    \\\"neg_mean_absolute_percentage_error\\\",\\n    \\\"r2\\\",\\n)\\nMETRICS_DICT = {\\n    \\\"neg_root_mean_squared_error\\\": \\\"RMSE\\\",\\n    \\\"neg_mean_absolute_error\\\": \\\"MAE\\\",\\n    \\\"neg_mean_absolute_percentage_error\\\": \\\"MAPE\\\",\\n    \\\"r2\\\": \\\"R2\\\",\\n}\\nDATE = \\\"Date\\\"\\nCEMENT_TYPES = [\\n    \\\"Cement_Type_CP I-S-40\\\",\\n    \\\"Cement_Type_CP II-E-32\\\",\\n    \\\"Cement_Type_CP II-E-40\\\",\\n    \\\"Cement_Type_CP II-F-32\\\",\\n    \\\"Cement_Type_CP II-F-40\\\",\\n    \\\"Cement_Type_CP II-Z-32\\\",\\n    \\\"Cement_Type_CP II-Z-40\\\",\\n    \\\"Cement_Type_CP III-32\\\",\\n    \\\"Cement_Type_CP III-32 RS\\\",\\n    \\\"Cement_Type_CP III-40\\\",\\n    \\\"Cement_Type_CP III-40 RS\\\",\\n    \\\"Cement_Type_CP IV-32\\\",\\n    \\\"Cement_Type_CP IV-32 RS\\\",\\n    \\\"Cement_Type_CP V-ARI\\\",\\n    \\\"Cement_Type_CP V-ARI RS\\\",\\n    \\\"Cement_Type_Fibrocimento\\\",\\n    # \\\"Cement_Type_Type I-II\\\",\\n    # \\\"Cement_Type_Type III\\\",\\n    # \\\"Cement_Type_Type IL\\\",\\n    \\\"Cement_Type_CP I-40\\\",\\n]\";\n",
       "                var nbb_cells = Jupyter.notebook.get_cells();\n",
       "                for (var i = 0; i < nbb_cells.length; ++i) {\n",
       "                    if (nbb_cells[i].input_prompt_number == nbb_cell_id) {\n",
       "                        if (nbb_cells[i].get_text() == nbb_unformatted_code) {\n",
       "                             nbb_cells[i].set_text(nbb_formatted_code);\n",
       "                        }\n",
       "                        break;\n",
       "                    }\n",
       "                }\n",
       "            }, 500);\n",
       "            "
      ],
      "text/plain": [
       "<IPython.core.display.Javascript object>"
      ]
     },
     "metadata": {},
     "output_type": "display_data"
    }
   ],
   "source": [
    "SEED = 47\n",
    "METRICS = (\n",
    "    \"neg_root_mean_squared_error\",\n",
    "    \"neg_mean_absolute_error\",\n",
    "    \"neg_mean_absolute_percentage_error\",\n",
    "    \"r2\",\n",
    ")\n",
    "METRICS_DICT = {\n",
    "    \"neg_root_mean_squared_error\": \"RMSE\",\n",
    "    \"neg_mean_absolute_error\": \"MAE\",\n",
    "    \"neg_mean_absolute_percentage_error\": \"MAPE\",\n",
    "    \"r2\": \"R2\",\n",
    "}\n",
    "DATE = \"Date\"\n",
    "CEMENT_TYPES = [\n",
    "    \"Cement_Type_CP I-S-40\",\n",
    "    \"Cement_Type_CP II-E-32\",\n",
    "    \"Cement_Type_CP II-E-40\",\n",
    "    \"Cement_Type_CP II-F-32\",\n",
    "    \"Cement_Type_CP II-F-40\",\n",
    "    \"Cement_Type_CP II-Z-32\",\n",
    "    \"Cement_Type_CP II-Z-40\",\n",
    "    \"Cement_Type_CP III-32\",\n",
    "    \"Cement_Type_CP III-32 RS\",\n",
    "    \"Cement_Type_CP III-40\",\n",
    "    \"Cement_Type_CP III-40 RS\",\n",
    "    \"Cement_Type_CP IV-32\",\n",
    "    \"Cement_Type_CP IV-32 RS\",\n",
    "    \"Cement_Type_CP V-ARI\",\n",
    "    \"Cement_Type_CP V-ARI RS\",\n",
    "    \"Cement_Type_Fibrocimento\",\n",
    "    # \"Cement_Type_Type I-II\",\n",
    "    # \"Cement_Type_Type III\",\n",
    "    # \"Cement_Type_Type IL\",\n",
    "    \"Cement_Type_CP I-40\",\n",
    "]"
   ]
  },
  {
   "cell_type": "markdown",
   "metadata": {},
   "source": [
    "## Defining a dataframe structure to save the results"
   ]
  },
  {
   "cell_type": "code",
   "execution_count": 17,
   "metadata": {},
   "outputs": [
    {
     "data": {
      "application/javascript": [
       "\n",
       "            setTimeout(function() {\n",
       "                var nbb_cell_id = 17;\n",
       "                var nbb_unformatted_code = \"results_to_save = []\\n\\nresults_dict = {\\n    \\\"Category\\\": \\\"Global Model\\\",\\n    \\\"Company\\\": \\\"209\\\",\\n    \\\"Plant\\\": \\\"L\\\",\\n    \\\"Features\\\": \\\"Chemical\\\",\\n    \\\"Data Shape\\\": None,\\n    \\\"Timesteps\\\": None,\\n    \\\"Model\\\": \\\"Transformer\\\",\\n    \\\"Model Params\\\": None,\\n    \\\"Scaler\\\": \\\"Standard Scaler\\\",\\n    \\\"Scaler Params\\\": None,\\n    \\\"Imputer\\\": \\\"Median\\\",\\n    \\\"Imputer Params\\\": None,\\n    \\\"Cross Validation\\\": None,\\n    \\\"Cross Validation Params\\\": np.nan,\\n    \\\"RMSE Train\\\": np.nan,\\n    \\\"MAE Train\\\": np.nan,\\n    \\\"MAPE Train\\\": np.nan,\\n    \\\"R2 Train\\\": np.nan,\\n    \\\"RMSE Test\\\": np.nan,\\n    \\\"MAE Test\\\": np.nan,\\n    \\\"MAPE Test\\\": np.nan,\\n    \\\"R2 Test\\\": np.nan,\\n}\";\n",
       "                var nbb_formatted_code = \"results_to_save = []\\n\\nresults_dict = {\\n    \\\"Category\\\": \\\"Global Model\\\",\\n    \\\"Company\\\": \\\"209\\\",\\n    \\\"Plant\\\": \\\"L\\\",\\n    \\\"Features\\\": \\\"Chemical\\\",\\n    \\\"Data Shape\\\": None,\\n    \\\"Timesteps\\\": None,\\n    \\\"Model\\\": \\\"Transformer\\\",\\n    \\\"Model Params\\\": None,\\n    \\\"Scaler\\\": \\\"Standard Scaler\\\",\\n    \\\"Scaler Params\\\": None,\\n    \\\"Imputer\\\": \\\"Median\\\",\\n    \\\"Imputer Params\\\": None,\\n    \\\"Cross Validation\\\": None,\\n    \\\"Cross Validation Params\\\": np.nan,\\n    \\\"RMSE Train\\\": np.nan,\\n    \\\"MAE Train\\\": np.nan,\\n    \\\"MAPE Train\\\": np.nan,\\n    \\\"R2 Train\\\": np.nan,\\n    \\\"RMSE Test\\\": np.nan,\\n    \\\"MAE Test\\\": np.nan,\\n    \\\"MAPE Test\\\": np.nan,\\n    \\\"R2 Test\\\": np.nan,\\n}\";\n",
       "                var nbb_cells = Jupyter.notebook.get_cells();\n",
       "                for (var i = 0; i < nbb_cells.length; ++i) {\n",
       "                    if (nbb_cells[i].input_prompt_number == nbb_cell_id) {\n",
       "                        if (nbb_cells[i].get_text() == nbb_unformatted_code) {\n",
       "                             nbb_cells[i].set_text(nbb_formatted_code);\n",
       "                        }\n",
       "                        break;\n",
       "                    }\n",
       "                }\n",
       "            }, 500);\n",
       "            "
      ],
      "text/plain": [
       "<IPython.core.display.Javascript object>"
      ]
     },
     "metadata": {},
     "output_type": "display_data"
    }
   ],
   "source": [
    "results_to_save = []\n",
    "\n",
    "results_dict = {\n",
    "    \"Category\": \"Global Model\",\n",
    "    \"Company\": \"209\",\n",
    "    \"Plant\": \"L\",\n",
    "    \"Features\": \"Chemical\",\n",
    "    \"Data Shape\": None,\n",
    "    \"Timesteps\": None,\n",
    "    \"Model\": \"Transformer\",\n",
    "    \"Model Params\": None,\n",
    "    \"Scaler\": \"Standard Scaler\",\n",
    "    \"Scaler Params\": None,\n",
    "    \"Imputer\": \"Median\",\n",
    "    \"Imputer Params\": None,\n",
    "    \"Cross Validation\": None,\n",
    "    \"Cross Validation Params\": np.nan,\n",
    "    \"RMSE Train\": np.nan,\n",
    "    \"MAE Train\": np.nan,\n",
    "    \"MAPE Train\": np.nan,\n",
    "    \"R2 Train\": np.nan,\n",
    "    \"RMSE Test\": np.nan,\n",
    "    \"MAE Test\": np.nan,\n",
    "    \"MAPE Test\": np.nan,\n",
    "    \"R2 Test\": np.nan,\n",
    "}"
   ]
  },
  {
   "cell_type": "markdown",
   "metadata": {},
   "source": [
    "# Reading the dataset"
   ]
  },
  {
   "cell_type": "code",
   "execution_count": 18,
   "metadata": {
    "execution": {
     "iopub.execute_input": "2022-10-01T19:37:42.811541Z",
     "iopub.status.busy": "2022-10-01T19:37:42.811169Z",
     "iopub.status.idle": "2022-10-01T19:37:42.855721Z",
     "shell.execute_reply": "2022-10-01T19:37:42.854882Z",
     "shell.execute_reply.started": "2022-10-01T19:37:42.811509Z"
    }
   },
   "outputs": [
    {
     "data": {
      "application/javascript": [
       "\n",
       "            setTimeout(function() {\n",
       "                var nbb_cell_id = 18;\n",
       "                var nbb_unformatted_code = \"df = pd.read_csv(\\\"../../../../../../../data/processed/209/global_l.csv\\\")\";\n",
       "                var nbb_formatted_code = \"df = pd.read_csv(\\\"../../../../../../../data/processed/209/global_l.csv\\\")\";\n",
       "                var nbb_cells = Jupyter.notebook.get_cells();\n",
       "                for (var i = 0; i < nbb_cells.length; ++i) {\n",
       "                    if (nbb_cells[i].input_prompt_number == nbb_cell_id) {\n",
       "                        if (nbb_cells[i].get_text() == nbb_unformatted_code) {\n",
       "                             nbb_cells[i].set_text(nbb_formatted_code);\n",
       "                        }\n",
       "                        break;\n",
       "                    }\n",
       "                }\n",
       "            }, 500);\n",
       "            "
      ],
      "text/plain": [
       "<IPython.core.display.Javascript object>"
      ]
     },
     "metadata": {},
     "output_type": "display_data"
    }
   ],
   "source": [
    "df = pd.read_csv(\"../../../../../../../data/processed/209/global_l.csv\")"
   ]
  },
  {
   "cell_type": "markdown",
   "metadata": {},
   "source": [
    "## Defining Features\n",
    "\n",
    "In this set of experiments we use all available features"
   ]
  },
  {
   "cell_type": "code",
   "execution_count": 19,
   "metadata": {},
   "outputs": [
    {
     "data": {
      "application/javascript": [
       "\n",
       "            setTimeout(function() {\n",
       "                var nbb_cell_id = 19;\n",
       "                var nbb_unformatted_code = \"df_copy = df.copy()\\ndf_copy = pd.get_dummies(data=df_copy, columns=[\\\"Cement_Type\\\"], drop_first=True)\\n\\ndf_copy = df_copy.drop(\\n    [\\n        # \\\"Cement_Type\\\",\\n        \\\"Factory_Plant\\\",\\n        \\\"Blaine\\\",\\n        # \\\"#200\\\",\\n        # \\\"#325\\\",\\n        \\\"Final setting time\\\",\\n        \\\"Initial setting time\\\",\\n        # \\\"CS1\\\",\\n        \\\"CS3\\\",\\n        \\\"CS7\\\",\\n    ],\\n    axis=1,\\n)\\n\\n# df_copy[\\\"Date\\\"] = pd.to_datetime(df_copy[\\\"Date\\\"])\";\n",
       "                var nbb_formatted_code = \"df_copy = df.copy()\\ndf_copy = pd.get_dummies(data=df_copy, columns=[\\\"Cement_Type\\\"], drop_first=True)\\n\\ndf_copy = df_copy.drop(\\n    [\\n        # \\\"Cement_Type\\\",\\n        \\\"Factory_Plant\\\",\\n        \\\"Blaine\\\",\\n        # \\\"#200\\\",\\n        # \\\"#325\\\",\\n        \\\"Final setting time\\\",\\n        \\\"Initial setting time\\\",\\n        # \\\"CS1\\\",\\n        \\\"CS3\\\",\\n        \\\"CS7\\\",\\n    ],\\n    axis=1,\\n)\\n\\n# df_copy[\\\"Date\\\"] = pd.to_datetime(df_copy[\\\"Date\\\"])\";\n",
       "                var nbb_cells = Jupyter.notebook.get_cells();\n",
       "                for (var i = 0; i < nbb_cells.length; ++i) {\n",
       "                    if (nbb_cells[i].input_prompt_number == nbb_cell_id) {\n",
       "                        if (nbb_cells[i].get_text() == nbb_unformatted_code) {\n",
       "                             nbb_cells[i].set_text(nbb_formatted_code);\n",
       "                        }\n",
       "                        break;\n",
       "                    }\n",
       "                }\n",
       "            }, 500);\n",
       "            "
      ],
      "text/plain": [
       "<IPython.core.display.Javascript object>"
      ]
     },
     "metadata": {},
     "output_type": "display_data"
    }
   ],
   "source": [
    "df_copy = df.copy()\n",
    "df_copy = pd.get_dummies(data=df_copy, columns=[\"Cement_Type\"], drop_first=True)\n",
    "\n",
    "df_copy = df_copy.drop(\n",
    "    [\n",
    "        # \"Cement_Type\",\n",
    "        \"Factory_Plant\",\n",
    "        \"Blaine\",\n",
    "        # \"#200\",\n",
    "        # \"#325\",\n",
    "        \"Final setting time\",\n",
    "        \"Initial setting time\",\n",
    "        # \"CS1\",\n",
    "        \"CS3\",\n",
    "        \"CS7\",\n",
    "    ],\n",
    "    axis=1,\n",
    ")\n",
    "\n",
    "# df_copy[\"Date\"] = pd.to_datetime(df_copy[\"Date\"])"
   ]
  },
  {
   "cell_type": "code",
   "execution_count": 20,
   "metadata": {},
   "outputs": [
    {
     "data": {
      "application/javascript": [
       "\n",
       "            setTimeout(function() {\n",
       "                var nbb_cell_id = 20;\n",
       "                var nbb_unformatted_code = \"df_copy[CEMENT_TYPES] = df_copy[CEMENT_TYPES].astype(int)\\ndates = df[\\\"Date\\\"].copy()\\nx = df_copy.drop([\\\"Date\\\", \\\"CS28\\\"] + CEMENT_TYPES, axis=1)\\ny = df_copy[\\\"CS28\\\"]\";\n",
       "                var nbb_formatted_code = \"df_copy[CEMENT_TYPES] = df_copy[CEMENT_TYPES].astype(int)\\ndates = df[\\\"Date\\\"].copy()\\nx = df_copy.drop([\\\"Date\\\", \\\"CS28\\\"] + CEMENT_TYPES, axis=1)\\ny = df_copy[\\\"CS28\\\"]\";\n",
       "                var nbb_cells = Jupyter.notebook.get_cells();\n",
       "                for (var i = 0; i < nbb_cells.length; ++i) {\n",
       "                    if (nbb_cells[i].input_prompt_number == nbb_cell_id) {\n",
       "                        if (nbb_cells[i].get_text() == nbb_unformatted_code) {\n",
       "                             nbb_cells[i].set_text(nbb_formatted_code);\n",
       "                        }\n",
       "                        break;\n",
       "                    }\n",
       "                }\n",
       "            }, 500);\n",
       "            "
      ],
      "text/plain": [
       "<IPython.core.display.Javascript object>"
      ]
     },
     "metadata": {},
     "output_type": "display_data"
    }
   ],
   "source": [
    "df_copy[CEMENT_TYPES] = df_copy[CEMENT_TYPES].astype(int)\n",
    "dates = df[\"Date\"].copy()\n",
    "x = df_copy.drop([\"Date\", \"CS28\"] + CEMENT_TYPES, axis=1)\n",
    "y = df_copy[\"CS28\"]"
   ]
  },
  {
   "cell_type": "markdown",
   "metadata": {},
   "source": [
    "<h2>1. Dataset: df_copy</h2> <br>In this dataset all features are used."
   ]
  },
  {
   "cell_type": "code",
   "execution_count": 21,
   "metadata": {},
   "outputs": [
    {
     "data": {
      "application/javascript": [
       "\n",
       "            setTimeout(function() {\n",
       "                var nbb_cell_id = 21;\n",
       "                var nbb_unformatted_code = \"def prepare_dataset(\\n    dataframe_original=df,\\n    dataframe_copy=df_copy,\\n    train_size=0.8,\\n    test_size=0.2,\\n    ignore_test_set=False,\\n    timesteps=1,\\n    split_by_cement_type=True,\\n):\\n    dataframe_original = df.copy()\\n    dataframe_copy = df_copy.copy()\\n    dataframe_copy[CEMENT_TYPES] = dataframe_copy[CEMENT_TYPES].astype(int).copy()\\n    dates = dataframe_original[\\\"Date\\\"].copy()\\n    x = dataframe_copy.drop([\\\"Date\\\", \\\"CS28\\\"] + CEMENT_TYPES, axis=1)\\n    y = dataframe_copy[\\\"CS28\\\"]\\n    cement_types = dataframe_copy[CEMENT_TYPES].copy()\\n\\n    if not ignore_test_set:\\n        train_index = x.loc[: x.shape[0] * train_size].index\\n        test_index = x.loc[train_index[-1] + 1 :].index\\n    else:\\n        train_index = x.loc[: x.shape[0] * train_size].index\\n        test_index = x.loc[train_index[-1] + 1 :].index\\n\\n    dataset = {\\n        \\\"dates_train\\\": dates[train_index].reset_index(drop=True).copy(),\\n        \\\"cement_types_train\\\": cement_types.loc[train_index]\\n        .reset_index(drop=True)\\n        .copy(),\\n        \\\"x_train\\\": x.loc[train_index].reset_index(drop=True).copy(),\\n        \\\"y_train\\\": y[train_index].reset_index(drop=True).copy(),\\n        \\\"dates_test\\\": dates[test_index].reset_index(drop=True).copy(),\\n        \\\"cement_types_test\\\": cement_types.loc[test_index].reset_index(drop=True).copy(),\\n        \\\"x_test\\\": x.loc[test_index].reset_index(drop=True).copy(),\\n        \\\"y_test\\\": y[test_index].reset_index(drop=True).copy(),\\n    }\\n\\n    # Preprocess the dataset\\n    dataset = preprocess_data(dataset, None, SimpleImputer, {\\\"strategy\\\": \\\"median\\\"})\\n\\n    # generate sequences (3D format)\\n    dataset = generate_sequences(\\n        dataset, timesteps=timesteps, split_by_cement_type=split_by_cement_type\\n    )\\n\\n    return dataset\";\n",
       "                var nbb_formatted_code = \"def prepare_dataset(\\n    dataframe_original=df,\\n    dataframe_copy=df_copy,\\n    train_size=0.8,\\n    test_size=0.2,\\n    ignore_test_set=False,\\n    timesteps=1,\\n    split_by_cement_type=True,\\n):\\n    dataframe_original = df.copy()\\n    dataframe_copy = df_copy.copy()\\n    dataframe_copy[CEMENT_TYPES] = dataframe_copy[CEMENT_TYPES].astype(int).copy()\\n    dates = dataframe_original[\\\"Date\\\"].copy()\\n    x = dataframe_copy.drop([\\\"Date\\\", \\\"CS28\\\"] + CEMENT_TYPES, axis=1)\\n    y = dataframe_copy[\\\"CS28\\\"]\\n    cement_types = dataframe_copy[CEMENT_TYPES].copy()\\n\\n    if not ignore_test_set:\\n        train_index = x.loc[: x.shape[0] * train_size].index\\n        test_index = x.loc[train_index[-1] + 1 :].index\\n    else:\\n        train_index = x.loc[: x.shape[0] * train_size].index\\n        test_index = x.loc[train_index[-1] + 1 :].index\\n\\n    dataset = {\\n        \\\"dates_train\\\": dates[train_index].reset_index(drop=True).copy(),\\n        \\\"cement_types_train\\\": cement_types.loc[train_index]\\n        .reset_index(drop=True)\\n        .copy(),\\n        \\\"x_train\\\": x.loc[train_index].reset_index(drop=True).copy(),\\n        \\\"y_train\\\": y[train_index].reset_index(drop=True).copy(),\\n        \\\"dates_test\\\": dates[test_index].reset_index(drop=True).copy(),\\n        \\\"cement_types_test\\\": cement_types.loc[test_index].reset_index(drop=True).copy(),\\n        \\\"x_test\\\": x.loc[test_index].reset_index(drop=True).copy(),\\n        \\\"y_test\\\": y[test_index].reset_index(drop=True).copy(),\\n    }\\n\\n    # Preprocess the dataset\\n    dataset = preprocess_data(dataset, None, SimpleImputer, {\\\"strategy\\\": \\\"median\\\"})\\n\\n    # generate sequences (3D format)\\n    dataset = generate_sequences(\\n        dataset, timesteps=timesteps, split_by_cement_type=split_by_cement_type\\n    )\\n\\n    return dataset\";\n",
       "                var nbb_cells = Jupyter.notebook.get_cells();\n",
       "                for (var i = 0; i < nbb_cells.length; ++i) {\n",
       "                    if (nbb_cells[i].input_prompt_number == nbb_cell_id) {\n",
       "                        if (nbb_cells[i].get_text() == nbb_unformatted_code) {\n",
       "                             nbb_cells[i].set_text(nbb_formatted_code);\n",
       "                        }\n",
       "                        break;\n",
       "                    }\n",
       "                }\n",
       "            }, 500);\n",
       "            "
      ],
      "text/plain": [
       "<IPython.core.display.Javascript object>"
      ]
     },
     "metadata": {},
     "output_type": "display_data"
    }
   ],
   "source": [
    "def prepare_dataset(\n",
    "    dataframe_original=df,\n",
    "    dataframe_copy=df_copy,\n",
    "    train_size=0.8,\n",
    "    test_size=0.2,\n",
    "    ignore_test_set=False,\n",
    "    timesteps=1,\n",
    "    split_by_cement_type=True,\n",
    "):\n",
    "    dataframe_original = df.copy()\n",
    "    dataframe_copy = df_copy.copy()\n",
    "    dataframe_copy[CEMENT_TYPES] = dataframe_copy[CEMENT_TYPES].astype(int).copy()\n",
    "    dates = dataframe_original[\"Date\"].copy()\n",
    "    x = dataframe_copy.drop([\"Date\", \"CS28\"] + CEMENT_TYPES, axis=1)\n",
    "    y = dataframe_copy[\"CS28\"]\n",
    "    cement_types = dataframe_copy[CEMENT_TYPES].copy()\n",
    "\n",
    "    if not ignore_test_set:\n",
    "        train_index = x.loc[: x.shape[0] * train_size].index\n",
    "        test_index = x.loc[train_index[-1] + 1 :].index\n",
    "    else:\n",
    "        train_index = x.loc[: x.shape[0] * train_size].index\n",
    "        test_index = x.loc[train_index[-1] + 1 :].index\n",
    "\n",
    "    dataset = {\n",
    "        \"dates_train\": dates[train_index].reset_index(drop=True).copy(),\n",
    "        \"cement_types_train\": cement_types.loc[train_index]\n",
    "        .reset_index(drop=True)\n",
    "        .copy(),\n",
    "        \"x_train\": x.loc[train_index].reset_index(drop=True).copy(),\n",
    "        \"y_train\": y[train_index].reset_index(drop=True).copy(),\n",
    "        \"dates_test\": dates[test_index].reset_index(drop=True).copy(),\n",
    "        \"cement_types_test\": cement_types.loc[test_index].reset_index(drop=True).copy(),\n",
    "        \"x_test\": x.loc[test_index].reset_index(drop=True).copy(),\n",
    "        \"y_test\": y[test_index].reset_index(drop=True).copy(),\n",
    "    }\n",
    "\n",
    "    # Preprocess the dataset\n",
    "    dataset = preprocess_data(dataset, None, SimpleImputer, {\"strategy\": \"median\"})\n",
    "\n",
    "    # generate sequences (3D format)\n",
    "    dataset = generate_sequences(\n",
    "        dataset, timesteps=timesteps, split_by_cement_type=split_by_cement_type\n",
    "    )\n",
    "\n",
    "    return dataset"
   ]
  },
  {
   "cell_type": "code",
   "execution_count": 22,
   "metadata": {},
   "outputs": [
    {
     "data": {
      "application/javascript": [
       "\n",
       "            setTimeout(function() {\n",
       "                var nbb_cell_id = 22;\n",
       "                var nbb_unformatted_code = \"def get_transformer_params(\\n    timesteps=1,\\n    num_features=x.shape[-1],\\n    num_heads=1,\\n    num_layers_enc=1,\\n    num_feed_forward=16,\\n    dropout_rate=0.1,\\n    activation=\\\"relu\\\",\\n    batch_size=64,\\n    epochs=300,\\n    callbacks=None,\\n    validation_split=0.0,\\n    verbose=0,\\n):\\n    params = {}\\n    params[\\\"num_features\\\"] = x.shape[-1]\\n    params[\\\"timesteps\\\"] = timesteps\\n    params[\\\"num_heads\\\"] = num_heads\\n    params[\\\"num_layers_enc\\\"] = num_layers_enc\\n    params[\\\"num_feed_forward\\\"] = num_feed_forward\\n    params[\\\"verbose\\\"] = verbose\\n    params[\\\"dropout_rate\\\"] = dropout_rate\\n    params[\\\"activation\\\"] = activation\\n    params[\\\"batch_size\\\"] = batch_size\\n    params[\\\"epochs\\\"] = epochs\\n    params[\\\"callbacks\\\"] = callbacks\\n    params[\\\"validation_split\\\"] = validation_split\\n\\n    return params\";\n",
       "                var nbb_formatted_code = \"def get_transformer_params(\\n    timesteps=1,\\n    num_features=x.shape[-1],\\n    num_heads=1,\\n    num_layers_enc=1,\\n    num_feed_forward=16,\\n    dropout_rate=0.1,\\n    activation=\\\"relu\\\",\\n    batch_size=64,\\n    epochs=300,\\n    callbacks=None,\\n    validation_split=0.0,\\n    verbose=0,\\n):\\n    params = {}\\n    params[\\\"num_features\\\"] = x.shape[-1]\\n    params[\\\"timesteps\\\"] = timesteps\\n    params[\\\"num_heads\\\"] = num_heads\\n    params[\\\"num_layers_enc\\\"] = num_layers_enc\\n    params[\\\"num_feed_forward\\\"] = num_feed_forward\\n    params[\\\"verbose\\\"] = verbose\\n    params[\\\"dropout_rate\\\"] = dropout_rate\\n    params[\\\"activation\\\"] = activation\\n    params[\\\"batch_size\\\"] = batch_size\\n    params[\\\"epochs\\\"] = epochs\\n    params[\\\"callbacks\\\"] = callbacks\\n    params[\\\"validation_split\\\"] = validation_split\\n\\n    return params\";\n",
       "                var nbb_cells = Jupyter.notebook.get_cells();\n",
       "                for (var i = 0; i < nbb_cells.length; ++i) {\n",
       "                    if (nbb_cells[i].input_prompt_number == nbb_cell_id) {\n",
       "                        if (nbb_cells[i].get_text() == nbb_unformatted_code) {\n",
       "                             nbb_cells[i].set_text(nbb_formatted_code);\n",
       "                        }\n",
       "                        break;\n",
       "                    }\n",
       "                }\n",
       "            }, 500);\n",
       "            "
      ],
      "text/plain": [
       "<IPython.core.display.Javascript object>"
      ]
     },
     "metadata": {},
     "output_type": "display_data"
    }
   ],
   "source": [
    "def get_transformer_params(\n",
    "    timesteps=1,\n",
    "    num_features=x.shape[-1],\n",
    "    num_heads=1,\n",
    "    num_layers_enc=1,\n",
    "    num_feed_forward=16,\n",
    "    dropout_rate=0.1,\n",
    "    activation=\"relu\",\n",
    "    batch_size=64,\n",
    "    epochs=300,\n",
    "    callbacks=None,\n",
    "    validation_split=0.0,\n",
    "    verbose=0,\n",
    "):\n",
    "    params = {}\n",
    "    params[\"num_features\"] = x.shape[-1]\n",
    "    params[\"timesteps\"] = timesteps\n",
    "    params[\"num_heads\"] = num_heads\n",
    "    params[\"num_layers_enc\"] = num_layers_enc\n",
    "    params[\"num_feed_forward\"] = num_feed_forward\n",
    "    params[\"verbose\"] = verbose\n",
    "    params[\"dropout_rate\"] = dropout_rate\n",
    "    params[\"activation\"] = activation\n",
    "    params[\"batch_size\"] = batch_size\n",
    "    params[\"epochs\"] = epochs\n",
    "    params[\"callbacks\"] = callbacks\n",
    "    params[\"validation_split\"] = validation_split\n",
    "\n",
    "    return params"
   ]
  },
  {
   "cell_type": "code",
   "execution_count": 23,
   "metadata": {
    "execution": {
     "iopub.execute_input": "2022-10-01T19:37:42.891049Z",
     "iopub.status.busy": "2022-10-01T19:37:42.890342Z",
     "iopub.status.idle": "2022-10-01T19:37:42.899782Z",
     "shell.execute_reply": "2022-10-01T19:37:42.898915Z",
     "shell.execute_reply.started": "2022-10-01T19:37:42.891014Z"
    }
   },
   "outputs": [
    {
     "data": {
      "application/javascript": [
       "\n",
       "            setTimeout(function() {\n",
       "                var nbb_cell_id = 23;\n",
       "                var nbb_unformatted_code = \"TIMESTEPS_LIST = [1, 7, 14]\";\n",
       "                var nbb_formatted_code = \"TIMESTEPS_LIST = [1, 7, 14]\";\n",
       "                var nbb_cells = Jupyter.notebook.get_cells();\n",
       "                for (var i = 0; i < nbb_cells.length; ++i) {\n",
       "                    if (nbb_cells[i].input_prompt_number == nbb_cell_id) {\n",
       "                        if (nbb_cells[i].get_text() == nbb_unformatted_code) {\n",
       "                             nbb_cells[i].set_text(nbb_formatted_code);\n",
       "                        }\n",
       "                        break;\n",
       "                    }\n",
       "                }\n",
       "            }, 500);\n",
       "            "
      ],
      "text/plain": [
       "<IPython.core.display.Javascript object>"
      ]
     },
     "metadata": {},
     "output_type": "display_data"
    }
   ],
   "source": [
    "TIMESTEPS_LIST = [1, 7, 14]"
   ]
  },
  {
   "cell_type": "markdown",
   "metadata": {},
   "source": [
    "# Transformer Encoder"
   ]
  },
  {
   "cell_type": "markdown",
   "metadata": {},
   "source": [
    "### Transformer 1\n",
    "\n",
    "1. TIMESTEPS: 1"
   ]
  },
  {
   "cell_type": "code",
   "execution_count": 24,
   "metadata": {
    "scrolled": true
   },
   "outputs": [
    {
     "name": "stderr",
     "output_type": "stream",
     "text": [
      "2024-09-17 00:52:07.605430: E tensorflow/compiler/xla/stream_executor/cuda/cuda_driver.cc:268] failed call to cuInit: CUDA_ERROR_NO_DEVICE: no CUDA-capable device is detected\n",
      "2024-09-17 00:52:07.605488: I tensorflow/compiler/xla/stream_executor/cuda/cuda_diagnostics.cc:168] retrieving CUDA diagnostic information for host: inspirada\n",
      "2024-09-17 00:52:07.605496: I tensorflow/compiler/xla/stream_executor/cuda/cuda_diagnostics.cc:175] hostname: inspirada\n",
      "2024-09-17 00:52:07.605676: I tensorflow/compiler/xla/stream_executor/cuda/cuda_diagnostics.cc:199] libcuda reported version is: 535.183.1\n",
      "2024-09-17 00:52:07.605702: I tensorflow/compiler/xla/stream_executor/cuda/cuda_diagnostics.cc:203] kernel reported version is: 535.183.1\n",
      "2024-09-17 00:52:07.605707: I tensorflow/compiler/xla/stream_executor/cuda/cuda_diagnostics.cc:309] kernel version seems to match DSO: 535.183.1\n"
     ]
    },
    {
     "name": "stdout",
     "output_type": "stream",
     "text": [
      "Minutes Elapsed:  4.185023780663808\n"
     ]
    },
    {
     "data": {
      "application/javascript": [
       "\n",
       "            setTimeout(function() {\n",
       "                var nbb_cell_id = 24;\n",
       "                var nbb_unformatted_code = \"set_seeds()\\ntimesteps = 1\\nmodel_early_stop = tf.keras.callbacks.EarlyStopping(monitor=\\\"val_loss\\\", patience=10)\\ndataset = prepare_dataset(timesteps=timesteps)\\nx_train = dataset[\\\"x_train\\\"]\\ny_train = dataset[\\\"y_train\\\"]\\nx_test = dataset[\\\"x_test\\\"]\\ny_test = dataset[\\\"y_test\\\"]\\n\\nparams = get_transformer_params(\\n    timesteps=timesteps,\\n    num_features=x.shape[-1],\\n    num_heads=5,\\n    num_layers_enc=1,\\n    num_feed_forward=32,\\n    dropout_rate=0.1,\\n    activation=\\\"relu\\\",\\n    batch_size=64,\\n    epochs=300,\\n    callbacks=model_early_stop,\\n    validation_split=0.1,\\n    verbose=0,\\n)\\n\\nstart = time.time()\\nscores = train_and_evaluate_model(TransformerWrapper, dataset, estimator_params=params)\\nend = time.time()\\nprint(\\\"Minutes Elapsed: \\\", (end - start) / 60)\";\n",
       "                var nbb_formatted_code = \"set_seeds()\\ntimesteps = 1\\nmodel_early_stop = tf.keras.callbacks.EarlyStopping(monitor=\\\"val_loss\\\", patience=10)\\ndataset = prepare_dataset(timesteps=timesteps)\\nx_train = dataset[\\\"x_train\\\"]\\ny_train = dataset[\\\"y_train\\\"]\\nx_test = dataset[\\\"x_test\\\"]\\ny_test = dataset[\\\"y_test\\\"]\\n\\nparams = get_transformer_params(\\n    timesteps=timesteps,\\n    num_features=x.shape[-1],\\n    num_heads=5,\\n    num_layers_enc=1,\\n    num_feed_forward=32,\\n    dropout_rate=0.1,\\n    activation=\\\"relu\\\",\\n    batch_size=64,\\n    epochs=300,\\n    callbacks=model_early_stop,\\n    validation_split=0.1,\\n    verbose=0,\\n)\\n\\nstart = time.time()\\nscores = train_and_evaluate_model(TransformerWrapper, dataset, estimator_params=params)\\nend = time.time()\\nprint(\\\"Minutes Elapsed: \\\", (end - start) / 60)\";\n",
       "                var nbb_cells = Jupyter.notebook.get_cells();\n",
       "                for (var i = 0; i < nbb_cells.length; ++i) {\n",
       "                    if (nbb_cells[i].input_prompt_number == nbb_cell_id) {\n",
       "                        if (nbb_cells[i].get_text() == nbb_unformatted_code) {\n",
       "                             nbb_cells[i].set_text(nbb_formatted_code);\n",
       "                        }\n",
       "                        break;\n",
       "                    }\n",
       "                }\n",
       "            }, 500);\n",
       "            "
      ],
      "text/plain": [
       "<IPython.core.display.Javascript object>"
      ]
     },
     "metadata": {},
     "output_type": "display_data"
    }
   ],
   "source": [
    "set_seeds()\n",
    "timesteps = 1\n",
    "model_early_stop = tf.keras.callbacks.EarlyStopping(monitor=\"val_loss\", patience=10)\n",
    "dataset = prepare_dataset(timesteps=timesteps)\n",
    "x_train = dataset[\"x_train\"]\n",
    "y_train = dataset[\"y_train\"]\n",
    "x_test = dataset[\"x_test\"]\n",
    "y_test = dataset[\"y_test\"]\n",
    "\n",
    "params = get_transformer_params(\n",
    "    timesteps=timesteps,\n",
    "    num_features=x.shape[-1],\n",
    "    num_heads=5,\n",
    "    num_layers_enc=1,\n",
    "    num_feed_forward=32,\n",
    "    dropout_rate=0.1,\n",
    "    activation=\"relu\",\n",
    "    batch_size=64,\n",
    "    epochs=300,\n",
    "    callbacks=model_early_stop,\n",
    "    validation_split=0.1,\n",
    "    verbose=0,\n",
    ")\n",
    "\n",
    "start = time.time()\n",
    "scores = train_and_evaluate_model(TransformerWrapper, dataset, estimator_params=params)\n",
    "end = time.time()\n",
    "print(\"Minutes Elapsed: \", (end - start) / 60)"
   ]
  },
  {
   "cell_type": "code",
   "execution_count": 25,
   "metadata": {},
   "outputs": [
    {
     "name": "stdout",
     "output_type": "stream",
     "text": [
      "******\n",
      "[TRAIN]\n",
      "******\n",
      "RMSE: 3.178 (0.000)\n",
      "MAE: 2.361 (0.000)\n",
      "MAPE: 0.055 (0.000)\n",
      "R2: 0.783 (0.000)\n",
      "\n",
      "======================\n",
      "\n",
      "******\n",
      "[TEST]\n",
      "******\n",
      "RMSE: 3.439 (0.000)\n",
      "MAE: 2.562 (0.000)\n",
      "MAPE: 0.062 (0.000)\n",
      "R2: 0.667 (0.000)\n",
      "\n",
      "======================\n",
      "\n"
     ]
    },
    {
     "data": {
      "application/javascript": [
       "\n",
       "            setTimeout(function() {\n",
       "                var nbb_cell_id = 25;\n",
       "                var nbb_unformatted_code = \"print_scores(scores, METRICS, METRICS_DICT)\";\n",
       "                var nbb_formatted_code = \"print_scores(scores, METRICS, METRICS_DICT)\";\n",
       "                var nbb_cells = Jupyter.notebook.get_cells();\n",
       "                for (var i = 0; i < nbb_cells.length; ++i) {\n",
       "                    if (nbb_cells[i].input_prompt_number == nbb_cell_id) {\n",
       "                        if (nbb_cells[i].get_text() == nbb_unformatted_code) {\n",
       "                             nbb_cells[i].set_text(nbb_formatted_code);\n",
       "                        }\n",
       "                        break;\n",
       "                    }\n",
       "                }\n",
       "            }, 500);\n",
       "            "
      ],
      "text/plain": [
       "<IPython.core.display.Javascript object>"
      ]
     },
     "metadata": {},
     "output_type": "display_data"
    }
   ],
   "source": [
    "print_scores(scores, METRICS, METRICS_DICT)"
   ]
  },
  {
   "cell_type": "code",
   "execution_count": 26,
   "metadata": {},
   "outputs": [
    {
     "data": {
      "application/javascript": [
       "\n",
       "            setTimeout(function() {\n",
       "                var nbb_cell_id = 26;\n",
       "                var nbb_unformatted_code = \"results_dict_copy = results_dict.copy()\\nresults_dict_copy[\\\"Timesteps\\\"] = timesteps\\nresults_dict_copy[\\\"Cross Validation\\\"] = \\\"Out of time\\\"\\nresults_dict_copy[\\\"Cross Validation Params\\\"] = '{\\\"train_size\\\": 0.8, \\\"test_size\\\": 0.2}'\\nresults_dict_copy[\\\"Data Shape\\\"] = x.shape\\nresults_dict_copy[\\\"Model\\\"] = f\\\"Transformer_{model_index}\\\"\\nscores = {key: [value] for key, value in scores.items()}\\ndf_results = fill_results_dict(results_dict_copy, scores)\\nresults_to_save.append(df_results)\\nmodel_index += 1\";\n",
       "                var nbb_formatted_code = \"results_dict_copy = results_dict.copy()\\nresults_dict_copy[\\\"Timesteps\\\"] = timesteps\\nresults_dict_copy[\\\"Cross Validation\\\"] = \\\"Out of time\\\"\\nresults_dict_copy[\\\"Cross Validation Params\\\"] = '{\\\"train_size\\\": 0.8, \\\"test_size\\\": 0.2}'\\nresults_dict_copy[\\\"Data Shape\\\"] = x.shape\\nresults_dict_copy[\\\"Model\\\"] = f\\\"Transformer_{model_index}\\\"\\nscores = {key: [value] for key, value in scores.items()}\\ndf_results = fill_results_dict(results_dict_copy, scores)\\nresults_to_save.append(df_results)\\nmodel_index += 1\";\n",
       "                var nbb_cells = Jupyter.notebook.get_cells();\n",
       "                for (var i = 0; i < nbb_cells.length; ++i) {\n",
       "                    if (nbb_cells[i].input_prompt_number == nbb_cell_id) {\n",
       "                        if (nbb_cells[i].get_text() == nbb_unformatted_code) {\n",
       "                             nbb_cells[i].set_text(nbb_formatted_code);\n",
       "                        }\n",
       "                        break;\n",
       "                    }\n",
       "                }\n",
       "            }, 500);\n",
       "            "
      ],
      "text/plain": [
       "<IPython.core.display.Javascript object>"
      ]
     },
     "metadata": {},
     "output_type": "display_data"
    }
   ],
   "source": [
    "results_dict_copy = results_dict.copy()\n",
    "results_dict_copy[\"Timesteps\"] = timesteps\n",
    "results_dict_copy[\"Cross Validation\"] = \"Out of time\"\n",
    "results_dict_copy[\"Cross Validation Params\"] = '{\"train_size\": 0.8, \"test_size\": 0.2}'\n",
    "results_dict_copy[\"Data Shape\"] = x.shape\n",
    "results_dict_copy[\"Model\"] = f\"Transformer_{model_index}\"\n",
    "scores = {key: [value] for key, value in scores.items()}\n",
    "df_results = fill_results_dict(results_dict_copy, scores)\n",
    "results_to_save.append(df_results)\n",
    "model_index += 1"
   ]
  },
  {
   "cell_type": "markdown",
   "metadata": {},
   "source": [
    "### Transformer 1\n",
    "\n",
    "1. TIMESTEPS: 7"
   ]
  },
  {
   "cell_type": "code",
   "execution_count": 27,
   "metadata": {
    "scrolled": true
   },
   "outputs": [
    {
     "name": "stdout",
     "output_type": "stream",
     "text": [
      "Minutes Elapsed:  3.438545556863149\n"
     ]
    },
    {
     "data": {
      "application/javascript": [
       "\n",
       "            setTimeout(function() {\n",
       "                var nbb_cell_id = 27;\n",
       "                var nbb_unformatted_code = \"set_seeds()\\ntimesteps = 7\\nmodel_early_stop = tf.keras.callbacks.EarlyStopping(monitor=\\\"val_loss\\\", patience=10)\\ndataset = prepare_dataset(timesteps=timesteps)\\n\\n\\nparams = get_transformer_params(\\n    timesteps=timesteps,\\n    num_features=x.shape[-1],\\n    num_heads=5,\\n    num_layers_enc=1,\\n    num_feed_forward=32,\\n    dropout_rate=0.1,\\n    activation=\\\"relu\\\",\\n    batch_size=64,\\n    epochs=300,\\n    callbacks=model_early_stop,\\n    validation_split=0.1,\\n    verbose=0,\\n)\\n\\nstart = time.time()\\nscores = train_and_evaluate_model(TransformerWrapper, dataset, estimator_params=params)\\nend = time.time()\\nprint(\\\"Minutes Elapsed: \\\", (end - start) / 60)\";\n",
       "                var nbb_formatted_code = \"set_seeds()\\ntimesteps = 7\\nmodel_early_stop = tf.keras.callbacks.EarlyStopping(monitor=\\\"val_loss\\\", patience=10)\\ndataset = prepare_dataset(timesteps=timesteps)\\n\\n\\nparams = get_transformer_params(\\n    timesteps=timesteps,\\n    num_features=x.shape[-1],\\n    num_heads=5,\\n    num_layers_enc=1,\\n    num_feed_forward=32,\\n    dropout_rate=0.1,\\n    activation=\\\"relu\\\",\\n    batch_size=64,\\n    epochs=300,\\n    callbacks=model_early_stop,\\n    validation_split=0.1,\\n    verbose=0,\\n)\\n\\nstart = time.time()\\nscores = train_and_evaluate_model(TransformerWrapper, dataset, estimator_params=params)\\nend = time.time()\\nprint(\\\"Minutes Elapsed: \\\", (end - start) / 60)\";\n",
       "                var nbb_cells = Jupyter.notebook.get_cells();\n",
       "                for (var i = 0; i < nbb_cells.length; ++i) {\n",
       "                    if (nbb_cells[i].input_prompt_number == nbb_cell_id) {\n",
       "                        if (nbb_cells[i].get_text() == nbb_unformatted_code) {\n",
       "                             nbb_cells[i].set_text(nbb_formatted_code);\n",
       "                        }\n",
       "                        break;\n",
       "                    }\n",
       "                }\n",
       "            }, 500);\n",
       "            "
      ],
      "text/plain": [
       "<IPython.core.display.Javascript object>"
      ]
     },
     "metadata": {},
     "output_type": "display_data"
    }
   ],
   "source": [
    "set_seeds()\n",
    "timesteps = 7\n",
    "model_early_stop = tf.keras.callbacks.EarlyStopping(monitor=\"val_loss\", patience=10)\n",
    "dataset = prepare_dataset(timesteps=timesteps)\n",
    "\n",
    "\n",
    "params = get_transformer_params(\n",
    "    timesteps=timesteps,\n",
    "    num_features=x.shape[-1],\n",
    "    num_heads=5,\n",
    "    num_layers_enc=1,\n",
    "    num_feed_forward=32,\n",
    "    dropout_rate=0.1,\n",
    "    activation=\"relu\",\n",
    "    batch_size=64,\n",
    "    epochs=300,\n",
    "    callbacks=model_early_stop,\n",
    "    validation_split=0.1,\n",
    "    verbose=0,\n",
    ")\n",
    "\n",
    "start = time.time()\n",
    "scores = train_and_evaluate_model(TransformerWrapper, dataset, estimator_params=params)\n",
    "end = time.time()\n",
    "print(\"Minutes Elapsed: \", (end - start) / 60)"
   ]
  },
  {
   "cell_type": "code",
   "execution_count": 28,
   "metadata": {},
   "outputs": [
    {
     "name": "stdout",
     "output_type": "stream",
     "text": [
      "******\n",
      "[TRAIN]\n",
      "******\n",
      "RMSE: 3.063 (0.000)\n",
      "MAE: 2.403 (0.000)\n",
      "MAPE: 0.055 (0.000)\n",
      "R2: 0.799 (0.000)\n",
      "\n",
      "======================\n",
      "\n",
      "******\n",
      "[TEST]\n",
      "******\n",
      "RMSE: 2.976 (0.000)\n",
      "MAE: 2.351 (0.000)\n",
      "MAPE: 0.056 (0.000)\n",
      "R2: 0.751 (0.000)\n",
      "\n",
      "======================\n",
      "\n"
     ]
    },
    {
     "data": {
      "application/javascript": [
       "\n",
       "            setTimeout(function() {\n",
       "                var nbb_cell_id = 28;\n",
       "                var nbb_unformatted_code = \"print_scores(scores, METRICS, METRICS_DICT)\";\n",
       "                var nbb_formatted_code = \"print_scores(scores, METRICS, METRICS_DICT)\";\n",
       "                var nbb_cells = Jupyter.notebook.get_cells();\n",
       "                for (var i = 0; i < nbb_cells.length; ++i) {\n",
       "                    if (nbb_cells[i].input_prompt_number == nbb_cell_id) {\n",
       "                        if (nbb_cells[i].get_text() == nbb_unformatted_code) {\n",
       "                             nbb_cells[i].set_text(nbb_formatted_code);\n",
       "                        }\n",
       "                        break;\n",
       "                    }\n",
       "                }\n",
       "            }, 500);\n",
       "            "
      ],
      "text/plain": [
       "<IPython.core.display.Javascript object>"
      ]
     },
     "metadata": {},
     "output_type": "display_data"
    }
   ],
   "source": [
    "print_scores(scores, METRICS, METRICS_DICT)"
   ]
  },
  {
   "cell_type": "code",
   "execution_count": 29,
   "metadata": {},
   "outputs": [
    {
     "data": {
      "application/javascript": [
       "\n",
       "            setTimeout(function() {\n",
       "                var nbb_cell_id = 29;\n",
       "                var nbb_unformatted_code = \"results_dict_copy = results_dict.copy()\\nresults_dict_copy[\\\"Timesteps\\\"] = timesteps\\nresults_dict_copy[\\\"Cross Validation\\\"] = \\\"Out of time\\\"\\nresults_dict_copy[\\\"Cross Validation Params\\\"] = '{\\\"train_size\\\": 0.8, \\\"test_size\\\": 0.2}'\\nresults_dict_copy[\\\"Data Shape\\\"] = x.shape\\nresults_dict_copy[\\\"Model\\\"] = f\\\"Transformer_{model_index}\\\"\\nscores = {key: [value] for key, value in scores.items()}\\ndf_results = fill_results_dict(results_dict_copy, scores)\\nresults_to_save.append(df_results)\\nmodel_index += 1\";\n",
       "                var nbb_formatted_code = \"results_dict_copy = results_dict.copy()\\nresults_dict_copy[\\\"Timesteps\\\"] = timesteps\\nresults_dict_copy[\\\"Cross Validation\\\"] = \\\"Out of time\\\"\\nresults_dict_copy[\\\"Cross Validation Params\\\"] = '{\\\"train_size\\\": 0.8, \\\"test_size\\\": 0.2}'\\nresults_dict_copy[\\\"Data Shape\\\"] = x.shape\\nresults_dict_copy[\\\"Model\\\"] = f\\\"Transformer_{model_index}\\\"\\nscores = {key: [value] for key, value in scores.items()}\\ndf_results = fill_results_dict(results_dict_copy, scores)\\nresults_to_save.append(df_results)\\nmodel_index += 1\";\n",
       "                var nbb_cells = Jupyter.notebook.get_cells();\n",
       "                for (var i = 0; i < nbb_cells.length; ++i) {\n",
       "                    if (nbb_cells[i].input_prompt_number == nbb_cell_id) {\n",
       "                        if (nbb_cells[i].get_text() == nbb_unformatted_code) {\n",
       "                             nbb_cells[i].set_text(nbb_formatted_code);\n",
       "                        }\n",
       "                        break;\n",
       "                    }\n",
       "                }\n",
       "            }, 500);\n",
       "            "
      ],
      "text/plain": [
       "<IPython.core.display.Javascript object>"
      ]
     },
     "metadata": {},
     "output_type": "display_data"
    }
   ],
   "source": [
    "results_dict_copy = results_dict.copy()\n",
    "results_dict_copy[\"Timesteps\"] = timesteps\n",
    "results_dict_copy[\"Cross Validation\"] = \"Out of time\"\n",
    "results_dict_copy[\"Cross Validation Params\"] = '{\"train_size\": 0.8, \"test_size\": 0.2}'\n",
    "results_dict_copy[\"Data Shape\"] = x.shape\n",
    "results_dict_copy[\"Model\"] = f\"Transformer_{model_index}\"\n",
    "scores = {key: [value] for key, value in scores.items()}\n",
    "df_results = fill_results_dict(results_dict_copy, scores)\n",
    "results_to_save.append(df_results)\n",
    "model_index += 1"
   ]
  },
  {
   "cell_type": "markdown",
   "metadata": {},
   "source": [
    "### Transformer 1\n",
    "\n",
    "1. TIMESTEPS: 14"
   ]
  },
  {
   "cell_type": "code",
   "execution_count": 30,
   "metadata": {
    "scrolled": true
   },
   "outputs": [
    {
     "name": "stdout",
     "output_type": "stream",
     "text": [
      "Minutes Elapsed:  4.038210229078929\n"
     ]
    },
    {
     "data": {
      "application/javascript": [
       "\n",
       "            setTimeout(function() {\n",
       "                var nbb_cell_id = 30;\n",
       "                var nbb_unformatted_code = \"set_seeds()\\ntimesteps = 14\\nmodel_early_stop = tf.keras.callbacks.EarlyStopping(monitor=\\\"val_loss\\\", patience=10)\\ndataset = prepare_dataset(timesteps=timesteps)\\n\\nparams = get_transformer_params(\\n    timesteps=timesteps,\\n    num_features=x.shape[-1],\\n    num_heads=5,\\n    num_layers_enc=1,\\n    num_feed_forward=32,\\n    dropout_rate=0.1,\\n    activation=\\\"relu\\\",\\n    batch_size=64,\\n    epochs=300,\\n    callbacks=model_early_stop,\\n    validation_split=0.1,\\n    verbose=0,\\n)\\n\\nstart = time.time()\\nscores = train_and_evaluate_model(TransformerWrapper, dataset, estimator_params=params)\\nend = time.time()\\nprint(\\\"Minutes Elapsed: \\\", (end - start) / 60)\";\n",
       "                var nbb_formatted_code = \"set_seeds()\\ntimesteps = 14\\nmodel_early_stop = tf.keras.callbacks.EarlyStopping(monitor=\\\"val_loss\\\", patience=10)\\ndataset = prepare_dataset(timesteps=timesteps)\\n\\nparams = get_transformer_params(\\n    timesteps=timesteps,\\n    num_features=x.shape[-1],\\n    num_heads=5,\\n    num_layers_enc=1,\\n    num_feed_forward=32,\\n    dropout_rate=0.1,\\n    activation=\\\"relu\\\",\\n    batch_size=64,\\n    epochs=300,\\n    callbacks=model_early_stop,\\n    validation_split=0.1,\\n    verbose=0,\\n)\\n\\nstart = time.time()\\nscores = train_and_evaluate_model(TransformerWrapper, dataset, estimator_params=params)\\nend = time.time()\\nprint(\\\"Minutes Elapsed: \\\", (end - start) / 60)\";\n",
       "                var nbb_cells = Jupyter.notebook.get_cells();\n",
       "                for (var i = 0; i < nbb_cells.length; ++i) {\n",
       "                    if (nbb_cells[i].input_prompt_number == nbb_cell_id) {\n",
       "                        if (nbb_cells[i].get_text() == nbb_unformatted_code) {\n",
       "                             nbb_cells[i].set_text(nbb_formatted_code);\n",
       "                        }\n",
       "                        break;\n",
       "                    }\n",
       "                }\n",
       "            }, 500);\n",
       "            "
      ],
      "text/plain": [
       "<IPython.core.display.Javascript object>"
      ]
     },
     "metadata": {},
     "output_type": "display_data"
    }
   ],
   "source": [
    "set_seeds()\n",
    "timesteps = 14\n",
    "model_early_stop = tf.keras.callbacks.EarlyStopping(monitor=\"val_loss\", patience=10)\n",
    "dataset = prepare_dataset(timesteps=timesteps)\n",
    "\n",
    "params = get_transformer_params(\n",
    "    timesteps=timesteps,\n",
    "    num_features=x.shape[-1],\n",
    "    num_heads=5,\n",
    "    num_layers_enc=1,\n",
    "    num_feed_forward=32,\n",
    "    dropout_rate=0.1,\n",
    "    activation=\"relu\",\n",
    "    batch_size=64,\n",
    "    epochs=300,\n",
    "    callbacks=model_early_stop,\n",
    "    validation_split=0.1,\n",
    "    verbose=0,\n",
    ")\n",
    "\n",
    "start = time.time()\n",
    "scores = train_and_evaluate_model(TransformerWrapper, dataset, estimator_params=params)\n",
    "end = time.time()\n",
    "print(\"Minutes Elapsed: \", (end - start) / 60)"
   ]
  },
  {
   "cell_type": "code",
   "execution_count": 31,
   "metadata": {},
   "outputs": [
    {
     "name": "stdout",
     "output_type": "stream",
     "text": [
      "******\n",
      "[TRAIN]\n",
      "******\n",
      "RMSE: 3.069 (0.000)\n",
      "MAE: 2.401 (0.000)\n",
      "MAPE: 0.055 (0.000)\n",
      "R2: 0.798 (0.000)\n",
      "\n",
      "======================\n",
      "\n",
      "******\n",
      "[TEST]\n",
      "******\n",
      "RMSE: 3.003 (0.000)\n",
      "MAE: 2.389 (0.000)\n",
      "MAPE: 0.057 (0.000)\n",
      "R2: 0.746 (0.000)\n",
      "\n",
      "======================\n",
      "\n"
     ]
    },
    {
     "data": {
      "application/javascript": [
       "\n",
       "            setTimeout(function() {\n",
       "                var nbb_cell_id = 31;\n",
       "                var nbb_unformatted_code = \"print_scores(scores, METRICS, METRICS_DICT)\";\n",
       "                var nbb_formatted_code = \"print_scores(scores, METRICS, METRICS_DICT)\";\n",
       "                var nbb_cells = Jupyter.notebook.get_cells();\n",
       "                for (var i = 0; i < nbb_cells.length; ++i) {\n",
       "                    if (nbb_cells[i].input_prompt_number == nbb_cell_id) {\n",
       "                        if (nbb_cells[i].get_text() == nbb_unformatted_code) {\n",
       "                             nbb_cells[i].set_text(nbb_formatted_code);\n",
       "                        }\n",
       "                        break;\n",
       "                    }\n",
       "                }\n",
       "            }, 500);\n",
       "            "
      ],
      "text/plain": [
       "<IPython.core.display.Javascript object>"
      ]
     },
     "metadata": {},
     "output_type": "display_data"
    }
   ],
   "source": [
    "print_scores(scores, METRICS, METRICS_DICT)"
   ]
  },
  {
   "cell_type": "code",
   "execution_count": 32,
   "metadata": {},
   "outputs": [
    {
     "data": {
      "application/javascript": [
       "\n",
       "            setTimeout(function() {\n",
       "                var nbb_cell_id = 32;\n",
       "                var nbb_unformatted_code = \"results_dict_copy = results_dict.copy()\\nresults_dict_copy[\\\"Timesteps\\\"] = timesteps\\nresults_dict_copy[\\\"Cross Validation\\\"] = \\\"Out of time\\\"\\nresults_dict_copy[\\\"Cross Validation Params\\\"] = '{\\\"train_size\\\": 0.8, \\\"test_size\\\": 0.2}'\\nresults_dict_copy[\\\"Data Shape\\\"] = x.shape\\nresults_dict_copy[\\\"Model\\\"] = f\\\"Transformer_{model_index}\\\"\\nscores = {key: [value] for key, value in scores.items()}\\ndf_results = fill_results_dict(results_dict_copy, scores)\\nresults_to_save.append(df_results)\\nmodel_index += 1\";\n",
       "                var nbb_formatted_code = \"results_dict_copy = results_dict.copy()\\nresults_dict_copy[\\\"Timesteps\\\"] = timesteps\\nresults_dict_copy[\\\"Cross Validation\\\"] = \\\"Out of time\\\"\\nresults_dict_copy[\\\"Cross Validation Params\\\"] = '{\\\"train_size\\\": 0.8, \\\"test_size\\\": 0.2}'\\nresults_dict_copy[\\\"Data Shape\\\"] = x.shape\\nresults_dict_copy[\\\"Model\\\"] = f\\\"Transformer_{model_index}\\\"\\nscores = {key: [value] for key, value in scores.items()}\\ndf_results = fill_results_dict(results_dict_copy, scores)\\nresults_to_save.append(df_results)\\nmodel_index += 1\";\n",
       "                var nbb_cells = Jupyter.notebook.get_cells();\n",
       "                for (var i = 0; i < nbb_cells.length; ++i) {\n",
       "                    if (nbb_cells[i].input_prompt_number == nbb_cell_id) {\n",
       "                        if (nbb_cells[i].get_text() == nbb_unformatted_code) {\n",
       "                             nbb_cells[i].set_text(nbb_formatted_code);\n",
       "                        }\n",
       "                        break;\n",
       "                    }\n",
       "                }\n",
       "            }, 500);\n",
       "            "
      ],
      "text/plain": [
       "<IPython.core.display.Javascript object>"
      ]
     },
     "metadata": {},
     "output_type": "display_data"
    }
   ],
   "source": [
    "results_dict_copy = results_dict.copy()\n",
    "results_dict_copy[\"Timesteps\"] = timesteps\n",
    "results_dict_copy[\"Cross Validation\"] = \"Out of time\"\n",
    "results_dict_copy[\"Cross Validation Params\"] = '{\"train_size\": 0.8, \"test_size\": 0.2}'\n",
    "results_dict_copy[\"Data Shape\"] = x.shape\n",
    "results_dict_copy[\"Model\"] = f\"Transformer_{model_index}\"\n",
    "scores = {key: [value] for key, value in scores.items()}\n",
    "df_results = fill_results_dict(results_dict_copy, scores)\n",
    "results_to_save.append(df_results)\n",
    "model_index += 1"
   ]
  },
  {
   "cell_type": "markdown",
   "metadata": {},
   "source": [
    "### Transformer 2\n",
    "\n",
    "1. TIMESTEPS: 1"
   ]
  },
  {
   "cell_type": "code",
   "execution_count": 33,
   "metadata": {
    "scrolled": true
   },
   "outputs": [
    {
     "name": "stdout",
     "output_type": "stream",
     "text": [
      "Minutes Elapsed:  3.3627425829569497\n"
     ]
    },
    {
     "data": {
      "application/javascript": [
       "\n",
       "            setTimeout(function() {\n",
       "                var nbb_cell_id = 33;\n",
       "                var nbb_unformatted_code = \"set_seeds()\\ntimesteps = 1\\nmodel_early_stop = tf.keras.callbacks.EarlyStopping(monitor=\\\"val_loss\\\", patience=10)\\ndataset = prepare_dataset(timesteps=timesteps)\\n\\nparams = get_transformer_params(\\n    timesteps=timesteps,\\n    num_features=x.shape[-1],\\n    num_heads=5,\\n    num_layers_enc=1,\\n    num_feed_forward=128,\\n    dropout_rate=0.1,\\n    activation=\\\"relu\\\",\\n    batch_size=64,\\n    epochs=300,\\n    callbacks=model_early_stop,\\n    validation_split=0.1,\\n    verbose=0,\\n)\\n\\nstart = time.time()\\nscores = train_and_evaluate_model(TransformerWrapper, dataset, estimator_params=params)\\nend = time.time()\\nprint(\\\"Minutes Elapsed: \\\", (end - start) / 60)\";\n",
       "                var nbb_formatted_code = \"set_seeds()\\ntimesteps = 1\\nmodel_early_stop = tf.keras.callbacks.EarlyStopping(monitor=\\\"val_loss\\\", patience=10)\\ndataset = prepare_dataset(timesteps=timesteps)\\n\\nparams = get_transformer_params(\\n    timesteps=timesteps,\\n    num_features=x.shape[-1],\\n    num_heads=5,\\n    num_layers_enc=1,\\n    num_feed_forward=128,\\n    dropout_rate=0.1,\\n    activation=\\\"relu\\\",\\n    batch_size=64,\\n    epochs=300,\\n    callbacks=model_early_stop,\\n    validation_split=0.1,\\n    verbose=0,\\n)\\n\\nstart = time.time()\\nscores = train_and_evaluate_model(TransformerWrapper, dataset, estimator_params=params)\\nend = time.time()\\nprint(\\\"Minutes Elapsed: \\\", (end - start) / 60)\";\n",
       "                var nbb_cells = Jupyter.notebook.get_cells();\n",
       "                for (var i = 0; i < nbb_cells.length; ++i) {\n",
       "                    if (nbb_cells[i].input_prompt_number == nbb_cell_id) {\n",
       "                        if (nbb_cells[i].get_text() == nbb_unformatted_code) {\n",
       "                             nbb_cells[i].set_text(nbb_formatted_code);\n",
       "                        }\n",
       "                        break;\n",
       "                    }\n",
       "                }\n",
       "            }, 500);\n",
       "            "
      ],
      "text/plain": [
       "<IPython.core.display.Javascript object>"
      ]
     },
     "metadata": {},
     "output_type": "display_data"
    }
   ],
   "source": [
    "set_seeds()\n",
    "timesteps = 1\n",
    "model_early_stop = tf.keras.callbacks.EarlyStopping(monitor=\"val_loss\", patience=10)\n",
    "dataset = prepare_dataset(timesteps=timesteps)\n",
    "\n",
    "params = get_transformer_params(\n",
    "    timesteps=timesteps,\n",
    "    num_features=x.shape[-1],\n",
    "    num_heads=5,\n",
    "    num_layers_enc=1,\n",
    "    num_feed_forward=128,\n",
    "    dropout_rate=0.1,\n",
    "    activation=\"relu\",\n",
    "    batch_size=64,\n",
    "    epochs=300,\n",
    "    callbacks=model_early_stop,\n",
    "    validation_split=0.1,\n",
    "    verbose=0,\n",
    ")\n",
    "\n",
    "start = time.time()\n",
    "scores = train_and_evaluate_model(TransformerWrapper, dataset, estimator_params=params)\n",
    "end = time.time()\n",
    "print(\"Minutes Elapsed: \", (end - start) / 60)"
   ]
  },
  {
   "cell_type": "code",
   "execution_count": 34,
   "metadata": {},
   "outputs": [
    {
     "name": "stdout",
     "output_type": "stream",
     "text": [
      "******\n",
      "[TRAIN]\n",
      "******\n",
      "RMSE: 3.125 (0.000)\n",
      "MAE: 2.313 (0.000)\n",
      "MAPE: 0.054 (0.000)\n",
      "R2: 0.790 (0.000)\n",
      "\n",
      "======================\n",
      "\n",
      "******\n",
      "[TEST]\n",
      "******\n",
      "RMSE: 3.523 (0.000)\n",
      "MAE: 2.637 (0.000)\n",
      "MAPE: 0.064 (0.000)\n",
      "R2: 0.651 (0.000)\n",
      "\n",
      "======================\n",
      "\n"
     ]
    },
    {
     "data": {
      "application/javascript": [
       "\n",
       "            setTimeout(function() {\n",
       "                var nbb_cell_id = 34;\n",
       "                var nbb_unformatted_code = \"print_scores(scores, METRICS, METRICS_DICT)\";\n",
       "                var nbb_formatted_code = \"print_scores(scores, METRICS, METRICS_DICT)\";\n",
       "                var nbb_cells = Jupyter.notebook.get_cells();\n",
       "                for (var i = 0; i < nbb_cells.length; ++i) {\n",
       "                    if (nbb_cells[i].input_prompt_number == nbb_cell_id) {\n",
       "                        if (nbb_cells[i].get_text() == nbb_unformatted_code) {\n",
       "                             nbb_cells[i].set_text(nbb_formatted_code);\n",
       "                        }\n",
       "                        break;\n",
       "                    }\n",
       "                }\n",
       "            }, 500);\n",
       "            "
      ],
      "text/plain": [
       "<IPython.core.display.Javascript object>"
      ]
     },
     "metadata": {},
     "output_type": "display_data"
    }
   ],
   "source": [
    "print_scores(scores, METRICS, METRICS_DICT)"
   ]
  },
  {
   "cell_type": "code",
   "execution_count": 35,
   "metadata": {},
   "outputs": [
    {
     "data": {
      "application/javascript": [
       "\n",
       "            setTimeout(function() {\n",
       "                var nbb_cell_id = 35;\n",
       "                var nbb_unformatted_code = \"results_dict_copy = results_dict.copy()\\nresults_dict_copy[\\\"Timesteps\\\"] = timesteps\\nresults_dict_copy[\\\"Cross Validation\\\"] = \\\"Out of time\\\"\\nresults_dict_copy[\\\"Cross Validation Params\\\"] = '{\\\"train_size\\\": 0.8, \\\"test_size\\\": 0.2}'\\nresults_dict_copy[\\\"Data Shape\\\"] = x.shape\\nresults_dict_copy[\\\"Model\\\"] = f\\\"Transformer_{model_index}\\\"\\nscores = {key: [value] for key, value in scores.items()}\\ndf_results = fill_results_dict(results_dict_copy, scores)\\nresults_to_save.append(df_results)\\nmodel_index += 1\";\n",
       "                var nbb_formatted_code = \"results_dict_copy = results_dict.copy()\\nresults_dict_copy[\\\"Timesteps\\\"] = timesteps\\nresults_dict_copy[\\\"Cross Validation\\\"] = \\\"Out of time\\\"\\nresults_dict_copy[\\\"Cross Validation Params\\\"] = '{\\\"train_size\\\": 0.8, \\\"test_size\\\": 0.2}'\\nresults_dict_copy[\\\"Data Shape\\\"] = x.shape\\nresults_dict_copy[\\\"Model\\\"] = f\\\"Transformer_{model_index}\\\"\\nscores = {key: [value] for key, value in scores.items()}\\ndf_results = fill_results_dict(results_dict_copy, scores)\\nresults_to_save.append(df_results)\\nmodel_index += 1\";\n",
       "                var nbb_cells = Jupyter.notebook.get_cells();\n",
       "                for (var i = 0; i < nbb_cells.length; ++i) {\n",
       "                    if (nbb_cells[i].input_prompt_number == nbb_cell_id) {\n",
       "                        if (nbb_cells[i].get_text() == nbb_unformatted_code) {\n",
       "                             nbb_cells[i].set_text(nbb_formatted_code);\n",
       "                        }\n",
       "                        break;\n",
       "                    }\n",
       "                }\n",
       "            }, 500);\n",
       "            "
      ],
      "text/plain": [
       "<IPython.core.display.Javascript object>"
      ]
     },
     "metadata": {},
     "output_type": "display_data"
    }
   ],
   "source": [
    "results_dict_copy = results_dict.copy()\n",
    "results_dict_copy[\"Timesteps\"] = timesteps\n",
    "results_dict_copy[\"Cross Validation\"] = \"Out of time\"\n",
    "results_dict_copy[\"Cross Validation Params\"] = '{\"train_size\": 0.8, \"test_size\": 0.2}'\n",
    "results_dict_copy[\"Data Shape\"] = x.shape\n",
    "results_dict_copy[\"Model\"] = f\"Transformer_{model_index}\"\n",
    "scores = {key: [value] for key, value in scores.items()}\n",
    "df_results = fill_results_dict(results_dict_copy, scores)\n",
    "results_to_save.append(df_results)\n",
    "model_index += 1"
   ]
  },
  {
   "cell_type": "markdown",
   "metadata": {},
   "source": [
    "### Transformer 2\n",
    "\n",
    "1. TIMESTEPS: 7"
   ]
  },
  {
   "cell_type": "code",
   "execution_count": 36,
   "metadata": {
    "scrolled": true
   },
   "outputs": [
    {
     "name": "stdout",
     "output_type": "stream",
     "text": [
      "Minutes Elapsed:  5.7212918400764465\n"
     ]
    },
    {
     "data": {
      "application/javascript": [
       "\n",
       "            setTimeout(function() {\n",
       "                var nbb_cell_id = 36;\n",
       "                var nbb_unformatted_code = \"set_seeds()\\ntimesteps = 7\\nmodel_early_stop = tf.keras.callbacks.EarlyStopping(monitor=\\\"val_loss\\\", patience=10)\\ndataset = prepare_dataset(timesteps=timesteps)\\n\\nparams = get_transformer_params(\\n    timesteps=timesteps,\\n    num_features=x.shape[-1],\\n    num_heads=5,\\n    num_layers_enc=1,\\n    num_feed_forward=128,\\n    dropout_rate=0.1,\\n    activation=\\\"relu\\\",\\n    batch_size=64,\\n    epochs=300,\\n    callbacks=model_early_stop,\\n    validation_split=0.1,\\n    verbose=0,\\n)\\n\\nstart = time.time()\\nscores = train_and_evaluate_model(TransformerWrapper, dataset, estimator_params=params)\\nend = time.time()\\nprint(\\\"Minutes Elapsed: \\\", (end - start) / 60)\";\n",
       "                var nbb_formatted_code = \"set_seeds()\\ntimesteps = 7\\nmodel_early_stop = tf.keras.callbacks.EarlyStopping(monitor=\\\"val_loss\\\", patience=10)\\ndataset = prepare_dataset(timesteps=timesteps)\\n\\nparams = get_transformer_params(\\n    timesteps=timesteps,\\n    num_features=x.shape[-1],\\n    num_heads=5,\\n    num_layers_enc=1,\\n    num_feed_forward=128,\\n    dropout_rate=0.1,\\n    activation=\\\"relu\\\",\\n    batch_size=64,\\n    epochs=300,\\n    callbacks=model_early_stop,\\n    validation_split=0.1,\\n    verbose=0,\\n)\\n\\nstart = time.time()\\nscores = train_and_evaluate_model(TransformerWrapper, dataset, estimator_params=params)\\nend = time.time()\\nprint(\\\"Minutes Elapsed: \\\", (end - start) / 60)\";\n",
       "                var nbb_cells = Jupyter.notebook.get_cells();\n",
       "                for (var i = 0; i < nbb_cells.length; ++i) {\n",
       "                    if (nbb_cells[i].input_prompt_number == nbb_cell_id) {\n",
       "                        if (nbb_cells[i].get_text() == nbb_unformatted_code) {\n",
       "                             nbb_cells[i].set_text(nbb_formatted_code);\n",
       "                        }\n",
       "                        break;\n",
       "                    }\n",
       "                }\n",
       "            }, 500);\n",
       "            "
      ],
      "text/plain": [
       "<IPython.core.display.Javascript object>"
      ]
     },
     "metadata": {},
     "output_type": "display_data"
    }
   ],
   "source": [
    "set_seeds()\n",
    "timesteps = 7\n",
    "model_early_stop = tf.keras.callbacks.EarlyStopping(monitor=\"val_loss\", patience=10)\n",
    "dataset = prepare_dataset(timesteps=timesteps)\n",
    "\n",
    "params = get_transformer_params(\n",
    "    timesteps=timesteps,\n",
    "    num_features=x.shape[-1],\n",
    "    num_heads=5,\n",
    "    num_layers_enc=1,\n",
    "    num_feed_forward=128,\n",
    "    dropout_rate=0.1,\n",
    "    activation=\"relu\",\n",
    "    batch_size=64,\n",
    "    epochs=300,\n",
    "    callbacks=model_early_stop,\n",
    "    validation_split=0.1,\n",
    "    verbose=0,\n",
    ")\n",
    "\n",
    "start = time.time()\n",
    "scores = train_and_evaluate_model(TransformerWrapper, dataset, estimator_params=params)\n",
    "end = time.time()\n",
    "print(\"Minutes Elapsed: \", (end - start) / 60)"
   ]
  },
  {
   "cell_type": "code",
   "execution_count": 37,
   "metadata": {},
   "outputs": [
    {
     "name": "stdout",
     "output_type": "stream",
     "text": [
      "******\n",
      "[TRAIN]\n",
      "******\n",
      "RMSE: 3.196 (0.000)\n",
      "MAE: 2.550 (0.000)\n",
      "MAPE: 0.060 (0.000)\n",
      "R2: 0.781 (0.000)\n",
      "\n",
      "======================\n",
      "\n",
      "******\n",
      "[TEST]\n",
      "******\n",
      "RMSE: 3.236 (0.000)\n",
      "MAE: 2.610 (0.000)\n",
      "MAPE: 0.063 (0.000)\n",
      "R2: 0.705 (0.000)\n",
      "\n",
      "======================\n",
      "\n"
     ]
    },
    {
     "data": {
      "application/javascript": [
       "\n",
       "            setTimeout(function() {\n",
       "                var nbb_cell_id = 37;\n",
       "                var nbb_unformatted_code = \"print_scores(scores, METRICS, METRICS_DICT)\";\n",
       "                var nbb_formatted_code = \"print_scores(scores, METRICS, METRICS_DICT)\";\n",
       "                var nbb_cells = Jupyter.notebook.get_cells();\n",
       "                for (var i = 0; i < nbb_cells.length; ++i) {\n",
       "                    if (nbb_cells[i].input_prompt_number == nbb_cell_id) {\n",
       "                        if (nbb_cells[i].get_text() == nbb_unformatted_code) {\n",
       "                             nbb_cells[i].set_text(nbb_formatted_code);\n",
       "                        }\n",
       "                        break;\n",
       "                    }\n",
       "                }\n",
       "            }, 500);\n",
       "            "
      ],
      "text/plain": [
       "<IPython.core.display.Javascript object>"
      ]
     },
     "metadata": {},
     "output_type": "display_data"
    }
   ],
   "source": [
    "print_scores(scores, METRICS, METRICS_DICT)"
   ]
  },
  {
   "cell_type": "code",
   "execution_count": 38,
   "metadata": {},
   "outputs": [
    {
     "data": {
      "application/javascript": [
       "\n",
       "            setTimeout(function() {\n",
       "                var nbb_cell_id = 38;\n",
       "                var nbb_unformatted_code = \"results_dict_copy = results_dict.copy()\\nresults_dict_copy[\\\"Timesteps\\\"] = timesteps\\nresults_dict_copy[\\\"Cross Validation\\\"] = \\\"Out of time\\\"\\nresults_dict_copy[\\\"Cross Validation Params\\\"] = '{\\\"train_size\\\": 0.8, \\\"test_size\\\": 0.2}'\\nresults_dict_copy[\\\"Data Shape\\\"] = x.shape\\nresults_dict_copy[\\\"Model\\\"] = f\\\"Transformer_{model_index}\\\"\\nscores = {key: [value] for key, value in scores.items()}\\ndf_results = fill_results_dict(results_dict_copy, scores)\\nresults_to_save.append(df_results)\\nmodel_index += 1\";\n",
       "                var nbb_formatted_code = \"results_dict_copy = results_dict.copy()\\nresults_dict_copy[\\\"Timesteps\\\"] = timesteps\\nresults_dict_copy[\\\"Cross Validation\\\"] = \\\"Out of time\\\"\\nresults_dict_copy[\\\"Cross Validation Params\\\"] = '{\\\"train_size\\\": 0.8, \\\"test_size\\\": 0.2}'\\nresults_dict_copy[\\\"Data Shape\\\"] = x.shape\\nresults_dict_copy[\\\"Model\\\"] = f\\\"Transformer_{model_index}\\\"\\nscores = {key: [value] for key, value in scores.items()}\\ndf_results = fill_results_dict(results_dict_copy, scores)\\nresults_to_save.append(df_results)\\nmodel_index += 1\";\n",
       "                var nbb_cells = Jupyter.notebook.get_cells();\n",
       "                for (var i = 0; i < nbb_cells.length; ++i) {\n",
       "                    if (nbb_cells[i].input_prompt_number == nbb_cell_id) {\n",
       "                        if (nbb_cells[i].get_text() == nbb_unformatted_code) {\n",
       "                             nbb_cells[i].set_text(nbb_formatted_code);\n",
       "                        }\n",
       "                        break;\n",
       "                    }\n",
       "                }\n",
       "            }, 500);\n",
       "            "
      ],
      "text/plain": [
       "<IPython.core.display.Javascript object>"
      ]
     },
     "metadata": {},
     "output_type": "display_data"
    }
   ],
   "source": [
    "results_dict_copy = results_dict.copy()\n",
    "results_dict_copy[\"Timesteps\"] = timesteps\n",
    "results_dict_copy[\"Cross Validation\"] = \"Out of time\"\n",
    "results_dict_copy[\"Cross Validation Params\"] = '{\"train_size\": 0.8, \"test_size\": 0.2}'\n",
    "results_dict_copy[\"Data Shape\"] = x.shape\n",
    "results_dict_copy[\"Model\"] = f\"Transformer_{model_index}\"\n",
    "scores = {key: [value] for key, value in scores.items()}\n",
    "df_results = fill_results_dict(results_dict_copy, scores)\n",
    "results_to_save.append(df_results)\n",
    "model_index += 1"
   ]
  },
  {
   "cell_type": "markdown",
   "metadata": {},
   "source": [
    "### Transformer 2\n",
    "\n",
    "1. TIMESTEPS: 14"
   ]
  },
  {
   "cell_type": "code",
   "execution_count": 39,
   "metadata": {
    "scrolled": true
   },
   "outputs": [
    {
     "name": "stdout",
     "output_type": "stream",
     "text": [
      "Minutes Elapsed:  3.908080208301544\n"
     ]
    },
    {
     "data": {
      "application/javascript": [
       "\n",
       "            setTimeout(function() {\n",
       "                var nbb_cell_id = 39;\n",
       "                var nbb_unformatted_code = \"set_seeds()\\ntimesteps = 14\\nmodel_early_stop = tf.keras.callbacks.EarlyStopping(monitor=\\\"val_loss\\\", patience=10)\\ndataset = prepare_dataset(timesteps=timesteps)\\n\\nparams = get_transformer_params(\\n    timesteps=timesteps,\\n    num_features=x.shape[-1],\\n    num_heads=5,\\n    num_layers_enc=1,\\n    num_feed_forward=128,\\n    dropout_rate=0.1,\\n    activation=\\\"relu\\\",\\n    batch_size=64,\\n    epochs=300,\\n    callbacks=model_early_stop,\\n    validation_split=0.1,\\n    verbose=0,\\n)\\n\\nstart = time.time()\\nscores = train_and_evaluate_model(TransformerWrapper, dataset, estimator_params=params)\\nend = time.time()\\nprint(\\\"Minutes Elapsed: \\\", (end - start) / 60)\";\n",
       "                var nbb_formatted_code = \"set_seeds()\\ntimesteps = 14\\nmodel_early_stop = tf.keras.callbacks.EarlyStopping(monitor=\\\"val_loss\\\", patience=10)\\ndataset = prepare_dataset(timesteps=timesteps)\\n\\nparams = get_transformer_params(\\n    timesteps=timesteps,\\n    num_features=x.shape[-1],\\n    num_heads=5,\\n    num_layers_enc=1,\\n    num_feed_forward=128,\\n    dropout_rate=0.1,\\n    activation=\\\"relu\\\",\\n    batch_size=64,\\n    epochs=300,\\n    callbacks=model_early_stop,\\n    validation_split=0.1,\\n    verbose=0,\\n)\\n\\nstart = time.time()\\nscores = train_and_evaluate_model(TransformerWrapper, dataset, estimator_params=params)\\nend = time.time()\\nprint(\\\"Minutes Elapsed: \\\", (end - start) / 60)\";\n",
       "                var nbb_cells = Jupyter.notebook.get_cells();\n",
       "                for (var i = 0; i < nbb_cells.length; ++i) {\n",
       "                    if (nbb_cells[i].input_prompt_number == nbb_cell_id) {\n",
       "                        if (nbb_cells[i].get_text() == nbb_unformatted_code) {\n",
       "                             nbb_cells[i].set_text(nbb_formatted_code);\n",
       "                        }\n",
       "                        break;\n",
       "                    }\n",
       "                }\n",
       "            }, 500);\n",
       "            "
      ],
      "text/plain": [
       "<IPython.core.display.Javascript object>"
      ]
     },
     "metadata": {},
     "output_type": "display_data"
    }
   ],
   "source": [
    "set_seeds()\n",
    "timesteps = 14\n",
    "model_early_stop = tf.keras.callbacks.EarlyStopping(monitor=\"val_loss\", patience=10)\n",
    "dataset = prepare_dataset(timesteps=timesteps)\n",
    "\n",
    "params = get_transformer_params(\n",
    "    timesteps=timesteps,\n",
    "    num_features=x.shape[-1],\n",
    "    num_heads=5,\n",
    "    num_layers_enc=1,\n",
    "    num_feed_forward=128,\n",
    "    dropout_rate=0.1,\n",
    "    activation=\"relu\",\n",
    "    batch_size=64,\n",
    "    epochs=300,\n",
    "    callbacks=model_early_stop,\n",
    "    validation_split=0.1,\n",
    "    verbose=0,\n",
    ")\n",
    "\n",
    "start = time.time()\n",
    "scores = train_and_evaluate_model(TransformerWrapper, dataset, estimator_params=params)\n",
    "end = time.time()\n",
    "print(\"Minutes Elapsed: \", (end - start) / 60)"
   ]
  },
  {
   "cell_type": "code",
   "execution_count": 40,
   "metadata": {},
   "outputs": [
    {
     "name": "stdout",
     "output_type": "stream",
     "text": [
      "******\n",
      "[TRAIN]\n",
      "******\n",
      "RMSE: 3.244 (0.000)\n",
      "MAE: 2.534 (0.000)\n",
      "MAPE: 0.058 (0.000)\n",
      "R2: 0.774 (0.000)\n",
      "\n",
      "======================\n",
      "\n",
      "******\n",
      "[TEST]\n",
      "******\n",
      "RMSE: 3.140 (0.000)\n",
      "MAE: 2.521 (0.000)\n",
      "MAPE: 0.060 (0.000)\n",
      "R2: 0.723 (0.000)\n",
      "\n",
      "======================\n",
      "\n"
     ]
    },
    {
     "data": {
      "application/javascript": [
       "\n",
       "            setTimeout(function() {\n",
       "                var nbb_cell_id = 40;\n",
       "                var nbb_unformatted_code = \"print_scores(scores, METRICS, METRICS_DICT)\";\n",
       "                var nbb_formatted_code = \"print_scores(scores, METRICS, METRICS_DICT)\";\n",
       "                var nbb_cells = Jupyter.notebook.get_cells();\n",
       "                for (var i = 0; i < nbb_cells.length; ++i) {\n",
       "                    if (nbb_cells[i].input_prompt_number == nbb_cell_id) {\n",
       "                        if (nbb_cells[i].get_text() == nbb_unformatted_code) {\n",
       "                             nbb_cells[i].set_text(nbb_formatted_code);\n",
       "                        }\n",
       "                        break;\n",
       "                    }\n",
       "                }\n",
       "            }, 500);\n",
       "            "
      ],
      "text/plain": [
       "<IPython.core.display.Javascript object>"
      ]
     },
     "metadata": {},
     "output_type": "display_data"
    }
   ],
   "source": [
    "print_scores(scores, METRICS, METRICS_DICT)"
   ]
  },
  {
   "cell_type": "code",
   "execution_count": 41,
   "metadata": {},
   "outputs": [
    {
     "data": {
      "application/javascript": [
       "\n",
       "            setTimeout(function() {\n",
       "                var nbb_cell_id = 41;\n",
       "                var nbb_unformatted_code = \"results_dict_copy = results_dict.copy()\\nresults_dict_copy[\\\"Timesteps\\\"] = timesteps\\nresults_dict_copy[\\\"Cross Validation\\\"] = \\\"Out of time\\\"\\nresults_dict_copy[\\\"Cross Validation Params\\\"] = '{\\\"train_size\\\": 0.8, \\\"test_size\\\": 0.2}'\\nresults_dict_copy[\\\"Data Shape\\\"] = x.shape\\nresults_dict_copy[\\\"Model\\\"] = f\\\"Transformer_{model_index}\\\"\\nscores = {key: [value] for key, value in scores.items()}\\ndf_results = fill_results_dict(results_dict_copy, scores)\\nresults_to_save.append(df_results)\\nmodel_index += 1\";\n",
       "                var nbb_formatted_code = \"results_dict_copy = results_dict.copy()\\nresults_dict_copy[\\\"Timesteps\\\"] = timesteps\\nresults_dict_copy[\\\"Cross Validation\\\"] = \\\"Out of time\\\"\\nresults_dict_copy[\\\"Cross Validation Params\\\"] = '{\\\"train_size\\\": 0.8, \\\"test_size\\\": 0.2}'\\nresults_dict_copy[\\\"Data Shape\\\"] = x.shape\\nresults_dict_copy[\\\"Model\\\"] = f\\\"Transformer_{model_index}\\\"\\nscores = {key: [value] for key, value in scores.items()}\\ndf_results = fill_results_dict(results_dict_copy, scores)\\nresults_to_save.append(df_results)\\nmodel_index += 1\";\n",
       "                var nbb_cells = Jupyter.notebook.get_cells();\n",
       "                for (var i = 0; i < nbb_cells.length; ++i) {\n",
       "                    if (nbb_cells[i].input_prompt_number == nbb_cell_id) {\n",
       "                        if (nbb_cells[i].get_text() == nbb_unformatted_code) {\n",
       "                             nbb_cells[i].set_text(nbb_formatted_code);\n",
       "                        }\n",
       "                        break;\n",
       "                    }\n",
       "                }\n",
       "            }, 500);\n",
       "            "
      ],
      "text/plain": [
       "<IPython.core.display.Javascript object>"
      ]
     },
     "metadata": {},
     "output_type": "display_data"
    }
   ],
   "source": [
    "results_dict_copy = results_dict.copy()\n",
    "results_dict_copy[\"Timesteps\"] = timesteps\n",
    "results_dict_copy[\"Cross Validation\"] = \"Out of time\"\n",
    "results_dict_copy[\"Cross Validation Params\"] = '{\"train_size\": 0.8, \"test_size\": 0.2}'\n",
    "results_dict_copy[\"Data Shape\"] = x.shape\n",
    "results_dict_copy[\"Model\"] = f\"Transformer_{model_index}\"\n",
    "scores = {key: [value] for key, value in scores.items()}\n",
    "df_results = fill_results_dict(results_dict_copy, scores)\n",
    "results_to_save.append(df_results)\n",
    "model_index += 1"
   ]
  },
  {
   "cell_type": "markdown",
   "metadata": {},
   "source": [
    "### Transformer 3\n",
    "\n",
    "1. TIMESTEPS: 1"
   ]
  },
  {
   "cell_type": "code",
   "execution_count": 42,
   "metadata": {
    "scrolled": false
   },
   "outputs": [
    {
     "name": "stdout",
     "output_type": "stream",
     "text": [
      "Minutes Elapsed:  10.155394013722738\n"
     ]
    },
    {
     "data": {
      "application/javascript": [
       "\n",
       "            setTimeout(function() {\n",
       "                var nbb_cell_id = 42;\n",
       "                var nbb_unformatted_code = \"set_seeds()\\ntimesteps = 1\\nmodel_early_stop = tf.keras.callbacks.EarlyStopping(monitor=\\\"val_loss\\\", patience=10)\\ndataset = prepare_dataset(timesteps=timesteps)\\n\\n\\nparams = get_transformer_params(\\n    timesteps=timesteps,\\n    num_features=x.shape[-1],\\n    num_heads=3,\\n    num_layers_enc=4,\\n    num_feed_forward=256,\\n    dropout_rate=0.1,\\n    activation=\\\"relu\\\",\\n    batch_size=64,\\n    epochs=300,\\n    callbacks=model_early_stop,\\n    validation_split=0.1,\\n    verbose=0,\\n)\\n\\nstart = time.time()\\nscores = train_and_evaluate_model(TransformerWrapper, dataset, estimator_params=params)\\nend = time.time()\\nprint(\\\"Minutes Elapsed: \\\", (end - start) / 60)\";\n",
       "                var nbb_formatted_code = \"set_seeds()\\ntimesteps = 1\\nmodel_early_stop = tf.keras.callbacks.EarlyStopping(monitor=\\\"val_loss\\\", patience=10)\\ndataset = prepare_dataset(timesteps=timesteps)\\n\\n\\nparams = get_transformer_params(\\n    timesteps=timesteps,\\n    num_features=x.shape[-1],\\n    num_heads=3,\\n    num_layers_enc=4,\\n    num_feed_forward=256,\\n    dropout_rate=0.1,\\n    activation=\\\"relu\\\",\\n    batch_size=64,\\n    epochs=300,\\n    callbacks=model_early_stop,\\n    validation_split=0.1,\\n    verbose=0,\\n)\\n\\nstart = time.time()\\nscores = train_and_evaluate_model(TransformerWrapper, dataset, estimator_params=params)\\nend = time.time()\\nprint(\\\"Minutes Elapsed: \\\", (end - start) / 60)\";\n",
       "                var nbb_cells = Jupyter.notebook.get_cells();\n",
       "                for (var i = 0; i < nbb_cells.length; ++i) {\n",
       "                    if (nbb_cells[i].input_prompt_number == nbb_cell_id) {\n",
       "                        if (nbb_cells[i].get_text() == nbb_unformatted_code) {\n",
       "                             nbb_cells[i].set_text(nbb_formatted_code);\n",
       "                        }\n",
       "                        break;\n",
       "                    }\n",
       "                }\n",
       "            }, 500);\n",
       "            "
      ],
      "text/plain": [
       "<IPython.core.display.Javascript object>"
      ]
     },
     "metadata": {},
     "output_type": "display_data"
    }
   ],
   "source": [
    "set_seeds()\n",
    "timesteps = 1\n",
    "model_early_stop = tf.keras.callbacks.EarlyStopping(monitor=\"val_loss\", patience=10)\n",
    "dataset = prepare_dataset(timesteps=timesteps)\n",
    "\n",
    "\n",
    "params = get_transformer_params(\n",
    "    timesteps=timesteps,\n",
    "    num_features=x.shape[-1],\n",
    "    num_heads=3,\n",
    "    num_layers_enc=4,\n",
    "    num_feed_forward=256,\n",
    "    dropout_rate=0.1,\n",
    "    activation=\"relu\",\n",
    "    batch_size=64,\n",
    "    epochs=300,\n",
    "    callbacks=model_early_stop,\n",
    "    validation_split=0.1,\n",
    "    verbose=0,\n",
    ")\n",
    "\n",
    "start = time.time()\n",
    "scores = train_and_evaluate_model(TransformerWrapper, dataset, estimator_params=params)\n",
    "end = time.time()\n",
    "print(\"Minutes Elapsed: \", (end - start) / 60)"
   ]
  },
  {
   "cell_type": "code",
   "execution_count": 43,
   "metadata": {},
   "outputs": [
    {
     "name": "stdout",
     "output_type": "stream",
     "text": [
      "******\n",
      "[TRAIN]\n",
      "******\n",
      "RMSE: 2.783 (0.000)\n",
      "MAE: 1.994 (0.000)\n",
      "MAPE: 0.046 (0.000)\n",
      "R2: 0.834 (0.000)\n",
      "\n",
      "======================\n",
      "\n",
      "******\n",
      "[TEST]\n",
      "******\n",
      "RMSE: 3.187 (0.000)\n",
      "MAE: 2.299 (0.000)\n",
      "MAPE: 0.055 (0.000)\n",
      "R2: 0.714 (0.000)\n",
      "\n",
      "======================\n",
      "\n"
     ]
    },
    {
     "data": {
      "application/javascript": [
       "\n",
       "            setTimeout(function() {\n",
       "                var nbb_cell_id = 43;\n",
       "                var nbb_unformatted_code = \"print_scores(scores, METRICS, METRICS_DICT)\";\n",
       "                var nbb_formatted_code = \"print_scores(scores, METRICS, METRICS_DICT)\";\n",
       "                var nbb_cells = Jupyter.notebook.get_cells();\n",
       "                for (var i = 0; i < nbb_cells.length; ++i) {\n",
       "                    if (nbb_cells[i].input_prompt_number == nbb_cell_id) {\n",
       "                        if (nbb_cells[i].get_text() == nbb_unformatted_code) {\n",
       "                             nbb_cells[i].set_text(nbb_formatted_code);\n",
       "                        }\n",
       "                        break;\n",
       "                    }\n",
       "                }\n",
       "            }, 500);\n",
       "            "
      ],
      "text/plain": [
       "<IPython.core.display.Javascript object>"
      ]
     },
     "metadata": {},
     "output_type": "display_data"
    }
   ],
   "source": [
    "print_scores(scores, METRICS, METRICS_DICT)"
   ]
  },
  {
   "cell_type": "code",
   "execution_count": 44,
   "metadata": {},
   "outputs": [
    {
     "data": {
      "application/javascript": [
       "\n",
       "            setTimeout(function() {\n",
       "                var nbb_cell_id = 44;\n",
       "                var nbb_unformatted_code = \"results_dict_copy = results_dict.copy()\\nresults_dict_copy[\\\"Timesteps\\\"] = timesteps\\nresults_dict_copy[\\\"Cross Validation\\\"] = \\\"Out of time\\\"\\nresults_dict_copy[\\\"Cross Validation Params\\\"] = '{\\\"train_size\\\": 0.8, \\\"test_size\\\": 0.2}'\\nresults_dict_copy[\\\"Data Shape\\\"] = x.shape\\nresults_dict_copy[\\\"Model\\\"] = f\\\"Transformer_{model_index}\\\"\\nscores = {key: [value] for key, value in scores.items()}\\ndf_results = fill_results_dict(results_dict_copy, scores)\\nresults_to_save.append(df_results)\\nmodel_index += 1\";\n",
       "                var nbb_formatted_code = \"results_dict_copy = results_dict.copy()\\nresults_dict_copy[\\\"Timesteps\\\"] = timesteps\\nresults_dict_copy[\\\"Cross Validation\\\"] = \\\"Out of time\\\"\\nresults_dict_copy[\\\"Cross Validation Params\\\"] = '{\\\"train_size\\\": 0.8, \\\"test_size\\\": 0.2}'\\nresults_dict_copy[\\\"Data Shape\\\"] = x.shape\\nresults_dict_copy[\\\"Model\\\"] = f\\\"Transformer_{model_index}\\\"\\nscores = {key: [value] for key, value in scores.items()}\\ndf_results = fill_results_dict(results_dict_copy, scores)\\nresults_to_save.append(df_results)\\nmodel_index += 1\";\n",
       "                var nbb_cells = Jupyter.notebook.get_cells();\n",
       "                for (var i = 0; i < nbb_cells.length; ++i) {\n",
       "                    if (nbb_cells[i].input_prompt_number == nbb_cell_id) {\n",
       "                        if (nbb_cells[i].get_text() == nbb_unformatted_code) {\n",
       "                             nbb_cells[i].set_text(nbb_formatted_code);\n",
       "                        }\n",
       "                        break;\n",
       "                    }\n",
       "                }\n",
       "            }, 500);\n",
       "            "
      ],
      "text/plain": [
       "<IPython.core.display.Javascript object>"
      ]
     },
     "metadata": {},
     "output_type": "display_data"
    }
   ],
   "source": [
    "results_dict_copy = results_dict.copy()\n",
    "results_dict_copy[\"Timesteps\"] = timesteps\n",
    "results_dict_copy[\"Cross Validation\"] = \"Out of time\"\n",
    "results_dict_copy[\"Cross Validation Params\"] = '{\"train_size\": 0.8, \"test_size\": 0.2}'\n",
    "results_dict_copy[\"Data Shape\"] = x.shape\n",
    "results_dict_copy[\"Model\"] = f\"Transformer_{model_index}\"\n",
    "scores = {key: [value] for key, value in scores.items()}\n",
    "df_results = fill_results_dict(results_dict_copy, scores)\n",
    "results_to_save.append(df_results)\n",
    "model_index += 1"
   ]
  },
  {
   "cell_type": "markdown",
   "metadata": {},
   "source": [
    "### Transformer 3\n",
    "\n",
    "1. TIMESTEPS: 7"
   ]
  },
  {
   "cell_type": "code",
   "execution_count": 45,
   "metadata": {
    "scrolled": true
   },
   "outputs": [
    {
     "name": "stdout",
     "output_type": "stream",
     "text": [
      "Minutes Elapsed:  18.749873809019725\n"
     ]
    },
    {
     "data": {
      "application/javascript": [
       "\n",
       "            setTimeout(function() {\n",
       "                var nbb_cell_id = 45;\n",
       "                var nbb_unformatted_code = \"set_seeds()\\ntimesteps = 7\\nmodel_early_stop = tf.keras.callbacks.EarlyStopping(monitor=\\\"val_loss\\\", patience=10)\\ndataset = prepare_dataset(timesteps=timesteps)\\n\\nparams = get_transformer_params(\\n    timesteps=timesteps,\\n    num_features=x.shape[-1],\\n    num_heads=3,\\n    num_layers_enc=4,\\n    num_feed_forward=256,\\n    dropout_rate=0.1,\\n    activation=\\\"relu\\\",\\n    batch_size=64,\\n    epochs=300,\\n    callbacks=model_early_stop,\\n    validation_split=0.1,\\n    verbose=0,\\n)\\n\\nstart = time.time()\\nscores = train_and_evaluate_model(TransformerWrapper, dataset, estimator_params=params)\\nend = time.time()\\nprint(\\\"Minutes Elapsed: \\\", (end - start) / 60)\";\n",
       "                var nbb_formatted_code = \"set_seeds()\\ntimesteps = 7\\nmodel_early_stop = tf.keras.callbacks.EarlyStopping(monitor=\\\"val_loss\\\", patience=10)\\ndataset = prepare_dataset(timesteps=timesteps)\\n\\nparams = get_transformer_params(\\n    timesteps=timesteps,\\n    num_features=x.shape[-1],\\n    num_heads=3,\\n    num_layers_enc=4,\\n    num_feed_forward=256,\\n    dropout_rate=0.1,\\n    activation=\\\"relu\\\",\\n    batch_size=64,\\n    epochs=300,\\n    callbacks=model_early_stop,\\n    validation_split=0.1,\\n    verbose=0,\\n)\\n\\nstart = time.time()\\nscores = train_and_evaluate_model(TransformerWrapper, dataset, estimator_params=params)\\nend = time.time()\\nprint(\\\"Minutes Elapsed: \\\", (end - start) / 60)\";\n",
       "                var nbb_cells = Jupyter.notebook.get_cells();\n",
       "                for (var i = 0; i < nbb_cells.length; ++i) {\n",
       "                    if (nbb_cells[i].input_prompt_number == nbb_cell_id) {\n",
       "                        if (nbb_cells[i].get_text() == nbb_unformatted_code) {\n",
       "                             nbb_cells[i].set_text(nbb_formatted_code);\n",
       "                        }\n",
       "                        break;\n",
       "                    }\n",
       "                }\n",
       "            }, 500);\n",
       "            "
      ],
      "text/plain": [
       "<IPython.core.display.Javascript object>"
      ]
     },
     "metadata": {},
     "output_type": "display_data"
    }
   ],
   "source": [
    "set_seeds()\n",
    "timesteps = 7\n",
    "model_early_stop = tf.keras.callbacks.EarlyStopping(monitor=\"val_loss\", patience=10)\n",
    "dataset = prepare_dataset(timesteps=timesteps)\n",
    "\n",
    "params = get_transformer_params(\n",
    "    timesteps=timesteps,\n",
    "    num_features=x.shape[-1],\n",
    "    num_heads=3,\n",
    "    num_layers_enc=4,\n",
    "    num_feed_forward=256,\n",
    "    dropout_rate=0.1,\n",
    "    activation=\"relu\",\n",
    "    batch_size=64,\n",
    "    epochs=300,\n",
    "    callbacks=model_early_stop,\n",
    "    validation_split=0.1,\n",
    "    verbose=0,\n",
    ")\n",
    "\n",
    "start = time.time()\n",
    "scores = train_and_evaluate_model(TransformerWrapper, dataset, estimator_params=params)\n",
    "end = time.time()\n",
    "print(\"Minutes Elapsed: \", (end - start) / 60)"
   ]
  },
  {
   "cell_type": "code",
   "execution_count": 46,
   "metadata": {},
   "outputs": [
    {
     "name": "stdout",
     "output_type": "stream",
     "text": [
      "******\n",
      "[TRAIN]\n",
      "******\n",
      "RMSE: 3.002 (0.000)\n",
      "MAE: 2.382 (0.000)\n",
      "MAPE: 0.055 (0.000)\n",
      "R2: 0.807 (0.000)\n",
      "\n",
      "======================\n",
      "\n",
      "******\n",
      "[TEST]\n",
      "******\n",
      "RMSE: 2.953 (0.000)\n",
      "MAE: 2.338 (0.000)\n",
      "MAPE: 0.056 (0.000)\n",
      "R2: 0.755 (0.000)\n",
      "\n",
      "======================\n",
      "\n"
     ]
    },
    {
     "data": {
      "application/javascript": [
       "\n",
       "            setTimeout(function() {\n",
       "                var nbb_cell_id = 46;\n",
       "                var nbb_unformatted_code = \"print_scores(scores, METRICS, METRICS_DICT)\";\n",
       "                var nbb_formatted_code = \"print_scores(scores, METRICS, METRICS_DICT)\";\n",
       "                var nbb_cells = Jupyter.notebook.get_cells();\n",
       "                for (var i = 0; i < nbb_cells.length; ++i) {\n",
       "                    if (nbb_cells[i].input_prompt_number == nbb_cell_id) {\n",
       "                        if (nbb_cells[i].get_text() == nbb_unformatted_code) {\n",
       "                             nbb_cells[i].set_text(nbb_formatted_code);\n",
       "                        }\n",
       "                        break;\n",
       "                    }\n",
       "                }\n",
       "            }, 500);\n",
       "            "
      ],
      "text/plain": [
       "<IPython.core.display.Javascript object>"
      ]
     },
     "metadata": {},
     "output_type": "display_data"
    }
   ],
   "source": [
    "print_scores(scores, METRICS, METRICS_DICT)"
   ]
  },
  {
   "cell_type": "code",
   "execution_count": 47,
   "metadata": {},
   "outputs": [
    {
     "data": {
      "application/javascript": [
       "\n",
       "            setTimeout(function() {\n",
       "                var nbb_cell_id = 47;\n",
       "                var nbb_unformatted_code = \"results_dict_copy = results_dict.copy()\\nresults_dict_copy[\\\"Timesteps\\\"] = timesteps\\nresults_dict_copy[\\\"Cross Validation\\\"] = \\\"Out of time\\\"\\nresults_dict_copy[\\\"Cross Validation Params\\\"] = '{\\\"train_size\\\": 0.8, \\\"test_size\\\": 0.2}'\\nresults_dict_copy[\\\"Data Shape\\\"] = x.shape\\nresults_dict_copy[\\\"Model\\\"] = f\\\"Transformer_{model_index}\\\"\\nscores = {key: [value] for key, value in scores.items()}\\ndf_results = fill_results_dict(results_dict_copy, scores)\\nresults_to_save.append(df_results)\\nmodel_index += 1\";\n",
       "                var nbb_formatted_code = \"results_dict_copy = results_dict.copy()\\nresults_dict_copy[\\\"Timesteps\\\"] = timesteps\\nresults_dict_copy[\\\"Cross Validation\\\"] = \\\"Out of time\\\"\\nresults_dict_copy[\\\"Cross Validation Params\\\"] = '{\\\"train_size\\\": 0.8, \\\"test_size\\\": 0.2}'\\nresults_dict_copy[\\\"Data Shape\\\"] = x.shape\\nresults_dict_copy[\\\"Model\\\"] = f\\\"Transformer_{model_index}\\\"\\nscores = {key: [value] for key, value in scores.items()}\\ndf_results = fill_results_dict(results_dict_copy, scores)\\nresults_to_save.append(df_results)\\nmodel_index += 1\";\n",
       "                var nbb_cells = Jupyter.notebook.get_cells();\n",
       "                for (var i = 0; i < nbb_cells.length; ++i) {\n",
       "                    if (nbb_cells[i].input_prompt_number == nbb_cell_id) {\n",
       "                        if (nbb_cells[i].get_text() == nbb_unformatted_code) {\n",
       "                             nbb_cells[i].set_text(nbb_formatted_code);\n",
       "                        }\n",
       "                        break;\n",
       "                    }\n",
       "                }\n",
       "            }, 500);\n",
       "            "
      ],
      "text/plain": [
       "<IPython.core.display.Javascript object>"
      ]
     },
     "metadata": {},
     "output_type": "display_data"
    }
   ],
   "source": [
    "results_dict_copy = results_dict.copy()\n",
    "results_dict_copy[\"Timesteps\"] = timesteps\n",
    "results_dict_copy[\"Cross Validation\"] = \"Out of time\"\n",
    "results_dict_copy[\"Cross Validation Params\"] = '{\"train_size\": 0.8, \"test_size\": 0.2}'\n",
    "results_dict_copy[\"Data Shape\"] = x.shape\n",
    "results_dict_copy[\"Model\"] = f\"Transformer_{model_index}\"\n",
    "scores = {key: [value] for key, value in scores.items()}\n",
    "df_results = fill_results_dict(results_dict_copy, scores)\n",
    "results_to_save.append(df_results)\n",
    "model_index += 1"
   ]
  },
  {
   "cell_type": "markdown",
   "metadata": {},
   "source": [
    "### Transformer 3\n",
    "\n",
    "1. TIMESTEPS: 14"
   ]
  },
  {
   "cell_type": "code",
   "execution_count": 48,
   "metadata": {
    "scrolled": true
   },
   "outputs": [
    {
     "name": "stdout",
     "output_type": "stream",
     "text": [
      "Minutes Elapsed:  11.877866379419963\n"
     ]
    },
    {
     "data": {
      "application/javascript": [
       "\n",
       "            setTimeout(function() {\n",
       "                var nbb_cell_id = 48;\n",
       "                var nbb_unformatted_code = \"set_seeds()\\ntimesteps = 14\\nmodel_early_stop = tf.keras.callbacks.EarlyStopping(monitor=\\\"val_loss\\\", patience=10)\\ndataset = prepare_dataset(timesteps=timesteps)\\n\\nparams = get_transformer_params(\\n    timesteps=timesteps,\\n    num_features=x.shape[-1],\\n    num_heads=3,\\n    num_layers_enc=4,\\n    num_feed_forward=256,\\n    dropout_rate=0.1,\\n    activation=\\\"relu\\\",\\n    batch_size=64,\\n    epochs=300,\\n    callbacks=model_early_stop,\\n    validation_split=0.1,\\n    verbose=0,\\n)\\n\\nstart = time.time()\\nscores = train_and_evaluate_model(TransformerWrapper, dataset, estimator_params=params)\\nend = time.time()\\nprint(\\\"Minutes Elapsed: \\\", (end - start) / 60)\";\n",
       "                var nbb_formatted_code = \"set_seeds()\\ntimesteps = 14\\nmodel_early_stop = tf.keras.callbacks.EarlyStopping(monitor=\\\"val_loss\\\", patience=10)\\ndataset = prepare_dataset(timesteps=timesteps)\\n\\nparams = get_transformer_params(\\n    timesteps=timesteps,\\n    num_features=x.shape[-1],\\n    num_heads=3,\\n    num_layers_enc=4,\\n    num_feed_forward=256,\\n    dropout_rate=0.1,\\n    activation=\\\"relu\\\",\\n    batch_size=64,\\n    epochs=300,\\n    callbacks=model_early_stop,\\n    validation_split=0.1,\\n    verbose=0,\\n)\\n\\nstart = time.time()\\nscores = train_and_evaluate_model(TransformerWrapper, dataset, estimator_params=params)\\nend = time.time()\\nprint(\\\"Minutes Elapsed: \\\", (end - start) / 60)\";\n",
       "                var nbb_cells = Jupyter.notebook.get_cells();\n",
       "                for (var i = 0; i < nbb_cells.length; ++i) {\n",
       "                    if (nbb_cells[i].input_prompt_number == nbb_cell_id) {\n",
       "                        if (nbb_cells[i].get_text() == nbb_unformatted_code) {\n",
       "                             nbb_cells[i].set_text(nbb_formatted_code);\n",
       "                        }\n",
       "                        break;\n",
       "                    }\n",
       "                }\n",
       "            }, 500);\n",
       "            "
      ],
      "text/plain": [
       "<IPython.core.display.Javascript object>"
      ]
     },
     "metadata": {},
     "output_type": "display_data"
    }
   ],
   "source": [
    "set_seeds()\n",
    "timesteps = 14\n",
    "model_early_stop = tf.keras.callbacks.EarlyStopping(monitor=\"val_loss\", patience=10)\n",
    "dataset = prepare_dataset(timesteps=timesteps)\n",
    "\n",
    "params = get_transformer_params(\n",
    "    timesteps=timesteps,\n",
    "    num_features=x.shape[-1],\n",
    "    num_heads=3,\n",
    "    num_layers_enc=4,\n",
    "    num_feed_forward=256,\n",
    "    dropout_rate=0.1,\n",
    "    activation=\"relu\",\n",
    "    batch_size=64,\n",
    "    epochs=300,\n",
    "    callbacks=model_early_stop,\n",
    "    validation_split=0.1,\n",
    "    verbose=0,\n",
    ")\n",
    "\n",
    "start = time.time()\n",
    "scores = train_and_evaluate_model(TransformerWrapper, dataset, estimator_params=params)\n",
    "end = time.time()\n",
    "print(\"Minutes Elapsed: \", (end - start) / 60)"
   ]
  },
  {
   "cell_type": "code",
   "execution_count": 49,
   "metadata": {},
   "outputs": [
    {
     "name": "stdout",
     "output_type": "stream",
     "text": [
      "******\n",
      "[TRAIN]\n",
      "******\n",
      "RMSE: 3.026 (0.000)\n",
      "MAE: 2.374 (0.000)\n",
      "MAPE: 0.054 (0.000)\n",
      "R2: 0.804 (0.000)\n",
      "\n",
      "======================\n",
      "\n",
      "******\n",
      "[TEST]\n",
      "******\n",
      "RMSE: 2.942 (0.000)\n",
      "MAE: 2.302 (0.000)\n",
      "MAPE: 0.055 (0.000)\n",
      "R2: 0.756 (0.000)\n",
      "\n",
      "======================\n",
      "\n"
     ]
    },
    {
     "data": {
      "application/javascript": [
       "\n",
       "            setTimeout(function() {\n",
       "                var nbb_cell_id = 49;\n",
       "                var nbb_unformatted_code = \"print_scores(scores, METRICS, METRICS_DICT)\";\n",
       "                var nbb_formatted_code = \"print_scores(scores, METRICS, METRICS_DICT)\";\n",
       "                var nbb_cells = Jupyter.notebook.get_cells();\n",
       "                for (var i = 0; i < nbb_cells.length; ++i) {\n",
       "                    if (nbb_cells[i].input_prompt_number == nbb_cell_id) {\n",
       "                        if (nbb_cells[i].get_text() == nbb_unformatted_code) {\n",
       "                             nbb_cells[i].set_text(nbb_formatted_code);\n",
       "                        }\n",
       "                        break;\n",
       "                    }\n",
       "                }\n",
       "            }, 500);\n",
       "            "
      ],
      "text/plain": [
       "<IPython.core.display.Javascript object>"
      ]
     },
     "metadata": {},
     "output_type": "display_data"
    }
   ],
   "source": [
    "print_scores(scores, METRICS, METRICS_DICT)"
   ]
  },
  {
   "cell_type": "code",
   "execution_count": 50,
   "metadata": {},
   "outputs": [
    {
     "data": {
      "application/javascript": [
       "\n",
       "            setTimeout(function() {\n",
       "                var nbb_cell_id = 50;\n",
       "                var nbb_unformatted_code = \"results_dict_copy = results_dict.copy()\\nresults_dict_copy[\\\"Timesteps\\\"] = timesteps\\nresults_dict_copy[\\\"Cross Validation\\\"] = \\\"Out of time\\\"\\nresults_dict_copy[\\\"Cross Validation Params\\\"] = '{\\\"train_size\\\": 0.8, \\\"test_size\\\": 0.2}'\\nresults_dict_copy[\\\"Data Shape\\\"] = x.shape\\nresults_dict_copy[\\\"Model\\\"] = f\\\"Transformer_{model_index}\\\"\\nscores = {key: [value] for key, value in scores.items()}\\ndf_results = fill_results_dict(results_dict_copy, scores)\\nresults_to_save.append(df_results)\\nmodel_index += 1\";\n",
       "                var nbb_formatted_code = \"results_dict_copy = results_dict.copy()\\nresults_dict_copy[\\\"Timesteps\\\"] = timesteps\\nresults_dict_copy[\\\"Cross Validation\\\"] = \\\"Out of time\\\"\\nresults_dict_copy[\\\"Cross Validation Params\\\"] = '{\\\"train_size\\\": 0.8, \\\"test_size\\\": 0.2}'\\nresults_dict_copy[\\\"Data Shape\\\"] = x.shape\\nresults_dict_copy[\\\"Model\\\"] = f\\\"Transformer_{model_index}\\\"\\nscores = {key: [value] for key, value in scores.items()}\\ndf_results = fill_results_dict(results_dict_copy, scores)\\nresults_to_save.append(df_results)\\nmodel_index += 1\";\n",
       "                var nbb_cells = Jupyter.notebook.get_cells();\n",
       "                for (var i = 0; i < nbb_cells.length; ++i) {\n",
       "                    if (nbb_cells[i].input_prompt_number == nbb_cell_id) {\n",
       "                        if (nbb_cells[i].get_text() == nbb_unformatted_code) {\n",
       "                             nbb_cells[i].set_text(nbb_formatted_code);\n",
       "                        }\n",
       "                        break;\n",
       "                    }\n",
       "                }\n",
       "            }, 500);\n",
       "            "
      ],
      "text/plain": [
       "<IPython.core.display.Javascript object>"
      ]
     },
     "metadata": {},
     "output_type": "display_data"
    }
   ],
   "source": [
    "results_dict_copy = results_dict.copy()\n",
    "results_dict_copy[\"Timesteps\"] = timesteps\n",
    "results_dict_copy[\"Cross Validation\"] = \"Out of time\"\n",
    "results_dict_copy[\"Cross Validation Params\"] = '{\"train_size\": 0.8, \"test_size\": 0.2}'\n",
    "results_dict_copy[\"Data Shape\"] = x.shape\n",
    "results_dict_copy[\"Model\"] = f\"Transformer_{model_index}\"\n",
    "scores = {key: [value] for key, value in scores.items()}\n",
    "df_results = fill_results_dict(results_dict_copy, scores)\n",
    "results_to_save.append(df_results)\n",
    "model_index += 1"
   ]
  },
  {
   "cell_type": "markdown",
   "metadata": {},
   "source": [
    "### Transformer 4\n",
    "\n",
    "1. TIMESTEPS: 1"
   ]
  },
  {
   "cell_type": "code",
   "execution_count": 51,
   "metadata": {
    "scrolled": true
   },
   "outputs": [
    {
     "name": "stdout",
     "output_type": "stream",
     "text": [
      "Minutes Elapsed:  11.941615772247314\n"
     ]
    },
    {
     "data": {
      "application/javascript": [
       "\n",
       "            setTimeout(function() {\n",
       "                var nbb_cell_id = 51;\n",
       "                var nbb_unformatted_code = \"set_seeds()\\ntimesteps = 1\\nmodel_early_stop = tf.keras.callbacks.EarlyStopping(monitor=\\\"val_loss\\\", patience=10)\\ndataset = prepare_dataset(timesteps=timesteps)\\n\\nparams = get_transformer_params(\\n    timesteps=timesteps,\\n    num_features=x.shape[-1],\\n    num_heads=4,\\n    num_layers_enc=2,\\n    num_feed_forward=128,\\n    dropout_rate=0.1,\\n    activation=\\\"relu\\\",\\n    batch_size=64,\\n    epochs=300,\\n    callbacks=model_early_stop,\\n    validation_split=0.1,\\n    verbose=0,\\n)\\n\\nstart = time.time()\\nscores = train_and_evaluate_model(TransformerWrapper, dataset, estimator_params=params)\\nend = time.time()\\nprint(\\\"Minutes Elapsed: \\\", (end - start) / 60)\";\n",
       "                var nbb_formatted_code = \"set_seeds()\\ntimesteps = 1\\nmodel_early_stop = tf.keras.callbacks.EarlyStopping(monitor=\\\"val_loss\\\", patience=10)\\ndataset = prepare_dataset(timesteps=timesteps)\\n\\nparams = get_transformer_params(\\n    timesteps=timesteps,\\n    num_features=x.shape[-1],\\n    num_heads=4,\\n    num_layers_enc=2,\\n    num_feed_forward=128,\\n    dropout_rate=0.1,\\n    activation=\\\"relu\\\",\\n    batch_size=64,\\n    epochs=300,\\n    callbacks=model_early_stop,\\n    validation_split=0.1,\\n    verbose=0,\\n)\\n\\nstart = time.time()\\nscores = train_and_evaluate_model(TransformerWrapper, dataset, estimator_params=params)\\nend = time.time()\\nprint(\\\"Minutes Elapsed: \\\", (end - start) / 60)\";\n",
       "                var nbb_cells = Jupyter.notebook.get_cells();\n",
       "                for (var i = 0; i < nbb_cells.length; ++i) {\n",
       "                    if (nbb_cells[i].input_prompt_number == nbb_cell_id) {\n",
       "                        if (nbb_cells[i].get_text() == nbb_unformatted_code) {\n",
       "                             nbb_cells[i].set_text(nbb_formatted_code);\n",
       "                        }\n",
       "                        break;\n",
       "                    }\n",
       "                }\n",
       "            }, 500);\n",
       "            "
      ],
      "text/plain": [
       "<IPython.core.display.Javascript object>"
      ]
     },
     "metadata": {},
     "output_type": "display_data"
    }
   ],
   "source": [
    "set_seeds()\n",
    "timesteps = 1\n",
    "model_early_stop = tf.keras.callbacks.EarlyStopping(monitor=\"val_loss\", patience=10)\n",
    "dataset = prepare_dataset(timesteps=timesteps)\n",
    "\n",
    "params = get_transformer_params(\n",
    "    timesteps=timesteps,\n",
    "    num_features=x.shape[-1],\n",
    "    num_heads=4,\n",
    "    num_layers_enc=2,\n",
    "    num_feed_forward=128,\n",
    "    dropout_rate=0.1,\n",
    "    activation=\"relu\",\n",
    "    batch_size=64,\n",
    "    epochs=300,\n",
    "    callbacks=model_early_stop,\n",
    "    validation_split=0.1,\n",
    "    verbose=0,\n",
    ")\n",
    "\n",
    "start = time.time()\n",
    "scores = train_and_evaluate_model(TransformerWrapper, dataset, estimator_params=params)\n",
    "end = time.time()\n",
    "print(\"Minutes Elapsed: \", (end - start) / 60)"
   ]
  },
  {
   "cell_type": "code",
   "execution_count": 52,
   "metadata": {},
   "outputs": [
    {
     "name": "stdout",
     "output_type": "stream",
     "text": [
      "******\n",
      "[TRAIN]\n",
      "******\n",
      "RMSE: 2.817 (0.000)\n",
      "MAE: 2.044 (0.000)\n",
      "MAPE: 0.048 (0.000)\n",
      "R2: 0.830 (0.000)\n",
      "\n",
      "======================\n",
      "\n",
      "******\n",
      "[TEST]\n",
      "******\n",
      "RMSE: 3.248 (0.000)\n",
      "MAE: 2.373 (0.000)\n",
      "MAPE: 0.058 (0.000)\n",
      "R2: 0.703 (0.000)\n",
      "\n",
      "======================\n",
      "\n"
     ]
    },
    {
     "data": {
      "application/javascript": [
       "\n",
       "            setTimeout(function() {\n",
       "                var nbb_cell_id = 52;\n",
       "                var nbb_unformatted_code = \"print_scores(scores, METRICS, METRICS_DICT)\";\n",
       "                var nbb_formatted_code = \"print_scores(scores, METRICS, METRICS_DICT)\";\n",
       "                var nbb_cells = Jupyter.notebook.get_cells();\n",
       "                for (var i = 0; i < nbb_cells.length; ++i) {\n",
       "                    if (nbb_cells[i].input_prompt_number == nbb_cell_id) {\n",
       "                        if (nbb_cells[i].get_text() == nbb_unformatted_code) {\n",
       "                             nbb_cells[i].set_text(nbb_formatted_code);\n",
       "                        }\n",
       "                        break;\n",
       "                    }\n",
       "                }\n",
       "            }, 500);\n",
       "            "
      ],
      "text/plain": [
       "<IPython.core.display.Javascript object>"
      ]
     },
     "metadata": {},
     "output_type": "display_data"
    }
   ],
   "source": [
    "print_scores(scores, METRICS, METRICS_DICT)"
   ]
  },
  {
   "cell_type": "code",
   "execution_count": 53,
   "metadata": {},
   "outputs": [
    {
     "data": {
      "application/javascript": [
       "\n",
       "            setTimeout(function() {\n",
       "                var nbb_cell_id = 53;\n",
       "                var nbb_unformatted_code = \"results_dict_copy = results_dict.copy()\\nresults_dict_copy[\\\"Timesteps\\\"] = timesteps\\nresults_dict_copy[\\\"Cross Validation\\\"] = \\\"Out of time\\\"\\nresults_dict_copy[\\\"Cross Validation Params\\\"] = '{\\\"train_size\\\": 0.8, \\\"test_size\\\": 0.2}'\\nresults_dict_copy[\\\"Data Shape\\\"] = x.shape\\nresults_dict_copy[\\\"Model\\\"] = f\\\"Transformer_{model_index}\\\"\\nscores = {key: [value] for key, value in scores.items()}\\ndf_results = fill_results_dict(results_dict_copy, scores)\\nresults_to_save.append(df_results)\\nmodel_index += 1\";\n",
       "                var nbb_formatted_code = \"results_dict_copy = results_dict.copy()\\nresults_dict_copy[\\\"Timesteps\\\"] = timesteps\\nresults_dict_copy[\\\"Cross Validation\\\"] = \\\"Out of time\\\"\\nresults_dict_copy[\\\"Cross Validation Params\\\"] = '{\\\"train_size\\\": 0.8, \\\"test_size\\\": 0.2}'\\nresults_dict_copy[\\\"Data Shape\\\"] = x.shape\\nresults_dict_copy[\\\"Model\\\"] = f\\\"Transformer_{model_index}\\\"\\nscores = {key: [value] for key, value in scores.items()}\\ndf_results = fill_results_dict(results_dict_copy, scores)\\nresults_to_save.append(df_results)\\nmodel_index += 1\";\n",
       "                var nbb_cells = Jupyter.notebook.get_cells();\n",
       "                for (var i = 0; i < nbb_cells.length; ++i) {\n",
       "                    if (nbb_cells[i].input_prompt_number == nbb_cell_id) {\n",
       "                        if (nbb_cells[i].get_text() == nbb_unformatted_code) {\n",
       "                             nbb_cells[i].set_text(nbb_formatted_code);\n",
       "                        }\n",
       "                        break;\n",
       "                    }\n",
       "                }\n",
       "            }, 500);\n",
       "            "
      ],
      "text/plain": [
       "<IPython.core.display.Javascript object>"
      ]
     },
     "metadata": {},
     "output_type": "display_data"
    }
   ],
   "source": [
    "results_dict_copy = results_dict.copy()\n",
    "results_dict_copy[\"Timesteps\"] = timesteps\n",
    "results_dict_copy[\"Cross Validation\"] = \"Out of time\"\n",
    "results_dict_copy[\"Cross Validation Params\"] = '{\"train_size\": 0.8, \"test_size\": 0.2}'\n",
    "results_dict_copy[\"Data Shape\"] = x.shape\n",
    "results_dict_copy[\"Model\"] = f\"Transformer_{model_index}\"\n",
    "scores = {key: [value] for key, value in scores.items()}\n",
    "df_results = fill_results_dict(results_dict_copy, scores)\n",
    "results_to_save.append(df_results)\n",
    "model_index += 1"
   ]
  },
  {
   "cell_type": "markdown",
   "metadata": {},
   "source": [
    "### Transformer 4\n",
    "\n",
    "1. TIMESTEPS: 7"
   ]
  },
  {
   "cell_type": "code",
   "execution_count": 54,
   "metadata": {
    "scrolled": true
   },
   "outputs": [
    {
     "name": "stdout",
     "output_type": "stream",
     "text": [
      "Minutes Elapsed:  7.626842272281647\n"
     ]
    },
    {
     "data": {
      "application/javascript": [
       "\n",
       "            setTimeout(function() {\n",
       "                var nbb_cell_id = 54;\n",
       "                var nbb_unformatted_code = \"set_seeds()\\ntimesteps = 7\\nmodel_early_stop = tf.keras.callbacks.EarlyStopping(monitor=\\\"val_loss\\\", patience=10)\\ndataset = prepare_dataset(timesteps=timesteps)\\n\\nparams = get_transformer_params(\\n    timesteps=timesteps,\\n    num_features=x.shape[-1],\\n    num_heads=4,\\n    num_layers_enc=2,\\n    num_feed_forward=128,\\n    dropout_rate=0.1,\\n    activation=\\\"relu\\\",\\n    batch_size=64,\\n    epochs=300,\\n    callbacks=model_early_stop,\\n    validation_split=0.1,\\n    verbose=0,\\n)\\n\\nstart = time.time()\\nscores = train_and_evaluate_model(TransformerWrapper, dataset, estimator_params=params)\\nend = time.time()\\nprint(\\\"Minutes Elapsed: \\\", (end - start) / 60)\";\n",
       "                var nbb_formatted_code = \"set_seeds()\\ntimesteps = 7\\nmodel_early_stop = tf.keras.callbacks.EarlyStopping(monitor=\\\"val_loss\\\", patience=10)\\ndataset = prepare_dataset(timesteps=timesteps)\\n\\nparams = get_transformer_params(\\n    timesteps=timesteps,\\n    num_features=x.shape[-1],\\n    num_heads=4,\\n    num_layers_enc=2,\\n    num_feed_forward=128,\\n    dropout_rate=0.1,\\n    activation=\\\"relu\\\",\\n    batch_size=64,\\n    epochs=300,\\n    callbacks=model_early_stop,\\n    validation_split=0.1,\\n    verbose=0,\\n)\\n\\nstart = time.time()\\nscores = train_and_evaluate_model(TransformerWrapper, dataset, estimator_params=params)\\nend = time.time()\\nprint(\\\"Minutes Elapsed: \\\", (end - start) / 60)\";\n",
       "                var nbb_cells = Jupyter.notebook.get_cells();\n",
       "                for (var i = 0; i < nbb_cells.length; ++i) {\n",
       "                    if (nbb_cells[i].input_prompt_number == nbb_cell_id) {\n",
       "                        if (nbb_cells[i].get_text() == nbb_unformatted_code) {\n",
       "                             nbb_cells[i].set_text(nbb_formatted_code);\n",
       "                        }\n",
       "                        break;\n",
       "                    }\n",
       "                }\n",
       "            }, 500);\n",
       "            "
      ],
      "text/plain": [
       "<IPython.core.display.Javascript object>"
      ]
     },
     "metadata": {},
     "output_type": "display_data"
    }
   ],
   "source": [
    "set_seeds()\n",
    "timesteps = 7\n",
    "model_early_stop = tf.keras.callbacks.EarlyStopping(monitor=\"val_loss\", patience=10)\n",
    "dataset = prepare_dataset(timesteps=timesteps)\n",
    "\n",
    "params = get_transformer_params(\n",
    "    timesteps=timesteps,\n",
    "    num_features=x.shape[-1],\n",
    "    num_heads=4,\n",
    "    num_layers_enc=2,\n",
    "    num_feed_forward=128,\n",
    "    dropout_rate=0.1,\n",
    "    activation=\"relu\",\n",
    "    batch_size=64,\n",
    "    epochs=300,\n",
    "    callbacks=model_early_stop,\n",
    "    validation_split=0.1,\n",
    "    verbose=0,\n",
    ")\n",
    "\n",
    "start = time.time()\n",
    "scores = train_and_evaluate_model(TransformerWrapper, dataset, estimator_params=params)\n",
    "end = time.time()\n",
    "print(\"Minutes Elapsed: \", (end - start) / 60)"
   ]
  },
  {
   "cell_type": "code",
   "execution_count": 55,
   "metadata": {},
   "outputs": [
    {
     "name": "stdout",
     "output_type": "stream",
     "text": [
      "******\n",
      "[TRAIN]\n",
      "******\n",
      "RMSE: 3.067 (0.000)\n",
      "MAE: 2.413 (0.000)\n",
      "MAPE: 0.055 (0.000)\n",
      "R2: 0.798 (0.000)\n",
      "\n",
      "======================\n",
      "\n",
      "******\n",
      "[TEST]\n",
      "******\n",
      "RMSE: 2.964 (0.000)\n",
      "MAE: 2.341 (0.000)\n",
      "MAPE: 0.056 (0.000)\n",
      "R2: 0.753 (0.000)\n",
      "\n",
      "======================\n",
      "\n"
     ]
    },
    {
     "data": {
      "application/javascript": [
       "\n",
       "            setTimeout(function() {\n",
       "                var nbb_cell_id = 55;\n",
       "                var nbb_unformatted_code = \"print_scores(scores, METRICS, METRICS_DICT)\";\n",
       "                var nbb_formatted_code = \"print_scores(scores, METRICS, METRICS_DICT)\";\n",
       "                var nbb_cells = Jupyter.notebook.get_cells();\n",
       "                for (var i = 0; i < nbb_cells.length; ++i) {\n",
       "                    if (nbb_cells[i].input_prompt_number == nbb_cell_id) {\n",
       "                        if (nbb_cells[i].get_text() == nbb_unformatted_code) {\n",
       "                             nbb_cells[i].set_text(nbb_formatted_code);\n",
       "                        }\n",
       "                        break;\n",
       "                    }\n",
       "                }\n",
       "            }, 500);\n",
       "            "
      ],
      "text/plain": [
       "<IPython.core.display.Javascript object>"
      ]
     },
     "metadata": {},
     "output_type": "display_data"
    }
   ],
   "source": [
    "print_scores(scores, METRICS, METRICS_DICT)"
   ]
  },
  {
   "cell_type": "code",
   "execution_count": 56,
   "metadata": {},
   "outputs": [
    {
     "data": {
      "application/javascript": [
       "\n",
       "            setTimeout(function() {\n",
       "                var nbb_cell_id = 56;\n",
       "                var nbb_unformatted_code = \"results_dict_copy = results_dict.copy()\\nresults_dict_copy[\\\"Timesteps\\\"] = timesteps\\nresults_dict_copy[\\\"Cross Validation\\\"] = \\\"Out of time\\\"\\nresults_dict_copy[\\\"Cross Validation Params\\\"] = '{\\\"train_size\\\": 0.8, \\\"test_size\\\": 0.2}'\\nresults_dict_copy[\\\"Data Shape\\\"] = x.shape\\nresults_dict_copy[\\\"Model\\\"] = f\\\"Transformer_{model_index}\\\"\\nscores = {key: [value] for key, value in scores.items()}\\ndf_results = fill_results_dict(results_dict_copy, scores)\\nresults_to_save.append(df_results)\\nmodel_index += 1\";\n",
       "                var nbb_formatted_code = \"results_dict_copy = results_dict.copy()\\nresults_dict_copy[\\\"Timesteps\\\"] = timesteps\\nresults_dict_copy[\\\"Cross Validation\\\"] = \\\"Out of time\\\"\\nresults_dict_copy[\\\"Cross Validation Params\\\"] = '{\\\"train_size\\\": 0.8, \\\"test_size\\\": 0.2}'\\nresults_dict_copy[\\\"Data Shape\\\"] = x.shape\\nresults_dict_copy[\\\"Model\\\"] = f\\\"Transformer_{model_index}\\\"\\nscores = {key: [value] for key, value in scores.items()}\\ndf_results = fill_results_dict(results_dict_copy, scores)\\nresults_to_save.append(df_results)\\nmodel_index += 1\";\n",
       "                var nbb_cells = Jupyter.notebook.get_cells();\n",
       "                for (var i = 0; i < nbb_cells.length; ++i) {\n",
       "                    if (nbb_cells[i].input_prompt_number == nbb_cell_id) {\n",
       "                        if (nbb_cells[i].get_text() == nbb_unformatted_code) {\n",
       "                             nbb_cells[i].set_text(nbb_formatted_code);\n",
       "                        }\n",
       "                        break;\n",
       "                    }\n",
       "                }\n",
       "            }, 500);\n",
       "            "
      ],
      "text/plain": [
       "<IPython.core.display.Javascript object>"
      ]
     },
     "metadata": {},
     "output_type": "display_data"
    }
   ],
   "source": [
    "results_dict_copy = results_dict.copy()\n",
    "results_dict_copy[\"Timesteps\"] = timesteps\n",
    "results_dict_copy[\"Cross Validation\"] = \"Out of time\"\n",
    "results_dict_copy[\"Cross Validation Params\"] = '{\"train_size\": 0.8, \"test_size\": 0.2}'\n",
    "results_dict_copy[\"Data Shape\"] = x.shape\n",
    "results_dict_copy[\"Model\"] = f\"Transformer_{model_index}\"\n",
    "scores = {key: [value] for key, value in scores.items()}\n",
    "df_results = fill_results_dict(results_dict_copy, scores)\n",
    "results_to_save.append(df_results)\n",
    "model_index += 1"
   ]
  },
  {
   "cell_type": "markdown",
   "metadata": {},
   "source": [
    "### Transformer 4\n",
    "\n",
    "1. TIMESTEPS: 14"
   ]
  },
  {
   "cell_type": "code",
   "execution_count": 57,
   "metadata": {
    "scrolled": true
   },
   "outputs": [
    {
     "name": "stdout",
     "output_type": "stream",
     "text": [
      "Minutes Elapsed:  7.761937399705251\n"
     ]
    },
    {
     "data": {
      "application/javascript": [
       "\n",
       "            setTimeout(function() {\n",
       "                var nbb_cell_id = 57;\n",
       "                var nbb_unformatted_code = \"set_seeds()\\ntimesteps = 14\\nmodel_early_stop = tf.keras.callbacks.EarlyStopping(monitor=\\\"val_loss\\\", patience=10)\\ndataset = prepare_dataset(timesteps=timesteps)\\n\\n\\nparams = get_transformer_params(\\n    timesteps=timesteps,\\n    num_features=x.shape[-1],\\n    num_heads=4,\\n    num_layers_enc=2,\\n    num_feed_forward=128,\\n    dropout_rate=0.1,\\n    activation=\\\"relu\\\",\\n    batch_size=64,\\n    epochs=300,\\n    callbacks=model_early_stop,\\n    validation_split=0.1,\\n    verbose=0,\\n)\\n\\nstart = time.time()\\nscores = train_and_evaluate_model(TransformerWrapper, dataset, estimator_params=params)\\nend = time.time()\\nprint(\\\"Minutes Elapsed: \\\", (end - start) / 60)\";\n",
       "                var nbb_formatted_code = \"set_seeds()\\ntimesteps = 14\\nmodel_early_stop = tf.keras.callbacks.EarlyStopping(monitor=\\\"val_loss\\\", patience=10)\\ndataset = prepare_dataset(timesteps=timesteps)\\n\\n\\nparams = get_transformer_params(\\n    timesteps=timesteps,\\n    num_features=x.shape[-1],\\n    num_heads=4,\\n    num_layers_enc=2,\\n    num_feed_forward=128,\\n    dropout_rate=0.1,\\n    activation=\\\"relu\\\",\\n    batch_size=64,\\n    epochs=300,\\n    callbacks=model_early_stop,\\n    validation_split=0.1,\\n    verbose=0,\\n)\\n\\nstart = time.time()\\nscores = train_and_evaluate_model(TransformerWrapper, dataset, estimator_params=params)\\nend = time.time()\\nprint(\\\"Minutes Elapsed: \\\", (end - start) / 60)\";\n",
       "                var nbb_cells = Jupyter.notebook.get_cells();\n",
       "                for (var i = 0; i < nbb_cells.length; ++i) {\n",
       "                    if (nbb_cells[i].input_prompt_number == nbb_cell_id) {\n",
       "                        if (nbb_cells[i].get_text() == nbb_unformatted_code) {\n",
       "                             nbb_cells[i].set_text(nbb_formatted_code);\n",
       "                        }\n",
       "                        break;\n",
       "                    }\n",
       "                }\n",
       "            }, 500);\n",
       "            "
      ],
      "text/plain": [
       "<IPython.core.display.Javascript object>"
      ]
     },
     "metadata": {},
     "output_type": "display_data"
    }
   ],
   "source": [
    "set_seeds()\n",
    "timesteps = 14\n",
    "model_early_stop = tf.keras.callbacks.EarlyStopping(monitor=\"val_loss\", patience=10)\n",
    "dataset = prepare_dataset(timesteps=timesteps)\n",
    "\n",
    "\n",
    "params = get_transformer_params(\n",
    "    timesteps=timesteps,\n",
    "    num_features=x.shape[-1],\n",
    "    num_heads=4,\n",
    "    num_layers_enc=2,\n",
    "    num_feed_forward=128,\n",
    "    dropout_rate=0.1,\n",
    "    activation=\"relu\",\n",
    "    batch_size=64,\n",
    "    epochs=300,\n",
    "    callbacks=model_early_stop,\n",
    "    validation_split=0.1,\n",
    "    verbose=0,\n",
    ")\n",
    "\n",
    "start = time.time()\n",
    "scores = train_and_evaluate_model(TransformerWrapper, dataset, estimator_params=params)\n",
    "end = time.time()\n",
    "print(\"Minutes Elapsed: \", (end - start) / 60)"
   ]
  },
  {
   "cell_type": "code",
   "execution_count": 58,
   "metadata": {},
   "outputs": [
    {
     "name": "stdout",
     "output_type": "stream",
     "text": [
      "******\n",
      "[TRAIN]\n",
      "******\n",
      "RMSE: 3.292 (0.000)\n",
      "MAE: 2.563 (0.000)\n",
      "MAPE: 0.059 (0.000)\n",
      "R2: 0.768 (0.000)\n",
      "\n",
      "======================\n",
      "\n",
      "******\n",
      "[TEST]\n",
      "******\n",
      "RMSE: 3.468 (0.000)\n",
      "MAE: 2.662 (0.000)\n",
      "MAPE: 0.065 (0.000)\n",
      "R2: 0.662 (0.000)\n",
      "\n",
      "======================\n",
      "\n"
     ]
    },
    {
     "data": {
      "application/javascript": [
       "\n",
       "            setTimeout(function() {\n",
       "                var nbb_cell_id = 58;\n",
       "                var nbb_unformatted_code = \"print_scores(scores, METRICS, METRICS_DICT)\";\n",
       "                var nbb_formatted_code = \"print_scores(scores, METRICS, METRICS_DICT)\";\n",
       "                var nbb_cells = Jupyter.notebook.get_cells();\n",
       "                for (var i = 0; i < nbb_cells.length; ++i) {\n",
       "                    if (nbb_cells[i].input_prompt_number == nbb_cell_id) {\n",
       "                        if (nbb_cells[i].get_text() == nbb_unformatted_code) {\n",
       "                             nbb_cells[i].set_text(nbb_formatted_code);\n",
       "                        }\n",
       "                        break;\n",
       "                    }\n",
       "                }\n",
       "            }, 500);\n",
       "            "
      ],
      "text/plain": [
       "<IPython.core.display.Javascript object>"
      ]
     },
     "metadata": {},
     "output_type": "display_data"
    }
   ],
   "source": [
    "print_scores(scores, METRICS, METRICS_DICT)"
   ]
  },
  {
   "cell_type": "code",
   "execution_count": 59,
   "metadata": {},
   "outputs": [
    {
     "data": {
      "application/javascript": [
       "\n",
       "            setTimeout(function() {\n",
       "                var nbb_cell_id = 59;\n",
       "                var nbb_unformatted_code = \"results_dict_copy = results_dict.copy()\\nresults_dict_copy[\\\"Timesteps\\\"] = timesteps\\nresults_dict_copy[\\\"Cross Validation\\\"] = \\\"Out of time\\\"\\nresults_dict_copy[\\\"Cross Validation Params\\\"] = '{\\\"train_size\\\": 0.8, \\\"test_size\\\": 0.2}'\\nresults_dict_copy[\\\"Data Shape\\\"] = x.shape\\nresults_dict_copy[\\\"Model\\\"] = f\\\"Transformer_{model_index}\\\"\\nscores = {key: [value] for key, value in scores.items()}\\ndf_results = fill_results_dict(results_dict_copy, scores)\\nresults_to_save.append(df_results)\\nmodel_index += 1\";\n",
       "                var nbb_formatted_code = \"results_dict_copy = results_dict.copy()\\nresults_dict_copy[\\\"Timesteps\\\"] = timesteps\\nresults_dict_copy[\\\"Cross Validation\\\"] = \\\"Out of time\\\"\\nresults_dict_copy[\\\"Cross Validation Params\\\"] = '{\\\"train_size\\\": 0.8, \\\"test_size\\\": 0.2}'\\nresults_dict_copy[\\\"Data Shape\\\"] = x.shape\\nresults_dict_copy[\\\"Model\\\"] = f\\\"Transformer_{model_index}\\\"\\nscores = {key: [value] for key, value in scores.items()}\\ndf_results = fill_results_dict(results_dict_copy, scores)\\nresults_to_save.append(df_results)\\nmodel_index += 1\";\n",
       "                var nbb_cells = Jupyter.notebook.get_cells();\n",
       "                for (var i = 0; i < nbb_cells.length; ++i) {\n",
       "                    if (nbb_cells[i].input_prompt_number == nbb_cell_id) {\n",
       "                        if (nbb_cells[i].get_text() == nbb_unformatted_code) {\n",
       "                             nbb_cells[i].set_text(nbb_formatted_code);\n",
       "                        }\n",
       "                        break;\n",
       "                    }\n",
       "                }\n",
       "            }, 500);\n",
       "            "
      ],
      "text/plain": [
       "<IPython.core.display.Javascript object>"
      ]
     },
     "metadata": {},
     "output_type": "display_data"
    }
   ],
   "source": [
    "results_dict_copy = results_dict.copy()\n",
    "results_dict_copy[\"Timesteps\"] = timesteps\n",
    "results_dict_copy[\"Cross Validation\"] = \"Out of time\"\n",
    "results_dict_copy[\"Cross Validation Params\"] = '{\"train_size\": 0.8, \"test_size\": 0.2}'\n",
    "results_dict_copy[\"Data Shape\"] = x.shape\n",
    "results_dict_copy[\"Model\"] = f\"Transformer_{model_index}\"\n",
    "scores = {key: [value] for key, value in scores.items()}\n",
    "df_results = fill_results_dict(results_dict_copy, scores)\n",
    "results_to_save.append(df_results)\n",
    "model_index += 1"
   ]
  },
  {
   "cell_type": "markdown",
   "metadata": {},
   "source": [
    "### Transformer 5\n",
    "\n",
    "1. TIMESTEPS: 1"
   ]
  },
  {
   "cell_type": "code",
   "execution_count": 60,
   "metadata": {
    "scrolled": true
   },
   "outputs": [
    {
     "name": "stdout",
     "output_type": "stream",
     "text": [
      "Minutes Elapsed:  7.231277430057526\n"
     ]
    },
    {
     "data": {
      "application/javascript": [
       "\n",
       "            setTimeout(function() {\n",
       "                var nbb_cell_id = 60;\n",
       "                var nbb_unformatted_code = \"set_seeds()\\ntimesteps = 1\\nmodel_early_stop = tf.keras.callbacks.EarlyStopping(monitor=\\\"val_loss\\\", patience=10)\\ndataset = prepare_dataset(timesteps=timesteps)\\n\\nparams = get_transformer_params(\\n    timesteps=timesteps,\\n    num_features=x.shape[-1],\\n    num_heads=7,\\n    num_layers_enc=2,\\n    num_feed_forward=64,\\n    dropout_rate=0.1,\\n    activation=\\\"relu\\\",\\n    batch_size=64,\\n    epochs=300,\\n    callbacks=model_early_stop,\\n    validation_split=0.1,\\n    verbose=0,\\n)\\n\\nstart = time.time()\\nscores = train_and_evaluate_model(TransformerWrapper, dataset, estimator_params=params)\\nend = time.time()\\nprint(\\\"Minutes Elapsed: \\\", (end - start) / 60)\";\n",
       "                var nbb_formatted_code = \"set_seeds()\\ntimesteps = 1\\nmodel_early_stop = tf.keras.callbacks.EarlyStopping(monitor=\\\"val_loss\\\", patience=10)\\ndataset = prepare_dataset(timesteps=timesteps)\\n\\nparams = get_transformer_params(\\n    timesteps=timesteps,\\n    num_features=x.shape[-1],\\n    num_heads=7,\\n    num_layers_enc=2,\\n    num_feed_forward=64,\\n    dropout_rate=0.1,\\n    activation=\\\"relu\\\",\\n    batch_size=64,\\n    epochs=300,\\n    callbacks=model_early_stop,\\n    validation_split=0.1,\\n    verbose=0,\\n)\\n\\nstart = time.time()\\nscores = train_and_evaluate_model(TransformerWrapper, dataset, estimator_params=params)\\nend = time.time()\\nprint(\\\"Minutes Elapsed: \\\", (end - start) / 60)\";\n",
       "                var nbb_cells = Jupyter.notebook.get_cells();\n",
       "                for (var i = 0; i < nbb_cells.length; ++i) {\n",
       "                    if (nbb_cells[i].input_prompt_number == nbb_cell_id) {\n",
       "                        if (nbb_cells[i].get_text() == nbb_unformatted_code) {\n",
       "                             nbb_cells[i].set_text(nbb_formatted_code);\n",
       "                        }\n",
       "                        break;\n",
       "                    }\n",
       "                }\n",
       "            }, 500);\n",
       "            "
      ],
      "text/plain": [
       "<IPython.core.display.Javascript object>"
      ]
     },
     "metadata": {},
     "output_type": "display_data"
    }
   ],
   "source": [
    "set_seeds()\n",
    "timesteps = 1\n",
    "model_early_stop = tf.keras.callbacks.EarlyStopping(monitor=\"val_loss\", patience=10)\n",
    "dataset = prepare_dataset(timesteps=timesteps)\n",
    "\n",
    "params = get_transformer_params(\n",
    "    timesteps=timesteps,\n",
    "    num_features=x.shape[-1],\n",
    "    num_heads=7,\n",
    "    num_layers_enc=2,\n",
    "    num_feed_forward=64,\n",
    "    dropout_rate=0.1,\n",
    "    activation=\"relu\",\n",
    "    batch_size=64,\n",
    "    epochs=300,\n",
    "    callbacks=model_early_stop,\n",
    "    validation_split=0.1,\n",
    "    verbose=0,\n",
    ")\n",
    "\n",
    "start = time.time()\n",
    "scores = train_and_evaluate_model(TransformerWrapper, dataset, estimator_params=params)\n",
    "end = time.time()\n",
    "print(\"Minutes Elapsed: \", (end - start) / 60)"
   ]
  },
  {
   "cell_type": "code",
   "execution_count": 61,
   "metadata": {},
   "outputs": [
    {
     "name": "stdout",
     "output_type": "stream",
     "text": [
      "******\n",
      "[TRAIN]\n",
      "******\n",
      "RMSE: 3.080 (0.000)\n",
      "MAE: 2.281 (0.000)\n",
      "MAPE: 0.053 (0.000)\n",
      "R2: 0.796 (0.000)\n",
      "\n",
      "======================\n",
      "\n",
      "******\n",
      "[TEST]\n",
      "******\n",
      "RMSE: 3.424 (0.000)\n",
      "MAE: 2.502 (0.000)\n",
      "MAPE: 0.061 (0.000)\n",
      "R2: 0.670 (0.000)\n",
      "\n",
      "======================\n",
      "\n"
     ]
    },
    {
     "data": {
      "application/javascript": [
       "\n",
       "            setTimeout(function() {\n",
       "                var nbb_cell_id = 61;\n",
       "                var nbb_unformatted_code = \"print_scores(scores, METRICS, METRICS_DICT)\";\n",
       "                var nbb_formatted_code = \"print_scores(scores, METRICS, METRICS_DICT)\";\n",
       "                var nbb_cells = Jupyter.notebook.get_cells();\n",
       "                for (var i = 0; i < nbb_cells.length; ++i) {\n",
       "                    if (nbb_cells[i].input_prompt_number == nbb_cell_id) {\n",
       "                        if (nbb_cells[i].get_text() == nbb_unformatted_code) {\n",
       "                             nbb_cells[i].set_text(nbb_formatted_code);\n",
       "                        }\n",
       "                        break;\n",
       "                    }\n",
       "                }\n",
       "            }, 500);\n",
       "            "
      ],
      "text/plain": [
       "<IPython.core.display.Javascript object>"
      ]
     },
     "metadata": {},
     "output_type": "display_data"
    }
   ],
   "source": [
    "print_scores(scores, METRICS, METRICS_DICT)"
   ]
  },
  {
   "cell_type": "code",
   "execution_count": 62,
   "metadata": {},
   "outputs": [
    {
     "data": {
      "application/javascript": [
       "\n",
       "            setTimeout(function() {\n",
       "                var nbb_cell_id = 62;\n",
       "                var nbb_unformatted_code = \"results_dict_copy = results_dict.copy()\\nresults_dict_copy[\\\"Timesteps\\\"] = timesteps\\nresults_dict_copy[\\\"Cross Validation\\\"] = \\\"Out of time\\\"\\nresults_dict_copy[\\\"Cross Validation Params\\\"] = '{\\\"train_size\\\": 0.8, \\\"test_size\\\": 0.2}'\\nresults_dict_copy[\\\"Data Shape\\\"] = x.shape\\nresults_dict_copy[\\\"Model\\\"] = f\\\"Transformer_{model_index}\\\"\\nscores = {key: [value] for key, value in scores.items()}\\ndf_results = fill_results_dict(results_dict_copy, scores)\\nresults_to_save.append(df_results)\\nmodel_index += 1\";\n",
       "                var nbb_formatted_code = \"results_dict_copy = results_dict.copy()\\nresults_dict_copy[\\\"Timesteps\\\"] = timesteps\\nresults_dict_copy[\\\"Cross Validation\\\"] = \\\"Out of time\\\"\\nresults_dict_copy[\\\"Cross Validation Params\\\"] = '{\\\"train_size\\\": 0.8, \\\"test_size\\\": 0.2}'\\nresults_dict_copy[\\\"Data Shape\\\"] = x.shape\\nresults_dict_copy[\\\"Model\\\"] = f\\\"Transformer_{model_index}\\\"\\nscores = {key: [value] for key, value in scores.items()}\\ndf_results = fill_results_dict(results_dict_copy, scores)\\nresults_to_save.append(df_results)\\nmodel_index += 1\";\n",
       "                var nbb_cells = Jupyter.notebook.get_cells();\n",
       "                for (var i = 0; i < nbb_cells.length; ++i) {\n",
       "                    if (nbb_cells[i].input_prompt_number == nbb_cell_id) {\n",
       "                        if (nbb_cells[i].get_text() == nbb_unformatted_code) {\n",
       "                             nbb_cells[i].set_text(nbb_formatted_code);\n",
       "                        }\n",
       "                        break;\n",
       "                    }\n",
       "                }\n",
       "            }, 500);\n",
       "            "
      ],
      "text/plain": [
       "<IPython.core.display.Javascript object>"
      ]
     },
     "metadata": {},
     "output_type": "display_data"
    }
   ],
   "source": [
    "results_dict_copy = results_dict.copy()\n",
    "results_dict_copy[\"Timesteps\"] = timesteps\n",
    "results_dict_copy[\"Cross Validation\"] = \"Out of time\"\n",
    "results_dict_copy[\"Cross Validation Params\"] = '{\"train_size\": 0.8, \"test_size\": 0.2}'\n",
    "results_dict_copy[\"Data Shape\"] = x.shape\n",
    "results_dict_copy[\"Model\"] = f\"Transformer_{model_index}\"\n",
    "scores = {key: [value] for key, value in scores.items()}\n",
    "df_results = fill_results_dict(results_dict_copy, scores)\n",
    "results_to_save.append(df_results)\n",
    "model_index += 1"
   ]
  },
  {
   "cell_type": "markdown",
   "metadata": {},
   "source": [
    "### Transformer 5\n",
    "\n",
    "1. TIMESTEPS: 7"
   ]
  },
  {
   "cell_type": "code",
   "execution_count": 63,
   "metadata": {
    "scrolled": true
   },
   "outputs": [
    {
     "name": "stdout",
     "output_type": "stream",
     "text": [
      "Minutes Elapsed:  9.929481629530589\n"
     ]
    },
    {
     "data": {
      "application/javascript": [
       "\n",
       "            setTimeout(function() {\n",
       "                var nbb_cell_id = 63;\n",
       "                var nbb_unformatted_code = \"set_seeds()\\ntimesteps = 7\\nmodel_early_stop = tf.keras.callbacks.EarlyStopping(monitor=\\\"val_loss\\\", patience=10)\\ndataset = prepare_dataset(timesteps=timesteps)\\n\\nparams = get_transformer_params(\\n    timesteps=timesteps,\\n    num_features=x.shape[-1],\\n    num_heads=7,\\n    num_layers_enc=2,\\n    num_feed_forward=64,\\n    dropout_rate=0.1,\\n    activation=\\\"relu\\\",\\n    batch_size=64,\\n    epochs=300,\\n    callbacks=model_early_stop,\\n    validation_split=0.1,\\n    verbose=0,\\n)\\n\\nstart = time.time()\\nscores = train_and_evaluate_model(TransformerWrapper, dataset, estimator_params=params)\\nend = time.time()\\nprint(\\\"Minutes Elapsed: \\\", (end - start) / 60)\";\n",
       "                var nbb_formatted_code = \"set_seeds()\\ntimesteps = 7\\nmodel_early_stop = tf.keras.callbacks.EarlyStopping(monitor=\\\"val_loss\\\", patience=10)\\ndataset = prepare_dataset(timesteps=timesteps)\\n\\nparams = get_transformer_params(\\n    timesteps=timesteps,\\n    num_features=x.shape[-1],\\n    num_heads=7,\\n    num_layers_enc=2,\\n    num_feed_forward=64,\\n    dropout_rate=0.1,\\n    activation=\\\"relu\\\",\\n    batch_size=64,\\n    epochs=300,\\n    callbacks=model_early_stop,\\n    validation_split=0.1,\\n    verbose=0,\\n)\\n\\nstart = time.time()\\nscores = train_and_evaluate_model(TransformerWrapper, dataset, estimator_params=params)\\nend = time.time()\\nprint(\\\"Minutes Elapsed: \\\", (end - start) / 60)\";\n",
       "                var nbb_cells = Jupyter.notebook.get_cells();\n",
       "                for (var i = 0; i < nbb_cells.length; ++i) {\n",
       "                    if (nbb_cells[i].input_prompt_number == nbb_cell_id) {\n",
       "                        if (nbb_cells[i].get_text() == nbb_unformatted_code) {\n",
       "                             nbb_cells[i].set_text(nbb_formatted_code);\n",
       "                        }\n",
       "                        break;\n",
       "                    }\n",
       "                }\n",
       "            }, 500);\n",
       "            "
      ],
      "text/plain": [
       "<IPython.core.display.Javascript object>"
      ]
     },
     "metadata": {},
     "output_type": "display_data"
    }
   ],
   "source": [
    "set_seeds()\n",
    "timesteps = 7\n",
    "model_early_stop = tf.keras.callbacks.EarlyStopping(monitor=\"val_loss\", patience=10)\n",
    "dataset = prepare_dataset(timesteps=timesteps)\n",
    "\n",
    "params = get_transformer_params(\n",
    "    timesteps=timesteps,\n",
    "    num_features=x.shape[-1],\n",
    "    num_heads=7,\n",
    "    num_layers_enc=2,\n",
    "    num_feed_forward=64,\n",
    "    dropout_rate=0.1,\n",
    "    activation=\"relu\",\n",
    "    batch_size=64,\n",
    "    epochs=300,\n",
    "    callbacks=model_early_stop,\n",
    "    validation_split=0.1,\n",
    "    verbose=0,\n",
    ")\n",
    "\n",
    "start = time.time()\n",
    "scores = train_and_evaluate_model(TransformerWrapper, dataset, estimator_params=params)\n",
    "end = time.time()\n",
    "print(\"Minutes Elapsed: \", (end - start) / 60)"
   ]
  },
  {
   "cell_type": "code",
   "execution_count": 64,
   "metadata": {},
   "outputs": [
    {
     "name": "stdout",
     "output_type": "stream",
     "text": [
      "******\n",
      "[TRAIN]\n",
      "******\n",
      "RMSE: 3.085 (0.000)\n",
      "MAE: 2.431 (0.000)\n",
      "MAPE: 0.056 (0.000)\n",
      "R2: 0.796 (0.000)\n",
      "\n",
      "======================\n",
      "\n",
      "******\n",
      "[TEST]\n",
      "******\n",
      "RMSE: 2.957 (0.000)\n",
      "MAE: 2.337 (0.000)\n",
      "MAPE: 0.056 (0.000)\n",
      "R2: 0.754 (0.000)\n",
      "\n",
      "======================\n",
      "\n"
     ]
    },
    {
     "data": {
      "application/javascript": [
       "\n",
       "            setTimeout(function() {\n",
       "                var nbb_cell_id = 64;\n",
       "                var nbb_unformatted_code = \"print_scores(scores, METRICS, METRICS_DICT)\";\n",
       "                var nbb_formatted_code = \"print_scores(scores, METRICS, METRICS_DICT)\";\n",
       "                var nbb_cells = Jupyter.notebook.get_cells();\n",
       "                for (var i = 0; i < nbb_cells.length; ++i) {\n",
       "                    if (nbb_cells[i].input_prompt_number == nbb_cell_id) {\n",
       "                        if (nbb_cells[i].get_text() == nbb_unformatted_code) {\n",
       "                             nbb_cells[i].set_text(nbb_formatted_code);\n",
       "                        }\n",
       "                        break;\n",
       "                    }\n",
       "                }\n",
       "            }, 500);\n",
       "            "
      ],
      "text/plain": [
       "<IPython.core.display.Javascript object>"
      ]
     },
     "metadata": {},
     "output_type": "display_data"
    }
   ],
   "source": [
    "print_scores(scores, METRICS, METRICS_DICT)"
   ]
  },
  {
   "cell_type": "code",
   "execution_count": 65,
   "metadata": {},
   "outputs": [
    {
     "data": {
      "application/javascript": [
       "\n",
       "            setTimeout(function() {\n",
       "                var nbb_cell_id = 65;\n",
       "                var nbb_unformatted_code = \"results_dict_copy = results_dict.copy()\\nresults_dict_copy[\\\"Timesteps\\\"] = timesteps\\nresults_dict_copy[\\\"Cross Validation\\\"] = \\\"Out of time\\\"\\nresults_dict_copy[\\\"Cross Validation Params\\\"] = '{\\\"train_size\\\": 0.8, \\\"test_size\\\": 0.2}'\\nresults_dict_copy[\\\"Data Shape\\\"] = x.shape\\nresults_dict_copy[\\\"Model\\\"] = f\\\"Transformer_{model_index}\\\"\\nscores = {key: [value] for key, value in scores.items()}\\ndf_results = fill_results_dict(results_dict_copy, scores)\\nresults_to_save.append(df_results)\\nmodel_index += 1\";\n",
       "                var nbb_formatted_code = \"results_dict_copy = results_dict.copy()\\nresults_dict_copy[\\\"Timesteps\\\"] = timesteps\\nresults_dict_copy[\\\"Cross Validation\\\"] = \\\"Out of time\\\"\\nresults_dict_copy[\\\"Cross Validation Params\\\"] = '{\\\"train_size\\\": 0.8, \\\"test_size\\\": 0.2}'\\nresults_dict_copy[\\\"Data Shape\\\"] = x.shape\\nresults_dict_copy[\\\"Model\\\"] = f\\\"Transformer_{model_index}\\\"\\nscores = {key: [value] for key, value in scores.items()}\\ndf_results = fill_results_dict(results_dict_copy, scores)\\nresults_to_save.append(df_results)\\nmodel_index += 1\";\n",
       "                var nbb_cells = Jupyter.notebook.get_cells();\n",
       "                for (var i = 0; i < nbb_cells.length; ++i) {\n",
       "                    if (nbb_cells[i].input_prompt_number == nbb_cell_id) {\n",
       "                        if (nbb_cells[i].get_text() == nbb_unformatted_code) {\n",
       "                             nbb_cells[i].set_text(nbb_formatted_code);\n",
       "                        }\n",
       "                        break;\n",
       "                    }\n",
       "                }\n",
       "            }, 500);\n",
       "            "
      ],
      "text/plain": [
       "<IPython.core.display.Javascript object>"
      ]
     },
     "metadata": {},
     "output_type": "display_data"
    }
   ],
   "source": [
    "results_dict_copy = results_dict.copy()\n",
    "results_dict_copy[\"Timesteps\"] = timesteps\n",
    "results_dict_copy[\"Cross Validation\"] = \"Out of time\"\n",
    "results_dict_copy[\"Cross Validation Params\"] = '{\"train_size\": 0.8, \"test_size\": 0.2}'\n",
    "results_dict_copy[\"Data Shape\"] = x.shape\n",
    "results_dict_copy[\"Model\"] = f\"Transformer_{model_index}\"\n",
    "scores = {key: [value] for key, value in scores.items()}\n",
    "df_results = fill_results_dict(results_dict_copy, scores)\n",
    "results_to_save.append(df_results)\n",
    "model_index += 1"
   ]
  },
  {
   "cell_type": "markdown",
   "metadata": {},
   "source": [
    "### Transformer 5\n",
    "\n",
    "1. TIMESTEPS: 14"
   ]
  },
  {
   "cell_type": "code",
   "execution_count": 66,
   "metadata": {
    "scrolled": true
   },
   "outputs": [
    {
     "name": "stdout",
     "output_type": "stream",
     "text": [
      "Minutes Elapsed:  7.458307762940724\n"
     ]
    },
    {
     "data": {
      "application/javascript": [
       "\n",
       "            setTimeout(function() {\n",
       "                var nbb_cell_id = 66;\n",
       "                var nbb_unformatted_code = \"set_seeds()\\ntimesteps = 14\\nmodel_early_stop = tf.keras.callbacks.EarlyStopping(monitor=\\\"val_loss\\\", patience=10)\\ndataset = prepare_dataset(timesteps=timesteps)\\n\\nparams = get_transformer_params(\\n    timesteps=timesteps,\\n    num_features=x.shape[-1],\\n    num_heads=7,\\n    num_layers_enc=2,\\n    num_feed_forward=64,\\n    dropout_rate=0.1,\\n    activation=\\\"relu\\\",\\n    batch_size=64,\\n    epochs=300,\\n    callbacks=model_early_stop,\\n    validation_split=0.1,\\n    verbose=0,\\n)\\n\\nstart = time.time()\\nscores = train_and_evaluate_model(TransformerWrapper, dataset, estimator_params=params)\\nend = time.time()\\nprint(\\\"Minutes Elapsed: \\\", (end - start) / 60)\";\n",
       "                var nbb_formatted_code = \"set_seeds()\\ntimesteps = 14\\nmodel_early_stop = tf.keras.callbacks.EarlyStopping(monitor=\\\"val_loss\\\", patience=10)\\ndataset = prepare_dataset(timesteps=timesteps)\\n\\nparams = get_transformer_params(\\n    timesteps=timesteps,\\n    num_features=x.shape[-1],\\n    num_heads=7,\\n    num_layers_enc=2,\\n    num_feed_forward=64,\\n    dropout_rate=0.1,\\n    activation=\\\"relu\\\",\\n    batch_size=64,\\n    epochs=300,\\n    callbacks=model_early_stop,\\n    validation_split=0.1,\\n    verbose=0,\\n)\\n\\nstart = time.time()\\nscores = train_and_evaluate_model(TransformerWrapper, dataset, estimator_params=params)\\nend = time.time()\\nprint(\\\"Minutes Elapsed: \\\", (end - start) / 60)\";\n",
       "                var nbb_cells = Jupyter.notebook.get_cells();\n",
       "                for (var i = 0; i < nbb_cells.length; ++i) {\n",
       "                    if (nbb_cells[i].input_prompt_number == nbb_cell_id) {\n",
       "                        if (nbb_cells[i].get_text() == nbb_unformatted_code) {\n",
       "                             nbb_cells[i].set_text(nbb_formatted_code);\n",
       "                        }\n",
       "                        break;\n",
       "                    }\n",
       "                }\n",
       "            }, 500);\n",
       "            "
      ],
      "text/plain": [
       "<IPython.core.display.Javascript object>"
      ]
     },
     "metadata": {},
     "output_type": "display_data"
    }
   ],
   "source": [
    "set_seeds()\n",
    "timesteps = 14\n",
    "model_early_stop = tf.keras.callbacks.EarlyStopping(monitor=\"val_loss\", patience=10)\n",
    "dataset = prepare_dataset(timesteps=timesteps)\n",
    "\n",
    "params = get_transformer_params(\n",
    "    timesteps=timesteps,\n",
    "    num_features=x.shape[-1],\n",
    "    num_heads=7,\n",
    "    num_layers_enc=2,\n",
    "    num_feed_forward=64,\n",
    "    dropout_rate=0.1,\n",
    "    activation=\"relu\",\n",
    "    batch_size=64,\n",
    "    epochs=300,\n",
    "    callbacks=model_early_stop,\n",
    "    validation_split=0.1,\n",
    "    verbose=0,\n",
    ")\n",
    "\n",
    "start = time.time()\n",
    "scores = train_and_evaluate_model(TransformerWrapper, dataset, estimator_params=params)\n",
    "end = time.time()\n",
    "print(\"Minutes Elapsed: \", (end - start) / 60)"
   ]
  },
  {
   "cell_type": "code",
   "execution_count": 67,
   "metadata": {},
   "outputs": [
    {
     "name": "stdout",
     "output_type": "stream",
     "text": [
      "******\n",
      "[TRAIN]\n",
      "******\n",
      "RMSE: 3.128 (0.000)\n",
      "MAE: 2.476 (0.000)\n",
      "MAPE: 0.057 (0.000)\n",
      "R2: 0.790 (0.000)\n",
      "\n",
      "======================\n",
      "\n",
      "******\n",
      "[TEST]\n",
      "******\n",
      "RMSE: 3.283 (0.000)\n",
      "MAE: 2.541 (0.000)\n",
      "MAPE: 0.062 (0.000)\n",
      "R2: 0.697 (0.000)\n",
      "\n",
      "======================\n",
      "\n"
     ]
    },
    {
     "data": {
      "application/javascript": [
       "\n",
       "            setTimeout(function() {\n",
       "                var nbb_cell_id = 67;\n",
       "                var nbb_unformatted_code = \"print_scores(scores, METRICS, METRICS_DICT)\";\n",
       "                var nbb_formatted_code = \"print_scores(scores, METRICS, METRICS_DICT)\";\n",
       "                var nbb_cells = Jupyter.notebook.get_cells();\n",
       "                for (var i = 0; i < nbb_cells.length; ++i) {\n",
       "                    if (nbb_cells[i].input_prompt_number == nbb_cell_id) {\n",
       "                        if (nbb_cells[i].get_text() == nbb_unformatted_code) {\n",
       "                             nbb_cells[i].set_text(nbb_formatted_code);\n",
       "                        }\n",
       "                        break;\n",
       "                    }\n",
       "                }\n",
       "            }, 500);\n",
       "            "
      ],
      "text/plain": [
       "<IPython.core.display.Javascript object>"
      ]
     },
     "metadata": {},
     "output_type": "display_data"
    }
   ],
   "source": [
    "print_scores(scores, METRICS, METRICS_DICT)"
   ]
  },
  {
   "cell_type": "code",
   "execution_count": 68,
   "metadata": {},
   "outputs": [
    {
     "data": {
      "application/javascript": [
       "\n",
       "            setTimeout(function() {\n",
       "                var nbb_cell_id = 68;\n",
       "                var nbb_unformatted_code = \"results_dict_copy = results_dict.copy()\\nresults_dict_copy[\\\"Timesteps\\\"] = timesteps\\nresults_dict_copy[\\\"Cross Validation\\\"] = \\\"Out of time\\\"\\nresults_dict_copy[\\\"Cross Validation Params\\\"] = '{\\\"train_size\\\": 0.8, \\\"test_size\\\": 0.2}'\\nresults_dict_copy[\\\"Data Shape\\\"] = x.shape\\nresults_dict_copy[\\\"Model\\\"] = f\\\"Transformer_{model_index}\\\"\\nscores = {key: [value] for key, value in scores.items()}\\ndf_results = fill_results_dict(results_dict_copy, scores)\\nresults_to_save.append(df_results)\\nmodel_index += 1\";\n",
       "                var nbb_formatted_code = \"results_dict_copy = results_dict.copy()\\nresults_dict_copy[\\\"Timesteps\\\"] = timesteps\\nresults_dict_copy[\\\"Cross Validation\\\"] = \\\"Out of time\\\"\\nresults_dict_copy[\\\"Cross Validation Params\\\"] = '{\\\"train_size\\\": 0.8, \\\"test_size\\\": 0.2}'\\nresults_dict_copy[\\\"Data Shape\\\"] = x.shape\\nresults_dict_copy[\\\"Model\\\"] = f\\\"Transformer_{model_index}\\\"\\nscores = {key: [value] for key, value in scores.items()}\\ndf_results = fill_results_dict(results_dict_copy, scores)\\nresults_to_save.append(df_results)\\nmodel_index += 1\";\n",
       "                var nbb_cells = Jupyter.notebook.get_cells();\n",
       "                for (var i = 0; i < nbb_cells.length; ++i) {\n",
       "                    if (nbb_cells[i].input_prompt_number == nbb_cell_id) {\n",
       "                        if (nbb_cells[i].get_text() == nbb_unformatted_code) {\n",
       "                             nbb_cells[i].set_text(nbb_formatted_code);\n",
       "                        }\n",
       "                        break;\n",
       "                    }\n",
       "                }\n",
       "            }, 500);\n",
       "            "
      ],
      "text/plain": [
       "<IPython.core.display.Javascript object>"
      ]
     },
     "metadata": {},
     "output_type": "display_data"
    }
   ],
   "source": [
    "results_dict_copy = results_dict.copy()\n",
    "results_dict_copy[\"Timesteps\"] = timesteps\n",
    "results_dict_copy[\"Cross Validation\"] = \"Out of time\"\n",
    "results_dict_copy[\"Cross Validation Params\"] = '{\"train_size\": 0.8, \"test_size\": 0.2}'\n",
    "results_dict_copy[\"Data Shape\"] = x.shape\n",
    "results_dict_copy[\"Model\"] = f\"Transformer_{model_index}\"\n",
    "scores = {key: [value] for key, value in scores.items()}\n",
    "df_results = fill_results_dict(results_dict_copy, scores)\n",
    "results_to_save.append(df_results)\n",
    "model_index += 1"
   ]
  },
  {
   "cell_type": "markdown",
   "metadata": {},
   "source": [
    "# Saving the results"
   ]
  },
  {
   "cell_type": "code",
   "execution_count": 69,
   "metadata": {},
   "outputs": [
    {
     "data": {
      "application/javascript": [
       "\n",
       "            setTimeout(function() {\n",
       "                var nbb_cell_id = 69;\n",
       "                var nbb_unformatted_code = \"path = f\\\"../../../../../../../reports/results/global_models/209/l/pre_training/full/\\\"\\nfilename = f\\\"transformer_results_full_{index_to_save}.csv\\\"\\n\\npd.concat(results_to_save).to_csv(\\n    path_or_buf=path + filename,\\n    mode=\\\"w\\\",\\n    index=False,\\n    header=True,\\n)\";\n",
       "                var nbb_formatted_code = \"path = f\\\"../../../../../../../reports/results/global_models/209/l/pre_training/full/\\\"\\nfilename = f\\\"transformer_results_full_{index_to_save}.csv\\\"\\n\\npd.concat(results_to_save).to_csv(\\n    path_or_buf=path + filename,\\n    mode=\\\"w\\\",\\n    index=False,\\n    header=True,\\n)\";\n",
       "                var nbb_cells = Jupyter.notebook.get_cells();\n",
       "                for (var i = 0; i < nbb_cells.length; ++i) {\n",
       "                    if (nbb_cells[i].input_prompt_number == nbb_cell_id) {\n",
       "                        if (nbb_cells[i].get_text() == nbb_unformatted_code) {\n",
       "                             nbb_cells[i].set_text(nbb_formatted_code);\n",
       "                        }\n",
       "                        break;\n",
       "                    }\n",
       "                }\n",
       "            }, 500);\n",
       "            "
      ],
      "text/plain": [
       "<IPython.core.display.Javascript object>"
      ]
     },
     "metadata": {},
     "output_type": "display_data"
    }
   ],
   "source": [
    "path = f\"../../../../../../../reports/results/global_models/209/l/pre_training/full/\"\n",
    "filename = f\"transformer_results_full_{index_to_save}.csv\"\n",
    "\n",
    "pd.concat(results_to_save).to_csv(\n",
    "    path_or_buf=path + filename,\n",
    "    mode=\"w\",\n",
    "    index=False,\n",
    "    header=True,\n",
    ")"
   ]
  },
  {
   "cell_type": "code",
   "execution_count": 70,
   "metadata": {},
   "outputs": [
    {
     "data": {
      "text/html": [
       "<div>\n",
       "<style scoped>\n",
       "    .dataframe tbody tr th:only-of-type {\n",
       "        vertical-align: middle;\n",
       "    }\n",
       "\n",
       "    .dataframe tbody tr th {\n",
       "        vertical-align: top;\n",
       "    }\n",
       "\n",
       "    .dataframe thead th {\n",
       "        text-align: right;\n",
       "    }\n",
       "</style>\n",
       "<table border=\"1\" class=\"dataframe\">\n",
       "  <thead>\n",
       "    <tr style=\"text-align: right;\">\n",
       "      <th></th>\n",
       "      <th>Category</th>\n",
       "      <th>Company</th>\n",
       "      <th>Plant</th>\n",
       "      <th>Features</th>\n",
       "      <th>Data Shape</th>\n",
       "      <th>Timesteps</th>\n",
       "      <th>Model</th>\n",
       "      <th>Model Params</th>\n",
       "      <th>Scaler</th>\n",
       "      <th>Scaler Params</th>\n",
       "      <th>...</th>\n",
       "      <th>Cross Validation Params</th>\n",
       "      <th>RMSE Train</th>\n",
       "      <th>MAE Train</th>\n",
       "      <th>MAPE Train</th>\n",
       "      <th>R2 Train</th>\n",
       "      <th>RMSE Test</th>\n",
       "      <th>MAE Test</th>\n",
       "      <th>MAPE Test</th>\n",
       "      <th>R2 Test</th>\n",
       "      <th>SCPM</th>\n",
       "    </tr>\n",
       "  </thead>\n",
       "  <tbody>\n",
       "    <tr>\n",
       "      <th>8</th>\n",
       "      <td>Global Model</td>\n",
       "      <td>209</td>\n",
       "      <td>L</td>\n",
       "      <td>Chemical</td>\n",
       "      <td>(63072, 10)</td>\n",
       "      <td>14</td>\n",
       "      <td>Transformer_9</td>\n",
       "      <td>None</td>\n",
       "      <td>Standard Scaler</td>\n",
       "      <td>None</td>\n",
       "      <td>...</td>\n",
       "      <td>{\"train_size\": 0.8, \"test_size\": 0.2}</td>\n",
       "      <td>3.025857</td>\n",
       "      <td>2.374104</td>\n",
       "      <td>0.053923</td>\n",
       "      <td>0.803699</td>\n",
       "      <td>2.942161</td>\n",
       "      <td>2.302051</td>\n",
       "      <td>0.054554</td>\n",
       "      <td>0.756489</td>\n",
       "      <td>-4.824566</td>\n",
       "    </tr>\n",
       "  </tbody>\n",
       "</table>\n",
       "<p>1 rows × 23 columns</p>\n",
       "</div>"
      ],
      "text/plain": [
       "       Category Company Plant  Features   Data Shape  Timesteps  \\\n",
       "8  Global Model     209     L  Chemical  (63072, 10)         14   \n",
       "\n",
       "           Model Model Params           Scaler Scaler Params  ...  \\\n",
       "8  Transformer_9         None  Standard Scaler          None  ...   \n",
       "\n",
       "                 Cross Validation Params RMSE Train MAE Train MAPE Train  \\\n",
       "8  {\"train_size\": 0.8, \"test_size\": 0.2}   3.025857  2.374104   0.053923   \n",
       "\n",
       "   R2 Train  RMSE Test  MAE Test  MAPE Test   R2 Test      SCPM  \n",
       "8  0.803699   2.942161  2.302051   0.054554  0.756489 -4.824566  \n",
       "\n",
       "[1 rows x 23 columns]"
      ]
     },
     "execution_count": 70,
     "metadata": {},
     "output_type": "execute_result"
    },
    {
     "data": {
      "application/javascript": [
       "\n",
       "            setTimeout(function() {\n",
       "                var nbb_cell_id = 70;\n",
       "                var nbb_unformatted_code = \"# Concatenating the results\\nddf = pd.concat(results_to_save).reset_index(drop=True)\\nddf_copy = ddf.copy()\\n\\n# Define the columns to standardize\\ncols = [\\\"RMSE Test\\\", \\\"MAE Test\\\", \\\"MAPE Test\\\", \\\"R2 Test\\\"]\\n\\n# Standardize all the metrics including R\\u00b2\\nscaler = StandardScaler()\\nstandardized_metrics = scaler.fit_transform(ddf_copy[cols])\\n\\n# Creating a new DataFrame with standardized values\\nstandardized_df = pd.DataFrame(\\n    standardized_metrics,\\n    columns=cols,\\n)\\n\\n# Summing all standardized metrics and subtracting the standardized R2\\nstandardized_df[\\\"Result\\\"] = (\\n    standardized_df[\\\"RMSE Test\\\"]\\n    + standardized_df[\\\"MAE Test\\\"]\\n    + standardized_df[\\\"MAPE Test\\\"]\\n    - standardized_df[\\\"R2 Test\\\"]\\n)\\n\\n# Update the SCPM in ddf_copy\\nddf_copy[\\\"SCPM\\\"] = standardized_df[\\\"Result\\\"]\\n\\n# Finding the row with the minimum SCPM value\\noptimal_row = ddf_copy[ddf_copy[\\\"SCPM\\\"].eq(ddf_copy[\\\"SCPM\\\"].min())]\\n\\n# Display the result\\noptimal_row\";\n",
       "                var nbb_formatted_code = \"# Concatenating the results\\nddf = pd.concat(results_to_save).reset_index(drop=True)\\nddf_copy = ddf.copy()\\n\\n# Define the columns to standardize\\ncols = [\\\"RMSE Test\\\", \\\"MAE Test\\\", \\\"MAPE Test\\\", \\\"R2 Test\\\"]\\n\\n# Standardize all the metrics including R\\u00b2\\nscaler = StandardScaler()\\nstandardized_metrics = scaler.fit_transform(ddf_copy[cols])\\n\\n# Creating a new DataFrame with standardized values\\nstandardized_df = pd.DataFrame(\\n    standardized_metrics,\\n    columns=cols,\\n)\\n\\n# Summing all standardized metrics and subtracting the standardized R2\\nstandardized_df[\\\"Result\\\"] = (\\n    standardized_df[\\\"RMSE Test\\\"]\\n    + standardized_df[\\\"MAE Test\\\"]\\n    + standardized_df[\\\"MAPE Test\\\"]\\n    - standardized_df[\\\"R2 Test\\\"]\\n)\\n\\n# Update the SCPM in ddf_copy\\nddf_copy[\\\"SCPM\\\"] = standardized_df[\\\"Result\\\"]\\n\\n# Finding the row with the minimum SCPM value\\noptimal_row = ddf_copy[ddf_copy[\\\"SCPM\\\"].eq(ddf_copy[\\\"SCPM\\\"].min())]\\n\\n# Display the result\\noptimal_row\";\n",
       "                var nbb_cells = Jupyter.notebook.get_cells();\n",
       "                for (var i = 0; i < nbb_cells.length; ++i) {\n",
       "                    if (nbb_cells[i].input_prompt_number == nbb_cell_id) {\n",
       "                        if (nbb_cells[i].get_text() == nbb_unformatted_code) {\n",
       "                             nbb_cells[i].set_text(nbb_formatted_code);\n",
       "                        }\n",
       "                        break;\n",
       "                    }\n",
       "                }\n",
       "            }, 500);\n",
       "            "
      ],
      "text/plain": [
       "<IPython.core.display.Javascript object>"
      ]
     },
     "metadata": {},
     "output_type": "display_data"
    }
   ],
   "source": [
    "# Concatenating the results\n",
    "ddf = pd.concat(results_to_save).reset_index(drop=True)\n",
    "ddf_copy = ddf.copy()\n",
    "\n",
    "# Define the columns to standardize\n",
    "cols = [\"RMSE Test\", \"MAE Test\", \"MAPE Test\", \"R2 Test\"]\n",
    "\n",
    "# Standardize all the metrics including R²\n",
    "scaler = StandardScaler()\n",
    "standardized_metrics = scaler.fit_transform(ddf_copy[cols])\n",
    "\n",
    "# Creating a new DataFrame with standardized values\n",
    "standardized_df = pd.DataFrame(\n",
    "    standardized_metrics,\n",
    "    columns=cols,\n",
    ")\n",
    "\n",
    "# Summing all standardized metrics and subtracting the standardized R2\n",
    "standardized_df[\"Result\"] = (\n",
    "    standardized_df[\"RMSE Test\"]\n",
    "    + standardized_df[\"MAE Test\"]\n",
    "    + standardized_df[\"MAPE Test\"]\n",
    "    - standardized_df[\"R2 Test\"]\n",
    ")\n",
    "\n",
    "# Update the SCPM in ddf_copy\n",
    "ddf_copy[\"SCPM\"] = standardized_df[\"Result\"]\n",
    "\n",
    "# Finding the row with the minimum SCPM value\n",
    "optimal_row = ddf_copy[ddf_copy[\"SCPM\"].eq(ddf_copy[\"SCPM\"].min())]\n",
    "\n",
    "# Display the result\n",
    "optimal_row"
   ]
  },
  {
   "cell_type": "markdown",
   "metadata": {},
   "source": [
    "# Pre train best model for fine tuning"
   ]
  },
  {
   "cell_type": "markdown",
   "metadata": {},
   "source": [
    "### Transformer 3\n",
    "\n",
    "timesteps 14"
   ]
  },
  {
   "cell_type": "code",
   "execution_count": 24,
   "metadata": {},
   "outputs": [
    {
     "name": "stderr",
     "output_type": "stream",
     "text": [
      "2024-09-19 12:51:50.138754: E tensorflow/compiler/xla/stream_executor/cuda/cuda_driver.cc:268] failed call to cuInit: CUDA_ERROR_NO_DEVICE: no CUDA-capable device is detected\n",
      "2024-09-19 12:51:50.138834: I tensorflow/compiler/xla/stream_executor/cuda/cuda_diagnostics.cc:168] retrieving CUDA diagnostic information for host: inspirada\n",
      "2024-09-19 12:51:50.138844: I tensorflow/compiler/xla/stream_executor/cuda/cuda_diagnostics.cc:175] hostname: inspirada\n",
      "2024-09-19 12:51:50.139060: I tensorflow/compiler/xla/stream_executor/cuda/cuda_diagnostics.cc:199] libcuda reported version is: 535.183.1\n",
      "2024-09-19 12:51:50.139106: I tensorflow/compiler/xla/stream_executor/cuda/cuda_diagnostics.cc:203] kernel reported version is: 535.183.1\n",
      "2024-09-19 12:51:50.139116: I tensorflow/compiler/xla/stream_executor/cuda/cuda_diagnostics.cc:309] kernel version seems to match DSO: 535.183.1\n"
     ]
    },
    {
     "name": "stdout",
     "output_type": "stream",
     "text": [
      "Minutes Elapsed:  203.04389789104462\n"
     ]
    },
    {
     "data": {
      "application/javascript": [
       "\n",
       "            setTimeout(function() {\n",
       "                var nbb_cell_id = 24;\n",
       "                var nbb_unformatted_code = \"set_seeds()\\ntimesteps = 14\\nmodel_early_stop = tf.keras.callbacks.EarlyStopping(monitor=\\\"val_loss\\\", patience=10)\\ndataset = prepare_dataset(timesteps=timesteps)\\n\\n\\nx_train = dataset[\\\"x_train\\\"]\\ny_train = dataset[\\\"y_train\\\"]\\nx_test = dataset[\\\"x_test\\\"]\\ny_test = dataset[\\\"y_test\\\"]\\n\\nx_train = np.concatenate([x_train, x_test])\\ny_train = np.concatenate([y_train, y_test])\\n\\nparams = get_transformer_params(\\n    timesteps=timesteps,\\n    num_features=x.shape[-1],\\n    num_heads=3,\\n    num_layers_enc=4,\\n    num_feed_forward=256,\\n    dropout_rate=0.1,\\n    activation=\\\"relu\\\",\\n    batch_size=64,\\n    epochs=300,\\n    callbacks=None,\\n    validation_split=0.0,\\n    verbose=0,\\n)\\n\\nstart = time.time()\\n# Instantiate the model\\nmodel = TransformerWrapper(params)\\n# Fitting the model\\nmodel.fit(x_train, y_train)\\nend = time.time()\\nprint(\\\"Minutes Elapsed: \\\", (end - start) / 60)\";\n",
       "                var nbb_formatted_code = \"set_seeds()\\ntimesteps = 14\\nmodel_early_stop = tf.keras.callbacks.EarlyStopping(monitor=\\\"val_loss\\\", patience=10)\\ndataset = prepare_dataset(timesteps=timesteps)\\n\\n\\nx_train = dataset[\\\"x_train\\\"]\\ny_train = dataset[\\\"y_train\\\"]\\nx_test = dataset[\\\"x_test\\\"]\\ny_test = dataset[\\\"y_test\\\"]\\n\\nx_train = np.concatenate([x_train, x_test])\\ny_train = np.concatenate([y_train, y_test])\\n\\nparams = get_transformer_params(\\n    timesteps=timesteps,\\n    num_features=x.shape[-1],\\n    num_heads=3,\\n    num_layers_enc=4,\\n    num_feed_forward=256,\\n    dropout_rate=0.1,\\n    activation=\\\"relu\\\",\\n    batch_size=64,\\n    epochs=300,\\n    callbacks=None,\\n    validation_split=0.0,\\n    verbose=0,\\n)\\n\\nstart = time.time()\\n# Instantiate the model\\nmodel = TransformerWrapper(params)\\n# Fitting the model\\nmodel.fit(x_train, y_train)\\nend = time.time()\\nprint(\\\"Minutes Elapsed: \\\", (end - start) / 60)\";\n",
       "                var nbb_cells = Jupyter.notebook.get_cells();\n",
       "                for (var i = 0; i < nbb_cells.length; ++i) {\n",
       "                    if (nbb_cells[i].input_prompt_number == nbb_cell_id) {\n",
       "                        if (nbb_cells[i].get_text() == nbb_unformatted_code) {\n",
       "                             nbb_cells[i].set_text(nbb_formatted_code);\n",
       "                        }\n",
       "                        break;\n",
       "                    }\n",
       "                }\n",
       "            }, 500);\n",
       "            "
      ],
      "text/plain": [
       "<IPython.core.display.Javascript object>"
      ]
     },
     "metadata": {},
     "output_type": "display_data"
    }
   ],
   "source": [
    "set_seeds()\n",
    "timesteps = 14\n",
    "model_early_stop = tf.keras.callbacks.EarlyStopping(monitor=\"val_loss\", patience=10)\n",
    "dataset = prepare_dataset(timesteps=timesteps)\n",
    "\n",
    "\n",
    "x_train = dataset[\"x_train\"]\n",
    "y_train = dataset[\"y_train\"]\n",
    "x_test = dataset[\"x_test\"]\n",
    "y_test = dataset[\"y_test\"]\n",
    "\n",
    "x_train = np.concatenate([x_train, x_test])\n",
    "y_train = np.concatenate([y_train, y_test])\n",
    "\n",
    "params = get_transformer_params(\n",
    "    timesteps=timesteps,\n",
    "    num_features=x.shape[-1],\n",
    "    num_heads=3,\n",
    "    num_layers_enc=4,\n",
    "    num_feed_forward=256,\n",
    "    dropout_rate=0.1,\n",
    "    activation=\"relu\",\n",
    "    batch_size=64,\n",
    "    epochs=300,\n",
    "    callbacks=None,\n",
    "    validation_split=0.0,\n",
    "    verbose=0,\n",
    ")\n",
    "\n",
    "start = time.time()\n",
    "# Instantiate the model\n",
    "model = TransformerWrapper(params)\n",
    "# Fitting the model\n",
    "model.fit(x_train, y_train)\n",
    "end = time.time()\n",
    "print(\"Minutes Elapsed: \", (end - start) / 60)"
   ]
  },
  {
   "cell_type": "code",
   "execution_count": 25,
   "metadata": {},
   "outputs": [
    {
     "data": {
      "application/javascript": [
       "\n",
       "            setTimeout(function() {\n",
       "                var nbb_cell_id = 25;\n",
       "                var nbb_unformatted_code = \"# Making predictions on train/test sets\\ny_train_pred = model.predict(x_train)\\ny_test_pred = model.predict(x_train)\\nscores = score_regression_metrics(y_train, y_train_pred, y_train, y_test_pred)\";\n",
       "                var nbb_formatted_code = \"# Making predictions on train/test sets\\ny_train_pred = model.predict(x_train)\\ny_test_pred = model.predict(x_train)\\nscores = score_regression_metrics(y_train, y_train_pred, y_train, y_test_pred)\";\n",
       "                var nbb_cells = Jupyter.notebook.get_cells();\n",
       "                for (var i = 0; i < nbb_cells.length; ++i) {\n",
       "                    if (nbb_cells[i].input_prompt_number == nbb_cell_id) {\n",
       "                        if (nbb_cells[i].get_text() == nbb_unformatted_code) {\n",
       "                             nbb_cells[i].set_text(nbb_formatted_code);\n",
       "                        }\n",
       "                        break;\n",
       "                    }\n",
       "                }\n",
       "            }, 500);\n",
       "            "
      ],
      "text/plain": [
       "<IPython.core.display.Javascript object>"
      ]
     },
     "metadata": {},
     "output_type": "display_data"
    }
   ],
   "source": [
    "# Making predictions on train/test sets\n",
    "y_train_pred = model.predict(x_train)\n",
    "y_test_pred = model.predict(x_train)\n",
    "scores = score_regression_metrics(y_train, y_train_pred, y_train, y_test_pred)"
   ]
  },
  {
   "cell_type": "code",
   "execution_count": 26,
   "metadata": {},
   "outputs": [
    {
     "name": "stdout",
     "output_type": "stream",
     "text": [
      "******\n",
      "[TRAIN]\n",
      "******\n",
      "RMSE: 2.770 (0.000)\n",
      "MAE: 2.167 (0.000)\n",
      "MAPE: 0.050 (0.000)\n",
      "R2: 0.829 (0.000)\n",
      "\n",
      "======================\n",
      "\n",
      "******\n",
      "[TEST]\n",
      "******\n",
      "RMSE: 2.770 (0.000)\n",
      "MAE: 2.167 (0.000)\n",
      "MAPE: 0.050 (0.000)\n",
      "R2: 0.829 (0.000)\n",
      "\n",
      "======================\n",
      "\n"
     ]
    },
    {
     "data": {
      "application/javascript": [
       "\n",
       "            setTimeout(function() {\n",
       "                var nbb_cell_id = 26;\n",
       "                var nbb_unformatted_code = \"print_scores(scores, METRICS, METRICS_DICT)\";\n",
       "                var nbb_formatted_code = \"print_scores(scores, METRICS, METRICS_DICT)\";\n",
       "                var nbb_cells = Jupyter.notebook.get_cells();\n",
       "                for (var i = 0; i < nbb_cells.length; ++i) {\n",
       "                    if (nbb_cells[i].input_prompt_number == nbb_cell_id) {\n",
       "                        if (nbb_cells[i].get_text() == nbb_unformatted_code) {\n",
       "                             nbb_cells[i].set_text(nbb_formatted_code);\n",
       "                        }\n",
       "                        break;\n",
       "                    }\n",
       "                }\n",
       "            }, 500);\n",
       "            "
      ],
      "text/plain": [
       "<IPython.core.display.Javascript object>"
      ]
     },
     "metadata": {},
     "output_type": "display_data"
    }
   ],
   "source": [
    "print_scores(scores, METRICS, METRICS_DICT)"
   ]
  },
  {
   "cell_type": "code",
   "execution_count": 27,
   "metadata": {},
   "outputs": [
    {
     "data": {
      "application/javascript": [
       "\n",
       "            setTimeout(function() {\n",
       "                var nbb_cell_id = 27;\n",
       "                var nbb_unformatted_code = \"weights_path = (\\n    \\\"../../../../../../../models/global_models/209/transformer/l/pre_training/\\\"\\n)\\nmodel_name = \\\"transformer_chemical_vars_weights.h5\\\"\";\n",
       "                var nbb_formatted_code = \"weights_path = (\\n    \\\"../../../../../../../models/global_models/209/transformer/l/pre_training/\\\"\\n)\\nmodel_name = \\\"transformer_chemical_vars_weights.h5\\\"\";\n",
       "                var nbb_cells = Jupyter.notebook.get_cells();\n",
       "                for (var i = 0; i < nbb_cells.length; ++i) {\n",
       "                    if (nbb_cells[i].input_prompt_number == nbb_cell_id) {\n",
       "                        if (nbb_cells[i].get_text() == nbb_unformatted_code) {\n",
       "                             nbb_cells[i].set_text(nbb_formatted_code);\n",
       "                        }\n",
       "                        break;\n",
       "                    }\n",
       "                }\n",
       "            }, 500);\n",
       "            "
      ],
      "text/plain": [
       "<IPython.core.display.Javascript object>"
      ]
     },
     "metadata": {},
     "output_type": "display_data"
    }
   ],
   "source": [
    "weights_path = (\n",
    "    \"../../../../../../../models/global_models/209/transformer/l/pre_training/\"\n",
    ")\n",
    "model_name = \"transformer_chemical_vars_weights.h5\""
   ]
  },
  {
   "cell_type": "code",
   "execution_count": 28,
   "metadata": {},
   "outputs": [
    {
     "data": {
      "application/javascript": [
       "\n",
       "            setTimeout(function() {\n",
       "                var nbb_cell_id = 28;\n",
       "                var nbb_unformatted_code = \"full_path = os.path.join(weights_path, model_name)\\nmodel.model.save_weights(full_path)\";\n",
       "                var nbb_formatted_code = \"full_path = os.path.join(weights_path, model_name)\\nmodel.model.save_weights(full_path)\";\n",
       "                var nbb_cells = Jupyter.notebook.get_cells();\n",
       "                for (var i = 0; i < nbb_cells.length; ++i) {\n",
       "                    if (nbb_cells[i].input_prompt_number == nbb_cell_id) {\n",
       "                        if (nbb_cells[i].get_text() == nbb_unformatted_code) {\n",
       "                             nbb_cells[i].set_text(nbb_formatted_code);\n",
       "                        }\n",
       "                        break;\n",
       "                    }\n",
       "                }\n",
       "            }, 500);\n",
       "            "
      ],
      "text/plain": [
       "<IPython.core.display.Javascript object>"
      ]
     },
     "metadata": {},
     "output_type": "display_data"
    }
   ],
   "source": [
    "full_path = os.path.join(weights_path, model_name)\n",
    "model.model.save_weights(full_path)"
   ]
  },
  {
   "cell_type": "code",
   "execution_count": 29,
   "metadata": {},
   "outputs": [
    {
     "data": {
      "text/plain": [
       "[<matplotlib.lines.Line2D at 0x7882d42115d0>]"
      ]
     },
     "execution_count": 29,
     "metadata": {},
     "output_type": "execute_result"
    },
    {
     "data": {
      "image/png": "[encoded data removed]",
      "text/plain": [
       "<Figure size 640x480 with 1 Axes>"
      ]
     },
     "metadata": {},
     "output_type": "display_data"
    },
    {
     "data": {
      "application/javascript": [
       "\n",
       "            setTimeout(function() {\n",
       "                var nbb_cell_id = 29;\n",
       "                var nbb_unformatted_code = \"import matplotlib.pyplot as plt\\n\\nplt.plot(model.history.history[\\\"loss\\\"])\";\n",
       "                var nbb_formatted_code = \"import matplotlib.pyplot as plt\\n\\nplt.plot(model.history.history[\\\"loss\\\"])\";\n",
       "                var nbb_cells = Jupyter.notebook.get_cells();\n",
       "                for (var i = 0; i < nbb_cells.length; ++i) {\n",
       "                    if (nbb_cells[i].input_prompt_number == nbb_cell_id) {\n",
       "                        if (nbb_cells[i].get_text() == nbb_unformatted_code) {\n",
       "                             nbb_cells[i].set_text(nbb_formatted_code);\n",
       "                        }\n",
       "                        break;\n",
       "                    }\n",
       "                }\n",
       "            }, 500);\n",
       "            "
      ],
      "text/plain": [
       "<IPython.core.display.Javascript object>"
      ]
     },
     "metadata": {},
     "output_type": "display_data"
    }
   ],
   "source": [
    "import matplotlib.pyplot as plt\n",
    "\n",
    "plt.plot(model.history.history[\"loss\"])"
   ]
  },
  {
   "cell_type": "code",
   "execution_count": 30,
   "metadata": {},
   "outputs": [
    {
     "data": {
      "text/plain": [
       "[<matplotlib.lines.Line2D at 0x7882d414ffa0>]"
      ]
     },
     "execution_count": 30,
     "metadata": {},
     "output_type": "execute_result"
    },
    {
     "data": {
      "image/png": "[encoded data removed]",
      "text/plain": [
       "<Figure size 640x480 with 1 Axes>"
      ]
     },
     "metadata": {},
     "output_type": "display_data"
    },
    {
     "data": {
      "application/javascript": [
       "\n",
       "            setTimeout(function() {\n",
       "                var nbb_cell_id = 30;\n",
       "                var nbb_unformatted_code = \"plt.plot(model.history.history[\\\"RMSE\\\"])\";\n",
       "                var nbb_formatted_code = \"plt.plot(model.history.history[\\\"RMSE\\\"])\";\n",
       "                var nbb_cells = Jupyter.notebook.get_cells();\n",
       "                for (var i = 0; i < nbb_cells.length; ++i) {\n",
       "                    if (nbb_cells[i].input_prompt_number == nbb_cell_id) {\n",
       "                        if (nbb_cells[i].get_text() == nbb_unformatted_code) {\n",
       "                             nbb_cells[i].set_text(nbb_formatted_code);\n",
       "                        }\n",
       "                        break;\n",
       "                    }\n",
       "                }\n",
       "            }, 500);\n",
       "            "
      ],
      "text/plain": [
       "<IPython.core.display.Javascript object>"
      ]
     },
     "metadata": {},
     "output_type": "display_data"
    }
   ],
   "source": [
    "plt.plot(model.history.history[\"RMSE\"])"
   ]
  },
  {
   "cell_type": "code",
   "execution_count": 31,
   "metadata": {},
   "outputs": [
    {
     "data": {
      "text/plain": [
       "[<matplotlib.lines.Line2D at 0x7882d41bc8e0>]"
      ]
     },
     "execution_count": 31,
     "metadata": {},
     "output_type": "execute_result"
    },
    {
     "data": {
      "image/png": "[encoded data removed]",
      "text/plain": [
       "<Figure size 640x480 with 1 Axes>"
      ]
     },
     "metadata": {},
     "output_type": "display_data"
    },
    {
     "data": {
      "application/javascript": [
       "\n",
       "            setTimeout(function() {\n",
       "                var nbb_cell_id = 31;\n",
       "                var nbb_unformatted_code = \"plt.plot(model.history.history[\\\"loss\\\"][1:])\";\n",
       "                var nbb_formatted_code = \"plt.plot(model.history.history[\\\"loss\\\"][1:])\";\n",
       "                var nbb_cells = Jupyter.notebook.get_cells();\n",
       "                for (var i = 0; i < nbb_cells.length; ++i) {\n",
       "                    if (nbb_cells[i].input_prompt_number == nbb_cell_id) {\n",
       "                        if (nbb_cells[i].get_text() == nbb_unformatted_code) {\n",
       "                             nbb_cells[i].set_text(nbb_formatted_code);\n",
       "                        }\n",
       "                        break;\n",
       "                    }\n",
       "                }\n",
       "            }, 500);\n",
       "            "
      ],
      "text/plain": [
       "<IPython.core.display.Javascript object>"
      ]
     },
     "metadata": {},
     "output_type": "display_data"
    }
   ],
   "source": [
    "plt.plot(model.history.history[\"loss\"][1:])"
   ]
  },
  {
   "cell_type": "code",
   "execution_count": 32,
   "metadata": {},
   "outputs": [
    {
     "data": {
      "text/plain": [
       "[<matplotlib.lines.Line2D at 0x7882d41bfc70>]"
      ]
     },
     "execution_count": 32,
     "metadata": {},
     "output_type": "execute_result"
    },
    {
     "data": {
      "image/png": "[encoded data removed]",
      "text/plain": [
       "<Figure size 640x480 with 1 Axes>"
      ]
     },
     "metadata": {},
     "output_type": "display_data"
    },
    {
     "data": {
      "application/javascript": [
       "\n",
       "            setTimeout(function() {\n",
       "                var nbb_cell_id = 32;\n",
       "                var nbb_unformatted_code = \"plt.plot(model.history.history[\\\"RMSE\\\"][1:])\";\n",
       "                var nbb_formatted_code = \"plt.plot(model.history.history[\\\"RMSE\\\"][1:])\";\n",
       "                var nbb_cells = Jupyter.notebook.get_cells();\n",
       "                for (var i = 0; i < nbb_cells.length; ++i) {\n",
       "                    if (nbb_cells[i].input_prompt_number == nbb_cell_id) {\n",
       "                        if (nbb_cells[i].get_text() == nbb_unformatted_code) {\n",
       "                             nbb_cells[i].set_text(nbb_formatted_code);\n",
       "                        }\n",
       "                        break;\n",
       "                    }\n",
       "                }\n",
       "            }, 500);\n",
       "            "
      ],
      "text/plain": [
       "<IPython.core.display.Javascript object>"
      ]
     },
     "metadata": {},
     "output_type": "display_data"
    }
   ],
   "source": [
    "plt.plot(model.history.history[\"RMSE\"][1:])"
   ]
  },
  {
   "cell_type": "code",
   "execution_count": 33,
   "metadata": {},
   "outputs": [
    {
     "name": "stdout",
     "output_type": "stream",
     "text": [
      "Model: \"transformer\"\n",
      "_________________________________________________________________\n",
      " Layer (type)                Output Shape              Param #   \n",
      "=================================================================\n",
      " sequential_4 (Sequential)   (None, 14, 10)            26904     \n",
      "                                                                 \n",
      " global_average_pooling1d (  multiple                  0         \n",
      " GlobalAveragePooling1D)                                         \n",
      "                                                                 \n",
      " dense_8 (Dense)             multiple                  11        \n",
      "                                                                 \n",
      "=================================================================\n",
      "Total params: 26915 (105.14 KB)\n",
      "Trainable params: 26915 (105.14 KB)\n",
      "Non-trainable params: 0 (0.00 Byte)\n",
      "_________________________________________________________________\n"
     ]
    },
    {
     "data": {
      "application/javascript": [
       "\n",
       "            setTimeout(function() {\n",
       "                var nbb_cell_id = 33;\n",
       "                var nbb_unformatted_code = \"model.model.summary()\";\n",
       "                var nbb_formatted_code = \"model.model.summary()\";\n",
       "                var nbb_cells = Jupyter.notebook.get_cells();\n",
       "                for (var i = 0; i < nbb_cells.length; ++i) {\n",
       "                    if (nbb_cells[i].input_prompt_number == nbb_cell_id) {\n",
       "                        if (nbb_cells[i].get_text() == nbb_unformatted_code) {\n",
       "                             nbb_cells[i].set_text(nbb_formatted_code);\n",
       "                        }\n",
       "                        break;\n",
       "                    }\n",
       "                }\n",
       "            }, 500);\n",
       "            "
      ],
      "text/plain": [
       "<IPython.core.display.Javascript object>"
      ]
     },
     "metadata": {},
     "output_type": "display_data"
    }
   ],
   "source": [
    "model.model.summary()"
   ]
  },
  {
   "cell_type": "code",
   "execution_count": null,
   "metadata": {},
   "outputs": [],
   "source": []
  }
 ],
 "metadata": {
  "kernelspec": {
   "display_name": "ccs28-venv",
   "language": "python",
   "name": "ccs28-venv"
  },
  "language_info": {
   "codemirror_mode": {
    "name": "ipython",
    "version": 3
   },
   "file_extension": ".py",
   "mimetype": "text/x-python",
   "name": "python",
   "nbconvert_exporter": "python",
   "pygments_lexer": "ipython3",
   "version": "3.10.12"
  }
 },
 "nbformat": 4,
 "nbformat_minor": 4
}
