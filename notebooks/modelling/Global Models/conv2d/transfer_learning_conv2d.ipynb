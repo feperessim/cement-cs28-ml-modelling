{
 "cells": [
  {
   "cell_type": "code",
   "execution_count": 1,
   "metadata": {},
   "outputs": [
    {
     "data": {
      "application/javascript": [
       "\n",
       "            setTimeout(function() {\n",
       "                var nbb_cell_id = 1;\n",
       "                var nbb_unformatted_code = \"%load_ext nb_black\";\n",
       "                var nbb_formatted_code = \"%load_ext nb_black\";\n",
       "                var nbb_cells = Jupyter.notebook.get_cells();\n",
       "                for (var i = 0; i < nbb_cells.length; ++i) {\n",
       "                    if (nbb_cells[i].input_prompt_number == nbb_cell_id) {\n",
       "                        if (nbb_cells[i].get_text() == nbb_unformatted_code) {\n",
       "                             nbb_cells[i].set_text(nbb_formatted_code);\n",
       "                        }\n",
       "                        break;\n",
       "                    }\n",
       "                }\n",
       "            }, 500);\n",
       "            "
      ],
      "text/plain": [
       "<IPython.core.display.Javascript object>"
      ]
     },
     "metadata": {},
     "output_type": "display_data"
    }
   ],
   "source": [
    "%load_ext nb_black"
   ]
  },
  {
   "cell_type": "code",
   "execution_count": 2,
   "metadata": {},
   "outputs": [
    {
     "data": {
      "application/javascript": [
       "\n",
       "            setTimeout(function() {\n",
       "                var nbb_cell_id = 2;\n",
       "                var nbb_unformatted_code = \"# Database Reading and Manipulation\\nimport pandas as pd\\nimport tensorflow as tf\\n\\n# Random and os for reproducibility\\nimport random\\nimport os\\n\\n# Linear Algebra\\nimport numpy as np\\n\\n# Plotting\\nimport matplotlib.pyplot as plt\\n\\n# Model Selection\\nfrom sklearn.model_selection import train_test_split\\nfrom sklearn.model_selection import TimeSeriesSplit\\nfrom sklearn.model_selection import RepeatedKFold\\nfrom sklearn.model_selection import cross_val_score\\nfrom sklearn.model_selection import cross_validate\\nfrom sklearn.model_selection import GridSearchCV\\n\\n# Modeling\\nfrom sklearn.linear_model import LinearRegression\\n\\n# Processing\\nfrom sklearn.preprocessing import StandardScaler\\n\\n# Metrics\\nfrom sklearn.metrics import mean_squared_error\\nfrom sklearn.metrics import mean_absolute_error\\nfrom sklearn.metrics import mean_absolute_percentage_error\\nfrom sklearn.metrics import r2_score\\n\\n# Pipeline\\nfrom sklearn.pipeline import Pipeline\\n\\nfrom src.utils.time_series_procs import split_sequences\";\n",
       "                var nbb_formatted_code = \"# Database Reading and Manipulation\\nimport pandas as pd\\nimport tensorflow as tf\\n\\n# Random and os for reproducibility\\nimport random\\nimport os\\n\\n# Linear Algebra\\nimport numpy as np\\n\\n# Plotting\\nimport matplotlib.pyplot as plt\\n\\n# Model Selection\\nfrom sklearn.model_selection import train_test_split\\nfrom sklearn.model_selection import TimeSeriesSplit\\nfrom sklearn.model_selection import RepeatedKFold\\nfrom sklearn.model_selection import cross_val_score\\nfrom sklearn.model_selection import cross_validate\\nfrom sklearn.model_selection import GridSearchCV\\n\\n# Modeling\\nfrom sklearn.linear_model import LinearRegression\\n\\n# Processing\\nfrom sklearn.preprocessing import StandardScaler\\n\\n# Metrics\\nfrom sklearn.metrics import mean_squared_error\\nfrom sklearn.metrics import mean_absolute_error\\nfrom sklearn.metrics import mean_absolute_percentage_error\\nfrom sklearn.metrics import r2_score\\n\\n# Pipeline\\nfrom sklearn.pipeline import Pipeline\\n\\nfrom src.utils.time_series_procs import split_sequences\";\n",
       "                var nbb_cells = Jupyter.notebook.get_cells();\n",
       "                for (var i = 0; i < nbb_cells.length; ++i) {\n",
       "                    if (nbb_cells[i].input_prompt_number == nbb_cell_id) {\n",
       "                        if (nbb_cells[i].get_text() == nbb_unformatted_code) {\n",
       "                             nbb_cells[i].set_text(nbb_formatted_code);\n",
       "                        }\n",
       "                        break;\n",
       "                    }\n",
       "                }\n",
       "            }, 500);\n",
       "            "
      ],
      "text/plain": [
       "<IPython.core.display.Javascript object>"
      ]
     },
     "metadata": {},
     "output_type": "display_data"
    }
   ],
   "source": [
    "# Database Reading and Manipulation\n",
    "import pandas as pd\n",
    "import tensorflow as tf\n",
    "\n",
    "# Random and os for reproducibility\n",
    "import random\n",
    "import os\n",
    "\n",
    "# Linear Algebra\n",
    "import numpy as np\n",
    "\n",
    "# Plotting\n",
    "import matplotlib.pyplot as plt\n",
    "\n",
    "# Model Selection\n",
    "from sklearn.model_selection import train_test_split\n",
    "from sklearn.model_selection import TimeSeriesSplit\n",
    "from sklearn.model_selection import RepeatedKFold\n",
    "from sklearn.model_selection import cross_val_score\n",
    "from sklearn.model_selection import cross_validate\n",
    "from sklearn.model_selection import GridSearchCV\n",
    "\n",
    "# Modeling\n",
    "from sklearn.linear_model import LinearRegression\n",
    "\n",
    "# Processing\n",
    "from sklearn.preprocessing import StandardScaler\n",
    "\n",
    "# Metrics\n",
    "from sklearn.metrics import mean_squared_error\n",
    "from sklearn.metrics import mean_absolute_error\n",
    "from sklearn.metrics import mean_absolute_percentage_error\n",
    "from sklearn.metrics import r2_score\n",
    "\n",
    "# Pipeline\n",
    "from sklearn.pipeline import Pipeline\n",
    "\n",
    "from src.utils.time_series_procs import split_sequences"
   ]
  },
  {
   "cell_type": "markdown",
   "metadata": {},
   "source": [
    "# Functions and definitions"
   ]
  },
  {
   "cell_type": "code",
   "execution_count": 3,
   "metadata": {},
   "outputs": [
    {
     "data": {
      "application/javascript": [
       "\n",
       "            setTimeout(function() {\n",
       "                var nbb_cell_id = 3;\n",
       "                var nbb_unformatted_code = \"def score_model(model, x, y, n_splits=10, n_repeats=10):\\n    scoring = \\\"neg_root_mean_squared_error\\\"\\n    cv = RepeatedKFold(n_splits=n_splits, n_repeats=n_repeats, random_state=SEED)\\n    scores = cross_val_score(model, x, y, scoring=scoring, cv=cv, n_jobs=-1)\\n    return scores\";\n",
       "                var nbb_formatted_code = \"def score_model(model, x, y, n_splits=10, n_repeats=10):\\n    scoring = \\\"neg_root_mean_squared_error\\\"\\n    cv = RepeatedKFold(n_splits=n_splits, n_repeats=n_repeats, random_state=SEED)\\n    scores = cross_val_score(model, x, y, scoring=scoring, cv=cv, n_jobs=-1)\\n    return scores\";\n",
       "                var nbb_cells = Jupyter.notebook.get_cells();\n",
       "                for (var i = 0; i < nbb_cells.length; ++i) {\n",
       "                    if (nbb_cells[i].input_prompt_number == nbb_cell_id) {\n",
       "                        if (nbb_cells[i].get_text() == nbb_unformatted_code) {\n",
       "                             nbb_cells[i].set_text(nbb_formatted_code);\n",
       "                        }\n",
       "                        break;\n",
       "                    }\n",
       "                }\n",
       "            }, 500);\n",
       "            "
      ],
      "text/plain": [
       "<IPython.core.display.Javascript object>"
      ]
     },
     "metadata": {},
     "output_type": "display_data"
    }
   ],
   "source": [
    "def score_model(model, x, y, n_splits=10, n_repeats=10):\n",
    "    scoring = \"neg_root_mean_squared_error\"\n",
    "    cv = RepeatedKFold(n_splits=n_splits, n_repeats=n_repeats, random_state=SEED)\n",
    "    scores = cross_val_score(model, x, y, scoring=scoring, cv=cv, n_jobs=-1)\n",
    "    return scores"
   ]
  },
  {
   "cell_type": "code",
   "execution_count": 4,
   "metadata": {},
   "outputs": [
    {
     "data": {
      "application/javascript": [
       "\n",
       "            setTimeout(function() {\n",
       "                var nbb_cell_id = 4;\n",
       "                var nbb_unformatted_code = \"def plot_predictions(linreg_model, df, index, x, y):\\n    d = df[\\\"Data/Hora\\\"].values\\n    test_series = pd.DataFrame({\\\"ccs28\\\": y}, index=pd.to_datetime(d))\\n    pred_series = linreg_model.predict(scaler.transform(x))\\n    pred_series = pd.DataFrame({\\\"ccs28-pred\\\": pred_series}, index=pd.to_datetime(d))\\n\\n    fig, ax = plt.subplots(1, 1, sharex=True, sharey=True, figsize=(15, 7))\\n\\n    test_series.plot(ax=ax)\\n    ax.axvline(test_series.index[index], color=\\\"r\\\")  # end of train dataset\\n    pred_series[index:].plot(ax=ax)\\n    ax.grid(which=\\\"both\\\")\\n    ax.legend(\\n        [\\\"train and test series\\\", \\\"end of train series\\\", \\\"predicted\\\"], loc=\\\"upper left\\\"\\n    )\\n    # ax.set_xlabel('Period', labelpad=20, fontsize=15)\\n    ax.set_ylabel(\\\"Compressive Strength - MPa\\\", labelpad=20, fontsize=15)\\n    plt.show()\";\n",
       "                var nbb_formatted_code = \"def plot_predictions(linreg_model, df, index, x, y):\\n    d = df[\\\"Data/Hora\\\"].values\\n    test_series = pd.DataFrame({\\\"ccs28\\\": y}, index=pd.to_datetime(d))\\n    pred_series = linreg_model.predict(scaler.transform(x))\\n    pred_series = pd.DataFrame({\\\"ccs28-pred\\\": pred_series}, index=pd.to_datetime(d))\\n\\n    fig, ax = plt.subplots(1, 1, sharex=True, sharey=True, figsize=(15, 7))\\n\\n    test_series.plot(ax=ax)\\n    ax.axvline(test_series.index[index], color=\\\"r\\\")  # end of train dataset\\n    pred_series[index:].plot(ax=ax)\\n    ax.grid(which=\\\"both\\\")\\n    ax.legend(\\n        [\\\"train and test series\\\", \\\"end of train series\\\", \\\"predicted\\\"], loc=\\\"upper left\\\"\\n    )\\n    # ax.set_xlabel('Period', labelpad=20, fontsize=15)\\n    ax.set_ylabel(\\\"Compressive Strength - MPa\\\", labelpad=20, fontsize=15)\\n    plt.show()\";\n",
       "                var nbb_cells = Jupyter.notebook.get_cells();\n",
       "                for (var i = 0; i < nbb_cells.length; ++i) {\n",
       "                    if (nbb_cells[i].input_prompt_number == nbb_cell_id) {\n",
       "                        if (nbb_cells[i].get_text() == nbb_unformatted_code) {\n",
       "                             nbb_cells[i].set_text(nbb_formatted_code);\n",
       "                        }\n",
       "                        break;\n",
       "                    }\n",
       "                }\n",
       "            }, 500);\n",
       "            "
      ],
      "text/plain": [
       "<IPython.core.display.Javascript object>"
      ]
     },
     "metadata": {},
     "output_type": "display_data"
    }
   ],
   "source": [
    "def plot_predictions(linreg_model, df, index, x, y):\n",
    "    d = df[\"Data/Hora\"].values\n",
    "    test_series = pd.DataFrame({\"ccs28\": y}, index=pd.to_datetime(d))\n",
    "    pred_series = linreg_model.predict(scaler.transform(x))\n",
    "    pred_series = pd.DataFrame({\"ccs28-pred\": pred_series}, index=pd.to_datetime(d))\n",
    "\n",
    "    fig, ax = plt.subplots(1, 1, sharex=True, sharey=True, figsize=(15, 7))\n",
    "\n",
    "    test_series.plot(ax=ax)\n",
    "    ax.axvline(test_series.index[index], color=\"r\")  # end of train dataset\n",
    "    pred_series[index:].plot(ax=ax)\n",
    "    ax.grid(which=\"both\")\n",
    "    ax.legend(\n",
    "        [\"train and test series\", \"end of train series\", \"predicted\"], loc=\"upper left\"\n",
    "    )\n",
    "    # ax.set_xlabel('Period', labelpad=20, fontsize=15)\n",
    "    ax.set_ylabel(\"Compressive Strength - MPa\", labelpad=20, fontsize=15)\n",
    "    plt.show()"
   ]
  },
  {
   "cell_type": "code",
   "execution_count": 5,
   "metadata": {},
   "outputs": [
    {
     "data": {
      "application/javascript": [
       "\n",
       "            setTimeout(function() {\n",
       "                var nbb_cell_id = 5;\n",
       "                var nbb_unformatted_code = \"def plot_scores_box_plot(scores, repeats, n_splits):\\n    plt.figure(figsize=(15, 8))\\n    plt.boxplot(\\n        scores.reshape((repeats, n_splits)),\\n        labels=[str(r) for r in range(1, repeats + 1)],\\n        showmeans=True,\\n    )\\n    plt.ylabel(\\\"RMSE\\\", labelpad=20, fontsize=15)\\n    plt.xlabel(\\\"Repeats\\\", labelpad=20, fontsize=15)\\n    plt.show()\";\n",
       "                var nbb_formatted_code = \"def plot_scores_box_plot(scores, repeats, n_splits):\\n    plt.figure(figsize=(15, 8))\\n    plt.boxplot(\\n        scores.reshape((repeats, n_splits)),\\n        labels=[str(r) for r in range(1, repeats + 1)],\\n        showmeans=True,\\n    )\\n    plt.ylabel(\\\"RMSE\\\", labelpad=20, fontsize=15)\\n    plt.xlabel(\\\"Repeats\\\", labelpad=20, fontsize=15)\\n    plt.show()\";\n",
       "                var nbb_cells = Jupyter.notebook.get_cells();\n",
       "                for (var i = 0; i < nbb_cells.length; ++i) {\n",
       "                    if (nbb_cells[i].input_prompt_number == nbb_cell_id) {\n",
       "                        if (nbb_cells[i].get_text() == nbb_unformatted_code) {\n",
       "                             nbb_cells[i].set_text(nbb_formatted_code);\n",
       "                        }\n",
       "                        break;\n",
       "                    }\n",
       "                }\n",
       "            }, 500);\n",
       "            "
      ],
      "text/plain": [
       "<IPython.core.display.Javascript object>"
      ]
     },
     "metadata": {},
     "output_type": "display_data"
    }
   ],
   "source": [
    "def plot_scores_box_plot(scores, repeats, n_splits):\n",
    "    plt.figure(figsize=(15, 8))\n",
    "    plt.boxplot(\n",
    "        scores.reshape((repeats, n_splits)),\n",
    "        labels=[str(r) for r in range(1, repeats + 1)],\n",
    "        showmeans=True,\n",
    "    )\n",
    "    plt.ylabel(\"RMSE\", labelpad=20, fontsize=15)\n",
    "    plt.xlabel(\"Repeats\", labelpad=20, fontsize=15)\n",
    "    plt.show()"
   ]
  },
  {
   "cell_type": "code",
   "execution_count": 6,
   "metadata": {},
   "outputs": [
    {
     "data": {
      "application/javascript": [
       "\n",
       "            setTimeout(function() {\n",
       "                var nbb_cell_id = 6;\n",
       "                var nbb_unformatted_code = \"class StandardScaler3DShape:\\n    def __init__(self):\\n        self.scaler = StandardScaler()\\n\\n    def fit_transform(self, X, y=None):\\n        X_new = self.scaler.fit_transform(X.reshape(-1, X.shape[-1])).reshape(X.shape)\\n        return X_new\\n\\n    def fit(self, X, y=None):\\n        X_new = X.reshape(-1, X.shape[-1])\\n        self.scaler.fit(X_new)\\n        return self\\n\\n    def transform(self, X, y=None):\\n        X_new = self.scaler.transform(X.reshape(-1, X.shape[-1])).reshape(X.shape)\\n        return X_new\";\n",
       "                var nbb_formatted_code = \"class StandardScaler3DShape:\\n    def __init__(self):\\n        self.scaler = StandardScaler()\\n\\n    def fit_transform(self, X, y=None):\\n        X_new = self.scaler.fit_transform(X.reshape(-1, X.shape[-1])).reshape(X.shape)\\n        return X_new\\n\\n    def fit(self, X, y=None):\\n        X_new = X.reshape(-1, X.shape[-1])\\n        self.scaler.fit(X_new)\\n        return self\\n\\n    def transform(self, X, y=None):\\n        X_new = self.scaler.transform(X.reshape(-1, X.shape[-1])).reshape(X.shape)\\n        return X_new\";\n",
       "                var nbb_cells = Jupyter.notebook.get_cells();\n",
       "                for (var i = 0; i < nbb_cells.length; ++i) {\n",
       "                    if (nbb_cells[i].input_prompt_number == nbb_cell_id) {\n",
       "                        if (nbb_cells[i].get_text() == nbb_unformatted_code) {\n",
       "                             nbb_cells[i].set_text(nbb_formatted_code);\n",
       "                        }\n",
       "                        break;\n",
       "                    }\n",
       "                }\n",
       "            }, 500);\n",
       "            "
      ],
      "text/plain": [
       "<IPython.core.display.Javascript object>"
      ]
     },
     "metadata": {},
     "output_type": "display_data"
    }
   ],
   "source": [
    "class StandardScaler3DShape:\n",
    "    def __init__(self):\n",
    "        self.scaler = StandardScaler()\n",
    "\n",
    "    def fit_transform(self, X, y=None):\n",
    "        X_new = self.scaler.fit_transform(X.reshape(-1, X.shape[-1])).reshape(X.shape)\n",
    "        return X_new\n",
    "\n",
    "    def fit(self, X, y=None):\n",
    "        X_new = X.reshape(-1, X.shape[-1])\n",
    "        self.scaler.fit(X_new)\n",
    "        return self\n",
    "\n",
    "    def transform(self, X, y=None):\n",
    "        X_new = self.scaler.transform(X.reshape(-1, X.shape[-1])).reshape(X.shape)\n",
    "        return X_new"
   ]
  },
  {
   "cell_type": "code",
   "execution_count": 7,
   "metadata": {},
   "outputs": [
    {
     "data": {
      "application/javascript": [
       "\n",
       "            setTimeout(function() {\n",
       "                var nbb_cell_id = 7;\n",
       "                var nbb_unformatted_code = \"def repeated_blocking_time_series(\\n    Estimator, Transform, x, y, train_period, test_period, repeats=10, params=None\\n):\\n    results = []\\n    max_samples = x.shape[0]\\n\\n    for _ in range(repeats):\\n        i = 0\\n        scores = []\\n        for _ in range(0, max_samples // (train_period + test_period)):\\n            scaler = Transform()\\n            model = Estimator() if params is None else Estimator(**params)\\n            x_train = x[i : i + train_period]\\n            y_train = y[i : i + train_period]\\n            x_test = x[i + train_period : i + train_period + test_period]\\n            y_test = y[i + train_period : i + train_period + test_period]\\n            x_train = scaler.fit_transform(x_train)\\n            x_test = scaler.transform(x_test)\\n\\n            model.fit(x_train, y_train)\\n\\n            y_train_pred = model.predict(x_train)\\n            y_test_pred = model.predict(x_test)\\n            scores.append(\\n                score_regression_metrics(y_train, y_train_pred, y_test, y_test_pred)\\n            )\\n            i += train_period + test_period\\n\\n        scores_final = {key: [] for key, _ in scores[0].items()}\\n        for scores_dict in scores:\\n            for key, value in scores_dict.items():\\n                scores_final[key] += [value]\\n        results.append(scores_final)\\n    return results\";\n",
       "                var nbb_formatted_code = \"def repeated_blocking_time_series(\\n    Estimator, Transform, x, y, train_period, test_period, repeats=10, params=None\\n):\\n    results = []\\n    max_samples = x.shape[0]\\n\\n    for _ in range(repeats):\\n        i = 0\\n        scores = []\\n        for _ in range(0, max_samples // (train_period + test_period)):\\n            scaler = Transform()\\n            model = Estimator() if params is None else Estimator(**params)\\n            x_train = x[i : i + train_period]\\n            y_train = y[i : i + train_period]\\n            x_test = x[i + train_period : i + train_period + test_period]\\n            y_test = y[i + train_period : i + train_period + test_period]\\n            x_train = scaler.fit_transform(x_train)\\n            x_test = scaler.transform(x_test)\\n\\n            model.fit(x_train, y_train)\\n\\n            y_train_pred = model.predict(x_train)\\n            y_test_pred = model.predict(x_test)\\n            scores.append(\\n                score_regression_metrics(y_train, y_train_pred, y_test, y_test_pred)\\n            )\\n            i += train_period + test_period\\n\\n        scores_final = {key: [] for key, _ in scores[0].items()}\\n        for scores_dict in scores:\\n            for key, value in scores_dict.items():\\n                scores_final[key] += [value]\\n        results.append(scores_final)\\n    return results\";\n",
       "                var nbb_cells = Jupyter.notebook.get_cells();\n",
       "                for (var i = 0; i < nbb_cells.length; ++i) {\n",
       "                    if (nbb_cells[i].input_prompt_number == nbb_cell_id) {\n",
       "                        if (nbb_cells[i].get_text() == nbb_unformatted_code) {\n",
       "                             nbb_cells[i].set_text(nbb_formatted_code);\n",
       "                        }\n",
       "                        break;\n",
       "                    }\n",
       "                }\n",
       "            }, 500);\n",
       "            "
      ],
      "text/plain": [
       "<IPython.core.display.Javascript object>"
      ]
     },
     "metadata": {},
     "output_type": "display_data"
    }
   ],
   "source": [
    "def repeated_blocking_time_series(\n",
    "    Estimator, Transform, x, y, train_period, test_period, repeats=10, params=None\n",
    "):\n",
    "    results = []\n",
    "    max_samples = x.shape[0]\n",
    "\n",
    "    for _ in range(repeats):\n",
    "        i = 0\n",
    "        scores = []\n",
    "        for _ in range(0, max_samples // (train_period + test_period)):\n",
    "            scaler = Transform()\n",
    "            model = Estimator() if params is None else Estimator(**params)\n",
    "            x_train = x[i : i + train_period]\n",
    "            y_train = y[i : i + train_period]\n",
    "            x_test = x[i + train_period : i + train_period + test_period]\n",
    "            y_test = y[i + train_period : i + train_period + test_period]\n",
    "            x_train = scaler.fit_transform(x_train)\n",
    "            x_test = scaler.transform(x_test)\n",
    "\n",
    "            model.fit(x_train, y_train)\n",
    "\n",
    "            y_train_pred = model.predict(x_train)\n",
    "            y_test_pred = model.predict(x_test)\n",
    "            scores.append(\n",
    "                score_regression_metrics(y_train, y_train_pred, y_test, y_test_pred)\n",
    "            )\n",
    "            i += train_period + test_period\n",
    "\n",
    "        scores_final = {key: [] for key, _ in scores[0].items()}\n",
    "        for scores_dict in scores:\n",
    "            for key, value in scores_dict.items():\n",
    "                scores_final[key] += [value]\n",
    "        results.append(scores_final)\n",
    "    return results"
   ]
  },
  {
   "cell_type": "code",
   "execution_count": 8,
   "metadata": {},
   "outputs": [
    {
     "data": {
      "application/javascript": [
       "\n",
       "            setTimeout(function() {\n",
       "                var nbb_cell_id = 8;\n",
       "                var nbb_unformatted_code = \"def print_scores(scores, METRICS, METRICS_DICT):\\n    for phase in [\\\"train\\\", \\\"test\\\"]:\\n        print(\\\"******\\\")\\n        print(f\\\"[{phase.upper()}]\\\")\\n        print(\\\"******\\\")\\n        for metric in METRICS:\\n            name = METRICS_DICT[metric]\\n            print(\\n                f\\\"{name}: %.3f (%.3f)\\\"\\n                % (\\n                    np.abs(np.mean(scores[f\\\"{phase}_\\\" + metric])),\\n                    np.std(scores[f\\\"{phase}_\\\" + metric]),\\n                )\\n            )\\n        print(\\\"\\\\n======================\\\\n\\\")\";\n",
       "                var nbb_formatted_code = \"def print_scores(scores, METRICS, METRICS_DICT):\\n    for phase in [\\\"train\\\", \\\"test\\\"]:\\n        print(\\\"******\\\")\\n        print(f\\\"[{phase.upper()}]\\\")\\n        print(\\\"******\\\")\\n        for metric in METRICS:\\n            name = METRICS_DICT[metric]\\n            print(\\n                f\\\"{name}: %.3f (%.3f)\\\"\\n                % (\\n                    np.abs(np.mean(scores[f\\\"{phase}_\\\" + metric])),\\n                    np.std(scores[f\\\"{phase}_\\\" + metric]),\\n                )\\n            )\\n        print(\\\"\\\\n======================\\\\n\\\")\";\n",
       "                var nbb_cells = Jupyter.notebook.get_cells();\n",
       "                for (var i = 0; i < nbb_cells.length; ++i) {\n",
       "                    if (nbb_cells[i].input_prompt_number == nbb_cell_id) {\n",
       "                        if (nbb_cells[i].get_text() == nbb_unformatted_code) {\n",
       "                             nbb_cells[i].set_text(nbb_formatted_code);\n",
       "                        }\n",
       "                        break;\n",
       "                    }\n",
       "                }\n",
       "            }, 500);\n",
       "            "
      ],
      "text/plain": [
       "<IPython.core.display.Javascript object>"
      ]
     },
     "metadata": {},
     "output_type": "display_data"
    }
   ],
   "source": [
    "def print_scores(scores, METRICS, METRICS_DICT):\n",
    "    for phase in [\"train\", \"test\"]:\n",
    "        print(\"******\")\n",
    "        print(f\"[{phase.upper()}]\")\n",
    "        print(\"******\")\n",
    "        for metric in METRICS:\n",
    "            name = METRICS_DICT[metric]\n",
    "            print(\n",
    "                f\"{name}: %.3f (%.3f)\"\n",
    "                % (\n",
    "                    np.abs(np.mean(scores[f\"{phase}_\" + metric])),\n",
    "                    np.std(scores[f\"{phase}_\" + metric]),\n",
    "                )\n",
    "            )\n",
    "        print(\"\\n======================\\n\")"
   ]
  },
  {
   "cell_type": "code",
   "execution_count": 9,
   "metadata": {},
   "outputs": [
    {
     "data": {
      "application/javascript": [
       "\n",
       "            setTimeout(function() {\n",
       "                var nbb_cell_id = 9;\n",
       "                var nbb_unformatted_code = \"def score_regression_metrics(y_train, y_train_pred, y_test, y_test_pred):\\n    TRAIN_RMSE = mean_squared_error(y_true=y_train, y_pred=y_train_pred, squared=False)\\n    TRAIN_MAE = mean_absolute_error(y_true=y_train, y_pred=y_train_pred)\\n    TRAIN_MAPE = mean_absolute_percentage_error(y_true=y_train, y_pred=y_train_pred)\\n    TRAIN_R2 = r2_score(y_true=y_train, y_pred=y_train_pred)\\n\\n    TEST_RMSE = mean_squared_error(y_true=y_test, y_pred=y_test_pred, squared=False)\\n    TEST_MAE = mean_absolute_error(y_true=y_test, y_pred=y_test_pred)\\n    TEST_MAPE = mean_absolute_percentage_error(y_true=y_test, y_pred=y_test_pred)\\n    TEST_R2 = r2_score(y_true=y_test, y_pred=y_test_pred)\\n\\n    scores = {\\n        \\\"train_neg_root_mean_squared_error\\\": TRAIN_RMSE,\\n        \\\"train_neg_mean_absolute_error\\\": TRAIN_MAE,\\n        \\\"train_neg_mean_absolute_percentage_error\\\": TRAIN_MAPE,\\n        \\\"train_r2\\\": TRAIN_R2,\\n        \\\"test_neg_root_mean_squared_error\\\": TEST_RMSE,\\n        \\\"test_neg_mean_absolute_error\\\": TEST_MAE,\\n        \\\"test_neg_mean_absolute_percentage_error\\\": TEST_MAPE,\\n        \\\"test_r2\\\": TEST_R2,\\n    }\\n    return scores\";\n",
       "                var nbb_formatted_code = \"def score_regression_metrics(y_train, y_train_pred, y_test, y_test_pred):\\n    TRAIN_RMSE = mean_squared_error(y_true=y_train, y_pred=y_train_pred, squared=False)\\n    TRAIN_MAE = mean_absolute_error(y_true=y_train, y_pred=y_train_pred)\\n    TRAIN_MAPE = mean_absolute_percentage_error(y_true=y_train, y_pred=y_train_pred)\\n    TRAIN_R2 = r2_score(y_true=y_train, y_pred=y_train_pred)\\n\\n    TEST_RMSE = mean_squared_error(y_true=y_test, y_pred=y_test_pred, squared=False)\\n    TEST_MAE = mean_absolute_error(y_true=y_test, y_pred=y_test_pred)\\n    TEST_MAPE = mean_absolute_percentage_error(y_true=y_test, y_pred=y_test_pred)\\n    TEST_R2 = r2_score(y_true=y_test, y_pred=y_test_pred)\\n\\n    scores = {\\n        \\\"train_neg_root_mean_squared_error\\\": TRAIN_RMSE,\\n        \\\"train_neg_mean_absolute_error\\\": TRAIN_MAE,\\n        \\\"train_neg_mean_absolute_percentage_error\\\": TRAIN_MAPE,\\n        \\\"train_r2\\\": TRAIN_R2,\\n        \\\"test_neg_root_mean_squared_error\\\": TEST_RMSE,\\n        \\\"test_neg_mean_absolute_error\\\": TEST_MAE,\\n        \\\"test_neg_mean_absolute_percentage_error\\\": TEST_MAPE,\\n        \\\"test_r2\\\": TEST_R2,\\n    }\\n    return scores\";\n",
       "                var nbb_cells = Jupyter.notebook.get_cells();\n",
       "                for (var i = 0; i < nbb_cells.length; ++i) {\n",
       "                    if (nbb_cells[i].input_prompt_number == nbb_cell_id) {\n",
       "                        if (nbb_cells[i].get_text() == nbb_unformatted_code) {\n",
       "                             nbb_cells[i].set_text(nbb_formatted_code);\n",
       "                        }\n",
       "                        break;\n",
       "                    }\n",
       "                }\n",
       "            }, 500);\n",
       "            "
      ],
      "text/plain": [
       "<IPython.core.display.Javascript object>"
      ]
     },
     "metadata": {},
     "output_type": "display_data"
    }
   ],
   "source": [
    "def score_regression_metrics(y_train, y_train_pred, y_test, y_test_pred):\n",
    "    TRAIN_RMSE = mean_squared_error(y_true=y_train, y_pred=y_train_pred, squared=False)\n",
    "    TRAIN_MAE = mean_absolute_error(y_true=y_train, y_pred=y_train_pred)\n",
    "    TRAIN_MAPE = mean_absolute_percentage_error(y_true=y_train, y_pred=y_train_pred)\n",
    "    TRAIN_R2 = r2_score(y_true=y_train, y_pred=y_train_pred)\n",
    "\n",
    "    TEST_RMSE = mean_squared_error(y_true=y_test, y_pred=y_test_pred, squared=False)\n",
    "    TEST_MAE = mean_absolute_error(y_true=y_test, y_pred=y_test_pred)\n",
    "    TEST_MAPE = mean_absolute_percentage_error(y_true=y_test, y_pred=y_test_pred)\n",
    "    TEST_R2 = r2_score(y_true=y_test, y_pred=y_test_pred)\n",
    "\n",
    "    scores = {\n",
    "        \"train_neg_root_mean_squared_error\": TRAIN_RMSE,\n",
    "        \"train_neg_mean_absolute_error\": TRAIN_MAE,\n",
    "        \"train_neg_mean_absolute_percentage_error\": TRAIN_MAPE,\n",
    "        \"train_r2\": TRAIN_R2,\n",
    "        \"test_neg_root_mean_squared_error\": TEST_RMSE,\n",
    "        \"test_neg_mean_absolute_error\": TEST_MAE,\n",
    "        \"test_neg_mean_absolute_percentage_error\": TEST_MAPE,\n",
    "        \"test_r2\": TEST_R2,\n",
    "    }\n",
    "    return scores"
   ]
  },
  {
   "cell_type": "code",
   "execution_count": 10,
   "metadata": {},
   "outputs": [
    {
     "data": {
      "application/javascript": [
       "\n",
       "            setTimeout(function() {\n",
       "                var nbb_cell_id = 10;\n",
       "                var nbb_unformatted_code = \"def get_model(shape, include_top=True):\\n    rows, cols, channels = shape\\n    inputs = tf.keras.Input(shape=(rows, cols, channels))\\n    x = tf.keras.layers.Conv2D(128, 24, activation=\\\"relu\\\", padding=\\\"same\\\")(inputs)\\n    x = tf.keras.layers.MaxPooling2D(2)(x)\\n    x = tf.keras.layers.Conv2D(64, 12, activation=\\\"relu\\\", padding=\\\"same\\\")(x)\\n    x = tf.keras.layers.MaxPooling2D(2)(x)\\n    x = tf.keras.layers.Conv2D(32, 6, activation=\\\"relu\\\", padding=\\\"same\\\")(x)\\n    x = tf.keras.layers.GlobalAveragePooling2D()(x)\\n    if include_top == True:\\n        x = tf.keras.layers.Flatten(name=\\\"flatten\\\")(x)\\n        x = tf.keras.layers.Dense(128, activation=\\\"relu\\\", name=\\\"fc1\\\")(x)\\n        x = tf.keras.layers.Dense(64, activation=\\\"relu\\\", name=\\\"fc2\\\")(x)\\n        x = tf.keras.layers.Dropout(0.1)(x)\\n        outputs = tf.keras.layers.Dense(1)(x)\\n        model = tf.keras.Model(inputs, outputs)\\n        model.compile(\\n            optimizer=tf.keras.optimizers.Adam(learning_rate=1e-3),\\n            loss=\\\"mse\\\",\\n            metrics=[tf.keras.metrics.RootMeanSquaredError(name=\\\"RMSE\\\")],\\n        )\\n    else:\\n        model = tf.keras.Model(inputs, x)\\n    return model\";\n",
       "                var nbb_formatted_code = \"def get_model(shape, include_top=True):\\n    rows, cols, channels = shape\\n    inputs = tf.keras.Input(shape=(rows, cols, channels))\\n    x = tf.keras.layers.Conv2D(128, 24, activation=\\\"relu\\\", padding=\\\"same\\\")(inputs)\\n    x = tf.keras.layers.MaxPooling2D(2)(x)\\n    x = tf.keras.layers.Conv2D(64, 12, activation=\\\"relu\\\", padding=\\\"same\\\")(x)\\n    x = tf.keras.layers.MaxPooling2D(2)(x)\\n    x = tf.keras.layers.Conv2D(32, 6, activation=\\\"relu\\\", padding=\\\"same\\\")(x)\\n    x = tf.keras.layers.GlobalAveragePooling2D()(x)\\n    if include_top == True:\\n        x = tf.keras.layers.Flatten(name=\\\"flatten\\\")(x)\\n        x = tf.keras.layers.Dense(128, activation=\\\"relu\\\", name=\\\"fc1\\\")(x)\\n        x = tf.keras.layers.Dense(64, activation=\\\"relu\\\", name=\\\"fc2\\\")(x)\\n        x = tf.keras.layers.Dropout(0.1)(x)\\n        outputs = tf.keras.layers.Dense(1)(x)\\n        model = tf.keras.Model(inputs, outputs)\\n        model.compile(\\n            optimizer=tf.keras.optimizers.Adam(learning_rate=1e-3),\\n            loss=\\\"mse\\\",\\n            metrics=[tf.keras.metrics.RootMeanSquaredError(name=\\\"RMSE\\\")],\\n        )\\n    else:\\n        model = tf.keras.Model(inputs, x)\\n    return model\";\n",
       "                var nbb_cells = Jupyter.notebook.get_cells();\n",
       "                for (var i = 0; i < nbb_cells.length; ++i) {\n",
       "                    if (nbb_cells[i].input_prompt_number == nbb_cell_id) {\n",
       "                        if (nbb_cells[i].get_text() == nbb_unformatted_code) {\n",
       "                             nbb_cells[i].set_text(nbb_formatted_code);\n",
       "                        }\n",
       "                        break;\n",
       "                    }\n",
       "                }\n",
       "            }, 500);\n",
       "            "
      ],
      "text/plain": [
       "<IPython.core.display.Javascript object>"
      ]
     },
     "metadata": {},
     "output_type": "display_data"
    }
   ],
   "source": [
    "def get_model(shape, include_top=True):\n",
    "    rows, cols, channels = shape\n",
    "    inputs = tf.keras.Input(shape=(rows, cols, channels))\n",
    "    x = tf.keras.layers.Conv2D(128, 24, activation=\"relu\", padding=\"same\")(inputs)\n",
    "    x = tf.keras.layers.MaxPooling2D(2)(x)\n",
    "    x = tf.keras.layers.Conv2D(64, 12, activation=\"relu\", padding=\"same\")(x)\n",
    "    x = tf.keras.layers.MaxPooling2D(2)(x)\n",
    "    x = tf.keras.layers.Conv2D(32, 6, activation=\"relu\", padding=\"same\")(x)\n",
    "    x = tf.keras.layers.GlobalAveragePooling2D()(x)\n",
    "    if include_top == True:\n",
    "        x = tf.keras.layers.Flatten(name=\"flatten\")(x)\n",
    "        x = tf.keras.layers.Dense(128, activation=\"relu\", name=\"fc1\")(x)\n",
    "        x = tf.keras.layers.Dense(64, activation=\"relu\", name=\"fc2\")(x)\n",
    "        x = tf.keras.layers.Dropout(0.1)(x)\n",
    "        outputs = tf.keras.layers.Dense(1)(x)\n",
    "        model = tf.keras.Model(inputs, outputs)\n",
    "        model.compile(\n",
    "            optimizer=tf.keras.optimizers.Adam(learning_rate=1e-3),\n",
    "            loss=\"mse\",\n",
    "            metrics=[tf.keras.metrics.RootMeanSquaredError(name=\"RMSE\")],\n",
    "        )\n",
    "    else:\n",
    "        model = tf.keras.Model(inputs, x)\n",
    "    return model"
   ]
  },
  {
   "cell_type": "markdown",
   "metadata": {},
   "source": [
    "# Settings for Reproducibility"
   ]
  },
  {
   "cell_type": "code",
   "execution_count": 11,
   "metadata": {},
   "outputs": [
    {
     "data": {
      "application/javascript": [
       "\n",
       "            setTimeout(function() {\n",
       "                var nbb_cell_id = 11;\n",
       "                var nbb_unformatted_code = \"def set_seeds():\\n    os.environ[\\\"CUDA_VISIBLE_DEVICES\\\"] = \\\"\\\"\\n    os.environ[\\\"PYTHONHASHSEED\\\"] = str(SEED)\\n    tf.random.set_seed(SEED)\\n    np.random.seed(SEED)\\n    random.seed(SEED)\";\n",
       "                var nbb_formatted_code = \"def set_seeds():\\n    os.environ[\\\"CUDA_VISIBLE_DEVICES\\\"] = \\\"\\\"\\n    os.environ[\\\"PYTHONHASHSEED\\\"] = str(SEED)\\n    tf.random.set_seed(SEED)\\n    np.random.seed(SEED)\\n    random.seed(SEED)\";\n",
       "                var nbb_cells = Jupyter.notebook.get_cells();\n",
       "                for (var i = 0; i < nbb_cells.length; ++i) {\n",
       "                    if (nbb_cells[i].input_prompt_number == nbb_cell_id) {\n",
       "                        if (nbb_cells[i].get_text() == nbb_unformatted_code) {\n",
       "                             nbb_cells[i].set_text(nbb_formatted_code);\n",
       "                        }\n",
       "                        break;\n",
       "                    }\n",
       "                }\n",
       "            }, 500);\n",
       "            "
      ],
      "text/plain": [
       "<IPython.core.display.Javascript object>"
      ]
     },
     "metadata": {},
     "output_type": "display_data"
    }
   ],
   "source": [
    "def set_seeds():\n",
    "    os.environ[\"CUDA_VISIBLE_DEVICES\"] = \"\"\n",
    "    os.environ[\"PYTHONHASHSEED\"] = str(SEED)\n",
    "    tf.random.set_seed(SEED)\n",
    "    np.random.seed(SEED)\n",
    "    random.seed(SEED)"
   ]
  },
  {
   "cell_type": "markdown",
   "metadata": {},
   "source": [
    "# Conversion of Tabular Data to Image"
   ]
  },
  {
   "cell_type": "code",
   "execution_count": 12,
   "metadata": {},
   "outputs": [
    {
     "data": {
      "application/javascript": [
       "\n",
       "            setTimeout(function() {\n",
       "                var nbb_cell_id = 12;\n",
       "                var nbb_unformatted_code = \"def to_img_matrix(data, labels, n_rows):\\n    images = []\\n    targets = []\\n    max_rows = data.shape[0]\\n    for i in range(0, max_rows - n_rows, n_rows):\\n        image = data[i : i + n_rows, :]\\n        label = labels[i + n_rows - 1]\\n        images.append(image)\\n        targets.append(label)\\n    images = np.array(images)\\n    images = images.reshape(images.shape[0], images.shape[1], images.shape[2], 1)\\n    targets = np.array(targets)\\n    return images, targets\";\n",
       "                var nbb_formatted_code = \"def to_img_matrix(data, labels, n_rows):\\n    images = []\\n    targets = []\\n    max_rows = data.shape[0]\\n    for i in range(0, max_rows - n_rows, n_rows):\\n        image = data[i : i + n_rows, :]\\n        label = labels[i + n_rows - 1]\\n        images.append(image)\\n        targets.append(label)\\n    images = np.array(images)\\n    images = images.reshape(images.shape[0], images.shape[1], images.shape[2], 1)\\n    targets = np.array(targets)\\n    return images, targets\";\n",
       "                var nbb_cells = Jupyter.notebook.get_cells();\n",
       "                for (var i = 0; i < nbb_cells.length; ++i) {\n",
       "                    if (nbb_cells[i].input_prompt_number == nbb_cell_id) {\n",
       "                        if (nbb_cells[i].get_text() == nbb_unformatted_code) {\n",
       "                             nbb_cells[i].set_text(nbb_formatted_code);\n",
       "                        }\n",
       "                        break;\n",
       "                    }\n",
       "                }\n",
       "            }, 500);\n",
       "            "
      ],
      "text/plain": [
       "<IPython.core.display.Javascript object>"
      ]
     },
     "metadata": {},
     "output_type": "display_data"
    }
   ],
   "source": [
    "def to_img_matrix(data, labels, n_rows):\n",
    "    images = []\n",
    "    targets = []\n",
    "    max_rows = data.shape[0]\n",
    "    for i in range(0, max_rows - n_rows, n_rows):\n",
    "        image = data[i : i + n_rows, :]\n",
    "        label = labels[i + n_rows - 1]\n",
    "        images.append(image)\n",
    "        targets.append(label)\n",
    "    images = np.array(images)\n",
    "    images = images.reshape(images.shape[0], images.shape[1], images.shape[2], 1)\n",
    "    targets = np.array(targets)\n",
    "    return images, targets"
   ]
  },
  {
   "cell_type": "code",
   "execution_count": 13,
   "metadata": {},
   "outputs": [
    {
     "data": {
      "application/javascript": [
       "\n",
       "            setTimeout(function() {\n",
       "                var nbb_cell_id = 13;\n",
       "                var nbb_unformatted_code = \"SEED = 47\\nMETRICS = (\\n    \\\"neg_root_mean_squared_error\\\",\\n    \\\"neg_mean_absolute_error\\\",\\n    \\\"neg_mean_absolute_percentage_error\\\",\\n    \\\"r2\\\",\\n)\\nMETRICS_DICT = {\\n    \\\"neg_root_mean_squared_error\\\": \\\"RMSE\\\",\\n    \\\"neg_mean_absolute_error\\\": \\\"MAE\\\",\\n    \\\"neg_mean_absolute_percentage_error\\\": \\\"MAPE\\\",\\n    \\\"r2\\\": \\\"R2\\\",\\n}\";\n",
       "                var nbb_formatted_code = \"SEED = 47\\nMETRICS = (\\n    \\\"neg_root_mean_squared_error\\\",\\n    \\\"neg_mean_absolute_error\\\",\\n    \\\"neg_mean_absolute_percentage_error\\\",\\n    \\\"r2\\\",\\n)\\nMETRICS_DICT = {\\n    \\\"neg_root_mean_squared_error\\\": \\\"RMSE\\\",\\n    \\\"neg_mean_absolute_error\\\": \\\"MAE\\\",\\n    \\\"neg_mean_absolute_percentage_error\\\": \\\"MAPE\\\",\\n    \\\"r2\\\": \\\"R2\\\",\\n}\";\n",
       "                var nbb_cells = Jupyter.notebook.get_cells();\n",
       "                for (var i = 0; i < nbb_cells.length; ++i) {\n",
       "                    if (nbb_cells[i].input_prompt_number == nbb_cell_id) {\n",
       "                        if (nbb_cells[i].get_text() == nbb_unformatted_code) {\n",
       "                             nbb_cells[i].set_text(nbb_formatted_code);\n",
       "                        }\n",
       "                        break;\n",
       "                    }\n",
       "                }\n",
       "            }, 500);\n",
       "            "
      ],
      "text/plain": [
       "<IPython.core.display.Javascript object>"
      ]
     },
     "metadata": {},
     "output_type": "display_data"
    }
   ],
   "source": [
    "SEED = 47\n",
    "METRICS = (\n",
    "    \"neg_root_mean_squared_error\",\n",
    "    \"neg_mean_absolute_error\",\n",
    "    \"neg_mean_absolute_percentage_error\",\n",
    "    \"r2\",\n",
    ")\n",
    "METRICS_DICT = {\n",
    "    \"neg_root_mean_squared_error\": \"RMSE\",\n",
    "    \"neg_mean_absolute_error\": \"MAE\",\n",
    "    \"neg_mean_absolute_percentage_error\": \"MAPE\",\n",
    "    \"r2\": \"R2\",\n",
    "}"
   ]
  },
  {
   "cell_type": "markdown",
   "metadata": {
    "tags": []
   },
   "source": [
    "# Baseline Model"
   ]
  },
  {
   "cell_type": "markdown",
   "metadata": {},
   "source": [
    "# 1. Linear Regression"
   ]
  },
  {
   "cell_type": "markdown",
   "metadata": {
    "tags": []
   },
   "source": [
    "# Intercement"
   ]
  },
  {
   "cell_type": "code",
   "execution_count": 14,
   "metadata": {},
   "outputs": [
    {
     "data": {
      "application/javascript": [
       "\n",
       "            setTimeout(function() {\n",
       "                var nbb_cell_id = 14;\n",
       "                var nbb_unformatted_code = \"df = pd.read_csv(\\\"../../../data/processed/Intercement/cement-shipping.csv\\\")\";\n",
       "                var nbb_formatted_code = \"df = pd.read_csv(\\\"../../../data/processed/Intercement/cement-shipping.csv\\\")\";\n",
       "                var nbb_cells = Jupyter.notebook.get_cells();\n",
       "                for (var i = 0; i < nbb_cells.length; ++i) {\n",
       "                    if (nbb_cells[i].input_prompt_number == nbb_cell_id) {\n",
       "                        if (nbb_cells[i].get_text() == nbb_unformatted_code) {\n",
       "                             nbb_cells[i].set_text(nbb_formatted_code);\n",
       "                        }\n",
       "                        break;\n",
       "                    }\n",
       "                }\n",
       "            }, 500);\n",
       "            "
      ],
      "text/plain": [
       "<IPython.core.display.Javascript object>"
      ]
     },
     "metadata": {},
     "output_type": "display_data"
    }
   ],
   "source": [
    "df = pd.read_csv(\"../../../data/processed/Intercement/cement-shipping.csv\")"
   ]
  },
  {
   "cell_type": "markdown",
   "metadata": {},
   "source": [
    "<h2>1. Dataset: df_no_cs</h2> <br>In this dataset the CS1, CS3  and CS7 variables are not considered."
   ]
  },
  {
   "cell_type": "code",
   "execution_count": 15,
   "metadata": {},
   "outputs": [
    {
     "data": {
      "application/javascript": [
       "\n",
       "            setTimeout(function() {\n",
       "                var nbb_cell_id = 15;\n",
       "                var nbb_unformatted_code = \"df_no_cs = df.drop(\\n    [\\n        \\\"RC1\\\",\\n        \\\"RC3\\\",\\n        \\\"RC7\\\",\\n    ],\\n    axis=1,\\n).copy()\\n\\ny = df_no_cs.pop(\\\"RC28\\\").values\\nx = df_no_cs.drop([\\\"Data\\\"], axis=1)\";\n",
       "                var nbb_formatted_code = \"df_no_cs = df.drop(\\n    [\\n        \\\"RC1\\\",\\n        \\\"RC3\\\",\\n        \\\"RC7\\\",\\n    ],\\n    axis=1,\\n).copy()\\n\\ny = df_no_cs.pop(\\\"RC28\\\").values\\nx = df_no_cs.drop([\\\"Data\\\"], axis=1)\";\n",
       "                var nbb_cells = Jupyter.notebook.get_cells();\n",
       "                for (var i = 0; i < nbb_cells.length; ++i) {\n",
       "                    if (nbb_cells[i].input_prompt_number == nbb_cell_id) {\n",
       "                        if (nbb_cells[i].get_text() == nbb_unformatted_code) {\n",
       "                             nbb_cells[i].set_text(nbb_formatted_code);\n",
       "                        }\n",
       "                        break;\n",
       "                    }\n",
       "                }\n",
       "            }, 500);\n",
       "            "
      ],
      "text/plain": [
       "<IPython.core.display.Javascript object>"
      ]
     },
     "metadata": {},
     "output_type": "display_data"
    }
   ],
   "source": [
    "df_no_cs = df.drop(\n",
    "    [\n",
    "        \"RC1\",\n",
    "        \"RC3\",\n",
    "        \"RC7\",\n",
    "    ],\n",
    "    axis=1,\n",
    ").copy()\n",
    "\n",
    "y = df_no_cs.pop(\"RC28\").values\n",
    "x = df_no_cs.drop([\"Data\"], axis=1)"
   ]
  },
  {
   "cell_type": "markdown",
   "metadata": {},
   "source": [
    "## 1.1 Repeated KFold Cross validation\n",
    "\n",
    "<b>Dataset shape:</b> (1234, 38)<br>\n",
    "<b>Repeats:</b>10<br>\n",
    "<b>Splits:</b>10<br>\n",
    "    1. 10 folds of 123 samples each\n",
    "    2. 90% train (1111 samples each fold)\n",
    "    3. 10% test (123 samples each fold)\n",
    "<b>Total:</b> 100 models<br>"
   ]
  },
  {
   "cell_type": "code",
   "execution_count": 16,
   "metadata": {},
   "outputs": [
    {
     "name": "stdout",
     "output_type": "stream",
     "text": [
      "Repeated Cross Validation:\n",
      "Repeats: 10\n",
      "n_splits: 10\n",
      "\n",
      "******\n",
      "[TRAIN]\n",
      "******\n",
      "RMSE: 3.769 (0.037)\n",
      "MAE: 2.892 (0.021)\n",
      "MAPE: 0.063 (0.001)\n",
      "R2: 0.706 (0.006)\n",
      "\n",
      "======================\n",
      "\n",
      "******\n",
      "[TEST]\n",
      "******\n",
      "RMSE: 3.803 (0.326)\n",
      "MAE: 2.904 (0.087)\n",
      "MAPE: 0.063 (0.002)\n",
      "R2: 0.697 (0.055)\n",
      "\n",
      "======================\n",
      "\n"
     ]
    },
    {
     "data": {
      "application/javascript": [
       "\n",
       "            setTimeout(function() {\n",
       "                var nbb_cell_id = 16;\n",
       "                var nbb_unformatted_code = \"set_seeds()\\nrepeats = 10\\nn_splits = 10\\npipeline = Pipeline(\\n    [(\\\"transformer\\\", StandardScaler()), (\\\"estimator\\\", LinearRegression())]\\n)\\ncv = RepeatedKFold(n_splits=n_splits, n_repeats=repeats, random_state=SEED)\\nscores = cross_validate(\\n    pipeline,\\n    x,\\n    y,\\n    scoring=METRICS,\\n    cv=cv,\\n    n_jobs=-1,\\n    return_train_score=True,\\n)\\n# scores = np.abs(scores)\\nprint(\\\"Repeated Cross Validation:\\\")\\nprint(f\\\"Repeats: {repeats}\\\")\\nprint(f\\\"n_splits: {n_splits}\\\")\\nprint()\\nprint_scores(scores, METRICS, METRICS_DICT)\";\n",
       "                var nbb_formatted_code = \"set_seeds()\\nrepeats = 10\\nn_splits = 10\\npipeline = Pipeline(\\n    [(\\\"transformer\\\", StandardScaler()), (\\\"estimator\\\", LinearRegression())]\\n)\\ncv = RepeatedKFold(n_splits=n_splits, n_repeats=repeats, random_state=SEED)\\nscores = cross_validate(\\n    pipeline,\\n    x,\\n    y,\\n    scoring=METRICS,\\n    cv=cv,\\n    n_jobs=-1,\\n    return_train_score=True,\\n)\\n# scores = np.abs(scores)\\nprint(\\\"Repeated Cross Validation:\\\")\\nprint(f\\\"Repeats: {repeats}\\\")\\nprint(f\\\"n_splits: {n_splits}\\\")\\nprint()\\nprint_scores(scores, METRICS, METRICS_DICT)\";\n",
       "                var nbb_cells = Jupyter.notebook.get_cells();\n",
       "                for (var i = 0; i < nbb_cells.length; ++i) {\n",
       "                    if (nbb_cells[i].input_prompt_number == nbb_cell_id) {\n",
       "                        if (nbb_cells[i].get_text() == nbb_unformatted_code) {\n",
       "                             nbb_cells[i].set_text(nbb_formatted_code);\n",
       "                        }\n",
       "                        break;\n",
       "                    }\n",
       "                }\n",
       "            }, 500);\n",
       "            "
      ],
      "text/plain": [
       "<IPython.core.display.Javascript object>"
      ]
     },
     "metadata": {},
     "output_type": "display_data"
    }
   ],
   "source": [
    "set_seeds()\n",
    "repeats = 10\n",
    "n_splits = 10\n",
    "pipeline = Pipeline(\n",
    "    [(\"transformer\", StandardScaler()), (\"estimator\", LinearRegression())]\n",
    ")\n",
    "cv = RepeatedKFold(n_splits=n_splits, n_repeats=repeats, random_state=SEED)\n",
    "scores = cross_validate(\n",
    "    pipeline,\n",
    "    x,\n",
    "    y,\n",
    "    scoring=METRICS,\n",
    "    cv=cv,\n",
    "    n_jobs=-1,\n",
    "    return_train_score=True,\n",
    ")\n",
    "# scores = np.abs(scores)\n",
    "print(\"Repeated Cross Validation:\")\n",
    "print(f\"Repeats: {repeats}\")\n",
    "print(f\"n_splits: {n_splits}\")\n",
    "print()\n",
    "print_scores(scores, METRICS, METRICS_DICT)"
   ]
  },
  {
   "cell_type": "markdown",
   "metadata": {},
   "source": [
    "# partner_iii"
   ]
  },
  {
   "cell_type": "code",
   "execution_count": 17,
   "metadata": {},
   "outputs": [
    {
     "data": {
      "application/javascript": [
       "\n",
       "            setTimeout(function() {\n",
       "                var nbb_cell_id = 17;\n",
       "                var nbb_unformatted_code = \"df_partner_iii = pd.read_csv(\\n    \\\"../../../data/interim/partner_iii/Dati CADD 2020-2022_with_fillna.csv\\\"\\n)\";\n",
       "                var nbb_formatted_code = \"df_partner_iii = pd.read_csv(\\n    \\\"../../../data/interim/partner_iii/Dati CADD 2020-2022_with_fillna.csv\\\"\\n)\";\n",
       "                var nbb_cells = Jupyter.notebook.get_cells();\n",
       "                for (var i = 0; i < nbb_cells.length; ++i) {\n",
       "                    if (nbb_cells[i].input_prompt_number == nbb_cell_id) {\n",
       "                        if (nbb_cells[i].get_text() == nbb_unformatted_code) {\n",
       "                             nbb_cells[i].set_text(nbb_formatted_code);\n",
       "                        }\n",
       "                        break;\n",
       "                    }\n",
       "                }\n",
       "            }, 500);\n",
       "            "
      ],
      "text/plain": [
       "<IPython.core.display.Javascript object>"
      ]
     },
     "metadata": {},
     "output_type": "display_data"
    }
   ],
   "source": [
    "df_partner_iii = pd.read_csv(\n",
    "    \"../../../data/interim/partner_iii/Dati CADD 2020-2022_with_fillna.csv\"\n",
    ")"
   ]
  },
  {
   "cell_type": "code",
   "execution_count": 18,
   "metadata": {},
   "outputs": [
    {
     "data": {
      "application/javascript": [
       "\n",
       "            setTimeout(function() {\n",
       "                var nbb_cell_id = 18;\n",
       "                var nbb_unformatted_code = \"y = df_partner_iii.pop(\\\"28d compressive strength (MPa)\\\").values\\nx = df_partner_iii.values\";\n",
       "                var nbb_formatted_code = \"y = df_partner_iii.pop(\\\"28d compressive strength (MPa)\\\").values\\nx = df_partner_iii.values\";\n",
       "                var nbb_cells = Jupyter.notebook.get_cells();\n",
       "                for (var i = 0; i < nbb_cells.length; ++i) {\n",
       "                    if (nbb_cells[i].input_prompt_number == nbb_cell_id) {\n",
       "                        if (nbb_cells[i].get_text() == nbb_unformatted_code) {\n",
       "                             nbb_cells[i].set_text(nbb_formatted_code);\n",
       "                        }\n",
       "                        break;\n",
       "                    }\n",
       "                }\n",
       "            }, 500);\n",
       "            "
      ],
      "text/plain": [
       "<IPython.core.display.Javascript object>"
      ]
     },
     "metadata": {},
     "output_type": "display_data"
    }
   ],
   "source": [
    "y = df_partner_iii.pop(\"28d compressive strength (MPa)\").values\n",
    "x = df_partner_iii.values"
   ]
  },
  {
   "cell_type": "code",
   "execution_count": 19,
   "metadata": {},
   "outputs": [
    {
     "name": "stdout",
     "output_type": "stream",
     "text": [
      "Repeated Cross Validation:\n",
      "Repeats: 10\n",
      "n_splits: 10\n",
      "\n",
      "******\n",
      "[TRAIN]\n",
      "******\n",
      "RMSE: 5.137 (0.055)\n",
      "MAE: 3.990 (0.047)\n",
      "MAPE: 0.079 (0.001)\n",
      "R2: 0.463 (0.014)\n",
      "\n",
      "======================\n",
      "\n",
      "******\n",
      "[TEST]\n",
      "******\n",
      "RMSE: 5.165 (0.490)\n",
      "MAE: 4.030 (0.426)\n",
      "MAPE: 0.080 (0.009)\n",
      "R2: 0.417 (0.145)\n",
      "\n",
      "======================\n",
      "\n"
     ]
    },
    {
     "data": {
      "application/javascript": [
       "\n",
       "            setTimeout(function() {\n",
       "                var nbb_cell_id = 19;\n",
       "                var nbb_unformatted_code = \"set_seeds()\\nrepeats = 10\\nn_splits = 10\\npipeline = Pipeline(\\n    [(\\\"transformer\\\", StandardScaler()), (\\\"estimator\\\", LinearRegression())]\\n)\\ncv = RepeatedKFold(n_splits=n_splits, n_repeats=repeats, random_state=SEED)\\nscores = cross_validate(\\n    pipeline,\\n    x,\\n    y,\\n    scoring=METRICS,\\n    cv=cv,\\n    n_jobs=-1,\\n    return_train_score=True,\\n)\\n# scores = np.abs(scores)\\nprint(\\\"Repeated Cross Validation:\\\")\\nprint(f\\\"Repeats: {repeats}\\\")\\nprint(f\\\"n_splits: {n_splits}\\\")\\nprint()\\nprint_scores(scores, METRICS, METRICS_DICT)\";\n",
       "                var nbb_formatted_code = \"set_seeds()\\nrepeats = 10\\nn_splits = 10\\npipeline = Pipeline(\\n    [(\\\"transformer\\\", StandardScaler()), (\\\"estimator\\\", LinearRegression())]\\n)\\ncv = RepeatedKFold(n_splits=n_splits, n_repeats=repeats, random_state=SEED)\\nscores = cross_validate(\\n    pipeline,\\n    x,\\n    y,\\n    scoring=METRICS,\\n    cv=cv,\\n    n_jobs=-1,\\n    return_train_score=True,\\n)\\n# scores = np.abs(scores)\\nprint(\\\"Repeated Cross Validation:\\\")\\nprint(f\\\"Repeats: {repeats}\\\")\\nprint(f\\\"n_splits: {n_splits}\\\")\\nprint()\\nprint_scores(scores, METRICS, METRICS_DICT)\";\n",
       "                var nbb_cells = Jupyter.notebook.get_cells();\n",
       "                for (var i = 0; i < nbb_cells.length; ++i) {\n",
       "                    if (nbb_cells[i].input_prompt_number == nbb_cell_id) {\n",
       "                        if (nbb_cells[i].get_text() == nbb_unformatted_code) {\n",
       "                             nbb_cells[i].set_text(nbb_formatted_code);\n",
       "                        }\n",
       "                        break;\n",
       "                    }\n",
       "                }\n",
       "            }, 500);\n",
       "            "
      ],
      "text/plain": [
       "<IPython.core.display.Javascript object>"
      ]
     },
     "metadata": {},
     "output_type": "display_data"
    }
   ],
   "source": [
    "set_seeds()\n",
    "repeats = 10\n",
    "n_splits = 10\n",
    "pipeline = Pipeline(\n",
    "    [(\"transformer\", StandardScaler()), (\"estimator\", LinearRegression())]\n",
    ")\n",
    "cv = RepeatedKFold(n_splits=n_splits, n_repeats=repeats, random_state=SEED)\n",
    "scores = cross_validate(\n",
    "    pipeline,\n",
    "    x,\n",
    "    y,\n",
    "    scoring=METRICS,\n",
    "    cv=cv,\n",
    "    n_jobs=-1,\n",
    "    return_train_score=True,\n",
    ")\n",
    "# scores = np.abs(scores)\n",
    "print(\"Repeated Cross Validation:\")\n",
    "print(f\"Repeats: {repeats}\")\n",
    "print(f\"n_splits: {n_splits}\")\n",
    "print()\n",
    "print_scores(scores, METRICS, METRICS_DICT)"
   ]
  },
  {
   "cell_type": "markdown",
   "metadata": {},
   "source": [
    "# partner_ii"
   ]
  },
  {
   "cell_type": "code",
   "execution_count": 20,
   "metadata": {},
   "outputs": [
    {
     "data": {
      "application/javascript": [
       "\n",
       "            setTimeout(function() {\n",
       "                var nbb_cell_id = 20;\n",
       "                var nbb_unformatted_code = \"df = pd.read_csv(\\\"../../../data/processed/partner_ii/cement-shipping.csv\\\")\\ndf_no_cs = df.drop(\\n    [\\\"strength_1d\\\", \\\"strength_3d\\\", \\\"strength_7d\\\"],\\n    axis=1,\\n).copy()\\n\\ny = df_no_cs.pop(\\\"strength_28d\\\").values\\nx = df_no_cs.drop([\\\"sample_date\\\"], axis=1)\";\n",
       "                var nbb_formatted_code = \"df = pd.read_csv(\\\"../../../data/processed/partner_ii/cement-shipping.csv\\\")\\ndf_no_cs = df.drop(\\n    [\\\"strength_1d\\\", \\\"strength_3d\\\", \\\"strength_7d\\\"],\\n    axis=1,\\n).copy()\\n\\ny = df_no_cs.pop(\\\"strength_28d\\\").values\\nx = df_no_cs.drop([\\\"sample_date\\\"], axis=1)\";\n",
       "                var nbb_cells = Jupyter.notebook.get_cells();\n",
       "                for (var i = 0; i < nbb_cells.length; ++i) {\n",
       "                    if (nbb_cells[i].input_prompt_number == nbb_cell_id) {\n",
       "                        if (nbb_cells[i].get_text() == nbb_unformatted_code) {\n",
       "                             nbb_cells[i].set_text(nbb_formatted_code);\n",
       "                        }\n",
       "                        break;\n",
       "                    }\n",
       "                }\n",
       "            }, 500);\n",
       "            "
      ],
      "text/plain": [
       "<IPython.core.display.Javascript object>"
      ]
     },
     "metadata": {},
     "output_type": "display_data"
    }
   ],
   "source": [
    "df = pd.read_csv(\"../../../data/processed/partner_ii/cement-shipping.csv\")\n",
    "df_no_cs = df.drop(\n",
    "    [\"strength_1d\", \"strength_3d\", \"strength_7d\"],\n",
    "    axis=1,\n",
    ").copy()\n",
    "\n",
    "y = df_no_cs.pop(\"strength_28d\").values\n",
    "x = df_no_cs.drop([\"sample_date\"], axis=1)"
   ]
  },
  {
   "cell_type": "code",
   "execution_count": 21,
   "metadata": {},
   "outputs": [
    {
     "name": "stdout",
     "output_type": "stream",
     "text": [
      "Repeated Cross Validation:\n",
      "Repeats: 10\n",
      "n_splits: 10\n",
      "\n",
      "******\n",
      "[TRAIN]\n",
      "******\n",
      "RMSE: 2.195 (0.021)\n",
      "MAE: 1.749 (0.016)\n",
      "MAPE: 0.041 (0.000)\n",
      "R2: 0.614 (0.007)\n",
      "\n",
      "======================\n",
      "\n",
      "******\n",
      "[TEST]\n",
      "******\n",
      "RMSE: 2.263 (0.207)\n",
      "MAE: 1.787 (0.137)\n",
      "MAPE: 0.042 (0.003)\n",
      "R2: 0.580 (0.080)\n",
      "\n",
      "======================\n",
      "\n"
     ]
    },
    {
     "data": {
      "application/javascript": [
       "\n",
       "            setTimeout(function() {\n",
       "                var nbb_cell_id = 21;\n",
       "                var nbb_unformatted_code = \"set_seeds()\\nrepeats = 10\\nn_splits = 10\\npipeline = Pipeline(\\n    [(\\\"transformer\\\", StandardScaler()), (\\\"estimator\\\", LinearRegression())]\\n)\\ncv = RepeatedKFold(n_splits=n_splits, n_repeats=repeats, random_state=SEED)\\nscores = cross_validate(\\n    pipeline,\\n    x,\\n    y,\\n    scoring=METRICS,\\n    cv=cv,\\n    n_jobs=-1,\\n    return_train_score=True,\\n)\\n# scores = np.abs(scores)\\nprint(\\\"Repeated Cross Validation:\\\")\\nprint(f\\\"Repeats: {repeats}\\\")\\nprint(f\\\"n_splits: {n_splits}\\\")\\nprint()\\nprint_scores(scores, METRICS, METRICS_DICT)\";\n",
       "                var nbb_formatted_code = \"set_seeds()\\nrepeats = 10\\nn_splits = 10\\npipeline = Pipeline(\\n    [(\\\"transformer\\\", StandardScaler()), (\\\"estimator\\\", LinearRegression())]\\n)\\ncv = RepeatedKFold(n_splits=n_splits, n_repeats=repeats, random_state=SEED)\\nscores = cross_validate(\\n    pipeline,\\n    x,\\n    y,\\n    scoring=METRICS,\\n    cv=cv,\\n    n_jobs=-1,\\n    return_train_score=True,\\n)\\n# scores = np.abs(scores)\\nprint(\\\"Repeated Cross Validation:\\\")\\nprint(f\\\"Repeats: {repeats}\\\")\\nprint(f\\\"n_splits: {n_splits}\\\")\\nprint()\\nprint_scores(scores, METRICS, METRICS_DICT)\";\n",
       "                var nbb_cells = Jupyter.notebook.get_cells();\n",
       "                for (var i = 0; i < nbb_cells.length; ++i) {\n",
       "                    if (nbb_cells[i].input_prompt_number == nbb_cell_id) {\n",
       "                        if (nbb_cells[i].get_text() == nbb_unformatted_code) {\n",
       "                             nbb_cells[i].set_text(nbb_formatted_code);\n",
       "                        }\n",
       "                        break;\n",
       "                    }\n",
       "                }\n",
       "            }, 500);\n",
       "            "
      ],
      "text/plain": [
       "<IPython.core.display.Javascript object>"
      ]
     },
     "metadata": {},
     "output_type": "display_data"
    }
   ],
   "source": [
    "set_seeds()\n",
    "repeats = 10\n",
    "n_splits = 10\n",
    "pipeline = Pipeline(\n",
    "    [(\"transformer\", StandardScaler()), (\"estimator\", LinearRegression())]\n",
    ")\n",
    "cv = RepeatedKFold(n_splits=n_splits, n_repeats=repeats, random_state=SEED)\n",
    "scores = cross_validate(\n",
    "    pipeline,\n",
    "    x,\n",
    "    y,\n",
    "    scoring=METRICS,\n",
    "    cv=cv,\n",
    "    n_jobs=-1,\n",
    "    return_train_score=True,\n",
    ")\n",
    "# scores = np.abs(scores)\n",
    "print(\"Repeated Cross Validation:\")\n",
    "print(f\"Repeats: {repeats}\")\n",
    "print(f\"n_splits: {n_splits}\")\n",
    "print()\n",
    "print_scores(scores, METRICS, METRICS_DICT)"
   ]
  },
  {
   "cell_type": "markdown",
   "metadata": {},
   "source": [
    "# Transfer Learning - Conv2D\n"
   ]
  },
  {
   "cell_type": "markdown",
   "metadata": {},
   "source": [
    "## Pre Trainning"
   ]
  },
  {
   "cell_type": "code",
   "execution_count": 22,
   "metadata": {},
   "outputs": [
    {
     "data": {
      "application/javascript": [
       "\n",
       "            setTimeout(function() {\n",
       "                var nbb_cell_id = 22;\n",
       "                var nbb_unformatted_code = \"batch_size = 32\\nepochs = 200\\nverbose = 0\\nnrows = 10\";\n",
       "                var nbb_formatted_code = \"batch_size = 32\\nepochs = 200\\nverbose = 0\\nnrows = 10\";\n",
       "                var nbb_cells = Jupyter.notebook.get_cells();\n",
       "                for (var i = 0; i < nbb_cells.length; ++i) {\n",
       "                    if (nbb_cells[i].input_prompt_number == nbb_cell_id) {\n",
       "                        if (nbb_cells[i].get_text() == nbb_unformatted_code) {\n",
       "                             nbb_cells[i].set_text(nbb_formatted_code);\n",
       "                        }\n",
       "                        break;\n",
       "                    }\n",
       "                }\n",
       "            }, 500);\n",
       "            "
      ],
      "text/plain": [
       "<IPython.core.display.Javascript object>"
      ]
     },
     "metadata": {},
     "output_type": "display_data"
    }
   ],
   "source": [
    "batch_size = 32\n",
    "epochs = 200\n",
    "verbose = 0\n",
    "nrows = 10"
   ]
  },
  {
   "cell_type": "markdown",
   "metadata": {},
   "source": [
    "# Intercement"
   ]
  },
  {
   "cell_type": "code",
   "execution_count": 23,
   "metadata": {},
   "outputs": [
    {
     "data": {
      "application/javascript": [
       "\n",
       "            setTimeout(function() {\n",
       "                var nbb_cell_id = 23;\n",
       "                var nbb_unformatted_code = \"df = pd.read_csv(\\\"../../../data/processed/Intercement/cement-shipping.csv\\\")\\ndf_no_cs = df.drop(\\n    [\\n        \\\"RC1\\\",\\n        \\\"RC3\\\",\\n        \\\"RC7\\\",\\n    ],\\n    axis=1,\\n).copy()\\n\\ny = df_no_cs.pop(\\\"RC28\\\").values\\nx = df_no_cs.drop([\\\"Data\\\"], axis=1).values\\n\\nx, y = to_img_matrix(x, y, nrows)\\n\\nx_train, x_test, y_train, y_test = train_test_split(\\n    x, y, test_size=0.2, random_state=SEED, shuffle=False\\n)\";\n",
       "                var nbb_formatted_code = \"df = pd.read_csv(\\\"../../../data/processed/Intercement/cement-shipping.csv\\\")\\ndf_no_cs = df.drop(\\n    [\\n        \\\"RC1\\\",\\n        \\\"RC3\\\",\\n        \\\"RC7\\\",\\n    ],\\n    axis=1,\\n).copy()\\n\\ny = df_no_cs.pop(\\\"RC28\\\").values\\nx = df_no_cs.drop([\\\"Data\\\"], axis=1).values\\n\\nx, y = to_img_matrix(x, y, nrows)\\n\\nx_train, x_test, y_train, y_test = train_test_split(\\n    x, y, test_size=0.2, random_state=SEED, shuffle=False\\n)\";\n",
       "                var nbb_cells = Jupyter.notebook.get_cells();\n",
       "                for (var i = 0; i < nbb_cells.length; ++i) {\n",
       "                    if (nbb_cells[i].input_prompt_number == nbb_cell_id) {\n",
       "                        if (nbb_cells[i].get_text() == nbb_unformatted_code) {\n",
       "                             nbb_cells[i].set_text(nbb_formatted_code);\n",
       "                        }\n",
       "                        break;\n",
       "                    }\n",
       "                }\n",
       "            }, 500);\n",
       "            "
      ],
      "text/plain": [
       "<IPython.core.display.Javascript object>"
      ]
     },
     "metadata": {},
     "output_type": "display_data"
    }
   ],
   "source": [
    "df = pd.read_csv(\"../../../data/processed/Intercement/cement-shipping.csv\")\n",
    "df_no_cs = df.drop(\n",
    "    [\n",
    "        \"RC1\",\n",
    "        \"RC3\",\n",
    "        \"RC7\",\n",
    "    ],\n",
    "    axis=1,\n",
    ").copy()\n",
    "\n",
    "y = df_no_cs.pop(\"RC28\").values\n",
    "x = df_no_cs.drop([\"Data\"], axis=1).values\n",
    "\n",
    "x, y = to_img_matrix(x, y, nrows)\n",
    "\n",
    "x_train, x_test, y_train, y_test = train_test_split(\n",
    "    x, y, test_size=0.2, random_state=SEED, shuffle=False\n",
    ")"
   ]
  },
  {
   "cell_type": "code",
   "execution_count": 24,
   "metadata": {},
   "outputs": [
    {
     "data": {
      "application/javascript": [
       "\n",
       "            setTimeout(function() {\n",
       "                var nbb_cell_id = 24;\n",
       "                var nbb_unformatted_code = \"set_seeds()\\nmodel = get_model(x_train.shape[1:], include_top=True)\\nsc = StandardScaler3DShape()\\n\\nhistory = model.fit(\\n    sc.fit_transform(x_train),\\n    y_train,\\n    batch_size=batch_size,\\n    epochs=epochs,\\n    verbose=verbose,\\n)\";\n",
       "                var nbb_formatted_code = \"set_seeds()\\nmodel = get_model(x_train.shape[1:], include_top=True)\\nsc = StandardScaler3DShape()\\n\\nhistory = model.fit(\\n    sc.fit_transform(x_train),\\n    y_train,\\n    batch_size=batch_size,\\n    epochs=epochs,\\n    verbose=verbose,\\n)\";\n",
       "                var nbb_cells = Jupyter.notebook.get_cells();\n",
       "                for (var i = 0; i < nbb_cells.length; ++i) {\n",
       "                    if (nbb_cells[i].input_prompt_number == nbb_cell_id) {\n",
       "                        if (nbb_cells[i].get_text() == nbb_unformatted_code) {\n",
       "                             nbb_cells[i].set_text(nbb_formatted_code);\n",
       "                        }\n",
       "                        break;\n",
       "                    }\n",
       "                }\n",
       "            }, 500);\n",
       "            "
      ],
      "text/plain": [
       "<IPython.core.display.Javascript object>"
      ]
     },
     "metadata": {},
     "output_type": "display_data"
    }
   ],
   "source": [
    "set_seeds()\n",
    "model = get_model(x_train.shape[1:], include_top=True)\n",
    "sc = StandardScaler3DShape()\n",
    "\n",
    "history = model.fit(\n",
    "    sc.fit_transform(x_train),\n",
    "    y_train,\n",
    "    batch_size=batch_size,\n",
    "    epochs=epochs,\n",
    "    verbose=verbose,\n",
    ")"
   ]
  },
  {
   "cell_type": "code",
   "execution_count": 25,
   "metadata": {},
   "outputs": [
    {
     "data": {
      "text/plain": [
       "[<matplotlib.lines.Line2D at 0x7fdf944694a8>]"
      ]
     },
     "execution_count": 25,
     "metadata": {},
     "output_type": "execute_result"
    },
    {
     "data": {
      "image/png": "[encoded data removed]",
      "text/plain": [
       "<Figure size 432x288 with 1 Axes>"
      ]
     },
     "metadata": {
      "needs_background": "light"
     },
     "output_type": "display_data"
    },
    {
     "data": {
      "application/javascript": [
       "\n",
       "            setTimeout(function() {\n",
       "                var nbb_cell_id = 25;\n",
       "                var nbb_unformatted_code = \"plt.plot(history.history[\\\"RMSE\\\"])\";\n",
       "                var nbb_formatted_code = \"plt.plot(history.history[\\\"RMSE\\\"])\";\n",
       "                var nbb_cells = Jupyter.notebook.get_cells();\n",
       "                for (var i = 0; i < nbb_cells.length; ++i) {\n",
       "                    if (nbb_cells[i].input_prompt_number == nbb_cell_id) {\n",
       "                        if (nbb_cells[i].get_text() == nbb_unformatted_code) {\n",
       "                             nbb_cells[i].set_text(nbb_formatted_code);\n",
       "                        }\n",
       "                        break;\n",
       "                    }\n",
       "                }\n",
       "            }, 500);\n",
       "            "
      ],
      "text/plain": [
       "<IPython.core.display.Javascript object>"
      ]
     },
     "metadata": {},
     "output_type": "display_data"
    }
   ],
   "source": [
    "plt.plot(history.history[\"RMSE\"])"
   ]
  },
  {
   "cell_type": "code",
   "execution_count": 26,
   "metadata": {},
   "outputs": [
    {
     "name": "stdout",
     "output_type": "stream",
     "text": [
      "******\n",
      "[TRAIN]\n",
      "******\n",
      "RMSE: 3.651 (0.000)\n",
      "MAE: 2.841 (0.000)\n",
      "MAPE: 0.063 (0.000)\n",
      "R2: 0.663 (0.000)\n",
      "\n",
      "======================\n",
      "\n",
      "******\n",
      "[TEST]\n",
      "******\n",
      "RMSE: 5.527 (0.000)\n",
      "MAE: 4.731 (0.000)\n",
      "MAPE: 0.086 (0.000)\n",
      "R2: 0.299 (0.000)\n",
      "\n",
      "======================\n",
      "\n"
     ]
    },
    {
     "data": {
      "application/javascript": [
       "\n",
       "            setTimeout(function() {\n",
       "                var nbb_cell_id = 26;\n",
       "                var nbb_unformatted_code = \"y_train_pred = model.predict(sc.transform(x_train))\\ny_test_pred = model.predict(sc.transform(x_test))\\n\\nscores = score_regression_metrics(y_train, y_train_pred, y_test, y_test_pred)\\nprint_scores(scores, METRICS, METRICS_DICT)\";\n",
       "                var nbb_formatted_code = \"y_train_pred = model.predict(sc.transform(x_train))\\ny_test_pred = model.predict(sc.transform(x_test))\\n\\nscores = score_regression_metrics(y_train, y_train_pred, y_test, y_test_pred)\\nprint_scores(scores, METRICS, METRICS_DICT)\";\n",
       "                var nbb_cells = Jupyter.notebook.get_cells();\n",
       "                for (var i = 0; i < nbb_cells.length; ++i) {\n",
       "                    if (nbb_cells[i].input_prompt_number == nbb_cell_id) {\n",
       "                        if (nbb_cells[i].get_text() == nbb_unformatted_code) {\n",
       "                             nbb_cells[i].set_text(nbb_formatted_code);\n",
       "                        }\n",
       "                        break;\n",
       "                    }\n",
       "                }\n",
       "            }, 500);\n",
       "            "
      ],
      "text/plain": [
       "<IPython.core.display.Javascript object>"
      ]
     },
     "metadata": {},
     "output_type": "display_data"
    }
   ],
   "source": [
    "y_train_pred = model.predict(sc.transform(x_train))\n",
    "y_test_pred = model.predict(sc.transform(x_test))\n",
    "\n",
    "scores = score_regression_metrics(y_train, y_train_pred, y_test, y_test_pred)\n",
    "print_scores(scores, METRICS, METRICS_DICT)"
   ]
  },
  {
   "cell_type": "code",
   "execution_count": 27,
   "metadata": {},
   "outputs": [
    {
     "data": {
      "application/javascript": [
       "\n",
       "            setTimeout(function() {\n",
       "                var nbb_cell_id = 27;\n",
       "                var nbb_unformatted_code = \"model.save_weights(\\\"conv1d_weights.h5\\\")\";\n",
       "                var nbb_formatted_code = \"model.save_weights(\\\"conv1d_weights.h5\\\")\";\n",
       "                var nbb_cells = Jupyter.notebook.get_cells();\n",
       "                for (var i = 0; i < nbb_cells.length; ++i) {\n",
       "                    if (nbb_cells[i].input_prompt_number == nbb_cell_id) {\n",
       "                        if (nbb_cells[i].get_text() == nbb_unformatted_code) {\n",
       "                             nbb_cells[i].set_text(nbb_formatted_code);\n",
       "                        }\n",
       "                        break;\n",
       "                    }\n",
       "                }\n",
       "            }, 500);\n",
       "            "
      ],
      "text/plain": [
       "<IPython.core.display.Javascript object>"
      ]
     },
     "metadata": {},
     "output_type": "display_data"
    }
   ],
   "source": [
    "model.save_weights(\"conv1d_weights.h5\")"
   ]
  },
  {
   "cell_type": "markdown",
   "metadata": {},
   "source": [
    "# Pre Trainning"
   ]
  },
  {
   "cell_type": "markdown",
   "metadata": {},
   "source": [
    "# partner_i"
   ]
  },
  {
   "cell_type": "code",
   "execution_count": 28,
   "metadata": {},
   "outputs": [
    {
     "data": {
      "application/javascript": [
       "\n",
       "            setTimeout(function() {\n",
       "                var nbb_cell_id = 28;\n",
       "                var nbb_unformatted_code = \"batch_size = 32\\nepochs = 100\\nverbose = 0\\nnrows = 10\";\n",
       "                var nbb_formatted_code = \"batch_size = 32\\nepochs = 100\\nverbose = 0\\nnrows = 10\";\n",
       "                var nbb_cells = Jupyter.notebook.get_cells();\n",
       "                for (var i = 0; i < nbb_cells.length; ++i) {\n",
       "                    if (nbb_cells[i].input_prompt_number == nbb_cell_id) {\n",
       "                        if (nbb_cells[i].get_text() == nbb_unformatted_code) {\n",
       "                             nbb_cells[i].set_text(nbb_formatted_code);\n",
       "                        }\n",
       "                        break;\n",
       "                    }\n",
       "                }\n",
       "            }, 500);\n",
       "            "
      ],
      "text/plain": [
       "<IPython.core.display.Javascript object>"
      ]
     },
     "metadata": {},
     "output_type": "display_data"
    }
   ],
   "source": [
    "batch_size = 32\n",
    "epochs = 100\n",
    "verbose = 0\n",
    "nrows = 10"
   ]
  },
  {
   "cell_type": "code",
   "execution_count": 29,
   "metadata": {},
   "outputs": [
    {
     "data": {
      "application/javascript": [
       "\n",
       "            setTimeout(function() {\n",
       "                var nbb_cell_id = 29;\n",
       "                var nbb_unformatted_code = \"df_partner_i = pd.read_csv(\\\"../../../data/processed/partner_i-Oficial/cement-shipping.csv\\\")\";\n",
       "                var nbb_formatted_code = \"df_partner_i = pd.read_csv(\\n    \\\"../../../data/processed/partner_i-Oficial/cement-shipping.csv\\\"\\n)\";\n",
       "                var nbb_cells = Jupyter.notebook.get_cells();\n",
       "                for (var i = 0; i < nbb_cells.length; ++i) {\n",
       "                    if (nbb_cells[i].input_prompt_number == nbb_cell_id) {\n",
       "                        if (nbb_cells[i].get_text() == nbb_unformatted_code) {\n",
       "                             nbb_cells[i].set_text(nbb_formatted_code);\n",
       "                        }\n",
       "                        break;\n",
       "                    }\n",
       "                }\n",
       "            }, 500);\n",
       "            "
      ],
      "text/plain": [
       "<IPython.core.display.Javascript object>"
      ]
     },
     "metadata": {},
     "output_type": "display_data"
    }
   ],
   "source": [
    "df_partner_i = pd.read_csv(\n",
    "    \"../../../data/processed/partner_i-Oficial/cement-shipping.csv\"\n",
    ")"
   ]
  },
  {
   "cell_type": "code",
   "execution_count": 30,
   "metadata": {},
   "outputs": [
    {
     "data": {
      "application/javascript": [
       "\n",
       "            setTimeout(function() {\n",
       "                var nbb_cell_id = 30;\n",
       "                var nbb_unformatted_code = \"df_partner_i = df_partner_i.drop(\\n    [\\n        \\\"1 day Compressive strength\\\",\\n        \\\"3 day Compressive strength\\\",\\n        \\\"7 day Compressive strength\\\",\\n    ],\\n    axis=1,\\n).copy()\\n\\ny = df_partner_i.pop('28 day Compressive strength')\\nx = df_partner_i.drop(['Date'], axis=1)\\nx, y = to_img_matrix(x.values, y.values, nrows)\\n\\nx_train, x_test, y_train, y_test = train_test_split(\\n    x, y, test_size=0.2, random_state=SEED, shuffle=False\\n)\";\n",
       "                var nbb_formatted_code = \"df_partner_i = df_partner_i.drop(\\n    [\\n        \\\"1 day Compressive strength\\\",\\n        \\\"3 day Compressive strength\\\",\\n        \\\"7 day Compressive strength\\\",\\n    ],\\n    axis=1,\\n).copy()\\n\\ny = df_partner_i.pop(\\\"28 day Compressive strength\\\")\\nx = df_partner_i.drop([\\\"Date\\\"], axis=1)\\nx, y = to_img_matrix(x.values, y.values, nrows)\\n\\nx_train, x_test, y_train, y_test = train_test_split(\\n    x, y, test_size=0.2, random_state=SEED, shuffle=False\\n)\";\n",
       "                var nbb_cells = Jupyter.notebook.get_cells();\n",
       "                for (var i = 0; i < nbb_cells.length; ++i) {\n",
       "                    if (nbb_cells[i].input_prompt_number == nbb_cell_id) {\n",
       "                        if (nbb_cells[i].get_text() == nbb_unformatted_code) {\n",
       "                             nbb_cells[i].set_text(nbb_formatted_code);\n",
       "                        }\n",
       "                        break;\n",
       "                    }\n",
       "                }\n",
       "            }, 500);\n",
       "            "
      ],
      "text/plain": [
       "<IPython.core.display.Javascript object>"
      ]
     },
     "metadata": {},
     "output_type": "display_data"
    }
   ],
   "source": [
    "df_partner_i = df_partner_i.drop(\n",
    "    [\n",
    "        \"1 day Compressive strength\",\n",
    "        \"3 day Compressive strength\",\n",
    "        \"7 day Compressive strength\",\n",
    "    ],\n",
    "    axis=1,\n",
    ").copy()\n",
    "\n",
    "y = df_partner_i.pop(\"28 day Compressive strength\")\n",
    "x = df_partner_i.drop([\"Date\"], axis=1)\n",
    "x, y = to_img_matrix(x.values, y.values, nrows)\n",
    "\n",
    "x_train, x_test, y_train, y_test = train_test_split(\n",
    "    x, y, test_size=0.2, random_state=SEED, shuffle=False\n",
    ")"
   ]
  },
  {
   "cell_type": "code",
   "execution_count": 31,
   "metadata": {},
   "outputs": [
    {
     "data": {
      "application/javascript": [
       "\n",
       "            setTimeout(function() {\n",
       "                var nbb_cell_id = 31;\n",
       "                var nbb_unformatted_code = \"set_seeds()\\nmodel = get_model(shape=x_train.shape[1:])\\nsc = StandardScaler3DShape()\\n                  \\nhistory = model.fit(\\n    sc.fit_transform(x_train), y_train, batch_size=batch_size, epochs=epochs, verbose=verbose\\n)\";\n",
       "                var nbb_formatted_code = \"set_seeds()\\nmodel = get_model(shape=x_train.shape[1:])\\nsc = StandardScaler3DShape()\\n\\nhistory = model.fit(\\n    sc.fit_transform(x_train),\\n    y_train,\\n    batch_size=batch_size,\\n    epochs=epochs,\\n    verbose=verbose,\\n)\";\n",
       "                var nbb_cells = Jupyter.notebook.get_cells();\n",
       "                for (var i = 0; i < nbb_cells.length; ++i) {\n",
       "                    if (nbb_cells[i].input_prompt_number == nbb_cell_id) {\n",
       "                        if (nbb_cells[i].get_text() == nbb_unformatted_code) {\n",
       "                             nbb_cells[i].set_text(nbb_formatted_code);\n",
       "                        }\n",
       "                        break;\n",
       "                    }\n",
       "                }\n",
       "            }, 500);\n",
       "            "
      ],
      "text/plain": [
       "<IPython.core.display.Javascript object>"
      ]
     },
     "metadata": {},
     "output_type": "display_data"
    }
   ],
   "source": [
    "set_seeds()\n",
    "model = get_model(shape=x_train.shape[1:])\n",
    "sc = StandardScaler3DShape()\n",
    "\n",
    "history = model.fit(\n",
    "    sc.fit_transform(x_train),\n",
    "    y_train,\n",
    "    batch_size=batch_size,\n",
    "    epochs=epochs,\n",
    "    verbose=verbose,\n",
    ")"
   ]
  },
  {
   "cell_type": "code",
   "execution_count": 32,
   "metadata": {},
   "outputs": [
    {
     "data": {
      "text/plain": [
       "[<matplotlib.lines.Line2D at 0x7fdf94203898>]"
      ]
     },
     "execution_count": 32,
     "metadata": {},
     "output_type": "execute_result"
    },
    {
     "data": {
      "image/png": "[encoded data removed]",
      "text/plain": [
       "<Figure size 432x288 with 1 Axes>"
      ]
     },
     "metadata": {
      "needs_background": "light"
     },
     "output_type": "display_data"
    },
    {
     "data": {
      "application/javascript": [
       "\n",
       "            setTimeout(function() {\n",
       "                var nbb_cell_id = 32;\n",
       "                var nbb_unformatted_code = \"plt.plot(history.history[\\\"RMSE\\\"])\";\n",
       "                var nbb_formatted_code = \"plt.plot(history.history[\\\"RMSE\\\"])\";\n",
       "                var nbb_cells = Jupyter.notebook.get_cells();\n",
       "                for (var i = 0; i < nbb_cells.length; ++i) {\n",
       "                    if (nbb_cells[i].input_prompt_number == nbb_cell_id) {\n",
       "                        if (nbb_cells[i].get_text() == nbb_unformatted_code) {\n",
       "                             nbb_cells[i].set_text(nbb_formatted_code);\n",
       "                        }\n",
       "                        break;\n",
       "                    }\n",
       "                }\n",
       "            }, 500);\n",
       "            "
      ],
      "text/plain": [
       "<IPython.core.display.Javascript object>"
      ]
     },
     "metadata": {},
     "output_type": "display_data"
    }
   ],
   "source": [
    "plt.plot(history.history[\"RMSE\"])"
   ]
  },
  {
   "cell_type": "code",
   "execution_count": 33,
   "metadata": {},
   "outputs": [
    {
     "name": "stdout",
     "output_type": "stream",
     "text": [
      "******\n",
      "[TRAIN]\n",
      "******\n",
      "RMSE: 4.053 (0.000)\n",
      "MAE: 3.082 (0.000)\n",
      "MAPE: 0.076 (0.000)\n",
      "R2: 0.375 (0.000)\n",
      "\n",
      "======================\n",
      "\n",
      "******\n",
      "[TEST]\n",
      "******\n",
      "RMSE: 5.861 (0.000)\n",
      "MAE: 5.239 (0.000)\n",
      "MAPE: 0.127 (0.000)\n",
      "R2: 0.160 (0.000)\n",
      "\n",
      "======================\n",
      "\n"
     ]
    },
    {
     "data": {
      "application/javascript": [
       "\n",
       "            setTimeout(function() {\n",
       "                var nbb_cell_id = 33;\n",
       "                var nbb_unformatted_code = \"y_train_pred = model.predict(sc.transform(x_train))\\ny_test_pred = model.predict(sc.transform(x_test))\\nscores = score_regression_metrics(y_train, y_train_pred, y_test, y_test_pred)\\nprint_scores(scores, METRICS, METRICS_DICT)\";\n",
       "                var nbb_formatted_code = \"y_train_pred = model.predict(sc.transform(x_train))\\ny_test_pred = model.predict(sc.transform(x_test))\\nscores = score_regression_metrics(y_train, y_train_pred, y_test, y_test_pred)\\nprint_scores(scores, METRICS, METRICS_DICT)\";\n",
       "                var nbb_cells = Jupyter.notebook.get_cells();\n",
       "                for (var i = 0; i < nbb_cells.length; ++i) {\n",
       "                    if (nbb_cells[i].input_prompt_number == nbb_cell_id) {\n",
       "                        if (nbb_cells[i].get_text() == nbb_unformatted_code) {\n",
       "                             nbb_cells[i].set_text(nbb_formatted_code);\n",
       "                        }\n",
       "                        break;\n",
       "                    }\n",
       "                }\n",
       "            }, 500);\n",
       "            "
      ],
      "text/plain": [
       "<IPython.core.display.Javascript object>"
      ]
     },
     "metadata": {},
     "output_type": "display_data"
    }
   ],
   "source": [
    "y_train_pred = model.predict(sc.transform(x_train))\n",
    "y_test_pred = model.predict(sc.transform(x_test))\n",
    "scores = score_regression_metrics(y_train, y_train_pred, y_test, y_test_pred)\n",
    "print_scores(scores, METRICS, METRICS_DICT)"
   ]
  },
  {
   "cell_type": "code",
   "execution_count": 34,
   "metadata": {},
   "outputs": [
    {
     "data": {
      "application/javascript": [
       "\n",
       "            setTimeout(function() {\n",
       "                var nbb_cell_id = 34;\n",
       "                var nbb_unformatted_code = \"model.save_weights(\\\"conv1d_weights.h5\\\")\";\n",
       "                var nbb_formatted_code = \"model.save_weights(\\\"conv1d_weights.h5\\\")\";\n",
       "                var nbb_cells = Jupyter.notebook.get_cells();\n",
       "                for (var i = 0; i < nbb_cells.length; ++i) {\n",
       "                    if (nbb_cells[i].input_prompt_number == nbb_cell_id) {\n",
       "                        if (nbb_cells[i].get_text() == nbb_unformatted_code) {\n",
       "                             nbb_cells[i].set_text(nbb_formatted_code);\n",
       "                        }\n",
       "                        break;\n",
       "                    }\n",
       "                }\n",
       "            }, 500);\n",
       "            "
      ],
      "text/plain": [
       "<IPython.core.display.Javascript object>"
      ]
     },
     "metadata": {},
     "output_type": "display_data"
    }
   ],
   "source": [
    "model.save_weights(\"conv1d_weights.h5\")"
   ]
  },
  {
   "cell_type": "markdown",
   "metadata": {},
   "source": [
    "# Fine Tuning"
   ]
  },
  {
   "cell_type": "markdown",
   "metadata": {},
   "source": [
    "# Intercement"
   ]
  },
  {
   "cell_type": "code",
   "execution_count": 35,
   "metadata": {},
   "outputs": [
    {
     "data": {
      "application/javascript": [
       "\n",
       "            setTimeout(function() {\n",
       "                var nbb_cell_id = 35;\n",
       "                var nbb_unformatted_code = \"df = pd.read_csv(\\\"../../../data/processed/Intercement/cement-shipping.csv\\\")\\ndf_no_cs = df.drop(\\n    [\\n        \\\"RC1\\\",\\n        \\\"RC3\\\",\\n        \\\"RC7\\\",\\n    ],\\n    axis=1,\\n).copy()\\n\\ny = df_no_cs.pop(\\\"RC28\\\")\\nx = df_no_cs.drop([\\\"Data\\\"], axis=1)\\nx, y = to_img_matrix(x.values, y.values, nrows)\\n\\nx_train, x_test, y_train, y_test = train_test_split(\\n    x, y, test_size=0.2, random_state=SEED, shuffle=False\\n)\";\n",
       "                var nbb_formatted_code = \"df = pd.read_csv(\\\"../../../data/processed/Intercement/cement-shipping.csv\\\")\\ndf_no_cs = df.drop(\\n    [\\n        \\\"RC1\\\",\\n        \\\"RC3\\\",\\n        \\\"RC7\\\",\\n    ],\\n    axis=1,\\n).copy()\\n\\ny = df_no_cs.pop(\\\"RC28\\\")\\nx = df_no_cs.drop([\\\"Data\\\"], axis=1)\\nx, y = to_img_matrix(x.values, y.values, nrows)\\n\\nx_train, x_test, y_train, y_test = train_test_split(\\n    x, y, test_size=0.2, random_state=SEED, shuffle=False\\n)\";\n",
       "                var nbb_cells = Jupyter.notebook.get_cells();\n",
       "                for (var i = 0; i < nbb_cells.length; ++i) {\n",
       "                    if (nbb_cells[i].input_prompt_number == nbb_cell_id) {\n",
       "                        if (nbb_cells[i].get_text() == nbb_unformatted_code) {\n",
       "                             nbb_cells[i].set_text(nbb_formatted_code);\n",
       "                        }\n",
       "                        break;\n",
       "                    }\n",
       "                }\n",
       "            }, 500);\n",
       "            "
      ],
      "text/plain": [
       "<IPython.core.display.Javascript object>"
      ]
     },
     "metadata": {},
     "output_type": "display_data"
    }
   ],
   "source": [
    "df = pd.read_csv(\"../../../data/processed/Intercement/cement-shipping.csv\")\n",
    "df_no_cs = df.drop(\n",
    "    [\n",
    "        \"RC1\",\n",
    "        \"RC3\",\n",
    "        \"RC7\",\n",
    "    ],\n",
    "    axis=1,\n",
    ").copy()\n",
    "\n",
    "y = df_no_cs.pop(\"RC28\")\n",
    "x = df_no_cs.drop([\"Data\"], axis=1)\n",
    "x, y = to_img_matrix(x.values, y.values, nrows)\n",
    "\n",
    "x_train, x_test, y_train, y_test = train_test_split(\n",
    "    x, y, test_size=0.2, random_state=SEED, shuffle=False\n",
    ")"
   ]
  },
  {
   "cell_type": "code",
   "execution_count": 36,
   "metadata": {},
   "outputs": [
    {
     "data": {
      "application/javascript": [
       "\n",
       "            setTimeout(function() {\n",
       "                var nbb_cell_id = 36;\n",
       "                var nbb_unformatted_code = \"set_seeds()\\n\\nmodel_2 = get_model(include_top=False, shape=x.shape[1:])\\nmodel_2.load_weights(\\\"conv1d_weights.h5\\\", by_name=True)\\nmodel_2.trainable = True\\n\\nflat1 = tf.keras.layers.Flatten()(model_2.layers[-1].output)\\nclass1 = tf.keras.layers.Dense(256, activation='relu')(flat1)\\noutputs = tf.keras.layers.Dense(1, activation='linear')(class1)\\nmodel = tf.keras.Model(model_2.inputs, outputs)\\n\\nmodel.compile(\\n    optimizer=tf.keras.optimizers.Adam(learning_rate=1e-3),\\n    loss=\\\"mse\\\",\\n    metrics=[tf.keras.metrics.RootMeanSquaredError(name=\\\"RMSE\\\")],\\n)\";\n",
       "                var nbb_formatted_code = \"set_seeds()\\n\\nmodel_2 = get_model(include_top=False, shape=x.shape[1:])\\nmodel_2.load_weights(\\\"conv1d_weights.h5\\\", by_name=True)\\nmodel_2.trainable = True\\n\\nflat1 = tf.keras.layers.Flatten()(model_2.layers[-1].output)\\nclass1 = tf.keras.layers.Dense(256, activation=\\\"relu\\\")(flat1)\\noutputs = tf.keras.layers.Dense(1, activation=\\\"linear\\\")(class1)\\nmodel = tf.keras.Model(model_2.inputs, outputs)\\n\\nmodel.compile(\\n    optimizer=tf.keras.optimizers.Adam(learning_rate=1e-3),\\n    loss=\\\"mse\\\",\\n    metrics=[tf.keras.metrics.RootMeanSquaredError(name=\\\"RMSE\\\")],\\n)\";\n",
       "                var nbb_cells = Jupyter.notebook.get_cells();\n",
       "                for (var i = 0; i < nbb_cells.length; ++i) {\n",
       "                    if (nbb_cells[i].input_prompt_number == nbb_cell_id) {\n",
       "                        if (nbb_cells[i].get_text() == nbb_unformatted_code) {\n",
       "                             nbb_cells[i].set_text(nbb_formatted_code);\n",
       "                        }\n",
       "                        break;\n",
       "                    }\n",
       "                }\n",
       "            }, 500);\n",
       "            "
      ],
      "text/plain": [
       "<IPython.core.display.Javascript object>"
      ]
     },
     "metadata": {},
     "output_type": "display_data"
    }
   ],
   "source": [
    "set_seeds()\n",
    "\n",
    "model_2 = get_model(include_top=False, shape=x.shape[1:])\n",
    "model_2.load_weights(\"conv1d_weights.h5\", by_name=True)\n",
    "model_2.trainable = True\n",
    "\n",
    "flat1 = tf.keras.layers.Flatten()(model_2.layers[-1].output)\n",
    "class1 = tf.keras.layers.Dense(256, activation=\"relu\")(flat1)\n",
    "outputs = tf.keras.layers.Dense(1, activation=\"linear\")(class1)\n",
    "model = tf.keras.Model(model_2.inputs, outputs)\n",
    "\n",
    "model.compile(\n",
    "    optimizer=tf.keras.optimizers.Adam(learning_rate=1e-3),\n",
    "    loss=\"mse\",\n",
    "    metrics=[tf.keras.metrics.RootMeanSquaredError(name=\"RMSE\")],\n",
    ")"
   ]
  },
  {
   "cell_type": "code",
   "execution_count": 37,
   "metadata": {},
   "outputs": [
    {
     "data": {
      "application/javascript": [
       "\n",
       "            setTimeout(function() {\n",
       "                var nbb_cell_id = 37;\n",
       "                var nbb_unformatted_code = \"sc = StandardScaler3DShape()\\n\\nhistory = model.fit(\\n    sc.fit_transform(x_train), y_train, batch_size=batch_size, epochs=epochs, verbose=verbose\\n)\";\n",
       "                var nbb_formatted_code = \"sc = StandardScaler3DShape()\\n\\nhistory = model.fit(\\n    sc.fit_transform(x_train),\\n    y_train,\\n    batch_size=batch_size,\\n    epochs=epochs,\\n    verbose=verbose,\\n)\";\n",
       "                var nbb_cells = Jupyter.notebook.get_cells();\n",
       "                for (var i = 0; i < nbb_cells.length; ++i) {\n",
       "                    if (nbb_cells[i].input_prompt_number == nbb_cell_id) {\n",
       "                        if (nbb_cells[i].get_text() == nbb_unformatted_code) {\n",
       "                             nbb_cells[i].set_text(nbb_formatted_code);\n",
       "                        }\n",
       "                        break;\n",
       "                    }\n",
       "                }\n",
       "            }, 500);\n",
       "            "
      ],
      "text/plain": [
       "<IPython.core.display.Javascript object>"
      ]
     },
     "metadata": {},
     "output_type": "display_data"
    }
   ],
   "source": [
    "sc = StandardScaler3DShape()\n",
    "\n",
    "history = model.fit(\n",
    "    sc.fit_transform(x_train),\n",
    "    y_train,\n",
    "    batch_size=batch_size,\n",
    "    epochs=epochs,\n",
    "    verbose=verbose,\n",
    ")"
   ]
  },
  {
   "cell_type": "code",
   "execution_count": 38,
   "metadata": {},
   "outputs": [
    {
     "data": {
      "text/plain": [
       "[<matplotlib.lines.Line2D at 0x7fdf647d9d30>]"
      ]
     },
     "execution_count": 38,
     "metadata": {},
     "output_type": "execute_result"
    },
    {
     "data": {
      "image/png": "[encoded data removed]",
      "text/plain": [
       "<Figure size 432x288 with 1 Axes>"
      ]
     },
     "metadata": {
      "needs_background": "light"
     },
     "output_type": "display_data"
    },
    {
     "data": {
      "application/javascript": [
       "\n",
       "            setTimeout(function() {\n",
       "                var nbb_cell_id = 38;\n",
       "                var nbb_unformatted_code = \"plt.plot(history.history[\\\"RMSE\\\"])\";\n",
       "                var nbb_formatted_code = \"plt.plot(history.history[\\\"RMSE\\\"])\";\n",
       "                var nbb_cells = Jupyter.notebook.get_cells();\n",
       "                for (var i = 0; i < nbb_cells.length; ++i) {\n",
       "                    if (nbb_cells[i].input_prompt_number == nbb_cell_id) {\n",
       "                        if (nbb_cells[i].get_text() == nbb_unformatted_code) {\n",
       "                             nbb_cells[i].set_text(nbb_formatted_code);\n",
       "                        }\n",
       "                        break;\n",
       "                    }\n",
       "                }\n",
       "            }, 500);\n",
       "            "
      ],
      "text/plain": [
       "<IPython.core.display.Javascript object>"
      ]
     },
     "metadata": {},
     "output_type": "display_data"
    }
   ],
   "source": [
    "plt.plot(history.history[\"RMSE\"])"
   ]
  },
  {
   "cell_type": "code",
   "execution_count": 39,
   "metadata": {},
   "outputs": [
    {
     "name": "stdout",
     "output_type": "stream",
     "text": [
      "******\n",
      "[TRAIN]\n",
      "******\n",
      "RMSE: 5.292 (0.000)\n",
      "MAE: 4.487 (0.000)\n",
      "MAPE: 0.097 (0.000)\n",
      "R2: 0.292 (0.000)\n",
      "\n",
      "======================\n",
      "\n",
      "******\n",
      "[TEST]\n",
      "******\n",
      "RMSE: 8.165 (0.000)\n",
      "MAE: 7.360 (0.000)\n",
      "MAPE: 0.132 (0.000)\n",
      "R2: 1.835 (0.000)\n",
      "\n",
      "======================\n",
      "\n"
     ]
    },
    {
     "data": {
      "application/javascript": [
       "\n",
       "            setTimeout(function() {\n",
       "                var nbb_cell_id = 39;\n",
       "                var nbb_unformatted_code = \"y_train_pred = model.predict(sc.transform(x_train))\\ny_test_pred = model.predict(sc.transform(x_test))\\n\\nscores = score_regression_metrics(y_train, y_train_pred, y_test, y_test_pred)\\nprint_scores(scores, METRICS, METRICS_DICT)\";\n",
       "                var nbb_formatted_code = \"y_train_pred = model.predict(sc.transform(x_train))\\ny_test_pred = model.predict(sc.transform(x_test))\\n\\nscores = score_regression_metrics(y_train, y_train_pred, y_test, y_test_pred)\\nprint_scores(scores, METRICS, METRICS_DICT)\";\n",
       "                var nbb_cells = Jupyter.notebook.get_cells();\n",
       "                for (var i = 0; i < nbb_cells.length; ++i) {\n",
       "                    if (nbb_cells[i].input_prompt_number == nbb_cell_id) {\n",
       "                        if (nbb_cells[i].get_text() == nbb_unformatted_code) {\n",
       "                             nbb_cells[i].set_text(nbb_formatted_code);\n",
       "                        }\n",
       "                        break;\n",
       "                    }\n",
       "                }\n",
       "            }, 500);\n",
       "            "
      ],
      "text/plain": [
       "<IPython.core.display.Javascript object>"
      ]
     },
     "metadata": {},
     "output_type": "display_data"
    }
   ],
   "source": [
    "y_train_pred = model.predict(sc.transform(x_train))\n",
    "y_test_pred = model.predict(sc.transform(x_test))\n",
    "\n",
    "scores = score_regression_metrics(y_train, y_train_pred, y_test, y_test_pred)\n",
    "print_scores(scores, METRICS, METRICS_DICT)"
   ]
  },
  {
   "cell_type": "markdown",
   "metadata": {},
   "source": [
    "# Pre Trainning"
   ]
  },
  {
   "cell_type": "markdown",
   "metadata": {},
   "source": [
    "# partner_ii"
   ]
  },
  {
   "cell_type": "code",
   "execution_count": 40,
   "metadata": {},
   "outputs": [
    {
     "data": {
      "application/javascript": [
       "\n",
       "            setTimeout(function() {\n",
       "                var nbb_cell_id = 40;\n",
       "                var nbb_unformatted_code = \"batch_size = 32\\nepochs = 100\\nverbose = 0\\nnrows = 10\";\n",
       "                var nbb_formatted_code = \"batch_size = 32\\nepochs = 100\\nverbose = 0\\nnrows = 10\";\n",
       "                var nbb_cells = Jupyter.notebook.get_cells();\n",
       "                for (var i = 0; i < nbb_cells.length; ++i) {\n",
       "                    if (nbb_cells[i].input_prompt_number == nbb_cell_id) {\n",
       "                        if (nbb_cells[i].get_text() == nbb_unformatted_code) {\n",
       "                             nbb_cells[i].set_text(nbb_formatted_code);\n",
       "                        }\n",
       "                        break;\n",
       "                    }\n",
       "                }\n",
       "            }, 500);\n",
       "            "
      ],
      "text/plain": [
       "<IPython.core.display.Javascript object>"
      ]
     },
     "metadata": {},
     "output_type": "display_data"
    }
   ],
   "source": [
    "batch_size = 32\n",
    "epochs = 100\n",
    "verbose = 0\n",
    "nrows = 10"
   ]
  },
  {
   "cell_type": "code",
   "execution_count": 41,
   "metadata": {},
   "outputs": [
    {
     "data": {
      "application/javascript": [
       "\n",
       "            setTimeout(function() {\n",
       "                var nbb_cell_id = 41;\n",
       "                var nbb_unformatted_code = \"df_partner_ii = pd.read_csv(\\\"../../../data/processed/partner_ii/cement-shipping.csv\\\")\";\n",
       "                var nbb_formatted_code = \"df_partner_ii = pd.read_csv(\\\"../../../data/processed/partner_ii/cement-shipping.csv\\\")\";\n",
       "                var nbb_cells = Jupyter.notebook.get_cells();\n",
       "                for (var i = 0; i < nbb_cells.length; ++i) {\n",
       "                    if (nbb_cells[i].input_prompt_number == nbb_cell_id) {\n",
       "                        if (nbb_cells[i].get_text() == nbb_unformatted_code) {\n",
       "                             nbb_cells[i].set_text(nbb_formatted_code);\n",
       "                        }\n",
       "                        break;\n",
       "                    }\n",
       "                }\n",
       "            }, 500);\n",
       "            "
      ],
      "text/plain": [
       "<IPython.core.display.Javascript object>"
      ]
     },
     "metadata": {},
     "output_type": "display_data"
    }
   ],
   "source": [
    "df_partner_ii = pd.read_csv(\"../../../data/processed/partner_ii/cement-shipping.csv\")"
   ]
  },
  {
   "cell_type": "code",
   "execution_count": 42,
   "metadata": {},
   "outputs": [
    {
     "data": {
      "application/javascript": [
       "\n",
       "            setTimeout(function() {\n",
       "                var nbb_cell_id = 42;\n",
       "                var nbb_unformatted_code = \"df_no_cs = df_partner_ii.drop(\\n    [\\n        \\\"strength_1d\\\",\\n        \\\"strength_3d\\\",\\n        \\\"strength_7d\\\"\\n    ],\\n    axis=1,\\n).copy()\\ny = df_no_cs.pop(\\\"strength_28d\\\")\\nx = df_no_cs.drop([\\\"sample_date\\\"], axis=1)\\n\\nx, y = to_img_matrix(x.values, y.values, nrows)\\n\\nx_train, x_test, y_train, y_test = train_test_split(\\n    x, y, test_size=0.2, random_state=SEED, shuffle=False\\n)\";\n",
       "                var nbb_formatted_code = \"df_no_cs = df_partner_ii.drop(\\n    [\\\"strength_1d\\\", \\\"strength_3d\\\", \\\"strength_7d\\\"],\\n    axis=1,\\n).copy()\\ny = df_no_cs.pop(\\\"strength_28d\\\")\\nx = df_no_cs.drop([\\\"sample_date\\\"], axis=1)\\n\\nx, y = to_img_matrix(x.values, y.values, nrows)\\n\\nx_train, x_test, y_train, y_test = train_test_split(\\n    x, y, test_size=0.2, random_state=SEED, shuffle=False\\n)\";\n",
       "                var nbb_cells = Jupyter.notebook.get_cells();\n",
       "                for (var i = 0; i < nbb_cells.length; ++i) {\n",
       "                    if (nbb_cells[i].input_prompt_number == nbb_cell_id) {\n",
       "                        if (nbb_cells[i].get_text() == nbb_unformatted_code) {\n",
       "                             nbb_cells[i].set_text(nbb_formatted_code);\n",
       "                        }\n",
       "                        break;\n",
       "                    }\n",
       "                }\n",
       "            }, 500);\n",
       "            "
      ],
      "text/plain": [
       "<IPython.core.display.Javascript object>"
      ]
     },
     "metadata": {},
     "output_type": "display_data"
    }
   ],
   "source": [
    "df_no_cs = df_partner_ii.drop(\n",
    "    [\"strength_1d\", \"strength_3d\", \"strength_7d\"],\n",
    "    axis=1,\n",
    ").copy()\n",
    "y = df_no_cs.pop(\"strength_28d\")\n",
    "x = df_no_cs.drop([\"sample_date\"], axis=1)\n",
    "\n",
    "x, y = to_img_matrix(x.values, y.values, nrows)\n",
    "\n",
    "x_train, x_test, y_train, y_test = train_test_split(\n",
    "    x, y, test_size=0.2, random_state=SEED, shuffle=False\n",
    ")"
   ]
  },
  {
   "cell_type": "code",
   "execution_count": 43,
   "metadata": {},
   "outputs": [
    {
     "data": {
      "application/javascript": [
       "\n",
       "            setTimeout(function() {\n",
       "                var nbb_cell_id = 43;\n",
       "                var nbb_unformatted_code = \"set_seeds()\\nmodel = get_model(shape=(x_train.shape[1:]))\\nsc = StandardScaler3DShape()\\n                  \\nhistory = model.fit(\\n    sc.fit_transform(x_train), y_train, batch_size=batch_size, epochs=epochs, verbose=verbose\\n)\";\n",
       "                var nbb_formatted_code = \"set_seeds()\\nmodel = get_model(shape=(x_train.shape[1:]))\\nsc = StandardScaler3DShape()\\n\\nhistory = model.fit(\\n    sc.fit_transform(x_train),\\n    y_train,\\n    batch_size=batch_size,\\n    epochs=epochs,\\n    verbose=verbose,\\n)\";\n",
       "                var nbb_cells = Jupyter.notebook.get_cells();\n",
       "                for (var i = 0; i < nbb_cells.length; ++i) {\n",
       "                    if (nbb_cells[i].input_prompt_number == nbb_cell_id) {\n",
       "                        if (nbb_cells[i].get_text() == nbb_unformatted_code) {\n",
       "                             nbb_cells[i].set_text(nbb_formatted_code);\n",
       "                        }\n",
       "                        break;\n",
       "                    }\n",
       "                }\n",
       "            }, 500);\n",
       "            "
      ],
      "text/plain": [
       "<IPython.core.display.Javascript object>"
      ]
     },
     "metadata": {},
     "output_type": "display_data"
    }
   ],
   "source": [
    "set_seeds()\n",
    "model = get_model(shape=(x_train.shape[1:]))\n",
    "sc = StandardScaler3DShape()\n",
    "\n",
    "history = model.fit(\n",
    "    sc.fit_transform(x_train),\n",
    "    y_train,\n",
    "    batch_size=batch_size,\n",
    "    epochs=epochs,\n",
    "    verbose=verbose,\n",
    ")"
   ]
  },
  {
   "cell_type": "code",
   "execution_count": 44,
   "metadata": {},
   "outputs": [
    {
     "data": {
      "text/plain": [
       "[<matplotlib.lines.Line2D at 0x7fdf645d8f98>]"
      ]
     },
     "execution_count": 44,
     "metadata": {},
     "output_type": "execute_result"
    },
    {
     "data": {
      "image/png": "[encoded data removed]",
      "text/plain": [
       "<Figure size 432x288 with 1 Axes>"
      ]
     },
     "metadata": {
      "needs_background": "light"
     },
     "output_type": "display_data"
    },
    {
     "data": {
      "application/javascript": [
       "\n",
       "            setTimeout(function() {\n",
       "                var nbb_cell_id = 44;\n",
       "                var nbb_unformatted_code = \"plt.plot(history.history[\\\"RMSE\\\"])\";\n",
       "                var nbb_formatted_code = \"plt.plot(history.history[\\\"RMSE\\\"])\";\n",
       "                var nbb_cells = Jupyter.notebook.get_cells();\n",
       "                for (var i = 0; i < nbb_cells.length; ++i) {\n",
       "                    if (nbb_cells[i].input_prompt_number == nbb_cell_id) {\n",
       "                        if (nbb_cells[i].get_text() == nbb_unformatted_code) {\n",
       "                             nbb_cells[i].set_text(nbb_formatted_code);\n",
       "                        }\n",
       "                        break;\n",
       "                    }\n",
       "                }\n",
       "            }, 500);\n",
       "            "
      ],
      "text/plain": [
       "<IPython.core.display.Javascript object>"
      ]
     },
     "metadata": {},
     "output_type": "display_data"
    }
   ],
   "source": [
    "plt.plot(history.history[\"RMSE\"])"
   ]
  },
  {
   "cell_type": "code",
   "execution_count": 45,
   "metadata": {},
   "outputs": [
    {
     "name": "stdout",
     "output_type": "stream",
     "text": [
      "******\n",
      "[TRAIN]\n",
      "******\n",
      "RMSE: 2.981 (0.000)\n",
      "MAE: 2.384 (0.000)\n",
      "MAPE: 0.055 (0.000)\n",
      "R2: 0.062 (0.000)\n",
      "\n",
      "======================\n",
      "\n",
      "******\n",
      "[TEST]\n",
      "******\n",
      "RMSE: 4.076 (0.000)\n",
      "MAE: 3.484 (0.000)\n",
      "MAPE: 0.091 (0.000)\n",
      "R2: 2.395 (0.000)\n",
      "\n",
      "======================\n",
      "\n"
     ]
    },
    {
     "data": {
      "application/javascript": [
       "\n",
       "            setTimeout(function() {\n",
       "                var nbb_cell_id = 45;\n",
       "                var nbb_unformatted_code = \"y_train_pred = model.predict(sc.transform(x_train))\\ny_test_pred = model.predict(sc.transform(x_test))\\nscores = score_regression_metrics(y_train, y_train_pred, y_test, y_test_pred)\\nprint_scores(scores, METRICS, METRICS_DICT)\";\n",
       "                var nbb_formatted_code = \"y_train_pred = model.predict(sc.transform(x_train))\\ny_test_pred = model.predict(sc.transform(x_test))\\nscores = score_regression_metrics(y_train, y_train_pred, y_test, y_test_pred)\\nprint_scores(scores, METRICS, METRICS_DICT)\";\n",
       "                var nbb_cells = Jupyter.notebook.get_cells();\n",
       "                for (var i = 0; i < nbb_cells.length; ++i) {\n",
       "                    if (nbb_cells[i].input_prompt_number == nbb_cell_id) {\n",
       "                        if (nbb_cells[i].get_text() == nbb_unformatted_code) {\n",
       "                             nbb_cells[i].set_text(nbb_formatted_code);\n",
       "                        }\n",
       "                        break;\n",
       "                    }\n",
       "                }\n",
       "            }, 500);\n",
       "            "
      ],
      "text/plain": [
       "<IPython.core.display.Javascript object>"
      ]
     },
     "metadata": {},
     "output_type": "display_data"
    }
   ],
   "source": [
    "y_train_pred = model.predict(sc.transform(x_train))\n",
    "y_test_pred = model.predict(sc.transform(x_test))\n",
    "scores = score_regression_metrics(y_train, y_train_pred, y_test, y_test_pred)\n",
    "print_scores(scores, METRICS, METRICS_DICT)"
   ]
  },
  {
   "cell_type": "code",
   "execution_count": 46,
   "metadata": {},
   "outputs": [
    {
     "data": {
      "application/javascript": [
       "\n",
       "            setTimeout(function() {\n",
       "                var nbb_cell_id = 46;\n",
       "                var nbb_unformatted_code = \"model.save_weights(\\\"conv1d_weights.h5\\\")\";\n",
       "                var nbb_formatted_code = \"model.save_weights(\\\"conv1d_weights.h5\\\")\";\n",
       "                var nbb_cells = Jupyter.notebook.get_cells();\n",
       "                for (var i = 0; i < nbb_cells.length; ++i) {\n",
       "                    if (nbb_cells[i].input_prompt_number == nbb_cell_id) {\n",
       "                        if (nbb_cells[i].get_text() == nbb_unformatted_code) {\n",
       "                             nbb_cells[i].set_text(nbb_formatted_code);\n",
       "                        }\n",
       "                        break;\n",
       "                    }\n",
       "                }\n",
       "            }, 500);\n",
       "            "
      ],
      "text/plain": [
       "<IPython.core.display.Javascript object>"
      ]
     },
     "metadata": {},
     "output_type": "display_data"
    }
   ],
   "source": [
    "model.save_weights(\"conv1d_weights.h5\")"
   ]
  },
  {
   "cell_type": "markdown",
   "metadata": {},
   "source": [
    "# Fine Tuning"
   ]
  },
  {
   "cell_type": "markdown",
   "metadata": {},
   "source": [
    "# Intercement"
   ]
  },
  {
   "cell_type": "code",
   "execution_count": 47,
   "metadata": {},
   "outputs": [
    {
     "data": {
      "application/javascript": [
       "\n",
       "            setTimeout(function() {\n",
       "                var nbb_cell_id = 47;\n",
       "                var nbb_unformatted_code = \"df = pd.read_csv(\\\"../../../data/processed/Intercement/cement-shipping.csv\\\")\\ndf_no_cs = df.drop(\\n    [\\n        \\\"RC1\\\",\\n        \\\"RC3\\\",\\n        \\\"RC7\\\",\\n    ],\\n    axis=1,\\n).copy()\\n\\ny = df_no_cs.pop(\\\"RC28\\\")\\nx = df_no_cs.drop([\\\"Data\\\"], axis=1)\\n\\nx, y = to_img_matrix(x.values, y.values, nrows)\\n\\nx_train, x_test, y_train, y_test = train_test_split(\\n    x, y, test_size=0.2, random_state=SEED, shuffle=False\\n)\";\n",
       "                var nbb_formatted_code = \"df = pd.read_csv(\\\"../../../data/processed/Intercement/cement-shipping.csv\\\")\\ndf_no_cs = df.drop(\\n    [\\n        \\\"RC1\\\",\\n        \\\"RC3\\\",\\n        \\\"RC7\\\",\\n    ],\\n    axis=1,\\n).copy()\\n\\ny = df_no_cs.pop(\\\"RC28\\\")\\nx = df_no_cs.drop([\\\"Data\\\"], axis=1)\\n\\nx, y = to_img_matrix(x.values, y.values, nrows)\\n\\nx_train, x_test, y_train, y_test = train_test_split(\\n    x, y, test_size=0.2, random_state=SEED, shuffle=False\\n)\";\n",
       "                var nbb_cells = Jupyter.notebook.get_cells();\n",
       "                for (var i = 0; i < nbb_cells.length; ++i) {\n",
       "                    if (nbb_cells[i].input_prompt_number == nbb_cell_id) {\n",
       "                        if (nbb_cells[i].get_text() == nbb_unformatted_code) {\n",
       "                             nbb_cells[i].set_text(nbb_formatted_code);\n",
       "                        }\n",
       "                        break;\n",
       "                    }\n",
       "                }\n",
       "            }, 500);\n",
       "            "
      ],
      "text/plain": [
       "<IPython.core.display.Javascript object>"
      ]
     },
     "metadata": {},
     "output_type": "display_data"
    }
   ],
   "source": [
    "df = pd.read_csv(\"../../../data/processed/Intercement/cement-shipping.csv\")\n",
    "df_no_cs = df.drop(\n",
    "    [\n",
    "        \"RC1\",\n",
    "        \"RC3\",\n",
    "        \"RC7\",\n",
    "    ],\n",
    "    axis=1,\n",
    ").copy()\n",
    "\n",
    "y = df_no_cs.pop(\"RC28\")\n",
    "x = df_no_cs.drop([\"Data\"], axis=1)\n",
    "\n",
    "x, y = to_img_matrix(x.values, y.values, nrows)\n",
    "\n",
    "x_train, x_test, y_train, y_test = train_test_split(\n",
    "    x, y, test_size=0.2, random_state=SEED, shuffle=False\n",
    ")"
   ]
  },
  {
   "cell_type": "code",
   "execution_count": 48,
   "metadata": {},
   "outputs": [
    {
     "data": {
      "application/javascript": [
       "\n",
       "            setTimeout(function() {\n",
       "                var nbb_cell_id = 48;\n",
       "                var nbb_unformatted_code = \"set_seeds()\\n\\nmodel_2 = get_model(include_top=False, shape=x.shape[1:])\\nmodel_2.load_weights(\\\"conv1d_weights.h5\\\", by_name=True)\\nmodel_2.trainable = True\\n\\nflat1 = tf.keras.layers.Flatten()(model_2.layers[-1].output)\\nclass1 = tf.keras.layers.Dense(256, activation='relu')(flat1)\\noutputs = tf.keras.layers.Dense(1, activation='linear')(class1)\\nmodel = tf.keras.Model(model_2.inputs, outputs)\\n\\nmodel.compile(\\n    optimizer=tf.keras.optimizers.Adam(learning_rate=1e-3),\\n    loss=\\\"mse\\\",\\n    metrics=[tf.keras.metrics.RootMeanSquaredError(name=\\\"RMSE\\\")],\\n)\";\n",
       "                var nbb_formatted_code = \"set_seeds()\\n\\nmodel_2 = get_model(include_top=False, shape=x.shape[1:])\\nmodel_2.load_weights(\\\"conv1d_weights.h5\\\", by_name=True)\\nmodel_2.trainable = True\\n\\nflat1 = tf.keras.layers.Flatten()(model_2.layers[-1].output)\\nclass1 = tf.keras.layers.Dense(256, activation=\\\"relu\\\")(flat1)\\noutputs = tf.keras.layers.Dense(1, activation=\\\"linear\\\")(class1)\\nmodel = tf.keras.Model(model_2.inputs, outputs)\\n\\nmodel.compile(\\n    optimizer=tf.keras.optimizers.Adam(learning_rate=1e-3),\\n    loss=\\\"mse\\\",\\n    metrics=[tf.keras.metrics.RootMeanSquaredError(name=\\\"RMSE\\\")],\\n)\";\n",
       "                var nbb_cells = Jupyter.notebook.get_cells();\n",
       "                for (var i = 0; i < nbb_cells.length; ++i) {\n",
       "                    if (nbb_cells[i].input_prompt_number == nbb_cell_id) {\n",
       "                        if (nbb_cells[i].get_text() == nbb_unformatted_code) {\n",
       "                             nbb_cells[i].set_text(nbb_formatted_code);\n",
       "                        }\n",
       "                        break;\n",
       "                    }\n",
       "                }\n",
       "            }, 500);\n",
       "            "
      ],
      "text/plain": [
       "<IPython.core.display.Javascript object>"
      ]
     },
     "metadata": {},
     "output_type": "display_data"
    }
   ],
   "source": [
    "set_seeds()\n",
    "\n",
    "model_2 = get_model(include_top=False, shape=x.shape[1:])\n",
    "model_2.load_weights(\"conv1d_weights.h5\", by_name=True)\n",
    "model_2.trainable = True\n",
    "\n",
    "flat1 = tf.keras.layers.Flatten()(model_2.layers[-1].output)\n",
    "class1 = tf.keras.layers.Dense(256, activation=\"relu\")(flat1)\n",
    "outputs = tf.keras.layers.Dense(1, activation=\"linear\")(class1)\n",
    "model = tf.keras.Model(model_2.inputs, outputs)\n",
    "\n",
    "model.compile(\n",
    "    optimizer=tf.keras.optimizers.Adam(learning_rate=1e-3),\n",
    "    loss=\"mse\",\n",
    "    metrics=[tf.keras.metrics.RootMeanSquaredError(name=\"RMSE\")],\n",
    ")"
   ]
  },
  {
   "cell_type": "code",
   "execution_count": 49,
   "metadata": {},
   "outputs": [
    {
     "data": {
      "application/javascript": [
       "\n",
       "            setTimeout(function() {\n",
       "                var nbb_cell_id = 49;\n",
       "                var nbb_unformatted_code = \"sc = StandardScaler3DShape()\\n\\nhistory = model.fit(\\n    sc.fit_transform(x_train), y_train, batch_size=batch_size, epochs=epochs, verbose=verbose\\n)\";\n",
       "                var nbb_formatted_code = \"sc = StandardScaler3DShape()\\n\\nhistory = model.fit(\\n    sc.fit_transform(x_train),\\n    y_train,\\n    batch_size=batch_size,\\n    epochs=epochs,\\n    verbose=verbose,\\n)\";\n",
       "                var nbb_cells = Jupyter.notebook.get_cells();\n",
       "                for (var i = 0; i < nbb_cells.length; ++i) {\n",
       "                    if (nbb_cells[i].input_prompt_number == nbb_cell_id) {\n",
       "                        if (nbb_cells[i].get_text() == nbb_unformatted_code) {\n",
       "                             nbb_cells[i].set_text(nbb_formatted_code);\n",
       "                        }\n",
       "                        break;\n",
       "                    }\n",
       "                }\n",
       "            }, 500);\n",
       "            "
      ],
      "text/plain": [
       "<IPython.core.display.Javascript object>"
      ]
     },
     "metadata": {},
     "output_type": "display_data"
    }
   ],
   "source": [
    "sc = StandardScaler3DShape()\n",
    "\n",
    "history = model.fit(\n",
    "    sc.fit_transform(x_train),\n",
    "    y_train,\n",
    "    batch_size=batch_size,\n",
    "    epochs=epochs,\n",
    "    verbose=verbose,\n",
    ")"
   ]
  },
  {
   "cell_type": "code",
   "execution_count": 50,
   "metadata": {},
   "outputs": [
    {
     "data": {
      "text/plain": [
       "[<matplotlib.lines.Line2D at 0x7fdf9418e668>]"
      ]
     },
     "execution_count": 50,
     "metadata": {},
     "output_type": "execute_result"
    },
    {
     "data": {
      "image/png": "[encoded data removed]",
      "text/plain": [
       "<Figure size 432x288 with 1 Axes>"
      ]
     },
     "metadata": {
      "needs_background": "light"
     },
     "output_type": "display_data"
    },
    {
     "data": {
      "application/javascript": [
       "\n",
       "            setTimeout(function() {\n",
       "                var nbb_cell_id = 50;\n",
       "                var nbb_unformatted_code = \"plt.plot(history.history[\\\"RMSE\\\"])\";\n",
       "                var nbb_formatted_code = \"plt.plot(history.history[\\\"RMSE\\\"])\";\n",
       "                var nbb_cells = Jupyter.notebook.get_cells();\n",
       "                for (var i = 0; i < nbb_cells.length; ++i) {\n",
       "                    if (nbb_cells[i].input_prompt_number == nbb_cell_id) {\n",
       "                        if (nbb_cells[i].get_text() == nbb_unformatted_code) {\n",
       "                             nbb_cells[i].set_text(nbb_formatted_code);\n",
       "                        }\n",
       "                        break;\n",
       "                    }\n",
       "                }\n",
       "            }, 500);\n",
       "            "
      ],
      "text/plain": [
       "<IPython.core.display.Javascript object>"
      ]
     },
     "metadata": {},
     "output_type": "display_data"
    }
   ],
   "source": [
    "plt.plot(history.history[\"RMSE\"])"
   ]
  },
  {
   "cell_type": "code",
   "execution_count": 51,
   "metadata": {},
   "outputs": [
    {
     "name": "stdout",
     "output_type": "stream",
     "text": [
      "******\n",
      "[TRAIN]\n",
      "******\n",
      "RMSE: 5.292 (0.000)\n",
      "MAE: 4.487 (0.000)\n",
      "MAPE: 0.097 (0.000)\n",
      "R2: 0.292 (0.000)\n",
      "\n",
      "======================\n",
      "\n",
      "******\n",
      "[TEST]\n",
      "******\n",
      "RMSE: 8.165 (0.000)\n",
      "MAE: 7.360 (0.000)\n",
      "MAPE: 0.132 (0.000)\n",
      "R2: 1.835 (0.000)\n",
      "\n",
      "======================\n",
      "\n"
     ]
    },
    {
     "data": {
      "application/javascript": [
       "\n",
       "            setTimeout(function() {\n",
       "                var nbb_cell_id = 51;\n",
       "                var nbb_unformatted_code = \"y_train_pred = model.predict(sc.transform(x_train))\\ny_test_pred = model.predict(sc.transform(x_test))\\nscores = score_regression_metrics(y_train, y_train_pred, y_test, y_test_pred)\\nprint_scores(scores, METRICS, METRICS_DICT)\";\n",
       "                var nbb_formatted_code = \"y_train_pred = model.predict(sc.transform(x_train))\\ny_test_pred = model.predict(sc.transform(x_test))\\nscores = score_regression_metrics(y_train, y_train_pred, y_test, y_test_pred)\\nprint_scores(scores, METRICS, METRICS_DICT)\";\n",
       "                var nbb_cells = Jupyter.notebook.get_cells();\n",
       "                for (var i = 0; i < nbb_cells.length; ++i) {\n",
       "                    if (nbb_cells[i].input_prompt_number == nbb_cell_id) {\n",
       "                        if (nbb_cells[i].get_text() == nbb_unformatted_code) {\n",
       "                             nbb_cells[i].set_text(nbb_formatted_code);\n",
       "                        }\n",
       "                        break;\n",
       "                    }\n",
       "                }\n",
       "            }, 500);\n",
       "            "
      ],
      "text/plain": [
       "<IPython.core.display.Javascript object>"
      ]
     },
     "metadata": {},
     "output_type": "display_data"
    }
   ],
   "source": [
    "y_train_pred = model.predict(sc.transform(x_train))\n",
    "y_test_pred = model.predict(sc.transform(x_test))\n",
    "scores = score_regression_metrics(y_train, y_train_pred, y_test, y_test_pred)\n",
    "print_scores(scores, METRICS, METRICS_DICT)"
   ]
  },
  {
   "cell_type": "markdown",
   "metadata": {},
   "source": [
    "# Pre Trainning"
   ]
  },
  {
   "cell_type": "markdown",
   "metadata": {},
   "source": [
    "# partner_i + partner_ii"
   ]
  },
  {
   "cell_type": "code",
   "execution_count": 52,
   "metadata": {},
   "outputs": [
    {
     "data": {
      "application/javascript": [
       "\n",
       "            setTimeout(function() {\n",
       "                var nbb_cell_id = 52;\n",
       "                var nbb_unformatted_code = \"batch_size = 32\\nepochs = 200\\nverbose = 0\\ntimesteps = 7\";\n",
       "                var nbb_formatted_code = \"batch_size = 32\\nepochs = 200\\nverbose = 0\\ntimesteps = 7\";\n",
       "                var nbb_cells = Jupyter.notebook.get_cells();\n",
       "                for (var i = 0; i < nbb_cells.length; ++i) {\n",
       "                    if (nbb_cells[i].input_prompt_number == nbb_cell_id) {\n",
       "                        if (nbb_cells[i].get_text() == nbb_unformatted_code) {\n",
       "                             nbb_cells[i].set_text(nbb_formatted_code);\n",
       "                        }\n",
       "                        break;\n",
       "                    }\n",
       "                }\n",
       "            }, 500);\n",
       "            "
      ],
      "text/plain": [
       "<IPython.core.display.Javascript object>"
      ]
     },
     "metadata": {},
     "output_type": "display_data"
    }
   ],
   "source": [
    "batch_size = 32\n",
    "epochs = 200\n",
    "verbose = 0\n",
    "timesteps = 7"
   ]
  },
  {
   "cell_type": "code",
   "execution_count": 53,
   "metadata": {},
   "outputs": [
    {
     "data": {
      "application/javascript": [
       "\n",
       "            setTimeout(function() {\n",
       "                var nbb_cell_id = 53;\n",
       "                var nbb_unformatted_code = \"df_partner_ii = pd.read_csv(\\\"../../../data/processed/partner_ii/cement-shipping.csv\\\")\\ndf_no_cs = df_partner_ii.drop(\\n    [\\n        \\\"strength_1d\\\",\\n        \\\"strength_3d\\\",\\n        \\\"strength_7d\\\"\\n    ],\\n    axis=1,\\n).copy()\\ny_1 = df_no_cs.pop(\\\"strength_28d\\\")\\nx_1 = df_no_cs.drop([\\\"sample_date\\\"], axis=1)\\n\\ndf_partner_i = pd.read_csv(\\\"../../../data/processed/partner_i-Oficial/cement-shipping.csv\\\")\\ndf_partner_i = df_partner_i.drop(\\n    [\\n        \\\"1 day Compressive strength\\\",\\n        \\\"3 day Compressive strength\\\",\\n        \\\"7 day Compressive strength\\\",\\n    ],\\n    axis=1,\\n).copy()\\n\\ny_2 = df_partner_i.pop('28 day Compressive strength')\\nx_2 = df_partner_i.drop(['Date'], axis=1)\\n\\nx_2.columns= x_2.columns.str.lower()\\nx_2 = x_2.drop(set(x_2.columns) - set(x_1.columns), axis=1)\\nx_1 = x_1[x_2.columns]\\n\\ny_1.name = \\\"cs28\\\"\\ny_2.name = \\\"cs28\\\"\\n\\nx = pd.concat([x_1, x_2], axis=0).reset_index(drop=True)\\ny = pd.concat([y_1, y_2], axis=0).reset_index(drop=True)\\n\\nx, y = to_img_matrix(x.values, y.values, nrows)\\n\\nx_train, x_test, y_train, y_test = train_test_split(\\n    x, y, test_size=0.2, random_state=SEED, shuffle=True\\n)\";\n",
       "                var nbb_formatted_code = \"df_partner_ii = pd.read_csv(\\\"../../../data/processed/partner_ii/cement-shipping.csv\\\")\\ndf_no_cs = df_partner_ii.drop(\\n    [\\\"strength_1d\\\", \\\"strength_3d\\\", \\\"strength_7d\\\"],\\n    axis=1,\\n).copy()\\ny_1 = df_no_cs.pop(\\\"strength_28d\\\")\\nx_1 = df_no_cs.drop([\\\"sample_date\\\"], axis=1)\\n\\ndf_partner_i = pd.read_csv(\\n    \\\"../../../data/processed/partner_i-Oficial/cement-shipping.csv\\\"\\n)\\ndf_partner_i = df_partner_i.drop(\\n    [\\n        \\\"1 day Compressive strength\\\",\\n        \\\"3 day Compressive strength\\\",\\n        \\\"7 day Compressive strength\\\",\\n    ],\\n    axis=1,\\n).copy()\\n\\ny_2 = df_partner_i.pop(\\\"28 day Compressive strength\\\")\\nx_2 = df_partner_i.drop([\\\"Date\\\"], axis=1)\\n\\nx_2.columns = x_2.columns.str.lower()\\nx_2 = x_2.drop(set(x_2.columns) - set(x_1.columns), axis=1)\\nx_1 = x_1[x_2.columns]\\n\\ny_1.name = \\\"cs28\\\"\\ny_2.name = \\\"cs28\\\"\\n\\nx = pd.concat([x_1, x_2], axis=0).reset_index(drop=True)\\ny = pd.concat([y_1, y_2], axis=0).reset_index(drop=True)\\n\\nx, y = to_img_matrix(x.values, y.values, nrows)\\n\\nx_train, x_test, y_train, y_test = train_test_split(\\n    x, y, test_size=0.2, random_state=SEED, shuffle=True\\n)\";\n",
       "                var nbb_cells = Jupyter.notebook.get_cells();\n",
       "                for (var i = 0; i < nbb_cells.length; ++i) {\n",
       "                    if (nbb_cells[i].input_prompt_number == nbb_cell_id) {\n",
       "                        if (nbb_cells[i].get_text() == nbb_unformatted_code) {\n",
       "                             nbb_cells[i].set_text(nbb_formatted_code);\n",
       "                        }\n",
       "                        break;\n",
       "                    }\n",
       "                }\n",
       "            }, 500);\n",
       "            "
      ],
      "text/plain": [
       "<IPython.core.display.Javascript object>"
      ]
     },
     "metadata": {},
     "output_type": "display_data"
    }
   ],
   "source": [
    "df_partner_ii = pd.read_csv(\"../../../data/processed/partner_ii/cement-shipping.csv\")\n",
    "df_no_cs = df_partner_ii.drop(\n",
    "    [\"strength_1d\", \"strength_3d\", \"strength_7d\"],\n",
    "    axis=1,\n",
    ").copy()\n",
    "y_1 = df_no_cs.pop(\"strength_28d\")\n",
    "x_1 = df_no_cs.drop([\"sample_date\"], axis=1)\n",
    "\n",
    "df_partner_i = pd.read_csv(\n",
    "    \"../../../data/processed/partner_i-Oficial/cement-shipping.csv\"\n",
    ")\n",
    "df_partner_i = df_partner_i.drop(\n",
    "    [\n",
    "        \"1 day Compressive strength\",\n",
    "        \"3 day Compressive strength\",\n",
    "        \"7 day Compressive strength\",\n",
    "    ],\n",
    "    axis=1,\n",
    ").copy()\n",
    "\n",
    "y_2 = df_partner_i.pop(\"28 day Compressive strength\")\n",
    "x_2 = df_partner_i.drop([\"Date\"], axis=1)\n",
    "\n",
    "x_2.columns = x_2.columns.str.lower()\n",
    "x_2 = x_2.drop(set(x_2.columns) - set(x_1.columns), axis=1)\n",
    "x_1 = x_1[x_2.columns]\n",
    "\n",
    "y_1.name = \"cs28\"\n",
    "y_2.name = \"cs28\"\n",
    "\n",
    "x = pd.concat([x_1, x_2], axis=0).reset_index(drop=True)\n",
    "y = pd.concat([y_1, y_2], axis=0).reset_index(drop=True)\n",
    "\n",
    "x, y = to_img_matrix(x.values, y.values, nrows)\n",
    "\n",
    "x_train, x_test, y_train, y_test = train_test_split(\n",
    "    x, y, test_size=0.2, random_state=SEED, shuffle=True\n",
    ")"
   ]
  },
  {
   "cell_type": "code",
   "execution_count": 54,
   "metadata": {},
   "outputs": [
    {
     "data": {
      "application/javascript": [
       "\n",
       "            setTimeout(function() {\n",
       "                var nbb_cell_id = 54;\n",
       "                var nbb_unformatted_code = \"set_seeds()\\nmodel = get_model(shape=x_train.shape[1:])\\nsc = StandardScaler3DShape()\\n\\nhistory = model.fit(\\n    sc.fit_transform(x_train),\\n    y_train,\\n    batch_size=batch_size,\\n    epochs=epochs,\\n    verbose=verbose,\\n)\";\n",
       "                var nbb_formatted_code = \"set_seeds()\\nmodel = get_model(shape=x_train.shape[1:])\\nsc = StandardScaler3DShape()\\n\\nhistory = model.fit(\\n    sc.fit_transform(x_train),\\n    y_train,\\n    batch_size=batch_size,\\n    epochs=epochs,\\n    verbose=verbose,\\n)\";\n",
       "                var nbb_cells = Jupyter.notebook.get_cells();\n",
       "                for (var i = 0; i < nbb_cells.length; ++i) {\n",
       "                    if (nbb_cells[i].input_prompt_number == nbb_cell_id) {\n",
       "                        if (nbb_cells[i].get_text() == nbb_unformatted_code) {\n",
       "                             nbb_cells[i].set_text(nbb_formatted_code);\n",
       "                        }\n",
       "                        break;\n",
       "                    }\n",
       "                }\n",
       "            }, 500);\n",
       "            "
      ],
      "text/plain": [
       "<IPython.core.display.Javascript object>"
      ]
     },
     "metadata": {},
     "output_type": "display_data"
    }
   ],
   "source": [
    "set_seeds()\n",
    "model = get_model(shape=x_train.shape[1:])\n",
    "sc = StandardScaler3DShape()\n",
    "\n",
    "history = model.fit(\n",
    "    sc.fit_transform(x_train),\n",
    "    y_train,\n",
    "    batch_size=batch_size,\n",
    "    epochs=epochs,\n",
    "    verbose=verbose,\n",
    ")"
   ]
  },
  {
   "cell_type": "code",
   "execution_count": 55,
   "metadata": {},
   "outputs": [
    {
     "data": {
      "text/plain": [
       "[<matplotlib.lines.Line2D at 0x7fdf94350710>]"
      ]
     },
     "execution_count": 55,
     "metadata": {},
     "output_type": "execute_result"
    },
    {
     "data": {
      "image/png": "[encoded data removed]",
      "text/plain": [
       "<Figure size 432x288 with 1 Axes>"
      ]
     },
     "metadata": {
      "needs_background": "light"
     },
     "output_type": "display_data"
    },
    {
     "data": {
      "application/javascript": [
       "\n",
       "            setTimeout(function() {\n",
       "                var nbb_cell_id = 55;\n",
       "                var nbb_unformatted_code = \"plt.plot(history.history[\\\"RMSE\\\"])\";\n",
       "                var nbb_formatted_code = \"plt.plot(history.history[\\\"RMSE\\\"])\";\n",
       "                var nbb_cells = Jupyter.notebook.get_cells();\n",
       "                for (var i = 0; i < nbb_cells.length; ++i) {\n",
       "                    if (nbb_cells[i].input_prompt_number == nbb_cell_id) {\n",
       "                        if (nbb_cells[i].get_text() == nbb_unformatted_code) {\n",
       "                             nbb_cells[i].set_text(nbb_formatted_code);\n",
       "                        }\n",
       "                        break;\n",
       "                    }\n",
       "                }\n",
       "            }, 500);\n",
       "            "
      ],
      "text/plain": [
       "<IPython.core.display.Javascript object>"
      ]
     },
     "metadata": {},
     "output_type": "display_data"
    }
   ],
   "source": [
    "plt.plot(history.history[\"RMSE\"])"
   ]
  },
  {
   "cell_type": "code",
   "execution_count": 56,
   "metadata": {},
   "outputs": [
    {
     "name": "stdout",
     "output_type": "stream",
     "text": [
      "******\n",
      "[TRAIN]\n",
      "******\n",
      "RMSE: 4.458 (0.000)\n",
      "MAE: 3.853 (0.000)\n",
      "MAPE: 0.087 (0.000)\n",
      "R2: 0.169 (0.000)\n",
      "\n",
      "======================\n",
      "\n",
      "******\n",
      "[TEST]\n",
      "******\n",
      "RMSE: 4.382 (0.000)\n",
      "MAE: 3.761 (0.000)\n",
      "MAPE: 0.085 (0.000)\n",
      "R2: 0.225 (0.000)\n",
      "\n",
      "======================\n",
      "\n"
     ]
    },
    {
     "data": {
      "application/javascript": [
       "\n",
       "            setTimeout(function() {\n",
       "                var nbb_cell_id = 56;\n",
       "                var nbb_unformatted_code = \"y_train_pred = model.predict(sc.transform(x_train))\\ny_test_pred = model.predict(sc.transform(x_test))\\nscores = score_regression_metrics(y_train, y_train_pred, y_test, y_test_pred)\\nprint_scores(scores, METRICS, METRICS_DICT)\";\n",
       "                var nbb_formatted_code = \"y_train_pred = model.predict(sc.transform(x_train))\\ny_test_pred = model.predict(sc.transform(x_test))\\nscores = score_regression_metrics(y_train, y_train_pred, y_test, y_test_pred)\\nprint_scores(scores, METRICS, METRICS_DICT)\";\n",
       "                var nbb_cells = Jupyter.notebook.get_cells();\n",
       "                for (var i = 0; i < nbb_cells.length; ++i) {\n",
       "                    if (nbb_cells[i].input_prompt_number == nbb_cell_id) {\n",
       "                        if (nbb_cells[i].get_text() == nbb_unformatted_code) {\n",
       "                             nbb_cells[i].set_text(nbb_formatted_code);\n",
       "                        }\n",
       "                        break;\n",
       "                    }\n",
       "                }\n",
       "            }, 500);\n",
       "            "
      ],
      "text/plain": [
       "<IPython.core.display.Javascript object>"
      ]
     },
     "metadata": {},
     "output_type": "display_data"
    }
   ],
   "source": [
    "y_train_pred = model.predict(sc.transform(x_train))\n",
    "y_test_pred = model.predict(sc.transform(x_test))\n",
    "scores = score_regression_metrics(y_train, y_train_pred, y_test, y_test_pred)\n",
    "print_scores(scores, METRICS, METRICS_DICT)"
   ]
  },
  {
   "cell_type": "code",
   "execution_count": 57,
   "metadata": {},
   "outputs": [
    {
     "data": {
      "application/javascript": [
       "\n",
       "            setTimeout(function() {\n",
       "                var nbb_cell_id = 57;\n",
       "                var nbb_unformatted_code = \"model.save_weights(\\\"conv1d_weights.h5\\\")\";\n",
       "                var nbb_formatted_code = \"model.save_weights(\\\"conv1d_weights.h5\\\")\";\n",
       "                var nbb_cells = Jupyter.notebook.get_cells();\n",
       "                for (var i = 0; i < nbb_cells.length; ++i) {\n",
       "                    if (nbb_cells[i].input_prompt_number == nbb_cell_id) {\n",
       "                        if (nbb_cells[i].get_text() == nbb_unformatted_code) {\n",
       "                             nbb_cells[i].set_text(nbb_formatted_code);\n",
       "                        }\n",
       "                        break;\n",
       "                    }\n",
       "                }\n",
       "            }, 500);\n",
       "            "
      ],
      "text/plain": [
       "<IPython.core.display.Javascript object>"
      ]
     },
     "metadata": {},
     "output_type": "display_data"
    }
   ],
   "source": [
    "model.save_weights(\"conv1d_weights.h5\")"
   ]
  },
  {
   "cell_type": "markdown",
   "metadata": {},
   "source": [
    "# Fine Tuning"
   ]
  },
  {
   "cell_type": "markdown",
   "metadata": {},
   "source": [
    "# Intercement"
   ]
  },
  {
   "cell_type": "code",
   "execution_count": 58,
   "metadata": {},
   "outputs": [
    {
     "data": {
      "application/javascript": [
       "\n",
       "            setTimeout(function() {\n",
       "                var nbb_cell_id = 58;\n",
       "                var nbb_unformatted_code = \"df = pd.read_csv(\\\"../../../data/processed/Intercement/cement-shipping.csv\\\")\\ndf_no_cs = df.drop(\\n    [\\n        \\\"RC1\\\",\\n        \\\"RC3\\\",\\n        \\\"RC7\\\",\\n    ],\\n    axis=1,\\n).copy()\\n\\ny = df_no_cs.pop(\\\"RC28\\\")\\nx = df_no_cs.drop([\\\"Data\\\"], axis=1)\\nx, y = to_img_matrix(x.values, y.values, nrows)\\nx_train, x_test, y_train, y_test = train_test_split(\\n    x, y, test_size=0.2, random_state=SEED, shuffle=False\\n)\";\n",
       "                var nbb_formatted_code = \"df = pd.read_csv(\\\"../../../data/processed/Intercement/cement-shipping.csv\\\")\\ndf_no_cs = df.drop(\\n    [\\n        \\\"RC1\\\",\\n        \\\"RC3\\\",\\n        \\\"RC7\\\",\\n    ],\\n    axis=1,\\n).copy()\\n\\ny = df_no_cs.pop(\\\"RC28\\\")\\nx = df_no_cs.drop([\\\"Data\\\"], axis=1)\\nx, y = to_img_matrix(x.values, y.values, nrows)\\nx_train, x_test, y_train, y_test = train_test_split(\\n    x, y, test_size=0.2, random_state=SEED, shuffle=False\\n)\";\n",
       "                var nbb_cells = Jupyter.notebook.get_cells();\n",
       "                for (var i = 0; i < nbb_cells.length; ++i) {\n",
       "                    if (nbb_cells[i].input_prompt_number == nbb_cell_id) {\n",
       "                        if (nbb_cells[i].get_text() == nbb_unformatted_code) {\n",
       "                             nbb_cells[i].set_text(nbb_formatted_code);\n",
       "                        }\n",
       "                        break;\n",
       "                    }\n",
       "                }\n",
       "            }, 500);\n",
       "            "
      ],
      "text/plain": [
       "<IPython.core.display.Javascript object>"
      ]
     },
     "metadata": {},
     "output_type": "display_data"
    }
   ],
   "source": [
    "df = pd.read_csv(\"../../../data/processed/Intercement/cement-shipping.csv\")\n",
    "df_no_cs = df.drop(\n",
    "    [\n",
    "        \"RC1\",\n",
    "        \"RC3\",\n",
    "        \"RC7\",\n",
    "    ],\n",
    "    axis=1,\n",
    ").copy()\n",
    "\n",
    "y = df_no_cs.pop(\"RC28\")\n",
    "x = df_no_cs.drop([\"Data\"], axis=1)\n",
    "x, y = to_img_matrix(x.values, y.values, nrows)\n",
    "x_train, x_test, y_train, y_test = train_test_split(\n",
    "    x, y, test_size=0.2, random_state=SEED, shuffle=False\n",
    ")"
   ]
  },
  {
   "cell_type": "code",
   "execution_count": 59,
   "metadata": {},
   "outputs": [
    {
     "data": {
      "application/javascript": [
       "\n",
       "            setTimeout(function() {\n",
       "                var nbb_cell_id = 59;\n",
       "                var nbb_unformatted_code = \"set_seeds()\\n\\nmodel_2 = get_model(include_top=False, shape=x_train.shape[1:])\\nmodel_2.load_weights(\\\"conv1d_weights.h5\\\", by_name=True)\\nmodel_2.trainable = True\\n\\nflat1 = tf.keras.layers.Flatten()(model_2.layers[-1].output)\\nclass1 = tf.keras.layers.Dense(256, activation='relu')(flat1)\\noutputs = tf.keras.layers.Dense(1, activation='linear')(class1)\\nmodel = tf.keras.Model(model_2.inputs, outputs)\\n\\nmodel.compile(\\n    optimizer=tf.keras.optimizers.Adam(learning_rate=1e-3),\\n    loss=\\\"mse\\\",\\n    metrics=[tf.keras.metrics.RootMeanSquaredError(name=\\\"RMSE\\\")],\\n)\";\n",
       "                var nbb_formatted_code = \"set_seeds()\\n\\nmodel_2 = get_model(include_top=False, shape=x_train.shape[1:])\\nmodel_2.load_weights(\\\"conv1d_weights.h5\\\", by_name=True)\\nmodel_2.trainable = True\\n\\nflat1 = tf.keras.layers.Flatten()(model_2.layers[-1].output)\\nclass1 = tf.keras.layers.Dense(256, activation=\\\"relu\\\")(flat1)\\noutputs = tf.keras.layers.Dense(1, activation=\\\"linear\\\")(class1)\\nmodel = tf.keras.Model(model_2.inputs, outputs)\\n\\nmodel.compile(\\n    optimizer=tf.keras.optimizers.Adam(learning_rate=1e-3),\\n    loss=\\\"mse\\\",\\n    metrics=[tf.keras.metrics.RootMeanSquaredError(name=\\\"RMSE\\\")],\\n)\";\n",
       "                var nbb_cells = Jupyter.notebook.get_cells();\n",
       "                for (var i = 0; i < nbb_cells.length; ++i) {\n",
       "                    if (nbb_cells[i].input_prompt_number == nbb_cell_id) {\n",
       "                        if (nbb_cells[i].get_text() == nbb_unformatted_code) {\n",
       "                             nbb_cells[i].set_text(nbb_formatted_code);\n",
       "                        }\n",
       "                        break;\n",
       "                    }\n",
       "                }\n",
       "            }, 500);\n",
       "            "
      ],
      "text/plain": [
       "<IPython.core.display.Javascript object>"
      ]
     },
     "metadata": {},
     "output_type": "display_data"
    }
   ],
   "source": [
    "set_seeds()\n",
    "\n",
    "model_2 = get_model(include_top=False, shape=x_train.shape[1:])\n",
    "model_2.load_weights(\"conv1d_weights.h5\", by_name=True)\n",
    "model_2.trainable = True\n",
    "\n",
    "flat1 = tf.keras.layers.Flatten()(model_2.layers[-1].output)\n",
    "class1 = tf.keras.layers.Dense(256, activation=\"relu\")(flat1)\n",
    "outputs = tf.keras.layers.Dense(1, activation=\"linear\")(class1)\n",
    "model = tf.keras.Model(model_2.inputs, outputs)\n",
    "\n",
    "model.compile(\n",
    "    optimizer=tf.keras.optimizers.Adam(learning_rate=1e-3),\n",
    "    loss=\"mse\",\n",
    "    metrics=[tf.keras.metrics.RootMeanSquaredError(name=\"RMSE\")],\n",
    ")"
   ]
  },
  {
   "cell_type": "code",
   "execution_count": 60,
   "metadata": {},
   "outputs": [
    {
     "data": {
      "application/javascript": [
       "\n",
       "            setTimeout(function() {\n",
       "                var nbb_cell_id = 60;\n",
       "                var nbb_unformatted_code = \"sc = StandardScaler3DShape()\\n\\nhistory = model.fit(\\n    sc.fit_transform(x_train), y_train, batch_size=batch_size, epochs=epochs, verbose=verbose\\n)\";\n",
       "                var nbb_formatted_code = \"sc = StandardScaler3DShape()\\n\\nhistory = model.fit(\\n    sc.fit_transform(x_train),\\n    y_train,\\n    batch_size=batch_size,\\n    epochs=epochs,\\n    verbose=verbose,\\n)\";\n",
       "                var nbb_cells = Jupyter.notebook.get_cells();\n",
       "                for (var i = 0; i < nbb_cells.length; ++i) {\n",
       "                    if (nbb_cells[i].input_prompt_number == nbb_cell_id) {\n",
       "                        if (nbb_cells[i].get_text() == nbb_unformatted_code) {\n",
       "                             nbb_cells[i].set_text(nbb_formatted_code);\n",
       "                        }\n",
       "                        break;\n",
       "                    }\n",
       "                }\n",
       "            }, 500);\n",
       "            "
      ],
      "text/plain": [
       "<IPython.core.display.Javascript object>"
      ]
     },
     "metadata": {},
     "output_type": "display_data"
    }
   ],
   "source": [
    "sc = StandardScaler3DShape()\n",
    "\n",
    "history = model.fit(\n",
    "    sc.fit_transform(x_train),\n",
    "    y_train,\n",
    "    batch_size=batch_size,\n",
    "    epochs=epochs,\n",
    "    verbose=verbose,\n",
    ")"
   ]
  },
  {
   "cell_type": "code",
   "execution_count": 61,
   "metadata": {},
   "outputs": [
    {
     "data": {
      "text/plain": [
       "[<matplotlib.lines.Line2D at 0x7fdf942cb6d8>]"
      ]
     },
     "execution_count": 61,
     "metadata": {},
     "output_type": "execute_result"
    },
    {
     "data": {
      "image/png": "[encoded data removed]",
      "text/plain": [
       "<Figure size 432x288 with 1 Axes>"
      ]
     },
     "metadata": {
      "needs_background": "light"
     },
     "output_type": "display_data"
    },
    {
     "data": {
      "application/javascript": [
       "\n",
       "            setTimeout(function() {\n",
       "                var nbb_cell_id = 61;\n",
       "                var nbb_unformatted_code = \"plt.plot(history.history[\\\"RMSE\\\"])\";\n",
       "                var nbb_formatted_code = \"plt.plot(history.history[\\\"RMSE\\\"])\";\n",
       "                var nbb_cells = Jupyter.notebook.get_cells();\n",
       "                for (var i = 0; i < nbb_cells.length; ++i) {\n",
       "                    if (nbb_cells[i].input_prompt_number == nbb_cell_id) {\n",
       "                        if (nbb_cells[i].get_text() == nbb_unformatted_code) {\n",
       "                             nbb_cells[i].set_text(nbb_formatted_code);\n",
       "                        }\n",
       "                        break;\n",
       "                    }\n",
       "                }\n",
       "            }, 500);\n",
       "            "
      ],
      "text/plain": [
       "<IPython.core.display.Javascript object>"
      ]
     },
     "metadata": {},
     "output_type": "display_data"
    }
   ],
   "source": [
    "plt.plot(history.history[\"RMSE\"])"
   ]
  },
  {
   "cell_type": "code",
   "execution_count": 62,
   "metadata": {},
   "outputs": [
    {
     "name": "stdout",
     "output_type": "stream",
     "text": [
      "******\n",
      "[TRAIN]\n",
      "******\n",
      "RMSE: 4.166 (0.000)\n",
      "MAE: 3.234 (0.000)\n",
      "MAPE: 0.075 (0.000)\n",
      "R2: 0.561 (0.000)\n",
      "\n",
      "======================\n",
      "\n",
      "******\n",
      "[TEST]\n",
      "******\n",
      "RMSE: 4.150 (0.000)\n",
      "MAE: 3.295 (0.000)\n",
      "MAPE: 0.061 (0.000)\n",
      "R2: 0.268 (0.000)\n",
      "\n",
      "======================\n",
      "\n"
     ]
    },
    {
     "data": {
      "application/javascript": [
       "\n",
       "            setTimeout(function() {\n",
       "                var nbb_cell_id = 62;\n",
       "                var nbb_unformatted_code = \"y_train_pred = model.predict(sc.transform(x_train))\\ny_test_pred = model.predict(sc.transform(x_test))\\n\\nscores = score_regression_metrics(y_train, y_train_pred, y_test, y_test_pred)\\nprint_scores(scores, METRICS, METRICS_DICT)\";\n",
       "                var nbb_formatted_code = \"y_train_pred = model.predict(sc.transform(x_train))\\ny_test_pred = model.predict(sc.transform(x_test))\\n\\nscores = score_regression_metrics(y_train, y_train_pred, y_test, y_test_pred)\\nprint_scores(scores, METRICS, METRICS_DICT)\";\n",
       "                var nbb_cells = Jupyter.notebook.get_cells();\n",
       "                for (var i = 0; i < nbb_cells.length; ++i) {\n",
       "                    if (nbb_cells[i].input_prompt_number == nbb_cell_id) {\n",
       "                        if (nbb_cells[i].get_text() == nbb_unformatted_code) {\n",
       "                             nbb_cells[i].set_text(nbb_formatted_code);\n",
       "                        }\n",
       "                        break;\n",
       "                    }\n",
       "                }\n",
       "            }, 500);\n",
       "            "
      ],
      "text/plain": [
       "<IPython.core.display.Javascript object>"
      ]
     },
     "metadata": {},
     "output_type": "display_data"
    }
   ],
   "source": [
    "y_train_pred = model.predict(sc.transform(x_train))\n",
    "y_test_pred = model.predict(sc.transform(x_test))\n",
    "\n",
    "scores = score_regression_metrics(y_train, y_train_pred, y_test, y_test_pred)\n",
    "print_scores(scores, METRICS, METRICS_DICT)"
   ]
  },
  {
   "cell_type": "markdown",
   "metadata": {},
   "source": [
    "# Experiments with Same Variables"
   ]
  },
  {
   "cell_type": "markdown",
   "metadata": {},
   "source": [
    "# Baseline Model"
   ]
  },
  {
   "cell_type": "markdown",
   "metadata": {},
   "source": [
    "# Linear Regression"
   ]
  },
  {
   "cell_type": "markdown",
   "metadata": {},
   "source": [
    "# Intercement"
   ]
  },
  {
   "cell_type": "code",
   "execution_count": 63,
   "metadata": {},
   "outputs": [
    {
     "data": {
      "application/javascript": [
       "\n",
       "            setTimeout(function() {\n",
       "                var nbb_cell_id = 63;\n",
       "                var nbb_unformatted_code = \"COMMON_FEATURES = [\\\"mgo\\\", \\\"al2o3\\\", \\\"sio2\\\", \\\"so3\\\", \\\"k2o\\\", \\\"fe2o3\\\"]\";\n",
       "                var nbb_formatted_code = \"COMMON_FEATURES = [\\\"mgo\\\", \\\"al2o3\\\", \\\"sio2\\\", \\\"so3\\\", \\\"k2o\\\", \\\"fe2o3\\\"]\";\n",
       "                var nbb_cells = Jupyter.notebook.get_cells();\n",
       "                for (var i = 0; i < nbb_cells.length; ++i) {\n",
       "                    if (nbb_cells[i].input_prompt_number == nbb_cell_id) {\n",
       "                        if (nbb_cells[i].get_text() == nbb_unformatted_code) {\n",
       "                             nbb_cells[i].set_text(nbb_formatted_code);\n",
       "                        }\n",
       "                        break;\n",
       "                    }\n",
       "                }\n",
       "            }, 500);\n",
       "            "
      ],
      "text/plain": [
       "<IPython.core.display.Javascript object>"
      ]
     },
     "metadata": {},
     "output_type": "display_data"
    }
   ],
   "source": [
    "COMMON_FEATURES = [\"mgo\", \"al2o3\", \"sio2\", \"so3\", \"k2o\", \"fe2o3\"]"
   ]
  },
  {
   "cell_type": "code",
   "execution_count": 64,
   "metadata": {},
   "outputs": [
    {
     "data": {
      "application/javascript": [
       "\n",
       "            setTimeout(function() {\n",
       "                var nbb_cell_id = 64;\n",
       "                var nbb_unformatted_code = \"df = pd.read_csv(\\\"../../../data/processed/Intercement/cement-shipping.csv\\\")\\ndf_no_cs = df.drop(\\n    [\\n        \\\"RC1\\\",\\n        \\\"RC3\\\",\\n        \\\"RC7\\\",\\n    ],\\n    axis=1,\\n).copy()\\n\\ny = df_no_cs.pop(\\\"RC28\\\")\\nx = df_no_cs.drop([\\\"Data\\\"], axis=1)\\nx.columns = x.columns.str.lower()\\nx = x[COMMON_FEATURES]\";\n",
       "                var nbb_formatted_code = \"df = pd.read_csv(\\\"../../../data/processed/Intercement/cement-shipping.csv\\\")\\ndf_no_cs = df.drop(\\n    [\\n        \\\"RC1\\\",\\n        \\\"RC3\\\",\\n        \\\"RC7\\\",\\n    ],\\n    axis=1,\\n).copy()\\n\\ny = df_no_cs.pop(\\\"RC28\\\")\\nx = df_no_cs.drop([\\\"Data\\\"], axis=1)\\nx.columns = x.columns.str.lower()\\nx = x[COMMON_FEATURES]\";\n",
       "                var nbb_cells = Jupyter.notebook.get_cells();\n",
       "                for (var i = 0; i < nbb_cells.length; ++i) {\n",
       "                    if (nbb_cells[i].input_prompt_number == nbb_cell_id) {\n",
       "                        if (nbb_cells[i].get_text() == nbb_unformatted_code) {\n",
       "                             nbb_cells[i].set_text(nbb_formatted_code);\n",
       "                        }\n",
       "                        break;\n",
       "                    }\n",
       "                }\n",
       "            }, 500);\n",
       "            "
      ],
      "text/plain": [
       "<IPython.core.display.Javascript object>"
      ]
     },
     "metadata": {},
     "output_type": "display_data"
    }
   ],
   "source": [
    "df = pd.read_csv(\"../../../data/processed/Intercement/cement-shipping.csv\")\n",
    "df_no_cs = df.drop(\n",
    "    [\n",
    "        \"RC1\",\n",
    "        \"RC3\",\n",
    "        \"RC7\",\n",
    "    ],\n",
    "    axis=1,\n",
    ").copy()\n",
    "\n",
    "y = df_no_cs.pop(\"RC28\")\n",
    "x = df_no_cs.drop([\"Data\"], axis=1)\n",
    "x.columns = x.columns.str.lower()\n",
    "x = x[COMMON_FEATURES]"
   ]
  },
  {
   "cell_type": "code",
   "execution_count": 65,
   "metadata": {},
   "outputs": [
    {
     "name": "stdout",
     "output_type": "stream",
     "text": [
      "Repeated Cross Validation:\n",
      "Repeats: 10\n",
      "n_splits: 10\n",
      "\n",
      "******\n",
      "[TRAIN]\n",
      "******\n",
      "RMSE: 4.995 (0.050)\n",
      "MAE: 3.799 (0.025)\n",
      "MAPE: 0.082 (0.001)\n",
      "R2: 0.483 (0.010)\n",
      "\n",
      "======================\n",
      "\n",
      "******\n",
      "[TEST]\n",
      "******\n",
      "RMSE: 5.028 (0.438)\n",
      "MAE: 3.811 (0.113)\n",
      "MAPE: 0.082 (0.002)\n",
      "R2: 0.471 (0.096)\n",
      "\n",
      "======================\n",
      "\n"
     ]
    },
    {
     "data": {
      "application/javascript": [
       "\n",
       "            setTimeout(function() {\n",
       "                var nbb_cell_id = 65;\n",
       "                var nbb_unformatted_code = \"repeats = 10\\nn_splits = 10\\nset_seeds()\\npipeline = Pipeline(\\n    [(\\\"transformer\\\", StandardScaler()), (\\\"estimator\\\", LinearRegression())]\\n)\\ncv = RepeatedKFold(n_splits=n_splits, n_repeats=repeats, random_state=SEED)\\nscores = cross_validate(\\n    pipeline,\\n    x,\\n    y,\\n    scoring=METRICS,\\n    cv=cv,\\n    n_jobs=-1,\\n    return_train_score=True,\\n)\\n# scores = np.abs(scores)\\nprint(\\\"Repeated Cross Validation:\\\")\\nprint(f\\\"Repeats: {repeats}\\\")\\nprint(f\\\"n_splits: {n_splits}\\\")\\nprint()\\nprint_scores(scores, METRICS, METRICS_DICT)\";\n",
       "                var nbb_formatted_code = \"repeats = 10\\nn_splits = 10\\nset_seeds()\\npipeline = Pipeline(\\n    [(\\\"transformer\\\", StandardScaler()), (\\\"estimator\\\", LinearRegression())]\\n)\\ncv = RepeatedKFold(n_splits=n_splits, n_repeats=repeats, random_state=SEED)\\nscores = cross_validate(\\n    pipeline,\\n    x,\\n    y,\\n    scoring=METRICS,\\n    cv=cv,\\n    n_jobs=-1,\\n    return_train_score=True,\\n)\\n# scores = np.abs(scores)\\nprint(\\\"Repeated Cross Validation:\\\")\\nprint(f\\\"Repeats: {repeats}\\\")\\nprint(f\\\"n_splits: {n_splits}\\\")\\nprint()\\nprint_scores(scores, METRICS, METRICS_DICT)\";\n",
       "                var nbb_cells = Jupyter.notebook.get_cells();\n",
       "                for (var i = 0; i < nbb_cells.length; ++i) {\n",
       "                    if (nbb_cells[i].input_prompt_number == nbb_cell_id) {\n",
       "                        if (nbb_cells[i].get_text() == nbb_unformatted_code) {\n",
       "                             nbb_cells[i].set_text(nbb_formatted_code);\n",
       "                        }\n",
       "                        break;\n",
       "                    }\n",
       "                }\n",
       "            }, 500);\n",
       "            "
      ],
      "text/plain": [
       "<IPython.core.display.Javascript object>"
      ]
     },
     "metadata": {},
     "output_type": "display_data"
    }
   ],
   "source": [
    "repeats = 10\n",
    "n_splits = 10\n",
    "set_seeds()\n",
    "pipeline = Pipeline(\n",
    "    [(\"transformer\", StandardScaler()), (\"estimator\", LinearRegression())]\n",
    ")\n",
    "cv = RepeatedKFold(n_splits=n_splits, n_repeats=repeats, random_state=SEED)\n",
    "scores = cross_validate(\n",
    "    pipeline,\n",
    "    x,\n",
    "    y,\n",
    "    scoring=METRICS,\n",
    "    cv=cv,\n",
    "    n_jobs=-1,\n",
    "    return_train_score=True,\n",
    ")\n",
    "# scores = np.abs(scores)\n",
    "print(\"Repeated Cross Validation:\")\n",
    "print(f\"Repeats: {repeats}\")\n",
    "print(f\"n_splits: {n_splits}\")\n",
    "print()\n",
    "print_scores(scores, METRICS, METRICS_DICT)"
   ]
  },
  {
   "cell_type": "markdown",
   "metadata": {},
   "source": [
    "# partner_ii"
   ]
  },
  {
   "cell_type": "code",
   "execution_count": 66,
   "metadata": {},
   "outputs": [
    {
     "data": {
      "application/javascript": [
       "\n",
       "            setTimeout(function() {\n",
       "                var nbb_cell_id = 66;\n",
       "                var nbb_unformatted_code = \"COMMON_FEATURES = [\\n    \\\"cao\\\",\\n    \\\"sio2\\\",\\n    \\\"al2o3\\\",\\n    \\\"fe2o3\\\",\\n    \\\"aluminate\\\",\\n    \\\"na2o\\\",\\n    \\\"mgo\\\",\\n    \\\"so3\\\",\\n    \\\"ferrite\\\",\\n    \\\"k2o\\\"\\n]\";\n",
       "                var nbb_formatted_code = \"COMMON_FEATURES = [\\n    \\\"cao\\\",\\n    \\\"sio2\\\",\\n    \\\"al2o3\\\",\\n    \\\"fe2o3\\\",\\n    \\\"aluminate\\\",\\n    \\\"na2o\\\",\\n    \\\"mgo\\\",\\n    \\\"so3\\\",\\n    \\\"ferrite\\\",\\n    \\\"k2o\\\",\\n]\";\n",
       "                var nbb_cells = Jupyter.notebook.get_cells();\n",
       "                for (var i = 0; i < nbb_cells.length; ++i) {\n",
       "                    if (nbb_cells[i].input_prompt_number == nbb_cell_id) {\n",
       "                        if (nbb_cells[i].get_text() == nbb_unformatted_code) {\n",
       "                             nbb_cells[i].set_text(nbb_formatted_code);\n",
       "                        }\n",
       "                        break;\n",
       "                    }\n",
       "                }\n",
       "            }, 500);\n",
       "            "
      ],
      "text/plain": [
       "<IPython.core.display.Javascript object>"
      ]
     },
     "metadata": {},
     "output_type": "display_data"
    }
   ],
   "source": [
    "COMMON_FEATURES = [\n",
    "    \"cao\",\n",
    "    \"sio2\",\n",
    "    \"al2o3\",\n",
    "    \"fe2o3\",\n",
    "    \"aluminate\",\n",
    "    \"na2o\",\n",
    "    \"mgo\",\n",
    "    \"so3\",\n",
    "    \"ferrite\",\n",
    "    \"k2o\",\n",
    "]"
   ]
  },
  {
   "cell_type": "code",
   "execution_count": 67,
   "metadata": {},
   "outputs": [
    {
     "data": {
      "application/javascript": [
       "\n",
       "            setTimeout(function() {\n",
       "                var nbb_cell_id = 67;\n",
       "                var nbb_unformatted_code = \"df_partner_ii = pd.read_csv(\\\"../../../data/processed/partner_ii/cement-shipping.csv\\\")\\ndf_no_cs = df_partner_ii.drop(\\n    [\\\"strength_1d\\\", \\\"strength_3d\\\", \\\"strength_7d\\\"],\\n    axis=1,\\n).copy()\\ny = df_no_cs.pop(\\\"strength_28d\\\")\\nx = df_no_cs.rename({\\\"sample_date\\\": \\\"date\\\"}, axis=1)\\n\\nx.columns = x.columns.str.lower()\\nx = x[COMMON_FEATURES]\";\n",
       "                var nbb_formatted_code = \"df_partner_ii = pd.read_csv(\\\"../../../data/processed/partner_ii/cement-shipping.csv\\\")\\ndf_no_cs = df_partner_ii.drop(\\n    [\\\"strength_1d\\\", \\\"strength_3d\\\", \\\"strength_7d\\\"],\\n    axis=1,\\n).copy()\\ny = df_no_cs.pop(\\\"strength_28d\\\")\\nx = df_no_cs.rename({\\\"sample_date\\\": \\\"date\\\"}, axis=1)\\n\\nx.columns = x.columns.str.lower()\\nx = x[COMMON_FEATURES]\";\n",
       "                var nbb_cells = Jupyter.notebook.get_cells();\n",
       "                for (var i = 0; i < nbb_cells.length; ++i) {\n",
       "                    if (nbb_cells[i].input_prompt_number == nbb_cell_id) {\n",
       "                        if (nbb_cells[i].get_text() == nbb_unformatted_code) {\n",
       "                             nbb_cells[i].set_text(nbb_formatted_code);\n",
       "                        }\n",
       "                        break;\n",
       "                    }\n",
       "                }\n",
       "            }, 500);\n",
       "            "
      ],
      "text/plain": [
       "<IPython.core.display.Javascript object>"
      ]
     },
     "metadata": {},
     "output_type": "display_data"
    }
   ],
   "source": [
    "df_partner_ii = pd.read_csv(\"../../../data/processed/partner_ii/cement-shipping.csv\")\n",
    "df_no_cs = df_partner_ii.drop(\n",
    "    [\"strength_1d\", \"strength_3d\", \"strength_7d\"],\n",
    "    axis=1,\n",
    ").copy()\n",
    "y = df_no_cs.pop(\"strength_28d\")\n",
    "x = df_no_cs.rename({\"sample_date\": \"date\"}, axis=1)\n",
    "\n",
    "x.columns = x.columns.str.lower()\n",
    "x = x[COMMON_FEATURES]"
   ]
  },
  {
   "cell_type": "code",
   "execution_count": 68,
   "metadata": {},
   "outputs": [
    {
     "name": "stdout",
     "output_type": "stream",
     "text": [
      "Repeated Cross Validation:\n",
      "Repeats: 10\n",
      "n_splits: 10\n",
      "\n",
      "******\n",
      "[TRAIN]\n",
      "******\n",
      "RMSE: 2.708 (0.023)\n",
      "MAE: 2.159 (0.018)\n",
      "MAPE: 0.050 (0.000)\n",
      "R2: 0.413 (0.009)\n",
      "\n",
      "======================\n",
      "\n",
      "******\n",
      "[TEST]\n",
      "******\n",
      "RMSE: 2.764 (0.231)\n",
      "MAE: 2.190 (0.156)\n",
      "MAPE: 0.051 (0.004)\n",
      "R2: 0.375 (0.104)\n",
      "\n",
      "======================\n",
      "\n"
     ]
    },
    {
     "data": {
      "application/javascript": [
       "\n",
       "            setTimeout(function() {\n",
       "                var nbb_cell_id = 68;\n",
       "                var nbb_unformatted_code = \"repeats = 10\\nn_splits = 10\\nset_seeds()\\npipeline = Pipeline(\\n    [(\\\"transformer\\\", StandardScaler()), (\\\"estimator\\\", LinearRegression())]\\n)\\ncv = RepeatedKFold(n_splits=n_splits, n_repeats=repeats, random_state=SEED)\\nscores = cross_validate(\\n    pipeline,\\n    x,\\n    y,\\n    scoring=METRICS,\\n    cv=cv,\\n    n_jobs=-1,\\n    return_train_score=True,\\n)\\n# scores = np.abs(scores)\\nprint(\\\"Repeated Cross Validation:\\\")\\nprint(f\\\"Repeats: {repeats}\\\")\\nprint(f\\\"n_splits: {n_splits}\\\")\\nprint()\\nprint_scores(scores, METRICS, METRICS_DICT)\";\n",
       "                var nbb_formatted_code = \"repeats = 10\\nn_splits = 10\\nset_seeds()\\npipeline = Pipeline(\\n    [(\\\"transformer\\\", StandardScaler()), (\\\"estimator\\\", LinearRegression())]\\n)\\ncv = RepeatedKFold(n_splits=n_splits, n_repeats=repeats, random_state=SEED)\\nscores = cross_validate(\\n    pipeline,\\n    x,\\n    y,\\n    scoring=METRICS,\\n    cv=cv,\\n    n_jobs=-1,\\n    return_train_score=True,\\n)\\n# scores = np.abs(scores)\\nprint(\\\"Repeated Cross Validation:\\\")\\nprint(f\\\"Repeats: {repeats}\\\")\\nprint(f\\\"n_splits: {n_splits}\\\")\\nprint()\\nprint_scores(scores, METRICS, METRICS_DICT)\";\n",
       "                var nbb_cells = Jupyter.notebook.get_cells();\n",
       "                for (var i = 0; i < nbb_cells.length; ++i) {\n",
       "                    if (nbb_cells[i].input_prompt_number == nbb_cell_id) {\n",
       "                        if (nbb_cells[i].get_text() == nbb_unformatted_code) {\n",
       "                             nbb_cells[i].set_text(nbb_formatted_code);\n",
       "                        }\n",
       "                        break;\n",
       "                    }\n",
       "                }\n",
       "            }, 500);\n",
       "            "
      ],
      "text/plain": [
       "<IPython.core.display.Javascript object>"
      ]
     },
     "metadata": {},
     "output_type": "display_data"
    }
   ],
   "source": [
    "repeats = 10\n",
    "n_splits = 10\n",
    "set_seeds()\n",
    "pipeline = Pipeline(\n",
    "    [(\"transformer\", StandardScaler()), (\"estimator\", LinearRegression())]\n",
    ")\n",
    "cv = RepeatedKFold(n_splits=n_splits, n_repeats=repeats, random_state=SEED)\n",
    "scores = cross_validate(\n",
    "    pipeline,\n",
    "    x,\n",
    "    y,\n",
    "    scoring=METRICS,\n",
    "    cv=cv,\n",
    "    n_jobs=-1,\n",
    "    return_train_score=True,\n",
    ")\n",
    "# scores = np.abs(scores)\n",
    "print(\"Repeated Cross Validation:\")\n",
    "print(f\"Repeats: {repeats}\")\n",
    "print(f\"n_splits: {n_splits}\")\n",
    "print()\n",
    "print_scores(scores, METRICS, METRICS_DICT)"
   ]
  },
  {
   "cell_type": "markdown",
   "metadata": {},
   "source": [
    "# Pre Trainning"
   ]
  },
  {
   "cell_type": "markdown",
   "metadata": {},
   "source": [
    "# partner_i"
   ]
  },
  {
   "cell_type": "code",
   "execution_count": 69,
   "metadata": {},
   "outputs": [
    {
     "data": {
      "application/javascript": [
       "\n",
       "            setTimeout(function() {\n",
       "                var nbb_cell_id = 69;\n",
       "                var nbb_unformatted_code = \"batch_size = 32\\nepochs = 200\\nverbose = 0\\nnrows = 10\";\n",
       "                var nbb_formatted_code = \"batch_size = 32\\nepochs = 200\\nverbose = 0\\nnrows = 10\";\n",
       "                var nbb_cells = Jupyter.notebook.get_cells();\n",
       "                for (var i = 0; i < nbb_cells.length; ++i) {\n",
       "                    if (nbb_cells[i].input_prompt_number == nbb_cell_id) {\n",
       "                        if (nbb_cells[i].get_text() == nbb_unformatted_code) {\n",
       "                             nbb_cells[i].set_text(nbb_formatted_code);\n",
       "                        }\n",
       "                        break;\n",
       "                    }\n",
       "                }\n",
       "            }, 500);\n",
       "            "
      ],
      "text/plain": [
       "<IPython.core.display.Javascript object>"
      ]
     },
     "metadata": {},
     "output_type": "display_data"
    }
   ],
   "source": [
    "batch_size = 32\n",
    "epochs = 200\n",
    "verbose = 0\n",
    "nrows = 10"
   ]
  },
  {
   "cell_type": "code",
   "execution_count": 70,
   "metadata": {},
   "outputs": [
    {
     "data": {
      "application/javascript": [
       "\n",
       "            setTimeout(function() {\n",
       "                var nbb_cell_id = 70;\n",
       "                var nbb_unformatted_code = \"df_intercement = pd.read_csv(\\\"../../../data/processed/Intercement/cement-shipping.csv\\\")\\ndf_partner_i = pd.read_csv(\\\"../../../data/processed/partner_i-Oficial/cement-shipping.csv\\\")\";\n",
       "                var nbb_formatted_code = \"df_intercement = pd.read_csv(\\\"../../../data/processed/Intercement/cement-shipping.csv\\\")\\ndf_partner_i = pd.read_csv(\\n    \\\"../../../data/processed/partner_i-Oficial/cement-shipping.csv\\\"\\n)\";\n",
       "                var nbb_cells = Jupyter.notebook.get_cells();\n",
       "                for (var i = 0; i < nbb_cells.length; ++i) {\n",
       "                    if (nbb_cells[i].input_prompt_number == nbb_cell_id) {\n",
       "                        if (nbb_cells[i].get_text() == nbb_unformatted_code) {\n",
       "                             nbb_cells[i].set_text(nbb_formatted_code);\n",
       "                        }\n",
       "                        break;\n",
       "                    }\n",
       "                }\n",
       "            }, 500);\n",
       "            "
      ],
      "text/plain": [
       "<IPython.core.display.Javascript object>"
      ]
     },
     "metadata": {},
     "output_type": "display_data"
    }
   ],
   "source": [
    "df_intercement = pd.read_csv(\"../../../data/processed/Intercement/cement-shipping.csv\")\n",
    "df_partner_i = pd.read_csv(\n",
    "    \"../../../data/processed/partner_i-Oficial/cement-shipping.csv\"\n",
    ")"
   ]
  },
  {
   "cell_type": "code",
   "execution_count": 71,
   "metadata": {},
   "outputs": [
    {
     "data": {
      "text/html": [
       "<div>\n",
       "<style scoped>\n",
       "    .dataframe tbody tr th:only-of-type {\n",
       "        vertical-align: middle;\n",
       "    }\n",
       "\n",
       "    .dataframe tbody tr th {\n",
       "        vertical-align: top;\n",
       "    }\n",
       "\n",
       "    .dataframe thead th {\n",
       "        text-align: right;\n",
       "    }\n",
       "</style>\n",
       "<table border=\"1\" class=\"dataframe\">\n",
       "  <thead>\n",
       "    <tr style=\"text-align: right;\">\n",
       "      <th></th>\n",
       "      <th>mgo</th>\n",
       "      <th>al2o3</th>\n",
       "      <th>sio2</th>\n",
       "      <th>so3</th>\n",
       "      <th>k2o</th>\n",
       "      <th>fe2o3</th>\n",
       "    </tr>\n",
       "  </thead>\n",
       "  <tbody>\n",
       "    <tr>\n",
       "      <th>0</th>\n",
       "      <td>3.67285</td>\n",
       "      <td>4.27263</td>\n",
       "      <td>18.556379</td>\n",
       "      <td>4.43558</td>\n",
       "      <td>1.21612</td>\n",
       "      <td>2.79746</td>\n",
       "    </tr>\n",
       "    <tr>\n",
       "      <th>1</th>\n",
       "      <td>2.53917</td>\n",
       "      <td>4.30627</td>\n",
       "      <td>18.414921</td>\n",
       "      <td>2.54332</td>\n",
       "      <td>1.22146</td>\n",
       "      <td>3.03862</td>\n",
       "    </tr>\n",
       "    <tr>\n",
       "      <th>2</th>\n",
       "      <td>2.57985</td>\n",
       "      <td>4.15108</td>\n",
       "      <td>18.481070</td>\n",
       "      <td>2.98196</td>\n",
       "      <td>1.12279</td>\n",
       "      <td>3.07343</td>\n",
       "    </tr>\n",
       "    <tr>\n",
       "      <th>3</th>\n",
       "      <td>3.71899</td>\n",
       "      <td>4.25718</td>\n",
       "      <td>18.616140</td>\n",
       "      <td>4.42556</td>\n",
       "      <td>1.19938</td>\n",
       "      <td>2.76630</td>\n",
       "    </tr>\n",
       "    <tr>\n",
       "      <th>4</th>\n",
       "      <td>2.56056</td>\n",
       "      <td>4.18035</td>\n",
       "      <td>17.636169</td>\n",
       "      <td>4.07796</td>\n",
       "      <td>1.20883</td>\n",
       "      <td>3.03309</td>\n",
       "    </tr>\n",
       "    <tr>\n",
       "      <th>...</th>\n",
       "      <td>...</td>\n",
       "      <td>...</td>\n",
       "      <td>...</td>\n",
       "      <td>...</td>\n",
       "      <td>...</td>\n",
       "      <td>...</td>\n",
       "    </tr>\n",
       "    <tr>\n",
       "      <th>1229</th>\n",
       "      <td>2.69335</td>\n",
       "      <td>4.35530</td>\n",
       "      <td>18.473740</td>\n",
       "      <td>4.19836</td>\n",
       "      <td>1.21207</td>\n",
       "      <td>3.02851</td>\n",
       "    </tr>\n",
       "    <tr>\n",
       "      <th>1230</th>\n",
       "      <td>2.25720</td>\n",
       "      <td>4.08649</td>\n",
       "      <td>17.420740</td>\n",
       "      <td>3.76640</td>\n",
       "      <td>1.17111</td>\n",
       "      <td>2.93249</td>\n",
       "    </tr>\n",
       "    <tr>\n",
       "      <th>1231</th>\n",
       "      <td>2.69857</td>\n",
       "      <td>4.42368</td>\n",
       "      <td>18.693199</td>\n",
       "      <td>3.06924</td>\n",
       "      <td>1.21522</td>\n",
       "      <td>3.02881</td>\n",
       "    </tr>\n",
       "    <tr>\n",
       "      <th>1232</th>\n",
       "      <td>2.58789</td>\n",
       "      <td>4.16096</td>\n",
       "      <td>17.674860</td>\n",
       "      <td>4.07574</td>\n",
       "      <td>1.19196</td>\n",
       "      <td>3.04040</td>\n",
       "    </tr>\n",
       "    <tr>\n",
       "      <th>1233</th>\n",
       "      <td>2.34908</td>\n",
       "      <td>4.18099</td>\n",
       "      <td>17.683760</td>\n",
       "      <td>3.97979</td>\n",
       "      <td>1.18948</td>\n",
       "      <td>2.92708</td>\n",
       "    </tr>\n",
       "  </tbody>\n",
       "</table>\n",
       "<p>1234 rows × 6 columns</p>\n",
       "</div>"
      ],
      "text/plain": [
       "          mgo    al2o3       sio2      so3      k2o    fe2o3\n",
       "0     3.67285  4.27263  18.556379  4.43558  1.21612  2.79746\n",
       "1     2.53917  4.30627  18.414921  2.54332  1.22146  3.03862\n",
       "2     2.57985  4.15108  18.481070  2.98196  1.12279  3.07343\n",
       "3     3.71899  4.25718  18.616140  4.42556  1.19938  2.76630\n",
       "4     2.56056  4.18035  17.636169  4.07796  1.20883  3.03309\n",
       "...       ...      ...        ...      ...      ...      ...\n",
       "1229  2.69335  4.35530  18.473740  4.19836  1.21207  3.02851\n",
       "1230  2.25720  4.08649  17.420740  3.76640  1.17111  2.93249\n",
       "1231  2.69857  4.42368  18.693199  3.06924  1.21522  3.02881\n",
       "1232  2.58789  4.16096  17.674860  4.07574  1.19196  3.04040\n",
       "1233  2.34908  4.18099  17.683760  3.97979  1.18948  2.92708\n",
       "\n",
       "[1234 rows x 6 columns]"
      ]
     },
     "execution_count": 71,
     "metadata": {},
     "output_type": "execute_result"
    },
    {
     "data": {
      "application/javascript": [
       "\n",
       "            setTimeout(function() {\n",
       "                var nbb_cell_id = 71;\n",
       "                var nbb_unformatted_code = \"to_drop = set(df_partner_i.columns.str.lower()) - set(df_intercement.columns.str.lower())\\ndf_partner_i.columns = df_partner_i.columns.str.lower()\\ndf_partner_i.drop(to_drop, axis=1)\";\n",
       "                var nbb_formatted_code = \"to_drop = set(df_partner_i.columns.str.lower()) - set(\\n    df_intercement.columns.str.lower()\\n)\\ndf_partner_i.columns = df_partner_i.columns.str.lower()\\ndf_partner_i.drop(to_drop, axis=1)\";\n",
       "                var nbb_cells = Jupyter.notebook.get_cells();\n",
       "                for (var i = 0; i < nbb_cells.length; ++i) {\n",
       "                    if (nbb_cells[i].input_prompt_number == nbb_cell_id) {\n",
       "                        if (nbb_cells[i].get_text() == nbb_unformatted_code) {\n",
       "                             nbb_cells[i].set_text(nbb_formatted_code);\n",
       "                        }\n",
       "                        break;\n",
       "                    }\n",
       "                }\n",
       "            }, 500);\n",
       "            "
      ],
      "text/plain": [
       "<IPython.core.display.Javascript object>"
      ]
     },
     "metadata": {},
     "output_type": "display_data"
    }
   ],
   "source": [
    "to_drop = set(df_partner_i.columns.str.lower()) - set(\n",
    "    df_intercement.columns.str.lower()\n",
    ")\n",
    "df_partner_i.columns = df_partner_i.columns.str.lower()\n",
    "df_partner_i.drop(to_drop, axis=1)"
   ]
  },
  {
   "cell_type": "code",
   "execution_count": 72,
   "metadata": {},
   "outputs": [
    {
     "data": {
      "application/javascript": [
       "\n",
       "            setTimeout(function() {\n",
       "                var nbb_cell_id = 72;\n",
       "                var nbb_unformatted_code = \"COMMON_FEATURES = [\\\"mgo\\\", \\\"al2o3\\\", \\\"sio2\\\", \\\"so3\\\", \\\"k2o\\\", \\\"fe2o3\\\"]\";\n",
       "                var nbb_formatted_code = \"COMMON_FEATURES = [\\\"mgo\\\", \\\"al2o3\\\", \\\"sio2\\\", \\\"so3\\\", \\\"k2o\\\", \\\"fe2o3\\\"]\";\n",
       "                var nbb_cells = Jupyter.notebook.get_cells();\n",
       "                for (var i = 0; i < nbb_cells.length; ++i) {\n",
       "                    if (nbb_cells[i].input_prompt_number == nbb_cell_id) {\n",
       "                        if (nbb_cells[i].get_text() == nbb_unformatted_code) {\n",
       "                             nbb_cells[i].set_text(nbb_formatted_code);\n",
       "                        }\n",
       "                        break;\n",
       "                    }\n",
       "                }\n",
       "            }, 500);\n",
       "            "
      ],
      "text/plain": [
       "<IPython.core.display.Javascript object>"
      ]
     },
     "metadata": {},
     "output_type": "display_data"
    }
   ],
   "source": [
    "COMMON_FEATURES = [\"mgo\", \"al2o3\", \"sio2\", \"so3\", \"k2o\", \"fe2o3\"]"
   ]
  },
  {
   "cell_type": "code",
   "execution_count": 73,
   "metadata": {},
   "outputs": [
    {
     "data": {
      "application/javascript": [
       "\n",
       "            setTimeout(function() {\n",
       "                var nbb_cell_id = 73;\n",
       "                var nbb_unformatted_code = \"df_partner_i = pd.read_csv(\\\"../../../data/processed/partner_i-Oficial/cement-shipping.csv\\\")\\ndf_partner_i = df_partner_i.drop(\\n    [\\n        \\\"1 day Compressive strength\\\",\\n        \\\"3 day Compressive strength\\\",\\n        \\\"7 day Compressive strength\\\",\\n    ],\\n    axis=1,\\n).copy()\\n\\ny = df_partner_i.pop('28 day Compressive strength')\\nx = df_partner_i\\nx.columns = x.columns.str.lower()\\nx = x[COMMON_FEATURES]\\n\\nx, y = to_img_matrix(x.values, y.values, nrows)\\n\\nx_train, x_test, y_train, y_test = train_test_split(\\n    x, y, test_size=0.2, random_state=SEED, shuffle=False\\n)\";\n",
       "                var nbb_formatted_code = \"df_partner_i = pd.read_csv(\\n    \\\"../../../data/processed/partner_i-Oficial/cement-shipping.csv\\\"\\n)\\ndf_partner_i = df_partner_i.drop(\\n    [\\n        \\\"1 day Compressive strength\\\",\\n        \\\"3 day Compressive strength\\\",\\n        \\\"7 day Compressive strength\\\",\\n    ],\\n    axis=1,\\n).copy()\\n\\ny = df_partner_i.pop(\\\"28 day Compressive strength\\\")\\nx = df_partner_i\\nx.columns = x.columns.str.lower()\\nx = x[COMMON_FEATURES]\\n\\nx, y = to_img_matrix(x.values, y.values, nrows)\\n\\nx_train, x_test, y_train, y_test = train_test_split(\\n    x, y, test_size=0.2, random_state=SEED, shuffle=False\\n)\";\n",
       "                var nbb_cells = Jupyter.notebook.get_cells();\n",
       "                for (var i = 0; i < nbb_cells.length; ++i) {\n",
       "                    if (nbb_cells[i].input_prompt_number == nbb_cell_id) {\n",
       "                        if (nbb_cells[i].get_text() == nbb_unformatted_code) {\n",
       "                             nbb_cells[i].set_text(nbb_formatted_code);\n",
       "                        }\n",
       "                        break;\n",
       "                    }\n",
       "                }\n",
       "            }, 500);\n",
       "            "
      ],
      "text/plain": [
       "<IPython.core.display.Javascript object>"
      ]
     },
     "metadata": {},
     "output_type": "display_data"
    }
   ],
   "source": [
    "df_partner_i = pd.read_csv(\n",
    "    \"../../../data/processed/partner_i-Oficial/cement-shipping.csv\"\n",
    ")\n",
    "df_partner_i = df_partner_i.drop(\n",
    "    [\n",
    "        \"1 day Compressive strength\",\n",
    "        \"3 day Compressive strength\",\n",
    "        \"7 day Compressive strength\",\n",
    "    ],\n",
    "    axis=1,\n",
    ").copy()\n",
    "\n",
    "y = df_partner_i.pop(\"28 day Compressive strength\")\n",
    "x = df_partner_i\n",
    "x.columns = x.columns.str.lower()\n",
    "x = x[COMMON_FEATURES]\n",
    "\n",
    "x, y = to_img_matrix(x.values, y.values, nrows)\n",
    "\n",
    "x_train, x_test, y_train, y_test = train_test_split(\n",
    "    x, y, test_size=0.2, random_state=SEED, shuffle=False\n",
    ")"
   ]
  },
  {
   "cell_type": "code",
   "execution_count": 74,
   "metadata": {},
   "outputs": [
    {
     "data": {
      "application/javascript": [
       "\n",
       "            setTimeout(function() {\n",
       "                var nbb_cell_id = 74;\n",
       "                var nbb_unformatted_code = \"set_seeds()\\nmodel = get_model(shape=x_train.shape[1:])\\nsc = StandardScaler3DShape()\\n                  \\nhistory = model.fit(\\n    sc.fit_transform(x_train), y_train, batch_size=batch_size, epochs=epochs, verbose=verbose\\n)\";\n",
       "                var nbb_formatted_code = \"set_seeds()\\nmodel = get_model(shape=x_train.shape[1:])\\nsc = StandardScaler3DShape()\\n\\nhistory = model.fit(\\n    sc.fit_transform(x_train),\\n    y_train,\\n    batch_size=batch_size,\\n    epochs=epochs,\\n    verbose=verbose,\\n)\";\n",
       "                var nbb_cells = Jupyter.notebook.get_cells();\n",
       "                for (var i = 0; i < nbb_cells.length; ++i) {\n",
       "                    if (nbb_cells[i].input_prompt_number == nbb_cell_id) {\n",
       "                        if (nbb_cells[i].get_text() == nbb_unformatted_code) {\n",
       "                             nbb_cells[i].set_text(nbb_formatted_code);\n",
       "                        }\n",
       "                        break;\n",
       "                    }\n",
       "                }\n",
       "            }, 500);\n",
       "            "
      ],
      "text/plain": [
       "<IPython.core.display.Javascript object>"
      ]
     },
     "metadata": {},
     "output_type": "display_data"
    }
   ],
   "source": [
    "set_seeds()\n",
    "model = get_model(shape=x_train.shape[1:])\n",
    "sc = StandardScaler3DShape()\n",
    "\n",
    "history = model.fit(\n",
    "    sc.fit_transform(x_train),\n",
    "    y_train,\n",
    "    batch_size=batch_size,\n",
    "    epochs=epochs,\n",
    "    verbose=verbose,\n",
    ")"
   ]
  },
  {
   "cell_type": "code",
   "execution_count": 75,
   "metadata": {},
   "outputs": [
    {
     "data": {
      "text/plain": [
       "[<matplotlib.lines.Line2D at 0x7fdf642ad6d8>]"
      ]
     },
     "execution_count": 75,
     "metadata": {},
     "output_type": "execute_result"
    },
    {
     "data": {
      "image/png": "[encoded data removed]",
      "text/plain": [
       "<Figure size 432x288 with 1 Axes>"
      ]
     },
     "metadata": {
      "needs_background": "light"
     },
     "output_type": "display_data"
    },
    {
     "data": {
      "application/javascript": [
       "\n",
       "            setTimeout(function() {\n",
       "                var nbb_cell_id = 75;\n",
       "                var nbb_unformatted_code = \"plt.plot(history.history[\\\"RMSE\\\"])\";\n",
       "                var nbb_formatted_code = \"plt.plot(history.history[\\\"RMSE\\\"])\";\n",
       "                var nbb_cells = Jupyter.notebook.get_cells();\n",
       "                for (var i = 0; i < nbb_cells.length; ++i) {\n",
       "                    if (nbb_cells[i].input_prompt_number == nbb_cell_id) {\n",
       "                        if (nbb_cells[i].get_text() == nbb_unformatted_code) {\n",
       "                             nbb_cells[i].set_text(nbb_formatted_code);\n",
       "                        }\n",
       "                        break;\n",
       "                    }\n",
       "                }\n",
       "            }, 500);\n",
       "            "
      ],
      "text/plain": [
       "<IPython.core.display.Javascript object>"
      ]
     },
     "metadata": {},
     "output_type": "display_data"
    }
   ],
   "source": [
    "plt.plot(history.history[\"RMSE\"])"
   ]
  },
  {
   "cell_type": "code",
   "execution_count": 76,
   "metadata": {},
   "outputs": [
    {
     "name": "stdout",
     "output_type": "stream",
     "text": [
      "******\n",
      "[TRAIN]\n",
      "******\n",
      "RMSE: 5.393 (0.000)\n",
      "MAE: 3.966 (0.000)\n",
      "MAPE: 0.101 (0.000)\n",
      "R2: 0.107 (0.000)\n",
      "\n",
      "======================\n",
      "\n",
      "******\n",
      "[TEST]\n",
      "******\n",
      "RMSE: 6.068 (0.000)\n",
      "MAE: 4.816 (0.000)\n",
      "MAPE: 0.124 (0.000)\n",
      "R2: 0.243 (0.000)\n",
      "\n",
      "======================\n",
      "\n"
     ]
    },
    {
     "data": {
      "application/javascript": [
       "\n",
       "            setTimeout(function() {\n",
       "                var nbb_cell_id = 76;\n",
       "                var nbb_unformatted_code = \"y_train_pred = model.predict(sc.transform(x_train))\\ny_test_pred = model.predict(sc.transform(x_test))\\nscores = score_regression_metrics(y_train, y_train_pred, y_test, y_test_pred)\\nprint_scores(scores, METRICS, METRICS_DICT)\";\n",
       "                var nbb_formatted_code = \"y_train_pred = model.predict(sc.transform(x_train))\\ny_test_pred = model.predict(sc.transform(x_test))\\nscores = score_regression_metrics(y_train, y_train_pred, y_test, y_test_pred)\\nprint_scores(scores, METRICS, METRICS_DICT)\";\n",
       "                var nbb_cells = Jupyter.notebook.get_cells();\n",
       "                for (var i = 0; i < nbb_cells.length; ++i) {\n",
       "                    if (nbb_cells[i].input_prompt_number == nbb_cell_id) {\n",
       "                        if (nbb_cells[i].get_text() == nbb_unformatted_code) {\n",
       "                             nbb_cells[i].set_text(nbb_formatted_code);\n",
       "                        }\n",
       "                        break;\n",
       "                    }\n",
       "                }\n",
       "            }, 500);\n",
       "            "
      ],
      "text/plain": [
       "<IPython.core.display.Javascript object>"
      ]
     },
     "metadata": {},
     "output_type": "display_data"
    }
   ],
   "source": [
    "y_train_pred = model.predict(sc.transform(x_train))\n",
    "y_test_pred = model.predict(sc.transform(x_test))\n",
    "scores = score_regression_metrics(y_train, y_train_pred, y_test, y_test_pred)\n",
    "print_scores(scores, METRICS, METRICS_DICT)"
   ]
  },
  {
   "cell_type": "code",
   "execution_count": 77,
   "metadata": {},
   "outputs": [
    {
     "data": {
      "application/javascript": [
       "\n",
       "            setTimeout(function() {\n",
       "                var nbb_cell_id = 77;\n",
       "                var nbb_unformatted_code = \"model.save_weights(\\\"conv1d_weights.h5\\\")\";\n",
       "                var nbb_formatted_code = \"model.save_weights(\\\"conv1d_weights.h5\\\")\";\n",
       "                var nbb_cells = Jupyter.notebook.get_cells();\n",
       "                for (var i = 0; i < nbb_cells.length; ++i) {\n",
       "                    if (nbb_cells[i].input_prompt_number == nbb_cell_id) {\n",
       "                        if (nbb_cells[i].get_text() == nbb_unformatted_code) {\n",
       "                             nbb_cells[i].set_text(nbb_formatted_code);\n",
       "                        }\n",
       "                        break;\n",
       "                    }\n",
       "                }\n",
       "            }, 500);\n",
       "            "
      ],
      "text/plain": [
       "<IPython.core.display.Javascript object>"
      ]
     },
     "metadata": {},
     "output_type": "display_data"
    }
   ],
   "source": [
    "model.save_weights(\"conv1d_weights.h5\")"
   ]
  },
  {
   "cell_type": "markdown",
   "metadata": {},
   "source": [
    "# Fine Tuning"
   ]
  },
  {
   "cell_type": "markdown",
   "metadata": {},
   "source": [
    "# Intercement"
   ]
  },
  {
   "cell_type": "code",
   "execution_count": 78,
   "metadata": {},
   "outputs": [
    {
     "data": {
      "application/javascript": [
       "\n",
       "            setTimeout(function() {\n",
       "                var nbb_cell_id = 78;\n",
       "                var nbb_unformatted_code = \"df = pd.read_csv(\\\"../../../data/processed/Intercement/cement-shipping.csv\\\")\\ndf_no_cs = df.drop(\\n    [\\n        \\\"RC1\\\",\\n        \\\"RC3\\\",\\n        \\\"RC7\\\",\\n    ],\\n    axis=1,\\n).copy()\\n\\ny = df_no_cs.pop(\\\"RC28\\\")\\nx = df_no_cs.drop([\\\"Data\\\"], axis=1)\\nx.columns = x.columns.str.lower()\\nx = x[COMMON_FEATURES]\\nx, y = to_img_matrix(x.values, y.values, nrows)\\n\\nx_train, x_test, y_train, y_test = train_test_split(\\n    x, y, test_size=0.2, random_state=SEED, shuffle=False\\n)\";\n",
       "                var nbb_formatted_code = \"df = pd.read_csv(\\\"../../../data/processed/Intercement/cement-shipping.csv\\\")\\ndf_no_cs = df.drop(\\n    [\\n        \\\"RC1\\\",\\n        \\\"RC3\\\",\\n        \\\"RC7\\\",\\n    ],\\n    axis=1,\\n).copy()\\n\\ny = df_no_cs.pop(\\\"RC28\\\")\\nx = df_no_cs.drop([\\\"Data\\\"], axis=1)\\nx.columns = x.columns.str.lower()\\nx = x[COMMON_FEATURES]\\nx, y = to_img_matrix(x.values, y.values, nrows)\\n\\nx_train, x_test, y_train, y_test = train_test_split(\\n    x, y, test_size=0.2, random_state=SEED, shuffle=False\\n)\";\n",
       "                var nbb_cells = Jupyter.notebook.get_cells();\n",
       "                for (var i = 0; i < nbb_cells.length; ++i) {\n",
       "                    if (nbb_cells[i].input_prompt_number == nbb_cell_id) {\n",
       "                        if (nbb_cells[i].get_text() == nbb_unformatted_code) {\n",
       "                             nbb_cells[i].set_text(nbb_formatted_code);\n",
       "                        }\n",
       "                        break;\n",
       "                    }\n",
       "                }\n",
       "            }, 500);\n",
       "            "
      ],
      "text/plain": [
       "<IPython.core.display.Javascript object>"
      ]
     },
     "metadata": {},
     "output_type": "display_data"
    }
   ],
   "source": [
    "df = pd.read_csv(\"../../../data/processed/Intercement/cement-shipping.csv\")\n",
    "df_no_cs = df.drop(\n",
    "    [\n",
    "        \"RC1\",\n",
    "        \"RC3\",\n",
    "        \"RC7\",\n",
    "    ],\n",
    "    axis=1,\n",
    ").copy()\n",
    "\n",
    "y = df_no_cs.pop(\"RC28\")\n",
    "x = df_no_cs.drop([\"Data\"], axis=1)\n",
    "x.columns = x.columns.str.lower()\n",
    "x = x[COMMON_FEATURES]\n",
    "x, y = to_img_matrix(x.values, y.values, nrows)\n",
    "\n",
    "x_train, x_test, y_train, y_test = train_test_split(\n",
    "    x, y, test_size=0.2, random_state=SEED, shuffle=False\n",
    ")"
   ]
  },
  {
   "cell_type": "code",
   "execution_count": 79,
   "metadata": {},
   "outputs": [
    {
     "data": {
      "application/javascript": [
       "\n",
       "            setTimeout(function() {\n",
       "                var nbb_cell_id = 79;\n",
       "                var nbb_unformatted_code = \"set_seeds()\\n\\nmodel_2 = get_model(include_top=False, shape=x.shape[1:])\\nmodel_2.load_weights(\\\"conv1d_weights.h5\\\", by_name=True)\\nmodel_2.trainable = False\\n\\nflat1 = tf.keras.layers.Flatten()(model_2.layers[-1].output)\\nclass1 = tf.keras.layers.Dense(256, activation='relu')(flat1)\\nclass1 = tf.keras.layers.Dense(128, activation='relu')(class1)\\nclass1 = tf.keras.layers.Dense(64, activation='relu')(class1)\\noutputs = tf.keras.layers.Dense(1, activation='linear')(class1)\\nmodel = tf.keras.Model(model_2.inputs, outputs)\\n\\nmodel.compile(\\n    optimizer=tf.keras.optimizers.Adam(learning_rate=1e-3),\\n    loss=\\\"mse\\\",\\n    metrics=[tf.keras.metrics.RootMeanSquaredError(name=\\\"RMSE\\\")],\\n)\";\n",
       "                var nbb_formatted_code = \"set_seeds()\\n\\nmodel_2 = get_model(include_top=False, shape=x.shape[1:])\\nmodel_2.load_weights(\\\"conv1d_weights.h5\\\", by_name=True)\\nmodel_2.trainable = False\\n\\nflat1 = tf.keras.layers.Flatten()(model_2.layers[-1].output)\\nclass1 = tf.keras.layers.Dense(256, activation=\\\"relu\\\")(flat1)\\nclass1 = tf.keras.layers.Dense(128, activation=\\\"relu\\\")(class1)\\nclass1 = tf.keras.layers.Dense(64, activation=\\\"relu\\\")(class1)\\noutputs = tf.keras.layers.Dense(1, activation=\\\"linear\\\")(class1)\\nmodel = tf.keras.Model(model_2.inputs, outputs)\\n\\nmodel.compile(\\n    optimizer=tf.keras.optimizers.Adam(learning_rate=1e-3),\\n    loss=\\\"mse\\\",\\n    metrics=[tf.keras.metrics.RootMeanSquaredError(name=\\\"RMSE\\\")],\\n)\";\n",
       "                var nbb_cells = Jupyter.notebook.get_cells();\n",
       "                for (var i = 0; i < nbb_cells.length; ++i) {\n",
       "                    if (nbb_cells[i].input_prompt_number == nbb_cell_id) {\n",
       "                        if (nbb_cells[i].get_text() == nbb_unformatted_code) {\n",
       "                             nbb_cells[i].set_text(nbb_formatted_code);\n",
       "                        }\n",
       "                        break;\n",
       "                    }\n",
       "                }\n",
       "            }, 500);\n",
       "            "
      ],
      "text/plain": [
       "<IPython.core.display.Javascript object>"
      ]
     },
     "metadata": {},
     "output_type": "display_data"
    }
   ],
   "source": [
    "set_seeds()\n",
    "\n",
    "model_2 = get_model(include_top=False, shape=x.shape[1:])\n",
    "model_2.load_weights(\"conv1d_weights.h5\", by_name=True)\n",
    "model_2.trainable = False\n",
    "\n",
    "flat1 = tf.keras.layers.Flatten()(model_2.layers[-1].output)\n",
    "class1 = tf.keras.layers.Dense(256, activation=\"relu\")(flat1)\n",
    "class1 = tf.keras.layers.Dense(128, activation=\"relu\")(class1)\n",
    "class1 = tf.keras.layers.Dense(64, activation=\"relu\")(class1)\n",
    "outputs = tf.keras.layers.Dense(1, activation=\"linear\")(class1)\n",
    "model = tf.keras.Model(model_2.inputs, outputs)\n",
    "\n",
    "model.compile(\n",
    "    optimizer=tf.keras.optimizers.Adam(learning_rate=1e-3),\n",
    "    loss=\"mse\",\n",
    "    metrics=[tf.keras.metrics.RootMeanSquaredError(name=\"RMSE\")],\n",
    ")"
   ]
  },
  {
   "cell_type": "code",
   "execution_count": 80,
   "metadata": {},
   "outputs": [
    {
     "data": {
      "application/javascript": [
       "\n",
       "            setTimeout(function() {\n",
       "                var nbb_cell_id = 80;\n",
       "                var nbb_unformatted_code = \"sc = StandardScaler3DShape()\\n\\nhistory = model.fit(\\n    sc.fit_transform(x_train), y_train, batch_size=batch_size, epochs=epochs, verbose=verbose\\n)\";\n",
       "                var nbb_formatted_code = \"sc = StandardScaler3DShape()\\n\\nhistory = model.fit(\\n    sc.fit_transform(x_train),\\n    y_train,\\n    batch_size=batch_size,\\n    epochs=epochs,\\n    verbose=verbose,\\n)\";\n",
       "                var nbb_cells = Jupyter.notebook.get_cells();\n",
       "                for (var i = 0; i < nbb_cells.length; ++i) {\n",
       "                    if (nbb_cells[i].input_prompt_number == nbb_cell_id) {\n",
       "                        if (nbb_cells[i].get_text() == nbb_unformatted_code) {\n",
       "                             nbb_cells[i].set_text(nbb_formatted_code);\n",
       "                        }\n",
       "                        break;\n",
       "                    }\n",
       "                }\n",
       "            }, 500);\n",
       "            "
      ],
      "text/plain": [
       "<IPython.core.display.Javascript object>"
      ]
     },
     "metadata": {},
     "output_type": "display_data"
    }
   ],
   "source": [
    "sc = StandardScaler3DShape()\n",
    "\n",
    "history = model.fit(\n",
    "    sc.fit_transform(x_train),\n",
    "    y_train,\n",
    "    batch_size=batch_size,\n",
    "    epochs=epochs,\n",
    "    verbose=verbose,\n",
    ")"
   ]
  },
  {
   "cell_type": "code",
   "execution_count": 81,
   "metadata": {},
   "outputs": [
    {
     "data": {
      "text/plain": [
       "[<matplotlib.lines.Line2D at 0x7fdf640b19e8>]"
      ]
     },
     "execution_count": 81,
     "metadata": {},
     "output_type": "execute_result"
    },
    {
     "data": {
      "image/png": "[encoded data removed]",
      "text/plain": [
       "<Figure size 432x288 with 1 Axes>"
      ]
     },
     "metadata": {
      "needs_background": "light"
     },
     "output_type": "display_data"
    },
    {
     "data": {
      "application/javascript": [
       "\n",
       "            setTimeout(function() {\n",
       "                var nbb_cell_id = 81;\n",
       "                var nbb_unformatted_code = \"plt.plot(history.history[\\\"RMSE\\\"])\";\n",
       "                var nbb_formatted_code = \"plt.plot(history.history[\\\"RMSE\\\"])\";\n",
       "                var nbb_cells = Jupyter.notebook.get_cells();\n",
       "                for (var i = 0; i < nbb_cells.length; ++i) {\n",
       "                    if (nbb_cells[i].input_prompt_number == nbb_cell_id) {\n",
       "                        if (nbb_cells[i].get_text() == nbb_unformatted_code) {\n",
       "                             nbb_cells[i].set_text(nbb_formatted_code);\n",
       "                        }\n",
       "                        break;\n",
       "                    }\n",
       "                }\n",
       "            }, 500);\n",
       "            "
      ],
      "text/plain": [
       "<IPython.core.display.Javascript object>"
      ]
     },
     "metadata": {},
     "output_type": "display_data"
    }
   ],
   "source": [
    "plt.plot(history.history[\"RMSE\"])"
   ]
  },
  {
   "cell_type": "code",
   "execution_count": 82,
   "metadata": {},
   "outputs": [
    {
     "name": "stdout",
     "output_type": "stream",
     "text": [
      "******\n",
      "[TRAIN]\n",
      "******\n",
      "RMSE: 6.178 (0.000)\n",
      "MAE: 5.222 (0.000)\n",
      "MAPE: 0.118 (0.000)\n",
      "R2: 0.035 (0.000)\n",
      "\n",
      "======================\n",
      "\n",
      "******\n",
      "[TEST]\n",
      "******\n",
      "RMSE: 9.037 (0.000)\n",
      "MAE: 8.226 (0.000)\n",
      "MAPE: 0.147 (0.000)\n",
      "R2: 2.472 (0.000)\n",
      "\n",
      "======================\n",
      "\n"
     ]
    },
    {
     "data": {
      "application/javascript": [
       "\n",
       "            setTimeout(function() {\n",
       "                var nbb_cell_id = 82;\n",
       "                var nbb_unformatted_code = \"y_train_pred = model.predict(sc.transform(x_train))\\ny_test_pred = model.predict(sc.transform(x_test))\\n\\nscores = score_regression_metrics(y_train, y_train_pred, y_test, y_test_pred)\\nprint_scores(scores, METRICS, METRICS_DICT)\";\n",
       "                var nbb_formatted_code = \"y_train_pred = model.predict(sc.transform(x_train))\\ny_test_pred = model.predict(sc.transform(x_test))\\n\\nscores = score_regression_metrics(y_train, y_train_pred, y_test, y_test_pred)\\nprint_scores(scores, METRICS, METRICS_DICT)\";\n",
       "                var nbb_cells = Jupyter.notebook.get_cells();\n",
       "                for (var i = 0; i < nbb_cells.length; ++i) {\n",
       "                    if (nbb_cells[i].input_prompt_number == nbb_cell_id) {\n",
       "                        if (nbb_cells[i].get_text() == nbb_unformatted_code) {\n",
       "                             nbb_cells[i].set_text(nbb_formatted_code);\n",
       "                        }\n",
       "                        break;\n",
       "                    }\n",
       "                }\n",
       "            }, 500);\n",
       "            "
      ],
      "text/plain": [
       "<IPython.core.display.Javascript object>"
      ]
     },
     "metadata": {},
     "output_type": "display_data"
    }
   ],
   "source": [
    "y_train_pred = model.predict(sc.transform(x_train))\n",
    "y_test_pred = model.predict(sc.transform(x_test))\n",
    "\n",
    "scores = score_regression_metrics(y_train, y_train_pred, y_test, y_test_pred)\n",
    "print_scores(scores, METRICS, METRICS_DICT)"
   ]
  },
  {
   "cell_type": "markdown",
   "metadata": {},
   "source": [
    "# Pre Trainning"
   ]
  },
  {
   "cell_type": "markdown",
   "metadata": {},
   "source": [
    "# partner_i + partner_ii"
   ]
  },
  {
   "cell_type": "code",
   "execution_count": 83,
   "metadata": {},
   "outputs": [
    {
     "data": {
      "application/javascript": [
       "\n",
       "            setTimeout(function() {\n",
       "                var nbb_cell_id = 83;\n",
       "                var nbb_unformatted_code = \"batch_size = 32\\nepochs = 200\\nverbose = 0\\ntimesteps = 30\";\n",
       "                var nbb_formatted_code = \"batch_size = 32\\nepochs = 200\\nverbose = 0\\ntimesteps = 30\";\n",
       "                var nbb_cells = Jupyter.notebook.get_cells();\n",
       "                for (var i = 0; i < nbb_cells.length; ++i) {\n",
       "                    if (nbb_cells[i].input_prompt_number == nbb_cell_id) {\n",
       "                        if (nbb_cells[i].get_text() == nbb_unformatted_code) {\n",
       "                             nbb_cells[i].set_text(nbb_formatted_code);\n",
       "                        }\n",
       "                        break;\n",
       "                    }\n",
       "                }\n",
       "            }, 500);\n",
       "            "
      ],
      "text/plain": [
       "<IPython.core.display.Javascript object>"
      ]
     },
     "metadata": {},
     "output_type": "display_data"
    }
   ],
   "source": [
    "batch_size = 32\n",
    "epochs = 200\n",
    "verbose = 0\n",
    "timesteps = 30"
   ]
  },
  {
   "cell_type": "code",
   "execution_count": 84,
   "metadata": {},
   "outputs": [
    {
     "data": {
      "application/javascript": [
       "\n",
       "            setTimeout(function() {\n",
       "                var nbb_cell_id = 84;\n",
       "                var nbb_unformatted_code = \"df_intercement = pd.read_csv(\\\"../../../data/processed/Intercement/cement-shipping.csv\\\")\\ndf_partner_ii = pd.read_csv(\\\"../../../data/processed/partner_ii/cement-shipping.csv\\\")\\ndf_partner_i = pd.read_csv(\\\"../../../data/processed/partner_i-Oficial/cement-shipping.csv\\\")\";\n",
       "                var nbb_formatted_code = \"df_intercement = pd.read_csv(\\\"../../../data/processed/Intercement/cement-shipping.csv\\\")\\ndf_partner_ii = pd.read_csv(\\\"../../../data/processed/partner_ii/cement-shipping.csv\\\")\\ndf_partner_i = pd.read_csv(\\n    \\\"../../../data/processed/partner_i-Oficial/cement-shipping.csv\\\"\\n)\";\n",
       "                var nbb_cells = Jupyter.notebook.get_cells();\n",
       "                for (var i = 0; i < nbb_cells.length; ++i) {\n",
       "                    if (nbb_cells[i].input_prompt_number == nbb_cell_id) {\n",
       "                        if (nbb_cells[i].get_text() == nbb_unformatted_code) {\n",
       "                             nbb_cells[i].set_text(nbb_formatted_code);\n",
       "                        }\n",
       "                        break;\n",
       "                    }\n",
       "                }\n",
       "            }, 500);\n",
       "            "
      ],
      "text/plain": [
       "<IPython.core.display.Javascript object>"
      ]
     },
     "metadata": {},
     "output_type": "display_data"
    }
   ],
   "source": [
    "df_intercement = pd.read_csv(\"../../../data/processed/Intercement/cement-shipping.csv\")\n",
    "df_partner_ii = pd.read_csv(\"../../../data/processed/partner_ii/cement-shipping.csv\")\n",
    "df_partner_i = pd.read_csv(\n",
    "    \"../../../data/processed/partner_i-Oficial/cement-shipping.csv\"\n",
    ")"
   ]
  },
  {
   "cell_type": "code",
   "execution_count": 85,
   "metadata": {},
   "outputs": [
    {
     "data": {
      "text/html": [
       "<div>\n",
       "<style scoped>\n",
       "    .dataframe tbody tr th:only-of-type {\n",
       "        vertical-align: middle;\n",
       "    }\n",
       "\n",
       "    .dataframe tbody tr th {\n",
       "        vertical-align: top;\n",
       "    }\n",
       "\n",
       "    .dataframe thead th {\n",
       "        text-align: right;\n",
       "    }\n",
       "</style>\n",
       "<table border=\"1\" class=\"dataframe\">\n",
       "  <thead>\n",
       "    <tr style=\"text-align: right;\">\n",
       "      <th></th>\n",
       "      <th>mgo</th>\n",
       "      <th>al2o3</th>\n",
       "      <th>sio2</th>\n",
       "      <th>so3</th>\n",
       "      <th>k2o</th>\n",
       "      <th>fe2o3</th>\n",
       "    </tr>\n",
       "  </thead>\n",
       "  <tbody>\n",
       "    <tr>\n",
       "      <th>0</th>\n",
       "      <td>3.67285</td>\n",
       "      <td>4.27263</td>\n",
       "      <td>18.556379</td>\n",
       "      <td>4.43558</td>\n",
       "      <td>1.21612</td>\n",
       "      <td>2.79746</td>\n",
       "    </tr>\n",
       "    <tr>\n",
       "      <th>1</th>\n",
       "      <td>2.53917</td>\n",
       "      <td>4.30627</td>\n",
       "      <td>18.414921</td>\n",
       "      <td>2.54332</td>\n",
       "      <td>1.22146</td>\n",
       "      <td>3.03862</td>\n",
       "    </tr>\n",
       "    <tr>\n",
       "      <th>2</th>\n",
       "      <td>2.57985</td>\n",
       "      <td>4.15108</td>\n",
       "      <td>18.481070</td>\n",
       "      <td>2.98196</td>\n",
       "      <td>1.12279</td>\n",
       "      <td>3.07343</td>\n",
       "    </tr>\n",
       "    <tr>\n",
       "      <th>3</th>\n",
       "      <td>3.71899</td>\n",
       "      <td>4.25718</td>\n",
       "      <td>18.616140</td>\n",
       "      <td>4.42556</td>\n",
       "      <td>1.19938</td>\n",
       "      <td>2.76630</td>\n",
       "    </tr>\n",
       "    <tr>\n",
       "      <th>4</th>\n",
       "      <td>2.56056</td>\n",
       "      <td>4.18035</td>\n",
       "      <td>17.636169</td>\n",
       "      <td>4.07796</td>\n",
       "      <td>1.20883</td>\n",
       "      <td>3.03309</td>\n",
       "    </tr>\n",
       "    <tr>\n",
       "      <th>...</th>\n",
       "      <td>...</td>\n",
       "      <td>...</td>\n",
       "      <td>...</td>\n",
       "      <td>...</td>\n",
       "      <td>...</td>\n",
       "      <td>...</td>\n",
       "    </tr>\n",
       "    <tr>\n",
       "      <th>1229</th>\n",
       "      <td>2.69335</td>\n",
       "      <td>4.35530</td>\n",
       "      <td>18.473740</td>\n",
       "      <td>4.19836</td>\n",
       "      <td>1.21207</td>\n",
       "      <td>3.02851</td>\n",
       "    </tr>\n",
       "    <tr>\n",
       "      <th>1230</th>\n",
       "      <td>2.25720</td>\n",
       "      <td>4.08649</td>\n",
       "      <td>17.420740</td>\n",
       "      <td>3.76640</td>\n",
       "      <td>1.17111</td>\n",
       "      <td>2.93249</td>\n",
       "    </tr>\n",
       "    <tr>\n",
       "      <th>1231</th>\n",
       "      <td>2.69857</td>\n",
       "      <td>4.42368</td>\n",
       "      <td>18.693199</td>\n",
       "      <td>3.06924</td>\n",
       "      <td>1.21522</td>\n",
       "      <td>3.02881</td>\n",
       "    </tr>\n",
       "    <tr>\n",
       "      <th>1232</th>\n",
       "      <td>2.58789</td>\n",
       "      <td>4.16096</td>\n",
       "      <td>17.674860</td>\n",
       "      <td>4.07574</td>\n",
       "      <td>1.19196</td>\n",
       "      <td>3.04040</td>\n",
       "    </tr>\n",
       "    <tr>\n",
       "      <th>1233</th>\n",
       "      <td>2.34908</td>\n",
       "      <td>4.18099</td>\n",
       "      <td>17.683760</td>\n",
       "      <td>3.97979</td>\n",
       "      <td>1.18948</td>\n",
       "      <td>2.92708</td>\n",
       "    </tr>\n",
       "  </tbody>\n",
       "</table>\n",
       "<p>1234 rows × 6 columns</p>\n",
       "</div>"
      ],
      "text/plain": [
       "          mgo    al2o3       sio2      so3      k2o    fe2o3\n",
       "0     3.67285  4.27263  18.556379  4.43558  1.21612  2.79746\n",
       "1     2.53917  4.30627  18.414921  2.54332  1.22146  3.03862\n",
       "2     2.57985  4.15108  18.481070  2.98196  1.12279  3.07343\n",
       "3     3.71899  4.25718  18.616140  4.42556  1.19938  2.76630\n",
       "4     2.56056  4.18035  17.636169  4.07796  1.20883  3.03309\n",
       "...       ...      ...        ...      ...      ...      ...\n",
       "1229  2.69335  4.35530  18.473740  4.19836  1.21207  3.02851\n",
       "1230  2.25720  4.08649  17.420740  3.76640  1.17111  2.93249\n",
       "1231  2.69857  4.42368  18.693199  3.06924  1.21522  3.02881\n",
       "1232  2.58789  4.16096  17.674860  4.07574  1.19196  3.04040\n",
       "1233  2.34908  4.18099  17.683760  3.97979  1.18948  2.92708\n",
       "\n",
       "[1234 rows x 6 columns]"
      ]
     },
     "execution_count": 85,
     "metadata": {},
     "output_type": "execute_result"
    },
    {
     "data": {
      "application/javascript": [
       "\n",
       "            setTimeout(function() {\n",
       "                var nbb_cell_id = 85;\n",
       "                var nbb_unformatted_code = \"to_drop = set(df_partner_i.columns.str.lower()) - set(df_intercement.columns.str.lower())\\ndf_partner_i.columns = df_partner_i.columns.str.lower()\\ndf_partner_i.drop(to_drop, axis=1)\";\n",
       "                var nbb_formatted_code = \"to_drop = set(df_partner_i.columns.str.lower()) - set(\\n    df_intercement.columns.str.lower()\\n)\\ndf_partner_i.columns = df_partner_i.columns.str.lower()\\ndf_partner_i.drop(to_drop, axis=1)\";\n",
       "                var nbb_cells = Jupyter.notebook.get_cells();\n",
       "                for (var i = 0; i < nbb_cells.length; ++i) {\n",
       "                    if (nbb_cells[i].input_prompt_number == nbb_cell_id) {\n",
       "                        if (nbb_cells[i].get_text() == nbb_unformatted_code) {\n",
       "                             nbb_cells[i].set_text(nbb_formatted_code);\n",
       "                        }\n",
       "                        break;\n",
       "                    }\n",
       "                }\n",
       "            }, 500);\n",
       "            "
      ],
      "text/plain": [
       "<IPython.core.display.Javascript object>"
      ]
     },
     "metadata": {},
     "output_type": "display_data"
    }
   ],
   "source": [
    "to_drop = set(df_partner_i.columns.str.lower()) - set(\n",
    "    df_intercement.columns.str.lower()\n",
    ")\n",
    "df_partner_i.columns = df_partner_i.columns.str.lower()\n",
    "df_partner_i.drop(to_drop, axis=1)"
   ]
  },
  {
   "cell_type": "code",
   "execution_count": 86,
   "metadata": {},
   "outputs": [
    {
     "data": {
      "text/html": [
       "<div>\n",
       "<style scoped>\n",
       "    .dataframe tbody tr th:only-of-type {\n",
       "        vertical-align: middle;\n",
       "    }\n",
       "\n",
       "    .dataframe tbody tr th {\n",
       "        vertical-align: top;\n",
       "    }\n",
       "\n",
       "    .dataframe thead th {\n",
       "        text-align: right;\n",
       "    }\n",
       "</style>\n",
       "<table border=\"1\" class=\"dataframe\">\n",
       "  <thead>\n",
       "    <tr style=\"text-align: right;\">\n",
       "      <th></th>\n",
       "      <th>sio2</th>\n",
       "      <th>al2o3</th>\n",
       "      <th>fe2o3</th>\n",
       "      <th>mgo</th>\n",
       "      <th>so3</th>\n",
       "      <th>k2o</th>\n",
       "    </tr>\n",
       "  </thead>\n",
       "  <tbody>\n",
       "    <tr>\n",
       "      <th>0</th>\n",
       "      <td>19.42</td>\n",
       "      <td>4.86</td>\n",
       "      <td>3.22</td>\n",
       "      <td>3.74</td>\n",
       "      <td>3.08</td>\n",
       "      <td>0.68</td>\n",
       "    </tr>\n",
       "    <tr>\n",
       "      <th>1</th>\n",
       "      <td>19.63</td>\n",
       "      <td>4.90</td>\n",
       "      <td>3.30</td>\n",
       "      <td>3.50</td>\n",
       "      <td>2.89</td>\n",
       "      <td>0.65</td>\n",
       "    </tr>\n",
       "    <tr>\n",
       "      <th>2</th>\n",
       "      <td>19.30</td>\n",
       "      <td>4.80</td>\n",
       "      <td>3.23</td>\n",
       "      <td>3.60</td>\n",
       "      <td>3.20</td>\n",
       "      <td>0.67</td>\n",
       "    </tr>\n",
       "    <tr>\n",
       "      <th>3</th>\n",
       "      <td>19.28</td>\n",
       "      <td>4.81</td>\n",
       "      <td>3.29</td>\n",
       "      <td>3.48</td>\n",
       "      <td>2.85</td>\n",
       "      <td>0.66</td>\n",
       "    </tr>\n",
       "    <tr>\n",
       "      <th>4</th>\n",
       "      <td>19.29</td>\n",
       "      <td>4.85</td>\n",
       "      <td>3.33</td>\n",
       "      <td>3.47</td>\n",
       "      <td>2.87</td>\n",
       "      <td>0.69</td>\n",
       "    </tr>\n",
       "    <tr>\n",
       "      <th>...</th>\n",
       "      <td>...</td>\n",
       "      <td>...</td>\n",
       "      <td>...</td>\n",
       "      <td>...</td>\n",
       "      <td>...</td>\n",
       "      <td>...</td>\n",
       "    </tr>\n",
       "    <tr>\n",
       "      <th>1052</th>\n",
       "      <td>19.52</td>\n",
       "      <td>4.39</td>\n",
       "      <td>3.25</td>\n",
       "      <td>2.26</td>\n",
       "      <td>3.39</td>\n",
       "      <td>0.61</td>\n",
       "    </tr>\n",
       "    <tr>\n",
       "      <th>1053</th>\n",
       "      <td>18.11</td>\n",
       "      <td>4.19</td>\n",
       "      <td>3.03</td>\n",
       "      <td>2.26</td>\n",
       "      <td>3.13</td>\n",
       "      <td>0.59</td>\n",
       "    </tr>\n",
       "    <tr>\n",
       "      <th>1054</th>\n",
       "      <td>18.10</td>\n",
       "      <td>4.21</td>\n",
       "      <td>3.03</td>\n",
       "      <td>2.26</td>\n",
       "      <td>3.08</td>\n",
       "      <td>0.59</td>\n",
       "    </tr>\n",
       "    <tr>\n",
       "      <th>1055</th>\n",
       "      <td>18.02</td>\n",
       "      <td>4.15</td>\n",
       "      <td>2.99</td>\n",
       "      <td>2.33</td>\n",
       "      <td>3.12</td>\n",
       "      <td>0.60</td>\n",
       "    </tr>\n",
       "    <tr>\n",
       "      <th>1056</th>\n",
       "      <td>19.38</td>\n",
       "      <td>4.44</td>\n",
       "      <td>3.22</td>\n",
       "      <td>2.35</td>\n",
       "      <td>2.91</td>\n",
       "      <td>0.62</td>\n",
       "    </tr>\n",
       "  </tbody>\n",
       "</table>\n",
       "<p>1057 rows × 6 columns</p>\n",
       "</div>"
      ],
      "text/plain": [
       "       sio2  al2o3  fe2o3   mgo   so3   k2o\n",
       "0     19.42   4.86   3.22  3.74  3.08  0.68\n",
       "1     19.63   4.90   3.30  3.50  2.89  0.65\n",
       "2     19.30   4.80   3.23  3.60  3.20  0.67\n",
       "3     19.28   4.81   3.29  3.48  2.85  0.66\n",
       "4     19.29   4.85   3.33  3.47  2.87  0.69\n",
       "...     ...    ...    ...   ...   ...   ...\n",
       "1052  19.52   4.39   3.25  2.26  3.39  0.61\n",
       "1053  18.11   4.19   3.03  2.26  3.13  0.59\n",
       "1054  18.10   4.21   3.03  2.26  3.08  0.59\n",
       "1055  18.02   4.15   2.99  2.33  3.12  0.60\n",
       "1056  19.38   4.44   3.22  2.35  2.91  0.62\n",
       "\n",
       "[1057 rows x 6 columns]"
      ]
     },
     "execution_count": 86,
     "metadata": {},
     "output_type": "execute_result"
    },
    {
     "data": {
      "application/javascript": [
       "\n",
       "            setTimeout(function() {\n",
       "                var nbb_cell_id = 86;\n",
       "                var nbb_unformatted_code = \"to_drop = set(df_partner_ii.columns.str.lower()) - set(df_intercement.columns.str.lower())\\ndf_partner_ii.columns = df_partner_ii.columns.str.lower()\\ndf_partner_ii.drop(to_drop, axis=1)\";\n",
       "                var nbb_formatted_code = \"to_drop = set(df_partner_ii.columns.str.lower()) - set(\\n    df_intercement.columns.str.lower()\\n)\\ndf_partner_ii.columns = df_partner_ii.columns.str.lower()\\ndf_partner_ii.drop(to_drop, axis=1)\";\n",
       "                var nbb_cells = Jupyter.notebook.get_cells();\n",
       "                for (var i = 0; i < nbb_cells.length; ++i) {\n",
       "                    if (nbb_cells[i].input_prompt_number == nbb_cell_id) {\n",
       "                        if (nbb_cells[i].get_text() == nbb_unformatted_code) {\n",
       "                             nbb_cells[i].set_text(nbb_formatted_code);\n",
       "                        }\n",
       "                        break;\n",
       "                    }\n",
       "                }\n",
       "            }, 500);\n",
       "            "
      ],
      "text/plain": [
       "<IPython.core.display.Javascript object>"
      ]
     },
     "metadata": {},
     "output_type": "display_data"
    }
   ],
   "source": [
    "to_drop = set(df_partner_ii.columns.str.lower()) - set(\n",
    "    df_intercement.columns.str.lower()\n",
    ")\n",
    "df_partner_ii.columns = df_partner_ii.columns.str.lower()\n",
    "df_partner_ii.drop(to_drop, axis=1)"
   ]
  },
  {
   "cell_type": "code",
   "execution_count": 87,
   "metadata": {},
   "outputs": [
    {
     "data": {
      "application/javascript": [
       "\n",
       "            setTimeout(function() {\n",
       "                var nbb_cell_id = 87;\n",
       "                var nbb_unformatted_code = \"COMMON_FEATURES = [\\\"mgo\\\", \\\"al2o3\\\", \\\"sio2\\\", \\\"so3\\\", \\\"k2o\\\", \\\"fe2o3\\\"]\";\n",
       "                var nbb_formatted_code = \"COMMON_FEATURES = [\\\"mgo\\\", \\\"al2o3\\\", \\\"sio2\\\", \\\"so3\\\", \\\"k2o\\\", \\\"fe2o3\\\"]\";\n",
       "                var nbb_cells = Jupyter.notebook.get_cells();\n",
       "                for (var i = 0; i < nbb_cells.length; ++i) {\n",
       "                    if (nbb_cells[i].input_prompt_number == nbb_cell_id) {\n",
       "                        if (nbb_cells[i].get_text() == nbb_unformatted_code) {\n",
       "                             nbb_cells[i].set_text(nbb_formatted_code);\n",
       "                        }\n",
       "                        break;\n",
       "                    }\n",
       "                }\n",
       "            }, 500);\n",
       "            "
      ],
      "text/plain": [
       "<IPython.core.display.Javascript object>"
      ]
     },
     "metadata": {},
     "output_type": "display_data"
    }
   ],
   "source": [
    "COMMON_FEATURES = [\"mgo\", \"al2o3\", \"sio2\", \"so3\", \"k2o\", \"fe2o3\"]"
   ]
  },
  {
   "cell_type": "code",
   "execution_count": 88,
   "metadata": {},
   "outputs": [
    {
     "data": {
      "application/javascript": [
       "\n",
       "            setTimeout(function() {\n",
       "                var nbb_cell_id = 88;\n",
       "                var nbb_unformatted_code = \"df_partner_ii = pd.read_csv(\\\"../../../data/processed/partner_ii/cement-shipping.csv\\\")\\ndf_no_cs = df_partner_ii.drop(\\n    [\\n        \\\"strength_1d\\\",\\n        \\\"strength_3d\\\",\\n        \\\"strength_7d\\\"\\n    ],\\n    axis=1,\\n).copy()\\ny_1 = df_no_cs.pop(\\\"strength_28d\\\")\\nx_1 = df_no_cs.rename({\\\"sample_date\\\": \\\"date\\\"}, axis=1)\\n\\ndf_partner_i = pd.read_csv(\\\"../../../data/processed/partner_i-Oficial/cement-shipping.csv\\\")\\ndf_partner_i = df_partner_i.drop(\\n    [\\n        \\\"1 day Compressive strength\\\",\\n        \\\"3 day Compressive strength\\\",\\n        \\\"7 day Compressive strength\\\",\\n    ],\\n    axis=1,\\n).copy()\\n\\ny_2 = df_partner_i.pop('28 day Compressive strength')\\nx_2 = df_partner_i\\n\\nx_2.columns= x_2.columns.str.lower()\\nx_2 = x_2.drop(set(x_2.columns) - set(x_1.columns), axis=1)\\nx_1 = x_1[x_2.columns]\\n\\n\\ny_1.name = \\\"cs28\\\"\\ny_2.name = \\\"cs28\\\"\\n\\nx = pd.concat([x_1, x_2], axis=0).reset_index(drop=True)\\ny = pd.concat([y_1, y_2], axis=0).reset_index(drop=True)\\n\\nx = pd.concat([x, y], axis=1)\\nx[\\\"date\\\"] = x[\\\"date\\\"].apply(lambda x: x[:10])\\nx[\\\"date\\\"] = pd.to_datetime(x[\\\"date\\\"])\\nx = x.sort_values(by=\\\"date\\\").reset_index(drop=True)\\ny = x.pop(\\\"cs28\\\")\\nx.columns = x.columns.str.lower()\\nx = x[COMMON_FEATURES]\\n\\nx, y = to_img_matrix(x.values, y.values, nrows)\\n\\nx_train, x_test, y_train, y_test = train_test_split(\\n    x, y, test_size=0.2, random_state=SEED, shuffle=False\\n)\";\n",
       "                var nbb_formatted_code = \"df_partner_ii = pd.read_csv(\\\"../../../data/processed/partner_ii/cement-shipping.csv\\\")\\ndf_no_cs = df_partner_ii.drop(\\n    [\\\"strength_1d\\\", \\\"strength_3d\\\", \\\"strength_7d\\\"],\\n    axis=1,\\n).copy()\\ny_1 = df_no_cs.pop(\\\"strength_28d\\\")\\nx_1 = df_no_cs.rename({\\\"sample_date\\\": \\\"date\\\"}, axis=1)\\n\\ndf_partner_i = pd.read_csv(\\n    \\\"../../../data/processed/partner_i-Oficial/cement-shipping.csv\\\"\\n)\\ndf_partner_i = df_partner_i.drop(\\n    [\\n        \\\"1 day Compressive strength\\\",\\n        \\\"3 day Compressive strength\\\",\\n        \\\"7 day Compressive strength\\\",\\n    ],\\n    axis=1,\\n).copy()\\n\\ny_2 = df_partner_i.pop(\\\"28 day Compressive strength\\\")\\nx_2 = df_partner_i\\n\\nx_2.columns = x_2.columns.str.lower()\\nx_2 = x_2.drop(set(x_2.columns) - set(x_1.columns), axis=1)\\nx_1 = x_1[x_2.columns]\\n\\n\\ny_1.name = \\\"cs28\\\"\\ny_2.name = \\\"cs28\\\"\\n\\nx = pd.concat([x_1, x_2], axis=0).reset_index(drop=True)\\ny = pd.concat([y_1, y_2], axis=0).reset_index(drop=True)\\n\\nx = pd.concat([x, y], axis=1)\\nx[\\\"date\\\"] = x[\\\"date\\\"].apply(lambda x: x[:10])\\nx[\\\"date\\\"] = pd.to_datetime(x[\\\"date\\\"])\\nx = x.sort_values(by=\\\"date\\\").reset_index(drop=True)\\ny = x.pop(\\\"cs28\\\")\\nx.columns = x.columns.str.lower()\\nx = x[COMMON_FEATURES]\\n\\nx, y = to_img_matrix(x.values, y.values, nrows)\\n\\nx_train, x_test, y_train, y_test = train_test_split(\\n    x, y, test_size=0.2, random_state=SEED, shuffle=False\\n)\";\n",
       "                var nbb_cells = Jupyter.notebook.get_cells();\n",
       "                for (var i = 0; i < nbb_cells.length; ++i) {\n",
       "                    if (nbb_cells[i].input_prompt_number == nbb_cell_id) {\n",
       "                        if (nbb_cells[i].get_text() == nbb_unformatted_code) {\n",
       "                             nbb_cells[i].set_text(nbb_formatted_code);\n",
       "                        }\n",
       "                        break;\n",
       "                    }\n",
       "                }\n",
       "            }, 500);\n",
       "            "
      ],
      "text/plain": [
       "<IPython.core.display.Javascript object>"
      ]
     },
     "metadata": {},
     "output_type": "display_data"
    }
   ],
   "source": [
    "df_partner_ii = pd.read_csv(\"../../../data/processed/partner_ii/cement-shipping.csv\")\n",
    "df_no_cs = df_partner_ii.drop(\n",
    "    [\"strength_1d\", \"strength_3d\", \"strength_7d\"],\n",
    "    axis=1,\n",
    ").copy()\n",
    "y_1 = df_no_cs.pop(\"strength_28d\")\n",
    "x_1 = df_no_cs.rename({\"sample_date\": \"date\"}, axis=1)\n",
    "\n",
    "df_partner_i = pd.read_csv(\n",
    "    \"../../../data/processed/partner_i-Oficial/cement-shipping.csv\"\n",
    ")\n",
    "df_partner_i = df_partner_i.drop(\n",
    "    [\n",
    "        \"1 day Compressive strength\",\n",
    "        \"3 day Compressive strength\",\n",
    "        \"7 day Compressive strength\",\n",
    "    ],\n",
    "    axis=1,\n",
    ").copy()\n",
    "\n",
    "y_2 = df_partner_i.pop(\"28 day Compressive strength\")\n",
    "x_2 = df_partner_i\n",
    "\n",
    "x_2.columns = x_2.columns.str.lower()\n",
    "x_2 = x_2.drop(set(x_2.columns) - set(x_1.columns), axis=1)\n",
    "x_1 = x_1[x_2.columns]\n",
    "\n",
    "\n",
    "y_1.name = \"cs28\"\n",
    "y_2.name = \"cs28\"\n",
    "\n",
    "x = pd.concat([x_1, x_2], axis=0).reset_index(drop=True)\n",
    "y = pd.concat([y_1, y_2], axis=0).reset_index(drop=True)\n",
    "\n",
    "x = pd.concat([x, y], axis=1)\n",
    "x[\"date\"] = x[\"date\"].apply(lambda x: x[:10])\n",
    "x[\"date\"] = pd.to_datetime(x[\"date\"])\n",
    "x = x.sort_values(by=\"date\").reset_index(drop=True)\n",
    "y = x.pop(\"cs28\")\n",
    "x.columns = x.columns.str.lower()\n",
    "x = x[COMMON_FEATURES]\n",
    "\n",
    "x, y = to_img_matrix(x.values, y.values, nrows)\n",
    "\n",
    "x_train, x_test, y_train, y_test = train_test_split(\n",
    "    x, y, test_size=0.2, random_state=SEED, shuffle=False\n",
    ")"
   ]
  },
  {
   "cell_type": "code",
   "execution_count": 89,
   "metadata": {},
   "outputs": [
    {
     "data": {
      "application/javascript": [
       "\n",
       "            setTimeout(function() {\n",
       "                var nbb_cell_id = 89;\n",
       "                var nbb_unformatted_code = \"set_seeds()\\nmodel = get_model(shape=x_train.shape[1:])\\nsc = StandardScaler3DShape()\\n                  \\nhistory = model.fit(\\n    sc.fit_transform(x_train), y_train, batch_size=batch_size, epochs=epochs, verbose=verbose\\n)\";\n",
       "                var nbb_formatted_code = \"set_seeds()\\nmodel = get_model(shape=x_train.shape[1:])\\nsc = StandardScaler3DShape()\\n\\nhistory = model.fit(\\n    sc.fit_transform(x_train),\\n    y_train,\\n    batch_size=batch_size,\\n    epochs=epochs,\\n    verbose=verbose,\\n)\";\n",
       "                var nbb_cells = Jupyter.notebook.get_cells();\n",
       "                for (var i = 0; i < nbb_cells.length; ++i) {\n",
       "                    if (nbb_cells[i].input_prompt_number == nbb_cell_id) {\n",
       "                        if (nbb_cells[i].get_text() == nbb_unformatted_code) {\n",
       "                             nbb_cells[i].set_text(nbb_formatted_code);\n",
       "                        }\n",
       "                        break;\n",
       "                    }\n",
       "                }\n",
       "            }, 500);\n",
       "            "
      ],
      "text/plain": [
       "<IPython.core.display.Javascript object>"
      ]
     },
     "metadata": {},
     "output_type": "display_data"
    }
   ],
   "source": [
    "set_seeds()\n",
    "model = get_model(shape=x_train.shape[1:])\n",
    "sc = StandardScaler3DShape()\n",
    "\n",
    "history = model.fit(\n",
    "    sc.fit_transform(x_train),\n",
    "    y_train,\n",
    "    batch_size=batch_size,\n",
    "    epochs=epochs,\n",
    "    verbose=verbose,\n",
    ")"
   ]
  },
  {
   "cell_type": "code",
   "execution_count": 90,
   "metadata": {},
   "outputs": [
    {
     "data": {
      "text/plain": [
       "[<matplotlib.lines.Line2D at 0x7fdf47ea2748>]"
      ]
     },
     "execution_count": 90,
     "metadata": {},
     "output_type": "execute_result"
    },
    {
     "data": {
      "image/png": "[encoded data removed]",
      "text/plain": [
       "<Figure size 432x288 with 1 Axes>"
      ]
     },
     "metadata": {
      "needs_background": "light"
     },
     "output_type": "display_data"
    },
    {
     "data": {
      "application/javascript": [
       "\n",
       "            setTimeout(function() {\n",
       "                var nbb_cell_id = 90;\n",
       "                var nbb_unformatted_code = \"plt.plot(history.history[\\\"RMSE\\\"])\";\n",
       "                var nbb_formatted_code = \"plt.plot(history.history[\\\"RMSE\\\"])\";\n",
       "                var nbb_cells = Jupyter.notebook.get_cells();\n",
       "                for (var i = 0; i < nbb_cells.length; ++i) {\n",
       "                    if (nbb_cells[i].input_prompt_number == nbb_cell_id) {\n",
       "                        if (nbb_cells[i].get_text() == nbb_unformatted_code) {\n",
       "                             nbb_cells[i].set_text(nbb_formatted_code);\n",
       "                        }\n",
       "                        break;\n",
       "                    }\n",
       "                }\n",
       "            }, 500);\n",
       "            "
      ],
      "text/plain": [
       "<IPython.core.display.Javascript object>"
      ]
     },
     "metadata": {},
     "output_type": "display_data"
    }
   ],
   "source": [
    "plt.plot(history.history[\"RMSE\"])"
   ]
  },
  {
   "cell_type": "code",
   "execution_count": 91,
   "metadata": {},
   "outputs": [
    {
     "name": "stdout",
     "output_type": "stream",
     "text": [
      "******\n",
      "[TRAIN]\n",
      "******\n",
      "RMSE: 5.133 (0.000)\n",
      "MAE: 4.342 (0.000)\n",
      "MAPE: 0.098 (0.000)\n",
      "R2: 0.569 (0.000)\n",
      "\n",
      "======================\n",
      "\n",
      "******\n",
      "[TEST]\n",
      "******\n",
      "RMSE: 5.522 (0.000)\n",
      "MAE: 4.944 (0.000)\n",
      "MAPE: 0.112 (0.000)\n",
      "R2: 0.329 (0.000)\n",
      "\n",
      "======================\n",
      "\n"
     ]
    },
    {
     "data": {
      "application/javascript": [
       "\n",
       "            setTimeout(function() {\n",
       "                var nbb_cell_id = 91;\n",
       "                var nbb_unformatted_code = \"y_train_pred = model.predict(sc.transform(x_train))\\ny_test_pred = model.predict(sc.transform(x_test))\\nscores = score_regression_metrics(y_train, y_train_pred, y_test, y_test_pred)\\nprint_scores(scores, METRICS, METRICS_DICT)\";\n",
       "                var nbb_formatted_code = \"y_train_pred = model.predict(sc.transform(x_train))\\ny_test_pred = model.predict(sc.transform(x_test))\\nscores = score_regression_metrics(y_train, y_train_pred, y_test, y_test_pred)\\nprint_scores(scores, METRICS, METRICS_DICT)\";\n",
       "                var nbb_cells = Jupyter.notebook.get_cells();\n",
       "                for (var i = 0; i < nbb_cells.length; ++i) {\n",
       "                    if (nbb_cells[i].input_prompt_number == nbb_cell_id) {\n",
       "                        if (nbb_cells[i].get_text() == nbb_unformatted_code) {\n",
       "                             nbb_cells[i].set_text(nbb_formatted_code);\n",
       "                        }\n",
       "                        break;\n",
       "                    }\n",
       "                }\n",
       "            }, 500);\n",
       "            "
      ],
      "text/plain": [
       "<IPython.core.display.Javascript object>"
      ]
     },
     "metadata": {},
     "output_type": "display_data"
    }
   ],
   "source": [
    "y_train_pred = model.predict(sc.transform(x_train))\n",
    "y_test_pred = model.predict(sc.transform(x_test))\n",
    "scores = score_regression_metrics(y_train, y_train_pred, y_test, y_test_pred)\n",
    "print_scores(scores, METRICS, METRICS_DICT)"
   ]
  },
  {
   "cell_type": "code",
   "execution_count": 92,
   "metadata": {},
   "outputs": [
    {
     "data": {
      "application/javascript": [
       "\n",
       "            setTimeout(function() {\n",
       "                var nbb_cell_id = 92;\n",
       "                var nbb_unformatted_code = \"model.save_weights(\\\"conv1d_weights.h5\\\")\";\n",
       "                var nbb_formatted_code = \"model.save_weights(\\\"conv1d_weights.h5\\\")\";\n",
       "                var nbb_cells = Jupyter.notebook.get_cells();\n",
       "                for (var i = 0; i < nbb_cells.length; ++i) {\n",
       "                    if (nbb_cells[i].input_prompt_number == nbb_cell_id) {\n",
       "                        if (nbb_cells[i].get_text() == nbb_unformatted_code) {\n",
       "                             nbb_cells[i].set_text(nbb_formatted_code);\n",
       "                        }\n",
       "                        break;\n",
       "                    }\n",
       "                }\n",
       "            }, 500);\n",
       "            "
      ],
      "text/plain": [
       "<IPython.core.display.Javascript object>"
      ]
     },
     "metadata": {},
     "output_type": "display_data"
    }
   ],
   "source": [
    "model.save_weights(\"conv1d_weights.h5\")"
   ]
  },
  {
   "cell_type": "markdown",
   "metadata": {},
   "source": [
    "# Fine Tuning"
   ]
  },
  {
   "cell_type": "markdown",
   "metadata": {},
   "source": [
    "# Intercement"
   ]
  },
  {
   "cell_type": "code",
   "execution_count": 93,
   "metadata": {},
   "outputs": [
    {
     "data": {
      "application/javascript": [
       "\n",
       "            setTimeout(function() {\n",
       "                var nbb_cell_id = 93;\n",
       "                var nbb_unformatted_code = \"df = pd.read_csv(\\\"../../../data/processed/Intercement/cement-shipping.csv\\\")\\ndf_no_cs = df.drop(\\n    [\\n        \\\"RC1\\\",\\n        \\\"RC3\\\",\\n        \\\"RC7\\\",\\n    ],\\n    axis=1,\\n).copy()\\n\\ny = df_no_cs.pop(\\\"RC28\\\")\\nx = df_no_cs.drop([\\\"Data\\\"], axis=1)\\nx.columns = x.columns.str.lower()\\nx = x[COMMON_FEATURES]\\nx, y = to_img_matrix(x.values, y.values, nrows)\\n\\nx_train, x_test, y_train, y_test = train_test_split(\\n    x, y, test_size=0.2, random_state=SEED, shuffle=False\\n)\";\n",
       "                var nbb_formatted_code = \"df = pd.read_csv(\\\"../../../data/processed/Intercement/cement-shipping.csv\\\")\\ndf_no_cs = df.drop(\\n    [\\n        \\\"RC1\\\",\\n        \\\"RC3\\\",\\n        \\\"RC7\\\",\\n    ],\\n    axis=1,\\n).copy()\\n\\ny = df_no_cs.pop(\\\"RC28\\\")\\nx = df_no_cs.drop([\\\"Data\\\"], axis=1)\\nx.columns = x.columns.str.lower()\\nx = x[COMMON_FEATURES]\\nx, y = to_img_matrix(x.values, y.values, nrows)\\n\\nx_train, x_test, y_train, y_test = train_test_split(\\n    x, y, test_size=0.2, random_state=SEED, shuffle=False\\n)\";\n",
       "                var nbb_cells = Jupyter.notebook.get_cells();\n",
       "                for (var i = 0; i < nbb_cells.length; ++i) {\n",
       "                    if (nbb_cells[i].input_prompt_number == nbb_cell_id) {\n",
       "                        if (nbb_cells[i].get_text() == nbb_unformatted_code) {\n",
       "                             nbb_cells[i].set_text(nbb_formatted_code);\n",
       "                        }\n",
       "                        break;\n",
       "                    }\n",
       "                }\n",
       "            }, 500);\n",
       "            "
      ],
      "text/plain": [
       "<IPython.core.display.Javascript object>"
      ]
     },
     "metadata": {},
     "output_type": "display_data"
    }
   ],
   "source": [
    "df = pd.read_csv(\"../../../data/processed/Intercement/cement-shipping.csv\")\n",
    "df_no_cs = df.drop(\n",
    "    [\n",
    "        \"RC1\",\n",
    "        \"RC3\",\n",
    "        \"RC7\",\n",
    "    ],\n",
    "    axis=1,\n",
    ").copy()\n",
    "\n",
    "y = df_no_cs.pop(\"RC28\")\n",
    "x = df_no_cs.drop([\"Data\"], axis=1)\n",
    "x.columns = x.columns.str.lower()\n",
    "x = x[COMMON_FEATURES]\n",
    "x, y = to_img_matrix(x.values, y.values, nrows)\n",
    "\n",
    "x_train, x_test, y_train, y_test = train_test_split(\n",
    "    x, y, test_size=0.2, random_state=SEED, shuffle=False\n",
    ")"
   ]
  },
  {
   "cell_type": "code",
   "execution_count": 94,
   "metadata": {},
   "outputs": [
    {
     "data": {
      "application/javascript": [
       "\n",
       "            setTimeout(function() {\n",
       "                var nbb_cell_id = 94;\n",
       "                var nbb_unformatted_code = \"set_seeds()\\n\\nmodel_2 = get_model(include_top=False, shape=x.shape[1:])\\nmodel_2.load_weights(\\\"conv1d_weights.h5\\\", by_name=True)\\nmodel_2.trainable = False\\n\\nflat1 = tf.keras.layers.Flatten()(model_2.layers[-1].output)\\nclass1 = tf.keras.layers.Dense(256, activation='relu')(flat1)\\nclass1 = tf.keras.layers.Dense(128, activation='relu')(class1)\\nclass1 = tf.keras.layers.Dense(64, activation='relu')(class1)\\noutputs = tf.keras.layers.Dense(1, activation='linear')(class1)\\nmodel = tf.keras.Model(model_2.inputs, outputs)\\n\\nmodel.compile(\\n    optimizer=tf.keras.optimizers.Adam(learning_rate=1e-3),\\n    loss=\\\"mse\\\",\\n    metrics=[tf.keras.metrics.RootMeanSquaredError(name=\\\"RMSE\\\")],\\n)\";\n",
       "                var nbb_formatted_code = \"set_seeds()\\n\\nmodel_2 = get_model(include_top=False, shape=x.shape[1:])\\nmodel_2.load_weights(\\\"conv1d_weights.h5\\\", by_name=True)\\nmodel_2.trainable = False\\n\\nflat1 = tf.keras.layers.Flatten()(model_2.layers[-1].output)\\nclass1 = tf.keras.layers.Dense(256, activation=\\\"relu\\\")(flat1)\\nclass1 = tf.keras.layers.Dense(128, activation=\\\"relu\\\")(class1)\\nclass1 = tf.keras.layers.Dense(64, activation=\\\"relu\\\")(class1)\\noutputs = tf.keras.layers.Dense(1, activation=\\\"linear\\\")(class1)\\nmodel = tf.keras.Model(model_2.inputs, outputs)\\n\\nmodel.compile(\\n    optimizer=tf.keras.optimizers.Adam(learning_rate=1e-3),\\n    loss=\\\"mse\\\",\\n    metrics=[tf.keras.metrics.RootMeanSquaredError(name=\\\"RMSE\\\")],\\n)\";\n",
       "                var nbb_cells = Jupyter.notebook.get_cells();\n",
       "                for (var i = 0; i < nbb_cells.length; ++i) {\n",
       "                    if (nbb_cells[i].input_prompt_number == nbb_cell_id) {\n",
       "                        if (nbb_cells[i].get_text() == nbb_unformatted_code) {\n",
       "                             nbb_cells[i].set_text(nbb_formatted_code);\n",
       "                        }\n",
       "                        break;\n",
       "                    }\n",
       "                }\n",
       "            }, 500);\n",
       "            "
      ],
      "text/plain": [
       "<IPython.core.display.Javascript object>"
      ]
     },
     "metadata": {},
     "output_type": "display_data"
    }
   ],
   "source": [
    "set_seeds()\n",
    "\n",
    "model_2 = get_model(include_top=False, shape=x.shape[1:])\n",
    "model_2.load_weights(\"conv1d_weights.h5\", by_name=True)\n",
    "model_2.trainable = False\n",
    "\n",
    "flat1 = tf.keras.layers.Flatten()(model_2.layers[-1].output)\n",
    "class1 = tf.keras.layers.Dense(256, activation=\"relu\")(flat1)\n",
    "class1 = tf.keras.layers.Dense(128, activation=\"relu\")(class1)\n",
    "class1 = tf.keras.layers.Dense(64, activation=\"relu\")(class1)\n",
    "outputs = tf.keras.layers.Dense(1, activation=\"linear\")(class1)\n",
    "model = tf.keras.Model(model_2.inputs, outputs)\n",
    "\n",
    "model.compile(\n",
    "    optimizer=tf.keras.optimizers.Adam(learning_rate=1e-3),\n",
    "    loss=\"mse\",\n",
    "    metrics=[tf.keras.metrics.RootMeanSquaredError(name=\"RMSE\")],\n",
    ")"
   ]
  },
  {
   "cell_type": "code",
   "execution_count": 95,
   "metadata": {},
   "outputs": [
    {
     "data": {
      "application/javascript": [
       "\n",
       "            setTimeout(function() {\n",
       "                var nbb_cell_id = 95;\n",
       "                var nbb_unformatted_code = \"sc = StandardScaler3DShape()\\n\\nhistory = model.fit(\\n    sc.fit_transform(x_train), y_train, batch_size=batch_size, epochs=epochs, verbose=verbose\\n)\";\n",
       "                var nbb_formatted_code = \"sc = StandardScaler3DShape()\\n\\nhistory = model.fit(\\n    sc.fit_transform(x_train),\\n    y_train,\\n    batch_size=batch_size,\\n    epochs=epochs,\\n    verbose=verbose,\\n)\";\n",
       "                var nbb_cells = Jupyter.notebook.get_cells();\n",
       "                for (var i = 0; i < nbb_cells.length; ++i) {\n",
       "                    if (nbb_cells[i].input_prompt_number == nbb_cell_id) {\n",
       "                        if (nbb_cells[i].get_text() == nbb_unformatted_code) {\n",
       "                             nbb_cells[i].set_text(nbb_formatted_code);\n",
       "                        }\n",
       "                        break;\n",
       "                    }\n",
       "                }\n",
       "            }, 500);\n",
       "            "
      ],
      "text/plain": [
       "<IPython.core.display.Javascript object>"
      ]
     },
     "metadata": {},
     "output_type": "display_data"
    }
   ],
   "source": [
    "sc = StandardScaler3DShape()\n",
    "\n",
    "history = model.fit(\n",
    "    sc.fit_transform(x_train),\n",
    "    y_train,\n",
    "    batch_size=batch_size,\n",
    "    epochs=epochs,\n",
    "    verbose=verbose,\n",
    ")"
   ]
  },
  {
   "cell_type": "code",
   "execution_count": 96,
   "metadata": {},
   "outputs": [
    {
     "data": {
      "text/plain": [
       "[<matplotlib.lines.Line2D at 0x7fdf944962b0>]"
      ]
     },
     "execution_count": 96,
     "metadata": {},
     "output_type": "execute_result"
    },
    {
     "data": {
      "image/png": "[encoded data removed]",
      "text/plain": [
       "<Figure size 432x288 with 1 Axes>"
      ]
     },
     "metadata": {
      "needs_background": "light"
     },
     "output_type": "display_data"
    },
    {
     "data": {
      "application/javascript": [
       "\n",
       "            setTimeout(function() {\n",
       "                var nbb_cell_id = 96;\n",
       "                var nbb_unformatted_code = \"plt.plot(history.history[\\\"RMSE\\\"])\";\n",
       "                var nbb_formatted_code = \"plt.plot(history.history[\\\"RMSE\\\"])\";\n",
       "                var nbb_cells = Jupyter.notebook.get_cells();\n",
       "                for (var i = 0; i < nbb_cells.length; ++i) {\n",
       "                    if (nbb_cells[i].input_prompt_number == nbb_cell_id) {\n",
       "                        if (nbb_cells[i].get_text() == nbb_unformatted_code) {\n",
       "                             nbb_cells[i].set_text(nbb_formatted_code);\n",
       "                        }\n",
       "                        break;\n",
       "                    }\n",
       "                }\n",
       "            }, 500);\n",
       "            "
      ],
      "text/plain": [
       "<IPython.core.display.Javascript object>"
      ]
     },
     "metadata": {},
     "output_type": "display_data"
    }
   ],
   "source": [
    "plt.plot(history.history[\"RMSE\"])"
   ]
  },
  {
   "cell_type": "code",
   "execution_count": 97,
   "metadata": {},
   "outputs": [
    {
     "name": "stdout",
     "output_type": "stream",
     "text": [
      "******\n",
      "[TRAIN]\n",
      "******\n",
      "RMSE: 6.178 (0.000)\n",
      "MAE: 5.222 (0.000)\n",
      "MAPE: 0.118 (0.000)\n",
      "R2: 0.035 (0.000)\n",
      "\n",
      "======================\n",
      "\n",
      "******\n",
      "[TEST]\n",
      "******\n",
      "RMSE: 9.037 (0.000)\n",
      "MAE: 8.226 (0.000)\n",
      "MAPE: 0.147 (0.000)\n",
      "R2: 2.472 (0.000)\n",
      "\n",
      "======================\n",
      "\n"
     ]
    },
    {
     "data": {
      "application/javascript": [
       "\n",
       "            setTimeout(function() {\n",
       "                var nbb_cell_id = 97;\n",
       "                var nbb_unformatted_code = \"y_train_pred = model.predict(sc.transform(x_train))\\ny_test_pred = model.predict(sc.transform(x_test))\\n\\nscores = score_regression_metrics(y_train, y_train_pred, y_test, y_test_pred)\\nprint_scores(scores, METRICS, METRICS_DICT)\";\n",
       "                var nbb_formatted_code = \"y_train_pred = model.predict(sc.transform(x_train))\\ny_test_pred = model.predict(sc.transform(x_test))\\n\\nscores = score_regression_metrics(y_train, y_train_pred, y_test, y_test_pred)\\nprint_scores(scores, METRICS, METRICS_DICT)\";\n",
       "                var nbb_cells = Jupyter.notebook.get_cells();\n",
       "                for (var i = 0; i < nbb_cells.length; ++i) {\n",
       "                    if (nbb_cells[i].input_prompt_number == nbb_cell_id) {\n",
       "                        if (nbb_cells[i].get_text() == nbb_unformatted_code) {\n",
       "                             nbb_cells[i].set_text(nbb_formatted_code);\n",
       "                        }\n",
       "                        break;\n",
       "                    }\n",
       "                }\n",
       "            }, 500);\n",
       "            "
      ],
      "text/plain": [
       "<IPython.core.display.Javascript object>"
      ]
     },
     "metadata": {},
     "output_type": "display_data"
    }
   ],
   "source": [
    "y_train_pred = model.predict(sc.transform(x_train))\n",
    "y_test_pred = model.predict(sc.transform(x_test))\n",
    "\n",
    "scores = score_regression_metrics(y_train, y_train_pred, y_test, y_test_pred)\n",
    "print_scores(scores, METRICS, METRICS_DICT)"
   ]
  },
  {
   "cell_type": "markdown",
   "metadata": {},
   "source": [
    "# Pre Trainning"
   ]
  },
  {
   "cell_type": "markdown",
   "metadata": {},
   "source": [
    "# partner_i"
   ]
  },
  {
   "cell_type": "code",
   "execution_count": 98,
   "metadata": {},
   "outputs": [
    {
     "data": {
      "application/javascript": [
       "\n",
       "            setTimeout(function() {\n",
       "                var nbb_cell_id = 98;\n",
       "                var nbb_unformatted_code = \"batch_size = 32\\nepochs = 200\\nverbose = 0\\ntimesteps = 5\";\n",
       "                var nbb_formatted_code = \"batch_size = 32\\nepochs = 200\\nverbose = 0\\ntimesteps = 5\";\n",
       "                var nbb_cells = Jupyter.notebook.get_cells();\n",
       "                for (var i = 0; i < nbb_cells.length; ++i) {\n",
       "                    if (nbb_cells[i].input_prompt_number == nbb_cell_id) {\n",
       "                        if (nbb_cells[i].get_text() == nbb_unformatted_code) {\n",
       "                             nbb_cells[i].set_text(nbb_formatted_code);\n",
       "                        }\n",
       "                        break;\n",
       "                    }\n",
       "                }\n",
       "            }, 500);\n",
       "            "
      ],
      "text/plain": [
       "<IPython.core.display.Javascript object>"
      ]
     },
     "metadata": {},
     "output_type": "display_data"
    }
   ],
   "source": [
    "batch_size = 32\n",
    "epochs = 200\n",
    "verbose = 0\n",
    "timesteps = 5"
   ]
  },
  {
   "cell_type": "code",
   "execution_count": 99,
   "metadata": {},
   "outputs": [
    {
     "data": {
      "application/javascript": [
       "\n",
       "            setTimeout(function() {\n",
       "                var nbb_cell_id = 99;\n",
       "                var nbb_unformatted_code = \"df_partner_i = pd.read_csv(\\\"../../../data/processed/partner_i-Oficial/cement-shipping.csv\\\")\";\n",
       "                var nbb_formatted_code = \"df_partner_i = pd.read_csv(\\n    \\\"../../../data/processed/partner_i-Oficial/cement-shipping.csv\\\"\\n)\";\n",
       "                var nbb_cells = Jupyter.notebook.get_cells();\n",
       "                for (var i = 0; i < nbb_cells.length; ++i) {\n",
       "                    if (nbb_cells[i].input_prompt_number == nbb_cell_id) {\n",
       "                        if (nbb_cells[i].get_text() == nbb_unformatted_code) {\n",
       "                             nbb_cells[i].set_text(nbb_formatted_code);\n",
       "                        }\n",
       "                        break;\n",
       "                    }\n",
       "                }\n",
       "            }, 500);\n",
       "            "
      ],
      "text/plain": [
       "<IPython.core.display.Javascript object>"
      ]
     },
     "metadata": {},
     "output_type": "display_data"
    }
   ],
   "source": [
    "df_partner_i = pd.read_csv(\n",
    "    \"../../../data/processed/partner_i-Oficial/cement-shipping.csv\"\n",
    ")"
   ]
  },
  {
   "cell_type": "code",
   "execution_count": 100,
   "metadata": {},
   "outputs": [
    {
     "data": {
      "application/javascript": [
       "\n",
       "            setTimeout(function() {\n",
       "                var nbb_cell_id = 100;\n",
       "                var nbb_unformatted_code = \"COMMON_FEATURES = [\\n    \\\"cao\\\",\\n    \\\"sio2\\\",\\n    \\\"al2o3\\\",\\n    \\\"fe2o3\\\",\\n    \\\"aluminate\\\",\\n    \\\"na2o\\\",\\n    \\\"mgo\\\",\\n    \\\"so3\\\",\\n    \\\"ferrite\\\",\\n    \\\"k2o\\\"\\n]\";\n",
       "                var nbb_formatted_code = \"COMMON_FEATURES = [\\n    \\\"cao\\\",\\n    \\\"sio2\\\",\\n    \\\"al2o3\\\",\\n    \\\"fe2o3\\\",\\n    \\\"aluminate\\\",\\n    \\\"na2o\\\",\\n    \\\"mgo\\\",\\n    \\\"so3\\\",\\n    \\\"ferrite\\\",\\n    \\\"k2o\\\",\\n]\";\n",
       "                var nbb_cells = Jupyter.notebook.get_cells();\n",
       "                for (var i = 0; i < nbb_cells.length; ++i) {\n",
       "                    if (nbb_cells[i].input_prompt_number == nbb_cell_id) {\n",
       "                        if (nbb_cells[i].get_text() == nbb_unformatted_code) {\n",
       "                             nbb_cells[i].set_text(nbb_formatted_code);\n",
       "                        }\n",
       "                        break;\n",
       "                    }\n",
       "                }\n",
       "            }, 500);\n",
       "            "
      ],
      "text/plain": [
       "<IPython.core.display.Javascript object>"
      ]
     },
     "metadata": {},
     "output_type": "display_data"
    }
   ],
   "source": [
    "COMMON_FEATURES = [\n",
    "    \"cao\",\n",
    "    \"sio2\",\n",
    "    \"al2o3\",\n",
    "    \"fe2o3\",\n",
    "    \"aluminate\",\n",
    "    \"na2o\",\n",
    "    \"mgo\",\n",
    "    \"so3\",\n",
    "    \"ferrite\",\n",
    "    \"k2o\",\n",
    "]"
   ]
  },
  {
   "cell_type": "code",
   "execution_count": 101,
   "metadata": {},
   "outputs": [
    {
     "data": {
      "application/javascript": [
       "\n",
       "            setTimeout(function() {\n",
       "                var nbb_cell_id = 101;\n",
       "                var nbb_unformatted_code = \"df_partner_i = pd.read_csv(\\\"../../../data/processed/partner_i-Oficial/cement-shipping.csv\\\")\\ndf_partner_i = df_partner_i.drop(\\n    [\\n        \\\"1 day Compressive strength\\\",\\n        \\\"3 day Compressive strength\\\",\\n        \\\"7 day Compressive strength\\\",\\n    ],\\n    axis=1,\\n).copy()\\n\\ny = df_partner_i.pop('28 day Compressive strength')\\nx = df_partner_i\\nx.columns = x.columns.str.lower()\\nx = x[COMMON_FEATURES]\\nx, y = to_img_matrix(x.values, y.values, nrows)\\nx_train, x_test, y_train, y_test = train_test_split(\\n    x, y, test_size=0.2, random_state=SEED, shuffle=False\\n)\";\n",
       "                var nbb_formatted_code = \"df_partner_i = pd.read_csv(\\n    \\\"../../../data/processed/partner_i-Oficial/cement-shipping.csv\\\"\\n)\\ndf_partner_i = df_partner_i.drop(\\n    [\\n        \\\"1 day Compressive strength\\\",\\n        \\\"3 day Compressive strength\\\",\\n        \\\"7 day Compressive strength\\\",\\n    ],\\n    axis=1,\\n).copy()\\n\\ny = df_partner_i.pop(\\\"28 day Compressive strength\\\")\\nx = df_partner_i\\nx.columns = x.columns.str.lower()\\nx = x[COMMON_FEATURES]\\nx, y = to_img_matrix(x.values, y.values, nrows)\\nx_train, x_test, y_train, y_test = train_test_split(\\n    x, y, test_size=0.2, random_state=SEED, shuffle=False\\n)\";\n",
       "                var nbb_cells = Jupyter.notebook.get_cells();\n",
       "                for (var i = 0; i < nbb_cells.length; ++i) {\n",
       "                    if (nbb_cells[i].input_prompt_number == nbb_cell_id) {\n",
       "                        if (nbb_cells[i].get_text() == nbb_unformatted_code) {\n",
       "                             nbb_cells[i].set_text(nbb_formatted_code);\n",
       "                        }\n",
       "                        break;\n",
       "                    }\n",
       "                }\n",
       "            }, 500);\n",
       "            "
      ],
      "text/plain": [
       "<IPython.core.display.Javascript object>"
      ]
     },
     "metadata": {},
     "output_type": "display_data"
    }
   ],
   "source": [
    "df_partner_i = pd.read_csv(\n",
    "    \"../../../data/processed/partner_i-Oficial/cement-shipping.csv\"\n",
    ")\n",
    "df_partner_i = df_partner_i.drop(\n",
    "    [\n",
    "        \"1 day Compressive strength\",\n",
    "        \"3 day Compressive strength\",\n",
    "        \"7 day Compressive strength\",\n",
    "    ],\n",
    "    axis=1,\n",
    ").copy()\n",
    "\n",
    "y = df_partner_i.pop(\"28 day Compressive strength\")\n",
    "x = df_partner_i\n",
    "x.columns = x.columns.str.lower()\n",
    "x = x[COMMON_FEATURES]\n",
    "x, y = to_img_matrix(x.values, y.values, nrows)\n",
    "x_train, x_test, y_train, y_test = train_test_split(\n",
    "    x, y, test_size=0.2, random_state=SEED, shuffle=False\n",
    ")"
   ]
  },
  {
   "cell_type": "code",
   "execution_count": 102,
   "metadata": {},
   "outputs": [
    {
     "data": {
      "application/javascript": [
       "\n",
       "            setTimeout(function() {\n",
       "                var nbb_cell_id = 102;\n",
       "                var nbb_unformatted_code = \"set_seeds()\\n\\nmodel = get_model(shape=x_train.shape[1:])\\nsc = StandardScaler3DShape()\\n\\nhistory = model.fit(\\n    sc.fit_transform(x_train),\\n    y_train,\\n    batch_size=batch_size,\\n    epochs=epochs,\\n    verbose=verbose,\\n)\";\n",
       "                var nbb_formatted_code = \"set_seeds()\\n\\nmodel = get_model(shape=x_train.shape[1:])\\nsc = StandardScaler3DShape()\\n\\nhistory = model.fit(\\n    sc.fit_transform(x_train),\\n    y_train,\\n    batch_size=batch_size,\\n    epochs=epochs,\\n    verbose=verbose,\\n)\";\n",
       "                var nbb_cells = Jupyter.notebook.get_cells();\n",
       "                for (var i = 0; i < nbb_cells.length; ++i) {\n",
       "                    if (nbb_cells[i].input_prompt_number == nbb_cell_id) {\n",
       "                        if (nbb_cells[i].get_text() == nbb_unformatted_code) {\n",
       "                             nbb_cells[i].set_text(nbb_formatted_code);\n",
       "                        }\n",
       "                        break;\n",
       "                    }\n",
       "                }\n",
       "            }, 500);\n",
       "            "
      ],
      "text/plain": [
       "<IPython.core.display.Javascript object>"
      ]
     },
     "metadata": {},
     "output_type": "display_data"
    }
   ],
   "source": [
    "set_seeds()\n",
    "\n",
    "model = get_model(shape=x_train.shape[1:])\n",
    "sc = StandardScaler3DShape()\n",
    "\n",
    "history = model.fit(\n",
    "    sc.fit_transform(x_train),\n",
    "    y_train,\n",
    "    batch_size=batch_size,\n",
    "    epochs=epochs,\n",
    "    verbose=verbose,\n",
    ")"
   ]
  },
  {
   "cell_type": "code",
   "execution_count": 103,
   "metadata": {},
   "outputs": [
    {
     "data": {
      "text/plain": [
       "[<matplotlib.lines.Line2D at 0x7fdf6425e3c8>]"
      ]
     },
     "execution_count": 103,
     "metadata": {},
     "output_type": "execute_result"
    },
    {
     "data": {
      "image/png": "[encoded data removed]",
      "text/plain": [
       "<Figure size 432x288 with 1 Axes>"
      ]
     },
     "metadata": {
      "needs_background": "light"
     },
     "output_type": "display_data"
    },
    {
     "data": {
      "application/javascript": [
       "\n",
       "            setTimeout(function() {\n",
       "                var nbb_cell_id = 103;\n",
       "                var nbb_unformatted_code = \"plt.plot(history.history[\\\"RMSE\\\"])\";\n",
       "                var nbb_formatted_code = \"plt.plot(history.history[\\\"RMSE\\\"])\";\n",
       "                var nbb_cells = Jupyter.notebook.get_cells();\n",
       "                for (var i = 0; i < nbb_cells.length; ++i) {\n",
       "                    if (nbb_cells[i].input_prompt_number == nbb_cell_id) {\n",
       "                        if (nbb_cells[i].get_text() == nbb_unformatted_code) {\n",
       "                             nbb_cells[i].set_text(nbb_formatted_code);\n",
       "                        }\n",
       "                        break;\n",
       "                    }\n",
       "                }\n",
       "            }, 500);\n",
       "            "
      ],
      "text/plain": [
       "<IPython.core.display.Javascript object>"
      ]
     },
     "metadata": {},
     "output_type": "display_data"
    }
   ],
   "source": [
    "plt.plot(history.history[\"RMSE\"])"
   ]
  },
  {
   "cell_type": "code",
   "execution_count": 104,
   "metadata": {},
   "outputs": [
    {
     "name": "stdout",
     "output_type": "stream",
     "text": [
      "******\n",
      "[TRAIN]\n",
      "******\n",
      "RMSE: 6.160 (0.000)\n",
      "MAE: 5.670 (0.000)\n",
      "MAPE: 0.126 (0.000)\n",
      "R2: 0.444 (0.000)\n",
      "\n",
      "======================\n",
      "\n",
      "******\n",
      "[TEST]\n",
      "******\n",
      "RMSE: 6.201 (0.000)\n",
      "MAE: 5.728 (0.000)\n",
      "MAPE: 0.129 (0.000)\n",
      "R2: 0.298 (0.000)\n",
      "\n",
      "======================\n",
      "\n"
     ]
    },
    {
     "data": {
      "application/javascript": [
       "\n",
       "            setTimeout(function() {\n",
       "                var nbb_cell_id = 104;\n",
       "                var nbb_unformatted_code = \"y_train_pred = model.predict(sc.transform(x_train))\\ny_test_pred = model.predict(sc.transform(x_test))\\nscores = score_regression_metrics(y_train, y_train_pred, y_test, y_test_pred)\\nprint_scores(scores, METRICS, METRICS_DICT)\";\n",
       "                var nbb_formatted_code = \"y_train_pred = model.predict(sc.transform(x_train))\\ny_test_pred = model.predict(sc.transform(x_test))\\nscores = score_regression_metrics(y_train, y_train_pred, y_test, y_test_pred)\\nprint_scores(scores, METRICS, METRICS_DICT)\";\n",
       "                var nbb_cells = Jupyter.notebook.get_cells();\n",
       "                for (var i = 0; i < nbb_cells.length; ++i) {\n",
       "                    if (nbb_cells[i].input_prompt_number == nbb_cell_id) {\n",
       "                        if (nbb_cells[i].get_text() == nbb_unformatted_code) {\n",
       "                             nbb_cells[i].set_text(nbb_formatted_code);\n",
       "                        }\n",
       "                        break;\n",
       "                    }\n",
       "                }\n",
       "            }, 500);\n",
       "            "
      ],
      "text/plain": [
       "<IPython.core.display.Javascript object>"
      ]
     },
     "metadata": {},
     "output_type": "display_data"
    }
   ],
   "source": [
    "y_train_pred = model.predict(sc.transform(x_train))\n",
    "y_test_pred = model.predict(sc.transform(x_test))\n",
    "scores = score_regression_metrics(y_train, y_train_pred, y_test, y_test_pred)\n",
    "print_scores(scores, METRICS, METRICS_DICT)"
   ]
  },
  {
   "cell_type": "code",
   "execution_count": 105,
   "metadata": {},
   "outputs": [
    {
     "data": {
      "application/javascript": [
       "\n",
       "            setTimeout(function() {\n",
       "                var nbb_cell_id = 105;\n",
       "                var nbb_unformatted_code = \"model.save_weights(\\\"conv1d_weights.h5\\\")\";\n",
       "                var nbb_formatted_code = \"model.save_weights(\\\"conv1d_weights.h5\\\")\";\n",
       "                var nbb_cells = Jupyter.notebook.get_cells();\n",
       "                for (var i = 0; i < nbb_cells.length; ++i) {\n",
       "                    if (nbb_cells[i].input_prompt_number == nbb_cell_id) {\n",
       "                        if (nbb_cells[i].get_text() == nbb_unformatted_code) {\n",
       "                             nbb_cells[i].set_text(nbb_formatted_code);\n",
       "                        }\n",
       "                        break;\n",
       "                    }\n",
       "                }\n",
       "            }, 500);\n",
       "            "
      ],
      "text/plain": [
       "<IPython.core.display.Javascript object>"
      ]
     },
     "metadata": {},
     "output_type": "display_data"
    }
   ],
   "source": [
    "model.save_weights(\"conv1d_weights.h5\")"
   ]
  },
  {
   "cell_type": "markdown",
   "metadata": {},
   "source": [
    "# Fine Tuning"
   ]
  },
  {
   "cell_type": "markdown",
   "metadata": {},
   "source": [
    "# partner_ii"
   ]
  },
  {
   "cell_type": "code",
   "execution_count": 106,
   "metadata": {},
   "outputs": [
    {
     "data": {
      "application/javascript": [
       "\n",
       "            setTimeout(function() {\n",
       "                var nbb_cell_id = 106;\n",
       "                var nbb_unformatted_code = \"df_partner_ii = pd.read_csv(\\\"../../../data/processed/partner_ii/cement-shipping.csv\\\")\\ndf_no_cs = df_partner_ii.drop(\\n    [\\\"strength_1d\\\", \\\"strength_3d\\\", \\\"strength_7d\\\"],\\n    axis=1,\\n).copy()\\ny = df_no_cs.pop(\\\"strength_28d\\\")\\nx = df_no_cs.rename({\\\"sample_date\\\": \\\"date\\\"}, axis=1)\\n\\nx.columns = x.columns.str.lower()\\nx = x[COMMON_FEATURES]\\nx, y = to_img_matrix(x.values, y.values, nrows)\\n\\nx_train, x_test, y_train, y_test = train_test_split(\\n    x, y, test_size=0.2, random_state=SEED, shuffle=False\\n)\";\n",
       "                var nbb_formatted_code = \"df_partner_ii = pd.read_csv(\\\"../../../data/processed/partner_ii/cement-shipping.csv\\\")\\ndf_no_cs = df_partner_ii.drop(\\n    [\\\"strength_1d\\\", \\\"strength_3d\\\", \\\"strength_7d\\\"],\\n    axis=1,\\n).copy()\\ny = df_no_cs.pop(\\\"strength_28d\\\")\\nx = df_no_cs.rename({\\\"sample_date\\\": \\\"date\\\"}, axis=1)\\n\\nx.columns = x.columns.str.lower()\\nx = x[COMMON_FEATURES]\\nx, y = to_img_matrix(x.values, y.values, nrows)\\n\\nx_train, x_test, y_train, y_test = train_test_split(\\n    x, y, test_size=0.2, random_state=SEED, shuffle=False\\n)\";\n",
       "                var nbb_cells = Jupyter.notebook.get_cells();\n",
       "                for (var i = 0; i < nbb_cells.length; ++i) {\n",
       "                    if (nbb_cells[i].input_prompt_number == nbb_cell_id) {\n",
       "                        if (nbb_cells[i].get_text() == nbb_unformatted_code) {\n",
       "                             nbb_cells[i].set_text(nbb_formatted_code);\n",
       "                        }\n",
       "                        break;\n",
       "                    }\n",
       "                }\n",
       "            }, 500);\n",
       "            "
      ],
      "text/plain": [
       "<IPython.core.display.Javascript object>"
      ]
     },
     "metadata": {},
     "output_type": "display_data"
    }
   ],
   "source": [
    "df_partner_ii = pd.read_csv(\"../../../data/processed/partner_ii/cement-shipping.csv\")\n",
    "df_no_cs = df_partner_ii.drop(\n",
    "    [\"strength_1d\", \"strength_3d\", \"strength_7d\"],\n",
    "    axis=1,\n",
    ").copy()\n",
    "y = df_no_cs.pop(\"strength_28d\")\n",
    "x = df_no_cs.rename({\"sample_date\": \"date\"}, axis=1)\n",
    "\n",
    "x.columns = x.columns.str.lower()\n",
    "x = x[COMMON_FEATURES]\n",
    "x, y = to_img_matrix(x.values, y.values, nrows)\n",
    "\n",
    "x_train, x_test, y_train, y_test = train_test_split(\n",
    "    x, y, test_size=0.2, random_state=SEED, shuffle=False\n",
    ")"
   ]
  },
  {
   "cell_type": "code",
   "execution_count": 107,
   "metadata": {},
   "outputs": [
    {
     "data": {
      "application/javascript": [
       "\n",
       "            setTimeout(function() {\n",
       "                var nbb_cell_id = 107;\n",
       "                var nbb_unformatted_code = \"set_seeds()\\n\\nmodel_2 = get_model(include_top=False, shape=x.shape[1:])\\nmodel_2.load_weights(\\\"conv1d_weights.h5\\\", by_name=True)\\nmodel_2.trainable = False\\n\\nflat1 = tf.keras.layers.Flatten()(model_2.layers[-1].output)\\nclass1 = tf.keras.layers.Dense(256, activation='relu')(flat1)\\nclass1 = tf.keras.layers.Dense(128, activation='relu')(class1)\\nclass1 = tf.keras.layers.Dense(64, activation='relu')(class1)\\noutputs = tf.keras.layers.Dense(1, activation='linear')(class1)\\nmodel = tf.keras.Model(model_2.inputs, outputs)\\n\\nmodel.compile(\\n    optimizer=tf.keras.optimizers.Adam(learning_rate=1e-3),\\n    loss=\\\"mse\\\",\\n    metrics=[tf.keras.metrics.RootMeanSquaredError(name=\\\"RMSE\\\")],\\n)\";\n",
       "                var nbb_formatted_code = \"set_seeds()\\n\\nmodel_2 = get_model(include_top=False, shape=x.shape[1:])\\nmodel_2.load_weights(\\\"conv1d_weights.h5\\\", by_name=True)\\nmodel_2.trainable = False\\n\\nflat1 = tf.keras.layers.Flatten()(model_2.layers[-1].output)\\nclass1 = tf.keras.layers.Dense(256, activation=\\\"relu\\\")(flat1)\\nclass1 = tf.keras.layers.Dense(128, activation=\\\"relu\\\")(class1)\\nclass1 = tf.keras.layers.Dense(64, activation=\\\"relu\\\")(class1)\\noutputs = tf.keras.layers.Dense(1, activation=\\\"linear\\\")(class1)\\nmodel = tf.keras.Model(model_2.inputs, outputs)\\n\\nmodel.compile(\\n    optimizer=tf.keras.optimizers.Adam(learning_rate=1e-3),\\n    loss=\\\"mse\\\",\\n    metrics=[tf.keras.metrics.RootMeanSquaredError(name=\\\"RMSE\\\")],\\n)\";\n",
       "                var nbb_cells = Jupyter.notebook.get_cells();\n",
       "                for (var i = 0; i < nbb_cells.length; ++i) {\n",
       "                    if (nbb_cells[i].input_prompt_number == nbb_cell_id) {\n",
       "                        if (nbb_cells[i].get_text() == nbb_unformatted_code) {\n",
       "                             nbb_cells[i].set_text(nbb_formatted_code);\n",
       "                        }\n",
       "                        break;\n",
       "                    }\n",
       "                }\n",
       "            }, 500);\n",
       "            "
      ],
      "text/plain": [
       "<IPython.core.display.Javascript object>"
      ]
     },
     "metadata": {},
     "output_type": "display_data"
    }
   ],
   "source": [
    "set_seeds()\n",
    "\n",
    "model_2 = get_model(include_top=False, shape=x.shape[1:])\n",
    "model_2.load_weights(\"conv1d_weights.h5\", by_name=True)\n",
    "model_2.trainable = False\n",
    "\n",
    "flat1 = tf.keras.layers.Flatten()(model_2.layers[-1].output)\n",
    "class1 = tf.keras.layers.Dense(256, activation=\"relu\")(flat1)\n",
    "class1 = tf.keras.layers.Dense(128, activation=\"relu\")(class1)\n",
    "class1 = tf.keras.layers.Dense(64, activation=\"relu\")(class1)\n",
    "outputs = tf.keras.layers.Dense(1, activation=\"linear\")(class1)\n",
    "model = tf.keras.Model(model_2.inputs, outputs)\n",
    "\n",
    "model.compile(\n",
    "    optimizer=tf.keras.optimizers.Adam(learning_rate=1e-3),\n",
    "    loss=\"mse\",\n",
    "    metrics=[tf.keras.metrics.RootMeanSquaredError(name=\"RMSE\")],\n",
    ")"
   ]
  },
  {
   "cell_type": "code",
   "execution_count": 108,
   "metadata": {},
   "outputs": [
    {
     "data": {
      "application/javascript": [
       "\n",
       "            setTimeout(function() {\n",
       "                var nbb_cell_id = 108;\n",
       "                var nbb_unformatted_code = \"sc = StandardScaler3DShape()\\n\\nhistory = model.fit(\\n    sc.fit_transform(x_train),\\n    y_train,\\n    batch_size=batch_size,\\n    epochs=epochs,\\n    verbose=verbose,\\n)\";\n",
       "                var nbb_formatted_code = \"sc = StandardScaler3DShape()\\n\\nhistory = model.fit(\\n    sc.fit_transform(x_train),\\n    y_train,\\n    batch_size=batch_size,\\n    epochs=epochs,\\n    verbose=verbose,\\n)\";\n",
       "                var nbb_cells = Jupyter.notebook.get_cells();\n",
       "                for (var i = 0; i < nbb_cells.length; ++i) {\n",
       "                    if (nbb_cells[i].input_prompt_number == nbb_cell_id) {\n",
       "                        if (nbb_cells[i].get_text() == nbb_unformatted_code) {\n",
       "                             nbb_cells[i].set_text(nbb_formatted_code);\n",
       "                        }\n",
       "                        break;\n",
       "                    }\n",
       "                }\n",
       "            }, 500);\n",
       "            "
      ],
      "text/plain": [
       "<IPython.core.display.Javascript object>"
      ]
     },
     "metadata": {},
     "output_type": "display_data"
    }
   ],
   "source": [
    "sc = StandardScaler3DShape()\n",
    "\n",
    "history = model.fit(\n",
    "    sc.fit_transform(x_train),\n",
    "    y_train,\n",
    "    batch_size=batch_size,\n",
    "    epochs=epochs,\n",
    "    verbose=verbose,\n",
    ")"
   ]
  },
  {
   "cell_type": "code",
   "execution_count": 109,
   "metadata": {},
   "outputs": [
    {
     "data": {
      "text/plain": [
       "[<matplotlib.lines.Line2D at 0x7fdf645b7550>]"
      ]
     },
     "execution_count": 109,
     "metadata": {},
     "output_type": "execute_result"
    },
    {
     "data": {
      "image/png": "[encoded data removed]",
      "text/plain": [
       "<Figure size 432x288 with 1 Axes>"
      ]
     },
     "metadata": {
      "needs_background": "light"
     },
     "output_type": "display_data"
    },
    {
     "data": {
      "application/javascript": [
       "\n",
       "            setTimeout(function() {\n",
       "                var nbb_cell_id = 109;\n",
       "                var nbb_unformatted_code = \"plt.plot(history.history[\\\"RMSE\\\"])\";\n",
       "                var nbb_formatted_code = \"plt.plot(history.history[\\\"RMSE\\\"])\";\n",
       "                var nbb_cells = Jupyter.notebook.get_cells();\n",
       "                for (var i = 0; i < nbb_cells.length; ++i) {\n",
       "                    if (nbb_cells[i].input_prompt_number == nbb_cell_id) {\n",
       "                        if (nbb_cells[i].get_text() == nbb_unformatted_code) {\n",
       "                             nbb_cells[i].set_text(nbb_formatted_code);\n",
       "                        }\n",
       "                        break;\n",
       "                    }\n",
       "                }\n",
       "            }, 500);\n",
       "            "
      ],
      "text/plain": [
       "<IPython.core.display.Javascript object>"
      ]
     },
     "metadata": {},
     "output_type": "display_data"
    }
   ],
   "source": [
    "plt.plot(history.history[\"RMSE\"])"
   ]
  },
  {
   "cell_type": "code",
   "execution_count": 110,
   "metadata": {},
   "outputs": [
    {
     "name": "stdout",
     "output_type": "stream",
     "text": [
      "******\n",
      "[TRAIN]\n",
      "******\n",
      "RMSE: 3.136 (0.000)\n",
      "MAE: 2.558 (0.000)\n",
      "MAPE: 0.058 (0.000)\n",
      "R2: 0.037 (0.000)\n",
      "\n",
      "======================\n",
      "\n",
      "******\n",
      "[TEST]\n",
      "******\n",
      "RMSE: 4.531 (0.000)\n",
      "MAE: 3.958 (0.000)\n",
      "MAPE: 0.104 (0.000)\n",
      "R2: 3.195 (0.000)\n",
      "\n",
      "======================\n",
      "\n"
     ]
    },
    {
     "data": {
      "application/javascript": [
       "\n",
       "            setTimeout(function() {\n",
       "                var nbb_cell_id = 110;\n",
       "                var nbb_unformatted_code = \"y_train_pred = model.predict(sc.transform(x_train))\\ny_test_pred = model.predict(sc.transform(x_test))\\n\\nscores = score_regression_metrics(y_train, y_train_pred, y_test, y_test_pred)\\nprint_scores(scores, METRICS, METRICS_DICT)\";\n",
       "                var nbb_formatted_code = \"y_train_pred = model.predict(sc.transform(x_train))\\ny_test_pred = model.predict(sc.transform(x_test))\\n\\nscores = score_regression_metrics(y_train, y_train_pred, y_test, y_test_pred)\\nprint_scores(scores, METRICS, METRICS_DICT)\";\n",
       "                var nbb_cells = Jupyter.notebook.get_cells();\n",
       "                for (var i = 0; i < nbb_cells.length; ++i) {\n",
       "                    if (nbb_cells[i].input_prompt_number == nbb_cell_id) {\n",
       "                        if (nbb_cells[i].get_text() == nbb_unformatted_code) {\n",
       "                             nbb_cells[i].set_text(nbb_formatted_code);\n",
       "                        }\n",
       "                        break;\n",
       "                    }\n",
       "                }\n",
       "            }, 500);\n",
       "            "
      ],
      "text/plain": [
       "<IPython.core.display.Javascript object>"
      ]
     },
     "metadata": {},
     "output_type": "display_data"
    }
   ],
   "source": [
    "y_train_pred = model.predict(sc.transform(x_train))\n",
    "y_test_pred = model.predict(sc.transform(x_test))\n",
    "\n",
    "scores = score_regression_metrics(y_train, y_train_pred, y_test, y_test_pred)\n",
    "print_scores(scores, METRICS, METRICS_DICT)\n"
   ]
  },
  {
   "cell_type": "code",
   "execution_count": null,
   "metadata": {},
   "outputs": [],
   "source": []
  }
 ],
 "metadata": {
  "kernelspec": {
   "display_name": "Python3 (ccs28-venv)",
   "language": "python",
   "name": "ccs28-venv"
  },
  "language_info": {
   "codemirror_mode": {
    "name": "ipython",
    "version": 3
   },
   "file_extension": ".py",
   "mimetype": "text/x-python",
   "name": "python",
   "nbconvert_exporter": "python",
   "pygments_lexer": "ipython3",
   "version": "3.6.9"
  }
 },
 "nbformat": 4,
 "nbformat_minor": 4
}
