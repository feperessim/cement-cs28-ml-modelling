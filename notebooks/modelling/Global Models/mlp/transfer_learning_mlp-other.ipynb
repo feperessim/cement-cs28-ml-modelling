{
 "cells": [
  {
   "cell_type": "code",
   "execution_count": 15,
   "metadata": {},
   "outputs": [
    {
     "name": "stdout",
     "output_type": "stream",
     "text": [
      "The nb_black extension is already loaded. To reload it, use:\n",
      "  %reload_ext nb_black\n"
     ]
    },
    {
     "data": {
      "application/javascript": [
       "\n",
       "            setTimeout(function() {\n",
       "                var nbb_cell_id = 15;\n",
       "                var nbb_unformatted_code = \"%load_ext nb_black\";\n",
       "                var nbb_formatted_code = \"%load_ext nb_black\";\n",
       "                var nbb_cells = Jupyter.notebook.get_cells();\n",
       "                for (var i = 0; i < nbb_cells.length; ++i) {\n",
       "                    if (nbb_cells[i].input_prompt_number == nbb_cell_id) {\n",
       "                        if (nbb_cells[i].get_text() == nbb_unformatted_code) {\n",
       "                             nbb_cells[i].set_text(nbb_formatted_code);\n",
       "                        }\n",
       "                        break;\n",
       "                    }\n",
       "                }\n",
       "            }, 500);\n",
       "            "
      ],
      "text/plain": [
       "<IPython.core.display.Javascript object>"
      ]
     },
     "metadata": {},
     "output_type": "display_data"
    }
   ],
   "source": [
    "%load_ext nb_black"
   ]
  },
  {
   "cell_type": "code",
   "execution_count": 16,
   "metadata": {},
   "outputs": [
    {
     "data": {
      "application/javascript": [
       "\n",
       "            setTimeout(function() {\n",
       "                var nbb_cell_id = 16;\n",
       "                var nbb_unformatted_code = \"# Database Reading and Manipulation\\nimport pandas as pd\\nimport tensorflow as tf\\n\\n# Random and os for reproducibility\\nimport random\\nimport os\\n\\n# Linear Algebra\\nimport numpy as np\\n\\n# Plotting\\nimport matplotlib.pyplot as plt\\n\\n# Model Selection\\nfrom sklearn.model_selection import train_test_split\\nfrom sklearn.model_selection import TimeSeriesSplit\\nfrom sklearn.model_selection import RepeatedKFold\\nfrom sklearn.model_selection import cross_val_score\\nfrom sklearn.model_selection import cross_validate\\nfrom sklearn.model_selection import GridSearchCV\\n\\n# Modeling\\nfrom sklearn.linear_model import LinearRegression\\n\\n# Processing\\nfrom sklearn.preprocessing import StandardScaler\\n\\n# Metrics\\nfrom sklearn.metrics import mean_squared_error\\nfrom sklearn.metrics import mean_absolute_error\\nfrom sklearn.metrics import mean_absolute_percentage_error\\nfrom sklearn.metrics import r2_score\\n\\n# Pipeline\\nfrom sklearn.pipeline import Pipeline\";\n",
       "                var nbb_formatted_code = \"# Database Reading and Manipulation\\nimport pandas as pd\\nimport tensorflow as tf\\n\\n# Random and os for reproducibility\\nimport random\\nimport os\\n\\n# Linear Algebra\\nimport numpy as np\\n\\n# Plotting\\nimport matplotlib.pyplot as plt\\n\\n# Model Selection\\nfrom sklearn.model_selection import train_test_split\\nfrom sklearn.model_selection import TimeSeriesSplit\\nfrom sklearn.model_selection import RepeatedKFold\\nfrom sklearn.model_selection import cross_val_score\\nfrom sklearn.model_selection import cross_validate\\nfrom sklearn.model_selection import GridSearchCV\\n\\n# Modeling\\nfrom sklearn.linear_model import LinearRegression\\n\\n# Processing\\nfrom sklearn.preprocessing import StandardScaler\\n\\n# Metrics\\nfrom sklearn.metrics import mean_squared_error\\nfrom sklearn.metrics import mean_absolute_error\\nfrom sklearn.metrics import mean_absolute_percentage_error\\nfrom sklearn.metrics import r2_score\\n\\n# Pipeline\\nfrom sklearn.pipeline import Pipeline\";\n",
       "                var nbb_cells = Jupyter.notebook.get_cells();\n",
       "                for (var i = 0; i < nbb_cells.length; ++i) {\n",
       "                    if (nbb_cells[i].input_prompt_number == nbb_cell_id) {\n",
       "                        if (nbb_cells[i].get_text() == nbb_unformatted_code) {\n",
       "                             nbb_cells[i].set_text(nbb_formatted_code);\n",
       "                        }\n",
       "                        break;\n",
       "                    }\n",
       "                }\n",
       "            }, 500);\n",
       "            "
      ],
      "text/plain": [
       "<IPython.core.display.Javascript object>"
      ]
     },
     "metadata": {},
     "output_type": "display_data"
    }
   ],
   "source": [
    "# Database Reading and Manipulation\n",
    "import pandas as pd\n",
    "import tensorflow as tf\n",
    "\n",
    "# Random and os for reproducibility\n",
    "import random\n",
    "import os\n",
    "\n",
    "# Linear Algebra\n",
    "import numpy as np\n",
    "\n",
    "# Plotting\n",
    "import matplotlib.pyplot as plt\n",
    "\n",
    "# Model Selection\n",
    "from sklearn.model_selection import train_test_split\n",
    "from sklearn.model_selection import TimeSeriesSplit\n",
    "from sklearn.model_selection import RepeatedKFold\n",
    "from sklearn.model_selection import cross_val_score\n",
    "from sklearn.model_selection import cross_validate\n",
    "from sklearn.model_selection import GridSearchCV\n",
    "\n",
    "# Modeling\n",
    "from sklearn.linear_model import LinearRegression\n",
    "\n",
    "# Processing\n",
    "from sklearn.preprocessing import StandardScaler\n",
    "\n",
    "# Metrics\n",
    "from sklearn.metrics import mean_squared_error\n",
    "from sklearn.metrics import mean_absolute_error\n",
    "from sklearn.metrics import mean_absolute_percentage_error\n",
    "from sklearn.metrics import r2_score\n",
    "\n",
    "# Pipeline\n",
    "from sklearn.pipeline import Pipeline"
   ]
  },
  {
   "cell_type": "markdown",
   "metadata": {},
   "source": [
    "# Functions and definitions"
   ]
  },
  {
   "cell_type": "code",
   "execution_count": 17,
   "metadata": {},
   "outputs": [
    {
     "data": {
      "application/javascript": [
       "\n",
       "            setTimeout(function() {\n",
       "                var nbb_cell_id = 17;\n",
       "                var nbb_unformatted_code = \"def score_model(model, x, y, n_splits=10, n_repeats=10):\\n    scoring = \\\"neg_root_mean_squared_error\\\"\\n    cv = RepeatedKFold(n_splits=n_splits, n_repeats=n_repeats, random_state=SEED)\\n    scores = cross_val_score(model, x, y, scoring=scoring, cv=cv, n_jobs=-1)\\n    return scores\";\n",
       "                var nbb_formatted_code = \"def score_model(model, x, y, n_splits=10, n_repeats=10):\\n    scoring = \\\"neg_root_mean_squared_error\\\"\\n    cv = RepeatedKFold(n_splits=n_splits, n_repeats=n_repeats, random_state=SEED)\\n    scores = cross_val_score(model, x, y, scoring=scoring, cv=cv, n_jobs=-1)\\n    return scores\";\n",
       "                var nbb_cells = Jupyter.notebook.get_cells();\n",
       "                for (var i = 0; i < nbb_cells.length; ++i) {\n",
       "                    if (nbb_cells[i].input_prompt_number == nbb_cell_id) {\n",
       "                        if (nbb_cells[i].get_text() == nbb_unformatted_code) {\n",
       "                             nbb_cells[i].set_text(nbb_formatted_code);\n",
       "                        }\n",
       "                        break;\n",
       "                    }\n",
       "                }\n",
       "            }, 500);\n",
       "            "
      ],
      "text/plain": [
       "<IPython.core.display.Javascript object>"
      ]
     },
     "metadata": {},
     "output_type": "display_data"
    }
   ],
   "source": [
    "def score_model(model, x, y, n_splits=10, n_repeats=10):\n",
    "    scoring = \"neg_root_mean_squared_error\"\n",
    "    cv = RepeatedKFold(n_splits=n_splits, n_repeats=n_repeats, random_state=SEED)\n",
    "    scores = cross_val_score(model, x, y, scoring=scoring, cv=cv, n_jobs=-1)\n",
    "    return scores"
   ]
  },
  {
   "cell_type": "code",
   "execution_count": 18,
   "metadata": {},
   "outputs": [
    {
     "data": {
      "application/javascript": [
       "\n",
       "            setTimeout(function() {\n",
       "                var nbb_cell_id = 18;\n",
       "                var nbb_unformatted_code = \"def plot_predictions(linreg_model, df, index, x, y):\\n    d = df[\\\"Data/Hora\\\"].values\\n    test_series = pd.DataFrame({\\\"ccs28\\\": y}, index=pd.to_datetime(d))\\n    pred_series = linreg_model.predict(scaler.transform(x))\\n    pred_series = pd.DataFrame({\\\"ccs28-pred\\\": pred_series}, index=pd.to_datetime(d))\\n\\n    fig, ax = plt.subplots(1, 1, sharex=True, sharey=True, figsize=(15, 7))\\n\\n    test_series.plot(ax=ax)\\n    ax.axvline(test_series.index[index], color=\\\"r\\\")  # end of train dataset\\n    pred_series[index:].plot(ax=ax)\\n    ax.grid(which=\\\"both\\\")\\n    ax.legend(\\n        [\\\"train and test series\\\", \\\"end of train series\\\", \\\"predicted\\\"], loc=\\\"upper left\\\"\\n    )\\n    # ax.set_xlabel('Period', labelpad=20, fontsize=15)\\n    ax.set_ylabel(\\\"Compressive Strength - MPa\\\", labelpad=20, fontsize=15)\\n    plt.show()\";\n",
       "                var nbb_formatted_code = \"def plot_predictions(linreg_model, df, index, x, y):\\n    d = df[\\\"Data/Hora\\\"].values\\n    test_series = pd.DataFrame({\\\"ccs28\\\": y}, index=pd.to_datetime(d))\\n    pred_series = linreg_model.predict(scaler.transform(x))\\n    pred_series = pd.DataFrame({\\\"ccs28-pred\\\": pred_series}, index=pd.to_datetime(d))\\n\\n    fig, ax = plt.subplots(1, 1, sharex=True, sharey=True, figsize=(15, 7))\\n\\n    test_series.plot(ax=ax)\\n    ax.axvline(test_series.index[index], color=\\\"r\\\")  # end of train dataset\\n    pred_series[index:].plot(ax=ax)\\n    ax.grid(which=\\\"both\\\")\\n    ax.legend(\\n        [\\\"train and test series\\\", \\\"end of train series\\\", \\\"predicted\\\"], loc=\\\"upper left\\\"\\n    )\\n    # ax.set_xlabel('Period', labelpad=20, fontsize=15)\\n    ax.set_ylabel(\\\"Compressive Strength - MPa\\\", labelpad=20, fontsize=15)\\n    plt.show()\";\n",
       "                var nbb_cells = Jupyter.notebook.get_cells();\n",
       "                for (var i = 0; i < nbb_cells.length; ++i) {\n",
       "                    if (nbb_cells[i].input_prompt_number == nbb_cell_id) {\n",
       "                        if (nbb_cells[i].get_text() == nbb_unformatted_code) {\n",
       "                             nbb_cells[i].set_text(nbb_formatted_code);\n",
       "                        }\n",
       "                        break;\n",
       "                    }\n",
       "                }\n",
       "            }, 500);\n",
       "            "
      ],
      "text/plain": [
       "<IPython.core.display.Javascript object>"
      ]
     },
     "metadata": {},
     "output_type": "display_data"
    }
   ],
   "source": [
    "def plot_predictions(linreg_model, df, index, x, y):\n",
    "    d = df[\"Data/Hora\"].values\n",
    "    test_series = pd.DataFrame({\"ccs28\": y}, index=pd.to_datetime(d))\n",
    "    pred_series = linreg_model.predict(scaler.transform(x))\n",
    "    pred_series = pd.DataFrame({\"ccs28-pred\": pred_series}, index=pd.to_datetime(d))\n",
    "\n",
    "    fig, ax = plt.subplots(1, 1, sharex=True, sharey=True, figsize=(15, 7))\n",
    "\n",
    "    test_series.plot(ax=ax)\n",
    "    ax.axvline(test_series.index[index], color=\"r\")  # end of train dataset\n",
    "    pred_series[index:].plot(ax=ax)\n",
    "    ax.grid(which=\"both\")\n",
    "    ax.legend(\n",
    "        [\"train and test series\", \"end of train series\", \"predicted\"], loc=\"upper left\"\n",
    "    )\n",
    "    # ax.set_xlabel('Period', labelpad=20, fontsize=15)\n",
    "    ax.set_ylabel(\"Compressive Strength - MPa\", labelpad=20, fontsize=15)\n",
    "    plt.show()"
   ]
  },
  {
   "cell_type": "code",
   "execution_count": 19,
   "metadata": {},
   "outputs": [
    {
     "data": {
      "application/javascript": [
       "\n",
       "            setTimeout(function() {\n",
       "                var nbb_cell_id = 19;\n",
       "                var nbb_unformatted_code = \"def plot_scores_box_plot(scores, repeats, n_splits):\\n    plt.figure(figsize=(15, 8))\\n    plt.boxplot(\\n        scores.reshape((repeats, n_splits)),\\n        labels=[str(r) for r in range(1, repeats + 1)],\\n        showmeans=True,\\n    )\\n    plt.ylabel(\\\"RMSE\\\", labelpad=20, fontsize=15)\\n    plt.xlabel(\\\"Repeats\\\", labelpad=20, fontsize=15)\\n    plt.show()\";\n",
       "                var nbb_formatted_code = \"def plot_scores_box_plot(scores, repeats, n_splits):\\n    plt.figure(figsize=(15, 8))\\n    plt.boxplot(\\n        scores.reshape((repeats, n_splits)),\\n        labels=[str(r) for r in range(1, repeats + 1)],\\n        showmeans=True,\\n    )\\n    plt.ylabel(\\\"RMSE\\\", labelpad=20, fontsize=15)\\n    plt.xlabel(\\\"Repeats\\\", labelpad=20, fontsize=15)\\n    plt.show()\";\n",
       "                var nbb_cells = Jupyter.notebook.get_cells();\n",
       "                for (var i = 0; i < nbb_cells.length; ++i) {\n",
       "                    if (nbb_cells[i].input_prompt_number == nbb_cell_id) {\n",
       "                        if (nbb_cells[i].get_text() == nbb_unformatted_code) {\n",
       "                             nbb_cells[i].set_text(nbb_formatted_code);\n",
       "                        }\n",
       "                        break;\n",
       "                    }\n",
       "                }\n",
       "            }, 500);\n",
       "            "
      ],
      "text/plain": [
       "<IPython.core.display.Javascript object>"
      ]
     },
     "metadata": {},
     "output_type": "display_data"
    }
   ],
   "source": [
    "def plot_scores_box_plot(scores, repeats, n_splits):\n",
    "    plt.figure(figsize=(15, 8))\n",
    "    plt.boxplot(\n",
    "        scores.reshape((repeats, n_splits)),\n",
    "        labels=[str(r) for r in range(1, repeats + 1)],\n",
    "        showmeans=True,\n",
    "    )\n",
    "    plt.ylabel(\"RMSE\", labelpad=20, fontsize=15)\n",
    "    plt.xlabel(\"Repeats\", labelpad=20, fontsize=15)\n",
    "    plt.show()"
   ]
  },
  {
   "cell_type": "code",
   "execution_count": 20,
   "metadata": {},
   "outputs": [
    {
     "data": {
      "application/javascript": [
       "\n",
       "            setTimeout(function() {\n",
       "                var nbb_cell_id = 20;\n",
       "                var nbb_unformatted_code = \"class BlockingTimeSeriesSplit:\\n    def __init__(self, n_splits):\\n        self.n_splits = n_splits\\n\\n    def get_n_splits(self, X, y, groups):\\n        return self.n_splits\\n\\n    def split(self, X, y=None, groups=None):\\n        n_samples = len(X)\\n        k_fold_size = n_samples // self.n_splits\\n        indices = np.arange(n_samples)\\n\\n        margin = 0\\n        for i in range(self.n_splits):\\n            start = i * k_fold_size\\n            stop = start + k_fold_size\\n            mid = int(0.5 * (stop - start)) + start\\n            yield indices[start:mid], indices[mid + margin : stop]\\n\\n\\n# Reference: https://goldinlocks.github.io/Time-Series-Cross-Validation/\";\n",
       "                var nbb_formatted_code = \"class BlockingTimeSeriesSplit:\\n    def __init__(self, n_splits):\\n        self.n_splits = n_splits\\n\\n    def get_n_splits(self, X, y, groups):\\n        return self.n_splits\\n\\n    def split(self, X, y=None, groups=None):\\n        n_samples = len(X)\\n        k_fold_size = n_samples // self.n_splits\\n        indices = np.arange(n_samples)\\n\\n        margin = 0\\n        for i in range(self.n_splits):\\n            start = i * k_fold_size\\n            stop = start + k_fold_size\\n            mid = int(0.5 * (stop - start)) + start\\n            yield indices[start:mid], indices[mid + margin : stop]\\n\\n\\n# Reference: https://goldinlocks.github.io/Time-Series-Cross-Validation/\";\n",
       "                var nbb_cells = Jupyter.notebook.get_cells();\n",
       "                for (var i = 0; i < nbb_cells.length; ++i) {\n",
       "                    if (nbb_cells[i].input_prompt_number == nbb_cell_id) {\n",
       "                        if (nbb_cells[i].get_text() == nbb_unformatted_code) {\n",
       "                             nbb_cells[i].set_text(nbb_formatted_code);\n",
       "                        }\n",
       "                        break;\n",
       "                    }\n",
       "                }\n",
       "            }, 500);\n",
       "            "
      ],
      "text/plain": [
       "<IPython.core.display.Javascript object>"
      ]
     },
     "metadata": {},
     "output_type": "display_data"
    }
   ],
   "source": [
    "class BlockingTimeSeriesSplit:\n",
    "    def __init__(self, n_splits):\n",
    "        self.n_splits = n_splits\n",
    "\n",
    "    def get_n_splits(self, X, y, groups):\n",
    "        return self.n_splits\n",
    "\n",
    "    def split(self, X, y=None, groups=None):\n",
    "        n_samples = len(X)\n",
    "        k_fold_size = n_samples // self.n_splits\n",
    "        indices = np.arange(n_samples)\n",
    "\n",
    "        margin = 0\n",
    "        for i in range(self.n_splits):\n",
    "            start = i * k_fold_size\n",
    "            stop = start + k_fold_size\n",
    "            mid = int(0.5 * (stop - start)) + start\n",
    "            yield indices[start:mid], indices[mid + margin : stop]\n",
    "\n",
    "\n",
    "# Reference: https://goldinlocks.github.io/Time-Series-Cross-Validation/"
   ]
  },
  {
   "cell_type": "code",
   "execution_count": 21,
   "metadata": {},
   "outputs": [
    {
     "data": {
      "application/javascript": [
       "\n",
       "            setTimeout(function() {\n",
       "                var nbb_cell_id = 21;\n",
       "                var nbb_unformatted_code = \"def repeated_blocking_time_series(\\n    Estimator, Transform, x, y, train_period, test_period, repeats=10, params=None\\n):\\n    results = []\\n    max_samples = x.shape[0]\\n\\n    for _ in range(repeats):\\n        i = 0\\n        scores = []\\n        for _ in range(0, max_samples // (train_period + test_period)):\\n            scaler = Transform()\\n            model = Estimator() if params is None else Estimator(**params)\\n            x_train = x[i : i + train_period]\\n            y_train = y[i : i + train_period]\\n            x_test = x[i + train_period : i + train_period + test_period]\\n            y_test = y[i + train_period : i + train_period + test_period]\\n            x_train = scaler.fit_transform(x_train)\\n            x_test = scaler.transform(x_test)\\n\\n            model.fit(x_train, y_train)\\n\\n            y_train_pred = model.predict(x_train)\\n            y_test_pred = model.predict(x_test)\\n            scores.append(\\n                score_regression_metrics(y_train, y_train_pred, y_test, y_test_pred)\\n            )\\n            i += train_period + test_period\\n\\n        scores_final = {key: [] for key, _ in scores[0].items()}\\n        for scores_dict in scores:\\n            for key, value in scores_dict.items():\\n                scores_final[key] += [value]\\n        results.append(scores_final)\\n    return results\";\n",
       "                var nbb_formatted_code = \"def repeated_blocking_time_series(\\n    Estimator, Transform, x, y, train_period, test_period, repeats=10, params=None\\n):\\n    results = []\\n    max_samples = x.shape[0]\\n\\n    for _ in range(repeats):\\n        i = 0\\n        scores = []\\n        for _ in range(0, max_samples // (train_period + test_period)):\\n            scaler = Transform()\\n            model = Estimator() if params is None else Estimator(**params)\\n            x_train = x[i : i + train_period]\\n            y_train = y[i : i + train_period]\\n            x_test = x[i + train_period : i + train_period + test_period]\\n            y_test = y[i + train_period : i + train_period + test_period]\\n            x_train = scaler.fit_transform(x_train)\\n            x_test = scaler.transform(x_test)\\n\\n            model.fit(x_train, y_train)\\n\\n            y_train_pred = model.predict(x_train)\\n            y_test_pred = model.predict(x_test)\\n            scores.append(\\n                score_regression_metrics(y_train, y_train_pred, y_test, y_test_pred)\\n            )\\n            i += train_period + test_period\\n\\n        scores_final = {key: [] for key, _ in scores[0].items()}\\n        for scores_dict in scores:\\n            for key, value in scores_dict.items():\\n                scores_final[key] += [value]\\n        results.append(scores_final)\\n    return results\";\n",
       "                var nbb_cells = Jupyter.notebook.get_cells();\n",
       "                for (var i = 0; i < nbb_cells.length; ++i) {\n",
       "                    if (nbb_cells[i].input_prompt_number == nbb_cell_id) {\n",
       "                        if (nbb_cells[i].get_text() == nbb_unformatted_code) {\n",
       "                             nbb_cells[i].set_text(nbb_formatted_code);\n",
       "                        }\n",
       "                        break;\n",
       "                    }\n",
       "                }\n",
       "            }, 500);\n",
       "            "
      ],
      "text/plain": [
       "<IPython.core.display.Javascript object>"
      ]
     },
     "metadata": {},
     "output_type": "display_data"
    }
   ],
   "source": [
    "def repeated_blocking_time_series(\n",
    "    Estimator, Transform, x, y, train_period, test_period, repeats=10, params=None\n",
    "):\n",
    "    results = []\n",
    "    max_samples = x.shape[0]\n",
    "\n",
    "    for _ in range(repeats):\n",
    "        i = 0\n",
    "        scores = []\n",
    "        for _ in range(0, max_samples // (train_period + test_period)):\n",
    "            scaler = Transform()\n",
    "            model = Estimator() if params is None else Estimator(**params)\n",
    "            x_train = x[i : i + train_period]\n",
    "            y_train = y[i : i + train_period]\n",
    "            x_test = x[i + train_period : i + train_period + test_period]\n",
    "            y_test = y[i + train_period : i + train_period + test_period]\n",
    "            x_train = scaler.fit_transform(x_train)\n",
    "            x_test = scaler.transform(x_test)\n",
    "\n",
    "            model.fit(x_train, y_train)\n",
    "\n",
    "            y_train_pred = model.predict(x_train)\n",
    "            y_test_pred = model.predict(x_test)\n",
    "            scores.append(\n",
    "                score_regression_metrics(y_train, y_train_pred, y_test, y_test_pred)\n",
    "            )\n",
    "            i += train_period + test_period\n",
    "\n",
    "        scores_final = {key: [] for key, _ in scores[0].items()}\n",
    "        for scores_dict in scores:\n",
    "            for key, value in scores_dict.items():\n",
    "                scores_final[key] += [value]\n",
    "        results.append(scores_final)\n",
    "    return results"
   ]
  },
  {
   "cell_type": "code",
   "execution_count": 22,
   "metadata": {},
   "outputs": [
    {
     "data": {
      "application/javascript": [
       "\n",
       "            setTimeout(function() {\n",
       "                var nbb_cell_id = 22;\n",
       "                var nbb_unformatted_code = \"def print_scores(scores, METRICS, METRICS_DICT):\\n    for phase in [\\\"train\\\", \\\"test\\\"]:\\n        print(\\\"******\\\")\\n        print(f\\\"[{phase.upper()}]\\\")\\n        print(\\\"******\\\")\\n        for metric in METRICS:\\n            name = METRICS_DICT[metric]\\n            print(\\n                f\\\"{name}: %.3f (%.3f)\\\"\\n                % (\\n                    np.abs(np.mean(scores[f\\\"{phase}_\\\" + metric])),\\n                    np.std(scores[f\\\"{phase}_\\\" + metric]),\\n                )\\n            )\\n        print(\\\"\\\\n======================\\\\n\\\")\";\n",
       "                var nbb_formatted_code = \"def print_scores(scores, METRICS, METRICS_DICT):\\n    for phase in [\\\"train\\\", \\\"test\\\"]:\\n        print(\\\"******\\\")\\n        print(f\\\"[{phase.upper()}]\\\")\\n        print(\\\"******\\\")\\n        for metric in METRICS:\\n            name = METRICS_DICT[metric]\\n            print(\\n                f\\\"{name}: %.3f (%.3f)\\\"\\n                % (\\n                    np.abs(np.mean(scores[f\\\"{phase}_\\\" + metric])),\\n                    np.std(scores[f\\\"{phase}_\\\" + metric]),\\n                )\\n            )\\n        print(\\\"\\\\n======================\\\\n\\\")\";\n",
       "                var nbb_cells = Jupyter.notebook.get_cells();\n",
       "                for (var i = 0; i < nbb_cells.length; ++i) {\n",
       "                    if (nbb_cells[i].input_prompt_number == nbb_cell_id) {\n",
       "                        if (nbb_cells[i].get_text() == nbb_unformatted_code) {\n",
       "                             nbb_cells[i].set_text(nbb_formatted_code);\n",
       "                        }\n",
       "                        break;\n",
       "                    }\n",
       "                }\n",
       "            }, 500);\n",
       "            "
      ],
      "text/plain": [
       "<IPython.core.display.Javascript object>"
      ]
     },
     "metadata": {},
     "output_type": "display_data"
    }
   ],
   "source": [
    "def print_scores(scores, METRICS, METRICS_DICT):\n",
    "    for phase in [\"train\", \"test\"]:\n",
    "        print(\"******\")\n",
    "        print(f\"[{phase.upper()}]\")\n",
    "        print(\"******\")\n",
    "        for metric in METRICS:\n",
    "            name = METRICS_DICT[metric]\n",
    "            print(\n",
    "                f\"{name}: %.3f (%.3f)\"\n",
    "                % (\n",
    "                    np.abs(np.mean(scores[f\"{phase}_\" + metric])),\n",
    "                    np.std(scores[f\"{phase}_\" + metric]),\n",
    "                )\n",
    "            )\n",
    "        print(\"\\n======================\\n\")"
   ]
  },
  {
   "cell_type": "code",
   "execution_count": 23,
   "metadata": {},
   "outputs": [
    {
     "data": {
      "application/javascript": [
       "\n",
       "            setTimeout(function() {\n",
       "                var nbb_cell_id = 23;\n",
       "                var nbb_unformatted_code = \"def score_regression_metrics(y_train, y_train_pred, y_test, y_test_pred):\\n    TRAIN_RMSE = mean_squared_error(y_true=y_train, y_pred=y_train_pred, squared=False)\\n    TRAIN_MAE = mean_absolute_error(y_true=y_train, y_pred=y_train_pred)\\n    TRAIN_MAPE = mean_absolute_percentage_error(y_true=y_train, y_pred=y_train_pred)\\n    TRAIN_R2 = r2_score(y_true=y_train, y_pred=y_train_pred)\\n\\n    TEST_RMSE = mean_squared_error(y_true=y_test, y_pred=y_test_pred, squared=False)\\n    TEST_MAE = mean_absolute_error(y_true=y_test, y_pred=y_test_pred)\\n    TEST_MAPE = mean_absolute_percentage_error(y_true=y_test, y_pred=y_test_pred)\\n    TEST_R2 = r2_score(y_true=y_test, y_pred=y_test_pred)\\n\\n    scores = {\\n        \\\"train_neg_root_mean_squared_error\\\": TRAIN_RMSE,\\n        \\\"train_neg_mean_absolute_error\\\": TRAIN_MAE,\\n        \\\"train_neg_mean_absolute_percentage_error\\\": TRAIN_MAPE,\\n        \\\"train_r2\\\": TRAIN_R2,\\n        \\\"test_neg_root_mean_squared_error\\\": TEST_RMSE,\\n        \\\"test_neg_mean_absolute_error\\\": TEST_MAE,\\n        \\\"test_neg_mean_absolute_percentage_error\\\": TEST_MAPE,\\n        \\\"test_r2\\\": TEST_R2,\\n    }\\n    return scores\";\n",
       "                var nbb_formatted_code = \"def score_regression_metrics(y_train, y_train_pred, y_test, y_test_pred):\\n    TRAIN_RMSE = mean_squared_error(y_true=y_train, y_pred=y_train_pred, squared=False)\\n    TRAIN_MAE = mean_absolute_error(y_true=y_train, y_pred=y_train_pred)\\n    TRAIN_MAPE = mean_absolute_percentage_error(y_true=y_train, y_pred=y_train_pred)\\n    TRAIN_R2 = r2_score(y_true=y_train, y_pred=y_train_pred)\\n\\n    TEST_RMSE = mean_squared_error(y_true=y_test, y_pred=y_test_pred, squared=False)\\n    TEST_MAE = mean_absolute_error(y_true=y_test, y_pred=y_test_pred)\\n    TEST_MAPE = mean_absolute_percentage_error(y_true=y_test, y_pred=y_test_pred)\\n    TEST_R2 = r2_score(y_true=y_test, y_pred=y_test_pred)\\n\\n    scores = {\\n        \\\"train_neg_root_mean_squared_error\\\": TRAIN_RMSE,\\n        \\\"train_neg_mean_absolute_error\\\": TRAIN_MAE,\\n        \\\"train_neg_mean_absolute_percentage_error\\\": TRAIN_MAPE,\\n        \\\"train_r2\\\": TRAIN_R2,\\n        \\\"test_neg_root_mean_squared_error\\\": TEST_RMSE,\\n        \\\"test_neg_mean_absolute_error\\\": TEST_MAE,\\n        \\\"test_neg_mean_absolute_percentage_error\\\": TEST_MAPE,\\n        \\\"test_r2\\\": TEST_R2,\\n    }\\n    return scores\";\n",
       "                var nbb_cells = Jupyter.notebook.get_cells();\n",
       "                for (var i = 0; i < nbb_cells.length; ++i) {\n",
       "                    if (nbb_cells[i].input_prompt_number == nbb_cell_id) {\n",
       "                        if (nbb_cells[i].get_text() == nbb_unformatted_code) {\n",
       "                             nbb_cells[i].set_text(nbb_formatted_code);\n",
       "                        }\n",
       "                        break;\n",
       "                    }\n",
       "                }\n",
       "            }, 500);\n",
       "            "
      ],
      "text/plain": [
       "<IPython.core.display.Javascript object>"
      ]
     },
     "metadata": {},
     "output_type": "display_data"
    }
   ],
   "source": [
    "def score_regression_metrics(y_train, y_train_pred, y_test, y_test_pred):\n",
    "    TRAIN_RMSE = mean_squared_error(y_true=y_train, y_pred=y_train_pred, squared=False)\n",
    "    TRAIN_MAE = mean_absolute_error(y_true=y_train, y_pred=y_train_pred)\n",
    "    TRAIN_MAPE = mean_absolute_percentage_error(y_true=y_train, y_pred=y_train_pred)\n",
    "    TRAIN_R2 = r2_score(y_true=y_train, y_pred=y_train_pred)\n",
    "\n",
    "    TEST_RMSE = mean_squared_error(y_true=y_test, y_pred=y_test_pred, squared=False)\n",
    "    TEST_MAE = mean_absolute_error(y_true=y_test, y_pred=y_test_pred)\n",
    "    TEST_MAPE = mean_absolute_percentage_error(y_true=y_test, y_pred=y_test_pred)\n",
    "    TEST_R2 = r2_score(y_true=y_test, y_pred=y_test_pred)\n",
    "\n",
    "    scores = {\n",
    "        \"train_neg_root_mean_squared_error\": TRAIN_RMSE,\n",
    "        \"train_neg_mean_absolute_error\": TRAIN_MAE,\n",
    "        \"train_neg_mean_absolute_percentage_error\": TRAIN_MAPE,\n",
    "        \"train_r2\": TRAIN_R2,\n",
    "        \"test_neg_root_mean_squared_error\": TEST_RMSE,\n",
    "        \"test_neg_mean_absolute_error\": TEST_MAE,\n",
    "        \"test_neg_mean_absolute_percentage_error\": TEST_MAPE,\n",
    "        \"test_r2\": TEST_R2,\n",
    "    }\n",
    "    return scores"
   ]
  },
  {
   "cell_type": "code",
   "execution_count": 24,
   "metadata": {},
   "outputs": [
    {
     "data": {
      "application/javascript": [
       "\n",
       "            setTimeout(function() {\n",
       "                var nbb_cell_id = 24;\n",
       "                var nbb_unformatted_code = \"def get_model():\\n    model = tf.keras.Sequential()\\n    model.add(tf.keras.layers.Dense(units=256, activation=\\\"relu\\\")),\\n    model.add(tf.keras.layers.Dense(units=128, activation=\\\"relu\\\")),\\n    model.add(tf.keras.layers.Dense(units=64, activation=\\\"relu\\\")),\\n    model.add(tf.keras.layers.Dense(units=32, activation=\\\"relu\\\")),\\n    model.add(tf.keras.layers.Dense(units=16, activation=\\\"relu\\\")),\\n    model.add(tf.keras.layers.Dropout(rate=0.10))\\n    model.add(tf.keras.layers.Dense(units=1))\\n    model.compile(\\n        optimizer=tf.keras.optimizers.Adam(learning_rate=1e-3),\\n        loss=\\\"mse\\\",\\n        metrics=[tf.keras.metrics.RootMeanSquaredError(name=\\\"RMSE\\\")],\\n    )\\n    return model\";\n",
       "                var nbb_formatted_code = \"def get_model():\\n    model = tf.keras.Sequential()\\n    model.add(tf.keras.layers.Dense(units=256, activation=\\\"relu\\\")),\\n    model.add(tf.keras.layers.Dense(units=128, activation=\\\"relu\\\")),\\n    model.add(tf.keras.layers.Dense(units=64, activation=\\\"relu\\\")),\\n    model.add(tf.keras.layers.Dense(units=32, activation=\\\"relu\\\")),\\n    model.add(tf.keras.layers.Dense(units=16, activation=\\\"relu\\\")),\\n    model.add(tf.keras.layers.Dropout(rate=0.10))\\n    model.add(tf.keras.layers.Dense(units=1))\\n    model.compile(\\n        optimizer=tf.keras.optimizers.Adam(learning_rate=1e-3),\\n        loss=\\\"mse\\\",\\n        metrics=[tf.keras.metrics.RootMeanSquaredError(name=\\\"RMSE\\\")],\\n    )\\n    return model\";\n",
       "                var nbb_cells = Jupyter.notebook.get_cells();\n",
       "                for (var i = 0; i < nbb_cells.length; ++i) {\n",
       "                    if (nbb_cells[i].input_prompt_number == nbb_cell_id) {\n",
       "                        if (nbb_cells[i].get_text() == nbb_unformatted_code) {\n",
       "                             nbb_cells[i].set_text(nbb_formatted_code);\n",
       "                        }\n",
       "                        break;\n",
       "                    }\n",
       "                }\n",
       "            }, 500);\n",
       "            "
      ],
      "text/plain": [
       "<IPython.core.display.Javascript object>"
      ]
     },
     "metadata": {},
     "output_type": "display_data"
    }
   ],
   "source": [
    "def get_model():\n",
    "    model = tf.keras.Sequential()\n",
    "    model.add(tf.keras.layers.Dense(units=256, activation=\"relu\")),\n",
    "    model.add(tf.keras.layers.Dense(units=128, activation=\"relu\")),\n",
    "    model.add(tf.keras.layers.Dense(units=64, activation=\"relu\")),\n",
    "    model.add(tf.keras.layers.Dense(units=32, activation=\"relu\")),\n",
    "    model.add(tf.keras.layers.Dense(units=16, activation=\"relu\")),\n",
    "    model.add(tf.keras.layers.Dropout(rate=0.10))\n",
    "    model.add(tf.keras.layers.Dense(units=1))\n",
    "    model.compile(\n",
    "        optimizer=tf.keras.optimizers.Adam(learning_rate=1e-3),\n",
    "        loss=\"mse\",\n",
    "        metrics=[tf.keras.metrics.RootMeanSquaredError(name=\"RMSE\")],\n",
    "    )\n",
    "    return model"
   ]
  },
  {
   "cell_type": "markdown",
   "metadata": {},
   "source": [
    "# Settings for Reproducibility"
   ]
  },
  {
   "cell_type": "code",
   "execution_count": 25,
   "metadata": {},
   "outputs": [
    {
     "data": {
      "application/javascript": [
       "\n",
       "            setTimeout(function() {\n",
       "                var nbb_cell_id = 25;\n",
       "                var nbb_unformatted_code = \"def set_seeds():\\n    os.environ[\\\"CUDA_VISIBLE_DEVICES\\\"] = \\\"\\\"\\n    os.environ[\\\"PYTHONHASHSEED\\\"] = str(SEED)\\n    tf.random.set_seed(SEED)\\n    np.random.seed(SEED)\\n    random.seed(SEED)\";\n",
       "                var nbb_formatted_code = \"def set_seeds():\\n    os.environ[\\\"CUDA_VISIBLE_DEVICES\\\"] = \\\"\\\"\\n    os.environ[\\\"PYTHONHASHSEED\\\"] = str(SEED)\\n    tf.random.set_seed(SEED)\\n    np.random.seed(SEED)\\n    random.seed(SEED)\";\n",
       "                var nbb_cells = Jupyter.notebook.get_cells();\n",
       "                for (var i = 0; i < nbb_cells.length; ++i) {\n",
       "                    if (nbb_cells[i].input_prompt_number == nbb_cell_id) {\n",
       "                        if (nbb_cells[i].get_text() == nbb_unformatted_code) {\n",
       "                             nbb_cells[i].set_text(nbb_formatted_code);\n",
       "                        }\n",
       "                        break;\n",
       "                    }\n",
       "                }\n",
       "            }, 500);\n",
       "            "
      ],
      "text/plain": [
       "<IPython.core.display.Javascript object>"
      ]
     },
     "metadata": {},
     "output_type": "display_data"
    }
   ],
   "source": [
    "def set_seeds():\n",
    "    os.environ[\"CUDA_VISIBLE_DEVICES\"] = \"\"\n",
    "    os.environ[\"PYTHONHASHSEED\"] = str(SEED)\n",
    "    tf.random.set_seed(SEED)\n",
    "    np.random.seed(SEED)\n",
    "    random.seed(SEED)"
   ]
  },
  {
   "cell_type": "code",
   "execution_count": 26,
   "metadata": {},
   "outputs": [
    {
     "data": {
      "application/javascript": [
       "\n",
       "            setTimeout(function() {\n",
       "                var nbb_cell_id = 26;\n",
       "                var nbb_unformatted_code = \"SEED = 47\\nMETRICS = (\\n    \\\"neg_root_mean_squared_error\\\",\\n    \\\"neg_mean_absolute_error\\\",\\n    \\\"neg_mean_absolute_percentage_error\\\",\\n    \\\"r2\\\",\\n)\\nMETRICS_DICT = {\\n    \\\"neg_root_mean_squared_error\\\": \\\"RMSE\\\",\\n    \\\"neg_mean_absolute_error\\\": \\\"MAE\\\",\\n    \\\"neg_mean_absolute_percentage_error\\\": \\\"MAPE\\\",\\n    \\\"r2\\\": \\\"R2\\\",\\n}\";\n",
       "                var nbb_formatted_code = \"SEED = 47\\nMETRICS = (\\n    \\\"neg_root_mean_squared_error\\\",\\n    \\\"neg_mean_absolute_error\\\",\\n    \\\"neg_mean_absolute_percentage_error\\\",\\n    \\\"r2\\\",\\n)\\nMETRICS_DICT = {\\n    \\\"neg_root_mean_squared_error\\\": \\\"RMSE\\\",\\n    \\\"neg_mean_absolute_error\\\": \\\"MAE\\\",\\n    \\\"neg_mean_absolute_percentage_error\\\": \\\"MAPE\\\",\\n    \\\"r2\\\": \\\"R2\\\",\\n}\";\n",
       "                var nbb_cells = Jupyter.notebook.get_cells();\n",
       "                for (var i = 0; i < nbb_cells.length; ++i) {\n",
       "                    if (nbb_cells[i].input_prompt_number == nbb_cell_id) {\n",
       "                        if (nbb_cells[i].get_text() == nbb_unformatted_code) {\n",
       "                             nbb_cells[i].set_text(nbb_formatted_code);\n",
       "                        }\n",
       "                        break;\n",
       "                    }\n",
       "                }\n",
       "            }, 500);\n",
       "            "
      ],
      "text/plain": [
       "<IPython.core.display.Javascript object>"
      ]
     },
     "metadata": {},
     "output_type": "display_data"
    }
   ],
   "source": [
    "SEED = 47\n",
    "METRICS = (\n",
    "    \"neg_root_mean_squared_error\",\n",
    "    \"neg_mean_absolute_error\",\n",
    "    \"neg_mean_absolute_percentage_error\",\n",
    "    \"r2\",\n",
    ")\n",
    "METRICS_DICT = {\n",
    "    \"neg_root_mean_squared_error\": \"RMSE\",\n",
    "    \"neg_mean_absolute_error\": \"MAE\",\n",
    "    \"neg_mean_absolute_percentage_error\": \"MAPE\",\n",
    "    \"r2\": \"R2\",\n",
    "}"
   ]
  },
  {
   "cell_type": "markdown",
   "metadata": {},
   "source": [
    "# Baseline Model"
   ]
  },
  {
   "cell_type": "markdown",
   "metadata": {},
   "source": [
    "# 1. Linear Regression"
   ]
  },
  {
   "cell_type": "markdown",
   "metadata": {},
   "source": [
    "# Intercement"
   ]
  },
  {
   "cell_type": "code",
   "execution_count": 29,
   "metadata": {},
   "outputs": [
    {
     "data": {
      "application/javascript": [
       "\n",
       "            setTimeout(function() {\n",
       "                var nbb_cell_id = 29;\n",
       "                var nbb_unformatted_code = \"df = pd.read_csv(\\\"../../../../data/processed/Intercement/cement-shipping.csv\\\")\";\n",
       "                var nbb_formatted_code = \"df = pd.read_csv(\\\"../../../../data/processed/Intercement/cement-shipping.csv\\\")\";\n",
       "                var nbb_cells = Jupyter.notebook.get_cells();\n",
       "                for (var i = 0; i < nbb_cells.length; ++i) {\n",
       "                    if (nbb_cells[i].input_prompt_number == nbb_cell_id) {\n",
       "                        if (nbb_cells[i].get_text() == nbb_unformatted_code) {\n",
       "                             nbb_cells[i].set_text(nbb_formatted_code);\n",
       "                        }\n",
       "                        break;\n",
       "                    }\n",
       "                }\n",
       "            }, 500);\n",
       "            "
      ],
      "text/plain": [
       "<IPython.core.display.Javascript object>"
      ]
     },
     "metadata": {},
     "output_type": "display_data"
    }
   ],
   "source": [
    "df = pd.read_csv(\"../../../../data/processed/Intercement/cement-shipping.csv\")"
   ]
  },
  {
   "cell_type": "markdown",
   "metadata": {},
   "source": [
    "<h2>1. Dataset: df_no_cs</h2> <br>In this dataset the CS1, CS3  and CS7 variables are not considered."
   ]
  },
  {
   "cell_type": "code",
   "execution_count": 30,
   "metadata": {},
   "outputs": [
    {
     "data": {
      "application/javascript": [
       "\n",
       "            setTimeout(function() {\n",
       "                var nbb_cell_id = 30;\n",
       "                var nbb_unformatted_code = \"df_no_cs = df.drop(\\n    [\\n        \\\"RC1\\\",\\n        \\\"RC3\\\",\\n        \\\"RC7\\\",\\n    ],\\n    axis=1,\\n).copy()\\n\\ny = df_no_cs.pop(\\\"RC28\\\").values\\nx = df_no_cs.drop([\\\"Data\\\"], axis=1)\";\n",
       "                var nbb_formatted_code = \"df_no_cs = df.drop(\\n    [\\n        \\\"RC1\\\",\\n        \\\"RC3\\\",\\n        \\\"RC7\\\",\\n    ],\\n    axis=1,\\n).copy()\\n\\ny = df_no_cs.pop(\\\"RC28\\\").values\\nx = df_no_cs.drop([\\\"Data\\\"], axis=1)\";\n",
       "                var nbb_cells = Jupyter.notebook.get_cells();\n",
       "                for (var i = 0; i < nbb_cells.length; ++i) {\n",
       "                    if (nbb_cells[i].input_prompt_number == nbb_cell_id) {\n",
       "                        if (nbb_cells[i].get_text() == nbb_unformatted_code) {\n",
       "                             nbb_cells[i].set_text(nbb_formatted_code);\n",
       "                        }\n",
       "                        break;\n",
       "                    }\n",
       "                }\n",
       "            }, 500);\n",
       "            "
      ],
      "text/plain": [
       "<IPython.core.display.Javascript object>"
      ]
     },
     "metadata": {},
     "output_type": "display_data"
    }
   ],
   "source": [
    "df_no_cs = df.drop(\n",
    "    [\n",
    "        \"RC1\",\n",
    "        \"RC3\",\n",
    "        \"RC7\",\n",
    "    ],\n",
    "    axis=1,\n",
    ").copy()\n",
    "\n",
    "y = df_no_cs.pop(\"RC28\").values\n",
    "x = df_no_cs.drop([\"Data\"], axis=1)"
   ]
  },
  {
   "cell_type": "markdown",
   "metadata": {},
   "source": [
    "## 1.1 Repeated KFold Cross validation\n",
    "\n",
    "<b>Dataset shape:</b> (1234, 38)<br>\n",
    "<b>Repeats:</b>10<br>\n",
    "<b>Splits:</b>10<br>\n",
    "    1. 10 folds of 123 samples each\n",
    "    2. 90% train (1111 samples each fold)\n",
    "    3. 10% test (123 samples each fold)\n",
    "<b>Total:</b> 100 models<br>"
   ]
  },
  {
   "cell_type": "code",
   "execution_count": 31,
   "metadata": {},
   "outputs": [
    {
     "name": "stdout",
     "output_type": "stream",
     "text": [
      "Repeated Cross Validation:\n",
      "Repeats: 10\n",
      "n_splits: 10\n",
      "\n",
      "******\n",
      "[TRAIN]\n",
      "******\n",
      "RMSE: 3.769 (0.037)\n",
      "MAE: 2.892 (0.021)\n",
      "MAPE: 0.063 (0.001)\n",
      "R2: 0.706 (0.006)\n",
      "\n",
      "======================\n",
      "\n",
      "******\n",
      "[TEST]\n",
      "******\n",
      "RMSE: 3.803 (0.326)\n",
      "MAE: 2.904 (0.087)\n",
      "MAPE: 0.063 (0.002)\n",
      "R2: 0.697 (0.055)\n",
      "\n",
      "======================\n",
      "\n"
     ]
    },
    {
     "data": {
      "application/javascript": [
       "\n",
       "            setTimeout(function() {\n",
       "                var nbb_cell_id = 31;\n",
       "                var nbb_unformatted_code = \"set_seeds()\\nrepeats = 10\\nn_splits = 10\\npipeline = Pipeline(\\n    [(\\\"transformer\\\", StandardScaler()), (\\\"estimator\\\", LinearRegression())]\\n)\\ncv = RepeatedKFold(n_splits=n_splits, n_repeats=repeats, random_state=SEED)\\nscores = cross_validate(\\n    pipeline,\\n    x,\\n    y,\\n    scoring=METRICS,\\n    cv=cv,\\n    n_jobs=-1,\\n    return_train_score=True,\\n)\\n# scores = np.abs(scores)\\nprint(\\\"Repeated Cross Validation:\\\")\\nprint(f\\\"Repeats: {repeats}\\\")\\nprint(f\\\"n_splits: {n_splits}\\\")\\nprint()\\nprint_scores(scores, METRICS, METRICS_DICT)\";\n",
       "                var nbb_formatted_code = \"set_seeds()\\nrepeats = 10\\nn_splits = 10\\npipeline = Pipeline(\\n    [(\\\"transformer\\\", StandardScaler()), (\\\"estimator\\\", LinearRegression())]\\n)\\ncv = RepeatedKFold(n_splits=n_splits, n_repeats=repeats, random_state=SEED)\\nscores = cross_validate(\\n    pipeline,\\n    x,\\n    y,\\n    scoring=METRICS,\\n    cv=cv,\\n    n_jobs=-1,\\n    return_train_score=True,\\n)\\n# scores = np.abs(scores)\\nprint(\\\"Repeated Cross Validation:\\\")\\nprint(f\\\"Repeats: {repeats}\\\")\\nprint(f\\\"n_splits: {n_splits}\\\")\\nprint()\\nprint_scores(scores, METRICS, METRICS_DICT)\";\n",
       "                var nbb_cells = Jupyter.notebook.get_cells();\n",
       "                for (var i = 0; i < nbb_cells.length; ++i) {\n",
       "                    if (nbb_cells[i].input_prompt_number == nbb_cell_id) {\n",
       "                        if (nbb_cells[i].get_text() == nbb_unformatted_code) {\n",
       "                             nbb_cells[i].set_text(nbb_formatted_code);\n",
       "                        }\n",
       "                        break;\n",
       "                    }\n",
       "                }\n",
       "            }, 500);\n",
       "            "
      ],
      "text/plain": [
       "<IPython.core.display.Javascript object>"
      ]
     },
     "metadata": {},
     "output_type": "display_data"
    }
   ],
   "source": [
    "set_seeds()\n",
    "repeats = 10\n",
    "n_splits = 10\n",
    "pipeline = Pipeline(\n",
    "    [(\"transformer\", StandardScaler()), (\"estimator\", LinearRegression())]\n",
    ")\n",
    "cv = RepeatedKFold(n_splits=n_splits, n_repeats=repeats, random_state=SEED)\n",
    "scores = cross_validate(\n",
    "    pipeline,\n",
    "    x,\n",
    "    y,\n",
    "    scoring=METRICS,\n",
    "    cv=cv,\n",
    "    n_jobs=-1,\n",
    "    return_train_score=True,\n",
    ")\n",
    "# scores = np.abs(scores)\n",
    "print(\"Repeated Cross Validation:\")\n",
    "print(f\"Repeats: {repeats}\")\n",
    "print(f\"n_splits: {n_splits}\")\n",
    "print()\n",
    "print_scores(scores, METRICS, METRICS_DICT)"
   ]
  },
  {
   "cell_type": "markdown",
   "metadata": {},
   "source": [
    "# partner_iii"
   ]
  },
  {
   "cell_type": "code",
   "execution_count": 34,
   "metadata": {},
   "outputs": [
    {
     "data": {
      "application/javascript": [
       "\n",
       "            setTimeout(function() {\n",
       "                var nbb_cell_id = 34;\n",
       "                var nbb_unformatted_code = \"df_partner_iii = pd.read_csv(\\n    \\\"../../../../data/interim/partner_iii/Dati CADD 2020-2022_with_fillna.csv\\\"\\n)\";\n",
       "                var nbb_formatted_code = \"df_partner_iii = pd.read_csv(\\n    \\\"../../../../data/interim/partner_iii/Dati CADD 2020-2022_with_fillna.csv\\\"\\n)\";\n",
       "                var nbb_cells = Jupyter.notebook.get_cells();\n",
       "                for (var i = 0; i < nbb_cells.length; ++i) {\n",
       "                    if (nbb_cells[i].input_prompt_number == nbb_cell_id) {\n",
       "                        if (nbb_cells[i].get_text() == nbb_unformatted_code) {\n",
       "                             nbb_cells[i].set_text(nbb_formatted_code);\n",
       "                        }\n",
       "                        break;\n",
       "                    }\n",
       "                }\n",
       "            }, 500);\n",
       "            "
      ],
      "text/plain": [
       "<IPython.core.display.Javascript object>"
      ]
     },
     "metadata": {},
     "output_type": "display_data"
    }
   ],
   "source": [
    "df_partner_iii = pd.read_csv(\n",
    "    \"../../../../data/interim/partner_iii/Dati CADD 2020-2022_with_fillna.csv\"\n",
    ")"
   ]
  },
  {
   "cell_type": "code",
   "execution_count": 35,
   "metadata": {},
   "outputs": [
    {
     "data": {
      "application/javascript": [
       "\n",
       "            setTimeout(function() {\n",
       "                var nbb_cell_id = 35;\n",
       "                var nbb_unformatted_code = \"y = df_partner_iii.pop(\\\"28d compressive strength (MPa)\\\").values\\nx = df_partner_iii.values\";\n",
       "                var nbb_formatted_code = \"y = df_partner_iii.pop(\\\"28d compressive strength (MPa)\\\").values\\nx = df_partner_iii.values\";\n",
       "                var nbb_cells = Jupyter.notebook.get_cells();\n",
       "                for (var i = 0; i < nbb_cells.length; ++i) {\n",
       "                    if (nbb_cells[i].input_prompt_number == nbb_cell_id) {\n",
       "                        if (nbb_cells[i].get_text() == nbb_unformatted_code) {\n",
       "                             nbb_cells[i].set_text(nbb_formatted_code);\n",
       "                        }\n",
       "                        break;\n",
       "                    }\n",
       "                }\n",
       "            }, 500);\n",
       "            "
      ],
      "text/plain": [
       "<IPython.core.display.Javascript object>"
      ]
     },
     "metadata": {},
     "output_type": "display_data"
    }
   ],
   "source": [
    "y = df_partner_iii.pop(\"28d compressive strength (MPa)\").values\n",
    "x = df_partner_iii.values"
   ]
  },
  {
   "cell_type": "code",
   "execution_count": 36,
   "metadata": {},
   "outputs": [
    {
     "name": "stdout",
     "output_type": "stream",
     "text": [
      "Repeated Cross Validation:\n",
      "Repeats: 10\n",
      "n_splits: 10\n",
      "\n",
      "******\n",
      "[TRAIN]\n",
      "******\n",
      "RMSE: 5.137 (0.055)\n",
      "MAE: 3.990 (0.047)\n",
      "MAPE: 0.079 (0.001)\n",
      "R2: 0.463 (0.014)\n",
      "\n",
      "======================\n",
      "\n",
      "******\n",
      "[TEST]\n",
      "******\n",
      "RMSE: 5.165 (0.490)\n",
      "MAE: 4.030 (0.426)\n",
      "MAPE: 0.080 (0.009)\n",
      "R2: 0.417 (0.145)\n",
      "\n",
      "======================\n",
      "\n"
     ]
    },
    {
     "data": {
      "application/javascript": [
       "\n",
       "            setTimeout(function() {\n",
       "                var nbb_cell_id = 36;\n",
       "                var nbb_unformatted_code = \"set_seeds()\\nrepeats = 10\\nn_splits = 10\\npipeline = Pipeline(\\n    [(\\\"transformer\\\", StandardScaler()), (\\\"estimator\\\", LinearRegression())]\\n)\\ncv = RepeatedKFold(n_splits=n_splits, n_repeats=repeats, random_state=SEED)\\nscores = cross_validate(\\n    pipeline,\\n    x,\\n    y,\\n    scoring=METRICS,\\n    cv=cv,\\n    n_jobs=-1,\\n    return_train_score=True,\\n)\\n# scores = np.abs(scores)\\nprint(\\\"Repeated Cross Validation:\\\")\\nprint(f\\\"Repeats: {repeats}\\\")\\nprint(f\\\"n_splits: {n_splits}\\\")\\nprint()\\nprint_scores(scores, METRICS, METRICS_DICT)\";\n",
       "                var nbb_formatted_code = \"set_seeds()\\nrepeats = 10\\nn_splits = 10\\npipeline = Pipeline(\\n    [(\\\"transformer\\\", StandardScaler()), (\\\"estimator\\\", LinearRegression())]\\n)\\ncv = RepeatedKFold(n_splits=n_splits, n_repeats=repeats, random_state=SEED)\\nscores = cross_validate(\\n    pipeline,\\n    x,\\n    y,\\n    scoring=METRICS,\\n    cv=cv,\\n    n_jobs=-1,\\n    return_train_score=True,\\n)\\n# scores = np.abs(scores)\\nprint(\\\"Repeated Cross Validation:\\\")\\nprint(f\\\"Repeats: {repeats}\\\")\\nprint(f\\\"n_splits: {n_splits}\\\")\\nprint()\\nprint_scores(scores, METRICS, METRICS_DICT)\";\n",
       "                var nbb_cells = Jupyter.notebook.get_cells();\n",
       "                for (var i = 0; i < nbb_cells.length; ++i) {\n",
       "                    if (nbb_cells[i].input_prompt_number == nbb_cell_id) {\n",
       "                        if (nbb_cells[i].get_text() == nbb_unformatted_code) {\n",
       "                             nbb_cells[i].set_text(nbb_formatted_code);\n",
       "                        }\n",
       "                        break;\n",
       "                    }\n",
       "                }\n",
       "            }, 500);\n",
       "            "
      ],
      "text/plain": [
       "<IPython.core.display.Javascript object>"
      ]
     },
     "metadata": {},
     "output_type": "display_data"
    }
   ],
   "source": [
    "set_seeds()\n",
    "repeats = 10\n",
    "n_splits = 10\n",
    "pipeline = Pipeline(\n",
    "    [(\"transformer\", StandardScaler()), (\"estimator\", LinearRegression())]\n",
    ")\n",
    "cv = RepeatedKFold(n_splits=n_splits, n_repeats=repeats, random_state=SEED)\n",
    "scores = cross_validate(\n",
    "    pipeline,\n",
    "    x,\n",
    "    y,\n",
    "    scoring=METRICS,\n",
    "    cv=cv,\n",
    "    n_jobs=-1,\n",
    "    return_train_score=True,\n",
    ")\n",
    "# scores = np.abs(scores)\n",
    "print(\"Repeated Cross Validation:\")\n",
    "print(f\"Repeats: {repeats}\")\n",
    "print(f\"n_splits: {n_splits}\")\n",
    "print()\n",
    "print_scores(scores, METRICS, METRICS_DICT)"
   ]
  },
  {
   "cell_type": "markdown",
   "metadata": {},
   "source": [
    "# partner_ii"
   ]
  },
  {
   "cell_type": "code",
   "execution_count": 38,
   "metadata": {},
   "outputs": [
    {
     "data": {
      "application/javascript": [
       "\n",
       "            setTimeout(function() {\n",
       "                var nbb_cell_id = 38;\n",
       "                var nbb_unformatted_code = \"df = pd.read_csv(\\\"../../../../data/processed/partner_ii/cement-shipping.csv\\\")\\ndf_no_cs = df.drop(\\n    [\\\"strength_1d\\\", \\\"strength_3d\\\", \\\"strength_7d\\\"],\\n    axis=1,\\n).copy()\\n\\ny = df_no_cs.pop(\\\"strength_28d\\\").values\\nx = df_no_cs.drop([\\\"sample_date\\\"], axis=1)\";\n",
       "                var nbb_formatted_code = \"df = pd.read_csv(\\\"../../../../data/processed/partner_ii/cement-shipping.csv\\\")\\ndf_no_cs = df.drop(\\n    [\\\"strength_1d\\\", \\\"strength_3d\\\", \\\"strength_7d\\\"],\\n    axis=1,\\n).copy()\\n\\ny = df_no_cs.pop(\\\"strength_28d\\\").values\\nx = df_no_cs.drop([\\\"sample_date\\\"], axis=1)\";\n",
       "                var nbb_cells = Jupyter.notebook.get_cells();\n",
       "                for (var i = 0; i < nbb_cells.length; ++i) {\n",
       "                    if (nbb_cells[i].input_prompt_number == nbb_cell_id) {\n",
       "                        if (nbb_cells[i].get_text() == nbb_unformatted_code) {\n",
       "                             nbb_cells[i].set_text(nbb_formatted_code);\n",
       "                        }\n",
       "                        break;\n",
       "                    }\n",
       "                }\n",
       "            }, 500);\n",
       "            "
      ],
      "text/plain": [
       "<IPython.core.display.Javascript object>"
      ]
     },
     "metadata": {},
     "output_type": "display_data"
    }
   ],
   "source": [
    "df = pd.read_csv(\"../../../../data/processed/partner_ii/cement-shipping.csv\")\n",
    "df_no_cs = df.drop(\n",
    "    [\"strength_1d\", \"strength_3d\", \"strength_7d\"],\n",
    "    axis=1,\n",
    ").copy()\n",
    "\n",
    "y = df_no_cs.pop(\"strength_28d\").values\n",
    "x = df_no_cs.drop([\"sample_date\"], axis=1)"
   ]
  },
  {
   "cell_type": "code",
   "execution_count": 39,
   "metadata": {},
   "outputs": [
    {
     "name": "stdout",
     "output_type": "stream",
     "text": [
      "Repeated Cross Validation:\n",
      "Repeats: 10\n",
      "n_splits: 10\n",
      "\n",
      "******\n",
      "[TRAIN]\n",
      "******\n",
      "RMSE: 2.195 (0.021)\n",
      "MAE: 1.749 (0.016)\n",
      "MAPE: 0.041 (0.000)\n",
      "R2: 0.614 (0.007)\n",
      "\n",
      "======================\n",
      "\n",
      "******\n",
      "[TEST]\n",
      "******\n",
      "RMSE: 2.263 (0.207)\n",
      "MAE: 1.787 (0.137)\n",
      "MAPE: 0.042 (0.003)\n",
      "R2: 0.580 (0.080)\n",
      "\n",
      "======================\n",
      "\n"
     ]
    },
    {
     "data": {
      "application/javascript": [
       "\n",
       "            setTimeout(function() {\n",
       "                var nbb_cell_id = 39;\n",
       "                var nbb_unformatted_code = \"set_seeds()\\nrepeats = 10\\nn_splits = 10\\npipeline = Pipeline(\\n    [(\\\"transformer\\\", StandardScaler()), (\\\"estimator\\\", LinearRegression())]\\n)\\ncv = RepeatedKFold(n_splits=n_splits, n_repeats=repeats, random_state=SEED)\\nscores = cross_validate(\\n    pipeline,\\n    x,\\n    y,\\n    scoring=METRICS,\\n    cv=cv,\\n    n_jobs=-1,\\n    return_train_score=True,\\n)\\n# scores = np.abs(scores)\\nprint(\\\"Repeated Cross Validation:\\\")\\nprint(f\\\"Repeats: {repeats}\\\")\\nprint(f\\\"n_splits: {n_splits}\\\")\\nprint()\\nprint_scores(scores, METRICS, METRICS_DICT)\";\n",
       "                var nbb_formatted_code = \"set_seeds()\\nrepeats = 10\\nn_splits = 10\\npipeline = Pipeline(\\n    [(\\\"transformer\\\", StandardScaler()), (\\\"estimator\\\", LinearRegression())]\\n)\\ncv = RepeatedKFold(n_splits=n_splits, n_repeats=repeats, random_state=SEED)\\nscores = cross_validate(\\n    pipeline,\\n    x,\\n    y,\\n    scoring=METRICS,\\n    cv=cv,\\n    n_jobs=-1,\\n    return_train_score=True,\\n)\\n# scores = np.abs(scores)\\nprint(\\\"Repeated Cross Validation:\\\")\\nprint(f\\\"Repeats: {repeats}\\\")\\nprint(f\\\"n_splits: {n_splits}\\\")\\nprint()\\nprint_scores(scores, METRICS, METRICS_DICT)\";\n",
       "                var nbb_cells = Jupyter.notebook.get_cells();\n",
       "                for (var i = 0; i < nbb_cells.length; ++i) {\n",
       "                    if (nbb_cells[i].input_prompt_number == nbb_cell_id) {\n",
       "                        if (nbb_cells[i].get_text() == nbb_unformatted_code) {\n",
       "                             nbb_cells[i].set_text(nbb_formatted_code);\n",
       "                        }\n",
       "                        break;\n",
       "                    }\n",
       "                }\n",
       "            }, 500);\n",
       "            "
      ],
      "text/plain": [
       "<IPython.core.display.Javascript object>"
      ]
     },
     "metadata": {},
     "output_type": "display_data"
    }
   ],
   "source": [
    "set_seeds()\n",
    "repeats = 10\n",
    "n_splits = 10\n",
    "pipeline = Pipeline(\n",
    "    [(\"transformer\", StandardScaler()), (\"estimator\", LinearRegression())]\n",
    ")\n",
    "cv = RepeatedKFold(n_splits=n_splits, n_repeats=repeats, random_state=SEED)\n",
    "scores = cross_validate(\n",
    "    pipeline,\n",
    "    x,\n",
    "    y,\n",
    "    scoring=METRICS,\n",
    "    cv=cv,\n",
    "    n_jobs=-1,\n",
    "    return_train_score=True,\n",
    ")\n",
    "# scores = np.abs(scores)\n",
    "print(\"Repeated Cross Validation:\")\n",
    "print(f\"Repeats: {repeats}\")\n",
    "print(f\"n_splits: {n_splits}\")\n",
    "print()\n",
    "print_scores(scores, METRICS, METRICS_DICT)"
   ]
  },
  {
   "cell_type": "markdown",
   "metadata": {},
   "source": [
    "# Transfer Learning - MLP"
   ]
  },
  {
   "cell_type": "markdown",
   "metadata": {},
   "source": [
    "## Pre Trainning"
   ]
  },
  {
   "cell_type": "code",
   "execution_count": 40,
   "metadata": {},
   "outputs": [
    {
     "data": {
      "application/javascript": [
       "\n",
       "            setTimeout(function() {\n",
       "                var nbb_cell_id = 40;\n",
       "                var nbb_unformatted_code = \"batch_size = 32\\nepochs = 200\\nverbose = 0\";\n",
       "                var nbb_formatted_code = \"batch_size = 32\\nepochs = 200\\nverbose = 0\";\n",
       "                var nbb_cells = Jupyter.notebook.get_cells();\n",
       "                for (var i = 0; i < nbb_cells.length; ++i) {\n",
       "                    if (nbb_cells[i].input_prompt_number == nbb_cell_id) {\n",
       "                        if (nbb_cells[i].get_text() == nbb_unformatted_code) {\n",
       "                             nbb_cells[i].set_text(nbb_formatted_code);\n",
       "                        }\n",
       "                        break;\n",
       "                    }\n",
       "                }\n",
       "            }, 500);\n",
       "            "
      ],
      "text/plain": [
       "<IPython.core.display.Javascript object>"
      ]
     },
     "metadata": {},
     "output_type": "display_data"
    }
   ],
   "source": [
    "batch_size = 32\n",
    "epochs = 200\n",
    "verbose = 0"
   ]
  },
  {
   "cell_type": "markdown",
   "metadata": {},
   "source": [
    "# Intercement"
   ]
  },
  {
   "cell_type": "code",
   "execution_count": 43,
   "metadata": {},
   "outputs": [
    {
     "data": {
      "application/javascript": [
       "\n",
       "            setTimeout(function() {\n",
       "                var nbb_cell_id = 43;\n",
       "                var nbb_unformatted_code = \"df = pd.read_csv(\\\"../../../../data/processed/Intercement/cement-shipping.csv\\\")\\ndf_no_cs = df.drop(\\n    [\\n        \\\"RC1\\\",\\n        \\\"RC3\\\",\\n        \\\"RC7\\\",\\n    ],\\n    axis=1,\\n).copy()\\n\\ny = df_no_cs.pop(\\\"RC28\\\").values\\nx = df_no_cs.drop([\\\"Data\\\"], axis=1)\\nx_train, x_test, y_train, y_test = train_test_split(\\n    x, y, test_size=0.2, random_state=SEED, shuffle=False\\n)\";\n",
       "                var nbb_formatted_code = \"df = pd.read_csv(\\\"../../../../data/processed/Intercement/cement-shipping.csv\\\")\\ndf_no_cs = df.drop(\\n    [\\n        \\\"RC1\\\",\\n        \\\"RC3\\\",\\n        \\\"RC7\\\",\\n    ],\\n    axis=1,\\n).copy()\\n\\ny = df_no_cs.pop(\\\"RC28\\\").values\\nx = df_no_cs.drop([\\\"Data\\\"], axis=1)\\nx_train, x_test, y_train, y_test = train_test_split(\\n    x, y, test_size=0.2, random_state=SEED, shuffle=False\\n)\";\n",
       "                var nbb_cells = Jupyter.notebook.get_cells();\n",
       "                for (var i = 0; i < nbb_cells.length; ++i) {\n",
       "                    if (nbb_cells[i].input_prompt_number == nbb_cell_id) {\n",
       "                        if (nbb_cells[i].get_text() == nbb_unformatted_code) {\n",
       "                             nbb_cells[i].set_text(nbb_formatted_code);\n",
       "                        }\n",
       "                        break;\n",
       "                    }\n",
       "                }\n",
       "            }, 500);\n",
       "            "
      ],
      "text/plain": [
       "<IPython.core.display.Javascript object>"
      ]
     },
     "metadata": {},
     "output_type": "display_data"
    }
   ],
   "source": [
    "df = pd.read_csv(\"../../../../data/processed/Intercement/cement-shipping.csv\")\n",
    "df_no_cs = df.drop(\n",
    "    [\n",
    "        \"RC1\",\n",
    "        \"RC3\",\n",
    "        \"RC7\",\n",
    "    ],\n",
    "    axis=1,\n",
    ").copy()\n",
    "\n",
    "y = df_no_cs.pop(\"RC28\").values\n",
    "x = df_no_cs.drop([\"Data\"], axis=1)\n",
    "x_train, x_test, y_train, y_test = train_test_split(\n",
    "    x, y, test_size=0.2, random_state=SEED, shuffle=False\n",
    ")"
   ]
  },
  {
   "cell_type": "code",
   "execution_count": 44,
   "metadata": {},
   "outputs": [
    {
     "data": {
      "application/javascript": [
       "\n",
       "            setTimeout(function() {\n",
       "                var nbb_cell_id = 44;\n",
       "                var nbb_unformatted_code = \"def get_model():\\n    model = tf.keras.Sequential()\\n    model.add(tf.keras.layers.Dense(units=32, activation=\\\"relu\\\")),\\n    model.add(tf.keras.layers.Dense(units=16, activation=\\\"relu\\\")),\\n    model.add(tf.keras.layers.Dropout(rate=0.10))\\n    model.add(tf.keras.layers.Dense(units=1))\\n    model.compile(\\n        optimizer=tf.keras.optimizers.Adam(learning_rate=1e-3),\\n        loss=\\\"mse\\\",\\n        metrics=[tf.keras.metrics.RootMeanSquaredError(name=\\\"RMSE\\\")],\\n    )\\n    return model\";\n",
       "                var nbb_formatted_code = \"def get_model():\\n    model = tf.keras.Sequential()\\n    model.add(tf.keras.layers.Dense(units=32, activation=\\\"relu\\\")),\\n    model.add(tf.keras.layers.Dense(units=16, activation=\\\"relu\\\")),\\n    model.add(tf.keras.layers.Dropout(rate=0.10))\\n    model.add(tf.keras.layers.Dense(units=1))\\n    model.compile(\\n        optimizer=tf.keras.optimizers.Adam(learning_rate=1e-3),\\n        loss=\\\"mse\\\",\\n        metrics=[tf.keras.metrics.RootMeanSquaredError(name=\\\"RMSE\\\")],\\n    )\\n    return model\";\n",
       "                var nbb_cells = Jupyter.notebook.get_cells();\n",
       "                for (var i = 0; i < nbb_cells.length; ++i) {\n",
       "                    if (nbb_cells[i].input_prompt_number == nbb_cell_id) {\n",
       "                        if (nbb_cells[i].get_text() == nbb_unformatted_code) {\n",
       "                             nbb_cells[i].set_text(nbb_formatted_code);\n",
       "                        }\n",
       "                        break;\n",
       "                    }\n",
       "                }\n",
       "            }, 500);\n",
       "            "
      ],
      "text/plain": [
       "<IPython.core.display.Javascript object>"
      ]
     },
     "metadata": {},
     "output_type": "display_data"
    }
   ],
   "source": [
    "def get_model():\n",
    "    model = tf.keras.Sequential()\n",
    "    model.add(tf.keras.layers.Dense(units=32, activation=\"relu\")),\n",
    "    model.add(tf.keras.layers.Dense(units=16, activation=\"relu\")),\n",
    "    model.add(tf.keras.layers.Dropout(rate=0.10))\n",
    "    model.add(tf.keras.layers.Dense(units=1))\n",
    "    model.compile(\n",
    "        optimizer=tf.keras.optimizers.Adam(learning_rate=1e-3),\n",
    "        loss=\"mse\",\n",
    "        metrics=[tf.keras.metrics.RootMeanSquaredError(name=\"RMSE\")],\n",
    "    )\n",
    "    return model"
   ]
  },
  {
   "cell_type": "code",
   "execution_count": 45,
   "metadata": {},
   "outputs": [
    {
     "data": {
      "application/javascript": [
       "\n",
       "            setTimeout(function() {\n",
       "                var nbb_cell_id = 45;\n",
       "                var nbb_unformatted_code = \"set_seeds()\\nmodel = get_model()\\nsc = StandardScaler()\\nhistory = model.fit(\\n    sc.fit_transform(x_train),\\n    y_train,\\n    batch_size=batch_size,\\n    epochs=epochs,\\n    verbose=verbose,\\n)\";\n",
       "                var nbb_formatted_code = \"set_seeds()\\nmodel = get_model()\\nsc = StandardScaler()\\nhistory = model.fit(\\n    sc.fit_transform(x_train),\\n    y_train,\\n    batch_size=batch_size,\\n    epochs=epochs,\\n    verbose=verbose,\\n)\";\n",
       "                var nbb_cells = Jupyter.notebook.get_cells();\n",
       "                for (var i = 0; i < nbb_cells.length; ++i) {\n",
       "                    if (nbb_cells[i].input_prompt_number == nbb_cell_id) {\n",
       "                        if (nbb_cells[i].get_text() == nbb_unformatted_code) {\n",
       "                             nbb_cells[i].set_text(nbb_formatted_code);\n",
       "                        }\n",
       "                        break;\n",
       "                    }\n",
       "                }\n",
       "            }, 500);\n",
       "            "
      ],
      "text/plain": [
       "<IPython.core.display.Javascript object>"
      ]
     },
     "metadata": {},
     "output_type": "display_data"
    }
   ],
   "source": [
    "set_seeds()\n",
    "model = get_model()\n",
    "sc = StandardScaler()\n",
    "history = model.fit(\n",
    "    sc.fit_transform(x_train),\n",
    "    y_train,\n",
    "    batch_size=batch_size,\n",
    "    epochs=epochs,\n",
    "    verbose=verbose,\n",
    ")"
   ]
  },
  {
   "cell_type": "code",
   "execution_count": 46,
   "metadata": {},
   "outputs": [
    {
     "data": {
      "text/plain": [
       "[<matplotlib.lines.Line2D at 0x7f36823d60f0>]"
      ]
     },
     "execution_count": 46,
     "metadata": {},
     "output_type": "execute_result"
    },
    {
     "data": {
      "image/png": "[encoded data removed]",
      "text/plain": [
       "<Figure size 432x288 with 1 Axes>"
      ]
     },
     "metadata": {
      "needs_background": "light"
     },
     "output_type": "display_data"
    },
    {
     "data": {
      "application/javascript": [
       "\n",
       "            setTimeout(function() {\n",
       "                var nbb_cell_id = 46;\n",
       "                var nbb_unformatted_code = \"plt.plot(history.history[\\\"RMSE\\\"])\";\n",
       "                var nbb_formatted_code = \"plt.plot(history.history[\\\"RMSE\\\"])\";\n",
       "                var nbb_cells = Jupyter.notebook.get_cells();\n",
       "                for (var i = 0; i < nbb_cells.length; ++i) {\n",
       "                    if (nbb_cells[i].input_prompt_number == nbb_cell_id) {\n",
       "                        if (nbb_cells[i].get_text() == nbb_unformatted_code) {\n",
       "                             nbb_cells[i].set_text(nbb_formatted_code);\n",
       "                        }\n",
       "                        break;\n",
       "                    }\n",
       "                }\n",
       "            }, 500);\n",
       "            "
      ],
      "text/plain": [
       "<IPython.core.display.Javascript object>"
      ]
     },
     "metadata": {},
     "output_type": "display_data"
    }
   ],
   "source": [
    "plt.plot(history.history[\"RMSE\"])"
   ]
  },
  {
   "cell_type": "code",
   "execution_count": 47,
   "metadata": {},
   "outputs": [
    {
     "name": "stdout",
     "output_type": "stream",
     "text": [
      "******\n",
      "[TRAIN]\n",
      "******\n",
      "RMSE: 3.191 (0.000)\n",
      "MAE: 2.450 (0.000)\n",
      "MAPE: 0.054 (0.000)\n",
      "R2: 0.754 (0.000)\n",
      "\n",
      "======================\n",
      "\n",
      "******\n",
      "[TEST]\n",
      "******\n",
      "RMSE: 5.792 (0.000)\n",
      "MAE: 4.762 (0.000)\n",
      "MAPE: 0.088 (0.000)\n",
      "R2: 0.009 (0.000)\n",
      "\n",
      "======================\n",
      "\n"
     ]
    },
    {
     "data": {
      "application/javascript": [
       "\n",
       "            setTimeout(function() {\n",
       "                var nbb_cell_id = 47;\n",
       "                var nbb_unformatted_code = \"y_train_pred = model.predict(sc.transform(x_train))\\ny_test_pred = model.predict(sc.transform(x_test))\\n\\nscores = score_regression_metrics(y_train, y_train_pred, y_test, y_test_pred)\\nprint_scores(scores, METRICS, METRICS_DICT)\";\n",
       "                var nbb_formatted_code = \"y_train_pred = model.predict(sc.transform(x_train))\\ny_test_pred = model.predict(sc.transform(x_test))\\n\\nscores = score_regression_metrics(y_train, y_train_pred, y_test, y_test_pred)\\nprint_scores(scores, METRICS, METRICS_DICT)\";\n",
       "                var nbb_cells = Jupyter.notebook.get_cells();\n",
       "                for (var i = 0; i < nbb_cells.length; ++i) {\n",
       "                    if (nbb_cells[i].input_prompt_number == nbb_cell_id) {\n",
       "                        if (nbb_cells[i].get_text() == nbb_unformatted_code) {\n",
       "                             nbb_cells[i].set_text(nbb_formatted_code);\n",
       "                        }\n",
       "                        break;\n",
       "                    }\n",
       "                }\n",
       "            }, 500);\n",
       "            "
      ],
      "text/plain": [
       "<IPython.core.display.Javascript object>"
      ]
     },
     "metadata": {},
     "output_type": "display_data"
    }
   ],
   "source": [
    "y_train_pred = model.predict(sc.transform(x_train))\n",
    "y_test_pred = model.predict(sc.transform(x_test))\n",
    "\n",
    "scores = score_regression_metrics(y_train, y_train_pred, y_test, y_test_pred)\n",
    "print_scores(scores, METRICS, METRICS_DICT)"
   ]
  },
  {
   "cell_type": "code",
   "execution_count": 48,
   "metadata": {},
   "outputs": [
    {
     "name": "stdout",
     "output_type": "stream",
     "text": [
      "35/35 [==============================] - 0s 725us/step - loss: 33.5454 - RMSE: 5.7918\n"
     ]
    },
    {
     "data": {
      "text/plain": [
       "[33.54537582397461, 5.791837215423584]"
      ]
     },
     "execution_count": 48,
     "metadata": {},
     "output_type": "execute_result"
    },
    {
     "data": {
      "application/javascript": [
       "\n",
       "            setTimeout(function() {\n",
       "                var nbb_cell_id = 48;\n",
       "                var nbb_unformatted_code = \"model.evaluate(sc.transform(x_test), y_test)\";\n",
       "                var nbb_formatted_code = \"model.evaluate(sc.transform(x_test), y_test)\";\n",
       "                var nbb_cells = Jupyter.notebook.get_cells();\n",
       "                for (var i = 0; i < nbb_cells.length; ++i) {\n",
       "                    if (nbb_cells[i].input_prompt_number == nbb_cell_id) {\n",
       "                        if (nbb_cells[i].get_text() == nbb_unformatted_code) {\n",
       "                             nbb_cells[i].set_text(nbb_formatted_code);\n",
       "                        }\n",
       "                        break;\n",
       "                    }\n",
       "                }\n",
       "            }, 500);\n",
       "            "
      ],
      "text/plain": [
       "<IPython.core.display.Javascript object>"
      ]
     },
     "metadata": {},
     "output_type": "display_data"
    }
   ],
   "source": [
    "model.evaluate(sc.transform(x_test), y_test)"
   ]
  },
  {
   "cell_type": "code",
   "execution_count": 49,
   "metadata": {},
   "outputs": [
    {
     "data": {
      "application/javascript": [
       "\n",
       "            setTimeout(function() {\n",
       "                var nbb_cell_id = 49;\n",
       "                var nbb_unformatted_code = \"trained_layers = history.model.layers\";\n",
       "                var nbb_formatted_code = \"trained_layers = history.model.layers\";\n",
       "                var nbb_cells = Jupyter.notebook.get_cells();\n",
       "                for (var i = 0; i < nbb_cells.length; ++i) {\n",
       "                    if (nbb_cells[i].input_prompt_number == nbb_cell_id) {\n",
       "                        if (nbb_cells[i].get_text() == nbb_unformatted_code) {\n",
       "                             nbb_cells[i].set_text(nbb_formatted_code);\n",
       "                        }\n",
       "                        break;\n",
       "                    }\n",
       "                }\n",
       "            }, 500);\n",
       "            "
      ],
      "text/plain": [
       "<IPython.core.display.Javascript object>"
      ]
     },
     "metadata": {},
     "output_type": "display_data"
    }
   ],
   "source": [
    "trained_layers = history.model.layers"
   ]
  },
  {
   "cell_type": "code",
   "execution_count": 50,
   "metadata": {},
   "outputs": [
    {
     "data": {
      "text/plain": [
       "[<keras.layers.core.Dense at 0x7f3683386d68>,\n",
       " <keras.layers.core.Dense at 0x7f368331b208>,\n",
       " <keras.layers.core.Dropout at 0x7f368331b550>,\n",
       " <keras.layers.core.Dense at 0x7f368331b6d8>]"
      ]
     },
     "execution_count": 50,
     "metadata": {},
     "output_type": "execute_result"
    },
    {
     "data": {
      "application/javascript": [
       "\n",
       "            setTimeout(function() {\n",
       "                var nbb_cell_id = 50;\n",
       "                var nbb_unformatted_code = \"trained_layers\";\n",
       "                var nbb_formatted_code = \"trained_layers\";\n",
       "                var nbb_cells = Jupyter.notebook.get_cells();\n",
       "                for (var i = 0; i < nbb_cells.length; ++i) {\n",
       "                    if (nbb_cells[i].input_prompt_number == nbb_cell_id) {\n",
       "                        if (nbb_cells[i].get_text() == nbb_unformatted_code) {\n",
       "                             nbb_cells[i].set_text(nbb_formatted_code);\n",
       "                        }\n",
       "                        break;\n",
       "                    }\n",
       "                }\n",
       "            }, 500);\n",
       "            "
      ],
      "text/plain": [
       "<IPython.core.display.Javascript object>"
      ]
     },
     "metadata": {},
     "output_type": "display_data"
    }
   ],
   "source": [
    "trained_layers"
   ]
  },
  {
   "cell_type": "markdown",
   "metadata": {},
   "source": [
    "# Fine Tuning"
   ]
  },
  {
   "cell_type": "markdown",
   "metadata": {},
   "source": [
    "# partner_iii"
   ]
  },
  {
   "cell_type": "code",
   "execution_count": 53,
   "metadata": {},
   "outputs": [
    {
     "data": {
      "application/javascript": [
       "\n",
       "            setTimeout(function() {\n",
       "                var nbb_cell_id = 53;\n",
       "                var nbb_unformatted_code = \"df_partner_iii = pd.read_csv(\\n    \\\"../../../../data/interim/partner_iii/Dati CADD 2020-2022_with_fillna.csv\\\"\\n)\";\n",
       "                var nbb_formatted_code = \"df_partner_iii = pd.read_csv(\\n    \\\"../../../../data/interim/partner_iii/Dati CADD 2020-2022_with_fillna.csv\\\"\\n)\";\n",
       "                var nbb_cells = Jupyter.notebook.get_cells();\n",
       "                for (var i = 0; i < nbb_cells.length; ++i) {\n",
       "                    if (nbb_cells[i].input_prompt_number == nbb_cell_id) {\n",
       "                        if (nbb_cells[i].get_text() == nbb_unformatted_code) {\n",
       "                             nbb_cells[i].set_text(nbb_formatted_code);\n",
       "                        }\n",
       "                        break;\n",
       "                    }\n",
       "                }\n",
       "            }, 500);\n",
       "            "
      ],
      "text/plain": [
       "<IPython.core.display.Javascript object>"
      ]
     },
     "metadata": {},
     "output_type": "display_data"
    }
   ],
   "source": [
    "df_partner_iii = pd.read_csv(\n",
    "    \"../../../../data/interim/partner_iii/Dati CADD 2020-2022_with_fillna.csv\"\n",
    ")"
   ]
  },
  {
   "cell_type": "code",
   "execution_count": 54,
   "metadata": {},
   "outputs": [
    {
     "data": {
      "application/javascript": [
       "\n",
       "            setTimeout(function() {\n",
       "                var nbb_cell_id = 54;\n",
       "                var nbb_unformatted_code = \"y = df_partner_iii.pop(\\\"28d compressive strength (MPa)\\\").values\\nx = df_partner_iii.values\\n\\nx_train, x_test, y_train, y_test = train_test_split(\\n    x, y, test_size=0.2, random_state=SEED, shuffle=False\\n)\";\n",
       "                var nbb_formatted_code = \"y = df_partner_iii.pop(\\\"28d compressive strength (MPa)\\\").values\\nx = df_partner_iii.values\\n\\nx_train, x_test, y_train, y_test = train_test_split(\\n    x, y, test_size=0.2, random_state=SEED, shuffle=False\\n)\";\n",
       "                var nbb_cells = Jupyter.notebook.get_cells();\n",
       "                for (var i = 0; i < nbb_cells.length; ++i) {\n",
       "                    if (nbb_cells[i].input_prompt_number == nbb_cell_id) {\n",
       "                        if (nbb_cells[i].get_text() == nbb_unformatted_code) {\n",
       "                             nbb_cells[i].set_text(nbb_formatted_code);\n",
       "                        }\n",
       "                        break;\n",
       "                    }\n",
       "                }\n",
       "            }, 500);\n",
       "            "
      ],
      "text/plain": [
       "<IPython.core.display.Javascript object>"
      ]
     },
     "metadata": {},
     "output_type": "display_data"
    }
   ],
   "source": [
    "y = df_partner_iii.pop(\"28d compressive strength (MPa)\").values\n",
    "x = df_partner_iii.values\n",
    "\n",
    "x_train, x_test, y_train, y_test = train_test_split(\n",
    "    x, y, test_size=0.2, random_state=SEED, shuffle=False\n",
    ")"
   ]
  },
  {
   "cell_type": "code",
   "execution_count": 55,
   "metadata": {},
   "outputs": [
    {
     "data": {
      "application/javascript": [
       "\n",
       "            setTimeout(function() {\n",
       "                var nbb_cell_id = 55;\n",
       "                var nbb_unformatted_code = \"set_seeds()\\nmodel_2 = tf.keras.Sequential()\\nmodel_2.add(tf.keras.layers.Dense(units=32, activation=\\\"relu\\\"))\\ntrained_layers[1].trainable = False\\nmodel_2.add(trained_layers[1])\\ntrained_layers[2].trainable = False\\n\\nmodel_2.add(tf.keras.layers.Dense(units=32, activation=\\\"relu\\\"))\\nmodel_2.add(tf.keras.layers.Dense(units=16, activation=\\\"relu\\\"))\\nmodel_2.add(tf.keras.layers.Dense(units=1))\\nmodel_2.compile(\\n    optimizer=tf.keras.optimizers.Adam(learning_rate=1e-3),\\n    loss=\\\"mse\\\",\\n    metrics=[tf.keras.metrics.RootMeanSquaredError(name=\\\"RMSE\\\")],\\n)\";\n",
       "                var nbb_formatted_code = \"set_seeds()\\nmodel_2 = tf.keras.Sequential()\\nmodel_2.add(tf.keras.layers.Dense(units=32, activation=\\\"relu\\\"))\\ntrained_layers[1].trainable = False\\nmodel_2.add(trained_layers[1])\\ntrained_layers[2].trainable = False\\n\\nmodel_2.add(tf.keras.layers.Dense(units=32, activation=\\\"relu\\\"))\\nmodel_2.add(tf.keras.layers.Dense(units=16, activation=\\\"relu\\\"))\\nmodel_2.add(tf.keras.layers.Dense(units=1))\\nmodel_2.compile(\\n    optimizer=tf.keras.optimizers.Adam(learning_rate=1e-3),\\n    loss=\\\"mse\\\",\\n    metrics=[tf.keras.metrics.RootMeanSquaredError(name=\\\"RMSE\\\")],\\n)\";\n",
       "                var nbb_cells = Jupyter.notebook.get_cells();\n",
       "                for (var i = 0; i < nbb_cells.length; ++i) {\n",
       "                    if (nbb_cells[i].input_prompt_number == nbb_cell_id) {\n",
       "                        if (nbb_cells[i].get_text() == nbb_unformatted_code) {\n",
       "                             nbb_cells[i].set_text(nbb_formatted_code);\n",
       "                        }\n",
       "                        break;\n",
       "                    }\n",
       "                }\n",
       "            }, 500);\n",
       "            "
      ],
      "text/plain": [
       "<IPython.core.display.Javascript object>"
      ]
     },
     "metadata": {},
     "output_type": "display_data"
    }
   ],
   "source": [
    "set_seeds()\n",
    "model_2 = tf.keras.Sequential()\n",
    "model_2.add(tf.keras.layers.Dense(units=32, activation=\"relu\"))\n",
    "trained_layers[1].trainable = False\n",
    "model_2.add(trained_layers[1])\n",
    "trained_layers[2].trainable = False\n",
    "model_2.add(trained_layers[2])\n",
    "\n",
    "\n",
    "model_2.add(tf.keras.layers.Dense(units=32, activation=\"relu\"))\n",
    "model_2.add(tf.keras.layers.Dense(units=16, activation=\"relu\"))\n",
    "model_2.add(tf.keras.layers.Dense(units=1))\n",
    "model_2.compile(\n",
    "    optimizer=tf.keras.optimizers.Adam(learning_rate=1e-3),\n",
    "    loss=\"mse\",\n",
    "    metrics=[tf.keras.metrics.RootMeanSquaredError(name=\"RMSE\")],\n",
    ")"
   ]
  },
  {
   "cell_type": "code",
   "execution_count": 56,
   "metadata": {},
   "outputs": [
    {
     "data": {
      "application/javascript": [
       "\n",
       "            setTimeout(function() {\n",
       "                var nbb_cell_id = 56;\n",
       "                var nbb_unformatted_code = \"# set_seeds()\\n# model_2 = tf.keras.Sequential()\\n# model_2.add(tf.keras.layers.Dense(units=256, activation=\\\"relu\\\"))\\n# trained_layers[1].trainable = True\\n# model_2.add(trained_layers[1])\\n# trained_layers[2].trainable = True\\n# model_2.add(trained_layers[2])\\n# trained_layers[3].trainable = True\\n# model_2.add(trained_layers[3])\\n# trained_layers[4].trainable = True\\n# model_2.add(trained_layers[4])\\n\\n# model_2.add(tf.keras.layers.Dense(units=32, activation=\\\"relu\\\"))\\n# model_2.add(tf.keras.layers.Dense(units=16, activation=\\\"relu\\\"))\\n# model_2.add(tf.keras.layers.Dense(units=32, activation=\\\"relu\\\"))\\n# model_2.add(tf.keras.layers.Dense(units=1))\\n# model_2.compile(\\n#     optimizer=tf.keras.optimizers.Adam(learning_rate=1e-3),\\n#     loss=\\\"mse\\\",\\n#     metrics=[tf.keras.metrics.RootMeanSquaredError(name=\\\"RMSE\\\")],\\n# )\";\n",
       "                var nbb_formatted_code = \"# set_seeds()\\n# model_2 = tf.keras.Sequential()\\n# model_2.add(tf.keras.layers.Dense(units=256, activation=\\\"relu\\\"))\\n# trained_layers[1].trainable = True\\n# model_2.add(trained_layers[1])\\n# trained_layers[2].trainable = True\\n# model_2.add(trained_layers[2])\\n# trained_layers[3].trainable = True\\n# model_2.add(trained_layers[3])\\n# trained_layers[4].trainable = True\\n# model_2.add(trained_layers[4])\\n\\n# model_2.add(tf.keras.layers.Dense(units=32, activation=\\\"relu\\\"))\\n# model_2.add(tf.keras.layers.Dense(units=16, activation=\\\"relu\\\"))\\n# model_2.add(tf.keras.layers.Dense(units=32, activation=\\\"relu\\\"))\\n# model_2.add(tf.keras.layers.Dense(units=1))\\n# model_2.compile(\\n#     optimizer=tf.keras.optimizers.Adam(learning_rate=1e-3),\\n#     loss=\\\"mse\\\",\\n#     metrics=[tf.keras.metrics.RootMeanSquaredError(name=\\\"RMSE\\\")],\\n# )\";\n",
       "                var nbb_cells = Jupyter.notebook.get_cells();\n",
       "                for (var i = 0; i < nbb_cells.length; ++i) {\n",
       "                    if (nbb_cells[i].input_prompt_number == nbb_cell_id) {\n",
       "                        if (nbb_cells[i].get_text() == nbb_unformatted_code) {\n",
       "                             nbb_cells[i].set_text(nbb_formatted_code);\n",
       "                        }\n",
       "                        break;\n",
       "                    }\n",
       "                }\n",
       "            }, 500);\n",
       "            "
      ],
      "text/plain": [
       "<IPython.core.display.Javascript object>"
      ]
     },
     "metadata": {},
     "output_type": "display_data"
    }
   ],
   "source": [
    "# set_seeds()\n",
    "# model_2 = tf.keras.Sequential()\n",
    "# model_2.add(tf.keras.layers.Dense(units=256, activation=\"relu\"))\n",
    "# trained_layers[1].trainable = True\n",
    "# model_2.add(trained_layers[1])\n",
    "# trained_layers[2].trainable = True\n",
    "# model_2.add(trained_layers[2])\n",
    "# trained_layers[3].trainable = True\n",
    "# model_2.add(trained_layers[3])\n",
    "# trained_layers[4].trainable = True\n",
    "# model_2.add(trained_layers[4])\n",
    "\n",
    "# model_2.add(tf.keras.layers.Dense(units=32, activation=\"relu\"))\n",
    "# model_2.add(tf.keras.layers.Dense(units=16, activation=\"relu\"))\n",
    "# model_2.add(tf.keras.layers.Dense(units=32, activation=\"relu\"))\n",
    "# model_2.add(tf.keras.layers.Dense(units=1))\n",
    "# model_2.compile(\n",
    "#     optimizer=tf.keras.optimizers.Adam(learning_rate=1e-3),\n",
    "#     loss=\"mse\",\n",
    "#     metrics=[tf.keras.metrics.RootMeanSquaredError(name=\"RMSE\")],\n",
    "# )"
   ]
  },
  {
   "cell_type": "code",
   "execution_count": 58,
   "metadata": {},
   "outputs": [
    {
     "data": {
      "application/javascript": [
       "\n",
       "            setTimeout(function() {\n",
       "                var nbb_cell_id = 58;\n",
       "                var nbb_unformatted_code = \"sc = StandardScaler()\\nhistory = model_2.fit(\\n    sc.fit_transform(x_train),\\n    y_train,\\n    batch_size=batch_size,\\n    epochs=200,\\n    verbose=verbose,\\n)\";\n",
       "                var nbb_formatted_code = \"sc = StandardScaler()\\nhistory = model_2.fit(\\n    sc.fit_transform(x_train),\\n    y_train,\\n    batch_size=batch_size,\\n    epochs=200,\\n    verbose=verbose,\\n)\";\n",
       "                var nbb_cells = Jupyter.notebook.get_cells();\n",
       "                for (var i = 0; i < nbb_cells.length; ++i) {\n",
       "                    if (nbb_cells[i].input_prompt_number == nbb_cell_id) {\n",
       "                        if (nbb_cells[i].get_text() == nbb_unformatted_code) {\n",
       "                             nbb_cells[i].set_text(nbb_formatted_code);\n",
       "                        }\n",
       "                        break;\n",
       "                    }\n",
       "                }\n",
       "            }, 500);\n",
       "            "
      ],
      "text/plain": [
       "<IPython.core.display.Javascript object>"
      ]
     },
     "metadata": {},
     "output_type": "display_data"
    }
   ],
   "source": [
    "sc = StandardScaler()\n",
    "history = model_2.fit(\n",
    "    sc.fit_transform(x_train),\n",
    "    y_train,\n",
    "    batch_size=batch_size,\n",
    "    epochs=200,\n",
    "    verbose=verbose,\n",
    ")"
   ]
  },
  {
   "cell_type": "code",
   "execution_count": 59,
   "metadata": {},
   "outputs": [
    {
     "data": {
      "text/plain": [
       "[<matplotlib.lines.Line2D at 0x7f3588f83f60>]"
      ]
     },
     "execution_count": 59,
     "metadata": {},
     "output_type": "execute_result"
    },
    {
     "data": {
      "image/png": "[encoded data removed]",
      "text/plain": [
       "<Figure size 432x288 with 1 Axes>"
      ]
     },
     "metadata": {
      "needs_background": "light"
     },
     "output_type": "display_data"
    },
    {
     "data": {
      "application/javascript": [
       "\n",
       "            setTimeout(function() {\n",
       "                var nbb_cell_id = 59;\n",
       "                var nbb_unformatted_code = \"plt.plot(history.history[\\\"RMSE\\\"])\";\n",
       "                var nbb_formatted_code = \"plt.plot(history.history[\\\"RMSE\\\"])\";\n",
       "                var nbb_cells = Jupyter.notebook.get_cells();\n",
       "                for (var i = 0; i < nbb_cells.length; ++i) {\n",
       "                    if (nbb_cells[i].input_prompt_number == nbb_cell_id) {\n",
       "                        if (nbb_cells[i].get_text() == nbb_unformatted_code) {\n",
       "                             nbb_cells[i].set_text(nbb_formatted_code);\n",
       "                        }\n",
       "                        break;\n",
       "                    }\n",
       "                }\n",
       "            }, 500);\n",
       "            "
      ],
      "text/plain": [
       "<IPython.core.display.Javascript object>"
      ]
     },
     "metadata": {},
     "output_type": "display_data"
    }
   ],
   "source": [
    "plt.plot(history.history[\"RMSE\"])"
   ]
  },
  {
   "cell_type": "code",
   "execution_count": 60,
   "metadata": {},
   "outputs": [
    {
     "name": "stdout",
     "output_type": "stream",
     "text": [
      "******\n",
      "[TRAIN]\n",
      "******\n",
      "RMSE: 4.806 (0.000)\n",
      "MAE: 3.824 (0.000)\n",
      "MAPE: 0.075 (0.000)\n",
      "R2: 0.574 (0.000)\n",
      "\n",
      "======================\n",
      "\n",
      "******\n",
      "[TEST]\n",
      "******\n",
      "RMSE: 4.956 (0.000)\n",
      "MAE: 3.471 (0.000)\n",
      "MAPE: 0.070 (0.000)\n",
      "R2: 0.160 (0.000)\n",
      "\n",
      "======================\n",
      "\n"
     ]
    },
    {
     "data": {
      "application/javascript": [
       "\n",
       "            setTimeout(function() {\n",
       "                var nbb_cell_id = 60;\n",
       "                var nbb_unformatted_code = \"y_train_pred = model_2.predict(sc.transform(x_train))\\ny_test_pred = model_2.predict(sc.transform(x_test))\\n\\nscores = score_regression_metrics(y_train, y_train_pred, y_test, y_test_pred)\\nprint_scores(scores, METRICS, METRICS_DICT)\";\n",
       "                var nbb_formatted_code = \"y_train_pred = model_2.predict(sc.transform(x_train))\\ny_test_pred = model_2.predict(sc.transform(x_test))\\n\\nscores = score_regression_metrics(y_train, y_train_pred, y_test, y_test_pred)\\nprint_scores(scores, METRICS, METRICS_DICT)\";\n",
       "                var nbb_cells = Jupyter.notebook.get_cells();\n",
       "                for (var i = 0; i < nbb_cells.length; ++i) {\n",
       "                    if (nbb_cells[i].input_prompt_number == nbb_cell_id) {\n",
       "                        if (nbb_cells[i].get_text() == nbb_unformatted_code) {\n",
       "                             nbb_cells[i].set_text(nbb_formatted_code);\n",
       "                        }\n",
       "                        break;\n",
       "                    }\n",
       "                }\n",
       "            }, 500);\n",
       "            "
      ],
      "text/plain": [
       "<IPython.core.display.Javascript object>"
      ]
     },
     "metadata": {},
     "output_type": "display_data"
    }
   ],
   "source": [
    "y_train_pred = model_2.predict(sc.transform(x_train))\n",
    "y_test_pred = model_2.predict(sc.transform(x_test))\n",
    "\n",
    "scores = score_regression_metrics(y_train, y_train_pred, y_test, y_test_pred)\n",
    "print_scores(scores, METRICS, METRICS_DICT)"
   ]
  },
  {
   "cell_type": "markdown",
   "metadata": {},
   "source": [
    "# Pre Trainning"
   ]
  },
  {
   "cell_type": "code",
   "execution_count": 61,
   "metadata": {},
   "outputs": [
    {
     "data": {
      "application/javascript": [
       "\n",
       "            setTimeout(function() {\n",
       "                var nbb_cell_id = 61;\n",
       "                var nbb_unformatted_code = \"batch_size = 32\\nepochs = 200\\nverbose = 0\";\n",
       "                var nbb_formatted_code = \"batch_size = 32\\nepochs = 200\\nverbose = 0\";\n",
       "                var nbb_cells = Jupyter.notebook.get_cells();\n",
       "                for (var i = 0; i < nbb_cells.length; ++i) {\n",
       "                    if (nbb_cells[i].input_prompt_number == nbb_cell_id) {\n",
       "                        if (nbb_cells[i].get_text() == nbb_unformatted_code) {\n",
       "                             nbb_cells[i].set_text(nbb_formatted_code);\n",
       "                        }\n",
       "                        break;\n",
       "                    }\n",
       "                }\n",
       "            }, 500);\n",
       "            "
      ],
      "text/plain": [
       "<IPython.core.display.Javascript object>"
      ]
     },
     "metadata": {},
     "output_type": "display_data"
    }
   ],
   "source": [
    "batch_size = 32\n",
    "epochs = 200\n",
    "verbose = 0"
   ]
  },
  {
   "cell_type": "markdown",
   "metadata": {},
   "source": [
    "# partner_i"
   ]
  },
  {
   "cell_type": "code",
   "execution_count": 81,
   "metadata": {},
   "outputs": [
    {
     "data": {
      "application/javascript": [
       "\n",
       "            setTimeout(function() {\n",
       "                var nbb_cell_id = 81;\n",
       "                var nbb_unformatted_code = \"df_partner_i = pd.read_csv(\\n    \\\"../../../../data/processed/partner_i-Oficial/cement-shipping.csv\\\"\\n)\";\n",
       "                var nbb_formatted_code = \"df_partner_i = pd.read_csv(\\n    \\\"../../../../data/processed/partner_i-Oficial/cement-shipping.csv\\\"\\n)\";\n",
       "                var nbb_cells = Jupyter.notebook.get_cells();\n",
       "                for (var i = 0; i < nbb_cells.length; ++i) {\n",
       "                    if (nbb_cells[i].input_prompt_number == nbb_cell_id) {\n",
       "                        if (nbb_cells[i].get_text() == nbb_unformatted_code) {\n",
       "                             nbb_cells[i].set_text(nbb_formatted_code);\n",
       "                        }\n",
       "                        break;\n",
       "                    }\n",
       "                }\n",
       "            }, 500);\n",
       "            "
      ],
      "text/plain": [
       "<IPython.core.display.Javascript object>"
      ]
     },
     "metadata": {},
     "output_type": "display_data"
    }
   ],
   "source": [
    "df_partner_i = pd.read_csv(\n",
    "    \"../../../../data/processed/partner_i-Oficial/cement-shipping.csv\"\n",
    ")"
   ]
  },
  {
   "cell_type": "code",
   "execution_count": 82,
   "metadata": {},
   "outputs": [
    {
     "data": {
      "application/javascript": [
       "\n",
       "            setTimeout(function() {\n",
       "                var nbb_cell_id = 82;\n",
       "                var nbb_unformatted_code = \"df_partner_i = df_partner_i.drop(\\n    [\\n        \\\"1 day Compressive strength\\\",\\n        \\\"3 day Compressive strength\\\",\\n        \\\"7 day Compressive strength\\\",\\n    ],\\n    axis=1,\\n).copy()\\n\\ny = df_partner_i.pop(\\\"28 day Compressive strength\\\").values\\nx = df_partner_i.drop([\\\"Date\\\"], axis=1)\\n\\nx_train, x_test, y_train, y_test = train_test_split(\\n    x, y, test_size=0.2, random_state=SEED, shuffle=False\\n)\";\n",
       "                var nbb_formatted_code = \"df_partner_i = df_partner_i.drop(\\n    [\\n        \\\"1 day Compressive strength\\\",\\n        \\\"3 day Compressive strength\\\",\\n        \\\"7 day Compressive strength\\\",\\n    ],\\n    axis=1,\\n).copy()\\n\\ny = df_partner_i.pop(\\\"28 day Compressive strength\\\").values\\nx = df_partner_i.drop([\\\"Date\\\"], axis=1)\\n\\nx_train, x_test, y_train, y_test = train_test_split(\\n    x, y, test_size=0.2, random_state=SEED, shuffle=False\\n)\";\n",
       "                var nbb_cells = Jupyter.notebook.get_cells();\n",
       "                for (var i = 0; i < nbb_cells.length; ++i) {\n",
       "                    if (nbb_cells[i].input_prompt_number == nbb_cell_id) {\n",
       "                        if (nbb_cells[i].get_text() == nbb_unformatted_code) {\n",
       "                             nbb_cells[i].set_text(nbb_formatted_code);\n",
       "                        }\n",
       "                        break;\n",
       "                    }\n",
       "                }\n",
       "            }, 500);\n",
       "            "
      ],
      "text/plain": [
       "<IPython.core.display.Javascript object>"
      ]
     },
     "metadata": {},
     "output_type": "display_data"
    }
   ],
   "source": [
    "df_partner_i = df_partner_i.drop(\n",
    "    [\n",
    "        \"1 day Compressive strength\",\n",
    "        \"3 day Compressive strength\",\n",
    "        \"7 day Compressive strength\",\n",
    "    ],\n",
    "    axis=1,\n",
    ").copy()\n",
    "\n",
    "y = df_partner_i.pop(\"28 day Compressive strength\").values\n",
    "x = df_partner_i.drop([\"Date\"], axis=1)\n",
    "\n",
    "x_train, x_test, y_train, y_test = train_test_split(\n",
    "    x, y, test_size=0.2, random_state=SEED, shuffle=False\n",
    ")"
   ]
  },
  {
   "cell_type": "code",
   "execution_count": 83,
   "metadata": {
    "scrolled": true
   },
   "outputs": [
    {
     "data": {
      "application/javascript": [
       "\n",
       "            setTimeout(function() {\n",
       "                var nbb_cell_id = 83;\n",
       "                var nbb_unformatted_code = \"set_seeds()\\nmodel = get_model()\\nsc = StandardScaler()\\nhistory = model.fit(\\n    sc.fit_transform(x_train),\\n    y_train,\\n    batch_size=batch_size,\\n    epochs=epochs,\\n    verbose=verbose,\\n)\";\n",
       "                var nbb_formatted_code = \"set_seeds()\\nmodel = get_model()\\nsc = StandardScaler()\\nhistory = model.fit(\\n    sc.fit_transform(x_train),\\n    y_train,\\n    batch_size=batch_size,\\n    epochs=epochs,\\n    verbose=verbose,\\n)\";\n",
       "                var nbb_cells = Jupyter.notebook.get_cells();\n",
       "                for (var i = 0; i < nbb_cells.length; ++i) {\n",
       "                    if (nbb_cells[i].input_prompt_number == nbb_cell_id) {\n",
       "                        if (nbb_cells[i].get_text() == nbb_unformatted_code) {\n",
       "                             nbb_cells[i].set_text(nbb_formatted_code);\n",
       "                        }\n",
       "                        break;\n",
       "                    }\n",
       "                }\n",
       "            }, 500);\n",
       "            "
      ],
      "text/plain": [
       "<IPython.core.display.Javascript object>"
      ]
     },
     "metadata": {},
     "output_type": "display_data"
    }
   ],
   "source": [
    "set_seeds()\n",
    "model = get_model()\n",
    "sc = StandardScaler()\n",
    "history = model.fit(\n",
    "    sc.fit_transform(x_train),\n",
    "    y_train,\n",
    "    batch_size=batch_size,\n",
    "    epochs=epochs,\n",
    "    verbose=verbose,\n",
    ")"
   ]
  },
  {
   "cell_type": "code",
   "execution_count": 84,
   "metadata": {},
   "outputs": [
    {
     "data": {
      "text/plain": [
       "[<matplotlib.lines.Line2D at 0x7f358a310dd8>]"
      ]
     },
     "execution_count": 84,
     "metadata": {},
     "output_type": "execute_result"
    },
    {
     "data": {
      "image/png": "[encoded data removed]",
      "text/plain": [
       "<Figure size 432x288 with 1 Axes>"
      ]
     },
     "metadata": {
      "needs_background": "light"
     },
     "output_type": "display_data"
    },
    {
     "data": {
      "application/javascript": [
       "\n",
       "            setTimeout(function() {\n",
       "                var nbb_cell_id = 84;\n",
       "                var nbb_unformatted_code = \"plt.plot(history.history[\\\"RMSE\\\"])\";\n",
       "                var nbb_formatted_code = \"plt.plot(history.history[\\\"RMSE\\\"])\";\n",
       "                var nbb_cells = Jupyter.notebook.get_cells();\n",
       "                for (var i = 0; i < nbb_cells.length; ++i) {\n",
       "                    if (nbb_cells[i].input_prompt_number == nbb_cell_id) {\n",
       "                        if (nbb_cells[i].get_text() == nbb_unformatted_code) {\n",
       "                             nbb_cells[i].set_text(nbb_formatted_code);\n",
       "                        }\n",
       "                        break;\n",
       "                    }\n",
       "                }\n",
       "            }, 500);\n",
       "            "
      ],
      "text/plain": [
       "<IPython.core.display.Javascript object>"
      ]
     },
     "metadata": {},
     "output_type": "display_data"
    }
   ],
   "source": [
    "plt.plot(history.history[\"RMSE\"])"
   ]
  },
  {
   "cell_type": "code",
   "execution_count": 85,
   "metadata": {},
   "outputs": [
    {
     "name": "stdout",
     "output_type": "stream",
     "text": [
      "******\n",
      "[TRAIN]\n",
      "******\n",
      "RMSE: 1.119 (0.000)\n",
      "MAE: 0.849 (0.000)\n",
      "MAPE: 0.020 (0.000)\n",
      "R2: 0.951 (0.000)\n",
      "\n",
      "======================\n",
      "\n",
      "******\n",
      "[TEST]\n",
      "******\n",
      "RMSE: 1.461 (0.000)\n",
      "MAE: 1.073 (0.000)\n",
      "MAPE: 0.024 (0.000)\n",
      "R2: 0.914 (0.000)\n",
      "\n",
      "======================\n",
      "\n"
     ]
    },
    {
     "data": {
      "application/javascript": [
       "\n",
       "            setTimeout(function() {\n",
       "                var nbb_cell_id = 85;\n",
       "                var nbb_unformatted_code = \"y_train_pred = model.predict(sc.transform(x_train))\\ny_test_pred = model.predict(sc.transform(x_test))\\n\\nscores = score_regression_metrics(y_train, y_train_pred, y_test, y_test_pred)\\nprint_scores(scores, METRICS, METRICS_DICT)\";\n",
       "                var nbb_formatted_code = \"y_train_pred = model.predict(sc.transform(x_train))\\ny_test_pred = model.predict(sc.transform(x_test))\\n\\nscores = score_regression_metrics(y_train, y_train_pred, y_test, y_test_pred)\\nprint_scores(scores, METRICS, METRICS_DICT)\";\n",
       "                var nbb_cells = Jupyter.notebook.get_cells();\n",
       "                for (var i = 0; i < nbb_cells.length; ++i) {\n",
       "                    if (nbb_cells[i].input_prompt_number == nbb_cell_id) {\n",
       "                        if (nbb_cells[i].get_text() == nbb_unformatted_code) {\n",
       "                             nbb_cells[i].set_text(nbb_formatted_code);\n",
       "                        }\n",
       "                        break;\n",
       "                    }\n",
       "                }\n",
       "            }, 500);\n",
       "            "
      ],
      "text/plain": [
       "<IPython.core.display.Javascript object>"
      ]
     },
     "metadata": {},
     "output_type": "display_data"
    }
   ],
   "source": [
    "y_train_pred = model.predict(sc.transform(x_train))\n",
    "y_test_pred = model.predict(sc.transform(x_test))\n",
    "\n",
    "scores = score_regression_metrics(y_train, y_train_pred, y_test, y_test_pred)\n",
    "print_scores(scores, METRICS, METRICS_DICT)"
   ]
  },
  {
   "cell_type": "code",
   "execution_count": 86,
   "metadata": {},
   "outputs": [
    {
     "name": "stdout",
     "output_type": "stream",
     "text": [
      "Model: \"sequential_5\"\n",
      "_________________________________________________________________\n",
      "Layer (type)                 Output Shape              Param #   \n",
      "=================================================================\n",
      "dense_18 (Dense)             (None, 32)                1216      \n",
      "_________________________________________________________________\n",
      "dense_19 (Dense)             (None, 16)                528       \n",
      "_________________________________________________________________\n",
      "dropout_2 (Dropout)          (None, 16)                0         \n",
      "_________________________________________________________________\n",
      "dense_20 (Dense)             (None, 1)                 17        \n",
      "=================================================================\n",
      "Total params: 1,761\n",
      "Trainable params: 1,761\n",
      "Non-trainable params: 0\n",
      "_________________________________________________________________\n"
     ]
    },
    {
     "data": {
      "application/javascript": [
       "\n",
       "            setTimeout(function() {\n",
       "                var nbb_cell_id = 86;\n",
       "                var nbb_unformatted_code = \"model.summary()\";\n",
       "                var nbb_formatted_code = \"model.summary()\";\n",
       "                var nbb_cells = Jupyter.notebook.get_cells();\n",
       "                for (var i = 0; i < nbb_cells.length; ++i) {\n",
       "                    if (nbb_cells[i].input_prompt_number == nbb_cell_id) {\n",
       "                        if (nbb_cells[i].get_text() == nbb_unformatted_code) {\n",
       "                             nbb_cells[i].set_text(nbb_formatted_code);\n",
       "                        }\n",
       "                        break;\n",
       "                    }\n",
       "                }\n",
       "            }, 500);\n",
       "            "
      ],
      "text/plain": [
       "<IPython.core.display.Javascript object>"
      ]
     },
     "metadata": {},
     "output_type": "display_data"
    }
   ],
   "source": [
    "model.summary()"
   ]
  },
  {
   "cell_type": "code",
   "execution_count": 87,
   "metadata": {},
   "outputs": [
    {
     "data": {
      "application/javascript": [
       "\n",
       "            setTimeout(function() {\n",
       "                var nbb_cell_id = 87;\n",
       "                var nbb_unformatted_code = \"trained_layers = history.model.layers\";\n",
       "                var nbb_formatted_code = \"trained_layers = history.model.layers\";\n",
       "                var nbb_cells = Jupyter.notebook.get_cells();\n",
       "                for (var i = 0; i < nbb_cells.length; ++i) {\n",
       "                    if (nbb_cells[i].input_prompt_number == nbb_cell_id) {\n",
       "                        if (nbb_cells[i].get_text() == nbb_unformatted_code) {\n",
       "                             nbb_cells[i].set_text(nbb_formatted_code);\n",
       "                        }\n",
       "                        break;\n",
       "                    }\n",
       "                }\n",
       "            }, 500);\n",
       "            "
      ],
      "text/plain": [
       "<IPython.core.display.Javascript object>"
      ]
     },
     "metadata": {},
     "output_type": "display_data"
    }
   ],
   "source": [
    "trained_layers = history.model.layers"
   ]
  },
  {
   "cell_type": "code",
   "execution_count": 88,
   "metadata": {},
   "outputs": [
    {
     "data": {
      "text/plain": [
       "[<keras.layers.core.Dense at 0x7f358a478d30>,\n",
       " <keras.layers.core.Dense at 0x7f358a40f080>,\n",
       " <keras.layers.core.Dropout at 0x7f358a40f358>,\n",
       " <keras.layers.core.Dense at 0x7f358a40f4a8>]"
      ]
     },
     "execution_count": 88,
     "metadata": {},
     "output_type": "execute_result"
    },
    {
     "data": {
      "application/javascript": [
       "\n",
       "            setTimeout(function() {\n",
       "                var nbb_cell_id = 88;\n",
       "                var nbb_unformatted_code = \"trained_layers\";\n",
       "                var nbb_formatted_code = \"trained_layers\";\n",
       "                var nbb_cells = Jupyter.notebook.get_cells();\n",
       "                for (var i = 0; i < nbb_cells.length; ++i) {\n",
       "                    if (nbb_cells[i].input_prompt_number == nbb_cell_id) {\n",
       "                        if (nbb_cells[i].get_text() == nbb_unformatted_code) {\n",
       "                             nbb_cells[i].set_text(nbb_formatted_code);\n",
       "                        }\n",
       "                        break;\n",
       "                    }\n",
       "                }\n",
       "            }, 500);\n",
       "            "
      ],
      "text/plain": [
       "<IPython.core.display.Javascript object>"
      ]
     },
     "metadata": {},
     "output_type": "display_data"
    }
   ],
   "source": [
    "trained_layers"
   ]
  },
  {
   "cell_type": "markdown",
   "metadata": {},
   "source": [
    "# partner_iii"
   ]
  },
  {
   "cell_type": "code",
   "execution_count": 89,
   "metadata": {},
   "outputs": [
    {
     "data": {
      "application/javascript": [
       "\n",
       "            setTimeout(function() {\n",
       "                var nbb_cell_id = 89;\n",
       "                var nbb_unformatted_code = \"df_partner_iii = pd.read_csv(\\n    \\\"../../../../data/interim/partner_iii/Dati CADD 2020-2022_with_fillna.csv\\\"\\n)\";\n",
       "                var nbb_formatted_code = \"df_partner_iii = pd.read_csv(\\n    \\\"../../../../data/interim/partner_iii/Dati CADD 2020-2022_with_fillna.csv\\\"\\n)\";\n",
       "                var nbb_cells = Jupyter.notebook.get_cells();\n",
       "                for (var i = 0; i < nbb_cells.length; ++i) {\n",
       "                    if (nbb_cells[i].input_prompt_number == nbb_cell_id) {\n",
       "                        if (nbb_cells[i].get_text() == nbb_unformatted_code) {\n",
       "                             nbb_cells[i].set_text(nbb_formatted_code);\n",
       "                        }\n",
       "                        break;\n",
       "                    }\n",
       "                }\n",
       "            }, 500);\n",
       "            "
      ],
      "text/plain": [
       "<IPython.core.display.Javascript object>"
      ]
     },
     "metadata": {},
     "output_type": "display_data"
    }
   ],
   "source": [
    "df_partner_iii = pd.read_csv(\n",
    "    \"../../../../data/interim/partner_iii/Dati CADD 2020-2022_with_fillna.csv\"\n",
    ")"
   ]
  },
  {
   "cell_type": "code",
   "execution_count": 90,
   "metadata": {},
   "outputs": [
    {
     "data": {
      "application/javascript": [
       "\n",
       "            setTimeout(function() {\n",
       "                var nbb_cell_id = 90;\n",
       "                var nbb_unformatted_code = \"y = df_partner_iii.pop(\\\"28d compressive strength (MPa)\\\").values\\nx = df_partner_iii.values\\n\\nx_train, x_test, y_train, y_test = train_test_split(\\n    x, y, test_size=0.1, random_state=SEED, shuffle=False\\n)\";\n",
       "                var nbb_formatted_code = \"y = df_partner_iii.pop(\\\"28d compressive strength (MPa)\\\").values\\nx = df_partner_iii.values\\n\\nx_train, x_test, y_train, y_test = train_test_split(\\n    x, y, test_size=0.1, random_state=SEED, shuffle=False\\n)\";\n",
       "                var nbb_cells = Jupyter.notebook.get_cells();\n",
       "                for (var i = 0; i < nbb_cells.length; ++i) {\n",
       "                    if (nbb_cells[i].input_prompt_number == nbb_cell_id) {\n",
       "                        if (nbb_cells[i].get_text() == nbb_unformatted_code) {\n",
       "                             nbb_cells[i].set_text(nbb_formatted_code);\n",
       "                        }\n",
       "                        break;\n",
       "                    }\n",
       "                }\n",
       "            }, 500);\n",
       "            "
      ],
      "text/plain": [
       "<IPython.core.display.Javascript object>"
      ]
     },
     "metadata": {},
     "output_type": "display_data"
    }
   ],
   "source": [
    "y = df_partner_iii.pop(\"28d compressive strength (MPa)\").values\n",
    "x = df_partner_iii.values\n",
    "\n",
    "x_train, x_test, y_train, y_test = train_test_split(\n",
    "    x, y, test_size=0.1, random_state=SEED, shuffle=False\n",
    ")"
   ]
  },
  {
   "cell_type": "code",
   "execution_count": 91,
   "metadata": {},
   "outputs": [
    {
     "data": {
      "application/javascript": [
       "\n",
       "            setTimeout(function() {\n",
       "                var nbb_cell_id = 91;\n",
       "                var nbb_unformatted_code = \"set_seeds()\\nmodel_2 = tf.keras.Sequential()\\nmodel_2.add(tf.keras.layers.Dense(units=32, activation=\\\"relu\\\"))\\ntrained_layers[1].trainable = False\\nmodel_2.add(trained_layers[1])\\ntrained_layers[2].trainable = False\\nmodel_2.add(trained_layers[2])\\n\\nmodel_2.add(tf.keras.layers.Dense(units=32, activation=\\\"relu\\\"))\\nmodel_2.add(tf.keras.layers.Dense(units=16, activation=\\\"relu\\\"))\\nmodel_2.add(tf.keras.layers.Dense(units=1))\\nmodel_2.compile(\\n    optimizer=tf.keras.optimizers.Adam(learning_rate=1e-3),\\n    loss=\\\"mse\\\",\\n    metrics=[tf.keras.metrics.RootMeanSquaredError(name=\\\"RMSE\\\")],\\n)\";\n",
       "                var nbb_formatted_code = \"set_seeds()\\nmodel_2 = tf.keras.Sequential()\\nmodel_2.add(tf.keras.layers.Dense(units=32, activation=\\\"relu\\\"))\\ntrained_layers[1].trainable = False\\nmodel_2.add(trained_layers[1])\\ntrained_layers[2].trainable = False\\nmodel_2.add(trained_layers[2])\\n\\nmodel_2.add(tf.keras.layers.Dense(units=32, activation=\\\"relu\\\"))\\nmodel_2.add(tf.keras.layers.Dense(units=16, activation=\\\"relu\\\"))\\nmodel_2.add(tf.keras.layers.Dense(units=1))\\nmodel_2.compile(\\n    optimizer=tf.keras.optimizers.Adam(learning_rate=1e-3),\\n    loss=\\\"mse\\\",\\n    metrics=[tf.keras.metrics.RootMeanSquaredError(name=\\\"RMSE\\\")],\\n)\";\n",
       "                var nbb_cells = Jupyter.notebook.get_cells();\n",
       "                for (var i = 0; i < nbb_cells.length; ++i) {\n",
       "                    if (nbb_cells[i].input_prompt_number == nbb_cell_id) {\n",
       "                        if (nbb_cells[i].get_text() == nbb_unformatted_code) {\n",
       "                             nbb_cells[i].set_text(nbb_formatted_code);\n",
       "                        }\n",
       "                        break;\n",
       "                    }\n",
       "                }\n",
       "            }, 500);\n",
       "            "
      ],
      "text/plain": [
       "<IPython.core.display.Javascript object>"
      ]
     },
     "metadata": {},
     "output_type": "display_data"
    }
   ],
   "source": [
    "set_seeds()\n",
    "model_2 = tf.keras.Sequential()\n",
    "model_2.add(tf.keras.layers.Dense(units=32, activation=\"relu\"))\n",
    "trained_layers[1].trainable = False\n",
    "model_2.add(trained_layers[1])\n",
    "trained_layers[2].trainable = False\n",
    "model_2.add(trained_layers[2])\n",
    "\n",
    "model_2.add(tf.keras.layers.Dense(units=32, activation=\"relu\"))\n",
    "model_2.add(tf.keras.layers.Dense(units=16, activation=\"relu\"))\n",
    "model_2.add(tf.keras.layers.Dense(units=1))\n",
    "model_2.compile(\n",
    "    optimizer=tf.keras.optimizers.Adam(learning_rate=1e-3),\n",
    "    loss=\"mse\",\n",
    "    metrics=[tf.keras.metrics.RootMeanSquaredError(name=\"RMSE\")],\n",
    ")"
   ]
  },
  {
   "cell_type": "code",
   "execution_count": 92,
   "metadata": {},
   "outputs": [
    {
     "data": {
      "application/javascript": [
       "\n",
       "            setTimeout(function() {\n",
       "                var nbb_cell_id = 92;\n",
       "                var nbb_unformatted_code = \"# set_seeds()\\n# model_2 = tf.keras.Sequential()\\n# model_2.add(tf.keras.layers.Dense(units=256, activation=\\\"relu\\\"))\\n# trained_layers[1].trainable = True\\n# model_2.add(trained_layers[1])\\n# trained_layers[2].trainable = True\\n# model_2.add(trained_layers[2])\\n# trained_layers[3].trainable = True\\n# model_2.add(trained_layers[3])\\n# trained_layers[4].trainable = True\\n# model_2.add(trained_layers[4])\\n\\n# model_2.add(tf.keras.layers.Dense(units=32, activation=\\\"relu\\\"))\\n# model_2.add(tf.keras.layers.Dense(units=16, activation=\\\"relu\\\"))\\n# model_2.add(tf.keras.layers.Dense(units=32, activation=\\\"relu\\\"))\\n# model_2.add(tf.keras.layers.Dense(units=1))\\n# model_2.compile(\\n#     optimizer=tf.keras.optimizers.Adam(learning_rate=1e-3),\\n#     loss=\\\"mse\\\",\\n#     metrics=[tf.keras.metrics.RootMeanSquaredError(name=\\\"RMSE\\\")],\\n# )\";\n",
       "                var nbb_formatted_code = \"# set_seeds()\\n# model_2 = tf.keras.Sequential()\\n# model_2.add(tf.keras.layers.Dense(units=256, activation=\\\"relu\\\"))\\n# trained_layers[1].trainable = True\\n# model_2.add(trained_layers[1])\\n# trained_layers[2].trainable = True\\n# model_2.add(trained_layers[2])\\n# trained_layers[3].trainable = True\\n# model_2.add(trained_layers[3])\\n# trained_layers[4].trainable = True\\n# model_2.add(trained_layers[4])\\n\\n# model_2.add(tf.keras.layers.Dense(units=32, activation=\\\"relu\\\"))\\n# model_2.add(tf.keras.layers.Dense(units=16, activation=\\\"relu\\\"))\\n# model_2.add(tf.keras.layers.Dense(units=32, activation=\\\"relu\\\"))\\n# model_2.add(tf.keras.layers.Dense(units=1))\\n# model_2.compile(\\n#     optimizer=tf.keras.optimizers.Adam(learning_rate=1e-3),\\n#     loss=\\\"mse\\\",\\n#     metrics=[tf.keras.metrics.RootMeanSquaredError(name=\\\"RMSE\\\")],\\n# )\";\n",
       "                var nbb_cells = Jupyter.notebook.get_cells();\n",
       "                for (var i = 0; i < nbb_cells.length; ++i) {\n",
       "                    if (nbb_cells[i].input_prompt_number == nbb_cell_id) {\n",
       "                        if (nbb_cells[i].get_text() == nbb_unformatted_code) {\n",
       "                             nbb_cells[i].set_text(nbb_formatted_code);\n",
       "                        }\n",
       "                        break;\n",
       "                    }\n",
       "                }\n",
       "            }, 500);\n",
       "            "
      ],
      "text/plain": [
       "<IPython.core.display.Javascript object>"
      ]
     },
     "metadata": {},
     "output_type": "display_data"
    }
   ],
   "source": [
    "# set_seeds()\n",
    "# model_2 = tf.keras.Sequential()\n",
    "# model_2.add(tf.keras.layers.Dense(units=256, activation=\"relu\"))\n",
    "# trained_layers[1].trainable = True\n",
    "# model_2.add(trained_layers[1])\n",
    "# trained_layers[2].trainable = True\n",
    "# model_2.add(trained_layers[2])\n",
    "# trained_layers[3].trainable = True\n",
    "# model_2.add(trained_layers[3])\n",
    "# trained_layers[4].trainable = True\n",
    "# model_2.add(trained_layers[4])\n",
    "\n",
    "# model_2.add(tf.keras.layers.Dense(units=32, activation=\"relu\"))\n",
    "# model_2.add(tf.keras.layers.Dense(units=16, activation=\"relu\"))\n",
    "# model_2.add(tf.keras.layers.Dense(units=32, activation=\"relu\"))\n",
    "# model_2.add(tf.keras.layers.Dense(units=1))\n",
    "# model_2.compile(\n",
    "#     optimizer=tf.keras.optimizers.Adam(learning_rate=1e-3),\n",
    "#     loss=\"mse\",\n",
    "#     metrics=[tf.keras.metrics.RootMeanSquaredError(name=\"RMSE\")],\n",
    "# )"
   ]
  },
  {
   "cell_type": "code",
   "execution_count": 93,
   "metadata": {
    "scrolled": true
   },
   "outputs": [
    {
     "data": {
      "application/javascript": [
       "\n",
       "            setTimeout(function() {\n",
       "                var nbb_cell_id = 93;\n",
       "                var nbb_unformatted_code = \"sc = StandardScaler()\\nhistory = model_2.fit(\\n    sc.fit_transform(x_train),\\n    y_train,\\n    batch_size=batch_size,\\n    epochs=500,\\n    verbose=verbose,\\n)\";\n",
       "                var nbb_formatted_code = \"sc = StandardScaler()\\nhistory = model_2.fit(\\n    sc.fit_transform(x_train),\\n    y_train,\\n    batch_size=batch_size,\\n    epochs=500,\\n    verbose=verbose,\\n)\";\n",
       "                var nbb_cells = Jupyter.notebook.get_cells();\n",
       "                for (var i = 0; i < nbb_cells.length; ++i) {\n",
       "                    if (nbb_cells[i].input_prompt_number == nbb_cell_id) {\n",
       "                        if (nbb_cells[i].get_text() == nbb_unformatted_code) {\n",
       "                             nbb_cells[i].set_text(nbb_formatted_code);\n",
       "                        }\n",
       "                        break;\n",
       "                    }\n",
       "                }\n",
       "            }, 500);\n",
       "            "
      ],
      "text/plain": [
       "<IPython.core.display.Javascript object>"
      ]
     },
     "metadata": {},
     "output_type": "display_data"
    }
   ],
   "source": [
    "sc = StandardScaler()\n",
    "history = model_2.fit(\n",
    "    sc.fit_transform(x_train),\n",
    "    y_train,\n",
    "    batch_size=batch_size,\n",
    "    epochs=500,\n",
    "    verbose=verbose,\n",
    ")"
   ]
  },
  {
   "cell_type": "code",
   "execution_count": 94,
   "metadata": {},
   "outputs": [
    {
     "name": "stdout",
     "output_type": "stream",
     "text": [
      "******\n",
      "[TRAIN]\n",
      "******\n",
      "RMSE: 5.679 (0.000)\n",
      "MAE: 4.500 (0.000)\n",
      "MAPE: 0.082 (0.000)\n",
      "R2: 0.392 (0.000)\n",
      "\n",
      "======================\n",
      "\n",
      "******\n",
      "[TEST]\n",
      "******\n",
      "RMSE: 3.849 (0.000)\n",
      "MAE: 3.176 (0.000)\n",
      "MAPE: 0.059 (0.000)\n",
      "R2: 0.014 (0.000)\n",
      "\n",
      "======================\n",
      "\n"
     ]
    },
    {
     "data": {
      "application/javascript": [
       "\n",
       "            setTimeout(function() {\n",
       "                var nbb_cell_id = 94;\n",
       "                var nbb_unformatted_code = \"y_train_pred = model_2.predict(sc.transform(x_train))\\ny_test_pred = model_2.predict(sc.transform(x_test))\\n\\nscores = score_regression_metrics(y_train, y_train_pred, y_test, y_test_pred)\\nprint_scores(scores, METRICS, METRICS_DICT)\";\n",
       "                var nbb_formatted_code = \"y_train_pred = model_2.predict(sc.transform(x_train))\\ny_test_pred = model_2.predict(sc.transform(x_test))\\n\\nscores = score_regression_metrics(y_train, y_train_pred, y_test, y_test_pred)\\nprint_scores(scores, METRICS, METRICS_DICT)\";\n",
       "                var nbb_cells = Jupyter.notebook.get_cells();\n",
       "                for (var i = 0; i < nbb_cells.length; ++i) {\n",
       "                    if (nbb_cells[i].input_prompt_number == nbb_cell_id) {\n",
       "                        if (nbb_cells[i].get_text() == nbb_unformatted_code) {\n",
       "                             nbb_cells[i].set_text(nbb_formatted_code);\n",
       "                        }\n",
       "                        break;\n",
       "                    }\n",
       "                }\n",
       "            }, 500);\n",
       "            "
      ],
      "text/plain": [
       "<IPython.core.display.Javascript object>"
      ]
     },
     "metadata": {},
     "output_type": "display_data"
    }
   ],
   "source": [
    "y_train_pred = model_2.predict(sc.transform(x_train))\n",
    "y_test_pred = model_2.predict(sc.transform(x_test))\n",
    "\n",
    "scores = score_regression_metrics(y_train, y_train_pred, y_test, y_test_pred)\n",
    "print_scores(scores, METRICS, METRICS_DICT)"
   ]
  },
  {
   "cell_type": "code",
   "execution_count": 95,
   "metadata": {},
   "outputs": [
    {
     "data": {
      "text/plain": [
       "{'name': 'dense_18',\n",
       " 'trainable': True,\n",
       " 'dtype': 'float32',\n",
       " 'units': 32,\n",
       " 'activation': 'relu',\n",
       " 'use_bias': True,\n",
       " 'kernel_initializer': {'class_name': 'GlorotUniform',\n",
       "  'config': {'seed': None}},\n",
       " 'bias_initializer': {'class_name': 'Zeros', 'config': {}},\n",
       " 'kernel_regularizer': None,\n",
       " 'bias_regularizer': None,\n",
       " 'activity_regularizer': None,\n",
       " 'kernel_constraint': None,\n",
       " 'bias_constraint': None}"
      ]
     },
     "execution_count": 95,
     "metadata": {},
     "output_type": "execute_result"
    },
    {
     "data": {
      "application/javascript": [
       "\n",
       "            setTimeout(function() {\n",
       "                var nbb_cell_id = 95;\n",
       "                var nbb_unformatted_code = \"trained_layers[0].get_config()\";\n",
       "                var nbb_formatted_code = \"trained_layers[0].get_config()\";\n",
       "                var nbb_cells = Jupyter.notebook.get_cells();\n",
       "                for (var i = 0; i < nbb_cells.length; ++i) {\n",
       "                    if (nbb_cells[i].input_prompt_number == nbb_cell_id) {\n",
       "                        if (nbb_cells[i].get_text() == nbb_unformatted_code) {\n",
       "                             nbb_cells[i].set_text(nbb_formatted_code);\n",
       "                        }\n",
       "                        break;\n",
       "                    }\n",
       "                }\n",
       "            }, 500);\n",
       "            "
      ],
      "text/plain": [
       "<IPython.core.display.Javascript object>"
      ]
     },
     "metadata": {},
     "output_type": "display_data"
    }
   ],
   "source": [
    "trained_layers[0].get_config()"
   ]
  },
  {
   "cell_type": "markdown",
   "metadata": {},
   "source": [
    "# Pre Trainning"
   ]
  },
  {
   "cell_type": "code",
   "execution_count": 96,
   "metadata": {},
   "outputs": [
    {
     "data": {
      "application/javascript": [
       "\n",
       "            setTimeout(function() {\n",
       "                var nbb_cell_id = 96;\n",
       "                var nbb_unformatted_code = \"batch_size = 32\\nepochs = 200\\nverbose = 0\";\n",
       "                var nbb_formatted_code = \"batch_size = 32\\nepochs = 200\\nverbose = 0\";\n",
       "                var nbb_cells = Jupyter.notebook.get_cells();\n",
       "                for (var i = 0; i < nbb_cells.length; ++i) {\n",
       "                    if (nbb_cells[i].input_prompt_number == nbb_cell_id) {\n",
       "                        if (nbb_cells[i].get_text() == nbb_unformatted_code) {\n",
       "                             nbb_cells[i].set_text(nbb_formatted_code);\n",
       "                        }\n",
       "                        break;\n",
       "                    }\n",
       "                }\n",
       "            }, 500);\n",
       "            "
      ],
      "text/plain": [
       "<IPython.core.display.Javascript object>"
      ]
     },
     "metadata": {},
     "output_type": "display_data"
    }
   ],
   "source": [
    "batch_size = 32\n",
    "epochs = 200\n",
    "verbose = 0"
   ]
  },
  {
   "cell_type": "markdown",
   "metadata": {},
   "source": [
    "# partner_i"
   ]
  },
  {
   "cell_type": "code",
   "execution_count": 97,
   "metadata": {},
   "outputs": [
    {
     "data": {
      "application/javascript": [
       "\n",
       "            setTimeout(function() {\n",
       "                var nbb_cell_id = 97;\n",
       "                var nbb_unformatted_code = \"df_partner_i = pd.read_csv(\\n    \\\"../../../../data/processed/partner_i-Oficial/cement-shipping.csv\\\"\\n)\";\n",
       "                var nbb_formatted_code = \"df_partner_i = pd.read_csv(\\n    \\\"../../../../data/processed/partner_i-Oficial/cement-shipping.csv\\\"\\n)\";\n",
       "                var nbb_cells = Jupyter.notebook.get_cells();\n",
       "                for (var i = 0; i < nbb_cells.length; ++i) {\n",
       "                    if (nbb_cells[i].input_prompt_number == nbb_cell_id) {\n",
       "                        if (nbb_cells[i].get_text() == nbb_unformatted_code) {\n",
       "                             nbb_cells[i].set_text(nbb_formatted_code);\n",
       "                        }\n",
       "                        break;\n",
       "                    }\n",
       "                }\n",
       "            }, 500);\n",
       "            "
      ],
      "text/plain": [
       "<IPython.core.display.Javascript object>"
      ]
     },
     "metadata": {},
     "output_type": "display_data"
    }
   ],
   "source": [
    "df_partner_i = pd.read_csv(\n",
    "    \"../../../../data/processed/partner_i-Oficial/cement-shipping.csv\"\n",
    ")"
   ]
  },
  {
   "cell_type": "code",
   "execution_count": 98,
   "metadata": {},
   "outputs": [
    {
     "data": {
      "application/javascript": [
       "\n",
       "            setTimeout(function() {\n",
       "                var nbb_cell_id = 98;\n",
       "                var nbb_unformatted_code = \"df_partner_i = df_partner_i.drop(\\n    [\\n        \\\"1 day Compressive strength\\\",\\n        \\\"3 day Compressive strength\\\",\\n        \\\"7 day Compressive strength\\\",\\n    ],\\n    axis=1,\\n).copy()\\n\\ny = df_partner_i.pop(\\\"28 day Compressive strength\\\").values\\nx = df_partner_i.drop([\\\"Date\\\"], axis=1).values\\n\\nx_train, x_test, y_train, y_test = train_test_split(\\n    x, y, test_size=0.2, random_state=SEED, shuffle=False\\n)\";\n",
       "                var nbb_formatted_code = \"df_partner_i = df_partner_i.drop(\\n    [\\n        \\\"1 day Compressive strength\\\",\\n        \\\"3 day Compressive strength\\\",\\n        \\\"7 day Compressive strength\\\",\\n    ],\\n    axis=1,\\n).copy()\\n\\ny = df_partner_i.pop(\\\"28 day Compressive strength\\\").values\\nx = df_partner_i.drop([\\\"Date\\\"], axis=1).values\\n\\nx_train, x_test, y_train, y_test = train_test_split(\\n    x, y, test_size=0.2, random_state=SEED, shuffle=False\\n)\";\n",
       "                var nbb_cells = Jupyter.notebook.get_cells();\n",
       "                for (var i = 0; i < nbb_cells.length; ++i) {\n",
       "                    if (nbb_cells[i].input_prompt_number == nbb_cell_id) {\n",
       "                        if (nbb_cells[i].get_text() == nbb_unformatted_code) {\n",
       "                             nbb_cells[i].set_text(nbb_formatted_code);\n",
       "                        }\n",
       "                        break;\n",
       "                    }\n",
       "                }\n",
       "            }, 500);\n",
       "            "
      ],
      "text/plain": [
       "<IPython.core.display.Javascript object>"
      ]
     },
     "metadata": {},
     "output_type": "display_data"
    }
   ],
   "source": [
    "df_partner_i = df_partner_i.drop(\n",
    "    [\n",
    "        \"1 day Compressive strength\",\n",
    "        \"3 day Compressive strength\",\n",
    "        \"7 day Compressive strength\",\n",
    "    ],\n",
    "    axis=1,\n",
    ").copy()\n",
    "\n",
    "y = df_partner_i.pop(\"28 day Compressive strength\").values\n",
    "x = df_partner_i.drop([\"Date\"], axis=1).values\n",
    "\n",
    "x_train, x_test, y_train, y_test = train_test_split(\n",
    "    x, y, test_size=0.2, random_state=SEED, shuffle=False\n",
    ")"
   ]
  },
  {
   "cell_type": "code",
   "execution_count": 99,
   "metadata": {
    "scrolled": true
   },
   "outputs": [
    {
     "data": {
      "application/javascript": [
       "\n",
       "            setTimeout(function() {\n",
       "                var nbb_cell_id = 99;\n",
       "                var nbb_unformatted_code = \"set_seeds()\\nmodel = get_model()\\nsc = StandardScaler()\\nhistory = model.fit(\\n    sc.fit_transform(x_train),\\n    y_train,\\n    batch_size=batch_size,\\n    epochs=epochs,\\n    verbose=verbose,\\n)\";\n",
       "                var nbb_formatted_code = \"set_seeds()\\nmodel = get_model()\\nsc = StandardScaler()\\nhistory = model.fit(\\n    sc.fit_transform(x_train),\\n    y_train,\\n    batch_size=batch_size,\\n    epochs=epochs,\\n    verbose=verbose,\\n)\";\n",
       "                var nbb_cells = Jupyter.notebook.get_cells();\n",
       "                for (var i = 0; i < nbb_cells.length; ++i) {\n",
       "                    if (nbb_cells[i].input_prompt_number == nbb_cell_id) {\n",
       "                        if (nbb_cells[i].get_text() == nbb_unformatted_code) {\n",
       "                             nbb_cells[i].set_text(nbb_formatted_code);\n",
       "                        }\n",
       "                        break;\n",
       "                    }\n",
       "                }\n",
       "            }, 500);\n",
       "            "
      ],
      "text/plain": [
       "<IPython.core.display.Javascript object>"
      ]
     },
     "metadata": {},
     "output_type": "display_data"
    }
   ],
   "source": [
    "set_seeds()\n",
    "model = get_model()\n",
    "sc = StandardScaler()\n",
    "history = model.fit(\n",
    "    sc.fit_transform(x_train),\n",
    "    y_train,\n",
    "    batch_size=batch_size,\n",
    "    epochs=epochs,\n",
    "    verbose=verbose,\n",
    ")"
   ]
  },
  {
   "cell_type": "code",
   "execution_count": 100,
   "metadata": {},
   "outputs": [
    {
     "data": {
      "text/plain": [
       "[<matplotlib.lines.Line2D at 0x7f358a0516d8>]"
      ]
     },
     "execution_count": 100,
     "metadata": {},
     "output_type": "execute_result"
    },
    {
     "data": {
      "image/png": "[encoded data removed]",
      "text/plain": [
       "<Figure size 432x288 with 1 Axes>"
      ]
     },
     "metadata": {
      "needs_background": "light"
     },
     "output_type": "display_data"
    },
    {
     "data": {
      "application/javascript": [
       "\n",
       "            setTimeout(function() {\n",
       "                var nbb_cell_id = 100;\n",
       "                var nbb_unformatted_code = \"plt.plot(history.history[\\\"RMSE\\\"])\";\n",
       "                var nbb_formatted_code = \"plt.plot(history.history[\\\"RMSE\\\"])\";\n",
       "                var nbb_cells = Jupyter.notebook.get_cells();\n",
       "                for (var i = 0; i < nbb_cells.length; ++i) {\n",
       "                    if (nbb_cells[i].input_prompt_number == nbb_cell_id) {\n",
       "                        if (nbb_cells[i].get_text() == nbb_unformatted_code) {\n",
       "                             nbb_cells[i].set_text(nbb_formatted_code);\n",
       "                        }\n",
       "                        break;\n",
       "                    }\n",
       "                }\n",
       "            }, 500);\n",
       "            "
      ],
      "text/plain": [
       "<IPython.core.display.Javascript object>"
      ]
     },
     "metadata": {},
     "output_type": "display_data"
    }
   ],
   "source": [
    "plt.plot(history.history[\"RMSE\"])"
   ]
  },
  {
   "cell_type": "code",
   "execution_count": 101,
   "metadata": {},
   "outputs": [
    {
     "name": "stdout",
     "output_type": "stream",
     "text": [
      "******\n",
      "[TRAIN]\n",
      "******\n",
      "RMSE: 1.119 (0.000)\n",
      "MAE: 0.849 (0.000)\n",
      "MAPE: 0.020 (0.000)\n",
      "R2: 0.951 (0.000)\n",
      "\n",
      "======================\n",
      "\n",
      "******\n",
      "[TEST]\n",
      "******\n",
      "RMSE: 1.461 (0.000)\n",
      "MAE: 1.073 (0.000)\n",
      "MAPE: 0.024 (0.000)\n",
      "R2: 0.914 (0.000)\n",
      "\n",
      "======================\n",
      "\n"
     ]
    },
    {
     "data": {
      "application/javascript": [
       "\n",
       "            setTimeout(function() {\n",
       "                var nbb_cell_id = 101;\n",
       "                var nbb_unformatted_code = \"y_train_pred = model.predict(sc.transform(x_train))\\ny_test_pred = model.predict(sc.transform(x_test))\\n\\nscores = score_regression_metrics(y_train, y_train_pred, y_test, y_test_pred)\\nprint_scores(scores, METRICS, METRICS_DICT)\";\n",
       "                var nbb_formatted_code = \"y_train_pred = model.predict(sc.transform(x_train))\\ny_test_pred = model.predict(sc.transform(x_test))\\n\\nscores = score_regression_metrics(y_train, y_train_pred, y_test, y_test_pred)\\nprint_scores(scores, METRICS, METRICS_DICT)\";\n",
       "                var nbb_cells = Jupyter.notebook.get_cells();\n",
       "                for (var i = 0; i < nbb_cells.length; ++i) {\n",
       "                    if (nbb_cells[i].input_prompt_number == nbb_cell_id) {\n",
       "                        if (nbb_cells[i].get_text() == nbb_unformatted_code) {\n",
       "                             nbb_cells[i].set_text(nbb_formatted_code);\n",
       "                        }\n",
       "                        break;\n",
       "                    }\n",
       "                }\n",
       "            }, 500);\n",
       "            "
      ],
      "text/plain": [
       "<IPython.core.display.Javascript object>"
      ]
     },
     "metadata": {},
     "output_type": "display_data"
    }
   ],
   "source": [
    "y_train_pred = model.predict(sc.transform(x_train))\n",
    "y_test_pred = model.predict(sc.transform(x_test))\n",
    "\n",
    "scores = score_regression_metrics(y_train, y_train_pred, y_test, y_test_pred)\n",
    "print_scores(scores, METRICS, METRICS_DICT)"
   ]
  },
  {
   "cell_type": "code",
   "execution_count": 102,
   "metadata": {},
   "outputs": [
    {
     "data": {
      "application/javascript": [
       "\n",
       "            setTimeout(function() {\n",
       "                var nbb_cell_id = 102;\n",
       "                var nbb_unformatted_code = \"trained_layers = history.model.layers\";\n",
       "                var nbb_formatted_code = \"trained_layers = history.model.layers\";\n",
       "                var nbb_cells = Jupyter.notebook.get_cells();\n",
       "                for (var i = 0; i < nbb_cells.length; ++i) {\n",
       "                    if (nbb_cells[i].input_prompt_number == nbb_cell_id) {\n",
       "                        if (nbb_cells[i].get_text() == nbb_unformatted_code) {\n",
       "                             nbb_cells[i].set_text(nbb_formatted_code);\n",
       "                        }\n",
       "                        break;\n",
       "                    }\n",
       "                }\n",
       "            }, 500);\n",
       "            "
      ],
      "text/plain": [
       "<IPython.core.display.Javascript object>"
      ]
     },
     "metadata": {},
     "output_type": "display_data"
    }
   ],
   "source": [
    "trained_layers = history.model.layers"
   ]
  },
  {
   "cell_type": "code",
   "execution_count": 103,
   "metadata": {},
   "outputs": [
    {
     "data": {
      "text/plain": [
       "[<keras.layers.core.Dense at 0x7f358a4b1898>,\n",
       " <keras.layers.core.Dense at 0x7f358a43e710>,\n",
       " <keras.layers.core.Dropout at 0x7f358a274e10>,\n",
       " <keras.layers.core.Dense at 0x7f358a253400>]"
      ]
     },
     "execution_count": 103,
     "metadata": {},
     "output_type": "execute_result"
    },
    {
     "data": {
      "application/javascript": [
       "\n",
       "            setTimeout(function() {\n",
       "                var nbb_cell_id = 103;\n",
       "                var nbb_unformatted_code = \"trained_layers\";\n",
       "                var nbb_formatted_code = \"trained_layers\";\n",
       "                var nbb_cells = Jupyter.notebook.get_cells();\n",
       "                for (var i = 0; i < nbb_cells.length; ++i) {\n",
       "                    if (nbb_cells[i].input_prompt_number == nbb_cell_id) {\n",
       "                        if (nbb_cells[i].get_text() == nbb_unformatted_code) {\n",
       "                             nbb_cells[i].set_text(nbb_formatted_code);\n",
       "                        }\n",
       "                        break;\n",
       "                    }\n",
       "                }\n",
       "            }, 500);\n",
       "            "
      ],
      "text/plain": [
       "<IPython.core.display.Javascript object>"
      ]
     },
     "metadata": {},
     "output_type": "display_data"
    }
   ],
   "source": [
    "trained_layers"
   ]
  },
  {
   "cell_type": "markdown",
   "metadata": {},
   "source": [
    "# Fine Tuning"
   ]
  },
  {
   "cell_type": "markdown",
   "metadata": {},
   "source": [
    "# Intercement"
   ]
  },
  {
   "cell_type": "code",
   "execution_count": 105,
   "metadata": {},
   "outputs": [
    {
     "data": {
      "application/javascript": [
       "\n",
       "            setTimeout(function() {\n",
       "                var nbb_cell_id = 105;\n",
       "                var nbb_unformatted_code = \"df = pd.read_csv(\\\"../../../../data/processed/Intercement/cement-shipping.csv\\\")\\ndf_no_cs = df.drop(\\n    [\\n        \\\"RC1\\\",\\n        \\\"RC3\\\",\\n        \\\"RC7\\\",\\n    ],\\n    axis=1,\\n).copy()\\n\\ny = df_no_cs.pop(\\\"RC28\\\").values\\nx = df_no_cs.drop([\\\"Data\\\"], axis=1).values\\nx_train, x_test, y_train, y_test = train_test_split(\\n    x, y, test_size=0.2, random_state=SEED, shuffle=False\\n)\";\n",
       "                var nbb_formatted_code = \"df = pd.read_csv(\\\"../../../../data/processed/Intercement/cement-shipping.csv\\\")\\ndf_no_cs = df.drop(\\n    [\\n        \\\"RC1\\\",\\n        \\\"RC3\\\",\\n        \\\"RC7\\\",\\n    ],\\n    axis=1,\\n).copy()\\n\\ny = df_no_cs.pop(\\\"RC28\\\").values\\nx = df_no_cs.drop([\\\"Data\\\"], axis=1).values\\nx_train, x_test, y_train, y_test = train_test_split(\\n    x, y, test_size=0.2, random_state=SEED, shuffle=False\\n)\";\n",
       "                var nbb_cells = Jupyter.notebook.get_cells();\n",
       "                for (var i = 0; i < nbb_cells.length; ++i) {\n",
       "                    if (nbb_cells[i].input_prompt_number == nbb_cell_id) {\n",
       "                        if (nbb_cells[i].get_text() == nbb_unformatted_code) {\n",
       "                             nbb_cells[i].set_text(nbb_formatted_code);\n",
       "                        }\n",
       "                        break;\n",
       "                    }\n",
       "                }\n",
       "            }, 500);\n",
       "            "
      ],
      "text/plain": [
       "<IPython.core.display.Javascript object>"
      ]
     },
     "metadata": {},
     "output_type": "display_data"
    }
   ],
   "source": [
    "df = pd.read_csv(\"../../../../data/processed/Intercement/cement-shipping.csv\")\n",
    "df_no_cs = df.drop(\n",
    "    [\n",
    "        \"RC1\",\n",
    "        \"RC3\",\n",
    "        \"RC7\",\n",
    "    ],\n",
    "    axis=1,\n",
    ").copy()\n",
    "\n",
    "y = df_no_cs.pop(\"RC28\").values\n",
    "x = df_no_cs.drop([\"Data\"], axis=1).values\n",
    "x_train, x_test, y_train, y_test = train_test_split(\n",
    "    x, y, test_size=0.2, random_state=SEED, shuffle=False\n",
    ")"
   ]
  },
  {
   "cell_type": "code",
   "execution_count": 106,
   "metadata": {},
   "outputs": [
    {
     "data": {
      "application/javascript": [
       "\n",
       "            setTimeout(function() {\n",
       "                var nbb_cell_id = 106;\n",
       "                var nbb_unformatted_code = \"set_seeds()\\nmodel_2 = tf.keras.Sequential()\\nmodel_2.add(tf.keras.layers.Dense(units=32, activation=\\\"relu\\\"))\\ntrained_layers[1].trainable = True\\nmodel_2.add(trained_layers[1])\\ntrained_layers[2].trainable = True\\nmodel_2.add(trained_layers[2])\\n# trained_layers[3].trainable = True\\n# model_2.add(trained_layers[3])\\n# trained_layers[4].trainable = True\\n# model_2.add(trained_layers[4])\\n\\nmodel_2.add(tf.keras.layers.Dense(units=32, activation=\\\"relu\\\"))\\nmodel_2.add(tf.keras.layers.Dense(units=16, activation=\\\"relu\\\"))\\nmodel_2.add(tf.keras.layers.Dense(units=1))\\nmodel_2.compile(\\n    optimizer=tf.keras.optimizers.Adam(learning_rate=1e-3),\\n    loss=\\\"mse\\\",\\n    metrics=[tf.keras.metrics.RootMeanSquaredError(name=\\\"RMSE\\\")],\\n)\";\n",
       "                var nbb_formatted_code = \"set_seeds()\\nmodel_2 = tf.keras.Sequential()\\nmodel_2.add(tf.keras.layers.Dense(units=32, activation=\\\"relu\\\"))\\ntrained_layers[1].trainable = True\\nmodel_2.add(trained_layers[1])\\ntrained_layers[2].trainable = True\\nmodel_2.add(trained_layers[2])\\n# trained_layers[3].trainable = True\\n# model_2.add(trained_layers[3])\\n# trained_layers[4].trainable = True\\n# model_2.add(trained_layers[4])\\n\\nmodel_2.add(tf.keras.layers.Dense(units=32, activation=\\\"relu\\\"))\\nmodel_2.add(tf.keras.layers.Dense(units=16, activation=\\\"relu\\\"))\\nmodel_2.add(tf.keras.layers.Dense(units=1))\\nmodel_2.compile(\\n    optimizer=tf.keras.optimizers.Adam(learning_rate=1e-3),\\n    loss=\\\"mse\\\",\\n    metrics=[tf.keras.metrics.RootMeanSquaredError(name=\\\"RMSE\\\")],\\n)\";\n",
       "                var nbb_cells = Jupyter.notebook.get_cells();\n",
       "                for (var i = 0; i < nbb_cells.length; ++i) {\n",
       "                    if (nbb_cells[i].input_prompt_number == nbb_cell_id) {\n",
       "                        if (nbb_cells[i].get_text() == nbb_unformatted_code) {\n",
       "                             nbb_cells[i].set_text(nbb_formatted_code);\n",
       "                        }\n",
       "                        break;\n",
       "                    }\n",
       "                }\n",
       "            }, 500);\n",
       "            "
      ],
      "text/plain": [
       "<IPython.core.display.Javascript object>"
      ]
     },
     "metadata": {},
     "output_type": "display_data"
    }
   ],
   "source": [
    "set_seeds()\n",
    "model_2 = tf.keras.Sequential()\n",
    "model_2.add(tf.keras.layers.Dense(units=32, activation=\"relu\"))\n",
    "trained_layers[1].trainable = True\n",
    "model_2.add(trained_layers[1])\n",
    "trained_layers[2].trainable = True\n",
    "model_2.add(trained_layers[2])\n",
    "# trained_layers[3].trainable = True\n",
    "# model_2.add(trained_layers[3])\n",
    "# trained_layers[4].trainable = True\n",
    "# model_2.add(trained_layers[4])\n",
    "\n",
    "model_2.add(tf.keras.layers.Dense(units=32, activation=\"relu\"))\n",
    "model_2.add(tf.keras.layers.Dense(units=16, activation=\"relu\"))\n",
    "model_2.add(tf.keras.layers.Dense(units=1))\n",
    "model_2.compile(\n",
    "    optimizer=tf.keras.optimizers.Adam(learning_rate=1e-3),\n",
    "    loss=\"mse\",\n",
    "    metrics=[tf.keras.metrics.RootMeanSquaredError(name=\"RMSE\")],\n",
    ")"
   ]
  },
  {
   "cell_type": "code",
   "execution_count": 107,
   "metadata": {},
   "outputs": [
    {
     "data": {
      "application/javascript": [
       "\n",
       "            setTimeout(function() {\n",
       "                var nbb_cell_id = 107;\n",
       "                var nbb_unformatted_code = \"sc = StandardScaler()\\nhistory = model_2.fit(\\n    sc.fit_transform(x_train),\\n    y_train,\\n    batch_size=batch_size,\\n    epochs=epochs,\\n    verbose=verbose,\\n)\";\n",
       "                var nbb_formatted_code = \"sc = StandardScaler()\\nhistory = model_2.fit(\\n    sc.fit_transform(x_train),\\n    y_train,\\n    batch_size=batch_size,\\n    epochs=epochs,\\n    verbose=verbose,\\n)\";\n",
       "                var nbb_cells = Jupyter.notebook.get_cells();\n",
       "                for (var i = 0; i < nbb_cells.length; ++i) {\n",
       "                    if (nbb_cells[i].input_prompt_number == nbb_cell_id) {\n",
       "                        if (nbb_cells[i].get_text() == nbb_unformatted_code) {\n",
       "                             nbb_cells[i].set_text(nbb_formatted_code);\n",
       "                        }\n",
       "                        break;\n",
       "                    }\n",
       "                }\n",
       "            }, 500);\n",
       "            "
      ],
      "text/plain": [
       "<IPython.core.display.Javascript object>"
      ]
     },
     "metadata": {},
     "output_type": "display_data"
    }
   ],
   "source": [
    "sc = StandardScaler()\n",
    "history = model_2.fit(\n",
    "    sc.fit_transform(x_train),\n",
    "    y_train,\n",
    "    batch_size=batch_size,\n",
    "    epochs=epochs,\n",
    "    verbose=verbose,\n",
    ")"
   ]
  },
  {
   "cell_type": "code",
   "execution_count": 108,
   "metadata": {},
   "outputs": [
    {
     "data": {
      "text/plain": [
       "(247, 1)"
      ]
     },
     "execution_count": 108,
     "metadata": {},
     "output_type": "execute_result"
    },
    {
     "data": {
      "application/javascript": [
       "\n",
       "            setTimeout(function() {\n",
       "                var nbb_cell_id = 108;\n",
       "                var nbb_unformatted_code = \"y_test_pred.shape\";\n",
       "                var nbb_formatted_code = \"y_test_pred.shape\";\n",
       "                var nbb_cells = Jupyter.notebook.get_cells();\n",
       "                for (var i = 0; i < nbb_cells.length; ++i) {\n",
       "                    if (nbb_cells[i].input_prompt_number == nbb_cell_id) {\n",
       "                        if (nbb_cells[i].get_text() == nbb_unformatted_code) {\n",
       "                             nbb_cells[i].set_text(nbb_formatted_code);\n",
       "                        }\n",
       "                        break;\n",
       "                    }\n",
       "                }\n",
       "            }, 500);\n",
       "            "
      ],
      "text/plain": [
       "<IPython.core.display.Javascript object>"
      ]
     },
     "metadata": {},
     "output_type": "display_data"
    }
   ],
   "source": [
    "y_test_pred.shape"
   ]
  },
  {
   "cell_type": "code",
   "execution_count": 109,
   "metadata": {},
   "outputs": [
    {
     "name": "stdout",
     "output_type": "stream",
     "text": [
      "******\n",
      "[TRAIN]\n",
      "******\n",
      "RMSE: 4.702 (0.000)\n",
      "MAE: 4.057 (0.000)\n",
      "MAPE: 0.085 (0.000)\n",
      "R2: 0.466 (0.000)\n",
      "\n",
      "======================\n",
      "\n",
      "******\n",
      "[TEST]\n",
      "******\n",
      "RMSE: 8.868 (0.000)\n",
      "MAE: 7.825 (0.000)\n",
      "MAPE: 0.144 (0.000)\n",
      "R2: 1.323 (0.000)\n",
      "\n",
      "======================\n",
      "\n"
     ]
    },
    {
     "data": {
      "application/javascript": [
       "\n",
       "            setTimeout(function() {\n",
       "                var nbb_cell_id = 109;\n",
       "                var nbb_unformatted_code = \"y_train_pred = model_2.predict(sc.transform(x_train))\\ny_test_pred = model_2.predict(sc.transform(x_test))\\n\\nscores = score_regression_metrics(y_train, y_train_pred, y_test, y_test_pred)\\nprint_scores(scores, METRICS, METRICS_DICT)\";\n",
       "                var nbb_formatted_code = \"y_train_pred = model_2.predict(sc.transform(x_train))\\ny_test_pred = model_2.predict(sc.transform(x_test))\\n\\nscores = score_regression_metrics(y_train, y_train_pred, y_test, y_test_pred)\\nprint_scores(scores, METRICS, METRICS_DICT)\";\n",
       "                var nbb_cells = Jupyter.notebook.get_cells();\n",
       "                for (var i = 0; i < nbb_cells.length; ++i) {\n",
       "                    if (nbb_cells[i].input_prompt_number == nbb_cell_id) {\n",
       "                        if (nbb_cells[i].get_text() == nbb_unformatted_code) {\n",
       "                             nbb_cells[i].set_text(nbb_formatted_code);\n",
       "                        }\n",
       "                        break;\n",
       "                    }\n",
       "                }\n",
       "            }, 500);\n",
       "            "
      ],
      "text/plain": [
       "<IPython.core.display.Javascript object>"
      ]
     },
     "metadata": {},
     "output_type": "display_data"
    }
   ],
   "source": [
    "y_train_pred = model_2.predict(sc.transform(x_train))\n",
    "y_test_pred = model_2.predict(sc.transform(x_test))\n",
    "\n",
    "scores = score_regression_metrics(y_train, y_train_pred, y_test, y_test_pred)\n",
    "print_scores(scores, METRICS, METRICS_DICT)"
   ]
  },
  {
   "cell_type": "code",
   "execution_count": 62,
   "metadata": {},
   "outputs": [
    {
     "name": "stdout",
     "output_type": "stream",
     "text": [
      "******\n",
      "[TRAIN]\n",
      "******\n",
      "RMSE: 2.446 (0.000)\n",
      "MAE: 1.829 (0.000)\n",
      "MAPE: 0.041 (0.000)\n",
      "R2: 0.855 (0.000)\n",
      "\n",
      "======================\n",
      "\n",
      "******\n",
      "[TEST]\n",
      "******\n",
      "RMSE: 4.394 (0.000)\n",
      "MAE: 3.636 (0.000)\n",
      "MAPE: 0.067 (0.000)\n",
      "R2: 0.430 (0.000)\n",
      "\n",
      "======================\n",
      "\n"
     ]
    },
    {
     "data": {
      "application/javascript": [
       "\n",
       "            setTimeout(function() {\n",
       "                var nbb_cell_id = 62;\n",
       "                var nbb_unformatted_code = \"y_train_pred = model_2.predict(sc.transform(x_train))\\ny_test_pred = model_2.predict(sc.transform(x_test))\\n\\nscores = score_regression_metrics(y_train, y_train_pred, y_test, y_test_pred)\\nprint_scores(scores, METRICS, METRICS_DICT)\";\n",
       "                var nbb_formatted_code = \"y_train_pred = model_2.predict(sc.transform(x_train))\\ny_test_pred = model_2.predict(sc.transform(x_test))\\n\\nscores = score_regression_metrics(y_train, y_train_pred, y_test, y_test_pred)\\nprint_scores(scores, METRICS, METRICS_DICT)\";\n",
       "                var nbb_cells = Jupyter.notebook.get_cells();\n",
       "                for (var i = 0; i < nbb_cells.length; ++i) {\n",
       "                    if (nbb_cells[i].input_prompt_number == nbb_cell_id) {\n",
       "                        if (nbb_cells[i].get_text() == nbb_unformatted_code) {\n",
       "                             nbb_cells[i].set_text(nbb_formatted_code);\n",
       "                        }\n",
       "                        break;\n",
       "                    }\n",
       "                }\n",
       "            }, 500);\n",
       "            "
      ],
      "text/plain": [
       "<IPython.core.display.Javascript object>"
      ]
     },
     "metadata": {},
     "output_type": "display_data"
    }
   ],
   "source": [
    "y_train_pred = model_2.predict(sc.transform(x_train))\n",
    "y_test_pred = model_2.predict(sc.transform(x_test))\n",
    "\n",
    "scores = score_regression_metrics(y_train, y_train_pred, y_test, y_test_pred)\n",
    "print_scores(scores, METRICS, METRICS_DICT)"
   ]
  },
  {
   "cell_type": "markdown",
   "metadata": {},
   "source": [
    "# Experiments with same variables"
   ]
  },
  {
   "cell_type": "code",
   "execution_count": 110,
   "metadata": {},
   "outputs": [
    {
     "data": {
      "application/javascript": [
       "\n",
       "            setTimeout(function() {\n",
       "                var nbb_cell_id = 110;\n",
       "                var nbb_unformatted_code = \"def get_model(shape, include_top=True):\\n    inputs = tf.keras.Input(shape=shape)\\n    x = tf.keras.layers.Dense(units=256, activation=\\\"relu\\\")(inputs)\\n    x = tf.keras.layers.Dense(units=128, activation=\\\"relu\\\")(x)\\n    x = tf.keras.layers.Dense(units=64, activation=\\\"relu\\\")(x)\\n    x = tf.keras.layers.Dense(units=32, activation=\\\"relu\\\")(x)\\n    x = tf.keras.layers.Dense(units=16, activation=\\\"relu\\\")(x)\\n    if include_top:\\n        x = tf.keras.layers.Dropout(0.1)(x)\\n        outputs = tf.keras.layers.Dense(units=1)(x)\\n        model = tf.keras.Model(inputs, outputs)\\n        model.compile(\\n            optimizer=tf.keras.optimizers.Adam(learning_rate=1e-3),\\n            loss=\\\"mse\\\",\\n            metrics=[tf.keras.metrics.RootMeanSquaredError(name=\\\"RMSE\\\")],\\n        )\\n    else:\\n        model = tf.keras.Model(inputs, x)\\n    return model\";\n",
       "                var nbb_formatted_code = \"def get_model(shape, include_top=True):\\n    inputs = tf.keras.Input(shape=shape)\\n    x = tf.keras.layers.Dense(units=256, activation=\\\"relu\\\")(inputs)\\n    x = tf.keras.layers.Dense(units=128, activation=\\\"relu\\\")(x)\\n    x = tf.keras.layers.Dense(units=64, activation=\\\"relu\\\")(x)\\n    x = tf.keras.layers.Dense(units=32, activation=\\\"relu\\\")(x)\\n    x = tf.keras.layers.Dense(units=16, activation=\\\"relu\\\")(x)\\n    if include_top:\\n        x = tf.keras.layers.Dropout(0.1)(x)\\n        outputs = tf.keras.layers.Dense(units=1)(x)\\n        model = tf.keras.Model(inputs, outputs)\\n        model.compile(\\n            optimizer=tf.keras.optimizers.Adam(learning_rate=1e-3),\\n            loss=\\\"mse\\\",\\n            metrics=[tf.keras.metrics.RootMeanSquaredError(name=\\\"RMSE\\\")],\\n        )\\n    else:\\n        model = tf.keras.Model(inputs, x)\\n    return model\";\n",
       "                var nbb_cells = Jupyter.notebook.get_cells();\n",
       "                for (var i = 0; i < nbb_cells.length; ++i) {\n",
       "                    if (nbb_cells[i].input_prompt_number == nbb_cell_id) {\n",
       "                        if (nbb_cells[i].get_text() == nbb_unformatted_code) {\n",
       "                             nbb_cells[i].set_text(nbb_formatted_code);\n",
       "                        }\n",
       "                        break;\n",
       "                    }\n",
       "                }\n",
       "            }, 500);\n",
       "            "
      ],
      "text/plain": [
       "<IPython.core.display.Javascript object>"
      ]
     },
     "metadata": {},
     "output_type": "display_data"
    }
   ],
   "source": [
    "def get_model(shape, include_top=True):\n",
    "    inputs = tf.keras.Input(shape=shape)\n",
    "    x = tf.keras.layers.Dense(units=256, activation=\"relu\")(inputs)\n",
    "    x = tf.keras.layers.Dense(units=128, activation=\"relu\")(x)\n",
    "    x = tf.keras.layers.Dense(units=64, activation=\"relu\")(x)\n",
    "    x = tf.keras.layers.Dense(units=32, activation=\"relu\")(x)\n",
    "    x = tf.keras.layers.Dense(units=16, activation=\"relu\")(x)\n",
    "    if include_top:\n",
    "        x = tf.keras.layers.Dropout(0.1)(x)\n",
    "        outputs = tf.keras.layers.Dense(units=1)(x)\n",
    "        model = tf.keras.Model(inputs, outputs)\n",
    "        model.compile(\n",
    "            optimizer=tf.keras.optimizers.Adam(learning_rate=1e-3),\n",
    "            loss=\"mse\",\n",
    "            metrics=[tf.keras.metrics.RootMeanSquaredError(name=\"RMSE\")],\n",
    "        )\n",
    "    else:\n",
    "        model = tf.keras.Model(inputs, x)\n",
    "    return model"
   ]
  },
  {
   "cell_type": "code",
   "execution_count": 121,
   "metadata": {},
   "outputs": [
    {
     "data": {
      "application/javascript": [
       "\n",
       "            setTimeout(function() {\n",
       "                var nbb_cell_id = 121;\n",
       "                var nbb_unformatted_code = \"def get_model(shape, include_top=True):\\n    inputs = tf.keras.Input(shape=shape)\\n    x = tf.keras.layers.Dense(units=32, activation=\\\"relu\\\")(inputs)\\n    x = tf.keras.layers.Dense(units=16, activation=\\\"relu\\\")(x)\\n\\n    if include_top:\\n        x = tf.keras.layers.Dropout(0.1)(x)\\n        outputs = tf.keras.layers.Dense(units=1)(x)\\n        model = tf.keras.Model(inputs, outputs)\\n        model.compile(\\n            optimizer=tf.keras.optimizers.Adam(learning_rate=1e-3),\\n            loss=\\\"mse\\\",\\n            metrics=[tf.keras.metrics.RootMeanSquaredError(name=\\\"RMSE\\\")],\\n        )\\n    else:\\n        model = tf.keras.Model(inputs, x)\\n    return model\";\n",
       "                var nbb_formatted_code = \"def get_model(shape, include_top=True):\\n    inputs = tf.keras.Input(shape=shape)\\n    x = tf.keras.layers.Dense(units=32, activation=\\\"relu\\\")(inputs)\\n    x = tf.keras.layers.Dense(units=16, activation=\\\"relu\\\")(x)\\n\\n    if include_top:\\n        x = tf.keras.layers.Dropout(0.1)(x)\\n        outputs = tf.keras.layers.Dense(units=1)(x)\\n        model = tf.keras.Model(inputs, outputs)\\n        model.compile(\\n            optimizer=tf.keras.optimizers.Adam(learning_rate=1e-3),\\n            loss=\\\"mse\\\",\\n            metrics=[tf.keras.metrics.RootMeanSquaredError(name=\\\"RMSE\\\")],\\n        )\\n    else:\\n        model = tf.keras.Model(inputs, x)\\n    return model\";\n",
       "                var nbb_cells = Jupyter.notebook.get_cells();\n",
       "                for (var i = 0; i < nbb_cells.length; ++i) {\n",
       "                    if (nbb_cells[i].input_prompt_number == nbb_cell_id) {\n",
       "                        if (nbb_cells[i].get_text() == nbb_unformatted_code) {\n",
       "                             nbb_cells[i].set_text(nbb_formatted_code);\n",
       "                        }\n",
       "                        break;\n",
       "                    }\n",
       "                }\n",
       "            }, 500);\n",
       "            "
      ],
      "text/plain": [
       "<IPython.core.display.Javascript object>"
      ]
     },
     "metadata": {},
     "output_type": "display_data"
    }
   ],
   "source": [
    "def get_model(shape, include_top=True):\n",
    "    inputs = tf.keras.Input(shape=shape)\n",
    "    x = tf.keras.layers.Dense(units=32, activation=\"relu\")(inputs)\n",
    "    x = tf.keras.layers.Dense(units=16, activation=\"relu\")(x)\n",
    "\n",
    "    if include_top:\n",
    "        x = tf.keras.layers.Dropout(0.1)(x)\n",
    "        outputs = tf.keras.layers.Dense(units=1)(x)\n",
    "        model = tf.keras.Model(inputs, outputs)\n",
    "        model.compile(\n",
    "            optimizer=tf.keras.optimizers.Adam(learning_rate=1e-3),\n",
    "            loss=\"mse\",\n",
    "            metrics=[tf.keras.metrics.RootMeanSquaredError(name=\"RMSE\")],\n",
    "        )\n",
    "    else:\n",
    "        model = tf.keras.Model(inputs, x)\n",
    "    return model"
   ]
  },
  {
   "cell_type": "markdown",
   "metadata": {},
   "source": [
    "# Pre Trainning"
   ]
  },
  {
   "cell_type": "markdown",
   "metadata": {},
   "source": [
    "# partner_i"
   ]
  },
  {
   "cell_type": "code",
   "execution_count": 135,
   "metadata": {},
   "outputs": [
    {
     "data": {
      "application/javascript": [
       "\n",
       "            setTimeout(function() {\n",
       "                var nbb_cell_id = 135;\n",
       "                var nbb_unformatted_code = \"batch_size = 32\\nepochs = 200\\nverbose = 0\";\n",
       "                var nbb_formatted_code = \"batch_size = 32\\nepochs = 200\\nverbose = 0\";\n",
       "                var nbb_cells = Jupyter.notebook.get_cells();\n",
       "                for (var i = 0; i < nbb_cells.length; ++i) {\n",
       "                    if (nbb_cells[i].input_prompt_number == nbb_cell_id) {\n",
       "                        if (nbb_cells[i].get_text() == nbb_unformatted_code) {\n",
       "                             nbb_cells[i].set_text(nbb_formatted_code);\n",
       "                        }\n",
       "                        break;\n",
       "                    }\n",
       "                }\n",
       "            }, 500);\n",
       "            "
      ],
      "text/plain": [
       "<IPython.core.display.Javascript object>"
      ]
     },
     "metadata": {},
     "output_type": "display_data"
    }
   ],
   "source": [
    "batch_size = 32\n",
    "epochs = 200\n",
    "verbose = 0"
   ]
  },
  {
   "cell_type": "code",
   "execution_count": 136,
   "metadata": {},
   "outputs": [
    {
     "data": {
      "application/javascript": [
       "\n",
       "            setTimeout(function() {\n",
       "                var nbb_cell_id = 136;\n",
       "                var nbb_unformatted_code = \"COMMON_FEATURES = [\\\"mgo\\\", \\\"al2o3\\\", \\\"sio2\\\", \\\"so3\\\", \\\"k2o\\\", \\\"fe2o3\\\"]\";\n",
       "                var nbb_formatted_code = \"COMMON_FEATURES = [\\\"mgo\\\", \\\"al2o3\\\", \\\"sio2\\\", \\\"so3\\\", \\\"k2o\\\", \\\"fe2o3\\\"]\";\n",
       "                var nbb_cells = Jupyter.notebook.get_cells();\n",
       "                for (var i = 0; i < nbb_cells.length; ++i) {\n",
       "                    if (nbb_cells[i].input_prompt_number == nbb_cell_id) {\n",
       "                        if (nbb_cells[i].get_text() == nbb_unformatted_code) {\n",
       "                             nbb_cells[i].set_text(nbb_formatted_code);\n",
       "                        }\n",
       "                        break;\n",
       "                    }\n",
       "                }\n",
       "            }, 500);\n",
       "            "
      ],
      "text/plain": [
       "<IPython.core.display.Javascript object>"
      ]
     },
     "metadata": {},
     "output_type": "display_data"
    }
   ],
   "source": [
    "COMMON_FEATURES = [\"mgo\", \"al2o3\", \"sio2\", \"so3\", \"k2o\", \"fe2o3\"]"
   ]
  },
  {
   "cell_type": "code",
   "execution_count": 137,
   "metadata": {},
   "outputs": [
    {
     "data": {
      "application/javascript": [
       "\n",
       "            setTimeout(function() {\n",
       "                var nbb_cell_id = 137;\n",
       "                var nbb_unformatted_code = \"df_partner_i = pd.read_csv(\\n    \\\"../../../../data/processed/partner_i-Oficial/cement-shipping.csv\\\"\\n)\";\n",
       "                var nbb_formatted_code = \"df_partner_i = pd.read_csv(\\n    \\\"../../../../data/processed/partner_i-Oficial/cement-shipping.csv\\\"\\n)\";\n",
       "                var nbb_cells = Jupyter.notebook.get_cells();\n",
       "                for (var i = 0; i < nbb_cells.length; ++i) {\n",
       "                    if (nbb_cells[i].input_prompt_number == nbb_cell_id) {\n",
       "                        if (nbb_cells[i].get_text() == nbb_unformatted_code) {\n",
       "                             nbb_cells[i].set_text(nbb_formatted_code);\n",
       "                        }\n",
       "                        break;\n",
       "                    }\n",
       "                }\n",
       "            }, 500);\n",
       "            "
      ],
      "text/plain": [
       "<IPython.core.display.Javascript object>"
      ]
     },
     "metadata": {},
     "output_type": "display_data"
    }
   ],
   "source": [
    "df_partner_i = pd.read_csv(\n",
    "    \"../../../../data/processed/partner_i-Oficial/cement-shipping.csv\"\n",
    ")"
   ]
  },
  {
   "cell_type": "code",
   "execution_count": 138,
   "metadata": {},
   "outputs": [
    {
     "data": {
      "application/javascript": [
       "\n",
       "            setTimeout(function() {\n",
       "                var nbb_cell_id = 138;\n",
       "                var nbb_unformatted_code = \"df_partner_i = df_partner_i.drop(\\n    [\\n        \\\"1 day Compressive strength\\\",\\n        \\\"3 day Compressive strength\\\",\\n        \\\"7 day Compressive strength\\\",\\n    ],\\n    axis=1,\\n).copy()\\n\\ny = df_partner_i.pop(\\\"28 day Compressive strength\\\")\\nx = df_partner_i.drop([\\\"Date\\\"], axis=1)\\nx.columns = x.columns.str.lower()\\nx = x[COMMON_FEATURES]\\n\\nx_train, x_test, y_train, y_test = train_test_split(\\n    x, y, test_size=0.2, random_state=SEED, shuffle=False\\n)\";\n",
       "                var nbb_formatted_code = \"df_partner_i = df_partner_i.drop(\\n    [\\n        \\\"1 day Compressive strength\\\",\\n        \\\"3 day Compressive strength\\\",\\n        \\\"7 day Compressive strength\\\",\\n    ],\\n    axis=1,\\n).copy()\\n\\ny = df_partner_i.pop(\\\"28 day Compressive strength\\\")\\nx = df_partner_i.drop([\\\"Date\\\"], axis=1)\\nx.columns = x.columns.str.lower()\\nx = x[COMMON_FEATURES]\\n\\nx_train, x_test, y_train, y_test = train_test_split(\\n    x, y, test_size=0.2, random_state=SEED, shuffle=False\\n)\";\n",
       "                var nbb_cells = Jupyter.notebook.get_cells();\n",
       "                for (var i = 0; i < nbb_cells.length; ++i) {\n",
       "                    if (nbb_cells[i].input_prompt_number == nbb_cell_id) {\n",
       "                        if (nbb_cells[i].get_text() == nbb_unformatted_code) {\n",
       "                             nbb_cells[i].set_text(nbb_formatted_code);\n",
       "                        }\n",
       "                        break;\n",
       "                    }\n",
       "                }\n",
       "            }, 500);\n",
       "            "
      ],
      "text/plain": [
       "<IPython.core.display.Javascript object>"
      ]
     },
     "metadata": {},
     "output_type": "display_data"
    }
   ],
   "source": [
    "df_partner_i = df_partner_i.drop(\n",
    "    [\n",
    "        \"1 day Compressive strength\",\n",
    "        \"3 day Compressive strength\",\n",
    "        \"7 day Compressive strength\",\n",
    "    ],\n",
    "    axis=1,\n",
    ").copy()\n",
    "\n",
    "y = df_partner_i.pop(\"28 day Compressive strength\")\n",
    "x = df_partner_i.drop([\"Date\"], axis=1)\n",
    "x.columns = x.columns.str.lower()\n",
    "x = x[COMMON_FEATURES]\n",
    "\n",
    "x_train, x_test, y_train, y_test = train_test_split(\n",
    "    x, y, test_size=0.2, random_state=SEED, shuffle=False\n",
    ")"
   ]
  },
  {
   "cell_type": "code",
   "execution_count": 139,
   "metadata": {},
   "outputs": [
    {
     "data": {
      "application/javascript": [
       "\n",
       "            setTimeout(function() {\n",
       "                var nbb_cell_id = 139;\n",
       "                var nbb_unformatted_code = \"set_seeds()\\n\\nmodel = get_model(shape=(x_train.shape[-1]))\\nsc = StandardScaler()\\n\\nhistory = model.fit(\\n    sc.fit_transform(x_train),\\n    y_train,\\n    batch_size=batch_size,\\n    epochs=epochs,\\n    verbose=verbose,\\n)\";\n",
       "                var nbb_formatted_code = \"set_seeds()\\n\\nmodel = get_model(shape=(x_train.shape[-1]))\\nsc = StandardScaler()\\n\\nhistory = model.fit(\\n    sc.fit_transform(x_train),\\n    y_train,\\n    batch_size=batch_size,\\n    epochs=epochs,\\n    verbose=verbose,\\n)\";\n",
       "                var nbb_cells = Jupyter.notebook.get_cells();\n",
       "                for (var i = 0; i < nbb_cells.length; ++i) {\n",
       "                    if (nbb_cells[i].input_prompt_number == nbb_cell_id) {\n",
       "                        if (nbb_cells[i].get_text() == nbb_unformatted_code) {\n",
       "                             nbb_cells[i].set_text(nbb_formatted_code);\n",
       "                        }\n",
       "                        break;\n",
       "                    }\n",
       "                }\n",
       "            }, 500);\n",
       "            "
      ],
      "text/plain": [
       "<IPython.core.display.Javascript object>"
      ]
     },
     "metadata": {},
     "output_type": "display_data"
    }
   ],
   "source": [
    "set_seeds()\n",
    "\n",
    "model = get_model(shape=(x_train.shape[-1]))\n",
    "sc = StandardScaler()\n",
    "\n",
    "history = model.fit(\n",
    "    sc.fit_transform(x_train),\n",
    "    y_train,\n",
    "    batch_size=batch_size,\n",
    "    epochs=epochs,\n",
    "    verbose=verbose,\n",
    ")"
   ]
  },
  {
   "cell_type": "code",
   "execution_count": 140,
   "metadata": {},
   "outputs": [
    {
     "name": "stdout",
     "output_type": "stream",
     "text": [
      "******\n",
      "[TRAIN]\n",
      "******\n",
      "RMSE: 3.623 (0.000)\n",
      "MAE: 2.850 (0.000)\n",
      "MAPE: 0.068 (0.000)\n",
      "R2: 0.485 (0.000)\n",
      "\n",
      "======================\n",
      "\n",
      "******\n",
      "[TEST]\n",
      "******\n",
      "RMSE: 3.410 (0.000)\n",
      "MAE: 2.849 (0.000)\n",
      "MAPE: 0.066 (0.000)\n",
      "R2: 0.529 (0.000)\n",
      "\n",
      "======================\n",
      "\n"
     ]
    },
    {
     "data": {
      "application/javascript": [
       "\n",
       "            setTimeout(function() {\n",
       "                var nbb_cell_id = 140;\n",
       "                var nbb_unformatted_code = \"y_train_pred = model.predict(sc.transform(x_train))\\ny_test_pred = model.predict(sc.transform(x_test))\\n\\nscores = score_regression_metrics(y_train, y_train_pred, y_test, y_test_pred)\\nprint_scores(scores, METRICS, METRICS_DICT)\";\n",
       "                var nbb_formatted_code = \"y_train_pred = model.predict(sc.transform(x_train))\\ny_test_pred = model.predict(sc.transform(x_test))\\n\\nscores = score_regression_metrics(y_train, y_train_pred, y_test, y_test_pred)\\nprint_scores(scores, METRICS, METRICS_DICT)\";\n",
       "                var nbb_cells = Jupyter.notebook.get_cells();\n",
       "                for (var i = 0; i < nbb_cells.length; ++i) {\n",
       "                    if (nbb_cells[i].input_prompt_number == nbb_cell_id) {\n",
       "                        if (nbb_cells[i].get_text() == nbb_unformatted_code) {\n",
       "                             nbb_cells[i].set_text(nbb_formatted_code);\n",
       "                        }\n",
       "                        break;\n",
       "                    }\n",
       "                }\n",
       "            }, 500);\n",
       "            "
      ],
      "text/plain": [
       "<IPython.core.display.Javascript object>"
      ]
     },
     "metadata": {},
     "output_type": "display_data"
    }
   ],
   "source": [
    "y_train_pred = model.predict(sc.transform(x_train))\n",
    "y_test_pred = model.predict(sc.transform(x_test))\n",
    "\n",
    "scores = score_regression_metrics(y_train, y_train_pred, y_test, y_test_pred)\n",
    "print_scores(scores, METRICS, METRICS_DICT)"
   ]
  },
  {
   "cell_type": "code",
   "execution_count": 141,
   "metadata": {},
   "outputs": [
    {
     "data": {
      "application/javascript": [
       "\n",
       "            setTimeout(function() {\n",
       "                var nbb_cell_id = 141;\n",
       "                var nbb_unformatted_code = \"model.save_weights(\\\"conv1d_weights.h5\\\")\";\n",
       "                var nbb_formatted_code = \"model.save_weights(\\\"conv1d_weights.h5\\\")\";\n",
       "                var nbb_cells = Jupyter.notebook.get_cells();\n",
       "                for (var i = 0; i < nbb_cells.length; ++i) {\n",
       "                    if (nbb_cells[i].input_prompt_number == nbb_cell_id) {\n",
       "                        if (nbb_cells[i].get_text() == nbb_unformatted_code) {\n",
       "                             nbb_cells[i].set_text(nbb_formatted_code);\n",
       "                        }\n",
       "                        break;\n",
       "                    }\n",
       "                }\n",
       "            }, 500);\n",
       "            "
      ],
      "text/plain": [
       "<IPython.core.display.Javascript object>"
      ]
     },
     "metadata": {},
     "output_type": "display_data"
    }
   ],
   "source": [
    "model.save_weights(\"conv1d_weights.h5\")"
   ]
  },
  {
   "cell_type": "markdown",
   "metadata": {},
   "source": [
    "# Fine Tuning"
   ]
  },
  {
   "cell_type": "markdown",
   "metadata": {},
   "source": [
    "# partner_iii"
   ]
  },
  {
   "cell_type": "code",
   "execution_count": 128,
   "metadata": {},
   "outputs": [
    {
     "data": {
      "application/javascript": [
       "\n",
       "            setTimeout(function() {\n",
       "                var nbb_cell_id = 128;\n",
       "                var nbb_unformatted_code = \"df_partner_iii = pd.read_csv(\\n    \\\"../../../../data/interim/partner_iii/Dati CADD 2020-2022_with_fillna.csv\\\"\\n)\";\n",
       "                var nbb_formatted_code = \"df_partner_iii = pd.read_csv(\\n    \\\"../../../../data/interim/partner_iii/Dati CADD 2020-2022_with_fillna.csv\\\"\\n)\";\n",
       "                var nbb_cells = Jupyter.notebook.get_cells();\n",
       "                for (var i = 0; i < nbb_cells.length; ++i) {\n",
       "                    if (nbb_cells[i].input_prompt_number == nbb_cell_id) {\n",
       "                        if (nbb_cells[i].get_text() == nbb_unformatted_code) {\n",
       "                             nbb_cells[i].set_text(nbb_formatted_code);\n",
       "                        }\n",
       "                        break;\n",
       "                    }\n",
       "                }\n",
       "            }, 500);\n",
       "            "
      ],
      "text/plain": [
       "<IPython.core.display.Javascript object>"
      ]
     },
     "metadata": {},
     "output_type": "display_data"
    }
   ],
   "source": [
    "df_partner_iii = pd.read_csv(\n",
    "    \"../../../../data/interim/partner_iii/Dati CADD 2020-2022_with_fillna.csv\"\n",
    ")"
   ]
  },
  {
   "cell_type": "code",
   "execution_count": 129,
   "metadata": {},
   "outputs": [
    {
     "data": {
      "application/javascript": [
       "\n",
       "            setTimeout(function() {\n",
       "                var nbb_cell_id = 129;\n",
       "                var nbb_unformatted_code = \"y = df_partner_iii.pop(\\\"28d compressive strength (MPa)\\\")\\nx = df_partner_iii\\n\\nx_train, x_test, y_train, y_test = train_test_split(\\n    x, y, test_size=0.1, random_state=SEED, shuffle=False\\n)\";\n",
       "                var nbb_formatted_code = \"y = df_partner_iii.pop(\\\"28d compressive strength (MPa)\\\")\\nx = df_partner_iii\\n\\nx_train, x_test, y_train, y_test = train_test_split(\\n    x, y, test_size=0.1, random_state=SEED, shuffle=False\\n)\";\n",
       "                var nbb_cells = Jupyter.notebook.get_cells();\n",
       "                for (var i = 0; i < nbb_cells.length; ++i) {\n",
       "                    if (nbb_cells[i].input_prompt_number == nbb_cell_id) {\n",
       "                        if (nbb_cells[i].get_text() == nbb_unformatted_code) {\n",
       "                             nbb_cells[i].set_text(nbb_formatted_code);\n",
       "                        }\n",
       "                        break;\n",
       "                    }\n",
       "                }\n",
       "            }, 500);\n",
       "            "
      ],
      "text/plain": [
       "<IPython.core.display.Javascript object>"
      ]
     },
     "metadata": {},
     "output_type": "display_data"
    }
   ],
   "source": [
    "y = df_partner_iii.pop(\"28d compressive strength (MPa)\")\n",
    "x = df_partner_iii\n",
    "\n",
    "x_train, x_test, y_train, y_test = train_test_split(\n",
    "    x, y, test_size=0.1, random_state=SEED, shuffle=False\n",
    ")"
   ]
  },
  {
   "cell_type": "code",
   "execution_count": 130,
   "metadata": {},
   "outputs": [
    {
     "data": {
      "application/javascript": [
       "\n",
       "            setTimeout(function() {\n",
       "                var nbb_cell_id = 130;\n",
       "                var nbb_unformatted_code = \"set_seeds()\\n\\nmodel_2 = get_model(include_top=False, shape=(x.shape[-1]))\\nmodel_2.load_weights(\\\"conv1d_weights.h5\\\", by_name=True)\\nmodel_2.trainable = True\\n\\nflat1 = tf.keras.layers.Flatten(name=\\\"Flatten2\\\")(model_2.layers[-1].output)\\nclass1 = tf.keras.layers.Dense(256, activation=\\\"relu\\\")(flat1)\\noutputs = tf.keras.layers.Dense(1, activation=\\\"linear\\\")(class1)\\nmodel = tf.keras.Model(model_2.inputs, outputs)\\n\\nmodel.compile(\\n    optimizer=tf.keras.optimizers.Adam(learning_rate=1e-3),\\n    loss=\\\"mse\\\",\\n    metrics=[tf.keras.metrics.RootMeanSquaredError(name=\\\"RMSE\\\")],\\n)\";\n",
       "                var nbb_formatted_code = \"set_seeds()\\n\\nmodel_2 = get_model(include_top=False, shape=(x.shape[-1]))\\nmodel_2.load_weights(\\\"conv1d_weights.h5\\\", by_name=True)\\nmodel_2.trainable = True\\n\\nflat1 = tf.keras.layers.Flatten(name=\\\"Flatten2\\\")(model_2.layers[-1].output)\\nclass1 = tf.keras.layers.Dense(256, activation=\\\"relu\\\")(flat1)\\noutputs = tf.keras.layers.Dense(1, activation=\\\"linear\\\")(class1)\\nmodel = tf.keras.Model(model_2.inputs, outputs)\\n\\nmodel.compile(\\n    optimizer=tf.keras.optimizers.Adam(learning_rate=1e-3),\\n    loss=\\\"mse\\\",\\n    metrics=[tf.keras.metrics.RootMeanSquaredError(name=\\\"RMSE\\\")],\\n)\";\n",
       "                var nbb_cells = Jupyter.notebook.get_cells();\n",
       "                for (var i = 0; i < nbb_cells.length; ++i) {\n",
       "                    if (nbb_cells[i].input_prompt_number == nbb_cell_id) {\n",
       "                        if (nbb_cells[i].get_text() == nbb_unformatted_code) {\n",
       "                             nbb_cells[i].set_text(nbb_formatted_code);\n",
       "                        }\n",
       "                        break;\n",
       "                    }\n",
       "                }\n",
       "            }, 500);\n",
       "            "
      ],
      "text/plain": [
       "<IPython.core.display.Javascript object>"
      ]
     },
     "metadata": {},
     "output_type": "display_data"
    }
   ],
   "source": [
    "set_seeds()\n",
    "\n",
    "model_2 = get_model(include_top=False, shape=(x.shape[-1]))\n",
    "model_2.load_weights(\"conv1d_weights.h5\", by_name=True)\n",
    "model_2.trainable = True\n",
    "\n",
    "flat1 = tf.keras.layers.Flatten(name=\"Flatten2\")(model_2.layers[-1].output)\n",
    "class1 = tf.keras.layers.Dense(256, activation=\"relu\")(flat1)\n",
    "outputs = tf.keras.layers.Dense(1, activation=\"linear\")(class1)\n",
    "model = tf.keras.Model(model_2.inputs, outputs)\n",
    "\n",
    "model.compile(\n",
    "    optimizer=tf.keras.optimizers.Adam(learning_rate=1e-3),\n",
    "    loss=\"mse\",\n",
    "    metrics=[tf.keras.metrics.RootMeanSquaredError(name=\"RMSE\")],\n",
    ")"
   ]
  },
  {
   "cell_type": "code",
   "execution_count": 132,
   "metadata": {},
   "outputs": [
    {
     "data": {
      "application/javascript": [
       "\n",
       "            setTimeout(function() {\n",
       "                var nbb_cell_id = 132;\n",
       "                var nbb_unformatted_code = \"sc = StandardScaler()\\nhistory = model.fit(\\n    sc.fit_transform(x_train),\\n    y_train,\\n    batch_size=batch_size,\\n    epochs=epochs,\\n    verbose=verbose,\\n)\";\n",
       "                var nbb_formatted_code = \"sc = StandardScaler()\\nhistory = model.fit(\\n    sc.fit_transform(x_train),\\n    y_train,\\n    batch_size=batch_size,\\n    epochs=epochs,\\n    verbose=verbose,\\n)\";\n",
       "                var nbb_cells = Jupyter.notebook.get_cells();\n",
       "                for (var i = 0; i < nbb_cells.length; ++i) {\n",
       "                    if (nbb_cells[i].input_prompt_number == nbb_cell_id) {\n",
       "                        if (nbb_cells[i].get_text() == nbb_unformatted_code) {\n",
       "                             nbb_cells[i].set_text(nbb_formatted_code);\n",
       "                        }\n",
       "                        break;\n",
       "                    }\n",
       "                }\n",
       "            }, 500);\n",
       "            "
      ],
      "text/plain": [
       "<IPython.core.display.Javascript object>"
      ]
     },
     "metadata": {},
     "output_type": "display_data"
    }
   ],
   "source": [
    "sc = StandardScaler()\n",
    "history = model.fit(\n",
    "    sc.fit_transform(x_train),\n",
    "    y_train,\n",
    "    batch_size=batch_size,\n",
    "    epochs=epochs,\n",
    "    verbose=verbose,\n",
    ")"
   ]
  },
  {
   "cell_type": "code",
   "execution_count": 133,
   "metadata": {},
   "outputs": [
    {
     "data": {
      "text/plain": [
       "[<matplotlib.lines.Line2D at 0x7f3589fc2668>]"
      ]
     },
     "execution_count": 133,
     "metadata": {},
     "output_type": "execute_result"
    },
    {
     "data": {
      "image/png": "[encoded data removed]",
      "text/plain": [
       "<Figure size 432x288 with 1 Axes>"
      ]
     },
     "metadata": {
      "needs_background": "light"
     },
     "output_type": "display_data"
    },
    {
     "data": {
      "application/javascript": [
       "\n",
       "            setTimeout(function() {\n",
       "                var nbb_cell_id = 133;\n",
       "                var nbb_unformatted_code = \"plt.plot(history.history[\\\"RMSE\\\"])\";\n",
       "                var nbb_formatted_code = \"plt.plot(history.history[\\\"RMSE\\\"])\";\n",
       "                var nbb_cells = Jupyter.notebook.get_cells();\n",
       "                for (var i = 0; i < nbb_cells.length; ++i) {\n",
       "                    if (nbb_cells[i].input_prompt_number == nbb_cell_id) {\n",
       "                        if (nbb_cells[i].get_text() == nbb_unformatted_code) {\n",
       "                             nbb_cells[i].set_text(nbb_formatted_code);\n",
       "                        }\n",
       "                        break;\n",
       "                    }\n",
       "                }\n",
       "            }, 500);\n",
       "            "
      ],
      "text/plain": [
       "<IPython.core.display.Javascript object>"
      ]
     },
     "metadata": {},
     "output_type": "display_data"
    }
   ],
   "source": [
    "plt.plot(history.history[\"RMSE\"])"
   ]
  },
  {
   "cell_type": "code",
   "execution_count": 134,
   "metadata": {},
   "outputs": [
    {
     "name": "stdout",
     "output_type": "stream",
     "text": [
      "******\n",
      "[TRAIN]\n",
      "******\n",
      "RMSE: 4.268 (0.000)\n",
      "MAE: 3.286 (0.000)\n",
      "MAPE: 0.063 (0.000)\n",
      "R2: 0.656 (0.000)\n",
      "\n",
      "======================\n",
      "\n",
      "******\n",
      "[TEST]\n",
      "******\n",
      "RMSE: 3.857 (0.000)\n",
      "MAE: 2.746 (0.000)\n",
      "MAPE: 0.054 (0.000)\n",
      "R2: 0.018 (0.000)\n",
      "\n",
      "======================\n",
      "\n"
     ]
    },
    {
     "data": {
      "application/javascript": [
       "\n",
       "            setTimeout(function() {\n",
       "                var nbb_cell_id = 134;\n",
       "                var nbb_unformatted_code = \"y_train_pred = model.predict(sc.transform(x_train))\\ny_test_pred = model.predict(sc.transform(x_test))\\n\\nscores = score_regression_metrics(y_train, y_train_pred, y_test, y_test_pred)\\nprint_scores(scores, METRICS, METRICS_DICT)\";\n",
       "                var nbb_formatted_code = \"y_train_pred = model.predict(sc.transform(x_train))\\ny_test_pred = model.predict(sc.transform(x_test))\\n\\nscores = score_regression_metrics(y_train, y_train_pred, y_test, y_test_pred)\\nprint_scores(scores, METRICS, METRICS_DICT)\";\n",
       "                var nbb_cells = Jupyter.notebook.get_cells();\n",
       "                for (var i = 0; i < nbb_cells.length; ++i) {\n",
       "                    if (nbb_cells[i].input_prompt_number == nbb_cell_id) {\n",
       "                        if (nbb_cells[i].get_text() == nbb_unformatted_code) {\n",
       "                             nbb_cells[i].set_text(nbb_formatted_code);\n",
       "                        }\n",
       "                        break;\n",
       "                    }\n",
       "                }\n",
       "            }, 500);\n",
       "            "
      ],
      "text/plain": [
       "<IPython.core.display.Javascript object>"
      ]
     },
     "metadata": {},
     "output_type": "display_data"
    }
   ],
   "source": [
    "y_train_pred = model.predict(sc.transform(x_train))\n",
    "y_test_pred = model.predict(sc.transform(x_test))\n",
    "\n",
    "scores = score_regression_metrics(y_train, y_train_pred, y_test, y_test_pred)\n",
    "print_scores(scores, METRICS, METRICS_DICT)"
   ]
  },
  {
   "cell_type": "markdown",
   "metadata": {},
   "source": [
    "# Intercement"
   ]
  },
  {
   "cell_type": "code",
   "execution_count": 142,
   "metadata": {},
   "outputs": [
    {
     "data": {
      "application/javascript": [
       "\n",
       "            setTimeout(function() {\n",
       "                var nbb_cell_id = 142;\n",
       "                var nbb_unformatted_code = \"df = pd.read_csv(\\\"../../../../data/processed/Intercement/cement-shipping.csv\\\")\\ndf_no_cs = df.drop(\\n    [\\n        \\\"RC1\\\",\\n        \\\"RC3\\\",\\n        \\\"RC7\\\",\\n    ],\\n    axis=1,\\n).copy()\\n\\ny = df_no_cs.pop(\\\"RC28\\\")\\nx = df_no_cs.drop([\\\"Data\\\"], axis=1)\\nx.columns = x.columns.str.lower()\\nx = x[COMMON_FEATURES]\\n\\nx_train, x_test, y_train, y_test = train_test_split(\\n    x, y, test_size=0.2, random_state=SEED, shuffle=False\\n)\";\n",
       "                var nbb_formatted_code = \"df = pd.read_csv(\\\"../../../../data/processed/Intercement/cement-shipping.csv\\\")\\ndf_no_cs = df.drop(\\n    [\\n        \\\"RC1\\\",\\n        \\\"RC3\\\",\\n        \\\"RC7\\\",\\n    ],\\n    axis=1,\\n).copy()\\n\\ny = df_no_cs.pop(\\\"RC28\\\")\\nx = df_no_cs.drop([\\\"Data\\\"], axis=1)\\nx.columns = x.columns.str.lower()\\nx = x[COMMON_FEATURES]\\n\\nx_train, x_test, y_train, y_test = train_test_split(\\n    x, y, test_size=0.2, random_state=SEED, shuffle=False\\n)\";\n",
       "                var nbb_cells = Jupyter.notebook.get_cells();\n",
       "                for (var i = 0; i < nbb_cells.length; ++i) {\n",
       "                    if (nbb_cells[i].input_prompt_number == nbb_cell_id) {\n",
       "                        if (nbb_cells[i].get_text() == nbb_unformatted_code) {\n",
       "                             nbb_cells[i].set_text(nbb_formatted_code);\n",
       "                        }\n",
       "                        break;\n",
       "                    }\n",
       "                }\n",
       "            }, 500);\n",
       "            "
      ],
      "text/plain": [
       "<IPython.core.display.Javascript object>"
      ]
     },
     "metadata": {},
     "output_type": "display_data"
    }
   ],
   "source": [
    "df = pd.read_csv(\"../../../../data/processed/Intercement/cement-shipping.csv\")\n",
    "df_no_cs = df.drop(\n",
    "    [\n",
    "        \"RC1\",\n",
    "        \"RC3\",\n",
    "        \"RC7\",\n",
    "    ],\n",
    "    axis=1,\n",
    ").copy()\n",
    "\n",
    "y = df_no_cs.pop(\"RC28\")\n",
    "x = df_no_cs.drop([\"Data\"], axis=1)\n",
    "x.columns = x.columns.str.lower()\n",
    "x = x[COMMON_FEATURES]\n",
    "\n",
    "x_train, x_test, y_train, y_test = train_test_split(\n",
    "    x, y, test_size=0.2, random_state=SEED, shuffle=False\n",
    ")"
   ]
  },
  {
   "cell_type": "code",
   "execution_count": 178,
   "metadata": {},
   "outputs": [
    {
     "data": {
      "application/javascript": [
       "\n",
       "            setTimeout(function() {\n",
       "                var nbb_cell_id = 178;\n",
       "                var nbb_unformatted_code = \"set_seeds()\\n\\nmodel_2 = get_model(include_top=False, shape=(x.shape[-1]))\\nmodel_2.load_weights(\\\"conv1d_weights.h5\\\", by_name=True)\\nmodel_2.trainable = False\\n\\nflat1 = tf.keras.layers.Flatten()(model_2.layers[-1].output)\\nclass1 = tf.keras.layers.Dense(32, activation=\\\"relu\\\")(flat1)\\n# class1 = tf.keras.layers.Dense(16, activation=\\\"relu\\\")(class1)\\noutputs = tf.keras.layers.Dense(1, activation=\\\"linear\\\")(class1)\\n# model = tf.keras.Model(model_2.inputs, outputs)\\n\\nmodel.compile(\\n    optimizer=tf.keras.optimizers.Adam(learning_rate=1e-3),\\n    loss=\\\"mse\\\",\\n    # loss=tf.keras.losses.Huber(),\\n    metrics=[tf.keras.metrics.RootMeanSquaredError(name=\\\"RMSE\\\")],\\n)\";\n",
       "                var nbb_formatted_code = \"set_seeds()\\n\\nmodel_2 = get_model(include_top=False, shape=(x.shape[-1]))\\nmodel_2.load_weights(\\\"conv1d_weights.h5\\\", by_name=True)\\nmodel_2.trainable = False\\n\\nflat1 = tf.keras.layers.Flatten()(model_2.layers[-1].output)\\nclass1 = tf.keras.layers.Dense(32, activation=\\\"relu\\\")(flat1)\\n# class1 = tf.keras.layers.Dense(16, activation=\\\"relu\\\")(class1)\\noutputs = tf.keras.layers.Dense(1, activation=\\\"linear\\\")(class1)\\n# model = tf.keras.Model(model_2.inputs, outputs)\\n\\nmodel.compile(\\n    optimizer=tf.keras.optimizers.Adam(learning_rate=1e-3),\\n    loss=\\\"mse\\\",\\n    # loss=tf.keras.losses.Huber(),\\n    metrics=[tf.keras.metrics.RootMeanSquaredError(name=\\\"RMSE\\\")],\\n)\";\n",
       "                var nbb_cells = Jupyter.notebook.get_cells();\n",
       "                for (var i = 0; i < nbb_cells.length; ++i) {\n",
       "                    if (nbb_cells[i].input_prompt_number == nbb_cell_id) {\n",
       "                        if (nbb_cells[i].get_text() == nbb_unformatted_code) {\n",
       "                             nbb_cells[i].set_text(nbb_formatted_code);\n",
       "                        }\n",
       "                        break;\n",
       "                    }\n",
       "                }\n",
       "            }, 500);\n",
       "            "
      ],
      "text/plain": [
       "<IPython.core.display.Javascript object>"
      ]
     },
     "metadata": {},
     "output_type": "display_data"
    }
   ],
   "source": [
    "set_seeds()\n",
    "\n",
    "model_2 = get_model(include_top=False, shape=(x.shape[-1]))\n",
    "model_2.load_weights(\"conv1d_weights.h5\", by_name=True)\n",
    "model_2.trainable = False\n",
    "\n",
    "flat1 = tf.keras.layers.Flatten()(model_2.layers[-1].output)\n",
    "class1 = tf.keras.layers.Dense(32, activation=\"relu\")(flat1)\n",
    "# class1 = tf.keras.layers.Dense(16, activation=\"relu\")(class1)\n",
    "outputs = tf.keras.layers.Dense(1, activation=\"linear\")(class1)\n",
    "# model = tf.keras.Model(model_2.inputs, outputs)\n",
    "\n",
    "model.compile(\n",
    "    optimizer=tf.keras.optimizers.Adam(learning_rate=1e-3),\n",
    "    loss=\"mse\",\n",
    "    # loss=tf.keras.losses.Huber(),\n",
    "    metrics=[tf.keras.metrics.RootMeanSquaredError(name=\"RMSE\")],\n",
    ")"
   ]
  },
  {
   "cell_type": "code",
   "execution_count": 179,
   "metadata": {},
   "outputs": [
    {
     "data": {
      "application/javascript": [
       "\n",
       "            setTimeout(function() {\n",
       "                var nbb_cell_id = 179;\n",
       "                var nbb_unformatted_code = \"# sc = StandardScaler()\\n\\nhistory = model.fit(\\n    sc.transform(x_train),\\n    y_train,\\n    batch_size=batch_size,\\n    epochs=epochs,\\n    verbose=verbose,\\n)\";\n",
       "                var nbb_formatted_code = \"# sc = StandardScaler()\\n\\nhistory = model.fit(\\n    sc.transform(x_train),\\n    y_train,\\n    batch_size=batch_size,\\n    epochs=epochs,\\n    verbose=verbose,\\n)\";\n",
       "                var nbb_cells = Jupyter.notebook.get_cells();\n",
       "                for (var i = 0; i < nbb_cells.length; ++i) {\n",
       "                    if (nbb_cells[i].input_prompt_number == nbb_cell_id) {\n",
       "                        if (nbb_cells[i].get_text() == nbb_unformatted_code) {\n",
       "                             nbb_cells[i].set_text(nbb_formatted_code);\n",
       "                        }\n",
       "                        break;\n",
       "                    }\n",
       "                }\n",
       "            }, 500);\n",
       "            "
      ],
      "text/plain": [
       "<IPython.core.display.Javascript object>"
      ]
     },
     "metadata": {},
     "output_type": "display_data"
    }
   ],
   "source": [
    "# sc = StandardScaler()\n",
    "\n",
    "history = model.fit(\n",
    "    sc.transform(x_train),\n",
    "    y_train,\n",
    "    batch_size=batch_size,\n",
    "    epochs=epochs,\n",
    "    verbose=verbose,\n",
    ")"
   ]
  },
  {
   "cell_type": "code",
   "execution_count": 180,
   "metadata": {},
   "outputs": [
    {
     "data": {
      "text/plain": [
       "[<matplotlib.lines.Line2D at 0x7f35881f6320>]"
      ]
     },
     "execution_count": 180,
     "metadata": {},
     "output_type": "execute_result"
    },
    {
     "data": {
      "image/png": "[encoded data removed]",
      "text/plain": [
       "<Figure size 432x288 with 1 Axes>"
      ]
     },
     "metadata": {
      "needs_background": "light"
     },
     "output_type": "display_data"
    },
    {
     "data": {
      "application/javascript": [
       "\n",
       "            setTimeout(function() {\n",
       "                var nbb_cell_id = 180;\n",
       "                var nbb_unformatted_code = \"plt.plot(history.history[\\\"RMSE\\\"])\";\n",
       "                var nbb_formatted_code = \"plt.plot(history.history[\\\"RMSE\\\"])\";\n",
       "                var nbb_cells = Jupyter.notebook.get_cells();\n",
       "                for (var i = 0; i < nbb_cells.length; ++i) {\n",
       "                    if (nbb_cells[i].input_prompt_number == nbb_cell_id) {\n",
       "                        if (nbb_cells[i].get_text() == nbb_unformatted_code) {\n",
       "                             nbb_cells[i].set_text(nbb_formatted_code);\n",
       "                        }\n",
       "                        break;\n",
       "                    }\n",
       "                }\n",
       "            }, 500);\n",
       "            "
      ],
      "text/plain": [
       "<IPython.core.display.Javascript object>"
      ]
     },
     "metadata": {},
     "output_type": "display_data"
    }
   ],
   "source": [
    "plt.plot(history.history[\"RMSE\"])"
   ]
  },
  {
   "cell_type": "code",
   "execution_count": 181,
   "metadata": {},
   "outputs": [
    {
     "name": "stdout",
     "output_type": "stream",
     "text": [
      "******\n",
      "[TRAIN]\n",
      "******\n",
      "RMSE: 2.700 (0.000)\n",
      "MAE: 2.019 (0.000)\n",
      "MAPE: 0.044 (0.000)\n",
      "R2: 0.824 (0.000)\n",
      "\n",
      "======================\n",
      "\n",
      "******\n",
      "[TEST]\n",
      "******\n",
      "RMSE: 16.548 (0.000)\n",
      "MAE: 8.034 (0.000)\n",
      "MAPE: 0.148 (0.000)\n",
      "R2: 7.088 (0.000)\n",
      "\n",
      "======================\n",
      "\n"
     ]
    },
    {
     "data": {
      "application/javascript": [
       "\n",
       "            setTimeout(function() {\n",
       "                var nbb_cell_id = 181;\n",
       "                var nbb_unformatted_code = \"y_train_pred = model.predict(sc.transform(x_train))\\ny_test_pred = model.predict(sc.transform(x_test))\\n\\nscores = score_regression_metrics(y_train, y_train_pred, y_test, y_test_pred)\\nprint_scores(scores, METRICS, METRICS_DICT)\";\n",
       "                var nbb_formatted_code = \"y_train_pred = model.predict(sc.transform(x_train))\\ny_test_pred = model.predict(sc.transform(x_test))\\n\\nscores = score_regression_metrics(y_train, y_train_pred, y_test, y_test_pred)\\nprint_scores(scores, METRICS, METRICS_DICT)\";\n",
       "                var nbb_cells = Jupyter.notebook.get_cells();\n",
       "                for (var i = 0; i < nbb_cells.length; ++i) {\n",
       "                    if (nbb_cells[i].input_prompt_number == nbb_cell_id) {\n",
       "                        if (nbb_cells[i].get_text() == nbb_unformatted_code) {\n",
       "                             nbb_cells[i].set_text(nbb_formatted_code);\n",
       "                        }\n",
       "                        break;\n",
       "                    }\n",
       "                }\n",
       "            }, 500);\n",
       "            "
      ],
      "text/plain": [
       "<IPython.core.display.Javascript object>"
      ]
     },
     "metadata": {},
     "output_type": "display_data"
    }
   ],
   "source": [
    "y_train_pred = model.predict(sc.transform(x_train))\n",
    "y_test_pred = model.predict(sc.transform(x_test))\n",
    "\n",
    "scores = score_regression_metrics(y_train, y_train_pred, y_test, y_test_pred)\n",
    "print_scores(scores, METRICS, METRICS_DICT)"
   ]
  },
  {
   "cell_type": "markdown",
   "metadata": {},
   "source": [
    "# Pre Trainning"
   ]
  },
  {
   "cell_type": "code",
   "execution_count": 195,
   "metadata": {},
   "outputs": [
    {
     "data": {
      "application/javascript": [
       "\n",
       "            setTimeout(function() {\n",
       "                var nbb_cell_id = 195;\n",
       "                var nbb_unformatted_code = \"batch_size = 32\\nepochs = 200\\nverbose = 0\";\n",
       "                var nbb_formatted_code = \"batch_size = 32\\nepochs = 200\\nverbose = 0\";\n",
       "                var nbb_cells = Jupyter.notebook.get_cells();\n",
       "                for (var i = 0; i < nbb_cells.length; ++i) {\n",
       "                    if (nbb_cells[i].input_prompt_number == nbb_cell_id) {\n",
       "                        if (nbb_cells[i].get_text() == nbb_unformatted_code) {\n",
       "                             nbb_cells[i].set_text(nbb_formatted_code);\n",
       "                        }\n",
       "                        break;\n",
       "                    }\n",
       "                }\n",
       "            }, 500);\n",
       "            "
      ],
      "text/plain": [
       "<IPython.core.display.Javascript object>"
      ]
     },
     "metadata": {},
     "output_type": "display_data"
    }
   ],
   "source": [
    "batch_size = 32\n",
    "epochs = 200\n",
    "verbose = 0"
   ]
  },
  {
   "cell_type": "markdown",
   "metadata": {},
   "source": [
    "# partner_i + partner_ii"
   ]
  },
  {
   "cell_type": "code",
   "execution_count": 196,
   "metadata": {},
   "outputs": [
    {
     "data": {
      "application/javascript": [
       "\n",
       "            setTimeout(function() {\n",
       "                var nbb_cell_id = 196;\n",
       "                var nbb_unformatted_code = \"batch_size = 32\\nepochs = 200\\nverbose = 1\";\n",
       "                var nbb_formatted_code = \"batch_size = 32\\nepochs = 200\\nverbose = 1\";\n",
       "                var nbb_cells = Jupyter.notebook.get_cells();\n",
       "                for (var i = 0; i < nbb_cells.length; ++i) {\n",
       "                    if (nbb_cells[i].input_prompt_number == nbb_cell_id) {\n",
       "                        if (nbb_cells[i].get_text() == nbb_unformatted_code) {\n",
       "                             nbb_cells[i].set_text(nbb_formatted_code);\n",
       "                        }\n",
       "                        break;\n",
       "                    }\n",
       "                }\n",
       "            }, 500);\n",
       "            "
      ],
      "text/plain": [
       "<IPython.core.display.Javascript object>"
      ]
     },
     "metadata": {},
     "output_type": "display_data"
    }
   ],
   "source": [
    "batch_size = 32\n",
    "epochs = 200\n",
    "verbose = 1"
   ]
  },
  {
   "cell_type": "code",
   "execution_count": 197,
   "metadata": {},
   "outputs": [
    {
     "data": {
      "application/javascript": [
       "\n",
       "            setTimeout(function() {\n",
       "                var nbb_cell_id = 197;\n",
       "                var nbb_unformatted_code = \"COMMON_FEATURES = [\\\"mgo\\\", \\\"al2o3\\\", \\\"sio2\\\", \\\"so3\\\", \\\"k2o\\\", \\\"fe2o3\\\"]\";\n",
       "                var nbb_formatted_code = \"COMMON_FEATURES = [\\\"mgo\\\", \\\"al2o3\\\", \\\"sio2\\\", \\\"so3\\\", \\\"k2o\\\", \\\"fe2o3\\\"]\";\n",
       "                var nbb_cells = Jupyter.notebook.get_cells();\n",
       "                for (var i = 0; i < nbb_cells.length; ++i) {\n",
       "                    if (nbb_cells[i].input_prompt_number == nbb_cell_id) {\n",
       "                        if (nbb_cells[i].get_text() == nbb_unformatted_code) {\n",
       "                             nbb_cells[i].set_text(nbb_formatted_code);\n",
       "                        }\n",
       "                        break;\n",
       "                    }\n",
       "                }\n",
       "            }, 500);\n",
       "            "
      ],
      "text/plain": [
       "<IPython.core.display.Javascript object>"
      ]
     },
     "metadata": {},
     "output_type": "display_data"
    }
   ],
   "source": [
    "COMMON_FEATURES = [\"mgo\", \"al2o3\", \"sio2\", \"so3\", \"k2o\", \"fe2o3\"]"
   ]
  },
  {
   "cell_type": "code",
   "execution_count": 198,
   "metadata": {},
   "outputs": [
    {
     "data": {
      "application/javascript": [
       "\n",
       "            setTimeout(function() {\n",
       "                var nbb_cell_id = 198;\n",
       "                var nbb_unformatted_code = \"df_partner_ii = pd.read_csv(\\\"../../../../data/processed/partner_ii/cement-shipping.csv\\\")\\ndf_no_cs = df_partner_ii.drop(\\n    [\\\"strength_1d\\\", \\\"strength_3d\\\", \\\"strength_7d\\\"],\\n    axis=1,\\n).copy()\\ny_1 = df_no_cs.pop(\\\"strength_28d\\\")\\nx_1 = df_no_cs.rename({\\\"sample_date\\\": \\\"date\\\"}, axis=1)\\n\\ndf_partner_i = pd.read_csv(\\n    \\\"../../../../data/processed/partner_i-Oficial/cement-shipping.csv\\\"\\n)\\ndf_partner_i = df_partner_i.drop(\\n    [\\n        \\\"1 day Compressive strength\\\",\\n        \\\"3 day Compressive strength\\\",\\n        \\\"7 day Compressive strength\\\",\\n    ],\\n    axis=1,\\n).copy()\\n\\ny_2 = df_partner_i.pop(\\\"28 day Compressive strength\\\")\\nx_2 = df_partner_i\\n\\nx_2.columns = x_2.columns.str.lower()\\nx_2 = x_2.drop(set(x_2.columns) - set(x_1.columns), axis=1)\\nx_1 = x_1[x_2.columns]\\n\\n\\ny_1.name = \\\"cs28\\\"\\ny_2.name = \\\"cs28\\\"\\n\\nx = pd.concat([x_1, x_2], axis=0).reset_index(drop=True)\\ny = pd.concat([y_1, y_2], axis=0).reset_index(drop=True)\\n\\nx = pd.concat([x, y], axis=1)\\nx[\\\"date\\\"] = x[\\\"date\\\"].apply(lambda x: x[:10])\\nx[\\\"date\\\"] = pd.to_datetime(x[\\\"date\\\"])\\nx = x.sort_values(by=\\\"date\\\").reset_index(drop=True)\\ny = x.pop(\\\"cs28\\\")\\nx.columns = x.columns.str.lower()\\nx = x[COMMON_FEATURES]\\n\\nx_train, x_test, y_train, y_test = train_test_split(\\n    x, y, test_size=0.2, random_state=SEED, shuffle=False\\n)\";\n",
       "                var nbb_formatted_code = \"df_partner_ii = pd.read_csv(\\\"../../../../data/processed/partner_ii/cement-shipping.csv\\\")\\ndf_no_cs = df_partner_ii.drop(\\n    [\\\"strength_1d\\\", \\\"strength_3d\\\", \\\"strength_7d\\\"],\\n    axis=1,\\n).copy()\\ny_1 = df_no_cs.pop(\\\"strength_28d\\\")\\nx_1 = df_no_cs.rename({\\\"sample_date\\\": \\\"date\\\"}, axis=1)\\n\\ndf_partner_i = pd.read_csv(\\n    \\\"../../../../data/processed/partner_i-Oficial/cement-shipping.csv\\\"\\n)\\ndf_partner_i = df_partner_i.drop(\\n    [\\n        \\\"1 day Compressive strength\\\",\\n        \\\"3 day Compressive strength\\\",\\n        \\\"7 day Compressive strength\\\",\\n    ],\\n    axis=1,\\n).copy()\\n\\ny_2 = df_partner_i.pop(\\\"28 day Compressive strength\\\")\\nx_2 = df_partner_i\\n\\nx_2.columns = x_2.columns.str.lower()\\nx_2 = x_2.drop(set(x_2.columns) - set(x_1.columns), axis=1)\\nx_1 = x_1[x_2.columns]\\n\\n\\ny_1.name = \\\"cs28\\\"\\ny_2.name = \\\"cs28\\\"\\n\\nx = pd.concat([x_1, x_2], axis=0).reset_index(drop=True)\\ny = pd.concat([y_1, y_2], axis=0).reset_index(drop=True)\\n\\nx = pd.concat([x, y], axis=1)\\nx[\\\"date\\\"] = x[\\\"date\\\"].apply(lambda x: x[:10])\\nx[\\\"date\\\"] = pd.to_datetime(x[\\\"date\\\"])\\nx = x.sort_values(by=\\\"date\\\").reset_index(drop=True)\\ny = x.pop(\\\"cs28\\\")\\nx.columns = x.columns.str.lower()\\nx = x[COMMON_FEATURES]\\n\\nx_train, x_test, y_train, y_test = train_test_split(\\n    x, y, test_size=0.2, random_state=SEED, shuffle=False\\n)\";\n",
       "                var nbb_cells = Jupyter.notebook.get_cells();\n",
       "                for (var i = 0; i < nbb_cells.length; ++i) {\n",
       "                    if (nbb_cells[i].input_prompt_number == nbb_cell_id) {\n",
       "                        if (nbb_cells[i].get_text() == nbb_unformatted_code) {\n",
       "                             nbb_cells[i].set_text(nbb_formatted_code);\n",
       "                        }\n",
       "                        break;\n",
       "                    }\n",
       "                }\n",
       "            }, 500);\n",
       "            "
      ],
      "text/plain": [
       "<IPython.core.display.Javascript object>"
      ]
     },
     "metadata": {},
     "output_type": "display_data"
    }
   ],
   "source": [
    "df_partner_ii = pd.read_csv(\"../../../../data/processed/partner_ii/cement-shipping.csv\")\n",
    "df_no_cs = df_partner_ii.drop(\n",
    "    [\"strength_1d\", \"strength_3d\", \"strength_7d\"],\n",
    "    axis=1,\n",
    ").copy()\n",
    "y_1 = df_no_cs.pop(\"strength_28d\")\n",
    "x_1 = df_no_cs.rename({\"sample_date\": \"date\"}, axis=1)\n",
    "\n",
    "df_partner_i = pd.read_csv(\n",
    "    \"../../../../data/processed/partner_i-Oficial/cement-shipping.csv\"\n",
    ")\n",
    "df_partner_i = df_partner_i.drop(\n",
    "    [\n",
    "        \"1 day Compressive strength\",\n",
    "        \"3 day Compressive strength\",\n",
    "        \"7 day Compressive strength\",\n",
    "    ],\n",
    "    axis=1,\n",
    ").copy()\n",
    "\n",
    "y_2 = df_partner_i.pop(\"28 day Compressive strength\")\n",
    "x_2 = df_partner_i\n",
    "\n",
    "x_2.columns = x_2.columns.str.lower()\n",
    "x_2 = x_2.drop(set(x_2.columns) - set(x_1.columns), axis=1)\n",
    "x_1 = x_1[x_2.columns]\n",
    "\n",
    "\n",
    "y_1.name = \"cs28\"\n",
    "y_2.name = \"cs28\"\n",
    "\n",
    "x = pd.concat([x_1, x_2], axis=0).reset_index(drop=True)\n",
    "y = pd.concat([y_1, y_2], axis=0).reset_index(drop=True)\n",
    "\n",
    "x = pd.concat([x, y], axis=1)\n",
    "x[\"date\"] = x[\"date\"].apply(lambda x: x[:10])\n",
    "x[\"date\"] = pd.to_datetime(x[\"date\"])\n",
    "x = x.sort_values(by=\"date\").reset_index(drop=True)\n",
    "y = x.pop(\"cs28\")\n",
    "x.columns = x.columns.str.lower()\n",
    "x = x[COMMON_FEATURES]\n",
    "\n",
    "x_train, x_test, y_train, y_test = train_test_split(\n",
    "    x, y, test_size=0.2, random_state=SEED, shuffle=False\n",
    ")"
   ]
  },
  {
   "cell_type": "code",
   "execution_count": 187,
   "metadata": {},
   "outputs": [
    {
     "name": "stdout",
     "output_type": "stream",
     "text": [
      "Epoch 1/200\n",
      "58/58 [==============================] - 0s 1ms/step - loss: 1866.6179 - RMSE: 43.2044\n",
      "Epoch 2/200\n",
      "58/58 [==============================] - 0s 2ms/step - loss: 1715.8634 - RMSE: 41.4230\n",
      "Epoch 3/200\n",
      "58/58 [==============================] - 0s 1ms/step - loss: 1317.7567 - RMSE: 36.3009\n",
      "Epoch 4/200\n",
      "58/58 [==============================] - 0s 2ms/step - loss: 658.6940 - RMSE: 25.6650\n",
      "Epoch 5/200\n",
      "58/58 [==============================] - 0s 2ms/step - loss: 154.1264 - RMSE: 12.4148\n",
      "Epoch 6/200\n",
      "58/58 [==============================] - 0s 1ms/step - loss: 39.3001 - RMSE: 6.2690\n",
      "Epoch 7/200\n",
      "58/58 [==============================] - 0s 3ms/step - loss: 36.9313 - RMSE: 6.0771\n",
      "Epoch 8/200\n",
      "58/58 [==============================] - 0s 2ms/step - loss: 39.0025 - RMSE: 6.2452\n",
      "Epoch 9/200\n",
      "58/58 [==============================] - 0s 2ms/step - loss: 38.3857 - RMSE: 6.1956\n",
      "Epoch 10/200\n",
      "58/58 [==============================] - 0s 2ms/step - loss: 38.1059 - RMSE: 6.1730\n",
      "Epoch 11/200\n",
      "58/58 [==============================] - 0s 2ms/step - loss: 39.8380 - RMSE: 6.3117\n",
      "Epoch 12/200\n",
      "58/58 [==============================] - 0s 2ms/step - loss: 39.4000 - RMSE: 6.2769\n",
      "Epoch 13/200\n",
      "58/58 [==============================] - 0s 1ms/step - loss: 39.3653 - RMSE: 6.2742\n",
      "Epoch 14/200\n",
      "58/58 [==============================] - 0s 2ms/step - loss: 37.7318 - RMSE: 6.1426\n",
      "Epoch 15/200\n",
      "58/58 [==============================] - 0s 2ms/step - loss: 37.1864 - RMSE: 6.0981\n",
      "Epoch 16/200\n",
      "58/58 [==============================] - 0s 2ms/step - loss: 37.5606 - RMSE: 6.1287\n",
      "Epoch 17/200\n",
      "58/58 [==============================] - 0s 2ms/step - loss: 39.0089 - RMSE: 6.2457\n",
      "Epoch 18/200\n",
      "58/58 [==============================] - 0s 2ms/step - loss: 39.4670 - RMSE: 6.2823\n",
      "Epoch 19/200\n",
      "58/58 [==============================] - 0s 2ms/step - loss: 36.9315 - RMSE: 6.0771\n",
      "Epoch 20/200\n",
      "58/58 [==============================] - 0s 2ms/step - loss: 35.4549 - RMSE: 5.9544\n",
      "Epoch 21/200\n",
      "58/58 [==============================] - 0s 2ms/step - loss: 37.2538 - RMSE: 6.1036\n",
      "Epoch 22/200\n",
      "58/58 [==============================] - 0s 2ms/step - loss: 37.4541 - RMSE: 6.1200\n",
      "Epoch 23/200\n",
      "58/58 [==============================] - 0s 2ms/step - loss: 35.1073 - RMSE: 5.9251\n",
      "Epoch 24/200\n",
      "58/58 [==============================] - 0s 2ms/step - loss: 35.3923 - RMSE: 5.9491\n",
      "Epoch 25/200\n",
      "58/58 [==============================] - 0s 2ms/step - loss: 37.5049 - RMSE: 6.1241\n",
      "Epoch 26/200\n",
      "58/58 [==============================] - 0s 2ms/step - loss: 35.7081 - RMSE: 5.9756\n",
      "Epoch 27/200\n",
      "58/58 [==============================] - 0s 2ms/step - loss: 36.9797 - RMSE: 6.0811\n",
      "Epoch 28/200\n",
      "58/58 [==============================] - 0s 2ms/step - loss: 36.4401 - RMSE: 6.0366\n",
      "Epoch 29/200\n",
      "58/58 [==============================] - 0s 2ms/step - loss: 39.2742 - RMSE: 6.2669\n",
      "Epoch 30/200\n",
      "58/58 [==============================] - 0s 3ms/step - loss: 35.0097 - RMSE: 5.9169\n",
      "Epoch 31/200\n",
      "58/58 [==============================] - 0s 2ms/step - loss: 35.3373 - RMSE: 5.9445\n",
      "Epoch 32/200\n",
      "58/58 [==============================] - 0s 2ms/step - loss: 38.1297 - RMSE: 6.1749\n",
      "Epoch 33/200\n",
      "58/58 [==============================] - 0s 2ms/step - loss: 36.5296 - RMSE: 6.0440\n",
      "Epoch 34/200\n",
      "58/58 [==============================] - 0s 4ms/step - loss: 34.9514 - RMSE: 5.9120\n",
      "Epoch 35/200\n",
      "58/58 [==============================] - 0s 3ms/step - loss: 37.1579 - RMSE: 6.0957\n",
      "Epoch 36/200\n",
      "58/58 [==============================] - 0s 1ms/step - loss: 35.6277 - RMSE: 5.9689\n",
      "Epoch 37/200\n",
      "58/58 [==============================] - 0s 3ms/step - loss: 36.9558 - RMSE: 6.0791\n",
      "Epoch 38/200\n",
      "58/58 [==============================] - 0s 4ms/step - loss: 36.4367 - RMSE: 6.0363\n",
      "Epoch 39/200\n",
      "58/58 [==============================] - 0s 3ms/step - loss: 33.5272 - RMSE: 5.7903\n",
      "Epoch 40/200\n",
      "58/58 [==============================] - 0s 2ms/step - loss: 37.7688 - RMSE: 6.1456\n",
      "Epoch 41/200\n",
      "58/58 [==============================] - 0s 3ms/step - loss: 34.4824 - RMSE: 5.8722\n",
      "Epoch 42/200\n",
      "58/58 [==============================] - 0s 2ms/step - loss: 34.3453 - RMSE: 5.8605\n",
      "Epoch 43/200\n",
      "58/58 [==============================] - 0s 3ms/step - loss: 36.1484 - RMSE: 6.0124\n",
      "Epoch 44/200\n",
      "58/58 [==============================] - 0s 3ms/step - loss: 37.9240 - RMSE: 6.1582\n",
      "Epoch 45/200\n",
      "58/58 [==============================] - 0s 2ms/step - loss: 36.3920 - RMSE: 6.0326\n",
      "Epoch 46/200\n",
      "58/58 [==============================] - 0s 2ms/step - loss: 35.6451 - RMSE: 5.9703\n",
      "Epoch 47/200\n",
      "58/58 [==============================] - 0s 2ms/step - loss: 34.8404 - RMSE: 5.9026\n",
      "Epoch 48/200\n",
      "58/58 [==============================] - 0s 4ms/step - loss: 35.0171 - RMSE: 5.9175\n",
      "Epoch 49/200\n",
      "58/58 [==============================] - 0s 3ms/step - loss: 35.3141 - RMSE: 5.9426\n",
      "Epoch 50/200\n",
      "58/58 [==============================] - 0s 2ms/step - loss: 35.1138 - RMSE: 5.9257\n",
      "Epoch 51/200\n",
      "58/58 [==============================] - 0s 3ms/step - loss: 35.6784 - RMSE: 5.9731\n",
      "Epoch 52/200\n",
      "58/58 [==============================] - 0s 3ms/step - loss: 34.6318 - RMSE: 5.8849\n",
      "Epoch 53/200\n",
      "58/58 [==============================] - 0s 2ms/step - loss: 34.7848 - RMSE: 5.8979\n",
      "Epoch 54/200\n",
      "58/58 [==============================] - 0s 3ms/step - loss: 33.0875 - RMSE: 5.7522\n",
      "Epoch 55/200\n",
      "58/58 [==============================] - 0s 3ms/step - loss: 35.3232 - RMSE: 5.9433\n",
      "Epoch 56/200\n",
      "58/58 [==============================] - 0s 2ms/step - loss: 36.9298 - RMSE: 6.0770\n",
      "Epoch 57/200\n",
      "58/58 [==============================] - 0s 2ms/step - loss: 34.2851 - RMSE: 5.8553\n",
      "Epoch 58/200\n",
      "58/58 [==============================] - 0s 3ms/step - loss: 36.7269 - RMSE: 6.0603\n",
      "Epoch 59/200\n",
      "58/58 [==============================] - 0s 2ms/step - loss: 33.5236 - RMSE: 5.7900\n",
      "Epoch 60/200\n",
      "58/58 [==============================] - 0s 2ms/step - loss: 35.9660 - RMSE: 5.9972\n",
      "Epoch 61/200\n",
      "58/58 [==============================] - 0s 2ms/step - loss: 33.7799 - RMSE: 5.8120\n",
      "Epoch 62/200\n",
      "58/58 [==============================] - 0s 2ms/step - loss: 36.7891 - RMSE: 6.0654\n",
      "Epoch 63/200\n",
      "58/58 [==============================] - 0s 2ms/step - loss: 34.0766 - RMSE: 5.8375\n",
      "Epoch 64/200\n",
      "58/58 [==============================] - 0s 2ms/step - loss: 34.5431 - RMSE: 5.8773\n",
      "Epoch 65/200\n",
      "58/58 [==============================] - 0s 2ms/step - loss: 36.8720 - RMSE: 6.0722\n",
      "Epoch 66/200\n",
      "58/58 [==============================] - 0s 2ms/step - loss: 34.7532 - RMSE: 5.8952\n",
      "Epoch 67/200\n",
      "58/58 [==============================] - 0s 2ms/step - loss: 35.2394 - RMSE: 5.9363\n",
      "Epoch 68/200\n",
      "58/58 [==============================] - 0s 2ms/step - loss: 35.4459 - RMSE: 5.9536\n",
      "Epoch 69/200\n",
      "58/58 [==============================] - 0s 2ms/step - loss: 37.1042 - RMSE: 6.0913\n",
      "Epoch 70/200\n",
      "58/58 [==============================] - 0s 2ms/step - loss: 35.1538 - RMSE: 5.9291\n",
      "Epoch 71/200\n",
      "58/58 [==============================] - 0s 2ms/step - loss: 34.6880 - RMSE: 5.8896\n",
      "Epoch 72/200\n",
      "58/58 [==============================] - 0s 3ms/step - loss: 33.5531 - RMSE: 5.7925\n",
      "Epoch 73/200\n",
      "58/58 [==============================] - 0s 2ms/step - loss: 34.4428 - RMSE: 5.8688\n",
      "Epoch 74/200\n",
      "58/58 [==============================] - 0s 2ms/step - loss: 33.3336 - RMSE: 5.7735\n",
      "Epoch 75/200\n",
      "58/58 [==============================] - 0s 2ms/step - loss: 34.7170 - RMSE: 5.8921\n",
      "Epoch 76/200\n",
      "58/58 [==============================] - 0s 2ms/step - loss: 35.4419 - RMSE: 5.9533\n",
      "Epoch 77/200\n",
      "58/58 [==============================] - 0s 3ms/step - loss: 34.9286 - RMSE: 5.9100\n",
      "Epoch 78/200\n",
      "58/58 [==============================] - 0s 2ms/step - loss: 36.8736 - RMSE: 6.0724\n",
      "Epoch 79/200\n",
      "58/58 [==============================] - 0s 2ms/step - loss: 35.7314 - RMSE: 5.9776\n",
      "Epoch 80/200\n",
      "58/58 [==============================] - 0s 2ms/step - loss: 34.1676 - RMSE: 5.8453\n",
      "Epoch 81/200\n",
      "58/58 [==============================] - 0s 3ms/step - loss: 36.3140 - RMSE: 6.0261\n",
      "Epoch 82/200\n",
      "58/58 [==============================] - 0s 2ms/step - loss: 35.7253 - RMSE: 5.9771\n",
      "Epoch 83/200\n",
      "58/58 [==============================] - 0s 2ms/step - loss: 33.4978 - RMSE: 5.7877\n",
      "Epoch 84/200\n",
      "58/58 [==============================] - 0s 2ms/step - loss: 33.9269 - RMSE: 5.8247\n",
      "Epoch 85/200\n"
     ]
    },
    {
     "name": "stdout",
     "output_type": "stream",
     "text": [
      "58/58 [==============================] - 0s 2ms/step - loss: 36.1148 - RMSE: 6.0096\n",
      "Epoch 86/200\n",
      "58/58 [==============================] - 0s 2ms/step - loss: 34.8254 - RMSE: 5.9013\n",
      "Epoch 87/200\n",
      "58/58 [==============================] - 0s 3ms/step - loss: 33.0511 - RMSE: 5.7490\n",
      "Epoch 88/200\n",
      "58/58 [==============================] - 0s 3ms/step - loss: 35.6347 - RMSE: 5.9695\n",
      "Epoch 89/200\n",
      "58/58 [==============================] - 0s 2ms/step - loss: 36.0425 - RMSE: 6.0035\n",
      "Epoch 90/200\n",
      "58/58 [==============================] - 0s 2ms/step - loss: 34.0450 - RMSE: 5.8348\n",
      "Epoch 91/200\n",
      "58/58 [==============================] - 0s 3ms/step - loss: 35.4912 - RMSE: 5.9574\n",
      "Epoch 92/200\n",
      "58/58 [==============================] - 0s 3ms/step - loss: 35.8376 - RMSE: 5.9865\n",
      "Epoch 93/200\n",
      "58/58 [==============================] - 0s 1ms/step - loss: 35.1266 - RMSE: 5.9268\n",
      "Epoch 94/200\n",
      "58/58 [==============================] - 0s 1ms/step - loss: 36.3541 - RMSE: 6.0294\n",
      "Epoch 95/200\n",
      "58/58 [==============================] - 0s 3ms/step - loss: 33.7881 - RMSE: 5.8128\n",
      "Epoch 96/200\n",
      "58/58 [==============================] - 0s 2ms/step - loss: 34.1913 - RMSE: 5.8473\n",
      "Epoch 97/200\n",
      "58/58 [==============================] - 0s 2ms/step - loss: 34.3688 - RMSE: 5.8625\n",
      "Epoch 98/200\n",
      "58/58 [==============================] - 0s 3ms/step - loss: 34.9732 - RMSE: 5.9138\n",
      "Epoch 99/200\n",
      "58/58 [==============================] - 0s 3ms/step - loss: 35.1375 - RMSE: 5.9277\n",
      "Epoch 100/200\n",
      "58/58 [==============================] - 0s 3ms/step - loss: 34.2450 - RMSE: 5.8519\n",
      "Epoch 101/200\n",
      "58/58 [==============================] - 0s 2ms/step - loss: 34.3691 - RMSE: 5.8625\n",
      "Epoch 102/200\n",
      "58/58 [==============================] - 0s 2ms/step - loss: 34.5133 - RMSE: 5.8748\n",
      "Epoch 103/200\n",
      "58/58 [==============================] - 0s 3ms/step - loss: 34.2535 - RMSE: 5.8527\n",
      "Epoch 104/200\n",
      "58/58 [==============================] - 0s 2ms/step - loss: 34.0489 - RMSE: 5.8351\n",
      "Epoch 105/200\n",
      "58/58 [==============================] - 0s 1ms/step - loss: 33.7033 - RMSE: 5.8055\n",
      "Epoch 106/200\n",
      "58/58 [==============================] - 0s 2ms/step - loss: 32.9541 - RMSE: 5.7406\n",
      "Epoch 107/200\n",
      "58/58 [==============================] - 0s 2ms/step - loss: 32.2604 - RMSE: 5.6798\n",
      "Epoch 108/200\n",
      "58/58 [==============================] - 0s 2ms/step - loss: 32.1356 - RMSE: 5.6688\n",
      "Epoch 109/200\n",
      "58/58 [==============================] - 0s 2ms/step - loss: 32.9651 - RMSE: 5.7415\n",
      "Epoch 110/200\n",
      "58/58 [==============================] - 0s 1ms/step - loss: 36.1834 - RMSE: 6.0153\n",
      "Epoch 111/200\n",
      "58/58 [==============================] - 0s 2ms/step - loss: 34.4389 - RMSE: 5.8685\n",
      "Epoch 112/200\n",
      "58/58 [==============================] - 0s 2ms/step - loss: 34.4423 - RMSE: 5.8688\n",
      "Epoch 113/200\n",
      "58/58 [==============================] - 0s 2ms/step - loss: 32.6979 - RMSE: 5.7182\n",
      "Epoch 114/200\n",
      "58/58 [==============================] - 0s 2ms/step - loss: 31.6675 - RMSE: 5.6274\n",
      "Epoch 115/200\n",
      "58/58 [==============================] - 0s 2ms/step - loss: 31.9039 - RMSE: 5.6484\n",
      "Epoch 116/200\n",
      "58/58 [==============================] - 0s 2ms/step - loss: 33.2341 - RMSE: 5.7649\n",
      "Epoch 117/200\n",
      "58/58 [==============================] - 0s 2ms/step - loss: 32.4798 - RMSE: 5.6991\n",
      "Epoch 118/200\n",
      "58/58 [==============================] - 0s 3ms/step - loss: 32.5536 - RMSE: 5.7056\n",
      "Epoch 119/200\n",
      "58/58 [==============================] - 0s 3ms/step - loss: 33.5904 - RMSE: 5.7957\n",
      "Epoch 120/200\n",
      "58/58 [==============================] - 0s 3ms/step - loss: 33.8433 - RMSE: 5.8175\n",
      "Epoch 121/200\n",
      "58/58 [==============================] - 0s 2ms/step - loss: 33.6854 - RMSE: 5.8039\n",
      "Epoch 122/200\n",
      "58/58 [==============================] - 0s 2ms/step - loss: 33.0354 - RMSE: 5.7476\n",
      "Epoch 123/200\n",
      "58/58 [==============================] - 0s 2ms/step - loss: 32.9314 - RMSE: 5.7386\n",
      "Epoch 124/200\n",
      "58/58 [==============================] - 0s 2ms/step - loss: 34.8219 - RMSE: 5.9010\n",
      "Epoch 125/200\n",
      "58/58 [==============================] - 0s 2ms/step - loss: 32.7717 - RMSE: 5.7247\n",
      "Epoch 126/200\n",
      "58/58 [==============================] - 0s 2ms/step - loss: 34.3532 - RMSE: 5.8612\n",
      "Epoch 127/200\n",
      "58/58 [==============================] - 0s 2ms/step - loss: 33.5385 - RMSE: 5.7912\n",
      "Epoch 128/200\n",
      "58/58 [==============================] - 0s 2ms/step - loss: 34.2231 - RMSE: 5.8500\n",
      "Epoch 129/200\n",
      "58/58 [==============================] - 0s 2ms/step - loss: 34.4469 - RMSE: 5.8691\n",
      "Epoch 130/200\n",
      "58/58 [==============================] - 0s 2ms/step - loss: 31.4777 - RMSE: 5.6105\n",
      "Epoch 131/200\n",
      "58/58 [==============================] - 0s 2ms/step - loss: 33.0139 - RMSE: 5.7458\n",
      "Epoch 132/200\n",
      "58/58 [==============================] - 0s 2ms/step - loss: 32.2073 - RMSE: 5.6751\n",
      "Epoch 133/200\n",
      "58/58 [==============================] - 0s 2ms/step - loss: 35.1456 - RMSE: 5.9284\n",
      "Epoch 134/200\n",
      "58/58 [==============================] - 0s 2ms/step - loss: 34.1064 - RMSE: 5.8401\n",
      "Epoch 135/200\n",
      "58/58 [==============================] - 0s 2ms/step - loss: 32.9444 - RMSE: 5.7397\n",
      "Epoch 136/200\n",
      "58/58 [==============================] - 0s 2ms/step - loss: 33.9436 - RMSE: 5.8261\n",
      "Epoch 137/200\n",
      "58/58 [==============================] - 0s 2ms/step - loss: 32.8417 - RMSE: 5.7308\n",
      "Epoch 138/200\n",
      "58/58 [==============================] - 0s 2ms/step - loss: 31.0358 - RMSE: 5.5710\n",
      "Epoch 139/200\n",
      "58/58 [==============================] - 0s 3ms/step - loss: 32.4341 - RMSE: 5.6951\n",
      "Epoch 140/200\n",
      "58/58 [==============================] - 0s 3ms/step - loss: 33.1224 - RMSE: 5.7552\n",
      "Epoch 141/200\n",
      "58/58 [==============================] - 0s 3ms/step - loss: 33.4707 - RMSE: 5.7854\n",
      "Epoch 142/200\n",
      "58/58 [==============================] - 0s 2ms/step - loss: 31.9038 - RMSE: 5.6483\n",
      "Epoch 143/200\n",
      "58/58 [==============================] - 0s 2ms/step - loss: 32.0604 - RMSE: 5.6622A: 0s - loss: 31.7065 - RMSE: 5.63\n",
      "Epoch 144/200\n",
      "58/58 [==============================] - 0s 3ms/step - loss: 31.1579 - RMSE: 5.5819\n",
      "Epoch 145/200\n",
      "58/58 [==============================] - 0s 2ms/step - loss: 30.5418 - RMSE: 5.5265\n",
      "Epoch 146/200\n",
      "58/58 [==============================] - 0s 2ms/step - loss: 31.6969 - RMSE: 5.6300\n",
      "Epoch 147/200\n",
      "58/58 [==============================] - 0s 2ms/step - loss: 33.3548 - RMSE: 5.7754\n",
      "Epoch 148/200\n",
      "58/58 [==============================] - 0s 1ms/step - loss: 34.3805 - RMSE: 5.8635\n",
      "Epoch 149/200\n",
      "58/58 [==============================] - 0s 1ms/step - loss: 34.1992 - RMSE: 5.8480\n",
      "Epoch 150/200\n",
      "58/58 [==============================] - 0s 2ms/step - loss: 32.5683 - RMSE: 5.7069\n",
      "Epoch 151/200\n",
      "58/58 [==============================] - 0s 2ms/step - loss: 31.3177 - RMSE: 5.5962\n",
      "Epoch 152/200\n",
      "58/58 [==============================] - 0s 2ms/step - loss: 31.0840 - RMSE: 5.5753\n",
      "Epoch 153/200\n",
      "58/58 [==============================] - 0s 2ms/step - loss: 30.2307 - RMSE: 5.4982\n",
      "Epoch 154/200\n",
      "58/58 [==============================] - 0s 2ms/step - loss: 34.0036 - RMSE: 5.8313\n",
      "Epoch 155/200\n",
      "58/58 [==============================] - 0s 2ms/step - loss: 33.8993 - RMSE: 5.8223\n",
      "Epoch 156/200\n",
      "58/58 [==============================] - 0s 2ms/step - loss: 32.7033 - RMSE: 5.7187\n",
      "Epoch 157/200\n",
      "58/58 [==============================] - 0s 2ms/step - loss: 33.2940 - RMSE: 5.7701\n",
      "Epoch 158/200\n",
      "58/58 [==============================] - 0s 2ms/step - loss: 32.7184 - RMSE: 5.7200\n",
      "Epoch 159/200\n",
      "58/58 [==============================] - 0s 2ms/step - loss: 32.2039 - RMSE: 5.6749\n",
      "Epoch 160/200\n",
      "58/58 [==============================] - 0s 2ms/step - loss: 32.7504 - RMSE: 5.7228\n",
      "Epoch 161/200\n",
      "58/58 [==============================] - 0s 2ms/step - loss: 33.8350 - RMSE: 5.8168\n",
      "Epoch 162/200\n",
      "58/58 [==============================] - 0s 2ms/step - loss: 30.8577 - RMSE: 5.5550\n",
      "Epoch 163/200\n",
      "58/58 [==============================] - 0s 2ms/step - loss: 32.5326 - RMSE: 5.7037\n",
      "Epoch 164/200\n",
      "58/58 [==============================] - 0s 2ms/step - loss: 32.1793 - RMSE: 5.6727\n",
      "Epoch 165/200\n",
      "58/58 [==============================] - 0s 2ms/step - loss: 32.0895 - RMSE: 5.6648\n",
      "Epoch 166/200\n",
      "58/58 [==============================] - 0s 2ms/step - loss: 31.5655 - RMSE: 5.6183\n",
      "Epoch 167/200\n",
      "58/58 [==============================] - 0s 2ms/step - loss: 32.4763 - RMSE: 5.6988\n",
      "Epoch 168/200\n"
     ]
    },
    {
     "name": "stdout",
     "output_type": "stream",
     "text": [
      "58/58 [==============================] - 0s 2ms/step - loss: 31.2457 - RMSE: 5.5898\n",
      "Epoch 169/200\n",
      "58/58 [==============================] - 0s 2ms/step - loss: 31.7243 - RMSE: 5.6324\n",
      "Epoch 170/200\n",
      "58/58 [==============================] - 0s 3ms/step - loss: 32.1983 - RMSE: 5.6744\n",
      "Epoch 171/200\n",
      "58/58 [==============================] - 0s 5ms/step - loss: 31.3704 - RMSE: 5.6009\n",
      "Epoch 172/200\n",
      "58/58 [==============================] - 0s 3ms/step - loss: 32.0003 - RMSE: 5.6569\n",
      "Epoch 173/200\n",
      "58/58 [==============================] - 0s 3ms/step - loss: 32.9404 - RMSE: 5.7394\n",
      "Epoch 174/200\n",
      "58/58 [==============================] - 0s 3ms/step - loss: 29.9606 - RMSE: 5.4736\n",
      "Epoch 175/200\n",
      "58/58 [==============================] - 0s 3ms/step - loss: 32.3400 - RMSE: 5.6868\n",
      "Epoch 176/200\n",
      "58/58 [==============================] - 0s 2ms/step - loss: 31.6836 - RMSE: 5.6288\n",
      "Epoch 177/200\n",
      "58/58 [==============================] - 0s 3ms/step - loss: 32.7002 - RMSE: 5.7184\n",
      "Epoch 178/200\n",
      "58/58 [==============================] - 0s 3ms/step - loss: 32.1608 - RMSE: 5.6710\n",
      "Epoch 179/200\n",
      "58/58 [==============================] - 0s 3ms/step - loss: 30.1575 - RMSE: 5.4916\n",
      "Epoch 180/200\n",
      "58/58 [==============================] - 0s 2ms/step - loss: 32.3311 - RMSE: 5.6860\n",
      "Epoch 181/200\n",
      "58/58 [==============================] - 0s 3ms/step - loss: 32.2269 - RMSE: 5.6769\n",
      "Epoch 182/200\n",
      "58/58 [==============================] - 0s 1ms/step - loss: 32.8063 - RMSE: 5.7277\n",
      "Epoch 183/200\n",
      "58/58 [==============================] - 0s 2ms/step - loss: 33.0439 - RMSE: 5.7484\n",
      "Epoch 184/200\n",
      "58/58 [==============================] - 0s 2ms/step - loss: 32.3017 - RMSE: 5.6835\n",
      "Epoch 185/200\n",
      "58/58 [==============================] - 0s 2ms/step - loss: 31.0356 - RMSE: 5.5710\n",
      "Epoch 186/200\n",
      "58/58 [==============================] - 0s 2ms/step - loss: 30.3945 - RMSE: 5.5131\n",
      "Epoch 187/200\n",
      "58/58 [==============================] - 0s 2ms/step - loss: 31.5109 - RMSE: 5.6135\n",
      "Epoch 188/200\n",
      "58/58 [==============================] - 0s 2ms/step - loss: 30.3591 - RMSE: 5.5099\n",
      "Epoch 189/200\n",
      "58/58 [==============================] - 0s 2ms/step - loss: 30.9171 - RMSE: 5.5603\n",
      "Epoch 190/200\n",
      "58/58 [==============================] - 0s 2ms/step - loss: 32.4632 - RMSE: 5.6976\n",
      "Epoch 191/200\n",
      "58/58 [==============================] - 0s 2ms/step - loss: 30.1926 - RMSE: 5.4948\n",
      "Epoch 192/200\n",
      "58/58 [==============================] - 0s 2ms/step - loss: 31.5211 - RMSE: 5.6144\n",
      "Epoch 193/200\n",
      "58/58 [==============================] - 0s 2ms/step - loss: 32.4654 - RMSE: 5.6978\n",
      "Epoch 194/200\n",
      "58/58 [==============================] - 0s 2ms/step - loss: 29.4024 - RMSE: 5.4224\n",
      "Epoch 195/200\n",
      "58/58 [==============================] - 0s 2ms/step - loss: 30.9294 - RMSE: 5.5614\n",
      "Epoch 196/200\n",
      "58/58 [==============================] - 0s 2ms/step - loss: 31.9557 - RMSE: 5.6529\n",
      "Epoch 197/200\n",
      "58/58 [==============================] - 0s 2ms/step - loss: 31.6528 - RMSE: 5.6261\n",
      "Epoch 198/200\n",
      "58/58 [==============================] - 0s 2ms/step - loss: 29.8824 - RMSE: 5.4665\n",
      "Epoch 199/200\n",
      "58/58 [==============================] - 0s 2ms/step - loss: 30.3072 - RMSE: 5.5052\n",
      "Epoch 200/200\n",
      "58/58 [==============================] - 0s 2ms/step - loss: 31.3711 - RMSE: 5.6010\n"
     ]
    },
    {
     "data": {
      "application/javascript": [
       "\n",
       "            setTimeout(function() {\n",
       "                var nbb_cell_id = 187;\n",
       "                var nbb_unformatted_code = \"set_seeds()\\nmodel = get_model(shape=(x_train.shape[-1]))\\nsc = StandardScaler()\\n\\nhistory = model.fit(\\n    sc.fit_transform(x_train),\\n    y_train,\\n    batch_size=batch_size,\\n    epochs=epochs,\\n    verbose=verbose,\\n)\";\n",
       "                var nbb_formatted_code = \"set_seeds()\\nmodel = get_model(shape=(x_train.shape[-1]))\\nsc = StandardScaler()\\n\\nhistory = model.fit(\\n    sc.fit_transform(x_train),\\n    y_train,\\n    batch_size=batch_size,\\n    epochs=epochs,\\n    verbose=verbose,\\n)\";\n",
       "                var nbb_cells = Jupyter.notebook.get_cells();\n",
       "                for (var i = 0; i < nbb_cells.length; ++i) {\n",
       "                    if (nbb_cells[i].input_prompt_number == nbb_cell_id) {\n",
       "                        if (nbb_cells[i].get_text() == nbb_unformatted_code) {\n",
       "                             nbb_cells[i].set_text(nbb_formatted_code);\n",
       "                        }\n",
       "                        break;\n",
       "                    }\n",
       "                }\n",
       "            }, 500);\n",
       "            "
      ],
      "text/plain": [
       "<IPython.core.display.Javascript object>"
      ]
     },
     "metadata": {},
     "output_type": "display_data"
    }
   ],
   "source": [
    "set_seeds()\n",
    "model = get_model(shape=(x_train.shape[-1]))\n",
    "sc = StandardScaler()\n",
    "\n",
    "history = model.fit(\n",
    "    sc.fit_transform(x_train),\n",
    "    y_train,\n",
    "    batch_size=batch_size,\n",
    "    epochs=epochs,\n",
    "    verbose=verbose,\n",
    ")"
   ]
  },
  {
   "cell_type": "code",
   "execution_count": 188,
   "metadata": {},
   "outputs": [
    {
     "data": {
      "text/plain": [
       "[<matplotlib.lines.Line2D at 0x7f358a399eb8>]"
      ]
     },
     "execution_count": 188,
     "metadata": {},
     "output_type": "execute_result"
    },
    {
     "data": {
      "image/png": "[encoded data removed]",
      "text/plain": [
       "<Figure size 432x288 with 1 Axes>"
      ]
     },
     "metadata": {
      "needs_background": "light"
     },
     "output_type": "display_data"
    },
    {
     "data": {
      "application/javascript": [
       "\n",
       "            setTimeout(function() {\n",
       "                var nbb_cell_id = 188;\n",
       "                var nbb_unformatted_code = \"plt.plot(history.history[\\\"RMSE\\\"])\";\n",
       "                var nbb_formatted_code = \"plt.plot(history.history[\\\"RMSE\\\"])\";\n",
       "                var nbb_cells = Jupyter.notebook.get_cells();\n",
       "                for (var i = 0; i < nbb_cells.length; ++i) {\n",
       "                    if (nbb_cells[i].input_prompt_number == nbb_cell_id) {\n",
       "                        if (nbb_cells[i].get_text() == nbb_unformatted_code) {\n",
       "                             nbb_cells[i].set_text(nbb_formatted_code);\n",
       "                        }\n",
       "                        break;\n",
       "                    }\n",
       "                }\n",
       "            }, 500);\n",
       "            "
      ],
      "text/plain": [
       "<IPython.core.display.Javascript object>"
      ]
     },
     "metadata": {},
     "output_type": "display_data"
    }
   ],
   "source": [
    "plt.plot(history.history[\"RMSE\"])"
   ]
  },
  {
   "cell_type": "code",
   "execution_count": 189,
   "metadata": {},
   "outputs": [
    {
     "name": "stdout",
     "output_type": "stream",
     "text": [
      "******\n",
      "[TRAIN]\n",
      "******\n",
      "RMSE: 3.363 (0.000)\n",
      "MAE: 2.675 (0.000)\n",
      "MAPE: 0.062 (0.000)\n",
      "R2: 0.382 (0.000)\n",
      "\n",
      "======================\n",
      "\n",
      "******\n",
      "[TEST]\n",
      "******\n",
      "RMSE: 3.865 (0.000)\n",
      "MAE: 3.349 (0.000)\n",
      "MAPE: 0.082 (0.000)\n",
      "R2: 0.352 (0.000)\n",
      "\n",
      "======================\n",
      "\n"
     ]
    },
    {
     "data": {
      "application/javascript": [
       "\n",
       "            setTimeout(function() {\n",
       "                var nbb_cell_id = 189;\n",
       "                var nbb_unformatted_code = \"y_train_pred = model.predict(sc.transform(x_train))\\ny_test_pred = model.predict(sc.transform(x_test))\\nscores = score_regression_metrics(y_train, y_train_pred, y_test, y_test_pred)\\nprint_scores(scores, METRICS, METRICS_DICT)\";\n",
       "                var nbb_formatted_code = \"y_train_pred = model.predict(sc.transform(x_train))\\ny_test_pred = model.predict(sc.transform(x_test))\\nscores = score_regression_metrics(y_train, y_train_pred, y_test, y_test_pred)\\nprint_scores(scores, METRICS, METRICS_DICT)\";\n",
       "                var nbb_cells = Jupyter.notebook.get_cells();\n",
       "                for (var i = 0; i < nbb_cells.length; ++i) {\n",
       "                    if (nbb_cells[i].input_prompt_number == nbb_cell_id) {\n",
       "                        if (nbb_cells[i].get_text() == nbb_unformatted_code) {\n",
       "                             nbb_cells[i].set_text(nbb_formatted_code);\n",
       "                        }\n",
       "                        break;\n",
       "                    }\n",
       "                }\n",
       "            }, 500);\n",
       "            "
      ],
      "text/plain": [
       "<IPython.core.display.Javascript object>"
      ]
     },
     "metadata": {},
     "output_type": "display_data"
    }
   ],
   "source": [
    "y_train_pred = model.predict(sc.transform(x_train))\n",
    "y_test_pred = model.predict(sc.transform(x_test))\n",
    "scores = score_regression_metrics(y_train, y_train_pred, y_test, y_test_pred)\n",
    "print_scores(scores, METRICS, METRICS_DICT)"
   ]
  },
  {
   "cell_type": "code",
   "execution_count": 199,
   "metadata": {},
   "outputs": [
    {
     "data": {
      "application/javascript": [
       "\n",
       "            setTimeout(function() {\n",
       "                var nbb_cell_id = 199;\n",
       "                var nbb_unformatted_code = \"model.save_weights(\\\"conv1d_weights.h5\\\")\";\n",
       "                var nbb_formatted_code = \"model.save_weights(\\\"conv1d_weights.h5\\\")\";\n",
       "                var nbb_cells = Jupyter.notebook.get_cells();\n",
       "                for (var i = 0; i < nbb_cells.length; ++i) {\n",
       "                    if (nbb_cells[i].input_prompt_number == nbb_cell_id) {\n",
       "                        if (nbb_cells[i].get_text() == nbb_unformatted_code) {\n",
       "                             nbb_cells[i].set_text(nbb_formatted_code);\n",
       "                        }\n",
       "                        break;\n",
       "                    }\n",
       "                }\n",
       "            }, 500);\n",
       "            "
      ],
      "text/plain": [
       "<IPython.core.display.Javascript object>"
      ]
     },
     "metadata": {},
     "output_type": "display_data"
    }
   ],
   "source": [
    "model.save_weights(\"conv1d_weights.h5\")"
   ]
  },
  {
   "cell_type": "markdown",
   "metadata": {},
   "source": [
    "# Fine Tuning"
   ]
  },
  {
   "cell_type": "markdown",
   "metadata": {},
   "source": [
    "# partner_iii"
   ]
  },
  {
   "cell_type": "code",
   "execution_count": 89,
   "metadata": {},
   "outputs": [
    {
     "data": {
      "application/javascript": [
       "\n",
       "            setTimeout(function() {\n",
       "                var nbb_cell_id = 89;\n",
       "                var nbb_unformatted_code = \"df_partner_iii = pd.read_csv(\\n    \\\"../../../data/interim/partner_iii/Dati CADD 2020-2022_with_fillna.csv\\\"\\n)\";\n",
       "                var nbb_formatted_code = \"df_partner_iii = pd.read_csv(\\n    \\\"../../../data/interim/partner_iii/Dati CADD 2020-2022_with_fillna.csv\\\"\\n)\";\n",
       "                var nbb_cells = Jupyter.notebook.get_cells();\n",
       "                for (var i = 0; i < nbb_cells.length; ++i) {\n",
       "                    if (nbb_cells[i].input_prompt_number == nbb_cell_id) {\n",
       "                        if (nbb_cells[i].get_text() == nbb_unformatted_code) {\n",
       "                             nbb_cells[i].set_text(nbb_formatted_code);\n",
       "                        }\n",
       "                        break;\n",
       "                    }\n",
       "                }\n",
       "            }, 500);\n",
       "            "
      ],
      "text/plain": [
       "<IPython.core.display.Javascript object>"
      ]
     },
     "metadata": {},
     "output_type": "display_data"
    }
   ],
   "source": [
    "df_partner_iii = pd.read_csv(\n",
    "    \"../../../data/interim/partner_iii/Dati CADD 2020-2022_with_fillna.csv\"\n",
    ")"
   ]
  },
  {
   "cell_type": "code",
   "execution_count": 90,
   "metadata": {},
   "outputs": [
    {
     "data": {
      "application/javascript": [
       "\n",
       "            setTimeout(function() {\n",
       "                var nbb_cell_id = 90;\n",
       "                var nbb_unformatted_code = \"y = df_partner_iii.pop(\\\"28d compressive strength (MPa)\\\")\\nx = df_partner_iii\\n\\nx_train, x_test, y_train, y_test = train_test_split(\\n    x, y, test_size=0.1, random_state=SEED, shuffle=False\\n)\";\n",
       "                var nbb_formatted_code = \"y = df_partner_iii.pop(\\\"28d compressive strength (MPa)\\\")\\nx = df_partner_iii\\n\\nx_train, x_test, y_train, y_test = train_test_split(\\n    x, y, test_size=0.1, random_state=SEED, shuffle=False\\n)\";\n",
       "                var nbb_cells = Jupyter.notebook.get_cells();\n",
       "                for (var i = 0; i < nbb_cells.length; ++i) {\n",
       "                    if (nbb_cells[i].input_prompt_number == nbb_cell_id) {\n",
       "                        if (nbb_cells[i].get_text() == nbb_unformatted_code) {\n",
       "                             nbb_cells[i].set_text(nbb_formatted_code);\n",
       "                        }\n",
       "                        break;\n",
       "                    }\n",
       "                }\n",
       "            }, 500);\n",
       "            "
      ],
      "text/plain": [
       "<IPython.core.display.Javascript object>"
      ]
     },
     "metadata": {},
     "output_type": "display_data"
    }
   ],
   "source": [
    "y = df_partner_iii.pop(\"28d compressive strength (MPa)\")\n",
    "x = df_partner_iii\n",
    "\n",
    "x_train, x_test, y_train, y_test = train_test_split(\n",
    "    x, y, test_size=0.1, random_state=SEED, shuffle=False\n",
    ")"
   ]
  },
  {
   "cell_type": "code",
   "execution_count": 190,
   "metadata": {},
   "outputs": [
    {
     "data": {
      "application/javascript": [
       "\n",
       "            setTimeout(function() {\n",
       "                var nbb_cell_id = 190;\n",
       "                var nbb_unformatted_code = \"set_seeds()\\n\\nmodel_2 = get_model(include_top=False, shape=(x.shape[-1]))\\nmodel_2.load_weights(\\\"conv1d_weights.h5\\\", by_name=True)\\nmodel_2.trainable = True\\n\\nflat1 = tf.keras.layers.Flatten(name=\\\"Flatten2\\\")(model_2.layers[-1].output)\\nclass1 = tf.keras.layers.Dense(256, activation=\\\"relu\\\")(flat1)\\noutputs = tf.keras.layers.Dense(1, activation=\\\"linear\\\")(class1)\\nmodel = tf.keras.Model(model_2.inputs, outputs)\\n\\nmodel.compile(\\n    optimizer=tf.keras.optimizers.Adam(learning_rate=1e-3),\\n    #loss=\\\"mse\\\",\\n    loss=tf.keras.losses.Huber(),\\n    metrics=[tf.keras.metrics.RootMeanSquaredError(name=\\\"RMSE\\\")],\\n)\";\n",
       "                var nbb_formatted_code = \"set_seeds()\\n\\nmodel_2 = get_model(include_top=False, shape=(x.shape[-1]))\\nmodel_2.load_weights(\\\"conv1d_weights.h5\\\", by_name=True)\\nmodel_2.trainable = True\\n\\nflat1 = tf.keras.layers.Flatten(name=\\\"Flatten2\\\")(model_2.layers[-1].output)\\nclass1 = tf.keras.layers.Dense(256, activation=\\\"relu\\\")(flat1)\\noutputs = tf.keras.layers.Dense(1, activation=\\\"linear\\\")(class1)\\nmodel = tf.keras.Model(model_2.inputs, outputs)\\n\\nmodel.compile(\\n    optimizer=tf.keras.optimizers.Adam(learning_rate=1e-3),\\n    # loss=\\\"mse\\\",\\n    loss=tf.keras.losses.Huber(),\\n    metrics=[tf.keras.metrics.RootMeanSquaredError(name=\\\"RMSE\\\")],\\n)\";\n",
       "                var nbb_cells = Jupyter.notebook.get_cells();\n",
       "                for (var i = 0; i < nbb_cells.length; ++i) {\n",
       "                    if (nbb_cells[i].input_prompt_number == nbb_cell_id) {\n",
       "                        if (nbb_cells[i].get_text() == nbb_unformatted_code) {\n",
       "                             nbb_cells[i].set_text(nbb_formatted_code);\n",
       "                        }\n",
       "                        break;\n",
       "                    }\n",
       "                }\n",
       "            }, 500);\n",
       "            "
      ],
      "text/plain": [
       "<IPython.core.display.Javascript object>"
      ]
     },
     "metadata": {},
     "output_type": "display_data"
    }
   ],
   "source": [
    "set_seeds()\n",
    "\n",
    "model_2 = get_model(include_top=False, shape=(x.shape[-1]))\n",
    "model_2.load_weights(\"conv1d_weights.h5\", by_name=True)\n",
    "model_2.trainable = True\n",
    "\n",
    "flat1 = tf.keras.layers.Flatten(name=\"Flatten2\")(model_2.layers[-1].output)\n",
    "class1 = tf.keras.layers.Dense(256, activation=\"relu\")(flat1)\n",
    "outputs = tf.keras.layers.Dense(1, activation=\"linear\")(class1)\n",
    "model = tf.keras.Model(model_2.inputs, outputs)\n",
    "\n",
    "model.compile(\n",
    "    optimizer=tf.keras.optimizers.Adam(learning_rate=1e-3),\n",
    "    # loss=\"mse\",\n",
    "    loss=tf.keras.losses.Huber(),\n",
    "    metrics=[tf.keras.metrics.RootMeanSquaredError(name=\"RMSE\")],\n",
    ")"
   ]
  },
  {
   "cell_type": "code",
   "execution_count": 191,
   "metadata": {},
   "outputs": [
    {
     "name": "stdout",
     "output_type": "stream",
     "text": [
      "Epoch 1/200\n",
      "58/58 [==============================] - 0s 1ms/step - loss: 41.6218 - RMSE: 42.3682\n",
      "Epoch 2/200\n",
      "58/58 [==============================] - 0s 2ms/step - loss: 22.2478 - RMSE: 26.1174\n",
      "Epoch 3/200\n",
      "58/58 [==============================] - 0s 2ms/step - loss: 2.6894 - RMSE: 3.9878\n",
      "Epoch 4/200\n",
      "58/58 [==============================] - 0s 2ms/step - loss: 2.5624 - RMSE: 3.8283\n",
      "Epoch 5/200\n",
      "58/58 [==============================] - 0s 2ms/step - loss: 2.5289 - RMSE: 3.7769\n",
      "Epoch 6/200\n",
      "58/58 [==============================] - 0s 2ms/step - loss: 2.5095 - RMSE: 3.7790\n",
      "Epoch 7/200\n",
      "58/58 [==============================] - 0s 2ms/step - loss: 2.4787 - RMSE: 3.7280\n",
      "Epoch 8/200\n",
      "58/58 [==============================] - 0s 2ms/step - loss: 2.4376 - RMSE: 3.6908\n",
      "Epoch 9/200\n",
      "58/58 [==============================] - 0s 2ms/step - loss: 2.4300 - RMSE: 3.6996\n",
      "Epoch 10/200\n",
      "58/58 [==============================] - 0s 2ms/step - loss: 2.4227 - RMSE: 3.6796\n",
      "Epoch 11/200\n",
      "58/58 [==============================] - 0s 2ms/step - loss: 2.3950 - RMSE: 3.6568\n",
      "Epoch 12/200\n",
      "58/58 [==============================] - 0s 2ms/step - loss: 2.4049 - RMSE: 3.6622\n",
      "Epoch 13/200\n",
      "58/58 [==============================] - 0s 2ms/step - loss: 2.3399 - RMSE: 3.5999\n",
      "Epoch 14/200\n",
      "58/58 [==============================] - 0s 3ms/step - loss: 2.3469 - RMSE: 3.6050\n",
      "Epoch 15/200\n",
      "58/58 [==============================] - 0s 3ms/step - loss: 2.3536 - RMSE: 3.6173\n",
      "Epoch 16/200\n",
      "58/58 [==============================] - 0s 2ms/step - loss: 2.3301 - RMSE: 3.5905\n",
      "Epoch 17/200\n",
      "58/58 [==============================] - 0s 2ms/step - loss: 2.3067 - RMSE: 3.5727\n",
      "Epoch 18/200\n",
      "58/58 [==============================] - 0s 2ms/step - loss: 2.3214 - RMSE: 3.5794\n",
      "Epoch 19/200\n",
      "58/58 [==============================] - 0s 2ms/step - loss: 2.2934 - RMSE: 3.5486\n",
      "Epoch 20/200\n",
      "58/58 [==============================] - 0s 2ms/step - loss: 2.2837 - RMSE: 3.5422\n",
      "Epoch 21/200\n",
      "58/58 [==============================] - 0s 2ms/step - loss: 2.2847 - RMSE: 3.5476\n",
      "Epoch 22/200\n",
      "58/58 [==============================] - 0s 3ms/step - loss: 2.3125 - RMSE: 3.5818\n",
      "Epoch 23/200\n",
      "58/58 [==============================] - 0s 4ms/step - loss: 2.3046 - RMSE: 3.5762\n",
      "Epoch 24/200\n",
      "58/58 [==============================] - 0s 4ms/step - loss: 2.3281 - RMSE: 3.5801\n",
      "Epoch 25/200\n",
      "58/58 [==============================] - 0s 2ms/step - loss: 2.2704 - RMSE: 3.5294\n",
      "Epoch 26/200\n",
      "58/58 [==============================] - 0s 2ms/step - loss: 2.2591 - RMSE: 3.5229\n",
      "Epoch 27/200\n",
      "58/58 [==============================] - 0s 2ms/step - loss: 2.2419 - RMSE: 3.5010\n",
      "Epoch 28/200\n",
      "58/58 [==============================] - 0s 2ms/step - loss: 2.2650 - RMSE: 3.5336\n",
      "Epoch 29/200\n",
      "58/58 [==============================] - 0s 2ms/step - loss: 2.2652 - RMSE: 3.5276\n",
      "Epoch 30/200\n",
      "58/58 [==============================] - 0s 2ms/step - loss: 2.2561 - RMSE: 3.5235\n",
      "Epoch 31/200\n",
      "58/58 [==============================] - 0s 2ms/step - loss: 2.2290 - RMSE: 3.4861\n",
      "Epoch 32/200\n",
      "58/58 [==============================] - 0s 2ms/step - loss: 2.2265 - RMSE: 3.4861\n",
      "Epoch 33/200\n",
      "58/58 [==============================] - 0s 2ms/step - loss: 2.2251 - RMSE: 3.4797\n",
      "Epoch 34/200\n",
      "58/58 [==============================] - 0s 2ms/step - loss: 2.2169 - RMSE: 3.4795\n",
      "Epoch 35/200\n",
      "58/58 [==============================] - 0s 2ms/step - loss: 2.2383 - RMSE: 3.5059\n",
      "Epoch 36/200\n",
      "58/58 [==============================] - 0s 2ms/step - loss: 2.2378 - RMSE: 3.5125\n",
      "Epoch 37/200\n",
      "58/58 [==============================] - 0s 3ms/step - loss: 2.1990 - RMSE: 3.4711\n",
      "Epoch 38/200\n",
      "58/58 [==============================] - 0s 2ms/step - loss: 2.2033 - RMSE: 3.4796\n",
      "Epoch 39/200\n",
      "58/58 [==============================] - 0s 3ms/step - loss: 2.1941 - RMSE: 3.4612\n",
      "Epoch 40/200\n",
      "58/58 [==============================] - 0s 2ms/step - loss: 2.2255 - RMSE: 3.4933\n",
      "Epoch 41/200\n",
      "58/58 [==============================] - 0s 2ms/step - loss: 2.2468 - RMSE: 3.5069\n",
      "Epoch 42/200\n",
      "58/58 [==============================] - 0s 3ms/step - loss: 2.2296 - RMSE: 3.5082\n",
      "Epoch 43/200\n",
      "58/58 [==============================] - 0s 2ms/step - loss: 2.1865 - RMSE: 3.4597\n",
      "Epoch 44/200\n",
      "58/58 [==============================] - 0s 2ms/step - loss: 2.2146 - RMSE: 3.4854\n",
      "Epoch 45/200\n",
      "58/58 [==============================] - 0s 4ms/step - loss: 2.1888 - RMSE: 3.4592\n",
      "Epoch 46/200\n",
      "58/58 [==============================] - 0s 3ms/step - loss: 2.2046 - RMSE: 3.4751\n",
      "Epoch 47/200\n",
      "58/58 [==============================] - 0s 3ms/step - loss: 2.1946 - RMSE: 3.4722\n",
      "Epoch 48/200\n",
      "58/58 [==============================] - 0s 3ms/step - loss: 2.1850 - RMSE: 3.4576\n",
      "Epoch 49/200\n",
      "58/58 [==============================] - 0s 3ms/step - loss: 2.1826 - RMSE: 3.4525\n",
      "Epoch 50/200\n",
      "58/58 [==============================] - 0s 3ms/step - loss: 2.1857 - RMSE: 3.4655\n",
      "Epoch 51/200\n",
      "58/58 [==============================] - 0s 3ms/step - loss: 2.1863 - RMSE: 3.4672\n",
      "Epoch 52/200\n",
      "58/58 [==============================] - 0s 4ms/step - loss: 2.2380 - RMSE: 3.5176\n",
      "Epoch 53/200\n",
      "58/58 [==============================] - 0s 4ms/step - loss: 2.2116 - RMSE: 3.4852\n",
      "Epoch 54/200\n",
      "58/58 [==============================] - 0s 2ms/step - loss: 2.1912 - RMSE: 3.4867\n",
      "Epoch 55/200\n",
      "58/58 [==============================] - 0s 2ms/step - loss: 2.1971 - RMSE: 3.4772\n",
      "Epoch 56/200\n",
      "58/58 [==============================] - 0s 2ms/step - loss: 2.1979 - RMSE: 3.4738\n",
      "Epoch 57/200\n",
      "58/58 [==============================] - 0s 2ms/step - loss: 2.1865 - RMSE: 3.4653\n",
      "Epoch 58/200\n",
      "58/58 [==============================] - 0s 3ms/step - loss: 2.1802 - RMSE: 3.4665\n",
      "Epoch 59/200\n",
      "58/58 [==============================] - 0s 3ms/step - loss: 2.1785 - RMSE: 3.4665\n",
      "Epoch 60/200\n",
      "58/58 [==============================] - 0s 3ms/step - loss: 2.1914 - RMSE: 3.4818\n",
      "Epoch 61/200\n",
      "58/58 [==============================] - 0s 2ms/step - loss: 2.1915 - RMSE: 3.4694\n",
      "Epoch 62/200\n",
      "58/58 [==============================] - 0s 2ms/step - loss: 2.2069 - RMSE: 3.4880\n",
      "Epoch 63/200\n",
      "58/58 [==============================] - 0s 2ms/step - loss: 2.1797 - RMSE: 3.4635\n",
      "Epoch 64/200\n",
      "58/58 [==============================] - 0s 2ms/step - loss: 2.1850 - RMSE: 3.4639\n",
      "Epoch 65/200\n",
      "58/58 [==============================] - 0s 3ms/step - loss: 2.2062 - RMSE: 3.5007\n",
      "Epoch 66/200\n",
      "58/58 [==============================] - 0s 5ms/step - loss: 2.2039 - RMSE: 3.4884\n",
      "Epoch 67/200\n",
      "58/58 [==============================] - 0s 2ms/step - loss: 2.1834 - RMSE: 3.4742\n",
      "Epoch 68/200\n",
      "58/58 [==============================] - 0s 2ms/step - loss: 2.1690 - RMSE: 3.4626\n",
      "Epoch 69/200\n",
      "58/58 [==============================] - 0s 2ms/step - loss: 2.1839 - RMSE: 3.4740\n",
      "Epoch 70/200\n",
      "58/58 [==============================] - 0s 2ms/step - loss: 2.2046 - RMSE: 3.5021\n",
      "Epoch 71/200\n",
      "58/58 [==============================] - 0s 3ms/step - loss: 2.1756 - RMSE: 3.4507\n",
      "Epoch 72/200\n",
      "58/58 [==============================] - 0s 3ms/step - loss: 2.2200 - RMSE: 3.5022\n",
      "Epoch 73/200\n",
      "58/58 [==============================] - 0s 2ms/step - loss: 2.1850 - RMSE: 3.4806\n",
      "Epoch 74/200\n",
      "58/58 [==============================] - 0s 2ms/step - loss: 2.1617 - RMSE: 3.4559\n",
      "Epoch 75/200\n",
      "58/58 [==============================] - 0s 2ms/step - loss: 2.2036 - RMSE: 3.4968\n",
      "Epoch 76/200\n",
      "58/58 [==============================] - 0s 2ms/step - loss: 2.1734 - RMSE: 3.4667\n",
      "Epoch 77/200\n",
      "58/58 [==============================] - 0s 2ms/step - loss: 2.2115 - RMSE: 3.5032\n",
      "Epoch 78/200\n",
      "58/58 [==============================] - 0s 2ms/step - loss: 2.1885 - RMSE: 3.4837\n",
      "Epoch 79/200\n",
      "58/58 [==============================] - 0s 2ms/step - loss: 2.1862 - RMSE: 3.4990\n",
      "Epoch 80/200\n",
      "58/58 [==============================] - 0s 2ms/step - loss: 2.1611 - RMSE: 3.4506\n",
      "Epoch 81/200\n",
      "58/58 [==============================] - 0s 2ms/step - loss: 2.1807 - RMSE: 3.4761\n",
      "Epoch 82/200\n",
      "58/58 [==============================] - 0s 3ms/step - loss: 2.1609 - RMSE: 3.4555\n",
      "Epoch 83/200\n",
      "58/58 [==============================] - 0s 3ms/step - loss: 2.2346 - RMSE: 3.5405\n",
      "Epoch 84/200\n",
      "58/58 [==============================] - 0s 3ms/step - loss: 2.2052 - RMSE: 3.4982\n",
      "Epoch 85/200\n",
      "58/58 [==============================] - 0s 3ms/step - loss: 2.1883 - RMSE: 3.4840\n",
      "Epoch 86/200\n"
     ]
    },
    {
     "name": "stdout",
     "output_type": "stream",
     "text": [
      "58/58 [==============================] - 0s 2ms/step - loss: 2.1619 - RMSE: 3.4559\n",
      "Epoch 87/200\n",
      "58/58 [==============================] - 0s 2ms/step - loss: 2.1939 - RMSE: 3.4735\n",
      "Epoch 88/200\n",
      "58/58 [==============================] - 0s 2ms/step - loss: 2.1816 - RMSE: 3.5021\n",
      "Epoch 89/200\n",
      "58/58 [==============================] - 0s 1ms/step - loss: 2.1654 - RMSE: 3.4578\n",
      "Epoch 90/200\n",
      "58/58 [==============================] - 0s 2ms/step - loss: 2.1787 - RMSE: 3.4738\n",
      "Epoch 91/200\n",
      "58/58 [==============================] - 0s 2ms/step - loss: 2.1756 - RMSE: 3.4752\n",
      "Epoch 92/200\n",
      "58/58 [==============================] - 0s 2ms/step - loss: 2.1565 - RMSE: 3.4549\n",
      "Epoch 93/200\n",
      "58/58 [==============================] - 0s 2ms/step - loss: 2.1718 - RMSE: 3.4627\n",
      "Epoch 94/200\n",
      "58/58 [==============================] - 0s 2ms/step - loss: 2.1732 - RMSE: 3.4604\n",
      "Epoch 95/200\n",
      "58/58 [==============================] - 0s 2ms/step - loss: 2.1992 - RMSE: 3.5072\n",
      "Epoch 96/200\n",
      "58/58 [==============================] - 0s 2ms/step - loss: 2.1889 - RMSE: 3.4828\n",
      "Epoch 97/200\n",
      "58/58 [==============================] - 0s 1ms/step - loss: 2.1778 - RMSE: 3.4710\n",
      "Epoch 98/200\n",
      "58/58 [==============================] - 0s 2ms/step - loss: 2.1658 - RMSE: 3.4582\n",
      "Epoch 99/200\n",
      "58/58 [==============================] - 0s 3ms/step - loss: 2.1804 - RMSE: 3.4866\n",
      "Epoch 100/200\n",
      "58/58 [==============================] - 0s 3ms/step - loss: 2.1752 - RMSE: 3.4676\n",
      "Epoch 101/200\n",
      "58/58 [==============================] - 0s 3ms/step - loss: 2.1767 - RMSE: 3.4742\n",
      "Epoch 102/200\n",
      "58/58 [==============================] - 0s 2ms/step - loss: 2.1635 - RMSE: 3.4585\n",
      "Epoch 103/200\n",
      "58/58 [==============================] - 0s 2ms/step - loss: 2.1660 - RMSE: 3.4532\n",
      "Epoch 104/200\n",
      "58/58 [==============================] - 0s 2ms/step - loss: 2.1904 - RMSE: 3.4743\n",
      "Epoch 105/200\n",
      "58/58 [==============================] - 0s 2ms/step - loss: 2.1683 - RMSE: 3.4563\n",
      "Epoch 106/200\n",
      "58/58 [==============================] - 0s 3ms/step - loss: 2.2312 - RMSE: 3.5529\n",
      "Epoch 107/200\n",
      "58/58 [==============================] - 0s 3ms/step - loss: 2.1534 - RMSE: 3.4447\n",
      "Epoch 108/200\n",
      "58/58 [==============================] - 0s 2ms/step - loss: 2.1849 - RMSE: 3.4870\n",
      "Epoch 109/200\n",
      "58/58 [==============================] - 0s 2ms/step - loss: 2.1654 - RMSE: 3.4557\n",
      "Epoch 110/200\n",
      "58/58 [==============================] - 0s 2ms/step - loss: 2.1785 - RMSE: 3.4643\n",
      "Epoch 111/200\n",
      "58/58 [==============================] - 0s 2ms/step - loss: 2.1710 - RMSE: 3.4610\n",
      "Epoch 112/200\n",
      "58/58 [==============================] - 0s 2ms/step - loss: 2.1762 - RMSE: 3.4701\n",
      "Epoch 113/200\n",
      "58/58 [==============================] - 0s 2ms/step - loss: 2.1737 - RMSE: 3.4701\n",
      "Epoch 114/200\n",
      "58/58 [==============================] - 0s 2ms/step - loss: 2.1669 - RMSE: 3.4643\n",
      "Epoch 115/200\n",
      "58/58 [==============================] - 0s 2ms/step - loss: 2.1665 - RMSE: 3.4523\n",
      "Epoch 116/200\n",
      "58/58 [==============================] - 0s 2ms/step - loss: 2.1609 - RMSE: 3.4525\n",
      "Epoch 117/200\n",
      "58/58 [==============================] - 0s 2ms/step - loss: 2.1684 - RMSE: 3.4559\n",
      "Epoch 118/200\n",
      "58/58 [==============================] - 0s 2ms/step - loss: 2.1833 - RMSE: 3.4708\n",
      "Epoch 119/200\n",
      "58/58 [==============================] - 0s 2ms/step - loss: 2.1590 - RMSE: 3.4511\n",
      "Epoch 120/200\n",
      "58/58 [==============================] - 0s 2ms/step - loss: 2.1834 - RMSE: 3.4755\n",
      "Epoch 121/200\n",
      "58/58 [==============================] - 0s 2ms/step - loss: 2.1590 - RMSE: 3.4542\n",
      "Epoch 122/200\n",
      "58/58 [==============================] - 0s 2ms/step - loss: 2.1740 - RMSE: 3.4699\n",
      "Epoch 123/200\n",
      "58/58 [==============================] - 0s 2ms/step - loss: 2.1543 - RMSE: 3.4555\n",
      "Epoch 124/200\n",
      "58/58 [==============================] - 0s 2ms/step - loss: 2.1997 - RMSE: 3.4976\n",
      "Epoch 125/200\n",
      "58/58 [==============================] - 0s 2ms/step - loss: 2.1599 - RMSE: 3.4545\n",
      "Epoch 126/200\n",
      "58/58 [==============================] - 0s 2ms/step - loss: 2.1558 - RMSE: 3.4479\n",
      "Epoch 127/200\n",
      "58/58 [==============================] - 0s 2ms/step - loss: 2.1677 - RMSE: 3.4732\n",
      "Epoch 128/200\n",
      "58/58 [==============================] - 0s 2ms/step - loss: 2.1991 - RMSE: 3.4932\n",
      "Epoch 129/200\n",
      "58/58 [==============================] - 0s 2ms/step - loss: 2.1599 - RMSE: 3.4606\n",
      "Epoch 130/200\n",
      "58/58 [==============================] - 0s 2ms/step - loss: 2.1796 - RMSE: 3.4857\n",
      "Epoch 131/200\n",
      "58/58 [==============================] - 0s 2ms/step - loss: 2.1892 - RMSE: 3.4678\n",
      "Epoch 132/200\n",
      "58/58 [==============================] - 0s 2ms/step - loss: 2.1691 - RMSE: 3.4654\n",
      "Epoch 133/200\n",
      "58/58 [==============================] - 0s 2ms/step - loss: 2.1674 - RMSE: 3.4609\n",
      "Epoch 134/200\n",
      "58/58 [==============================] - 0s 2ms/step - loss: 2.1596 - RMSE: 3.4599\n",
      "Epoch 135/200\n",
      "58/58 [==============================] - 0s 2ms/step - loss: 2.1633 - RMSE: 3.4553\n",
      "Epoch 136/200\n",
      "58/58 [==============================] - 0s 2ms/step - loss: 2.1979 - RMSE: 3.5082\n",
      "Epoch 137/200\n",
      "58/58 [==============================] - 0s 2ms/step - loss: 2.1754 - RMSE: 3.4688\n",
      "Epoch 138/200\n",
      "58/58 [==============================] - 0s 2ms/step - loss: 2.1620 - RMSE: 3.4477\n",
      "Epoch 139/200\n",
      "58/58 [==============================] - 0s 2ms/step - loss: 2.1856 - RMSE: 3.4855\n",
      "Epoch 140/200\n",
      "58/58 [==============================] - 0s 2ms/step - loss: 2.1652 - RMSE: 3.4573\n",
      "Epoch 141/200\n",
      "58/58 [==============================] - 0s 2ms/step - loss: 2.1819 - RMSE: 3.4837\n",
      "Epoch 142/200\n",
      "58/58 [==============================] - 0s 2ms/step - loss: 2.2267 - RMSE: 3.5045\n",
      "Epoch 143/200\n",
      "58/58 [==============================] - 0s 2ms/step - loss: 2.1666 - RMSE: 3.4710\n",
      "Epoch 144/200\n",
      "58/58 [==============================] - 0s 2ms/step - loss: 2.1865 - RMSE: 3.4975\n",
      "Epoch 145/200\n",
      "58/58 [==============================] - 0s 2ms/step - loss: 2.2037 - RMSE: 3.4978\n",
      "Epoch 146/200\n",
      "58/58 [==============================] - 0s 2ms/step - loss: 2.2098 - RMSE: 3.5228\n",
      "Epoch 147/200\n",
      "58/58 [==============================] - 0s 2ms/step - loss: 2.1603 - RMSE: 3.4512\n",
      "Epoch 148/200\n",
      "58/58 [==============================] - 0s 2ms/step - loss: 2.1960 - RMSE: 3.5008\n",
      "Epoch 149/200\n",
      "58/58 [==============================] - 0s 2ms/step - loss: 2.1686 - RMSE: 3.4578\n",
      "Epoch 150/200\n",
      "58/58 [==============================] - 0s 2ms/step - loss: 2.1554 - RMSE: 3.4548\n",
      "Epoch 151/200\n",
      "58/58 [==============================] - 0s 2ms/step - loss: 2.1543 - RMSE: 3.4496\n",
      "Epoch 152/200\n",
      "58/58 [==============================] - 0s 2ms/step - loss: 2.1489 - RMSE: 3.4338\n",
      "Epoch 153/200\n",
      "58/58 [==============================] - 0s 2ms/step - loss: 2.1496 - RMSE: 3.4367\n",
      "Epoch 154/200\n",
      "58/58 [==============================] - 0s 2ms/step - loss: 2.1561 - RMSE: 3.4436\n",
      "Epoch 155/200\n",
      "58/58 [==============================] - 0s 3ms/step - loss: 2.1739 - RMSE: 3.4702\n",
      "Epoch 156/200\n",
      "58/58 [==============================] - 0s 3ms/step - loss: 2.1482 - RMSE: 3.4486\n",
      "Epoch 157/200\n",
      "58/58 [==============================] - 0s 2ms/step - loss: 2.1626 - RMSE: 3.4613\n",
      "Epoch 158/200\n",
      "58/58 [==============================] - 0s 2ms/step - loss: 2.1655 - RMSE: 3.4628\n",
      "Epoch 159/200\n",
      "58/58 [==============================] - 0s 2ms/step - loss: 2.1590 - RMSE: 3.4556\n",
      "Epoch 160/200\n",
      "58/58 [==============================] - 0s 2ms/step - loss: 2.1676 - RMSE: 3.4633\n",
      "Epoch 161/200\n",
      "58/58 [==============================] - 0s 2ms/step - loss: 2.1918 - RMSE: 3.4861\n",
      "Epoch 162/200\n",
      "58/58 [==============================] - 0s 2ms/step - loss: 2.1832 - RMSE: 3.4802\n",
      "Epoch 163/200\n",
      "58/58 [==============================] - 0s 2ms/step - loss: 2.1678 - RMSE: 3.4646\n",
      "Epoch 164/200\n",
      "58/58 [==============================] - 0s 2ms/step - loss: 2.1735 - RMSE: 3.4707\n",
      "Epoch 165/200\n",
      "58/58 [==============================] - 0s 2ms/step - loss: 2.1437 - RMSE: 3.4268\n",
      "Epoch 166/200\n",
      "58/58 [==============================] - 0s 2ms/step - loss: 2.1612 - RMSE: 3.4464\n",
      "Epoch 167/200\n",
      "58/58 [==============================] - 0s 2ms/step - loss: 2.1499 - RMSE: 3.4434\n",
      "Epoch 168/200\n",
      "58/58 [==============================] - 0s 2ms/step - loss: 2.1491 - RMSE: 3.4278\n",
      "Epoch 169/200\n",
      "58/58 [==============================] - 0s 2ms/step - loss: 2.1862 - RMSE: 3.4872\n",
      "Epoch 170/200\n"
     ]
    },
    {
     "name": "stdout",
     "output_type": "stream",
     "text": [
      "58/58 [==============================] - 0s 2ms/step - loss: 2.1635 - RMSE: 3.4542\n",
      "Epoch 171/200\n",
      "58/58 [==============================] - 0s 2ms/step - loss: 2.1749 - RMSE: 3.4664\n",
      "Epoch 172/200\n",
      "58/58 [==============================] - 0s 3ms/step - loss: 2.1767 - RMSE: 3.4716\n",
      "Epoch 173/200\n",
      "58/58 [==============================] - 0s 3ms/step - loss: 2.1925 - RMSE: 3.4800\n",
      "Epoch 174/200\n",
      "58/58 [==============================] - 0s 2ms/step - loss: 2.1768 - RMSE: 3.4633\n",
      "Epoch 175/200\n",
      "58/58 [==============================] - 0s 2ms/step - loss: 2.1655 - RMSE: 3.4419\n",
      "Epoch 176/200\n",
      "58/58 [==============================] - 0s 2ms/step - loss: 2.1841 - RMSE: 3.4866\n",
      "Epoch 177/200\n",
      "58/58 [==============================] - 0s 3ms/step - loss: 2.1828 - RMSE: 3.4684\n",
      "Epoch 178/200\n",
      "58/58 [==============================] - 0s 2ms/step - loss: 2.1455 - RMSE: 3.4373\n",
      "Epoch 179/200\n",
      "58/58 [==============================] - 0s 2ms/step - loss: 2.1872 - RMSE: 3.4720\n",
      "Epoch 180/200\n",
      "58/58 [==============================] - 0s 2ms/step - loss: 2.1629 - RMSE: 3.4611\n",
      "Epoch 181/200\n",
      "58/58 [==============================] - 0s 3ms/step - loss: 2.2061 - RMSE: 3.4995\n",
      "Epoch 182/200\n",
      "58/58 [==============================] - 0s 4ms/step - loss: 2.1352 - RMSE: 3.4213\n",
      "Epoch 183/200\n",
      "58/58 [==============================] - 0s 4ms/step - loss: 2.1398 - RMSE: 3.4258\n",
      "Epoch 184/200\n",
      "58/58 [==============================] - 0s 2ms/step - loss: 2.1583 - RMSE: 3.4549\n",
      "Epoch 185/200\n",
      "58/58 [==============================] - 0s 4ms/step - loss: 2.1551 - RMSE: 3.4578\n",
      "Epoch 186/200\n",
      "58/58 [==============================] - 0s 3ms/step - loss: 2.1554 - RMSE: 3.4437\n",
      "Epoch 187/200\n",
      "58/58 [==============================] - 0s 2ms/step - loss: 2.1715 - RMSE: 3.4665\n",
      "Epoch 188/200\n",
      "58/58 [==============================] - 0s 2ms/step - loss: 2.1681 - RMSE: 3.4527\n",
      "Epoch 189/200\n",
      "58/58 [==============================] - 0s 4ms/step - loss: 2.1841 - RMSE: 3.4759\n",
      "Epoch 190/200\n",
      "58/58 [==============================] - 0s 3ms/step - loss: 2.1511 - RMSE: 3.4363\n",
      "Epoch 191/200\n",
      "58/58 [==============================] - 0s 2ms/step - loss: 2.1490 - RMSE: 3.4455\n",
      "Epoch 192/200\n",
      "58/58 [==============================] - 0s 2ms/step - loss: 2.1643 - RMSE: 3.4555\n",
      "Epoch 193/200\n",
      "58/58 [==============================] - 0s 3ms/step - loss: 2.1459 - RMSE: 3.4333\n",
      "Epoch 194/200\n",
      "58/58 [==============================] - 0s 3ms/step - loss: 2.1662 - RMSE: 3.4650\n",
      "Epoch 195/200\n",
      "58/58 [==============================] - 0s 2ms/step - loss: 2.1489 - RMSE: 3.4241\n",
      "Epoch 196/200\n",
      "58/58 [==============================] - 0s 2ms/step - loss: 2.1754 - RMSE: 3.4628\n",
      "Epoch 197/200\n",
      "58/58 [==============================] - 0s 4ms/step - loss: 2.1897 - RMSE: 3.4838\n",
      "Epoch 198/200\n",
      "58/58 [==============================] - 0s 3ms/step - loss: 2.1769 - RMSE: 3.4721\n",
      "Epoch 199/200\n",
      "58/58 [==============================] - 0s 2ms/step - loss: 2.1641 - RMSE: 3.4520\n",
      "Epoch 200/200\n",
      "58/58 [==============================] - 0s 3ms/step - loss: 2.1628 - RMSE: 3.4461\n"
     ]
    },
    {
     "data": {
      "application/javascript": [
       "\n",
       "            setTimeout(function() {\n",
       "                var nbb_cell_id = 191;\n",
       "                var nbb_unformatted_code = \"sc = StandardScaler()\\nhistory = model.fit(\\n    sc.fit_transform(x_train),\\n    y_train,\\n    batch_size=batch_size,\\n    epochs=epochs,\\n    verbose=verbose,\\n)\";\n",
       "                var nbb_formatted_code = \"sc = StandardScaler()\\nhistory = model.fit(\\n    sc.fit_transform(x_train),\\n    y_train,\\n    batch_size=batch_size,\\n    epochs=epochs,\\n    verbose=verbose,\\n)\";\n",
       "                var nbb_cells = Jupyter.notebook.get_cells();\n",
       "                for (var i = 0; i < nbb_cells.length; ++i) {\n",
       "                    if (nbb_cells[i].input_prompt_number == nbb_cell_id) {\n",
       "                        if (nbb_cells[i].get_text() == nbb_unformatted_code) {\n",
       "                             nbb_cells[i].set_text(nbb_formatted_code);\n",
       "                        }\n",
       "                        break;\n",
       "                    }\n",
       "                }\n",
       "            }, 500);\n",
       "            "
      ],
      "text/plain": [
       "<IPython.core.display.Javascript object>"
      ]
     },
     "metadata": {},
     "output_type": "display_data"
    }
   ],
   "source": [
    "sc = StandardScaler()\n",
    "history = model.fit(\n",
    "    sc.fit_transform(x_train),\n",
    "    y_train,\n",
    "    batch_size=batch_size,\n",
    "    epochs=epochs,\n",
    "    verbose=verbose,\n",
    ")"
   ]
  },
  {
   "cell_type": "code",
   "execution_count": 192,
   "metadata": {},
   "outputs": [
    {
     "data": {
      "text/plain": [
       "[<matplotlib.lines.Line2D at 0x7f358bdd6a90>]"
      ]
     },
     "execution_count": 192,
     "metadata": {},
     "output_type": "execute_result"
    },
    {
     "data": {
      "image/png": "[encoded data removed]",
      "text/plain": [
       "<Figure size 432x288 with 1 Axes>"
      ]
     },
     "metadata": {
      "needs_background": "light"
     },
     "output_type": "display_data"
    },
    {
     "data": {
      "application/javascript": [
       "\n",
       "            setTimeout(function() {\n",
       "                var nbb_cell_id = 192;\n",
       "                var nbb_unformatted_code = \"plt.plot(history.history[\\\"RMSE\\\"])\";\n",
       "                var nbb_formatted_code = \"plt.plot(history.history[\\\"RMSE\\\"])\";\n",
       "                var nbb_cells = Jupyter.notebook.get_cells();\n",
       "                for (var i = 0; i < nbb_cells.length; ++i) {\n",
       "                    if (nbb_cells[i].input_prompt_number == nbb_cell_id) {\n",
       "                        if (nbb_cells[i].get_text() == nbb_unformatted_code) {\n",
       "                             nbb_cells[i].set_text(nbb_formatted_code);\n",
       "                        }\n",
       "                        break;\n",
       "                    }\n",
       "                }\n",
       "            }, 500);\n",
       "            "
      ],
      "text/plain": [
       "<IPython.core.display.Javascript object>"
      ]
     },
     "metadata": {},
     "output_type": "display_data"
    }
   ],
   "source": [
    "plt.plot(history.history[\"RMSE\"])"
   ]
  },
  {
   "cell_type": "code",
   "execution_count": 94,
   "metadata": {},
   "outputs": [
    {
     "name": "stdout",
     "output_type": "stream",
     "text": [
      "******\n",
      "[TRAIN]\n",
      "******\n",
      "RMSE: 4.778 (0.000)\n",
      "MAE: 3.826 (0.000)\n",
      "MAPE: 0.072 (0.000)\n",
      "R2: 0.569 (0.000)\n",
      "\n",
      "======================\n",
      "\n",
      "******\n",
      "[TEST]\n",
      "******\n",
      "RMSE: 3.459 (0.000)\n",
      "MAE: 2.663 (0.000)\n",
      "MAPE: 0.051 (0.000)\n",
      "R2: 0.181 (0.000)\n",
      "\n",
      "======================\n",
      "\n"
     ]
    },
    {
     "data": {
      "application/javascript": [
       "\n",
       "            setTimeout(function() {\n",
       "                var nbb_cell_id = 94;\n",
       "                var nbb_unformatted_code = \"y_train_pred = model.predict(sc.transform(x_train))\\ny_test_pred = model.predict(sc.transform(x_test))\\n\\nscores = score_regression_metrics(y_train, y_train_pred, y_test, y_test_pred)\\nprint_scores(scores, METRICS, METRICS_DICT)\";\n",
       "                var nbb_formatted_code = \"y_train_pred = model.predict(sc.transform(x_train))\\ny_test_pred = model.predict(sc.transform(x_test))\\n\\nscores = score_regression_metrics(y_train, y_train_pred, y_test, y_test_pred)\\nprint_scores(scores, METRICS, METRICS_DICT)\";\n",
       "                var nbb_cells = Jupyter.notebook.get_cells();\n",
       "                for (var i = 0; i < nbb_cells.length; ++i) {\n",
       "                    if (nbb_cells[i].input_prompt_number == nbb_cell_id) {\n",
       "                        if (nbb_cells[i].get_text() == nbb_unformatted_code) {\n",
       "                             nbb_cells[i].set_text(nbb_formatted_code);\n",
       "                        }\n",
       "                        break;\n",
       "                    }\n",
       "                }\n",
       "            }, 500);\n",
       "            "
      ],
      "text/plain": [
       "<IPython.core.display.Javascript object>"
      ]
     },
     "metadata": {},
     "output_type": "display_data"
    }
   ],
   "source": [
    "y_train_pred = model.predict(sc.transform(x_train))\n",
    "y_test_pred = model.predict(sc.transform(x_test))\n",
    "\n",
    "scores = score_regression_metrics(y_train, y_train_pred, y_test, y_test_pred)\n",
    "print_scores(scores, METRICS, METRICS_DICT)"
   ]
  },
  {
   "cell_type": "markdown",
   "metadata": {},
   "source": [
    "# Intercement"
   ]
  },
  {
   "cell_type": "code",
   "execution_count": 201,
   "metadata": {},
   "outputs": [
    {
     "data": {
      "application/javascript": [
       "\n",
       "            setTimeout(function() {\n",
       "                var nbb_cell_id = 201;\n",
       "                var nbb_unformatted_code = \"df = pd.read_csv(\\\"../../../../data/processed/Intercement/cement-shipping.csv\\\")\\ndf_no_cs = df.drop(\\n    [\\n        \\\"RC1\\\",\\n        \\\"RC3\\\",\\n        \\\"RC7\\\",\\n    ],\\n    axis=1,\\n).copy()\\n\\ny = df_no_cs.pop(\\\"RC28\\\")\\nx = df_no_cs.drop([\\\"Data\\\"], axis=1)\\nx.columns = x.columns.str.lower()\\nx = x[COMMON_FEATURES]\\n\\nx_train, x_test, y_train, y_test = train_test_split(\\n    x, y, test_size=0.2, random_state=SEED, shuffle=False\\n)\";\n",
       "                var nbb_formatted_code = \"df = pd.read_csv(\\\"../../../../data/processed/Intercement/cement-shipping.csv\\\")\\ndf_no_cs = df.drop(\\n    [\\n        \\\"RC1\\\",\\n        \\\"RC3\\\",\\n        \\\"RC7\\\",\\n    ],\\n    axis=1,\\n).copy()\\n\\ny = df_no_cs.pop(\\\"RC28\\\")\\nx = df_no_cs.drop([\\\"Data\\\"], axis=1)\\nx.columns = x.columns.str.lower()\\nx = x[COMMON_FEATURES]\\n\\nx_train, x_test, y_train, y_test = train_test_split(\\n    x, y, test_size=0.2, random_state=SEED, shuffle=False\\n)\";\n",
       "                var nbb_cells = Jupyter.notebook.get_cells();\n",
       "                for (var i = 0; i < nbb_cells.length; ++i) {\n",
       "                    if (nbb_cells[i].input_prompt_number == nbb_cell_id) {\n",
       "                        if (nbb_cells[i].get_text() == nbb_unformatted_code) {\n",
       "                             nbb_cells[i].set_text(nbb_formatted_code);\n",
       "                        }\n",
       "                        break;\n",
       "                    }\n",
       "                }\n",
       "            }, 500);\n",
       "            "
      ],
      "text/plain": [
       "<IPython.core.display.Javascript object>"
      ]
     },
     "metadata": {},
     "output_type": "display_data"
    }
   ],
   "source": [
    "df = pd.read_csv(\"../../../../data/processed/Intercement/cement-shipping.csv\")\n",
    "df_no_cs = df.drop(\n",
    "    [\n",
    "        \"RC1\",\n",
    "        \"RC3\",\n",
    "        \"RC7\",\n",
    "    ],\n",
    "    axis=1,\n",
    ").copy()\n",
    "\n",
    "y = df_no_cs.pop(\"RC28\")\n",
    "x = df_no_cs.drop([\"Data\"], axis=1)\n",
    "x.columns = x.columns.str.lower()\n",
    "x = x[COMMON_FEATURES]\n",
    "\n",
    "x_train, x_test, y_train, y_test = train_test_split(\n",
    "    x, y, test_size=0.2, random_state=SEED, shuffle=False\n",
    ")"
   ]
  },
  {
   "cell_type": "code",
   "execution_count": 257,
   "metadata": {},
   "outputs": [
    {
     "data": {
      "text/html": [
       "<div>\n",
       "<style scoped>\n",
       "    .dataframe tbody tr th:only-of-type {\n",
       "        vertical-align: middle;\n",
       "    }\n",
       "\n",
       "    .dataframe tbody tr th {\n",
       "        vertical-align: top;\n",
       "    }\n",
       "\n",
       "    .dataframe thead th {\n",
       "        text-align: right;\n",
       "    }\n",
       "</style>\n",
       "<table border=\"1\" class=\"dataframe\">\n",
       "  <thead>\n",
       "    <tr style=\"text-align: right;\">\n",
       "      <th></th>\n",
       "      <th>Data</th>\n",
       "      <th>RC3</th>\n",
       "      <th>RC7</th>\n",
       "      <th>RC28</th>\n",
       "      <th>AL2O3</th>\n",
       "      <th>CAOT</th>\n",
       "      <th>K2O</th>\n",
       "      <th>MGO</th>\n",
       "      <th>SIO2</th>\n",
       "      <th>FE2O3</th>\n",
       "      <th>SO3</th>\n",
       "      <th>P2O5</th>\n",
       "      <th>RC1</th>\n",
       "      <th>COD_PROD_CPIIF40</th>\n",
       "    </tr>\n",
       "  </thead>\n",
       "  <tbody>\n",
       "    <tr>\n",
       "      <th>0</th>\n",
       "      <td>2008-01-02</td>\n",
       "      <td>26.3</td>\n",
       "      <td>34.5</td>\n",
       "      <td>50.1</td>\n",
       "      <td>3.68</td>\n",
       "      <td>55.83</td>\n",
       "      <td>0.28</td>\n",
       "      <td>6.17</td>\n",
       "      <td>17.29</td>\n",
       "      <td>4.34</td>\n",
       "      <td>2.75</td>\n",
       "      <td>0.85</td>\n",
       "      <td>-100.0</td>\n",
       "      <td>0</td>\n",
       "    </tr>\n",
       "    <tr>\n",
       "      <th>1</th>\n",
       "      <td>2008-01-02</td>\n",
       "      <td>15.9</td>\n",
       "      <td>24.8</td>\n",
       "      <td>43.9</td>\n",
       "      <td>4.37</td>\n",
       "      <td>53.04</td>\n",
       "      <td>0.28</td>\n",
       "      <td>6.04</td>\n",
       "      <td>18.35</td>\n",
       "      <td>4.22</td>\n",
       "      <td>2.86</td>\n",
       "      <td>0.75</td>\n",
       "      <td>-100.0</td>\n",
       "      <td>0</td>\n",
       "    </tr>\n",
       "    <tr>\n",
       "      <th>2</th>\n",
       "      <td>2008-01-03</td>\n",
       "      <td>17.6</td>\n",
       "      <td>26.0</td>\n",
       "      <td>43.7</td>\n",
       "      <td>4.38</td>\n",
       "      <td>53.13</td>\n",
       "      <td>0.28</td>\n",
       "      <td>6.20</td>\n",
       "      <td>18.42</td>\n",
       "      <td>4.37</td>\n",
       "      <td>2.91</td>\n",
       "      <td>0.76</td>\n",
       "      <td>-100.0</td>\n",
       "      <td>0</td>\n",
       "    </tr>\n",
       "    <tr>\n",
       "      <th>3</th>\n",
       "      <td>2008-01-03</td>\n",
       "      <td>24.4</td>\n",
       "      <td>31.9</td>\n",
       "      <td>46.5</td>\n",
       "      <td>3.63</td>\n",
       "      <td>56.17</td>\n",
       "      <td>0.27</td>\n",
       "      <td>6.26</td>\n",
       "      <td>17.44</td>\n",
       "      <td>4.56</td>\n",
       "      <td>2.82</td>\n",
       "      <td>0.89</td>\n",
       "      <td>-100.0</td>\n",
       "      <td>0</td>\n",
       "    </tr>\n",
       "    <tr>\n",
       "      <th>4</th>\n",
       "      <td>2008-01-04</td>\n",
       "      <td>33.8</td>\n",
       "      <td>37.2</td>\n",
       "      <td>46.8</td>\n",
       "      <td>4.47</td>\n",
       "      <td>59.11</td>\n",
       "      <td>0.81</td>\n",
       "      <td>5.33</td>\n",
       "      <td>17.60</td>\n",
       "      <td>2.31</td>\n",
       "      <td>3.25</td>\n",
       "      <td>0.09</td>\n",
       "      <td>-100.0</td>\n",
       "      <td>0</td>\n",
       "    </tr>\n",
       "    <tr>\n",
       "      <th>...</th>\n",
       "      <td>...</td>\n",
       "      <td>...</td>\n",
       "      <td>...</td>\n",
       "      <td>...</td>\n",
       "      <td>...</td>\n",
       "      <td>...</td>\n",
       "      <td>...</td>\n",
       "      <td>...</td>\n",
       "      <td>...</td>\n",
       "      <td>...</td>\n",
       "      <td>...</td>\n",
       "      <td>...</td>\n",
       "      <td>...</td>\n",
       "      <td>...</td>\n",
       "    </tr>\n",
       "    <tr>\n",
       "      <th>5556</th>\n",
       "      <td>2019-07-26</td>\n",
       "      <td>27.9</td>\n",
       "      <td>38.3</td>\n",
       "      <td>54.8</td>\n",
       "      <td>3.57</td>\n",
       "      <td>58.71</td>\n",
       "      <td>0.10</td>\n",
       "      <td>6.19</td>\n",
       "      <td>16.44</td>\n",
       "      <td>3.86</td>\n",
       "      <td>2.83</td>\n",
       "      <td>0.86</td>\n",
       "      <td>12.4</td>\n",
       "      <td>1</td>\n",
       "    </tr>\n",
       "    <tr>\n",
       "      <th>5557</th>\n",
       "      <td>2019-07-29</td>\n",
       "      <td>27.3</td>\n",
       "      <td>36.4</td>\n",
       "      <td>49.8</td>\n",
       "      <td>3.79</td>\n",
       "      <td>58.78</td>\n",
       "      <td>0.41</td>\n",
       "      <td>5.70</td>\n",
       "      <td>16.86</td>\n",
       "      <td>3.90</td>\n",
       "      <td>2.69</td>\n",
       "      <td>0.99</td>\n",
       "      <td>13.0</td>\n",
       "      <td>1</td>\n",
       "    </tr>\n",
       "    <tr>\n",
       "      <th>5558</th>\n",
       "      <td>2019-07-30</td>\n",
       "      <td>17.0</td>\n",
       "      <td>25.2</td>\n",
       "      <td>39.3</td>\n",
       "      <td>3.93</td>\n",
       "      <td>58.69</td>\n",
       "      <td>0.10</td>\n",
       "      <td>5.82</td>\n",
       "      <td>14.65</td>\n",
       "      <td>2.92</td>\n",
       "      <td>3.11</td>\n",
       "      <td>0.80</td>\n",
       "      <td>-100.0</td>\n",
       "      <td>0</td>\n",
       "    </tr>\n",
       "    <tr>\n",
       "      <th>5559</th>\n",
       "      <td>2019-07-30</td>\n",
       "      <td>26.1</td>\n",
       "      <td>36.5</td>\n",
       "      <td>50.0</td>\n",
       "      <td>4.09</td>\n",
       "      <td>58.27</td>\n",
       "      <td>0.10</td>\n",
       "      <td>6.09</td>\n",
       "      <td>16.25</td>\n",
       "      <td>3.87</td>\n",
       "      <td>2.69</td>\n",
       "      <td>0.99</td>\n",
       "      <td>13.6</td>\n",
       "      <td>1</td>\n",
       "    </tr>\n",
       "    <tr>\n",
       "      <th>5560</th>\n",
       "      <td>2019-07-31</td>\n",
       "      <td>23.0</td>\n",
       "      <td>34.6</td>\n",
       "      <td>47.4</td>\n",
       "      <td>4.26</td>\n",
       "      <td>58.86</td>\n",
       "      <td>0.14</td>\n",
       "      <td>5.81</td>\n",
       "      <td>17.36</td>\n",
       "      <td>3.91</td>\n",
       "      <td>2.99</td>\n",
       "      <td>0.93</td>\n",
       "      <td>11.2</td>\n",
       "      <td>1</td>\n",
       "    </tr>\n",
       "  </tbody>\n",
       "</table>\n",
       "<p>5561 rows × 14 columns</p>\n",
       "</div>"
      ],
      "text/plain": [
       "            Data   RC3   RC7  RC28  AL2O3   CAOT   K2O   MGO   SIO2  FE2O3  \\\n",
       "0     2008-01-02  26.3  34.5  50.1   3.68  55.83  0.28  6.17  17.29   4.34   \n",
       "1     2008-01-02  15.9  24.8  43.9   4.37  53.04  0.28  6.04  18.35   4.22   \n",
       "2     2008-01-03  17.6  26.0  43.7   4.38  53.13  0.28  6.20  18.42   4.37   \n",
       "3     2008-01-03  24.4  31.9  46.5   3.63  56.17  0.27  6.26  17.44   4.56   \n",
       "4     2008-01-04  33.8  37.2  46.8   4.47  59.11  0.81  5.33  17.60   2.31   \n",
       "...          ...   ...   ...   ...    ...    ...   ...   ...    ...    ...   \n",
       "5556  2019-07-26  27.9  38.3  54.8   3.57  58.71  0.10  6.19  16.44   3.86   \n",
       "5557  2019-07-29  27.3  36.4  49.8   3.79  58.78  0.41  5.70  16.86   3.90   \n",
       "5558  2019-07-30  17.0  25.2  39.3   3.93  58.69  0.10  5.82  14.65   2.92   \n",
       "5559  2019-07-30  26.1  36.5  50.0   4.09  58.27  0.10  6.09  16.25   3.87   \n",
       "5560  2019-07-31  23.0  34.6  47.4   4.26  58.86  0.14  5.81  17.36   3.91   \n",
       "\n",
       "       SO3  P2O5    RC1  COD_PROD_CPIIF40  \n",
       "0     2.75  0.85 -100.0                 0  \n",
       "1     2.86  0.75 -100.0                 0  \n",
       "2     2.91  0.76 -100.0                 0  \n",
       "3     2.82  0.89 -100.0                 0  \n",
       "4     3.25  0.09 -100.0                 0  \n",
       "...    ...   ...    ...               ...  \n",
       "5556  2.83  0.86   12.4                 1  \n",
       "5557  2.69  0.99   13.0                 1  \n",
       "5558  3.11  0.80 -100.0                 0  \n",
       "5559  2.69  0.99   13.6                 1  \n",
       "5560  2.99  0.93   11.2                 1  \n",
       "\n",
       "[5561 rows x 14 columns]"
      ]
     },
     "execution_count": 257,
     "metadata": {},
     "output_type": "execute_result"
    },
    {
     "data": {
      "application/javascript": [
       "\n",
       "            setTimeout(function() {\n",
       "                var nbb_cell_id = 257;\n",
       "                var nbb_unformatted_code = \"df\";\n",
       "                var nbb_formatted_code = \"df\";\n",
       "                var nbb_cells = Jupyter.notebook.get_cells();\n",
       "                for (var i = 0; i < nbb_cells.length; ++i) {\n",
       "                    if (nbb_cells[i].input_prompt_number == nbb_cell_id) {\n",
       "                        if (nbb_cells[i].get_text() == nbb_unformatted_code) {\n",
       "                             nbb_cells[i].set_text(nbb_formatted_code);\n",
       "                        }\n",
       "                        break;\n",
       "                    }\n",
       "                }\n",
       "            }, 500);\n",
       "            "
      ],
      "text/plain": [
       "<IPython.core.display.Javascript object>"
      ]
     },
     "metadata": {},
     "output_type": "display_data"
    }
   ],
   "source": [
    "df"
   ]
  },
  {
   "cell_type": "code",
   "execution_count": 206,
   "metadata": {},
   "outputs": [
    {
     "data": {
      "application/javascript": [
       "\n",
       "            setTimeout(function() {\n",
       "                var nbb_cell_id = 206;\n",
       "                var nbb_unformatted_code = \"set_seeds()\\n\\nmodel_2 = get_model(include_top=False, shape=(x.shape[-1]))\\nmodel_2.load_weights(\\\"conv1d_weights.h5\\\", by_name=True)\\nmodel_2.trainable = False\\n\\nflat1 = tf.keras.layers.Flatten()(model_2.layers[-1].output)\\nclass1 = tf.keras.layers.Dense(32, activation=\\\"relu\\\")(flat1)\\nclass1 = tf.keras.layers.Dense(16, activation=\\\"relu\\\")(class1)\\noutputs = tf.keras.layers.Dense(1, activation=\\\"linear\\\")(class1)\\nmodel = tf.keras.Model(model_2.inputs, outputs)\\n\\nmodel.compile(\\n    optimizer=tf.keras.optimizers.Adam(learning_rate=1e-3),\\n    loss=\\\"mse\\\",\\n    metrics=[tf.keras.metrics.RootMeanSquaredError(name=\\\"RMSE\\\")],\\n)\";\n",
       "                var nbb_formatted_code = \"set_seeds()\\n\\nmodel_2 = get_model(include_top=False, shape=(x.shape[-1]))\\nmodel_2.load_weights(\\\"conv1d_weights.h5\\\", by_name=True)\\nmodel_2.trainable = False\\n\\nflat1 = tf.keras.layers.Flatten()(model_2.layers[-1].output)\\nclass1 = tf.keras.layers.Dense(32, activation=\\\"relu\\\")(flat1)\\nclass1 = tf.keras.layers.Dense(16, activation=\\\"relu\\\")(class1)\\noutputs = tf.keras.layers.Dense(1, activation=\\\"linear\\\")(class1)\\nmodel = tf.keras.Model(model_2.inputs, outputs)\\n\\nmodel.compile(\\n    optimizer=tf.keras.optimizers.Adam(learning_rate=1e-3),\\n    loss=\\\"mse\\\",\\n    metrics=[tf.keras.metrics.RootMeanSquaredError(name=\\\"RMSE\\\")],\\n)\";\n",
       "                var nbb_cells = Jupyter.notebook.get_cells();\n",
       "                for (var i = 0; i < nbb_cells.length; ++i) {\n",
       "                    if (nbb_cells[i].input_prompt_number == nbb_cell_id) {\n",
       "                        if (nbb_cells[i].get_text() == nbb_unformatted_code) {\n",
       "                             nbb_cells[i].set_text(nbb_formatted_code);\n",
       "                        }\n",
       "                        break;\n",
       "                    }\n",
       "                }\n",
       "            }, 500);\n",
       "            "
      ],
      "text/plain": [
       "<IPython.core.display.Javascript object>"
      ]
     },
     "metadata": {},
     "output_type": "display_data"
    }
   ],
   "source": [
    "set_seeds()\n",
    "\n",
    "model_2 = get_model(include_top=False, shape=(x.shape[-1]))\n",
    "model_2.load_weights(\"conv1d_weights.h5\", by_name=True)\n",
    "model_2.trainable = False\n",
    "\n",
    "flat1 = tf.keras.layers.Flatten()(model_2.layers[-1].output)\n",
    "class1 = tf.keras.layers.Dense(32, activation=\"relu\")(flat1)\n",
    "class1 = tf.keras.layers.Dense(16, activation=\"relu\")(class1)\n",
    "outputs = tf.keras.layers.Dense(1, activation=\"linear\")(class1)\n",
    "model = tf.keras.Model(model_2.inputs, outputs)\n",
    "\n",
    "model.compile(\n",
    "    optimizer=tf.keras.optimizers.Adam(learning_rate=1e-3),\n",
    "    loss=\"mse\",\n",
    "    metrics=[tf.keras.metrics.RootMeanSquaredError(name=\"RMSE\")],\n",
    ")"
   ]
  },
  {
   "cell_type": "code",
   "execution_count": 207,
   "metadata": {},
   "outputs": [
    {
     "name": "stdout",
     "output_type": "stream",
     "text": [
      "Epoch 1/200\n",
      "139/139 [==============================] - 0s 1ms/step - loss: 1969.0767 - RMSE: 44.3743\n",
      "Epoch 2/200\n",
      "139/139 [==============================] - 0s 1ms/step - loss: 1015.4890 - RMSE: 31.8667\n",
      "Epoch 3/200\n",
      "139/139 [==============================] - 0s 1ms/step - loss: 102.0438 - RMSE: 10.1017\n",
      "Epoch 4/200\n",
      "139/139 [==============================] - 0s 1ms/step - loss: 33.3711 - RMSE: 5.7768\n",
      "Epoch 5/200\n",
      "139/139 [==============================] - 0s 1ms/step - loss: 31.6508 - RMSE: 5.6259\n",
      "Epoch 6/200\n",
      "139/139 [==============================] - 0s 1ms/step - loss: 30.2810 - RMSE: 5.5028\n",
      "Epoch 7/200\n",
      "139/139 [==============================] - 0s 1ms/step - loss: 29.0677 - RMSE: 5.3914\n",
      "Epoch 8/200\n",
      "139/139 [==============================] - 0s 1ms/step - loss: 27.6683 - RMSE: 5.2601\n",
      "Epoch 9/200\n",
      "139/139 [==============================] - 0s 1ms/step - loss: 26.2880 - RMSE: 5.1272\n",
      "Epoch 10/200\n",
      "139/139 [==============================] - 0s 1ms/step - loss: 24.7724 - RMSE: 4.9772\n",
      "Epoch 11/200\n",
      "139/139 [==============================] - 0s 1ms/step - loss: 23.4319 - RMSE: 4.8407\n",
      "Epoch 12/200\n",
      "139/139 [==============================] - 0s 1ms/step - loss: 22.1958 - RMSE: 4.7112\n",
      "Epoch 13/200\n",
      "139/139 [==============================] - 0s 1ms/step - loss: 21.0559 - RMSE: 4.5887\n",
      "Epoch 14/200\n",
      "139/139 [==============================] - 0s 1ms/step - loss: 19.8918 - RMSE: 4.4600\n",
      "Epoch 15/200\n",
      "139/139 [==============================] - 0s 1ms/step - loss: 19.2503 - RMSE: 4.3875\n",
      "Epoch 16/200\n",
      "139/139 [==============================] - 0s 851us/step - loss: 18.4435 - RMSE: 4.2946\n",
      "Epoch 17/200\n",
      "139/139 [==============================] - 0s 816us/step - loss: 17.8323 - RMSE: 4.2228\n",
      "Epoch 18/200\n",
      "139/139 [==============================] - 0s 2ms/step - loss: 17.1720 - RMSE: 4.1439\n",
      "Epoch 19/200\n",
      "139/139 [==============================] - 0s 2ms/step - loss: 16.6908 - RMSE: 4.0854\n",
      "Epoch 20/200\n",
      "139/139 [==============================] - 0s 1ms/step - loss: 16.5136 - RMSE: 4.0637\n",
      "Epoch 21/200\n",
      "139/139 [==============================] - 0s 1ms/step - loss: 16.0471 - RMSE: 4.0059\n",
      "Epoch 22/200\n",
      "139/139 [==============================] - 0s 2ms/step - loss: 15.7064 - RMSE: 3.9631\n",
      "Epoch 23/200\n",
      "139/139 [==============================] - 0s 2ms/step - loss: 15.6490 - RMSE: 3.9559\n",
      "Epoch 24/200\n",
      "139/139 [==============================] - 0s 2ms/step - loss: 15.3927 - RMSE: 3.9233\n",
      "Epoch 25/200\n",
      "139/139 [==============================] - 0s 1ms/step - loss: 15.1546 - RMSE: 3.8929\n",
      "Epoch 26/200\n",
      "139/139 [==============================] - 0s 1ms/step - loss: 14.9742 - RMSE: 3.8696\n",
      "Epoch 27/200\n",
      "139/139 [==============================] - 0s 2ms/step - loss: 14.8298 - RMSE: 3.8510\n",
      "Epoch 28/200\n",
      "139/139 [==============================] - 0s 2ms/step - loss: 14.8179 - RMSE: 3.8494\n",
      "Epoch 29/200\n",
      "139/139 [==============================] - 0s 2ms/step - loss: 14.5869 - RMSE: 3.8193\n",
      "Epoch 30/200\n",
      "139/139 [==============================] - 0s 1ms/step - loss: 14.4692 - RMSE: 3.8038\n",
      "Epoch 31/200\n",
      "139/139 [==============================] - 0s 1ms/step - loss: 14.6184 - RMSE: 3.8234\n",
      "Epoch 32/200\n",
      "139/139 [==============================] - 0s 1ms/step - loss: 14.3737 - RMSE: 3.7913\n",
      "Epoch 33/200\n",
      "139/139 [==============================] - 0s 1ms/step - loss: 14.3781 - RMSE: 3.7918\n",
      "Epoch 34/200\n",
      "139/139 [==============================] - 0s 1ms/step - loss: 14.0423 - RMSE: 3.7473\n",
      "Epoch 35/200\n",
      "139/139 [==============================] - 0s 1ms/step - loss: 14.2926 - RMSE: 3.7806\n",
      "Epoch 36/200\n",
      "139/139 [==============================] - 0s 1ms/step - loss: 14.0737 - RMSE: 3.7515\n",
      "Epoch 37/200\n",
      "139/139 [==============================] - 0s 1ms/step - loss: 13.9417 - RMSE: 3.7339\n",
      "Epoch 38/200\n",
      "139/139 [==============================] - 0s 1ms/step - loss: 13.8523 - RMSE: 3.7219\n",
      "Epoch 39/200\n",
      "139/139 [==============================] - 0s 1ms/step - loss: 13.9542 - RMSE: 3.7355\n",
      "Epoch 40/200\n",
      "139/139 [==============================] - 0s 2ms/step - loss: 13.8172 - RMSE: 3.7172\n",
      "Epoch 41/200\n",
      "139/139 [==============================] - 0s 2ms/step - loss: 13.6924 - RMSE: 3.7003\n",
      "Epoch 42/200\n",
      "139/139 [==============================] - 0s 1ms/step - loss: 13.6303 - RMSE: 3.6919\n",
      "Epoch 43/200\n",
      "139/139 [==============================] - 0s 1ms/step - loss: 13.9169 - RMSE: 3.7305\n",
      "Epoch 44/200\n",
      "139/139 [==============================] - 0s 1ms/step - loss: 13.5159 - RMSE: 3.6764\n",
      "Epoch 45/200\n",
      "139/139 [==============================] - 0s 1ms/step - loss: 13.4816 - RMSE: 3.6717\n",
      "Epoch 46/200\n",
      "139/139 [==============================] - 0s 2ms/step - loss: 13.4155 - RMSE: 3.6627\n",
      "Epoch 47/200\n",
      "139/139 [==============================] - 0s 2ms/step - loss: 13.4083 - RMSE: 3.6617\n",
      "Epoch 48/200\n",
      "139/139 [==============================] - 0s 2ms/step - loss: 13.3903 - RMSE: 3.6593\n",
      "Epoch 49/200\n",
      "139/139 [==============================] - 0s 2ms/step - loss: 13.3614 - RMSE: 3.6553\n",
      "Epoch 50/200\n",
      "139/139 [==============================] - 0s 2ms/step - loss: 13.2734 - RMSE: 3.6433\n",
      "Epoch 51/200\n",
      "139/139 [==============================] - 0s 1ms/step - loss: 13.2489 - RMSE: 3.6399\n",
      "Epoch 52/200\n",
      "139/139 [==============================] - 0s 766us/step - loss: 13.2675 - RMSE: 3.6425\n",
      "Epoch 53/200\n",
      "139/139 [==============================] - 0s 890us/step - loss: 13.3011 - RMSE: 3.6471\n",
      "Epoch 54/200\n",
      "139/139 [==============================] - 0s 1ms/step - loss: 13.2482 - RMSE: 3.6398\n",
      "Epoch 55/200\n",
      "139/139 [==============================] - 0s 2ms/step - loss: 13.2800 - RMSE: 3.6442\n",
      "Epoch 56/200\n",
      "139/139 [==============================] - 0s 2ms/step - loss: 13.1312 - RMSE: 3.6237\n",
      "Epoch 57/200\n",
      "139/139 [==============================] - 0s 2ms/step - loss: 13.1100 - RMSE: 3.6208\n",
      "Epoch 58/200\n",
      "139/139 [==============================] - 0s 1ms/step - loss: 12.9850 - RMSE: 3.6035\n",
      "Epoch 59/200\n",
      "139/139 [==============================] - 0s 2ms/step - loss: 13.1166 - RMSE: 3.6217\n",
      "Epoch 60/200\n",
      "139/139 [==============================] - 0s 986us/step - loss: 12.9738 - RMSE: 3.6019\n",
      "Epoch 61/200\n",
      "139/139 [==============================] - 0s 860us/step - loss: 13.0881 - RMSE: 3.6177\n",
      "Epoch 62/200\n",
      "139/139 [==============================] - 0s 2ms/step - loss: 12.9442 - RMSE: 3.5978\n",
      "Epoch 63/200\n",
      "139/139 [==============================] - 0s 1ms/step - loss: 13.0354 - RMSE: 3.6105\n",
      "Epoch 64/200\n",
      "139/139 [==============================] - 0s 829us/step - loss: 12.8881 - RMSE: 3.5900\n",
      "Epoch 65/200\n",
      "139/139 [==============================] - 0s 816us/step - loss: 12.8709 - RMSE: 3.5876\n",
      "Epoch 66/200\n",
      "139/139 [==============================] - 0s 846us/step - loss: 12.9224 - RMSE: 3.5948\n",
      "Epoch 67/200\n",
      "139/139 [==============================] - 0s 865us/step - loss: 12.9069 - RMSE: 3.5926\n",
      "Epoch 68/200\n",
      "139/139 [==============================] - 0s 845us/step - loss: 12.9944 - RMSE: 3.6048\n",
      "Epoch 69/200\n",
      "139/139 [==============================] - 0s 915us/step - loss: 12.8887 - RMSE: 3.5901\n",
      "Epoch 70/200\n",
      "139/139 [==============================] - 0s 733us/step - loss: 12.7864 - RMSE: 3.5758\n",
      "Epoch 71/200\n",
      "139/139 [==============================] - 0s 1ms/step - loss: 12.7597 - RMSE: 3.5721\n",
      "Epoch 72/200\n",
      "139/139 [==============================] - 0s 2ms/step - loss: 12.8409 - RMSE: 3.5834\n",
      "Epoch 73/200\n",
      "139/139 [==============================] - 0s 861us/step - loss: 12.9900 - RMSE: 3.6042\n",
      "Epoch 74/200\n",
      "139/139 [==============================] - 0s 801us/step - loss: 12.7286 - RMSE: 3.5677\n",
      "Epoch 75/200\n",
      "139/139 [==============================] - 0s 813us/step - loss: 12.7558 - RMSE: 3.5715\n",
      "Epoch 76/200\n",
      "139/139 [==============================] - 0s 775us/step - loss: 12.9197 - RMSE: 3.5944\n",
      "Epoch 77/200\n",
      "139/139 [==============================] - 0s 782us/step - loss: 12.9481 - RMSE: 3.5983\n",
      "Epoch 78/200\n",
      "139/139 [==============================] - 0s 771us/step - loss: 12.8424 - RMSE: 3.5836\n",
      "Epoch 79/200\n",
      "139/139 [==============================] - 0s 2ms/step - loss: 12.7442 - RMSE: 3.5699\n",
      "Epoch 80/200\n",
      "139/139 [==============================] - 0s 945us/step - loss: 12.7412 - RMSE: 3.5695\n",
      "Epoch 81/200\n",
      "139/139 [==============================] - 0s 773us/step - loss: 12.9534 - RMSE: 3.5991\n",
      "Epoch 82/200\n",
      "139/139 [==============================] - 0s 765us/step - loss: 12.7178 - RMSE: 3.5662\n",
      "Epoch 83/200\n"
     ]
    },
    {
     "name": "stdout",
     "output_type": "stream",
     "text": [
      "139/139 [==============================] - 0s 771us/step - loss: 12.7161 - RMSE: 3.5660\n",
      "Epoch 84/200\n",
      "139/139 [==============================] - 0s 785us/step - loss: 12.7867 - RMSE: 3.5758\n",
      "Epoch 85/200\n",
      "139/139 [==============================] - 0s 793us/step - loss: 12.6691 - RMSE: 3.5594\n",
      "Epoch 86/200\n",
      "139/139 [==============================] - 0s 765us/step - loss: 12.6064 - RMSE: 3.5506\n",
      "Epoch 87/200\n",
      "139/139 [==============================] - 0s 793us/step - loss: 12.7007 - RMSE: 3.5638\n",
      "Epoch 88/200\n",
      "139/139 [==============================] - 0s 905us/step - loss: 12.7276 - RMSE: 3.5676\n",
      "Epoch 89/200\n",
      "139/139 [==============================] - 0s 2ms/step - loss: 12.6768 - RMSE: 3.5604\n",
      "Epoch 90/200\n",
      "139/139 [==============================] - 0s 2ms/step - loss: 12.7313 - RMSE: 3.5681\n",
      "Epoch 91/200\n",
      "139/139 [==============================] - 0s 824us/step - loss: 12.6136 - RMSE: 3.5516\n",
      "Epoch 92/200\n",
      "139/139 [==============================] - 0s 812us/step - loss: 12.5163 - RMSE: 3.5378\n",
      "Epoch 93/200\n",
      "139/139 [==============================] - 0s 838us/step - loss: 12.5995 - RMSE: 3.5496\n",
      "Epoch 94/200\n",
      "139/139 [==============================] - 0s 844us/step - loss: 12.6525 - RMSE: 3.5570\n",
      "Epoch 95/200\n",
      "139/139 [==============================] - 0s 821us/step - loss: 12.7052 - RMSE: 3.5644\n",
      "Epoch 96/200\n",
      "139/139 [==============================] - 0s 1ms/step - loss: 12.5922 - RMSE: 3.5486\n",
      "Epoch 97/200\n",
      "139/139 [==============================] - 0s 921us/step - loss: 12.5942 - RMSE: 3.5488\n",
      "Epoch 98/200\n",
      "139/139 [==============================] - 0s 1ms/step - loss: 12.6826 - RMSE: 3.5613\n",
      "Epoch 99/200\n",
      "139/139 [==============================] - 0s 1ms/step - loss: 12.4799 - RMSE: 3.5327\n",
      "Epoch 100/200\n",
      "139/139 [==============================] - 0s 1ms/step - loss: 12.7285 - RMSE: 3.5677\n",
      "Epoch 101/200\n",
      "139/139 [==============================] - 0s 1ms/step - loss: 12.6305 - RMSE: 3.5539\n",
      "Epoch 102/200\n",
      "139/139 [==============================] - 0s 1ms/step - loss: 12.4522 - RMSE: 3.5288\n",
      "Epoch 103/200\n",
      "139/139 [==============================] - 0s 2ms/step - loss: 12.6616 - RMSE: 3.5583\n",
      "Epoch 104/200\n",
      "139/139 [==============================] - 0s 1ms/step - loss: 12.6154 - RMSE: 3.5518\n",
      "Epoch 105/200\n",
      "139/139 [==============================] - 0s 1ms/step - loss: 12.5708 - RMSE: 3.5455\n",
      "Epoch 106/200\n",
      "139/139 [==============================] - 0s 848us/step - loss: 12.5634 - RMSE: 3.5445\n",
      "Epoch 107/200\n",
      "139/139 [==============================] - 0s 839us/step - loss: 12.4958 - RMSE: 3.5349\n",
      "Epoch 108/200\n",
      "139/139 [==============================] - 0s 880us/step - loss: 12.6960 - RMSE: 3.5631\n",
      "Epoch 109/200\n",
      "139/139 [==============================] - 0s 841us/step - loss: 12.5109 - RMSE: 3.5371\n",
      "Epoch 110/200\n",
      "139/139 [==============================] - 0s 967us/step - loss: 12.5501 - RMSE: 3.5426\n",
      "Epoch 111/200\n",
      "139/139 [==============================] - 0s 3ms/step - loss: 12.4591 - RMSE: 3.5298\n",
      "Epoch 112/200\n",
      "139/139 [==============================] - 0s 2ms/step - loss: 12.5283 - RMSE: 3.5395\n",
      "Epoch 113/200\n",
      "139/139 [==============================] - 0s 1ms/step - loss: 12.6787 - RMSE: 3.5607\n",
      "Epoch 114/200\n",
      "139/139 [==============================] - 0s 1ms/step - loss: 12.5866 - RMSE: 3.5478\n",
      "Epoch 115/200\n",
      "139/139 [==============================] - 0s 1ms/step - loss: 12.5528 - RMSE: 3.5430\n",
      "Epoch 116/200\n",
      "139/139 [==============================] - 0s 1ms/step - loss: 12.4634 - RMSE: 3.5304\n",
      "Epoch 117/200\n",
      "139/139 [==============================] - 0s 774us/step - loss: 12.4587 - RMSE: 3.5297\n",
      "Epoch 118/200\n",
      "139/139 [==============================] - 0s 797us/step - loss: 12.6535 - RMSE: 3.5572\n",
      "Epoch 119/200\n",
      "139/139 [==============================] - 0s 764us/step - loss: 12.4649 - RMSE: 3.5306\n",
      "Epoch 120/200\n",
      "139/139 [==============================] - 0s 788us/step - loss: 12.5784 - RMSE: 3.5466\n",
      "Epoch 121/200\n",
      "139/139 [==============================] - 0s 781us/step - loss: 12.4584 - RMSE: 3.5296\n",
      "Epoch 122/200\n",
      "139/139 [==============================] - 0s 1ms/step - loss: 12.5453 - RMSE: 3.5419\n",
      "Epoch 123/200\n",
      "139/139 [==============================] - 0s 2ms/step - loss: 12.3278 - RMSE: 3.5111\n",
      "Epoch 124/200\n",
      "139/139 [==============================] - 0s 2ms/step - loss: 12.5158 - RMSE: 3.5378\n",
      "Epoch 125/200\n",
      "139/139 [==============================] - 0s 2ms/step - loss: 12.4607 - RMSE: 3.5300\n",
      "Epoch 126/200\n",
      "139/139 [==============================] - ETA: 0s - loss: 12.6313 - RMSE: 3.554 - 0s 2ms/step - loss: 12.4505 - RMSE: 3.5285\n",
      "Epoch 127/200\n",
      "139/139 [==============================] - 0s 2ms/step - loss: 12.3818 - RMSE: 3.5188\n",
      "Epoch 128/200\n",
      "139/139 [==============================] - 0s 2ms/step - loss: 12.3757 - RMSE: 3.5179\n",
      "Epoch 129/200\n",
      "139/139 [==============================] - 0s 2ms/step - loss: 12.4084 - RMSE: 3.5225\n",
      "Epoch 130/200\n",
      "139/139 [==============================] - 0s 2ms/step - loss: 12.3405 - RMSE: 3.5129\n",
      "Epoch 131/200\n",
      "139/139 [==============================] - 0s 1ms/step - loss: 12.3707 - RMSE: 3.5172\n",
      "Epoch 132/200\n",
      "139/139 [==============================] - 0s 1ms/step - loss: 12.3677 - RMSE: 3.5168\n",
      "Epoch 133/200\n",
      "139/139 [==============================] - 0s 1ms/step - loss: 12.4195 - RMSE: 3.5241\n",
      "Epoch 134/200\n",
      "139/139 [==============================] - 0s 1ms/step - loss: 12.3761 - RMSE: 3.5180\n",
      "Epoch 135/200\n",
      "139/139 [==============================] - 0s 1ms/step - loss: 12.4113 - RMSE: 3.5230\n",
      "Epoch 136/200\n",
      "139/139 [==============================] - 0s 2ms/step - loss: 12.4116 - RMSE: 3.5230\n",
      "Epoch 137/200\n",
      "139/139 [==============================] - 0s 2ms/step - loss: 12.3147 - RMSE: 3.5092\n",
      "Epoch 138/200\n",
      "139/139 [==============================] - 0s 3ms/step - loss: 12.4088 - RMSE: 3.5226\n",
      "Epoch 139/200\n",
      "139/139 [==============================] - 0s 2ms/step - loss: 12.3836 - RMSE: 3.5190\n",
      "Epoch 140/200\n",
      "139/139 [==============================] - 0s 1ms/step - loss: 12.3597 - RMSE: 3.5156\n",
      "Epoch 141/200\n",
      "139/139 [==============================] - 0s 1ms/step - loss: 12.3890 - RMSE: 3.5198\n",
      "Epoch 142/200\n",
      "139/139 [==============================] - 0s 1ms/step - loss: 12.4979 - RMSE: 3.5352\n",
      "Epoch 143/200\n",
      "139/139 [==============================] - 0s 2ms/step - loss: 12.3435 - RMSE: 3.5133\n",
      "Epoch 144/200\n",
      "139/139 [==============================] - 0s 2ms/step - loss: 12.4269 - RMSE: 3.5252\n",
      "Epoch 145/200\n",
      "139/139 [==============================] - 0s 979us/step - loss: 12.4311 - RMSE: 3.5258\n",
      "Epoch 146/200\n",
      "139/139 [==============================] - 0s 819us/step - loss: 12.3573 - RMSE: 3.5153\n",
      "Epoch 147/200\n",
      "139/139 [==============================] - 0s 783us/step - loss: 12.2334 - RMSE: 3.4976\n",
      "Epoch 148/200\n",
      "139/139 [==============================] - 0s 781us/step - loss: 12.5010 - RMSE: 3.5357\n",
      "Epoch 149/200\n",
      "139/139 [==============================] - 0s 1ms/step - loss: 12.4084 - RMSE: 3.5226\n",
      "Epoch 150/200\n",
      "139/139 [==============================] - 0s 2ms/step - loss: 12.2617 - RMSE: 3.5017\n",
      "Epoch 151/200\n",
      "139/139 [==============================] - 0s 781us/step - loss: 12.2322 - RMSE: 3.4975\n",
      "Epoch 152/200\n",
      "139/139 [==============================] - 0s 858us/step - loss: 12.2968 - RMSE: 3.5067\n",
      "Epoch 153/200\n",
      "139/139 [==============================] - 0s 1ms/step - loss: 12.3834 - RMSE: 3.5190\n",
      "Epoch 154/200\n",
      "139/139 [==============================] - 0s 1ms/step - loss: 12.2087 - RMSE: 3.4941\n",
      "Epoch 155/200\n",
      "139/139 [==============================] - 0s 820us/step - loss: 12.3923 - RMSE: 3.5203\n",
      "Epoch 156/200\n",
      "139/139 [==============================] - 0s 745us/step - loss: 12.2044 - RMSE: 3.4935\n",
      "Epoch 157/200\n",
      "139/139 [==============================] - 0s 820us/step - loss: 12.3114 - RMSE: 3.5088\n",
      "Epoch 158/200\n",
      "139/139 [==============================] - 0s 1ms/step - loss: 12.3929 - RMSE: 3.5203\n",
      "Epoch 159/200\n",
      "139/139 [==============================] - 0s 2ms/step - loss: 12.2836 - RMSE: 3.5048\n",
      "Epoch 160/200\n",
      "139/139 [==============================] - 0s 2ms/step - loss: 12.3476 - RMSE: 3.5139\n",
      "Epoch 161/200\n",
      "139/139 [==============================] - 0s 1ms/step - loss: 12.2560 - RMSE: 3.5009\n",
      "Epoch 162/200\n",
      "139/139 [==============================] - 0s 2ms/step - loss: 12.4285 - RMSE: 3.5254\n",
      "Epoch 163/200\n",
      "139/139 [==============================] - 0s 1ms/step - loss: 12.4047 - RMSE: 3.5220\n",
      "Epoch 164/200\n"
     ]
    },
    {
     "name": "stdout",
     "output_type": "stream",
     "text": [
      "139/139 [==============================] - 0s 3ms/step - loss: 12.3687 - RMSE: 3.5169\n",
      "Epoch 165/200\n",
      "139/139 [==============================] - 0s 3ms/step - loss: 12.3231 - RMSE: 3.5104\n",
      "Epoch 166/200\n",
      "139/139 [==============================] - 0s 3ms/step - loss: 12.2340 - RMSE: 3.4977\n",
      "Epoch 167/200\n",
      "139/139 [==============================] - 0s 2ms/step - loss: 12.3686 - RMSE: 3.5169\n",
      "Epoch 168/200\n",
      "139/139 [==============================] - 0s 2ms/step - loss: 12.2615 - RMSE: 3.5016\n",
      "Epoch 169/200\n",
      "139/139 [==============================] - 0s 3ms/step - loss: 12.1762 - RMSE: 3.4894\n",
      "Epoch 170/200\n",
      "139/139 [==============================] - 0s 2ms/step - loss: 12.2853 - RMSE: 3.5050\n",
      "Epoch 171/200\n",
      "139/139 [==============================] - 0s 2ms/step - loss: 12.3875 - RMSE: 3.5196\n",
      "Epoch 172/200\n",
      "139/139 [==============================] - 0s 1ms/step - loss: 12.1543 - RMSE: 3.4863\n",
      "Epoch 173/200\n",
      "139/139 [==============================] - 0s 2ms/step - loss: 12.4383 - RMSE: 3.5268\n",
      "Epoch 174/200\n",
      "139/139 [==============================] - 0s 3ms/step - loss: 12.4603 - RMSE: 3.5299\n",
      "Epoch 175/200\n",
      "139/139 [==============================] - 0s 2ms/step - loss: 12.4569 - RMSE: 3.5294\n",
      "Epoch 176/200\n",
      "139/139 [==============================] - 0s 2ms/step - loss: 12.3267 - RMSE: 3.5109\n",
      "Epoch 177/200\n",
      "139/139 [==============================] - 0s 981us/step - loss: 12.3420 - RMSE: 3.5131\n",
      "Epoch 178/200\n",
      "139/139 [==============================] - 0s 984us/step - loss: 12.2106 - RMSE: 3.4944\n",
      "Epoch 179/200\n",
      "139/139 [==============================] - 0s 1ms/step - loss: 12.2263 - RMSE: 3.4966\n",
      "Epoch 180/200\n",
      "139/139 [==============================] - 0s 2ms/step - loss: 12.2945 - RMSE: 3.5064\n",
      "Epoch 181/200\n",
      "139/139 [==============================] - 0s 1ms/step - loss: 12.2564 - RMSE: 3.5009\n",
      "Epoch 182/200\n",
      "139/139 [==============================] - 0s 919us/step - loss: 12.2570 - RMSE: 3.5010\n",
      "Epoch 183/200\n",
      "139/139 [==============================] - 0s 1ms/step - loss: 12.3328 - RMSE: 3.5118\n",
      "Epoch 184/200\n",
      "139/139 [==============================] - 0s 1ms/step - loss: 12.3160 - RMSE: 3.5094\n",
      "Epoch 185/200\n",
      "139/139 [==============================] - 0s 1ms/step - loss: 12.3663 - RMSE: 3.5166\n",
      "Epoch 186/200\n",
      "139/139 [==============================] - 0s 1ms/step - loss: 12.1938 - RMSE: 3.4920\n",
      "Epoch 187/200\n",
      "139/139 [==============================] - 0s 1ms/step - loss: 12.3311 - RMSE: 3.5116\n",
      "Epoch 188/200\n",
      "139/139 [==============================] - 0s 1ms/step - loss: 12.1193 - RMSE: 3.4813\n",
      "Epoch 189/200\n",
      "139/139 [==============================] - 0s 2ms/step - loss: 12.2424 - RMSE: 3.4989\n",
      "Epoch 190/200\n",
      "139/139 [==============================] - 0s 1ms/step - loss: 12.2360 - RMSE: 3.4980\n",
      "Epoch 191/200\n",
      "139/139 [==============================] - 0s 966us/step - loss: 12.3492 - RMSE: 3.5141\n",
      "Epoch 192/200\n",
      "139/139 [==============================] - 0s 878us/step - loss: 12.2233 - RMSE: 3.4962\n",
      "Epoch 193/200\n",
      "139/139 [==============================] - 0s 876us/step - loss: 12.2123 - RMSE: 3.4946\n",
      "Epoch 194/200\n",
      "139/139 [==============================] - 0s 869us/step - loss: 12.4028 - RMSE: 3.5218\n",
      "Epoch 195/200\n",
      "139/139 [==============================] - 0s 800us/step - loss: 12.1589 - RMSE: 3.4870\n",
      "Epoch 196/200\n",
      "139/139 [==============================] - 0s 2ms/step - loss: 12.1902 - RMSE: 3.4915\n",
      "Epoch 197/200\n",
      "139/139 [==============================] - 0s 1ms/step - loss: 12.3233 - RMSE: 3.5105\n",
      "Epoch 198/200\n",
      "139/139 [==============================] - 0s 1ms/step - loss: 12.1197 - RMSE: 3.4813\n",
      "Epoch 199/200\n",
      "139/139 [==============================] - 0s 855us/step - loss: 12.2136 - RMSE: 3.4948\n",
      "Epoch 200/200\n",
      "139/139 [==============================] - 0s 813us/step - loss: 12.2281 - RMSE: 3.4969\n"
     ]
    },
    {
     "data": {
      "application/javascript": [
       "\n",
       "            setTimeout(function() {\n",
       "                var nbb_cell_id = 207;\n",
       "                var nbb_unformatted_code = \"# sc = StandardScaler()\\n\\nhistory = model.fit(\\n    sc.transform(x_train),\\n    y_train,\\n    batch_size=batch_size,\\n    epochs=epochs,\\n    verbose=verbose,\\n)\";\n",
       "                var nbb_formatted_code = \"# sc = StandardScaler()\\n\\nhistory = model.fit(\\n    sc.transform(x_train),\\n    y_train,\\n    batch_size=batch_size,\\n    epochs=epochs,\\n    verbose=verbose,\\n)\";\n",
       "                var nbb_cells = Jupyter.notebook.get_cells();\n",
       "                for (var i = 0; i < nbb_cells.length; ++i) {\n",
       "                    if (nbb_cells[i].input_prompt_number == nbb_cell_id) {\n",
       "                        if (nbb_cells[i].get_text() == nbb_unformatted_code) {\n",
       "                             nbb_cells[i].set_text(nbb_formatted_code);\n",
       "                        }\n",
       "                        break;\n",
       "                    }\n",
       "                }\n",
       "            }, 500);\n",
       "            "
      ],
      "text/plain": [
       "<IPython.core.display.Javascript object>"
      ]
     },
     "metadata": {},
     "output_type": "display_data"
    }
   ],
   "source": [
    "# sc = StandardScaler()\n",
    "\n",
    "history = model.fit(\n",
    "    sc.transform(x_train),\n",
    "    y_train,\n",
    "    batch_size=batch_size,\n",
    "    epochs=epochs,\n",
    "    verbose=verbose,\n",
    ")"
   ]
  },
  {
   "cell_type": "code",
   "execution_count": 208,
   "metadata": {},
   "outputs": [
    {
     "data": {
      "text/plain": [
       "[<matplotlib.lines.Line2D at 0x7f358ba41908>]"
      ]
     },
     "execution_count": 208,
     "metadata": {},
     "output_type": "execute_result"
    },
    {
     "data": {
      "image/png": "[encoded data removed]",
      "text/plain": [
       "<Figure size 432x288 with 1 Axes>"
      ]
     },
     "metadata": {
      "needs_background": "light"
     },
     "output_type": "display_data"
    },
    {
     "data": {
      "application/javascript": [
       "\n",
       "            setTimeout(function() {\n",
       "                var nbb_cell_id = 208;\n",
       "                var nbb_unformatted_code = \"plt.plot(history.history[\\\"RMSE\\\"])\";\n",
       "                var nbb_formatted_code = \"plt.plot(history.history[\\\"RMSE\\\"])\";\n",
       "                var nbb_cells = Jupyter.notebook.get_cells();\n",
       "                for (var i = 0; i < nbb_cells.length; ++i) {\n",
       "                    if (nbb_cells[i].input_prompt_number == nbb_cell_id) {\n",
       "                        if (nbb_cells[i].get_text() == nbb_unformatted_code) {\n",
       "                             nbb_cells[i].set_text(nbb_formatted_code);\n",
       "                        }\n",
       "                        break;\n",
       "                    }\n",
       "                }\n",
       "            }, 500);\n",
       "            "
      ],
      "text/plain": [
       "<IPython.core.display.Javascript object>"
      ]
     },
     "metadata": {},
     "output_type": "display_data"
    }
   ],
   "source": [
    "plt.plot(history.history[\"RMSE\"])"
   ]
  },
  {
   "cell_type": "code",
   "execution_count": 209,
   "metadata": {},
   "outputs": [
    {
     "name": "stdout",
     "output_type": "stream",
     "text": [
      "******\n",
      "[TRAIN]\n",
      "******\n",
      "RMSE: 3.458 (0.000)\n",
      "MAE: 2.628 (0.000)\n",
      "MAPE: 0.058 (0.000)\n",
      "R2: 0.711 (0.000)\n",
      "\n",
      "======================\n",
      "\n",
      "******\n",
      "[TEST]\n",
      "******\n",
      "RMSE: 7.336 (0.000)\n",
      "MAE: 6.035 (0.000)\n",
      "MAPE: 0.111 (0.000)\n",
      "R2: 0.589 (0.000)\n",
      "\n",
      "======================\n",
      "\n"
     ]
    },
    {
     "data": {
      "application/javascript": [
       "\n",
       "            setTimeout(function() {\n",
       "                var nbb_cell_id = 209;\n",
       "                var nbb_unformatted_code = \"y_train_pred = model.predict(sc.transform(x_train))\\ny_test_pred = model.predict(sc.transform(x_test))\\n\\nscores = score_regression_metrics(y_train, y_train_pred, y_test, y_test_pred)\\nprint_scores(scores, METRICS, METRICS_DICT)\";\n",
       "                var nbb_formatted_code = \"y_train_pred = model.predict(sc.transform(x_train))\\ny_test_pred = model.predict(sc.transform(x_test))\\n\\nscores = score_regression_metrics(y_train, y_train_pred, y_test, y_test_pred)\\nprint_scores(scores, METRICS, METRICS_DICT)\";\n",
       "                var nbb_cells = Jupyter.notebook.get_cells();\n",
       "                for (var i = 0; i < nbb_cells.length; ++i) {\n",
       "                    if (nbb_cells[i].input_prompt_number == nbb_cell_id) {\n",
       "                        if (nbb_cells[i].get_text() == nbb_unformatted_code) {\n",
       "                             nbb_cells[i].set_text(nbb_formatted_code);\n",
       "                        }\n",
       "                        break;\n",
       "                    }\n",
       "                }\n",
       "            }, 500);\n",
       "            "
      ],
      "text/plain": [
       "<IPython.core.display.Javascript object>"
      ]
     },
     "metadata": {},
     "output_type": "display_data"
    }
   ],
   "source": [
    "y_train_pred = model.predict(sc.transform(x_train))\n",
    "y_test_pred = model.predict(sc.transform(x_test))\n",
    "\n",
    "scores = score_regression_metrics(y_train, y_train_pred, y_test, y_test_pred)\n",
    "print_scores(scores, METRICS, METRICS_DICT)"
   ]
  },
  {
   "cell_type": "markdown",
   "metadata": {},
   "source": [
    "# Experiments with Same Variables"
   ]
  },
  {
   "cell_type": "code",
   "execution_count": 211,
   "metadata": {},
   "outputs": [
    {
     "data": {
      "application/javascript": [
       "\n",
       "            setTimeout(function() {\n",
       "                var nbb_cell_id = 211;\n",
       "                var nbb_unformatted_code = \"df_intercement = pd.read_csv(\\\"../../../../data/processed/Intercement/cement-shipping.csv\\\")\\ndf_partner_ii = pd.read_csv(\\\"../../../../data/processed/partner_ii/cement-shipping.csv\\\")\\ndf_partner_i = pd.read_csv(\\n    \\\"../../../../data/processed/partner_i-Oficial/cement-shipping.csv\\\"\\n)\";\n",
       "                var nbb_formatted_code = \"df_intercement = pd.read_csv(\\n    \\\"../../../../data/processed/Intercement/cement-shipping.csv\\\"\\n)\\ndf_partner_ii = pd.read_csv(\\\"../../../../data/processed/partner_ii/cement-shipping.csv\\\")\\ndf_partner_i = pd.read_csv(\\n    \\\"../../../../data/processed/partner_i-Oficial/cement-shipping.csv\\\"\\n)\";\n",
       "                var nbb_cells = Jupyter.notebook.get_cells();\n",
       "                for (var i = 0; i < nbb_cells.length; ++i) {\n",
       "                    if (nbb_cells[i].input_prompt_number == nbb_cell_id) {\n",
       "                        if (nbb_cells[i].get_text() == nbb_unformatted_code) {\n",
       "                             nbb_cells[i].set_text(nbb_formatted_code);\n",
       "                        }\n",
       "                        break;\n",
       "                    }\n",
       "                }\n",
       "            }, 500);\n",
       "            "
      ],
      "text/plain": [
       "<IPython.core.display.Javascript object>"
      ]
     },
     "metadata": {},
     "output_type": "display_data"
    }
   ],
   "source": [
    "df_intercement = pd.read_csv(\n",
    "    \"../../../../data/processed/Intercement/cement-shipping.csv\"\n",
    ")\n",
    "df_partner_ii = pd.read_csv(\"../../../../data/processed/partner_ii/cement-shipping.csv\")\n",
    "df_partner_i = pd.read_csv(\n",
    "    \"../../../../data/processed/partner_i-Oficial/cement-shipping.csv\"\n",
    ")"
   ]
  },
  {
   "cell_type": "code",
   "execution_count": 212,
   "metadata": {},
   "outputs": [
    {
     "data": {
      "text/plain": [
       "{'al2o3', 'fe2o3', 'k2o', 'mgo', 'sio2', 'so3'}"
      ]
     },
     "execution_count": 212,
     "metadata": {},
     "output_type": "execute_result"
    },
    {
     "data": {
      "application/javascript": [
       "\n",
       "            setTimeout(function() {\n",
       "                var nbb_cell_id = 212;\n",
       "                var nbb_unformatted_code = \"set(df_intercement.columns.str.lower()).intersection(\\n    set(df_partner_ii.columns.str.lower())\\n)\";\n",
       "                var nbb_formatted_code = \"set(df_intercement.columns.str.lower()).intersection(\\n    set(df_partner_ii.columns.str.lower())\\n)\";\n",
       "                var nbb_cells = Jupyter.notebook.get_cells();\n",
       "                for (var i = 0; i < nbb_cells.length; ++i) {\n",
       "                    if (nbb_cells[i].input_prompt_number == nbb_cell_id) {\n",
       "                        if (nbb_cells[i].get_text() == nbb_unformatted_code) {\n",
       "                             nbb_cells[i].set_text(nbb_formatted_code);\n",
       "                        }\n",
       "                        break;\n",
       "                    }\n",
       "                }\n",
       "            }, 500);\n",
       "            "
      ],
      "text/plain": [
       "<IPython.core.display.Javascript object>"
      ]
     },
     "metadata": {},
     "output_type": "display_data"
    }
   ],
   "source": [
    "set(df_intercement.columns.str.lower()).intersection(\n",
    "    set(df_partner_ii.columns.str.lower())\n",
    ")"
   ]
  },
  {
   "cell_type": "code",
   "execution_count": 213,
   "metadata": {},
   "outputs": [
    {
     "data": {
      "text/plain": [
       "{'al2o3', 'fe2o3', 'k2o', 'mgo', 'sio2', 'so3'}"
      ]
     },
     "execution_count": 213,
     "metadata": {},
     "output_type": "execute_result"
    },
    {
     "data": {
      "application/javascript": [
       "\n",
       "            setTimeout(function() {\n",
       "                var nbb_cell_id = 213;\n",
       "                var nbb_unformatted_code = \"set(df_intercement.columns.str.lower()).intersection(\\n    set(df_partner_i.columns.str.lower())\\n)\";\n",
       "                var nbb_formatted_code = \"set(df_intercement.columns.str.lower()).intersection(\\n    set(df_partner_i.columns.str.lower())\\n)\";\n",
       "                var nbb_cells = Jupyter.notebook.get_cells();\n",
       "                for (var i = 0; i < nbb_cells.length; ++i) {\n",
       "                    if (nbb_cells[i].input_prompt_number == nbb_cell_id) {\n",
       "                        if (nbb_cells[i].get_text() == nbb_unformatted_code) {\n",
       "                             nbb_cells[i].set_text(nbb_formatted_code);\n",
       "                        }\n",
       "                        break;\n",
       "                    }\n",
       "                }\n",
       "            }, 500);\n",
       "            "
      ],
      "text/plain": [
       "<IPython.core.display.Javascript object>"
      ]
     },
     "metadata": {},
     "output_type": "display_data"
    }
   ],
   "source": [
    "set(df_intercement.columns.str.lower()).intersection(\n",
    "    set(df_partner_i.columns.str.lower())\n",
    ")"
   ]
  },
  {
   "cell_type": "code",
   "execution_count": 214,
   "metadata": {},
   "outputs": [
    {
     "data": {
      "text/plain": [
       "{'al2o3',\n",
       " 'aluminate',\n",
       " 'cao',\n",
       " 'fe2o3',\n",
       " 'ferrite',\n",
       " 'k2o',\n",
       " 'mgo',\n",
       " 'na2o',\n",
       " 'sio2',\n",
       " 'so3'}"
      ]
     },
     "execution_count": 214,
     "metadata": {},
     "output_type": "execute_result"
    },
    {
     "data": {
      "application/javascript": [
       "\n",
       "            setTimeout(function() {\n",
       "                var nbb_cell_id = 214;\n",
       "                var nbb_unformatted_code = \"set(df_partner_ii.columns.str.lower()).intersection(\\n    set(df_partner_i.columns.str.lower())\\n)\";\n",
       "                var nbb_formatted_code = \"set(df_partner_ii.columns.str.lower()).intersection(\\n    set(df_partner_i.columns.str.lower())\\n)\";\n",
       "                var nbb_cells = Jupyter.notebook.get_cells();\n",
       "                for (var i = 0; i < nbb_cells.length; ++i) {\n",
       "                    if (nbb_cells[i].input_prompt_number == nbb_cell_id) {\n",
       "                        if (nbb_cells[i].get_text() == nbb_unformatted_code) {\n",
       "                             nbb_cells[i].set_text(nbb_formatted_code);\n",
       "                        }\n",
       "                        break;\n",
       "                    }\n",
       "                }\n",
       "            }, 500);\n",
       "            "
      ],
      "text/plain": [
       "<IPython.core.display.Javascript object>"
      ]
     },
     "metadata": {},
     "output_type": "display_data"
    }
   ],
   "source": [
    "set(df_partner_ii.columns.str.lower()).intersection(\n",
    "    set(df_partner_i.columns.str.lower())\n",
    ")"
   ]
  },
  {
   "cell_type": "markdown",
   "metadata": {},
   "source": [
    "# Baseline Model"
   ]
  },
  {
   "cell_type": "markdown",
   "metadata": {},
   "source": [
    "# Linear Regression"
   ]
  },
  {
   "cell_type": "code",
   "execution_count": 215,
   "metadata": {},
   "outputs": [
    {
     "data": {
      "application/javascript": [
       "\n",
       "            setTimeout(function() {\n",
       "                var nbb_cell_id = 215;\n",
       "                var nbb_unformatted_code = \"COMMON_FEATURES = [\\n    \\\"cao\\\",\\n    \\\"sio2\\\",\\n    \\\"al2o3\\\",\\n    \\\"fe2o3\\\",\\n    \\\"aluminate\\\",\\n    \\\"na2o\\\",\\n    \\\"mgo\\\",\\n    \\\"so3\\\",\\n    \\\"ferrite\\\",\\n    \\\"k2o\\\",\\n]\";\n",
       "                var nbb_formatted_code = \"COMMON_FEATURES = [\\n    \\\"cao\\\",\\n    \\\"sio2\\\",\\n    \\\"al2o3\\\",\\n    \\\"fe2o3\\\",\\n    \\\"aluminate\\\",\\n    \\\"na2o\\\",\\n    \\\"mgo\\\",\\n    \\\"so3\\\",\\n    \\\"ferrite\\\",\\n    \\\"k2o\\\",\\n]\";\n",
       "                var nbb_cells = Jupyter.notebook.get_cells();\n",
       "                for (var i = 0; i < nbb_cells.length; ++i) {\n",
       "                    if (nbb_cells[i].input_prompt_number == nbb_cell_id) {\n",
       "                        if (nbb_cells[i].get_text() == nbb_unformatted_code) {\n",
       "                             nbb_cells[i].set_text(nbb_formatted_code);\n",
       "                        }\n",
       "                        break;\n",
       "                    }\n",
       "                }\n",
       "            }, 500);\n",
       "            "
      ],
      "text/plain": [
       "<IPython.core.display.Javascript object>"
      ]
     },
     "metadata": {},
     "output_type": "display_data"
    }
   ],
   "source": [
    "COMMON_FEATURES = [\n",
    "    \"cao\",\n",
    "    \"sio2\",\n",
    "    \"al2o3\",\n",
    "    \"fe2o3\",\n",
    "    \"aluminate\",\n",
    "    \"na2o\",\n",
    "    \"mgo\",\n",
    "    \"so3\",\n",
    "    \"ferrite\",\n",
    "    \"k2o\",\n",
    "]"
   ]
  },
  {
   "cell_type": "markdown",
   "metadata": {},
   "source": [
    "# partner_ii"
   ]
  },
  {
   "cell_type": "code",
   "execution_count": 218,
   "metadata": {},
   "outputs": [
    {
     "data": {
      "application/javascript": [
       "\n",
       "            setTimeout(function() {\n",
       "                var nbb_cell_id = 218;\n",
       "                var nbb_unformatted_code = \"df_partner_ii = pd.read_csv(\\\"../../../../data/processed/partner_ii/cement-shipping.csv\\\")\\ndf_no_cs = df_partner_ii.drop(\\n    [\\\"strength_1d\\\", \\\"strength_3d\\\", \\\"strength_7d\\\"],\\n    axis=1,\\n).copy()\\ny = df_no_cs.pop(\\\"strength_28d\\\")\\nx = df_no_cs.rename({\\\"sample_date\\\": \\\"date\\\"}, axis=1)\\n\\nx.columns = x.columns.str.lower()\\nx = x[COMMON_FEATURES]\";\n",
       "                var nbb_formatted_code = \"df_partner_ii = pd.read_csv(\\\"../../../../data/processed/partner_ii/cement-shipping.csv\\\")\\ndf_no_cs = df_partner_ii.drop(\\n    [\\\"strength_1d\\\", \\\"strength_3d\\\", \\\"strength_7d\\\"],\\n    axis=1,\\n).copy()\\ny = df_no_cs.pop(\\\"strength_28d\\\")\\nx = df_no_cs.rename({\\\"sample_date\\\": \\\"date\\\"}, axis=1)\\n\\nx.columns = x.columns.str.lower()\\nx = x[COMMON_FEATURES]\";\n",
       "                var nbb_cells = Jupyter.notebook.get_cells();\n",
       "                for (var i = 0; i < nbb_cells.length; ++i) {\n",
       "                    if (nbb_cells[i].input_prompt_number == nbb_cell_id) {\n",
       "                        if (nbb_cells[i].get_text() == nbb_unformatted_code) {\n",
       "                             nbb_cells[i].set_text(nbb_formatted_code);\n",
       "                        }\n",
       "                        break;\n",
       "                    }\n",
       "                }\n",
       "            }, 500);\n",
       "            "
      ],
      "text/plain": [
       "<IPython.core.display.Javascript object>"
      ]
     },
     "metadata": {},
     "output_type": "display_data"
    }
   ],
   "source": [
    "df_partner_ii = pd.read_csv(\"../../../../data/processed/partner_ii/cement-shipping.csv\")\n",
    "df_no_cs = df_partner_ii.drop(\n",
    "    [\"strength_1d\", \"strength_3d\", \"strength_7d\"],\n",
    "    axis=1,\n",
    ").copy()\n",
    "y = df_no_cs.pop(\"strength_28d\")\n",
    "x = df_no_cs.rename({\"sample_date\": \"date\"}, axis=1)\n",
    "\n",
    "x.columns = x.columns.str.lower()\n",
    "x = x[COMMON_FEATURES]"
   ]
  },
  {
   "cell_type": "code",
   "execution_count": 219,
   "metadata": {},
   "outputs": [
    {
     "name": "stdout",
     "output_type": "stream",
     "text": [
      "Repeated Cross Validation:\n",
      "Repeats: 10\n",
      "n_splits: 10\n",
      "\n",
      "******\n",
      "[TRAIN]\n",
      "******\n",
      "RMSE: 2.708 (0.023)\n",
      "MAE: 2.159 (0.018)\n",
      "MAPE: 0.050 (0.000)\n",
      "R2: 0.413 (0.009)\n",
      "\n",
      "======================\n",
      "\n",
      "******\n",
      "[TEST]\n",
      "******\n",
      "RMSE: 2.764 (0.231)\n",
      "MAE: 2.190 (0.156)\n",
      "MAPE: 0.051 (0.004)\n",
      "R2: 0.375 (0.104)\n",
      "\n",
      "======================\n",
      "\n"
     ]
    },
    {
     "data": {
      "application/javascript": [
       "\n",
       "            setTimeout(function() {\n",
       "                var nbb_cell_id = 219;\n",
       "                var nbb_unformatted_code = \"repeats = 10\\nn_splits = 10\\nset_seeds()\\npipeline = Pipeline(\\n    [(\\\"transformer\\\", StandardScaler()), (\\\"estimator\\\", LinearRegression())]\\n)\\ncv = RepeatedKFold(n_splits=n_splits, n_repeats=repeats, random_state=SEED)\\nscores = cross_validate(\\n    pipeline,\\n    x,\\n    y,\\n    scoring=METRICS,\\n    cv=cv,\\n    n_jobs=-1,\\n    return_train_score=True,\\n)\\n# scores = np.abs(scores)\\nprint(\\\"Repeated Cross Validation:\\\")\\nprint(f\\\"Repeats: {repeats}\\\")\\nprint(f\\\"n_splits: {n_splits}\\\")\\nprint()\\nprint_scores(scores, METRICS, METRICS_DICT)\";\n",
       "                var nbb_formatted_code = \"repeats = 10\\nn_splits = 10\\nset_seeds()\\npipeline = Pipeline(\\n    [(\\\"transformer\\\", StandardScaler()), (\\\"estimator\\\", LinearRegression())]\\n)\\ncv = RepeatedKFold(n_splits=n_splits, n_repeats=repeats, random_state=SEED)\\nscores = cross_validate(\\n    pipeline,\\n    x,\\n    y,\\n    scoring=METRICS,\\n    cv=cv,\\n    n_jobs=-1,\\n    return_train_score=True,\\n)\\n# scores = np.abs(scores)\\nprint(\\\"Repeated Cross Validation:\\\")\\nprint(f\\\"Repeats: {repeats}\\\")\\nprint(f\\\"n_splits: {n_splits}\\\")\\nprint()\\nprint_scores(scores, METRICS, METRICS_DICT)\";\n",
       "                var nbb_cells = Jupyter.notebook.get_cells();\n",
       "                for (var i = 0; i < nbb_cells.length; ++i) {\n",
       "                    if (nbb_cells[i].input_prompt_number == nbb_cell_id) {\n",
       "                        if (nbb_cells[i].get_text() == nbb_unformatted_code) {\n",
       "                             nbb_cells[i].set_text(nbb_formatted_code);\n",
       "                        }\n",
       "                        break;\n",
       "                    }\n",
       "                }\n",
       "            }, 500);\n",
       "            "
      ],
      "text/plain": [
       "<IPython.core.display.Javascript object>"
      ]
     },
     "metadata": {},
     "output_type": "display_data"
    }
   ],
   "source": [
    "repeats = 10\n",
    "n_splits = 10\n",
    "set_seeds()\n",
    "pipeline = Pipeline(\n",
    "    [(\"transformer\", StandardScaler()), (\"estimator\", LinearRegression())]\n",
    ")\n",
    "cv = RepeatedKFold(n_splits=n_splits, n_repeats=repeats, random_state=SEED)\n",
    "scores = cross_validate(\n",
    "    pipeline,\n",
    "    x,\n",
    "    y,\n",
    "    scoring=METRICS,\n",
    "    cv=cv,\n",
    "    n_jobs=-1,\n",
    "    return_train_score=True,\n",
    ")\n",
    "# scores = np.abs(scores)\n",
    "print(\"Repeated Cross Validation:\")\n",
    "print(f\"Repeats: {repeats}\")\n",
    "print(f\"n_splits: {n_splits}\")\n",
    "print()\n",
    "print_scores(scores, METRICS, METRICS_DICT)"
   ]
  },
  {
   "cell_type": "markdown",
   "metadata": {},
   "source": [
    "# Pre Trainning"
   ]
  },
  {
   "cell_type": "markdown",
   "metadata": {},
   "source": [
    "# partner_i"
   ]
  },
  {
   "cell_type": "code",
   "execution_count": 107,
   "metadata": {},
   "outputs": [
    {
     "data": {
      "application/javascript": [
       "\n",
       "            setTimeout(function() {\n",
       "                var nbb_cell_id = 107;\n",
       "                var nbb_unformatted_code = \"batch_size = 32\\nepochs = 200\\nverbose = 1\";\n",
       "                var nbb_formatted_code = \"batch_size = 32\\nepochs = 200\\nverbose = 1\";\n",
       "                var nbb_cells = Jupyter.notebook.get_cells();\n",
       "                for (var i = 0; i < nbb_cells.length; ++i) {\n",
       "                    if (nbb_cells[i].input_prompt_number == nbb_cell_id) {\n",
       "                        if (nbb_cells[i].get_text() == nbb_unformatted_code) {\n",
       "                             nbb_cells[i].set_text(nbb_formatted_code);\n",
       "                        }\n",
       "                        break;\n",
       "                    }\n",
       "                }\n",
       "            }, 500);\n",
       "            "
      ],
      "text/plain": [
       "<IPython.core.display.Javascript object>"
      ]
     },
     "metadata": {},
     "output_type": "display_data"
    }
   ],
   "source": [
    "batch_size = 32\n",
    "epochs = 200\n",
    "verbose = 1"
   ]
  },
  {
   "cell_type": "code",
   "execution_count": 108,
   "metadata": {},
   "outputs": [
    {
     "data": {
      "application/javascript": [
       "\n",
       "            setTimeout(function() {\n",
       "                var nbb_cell_id = 108;\n",
       "                var nbb_unformatted_code = \"COMMON_FEATURES = [\\n    \\\"cao\\\",\\n    \\\"sio2\\\",\\n    \\\"al2o3\\\",\\n    \\\"fe2o3\\\",\\n    \\\"aluminate\\\",\\n    \\\"na2o\\\",\\n    \\\"mgo\\\",\\n    \\\"so3\\\",\\n    \\\"ferrite\\\",\\n    \\\"k2o\\\",\\n]\";\n",
       "                var nbb_formatted_code = \"COMMON_FEATURES = [\\n    \\\"cao\\\",\\n    \\\"sio2\\\",\\n    \\\"al2o3\\\",\\n    \\\"fe2o3\\\",\\n    \\\"aluminate\\\",\\n    \\\"na2o\\\",\\n    \\\"mgo\\\",\\n    \\\"so3\\\",\\n    \\\"ferrite\\\",\\n    \\\"k2o\\\",\\n]\";\n",
       "                var nbb_cells = Jupyter.notebook.get_cells();\n",
       "                for (var i = 0; i < nbb_cells.length; ++i) {\n",
       "                    if (nbb_cells[i].input_prompt_number == nbb_cell_id) {\n",
       "                        if (nbb_cells[i].get_text() == nbb_unformatted_code) {\n",
       "                             nbb_cells[i].set_text(nbb_formatted_code);\n",
       "                        }\n",
       "                        break;\n",
       "                    }\n",
       "                }\n",
       "            }, 500);\n",
       "            "
      ],
      "text/plain": [
       "<IPython.core.display.Javascript object>"
      ]
     },
     "metadata": {},
     "output_type": "display_data"
    }
   ],
   "source": [
    "COMMON_FEATURES = [\n",
    "    \"cao\",\n",
    "    \"sio2\",\n",
    "    \"al2o3\",\n",
    "    \"fe2o3\",\n",
    "    \"aluminate\",\n",
    "    \"na2o\",\n",
    "    \"mgo\",\n",
    "    \"so3\",\n",
    "    \"ferrite\",\n",
    "    \"k2o\",\n",
    "]"
   ]
  },
  {
   "cell_type": "code",
   "execution_count": 220,
   "metadata": {},
   "outputs": [
    {
     "data": {
      "application/javascript": [
       "\n",
       "            setTimeout(function() {\n",
       "                var nbb_cell_id = 220;\n",
       "                var nbb_unformatted_code = \"df_partner_i = pd.read_csv(\\n    \\\"../../../../data/processed/partner_i-Oficial/cement-shipping.csv\\\"\\n)\";\n",
       "                var nbb_formatted_code = \"df_partner_i = pd.read_csv(\\n    \\\"../../../../data/processed/partner_i-Oficial/cement-shipping.csv\\\"\\n)\";\n",
       "                var nbb_cells = Jupyter.notebook.get_cells();\n",
       "                for (var i = 0; i < nbb_cells.length; ++i) {\n",
       "                    if (nbb_cells[i].input_prompt_number == nbb_cell_id) {\n",
       "                        if (nbb_cells[i].get_text() == nbb_unformatted_code) {\n",
       "                             nbb_cells[i].set_text(nbb_formatted_code);\n",
       "                        }\n",
       "                        break;\n",
       "                    }\n",
       "                }\n",
       "            }, 500);\n",
       "            "
      ],
      "text/plain": [
       "<IPython.core.display.Javascript object>"
      ]
     },
     "metadata": {},
     "output_type": "display_data"
    }
   ],
   "source": [
    "df_partner_i = pd.read_csv(\n",
    "    \"../../../../data/processed/partner_i-Oficial/cement-shipping.csv\"\n",
    ")"
   ]
  },
  {
   "cell_type": "code",
   "execution_count": 221,
   "metadata": {},
   "outputs": [
    {
     "data": {
      "application/javascript": [
       "\n",
       "            setTimeout(function() {\n",
       "                var nbb_cell_id = 221;\n",
       "                var nbb_unformatted_code = \"df_partner_i = df_partner_i.drop(\\n    [\\n        \\\"1 day Compressive strength\\\",\\n        \\\"3 day Compressive strength\\\",\\n        \\\"7 day Compressive strength\\\",\\n    ],\\n    axis=1,\\n).copy()\\n\\ny = df_partner_i.pop(\\\"28 day Compressive strength\\\")\\nx = df_partner_i.drop([\\\"Date\\\"], axis=1)\\nx.columns = x.columns.str.lower()\\nx = x[COMMON_FEATURES]\\n\\nx_train, x_test, y_train, y_test = train_test_split(\\n    x, y, test_size=0.2, random_state=SEED, shuffle=False\\n)\";\n",
       "                var nbb_formatted_code = \"df_partner_i = df_partner_i.drop(\\n    [\\n        \\\"1 day Compressive strength\\\",\\n        \\\"3 day Compressive strength\\\",\\n        \\\"7 day Compressive strength\\\",\\n    ],\\n    axis=1,\\n).copy()\\n\\ny = df_partner_i.pop(\\\"28 day Compressive strength\\\")\\nx = df_partner_i.drop([\\\"Date\\\"], axis=1)\\nx.columns = x.columns.str.lower()\\nx = x[COMMON_FEATURES]\\n\\nx_train, x_test, y_train, y_test = train_test_split(\\n    x, y, test_size=0.2, random_state=SEED, shuffle=False\\n)\";\n",
       "                var nbb_cells = Jupyter.notebook.get_cells();\n",
       "                for (var i = 0; i < nbb_cells.length; ++i) {\n",
       "                    if (nbb_cells[i].input_prompt_number == nbb_cell_id) {\n",
       "                        if (nbb_cells[i].get_text() == nbb_unformatted_code) {\n",
       "                             nbb_cells[i].set_text(nbb_formatted_code);\n",
       "                        }\n",
       "                        break;\n",
       "                    }\n",
       "                }\n",
       "            }, 500);\n",
       "            "
      ],
      "text/plain": [
       "<IPython.core.display.Javascript object>"
      ]
     },
     "metadata": {},
     "output_type": "display_data"
    }
   ],
   "source": [
    "df_partner_i = df_partner_i.drop(\n",
    "    [\n",
    "        \"1 day Compressive strength\",\n",
    "        \"3 day Compressive strength\",\n",
    "        \"7 day Compressive strength\",\n",
    "    ],\n",
    "    axis=1,\n",
    ").copy()\n",
    "\n",
    "y = df_partner_i.pop(\"28 day Compressive strength\")\n",
    "x = df_partner_i.drop([\"Date\"], axis=1)\n",
    "x.columns = x.columns.str.lower()\n",
    "x = x[COMMON_FEATURES]\n",
    "\n",
    "x_train, x_test, y_train, y_test = train_test_split(\n",
    "    x, y, test_size=0.2, random_state=SEED, shuffle=False\n",
    ")"
   ]
  },
  {
   "cell_type": "code",
   "execution_count": 222,
   "metadata": {},
   "outputs": [
    {
     "name": "stdout",
     "output_type": "stream",
     "text": [
      "Epoch 1/200\n",
      "31/31 [==============================] - 0s 1ms/step - loss: 1871.0724 - RMSE: 43.2559\n",
      "Epoch 2/200\n",
      "31/31 [==============================] - 0s 2ms/step - loss: 1800.9491 - RMSE: 42.4376\n",
      "Epoch 3/200\n",
      "31/31 [==============================] - 0s 2ms/step - loss: 1674.8539 - RMSE: 40.9250\n",
      "Epoch 4/200\n",
      "31/31 [==============================] - 0s 2ms/step - loss: 1463.4191 - RMSE: 38.2547\n",
      "Epoch 5/200\n",
      "31/31 [==============================] - 0s 2ms/step - loss: 1140.9330 - RMSE: 33.7777\n",
      "Epoch 6/200\n",
      "31/31 [==============================] - 0s 2ms/step - loss: 719.6006 - RMSE: 26.8254\n",
      "Epoch 7/200\n",
      "31/31 [==============================] - 0s 2ms/step - loss: 334.0667 - RMSE: 18.2775\n",
      "Epoch 8/200\n",
      "31/31 [==============================] - 0s 2ms/step - loss: 118.7027 - RMSE: 10.8951\n",
      "Epoch 9/200\n",
      "31/31 [==============================] - 0s 2ms/step - loss: 57.9748 - RMSE: 7.6141\n",
      "Epoch 10/200\n",
      "31/31 [==============================] - 0s 2ms/step - loss: 49.9634 - RMSE: 7.0685\n",
      "Epoch 11/200\n",
      "31/31 [==============================] - 0s 2ms/step - loss: 48.8979 - RMSE: 6.9927\n",
      "Epoch 12/200\n",
      "31/31 [==============================] - 0s 2ms/step - loss: 47.8551 - RMSE: 6.9177\n",
      "Epoch 13/200\n",
      "31/31 [==============================] - 0s 2ms/step - loss: 49.4353 - RMSE: 7.0310\n",
      "Epoch 14/200\n",
      "31/31 [==============================] - 0s 2ms/step - loss: 49.7769 - RMSE: 7.0553\n",
      "Epoch 15/200\n",
      "31/31 [==============================] - 0s 2ms/step - loss: 47.7427 - RMSE: 6.9096\n",
      "Epoch 16/200\n",
      "31/31 [==============================] - 0s 3ms/step - loss: 45.4111 - RMSE: 6.7388\n",
      "Epoch 17/200\n",
      "31/31 [==============================] - 0s 3ms/step - loss: 47.1469 - RMSE: 6.8664\n",
      "Epoch 18/200\n",
      "31/31 [==============================] - 0s 2ms/step - loss: 41.8896 - RMSE: 6.4722\n",
      "Epoch 19/200\n",
      "31/31 [==============================] - 0s 2ms/step - loss: 46.3766 - RMSE: 6.8100\n",
      "Epoch 20/200\n",
      "31/31 [==============================] - 0s 2ms/step - loss: 46.0193 - RMSE: 6.7838\n",
      "Epoch 21/200\n",
      "31/31 [==============================] - 0s 2ms/step - loss: 44.8730 - RMSE: 6.6987\n",
      "Epoch 22/200\n",
      "31/31 [==============================] - 0s 2ms/step - loss: 42.0628 - RMSE: 6.4856\n",
      "Epoch 23/200\n",
      "31/31 [==============================] - 0s 2ms/step - loss: 43.3273 - RMSE: 6.5823\n",
      "Epoch 24/200\n",
      "31/31 [==============================] - 0s 3ms/step - loss: 44.2501 - RMSE: 6.6521\n",
      "Epoch 25/200\n",
      "31/31 [==============================] - 0s 3ms/step - loss: 42.0157 - RMSE: 6.4820\n",
      "Epoch 26/200\n",
      "31/31 [==============================] - 0s 2ms/step - loss: 40.7205 - RMSE: 6.3813\n",
      "Epoch 27/200\n",
      "31/31 [==============================] - 0s 3ms/step - loss: 41.5292 - RMSE: 6.4443\n",
      "Epoch 28/200\n",
      "31/31 [==============================] - 0s 2ms/step - loss: 43.8831 - RMSE: 6.6244\n",
      "Epoch 29/200\n",
      "31/31 [==============================] - 0s 2ms/step - loss: 39.7906 - RMSE: 6.3080\n",
      "Epoch 30/200\n",
      "31/31 [==============================] - 0s 2ms/step - loss: 38.3758 - RMSE: 6.1948\n",
      "Epoch 31/200\n",
      "31/31 [==============================] - 0s 2ms/step - loss: 37.6258 - RMSE: 6.1340\n",
      "Epoch 32/200\n",
      "31/31 [==============================] - 0s 3ms/step - loss: 36.2732 - RMSE: 6.0227\n",
      "Epoch 33/200\n",
      "31/31 [==============================] - 0s 2ms/step - loss: 38.3547 - RMSE: 6.1931\n",
      "Epoch 34/200\n",
      "31/31 [==============================] - 0s 2ms/step - loss: 37.8537 - RMSE: 6.1525\n",
      "Epoch 35/200\n",
      "31/31 [==============================] - 0s 2ms/step - loss: 37.2380 - RMSE: 6.1023\n",
      "Epoch 36/200\n",
      "31/31 [==============================] - 0s 2ms/step - loss: 40.2405 - RMSE: 6.3435\n",
      "Epoch 37/200\n",
      "31/31 [==============================] - 0s 2ms/step - loss: 35.9553 - RMSE: 5.9963\n",
      "Epoch 38/200\n",
      "31/31 [==============================] - 0s 2ms/step - loss: 34.1667 - RMSE: 5.8452\n",
      "Epoch 39/200\n",
      "31/31 [==============================] - 0s 2ms/step - loss: 37.3473 - RMSE: 6.1112\n",
      "Epoch 40/200\n",
      "31/31 [==============================] - 0s 2ms/step - loss: 38.2538 - RMSE: 6.1850\n",
      "Epoch 41/200\n",
      "31/31 [==============================] - 0s 2ms/step - loss: 36.8293 - RMSE: 6.0687\n",
      "Epoch 42/200\n",
      "31/31 [==============================] - 0s 1ms/step - loss: 35.8472 - RMSE: 5.9873\n",
      "Epoch 43/200\n",
      "31/31 [==============================] - 0s 1ms/step - loss: 37.2601 - RMSE: 6.1041\n",
      "Epoch 44/200\n",
      "31/31 [==============================] - 0s 1ms/step - loss: 34.7950 - RMSE: 5.8987\n",
      "Epoch 45/200\n",
      "31/31 [==============================] - 0s 2ms/step - loss: 32.2167 - RMSE: 5.6760\n",
      "Epoch 46/200\n",
      "31/31 [==============================] - 0s 2ms/step - loss: 33.5394 - RMSE: 5.7913\n",
      "Epoch 47/200\n",
      "31/31 [==============================] - 0s 2ms/step - loss: 31.9705 - RMSE: 5.6542\n",
      "Epoch 48/200\n",
      "31/31 [==============================] - 0s 1ms/step - loss: 34.2868 - RMSE: 5.8555\n",
      "Epoch 49/200\n",
      "31/31 [==============================] - 0s 2ms/step - loss: 33.3492 - RMSE: 5.7749\n",
      "Epoch 50/200\n",
      "31/31 [==============================] - 0s 2ms/step - loss: 35.4942 - RMSE: 5.9577\n",
      "Epoch 51/200\n",
      "31/31 [==============================] - 0s 2ms/step - loss: 33.8443 - RMSE: 5.8176\n",
      "Epoch 52/200\n",
      "31/31 [==============================] - 0s 2ms/step - loss: 32.9817 - RMSE: 5.7430\n",
      "Epoch 53/200\n",
      "31/31 [==============================] - 0s 3ms/step - loss: 32.6350 - RMSE: 5.7127\n",
      "Epoch 54/200\n",
      "31/31 [==============================] - 0s 3ms/step - loss: 37.0421 - RMSE: 6.0862\n",
      "Epoch 55/200\n",
      "31/31 [==============================] - 0s 2ms/step - loss: 32.2247 - RMSE: 5.6767\n",
      "Epoch 56/200\n",
      "31/31 [==============================] - 0s 2ms/step - loss: 34.9554 - RMSE: 5.9123\n",
      "Epoch 57/200\n",
      "31/31 [==============================] - 0s 2ms/step - loss: 31.2681 - RMSE: 5.5918\n",
      "Epoch 58/200\n",
      "31/31 [==============================] - 0s 2ms/step - loss: 32.7857 - RMSE: 5.7259\n",
      "Epoch 59/200\n",
      "31/31 [==============================] - 0s 2ms/step - loss: 36.7541 - RMSE: 6.0625\n",
      "Epoch 60/200\n",
      "31/31 [==============================] - 0s 2ms/step - loss: 33.5607 - RMSE: 5.7932\n",
      "Epoch 61/200\n",
      "31/31 [==============================] - 0s 2ms/step - loss: 33.0012 - RMSE: 5.7447\n",
      "Epoch 62/200\n",
      "31/31 [==============================] - 0s 2ms/step - loss: 30.7859 - RMSE: 5.5485\n",
      "Epoch 63/200\n",
      "31/31 [==============================] - 0s 2ms/step - loss: 33.6997 - RMSE: 5.8051\n",
      "Epoch 64/200\n",
      "31/31 [==============================] - 0s 2ms/step - loss: 32.1328 - RMSE: 5.6686\n",
      "Epoch 65/200\n",
      "31/31 [==============================] - 0s 2ms/step - loss: 35.5577 - RMSE: 5.9630\n",
      "Epoch 66/200\n",
      "31/31 [==============================] - 0s 3ms/step - loss: 31.5987 - RMSE: 5.6213\n",
      "Epoch 67/200\n",
      "31/31 [==============================] - 0s 2ms/step - loss: 33.5993 - RMSE: 5.7965\n",
      "Epoch 68/200\n",
      "31/31 [==============================] - 0s 2ms/step - loss: 35.1558 - RMSE: 5.9292\n",
      "Epoch 69/200\n",
      "31/31 [==============================] - 0s 2ms/step - loss: 32.1523 - RMSE: 5.6703\n",
      "Epoch 70/200\n",
      "31/31 [==============================] - 0s 2ms/step - loss: 34.9332 - RMSE: 5.9104\n",
      "Epoch 71/200\n",
      "31/31 [==============================] - 0s 2ms/step - loss: 34.4565 - RMSE: 5.8700\n",
      "Epoch 72/200\n",
      "31/31 [==============================] - 0s 2ms/step - loss: 32.4339 - RMSE: 5.6951\n",
      "Epoch 73/200\n",
      "31/31 [==============================] - 0s 2ms/step - loss: 33.3367 - RMSE: 5.7738\n",
      "Epoch 74/200\n",
      "31/31 [==============================] - 0s 3ms/step - loss: 32.8098 - RMSE: 5.7280\n",
      "Epoch 75/200\n",
      "31/31 [==============================] - 0s 2ms/step - loss: 30.6916 - RMSE: 5.5400\n",
      "Epoch 76/200\n",
      "31/31 [==============================] - 0s 2ms/step - loss: 32.7503 - RMSE: 5.7228\n",
      "Epoch 77/200\n",
      "31/31 [==============================] - 0s 2ms/step - loss: 33.7639 - RMSE: 5.8107\n",
      "Epoch 78/200\n",
      "31/31 [==============================] - 0s 2ms/step - loss: 35.3561 - RMSE: 5.9461\n",
      "Epoch 79/200\n",
      "31/31 [==============================] - 0s 2ms/step - loss: 33.4457 - RMSE: 5.7832\n",
      "Epoch 80/200\n",
      "31/31 [==============================] - 0s 2ms/step - loss: 34.0355 - RMSE: 5.8340\n",
      "Epoch 81/200\n",
      "31/31 [==============================] - 0s 3ms/step - loss: 32.6405 - RMSE: 5.7132\n",
      "Epoch 82/200\n",
      "31/31 [==============================] - 0s 2ms/step - loss: 31.5854 - RMSE: 5.6201\n",
      "Epoch 83/200\n",
      "31/31 [==============================] - 0s 2ms/step - loss: 35.0856 - RMSE: 5.9233\n",
      "Epoch 84/200\n",
      "31/31 [==============================] - 0s 2ms/step - loss: 32.4676 - RMSE: 5.6980\n",
      "Epoch 85/200\n"
     ]
    },
    {
     "name": "stdout",
     "output_type": "stream",
     "text": [
      "31/31 [==============================] - 0s 3ms/step - loss: 31.7679 - RMSE: 5.6363\n",
      "Epoch 86/200\n",
      "31/31 [==============================] - 0s 3ms/step - loss: 32.8361 - RMSE: 5.7303\n",
      "Epoch 87/200\n",
      "31/31 [==============================] - 0s 2ms/step - loss: 33.2445 - RMSE: 5.7658\n",
      "Epoch 88/200\n",
      "31/31 [==============================] - 0s 2ms/step - loss: 31.2931 - RMSE: 5.5940\n",
      "Epoch 89/200\n",
      "31/31 [==============================] - 0s 2ms/step - loss: 34.3905 - RMSE: 5.8643\n",
      "Epoch 90/200\n",
      "31/31 [==============================] - 0s 2ms/step - loss: 34.5654 - RMSE: 5.8792\n",
      "Epoch 91/200\n",
      "31/31 [==============================] - 0s 2ms/step - loss: 32.1778 - RMSE: 5.6725\n",
      "Epoch 92/200\n",
      "31/31 [==============================] - 0s 2ms/step - loss: 30.2343 - RMSE: 5.4986\n",
      "Epoch 93/200\n",
      "31/31 [==============================] - 0s 3ms/step - loss: 32.1305 - RMSE: 5.6684\n",
      "Epoch 94/200\n",
      "31/31 [==============================] - 0s 2ms/step - loss: 33.1695 - RMSE: 5.7593\n",
      "Epoch 95/200\n",
      "31/31 [==============================] - 0s 2ms/step - loss: 32.5651 - RMSE: 5.7066\n",
      "Epoch 96/200\n",
      "31/31 [==============================] - 0s 2ms/step - loss: 31.4953 - RMSE: 5.6121\n",
      "Epoch 97/200\n",
      "31/31 [==============================] - 0s 2ms/step - loss: 34.0053 - RMSE: 5.8314\n",
      "Epoch 98/200\n",
      "31/31 [==============================] - 0s 2ms/step - loss: 31.4326 - RMSE: 5.6065\n",
      "Epoch 99/200\n",
      "31/31 [==============================] - 0s 2ms/step - loss: 31.4999 - RMSE: 5.6125\n",
      "Epoch 100/200\n",
      "31/31 [==============================] - 0s 2ms/step - loss: 33.7806 - RMSE: 5.8121\n",
      "Epoch 101/200\n",
      "31/31 [==============================] - 0s 3ms/step - loss: 32.5612 - RMSE: 5.7062\n",
      "Epoch 102/200\n",
      "31/31 [==============================] - 0s 3ms/step - loss: 32.4622 - RMSE: 5.6976\n",
      "Epoch 103/200\n",
      "31/31 [==============================] - 0s 2ms/step - loss: 32.1131 - RMSE: 5.6668\n",
      "Epoch 104/200\n",
      "31/31 [==============================] - 0s 3ms/step - loss: 32.3084 - RMSE: 5.6841\n",
      "Epoch 105/200\n",
      "31/31 [==============================] - 0s 2ms/step - loss: 33.9307 - RMSE: 5.8250\n",
      "Epoch 106/200\n",
      "31/31 [==============================] - 0s 2ms/step - loss: 28.6076 - RMSE: 5.3486\n",
      "Epoch 107/200\n",
      "31/31 [==============================] - 0s 2ms/step - loss: 32.8094 - RMSE: 5.7280\n",
      "Epoch 108/200\n",
      "31/31 [==============================] - 0s 2ms/step - loss: 32.1749 - RMSE: 5.6723\n",
      "Epoch 109/200\n",
      "31/31 [==============================] - 0s 2ms/step - loss: 30.7156 - RMSE: 5.5422\n",
      "Epoch 110/200\n",
      "31/31 [==============================] - 0s 2ms/step - loss: 33.8602 - RMSE: 5.8189\n",
      "Epoch 111/200\n",
      "31/31 [==============================] - 0s 2ms/step - loss: 31.8381 - RMSE: 5.6425\n",
      "Epoch 112/200\n",
      "31/31 [==============================] - 0s 2ms/step - loss: 32.2415 - RMSE: 5.6782\n",
      "Epoch 113/200\n",
      "31/31 [==============================] - 0s 2ms/step - loss: 33.2151 - RMSE: 5.7633\n",
      "Epoch 114/200\n",
      "31/31 [==============================] - 0s 2ms/step - loss: 31.2977 - RMSE: 5.5944\n",
      "Epoch 115/200\n",
      "31/31 [==============================] - 0s 2ms/step - loss: 30.5219 - RMSE: 5.5247\n",
      "Epoch 116/200\n",
      "31/31 [==============================] - 0s 2ms/step - loss: 30.7198 - RMSE: 5.5425\n",
      "Epoch 117/200\n",
      "31/31 [==============================] - 0s 3ms/step - loss: 34.3812 - RMSE: 5.8636\n",
      "Epoch 118/200\n",
      "31/31 [==============================] - 0s 3ms/step - loss: 31.5137 - RMSE: 5.6137\n",
      "Epoch 119/200\n",
      "31/31 [==============================] - 0s 2ms/step - loss: 33.8565 - RMSE: 5.8186\n",
      "Epoch 120/200\n",
      "31/31 [==============================] - 0s 2ms/step - loss: 30.2688 - RMSE: 5.5017\n",
      "Epoch 121/200\n",
      "31/31 [==============================] - 0s 2ms/step - loss: 32.7229 - RMSE: 5.7204\n",
      "Epoch 122/200\n",
      "31/31 [==============================] - 0s 2ms/step - loss: 33.6554 - RMSE: 5.8013\n",
      "Epoch 123/200\n",
      "31/31 [==============================] - 0s 2ms/step - loss: 30.1534 - RMSE: 5.4912\n",
      "Epoch 124/200\n",
      "31/31 [==============================] - 0s 2ms/step - loss: 32.6405 - RMSE: 5.7132\n",
      "Epoch 125/200\n",
      "31/31 [==============================] - 0s 2ms/step - loss: 34.5617 - RMSE: 5.8789\n",
      "Epoch 126/200\n",
      "31/31 [==============================] - 0s 2ms/step - loss: 31.8293 - RMSE: 5.6417\n",
      "Epoch 127/200\n",
      "31/31 [==============================] - 0s 2ms/step - loss: 32.3552 - RMSE: 5.6882\n",
      "Epoch 128/200\n",
      "31/31 [==============================] - 0s 2ms/step - loss: 31.2131 - RMSE: 5.5869\n",
      "Epoch 129/200\n",
      "31/31 [==============================] - 0s 2ms/step - loss: 32.8354 - RMSE: 5.7302\n",
      "Epoch 130/200\n",
      "31/31 [==============================] - 0s 2ms/step - loss: 30.7344 - RMSE: 5.5439\n",
      "Epoch 131/200\n",
      "31/31 [==============================] - 0s 2ms/step - loss: 30.2937 - RMSE: 5.5040\n",
      "Epoch 132/200\n",
      "31/31 [==============================] - 0s 2ms/step - loss: 31.3390 - RMSE: 5.5981\n",
      "Epoch 133/200\n",
      "31/31 [==============================] - 0s 2ms/step - loss: 31.2761 - RMSE: 5.5925\n",
      "Epoch 134/200\n",
      "31/31 [==============================] - 0s 2ms/step - loss: 30.8849 - RMSE: 5.5574\n",
      "Epoch 135/200\n",
      "31/31 [==============================] - 0s 2ms/step - loss: 31.8879 - RMSE: 5.6469\n",
      "Epoch 136/200\n",
      "31/31 [==============================] - 0s 2ms/step - loss: 32.2264 - RMSE: 5.6768\n",
      "Epoch 137/200\n",
      "31/31 [==============================] - 0s 2ms/step - loss: 32.7445 - RMSE: 5.7223\n",
      "Epoch 138/200\n",
      "31/31 [==============================] - 0s 2ms/step - loss: 32.9962 - RMSE: 5.7442\n",
      "Epoch 139/200\n",
      "31/31 [==============================] - 0s 2ms/step - loss: 34.0031 - RMSE: 5.8312\n",
      "Epoch 140/200\n",
      "31/31 [==============================] - 0s 2ms/step - loss: 29.3608 - RMSE: 5.4186\n",
      "Epoch 141/200\n",
      "31/31 [==============================] - 0s 1ms/step - loss: 33.5479 - RMSE: 5.7921\n",
      "Epoch 142/200\n",
      "31/31 [==============================] - 0s 1ms/step - loss: 31.0152 - RMSE: 5.5691\n",
      "Epoch 143/200\n",
      "31/31 [==============================] - 0s 1ms/step - loss: 31.7358 - RMSE: 5.6334\n",
      "Epoch 144/200\n",
      "31/31 [==============================] - 0s 1ms/step - loss: 30.6334 - RMSE: 5.5347\n",
      "Epoch 145/200\n",
      "31/31 [==============================] - 0s 1ms/step - loss: 32.2547 - RMSE: 5.6793\n",
      "Epoch 146/200\n",
      "31/31 [==============================] - 0s 1ms/step - loss: 32.7073 - RMSE: 5.7190\n",
      "Epoch 147/200\n",
      "31/31 [==============================] - 0s 2ms/step - loss: 30.9143 - RMSE: 5.5601\n",
      "Epoch 148/200\n",
      "31/31 [==============================] - 0s 1ms/step - loss: 31.9287 - RMSE: 5.6505\n",
      "Epoch 149/200\n",
      "31/31 [==============================] - 0s 2ms/step - loss: 31.1138 - RMSE: 5.5780\n",
      "Epoch 150/200\n",
      "31/31 [==============================] - 0s 1ms/step - loss: 33.7320 - RMSE: 5.8079\n",
      "Epoch 151/200\n",
      "31/31 [==============================] - 0s 2ms/step - loss: 29.5842 - RMSE: 5.4391\n",
      "Epoch 152/200\n",
      "31/31 [==============================] - 0s 1ms/step - loss: 31.7243 - RMSE: 5.6324\n",
      "Epoch 153/200\n",
      "31/31 [==============================] - 0s 1ms/step - loss: 32.5813 - RMSE: 5.7080\n",
      "Epoch 154/200\n",
      "31/31 [==============================] - 0s 1ms/step - loss: 29.8706 - RMSE: 5.4654\n",
      "Epoch 155/200\n",
      "31/31 [==============================] - 0s 1ms/step - loss: 31.1354 - RMSE: 5.5799\n",
      "Epoch 156/200\n",
      "31/31 [==============================] - 0s 1ms/step - loss: 33.6560 - RMSE: 5.8014\n",
      "Epoch 157/200\n",
      "31/31 [==============================] - 0s 1ms/step - loss: 30.0135 - RMSE: 5.4785\n",
      "Epoch 158/200\n",
      "31/31 [==============================] - 0s 2ms/step - loss: 30.7756 - RMSE: 5.5476\n",
      "Epoch 159/200\n",
      "31/31 [==============================] - 0s 1ms/step - loss: 31.4167 - RMSE: 5.6051\n",
      "Epoch 160/200\n",
      "31/31 [==============================] - 0s 1ms/step - loss: 33.0452 - RMSE: 5.7485\n",
      "Epoch 161/200\n",
      "31/31 [==============================] - 0s 1ms/step - loss: 28.8250 - RMSE: 5.3689\n",
      "Epoch 162/200\n",
      "31/31 [==============================] - 0s 1ms/step - loss: 32.7020 - RMSE: 5.7186\n",
      "Epoch 163/200\n",
      "31/31 [==============================] - 0s 1ms/step - loss: 31.6855 - RMSE: 5.6290\n",
      "Epoch 164/200\n",
      "31/31 [==============================] - 0s 1ms/step - loss: 31.3376 - RMSE: 5.5980\n",
      "Epoch 165/200\n",
      "31/31 [==============================] - 0s 2ms/step - loss: 29.7250 - RMSE: 5.4521\n",
      "Epoch 166/200\n",
      "31/31 [==============================] - 0s 1ms/step - loss: 31.9222 - RMSE: 5.6500\n",
      "Epoch 167/200\n",
      "31/31 [==============================] - 0s 1ms/step - loss: 36.1087 - RMSE: 6.0090\n",
      "Epoch 168/200\n"
     ]
    },
    {
     "name": "stdout",
     "output_type": "stream",
     "text": [
      "31/31 [==============================] - 0s 1ms/step - loss: 32.0951 - RMSE: 5.6653\n",
      "Epoch 169/200\n",
      "31/31 [==============================] - 0s 2ms/step - loss: 29.3351 - RMSE: 5.4162\n",
      "Epoch 170/200\n",
      "31/31 [==============================] - 0s 1ms/step - loss: 30.2796 - RMSE: 5.5027\n",
      "Epoch 171/200\n",
      "31/31 [==============================] - 0s 1ms/step - loss: 30.4289 - RMSE: 5.5162\n",
      "Epoch 172/200\n",
      "31/31 [==============================] - 0s 882us/step - loss: 35.1191 - RMSE: 5.9261\n",
      "Epoch 173/200\n",
      "31/31 [==============================] - 0s 1ms/step - loss: 30.8969 - RMSE: 5.5585\n",
      "Epoch 174/200\n",
      "31/31 [==============================] - 0s 2ms/step - loss: 29.9407 - RMSE: 5.4718\n",
      "Epoch 175/200\n",
      "31/31 [==============================] - 0s 2ms/step - loss: 33.4087 - RMSE: 5.7800\n",
      "Epoch 176/200\n",
      "31/31 [==============================] - 0s 2ms/step - loss: 32.4407 - RMSE: 5.6957\n",
      "Epoch 177/200\n",
      "31/31 [==============================] - 0s 2ms/step - loss: 32.4160 - RMSE: 5.6935\n",
      "Epoch 178/200\n",
      "31/31 [==============================] - 0s 2ms/step - loss: 32.1895 - RMSE: 5.6736\n",
      "Epoch 179/200\n",
      "31/31 [==============================] - 0s 2ms/step - loss: 31.9667 - RMSE: 5.6539\n",
      "Epoch 180/200\n",
      "31/31 [==============================] - 0s 2ms/step - loss: 32.2572 - RMSE: 5.6795\n",
      "Epoch 181/200\n",
      "31/31 [==============================] - 0s 2ms/step - loss: 31.9507 - RMSE: 5.6525\n",
      "Epoch 182/200\n",
      "31/31 [==============================] - 0s 2ms/step - loss: 32.7051 - RMSE: 5.7188\n",
      "Epoch 183/200\n",
      "31/31 [==============================] - 0s 2ms/step - loss: 28.6799 - RMSE: 5.3554\n",
      "Epoch 184/200\n",
      "31/31 [==============================] - 0s 2ms/step - loss: 30.7558 - RMSE: 5.5458\n",
      "Epoch 185/200\n",
      "31/31 [==============================] - 0s 2ms/step - loss: 32.7266 - RMSE: 5.7207\n",
      "Epoch 186/200\n",
      "31/31 [==============================] - 0s 2ms/step - loss: 32.5994 - RMSE: 5.7096\n",
      "Epoch 187/200\n",
      "31/31 [==============================] - 0s 2ms/step - loss: 32.7041 - RMSE: 5.7187\n",
      "Epoch 188/200\n",
      "31/31 [==============================] - 0s 2ms/step - loss: 31.6442 - RMSE: 5.6253\n",
      "Epoch 189/200\n",
      "31/31 [==============================] - 0s 2ms/step - loss: 31.1228 - RMSE: 5.5788\n",
      "Epoch 190/200\n",
      "31/31 [==============================] - 0s 2ms/step - loss: 32.7071 - RMSE: 5.7190\n",
      "Epoch 191/200\n",
      "31/31 [==============================] - 0s 2ms/step - loss: 34.3655 - RMSE: 5.8622\n",
      "Epoch 192/200\n",
      "31/31 [==============================] - 0s 2ms/step - loss: 31.4930 - RMSE: 5.6119\n",
      "Epoch 193/200\n",
      "31/31 [==============================] - 0s 2ms/step - loss: 32.8087 - RMSE: 5.7279\n",
      "Epoch 194/200\n",
      "31/31 [==============================] - 0s 2ms/step - loss: 31.9762 - RMSE: 5.6548\n",
      "Epoch 195/200\n",
      "31/31 [==============================] - 0s 2ms/step - loss: 29.9809 - RMSE: 5.4755\n",
      "Epoch 196/200\n",
      "31/31 [==============================] - 0s 2ms/step - loss: 31.2445 - RMSE: 5.5897\n",
      "Epoch 197/200\n",
      "31/31 [==============================] - 0s 2ms/step - loss: 31.6407 - RMSE: 5.6250\n",
      "Epoch 198/200\n",
      "31/31 [==============================] - 0s 2ms/step - loss: 32.0956 - RMSE: 5.6653\n",
      "Epoch 199/200\n",
      "31/31 [==============================] - 0s 2ms/step - loss: 30.2963 - RMSE: 5.5042\n",
      "Epoch 200/200\n",
      "31/31 [==============================] - 0s 2ms/step - loss: 33.6378 - RMSE: 5.7998\n"
     ]
    },
    {
     "data": {
      "application/javascript": [
       "\n",
       "            setTimeout(function() {\n",
       "                var nbb_cell_id = 222;\n",
       "                var nbb_unformatted_code = \"set_seeds()\\nmodel = get_model(shape=(x_train.shape[-1]))\\nsc = StandardScaler()\\n\\nhistory = model.fit(\\n    sc.fit_transform(x_train),\\n    y_train,\\n    batch_size=batch_size,\\n    epochs=epochs,\\n    verbose=verbose,\\n)\";\n",
       "                var nbb_formatted_code = \"set_seeds()\\nmodel = get_model(shape=(x_train.shape[-1]))\\nsc = StandardScaler()\\n\\nhistory = model.fit(\\n    sc.fit_transform(x_train),\\n    y_train,\\n    batch_size=batch_size,\\n    epochs=epochs,\\n    verbose=verbose,\\n)\";\n",
       "                var nbb_cells = Jupyter.notebook.get_cells();\n",
       "                for (var i = 0; i < nbb_cells.length; ++i) {\n",
       "                    if (nbb_cells[i].input_prompt_number == nbb_cell_id) {\n",
       "                        if (nbb_cells[i].get_text() == nbb_unformatted_code) {\n",
       "                             nbb_cells[i].set_text(nbb_formatted_code);\n",
       "                        }\n",
       "                        break;\n",
       "                    }\n",
       "                }\n",
       "            }, 500);\n",
       "            "
      ],
      "text/plain": [
       "<IPython.core.display.Javascript object>"
      ]
     },
     "metadata": {},
     "output_type": "display_data"
    }
   ],
   "source": [
    "set_seeds()\n",
    "model = get_model(shape=(x_train.shape[-1]))\n",
    "sc = StandardScaler()\n",
    "\n",
    "history = model.fit(\n",
    "    sc.fit_transform(x_train),\n",
    "    y_train,\n",
    "    batch_size=batch_size,\n",
    "    epochs=epochs,\n",
    "    verbose=verbose,\n",
    ")"
   ]
  },
  {
   "cell_type": "code",
   "execution_count": 223,
   "metadata": {},
   "outputs": [
    {
     "name": "stdout",
     "output_type": "stream",
     "text": [
      "******\n",
      "[TRAIN]\n",
      "******\n",
      "RMSE: 3.582 (0.000)\n",
      "MAE: 2.838 (0.000)\n",
      "MAPE: 0.068 (0.000)\n",
      "R2: 0.497 (0.000)\n",
      "\n",
      "======================\n",
      "\n",
      "******\n",
      "[TEST]\n",
      "******\n",
      "RMSE: 3.448 (0.000)\n",
      "MAE: 2.789 (0.000)\n",
      "MAPE: 0.064 (0.000)\n",
      "R2: 0.519 (0.000)\n",
      "\n",
      "======================\n",
      "\n"
     ]
    },
    {
     "data": {
      "application/javascript": [
       "\n",
       "            setTimeout(function() {\n",
       "                var nbb_cell_id = 223;\n",
       "                var nbb_unformatted_code = \"y_train_pred = model.predict(sc.transform(x_train))\\ny_test_pred = model.predict(sc.transform(x_test))\\nscores = score_regression_metrics(y_train, y_train_pred, y_test, y_test_pred)\\nprint_scores(scores, METRICS, METRICS_DICT)\";\n",
       "                var nbb_formatted_code = \"y_train_pred = model.predict(sc.transform(x_train))\\ny_test_pred = model.predict(sc.transform(x_test))\\nscores = score_regression_metrics(y_train, y_train_pred, y_test, y_test_pred)\\nprint_scores(scores, METRICS, METRICS_DICT)\";\n",
       "                var nbb_cells = Jupyter.notebook.get_cells();\n",
       "                for (var i = 0; i < nbb_cells.length; ++i) {\n",
       "                    if (nbb_cells[i].input_prompt_number == nbb_cell_id) {\n",
       "                        if (nbb_cells[i].get_text() == nbb_unformatted_code) {\n",
       "                             nbb_cells[i].set_text(nbb_formatted_code);\n",
       "                        }\n",
       "                        break;\n",
       "                    }\n",
       "                }\n",
       "            }, 500);\n",
       "            "
      ],
      "text/plain": [
       "<IPython.core.display.Javascript object>"
      ]
     },
     "metadata": {},
     "output_type": "display_data"
    }
   ],
   "source": [
    "y_train_pred = model.predict(sc.transform(x_train))\n",
    "y_test_pred = model.predict(sc.transform(x_test))\n",
    "scores = score_regression_metrics(y_train, y_train_pred, y_test, y_test_pred)\n",
    "print_scores(scores, METRICS, METRICS_DICT)"
   ]
  },
  {
   "cell_type": "code",
   "execution_count": 224,
   "metadata": {},
   "outputs": [
    {
     "data": {
      "application/javascript": [
       "\n",
       "            setTimeout(function() {\n",
       "                var nbb_cell_id = 224;\n",
       "                var nbb_unformatted_code = \"model.save_weights(\\\"conv1d_weights.h5\\\")\";\n",
       "                var nbb_formatted_code = \"model.save_weights(\\\"conv1d_weights.h5\\\")\";\n",
       "                var nbb_cells = Jupyter.notebook.get_cells();\n",
       "                for (var i = 0; i < nbb_cells.length; ++i) {\n",
       "                    if (nbb_cells[i].input_prompt_number == nbb_cell_id) {\n",
       "                        if (nbb_cells[i].get_text() == nbb_unformatted_code) {\n",
       "                             nbb_cells[i].set_text(nbb_formatted_code);\n",
       "                        }\n",
       "                        break;\n",
       "                    }\n",
       "                }\n",
       "            }, 500);\n",
       "            "
      ],
      "text/plain": [
       "<IPython.core.display.Javascript object>"
      ]
     },
     "metadata": {},
     "output_type": "display_data"
    }
   ],
   "source": [
    "model.save_weights(\"conv1d_weights.h5\")"
   ]
  },
  {
   "cell_type": "markdown",
   "metadata": {},
   "source": [
    "# Fine Tuning"
   ]
  },
  {
   "cell_type": "markdown",
   "metadata": {},
   "source": [
    "# partner_ii"
   ]
  },
  {
   "cell_type": "code",
   "execution_count": 225,
   "metadata": {},
   "outputs": [
    {
     "data": {
      "application/javascript": [
       "\n",
       "            setTimeout(function() {\n",
       "                var nbb_cell_id = 225;\n",
       "                var nbb_unformatted_code = \"df_partner_ii = pd.read_csv(\\\"../../../../data/processed/partner_ii/cement-shipping.csv\\\")\\ndf_no_cs = df_partner_ii.drop(\\n    [\\\"strength_1d\\\", \\\"strength_3d\\\", \\\"strength_7d\\\"],\\n    axis=1,\\n).copy()\\ny = df_no_cs.pop(\\\"strength_28d\\\")\\nx = df_no_cs.rename({\\\"sample_date\\\": \\\"date\\\"}, axis=1)\\n\\nx.columns = x.columns.str.lower()\\nx = x[COMMON_FEATURES]\\n\\nx_train, x_test, y_train, y_test = train_test_split(\\n    x, y, test_size=0.2, random_state=SEED, shuffle=False\\n)\";\n",
       "                var nbb_formatted_code = \"df_partner_ii = pd.read_csv(\\\"../../../../data/processed/partner_ii/cement-shipping.csv\\\")\\ndf_no_cs = df_partner_ii.drop(\\n    [\\\"strength_1d\\\", \\\"strength_3d\\\", \\\"strength_7d\\\"],\\n    axis=1,\\n).copy()\\ny = df_no_cs.pop(\\\"strength_28d\\\")\\nx = df_no_cs.rename({\\\"sample_date\\\": \\\"date\\\"}, axis=1)\\n\\nx.columns = x.columns.str.lower()\\nx = x[COMMON_FEATURES]\\n\\nx_train, x_test, y_train, y_test = train_test_split(\\n    x, y, test_size=0.2, random_state=SEED, shuffle=False\\n)\";\n",
       "                var nbb_cells = Jupyter.notebook.get_cells();\n",
       "                for (var i = 0; i < nbb_cells.length; ++i) {\n",
       "                    if (nbb_cells[i].input_prompt_number == nbb_cell_id) {\n",
       "                        if (nbb_cells[i].get_text() == nbb_unformatted_code) {\n",
       "                             nbb_cells[i].set_text(nbb_formatted_code);\n",
       "                        }\n",
       "                        break;\n",
       "                    }\n",
       "                }\n",
       "            }, 500);\n",
       "            "
      ],
      "text/plain": [
       "<IPython.core.display.Javascript object>"
      ]
     },
     "metadata": {},
     "output_type": "display_data"
    }
   ],
   "source": [
    "df_partner_ii = pd.read_csv(\"../../../../data/processed/partner_ii/cement-shipping.csv\")\n",
    "df_no_cs = df_partner_ii.drop(\n",
    "    [\"strength_1d\", \"strength_3d\", \"strength_7d\"],\n",
    "    axis=1,\n",
    ").copy()\n",
    "y = df_no_cs.pop(\"strength_28d\")\n",
    "x = df_no_cs.rename({\"sample_date\": \"date\"}, axis=1)\n",
    "\n",
    "x.columns = x.columns.str.lower()\n",
    "x = x[COMMON_FEATURES]\n",
    "\n",
    "x_train, x_test, y_train, y_test = train_test_split(\n",
    "    x, y, test_size=0.2, random_state=SEED, shuffle=False\n",
    ")"
   ]
  },
  {
   "cell_type": "code",
   "execution_count": 226,
   "metadata": {},
   "outputs": [
    {
     "data": {
      "application/javascript": [
       "\n",
       "            setTimeout(function() {\n",
       "                var nbb_cell_id = 226;\n",
       "                var nbb_unformatted_code = \"set_seeds()\\nmodel_2 = get_model(include_top=False, shape=(x.shape[-1]))\\nmodel_2.load_weights(\\\"conv1d_weights.h5\\\", by_name=True)\\nmodel_2.trainable = True\\n\\nflat1 = tf.keras.layers.Flatten()(model_2.layers[-1].output)\\nclass1 = tf.keras.layers.Dense(32, activation=\\\"relu\\\")(flat1)\\nclass1 = tf.keras.layers.Dense(16, activation=\\\"relu\\\")(class1)\\noutputs = tf.keras.layers.Dense(1, activation=\\\"linear\\\")(class1)\\nmodel = tf.keras.Model(model_2.inputs, outputs)\\n\\nmodel.compile(\\n    optimizer=tf.keras.optimizers.Adam(learning_rate=1e-3),\\n    loss=\\\"mse\\\",\\n    metrics=[tf.keras.metrics.RootMeanSquaredError(name=\\\"RMSE\\\")],\\n)\";\n",
       "                var nbb_formatted_code = \"set_seeds()\\nmodel_2 = get_model(include_top=False, shape=(x.shape[-1]))\\nmodel_2.load_weights(\\\"conv1d_weights.h5\\\", by_name=True)\\nmodel_2.trainable = True\\n\\nflat1 = tf.keras.layers.Flatten()(model_2.layers[-1].output)\\nclass1 = tf.keras.layers.Dense(32, activation=\\\"relu\\\")(flat1)\\nclass1 = tf.keras.layers.Dense(16, activation=\\\"relu\\\")(class1)\\noutputs = tf.keras.layers.Dense(1, activation=\\\"linear\\\")(class1)\\nmodel = tf.keras.Model(model_2.inputs, outputs)\\n\\nmodel.compile(\\n    optimizer=tf.keras.optimizers.Adam(learning_rate=1e-3),\\n    loss=\\\"mse\\\",\\n    metrics=[tf.keras.metrics.RootMeanSquaredError(name=\\\"RMSE\\\")],\\n)\";\n",
       "                var nbb_cells = Jupyter.notebook.get_cells();\n",
       "                for (var i = 0; i < nbb_cells.length; ++i) {\n",
       "                    if (nbb_cells[i].input_prompt_number == nbb_cell_id) {\n",
       "                        if (nbb_cells[i].get_text() == nbb_unformatted_code) {\n",
       "                             nbb_cells[i].set_text(nbb_formatted_code);\n",
       "                        }\n",
       "                        break;\n",
       "                    }\n",
       "                }\n",
       "            }, 500);\n",
       "            "
      ],
      "text/plain": [
       "<IPython.core.display.Javascript object>"
      ]
     },
     "metadata": {},
     "output_type": "display_data"
    }
   ],
   "source": [
    "set_seeds()\n",
    "model_2 = get_model(include_top=False, shape=(x.shape[-1]))\n",
    "model_2.load_weights(\"conv1d_weights.h5\", by_name=True)\n",
    "model_2.trainable = True\n",
    "\n",
    "flat1 = tf.keras.layers.Flatten()(model_2.layers[-1].output)\n",
    "class1 = tf.keras.layers.Dense(32, activation=\"relu\")(flat1)\n",
    "class1 = tf.keras.layers.Dense(16, activation=\"relu\")(class1)\n",
    "outputs = tf.keras.layers.Dense(1, activation=\"linear\")(class1)\n",
    "model = tf.keras.Model(model_2.inputs, outputs)\n",
    "\n",
    "model.compile(\n",
    "    optimizer=tf.keras.optimizers.Adam(learning_rate=1e-3),\n",
    "    loss=\"mse\",\n",
    "    metrics=[tf.keras.metrics.RootMeanSquaredError(name=\"RMSE\")],\n",
    ")"
   ]
  },
  {
   "cell_type": "code",
   "execution_count": 227,
   "metadata": {},
   "outputs": [
    {
     "name": "stdout",
     "output_type": "stream",
     "text": [
      "Epoch 1/200\n",
      "27/27 [==============================] - 0s 1ms/step - loss: 1893.4406 - RMSE: 43.5137\n",
      "Epoch 2/200\n",
      "27/27 [==============================] - 0s 2ms/step - loss: 1757.3881 - RMSE: 41.9212\n",
      "Epoch 3/200\n",
      "27/27 [==============================] - 0s 1ms/step - loss: 1358.6794 - RMSE: 36.8603\n",
      "Epoch 4/200\n",
      "27/27 [==============================] - 0s 2ms/step - loss: 528.7844 - RMSE: 22.9953\n",
      "Epoch 5/200\n",
      "27/27 [==============================] - 0s 2ms/step - loss: 25.9144 - RMSE: 5.0906\n",
      "Epoch 6/200\n",
      "27/27 [==============================] - 0s 2ms/step - loss: 11.1337 - RMSE: 3.3367\n",
      "Epoch 7/200\n",
      "27/27 [==============================] - 0s 2ms/step - loss: 10.2081 - RMSE: 3.1950\n",
      "Epoch 8/200\n",
      "27/27 [==============================] - 0s 2ms/step - loss: 9.8954 - RMSE: 3.1457\n",
      "Epoch 9/200\n",
      "27/27 [==============================] - 0s 2ms/step - loss: 9.7708 - RMSE: 3.1258\n",
      "Epoch 10/200\n",
      "27/27 [==============================] - 0s 2ms/step - loss: 9.6981 - RMSE: 3.1142\n",
      "Epoch 11/200\n",
      "27/27 [==============================] - 0s 3ms/step - loss: 9.5284 - RMSE: 3.0868\n",
      "Epoch 12/200\n",
      "27/27 [==============================] - 0s 3ms/step - loss: 9.4342 - RMSE: 3.0715\n",
      "Epoch 13/200\n",
      "27/27 [==============================] - 0s 2ms/step - loss: 9.3410 - RMSE: 3.0563\n",
      "Epoch 14/200\n",
      "27/27 [==============================] - 0s 2ms/step - loss: 9.2077 - RMSE: 3.0344\n",
      "Epoch 15/200\n",
      "27/27 [==============================] - 0s 3ms/step - loss: 9.0779 - RMSE: 3.0130\n",
      "Epoch 16/200\n",
      "27/27 [==============================] - 0s 2ms/step - loss: 8.9833 - RMSE: 2.9972\n",
      "Epoch 17/200\n",
      "27/27 [==============================] - 0s 2ms/step - loss: 8.8440 - RMSE: 2.9739\n",
      "Epoch 18/200\n",
      "27/27 [==============================] - 0s 2ms/step - loss: 8.7236 - RMSE: 2.9536\n",
      "Epoch 19/200\n",
      "27/27 [==============================] - 0s 2ms/step - loss: 8.5670 - RMSE: 2.9270\n",
      "Epoch 20/200\n",
      "27/27 [==============================] - 0s 2ms/step - loss: 8.4741 - RMSE: 2.9110\n",
      "Epoch 21/200\n",
      "27/27 [==============================] - 0s 3ms/step - loss: 8.3278 - RMSE: 2.8858\n",
      "Epoch 22/200\n",
      "27/27 [==============================] - 0s 3ms/step - loss: 8.2516 - RMSE: 2.8726\n",
      "Epoch 23/200\n",
      "27/27 [==============================] - 0s 3ms/step - loss: 8.3223 - RMSE: 2.8848\n",
      "Epoch 24/200\n",
      "27/27 [==============================] - 0s 2ms/step - loss: 8.1858 - RMSE: 2.8611\n",
      "Epoch 25/200\n",
      "27/27 [==============================] - 0s 2ms/step - loss: 8.0764 - RMSE: 2.8419\n",
      "Epoch 26/200\n",
      "27/27 [==============================] - 0s 2ms/step - loss: 8.0313 - RMSE: 2.8340\n",
      "Epoch 27/200\n",
      "27/27 [==============================] - 0s 2ms/step - loss: 7.8506 - RMSE: 2.8019\n",
      "Epoch 28/200\n",
      "27/27 [==============================] - 0s 2ms/step - loss: 7.7772 - RMSE: 2.7888\n",
      "Epoch 29/200\n",
      "27/27 [==============================] - 0s 2ms/step - loss: 7.8657 - RMSE: 2.8046\n",
      "Epoch 30/200\n",
      "27/27 [==============================] - 0s 2ms/step - loss: 7.7253 - RMSE: 2.7794\n",
      "Epoch 31/200\n",
      "27/27 [==============================] - 0s 2ms/step - loss: 7.5740 - RMSE: 2.7521\n",
      "Epoch 32/200\n",
      "27/27 [==============================] - 0s 2ms/step - loss: 7.6455 - RMSE: 2.7651\n",
      "Epoch 33/200\n",
      "27/27 [==============================] - 0s 2ms/step - loss: 7.7291 - RMSE: 2.7801\n",
      "Epoch 34/200\n",
      "27/27 [==============================] - 0s 3ms/step - loss: 7.4374 - RMSE: 2.7272\n",
      "Epoch 35/200\n",
      "27/27 [==============================] - 0s 3ms/step - loss: 7.4806 - RMSE: 2.7351\n",
      "Epoch 36/200\n",
      "27/27 [==============================] - 0s 3ms/step - loss: 7.3156 - RMSE: 2.7047\n",
      "Epoch 37/200\n",
      "27/27 [==============================] - 0s 3ms/step - loss: 7.3054 - RMSE: 2.7028\n",
      "Epoch 38/200\n",
      "27/27 [==============================] - 0s 3ms/step - loss: 7.2937 - RMSE: 2.7007\n",
      "Epoch 39/200\n",
      "27/27 [==============================] - 0s 3ms/step - loss: 7.1569 - RMSE: 2.6752\n",
      "Epoch 40/200\n",
      "27/27 [==============================] - 0s 3ms/step - loss: 7.2505 - RMSE: 2.6927\n",
      "Epoch 41/200\n",
      "27/27 [==============================] - 0s 2ms/step - loss: 7.1024 - RMSE: 2.6650\n",
      "Epoch 42/200\n",
      "27/27 [==============================] - 0s 2ms/step - loss: 7.0814 - RMSE: 2.6611\n",
      "Epoch 43/200\n",
      "27/27 [==============================] - 0s 2ms/step - loss: 7.0990 - RMSE: 2.6644\n",
      "Epoch 44/200\n",
      "27/27 [==============================] - 0s 2ms/step - loss: 7.0273 - RMSE: 2.6509\n",
      "Epoch 45/200\n",
      "27/27 [==============================] - 0s 2ms/step - loss: 7.0161 - RMSE: 2.6488\n",
      "Epoch 46/200\n",
      "27/27 [==============================] - 0s 2ms/step - loss: 7.0331 - RMSE: 2.6520\n",
      "Epoch 47/200\n",
      "27/27 [==============================] - 0s 2ms/step - loss: 7.0037 - RMSE: 2.6464\n",
      "Epoch 48/200\n",
      "27/27 [==============================] - 0s 2ms/step - loss: 6.9940 - RMSE: 2.6446\n",
      "Epoch 49/200\n",
      "27/27 [==============================] - 0s 2ms/step - loss: 7.0493 - RMSE: 2.6551\n",
      "Epoch 50/200\n",
      "27/27 [==============================] - 0s 2ms/step - loss: 6.9648 - RMSE: 2.6391\n",
      "Epoch 51/200\n",
      "27/27 [==============================] - 0s 2ms/step - loss: 7.0759 - RMSE: 2.6601\n",
      "Epoch 52/200\n",
      "27/27 [==============================] - 0s 2ms/step - loss: 6.8992 - RMSE: 2.6266\n",
      "Epoch 53/200\n",
      "27/27 [==============================] - 0s 3ms/step - loss: 6.8826 - RMSE: 2.6235\n",
      "Epoch 54/200\n",
      "27/27 [==============================] - 0s 2ms/step - loss: 6.9063 - RMSE: 2.6280\n",
      "Epoch 55/200\n",
      "27/27 [==============================] - 0s 3ms/step - loss: 6.8921 - RMSE: 2.6253\n",
      "Epoch 56/200\n",
      "27/27 [==============================] - 0s 2ms/step - loss: 6.8833 - RMSE: 2.6236\n",
      "Epoch 57/200\n",
      "27/27 [==============================] - 0s 2ms/step - loss: 6.9191 - RMSE: 2.6304\n",
      "Epoch 58/200\n",
      "27/27 [==============================] - 0s 2ms/step - loss: 6.8496 - RMSE: 2.6172\n",
      "Epoch 59/200\n",
      "27/27 [==============================] - 0s 2ms/step - loss: 6.8694 - RMSE: 2.6210\n",
      "Epoch 60/200\n",
      "27/27 [==============================] - 0s 2ms/step - loss: 6.8203 - RMSE: 2.6116\n",
      "Epoch 61/200\n",
      "27/27 [==============================] - 0s 2ms/step - loss: 6.7710 - RMSE: 2.6021\n",
      "Epoch 62/200\n",
      "27/27 [==============================] - 0s 2ms/step - loss: 6.7958 - RMSE: 2.6069\n",
      "Epoch 63/200\n",
      "27/27 [==============================] - 0s 2ms/step - loss: 6.8838 - RMSE: 2.6237\n",
      "Epoch 64/200\n",
      "27/27 [==============================] - 0s 2ms/step - loss: 6.8217 - RMSE: 2.6118\n",
      "Epoch 65/200\n",
      "27/27 [==============================] - 0s 2ms/step - loss: 6.7726 - RMSE: 2.6024\n",
      "Epoch 66/200\n",
      "27/27 [==============================] - 0s 2ms/step - loss: 6.7810 - RMSE: 2.6040\n",
      "Epoch 67/200\n",
      "27/27 [==============================] - 0s 2ms/step - loss: 6.8670 - RMSE: 2.6205\n",
      "Epoch 68/200\n",
      "27/27 [==============================] - 0s 2ms/step - loss: 6.8219 - RMSE: 2.6119\n",
      "Epoch 69/200\n",
      "27/27 [==============================] - 0s 2ms/step - loss: 6.8086 - RMSE: 2.6093\n",
      "Epoch 70/200\n",
      "27/27 [==============================] - 0s 2ms/step - loss: 6.7184 - RMSE: 2.5920\n",
      "Epoch 71/200\n",
      "27/27 [==============================] - 0s 2ms/step - loss: 6.7442 - RMSE: 2.5970\n",
      "Epoch 72/200\n",
      "27/27 [==============================] - 0s 2ms/step - loss: 6.7730 - RMSE: 2.6025\n",
      "Epoch 73/200\n",
      "27/27 [==============================] - 0s 2ms/step - loss: 6.7907 - RMSE: 2.6059\n",
      "Epoch 74/200\n",
      "27/27 [==============================] - 0s 2ms/step - loss: 6.6793 - RMSE: 2.5844\n",
      "Epoch 75/200\n",
      "27/27 [==============================] - 0s 2ms/step - loss: 6.8412 - RMSE: 2.6156\n",
      "Epoch 76/200\n",
      "27/27 [==============================] - 0s 2ms/step - loss: 6.7561 - RMSE: 2.5993\n",
      "Epoch 77/200\n",
      "27/27 [==============================] - 0s 2ms/step - loss: 6.7341 - RMSE: 2.5950\n",
      "Epoch 78/200\n",
      "27/27 [==============================] - 0s 2ms/step - loss: 6.7249 - RMSE: 2.5932\n",
      "Epoch 79/200\n",
      "27/27 [==============================] - 0s 2ms/step - loss: 6.7383 - RMSE: 2.5958\n",
      "Epoch 80/200\n",
      "27/27 [==============================] - 0s 2ms/step - loss: 6.7122 - RMSE: 2.5908\n",
      "Epoch 81/200\n",
      "27/27 [==============================] - 0s 2ms/step - loss: 6.7891 - RMSE: 2.6056\n",
      "Epoch 82/200\n",
      "27/27 [==============================] - 0s 3ms/step - loss: 6.7415 - RMSE: 2.5964\n",
      "Epoch 83/200\n",
      "27/27 [==============================] - 0s 3ms/step - loss: 6.7165 - RMSE: 2.5916\n",
      "Epoch 84/200\n",
      "27/27 [==============================] - 0s 2ms/step - loss: 6.7696 - RMSE: 2.6018\n",
      "Epoch 85/200\n",
      "27/27 [==============================] - 0s 3ms/step - loss: 6.8365 - RMSE: 2.6147\n",
      "Epoch 86/200\n"
     ]
    },
    {
     "name": "stdout",
     "output_type": "stream",
     "text": [
      "27/27 [==============================] - 0s 3ms/step - loss: 6.6514 - RMSE: 2.5790\n",
      "Epoch 87/200\n",
      "27/27 [==============================] - 0s 2ms/step - loss: 6.6260 - RMSE: 2.5741\n",
      "Epoch 88/200\n",
      "27/27 [==============================] - 0s 2ms/step - loss: 6.6613 - RMSE: 2.5809\n",
      "Epoch 89/200\n",
      "27/27 [==============================] - 0s 2ms/step - loss: 6.6032 - RMSE: 2.5697\n",
      "Epoch 90/200\n",
      "27/27 [==============================] - 0s 2ms/step - loss: 6.6234 - RMSE: 2.5736\n",
      "Epoch 91/200\n",
      "27/27 [==============================] - 0s 2ms/step - loss: 6.6163 - RMSE: 2.5722\n",
      "Epoch 92/200\n",
      "27/27 [==============================] - 0s 2ms/step - loss: 6.6763 - RMSE: 2.5839\n",
      "Epoch 93/200\n",
      "27/27 [==============================] - 0s 2ms/step - loss: 6.6124 - RMSE: 2.5715\n",
      "Epoch 94/200\n",
      "27/27 [==============================] - 0s 2ms/step - loss: 6.7017 - RMSE: 2.5888\n",
      "Epoch 95/200\n",
      "27/27 [==============================] - 0s 2ms/step - loss: 6.6443 - RMSE: 2.5777\n",
      "Epoch 96/200\n",
      "27/27 [==============================] - 0s 3ms/step - loss: 6.5979 - RMSE: 2.5686\n",
      "Epoch 97/200\n",
      "27/27 [==============================] - 0s 2ms/step - loss: 6.8754 - RMSE: 2.6221\n",
      "Epoch 98/200\n",
      "27/27 [==============================] - 0s 2ms/step - loss: 6.8050 - RMSE: 2.6086\n",
      "Epoch 99/200\n",
      "27/27 [==============================] - 0s 3ms/step - loss: 6.6575 - RMSE: 2.5802\n",
      "Epoch 100/200\n",
      "27/27 [==============================] - 0s 3ms/step - loss: 6.6110 - RMSE: 2.5712\n",
      "Epoch 101/200\n",
      "27/27 [==============================] - 0s 3ms/step - loss: 6.7180 - RMSE: 2.5919\n",
      "Epoch 102/200\n",
      "27/27 [==============================] - 0s 2ms/step - loss: 6.7945 - RMSE: 2.6066\n",
      "Epoch 103/200\n",
      "27/27 [==============================] - 0s 2ms/step - loss: 6.5695 - RMSE: 2.5631\n",
      "Epoch 104/200\n",
      "27/27 [==============================] - 0s 2ms/step - loss: 6.7536 - RMSE: 2.5988\n",
      "Epoch 105/200\n",
      "27/27 [==============================] - 0s 2ms/step - loss: 6.6997 - RMSE: 2.5884\n",
      "Epoch 106/200\n",
      "27/27 [==============================] - 0s 2ms/step - loss: 6.6260 - RMSE: 2.5741\n",
      "Epoch 107/200\n",
      "27/27 [==============================] - 0s 2ms/step - loss: 6.5612 - RMSE: 2.5615\n",
      "Epoch 108/200\n",
      "27/27 [==============================] - 0s 2ms/step - loss: 6.6677 - RMSE: 2.5822\n",
      "Epoch 109/200\n",
      "27/27 [==============================] - 0s 3ms/step - loss: 6.6784 - RMSE: 2.5843\n",
      "Epoch 110/200\n",
      "27/27 [==============================] - 0s 3ms/step - loss: 6.5816 - RMSE: 2.5655\n",
      "Epoch 111/200\n",
      "27/27 [==============================] - 0s 3ms/step - loss: 6.6065 - RMSE: 2.5703\n",
      "Epoch 112/200\n",
      "27/27 [==============================] - 0s 3ms/step - loss: 6.6738 - RMSE: 2.5834\n",
      "Epoch 113/200\n",
      "27/27 [==============================] - 0s 3ms/step - loss: 6.5379 - RMSE: 2.5569\n",
      "Epoch 114/200\n",
      "27/27 [==============================] - 0s 3ms/step - loss: 6.5885 - RMSE: 2.5668\n",
      "Epoch 115/200\n",
      "27/27 [==============================] - 0s 2ms/step - loss: 6.7488 - RMSE: 2.5978\n",
      "Epoch 116/200\n",
      "27/27 [==============================] - 0s 2ms/step - loss: 6.6783 - RMSE: 2.5842\n",
      "Epoch 117/200\n",
      "27/27 [==============================] - 0s 2ms/step - loss: 6.7342 - RMSE: 2.5950\n",
      "Epoch 118/200\n",
      "27/27 [==============================] - 0s 2ms/step - loss: 6.6549 - RMSE: 2.5797\n",
      "Epoch 119/200\n",
      "27/27 [==============================] - 0s 2ms/step - loss: 6.6554 - RMSE: 2.5798\n",
      "Epoch 120/200\n",
      "27/27 [==============================] - 0s 3ms/step - loss: 6.5459 - RMSE: 2.5585\n",
      "Epoch 121/200\n",
      "27/27 [==============================] - 0s 3ms/step - loss: 6.4915 - RMSE: 2.5478\n",
      "Epoch 122/200\n",
      "27/27 [==============================] - 0s 2ms/step - loss: 6.5237 - RMSE: 2.5542\n",
      "Epoch 123/200\n",
      "27/27 [==============================] - 0s 2ms/step - loss: 6.5114 - RMSE: 2.5518\n",
      "Epoch 124/200\n",
      "27/27 [==============================] - 0s 2ms/step - loss: 6.6176 - RMSE: 2.5725\n",
      "Epoch 125/200\n",
      "27/27 [==============================] - 0s 2ms/step - loss: 6.5463 - RMSE: 2.5586\n",
      "Epoch 126/200\n",
      "27/27 [==============================] - 0s 2ms/step - loss: 6.5820 - RMSE: 2.5655\n",
      "Epoch 127/200\n",
      "27/27 [==============================] - 0s 2ms/step - loss: 6.5257 - RMSE: 2.5545\n",
      "Epoch 128/200\n",
      "27/27 [==============================] - 0s 3ms/step - loss: 6.5515 - RMSE: 2.5596\n",
      "Epoch 129/200\n",
      "27/27 [==============================] - 0s 3ms/step - loss: 6.5598 - RMSE: 2.5612\n",
      "Epoch 130/200\n",
      "27/27 [==============================] - 0s 2ms/step - loss: 6.4924 - RMSE: 2.5480\n",
      "Epoch 131/200\n",
      "27/27 [==============================] - 0s 2ms/step - loss: 6.4221 - RMSE: 2.5342\n",
      "Epoch 132/200\n",
      "27/27 [==============================] - 0s 2ms/step - loss: 6.4242 - RMSE: 2.5346\n",
      "Epoch 133/200\n",
      "27/27 [==============================] - 0s 2ms/step - loss: 6.6839 - RMSE: 2.5853\n",
      "Epoch 134/200\n",
      "27/27 [==============================] - 0s 2ms/step - loss: 6.6097 - RMSE: 2.5709\n",
      "Epoch 135/200\n",
      "27/27 [==============================] - 0s 3ms/step - loss: 6.4335 - RMSE: 2.5364\n",
      "Epoch 136/200\n",
      "27/27 [==============================] - 0s 3ms/step - loss: 6.7338 - RMSE: 2.5949\n",
      "Epoch 137/200\n",
      "27/27 [==============================] - 0s 2ms/step - loss: 6.6374 - RMSE: 2.5763\n",
      "Epoch 138/200\n",
      "27/27 [==============================] - 0s 2ms/step - loss: 6.8316 - RMSE: 2.6137\n",
      "Epoch 139/200\n",
      "27/27 [==============================] - 0s 2ms/step - loss: 6.4477 - RMSE: 2.5392\n",
      "Epoch 140/200\n",
      "27/27 [==============================] - 0s 2ms/step - loss: 6.7260 - RMSE: 2.5935\n",
      "Epoch 141/200\n",
      "27/27 [==============================] - 0s 2ms/step - loss: 6.7308 - RMSE: 2.5944\n",
      "Epoch 142/200\n",
      "27/27 [==============================] - 0s 2ms/step - loss: 6.6258 - RMSE: 2.5741\n",
      "Epoch 143/200\n",
      "27/27 [==============================] - 0s 2ms/step - loss: 6.4891 - RMSE: 2.5474\n",
      "Epoch 144/200\n",
      "27/27 [==============================] - 0s 2ms/step - loss: 6.5191 - RMSE: 2.5532\n",
      "Epoch 145/200\n",
      "27/27 [==============================] - 0s 2ms/step - loss: 6.4149 - RMSE: 2.5328\n",
      "Epoch 146/200\n",
      "27/27 [==============================] - 0s 2ms/step - loss: 6.4178 - RMSE: 2.5333\n",
      "Epoch 147/200\n",
      "27/27 [==============================] - 0s 2ms/step - loss: 6.5161 - RMSE: 2.5527\n",
      "Epoch 148/200\n",
      "27/27 [==============================] - 0s 2ms/step - loss: 6.3568 - RMSE: 2.5213\n",
      "Epoch 149/200\n",
      "27/27 [==============================] - 0s 2ms/step - loss: 6.4505 - RMSE: 2.5398\n",
      "Epoch 150/200\n",
      "27/27 [==============================] - 0s 2ms/step - loss: 6.3823 - RMSE: 2.5263\n",
      "Epoch 151/200\n",
      "27/27 [==============================] - 0s 2ms/step - loss: 6.4877 - RMSE: 2.5471\n",
      "Epoch 152/200\n",
      "27/27 [==============================] - 0s 2ms/step - loss: 6.4393 - RMSE: 2.5376\n",
      "Epoch 153/200\n",
      "27/27 [==============================] - 0s 2ms/step - loss: 6.3180 - RMSE: 2.5136\n",
      "Epoch 154/200\n",
      "27/27 [==============================] - 0s 2ms/step - loss: 6.4522 - RMSE: 2.5401\n",
      "Epoch 155/200\n",
      "27/27 [==============================] - 0s 2ms/step - loss: 6.4152 - RMSE: 2.5328\n",
      "Epoch 156/200\n",
      "27/27 [==============================] - 0s 2ms/step - loss: 6.3612 - RMSE: 2.5221\n",
      "Epoch 157/200\n",
      "27/27 [==============================] - 0s 2ms/step - loss: 6.3648 - RMSE: 2.5228\n",
      "Epoch 158/200\n",
      "27/27 [==============================] - 0s 2ms/step - loss: 6.3025 - RMSE: 2.5105\n",
      "Epoch 159/200\n",
      "27/27 [==============================] - 0s 2ms/step - loss: 6.3650 - RMSE: 2.5229\n",
      "Epoch 160/200\n",
      "27/27 [==============================] - 0s 2ms/step - loss: 6.3328 - RMSE: 2.5165\n",
      "Epoch 161/200\n",
      "27/27 [==============================] - 0s 2ms/step - loss: 6.4173 - RMSE: 2.5332\n",
      "Epoch 162/200\n",
      "27/27 [==============================] - 0s 3ms/step - loss: 6.2322 - RMSE: 2.4964\n",
      "Epoch 163/200\n",
      "27/27 [==============================] - 0s 3ms/step - loss: 6.5551 - RMSE: 2.5603\n",
      "Epoch 164/200\n",
      "27/27 [==============================] - 0s 3ms/step - loss: 6.4161 - RMSE: 2.5330\n",
      "Epoch 165/200\n",
      "27/27 [==============================] - 0s 3ms/step - loss: 6.5101 - RMSE: 2.5515\n",
      "Epoch 166/200\n",
      "27/27 [==============================] - 0s 2ms/step - loss: 6.3789 - RMSE: 2.5256\n",
      "Epoch 167/200\n",
      "27/27 [==============================] - 0s 3ms/step - loss: 6.4198 - RMSE: 2.5337\n",
      "Epoch 168/200\n",
      "27/27 [==============================] - 0s 2ms/step - loss: 6.4814 - RMSE: 2.5459\n",
      "Epoch 169/200\n",
      "27/27 [==============================] - 0s 2ms/step - loss: 6.3441 - RMSE: 2.5187\n",
      "Epoch 170/200\n"
     ]
    },
    {
     "name": "stdout",
     "output_type": "stream",
     "text": [
      "27/27 [==============================] - 0s 2ms/step - loss: 6.4783 - RMSE: 2.5452\n",
      "Epoch 171/200\n",
      "27/27 [==============================] - 0s 2ms/step - loss: 6.3712 - RMSE: 2.5241\n",
      "Epoch 172/200\n",
      "27/27 [==============================] - 0s 3ms/step - loss: 6.3579 - RMSE: 2.5215\n",
      "Epoch 173/200\n",
      "27/27 [==============================] - 0s 3ms/step - loss: 6.3395 - RMSE: 2.5178\n",
      "Epoch 174/200\n",
      "27/27 [==============================] - 0s 2ms/step - loss: 6.2152 - RMSE: 2.4930\n",
      "Epoch 175/200\n",
      "27/27 [==============================] - 0s 2ms/step - loss: 6.3627 - RMSE: 2.5224\n",
      "Epoch 176/200\n",
      "27/27 [==============================] - 0s 3ms/step - loss: 6.6115 - RMSE: 2.5713\n",
      "Epoch 177/200\n",
      "27/27 [==============================] - 0s 3ms/step - loss: 6.7992 - RMSE: 2.6075\n",
      "Epoch 178/200\n",
      "27/27 [==============================] - 0s 3ms/step - loss: 6.3460 - RMSE: 2.5191\n",
      "Epoch 179/200\n",
      "27/27 [==============================] - 0s 3ms/step - loss: 6.3604 - RMSE: 2.5220\n",
      "Epoch 180/200\n",
      "27/27 [==============================] - 0s 2ms/step - loss: 6.4803 - RMSE: 2.5456\n",
      "Epoch 181/200\n",
      "27/27 [==============================] - 0s 2ms/step - loss: 6.2346 - RMSE: 2.4969\n",
      "Epoch 182/200\n",
      "27/27 [==============================] - 0s 2ms/step - loss: 6.3700 - RMSE: 2.5239\n",
      "Epoch 183/200\n",
      "27/27 [==============================] - 0s 2ms/step - loss: 6.3260 - RMSE: 2.5152\n",
      "Epoch 184/200\n",
      "27/27 [==============================] - 0s 2ms/step - loss: 6.1996 - RMSE: 2.4899\n",
      "Epoch 185/200\n",
      "27/27 [==============================] - 0s 2ms/step - loss: 6.2306 - RMSE: 2.4961\n",
      "Epoch 186/200\n",
      "27/27 [==============================] - 0s 2ms/step - loss: 6.3313 - RMSE: 2.5162\n",
      "Epoch 187/200\n",
      "27/27 [==============================] - 0s 2ms/step - loss: 6.3754 - RMSE: 2.5250\n",
      "Epoch 188/200\n",
      "27/27 [==============================] - 0s 2ms/step - loss: 6.2297 - RMSE: 2.4959\n",
      "Epoch 189/200\n",
      "27/27 [==============================] - 0s 2ms/step - loss: 6.1878 - RMSE: 2.4875\n",
      "Epoch 190/200\n",
      "27/27 [==============================] - 0s 2ms/step - loss: 6.2311 - RMSE: 2.4962\n",
      "Epoch 191/200\n",
      "27/27 [==============================] - 0s 2ms/step - loss: 6.3140 - RMSE: 2.5128\n",
      "Epoch 192/200\n",
      "27/27 [==============================] - 0s 2ms/step - loss: 6.4509 - RMSE: 2.5399\n",
      "Epoch 193/200\n",
      "27/27 [==============================] - 0s 2ms/step - loss: 6.2749 - RMSE: 2.5050\n",
      "Epoch 194/200\n",
      "27/27 [==============================] - 0s 2ms/step - loss: 6.3678 - RMSE: 2.5234\n",
      "Epoch 195/200\n",
      "27/27 [==============================] - 0s 3ms/step - loss: 6.3461 - RMSE: 2.5191\n",
      "Epoch 196/200\n",
      "27/27 [==============================] - 0s 3ms/step - loss: 6.1168 - RMSE: 2.4732\n",
      "Epoch 197/200\n",
      "27/27 [==============================] - 0s 3ms/step - loss: 6.2722 - RMSE: 2.5044\n",
      "Epoch 198/200\n",
      "27/27 [==============================] - 0s 2ms/step - loss: 6.3575 - RMSE: 2.5214\n",
      "Epoch 199/200\n",
      "27/27 [==============================] - 0s 2ms/step - loss: 6.2452 - RMSE: 2.4990\n",
      "Epoch 200/200\n",
      "27/27 [==============================] - 0s 2ms/step - loss: 6.1553 - RMSE: 2.4810\n"
     ]
    },
    {
     "data": {
      "application/javascript": [
       "\n",
       "            setTimeout(function() {\n",
       "                var nbb_cell_id = 227;\n",
       "                var nbb_unformatted_code = \"#sc = StandardScaler()\\n\\nhistory = model.fit(\\n    sc.transform(x_train),\\n    y_train,\\n    batch_size=batch_size,\\n    epochs=epochs,\\n    verbose=verbose,\\n)\";\n",
       "                var nbb_formatted_code = \"# sc = StandardScaler()\\n\\nhistory = model.fit(\\n    sc.transform(x_train),\\n    y_train,\\n    batch_size=batch_size,\\n    epochs=epochs,\\n    verbose=verbose,\\n)\";\n",
       "                var nbb_cells = Jupyter.notebook.get_cells();\n",
       "                for (var i = 0; i < nbb_cells.length; ++i) {\n",
       "                    if (nbb_cells[i].input_prompt_number == nbb_cell_id) {\n",
       "                        if (nbb_cells[i].get_text() == nbb_unformatted_code) {\n",
       "                             nbb_cells[i].set_text(nbb_formatted_code);\n",
       "                        }\n",
       "                        break;\n",
       "                    }\n",
       "                }\n",
       "            }, 500);\n",
       "            "
      ],
      "text/plain": [
       "<IPython.core.display.Javascript object>"
      ]
     },
     "metadata": {},
     "output_type": "display_data"
    }
   ],
   "source": [
    "#sc = StandardScaler()\n",
    "\n",
    "history = model.fit(\n",
    "    sc.transform(x_train),\n",
    "    y_train,\n",
    "    batch_size=batch_size,\n",
    "    epochs=epochs,\n",
    "    verbose=verbose,\n",
    ")\n"
   ]
  },
  {
   "cell_type": "code",
   "execution_count": 228,
   "metadata": {},
   "outputs": [
    {
     "data": {
      "text/plain": [
       "[<matplotlib.lines.Line2D at 0x7f358b6ca2e8>]"
      ]
     },
     "execution_count": 228,
     "metadata": {},
     "output_type": "execute_result"
    },
    {
     "data": {
      "image/png": "[encoded data removed]",
      "text/plain": [
       "<Figure size 432x288 with 1 Axes>"
      ]
     },
     "metadata": {
      "needs_background": "light"
     },
     "output_type": "display_data"
    },
    {
     "data": {
      "application/javascript": [
       "\n",
       "            setTimeout(function() {\n",
       "                var nbb_cell_id = 228;\n",
       "                var nbb_unformatted_code = \"plt.plot(history.history[\\\"RMSE\\\"])\";\n",
       "                var nbb_formatted_code = \"plt.plot(history.history[\\\"RMSE\\\"])\";\n",
       "                var nbb_cells = Jupyter.notebook.get_cells();\n",
       "                for (var i = 0; i < nbb_cells.length; ++i) {\n",
       "                    if (nbb_cells[i].input_prompt_number == nbb_cell_id) {\n",
       "                        if (nbb_cells[i].get_text() == nbb_unformatted_code) {\n",
       "                             nbb_cells[i].set_text(nbb_formatted_code);\n",
       "                        }\n",
       "                        break;\n",
       "                    }\n",
       "                }\n",
       "            }, 500);\n",
       "            "
      ],
      "text/plain": [
       "<IPython.core.display.Javascript object>"
      ]
     },
     "metadata": {},
     "output_type": "display_data"
    }
   ],
   "source": [
    "plt.plot(history.history[\"RMSE\"])"
   ]
  },
  {
   "cell_type": "code",
   "execution_count": 229,
   "metadata": {},
   "outputs": [
    {
     "name": "stdout",
     "output_type": "stream",
     "text": [
      "******\n",
      "[TRAIN]\n",
      "******\n",
      "RMSE: 2.492 (0.000)\n",
      "MAE: 1.994 (0.000)\n",
      "MAPE: 0.045 (0.000)\n",
      "R2: 0.417 (0.000)\n",
      "\n",
      "======================\n",
      "\n",
      "******\n",
      "[TEST]\n",
      "******\n",
      "RMSE: 3.998 (0.000)\n",
      "MAE: 3.386 (0.000)\n",
      "MAPE: 0.087 (0.000)\n",
      "R2: 1.061 (0.000)\n",
      "\n",
      "======================\n",
      "\n"
     ]
    },
    {
     "data": {
      "application/javascript": [
       "\n",
       "            setTimeout(function() {\n",
       "                var nbb_cell_id = 229;\n",
       "                var nbb_unformatted_code = \"y_train_pred = model.predict(sc.transform(x_train))\\ny_test_pred = model.predict(sc.transform(x_test))\\n\\nscores = score_regression_metrics(y_train, y_train_pred, y_test, y_test_pred)\\nprint_scores(scores, METRICS, METRICS_DICT)\";\n",
       "                var nbb_formatted_code = \"y_train_pred = model.predict(sc.transform(x_train))\\ny_test_pred = model.predict(sc.transform(x_test))\\n\\nscores = score_regression_metrics(y_train, y_train_pred, y_test, y_test_pred)\\nprint_scores(scores, METRICS, METRICS_DICT)\";\n",
       "                var nbb_cells = Jupyter.notebook.get_cells();\n",
       "                for (var i = 0; i < nbb_cells.length; ++i) {\n",
       "                    if (nbb_cells[i].input_prompt_number == nbb_cell_id) {\n",
       "                        if (nbb_cells[i].get_text() == nbb_unformatted_code) {\n",
       "                             nbb_cells[i].set_text(nbb_formatted_code);\n",
       "                        }\n",
       "                        break;\n",
       "                    }\n",
       "                }\n",
       "            }, 500);\n",
       "            "
      ],
      "text/plain": [
       "<IPython.core.display.Javascript object>"
      ]
     },
     "metadata": {},
     "output_type": "display_data"
    }
   ],
   "source": [
    "y_train_pred = model.predict(sc.transform(x_train))\n",
    "y_test_pred = model.predict(sc.transform(x_test))\n",
    "\n",
    "scores = score_regression_metrics(y_train, y_train_pred, y_test, y_test_pred)\n",
    "print_scores(scores, METRICS, METRICS_DICT)"
   ]
  },
  {
   "cell_type": "markdown",
   "metadata": {},
   "source": [
    "# Pre Trainning"
   ]
  },
  {
   "cell_type": "markdown",
   "metadata": {},
   "source": [
    "# partner_i + Intercement"
   ]
  },
  {
   "cell_type": "code",
   "execution_count": 232,
   "metadata": {},
   "outputs": [
    {
     "data": {
      "application/javascript": [
       "\n",
       "            setTimeout(function() {\n",
       "                var nbb_cell_id = 232;\n",
       "                var nbb_unformatted_code = \"batch_size = 32\\nepochs = 200\\nverbose = 0\";\n",
       "                var nbb_formatted_code = \"batch_size = 32\\nepochs = 200\\nverbose = 0\";\n",
       "                var nbb_cells = Jupyter.notebook.get_cells();\n",
       "                for (var i = 0; i < nbb_cells.length; ++i) {\n",
       "                    if (nbb_cells[i].input_prompt_number == nbb_cell_id) {\n",
       "                        if (nbb_cells[i].get_text() == nbb_unformatted_code) {\n",
       "                             nbb_cells[i].set_text(nbb_formatted_code);\n",
       "                        }\n",
       "                        break;\n",
       "                    }\n",
       "                }\n",
       "            }, 500);\n",
       "            "
      ],
      "text/plain": [
       "<IPython.core.display.Javascript object>"
      ]
     },
     "metadata": {},
     "output_type": "display_data"
    }
   ],
   "source": [
    "batch_size = 32\n",
    "epochs = 200\n",
    "verbose = 0"
   ]
  },
  {
   "cell_type": "code",
   "execution_count": 233,
   "metadata": {},
   "outputs": [
    {
     "data": {
      "application/javascript": [
       "\n",
       "            setTimeout(function() {\n",
       "                var nbb_cell_id = 233;\n",
       "                var nbb_unformatted_code = \"COMMON_FEATURES = [\\\"mgo\\\", \\\"al2o3\\\", \\\"sio2\\\", \\\"so3\\\", \\\"k2o\\\", \\\"fe2o3\\\"]\";\n",
       "                var nbb_formatted_code = \"COMMON_FEATURES = [\\\"mgo\\\", \\\"al2o3\\\", \\\"sio2\\\", \\\"so3\\\", \\\"k2o\\\", \\\"fe2o3\\\"]\";\n",
       "                var nbb_cells = Jupyter.notebook.get_cells();\n",
       "                for (var i = 0; i < nbb_cells.length; ++i) {\n",
       "                    if (nbb_cells[i].input_prompt_number == nbb_cell_id) {\n",
       "                        if (nbb_cells[i].get_text() == nbb_unformatted_code) {\n",
       "                             nbb_cells[i].set_text(nbb_formatted_code);\n",
       "                        }\n",
       "                        break;\n",
       "                    }\n",
       "                }\n",
       "            }, 500);\n",
       "            "
      ],
      "text/plain": [
       "<IPython.core.display.Javascript object>"
      ]
     },
     "metadata": {},
     "output_type": "display_data"
    }
   ],
   "source": [
    "COMMON_FEATURES = [\"mgo\", \"al2o3\", \"sio2\", \"so3\", \"k2o\", \"fe2o3\"]"
   ]
  },
  {
   "cell_type": "code",
   "execution_count": 234,
   "metadata": {},
   "outputs": [
    {
     "data": {
      "application/javascript": [
       "\n",
       "            setTimeout(function() {\n",
       "                var nbb_cell_id = 234;\n",
       "                var nbb_unformatted_code = \"df = pd.read_csv(\\\"../../../../data/processed/Intercement/cement-shipping.csv\\\")\\ndf_no_cs = df.drop(\\n    [\\n        \\\"RC1\\\",\\n        \\\"RC3\\\",\\n        \\\"RC7\\\",\\n    ],\\n    axis=1,\\n).copy()\\ny_1 = df_no_cs.pop(\\\"RC28\\\")\\nx_1 = df_no_cs.rename({\\\"Data\\\": \\\"date\\\"}, axis=1)\\nx_1.columns = x_1.columns.str.lower()\\n\\ndf_partner_i = pd.read_csv(\\n    \\\"../../../../data/processed/partner_i-Oficial/cement-shipping.csv\\\"\\n)\\ndf_partner_i = df_partner_i.drop(\\n    [\\n        \\\"1 day Compressive strength\\\",\\n        \\\"3 day Compressive strength\\\",\\n        \\\"7 day Compressive strength\\\",\\n    ],\\n    axis=1,\\n).copy()\\n\\ny_2 = df_partner_i.pop(\\\"28 day Compressive strength\\\")\\nx_2 = df_partner_i\\n\\nx_2.columns = x_2.columns.str.lower()\\nx_2 = x_2.drop(set(x_2.columns) - set(x_1.columns), axis=1)\\nx_1 = x_1[x_2.columns]\\n\\n\\ny_1.name = \\\"cs28\\\"\\ny_2.name = \\\"cs28\\\"\\n\\nx = pd.concat([x_1, x_2], axis=0).reset_index(drop=True)\\ny = pd.concat([y_1, y_2], axis=0).reset_index(drop=True)\\n\\nx = pd.concat([x, y], axis=1)\\nx[\\\"date\\\"] = x[\\\"date\\\"].apply(lambda x: x[:10])\\nx[\\\"date\\\"] = pd.to_datetime(x[\\\"date\\\"])\\nx = x.sort_values(by=\\\"date\\\").reset_index(drop=True)\\ny = x.pop(\\\"cs28\\\")\\nx.columns = x.columns.str.lower()\\nx = x[COMMON_FEATURES]\\n\\n\\nx_train, x_test, y_train, y_test = train_test_split(\\n    x, y, test_size=0.2, random_state=SEED, shuffle=False\\n)\";\n",
       "                var nbb_formatted_code = \"df = pd.read_csv(\\\"../../../../data/processed/Intercement/cement-shipping.csv\\\")\\ndf_no_cs = df.drop(\\n    [\\n        \\\"RC1\\\",\\n        \\\"RC3\\\",\\n        \\\"RC7\\\",\\n    ],\\n    axis=1,\\n).copy()\\ny_1 = df_no_cs.pop(\\\"RC28\\\")\\nx_1 = df_no_cs.rename({\\\"Data\\\": \\\"date\\\"}, axis=1)\\nx_1.columns = x_1.columns.str.lower()\\n\\ndf_partner_i = pd.read_csv(\\n    \\\"../../../../data/processed/partner_i-Oficial/cement-shipping.csv\\\"\\n)\\ndf_partner_i = df_partner_i.drop(\\n    [\\n        \\\"1 day Compressive strength\\\",\\n        \\\"3 day Compressive strength\\\",\\n        \\\"7 day Compressive strength\\\",\\n    ],\\n    axis=1,\\n).copy()\\n\\ny_2 = df_partner_i.pop(\\\"28 day Compressive strength\\\")\\nx_2 = df_partner_i\\n\\nx_2.columns = x_2.columns.str.lower()\\nx_2 = x_2.drop(set(x_2.columns) - set(x_1.columns), axis=1)\\nx_1 = x_1[x_2.columns]\\n\\n\\ny_1.name = \\\"cs28\\\"\\ny_2.name = \\\"cs28\\\"\\n\\nx = pd.concat([x_1, x_2], axis=0).reset_index(drop=True)\\ny = pd.concat([y_1, y_2], axis=0).reset_index(drop=True)\\n\\nx = pd.concat([x, y], axis=1)\\nx[\\\"date\\\"] = x[\\\"date\\\"].apply(lambda x: x[:10])\\nx[\\\"date\\\"] = pd.to_datetime(x[\\\"date\\\"])\\nx = x.sort_values(by=\\\"date\\\").reset_index(drop=True)\\ny = x.pop(\\\"cs28\\\")\\nx.columns = x.columns.str.lower()\\nx = x[COMMON_FEATURES]\\n\\n\\nx_train, x_test, y_train, y_test = train_test_split(\\n    x, y, test_size=0.2, random_state=SEED, shuffle=False\\n)\";\n",
       "                var nbb_cells = Jupyter.notebook.get_cells();\n",
       "                for (var i = 0; i < nbb_cells.length; ++i) {\n",
       "                    if (nbb_cells[i].input_prompt_number == nbb_cell_id) {\n",
       "                        if (nbb_cells[i].get_text() == nbb_unformatted_code) {\n",
       "                             nbb_cells[i].set_text(nbb_formatted_code);\n",
       "                        }\n",
       "                        break;\n",
       "                    }\n",
       "                }\n",
       "            }, 500);\n",
       "            "
      ],
      "text/plain": [
       "<IPython.core.display.Javascript object>"
      ]
     },
     "metadata": {},
     "output_type": "display_data"
    }
   ],
   "source": [
    "df = pd.read_csv(\"../../../../data/processed/Intercement/cement-shipping.csv\")\n",
    "df_no_cs = df.drop(\n",
    "    [\n",
    "        \"RC1\",\n",
    "        \"RC3\",\n",
    "        \"RC7\",\n",
    "    ],\n",
    "    axis=1,\n",
    ").copy()\n",
    "y_1 = df_no_cs.pop(\"RC28\")\n",
    "x_1 = df_no_cs.rename({\"Data\": \"date\"}, axis=1)\n",
    "x_1.columns = x_1.columns.str.lower()\n",
    "\n",
    "df_partner_i = pd.read_csv(\n",
    "    \"../../../../data/processed/partner_i-Oficial/cement-shipping.csv\"\n",
    ")\n",
    "df_partner_i = df_partner_i.drop(\n",
    "    [\n",
    "        \"1 day Compressive strength\",\n",
    "        \"3 day Compressive strength\",\n",
    "        \"7 day Compressive strength\",\n",
    "    ],\n",
    "    axis=1,\n",
    ").copy()\n",
    "\n",
    "y_2 = df_partner_i.pop(\"28 day Compressive strength\")\n",
    "x_2 = df_partner_i\n",
    "\n",
    "x_2.columns = x_2.columns.str.lower()\n",
    "x_2 = x_2.drop(set(x_2.columns) - set(x_1.columns), axis=1)\n",
    "x_1 = x_1[x_2.columns]\n",
    "\n",
    "\n",
    "y_1.name = \"cs28\"\n",
    "y_2.name = \"cs28\"\n",
    "\n",
    "x = pd.concat([x_1, x_2], axis=0).reset_index(drop=True)\n",
    "y = pd.concat([y_1, y_2], axis=0).reset_index(drop=True)\n",
    "\n",
    "x = pd.concat([x, y], axis=1)\n",
    "x[\"date\"] = x[\"date\"].apply(lambda x: x[:10])\n",
    "x[\"date\"] = pd.to_datetime(x[\"date\"])\n",
    "x = x.sort_values(by=\"date\").reset_index(drop=True)\n",
    "y = x.pop(\"cs28\")\n",
    "x.columns = x.columns.str.lower()\n",
    "x = x[COMMON_FEATURES]\n",
    "\n",
    "\n",
    "x_train, x_test, y_train, y_test = train_test_split(\n",
    "    x, y, test_size=0.2, random_state=SEED, shuffle=False\n",
    ")"
   ]
  },
  {
   "cell_type": "code",
   "execution_count": 235,
   "metadata": {},
   "outputs": [
    {
     "data": {
      "application/javascript": [
       "\n",
       "            setTimeout(function() {\n",
       "                var nbb_cell_id = 235;\n",
       "                var nbb_unformatted_code = \"set_seeds()\\n\\nmodel = get_model(shape=x_train.shape[-1], include_top=True)\\nsc = StandardScaler()\\n\\nhistory = model.fit(\\n    sc.fit_transform(x_train),\\n    y_train,\\n    batch_size=batch_size,\\n    epochs=epochs,\\n    verbose=verbose,\\n)\";\n",
       "                var nbb_formatted_code = \"set_seeds()\\n\\nmodel = get_model(shape=x_train.shape[-1], include_top=True)\\nsc = StandardScaler()\\n\\nhistory = model.fit(\\n    sc.fit_transform(x_train),\\n    y_train,\\n    batch_size=batch_size,\\n    epochs=epochs,\\n    verbose=verbose,\\n)\";\n",
       "                var nbb_cells = Jupyter.notebook.get_cells();\n",
       "                for (var i = 0; i < nbb_cells.length; ++i) {\n",
       "                    if (nbb_cells[i].input_prompt_number == nbb_cell_id) {\n",
       "                        if (nbb_cells[i].get_text() == nbb_unformatted_code) {\n",
       "                             nbb_cells[i].set_text(nbb_formatted_code);\n",
       "                        }\n",
       "                        break;\n",
       "                    }\n",
       "                }\n",
       "            }, 500);\n",
       "            "
      ],
      "text/plain": [
       "<IPython.core.display.Javascript object>"
      ]
     },
     "metadata": {},
     "output_type": "display_data"
    }
   ],
   "source": [
    "set_seeds()\n",
    "\n",
    "model = get_model(shape=x_train.shape[-1], include_top=True)\n",
    "sc = StandardScaler()\n",
    "\n",
    "history = model.fit(\n",
    "    sc.fit_transform(x_train),\n",
    "    y_train,\n",
    "    batch_size=batch_size,\n",
    "    epochs=epochs,\n",
    "    verbose=verbose,\n",
    ")"
   ]
  },
  {
   "cell_type": "code",
   "execution_count": 236,
   "metadata": {},
   "outputs": [
    {
     "data": {
      "text/plain": [
       "[<matplotlib.lines.Line2D at 0x7f358b476438>]"
      ]
     },
     "execution_count": 236,
     "metadata": {},
     "output_type": "execute_result"
    },
    {
     "data": {
      "image/png": "[encoded data removed]",
      "text/plain": [
       "<Figure size 432x288 with 1 Axes>"
      ]
     },
     "metadata": {
      "needs_background": "light"
     },
     "output_type": "display_data"
    },
    {
     "data": {
      "application/javascript": [
       "\n",
       "            setTimeout(function() {\n",
       "                var nbb_cell_id = 236;\n",
       "                var nbb_unformatted_code = \"plt.plot(history.history[\\\"RMSE\\\"])\";\n",
       "                var nbb_formatted_code = \"plt.plot(history.history[\\\"RMSE\\\"])\";\n",
       "                var nbb_cells = Jupyter.notebook.get_cells();\n",
       "                for (var i = 0; i < nbb_cells.length; ++i) {\n",
       "                    if (nbb_cells[i].input_prompt_number == nbb_cell_id) {\n",
       "                        if (nbb_cells[i].get_text() == nbb_unformatted_code) {\n",
       "                             nbb_cells[i].set_text(nbb_formatted_code);\n",
       "                        }\n",
       "                        break;\n",
       "                    }\n",
       "                }\n",
       "            }, 500);\n",
       "            "
      ],
      "text/plain": [
       "<IPython.core.display.Javascript object>"
      ]
     },
     "metadata": {},
     "output_type": "display_data"
    }
   ],
   "source": [
    "plt.plot(history.history[\"RMSE\"])"
   ]
  },
  {
   "cell_type": "code",
   "execution_count": 237,
   "metadata": {},
   "outputs": [
    {
     "name": "stdout",
     "output_type": "stream",
     "text": [
      "******\n",
      "[TRAIN]\n",
      "******\n",
      "RMSE: 4.092 (0.000)\n",
      "MAE: 3.164 (0.000)\n",
      "MAPE: 0.068 (0.000)\n",
      "R2: 0.652 (0.000)\n",
      "\n",
      "======================\n",
      "\n",
      "******\n",
      "[TEST]\n",
      "******\n",
      "RMSE: 11.015 (0.000)\n",
      "MAE: 9.655 (0.000)\n",
      "MAPE: 0.236 (0.000)\n",
      "R2: 2.945 (0.000)\n",
      "\n",
      "======================\n",
      "\n"
     ]
    },
    {
     "data": {
      "application/javascript": [
       "\n",
       "            setTimeout(function() {\n",
       "                var nbb_cell_id = 237;\n",
       "                var nbb_unformatted_code = \"y_train_pred = model.predict(sc.transform(x_train))\\ny_test_pred = model.predict(sc.transform(x_test))\\nscores = score_regression_metrics(y_train, y_train_pred, y_test, y_test_pred)\\nprint_scores(scores, METRICS, METRICS_DICT)\";\n",
       "                var nbb_formatted_code = \"y_train_pred = model.predict(sc.transform(x_train))\\ny_test_pred = model.predict(sc.transform(x_test))\\nscores = score_regression_metrics(y_train, y_train_pred, y_test, y_test_pred)\\nprint_scores(scores, METRICS, METRICS_DICT)\";\n",
       "                var nbb_cells = Jupyter.notebook.get_cells();\n",
       "                for (var i = 0; i < nbb_cells.length; ++i) {\n",
       "                    if (nbb_cells[i].input_prompt_number == nbb_cell_id) {\n",
       "                        if (nbb_cells[i].get_text() == nbb_unformatted_code) {\n",
       "                             nbb_cells[i].set_text(nbb_formatted_code);\n",
       "                        }\n",
       "                        break;\n",
       "                    }\n",
       "                }\n",
       "            }, 500);\n",
       "            "
      ],
      "text/plain": [
       "<IPython.core.display.Javascript object>"
      ]
     },
     "metadata": {},
     "output_type": "display_data"
    }
   ],
   "source": [
    "y_train_pred = model.predict(sc.transform(x_train))\n",
    "y_test_pred = model.predict(sc.transform(x_test))\n",
    "scores = score_regression_metrics(y_train, y_train_pred, y_test, y_test_pred)\n",
    "print_scores(scores, METRICS, METRICS_DICT)"
   ]
  },
  {
   "cell_type": "code",
   "execution_count": 238,
   "metadata": {},
   "outputs": [
    {
     "data": {
      "application/javascript": [
       "\n",
       "            setTimeout(function() {\n",
       "                var nbb_cell_id = 238;\n",
       "                var nbb_unformatted_code = \"model.save_weights(\\\"conv1d_weights.h5\\\")\";\n",
       "                var nbb_formatted_code = \"model.save_weights(\\\"conv1d_weights.h5\\\")\";\n",
       "                var nbb_cells = Jupyter.notebook.get_cells();\n",
       "                for (var i = 0; i < nbb_cells.length; ++i) {\n",
       "                    if (nbb_cells[i].input_prompt_number == nbb_cell_id) {\n",
       "                        if (nbb_cells[i].get_text() == nbb_unformatted_code) {\n",
       "                             nbb_cells[i].set_text(nbb_formatted_code);\n",
       "                        }\n",
       "                        break;\n",
       "                    }\n",
       "                }\n",
       "            }, 500);\n",
       "            "
      ],
      "text/plain": [
       "<IPython.core.display.Javascript object>"
      ]
     },
     "metadata": {},
     "output_type": "display_data"
    }
   ],
   "source": [
    "model.save_weights(\"conv1d_weights.h5\")"
   ]
  },
  {
   "cell_type": "markdown",
   "metadata": {},
   "source": [
    "# Fine Tuning"
   ]
  },
  {
   "cell_type": "markdown",
   "metadata": {},
   "source": [
    "# partner_ii"
   ]
  },
  {
   "cell_type": "code",
   "execution_count": 239,
   "metadata": {},
   "outputs": [
    {
     "data": {
      "application/javascript": [
       "\n",
       "            setTimeout(function() {\n",
       "                var nbb_cell_id = 239;\n",
       "                var nbb_unformatted_code = \"df_partner_ii = pd.read_csv(\\\"../../../../data/processed/partner_ii/cement-shipping.csv\\\")\\ndf_no_cs = df_partner_ii.drop(\\n    [\\\"strength_1d\\\", \\\"strength_3d\\\", \\\"strength_7d\\\"],\\n    axis=1,\\n).copy()\\ny = df_no_cs.pop(\\\"strength_28d\\\")\\nx = df_no_cs.rename({\\\"sample_date\\\": \\\"date\\\"}, axis=1)\\n\\nx.columns = x.columns.str.lower()\\nx = x[COMMON_FEATURES]\\n\\nx_train, x_test, y_train, y_test = train_test_split(\\n    x, y, test_size=0.2, random_state=SEED, shuffle=False\\n)\";\n",
       "                var nbb_formatted_code = \"df_partner_ii = pd.read_csv(\\\"../../../../data/processed/partner_ii/cement-shipping.csv\\\")\\ndf_no_cs = df_partner_ii.drop(\\n    [\\\"strength_1d\\\", \\\"strength_3d\\\", \\\"strength_7d\\\"],\\n    axis=1,\\n).copy()\\ny = df_no_cs.pop(\\\"strength_28d\\\")\\nx = df_no_cs.rename({\\\"sample_date\\\": \\\"date\\\"}, axis=1)\\n\\nx.columns = x.columns.str.lower()\\nx = x[COMMON_FEATURES]\\n\\nx_train, x_test, y_train, y_test = train_test_split(\\n    x, y, test_size=0.2, random_state=SEED, shuffle=False\\n)\";\n",
       "                var nbb_cells = Jupyter.notebook.get_cells();\n",
       "                for (var i = 0; i < nbb_cells.length; ++i) {\n",
       "                    if (nbb_cells[i].input_prompt_number == nbb_cell_id) {\n",
       "                        if (nbb_cells[i].get_text() == nbb_unformatted_code) {\n",
       "                             nbb_cells[i].set_text(nbb_formatted_code);\n",
       "                        }\n",
       "                        break;\n",
       "                    }\n",
       "                }\n",
       "            }, 500);\n",
       "            "
      ],
      "text/plain": [
       "<IPython.core.display.Javascript object>"
      ]
     },
     "metadata": {},
     "output_type": "display_data"
    }
   ],
   "source": [
    "df_partner_ii = pd.read_csv(\"../../../../data/processed/partner_ii/cement-shipping.csv\")\n",
    "df_no_cs = df_partner_ii.drop(\n",
    "    [\"strength_1d\", \"strength_3d\", \"strength_7d\"],\n",
    "    axis=1,\n",
    ").copy()\n",
    "y = df_no_cs.pop(\"strength_28d\")\n",
    "x = df_no_cs.rename({\"sample_date\": \"date\"}, axis=1)\n",
    "\n",
    "x.columns = x.columns.str.lower()\n",
    "x = x[COMMON_FEATURES]\n",
    "\n",
    "x_train, x_test, y_train, y_test = train_test_split(\n",
    "    x, y, test_size=0.2, random_state=SEED, shuffle=False\n",
    ")"
   ]
  },
  {
   "cell_type": "code",
   "execution_count": 240,
   "metadata": {},
   "outputs": [
    {
     "data": {
      "application/javascript": [
       "\n",
       "            setTimeout(function() {\n",
       "                var nbb_cell_id = 240;\n",
       "                var nbb_unformatted_code = \"set_seeds()\\nmodel_2 = get_model(include_top=False, shape=(x.shape[-1]))\\nmodel_2.load_weights(\\\"conv1d_weights.h5\\\", by_name=True)\\nmodel_2.trainable = True\\n\\nflat1 = tf.keras.layers.Flatten()(model_2.layers[-1].output)\\nclass1 = tf.keras.layers.Dense(256, activation=\\\"relu\\\")(flat1)\\nclass1 = tf.keras.layers.Dense(128, activation=\\\"relu\\\")(class1)\\nclass1 = tf.keras.layers.Dense(64, activation=\\\"relu\\\")(class1)\\noutputs = tf.keras.layers.Dense(1, activation=\\\"linear\\\")(class1)\\nmodel = tf.keras.Model(model_2.inputs, outputs)\\n\\nmodel.compile(\\n    optimizer=tf.keras.optimizers.Adam(learning_rate=1e-3),\\n    loss=\\\"mse\\\",\\n    metrics=[tf.keras.metrics.RootMeanSquaredError(name=\\\"RMSE\\\")],\\n)\";\n",
       "                var nbb_formatted_code = \"set_seeds()\\nmodel_2 = get_model(include_top=False, shape=(x.shape[-1]))\\nmodel_2.load_weights(\\\"conv1d_weights.h5\\\", by_name=True)\\nmodel_2.trainable = True\\n\\nflat1 = tf.keras.layers.Flatten()(model_2.layers[-1].output)\\nclass1 = tf.keras.layers.Dense(256, activation=\\\"relu\\\")(flat1)\\nclass1 = tf.keras.layers.Dense(128, activation=\\\"relu\\\")(class1)\\nclass1 = tf.keras.layers.Dense(64, activation=\\\"relu\\\")(class1)\\noutputs = tf.keras.layers.Dense(1, activation=\\\"linear\\\")(class1)\\nmodel = tf.keras.Model(model_2.inputs, outputs)\\n\\nmodel.compile(\\n    optimizer=tf.keras.optimizers.Adam(learning_rate=1e-3),\\n    loss=\\\"mse\\\",\\n    metrics=[tf.keras.metrics.RootMeanSquaredError(name=\\\"RMSE\\\")],\\n)\";\n",
       "                var nbb_cells = Jupyter.notebook.get_cells();\n",
       "                for (var i = 0; i < nbb_cells.length; ++i) {\n",
       "                    if (nbb_cells[i].input_prompt_number == nbb_cell_id) {\n",
       "                        if (nbb_cells[i].get_text() == nbb_unformatted_code) {\n",
       "                             nbb_cells[i].set_text(nbb_formatted_code);\n",
       "                        }\n",
       "                        break;\n",
       "                    }\n",
       "                }\n",
       "            }, 500);\n",
       "            "
      ],
      "text/plain": [
       "<IPython.core.display.Javascript object>"
      ]
     },
     "metadata": {},
     "output_type": "display_data"
    }
   ],
   "source": [
    "set_seeds()\n",
    "model_2 = get_model(include_top=False, shape=(x.shape[-1]))\n",
    "model_2.load_weights(\"conv1d_weights.h5\", by_name=True)\n",
    "model_2.trainable = True\n",
    "\n",
    "flat1 = tf.keras.layers.Flatten()(model_2.layers[-1].output)\n",
    "class1 = tf.keras.layers.Dense(256, activation=\"relu\")(flat1)\n",
    "class1 = tf.keras.layers.Dense(128, activation=\"relu\")(class1)\n",
    "class1 = tf.keras.layers.Dense(64, activation=\"relu\")(class1)\n",
    "outputs = tf.keras.layers.Dense(1, activation=\"linear\")(class1)\n",
    "model = tf.keras.Model(model_2.inputs, outputs)\n",
    "\n",
    "model.compile(\n",
    "    optimizer=tf.keras.optimizers.Adam(learning_rate=1e-3),\n",
    "    loss=\"mse\",\n",
    "    metrics=[tf.keras.metrics.RootMeanSquaredError(name=\"RMSE\")],\n",
    ")"
   ]
  },
  {
   "cell_type": "code",
   "execution_count": 241,
   "metadata": {},
   "outputs": [
    {
     "data": {
      "application/javascript": [
       "\n",
       "            setTimeout(function() {\n",
       "                var nbb_cell_id = 241;\n",
       "                var nbb_unformatted_code = \"#sc = StandardScaler()\\n\\nhistory = model.fit(\\n    sc.transform(x_train),\\n    y_train,\\n    batch_size=batch_size,\\n    epochs=epochs,\\n    verbose=verbose,\\n)\";\n",
       "                var nbb_formatted_code = \"# sc = StandardScaler()\\n\\nhistory = model.fit(\\n    sc.transform(x_train),\\n    y_train,\\n    batch_size=batch_size,\\n    epochs=epochs,\\n    verbose=verbose,\\n)\";\n",
       "                var nbb_cells = Jupyter.notebook.get_cells();\n",
       "                for (var i = 0; i < nbb_cells.length; ++i) {\n",
       "                    if (nbb_cells[i].input_prompt_number == nbb_cell_id) {\n",
       "                        if (nbb_cells[i].get_text() == nbb_unformatted_code) {\n",
       "                             nbb_cells[i].set_text(nbb_formatted_code);\n",
       "                        }\n",
       "                        break;\n",
       "                    }\n",
       "                }\n",
       "            }, 500);\n",
       "            "
      ],
      "text/plain": [
       "<IPython.core.display.Javascript object>"
      ]
     },
     "metadata": {},
     "output_type": "display_data"
    }
   ],
   "source": [
    "#sc = StandardScaler()\n",
    "\n",
    "history = model.fit(\n",
    "    sc.transform(x_train),\n",
    "    y_train,\n",
    "    batch_size=batch_size,\n",
    "    epochs=epochs,\n",
    "    verbose=verbose,\n",
    ")\n"
   ]
  },
  {
   "cell_type": "code",
   "execution_count": 242,
   "metadata": {},
   "outputs": [
    {
     "data": {
      "text/plain": [
       "[<matplotlib.lines.Line2D at 0x7f358b1bfb00>]"
      ]
     },
     "execution_count": 242,
     "metadata": {},
     "output_type": "execute_result"
    },
    {
     "data": {
      "image/png": "[encoded data removed]",
      "text/plain": [
       "<Figure size 432x288 with 1 Axes>"
      ]
     },
     "metadata": {
      "needs_background": "light"
     },
     "output_type": "display_data"
    },
    {
     "data": {
      "application/javascript": [
       "\n",
       "            setTimeout(function() {\n",
       "                var nbb_cell_id = 242;\n",
       "                var nbb_unformatted_code = \"plt.plot(history.history[\\\"RMSE\\\"])\";\n",
       "                var nbb_formatted_code = \"plt.plot(history.history[\\\"RMSE\\\"])\";\n",
       "                var nbb_cells = Jupyter.notebook.get_cells();\n",
       "                for (var i = 0; i < nbb_cells.length; ++i) {\n",
       "                    if (nbb_cells[i].input_prompt_number == nbb_cell_id) {\n",
       "                        if (nbb_cells[i].get_text() == nbb_unformatted_code) {\n",
       "                             nbb_cells[i].set_text(nbb_formatted_code);\n",
       "                        }\n",
       "                        break;\n",
       "                    }\n",
       "                }\n",
       "            }, 500);\n",
       "            "
      ],
      "text/plain": [
       "<IPython.core.display.Javascript object>"
      ]
     },
     "metadata": {},
     "output_type": "display_data"
    }
   ],
   "source": [
    "plt.plot(history.history[\"RMSE\"])"
   ]
  },
  {
   "cell_type": "code",
   "execution_count": 243,
   "metadata": {},
   "outputs": [
    {
     "name": "stdout",
     "output_type": "stream",
     "text": [
      "******\n",
      "[TRAIN]\n",
      "******\n",
      "RMSE: 2.636 (0.000)\n",
      "MAE: 2.120 (0.000)\n",
      "MAPE: 0.048 (0.000)\n",
      "R2: 0.347 (0.000)\n",
      "\n",
      "======================\n",
      "\n",
      "******\n",
      "[TEST]\n",
      "******\n",
      "RMSE: 4.077 (0.000)\n",
      "MAE: 3.545 (0.000)\n",
      "MAPE: 0.092 (0.000)\n",
      "R2: 1.143 (0.000)\n",
      "\n",
      "======================\n",
      "\n"
     ]
    },
    {
     "data": {
      "application/javascript": [
       "\n",
       "            setTimeout(function() {\n",
       "                var nbb_cell_id = 243;\n",
       "                var nbb_unformatted_code = \"y_train_pred = model.predict(sc.transform(x_train))\\ny_test_pred = model.predict(sc.transform(x_test))\\n\\nscores = score_regression_metrics(y_train, y_train_pred, y_test, y_test_pred)\\nprint_scores(scores, METRICS, METRICS_DICT)\";\n",
       "                var nbb_formatted_code = \"y_train_pred = model.predict(sc.transform(x_train))\\ny_test_pred = model.predict(sc.transform(x_test))\\n\\nscores = score_regression_metrics(y_train, y_train_pred, y_test, y_test_pred)\\nprint_scores(scores, METRICS, METRICS_DICT)\";\n",
       "                var nbb_cells = Jupyter.notebook.get_cells();\n",
       "                for (var i = 0; i < nbb_cells.length; ++i) {\n",
       "                    if (nbb_cells[i].input_prompt_number == nbb_cell_id) {\n",
       "                        if (nbb_cells[i].get_text() == nbb_unformatted_code) {\n",
       "                             nbb_cells[i].set_text(nbb_formatted_code);\n",
       "                        }\n",
       "                        break;\n",
       "                    }\n",
       "                }\n",
       "            }, 500);\n",
       "            "
      ],
      "text/plain": [
       "<IPython.core.display.Javascript object>"
      ]
     },
     "metadata": {},
     "output_type": "display_data"
    }
   ],
   "source": [
    "y_train_pred = model.predict(sc.transform(x_train))\n",
    "y_test_pred = model.predict(sc.transform(x_test))\n",
    "\n",
    "scores = score_regression_metrics(y_train, y_train_pred, y_test, y_test_pred)\n",
    "print_scores(scores, METRICS, METRICS_DICT)"
   ]
  },
  {
   "cell_type": "markdown",
   "metadata": {},
   "source": [
    "# Pre Trainning"
   ]
  },
  {
   "cell_type": "markdown",
   "metadata": {},
   "source": [
    "# partner_i"
   ]
  },
  {
   "cell_type": "code",
   "execution_count": 244,
   "metadata": {},
   "outputs": [
    {
     "data": {
      "application/javascript": [
       "\n",
       "            setTimeout(function() {\n",
       "                var nbb_cell_id = 244;\n",
       "                var nbb_unformatted_code = \"batch_size = 32\\nepochs = 200\\nverbose = 0\";\n",
       "                var nbb_formatted_code = \"batch_size = 32\\nepochs = 200\\nverbose = 0\";\n",
       "                var nbb_cells = Jupyter.notebook.get_cells();\n",
       "                for (var i = 0; i < nbb_cells.length; ++i) {\n",
       "                    if (nbb_cells[i].input_prompt_number == nbb_cell_id) {\n",
       "                        if (nbb_cells[i].get_text() == nbb_unformatted_code) {\n",
       "                             nbb_cells[i].set_text(nbb_formatted_code);\n",
       "                        }\n",
       "                        break;\n",
       "                    }\n",
       "                }\n",
       "            }, 500);\n",
       "            "
      ],
      "text/plain": [
       "<IPython.core.display.Javascript object>"
      ]
     },
     "metadata": {},
     "output_type": "display_data"
    }
   ],
   "source": [
    "batch_size = 32\n",
    "epochs = 200\n",
    "verbose = 0"
   ]
  },
  {
   "cell_type": "code",
   "execution_count": 245,
   "metadata": {},
   "outputs": [
    {
     "data": {
      "application/javascript": [
       "\n",
       "            setTimeout(function() {\n",
       "                var nbb_cell_id = 245;\n",
       "                var nbb_unformatted_code = \"COMMON_FEATURES_partner_i = [\\\"%limestone\\\", \\\"%gypsum\\\", \\\"%clinker\\\"]\";\n",
       "                var nbb_formatted_code = \"COMMON_FEATURES_partner_i = [\\\"%limestone\\\", \\\"%gypsum\\\", \\\"%clinker\\\"]\";\n",
       "                var nbb_cells = Jupyter.notebook.get_cells();\n",
       "                for (var i = 0; i < nbb_cells.length; ++i) {\n",
       "                    if (nbb_cells[i].input_prompt_number == nbb_cell_id) {\n",
       "                        if (nbb_cells[i].get_text() == nbb_unformatted_code) {\n",
       "                             nbb_cells[i].set_text(nbb_formatted_code);\n",
       "                        }\n",
       "                        break;\n",
       "                    }\n",
       "                }\n",
       "            }, 500);\n",
       "            "
      ],
      "text/plain": [
       "<IPython.core.display.Javascript object>"
      ]
     },
     "metadata": {},
     "output_type": "display_data"
    }
   ],
   "source": [
    "COMMON_FEATURES_partner_i = [\"%limestone\", \"%gypsum\", \"%clinker\"]"
   ]
  },
  {
   "cell_type": "code",
   "execution_count": 246,
   "metadata": {},
   "outputs": [
    {
     "data": {
      "application/javascript": [
       "\n",
       "            setTimeout(function() {\n",
       "                var nbb_cell_id = 246;\n",
       "                var nbb_unformatted_code = \"df_partner_i = pd.read_csv(\\n    \\\"../../../../data/processed/partner_i-Oficial/cement-shipping.csv\\\"\\n)\\ndf_partner_i = df_partner_i.drop(\\n    [\\n        \\\"1 day Compressive strength\\\",\\n        \\\"3 day Compressive strength\\\",\\n        \\\"7 day Compressive strength\\\",\\n    ],\\n    axis=1,\\n).copy()\\n\\ny = df_partner_i.pop(\\\"28 day Compressive strength\\\")\\ndf_partner_i.columns = df_partner_i.columns.str.lower()\\nx = df_partner_i[COMMON_FEATURES_partner_i]\\n\\n\\nx_train, x_test, y_train, y_test = train_test_split(\\n    x, y, test_size=0.2, random_state=SEED, shuffle=False\\n)\";\n",
       "                var nbb_formatted_code = \"df_partner_i = pd.read_csv(\\n    \\\"../../../../data/processed/partner_i-Oficial/cement-shipping.csv\\\"\\n)\\ndf_partner_i = df_partner_i.drop(\\n    [\\n        \\\"1 day Compressive strength\\\",\\n        \\\"3 day Compressive strength\\\",\\n        \\\"7 day Compressive strength\\\",\\n    ],\\n    axis=1,\\n).copy()\\n\\ny = df_partner_i.pop(\\\"28 day Compressive strength\\\")\\ndf_partner_i.columns = df_partner_i.columns.str.lower()\\nx = df_partner_i[COMMON_FEATURES_partner_i]\\n\\n\\nx_train, x_test, y_train, y_test = train_test_split(\\n    x, y, test_size=0.2, random_state=SEED, shuffle=False\\n)\";\n",
       "                var nbb_cells = Jupyter.notebook.get_cells();\n",
       "                for (var i = 0; i < nbb_cells.length; ++i) {\n",
       "                    if (nbb_cells[i].input_prompt_number == nbb_cell_id) {\n",
       "                        if (nbb_cells[i].get_text() == nbb_unformatted_code) {\n",
       "                             nbb_cells[i].set_text(nbb_formatted_code);\n",
       "                        }\n",
       "                        break;\n",
       "                    }\n",
       "                }\n",
       "            }, 500);\n",
       "            "
      ],
      "text/plain": [
       "<IPython.core.display.Javascript object>"
      ]
     },
     "metadata": {},
     "output_type": "display_data"
    }
   ],
   "source": [
    "df_partner_i = pd.read_csv(\n",
    "    \"../../../../data/processed/partner_i-Oficial/cement-shipping.csv\"\n",
    ")\n",
    "df_partner_i = df_partner_i.drop(\n",
    "    [\n",
    "        \"1 day Compressive strength\",\n",
    "        \"3 day Compressive strength\",\n",
    "        \"7 day Compressive strength\",\n",
    "    ],\n",
    "    axis=1,\n",
    ").copy()\n",
    "\n",
    "y = df_partner_i.pop(\"28 day Compressive strength\")\n",
    "df_partner_i.columns = df_partner_i.columns.str.lower()\n",
    "x = df_partner_i[COMMON_FEATURES_partner_i]\n",
    "\n",
    "\n",
    "x_train, x_test, y_train, y_test = train_test_split(\n",
    "    x, y, test_size=0.2, random_state=SEED, shuffle=False\n",
    ")"
   ]
  },
  {
   "cell_type": "code",
   "execution_count": 247,
   "metadata": {},
   "outputs": [
    {
     "data": {
      "application/javascript": [
       "\n",
       "            setTimeout(function() {\n",
       "                var nbb_cell_id = 247;\n",
       "                var nbb_unformatted_code = \"set_seeds()\\n\\nmodel = get_model(shape=x_train.shape[-1], include_top=True)\\nsc = StandardScaler()\\n\\nhistory = model.fit(\\n    sc.fit_transform(x_train),\\n    y_train,\\n    batch_size=batch_size,\\n    epochs=epochs,\\n    verbose=verbose,\\n)\";\n",
       "                var nbb_formatted_code = \"set_seeds()\\n\\nmodel = get_model(shape=x_train.shape[-1], include_top=True)\\nsc = StandardScaler()\\n\\nhistory = model.fit(\\n    sc.fit_transform(x_train),\\n    y_train,\\n    batch_size=batch_size,\\n    epochs=epochs,\\n    verbose=verbose,\\n)\";\n",
       "                var nbb_cells = Jupyter.notebook.get_cells();\n",
       "                for (var i = 0; i < nbb_cells.length; ++i) {\n",
       "                    if (nbb_cells[i].input_prompt_number == nbb_cell_id) {\n",
       "                        if (nbb_cells[i].get_text() == nbb_unformatted_code) {\n",
       "                             nbb_cells[i].set_text(nbb_formatted_code);\n",
       "                        }\n",
       "                        break;\n",
       "                    }\n",
       "                }\n",
       "            }, 500);\n",
       "            "
      ],
      "text/plain": [
       "<IPython.core.display.Javascript object>"
      ]
     },
     "metadata": {},
     "output_type": "display_data"
    }
   ],
   "source": [
    "set_seeds()\n",
    "\n",
    "model = get_model(shape=x_train.shape[-1], include_top=True)\n",
    "sc = StandardScaler()\n",
    "\n",
    "history = model.fit(\n",
    "    sc.fit_transform(x_train),\n",
    "    y_train,\n",
    "    batch_size=batch_size,\n",
    "    epochs=epochs,\n",
    "    verbose=verbose,\n",
    ")"
   ]
  },
  {
   "cell_type": "code",
   "execution_count": 248,
   "metadata": {},
   "outputs": [
    {
     "data": {
      "text/plain": [
       "[<matplotlib.lines.Line2D at 0x7f358b813320>]"
      ]
     },
     "execution_count": 248,
     "metadata": {},
     "output_type": "execute_result"
    },
    {
     "data": {
      "image/png": "[encoded data removed]",
      "text/plain": [
       "<Figure size 432x288 with 1 Axes>"
      ]
     },
     "metadata": {
      "needs_background": "light"
     },
     "output_type": "display_data"
    },
    {
     "data": {
      "application/javascript": [
       "\n",
       "            setTimeout(function() {\n",
       "                var nbb_cell_id = 248;\n",
       "                var nbb_unformatted_code = \"plt.plot(history.history[\\\"RMSE\\\"])\";\n",
       "                var nbb_formatted_code = \"plt.plot(history.history[\\\"RMSE\\\"])\";\n",
       "                var nbb_cells = Jupyter.notebook.get_cells();\n",
       "                for (var i = 0; i < nbb_cells.length; ++i) {\n",
       "                    if (nbb_cells[i].input_prompt_number == nbb_cell_id) {\n",
       "                        if (nbb_cells[i].get_text() == nbb_unformatted_code) {\n",
       "                             nbb_cells[i].set_text(nbb_formatted_code);\n",
       "                        }\n",
       "                        break;\n",
       "                    }\n",
       "                }\n",
       "            }, 500);\n",
       "            "
      ],
      "text/plain": [
       "<IPython.core.display.Javascript object>"
      ]
     },
     "metadata": {},
     "output_type": "display_data"
    }
   ],
   "source": [
    "plt.plot(history.history[\"RMSE\"])"
   ]
  },
  {
   "cell_type": "code",
   "execution_count": 249,
   "metadata": {},
   "outputs": [
    {
     "name": "stdout",
     "output_type": "stream",
     "text": [
      "******\n",
      "[TRAIN]\n",
      "******\n",
      "RMSE: 5.059 (0.000)\n",
      "MAE: 4.733 (0.000)\n",
      "MAPE: 0.113 (0.000)\n",
      "R2: 0.004 (0.000)\n",
      "\n",
      "======================\n",
      "\n",
      "******\n",
      "[TEST]\n",
      "******\n",
      "RMSE: 5.123 (0.000)\n",
      "MAE: 4.940 (0.000)\n",
      "MAPE: 0.116 (0.000)\n",
      "R2: 0.063 (0.000)\n",
      "\n",
      "======================\n",
      "\n"
     ]
    },
    {
     "data": {
      "application/javascript": [
       "\n",
       "            setTimeout(function() {\n",
       "                var nbb_cell_id = 249;\n",
       "                var nbb_unformatted_code = \"y_train_pred = model.predict(sc.transform(x_train))\\ny_test_pred = model.predict(sc.transform(x_test))\\nscores = score_regression_metrics(y_train, y_train_pred, y_test, y_test_pred)\\nprint_scores(scores, METRICS, METRICS_DICT)\";\n",
       "                var nbb_formatted_code = \"y_train_pred = model.predict(sc.transform(x_train))\\ny_test_pred = model.predict(sc.transform(x_test))\\nscores = score_regression_metrics(y_train, y_train_pred, y_test, y_test_pred)\\nprint_scores(scores, METRICS, METRICS_DICT)\";\n",
       "                var nbb_cells = Jupyter.notebook.get_cells();\n",
       "                for (var i = 0; i < nbb_cells.length; ++i) {\n",
       "                    if (nbb_cells[i].input_prompt_number == nbb_cell_id) {\n",
       "                        if (nbb_cells[i].get_text() == nbb_unformatted_code) {\n",
       "                             nbb_cells[i].set_text(nbb_formatted_code);\n",
       "                        }\n",
       "                        break;\n",
       "                    }\n",
       "                }\n",
       "            }, 500);\n",
       "            "
      ],
      "text/plain": [
       "<IPython.core.display.Javascript object>"
      ]
     },
     "metadata": {},
     "output_type": "display_data"
    }
   ],
   "source": [
    "y_train_pred = model.predict(sc.transform(x_train))\n",
    "y_test_pred = model.predict(sc.transform(x_test))\n",
    "scores = score_regression_metrics(y_train, y_train_pred, y_test, y_test_pred)\n",
    "print_scores(scores, METRICS, METRICS_DICT)"
   ]
  },
  {
   "cell_type": "code",
   "execution_count": 250,
   "metadata": {},
   "outputs": [
    {
     "data": {
      "application/javascript": [
       "\n",
       "            setTimeout(function() {\n",
       "                var nbb_cell_id = 250;\n",
       "                var nbb_unformatted_code = \"model.save_weights(\\\"conv1d_weights.h5\\\")\";\n",
       "                var nbb_formatted_code = \"model.save_weights(\\\"conv1d_weights.h5\\\")\";\n",
       "                var nbb_cells = Jupyter.notebook.get_cells();\n",
       "                for (var i = 0; i < nbb_cells.length; ++i) {\n",
       "                    if (nbb_cells[i].input_prompt_number == nbb_cell_id) {\n",
       "                        if (nbb_cells[i].get_text() == nbb_unformatted_code) {\n",
       "                             nbb_cells[i].set_text(nbb_formatted_code);\n",
       "                        }\n",
       "                        break;\n",
       "                    }\n",
       "                }\n",
       "            }, 500);\n",
       "            "
      ],
      "text/plain": [
       "<IPython.core.display.Javascript object>"
      ]
     },
     "metadata": {},
     "output_type": "display_data"
    }
   ],
   "source": [
    "model.save_weights(\"conv1d_weights.h5\")"
   ]
  },
  {
   "cell_type": "markdown",
   "metadata": {},
   "source": [
    "# Fine Tuning"
   ]
  },
  {
   "cell_type": "markdown",
   "metadata": {},
   "source": [
    "# partner_iii"
   ]
  },
  {
   "cell_type": "code",
   "execution_count": 251,
   "metadata": {},
   "outputs": [
    {
     "data": {
      "application/javascript": [
       "\n",
       "            setTimeout(function() {\n",
       "                var nbb_cell_id = 251;\n",
       "                var nbb_unformatted_code = \"df_partner_iii = pd.read_csv(\\n    \\\"../../../../data/interim/partner_iii/Dati CADD 2020-2022_with_fillna.csv\\\"\\n)\";\n",
       "                var nbb_formatted_code = \"df_partner_iii = pd.read_csv(\\n    \\\"../../../../data/interim/partner_iii/Dati CADD 2020-2022_with_fillna.csv\\\"\\n)\";\n",
       "                var nbb_cells = Jupyter.notebook.get_cells();\n",
       "                for (var i = 0; i < nbb_cells.length; ++i) {\n",
       "                    if (nbb_cells[i].input_prompt_number == nbb_cell_id) {\n",
       "                        if (nbb_cells[i].get_text() == nbb_unformatted_code) {\n",
       "                             nbb_cells[i].set_text(nbb_formatted_code);\n",
       "                        }\n",
       "                        break;\n",
       "                    }\n",
       "                }\n",
       "            }, 500);\n",
       "            "
      ],
      "text/plain": [
       "<IPython.core.display.Javascript object>"
      ]
     },
     "metadata": {},
     "output_type": "display_data"
    }
   ],
   "source": [
    "df_partner_iii = pd.read_csv(\n",
    "    \"../../../../data/interim/partner_iii/Dati CADD 2020-2022_with_fillna.csv\"\n",
    ")"
   ]
  },
  {
   "cell_type": "code",
   "execution_count": 252,
   "metadata": {},
   "outputs": [
    {
     "data": {
      "application/javascript": [
       "\n",
       "            setTimeout(function() {\n",
       "                var nbb_cell_id = 252;\n",
       "                var nbb_unformatted_code = \"y = df_partner_iii.pop(\\\"28d compressive strength (MPa)\\\")\\nx = df_partner_iii\\n\\nx_train, x_test, y_train, y_test = train_test_split(\\n    x, y, test_size=0.1, random_state=SEED, shuffle=False\\n)\";\n",
       "                var nbb_formatted_code = \"y = df_partner_iii.pop(\\\"28d compressive strength (MPa)\\\")\\nx = df_partner_iii\\n\\nx_train, x_test, y_train, y_test = train_test_split(\\n    x, y, test_size=0.1, random_state=SEED, shuffle=False\\n)\";\n",
       "                var nbb_cells = Jupyter.notebook.get_cells();\n",
       "                for (var i = 0; i < nbb_cells.length; ++i) {\n",
       "                    if (nbb_cells[i].input_prompt_number == nbb_cell_id) {\n",
       "                        if (nbb_cells[i].get_text() == nbb_unformatted_code) {\n",
       "                             nbb_cells[i].set_text(nbb_formatted_code);\n",
       "                        }\n",
       "                        break;\n",
       "                    }\n",
       "                }\n",
       "            }, 500);\n",
       "            "
      ],
      "text/plain": [
       "<IPython.core.display.Javascript object>"
      ]
     },
     "metadata": {},
     "output_type": "display_data"
    }
   ],
   "source": [
    "y = df_partner_iii.pop(\"28d compressive strength (MPa)\")\n",
    "x = df_partner_iii\n",
    "\n",
    "x_train, x_test, y_train, y_test = train_test_split(\n",
    "    x, y, test_size=0.1, random_state=SEED, shuffle=False\n",
    ")"
   ]
  },
  {
   "cell_type": "code",
   "execution_count": 253,
   "metadata": {},
   "outputs": [
    {
     "data": {
      "application/javascript": [
       "\n",
       "            setTimeout(function() {\n",
       "                var nbb_cell_id = 253;\n",
       "                var nbb_unformatted_code = \"set_seeds()\\n\\nmodel_2 = get_model(include_top=False, shape=(x.shape[-1]))\\nmodel_2.load_weights(\\\"conv1d_weights.h5\\\", by_name=True)\\nmodel_2.trainable = True\\n\\nflat1 = tf.keras.layers.Flatten(name=\\\"Flatten2\\\")(model_2.layers[-1].output)\\nclass1 = tf.keras.layers.Dense(256, activation=\\\"relu\\\")(flat1)\\noutputs = tf.keras.layers.Dense(1, activation=\\\"linear\\\")(class1)\\nmodel = tf.keras.Model(model_2.inputs, outputs)\\n\\nmodel.compile(\\n    optimizer=tf.keras.optimizers.Adam(learning_rate=1e-3),\\n    loss=\\\"mse\\\",\\n    metrics=[tf.keras.metrics.RootMeanSquaredError(name=\\\"RMSE\\\")],\\n)\";\n",
       "                var nbb_formatted_code = \"set_seeds()\\n\\nmodel_2 = get_model(include_top=False, shape=(x.shape[-1]))\\nmodel_2.load_weights(\\\"conv1d_weights.h5\\\", by_name=True)\\nmodel_2.trainable = True\\n\\nflat1 = tf.keras.layers.Flatten(name=\\\"Flatten2\\\")(model_2.layers[-1].output)\\nclass1 = tf.keras.layers.Dense(256, activation=\\\"relu\\\")(flat1)\\noutputs = tf.keras.layers.Dense(1, activation=\\\"linear\\\")(class1)\\nmodel = tf.keras.Model(model_2.inputs, outputs)\\n\\nmodel.compile(\\n    optimizer=tf.keras.optimizers.Adam(learning_rate=1e-3),\\n    loss=\\\"mse\\\",\\n    metrics=[tf.keras.metrics.RootMeanSquaredError(name=\\\"RMSE\\\")],\\n)\";\n",
       "                var nbb_cells = Jupyter.notebook.get_cells();\n",
       "                for (var i = 0; i < nbb_cells.length; ++i) {\n",
       "                    if (nbb_cells[i].input_prompt_number == nbb_cell_id) {\n",
       "                        if (nbb_cells[i].get_text() == nbb_unformatted_code) {\n",
       "                             nbb_cells[i].set_text(nbb_formatted_code);\n",
       "                        }\n",
       "                        break;\n",
       "                    }\n",
       "                }\n",
       "            }, 500);\n",
       "            "
      ],
      "text/plain": [
       "<IPython.core.display.Javascript object>"
      ]
     },
     "metadata": {},
     "output_type": "display_data"
    }
   ],
   "source": [
    "set_seeds()\n",
    "\n",
    "model_2 = get_model(include_top=False, shape=(x.shape[-1]))\n",
    "model_2.load_weights(\"conv1d_weights.h5\", by_name=True)\n",
    "model_2.trainable = True\n",
    "\n",
    "flat1 = tf.keras.layers.Flatten(name=\"Flatten2\")(model_2.layers[-1].output)\n",
    "class1 = tf.keras.layers.Dense(256, activation=\"relu\")(flat1)\n",
    "outputs = tf.keras.layers.Dense(1, activation=\"linear\")(class1)\n",
    "model = tf.keras.Model(model_2.inputs, outputs)\n",
    "\n",
    "model.compile(\n",
    "    optimizer=tf.keras.optimizers.Adam(learning_rate=1e-3),\n",
    "    loss=\"mse\",\n",
    "    metrics=[tf.keras.metrics.RootMeanSquaredError(name=\"RMSE\")],\n",
    ")"
   ]
  },
  {
   "cell_type": "code",
   "execution_count": 254,
   "metadata": {},
   "outputs": [
    {
     "data": {
      "application/javascript": [
       "\n",
       "            setTimeout(function() {\n",
       "                var nbb_cell_id = 254;\n",
       "                var nbb_unformatted_code = \"#c = StandardScaler()\\nhistory = model.fit(\\n    sc.transform(x_train),\\n    y_train,\\n    batch_size=batch_size,\\n    epochs=epochs,\\n    verbose=verbose,\\n)\";\n",
       "                var nbb_formatted_code = \"# c = StandardScaler()\\nhistory = model.fit(\\n    sc.transform(x_train),\\n    y_train,\\n    batch_size=batch_size,\\n    epochs=epochs,\\n    verbose=verbose,\\n)\";\n",
       "                var nbb_cells = Jupyter.notebook.get_cells();\n",
       "                for (var i = 0; i < nbb_cells.length; ++i) {\n",
       "                    if (nbb_cells[i].input_prompt_number == nbb_cell_id) {\n",
       "                        if (nbb_cells[i].get_text() == nbb_unformatted_code) {\n",
       "                             nbb_cells[i].set_text(nbb_formatted_code);\n",
       "                        }\n",
       "                        break;\n",
       "                    }\n",
       "                }\n",
       "            }, 500);\n",
       "            "
      ],
      "text/plain": [
       "<IPython.core.display.Javascript object>"
      ]
     },
     "metadata": {},
     "output_type": "display_data"
    }
   ],
   "source": [
    "# c = StandardScaler()\n",
    "history = model.fit(\n",
    "    sc.transform(x_train),\n",
    "    y_train,\n",
    "    batch_size=batch_size,\n",
    "    epochs=epochs,\n",
    "    verbose=verbose,\n",
    ")"
   ]
  },
  {
   "cell_type": "code",
   "execution_count": 255,
   "metadata": {},
   "outputs": [
    {
     "data": {
      "text/plain": [
       "[<matplotlib.lines.Line2D at 0x7f35880bda90>]"
      ]
     },
     "execution_count": 255,
     "metadata": {},
     "output_type": "execute_result"
    },
    {
     "data": {
      "image/png": "[encoded data removed]",
      "text/plain": [
       "<Figure size 432x288 with 1 Axes>"
      ]
     },
     "metadata": {
      "needs_background": "light"
     },
     "output_type": "display_data"
    },
    {
     "data": {
      "application/javascript": [
       "\n",
       "            setTimeout(function() {\n",
       "                var nbb_cell_id = 255;\n",
       "                var nbb_unformatted_code = \"plt.plot(history.history[\\\"RMSE\\\"])\";\n",
       "                var nbb_formatted_code = \"plt.plot(history.history[\\\"RMSE\\\"])\";\n",
       "                var nbb_cells = Jupyter.notebook.get_cells();\n",
       "                for (var i = 0; i < nbb_cells.length; ++i) {\n",
       "                    if (nbb_cells[i].input_prompt_number == nbb_cell_id) {\n",
       "                        if (nbb_cells[i].get_text() == nbb_unformatted_code) {\n",
       "                             nbb_cells[i].set_text(nbb_formatted_code);\n",
       "                        }\n",
       "                        break;\n",
       "                    }\n",
       "                }\n",
       "            }, 500);\n",
       "            "
      ],
      "text/plain": [
       "<IPython.core.display.Javascript object>"
      ]
     },
     "metadata": {},
     "output_type": "display_data"
    }
   ],
   "source": [
    "plt.plot(history.history[\"RMSE\"])"
   ]
  },
  {
   "cell_type": "code",
   "execution_count": 256,
   "metadata": {},
   "outputs": [
    {
     "name": "stdout",
     "output_type": "stream",
     "text": [
      "******\n",
      "[TRAIN]\n",
      "******\n",
      "RMSE: 4.404 (0.000)\n",
      "MAE: 3.421 (0.000)\n",
      "MAPE: 0.066 (0.000)\n",
      "R2: 0.634 (0.000)\n",
      "\n",
      "======================\n",
      "\n",
      "******\n",
      "[TEST]\n",
      "******\n",
      "RMSE: 3.883 (0.000)\n",
      "MAE: 2.713 (0.000)\n",
      "MAPE: 0.054 (0.000)\n",
      "R2: 0.032 (0.000)\n",
      "\n",
      "======================\n",
      "\n"
     ]
    },
    {
     "data": {
      "application/javascript": [
       "\n",
       "            setTimeout(function() {\n",
       "                var nbb_cell_id = 256;\n",
       "                var nbb_unformatted_code = \"y_train_pred = model.predict(sc.transform(x_train))\\ny_test_pred = model.predict(sc.transform(x_test))\\n\\nscores = score_regression_metrics(y_train, y_train_pred, y_test, y_test_pred)\\nprint_scores(scores, METRICS, METRICS_DICT)\";\n",
       "                var nbb_formatted_code = \"y_train_pred = model.predict(sc.transform(x_train))\\ny_test_pred = model.predict(sc.transform(x_test))\\n\\nscores = score_regression_metrics(y_train, y_train_pred, y_test, y_test_pred)\\nprint_scores(scores, METRICS, METRICS_DICT)\";\n",
       "                var nbb_cells = Jupyter.notebook.get_cells();\n",
       "                for (var i = 0; i < nbb_cells.length; ++i) {\n",
       "                    if (nbb_cells[i].input_prompt_number == nbb_cell_id) {\n",
       "                        if (nbb_cells[i].get_text() == nbb_unformatted_code) {\n",
       "                             nbb_cells[i].set_text(nbb_formatted_code);\n",
       "                        }\n",
       "                        break;\n",
       "                    }\n",
       "                }\n",
       "            }, 500);\n",
       "            "
      ],
      "text/plain": [
       "<IPython.core.display.Javascript object>"
      ]
     },
     "metadata": {},
     "output_type": "display_data"
    }
   ],
   "source": [
    "y_train_pred = model.predict(sc.transform(x_train))\n",
    "y_test_pred = model.predict(sc.transform(x_test))\n",
    "\n",
    "scores = score_regression_metrics(y_train, y_train_pred, y_test, y_test_pred)\n",
    "print_scores(scores, METRICS, METRICS_DICT)"
   ]
  },
  {
   "cell_type": "markdown",
   "metadata": {},
   "source": [
    "# partner_iii"
   ]
  },
  {
   "cell_type": "code",
   "execution_count": 144,
   "metadata": {},
   "outputs": [
    {
     "data": {
      "application/javascript": [
       "\n",
       "            setTimeout(function() {\n",
       "                var nbb_cell_id = 144;\n",
       "                var nbb_unformatted_code = \"df_partner_iii = pd.read_csv(\\n    \\\"../../../data/interim/partner_iii/Dati CADD 2020-2022_with_fillna.csv\\\"\\n)\";\n",
       "                var nbb_formatted_code = \"df_partner_iii = pd.read_csv(\\n    \\\"../../../data/interim/partner_iii/Dati CADD 2020-2022_with_fillna.csv\\\"\\n)\";\n",
       "                var nbb_cells = Jupyter.notebook.get_cells();\n",
       "                for (var i = 0; i < nbb_cells.length; ++i) {\n",
       "                    if (nbb_cells[i].input_prompt_number == nbb_cell_id) {\n",
       "                        if (nbb_cells[i].get_text() == nbb_unformatted_code) {\n",
       "                             nbb_cells[i].set_text(nbb_formatted_code);\n",
       "                        }\n",
       "                        break;\n",
       "                    }\n",
       "                }\n",
       "            }, 500);\n",
       "            "
      ],
      "text/plain": [
       "<IPython.core.display.Javascript object>"
      ]
     },
     "metadata": {},
     "output_type": "display_data"
    }
   ],
   "source": [
    "df_partner_iii = pd.read_csv(\n",
    "    \"../../../data/interim/partner_iii/Dati CADD 2020-2022_with_fillna.csv\"\n",
    ")"
   ]
  },
  {
   "cell_type": "code",
   "execution_count": 145,
   "metadata": {},
   "outputs": [
    {
     "data": {
      "application/javascript": [
       "\n",
       "            setTimeout(function() {\n",
       "                var nbb_cell_id = 145;\n",
       "                var nbb_unformatted_code = \"y = df_partner_iii.pop(\\\"28d compressive strength (MPa)\\\")\\nx = df_partner_iii\\n\\nx_train, x_test, y_train, y_test = train_test_split(\\n    x, y, test_size=0.1, random_state=SEED, shuffle=False\\n)\";\n",
       "                var nbb_formatted_code = \"y = df_partner_iii.pop(\\\"28d compressive strength (MPa)\\\")\\nx = df_partner_iii\\n\\nx_train, x_test, y_train, y_test = train_test_split(\\n    x, y, test_size=0.1, random_state=SEED, shuffle=False\\n)\";\n",
       "                var nbb_cells = Jupyter.notebook.get_cells();\n",
       "                for (var i = 0; i < nbb_cells.length; ++i) {\n",
       "                    if (nbb_cells[i].input_prompt_number == nbb_cell_id) {\n",
       "                        if (nbb_cells[i].get_text() == nbb_unformatted_code) {\n",
       "                             nbb_cells[i].set_text(nbb_formatted_code);\n",
       "                        }\n",
       "                        break;\n",
       "                    }\n",
       "                }\n",
       "            }, 500);\n",
       "            "
      ],
      "text/plain": [
       "<IPython.core.display.Javascript object>"
      ]
     },
     "metadata": {},
     "output_type": "display_data"
    }
   ],
   "source": [
    "y = df_partner_iii.pop(\"28d compressive strength (MPa)\")\n",
    "x = df_partner_iii\n",
    "\n",
    "x_train, x_test, y_train, y_test = train_test_split(\n",
    "    x, y, test_size=0.1, random_state=SEED, shuffle=False\n",
    ")"
   ]
  },
  {
   "cell_type": "code",
   "execution_count": 146,
   "metadata": {},
   "outputs": [
    {
     "data": {
      "application/javascript": [
       "\n",
       "            setTimeout(function() {\n",
       "                var nbb_cell_id = 146;\n",
       "                var nbb_unformatted_code = \"set_seeds()\\nmodel = get_model(include_top=True, shape=(x.shape[-1]))\\nmodel.compile(\\n    optimizer=tf.keras.optimizers.Adam(learning_rate=1e-3),\\n    loss=\\\"mse\\\",\\n    metrics=[tf.keras.metrics.RootMeanSquaredError(name=\\\"RMSE\\\")],\\n)\";\n",
       "                var nbb_formatted_code = \"set_seeds()\\nmodel = get_model(include_top=True, shape=(x.shape[-1]))\\nmodel.compile(\\n    optimizer=tf.keras.optimizers.Adam(learning_rate=1e-3),\\n    loss=\\\"mse\\\",\\n    metrics=[tf.keras.metrics.RootMeanSquaredError(name=\\\"RMSE\\\")],\\n)\";\n",
       "                var nbb_cells = Jupyter.notebook.get_cells();\n",
       "                for (var i = 0; i < nbb_cells.length; ++i) {\n",
       "                    if (nbb_cells[i].input_prompt_number == nbb_cell_id) {\n",
       "                        if (nbb_cells[i].get_text() == nbb_unformatted_code) {\n",
       "                             nbb_cells[i].set_text(nbb_formatted_code);\n",
       "                        }\n",
       "                        break;\n",
       "                    }\n",
       "                }\n",
       "            }, 500);\n",
       "            "
      ],
      "text/plain": [
       "<IPython.core.display.Javascript object>"
      ]
     },
     "metadata": {},
     "output_type": "display_data"
    }
   ],
   "source": [
    "set_seeds()\n",
    "model = get_model(include_top=True, shape=(x.shape[-1]))\n",
    "model.compile(\n",
    "    optimizer=tf.keras.optimizers.Adam(learning_rate=1e-3),\n",
    "    loss=\"mse\",\n",
    "    metrics=[tf.keras.metrics.RootMeanSquaredError(name=\"RMSE\")],\n",
    ")"
   ]
  },
  {
   "cell_type": "code",
   "execution_count": 147,
   "metadata": {},
   "outputs": [
    {
     "data": {
      "application/javascript": [
       "\n",
       "            setTimeout(function() {\n",
       "                var nbb_cell_id = 147;\n",
       "                var nbb_unformatted_code = \"sc = StandardScaler()\\nhistory = model.fit(\\n    sc.fit_transform(x_train),\\n    y_train,\\n    batch_size=batch_size,\\n    epochs=epochs,\\n    verbose=verbose,\\n)\";\n",
       "                var nbb_formatted_code = \"sc = StandardScaler()\\nhistory = model.fit(\\n    sc.fit_transform(x_train),\\n    y_train,\\n    batch_size=batch_size,\\n    epochs=epochs,\\n    verbose=verbose,\\n)\";\n",
       "                var nbb_cells = Jupyter.notebook.get_cells();\n",
       "                for (var i = 0; i < nbb_cells.length; ++i) {\n",
       "                    if (nbb_cells[i].input_prompt_number == nbb_cell_id) {\n",
       "                        if (nbb_cells[i].get_text() == nbb_unformatted_code) {\n",
       "                             nbb_cells[i].set_text(nbb_formatted_code);\n",
       "                        }\n",
       "                        break;\n",
       "                    }\n",
       "                }\n",
       "            }, 500);\n",
       "            "
      ],
      "text/plain": [
       "<IPython.core.display.Javascript object>"
      ]
     },
     "metadata": {},
     "output_type": "display_data"
    }
   ],
   "source": [
    "sc = StandardScaler()\n",
    "history = model.fit(\n",
    "    sc.fit_transform(x_train),\n",
    "    y_train,\n",
    "    batch_size=batch_size,\n",
    "    epochs=epochs,\n",
    "    verbose=verbose,\n",
    ")"
   ]
  },
  {
   "cell_type": "code",
   "execution_count": 148,
   "metadata": {},
   "outputs": [
    {
     "data": {
      "text/plain": [
       "[<matplotlib.lines.Line2D at 0x7f5d275f5748>]"
      ]
     },
     "execution_count": 148,
     "metadata": {},
     "output_type": "execute_result"
    },
    {
     "data": {
      "image/png": "[encoded data removed]",
      "text/plain": [
       "<Figure size 432x288 with 1 Axes>"
      ]
     },
     "metadata": {
      "needs_background": "light"
     },
     "output_type": "display_data"
    },
    {
     "data": {
      "application/javascript": [
       "\n",
       "            setTimeout(function() {\n",
       "                var nbb_cell_id = 148;\n",
       "                var nbb_unformatted_code = \"plt.plot(history.history[\\\"RMSE\\\"])\";\n",
       "                var nbb_formatted_code = \"plt.plot(history.history[\\\"RMSE\\\"])\";\n",
       "                var nbb_cells = Jupyter.notebook.get_cells();\n",
       "                for (var i = 0; i < nbb_cells.length; ++i) {\n",
       "                    if (nbb_cells[i].input_prompt_number == nbb_cell_id) {\n",
       "                        if (nbb_cells[i].get_text() == nbb_unformatted_code) {\n",
       "                             nbb_cells[i].set_text(nbb_formatted_code);\n",
       "                        }\n",
       "                        break;\n",
       "                    }\n",
       "                }\n",
       "            }, 500);\n",
       "            "
      ],
      "text/plain": [
       "<IPython.core.display.Javascript object>"
      ]
     },
     "metadata": {},
     "output_type": "display_data"
    }
   ],
   "source": [
    "plt.plot(history.history[\"RMSE\"])"
   ]
  },
  {
   "cell_type": "code",
   "execution_count": 149,
   "metadata": {},
   "outputs": [
    {
     "name": "stdout",
     "output_type": "stream",
     "text": [
      "******\n",
      "[TRAIN]\n",
      "******\n",
      "RMSE: 4.134 (0.000)\n",
      "MAE: 3.169 (0.000)\n",
      "MAPE: 0.061 (0.000)\n",
      "R2: 0.678 (0.000)\n",
      "\n",
      "======================\n",
      "\n",
      "******\n",
      "[TEST]\n",
      "******\n",
      "RMSE: 4.282 (0.000)\n",
      "MAE: 3.113 (0.000)\n",
      "MAPE: 0.062 (0.000)\n",
      "R2: 0.255 (0.000)\n",
      "\n",
      "======================\n",
      "\n"
     ]
    },
    {
     "data": {
      "application/javascript": [
       "\n",
       "            setTimeout(function() {\n",
       "                var nbb_cell_id = 149;\n",
       "                var nbb_unformatted_code = \"y_train_pred = model.predict(sc.transform(x_train))\\ny_test_pred = model.predict(sc.transform(x_test))\\n\\nscores = score_regression_metrics(y_train, y_train_pred, y_test, y_test_pred)\\nprint_scores(scores, METRICS, METRICS_DICT)\";\n",
       "                var nbb_formatted_code = \"y_train_pred = model.predict(sc.transform(x_train))\\ny_test_pred = model.predict(sc.transform(x_test))\\n\\nscores = score_regression_metrics(y_train, y_train_pred, y_test, y_test_pred)\\nprint_scores(scores, METRICS, METRICS_DICT)\";\n",
       "                var nbb_cells = Jupyter.notebook.get_cells();\n",
       "                for (var i = 0; i < nbb_cells.length; ++i) {\n",
       "                    if (nbb_cells[i].input_prompt_number == nbb_cell_id) {\n",
       "                        if (nbb_cells[i].get_text() == nbb_unformatted_code) {\n",
       "                             nbb_cells[i].set_text(nbb_formatted_code);\n",
       "                        }\n",
       "                        break;\n",
       "                    }\n",
       "                }\n",
       "            }, 500);\n",
       "            "
      ],
      "text/plain": [
       "<IPython.core.display.Javascript object>"
      ]
     },
     "metadata": {},
     "output_type": "display_data"
    }
   ],
   "source": [
    "y_train_pred = model.predict(sc.transform(x_train))\n",
    "y_test_pred = model.predict(sc.transform(x_test))\n",
    "\n",
    "scores = score_regression_metrics(y_train, y_train_pred, y_test, y_test_pred)\n",
    "print_scores(scores, METRICS, METRICS_DICT)"
   ]
  },
  {
   "cell_type": "markdown",
   "metadata": {},
   "source": [
    "## CPIIF40"
   ]
  },
  {
   "cell_type": "markdown",
   "metadata": {},
   "source": [
    "# Intercement"
   ]
  },
  {
   "cell_type": "code",
   "execution_count": 259,
   "metadata": {},
   "outputs": [
    {
     "data": {
      "application/javascript": [
       "\n",
       "            setTimeout(function() {\n",
       "                var nbb_cell_id = 259;\n",
       "                var nbb_unformatted_code = \"df = pd.read_csv(\\\"../../../../data/processed/Intercement/cpiif40.csv\\\")\";\n",
       "                var nbb_formatted_code = \"df = pd.read_csv(\\\"../../../../data/processed/Intercement/cpiif40.csv\\\")\";\n",
       "                var nbb_cells = Jupyter.notebook.get_cells();\n",
       "                for (var i = 0; i < nbb_cells.length; ++i) {\n",
       "                    if (nbb_cells[i].input_prompt_number == nbb_cell_id) {\n",
       "                        if (nbb_cells[i].get_text() == nbb_unformatted_code) {\n",
       "                             nbb_cells[i].set_text(nbb_formatted_code);\n",
       "                        }\n",
       "                        break;\n",
       "                    }\n",
       "                }\n",
       "            }, 500);\n",
       "            "
      ],
      "text/plain": [
       "<IPython.core.display.Javascript object>"
      ]
     },
     "metadata": {},
     "output_type": "display_data"
    }
   ],
   "source": [
    "df = pd.read_csv(\"../../../../data/processed/Intercement/cpiif40.csv\")"
   ]
  },
  {
   "cell_type": "markdown",
   "metadata": {},
   "source": [
    "<h2>1. Dataset: df_no_cs</h2> <br>In this dataset the CS1, CS3  and CS7 variables are not considered."
   ]
  },
  {
   "cell_type": "code",
   "execution_count": 260,
   "metadata": {},
   "outputs": [
    {
     "data": {
      "application/javascript": [
       "\n",
       "            setTimeout(function() {\n",
       "                var nbb_cell_id = 260;\n",
       "                var nbb_unformatted_code = \"df_no_cs = df.drop(\\n    [\\n        \\\"RC1\\\",\\n        \\\"RC3\\\",\\n        \\\"RC7\\\",\\n    ],\\n    axis=1,\\n).copy()\\n\\ny = df_no_cs.pop(\\\"RC28\\\").values\\nx = df_no_cs.drop([\\\"Data\\\"], axis=1)\";\n",
       "                var nbb_formatted_code = \"df_no_cs = df.drop(\\n    [\\n        \\\"RC1\\\",\\n        \\\"RC3\\\",\\n        \\\"RC7\\\",\\n    ],\\n    axis=1,\\n).copy()\\n\\ny = df_no_cs.pop(\\\"RC28\\\").values\\nx = df_no_cs.drop([\\\"Data\\\"], axis=1)\";\n",
       "                var nbb_cells = Jupyter.notebook.get_cells();\n",
       "                for (var i = 0; i < nbb_cells.length; ++i) {\n",
       "                    if (nbb_cells[i].input_prompt_number == nbb_cell_id) {\n",
       "                        if (nbb_cells[i].get_text() == nbb_unformatted_code) {\n",
       "                             nbb_cells[i].set_text(nbb_formatted_code);\n",
       "                        }\n",
       "                        break;\n",
       "                    }\n",
       "                }\n",
       "            }, 500);\n",
       "            "
      ],
      "text/plain": [
       "<IPython.core.display.Javascript object>"
      ]
     },
     "metadata": {},
     "output_type": "display_data"
    }
   ],
   "source": [
    "df_no_cs = df.drop(\n",
    "    [\n",
    "        \"RC1\",\n",
    "        \"RC3\",\n",
    "        \"RC7\",\n",
    "    ],\n",
    "    axis=1,\n",
    ").copy()\n",
    "\n",
    "y = df_no_cs.pop(\"RC28\").values\n",
    "x = df_no_cs.drop([\"Data\"], axis=1)"
   ]
  },
  {
   "cell_type": "markdown",
   "metadata": {},
   "source": [
    "## 1.1 Repeated KFold Cross validation\n",
    "\n",
    "<b>Dataset shape:</b> (1234, 38)<br>\n",
    "<b>Repeats:</b>10<br>\n",
    "<b>Splits:</b>10<br>\n",
    "    1. 10 folds of 123 samples each\n",
    "    2. 90% train (1111 samples each fold)\n",
    "    3. 10% test (123 samples each fold)\n",
    "<b>Total:</b> 100 models<br>"
   ]
  },
  {
   "cell_type": "code",
   "execution_count": 261,
   "metadata": {},
   "outputs": [
    {
     "name": "stdout",
     "output_type": "stream",
     "text": [
      "Repeated Cross Validation:\n",
      "Repeats: 10\n",
      "n_splits: 10\n",
      "\n",
      "******\n",
      "[TRAIN]\n",
      "******\n",
      "RMSE: 2.613 (0.020)\n",
      "MAE: 2.074 (0.014)\n",
      "MAPE: 0.038 (0.000)\n",
      "R2: 0.245 (0.011)\n",
      "\n",
      "======================\n",
      "\n",
      "******\n",
      "[TEST]\n",
      "******\n",
      "RMSE: 2.678 (0.226)\n",
      "MAE: 2.098 (0.108)\n",
      "MAPE: 0.039 (0.002)\n",
      "R2: 0.195 (0.144)\n",
      "\n",
      "======================\n",
      "\n"
     ]
    },
    {
     "data": {
      "application/javascript": [
       "\n",
       "            setTimeout(function() {\n",
       "                var nbb_cell_id = 261;\n",
       "                var nbb_unformatted_code = \"set_seeds()\\nrepeats = 10\\nn_splits = 10\\npipeline = Pipeline(\\n    [(\\\"transformer\\\", StandardScaler()), (\\\"estimator\\\", LinearRegression())]\\n)\\ncv = RepeatedKFold(n_splits=n_splits, n_repeats=repeats, random_state=SEED)\\nscores = cross_validate(\\n    pipeline,\\n    x,\\n    y,\\n    scoring=METRICS,\\n    cv=cv,\\n    n_jobs=-1,\\n    return_train_score=True,\\n)\\n# scores = np.abs(scores)\\nprint(\\\"Repeated Cross Validation:\\\")\\nprint(f\\\"Repeats: {repeats}\\\")\\nprint(f\\\"n_splits: {n_splits}\\\")\\nprint()\\nprint_scores(scores, METRICS, METRICS_DICT)\";\n",
       "                var nbb_formatted_code = \"set_seeds()\\nrepeats = 10\\nn_splits = 10\\npipeline = Pipeline(\\n    [(\\\"transformer\\\", StandardScaler()), (\\\"estimator\\\", LinearRegression())]\\n)\\ncv = RepeatedKFold(n_splits=n_splits, n_repeats=repeats, random_state=SEED)\\nscores = cross_validate(\\n    pipeline,\\n    x,\\n    y,\\n    scoring=METRICS,\\n    cv=cv,\\n    n_jobs=-1,\\n    return_train_score=True,\\n)\\n# scores = np.abs(scores)\\nprint(\\\"Repeated Cross Validation:\\\")\\nprint(f\\\"Repeats: {repeats}\\\")\\nprint(f\\\"n_splits: {n_splits}\\\")\\nprint()\\nprint_scores(scores, METRICS, METRICS_DICT)\";\n",
       "                var nbb_cells = Jupyter.notebook.get_cells();\n",
       "                for (var i = 0; i < nbb_cells.length; ++i) {\n",
       "                    if (nbb_cells[i].input_prompt_number == nbb_cell_id) {\n",
       "                        if (nbb_cells[i].get_text() == nbb_unformatted_code) {\n",
       "                             nbb_cells[i].set_text(nbb_formatted_code);\n",
       "                        }\n",
       "                        break;\n",
       "                    }\n",
       "                }\n",
       "            }, 500);\n",
       "            "
      ],
      "text/plain": [
       "<IPython.core.display.Javascript object>"
      ]
     },
     "metadata": {},
     "output_type": "display_data"
    }
   ],
   "source": [
    "set_seeds()\n",
    "repeats = 10\n",
    "n_splits = 10\n",
    "pipeline = Pipeline(\n",
    "    [(\"transformer\", StandardScaler()), (\"estimator\", LinearRegression())]\n",
    ")\n",
    "cv = RepeatedKFold(n_splits=n_splits, n_repeats=repeats, random_state=SEED)\n",
    "scores = cross_validate(\n",
    "    pipeline,\n",
    "    x,\n",
    "    y,\n",
    "    scoring=METRICS,\n",
    "    cv=cv,\n",
    "    n_jobs=-1,\n",
    "    return_train_score=True,\n",
    ")\n",
    "# scores = np.abs(scores)\n",
    "print(\"Repeated Cross Validation:\")\n",
    "print(f\"Repeats: {repeats}\")\n",
    "print(f\"n_splits: {n_splits}\")\n",
    "print()\n",
    "print_scores(scores, METRICS, METRICS_DICT)"
   ]
  },
  {
   "cell_type": "code",
   "execution_count": 262,
   "metadata": {},
   "outputs": [
    {
     "data": {
      "text/plain": [
       "(1787, 13)"
      ]
     },
     "execution_count": 262,
     "metadata": {},
     "output_type": "execute_result"
    },
    {
     "data": {
      "application/javascript": [
       "\n",
       "            setTimeout(function() {\n",
       "                var nbb_cell_id = 262;\n",
       "                var nbb_unformatted_code = \"df.shape\";\n",
       "                var nbb_formatted_code = \"df.shape\";\n",
       "                var nbb_cells = Jupyter.notebook.get_cells();\n",
       "                for (var i = 0; i < nbb_cells.length; ++i) {\n",
       "                    if (nbb_cells[i].input_prompt_number == nbb_cell_id) {\n",
       "                        if (nbb_cells[i].get_text() == nbb_unformatted_code) {\n",
       "                             nbb_cells[i].set_text(nbb_formatted_code);\n",
       "                        }\n",
       "                        break;\n",
       "                    }\n",
       "                }\n",
       "            }, 500);\n",
       "            "
      ],
      "text/plain": [
       "<IPython.core.display.Javascript object>"
      ]
     },
     "metadata": {},
     "output_type": "display_data"
    }
   ],
   "source": [
    "df.shape"
   ]
  },
  {
   "cell_type": "code",
   "execution_count": 271,
   "metadata": {},
   "outputs": [
    {
     "data": {
      "application/javascript": [
       "\n",
       "            setTimeout(function() {\n",
       "                var nbb_cell_id = 271;\n",
       "                var nbb_unformatted_code = \"df_partner_i = pd.read_csv(\\n    \\\"../../../../data/processed/partner_i-Oficial/cpiif40.csv\\\"\\n)\\n\\ndf_partner_i = df_partner_i.drop(\\n    [\\n        \\\"1 day Compressive strength\\\",\\n        \\\"3 day Compressive strength\\\",\\n        \\\"7 day Compressive strength\\\",\\n    ],\\n    axis=1,\\n).copy()\\n\\ny = df_partner_i.pop(\\\"28 day Compressive strength\\\")\\nx = df_partner_i.drop([\\\"Date\\\"], axis=1)\\nx.columns = x.columns.str.lower()\\nx = x[COMMON_FEATURES]\";\n",
       "                var nbb_formatted_code = \"df_partner_i = pd.read_csv(\\\"../../../../data/processed/partner_i-Oficial/cpiif40.csv\\\")\\n\\ndf_partner_i = df_partner_i.drop(\\n    [\\n        \\\"1 day Compressive strength\\\",\\n        \\\"3 day Compressive strength\\\",\\n        \\\"7 day Compressive strength\\\",\\n    ],\\n    axis=1,\\n).copy()\\n\\ny = df_partner_i.pop(\\\"28 day Compressive strength\\\")\\nx = df_partner_i.drop([\\\"Date\\\"], axis=1)\\nx.columns = x.columns.str.lower()\\nx = x[COMMON_FEATURES]\";\n",
       "                var nbb_cells = Jupyter.notebook.get_cells();\n",
       "                for (var i = 0; i < nbb_cells.length; ++i) {\n",
       "                    if (nbb_cells[i].input_prompt_number == nbb_cell_id) {\n",
       "                        if (nbb_cells[i].get_text() == nbb_unformatted_code) {\n",
       "                             nbb_cells[i].set_text(nbb_formatted_code);\n",
       "                        }\n",
       "                        break;\n",
       "                    }\n",
       "                }\n",
       "            }, 500);\n",
       "            "
      ],
      "text/plain": [
       "<IPython.core.display.Javascript object>"
      ]
     },
     "metadata": {},
     "output_type": "display_data"
    }
   ],
   "source": [
    "df_partner_i = pd.read_csv(\"../../../../data/processed/partner_i-Oficial/cpiif40.csv\")\n",
    "\n",
    "df_partner_i = df_partner_i.drop(\n",
    "    [\n",
    "        \"1 day Compressive strength\",\n",
    "        \"3 day Compressive strength\",\n",
    "        \"7 day Compressive strength\",\n",
    "    ],\n",
    "    axis=1,\n",
    ").copy()\n",
    "\n",
    "y = df_partner_i.pop(\"28 day Compressive strength\")\n",
    "x = df_partner_i.drop([\"Date\"], axis=1)\n",
    "x.columns = x.columns.str.lower()\n",
    "x = x[COMMON_FEATURES]"
   ]
  },
  {
   "cell_type": "code",
   "execution_count": 272,
   "metadata": {},
   "outputs": [
    {
     "name": "stdout",
     "output_type": "stream",
     "text": [
      "Repeated Cross Validation:\n",
      "Repeats: 10\n",
      "n_splits: 10\n",
      "\n",
      "******\n",
      "[TRAIN]\n",
      "******\n",
      "RMSE: 1.138 (0.012)\n",
      "MAE: 0.885 (0.011)\n",
      "MAPE: 0.019 (0.000)\n",
      "R2: 0.071 (0.007)\n",
      "\n",
      "======================\n",
      "\n",
      "******\n",
      "[TEST]\n",
      "******\n",
      "RMSE: 1.465 (1.433)\n",
      "MAE: 0.949 (0.228)\n",
      "MAPE: 0.020 (0.005)\n",
      "R2: 2.415 (16.473)\n",
      "\n",
      "======================\n",
      "\n"
     ]
    },
    {
     "data": {
      "application/javascript": [
       "\n",
       "            setTimeout(function() {\n",
       "                var nbb_cell_id = 272;\n",
       "                var nbb_unformatted_code = \"set_seeds()\\nrepeats = 10\\nn_splits = 10\\npipeline = Pipeline(\\n    [(\\\"transformer\\\", StandardScaler()), (\\\"estimator\\\", LinearRegression())]\\n)\\ncv = RepeatedKFold(n_splits=n_splits, n_repeats=repeats, random_state=SEED)\\nscores = cross_validate(\\n    pipeline,\\n    x,\\n    y,\\n    scoring=METRICS,\\n    cv=cv,\\n    n_jobs=-1,\\n    return_train_score=True,\\n)\\n# scores = np.abs(scores)\\nprint(\\\"Repeated Cross Validation:\\\")\\nprint(f\\\"Repeats: {repeats}\\\")\\nprint(f\\\"n_splits: {n_splits}\\\")\\nprint()\\nprint_scores(scores, METRICS, METRICS_DICT)\";\n",
       "                var nbb_formatted_code = \"set_seeds()\\nrepeats = 10\\nn_splits = 10\\npipeline = Pipeline(\\n    [(\\\"transformer\\\", StandardScaler()), (\\\"estimator\\\", LinearRegression())]\\n)\\ncv = RepeatedKFold(n_splits=n_splits, n_repeats=repeats, random_state=SEED)\\nscores = cross_validate(\\n    pipeline,\\n    x,\\n    y,\\n    scoring=METRICS,\\n    cv=cv,\\n    n_jobs=-1,\\n    return_train_score=True,\\n)\\n# scores = np.abs(scores)\\nprint(\\\"Repeated Cross Validation:\\\")\\nprint(f\\\"Repeats: {repeats}\\\")\\nprint(f\\\"n_splits: {n_splits}\\\")\\nprint()\\nprint_scores(scores, METRICS, METRICS_DICT)\";\n",
       "                var nbb_cells = Jupyter.notebook.get_cells();\n",
       "                for (var i = 0; i < nbb_cells.length; ++i) {\n",
       "                    if (nbb_cells[i].input_prompt_number == nbb_cell_id) {\n",
       "                        if (nbb_cells[i].get_text() == nbb_unformatted_code) {\n",
       "                             nbb_cells[i].set_text(nbb_formatted_code);\n",
       "                        }\n",
       "                        break;\n",
       "                    }\n",
       "                }\n",
       "            }, 500);\n",
       "            "
      ],
      "text/plain": [
       "<IPython.core.display.Javascript object>"
      ]
     },
     "metadata": {},
     "output_type": "display_data"
    }
   ],
   "source": [
    "set_seeds()\n",
    "repeats = 10\n",
    "n_splits = 10\n",
    "pipeline = Pipeline(\n",
    "    [(\"transformer\", StandardScaler()), (\"estimator\", LinearRegression())]\n",
    ")\n",
    "cv = RepeatedKFold(n_splits=n_splits, n_repeats=repeats, random_state=SEED)\n",
    "scores = cross_validate(\n",
    "    pipeline,\n",
    "    x,\n",
    "    y,\n",
    "    scoring=METRICS,\n",
    "    cv=cv,\n",
    "    n_jobs=-1,\n",
    "    return_train_score=True,\n",
    ")\n",
    "# scores = np.abs(scores)\n",
    "print(\"Repeated Cross Validation:\")\n",
    "print(f\"Repeats: {repeats}\")\n",
    "print(f\"n_splits: {n_splits}\")\n",
    "print()\n",
    "print_scores(scores, METRICS, METRICS_DICT)"
   ]
  },
  {
   "cell_type": "markdown",
   "metadata": {},
   "source": [
    "# Pre Trainning"
   ]
  },
  {
   "cell_type": "markdown",
   "metadata": {},
   "source": [
    "# partner_i"
   ]
  },
  {
   "cell_type": "code",
   "execution_count": 297,
   "metadata": {},
   "outputs": [
    {
     "data": {
      "application/javascript": [
       "\n",
       "            setTimeout(function() {\n",
       "                var nbb_cell_id = 297;\n",
       "                var nbb_unformatted_code = \"batch_size = 32\\nepochs = 200\\nverbose = 0\";\n",
       "                var nbb_formatted_code = \"batch_size = 32\\nepochs = 200\\nverbose = 0\";\n",
       "                var nbb_cells = Jupyter.notebook.get_cells();\n",
       "                for (var i = 0; i < nbb_cells.length; ++i) {\n",
       "                    if (nbb_cells[i].input_prompt_number == nbb_cell_id) {\n",
       "                        if (nbb_cells[i].get_text() == nbb_unformatted_code) {\n",
       "                             nbb_cells[i].set_text(nbb_formatted_code);\n",
       "                        }\n",
       "                        break;\n",
       "                    }\n",
       "                }\n",
       "            }, 500);\n",
       "            "
      ],
      "text/plain": [
       "<IPython.core.display.Javascript object>"
      ]
     },
     "metadata": {},
     "output_type": "display_data"
    }
   ],
   "source": [
    "batch_size = 32\n",
    "epochs = 200\n",
    "verbose = 0"
   ]
  },
  {
   "cell_type": "code",
   "execution_count": 298,
   "metadata": {},
   "outputs": [
    {
     "data": {
      "application/javascript": [
       "\n",
       "            setTimeout(function() {\n",
       "                var nbb_cell_id = 298;\n",
       "                var nbb_unformatted_code = \"COMMON_FEATURES = [\\\"mgo\\\", \\\"al2o3\\\", \\\"sio2\\\", \\\"so3\\\", \\\"k2o\\\", \\\"fe2o3\\\"]\";\n",
       "                var nbb_formatted_code = \"COMMON_FEATURES = [\\\"mgo\\\", \\\"al2o3\\\", \\\"sio2\\\", \\\"so3\\\", \\\"k2o\\\", \\\"fe2o3\\\"]\";\n",
       "                var nbb_cells = Jupyter.notebook.get_cells();\n",
       "                for (var i = 0; i < nbb_cells.length; ++i) {\n",
       "                    if (nbb_cells[i].input_prompt_number == nbb_cell_id) {\n",
       "                        if (nbb_cells[i].get_text() == nbb_unformatted_code) {\n",
       "                             nbb_cells[i].set_text(nbb_formatted_code);\n",
       "                        }\n",
       "                        break;\n",
       "                    }\n",
       "                }\n",
       "            }, 500);\n",
       "            "
      ],
      "text/plain": [
       "<IPython.core.display.Javascript object>"
      ]
     },
     "metadata": {},
     "output_type": "display_data"
    }
   ],
   "source": [
    "COMMON_FEATURES = [\"mgo\", \"al2o3\", \"sio2\", \"so3\", \"k2o\", \"fe2o3\"]"
   ]
  },
  {
   "cell_type": "code",
   "execution_count": 299,
   "metadata": {},
   "outputs": [
    {
     "data": {
      "application/javascript": [
       "\n",
       "            setTimeout(function() {\n",
       "                var nbb_cell_id = 299;\n",
       "                var nbb_unformatted_code = \"df_partner_i = pd.read_csv(\\\"../../../../data/processed/partner_i-Oficial/cpiif40.csv\\\")\";\n",
       "                var nbb_formatted_code = \"df_partner_i = pd.read_csv(\\\"../../../../data/processed/partner_i-Oficial/cpiif40.csv\\\")\";\n",
       "                var nbb_cells = Jupyter.notebook.get_cells();\n",
       "                for (var i = 0; i < nbb_cells.length; ++i) {\n",
       "                    if (nbb_cells[i].input_prompt_number == nbb_cell_id) {\n",
       "                        if (nbb_cells[i].get_text() == nbb_unformatted_code) {\n",
       "                             nbb_cells[i].set_text(nbb_formatted_code);\n",
       "                        }\n",
       "                        break;\n",
       "                    }\n",
       "                }\n",
       "            }, 500);\n",
       "            "
      ],
      "text/plain": [
       "<IPython.core.display.Javascript object>"
      ]
     },
     "metadata": {},
     "output_type": "display_data"
    }
   ],
   "source": [
    "df_partner_i = pd.read_csv(\"../../../../data/processed/partner_i-Oficial/cpiif40.csv\")"
   ]
  },
  {
   "cell_type": "code",
   "execution_count": 300,
   "metadata": {},
   "outputs": [
    {
     "data": {
      "application/javascript": [
       "\n",
       "            setTimeout(function() {\n",
       "                var nbb_cell_id = 300;\n",
       "                var nbb_unformatted_code = \"df_partner_i = df_partner_i.drop(\\n    [\\n        \\\"1 day Compressive strength\\\",\\n        \\\"3 day Compressive strength\\\",\\n        \\\"7 day Compressive strength\\\",\\n    ],\\n    axis=1,\\n).copy()\\n\\ny = df_partner_i.pop(\\\"28 day Compressive strength\\\")\\nx = df_partner_i.drop([\\\"Date\\\"], axis=1)\\nx.columns = x.columns.str.lower()\\nx = x[COMMON_FEATURES]\\n\\nx_train, x_test, y_train, y_test = train_test_split(\\n    x, y, test_size=0.2, random_state=SEED, shuffle=False\\n)\";\n",
       "                var nbb_formatted_code = \"df_partner_i = df_partner_i.drop(\\n    [\\n        \\\"1 day Compressive strength\\\",\\n        \\\"3 day Compressive strength\\\",\\n        \\\"7 day Compressive strength\\\",\\n    ],\\n    axis=1,\\n).copy()\\n\\ny = df_partner_i.pop(\\\"28 day Compressive strength\\\")\\nx = df_partner_i.drop([\\\"Date\\\"], axis=1)\\nx.columns = x.columns.str.lower()\\nx = x[COMMON_FEATURES]\\n\\nx_train, x_test, y_train, y_test = train_test_split(\\n    x, y, test_size=0.2, random_state=SEED, shuffle=False\\n)\";\n",
       "                var nbb_cells = Jupyter.notebook.get_cells();\n",
       "                for (var i = 0; i < nbb_cells.length; ++i) {\n",
       "                    if (nbb_cells[i].input_prompt_number == nbb_cell_id) {\n",
       "                        if (nbb_cells[i].get_text() == nbb_unformatted_code) {\n",
       "                             nbb_cells[i].set_text(nbb_formatted_code);\n",
       "                        }\n",
       "                        break;\n",
       "                    }\n",
       "                }\n",
       "            }, 500);\n",
       "            "
      ],
      "text/plain": [
       "<IPython.core.display.Javascript object>"
      ]
     },
     "metadata": {},
     "output_type": "display_data"
    }
   ],
   "source": [
    "df_partner_i = df_partner_i.drop(\n",
    "    [\n",
    "        \"1 day Compressive strength\",\n",
    "        \"3 day Compressive strength\",\n",
    "        \"7 day Compressive strength\",\n",
    "    ],\n",
    "    axis=1,\n",
    ").copy()\n",
    "\n",
    "y = df_partner_i.pop(\"28 day Compressive strength\")\n",
    "x = df_partner_i.drop([\"Date\"], axis=1)\n",
    "x.columns = x.columns.str.lower()\n",
    "x = x[COMMON_FEATURES]\n",
    "\n",
    "x_train, x_test, y_train, y_test = train_test_split(\n",
    "    x, y, test_size=0.2, random_state=SEED, shuffle=False\n",
    ")"
   ]
  },
  {
   "cell_type": "code",
   "execution_count": 301,
   "metadata": {},
   "outputs": [
    {
     "data": {
      "application/javascript": [
       "\n",
       "            setTimeout(function() {\n",
       "                var nbb_cell_id = 301;\n",
       "                var nbb_unformatted_code = \"set_seeds()\\n\\nmodel = get_model(shape=(x_train.shape[-1]))\\nsc = StandardScaler()\\n\\nhistory = model.fit(\\n    sc.fit_transform(x_train),\\n    y_train,\\n    batch_size=batch_size,\\n    epochs=epochs,\\n    verbose=verbose,\\n)\";\n",
       "                var nbb_formatted_code = \"set_seeds()\\n\\nmodel = get_model(shape=(x_train.shape[-1]))\\nsc = StandardScaler()\\n\\nhistory = model.fit(\\n    sc.fit_transform(x_train),\\n    y_train,\\n    batch_size=batch_size,\\n    epochs=epochs,\\n    verbose=verbose,\\n)\";\n",
       "                var nbb_cells = Jupyter.notebook.get_cells();\n",
       "                for (var i = 0; i < nbb_cells.length; ++i) {\n",
       "                    if (nbb_cells[i].input_prompt_number == nbb_cell_id) {\n",
       "                        if (nbb_cells[i].get_text() == nbb_unformatted_code) {\n",
       "                             nbb_cells[i].set_text(nbb_formatted_code);\n",
       "                        }\n",
       "                        break;\n",
       "                    }\n",
       "                }\n",
       "            }, 500);\n",
       "            "
      ],
      "text/plain": [
       "<IPython.core.display.Javascript object>"
      ]
     },
     "metadata": {},
     "output_type": "display_data"
    }
   ],
   "source": [
    "set_seeds()\n",
    "\n",
    "model = get_model(shape=(x_train.shape[-1]))\n",
    "sc = StandardScaler()\n",
    "\n",
    "history = model.fit(\n",
    "    sc.fit_transform(x_train),\n",
    "    y_train,\n",
    "    batch_size=batch_size,\n",
    "    epochs=epochs,\n",
    "    verbose=verbose,\n",
    ")"
   ]
  },
  {
   "cell_type": "code",
   "execution_count": 302,
   "metadata": {},
   "outputs": [
    {
     "name": "stdout",
     "output_type": "stream",
     "text": [
      "******\n",
      "[TRAIN]\n",
      "******\n",
      "RMSE: 1.281 (0.000)\n",
      "MAE: 0.963 (0.000)\n",
      "MAPE: 0.020 (0.000)\n",
      "R2: 0.245 (0.000)\n",
      "\n",
      "======================\n",
      "\n",
      "******\n",
      "[TEST]\n",
      "******\n",
      "RMSE: 1.584 (0.000)\n",
      "MAE: 1.224 (0.000)\n",
      "MAPE: 0.025 (0.000)\n",
      "R2: 0.501 (0.000)\n",
      "\n",
      "======================\n",
      "\n"
     ]
    },
    {
     "data": {
      "application/javascript": [
       "\n",
       "            setTimeout(function() {\n",
       "                var nbb_cell_id = 302;\n",
       "                var nbb_unformatted_code = \"y_train_pred = model.predict(sc.transform(x_train))\\ny_test_pred = model.predict(sc.transform(x_test))\\n\\nscores = score_regression_metrics(y_train, y_train_pred, y_test, y_test_pred)\\nprint_scores(scores, METRICS, METRICS_DICT)\";\n",
       "                var nbb_formatted_code = \"y_train_pred = model.predict(sc.transform(x_train))\\ny_test_pred = model.predict(sc.transform(x_test))\\n\\nscores = score_regression_metrics(y_train, y_train_pred, y_test, y_test_pred)\\nprint_scores(scores, METRICS, METRICS_DICT)\";\n",
       "                var nbb_cells = Jupyter.notebook.get_cells();\n",
       "                for (var i = 0; i < nbb_cells.length; ++i) {\n",
       "                    if (nbb_cells[i].input_prompt_number == nbb_cell_id) {\n",
       "                        if (nbb_cells[i].get_text() == nbb_unformatted_code) {\n",
       "                             nbb_cells[i].set_text(nbb_formatted_code);\n",
       "                        }\n",
       "                        break;\n",
       "                    }\n",
       "                }\n",
       "            }, 500);\n",
       "            "
      ],
      "text/plain": [
       "<IPython.core.display.Javascript object>"
      ]
     },
     "metadata": {},
     "output_type": "display_data"
    }
   ],
   "source": [
    "y_train_pred = model.predict(sc.transform(x_train))\n",
    "y_test_pred = model.predict(sc.transform(x_test))\n",
    "\n",
    "scores = score_regression_metrics(y_train, y_train_pred, y_test, y_test_pred)\n",
    "print_scores(scores, METRICS, METRICS_DICT)"
   ]
  },
  {
   "cell_type": "code",
   "execution_count": 303,
   "metadata": {},
   "outputs": [
    {
     "data": {
      "application/javascript": [
       "\n",
       "            setTimeout(function() {\n",
       "                var nbb_cell_id = 303;\n",
       "                var nbb_unformatted_code = \"model.save_weights(\\\"conv1d_weights.h5\\\")\";\n",
       "                var nbb_formatted_code = \"model.save_weights(\\\"conv1d_weights.h5\\\")\";\n",
       "                var nbb_cells = Jupyter.notebook.get_cells();\n",
       "                for (var i = 0; i < nbb_cells.length; ++i) {\n",
       "                    if (nbb_cells[i].input_prompt_number == nbb_cell_id) {\n",
       "                        if (nbb_cells[i].get_text() == nbb_unformatted_code) {\n",
       "                             nbb_cells[i].set_text(nbb_formatted_code);\n",
       "                        }\n",
       "                        break;\n",
       "                    }\n",
       "                }\n",
       "            }, 500);\n",
       "            "
      ],
      "text/plain": [
       "<IPython.core.display.Javascript object>"
      ]
     },
     "metadata": {},
     "output_type": "display_data"
    }
   ],
   "source": [
    "model.save_weights(\"conv1d_weights.h5\")"
   ]
  },
  {
   "cell_type": "markdown",
   "metadata": {},
   "source": [
    "# Intercement"
   ]
  },
  {
   "cell_type": "code",
   "execution_count": 316,
   "metadata": {},
   "outputs": [
    {
     "data": {
      "application/javascript": [
       "\n",
       "            setTimeout(function() {\n",
       "                var nbb_cell_id = 316;\n",
       "                var nbb_unformatted_code = \"df = pd.read_csv(\\\"../../../../data/processed/Intercement/cpiif40.csv\\\")\\ndf_no_cs = df.drop(\\n    [\\n        \\\"RC1\\\",\\n        \\\"RC3\\\",\\n        \\\"RC7\\\",\\n    ],\\n    axis=1,\\n).copy()\\n\\ny = df_no_cs.pop(\\\"RC28\\\")\\nx = df_no_cs.drop([\\\"Data\\\"], axis=1)\\nx.columns = x.columns.str.lower()\\nx = x[COMMON_FEATURES]\\n\\nx_train, x_test, y_train, y_test = train_test_split(\\n    x, y, test_size=0.2, random_state=SEED, shuffle=False\\n)\";\n",
       "                var nbb_formatted_code = \"df = pd.read_csv(\\\"../../../../data/processed/Intercement/cpiif40.csv\\\")\\ndf_no_cs = df.drop(\\n    [\\n        \\\"RC1\\\",\\n        \\\"RC3\\\",\\n        \\\"RC7\\\",\\n    ],\\n    axis=1,\\n).copy()\\n\\ny = df_no_cs.pop(\\\"RC28\\\")\\nx = df_no_cs.drop([\\\"Data\\\"], axis=1)\\nx.columns = x.columns.str.lower()\\nx = x[COMMON_FEATURES]\\n\\nx_train, x_test, y_train, y_test = train_test_split(\\n    x, y, test_size=0.2, random_state=SEED, shuffle=False\\n)\";\n",
       "                var nbb_cells = Jupyter.notebook.get_cells();\n",
       "                for (var i = 0; i < nbb_cells.length; ++i) {\n",
       "                    if (nbb_cells[i].input_prompt_number == nbb_cell_id) {\n",
       "                        if (nbb_cells[i].get_text() == nbb_unformatted_code) {\n",
       "                             nbb_cells[i].set_text(nbb_formatted_code);\n",
       "                        }\n",
       "                        break;\n",
       "                    }\n",
       "                }\n",
       "            }, 500);\n",
       "            "
      ],
      "text/plain": [
       "<IPython.core.display.Javascript object>"
      ]
     },
     "metadata": {},
     "output_type": "display_data"
    }
   ],
   "source": [
    "df = pd.read_csv(\"../../../../data/processed/Intercement/cpiif40.csv\")\n",
    "df_no_cs = df.drop(\n",
    "    [\n",
    "        \"RC1\",\n",
    "        \"RC3\",\n",
    "        \"RC7\",\n",
    "    ],\n",
    "    axis=1,\n",
    ").copy()\n",
    "\n",
    "y = df_no_cs.pop(\"RC28\")\n",
    "x = df_no_cs.drop([\"Data\"], axis=1)\n",
    "x.columns = x.columns.str.lower()\n",
    "x = x[COMMON_FEATURES]\n",
    "\n",
    "x_train, x_test, y_train, y_test = train_test_split(\n",
    "    x, y, test_size=0.2, random_state=SEED, shuffle=False\n",
    ")"
   ]
  },
  {
   "cell_type": "code",
   "execution_count": 322,
   "metadata": {},
   "outputs": [
    {
     "data": {
      "application/javascript": [
       "\n",
       "            setTimeout(function() {\n",
       "                var nbb_cell_id = 322;\n",
       "                var nbb_unformatted_code = \"set_seeds()\\n\\nmodel_2 = get_model(include_top=False, shape=(x.shape[-1]))\\nmodel_2.load_weights(\\\"conv1d_weights.h5\\\", by_name=True)\\nmodel_2.trainable = False\\n\\nflat1 = tf.keras.layers.Flatten()(model_2.layers[-1].output)\\nclass1 = tf.keras.layers.Dense(256, activation=\\\"relu\\\")(flat1)\\n# class1 = tf.keras.layers.Dense(16, activation=\\\"relu\\\")(class1)\\noutputs = tf.keras.layers.Dense(1, activation=\\\"linear\\\")(class1)\\nmodel = tf.keras.Model(model_2.inputs, outputs)\\n\\nmodel.compile(\\n    optimizer=tf.keras.optimizers.Adam(learning_rate=1e-3),\\n    loss=\\\"mse\\\",\\n    # loss=tf.keras.losses.Huber(),\\n    metrics=[tf.keras.metrics.RootMeanSquaredError(name=\\\"RMSE\\\")],\\n)\";\n",
       "                var nbb_formatted_code = \"set_seeds()\\n\\nmodel_2 = get_model(include_top=False, shape=(x.shape[-1]))\\nmodel_2.load_weights(\\\"conv1d_weights.h5\\\", by_name=True)\\nmodel_2.trainable = False\\n\\nflat1 = tf.keras.layers.Flatten()(model_2.layers[-1].output)\\nclass1 = tf.keras.layers.Dense(256, activation=\\\"relu\\\")(flat1)\\n# class1 = tf.keras.layers.Dense(16, activation=\\\"relu\\\")(class1)\\noutputs = tf.keras.layers.Dense(1, activation=\\\"linear\\\")(class1)\\nmodel = tf.keras.Model(model_2.inputs, outputs)\\n\\nmodel.compile(\\n    optimizer=tf.keras.optimizers.Adam(learning_rate=1e-3),\\n    loss=\\\"mse\\\",\\n    # loss=tf.keras.losses.Huber(),\\n    metrics=[tf.keras.metrics.RootMeanSquaredError(name=\\\"RMSE\\\")],\\n)\";\n",
       "                var nbb_cells = Jupyter.notebook.get_cells();\n",
       "                for (var i = 0; i < nbb_cells.length; ++i) {\n",
       "                    if (nbb_cells[i].input_prompt_number == nbb_cell_id) {\n",
       "                        if (nbb_cells[i].get_text() == nbb_unformatted_code) {\n",
       "                             nbb_cells[i].set_text(nbb_formatted_code);\n",
       "                        }\n",
       "                        break;\n",
       "                    }\n",
       "                }\n",
       "            }, 500);\n",
       "            "
      ],
      "text/plain": [
       "<IPython.core.display.Javascript object>"
      ]
     },
     "metadata": {},
     "output_type": "display_data"
    }
   ],
   "source": [
    "set_seeds()\n",
    "\n",
    "model_2 = get_model(include_top=False, shape=(x.shape[-1]))\n",
    "model_2.load_weights(\"conv1d_weights.h5\", by_name=True)\n",
    "model_2.trainable = False\n",
    "\n",
    "flat1 = tf.keras.layers.Flatten()(model_2.layers[-1].output)\n",
    "class1 = tf.keras.layers.Dense(256, activation=\"relu\")(flat1)\n",
    "# class1 = tf.keras.layers.Dense(16, activation=\"relu\")(class1)\n",
    "outputs = tf.keras.layers.Dense(1, activation=\"linear\")(class1)\n",
    "model = tf.keras.Model(model_2.inputs, outputs)\n",
    "\n",
    "model.compile(\n",
    "    optimizer=tf.keras.optimizers.Adam(learning_rate=1e-3),\n",
    "    loss=\"mse\",\n",
    "    # loss=tf.keras.losses.Huber(),\n",
    "    metrics=[tf.keras.metrics.RootMeanSquaredError(name=\"RMSE\")],\n",
    ")"
   ]
  },
  {
   "cell_type": "code",
   "execution_count": 323,
   "metadata": {},
   "outputs": [
    {
     "data": {
      "application/javascript": [
       "\n",
       "            setTimeout(function() {\n",
       "                var nbb_cell_id = 323;\n",
       "                var nbb_unformatted_code = \"# sc = StandardScaler()\\n\\nhistory = model.fit(\\n    sc.transform(x_train),\\n    y_train,\\n    batch_size=batch_size,\\n    epochs=epochs,\\n    verbose=verbose,\\n)\";\n",
       "                var nbb_formatted_code = \"# sc = StandardScaler()\\n\\nhistory = model.fit(\\n    sc.transform(x_train),\\n    y_train,\\n    batch_size=batch_size,\\n    epochs=epochs,\\n    verbose=verbose,\\n)\";\n",
       "                var nbb_cells = Jupyter.notebook.get_cells();\n",
       "                for (var i = 0; i < nbb_cells.length; ++i) {\n",
       "                    if (nbb_cells[i].input_prompt_number == nbb_cell_id) {\n",
       "                        if (nbb_cells[i].get_text() == nbb_unformatted_code) {\n",
       "                             nbb_cells[i].set_text(nbb_formatted_code);\n",
       "                        }\n",
       "                        break;\n",
       "                    }\n",
       "                }\n",
       "            }, 500);\n",
       "            "
      ],
      "text/plain": [
       "<IPython.core.display.Javascript object>"
      ]
     },
     "metadata": {},
     "output_type": "display_data"
    }
   ],
   "source": [
    "# sc = StandardScaler()\n",
    "\n",
    "history = model.fit(\n",
    "    sc.transform(x_train),\n",
    "    y_train,\n",
    "    batch_size=batch_size,\n",
    "    epochs=epochs,\n",
    "    verbose=verbose,\n",
    ")"
   ]
  },
  {
   "cell_type": "code",
   "execution_count": 324,
   "metadata": {},
   "outputs": [
    {
     "data": {
      "text/plain": [
       "[<matplotlib.lines.Line2D at 0x7f3589cee668>]"
      ]
     },
     "execution_count": 324,
     "metadata": {},
     "output_type": "execute_result"
    },
    {
     "data": {
      "image/png": "[encoded data removed]",
      "text/plain": [
       "<Figure size 432x288 with 1 Axes>"
      ]
     },
     "metadata": {
      "needs_background": "light"
     },
     "output_type": "display_data"
    },
    {
     "data": {
      "application/javascript": [
       "\n",
       "            setTimeout(function() {\n",
       "                var nbb_cell_id = 324;\n",
       "                var nbb_unformatted_code = \"plt.plot(history.history[\\\"RMSE\\\"])\";\n",
       "                var nbb_formatted_code = \"plt.plot(history.history[\\\"RMSE\\\"])\";\n",
       "                var nbb_cells = Jupyter.notebook.get_cells();\n",
       "                for (var i = 0; i < nbb_cells.length; ++i) {\n",
       "                    if (nbb_cells[i].input_prompt_number == nbb_cell_id) {\n",
       "                        if (nbb_cells[i].get_text() == nbb_unformatted_code) {\n",
       "                             nbb_cells[i].set_text(nbb_formatted_code);\n",
       "                        }\n",
       "                        break;\n",
       "                    }\n",
       "                }\n",
       "            }, 500);\n",
       "            "
      ],
      "text/plain": [
       "<IPython.core.display.Javascript object>"
      ]
     },
     "metadata": {},
     "output_type": "display_data"
    }
   ],
   "source": [
    "plt.plot(history.history[\"RMSE\"])"
   ]
  },
  {
   "cell_type": "code",
   "execution_count": 325,
   "metadata": {},
   "outputs": [
    {
     "name": "stdout",
     "output_type": "stream",
     "text": [
      "******\n",
      "[TRAIN]\n",
      "******\n",
      "RMSE: 2.349 (0.000)\n",
      "MAE: 1.882 (0.000)\n",
      "MAPE: 0.035 (0.000)\n",
      "R2: 0.165 (0.000)\n",
      "\n",
      "======================\n",
      "\n",
      "******\n",
      "[TEST]\n",
      "******\n",
      "RMSE: 7.080 (0.000)\n",
      "MAE: 5.805 (0.000)\n",
      "MAPE: 0.100 (0.000)\n",
      "R2: 5.533 (0.000)\n",
      "\n",
      "======================\n",
      "\n"
     ]
    },
    {
     "data": {
      "application/javascript": [
       "\n",
       "            setTimeout(function() {\n",
       "                var nbb_cell_id = 325;\n",
       "                var nbb_unformatted_code = \"y_train_pred = model.predict(sc.transform(x_train))\\ny_test_pred = model.predict(sc.transform(x_test))\\n\\nscores = score_regression_metrics(y_train, y_train_pred, y_test, y_test_pred)\\nprint_scores(scores, METRICS, METRICS_DICT)\";\n",
       "                var nbb_formatted_code = \"y_train_pred = model.predict(sc.transform(x_train))\\ny_test_pred = model.predict(sc.transform(x_test))\\n\\nscores = score_regression_metrics(y_train, y_train_pred, y_test, y_test_pred)\\nprint_scores(scores, METRICS, METRICS_DICT)\";\n",
       "                var nbb_cells = Jupyter.notebook.get_cells();\n",
       "                for (var i = 0; i < nbb_cells.length; ++i) {\n",
       "                    if (nbb_cells[i].input_prompt_number == nbb_cell_id) {\n",
       "                        if (nbb_cells[i].get_text() == nbb_unformatted_code) {\n",
       "                             nbb_cells[i].set_text(nbb_formatted_code);\n",
       "                        }\n",
       "                        break;\n",
       "                    }\n",
       "                }\n",
       "            }, 500);\n",
       "            "
      ],
      "text/plain": [
       "<IPython.core.display.Javascript object>"
      ]
     },
     "metadata": {},
     "output_type": "display_data"
    }
   ],
   "source": [
    "y_train_pred = model.predict(sc.transform(x_train))\n",
    "y_test_pred = model.predict(sc.transform(x_test))\n",
    "\n",
    "scores = score_regression_metrics(y_train, y_train_pred, y_test, y_test_pred)\n",
    "print_scores(scores, METRICS, METRICS_DICT)"
   ]
  },
  {
   "cell_type": "code",
   "execution_count": null,
   "metadata": {},
   "outputs": [],
   "source": []
  },
  {
   "cell_type": "code",
   "execution_count": null,
   "metadata": {},
   "outputs": [],
   "source": []
  }
 ],
 "metadata": {
  "kernelspec": {
   "display_name": "Python3 (ccs28-venv)",
   "language": "python",
   "name": "ccs28-venv"
  },
  "language_info": {
   "codemirror_mode": {
    "name": "ipython",
    "version": 3
   },
   "file_extension": ".py",
   "mimetype": "text/x-python",
   "name": "python",
   "nbconvert_exporter": "python",
   "pygments_lexer": "ipython3",
   "version": "3.6.9"
  }
 },
 "nbformat": 4,
 "nbformat_minor": 4
}
