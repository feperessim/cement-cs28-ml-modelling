{
 "cells": [
  {
   "cell_type": "code",
   "execution_count": 1,
   "metadata": {},
   "outputs": [
    {
     "data": {
      "application/javascript": [
       "\n",
       "            setTimeout(function() {\n",
       "                var nbb_cell_id = 1;\n",
       "                var nbb_unformatted_code = \"%load_ext nb_black\";\n",
       "                var nbb_formatted_code = \"%load_ext nb_black\";\n",
       "                var nbb_cells = Jupyter.notebook.get_cells();\n",
       "                for (var i = 0; i < nbb_cells.length; ++i) {\n",
       "                    if (nbb_cells[i].input_prompt_number == nbb_cell_id) {\n",
       "                        if (nbb_cells[i].get_text() == nbb_unformatted_code) {\n",
       "                             nbb_cells[i].set_text(nbb_formatted_code);\n",
       "                        }\n",
       "                        break;\n",
       "                    }\n",
       "                }\n",
       "            }, 500);\n",
       "            "
      ],
      "text/plain": [
       "<IPython.core.display.Javascript object>"
      ]
     },
     "metadata": {},
     "output_type": "display_data"
    }
   ],
   "source": [
    "%load_ext nb_black"
   ]
  },
  {
   "cell_type": "code",
   "execution_count": 2,
   "metadata": {},
   "outputs": [
    {
     "data": {
      "application/javascript": [
       "\n",
       "            setTimeout(function() {\n",
       "                var nbb_cell_id = 2;\n",
       "                var nbb_unformatted_code = \"# Database Reading and Manipulation\\nimport pandas as pd\\nimport tensorflow as tf\\n\\n# Random and os for reproducibility\\nimport random\\nimport os\\n\\n# Linear Algebra\\nimport numpy as np\\n\\n# Plotting\\nimport matplotlib.pyplot as plt\\n\\n# Model Selection\\nfrom sklearn.model_selection import train_test_split\\nfrom sklearn.model_selection import TimeSeriesSplit\\nfrom sklearn.model_selection import RepeatedKFold\\nfrom sklearn.model_selection import cross_val_score\\nfrom sklearn.model_selection import cross_validate\\nfrom sklearn.model_selection import GridSearchCV\\n\\n# Modeling\\nfrom sklearn.linear_model import LinearRegression\\n\\n# Processing\\nfrom sklearn.preprocessing import StandardScaler\\n\\n# Metrics\\nfrom sklearn.metrics import mean_squared_error\\nfrom sklearn.metrics import mean_absolute_error\\nfrom sklearn.metrics import mean_absolute_percentage_error\\nfrom sklearn.metrics import r2_score\\n\\n# Pipeline\\nfrom sklearn.pipeline import Pipeline\";\n",
       "                var nbb_formatted_code = \"# Database Reading and Manipulation\\nimport pandas as pd\\nimport tensorflow as tf\\n\\n# Random and os for reproducibility\\nimport random\\nimport os\\n\\n# Linear Algebra\\nimport numpy as np\\n\\n# Plotting\\nimport matplotlib.pyplot as plt\\n\\n# Model Selection\\nfrom sklearn.model_selection import train_test_split\\nfrom sklearn.model_selection import TimeSeriesSplit\\nfrom sklearn.model_selection import RepeatedKFold\\nfrom sklearn.model_selection import cross_val_score\\nfrom sklearn.model_selection import cross_validate\\nfrom sklearn.model_selection import GridSearchCV\\n\\n# Modeling\\nfrom sklearn.linear_model import LinearRegression\\n\\n# Processing\\nfrom sklearn.preprocessing import StandardScaler\\n\\n# Metrics\\nfrom sklearn.metrics import mean_squared_error\\nfrom sklearn.metrics import mean_absolute_error\\nfrom sklearn.metrics import mean_absolute_percentage_error\\nfrom sklearn.metrics import r2_score\\n\\n# Pipeline\\nfrom sklearn.pipeline import Pipeline\";\n",
       "                var nbb_cells = Jupyter.notebook.get_cells();\n",
       "                for (var i = 0; i < nbb_cells.length; ++i) {\n",
       "                    if (nbb_cells[i].input_prompt_number == nbb_cell_id) {\n",
       "                        if (nbb_cells[i].get_text() == nbb_unformatted_code) {\n",
       "                             nbb_cells[i].set_text(nbb_formatted_code);\n",
       "                        }\n",
       "                        break;\n",
       "                    }\n",
       "                }\n",
       "            }, 500);\n",
       "            "
      ],
      "text/plain": [
       "<IPython.core.display.Javascript object>"
      ]
     },
     "metadata": {},
     "output_type": "display_data"
    }
   ],
   "source": [
    "# Database Reading and Manipulation\n",
    "import pandas as pd\n",
    "import tensorflow as tf\n",
    "\n",
    "# Random and os for reproducibility\n",
    "import random\n",
    "import os\n",
    "\n",
    "# Linear Algebra\n",
    "import numpy as np\n",
    "\n",
    "# Plotting\n",
    "import matplotlib.pyplot as plt\n",
    "\n",
    "# Model Selection\n",
    "from sklearn.model_selection import train_test_split\n",
    "from sklearn.model_selection import TimeSeriesSplit\n",
    "from sklearn.model_selection import RepeatedKFold\n",
    "from sklearn.model_selection import cross_val_score\n",
    "from sklearn.model_selection import cross_validate\n",
    "from sklearn.model_selection import GridSearchCV\n",
    "\n",
    "# Modeling\n",
    "from sklearn.linear_model import LinearRegression\n",
    "\n",
    "# Processing\n",
    "from sklearn.preprocessing import StandardScaler\n",
    "\n",
    "# Metrics\n",
    "from sklearn.metrics import mean_squared_error\n",
    "from sklearn.metrics import mean_absolute_error\n",
    "from sklearn.metrics import mean_absolute_percentage_error\n",
    "from sklearn.metrics import r2_score\n",
    "\n",
    "# Pipeline\n",
    "from sklearn.pipeline import Pipeline"
   ]
  },
  {
   "cell_type": "markdown",
   "metadata": {},
   "source": [
    "# Functions and definitions"
   ]
  },
  {
   "cell_type": "code",
   "execution_count": 3,
   "metadata": {},
   "outputs": [
    {
     "data": {
      "application/javascript": [
       "\n",
       "            setTimeout(function() {\n",
       "                var nbb_cell_id = 3;\n",
       "                var nbb_unformatted_code = \"def score_model(model, x, y, n_splits=10, n_repeats=10):\\n    scoring = \\\"neg_root_mean_squared_error\\\"\\n    cv = RepeatedKFold(n_splits=n_splits, n_repeats=n_repeats, random_state=SEED)\\n    scores = cross_val_score(model, x, y, scoring=scoring, cv=cv, n_jobs=-1)\\n    return scores\";\n",
       "                var nbb_formatted_code = \"def score_model(model, x, y, n_splits=10, n_repeats=10):\\n    scoring = \\\"neg_root_mean_squared_error\\\"\\n    cv = RepeatedKFold(n_splits=n_splits, n_repeats=n_repeats, random_state=SEED)\\n    scores = cross_val_score(model, x, y, scoring=scoring, cv=cv, n_jobs=-1)\\n    return scores\";\n",
       "                var nbb_cells = Jupyter.notebook.get_cells();\n",
       "                for (var i = 0; i < nbb_cells.length; ++i) {\n",
       "                    if (nbb_cells[i].input_prompt_number == nbb_cell_id) {\n",
       "                        if (nbb_cells[i].get_text() == nbb_unformatted_code) {\n",
       "                             nbb_cells[i].set_text(nbb_formatted_code);\n",
       "                        }\n",
       "                        break;\n",
       "                    }\n",
       "                }\n",
       "            }, 500);\n",
       "            "
      ],
      "text/plain": [
       "<IPython.core.display.Javascript object>"
      ]
     },
     "metadata": {},
     "output_type": "display_data"
    }
   ],
   "source": [
    "def score_model(model, x, y, n_splits=10, n_repeats=10):\n",
    "    scoring = \"neg_root_mean_squared_error\"\n",
    "    cv = RepeatedKFold(n_splits=n_splits, n_repeats=n_repeats, random_state=SEED)\n",
    "    scores = cross_val_score(model, x, y, scoring=scoring, cv=cv, n_jobs=-1)\n",
    "    return scores"
   ]
  },
  {
   "cell_type": "code",
   "execution_count": 4,
   "metadata": {},
   "outputs": [
    {
     "data": {
      "application/javascript": [
       "\n",
       "            setTimeout(function() {\n",
       "                var nbb_cell_id = 4;\n",
       "                var nbb_unformatted_code = \"def plot_predictions(linreg_model, df, index, x, y):\\n    d = df[\\\"Data/Hora\\\"].values\\n    test_series = pd.DataFrame({\\\"ccs28\\\": y}, index=pd.to_datetime(d))\\n    pred_series = linreg_model.predict(scaler.transform(x))\\n    pred_series = pd.DataFrame({\\\"ccs28-pred\\\": pred_series}, index=pd.to_datetime(d))\\n\\n    fig, ax = plt.subplots(1, 1, sharex=True, sharey=True, figsize=(15, 7))\\n\\n    test_series.plot(ax=ax)\\n    ax.axvline(test_series.index[index], color=\\\"r\\\")  # end of train dataset\\n    pred_series[index:].plot(ax=ax)\\n    ax.grid(which=\\\"both\\\")\\n    ax.legend(\\n        [\\\"train and test series\\\", \\\"end of train series\\\", \\\"predicted\\\"], loc=\\\"upper left\\\"\\n    )\\n    # ax.set_xlabel('Period', labelpad=20, fontsize=15)\\n    ax.set_ylabel(\\\"Compressive Strength - MPa\\\", labelpad=20, fontsize=15)\\n    plt.show()\";\n",
       "                var nbb_formatted_code = \"def plot_predictions(linreg_model, df, index, x, y):\\n    d = df[\\\"Data/Hora\\\"].values\\n    test_series = pd.DataFrame({\\\"ccs28\\\": y}, index=pd.to_datetime(d))\\n    pred_series = linreg_model.predict(scaler.transform(x))\\n    pred_series = pd.DataFrame({\\\"ccs28-pred\\\": pred_series}, index=pd.to_datetime(d))\\n\\n    fig, ax = plt.subplots(1, 1, sharex=True, sharey=True, figsize=(15, 7))\\n\\n    test_series.plot(ax=ax)\\n    ax.axvline(test_series.index[index], color=\\\"r\\\")  # end of train dataset\\n    pred_series[index:].plot(ax=ax)\\n    ax.grid(which=\\\"both\\\")\\n    ax.legend(\\n        [\\\"train and test series\\\", \\\"end of train series\\\", \\\"predicted\\\"], loc=\\\"upper left\\\"\\n    )\\n    # ax.set_xlabel('Period', labelpad=20, fontsize=15)\\n    ax.set_ylabel(\\\"Compressive Strength - MPa\\\", labelpad=20, fontsize=15)\\n    plt.show()\";\n",
       "                var nbb_cells = Jupyter.notebook.get_cells();\n",
       "                for (var i = 0; i < nbb_cells.length; ++i) {\n",
       "                    if (nbb_cells[i].input_prompt_number == nbb_cell_id) {\n",
       "                        if (nbb_cells[i].get_text() == nbb_unformatted_code) {\n",
       "                             nbb_cells[i].set_text(nbb_formatted_code);\n",
       "                        }\n",
       "                        break;\n",
       "                    }\n",
       "                }\n",
       "            }, 500);\n",
       "            "
      ],
      "text/plain": [
       "<IPython.core.display.Javascript object>"
      ]
     },
     "metadata": {},
     "output_type": "display_data"
    }
   ],
   "source": [
    "def plot_predictions(linreg_model, df, index, x, y):\n",
    "    d = df[\"Data/Hora\"].values\n",
    "    test_series = pd.DataFrame({\"ccs28\": y}, index=pd.to_datetime(d))\n",
    "    pred_series = linreg_model.predict(scaler.transform(x))\n",
    "    pred_series = pd.DataFrame({\"ccs28-pred\": pred_series}, index=pd.to_datetime(d))\n",
    "\n",
    "    fig, ax = plt.subplots(1, 1, sharex=True, sharey=True, figsize=(15, 7))\n",
    "\n",
    "    test_series.plot(ax=ax)\n",
    "    ax.axvline(test_series.index[index], color=\"r\")  # end of train dataset\n",
    "    pred_series[index:].plot(ax=ax)\n",
    "    ax.grid(which=\"both\")\n",
    "    ax.legend(\n",
    "        [\"train and test series\", \"end of train series\", \"predicted\"], loc=\"upper left\"\n",
    "    )\n",
    "    # ax.set_xlabel('Period', labelpad=20, fontsize=15)\n",
    "    ax.set_ylabel(\"Compressive Strength - MPa\", labelpad=20, fontsize=15)\n",
    "    plt.show()"
   ]
  },
  {
   "cell_type": "code",
   "execution_count": 5,
   "metadata": {},
   "outputs": [
    {
     "data": {
      "application/javascript": [
       "\n",
       "            setTimeout(function() {\n",
       "                var nbb_cell_id = 5;\n",
       "                var nbb_unformatted_code = \"def plot_scores_box_plot(scores, repeats, n_splits):\\n    plt.figure(figsize=(15, 8))\\n    plt.boxplot(\\n        scores.reshape((repeats, n_splits)),\\n        labels=[str(r) for r in range(1, repeats + 1)],\\n        showmeans=True,\\n    )\\n    plt.ylabel(\\\"RMSE\\\", labelpad=20, fontsize=15)\\n    plt.xlabel(\\\"Repeats\\\", labelpad=20, fontsize=15)\\n    plt.show()\";\n",
       "                var nbb_formatted_code = \"def plot_scores_box_plot(scores, repeats, n_splits):\\n    plt.figure(figsize=(15, 8))\\n    plt.boxplot(\\n        scores.reshape((repeats, n_splits)),\\n        labels=[str(r) for r in range(1, repeats + 1)],\\n        showmeans=True,\\n    )\\n    plt.ylabel(\\\"RMSE\\\", labelpad=20, fontsize=15)\\n    plt.xlabel(\\\"Repeats\\\", labelpad=20, fontsize=15)\\n    plt.show()\";\n",
       "                var nbb_cells = Jupyter.notebook.get_cells();\n",
       "                for (var i = 0; i < nbb_cells.length; ++i) {\n",
       "                    if (nbb_cells[i].input_prompt_number == nbb_cell_id) {\n",
       "                        if (nbb_cells[i].get_text() == nbb_unformatted_code) {\n",
       "                             nbb_cells[i].set_text(nbb_formatted_code);\n",
       "                        }\n",
       "                        break;\n",
       "                    }\n",
       "                }\n",
       "            }, 500);\n",
       "            "
      ],
      "text/plain": [
       "<IPython.core.display.Javascript object>"
      ]
     },
     "metadata": {},
     "output_type": "display_data"
    }
   ],
   "source": [
    "def plot_scores_box_plot(scores, repeats, n_splits):\n",
    "    plt.figure(figsize=(15, 8))\n",
    "    plt.boxplot(\n",
    "        scores.reshape((repeats, n_splits)),\n",
    "        labels=[str(r) for r in range(1, repeats + 1)],\n",
    "        showmeans=True,\n",
    "    )\n",
    "    plt.ylabel(\"RMSE\", labelpad=20, fontsize=15)\n",
    "    plt.xlabel(\"Repeats\", labelpad=20, fontsize=15)\n",
    "    plt.show()"
   ]
  },
  {
   "cell_type": "code",
   "execution_count": 6,
   "metadata": {},
   "outputs": [
    {
     "data": {
      "application/javascript": [
       "\n",
       "            setTimeout(function() {\n",
       "                var nbb_cell_id = 6;\n",
       "                var nbb_unformatted_code = \"class BlockingTimeSeriesSplit:\\n    def __init__(self, n_splits):\\n        self.n_splits = n_splits\\n\\n    def get_n_splits(self, X, y, groups):\\n        return self.n_splits\\n\\n    def split(self, X, y=None, groups=None):\\n        n_samples = len(X)\\n        k_fold_size = n_samples // self.n_splits\\n        indices = np.arange(n_samples)\\n\\n        margin = 0\\n        for i in range(self.n_splits):\\n            start = i * k_fold_size\\n            stop = start + k_fold_size\\n            mid = int(0.5 * (stop - start)) + start\\n            yield indices[start:mid], indices[mid + margin : stop]\\n\\n\\n# Reference: https://goldinlocks.github.io/Time-Series-Cross-Validation/\";\n",
       "                var nbb_formatted_code = \"class BlockingTimeSeriesSplit:\\n    def __init__(self, n_splits):\\n        self.n_splits = n_splits\\n\\n    def get_n_splits(self, X, y, groups):\\n        return self.n_splits\\n\\n    def split(self, X, y=None, groups=None):\\n        n_samples = len(X)\\n        k_fold_size = n_samples // self.n_splits\\n        indices = np.arange(n_samples)\\n\\n        margin = 0\\n        for i in range(self.n_splits):\\n            start = i * k_fold_size\\n            stop = start + k_fold_size\\n            mid = int(0.5 * (stop - start)) + start\\n            yield indices[start:mid], indices[mid + margin : stop]\\n\\n\\n# Reference: https://goldinlocks.github.io/Time-Series-Cross-Validation/\";\n",
       "                var nbb_cells = Jupyter.notebook.get_cells();\n",
       "                for (var i = 0; i < nbb_cells.length; ++i) {\n",
       "                    if (nbb_cells[i].input_prompt_number == nbb_cell_id) {\n",
       "                        if (nbb_cells[i].get_text() == nbb_unformatted_code) {\n",
       "                             nbb_cells[i].set_text(nbb_formatted_code);\n",
       "                        }\n",
       "                        break;\n",
       "                    }\n",
       "                }\n",
       "            }, 500);\n",
       "            "
      ],
      "text/plain": [
       "<IPython.core.display.Javascript object>"
      ]
     },
     "metadata": {},
     "output_type": "display_data"
    }
   ],
   "source": [
    "class BlockingTimeSeriesSplit:\n",
    "    def __init__(self, n_splits):\n",
    "        self.n_splits = n_splits\n",
    "\n",
    "    def get_n_splits(self, X, y, groups):\n",
    "        return self.n_splits\n",
    "\n",
    "    def split(self, X, y=None, groups=None):\n",
    "        n_samples = len(X)\n",
    "        k_fold_size = n_samples // self.n_splits\n",
    "        indices = np.arange(n_samples)\n",
    "\n",
    "        margin = 0\n",
    "        for i in range(self.n_splits):\n",
    "            start = i * k_fold_size\n",
    "            stop = start + k_fold_size\n",
    "            mid = int(0.5 * (stop - start)) + start\n",
    "            yield indices[start:mid], indices[mid + margin : stop]\n",
    "\n",
    "\n",
    "# Reference: https://goldinlocks.github.io/Time-Series-Cross-Validation/"
   ]
  },
  {
   "cell_type": "code",
   "execution_count": 7,
   "metadata": {},
   "outputs": [
    {
     "data": {
      "application/javascript": [
       "\n",
       "            setTimeout(function() {\n",
       "                var nbb_cell_id = 7;\n",
       "                var nbb_unformatted_code = \"def repeated_blocking_time_series(\\n    Estimator, Transform, x, y, train_period, test_period, repeats=10, params=None\\n):\\n    results = []\\n    max_samples = x.shape[0]\\n\\n    for _ in range(repeats):\\n        i = 0\\n        scores = []\\n        for _ in range(0, max_samples // (train_period + test_period)):\\n            scaler = Transform()\\n            model = Estimator() if params is None else Estimator(**params)\\n            x_train = x[i : i + train_period]\\n            y_train = y[i : i + train_period]\\n            x_test = x[i + train_period : i + train_period + test_period]\\n            y_test = y[i + train_period : i + train_period + test_period]\\n            x_train = scaler.fit_transform(x_train)\\n            x_test = scaler.transform(x_test)\\n\\n            model.fit(x_train, y_train)\\n\\n            y_train_pred = model.predict(x_train)\\n            y_test_pred = model.predict(x_test)\\n            scores.append(\\n                score_regression_metrics(y_train, y_train_pred, y_test, y_test_pred)\\n            )\\n            i += train_period + test_period\\n\\n        scores_final = {key: [] for key, _ in scores[0].items()}\\n        for scores_dict in scores:\\n            for key, value in scores_dict.items():\\n                scores_final[key] += [value]\\n        results.append(scores_final)\\n    return results\";\n",
       "                var nbb_formatted_code = \"def repeated_blocking_time_series(\\n    Estimator, Transform, x, y, train_period, test_period, repeats=10, params=None\\n):\\n    results = []\\n    max_samples = x.shape[0]\\n\\n    for _ in range(repeats):\\n        i = 0\\n        scores = []\\n        for _ in range(0, max_samples // (train_period + test_period)):\\n            scaler = Transform()\\n            model = Estimator() if params is None else Estimator(**params)\\n            x_train = x[i : i + train_period]\\n            y_train = y[i : i + train_period]\\n            x_test = x[i + train_period : i + train_period + test_period]\\n            y_test = y[i + train_period : i + train_period + test_period]\\n            x_train = scaler.fit_transform(x_train)\\n            x_test = scaler.transform(x_test)\\n\\n            model.fit(x_train, y_train)\\n\\n            y_train_pred = model.predict(x_train)\\n            y_test_pred = model.predict(x_test)\\n            scores.append(\\n                score_regression_metrics(y_train, y_train_pred, y_test, y_test_pred)\\n            )\\n            i += train_period + test_period\\n\\n        scores_final = {key: [] for key, _ in scores[0].items()}\\n        for scores_dict in scores:\\n            for key, value in scores_dict.items():\\n                scores_final[key] += [value]\\n        results.append(scores_final)\\n    return results\";\n",
       "                var nbb_cells = Jupyter.notebook.get_cells();\n",
       "                for (var i = 0; i < nbb_cells.length; ++i) {\n",
       "                    if (nbb_cells[i].input_prompt_number == nbb_cell_id) {\n",
       "                        if (nbb_cells[i].get_text() == nbb_unformatted_code) {\n",
       "                             nbb_cells[i].set_text(nbb_formatted_code);\n",
       "                        }\n",
       "                        break;\n",
       "                    }\n",
       "                }\n",
       "            }, 500);\n",
       "            "
      ],
      "text/plain": [
       "<IPython.core.display.Javascript object>"
      ]
     },
     "metadata": {},
     "output_type": "display_data"
    }
   ],
   "source": [
    "def repeated_blocking_time_series(\n",
    "    Estimator, Transform, x, y, train_period, test_period, repeats=10, params=None\n",
    "):\n",
    "    results = []\n",
    "    max_samples = x.shape[0]\n",
    "\n",
    "    for _ in range(repeats):\n",
    "        i = 0\n",
    "        scores = []\n",
    "        for _ in range(0, max_samples // (train_period + test_period)):\n",
    "            scaler = Transform()\n",
    "            model = Estimator() if params is None else Estimator(**params)\n",
    "            x_train = x[i : i + train_period]\n",
    "            y_train = y[i : i + train_period]\n",
    "            x_test = x[i + train_period : i + train_period + test_period]\n",
    "            y_test = y[i + train_period : i + train_period + test_period]\n",
    "            x_train = scaler.fit_transform(x_train)\n",
    "            x_test = scaler.transform(x_test)\n",
    "\n",
    "            model.fit(x_train, y_train)\n",
    "\n",
    "            y_train_pred = model.predict(x_train)\n",
    "            y_test_pred = model.predict(x_test)\n",
    "            scores.append(\n",
    "                score_regression_metrics(y_train, y_train_pred, y_test, y_test_pred)\n",
    "            )\n",
    "            i += train_period + test_period\n",
    "\n",
    "        scores_final = {key: [] for key, _ in scores[0].items()}\n",
    "        for scores_dict in scores:\n",
    "            for key, value in scores_dict.items():\n",
    "                scores_final[key] += [value]\n",
    "        results.append(scores_final)\n",
    "    return results"
   ]
  },
  {
   "cell_type": "code",
   "execution_count": 8,
   "metadata": {},
   "outputs": [
    {
     "data": {
      "application/javascript": [
       "\n",
       "            setTimeout(function() {\n",
       "                var nbb_cell_id = 8;\n",
       "                var nbb_unformatted_code = \"def print_scores(scores, METRICS, METRICS_DICT):\\n    for phase in [\\\"train\\\", \\\"test\\\"]:\\n        print(\\\"******\\\")\\n        print(f\\\"[{phase.upper()}]\\\")\\n        print(\\\"******\\\")\\n        for metric in METRICS:\\n            name = METRICS_DICT[metric]\\n            print(\\n                f\\\"{name}: %.3f (%.3f)\\\"\\n                % (\\n                    np.abs(np.mean(scores[f\\\"{phase}_\\\" + metric])),\\n                    np.std(scores[f\\\"{phase}_\\\" + metric]),\\n                )\\n            )\\n        print(\\\"\\\\n======================\\\\n\\\")\";\n",
       "                var nbb_formatted_code = \"def print_scores(scores, METRICS, METRICS_DICT):\\n    for phase in [\\\"train\\\", \\\"test\\\"]:\\n        print(\\\"******\\\")\\n        print(f\\\"[{phase.upper()}]\\\")\\n        print(\\\"******\\\")\\n        for metric in METRICS:\\n            name = METRICS_DICT[metric]\\n            print(\\n                f\\\"{name}: %.3f (%.3f)\\\"\\n                % (\\n                    np.abs(np.mean(scores[f\\\"{phase}_\\\" + metric])),\\n                    np.std(scores[f\\\"{phase}_\\\" + metric]),\\n                )\\n            )\\n        print(\\\"\\\\n======================\\\\n\\\")\";\n",
       "                var nbb_cells = Jupyter.notebook.get_cells();\n",
       "                for (var i = 0; i < nbb_cells.length; ++i) {\n",
       "                    if (nbb_cells[i].input_prompt_number == nbb_cell_id) {\n",
       "                        if (nbb_cells[i].get_text() == nbb_unformatted_code) {\n",
       "                             nbb_cells[i].set_text(nbb_formatted_code);\n",
       "                        }\n",
       "                        break;\n",
       "                    }\n",
       "                }\n",
       "            }, 500);\n",
       "            "
      ],
      "text/plain": [
       "<IPython.core.display.Javascript object>"
      ]
     },
     "metadata": {},
     "output_type": "display_data"
    }
   ],
   "source": [
    "def print_scores(scores, METRICS, METRICS_DICT):\n",
    "    for phase in [\"train\", \"test\"]:\n",
    "        print(\"******\")\n",
    "        print(f\"[{phase.upper()}]\")\n",
    "        print(\"******\")\n",
    "        for metric in METRICS:\n",
    "            name = METRICS_DICT[metric]\n",
    "            print(\n",
    "                f\"{name}: %.3f (%.3f)\"\n",
    "                % (\n",
    "                    np.abs(np.mean(scores[f\"{phase}_\" + metric])),\n",
    "                    np.std(scores[f\"{phase}_\" + metric]),\n",
    "                )\n",
    "            )\n",
    "        print(\"\\n======================\\n\")"
   ]
  },
  {
   "cell_type": "code",
   "execution_count": 9,
   "metadata": {},
   "outputs": [
    {
     "data": {
      "application/javascript": [
       "\n",
       "            setTimeout(function() {\n",
       "                var nbb_cell_id = 9;\n",
       "                var nbb_unformatted_code = \"def score_regression_metrics(y_train, y_train_pred, y_test, y_test_pred):\\n    TRAIN_RMSE = mean_squared_error(y_true=y_train, y_pred=y_train_pred, squared=False)\\n    TRAIN_MAE = mean_absolute_error(y_true=y_train, y_pred=y_train_pred)\\n    TRAIN_MAPE = mean_absolute_percentage_error(y_true=y_train, y_pred=y_train_pred)\\n    TRAIN_R2 = r2_score(y_true=y_train, y_pred=y_train_pred)\\n\\n    TEST_RMSE = mean_squared_error(y_true=y_test, y_pred=y_test_pred, squared=False)\\n    TEST_MAE = mean_absolute_error(y_true=y_test, y_pred=y_test_pred)\\n    TEST_MAPE = mean_absolute_percentage_error(y_true=y_test, y_pred=y_test_pred)\\n    TEST_R2 = r2_score(y_true=y_test, y_pred=y_test_pred)\\n\\n    scores = {\\n        \\\"train_neg_root_mean_squared_error\\\": TRAIN_RMSE,\\n        \\\"train_neg_mean_absolute_error\\\": TRAIN_MAE,\\n        \\\"train_neg_mean_absolute_percentage_error\\\": TRAIN_MAPE,\\n        \\\"train_r2\\\": TRAIN_R2,\\n        \\\"test_neg_root_mean_squared_error\\\": TEST_RMSE,\\n        \\\"test_neg_mean_absolute_error\\\": TEST_MAE,\\n        \\\"test_neg_mean_absolute_percentage_error\\\": TEST_MAPE,\\n        \\\"test_r2\\\": TEST_R2,\\n    }\\n    return scores\";\n",
       "                var nbb_formatted_code = \"def score_regression_metrics(y_train, y_train_pred, y_test, y_test_pred):\\n    TRAIN_RMSE = mean_squared_error(y_true=y_train, y_pred=y_train_pred, squared=False)\\n    TRAIN_MAE = mean_absolute_error(y_true=y_train, y_pred=y_train_pred)\\n    TRAIN_MAPE = mean_absolute_percentage_error(y_true=y_train, y_pred=y_train_pred)\\n    TRAIN_R2 = r2_score(y_true=y_train, y_pred=y_train_pred)\\n\\n    TEST_RMSE = mean_squared_error(y_true=y_test, y_pred=y_test_pred, squared=False)\\n    TEST_MAE = mean_absolute_error(y_true=y_test, y_pred=y_test_pred)\\n    TEST_MAPE = mean_absolute_percentage_error(y_true=y_test, y_pred=y_test_pred)\\n    TEST_R2 = r2_score(y_true=y_test, y_pred=y_test_pred)\\n\\n    scores = {\\n        \\\"train_neg_root_mean_squared_error\\\": TRAIN_RMSE,\\n        \\\"train_neg_mean_absolute_error\\\": TRAIN_MAE,\\n        \\\"train_neg_mean_absolute_percentage_error\\\": TRAIN_MAPE,\\n        \\\"train_r2\\\": TRAIN_R2,\\n        \\\"test_neg_root_mean_squared_error\\\": TEST_RMSE,\\n        \\\"test_neg_mean_absolute_error\\\": TEST_MAE,\\n        \\\"test_neg_mean_absolute_percentage_error\\\": TEST_MAPE,\\n        \\\"test_r2\\\": TEST_R2,\\n    }\\n    return scores\";\n",
       "                var nbb_cells = Jupyter.notebook.get_cells();\n",
       "                for (var i = 0; i < nbb_cells.length; ++i) {\n",
       "                    if (nbb_cells[i].input_prompt_number == nbb_cell_id) {\n",
       "                        if (nbb_cells[i].get_text() == nbb_unformatted_code) {\n",
       "                             nbb_cells[i].set_text(nbb_formatted_code);\n",
       "                        }\n",
       "                        break;\n",
       "                    }\n",
       "                }\n",
       "            }, 500);\n",
       "            "
      ],
      "text/plain": [
       "<IPython.core.display.Javascript object>"
      ]
     },
     "metadata": {},
     "output_type": "display_data"
    }
   ],
   "source": [
    "def score_regression_metrics(y_train, y_train_pred, y_test, y_test_pred):\n",
    "    TRAIN_RMSE = mean_squared_error(y_true=y_train, y_pred=y_train_pred, squared=False)\n",
    "    TRAIN_MAE = mean_absolute_error(y_true=y_train, y_pred=y_train_pred)\n",
    "    TRAIN_MAPE = mean_absolute_percentage_error(y_true=y_train, y_pred=y_train_pred)\n",
    "    TRAIN_R2 = r2_score(y_true=y_train, y_pred=y_train_pred)\n",
    "\n",
    "    TEST_RMSE = mean_squared_error(y_true=y_test, y_pred=y_test_pred, squared=False)\n",
    "    TEST_MAE = mean_absolute_error(y_true=y_test, y_pred=y_test_pred)\n",
    "    TEST_MAPE = mean_absolute_percentage_error(y_true=y_test, y_pred=y_test_pred)\n",
    "    TEST_R2 = r2_score(y_true=y_test, y_pred=y_test_pred)\n",
    "\n",
    "    scores = {\n",
    "        \"train_neg_root_mean_squared_error\": TRAIN_RMSE,\n",
    "        \"train_neg_mean_absolute_error\": TRAIN_MAE,\n",
    "        \"train_neg_mean_absolute_percentage_error\": TRAIN_MAPE,\n",
    "        \"train_r2\": TRAIN_R2,\n",
    "        \"test_neg_root_mean_squared_error\": TEST_RMSE,\n",
    "        \"test_neg_mean_absolute_error\": TEST_MAE,\n",
    "        \"test_neg_mean_absolute_percentage_error\": TEST_MAPE,\n",
    "        \"test_r2\": TEST_R2,\n",
    "    }\n",
    "    return scores"
   ]
  },
  {
   "cell_type": "code",
   "execution_count": 10,
   "metadata": {},
   "outputs": [
    {
     "data": {
      "application/javascript": [
       "\n",
       "            setTimeout(function() {\n",
       "                var nbb_cell_id = 10;\n",
       "                var nbb_unformatted_code = \"def get_model():\\n    model = tf.keras.Sequential()\\n    model.add(tf.keras.layers.Dense(units=256, activation=\\\"relu\\\")),\\n    model.add(tf.keras.layers.Dense(units=128, activation=\\\"relu\\\")),\\n    model.add(tf.keras.layers.Dense(units=64, activation=\\\"relu\\\")),\\n    model.add(tf.keras.layers.Dense(units=32, activation=\\\"relu\\\")),\\n    model.add(tf.keras.layers.Dense(units=16, activation=\\\"relu\\\")),\\n    model.add(tf.keras.layers.Dropout(rate=0.10))\\n    model.add(tf.keras.layers.Dense(units=1))\\n    model.compile(\\n        optimizer=tf.keras.optimizers.Adam(learning_rate=1e-3),\\n        loss=\\\"mse\\\",\\n        metrics=[tf.keras.metrics.RootMeanSquaredError(name=\\\"RMSE\\\")],\\n    )\\n    return model\";\n",
       "                var nbb_formatted_code = \"def get_model():\\n    model = tf.keras.Sequential()\\n    model.add(tf.keras.layers.Dense(units=256, activation=\\\"relu\\\")),\\n    model.add(tf.keras.layers.Dense(units=128, activation=\\\"relu\\\")),\\n    model.add(tf.keras.layers.Dense(units=64, activation=\\\"relu\\\")),\\n    model.add(tf.keras.layers.Dense(units=32, activation=\\\"relu\\\")),\\n    model.add(tf.keras.layers.Dense(units=16, activation=\\\"relu\\\")),\\n    model.add(tf.keras.layers.Dropout(rate=0.10))\\n    model.add(tf.keras.layers.Dense(units=1))\\n    model.compile(\\n        optimizer=tf.keras.optimizers.Adam(learning_rate=1e-3),\\n        loss=\\\"mse\\\",\\n        metrics=[tf.keras.metrics.RootMeanSquaredError(name=\\\"RMSE\\\")],\\n    )\\n    return model\";\n",
       "                var nbb_cells = Jupyter.notebook.get_cells();\n",
       "                for (var i = 0; i < nbb_cells.length; ++i) {\n",
       "                    if (nbb_cells[i].input_prompt_number == nbb_cell_id) {\n",
       "                        if (nbb_cells[i].get_text() == nbb_unformatted_code) {\n",
       "                             nbb_cells[i].set_text(nbb_formatted_code);\n",
       "                        }\n",
       "                        break;\n",
       "                    }\n",
       "                }\n",
       "            }, 500);\n",
       "            "
      ],
      "text/plain": [
       "<IPython.core.display.Javascript object>"
      ]
     },
     "metadata": {},
     "output_type": "display_data"
    }
   ],
   "source": [
    "def get_model():\n",
    "    model = tf.keras.Sequential()\n",
    "    model.add(tf.keras.layers.Dense(units=256, activation=\"relu\")),\n",
    "    model.add(tf.keras.layers.Dense(units=128, activation=\"relu\")),\n",
    "    model.add(tf.keras.layers.Dense(units=64, activation=\"relu\")),\n",
    "    model.add(tf.keras.layers.Dense(units=32, activation=\"relu\")),\n",
    "    model.add(tf.keras.layers.Dense(units=16, activation=\"relu\")),\n",
    "    model.add(tf.keras.layers.Dropout(rate=0.10))\n",
    "    model.add(tf.keras.layers.Dense(units=1))\n",
    "    model.compile(\n",
    "        optimizer=tf.keras.optimizers.Adam(learning_rate=1e-3),\n",
    "        loss=\"mse\",\n",
    "        metrics=[tf.keras.metrics.RootMeanSquaredError(name=\"RMSE\")],\n",
    "    )\n",
    "    return model"
   ]
  },
  {
   "cell_type": "markdown",
   "metadata": {},
   "source": [
    "# Settings for Reproducibility"
   ]
  },
  {
   "cell_type": "code",
   "execution_count": 11,
   "metadata": {},
   "outputs": [
    {
     "data": {
      "application/javascript": [
       "\n",
       "            setTimeout(function() {\n",
       "                var nbb_cell_id = 11;\n",
       "                var nbb_unformatted_code = \"def set_seeds():\\n    os.environ[\\\"CUDA_VISIBLE_DEVICES\\\"] = \\\"\\\"\\n    os.environ[\\\"PYTHONHASHSEED\\\"] = str(SEED)\\n    tf.random.set_seed(SEED)\\n    np.random.seed(SEED)\\n    random.seed(SEED)\";\n",
       "                var nbb_formatted_code = \"def set_seeds():\\n    os.environ[\\\"CUDA_VISIBLE_DEVICES\\\"] = \\\"\\\"\\n    os.environ[\\\"PYTHONHASHSEED\\\"] = str(SEED)\\n    tf.random.set_seed(SEED)\\n    np.random.seed(SEED)\\n    random.seed(SEED)\";\n",
       "                var nbb_cells = Jupyter.notebook.get_cells();\n",
       "                for (var i = 0; i < nbb_cells.length; ++i) {\n",
       "                    if (nbb_cells[i].input_prompt_number == nbb_cell_id) {\n",
       "                        if (nbb_cells[i].get_text() == nbb_unformatted_code) {\n",
       "                             nbb_cells[i].set_text(nbb_formatted_code);\n",
       "                        }\n",
       "                        break;\n",
       "                    }\n",
       "                }\n",
       "            }, 500);\n",
       "            "
      ],
      "text/plain": [
       "<IPython.core.display.Javascript object>"
      ]
     },
     "metadata": {},
     "output_type": "display_data"
    }
   ],
   "source": [
    "def set_seeds():\n",
    "    os.environ[\"CUDA_VISIBLE_DEVICES\"] = \"\"\n",
    "    os.environ[\"PYTHONHASHSEED\"] = str(SEED)\n",
    "    tf.random.set_seed(SEED)\n",
    "    np.random.seed(SEED)\n",
    "    random.seed(SEED)"
   ]
  },
  {
   "cell_type": "code",
   "execution_count": 12,
   "metadata": {},
   "outputs": [
    {
     "data": {
      "application/javascript": [
       "\n",
       "            setTimeout(function() {\n",
       "                var nbb_cell_id = 12;\n",
       "                var nbb_unformatted_code = \"SEED = 47\\nMETRICS = (\\n    \\\"neg_root_mean_squared_error\\\",\\n    \\\"neg_mean_absolute_error\\\",\\n    \\\"neg_mean_absolute_percentage_error\\\",\\n    \\\"r2\\\",\\n)\\nMETRICS_DICT = {\\n    \\\"neg_root_mean_squared_error\\\": \\\"RMSE\\\",\\n    \\\"neg_mean_absolute_error\\\": \\\"MAE\\\",\\n    \\\"neg_mean_absolute_percentage_error\\\": \\\"MAPE\\\",\\n    \\\"r2\\\": \\\"R2\\\",\\n}\";\n",
       "                var nbb_formatted_code = \"SEED = 47\\nMETRICS = (\\n    \\\"neg_root_mean_squared_error\\\",\\n    \\\"neg_mean_absolute_error\\\",\\n    \\\"neg_mean_absolute_percentage_error\\\",\\n    \\\"r2\\\",\\n)\\nMETRICS_DICT = {\\n    \\\"neg_root_mean_squared_error\\\": \\\"RMSE\\\",\\n    \\\"neg_mean_absolute_error\\\": \\\"MAE\\\",\\n    \\\"neg_mean_absolute_percentage_error\\\": \\\"MAPE\\\",\\n    \\\"r2\\\": \\\"R2\\\",\\n}\";\n",
       "                var nbb_cells = Jupyter.notebook.get_cells();\n",
       "                for (var i = 0; i < nbb_cells.length; ++i) {\n",
       "                    if (nbb_cells[i].input_prompt_number == nbb_cell_id) {\n",
       "                        if (nbb_cells[i].get_text() == nbb_unformatted_code) {\n",
       "                             nbb_cells[i].set_text(nbb_formatted_code);\n",
       "                        }\n",
       "                        break;\n",
       "                    }\n",
       "                }\n",
       "            }, 500);\n",
       "            "
      ],
      "text/plain": [
       "<IPython.core.display.Javascript object>"
      ]
     },
     "metadata": {},
     "output_type": "display_data"
    }
   ],
   "source": [
    "SEED = 47\n",
    "METRICS = (\n",
    "    \"neg_root_mean_squared_error\",\n",
    "    \"neg_mean_absolute_error\",\n",
    "    \"neg_mean_absolute_percentage_error\",\n",
    "    \"r2\",\n",
    ")\n",
    "METRICS_DICT = {\n",
    "    \"neg_root_mean_squared_error\": \"RMSE\",\n",
    "    \"neg_mean_absolute_error\": \"MAE\",\n",
    "    \"neg_mean_absolute_percentage_error\": \"MAPE\",\n",
    "    \"r2\": \"R2\",\n",
    "}"
   ]
  },
  {
   "cell_type": "markdown",
   "metadata": {},
   "source": [
    "# Baseline Model"
   ]
  },
  {
   "cell_type": "markdown",
   "metadata": {},
   "source": [
    "# 1. Linear Regression"
   ]
  },
  {
   "cell_type": "markdown",
   "metadata": {},
   "source": [
    "# Intercement"
   ]
  },
  {
   "cell_type": "code",
   "execution_count": 13,
   "metadata": {},
   "outputs": [
    {
     "data": {
      "application/javascript": [
       "\n",
       "            setTimeout(function() {\n",
       "                var nbb_cell_id = 13;\n",
       "                var nbb_unformatted_code = \"df = pd.read_csv(\\\"../../../data/processed/Intercement/cement-shipping.csv\\\")\";\n",
       "                var nbb_formatted_code = \"df = pd.read_csv(\\\"../../../data/processed/Intercement/cement-shipping.csv\\\")\";\n",
       "                var nbb_cells = Jupyter.notebook.get_cells();\n",
       "                for (var i = 0; i < nbb_cells.length; ++i) {\n",
       "                    if (nbb_cells[i].input_prompt_number == nbb_cell_id) {\n",
       "                        if (nbb_cells[i].get_text() == nbb_unformatted_code) {\n",
       "                             nbb_cells[i].set_text(nbb_formatted_code);\n",
       "                        }\n",
       "                        break;\n",
       "                    }\n",
       "                }\n",
       "            }, 500);\n",
       "            "
      ],
      "text/plain": [
       "<IPython.core.display.Javascript object>"
      ]
     },
     "metadata": {},
     "output_type": "display_data"
    }
   ],
   "source": [
    "df = pd.read_csv(\"../../../data/processed/Intercement/cement-shipping.csv\")"
   ]
  },
  {
   "cell_type": "markdown",
   "metadata": {},
   "source": [
    "<h2>1. Dataset: df_no_cs</h2> <br>In this dataset the CS1, CS3  and CS7 variables are not considered."
   ]
  },
  {
   "cell_type": "code",
   "execution_count": 14,
   "metadata": {},
   "outputs": [
    {
     "data": {
      "application/javascript": [
       "\n",
       "            setTimeout(function() {\n",
       "                var nbb_cell_id = 14;\n",
       "                var nbb_unformatted_code = \"df_no_cs = df.drop(\\n    [\\n        \\\"RC1\\\",\\n        \\\"RC3\\\",\\n        \\\"RC7\\\",\\n    ],\\n    axis=1,\\n).copy()\\n\\ny = df_no_cs.pop(\\\"RC28\\\").values\\nx = df_no_cs.drop([\\\"Data\\\"], axis=1)\";\n",
       "                var nbb_formatted_code = \"df_no_cs = df.drop(\\n    [\\n        \\\"RC1\\\",\\n        \\\"RC3\\\",\\n        \\\"RC7\\\",\\n    ],\\n    axis=1,\\n).copy()\\n\\ny = df_no_cs.pop(\\\"RC28\\\").values\\nx = df_no_cs.drop([\\\"Data\\\"], axis=1)\";\n",
       "                var nbb_cells = Jupyter.notebook.get_cells();\n",
       "                for (var i = 0; i < nbb_cells.length; ++i) {\n",
       "                    if (nbb_cells[i].input_prompt_number == nbb_cell_id) {\n",
       "                        if (nbb_cells[i].get_text() == nbb_unformatted_code) {\n",
       "                             nbb_cells[i].set_text(nbb_formatted_code);\n",
       "                        }\n",
       "                        break;\n",
       "                    }\n",
       "                }\n",
       "            }, 500);\n",
       "            "
      ],
      "text/plain": [
       "<IPython.core.display.Javascript object>"
      ]
     },
     "metadata": {},
     "output_type": "display_data"
    }
   ],
   "source": [
    "df_no_cs = df.drop(\n",
    "    [\n",
    "        \"RC1\",\n",
    "        \"RC3\",\n",
    "        \"RC7\",\n",
    "    ],\n",
    "    axis=1,\n",
    ").copy()\n",
    "\n",
    "y = df_no_cs.pop(\"RC28\").values\n",
    "x = df_no_cs.drop([\"Data\"], axis=1)"
   ]
  },
  {
   "cell_type": "markdown",
   "metadata": {},
   "source": [
    "## 1.1 Repeated KFold Cross validation\n",
    "\n",
    "<b>Dataset shape:</b> (1234, 38)<br>\n",
    "<b>Repeats:</b>10<br>\n",
    "<b>Splits:</b>10<br>\n",
    "    1. 10 folds of 123 samples each\n",
    "    2. 90% train (1111 samples each fold)\n",
    "    3. 10% test (123 samples each fold)\n",
    "<b>Total:</b> 100 models<br>"
   ]
  },
  {
   "cell_type": "code",
   "execution_count": 15,
   "metadata": {},
   "outputs": [
    {
     "name": "stdout",
     "output_type": "stream",
     "text": [
      "Repeated Cross Validation:\n",
      "Repeats: 10\n",
      "n_splits: 10\n",
      "\n",
      "******\n",
      "[TRAIN]\n",
      "******\n",
      "RMSE: 3.769 (0.037)\n",
      "MAE: 2.892 (0.021)\n",
      "MAPE: 0.063 (0.001)\n",
      "R2: 0.706 (0.006)\n",
      "\n",
      "======================\n",
      "\n",
      "******\n",
      "[TEST]\n",
      "******\n",
      "RMSE: 3.803 (0.326)\n",
      "MAE: 2.904 (0.087)\n",
      "MAPE: 0.063 (0.002)\n",
      "R2: 0.697 (0.055)\n",
      "\n",
      "======================\n",
      "\n"
     ]
    },
    {
     "data": {
      "application/javascript": [
       "\n",
       "            setTimeout(function() {\n",
       "                var nbb_cell_id = 15;\n",
       "                var nbb_unformatted_code = \"set_seeds()\\nrepeats = 10\\nn_splits = 10\\npipeline = Pipeline(\\n    [(\\\"transformer\\\", StandardScaler()), (\\\"estimator\\\", LinearRegression())]\\n)\\ncv = RepeatedKFold(n_splits=n_splits, n_repeats=repeats, random_state=SEED)\\nscores = cross_validate(\\n    pipeline,\\n    x,\\n    y,\\n    scoring=METRICS,\\n    cv=cv,\\n    n_jobs=-1,\\n    return_train_score=True,\\n)\\n# scores = np.abs(scores)\\nprint(\\\"Repeated Cross Validation:\\\")\\nprint(f\\\"Repeats: {repeats}\\\")\\nprint(f\\\"n_splits: {n_splits}\\\")\\nprint()\\nprint_scores(scores, METRICS, METRICS_DICT)\";\n",
       "                var nbb_formatted_code = \"set_seeds()\\nrepeats = 10\\nn_splits = 10\\npipeline = Pipeline(\\n    [(\\\"transformer\\\", StandardScaler()), (\\\"estimator\\\", LinearRegression())]\\n)\\ncv = RepeatedKFold(n_splits=n_splits, n_repeats=repeats, random_state=SEED)\\nscores = cross_validate(\\n    pipeline,\\n    x,\\n    y,\\n    scoring=METRICS,\\n    cv=cv,\\n    n_jobs=-1,\\n    return_train_score=True,\\n)\\n# scores = np.abs(scores)\\nprint(\\\"Repeated Cross Validation:\\\")\\nprint(f\\\"Repeats: {repeats}\\\")\\nprint(f\\\"n_splits: {n_splits}\\\")\\nprint()\\nprint_scores(scores, METRICS, METRICS_DICT)\";\n",
       "                var nbb_cells = Jupyter.notebook.get_cells();\n",
       "                for (var i = 0; i < nbb_cells.length; ++i) {\n",
       "                    if (nbb_cells[i].input_prompt_number == nbb_cell_id) {\n",
       "                        if (nbb_cells[i].get_text() == nbb_unformatted_code) {\n",
       "                             nbb_cells[i].set_text(nbb_formatted_code);\n",
       "                        }\n",
       "                        break;\n",
       "                    }\n",
       "                }\n",
       "            }, 500);\n",
       "            "
      ],
      "text/plain": [
       "<IPython.core.display.Javascript object>"
      ]
     },
     "metadata": {},
     "output_type": "display_data"
    }
   ],
   "source": [
    "set_seeds()\n",
    "repeats = 10\n",
    "n_splits = 10\n",
    "pipeline = Pipeline(\n",
    "    [(\"transformer\", StandardScaler()), (\"estimator\", LinearRegression())]\n",
    ")\n",
    "cv = RepeatedKFold(n_splits=n_splits, n_repeats=repeats, random_state=SEED)\n",
    "scores = cross_validate(\n",
    "    pipeline,\n",
    "    x,\n",
    "    y,\n",
    "    scoring=METRICS,\n",
    "    cv=cv,\n",
    "    n_jobs=-1,\n",
    "    return_train_score=True,\n",
    ")\n",
    "# scores = np.abs(scores)\n",
    "print(\"Repeated Cross Validation:\")\n",
    "print(f\"Repeats: {repeats}\")\n",
    "print(f\"n_splits: {n_splits}\")\n",
    "print()\n",
    "print_scores(scores, METRICS, METRICS_DICT)"
   ]
  },
  {
   "cell_type": "markdown",
   "metadata": {},
   "source": [
    "# partner_iii"
   ]
  },
  {
   "cell_type": "code",
   "execution_count": 16,
   "metadata": {},
   "outputs": [
    {
     "data": {
      "application/javascript": [
       "\n",
       "            setTimeout(function() {\n",
       "                var nbb_cell_id = 16;\n",
       "                var nbb_unformatted_code = \"df_partner_iii = pd.read_csv(\\n    \\\"../../../data/interim/partner_iii/Dati CADD 2020-2022_with_fillna.csv\\\"\\n)\";\n",
       "                var nbb_formatted_code = \"df_partner_iii = pd.read_csv(\\n    \\\"../../../data/interim/partner_iii/Dati CADD 2020-2022_with_fillna.csv\\\"\\n)\";\n",
       "                var nbb_cells = Jupyter.notebook.get_cells();\n",
       "                for (var i = 0; i < nbb_cells.length; ++i) {\n",
       "                    if (nbb_cells[i].input_prompt_number == nbb_cell_id) {\n",
       "                        if (nbb_cells[i].get_text() == nbb_unformatted_code) {\n",
       "                             nbb_cells[i].set_text(nbb_formatted_code);\n",
       "                        }\n",
       "                        break;\n",
       "                    }\n",
       "                }\n",
       "            }, 500);\n",
       "            "
      ],
      "text/plain": [
       "<IPython.core.display.Javascript object>"
      ]
     },
     "metadata": {},
     "output_type": "display_data"
    }
   ],
   "source": [
    "df_partner_iii = pd.read_csv(\n",
    "    \"../../../data/interim/partner_iii/Dati CADD 2020-2022_with_fillna.csv\"\n",
    ")"
   ]
  },
  {
   "cell_type": "code",
   "execution_count": 17,
   "metadata": {},
   "outputs": [
    {
     "data": {
      "application/javascript": [
       "\n",
       "            setTimeout(function() {\n",
       "                var nbb_cell_id = 17;\n",
       "                var nbb_unformatted_code = \"y = df_partner_iii.pop(\\\"28d compressive strength (MPa)\\\").values\\nx = df_partner_iii.values\";\n",
       "                var nbb_formatted_code = \"y = df_partner_iii.pop(\\\"28d compressive strength (MPa)\\\").values\\nx = df_partner_iii.values\";\n",
       "                var nbb_cells = Jupyter.notebook.get_cells();\n",
       "                for (var i = 0; i < nbb_cells.length; ++i) {\n",
       "                    if (nbb_cells[i].input_prompt_number == nbb_cell_id) {\n",
       "                        if (nbb_cells[i].get_text() == nbb_unformatted_code) {\n",
       "                             nbb_cells[i].set_text(nbb_formatted_code);\n",
       "                        }\n",
       "                        break;\n",
       "                    }\n",
       "                }\n",
       "            }, 500);\n",
       "            "
      ],
      "text/plain": [
       "<IPython.core.display.Javascript object>"
      ]
     },
     "metadata": {},
     "output_type": "display_data"
    }
   ],
   "source": [
    "y = df_partner_iii.pop(\"28d compressive strength (MPa)\").values\n",
    "x = df_partner_iii.values"
   ]
  },
  {
   "cell_type": "code",
   "execution_count": 18,
   "metadata": {},
   "outputs": [
    {
     "name": "stdout",
     "output_type": "stream",
     "text": [
      "Repeated Cross Validation:\n",
      "Repeats: 10\n",
      "n_splits: 10\n",
      "\n",
      "******\n",
      "[TRAIN]\n",
      "******\n",
      "RMSE: 5.137 (0.055)\n",
      "MAE: 3.990 (0.047)\n",
      "MAPE: 0.079 (0.001)\n",
      "R2: 0.463 (0.014)\n",
      "\n",
      "======================\n",
      "\n",
      "******\n",
      "[TEST]\n",
      "******\n",
      "RMSE: 5.165 (0.490)\n",
      "MAE: 4.030 (0.426)\n",
      "MAPE: 0.080 (0.009)\n",
      "R2: 0.417 (0.145)\n",
      "\n",
      "======================\n",
      "\n"
     ]
    },
    {
     "data": {
      "application/javascript": [
       "\n",
       "            setTimeout(function() {\n",
       "                var nbb_cell_id = 18;\n",
       "                var nbb_unformatted_code = \"set_seeds()\\nrepeats = 10\\nn_splits = 10\\npipeline = Pipeline(\\n    [(\\\"transformer\\\", StandardScaler()), (\\\"estimator\\\", LinearRegression())]\\n)\\ncv = RepeatedKFold(n_splits=n_splits, n_repeats=repeats, random_state=SEED)\\nscores = cross_validate(\\n    pipeline,\\n    x,\\n    y,\\n    scoring=METRICS,\\n    cv=cv,\\n    n_jobs=-1,\\n    return_train_score=True,\\n)\\n# scores = np.abs(scores)\\nprint(\\\"Repeated Cross Validation:\\\")\\nprint(f\\\"Repeats: {repeats}\\\")\\nprint(f\\\"n_splits: {n_splits}\\\")\\nprint()\\nprint_scores(scores, METRICS, METRICS_DICT)\";\n",
       "                var nbb_formatted_code = \"set_seeds()\\nrepeats = 10\\nn_splits = 10\\npipeline = Pipeline(\\n    [(\\\"transformer\\\", StandardScaler()), (\\\"estimator\\\", LinearRegression())]\\n)\\ncv = RepeatedKFold(n_splits=n_splits, n_repeats=repeats, random_state=SEED)\\nscores = cross_validate(\\n    pipeline,\\n    x,\\n    y,\\n    scoring=METRICS,\\n    cv=cv,\\n    n_jobs=-1,\\n    return_train_score=True,\\n)\\n# scores = np.abs(scores)\\nprint(\\\"Repeated Cross Validation:\\\")\\nprint(f\\\"Repeats: {repeats}\\\")\\nprint(f\\\"n_splits: {n_splits}\\\")\\nprint()\\nprint_scores(scores, METRICS, METRICS_DICT)\";\n",
       "                var nbb_cells = Jupyter.notebook.get_cells();\n",
       "                for (var i = 0; i < nbb_cells.length; ++i) {\n",
       "                    if (nbb_cells[i].input_prompt_number == nbb_cell_id) {\n",
       "                        if (nbb_cells[i].get_text() == nbb_unformatted_code) {\n",
       "                             nbb_cells[i].set_text(nbb_formatted_code);\n",
       "                        }\n",
       "                        break;\n",
       "                    }\n",
       "                }\n",
       "            }, 500);\n",
       "            "
      ],
      "text/plain": [
       "<IPython.core.display.Javascript object>"
      ]
     },
     "metadata": {},
     "output_type": "display_data"
    }
   ],
   "source": [
    "set_seeds()\n",
    "repeats = 10\n",
    "n_splits = 10\n",
    "pipeline = Pipeline(\n",
    "    [(\"transformer\", StandardScaler()), (\"estimator\", LinearRegression())]\n",
    ")\n",
    "cv = RepeatedKFold(n_splits=n_splits, n_repeats=repeats, random_state=SEED)\n",
    "scores = cross_validate(\n",
    "    pipeline,\n",
    "    x,\n",
    "    y,\n",
    "    scoring=METRICS,\n",
    "    cv=cv,\n",
    "    n_jobs=-1,\n",
    "    return_train_score=True,\n",
    ")\n",
    "# scores = np.abs(scores)\n",
    "print(\"Repeated Cross Validation:\")\n",
    "print(f\"Repeats: {repeats}\")\n",
    "print(f\"n_splits: {n_splits}\")\n",
    "print()\n",
    "print_scores(scores, METRICS, METRICS_DICT)"
   ]
  },
  {
   "cell_type": "markdown",
   "metadata": {},
   "source": [
    "# partner_ii"
   ]
  },
  {
   "cell_type": "code",
   "execution_count": 19,
   "metadata": {},
   "outputs": [
    {
     "data": {
      "application/javascript": [
       "\n",
       "            setTimeout(function() {\n",
       "                var nbb_cell_id = 19;\n",
       "                var nbb_unformatted_code = \"df = pd.read_csv(\\\"../../../data/processed/partner_ii/cement-shipping.csv\\\")\\ndf_no_cs = df.drop(\\n    [\\\"strength_1d\\\", \\\"strength_3d\\\", \\\"strength_7d\\\"],\\n    axis=1,\\n).copy()\\n\\ny = df_no_cs.pop(\\\"strength_28d\\\").values\\nx = df_no_cs.drop([\\\"sample_date\\\"], axis=1)\";\n",
       "                var nbb_formatted_code = \"df = pd.read_csv(\\\"../../../data/processed/partner_ii/cement-shipping.csv\\\")\\ndf_no_cs = df.drop(\\n    [\\\"strength_1d\\\", \\\"strength_3d\\\", \\\"strength_7d\\\"],\\n    axis=1,\\n).copy()\\n\\ny = df_no_cs.pop(\\\"strength_28d\\\").values\\nx = df_no_cs.drop([\\\"sample_date\\\"], axis=1)\";\n",
       "                var nbb_cells = Jupyter.notebook.get_cells();\n",
       "                for (var i = 0; i < nbb_cells.length; ++i) {\n",
       "                    if (nbb_cells[i].input_prompt_number == nbb_cell_id) {\n",
       "                        if (nbb_cells[i].get_text() == nbb_unformatted_code) {\n",
       "                             nbb_cells[i].set_text(nbb_formatted_code);\n",
       "                        }\n",
       "                        break;\n",
       "                    }\n",
       "                }\n",
       "            }, 500);\n",
       "            "
      ],
      "text/plain": [
       "<IPython.core.display.Javascript object>"
      ]
     },
     "metadata": {},
     "output_type": "display_data"
    }
   ],
   "source": [
    "df = pd.read_csv(\"../../../data/processed/partner_ii/cement-shipping.csv\")\n",
    "df_no_cs = df.drop(\n",
    "    [\"strength_1d\", \"strength_3d\", \"strength_7d\"],\n",
    "    axis=1,\n",
    ").copy()\n",
    "\n",
    "y = df_no_cs.pop(\"strength_28d\").values\n",
    "x = df_no_cs.drop([\"sample_date\"], axis=1)"
   ]
  },
  {
   "cell_type": "code",
   "execution_count": 20,
   "metadata": {},
   "outputs": [
    {
     "name": "stdout",
     "output_type": "stream",
     "text": [
      "Repeated Cross Validation:\n",
      "Repeats: 10\n",
      "n_splits: 10\n",
      "\n",
      "******\n",
      "[TRAIN]\n",
      "******\n",
      "RMSE: 2.195 (0.021)\n",
      "MAE: 1.749 (0.016)\n",
      "MAPE: 0.041 (0.000)\n",
      "R2: 0.614 (0.007)\n",
      "\n",
      "======================\n",
      "\n",
      "******\n",
      "[TEST]\n",
      "******\n",
      "RMSE: 2.263 (0.207)\n",
      "MAE: 1.787 (0.137)\n",
      "MAPE: 0.042 (0.003)\n",
      "R2: 0.580 (0.080)\n",
      "\n",
      "======================\n",
      "\n"
     ]
    },
    {
     "data": {
      "application/javascript": [
       "\n",
       "            setTimeout(function() {\n",
       "                var nbb_cell_id = 20;\n",
       "                var nbb_unformatted_code = \"set_seeds()\\nrepeats = 10\\nn_splits = 10\\npipeline = Pipeline(\\n    [(\\\"transformer\\\", StandardScaler()), (\\\"estimator\\\", LinearRegression())]\\n)\\ncv = RepeatedKFold(n_splits=n_splits, n_repeats=repeats, random_state=SEED)\\nscores = cross_validate(\\n    pipeline,\\n    x,\\n    y,\\n    scoring=METRICS,\\n    cv=cv,\\n    n_jobs=-1,\\n    return_train_score=True,\\n)\\n# scores = np.abs(scores)\\nprint(\\\"Repeated Cross Validation:\\\")\\nprint(f\\\"Repeats: {repeats}\\\")\\nprint(f\\\"n_splits: {n_splits}\\\")\\nprint()\\nprint_scores(scores, METRICS, METRICS_DICT)\";\n",
       "                var nbb_formatted_code = \"set_seeds()\\nrepeats = 10\\nn_splits = 10\\npipeline = Pipeline(\\n    [(\\\"transformer\\\", StandardScaler()), (\\\"estimator\\\", LinearRegression())]\\n)\\ncv = RepeatedKFold(n_splits=n_splits, n_repeats=repeats, random_state=SEED)\\nscores = cross_validate(\\n    pipeline,\\n    x,\\n    y,\\n    scoring=METRICS,\\n    cv=cv,\\n    n_jobs=-1,\\n    return_train_score=True,\\n)\\n# scores = np.abs(scores)\\nprint(\\\"Repeated Cross Validation:\\\")\\nprint(f\\\"Repeats: {repeats}\\\")\\nprint(f\\\"n_splits: {n_splits}\\\")\\nprint()\\nprint_scores(scores, METRICS, METRICS_DICT)\";\n",
       "                var nbb_cells = Jupyter.notebook.get_cells();\n",
       "                for (var i = 0; i < nbb_cells.length; ++i) {\n",
       "                    if (nbb_cells[i].input_prompt_number == nbb_cell_id) {\n",
       "                        if (nbb_cells[i].get_text() == nbb_unformatted_code) {\n",
       "                             nbb_cells[i].set_text(nbb_formatted_code);\n",
       "                        }\n",
       "                        break;\n",
       "                    }\n",
       "                }\n",
       "            }, 500);\n",
       "            "
      ],
      "text/plain": [
       "<IPython.core.display.Javascript object>"
      ]
     },
     "metadata": {},
     "output_type": "display_data"
    }
   ],
   "source": [
    "set_seeds()\n",
    "repeats = 10\n",
    "n_splits = 10\n",
    "pipeline = Pipeline(\n",
    "    [(\"transformer\", StandardScaler()), (\"estimator\", LinearRegression())]\n",
    ")\n",
    "cv = RepeatedKFold(n_splits=n_splits, n_repeats=repeats, random_state=SEED)\n",
    "scores = cross_validate(\n",
    "    pipeline,\n",
    "    x,\n",
    "    y,\n",
    "    scoring=METRICS,\n",
    "    cv=cv,\n",
    "    n_jobs=-1,\n",
    "    return_train_score=True,\n",
    ")\n",
    "# scores = np.abs(scores)\n",
    "print(\"Repeated Cross Validation:\")\n",
    "print(f\"Repeats: {repeats}\")\n",
    "print(f\"n_splits: {n_splits}\")\n",
    "print()\n",
    "print_scores(scores, METRICS, METRICS_DICT)"
   ]
  },
  {
   "cell_type": "markdown",
   "metadata": {},
   "source": [
    "# Transfer Learning - MLP"
   ]
  },
  {
   "cell_type": "markdown",
   "metadata": {},
   "source": [
    "## Pre Trainning"
   ]
  },
  {
   "cell_type": "code",
   "execution_count": 21,
   "metadata": {},
   "outputs": [
    {
     "data": {
      "application/javascript": [
       "\n",
       "            setTimeout(function() {\n",
       "                var nbb_cell_id = 21;\n",
       "                var nbb_unformatted_code = \"batch_size = 32\\nepochs = 200\\nverbose = 0\";\n",
       "                var nbb_formatted_code = \"batch_size = 32\\nepochs = 200\\nverbose = 0\";\n",
       "                var nbb_cells = Jupyter.notebook.get_cells();\n",
       "                for (var i = 0; i < nbb_cells.length; ++i) {\n",
       "                    if (nbb_cells[i].input_prompt_number == nbb_cell_id) {\n",
       "                        if (nbb_cells[i].get_text() == nbb_unformatted_code) {\n",
       "                             nbb_cells[i].set_text(nbb_formatted_code);\n",
       "                        }\n",
       "                        break;\n",
       "                    }\n",
       "                }\n",
       "            }, 500);\n",
       "            "
      ],
      "text/plain": [
       "<IPython.core.display.Javascript object>"
      ]
     },
     "metadata": {},
     "output_type": "display_data"
    }
   ],
   "source": [
    "batch_size = 32\n",
    "epochs = 200\n",
    "verbose = 0"
   ]
  },
  {
   "cell_type": "markdown",
   "metadata": {},
   "source": [
    "# Intercement"
   ]
  },
  {
   "cell_type": "code",
   "execution_count": 22,
   "metadata": {},
   "outputs": [
    {
     "data": {
      "application/javascript": [
       "\n",
       "            setTimeout(function() {\n",
       "                var nbb_cell_id = 22;\n",
       "                var nbb_unformatted_code = \"df = pd.read_csv(\\\"../../../data/processed/Intercement/cement-shipping.csv\\\")\\ndf_no_cs = df.drop(\\n    [\\n        \\\"RC1\\\",\\n        \\\"RC3\\\",\\n        \\\"RC7\\\",\\n    ],\\n    axis=1,\\n).copy()\\n\\ny = df_no_cs.pop(\\\"RC28\\\").values\\nx = df_no_cs.drop([\\\"Data\\\"], axis=1)\\nx_train, x_test, y_train, y_test = train_test_split(\\n    x, y, test_size=0.2, random_state=SEED, shuffle=False\\n)\";\n",
       "                var nbb_formatted_code = \"df = pd.read_csv(\\\"../../../data/processed/Intercement/cement-shipping.csv\\\")\\ndf_no_cs = df.drop(\\n    [\\n        \\\"RC1\\\",\\n        \\\"RC3\\\",\\n        \\\"RC7\\\",\\n    ],\\n    axis=1,\\n).copy()\\n\\ny = df_no_cs.pop(\\\"RC28\\\").values\\nx = df_no_cs.drop([\\\"Data\\\"], axis=1)\\nx_train, x_test, y_train, y_test = train_test_split(\\n    x, y, test_size=0.2, random_state=SEED, shuffle=False\\n)\";\n",
       "                var nbb_cells = Jupyter.notebook.get_cells();\n",
       "                for (var i = 0; i < nbb_cells.length; ++i) {\n",
       "                    if (nbb_cells[i].input_prompt_number == nbb_cell_id) {\n",
       "                        if (nbb_cells[i].get_text() == nbb_unformatted_code) {\n",
       "                             nbb_cells[i].set_text(nbb_formatted_code);\n",
       "                        }\n",
       "                        break;\n",
       "                    }\n",
       "                }\n",
       "            }, 500);\n",
       "            "
      ],
      "text/plain": [
       "<IPython.core.display.Javascript object>"
      ]
     },
     "metadata": {},
     "output_type": "display_data"
    }
   ],
   "source": [
    "df = pd.read_csv(\"../../../data/processed/Intercement/cement-shipping.csv\")\n",
    "df_no_cs = df.drop(\n",
    "    [\n",
    "        \"RC1\",\n",
    "        \"RC3\",\n",
    "        \"RC7\",\n",
    "    ],\n",
    "    axis=1,\n",
    ").copy()\n",
    "\n",
    "y = df_no_cs.pop(\"RC28\").values\n",
    "x = df_no_cs.drop([\"Data\"], axis=1)\n",
    "x_train, x_test, y_train, y_test = train_test_split(\n",
    "    x, y, test_size=0.2, random_state=SEED, shuffle=False\n",
    ")"
   ]
  },
  {
   "cell_type": "code",
   "execution_count": 23,
   "metadata": {},
   "outputs": [
    {
     "data": {
      "application/javascript": [
       "\n",
       "            setTimeout(function() {\n",
       "                var nbb_cell_id = 23;\n",
       "                var nbb_unformatted_code = \"set_seeds()\\nmodel = get_model()\\nsc = StandardScaler()\\nhistory = model.fit(\\n    sc.fit_transform(x_train),\\n    y_train,\\n    batch_size=batch_size,\\n    epochs=epochs,\\n    verbose=verbose,\\n)\";\n",
       "                var nbb_formatted_code = \"set_seeds()\\nmodel = get_model()\\nsc = StandardScaler()\\nhistory = model.fit(\\n    sc.fit_transform(x_train),\\n    y_train,\\n    batch_size=batch_size,\\n    epochs=epochs,\\n    verbose=verbose,\\n)\";\n",
       "                var nbb_cells = Jupyter.notebook.get_cells();\n",
       "                for (var i = 0; i < nbb_cells.length; ++i) {\n",
       "                    if (nbb_cells[i].input_prompt_number == nbb_cell_id) {\n",
       "                        if (nbb_cells[i].get_text() == nbb_unformatted_code) {\n",
       "                             nbb_cells[i].set_text(nbb_formatted_code);\n",
       "                        }\n",
       "                        break;\n",
       "                    }\n",
       "                }\n",
       "            }, 500);\n",
       "            "
      ],
      "text/plain": [
       "<IPython.core.display.Javascript object>"
      ]
     },
     "metadata": {},
     "output_type": "display_data"
    }
   ],
   "source": [
    "set_seeds()\n",
    "model = get_model()\n",
    "sc = StandardScaler()\n",
    "history = model.fit(\n",
    "    sc.fit_transform(x_train),\n",
    "    y_train,\n",
    "    batch_size=batch_size,\n",
    "    epochs=epochs,\n",
    "    verbose=verbose,\n",
    ")"
   ]
  },
  {
   "cell_type": "code",
   "execution_count": 24,
   "metadata": {},
   "outputs": [
    {
     "data": {
      "text/plain": [
       "[<matplotlib.lines.Line2D at 0x7f5e1b1c6978>]"
      ]
     },
     "execution_count": 24,
     "metadata": {},
     "output_type": "execute_result"
    },
    {
     "data": {
      "image/png": "[encoded data removed]",
      "text/plain": [
       "<Figure size 432x288 with 1 Axes>"
      ]
     },
     "metadata": {
      "needs_background": "light"
     },
     "output_type": "display_data"
    },
    {
     "data": {
      "application/javascript": [
       "\n",
       "            setTimeout(function() {\n",
       "                var nbb_cell_id = 24;\n",
       "                var nbb_unformatted_code = \"plt.plot(history.history[\\\"RMSE\\\"])\";\n",
       "                var nbb_formatted_code = \"plt.plot(history.history[\\\"RMSE\\\"])\";\n",
       "                var nbb_cells = Jupyter.notebook.get_cells();\n",
       "                for (var i = 0; i < nbb_cells.length; ++i) {\n",
       "                    if (nbb_cells[i].input_prompt_number == nbb_cell_id) {\n",
       "                        if (nbb_cells[i].get_text() == nbb_unformatted_code) {\n",
       "                             nbb_cells[i].set_text(nbb_formatted_code);\n",
       "                        }\n",
       "                        break;\n",
       "                    }\n",
       "                }\n",
       "            }, 500);\n",
       "            "
      ],
      "text/plain": [
       "<IPython.core.display.Javascript object>"
      ]
     },
     "metadata": {},
     "output_type": "display_data"
    }
   ],
   "source": [
    "plt.plot(history.history[\"RMSE\"])"
   ]
  },
  {
   "cell_type": "code",
   "execution_count": 25,
   "metadata": {},
   "outputs": [
    {
     "name": "stdout",
     "output_type": "stream",
     "text": [
      "******\n",
      "[TRAIN]\n",
      "******\n",
      "RMSE: 2.686 (0.000)\n",
      "MAE: 2.036 (0.000)\n",
      "MAPE: 0.045 (0.000)\n",
      "R2: 0.826 (0.000)\n",
      "\n",
      "======================\n",
      "\n",
      "******\n",
      "[TEST]\n",
      "******\n",
      "RMSE: 5.434 (0.000)\n",
      "MAE: 4.642 (0.000)\n",
      "MAPE: 0.086 (0.000)\n",
      "R2: 0.128 (0.000)\n",
      "\n",
      "======================\n",
      "\n"
     ]
    },
    {
     "data": {
      "application/javascript": [
       "\n",
       "            setTimeout(function() {\n",
       "                var nbb_cell_id = 25;\n",
       "                var nbb_unformatted_code = \"y_train_pred = model.predict(sc.transform(x_train))\\ny_test_pred = model.predict(sc.transform(x_test))\\n\\nscores = score_regression_metrics(y_train, y_train_pred, y_test, y_test_pred)\\nprint_scores(scores, METRICS, METRICS_DICT)\";\n",
       "                var nbb_formatted_code = \"y_train_pred = model.predict(sc.transform(x_train))\\ny_test_pred = model.predict(sc.transform(x_test))\\n\\nscores = score_regression_metrics(y_train, y_train_pred, y_test, y_test_pred)\\nprint_scores(scores, METRICS, METRICS_DICT)\";\n",
       "                var nbb_cells = Jupyter.notebook.get_cells();\n",
       "                for (var i = 0; i < nbb_cells.length; ++i) {\n",
       "                    if (nbb_cells[i].input_prompt_number == nbb_cell_id) {\n",
       "                        if (nbb_cells[i].get_text() == nbb_unformatted_code) {\n",
       "                             nbb_cells[i].set_text(nbb_formatted_code);\n",
       "                        }\n",
       "                        break;\n",
       "                    }\n",
       "                }\n",
       "            }, 500);\n",
       "            "
      ],
      "text/plain": [
       "<IPython.core.display.Javascript object>"
      ]
     },
     "metadata": {},
     "output_type": "display_data"
    }
   ],
   "source": [
    "y_train_pred = model.predict(sc.transform(x_train))\n",
    "y_test_pred = model.predict(sc.transform(x_test))\n",
    "\n",
    "scores = score_regression_metrics(y_train, y_train_pred, y_test, y_test_pred)\n",
    "print_scores(scores, METRICS, METRICS_DICT)"
   ]
  },
  {
   "cell_type": "code",
   "execution_count": 26,
   "metadata": {},
   "outputs": [
    {
     "name": "stdout",
     "output_type": "stream",
     "text": [
      "35/35 [==============================] - 0s 713us/step - loss: 29.5294 - RMSE: 5.4341\n"
     ]
    },
    {
     "data": {
      "text/plain": [
       "[29.529441833496094, 5.4340996742248535]"
      ]
     },
     "execution_count": 26,
     "metadata": {},
     "output_type": "execute_result"
    },
    {
     "data": {
      "application/javascript": [
       "\n",
       "            setTimeout(function() {\n",
       "                var nbb_cell_id = 26;\n",
       "                var nbb_unformatted_code = \"model.evaluate(sc.transform(x_test), y_test)\";\n",
       "                var nbb_formatted_code = \"model.evaluate(sc.transform(x_test), y_test)\";\n",
       "                var nbb_cells = Jupyter.notebook.get_cells();\n",
       "                for (var i = 0; i < nbb_cells.length; ++i) {\n",
       "                    if (nbb_cells[i].input_prompt_number == nbb_cell_id) {\n",
       "                        if (nbb_cells[i].get_text() == nbb_unformatted_code) {\n",
       "                             nbb_cells[i].set_text(nbb_formatted_code);\n",
       "                        }\n",
       "                        break;\n",
       "                    }\n",
       "                }\n",
       "            }, 500);\n",
       "            "
      ],
      "text/plain": [
       "<IPython.core.display.Javascript object>"
      ]
     },
     "metadata": {},
     "output_type": "display_data"
    }
   ],
   "source": [
    "model.evaluate(sc.transform(x_test), y_test)"
   ]
  },
  {
   "cell_type": "code",
   "execution_count": 27,
   "metadata": {},
   "outputs": [
    {
     "data": {
      "application/javascript": [
       "\n",
       "            setTimeout(function() {\n",
       "                var nbb_cell_id = 27;\n",
       "                var nbb_unformatted_code = \"trained_layers = history.model.layers\";\n",
       "                var nbb_formatted_code = \"trained_layers = history.model.layers\";\n",
       "                var nbb_cells = Jupyter.notebook.get_cells();\n",
       "                for (var i = 0; i < nbb_cells.length; ++i) {\n",
       "                    if (nbb_cells[i].input_prompt_number == nbb_cell_id) {\n",
       "                        if (nbb_cells[i].get_text() == nbb_unformatted_code) {\n",
       "                             nbb_cells[i].set_text(nbb_formatted_code);\n",
       "                        }\n",
       "                        break;\n",
       "                    }\n",
       "                }\n",
       "            }, 500);\n",
       "            "
      ],
      "text/plain": [
       "<IPython.core.display.Javascript object>"
      ]
     },
     "metadata": {},
     "output_type": "display_data"
    }
   ],
   "source": [
    "trained_layers = history.model.layers"
   ]
  },
  {
   "cell_type": "code",
   "execution_count": 28,
   "metadata": {},
   "outputs": [
    {
     "data": {
      "text/plain": [
       "[<keras.layers.core.Dense at 0x7f5e1b552438>,\n",
       " <keras.layers.core.Dense at 0x7f5e1b552898>,\n",
       " <keras.layers.core.Dense at 0x7f5e1b552be0>,\n",
       " <keras.layers.core.Dense at 0x7f5e1b552f28>,\n",
       " <keras.layers.core.Dense at 0x7f5e1b5362b0>,\n",
       " <keras.layers.core.Dropout at 0x7f5e1b5365f8>,\n",
       " <keras.layers.core.Dense at 0x7f5e1b536780>]"
      ]
     },
     "execution_count": 28,
     "metadata": {},
     "output_type": "execute_result"
    },
    {
     "data": {
      "application/javascript": [
       "\n",
       "            setTimeout(function() {\n",
       "                var nbb_cell_id = 28;\n",
       "                var nbb_unformatted_code = \"trained_layers\";\n",
       "                var nbb_formatted_code = \"trained_layers\";\n",
       "                var nbb_cells = Jupyter.notebook.get_cells();\n",
       "                for (var i = 0; i < nbb_cells.length; ++i) {\n",
       "                    if (nbb_cells[i].input_prompt_number == nbb_cell_id) {\n",
       "                        if (nbb_cells[i].get_text() == nbb_unformatted_code) {\n",
       "                             nbb_cells[i].set_text(nbb_formatted_code);\n",
       "                        }\n",
       "                        break;\n",
       "                    }\n",
       "                }\n",
       "            }, 500);\n",
       "            "
      ],
      "text/plain": [
       "<IPython.core.display.Javascript object>"
      ]
     },
     "metadata": {},
     "output_type": "display_data"
    }
   ],
   "source": [
    "trained_layers"
   ]
  },
  {
   "cell_type": "markdown",
   "metadata": {},
   "source": [
    "# Fine Tuning"
   ]
  },
  {
   "cell_type": "markdown",
   "metadata": {},
   "source": [
    "# partner_iii"
   ]
  },
  {
   "cell_type": "code",
   "execution_count": 29,
   "metadata": {},
   "outputs": [
    {
     "data": {
      "application/javascript": [
       "\n",
       "            setTimeout(function() {\n",
       "                var nbb_cell_id = 29;\n",
       "                var nbb_unformatted_code = \"df_partner_iii = pd.read_csv(\\n    \\\"../../../data/interim/partner_iii/Dati CADD 2020-2022_with_fillna.csv\\\"\\n)\";\n",
       "                var nbb_formatted_code = \"df_partner_iii = pd.read_csv(\\n    \\\"../../../data/interim/partner_iii/Dati CADD 2020-2022_with_fillna.csv\\\"\\n)\";\n",
       "                var nbb_cells = Jupyter.notebook.get_cells();\n",
       "                for (var i = 0; i < nbb_cells.length; ++i) {\n",
       "                    if (nbb_cells[i].input_prompt_number == nbb_cell_id) {\n",
       "                        if (nbb_cells[i].get_text() == nbb_unformatted_code) {\n",
       "                             nbb_cells[i].set_text(nbb_formatted_code);\n",
       "                        }\n",
       "                        break;\n",
       "                    }\n",
       "                }\n",
       "            }, 500);\n",
       "            "
      ],
      "text/plain": [
       "<IPython.core.display.Javascript object>"
      ]
     },
     "metadata": {},
     "output_type": "display_data"
    }
   ],
   "source": [
    "df_partner_iii = pd.read_csv(\n",
    "    \"../../../data/interim/partner_iii/Dati CADD 2020-2022_with_fillna.csv\"\n",
    ")"
   ]
  },
  {
   "cell_type": "code",
   "execution_count": 30,
   "metadata": {},
   "outputs": [
    {
     "data": {
      "application/javascript": [
       "\n",
       "            setTimeout(function() {\n",
       "                var nbb_cell_id = 30;\n",
       "                var nbb_unformatted_code = \"y = df_partner_iii.pop(\\\"28d compressive strength (MPa)\\\").values\\nx = df_partner_iii.values\\n\\nx_train, x_test, y_train, y_test = train_test_split(\\n    x, y, test_size=0.2, random_state=SEED, shuffle=False\\n)\";\n",
       "                var nbb_formatted_code = \"y = df_partner_iii.pop(\\\"28d compressive strength (MPa)\\\").values\\nx = df_partner_iii.values\\n\\nx_train, x_test, y_train, y_test = train_test_split(\\n    x, y, test_size=0.2, random_state=SEED, shuffle=False\\n)\";\n",
       "                var nbb_cells = Jupyter.notebook.get_cells();\n",
       "                for (var i = 0; i < nbb_cells.length; ++i) {\n",
       "                    if (nbb_cells[i].input_prompt_number == nbb_cell_id) {\n",
       "                        if (nbb_cells[i].get_text() == nbb_unformatted_code) {\n",
       "                             nbb_cells[i].set_text(nbb_formatted_code);\n",
       "                        }\n",
       "                        break;\n",
       "                    }\n",
       "                }\n",
       "            }, 500);\n",
       "            "
      ],
      "text/plain": [
       "<IPython.core.display.Javascript object>"
      ]
     },
     "metadata": {},
     "output_type": "display_data"
    }
   ],
   "source": [
    "y = df_partner_iii.pop(\"28d compressive strength (MPa)\").values\n",
    "x = df_partner_iii.values\n",
    "\n",
    "x_train, x_test, y_train, y_test = train_test_split(\n",
    "    x, y, test_size=0.2, random_state=SEED, shuffle=False\n",
    ")"
   ]
  },
  {
   "cell_type": "code",
   "execution_count": 31,
   "metadata": {},
   "outputs": [
    {
     "data": {
      "application/javascript": [
       "\n",
       "            setTimeout(function() {\n",
       "                var nbb_cell_id = 31;\n",
       "                var nbb_unformatted_code = \"set_seeds()\\nmodel_2 = tf.keras.Sequential()\\nmodel_2.add(tf.keras.layers.Dense(units=256, activation=\\\"relu\\\"))\\ntrained_layers[1].trainable = True\\nmodel_2.add(trained_layers[1])\\ntrained_layers[2].trainable = True\\nmodel_2.add(trained_layers[2])\\ntrained_layers[3].trainable = True\\nmodel_2.add(trained_layers[3])\\ntrained_layers[4].trainable = True\\nmodel_2.add(trained_layers[4])\\n\\nmodel_2.add(tf.keras.layers.Dense(units=32, activation=\\\"relu\\\"))\\nmodel_2.add(tf.keras.layers.Dense(units=16, activation=\\\"relu\\\"))\\nmodel_2.add(tf.keras.layers.Dense(units=32, activation=\\\"relu\\\"))\\nmodel_2.add(tf.keras.layers.Dense(units=1))\\nmodel_2.compile(\\n    optimizer=tf.keras.optimizers.Adam(learning_rate=1e-3),\\n    loss=\\\"mse\\\",\\n    metrics=[tf.keras.metrics.RootMeanSquaredError(name=\\\"RMSE\\\")],\\n)\";\n",
       "                var nbb_formatted_code = \"set_seeds()\\nmodel_2 = tf.keras.Sequential()\\nmodel_2.add(tf.keras.layers.Dense(units=256, activation=\\\"relu\\\"))\\ntrained_layers[1].trainable = True\\nmodel_2.add(trained_layers[1])\\ntrained_layers[2].trainable = True\\nmodel_2.add(trained_layers[2])\\ntrained_layers[3].trainable = True\\nmodel_2.add(trained_layers[3])\\ntrained_layers[4].trainable = True\\nmodel_2.add(trained_layers[4])\\n\\nmodel_2.add(tf.keras.layers.Dense(units=32, activation=\\\"relu\\\"))\\nmodel_2.add(tf.keras.layers.Dense(units=16, activation=\\\"relu\\\"))\\nmodel_2.add(tf.keras.layers.Dense(units=32, activation=\\\"relu\\\"))\\nmodel_2.add(tf.keras.layers.Dense(units=1))\\nmodel_2.compile(\\n    optimizer=tf.keras.optimizers.Adam(learning_rate=1e-3),\\n    loss=\\\"mse\\\",\\n    metrics=[tf.keras.metrics.RootMeanSquaredError(name=\\\"RMSE\\\")],\\n)\";\n",
       "                var nbb_cells = Jupyter.notebook.get_cells();\n",
       "                for (var i = 0; i < nbb_cells.length; ++i) {\n",
       "                    if (nbb_cells[i].input_prompt_number == nbb_cell_id) {\n",
       "                        if (nbb_cells[i].get_text() == nbb_unformatted_code) {\n",
       "                             nbb_cells[i].set_text(nbb_formatted_code);\n",
       "                        }\n",
       "                        break;\n",
       "                    }\n",
       "                }\n",
       "            }, 500);\n",
       "            "
      ],
      "text/plain": [
       "<IPython.core.display.Javascript object>"
      ]
     },
     "metadata": {},
     "output_type": "display_data"
    }
   ],
   "source": [
    "set_seeds()\n",
    "model_2 = tf.keras.Sequential()\n",
    "model_2.add(tf.keras.layers.Dense(units=256, activation=\"relu\"))\n",
    "trained_layers[1].trainable = True\n",
    "model_2.add(trained_layers[1])\n",
    "trained_layers[2].trainable = True\n",
    "model_2.add(trained_layers[2])\n",
    "trained_layers[3].trainable = True\n",
    "model_2.add(trained_layers[3])\n",
    "trained_layers[4].trainable = True\n",
    "model_2.add(trained_layers[4])\n",
    "\n",
    "model_2.add(tf.keras.layers.Dense(units=32, activation=\"relu\"))\n",
    "model_2.add(tf.keras.layers.Dense(units=16, activation=\"relu\"))\n",
    "model_2.add(tf.keras.layers.Dense(units=32, activation=\"relu\"))\n",
    "model_2.add(tf.keras.layers.Dense(units=1))\n",
    "model_2.compile(\n",
    "    optimizer=tf.keras.optimizers.Adam(learning_rate=1e-3),\n",
    "    loss=\"mse\",\n",
    "    metrics=[tf.keras.metrics.RootMeanSquaredError(name=\"RMSE\")],\n",
    ")"
   ]
  },
  {
   "cell_type": "code",
   "execution_count": 32,
   "metadata": {},
   "outputs": [
    {
     "data": {
      "application/javascript": [
       "\n",
       "            setTimeout(function() {\n",
       "                var nbb_cell_id = 32;\n",
       "                var nbb_unformatted_code = \"sc = StandardScaler()\\nhistory = model_2.fit(\\n    sc.fit_transform(x_train),\\n    y_train,\\n    batch_size=batch_size,\\n    epochs=200,\\n    verbose=verbose,\\n)\";\n",
       "                var nbb_formatted_code = \"sc = StandardScaler()\\nhistory = model_2.fit(\\n    sc.fit_transform(x_train),\\n    y_train,\\n    batch_size=batch_size,\\n    epochs=200,\\n    verbose=verbose,\\n)\";\n",
       "                var nbb_cells = Jupyter.notebook.get_cells();\n",
       "                for (var i = 0; i < nbb_cells.length; ++i) {\n",
       "                    if (nbb_cells[i].input_prompt_number == nbb_cell_id) {\n",
       "                        if (nbb_cells[i].get_text() == nbb_unformatted_code) {\n",
       "                             nbb_cells[i].set_text(nbb_formatted_code);\n",
       "                        }\n",
       "                        break;\n",
       "                    }\n",
       "                }\n",
       "            }, 500);\n",
       "            "
      ],
      "text/plain": [
       "<IPython.core.display.Javascript object>"
      ]
     },
     "metadata": {},
     "output_type": "display_data"
    }
   ],
   "source": [
    "sc = StandardScaler()\n",
    "history = model_2.fit(\n",
    "    sc.fit_transform(x_train),\n",
    "    y_train,\n",
    "    batch_size=batch_size,\n",
    "    epochs=200,\n",
    "    verbose=verbose,\n",
    ")"
   ]
  },
  {
   "cell_type": "code",
   "execution_count": 33,
   "metadata": {},
   "outputs": [
    {
     "data": {
      "text/plain": [
       "[<matplotlib.lines.Line2D at 0x7f5d702c8198>]"
      ]
     },
     "execution_count": 33,
     "metadata": {},
     "output_type": "execute_result"
    },
    {
     "data": {
      "image/png": "[encoded data removed]",
      "text/plain": [
       "<Figure size 432x288 with 1 Axes>"
      ]
     },
     "metadata": {
      "needs_background": "light"
     },
     "output_type": "display_data"
    },
    {
     "data": {
      "application/javascript": [
       "\n",
       "            setTimeout(function() {\n",
       "                var nbb_cell_id = 33;\n",
       "                var nbb_unformatted_code = \"plt.plot(history.history[\\\"RMSE\\\"])\";\n",
       "                var nbb_formatted_code = \"plt.plot(history.history[\\\"RMSE\\\"])\";\n",
       "                var nbb_cells = Jupyter.notebook.get_cells();\n",
       "                for (var i = 0; i < nbb_cells.length; ++i) {\n",
       "                    if (nbb_cells[i].input_prompt_number == nbb_cell_id) {\n",
       "                        if (nbb_cells[i].get_text() == nbb_unformatted_code) {\n",
       "                             nbb_cells[i].set_text(nbb_formatted_code);\n",
       "                        }\n",
       "                        break;\n",
       "                    }\n",
       "                }\n",
       "            }, 500);\n",
       "            "
      ],
      "text/plain": [
       "<IPython.core.display.Javascript object>"
      ]
     },
     "metadata": {},
     "output_type": "display_data"
    }
   ],
   "source": [
    "plt.plot(history.history[\"RMSE\"])"
   ]
  },
  {
   "cell_type": "code",
   "execution_count": 34,
   "metadata": {},
   "outputs": [
    {
     "name": "stdout",
     "output_type": "stream",
     "text": [
      "******\n",
      "[TRAIN]\n",
      "******\n",
      "RMSE: 3.746 (0.000)\n",
      "MAE: 2.885 (0.000)\n",
      "MAPE: 0.054 (0.000)\n",
      "R2: 0.741 (0.000)\n",
      "\n",
      "======================\n",
      "\n",
      "******\n",
      "[TEST]\n",
      "******\n",
      "RMSE: 4.567 (0.000)\n",
      "MAE: 3.241 (0.000)\n",
      "MAPE: 0.065 (0.000)\n",
      "R2: 0.287 (0.000)\n",
      "\n",
      "======================\n",
      "\n"
     ]
    },
    {
     "data": {
      "application/javascript": [
       "\n",
       "            setTimeout(function() {\n",
       "                var nbb_cell_id = 34;\n",
       "                var nbb_unformatted_code = \"y_train_pred = model_2.predict(sc.transform(x_train))\\ny_test_pred = model_2.predict(sc.transform(x_test))\\n\\nscores = score_regression_metrics(y_train, y_train_pred, y_test, y_test_pred)\\nprint_scores(scores, METRICS, METRICS_DICT)\";\n",
       "                var nbb_formatted_code = \"y_train_pred = model_2.predict(sc.transform(x_train))\\ny_test_pred = model_2.predict(sc.transform(x_test))\\n\\nscores = score_regression_metrics(y_train, y_train_pred, y_test, y_test_pred)\\nprint_scores(scores, METRICS, METRICS_DICT)\";\n",
       "                var nbb_cells = Jupyter.notebook.get_cells();\n",
       "                for (var i = 0; i < nbb_cells.length; ++i) {\n",
       "                    if (nbb_cells[i].input_prompt_number == nbb_cell_id) {\n",
       "                        if (nbb_cells[i].get_text() == nbb_unformatted_code) {\n",
       "                             nbb_cells[i].set_text(nbb_formatted_code);\n",
       "                        }\n",
       "                        break;\n",
       "                    }\n",
       "                }\n",
       "            }, 500);\n",
       "            "
      ],
      "text/plain": [
       "<IPython.core.display.Javascript object>"
      ]
     },
     "metadata": {},
     "output_type": "display_data"
    }
   ],
   "source": [
    "y_train_pred = model_2.predict(sc.transform(x_train))\n",
    "y_test_pred = model_2.predict(sc.transform(x_test))\n",
    "\n",
    "scores = score_regression_metrics(y_train, y_train_pred, y_test, y_test_pred)\n",
    "print_scores(scores, METRICS, METRICS_DICT)"
   ]
  },
  {
   "cell_type": "markdown",
   "metadata": {},
   "source": [
    "# Pre Trainning"
   ]
  },
  {
   "cell_type": "code",
   "execution_count": 35,
   "metadata": {},
   "outputs": [
    {
     "data": {
      "application/javascript": [
       "\n",
       "            setTimeout(function() {\n",
       "                var nbb_cell_id = 35;\n",
       "                var nbb_unformatted_code = \"batch_size = 32\\nepochs = 200\\nverbose = 0\";\n",
       "                var nbb_formatted_code = \"batch_size = 32\\nepochs = 200\\nverbose = 0\";\n",
       "                var nbb_cells = Jupyter.notebook.get_cells();\n",
       "                for (var i = 0; i < nbb_cells.length; ++i) {\n",
       "                    if (nbb_cells[i].input_prompt_number == nbb_cell_id) {\n",
       "                        if (nbb_cells[i].get_text() == nbb_unformatted_code) {\n",
       "                             nbb_cells[i].set_text(nbb_formatted_code);\n",
       "                        }\n",
       "                        break;\n",
       "                    }\n",
       "                }\n",
       "            }, 500);\n",
       "            "
      ],
      "text/plain": [
       "<IPython.core.display.Javascript object>"
      ]
     },
     "metadata": {},
     "output_type": "display_data"
    }
   ],
   "source": [
    "batch_size = 32\n",
    "epochs = 200\n",
    "verbose = 0"
   ]
  },
  {
   "cell_type": "markdown",
   "metadata": {},
   "source": [
    "# partner_i"
   ]
  },
  {
   "cell_type": "code",
   "execution_count": 36,
   "metadata": {},
   "outputs": [
    {
     "data": {
      "application/javascript": [
       "\n",
       "            setTimeout(function() {\n",
       "                var nbb_cell_id = 36;\n",
       "                var nbb_unformatted_code = \"df_partner_i = pd.read_csv(\\n    \\\"../../../data/processed/partner_i-Oficial/cement-shipping.csv\\\"\\n)\";\n",
       "                var nbb_formatted_code = \"df_partner_i = pd.read_csv(\\n    \\\"../../../data/processed/partner_i-Oficial/cement-shipping.csv\\\"\\n)\";\n",
       "                var nbb_cells = Jupyter.notebook.get_cells();\n",
       "                for (var i = 0; i < nbb_cells.length; ++i) {\n",
       "                    if (nbb_cells[i].input_prompt_number == nbb_cell_id) {\n",
       "                        if (nbb_cells[i].get_text() == nbb_unformatted_code) {\n",
       "                             nbb_cells[i].set_text(nbb_formatted_code);\n",
       "                        }\n",
       "                        break;\n",
       "                    }\n",
       "                }\n",
       "            }, 500);\n",
       "            "
      ],
      "text/plain": [
       "<IPython.core.display.Javascript object>"
      ]
     },
     "metadata": {},
     "output_type": "display_data"
    }
   ],
   "source": [
    "df_partner_i = pd.read_csv(\n",
    "    \"../../../data/processed/partner_i-Oficial/cement-shipping.csv\"\n",
    ")"
   ]
  },
  {
   "cell_type": "code",
   "execution_count": 37,
   "metadata": {},
   "outputs": [
    {
     "data": {
      "application/javascript": [
       "\n",
       "            setTimeout(function() {\n",
       "                var nbb_cell_id = 37;\n",
       "                var nbb_unformatted_code = \"df_partner_i = df_partner_i.drop(\\n    [\\n        \\\"1 day Compressive strength\\\",\\n        \\\"3 day Compressive strength\\\",\\n        \\\"7 day Compressive strength\\\",\\n    ],\\n    axis=1,\\n).copy()\\n\\ny = df_partner_i.pop(\\\"28 day Compressive strength\\\").values\\nx = df_partner_i.drop([\\\"Date\\\"], axis=1)\\n\\nx_train, x_test, y_train, y_test = train_test_split(\\n    x, y, test_size=0.2, random_state=SEED, shuffle=False\\n)\";\n",
       "                var nbb_formatted_code = \"df_partner_i = df_partner_i.drop(\\n    [\\n        \\\"1 day Compressive strength\\\",\\n        \\\"3 day Compressive strength\\\",\\n        \\\"7 day Compressive strength\\\",\\n    ],\\n    axis=1,\\n).copy()\\n\\ny = df_partner_i.pop(\\\"28 day Compressive strength\\\").values\\nx = df_partner_i.drop([\\\"Date\\\"], axis=1)\\n\\nx_train, x_test, y_train, y_test = train_test_split(\\n    x, y, test_size=0.2, random_state=SEED, shuffle=False\\n)\";\n",
       "                var nbb_cells = Jupyter.notebook.get_cells();\n",
       "                for (var i = 0; i < nbb_cells.length; ++i) {\n",
       "                    if (nbb_cells[i].input_prompt_number == nbb_cell_id) {\n",
       "                        if (nbb_cells[i].get_text() == nbb_unformatted_code) {\n",
       "                             nbb_cells[i].set_text(nbb_formatted_code);\n",
       "                        }\n",
       "                        break;\n",
       "                    }\n",
       "                }\n",
       "            }, 500);\n",
       "            "
      ],
      "text/plain": [
       "<IPython.core.display.Javascript object>"
      ]
     },
     "metadata": {},
     "output_type": "display_data"
    }
   ],
   "source": [
    "df_partner_i = df_partner_i.drop(\n",
    "    [\n",
    "        \"1 day Compressive strength\",\n",
    "        \"3 day Compressive strength\",\n",
    "        \"7 day Compressive strength\",\n",
    "    ],\n",
    "    axis=1,\n",
    ").copy()\n",
    "\n",
    "y = df_partner_i.pop(\"28 day Compressive strength\").values\n",
    "x = df_partner_i.drop([\"Date\"], axis=1)\n",
    "\n",
    "x_train, x_test, y_train, y_test = train_test_split(\n",
    "    x, y, test_size=0.2, random_state=SEED, shuffle=False\n",
    ")"
   ]
  },
  {
   "cell_type": "code",
   "execution_count": 38,
   "metadata": {
    "scrolled": true
   },
   "outputs": [
    {
     "data": {
      "application/javascript": [
       "\n",
       "            setTimeout(function() {\n",
       "                var nbb_cell_id = 38;\n",
       "                var nbb_unformatted_code = \"set_seeds()\\nmodel = get_model()\\nsc = StandardScaler()\\nhistory = model.fit(\\n    sc.fit_transform(x_train),\\n    y_train,\\n    batch_size=batch_size,\\n    epochs=epochs,\\n    verbose=verbose,\\n)\";\n",
       "                var nbb_formatted_code = \"set_seeds()\\nmodel = get_model()\\nsc = StandardScaler()\\nhistory = model.fit(\\n    sc.fit_transform(x_train),\\n    y_train,\\n    batch_size=batch_size,\\n    epochs=epochs,\\n    verbose=verbose,\\n)\";\n",
       "                var nbb_cells = Jupyter.notebook.get_cells();\n",
       "                for (var i = 0; i < nbb_cells.length; ++i) {\n",
       "                    if (nbb_cells[i].input_prompt_number == nbb_cell_id) {\n",
       "                        if (nbb_cells[i].get_text() == nbb_unformatted_code) {\n",
       "                             nbb_cells[i].set_text(nbb_formatted_code);\n",
       "                        }\n",
       "                        break;\n",
       "                    }\n",
       "                }\n",
       "            }, 500);\n",
       "            "
      ],
      "text/plain": [
       "<IPython.core.display.Javascript object>"
      ]
     },
     "metadata": {},
     "output_type": "display_data"
    }
   ],
   "source": [
    "set_seeds()\n",
    "model = get_model()\n",
    "sc = StandardScaler()\n",
    "history = model.fit(\n",
    "    sc.fit_transform(x_train),\n",
    "    y_train,\n",
    "    batch_size=batch_size,\n",
    "    epochs=epochs,\n",
    "    verbose=verbose,\n",
    ")"
   ]
  },
  {
   "cell_type": "code",
   "execution_count": 39,
   "metadata": {},
   "outputs": [
    {
     "data": {
      "text/plain": [
       "[<matplotlib.lines.Line2D at 0x7f5d700b72e8>]"
      ]
     },
     "execution_count": 39,
     "metadata": {},
     "output_type": "execute_result"
    },
    {
     "data": {
      "image/png": "[encoded data removed]",
      "text/plain": [
       "<Figure size 432x288 with 1 Axes>"
      ]
     },
     "metadata": {
      "needs_background": "light"
     },
     "output_type": "display_data"
    },
    {
     "data": {
      "application/javascript": [
       "\n",
       "            setTimeout(function() {\n",
       "                var nbb_cell_id = 39;\n",
       "                var nbb_unformatted_code = \"plt.plot(history.history[\\\"RMSE\\\"])\";\n",
       "                var nbb_formatted_code = \"plt.plot(history.history[\\\"RMSE\\\"])\";\n",
       "                var nbb_cells = Jupyter.notebook.get_cells();\n",
       "                for (var i = 0; i < nbb_cells.length; ++i) {\n",
       "                    if (nbb_cells[i].input_prompt_number == nbb_cell_id) {\n",
       "                        if (nbb_cells[i].get_text() == nbb_unformatted_code) {\n",
       "                             nbb_cells[i].set_text(nbb_formatted_code);\n",
       "                        }\n",
       "                        break;\n",
       "                    }\n",
       "                }\n",
       "            }, 500);\n",
       "            "
      ],
      "text/plain": [
       "<IPython.core.display.Javascript object>"
      ]
     },
     "metadata": {},
     "output_type": "display_data"
    }
   ],
   "source": [
    "plt.plot(history.history[\"RMSE\"])"
   ]
  },
  {
   "cell_type": "code",
   "execution_count": 40,
   "metadata": {},
   "outputs": [
    {
     "name": "stdout",
     "output_type": "stream",
     "text": [
      "******\n",
      "[TRAIN]\n",
      "******\n",
      "RMSE: 1.514 (0.000)\n",
      "MAE: 1.215 (0.000)\n",
      "MAPE: 0.028 (0.000)\n",
      "R2: 0.910 (0.000)\n",
      "\n",
      "======================\n",
      "\n",
      "******\n",
      "[TEST]\n",
      "******\n",
      "RMSE: 2.094 (0.000)\n",
      "MAE: 1.707 (0.000)\n",
      "MAPE: 0.039 (0.000)\n",
      "R2: 0.823 (0.000)\n",
      "\n",
      "======================\n",
      "\n"
     ]
    },
    {
     "data": {
      "application/javascript": [
       "\n",
       "            setTimeout(function() {\n",
       "                var nbb_cell_id = 40;\n",
       "                var nbb_unformatted_code = \"y_train_pred = model.predict(sc.transform(x_train))\\ny_test_pred = model.predict(sc.transform(x_test))\\n\\nscores = score_regression_metrics(y_train, y_train_pred, y_test, y_test_pred)\\nprint_scores(scores, METRICS, METRICS_DICT)\";\n",
       "                var nbb_formatted_code = \"y_train_pred = model.predict(sc.transform(x_train))\\ny_test_pred = model.predict(sc.transform(x_test))\\n\\nscores = score_regression_metrics(y_train, y_train_pred, y_test, y_test_pred)\\nprint_scores(scores, METRICS, METRICS_DICT)\";\n",
       "                var nbb_cells = Jupyter.notebook.get_cells();\n",
       "                for (var i = 0; i < nbb_cells.length; ++i) {\n",
       "                    if (nbb_cells[i].input_prompt_number == nbb_cell_id) {\n",
       "                        if (nbb_cells[i].get_text() == nbb_unformatted_code) {\n",
       "                             nbb_cells[i].set_text(nbb_formatted_code);\n",
       "                        }\n",
       "                        break;\n",
       "                    }\n",
       "                }\n",
       "            }, 500);\n",
       "            "
      ],
      "text/plain": [
       "<IPython.core.display.Javascript object>"
      ]
     },
     "metadata": {},
     "output_type": "display_data"
    }
   ],
   "source": [
    "y_train_pred = model.predict(sc.transform(x_train))\n",
    "y_test_pred = model.predict(sc.transform(x_test))\n",
    "\n",
    "scores = score_regression_metrics(y_train, y_train_pred, y_test, y_test_pred)\n",
    "print_scores(scores, METRICS, METRICS_DICT)"
   ]
  },
  {
   "cell_type": "code",
   "execution_count": 41,
   "metadata": {},
   "outputs": [
    {
     "name": "stdout",
     "output_type": "stream",
     "text": [
      "Model: \"sequential_2\"\n",
      "_________________________________________________________________\n",
      "Layer (type)                 Output Shape              Param #   \n",
      "=================================================================\n",
      "dense_11 (Dense)             (None, 256)               9728      \n",
      "_________________________________________________________________\n",
      "dense_12 (Dense)             (None, 128)               32896     \n",
      "_________________________________________________________________\n",
      "dense_13 (Dense)             (None, 64)                8256      \n",
      "_________________________________________________________________\n",
      "dense_14 (Dense)             (None, 32)                2080      \n",
      "_________________________________________________________________\n",
      "dense_15 (Dense)             (None, 16)                528       \n",
      "_________________________________________________________________\n",
      "dropout_1 (Dropout)          (None, 16)                0         \n",
      "_________________________________________________________________\n",
      "dense_16 (Dense)             (None, 1)                 17        \n",
      "=================================================================\n",
      "Total params: 53,505\n",
      "Trainable params: 53,505\n",
      "Non-trainable params: 0\n",
      "_________________________________________________________________\n"
     ]
    },
    {
     "data": {
      "application/javascript": [
       "\n",
       "            setTimeout(function() {\n",
       "                var nbb_cell_id = 41;\n",
       "                var nbb_unformatted_code = \"model.summary()\";\n",
       "                var nbb_formatted_code = \"model.summary()\";\n",
       "                var nbb_cells = Jupyter.notebook.get_cells();\n",
       "                for (var i = 0; i < nbb_cells.length; ++i) {\n",
       "                    if (nbb_cells[i].input_prompt_number == nbb_cell_id) {\n",
       "                        if (nbb_cells[i].get_text() == nbb_unformatted_code) {\n",
       "                             nbb_cells[i].set_text(nbb_formatted_code);\n",
       "                        }\n",
       "                        break;\n",
       "                    }\n",
       "                }\n",
       "            }, 500);\n",
       "            "
      ],
      "text/plain": [
       "<IPython.core.display.Javascript object>"
      ]
     },
     "metadata": {},
     "output_type": "display_data"
    }
   ],
   "source": [
    "model.summary()"
   ]
  },
  {
   "cell_type": "code",
   "execution_count": 42,
   "metadata": {},
   "outputs": [
    {
     "data": {
      "application/javascript": [
       "\n",
       "            setTimeout(function() {\n",
       "                var nbb_cell_id = 42;\n",
       "                var nbb_unformatted_code = \"trained_layers = history.model.layers\";\n",
       "                var nbb_formatted_code = \"trained_layers = history.model.layers\";\n",
       "                var nbb_cells = Jupyter.notebook.get_cells();\n",
       "                for (var i = 0; i < nbb_cells.length; ++i) {\n",
       "                    if (nbb_cells[i].input_prompt_number == nbb_cell_id) {\n",
       "                        if (nbb_cells[i].get_text() == nbb_unformatted_code) {\n",
       "                             nbb_cells[i].set_text(nbb_formatted_code);\n",
       "                        }\n",
       "                        break;\n",
       "                    }\n",
       "                }\n",
       "            }, 500);\n",
       "            "
      ],
      "text/plain": [
       "<IPython.core.display.Javascript object>"
      ]
     },
     "metadata": {},
     "output_type": "display_data"
    }
   ],
   "source": [
    "trained_layers = history.model.layers"
   ]
  },
  {
   "cell_type": "code",
   "execution_count": 43,
   "metadata": {},
   "outputs": [
    {
     "data": {
      "text/plain": [
       "[<keras.layers.core.Dense at 0x7f5d7020e438>,\n",
       " <keras.layers.core.Dense at 0x7f5d7020e4a8>,\n",
       " <keras.layers.core.Dense at 0x7f5d7020ec88>,\n",
       " <keras.layers.core.Dense at 0x7f5d70299c50>,\n",
       " <keras.layers.core.Dense at 0x7f5d702162b0>,\n",
       " <keras.layers.core.Dropout at 0x7f5d702165c0>,\n",
       " <keras.layers.core.Dense at 0x7f5d70216710>]"
      ]
     },
     "execution_count": 43,
     "metadata": {},
     "output_type": "execute_result"
    },
    {
     "data": {
      "application/javascript": [
       "\n",
       "            setTimeout(function() {\n",
       "                var nbb_cell_id = 43;\n",
       "                var nbb_unformatted_code = \"trained_layers\";\n",
       "                var nbb_formatted_code = \"trained_layers\";\n",
       "                var nbb_cells = Jupyter.notebook.get_cells();\n",
       "                for (var i = 0; i < nbb_cells.length; ++i) {\n",
       "                    if (nbb_cells[i].input_prompt_number == nbb_cell_id) {\n",
       "                        if (nbb_cells[i].get_text() == nbb_unformatted_code) {\n",
       "                             nbb_cells[i].set_text(nbb_formatted_code);\n",
       "                        }\n",
       "                        break;\n",
       "                    }\n",
       "                }\n",
       "            }, 500);\n",
       "            "
      ],
      "text/plain": [
       "<IPython.core.display.Javascript object>"
      ]
     },
     "metadata": {},
     "output_type": "display_data"
    }
   ],
   "source": [
    "trained_layers"
   ]
  },
  {
   "cell_type": "markdown",
   "metadata": {},
   "source": [
    "# partner_iii"
   ]
  },
  {
   "cell_type": "code",
   "execution_count": 44,
   "metadata": {},
   "outputs": [
    {
     "data": {
      "application/javascript": [
       "\n",
       "            setTimeout(function() {\n",
       "                var nbb_cell_id = 44;\n",
       "                var nbb_unformatted_code = \"df_partner_iii = pd.read_csv(\\n    \\\"../../../data/interim/partner_iii/Dati CADD 2020-2022_with_fillna.csv\\\"\\n)\";\n",
       "                var nbb_formatted_code = \"df_partner_iii = pd.read_csv(\\n    \\\"../../../data/interim/partner_iii/Dati CADD 2020-2022_with_fillna.csv\\\"\\n)\";\n",
       "                var nbb_cells = Jupyter.notebook.get_cells();\n",
       "                for (var i = 0; i < nbb_cells.length; ++i) {\n",
       "                    if (nbb_cells[i].input_prompt_number == nbb_cell_id) {\n",
       "                        if (nbb_cells[i].get_text() == nbb_unformatted_code) {\n",
       "                             nbb_cells[i].set_text(nbb_formatted_code);\n",
       "                        }\n",
       "                        break;\n",
       "                    }\n",
       "                }\n",
       "            }, 500);\n",
       "            "
      ],
      "text/plain": [
       "<IPython.core.display.Javascript object>"
      ]
     },
     "metadata": {},
     "output_type": "display_data"
    }
   ],
   "source": [
    "df_partner_iii = pd.read_csv(\n",
    "    \"../../../data/interim/partner_iii/Dati CADD 2020-2022_with_fillna.csv\"\n",
    ")"
   ]
  },
  {
   "cell_type": "code",
   "execution_count": 45,
   "metadata": {},
   "outputs": [
    {
     "data": {
      "application/javascript": [
       "\n",
       "            setTimeout(function() {\n",
       "                var nbb_cell_id = 45;\n",
       "                var nbb_unformatted_code = \"y = df_partner_iii.pop(\\\"28d compressive strength (MPa)\\\").values\\nx = df_partner_iii.values\\n\\nx_train, x_test, y_train, y_test = train_test_split(\\n    x, y, test_size=0.1, random_state=SEED, shuffle=False\\n)\";\n",
       "                var nbb_formatted_code = \"y = df_partner_iii.pop(\\\"28d compressive strength (MPa)\\\").values\\nx = df_partner_iii.values\\n\\nx_train, x_test, y_train, y_test = train_test_split(\\n    x, y, test_size=0.1, random_state=SEED, shuffle=False\\n)\";\n",
       "                var nbb_cells = Jupyter.notebook.get_cells();\n",
       "                for (var i = 0; i < nbb_cells.length; ++i) {\n",
       "                    if (nbb_cells[i].input_prompt_number == nbb_cell_id) {\n",
       "                        if (nbb_cells[i].get_text() == nbb_unformatted_code) {\n",
       "                             nbb_cells[i].set_text(nbb_formatted_code);\n",
       "                        }\n",
       "                        break;\n",
       "                    }\n",
       "                }\n",
       "            }, 500);\n",
       "            "
      ],
      "text/plain": [
       "<IPython.core.display.Javascript object>"
      ]
     },
     "metadata": {},
     "output_type": "display_data"
    }
   ],
   "source": [
    "y = df_partner_iii.pop(\"28d compressive strength (MPa)\").values\n",
    "x = df_partner_iii.values\n",
    "\n",
    "x_train, x_test, y_train, y_test = train_test_split(\n",
    "    x, y, test_size=0.1, random_state=SEED, shuffle=False\n",
    ")"
   ]
  },
  {
   "cell_type": "code",
   "execution_count": 46,
   "metadata": {},
   "outputs": [
    {
     "data": {
      "application/javascript": [
       "\n",
       "            setTimeout(function() {\n",
       "                var nbb_cell_id = 46;\n",
       "                var nbb_unformatted_code = \"set_seeds()\\nmodel_2 = tf.keras.Sequential()\\nmodel_2.add(tf.keras.layers.Dense(units=256, activation=\\\"relu\\\"))\\ntrained_layers[1].trainable = True\\nmodel_2.add(trained_layers[1])\\ntrained_layers[2].trainable = True\\nmodel_2.add(trained_layers[2])\\ntrained_layers[3].trainable = True\\nmodel_2.add(trained_layers[3])\\ntrained_layers[4].trainable = True\\nmodel_2.add(trained_layers[4])\\n\\nmodel_2.add(tf.keras.layers.Dense(units=32, activation=\\\"relu\\\"))\\nmodel_2.add(tf.keras.layers.Dense(units=16, activation=\\\"relu\\\"))\\nmodel_2.add(tf.keras.layers.Dense(units=32, activation=\\\"relu\\\"))\\nmodel_2.add(tf.keras.layers.Dense(units=1))\\nmodel_2.compile(\\n    optimizer=tf.keras.optimizers.Adam(learning_rate=1e-3),\\n    loss=\\\"mse\\\",\\n    metrics=[tf.keras.metrics.RootMeanSquaredError(name=\\\"RMSE\\\")],\\n)\";\n",
       "                var nbb_formatted_code = \"set_seeds()\\nmodel_2 = tf.keras.Sequential()\\nmodel_2.add(tf.keras.layers.Dense(units=256, activation=\\\"relu\\\"))\\ntrained_layers[1].trainable = True\\nmodel_2.add(trained_layers[1])\\ntrained_layers[2].trainable = True\\nmodel_2.add(trained_layers[2])\\ntrained_layers[3].trainable = True\\nmodel_2.add(trained_layers[3])\\ntrained_layers[4].trainable = True\\nmodel_2.add(trained_layers[4])\\n\\nmodel_2.add(tf.keras.layers.Dense(units=32, activation=\\\"relu\\\"))\\nmodel_2.add(tf.keras.layers.Dense(units=16, activation=\\\"relu\\\"))\\nmodel_2.add(tf.keras.layers.Dense(units=32, activation=\\\"relu\\\"))\\nmodel_2.add(tf.keras.layers.Dense(units=1))\\nmodel_2.compile(\\n    optimizer=tf.keras.optimizers.Adam(learning_rate=1e-3),\\n    loss=\\\"mse\\\",\\n    metrics=[tf.keras.metrics.RootMeanSquaredError(name=\\\"RMSE\\\")],\\n)\";\n",
       "                var nbb_cells = Jupyter.notebook.get_cells();\n",
       "                for (var i = 0; i < nbb_cells.length; ++i) {\n",
       "                    if (nbb_cells[i].input_prompt_number == nbb_cell_id) {\n",
       "                        if (nbb_cells[i].get_text() == nbb_unformatted_code) {\n",
       "                             nbb_cells[i].set_text(nbb_formatted_code);\n",
       "                        }\n",
       "                        break;\n",
       "                    }\n",
       "                }\n",
       "            }, 500);\n",
       "            "
      ],
      "text/plain": [
       "<IPython.core.display.Javascript object>"
      ]
     },
     "metadata": {},
     "output_type": "display_data"
    }
   ],
   "source": [
    "set_seeds()\n",
    "model_2 = tf.keras.Sequential()\n",
    "model_2.add(tf.keras.layers.Dense(units=256, activation=\"relu\"))\n",
    "trained_layers[1].trainable = True\n",
    "model_2.add(trained_layers[1])\n",
    "trained_layers[2].trainable = True\n",
    "model_2.add(trained_layers[2])\n",
    "trained_layers[3].trainable = True\n",
    "model_2.add(trained_layers[3])\n",
    "trained_layers[4].trainable = True\n",
    "model_2.add(trained_layers[4])\n",
    "\n",
    "model_2.add(tf.keras.layers.Dense(units=32, activation=\"relu\"))\n",
    "model_2.add(tf.keras.layers.Dense(units=16, activation=\"relu\"))\n",
    "model_2.add(tf.keras.layers.Dense(units=32, activation=\"relu\"))\n",
    "model_2.add(tf.keras.layers.Dense(units=1))\n",
    "model_2.compile(\n",
    "    optimizer=tf.keras.optimizers.Adam(learning_rate=1e-3),\n",
    "    loss=\"mse\",\n",
    "    metrics=[tf.keras.metrics.RootMeanSquaredError(name=\"RMSE\")],\n",
    ")"
   ]
  },
  {
   "cell_type": "code",
   "execution_count": 47,
   "metadata": {
    "scrolled": true
   },
   "outputs": [
    {
     "data": {
      "application/javascript": [
       "\n",
       "            setTimeout(function() {\n",
       "                var nbb_cell_id = 47;\n",
       "                var nbb_unformatted_code = \"sc = StandardScaler()\\nhistory = model_2.fit(\\n    sc.fit_transform(x_train),\\n    y_train,\\n    batch_size=batch_size,\\n    epochs=500,\\n    verbose=verbose,\\n)\";\n",
       "                var nbb_formatted_code = \"sc = StandardScaler()\\nhistory = model_2.fit(\\n    sc.fit_transform(x_train),\\n    y_train,\\n    batch_size=batch_size,\\n    epochs=500,\\n    verbose=verbose,\\n)\";\n",
       "                var nbb_cells = Jupyter.notebook.get_cells();\n",
       "                for (var i = 0; i < nbb_cells.length; ++i) {\n",
       "                    if (nbb_cells[i].input_prompt_number == nbb_cell_id) {\n",
       "                        if (nbb_cells[i].get_text() == nbb_unformatted_code) {\n",
       "                             nbb_cells[i].set_text(nbb_formatted_code);\n",
       "                        }\n",
       "                        break;\n",
       "                    }\n",
       "                }\n",
       "            }, 500);\n",
       "            "
      ],
      "text/plain": [
       "<IPython.core.display.Javascript object>"
      ]
     },
     "metadata": {},
     "output_type": "display_data"
    }
   ],
   "source": [
    "sc = StandardScaler()\n",
    "history = model_2.fit(\n",
    "    sc.fit_transform(x_train),\n",
    "    y_train,\n",
    "    batch_size=batch_size,\n",
    "    epochs=500,\n",
    "    verbose=verbose,\n",
    ")"
   ]
  },
  {
   "cell_type": "code",
   "execution_count": 48,
   "metadata": {},
   "outputs": [
    {
     "name": "stdout",
     "output_type": "stream",
     "text": [
      "******\n",
      "[TRAIN]\n",
      "******\n",
      "RMSE: 4.128 (0.000)\n",
      "MAE: 3.169 (0.000)\n",
      "MAPE: 0.058 (0.000)\n",
      "R2: 0.679 (0.000)\n",
      "\n",
      "======================\n",
      "\n",
      "******\n",
      "[TEST]\n",
      "******\n",
      "RMSE: 3.522 (0.000)\n",
      "MAE: 2.653 (0.000)\n",
      "MAPE: 0.051 (0.000)\n",
      "R2: 0.151 (0.000)\n",
      "\n",
      "======================\n",
      "\n"
     ]
    },
    {
     "data": {
      "application/javascript": [
       "\n",
       "            setTimeout(function() {\n",
       "                var nbb_cell_id = 48;\n",
       "                var nbb_unformatted_code = \"y_train_pred = model_2.predict(sc.transform(x_train))\\ny_test_pred = model_2.predict(sc.transform(x_test))\\n\\nscores = score_regression_metrics(y_train, y_train_pred, y_test, y_test_pred)\\nprint_scores(scores, METRICS, METRICS_DICT)\";\n",
       "                var nbb_formatted_code = \"y_train_pred = model_2.predict(sc.transform(x_train))\\ny_test_pred = model_2.predict(sc.transform(x_test))\\n\\nscores = score_regression_metrics(y_train, y_train_pred, y_test, y_test_pred)\\nprint_scores(scores, METRICS, METRICS_DICT)\";\n",
       "                var nbb_cells = Jupyter.notebook.get_cells();\n",
       "                for (var i = 0; i < nbb_cells.length; ++i) {\n",
       "                    if (nbb_cells[i].input_prompt_number == nbb_cell_id) {\n",
       "                        if (nbb_cells[i].get_text() == nbb_unformatted_code) {\n",
       "                             nbb_cells[i].set_text(nbb_formatted_code);\n",
       "                        }\n",
       "                        break;\n",
       "                    }\n",
       "                }\n",
       "            }, 500);\n",
       "            "
      ],
      "text/plain": [
       "<IPython.core.display.Javascript object>"
      ]
     },
     "metadata": {},
     "output_type": "display_data"
    }
   ],
   "source": [
    "y_train_pred = model_2.predict(sc.transform(x_train))\n",
    "y_test_pred = model_2.predict(sc.transform(x_test))\n",
    "\n",
    "scores = score_regression_metrics(y_train, y_train_pred, y_test, y_test_pred)\n",
    "print_scores(scores, METRICS, METRICS_DICT)"
   ]
  },
  {
   "cell_type": "code",
   "execution_count": 49,
   "metadata": {},
   "outputs": [
    {
     "data": {
      "text/plain": [
       "{'name': 'dense_11',\n",
       " 'trainable': True,\n",
       " 'dtype': 'float32',\n",
       " 'units': 256,\n",
       " 'activation': 'relu',\n",
       " 'use_bias': True,\n",
       " 'kernel_initializer': {'class_name': 'GlorotUniform',\n",
       "  'config': {'seed': None}},\n",
       " 'bias_initializer': {'class_name': 'Zeros', 'config': {}},\n",
       " 'kernel_regularizer': None,\n",
       " 'bias_regularizer': None,\n",
       " 'activity_regularizer': None,\n",
       " 'kernel_constraint': None,\n",
       " 'bias_constraint': None}"
      ]
     },
     "execution_count": 49,
     "metadata": {},
     "output_type": "execute_result"
    },
    {
     "data": {
      "application/javascript": [
       "\n",
       "            setTimeout(function() {\n",
       "                var nbb_cell_id = 49;\n",
       "                var nbb_unformatted_code = \"trained_layers[0].get_config()\";\n",
       "                var nbb_formatted_code = \"trained_layers[0].get_config()\";\n",
       "                var nbb_cells = Jupyter.notebook.get_cells();\n",
       "                for (var i = 0; i < nbb_cells.length; ++i) {\n",
       "                    if (nbb_cells[i].input_prompt_number == nbb_cell_id) {\n",
       "                        if (nbb_cells[i].get_text() == nbb_unformatted_code) {\n",
       "                             nbb_cells[i].set_text(nbb_formatted_code);\n",
       "                        }\n",
       "                        break;\n",
       "                    }\n",
       "                }\n",
       "            }, 500);\n",
       "            "
      ],
      "text/plain": [
       "<IPython.core.display.Javascript object>"
      ]
     },
     "metadata": {},
     "output_type": "display_data"
    }
   ],
   "source": [
    "trained_layers[0].get_config()"
   ]
  },
  {
   "cell_type": "markdown",
   "metadata": {},
   "source": [
    "# Pre Trainning"
   ]
  },
  {
   "cell_type": "code",
   "execution_count": 50,
   "metadata": {},
   "outputs": [
    {
     "data": {
      "application/javascript": [
       "\n",
       "            setTimeout(function() {\n",
       "                var nbb_cell_id = 50;\n",
       "                var nbb_unformatted_code = \"batch_size = 32\\nepochs = 200\\nverbose = 0\";\n",
       "                var nbb_formatted_code = \"batch_size = 32\\nepochs = 200\\nverbose = 0\";\n",
       "                var nbb_cells = Jupyter.notebook.get_cells();\n",
       "                for (var i = 0; i < nbb_cells.length; ++i) {\n",
       "                    if (nbb_cells[i].input_prompt_number == nbb_cell_id) {\n",
       "                        if (nbb_cells[i].get_text() == nbb_unformatted_code) {\n",
       "                             nbb_cells[i].set_text(nbb_formatted_code);\n",
       "                        }\n",
       "                        break;\n",
       "                    }\n",
       "                }\n",
       "            }, 500);\n",
       "            "
      ],
      "text/plain": [
       "<IPython.core.display.Javascript object>"
      ]
     },
     "metadata": {},
     "output_type": "display_data"
    }
   ],
   "source": [
    "batch_size = 32\n",
    "epochs = 200\n",
    "verbose = 0"
   ]
  },
  {
   "cell_type": "markdown",
   "metadata": {},
   "source": [
    "# partner_i"
   ]
  },
  {
   "cell_type": "code",
   "execution_count": 51,
   "metadata": {},
   "outputs": [
    {
     "data": {
      "application/javascript": [
       "\n",
       "            setTimeout(function() {\n",
       "                var nbb_cell_id = 51;\n",
       "                var nbb_unformatted_code = \"df_partner_i = pd.read_csv(\\n    \\\"../../../data/processed/partner_i-Oficial/cement-shipping.csv\\\"\\n)\";\n",
       "                var nbb_formatted_code = \"df_partner_i = pd.read_csv(\\n    \\\"../../../data/processed/partner_i-Oficial/cement-shipping.csv\\\"\\n)\";\n",
       "                var nbb_cells = Jupyter.notebook.get_cells();\n",
       "                for (var i = 0; i < nbb_cells.length; ++i) {\n",
       "                    if (nbb_cells[i].input_prompt_number == nbb_cell_id) {\n",
       "                        if (nbb_cells[i].get_text() == nbb_unformatted_code) {\n",
       "                             nbb_cells[i].set_text(nbb_formatted_code);\n",
       "                        }\n",
       "                        break;\n",
       "                    }\n",
       "                }\n",
       "            }, 500);\n",
       "            "
      ],
      "text/plain": [
       "<IPython.core.display.Javascript object>"
      ]
     },
     "metadata": {},
     "output_type": "display_data"
    }
   ],
   "source": [
    "df_partner_i = pd.read_csv(\n",
    "    \"../../../data/processed/partner_i-Oficial/cement-shipping.csv\"\n",
    ")"
   ]
  },
  {
   "cell_type": "code",
   "execution_count": 52,
   "metadata": {},
   "outputs": [
    {
     "data": {
      "application/javascript": [
       "\n",
       "            setTimeout(function() {\n",
       "                var nbb_cell_id = 52;\n",
       "                var nbb_unformatted_code = \"df_partner_i = df_partner_i.drop(\\n    [\\n        \\\"1 day Compressive strength\\\",\\n        \\\"3 day Compressive strength\\\",\\n        \\\"7 day Compressive strength\\\",\\n    ],\\n    axis=1,\\n).copy()\\n\\ny = df_partner_i.pop(\\\"28 day Compressive strength\\\").values\\nx = df_partner_i.drop([\\\"Date\\\"], axis=1).values\\n\\nx_train, x_test, y_train, y_test = train_test_split(\\n    x, y, test_size=0.2, random_state=SEED, shuffle=False\\n)\";\n",
       "                var nbb_formatted_code = \"df_partner_i = df_partner_i.drop(\\n    [\\n        \\\"1 day Compressive strength\\\",\\n        \\\"3 day Compressive strength\\\",\\n        \\\"7 day Compressive strength\\\",\\n    ],\\n    axis=1,\\n).copy()\\n\\ny = df_partner_i.pop(\\\"28 day Compressive strength\\\").values\\nx = df_partner_i.drop([\\\"Date\\\"], axis=1).values\\n\\nx_train, x_test, y_train, y_test = train_test_split(\\n    x, y, test_size=0.2, random_state=SEED, shuffle=False\\n)\";\n",
       "                var nbb_cells = Jupyter.notebook.get_cells();\n",
       "                for (var i = 0; i < nbb_cells.length; ++i) {\n",
       "                    if (nbb_cells[i].input_prompt_number == nbb_cell_id) {\n",
       "                        if (nbb_cells[i].get_text() == nbb_unformatted_code) {\n",
       "                             nbb_cells[i].set_text(nbb_formatted_code);\n",
       "                        }\n",
       "                        break;\n",
       "                    }\n",
       "                }\n",
       "            }, 500);\n",
       "            "
      ],
      "text/plain": [
       "<IPython.core.display.Javascript object>"
      ]
     },
     "metadata": {},
     "output_type": "display_data"
    }
   ],
   "source": [
    "df_partner_i = df_partner_i.drop(\n",
    "    [\n",
    "        \"1 day Compressive strength\",\n",
    "        \"3 day Compressive strength\",\n",
    "        \"7 day Compressive strength\",\n",
    "    ],\n",
    "    axis=1,\n",
    ").copy()\n",
    "\n",
    "y = df_partner_i.pop(\"28 day Compressive strength\").values\n",
    "x = df_partner_i.drop([\"Date\"], axis=1).values\n",
    "\n",
    "x_train, x_test, y_train, y_test = train_test_split(\n",
    "    x, y, test_size=0.2, random_state=SEED, shuffle=False\n",
    ")"
   ]
  },
  {
   "cell_type": "code",
   "execution_count": 53,
   "metadata": {
    "scrolled": true
   },
   "outputs": [
    {
     "data": {
      "application/javascript": [
       "\n",
       "            setTimeout(function() {\n",
       "                var nbb_cell_id = 53;\n",
       "                var nbb_unformatted_code = \"set_seeds()\\nmodel = get_model()\\nsc = StandardScaler()\\nhistory = model.fit(\\n    sc.fit_transform(x_train),\\n    y_train,\\n    batch_size=batch_size,\\n    epochs=epochs,\\n    verbose=verbose,\\n)\";\n",
       "                var nbb_formatted_code = \"set_seeds()\\nmodel = get_model()\\nsc = StandardScaler()\\nhistory = model.fit(\\n    sc.fit_transform(x_train),\\n    y_train,\\n    batch_size=batch_size,\\n    epochs=epochs,\\n    verbose=verbose,\\n)\";\n",
       "                var nbb_cells = Jupyter.notebook.get_cells();\n",
       "                for (var i = 0; i < nbb_cells.length; ++i) {\n",
       "                    if (nbb_cells[i].input_prompt_number == nbb_cell_id) {\n",
       "                        if (nbb_cells[i].get_text() == nbb_unformatted_code) {\n",
       "                             nbb_cells[i].set_text(nbb_formatted_code);\n",
       "                        }\n",
       "                        break;\n",
       "                    }\n",
       "                }\n",
       "            }, 500);\n",
       "            "
      ],
      "text/plain": [
       "<IPython.core.display.Javascript object>"
      ]
     },
     "metadata": {},
     "output_type": "display_data"
    }
   ],
   "source": [
    "set_seeds()\n",
    "model = get_model()\n",
    "sc = StandardScaler()\n",
    "history = model.fit(\n",
    "    sc.fit_transform(x_train),\n",
    "    y_train,\n",
    "    batch_size=batch_size,\n",
    "    epochs=epochs,\n",
    "    verbose=verbose,\n",
    ")"
   ]
  },
  {
   "cell_type": "code",
   "execution_count": 54,
   "metadata": {},
   "outputs": [
    {
     "data": {
      "text/plain": [
       "[<matplotlib.lines.Line2D at 0x7f5d27edaba8>]"
      ]
     },
     "execution_count": 54,
     "metadata": {},
     "output_type": "execute_result"
    },
    {
     "data": {
      "image/png": "[encoded data removed]",
      "text/plain": [
       "<Figure size 432x288 with 1 Axes>"
      ]
     },
     "metadata": {
      "needs_background": "light"
     },
     "output_type": "display_data"
    },
    {
     "data": {
      "application/javascript": [
       "\n",
       "            setTimeout(function() {\n",
       "                var nbb_cell_id = 54;\n",
       "                var nbb_unformatted_code = \"plt.plot(history.history[\\\"RMSE\\\"])\";\n",
       "                var nbb_formatted_code = \"plt.plot(history.history[\\\"RMSE\\\"])\";\n",
       "                var nbb_cells = Jupyter.notebook.get_cells();\n",
       "                for (var i = 0; i < nbb_cells.length; ++i) {\n",
       "                    if (nbb_cells[i].input_prompt_number == nbb_cell_id) {\n",
       "                        if (nbb_cells[i].get_text() == nbb_unformatted_code) {\n",
       "                             nbb_cells[i].set_text(nbb_formatted_code);\n",
       "                        }\n",
       "                        break;\n",
       "                    }\n",
       "                }\n",
       "            }, 500);\n",
       "            "
      ],
      "text/plain": [
       "<IPython.core.display.Javascript object>"
      ]
     },
     "metadata": {},
     "output_type": "display_data"
    }
   ],
   "source": [
    "plt.plot(history.history[\"RMSE\"])"
   ]
  },
  {
   "cell_type": "code",
   "execution_count": 55,
   "metadata": {},
   "outputs": [
    {
     "name": "stdout",
     "output_type": "stream",
     "text": [
      "******\n",
      "[TRAIN]\n",
      "******\n",
      "RMSE: 1.514 (0.000)\n",
      "MAE: 1.215 (0.000)\n",
      "MAPE: 0.028 (0.000)\n",
      "R2: 0.910 (0.000)\n",
      "\n",
      "======================\n",
      "\n",
      "******\n",
      "[TEST]\n",
      "******\n",
      "RMSE: 2.094 (0.000)\n",
      "MAE: 1.707 (0.000)\n",
      "MAPE: 0.039 (0.000)\n",
      "R2: 0.823 (0.000)\n",
      "\n",
      "======================\n",
      "\n"
     ]
    },
    {
     "data": {
      "application/javascript": [
       "\n",
       "            setTimeout(function() {\n",
       "                var nbb_cell_id = 55;\n",
       "                var nbb_unformatted_code = \"y_train_pred = model.predict(sc.transform(x_train))\\ny_test_pred = model.predict(sc.transform(x_test))\\n\\nscores = score_regression_metrics(y_train, y_train_pred, y_test, y_test_pred)\\nprint_scores(scores, METRICS, METRICS_DICT)\";\n",
       "                var nbb_formatted_code = \"y_train_pred = model.predict(sc.transform(x_train))\\ny_test_pred = model.predict(sc.transform(x_test))\\n\\nscores = score_regression_metrics(y_train, y_train_pred, y_test, y_test_pred)\\nprint_scores(scores, METRICS, METRICS_DICT)\";\n",
       "                var nbb_cells = Jupyter.notebook.get_cells();\n",
       "                for (var i = 0; i < nbb_cells.length; ++i) {\n",
       "                    if (nbb_cells[i].input_prompt_number == nbb_cell_id) {\n",
       "                        if (nbb_cells[i].get_text() == nbb_unformatted_code) {\n",
       "                             nbb_cells[i].set_text(nbb_formatted_code);\n",
       "                        }\n",
       "                        break;\n",
       "                    }\n",
       "                }\n",
       "            }, 500);\n",
       "            "
      ],
      "text/plain": [
       "<IPython.core.display.Javascript object>"
      ]
     },
     "metadata": {},
     "output_type": "display_data"
    }
   ],
   "source": [
    "y_train_pred = model.predict(sc.transform(x_train))\n",
    "y_test_pred = model.predict(sc.transform(x_test))\n",
    "\n",
    "scores = score_regression_metrics(y_train, y_train_pred, y_test, y_test_pred)\n",
    "print_scores(scores, METRICS, METRICS_DICT)"
   ]
  },
  {
   "cell_type": "code",
   "execution_count": 56,
   "metadata": {},
   "outputs": [
    {
     "data": {
      "application/javascript": [
       "\n",
       "            setTimeout(function() {\n",
       "                var nbb_cell_id = 56;\n",
       "                var nbb_unformatted_code = \"trained_layers = history.model.layers\";\n",
       "                var nbb_formatted_code = \"trained_layers = history.model.layers\";\n",
       "                var nbb_cells = Jupyter.notebook.get_cells();\n",
       "                for (var i = 0; i < nbb_cells.length; ++i) {\n",
       "                    if (nbb_cells[i].input_prompt_number == nbb_cell_id) {\n",
       "                        if (nbb_cells[i].get_text() == nbb_unformatted_code) {\n",
       "                             nbb_cells[i].set_text(nbb_formatted_code);\n",
       "                        }\n",
       "                        break;\n",
       "                    }\n",
       "                }\n",
       "            }, 500);\n",
       "            "
      ],
      "text/plain": [
       "<IPython.core.display.Javascript object>"
      ]
     },
     "metadata": {},
     "output_type": "display_data"
    }
   ],
   "source": [
    "trained_layers = history.model.layers"
   ]
  },
  {
   "cell_type": "code",
   "execution_count": 57,
   "metadata": {},
   "outputs": [
    {
     "data": {
      "text/plain": [
       "[<keras.layers.core.Dense at 0x7f5d701fc630>,\n",
       " <keras.layers.core.Dense at 0x7f5d701fca20>,\n",
       " <keras.layers.core.Dense at 0x7f5d25eb8b00>,\n",
       " <keras.layers.core.Dense at 0x7f5d27fa09b0>,\n",
       " <keras.layers.core.Dense at 0x7f5d701fcfd0>,\n",
       " <keras.layers.core.Dropout at 0x7f5d27f61320>,\n",
       " <keras.layers.core.Dense at 0x7f5d27f61470>]"
      ]
     },
     "execution_count": 57,
     "metadata": {},
     "output_type": "execute_result"
    },
    {
     "data": {
      "application/javascript": [
       "\n",
       "            setTimeout(function() {\n",
       "                var nbb_cell_id = 57;\n",
       "                var nbb_unformatted_code = \"trained_layers\";\n",
       "                var nbb_formatted_code = \"trained_layers\";\n",
       "                var nbb_cells = Jupyter.notebook.get_cells();\n",
       "                for (var i = 0; i < nbb_cells.length; ++i) {\n",
       "                    if (nbb_cells[i].input_prompt_number == nbb_cell_id) {\n",
       "                        if (nbb_cells[i].get_text() == nbb_unformatted_code) {\n",
       "                             nbb_cells[i].set_text(nbb_formatted_code);\n",
       "                        }\n",
       "                        break;\n",
       "                    }\n",
       "                }\n",
       "            }, 500);\n",
       "            "
      ],
      "text/plain": [
       "<IPython.core.display.Javascript object>"
      ]
     },
     "metadata": {},
     "output_type": "display_data"
    }
   ],
   "source": [
    "trained_layers"
   ]
  },
  {
   "cell_type": "markdown",
   "metadata": {},
   "source": [
    "# Fine Tuning"
   ]
  },
  {
   "cell_type": "markdown",
   "metadata": {},
   "source": [
    "# Intercement"
   ]
  },
  {
   "cell_type": "code",
   "execution_count": 58,
   "metadata": {},
   "outputs": [
    {
     "data": {
      "application/javascript": [
       "\n",
       "            setTimeout(function() {\n",
       "                var nbb_cell_id = 58;\n",
       "                var nbb_unformatted_code = \"df = pd.read_csv(\\\"../../../data/processed/Intercement/cement-shipping.csv\\\")\\ndf_no_cs = df.drop(\\n    [\\n        \\\"RC1\\\",\\n        \\\"RC3\\\",\\n        \\\"RC7\\\",\\n    ],\\n    axis=1,\\n).copy()\\n\\ny = df_no_cs.pop(\\\"RC28\\\").values\\nx = df_no_cs.drop([\\\"Data\\\"], axis=1).values\\nx_train, x_test, y_train, y_test = train_test_split(\\n    x, y, test_size=0.2, random_state=SEED, shuffle=False\\n)\";\n",
       "                var nbb_formatted_code = \"df = pd.read_csv(\\\"../../../data/processed/Intercement/cement-shipping.csv\\\")\\ndf_no_cs = df.drop(\\n    [\\n        \\\"RC1\\\",\\n        \\\"RC3\\\",\\n        \\\"RC7\\\",\\n    ],\\n    axis=1,\\n).copy()\\n\\ny = df_no_cs.pop(\\\"RC28\\\").values\\nx = df_no_cs.drop([\\\"Data\\\"], axis=1).values\\nx_train, x_test, y_train, y_test = train_test_split(\\n    x, y, test_size=0.2, random_state=SEED, shuffle=False\\n)\";\n",
       "                var nbb_cells = Jupyter.notebook.get_cells();\n",
       "                for (var i = 0; i < nbb_cells.length; ++i) {\n",
       "                    if (nbb_cells[i].input_prompt_number == nbb_cell_id) {\n",
       "                        if (nbb_cells[i].get_text() == nbb_unformatted_code) {\n",
       "                             nbb_cells[i].set_text(nbb_formatted_code);\n",
       "                        }\n",
       "                        break;\n",
       "                    }\n",
       "                }\n",
       "            }, 500);\n",
       "            "
      ],
      "text/plain": [
       "<IPython.core.display.Javascript object>"
      ]
     },
     "metadata": {},
     "output_type": "display_data"
    }
   ],
   "source": [
    "df = pd.read_csv(\"../../../data/processed/Intercement/cement-shipping.csv\")\n",
    "df_no_cs = df.drop(\n",
    "    [\n",
    "        \"RC1\",\n",
    "        \"RC3\",\n",
    "        \"RC7\",\n",
    "    ],\n",
    "    axis=1,\n",
    ").copy()\n",
    "\n",
    "y = df_no_cs.pop(\"RC28\").values\n",
    "x = df_no_cs.drop([\"Data\"], axis=1).values\n",
    "x_train, x_test, y_train, y_test = train_test_split(\n",
    "    x, y, test_size=0.2, random_state=SEED, shuffle=False\n",
    ")"
   ]
  },
  {
   "cell_type": "code",
   "execution_count": 59,
   "metadata": {},
   "outputs": [
    {
     "data": {
      "application/javascript": [
       "\n",
       "            setTimeout(function() {\n",
       "                var nbb_cell_id = 59;\n",
       "                var nbb_unformatted_code = \"set_seeds()\\nmodel_2 = tf.keras.Sequential()\\nmodel_2.add(tf.keras.layers.Dense(units=256, activation=\\\"relu\\\"))\\ntrained_layers[1].trainable = True\\nmodel_2.add(trained_layers[1])\\ntrained_layers[2].trainable = True\\nmodel_2.add(trained_layers[2])\\ntrained_layers[3].trainable = True\\nmodel_2.add(trained_layers[3])\\ntrained_layers[4].trainable = True\\nmodel_2.add(trained_layers[4])\\n\\nmodel_2.add(tf.keras.layers.Dense(units=256, activation=\\\"relu\\\"))\\nmodel_2.add(tf.keras.layers.Dense(units=256, activation=\\\"relu\\\"))\\nmodel_2.add(tf.keras.layers.Dense(units=1))\\nmodel_2.compile(\\n    optimizer=tf.keras.optimizers.Adam(learning_rate=1e-3),\\n    loss=\\\"mse\\\",\\n    metrics=[tf.keras.metrics.RootMeanSquaredError(name=\\\"RMSE\\\")],\\n)\";\n",
       "                var nbb_formatted_code = \"set_seeds()\\nmodel_2 = tf.keras.Sequential()\\nmodel_2.add(tf.keras.layers.Dense(units=256, activation=\\\"relu\\\"))\\ntrained_layers[1].trainable = True\\nmodel_2.add(trained_layers[1])\\ntrained_layers[2].trainable = True\\nmodel_2.add(trained_layers[2])\\ntrained_layers[3].trainable = True\\nmodel_2.add(trained_layers[3])\\ntrained_layers[4].trainable = True\\nmodel_2.add(trained_layers[4])\\n\\nmodel_2.add(tf.keras.layers.Dense(units=256, activation=\\\"relu\\\"))\\nmodel_2.add(tf.keras.layers.Dense(units=256, activation=\\\"relu\\\"))\\nmodel_2.add(tf.keras.layers.Dense(units=1))\\nmodel_2.compile(\\n    optimizer=tf.keras.optimizers.Adam(learning_rate=1e-3),\\n    loss=\\\"mse\\\",\\n    metrics=[tf.keras.metrics.RootMeanSquaredError(name=\\\"RMSE\\\")],\\n)\";\n",
       "                var nbb_cells = Jupyter.notebook.get_cells();\n",
       "                for (var i = 0; i < nbb_cells.length; ++i) {\n",
       "                    if (nbb_cells[i].input_prompt_number == nbb_cell_id) {\n",
       "                        if (nbb_cells[i].get_text() == nbb_unformatted_code) {\n",
       "                             nbb_cells[i].set_text(nbb_formatted_code);\n",
       "                        }\n",
       "                        break;\n",
       "                    }\n",
       "                }\n",
       "            }, 500);\n",
       "            "
      ],
      "text/plain": [
       "<IPython.core.display.Javascript object>"
      ]
     },
     "metadata": {},
     "output_type": "display_data"
    }
   ],
   "source": [
    "set_seeds()\n",
    "model_2 = tf.keras.Sequential()\n",
    "model_2.add(tf.keras.layers.Dense(units=256, activation=\"relu\"))\n",
    "trained_layers[1].trainable = True\n",
    "model_2.add(trained_layers[1])\n",
    "trained_layers[2].trainable = True\n",
    "model_2.add(trained_layers[2])\n",
    "trained_layers[3].trainable = True\n",
    "model_2.add(trained_layers[3])\n",
    "trained_layers[4].trainable = True\n",
    "model_2.add(trained_layers[4])\n",
    "\n",
    "model_2.add(tf.keras.layers.Dense(units=256, activation=\"relu\"))\n",
    "model_2.add(tf.keras.layers.Dense(units=256, activation=\"relu\"))\n",
    "model_2.add(tf.keras.layers.Dense(units=1))\n",
    "model_2.compile(\n",
    "    optimizer=tf.keras.optimizers.Adam(learning_rate=1e-3),\n",
    "    loss=\"mse\",\n",
    "    metrics=[tf.keras.metrics.RootMeanSquaredError(name=\"RMSE\")],\n",
    ")"
   ]
  },
  {
   "cell_type": "code",
   "execution_count": 60,
   "metadata": {},
   "outputs": [
    {
     "data": {
      "application/javascript": [
       "\n",
       "            setTimeout(function() {\n",
       "                var nbb_cell_id = 60;\n",
       "                var nbb_unformatted_code = \"sc = StandardScaler()\\nhistory = model_2.fit(\\n    sc.fit_transform(x_train),\\n    y_train,\\n    batch_size=batch_size,\\n    epochs=epochs,\\n    verbose=verbose,\\n)\";\n",
       "                var nbb_formatted_code = \"sc = StandardScaler()\\nhistory = model_2.fit(\\n    sc.fit_transform(x_train),\\n    y_train,\\n    batch_size=batch_size,\\n    epochs=epochs,\\n    verbose=verbose,\\n)\";\n",
       "                var nbb_cells = Jupyter.notebook.get_cells();\n",
       "                for (var i = 0; i < nbb_cells.length; ++i) {\n",
       "                    if (nbb_cells[i].input_prompt_number == nbb_cell_id) {\n",
       "                        if (nbb_cells[i].get_text() == nbb_unformatted_code) {\n",
       "                             nbb_cells[i].set_text(nbb_formatted_code);\n",
       "                        }\n",
       "                        break;\n",
       "                    }\n",
       "                }\n",
       "            }, 500);\n",
       "            "
      ],
      "text/plain": [
       "<IPython.core.display.Javascript object>"
      ]
     },
     "metadata": {},
     "output_type": "display_data"
    }
   ],
   "source": [
    "sc = StandardScaler()\n",
    "history = model_2.fit(\n",
    "    sc.fit_transform(x_train),\n",
    "    y_train,\n",
    "    batch_size=batch_size,\n",
    "    epochs=epochs,\n",
    "    verbose=verbose,\n",
    ")"
   ]
  },
  {
   "cell_type": "code",
   "execution_count": 61,
   "metadata": {},
   "outputs": [
    {
     "data": {
      "text/plain": [
       "(247, 1)"
      ]
     },
     "execution_count": 61,
     "metadata": {},
     "output_type": "execute_result"
    },
    {
     "data": {
      "application/javascript": [
       "\n",
       "            setTimeout(function() {\n",
       "                var nbb_cell_id = 61;\n",
       "                var nbb_unformatted_code = \"y_test_pred.shape\";\n",
       "                var nbb_formatted_code = \"y_test_pred.shape\";\n",
       "                var nbb_cells = Jupyter.notebook.get_cells();\n",
       "                for (var i = 0; i < nbb_cells.length; ++i) {\n",
       "                    if (nbb_cells[i].input_prompt_number == nbb_cell_id) {\n",
       "                        if (nbb_cells[i].get_text() == nbb_unformatted_code) {\n",
       "                             nbb_cells[i].set_text(nbb_formatted_code);\n",
       "                        }\n",
       "                        break;\n",
       "                    }\n",
       "                }\n",
       "            }, 500);\n",
       "            "
      ],
      "text/plain": [
       "<IPython.core.display.Javascript object>"
      ]
     },
     "metadata": {},
     "output_type": "display_data"
    }
   ],
   "source": [
    "y_test_pred.shape"
   ]
  },
  {
   "cell_type": "code",
   "execution_count": 62,
   "metadata": {},
   "outputs": [
    {
     "name": "stdout",
     "output_type": "stream",
     "text": [
      "******\n",
      "[TRAIN]\n",
      "******\n",
      "RMSE: 2.446 (0.000)\n",
      "MAE: 1.829 (0.000)\n",
      "MAPE: 0.041 (0.000)\n",
      "R2: 0.855 (0.000)\n",
      "\n",
      "======================\n",
      "\n",
      "******\n",
      "[TEST]\n",
      "******\n",
      "RMSE: 4.394 (0.000)\n",
      "MAE: 3.636 (0.000)\n",
      "MAPE: 0.067 (0.000)\n",
      "R2: 0.430 (0.000)\n",
      "\n",
      "======================\n",
      "\n"
     ]
    },
    {
     "data": {
      "application/javascript": [
       "\n",
       "            setTimeout(function() {\n",
       "                var nbb_cell_id = 62;\n",
       "                var nbb_unformatted_code = \"y_train_pred = model_2.predict(sc.transform(x_train))\\ny_test_pred = model_2.predict(sc.transform(x_test))\\n\\nscores = score_regression_metrics(y_train, y_train_pred, y_test, y_test_pred)\\nprint_scores(scores, METRICS, METRICS_DICT)\";\n",
       "                var nbb_formatted_code = \"y_train_pred = model_2.predict(sc.transform(x_train))\\ny_test_pred = model_2.predict(sc.transform(x_test))\\n\\nscores = score_regression_metrics(y_train, y_train_pred, y_test, y_test_pred)\\nprint_scores(scores, METRICS, METRICS_DICT)\";\n",
       "                var nbb_cells = Jupyter.notebook.get_cells();\n",
       "                for (var i = 0; i < nbb_cells.length; ++i) {\n",
       "                    if (nbb_cells[i].input_prompt_number == nbb_cell_id) {\n",
       "                        if (nbb_cells[i].get_text() == nbb_unformatted_code) {\n",
       "                             nbb_cells[i].set_text(nbb_formatted_code);\n",
       "                        }\n",
       "                        break;\n",
       "                    }\n",
       "                }\n",
       "            }, 500);\n",
       "            "
      ],
      "text/plain": [
       "<IPython.core.display.Javascript object>"
      ]
     },
     "metadata": {},
     "output_type": "display_data"
    }
   ],
   "source": [
    "y_train_pred = model_2.predict(sc.transform(x_train))\n",
    "y_test_pred = model_2.predict(sc.transform(x_test))\n",
    "\n",
    "scores = score_regression_metrics(y_train, y_train_pred, y_test, y_test_pred)\n",
    "print_scores(scores, METRICS, METRICS_DICT)"
   ]
  },
  {
   "cell_type": "markdown",
   "metadata": {},
   "source": [
    "# Experiments with same variables"
   ]
  },
  {
   "cell_type": "code",
   "execution_count": 63,
   "metadata": {},
   "outputs": [
    {
     "data": {
      "application/javascript": [
       "\n",
       "            setTimeout(function() {\n",
       "                var nbb_cell_id = 63;\n",
       "                var nbb_unformatted_code = \"def get_model(shape, include_top=True):\\n    inputs = tf.keras.Input(shape=shape)\\n    x = tf.keras.layers.Dense(units=256, activation=\\\"relu\\\")(inputs)\\n    x = tf.keras.layers.Dense(units=128, activation=\\\"relu\\\")(x)\\n    x = tf.keras.layers.Dense(units=64, activation=\\\"relu\\\")(x)\\n    x = tf.keras.layers.Dense(units=32, activation=\\\"relu\\\")(x)\\n    x = tf.keras.layers.Dense(units=16, activation=\\\"relu\\\")(x)\\n    if include_top:\\n        x = tf.keras.layers.Dropout(0.1)(x)\\n        outputs = tf.keras.layers.Dense(units=1)(x)\\n        model = tf.keras.Model(inputs, outputs)\\n        model.compile(\\n            optimizer=tf.keras.optimizers.Adam(learning_rate=1e-3),\\n            loss=\\\"mse\\\",\\n            metrics=[tf.keras.metrics.RootMeanSquaredError(name=\\\"RMSE\\\")],\\n        )\\n    else:\\n        model = tf.keras.Model(inputs, x)\\n    return model\";\n",
       "                var nbb_formatted_code = \"def get_model(shape, include_top=True):\\n    inputs = tf.keras.Input(shape=shape)\\n    x = tf.keras.layers.Dense(units=256, activation=\\\"relu\\\")(inputs)\\n    x = tf.keras.layers.Dense(units=128, activation=\\\"relu\\\")(x)\\n    x = tf.keras.layers.Dense(units=64, activation=\\\"relu\\\")(x)\\n    x = tf.keras.layers.Dense(units=32, activation=\\\"relu\\\")(x)\\n    x = tf.keras.layers.Dense(units=16, activation=\\\"relu\\\")(x)\\n    if include_top:\\n        x = tf.keras.layers.Dropout(0.1)(x)\\n        outputs = tf.keras.layers.Dense(units=1)(x)\\n        model = tf.keras.Model(inputs, outputs)\\n        model.compile(\\n            optimizer=tf.keras.optimizers.Adam(learning_rate=1e-3),\\n            loss=\\\"mse\\\",\\n            metrics=[tf.keras.metrics.RootMeanSquaredError(name=\\\"RMSE\\\")],\\n        )\\n    else:\\n        model = tf.keras.Model(inputs, x)\\n    return model\";\n",
       "                var nbb_cells = Jupyter.notebook.get_cells();\n",
       "                for (var i = 0; i < nbb_cells.length; ++i) {\n",
       "                    if (nbb_cells[i].input_prompt_number == nbb_cell_id) {\n",
       "                        if (nbb_cells[i].get_text() == nbb_unformatted_code) {\n",
       "                             nbb_cells[i].set_text(nbb_formatted_code);\n",
       "                        }\n",
       "                        break;\n",
       "                    }\n",
       "                }\n",
       "            }, 500);\n",
       "            "
      ],
      "text/plain": [
       "<IPython.core.display.Javascript object>"
      ]
     },
     "metadata": {},
     "output_type": "display_data"
    }
   ],
   "source": [
    "def get_model(shape, include_top=True):\n",
    "    inputs = tf.keras.Input(shape=shape)\n",
    "    x = tf.keras.layers.Dense(units=256, activation=\"relu\")(inputs)\n",
    "    x = tf.keras.layers.Dense(units=128, activation=\"relu\")(x)\n",
    "    x = tf.keras.layers.Dense(units=64, activation=\"relu\")(x)\n",
    "    x = tf.keras.layers.Dense(units=32, activation=\"relu\")(x)\n",
    "    x = tf.keras.layers.Dense(units=16, activation=\"relu\")(x)\n",
    "    if include_top:\n",
    "        x = tf.keras.layers.Dropout(0.1)(x)\n",
    "        outputs = tf.keras.layers.Dense(units=1)(x)\n",
    "        model = tf.keras.Model(inputs, outputs)\n",
    "        model.compile(\n",
    "            optimizer=tf.keras.optimizers.Adam(learning_rate=1e-3),\n",
    "            loss=\"mse\",\n",
    "            metrics=[tf.keras.metrics.RootMeanSquaredError(name=\"RMSE\")],\n",
    "        )\n",
    "    else:\n",
    "        model = tf.keras.Model(inputs, x)\n",
    "    return model"
   ]
  },
  {
   "cell_type": "markdown",
   "metadata": {},
   "source": [
    "# Pre Trainning"
   ]
  },
  {
   "cell_type": "markdown",
   "metadata": {},
   "source": [
    "# partner_i"
   ]
  },
  {
   "cell_type": "code",
   "execution_count": 64,
   "metadata": {},
   "outputs": [
    {
     "data": {
      "application/javascript": [
       "\n",
       "            setTimeout(function() {\n",
       "                var nbb_cell_id = 64;\n",
       "                var nbb_unformatted_code = \"batch_size = 32\\nepochs = 200\\nverbose = 0\";\n",
       "                var nbb_formatted_code = \"batch_size = 32\\nepochs = 200\\nverbose = 0\";\n",
       "                var nbb_cells = Jupyter.notebook.get_cells();\n",
       "                for (var i = 0; i < nbb_cells.length; ++i) {\n",
       "                    if (nbb_cells[i].input_prompt_number == nbb_cell_id) {\n",
       "                        if (nbb_cells[i].get_text() == nbb_unformatted_code) {\n",
       "                             nbb_cells[i].set_text(nbb_formatted_code);\n",
       "                        }\n",
       "                        break;\n",
       "                    }\n",
       "                }\n",
       "            }, 500);\n",
       "            "
      ],
      "text/plain": [
       "<IPython.core.display.Javascript object>"
      ]
     },
     "metadata": {},
     "output_type": "display_data"
    }
   ],
   "source": [
    "batch_size = 32\n",
    "epochs = 200\n",
    "verbose = 0"
   ]
  },
  {
   "cell_type": "code",
   "execution_count": 65,
   "metadata": {},
   "outputs": [
    {
     "data": {
      "application/javascript": [
       "\n",
       "            setTimeout(function() {\n",
       "                var nbb_cell_id = 65;\n",
       "                var nbb_unformatted_code = \"COMMON_FEATURES = [\\\"mgo\\\", \\\"al2o3\\\", \\\"sio2\\\", \\\"so3\\\", \\\"k2o\\\", \\\"fe2o3\\\"]\";\n",
       "                var nbb_formatted_code = \"COMMON_FEATURES = [\\\"mgo\\\", \\\"al2o3\\\", \\\"sio2\\\", \\\"so3\\\", \\\"k2o\\\", \\\"fe2o3\\\"]\";\n",
       "                var nbb_cells = Jupyter.notebook.get_cells();\n",
       "                for (var i = 0; i < nbb_cells.length; ++i) {\n",
       "                    if (nbb_cells[i].input_prompt_number == nbb_cell_id) {\n",
       "                        if (nbb_cells[i].get_text() == nbb_unformatted_code) {\n",
       "                             nbb_cells[i].set_text(nbb_formatted_code);\n",
       "                        }\n",
       "                        break;\n",
       "                    }\n",
       "                }\n",
       "            }, 500);\n",
       "            "
      ],
      "text/plain": [
       "<IPython.core.display.Javascript object>"
      ]
     },
     "metadata": {},
     "output_type": "display_data"
    }
   ],
   "source": [
    "COMMON_FEATURES = [\"mgo\", \"al2o3\", \"sio2\", \"so3\", \"k2o\", \"fe2o3\"]"
   ]
  },
  {
   "cell_type": "code",
   "execution_count": 66,
   "metadata": {},
   "outputs": [
    {
     "data": {
      "application/javascript": [
       "\n",
       "            setTimeout(function() {\n",
       "                var nbb_cell_id = 66;\n",
       "                var nbb_unformatted_code = \"df_partner_i = pd.read_csv(\\n    \\\"../../../data/processed/partner_i-Oficial/cement-shipping.csv\\\"\\n)\";\n",
       "                var nbb_formatted_code = \"df_partner_i = pd.read_csv(\\n    \\\"../../../data/processed/partner_i-Oficial/cement-shipping.csv\\\"\\n)\";\n",
       "                var nbb_cells = Jupyter.notebook.get_cells();\n",
       "                for (var i = 0; i < nbb_cells.length; ++i) {\n",
       "                    if (nbb_cells[i].input_prompt_number == nbb_cell_id) {\n",
       "                        if (nbb_cells[i].get_text() == nbb_unformatted_code) {\n",
       "                             nbb_cells[i].set_text(nbb_formatted_code);\n",
       "                        }\n",
       "                        break;\n",
       "                    }\n",
       "                }\n",
       "            }, 500);\n",
       "            "
      ],
      "text/plain": [
       "<IPython.core.display.Javascript object>"
      ]
     },
     "metadata": {},
     "output_type": "display_data"
    }
   ],
   "source": [
    "df_partner_i = pd.read_csv(\n",
    "    \"../../../data/processed/partner_i-Oficial/cement-shipping.csv\"\n",
    ")"
   ]
  },
  {
   "cell_type": "code",
   "execution_count": 67,
   "metadata": {},
   "outputs": [
    {
     "data": {
      "application/javascript": [
       "\n",
       "            setTimeout(function() {\n",
       "                var nbb_cell_id = 67;\n",
       "                var nbb_unformatted_code = \"df_partner_i = df_partner_i.drop(\\n    [\\n        \\\"1 day Compressive strength\\\",\\n        \\\"3 day Compressive strength\\\",\\n        \\\"7 day Compressive strength\\\",\\n    ],\\n    axis=1,\\n).copy()\\n\\ny = df_partner_i.pop(\\\"28 day Compressive strength\\\")\\nx = df_partner_i.drop([\\\"Date\\\"], axis=1)\\nx.columns = x.columns.str.lower()\\nx = x[COMMON_FEATURES]\\n\\nx_train, x_test, y_train, y_test = train_test_split(\\n    x, y, test_size=0.2, random_state=SEED, shuffle=False\\n)\";\n",
       "                var nbb_formatted_code = \"df_partner_i = df_partner_i.drop(\\n    [\\n        \\\"1 day Compressive strength\\\",\\n        \\\"3 day Compressive strength\\\",\\n        \\\"7 day Compressive strength\\\",\\n    ],\\n    axis=1,\\n).copy()\\n\\ny = df_partner_i.pop(\\\"28 day Compressive strength\\\")\\nx = df_partner_i.drop([\\\"Date\\\"], axis=1)\\nx.columns = x.columns.str.lower()\\nx = x[COMMON_FEATURES]\\n\\nx_train, x_test, y_train, y_test = train_test_split(\\n    x, y, test_size=0.2, random_state=SEED, shuffle=False\\n)\";\n",
       "                var nbb_cells = Jupyter.notebook.get_cells();\n",
       "                for (var i = 0; i < nbb_cells.length; ++i) {\n",
       "                    if (nbb_cells[i].input_prompt_number == nbb_cell_id) {\n",
       "                        if (nbb_cells[i].get_text() == nbb_unformatted_code) {\n",
       "                             nbb_cells[i].set_text(nbb_formatted_code);\n",
       "                        }\n",
       "                        break;\n",
       "                    }\n",
       "                }\n",
       "            }, 500);\n",
       "            "
      ],
      "text/plain": [
       "<IPython.core.display.Javascript object>"
      ]
     },
     "metadata": {},
     "output_type": "display_data"
    }
   ],
   "source": [
    "df_partner_i = df_partner_i.drop(\n",
    "    [\n",
    "        \"1 day Compressive strength\",\n",
    "        \"3 day Compressive strength\",\n",
    "        \"7 day Compressive strength\",\n",
    "    ],\n",
    "    axis=1,\n",
    ").copy()\n",
    "\n",
    "y = df_partner_i.pop(\"28 day Compressive strength\")\n",
    "x = df_partner_i.drop([\"Date\"], axis=1)\n",
    "x.columns = x.columns.str.lower()\n",
    "x = x[COMMON_FEATURES]\n",
    "\n",
    "x_train, x_test, y_train, y_test = train_test_split(\n",
    "    x, y, test_size=0.2, random_state=SEED, shuffle=False\n",
    ")"
   ]
  },
  {
   "cell_type": "code",
   "execution_count": 68,
   "metadata": {},
   "outputs": [
    {
     "data": {
      "application/javascript": [
       "\n",
       "            setTimeout(function() {\n",
       "                var nbb_cell_id = 68;\n",
       "                var nbb_unformatted_code = \"set_seeds()\\n\\nmodel = get_model(shape=(x_train.shape[-1]))\\nsc = StandardScaler()\\n\\nhistory = model.fit(\\n    sc.fit_transform(x_train),\\n    y_train,\\n    batch_size=batch_size,\\n    epochs=epochs,\\n    verbose=verbose,\\n)\";\n",
       "                var nbb_formatted_code = \"set_seeds()\\n\\nmodel = get_model(shape=(x_train.shape[-1]))\\nsc = StandardScaler()\\n\\nhistory = model.fit(\\n    sc.fit_transform(x_train),\\n    y_train,\\n    batch_size=batch_size,\\n    epochs=epochs,\\n    verbose=verbose,\\n)\";\n",
       "                var nbb_cells = Jupyter.notebook.get_cells();\n",
       "                for (var i = 0; i < nbb_cells.length; ++i) {\n",
       "                    if (nbb_cells[i].input_prompt_number == nbb_cell_id) {\n",
       "                        if (nbb_cells[i].get_text() == nbb_unformatted_code) {\n",
       "                             nbb_cells[i].set_text(nbb_formatted_code);\n",
       "                        }\n",
       "                        break;\n",
       "                    }\n",
       "                }\n",
       "            }, 500);\n",
       "            "
      ],
      "text/plain": [
       "<IPython.core.display.Javascript object>"
      ]
     },
     "metadata": {},
     "output_type": "display_data"
    }
   ],
   "source": [
    "set_seeds()\n",
    "\n",
    "model = get_model(shape=(x_train.shape[-1]))\n",
    "sc = StandardScaler()\n",
    "\n",
    "history = model.fit(\n",
    "    sc.fit_transform(x_train),\n",
    "    y_train,\n",
    "    batch_size=batch_size,\n",
    "    epochs=epochs,\n",
    "    verbose=verbose,\n",
    ")"
   ]
  },
  {
   "cell_type": "code",
   "execution_count": 69,
   "metadata": {},
   "outputs": [
    {
     "data": {
      "application/javascript": [
       "\n",
       "            setTimeout(function() {\n",
       "                var nbb_cell_id = 69;\n",
       "                var nbb_unformatted_code = \"model.save_weights(\\\"conv1d_weights.h5\\\")\";\n",
       "                var nbb_formatted_code = \"model.save_weights(\\\"conv1d_weights.h5\\\")\";\n",
       "                var nbb_cells = Jupyter.notebook.get_cells();\n",
       "                for (var i = 0; i < nbb_cells.length; ++i) {\n",
       "                    if (nbb_cells[i].input_prompt_number == nbb_cell_id) {\n",
       "                        if (nbb_cells[i].get_text() == nbb_unformatted_code) {\n",
       "                             nbb_cells[i].set_text(nbb_formatted_code);\n",
       "                        }\n",
       "                        break;\n",
       "                    }\n",
       "                }\n",
       "            }, 500);\n",
       "            "
      ],
      "text/plain": [
       "<IPython.core.display.Javascript object>"
      ]
     },
     "metadata": {},
     "output_type": "display_data"
    }
   ],
   "source": [
    "model.save_weights(\"conv1d_weights.h5\")"
   ]
  },
  {
   "cell_type": "markdown",
   "metadata": {},
   "source": [
    "# Fine Tuning"
   ]
  },
  {
   "cell_type": "markdown",
   "metadata": {},
   "source": [
    "# partner_iii"
   ]
  },
  {
   "cell_type": "code",
   "execution_count": 70,
   "metadata": {},
   "outputs": [
    {
     "data": {
      "application/javascript": [
       "\n",
       "            setTimeout(function() {\n",
       "                var nbb_cell_id = 70;\n",
       "                var nbb_unformatted_code = \"df_partner_iii = pd.read_csv(\\n    \\\"../../../data/interim/partner_iii/Dati CADD 2020-2022_with_fillna.csv\\\"\\n)\";\n",
       "                var nbb_formatted_code = \"df_partner_iii = pd.read_csv(\\n    \\\"../../../data/interim/partner_iii/Dati CADD 2020-2022_with_fillna.csv\\\"\\n)\";\n",
       "                var nbb_cells = Jupyter.notebook.get_cells();\n",
       "                for (var i = 0; i < nbb_cells.length; ++i) {\n",
       "                    if (nbb_cells[i].input_prompt_number == nbb_cell_id) {\n",
       "                        if (nbb_cells[i].get_text() == nbb_unformatted_code) {\n",
       "                             nbb_cells[i].set_text(nbb_formatted_code);\n",
       "                        }\n",
       "                        break;\n",
       "                    }\n",
       "                }\n",
       "            }, 500);\n",
       "            "
      ],
      "text/plain": [
       "<IPython.core.display.Javascript object>"
      ]
     },
     "metadata": {},
     "output_type": "display_data"
    }
   ],
   "source": [
    "df_partner_iii = pd.read_csv(\n",
    "    \"../../../data/interim/partner_iii/Dati CADD 2020-2022_with_fillna.csv\"\n",
    ")"
   ]
  },
  {
   "cell_type": "code",
   "execution_count": 71,
   "metadata": {},
   "outputs": [
    {
     "data": {
      "application/javascript": [
       "\n",
       "            setTimeout(function() {\n",
       "                var nbb_cell_id = 71;\n",
       "                var nbb_unformatted_code = \"y = df_partner_iii.pop(\\\"28d compressive strength (MPa)\\\")\\nx = df_partner_iii\\n\\nx_train, x_test, y_train, y_test = train_test_split(\\n    x, y, test_size=0.1, random_state=SEED, shuffle=False\\n)\";\n",
       "                var nbb_formatted_code = \"y = df_partner_iii.pop(\\\"28d compressive strength (MPa)\\\")\\nx = df_partner_iii\\n\\nx_train, x_test, y_train, y_test = train_test_split(\\n    x, y, test_size=0.1, random_state=SEED, shuffle=False\\n)\";\n",
       "                var nbb_cells = Jupyter.notebook.get_cells();\n",
       "                for (var i = 0; i < nbb_cells.length; ++i) {\n",
       "                    if (nbb_cells[i].input_prompt_number == nbb_cell_id) {\n",
       "                        if (nbb_cells[i].get_text() == nbb_unformatted_code) {\n",
       "                             nbb_cells[i].set_text(nbb_formatted_code);\n",
       "                        }\n",
       "                        break;\n",
       "                    }\n",
       "                }\n",
       "            }, 500);\n",
       "            "
      ],
      "text/plain": [
       "<IPython.core.display.Javascript object>"
      ]
     },
     "metadata": {},
     "output_type": "display_data"
    }
   ],
   "source": [
    "y = df_partner_iii.pop(\"28d compressive strength (MPa)\")\n",
    "x = df_partner_iii\n",
    "\n",
    "x_train, x_test, y_train, y_test = train_test_split(\n",
    "    x, y, test_size=0.1, random_state=SEED, shuffle=False\n",
    ")"
   ]
  },
  {
   "cell_type": "code",
   "execution_count": 72,
   "metadata": {},
   "outputs": [
    {
     "data": {
      "application/javascript": [
       "\n",
       "            setTimeout(function() {\n",
       "                var nbb_cell_id = 72;\n",
       "                var nbb_unformatted_code = \"set_seeds()\\n\\nmodel_2 = get_model(include_top=False, shape=(x.shape[-1]))\\nmodel_2.load_weights(\\\"conv1d_weights.h5\\\", by_name=True)\\nmodel_2.trainable = True\\n\\nflat1 = tf.keras.layers.Flatten(name=\\\"Flatten2\\\")(model_2.layers[-1].output)\\nclass1 = tf.keras.layers.Dense(256, activation=\\\"relu\\\")(flat1)\\noutputs = tf.keras.layers.Dense(1, activation=\\\"linear\\\")(class1)\\nmodel = tf.keras.Model(model_2.inputs, outputs)\\n\\nmodel.compile(\\n    optimizer=tf.keras.optimizers.Adam(learning_rate=1e-3),\\n    loss=\\\"mse\\\",\\n    metrics=[tf.keras.metrics.RootMeanSquaredError(name=\\\"RMSE\\\")],\\n)\";\n",
       "                var nbb_formatted_code = \"set_seeds()\\n\\nmodel_2 = get_model(include_top=False, shape=(x.shape[-1]))\\nmodel_2.load_weights(\\\"conv1d_weights.h5\\\", by_name=True)\\nmodel_2.trainable = True\\n\\nflat1 = tf.keras.layers.Flatten(name=\\\"Flatten2\\\")(model_2.layers[-1].output)\\nclass1 = tf.keras.layers.Dense(256, activation=\\\"relu\\\")(flat1)\\noutputs = tf.keras.layers.Dense(1, activation=\\\"linear\\\")(class1)\\nmodel = tf.keras.Model(model_2.inputs, outputs)\\n\\nmodel.compile(\\n    optimizer=tf.keras.optimizers.Adam(learning_rate=1e-3),\\n    loss=\\\"mse\\\",\\n    metrics=[tf.keras.metrics.RootMeanSquaredError(name=\\\"RMSE\\\")],\\n)\";\n",
       "                var nbb_cells = Jupyter.notebook.get_cells();\n",
       "                for (var i = 0; i < nbb_cells.length; ++i) {\n",
       "                    if (nbb_cells[i].input_prompt_number == nbb_cell_id) {\n",
       "                        if (nbb_cells[i].get_text() == nbb_unformatted_code) {\n",
       "                             nbb_cells[i].set_text(nbb_formatted_code);\n",
       "                        }\n",
       "                        break;\n",
       "                    }\n",
       "                }\n",
       "            }, 500);\n",
       "            "
      ],
      "text/plain": [
       "<IPython.core.display.Javascript object>"
      ]
     },
     "metadata": {},
     "output_type": "display_data"
    }
   ],
   "source": [
    "set_seeds()\n",
    "\n",
    "model_2 = get_model(include_top=False, shape=(x.shape[-1]))\n",
    "model_2.load_weights(\"conv1d_weights.h5\", by_name=True)\n",
    "model_2.trainable = True\n",
    "\n",
    "flat1 = tf.keras.layers.Flatten(name=\"Flatten2\")(model_2.layers[-1].output)\n",
    "class1 = tf.keras.layers.Dense(256, activation=\"relu\")(flat1)\n",
    "outputs = tf.keras.layers.Dense(1, activation=\"linear\")(class1)\n",
    "model = tf.keras.Model(model_2.inputs, outputs)\n",
    "\n",
    "model.compile(\n",
    "    optimizer=tf.keras.optimizers.Adam(learning_rate=1e-3),\n",
    "    loss=\"mse\",\n",
    "    metrics=[tf.keras.metrics.RootMeanSquaredError(name=\"RMSE\")],\n",
    ")"
   ]
  },
  {
   "cell_type": "code",
   "execution_count": 73,
   "metadata": {},
   "outputs": [
    {
     "data": {
      "application/javascript": [
       "\n",
       "            setTimeout(function() {\n",
       "                var nbb_cell_id = 73;\n",
       "                var nbb_unformatted_code = \"sc = StandardScaler()\\nhistory = model.fit(\\n    sc.fit_transform(x_train),\\n    y_train,\\n    batch_size=batch_size,\\n    epochs=epochs,\\n    verbose=verbose,\\n)\";\n",
       "                var nbb_formatted_code = \"sc = StandardScaler()\\nhistory = model.fit(\\n    sc.fit_transform(x_train),\\n    y_train,\\n    batch_size=batch_size,\\n    epochs=epochs,\\n    verbose=verbose,\\n)\";\n",
       "                var nbb_cells = Jupyter.notebook.get_cells();\n",
       "                for (var i = 0; i < nbb_cells.length; ++i) {\n",
       "                    if (nbb_cells[i].input_prompt_number == nbb_cell_id) {\n",
       "                        if (nbb_cells[i].get_text() == nbb_unformatted_code) {\n",
       "                             nbb_cells[i].set_text(nbb_formatted_code);\n",
       "                        }\n",
       "                        break;\n",
       "                    }\n",
       "                }\n",
       "            }, 500);\n",
       "            "
      ],
      "text/plain": [
       "<IPython.core.display.Javascript object>"
      ]
     },
     "metadata": {},
     "output_type": "display_data"
    }
   ],
   "source": [
    "sc = StandardScaler()\n",
    "history = model.fit(\n",
    "    sc.fit_transform(x_train),\n",
    "    y_train,\n",
    "    batch_size=batch_size,\n",
    "    epochs=epochs,\n",
    "    verbose=verbose,\n",
    ")"
   ]
  },
  {
   "cell_type": "code",
   "execution_count": 74,
   "metadata": {},
   "outputs": [
    {
     "data": {
      "text/plain": [
       "[<matplotlib.lines.Line2D at 0x7f5d70365438>]"
      ]
     },
     "execution_count": 74,
     "metadata": {},
     "output_type": "execute_result"
    },
    {
     "data": {
      "image/png": "[encoded data removed]",
      "text/plain": [
       "<Figure size 432x288 with 1 Axes>"
      ]
     },
     "metadata": {
      "needs_background": "light"
     },
     "output_type": "display_data"
    },
    {
     "data": {
      "application/javascript": [
       "\n",
       "            setTimeout(function() {\n",
       "                var nbb_cell_id = 74;\n",
       "                var nbb_unformatted_code = \"plt.plot(history.history[\\\"RMSE\\\"])\";\n",
       "                var nbb_formatted_code = \"plt.plot(history.history[\\\"RMSE\\\"])\";\n",
       "                var nbb_cells = Jupyter.notebook.get_cells();\n",
       "                for (var i = 0; i < nbb_cells.length; ++i) {\n",
       "                    if (nbb_cells[i].input_prompt_number == nbb_cell_id) {\n",
       "                        if (nbb_cells[i].get_text() == nbb_unformatted_code) {\n",
       "                             nbb_cells[i].set_text(nbb_formatted_code);\n",
       "                        }\n",
       "                        break;\n",
       "                    }\n",
       "                }\n",
       "            }, 500);\n",
       "            "
      ],
      "text/plain": [
       "<IPython.core.display.Javascript object>"
      ]
     },
     "metadata": {},
     "output_type": "display_data"
    }
   ],
   "source": [
    "plt.plot(history.history[\"RMSE\"])"
   ]
  },
  {
   "cell_type": "code",
   "execution_count": 75,
   "metadata": {},
   "outputs": [
    {
     "name": "stdout",
     "output_type": "stream",
     "text": [
      "******\n",
      "[TRAIN]\n",
      "******\n",
      "RMSE: 4.778 (0.000)\n",
      "MAE: 3.826 (0.000)\n",
      "MAPE: 0.072 (0.000)\n",
      "R2: 0.569 (0.000)\n",
      "\n",
      "======================\n",
      "\n",
      "******\n",
      "[TEST]\n",
      "******\n",
      "RMSE: 3.459 (0.000)\n",
      "MAE: 2.663 (0.000)\n",
      "MAPE: 0.051 (0.000)\n",
      "R2: 0.181 (0.000)\n",
      "\n",
      "======================\n",
      "\n"
     ]
    },
    {
     "data": {
      "application/javascript": [
       "\n",
       "            setTimeout(function() {\n",
       "                var nbb_cell_id = 75;\n",
       "                var nbb_unformatted_code = \"y_train_pred = model.predict(sc.transform(x_train))\\ny_test_pred = model.predict(sc.transform(x_test))\\n\\nscores = score_regression_metrics(y_train, y_train_pred, y_test, y_test_pred)\\nprint_scores(scores, METRICS, METRICS_DICT)\";\n",
       "                var nbb_formatted_code = \"y_train_pred = model.predict(sc.transform(x_train))\\ny_test_pred = model.predict(sc.transform(x_test))\\n\\nscores = score_regression_metrics(y_train, y_train_pred, y_test, y_test_pred)\\nprint_scores(scores, METRICS, METRICS_DICT)\";\n",
       "                var nbb_cells = Jupyter.notebook.get_cells();\n",
       "                for (var i = 0; i < nbb_cells.length; ++i) {\n",
       "                    if (nbb_cells[i].input_prompt_number == nbb_cell_id) {\n",
       "                        if (nbb_cells[i].get_text() == nbb_unformatted_code) {\n",
       "                             nbb_cells[i].set_text(nbb_formatted_code);\n",
       "                        }\n",
       "                        break;\n",
       "                    }\n",
       "                }\n",
       "            }, 500);\n",
       "            "
      ],
      "text/plain": [
       "<IPython.core.display.Javascript object>"
      ]
     },
     "metadata": {},
     "output_type": "display_data"
    }
   ],
   "source": [
    "y_train_pred = model.predict(sc.transform(x_train))\n",
    "y_test_pred = model.predict(sc.transform(x_test))\n",
    "\n",
    "scores = score_regression_metrics(y_train, y_train_pred, y_test, y_test_pred)\n",
    "print_scores(scores, METRICS, METRICS_DICT)"
   ]
  },
  {
   "cell_type": "markdown",
   "metadata": {},
   "source": [
    "# Intercement"
   ]
  },
  {
   "cell_type": "code",
   "execution_count": 76,
   "metadata": {},
   "outputs": [
    {
     "data": {
      "application/javascript": [
       "\n",
       "            setTimeout(function() {\n",
       "                var nbb_cell_id = 76;\n",
       "                var nbb_unformatted_code = \"df = pd.read_csv(\\\"../../../data/processed/Intercement/cement-shipping.csv\\\")\\ndf_no_cs = df.drop(\\n    [\\n        \\\"RC1\\\",\\n        \\\"RC3\\\",\\n        \\\"RC7\\\",\\n    ],\\n    axis=1,\\n).copy()\\n\\ny = df_no_cs.pop(\\\"RC28\\\")\\nx = df_no_cs.drop([\\\"Data\\\"], axis=1)\\nx.columns = x.columns.str.lower()\\nx = x[COMMON_FEATURES]\\n\\nx_train, x_test, y_train, y_test = train_test_split(\\n    x, y, test_size=0.2, random_state=SEED, shuffle=False\\n)\";\n",
       "                var nbb_formatted_code = \"df = pd.read_csv(\\\"../../../data/processed/Intercement/cement-shipping.csv\\\")\\ndf_no_cs = df.drop(\\n    [\\n        \\\"RC1\\\",\\n        \\\"RC3\\\",\\n        \\\"RC7\\\",\\n    ],\\n    axis=1,\\n).copy()\\n\\ny = df_no_cs.pop(\\\"RC28\\\")\\nx = df_no_cs.drop([\\\"Data\\\"], axis=1)\\nx.columns = x.columns.str.lower()\\nx = x[COMMON_FEATURES]\\n\\nx_train, x_test, y_train, y_test = train_test_split(\\n    x, y, test_size=0.2, random_state=SEED, shuffle=False\\n)\";\n",
       "                var nbb_cells = Jupyter.notebook.get_cells();\n",
       "                for (var i = 0; i < nbb_cells.length; ++i) {\n",
       "                    if (nbb_cells[i].input_prompt_number == nbb_cell_id) {\n",
       "                        if (nbb_cells[i].get_text() == nbb_unformatted_code) {\n",
       "                             nbb_cells[i].set_text(nbb_formatted_code);\n",
       "                        }\n",
       "                        break;\n",
       "                    }\n",
       "                }\n",
       "            }, 500);\n",
       "            "
      ],
      "text/plain": [
       "<IPython.core.display.Javascript object>"
      ]
     },
     "metadata": {},
     "output_type": "display_data"
    }
   ],
   "source": [
    "df = pd.read_csv(\"../../../data/processed/Intercement/cement-shipping.csv\")\n",
    "df_no_cs = df.drop(\n",
    "    [\n",
    "        \"RC1\",\n",
    "        \"RC3\",\n",
    "        \"RC7\",\n",
    "    ],\n",
    "    axis=1,\n",
    ").copy()\n",
    "\n",
    "y = df_no_cs.pop(\"RC28\")\n",
    "x = df_no_cs.drop([\"Data\"], axis=1)\n",
    "x.columns = x.columns.str.lower()\n",
    "x = x[COMMON_FEATURES]\n",
    "\n",
    "x_train, x_test, y_train, y_test = train_test_split(\n",
    "    x, y, test_size=0.2, random_state=SEED, shuffle=False\n",
    ")"
   ]
  },
  {
   "cell_type": "code",
   "execution_count": 77,
   "metadata": {},
   "outputs": [
    {
     "data": {
      "application/javascript": [
       "\n",
       "            setTimeout(function() {\n",
       "                var nbb_cell_id = 77;\n",
       "                var nbb_unformatted_code = \"set_seeds()\\n\\nmodel_2 = get_model(include_top=False, shape=(x.shape[-1]))\\nmodel_2.load_weights(\\\"conv1d_weights.h5\\\", by_name=True)\\nmodel_2.trainable = False\\n\\nflat1 = tf.keras.layers.Flatten()(model_2.layers[-1].output)\\nclass1 = tf.keras.layers.Dense(256, activation=\\\"relu\\\")(flat1)\\nclass1 = tf.keras.layers.Dense(128, activation=\\\"relu\\\")(class1)\\nclass1 = tf.keras.layers.Dense(64, activation=\\\"relu\\\")(class1)\\noutputs = tf.keras.layers.Dense(1, activation=\\\"linear\\\")(class1)\\nmodel = tf.keras.Model(model_2.inputs, outputs)\\n\\nmodel.compile(\\n    optimizer=tf.keras.optimizers.Adam(learning_rate=1e-3),\\n    loss=\\\"mse\\\",\\n    metrics=[tf.keras.metrics.RootMeanSquaredError(name=\\\"RMSE\\\")],\\n)\";\n",
       "                var nbb_formatted_code = \"set_seeds()\\n\\nmodel_2 = get_model(include_top=False, shape=(x.shape[-1]))\\nmodel_2.load_weights(\\\"conv1d_weights.h5\\\", by_name=True)\\nmodel_2.trainable = False\\n\\nflat1 = tf.keras.layers.Flatten()(model_2.layers[-1].output)\\nclass1 = tf.keras.layers.Dense(256, activation=\\\"relu\\\")(flat1)\\nclass1 = tf.keras.layers.Dense(128, activation=\\\"relu\\\")(class1)\\nclass1 = tf.keras.layers.Dense(64, activation=\\\"relu\\\")(class1)\\noutputs = tf.keras.layers.Dense(1, activation=\\\"linear\\\")(class1)\\nmodel = tf.keras.Model(model_2.inputs, outputs)\\n\\nmodel.compile(\\n    optimizer=tf.keras.optimizers.Adam(learning_rate=1e-3),\\n    loss=\\\"mse\\\",\\n    metrics=[tf.keras.metrics.RootMeanSquaredError(name=\\\"RMSE\\\")],\\n)\";\n",
       "                var nbb_cells = Jupyter.notebook.get_cells();\n",
       "                for (var i = 0; i < nbb_cells.length; ++i) {\n",
       "                    if (nbb_cells[i].input_prompt_number == nbb_cell_id) {\n",
       "                        if (nbb_cells[i].get_text() == nbb_unformatted_code) {\n",
       "                             nbb_cells[i].set_text(nbb_formatted_code);\n",
       "                        }\n",
       "                        break;\n",
       "                    }\n",
       "                }\n",
       "            }, 500);\n",
       "            "
      ],
      "text/plain": [
       "<IPython.core.display.Javascript object>"
      ]
     },
     "metadata": {},
     "output_type": "display_data"
    }
   ],
   "source": [
    "set_seeds()\n",
    "\n",
    "model_2 = get_model(include_top=False, shape=(x.shape[-1]))\n",
    "model_2.load_weights(\"conv1d_weights.h5\", by_name=True)\n",
    "model_2.trainable = False\n",
    "\n",
    "flat1 = tf.keras.layers.Flatten()(model_2.layers[-1].output)\n",
    "class1 = tf.keras.layers.Dense(256, activation=\"relu\")(flat1)\n",
    "class1 = tf.keras.layers.Dense(128, activation=\"relu\")(class1)\n",
    "class1 = tf.keras.layers.Dense(64, activation=\"relu\")(class1)\n",
    "outputs = tf.keras.layers.Dense(1, activation=\"linear\")(class1)\n",
    "model = tf.keras.Model(model_2.inputs, outputs)\n",
    "\n",
    "model.compile(\n",
    "    optimizer=tf.keras.optimizers.Adam(learning_rate=1e-3),\n",
    "    loss=\"mse\",\n",
    "    metrics=[tf.keras.metrics.RootMeanSquaredError(name=\"RMSE\")],\n",
    ")"
   ]
  },
  {
   "cell_type": "code",
   "execution_count": 78,
   "metadata": {},
   "outputs": [
    {
     "data": {
      "application/javascript": [
       "\n",
       "            setTimeout(function() {\n",
       "                var nbb_cell_id = 78;\n",
       "                var nbb_unformatted_code = \"sc = StandardScaler()\\n\\nhistory = model.fit(\\n    sc.fit_transform(x_train),\\n    y_train,\\n    batch_size=batch_size,\\n    epochs=epochs,\\n    verbose=verbose,\\n)\";\n",
       "                var nbb_formatted_code = \"sc = StandardScaler()\\n\\nhistory = model.fit(\\n    sc.fit_transform(x_train),\\n    y_train,\\n    batch_size=batch_size,\\n    epochs=epochs,\\n    verbose=verbose,\\n)\";\n",
       "                var nbb_cells = Jupyter.notebook.get_cells();\n",
       "                for (var i = 0; i < nbb_cells.length; ++i) {\n",
       "                    if (nbb_cells[i].input_prompt_number == nbb_cell_id) {\n",
       "                        if (nbb_cells[i].get_text() == nbb_unformatted_code) {\n",
       "                             nbb_cells[i].set_text(nbb_formatted_code);\n",
       "                        }\n",
       "                        break;\n",
       "                    }\n",
       "                }\n",
       "            }, 500);\n",
       "            "
      ],
      "text/plain": [
       "<IPython.core.display.Javascript object>"
      ]
     },
     "metadata": {},
     "output_type": "display_data"
    }
   ],
   "source": [
    "sc = StandardScaler()\n",
    "\n",
    "history = model.fit(\n",
    "    sc.fit_transform(x_train),\n",
    "    y_train,\n",
    "    batch_size=batch_size,\n",
    "    epochs=epochs,\n",
    "    verbose=verbose,\n",
    ")"
   ]
  },
  {
   "cell_type": "code",
   "execution_count": 79,
   "metadata": {},
   "outputs": [
    {
     "data": {
      "text/plain": [
       "[<matplotlib.lines.Line2D at 0x7f5d271e0518>]"
      ]
     },
     "execution_count": 79,
     "metadata": {},
     "output_type": "execute_result"
    },
    {
     "data": {
      "image/png": "[encoded data removed]",
      "text/plain": [
       "<Figure size 432x288 with 1 Axes>"
      ]
     },
     "metadata": {
      "needs_background": "light"
     },
     "output_type": "display_data"
    },
    {
     "data": {
      "application/javascript": [
       "\n",
       "            setTimeout(function() {\n",
       "                var nbb_cell_id = 79;\n",
       "                var nbb_unformatted_code = \"plt.plot(history.history[\\\"RMSE\\\"])\";\n",
       "                var nbb_formatted_code = \"plt.plot(history.history[\\\"RMSE\\\"])\";\n",
       "                var nbb_cells = Jupyter.notebook.get_cells();\n",
       "                for (var i = 0; i < nbb_cells.length; ++i) {\n",
       "                    if (nbb_cells[i].input_prompt_number == nbb_cell_id) {\n",
       "                        if (nbb_cells[i].get_text() == nbb_unformatted_code) {\n",
       "                             nbb_cells[i].set_text(nbb_formatted_code);\n",
       "                        }\n",
       "                        break;\n",
       "                    }\n",
       "                }\n",
       "            }, 500);\n",
       "            "
      ],
      "text/plain": [
       "<IPython.core.display.Javascript object>"
      ]
     },
     "metadata": {},
     "output_type": "display_data"
    }
   ],
   "source": [
    "plt.plot(history.history[\"RMSE\"])"
   ]
  },
  {
   "cell_type": "code",
   "execution_count": 80,
   "metadata": {},
   "outputs": [
    {
     "name": "stdout",
     "output_type": "stream",
     "text": [
      "******\n",
      "[TRAIN]\n",
      "******\n",
      "RMSE: 3.774 (0.000)\n",
      "MAE: 2.856 (0.000)\n",
      "MAPE: 0.065 (0.000)\n",
      "R2: 0.656 (0.000)\n",
      "\n",
      "======================\n",
      "\n",
      "******\n",
      "[TEST]\n",
      "******\n",
      "RMSE: 6.330 (0.000)\n",
      "MAE: 5.376 (0.000)\n",
      "MAPE: 0.098 (0.000)\n",
      "R2: 0.183 (0.000)\n",
      "\n",
      "======================\n",
      "\n"
     ]
    },
    {
     "data": {
      "application/javascript": [
       "\n",
       "            setTimeout(function() {\n",
       "                var nbb_cell_id = 80;\n",
       "                var nbb_unformatted_code = \"y_train_pred = model.predict(sc.transform(x_train))\\ny_test_pred = model.predict(sc.transform(x_test))\\n\\nscores = score_regression_metrics(y_train, y_train_pred, y_test, y_test_pred)\\nprint_scores(scores, METRICS, METRICS_DICT)\";\n",
       "                var nbb_formatted_code = \"y_train_pred = model.predict(sc.transform(x_train))\\ny_test_pred = model.predict(sc.transform(x_test))\\n\\nscores = score_regression_metrics(y_train, y_train_pred, y_test, y_test_pred)\\nprint_scores(scores, METRICS, METRICS_DICT)\";\n",
       "                var nbb_cells = Jupyter.notebook.get_cells();\n",
       "                for (var i = 0; i < nbb_cells.length; ++i) {\n",
       "                    if (nbb_cells[i].input_prompt_number == nbb_cell_id) {\n",
       "                        if (nbb_cells[i].get_text() == nbb_unformatted_code) {\n",
       "                             nbb_cells[i].set_text(nbb_formatted_code);\n",
       "                        }\n",
       "                        break;\n",
       "                    }\n",
       "                }\n",
       "            }, 500);\n",
       "            "
      ],
      "text/plain": [
       "<IPython.core.display.Javascript object>"
      ]
     },
     "metadata": {},
     "output_type": "display_data"
    }
   ],
   "source": [
    "y_train_pred = model.predict(sc.transform(x_train))\n",
    "y_test_pred = model.predict(sc.transform(x_test))\n",
    "\n",
    "scores = score_regression_metrics(y_train, y_train_pred, y_test, y_test_pred)\n",
    "print_scores(scores, METRICS, METRICS_DICT)"
   ]
  },
  {
   "cell_type": "markdown",
   "metadata": {},
   "source": [
    "# Pre Trainning"
   ]
  },
  {
   "cell_type": "code",
   "execution_count": 81,
   "metadata": {},
   "outputs": [
    {
     "data": {
      "application/javascript": [
       "\n",
       "            setTimeout(function() {\n",
       "                var nbb_cell_id = 81;\n",
       "                var nbb_unformatted_code = \"batch_size = 32\\nepochs = 200\\nverbose = 0\";\n",
       "                var nbb_formatted_code = \"batch_size = 32\\nepochs = 200\\nverbose = 0\";\n",
       "                var nbb_cells = Jupyter.notebook.get_cells();\n",
       "                for (var i = 0; i < nbb_cells.length; ++i) {\n",
       "                    if (nbb_cells[i].input_prompt_number == nbb_cell_id) {\n",
       "                        if (nbb_cells[i].get_text() == nbb_unformatted_code) {\n",
       "                             nbb_cells[i].set_text(nbb_formatted_code);\n",
       "                        }\n",
       "                        break;\n",
       "                    }\n",
       "                }\n",
       "            }, 500);\n",
       "            "
      ],
      "text/plain": [
       "<IPython.core.display.Javascript object>"
      ]
     },
     "metadata": {},
     "output_type": "display_data"
    }
   ],
   "source": [
    "batch_size = 32\n",
    "epochs = 200\n",
    "verbose = 0"
   ]
  },
  {
   "cell_type": "markdown",
   "metadata": {},
   "source": [
    "# partner_i + partner_ii"
   ]
  },
  {
   "cell_type": "code",
   "execution_count": 82,
   "metadata": {},
   "outputs": [
    {
     "data": {
      "application/javascript": [
       "\n",
       "            setTimeout(function() {\n",
       "                var nbb_cell_id = 82;\n",
       "                var nbb_unformatted_code = \"batch_size = 32\\nepochs = 200\\nverbose = 1\";\n",
       "                var nbb_formatted_code = \"batch_size = 32\\nepochs = 200\\nverbose = 1\";\n",
       "                var nbb_cells = Jupyter.notebook.get_cells();\n",
       "                for (var i = 0; i < nbb_cells.length; ++i) {\n",
       "                    if (nbb_cells[i].input_prompt_number == nbb_cell_id) {\n",
       "                        if (nbb_cells[i].get_text() == nbb_unformatted_code) {\n",
       "                             nbb_cells[i].set_text(nbb_formatted_code);\n",
       "                        }\n",
       "                        break;\n",
       "                    }\n",
       "                }\n",
       "            }, 500);\n",
       "            "
      ],
      "text/plain": [
       "<IPython.core.display.Javascript object>"
      ]
     },
     "metadata": {},
     "output_type": "display_data"
    }
   ],
   "source": [
    "batch_size = 32\n",
    "epochs = 200\n",
    "verbose = 1"
   ]
  },
  {
   "cell_type": "code",
   "execution_count": 83,
   "metadata": {},
   "outputs": [
    {
     "data": {
      "application/javascript": [
       "\n",
       "            setTimeout(function() {\n",
       "                var nbb_cell_id = 83;\n",
       "                var nbb_unformatted_code = \"COMMON_FEATURES = [\\\"mgo\\\", \\\"al2o3\\\", \\\"sio2\\\", \\\"so3\\\", \\\"k2o\\\", \\\"fe2o3\\\"]\";\n",
       "                var nbb_formatted_code = \"COMMON_FEATURES = [\\\"mgo\\\", \\\"al2o3\\\", \\\"sio2\\\", \\\"so3\\\", \\\"k2o\\\", \\\"fe2o3\\\"]\";\n",
       "                var nbb_cells = Jupyter.notebook.get_cells();\n",
       "                for (var i = 0; i < nbb_cells.length; ++i) {\n",
       "                    if (nbb_cells[i].input_prompt_number == nbb_cell_id) {\n",
       "                        if (nbb_cells[i].get_text() == nbb_unformatted_code) {\n",
       "                             nbb_cells[i].set_text(nbb_formatted_code);\n",
       "                        }\n",
       "                        break;\n",
       "                    }\n",
       "                }\n",
       "            }, 500);\n",
       "            "
      ],
      "text/plain": [
       "<IPython.core.display.Javascript object>"
      ]
     },
     "metadata": {},
     "output_type": "display_data"
    }
   ],
   "source": [
    "COMMON_FEATURES = [\"mgo\", \"al2o3\", \"sio2\", \"so3\", \"k2o\", \"fe2o3\"]"
   ]
  },
  {
   "cell_type": "code",
   "execution_count": 84,
   "metadata": {},
   "outputs": [
    {
     "data": {
      "application/javascript": [
       "\n",
       "            setTimeout(function() {\n",
       "                var nbb_cell_id = 84;\n",
       "                var nbb_unformatted_code = \"df_partner_ii = pd.read_csv(\\\"../../../data/processed/partner_ii/cement-shipping.csv\\\")\\ndf_no_cs = df_partner_ii.drop(\\n    [\\\"strength_1d\\\", \\\"strength_3d\\\", \\\"strength_7d\\\"],\\n    axis=1,\\n).copy()\\ny_1 = df_no_cs.pop(\\\"strength_28d\\\")\\nx_1 = df_no_cs.rename({\\\"sample_date\\\": \\\"date\\\"}, axis=1)\\n\\ndf_partner_i = pd.read_csv(\\n    \\\"../../../data/processed/partner_i-Oficial/cement-shipping.csv\\\"\\n)\\ndf_partner_i = df_partner_i.drop(\\n    [\\n        \\\"1 day Compressive strength\\\",\\n        \\\"3 day Compressive strength\\\",\\n        \\\"7 day Compressive strength\\\",\\n    ],\\n    axis=1,\\n).copy()\\n\\ny_2 = df_partner_i.pop(\\\"28 day Compressive strength\\\")\\nx_2 = df_partner_i\\n\\nx_2.columns = x_2.columns.str.lower()\\nx_2 = x_2.drop(set(x_2.columns) - set(x_1.columns), axis=1)\\nx_1 = x_1[x_2.columns]\\n\\n\\ny_1.name = \\\"cs28\\\"\\ny_2.name = \\\"cs28\\\"\\n\\nx = pd.concat([x_1, x_2], axis=0).reset_index(drop=True)\\ny = pd.concat([y_1, y_2], axis=0).reset_index(drop=True)\\n\\nx = pd.concat([x, y], axis=1)\\nx[\\\"date\\\"] = x[\\\"date\\\"].apply(lambda x: x[:10])\\nx[\\\"date\\\"] = pd.to_datetime(x[\\\"date\\\"])\\nx = x.sort_values(by=\\\"date\\\").reset_index(drop=True)\\ny = x.pop(\\\"cs28\\\")\\nx.columns = x.columns.str.lower()\\nx = x[COMMON_FEATURES]\\n\\nx_train, x_test, y_train, y_test = train_test_split(\\n    x, y, test_size=0.2, random_state=SEED, shuffle=False\\n)\";\n",
       "                var nbb_formatted_code = \"df_partner_ii = pd.read_csv(\\\"../../../data/processed/partner_ii/cement-shipping.csv\\\")\\ndf_no_cs = df_partner_ii.drop(\\n    [\\\"strength_1d\\\", \\\"strength_3d\\\", \\\"strength_7d\\\"],\\n    axis=1,\\n).copy()\\ny_1 = df_no_cs.pop(\\\"strength_28d\\\")\\nx_1 = df_no_cs.rename({\\\"sample_date\\\": \\\"date\\\"}, axis=1)\\n\\ndf_partner_i = pd.read_csv(\\n    \\\"../../../data/processed/partner_i-Oficial/cement-shipping.csv\\\"\\n)\\ndf_partner_i = df_partner_i.drop(\\n    [\\n        \\\"1 day Compressive strength\\\",\\n        \\\"3 day Compressive strength\\\",\\n        \\\"7 day Compressive strength\\\",\\n    ],\\n    axis=1,\\n).copy()\\n\\ny_2 = df_partner_i.pop(\\\"28 day Compressive strength\\\")\\nx_2 = df_partner_i\\n\\nx_2.columns = x_2.columns.str.lower()\\nx_2 = x_2.drop(set(x_2.columns) - set(x_1.columns), axis=1)\\nx_1 = x_1[x_2.columns]\\n\\n\\ny_1.name = \\\"cs28\\\"\\ny_2.name = \\\"cs28\\\"\\n\\nx = pd.concat([x_1, x_2], axis=0).reset_index(drop=True)\\ny = pd.concat([y_1, y_2], axis=0).reset_index(drop=True)\\n\\nx = pd.concat([x, y], axis=1)\\nx[\\\"date\\\"] = x[\\\"date\\\"].apply(lambda x: x[:10])\\nx[\\\"date\\\"] = pd.to_datetime(x[\\\"date\\\"])\\nx = x.sort_values(by=\\\"date\\\").reset_index(drop=True)\\ny = x.pop(\\\"cs28\\\")\\nx.columns = x.columns.str.lower()\\nx = x[COMMON_FEATURES]\\n\\nx_train, x_test, y_train, y_test = train_test_split(\\n    x, y, test_size=0.2, random_state=SEED, shuffle=False\\n)\";\n",
       "                var nbb_cells = Jupyter.notebook.get_cells();\n",
       "                for (var i = 0; i < nbb_cells.length; ++i) {\n",
       "                    if (nbb_cells[i].input_prompt_number == nbb_cell_id) {\n",
       "                        if (nbb_cells[i].get_text() == nbb_unformatted_code) {\n",
       "                             nbb_cells[i].set_text(nbb_formatted_code);\n",
       "                        }\n",
       "                        break;\n",
       "                    }\n",
       "                }\n",
       "            }, 500);\n",
       "            "
      ],
      "text/plain": [
       "<IPython.core.display.Javascript object>"
      ]
     },
     "metadata": {},
     "output_type": "display_data"
    }
   ],
   "source": [
    "df_partner_ii = pd.read_csv(\"../../../data/processed/partner_ii/cement-shipping.csv\")\n",
    "df_no_cs = df_partner_ii.drop(\n",
    "    [\"strength_1d\", \"strength_3d\", \"strength_7d\"],\n",
    "    axis=1,\n",
    ").copy()\n",
    "y_1 = df_no_cs.pop(\"strength_28d\")\n",
    "x_1 = df_no_cs.rename({\"sample_date\": \"date\"}, axis=1)\n",
    "\n",
    "df_partner_i = pd.read_csv(\n",
    "    \"../../../data/processed/partner_i-Oficial/cement-shipping.csv\"\n",
    ")\n",
    "df_partner_i = df_partner_i.drop(\n",
    "    [\n",
    "        \"1 day Compressive strength\",\n",
    "        \"3 day Compressive strength\",\n",
    "        \"7 day Compressive strength\",\n",
    "    ],\n",
    "    axis=1,\n",
    ").copy()\n",
    "\n",
    "y_2 = df_partner_i.pop(\"28 day Compressive strength\")\n",
    "x_2 = df_partner_i\n",
    "\n",
    "x_2.columns = x_2.columns.str.lower()\n",
    "x_2 = x_2.drop(set(x_2.columns) - set(x_1.columns), axis=1)\n",
    "x_1 = x_1[x_2.columns]\n",
    "\n",
    "\n",
    "y_1.name = \"cs28\"\n",
    "y_2.name = \"cs28\"\n",
    "\n",
    "x = pd.concat([x_1, x_2], axis=0).reset_index(drop=True)\n",
    "y = pd.concat([y_1, y_2], axis=0).reset_index(drop=True)\n",
    "\n",
    "x = pd.concat([x, y], axis=1)\n",
    "x[\"date\"] = x[\"date\"].apply(lambda x: x[:10])\n",
    "x[\"date\"] = pd.to_datetime(x[\"date\"])\n",
    "x = x.sort_values(by=\"date\").reset_index(drop=True)\n",
    "y = x.pop(\"cs28\")\n",
    "x.columns = x.columns.str.lower()\n",
    "x = x[COMMON_FEATURES]\n",
    "\n",
    "x_train, x_test, y_train, y_test = train_test_split(\n",
    "    x, y, test_size=0.2, random_state=SEED, shuffle=False\n",
    ")"
   ]
  },
  {
   "cell_type": "code",
   "execution_count": 85,
   "metadata": {},
   "outputs": [
    {
     "name": "stdout",
     "output_type": "stream",
     "text": [
      "Epoch 1/200\n",
      "58/58 [==============================] - 0s 2ms/step - loss: 1194.8732 - RMSE: 34.5669\n",
      "Epoch 2/200\n",
      "58/58 [==============================] - 0s 2ms/step - loss: 59.3829 - RMSE: 7.7060\n",
      "Epoch 3/200\n",
      "58/58 [==============================] - 0s 2ms/step - loss: 49.4910 - RMSE: 7.0350\n",
      "Epoch 4/200\n",
      "58/58 [==============================] - 0s 2ms/step - loss: 48.6884 - RMSE: 6.9777\n",
      "Epoch 5/200\n",
      "58/58 [==============================] - 0s 1ms/step - loss: 45.8872 - RMSE: 6.7740\n",
      "Epoch 6/200\n",
      "58/58 [==============================] - 0s 2ms/step - loss: 40.5723 - RMSE: 6.3696\n",
      "Epoch 7/200\n",
      "58/58 [==============================] - 0s 2ms/step - loss: 41.1309 - RMSE: 6.4133\n",
      "Epoch 8/200\n",
      "58/58 [==============================] - 0s 1ms/step - loss: 41.2647 - RMSE: 6.4238\n",
      "Epoch 9/200\n",
      "58/58 [==============================] - 0s 1ms/step - loss: 38.2444 - RMSE: 6.1842\n",
      "Epoch 10/200\n",
      "58/58 [==============================] - 0s 1ms/step - loss: 38.5093 - RMSE: 6.2056\n",
      "Epoch 11/200\n",
      "58/58 [==============================] - 0s 2ms/step - loss: 36.9561 - RMSE: 6.0792\n",
      "Epoch 12/200\n",
      "58/58 [==============================] - 0s 1ms/step - loss: 40.2352 - RMSE: 6.3431\n",
      "Epoch 13/200\n",
      "58/58 [==============================] - 0s 2ms/step - loss: 37.7508 - RMSE: 6.1442\n",
      "Epoch 14/200\n",
      "58/58 [==============================] - 0s 2ms/step - loss: 37.3350 - RMSE: 6.1102\n",
      "Epoch 15/200\n",
      "58/58 [==============================] - 0s 1ms/step - loss: 35.7170 - RMSE: 5.9764\n",
      "Epoch 16/200\n",
      "58/58 [==============================] - 0s 2ms/step - loss: 37.5534 - RMSE: 6.1281\n",
      "Epoch 17/200\n",
      "58/58 [==============================] - 0s 1ms/step - loss: 35.2045 - RMSE: 5.9333\n",
      "Epoch 18/200\n",
      "58/58 [==============================] - 0s 1ms/step - loss: 34.2996 - RMSE: 5.8566\n",
      "Epoch 19/200\n",
      "58/58 [==============================] - 0s 2ms/step - loss: 34.6854 - RMSE: 5.8894\n",
      "Epoch 20/200\n",
      "58/58 [==============================] - 0s 2ms/step - loss: 34.3378 - RMSE: 5.8598\n",
      "Epoch 21/200\n",
      "58/58 [==============================] - 0s 2ms/step - loss: 34.1748 - RMSE: 5.8459\n",
      "Epoch 22/200\n",
      "58/58 [==============================] - 0s 1ms/step - loss: 33.3011 - RMSE: 5.7707\n",
      "Epoch 23/200\n",
      "58/58 [==============================] - 0s 2ms/step - loss: 32.7086 - RMSE: 5.7191\n",
      "Epoch 24/200\n",
      "58/58 [==============================] - 0s 2ms/step - loss: 33.7907 - RMSE: 5.8130\n",
      "Epoch 25/200\n",
      "58/58 [==============================] - 0s 2ms/step - loss: 32.6642 - RMSE: 5.7153\n",
      "Epoch 26/200\n",
      "58/58 [==============================] - 0s 2ms/step - loss: 32.0263 - RMSE: 5.6592\n",
      "Epoch 27/200\n",
      "58/58 [==============================] - 0s 2ms/step - loss: 34.8701 - RMSE: 5.9051\n",
      "Epoch 28/200\n",
      "58/58 [==============================] - 0s 1ms/step - loss: 33.1638 - RMSE: 5.7588\n",
      "Epoch 29/200\n",
      "58/58 [==============================] - 0s 1ms/step - loss: 35.6315 - RMSE: 5.9692\n",
      "Epoch 30/200\n",
      "58/58 [==============================] - 0s 2ms/step - loss: 33.5166 - RMSE: 5.7894\n",
      "Epoch 31/200\n",
      "58/58 [==============================] - 0s 2ms/step - loss: 34.2948 - RMSE: 5.8562\n",
      "Epoch 32/200\n",
      "58/58 [==============================] - 0s 2ms/step - loss: 34.7365 - RMSE: 5.8938\n",
      "Epoch 33/200\n",
      "58/58 [==============================] - 0s 1ms/step - loss: 32.8369 - RMSE: 5.7303\n",
      "Epoch 34/200\n",
      "58/58 [==============================] - 0s 1ms/step - loss: 30.2907 - RMSE: 5.5037\n",
      "Epoch 35/200\n",
      "58/58 [==============================] - 0s 2ms/step - loss: 33.0650 - RMSE: 5.7502\n",
      "Epoch 36/200\n",
      "58/58 [==============================] - 0s 1ms/step - loss: 33.8550 - RMSE: 5.8185\n",
      "Epoch 37/200\n",
      "58/58 [==============================] - 0s 1ms/step - loss: 35.2128 - RMSE: 5.9340\n",
      "Epoch 38/200\n",
      "58/58 [==============================] - 0s 2ms/step - loss: 35.0631 - RMSE: 5.9214\n",
      "Epoch 39/200\n",
      "58/58 [==============================] - 0s 2ms/step - loss: 33.2341 - RMSE: 5.7649\n",
      "Epoch 40/200\n",
      "58/58 [==============================] - 0s 2ms/step - loss: 33.8309 - RMSE: 5.8164\n",
      "Epoch 41/200\n",
      "58/58 [==============================] - 0s 2ms/step - loss: 30.3686 - RMSE: 5.5108\n",
      "Epoch 42/200\n",
      "58/58 [==============================] - 0s 2ms/step - loss: 33.0064 - RMSE: 5.7451\n",
      "Epoch 43/200\n",
      "58/58 [==============================] - 0s 2ms/step - loss: 31.3512 - RMSE: 5.5992\n",
      "Epoch 44/200\n",
      "58/58 [==============================] - 0s 1ms/step - loss: 32.5228 - RMSE: 5.7029\n",
      "Epoch 45/200\n",
      "58/58 [==============================] - 0s 2ms/step - loss: 33.5956 - RMSE: 5.7962\n",
      "Epoch 46/200\n",
      "58/58 [==============================] - 0s 1ms/step - loss: 32.4494 - RMSE: 5.6964\n",
      "Epoch 47/200\n",
      "58/58 [==============================] - 0s 2ms/step - loss: 33.5982 - RMSE: 5.7964\n",
      "Epoch 48/200\n",
      "58/58 [==============================] - 0s 2ms/step - loss: 32.3432 - RMSE: 5.6871\n",
      "Epoch 49/200\n",
      "58/58 [==============================] - 0s 1ms/step - loss: 32.7505 - RMSE: 5.7228\n",
      "Epoch 50/200\n",
      "58/58 [==============================] - 0s 1ms/step - loss: 32.1108 - RMSE: 5.6666\n",
      "Epoch 51/200\n",
      "58/58 [==============================] - 0s 2ms/step - loss: 31.4192 - RMSE: 5.6053\n",
      "Epoch 52/200\n",
      "58/58 [==============================] - 0s 2ms/step - loss: 33.2567 - RMSE: 5.7669\n",
      "Epoch 53/200\n",
      "58/58 [==============================] - 0s 2ms/step - loss: 32.6736 - RMSE: 5.7161\n",
      "Epoch 54/200\n",
      "58/58 [==============================] - 0s 2ms/step - loss: 32.2670 - RMSE: 5.6804\n",
      "Epoch 55/200\n",
      "58/58 [==============================] - 0s 2ms/step - loss: 33.0113 - RMSE: 5.7455\n",
      "Epoch 56/200\n",
      "58/58 [==============================] - 0s 1ms/step - loss: 33.6181 - RMSE: 5.7981\n",
      "Epoch 57/200\n",
      "58/58 [==============================] - 0s 2ms/step - loss: 33.6233 - RMSE: 5.7986\n",
      "Epoch 58/200\n",
      "58/58 [==============================] - 0s 2ms/step - loss: 31.3848 - RMSE: 5.6022\n",
      "Epoch 59/200\n",
      "58/58 [==============================] - 0s 2ms/step - loss: 30.5449 - RMSE: 5.5267\n",
      "Epoch 60/200\n",
      "58/58 [==============================] - 0s 2ms/step - loss: 32.3218 - RMSE: 5.6852\n",
      "Epoch 61/200\n",
      "58/58 [==============================] - 0s 2ms/step - loss: 32.6602 - RMSE: 5.7149\n",
      "Epoch 62/200\n",
      "58/58 [==============================] - 0s 2ms/step - loss: 33.3627 - RMSE: 5.7760\n",
      "Epoch 63/200\n",
      "58/58 [==============================] - 0s 2ms/step - loss: 32.5512 - RMSE: 5.7054\n",
      "Epoch 64/200\n",
      "58/58 [==============================] - 0s 1ms/step - loss: 33.1496 - RMSE: 5.7576\n",
      "Epoch 65/200\n",
      "58/58 [==============================] - 0s 1ms/step - loss: 30.6236 - RMSE: 5.5339\n",
      "Epoch 66/200\n",
      "58/58 [==============================] - 0s 2ms/step - loss: 29.6667 - RMSE: 5.4467\n",
      "Epoch 67/200\n",
      "58/58 [==============================] - 0s 1ms/step - loss: 33.5148 - RMSE: 5.7892\n",
      "Epoch 68/200\n",
      "58/58 [==============================] - 0s 1ms/step - loss: 31.3052 - RMSE: 5.5951\n",
      "Epoch 69/200\n",
      "58/58 [==============================] - 0s 2ms/step - loss: 30.5839 - RMSE: 5.5303\n",
      "Epoch 70/200\n",
      "58/58 [==============================] - 0s 2ms/step - loss: 30.9165 - RMSE: 5.5603\n",
      "Epoch 71/200\n",
      "58/58 [==============================] - 0s 2ms/step - loss: 30.7704 - RMSE: 5.5471\n",
      "Epoch 72/200\n",
      "58/58 [==============================] - 0s 2ms/step - loss: 31.4536 - RMSE: 5.6083\n",
      "Epoch 73/200\n",
      "58/58 [==============================] - 0s 2ms/step - loss: 33.4945 - RMSE: 5.7874\n",
      "Epoch 74/200\n",
      "58/58 [==============================] - 0s 2ms/step - loss: 29.8847 - RMSE: 5.4667\n",
      "Epoch 75/200\n",
      "58/58 [==============================] - 0s 1ms/step - loss: 31.7787 - RMSE: 5.6373\n",
      "Epoch 76/200\n",
      "58/58 [==============================] - 0s 1ms/step - loss: 32.8242 - RMSE: 5.7292\n",
      "Epoch 77/200\n",
      "58/58 [==============================] - 0s 2ms/step - loss: 33.7882 - RMSE: 5.8128\n",
      "Epoch 78/200\n",
      "58/58 [==============================] - 0s 2ms/step - loss: 31.8524 - RMSE: 5.6438\n",
      "Epoch 79/200\n",
      "58/58 [==============================] - 0s 2ms/step - loss: 32.3746 - RMSE: 5.6899\n",
      "Epoch 80/200\n",
      "58/58 [==============================] - 0s 1ms/step - loss: 32.5205 - RMSE: 5.7027\n",
      "Epoch 81/200\n",
      "58/58 [==============================] - 0s 2ms/step - loss: 34.6982 - RMSE: 5.8905\n",
      "Epoch 82/200\n",
      "58/58 [==============================] - 0s 2ms/step - loss: 32.0533 - RMSE: 5.6616\n",
      "Epoch 83/200\n",
      "58/58 [==============================] - 0s 2ms/step - loss: 31.5417 - RMSE: 5.6162\n",
      "Epoch 84/200\n",
      "58/58 [==============================] - 0s 1ms/step - loss: 34.2378 - RMSE: 5.8513\n",
      "Epoch 85/200\n"
     ]
    },
    {
     "name": "stdout",
     "output_type": "stream",
     "text": [
      "58/58 [==============================] - 0s 2ms/step - loss: 31.6628 - RMSE: 5.6270\n",
      "Epoch 86/200\n",
      "58/58 [==============================] - 0s 1ms/step - loss: 32.0591 - RMSE: 5.6621\n",
      "Epoch 87/200\n",
      "58/58 [==============================] - 0s 1ms/step - loss: 29.8271 - RMSE: 5.4614\n",
      "Epoch 88/200\n",
      "58/58 [==============================] - 0s 2ms/step - loss: 30.6640 - RMSE: 5.5375\n",
      "Epoch 89/200\n",
      "58/58 [==============================] - 0s 2ms/step - loss: 32.4809 - RMSE: 5.6992\n",
      "Epoch 90/200\n",
      "58/58 [==============================] - 0s 2ms/step - loss: 32.3300 - RMSE: 5.6859\n",
      "Epoch 91/200\n",
      "58/58 [==============================] - 0s 2ms/step - loss: 29.6650 - RMSE: 5.4466\n",
      "Epoch 92/200\n",
      "58/58 [==============================] - 0s 2ms/step - loss: 32.5722 - RMSE: 5.7072\n",
      "Epoch 93/200\n",
      "58/58 [==============================] - 0s 2ms/step - loss: 31.9701 - RMSE: 5.6542\n",
      "Epoch 94/200\n",
      "58/58 [==============================] - 0s 2ms/step - loss: 31.5862 - RMSE: 5.6202\n",
      "Epoch 95/200\n",
      "58/58 [==============================] - 0s 2ms/step - loss: 29.7004 - RMSE: 5.4498\n",
      "Epoch 96/200\n",
      "58/58 [==============================] - 0s 2ms/step - loss: 30.9576 - RMSE: 5.5640\n",
      "Epoch 97/200\n",
      "58/58 [==============================] - 0s 1ms/step - loss: 32.1683 - RMSE: 5.6717\n",
      "Epoch 98/200\n",
      "58/58 [==============================] - 0s 2ms/step - loss: 31.1366 - RMSE: 5.5800\n",
      "Epoch 99/200\n",
      "58/58 [==============================] - 0s 2ms/step - loss: 32.0933 - RMSE: 5.6651\n",
      "Epoch 100/200\n",
      "58/58 [==============================] - 0s 2ms/step - loss: 31.7632 - RMSE: 5.6359\n",
      "Epoch 101/200\n",
      "58/58 [==============================] - 0s 1ms/step - loss: 31.1257 - RMSE: 5.5790\n",
      "Epoch 102/200\n",
      "58/58 [==============================] - 0s 2ms/step - loss: 31.4779 - RMSE: 5.6105\n",
      "Epoch 103/200\n",
      "58/58 [==============================] - 0s 2ms/step - loss: 31.3103 - RMSE: 5.5956\n",
      "Epoch 104/200\n",
      "58/58 [==============================] - 0s 1ms/step - loss: 31.4572 - RMSE: 5.6087\n",
      "Epoch 105/200\n",
      "58/58 [==============================] - 0s 2ms/step - loss: 30.3431 - RMSE: 5.5085\n",
      "Epoch 106/200\n",
      "58/58 [==============================] - 0s 1ms/step - loss: 30.8776 - RMSE: 5.5568\n",
      "Epoch 107/200\n",
      "58/58 [==============================] - 0s 2ms/step - loss: 30.7946 - RMSE: 5.5493\n",
      "Epoch 108/200\n",
      "58/58 [==============================] - 0s 1ms/step - loss: 30.8369 - RMSE: 5.5531\n",
      "Epoch 109/200\n",
      "58/58 [==============================] - 0s 2ms/step - loss: 29.6504 - RMSE: 5.4452\n",
      "Epoch 110/200\n",
      "58/58 [==============================] - 0s 2ms/step - loss: 31.0415 - RMSE: 5.5715\n",
      "Epoch 111/200\n",
      "58/58 [==============================] - 0s 2ms/step - loss: 29.8246 - RMSE: 5.4612\n",
      "Epoch 112/200\n",
      "58/58 [==============================] - 0s 2ms/step - loss: 30.8804 - RMSE: 5.5570\n",
      "Epoch 113/200\n",
      "58/58 [==============================] - 0s 2ms/step - loss: 30.6399 - RMSE: 5.5353\n",
      "Epoch 114/200\n",
      "58/58 [==============================] - 0s 2ms/step - loss: 31.0786 - RMSE: 5.5748\n",
      "Epoch 115/200\n",
      "58/58 [==============================] - 0s 2ms/step - loss: 31.3140 - RMSE: 5.5959\n",
      "Epoch 116/200\n",
      "58/58 [==============================] - 0s 1ms/step - loss: 29.6605 - RMSE: 5.4461\n",
      "Epoch 117/200\n",
      "58/58 [==============================] - 0s 1ms/step - loss: 30.3178 - RMSE: 5.5062\n",
      "Epoch 118/200\n",
      "58/58 [==============================] - 0s 2ms/step - loss: 31.4871 - RMSE: 5.6113\n",
      "Epoch 119/200\n",
      "58/58 [==============================] - 0s 2ms/step - loss: 29.2364 - RMSE: 5.4071\n",
      "Epoch 120/200\n",
      "58/58 [==============================] - 0s 2ms/step - loss: 30.0262 - RMSE: 5.4796\n",
      "Epoch 121/200\n",
      "58/58 [==============================] - 0s 1ms/step - loss: 30.0100 - RMSE: 5.4781\n",
      "Epoch 122/200\n",
      "58/58 [==============================] - 0s 2ms/step - loss: 31.0915 - RMSE: 5.5760\n",
      "Epoch 123/200\n",
      "58/58 [==============================] - 0s 2ms/step - loss: 31.1081 - RMSE: 5.5775\n",
      "Epoch 124/200\n",
      "58/58 [==============================] - 0s 2ms/step - loss: 32.2413 - RMSE: 5.6781\n",
      "Epoch 125/200\n",
      "58/58 [==============================] - 0s 2ms/step - loss: 29.0231 - RMSE: 5.3873\n",
      "Epoch 126/200\n",
      "58/58 [==============================] - 0s 2ms/step - loss: 30.1836 - RMSE: 5.4940\n",
      "Epoch 127/200\n",
      "58/58 [==============================] - 0s 1ms/step - loss: 29.4539 - RMSE: 5.4271\n",
      "Epoch 128/200\n",
      "58/58 [==============================] - 0s 2ms/step - loss: 30.0211 - RMSE: 5.4792\n",
      "Epoch 129/200\n",
      "58/58 [==============================] - 0s 2ms/step - loss: 30.6842 - RMSE: 5.5393\n",
      "Epoch 130/200\n",
      "58/58 [==============================] - 0s 2ms/step - loss: 30.2223 - RMSE: 5.4975\n",
      "Epoch 131/200\n",
      "58/58 [==============================] - 0s 2ms/step - loss: 29.9917 - RMSE: 5.4765\n",
      "Epoch 132/200\n",
      "58/58 [==============================] - 0s 2ms/step - loss: 29.2180 - RMSE: 5.4054\n",
      "Epoch 133/200\n",
      "58/58 [==============================] - 0s 2ms/step - loss: 30.7929 - RMSE: 5.5491\n",
      "Epoch 134/200\n",
      "58/58 [==============================] - 0s 2ms/step - loss: 30.5418 - RMSE: 5.5265\n",
      "Epoch 135/200\n",
      "58/58 [==============================] - 0s 2ms/step - loss: 29.7724 - RMSE: 5.4564\n",
      "Epoch 136/200\n",
      "58/58 [==============================] - 0s 2ms/step - loss: 30.1090 - RMSE: 5.4872\n",
      "Epoch 137/200\n",
      "58/58 [==============================] - 0s 1ms/step - loss: 31.1117 - RMSE: 5.5778\n",
      "Epoch 138/200\n",
      "58/58 [==============================] - 0s 1ms/step - loss: 28.3464 - RMSE: 5.3241\n",
      "Epoch 139/200\n",
      "58/58 [==============================] - 0s 1ms/step - loss: 30.5583 - RMSE: 5.5280\n",
      "Epoch 140/200\n",
      "58/58 [==============================] - 0s 2ms/step - loss: 29.1612 - RMSE: 5.4001\n",
      "Epoch 141/200\n",
      "58/58 [==============================] - 0s 2ms/step - loss: 28.9855 - RMSE: 5.3838\n",
      "Epoch 142/200\n",
      "58/58 [==============================] - 0s 2ms/step - loss: 31.2787 - RMSE: 5.5927\n",
      "Epoch 143/200\n",
      "58/58 [==============================] - 0s 1ms/step - loss: 30.1211 - RMSE: 5.4883\n",
      "Epoch 144/200\n",
      "58/58 [==============================] - 0s 2ms/step - loss: 29.6542 - RMSE: 5.4456\n",
      "Epoch 145/200\n",
      "58/58 [==============================] - 0s 2ms/step - loss: 29.7739 - RMSE: 5.4565\n",
      "Epoch 146/200\n",
      "58/58 [==============================] - 0s 1ms/step - loss: 29.2042 - RMSE: 5.4041\n",
      "Epoch 147/200\n",
      "58/58 [==============================] - 0s 2ms/step - loss: 31.2352 - RMSE: 5.5888\n",
      "Epoch 148/200\n",
      "58/58 [==============================] - 0s 2ms/step - loss: 31.1167 - RMSE: 5.5782\n",
      "Epoch 149/200\n",
      "58/58 [==============================] - 0s 2ms/step - loss: 30.3426 - RMSE: 5.5084\n",
      "Epoch 150/200\n",
      "58/58 [==============================] - 0s 1ms/step - loss: 27.8220 - RMSE: 5.2747\n",
      "Epoch 151/200\n",
      "58/58 [==============================] - 0s 2ms/step - loss: 27.5666 - RMSE: 5.2504\n",
      "Epoch 152/200\n",
      "58/58 [==============================] - 0s 2ms/step - loss: 29.7902 - RMSE: 5.4580\n",
      "Epoch 153/200\n",
      "58/58 [==============================] - 0s 2ms/step - loss: 31.3474 - RMSE: 5.5989\n",
      "Epoch 154/200\n",
      "58/58 [==============================] - 0s 2ms/step - loss: 31.4438 - RMSE: 5.6075\n",
      "Epoch 155/200\n",
      "58/58 [==============================] - 0s 1ms/step - loss: 28.0799 - RMSE: 5.2991\n",
      "Epoch 156/200\n",
      "58/58 [==============================] - 0s 2ms/step - loss: 29.4860 - RMSE: 5.4301\n",
      "Epoch 157/200\n",
      "58/58 [==============================] - 0s 2ms/step - loss: 30.4515 - RMSE: 5.5183\n",
      "Epoch 158/200\n",
      "58/58 [==============================] - 0s 2ms/step - loss: 30.6201 - RMSE: 5.5335\n",
      "Epoch 159/200\n",
      "58/58 [==============================] - 0s 2ms/step - loss: 28.1408 - RMSE: 5.3048\n",
      "Epoch 160/200\n",
      "58/58 [==============================] - 0s 2ms/step - loss: 28.7052 - RMSE: 5.3577\n",
      "Epoch 161/200\n",
      "58/58 [==============================] - 0s 1ms/step - loss: 28.4019 - RMSE: 5.3293\n",
      "Epoch 162/200\n",
      "58/58 [==============================] - 0s 2ms/step - loss: 27.3435 - RMSE: 5.2291\n",
      "Epoch 163/200\n",
      "58/58 [==============================] - 0s 2ms/step - loss: 30.5295 - RMSE: 5.5254\n",
      "Epoch 164/200\n",
      "58/58 [==============================] - 0s 2ms/step - loss: 29.7345 - RMSE: 5.4529\n",
      "Epoch 165/200\n",
      "58/58 [==============================] - 0s 2ms/step - loss: 28.6585 - RMSE: 5.3534\n",
      "Epoch 166/200\n",
      "58/58 [==============================] - 0s 1ms/step - loss: 29.2869 - RMSE: 5.4117\n",
      "Epoch 167/200\n",
      "58/58 [==============================] - 0s 1ms/step - loss: 29.5209 - RMSE: 5.4333\n",
      "Epoch 168/200\n"
     ]
    },
    {
     "name": "stdout",
     "output_type": "stream",
     "text": [
      "58/58 [==============================] - 0s 2ms/step - loss: 28.8747 - RMSE: 5.3735\n",
      "Epoch 169/200\n",
      "58/58 [==============================] - 0s 2ms/step - loss: 30.0568 - RMSE: 5.4824\n",
      "Epoch 170/200\n",
      "58/58 [==============================] - 0s 2ms/step - loss: 27.9767 - RMSE: 5.2893\n",
      "Epoch 171/200\n",
      "58/58 [==============================] - 0s 1ms/step - loss: 29.9739 - RMSE: 5.4748\n",
      "Epoch 172/200\n",
      "58/58 [==============================] - 0s 1ms/step - loss: 28.3960 - RMSE: 5.3288\n",
      "Epoch 173/200\n",
      "58/58 [==============================] - 0s 1ms/step - loss: 29.6619 - RMSE: 5.4463\n",
      "Epoch 174/200\n",
      "58/58 [==============================] - 0s 2ms/step - loss: 29.4481 - RMSE: 5.4266\n",
      "Epoch 175/200\n",
      "58/58 [==============================] - 0s 1ms/step - loss: 30.7651 - RMSE: 5.5466\n",
      "Epoch 176/200\n",
      "58/58 [==============================] - 0s 2ms/step - loss: 29.3800 - RMSE: 5.4203\n",
      "Epoch 177/200\n",
      "58/58 [==============================] - 0s 2ms/step - loss: 29.0353 - RMSE: 5.3884\n",
      "Epoch 178/200\n",
      "58/58 [==============================] - 0s 2ms/step - loss: 29.9326 - RMSE: 5.4711\n",
      "Epoch 179/200\n",
      "58/58 [==============================] - 0s 1ms/step - loss: 27.4987 - RMSE: 5.2439\n",
      "Epoch 180/200\n",
      "58/58 [==============================] - 0s 2ms/step - loss: 29.1320 - RMSE: 5.3974\n",
      "Epoch 181/200\n",
      "58/58 [==============================] - 0s 2ms/step - loss: 28.3588 - RMSE: 5.3253\n",
      "Epoch 182/200\n",
      "58/58 [==============================] - 0s 2ms/step - loss: 28.4963 - RMSE: 5.3382\n",
      "Epoch 183/200\n",
      "58/58 [==============================] - 0s 2ms/step - loss: 30.9290 - RMSE: 5.5614\n",
      "Epoch 184/200\n",
      "58/58 [==============================] - 0s 1ms/step - loss: 29.4363 - RMSE: 5.4255\n",
      "Epoch 185/200\n",
      "58/58 [==============================] - 0s 2ms/step - loss: 29.6408 - RMSE: 5.4443\n",
      "Epoch 186/200\n",
      "58/58 [==============================] - 0s 2ms/step - loss: 28.0615 - RMSE: 5.2973\n",
      "Epoch 187/200\n",
      "58/58 [==============================] - 0s 1ms/step - loss: 29.1305 - RMSE: 5.3973\n",
      "Epoch 188/200\n",
      "58/58 [==============================] - 0s 2ms/step - loss: 27.3526 - RMSE: 5.2300\n",
      "Epoch 189/200\n",
      "58/58 [==============================] - 0s 2ms/step - loss: 29.5021 - RMSE: 5.4316\n",
      "Epoch 190/200\n",
      "58/58 [==============================] - 0s 2ms/step - loss: 28.0127 - RMSE: 5.2927\n",
      "Epoch 191/200\n",
      "58/58 [==============================] - 0s 2ms/step - loss: 29.7505 - RMSE: 5.4544\n",
      "Epoch 192/200\n",
      "58/58 [==============================] - 0s 2ms/step - loss: 30.4137 - RMSE: 5.5149\n",
      "Epoch 193/200\n",
      "58/58 [==============================] - 0s 1ms/step - loss: 30.4783 - RMSE: 5.5207\n",
      "Epoch 194/200\n",
      "58/58 [==============================] - 0s 2ms/step - loss: 27.6077 - RMSE: 5.2543\n",
      "Epoch 195/200\n",
      "58/58 [==============================] - 0s 2ms/step - loss: 28.2904 - RMSE: 5.3189\n",
      "Epoch 196/200\n",
      "58/58 [==============================] - 0s 2ms/step - loss: 27.9785 - RMSE: 5.2895\n",
      "Epoch 197/200\n",
      "58/58 [==============================] - 0s 2ms/step - loss: 28.9120 - RMSE: 5.3770\n",
      "Epoch 198/200\n",
      "58/58 [==============================] - 0s 1ms/step - loss: 28.5577 - RMSE: 5.3439\n",
      "Epoch 199/200\n",
      "58/58 [==============================] - 0s 2ms/step - loss: 31.4140 - RMSE: 5.6048\n",
      "Epoch 200/200\n",
      "58/58 [==============================] - 0s 1ms/step - loss: 29.3491 - RMSE: 5.4175\n"
     ]
    },
    {
     "data": {
      "application/javascript": [
       "\n",
       "            setTimeout(function() {\n",
       "                var nbb_cell_id = 85;\n",
       "                var nbb_unformatted_code = \"set_seeds()\\nmodel = get_model(shape=(x_train.shape[-1]))\\nsc = StandardScaler()\\n\\nhistory = model.fit(\\n    sc.fit_transform(x_train),\\n    y_train,\\n    batch_size=batch_size,\\n    epochs=epochs,\\n    verbose=verbose,\\n)\";\n",
       "                var nbb_formatted_code = \"set_seeds()\\nmodel = get_model(shape=(x_train.shape[-1]))\\nsc = StandardScaler()\\n\\nhistory = model.fit(\\n    sc.fit_transform(x_train),\\n    y_train,\\n    batch_size=batch_size,\\n    epochs=epochs,\\n    verbose=verbose,\\n)\";\n",
       "                var nbb_cells = Jupyter.notebook.get_cells();\n",
       "                for (var i = 0; i < nbb_cells.length; ++i) {\n",
       "                    if (nbb_cells[i].input_prompt_number == nbb_cell_id) {\n",
       "                        if (nbb_cells[i].get_text() == nbb_unformatted_code) {\n",
       "                             nbb_cells[i].set_text(nbb_formatted_code);\n",
       "                        }\n",
       "                        break;\n",
       "                    }\n",
       "                }\n",
       "            }, 500);\n",
       "            "
      ],
      "text/plain": [
       "<IPython.core.display.Javascript object>"
      ]
     },
     "metadata": {},
     "output_type": "display_data"
    }
   ],
   "source": [
    "set_seeds()\n",
    "model = get_model(shape=(x_train.shape[-1]))\n",
    "sc = StandardScaler()\n",
    "\n",
    "history = model.fit(\n",
    "    sc.fit_transform(x_train),\n",
    "    y_train,\n",
    "    batch_size=batch_size,\n",
    "    epochs=epochs,\n",
    "    verbose=verbose,\n",
    ")"
   ]
  },
  {
   "cell_type": "code",
   "execution_count": 86,
   "metadata": {},
   "outputs": [
    {
     "data": {
      "text/plain": [
       "[<matplotlib.lines.Line2D at 0x7f5d27b53780>]"
      ]
     },
     "execution_count": 86,
     "metadata": {},
     "output_type": "execute_result"
    },
    {
     "data": {
      "image/png": "[encoded data removed]",
      "text/plain": [
       "<Figure size 432x288 with 1 Axes>"
      ]
     },
     "metadata": {
      "needs_background": "light"
     },
     "output_type": "display_data"
    },
    {
     "data": {
      "application/javascript": [
       "\n",
       "            setTimeout(function() {\n",
       "                var nbb_cell_id = 86;\n",
       "                var nbb_unformatted_code = \"plt.plot(history.history[\\\"RMSE\\\"])\";\n",
       "                var nbb_formatted_code = \"plt.plot(history.history[\\\"RMSE\\\"])\";\n",
       "                var nbb_cells = Jupyter.notebook.get_cells();\n",
       "                for (var i = 0; i < nbb_cells.length; ++i) {\n",
       "                    if (nbb_cells[i].input_prompt_number == nbb_cell_id) {\n",
       "                        if (nbb_cells[i].get_text() == nbb_unformatted_code) {\n",
       "                             nbb_cells[i].set_text(nbb_formatted_code);\n",
       "                        }\n",
       "                        break;\n",
       "                    }\n",
       "                }\n",
       "            }, 500);\n",
       "            "
      ],
      "text/plain": [
       "<IPython.core.display.Javascript object>"
      ]
     },
     "metadata": {},
     "output_type": "display_data"
    }
   ],
   "source": [
    "plt.plot(history.history[\"RMSE\"])"
   ]
  },
  {
   "cell_type": "code",
   "execution_count": 87,
   "metadata": {},
   "outputs": [
    {
     "name": "stdout",
     "output_type": "stream",
     "text": [
      "******\n",
      "[TRAIN]\n",
      "******\n",
      "RMSE: 3.300 (0.000)\n",
      "MAE: 2.687 (0.000)\n",
      "MAPE: 0.061 (0.000)\n",
      "R2: 0.405 (0.000)\n",
      "\n",
      "======================\n",
      "\n",
      "******\n",
      "[TEST]\n",
      "******\n",
      "RMSE: 3.664 (0.000)\n",
      "MAE: 3.152 (0.000)\n",
      "MAPE: 0.075 (0.000)\n",
      "R2: 0.418 (0.000)\n",
      "\n",
      "======================\n",
      "\n"
     ]
    },
    {
     "data": {
      "application/javascript": [
       "\n",
       "            setTimeout(function() {\n",
       "                var nbb_cell_id = 87;\n",
       "                var nbb_unformatted_code = \"y_train_pred = model.predict(sc.transform(x_train))\\ny_test_pred = model.predict(sc.transform(x_test))\\nscores = score_regression_metrics(y_train, y_train_pred, y_test, y_test_pred)\\nprint_scores(scores, METRICS, METRICS_DICT)\";\n",
       "                var nbb_formatted_code = \"y_train_pred = model.predict(sc.transform(x_train))\\ny_test_pred = model.predict(sc.transform(x_test))\\nscores = score_regression_metrics(y_train, y_train_pred, y_test, y_test_pred)\\nprint_scores(scores, METRICS, METRICS_DICT)\";\n",
       "                var nbb_cells = Jupyter.notebook.get_cells();\n",
       "                for (var i = 0; i < nbb_cells.length; ++i) {\n",
       "                    if (nbb_cells[i].input_prompt_number == nbb_cell_id) {\n",
       "                        if (nbb_cells[i].get_text() == nbb_unformatted_code) {\n",
       "                             nbb_cells[i].set_text(nbb_formatted_code);\n",
       "                        }\n",
       "                        break;\n",
       "                    }\n",
       "                }\n",
       "            }, 500);\n",
       "            "
      ],
      "text/plain": [
       "<IPython.core.display.Javascript object>"
      ]
     },
     "metadata": {},
     "output_type": "display_data"
    }
   ],
   "source": [
    "y_train_pred = model.predict(sc.transform(x_train))\n",
    "y_test_pred = model.predict(sc.transform(x_test))\n",
    "scores = score_regression_metrics(y_train, y_train_pred, y_test, y_test_pred)\n",
    "print_scores(scores, METRICS, METRICS_DICT)"
   ]
  },
  {
   "cell_type": "code",
   "execution_count": 88,
   "metadata": {},
   "outputs": [
    {
     "data": {
      "application/javascript": [
       "\n",
       "            setTimeout(function() {\n",
       "                var nbb_cell_id = 88;\n",
       "                var nbb_unformatted_code = \"model.save_weights(\\\"conv1d_weights.h5\\\")\";\n",
       "                var nbb_formatted_code = \"model.save_weights(\\\"conv1d_weights.h5\\\")\";\n",
       "                var nbb_cells = Jupyter.notebook.get_cells();\n",
       "                for (var i = 0; i < nbb_cells.length; ++i) {\n",
       "                    if (nbb_cells[i].input_prompt_number == nbb_cell_id) {\n",
       "                        if (nbb_cells[i].get_text() == nbb_unformatted_code) {\n",
       "                             nbb_cells[i].set_text(nbb_formatted_code);\n",
       "                        }\n",
       "                        break;\n",
       "                    }\n",
       "                }\n",
       "            }, 500);\n",
       "            "
      ],
      "text/plain": [
       "<IPython.core.display.Javascript object>"
      ]
     },
     "metadata": {},
     "output_type": "display_data"
    }
   ],
   "source": [
    "model.save_weights(\"conv1d_weights.h5\")"
   ]
  },
  {
   "cell_type": "markdown",
   "metadata": {},
   "source": [
    "# Fine Tuning"
   ]
  },
  {
   "cell_type": "markdown",
   "metadata": {},
   "source": [
    "# partner_iii"
   ]
  },
  {
   "cell_type": "code",
   "execution_count": 89,
   "metadata": {},
   "outputs": [
    {
     "data": {
      "application/javascript": [
       "\n",
       "            setTimeout(function() {\n",
       "                var nbb_cell_id = 89;\n",
       "                var nbb_unformatted_code = \"df_partner_iii = pd.read_csv(\\n    \\\"../../../data/interim/partner_iii/Dati CADD 2020-2022_with_fillna.csv\\\"\\n)\";\n",
       "                var nbb_formatted_code = \"df_partner_iii = pd.read_csv(\\n    \\\"../../../data/interim/partner_iii/Dati CADD 2020-2022_with_fillna.csv\\\"\\n)\";\n",
       "                var nbb_cells = Jupyter.notebook.get_cells();\n",
       "                for (var i = 0; i < nbb_cells.length; ++i) {\n",
       "                    if (nbb_cells[i].input_prompt_number == nbb_cell_id) {\n",
       "                        if (nbb_cells[i].get_text() == nbb_unformatted_code) {\n",
       "                             nbb_cells[i].set_text(nbb_formatted_code);\n",
       "                        }\n",
       "                        break;\n",
       "                    }\n",
       "                }\n",
       "            }, 500);\n",
       "            "
      ],
      "text/plain": [
       "<IPython.core.display.Javascript object>"
      ]
     },
     "metadata": {},
     "output_type": "display_data"
    }
   ],
   "source": [
    "df_partner_iii = pd.read_csv(\n",
    "    \"../../../data/interim/partner_iii/Dati CADD 2020-2022_with_fillna.csv\"\n",
    ")"
   ]
  },
  {
   "cell_type": "code",
   "execution_count": 90,
   "metadata": {},
   "outputs": [
    {
     "data": {
      "application/javascript": [
       "\n",
       "            setTimeout(function() {\n",
       "                var nbb_cell_id = 90;\n",
       "                var nbb_unformatted_code = \"y = df_partner_iii.pop(\\\"28d compressive strength (MPa)\\\")\\nx = df_partner_iii\\n\\nx_train, x_test, y_train, y_test = train_test_split(\\n    x, y, test_size=0.1, random_state=SEED, shuffle=False\\n)\";\n",
       "                var nbb_formatted_code = \"y = df_partner_iii.pop(\\\"28d compressive strength (MPa)\\\")\\nx = df_partner_iii\\n\\nx_train, x_test, y_train, y_test = train_test_split(\\n    x, y, test_size=0.1, random_state=SEED, shuffle=False\\n)\";\n",
       "                var nbb_cells = Jupyter.notebook.get_cells();\n",
       "                for (var i = 0; i < nbb_cells.length; ++i) {\n",
       "                    if (nbb_cells[i].input_prompt_number == nbb_cell_id) {\n",
       "                        if (nbb_cells[i].get_text() == nbb_unformatted_code) {\n",
       "                             nbb_cells[i].set_text(nbb_formatted_code);\n",
       "                        }\n",
       "                        break;\n",
       "                    }\n",
       "                }\n",
       "            }, 500);\n",
       "            "
      ],
      "text/plain": [
       "<IPython.core.display.Javascript object>"
      ]
     },
     "metadata": {},
     "output_type": "display_data"
    }
   ],
   "source": [
    "y = df_partner_iii.pop(\"28d compressive strength (MPa)\")\n",
    "x = df_partner_iii\n",
    "\n",
    "x_train, x_test, y_train, y_test = train_test_split(\n",
    "    x, y, test_size=0.1, random_state=SEED, shuffle=False\n",
    ")"
   ]
  },
  {
   "cell_type": "code",
   "execution_count": 91,
   "metadata": {},
   "outputs": [
    {
     "data": {
      "application/javascript": [
       "\n",
       "            setTimeout(function() {\n",
       "                var nbb_cell_id = 91;\n",
       "                var nbb_unformatted_code = \"set_seeds()\\n\\nmodel_2 = get_model(include_top=False, shape=(x.shape[-1]))\\nmodel_2.load_weights(\\\"conv1d_weights.h5\\\", by_name=True)\\nmodel_2.trainable = True\\n\\nflat1 = tf.keras.layers.Flatten(name=\\\"Flatten2\\\")(model_2.layers[-1].output)\\nclass1 = tf.keras.layers.Dense(256, activation=\\\"relu\\\")(flat1)\\noutputs = tf.keras.layers.Dense(1, activation=\\\"linear\\\")(class1)\\nmodel = tf.keras.Model(model_2.inputs, outputs)\\n\\nmodel.compile(\\n    optimizer=tf.keras.optimizers.Adam(learning_rate=1e-3),\\n    loss=\\\"mse\\\",\\n    metrics=[tf.keras.metrics.RootMeanSquaredError(name=\\\"RMSE\\\")],\\n)\";\n",
       "                var nbb_formatted_code = \"set_seeds()\\n\\nmodel_2 = get_model(include_top=False, shape=(x.shape[-1]))\\nmodel_2.load_weights(\\\"conv1d_weights.h5\\\", by_name=True)\\nmodel_2.trainable = True\\n\\nflat1 = tf.keras.layers.Flatten(name=\\\"Flatten2\\\")(model_2.layers[-1].output)\\nclass1 = tf.keras.layers.Dense(256, activation=\\\"relu\\\")(flat1)\\noutputs = tf.keras.layers.Dense(1, activation=\\\"linear\\\")(class1)\\nmodel = tf.keras.Model(model_2.inputs, outputs)\\n\\nmodel.compile(\\n    optimizer=tf.keras.optimizers.Adam(learning_rate=1e-3),\\n    loss=\\\"mse\\\",\\n    metrics=[tf.keras.metrics.RootMeanSquaredError(name=\\\"RMSE\\\")],\\n)\";\n",
       "                var nbb_cells = Jupyter.notebook.get_cells();\n",
       "                for (var i = 0; i < nbb_cells.length; ++i) {\n",
       "                    if (nbb_cells[i].input_prompt_number == nbb_cell_id) {\n",
       "                        if (nbb_cells[i].get_text() == nbb_unformatted_code) {\n",
       "                             nbb_cells[i].set_text(nbb_formatted_code);\n",
       "                        }\n",
       "                        break;\n",
       "                    }\n",
       "                }\n",
       "            }, 500);\n",
       "            "
      ],
      "text/plain": [
       "<IPython.core.display.Javascript object>"
      ]
     },
     "metadata": {},
     "output_type": "display_data"
    }
   ],
   "source": [
    "set_seeds()\n",
    "\n",
    "model_2 = get_model(include_top=False, shape=(x.shape[-1]))\n",
    "model_2.load_weights(\"conv1d_weights.h5\", by_name=True)\n",
    "model_2.trainable = True\n",
    "\n",
    "flat1 = tf.keras.layers.Flatten(name=\"Flatten2\")(model_2.layers[-1].output)\n",
    "class1 = tf.keras.layers.Dense(256, activation=\"relu\")(flat1)\n",
    "outputs = tf.keras.layers.Dense(1, activation=\"linear\")(class1)\n",
    "model = tf.keras.Model(model_2.inputs, outputs)\n",
    "\n",
    "model.compile(\n",
    "    optimizer=tf.keras.optimizers.Adam(learning_rate=1e-3),\n",
    "    loss=\"mse\",\n",
    "    metrics=[tf.keras.metrics.RootMeanSquaredError(name=\"RMSE\")],\n",
    ")"
   ]
  },
  {
   "cell_type": "code",
   "execution_count": 92,
   "metadata": {},
   "outputs": [
    {
     "name": "stdout",
     "output_type": "stream",
     "text": [
      "Epoch 1/200\n",
      "14/14 [==============================] - 0s 2ms/step - loss: 2780.1824 - RMSE: 52.7274\n",
      "Epoch 2/200\n",
      "14/14 [==============================] - 0s 2ms/step - loss: 2264.4934 - RMSE: 47.5867\n",
      "Epoch 3/200\n",
      "14/14 [==============================] - 0s 2ms/step - loss: 785.9670 - RMSE: 28.0351\n",
      "Epoch 4/200\n",
      "14/14 [==============================] - 0s 2ms/step - loss: 281.7068 - RMSE: 16.7841\n",
      "Epoch 5/200\n",
      "14/14 [==============================] - 0s 2ms/step - loss: 229.6888 - RMSE: 15.1555\n",
      "Epoch 6/200\n",
      "14/14 [==============================] - 0s 2ms/step - loss: 168.3749 - RMSE: 12.9759\n",
      "Epoch 7/200\n",
      "14/14 [==============================] - 0s 2ms/step - loss: 133.1390 - RMSE: 11.5386\n",
      "Epoch 8/200\n",
      "14/14 [==============================] - 0s 2ms/step - loss: 113.2314 - RMSE: 10.6410\n",
      "Epoch 9/200\n",
      "14/14 [==============================] - 0s 2ms/step - loss: 96.2452 - RMSE: 9.8105\n",
      "Epoch 10/200\n",
      "14/14 [==============================] - 0s 2ms/step - loss: 83.7903 - RMSE: 9.1537\n",
      "Epoch 11/200\n",
      "14/14 [==============================] - 0s 2ms/step - loss: 72.7421 - RMSE: 8.5289\n",
      "Epoch 12/200\n",
      "14/14 [==============================] - 0s 2ms/step - loss: 63.9975 - RMSE: 7.9998\n",
      "Epoch 13/200\n",
      "14/14 [==============================] - 0s 2ms/step - loss: 57.7138 - RMSE: 7.5970\n",
      "Epoch 14/200\n",
      "14/14 [==============================] - 0s 2ms/step - loss: 52.7434 - RMSE: 7.2625\n",
      "Epoch 15/200\n",
      "14/14 [==============================] - 0s 2ms/step - loss: 46.4778 - RMSE: 6.8175\n",
      "Epoch 16/200\n",
      "14/14 [==============================] - 0s 2ms/step - loss: 44.0196 - RMSE: 6.6347\n",
      "Epoch 17/200\n",
      "14/14 [==============================] - 0s 2ms/step - loss: 39.6042 - RMSE: 6.2932\n",
      "Epoch 18/200\n",
      "14/14 [==============================] - 0s 2ms/step - loss: 36.1718 - RMSE: 6.0143\n",
      "Epoch 19/200\n",
      "14/14 [==============================] - 0s 2ms/step - loss: 33.3785 - RMSE: 5.7774\n",
      "Epoch 20/200\n",
      "14/14 [==============================] - 0s 2ms/step - loss: 31.0351 - RMSE: 5.5709\n",
      "Epoch 21/200\n",
      "14/14 [==============================] - 0s 2ms/step - loss: 29.8307 - RMSE: 5.4618\n",
      "Epoch 22/200\n",
      "14/14 [==============================] - 0s 2ms/step - loss: 28.1751 - RMSE: 5.3080\n",
      "Epoch 23/200\n",
      "14/14 [==============================] - 0s 2ms/step - loss: 27.0924 - RMSE: 5.2050\n",
      "Epoch 24/200\n",
      "14/14 [==============================] - 0s 2ms/step - loss: 25.4605 - RMSE: 5.0458\n",
      "Epoch 25/200\n",
      "14/14 [==============================] - 0s 2ms/step - loss: 24.5191 - RMSE: 4.9517\n",
      "Epoch 26/200\n",
      "14/14 [==============================] - 0s 2ms/step - loss: 24.0257 - RMSE: 4.9016\n",
      "Epoch 27/200\n",
      "14/14 [==============================] - 0s 2ms/step - loss: 23.1537 - RMSE: 4.8118\n",
      "Epoch 28/200\n",
      "14/14 [==============================] - 0s 2ms/step - loss: 23.3324 - RMSE: 4.8304\n",
      "Epoch 29/200\n",
      "14/14 [==============================] - 0s 2ms/step - loss: 23.4310 - RMSE: 4.8406\n",
      "Epoch 30/200\n",
      "14/14 [==============================] - 0s 2ms/step - loss: 22.2122 - RMSE: 4.7130\n",
      "Epoch 31/200\n",
      "14/14 [==============================] - 0s 2ms/step - loss: 22.1170 - RMSE: 4.7029\n",
      "Epoch 32/200\n",
      "14/14 [==============================] - 0s 2ms/step - loss: 22.5630 - RMSE: 4.7501\n",
      "Epoch 33/200\n",
      "14/14 [==============================] - 0s 2ms/step - loss: 21.5474 - RMSE: 4.6419\n",
      "Epoch 34/200\n",
      "14/14 [==============================] - 0s 2ms/step - loss: 21.2721 - RMSE: 4.6122\n",
      "Epoch 35/200\n",
      "14/14 [==============================] - 0s 2ms/step - loss: 22.2459 - RMSE: 4.7166\n",
      "Epoch 36/200\n",
      "14/14 [==============================] - 0s 2ms/step - loss: 21.7642 - RMSE: 4.6652\n",
      "Epoch 37/200\n",
      "14/14 [==============================] - 0s 2ms/step - loss: 20.9050 - RMSE: 4.5722\n",
      "Epoch 38/200\n",
      "14/14 [==============================] - 0s 2ms/step - loss: 21.6443 - RMSE: 4.6523\n",
      "Epoch 39/200\n",
      "14/14 [==============================] - 0s 2ms/step - loss: 22.9362 - RMSE: 4.7892\n",
      "Epoch 40/200\n",
      "14/14 [==============================] - 0s 2ms/step - loss: 22.6356 - RMSE: 4.7577\n",
      "Epoch 41/200\n",
      "14/14 [==============================] - 0s 2ms/step - loss: 22.7337 - RMSE: 4.7680\n",
      "Epoch 42/200\n",
      "14/14 [==============================] - 0s 2ms/step - loss: 21.8816 - RMSE: 4.6778\n",
      "Epoch 43/200\n",
      "14/14 [==============================] - 0s 2ms/step - loss: 20.7853 - RMSE: 4.5591\n",
      "Epoch 44/200\n",
      "14/14 [==============================] - 0s 2ms/step - loss: 21.3738 - RMSE: 4.6232\n",
      "Epoch 45/200\n",
      "14/14 [==============================] - 0s 2ms/step - loss: 20.2284 - RMSE: 4.4976\n",
      "Epoch 46/200\n",
      "14/14 [==============================] - 0s 2ms/step - loss: 20.2025 - RMSE: 4.4947\n",
      "Epoch 47/200\n",
      "14/14 [==============================] - 0s 2ms/step - loss: 19.8919 - RMSE: 4.4600\n",
      "Epoch 48/200\n",
      "14/14 [==============================] - 0s 2ms/step - loss: 20.6807 - RMSE: 4.5476\n",
      "Epoch 49/200\n",
      "14/14 [==============================] - 0s 2ms/step - loss: 20.1788 - RMSE: 4.4921\n",
      "Epoch 50/200\n",
      "14/14 [==============================] - 0s 2ms/step - loss: 19.8116 - RMSE: 4.4510\n",
      "Epoch 51/200\n",
      "14/14 [==============================] - 0s 1ms/step - loss: 20.8460 - RMSE: 4.5657\n",
      "Epoch 52/200\n",
      "14/14 [==============================] - 0s 2ms/step - loss: 21.3027 - RMSE: 4.6155\n",
      "Epoch 53/200\n",
      "14/14 [==============================] - 0s 2ms/step - loss: 21.0349 - RMSE: 4.5864\n",
      "Epoch 54/200\n",
      "14/14 [==============================] - 0s 2ms/step - loss: 21.4340 - RMSE: 4.6297\n",
      "Epoch 55/200\n",
      "14/14 [==============================] - 0s 2ms/step - loss: 20.4274 - RMSE: 4.5197\n",
      "Epoch 56/200\n",
      "14/14 [==============================] - 0s 2ms/step - loss: 21.0971 - RMSE: 4.5932\n",
      "Epoch 57/200\n",
      "14/14 [==============================] - 0s 2ms/step - loss: 18.9949 - RMSE: 4.3583\n",
      "Epoch 58/200\n",
      "14/14 [==============================] - 0s 2ms/step - loss: 19.4423 - RMSE: 4.4093\n",
      "Epoch 59/200\n",
      "14/14 [==============================] - 0s 2ms/step - loss: 20.2100 - RMSE: 4.4956\n",
      "Epoch 60/200\n",
      "14/14 [==============================] - 0s 2ms/step - loss: 20.1225 - RMSE: 4.4858\n",
      "Epoch 61/200\n",
      "14/14 [==============================] - 0s 1ms/step - loss: 20.1729 - RMSE: 4.4914\n",
      "Epoch 62/200\n",
      "14/14 [==============================] - 0s 2ms/step - loss: 20.3963 - RMSE: 4.5162\n",
      "Epoch 63/200\n",
      "14/14 [==============================] - 0s 2ms/step - loss: 20.4032 - RMSE: 4.5170\n",
      "Epoch 64/200\n",
      "14/14 [==============================] - 0s 2ms/step - loss: 20.8511 - RMSE: 4.5663\n",
      "Epoch 65/200\n",
      "14/14 [==============================] - 0s 2ms/step - loss: 19.0291 - RMSE: 4.3622\n",
      "Epoch 66/200\n",
      "14/14 [==============================] - 0s 2ms/step - loss: 19.4436 - RMSE: 4.4095\n",
      "Epoch 67/200\n",
      "14/14 [==============================] - 0s 2ms/step - loss: 19.1013 - RMSE: 4.3705\n",
      "Epoch 68/200\n",
      "14/14 [==============================] - 0s 2ms/step - loss: 18.9923 - RMSE: 4.3580\n",
      "Epoch 69/200\n",
      "14/14 [==============================] - 0s 2ms/step - loss: 18.7708 - RMSE: 4.3325\n",
      "Epoch 70/200\n",
      "14/14 [==============================] - 0s 2ms/step - loss: 19.3450 - RMSE: 4.3983\n",
      "Epoch 71/200\n",
      "14/14 [==============================] - 0s 2ms/step - loss: 19.6216 - RMSE: 4.4296\n",
      "Epoch 72/200\n",
      "14/14 [==============================] - 0s 2ms/step - loss: 19.0707 - RMSE: 4.3670\n",
      "Epoch 73/200\n",
      "14/14 [==============================] - 0s 2ms/step - loss: 18.9180 - RMSE: 4.3495\n",
      "Epoch 74/200\n",
      "14/14 [==============================] - 0s 2ms/step - loss: 19.2161 - RMSE: 4.3836\n",
      "Epoch 75/200\n",
      "14/14 [==============================] - 0s 2ms/step - loss: 20.3944 - RMSE: 4.5160\n",
      "Epoch 76/200\n",
      "14/14 [==============================] - 0s 2ms/step - loss: 19.6245 - RMSE: 4.4300\n",
      "Epoch 77/200\n",
      "14/14 [==============================] - 0s 2ms/step - loss: 19.6249 - RMSE: 4.4300\n",
      "Epoch 78/200\n",
      "14/14 [==============================] - 0s 2ms/step - loss: 18.9652 - RMSE: 4.3549\n",
      "Epoch 79/200\n",
      "14/14 [==============================] - 0s 2ms/step - loss: 20.7104 - RMSE: 4.5509\n",
      "Epoch 80/200\n",
      "14/14 [==============================] - 0s 2ms/step - loss: 21.3882 - RMSE: 4.6247\n",
      "Epoch 81/200\n",
      "14/14 [==============================] - 0s 2ms/step - loss: 19.4493 - RMSE: 4.4101\n",
      "Epoch 82/200\n",
      "14/14 [==============================] - 0s 2ms/step - loss: 18.5224 - RMSE: 4.3038\n",
      "Epoch 83/200\n",
      "14/14 [==============================] - 0s 2ms/step - loss: 19.3708 - RMSE: 4.4012\n",
      "Epoch 84/200\n",
      "14/14 [==============================] - 0s 1ms/step - loss: 19.4873 - RMSE: 4.4144\n",
      "Epoch 85/200\n"
     ]
    },
    {
     "name": "stdout",
     "output_type": "stream",
     "text": [
      "14/14 [==============================] - 0s 2ms/step - loss: 19.3701 - RMSE: 4.4011\n",
      "Epoch 86/200\n",
      "14/14 [==============================] - 0s 2ms/step - loss: 19.1525 - RMSE: 4.3764\n",
      "Epoch 87/200\n",
      "14/14 [==============================] - 0s 2ms/step - loss: 18.9944 - RMSE: 4.3583\n",
      "Epoch 88/200\n",
      "14/14 [==============================] - 0s 2ms/step - loss: 19.4135 - RMSE: 4.4061\n",
      "Epoch 89/200\n",
      "14/14 [==============================] - 0s 2ms/step - loss: 19.6833 - RMSE: 4.4366\n",
      "Epoch 90/200\n",
      "14/14 [==============================] - 0s 2ms/step - loss: 19.4652 - RMSE: 4.4119\n",
      "Epoch 91/200\n",
      "14/14 [==============================] - 0s 2ms/step - loss: 18.2263 - RMSE: 4.2692\n",
      "Epoch 92/200\n",
      "14/14 [==============================] - 0s 2ms/step - loss: 19.6537 - RMSE: 4.4333\n",
      "Epoch 93/200\n",
      "14/14 [==============================] - 0s 2ms/step - loss: 18.5290 - RMSE: 4.3045\n",
      "Epoch 94/200\n",
      "14/14 [==============================] - 0s 2ms/step - loss: 19.1924 - RMSE: 4.3809\n",
      "Epoch 95/200\n",
      "14/14 [==============================] - 0s 2ms/step - loss: 18.9823 - RMSE: 4.3569\n",
      "Epoch 96/200\n",
      "14/14 [==============================] - 0s 2ms/step - loss: 18.3980 - RMSE: 4.2893\n",
      "Epoch 97/200\n",
      "14/14 [==============================] - 0s 2ms/step - loss: 19.7183 - RMSE: 4.4405\n",
      "Epoch 98/200\n",
      "14/14 [==============================] - 0s 2ms/step - loss: 18.7989 - RMSE: 4.3358\n",
      "Epoch 99/200\n",
      "14/14 [==============================] - 0s 2ms/step - loss: 20.0597 - RMSE: 4.4788\n",
      "Epoch 100/200\n",
      "14/14 [==============================] - 0s 2ms/step - loss: 20.4662 - RMSE: 4.5240\n",
      "Epoch 101/200\n",
      "14/14 [==============================] - 0s 2ms/step - loss: 19.1821 - RMSE: 4.3797\n",
      "Epoch 102/200\n",
      "14/14 [==============================] - 0s 2ms/step - loss: 18.2426 - RMSE: 4.2711\n",
      "Epoch 103/200\n",
      "14/14 [==============================] - 0s 2ms/step - loss: 18.7428 - RMSE: 4.3293\n",
      "Epoch 104/200\n",
      "14/14 [==============================] - 0s 2ms/step - loss: 18.2281 - RMSE: 4.2694\n",
      "Epoch 105/200\n",
      "14/14 [==============================] - 0s 2ms/step - loss: 19.7784 - RMSE: 4.4473\n",
      "Epoch 106/200\n",
      "14/14 [==============================] - 0s 2ms/step - loss: 18.3201 - RMSE: 4.2802\n",
      "Epoch 107/200\n",
      "14/14 [==============================] - ETA: 0s - loss: 10.8199 - RMSE: 3.289 - 0s 2ms/step - loss: 19.7497 - RMSE: 4.4441\n",
      "Epoch 108/200\n",
      "14/14 [==============================] - 0s 2ms/step - loss: 20.9827 - RMSE: 4.5807\n",
      "Epoch 109/200\n",
      "14/14 [==============================] - 0s 2ms/step - loss: 20.0595 - RMSE: 4.4788\n",
      "Epoch 110/200\n",
      "14/14 [==============================] - 0s 2ms/step - loss: 20.5973 - RMSE: 4.5384\n",
      "Epoch 111/200\n",
      "14/14 [==============================] - 0s 2ms/step - loss: 19.3814 - RMSE: 4.4024\n",
      "Epoch 112/200\n",
      "14/14 [==============================] - 0s 2ms/step - loss: 19.1498 - RMSE: 4.3760\n",
      "Epoch 113/200\n",
      "14/14 [==============================] - 0s 2ms/step - loss: 19.1617 - RMSE: 4.3774\n",
      "Epoch 114/200\n",
      "14/14 [==============================] - 0s 2ms/step - loss: 18.9440 - RMSE: 4.3525\n",
      "Epoch 115/200\n",
      "14/14 [==============================] - 0s 2ms/step - loss: 18.2971 - RMSE: 4.2775\n",
      "Epoch 116/200\n",
      "14/14 [==============================] - 0s 2ms/step - loss: 20.0081 - RMSE: 4.4730\n",
      "Epoch 117/200\n",
      "14/14 [==============================] - 0s 2ms/step - loss: 22.2327 - RMSE: 4.7152\n",
      "Epoch 118/200\n",
      "14/14 [==============================] - 0s 2ms/step - loss: 20.2999 - RMSE: 4.5055\n",
      "Epoch 119/200\n",
      "14/14 [==============================] - 0s 2ms/step - loss: 18.8043 - RMSE: 4.3364\n",
      "Epoch 120/200\n",
      "14/14 [==============================] - 0s 2ms/step - loss: 18.3176 - RMSE: 4.2799\n",
      "Epoch 121/200\n",
      "14/14 [==============================] - 0s 2ms/step - loss: 19.2249 - RMSE: 4.3846\n",
      "Epoch 122/200\n",
      "14/14 [==============================] - 0s 2ms/step - loss: 18.7091 - RMSE: 4.3254\n",
      "Epoch 123/200\n",
      "14/14 [==============================] - 0s 1ms/step - loss: 18.3533 - RMSE: 4.2841\n",
      "Epoch 124/200\n",
      "14/14 [==============================] - 0s 2ms/step - loss: 18.9353 - RMSE: 4.3515\n",
      "Epoch 125/200\n",
      "14/14 [==============================] - 0s 2ms/step - loss: 20.1997 - RMSE: 4.4944\n",
      "Epoch 126/200\n",
      "14/14 [==============================] - 0s 2ms/step - loss: 18.8237 - RMSE: 4.3386\n",
      "Epoch 127/200\n",
      "14/14 [==============================] - 0s 2ms/step - loss: 18.8694 - RMSE: 4.3439\n",
      "Epoch 128/200\n",
      "14/14 [==============================] - 0s 2ms/step - loss: 19.0466 - RMSE: 4.3642\n",
      "Epoch 129/200\n",
      "14/14 [==============================] - 0s 2ms/step - loss: 19.4806 - RMSE: 4.4137\n",
      "Epoch 130/200\n",
      "14/14 [==============================] - 0s 2ms/step - loss: 18.0204 - RMSE: 4.2450\n",
      "Epoch 131/200\n",
      "14/14 [==============================] - 0s 2ms/step - loss: 17.5970 - RMSE: 4.1949\n",
      "Epoch 132/200\n",
      "14/14 [==============================] - 0s 2ms/step - loss: 17.8102 - RMSE: 4.2202\n",
      "Epoch 133/200\n",
      "14/14 [==============================] - 0s 2ms/step - loss: 18.0811 - RMSE: 4.2522\n",
      "Epoch 134/200\n",
      "14/14 [==============================] - 0s 2ms/step - loss: 18.2107 - RMSE: 4.2674\n",
      "Epoch 135/200\n",
      "14/14 [==============================] - 0s 2ms/step - loss: 20.6968 - RMSE: 4.5494\n",
      "Epoch 136/200\n",
      "14/14 [==============================] - 0s 2ms/step - loss: 20.0955 - RMSE: 4.4828\n",
      "Epoch 137/200\n",
      "14/14 [==============================] - 0s 2ms/step - loss: 18.0908 - RMSE: 4.2533\n",
      "Epoch 138/200\n",
      "14/14 [==============================] - 0s 2ms/step - loss: 17.3963 - RMSE: 4.1709\n",
      "Epoch 139/200\n",
      "14/14 [==============================] - 0s 2ms/step - loss: 17.5678 - RMSE: 4.1914\n",
      "Epoch 140/200\n",
      "14/14 [==============================] - 0s 2ms/step - loss: 17.8373 - RMSE: 4.2234\n",
      "Epoch 141/200\n",
      "14/14 [==============================] - 0s 2ms/step - loss: 17.5746 - RMSE: 4.1922\n",
      "Epoch 142/200\n",
      "14/14 [==============================] - 0s 2ms/step - loss: 18.3655 - RMSE: 4.2855\n",
      "Epoch 143/200\n",
      "14/14 [==============================] - 0s 2ms/step - loss: 18.0820 - RMSE: 4.2523\n",
      "Epoch 144/200\n",
      "14/14 [==============================] - 0s 1ms/step - loss: 17.4639 - RMSE: 4.1790\n",
      "Epoch 145/200\n",
      "14/14 [==============================] - 0s 2ms/step - loss: 17.8975 - RMSE: 4.2305\n",
      "Epoch 146/200\n",
      "14/14 [==============================] - 0s 2ms/step - loss: 18.0669 - RMSE: 4.2505\n",
      "Epoch 147/200\n",
      "14/14 [==============================] - 0s 2ms/step - loss: 17.5891 - RMSE: 4.1939\n",
      "Epoch 148/200\n",
      "14/14 [==============================] - 0s 2ms/step - loss: 18.2105 - RMSE: 4.2674\n",
      "Epoch 149/200\n",
      "14/14 [==============================] - 0s 2ms/step - loss: 18.6581 - RMSE: 4.3195\n",
      "Epoch 150/200\n",
      "14/14 [==============================] - 0s 2ms/step - loss: 18.2310 - RMSE: 4.2698\n",
      "Epoch 151/200\n",
      "14/14 [==============================] - 0s 2ms/step - loss: 17.4722 - RMSE: 4.1800\n",
      "Epoch 152/200\n",
      "14/14 [==============================] - 0s 1ms/step - loss: 17.7266 - RMSE: 4.2103\n",
      "Epoch 153/200\n",
      "14/14 [==============================] - 0s 2ms/step - loss: 17.4163 - RMSE: 4.1733\n",
      "Epoch 154/200\n",
      "14/14 [==============================] - 0s 2ms/step - loss: 18.1684 - RMSE: 4.2624\n",
      "Epoch 155/200\n",
      "14/14 [==============================] - 0s 2ms/step - loss: 17.6577 - RMSE: 4.2021\n",
      "Epoch 156/200\n",
      "14/14 [==============================] - 0s 2ms/step - loss: 17.8121 - RMSE: 4.2204\n",
      "Epoch 157/200\n",
      "14/14 [==============================] - 0s 2ms/step - loss: 18.9624 - RMSE: 4.3546\n",
      "Epoch 158/200\n",
      "14/14 [==============================] - 0s 2ms/step - loss: 18.5620 - RMSE: 4.3084\n",
      "Epoch 159/200\n",
      "14/14 [==============================] - 0s 2ms/step - loss: 18.2010 - RMSE: 4.2663\n",
      "Epoch 160/200\n",
      "14/14 [==============================] - 0s 2ms/step - loss: 19.2131 - RMSE: 4.3833\n",
      "Epoch 161/200\n",
      "14/14 [==============================] - 0s 2ms/step - loss: 17.9973 - RMSE: 4.2423\n",
      "Epoch 162/200\n",
      "14/14 [==============================] - 0s 2ms/step - loss: 17.3312 - RMSE: 4.1631\n",
      "Epoch 163/200\n",
      "14/14 [==============================] - 0s 2ms/step - loss: 18.1937 - RMSE: 4.2654\n",
      "Epoch 164/200\n",
      "14/14 [==============================] - 0s 2ms/step - loss: 17.4121 - RMSE: 4.1728\n",
      "Epoch 165/200\n",
      "14/14 [==============================] - 0s 2ms/step - loss: 16.9158 - RMSE: 4.1129\n",
      "Epoch 166/200\n",
      "14/14 [==============================] - 0s 2ms/step - loss: 16.9855 - RMSE: 4.1213\n",
      "Epoch 167/200\n",
      "14/14 [==============================] - 0s 2ms/step - loss: 16.8117 - RMSE: 4.1002\n",
      "Epoch 168/200\n"
     ]
    },
    {
     "name": "stdout",
     "output_type": "stream",
     "text": [
      "14/14 [==============================] - 0s 2ms/step - loss: 17.4450 - RMSE: 4.1767\n",
      "Epoch 169/200\n",
      "14/14 [==============================] - 0s 2ms/step - loss: 19.4859 - RMSE: 4.4143\n",
      "Epoch 170/200\n",
      "14/14 [==============================] - 0s 2ms/step - loss: 18.2793 - RMSE: 4.2754\n",
      "Epoch 171/200\n",
      "14/14 [==============================] - 0s 2ms/step - loss: 17.3014 - RMSE: 4.1595\n",
      "Epoch 172/200\n",
      "14/14 [==============================] - 0s 2ms/step - loss: 17.6924 - RMSE: 4.2062\n",
      "Epoch 173/200\n",
      "14/14 [==============================] - 0s 2ms/step - loss: 18.5178 - RMSE: 4.3032\n",
      "Epoch 174/200\n",
      "14/14 [==============================] - 0s 2ms/step - loss: 17.2816 - RMSE: 4.1571\n",
      "Epoch 175/200\n",
      "14/14 [==============================] - 0s 2ms/step - loss: 17.0076 - RMSE: 4.1240\n",
      "Epoch 176/200\n",
      "14/14 [==============================] - 0s 2ms/step - loss: 17.9831 - RMSE: 4.2406\n",
      "Epoch 177/200\n",
      "14/14 [==============================] - 0s 2ms/step - loss: 19.0949 - RMSE: 4.3698\n",
      "Epoch 178/200\n",
      "14/14 [==============================] - 0s 2ms/step - loss: 18.9726 - RMSE: 4.3558\n",
      "Epoch 179/200\n",
      "14/14 [==============================] - 0s 2ms/step - loss: 18.6733 - RMSE: 4.3213\n",
      "Epoch 180/200\n",
      "14/14 [==============================] - 0s 2ms/step - loss: 16.8340 - RMSE: 4.1029\n",
      "Epoch 181/200\n",
      "14/14 [==============================] - 0s 2ms/step - loss: 17.2285 - RMSE: 4.1507\n",
      "Epoch 182/200\n",
      "14/14 [==============================] - 0s 2ms/step - loss: 16.8866 - RMSE: 4.1093\n",
      "Epoch 183/200\n",
      "14/14 [==============================] - 0s 2ms/step - loss: 17.2652 - RMSE: 4.1551\n",
      "Epoch 184/200\n",
      "14/14 [==============================] - 0s 2ms/step - loss: 17.3573 - RMSE: 4.1662\n",
      "Epoch 185/200\n",
      "14/14 [==============================] - 0s 2ms/step - loss: 17.4482 - RMSE: 4.1771\n",
      "Epoch 186/200\n",
      "14/14 [==============================] - 0s 2ms/step - loss: 16.9959 - RMSE: 4.1226\n",
      "Epoch 187/200\n",
      "14/14 [==============================] - 0s 2ms/step - loss: 17.5552 - RMSE: 4.1899\n",
      "Epoch 188/200\n",
      "14/14 [==============================] - 0s 2ms/step - loss: 18.0668 - RMSE: 4.2505\n",
      "Epoch 189/200\n",
      "14/14 [==============================] - 0s 2ms/step - loss: 17.1618 - RMSE: 4.1427\n",
      "Epoch 190/200\n",
      "14/14 [==============================] - 0s 2ms/step - loss: 16.8765 - RMSE: 4.1081\n",
      "Epoch 191/200\n",
      "14/14 [==============================] - 0s 2ms/step - loss: 19.4790 - RMSE: 4.4135\n",
      "Epoch 192/200\n",
      "14/14 [==============================] - 0s 2ms/step - loss: 20.0567 - RMSE: 4.4785\n",
      "Epoch 193/200\n",
      "14/14 [==============================] - 0s 2ms/step - loss: 18.2770 - RMSE: 4.2752\n",
      "Epoch 194/200\n",
      "14/14 [==============================] - 0s 2ms/step - loss: 19.3886 - RMSE: 4.4032\n",
      "Epoch 195/200\n",
      "14/14 [==============================] - 0s 2ms/step - loss: 18.0908 - RMSE: 4.2533\n",
      "Epoch 196/200\n",
      "14/14 [==============================] - 0s 2ms/step - loss: 16.9811 - RMSE: 4.1208\n",
      "Epoch 197/200\n",
      "14/14 [==============================] - 0s 2ms/step - loss: 16.8697 - RMSE: 4.1073\n",
      "Epoch 198/200\n",
      "14/14 [==============================] - 0s 2ms/step - loss: 18.7878 - RMSE: 4.3345\n",
      "Epoch 199/200\n",
      "14/14 [==============================] - 0s 2ms/step - loss: 17.4306 - RMSE: 4.1750\n",
      "Epoch 200/200\n",
      "14/14 [==============================] - 0s 2ms/step - loss: 20.3938 - RMSE: 4.5159\n"
     ]
    },
    {
     "data": {
      "application/javascript": [
       "\n",
       "            setTimeout(function() {\n",
       "                var nbb_cell_id = 92;\n",
       "                var nbb_unformatted_code = \"sc = StandardScaler()\\nhistory = model.fit(\\n    sc.fit_transform(x_train),\\n    y_train,\\n    batch_size=batch_size,\\n    epochs=epochs,\\n    verbose=verbose,\\n)\";\n",
       "                var nbb_formatted_code = \"sc = StandardScaler()\\nhistory = model.fit(\\n    sc.fit_transform(x_train),\\n    y_train,\\n    batch_size=batch_size,\\n    epochs=epochs,\\n    verbose=verbose,\\n)\";\n",
       "                var nbb_cells = Jupyter.notebook.get_cells();\n",
       "                for (var i = 0; i < nbb_cells.length; ++i) {\n",
       "                    if (nbb_cells[i].input_prompt_number == nbb_cell_id) {\n",
       "                        if (nbb_cells[i].get_text() == nbb_unformatted_code) {\n",
       "                             nbb_cells[i].set_text(nbb_formatted_code);\n",
       "                        }\n",
       "                        break;\n",
       "                    }\n",
       "                }\n",
       "            }, 500);\n",
       "            "
      ],
      "text/plain": [
       "<IPython.core.display.Javascript object>"
      ]
     },
     "metadata": {},
     "output_type": "display_data"
    }
   ],
   "source": [
    "sc = StandardScaler()\n",
    "history = model.fit(\n",
    "    sc.fit_transform(x_train),\n",
    "    y_train,\n",
    "    batch_size=batch_size,\n",
    "    epochs=epochs,\n",
    "    verbose=verbose,\n",
    ")"
   ]
  },
  {
   "cell_type": "code",
   "execution_count": 93,
   "metadata": {},
   "outputs": [
    {
     "data": {
      "text/plain": [
       "[<matplotlib.lines.Line2D at 0x7f5d279ab3c8>]"
      ]
     },
     "execution_count": 93,
     "metadata": {},
     "output_type": "execute_result"
    },
    {
     "data": {
      "image/png": "[encoded data removed]",
      "text/plain": [
       "<Figure size 432x288 with 1 Axes>"
      ]
     },
     "metadata": {
      "needs_background": "light"
     },
     "output_type": "display_data"
    },
    {
     "data": {
      "application/javascript": [
       "\n",
       "            setTimeout(function() {\n",
       "                var nbb_cell_id = 93;\n",
       "                var nbb_unformatted_code = \"plt.plot(history.history[\\\"RMSE\\\"])\";\n",
       "                var nbb_formatted_code = \"plt.plot(history.history[\\\"RMSE\\\"])\";\n",
       "                var nbb_cells = Jupyter.notebook.get_cells();\n",
       "                for (var i = 0; i < nbb_cells.length; ++i) {\n",
       "                    if (nbb_cells[i].input_prompt_number == nbb_cell_id) {\n",
       "                        if (nbb_cells[i].get_text() == nbb_unformatted_code) {\n",
       "                             nbb_cells[i].set_text(nbb_formatted_code);\n",
       "                        }\n",
       "                        break;\n",
       "                    }\n",
       "                }\n",
       "            }, 500);\n",
       "            "
      ],
      "text/plain": [
       "<IPython.core.display.Javascript object>"
      ]
     },
     "metadata": {},
     "output_type": "display_data"
    }
   ],
   "source": [
    "plt.plot(history.history[\"RMSE\"])"
   ]
  },
  {
   "cell_type": "code",
   "execution_count": 94,
   "metadata": {},
   "outputs": [
    {
     "name": "stdout",
     "output_type": "stream",
     "text": [
      "******\n",
      "[TRAIN]\n",
      "******\n",
      "RMSE: 4.778 (0.000)\n",
      "MAE: 3.826 (0.000)\n",
      "MAPE: 0.072 (0.000)\n",
      "R2: 0.569 (0.000)\n",
      "\n",
      "======================\n",
      "\n",
      "******\n",
      "[TEST]\n",
      "******\n",
      "RMSE: 3.459 (0.000)\n",
      "MAE: 2.663 (0.000)\n",
      "MAPE: 0.051 (0.000)\n",
      "R2: 0.181 (0.000)\n",
      "\n",
      "======================\n",
      "\n"
     ]
    },
    {
     "data": {
      "application/javascript": [
       "\n",
       "            setTimeout(function() {\n",
       "                var nbb_cell_id = 94;\n",
       "                var nbb_unformatted_code = \"y_train_pred = model.predict(sc.transform(x_train))\\ny_test_pred = model.predict(sc.transform(x_test))\\n\\nscores = score_regression_metrics(y_train, y_train_pred, y_test, y_test_pred)\\nprint_scores(scores, METRICS, METRICS_DICT)\";\n",
       "                var nbb_formatted_code = \"y_train_pred = model.predict(sc.transform(x_train))\\ny_test_pred = model.predict(sc.transform(x_test))\\n\\nscores = score_regression_metrics(y_train, y_train_pred, y_test, y_test_pred)\\nprint_scores(scores, METRICS, METRICS_DICT)\";\n",
       "                var nbb_cells = Jupyter.notebook.get_cells();\n",
       "                for (var i = 0; i < nbb_cells.length; ++i) {\n",
       "                    if (nbb_cells[i].input_prompt_number == nbb_cell_id) {\n",
       "                        if (nbb_cells[i].get_text() == nbb_unformatted_code) {\n",
       "                             nbb_cells[i].set_text(nbb_formatted_code);\n",
       "                        }\n",
       "                        break;\n",
       "                    }\n",
       "                }\n",
       "            }, 500);\n",
       "            "
      ],
      "text/plain": [
       "<IPython.core.display.Javascript object>"
      ]
     },
     "metadata": {},
     "output_type": "display_data"
    }
   ],
   "source": [
    "y_train_pred = model.predict(sc.transform(x_train))\n",
    "y_test_pred = model.predict(sc.transform(x_test))\n",
    "\n",
    "scores = score_regression_metrics(y_train, y_train_pred, y_test, y_test_pred)\n",
    "print_scores(scores, METRICS, METRICS_DICT)"
   ]
  },
  {
   "cell_type": "markdown",
   "metadata": {},
   "source": [
    "# Intercement"
   ]
  },
  {
   "cell_type": "code",
   "execution_count": 95,
   "metadata": {},
   "outputs": [
    {
     "data": {
      "application/javascript": [
       "\n",
       "            setTimeout(function() {\n",
       "                var nbb_cell_id = 95;\n",
       "                var nbb_unformatted_code = \"df = pd.read_csv(\\\"../../../data/processed/Intercement/cement-shipping.csv\\\")\\ndf_no_cs = df.drop(\\n    [\\n        \\\"RC1\\\",\\n        \\\"RC3\\\",\\n        \\\"RC7\\\",\\n    ],\\n    axis=1,\\n).copy()\\n\\ny = df_no_cs.pop(\\\"RC28\\\")\\nx = df_no_cs.drop([\\\"Data\\\"], axis=1)\\nx.columns = x.columns.str.lower()\\nx = x[COMMON_FEATURES]\\n\\nx_train, x_test, y_train, y_test = train_test_split(\\n    x, y, test_size=0.2, random_state=SEED, shuffle=False\\n)\";\n",
       "                var nbb_formatted_code = \"df = pd.read_csv(\\\"../../../data/processed/Intercement/cement-shipping.csv\\\")\\ndf_no_cs = df.drop(\\n    [\\n        \\\"RC1\\\",\\n        \\\"RC3\\\",\\n        \\\"RC7\\\",\\n    ],\\n    axis=1,\\n).copy()\\n\\ny = df_no_cs.pop(\\\"RC28\\\")\\nx = df_no_cs.drop([\\\"Data\\\"], axis=1)\\nx.columns = x.columns.str.lower()\\nx = x[COMMON_FEATURES]\\n\\nx_train, x_test, y_train, y_test = train_test_split(\\n    x, y, test_size=0.2, random_state=SEED, shuffle=False\\n)\";\n",
       "                var nbb_cells = Jupyter.notebook.get_cells();\n",
       "                for (var i = 0; i < nbb_cells.length; ++i) {\n",
       "                    if (nbb_cells[i].input_prompt_number == nbb_cell_id) {\n",
       "                        if (nbb_cells[i].get_text() == nbb_unformatted_code) {\n",
       "                             nbb_cells[i].set_text(nbb_formatted_code);\n",
       "                        }\n",
       "                        break;\n",
       "                    }\n",
       "                }\n",
       "            }, 500);\n",
       "            "
      ],
      "text/plain": [
       "<IPython.core.display.Javascript object>"
      ]
     },
     "metadata": {},
     "output_type": "display_data"
    }
   ],
   "source": [
    "df = pd.read_csv(\"../../../data/processed/Intercement/cement-shipping.csv\")\n",
    "df_no_cs = df.drop(\n",
    "    [\n",
    "        \"RC1\",\n",
    "        \"RC3\",\n",
    "        \"RC7\",\n",
    "    ],\n",
    "    axis=1,\n",
    ").copy()\n",
    "\n",
    "y = df_no_cs.pop(\"RC28\")\n",
    "x = df_no_cs.drop([\"Data\"], axis=1)\n",
    "x.columns = x.columns.str.lower()\n",
    "x = x[COMMON_FEATURES]\n",
    "\n",
    "x_train, x_test, y_train, y_test = train_test_split(\n",
    "    x, y, test_size=0.2, random_state=SEED, shuffle=False\n",
    ")"
   ]
  },
  {
   "cell_type": "code",
   "execution_count": 96,
   "metadata": {},
   "outputs": [
    {
     "data": {
      "application/javascript": [
       "\n",
       "            setTimeout(function() {\n",
       "                var nbb_cell_id = 96;\n",
       "                var nbb_unformatted_code = \"set_seeds()\\n\\nmodel_2 = get_model(include_top=False, shape=(x.shape[-1]))\\nmodel_2.load_weights(\\\"conv1d_weights.h5\\\", by_name=True)\\nmodel_2.trainable = False\\n\\nflat1 = tf.keras.layers.Flatten()(model_2.layers[-1].output)\\nclass1 = tf.keras.layers.Dense(256, activation=\\\"relu\\\")(flat1)\\nclass1 = tf.keras.layers.Dense(128, activation=\\\"relu\\\")(class1)\\nclass1 = tf.keras.layers.Dense(64, activation=\\\"relu\\\")(class1)\\noutputs = tf.keras.layers.Dense(1, activation=\\\"linear\\\")(class1)\\nmodel = tf.keras.Model(model_2.inputs, outputs)\\n\\nmodel.compile(\\n    optimizer=tf.keras.optimizers.Adam(learning_rate=1e-3),\\n    loss=\\\"mse\\\",\\n    metrics=[tf.keras.metrics.RootMeanSquaredError(name=\\\"RMSE\\\")],\\n)\";\n",
       "                var nbb_formatted_code = \"set_seeds()\\n\\nmodel_2 = get_model(include_top=False, shape=(x.shape[-1]))\\nmodel_2.load_weights(\\\"conv1d_weights.h5\\\", by_name=True)\\nmodel_2.trainable = False\\n\\nflat1 = tf.keras.layers.Flatten()(model_2.layers[-1].output)\\nclass1 = tf.keras.layers.Dense(256, activation=\\\"relu\\\")(flat1)\\nclass1 = tf.keras.layers.Dense(128, activation=\\\"relu\\\")(class1)\\nclass1 = tf.keras.layers.Dense(64, activation=\\\"relu\\\")(class1)\\noutputs = tf.keras.layers.Dense(1, activation=\\\"linear\\\")(class1)\\nmodel = tf.keras.Model(model_2.inputs, outputs)\\n\\nmodel.compile(\\n    optimizer=tf.keras.optimizers.Adam(learning_rate=1e-3),\\n    loss=\\\"mse\\\",\\n    metrics=[tf.keras.metrics.RootMeanSquaredError(name=\\\"RMSE\\\")],\\n)\";\n",
       "                var nbb_cells = Jupyter.notebook.get_cells();\n",
       "                for (var i = 0; i < nbb_cells.length; ++i) {\n",
       "                    if (nbb_cells[i].input_prompt_number == nbb_cell_id) {\n",
       "                        if (nbb_cells[i].get_text() == nbb_unformatted_code) {\n",
       "                             nbb_cells[i].set_text(nbb_formatted_code);\n",
       "                        }\n",
       "                        break;\n",
       "                    }\n",
       "                }\n",
       "            }, 500);\n",
       "            "
      ],
      "text/plain": [
       "<IPython.core.display.Javascript object>"
      ]
     },
     "metadata": {},
     "output_type": "display_data"
    }
   ],
   "source": [
    "set_seeds()\n",
    "\n",
    "model_2 = get_model(include_top=False, shape=(x.shape[-1]))\n",
    "model_2.load_weights(\"conv1d_weights.h5\", by_name=True)\n",
    "model_2.trainable = False\n",
    "\n",
    "flat1 = tf.keras.layers.Flatten()(model_2.layers[-1].output)\n",
    "class1 = tf.keras.layers.Dense(256, activation=\"relu\")(flat1)\n",
    "class1 = tf.keras.layers.Dense(128, activation=\"relu\")(class1)\n",
    "class1 = tf.keras.layers.Dense(64, activation=\"relu\")(class1)\n",
    "outputs = tf.keras.layers.Dense(1, activation=\"linear\")(class1)\n",
    "model = tf.keras.Model(model_2.inputs, outputs)\n",
    "\n",
    "model.compile(\n",
    "    optimizer=tf.keras.optimizers.Adam(learning_rate=1e-3),\n",
    "    loss=\"mse\",\n",
    "    metrics=[tf.keras.metrics.RootMeanSquaredError(name=\"RMSE\")],\n",
    ")"
   ]
  },
  {
   "cell_type": "code",
   "execution_count": 97,
   "metadata": {},
   "outputs": [
    {
     "name": "stdout",
     "output_type": "stream",
     "text": [
      "Epoch 1/200\n",
      "139/139 [==============================] - 1s 1ms/step - loss: 851.5047 - RMSE: 29.1806\n",
      "Epoch 2/200\n",
      "139/139 [==============================] - 0s 2ms/step - loss: 40.2966 - RMSE: 6.3480\n",
      "Epoch 3/200\n",
      "139/139 [==============================] - 0s 1ms/step - loss: 39.9110 - RMSE: 6.3175\n",
      "Epoch 4/200\n",
      "139/139 [==============================] - 0s 1ms/step - loss: 39.4256 - RMSE: 6.2790\n",
      "Epoch 5/200\n",
      "139/139 [==============================] - 0s 1ms/step - loss: 38.9707 - RMSE: 6.2426\n",
      "Epoch 6/200\n",
      "139/139 [==============================] - 0s 1ms/step - loss: 38.4692 - RMSE: 6.2024\n",
      "Epoch 7/200\n",
      "139/139 [==============================] - 0s 2ms/step - loss: 37.9620 - RMSE: 6.1613\n",
      "Epoch 8/200\n",
      "139/139 [==============================] - 0s 1ms/step - loss: 37.5049 - RMSE: 6.1241\n",
      "Epoch 9/200\n",
      "139/139 [==============================] - 0s 1ms/step - loss: 37.1906 - RMSE: 6.0984\n",
      "Epoch 10/200\n",
      "139/139 [==============================] - 0s 1ms/step - loss: 36.2997 - RMSE: 6.0249\n",
      "Epoch 11/200\n",
      "139/139 [==============================] - 0s 1ms/step - loss: 35.1755 - RMSE: 5.9309\n",
      "Epoch 12/200\n",
      "139/139 [==============================] - 0s 1ms/step - loss: 34.5363 - RMSE: 5.8768\n",
      "Epoch 13/200\n",
      "139/139 [==============================] - 0s 1ms/step - loss: 33.3404 - RMSE: 5.7741\n",
      "Epoch 14/200\n",
      "139/139 [==============================] - 0s 1ms/step - loss: 32.0817 - RMSE: 5.6641\n",
      "Epoch 15/200\n",
      "139/139 [==============================] - 0s 2ms/step - loss: 30.8613 - RMSE: 5.5553\n",
      "Epoch 16/200\n",
      "139/139 [==============================] - 0s 2ms/step - loss: 29.0916 - RMSE: 5.3937\n",
      "Epoch 17/200\n",
      "139/139 [==============================] - 0s 1ms/step - loss: 28.3932 - RMSE: 5.3285\n",
      "Epoch 18/200\n",
      "139/139 [==============================] - 0s 1ms/step - loss: 26.2018 - RMSE: 5.1188\n",
      "Epoch 19/200\n",
      "139/139 [==============================] - 0s 1ms/step - loss: 24.9661 - RMSE: 4.9966\n",
      "Epoch 20/200\n",
      "139/139 [==============================] - 0s 1ms/step - loss: 24.3801 - RMSE: 4.9376\n",
      "Epoch 21/200\n",
      "139/139 [==============================] - 0s 1ms/step - loss: 23.1026 - RMSE: 4.8065\n",
      "Epoch 22/200\n",
      "139/139 [==============================] - 0s 1ms/step - loss: 22.4000 - RMSE: 4.7329\n",
      "Epoch 23/200\n",
      "139/139 [==============================] - 0s 2ms/step - loss: 21.9606 - RMSE: 4.6862\n",
      "Epoch 24/200\n",
      "139/139 [==============================] - 0s 1ms/step - loss: 21.3118 - RMSE: 4.6165\n",
      "Epoch 25/200\n",
      "139/139 [==============================] - 0s 2ms/step - loss: 21.3423 - RMSE: 4.6198\n",
      "Epoch 26/200\n",
      "139/139 [==============================] - 0s 1ms/step - loss: 20.4588 - RMSE: 4.5231\n",
      "Epoch 27/200\n",
      "139/139 [==============================] - 0s 1ms/step - loss: 19.9551 - RMSE: 4.4671\n",
      "Epoch 28/200\n",
      "139/139 [==============================] - 0s 1ms/step - loss: 20.8361 - RMSE: 4.5647\n",
      "Epoch 29/200\n",
      "139/139 [==============================] - 0s 1ms/step - loss: 19.0214 - RMSE: 4.3614\n",
      "Epoch 30/200\n",
      "139/139 [==============================] - 0s 2ms/step - loss: 18.5921 - RMSE: 4.3119\n",
      "Epoch 31/200\n",
      "139/139 [==============================] - 0s 1ms/step - loss: 19.3622 - RMSE: 4.4003\n",
      "Epoch 32/200\n",
      "139/139 [==============================] - 0s 1ms/step - loss: 18.7867 - RMSE: 4.3344\n",
      "Epoch 33/200\n",
      "139/139 [==============================] - 0s 1ms/step - loss: 18.8525 - RMSE: 4.3419\n",
      "Epoch 34/200\n",
      "139/139 [==============================] - 0s 2ms/step - loss: 17.8661 - RMSE: 4.2268\n",
      "Epoch 35/200\n",
      "139/139 [==============================] - 0s 2ms/step - loss: 18.1972 - RMSE: 4.2658\n",
      "Epoch 36/200\n",
      "139/139 [==============================] - 0s 1ms/step - loss: 17.6854 - RMSE: 4.2054\n",
      "Epoch 37/200\n",
      "139/139 [==============================] - 0s 2ms/step - loss: 17.6825 - RMSE: 4.2051\n",
      "Epoch 38/200\n",
      "139/139 [==============================] - 0s 1ms/step - loss: 17.3368 - RMSE: 4.1638\n",
      "Epoch 39/200\n",
      "139/139 [==============================] - 0s 1ms/step - loss: 17.1461 - RMSE: 4.1408\n",
      "Epoch 40/200\n",
      "139/139 [==============================] - 0s 1ms/step - loss: 17.5231 - RMSE: 4.1861\n",
      "Epoch 41/200\n",
      "139/139 [==============================] - 0s 1ms/step - loss: 16.9962 - RMSE: 4.1226\n",
      "Epoch 42/200\n",
      "139/139 [==============================] - 0s 1ms/step - loss: 16.7703 - RMSE: 4.0952\n",
      "Epoch 43/200\n",
      "139/139 [==============================] - 0s 1ms/step - loss: 17.7125 - RMSE: 4.2086\n",
      "Epoch 44/200\n",
      "139/139 [==============================] - 0s 2ms/step - loss: 16.7003 - RMSE: 4.0866\n",
      "Epoch 45/200\n",
      "139/139 [==============================] - 0s 1ms/step - loss: 16.6719 - RMSE: 4.0831\n",
      "Epoch 46/200\n",
      "139/139 [==============================] - 0s 1ms/step - loss: 16.3324 - RMSE: 4.0413\n",
      "Epoch 47/200\n",
      "139/139 [==============================] - 0s 1ms/step - loss: 16.4067 - RMSE: 4.0505\n",
      "Epoch 48/200\n",
      "139/139 [==============================] - 0s 1ms/step - loss: 16.4649 - RMSE: 4.0577\n",
      "Epoch 49/200\n",
      "139/139 [==============================] - 0s 1ms/step - loss: 16.7141 - RMSE: 4.0883\n",
      "Epoch 50/200\n",
      "139/139 [==============================] - 0s 1ms/step - loss: 16.5624 - RMSE: 4.0697\n",
      "Epoch 51/200\n",
      "139/139 [==============================] - 0s 2ms/step - loss: 16.7598 - RMSE: 4.0939\n",
      "Epoch 52/200\n",
      "139/139 [==============================] - 0s 1ms/step - loss: 17.2528 - RMSE: 4.1536\n",
      "Epoch 53/200\n",
      "139/139 [==============================] - 0s 1ms/step - loss: 16.3797 - RMSE: 4.0472\n",
      "Epoch 54/200\n",
      "139/139 [==============================] - 0s 1ms/step - loss: 16.0651 - RMSE: 4.0081\n",
      "Epoch 55/200\n",
      "139/139 [==============================] - 0s 1ms/step - loss: 16.3359 - RMSE: 4.0418\n",
      "Epoch 56/200\n",
      "139/139 [==============================] - 0s 1ms/step - loss: 16.0148 - RMSE: 4.0018\n",
      "Epoch 57/200\n",
      "139/139 [==============================] - 0s 1ms/step - loss: 16.1804 - RMSE: 4.0225\n",
      "Epoch 58/200\n",
      "139/139 [==============================] - 0s 1ms/step - loss: 15.9318 - RMSE: 3.9915\n",
      "Epoch 59/200\n",
      "139/139 [==============================] - 0s 1ms/step - loss: 15.9627 - RMSE: 3.9953\n",
      "Epoch 60/200\n",
      "139/139 [==============================] - 0s 1ms/step - loss: 16.2333 - RMSE: 4.0291\n",
      "Epoch 61/200\n",
      "139/139 [==============================] - 0s 1ms/step - loss: 15.7818 - RMSE: 3.9726\n",
      "Epoch 62/200\n",
      "139/139 [==============================] - 0s 1ms/step - loss: 15.8785 - RMSE: 3.9848\n",
      "Epoch 63/200\n",
      "139/139 [==============================] - 0s 2ms/step - loss: 15.9792 - RMSE: 3.9974\n",
      "Epoch 64/200\n",
      "139/139 [==============================] - 0s 2ms/step - loss: 15.6423 - RMSE: 3.9550\n",
      "Epoch 65/200\n",
      "139/139 [==============================] - 0s 1ms/step - loss: 15.9152 - RMSE: 3.9894\n",
      "Epoch 66/200\n",
      "139/139 [==============================] - 0s 1ms/step - loss: 15.6555 - RMSE: 3.9567\n",
      "Epoch 67/200\n",
      "139/139 [==============================] - 0s 1ms/step - loss: 15.7350 - RMSE: 3.9667\n",
      "Epoch 68/200\n",
      "139/139 [==============================] - 0s 1ms/step - loss: 16.4070 - RMSE: 4.0506\n",
      "Epoch 69/200\n",
      "139/139 [==============================] - 0s 1ms/step - loss: 15.7299 - RMSE: 3.9661\n",
      "Epoch 70/200\n",
      "139/139 [==============================] - 0s 2ms/step - loss: 16.1415 - RMSE: 4.0177\n",
      "Epoch 71/200\n",
      "139/139 [==============================] - 0s 2ms/step - loss: 15.3054 - RMSE: 3.9122\n",
      "Epoch 72/200\n",
      "139/139 [==============================] - 0s 1ms/step - loss: 15.6699 - RMSE: 3.9585\n",
      "Epoch 73/200\n",
      "139/139 [==============================] - 0s 1ms/step - loss: 16.4495 - RMSE: 4.0558\n",
      "Epoch 74/200\n",
      "139/139 [==============================] - 0s 1ms/step - loss: 15.5015 - RMSE: 3.9372\n",
      "Epoch 75/200\n",
      "139/139 [==============================] - 0s 1ms/step - loss: 15.5979 - RMSE: 3.9494\n",
      "Epoch 76/200\n",
      "139/139 [==============================] - 0s 1ms/step - loss: 15.5066 - RMSE: 3.9378\n",
      "Epoch 77/200\n",
      "139/139 [==============================] - 0s 1ms/step - loss: 15.7170 - RMSE: 3.9645\n",
      "Epoch 78/200\n",
      "139/139 [==============================] - 0s 1ms/step - loss: 15.9321 - RMSE: 3.9915\n",
      "Epoch 79/200\n",
      "139/139 [==============================] - 0s 1ms/step - loss: 15.2421 - RMSE: 3.9041\n",
      "Epoch 80/200\n",
      "139/139 [==============================] - 0s 1ms/step - loss: 15.3636 - RMSE: 3.9196\n",
      "Epoch 81/200\n",
      "139/139 [==============================] - 0s 1ms/step - loss: 15.7798 - RMSE: 3.9724\n",
      "Epoch 82/200\n",
      "139/139 [==============================] - 0s 1ms/step - loss: 15.3477 - RMSE: 3.9176\n",
      "Epoch 83/200\n"
     ]
    },
    {
     "name": "stdout",
     "output_type": "stream",
     "text": [
      "139/139 [==============================] - 0s 2ms/step - loss: 15.6724 - RMSE: 3.9588\n",
      "Epoch 84/200\n",
      "139/139 [==============================] - 0s 2ms/step - loss: 15.5129 - RMSE: 3.9386\n",
      "Epoch 85/200\n",
      "139/139 [==============================] - 0s 2ms/step - loss: 15.1571 - RMSE: 3.8932\n",
      "Epoch 86/200\n",
      "139/139 [==============================] - 0s 1ms/step - loss: 15.1577 - RMSE: 3.8933\n",
      "Epoch 87/200\n",
      "139/139 [==============================] - 0s 1ms/step - loss: 15.3371 - RMSE: 3.9163\n",
      "Epoch 88/200\n",
      "139/139 [==============================] - 0s 2ms/step - loss: 15.5365 - RMSE: 3.9416\n",
      "Epoch 89/200\n",
      "139/139 [==============================] - 0s 2ms/step - loss: 15.2227 - RMSE: 3.9016\n",
      "Epoch 90/200\n",
      "139/139 [==============================] - 0s 1ms/step - loss: 15.4714 - RMSE: 3.9334\n",
      "Epoch 91/200\n",
      "139/139 [==============================] - 0s 1ms/step - loss: 15.1687 - RMSE: 3.8947\n",
      "Epoch 92/200\n",
      "139/139 [==============================] - 0s 1ms/step - loss: 15.0684 - RMSE: 3.8818\n",
      "Epoch 93/200\n",
      "139/139 [==============================] - 0s 1ms/step - loss: 15.0715 - RMSE: 3.8822\n",
      "Epoch 94/200\n",
      "139/139 [==============================] - 0s 2ms/step - loss: 15.5832 - RMSE: 3.9476\n",
      "Epoch 95/200\n",
      "139/139 [==============================] - 0s 1ms/step - loss: 15.8179 - RMSE: 3.9772\n",
      "Epoch 96/200\n",
      "139/139 [==============================] - 0s 1ms/step - loss: 15.1503 - RMSE: 3.8923\n",
      "Epoch 97/200\n",
      "139/139 [==============================] - 0s 1ms/step - loss: 15.0989 - RMSE: 3.8857\n",
      "Epoch 98/200\n",
      "139/139 [==============================] - 0s 1ms/step - loss: 15.0468 - RMSE: 3.8790\n",
      "Epoch 99/200\n",
      "139/139 [==============================] - 0s 1ms/step - loss: 15.2285 - RMSE: 3.9024\n",
      "Epoch 100/200\n",
      "139/139 [==============================] - 0s 1ms/step - loss: 15.5598 - RMSE: 3.9446\n",
      "Epoch 101/200\n",
      "139/139 [==============================] - 0s 1ms/step - loss: 15.3715 - RMSE: 3.9206\n",
      "Epoch 102/200\n",
      "139/139 [==============================] - 0s 1ms/step - loss: 14.7720 - RMSE: 3.8434\n",
      "Epoch 103/200\n",
      "139/139 [==============================] - 0s 1ms/step - loss: 15.1175 - RMSE: 3.8881\n",
      "Epoch 104/200\n",
      "139/139 [==============================] - 0s 1ms/step - loss: 15.1945 - RMSE: 3.8980\n",
      "Epoch 105/200\n",
      "139/139 [==============================] - 0s 1ms/step - loss: 15.0716 - RMSE: 3.8822\n",
      "Epoch 106/200\n",
      "139/139 [==============================] - 0s 1ms/step - loss: 15.0965 - RMSE: 3.8854\n",
      "Epoch 107/200\n",
      "139/139 [==============================] - 0s 1ms/step - loss: 15.0443 - RMSE: 3.8787\n",
      "Epoch 108/200\n",
      "139/139 [==============================] - 0s 1ms/step - loss: 15.1538 - RMSE: 3.8928\n",
      "Epoch 109/200\n",
      "139/139 [==============================] - 0s 1ms/step - loss: 14.9320 - RMSE: 3.8642\n",
      "Epoch 110/200\n",
      "139/139 [==============================] - 0s 1ms/step - loss: 14.9445 - RMSE: 3.8658\n",
      "Epoch 111/200\n",
      "139/139 [==============================] - 0s 1ms/step - loss: 15.0775 - RMSE: 3.8830\n",
      "Epoch 112/200\n",
      "139/139 [==============================] - 0s 1ms/step - loss: 14.9646 - RMSE: 3.8684\n",
      "Epoch 113/200\n",
      "139/139 [==============================] - 0s 1ms/step - loss: 14.8499 - RMSE: 3.8536\n",
      "Epoch 114/200\n",
      "139/139 [==============================] - 0s 1ms/step - loss: 14.8882 - RMSE: 3.8585\n",
      "Epoch 115/200\n",
      "139/139 [==============================] - 0s 2ms/step - loss: 14.7057 - RMSE: 3.8348\n",
      "Epoch 116/200\n",
      "139/139 [==============================] - 0s 2ms/step - loss: 15.2197 - RMSE: 3.9012\n",
      "Epoch 117/200\n",
      "139/139 [==============================] - 0s 1ms/step - loss: 15.0583 - RMSE: 3.8805\n",
      "Epoch 118/200\n",
      "139/139 [==============================] - 0s 1ms/step - loss: 15.1570 - RMSE: 3.8932\n",
      "Epoch 119/200\n",
      "139/139 [==============================] - 0s 1ms/step - loss: 14.9858 - RMSE: 3.8711\n",
      "Epoch 120/200\n",
      "139/139 [==============================] - 0s 2ms/step - loss: 14.7257 - RMSE: 3.8374\n",
      "Epoch 121/200\n",
      "139/139 [==============================] - 0s 1ms/step - loss: 14.7773 - RMSE: 3.8441\n",
      "Epoch 122/200\n",
      "139/139 [==============================] - 0s 1ms/step - loss: 14.9232 - RMSE: 3.8631\n",
      "Epoch 123/200\n",
      "139/139 [==============================] - 0s 1ms/step - loss: 14.7360 - RMSE: 3.8387\n",
      "Epoch 124/200\n",
      "139/139 [==============================] - 0s 1ms/step - loss: 15.2808 - RMSE: 3.9091\n",
      "Epoch 125/200\n",
      "139/139 [==============================] - 0s 2ms/step - loss: 14.9677 - RMSE: 3.8688\n",
      "Epoch 126/200\n",
      "139/139 [==============================] - 0s 2ms/step - loss: 15.1077 - RMSE: 3.8869\n",
      "Epoch 127/200\n",
      "139/139 [==============================] - 0s 2ms/step - loss: 14.5937 - RMSE: 3.8202\n",
      "Epoch 128/200\n",
      "139/139 [==============================] - 0s 2ms/step - loss: 14.5723 - RMSE: 3.8174\n",
      "Epoch 129/200\n",
      "139/139 [==============================] - 0s 2ms/step - loss: 14.8084 - RMSE: 3.8482\n",
      "Epoch 130/200\n",
      "139/139 [==============================] - 0s 1ms/step - loss: 14.6096 - RMSE: 3.8223\n",
      "Epoch 131/200\n",
      "139/139 [==============================] - 0s 1ms/step - loss: 14.8279 - RMSE: 3.8507\n",
      "Epoch 132/200\n",
      "139/139 [==============================] - 0s 1ms/step - loss: 14.7013 - RMSE: 3.8342\n",
      "Epoch 133/200\n",
      "139/139 [==============================] - 0s 1ms/step - loss: 14.7389 - RMSE: 3.8391\n",
      "Epoch 134/200\n",
      "139/139 [==============================] - 0s 2ms/step - loss: 14.6587 - RMSE: 3.8287\n",
      "Epoch 135/200\n",
      "139/139 [==============================] - 0s 1ms/step - loss: 14.7745 - RMSE: 3.8438\n",
      "Epoch 136/200\n",
      "139/139 [==============================] - 0s 1ms/step - loss: 14.6980 - RMSE: 3.8338\n",
      "Epoch 137/200\n",
      "139/139 [==============================] - 0s 1ms/step - loss: 14.5916 - RMSE: 3.8199\n",
      "Epoch 138/200\n",
      "139/139 [==============================] - 0s 1ms/step - loss: 15.2086 - RMSE: 3.8998\n",
      "Epoch 139/200\n",
      "139/139 [==============================] - 0s 1ms/step - loss: 15.1904 - RMSE: 3.8975\n",
      "Epoch 140/200\n",
      "139/139 [==============================] - 0s 2ms/step - loss: 14.8422 - RMSE: 3.8526\n",
      "Epoch 141/200\n",
      "139/139 [==============================] - 0s 1ms/step - loss: 14.3708 - RMSE: 3.7909\n",
      "Epoch 142/200\n",
      "139/139 [==============================] - 0s 2ms/step - loss: 14.6491 - RMSE: 3.8274\n",
      "Epoch 143/200\n",
      "139/139 [==============================] - 0s 2ms/step - loss: 14.7798 - RMSE: 3.8444\n",
      "Epoch 144/200\n",
      "139/139 [==============================] - 0s 1ms/step - loss: 14.3466 - RMSE: 3.7877\n",
      "Epoch 145/200\n",
      "139/139 [==============================] - 0s 1ms/step - loss: 14.6389 - RMSE: 3.8261\n",
      "Epoch 146/200\n",
      "139/139 [==============================] - 0s 1ms/step - loss: 14.4963 - RMSE: 3.8074\n",
      "Epoch 147/200\n",
      "139/139 [==============================] - 0s 1ms/step - loss: 14.8778 - RMSE: 3.8572\n",
      "Epoch 148/200\n",
      "139/139 [==============================] - 0s 2ms/step - loss: 14.4871 - RMSE: 3.8062\n",
      "Epoch 149/200\n",
      "139/139 [==============================] - 0s 2ms/step - loss: 14.8731 - RMSE: 3.8566\n",
      "Epoch 150/200\n",
      "139/139 [==============================] - 0s 2ms/step - loss: 14.5877 - RMSE: 3.8194\n",
      "Epoch 151/200\n",
      "139/139 [==============================] - 0s 1ms/step - loss: 14.7432 - RMSE: 3.8397\n",
      "Epoch 152/200\n",
      "139/139 [==============================] - 0s 1ms/step - loss: 15.0573 - RMSE: 3.8804\n",
      "Epoch 153/200\n",
      "139/139 [==============================] - 0s 1ms/step - loss: 14.5845 - RMSE: 3.8190\n",
      "Epoch 154/200\n",
      "139/139 [==============================] - 0s 1ms/step - loss: 14.8985 - RMSE: 3.8599\n",
      "Epoch 155/200\n",
      "139/139 [==============================] - 0s 2ms/step - loss: 14.8821 - RMSE: 3.8577\n",
      "Epoch 156/200\n",
      "139/139 [==============================] - 0s 2ms/step - loss: 14.6458 - RMSE: 3.8270\n",
      "Epoch 157/200\n",
      "139/139 [==============================] - 0s 2ms/step - loss: 14.3189 - RMSE: 3.7840\n",
      "Epoch 158/200\n",
      "139/139 [==============================] - 0s 2ms/step - loss: 14.2255 - RMSE: 3.7717\n",
      "Epoch 159/200\n",
      "139/139 [==============================] - 0s 1ms/step - loss: 14.3778 - RMSE: 3.7918\n",
      "Epoch 160/200\n",
      "139/139 [==============================] - 0s 2ms/step - loss: 14.7391 - RMSE: 3.8391\n",
      "Epoch 161/200\n",
      "139/139 [==============================] - 0s 2ms/step - loss: 14.3601 - RMSE: 3.7895\n",
      "Epoch 162/200\n",
      "139/139 [==============================] - 0s 1ms/step - loss: 14.5066 - RMSE: 3.8087\n",
      "Epoch 163/200\n",
      "139/139 [==============================] - 0s 1ms/step - loss: 14.5800 - RMSE: 3.8184\n",
      "Epoch 164/200\n",
      "139/139 [==============================] - 0s 1ms/step - loss: 14.4854 - RMSE: 3.8060\n",
      "Epoch 165/200\n"
     ]
    },
    {
     "name": "stdout",
     "output_type": "stream",
     "text": [
      "139/139 [==============================] - 0s 1ms/step - loss: 14.4834 - RMSE: 3.8057\n",
      "Epoch 166/200\n",
      "139/139 [==============================] - 0s 1ms/step - loss: 14.6173 - RMSE: 3.8233\n",
      "Epoch 167/200\n",
      "139/139 [==============================] - 0s 1ms/step - loss: 14.4145 - RMSE: 3.7966\n",
      "Epoch 168/200\n",
      "139/139 [==============================] - 0s 1ms/step - loss: 14.2135 - RMSE: 3.7701\n",
      "Epoch 169/200\n",
      "139/139 [==============================] - 0s 1ms/step - loss: 14.3453 - RMSE: 3.7875\n",
      "Epoch 170/200\n",
      "139/139 [==============================] - 0s 1ms/step - loss: 14.3364 - RMSE: 3.7863\n",
      "Epoch 171/200\n",
      "139/139 [==============================] - 0s 1ms/step - loss: 14.5736 - RMSE: 3.8175\n",
      "Epoch 172/200\n",
      "139/139 [==============================] - 0s 1ms/step - loss: 14.5911 - RMSE: 3.8198\n",
      "Epoch 173/200\n",
      "139/139 [==============================] - 0s 1ms/step - loss: 14.2984 - RMSE: 3.7813\n",
      "Epoch 174/200\n",
      "139/139 [==============================] - 0s 1ms/step - loss: 14.4672 - RMSE: 3.8036\n",
      "Epoch 175/200\n",
      "139/139 [==============================] - 0s 2ms/step - loss: 14.2697 - RMSE: 3.7775\n",
      "Epoch 176/200\n",
      "139/139 [==============================] - 0s 2ms/step - loss: 14.5425 - RMSE: 3.8135\n",
      "Epoch 177/200\n",
      "139/139 [==============================] - 0s 2ms/step - loss: 14.6825 - RMSE: 3.8318\n",
      "Epoch 178/200\n",
      "139/139 [==============================] - 0s 2ms/step - loss: 14.7072 - RMSE: 3.8350\n",
      "Epoch 179/200\n",
      "139/139 [==============================] - 0s 1ms/step - loss: 14.1631 - RMSE: 3.7634\n",
      "Epoch 180/200\n",
      "139/139 [==============================] - 0s 1ms/step - loss: 14.3926 - RMSE: 3.7938\n",
      "Epoch 181/200\n",
      "139/139 [==============================] - 0s 1ms/step - loss: 14.1629 - RMSE: 3.7634\n",
      "Epoch 182/200\n",
      "139/139 [==============================] - 0s 1ms/step - loss: 14.0546 - RMSE: 3.7489\n",
      "Epoch 183/200\n",
      "139/139 [==============================] - 0s 2ms/step - loss: 14.6581 - RMSE: 3.8286\n",
      "Epoch 184/200\n",
      "139/139 [==============================] - 0s 2ms/step - loss: 14.6297 - RMSE: 3.8249\n",
      "Epoch 185/200\n",
      "139/139 [==============================] - 0s 1ms/step - loss: 14.1965 - RMSE: 3.7678\n",
      "Epoch 186/200\n",
      "139/139 [==============================] - 0s 1ms/step - loss: 14.4346 - RMSE: 3.7993\n",
      "Epoch 187/200\n",
      "139/139 [==============================] - 0s 1ms/step - loss: 14.1895 - RMSE: 3.7669\n",
      "Epoch 188/200\n",
      "139/139 [==============================] - 0s 1ms/step - loss: 14.3480 - RMSE: 3.7879\n",
      "Epoch 189/200\n",
      "139/139 [==============================] - 0s 1ms/step - loss: 14.1127 - RMSE: 3.7567\n",
      "Epoch 190/200\n",
      "139/139 [==============================] - 0s 2ms/step - loss: 14.2717 - RMSE: 3.7778\n",
      "Epoch 191/200\n",
      "139/139 [==============================] - 0s 1ms/step - loss: 14.4457 - RMSE: 3.8007\n",
      "Epoch 192/200\n",
      "139/139 [==============================] - 0s 1ms/step - loss: 14.2820 - RMSE: 3.7792\n",
      "Epoch 193/200\n",
      "139/139 [==============================] - 0s 1ms/step - loss: 14.4979 - RMSE: 3.8076\n",
      "Epoch 194/200\n",
      "139/139 [==============================] - 0s 1ms/step - loss: 14.6490 - RMSE: 3.8274\n",
      "Epoch 195/200\n",
      "139/139 [==============================] - 0s 1ms/step - loss: 14.0362 - RMSE: 3.7465\n",
      "Epoch 196/200\n",
      "139/139 [==============================] - 0s 2ms/step - loss: 14.1000 - RMSE: 3.7550\n",
      "Epoch 197/200\n",
      "139/139 [==============================] - 0s 2ms/step - loss: 14.2403 - RMSE: 3.7736\n",
      "Epoch 198/200\n",
      "139/139 [==============================] - 0s 1ms/step - loss: 13.9155 - RMSE: 3.7303\n",
      "Epoch 199/200\n",
      "139/139 [==============================] - 0s 1ms/step - loss: 14.0633 - RMSE: 3.7501\n",
      "Epoch 200/200\n",
      "139/139 [==============================] - 0s 1ms/step - loss: 14.3801 - RMSE: 3.7921\n"
     ]
    },
    {
     "data": {
      "application/javascript": [
       "\n",
       "            setTimeout(function() {\n",
       "                var nbb_cell_id = 97;\n",
       "                var nbb_unformatted_code = \"sc = StandardScaler()\\n\\nhistory = model.fit(\\n    sc.fit_transform(x_train),\\n    y_train,\\n    batch_size=batch_size,\\n    epochs=epochs,\\n    verbose=verbose,\\n)\";\n",
       "                var nbb_formatted_code = \"sc = StandardScaler()\\n\\nhistory = model.fit(\\n    sc.fit_transform(x_train),\\n    y_train,\\n    batch_size=batch_size,\\n    epochs=epochs,\\n    verbose=verbose,\\n)\";\n",
       "                var nbb_cells = Jupyter.notebook.get_cells();\n",
       "                for (var i = 0; i < nbb_cells.length; ++i) {\n",
       "                    if (nbb_cells[i].input_prompt_number == nbb_cell_id) {\n",
       "                        if (nbb_cells[i].get_text() == nbb_unformatted_code) {\n",
       "                             nbb_cells[i].set_text(nbb_formatted_code);\n",
       "                        }\n",
       "                        break;\n",
       "                    }\n",
       "                }\n",
       "            }, 500);\n",
       "            "
      ],
      "text/plain": [
       "<IPython.core.display.Javascript object>"
      ]
     },
     "metadata": {},
     "output_type": "display_data"
    }
   ],
   "source": [
    "sc = StandardScaler()\n",
    "\n",
    "history = model.fit(\n",
    "    sc.fit_transform(x_train),\n",
    "    y_train,\n",
    "    batch_size=batch_size,\n",
    "    epochs=epochs,\n",
    "    verbose=verbose,\n",
    ")"
   ]
  },
  {
   "cell_type": "code",
   "execution_count": 98,
   "metadata": {},
   "outputs": [
    {
     "data": {
      "text/plain": [
       "[<matplotlib.lines.Line2D at 0x7f5e1b3fbc50>]"
      ]
     },
     "execution_count": 98,
     "metadata": {},
     "output_type": "execute_result"
    },
    {
     "data": {
      "image/png": "[encoded data removed]",
      "text/plain": [
       "<Figure size 432x288 with 1 Axes>"
      ]
     },
     "metadata": {
      "needs_background": "light"
     },
     "output_type": "display_data"
    },
    {
     "data": {
      "application/javascript": [
       "\n",
       "            setTimeout(function() {\n",
       "                var nbb_cell_id = 98;\n",
       "                var nbb_unformatted_code = \"plt.plot(history.history[\\\"RMSE\\\"])\";\n",
       "                var nbb_formatted_code = \"plt.plot(history.history[\\\"RMSE\\\"])\";\n",
       "                var nbb_cells = Jupyter.notebook.get_cells();\n",
       "                for (var i = 0; i < nbb_cells.length; ++i) {\n",
       "                    if (nbb_cells[i].input_prompt_number == nbb_cell_id) {\n",
       "                        if (nbb_cells[i].get_text() == nbb_unformatted_code) {\n",
       "                             nbb_cells[i].set_text(nbb_formatted_code);\n",
       "                        }\n",
       "                        break;\n",
       "                    }\n",
       "                }\n",
       "            }, 500);\n",
       "            "
      ],
      "text/plain": [
       "<IPython.core.display.Javascript object>"
      ]
     },
     "metadata": {},
     "output_type": "display_data"
    }
   ],
   "source": [
    "plt.plot(history.history[\"RMSE\"])"
   ]
  },
  {
   "cell_type": "code",
   "execution_count": 99,
   "metadata": {},
   "outputs": [
    {
     "name": "stdout",
     "output_type": "stream",
     "text": [
      "******\n",
      "[TRAIN]\n",
      "******\n",
      "RMSE: 3.774 (0.000)\n",
      "MAE: 2.856 (0.000)\n",
      "MAPE: 0.065 (0.000)\n",
      "R2: 0.656 (0.000)\n",
      "\n",
      "======================\n",
      "\n",
      "******\n",
      "[TEST]\n",
      "******\n",
      "RMSE: 6.330 (0.000)\n",
      "MAE: 5.376 (0.000)\n",
      "MAPE: 0.098 (0.000)\n",
      "R2: 0.183 (0.000)\n",
      "\n",
      "======================\n",
      "\n"
     ]
    },
    {
     "data": {
      "application/javascript": [
       "\n",
       "            setTimeout(function() {\n",
       "                var nbb_cell_id = 99;\n",
       "                var nbb_unformatted_code = \"y_train_pred = model.predict(sc.transform(x_train))\\ny_test_pred = model.predict(sc.transform(x_test))\\n\\nscores = score_regression_metrics(y_train, y_train_pred, y_test, y_test_pred)\\nprint_scores(scores, METRICS, METRICS_DICT)\";\n",
       "                var nbb_formatted_code = \"y_train_pred = model.predict(sc.transform(x_train))\\ny_test_pred = model.predict(sc.transform(x_test))\\n\\nscores = score_regression_metrics(y_train, y_train_pred, y_test, y_test_pred)\\nprint_scores(scores, METRICS, METRICS_DICT)\";\n",
       "                var nbb_cells = Jupyter.notebook.get_cells();\n",
       "                for (var i = 0; i < nbb_cells.length; ++i) {\n",
       "                    if (nbb_cells[i].input_prompt_number == nbb_cell_id) {\n",
       "                        if (nbb_cells[i].get_text() == nbb_unformatted_code) {\n",
       "                             nbb_cells[i].set_text(nbb_formatted_code);\n",
       "                        }\n",
       "                        break;\n",
       "                    }\n",
       "                }\n",
       "            }, 500);\n",
       "            "
      ],
      "text/plain": [
       "<IPython.core.display.Javascript object>"
      ]
     },
     "metadata": {},
     "output_type": "display_data"
    }
   ],
   "source": [
    "y_train_pred = model.predict(sc.transform(x_train))\n",
    "y_test_pred = model.predict(sc.transform(x_test))\n",
    "\n",
    "scores = score_regression_metrics(y_train, y_train_pred, y_test, y_test_pred)\n",
    "print_scores(scores, METRICS, METRICS_DICT)"
   ]
  },
  {
   "cell_type": "markdown",
   "metadata": {},
   "source": [
    "# Experiments with Same Variables"
   ]
  },
  {
   "cell_type": "code",
   "execution_count": 100,
   "metadata": {},
   "outputs": [
    {
     "data": {
      "application/javascript": [
       "\n",
       "            setTimeout(function() {\n",
       "                var nbb_cell_id = 100;\n",
       "                var nbb_unformatted_code = \"df_intercement = pd.read_csv(\\\"../../../data/processed/Intercement/cement-shipping.csv\\\")\\ndf_partner_ii = pd.read_csv(\\\"../../../data/processed/partner_ii/cement-shipping.csv\\\")\\ndf_partner_i = pd.read_csv(\\n    \\\"../../../data/processed/partner_i-Oficial/cement-shipping.csv\\\"\\n)\";\n",
       "                var nbb_formatted_code = \"df_intercement = pd.read_csv(\\\"../../../data/processed/Intercement/cement-shipping.csv\\\")\\ndf_partner_ii = pd.read_csv(\\\"../../../data/processed/partner_ii/cement-shipping.csv\\\")\\ndf_partner_i = pd.read_csv(\\n    \\\"../../../data/processed/partner_i-Oficial/cement-shipping.csv\\\"\\n)\";\n",
       "                var nbb_cells = Jupyter.notebook.get_cells();\n",
       "                for (var i = 0; i < nbb_cells.length; ++i) {\n",
       "                    if (nbb_cells[i].input_prompt_number == nbb_cell_id) {\n",
       "                        if (nbb_cells[i].get_text() == nbb_unformatted_code) {\n",
       "                             nbb_cells[i].set_text(nbb_formatted_code);\n",
       "                        }\n",
       "                        break;\n",
       "                    }\n",
       "                }\n",
       "            }, 500);\n",
       "            "
      ],
      "text/plain": [
       "<IPython.core.display.Javascript object>"
      ]
     },
     "metadata": {},
     "output_type": "display_data"
    }
   ],
   "source": [
    "df_intercement = pd.read_csv(\"../../../data/processed/Intercement/cement-shipping.csv\")\n",
    "df_partner_ii = pd.read_csv(\"../../../data/processed/partner_ii/cement-shipping.csv\")\n",
    "df_partner_i = pd.read_csv(\n",
    "    \"../../../data/processed/partner_i-Oficial/cement-shipping.csv\"\n",
    ")"
   ]
  },
  {
   "cell_type": "code",
   "execution_count": 101,
   "metadata": {},
   "outputs": [
    {
     "data": {
      "text/plain": [
       "{'al2o3', 'fe2o3', 'k2o', 'mgo', 'sio2', 'so3'}"
      ]
     },
     "execution_count": 101,
     "metadata": {},
     "output_type": "execute_result"
    },
    {
     "data": {
      "application/javascript": [
       "\n",
       "            setTimeout(function() {\n",
       "                var nbb_cell_id = 101;\n",
       "                var nbb_unformatted_code = \"set(df_intercement.columns.str.lower()).intersection(\\n    set(df_partner_ii.columns.str.lower())\\n)\";\n",
       "                var nbb_formatted_code = \"set(df_intercement.columns.str.lower()).intersection(\\n    set(df_partner_ii.columns.str.lower())\\n)\";\n",
       "                var nbb_cells = Jupyter.notebook.get_cells();\n",
       "                for (var i = 0; i < nbb_cells.length; ++i) {\n",
       "                    if (nbb_cells[i].input_prompt_number == nbb_cell_id) {\n",
       "                        if (nbb_cells[i].get_text() == nbb_unformatted_code) {\n",
       "                             nbb_cells[i].set_text(nbb_formatted_code);\n",
       "                        }\n",
       "                        break;\n",
       "                    }\n",
       "                }\n",
       "            }, 500);\n",
       "            "
      ],
      "text/plain": [
       "<IPython.core.display.Javascript object>"
      ]
     },
     "metadata": {},
     "output_type": "display_data"
    }
   ],
   "source": [
    "set(df_intercement.columns.str.lower()).intersection(\n",
    "    set(df_partner_ii.columns.str.lower())\n",
    ")"
   ]
  },
  {
   "cell_type": "code",
   "execution_count": 102,
   "metadata": {},
   "outputs": [
    {
     "data": {
      "text/plain": [
       "{'al2o3', 'fe2o3', 'k2o', 'mgo', 'sio2', 'so3'}"
      ]
     },
     "execution_count": 102,
     "metadata": {},
     "output_type": "execute_result"
    },
    {
     "data": {
      "application/javascript": [
       "\n",
       "            setTimeout(function() {\n",
       "                var nbb_cell_id = 102;\n",
       "                var nbb_unformatted_code = \"set(df_intercement.columns.str.lower()).intersection(\\n    set(df_partner_i.columns.str.lower())\\n)\";\n",
       "                var nbb_formatted_code = \"set(df_intercement.columns.str.lower()).intersection(\\n    set(df_partner_i.columns.str.lower())\\n)\";\n",
       "                var nbb_cells = Jupyter.notebook.get_cells();\n",
       "                for (var i = 0; i < nbb_cells.length; ++i) {\n",
       "                    if (nbb_cells[i].input_prompt_number == nbb_cell_id) {\n",
       "                        if (nbb_cells[i].get_text() == nbb_unformatted_code) {\n",
       "                             nbb_cells[i].set_text(nbb_formatted_code);\n",
       "                        }\n",
       "                        break;\n",
       "                    }\n",
       "                }\n",
       "            }, 500);\n",
       "            "
      ],
      "text/plain": [
       "<IPython.core.display.Javascript object>"
      ]
     },
     "metadata": {},
     "output_type": "display_data"
    }
   ],
   "source": [
    "set(df_intercement.columns.str.lower()).intersection(\n",
    "    set(df_partner_i.columns.str.lower())\n",
    ")"
   ]
  },
  {
   "cell_type": "code",
   "execution_count": 103,
   "metadata": {},
   "outputs": [
    {
     "data": {
      "text/plain": [
       "{'al2o3',\n",
       " 'aluminate',\n",
       " 'cao',\n",
       " 'fe2o3',\n",
       " 'ferrite',\n",
       " 'k2o',\n",
       " 'mgo',\n",
       " 'na2o',\n",
       " 'sio2',\n",
       " 'so3'}"
      ]
     },
     "execution_count": 103,
     "metadata": {},
     "output_type": "execute_result"
    },
    {
     "data": {
      "application/javascript": [
       "\n",
       "            setTimeout(function() {\n",
       "                var nbb_cell_id = 103;\n",
       "                var nbb_unformatted_code = \"set(df_partner_ii.columns.str.lower()).intersection(\\n    set(df_partner_i.columns.str.lower())\\n)\";\n",
       "                var nbb_formatted_code = \"set(df_partner_ii.columns.str.lower()).intersection(\\n    set(df_partner_i.columns.str.lower())\\n)\";\n",
       "                var nbb_cells = Jupyter.notebook.get_cells();\n",
       "                for (var i = 0; i < nbb_cells.length; ++i) {\n",
       "                    if (nbb_cells[i].input_prompt_number == nbb_cell_id) {\n",
       "                        if (nbb_cells[i].get_text() == nbb_unformatted_code) {\n",
       "                             nbb_cells[i].set_text(nbb_formatted_code);\n",
       "                        }\n",
       "                        break;\n",
       "                    }\n",
       "                }\n",
       "            }, 500);\n",
       "            "
      ],
      "text/plain": [
       "<IPython.core.display.Javascript object>"
      ]
     },
     "metadata": {},
     "output_type": "display_data"
    }
   ],
   "source": [
    "set(df_partner_ii.columns.str.lower()).intersection(\n",
    "    set(df_partner_i.columns.str.lower())\n",
    ")"
   ]
  },
  {
   "cell_type": "markdown",
   "metadata": {},
   "source": [
    "# Baseline Model"
   ]
  },
  {
   "cell_type": "markdown",
   "metadata": {},
   "source": [
    "# Linear Regression"
   ]
  },
  {
   "cell_type": "code",
   "execution_count": 104,
   "metadata": {},
   "outputs": [
    {
     "data": {
      "application/javascript": [
       "\n",
       "            setTimeout(function() {\n",
       "                var nbb_cell_id = 104;\n",
       "                var nbb_unformatted_code = \"COMMON_FEATURES = [\\n    \\\"cao\\\",\\n    \\\"sio2\\\",\\n    \\\"al2o3\\\",\\n    \\\"fe2o3\\\",\\n    \\\"aluminate\\\",\\n    \\\"na2o\\\",\\n    \\\"mgo\\\",\\n    \\\"so3\\\",\\n    \\\"ferrite\\\",\\n    \\\"k2o\\\",\\n]\";\n",
       "                var nbb_formatted_code = \"COMMON_FEATURES = [\\n    \\\"cao\\\",\\n    \\\"sio2\\\",\\n    \\\"al2o3\\\",\\n    \\\"fe2o3\\\",\\n    \\\"aluminate\\\",\\n    \\\"na2o\\\",\\n    \\\"mgo\\\",\\n    \\\"so3\\\",\\n    \\\"ferrite\\\",\\n    \\\"k2o\\\",\\n]\";\n",
       "                var nbb_cells = Jupyter.notebook.get_cells();\n",
       "                for (var i = 0; i < nbb_cells.length; ++i) {\n",
       "                    if (nbb_cells[i].input_prompt_number == nbb_cell_id) {\n",
       "                        if (nbb_cells[i].get_text() == nbb_unformatted_code) {\n",
       "                             nbb_cells[i].set_text(nbb_formatted_code);\n",
       "                        }\n",
       "                        break;\n",
       "                    }\n",
       "                }\n",
       "            }, 500);\n",
       "            "
      ],
      "text/plain": [
       "<IPython.core.display.Javascript object>"
      ]
     },
     "metadata": {},
     "output_type": "display_data"
    }
   ],
   "source": [
    "COMMON_FEATURES = [\n",
    "    \"cao\",\n",
    "    \"sio2\",\n",
    "    \"al2o3\",\n",
    "    \"fe2o3\",\n",
    "    \"aluminate\",\n",
    "    \"na2o\",\n",
    "    \"mgo\",\n",
    "    \"so3\",\n",
    "    \"ferrite\",\n",
    "    \"k2o\",\n",
    "]"
   ]
  },
  {
   "cell_type": "markdown",
   "metadata": {},
   "source": [
    "# partner_ii"
   ]
  },
  {
   "cell_type": "code",
   "execution_count": 105,
   "metadata": {},
   "outputs": [
    {
     "data": {
      "application/javascript": [
       "\n",
       "            setTimeout(function() {\n",
       "                var nbb_cell_id = 105;\n",
       "                var nbb_unformatted_code = \"df_partner_ii = pd.read_csv(\\\"../../../data/processed/partner_ii/cement-shipping.csv\\\")\\ndf_no_cs = df_partner_ii.drop(\\n    [\\\"strength_1d\\\", \\\"strength_3d\\\", \\\"strength_7d\\\"],\\n    axis=1,\\n).copy()\\ny = df_no_cs.pop(\\\"strength_28d\\\")\\nx = df_no_cs.rename({\\\"sample_date\\\": \\\"date\\\"}, axis=1)\\n\\nx.columns = x.columns.str.lower()\\nx = x[COMMON_FEATURES]\";\n",
       "                var nbb_formatted_code = \"df_partner_ii = pd.read_csv(\\\"../../../data/processed/partner_ii/cement-shipping.csv\\\")\\ndf_no_cs = df_partner_ii.drop(\\n    [\\\"strength_1d\\\", \\\"strength_3d\\\", \\\"strength_7d\\\"],\\n    axis=1,\\n).copy()\\ny = df_no_cs.pop(\\\"strength_28d\\\")\\nx = df_no_cs.rename({\\\"sample_date\\\": \\\"date\\\"}, axis=1)\\n\\nx.columns = x.columns.str.lower()\\nx = x[COMMON_FEATURES]\";\n",
       "                var nbb_cells = Jupyter.notebook.get_cells();\n",
       "                for (var i = 0; i < nbb_cells.length; ++i) {\n",
       "                    if (nbb_cells[i].input_prompt_number == nbb_cell_id) {\n",
       "                        if (nbb_cells[i].get_text() == nbb_unformatted_code) {\n",
       "                             nbb_cells[i].set_text(nbb_formatted_code);\n",
       "                        }\n",
       "                        break;\n",
       "                    }\n",
       "                }\n",
       "            }, 500);\n",
       "            "
      ],
      "text/plain": [
       "<IPython.core.display.Javascript object>"
      ]
     },
     "metadata": {},
     "output_type": "display_data"
    }
   ],
   "source": [
    "df_partner_ii = pd.read_csv(\"../../../data/processed/partner_ii/cement-shipping.csv\")\n",
    "df_no_cs = df_partner_ii.drop(\n",
    "    [\"strength_1d\", \"strength_3d\", \"strength_7d\"],\n",
    "    axis=1,\n",
    ").copy()\n",
    "y = df_no_cs.pop(\"strength_28d\")\n",
    "x = df_no_cs.rename({\"sample_date\": \"date\"}, axis=1)\n",
    "\n",
    "x.columns = x.columns.str.lower()\n",
    "x = x[COMMON_FEATURES]"
   ]
  },
  {
   "cell_type": "code",
   "execution_count": 106,
   "metadata": {},
   "outputs": [
    {
     "name": "stdout",
     "output_type": "stream",
     "text": [
      "Repeated Cross Validation:\n",
      "Repeats: 10\n",
      "n_splits: 10\n",
      "\n",
      "******\n",
      "[TRAIN]\n",
      "******\n",
      "RMSE: 2.708 (0.023)\n",
      "MAE: 2.159 (0.018)\n",
      "MAPE: 0.050 (0.000)\n",
      "R2: 0.413 (0.009)\n",
      "\n",
      "======================\n",
      "\n",
      "******\n",
      "[TEST]\n",
      "******\n",
      "RMSE: 2.764 (0.231)\n",
      "MAE: 2.190 (0.156)\n",
      "MAPE: 0.051 (0.004)\n",
      "R2: 0.375 (0.104)\n",
      "\n",
      "======================\n",
      "\n"
     ]
    },
    {
     "data": {
      "application/javascript": [
       "\n",
       "            setTimeout(function() {\n",
       "                var nbb_cell_id = 106;\n",
       "                var nbb_unformatted_code = \"repeats = 10\\nn_splits = 10\\nset_seeds()\\npipeline = Pipeline(\\n    [(\\\"transformer\\\", StandardScaler()), (\\\"estimator\\\", LinearRegression())]\\n)\\ncv = RepeatedKFold(n_splits=n_splits, n_repeats=repeats, random_state=SEED)\\nscores = cross_validate(\\n    pipeline,\\n    x,\\n    y,\\n    scoring=METRICS,\\n    cv=cv,\\n    n_jobs=-1,\\n    return_train_score=True,\\n)\\n# scores = np.abs(scores)\\nprint(\\\"Repeated Cross Validation:\\\")\\nprint(f\\\"Repeats: {repeats}\\\")\\nprint(f\\\"n_splits: {n_splits}\\\")\\nprint()\\nprint_scores(scores, METRICS, METRICS_DICT)\";\n",
       "                var nbb_formatted_code = \"repeats = 10\\nn_splits = 10\\nset_seeds()\\npipeline = Pipeline(\\n    [(\\\"transformer\\\", StandardScaler()), (\\\"estimator\\\", LinearRegression())]\\n)\\ncv = RepeatedKFold(n_splits=n_splits, n_repeats=repeats, random_state=SEED)\\nscores = cross_validate(\\n    pipeline,\\n    x,\\n    y,\\n    scoring=METRICS,\\n    cv=cv,\\n    n_jobs=-1,\\n    return_train_score=True,\\n)\\n# scores = np.abs(scores)\\nprint(\\\"Repeated Cross Validation:\\\")\\nprint(f\\\"Repeats: {repeats}\\\")\\nprint(f\\\"n_splits: {n_splits}\\\")\\nprint()\\nprint_scores(scores, METRICS, METRICS_DICT)\";\n",
       "                var nbb_cells = Jupyter.notebook.get_cells();\n",
       "                for (var i = 0; i < nbb_cells.length; ++i) {\n",
       "                    if (nbb_cells[i].input_prompt_number == nbb_cell_id) {\n",
       "                        if (nbb_cells[i].get_text() == nbb_unformatted_code) {\n",
       "                             nbb_cells[i].set_text(nbb_formatted_code);\n",
       "                        }\n",
       "                        break;\n",
       "                    }\n",
       "                }\n",
       "            }, 500);\n",
       "            "
      ],
      "text/plain": [
       "<IPython.core.display.Javascript object>"
      ]
     },
     "metadata": {},
     "output_type": "display_data"
    }
   ],
   "source": [
    "repeats = 10\n",
    "n_splits = 10\n",
    "set_seeds()\n",
    "pipeline = Pipeline(\n",
    "    [(\"transformer\", StandardScaler()), (\"estimator\", LinearRegression())]\n",
    ")\n",
    "cv = RepeatedKFold(n_splits=n_splits, n_repeats=repeats, random_state=SEED)\n",
    "scores = cross_validate(\n",
    "    pipeline,\n",
    "    x,\n",
    "    y,\n",
    "    scoring=METRICS,\n",
    "    cv=cv,\n",
    "    n_jobs=-1,\n",
    "    return_train_score=True,\n",
    ")\n",
    "# scores = np.abs(scores)\n",
    "print(\"Repeated Cross Validation:\")\n",
    "print(f\"Repeats: {repeats}\")\n",
    "print(f\"n_splits: {n_splits}\")\n",
    "print()\n",
    "print_scores(scores, METRICS, METRICS_DICT)"
   ]
  },
  {
   "cell_type": "markdown",
   "metadata": {},
   "source": [
    "# Pre Trainning"
   ]
  },
  {
   "cell_type": "markdown",
   "metadata": {},
   "source": [
    "# partner_i"
   ]
  },
  {
   "cell_type": "code",
   "execution_count": 107,
   "metadata": {},
   "outputs": [
    {
     "data": {
      "application/javascript": [
       "\n",
       "            setTimeout(function() {\n",
       "                var nbb_cell_id = 107;\n",
       "                var nbb_unformatted_code = \"batch_size = 32\\nepochs = 200\\nverbose = 1\";\n",
       "                var nbb_formatted_code = \"batch_size = 32\\nepochs = 200\\nverbose = 1\";\n",
       "                var nbb_cells = Jupyter.notebook.get_cells();\n",
       "                for (var i = 0; i < nbb_cells.length; ++i) {\n",
       "                    if (nbb_cells[i].input_prompt_number == nbb_cell_id) {\n",
       "                        if (nbb_cells[i].get_text() == nbb_unformatted_code) {\n",
       "                             nbb_cells[i].set_text(nbb_formatted_code);\n",
       "                        }\n",
       "                        break;\n",
       "                    }\n",
       "                }\n",
       "            }, 500);\n",
       "            "
      ],
      "text/plain": [
       "<IPython.core.display.Javascript object>"
      ]
     },
     "metadata": {},
     "output_type": "display_data"
    }
   ],
   "source": [
    "batch_size = 32\n",
    "epochs = 200\n",
    "verbose = 1"
   ]
  },
  {
   "cell_type": "code",
   "execution_count": 108,
   "metadata": {},
   "outputs": [
    {
     "data": {
      "application/javascript": [
       "\n",
       "            setTimeout(function() {\n",
       "                var nbb_cell_id = 108;\n",
       "                var nbb_unformatted_code = \"COMMON_FEATURES = [\\n    \\\"cao\\\",\\n    \\\"sio2\\\",\\n    \\\"al2o3\\\",\\n    \\\"fe2o3\\\",\\n    \\\"aluminate\\\",\\n    \\\"na2o\\\",\\n    \\\"mgo\\\",\\n    \\\"so3\\\",\\n    \\\"ferrite\\\",\\n    \\\"k2o\\\",\\n]\";\n",
       "                var nbb_formatted_code = \"COMMON_FEATURES = [\\n    \\\"cao\\\",\\n    \\\"sio2\\\",\\n    \\\"al2o3\\\",\\n    \\\"fe2o3\\\",\\n    \\\"aluminate\\\",\\n    \\\"na2o\\\",\\n    \\\"mgo\\\",\\n    \\\"so3\\\",\\n    \\\"ferrite\\\",\\n    \\\"k2o\\\",\\n]\";\n",
       "                var nbb_cells = Jupyter.notebook.get_cells();\n",
       "                for (var i = 0; i < nbb_cells.length; ++i) {\n",
       "                    if (nbb_cells[i].input_prompt_number == nbb_cell_id) {\n",
       "                        if (nbb_cells[i].get_text() == nbb_unformatted_code) {\n",
       "                             nbb_cells[i].set_text(nbb_formatted_code);\n",
       "                        }\n",
       "                        break;\n",
       "                    }\n",
       "                }\n",
       "            }, 500);\n",
       "            "
      ],
      "text/plain": [
       "<IPython.core.display.Javascript object>"
      ]
     },
     "metadata": {},
     "output_type": "display_data"
    }
   ],
   "source": [
    "COMMON_FEATURES = [\n",
    "    \"cao\",\n",
    "    \"sio2\",\n",
    "    \"al2o3\",\n",
    "    \"fe2o3\",\n",
    "    \"aluminate\",\n",
    "    \"na2o\",\n",
    "    \"mgo\",\n",
    "    \"so3\",\n",
    "    \"ferrite\",\n",
    "    \"k2o\",\n",
    "]"
   ]
  },
  {
   "cell_type": "code",
   "execution_count": 109,
   "metadata": {},
   "outputs": [
    {
     "data": {
      "application/javascript": [
       "\n",
       "            setTimeout(function() {\n",
       "                var nbb_cell_id = 109;\n",
       "                var nbb_unformatted_code = \"df_partner_i = pd.read_csv(\\n    \\\"../../../data/processed/partner_i-Oficial/cement-shipping.csv\\\"\\n)\";\n",
       "                var nbb_formatted_code = \"df_partner_i = pd.read_csv(\\n    \\\"../../../data/processed/partner_i-Oficial/cement-shipping.csv\\\"\\n)\";\n",
       "                var nbb_cells = Jupyter.notebook.get_cells();\n",
       "                for (var i = 0; i < nbb_cells.length; ++i) {\n",
       "                    if (nbb_cells[i].input_prompt_number == nbb_cell_id) {\n",
       "                        if (nbb_cells[i].get_text() == nbb_unformatted_code) {\n",
       "                             nbb_cells[i].set_text(nbb_formatted_code);\n",
       "                        }\n",
       "                        break;\n",
       "                    }\n",
       "                }\n",
       "            }, 500);\n",
       "            "
      ],
      "text/plain": [
       "<IPython.core.display.Javascript object>"
      ]
     },
     "metadata": {},
     "output_type": "display_data"
    }
   ],
   "source": [
    "df_partner_i = pd.read_csv(\n",
    "    \"../../../data/processed/partner_i-Oficial/cement-shipping.csv\"\n",
    ")"
   ]
  },
  {
   "cell_type": "code",
   "execution_count": 110,
   "metadata": {},
   "outputs": [
    {
     "data": {
      "application/javascript": [
       "\n",
       "            setTimeout(function() {\n",
       "                var nbb_cell_id = 110;\n",
       "                var nbb_unformatted_code = \"df_partner_i = df_partner_i.drop(\\n    [\\n        \\\"1 day Compressive strength\\\",\\n        \\\"3 day Compressive strength\\\",\\n        \\\"7 day Compressive strength\\\",\\n    ],\\n    axis=1,\\n).copy()\\n\\ny = df_partner_i.pop(\\\"28 day Compressive strength\\\")\\nx = df_partner_i.drop([\\\"Date\\\"], axis=1)\\nx.columns = x.columns.str.lower()\\nx = x[COMMON_FEATURES]\\n\\nx_train, x_test, y_train, y_test = train_test_split(\\n    x, y, test_size=0.2, random_state=SEED, shuffle=False\\n)\";\n",
       "                var nbb_formatted_code = \"df_partner_i = df_partner_i.drop(\\n    [\\n        \\\"1 day Compressive strength\\\",\\n        \\\"3 day Compressive strength\\\",\\n        \\\"7 day Compressive strength\\\",\\n    ],\\n    axis=1,\\n).copy()\\n\\ny = df_partner_i.pop(\\\"28 day Compressive strength\\\")\\nx = df_partner_i.drop([\\\"Date\\\"], axis=1)\\nx.columns = x.columns.str.lower()\\nx = x[COMMON_FEATURES]\\n\\nx_train, x_test, y_train, y_test = train_test_split(\\n    x, y, test_size=0.2, random_state=SEED, shuffle=False\\n)\";\n",
       "                var nbb_cells = Jupyter.notebook.get_cells();\n",
       "                for (var i = 0; i < nbb_cells.length; ++i) {\n",
       "                    if (nbb_cells[i].input_prompt_number == nbb_cell_id) {\n",
       "                        if (nbb_cells[i].get_text() == nbb_unformatted_code) {\n",
       "                             nbb_cells[i].set_text(nbb_formatted_code);\n",
       "                        }\n",
       "                        break;\n",
       "                    }\n",
       "                }\n",
       "            }, 500);\n",
       "            "
      ],
      "text/plain": [
       "<IPython.core.display.Javascript object>"
      ]
     },
     "metadata": {},
     "output_type": "display_data"
    }
   ],
   "source": [
    "df_partner_i = df_partner_i.drop(\n",
    "    [\n",
    "        \"1 day Compressive strength\",\n",
    "        \"3 day Compressive strength\",\n",
    "        \"7 day Compressive strength\",\n",
    "    ],\n",
    "    axis=1,\n",
    ").copy()\n",
    "\n",
    "y = df_partner_i.pop(\"28 day Compressive strength\")\n",
    "x = df_partner_i.drop([\"Date\"], axis=1)\n",
    "x.columns = x.columns.str.lower()\n",
    "x = x[COMMON_FEATURES]\n",
    "\n",
    "x_train, x_test, y_train, y_test = train_test_split(\n",
    "    x, y, test_size=0.2, random_state=SEED, shuffle=False\n",
    ")"
   ]
  },
  {
   "cell_type": "code",
   "execution_count": 111,
   "metadata": {},
   "outputs": [
    {
     "name": "stdout",
     "output_type": "stream",
     "text": [
      "Epoch 1/200\n",
      "31/31 [==============================] - 0s 1ms/step - loss: 1737.5958 - RMSE: 41.6845\n",
      "Epoch 2/200\n",
      "31/31 [==============================] - 0s 1ms/step - loss: 383.6374 - RMSE: 19.5867\n",
      "Epoch 3/200\n",
      "31/31 [==============================] - 0s 1ms/step - loss: 89.5576 - RMSE: 9.4635\n",
      "Epoch 4/200\n",
      "31/31 [==============================] - 0s 2ms/step - loss: 72.1684 - RMSE: 8.4952\n",
      "Epoch 5/200\n",
      "31/31 [==============================] - 0s 2ms/step - loss: 60.3155 - RMSE: 7.7663\n",
      "Epoch 6/200\n",
      "31/31 [==============================] - 0s 1ms/step - loss: 59.7847 - RMSE: 7.7321\n",
      "Epoch 7/200\n",
      "31/31 [==============================] - 0s 1ms/step - loss: 56.0485 - RMSE: 7.4866\n",
      "Epoch 8/200\n",
      "31/31 [==============================] - 0s 1ms/step - loss: 50.4306 - RMSE: 7.1015\n",
      "Epoch 9/200\n",
      "31/31 [==============================] - 0s 2ms/step - loss: 51.6459 - RMSE: 7.1865\n",
      "Epoch 10/200\n",
      "31/31 [==============================] - 0s 2ms/step - loss: 43.8159 - RMSE: 6.6194\n",
      "Epoch 11/200\n",
      "31/31 [==============================] - 0s 2ms/step - loss: 49.6060 - RMSE: 7.0432\n",
      "Epoch 12/200\n",
      "31/31 [==============================] - 0s 1ms/step - loss: 45.6345 - RMSE: 6.7553\n",
      "Epoch 13/200\n",
      "31/31 [==============================] - 0s 2ms/step - loss: 43.9326 - RMSE: 6.6282\n",
      "Epoch 14/200\n",
      "31/31 [==============================] - 0s 2ms/step - loss: 46.1639 - RMSE: 6.7944\n",
      "Epoch 15/200\n",
      "31/31 [==============================] - 0s 2ms/step - loss: 41.8126 - RMSE: 6.4663\n",
      "Epoch 16/200\n",
      "31/31 [==============================] - 0s 2ms/step - loss: 43.2917 - RMSE: 6.5796\n",
      "Epoch 17/200\n",
      "31/31 [==============================] - 0s 2ms/step - loss: 44.3341 - RMSE: 6.6584\n",
      "Epoch 18/200\n",
      "31/31 [==============================] - 0s 2ms/step - loss: 41.5150 - RMSE: 6.4432\n",
      "Epoch 19/200\n",
      "31/31 [==============================] - 0s 2ms/step - loss: 43.4164 - RMSE: 6.5891\n",
      "Epoch 20/200\n",
      "31/31 [==============================] - 0s 2ms/step - loss: 41.0095 - RMSE: 6.4039\n",
      "Epoch 21/200\n",
      "31/31 [==============================] - 0s 2ms/step - loss: 43.0123 - RMSE: 6.5584\n",
      "Epoch 22/200\n",
      "31/31 [==============================] - 0s 2ms/step - loss: 37.4135 - RMSE: 6.1167\n",
      "Epoch 23/200\n",
      "31/31 [==============================] - 0s 1ms/step - loss: 36.6120 - RMSE: 6.0508\n",
      "Epoch 24/200\n",
      "31/31 [==============================] - 0s 1ms/step - loss: 35.9731 - RMSE: 5.9978\n",
      "Epoch 25/200\n",
      "31/31 [==============================] - 0s 2ms/step - loss: 40.2126 - RMSE: 6.3413\n",
      "Epoch 26/200\n",
      "31/31 [==============================] - 0s 2ms/step - loss: 37.4334 - RMSE: 6.1183\n",
      "Epoch 27/200\n",
      "31/31 [==============================] - 0s 2ms/step - loss: 39.8880 - RMSE: 6.3157\n",
      "Epoch 28/200\n",
      "31/31 [==============================] - 0s 2ms/step - loss: 40.3986 - RMSE: 6.3560\n",
      "Epoch 29/200\n",
      "31/31 [==============================] - 0s 1ms/step - loss: 34.8130 - RMSE: 5.9003\n",
      "Epoch 30/200\n",
      "31/31 [==============================] - 0s 1ms/step - loss: 39.8320 - RMSE: 6.3113\n",
      "Epoch 31/200\n",
      "31/31 [==============================] - 0s 1ms/step - loss: 36.0942 - RMSE: 6.0078\n",
      "Epoch 32/200\n",
      "31/31 [==============================] - 0s 1ms/step - loss: 35.7121 - RMSE: 5.9760\n",
      "Epoch 33/200\n",
      "31/31 [==============================] - 0s 1ms/step - loss: 36.0799 - RMSE: 6.0067\n",
      "Epoch 34/200\n",
      "31/31 [==============================] - 0s 1ms/step - loss: 35.5264 - RMSE: 5.9604\n",
      "Epoch 35/200\n",
      "31/31 [==============================] - 0s 2ms/step - loss: 36.9596 - RMSE: 6.0794\n",
      "Epoch 36/200\n",
      "31/31 [==============================] - 0s 1ms/step - loss: 39.4027 - RMSE: 6.2772\n",
      "Epoch 37/200\n",
      "31/31 [==============================] - 0s 1ms/step - loss: 34.7037 - RMSE: 5.8910\n",
      "Epoch 38/200\n",
      "31/31 [==============================] - 0s 2ms/step - loss: 35.2464 - RMSE: 5.9369\n",
      "Epoch 39/200\n",
      "31/31 [==============================] - 0s 2ms/step - loss: 36.5732 - RMSE: 6.0476\n",
      "Epoch 40/200\n",
      "31/31 [==============================] - 0s 2ms/step - loss: 37.8710 - RMSE: 6.1539\n",
      "Epoch 41/200\n",
      "31/31 [==============================] - 0s 2ms/step - loss: 34.9819 - RMSE: 5.9145\n",
      "Epoch 42/200\n",
      "31/31 [==============================] - 0s 2ms/step - loss: 35.7320 - RMSE: 5.9776\n",
      "Epoch 43/200\n",
      "31/31 [==============================] - 0s 2ms/step - loss: 36.9924 - RMSE: 6.0821\n",
      "Epoch 44/200\n",
      "31/31 [==============================] - 0s 2ms/step - loss: 38.8021 - RMSE: 6.2291\n",
      "Epoch 45/200\n",
      "31/31 [==============================] - 0s 1ms/step - loss: 33.4953 - RMSE: 5.7875\n",
      "Epoch 46/200\n",
      "31/31 [==============================] - 0s 2ms/step - loss: 35.8477 - RMSE: 5.9873\n",
      "Epoch 47/200\n",
      "31/31 [==============================] - 0s 2ms/step - loss: 35.5411 - RMSE: 5.9616\n",
      "Epoch 48/200\n",
      "31/31 [==============================] - 0s 1ms/step - loss: 35.6704 - RMSE: 5.9725\n",
      "Epoch 49/200\n",
      "31/31 [==============================] - 0s 2ms/step - loss: 36.7386 - RMSE: 6.0612\n",
      "Epoch 50/200\n",
      "31/31 [==============================] - 0s 2ms/step - loss: 35.0304 - RMSE: 5.9186\n",
      "Epoch 51/200\n",
      "31/31 [==============================] - 0s 2ms/step - loss: 37.0446 - RMSE: 6.0864\n",
      "Epoch 52/200\n",
      "31/31 [==============================] - 0s 1ms/step - loss: 38.3554 - RMSE: 6.1932\n",
      "Epoch 53/200\n",
      "31/31 [==============================] - 0s 1ms/step - loss: 33.9166 - RMSE: 5.8238\n",
      "Epoch 54/200\n",
      "31/31 [==============================] - 0s 2ms/step - loss: 35.9955 - RMSE: 5.9996\n",
      "Epoch 55/200\n",
      "31/31 [==============================] - 0s 2ms/step - loss: 33.5048 - RMSE: 5.7883\n",
      "Epoch 56/200\n",
      "31/31 [==============================] - 0s 1ms/step - loss: 43.1318 - RMSE: 6.5675\n",
      "Epoch 57/200\n",
      "31/31 [==============================] - 0s 2ms/step - loss: 35.0196 - RMSE: 5.9177\n",
      "Epoch 58/200\n",
      "31/31 [==============================] - 0s 2ms/step - loss: 36.9967 - RMSE: 6.0825\n",
      "Epoch 59/200\n",
      "31/31 [==============================] - 0s 2ms/step - loss: 34.1308 - RMSE: 5.8422\n",
      "Epoch 60/200\n",
      "31/31 [==============================] - 0s 2ms/step - loss: 36.2329 - RMSE: 6.0194\n",
      "Epoch 61/200\n",
      "31/31 [==============================] - 0s 2ms/step - loss: 34.9115 - RMSE: 5.9086\n",
      "Epoch 62/200\n",
      "31/31 [==============================] - 0s 2ms/step - loss: 33.9749 - RMSE: 5.8288\n",
      "Epoch 63/200\n",
      "31/31 [==============================] - 0s 1ms/step - loss: 32.6240 - RMSE: 5.7117\n",
      "Epoch 64/200\n",
      "31/31 [==============================] - 0s 1ms/step - loss: 32.9013 - RMSE: 5.7360\n",
      "Epoch 65/200\n",
      "31/31 [==============================] - 0s 2ms/step - loss: 40.9385 - RMSE: 6.3983\n",
      "Epoch 66/200\n",
      "31/31 [==============================] - 0s 2ms/step - loss: 34.4437 - RMSE: 5.8689\n",
      "Epoch 67/200\n",
      "31/31 [==============================] - 0s 1ms/step - loss: 35.4235 - RMSE: 5.9518\n",
      "Epoch 68/200\n",
      "31/31 [==============================] - 0s 2ms/step - loss: 31.6538 - RMSE: 5.6262\n",
      "Epoch 69/200\n",
      "31/31 [==============================] - 0s 1ms/step - loss: 36.7451 - RMSE: 6.0618\n",
      "Epoch 70/200\n",
      "31/31 [==============================] - 0s 2ms/step - loss: 36.9836 - RMSE: 6.0814\n",
      "Epoch 71/200\n",
      "31/31 [==============================] - 0s 2ms/step - loss: 36.2904 - RMSE: 6.0242\n",
      "Epoch 72/200\n",
      "31/31 [==============================] - 0s 2ms/step - loss: 32.8914 - RMSE: 5.7351\n",
      "Epoch 73/200\n",
      "31/31 [==============================] - 0s 2ms/step - loss: 35.9280 - RMSE: 5.9940\n",
      "Epoch 74/200\n",
      "31/31 [==============================] - 0s 1ms/step - loss: 34.0105 - RMSE: 5.8319\n",
      "Epoch 75/200\n",
      "31/31 [==============================] - 0s 2ms/step - loss: 35.7839 - RMSE: 5.9820\n",
      "Epoch 76/200\n",
      "31/31 [==============================] - 0s 2ms/step - loss: 37.6901 - RMSE: 6.1392\n",
      "Epoch 77/200\n",
      "31/31 [==============================] - 0s 1ms/step - loss: 37.8417 - RMSE: 6.1516\n",
      "Epoch 78/200\n",
      "31/31 [==============================] - 0s 2ms/step - loss: 36.0460 - RMSE: 6.0038\n",
      "Epoch 79/200\n",
      "31/31 [==============================] - 0s 2ms/step - loss: 34.0635 - RMSE: 5.8364\n",
      "Epoch 80/200\n",
      "31/31 [==============================] - 0s 2ms/step - loss: 34.3063 - RMSE: 5.8572\n",
      "Epoch 81/200\n",
      "31/31 [==============================] - 0s 2ms/step - loss: 28.6550 - RMSE: 5.3530\n",
      "Epoch 82/200\n",
      "31/31 [==============================] - 0s 2ms/step - loss: 31.5057 - RMSE: 5.6130\n",
      "Epoch 83/200\n",
      "31/31 [==============================] - 0s 2ms/step - loss: 37.6745 - RMSE: 6.1380\n",
      "Epoch 84/200\n",
      "31/31 [==============================] - 0s 1ms/step - loss: 32.7067 - RMSE: 5.7190\n",
      "Epoch 85/200\n"
     ]
    },
    {
     "name": "stdout",
     "output_type": "stream",
     "text": [
      "31/31 [==============================] - 0s 2ms/step - loss: 34.2999 - RMSE: 5.8566\n",
      "Epoch 86/200\n",
      "31/31 [==============================] - 0s 1ms/step - loss: 33.6184 - RMSE: 5.7981\n",
      "Epoch 87/200\n",
      "31/31 [==============================] - 0s 2ms/step - loss: 35.4885 - RMSE: 5.9572\n",
      "Epoch 88/200\n",
      "31/31 [==============================] - 0s 2ms/step - loss: 33.2968 - RMSE: 5.7703\n",
      "Epoch 89/200\n",
      "31/31 [==============================] - 0s 2ms/step - loss: 34.8814 - RMSE: 5.9060\n",
      "Epoch 90/200\n",
      "31/31 [==============================] - 0s 2ms/step - loss: 36.8509 - RMSE: 6.0705\n",
      "Epoch 91/200\n",
      "31/31 [==============================] - 0s 1ms/step - loss: 37.8647 - RMSE: 6.1534\n",
      "Epoch 92/200\n",
      "31/31 [==============================] - 0s 2ms/step - loss: 34.6462 - RMSE: 5.8861\n",
      "Epoch 93/200\n",
      "31/31 [==============================] - 0s 2ms/step - loss: 36.2723 - RMSE: 6.0226\n",
      "Epoch 94/200\n",
      "31/31 [==============================] - 0s 2ms/step - loss: 34.8664 - RMSE: 5.9048\n",
      "Epoch 95/200\n",
      "31/31 [==============================] - 0s 2ms/step - loss: 35.7841 - RMSE: 5.9820\n",
      "Epoch 96/200\n",
      "31/31 [==============================] - 0s 2ms/step - loss: 34.4593 - RMSE: 5.8702\n",
      "Epoch 97/200\n",
      "31/31 [==============================] - 0s 2ms/step - loss: 38.5734 - RMSE: 6.2107\n",
      "Epoch 98/200\n",
      "31/31 [==============================] - 0s 2ms/step - loss: 33.6685 - RMSE: 5.8025\n",
      "Epoch 99/200\n",
      "31/31 [==============================] - 0s 2ms/step - loss: 33.9342 - RMSE: 5.8253\n",
      "Epoch 100/200\n",
      "31/31 [==============================] - 0s 1ms/step - loss: 34.2206 - RMSE: 5.8498\n",
      "Epoch 101/200\n",
      "31/31 [==============================] - 0s 1ms/step - loss: 36.5574 - RMSE: 6.0463\n",
      "Epoch 102/200\n",
      "31/31 [==============================] - 0s 2ms/step - loss: 33.4435 - RMSE: 5.7830\n",
      "Epoch 103/200\n",
      "31/31 [==============================] - 0s 2ms/step - loss: 33.0926 - RMSE: 5.7526\n",
      "Epoch 104/200\n",
      "31/31 [==============================] - 0s 2ms/step - loss: 36.1347 - RMSE: 6.0112\n",
      "Epoch 105/200\n",
      "31/31 [==============================] - 0s 1ms/step - loss: 33.3058 - RMSE: 5.7711\n",
      "Epoch 106/200\n",
      "31/31 [==============================] - 0s 2ms/step - loss: 30.4860 - RMSE: 5.5214\n",
      "Epoch 107/200\n",
      "31/31 [==============================] - 0s 2ms/step - loss: 34.3565 - RMSE: 5.8614\n",
      "Epoch 108/200\n",
      "31/31 [==============================] - 0s 2ms/step - loss: 33.7623 - RMSE: 5.8105\n",
      "Epoch 109/200\n",
      "31/31 [==============================] - 0s 2ms/step - loss: 37.4157 - RMSE: 6.1168\n",
      "Epoch 110/200\n",
      "31/31 [==============================] - 0s 2ms/step - loss: 33.7830 - RMSE: 5.8123\n",
      "Epoch 111/200\n",
      "31/31 [==============================] - 0s 2ms/step - loss: 35.0397 - RMSE: 5.9194\n",
      "Epoch 112/200\n",
      "31/31 [==============================] - 0s 2ms/step - loss: 33.1786 - RMSE: 5.7601\n",
      "Epoch 113/200\n",
      "31/31 [==============================] - 0s 1ms/step - loss: 35.7379 - RMSE: 5.9781\n",
      "Epoch 114/200\n",
      "31/31 [==============================] - 0s 2ms/step - loss: 32.7853 - RMSE: 5.7258\n",
      "Epoch 115/200\n",
      "31/31 [==============================] - 0s 1ms/step - loss: 32.8860 - RMSE: 5.7346\n",
      "Epoch 116/200\n",
      "31/31 [==============================] - 0s 2ms/step - loss: 32.1951 - RMSE: 5.6741\n",
      "Epoch 117/200\n",
      "31/31 [==============================] - 0s 2ms/step - loss: 35.3675 - RMSE: 5.9471\n",
      "Epoch 118/200\n",
      "31/31 [==============================] - 0s 1ms/step - loss: 33.7897 - RMSE: 5.8129\n",
      "Epoch 119/200\n",
      "31/31 [==============================] - 0s 1ms/step - loss: 35.7182 - RMSE: 5.9765\n",
      "Epoch 120/200\n",
      "31/31 [==============================] - 0s 1ms/step - loss: 35.6001 - RMSE: 5.9666\n",
      "Epoch 121/200\n",
      "31/31 [==============================] - 0s 2ms/step - loss: 31.1224 - RMSE: 5.5787\n",
      "Epoch 122/200\n",
      "31/31 [==============================] - 0s 2ms/step - loss: 32.1337 - RMSE: 5.6687\n",
      "Epoch 123/200\n",
      "31/31 [==============================] - 0s 2ms/step - loss: 35.2669 - RMSE: 5.9386\n",
      "Epoch 124/200\n",
      "31/31 [==============================] - 0s 2ms/step - loss: 34.8459 - RMSE: 5.9030\n",
      "Epoch 125/200\n",
      "31/31 [==============================] - 0s 1ms/step - loss: 34.9319 - RMSE: 5.9103\n",
      "Epoch 126/200\n",
      "31/31 [==============================] - 0s 2ms/step - loss: 33.0831 - RMSE: 5.7518\n",
      "Epoch 127/200\n",
      "31/31 [==============================] - 0s 2ms/step - loss: 35.8413 - RMSE: 5.9868\n",
      "Epoch 128/200\n",
      "31/31 [==============================] - 0s 2ms/step - loss: 34.8236 - RMSE: 5.9012\n",
      "Epoch 129/200\n",
      "31/31 [==============================] - 0s 1ms/step - loss: 33.4199 - RMSE: 5.7810\n",
      "Epoch 130/200\n",
      "31/31 [==============================] - 0s 2ms/step - loss: 32.1404 - RMSE: 5.6692\n",
      "Epoch 131/200\n",
      "31/31 [==============================] - 0s 2ms/step - loss: 33.2170 - RMSE: 5.7634\n",
      "Epoch 132/200\n",
      "31/31 [==============================] - 0s 1ms/step - loss: 31.8378 - RMSE: 5.6425\n",
      "Epoch 133/200\n",
      "31/31 [==============================] - 0s 1ms/step - loss: 33.6388 - RMSE: 5.7999\n",
      "Epoch 134/200\n",
      "31/31 [==============================] - 0s 2ms/step - loss: 33.6785 - RMSE: 5.8033\n",
      "Epoch 135/200\n",
      "31/31 [==============================] - 0s 2ms/step - loss: 34.5240 - RMSE: 5.8757\n",
      "Epoch 136/200\n",
      "31/31 [==============================] - 0s 2ms/step - loss: 30.5894 - RMSE: 5.5308\n",
      "Epoch 137/200\n",
      "31/31 [==============================] - 0s 1ms/step - loss: 38.3897 - RMSE: 6.1959\n",
      "Epoch 138/200\n",
      "31/31 [==============================] - 0s 2ms/step - loss: 39.0785 - RMSE: 6.2513\n",
      "Epoch 139/200\n",
      "31/31 [==============================] - 0s 2ms/step - loss: 34.0566 - RMSE: 5.8358\n",
      "Epoch 140/200\n",
      "31/31 [==============================] - 0s 2ms/step - loss: 32.5181 - RMSE: 5.7025\n",
      "Epoch 141/200\n",
      "31/31 [==============================] - 0s 2ms/step - loss: 34.8148 - RMSE: 5.9004\n",
      "Epoch 142/200\n",
      "31/31 [==============================] - 0s 1ms/step - loss: 34.2058 - RMSE: 5.8486\n",
      "Epoch 143/200\n",
      "31/31 [==============================] - 0s 2ms/step - loss: 36.1432 - RMSE: 6.0119\n",
      "Epoch 144/200\n",
      "31/31 [==============================] - 0s 2ms/step - loss: 34.5541 - RMSE: 5.8783\n",
      "Epoch 145/200\n",
      "31/31 [==============================] - 0s 2ms/step - loss: 36.9297 - RMSE: 6.0770\n",
      "Epoch 146/200\n",
      "31/31 [==============================] - 0s 2ms/step - loss: 34.1855 - RMSE: 5.8468\n",
      "Epoch 147/200\n",
      "31/31 [==============================] - 0s 1ms/step - loss: 34.4245 - RMSE: 5.8672\n",
      "Epoch 148/200\n",
      "31/31 [==============================] - 0s 2ms/step - loss: 35.6396 - RMSE: 5.9699\n",
      "Epoch 149/200\n",
      "31/31 [==============================] - 0s 1ms/step - loss: 33.2999 - RMSE: 5.7706\n",
      "Epoch 150/200\n",
      "31/31 [==============================] - 0s 1ms/step - loss: 31.0653 - RMSE: 5.5736\n",
      "Epoch 151/200\n",
      "31/31 [==============================] - 0s 2ms/step - loss: 33.1050 - RMSE: 5.7537\n",
      "Epoch 152/200\n",
      "31/31 [==============================] - 0s 2ms/step - loss: 35.0364 - RMSE: 5.9192\n",
      "Epoch 153/200\n",
      "31/31 [==============================] - 0s 2ms/step - loss: 33.3483 - RMSE: 5.7748\n",
      "Epoch 154/200\n",
      "31/31 [==============================] - 0s 1ms/step - loss: 34.1311 - RMSE: 5.8422\n",
      "Epoch 155/200\n",
      "31/31 [==============================] - 0s 2ms/step - loss: 32.3802 - RMSE: 5.6904\n",
      "Epoch 156/200\n",
      "31/31 [==============================] - 0s 2ms/step - loss: 36.9388 - RMSE: 6.0777\n",
      "Epoch 157/200\n",
      "31/31 [==============================] - 0s 1ms/step - loss: 35.5109 - RMSE: 5.9591\n",
      "Epoch 158/200\n",
      "31/31 [==============================] - 0s 2ms/step - loss: 34.5047 - RMSE: 5.8741\n",
      "Epoch 159/200\n",
      "31/31 [==============================] - 0s 2ms/step - loss: 30.3099 - RMSE: 5.5054\n",
      "Epoch 160/200\n",
      "31/31 [==============================] - 0s 2ms/step - loss: 34.8213 - RMSE: 5.9010\n",
      "Epoch 161/200\n",
      "31/31 [==============================] - 0s 1ms/step - loss: 30.4629 - RMSE: 5.5193\n",
      "Epoch 162/200\n",
      "31/31 [==============================] - 0s 1ms/step - loss: 34.0212 - RMSE: 5.8328\n",
      "Epoch 163/200\n",
      "31/31 [==============================] - 0s 2ms/step - loss: 34.7523 - RMSE: 5.8951\n",
      "Epoch 164/200\n",
      "31/31 [==============================] - 0s 2ms/step - loss: 32.3915 - RMSE: 5.6914\n",
      "Epoch 165/200\n",
      "31/31 [==============================] - 0s 2ms/step - loss: 33.2279 - RMSE: 5.7644\n",
      "Epoch 166/200\n",
      "31/31 [==============================] - 0s 2ms/step - loss: 32.2887 - RMSE: 5.6823\n",
      "Epoch 167/200\n",
      "31/31 [==============================] - 0s 1ms/step - loss: 35.1794 - RMSE: 5.9312\n",
      "Epoch 168/200\n"
     ]
    },
    {
     "name": "stdout",
     "output_type": "stream",
     "text": [
      "31/31 [==============================] - 0s 2ms/step - loss: 32.8953 - RMSE: 5.7354\n",
      "Epoch 169/200\n",
      "31/31 [==============================] - 0s 2ms/step - loss: 34.1596 - RMSE: 5.8446\n",
      "Epoch 170/200\n",
      "31/31 [==============================] - 0s 2ms/step - loss: 32.4082 - RMSE: 5.6928\n",
      "Epoch 171/200\n",
      "31/31 [==============================] - 0s 2ms/step - loss: 33.3973 - RMSE: 5.7790\n",
      "Epoch 172/200\n",
      "31/31 [==============================] - 0s 2ms/step - loss: 37.2954 - RMSE: 6.1070\n",
      "Epoch 173/200\n",
      "31/31 [==============================] - 0s 2ms/step - loss: 34.0499 - RMSE: 5.8352\n",
      "Epoch 174/200\n",
      "31/31 [==============================] - 0s 2ms/step - loss: 32.9946 - RMSE: 5.7441\n",
      "Epoch 175/200\n",
      "31/31 [==============================] - 0s 1ms/step - loss: 32.4920 - RMSE: 5.7002\n",
      "Epoch 176/200\n",
      "31/31 [==============================] - 0s 2ms/step - loss: 31.9044 - RMSE: 5.6484\n",
      "Epoch 177/200\n",
      "31/31 [==============================] - 0s 2ms/step - loss: 32.5216 - RMSE: 5.7028\n",
      "Epoch 178/200\n",
      "31/31 [==============================] - 0s 2ms/step - loss: 36.4481 - RMSE: 6.0372\n",
      "Epoch 179/200\n",
      "31/31 [==============================] - 0s 1ms/step - loss: 36.2497 - RMSE: 6.0208\n",
      "Epoch 180/200\n",
      "31/31 [==============================] - 0s 1ms/step - loss: 31.3891 - RMSE: 5.6026\n",
      "Epoch 181/200\n",
      "31/31 [==============================] - 0s 2ms/step - loss: 36.7653 - RMSE: 6.0634\n",
      "Epoch 182/200\n",
      "31/31 [==============================] - 0s 2ms/step - loss: 36.1175 - RMSE: 6.0098\n",
      "Epoch 183/200\n",
      "31/31 [==============================] - 0s 2ms/step - loss: 31.1661 - RMSE: 5.5827\n",
      "Epoch 184/200\n",
      "31/31 [==============================] - 0s 2ms/step - loss: 33.0228 - RMSE: 5.7465\n",
      "Epoch 185/200\n",
      "31/31 [==============================] - 0s 2ms/step - loss: 32.2217 - RMSE: 5.6764\n",
      "Epoch 186/200\n",
      "31/31 [==============================] - 0s 1ms/step - loss: 30.4003 - RMSE: 5.5136\n",
      "Epoch 187/200\n",
      "31/31 [==============================] - 0s 1ms/step - loss: 31.8692 - RMSE: 5.6453\n",
      "Epoch 188/200\n",
      "31/31 [==============================] - 0s 2ms/step - loss: 35.5219 - RMSE: 5.9600\n",
      "Epoch 189/200\n",
      "31/31 [==============================] - 0s 1ms/step - loss: 34.2322 - RMSE: 5.8508\n",
      "Epoch 190/200\n",
      "31/31 [==============================] - 0s 2ms/step - loss: 34.2224 - RMSE: 5.8500\n",
      "Epoch 191/200\n",
      "31/31 [==============================] - 0s 2ms/step - loss: 33.0273 - RMSE: 5.7469\n",
      "Epoch 192/200\n",
      "31/31 [==============================] - 0s 2ms/step - loss: 33.2694 - RMSE: 5.7680\n",
      "Epoch 193/200\n",
      "31/31 [==============================] - 0s 1ms/step - loss: 31.4307 - RMSE: 5.6063\n",
      "Epoch 194/200\n",
      "31/31 [==============================] - 0s 2ms/step - loss: 32.2355 - RMSE: 5.6776\n",
      "Epoch 195/200\n",
      "31/31 [==============================] - 0s 2ms/step - loss: 33.7481 - RMSE: 5.8093\n",
      "Epoch 196/200\n",
      "31/31 [==============================] - 0s 2ms/step - loss: 35.0976 - RMSE: 5.9243\n",
      "Epoch 197/200\n",
      "31/31 [==============================] - 0s 2ms/step - loss: 31.9357 - RMSE: 5.6512\n",
      "Epoch 198/200\n",
      "31/31 [==============================] - 0s 2ms/step - loss: 33.3969 - RMSE: 5.7790\n",
      "Epoch 199/200\n",
      "31/31 [==============================] - 0s 1ms/step - loss: 31.1366 - RMSE: 5.5800\n",
      "Epoch 200/200\n",
      "31/31 [==============================] - 0s 2ms/step - loss: 30.9044 - RMSE: 5.5592\n"
     ]
    },
    {
     "data": {
      "application/javascript": [
       "\n",
       "            setTimeout(function() {\n",
       "                var nbb_cell_id = 111;\n",
       "                var nbb_unformatted_code = \"set_seeds()\\nmodel = get_model(shape=(x_train.shape[-1]))\\nsc = StandardScaler()\\n\\nhistory = model.fit(\\n    sc.fit_transform(x_train),\\n    y_train,\\n    batch_size=batch_size,\\n    epochs=epochs,\\n    verbose=verbose,\\n)\";\n",
       "                var nbb_formatted_code = \"set_seeds()\\nmodel = get_model(shape=(x_train.shape[-1]))\\nsc = StandardScaler()\\n\\nhistory = model.fit(\\n    sc.fit_transform(x_train),\\n    y_train,\\n    batch_size=batch_size,\\n    epochs=epochs,\\n    verbose=verbose,\\n)\";\n",
       "                var nbb_cells = Jupyter.notebook.get_cells();\n",
       "                for (var i = 0; i < nbb_cells.length; ++i) {\n",
       "                    if (nbb_cells[i].input_prompt_number == nbb_cell_id) {\n",
       "                        if (nbb_cells[i].get_text() == nbb_unformatted_code) {\n",
       "                             nbb_cells[i].set_text(nbb_formatted_code);\n",
       "                        }\n",
       "                        break;\n",
       "                    }\n",
       "                }\n",
       "            }, 500);\n",
       "            "
      ],
      "text/plain": [
       "<IPython.core.display.Javascript object>"
      ]
     },
     "metadata": {},
     "output_type": "display_data"
    }
   ],
   "source": [
    "set_seeds()\n",
    "model = get_model(shape=(x_train.shape[-1]))\n",
    "sc = StandardScaler()\n",
    "\n",
    "history = model.fit(\n",
    "    sc.fit_transform(x_train),\n",
    "    y_train,\n",
    "    batch_size=batch_size,\n",
    "    epochs=epochs,\n",
    "    verbose=verbose,\n",
    ")"
   ]
  },
  {
   "cell_type": "code",
   "execution_count": 112,
   "metadata": {},
   "outputs": [
    {
     "name": "stdout",
     "output_type": "stream",
     "text": [
      "******\n",
      "[TRAIN]\n",
      "******\n",
      "RMSE: 3.307 (0.000)\n",
      "MAE: 2.636 (0.000)\n",
      "MAPE: 0.061 (0.000)\n",
      "R2: 0.571 (0.000)\n",
      "\n",
      "======================\n",
      "\n",
      "******\n",
      "[TEST]\n",
      "******\n",
      "RMSE: 3.987 (0.000)\n",
      "MAE: 3.326 (0.000)\n",
      "MAPE: 0.075 (0.000)\n",
      "R2: 0.356 (0.000)\n",
      "\n",
      "======================\n",
      "\n"
     ]
    },
    {
     "data": {
      "application/javascript": [
       "\n",
       "            setTimeout(function() {\n",
       "                var nbb_cell_id = 112;\n",
       "                var nbb_unformatted_code = \"y_train_pred = model.predict(sc.transform(x_train))\\ny_test_pred = model.predict(sc.transform(x_test))\\nscores = score_regression_metrics(y_train, y_train_pred, y_test, y_test_pred)\\nprint_scores(scores, METRICS, METRICS_DICT)\";\n",
       "                var nbb_formatted_code = \"y_train_pred = model.predict(sc.transform(x_train))\\ny_test_pred = model.predict(sc.transform(x_test))\\nscores = score_regression_metrics(y_train, y_train_pred, y_test, y_test_pred)\\nprint_scores(scores, METRICS, METRICS_DICT)\";\n",
       "                var nbb_cells = Jupyter.notebook.get_cells();\n",
       "                for (var i = 0; i < nbb_cells.length; ++i) {\n",
       "                    if (nbb_cells[i].input_prompt_number == nbb_cell_id) {\n",
       "                        if (nbb_cells[i].get_text() == nbb_unformatted_code) {\n",
       "                             nbb_cells[i].set_text(nbb_formatted_code);\n",
       "                        }\n",
       "                        break;\n",
       "                    }\n",
       "                }\n",
       "            }, 500);\n",
       "            "
      ],
      "text/plain": [
       "<IPython.core.display.Javascript object>"
      ]
     },
     "metadata": {},
     "output_type": "display_data"
    }
   ],
   "source": [
    "y_train_pred = model.predict(sc.transform(x_train))\n",
    "y_test_pred = model.predict(sc.transform(x_test))\n",
    "scores = score_regression_metrics(y_train, y_train_pred, y_test, y_test_pred)\n",
    "print_scores(scores, METRICS, METRICS_DICT)"
   ]
  },
  {
   "cell_type": "code",
   "execution_count": 113,
   "metadata": {},
   "outputs": [
    {
     "data": {
      "application/javascript": [
       "\n",
       "            setTimeout(function() {\n",
       "                var nbb_cell_id = 113;\n",
       "                var nbb_unformatted_code = \"model.save_weights(\\\"conv1d_weights.h5\\\")\";\n",
       "                var nbb_formatted_code = \"model.save_weights(\\\"conv1d_weights.h5\\\")\";\n",
       "                var nbb_cells = Jupyter.notebook.get_cells();\n",
       "                for (var i = 0; i < nbb_cells.length; ++i) {\n",
       "                    if (nbb_cells[i].input_prompt_number == nbb_cell_id) {\n",
       "                        if (nbb_cells[i].get_text() == nbb_unformatted_code) {\n",
       "                             nbb_cells[i].set_text(nbb_formatted_code);\n",
       "                        }\n",
       "                        break;\n",
       "                    }\n",
       "                }\n",
       "            }, 500);\n",
       "            "
      ],
      "text/plain": [
       "<IPython.core.display.Javascript object>"
      ]
     },
     "metadata": {},
     "output_type": "display_data"
    }
   ],
   "source": [
    "model.save_weights(\"conv1d_weights.h5\")"
   ]
  },
  {
   "cell_type": "markdown",
   "metadata": {},
   "source": [
    "# Fine Tuning"
   ]
  },
  {
   "cell_type": "markdown",
   "metadata": {},
   "source": [
    "# partner_ii"
   ]
  },
  {
   "cell_type": "code",
   "execution_count": 114,
   "metadata": {},
   "outputs": [
    {
     "data": {
      "application/javascript": [
       "\n",
       "            setTimeout(function() {\n",
       "                var nbb_cell_id = 114;\n",
       "                var nbb_unformatted_code = \"df_partner_ii = pd.read_csv(\\\"../../../data/processed/partner_ii/cement-shipping.csv\\\")\\ndf_no_cs = df_partner_ii.drop(\\n    [\\\"strength_1d\\\", \\\"strength_3d\\\", \\\"strength_7d\\\"],\\n    axis=1,\\n).copy()\\ny = df_no_cs.pop(\\\"strength_28d\\\")\\nx = df_no_cs.rename({\\\"sample_date\\\": \\\"date\\\"}, axis=1)\\n\\nx.columns = x.columns.str.lower()\\nx = x[COMMON_FEATURES]\\n\\nx_train, x_test, y_train, y_test = train_test_split(\\n    x, y, test_size=0.2, random_state=SEED, shuffle=False\\n)\";\n",
       "                var nbb_formatted_code = \"df_partner_ii = pd.read_csv(\\\"../../../data/processed/partner_ii/cement-shipping.csv\\\")\\ndf_no_cs = df_partner_ii.drop(\\n    [\\\"strength_1d\\\", \\\"strength_3d\\\", \\\"strength_7d\\\"],\\n    axis=1,\\n).copy()\\ny = df_no_cs.pop(\\\"strength_28d\\\")\\nx = df_no_cs.rename({\\\"sample_date\\\": \\\"date\\\"}, axis=1)\\n\\nx.columns = x.columns.str.lower()\\nx = x[COMMON_FEATURES]\\n\\nx_train, x_test, y_train, y_test = train_test_split(\\n    x, y, test_size=0.2, random_state=SEED, shuffle=False\\n)\";\n",
       "                var nbb_cells = Jupyter.notebook.get_cells();\n",
       "                for (var i = 0; i < nbb_cells.length; ++i) {\n",
       "                    if (nbb_cells[i].input_prompt_number == nbb_cell_id) {\n",
       "                        if (nbb_cells[i].get_text() == nbb_unformatted_code) {\n",
       "                             nbb_cells[i].set_text(nbb_formatted_code);\n",
       "                        }\n",
       "                        break;\n",
       "                    }\n",
       "                }\n",
       "            }, 500);\n",
       "            "
      ],
      "text/plain": [
       "<IPython.core.display.Javascript object>"
      ]
     },
     "metadata": {},
     "output_type": "display_data"
    }
   ],
   "source": [
    "df_partner_ii = pd.read_csv(\"../../../data/processed/partner_ii/cement-shipping.csv\")\n",
    "df_no_cs = df_partner_ii.drop(\n",
    "    [\"strength_1d\", \"strength_3d\", \"strength_7d\"],\n",
    "    axis=1,\n",
    ").copy()\n",
    "y = df_no_cs.pop(\"strength_28d\")\n",
    "x = df_no_cs.rename({\"sample_date\": \"date\"}, axis=1)\n",
    "\n",
    "x.columns = x.columns.str.lower()\n",
    "x = x[COMMON_FEATURES]\n",
    "\n",
    "x_train, x_test, y_train, y_test = train_test_split(\n",
    "    x, y, test_size=0.2, random_state=SEED, shuffle=False\n",
    ")"
   ]
  },
  {
   "cell_type": "code",
   "execution_count": 115,
   "metadata": {},
   "outputs": [
    {
     "data": {
      "application/javascript": [
       "\n",
       "            setTimeout(function() {\n",
       "                var nbb_cell_id = 115;\n",
       "                var nbb_unformatted_code = \"set_seeds()\\nmodel_2 = get_model(include_top=False, shape=(x.shape[-1]))\\nmodel_2.load_weights(\\\"conv1d_weights.h5\\\", by_name=True)\\nmodel_2.trainable = True\\n\\nflat1 = tf.keras.layers.Flatten()(model_2.layers[-1].output)\\nclass1 = tf.keras.layers.Dense(256, activation=\\\"relu\\\")(flat1)\\nclass1 = tf.keras.layers.Dense(128, activation=\\\"relu\\\")(class1)\\nclass1 = tf.keras.layers.Dense(64, activation=\\\"relu\\\")(class1)\\noutputs = tf.keras.layers.Dense(1, activation=\\\"linear\\\")(class1)\\nmodel = tf.keras.Model(model_2.inputs, outputs)\\n\\nmodel.compile(\\n    optimizer=tf.keras.optimizers.Adam(learning_rate=1e-3),\\n    loss=\\\"mse\\\",\\n    metrics=[tf.keras.metrics.RootMeanSquaredError(name=\\\"RMSE\\\")],\\n)\";\n",
       "                var nbb_formatted_code = \"set_seeds()\\nmodel_2 = get_model(include_top=False, shape=(x.shape[-1]))\\nmodel_2.load_weights(\\\"conv1d_weights.h5\\\", by_name=True)\\nmodel_2.trainable = True\\n\\nflat1 = tf.keras.layers.Flatten()(model_2.layers[-1].output)\\nclass1 = tf.keras.layers.Dense(256, activation=\\\"relu\\\")(flat1)\\nclass1 = tf.keras.layers.Dense(128, activation=\\\"relu\\\")(class1)\\nclass1 = tf.keras.layers.Dense(64, activation=\\\"relu\\\")(class1)\\noutputs = tf.keras.layers.Dense(1, activation=\\\"linear\\\")(class1)\\nmodel = tf.keras.Model(model_2.inputs, outputs)\\n\\nmodel.compile(\\n    optimizer=tf.keras.optimizers.Adam(learning_rate=1e-3),\\n    loss=\\\"mse\\\",\\n    metrics=[tf.keras.metrics.RootMeanSquaredError(name=\\\"RMSE\\\")],\\n)\";\n",
       "                var nbb_cells = Jupyter.notebook.get_cells();\n",
       "                for (var i = 0; i < nbb_cells.length; ++i) {\n",
       "                    if (nbb_cells[i].input_prompt_number == nbb_cell_id) {\n",
       "                        if (nbb_cells[i].get_text() == nbb_unformatted_code) {\n",
       "                             nbb_cells[i].set_text(nbb_formatted_code);\n",
       "                        }\n",
       "                        break;\n",
       "                    }\n",
       "                }\n",
       "            }, 500);\n",
       "            "
      ],
      "text/plain": [
       "<IPython.core.display.Javascript object>"
      ]
     },
     "metadata": {},
     "output_type": "display_data"
    }
   ],
   "source": [
    "set_seeds()\n",
    "model_2 = get_model(include_top=False, shape=(x.shape[-1]))\n",
    "model_2.load_weights(\"conv1d_weights.h5\", by_name=True)\n",
    "model_2.trainable = True\n",
    "\n",
    "flat1 = tf.keras.layers.Flatten()(model_2.layers[-1].output)\n",
    "class1 = tf.keras.layers.Dense(256, activation=\"relu\")(flat1)\n",
    "class1 = tf.keras.layers.Dense(128, activation=\"relu\")(class1)\n",
    "class1 = tf.keras.layers.Dense(64, activation=\"relu\")(class1)\n",
    "outputs = tf.keras.layers.Dense(1, activation=\"linear\")(class1)\n",
    "model = tf.keras.Model(model_2.inputs, outputs)\n",
    "\n",
    "model.compile(\n",
    "    optimizer=tf.keras.optimizers.Adam(learning_rate=1e-3),\n",
    "    loss=\"mse\",\n",
    "    metrics=[tf.keras.metrics.RootMeanSquaredError(name=\"RMSE\")],\n",
    ")"
   ]
  },
  {
   "cell_type": "code",
   "execution_count": 116,
   "metadata": {},
   "outputs": [
    {
     "name": "stdout",
     "output_type": "stream",
     "text": [
      "Epoch 1/200\n",
      "27/27 [==============================] - 0s 2ms/step - loss: 1659.0985 - RMSE: 40.7320\n",
      "Epoch 2/200\n",
      "27/27 [==============================] - 0s 2ms/step - loss: 106.4373 - RMSE: 10.3168\n",
      "Epoch 3/200\n",
      "27/27 [==============================] - 0s 2ms/step - loss: 20.5840 - RMSE: 4.5370\n",
      "Epoch 4/200\n",
      "27/27 [==============================] - 0s 2ms/step - loss: 9.9066 - RMSE: 3.1475\n",
      "Epoch 5/200\n",
      "27/27 [==============================] - 0s 2ms/step - loss: 10.0421 - RMSE: 3.1689\n",
      "Epoch 6/200\n",
      "27/27 [==============================] - 0s 2ms/step - loss: 10.0574 - RMSE: 3.1713\n",
      "Epoch 7/200\n",
      "27/27 [==============================] - 0s 2ms/step - loss: 9.7986 - RMSE: 3.1303\n",
      "Epoch 8/200\n",
      "27/27 [==============================] - 0s 2ms/step - loss: 9.7069 - RMSE: 3.1156\n",
      "Epoch 9/200\n",
      "27/27 [==============================] - 0s 3ms/step - loss: 9.5968 - RMSE: 3.0979\n",
      "Epoch 10/200\n",
      "27/27 [==============================] - 0s 2ms/step - loss: 9.9455 - RMSE: 3.1536\n",
      "Epoch 11/200\n",
      "27/27 [==============================] - 0s 2ms/step - loss: 9.6372 - RMSE: 3.1044\n",
      "Epoch 12/200\n",
      "27/27 [==============================] - 0s 2ms/step - loss: 9.6087 - RMSE: 3.0998\n",
      "Epoch 13/200\n",
      "27/27 [==============================] - 0s 2ms/step - loss: 10.0443 - RMSE: 3.1693\n",
      "Epoch 14/200\n",
      "27/27 [==============================] - 0s 2ms/step - loss: 9.4925 - RMSE: 3.0810\n",
      "Epoch 15/200\n",
      "27/27 [==============================] - 0s 2ms/step - loss: 9.8963 - RMSE: 3.1458\n",
      "Epoch 16/200\n",
      "27/27 [==============================] - 0s 2ms/step - loss: 10.8798 - RMSE: 3.2985\n",
      "Epoch 17/200\n",
      "27/27 [==============================] - 0s 2ms/step - loss: 9.8509 - RMSE: 3.1386\n",
      "Epoch 18/200\n",
      "27/27 [==============================] - 0s 2ms/step - loss: 9.6353 - RMSE: 3.1041\n",
      "Epoch 19/200\n",
      "27/27 [==============================] - 0s 2ms/step - loss: 9.5159 - RMSE: 3.0848\n",
      "Epoch 20/200\n",
      "27/27 [==============================] - 0s 2ms/step - loss: 8.9376 - RMSE: 2.9896\n",
      "Epoch 21/200\n",
      "27/27 [==============================] - 0s 2ms/step - loss: 8.7015 - RMSE: 2.9498\n",
      "Epoch 22/200\n",
      "27/27 [==============================] - 0s 2ms/step - loss: 8.6569 - RMSE: 2.9423\n",
      "Epoch 23/200\n",
      "27/27 [==============================] - 0s 2ms/step - loss: 8.7824 - RMSE: 2.9635\n",
      "Epoch 24/200\n",
      "27/27 [==============================] - 0s 2ms/step - loss: 8.2286 - RMSE: 2.8686\n",
      "Epoch 25/200\n",
      "27/27 [==============================] - 0s 2ms/step - loss: 8.3760 - RMSE: 2.8941\n",
      "Epoch 26/200\n",
      "27/27 [==============================] - 0s 2ms/step - loss: 8.6253 - RMSE: 2.9369\n",
      "Epoch 27/200\n",
      "27/27 [==============================] - 0s 2ms/step - loss: 8.5961 - RMSE: 2.9319\n",
      "Epoch 28/200\n",
      "27/27 [==============================] - 0s 2ms/step - loss: 8.6725 - RMSE: 2.9449\n",
      "Epoch 29/200\n",
      "27/27 [==============================] - 0s 2ms/step - loss: 8.8312 - RMSE: 2.9717\n",
      "Epoch 30/200\n",
      "27/27 [==============================] - 0s 2ms/step - loss: 7.6628 - RMSE: 2.7682\n",
      "Epoch 31/200\n",
      "27/27 [==============================] - 0s 2ms/step - loss: 7.8042 - RMSE: 2.7936\n",
      "Epoch 32/200\n",
      "27/27 [==============================] - 0s 2ms/step - loss: 8.3723 - RMSE: 2.8935\n",
      "Epoch 33/200\n",
      "27/27 [==============================] - 0s 2ms/step - loss: 7.4345 - RMSE: 2.7266\n",
      "Epoch 34/200\n",
      "27/27 [==============================] - 0s 2ms/step - loss: 7.4841 - RMSE: 2.7357\n",
      "Epoch 35/200\n",
      "27/27 [==============================] - 0s 2ms/step - loss: 8.1211 - RMSE: 2.8498\n",
      "Epoch 36/200\n",
      "27/27 [==============================] - 0s 2ms/step - loss: 7.8662 - RMSE: 2.8047\n",
      "Epoch 37/200\n",
      "27/27 [==============================] - 0s 2ms/step - loss: 7.4299 - RMSE: 2.7258\n",
      "Epoch 38/200\n",
      "27/27 [==============================] - 0s 2ms/step - loss: 7.9084 - RMSE: 2.8122\n",
      "Epoch 39/200\n",
      "27/27 [==============================] - 0s 2ms/step - loss: 7.3562 - RMSE: 2.7122\n",
      "Epoch 40/200\n",
      "27/27 [==============================] - 0s 2ms/step - loss: 7.3212 - RMSE: 2.7058\n",
      "Epoch 41/200\n",
      "27/27 [==============================] - 0s 2ms/step - loss: 7.0693 - RMSE: 2.6588\n",
      "Epoch 42/200\n",
      "27/27 [==============================] - 0s 2ms/step - loss: 8.3671 - RMSE: 2.8926\n",
      "Epoch 43/200\n",
      "27/27 [==============================] - 0s 2ms/step - loss: 8.1286 - RMSE: 2.8511\n",
      "Epoch 44/200\n",
      "27/27 [==============================] - 0s 2ms/step - loss: 7.0994 - RMSE: 2.6645\n",
      "Epoch 45/200\n",
      "27/27 [==============================] - 0s 2ms/step - loss: 7.5643 - RMSE: 2.7503\n",
      "Epoch 46/200\n",
      "27/27 [==============================] - 0s 2ms/step - loss: 7.9411 - RMSE: 2.8180\n",
      "Epoch 47/200\n",
      "27/27 [==============================] - 0s 2ms/step - loss: 7.5014 - RMSE: 2.7389\n",
      "Epoch 48/200\n",
      "27/27 [==============================] - 0s 2ms/step - loss: 7.7144 - RMSE: 2.7775\n",
      "Epoch 49/200\n",
      "27/27 [==============================] - 0s 2ms/step - loss: 7.7841 - RMSE: 2.7900\n",
      "Epoch 50/200\n",
      "27/27 [==============================] - 0s 2ms/step - loss: 8.1519 - RMSE: 2.8551\n",
      "Epoch 51/200\n",
      "27/27 [==============================] - 0s 2ms/step - loss: 8.3038 - RMSE: 2.8816\n",
      "Epoch 52/200\n",
      "27/27 [==============================] - 0s 2ms/step - loss: 7.2960 - RMSE: 2.7011\n",
      "Epoch 53/200\n",
      "27/27 [==============================] - 0s 2ms/step - loss: 7.0595 - RMSE: 2.6570\n",
      "Epoch 54/200\n",
      "27/27 [==============================] - 0s 2ms/step - loss: 6.7703 - RMSE: 2.6020\n",
      "Epoch 55/200\n",
      "27/27 [==============================] - 0s 2ms/step - loss: 6.8075 - RMSE: 2.6091\n",
      "Epoch 56/200\n",
      "27/27 [==============================] - 0s 2ms/step - loss: 6.7900 - RMSE: 2.6058\n",
      "Epoch 57/200\n",
      "27/27 [==============================] - 0s 2ms/step - loss: 7.7726 - RMSE: 2.7879\n",
      "Epoch 58/200\n",
      "27/27 [==============================] - 0s 2ms/step - loss: 6.9524 - RMSE: 2.6367\n",
      "Epoch 59/200\n",
      "27/27 [==============================] - 0s 2ms/step - loss: 7.1724 - RMSE: 2.6781\n",
      "Epoch 60/200\n",
      "27/27 [==============================] - 0s 2ms/step - loss: 8.6325 - RMSE: 2.9381\n",
      "Epoch 61/200\n",
      "27/27 [==============================] - 0s 2ms/step - loss: 7.3837 - RMSE: 2.7173\n",
      "Epoch 62/200\n",
      "27/27 [==============================] - 0s 2ms/step - loss: 7.2460 - RMSE: 2.6918\n",
      "Epoch 63/200\n",
      "27/27 [==============================] - 0s 2ms/step - loss: 7.0118 - RMSE: 2.6480\n",
      "Epoch 64/200\n",
      "27/27 [==============================] - 0s 2ms/step - loss: 6.9183 - RMSE: 2.6303\n",
      "Epoch 65/200\n",
      "27/27 [==============================] - 0s 2ms/step - loss: 7.3697 - RMSE: 2.7147\n",
      "Epoch 66/200\n",
      "27/27 [==============================] - 0s 2ms/step - loss: 6.8978 - RMSE: 2.6264\n",
      "Epoch 67/200\n",
      "27/27 [==============================] - 0s 2ms/step - loss: 8.8186 - RMSE: 2.9696\n",
      "Epoch 68/200\n",
      "27/27 [==============================] - 0s 2ms/step - loss: 7.0753 - RMSE: 2.6599\n",
      "Epoch 69/200\n",
      "27/27 [==============================] - 0s 2ms/step - loss: 7.5999 - RMSE: 2.7568\n",
      "Epoch 70/200\n",
      "27/27 [==============================] - 0s 2ms/step - loss: 7.1949 - RMSE: 2.6823\n",
      "Epoch 71/200\n",
      "27/27 [==============================] - 0s 2ms/step - loss: 7.6712 - RMSE: 2.7697\n",
      "Epoch 72/200\n",
      "27/27 [==============================] - 0s 2ms/step - loss: 7.7429 - RMSE: 2.7826\n",
      "Epoch 73/200\n",
      "27/27 [==============================] - 0s 2ms/step - loss: 8.4250 - RMSE: 2.9026\n",
      "Epoch 74/200\n",
      "27/27 [==============================] - 0s 2ms/step - loss: 8.0178 - RMSE: 2.8316\n",
      "Epoch 75/200\n",
      "27/27 [==============================] - 0s 2ms/step - loss: 7.7879 - RMSE: 2.7907\n",
      "Epoch 76/200\n",
      "27/27 [==============================] - 0s 2ms/step - loss: 7.7073 - RMSE: 2.7762\n",
      "Epoch 77/200\n",
      "27/27 [==============================] - 0s 2ms/step - loss: 6.8885 - RMSE: 2.6246\n",
      "Epoch 78/200\n",
      "27/27 [==============================] - 0s 2ms/step - loss: 7.1061 - RMSE: 2.6657\n",
      "Epoch 79/200\n",
      "27/27 [==============================] - 0s 2ms/step - loss: 6.6581 - RMSE: 2.5803\n",
      "Epoch 80/200\n",
      "27/27 [==============================] - 0s 2ms/step - loss: 6.9149 - RMSE: 2.6296\n",
      "Epoch 81/200\n",
      "27/27 [==============================] - 0s 2ms/step - loss: 6.6948 - RMSE: 2.5874\n",
      "Epoch 82/200\n",
      "27/27 [==============================] - 0s 2ms/step - loss: 7.5865 - RMSE: 2.7544\n",
      "Epoch 83/200\n",
      "27/27 [==============================] - 0s 2ms/step - loss: 6.9439 - RMSE: 2.6351\n",
      "Epoch 84/200\n",
      "27/27 [==============================] - 0s 2ms/step - loss: 7.0564 - RMSE: 2.6564\n",
      "Epoch 85/200\n",
      "27/27 [==============================] - 0s 2ms/step - loss: 8.4812 - RMSE: 2.9122\n",
      "Epoch 86/200\n"
     ]
    },
    {
     "name": "stdout",
     "output_type": "stream",
     "text": [
      "27/27 [==============================] - 0s 2ms/step - loss: 7.5603 - RMSE: 2.7496\n",
      "Epoch 87/200\n",
      "27/27 [==============================] - 0s 2ms/step - loss: 6.8130 - RMSE: 2.6102\n",
      "Epoch 88/200\n",
      "27/27 [==============================] - 0s 2ms/step - loss: 6.9884 - RMSE: 2.6436\n",
      "Epoch 89/200\n",
      "27/27 [==============================] - 0s 2ms/step - loss: 6.8334 - RMSE: 2.6141\n",
      "Epoch 90/200\n",
      "27/27 [==============================] - 0s 2ms/step - loss: 7.0549 - RMSE: 2.6561\n",
      "Epoch 91/200\n",
      "27/27 [==============================] - 0s 2ms/step - loss: 6.8225 - RMSE: 2.6120\n",
      "Epoch 92/200\n",
      "27/27 [==============================] - 0s 2ms/step - loss: 7.1561 - RMSE: 2.6751\n",
      "Epoch 93/200\n",
      "27/27 [==============================] - 0s 2ms/step - loss: 7.5567 - RMSE: 2.7489\n",
      "Epoch 94/200\n",
      "27/27 [==============================] - 0s 2ms/step - loss: 8.1171 - RMSE: 2.8490\n",
      "Epoch 95/200\n",
      "27/27 [==============================] - 0s 2ms/step - loss: 7.3943 - RMSE: 2.7192\n",
      "Epoch 96/200\n",
      "27/27 [==============================] - 0s 2ms/step - loss: 7.6121 - RMSE: 2.7590\n",
      "Epoch 97/200\n",
      "27/27 [==============================] - 0s 2ms/step - loss: 7.9225 - RMSE: 2.8147\n",
      "Epoch 98/200\n",
      "27/27 [==============================] - 0s 2ms/step - loss: 7.4792 - RMSE: 2.7348\n",
      "Epoch 99/200\n",
      "27/27 [==============================] - 0s 2ms/step - loss: 8.8359 - RMSE: 2.9725\n",
      "Epoch 100/200\n",
      "27/27 [==============================] - 0s 2ms/step - loss: 7.2203 - RMSE: 2.6871\n",
      "Epoch 101/200\n",
      "27/27 [==============================] - 0s 2ms/step - loss: 6.9572 - RMSE: 2.6377\n",
      "Epoch 102/200\n",
      "27/27 [==============================] - 0s 2ms/step - loss: 7.5178 - RMSE: 2.7419\n",
      "Epoch 103/200\n",
      "27/27 [==============================] - 0s 2ms/step - loss: 8.2192 - RMSE: 2.8669\n",
      "Epoch 104/200\n",
      "27/27 [==============================] - 0s 2ms/step - loss: 7.5248 - RMSE: 2.7431\n",
      "Epoch 105/200\n",
      "27/27 [==============================] - 0s 2ms/step - loss: 7.3515 - RMSE: 2.7114\n",
      "Epoch 106/200\n",
      "27/27 [==============================] - 0s 2ms/step - loss: 6.8527 - RMSE: 2.6178\n",
      "Epoch 107/200\n",
      "27/27 [==============================] - 0s 2ms/step - loss: 7.5825 - RMSE: 2.7536\n",
      "Epoch 108/200\n",
      "27/27 [==============================] - 0s 2ms/step - loss: 7.2473 - RMSE: 2.6921\n",
      "Epoch 109/200\n",
      "27/27 [==============================] - 0s 2ms/step - loss: 6.8883 - RMSE: 2.6246\n",
      "Epoch 110/200\n",
      "27/27 [==============================] - 0s 2ms/step - loss: 6.9302 - RMSE: 2.6325\n",
      "Epoch 111/200\n",
      "27/27 [==============================] - 0s 2ms/step - loss: 7.2344 - RMSE: 2.6897\n",
      "Epoch 112/200\n",
      "27/27 [==============================] - 0s 2ms/step - loss: 8.0399 - RMSE: 2.8355\n",
      "Epoch 113/200\n",
      "27/27 [==============================] - 0s 2ms/step - loss: 7.0138 - RMSE: 2.6484\n",
      "Epoch 114/200\n",
      "27/27 [==============================] - 0s 2ms/step - loss: 6.9847 - RMSE: 2.6429\n",
      "Epoch 115/200\n",
      "27/27 [==============================] - 0s 2ms/step - loss: 7.0644 - RMSE: 2.6579\n",
      "Epoch 116/200\n",
      "27/27 [==============================] - 0s 2ms/step - loss: 6.5540 - RMSE: 2.5601\n",
      "Epoch 117/200\n",
      "27/27 [==============================] - 0s 2ms/step - loss: 7.0825 - RMSE: 2.6613\n",
      "Epoch 118/200\n",
      "27/27 [==============================] - 0s 2ms/step - loss: 6.9231 - RMSE: 2.6312\n",
      "Epoch 119/200\n",
      "27/27 [==============================] - 0s 2ms/step - loss: 6.9535 - RMSE: 2.6370\n",
      "Epoch 120/200\n",
      "27/27 [==============================] - 0s 2ms/step - loss: 6.6688 - RMSE: 2.5824\n",
      "Epoch 121/200\n",
      "27/27 [==============================] - 0s 2ms/step - loss: 6.9841 - RMSE: 2.6427\n",
      "Epoch 122/200\n",
      "27/27 [==============================] - 0s 2ms/step - loss: 7.2579 - RMSE: 2.6940\n",
      "Epoch 123/200\n",
      "27/27 [==============================] - 0s 2ms/step - loss: 8.0303 - RMSE: 2.8338\n",
      "Epoch 124/200\n",
      "27/27 [==============================] - 0s 2ms/step - loss: 7.0981 - RMSE: 2.6642\n",
      "Epoch 125/200\n",
      "27/27 [==============================] - 0s 2ms/step - loss: 6.4187 - RMSE: 2.5335\n",
      "Epoch 126/200\n",
      "27/27 [==============================] - 0s 2ms/step - loss: 7.0050 - RMSE: 2.6467\n",
      "Epoch 127/200\n",
      "27/27 [==============================] - 0s 2ms/step - loss: 6.8139 - RMSE: 2.6103\n",
      "Epoch 128/200\n",
      "27/27 [==============================] - 0s 2ms/step - loss: 7.5854 - RMSE: 2.7542\n",
      "Epoch 129/200\n",
      "27/27 [==============================] - 0s 2ms/step - loss: 6.6716 - RMSE: 2.5829\n",
      "Epoch 130/200\n",
      "27/27 [==============================] - 0s 2ms/step - loss: 7.7995 - RMSE: 2.7928\n",
      "Epoch 131/200\n",
      "27/27 [==============================] - 0s 2ms/step - loss: 7.0305 - RMSE: 2.6515\n",
      "Epoch 132/200\n",
      "27/27 [==============================] - 0s 2ms/step - loss: 7.6924 - RMSE: 2.7735\n",
      "Epoch 133/200\n",
      "27/27 [==============================] - 0s 2ms/step - loss: 6.8719 - RMSE: 2.6214\n",
      "Epoch 134/200\n",
      "27/27 [==============================] - 0s 2ms/step - loss: 6.4220 - RMSE: 2.5342\n",
      "Epoch 135/200\n",
      "27/27 [==============================] - 0s 2ms/step - loss: 7.1827 - RMSE: 2.6801\n",
      "Epoch 136/200\n",
      "27/27 [==============================] - 0s 2ms/step - loss: 6.7923 - RMSE: 2.6062\n",
      "Epoch 137/200\n",
      "27/27 [==============================] - 0s 2ms/step - loss: 7.1287 - RMSE: 2.6700\n",
      "Epoch 138/200\n",
      "27/27 [==============================] - 0s 2ms/step - loss: 9.2088 - RMSE: 3.0346\n",
      "Epoch 139/200\n",
      "27/27 [==============================] - 0s 2ms/step - loss: 8.4753 - RMSE: 2.9112\n",
      "Epoch 140/200\n",
      "27/27 [==============================] - 0s 2ms/step - loss: 6.9351 - RMSE: 2.6335\n",
      "Epoch 141/200\n",
      "27/27 [==============================] - 0s 2ms/step - loss: 6.8510 - RMSE: 2.6174\n",
      "Epoch 142/200\n",
      "27/27 [==============================] - 0s 2ms/step - loss: 7.2604 - RMSE: 2.6945\n",
      "Epoch 143/200\n",
      "27/27 [==============================] - 0s 2ms/step - loss: 6.5441 - RMSE: 2.5582\n",
      "Epoch 144/200\n",
      "27/27 [==============================] - 0s 2ms/step - loss: 6.3202 - RMSE: 2.5140\n",
      "Epoch 145/200\n",
      "27/27 [==============================] - 0s 2ms/step - loss: 6.8105 - RMSE: 2.6097\n",
      "Epoch 146/200\n",
      "27/27 [==============================] - 0s 2ms/step - loss: 7.5170 - RMSE: 2.7417\n",
      "Epoch 147/200\n",
      "27/27 [==============================] - 0s 2ms/step - loss: 6.8218 - RMSE: 2.6119\n",
      "Epoch 148/200\n",
      "27/27 [==============================] - 0s 2ms/step - loss: 6.5960 - RMSE: 2.5683\n",
      "Epoch 149/200\n",
      "27/27 [==============================] - 0s 2ms/step - loss: 6.7675 - RMSE: 2.6014\n",
      "Epoch 150/200\n",
      "27/27 [==============================] - 0s 2ms/step - loss: 7.5810 - RMSE: 2.7534\n",
      "Epoch 151/200\n",
      "27/27 [==============================] - 0s 2ms/step - loss: 6.3004 - RMSE: 2.5101\n",
      "Epoch 152/200\n",
      "27/27 [==============================] - 0s 2ms/step - loss: 7.5035 - RMSE: 2.7393\n",
      "Epoch 153/200\n",
      "27/27 [==============================] - 0s 2ms/step - loss: 6.7931 - RMSE: 2.6064\n",
      "Epoch 154/200\n",
      "27/27 [==============================] - 0s 2ms/step - loss: 6.9004 - RMSE: 2.6269\n",
      "Epoch 155/200\n",
      "27/27 [==============================] - 0s 2ms/step - loss: 7.1718 - RMSE: 2.6780\n",
      "Epoch 156/200\n",
      "27/27 [==============================] - 0s 2ms/step - loss: 7.8278 - RMSE: 2.7978\n",
      "Epoch 157/200\n",
      "27/27 [==============================] - 0s 2ms/step - loss: 6.7078 - RMSE: 2.5899\n",
      "Epoch 158/200\n",
      "27/27 [==============================] - 0s 2ms/step - loss: 6.4002 - RMSE: 2.5299\n",
      "Epoch 159/200\n",
      "27/27 [==============================] - 0s 2ms/step - loss: 6.5771 - RMSE: 2.5646\n",
      "Epoch 160/200\n",
      "27/27 [==============================] - 0s 2ms/step - loss: 7.5021 - RMSE: 2.7390\n",
      "Epoch 161/200\n",
      "27/27 [==============================] - 0s 2ms/step - loss: 7.1783 - RMSE: 2.6792\n",
      "Epoch 162/200\n",
      "27/27 [==============================] - 0s 2ms/step - loss: 6.6453 - RMSE: 2.5778\n",
      "Epoch 163/200\n",
      "27/27 [==============================] - 0s 2ms/step - loss: 7.4750 - RMSE: 2.7340\n",
      "Epoch 164/200\n",
      "27/27 [==============================] - 0s 2ms/step - loss: 7.1822 - RMSE: 2.6800\n",
      "Epoch 165/200\n",
      "27/27 [==============================] - 0s 2ms/step - loss: 6.7060 - RMSE: 2.5896\n",
      "Epoch 166/200\n",
      "27/27 [==============================] - 0s 2ms/step - loss: 6.1958 - RMSE: 2.4891\n",
      "Epoch 167/200\n",
      "27/27 [==============================] - 0s 2ms/step - loss: 6.5988 - RMSE: 2.5688\n",
      "Epoch 168/200\n",
      "27/27 [==============================] - 0s 2ms/step - loss: 6.2492 - RMSE: 2.4998\n",
      "Epoch 169/200\n",
      "27/27 [==============================] - 0s 2ms/step - loss: 6.2771 - RMSE: 2.5054\n",
      "Epoch 170/200\n"
     ]
    },
    {
     "name": "stdout",
     "output_type": "stream",
     "text": [
      "27/27 [==============================] - 0s 2ms/step - loss: 6.9466 - RMSE: 2.6356\n",
      "Epoch 171/200\n",
      "27/27 [==============================] - 0s 2ms/step - loss: 7.6815 - RMSE: 2.7716\n",
      "Epoch 172/200\n",
      "27/27 [==============================] - 0s 2ms/step - loss: 8.9740 - RMSE: 2.9957\n",
      "Epoch 173/200\n",
      "27/27 [==============================] - 0s 2ms/step - loss: 6.7934 - RMSE: 2.6064\n",
      "Epoch 174/200\n",
      "27/27 [==============================] - 0s 2ms/step - loss: 7.0086 - RMSE: 2.6474\n",
      "Epoch 175/200\n",
      "27/27 [==============================] - 0s 2ms/step - loss: 6.6893 - RMSE: 2.5864\n",
      "Epoch 176/200\n",
      "27/27 [==============================] - 0s 2ms/step - loss: 6.2917 - RMSE: 2.5083\n",
      "Epoch 177/200\n",
      "27/27 [==============================] - 0s 2ms/step - loss: 6.4029 - RMSE: 2.5304\n",
      "Epoch 178/200\n",
      "27/27 [==============================] - 0s 2ms/step - loss: 6.5167 - RMSE: 2.5528\n",
      "Epoch 179/200\n",
      "27/27 [==============================] - 0s 2ms/step - loss: 6.5415 - RMSE: 2.5576\n",
      "Epoch 180/200\n",
      "27/27 [==============================] - 0s 2ms/step - loss: 6.7592 - RMSE: 2.5999\n",
      "Epoch 181/200\n",
      "27/27 [==============================] - 0s 2ms/step - loss: 6.3886 - RMSE: 2.5276\n",
      "Epoch 182/200\n",
      "27/27 [==============================] - 0s 2ms/step - loss: 8.2299 - RMSE: 2.8688\n",
      "Epoch 183/200\n",
      "27/27 [==============================] - 0s 2ms/step - loss: 6.8538 - RMSE: 2.6180\n",
      "Epoch 184/200\n",
      "27/27 [==============================] - 0s 2ms/step - loss: 6.3328 - RMSE: 2.5165\n",
      "Epoch 185/200\n",
      "27/27 [==============================] - 0s 2ms/step - loss: 6.2320 - RMSE: 2.4964\n",
      "Epoch 186/200\n",
      "27/27 [==============================] - 0s 2ms/step - loss: 6.5947 - RMSE: 2.5680\n",
      "Epoch 187/200\n",
      "27/27 [==============================] - 0s 2ms/step - loss: 6.7066 - RMSE: 2.5897\n",
      "Epoch 188/200\n",
      "27/27 [==============================] - 0s 2ms/step - loss: 6.5228 - RMSE: 2.5540\n",
      "Epoch 189/200\n",
      "27/27 [==============================] - 0s 2ms/step - loss: 6.3252 - RMSE: 2.5150\n",
      "Epoch 190/200\n",
      "27/27 [==============================] - 0s 2ms/step - loss: 6.5612 - RMSE: 2.5615\n",
      "Epoch 191/200\n",
      "27/27 [==============================] - 0s 2ms/step - loss: 6.1175 - RMSE: 2.4734\n",
      "Epoch 192/200\n",
      "27/27 [==============================] - 0s 2ms/step - loss: 6.1922 - RMSE: 2.4884\n",
      "Epoch 193/200\n",
      "27/27 [==============================] - 0s 2ms/step - loss: 6.2554 - RMSE: 2.5011\n",
      "Epoch 194/200\n",
      "27/27 [==============================] - 0s 2ms/step - loss: 7.7260 - RMSE: 2.7796\n",
      "Epoch 195/200\n",
      "27/27 [==============================] - 0s 2ms/step - loss: 6.3405 - RMSE: 2.5180\n",
      "Epoch 196/200\n",
      "27/27 [==============================] - 0s 2ms/step - loss: 7.1474 - RMSE: 2.6735\n",
      "Epoch 197/200\n",
      "27/27 [==============================] - 0s 2ms/step - loss: 5.9788 - RMSE: 2.4452\n",
      "Epoch 198/200\n",
      "27/27 [==============================] - 0s 2ms/step - loss: 6.6048 - RMSE: 2.5700\n",
      "Epoch 199/200\n",
      "27/27 [==============================] - 0s 2ms/step - loss: 7.4739 - RMSE: 2.7338\n",
      "Epoch 200/200\n",
      "27/27 [==============================] - 0s 2ms/step - loss: 6.9372 - RMSE: 2.6339\n"
     ]
    },
    {
     "data": {
      "application/javascript": [
       "\n",
       "            setTimeout(function() {\n",
       "                var nbb_cell_id = 116;\n",
       "                var nbb_unformatted_code = \"sc = StandardScaler()\\n\\nhistory = model.fit(\\n    sc.fit_transform(x_train),\\n    y_train,\\n    batch_size=batch_size,\\n    epochs=epochs,\\n    verbose=verbose,\\n)\";\n",
       "                var nbb_formatted_code = \"sc = StandardScaler()\\n\\nhistory = model.fit(\\n    sc.fit_transform(x_train),\\n    y_train,\\n    batch_size=batch_size,\\n    epochs=epochs,\\n    verbose=verbose,\\n)\";\n",
       "                var nbb_cells = Jupyter.notebook.get_cells();\n",
       "                for (var i = 0; i < nbb_cells.length; ++i) {\n",
       "                    if (nbb_cells[i].input_prompt_number == nbb_cell_id) {\n",
       "                        if (nbb_cells[i].get_text() == nbb_unformatted_code) {\n",
       "                             nbb_cells[i].set_text(nbb_formatted_code);\n",
       "                        }\n",
       "                        break;\n",
       "                    }\n",
       "                }\n",
       "            }, 500);\n",
       "            "
      ],
      "text/plain": [
       "<IPython.core.display.Javascript object>"
      ]
     },
     "metadata": {},
     "output_type": "display_data"
    }
   ],
   "source": [
    "sc = StandardScaler()\n",
    "\n",
    "history = model.fit(\n",
    "    sc.fit_transform(x_train),\n",
    "    y_train,\n",
    "    batch_size=batch_size,\n",
    "    epochs=epochs,\n",
    "    verbose=verbose,\n",
    ")\n"
   ]
  },
  {
   "cell_type": "code",
   "execution_count": 117,
   "metadata": {},
   "outputs": [
    {
     "data": {
      "text/plain": [
       "[<matplotlib.lines.Line2D at 0x7f5d27af7a90>]"
      ]
     },
     "execution_count": 117,
     "metadata": {},
     "output_type": "execute_result"
    },
    {
     "data": {
      "image/png": "[encoded data removed]",
      "text/plain": [
       "<Figure size 432x288 with 1 Axes>"
      ]
     },
     "metadata": {
      "needs_background": "light"
     },
     "output_type": "display_data"
    },
    {
     "data": {
      "application/javascript": [
       "\n",
       "            setTimeout(function() {\n",
       "                var nbb_cell_id = 117;\n",
       "                var nbb_unformatted_code = \"plt.plot(history.history[\\\"RMSE\\\"])\";\n",
       "                var nbb_formatted_code = \"plt.plot(history.history[\\\"RMSE\\\"])\";\n",
       "                var nbb_cells = Jupyter.notebook.get_cells();\n",
       "                for (var i = 0; i < nbb_cells.length; ++i) {\n",
       "                    if (nbb_cells[i].input_prompt_number == nbb_cell_id) {\n",
       "                        if (nbb_cells[i].get_text() == nbb_unformatted_code) {\n",
       "                             nbb_cells[i].set_text(nbb_formatted_code);\n",
       "                        }\n",
       "                        break;\n",
       "                    }\n",
       "                }\n",
       "            }, 500);\n",
       "            "
      ],
      "text/plain": [
       "<IPython.core.display.Javascript object>"
      ]
     },
     "metadata": {},
     "output_type": "display_data"
    }
   ],
   "source": [
    "plt.plot(history.history[\"RMSE\"])"
   ]
  },
  {
   "cell_type": "code",
   "execution_count": 118,
   "metadata": {},
   "outputs": [
    {
     "name": "stdout",
     "output_type": "stream",
     "text": [
      "******\n",
      "[TRAIN]\n",
      "******\n",
      "RMSE: 3.007 (0.000)\n",
      "MAE: 2.423 (0.000)\n",
      "MAPE: 0.054 (0.000)\n",
      "R2: 0.150 (0.000)\n",
      "\n",
      "======================\n",
      "\n",
      "******\n",
      "[TEST]\n",
      "******\n",
      "RMSE: 2.919 (0.000)\n",
      "MAE: 2.358 (0.000)\n",
      "MAPE: 0.061 (0.000)\n",
      "R2: 0.099 (0.000)\n",
      "\n",
      "======================\n",
      "\n"
     ]
    },
    {
     "data": {
      "application/javascript": [
       "\n",
       "            setTimeout(function() {\n",
       "                var nbb_cell_id = 118;\n",
       "                var nbb_unformatted_code = \"y_train_pred = model.predict(sc.transform(x_train))\\ny_test_pred = model.predict(sc.transform(x_test))\\n\\nscores = score_regression_metrics(y_train, y_train_pred, y_test, y_test_pred)\\nprint_scores(scores, METRICS, METRICS_DICT)\";\n",
       "                var nbb_formatted_code = \"y_train_pred = model.predict(sc.transform(x_train))\\ny_test_pred = model.predict(sc.transform(x_test))\\n\\nscores = score_regression_metrics(y_train, y_train_pred, y_test, y_test_pred)\\nprint_scores(scores, METRICS, METRICS_DICT)\";\n",
       "                var nbb_cells = Jupyter.notebook.get_cells();\n",
       "                for (var i = 0; i < nbb_cells.length; ++i) {\n",
       "                    if (nbb_cells[i].input_prompt_number == nbb_cell_id) {\n",
       "                        if (nbb_cells[i].get_text() == nbb_unformatted_code) {\n",
       "                             nbb_cells[i].set_text(nbb_formatted_code);\n",
       "                        }\n",
       "                        break;\n",
       "                    }\n",
       "                }\n",
       "            }, 500);\n",
       "            "
      ],
      "text/plain": [
       "<IPython.core.display.Javascript object>"
      ]
     },
     "metadata": {},
     "output_type": "display_data"
    }
   ],
   "source": [
    "y_train_pred = model.predict(sc.transform(x_train))\n",
    "y_test_pred = model.predict(sc.transform(x_test))\n",
    "\n",
    "scores = score_regression_metrics(y_train, y_train_pred, y_test, y_test_pred)\n",
    "print_scores(scores, METRICS, METRICS_DICT)"
   ]
  },
  {
   "cell_type": "markdown",
   "metadata": {},
   "source": [
    "# Pre Trainning"
   ]
  },
  {
   "cell_type": "markdown",
   "metadata": {},
   "source": [
    "# partner_i + Intercement"
   ]
  },
  {
   "cell_type": "code",
   "execution_count": 119,
   "metadata": {},
   "outputs": [
    {
     "data": {
      "application/javascript": [
       "\n",
       "            setTimeout(function() {\n",
       "                var nbb_cell_id = 119;\n",
       "                var nbb_unformatted_code = \"batch_size = 32\\nepochs = 200\\nverbose = 0\";\n",
       "                var nbb_formatted_code = \"batch_size = 32\\nepochs = 200\\nverbose = 0\";\n",
       "                var nbb_cells = Jupyter.notebook.get_cells();\n",
       "                for (var i = 0; i < nbb_cells.length; ++i) {\n",
       "                    if (nbb_cells[i].input_prompt_number == nbb_cell_id) {\n",
       "                        if (nbb_cells[i].get_text() == nbb_unformatted_code) {\n",
       "                             nbb_cells[i].set_text(nbb_formatted_code);\n",
       "                        }\n",
       "                        break;\n",
       "                    }\n",
       "                }\n",
       "            }, 500);\n",
       "            "
      ],
      "text/plain": [
       "<IPython.core.display.Javascript object>"
      ]
     },
     "metadata": {},
     "output_type": "display_data"
    }
   ],
   "source": [
    "batch_size = 32\n",
    "epochs = 200\n",
    "verbose = 0"
   ]
  },
  {
   "cell_type": "code",
   "execution_count": 120,
   "metadata": {},
   "outputs": [
    {
     "data": {
      "application/javascript": [
       "\n",
       "            setTimeout(function() {\n",
       "                var nbb_cell_id = 120;\n",
       "                var nbb_unformatted_code = \"COMMON_FEATURES = [\\\"mgo\\\", \\\"al2o3\\\", \\\"sio2\\\", \\\"so3\\\", \\\"k2o\\\", \\\"fe2o3\\\"]\";\n",
       "                var nbb_formatted_code = \"COMMON_FEATURES = [\\\"mgo\\\", \\\"al2o3\\\", \\\"sio2\\\", \\\"so3\\\", \\\"k2o\\\", \\\"fe2o3\\\"]\";\n",
       "                var nbb_cells = Jupyter.notebook.get_cells();\n",
       "                for (var i = 0; i < nbb_cells.length; ++i) {\n",
       "                    if (nbb_cells[i].input_prompt_number == nbb_cell_id) {\n",
       "                        if (nbb_cells[i].get_text() == nbb_unformatted_code) {\n",
       "                             nbb_cells[i].set_text(nbb_formatted_code);\n",
       "                        }\n",
       "                        break;\n",
       "                    }\n",
       "                }\n",
       "            }, 500);\n",
       "            "
      ],
      "text/plain": [
       "<IPython.core.display.Javascript object>"
      ]
     },
     "metadata": {},
     "output_type": "display_data"
    }
   ],
   "source": [
    "COMMON_FEATURES = [\"mgo\", \"al2o3\", \"sio2\", \"so3\", \"k2o\", \"fe2o3\"]"
   ]
  },
  {
   "cell_type": "code",
   "execution_count": 121,
   "metadata": {},
   "outputs": [
    {
     "data": {
      "application/javascript": [
       "\n",
       "            setTimeout(function() {\n",
       "                var nbb_cell_id = 121;\n",
       "                var nbb_unformatted_code = \"df = pd.read_csv(\\\"../../../data/processed/Intercement/cement-shipping.csv\\\")\\ndf_no_cs = df.drop(\\n    [\\n        \\\"RC1\\\",\\n        \\\"RC3\\\",\\n        \\\"RC7\\\",\\n    ],\\n    axis=1,\\n).copy()\\ny_1 = df_no_cs.pop(\\\"RC28\\\")\\nx_1 = df_no_cs.rename({\\\"Data\\\": \\\"date\\\"}, axis=1)\\nx_1.columns = x_1.columns.str.lower()\\n\\ndf_partner_i = pd.read_csv(\\n    \\\"../../../data/processed/partner_i-Oficial/cement-shipping.csv\\\"\\n)\\ndf_partner_i = df_partner_i.drop(\\n    [\\n        \\\"1 day Compressive strength\\\",\\n        \\\"3 day Compressive strength\\\",\\n        \\\"7 day Compressive strength\\\",\\n    ],\\n    axis=1,\\n).copy()\\n\\ny_2 = df_partner_i.pop(\\\"28 day Compressive strength\\\")\\nx_2 = df_partner_i\\n\\nx_2.columns = x_2.columns.str.lower()\\nx_2 = x_2.drop(set(x_2.columns) - set(x_1.columns), axis=1)\\nx_1 = x_1[x_2.columns]\\n\\n\\ny_1.name = \\\"cs28\\\"\\ny_2.name = \\\"cs28\\\"\\n\\nx = pd.concat([x_1, x_2], axis=0).reset_index(drop=True)\\ny = pd.concat([y_1, y_2], axis=0).reset_index(drop=True)\\n\\nx = pd.concat([x, y], axis=1)\\nx[\\\"date\\\"] = x[\\\"date\\\"].apply(lambda x: x[:10])\\nx[\\\"date\\\"] = pd.to_datetime(x[\\\"date\\\"])\\nx = x.sort_values(by=\\\"date\\\").reset_index(drop=True)\\ny = x.pop(\\\"cs28\\\")\\nx.columns = x.columns.str.lower()\\nx = x[COMMON_FEATURES]\\n\\n\\nx_train, x_test, y_train, y_test = train_test_split(\\n    x, y, test_size=0.2, random_state=SEED, shuffle=False\\n)\";\n",
       "                var nbb_formatted_code = \"df = pd.read_csv(\\\"../../../data/processed/Intercement/cement-shipping.csv\\\")\\ndf_no_cs = df.drop(\\n    [\\n        \\\"RC1\\\",\\n        \\\"RC3\\\",\\n        \\\"RC7\\\",\\n    ],\\n    axis=1,\\n).copy()\\ny_1 = df_no_cs.pop(\\\"RC28\\\")\\nx_1 = df_no_cs.rename({\\\"Data\\\": \\\"date\\\"}, axis=1)\\nx_1.columns = x_1.columns.str.lower()\\n\\ndf_partner_i = pd.read_csv(\\n    \\\"../../../data/processed/partner_i-Oficial/cement-shipping.csv\\\"\\n)\\ndf_partner_i = df_partner_i.drop(\\n    [\\n        \\\"1 day Compressive strength\\\",\\n        \\\"3 day Compressive strength\\\",\\n        \\\"7 day Compressive strength\\\",\\n    ],\\n    axis=1,\\n).copy()\\n\\ny_2 = df_partner_i.pop(\\\"28 day Compressive strength\\\")\\nx_2 = df_partner_i\\n\\nx_2.columns = x_2.columns.str.lower()\\nx_2 = x_2.drop(set(x_2.columns) - set(x_1.columns), axis=1)\\nx_1 = x_1[x_2.columns]\\n\\n\\ny_1.name = \\\"cs28\\\"\\ny_2.name = \\\"cs28\\\"\\n\\nx = pd.concat([x_1, x_2], axis=0).reset_index(drop=True)\\ny = pd.concat([y_1, y_2], axis=0).reset_index(drop=True)\\n\\nx = pd.concat([x, y], axis=1)\\nx[\\\"date\\\"] = x[\\\"date\\\"].apply(lambda x: x[:10])\\nx[\\\"date\\\"] = pd.to_datetime(x[\\\"date\\\"])\\nx = x.sort_values(by=\\\"date\\\").reset_index(drop=True)\\ny = x.pop(\\\"cs28\\\")\\nx.columns = x.columns.str.lower()\\nx = x[COMMON_FEATURES]\\n\\n\\nx_train, x_test, y_train, y_test = train_test_split(\\n    x, y, test_size=0.2, random_state=SEED, shuffle=False\\n)\";\n",
       "                var nbb_cells = Jupyter.notebook.get_cells();\n",
       "                for (var i = 0; i < nbb_cells.length; ++i) {\n",
       "                    if (nbb_cells[i].input_prompt_number == nbb_cell_id) {\n",
       "                        if (nbb_cells[i].get_text() == nbb_unformatted_code) {\n",
       "                             nbb_cells[i].set_text(nbb_formatted_code);\n",
       "                        }\n",
       "                        break;\n",
       "                    }\n",
       "                }\n",
       "            }, 500);\n",
       "            "
      ],
      "text/plain": [
       "<IPython.core.display.Javascript object>"
      ]
     },
     "metadata": {},
     "output_type": "display_data"
    }
   ],
   "source": [
    "df = pd.read_csv(\"../../../data/processed/Intercement/cement-shipping.csv\")\n",
    "df_no_cs = df.drop(\n",
    "    [\n",
    "        \"RC1\",\n",
    "        \"RC3\",\n",
    "        \"RC7\",\n",
    "    ],\n",
    "    axis=1,\n",
    ").copy()\n",
    "y_1 = df_no_cs.pop(\"RC28\")\n",
    "x_1 = df_no_cs.rename({\"Data\": \"date\"}, axis=1)\n",
    "x_1.columns = x_1.columns.str.lower()\n",
    "\n",
    "df_partner_i = pd.read_csv(\n",
    "    \"../../../data/processed/partner_i-Oficial/cement-shipping.csv\"\n",
    ")\n",
    "df_partner_i = df_partner_i.drop(\n",
    "    [\n",
    "        \"1 day Compressive strength\",\n",
    "        \"3 day Compressive strength\",\n",
    "        \"7 day Compressive strength\",\n",
    "    ],\n",
    "    axis=1,\n",
    ").copy()\n",
    "\n",
    "y_2 = df_partner_i.pop(\"28 day Compressive strength\")\n",
    "x_2 = df_partner_i\n",
    "\n",
    "x_2.columns = x_2.columns.str.lower()\n",
    "x_2 = x_2.drop(set(x_2.columns) - set(x_1.columns), axis=1)\n",
    "x_1 = x_1[x_2.columns]\n",
    "\n",
    "\n",
    "y_1.name = \"cs28\"\n",
    "y_2.name = \"cs28\"\n",
    "\n",
    "x = pd.concat([x_1, x_2], axis=0).reset_index(drop=True)\n",
    "y = pd.concat([y_1, y_2], axis=0).reset_index(drop=True)\n",
    "\n",
    "x = pd.concat([x, y], axis=1)\n",
    "x[\"date\"] = x[\"date\"].apply(lambda x: x[:10])\n",
    "x[\"date\"] = pd.to_datetime(x[\"date\"])\n",
    "x = x.sort_values(by=\"date\").reset_index(drop=True)\n",
    "y = x.pop(\"cs28\")\n",
    "x.columns = x.columns.str.lower()\n",
    "x = x[COMMON_FEATURES]\n",
    "\n",
    "\n",
    "x_train, x_test, y_train, y_test = train_test_split(\n",
    "    x, y, test_size=0.2, random_state=SEED, shuffle=False\n",
    ")"
   ]
  },
  {
   "cell_type": "code",
   "execution_count": 122,
   "metadata": {},
   "outputs": [
    {
     "data": {
      "application/javascript": [
       "\n",
       "            setTimeout(function() {\n",
       "                var nbb_cell_id = 122;\n",
       "                var nbb_unformatted_code = \"set_seeds()\\n\\nmodel = get_model(shape=x_train.shape[-1], include_top=True)\\nsc = StandardScaler()\\n\\nhistory = model.fit(\\n    sc.fit_transform(x_train),\\n    y_train,\\n    batch_size=batch_size,\\n    epochs=epochs,\\n    verbose=verbose,\\n)\";\n",
       "                var nbb_formatted_code = \"set_seeds()\\n\\nmodel = get_model(shape=x_train.shape[-1], include_top=True)\\nsc = StandardScaler()\\n\\nhistory = model.fit(\\n    sc.fit_transform(x_train),\\n    y_train,\\n    batch_size=batch_size,\\n    epochs=epochs,\\n    verbose=verbose,\\n)\";\n",
       "                var nbb_cells = Jupyter.notebook.get_cells();\n",
       "                for (var i = 0; i < nbb_cells.length; ++i) {\n",
       "                    if (nbb_cells[i].input_prompt_number == nbb_cell_id) {\n",
       "                        if (nbb_cells[i].get_text() == nbb_unformatted_code) {\n",
       "                             nbb_cells[i].set_text(nbb_formatted_code);\n",
       "                        }\n",
       "                        break;\n",
       "                    }\n",
       "                }\n",
       "            }, 500);\n",
       "            "
      ],
      "text/plain": [
       "<IPython.core.display.Javascript object>"
      ]
     },
     "metadata": {},
     "output_type": "display_data"
    }
   ],
   "source": [
    "set_seeds()\n",
    "\n",
    "model = get_model(shape=x_train.shape[-1], include_top=True)\n",
    "sc = StandardScaler()\n",
    "\n",
    "history = model.fit(\n",
    "    sc.fit_transform(x_train),\n",
    "    y_train,\n",
    "    batch_size=batch_size,\n",
    "    epochs=epochs,\n",
    "    verbose=verbose,\n",
    ")"
   ]
  },
  {
   "cell_type": "code",
   "execution_count": 123,
   "metadata": {},
   "outputs": [
    {
     "data": {
      "text/plain": [
       "[<matplotlib.lines.Line2D at 0x7f5d702a3eb8>]"
      ]
     },
     "execution_count": 123,
     "metadata": {},
     "output_type": "execute_result"
    },
    {
     "data": {
      "image/png": "[encoded data removed]",
      "text/plain": [
       "<Figure size 432x288 with 1 Axes>"
      ]
     },
     "metadata": {
      "needs_background": "light"
     },
     "output_type": "display_data"
    },
    {
     "data": {
      "application/javascript": [
       "\n",
       "            setTimeout(function() {\n",
       "                var nbb_cell_id = 123;\n",
       "                var nbb_unformatted_code = \"plt.plot(history.history[\\\"RMSE\\\"])\";\n",
       "                var nbb_formatted_code = \"plt.plot(history.history[\\\"RMSE\\\"])\";\n",
       "                var nbb_cells = Jupyter.notebook.get_cells();\n",
       "                for (var i = 0; i < nbb_cells.length; ++i) {\n",
       "                    if (nbb_cells[i].input_prompt_number == nbb_cell_id) {\n",
       "                        if (nbb_cells[i].get_text() == nbb_unformatted_code) {\n",
       "                             nbb_cells[i].set_text(nbb_formatted_code);\n",
       "                        }\n",
       "                        break;\n",
       "                    }\n",
       "                }\n",
       "            }, 500);\n",
       "            "
      ],
      "text/plain": [
       "<IPython.core.display.Javascript object>"
      ]
     },
     "metadata": {},
     "output_type": "display_data"
    }
   ],
   "source": [
    "plt.plot(history.history[\"RMSE\"])"
   ]
  },
  {
   "cell_type": "code",
   "execution_count": 124,
   "metadata": {},
   "outputs": [
    {
     "name": "stdout",
     "output_type": "stream",
     "text": [
      "******\n",
      "[TRAIN]\n",
      "******\n",
      "RMSE: 3.941 (0.000)\n",
      "MAE: 3.088 (0.000)\n",
      "MAPE: 0.063 (0.000)\n",
      "R2: 0.677 (0.000)\n",
      "\n",
      "======================\n",
      "\n",
      "******\n",
      "[TEST]\n",
      "******\n",
      "RMSE: 9.391 (0.000)\n",
      "MAE: 8.073 (0.000)\n",
      "MAPE: 0.176 (0.000)\n",
      "R2: 1.868 (0.000)\n",
      "\n",
      "======================\n",
      "\n"
     ]
    },
    {
     "data": {
      "application/javascript": [
       "\n",
       "            setTimeout(function() {\n",
       "                var nbb_cell_id = 124;\n",
       "                var nbb_unformatted_code = \"y_train_pred = model.predict(sc.transform(x_train))\\ny_test_pred = model.predict(sc.transform(x_test))\\nscores = score_regression_metrics(y_train, y_train_pred, y_test, y_test_pred)\\nprint_scores(scores, METRICS, METRICS_DICT)\";\n",
       "                var nbb_formatted_code = \"y_train_pred = model.predict(sc.transform(x_train))\\ny_test_pred = model.predict(sc.transform(x_test))\\nscores = score_regression_metrics(y_train, y_train_pred, y_test, y_test_pred)\\nprint_scores(scores, METRICS, METRICS_DICT)\";\n",
       "                var nbb_cells = Jupyter.notebook.get_cells();\n",
       "                for (var i = 0; i < nbb_cells.length; ++i) {\n",
       "                    if (nbb_cells[i].input_prompt_number == nbb_cell_id) {\n",
       "                        if (nbb_cells[i].get_text() == nbb_unformatted_code) {\n",
       "                             nbb_cells[i].set_text(nbb_formatted_code);\n",
       "                        }\n",
       "                        break;\n",
       "                    }\n",
       "                }\n",
       "            }, 500);\n",
       "            "
      ],
      "text/plain": [
       "<IPython.core.display.Javascript object>"
      ]
     },
     "metadata": {},
     "output_type": "display_data"
    }
   ],
   "source": [
    "y_train_pred = model.predict(sc.transform(x_train))\n",
    "y_test_pred = model.predict(sc.transform(x_test))\n",
    "scores = score_regression_metrics(y_train, y_train_pred, y_test, y_test_pred)\n",
    "print_scores(scores, METRICS, METRICS_DICT)"
   ]
  },
  {
   "cell_type": "code",
   "execution_count": 125,
   "metadata": {},
   "outputs": [
    {
     "data": {
      "application/javascript": [
       "\n",
       "            setTimeout(function() {\n",
       "                var nbb_cell_id = 125;\n",
       "                var nbb_unformatted_code = \"model.save_weights(\\\"conv1d_weights.h5\\\")\";\n",
       "                var nbb_formatted_code = \"model.save_weights(\\\"conv1d_weights.h5\\\")\";\n",
       "                var nbb_cells = Jupyter.notebook.get_cells();\n",
       "                for (var i = 0; i < nbb_cells.length; ++i) {\n",
       "                    if (nbb_cells[i].input_prompt_number == nbb_cell_id) {\n",
       "                        if (nbb_cells[i].get_text() == nbb_unformatted_code) {\n",
       "                             nbb_cells[i].set_text(nbb_formatted_code);\n",
       "                        }\n",
       "                        break;\n",
       "                    }\n",
       "                }\n",
       "            }, 500);\n",
       "            "
      ],
      "text/plain": [
       "<IPython.core.display.Javascript object>"
      ]
     },
     "metadata": {},
     "output_type": "display_data"
    }
   ],
   "source": [
    "model.save_weights(\"conv1d_weights.h5\")"
   ]
  },
  {
   "cell_type": "markdown",
   "metadata": {},
   "source": [
    "# Fine Tuning"
   ]
  },
  {
   "cell_type": "markdown",
   "metadata": {},
   "source": [
    "# partner_ii"
   ]
  },
  {
   "cell_type": "code",
   "execution_count": 126,
   "metadata": {},
   "outputs": [
    {
     "data": {
      "application/javascript": [
       "\n",
       "            setTimeout(function() {\n",
       "                var nbb_cell_id = 126;\n",
       "                var nbb_unformatted_code = \"df_partner_ii = pd.read_csv(\\\"../../../data/processed/partner_ii/cement-shipping.csv\\\")\\ndf_no_cs = df_partner_ii.drop(\\n    [\\\"strength_1d\\\", \\\"strength_3d\\\", \\\"strength_7d\\\"],\\n    axis=1,\\n).copy()\\ny = df_no_cs.pop(\\\"strength_28d\\\")\\nx = df_no_cs.rename({\\\"sample_date\\\": \\\"date\\\"}, axis=1)\\n\\nx.columns = x.columns.str.lower()\\nx = x[COMMON_FEATURES]\\n\\nx_train, x_test, y_train, y_test = train_test_split(\\n    x, y, test_size=0.2, random_state=SEED, shuffle=False\\n)\";\n",
       "                var nbb_formatted_code = \"df_partner_ii = pd.read_csv(\\\"../../../data/processed/partner_ii/cement-shipping.csv\\\")\\ndf_no_cs = df_partner_ii.drop(\\n    [\\\"strength_1d\\\", \\\"strength_3d\\\", \\\"strength_7d\\\"],\\n    axis=1,\\n).copy()\\ny = df_no_cs.pop(\\\"strength_28d\\\")\\nx = df_no_cs.rename({\\\"sample_date\\\": \\\"date\\\"}, axis=1)\\n\\nx.columns = x.columns.str.lower()\\nx = x[COMMON_FEATURES]\\n\\nx_train, x_test, y_train, y_test = train_test_split(\\n    x, y, test_size=0.2, random_state=SEED, shuffle=False\\n)\";\n",
       "                var nbb_cells = Jupyter.notebook.get_cells();\n",
       "                for (var i = 0; i < nbb_cells.length; ++i) {\n",
       "                    if (nbb_cells[i].input_prompt_number == nbb_cell_id) {\n",
       "                        if (nbb_cells[i].get_text() == nbb_unformatted_code) {\n",
       "                             nbb_cells[i].set_text(nbb_formatted_code);\n",
       "                        }\n",
       "                        break;\n",
       "                    }\n",
       "                }\n",
       "            }, 500);\n",
       "            "
      ],
      "text/plain": [
       "<IPython.core.display.Javascript object>"
      ]
     },
     "metadata": {},
     "output_type": "display_data"
    }
   ],
   "source": [
    "df_partner_ii = pd.read_csv(\"../../../data/processed/partner_ii/cement-shipping.csv\")\n",
    "df_no_cs = df_partner_ii.drop(\n",
    "    [\"strength_1d\", \"strength_3d\", \"strength_7d\"],\n",
    "    axis=1,\n",
    ").copy()\n",
    "y = df_no_cs.pop(\"strength_28d\")\n",
    "x = df_no_cs.rename({\"sample_date\": \"date\"}, axis=1)\n",
    "\n",
    "x.columns = x.columns.str.lower()\n",
    "x = x[COMMON_FEATURES]\n",
    "\n",
    "x_train, x_test, y_train, y_test = train_test_split(\n",
    "    x, y, test_size=0.2, random_state=SEED, shuffle=False\n",
    ")"
   ]
  },
  {
   "cell_type": "code",
   "execution_count": 127,
   "metadata": {},
   "outputs": [
    {
     "data": {
      "application/javascript": [
       "\n",
       "            setTimeout(function() {\n",
       "                var nbb_cell_id = 127;\n",
       "                var nbb_unformatted_code = \"set_seeds()\\nmodel_2 = get_model(include_top=False, shape=(x.shape[-1]))\\nmodel_2.load_weights(\\\"conv1d_weights.h5\\\", by_name=True)\\nmodel_2.trainable = True\\n\\nflat1 = tf.keras.layers.Flatten()(model_2.layers[-1].output)\\nclass1 = tf.keras.layers.Dense(256, activation=\\\"relu\\\")(flat1)\\nclass1 = tf.keras.layers.Dense(128, activation=\\\"relu\\\")(class1)\\nclass1 = tf.keras.layers.Dense(64, activation=\\\"relu\\\")(class1)\\noutputs = tf.keras.layers.Dense(1, activation=\\\"linear\\\")(class1)\\nmodel = tf.keras.Model(model_2.inputs, outputs)\\n\\nmodel.compile(\\n    optimizer=tf.keras.optimizers.Adam(learning_rate=1e-3),\\n    loss=\\\"mse\\\",\\n    metrics=[tf.keras.metrics.RootMeanSquaredError(name=\\\"RMSE\\\")],\\n)\";\n",
       "                var nbb_formatted_code = \"set_seeds()\\nmodel_2 = get_model(include_top=False, shape=(x.shape[-1]))\\nmodel_2.load_weights(\\\"conv1d_weights.h5\\\", by_name=True)\\nmodel_2.trainable = True\\n\\nflat1 = tf.keras.layers.Flatten()(model_2.layers[-1].output)\\nclass1 = tf.keras.layers.Dense(256, activation=\\\"relu\\\")(flat1)\\nclass1 = tf.keras.layers.Dense(128, activation=\\\"relu\\\")(class1)\\nclass1 = tf.keras.layers.Dense(64, activation=\\\"relu\\\")(class1)\\noutputs = tf.keras.layers.Dense(1, activation=\\\"linear\\\")(class1)\\nmodel = tf.keras.Model(model_2.inputs, outputs)\\n\\nmodel.compile(\\n    optimizer=tf.keras.optimizers.Adam(learning_rate=1e-3),\\n    loss=\\\"mse\\\",\\n    metrics=[tf.keras.metrics.RootMeanSquaredError(name=\\\"RMSE\\\")],\\n)\";\n",
       "                var nbb_cells = Jupyter.notebook.get_cells();\n",
       "                for (var i = 0; i < nbb_cells.length; ++i) {\n",
       "                    if (nbb_cells[i].input_prompt_number == nbb_cell_id) {\n",
       "                        if (nbb_cells[i].get_text() == nbb_unformatted_code) {\n",
       "                             nbb_cells[i].set_text(nbb_formatted_code);\n",
       "                        }\n",
       "                        break;\n",
       "                    }\n",
       "                }\n",
       "            }, 500);\n",
       "            "
      ],
      "text/plain": [
       "<IPython.core.display.Javascript object>"
      ]
     },
     "metadata": {},
     "output_type": "display_data"
    }
   ],
   "source": [
    "set_seeds()\n",
    "model_2 = get_model(include_top=False, shape=(x.shape[-1]))\n",
    "model_2.load_weights(\"conv1d_weights.h5\", by_name=True)\n",
    "model_2.trainable = True\n",
    "\n",
    "flat1 = tf.keras.layers.Flatten()(model_2.layers[-1].output)\n",
    "class1 = tf.keras.layers.Dense(256, activation=\"relu\")(flat1)\n",
    "class1 = tf.keras.layers.Dense(128, activation=\"relu\")(class1)\n",
    "class1 = tf.keras.layers.Dense(64, activation=\"relu\")(class1)\n",
    "outputs = tf.keras.layers.Dense(1, activation=\"linear\")(class1)\n",
    "model = tf.keras.Model(model_2.inputs, outputs)\n",
    "\n",
    "model.compile(\n",
    "    optimizer=tf.keras.optimizers.Adam(learning_rate=1e-3),\n",
    "    loss=\"mse\",\n",
    "    metrics=[tf.keras.metrics.RootMeanSquaredError(name=\"RMSE\")],\n",
    ")"
   ]
  },
  {
   "cell_type": "code",
   "execution_count": 128,
   "metadata": {},
   "outputs": [
    {
     "data": {
      "application/javascript": [
       "\n",
       "            setTimeout(function() {\n",
       "                var nbb_cell_id = 128;\n",
       "                var nbb_unformatted_code = \"sc = StandardScaler()\\n\\nhistory = model.fit(\\n    sc.fit_transform(x_train),\\n    y_train,\\n    batch_size=batch_size,\\n    epochs=epochs,\\n    verbose=verbose,\\n)\";\n",
       "                var nbb_formatted_code = \"sc = StandardScaler()\\n\\nhistory = model.fit(\\n    sc.fit_transform(x_train),\\n    y_train,\\n    batch_size=batch_size,\\n    epochs=epochs,\\n    verbose=verbose,\\n)\";\n",
       "                var nbb_cells = Jupyter.notebook.get_cells();\n",
       "                for (var i = 0; i < nbb_cells.length; ++i) {\n",
       "                    if (nbb_cells[i].input_prompt_number == nbb_cell_id) {\n",
       "                        if (nbb_cells[i].get_text() == nbb_unformatted_code) {\n",
       "                             nbb_cells[i].set_text(nbb_formatted_code);\n",
       "                        }\n",
       "                        break;\n",
       "                    }\n",
       "                }\n",
       "            }, 500);\n",
       "            "
      ],
      "text/plain": [
       "<IPython.core.display.Javascript object>"
      ]
     },
     "metadata": {},
     "output_type": "display_data"
    }
   ],
   "source": [
    "sc = StandardScaler()\n",
    "\n",
    "history = model.fit(\n",
    "    sc.fit_transform(x_train),\n",
    "    y_train,\n",
    "    batch_size=batch_size,\n",
    "    epochs=epochs,\n",
    "    verbose=verbose,\n",
    ")\n"
   ]
  },
  {
   "cell_type": "code",
   "execution_count": 129,
   "metadata": {},
   "outputs": [
    {
     "data": {
      "text/plain": [
       "[<matplotlib.lines.Line2D at 0x7f5d27e604a8>]"
      ]
     },
     "execution_count": 129,
     "metadata": {},
     "output_type": "execute_result"
    },
    {
     "data": {
      "image/png": "[encoded data removed]",
      "text/plain": [
       "<Figure size 432x288 with 1 Axes>"
      ]
     },
     "metadata": {
      "needs_background": "light"
     },
     "output_type": "display_data"
    },
    {
     "data": {
      "application/javascript": [
       "\n",
       "            setTimeout(function() {\n",
       "                var nbb_cell_id = 129;\n",
       "                var nbb_unformatted_code = \"plt.plot(history.history[\\\"RMSE\\\"])\";\n",
       "                var nbb_formatted_code = \"plt.plot(history.history[\\\"RMSE\\\"])\";\n",
       "                var nbb_cells = Jupyter.notebook.get_cells();\n",
       "                for (var i = 0; i < nbb_cells.length; ++i) {\n",
       "                    if (nbb_cells[i].input_prompt_number == nbb_cell_id) {\n",
       "                        if (nbb_cells[i].get_text() == nbb_unformatted_code) {\n",
       "                             nbb_cells[i].set_text(nbb_formatted_code);\n",
       "                        }\n",
       "                        break;\n",
       "                    }\n",
       "                }\n",
       "            }, 500);\n",
       "            "
      ],
      "text/plain": [
       "<IPython.core.display.Javascript object>"
      ]
     },
     "metadata": {},
     "output_type": "display_data"
    }
   ],
   "source": [
    "plt.plot(history.history[\"RMSE\"])"
   ]
  },
  {
   "cell_type": "code",
   "execution_count": 130,
   "metadata": {},
   "outputs": [
    {
     "name": "stdout",
     "output_type": "stream",
     "text": [
      "******\n",
      "[TRAIN]\n",
      "******\n",
      "RMSE: 2.617 (0.000)\n",
      "MAE: 2.086 (0.000)\n",
      "MAPE: 0.047 (0.000)\n",
      "R2: 0.356 (0.000)\n",
      "\n",
      "======================\n",
      "\n",
      "******\n",
      "[TEST]\n",
      "******\n",
      "RMSE: 3.744 (0.000)\n",
      "MAE: 3.173 (0.000)\n",
      "MAPE: 0.082 (0.000)\n",
      "R2: 0.807 (0.000)\n",
      "\n",
      "======================\n",
      "\n"
     ]
    },
    {
     "data": {
      "application/javascript": [
       "\n",
       "            setTimeout(function() {\n",
       "                var nbb_cell_id = 130;\n",
       "                var nbb_unformatted_code = \"y_train_pred = model.predict(sc.transform(x_train))\\ny_test_pred = model.predict(sc.transform(x_test))\\n\\nscores = score_regression_metrics(y_train, y_train_pred, y_test, y_test_pred)\\nprint_scores(scores, METRICS, METRICS_DICT)\";\n",
       "                var nbb_formatted_code = \"y_train_pred = model.predict(sc.transform(x_train))\\ny_test_pred = model.predict(sc.transform(x_test))\\n\\nscores = score_regression_metrics(y_train, y_train_pred, y_test, y_test_pred)\\nprint_scores(scores, METRICS, METRICS_DICT)\";\n",
       "                var nbb_cells = Jupyter.notebook.get_cells();\n",
       "                for (var i = 0; i < nbb_cells.length; ++i) {\n",
       "                    if (nbb_cells[i].input_prompt_number == nbb_cell_id) {\n",
       "                        if (nbb_cells[i].get_text() == nbb_unformatted_code) {\n",
       "                             nbb_cells[i].set_text(nbb_formatted_code);\n",
       "                        }\n",
       "                        break;\n",
       "                    }\n",
       "                }\n",
       "            }, 500);\n",
       "            "
      ],
      "text/plain": [
       "<IPython.core.display.Javascript object>"
      ]
     },
     "metadata": {},
     "output_type": "display_data"
    }
   ],
   "source": [
    "y_train_pred = model.predict(sc.transform(x_train))\n",
    "y_test_pred = model.predict(sc.transform(x_test))\n",
    "\n",
    "scores = score_regression_metrics(y_train, y_train_pred, y_test, y_test_pred)\n",
    "print_scores(scores, METRICS, METRICS_DICT)"
   ]
  },
  {
   "cell_type": "markdown",
   "metadata": {},
   "source": [
    "# Pre Trainning"
   ]
  },
  {
   "cell_type": "markdown",
   "metadata": {},
   "source": [
    "# partner_i"
   ]
  },
  {
   "cell_type": "code",
   "execution_count": 131,
   "metadata": {},
   "outputs": [
    {
     "data": {
      "application/javascript": [
       "\n",
       "            setTimeout(function() {\n",
       "                var nbb_cell_id = 131;\n",
       "                var nbb_unformatted_code = \"batch_size = 32\\nepochs = 200\\nverbose = 0\";\n",
       "                var nbb_formatted_code = \"batch_size = 32\\nepochs = 200\\nverbose = 0\";\n",
       "                var nbb_cells = Jupyter.notebook.get_cells();\n",
       "                for (var i = 0; i < nbb_cells.length; ++i) {\n",
       "                    if (nbb_cells[i].input_prompt_number == nbb_cell_id) {\n",
       "                        if (nbb_cells[i].get_text() == nbb_unformatted_code) {\n",
       "                             nbb_cells[i].set_text(nbb_formatted_code);\n",
       "                        }\n",
       "                        break;\n",
       "                    }\n",
       "                }\n",
       "            }, 500);\n",
       "            "
      ],
      "text/plain": [
       "<IPython.core.display.Javascript object>"
      ]
     },
     "metadata": {},
     "output_type": "display_data"
    }
   ],
   "source": [
    "batch_size = 32\n",
    "epochs = 200\n",
    "verbose = 0"
   ]
  },
  {
   "cell_type": "code",
   "execution_count": 132,
   "metadata": {},
   "outputs": [
    {
     "data": {
      "application/javascript": [
       "\n",
       "            setTimeout(function() {\n",
       "                var nbb_cell_id = 132;\n",
       "                var nbb_unformatted_code = \"COMMON_FEATURES_partner_i = [\\\"%limestone\\\", \\\"%gypsum\\\", \\\"%clinker\\\"]\";\n",
       "                var nbb_formatted_code = \"COMMON_FEATURES_partner_i = [\\\"%limestone\\\", \\\"%gypsum\\\", \\\"%clinker\\\"]\";\n",
       "                var nbb_cells = Jupyter.notebook.get_cells();\n",
       "                for (var i = 0; i < nbb_cells.length; ++i) {\n",
       "                    if (nbb_cells[i].input_prompt_number == nbb_cell_id) {\n",
       "                        if (nbb_cells[i].get_text() == nbb_unformatted_code) {\n",
       "                             nbb_cells[i].set_text(nbb_formatted_code);\n",
       "                        }\n",
       "                        break;\n",
       "                    }\n",
       "                }\n",
       "            }, 500);\n",
       "            "
      ],
      "text/plain": [
       "<IPython.core.display.Javascript object>"
      ]
     },
     "metadata": {},
     "output_type": "display_data"
    }
   ],
   "source": [
    "COMMON_FEATURES_partner_i = [\"%limestone\", \"%gypsum\", \"%clinker\"]"
   ]
  },
  {
   "cell_type": "code",
   "execution_count": 133,
   "metadata": {},
   "outputs": [
    {
     "data": {
      "application/javascript": [
       "\n",
       "            setTimeout(function() {\n",
       "                var nbb_cell_id = 133;\n",
       "                var nbb_unformatted_code = \"df_partner_i = pd.read_csv(\\n    \\\"../../../data/processed/partner_i-Oficial/cement-shipping.csv\\\"\\n)\\ndf_partner_i = df_partner_i.drop(\\n    [\\n        \\\"1 day Compressive strength\\\",\\n        \\\"3 day Compressive strength\\\",\\n        \\\"7 day Compressive strength\\\",\\n    ],\\n    axis=1,\\n).copy()\\n\\ny = df_partner_i.pop(\\\"28 day Compressive strength\\\")\\ndf_partner_i.columns = df_partner_i.columns.str.lower()\\nx = df_partner_i[COMMON_FEATURES_partner_i]\\n\\n\\nx_train, x_test, y_train, y_test = train_test_split(\\n    x, y, test_size=0.2, random_state=SEED, shuffle=False\\n)\";\n",
       "                var nbb_formatted_code = \"df_partner_i = pd.read_csv(\\n    \\\"../../../data/processed/partner_i-Oficial/cement-shipping.csv\\\"\\n)\\ndf_partner_i = df_partner_i.drop(\\n    [\\n        \\\"1 day Compressive strength\\\",\\n        \\\"3 day Compressive strength\\\",\\n        \\\"7 day Compressive strength\\\",\\n    ],\\n    axis=1,\\n).copy()\\n\\ny = df_partner_i.pop(\\\"28 day Compressive strength\\\")\\ndf_partner_i.columns = df_partner_i.columns.str.lower()\\nx = df_partner_i[COMMON_FEATURES_partner_i]\\n\\n\\nx_train, x_test, y_train, y_test = train_test_split(\\n    x, y, test_size=0.2, random_state=SEED, shuffle=False\\n)\";\n",
       "                var nbb_cells = Jupyter.notebook.get_cells();\n",
       "                for (var i = 0; i < nbb_cells.length; ++i) {\n",
       "                    if (nbb_cells[i].input_prompt_number == nbb_cell_id) {\n",
       "                        if (nbb_cells[i].get_text() == nbb_unformatted_code) {\n",
       "                             nbb_cells[i].set_text(nbb_formatted_code);\n",
       "                        }\n",
       "                        break;\n",
       "                    }\n",
       "                }\n",
       "            }, 500);\n",
       "            "
      ],
      "text/plain": [
       "<IPython.core.display.Javascript object>"
      ]
     },
     "metadata": {},
     "output_type": "display_data"
    }
   ],
   "source": [
    "df_partner_i = pd.read_csv(\n",
    "    \"../../../data/processed/partner_i-Oficial/cement-shipping.csv\"\n",
    ")\n",
    "df_partner_i = df_partner_i.drop(\n",
    "    [\n",
    "        \"1 day Compressive strength\",\n",
    "        \"3 day Compressive strength\",\n",
    "        \"7 day Compressive strength\",\n",
    "    ],\n",
    "    axis=1,\n",
    ").copy()\n",
    "\n",
    "y = df_partner_i.pop(\"28 day Compressive strength\")\n",
    "df_partner_i.columns = df_partner_i.columns.str.lower()\n",
    "x = df_partner_i[COMMON_FEATURES_partner_i]\n",
    "\n",
    "\n",
    "x_train, x_test, y_train, y_test = train_test_split(\n",
    "    x, y, test_size=0.2, random_state=SEED, shuffle=False\n",
    ")"
   ]
  },
  {
   "cell_type": "code",
   "execution_count": 134,
   "metadata": {},
   "outputs": [
    {
     "data": {
      "application/javascript": [
       "\n",
       "            setTimeout(function() {\n",
       "                var nbb_cell_id = 134;\n",
       "                var nbb_unformatted_code = \"set_seeds()\\n\\nmodel = get_model(shape=x_train.shape[-1], include_top=True)\\nsc = StandardScaler()\\n\\nhistory = model.fit(\\n    sc.fit_transform(x_train),\\n    y_train,\\n    batch_size=batch_size,\\n    epochs=epochs,\\n    verbose=verbose,\\n)\";\n",
       "                var nbb_formatted_code = \"set_seeds()\\n\\nmodel = get_model(shape=x_train.shape[-1], include_top=True)\\nsc = StandardScaler()\\n\\nhistory = model.fit(\\n    sc.fit_transform(x_train),\\n    y_train,\\n    batch_size=batch_size,\\n    epochs=epochs,\\n    verbose=verbose,\\n)\";\n",
       "                var nbb_cells = Jupyter.notebook.get_cells();\n",
       "                for (var i = 0; i < nbb_cells.length; ++i) {\n",
       "                    if (nbb_cells[i].input_prompt_number == nbb_cell_id) {\n",
       "                        if (nbb_cells[i].get_text() == nbb_unformatted_code) {\n",
       "                             nbb_cells[i].set_text(nbb_formatted_code);\n",
       "                        }\n",
       "                        break;\n",
       "                    }\n",
       "                }\n",
       "            }, 500);\n",
       "            "
      ],
      "text/plain": [
       "<IPython.core.display.Javascript object>"
      ]
     },
     "metadata": {},
     "output_type": "display_data"
    }
   ],
   "source": [
    "set_seeds()\n",
    "\n",
    "model = get_model(shape=x_train.shape[-1], include_top=True)\n",
    "sc = StandardScaler()\n",
    "\n",
    "history = model.fit(\n",
    "    sc.fit_transform(x_train),\n",
    "    y_train,\n",
    "    batch_size=batch_size,\n",
    "    epochs=epochs,\n",
    "    verbose=verbose,\n",
    ")"
   ]
  },
  {
   "cell_type": "code",
   "execution_count": 135,
   "metadata": {},
   "outputs": [
    {
     "data": {
      "text/plain": [
       "[<matplotlib.lines.Line2D at 0x7f5d278d14e0>]"
      ]
     },
     "execution_count": 135,
     "metadata": {},
     "output_type": "execute_result"
    },
    {
     "data": {
      "image/png": "[encoded data removed]",
      "text/plain": [
       "<Figure size 432x288 with 1 Axes>"
      ]
     },
     "metadata": {
      "needs_background": "light"
     },
     "output_type": "display_data"
    },
    {
     "data": {
      "application/javascript": [
       "\n",
       "            setTimeout(function() {\n",
       "                var nbb_cell_id = 135;\n",
       "                var nbb_unformatted_code = \"plt.plot(history.history[\\\"RMSE\\\"])\";\n",
       "                var nbb_formatted_code = \"plt.plot(history.history[\\\"RMSE\\\"])\";\n",
       "                var nbb_cells = Jupyter.notebook.get_cells();\n",
       "                for (var i = 0; i < nbb_cells.length; ++i) {\n",
       "                    if (nbb_cells[i].input_prompt_number == nbb_cell_id) {\n",
       "                        if (nbb_cells[i].get_text() == nbb_unformatted_code) {\n",
       "                             nbb_cells[i].set_text(nbb_formatted_code);\n",
       "                        }\n",
       "                        break;\n",
       "                    }\n",
       "                }\n",
       "            }, 500);\n",
       "            "
      ],
      "text/plain": [
       "<IPython.core.display.Javascript object>"
      ]
     },
     "metadata": {},
     "output_type": "display_data"
    }
   ],
   "source": [
    "plt.plot(history.history[\"RMSE\"])"
   ]
  },
  {
   "cell_type": "code",
   "execution_count": 136,
   "metadata": {},
   "outputs": [
    {
     "name": "stdout",
     "output_type": "stream",
     "text": [
      "******\n",
      "[TRAIN]\n",
      "******\n",
      "RMSE: 5.061 (0.000)\n",
      "MAE: 4.632 (0.000)\n",
      "MAPE: 0.112 (0.000)\n",
      "R2: 0.005 (0.000)\n",
      "\n",
      "======================\n",
      "\n",
      "******\n",
      "[TEST]\n",
      "******\n",
      "RMSE: 5.084 (0.000)\n",
      "MAE: 4.809 (0.000)\n",
      "MAPE: 0.114 (0.000)\n",
      "R2: 0.046 (0.000)\n",
      "\n",
      "======================\n",
      "\n"
     ]
    },
    {
     "data": {
      "application/javascript": [
       "\n",
       "            setTimeout(function() {\n",
       "                var nbb_cell_id = 136;\n",
       "                var nbb_unformatted_code = \"y_train_pred = model.predict(sc.transform(x_train))\\ny_test_pred = model.predict(sc.transform(x_test))\\nscores = score_regression_metrics(y_train, y_train_pred, y_test, y_test_pred)\\nprint_scores(scores, METRICS, METRICS_DICT)\";\n",
       "                var nbb_formatted_code = \"y_train_pred = model.predict(sc.transform(x_train))\\ny_test_pred = model.predict(sc.transform(x_test))\\nscores = score_regression_metrics(y_train, y_train_pred, y_test, y_test_pred)\\nprint_scores(scores, METRICS, METRICS_DICT)\";\n",
       "                var nbb_cells = Jupyter.notebook.get_cells();\n",
       "                for (var i = 0; i < nbb_cells.length; ++i) {\n",
       "                    if (nbb_cells[i].input_prompt_number == nbb_cell_id) {\n",
       "                        if (nbb_cells[i].get_text() == nbb_unformatted_code) {\n",
       "                             nbb_cells[i].set_text(nbb_formatted_code);\n",
       "                        }\n",
       "                        break;\n",
       "                    }\n",
       "                }\n",
       "            }, 500);\n",
       "            "
      ],
      "text/plain": [
       "<IPython.core.display.Javascript object>"
      ]
     },
     "metadata": {},
     "output_type": "display_data"
    }
   ],
   "source": [
    "y_train_pred = model.predict(sc.transform(x_train))\n",
    "y_test_pred = model.predict(sc.transform(x_test))\n",
    "scores = score_regression_metrics(y_train, y_train_pred, y_test, y_test_pred)\n",
    "print_scores(scores, METRICS, METRICS_DICT)"
   ]
  },
  {
   "cell_type": "code",
   "execution_count": 137,
   "metadata": {},
   "outputs": [
    {
     "data": {
      "application/javascript": [
       "\n",
       "            setTimeout(function() {\n",
       "                var nbb_cell_id = 137;\n",
       "                var nbb_unformatted_code = \"model.save_weights(\\\"conv1d_weights.h5\\\")\";\n",
       "                var nbb_formatted_code = \"model.save_weights(\\\"conv1d_weights.h5\\\")\";\n",
       "                var nbb_cells = Jupyter.notebook.get_cells();\n",
       "                for (var i = 0; i < nbb_cells.length; ++i) {\n",
       "                    if (nbb_cells[i].input_prompt_number == nbb_cell_id) {\n",
       "                        if (nbb_cells[i].get_text() == nbb_unformatted_code) {\n",
       "                             nbb_cells[i].set_text(nbb_formatted_code);\n",
       "                        }\n",
       "                        break;\n",
       "                    }\n",
       "                }\n",
       "            }, 500);\n",
       "            "
      ],
      "text/plain": [
       "<IPython.core.display.Javascript object>"
      ]
     },
     "metadata": {},
     "output_type": "display_data"
    }
   ],
   "source": [
    "model.save_weights(\"conv1d_weights.h5\")"
   ]
  },
  {
   "cell_type": "markdown",
   "metadata": {},
   "source": [
    "# Fine Tuning"
   ]
  },
  {
   "cell_type": "markdown",
   "metadata": {},
   "source": [
    "# partner_iii"
   ]
  },
  {
   "cell_type": "code",
   "execution_count": 138,
   "metadata": {},
   "outputs": [
    {
     "data": {
      "application/javascript": [
       "\n",
       "            setTimeout(function() {\n",
       "                var nbb_cell_id = 138;\n",
       "                var nbb_unformatted_code = \"df_partner_iii = pd.read_csv(\\n    \\\"../../../data/interim/partner_iii/Dati CADD 2020-2022_with_fillna.csv\\\"\\n)\";\n",
       "                var nbb_formatted_code = \"df_partner_iii = pd.read_csv(\\n    \\\"../../../data/interim/partner_iii/Dati CADD 2020-2022_with_fillna.csv\\\"\\n)\";\n",
       "                var nbb_cells = Jupyter.notebook.get_cells();\n",
       "                for (var i = 0; i < nbb_cells.length; ++i) {\n",
       "                    if (nbb_cells[i].input_prompt_number == nbb_cell_id) {\n",
       "                        if (nbb_cells[i].get_text() == nbb_unformatted_code) {\n",
       "                             nbb_cells[i].set_text(nbb_formatted_code);\n",
       "                        }\n",
       "                        break;\n",
       "                    }\n",
       "                }\n",
       "            }, 500);\n",
       "            "
      ],
      "text/plain": [
       "<IPython.core.display.Javascript object>"
      ]
     },
     "metadata": {},
     "output_type": "display_data"
    }
   ],
   "source": [
    "df_partner_iii = pd.read_csv(\n",
    "    \"../../../data/interim/partner_iii/Dati CADD 2020-2022_with_fillna.csv\"\n",
    ")"
   ]
  },
  {
   "cell_type": "code",
   "execution_count": 139,
   "metadata": {},
   "outputs": [
    {
     "data": {
      "application/javascript": [
       "\n",
       "            setTimeout(function() {\n",
       "                var nbb_cell_id = 139;\n",
       "                var nbb_unformatted_code = \"y = df_partner_iii.pop(\\\"28d compressive strength (MPa)\\\")\\nx = df_partner_iii\\n\\nx_train, x_test, y_train, y_test = train_test_split(\\n    x, y, test_size=0.1, random_state=SEED, shuffle=False\\n)\";\n",
       "                var nbb_formatted_code = \"y = df_partner_iii.pop(\\\"28d compressive strength (MPa)\\\")\\nx = df_partner_iii\\n\\nx_train, x_test, y_train, y_test = train_test_split(\\n    x, y, test_size=0.1, random_state=SEED, shuffle=False\\n)\";\n",
       "                var nbb_cells = Jupyter.notebook.get_cells();\n",
       "                for (var i = 0; i < nbb_cells.length; ++i) {\n",
       "                    if (nbb_cells[i].input_prompt_number == nbb_cell_id) {\n",
       "                        if (nbb_cells[i].get_text() == nbb_unformatted_code) {\n",
       "                             nbb_cells[i].set_text(nbb_formatted_code);\n",
       "                        }\n",
       "                        break;\n",
       "                    }\n",
       "                }\n",
       "            }, 500);\n",
       "            "
      ],
      "text/plain": [
       "<IPython.core.display.Javascript object>"
      ]
     },
     "metadata": {},
     "output_type": "display_data"
    }
   ],
   "source": [
    "y = df_partner_iii.pop(\"28d compressive strength (MPa)\")\n",
    "x = df_partner_iii\n",
    "\n",
    "x_train, x_test, y_train, y_test = train_test_split(\n",
    "    x, y, test_size=0.1, random_state=SEED, shuffle=False\n",
    ")"
   ]
  },
  {
   "cell_type": "code",
   "execution_count": 140,
   "metadata": {},
   "outputs": [
    {
     "data": {
      "application/javascript": [
       "\n",
       "            setTimeout(function() {\n",
       "                var nbb_cell_id = 140;\n",
       "                var nbb_unformatted_code = \"set_seeds()\\n\\nmodel_2 = get_model(include_top=False, shape=(x.shape[-1]))\\nmodel_2.load_weights(\\\"conv1d_weights.h5\\\", by_name=True)\\nmodel_2.trainable = True\\n\\nflat1 = tf.keras.layers.Flatten(name=\\\"Flatten2\\\")(model_2.layers[-1].output)\\nclass1 = tf.keras.layers.Dense(256, activation=\\\"relu\\\")(flat1)\\noutputs = tf.keras.layers.Dense(1, activation=\\\"linear\\\")(class1)\\nmodel = tf.keras.Model(model_2.inputs, outputs)\\n\\nmodel.compile(\\n    optimizer=tf.keras.optimizers.Adam(learning_rate=1e-3),\\n    loss=\\\"mse\\\",\\n    metrics=[tf.keras.metrics.RootMeanSquaredError(name=\\\"RMSE\\\")],\\n)\";\n",
       "                var nbb_formatted_code = \"set_seeds()\\n\\nmodel_2 = get_model(include_top=False, shape=(x.shape[-1]))\\nmodel_2.load_weights(\\\"conv1d_weights.h5\\\", by_name=True)\\nmodel_2.trainable = True\\n\\nflat1 = tf.keras.layers.Flatten(name=\\\"Flatten2\\\")(model_2.layers[-1].output)\\nclass1 = tf.keras.layers.Dense(256, activation=\\\"relu\\\")(flat1)\\noutputs = tf.keras.layers.Dense(1, activation=\\\"linear\\\")(class1)\\nmodel = tf.keras.Model(model_2.inputs, outputs)\\n\\nmodel.compile(\\n    optimizer=tf.keras.optimizers.Adam(learning_rate=1e-3),\\n    loss=\\\"mse\\\",\\n    metrics=[tf.keras.metrics.RootMeanSquaredError(name=\\\"RMSE\\\")],\\n)\";\n",
       "                var nbb_cells = Jupyter.notebook.get_cells();\n",
       "                for (var i = 0; i < nbb_cells.length; ++i) {\n",
       "                    if (nbb_cells[i].input_prompt_number == nbb_cell_id) {\n",
       "                        if (nbb_cells[i].get_text() == nbb_unformatted_code) {\n",
       "                             nbb_cells[i].set_text(nbb_formatted_code);\n",
       "                        }\n",
       "                        break;\n",
       "                    }\n",
       "                }\n",
       "            }, 500);\n",
       "            "
      ],
      "text/plain": [
       "<IPython.core.display.Javascript object>"
      ]
     },
     "metadata": {},
     "output_type": "display_data"
    }
   ],
   "source": [
    "set_seeds()\n",
    "\n",
    "model_2 = get_model(include_top=False, shape=(x.shape[-1]))\n",
    "model_2.load_weights(\"conv1d_weights.h5\", by_name=True)\n",
    "model_2.trainable = True\n",
    "\n",
    "flat1 = tf.keras.layers.Flatten(name=\"Flatten2\")(model_2.layers[-1].output)\n",
    "class1 = tf.keras.layers.Dense(256, activation=\"relu\")(flat1)\n",
    "outputs = tf.keras.layers.Dense(1, activation=\"linear\")(class1)\n",
    "model = tf.keras.Model(model_2.inputs, outputs)\n",
    "\n",
    "model.compile(\n",
    "    optimizer=tf.keras.optimizers.Adam(learning_rate=1e-3),\n",
    "    loss=\"mse\",\n",
    "    metrics=[tf.keras.metrics.RootMeanSquaredError(name=\"RMSE\")],\n",
    ")"
   ]
  },
  {
   "cell_type": "code",
   "execution_count": 141,
   "metadata": {},
   "outputs": [
    {
     "data": {
      "application/javascript": [
       "\n",
       "            setTimeout(function() {\n",
       "                var nbb_cell_id = 141;\n",
       "                var nbb_unformatted_code = \"sc = StandardScaler()\\nhistory = model.fit(\\n    sc.fit_transform(x_train),\\n    y_train,\\n    batch_size=batch_size,\\n    epochs=epochs,\\n    verbose=verbose,\\n)\";\n",
       "                var nbb_formatted_code = \"sc = StandardScaler()\\nhistory = model.fit(\\n    sc.fit_transform(x_train),\\n    y_train,\\n    batch_size=batch_size,\\n    epochs=epochs,\\n    verbose=verbose,\\n)\";\n",
       "                var nbb_cells = Jupyter.notebook.get_cells();\n",
       "                for (var i = 0; i < nbb_cells.length; ++i) {\n",
       "                    if (nbb_cells[i].input_prompt_number == nbb_cell_id) {\n",
       "                        if (nbb_cells[i].get_text() == nbb_unformatted_code) {\n",
       "                             nbb_cells[i].set_text(nbb_formatted_code);\n",
       "                        }\n",
       "                        break;\n",
       "                    }\n",
       "                }\n",
       "            }, 500);\n",
       "            "
      ],
      "text/plain": [
       "<IPython.core.display.Javascript object>"
      ]
     },
     "metadata": {},
     "output_type": "display_data"
    }
   ],
   "source": [
    "sc = StandardScaler()\n",
    "history = model.fit(\n",
    "    sc.fit_transform(x_train),\n",
    "    y_train,\n",
    "    batch_size=batch_size,\n",
    "    epochs=epochs,\n",
    "    verbose=verbose,\n",
    ")"
   ]
  },
  {
   "cell_type": "code",
   "execution_count": 142,
   "metadata": {},
   "outputs": [
    {
     "data": {
      "text/plain": [
       "[<matplotlib.lines.Line2D at 0x7f5d277a7f28>]"
      ]
     },
     "execution_count": 142,
     "metadata": {},
     "output_type": "execute_result"
    },
    {
     "data": {
      "image/png": "[encoded data removed]",
      "text/plain": [
       "<Figure size 432x288 with 1 Axes>"
      ]
     },
     "metadata": {
      "needs_background": "light"
     },
     "output_type": "display_data"
    },
    {
     "data": {
      "application/javascript": [
       "\n",
       "            setTimeout(function() {\n",
       "                var nbb_cell_id = 142;\n",
       "                var nbb_unformatted_code = \"plt.plot(history.history[\\\"RMSE\\\"])\";\n",
       "                var nbb_formatted_code = \"plt.plot(history.history[\\\"RMSE\\\"])\";\n",
       "                var nbb_cells = Jupyter.notebook.get_cells();\n",
       "                for (var i = 0; i < nbb_cells.length; ++i) {\n",
       "                    if (nbb_cells[i].input_prompt_number == nbb_cell_id) {\n",
       "                        if (nbb_cells[i].get_text() == nbb_unformatted_code) {\n",
       "                             nbb_cells[i].set_text(nbb_formatted_code);\n",
       "                        }\n",
       "                        break;\n",
       "                    }\n",
       "                }\n",
       "            }, 500);\n",
       "            "
      ],
      "text/plain": [
       "<IPython.core.display.Javascript object>"
      ]
     },
     "metadata": {},
     "output_type": "display_data"
    }
   ],
   "source": [
    "plt.plot(history.history[\"RMSE\"])"
   ]
  },
  {
   "cell_type": "code",
   "execution_count": 143,
   "metadata": {},
   "outputs": [
    {
     "name": "stdout",
     "output_type": "stream",
     "text": [
      "******\n",
      "[TRAIN]\n",
      "******\n",
      "RMSE: 4.778 (0.000)\n",
      "MAE: 3.826 (0.000)\n",
      "MAPE: 0.072 (0.000)\n",
      "R2: 0.569 (0.000)\n",
      "\n",
      "======================\n",
      "\n",
      "******\n",
      "[TEST]\n",
      "******\n",
      "RMSE: 3.459 (0.000)\n",
      "MAE: 2.663 (0.000)\n",
      "MAPE: 0.051 (0.000)\n",
      "R2: 0.181 (0.000)\n",
      "\n",
      "======================\n",
      "\n"
     ]
    },
    {
     "data": {
      "application/javascript": [
       "\n",
       "            setTimeout(function() {\n",
       "                var nbb_cell_id = 143;\n",
       "                var nbb_unformatted_code = \"y_train_pred = model.predict(sc.transform(x_train))\\ny_test_pred = model.predict(sc.transform(x_test))\\n\\nscores = score_regression_metrics(y_train, y_train_pred, y_test, y_test_pred)\\nprint_scores(scores, METRICS, METRICS_DICT)\";\n",
       "                var nbb_formatted_code = \"y_train_pred = model.predict(sc.transform(x_train))\\ny_test_pred = model.predict(sc.transform(x_test))\\n\\nscores = score_regression_metrics(y_train, y_train_pred, y_test, y_test_pred)\\nprint_scores(scores, METRICS, METRICS_DICT)\";\n",
       "                var nbb_cells = Jupyter.notebook.get_cells();\n",
       "                for (var i = 0; i < nbb_cells.length; ++i) {\n",
       "                    if (nbb_cells[i].input_prompt_number == nbb_cell_id) {\n",
       "                        if (nbb_cells[i].get_text() == nbb_unformatted_code) {\n",
       "                             nbb_cells[i].set_text(nbb_formatted_code);\n",
       "                        }\n",
       "                        break;\n",
       "                    }\n",
       "                }\n",
       "            }, 500);\n",
       "            "
      ],
      "text/plain": [
       "<IPython.core.display.Javascript object>"
      ]
     },
     "metadata": {},
     "output_type": "display_data"
    }
   ],
   "source": [
    "y_train_pred = model.predict(sc.transform(x_train))\n",
    "y_test_pred = model.predict(sc.transform(x_test))\n",
    "\n",
    "scores = score_regression_metrics(y_train, y_train_pred, y_test, y_test_pred)\n",
    "print_scores(scores, METRICS, METRICS_DICT)"
   ]
  },
  {
   "cell_type": "markdown",
   "metadata": {},
   "source": [
    "# partner_iii"
   ]
  },
  {
   "cell_type": "code",
   "execution_count": 144,
   "metadata": {},
   "outputs": [
    {
     "data": {
      "application/javascript": [
       "\n",
       "            setTimeout(function() {\n",
       "                var nbb_cell_id = 144;\n",
       "                var nbb_unformatted_code = \"df_partner_iii = pd.read_csv(\\n    \\\"../../../data/interim/partner_iii/Dati CADD 2020-2022_with_fillna.csv\\\"\\n)\";\n",
       "                var nbb_formatted_code = \"df_partner_iii = pd.read_csv(\\n    \\\"../../../data/interim/partner_iii/Dati CADD 2020-2022_with_fillna.csv\\\"\\n)\";\n",
       "                var nbb_cells = Jupyter.notebook.get_cells();\n",
       "                for (var i = 0; i < nbb_cells.length; ++i) {\n",
       "                    if (nbb_cells[i].input_prompt_number == nbb_cell_id) {\n",
       "                        if (nbb_cells[i].get_text() == nbb_unformatted_code) {\n",
       "                             nbb_cells[i].set_text(nbb_formatted_code);\n",
       "                        }\n",
       "                        break;\n",
       "                    }\n",
       "                }\n",
       "            }, 500);\n",
       "            "
      ],
      "text/plain": [
       "<IPython.core.display.Javascript object>"
      ]
     },
     "metadata": {},
     "output_type": "display_data"
    }
   ],
   "source": [
    "df_partner_iii = pd.read_csv(\n",
    "    \"../../../data/interim/partner_iii/Dati CADD 2020-2022_with_fillna.csv\"\n",
    ")"
   ]
  },
  {
   "cell_type": "code",
   "execution_count": 145,
   "metadata": {},
   "outputs": [
    {
     "data": {
      "application/javascript": [
       "\n",
       "            setTimeout(function() {\n",
       "                var nbb_cell_id = 145;\n",
       "                var nbb_unformatted_code = \"y = df_partner_iii.pop(\\\"28d compressive strength (MPa)\\\")\\nx = df_partner_iii\\n\\nx_train, x_test, y_train, y_test = train_test_split(\\n    x, y, test_size=0.1, random_state=SEED, shuffle=False\\n)\";\n",
       "                var nbb_formatted_code = \"y = df_partner_iii.pop(\\\"28d compressive strength (MPa)\\\")\\nx = df_partner_iii\\n\\nx_train, x_test, y_train, y_test = train_test_split(\\n    x, y, test_size=0.1, random_state=SEED, shuffle=False\\n)\";\n",
       "                var nbb_cells = Jupyter.notebook.get_cells();\n",
       "                for (var i = 0; i < nbb_cells.length; ++i) {\n",
       "                    if (nbb_cells[i].input_prompt_number == nbb_cell_id) {\n",
       "                        if (nbb_cells[i].get_text() == nbb_unformatted_code) {\n",
       "                             nbb_cells[i].set_text(nbb_formatted_code);\n",
       "                        }\n",
       "                        break;\n",
       "                    }\n",
       "                }\n",
       "            }, 500);\n",
       "            "
      ],
      "text/plain": [
       "<IPython.core.display.Javascript object>"
      ]
     },
     "metadata": {},
     "output_type": "display_data"
    }
   ],
   "source": [
    "y = df_partner_iii.pop(\"28d compressive strength (MPa)\")\n",
    "x = df_partner_iii\n",
    "\n",
    "x_train, x_test, y_train, y_test = train_test_split(\n",
    "    x, y, test_size=0.1, random_state=SEED, shuffle=False\n",
    ")"
   ]
  },
  {
   "cell_type": "code",
   "execution_count": 146,
   "metadata": {},
   "outputs": [
    {
     "data": {
      "application/javascript": [
       "\n",
       "            setTimeout(function() {\n",
       "                var nbb_cell_id = 146;\n",
       "                var nbb_unformatted_code = \"set_seeds()\\nmodel = get_model(include_top=True, shape=(x.shape[-1]))\\nmodel.compile(\\n    optimizer=tf.keras.optimizers.Adam(learning_rate=1e-3),\\n    loss=\\\"mse\\\",\\n    metrics=[tf.keras.metrics.RootMeanSquaredError(name=\\\"RMSE\\\")],\\n)\";\n",
       "                var nbb_formatted_code = \"set_seeds()\\nmodel = get_model(include_top=True, shape=(x.shape[-1]))\\nmodel.compile(\\n    optimizer=tf.keras.optimizers.Adam(learning_rate=1e-3),\\n    loss=\\\"mse\\\",\\n    metrics=[tf.keras.metrics.RootMeanSquaredError(name=\\\"RMSE\\\")],\\n)\";\n",
       "                var nbb_cells = Jupyter.notebook.get_cells();\n",
       "                for (var i = 0; i < nbb_cells.length; ++i) {\n",
       "                    if (nbb_cells[i].input_prompt_number == nbb_cell_id) {\n",
       "                        if (nbb_cells[i].get_text() == nbb_unformatted_code) {\n",
       "                             nbb_cells[i].set_text(nbb_formatted_code);\n",
       "                        }\n",
       "                        break;\n",
       "                    }\n",
       "                }\n",
       "            }, 500);\n",
       "            "
      ],
      "text/plain": [
       "<IPython.core.display.Javascript object>"
      ]
     },
     "metadata": {},
     "output_type": "display_data"
    }
   ],
   "source": [
    "set_seeds()\n",
    "model = get_model(include_top=True, shape=(x.shape[-1]))\n",
    "model.compile(\n",
    "    optimizer=tf.keras.optimizers.Adam(learning_rate=1e-3),\n",
    "    loss=\"mse\",\n",
    "    metrics=[tf.keras.metrics.RootMeanSquaredError(name=\"RMSE\")],\n",
    ")"
   ]
  },
  {
   "cell_type": "code",
   "execution_count": 147,
   "metadata": {},
   "outputs": [
    {
     "data": {
      "application/javascript": [
       "\n",
       "            setTimeout(function() {\n",
       "                var nbb_cell_id = 147;\n",
       "                var nbb_unformatted_code = \"sc = StandardScaler()\\nhistory = model.fit(\\n    sc.fit_transform(x_train),\\n    y_train,\\n    batch_size=batch_size,\\n    epochs=epochs,\\n    verbose=verbose,\\n)\";\n",
       "                var nbb_formatted_code = \"sc = StandardScaler()\\nhistory = model.fit(\\n    sc.fit_transform(x_train),\\n    y_train,\\n    batch_size=batch_size,\\n    epochs=epochs,\\n    verbose=verbose,\\n)\";\n",
       "                var nbb_cells = Jupyter.notebook.get_cells();\n",
       "                for (var i = 0; i < nbb_cells.length; ++i) {\n",
       "                    if (nbb_cells[i].input_prompt_number == nbb_cell_id) {\n",
       "                        if (nbb_cells[i].get_text() == nbb_unformatted_code) {\n",
       "                             nbb_cells[i].set_text(nbb_formatted_code);\n",
       "                        }\n",
       "                        break;\n",
       "                    }\n",
       "                }\n",
       "            }, 500);\n",
       "            "
      ],
      "text/plain": [
       "<IPython.core.display.Javascript object>"
      ]
     },
     "metadata": {},
     "output_type": "display_data"
    }
   ],
   "source": [
    "sc = StandardScaler()\n",
    "history = model.fit(\n",
    "    sc.fit_transform(x_train),\n",
    "    y_train,\n",
    "    batch_size=batch_size,\n",
    "    epochs=epochs,\n",
    "    verbose=verbose,\n",
    ")"
   ]
  },
  {
   "cell_type": "code",
   "execution_count": 148,
   "metadata": {},
   "outputs": [
    {
     "data": {
      "text/plain": [
       "[<matplotlib.lines.Line2D at 0x7f5d275f5748>]"
      ]
     },
     "execution_count": 148,
     "metadata": {},
     "output_type": "execute_result"
    },
    {
     "data": {
      "image/png": "[encoded data removed]",
      "text/plain": [
       "<Figure size 432x288 with 1 Axes>"
      ]
     },
     "metadata": {
      "needs_background": "light"
     },
     "output_type": "display_data"
    },
    {
     "data": {
      "application/javascript": [
       "\n",
       "            setTimeout(function() {\n",
       "                var nbb_cell_id = 148;\n",
       "                var nbb_unformatted_code = \"plt.plot(history.history[\\\"RMSE\\\"])\";\n",
       "                var nbb_formatted_code = \"plt.plot(history.history[\\\"RMSE\\\"])\";\n",
       "                var nbb_cells = Jupyter.notebook.get_cells();\n",
       "                for (var i = 0; i < nbb_cells.length; ++i) {\n",
       "                    if (nbb_cells[i].input_prompt_number == nbb_cell_id) {\n",
       "                        if (nbb_cells[i].get_text() == nbb_unformatted_code) {\n",
       "                             nbb_cells[i].set_text(nbb_formatted_code);\n",
       "                        }\n",
       "                        break;\n",
       "                    }\n",
       "                }\n",
       "            }, 500);\n",
       "            "
      ],
      "text/plain": [
       "<IPython.core.display.Javascript object>"
      ]
     },
     "metadata": {},
     "output_type": "display_data"
    }
   ],
   "source": [
    "plt.plot(history.history[\"RMSE\"])"
   ]
  },
  {
   "cell_type": "code",
   "execution_count": 149,
   "metadata": {},
   "outputs": [
    {
     "name": "stdout",
     "output_type": "stream",
     "text": [
      "******\n",
      "[TRAIN]\n",
      "******\n",
      "RMSE: 4.134 (0.000)\n",
      "MAE: 3.169 (0.000)\n",
      "MAPE: 0.061 (0.000)\n",
      "R2: 0.678 (0.000)\n",
      "\n",
      "======================\n",
      "\n",
      "******\n",
      "[TEST]\n",
      "******\n",
      "RMSE: 4.282 (0.000)\n",
      "MAE: 3.113 (0.000)\n",
      "MAPE: 0.062 (0.000)\n",
      "R2: 0.255 (0.000)\n",
      "\n",
      "======================\n",
      "\n"
     ]
    },
    {
     "data": {
      "application/javascript": [
       "\n",
       "            setTimeout(function() {\n",
       "                var nbb_cell_id = 149;\n",
       "                var nbb_unformatted_code = \"y_train_pred = model.predict(sc.transform(x_train))\\ny_test_pred = model.predict(sc.transform(x_test))\\n\\nscores = score_regression_metrics(y_train, y_train_pred, y_test, y_test_pred)\\nprint_scores(scores, METRICS, METRICS_DICT)\";\n",
       "                var nbb_formatted_code = \"y_train_pred = model.predict(sc.transform(x_train))\\ny_test_pred = model.predict(sc.transform(x_test))\\n\\nscores = score_regression_metrics(y_train, y_train_pred, y_test, y_test_pred)\\nprint_scores(scores, METRICS, METRICS_DICT)\";\n",
       "                var nbb_cells = Jupyter.notebook.get_cells();\n",
       "                for (var i = 0; i < nbb_cells.length; ++i) {\n",
       "                    if (nbb_cells[i].input_prompt_number == nbb_cell_id) {\n",
       "                        if (nbb_cells[i].get_text() == nbb_unformatted_code) {\n",
       "                             nbb_cells[i].set_text(nbb_formatted_code);\n",
       "                        }\n",
       "                        break;\n",
       "                    }\n",
       "                }\n",
       "            }, 500);\n",
       "            "
      ],
      "text/plain": [
       "<IPython.core.display.Javascript object>"
      ]
     },
     "metadata": {},
     "output_type": "display_data"
    }
   ],
   "source": [
    "y_train_pred = model.predict(sc.transform(x_train))\n",
    "y_test_pred = model.predict(sc.transform(x_test))\n",
    "\n",
    "scores = score_regression_metrics(y_train, y_train_pred, y_test, y_test_pred)\n",
    "print_scores(scores, METRICS, METRICS_DICT)"
   ]
  },
  {
   "cell_type": "code",
   "execution_count": null,
   "metadata": {},
   "outputs": [],
   "source": []
  }
 ],
 "metadata": {
  "kernelspec": {
   "display_name": "Python3 (ccs28-venv)",
   "language": "python",
   "name": "ccs28-venv"
  },
  "language_info": {
   "codemirror_mode": {
    "name": "ipython",
    "version": 3
   },
   "file_extension": ".py",
   "mimetype": "text/x-python",
   "name": "python",
   "nbconvert_exporter": "python",
   "pygments_lexer": "ipython3",
   "version": "3.6.9"
  }
 },
 "nbformat": 4,
 "nbformat_minor": 4
}
