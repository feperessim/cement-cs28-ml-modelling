{
 "cells": [
  {
   "cell_type": "code",
   "execution_count": 1,
   "metadata": {},
   "outputs": [],
   "source": [
    "import pandas as pd\n",
    "import numpy as np\n",
    "import tensorflow as tf\n",
    "import matplotlib.pyplot as plt\n",
    "import tensorflow as tf\n",
    "import time\n",
    "import os \n",
    "\n",
    "from sklearn.model_selection import TimeSeriesSplit\n",
    "from sklearn.preprocessing import StandardScaler\n",
    "from sklearn.pipeline import Pipeline\n",
    "from sklearn.model_selection import GridSearchCV\n",
    "from keras.wrappers.scikit_learn import KerasRegressor\n",
    "\n",
    "from src.utils.time_series_procs import split_sequences"
   ]
  },
  {
   "cell_type": "code",
   "execution_count": 2,
   "metadata": {},
   "outputs": [],
   "source": [
    "class StandardScaler3DShape:\n",
    "    def __init__(self):\n",
    "        self.scaler = StandardScaler()\n",
    "\n",
    "    def fit_transform(self, X, y=None):\n",
    "        X_new = self.scaler.fit_transform(X.reshape(-1, X.shape[-1])).reshape(X.shape)\n",
    "        return X_new\n",
    "\n",
    "    def fit(self, X, y=None):\n",
    "        X_new = X.reshape(-1, X.shape[-1])\n",
    "        self.scaler.fit(X_new)\n",
    "        return self\n",
    "\n",
    "    def transform(self, X, y=None):\n",
    "        X_new = self.scaler.transform(X.reshape(-1, X.shape[-1])).reshape(X.shape)\n",
    "        return X_new"
   ]
  },
  {
   "cell_type": "code",
   "execution_count": 3,
   "metadata": {},
   "outputs": [],
   "source": [
    "def get_baseline_model(n_units=64, learning_rate=0.01):\n",
    "    model = tf.keras.Sequential()\n",
    "\n",
    "    model.add(tf.keras.layers.LSTM(units=n_units))\n",
    "    model.add(tf.keras.layers.Dense(1))\n",
    "\n",
    "    opt = tf.keras.optimizers.Adam(learning_rate=learning_rate)\n",
    "    model.compile(\n",
    "        optimizer=opt,\n",
    "        loss=\"mse\",\n",
    "        metrics=[tf.keras.metrics.RootMeanSquaredError(name=\"RMSE\")],\n",
    "    )\n",
    "    return model"
   ]
  },
  {
   "cell_type": "code",
   "execution_count": 4,
   "metadata": {},
   "outputs": [],
   "source": [
    "def create_keras_model(\n",
    "    activation=\"tanh\", dropout_rate=0.0, n_units=64, n_layers=1, learning_rate=1e-3\n",
    "):\n",
    "    model = tf.keras.Sequential()\n",
    "\n",
    "    for i in range(n_layers):\n",
    "        if i + 1 < n_layers:\n",
    "            model.add(\n",
    "                tf.keras.layers.LSTM(\n",
    "                    units=n_units, activation=activation, return_sequences=True\n",
    "                )\n",
    "            )\n",
    "        else:\n",
    "            model.add(\n",
    "                tf.keras.layers.LSTM(\n",
    "                    units=n_units, activation=activation, return_sequences=False\n",
    "                )\n",
    "            )\n",
    "    if dropout_rate > 0.0:\n",
    "        model.add(tf.keras.layers.Dropout(dropout_rate))\n",
    "    model.add(tf.keras.layers.Dense(1))\n",
    "    model.compile(\n",
    "        optimizer=tf.keras.optimizers.Adam(learning_rate=learning_rate),\n",
    "        loss=\"mse\",\n",
    "        metrics=[tf.keras.metrics.RootMeanSquaredError(name=\"RMSE\")],\n",
    "    )\n",
    "    return model"
   ]
  },
  {
   "cell_type": "code",
   "execution_count": 5,
   "metadata": {},
   "outputs": [],
   "source": [
    "def make_repeated_time_series_k_fold(\n",
    "    x,\n",
    "    y,\n",
    "    train_period,\n",
    "    test_period,\n",
    "    grid=None,\n",
    "    repeats=10,\n",
    "    show_individual_results=True,\n",
    "    show_final_result=True,\n",
    "    params=None,\n",
    "):\n",
    "    results = []\n",
    "    max_samples = x.shape[0]\n",
    "\n",
    "    if grid:\n",
    "        activation = grid.best_params_[\"model__activation\"]\n",
    "        dropout_rate = grid.best_params_[\"model__dropout_rate\"]\n",
    "        n_units = grid.best_params_[\"model__n_units\"]\n",
    "        n_layers = grid.best_params_[\"model__n_layers\"]\n",
    "        learning_rate = grid.best_params_[\"model__learning_rate\"]\n",
    "        batch_size = grid.best_params_[\"model__batch_size\"]\n",
    "        epochs = grid.best_params_[\"model__epochs\"]\n",
    "    else:\n",
    "        activation = params[\"activation\"]\n",
    "        dropout_rate = params[\"dropout_rate\"]\n",
    "        n_units = params[\"n_units\"]\n",
    "        n_layers = params[\"n_layers\"]\n",
    "        learning_rate = params[\"learning_rate\"]\n",
    "        batch_size = params[\"batch_size\"]\n",
    "        epochs = params[\"epochs\"]\n",
    "\n",
    "    for _ in range(repeats):\n",
    "        i = 0\n",
    "        scores = []\n",
    "        for _ in range(0, max_samples // train_period):\n",
    "            x_train = x[i : i + train_period]\n",
    "            y_train = y[i : i + train_period]\n",
    "            x_test = x[i + train_period : i + train_period + test_period]\n",
    "            y_test = y[i + train_period : i + train_period + test_period]\n",
    "            i += train_period\n",
    "            x_train = scaler.fit_transform(\n",
    "                x_train.reshape(-1, x_train.shape[-1])\n",
    "            ).reshape(x_train.shape)\n",
    "            x_test = scaler.transform(x_test.reshape(-1, x_test.shape[-1])).reshape(\n",
    "                x_test.shape\n",
    "            )\n",
    "            model = create_keras_model(\n",
    "                activation=activation,\n",
    "                dropout_rate=dropout_rate,\n",
    "                n_units=n_units,\n",
    "                n_layers=n_layers,\n",
    "                learning_rate=learning_rate,\n",
    "            )\n",
    "            model.fit(x_train, y_train, epochs=epochs, batch_size=batch_size, verbose=0)\n",
    "            rmse = model.evaluate(x_test, y_test, verbose=0)\n",
    "            scores.append(rmse[1])\n",
    "        results.append(scores)\n",
    "        if show_individual_results:\n",
    "            print(\"RMSE: %.3f (%.3f)\" % (np.mean(scores), np.std(scores)))\n",
    "    if show_final_result:\n",
    "        print(\"\\nRMSE: %.3f (%.3f)\" % (np.mean(results), np.std(results)))\n",
    "    return results"
   ]
  },
  {
   "cell_type": "code",
   "execution_count": 6,
   "metadata": {},
   "outputs": [],
   "source": [
    "def make_timesteps_repeated_time_series_k_fold(\n",
    "    df,\n",
    "    train_period,\n",
    "    test_period,\n",
    "    params=None,\n",
    "    grid=None,\n",
    "    repeats=10,\n",
    "    timesteps_list=[3],\n",
    "    show_results=True,\n",
    "):\n",
    "    results = {}\n",
    "\n",
    "    for timesteps in timesteps_list:\n",
    "        x, y = split_sequences(df.values, timesteps)\n",
    "        scores = make_repeated_time_series_k_fold(\n",
    "            x, y, train_period, test_period, grid, repeats, False, False, params\n",
    "        )\n",
    "        results[timesteps] = scores\n",
    "        if show_results:\n",
    "            print(\n",
    "                \"TIMESTEPS: %d RMSE: %.3f (%.3f)\"\n",
    "                % (timesteps, np.mean(scores), np.std(scores))\n",
    "            )\n",
    "    return results"
   ]
  },
  {
   "cell_type": "markdown",
   "metadata": {},
   "source": [
    "<h3>Disable Tensorflow Warnings</h3>"
   ]
  },
  {
   "cell_type": "code",
   "execution_count": 7,
   "metadata": {},
   "outputs": [],
   "source": [
    "os.environ[\"TF_CPP_MIN_LOG_LEVEL\"] = \"3\""
   ]
  },
  {
   "cell_type": "code",
   "execution_count": 8,
   "metadata": {},
   "outputs": [],
   "source": [
    "df = pd.read_csv(\"../../../../data/interim/partner_iii/Dati CADD 2020-2022_with_fillna.csv\")"
   ]
  },
  {
   "cell_type": "code",
   "execution_count": 9,
   "metadata": {},
   "outputs": [],
   "source": [
    "seed = 47\n",
    "scaler = StandardScaler()"
   ]
  },
  {
   "cell_type": "markdown",
   "metadata": {},
   "source": [
    "# Neural Network Long Short Term Memory - LSTM"
   ]
  },
  {
   "cell_type": "markdown",
   "metadata": {},
   "source": [
    "# Configs:\n",
    "\n",
    "1. Train Period: [01-01-2019, 2021-05-02)\n",
    "\n",
    "2. Test Period:  (2021-05-02, 2021-11-31]\n",
    "\n",
    "3. TIMESTEPS: [1, 3, 5, 7, 10, 15, 20]\n",
    "\n",
    "4. Epochs: 100\n",
    "\n",
    "5. Batch size: 32\n",
    "\n",
    "6. LSTM Cells: 64\n",
    "\n",
    "7. LSTM Layers: 1\n",
    "\n",
    "8. Optimization Algorithm: Adam\n",
    "    \n",
    "    8.1. Learning Rate: 1e-2\n",
    "    \n",
    "<h3>Repeats: 10</h3>\n",
    "<h3>K: 10</h3>"
   ]
  },
  {
   "cell_type": "markdown",
   "metadata": {},
   "source": [
    "# Times Series Repeated KFold Cross validation - different Timesteps values\n",
    "\n",
    "Here we will make a Times Series KFold Cross validation. We are using the Blocking Time Series Split method. We also do it with different number of timesteps."
   ]
  },
  {
   "cell_type": "code",
   "execution_count": 10,
   "metadata": {},
   "outputs": [],
   "source": [
    "params = {}\n",
    "params['activation'] = 'tanh'\n",
    "params['dropout_rate'] = 0.0\n",
    "params['n_units'] = 64\n",
    "params['n_layers'] = 1\n",
    "params['learning_rate'] = 1e-2\n",
    "params['batch_size'] = 32\n",
    "params['epochs'] = 100\n",
    "\n",
    "timesteps_list = [1, 3, 5, 7, 10, 15, 20]\n",
    "\n",
    "repeats = 10"
   ]
  },
  {
   "cell_type": "markdown",
   "metadata": {},
   "source": [
    "<h3> Time Series Repeated KFold Cross Validation with vary timesteps</h3>"
   ]
  },
  {
   "cell_type": "markdown",
   "metadata": {},
   "source": [
    "<h4>Experiment 1</h4>\n",
    "    \n",
    "<b>Train 80 of that data and test with 20%</b>"
   ]
  },
  {
   "cell_type": "code",
   "execution_count": 11,
   "metadata": {},
   "outputs": [],
   "source": [
    "train_period = 200 \n",
    "test_period = 30"
   ]
  },
  {
   "cell_type": "code",
   "execution_count": 12,
   "metadata": {},
   "outputs": [
    {
     "name": "stdout",
     "output_type": "stream",
     "text": [
      "WARNING:tensorflow:5 out of the last 5 calls to <function Model.make_test_function.<locals>.test_function at 0x7f9d843747b8> triggered tf.function retracing. Tracing is expensive and the excessive number of tracings could be due to (1) creating @tf.function repeatedly in a loop, (2) passing tensors with different shapes, (3) passing Python objects instead of tensors. For (1), please define your @tf.function outside of the loop. For (2), @tf.function has experimental_relax_shapes=True option that relaxes argument shapes that can avoid unnecessary retracing. For (3), please refer to https://www.tensorflow.org/guide/function#controlling_retracing and https://www.tensorflow.org/api_docs/python/tf/function for  more details.\n",
      "WARNING:tensorflow:6 out of the last 6 calls to <function Model.make_test_function.<locals>.test_function at 0x7f9db821bae8> triggered tf.function retracing. Tracing is expensive and the excessive number of tracings could be due to (1) creating @tf.function repeatedly in a loop, (2) passing tensors with different shapes, (3) passing Python objects instead of tensors. For (1), please define your @tf.function outside of the loop. For (2), @tf.function has experimental_relax_shapes=True option that relaxes argument shapes that can avoid unnecessary retracing. For (3), please refer to https://www.tensorflow.org/guide/function#controlling_retracing and https://www.tensorflow.org/api_docs/python/tf/function for  more details.\n",
      "TIMESTEPS: 1 RMSE: 5.762 (0.595)\n",
      "TIMESTEPS: 3 RMSE: 5.782 (0.907)\n",
      "TIMESTEPS: 5 RMSE: 6.360 (0.705)\n",
      "TIMESTEPS: 7 RMSE: 6.528 (0.688)\n",
      "TIMESTEPS: 10 RMSE: 6.434 (0.639)\n",
      "TIMESTEPS: 15 RMSE: 5.553 (0.540)\n",
      "TIMESTEPS: 20 RMSE: 4.837 (0.713)\n"
     ]
    }
   ],
   "source": [
    "results = make_timesteps_repeated_time_series_k_fold(\n",
    "    df, train_period, test_period, params, None, repeats, timesteps_list\n",
    ")"
   ]
  },
  {
   "cell_type": "code",
   "execution_count": null,
   "metadata": {},
   "outputs": [],
   "source": []
  }
 ],
 "metadata": {
  "kernelspec": {
   "display_name": "Python3 (ccs28-venv)",
   "language": "python",
   "name": "ccs28-venv"
  },
  "language_info": {
   "codemirror_mode": {
    "name": "ipython",
    "version": 3
   },
   "file_extension": ".py",
   "mimetype": "text/x-python",
   "name": "python",
   "nbconvert_exporter": "python",
   "pygments_lexer": "ipython3",
   "version": "3.6.9"
  }
 },
 "nbformat": 4,
 "nbformat_minor": 2
}
