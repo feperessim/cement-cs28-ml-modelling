{
 "cells": [
  {
   "cell_type": "code",
   "execution_count": 1,
   "id": "92cdf2dc",
   "metadata": {
    "execution": {
     "iopub.execute_input": "2024-04-03T00:11:18.938567Z",
     "iopub.status.busy": "2024-04-03T00:11:18.937785Z",
     "iopub.status.idle": "2024-04-03T00:11:19.068621Z",
     "shell.execute_reply": "2024-04-03T00:11:19.067650Z"
    },
    "papermill": {
     "duration": 0.147643,
     "end_time": "2024-04-03T00:11:19.071960",
     "exception": false,
     "start_time": "2024-04-03T00:11:18.924317",
     "status": "completed"
    },
    "tags": []
   },
   "outputs": [
    {
     "data": {
      "application/javascript": [
       "\n",
       "            setTimeout(function() {\n",
       "                var nbb_cell_id = 1;\n",
       "                var nbb_unformatted_code = \"%load_ext nb_black\";\n",
       "                var nbb_formatted_code = \"%load_ext nb_black\";\n",
       "                var nbb_cells = Jupyter.notebook.get_cells();\n",
       "                for (var i = 0; i < nbb_cells.length; ++i) {\n",
       "                    if (nbb_cells[i].input_prompt_number == nbb_cell_id) {\n",
       "                        if (nbb_cells[i].get_text() == nbb_unformatted_code) {\n",
       "                             nbb_cells[i].set_text(nbb_formatted_code);\n",
       "                        }\n",
       "                        break;\n",
       "                    }\n",
       "                }\n",
       "            }, 500);\n",
       "            "
      ],
      "text/plain": [
       "<IPython.core.display.Javascript object>"
      ]
     },
     "metadata": {},
     "output_type": "display_data"
    }
   ],
   "source": [
    "%load_ext nb_black"
   ]
  },
  {
   "cell_type": "code",
   "execution_count": 2,
   "id": "53f9b71e",
   "metadata": {
    "execution": {
     "iopub.execute_input": "2024-04-03T00:11:19.098714Z",
     "iopub.status.busy": "2024-04-03T00:11:19.098154Z",
     "iopub.status.idle": "2024-04-03T00:11:21.743981Z",
     "shell.execute_reply": "2024-04-03T00:11:21.743047Z"
    },
    "papermill": {
     "duration": 2.663274,
     "end_time": "2024-04-03T00:11:21.747688",
     "exception": false,
     "start_time": "2024-04-03T00:11:19.084414",
     "status": "completed"
    },
    "tags": []
   },
   "outputs": [
    {
     "name": "stderr",
     "output_type": "stream",
     "text": [
      "2024-04-02 21:11:20.150424: I tensorflow/core/util/port.cc:110] oneDNN custom operations are on. You may see slightly different numerical results due to floating-point round-off errors from different computation orders. To turn them off, set the environment variable `TF_ENABLE_ONEDNN_OPTS=0`.\n",
      "2024-04-02 21:11:20.152859: I tensorflow/tsl/cuda/cudart_stub.cc:28] Could not find cuda drivers on your machine, GPU will not be used.\n",
      "2024-04-02 21:11:20.203401: I tensorflow/tsl/cuda/cudart_stub.cc:28] Could not find cuda drivers on your machine, GPU will not be used.\n",
      "2024-04-02 21:11:20.204214: I tensorflow/core/platform/cpu_feature_guard.cc:182] This TensorFlow binary is optimized to use available CPU instructions in performance-critical operations.\n",
      "To enable the following instructions: AVX2 AVX512F AVX512_VNNI FMA, in other operations, rebuild TensorFlow with the appropriate compiler flags.\n"
     ]
    },
    {
     "name": "stderr",
     "output_type": "stream",
     "text": [
      "2024-04-02 21:11:21.012895: W tensorflow/compiler/tf2tensorrt/utils/py_utils.cc:38] TF-TRT Warning: Could not find TensorRT\n"
     ]
    },
    {
     "data": {
      "application/javascript": [
       "\n",
       "            setTimeout(function() {\n",
       "                var nbb_cell_id = 2;\n",
       "                var nbb_unformatted_code = \"# Database Reading and Manipulation\\nimport pandas as pd\\n\\n# Linear Algebra\\nimport numpy as np\\n\\n# Time\\nimport time\\n\\n# Random and os for reproducibility\\nimport random\\nimport os\\n\\n# Model Selection\\nfrom sklearn.model_selection import train_test_split\\nfrom sklearn.model_selection import TimeSeriesSplit\\nfrom sklearn.model_selection import RepeatedKFold\\nfrom sklearn.model_selection import cross_validate\\n\\n# Modeling\\nimport tensorflow as tf\\n\\n# Processing\\nfrom sklearn.preprocessing import StandardScaler\\n\\n# Pipeline\\nfrom sklearn.pipeline import Pipeline\\n\\n# Data imputation\\nfrom sklearn.impute import SimpleImputer\\n\\n# Making keras compatible with scikit learn api\\n# https://scikit-learn.org/stable/developers/develop.html\\nfrom sklearn.base import RegressorMixin\\n\\n# Custom modules\\n## Model selection\\nfrom src.cross_validation.blocking_time_series_split import BlockingTimeSeriesSplit\\n\\n## Function to print scores\\nfrom src.utils.print_scores import print_scores\\n\\n## Function to calculate score regression metrics\\nfrom src.utils.score_regression_metrics import score_regression_metrics\\n\\n## Function to fill the results metric dict\\nfrom src.utils.fill_results_dict import fill_results_dict\";\n",
       "                var nbb_formatted_code = \"# Database Reading and Manipulation\\nimport pandas as pd\\n\\n# Linear Algebra\\nimport numpy as np\\n\\n# Time\\nimport time\\n\\n# Random and os for reproducibility\\nimport random\\nimport os\\n\\n# Model Selection\\nfrom sklearn.model_selection import train_test_split\\nfrom sklearn.model_selection import TimeSeriesSplit\\nfrom sklearn.model_selection import RepeatedKFold\\nfrom sklearn.model_selection import cross_validate\\n\\n# Modeling\\nimport tensorflow as tf\\n\\n# Processing\\nfrom sklearn.preprocessing import StandardScaler\\n\\n# Pipeline\\nfrom sklearn.pipeline import Pipeline\\n\\n# Data imputation\\nfrom sklearn.impute import SimpleImputer\\n\\n# Making keras compatible with scikit learn api\\n# https://scikit-learn.org/stable/developers/develop.html\\nfrom sklearn.base import RegressorMixin\\n\\n# Custom modules\\n## Model selection\\nfrom src.cross_validation.blocking_time_series_split import BlockingTimeSeriesSplit\\n\\n## Function to print scores\\nfrom src.utils.print_scores import print_scores\\n\\n## Function to calculate score regression metrics\\nfrom src.utils.score_regression_metrics import score_regression_metrics\\n\\n## Function to fill the results metric dict\\nfrom src.utils.fill_results_dict import fill_results_dict\";\n",
       "                var nbb_cells = Jupyter.notebook.get_cells();\n",
       "                for (var i = 0; i < nbb_cells.length; ++i) {\n",
       "                    if (nbb_cells[i].input_prompt_number == nbb_cell_id) {\n",
       "                        if (nbb_cells[i].get_text() == nbb_unformatted_code) {\n",
       "                             nbb_cells[i].set_text(nbb_formatted_code);\n",
       "                        }\n",
       "                        break;\n",
       "                    }\n",
       "                }\n",
       "            }, 500);\n",
       "            "
      ],
      "text/plain": [
       "<IPython.core.display.Javascript object>"
      ]
     },
     "metadata": {},
     "output_type": "display_data"
    }
   ],
   "source": [
    "# Database Reading and Manipulation\n",
    "import pandas as pd\n",
    "\n",
    "# Linear Algebra\n",
    "import numpy as np\n",
    "\n",
    "# Time\n",
    "import time\n",
    "\n",
    "# Random and os for reproducibility\n",
    "import random\n",
    "import os\n",
    "\n",
    "# Model Selection\n",
    "from sklearn.model_selection import train_test_split\n",
    "from sklearn.model_selection import TimeSeriesSplit\n",
    "from sklearn.model_selection import RepeatedKFold\n",
    "from sklearn.model_selection import cross_validate\n",
    "\n",
    "# Modeling\n",
    "import tensorflow as tf\n",
    "\n",
    "# Processing\n",
    "from sklearn.preprocessing import StandardScaler\n",
    "\n",
    "# Pipeline\n",
    "from sklearn.pipeline import Pipeline\n",
    "\n",
    "# Data imputation\n",
    "from sklearn.impute import SimpleImputer\n",
    "\n",
    "# Making keras compatible with scikit learn api\n",
    "# https://scikit-learn.org/stable/developers/develop.html\n",
    "from sklearn.base import RegressorMixin\n",
    "\n",
    "# Custom modules\n",
    "## Model selection\n",
    "from src.cross_validation.blocking_time_series_split import BlockingTimeSeriesSplit\n",
    "\n",
    "## Function to print scores\n",
    "from src.utils.print_scores import print_scores\n",
    "\n",
    "## Function to calculate score regression metrics\n",
    "from src.utils.score_regression_metrics import score_regression_metrics\n",
    "\n",
    "## Function to fill the results metric dict\n",
    "from src.utils.fill_results_dict import fill_results_dict"
   ]
  },
  {
   "cell_type": "markdown",
   "id": "13c10009",
   "metadata": {
    "papermill": {
     "duration": 0.013098,
     "end_time": "2024-04-03T00:11:21.774967",
     "exception": false,
     "start_time": "2024-04-03T00:11:21.761869",
     "status": "completed"
    },
    "tags": []
   },
   "source": [
    "# Functions and definitions"
   ]
  },
  {
   "cell_type": "code",
   "execution_count": 3,
   "id": "acc68da9",
   "metadata": {
    "execution": {
     "iopub.execute_input": "2024-04-03T00:11:21.801207Z",
     "iopub.status.busy": "2024-04-03T00:11:21.800555Z",
     "iopub.status.idle": "2024-04-03T00:11:21.819309Z",
     "shell.execute_reply": "2024-04-03T00:11:21.818429Z"
    },
    "papermill": {
     "duration": 0.033752,
     "end_time": "2024-04-03T00:11:21.821857",
     "exception": false,
     "start_time": "2024-04-03T00:11:21.788105",
     "status": "completed"
    },
    "tags": []
   },
   "outputs": [
    {
     "data": {
      "application/javascript": [
       "\n",
       "            setTimeout(function() {\n",
       "                var nbb_cell_id = 3;\n",
       "                var nbb_unformatted_code = \"class MLP(RegressorMixin):\\n    def __init__(self):\\n        self.model = self.get_model()\\n        self.batch_size = 16\\n        self.epochs = 300\\n        self.verbose = 0\\n\\n    def fit(self, X=None, y=None):\\n        self.model.fit(\\n            X, y, batch_size=self.batch_size, epochs=self.epochs, verbose=self.verbose\\n        )\\n\\n    def predict(self, X=None):\\n        return self.model.predict(X, verbose=self.verbose)\\n\\n    def get_model(self):\\n        model = tf.keras.Sequential()\\n        model.add(tf.keras.layers.Dense(units=16, activation=\\\"relu\\\")),\\n        model.add(tf.keras.layers.Dropout(rate=0.10))\\n        model.add(tf.keras.layers.Dense(units=1))\\n        model.compile(\\n            # optimizer=tf.keras.optimizers.Adam(learning_rate=0.001),\\n            optimizer=tf.keras.optimizers.legacy.Adam(learning_rate=0.001),\\n            loss=\\\"mse\\\",\\n            metrics=[tf.keras.metrics.RootMeanSquaredError(name=\\\"RMSE\\\")],\\n        )\\n        return model\";\n",
       "                var nbb_formatted_code = \"class MLP(RegressorMixin):\\n    def __init__(self):\\n        self.model = self.get_model()\\n        self.batch_size = 16\\n        self.epochs = 300\\n        self.verbose = 0\\n\\n    def fit(self, X=None, y=None):\\n        self.model.fit(\\n            X, y, batch_size=self.batch_size, epochs=self.epochs, verbose=self.verbose\\n        )\\n\\n    def predict(self, X=None):\\n        return self.model.predict(X, verbose=self.verbose)\\n\\n    def get_model(self):\\n        model = tf.keras.Sequential()\\n        model.add(tf.keras.layers.Dense(units=16, activation=\\\"relu\\\")),\\n        model.add(tf.keras.layers.Dropout(rate=0.10))\\n        model.add(tf.keras.layers.Dense(units=1))\\n        model.compile(\\n            # optimizer=tf.keras.optimizers.Adam(learning_rate=0.001),\\n            optimizer=tf.keras.optimizers.legacy.Adam(learning_rate=0.001),\\n            loss=\\\"mse\\\",\\n            metrics=[tf.keras.metrics.RootMeanSquaredError(name=\\\"RMSE\\\")],\\n        )\\n        return model\";\n",
       "                var nbb_cells = Jupyter.notebook.get_cells();\n",
       "                for (var i = 0; i < nbb_cells.length; ++i) {\n",
       "                    if (nbb_cells[i].input_prompt_number == nbb_cell_id) {\n",
       "                        if (nbb_cells[i].get_text() == nbb_unformatted_code) {\n",
       "                             nbb_cells[i].set_text(nbb_formatted_code);\n",
       "                        }\n",
       "                        break;\n",
       "                    }\n",
       "                }\n",
       "            }, 500);\n",
       "            "
      ],
      "text/plain": [
       "<IPython.core.display.Javascript object>"
      ]
     },
     "metadata": {},
     "output_type": "display_data"
    }
   ],
   "source": [
    "class MLP(RegressorMixin):\n",
    "    def __init__(self):\n",
    "        self.model = self.get_model()\n",
    "        self.batch_size = 16\n",
    "        self.epochs = 300\n",
    "        self.verbose = 0\n",
    "\n",
    "    def fit(self, X=None, y=None):\n",
    "        self.model.fit(\n",
    "            X, y, batch_size=self.batch_size, epochs=self.epochs, verbose=self.verbose\n",
    "        )\n",
    "\n",
    "    def predict(self, X=None):\n",
    "        return self.model.predict(X, verbose=self.verbose)\n",
    "\n",
    "    def get_model(self):\n",
    "        model = tf.keras.Sequential()\n",
    "        model.add(tf.keras.layers.Dense(units=16, activation=\"relu\")),\n",
    "        model.add(tf.keras.layers.Dropout(rate=0.10))\n",
    "        model.add(tf.keras.layers.Dense(units=1))\n",
    "        model.compile(\n",
    "            # optimizer=tf.keras.optimizers.Adam(learning_rate=0.001),\n",
    "            optimizer=tf.keras.optimizers.legacy.Adam(learning_rate=0.001),\n",
    "            loss=\"mse\",\n",
    "            metrics=[tf.keras.metrics.RootMeanSquaredError(name=\"RMSE\")],\n",
    "        )\n",
    "        return model"
   ]
  },
  {
   "cell_type": "markdown",
   "id": "a8179694",
   "metadata": {
    "papermill": {
     "duration": 0.009918,
     "end_time": "2024-04-03T00:11:21.841886",
     "exception": false,
     "start_time": "2024-04-03T00:11:21.831968",
     "status": "completed"
    },
    "tags": []
   },
   "source": [
    "# Settings for Reproducibility"
   ]
  },
  {
   "cell_type": "code",
   "execution_count": 4,
   "id": "072e5fcc",
   "metadata": {
    "execution": {
     "iopub.execute_input": "2024-04-03T00:11:21.908631Z",
     "iopub.status.busy": "2024-04-03T00:11:21.908275Z",
     "iopub.status.idle": "2024-04-03T00:11:22.039242Z",
     "shell.execute_reply": "2024-04-03T00:11:22.037810Z"
    },
    "papermill": {
     "duration": 0.167664,
     "end_time": "2024-04-03T00:11:22.042873",
     "exception": false,
     "start_time": "2024-04-03T00:11:21.875209",
     "status": "completed"
    },
    "tags": []
   },
   "outputs": [
    {
     "data": {
      "application/javascript": [
       "\n",
       "            setTimeout(function() {\n",
       "                var nbb_cell_id = 4;\n",
       "                var nbb_unformatted_code = \"def set_seeds():\\n    os.environ[\\\"CUDA_VISIBLE_DEVICES\\\"] = \\\"\\\"\\n    os.environ[\\\"PYTHONHASHSEED\\\"] = str(SEED)\\n    tf.random.set_seed(SEED)\\n    np.random.seed(SEED)\\n    random.seed(SEED)\\n\\n\\n# https://stackoverflow.com/questions/36288235/how-to-get-stable-results-with-tensorflow-setting-random-seed\";\n",
       "                var nbb_formatted_code = \"def set_seeds():\\n    os.environ[\\\"CUDA_VISIBLE_DEVICES\\\"] = \\\"\\\"\\n    os.environ[\\\"PYTHONHASHSEED\\\"] = str(SEED)\\n    tf.random.set_seed(SEED)\\n    np.random.seed(SEED)\\n    random.seed(SEED)\\n\\n\\n# https://stackoverflow.com/questions/36288235/how-to-get-stable-results-with-tensorflow-setting-random-seed\";\n",
       "                var nbb_cells = Jupyter.notebook.get_cells();\n",
       "                for (var i = 0; i < nbb_cells.length; ++i) {\n",
       "                    if (nbb_cells[i].input_prompt_number == nbb_cell_id) {\n",
       "                        if (nbb_cells[i].get_text() == nbb_unformatted_code) {\n",
       "                             nbb_cells[i].set_text(nbb_formatted_code);\n",
       "                        }\n",
       "                        break;\n",
       "                    }\n",
       "                }\n",
       "            }, 500);\n",
       "            "
      ],
      "text/plain": [
       "<IPython.core.display.Javascript object>"
      ]
     },
     "metadata": {},
     "output_type": "display_data"
    }
   ],
   "source": [
    "def set_seeds():\n",
    "    os.environ[\"CUDA_VISIBLE_DEVICES\"] = \"\"\n",
    "    os.environ[\"PYTHONHASHSEED\"] = str(SEED)\n",
    "    tf.random.set_seed(SEED)\n",
    "    np.random.seed(SEED)\n",
    "    random.seed(SEED)\n",
    "\n",
    "\n",
    "# https://stackoverflow.com/questions/36288235/how-to-get-stable-results-with-tensorflow-setting-random-seed"
   ]
  },
  {
   "cell_type": "code",
   "execution_count": 5,
   "id": "048d6121",
   "metadata": {
    "execution": {
     "iopub.execute_input": "2024-04-03T00:11:22.074979Z",
     "iopub.status.busy": "2024-04-03T00:11:22.073789Z",
     "iopub.status.idle": "2024-04-03T00:11:22.211452Z",
     "shell.execute_reply": "2024-04-03T00:11:22.210107Z"
    },
    "papermill": {
     "duration": 0.157961,
     "end_time": "2024-04-03T00:11:22.215003",
     "exception": false,
     "start_time": "2024-04-03T00:11:22.057042",
     "status": "completed"
    },
    "tags": []
   },
   "outputs": [
    {
     "data": {
      "application/javascript": [
       "\n",
       "            setTimeout(function() {\n",
       "                var nbb_cell_id = 5;\n",
       "                var nbb_unformatted_code = \"index_to_save = 8\";\n",
       "                var nbb_formatted_code = \"index_to_save = 8\";\n",
       "                var nbb_cells = Jupyter.notebook.get_cells();\n",
       "                for (var i = 0; i < nbb_cells.length; ++i) {\n",
       "                    if (nbb_cells[i].input_prompt_number == nbb_cell_id) {\n",
       "                        if (nbb_cells[i].get_text() == nbb_unformatted_code) {\n",
       "                             nbb_cells[i].set_text(nbb_formatted_code);\n",
       "                        }\n",
       "                        break;\n",
       "                    }\n",
       "                }\n",
       "            }, 500);\n",
       "            "
      ],
      "text/plain": [
       "<IPython.core.display.Javascript object>"
      ]
     },
     "metadata": {},
     "output_type": "display_data"
    }
   ],
   "source": [
    "index_to_save = 8"
   ]
  },
  {
   "cell_type": "code",
   "execution_count": 6,
   "id": "a98eae8f",
   "metadata": {
    "execution": {
     "iopub.execute_input": "2024-04-03T00:11:22.255801Z",
     "iopub.status.busy": "2024-04-03T00:11:22.254639Z",
     "iopub.status.idle": "2024-04-03T00:11:22.395180Z",
     "shell.execute_reply": "2024-04-03T00:11:22.393941Z"
    },
    "papermill": {
     "duration": 0.168569,
     "end_time": "2024-04-03T00:11:22.398621",
     "exception": false,
     "start_time": "2024-04-03T00:11:22.230052",
     "status": "completed"
    },
    "tags": []
   },
   "outputs": [
    {
     "data": {
      "application/javascript": [
       "\n",
       "            setTimeout(function() {\n",
       "                var nbb_cell_id = 6;\n",
       "                var nbb_unformatted_code = \"SEED = 47\\nMETRICS = (\\n    \\\"neg_root_mean_squared_error\\\",\\n    \\\"neg_mean_absolute_error\\\",\\n    \\\"neg_mean_absolute_percentage_error\\\",\\n    \\\"r2\\\",\\n)\\nMETRICS_DICT = {\\n    \\\"neg_root_mean_squared_error\\\": \\\"RMSE\\\",\\n    \\\"neg_mean_absolute_error\\\": \\\"MAE\\\",\\n    \\\"neg_mean_absolute_percentage_error\\\": \\\"MAPE\\\",\\n    \\\"r2\\\": \\\"R2\\\",\\n}\";\n",
       "                var nbb_formatted_code = \"SEED = 47\\nMETRICS = (\\n    \\\"neg_root_mean_squared_error\\\",\\n    \\\"neg_mean_absolute_error\\\",\\n    \\\"neg_mean_absolute_percentage_error\\\",\\n    \\\"r2\\\",\\n)\\nMETRICS_DICT = {\\n    \\\"neg_root_mean_squared_error\\\": \\\"RMSE\\\",\\n    \\\"neg_mean_absolute_error\\\": \\\"MAE\\\",\\n    \\\"neg_mean_absolute_percentage_error\\\": \\\"MAPE\\\",\\n    \\\"r2\\\": \\\"R2\\\",\\n}\";\n",
       "                var nbb_cells = Jupyter.notebook.get_cells();\n",
       "                for (var i = 0; i < nbb_cells.length; ++i) {\n",
       "                    if (nbb_cells[i].input_prompt_number == nbb_cell_id) {\n",
       "                        if (nbb_cells[i].get_text() == nbb_unformatted_code) {\n",
       "                             nbb_cells[i].set_text(nbb_formatted_code);\n",
       "                        }\n",
       "                        break;\n",
       "                    }\n",
       "                }\n",
       "            }, 500);\n",
       "            "
      ],
      "text/plain": [
       "<IPython.core.display.Javascript object>"
      ]
     },
     "metadata": {},
     "output_type": "display_data"
    }
   ],
   "source": [
    "SEED = 47\n",
    "METRICS = (\n",
    "    \"neg_root_mean_squared_error\",\n",
    "    \"neg_mean_absolute_error\",\n",
    "    \"neg_mean_absolute_percentage_error\",\n",
    "    \"r2\",\n",
    ")\n",
    "METRICS_DICT = {\n",
    "    \"neg_root_mean_squared_error\": \"RMSE\",\n",
    "    \"neg_mean_absolute_error\": \"MAE\",\n",
    "    \"neg_mean_absolute_percentage_error\": \"MAPE\",\n",
    "    \"r2\": \"R2\",\n",
    "}"
   ]
  },
  {
   "cell_type": "markdown",
   "id": "48a6b30f",
   "metadata": {
    "papermill": {
     "duration": 0.017226,
     "end_time": "2024-04-03T00:11:22.430727",
     "exception": false,
     "start_time": "2024-04-03T00:11:22.413501",
     "status": "completed"
    },
    "tags": []
   },
   "source": [
    "## Defining a dataframe structure to save the results"
   ]
  },
  {
   "cell_type": "code",
   "execution_count": 7,
   "id": "9ec6191b",
   "metadata": {
    "execution": {
     "iopub.execute_input": "2024-04-03T00:11:22.501285Z",
     "iopub.status.busy": "2024-04-03T00:11:22.499879Z",
     "iopub.status.idle": "2024-04-03T00:11:22.601281Z",
     "shell.execute_reply": "2024-04-03T00:11:22.599835Z"
    },
    "papermill": {
     "duration": 0.139409,
     "end_time": "2024-04-03T00:11:22.604761",
     "exception": false,
     "start_time": "2024-04-03T00:11:22.465352",
     "status": "completed"
    },
    "tags": []
   },
   "outputs": [
    {
     "data": {
      "application/javascript": [
       "\n",
       "            setTimeout(function() {\n",
       "                var nbb_cell_id = 7;\n",
       "                var nbb_unformatted_code = \"results_to_save = []\\n\\nresults_dict = {\\n    \\\"Category\\\": \\\"Local Model\\\",\\n    \\\"Company\\\": \\\"203\\\",\\n    \\\"Plant\\\": \\\"AV\\\",\\n    \\\"Features\\\": \\\"Chemical + CS1 + CS3 + CS7\\\",\\n    \\\"Data Shape\\\": None,\\n    \\\"Timesteps\\\": None,\\n    \\\"Model\\\": \\\"MLP\\\",\\n    \\\"Model Params\\\": None,\\n    \\\"Scaler\\\": \\\"Standard Scaler\\\",\\n    \\\"Scaler Params\\\": None,\\n    \\\"Imputer\\\": \\\"Median\\\",\\n    \\\"Imputer Params\\\": None,\\n    \\\"Cross Validation\\\": None,\\n    \\\"Cross Validation Params\\\": np.nan,\\n    \\\"RMSE Train\\\": np.nan,\\n    \\\"MAE Train\\\": np.nan,\\n    \\\"MAPE Train\\\": np.nan,\\n    \\\"R2 Train\\\": np.nan,\\n    \\\"RMSE Test\\\": np.nan,\\n    \\\"MAE Test\\\": np.nan,\\n    \\\"MAPE Test\\\": np.nan,\\n    \\\"R2 Test\\\": np.nan,\\n}\";\n",
       "                var nbb_formatted_code = \"results_to_save = []\\n\\nresults_dict = {\\n    \\\"Category\\\": \\\"Local Model\\\",\\n    \\\"Company\\\": \\\"203\\\",\\n    \\\"Plant\\\": \\\"AV\\\",\\n    \\\"Features\\\": \\\"Chemical + CS1 + CS3 + CS7\\\",\\n    \\\"Data Shape\\\": None,\\n    \\\"Timesteps\\\": None,\\n    \\\"Model\\\": \\\"MLP\\\",\\n    \\\"Model Params\\\": None,\\n    \\\"Scaler\\\": \\\"Standard Scaler\\\",\\n    \\\"Scaler Params\\\": None,\\n    \\\"Imputer\\\": \\\"Median\\\",\\n    \\\"Imputer Params\\\": None,\\n    \\\"Cross Validation\\\": None,\\n    \\\"Cross Validation Params\\\": np.nan,\\n    \\\"RMSE Train\\\": np.nan,\\n    \\\"MAE Train\\\": np.nan,\\n    \\\"MAPE Train\\\": np.nan,\\n    \\\"R2 Train\\\": np.nan,\\n    \\\"RMSE Test\\\": np.nan,\\n    \\\"MAE Test\\\": np.nan,\\n    \\\"MAPE Test\\\": np.nan,\\n    \\\"R2 Test\\\": np.nan,\\n}\";\n",
       "                var nbb_cells = Jupyter.notebook.get_cells();\n",
       "                for (var i = 0; i < nbb_cells.length; ++i) {\n",
       "                    if (nbb_cells[i].input_prompt_number == nbb_cell_id) {\n",
       "                        if (nbb_cells[i].get_text() == nbb_unformatted_code) {\n",
       "                             nbb_cells[i].set_text(nbb_formatted_code);\n",
       "                        }\n",
       "                        break;\n",
       "                    }\n",
       "                }\n",
       "            }, 500);\n",
       "            "
      ],
      "text/plain": [
       "<IPython.core.display.Javascript object>"
      ]
     },
     "metadata": {},
     "output_type": "display_data"
    }
   ],
   "source": [
    "results_to_save = []\n",
    "\n",
    "results_dict = {\n",
    "    \"Category\": \"Local Model\",\n",
    "    \"Company\": \"203\",\n",
    "    \"Plant\": \"AV\",\n",
    "    \"Features\": \"Chemical + CS1 + CS3 + CS7\",\n",
    "    \"Data Shape\": None,\n",
    "    \"Timesteps\": None,\n",
    "    \"Model\": \"MLP\",\n",
    "    \"Model Params\": None,\n",
    "    \"Scaler\": \"Standard Scaler\",\n",
    "    \"Scaler Params\": None,\n",
    "    \"Imputer\": \"Median\",\n",
    "    \"Imputer Params\": None,\n",
    "    \"Cross Validation\": None,\n",
    "    \"Cross Validation Params\": np.nan,\n",
    "    \"RMSE Train\": np.nan,\n",
    "    \"MAE Train\": np.nan,\n",
    "    \"MAPE Train\": np.nan,\n",
    "    \"R2 Train\": np.nan,\n",
    "    \"RMSE Test\": np.nan,\n",
    "    \"MAE Test\": np.nan,\n",
    "    \"MAPE Test\": np.nan,\n",
    "    \"R2 Test\": np.nan,\n",
    "}"
   ]
  },
  {
   "cell_type": "markdown",
   "id": "ea9dfd3b",
   "metadata": {
    "papermill": {
     "duration": 0.022756,
     "end_time": "2024-04-03T00:11:22.643384",
     "exception": false,
     "start_time": "2024-04-03T00:11:22.620628",
     "status": "completed"
    },
    "tags": []
   },
   "source": [
    "# Reading the dataset"
   ]
  },
  {
   "cell_type": "code",
   "execution_count": 8,
   "id": "7c63718f",
   "metadata": {
    "execution": {
     "iopub.execute_input": "2024-04-03T00:11:22.712960Z",
     "iopub.status.busy": "2024-04-03T00:11:22.712140Z",
     "iopub.status.idle": "2024-04-03T00:11:22.838638Z",
     "shell.execute_reply": "2024-04-03T00:11:22.837319Z"
    },
    "papermill": {
     "duration": 0.165326,
     "end_time": "2024-04-03T00:11:22.842859",
     "exception": false,
     "start_time": "2024-04-03T00:11:22.677533",
     "status": "completed"
    },
    "tags": []
   },
   "outputs": [
    {
     "data": {
      "application/javascript": [
       "\n",
       "            setTimeout(function() {\n",
       "                var nbb_cell_id = 8;\n",
       "                var nbb_unformatted_code = \"df = pd.read_csv(\\\"../../../../../../data/processed/203/av.csv\\\")\";\n",
       "                var nbb_formatted_code = \"df = pd.read_csv(\\\"../../../../../../data/processed/203/av.csv\\\")\";\n",
       "                var nbb_cells = Jupyter.notebook.get_cells();\n",
       "                for (var i = 0; i < nbb_cells.length; ++i) {\n",
       "                    if (nbb_cells[i].input_prompt_number == nbb_cell_id) {\n",
       "                        if (nbb_cells[i].get_text() == nbb_unformatted_code) {\n",
       "                             nbb_cells[i].set_text(nbb_formatted_code);\n",
       "                        }\n",
       "                        break;\n",
       "                    }\n",
       "                }\n",
       "            }, 500);\n",
       "            "
      ],
      "text/plain": [
       "<IPython.core.display.Javascript object>"
      ]
     },
     "metadata": {},
     "output_type": "display_data"
    }
   ],
   "source": [
    "df = pd.read_csv(\"../../../../../../data/processed/203/av.csv\")"
   ]
  },
  {
   "cell_type": "markdown",
   "id": "208573ea",
   "metadata": {
    "papermill": {
     "duration": 0.014877,
     "end_time": "2024-04-03T00:11:22.874129",
     "exception": false,
     "start_time": "2024-04-03T00:11:22.859252",
     "status": "completed"
    },
    "tags": []
   },
   "source": [
    "## Defining Features\n",
    "\n",
    "In this set of experiments we use all available features"
   ]
  },
  {
   "cell_type": "code",
   "execution_count": 9,
   "id": "b30d138b",
   "metadata": {
    "execution": {
     "iopub.execute_input": "2024-04-03T00:11:22.935766Z",
     "iopub.status.busy": "2024-04-03T00:11:22.934989Z",
     "iopub.status.idle": "2024-04-03T00:11:23.018559Z",
     "shell.execute_reply": "2024-04-03T00:11:23.017209Z"
    },
    "papermill": {
     "duration": 0.12171,
     "end_time": "2024-04-03T00:11:23.022325",
     "exception": false,
     "start_time": "2024-04-03T00:11:22.900615",
     "status": "completed"
    },
    "tags": []
   },
   "outputs": [
    {
     "data": {
      "application/javascript": [
       "\n",
       "            setTimeout(function() {\n",
       "                var nbb_cell_id = 9;\n",
       "                var nbb_unformatted_code = \"df_copy = df.copy().drop(\\n    [\\n        \\\"Cement_Type\\\",\\n        \\\"Blaine\\\",\\n        \\\"#200\\\",\\n        \\\"#325\\\",\\n        \\\"Final setting time\\\",\\n        \\\"Initial setting time\\\",\\n    ],\\n    axis=1,\\n)\";\n",
       "                var nbb_formatted_code = \"df_copy = df.copy().drop(\\n    [\\n        \\\"Cement_Type\\\",\\n        \\\"Blaine\\\",\\n        \\\"#200\\\",\\n        \\\"#325\\\",\\n        \\\"Final setting time\\\",\\n        \\\"Initial setting time\\\",\\n    ],\\n    axis=1,\\n)\";\n",
       "                var nbb_cells = Jupyter.notebook.get_cells();\n",
       "                for (var i = 0; i < nbb_cells.length; ++i) {\n",
       "                    if (nbb_cells[i].input_prompt_number == nbb_cell_id) {\n",
       "                        if (nbb_cells[i].get_text() == nbb_unformatted_code) {\n",
       "                             nbb_cells[i].set_text(nbb_formatted_code);\n",
       "                        }\n",
       "                        break;\n",
       "                    }\n",
       "                }\n",
       "            }, 500);\n",
       "            "
      ],
      "text/plain": [
       "<IPython.core.display.Javascript object>"
      ]
     },
     "metadata": {},
     "output_type": "display_data"
    }
   ],
   "source": [
    "df_copy = df.copy().drop(\n",
    "    [\n",
    "        \"Cement_Type\",\n",
    "        \"Blaine\",\n",
    "        \"#200\",\n",
    "        \"#325\",\n",
    "        \"Final setting time\",\n",
    "        \"Initial setting time\",\n",
    "    ],\n",
    "    axis=1,\n",
    ")"
   ]
  },
  {
   "cell_type": "markdown",
   "id": "9bfa062e",
   "metadata": {
    "papermill": {
     "duration": 0.016909,
     "end_time": "2024-04-03T00:11:23.056178",
     "exception": false,
     "start_time": "2024-04-03T00:11:23.039269",
     "status": "completed"
    },
    "tags": []
   },
   "source": [
    "<h2>1. Dataset: df_copy</h2> <br>In this dataset all features are used."
   ]
  },
  {
   "cell_type": "code",
   "execution_count": 10,
   "id": "0690d106",
   "metadata": {
    "execution": {
     "iopub.execute_input": "2024-04-03T00:11:23.116560Z",
     "iopub.status.busy": "2024-04-03T00:11:23.115340Z",
     "iopub.status.idle": "2024-04-03T00:11:23.228401Z",
     "shell.execute_reply": "2024-04-03T00:11:23.227032Z"
    },
    "papermill": {
     "duration": 0.154951,
     "end_time": "2024-04-03T00:11:23.232097",
     "exception": false,
     "start_time": "2024-04-03T00:11:23.077146",
     "status": "completed"
    },
    "tags": []
   },
   "outputs": [
    {
     "data": {
      "application/javascript": [
       "\n",
       "            setTimeout(function() {\n",
       "                var nbb_cell_id = 10;\n",
       "                var nbb_unformatted_code = \"y = df_copy.pop(\\\"CS28\\\").values\\nx = df_copy.drop([\\\"Date\\\"], axis=1)\\ndates = df[\\\"Date\\\"].copy()\";\n",
       "                var nbb_formatted_code = \"y = df_copy.pop(\\\"CS28\\\").values\\nx = df_copy.drop([\\\"Date\\\"], axis=1)\\ndates = df[\\\"Date\\\"].copy()\";\n",
       "                var nbb_cells = Jupyter.notebook.get_cells();\n",
       "                for (var i = 0; i < nbb_cells.length; ++i) {\n",
       "                    if (nbb_cells[i].input_prompt_number == nbb_cell_id) {\n",
       "                        if (nbb_cells[i].get_text() == nbb_unformatted_code) {\n",
       "                             nbb_cells[i].set_text(nbb_formatted_code);\n",
       "                        }\n",
       "                        break;\n",
       "                    }\n",
       "                }\n",
       "            }, 500);\n",
       "            "
      ],
      "text/plain": [
       "<IPython.core.display.Javascript object>"
      ]
     },
     "metadata": {},
     "output_type": "display_data"
    }
   ],
   "source": [
    "y = df_copy.pop(\"CS28\").values\n",
    "x = df_copy.drop([\"Date\"], axis=1)\n",
    "dates = df[\"Date\"].copy()"
   ]
  },
  {
   "cell_type": "markdown",
   "id": "47b8c841",
   "metadata": {
    "papermill": {
     "duration": 0.018832,
     "end_time": "2024-04-03T00:11:23.268996",
     "exception": false,
     "start_time": "2024-04-03T00:11:23.250164",
     "status": "completed"
    },
    "tags": []
   },
   "source": [
    "# 1. Multi Layer Perceptron"
   ]
  },
  {
   "cell_type": "markdown",
   "id": "b96fc292",
   "metadata": {
    "papermill": {
     "duration": 0.036748,
     "end_time": "2024-04-03T00:11:23.336797",
     "exception": false,
     "start_time": "2024-04-03T00:11:23.300049",
     "status": "completed"
    },
    "tags": []
   },
   "source": [
    "## 1.1 Repeated KFold Cross validation\n",
    "\n",
    "<b>Dataset shape:</b> (594, 38)<br>\n",
    "<b>Repeats:</b>10<br>\n",
    "<b>Splits:</b>10<br>\n",
    "    1. 10 folds of 59 samples each\n",
    "    2. 90% train (535 samples each fold)\n",
    "    3. 10% test (59 samples each fold)\n",
    "<b>Total:</b> 100 models<br>"
   ]
  },
  {
   "cell_type": "code",
   "execution_count": 11,
   "id": "50a9f6bb",
   "metadata": {
    "execution": {
     "iopub.execute_input": "2024-04-03T00:11:23.407107Z",
     "iopub.status.busy": "2024-04-03T00:11:23.406484Z",
     "iopub.status.idle": "2024-04-03T00:21:10.053372Z",
     "shell.execute_reply": "2024-04-03T00:21:10.052196Z"
    },
    "papermill": {
     "duration": 586.697449,
     "end_time": "2024-04-03T00:21:10.064821",
     "exception": false,
     "start_time": "2024-04-03T00:11:23.367372",
     "status": "completed"
    },
    "scrolled": false,
    "tags": []
   },
   "outputs": [
    {
     "name": "stderr",
     "output_type": "stream",
     "text": [
      "2024-04-02 21:11:23.544623: E tensorflow/compiler/xla/stream_executor/cuda/cuda_driver.cc:268] failed call to cuInit: CUDA_ERROR_NO_DEVICE: no CUDA-capable device is detected\n",
      "2024-04-02 21:11:23.544679: I tensorflow/compiler/xla/stream_executor/cuda/cuda_diagnostics.cc:168] retrieving CUDA diagnostic information for host: inspirada\n",
      "2024-04-02 21:11:23.544689: I tensorflow/compiler/xla/stream_executor/cuda/cuda_diagnostics.cc:175] hostname: inspirada\n",
      "2024-04-02 21:11:23.544909: I tensorflow/compiler/xla/stream_executor/cuda/cuda_diagnostics.cc:199] libcuda reported version is: 525.147.5\n",
      "2024-04-02 21:11:23.544961: I tensorflow/compiler/xla/stream_executor/cuda/cuda_diagnostics.cc:203] kernel reported version is: 525.147.5\n",
      "2024-04-02 21:11:23.544974: I tensorflow/compiler/xla/stream_executor/cuda/cuda_diagnostics.cc:309] kernel version seems to match DSO: 525.147.5\n"
     ]
    },
    {
     "name": "stdout",
     "output_type": "stream",
     "text": [
      "Repeated Cross Validation:\n",
      "Repeats: 3\n",
      "n_splits: 5\n",
      "\n",
      "******\n",
      "[TRAIN]\n",
      "******\n",
      "RMSE: -1.912 (0.026)\n",
      "MAE: -1.505 (0.019)\n",
      "MAPE: -0.030 (0.000)\n",
      "R2: 0.778 (0.008)\n",
      "\n",
      "======================\n",
      "\n",
      "******\n",
      "[TEST]\n",
      "******\n",
      "RMSE: -1.975 (0.101)\n",
      "MAE: -1.549 (0.077)\n",
      "MAPE: -0.031 (0.001)\n",
      "R2: 0.760 (0.031)\n",
      "\n",
      "======================\n",
      "\n",
      "Minutes Elapsed:  9.776389181613922\n"
     ]
    },
    {
     "data": {
      "application/javascript": [
       "\n",
       "            setTimeout(function() {\n",
       "                var nbb_cell_id = 11;\n",
       "                var nbb_unformatted_code = \"set_seeds()\\nstart = time.time()\\n\\nrepeats = 3\\nn_splits = 5\\npipeline = Pipeline(\\n    [\\n        (\\\"imputer\\\", SimpleImputer(strategy=\\\"median\\\")),\\n        (\\\"transformer\\\", StandardScaler()),\\n        (\\\"estimator\\\", MLP()),\\n    ]\\n)\\ncv = RepeatedKFold(n_splits=n_splits, n_repeats=repeats, random_state=SEED)\\nscores = cross_validate(\\n    pipeline,\\n    x,\\n    y,\\n    scoring=METRICS,\\n    cv=cv,\\n    n_jobs=1,\\n    return_train_score=True,\\n)\\nprint(\\\"Repeated Cross Validation:\\\")\\nprint(f\\\"Repeats: {repeats}\\\")\\nprint(f\\\"n_splits: {n_splits}\\\")\\nprint()\\nprint_scores(scores, METRICS, METRICS_DICT)\\n\\nresults_dict_copy = results_dict.copy()\\nresults_dict_copy[\\\"Cross Validation\\\"] = \\\"Repeated KFold\\\"\\nresults_dict_copy[\\\"Cross Validation Params\\\"] = '{\\\"N_Splits\\\": 5, \\\"Repeats\\\": 3}'\\nresults_dict_copy[\\\"Data Shape\\\"] = x.shape\\ndf_results = fill_results_dict(results_dict_copy, scores)\\nresults_to_save.append(df_results)\\n\\nend = time.time()\\nprint(\\\"Minutes Elapsed: \\\", (end - start) / 60)\";\n",
       "                var nbb_formatted_code = \"set_seeds()\\nstart = time.time()\\n\\nrepeats = 3\\nn_splits = 5\\npipeline = Pipeline(\\n    [\\n        (\\\"imputer\\\", SimpleImputer(strategy=\\\"median\\\")),\\n        (\\\"transformer\\\", StandardScaler()),\\n        (\\\"estimator\\\", MLP()),\\n    ]\\n)\\ncv = RepeatedKFold(n_splits=n_splits, n_repeats=repeats, random_state=SEED)\\nscores = cross_validate(\\n    pipeline,\\n    x,\\n    y,\\n    scoring=METRICS,\\n    cv=cv,\\n    n_jobs=1,\\n    return_train_score=True,\\n)\\nprint(\\\"Repeated Cross Validation:\\\")\\nprint(f\\\"Repeats: {repeats}\\\")\\nprint(f\\\"n_splits: {n_splits}\\\")\\nprint()\\nprint_scores(scores, METRICS, METRICS_DICT)\\n\\nresults_dict_copy = results_dict.copy()\\nresults_dict_copy[\\\"Cross Validation\\\"] = \\\"Repeated KFold\\\"\\nresults_dict_copy[\\\"Cross Validation Params\\\"] = '{\\\"N_Splits\\\": 5, \\\"Repeats\\\": 3}'\\nresults_dict_copy[\\\"Data Shape\\\"] = x.shape\\ndf_results = fill_results_dict(results_dict_copy, scores)\\nresults_to_save.append(df_results)\\n\\nend = time.time()\\nprint(\\\"Minutes Elapsed: \\\", (end - start) / 60)\";\n",
       "                var nbb_cells = Jupyter.notebook.get_cells();\n",
       "                for (var i = 0; i < nbb_cells.length; ++i) {\n",
       "                    if (nbb_cells[i].input_prompt_number == nbb_cell_id) {\n",
       "                        if (nbb_cells[i].get_text() == nbb_unformatted_code) {\n",
       "                             nbb_cells[i].set_text(nbb_formatted_code);\n",
       "                        }\n",
       "                        break;\n",
       "                    }\n",
       "                }\n",
       "            }, 500);\n",
       "            "
      ],
      "text/plain": [
       "<IPython.core.display.Javascript object>"
      ]
     },
     "metadata": {},
     "output_type": "display_data"
    }
   ],
   "source": [
    "set_seeds()\n",
    "start = time.time()\n",
    "\n",
    "repeats = 3\n",
    "n_splits = 5\n",
    "pipeline = Pipeline(\n",
    "    [\n",
    "        (\"imputer\", SimpleImputer(strategy=\"median\")),\n",
    "        (\"transformer\", StandardScaler()),\n",
    "        (\"estimator\", MLP()),\n",
    "    ]\n",
    ")\n",
    "cv = RepeatedKFold(n_splits=n_splits, n_repeats=repeats, random_state=SEED)\n",
    "scores = cross_validate(\n",
    "    pipeline,\n",
    "    x,\n",
    "    y,\n",
    "    scoring=METRICS,\n",
    "    cv=cv,\n",
    "    n_jobs=1,\n",
    "    return_train_score=True,\n",
    ")\n",
    "print(\"Repeated Cross Validation:\")\n",
    "print(f\"Repeats: {repeats}\")\n",
    "print(f\"n_splits: {n_splits}\")\n",
    "print()\n",
    "print_scores(scores, METRICS, METRICS_DICT)\n",
    "\n",
    "results_dict_copy = results_dict.copy()\n",
    "results_dict_copy[\"Cross Validation\"] = \"Repeated KFold\"\n",
    "results_dict_copy[\"Cross Validation Params\"] = '{\"N_Splits\": 5, \"Repeats\": 3}'\n",
    "results_dict_copy[\"Data Shape\"] = x.shape\n",
    "df_results = fill_results_dict(results_dict_copy, scores)\n",
    "results_to_save.append(df_results)\n",
    "\n",
    "end = time.time()\n",
    "print(\"Minutes Elapsed: \", (end - start) / 60)"
   ]
  },
  {
   "cell_type": "markdown",
   "id": "d48d7846",
   "metadata": {
    "papermill": {
     "duration": 0.009202,
     "end_time": "2024-04-03T00:21:10.084059",
     "exception": false,
     "start_time": "2024-04-03T00:21:10.074857",
     "status": "completed"
    },
    "tags": []
   },
   "source": [
    "## 1.2. Blocking Time Series Cross Validation\n",
    "\n",
    "<b>Dataset shape:</b> (594, 38)<br>\n",
    "<b>Splits:</b>5<br>    \n",
    "    1. 5 folds of 118 samples\n",
    "    2. 50% train (59 samples each fold)\n",
    "    3. 50% test (59 samples each fold)\n",
    "<b>Total:</b> 5 models<br>"
   ]
  },
  {
   "cell_type": "code",
   "execution_count": 12,
   "id": "05d88d34",
   "metadata": {
    "execution": {
     "iopub.execute_input": "2024-04-03T00:21:10.105961Z",
     "iopub.status.busy": "2024-04-03T00:21:10.105432Z",
     "iopub.status.idle": "2024-04-03T00:23:15.903532Z",
     "shell.execute_reply": "2024-04-03T00:23:15.902285Z"
    },
    "papermill": {
     "duration": 125.823115,
     "end_time": "2024-04-03T00:23:15.915735",
     "exception": false,
     "start_time": "2024-04-03T00:21:10.092620",
     "status": "completed"
    },
    "tags": []
   },
   "outputs": [
    {
     "name": "stdout",
     "output_type": "stream",
     "text": [
      "Blocking Time Series Split:\n",
      "Repeats: 3\n",
      "n_splits: 5\n",
      "\n",
      "******\n",
      "[TRAIN]\n",
      "******\n",
      "RMSE: -4.745 (1.159)\n",
      "MAE: -3.727 (0.884)\n",
      "MAPE: -0.074 (0.015)\n",
      "R2: -7.329 (6.313)\n",
      "\n",
      "======================\n",
      "\n",
      "******\n",
      "[TEST]\n",
      "******\n",
      "RMSE: -12.902 (12.465)\n",
      "MAE: -10.019 (9.213)\n",
      "MAPE: -0.212 (0.204)\n",
      "R2: -49.762 (85.640)\n",
      "\n",
      "======================\n",
      "\n",
      "Minutes Elapsed:  2.0956374605496726\n"
     ]
    },
    {
     "data": {
      "application/javascript": [
       "\n",
       "            setTimeout(function() {\n",
       "                var nbb_cell_id = 12;\n",
       "                var nbb_unformatted_code = \"set_seeds()\\nstart = time.time()\\n\\nrepeats = 3\\nn_splits = 5\\ntrain_size = 0.8\\nscores_final = None\\n\\nfor _ in range(repeats):\\n    pipeline = Pipeline(\\n        [\\n            (\\\"imputer\\\", SimpleImputer(strategy=\\\"median\\\")),\\n            (\\\"transformer\\\", StandardScaler()),\\n            (\\\"estimator\\\", MLP()),\\n        ]\\n    )\\n    cv = BlockingTimeSeriesSplit(n_splits=n_splits, train_size=train_size)\\n    scores = cross_validate(\\n        pipeline,\\n        x,\\n        y,\\n        scoring=METRICS,\\n        cv=cv,\\n        # n_jobs=None,\\n        return_train_score=True,\\n    )\\n    if scores_final is None:\\n        scores_final = {key: [] for key, _ in scores.items()}\\n\\n    for key, value in scores.items():\\n        scores_final[key] += [value]\\n\\n\\nprint(\\\"Blocking Time Series Split:\\\")\\nprint(f\\\"Repeats: {repeats}\\\")\\nprint(f\\\"n_splits: {n_splits}\\\")\\nprint()\\nprint_scores(scores_final, METRICS, METRICS_DICT)\\n\\nscores = {key: np.array(val).flatten() for key, val in scores_final.items()}\\nresults_dict_copy = results_dict.copy()\\nresults_dict_copy[\\\"Cross Validation\\\"] = \\\"Blocking Time Series Split\\\"\\nresults_dict_copy[\\n    \\\"Cross Validation Params\\\"\\n] = '{\\\"N_Splits\\\": 5, \\\"Repeats\\\": 3, \\\"train_size\\\": 0.8}'\\nresults_dict_copy[\\\"Data Shape\\\"] = x.shape\\ndf_results = fill_results_dict(results_dict_copy, scores)\\nresults_to_save.append(df_results)\\n\\nend = time.time()\\nprint(\\\"Minutes Elapsed: \\\", (end - start) / 60)\";\n",
       "                var nbb_formatted_code = \"set_seeds()\\nstart = time.time()\\n\\nrepeats = 3\\nn_splits = 5\\ntrain_size = 0.8\\nscores_final = None\\n\\nfor _ in range(repeats):\\n    pipeline = Pipeline(\\n        [\\n            (\\\"imputer\\\", SimpleImputer(strategy=\\\"median\\\")),\\n            (\\\"transformer\\\", StandardScaler()),\\n            (\\\"estimator\\\", MLP()),\\n        ]\\n    )\\n    cv = BlockingTimeSeriesSplit(n_splits=n_splits, train_size=train_size)\\n    scores = cross_validate(\\n        pipeline,\\n        x,\\n        y,\\n        scoring=METRICS,\\n        cv=cv,\\n        # n_jobs=None,\\n        return_train_score=True,\\n    )\\n    if scores_final is None:\\n        scores_final = {key: [] for key, _ in scores.items()}\\n\\n    for key, value in scores.items():\\n        scores_final[key] += [value]\\n\\n\\nprint(\\\"Blocking Time Series Split:\\\")\\nprint(f\\\"Repeats: {repeats}\\\")\\nprint(f\\\"n_splits: {n_splits}\\\")\\nprint()\\nprint_scores(scores_final, METRICS, METRICS_DICT)\\n\\nscores = {key: np.array(val).flatten() for key, val in scores_final.items()}\\nresults_dict_copy = results_dict.copy()\\nresults_dict_copy[\\\"Cross Validation\\\"] = \\\"Blocking Time Series Split\\\"\\nresults_dict_copy[\\n    \\\"Cross Validation Params\\\"\\n] = '{\\\"N_Splits\\\": 5, \\\"Repeats\\\": 3, \\\"train_size\\\": 0.8}'\\nresults_dict_copy[\\\"Data Shape\\\"] = x.shape\\ndf_results = fill_results_dict(results_dict_copy, scores)\\nresults_to_save.append(df_results)\\n\\nend = time.time()\\nprint(\\\"Minutes Elapsed: \\\", (end - start) / 60)\";\n",
       "                var nbb_cells = Jupyter.notebook.get_cells();\n",
       "                for (var i = 0; i < nbb_cells.length; ++i) {\n",
       "                    if (nbb_cells[i].input_prompt_number == nbb_cell_id) {\n",
       "                        if (nbb_cells[i].get_text() == nbb_unformatted_code) {\n",
       "                             nbb_cells[i].set_text(nbb_formatted_code);\n",
       "                        }\n",
       "                        break;\n",
       "                    }\n",
       "                }\n",
       "            }, 500);\n",
       "            "
      ],
      "text/plain": [
       "<IPython.core.display.Javascript object>"
      ]
     },
     "metadata": {},
     "output_type": "display_data"
    }
   ],
   "source": [
    "set_seeds()\n",
    "start = time.time()\n",
    "\n",
    "repeats = 3\n",
    "n_splits = 5\n",
    "train_size = 0.8\n",
    "scores_final = None\n",
    "\n",
    "for _ in range(repeats):\n",
    "    pipeline = Pipeline(\n",
    "        [\n",
    "            (\"imputer\", SimpleImputer(strategy=\"median\")),\n",
    "            (\"transformer\", StandardScaler()),\n",
    "            (\"estimator\", MLP()),\n",
    "        ]\n",
    "    )\n",
    "    cv = BlockingTimeSeriesSplit(n_splits=n_splits, train_size=train_size)\n",
    "    scores = cross_validate(\n",
    "        pipeline,\n",
    "        x,\n",
    "        y,\n",
    "        scoring=METRICS,\n",
    "        cv=cv,\n",
    "        # n_jobs=None,\n",
    "        return_train_score=True,\n",
    "    )\n",
    "    if scores_final is None:\n",
    "        scores_final = {key: [] for key, _ in scores.items()}\n",
    "\n",
    "    for key, value in scores.items():\n",
    "        scores_final[key] += [value]\n",
    "\n",
    "\n",
    "print(\"Blocking Time Series Split:\")\n",
    "print(f\"Repeats: {repeats}\")\n",
    "print(f\"n_splits: {n_splits}\")\n",
    "print()\n",
    "print_scores(scores_final, METRICS, METRICS_DICT)\n",
    "\n",
    "scores = {key: np.array(val).flatten() for key, val in scores_final.items()}\n",
    "results_dict_copy = results_dict.copy()\n",
    "results_dict_copy[\"Cross Validation\"] = \"Blocking Time Series Split\"\n",
    "results_dict_copy[\n",
    "    \"Cross Validation Params\"\n",
    "] = '{\"N_Splits\": 5, \"Repeats\": 3, \"train_size\": 0.8}'\n",
    "results_dict_copy[\"Data Shape\"] = x.shape\n",
    "df_results = fill_results_dict(results_dict_copy, scores)\n",
    "results_to_save.append(df_results)\n",
    "\n",
    "end = time.time()\n",
    "print(\"Minutes Elapsed: \", (end - start) / 60)"
   ]
  },
  {
   "cell_type": "markdown",
   "id": "6ecf9249",
   "metadata": {
    "papermill": {
     "duration": 0.011548,
     "end_time": "2024-04-03T00:23:15.938226",
     "exception": false,
     "start_time": "2024-04-03T00:23:15.926678",
     "status": "completed"
    },
    "tags": []
   },
   "source": [
    "## 1.3. Time Series Split Cross Validation\n",
    "\n",
    "The training set has size i * n_samples // (n_splits + 1) + n_samples % (n_splits + 1) in the i th split, with a test set of size n_samples//(n_splits + 1) by default, where n_samples is the number of samples.\n",
    "\n",
    "\n",
    "<b>Dataset shape:</b> (594, 38)<br>\n",
    "<b>Splits:</b>10<br>    \n",
    "    1. Train: 10 folds of 54, 108, 162, 216, 270, 324, 378, 432, 486 samples each fold\n",
    "    2. Test: 54 samples each fold\n",
    "<b>Total:</b> 10 models<br>"
   ]
  },
  {
   "cell_type": "code",
   "execution_count": 13,
   "id": "827c3c6d",
   "metadata": {
    "execution": {
     "iopub.execute_input": "2024-04-03T00:23:15.961497Z",
     "iopub.status.busy": "2024-04-03T00:23:15.960793Z",
     "iopub.status.idle": "2024-04-03T00:28:21.496519Z",
     "shell.execute_reply": "2024-04-03T00:28:21.495201Z"
    },
    "papermill": {
     "duration": 305.561205,
     "end_time": "2024-04-03T00:28:21.509254",
     "exception": false,
     "start_time": "2024-04-03T00:23:15.948049",
     "status": "completed"
    },
    "tags": []
   },
   "outputs": [
    {
     "name": "stdout",
     "output_type": "stream",
     "text": [
      "Blocking Time Series Split:\n",
      "Repeats: 3\n",
      "n_splits: 5\n",
      "\n",
      "******\n",
      "[TRAIN]\n",
      "******\n",
      "RMSE: -2.000 (0.629)\n",
      "MAE: -1.550 (0.509)\n",
      "MAPE: -0.032 (0.011)\n",
      "R2: 0.164 (1.103)\n",
      "\n",
      "======================\n",
      "\n",
      "******\n",
      "[TEST]\n",
      "******\n",
      "RMSE: -4.052 (1.705)\n",
      "MAE: -3.152 (1.288)\n",
      "MAPE: -0.065 (0.028)\n",
      "R2: -1.910 (3.109)\n",
      "\n",
      "======================\n",
      "\n",
      "Minutes Elapsed:  5.0911882797876995\n"
     ]
    },
    {
     "data": {
      "application/javascript": [
       "\n",
       "            setTimeout(function() {\n",
       "                var nbb_cell_id = 13;\n",
       "                var nbb_unformatted_code = \"set_seeds()\\nstart = time.time()\\n\\nscores_final = None\\nrepeats = 3\\nn_splits = 5\\ngap = 0\\n\\nfor _ in range(repeats):\\n    pipeline = Pipeline(\\n        [\\n            (\\\"imputer\\\", SimpleImputer(strategy=\\\"median\\\")),\\n            (\\\"transformer\\\", StandardScaler()),\\n            (\\\"estimator\\\", MLP()),\\n        ]\\n    )\\n    cv = TimeSeriesSplit(gap=gap, max_train_size=None, n_splits=n_splits)\\n\\n    scores = cross_validate(\\n        pipeline,\\n        x,\\n        y,\\n        scoring=METRICS,\\n        cv=cv,\\n        # n_jobs=-1,\\n        return_train_score=True,\\n    )\\n    if scores_final is None:\\n        scores_final = {key: [] for key, _ in scores.items()}\\n    for key, value in scores.items():\\n        scores_final[key] += [value]\\n\\nprint(\\\"Blocking Time Series Split:\\\")\\nprint(f\\\"Repeats: {repeats}\\\")\\nprint(f\\\"n_splits: {n_splits}\\\")\\nprint()\\nprint_scores(scores_final, METRICS, METRICS_DICT)\\n\\n# Saving the results\\nscores = {key: np.array(val).flatten() for key, val in scores_final.items()}\\nresults_dict_copy = results_dict.copy()\\nresults_dict_copy[\\\"Cross Validation\\\"] = \\\"Time Series Split\\\"\\nresults_dict_copy[\\\"Cross Validation Params\\\"] = '{\\\"N_Splits\\\": 5, \\\"Repeats\\\": 3, \\\"Gap\\\": 0}'\\nresults_dict_copy[\\\"Data Shape\\\"] = x.shape\\ndf_results = fill_results_dict(results_dict_copy, scores)\\nresults_to_save.append(df_results)\\n\\nend = time.time()\\nprint(\\\"Minutes Elapsed: \\\", (end - start) / 60)\";\n",
       "                var nbb_formatted_code = \"set_seeds()\\nstart = time.time()\\n\\nscores_final = None\\nrepeats = 3\\nn_splits = 5\\ngap = 0\\n\\nfor _ in range(repeats):\\n    pipeline = Pipeline(\\n        [\\n            (\\\"imputer\\\", SimpleImputer(strategy=\\\"median\\\")),\\n            (\\\"transformer\\\", StandardScaler()),\\n            (\\\"estimator\\\", MLP()),\\n        ]\\n    )\\n    cv = TimeSeriesSplit(gap=gap, max_train_size=None, n_splits=n_splits)\\n\\n    scores = cross_validate(\\n        pipeline,\\n        x,\\n        y,\\n        scoring=METRICS,\\n        cv=cv,\\n        # n_jobs=-1,\\n        return_train_score=True,\\n    )\\n    if scores_final is None:\\n        scores_final = {key: [] for key, _ in scores.items()}\\n    for key, value in scores.items():\\n        scores_final[key] += [value]\\n\\nprint(\\\"Blocking Time Series Split:\\\")\\nprint(f\\\"Repeats: {repeats}\\\")\\nprint(f\\\"n_splits: {n_splits}\\\")\\nprint()\\nprint_scores(scores_final, METRICS, METRICS_DICT)\\n\\n# Saving the results\\nscores = {key: np.array(val).flatten() for key, val in scores_final.items()}\\nresults_dict_copy = results_dict.copy()\\nresults_dict_copy[\\\"Cross Validation\\\"] = \\\"Time Series Split\\\"\\nresults_dict_copy[\\\"Cross Validation Params\\\"] = '{\\\"N_Splits\\\": 5, \\\"Repeats\\\": 3, \\\"Gap\\\": 0}'\\nresults_dict_copy[\\\"Data Shape\\\"] = x.shape\\ndf_results = fill_results_dict(results_dict_copy, scores)\\nresults_to_save.append(df_results)\\n\\nend = time.time()\\nprint(\\\"Minutes Elapsed: \\\", (end - start) / 60)\";\n",
       "                var nbb_cells = Jupyter.notebook.get_cells();\n",
       "                for (var i = 0; i < nbb_cells.length; ++i) {\n",
       "                    if (nbb_cells[i].input_prompt_number == nbb_cell_id) {\n",
       "                        if (nbb_cells[i].get_text() == nbb_unformatted_code) {\n",
       "                             nbb_cells[i].set_text(nbb_formatted_code);\n",
       "                        }\n",
       "                        break;\n",
       "                    }\n",
       "                }\n",
       "            }, 500);\n",
       "            "
      ],
      "text/plain": [
       "<IPython.core.display.Javascript object>"
      ]
     },
     "metadata": {},
     "output_type": "display_data"
    }
   ],
   "source": [
    "set_seeds()\n",
    "start = time.time()\n",
    "\n",
    "scores_final = None\n",
    "repeats = 3\n",
    "n_splits = 5\n",
    "gap = 0\n",
    "\n",
    "for _ in range(repeats):\n",
    "    pipeline = Pipeline(\n",
    "        [\n",
    "            (\"imputer\", SimpleImputer(strategy=\"median\")),\n",
    "            (\"transformer\", StandardScaler()),\n",
    "            (\"estimator\", MLP()),\n",
    "        ]\n",
    "    )\n",
    "    cv = TimeSeriesSplit(gap=gap, max_train_size=None, n_splits=n_splits)\n",
    "\n",
    "    scores = cross_validate(\n",
    "        pipeline,\n",
    "        x,\n",
    "        y,\n",
    "        scoring=METRICS,\n",
    "        cv=cv,\n",
    "        # n_jobs=-1,\n",
    "        return_train_score=True,\n",
    "    )\n",
    "    if scores_final is None:\n",
    "        scores_final = {key: [] for key, _ in scores.items()}\n",
    "    for key, value in scores.items():\n",
    "        scores_final[key] += [value]\n",
    "\n",
    "print(\"Blocking Time Series Split:\")\n",
    "print(f\"Repeats: {repeats}\")\n",
    "print(f\"n_splits: {n_splits}\")\n",
    "print()\n",
    "print_scores(scores_final, METRICS, METRICS_DICT)\n",
    "\n",
    "# Saving the results\n",
    "scores = {key: np.array(val).flatten() for key, val in scores_final.items()}\n",
    "results_dict_copy = results_dict.copy()\n",
    "results_dict_copy[\"Cross Validation\"] = \"Time Series Split\"\n",
    "results_dict_copy[\"Cross Validation Params\"] = '{\"N_Splits\": 5, \"Repeats\": 3, \"Gap\": 0}'\n",
    "results_dict_copy[\"Data Shape\"] = x.shape\n",
    "df_results = fill_results_dict(results_dict_copy, scores)\n",
    "results_to_save.append(df_results)\n",
    "\n",
    "end = time.time()\n",
    "print(\"Minutes Elapsed: \", (end - start) / 60)"
   ]
  },
  {
   "cell_type": "markdown",
   "id": "a9358b1e",
   "metadata": {
    "papermill": {
     "duration": 0.011071,
     "end_time": "2024-04-03T00:28:21.532394",
     "exception": false,
     "start_time": "2024-04-03T00:28:21.521323",
     "status": "completed"
    },
    "tags": []
   },
   "source": [
    "## 1.4. Out of time Split Cross Validation\n",
    "\n",
    "<b>Dataset shape:</b> (594, 38)<br>\n",
    "<b>Train size: 80%</b><br>\n",
    "<b>Test  size: 20%</b>\n",
    "\n",
    "\n",
    "<b>Splits:</b> 2<br>    \n",
    "    1. Train: 475\n",
    "    2. Test: 118\n",
    "<b>Total:</b> 1 model<br>"
   ]
  },
  {
   "cell_type": "code",
   "execution_count": 14,
   "id": "8fedb5df",
   "metadata": {
    "execution": {
     "iopub.execute_input": "2024-04-03T00:28:21.560052Z",
     "iopub.status.busy": "2024-04-03T00:28:21.559564Z",
     "iopub.status.idle": "2024-04-03T00:29:59.915168Z",
     "shell.execute_reply": "2024-04-03T00:29:59.913883Z"
    },
    "papermill": {
     "duration": 98.381825,
     "end_time": "2024-04-03T00:29:59.926209",
     "exception": false,
     "start_time": "2024-04-03T00:28:21.544384",
     "status": "completed"
    },
    "scrolled": false,
    "tags": []
   },
   "outputs": [
    {
     "name": "stdout",
     "output_type": "stream",
     "text": [
      "Out of time Cross Val:\n",
      "Repeats: 3\n",
      "Train: 80% Test: 20%\n",
      "\n"
     ]
    },
    {
     "name": "stdout",
     "output_type": "stream",
     "text": [
      "******\n",
      "[TRAIN]\n",
      "******\n",
      "RMSE: 1.757 (0.055)\n",
      "MAE: 1.360 (0.041)\n",
      "MAPE: 0.028 (0.001)\n",
      "R2: 0.782 (0.014)\n",
      "\n",
      "======================\n",
      "\n",
      "******\n",
      "[TEST]\n",
      "******\n",
      "RMSE: 3.719 (0.334)\n",
      "MAE: 3.441 (0.387)\n",
      "MAPE: 0.063 (0.007)\n",
      "R2: -2.357 (0.598)\n",
      "\n",
      "======================\n",
      "\n",
      "Minutes Elapsed:  1.6374937335650126\n"
     ]
    },
    {
     "data": {
      "application/javascript": [
       "\n",
       "            setTimeout(function() {\n",
       "                var nbb_cell_id = 14;\n",
       "                var nbb_unformatted_code = \"set_seeds()\\nstart = time.time()\\n\\ntest_size = 0.2\\nrepeats = 3\\nscores_final = None\\n\\nprint(\\\"Out of time Cross Val:\\\")\\nprint(f\\\"Repeats: {repeats}\\\")\\nprint(f\\\"Train: {80}%\\\", f\\\"Test: {20}%\\\")\\nprint()\\n\\n\\nfor _ in range(repeats):\\n    x_train, x_test, y_train, y_test = train_test_split(\\n        x, y, test_size=test_size, random_state=SEED, shuffle=False\\n    )\\n\\n    pipeline = Pipeline(\\n        [\\n            (\\\"imputer\\\", SimpleImputer(strategy=\\\"median\\\")),\\n            (\\\"transformer\\\", StandardScaler()),\\n            (\\\"estimator\\\", MLP()),\\n        ]\\n    )\\n\\n    pipeline.fit(x_train, y_train)\\n\\n    y_train_pred = pipeline.predict(x_train)\\n    y_test_pred = pipeline.predict(x_test)\\n\\n    scores = score_regression_metrics(y_train, y_train_pred, y_test, y_test_pred)\\n\\n    if scores_final is None:\\n        scores_final = {key: [] for key, _ in scores.items()}\\n\\n    for key, value in scores.items():\\n        scores_final[key] += [value]\\n\\n# Saving the results\\nresults_dict_copy = results_dict.copy()\\nresults_dict_copy[\\\"Cross Validation\\\"] = \\\"Out of time Split\\\"\\nresults_dict_copy[\\\"Cross Validation Params\\\"] = '{\\\"Test Size\\\": 0.2}'\\nresults_dict_copy[\\\"Data Shape\\\"] = x.shape\\ndf_results = fill_results_dict(\\n    results_dict_copy, {key: value for key, value in scores_final.items()}\\n)\\nresults_to_save.append(df_results)\\n\\nprint_scores(scores_final, METRICS, METRICS_DICT)\\n\\nend = time.time()\\nprint(\\\"Minutes Elapsed: \\\", (end - start) / 60)\";\n",
       "                var nbb_formatted_code = \"set_seeds()\\nstart = time.time()\\n\\ntest_size = 0.2\\nrepeats = 3\\nscores_final = None\\n\\nprint(\\\"Out of time Cross Val:\\\")\\nprint(f\\\"Repeats: {repeats}\\\")\\nprint(f\\\"Train: {80}%\\\", f\\\"Test: {20}%\\\")\\nprint()\\n\\n\\nfor _ in range(repeats):\\n    x_train, x_test, y_train, y_test = train_test_split(\\n        x, y, test_size=test_size, random_state=SEED, shuffle=False\\n    )\\n\\n    pipeline = Pipeline(\\n        [\\n            (\\\"imputer\\\", SimpleImputer(strategy=\\\"median\\\")),\\n            (\\\"transformer\\\", StandardScaler()),\\n            (\\\"estimator\\\", MLP()),\\n        ]\\n    )\\n\\n    pipeline.fit(x_train, y_train)\\n\\n    y_train_pred = pipeline.predict(x_train)\\n    y_test_pred = pipeline.predict(x_test)\\n\\n    scores = score_regression_metrics(y_train, y_train_pred, y_test, y_test_pred)\\n\\n    if scores_final is None:\\n        scores_final = {key: [] for key, _ in scores.items()}\\n\\n    for key, value in scores.items():\\n        scores_final[key] += [value]\\n\\n# Saving the results\\nresults_dict_copy = results_dict.copy()\\nresults_dict_copy[\\\"Cross Validation\\\"] = \\\"Out of time Split\\\"\\nresults_dict_copy[\\\"Cross Validation Params\\\"] = '{\\\"Test Size\\\": 0.2}'\\nresults_dict_copy[\\\"Data Shape\\\"] = x.shape\\ndf_results = fill_results_dict(\\n    results_dict_copy, {key: value for key, value in scores_final.items()}\\n)\\nresults_to_save.append(df_results)\\n\\nprint_scores(scores_final, METRICS, METRICS_DICT)\\n\\nend = time.time()\\nprint(\\\"Minutes Elapsed: \\\", (end - start) / 60)\";\n",
       "                var nbb_cells = Jupyter.notebook.get_cells();\n",
       "                for (var i = 0; i < nbb_cells.length; ++i) {\n",
       "                    if (nbb_cells[i].input_prompt_number == nbb_cell_id) {\n",
       "                        if (nbb_cells[i].get_text() == nbb_unformatted_code) {\n",
       "                             nbb_cells[i].set_text(nbb_formatted_code);\n",
       "                        }\n",
       "                        break;\n",
       "                    }\n",
       "                }\n",
       "            }, 500);\n",
       "            "
      ],
      "text/plain": [
       "<IPython.core.display.Javascript object>"
      ]
     },
     "metadata": {},
     "output_type": "display_data"
    }
   ],
   "source": [
    "set_seeds()\n",
    "start = time.time()\n",
    "\n",
    "test_size = 0.2\n",
    "repeats = 3\n",
    "scores_final = None\n",
    "\n",
    "print(\"Out of time Cross Val:\")\n",
    "print(f\"Repeats: {repeats}\")\n",
    "print(f\"Train: {80}%\", f\"Test: {20}%\")\n",
    "print()\n",
    "\n",
    "\n",
    "for _ in range(repeats):\n",
    "    x_train, x_test, y_train, y_test = train_test_split(\n",
    "        x, y, test_size=test_size, random_state=SEED, shuffle=False\n",
    "    )\n",
    "\n",
    "    pipeline = Pipeline(\n",
    "        [\n",
    "            (\"imputer\", SimpleImputer(strategy=\"median\")),\n",
    "            (\"transformer\", StandardScaler()),\n",
    "            (\"estimator\", MLP()),\n",
    "        ]\n",
    "    )\n",
    "\n",
    "    pipeline.fit(x_train, y_train)\n",
    "\n",
    "    y_train_pred = pipeline.predict(x_train)\n",
    "    y_test_pred = pipeline.predict(x_test)\n",
    "\n",
    "    scores = score_regression_metrics(y_train, y_train_pred, y_test, y_test_pred)\n",
    "\n",
    "    if scores_final is None:\n",
    "        scores_final = {key: [] for key, _ in scores.items()}\n",
    "\n",
    "    for key, value in scores.items():\n",
    "        scores_final[key] += [value]\n",
    "\n",
    "# Saving the results\n",
    "results_dict_copy = results_dict.copy()\n",
    "results_dict_copy[\"Cross Validation\"] = \"Out of time Split\"\n",
    "results_dict_copy[\"Cross Validation Params\"] = '{\"Test Size\": 0.2}'\n",
    "results_dict_copy[\"Data Shape\"] = x.shape\n",
    "df_results = fill_results_dict(\n",
    "    results_dict_copy, {key: value for key, value in scores_final.items()}\n",
    ")\n",
    "results_to_save.append(df_results)\n",
    "\n",
    "print_scores(scores_final, METRICS, METRICS_DICT)\n",
    "\n",
    "end = time.time()\n",
    "print(\"Minutes Elapsed: \", (end - start) / 60)"
   ]
  },
  {
   "cell_type": "code",
   "execution_count": 15,
   "id": "c91db134",
   "metadata": {
    "execution": {
     "iopub.execute_input": "2024-04-03T00:29:59.950823Z",
     "iopub.status.busy": "2024-04-03T00:29:59.950103Z",
     "iopub.status.idle": "2024-04-03T00:30:00.010221Z",
     "shell.execute_reply": "2024-04-03T00:30:00.009130Z"
    },
    "papermill": {
     "duration": 0.074816,
     "end_time": "2024-04-03T00:30:00.012307",
     "exception": false,
     "start_time": "2024-04-03T00:29:59.937491",
     "status": "completed"
    },
    "tags": []
   },
   "outputs": [
    {
     "data": {
      "text/html": [
       "<div>\n",
       "<style scoped>\n",
       "    .dataframe tbody tr th:only-of-type {\n",
       "        vertical-align: middle;\n",
       "    }\n",
       "\n",
       "    .dataframe tbody tr th {\n",
       "        vertical-align: top;\n",
       "    }\n",
       "\n",
       "    .dataframe thead tr th {\n",
       "        text-align: left;\n",
       "    }\n",
       "</style>\n",
       "<table border=\"1\" class=\"dataframe\">\n",
       "  <thead>\n",
       "    <tr>\n",
       "      <th></th>\n",
       "      <th>Features</th>\n",
       "      <th>Model</th>\n",
       "      <th>Cross Validation</th>\n",
       "      <th colspan=\"2\" halign=\"left\">RMSE Test</th>\n",
       "      <th colspan=\"2\" halign=\"left\">MAE Test</th>\n",
       "      <th colspan=\"2\" halign=\"left\">MAPE Test</th>\n",
       "      <th colspan=\"2\" halign=\"left\">R2 Test</th>\n",
       "    </tr>\n",
       "    <tr>\n",
       "      <th></th>\n",
       "      <th></th>\n",
       "      <th></th>\n",
       "      <th></th>\n",
       "      <th>mean</th>\n",
       "      <th>std</th>\n",
       "      <th>mean</th>\n",
       "      <th>std</th>\n",
       "      <th>mean</th>\n",
       "      <th>std</th>\n",
       "      <th>mean</th>\n",
       "      <th>std</th>\n",
       "    </tr>\n",
       "  </thead>\n",
       "  <tbody>\n",
       "    <tr>\n",
       "      <th>0</th>\n",
       "      <td>Chemical + CS1 + CS3 + CS7</td>\n",
       "      <td>MLP</td>\n",
       "      <td>Blocking Time Series Split</td>\n",
       "      <td>12.902124</td>\n",
       "      <td>12.464631</td>\n",
       "      <td>10.019271</td>\n",
       "      <td>9.212642</td>\n",
       "      <td>0.211921</td>\n",
       "      <td>0.204319</td>\n",
       "      <td>-49.761685</td>\n",
       "      <td>85.639915</td>\n",
       "    </tr>\n",
       "    <tr>\n",
       "      <th>1</th>\n",
       "      <td>Chemical + CS1 + CS3 + CS7</td>\n",
       "      <td>MLP</td>\n",
       "      <td>Out of time Split</td>\n",
       "      <td>3.718692</td>\n",
       "      <td>0.333572</td>\n",
       "      <td>3.441274</td>\n",
       "      <td>0.387450</td>\n",
       "      <td>0.063344</td>\n",
       "      <td>0.007163</td>\n",
       "      <td>-2.356614</td>\n",
       "      <td>0.597536</td>\n",
       "    </tr>\n",
       "    <tr>\n",
       "      <th>2</th>\n",
       "      <td>Chemical + CS1 + CS3 + CS7</td>\n",
       "      <td>MLP</td>\n",
       "      <td>Repeated KFold</td>\n",
       "      <td>1.975168</td>\n",
       "      <td>0.100550</td>\n",
       "      <td>1.548863</td>\n",
       "      <td>0.077171</td>\n",
       "      <td>0.031345</td>\n",
       "      <td>0.001481</td>\n",
       "      <td>0.760129</td>\n",
       "      <td>0.031261</td>\n",
       "    </tr>\n",
       "    <tr>\n",
       "      <th>3</th>\n",
       "      <td>Chemical + CS1 + CS3 + CS7</td>\n",
       "      <td>MLP</td>\n",
       "      <td>Time Series Split</td>\n",
       "      <td>4.052447</td>\n",
       "      <td>1.705121</td>\n",
       "      <td>3.151970</td>\n",
       "      <td>1.287565</td>\n",
       "      <td>0.065223</td>\n",
       "      <td>0.027788</td>\n",
       "      <td>-1.909961</td>\n",
       "      <td>3.109231</td>\n",
       "    </tr>\n",
       "  </tbody>\n",
       "</table>\n",
       "</div>"
      ],
      "text/plain": [
       "                     Features Model            Cross Validation  RMSE Test  \\\n",
       "                                                                      mean   \n",
       "0  Chemical + CS1 + CS3 + CS7   MLP  Blocking Time Series Split  12.902124   \n",
       "1  Chemical + CS1 + CS3 + CS7   MLP           Out of time Split   3.718692   \n",
       "2  Chemical + CS1 + CS3 + CS7   MLP              Repeated KFold   1.975168   \n",
       "3  Chemical + CS1 + CS3 + CS7   MLP           Time Series Split   4.052447   \n",
       "\n",
       "               MAE Test           MAPE Test              R2 Test             \n",
       "         std       mean       std      mean       std       mean        std  \n",
       "0  12.464631  10.019271  9.212642  0.211921  0.204319 -49.761685  85.639915  \n",
       "1   0.333572   3.441274  0.387450  0.063344  0.007163  -2.356614   0.597536  \n",
       "2   0.100550   1.548863  0.077171  0.031345  0.001481   0.760129   0.031261  \n",
       "3   1.705121   3.151970  1.287565  0.065223  0.027788  -1.909961   3.109231  "
      ]
     },
     "execution_count": 15,
     "metadata": {},
     "output_type": "execute_result"
    },
    {
     "data": {
      "application/javascript": [
       "\n",
       "            setTimeout(function() {\n",
       "                var nbb_cell_id = 15;\n",
       "                var nbb_unformatted_code = \"pd.concat(results_to_save).reset_index().groupby(\\n    [\\\"Features\\\", \\\"Model\\\", \\\"Cross Validation\\\"], dropna=False\\n)[[\\\"RMSE Test\\\", \\\"MAE Test\\\", \\\"MAPE Test\\\", \\\"R2 Test\\\"]].agg(\\n    [\\\"mean\\\", lambda series: pd.Series(series.std(ddof=0), name=\\\"std\\\")]\\n).reset_index().rename(\\n    columns={\\\"<lambda_0>\\\": \\\"std\\\"}\\n)\";\n",
       "                var nbb_formatted_code = \"pd.concat(results_to_save).reset_index().groupby(\\n    [\\\"Features\\\", \\\"Model\\\", \\\"Cross Validation\\\"], dropna=False\\n)[[\\\"RMSE Test\\\", \\\"MAE Test\\\", \\\"MAPE Test\\\", \\\"R2 Test\\\"]].agg(\\n    [\\\"mean\\\", lambda series: pd.Series(series.std(ddof=0), name=\\\"std\\\")]\\n).reset_index().rename(\\n    columns={\\\"<lambda_0>\\\": \\\"std\\\"}\\n)\";\n",
       "                var nbb_cells = Jupyter.notebook.get_cells();\n",
       "                for (var i = 0; i < nbb_cells.length; ++i) {\n",
       "                    if (nbb_cells[i].input_prompt_number == nbb_cell_id) {\n",
       "                        if (nbb_cells[i].get_text() == nbb_unformatted_code) {\n",
       "                             nbb_cells[i].set_text(nbb_formatted_code);\n",
       "                        }\n",
       "                        break;\n",
       "                    }\n",
       "                }\n",
       "            }, 500);\n",
       "            "
      ],
      "text/plain": [
       "<IPython.core.display.Javascript object>"
      ]
     },
     "metadata": {},
     "output_type": "display_data"
    }
   ],
   "source": [
    "pd.concat(results_to_save).reset_index().groupby(\n",
    "    [\"Features\", \"Model\", \"Cross Validation\"], dropna=False\n",
    ")[[\"RMSE Test\", \"MAE Test\", \"MAPE Test\", \"R2 Test\"]].agg(\n",
    "    [\"mean\", lambda series: pd.Series(series.std(ddof=0), name=\"std\")]\n",
    ").reset_index().rename(\n",
    "    columns={\"<lambda_0>\": \"std\"}\n",
    ")"
   ]
  },
  {
   "cell_type": "markdown",
   "id": "204ecce3",
   "metadata": {
    "papermill": {
     "duration": 0.015276,
     "end_time": "2024-04-03T00:30:00.038773",
     "exception": false,
     "start_time": "2024-04-03T00:30:00.023497",
     "status": "completed"
    },
    "tags": []
   },
   "source": [
    "# Saving the results Dataframe"
   ]
  },
  {
   "cell_type": "markdown",
   "id": "beb3f6fa",
   "metadata": {
    "papermill": {
     "duration": 0.049701,
     "end_time": "2024-04-03T00:30:00.101737",
     "exception": false,
     "start_time": "2024-04-03T00:30:00.052036",
     "status": "completed"
    },
    "tags": []
   },
   "source": [
    "## Saving the full dataframe"
   ]
  },
  {
   "cell_type": "code",
   "execution_count": 16,
   "id": "a65dca9d",
   "metadata": {
    "execution": {
     "iopub.execute_input": "2024-04-03T00:30:00.145661Z",
     "iopub.status.busy": "2024-04-03T00:30:00.145071Z",
     "iopub.status.idle": "2024-04-03T00:30:00.162202Z",
     "shell.execute_reply": "2024-04-03T00:30:00.161128Z"
    },
    "papermill": {
     "duration": 0.033815,
     "end_time": "2024-04-03T00:30:00.164694",
     "exception": false,
     "start_time": "2024-04-03T00:30:00.130879",
     "status": "completed"
    },
    "tags": []
   },
   "outputs": [
    {
     "data": {
      "application/javascript": [
       "\n",
       "            setTimeout(function() {\n",
       "                var nbb_cell_id = 16;\n",
       "                var nbb_unformatted_code = \"path = f\\\"../../../../../../reports/results/local_models/203/av/full/\\\"\\nfilename = f\\\"mlp_results_full_{index_to_save}.csv\\\"\\n\\npd.concat(results_to_save).to_csv(\\n    path_or_buf=path + filename,\\n    mode=\\\"w\\\",\\n    index=False,\\n    header=True,\\n)\";\n",
       "                var nbb_formatted_code = \"path = f\\\"../../../../../../reports/results/local_models/203/av/full/\\\"\\nfilename = f\\\"mlp_results_full_{index_to_save}.csv\\\"\\n\\npd.concat(results_to_save).to_csv(\\n    path_or_buf=path + filename,\\n    mode=\\\"w\\\",\\n    index=False,\\n    header=True,\\n)\";\n",
       "                var nbb_cells = Jupyter.notebook.get_cells();\n",
       "                for (var i = 0; i < nbb_cells.length; ++i) {\n",
       "                    if (nbb_cells[i].input_prompt_number == nbb_cell_id) {\n",
       "                        if (nbb_cells[i].get_text() == nbb_unformatted_code) {\n",
       "                             nbb_cells[i].set_text(nbb_formatted_code);\n",
       "                        }\n",
       "                        break;\n",
       "                    }\n",
       "                }\n",
       "            }, 500);\n",
       "            "
      ],
      "text/plain": [
       "<IPython.core.display.Javascript object>"
      ]
     },
     "metadata": {},
     "output_type": "display_data"
    }
   ],
   "source": [
    "path = f\"../../../../../../reports/results/local_models/203/av/full/\"\n",
    "filename = f\"mlp_results_full_{index_to_save}.csv\"\n",
    "\n",
    "pd.concat(results_to_save).to_csv(\n",
    "    path_or_buf=path + filename,\n",
    "    mode=\"w\",\n",
    "    index=False,\n",
    "    header=True,\n",
    ")"
   ]
  },
  {
   "cell_type": "markdown",
   "id": "f5085460",
   "metadata": {
    "papermill": {
     "duration": 0.01514,
     "end_time": "2024-04-03T00:30:00.191114",
     "exception": false,
     "start_time": "2024-04-03T00:30:00.175974",
     "status": "completed"
    },
    "tags": []
   },
   "source": [
    "## Saving the grouped dataframe"
   ]
  },
  {
   "cell_type": "code",
   "execution_count": 17,
   "id": "4ba11da8",
   "metadata": {
    "execution": {
     "iopub.execute_input": "2024-04-03T00:30:00.292522Z",
     "iopub.status.busy": "2024-04-03T00:30:00.292058Z",
     "iopub.status.idle": "2024-04-03T00:30:00.432666Z",
     "shell.execute_reply": "2024-04-03T00:30:00.431784Z"
    },
    "papermill": {
     "duration": 0.185528,
     "end_time": "2024-04-03T00:30:00.434940",
     "exception": false,
     "start_time": "2024-04-03T00:30:00.249412",
     "status": "completed"
    },
    "tags": []
   },
   "outputs": [
    {
     "data": {
      "application/javascript": [
       "\n",
       "            setTimeout(function() {\n",
       "                var nbb_cell_id = 17;\n",
       "                var nbb_unformatted_code = \"cols_groupby = [\\n    \\\"Category\\\",\\n    \\\"Company\\\",\\n    \\\"Data Shape\\\",\\n    \\\"Timesteps\\\",\\n    \\\"Features\\\",\\n    \\\"Model\\\",\\n    \\\"Cross Validation\\\",\\n    \\\"Cross Validation Params\\\",\\n]\\n\\ncols_agg = [\\\"RMSE Train\\\", \\\"MAE Train\\\", \\\"MAPE Train\\\", \\\"R2 Train\\\"] + [\\n    \\\"RMSE Test\\\",\\n    \\\"MAE Test\\\",\\n    \\\"MAPE Test\\\",\\n    \\\"R2 Test\\\",\\n]\\n\\npath = \\\"../../../../../../reports/results/local_models/203/av/grouped/\\\"\\nfilename = f\\\"mlp_results_grouped_{index_to_save}.csv\\\"\\n\\n\\ndf_results_to_save = (\\n    pd.concat(results_to_save)\\n    .groupby(cols_groupby, dropna=False)[cols_agg]\\n    .agg([\\\"mean\\\", lambda series: pd.Series(series.std(ddof=0), name=\\\"std\\\")])\\n    .reset_index()\\n    .rename(columns={\\\"<lambda_0>\\\": \\\"std\\\"})\\n)\\n\\ndf_results_to_save.to_csv(\\n    path_or_buf=path + filename,\\n    mode=\\\"w\\\",\\n    index=False,\\n    header=True,\\n)\";\n",
       "                var nbb_formatted_code = \"cols_groupby = [\\n    \\\"Category\\\",\\n    \\\"Company\\\",\\n    \\\"Data Shape\\\",\\n    \\\"Timesteps\\\",\\n    \\\"Features\\\",\\n    \\\"Model\\\",\\n    \\\"Cross Validation\\\",\\n    \\\"Cross Validation Params\\\",\\n]\\n\\ncols_agg = [\\\"RMSE Train\\\", \\\"MAE Train\\\", \\\"MAPE Train\\\", \\\"R2 Train\\\"] + [\\n    \\\"RMSE Test\\\",\\n    \\\"MAE Test\\\",\\n    \\\"MAPE Test\\\",\\n    \\\"R2 Test\\\",\\n]\\n\\npath = \\\"../../../../../../reports/results/local_models/203/av/grouped/\\\"\\nfilename = f\\\"mlp_results_grouped_{index_to_save}.csv\\\"\\n\\n\\ndf_results_to_save = (\\n    pd.concat(results_to_save)\\n    .groupby(cols_groupby, dropna=False)[cols_agg]\\n    .agg([\\\"mean\\\", lambda series: pd.Series(series.std(ddof=0), name=\\\"std\\\")])\\n    .reset_index()\\n    .rename(columns={\\\"<lambda_0>\\\": \\\"std\\\"})\\n)\\n\\ndf_results_to_save.to_csv(\\n    path_or_buf=path + filename,\\n    mode=\\\"w\\\",\\n    index=False,\\n    header=True,\\n)\";\n",
       "                var nbb_cells = Jupyter.notebook.get_cells();\n",
       "                for (var i = 0; i < nbb_cells.length; ++i) {\n",
       "                    if (nbb_cells[i].input_prompt_number == nbb_cell_id) {\n",
       "                        if (nbb_cells[i].get_text() == nbb_unformatted_code) {\n",
       "                             nbb_cells[i].set_text(nbb_formatted_code);\n",
       "                        }\n",
       "                        break;\n",
       "                    }\n",
       "                }\n",
       "            }, 500);\n",
       "            "
      ],
      "text/plain": [
       "<IPython.core.display.Javascript object>"
      ]
     },
     "metadata": {},
     "output_type": "display_data"
    }
   ],
   "source": [
    "cols_groupby = [\n",
    "    \"Category\",\n",
    "    \"Company\",\n",
    "    \"Data Shape\",\n",
    "    \"Timesteps\",\n",
    "    \"Features\",\n",
    "    \"Model\",\n",
    "    \"Cross Validation\",\n",
    "    \"Cross Validation Params\",\n",
    "]\n",
    "\n",
    "cols_agg = [\"RMSE Train\", \"MAE Train\", \"MAPE Train\", \"R2 Train\"] + [\n",
    "    \"RMSE Test\",\n",
    "    \"MAE Test\",\n",
    "    \"MAPE Test\",\n",
    "    \"R2 Test\",\n",
    "]\n",
    "\n",
    "path = \"../../../../../../reports/results/local_models/203/av/grouped/\"\n",
    "filename = f\"mlp_results_grouped_{index_to_save}.csv\"\n",
    "\n",
    "\n",
    "df_results_to_save = (\n",
    "    pd.concat(results_to_save)\n",
    "    .groupby(cols_groupby, dropna=False)[cols_agg]\n",
    "    .agg([\"mean\", lambda series: pd.Series(series.std(ddof=0), name=\"std\")])\n",
    "    .reset_index()\n",
    "    .rename(columns={\"<lambda_0>\": \"std\"})\n",
    ")\n",
    "\n",
    "df_results_to_save.to_csv(\n",
    "    path_or_buf=path + filename,\n",
    "    mode=\"w\",\n",
    "    index=False,\n",
    "    header=True,\n",
    ")"
   ]
  },
  {
   "cell_type": "code",
   "execution_count": null,
   "id": "528f58d2",
   "metadata": {
    "papermill": {
     "duration": 0.013224,
     "end_time": "2024-04-03T00:30:00.462202",
     "exception": false,
     "start_time": "2024-04-03T00:30:00.448978",
     "status": "completed"
    },
    "tags": []
   },
   "outputs": [],
   "source": []
  }
 ],
 "metadata": {
  "kernelspec": {
   "display_name": "ccs28-venv",
   "language": "python",
   "name": "ccs28-venv"
  },
  "language_info": {
   "codemirror_mode": {
    "name": "ipython",
    "version": 3
   },
   "file_extension": ".py",
   "mimetype": "text/x-python",
   "name": "python",
   "nbconvert_exporter": "python",
   "pygments_lexer": "ipython3",
   "version": "3.10.12"
  },
  "papermill": {
   "default_parameters": {},
   "duration": 1124.048251,
   "end_time": "2024-04-03T00:30:01.919100",
   "environment_variables": {},
   "exception": null,
   "input_path": "/home/peressim/projects/ccs28-ml-modelling/notebooks/modelling/local_models/203/mlp/av/chemical-cs1-and-cs3-and-cs7-ds.ipynb",
   "output_path": "/home/peressim/projects/ccs28-ml-modelling/notebooks/modelling/local_models/203/mlp/av/chemical-cs1-and-cs3-and-cs7-ds.ipynb",
   "parameters": {},
   "start_time": "2024-04-03T00:11:17.870849",
   "version": "2.5.0"
  }
 },
 "nbformat": 4,
 "nbformat_minor": 5
}