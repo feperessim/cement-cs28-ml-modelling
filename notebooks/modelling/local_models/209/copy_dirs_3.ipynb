{
 "cells": [
  {
   "cell_type": "code",
   "execution_count": 1,
   "id": "7fbeab5f",
   "metadata": {},
   "outputs": [],
   "source": [
    "import os"
   ]
  },
  {
   "cell_type": "code",
   "execution_count": 2,
   "id": "a7fd5b95",
   "metadata": {},
   "outputs": [
    {
     "data": {
      "text/plain": [
       "'/home/peressim/projects/ccs28-ml-modelling/notebooks/modelling/209'"
      ]
     },
     "execution_count": 2,
     "metadata": {},
     "output_type": "execute_result"
    }
   ],
   "source": [
    "os.getcwd()"
   ]
  },
  {
   "cell_type": "code",
   "execution_count": 3,
   "id": "5d4dc6fe",
   "metadata": {},
   "outputs": [
    {
     "data": {
      "text/plain": [
       "['bi-lstm',\n",
       " '.ipynb_checkpoints',\n",
       " 'xgboost',\n",
       " 'random_forest',\n",
       " 'linear_regression',\n",
       " 'transformer',\n",
       " 'lstm',\n",
       " 'bi-gru',\n",
       " 'copy_dirs_3.ipynb',\n",
       " 'gru',\n",
       " 'decision_tree',\n",
       " 'mlp']"
      ]
     },
     "execution_count": 3,
     "metadata": {},
     "output_type": "execute_result"
    }
   ],
   "source": [
    "dir_209 = os.getcwd()\n",
    "\n",
    "os.listdir(dir_209)"
   ]
  },
  {
   "cell_type": "code",
   "execution_count": 4,
   "id": "a23c708d",
   "metadata": {},
   "outputs": [
    {
     "data": {
      "text/plain": [
       "'/home/peressim/projects/ccs28-ml-modelling/notebooks/modelling/209'"
      ]
     },
     "execution_count": 4,
     "metadata": {},
     "output_type": "execute_result"
    }
   ],
   "source": [
    "os.getcwd()"
   ]
  },
  {
   "cell_type": "code",
   "execution_count": 8,
   "id": "4e6e029f",
   "metadata": {},
   "outputs": [
    {
     "name": "stdout",
     "output_type": "stream",
     "text": [
      "cp -r /home/peressim/projects/ccs28-ml-modelling/notebooks/modelling/209/bi-lstm/j /home/peressim/projects/ccs28-ml-modelling/notebooks/modelling/209/bi-lstm/l\n",
      "cp -r /home/peressim/projects/ccs28-ml-modelling/notebooks/modelling/209/xgboost/j /home/peressim/projects/ccs28-ml-modelling/notebooks/modelling/209/xgboost/l\n",
      "cp -r /home/peressim/projects/ccs28-ml-modelling/notebooks/modelling/209/random_forest/j /home/peressim/projects/ccs28-ml-modelling/notebooks/modelling/209/random_forest/l\n",
      "cp -r /home/peressim/projects/ccs28-ml-modelling/notebooks/modelling/209/linear_regression/j /home/peressim/projects/ccs28-ml-modelling/notebooks/modelling/209/linear_regression/l\n",
      "cp -r /home/peressim/projects/ccs28-ml-modelling/notebooks/modelling/209/transformer/j /home/peressim/projects/ccs28-ml-modelling/notebooks/modelling/209/transformer/l\n",
      "cp -r /home/peressim/projects/ccs28-ml-modelling/notebooks/modelling/209/lstm/j /home/peressim/projects/ccs28-ml-modelling/notebooks/modelling/209/lstm/l\n",
      "cp -r /home/peressim/projects/ccs28-ml-modelling/notebooks/modelling/209/bi-gru/j /home/peressim/projects/ccs28-ml-modelling/notebooks/modelling/209/bi-gru/l\n",
      "cp -r /home/peressim/projects/ccs28-ml-modelling/notebooks/modelling/209/copy_dirs_3.ipynb/j /home/peressim/projects/ccs28-ml-modelling/notebooks/modelling/209/copy_dirs_3.ipynb/l\n",
      "cp -r /home/peressim/projects/ccs28-ml-modelling/notebooks/modelling/209/gru/j /home/peressim/projects/ccs28-ml-modelling/notebooks/modelling/209/gru/l\n",
      "cp -r /home/peressim/projects/ccs28-ml-modelling/notebooks/modelling/209/decision_tree/j /home/peressim/projects/ccs28-ml-modelling/notebooks/modelling/209/decision_tree/l\n",
      "cp -r /home/peressim/projects/ccs28-ml-modelling/notebooks/modelling/209/mlp/j /home/peressim/projects/ccs28-ml-modelling/notebooks/modelling/209/mlp/l\n"
     ]
    },
    {
     "name": "stderr",
     "output_type": "stream",
     "text": [
      "cp: failed to access '/home/peressim/projects/ccs28-ml-modelling/notebooks/modelling/209/copy_dirs_3.ipynb/l': Not a directory\n"
     ]
    }
   ],
   "source": [
    "for dire in os.listdir(dir_209):\n",
    "    old = os.path.join(os.path.join(dir_209, dire), \"j\")\n",
    "    new = os.path.join(os.path.join(dir_209, dire), \"l\")\n",
    "    if \".ipynb_checkpoints\" not in new:        \n",
    "        os.system(\"cp -r\" + \" \" + old + \" \" + new)\n",
    "        print(\"cp -r\" + \" \" + old + \" \" + new)"
   ]
  },
  {
   "cell_type": "code",
   "execution_count": null,
   "id": "3f902740",
   "metadata": {},
   "outputs": [],
   "source": [
    "# Coloca mineralogical no nome"
   ]
  },
  {
   "cell_type": "code",
   "execution_count": 5,
   "id": "8ecb88f9",
   "metadata": {},
   "outputs": [],
   "source": [
    "# for dire in os.listdir(dir_209):\n",
    "#     plant_dir = os.path.join(os.path.join(dir_209, dire), \"l\")\n",
    "#     if \".ipynb\" not in plant_dir:\n",
    "#         print(\"=\"*len(dire))\n",
    "#         print(dire)\n",
    "#         print(\"=\"*len(dire))\n",
    "#         for notebook_file in os.listdir(plant_dir):\n",
    "#             if \"chemical\" in notebook_file:\n",
    "#                 old_name = notebook_file\n",
    "#                 new_name = old_name.split(\"-\")\n",
    "#                 new_name = \"-\".join([new_name[0], \"mineralogical\"] + new_name[1:])\n",
    "#                 old_name = os.path.join(plant_dir, old_name)\n",
    "#                 new_name = os.path.join(plant_dir, new_name)\n",
    "#                 os.rename(old_name, new_name)                            \n",
    "#         print()"
   ]
  },
  {
   "cell_type": "code",
   "execution_count": 6,
   "id": "0853e770",
   "metadata": {},
   "outputs": [],
   "source": [
    "# Remove notebooks com cs1 no nome"
   ]
  },
  {
   "cell_type": "code",
   "execution_count": 12,
   "id": "d271508c",
   "metadata": {},
   "outputs": [
    {
     "name": "stdout",
     "output_type": "stream",
     "text": [
      "=======\n",
      "bi-lstm\n",
      "=======\n",
      "/home/peressim/projects/ccs28-ml-modelling/notebooks/modelling/209/bi-lstm/l\n",
      "chemical-cs1-and-cs3-and-cs7-ds.ipynb\n",
      "chemical-cs1-and-cs3-ds.ipynb\n",
      "chemical-cs1-ds.ipynb\n",
      "\n",
      "=======\n",
      "xgboost\n",
      "=======\n",
      "/home/peressim/projects/ccs28-ml-modelling/notebooks/modelling/209/xgboost/l\n",
      "chemical-cs1-and-cs3-and-cs7-ds.ipynb\n",
      "chemical-cs1-and-cs3-ds.ipynb\n",
      "chemical-cs1-ds.ipynb\n",
      "\n",
      "=============\n",
      "random_forest\n",
      "=============\n",
      "/home/peressim/projects/ccs28-ml-modelling/notebooks/modelling/209/random_forest/l\n",
      "chemical-cs1-and-cs3-and-cs7-ds.ipynb\n",
      "chemical-cs1-and-cs3-ds.ipynb\n",
      "chemical-cs1-ds.ipynb\n",
      "\n",
      "=================\n",
      "linear_regression\n",
      "=================\n",
      "/home/peressim/projects/ccs28-ml-modelling/notebooks/modelling/209/linear_regression/l\n",
      "chemical-cs1-and-cs3-and-cs7-ds.ipynb\n",
      "chemical-cs1-and-cs3-ds.ipynb\n",
      "chemical-cs1-ds.ipynb\n",
      "\n",
      "===========\n",
      "transformer\n",
      "===========\n",
      "/home/peressim/projects/ccs28-ml-modelling/notebooks/modelling/209/transformer/l\n",
      "chemical-cs1-and-cs3-and-cs7-ds.ipynb\n",
      "chemical-cs1-and-cs3-ds.ipynb\n",
      "chemical-cs1-ds.ipynb\n",
      "\n",
      "====\n",
      "lstm\n",
      "====\n",
      "/home/peressim/projects/ccs28-ml-modelling/notebooks/modelling/209/lstm/l\n",
      "chemical-cs1-and-cs3-and-cs7-ds.ipynb\n",
      "chemical-cs1-and-cs3-ds.ipynb\n",
      "chemical-cs1-ds.ipynb\n",
      "\n",
      "======\n",
      "bi-gru\n",
      "======\n",
      "/home/peressim/projects/ccs28-ml-modelling/notebooks/modelling/209/bi-gru/l\n",
      "chemical-cs1-and-cs3-and-cs7-ds.ipynb\n",
      "chemical-cs1-and-cs3-ds.ipynb\n",
      "chemical-cs1-ds.ipynb\n",
      "\n",
      "===\n",
      "gru\n",
      "===\n",
      "/home/peressim/projects/ccs28-ml-modelling/notebooks/modelling/209/gru/l\n",
      "chemical-cs1-and-cs3-and-cs7-ds.ipynb\n",
      "chemical-cs1-and-cs3-ds.ipynb\n",
      "chemical-cs1-ds.ipynb\n",
      "\n",
      "=============\n",
      "decision_tree\n",
      "=============\n",
      "/home/peressim/projects/ccs28-ml-modelling/notebooks/modelling/209/decision_tree/l\n",
      "chemical-cs1-and-cs3-and-cs7-ds.ipynb\n",
      "chemical-cs1-and-cs3-ds.ipynb\n",
      "chemical-cs1-ds.ipynb\n",
      "\n",
      "===\n",
      "mlp\n",
      "===\n",
      "/home/peressim/projects/ccs28-ml-modelling/notebooks/modelling/209/mlp/l\n",
      "chemical-cs1-and-cs3-and-cs7-ds.ipynb\n",
      "chemical-cs1-and-cs3-ds.ipynb\n",
      "chemical-cs1-ds.ipynb\n",
      "\n"
     ]
    }
   ],
   "source": [
    "for dire in os.listdir(dir_209):\n",
    "    plant_dir = os.path.join(os.path.join(dir_209, dire), \"l\")\n",
    "    if \".ipynb\" not in plant_dir:\n",
    "        print(\"=\"*len(dire))\n",
    "        print(dire)\n",
    "        print(\"=\"*len(dire))\n",
    "        print(plant_dir)\n",
    "        for notebook_file in os.listdir(plant_dir):\n",
    "            if \"cs1\" in notebook_file:\n",
    "                print(notebook_file)\n",
    "                os.remove(os.path.join(plant_dir, notebook_file))\n",
    "        print()"
   ]
  },
  {
   "cell_type": "code",
   "execution_count": 1,
   "id": "94e1e81c",
   "metadata": {},
   "outputs": [],
   "source": [
    "import os"
   ]
  },
  {
   "cell_type": "code",
   "execution_count": 2,
   "id": "1a44f9d0",
   "metadata": {},
   "outputs": [],
   "source": [
    "# os.chdir(\"/home/peressim/projects/ccs28-ml-modelling\")"
   ]
  },
  {
   "cell_type": "code",
   "execution_count": 3,
   "id": "c44dca50",
   "metadata": {},
   "outputs": [
    {
     "data": {
      "text/plain": [
       "'/home/peressim/projects/ccs28-ml-modelling/notebooks/modelling/local_models/209'"
      ]
     },
     "execution_count": 3,
     "metadata": {},
     "output_type": "execute_result"
    }
   ],
   "source": [
    "os.getcwd()"
   ]
  },
  {
   "cell_type": "code",
   "execution_count": 4,
   "id": "6e78b447",
   "metadata": {},
   "outputs": [],
   "source": [
    "dir_209 = os.getcwd()"
   ]
  },
  {
   "cell_type": "code",
   "execution_count": 5,
   "id": "0b687e6e",
   "metadata": {},
   "outputs": [
    {
     "data": {
      "text/plain": [
       "['decision_tree',\n",
       " 'transformer',\n",
       " 'xgboost',\n",
       " 'gru',\n",
       " '.ipynb_checkpoints',\n",
       " 'mlp',\n",
       " 'copy_dirs_3.ipynb',\n",
       " 'bi-lstm',\n",
       " 'random_forest',\n",
       " 'bi-gru',\n",
       " 'linear_regression',\n",
       " 'lstm']"
      ]
     },
     "execution_count": 5,
     "metadata": {},
     "output_type": "execute_result"
    }
   ],
   "source": [
    "os.listdir(dir_209)"
   ]
  },
  {
   "cell_type": "code",
   "execution_count": 6,
   "id": "16d46a0b",
   "metadata": {},
   "outputs": [
    {
     "data": {
      "text/plain": [
       "'/home/peressim/projects/ccs28-ml-modelling/notebooks/modelling/local_models/209'"
      ]
     },
     "execution_count": 6,
     "metadata": {},
     "output_type": "execute_result"
    }
   ],
   "source": [
    "os.getcwd()"
   ]
  },
  {
   "cell_type": "code",
   "execution_count": 10,
   "id": "c7bbc170",
   "metadata": {},
   "outputs": [],
   "source": [
    "dir_209\n",
    "for model in os.listdir(dir_209):\n",
    "    if \".ipynb\" in model: continue\n",
    "    full_path_ret = os.path.join(os.path.join(dir_209, model), \"aa\")\n",
    "    notebooks = os.listdir(full_path_ret)\n",
    "    for notebook in notebooks:\n",
    "        full_path = os.path.join(full_path_ret, notebook)\n",
    "        if \"chemical\" in notebook:            \n",
    "            notebook_fixed = \"chemical\" + \"-mineralogical\" + notebook[8:] \n",
    "            full_path_fixed = os.path.join(full_path_ret, notebook_fixed)\n",
    "            # print(notebook_fixed)\n",
    "            command = \"git mv \" + full_path + \" \" + full_path_fixed\n",
    "            #print(command)\n",
    "            os.system(command)\n",
    "    # print(notebooks)\n",
    "    "
   ]
  },
  {
   "cell_type": "code",
   "execution_count": null,
   "id": "198661c0",
   "metadata": {},
   "outputs": [],
   "source": [
    "os.system"
   ]
  }
 ],
 "metadata": {
  "kernelspec": {
   "display_name": "ccs28-venv",
   "language": "python",
   "name": "ccs28-venv"
  },
  "language_info": {
   "codemirror_mode": {
    "name": "ipython",
    "version": 3
   },
   "file_extension": ".py",
   "mimetype": "text/x-python",
   "name": "python",
   "nbconvert_exporter": "python",
   "pygments_lexer": "ipython3",
   "version": "3.10.12"
  }
 },
 "nbformat": 4,
 "nbformat_minor": 5
}
