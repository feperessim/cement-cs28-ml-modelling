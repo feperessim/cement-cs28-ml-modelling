{
 "cells": [
  {
   "cell_type": "code",
   "execution_count": 1,
   "id": "6edb92e3",
   "metadata": {
    "execution": {
     "iopub.execute_input": "2024-03-03T13:37:56.777736Z",
     "iopub.status.busy": "2024-03-03T13:37:56.777345Z",
     "iopub.status.idle": "2024-03-03T13:37:56.874287Z",
     "shell.execute_reply": "2024-03-03T13:37:56.873181Z"
    },
    "papermill": {
     "duration": 0.110841,
     "end_time": "2024-03-03T13:37:56.876920",
     "exception": false,
     "start_time": "2024-03-03T13:37:56.766079",
     "status": "completed"
    },
    "tags": []
   },
   "outputs": [
    {
     "data": {
      "application/javascript": [
       "\n",
       "            setTimeout(function() {\n",
       "                var nbb_cell_id = 1;\n",
       "                var nbb_unformatted_code = \"%load_ext nb_black\";\n",
       "                var nbb_formatted_code = \"%load_ext nb_black\";\n",
       "                var nbb_cells = Jupyter.notebook.get_cells();\n",
       "                for (var i = 0; i < nbb_cells.length; ++i) {\n",
       "                    if (nbb_cells[i].input_prompt_number == nbb_cell_id) {\n",
       "                        if (nbb_cells[i].get_text() == nbb_unformatted_code) {\n",
       "                             nbb_cells[i].set_text(nbb_formatted_code);\n",
       "                        }\n",
       "                        break;\n",
       "                    }\n",
       "                }\n",
       "            }, 500);\n",
       "            "
      ],
      "text/plain": [
       "<IPython.core.display.Javascript object>"
      ]
     },
     "metadata": {},
     "output_type": "display_data"
    }
   ],
   "source": [
    "%load_ext nb_black"
   ]
  },
  {
   "cell_type": "code",
   "execution_count": 2,
   "id": "b04ff56f",
   "metadata": {
    "execution": {
     "iopub.execute_input": "2024-03-03T13:37:56.902821Z",
     "iopub.status.busy": "2024-03-03T13:37:56.902382Z",
     "iopub.status.idle": "2024-03-03T13:38:00.664155Z",
     "shell.execute_reply": "2024-03-03T13:38:00.663032Z"
    },
    "papermill": {
     "duration": 3.777936,
     "end_time": "2024-03-03T13:38:00.666212",
     "exception": false,
     "start_time": "2024-03-03T13:37:56.888276",
     "status": "completed"
    },
    "tags": []
   },
   "outputs": [
    {
     "name": "stderr",
     "output_type": "stream",
     "text": [
      "2024-03-03 10:37:58.325137: I tensorflow/tsl/cuda/cudart_stub.cc:28] Could not find cuda drivers on your machine, GPU will not be used.\n",
      "2024-03-03 10:37:58.383930: I tensorflow/tsl/cuda/cudart_stub.cc:28] Could not find cuda drivers on your machine, GPU will not be used.\n",
      "2024-03-03 10:37:58.385172: I tensorflow/core/platform/cpu_feature_guard.cc:182] This TensorFlow binary is optimized to use available CPU instructions in performance-critical operations.\n",
      "To enable the following instructions: AVX2 FMA, in other operations, rebuild TensorFlow with the appropriate compiler flags.\n"
     ]
    },
    {
     "name": "stderr",
     "output_type": "stream",
     "text": [
      "2024-03-03 10:37:59.601185: W tensorflow/compiler/tf2tensorrt/utils/py_utils.cc:38] TF-TRT Warning: Could not find TensorRT\n"
     ]
    },
    {
     "data": {
      "application/javascript": [
       "\n",
       "            setTimeout(function() {\n",
       "                var nbb_cell_id = 2;\n",
       "                var nbb_unformatted_code = \"# Database Reading and Manipulation\\nimport pandas as pd\\n\\n# Linear Algebra\\nimport numpy as np\\n\\n# Plotting\\nimport matplotlib.pyplot as plt\\n\\n# Time\\nimport time\\n\\n# Random and os for reproducibility\\nimport random\\nimport os\\n\\n# Model Selection\\nfrom sklearn.model_selection import train_test_split\\nfrom sklearn.model_selection import TimeSeriesSplit\\nfrom sklearn.model_selection import RepeatedKFold\\nfrom sklearn.model_selection import cross_val_score\\nfrom sklearn.model_selection import cross_validate\\nfrom sklearn.model_selection import GridSearchCV\\n\\n# Modeling\\nimport tensorflow as tf\\n\\n# Processing\\nfrom sklearn.preprocessing import StandardScaler\\nfrom sklearn.preprocessing import RobustScaler\\n\\n# Metrics\\nfrom sklearn.metrics import mean_squared_error\\nfrom sklearn.metrics import mean_absolute_error\\nfrom sklearn.metrics import mean_absolute_percentage_error\\nfrom sklearn.metrics import r2_score\\n\\n# Pipeline\\nfrom sklearn.pipeline import Pipeline\\n\\n# Data imputation\\nfrom sklearn.impute import SimpleImputer\\n\\n# Making keras compatible with scikit learn api\\n# https://scikit-learn.org/stable/developers/develop.html\\nfrom sklearn.base import BaseEstimator, RegressorMixin\\n\\n# Custom modules\\n## Model selection\\nfrom src.cross_validation.blocking_time_series_split import BlockingTimeSeriesSplit\\n\\n## Function to print scores\\nfrom src.utils.print_scores import print_scores\\n\\n## Function to calculate score regression metrics\\nfrom src.utils.score_regression_metrics import score_regression_metrics\\n\\n## Function to fill the results metric dict\\nfrom src.utils.fill_results_dict import fill_results_dict\\n\\n# Converting Times Series Data to 3D format\\nfrom src.utils.split_sequences import split_sequences\\n\\n# To run cross validation parallelized\\nfrom joblib import Parallel, delayed\";\n",
       "                var nbb_formatted_code = \"# Database Reading and Manipulation\\nimport pandas as pd\\n\\n# Linear Algebra\\nimport numpy as np\\n\\n# Plotting\\nimport matplotlib.pyplot as plt\\n\\n# Time\\nimport time\\n\\n# Random and os for reproducibility\\nimport random\\nimport os\\n\\n# Model Selection\\nfrom sklearn.model_selection import train_test_split\\nfrom sklearn.model_selection import TimeSeriesSplit\\nfrom sklearn.model_selection import RepeatedKFold\\nfrom sklearn.model_selection import cross_val_score\\nfrom sklearn.model_selection import cross_validate\\nfrom sklearn.model_selection import GridSearchCV\\n\\n# Modeling\\nimport tensorflow as tf\\n\\n# Processing\\nfrom sklearn.preprocessing import StandardScaler\\nfrom sklearn.preprocessing import RobustScaler\\n\\n# Metrics\\nfrom sklearn.metrics import mean_squared_error\\nfrom sklearn.metrics import mean_absolute_error\\nfrom sklearn.metrics import mean_absolute_percentage_error\\nfrom sklearn.metrics import r2_score\\n\\n# Pipeline\\nfrom sklearn.pipeline import Pipeline\\n\\n# Data imputation\\nfrom sklearn.impute import SimpleImputer\\n\\n# Making keras compatible with scikit learn api\\n# https://scikit-learn.org/stable/developers/develop.html\\nfrom sklearn.base import BaseEstimator, RegressorMixin\\n\\n# Custom modules\\n## Model selection\\nfrom src.cross_validation.blocking_time_series_split import BlockingTimeSeriesSplit\\n\\n## Function to print scores\\nfrom src.utils.print_scores import print_scores\\n\\n## Function to calculate score regression metrics\\nfrom src.utils.score_regression_metrics import score_regression_metrics\\n\\n## Function to fill the results metric dict\\nfrom src.utils.fill_results_dict import fill_results_dict\\n\\n# Converting Times Series Data to 3D format\\nfrom src.utils.split_sequences import split_sequences\\n\\n# To run cross validation parallelized\\nfrom joblib import Parallel, delayed\";\n",
       "                var nbb_cells = Jupyter.notebook.get_cells();\n",
       "                for (var i = 0; i < nbb_cells.length; ++i) {\n",
       "                    if (nbb_cells[i].input_prompt_number == nbb_cell_id) {\n",
       "                        if (nbb_cells[i].get_text() == nbb_unformatted_code) {\n",
       "                             nbb_cells[i].set_text(nbb_formatted_code);\n",
       "                        }\n",
       "                        break;\n",
       "                    }\n",
       "                }\n",
       "            }, 500);\n",
       "            "
      ],
      "text/plain": [
       "<IPython.core.display.Javascript object>"
      ]
     },
     "metadata": {},
     "output_type": "display_data"
    }
   ],
   "source": [
    "# Database Reading and Manipulation\n",
    "import pandas as pd\n",
    "\n",
    "# Linear Algebra\n",
    "import numpy as np\n",
    "\n",
    "# Plotting\n",
    "import matplotlib.pyplot as plt\n",
    "\n",
    "# Time\n",
    "import time\n",
    "\n",
    "# Random and os for reproducibility\n",
    "import random\n",
    "import os\n",
    "\n",
    "# Model Selection\n",
    "from sklearn.model_selection import train_test_split\n",
    "from sklearn.model_selection import TimeSeriesSplit\n",
    "from sklearn.model_selection import RepeatedKFold\n",
    "from sklearn.model_selection import cross_val_score\n",
    "from sklearn.model_selection import cross_validate\n",
    "from sklearn.model_selection import GridSearchCV\n",
    "\n",
    "# Modeling\n",
    "import tensorflow as tf\n",
    "\n",
    "# Processing\n",
    "from sklearn.preprocessing import StandardScaler\n",
    "from sklearn.preprocessing import RobustScaler\n",
    "\n",
    "# Metrics\n",
    "from sklearn.metrics import mean_squared_error\n",
    "from sklearn.metrics import mean_absolute_error\n",
    "from sklearn.metrics import mean_absolute_percentage_error\n",
    "from sklearn.metrics import r2_score\n",
    "\n",
    "# Pipeline\n",
    "from sklearn.pipeline import Pipeline\n",
    "\n",
    "# Data imputation\n",
    "from sklearn.impute import SimpleImputer\n",
    "\n",
    "# Making keras compatible with scikit learn api\n",
    "# https://scikit-learn.org/stable/developers/develop.html\n",
    "from sklearn.base import BaseEstimator, RegressorMixin\n",
    "\n",
    "# Custom modules\n",
    "## Model selection\n",
    "from src.cross_validation.blocking_time_series_split import BlockingTimeSeriesSplit\n",
    "\n",
    "## Function to print scores\n",
    "from src.utils.print_scores import print_scores\n",
    "\n",
    "## Function to calculate score regression metrics\n",
    "from src.utils.score_regression_metrics import score_regression_metrics\n",
    "\n",
    "## Function to fill the results metric dict\n",
    "from src.utils.fill_results_dict import fill_results_dict\n",
    "\n",
    "# Converting Times Series Data to 3D format\n",
    "from src.utils.split_sequences import split_sequences\n",
    "\n",
    "# To run cross validation parallelized\n",
    "from joblib import Parallel, delayed"
   ]
  },
  {
   "cell_type": "markdown",
   "id": "52a9c188",
   "metadata": {
    "papermill": {
     "duration": 0.01035,
     "end_time": "2024-03-03T13:38:00.685417",
     "exception": false,
     "start_time": "2024-03-03T13:38:00.675067",
     "status": "completed"
    },
    "tags": []
   },
   "source": [
    "# Functions and definitions"
   ]
  },
  {
   "cell_type": "markdown",
   "id": "fe10aff1",
   "metadata": {
    "papermill": {
     "duration": 0.010042,
     "end_time": "2024-03-03T13:38:00.705664",
     "exception": false,
     "start_time": "2024-03-03T13:38:00.695622",
     "status": "completed"
    },
    "tags": []
   },
   "source": [
    "## Helper functions for blocked time series cross validation"
   ]
  },
  {
   "cell_type": "markdown",
   "id": "d4d93ad1",
   "metadata": {
    "papermill": {
     "duration": 0.065003,
     "end_time": "2024-03-03T13:38:00.780261",
     "exception": false,
     "start_time": "2024-03-03T13:38:00.715258",
     "status": "completed"
    },
    "tags": []
   },
   "source": [
    "### Convert train/test data to 3D format"
   ]
  },
  {
   "cell_type": "code",
   "execution_count": 3,
   "id": "0da93cb3",
   "metadata": {
    "execution": {
     "iopub.execute_input": "2024-03-03T13:38:00.813421Z",
     "iopub.status.busy": "2024-03-03T13:38:00.812573Z",
     "iopub.status.idle": "2024-03-03T13:38:00.830909Z",
     "shell.execute_reply": "2024-03-03T13:38:00.829587Z"
    },
    "papermill": {
     "duration": 0.036643,
     "end_time": "2024-03-03T13:38:00.833168",
     "exception": false,
     "start_time": "2024-03-03T13:38:00.796525",
     "status": "completed"
    },
    "tags": []
   },
   "outputs": [
    {
     "data": {
      "application/javascript": [
       "\n",
       "            setTimeout(function() {\n",
       "                var nbb_cell_id = 3;\n",
       "                var nbb_unformatted_code = \"def generate_sequences_helper(\\n    dataset, cement_types, dates=None, timesteps=None, split_by_cement_type=False\\n):\\n    index_train = dataset[\\\"y_train\\\"].index\\n    index_test = dataset[\\\"y_test\\\"].index\\n\\n    dataset[\\\"y_train\\\"] = dataset[\\\"y_train\\\"].reset_index(drop=True)\\n    dataset[\\\"y_test\\\"] = dataset[\\\"y_test\\\"].reset_index(drop=True)\\n\\n    if dates is not None:\\n        dataset[\\\"dates_train\\\"] = dates[index_train].reset_index(drop=True)\\n        dataset[\\\"dates_test\\\"] = dates[index_test].reset_index(drop=True)\\n\\n    dataset[\\\"cement_types_train\\\"] = cement_types.loc[index_train].reset_index(drop=True)\\n    dataset[\\\"cement_types_test\\\"] = cement_types.loc[index_test].reset_index(drop=True)\\n\\n    dataset = generate_sequences(dataset, timesteps, split_by_cement_type)\\n\\n    return dataset\";\n",
       "                var nbb_formatted_code = \"def generate_sequences_helper(\\n    dataset, cement_types, dates=None, timesteps=None, split_by_cement_type=False\\n):\\n    index_train = dataset[\\\"y_train\\\"].index\\n    index_test = dataset[\\\"y_test\\\"].index\\n\\n    dataset[\\\"y_train\\\"] = dataset[\\\"y_train\\\"].reset_index(drop=True)\\n    dataset[\\\"y_test\\\"] = dataset[\\\"y_test\\\"].reset_index(drop=True)\\n\\n    if dates is not None:\\n        dataset[\\\"dates_train\\\"] = dates[index_train].reset_index(drop=True)\\n        dataset[\\\"dates_test\\\"] = dates[index_test].reset_index(drop=True)\\n\\n    dataset[\\\"cement_types_train\\\"] = cement_types.loc[index_train].reset_index(drop=True)\\n    dataset[\\\"cement_types_test\\\"] = cement_types.loc[index_test].reset_index(drop=True)\\n\\n    dataset = generate_sequences(dataset, timesteps, split_by_cement_type)\\n\\n    return dataset\";\n",
       "                var nbb_cells = Jupyter.notebook.get_cells();\n",
       "                for (var i = 0; i < nbb_cells.length; ++i) {\n",
       "                    if (nbb_cells[i].input_prompt_number == nbb_cell_id) {\n",
       "                        if (nbb_cells[i].get_text() == nbb_unformatted_code) {\n",
       "                             nbb_cells[i].set_text(nbb_formatted_code);\n",
       "                        }\n",
       "                        break;\n",
       "                    }\n",
       "                }\n",
       "            }, 500);\n",
       "            "
      ],
      "text/plain": [
       "<IPython.core.display.Javascript object>"
      ]
     },
     "metadata": {},
     "output_type": "display_data"
    }
   ],
   "source": [
    "def generate_sequences_helper(\n",
    "    dataset, cement_types, dates=None, timesteps=None, split_by_cement_type=False\n",
    "):\n",
    "    index_train = dataset[\"y_train\"].index\n",
    "    index_test = dataset[\"y_test\"].index\n",
    "\n",
    "    dataset[\"y_train\"] = dataset[\"y_train\"].reset_index(drop=True)\n",
    "    dataset[\"y_test\"] = dataset[\"y_test\"].reset_index(drop=True)\n",
    "\n",
    "    if dates is not None:\n",
    "        dataset[\"dates_train\"] = dates[index_train].reset_index(drop=True)\n",
    "        dataset[\"dates_test\"] = dates[index_test].reset_index(drop=True)\n",
    "\n",
    "    dataset[\"cement_types_train\"] = cement_types.loc[index_train].reset_index(drop=True)\n",
    "    dataset[\"cement_types_test\"] = cement_types.loc[index_test].reset_index(drop=True)\n",
    "\n",
    "    dataset = generate_sequences(dataset, timesteps, split_by_cement_type)\n",
    "\n",
    "    return dataset"
   ]
  },
  {
   "cell_type": "code",
   "execution_count": 4,
   "id": "5e3c0d28",
   "metadata": {
    "execution": {
     "iopub.execute_input": "2024-03-03T13:38:00.860776Z",
     "iopub.status.busy": "2024-03-03T13:38:00.860365Z",
     "iopub.status.idle": "2024-03-03T13:38:00.885512Z",
     "shell.execute_reply": "2024-03-03T13:38:00.884205Z"
    },
    "papermill": {
     "duration": 0.042988,
     "end_time": "2024-03-03T13:38:00.887697",
     "exception": false,
     "start_time": "2024-03-03T13:38:00.844709",
     "status": "completed"
    },
    "tags": []
   },
   "outputs": [
    {
     "data": {
      "application/javascript": [
       "\n",
       "            setTimeout(function() {\n",
       "                var nbb_cell_id = 4;\n",
       "                var nbb_unformatted_code = \"def generate_sequences(dataset, timesteps, split_by_cement_type=False):\\n    if split_by_cement_type:\\n        dataset[\\\"x_train\\\"], dataset[\\\"y_train\\\"] = split_sequences_per_cement_type(\\n            pd.concat(\\n                [\\n                    dataset[\\\"dates_train\\\"],\\n                    pd.DataFrame(dataset[\\\"x_train\\\"], columns=x.columns),\\n                    dataset[\\\"cement_types_train\\\"],\\n                    dataset[\\\"y_train\\\"],\\n                ],\\n                axis=1,\\n            ),\\n            timesteps,\\n        )\\n\\n        dataset[\\\"x_test\\\"], dataset[\\\"y_test\\\"] = split_sequences_per_cement_type(\\n            pd.concat(\\n                [\\n                    dataset[\\\"dates_test\\\"],\\n                    pd.DataFrame(dataset[\\\"x_test\\\"], columns=x.columns),\\n                    dataset[\\\"cement_types_test\\\"],\\n                    dataset[\\\"y_test\\\"],\\n                ],\\n                axis=1,\\n            ),\\n            timesteps,\\n        )\\n    else:\\n        dataset[\\\"x_train\\\"], dataset[\\\"y_train\\\"] = split_sequences(\\n            pd.concat(\\n                [\\n                    pd.DataFrame(dataset[\\\"x_train\\\"], columns=x.columns),\\n                    dataset[\\\"y_train\\\"],\\n                ],\\n                axis=1,\\n            ).values,\\n            timesteps,\\n        )\\n\\n        dataset[\\\"x_test\\\"], dataset[\\\"y_test\\\"] = split_sequences(\\n            pd.concat(\\n                [\\n                    pd.DataFrame(dataset[\\\"x_test\\\"], columns=x.columns),\\n                    dataset[\\\"y_test\\\"],\\n                ],\\n                axis=1,\\n            ).values,\\n            timesteps,\\n        )\\n    return dataset\";\n",
       "                var nbb_formatted_code = \"def generate_sequences(dataset, timesteps, split_by_cement_type=False):\\n    if split_by_cement_type:\\n        dataset[\\\"x_train\\\"], dataset[\\\"y_train\\\"] = split_sequences_per_cement_type(\\n            pd.concat(\\n                [\\n                    dataset[\\\"dates_train\\\"],\\n                    pd.DataFrame(dataset[\\\"x_train\\\"], columns=x.columns),\\n                    dataset[\\\"cement_types_train\\\"],\\n                    dataset[\\\"y_train\\\"],\\n                ],\\n                axis=1,\\n            ),\\n            timesteps,\\n        )\\n\\n        dataset[\\\"x_test\\\"], dataset[\\\"y_test\\\"] = split_sequences_per_cement_type(\\n            pd.concat(\\n                [\\n                    dataset[\\\"dates_test\\\"],\\n                    pd.DataFrame(dataset[\\\"x_test\\\"], columns=x.columns),\\n                    dataset[\\\"cement_types_test\\\"],\\n                    dataset[\\\"y_test\\\"],\\n                ],\\n                axis=1,\\n            ),\\n            timesteps,\\n        )\\n    else:\\n        dataset[\\\"x_train\\\"], dataset[\\\"y_train\\\"] = split_sequences(\\n            pd.concat(\\n                [\\n                    pd.DataFrame(dataset[\\\"x_train\\\"], columns=x.columns),\\n                    dataset[\\\"y_train\\\"],\\n                ],\\n                axis=1,\\n            ).values,\\n            timesteps,\\n        )\\n\\n        dataset[\\\"x_test\\\"], dataset[\\\"y_test\\\"] = split_sequences(\\n            pd.concat(\\n                [\\n                    pd.DataFrame(dataset[\\\"x_test\\\"], columns=x.columns),\\n                    dataset[\\\"y_test\\\"],\\n                ],\\n                axis=1,\\n            ).values,\\n            timesteps,\\n        )\\n    return dataset\";\n",
       "                var nbb_cells = Jupyter.notebook.get_cells();\n",
       "                for (var i = 0; i < nbb_cells.length; ++i) {\n",
       "                    if (nbb_cells[i].input_prompt_number == nbb_cell_id) {\n",
       "                        if (nbb_cells[i].get_text() == nbb_unformatted_code) {\n",
       "                             nbb_cells[i].set_text(nbb_formatted_code);\n",
       "                        }\n",
       "                        break;\n",
       "                    }\n",
       "                }\n",
       "            }, 500);\n",
       "            "
      ],
      "text/plain": [
       "<IPython.core.display.Javascript object>"
      ]
     },
     "metadata": {},
     "output_type": "display_data"
    }
   ],
   "source": [
    "def generate_sequences(dataset, timesteps, split_by_cement_type=False):\n",
    "    if split_by_cement_type:\n",
    "        dataset[\"x_train\"], dataset[\"y_train\"] = split_sequences_per_cement_type(\n",
    "            pd.concat(\n",
    "                [\n",
    "                    dataset[\"dates_train\"],\n",
    "                    pd.DataFrame(dataset[\"x_train\"], columns=x.columns),\n",
    "                    dataset[\"cement_types_train\"],\n",
    "                    dataset[\"y_train\"],\n",
    "                ],\n",
    "                axis=1,\n",
    "            ),\n",
    "            timesteps,\n",
    "        )\n",
    "\n",
    "        dataset[\"x_test\"], dataset[\"y_test\"] = split_sequences_per_cement_type(\n",
    "            pd.concat(\n",
    "                [\n",
    "                    dataset[\"dates_test\"],\n",
    "                    pd.DataFrame(dataset[\"x_test\"], columns=x.columns),\n",
    "                    dataset[\"cement_types_test\"],\n",
    "                    dataset[\"y_test\"],\n",
    "                ],\n",
    "                axis=1,\n",
    "            ),\n",
    "            timesteps,\n",
    "        )\n",
    "    else:\n",
    "        dataset[\"x_train\"], dataset[\"y_train\"] = split_sequences(\n",
    "            pd.concat(\n",
    "                [\n",
    "                    pd.DataFrame(dataset[\"x_train\"], columns=x.columns),\n",
    "                    dataset[\"y_train\"],\n",
    "                ],\n",
    "                axis=1,\n",
    "            ).values,\n",
    "            timesteps,\n",
    "        )\n",
    "\n",
    "        dataset[\"x_test\"], dataset[\"y_test\"] = split_sequences(\n",
    "            pd.concat(\n",
    "                [\n",
    "                    pd.DataFrame(dataset[\"x_test\"], columns=x.columns),\n",
    "                    dataset[\"y_test\"],\n",
    "                ],\n",
    "                axis=1,\n",
    "            ).values,\n",
    "            timesteps,\n",
    "        )\n",
    "    return dataset"
   ]
  },
  {
   "cell_type": "markdown",
   "id": "d6d3f38f",
   "metadata": {
    "papermill": {
     "duration": 0.015251,
     "end_time": "2024-03-03T13:38:00.913509",
     "exception": false,
     "start_time": "2024-03-03T13:38:00.898258",
     "status": "completed"
    },
    "tags": []
   },
   "source": [
    "### Data preprocessing"
   ]
  },
  {
   "cell_type": "code",
   "execution_count": 5,
   "id": "d361eeee",
   "metadata": {
    "execution": {
     "iopub.execute_input": "2024-03-03T13:38:00.945789Z",
     "iopub.status.busy": "2024-03-03T13:38:00.944989Z",
     "iopub.status.idle": "2024-03-03T13:38:00.957988Z",
     "shell.execute_reply": "2024-03-03T13:38:00.956656Z"
    },
    "papermill": {
     "duration": 0.032249,
     "end_time": "2024-03-03T13:38:00.960363",
     "exception": false,
     "start_time": "2024-03-03T13:38:00.928114",
     "status": "completed"
    },
    "tags": []
   },
   "outputs": [
    {
     "data": {
      "application/javascript": [
       "\n",
       "            setTimeout(function() {\n",
       "                var nbb_cell_id = 5;\n",
       "                var nbb_unformatted_code = \"def impute_data(dataset, imputer=None, imputer_params=None):\\n    x_train = dataset[\\\"x_train\\\"]\\n    x_test = dataset[\\\"x_test\\\"]\\n\\n    # Apply imputation to the data\\n    if imputer is not None:\\n        imputer = imputer() if imputer_params is None else imputer(**imputer_params)\\n        x_train = imputer.fit_transform(x_train)\\n        x_test = imputer.transform(x_test)\\n\\n    dataset[\\\"x_train\\\"] = x_train\\n    dataset[\\\"x_test\\\"] = x_test\\n\\n    return dataset\";\n",
       "                var nbb_formatted_code = \"def impute_data(dataset, imputer=None, imputer_params=None):\\n    x_train = dataset[\\\"x_train\\\"]\\n    x_test = dataset[\\\"x_test\\\"]\\n\\n    # Apply imputation to the data\\n    if imputer is not None:\\n        imputer = imputer() if imputer_params is None else imputer(**imputer_params)\\n        x_train = imputer.fit_transform(x_train)\\n        x_test = imputer.transform(x_test)\\n\\n    dataset[\\\"x_train\\\"] = x_train\\n    dataset[\\\"x_test\\\"] = x_test\\n\\n    return dataset\";\n",
       "                var nbb_cells = Jupyter.notebook.get_cells();\n",
       "                for (var i = 0; i < nbb_cells.length; ++i) {\n",
       "                    if (nbb_cells[i].input_prompt_number == nbb_cell_id) {\n",
       "                        if (nbb_cells[i].get_text() == nbb_unformatted_code) {\n",
       "                             nbb_cells[i].set_text(nbb_formatted_code);\n",
       "                        }\n",
       "                        break;\n",
       "                    }\n",
       "                }\n",
       "            }, 500);\n",
       "            "
      ],
      "text/plain": [
       "<IPython.core.display.Javascript object>"
      ]
     },
     "metadata": {},
     "output_type": "display_data"
    }
   ],
   "source": [
    "def impute_data(dataset, imputer=None, imputer_params=None):\n",
    "    x_train = dataset[\"x_train\"]\n",
    "    x_test = dataset[\"x_test\"]\n",
    "\n",
    "    # Apply imputation to the data\n",
    "    if imputer is not None:\n",
    "        imputer = imputer() if imputer_params is None else imputer(**imputer_params)\n",
    "        x_train = imputer.fit_transform(x_train)\n",
    "        x_test = imputer.transform(x_test)\n",
    "\n",
    "    dataset[\"x_train\"] = x_train\n",
    "    dataset[\"x_test\"] = x_test\n",
    "\n",
    "    return dataset"
   ]
  },
  {
   "cell_type": "code",
   "execution_count": 6,
   "id": "03a1bf6b",
   "metadata": {
    "execution": {
     "iopub.execute_input": "2024-03-03T13:38:00.982747Z",
     "iopub.status.busy": "2024-03-03T13:38:00.981543Z",
     "iopub.status.idle": "2024-03-03T13:38:00.996088Z",
     "shell.execute_reply": "2024-03-03T13:38:00.995021Z"
    },
    "papermill": {
     "duration": 0.02854,
     "end_time": "2024-03-03T13:38:00.998313",
     "exception": false,
     "start_time": "2024-03-03T13:38:00.969773",
     "status": "completed"
    },
    "tags": []
   },
   "outputs": [
    {
     "data": {
      "application/javascript": [
       "\n",
       "            setTimeout(function() {\n",
       "                var nbb_cell_id = 6;\n",
       "                var nbb_unformatted_code = \"def transform_data(dataset, transformer=None):\\n    x_train = dataset[\\\"x_train\\\"]\\n    x_test = dataset[\\\"x_test\\\"]\\n\\n    # Apply data normalization/standardization to the data\\n    if transformer is not None:\\n        scaler = transformer()\\n        x_train = scaler.fit_transform(x_train)\\n        x_test = scaler.transform(x_test)\\n\\n    dataset[\\\"x_train\\\"] = x_train\\n    dataset[\\\"x_test\\\"] = x_test\\n\\n    return dataset\";\n",
       "                var nbb_formatted_code = \"def transform_data(dataset, transformer=None):\\n    x_train = dataset[\\\"x_train\\\"]\\n    x_test = dataset[\\\"x_test\\\"]\\n\\n    # Apply data normalization/standardization to the data\\n    if transformer is not None:\\n        scaler = transformer()\\n        x_train = scaler.fit_transform(x_train)\\n        x_test = scaler.transform(x_test)\\n\\n    dataset[\\\"x_train\\\"] = x_train\\n    dataset[\\\"x_test\\\"] = x_test\\n\\n    return dataset\";\n",
       "                var nbb_cells = Jupyter.notebook.get_cells();\n",
       "                for (var i = 0; i < nbb_cells.length; ++i) {\n",
       "                    if (nbb_cells[i].input_prompt_number == nbb_cell_id) {\n",
       "                        if (nbb_cells[i].get_text() == nbb_unformatted_code) {\n",
       "                             nbb_cells[i].set_text(nbb_formatted_code);\n",
       "                        }\n",
       "                        break;\n",
       "                    }\n",
       "                }\n",
       "            }, 500);\n",
       "            "
      ],
      "text/plain": [
       "<IPython.core.display.Javascript object>"
      ]
     },
     "metadata": {},
     "output_type": "display_data"
    }
   ],
   "source": [
    "def transform_data(dataset, transformer=None):\n",
    "    x_train = dataset[\"x_train\"]\n",
    "    x_test = dataset[\"x_test\"]\n",
    "\n",
    "    # Apply data normalization/standardization to the data\n",
    "    if transformer is not None:\n",
    "        scaler = transformer()\n",
    "        x_train = scaler.fit_transform(x_train)\n",
    "        x_test = scaler.transform(x_test)\n",
    "\n",
    "    dataset[\"x_train\"] = x_train\n",
    "    dataset[\"x_test\"] = x_test\n",
    "\n",
    "    return dataset"
   ]
  },
  {
   "cell_type": "code",
   "execution_count": 7,
   "id": "5904da04",
   "metadata": {
    "execution": {
     "iopub.execute_input": "2024-03-03T13:38:01.022923Z",
     "iopub.status.busy": "2024-03-03T13:38:01.022444Z",
     "iopub.status.idle": "2024-03-03T13:38:01.034192Z",
     "shell.execute_reply": "2024-03-03T13:38:01.032656Z"
    },
    "papermill": {
     "duration": 0.027972,
     "end_time": "2024-03-03T13:38:01.036678",
     "exception": false,
     "start_time": "2024-03-03T13:38:01.008706",
     "status": "completed"
    },
    "tags": []
   },
   "outputs": [
    {
     "data": {
      "application/javascript": [
       "\n",
       "            setTimeout(function() {\n",
       "                var nbb_cell_id = 7;\n",
       "                var nbb_unformatted_code = \"def preprocess_data(dataset, transformer=None, imputer=None, imputer_params=None):\\n    dataset = impute_data(dataset, imputer, imputer_params)\\n    dataset = transform_data(dataset, transformer)\\n    return dataset\";\n",
       "                var nbb_formatted_code = \"def preprocess_data(dataset, transformer=None, imputer=None, imputer_params=None):\\n    dataset = impute_data(dataset, imputer, imputer_params)\\n    dataset = transform_data(dataset, transformer)\\n    return dataset\";\n",
       "                var nbb_cells = Jupyter.notebook.get_cells();\n",
       "                for (var i = 0; i < nbb_cells.length; ++i) {\n",
       "                    if (nbb_cells[i].input_prompt_number == nbb_cell_id) {\n",
       "                        if (nbb_cells[i].get_text() == nbb_unformatted_code) {\n",
       "                             nbb_cells[i].set_text(nbb_formatted_code);\n",
       "                        }\n",
       "                        break;\n",
       "                    }\n",
       "                }\n",
       "            }, 500);\n",
       "            "
      ],
      "text/plain": [
       "<IPython.core.display.Javascript object>"
      ]
     },
     "metadata": {},
     "output_type": "display_data"
    }
   ],
   "source": [
    "def preprocess_data(dataset, transformer=None, imputer=None, imputer_params=None):\n",
    "    dataset = impute_data(dataset, imputer, imputer_params)\n",
    "    dataset = transform_data(dataset, transformer)\n",
    "    return dataset"
   ]
  },
  {
   "cell_type": "markdown",
   "id": "ff03e2fa",
   "metadata": {
    "papermill": {
     "duration": 0.010596,
     "end_time": "2024-03-03T13:38:01.058837",
     "exception": false,
     "start_time": "2024-03-03T13:38:01.048241",
     "status": "completed"
    },
    "tags": []
   },
   "source": [
    "### Train and evaluate the model"
   ]
  },
  {
   "cell_type": "code",
   "execution_count": 8,
   "id": "d1edfee4",
   "metadata": {
    "execution": {
     "iopub.execute_input": "2024-03-03T13:38:01.080166Z",
     "iopub.status.busy": "2024-03-03T13:38:01.079789Z",
     "iopub.status.idle": "2024-03-03T13:38:01.094049Z",
     "shell.execute_reply": "2024-03-03T13:38:01.092794Z"
    },
    "papermill": {
     "duration": 0.026893,
     "end_time": "2024-03-03T13:38:01.096197",
     "exception": false,
     "start_time": "2024-03-03T13:38:01.069304",
     "status": "completed"
    },
    "tags": []
   },
   "outputs": [
    {
     "data": {
      "application/javascript": [
       "\n",
       "            setTimeout(function() {\n",
       "                var nbb_cell_id = 8;\n",
       "                var nbb_unformatted_code = \"def train_and_evaluate_model(Estimator, dataset, estimator_params=None):\\n    \\\"\\\"\\\"\\n    Purpose: Helper function to be used in conjunction with\\n    blocked time_series cross validation function\\n    \\\"\\\"\\\"\\n    x_train = dataset[\\\"x_train\\\"]\\n    y_train = dataset[\\\"y_train\\\"]\\n    x_test = dataset[\\\"x_test\\\"]\\n    y_test = dataset[\\\"y_test\\\"]\\n\\n    # Instantiate the model\\n    model = Estimator() if estimator_params is None else Estimator(**estimator_params)\\n\\n    # Fitting the model\\n    model.fit(x_train, y_train)\\n\\n    # Making predictions on train/test sets\\n    y_train_pred = model.predict(x_train)\\n    y_test_pred = model.predict(x_test)\\n\\n    # Return regression metrics\\n    return score_regression_metrics(y_train, y_train_pred, y_test, y_test_pred)\";\n",
       "                var nbb_formatted_code = \"def train_and_evaluate_model(Estimator, dataset, estimator_params=None):\\n    \\\"\\\"\\\"\\n    Purpose: Helper function to be used in conjunction with\\n    blocked time_series cross validation function\\n    \\\"\\\"\\\"\\n    x_train = dataset[\\\"x_train\\\"]\\n    y_train = dataset[\\\"y_train\\\"]\\n    x_test = dataset[\\\"x_test\\\"]\\n    y_test = dataset[\\\"y_test\\\"]\\n\\n    # Instantiate the model\\n    model = Estimator() if estimator_params is None else Estimator(**estimator_params)\\n\\n    # Fitting the model\\n    model.fit(x_train, y_train)\\n\\n    # Making predictions on train/test sets\\n    y_train_pred = model.predict(x_train)\\n    y_test_pred = model.predict(x_test)\\n\\n    # Return regression metrics\\n    return score_regression_metrics(y_train, y_train_pred, y_test, y_test_pred)\";\n",
       "                var nbb_cells = Jupyter.notebook.get_cells();\n",
       "                for (var i = 0; i < nbb_cells.length; ++i) {\n",
       "                    if (nbb_cells[i].input_prompt_number == nbb_cell_id) {\n",
       "                        if (nbb_cells[i].get_text() == nbb_unformatted_code) {\n",
       "                             nbb_cells[i].set_text(nbb_formatted_code);\n",
       "                        }\n",
       "                        break;\n",
       "                    }\n",
       "                }\n",
       "            }, 500);\n",
       "            "
      ],
      "text/plain": [
       "<IPython.core.display.Javascript object>"
      ]
     },
     "metadata": {},
     "output_type": "display_data"
    }
   ],
   "source": [
    "def train_and_evaluate_model(Estimator, dataset, estimator_params=None):\n",
    "    \"\"\"\n",
    "    Purpose: Helper function to be used in conjunction with\n",
    "    blocked time_series cross validation function\n",
    "    \"\"\"\n",
    "    x_train = dataset[\"x_train\"]\n",
    "    y_train = dataset[\"y_train\"]\n",
    "    x_test = dataset[\"x_test\"]\n",
    "    y_test = dataset[\"y_test\"]\n",
    "\n",
    "    # Instantiate the model\n",
    "    model = Estimator() if estimator_params is None else Estimator(**estimator_params)\n",
    "\n",
    "    # Fitting the model\n",
    "    model.fit(x_train, y_train)\n",
    "\n",
    "    # Making predictions on train/test sets\n",
    "    y_train_pred = model.predict(x_train)\n",
    "    y_test_pred = model.predict(x_test)\n",
    "\n",
    "    # Return regression metrics\n",
    "    return score_regression_metrics(y_train, y_train_pred, y_test, y_test_pred)"
   ]
  },
  {
   "cell_type": "markdown",
   "id": "8880cb1d",
   "metadata": {
    "papermill": {
     "duration": 0.01424,
     "end_time": "2024-03-03T13:38:01.125295",
     "exception": false,
     "start_time": "2024-03-03T13:38:01.111055",
     "status": "completed"
    },
    "tags": []
   },
   "source": [
    "### Custom Cross Validate"
   ]
  },
  {
   "cell_type": "code",
   "execution_count": 9,
   "id": "d91a1541",
   "metadata": {
    "execution": {
     "iopub.execute_input": "2024-03-03T13:38:01.148338Z",
     "iopub.status.busy": "2024-03-03T13:38:01.147148Z",
     "iopub.status.idle": "2024-03-03T13:38:01.187767Z",
     "shell.execute_reply": "2024-03-03T13:38:01.186494Z"
    },
    "papermill": {
     "duration": 0.054487,
     "end_time": "2024-03-03T13:38:01.190308",
     "exception": false,
     "start_time": "2024-03-03T13:38:01.135821",
     "status": "completed"
    },
    "tags": []
   },
   "outputs": [
    {
     "data": {
      "application/javascript": [
       "\n",
       "            setTimeout(function() {\n",
       "                var nbb_cell_id = 9;\n",
       "                var nbb_unformatted_code = \"def custom_cross_validate_parallelized(\\n   Estimator,\\n   Imputer,\\n   Transform,\\n   x,\\n   y,\\n   cv,\\n   timesteps,\\n   dates=None,\\n   cement_types=None,\\n   estimator_params=None,\\n   imputer_params=None,\\n   split_by_cement_type=True,\\n   n_jobs=-1,  # Set the number of parallel jobs, -1 for using all available cores\\n):\\n    def process_fold(train_index, test_index, dates, cement_types, x, y):\\n        dataset = {\\n           \\\"dates_train\\\": dates[train_index].reset_index(drop=True),\\n           \\\"cement_types_train\\\": cement_types.loc[train_index].reset_index(drop=True),\\n           \\\"x_train\\\": x.loc[train_index].reset_index(drop=True),\\n           \\\"y_train\\\": y[train_index].reset_index(drop=True),\\n           \\\"dates_test\\\": dates[test_index].reset_index(drop=True),\\n           \\\"cement_types_test\\\": cement_types.loc[test_index].reset_index(drop=True),\\n           \\\"x_test\\\": x.loc[test_index].reset_index(drop=True),\\n           \\\"y_test\\\": y[test_index].reset_index(drop=True),\\n        }\\n\\n\\n        set_seeds()\\n\\n        # Preprocess the dataset\\n        dataset = preprocess_data(dataset, Transform, Imputer, imputer_params)\\n\\n        # generate sequences (3D format)\\n        dataset = generate_sequences(dataset, timesteps, split_by_cement_type)\\n\\n        # Train and Evaluate the model\\n        score = train_and_evaluate_model(Estimator, dataset, estimator_params)\\n        return score\\n\\n    scores = Parallel(n_jobs=n_jobs)(\\n    delayed(process_fold)(train_index, test_index, dates, cement_types, x, y)\\n    for train_index, test_index in cv.split(x)\\n    )\\n\\n    # After every iteration metrics results are appended together\\n    scores_final = {key: [] for key, _ in scores[0].items()}\\n    for scores_dict in scores:\\n        for key, value in scores_dict.items():\\n            scores_final[key] += [value]\\n\\n    results = [scores_final]\\n    return results\";\n",
       "                var nbb_formatted_code = \"def custom_cross_validate_parallelized(\\n    Estimator,\\n    Imputer,\\n    Transform,\\n    x,\\n    y,\\n    cv,\\n    timesteps,\\n    dates=None,\\n    cement_types=None,\\n    estimator_params=None,\\n    imputer_params=None,\\n    split_by_cement_type=True,\\n    n_jobs=-1,  # Set the number of parallel jobs, -1 for using all available cores\\n):\\n    def process_fold(train_index, test_index, dates, cement_types, x, y):\\n        dataset = {\\n            \\\"dates_train\\\": dates[train_index].reset_index(drop=True),\\n            \\\"cement_types_train\\\": cement_types.loc[train_index].reset_index(drop=True),\\n            \\\"x_train\\\": x.loc[train_index].reset_index(drop=True),\\n            \\\"y_train\\\": y[train_index].reset_index(drop=True),\\n            \\\"dates_test\\\": dates[test_index].reset_index(drop=True),\\n            \\\"cement_types_test\\\": cement_types.loc[test_index].reset_index(drop=True),\\n            \\\"x_test\\\": x.loc[test_index].reset_index(drop=True),\\n            \\\"y_test\\\": y[test_index].reset_index(drop=True),\\n        }\\n\\n        set_seeds()\\n\\n        # Preprocess the dataset\\n        dataset = preprocess_data(dataset, Transform, Imputer, imputer_params)\\n\\n        # generate sequences (3D format)\\n        dataset = generate_sequences(dataset, timesteps, split_by_cement_type)\\n\\n        # Train and Evaluate the model\\n        score = train_and_evaluate_model(Estimator, dataset, estimator_params)\\n        return score\\n\\n    scores = Parallel(n_jobs=n_jobs)(\\n        delayed(process_fold)(train_index, test_index, dates, cement_types, x, y)\\n        for train_index, test_index in cv.split(x)\\n    )\\n\\n    # After every iteration metrics results are appended together\\n    scores_final = {key: [] for key, _ in scores[0].items()}\\n    for scores_dict in scores:\\n        for key, value in scores_dict.items():\\n            scores_final[key] += [value]\\n\\n    results = [scores_final]\\n    return results\";\n",
       "                var nbb_cells = Jupyter.notebook.get_cells();\n",
       "                for (var i = 0; i < nbb_cells.length; ++i) {\n",
       "                    if (nbb_cells[i].input_prompt_number == nbb_cell_id) {\n",
       "                        if (nbb_cells[i].get_text() == nbb_unformatted_code) {\n",
       "                             nbb_cells[i].set_text(nbb_formatted_code);\n",
       "                        }\n",
       "                        break;\n",
       "                    }\n",
       "                }\n",
       "            }, 500);\n",
       "            "
      ],
      "text/plain": [
       "<IPython.core.display.Javascript object>"
      ]
     },
     "metadata": {},
     "output_type": "display_data"
    }
   ],
   "source": [
    "def custom_cross_validate_parallelized(\n",
    "   Estimator,\n",
    "   Imputer,\n",
    "   Transform,\n",
    "   x,\n",
    "   y,\n",
    "   cv,\n",
    "   timesteps,\n",
    "   dates=None,\n",
    "   cement_types=None,\n",
    "   estimator_params=None,\n",
    "   imputer_params=None,\n",
    "   split_by_cement_type=True,\n",
    "   n_jobs=-1,  # Set the number of parallel jobs, -1 for using all available cores\n",
    "):\n",
    "    def process_fold(train_index, test_index, dates, cement_types, x, y):\n",
    "        dataset = {\n",
    "           \"dates_train\": dates[train_index].reset_index(drop=True),\n",
    "           \"cement_types_train\": cement_types.loc[train_index].reset_index(drop=True),\n",
    "           \"x_train\": x.loc[train_index].reset_index(drop=True),\n",
    "           \"y_train\": y[train_index].reset_index(drop=True),\n",
    "           \"dates_test\": dates[test_index].reset_index(drop=True),\n",
    "           \"cement_types_test\": cement_types.loc[test_index].reset_index(drop=True),\n",
    "           \"x_test\": x.loc[test_index].reset_index(drop=True),\n",
    "           \"y_test\": y[test_index].reset_index(drop=True),\n",
    "        }\n",
    "\n",
    "\n",
    "        set_seeds()\n",
    "\n",
    "        # Preprocess the dataset\n",
    "        dataset = preprocess_data(dataset, Transform, Imputer, imputer_params)\n",
    "\n",
    "        # generate sequences (3D format)\n",
    "        dataset = generate_sequences(dataset, timesteps, split_by_cement_type)\n",
    "\n",
    "        # Train and Evaluate the model\n",
    "        score = train_and_evaluate_model(Estimator, dataset, estimator_params)\n",
    "        return score\n",
    "\n",
    "    scores = Parallel(n_jobs=n_jobs)(\n",
    "    delayed(process_fold)(train_index, test_index, dates, cement_types, x, y)\n",
    "    for train_index, test_index in cv.split(x)\n",
    "    )\n",
    "\n",
    "    # After every iteration metrics results are appended together\n",
    "    scores_final = {key: [] for key, _ in scores[0].items()}\n",
    "    for scores_dict in scores:\n",
    "        for key, value in scores_dict.items():\n",
    "            scores_final[key] += [value]\n",
    "\n",
    "    results = [scores_final]\n",
    "    return results\n"
   ]
  },
  {
   "cell_type": "markdown",
   "id": "7b1c3da2",
   "metadata": {
    "papermill": {
     "duration": 0.011597,
     "end_time": "2024-03-03T13:38:01.212266",
     "exception": false,
     "start_time": "2024-03-03T13:38:01.200669",
     "status": "completed"
    },
    "tags": []
   },
   "source": [
    "## Model Definition"
   ]
  },
  {
   "cell_type": "code",
   "execution_count": 10,
   "id": "6b0052e3",
   "metadata": {
    "execution": {
     "iopub.execute_input": "2024-03-03T13:38:01.235873Z",
     "iopub.status.busy": "2024-03-03T13:38:01.235067Z",
     "iopub.status.idle": "2024-03-03T13:38:01.257503Z",
     "shell.execute_reply": "2024-03-03T13:38:01.256102Z"
    },
    "papermill": {
     "duration": 0.037565,
     "end_time": "2024-03-03T13:38:01.259597",
     "exception": false,
     "start_time": "2024-03-03T13:38:01.222032",
     "status": "completed"
    },
    "tags": []
   },
   "outputs": [
    {
     "data": {
      "application/javascript": [
       "\n",
       "            setTimeout(function() {\n",
       "                var nbb_cell_id = 10;\n",
       "                var nbb_unformatted_code = \"class BidirectionalGRU(BaseEstimator, RegressorMixin):\\n    def __init__(self):\\n        self.model = self.get_model()\\n        self.batch_size = 16\\n        self.epochs = 300\\n        self.verbose = 0\\n\\n    def fit(self, X=None, y=None):\\n        self.model.fit(\\n            X, y, batch_size=self.batch_size, epochs=self.epochs, verbose=self.verbose\\n        )\\n\\n    def predict(self, X=None):\\n        return self.model.predict(X, verbose=self.verbose)\\n\\n    def get_model(self):\\n        model = tf.keras.Sequential()\\n        model.add(\\n            tf.keras.layers.Bidirectional(\\n                tf.keras.layers.GRU(units=16, activation=\\\"relu\\\")\\n            )\\n        ),\\n        model.add(tf.keras.layers.Dropout(rate=0.10))\\n        model.add(tf.keras.layers.Dense(units=1))\\n        model.compile(\\n            optimizer=tf.keras.optimizers.legacy.Adam(learning_rate=0.001),\\n            loss=\\\"mse\\\",\\n            metrics=[tf.keras.metrics.RootMeanSquaredError(name=\\\"RMSE\\\")],\\n        )\\n        return model\";\n",
       "                var nbb_formatted_code = \"class BidirectionalGRU(BaseEstimator, RegressorMixin):\\n    def __init__(self):\\n        self.model = self.get_model()\\n        self.batch_size = 16\\n        self.epochs = 300\\n        self.verbose = 0\\n\\n    def fit(self, X=None, y=None):\\n        self.model.fit(\\n            X, y, batch_size=self.batch_size, epochs=self.epochs, verbose=self.verbose\\n        )\\n\\n    def predict(self, X=None):\\n        return self.model.predict(X, verbose=self.verbose)\\n\\n    def get_model(self):\\n        model = tf.keras.Sequential()\\n        model.add(\\n            tf.keras.layers.Bidirectional(\\n                tf.keras.layers.GRU(units=16, activation=\\\"relu\\\")\\n            )\\n        ),\\n        model.add(tf.keras.layers.Dropout(rate=0.10))\\n        model.add(tf.keras.layers.Dense(units=1))\\n        model.compile(\\n            optimizer=tf.keras.optimizers.legacy.Adam(learning_rate=0.001),\\n            loss=\\\"mse\\\",\\n            metrics=[tf.keras.metrics.RootMeanSquaredError(name=\\\"RMSE\\\")],\\n        )\\n        return model\";\n",
       "                var nbb_cells = Jupyter.notebook.get_cells();\n",
       "                for (var i = 0; i < nbb_cells.length; ++i) {\n",
       "                    if (nbb_cells[i].input_prompt_number == nbb_cell_id) {\n",
       "                        if (nbb_cells[i].get_text() == nbb_unformatted_code) {\n",
       "                             nbb_cells[i].set_text(nbb_formatted_code);\n",
       "                        }\n",
       "                        break;\n",
       "                    }\n",
       "                }\n",
       "            }, 500);\n",
       "            "
      ],
      "text/plain": [
       "<IPython.core.display.Javascript object>"
      ]
     },
     "metadata": {},
     "output_type": "display_data"
    }
   ],
   "source": [
    "class BidirectionalGRU(BaseEstimator, RegressorMixin):\n",
    "    def __init__(self):\n",
    "        self.model = self.get_model()\n",
    "        self.batch_size = 16\n",
    "        self.epochs = 300\n",
    "        self.verbose = 0\n",
    "\n",
    "    def fit(self, X=None, y=None):\n",
    "        self.model.fit(\n",
    "            X, y, batch_size=self.batch_size, epochs=self.epochs, verbose=self.verbose\n",
    "        )\n",
    "\n",
    "    def predict(self, X=None):\n",
    "        return self.model.predict(X, verbose=self.verbose)\n",
    "\n",
    "    def get_model(self):\n",
    "        model = tf.keras.Sequential()\n",
    "        model.add(\n",
    "            tf.keras.layers.Bidirectional(\n",
    "                tf.keras.layers.GRU(units=16, activation=\"relu\")\n",
    "            )\n",
    "        ),\n",
    "        model.add(tf.keras.layers.Dropout(rate=0.10))\n",
    "        model.add(tf.keras.layers.Dense(units=1))\n",
    "        model.compile(\n",
    "            optimizer=tf.keras.optimizers.legacy.Adam(learning_rate=0.001),\n",
    "            loss=\"mse\",\n",
    "            metrics=[tf.keras.metrics.RootMeanSquaredError(name=\"RMSE\")],\n",
    "        )\n",
    "        return model"
   ]
  },
  {
   "cell_type": "code",
   "execution_count": 11,
   "id": "e0de36c9",
   "metadata": {
    "execution": {
     "iopub.execute_input": "2024-03-03T13:38:01.286066Z",
     "iopub.status.busy": "2024-03-03T13:38:01.284963Z",
     "iopub.status.idle": "2024-03-03T13:38:01.299508Z",
     "shell.execute_reply": "2024-03-03T13:38:01.298429Z"
    },
    "papermill": {
     "duration": 0.028725,
     "end_time": "2024-03-03T13:38:01.301234",
     "exception": false,
     "start_time": "2024-03-03T13:38:01.272509",
     "status": "completed"
    },
    "tags": []
   },
   "outputs": [
    {
     "data": {
      "application/javascript": [
       "\n",
       "            setTimeout(function() {\n",
       "                var nbb_cell_id = 11;\n",
       "                var nbb_unformatted_code = \"def pad_time_series(dataframe, timesteps):\\n    \\\"\\\"\\\"\\n    Pad timeseries with zeros\\n    \\\"\\\"\\\"\\n    df_tmp = pd.DataFrame(\\n        dict(\\n            zip(\\n                dataframe.columns,\\n                [[0 for _ in range(timesteps - 1)] for _ in range(dataframe.shape[1])],\\n            )\\n        )\\n    )\\n    df_tmp[DATE] = dataframe[DATE].iloc[0]\\n    return pd.concat([df_tmp, dataframe], axis=0).reset_index(drop=True)\";\n",
       "                var nbb_formatted_code = \"def pad_time_series(dataframe, timesteps):\\n    \\\"\\\"\\\"\\n    Pad timeseries with zeros\\n    \\\"\\\"\\\"\\n    df_tmp = pd.DataFrame(\\n        dict(\\n            zip(\\n                dataframe.columns,\\n                [[0 for _ in range(timesteps - 1)] for _ in range(dataframe.shape[1])],\\n            )\\n        )\\n    )\\n    df_tmp[DATE] = dataframe[DATE].iloc[0]\\n    return pd.concat([df_tmp, dataframe], axis=0).reset_index(drop=True)\";\n",
       "                var nbb_cells = Jupyter.notebook.get_cells();\n",
       "                for (var i = 0; i < nbb_cells.length; ++i) {\n",
       "                    if (nbb_cells[i].input_prompt_number == nbb_cell_id) {\n",
       "                        if (nbb_cells[i].get_text() == nbb_unformatted_code) {\n",
       "                             nbb_cells[i].set_text(nbb_formatted_code);\n",
       "                        }\n",
       "                        break;\n",
       "                    }\n",
       "                }\n",
       "            }, 500);\n",
       "            "
      ],
      "text/plain": [
       "<IPython.core.display.Javascript object>"
      ]
     },
     "metadata": {},
     "output_type": "display_data"
    }
   ],
   "source": [
    "def pad_time_series(dataframe, timesteps):\n",
    "    \"\"\"\n",
    "    Pad timeseries with zeros\n",
    "    \"\"\"\n",
    "    df_tmp = pd.DataFrame(\n",
    "        dict(\n",
    "            zip(\n",
    "                dataframe.columns,\n",
    "                [[0 for _ in range(timesteps - 1)] for _ in range(dataframe.shape[1])],\n",
    "            )\n",
    "        )\n",
    "    )\n",
    "    df_tmp[DATE] = dataframe[DATE].iloc[0]\n",
    "    return pd.concat([df_tmp, dataframe], axis=0).reset_index(drop=True)"
   ]
  },
  {
   "cell_type": "code",
   "execution_count": 12,
   "id": "d7c0c701",
   "metadata": {
    "execution": {
     "iopub.execute_input": "2024-03-03T13:38:01.327780Z",
     "iopub.status.busy": "2024-03-03T13:38:01.327330Z",
     "iopub.status.idle": "2024-03-03T13:38:01.352081Z",
     "shell.execute_reply": "2024-03-03T13:38:01.350834Z"
    },
    "papermill": {
     "duration": 0.040095,
     "end_time": "2024-03-03T13:38:01.354289",
     "exception": false,
     "start_time": "2024-03-03T13:38:01.314194",
     "status": "completed"
    },
    "tags": []
   },
   "outputs": [
    {
     "data": {
      "application/javascript": [
       "\n",
       "            setTimeout(function() {\n",
       "                var nbb_cell_id = 12;\n",
       "                var nbb_unformatted_code = \"def split_sequences_per_cement_type(dataframe, timesteps, pad=False):\\n    \\\"\\\"\\\"\\n    Create sequences per cement time\\n    to avoid having parts of the sequence\\n    of different types of cement.\\n    \\\"\\\"\\\"\\n    if timesteps == 1:\\n        return split_sequences(\\n            dataframe.drop([DATE] + CEMENT_TYPES, axis=1).values, timesteps\\n        )\\n\\n    dates = dataframe[DATE][timesteps - 1 :]\\n    data = []\\n    dataframes = []\\n\\n    for cement_type in CEMENT_TYPES:\\n        data.append(dataframe[dataframe[cement_type] == 1])\\n    data.append(dataframe[(dataframe[CEMENT_TYPES] == 0).all(axis=1)])\\n\\n    for df in data:\\n        if pad:\\n            dates = df[DATE].reset_index(drop=True)\\n            df = pad_time_series(df, timesteps).reset_index(drop=True)\\n        else:\\n            dates = df[DATE][timesteps - 1 :].reset_index(drop=True)\\n        x, y = split_sequences(df.drop([DATE] + CEMENT_TYPES, axis=1).values, timesteps)\\n        x = pd.DataFrame({\\\"Sequences\\\": [sample.tolist() for sample in x]})\\n        y = pd.DataFrame({\\\"Target\\\": y})\\n        dataframes.append(pd.concat([dates, x, y], axis=1))\\n\\n    data = pd.concat(dataframes, axis=0)\\n    data[DATE] = pd.to_datetime(data[DATE])\\n    data = data.sort_values(by=DATE).reset_index(drop=True)\\n    x = data[\\\"Sequences\\\"]\\n    y = data[\\\"Target\\\"].values\\n    x = np.array(x.tolist())\\n\\n    return x, y\";\n",
       "                var nbb_formatted_code = \"def split_sequences_per_cement_type(dataframe, timesteps, pad=False):\\n    \\\"\\\"\\\"\\n    Create sequences per cement time\\n    to avoid having parts of the sequence\\n    of different types of cement.\\n    \\\"\\\"\\\"\\n    if timesteps == 1:\\n        return split_sequences(\\n            dataframe.drop([DATE] + CEMENT_TYPES, axis=1).values, timesteps\\n        )\\n\\n    dates = dataframe[DATE][timesteps - 1 :]\\n    data = []\\n    dataframes = []\\n\\n    for cement_type in CEMENT_TYPES:\\n        data.append(dataframe[dataframe[cement_type] == 1])\\n    data.append(dataframe[(dataframe[CEMENT_TYPES] == 0).all(axis=1)])\\n\\n    for df in data:\\n        if pad:\\n            dates = df[DATE].reset_index(drop=True)\\n            df = pad_time_series(df, timesteps).reset_index(drop=True)\\n        else:\\n            dates = df[DATE][timesteps - 1 :].reset_index(drop=True)\\n        x, y = split_sequences(df.drop([DATE] + CEMENT_TYPES, axis=1).values, timesteps)\\n        x = pd.DataFrame({\\\"Sequences\\\": [sample.tolist() for sample in x]})\\n        y = pd.DataFrame({\\\"Target\\\": y})\\n        dataframes.append(pd.concat([dates, x, y], axis=1))\\n\\n    data = pd.concat(dataframes, axis=0)\\n    data[DATE] = pd.to_datetime(data[DATE])\\n    data = data.sort_values(by=DATE).reset_index(drop=True)\\n    x = data[\\\"Sequences\\\"]\\n    y = data[\\\"Target\\\"].values\\n    x = np.array(x.tolist())\\n\\n    return x, y\";\n",
       "                var nbb_cells = Jupyter.notebook.get_cells();\n",
       "                for (var i = 0; i < nbb_cells.length; ++i) {\n",
       "                    if (nbb_cells[i].input_prompt_number == nbb_cell_id) {\n",
       "                        if (nbb_cells[i].get_text() == nbb_unformatted_code) {\n",
       "                             nbb_cells[i].set_text(nbb_formatted_code);\n",
       "                        }\n",
       "                        break;\n",
       "                    }\n",
       "                }\n",
       "            }, 500);\n",
       "            "
      ],
      "text/plain": [
       "<IPython.core.display.Javascript object>"
      ]
     },
     "metadata": {},
     "output_type": "display_data"
    }
   ],
   "source": [
    "def split_sequences_per_cement_type(dataframe, timesteps, pad=False):\n",
    "    \"\"\"\n",
    "    Create sequences per cement time\n",
    "    to avoid having parts of the sequence\n",
    "    of different types of cement.\n",
    "    \"\"\"\n",
    "    if timesteps == 1:\n",
    "        return split_sequences(\n",
    "            dataframe.drop([DATE] + CEMENT_TYPES, axis=1).values, timesteps\n",
    "        )\n",
    "\n",
    "    dates = dataframe[DATE][timesteps - 1 :]\n",
    "    data = []\n",
    "    dataframes = []\n",
    "\n",
    "    for cement_type in CEMENT_TYPES:\n",
    "        data.append(dataframe[dataframe[cement_type] == 1])\n",
    "    data.append(dataframe[(dataframe[CEMENT_TYPES] == 0).all(axis=1)])\n",
    "\n",
    "    for df in data:\n",
    "        if pad:\n",
    "            dates = df[DATE].reset_index(drop=True)\n",
    "            df = pad_time_series(df, timesteps).reset_index(drop=True)\n",
    "        else:\n",
    "            dates = df[DATE][timesteps - 1 :].reset_index(drop=True)\n",
    "        x, y = split_sequences(df.drop([DATE] + CEMENT_TYPES, axis=1).values, timesteps)\n",
    "        x = pd.DataFrame({\"Sequences\": [sample.tolist() for sample in x]})\n",
    "        y = pd.DataFrame({\"Target\": y})\n",
    "        dataframes.append(pd.concat([dates, x, y], axis=1))\n",
    "\n",
    "    data = pd.concat(dataframes, axis=0)\n",
    "    data[DATE] = pd.to_datetime(data[DATE])\n",
    "    data = data.sort_values(by=DATE).reset_index(drop=True)\n",
    "    x = data[\"Sequences\"]\n",
    "    y = data[\"Target\"].values\n",
    "    x = np.array(x.tolist())\n",
    "\n",
    "    return x, y"
   ]
  },
  {
   "cell_type": "markdown",
   "id": "fb139be5",
   "metadata": {
    "papermill": {
     "duration": 0.015203,
     "end_time": "2024-03-03T13:38:01.382398",
     "exception": false,
     "start_time": "2024-03-03T13:38:01.367195",
     "status": "completed"
    },
    "tags": []
   },
   "source": [
    "# Settings for Reproducibility"
   ]
  },
  {
   "cell_type": "code",
   "execution_count": 13,
   "id": "e1a7dfb7",
   "metadata": {
    "execution": {
     "iopub.execute_input": "2024-03-03T13:38:01.415882Z",
     "iopub.status.busy": "2024-03-03T13:38:01.415392Z",
     "iopub.status.idle": "2024-03-03T13:38:01.424765Z",
     "shell.execute_reply": "2024-03-03T13:38:01.423444Z"
    },
    "papermill": {
     "duration": 0.030233,
     "end_time": "2024-03-03T13:38:01.427073",
     "exception": false,
     "start_time": "2024-03-03T13:38:01.396840",
     "status": "completed"
    },
    "tags": []
   },
   "outputs": [
    {
     "data": {
      "application/javascript": [
       "\n",
       "            setTimeout(function() {\n",
       "                var nbb_cell_id = 13;\n",
       "                var nbb_unformatted_code = \"SEED = 47\";\n",
       "                var nbb_formatted_code = \"SEED = 47\";\n",
       "                var nbb_cells = Jupyter.notebook.get_cells();\n",
       "                for (var i = 0; i < nbb_cells.length; ++i) {\n",
       "                    if (nbb_cells[i].input_prompt_number == nbb_cell_id) {\n",
       "                        if (nbb_cells[i].get_text() == nbb_unformatted_code) {\n",
       "                             nbb_cells[i].set_text(nbb_formatted_code);\n",
       "                        }\n",
       "                        break;\n",
       "                    }\n",
       "                }\n",
       "            }, 500);\n",
       "            "
      ],
      "text/plain": [
       "<IPython.core.display.Javascript object>"
      ]
     },
     "metadata": {},
     "output_type": "display_data"
    }
   ],
   "source": [
    "SEED = 47"
   ]
  },
  {
   "cell_type": "code",
   "execution_count": 14,
   "id": "667baa5e",
   "metadata": {
    "execution": {
     "iopub.execute_input": "2024-03-03T13:38:01.455473Z",
     "iopub.status.busy": "2024-03-03T13:38:01.454210Z",
     "iopub.status.idle": "2024-03-03T13:38:01.465773Z",
     "shell.execute_reply": "2024-03-03T13:38:01.465015Z"
    },
    "papermill": {
     "duration": 0.028598,
     "end_time": "2024-03-03T13:38:01.467721",
     "exception": false,
     "start_time": "2024-03-03T13:38:01.439123",
     "status": "completed"
    },
    "tags": []
   },
   "outputs": [
    {
     "data": {
      "application/javascript": [
       "\n",
       "            setTimeout(function() {\n",
       "                var nbb_cell_id = 14;\n",
       "                var nbb_unformatted_code = \"def set_seeds(seed=SEED):\\n    os.environ[\\\"PYTHONHASHSEED\\\"] = str(seed)\\n    tf.random.set_seed(seed)\\n    np.random.seed(seed)\\n    random.seed(seed)\\n\\n\\n# https://stackoverflow.com/questions/36288235/how-to-get-stable-results-with-tensorflow-setting-random-seed\";\n",
       "                var nbb_formatted_code = \"def set_seeds(seed=SEED):\\n    os.environ[\\\"PYTHONHASHSEED\\\"] = str(seed)\\n    tf.random.set_seed(seed)\\n    np.random.seed(seed)\\n    random.seed(seed)\\n\\n\\n# https://stackoverflow.com/questions/36288235/how-to-get-stable-results-with-tensorflow-setting-random-seed\";\n",
       "                var nbb_cells = Jupyter.notebook.get_cells();\n",
       "                for (var i = 0; i < nbb_cells.length; ++i) {\n",
       "                    if (nbb_cells[i].input_prompt_number == nbb_cell_id) {\n",
       "                        if (nbb_cells[i].get_text() == nbb_unformatted_code) {\n",
       "                             nbb_cells[i].set_text(nbb_formatted_code);\n",
       "                        }\n",
       "                        break;\n",
       "                    }\n",
       "                }\n",
       "            }, 500);\n",
       "            "
      ],
      "text/plain": [
       "<IPython.core.display.Javascript object>"
      ]
     },
     "metadata": {},
     "output_type": "display_data"
    }
   ],
   "source": [
    "def set_seeds(seed=SEED):\n",
    "    os.environ[\"PYTHONHASHSEED\"] = str(seed)\n",
    "    tf.random.set_seed(seed)\n",
    "    np.random.seed(seed)\n",
    "    random.seed(seed)\n",
    "\n",
    "\n",
    "# https://stackoverflow.com/questions/36288235/how-to-get-stable-results-with-tensorflow-setting-random-seed"
   ]
  },
  {
   "cell_type": "code",
   "execution_count": 15,
   "id": "39497c31",
   "metadata": {
    "execution": {
     "iopub.execute_input": "2024-03-03T13:38:01.494314Z",
     "iopub.status.busy": "2024-03-03T13:38:01.493830Z",
     "iopub.status.idle": "2024-03-03T13:38:01.506280Z",
     "shell.execute_reply": "2024-03-03T13:38:01.504950Z"
    },
    "papermill": {
     "duration": 0.028231,
     "end_time": "2024-03-03T13:38:01.508571",
     "exception": false,
     "start_time": "2024-03-03T13:38:01.480340",
     "status": "completed"
    },
    "tags": []
   },
   "outputs": [
    {
     "data": {
      "application/javascript": [
       "\n",
       "            setTimeout(function() {\n",
       "                var nbb_cell_id = 15;\n",
       "                var nbb_unformatted_code = \"def set_global_determinism():\\n    set_seeds(seed=SEED)\\n\\n    os.environ[\\\"TF_DETERMINISTIC_OPS\\\"] = \\\"1\\\"\\n    os.environ[\\\"TF_CUDNN_DETERMINISTIC\\\"] = \\\"1\\\"\\n\\n    tf.config.threading.set_inter_op_parallelism_threads(1)\\n    tf.config.threading.set_intra_op_parallelism_threads(1)\";\n",
       "                var nbb_formatted_code = \"def set_global_determinism():\\n    set_seeds(seed=SEED)\\n\\n    os.environ[\\\"TF_DETERMINISTIC_OPS\\\"] = \\\"1\\\"\\n    os.environ[\\\"TF_CUDNN_DETERMINISTIC\\\"] = \\\"1\\\"\\n\\n    tf.config.threading.set_inter_op_parallelism_threads(1)\\n    tf.config.threading.set_intra_op_parallelism_threads(1)\";\n",
       "                var nbb_cells = Jupyter.notebook.get_cells();\n",
       "                for (var i = 0; i < nbb_cells.length; ++i) {\n",
       "                    if (nbb_cells[i].input_prompt_number == nbb_cell_id) {\n",
       "                        if (nbb_cells[i].get_text() == nbb_unformatted_code) {\n",
       "                             nbb_cells[i].set_text(nbb_formatted_code);\n",
       "                        }\n",
       "                        break;\n",
       "                    }\n",
       "                }\n",
       "            }, 500);\n",
       "            "
      ],
      "text/plain": [
       "<IPython.core.display.Javascript object>"
      ]
     },
     "metadata": {},
     "output_type": "display_data"
    }
   ],
   "source": [
    "def set_global_determinism():\n",
    "    set_seeds(seed=SEED)\n",
    "\n",
    "    os.environ[\"TF_DETERMINISTIC_OPS\"] = \"1\"\n",
    "    os.environ[\"TF_CUDNN_DETERMINISTIC\"] = \"1\"\n",
    "\n",
    "    tf.config.threading.set_inter_op_parallelism_threads(1)\n",
    "    tf.config.threading.set_intra_op_parallelism_threads(1)"
   ]
  },
  {
   "cell_type": "code",
   "execution_count": 16,
   "id": "4aa9d78e",
   "metadata": {
    "execution": {
     "iopub.execute_input": "2024-03-03T13:38:01.543779Z",
     "iopub.status.busy": "2024-03-03T13:38:01.543239Z",
     "iopub.status.idle": "2024-03-03T13:38:01.552392Z",
     "shell.execute_reply": "2024-03-03T13:38:01.551314Z"
    },
    "papermill": {
     "duration": 0.029419,
     "end_time": "2024-03-03T13:38:01.554315",
     "exception": false,
     "start_time": "2024-03-03T13:38:01.524896",
     "status": "completed"
    },
    "tags": []
   },
   "outputs": [
    {
     "data": {
      "application/javascript": [
       "\n",
       "            setTimeout(function() {\n",
       "                var nbb_cell_id = 16;\n",
       "                var nbb_unformatted_code = \"def suppress_warnings():\\n    os.environ[\\\"TF_CPP_MIN_LOG_LEVEL\\\"] = \\\"3\\\"\";\n",
       "                var nbb_formatted_code = \"def suppress_warnings():\\n    os.environ[\\\"TF_CPP_MIN_LOG_LEVEL\\\"] = \\\"3\\\"\";\n",
       "                var nbb_cells = Jupyter.notebook.get_cells();\n",
       "                for (var i = 0; i < nbb_cells.length; ++i) {\n",
       "                    if (nbb_cells[i].input_prompt_number == nbb_cell_id) {\n",
       "                        if (nbb_cells[i].get_text() == nbb_unformatted_code) {\n",
       "                             nbb_cells[i].set_text(nbb_formatted_code);\n",
       "                        }\n",
       "                        break;\n",
       "                    }\n",
       "                }\n",
       "            }, 500);\n",
       "            "
      ],
      "text/plain": [
       "<IPython.core.display.Javascript object>"
      ]
     },
     "metadata": {},
     "output_type": "display_data"
    }
   ],
   "source": [
    "def suppress_warnings():\n",
    "    os.environ[\"TF_CPP_MIN_LOG_LEVEL\"] = \"3\""
   ]
  },
  {
   "cell_type": "code",
   "execution_count": 17,
   "id": "292ba354",
   "metadata": {
    "execution": {
     "iopub.execute_input": "2024-03-03T13:38:01.584222Z",
     "iopub.status.busy": "2024-03-03T13:38:01.583217Z",
     "iopub.status.idle": "2024-03-03T13:38:01.592797Z",
     "shell.execute_reply": "2024-03-03T13:38:01.591359Z"
    },
    "papermill": {
     "duration": 0.026868,
     "end_time": "2024-03-03T13:38:01.595010",
     "exception": false,
     "start_time": "2024-03-03T13:38:01.568142",
     "status": "completed"
    },
    "tags": []
   },
   "outputs": [
    {
     "data": {
      "application/javascript": [
       "\n",
       "            setTimeout(function() {\n",
       "                var nbb_cell_id = 17;\n",
       "                var nbb_unformatted_code = \"def supress_other_stuff():\\n    os.environ[\\\"CUDA_VISIBLE_DEVICES\\\"] = \\\"\\\"\\n    # os.environ[\\\"TF_ENABLE_ONEDNN_OPTS\\\"] = \\\"0\\\"\";\n",
       "                var nbb_formatted_code = \"def supress_other_stuff():\\n    os.environ[\\\"CUDA_VISIBLE_DEVICES\\\"] = \\\"\\\"\\n    # os.environ[\\\"TF_ENABLE_ONEDNN_OPTS\\\"] = \\\"0\\\"\";\n",
       "                var nbb_cells = Jupyter.notebook.get_cells();\n",
       "                for (var i = 0; i < nbb_cells.length; ++i) {\n",
       "                    if (nbb_cells[i].input_prompt_number == nbb_cell_id) {\n",
       "                        if (nbb_cells[i].get_text() == nbb_unformatted_code) {\n",
       "                             nbb_cells[i].set_text(nbb_formatted_code);\n",
       "                        }\n",
       "                        break;\n",
       "                    }\n",
       "                }\n",
       "            }, 500);\n",
       "            "
      ],
      "text/plain": [
       "<IPython.core.display.Javascript object>"
      ]
     },
     "metadata": {},
     "output_type": "display_data"
    }
   ],
   "source": [
    "def supress_other_stuff():\n",
    "    os.environ[\"CUDA_VISIBLE_DEVICES\"] = \"\"\n",
    "    # os.environ[\"TF_ENABLE_ONEDNN_OPTS\"] = \"0\""
   ]
  },
  {
   "cell_type": "code",
   "execution_count": 18,
   "id": "e3adda02",
   "metadata": {
    "execution": {
     "iopub.execute_input": "2024-03-03T13:38:01.624798Z",
     "iopub.status.busy": "2024-03-03T13:38:01.624441Z",
     "iopub.status.idle": "2024-03-03T13:38:01.632823Z",
     "shell.execute_reply": "2024-03-03T13:38:01.631540Z"
    },
    "papermill": {
     "duration": 0.023756,
     "end_time": "2024-03-03T13:38:01.634713",
     "exception": false,
     "start_time": "2024-03-03T13:38:01.610957",
     "status": "completed"
    },
    "tags": []
   },
   "outputs": [
    {
     "data": {
      "application/javascript": [
       "\n",
       "            setTimeout(function() {\n",
       "                var nbb_cell_id = 18;\n",
       "                var nbb_unformatted_code = \"suppress_warnings()\\nsupress_other_stuff()\";\n",
       "                var nbb_formatted_code = \"suppress_warnings()\\nsupress_other_stuff()\";\n",
       "                var nbb_cells = Jupyter.notebook.get_cells();\n",
       "                for (var i = 0; i < nbb_cells.length; ++i) {\n",
       "                    if (nbb_cells[i].input_prompt_number == nbb_cell_id) {\n",
       "                        if (nbb_cells[i].get_text() == nbb_unformatted_code) {\n",
       "                             nbb_cells[i].set_text(nbb_formatted_code);\n",
       "                        }\n",
       "                        break;\n",
       "                    }\n",
       "                }\n",
       "            }, 500);\n",
       "            "
      ],
      "text/plain": [
       "<IPython.core.display.Javascript object>"
      ]
     },
     "metadata": {},
     "output_type": "display_data"
    }
   ],
   "source": [
    "suppress_warnings()\n",
    "supress_other_stuff()"
   ]
  },
  {
   "cell_type": "code",
   "execution_count": 19,
   "id": "4dc18e96",
   "metadata": {
    "execution": {
     "iopub.execute_input": "2024-03-03T13:38:01.662935Z",
     "iopub.status.busy": "2024-03-03T13:38:01.662392Z",
     "iopub.status.idle": "2024-03-03T13:38:01.673281Z",
     "shell.execute_reply": "2024-03-03T13:38:01.671839Z"
    },
    "papermill": {
     "duration": 0.027997,
     "end_time": "2024-03-03T13:38:01.675684",
     "exception": false,
     "start_time": "2024-03-03T13:38:01.647687",
     "status": "completed"
    },
    "tags": []
   },
   "outputs": [
    {
     "data": {
      "application/javascript": [
       "\n",
       "            setTimeout(function() {\n",
       "                var nbb_cell_id = 19;\n",
       "                var nbb_unformatted_code = \"index_to_save = 9\";\n",
       "                var nbb_formatted_code = \"index_to_save = 9\";\n",
       "                var nbb_cells = Jupyter.notebook.get_cells();\n",
       "                for (var i = 0; i < nbb_cells.length; ++i) {\n",
       "                    if (nbb_cells[i].input_prompt_number == nbb_cell_id) {\n",
       "                        if (nbb_cells[i].get_text() == nbb_unformatted_code) {\n",
       "                             nbb_cells[i].set_text(nbb_formatted_code);\n",
       "                        }\n",
       "                        break;\n",
       "                    }\n",
       "                }\n",
       "            }, 500);\n",
       "            "
      ],
      "text/plain": [
       "<IPython.core.display.Javascript object>"
      ]
     },
     "metadata": {},
     "output_type": "display_data"
    }
   ],
   "source": [
    "index_to_save = 9"
   ]
  },
  {
   "cell_type": "code",
   "execution_count": 20,
   "id": "bc1084ef",
   "metadata": {
    "execution": {
     "iopub.execute_input": "2024-03-03T13:38:01.710240Z",
     "iopub.status.busy": "2024-03-03T13:38:01.709246Z",
     "iopub.status.idle": "2024-03-03T13:38:01.719377Z",
     "shell.execute_reply": "2024-03-03T13:38:01.718342Z"
    },
    "papermill": {
     "duration": 0.028194,
     "end_time": "2024-03-03T13:38:01.721364",
     "exception": false,
     "start_time": "2024-03-03T13:38:01.693170",
     "status": "completed"
    },
    "tags": []
   },
   "outputs": [
    {
     "data": {
      "application/javascript": [
       "\n",
       "            setTimeout(function() {\n",
       "                var nbb_cell_id = 20;\n",
       "                var nbb_unformatted_code = \"METRICS = (\\n    \\\"neg_root_mean_squared_error\\\",\\n    \\\"neg_mean_absolute_error\\\",\\n    \\\"neg_mean_absolute_percentage_error\\\",\\n    \\\"r2\\\",\\n)\\nMETRICS_DICT = {\\n    \\\"neg_root_mean_squared_error\\\": \\\"RMSE\\\",\\n    \\\"neg_mean_absolute_error\\\": \\\"MAE\\\",\\n    \\\"neg_mean_absolute_percentage_error\\\": \\\"MAPE\\\",\\n    \\\"r2\\\": \\\"R2\\\",\\n}\\nDATE = \\\"Date\\\"\\nCEMENT_TYPES = [\\\"Cement_Type_CP II-Z-32\\\"]\";\n",
       "                var nbb_formatted_code = \"METRICS = (\\n    \\\"neg_root_mean_squared_error\\\",\\n    \\\"neg_mean_absolute_error\\\",\\n    \\\"neg_mean_absolute_percentage_error\\\",\\n    \\\"r2\\\",\\n)\\nMETRICS_DICT = {\\n    \\\"neg_root_mean_squared_error\\\": \\\"RMSE\\\",\\n    \\\"neg_mean_absolute_error\\\": \\\"MAE\\\",\\n    \\\"neg_mean_absolute_percentage_error\\\": \\\"MAPE\\\",\\n    \\\"r2\\\": \\\"R2\\\",\\n}\\nDATE = \\\"Date\\\"\\nCEMENT_TYPES = [\\\"Cement_Type_CP II-Z-32\\\"]\";\n",
       "                var nbb_cells = Jupyter.notebook.get_cells();\n",
       "                for (var i = 0; i < nbb_cells.length; ++i) {\n",
       "                    if (nbb_cells[i].input_prompt_number == nbb_cell_id) {\n",
       "                        if (nbb_cells[i].get_text() == nbb_unformatted_code) {\n",
       "                             nbb_cells[i].set_text(nbb_formatted_code);\n",
       "                        }\n",
       "                        break;\n",
       "                    }\n",
       "                }\n",
       "            }, 500);\n",
       "            "
      ],
      "text/plain": [
       "<IPython.core.display.Javascript object>"
      ]
     },
     "metadata": {},
     "output_type": "display_data"
    }
   ],
   "source": [
    "METRICS = (\n",
    "    \"neg_root_mean_squared_error\",\n",
    "    \"neg_mean_absolute_error\",\n",
    "    \"neg_mean_absolute_percentage_error\",\n",
    "    \"r2\",\n",
    ")\n",
    "METRICS_DICT = {\n",
    "    \"neg_root_mean_squared_error\": \"RMSE\",\n",
    "    \"neg_mean_absolute_error\": \"MAE\",\n",
    "    \"neg_mean_absolute_percentage_error\": \"MAPE\",\n",
    "    \"r2\": \"R2\",\n",
    "}\n",
    "DATE = \"Date\"\n",
    "CEMENT_TYPES = [\"Cement_Type_CP II-Z-32\"]"
   ]
  },
  {
   "cell_type": "markdown",
   "id": "1380f512",
   "metadata": {
    "papermill": {
     "duration": 0.010338,
     "end_time": "2024-03-03T13:38:01.742575",
     "exception": false,
     "start_time": "2024-03-03T13:38:01.732237",
     "status": "completed"
    },
    "tags": []
   },
   "source": [
    "## Defining a dataframe structure to save the results"
   ]
  },
  {
   "cell_type": "code",
   "execution_count": 21,
   "id": "f965fc82",
   "metadata": {
    "execution": {
     "iopub.execute_input": "2024-03-03T13:38:01.766634Z",
     "iopub.status.busy": "2024-03-03T13:38:01.765237Z",
     "iopub.status.idle": "2024-03-03T13:38:01.778417Z",
     "shell.execute_reply": "2024-03-03T13:38:01.777181Z"
    },
    "papermill": {
     "duration": 0.027639,
     "end_time": "2024-03-03T13:38:01.780432",
     "exception": false,
     "start_time": "2024-03-03T13:38:01.752793",
     "status": "completed"
    },
    "tags": []
   },
   "outputs": [
    {
     "data": {
      "application/javascript": [
       "\n",
       "            setTimeout(function() {\n",
       "                var nbb_cell_id = 21;\n",
       "                var nbb_unformatted_code = \"results_to_save = []\\n\\nresults_dict = {\\n    \\\"Category\\\": \\\"Local Model\\\",\\n    \\\"Company\\\": \\\"209\\\",\\n    \\\"Plant\\\": \\\"S\\\",\\n    \\\"Features\\\": \\\"Chemical + Feature Engineering\\\",\\n    \\\"Data Shape\\\": None,\\n    \\\"Timesteps\\\": None,\\n    \\\"Model\\\": \\\"BidirectionalGRU\\\",\\n    \\\"Model Params\\\": None,\\n    \\\"Scaler\\\": \\\"Standard Scaler\\\",\\n    \\\"Scaler Params\\\": None,\\n    \\\"Imputer\\\": \\\"Median\\\",\\n    \\\"Imputer Params\\\": None,\\n    \\\"Cross Validation\\\": None,\\n    \\\"Cross Validation Params\\\": np.nan,\\n    \\\"RMSE Train\\\": np.nan,\\n    \\\"MAE Train\\\": np.nan,\\n    \\\"MAPE Train\\\": np.nan,\\n    \\\"R2 Train\\\": np.nan,\\n    \\\"RMSE Test\\\": np.nan,\\n    \\\"MAE Test\\\": np.nan,\\n    \\\"MAPE Test\\\": np.nan,\\n    \\\"R2 Test\\\": np.nan,\\n}\";\n",
       "                var nbb_formatted_code = \"results_to_save = []\\n\\nresults_dict = {\\n    \\\"Category\\\": \\\"Local Model\\\",\\n    \\\"Company\\\": \\\"209\\\",\\n    \\\"Plant\\\": \\\"S\\\",\\n    \\\"Features\\\": \\\"Chemical + Feature Engineering\\\",\\n    \\\"Data Shape\\\": None,\\n    \\\"Timesteps\\\": None,\\n    \\\"Model\\\": \\\"BidirectionalGRU\\\",\\n    \\\"Model Params\\\": None,\\n    \\\"Scaler\\\": \\\"Standard Scaler\\\",\\n    \\\"Scaler Params\\\": None,\\n    \\\"Imputer\\\": \\\"Median\\\",\\n    \\\"Imputer Params\\\": None,\\n    \\\"Cross Validation\\\": None,\\n    \\\"Cross Validation Params\\\": np.nan,\\n    \\\"RMSE Train\\\": np.nan,\\n    \\\"MAE Train\\\": np.nan,\\n    \\\"MAPE Train\\\": np.nan,\\n    \\\"R2 Train\\\": np.nan,\\n    \\\"RMSE Test\\\": np.nan,\\n    \\\"MAE Test\\\": np.nan,\\n    \\\"MAPE Test\\\": np.nan,\\n    \\\"R2 Test\\\": np.nan,\\n}\";\n",
       "                var nbb_cells = Jupyter.notebook.get_cells();\n",
       "                for (var i = 0; i < nbb_cells.length; ++i) {\n",
       "                    if (nbb_cells[i].input_prompt_number == nbb_cell_id) {\n",
       "                        if (nbb_cells[i].get_text() == nbb_unformatted_code) {\n",
       "                             nbb_cells[i].set_text(nbb_formatted_code);\n",
       "                        }\n",
       "                        break;\n",
       "                    }\n",
       "                }\n",
       "            }, 500);\n",
       "            "
      ],
      "text/plain": [
       "<IPython.core.display.Javascript object>"
      ]
     },
     "metadata": {},
     "output_type": "display_data"
    }
   ],
   "source": [
    "results_to_save = []\n",
    "\n",
    "results_dict = {\n",
    "    \"Category\": \"Local Model\",\n",
    "    \"Company\": \"209\",\n",
    "    \"Plant\": \"S\",\n",
    "    \"Features\": \"Chemical + Feature Engineering\",\n",
    "    \"Data Shape\": None,\n",
    "    \"Timesteps\": None,\n",
    "    \"Model\": \"BidirectionalGRU\",\n",
    "    \"Model Params\": None,\n",
    "    \"Scaler\": \"Standard Scaler\",\n",
    "    \"Scaler Params\": None,\n",
    "    \"Imputer\": \"Median\",\n",
    "    \"Imputer Params\": None,\n",
    "    \"Cross Validation\": None,\n",
    "    \"Cross Validation Params\": np.nan,\n",
    "    \"RMSE Train\": np.nan,\n",
    "    \"MAE Train\": np.nan,\n",
    "    \"MAPE Train\": np.nan,\n",
    "    \"R2 Train\": np.nan,\n",
    "    \"RMSE Test\": np.nan,\n",
    "    \"MAE Test\": np.nan,\n",
    "    \"MAPE Test\": np.nan,\n",
    "    \"R2 Test\": np.nan,\n",
    "}"
   ]
  },
  {
   "cell_type": "markdown",
   "id": "82b848df",
   "metadata": {
    "papermill": {
     "duration": 0.01623,
     "end_time": "2024-03-03T13:38:01.812799",
     "exception": false,
     "start_time": "2024-03-03T13:38:01.796569",
     "status": "completed"
    },
    "tags": []
   },
   "source": [
    "# Reading the dataset"
   ]
  },
  {
   "cell_type": "code",
   "execution_count": 22,
   "id": "ff3b0fc2",
   "metadata": {
    "execution": {
     "iopub.execute_input": "2024-03-03T13:38:01.847428Z",
     "iopub.status.busy": "2024-03-03T13:38:01.847014Z",
     "iopub.status.idle": "2024-03-03T13:38:01.867114Z",
     "shell.execute_reply": "2024-03-03T13:38:01.865848Z"
    },
    "papermill": {
     "duration": 0.040827,
     "end_time": "2024-03-03T13:38:01.869746",
     "exception": false,
     "start_time": "2024-03-03T13:38:01.828919",
     "status": "completed"
    },
    "tags": []
   },
   "outputs": [
    {
     "data": {
      "application/javascript": [
       "\n",
       "            setTimeout(function() {\n",
       "                var nbb_cell_id = 22;\n",
       "                var nbb_unformatted_code = \"df = pd.read_csv(\\\"../../../../../data/processed/209/s.csv\\\")\";\n",
       "                var nbb_formatted_code = \"df = pd.read_csv(\\\"../../../../../data/processed/209/s.csv\\\")\";\n",
       "                var nbb_cells = Jupyter.notebook.get_cells();\n",
       "                for (var i = 0; i < nbb_cells.length; ++i) {\n",
       "                    if (nbb_cells[i].input_prompt_number == nbb_cell_id) {\n",
       "                        if (nbb_cells[i].get_text() == nbb_unformatted_code) {\n",
       "                             nbb_cells[i].set_text(nbb_formatted_code);\n",
       "                        }\n",
       "                        break;\n",
       "                    }\n",
       "                }\n",
       "            }, 500);\n",
       "            "
      ],
      "text/plain": [
       "<IPython.core.display.Javascript object>"
      ]
     },
     "metadata": {},
     "output_type": "display_data"
    }
   ],
   "source": [
    "df = pd.read_csv(\"../../../../../data/processed/209/s.csv\")"
   ]
  },
  {
   "cell_type": "markdown",
   "id": "45ec9fd0",
   "metadata": {
    "papermill": {
     "duration": 0.010649,
     "end_time": "2024-03-03T13:38:01.895556",
     "exception": false,
     "start_time": "2024-03-03T13:38:01.884907",
     "status": "completed"
    },
    "tags": []
   },
   "source": [
    "## Defining Features\n",
    "\n",
    "In this set of experiments we keep only chemical and mineralogical features yielded by the same testing method/procedure"
   ]
  },
  {
   "cell_type": "code",
   "execution_count": 23,
   "id": "7ea7294b",
   "metadata": {
    "execution": {
     "iopub.execute_input": "2024-03-03T13:38:01.926182Z",
     "iopub.status.busy": "2024-03-03T13:38:01.925181Z",
     "iopub.status.idle": "2024-03-03T13:38:01.946677Z",
     "shell.execute_reply": "2024-03-03T13:38:01.945333Z"
    },
    "papermill": {
     "duration": 0.040282,
     "end_time": "2024-03-03T13:38:01.948682",
     "exception": false,
     "start_time": "2024-03-03T13:38:01.908400",
     "status": "completed"
    },
    "tags": []
   },
   "outputs": [
    {
     "data": {
      "application/javascript": [
       "\n",
       "            setTimeout(function() {\n",
       "                var nbb_cell_id = 23;\n",
       "                var nbb_unformatted_code = \"df_copy = df.copy()\\ndf_copy = pd.get_dummies(data=df_copy, columns=[\\\"Cement_Type\\\"], drop_first=True)\\n\\ndf_copy = df_copy.drop(\\n    [\\n        \\\"Blaine\\\",\\n        \\n        \\\"#400\\\",\\n\\t\\t\\n        \\\"Final setting time\\\",\\n        \\\"Initial setting time\\\",\\n        \\\"CS3\\\",\\n        \\\"CS7\\\",\\n    ],\\n    axis=1,\\n)\";\n",
       "                var nbb_formatted_code = \"df_copy = df.copy()\\ndf_copy = pd.get_dummies(data=df_copy, columns=[\\\"Cement_Type\\\"], drop_first=True)\\n\\ndf_copy = df_copy.drop(\\n    [\\n        \\\"Blaine\\\",\\n        \\\"#400\\\",\\n        \\\"Final setting time\\\",\\n        \\\"Initial setting time\\\",\\n        \\\"CS3\\\",\\n        \\\"CS7\\\",\\n    ],\\n    axis=1,\\n)\";\n",
       "                var nbb_cells = Jupyter.notebook.get_cells();\n",
       "                for (var i = 0; i < nbb_cells.length; ++i) {\n",
       "                    if (nbb_cells[i].input_prompt_number == nbb_cell_id) {\n",
       "                        if (nbb_cells[i].get_text() == nbb_unformatted_code) {\n",
       "                             nbb_cells[i].set_text(nbb_formatted_code);\n",
       "                        }\n",
       "                        break;\n",
       "                    }\n",
       "                }\n",
       "            }, 500);\n",
       "            "
      ],
      "text/plain": [
       "<IPython.core.display.Javascript object>"
      ]
     },
     "metadata": {},
     "output_type": "display_data"
    }
   ],
   "source": [
    "df_copy = df.copy()\n",
    "df_copy = pd.get_dummies(data=df_copy, columns=[\"Cement_Type\"], drop_first=True)\n",
    "\n",
    "df_copy = df_copy.drop(\n",
    "    [\n",
    "        \"Blaine\",\n",
    "        \n",
    "        \"#400\",\n",
    "\t\t\n",
    "        \"Final setting time\",\n",
    "        \"Initial setting time\",\n",
    "        \"CS3\",\n",
    "        \"CS7\",\n",
    "    ],\n",
    "    axis=1,\n",
    ")"
   ]
  },
  {
   "cell_type": "markdown",
   "id": "03864f35",
   "metadata": {
    "papermill": {
     "duration": 0.012392,
     "end_time": "2024-03-03T13:38:01.973691",
     "exception": false,
     "start_time": "2024-03-03T13:38:01.961299",
     "status": "completed"
    },
    "tags": []
   },
   "source": [
    "## Feature Engineering"
   ]
  },
  {
   "cell_type": "code",
   "execution_count": 24,
   "id": "3f5c31a8",
   "metadata": {
    "execution": {
     "iopub.execute_input": "2024-03-03T13:38:01.998628Z",
     "iopub.status.busy": "2024-03-03T13:38:01.998172Z",
     "iopub.status.idle": "2024-03-03T13:38:02.017915Z",
     "shell.execute_reply": "2024-03-03T13:38:02.016835Z"
    },
    "papermill": {
     "duration": 0.034393,
     "end_time": "2024-03-03T13:38:02.019815",
     "exception": false,
     "start_time": "2024-03-03T13:38:01.985422",
     "status": "completed"
    },
    "tags": []
   },
   "outputs": [
    {
     "data": {
      "application/javascript": [
       "\n",
       "            setTimeout(function() {\n",
       "                var nbb_cell_id = 24;\n",
       "                var nbb_unformatted_code = \"# Feature Engineering over Chemical Features\\nch_features = [\\\"CaO\\\", \\\"MgO\\\", \\\"Na2O\\\", \\\"Al2O3\\\", \\\"SiO2\\\", \\\"SO3\\\", \\\"K2O\\\", \\\"Fe2O3\\\"]\\n\\ndf_copy[\\\"std_ch_feats\\\"] = df_copy[ch_features].std(ddof=0, axis=1)\\n\\ndf_copy[\\\"ratio_CaO_to_SiO2\\\"] = df_copy[\\\"CaO\\\"] / df_copy[\\\"SiO2\\\"]\\ndf_copy[\\\"ratio_MgO_to_CaO\\\"] = df_copy[\\\"MgO\\\"] / df_copy[\\\"CaO\\\"]\";\n",
       "                var nbb_formatted_code = \"# Feature Engineering over Chemical Features\\nch_features = [\\\"CaO\\\", \\\"MgO\\\", \\\"Na2O\\\", \\\"Al2O3\\\", \\\"SiO2\\\", \\\"SO3\\\", \\\"K2O\\\", \\\"Fe2O3\\\"]\\n\\ndf_copy[\\\"std_ch_feats\\\"] = df_copy[ch_features].std(ddof=0, axis=1)\\n\\ndf_copy[\\\"ratio_CaO_to_SiO2\\\"] = df_copy[\\\"CaO\\\"] / df_copy[\\\"SiO2\\\"]\\ndf_copy[\\\"ratio_MgO_to_CaO\\\"] = df_copy[\\\"MgO\\\"] / df_copy[\\\"CaO\\\"]\";\n",
       "                var nbb_cells = Jupyter.notebook.get_cells();\n",
       "                for (var i = 0; i < nbb_cells.length; ++i) {\n",
       "                    if (nbb_cells[i].input_prompt_number == nbb_cell_id) {\n",
       "                        if (nbb_cells[i].get_text() == nbb_unformatted_code) {\n",
       "                             nbb_cells[i].set_text(nbb_formatted_code);\n",
       "                        }\n",
       "                        break;\n",
       "                    }\n",
       "                }\n",
       "            }, 500);\n",
       "            "
      ],
      "text/plain": [
       "<IPython.core.display.Javascript object>"
      ]
     },
     "metadata": {},
     "output_type": "display_data"
    }
   ],
   "source": [
    "# Feature Engineering over Chemical Features\n",
    "ch_features = [\"CaO\", \"MgO\", \"Na2O\", \"Al2O3\", \"SiO2\", \"SO3\", \"K2O\", \"Fe2O3\"]\n",
    "\n",
    "df_copy[\"std_ch_feats\"] = df_copy[ch_features].std(ddof=0, axis=1)\n",
    "\n",
    "df_copy[\"ratio_CaO_to_SiO2\"] = df_copy[\"CaO\"] / df_copy[\"SiO2\"]\n",
    "df_copy[\"ratio_MgO_to_CaO\"] = df_copy[\"MgO\"] / df_copy[\"CaO\"]"
   ]
  },
  {
   "cell_type": "markdown",
   "id": "fbb9667f",
   "metadata": {
    "papermill": {
     "duration": 0.012251,
     "end_time": "2024-03-03T13:38:02.049306",
     "exception": false,
     "start_time": "2024-03-03T13:38:02.037055",
     "status": "completed"
    },
    "tags": []
   },
   "source": [
    "## Defining Features\n",
    "\n",
    "In this set of experiments we use all available features"
   ]
  },
  {
   "cell_type": "markdown",
   "id": "0e348a91",
   "metadata": {
    "papermill": {
     "duration": 0.011985,
     "end_time": "2024-03-03T13:38:02.073383",
     "exception": false,
     "start_time": "2024-03-03T13:38:02.061398",
     "status": "completed"
    },
    "tags": []
   },
   "source": [
    "<h2>1. Dataset: df_no_cs</h2> <br>In this dataset the CS1, CS3  and CS7 variables are not considered. Only Chemical and mineralogical features measured by the same method. For this particular dataset, all chemical features, with the exception of LOI were measured by XRF and XRD methods."
   ]
  },
  {
   "cell_type": "code",
   "execution_count": 25,
   "id": "5e0b698c",
   "metadata": {
    "execution": {
     "iopub.execute_input": "2024-03-03T13:38:02.099478Z",
     "iopub.status.busy": "2024-03-03T13:38:02.098745Z",
     "iopub.status.idle": "2024-03-03T13:38:02.112741Z",
     "shell.execute_reply": "2024-03-03T13:38:02.111458Z"
    },
    "papermill": {
     "duration": 0.030065,
     "end_time": "2024-03-03T13:38:02.114828",
     "exception": false,
     "start_time": "2024-03-03T13:38:02.084763",
     "status": "completed"
    },
    "tags": []
   },
   "outputs": [
    {
     "data": {
      "application/javascript": [
       "\n",
       "            setTimeout(function() {\n",
       "                var nbb_cell_id = 25;\n",
       "                var nbb_unformatted_code = \"df_copy[CEMENT_TYPES] = df_copy[CEMENT_TYPES].astype(int)\\ndates = df[\\\"Date\\\"].copy()\\ny = df_copy.pop(\\\"CS28\\\")\\nx = df_copy\\ndf_copy = pd.concat([x, y], axis=1)\";\n",
       "                var nbb_formatted_code = \"df_copy[CEMENT_TYPES] = df_copy[CEMENT_TYPES].astype(int)\\ndates = df[\\\"Date\\\"].copy()\\ny = df_copy.pop(\\\"CS28\\\")\\nx = df_copy\\ndf_copy = pd.concat([x, y], axis=1)\";\n",
       "                var nbb_cells = Jupyter.notebook.get_cells();\n",
       "                for (var i = 0; i < nbb_cells.length; ++i) {\n",
       "                    if (nbb_cells[i].input_prompt_number == nbb_cell_id) {\n",
       "                        if (nbb_cells[i].get_text() == nbb_unformatted_code) {\n",
       "                             nbb_cells[i].set_text(nbb_formatted_code);\n",
       "                        }\n",
       "                        break;\n",
       "                    }\n",
       "                }\n",
       "            }, 500);\n",
       "            "
      ],
      "text/plain": [
       "<IPython.core.display.Javascript object>"
      ]
     },
     "metadata": {},
     "output_type": "display_data"
    }
   ],
   "source": [
    "df_copy[CEMENT_TYPES] = df_copy[CEMENT_TYPES].astype(int)\n",
    "dates = df[\"Date\"].copy()\n",
    "y = df_copy.pop(\"CS28\")\n",
    "x = df_copy\n",
    "df_copy = pd.concat([x, y], axis=1)"
   ]
  },
  {
   "cell_type": "code",
   "execution_count": 26,
   "id": "3a1218d2",
   "metadata": {
    "execution": {
     "iopub.execute_input": "2024-03-03T13:38:02.145962Z",
     "iopub.status.busy": "2024-03-03T13:38:02.145613Z",
     "iopub.status.idle": "2024-03-03T13:38:02.153816Z",
     "shell.execute_reply": "2024-03-03T13:38:02.152488Z"
    },
    "papermill": {
     "duration": 0.024848,
     "end_time": "2024-03-03T13:38:02.156016",
     "exception": false,
     "start_time": "2024-03-03T13:38:02.131168",
     "status": "completed"
    },
    "tags": []
   },
   "outputs": [
    {
     "data": {
      "application/javascript": [
       "\n",
       "            setTimeout(function() {\n",
       "                var nbb_cell_id = 26;\n",
       "                var nbb_unformatted_code = \"TIMESTEPS_LIST = [1, 7, 14]\";\n",
       "                var nbb_formatted_code = \"TIMESTEPS_LIST = [1, 7, 14]\";\n",
       "                var nbb_cells = Jupyter.notebook.get_cells();\n",
       "                for (var i = 0; i < nbb_cells.length; ++i) {\n",
       "                    if (nbb_cells[i].input_prompt_number == nbb_cell_id) {\n",
       "                        if (nbb_cells[i].get_text() == nbb_unformatted_code) {\n",
       "                             nbb_cells[i].set_text(nbb_formatted_code);\n",
       "                        }\n",
       "                        break;\n",
       "                    }\n",
       "                }\n",
       "            }, 500);\n",
       "            "
      ],
      "text/plain": [
       "<IPython.core.display.Javascript object>"
      ]
     },
     "metadata": {},
     "output_type": "display_data"
    }
   ],
   "source": [
    "TIMESTEPS_LIST = [1, 7, 14]"
   ]
  },
  {
   "cell_type": "markdown",
   "id": "a2fc518f",
   "metadata": {
    "papermill": {
     "duration": 0.017444,
     "end_time": "2024-03-03T13:38:02.188597",
     "exception": false,
     "start_time": "2024-03-03T13:38:02.171153",
     "status": "completed"
    },
    "tags": []
   },
   "source": [
    "# 1. Bidirectional Long Short Term Memory - Bi-GRU"
   ]
  },
  {
   "cell_type": "markdown",
   "id": "2e9ae728",
   "metadata": {
    "papermill": {
     "duration": 0.013036,
     "end_time": "2024-03-03T13:38:02.214061",
     "exception": false,
     "start_time": "2024-03-03T13:38:02.201025",
     "status": "completed"
    },
    "tags": []
   },
   "source": [
    "## 1.1 Repeated KFold Cross validation\n",
    "\n",
    "<b>Dataset shape:</b> (1234, 38)<br>\n",
    "<b>Timesteps:</b> 1, 3, 5, 7, 10, 15, 20<br>\n",
    "<b>Repeats:</b>10<br>\n",
    "<b>Splits:</b>10<br>\n",
    "    1. 10 folds of 123 samples each\n",
    "    2. 90% train (1111 samples each fold)\n",
    "    3. 10% test (123 samples each fold)\n",
    "<b>Total:</b> 100 models<br>"
   ]
  },
  {
   "cell_type": "code",
   "execution_count": 27,
   "id": "2efc3f3c",
   "metadata": {
    "execution": {
     "iopub.execute_input": "2024-03-03T13:38:02.244516Z",
     "iopub.status.busy": "2024-03-03T13:38:02.243938Z",
     "iopub.status.idle": "2024-03-03T14:19:26.070926Z",
     "shell.execute_reply": "2024-03-03T14:19:26.069702Z"
    },
    "papermill": {
     "duration": 2483.863202,
     "end_time": "2024-03-03T14:19:26.091439",
     "exception": false,
     "start_time": "2024-03-03T13:38:02.228237",
     "status": "completed"
    },
    "scrolled": false,
    "tags": []
   },
   "outputs": [
    {
     "name": "stdout",
     "output_type": "stream",
     "text": [
      "Repeated Cross Validation:\n",
      "Repeats: 3\n",
      "n_splits: 5\n",
      "\n"
     ]
    },
    {
     "name": "stdout",
     "output_type": "stream",
     "text": [
      "TIMESTEPS: 1 \n",
      "******\n",
      "[TRAIN]\n",
      "******\n",
      "RMSE: 0.999 (0.022)\n",
      "MAE: 0.764 (0.018)\n",
      "MAPE: 0.019 (0.001)\n",
      "R2: 0.964 (0.002)\n",
      "\n",
      "======================\n",
      "\n",
      "******\n",
      "[TEST]\n",
      "******\n",
      "RMSE: 1.075 (0.066)\n",
      "MAE: 0.804 (0.041)\n",
      "MAPE: 0.020 (0.001)\n",
      "R2: 0.958 (0.005)\n",
      "\n",
      "======================\n",
      "\n"
     ]
    },
    {
     "name": "stdout",
     "output_type": "stream",
     "text": [
      "TIMESTEPS: 7 \n",
      "******\n",
      "[TRAIN]\n",
      "******\n",
      "RMSE: 0.971 (0.125)\n",
      "MAE: 0.795 (0.117)\n",
      "MAPE: 0.020 (0.003)\n",
      "R2: 0.965 (0.009)\n",
      "\n",
      "======================\n",
      "\n",
      "******\n",
      "[TEST]\n",
      "******\n",
      "RMSE: 1.182 (0.172)\n",
      "MAE: 0.965 (0.149)\n",
      "MAPE: 0.024 (0.004)\n",
      "R2: 0.948 (0.016)\n",
      "\n",
      "======================\n",
      "\n"
     ]
    },
    {
     "name": "stdout",
     "output_type": "stream",
     "text": [
      "TIMESTEPS: 14 \n",
      "******\n",
      "[TRAIN]\n",
      "******\n",
      "RMSE: 0.839 (0.065)\n",
      "MAE: 0.646 (0.052)\n",
      "MAPE: 0.016 (0.001)\n",
      "R2: 0.974 (0.004)\n",
      "\n",
      "======================\n",
      "\n",
      "******\n",
      "[TEST]\n",
      "******\n",
      "RMSE: 1.074 (0.089)\n",
      "MAE: 0.836 (0.074)\n",
      "MAPE: 0.021 (0.002)\n",
      "R2: 0.957 (0.007)\n",
      "\n",
      "======================\n",
      "\n",
      "Minutes Elapsed:  41.39668474594752\n"
     ]
    },
    {
     "data": {
      "application/javascript": [
       "\n",
       "            setTimeout(function() {\n",
       "                var nbb_cell_id = 27;\n",
       "                var nbb_unformatted_code = \"start = time.time()\\n\\nrepeats = 3\\nn_splits = 5\\nTIMESTEPS_LIST = [1, 7, 14]\\n\\nprint(\\\"Repeated Cross Validation:\\\")\\nprint(f\\\"Repeats: {repeats}\\\")\\nprint(f\\\"n_splits: {n_splits}\\\")\\nprint()\\n\\nfor timesteps in TIMESTEPS_LIST:\\n    set_seeds()\\n    cv = RepeatedKFold(n_splits=n_splits, n_repeats=repeats, random_state=SEED)\\n    x = df_copy.drop([\\\"Date\\\", \\\"CS28\\\"] + CEMENT_TYPES, axis=1)\\n    y = df_copy[\\\"CS28\\\"]\\n    scores = custom_cross_validate_parallelized(\\n        BidirectionalGRU,\\n        SimpleImputer,\\n        StandardScaler,\\n        x,\\n        y,\\n        cv,\\n        timesteps=timesteps,\\n        dates=dates,\\n        cement_types=df_copy[CEMENT_TYPES],\\n        estimator_params=None,\\n        imputer_params={\\\"strategy\\\": \\\"median\\\"},\\n        split_by_cement_type=True,\\n    )\\n    scores = scores[0]\\n    print(\\\"TIMESTEPS: %d \\\" % timesteps)\\n    print_scores(scores, METRICS, METRICS_DICT)\\n\\n    results_dict_copy = results_dict.copy()\\n    results_dict_copy[\\\"Timesteps\\\"] = timesteps\\n    results_dict_copy[\\\"Cross Validation\\\"] = \\\"Repeated KFold\\\"\\n    results_dict_copy[\\\"Cross Validation Params\\\"] = '{\\\"N_Splits\\\": 5, \\\"Repeats\\\": 3}'\\n    results_dict_copy[\\\"Data Shape\\\"] = x.shape\\n    df_results = fill_results_dict(results_dict_copy, scores)\\n    results_to_save.append(df_results)\\n\\nend = time.time()\\nprint(\\\"Minutes Elapsed: \\\", (end - start) / 60)\";\n",
       "                var nbb_formatted_code = \"start = time.time()\\n\\nrepeats = 3\\nn_splits = 5\\nTIMESTEPS_LIST = [1, 7, 14]\\n\\nprint(\\\"Repeated Cross Validation:\\\")\\nprint(f\\\"Repeats: {repeats}\\\")\\nprint(f\\\"n_splits: {n_splits}\\\")\\nprint()\\n\\nfor timesteps in TIMESTEPS_LIST:\\n    set_seeds()\\n    cv = RepeatedKFold(n_splits=n_splits, n_repeats=repeats, random_state=SEED)\\n    x = df_copy.drop([\\\"Date\\\", \\\"CS28\\\"] + CEMENT_TYPES, axis=1)\\n    y = df_copy[\\\"CS28\\\"]\\n    scores = custom_cross_validate_parallelized(\\n        BidirectionalGRU,\\n        SimpleImputer,\\n        StandardScaler,\\n        x,\\n        y,\\n        cv,\\n        timesteps=timesteps,\\n        dates=dates,\\n        cement_types=df_copy[CEMENT_TYPES],\\n        estimator_params=None,\\n        imputer_params={\\\"strategy\\\": \\\"median\\\"},\\n        split_by_cement_type=True,\\n    )\\n    scores = scores[0]\\n    print(\\\"TIMESTEPS: %d \\\" % timesteps)\\n    print_scores(scores, METRICS, METRICS_DICT)\\n\\n    results_dict_copy = results_dict.copy()\\n    results_dict_copy[\\\"Timesteps\\\"] = timesteps\\n    results_dict_copy[\\\"Cross Validation\\\"] = \\\"Repeated KFold\\\"\\n    results_dict_copy[\\\"Cross Validation Params\\\"] = '{\\\"N_Splits\\\": 5, \\\"Repeats\\\": 3}'\\n    results_dict_copy[\\\"Data Shape\\\"] = x.shape\\n    df_results = fill_results_dict(results_dict_copy, scores)\\n    results_to_save.append(df_results)\\n\\nend = time.time()\\nprint(\\\"Minutes Elapsed: \\\", (end - start) / 60)\";\n",
       "                var nbb_cells = Jupyter.notebook.get_cells();\n",
       "                for (var i = 0; i < nbb_cells.length; ++i) {\n",
       "                    if (nbb_cells[i].input_prompt_number == nbb_cell_id) {\n",
       "                        if (nbb_cells[i].get_text() == nbb_unformatted_code) {\n",
       "                             nbb_cells[i].set_text(nbb_formatted_code);\n",
       "                        }\n",
       "                        break;\n",
       "                    }\n",
       "                }\n",
       "            }, 500);\n",
       "            "
      ],
      "text/plain": [
       "<IPython.core.display.Javascript object>"
      ]
     },
     "metadata": {},
     "output_type": "display_data"
    }
   ],
   "source": [
    "start = time.time()\n",
    "\n",
    "repeats = 3\n",
    "n_splits = 5\n",
    "TIMESTEPS_LIST = [1, 7, 14]\n",
    "\n",
    "print(\"Repeated Cross Validation:\")\n",
    "print(f\"Repeats: {repeats}\")\n",
    "print(f\"n_splits: {n_splits}\")\n",
    "print()\n",
    "\n",
    "for timesteps in TIMESTEPS_LIST:\n",
    "    set_seeds()\n",
    "    cv = RepeatedKFold(n_splits=n_splits, n_repeats=repeats, random_state=SEED)\n",
    "    x = df_copy.drop([\"Date\", \"CS28\"] + CEMENT_TYPES, axis=1)\n",
    "    y = df_copy[\"CS28\"]\n",
    "    scores = custom_cross_validate_parallelized(\n",
    "        BidirectionalGRU,\n",
    "        SimpleImputer,\n",
    "        StandardScaler,\n",
    "        x,\n",
    "        y,\n",
    "        cv,\n",
    "        timesteps=timesteps,\n",
    "        dates=dates,\n",
    "        cement_types=df_copy[CEMENT_TYPES],\n",
    "        estimator_params=None,\n",
    "        imputer_params={\"strategy\": \"median\"},\n",
    "        split_by_cement_type=True,\n",
    "    )\n",
    "    scores = scores[0]\n",
    "    print(\"TIMESTEPS: %d \" % timesteps)\n",
    "    print_scores(scores, METRICS, METRICS_DICT)\n",
    "\n",
    "    results_dict_copy = results_dict.copy()\n",
    "    results_dict_copy[\"Timesteps\"] = timesteps\n",
    "    results_dict_copy[\"Cross Validation\"] = \"Repeated KFold\"\n",
    "    results_dict_copy[\"Cross Validation Params\"] = '{\"N_Splits\": 5, \"Repeats\": 3}'\n",
    "    results_dict_copy[\"Data Shape\"] = x.shape\n",
    "    df_results = fill_results_dict(results_dict_copy, scores)\n",
    "    results_to_save.append(df_results)\n",
    "\n",
    "end = time.time()\n",
    "print(\"Minutes Elapsed: \", (end - start) / 60)"
   ]
  },
  {
   "cell_type": "code",
   "execution_count": 28,
   "id": "31706d9d",
   "metadata": {
    "execution": {
     "iopub.execute_input": "2024-03-03T14:19:26.125967Z",
     "iopub.status.busy": "2024-03-03T14:19:26.124415Z",
     "iopub.status.idle": "2024-03-03T14:19:26.183230Z",
     "shell.execute_reply": "2024-03-03T14:19:26.182486Z"
    },
    "papermill": {
     "duration": 0.079049,
     "end_time": "2024-03-03T14:19:26.185084",
     "exception": false,
     "start_time": "2024-03-03T14:19:26.106035",
     "status": "completed"
    },
    "tags": []
   },
   "outputs": [
    {
     "data": {
      "text/html": [
       "<div>\n",
       "<style scoped>\n",
       "    .dataframe tbody tr th:only-of-type {\n",
       "        vertical-align: middle;\n",
       "    }\n",
       "\n",
       "    .dataframe tbody tr th {\n",
       "        vertical-align: top;\n",
       "    }\n",
       "\n",
       "    .dataframe thead tr th {\n",
       "        text-align: left;\n",
       "    }\n",
       "</style>\n",
       "<table border=\"1\" class=\"dataframe\">\n",
       "  <thead>\n",
       "    <tr>\n",
       "      <th></th>\n",
       "      <th>Features</th>\n",
       "      <th>Model</th>\n",
       "      <th>Cross Validation</th>\n",
       "      <th>Timesteps</th>\n",
       "      <th colspan=\"2\" halign=\"left\">RMSE Test</th>\n",
       "      <th colspan=\"2\" halign=\"left\">MAE Test</th>\n",
       "      <th colspan=\"2\" halign=\"left\">MAPE Test</th>\n",
       "      <th colspan=\"2\" halign=\"left\">R2 Test</th>\n",
       "    </tr>\n",
       "    <tr>\n",
       "      <th></th>\n",
       "      <th></th>\n",
       "      <th></th>\n",
       "      <th></th>\n",
       "      <th></th>\n",
       "      <th>mean</th>\n",
       "      <th>std</th>\n",
       "      <th>mean</th>\n",
       "      <th>std</th>\n",
       "      <th>mean</th>\n",
       "      <th>std</th>\n",
       "      <th>mean</th>\n",
       "      <th>std</th>\n",
       "    </tr>\n",
       "  </thead>\n",
       "  <tbody>\n",
       "    <tr>\n",
       "      <th>0</th>\n",
       "      <td>Chemical + Feature Engineering</td>\n",
       "      <td>BidirectionalGRU</td>\n",
       "      <td>Repeated KFold</td>\n",
       "      <td>1</td>\n",
       "      <td>1.075406</td>\n",
       "      <td>0.065830</td>\n",
       "      <td>0.804151</td>\n",
       "      <td>0.040896</td>\n",
       "      <td>0.019921</td>\n",
       "      <td>0.001089</td>\n",
       "      <td>0.957770</td>\n",
       "      <td>0.004942</td>\n",
       "    </tr>\n",
       "    <tr>\n",
       "      <th>1</th>\n",
       "      <td>Chemical + Feature Engineering</td>\n",
       "      <td>BidirectionalGRU</td>\n",
       "      <td>Repeated KFold</td>\n",
       "      <td>7</td>\n",
       "      <td>1.182465</td>\n",
       "      <td>0.172288</td>\n",
       "      <td>0.965471</td>\n",
       "      <td>0.148827</td>\n",
       "      <td>0.024307</td>\n",
       "      <td>0.003777</td>\n",
       "      <td>0.947692</td>\n",
       "      <td>0.015775</td>\n",
       "    </tr>\n",
       "    <tr>\n",
       "      <th>2</th>\n",
       "      <td>Chemical + Feature Engineering</td>\n",
       "      <td>BidirectionalGRU</td>\n",
       "      <td>Repeated KFold</td>\n",
       "      <td>14</td>\n",
       "      <td>1.074292</td>\n",
       "      <td>0.088736</td>\n",
       "      <td>0.835655</td>\n",
       "      <td>0.073543</td>\n",
       "      <td>0.020769</td>\n",
       "      <td>0.001834</td>\n",
       "      <td>0.957106</td>\n",
       "      <td>0.007324</td>\n",
       "    </tr>\n",
       "  </tbody>\n",
       "</table>\n",
       "</div>"
      ],
      "text/plain": [
       "                         Features             Model Cross Validation  \\\n",
       "                                                                       \n",
       "0  Chemical + Feature Engineering  BidirectionalGRU   Repeated KFold   \n",
       "1  Chemical + Feature Engineering  BidirectionalGRU   Repeated KFold   \n",
       "2  Chemical + Feature Engineering  BidirectionalGRU   Repeated KFold   \n",
       "\n",
       "  Timesteps RMSE Test            MAE Test           MAPE Test            \\\n",
       "                 mean       std      mean       std      mean       std   \n",
       "0         1  1.075406  0.065830  0.804151  0.040896  0.019921  0.001089   \n",
       "1         7  1.182465  0.172288  0.965471  0.148827  0.024307  0.003777   \n",
       "2        14  1.074292  0.088736  0.835655  0.073543  0.020769  0.001834   \n",
       "\n",
       "    R2 Test            \n",
       "       mean       std  \n",
       "0  0.957770  0.004942  \n",
       "1  0.947692  0.015775  \n",
       "2  0.957106  0.007324  "
      ]
     },
     "execution_count": 28,
     "metadata": {},
     "output_type": "execute_result"
    },
    {
     "data": {
      "application/javascript": [
       "\n",
       "            setTimeout(function() {\n",
       "                var nbb_cell_id = 28;\n",
       "                var nbb_unformatted_code = \"pd.concat(results_to_save).reset_index().groupby(\\n    [\\\"Features\\\", \\\"Model\\\", \\\"Cross Validation\\\", \\\"Timesteps\\\"], dropna=False\\n)[[\\\"RMSE Test\\\", \\\"MAE Test\\\", \\\"MAPE Test\\\", \\\"R2 Test\\\"]].agg(\\n    [\\\"mean\\\", lambda series: pd.Series(series.std(ddof=0), name=\\\"std\\\")]\\n).reset_index().rename(\\n    columns={\\\"<lambda_0>\\\": \\\"std\\\"}\\n)\";\n",
       "                var nbb_formatted_code = \"pd.concat(results_to_save).reset_index().groupby(\\n    [\\\"Features\\\", \\\"Model\\\", \\\"Cross Validation\\\", \\\"Timesteps\\\"], dropna=False\\n)[[\\\"RMSE Test\\\", \\\"MAE Test\\\", \\\"MAPE Test\\\", \\\"R2 Test\\\"]].agg(\\n    [\\\"mean\\\", lambda series: pd.Series(series.std(ddof=0), name=\\\"std\\\")]\\n).reset_index().rename(\\n    columns={\\\"<lambda_0>\\\": \\\"std\\\"}\\n)\";\n",
       "                var nbb_cells = Jupyter.notebook.get_cells();\n",
       "                for (var i = 0; i < nbb_cells.length; ++i) {\n",
       "                    if (nbb_cells[i].input_prompt_number == nbb_cell_id) {\n",
       "                        if (nbb_cells[i].get_text() == nbb_unformatted_code) {\n",
       "                             nbb_cells[i].set_text(nbb_formatted_code);\n",
       "                        }\n",
       "                        break;\n",
       "                    }\n",
       "                }\n",
       "            }, 500);\n",
       "            "
      ],
      "text/plain": [
       "<IPython.core.display.Javascript object>"
      ]
     },
     "metadata": {},
     "output_type": "display_data"
    }
   ],
   "source": [
    "pd.concat(results_to_save).reset_index().groupby(\n",
    "    [\"Features\", \"Model\", \"Cross Validation\", \"Timesteps\"], dropna=False\n",
    ")[[\"RMSE Test\", \"MAE Test\", \"MAPE Test\", \"R2 Test\"]].agg(\n",
    "    [\"mean\", lambda series: pd.Series(series.std(ddof=0), name=\"std\")]\n",
    ").reset_index().rename(\n",
    "    columns={\"<lambda_0>\": \"std\"}\n",
    ")"
   ]
  },
  {
   "cell_type": "markdown",
   "id": "cf414ed1",
   "metadata": {
    "papermill": {
     "duration": 0.016937,
     "end_time": "2024-03-03T14:19:26.221017",
     "exception": false,
     "start_time": "2024-03-03T14:19:26.204080",
     "status": "completed"
    },
    "tags": []
   },
   "source": [
    "## 1.2. Blocking Time Series Cross Validation\n",
    "\n",
    "<b>Dataset shape:</b> (1234, 38)<br>\n",
    "<b>Splits:</b>5<br>    \n",
    "    1. 5 folds of 246 samples\n",
    "    2. 50% train (123 samples each fold)\n",
    "    3. 50% test (123 samples each fold)\n",
    "<b>Total:</b> 5 models<br>"
   ]
  },
  {
   "cell_type": "code",
   "execution_count": 29,
   "id": "7e4022df",
   "metadata": {
    "execution": {
     "iopub.execute_input": "2024-03-03T14:19:26.258072Z",
     "iopub.status.busy": "2024-03-03T14:19:26.256999Z",
     "iopub.status.idle": "2024-03-03T14:25:42.900299Z",
     "shell.execute_reply": "2024-03-03T14:25:42.898643Z"
    },
    "papermill": {
     "duration": 376.679066,
     "end_time": "2024-03-03T14:25:42.917390",
     "exception": false,
     "start_time": "2024-03-03T14:19:26.238324",
     "status": "completed"
    },
    "tags": []
   },
   "outputs": [
    {
     "name": "stdout",
     "output_type": "stream",
     "text": [
      "Blocking Time Series Split:\n",
      "Repeats: 3\n",
      "n_splits: 5\n",
      "\n"
     ]
    },
    {
     "name": "stdout",
     "output_type": "stream",
     "text": [
      "TIMESTEPS: 1 \n",
      "******\n",
      "[TRAIN]\n",
      "******\n",
      "RMSE: 1.653 (0.301)\n",
      "MAE: 1.268 (0.199)\n",
      "MAPE: 0.032 (0.005)\n",
      "R2: 0.894 (0.037)\n",
      "\n",
      "======================\n",
      "\n",
      "******\n",
      "[TEST]\n",
      "******\n",
      "RMSE: 2.755 (0.770)\n",
      "MAE: 2.069 (0.675)\n",
      "MAPE: 0.051 (0.017)\n",
      "R2: 0.723 (0.148)\n",
      "\n",
      "======================\n",
      "\n"
     ]
    },
    {
     "name": "stdout",
     "output_type": "stream",
     "text": [
      "TIMESTEPS: 7 \n",
      "******\n",
      "[TRAIN]\n",
      "******\n",
      "RMSE: 0.809 (0.088)\n",
      "MAE: 0.646 (0.077)\n",
      "MAPE: 0.016 (0.002)\n",
      "R2: 0.975 (0.007)\n",
      "\n",
      "======================\n",
      "\n",
      "******\n",
      "[TEST]\n",
      "******\n",
      "RMSE: 2.494 (0.685)\n",
      "MAE: 2.063 (0.559)\n",
      "MAPE: 0.050 (0.012)\n",
      "R2: 0.781 (0.097)\n",
      "\n",
      "======================\n",
      "\n",
      "Minutes Elapsed:  6.2768324653307594\n"
     ]
    },
    {
     "data": {
      "application/javascript": [
       "\n",
       "            setTimeout(function() {\n",
       "                var nbb_cell_id = 29;\n",
       "                var nbb_unformatted_code = \"start = time.time()\\n\\nrepeats = 3\\nn_splits = 5\\ntrain_size = 0.8\\nTIMESTEPS_LIST = [1, 7]\\n\\nprint(\\\"Blocking Time Series Split:\\\")\\nprint(f\\\"Repeats: {repeats}\\\")\\nprint(f\\\"n_splits: {n_splits}\\\")\\nprint()\\n\\nfor timesteps in TIMESTEPS_LIST:\\n    set_seeds()\\n    scores_final = None\\n\\n    for _ in range(repeats):\\n        x = df_copy.drop([\\\"Date\\\", \\\"CS28\\\"] + CEMENT_TYPES, axis=1)\\n        y = df_copy[\\\"CS28\\\"]\\n\\n        cv = BlockingTimeSeriesSplit(n_splits=n_splits, train_size=train_size)\\n\\n        scores = custom_cross_validate_parallelized(\\n            BidirectionalGRU,\\n            SimpleImputer,\\n            StandardScaler,\\n            x,\\n            y,\\n            cv,\\n            timesteps,\\n            dates=dates,\\n            cement_types=df_copy[CEMENT_TYPES],\\n            estimator_params=None,\\n            imputer_params={\\\"strategy\\\": \\\"median\\\"},\\n            split_by_cement_type=True,\\n        )\\n        scores = scores[0]\\n        if scores_final is None:\\n            scores_final = {key: [] for key, _ in scores.items()}\\n\\n        for key, value in scores.items():\\n            scores_final[key] += [value]\\n\\n    print(\\\"TIMESTEPS: %d \\\" % timesteps)\\n    print_scores(scores_final, METRICS, METRICS_DICT)\\n\\n    # Saving the results\\n    scores = {key: np.array(val).flatten() for key, val in scores_final.items()}\\n    results_dict_copy = results_dict.copy()\\n    results_dict_copy[\\\"Timesteps\\\"] = timesteps\\n    results_dict_copy[\\\"Cross Validation\\\"] = \\\"Blocking Time Series Split\\\"\\n    results_dict_copy[\\n        \\\"Cross Validation Params\\\"\\n    ] = '{\\\"N_Splits\\\": 5, \\\"Repeats\\\": 3, \\\"train_size\\\": 0.8}'\\n    results_dict_copy[\\\"Data Shape\\\"] = x.shape\\n    df_results = fill_results_dict(results_dict_copy, scores)\\n    results_to_save.append(df_results)\\n\\nend = time.time()\\nprint(\\\"Minutes Elapsed: \\\", (end - start) / 60)\";\n",
       "                var nbb_formatted_code = \"start = time.time()\\n\\nrepeats = 3\\nn_splits = 5\\ntrain_size = 0.8\\nTIMESTEPS_LIST = [1, 7]\\n\\nprint(\\\"Blocking Time Series Split:\\\")\\nprint(f\\\"Repeats: {repeats}\\\")\\nprint(f\\\"n_splits: {n_splits}\\\")\\nprint()\\n\\nfor timesteps in TIMESTEPS_LIST:\\n    set_seeds()\\n    scores_final = None\\n\\n    for _ in range(repeats):\\n        x = df_copy.drop([\\\"Date\\\", \\\"CS28\\\"] + CEMENT_TYPES, axis=1)\\n        y = df_copy[\\\"CS28\\\"]\\n\\n        cv = BlockingTimeSeriesSplit(n_splits=n_splits, train_size=train_size)\\n\\n        scores = custom_cross_validate_parallelized(\\n            BidirectionalGRU,\\n            SimpleImputer,\\n            StandardScaler,\\n            x,\\n            y,\\n            cv,\\n            timesteps,\\n            dates=dates,\\n            cement_types=df_copy[CEMENT_TYPES],\\n            estimator_params=None,\\n            imputer_params={\\\"strategy\\\": \\\"median\\\"},\\n            split_by_cement_type=True,\\n        )\\n        scores = scores[0]\\n        if scores_final is None:\\n            scores_final = {key: [] for key, _ in scores.items()}\\n\\n        for key, value in scores.items():\\n            scores_final[key] += [value]\\n\\n    print(\\\"TIMESTEPS: %d \\\" % timesteps)\\n    print_scores(scores_final, METRICS, METRICS_DICT)\\n\\n    # Saving the results\\n    scores = {key: np.array(val).flatten() for key, val in scores_final.items()}\\n    results_dict_copy = results_dict.copy()\\n    results_dict_copy[\\\"Timesteps\\\"] = timesteps\\n    results_dict_copy[\\\"Cross Validation\\\"] = \\\"Blocking Time Series Split\\\"\\n    results_dict_copy[\\n        \\\"Cross Validation Params\\\"\\n    ] = '{\\\"N_Splits\\\": 5, \\\"Repeats\\\": 3, \\\"train_size\\\": 0.8}'\\n    results_dict_copy[\\\"Data Shape\\\"] = x.shape\\n    df_results = fill_results_dict(results_dict_copy, scores)\\n    results_to_save.append(df_results)\\n\\nend = time.time()\\nprint(\\\"Minutes Elapsed: \\\", (end - start) / 60)\";\n",
       "                var nbb_cells = Jupyter.notebook.get_cells();\n",
       "                for (var i = 0; i < nbb_cells.length; ++i) {\n",
       "                    if (nbb_cells[i].input_prompt_number == nbb_cell_id) {\n",
       "                        if (nbb_cells[i].get_text() == nbb_unformatted_code) {\n",
       "                             nbb_cells[i].set_text(nbb_formatted_code);\n",
       "                        }\n",
       "                        break;\n",
       "                    }\n",
       "                }\n",
       "            }, 500);\n",
       "            "
      ],
      "text/plain": [
       "<IPython.core.display.Javascript object>"
      ]
     },
     "metadata": {},
     "output_type": "display_data"
    }
   ],
   "source": [
    "start = time.time()\n",
    "\n",
    "repeats = 3\n",
    "n_splits = 5\n",
    "train_size = 0.8\n",
    "TIMESTEPS_LIST = [1, 7]\n",
    "\n",
    "print(\"Blocking Time Series Split:\")\n",
    "print(f\"Repeats: {repeats}\")\n",
    "print(f\"n_splits: {n_splits}\")\n",
    "print()\n",
    "\n",
    "for timesteps in TIMESTEPS_LIST:\n",
    "    set_seeds()\n",
    "    scores_final = None\n",
    "\n",
    "    for _ in range(repeats):\n",
    "        x = df_copy.drop([\"Date\", \"CS28\"] + CEMENT_TYPES, axis=1)\n",
    "        y = df_copy[\"CS28\"]\n",
    "\n",
    "        cv = BlockingTimeSeriesSplit(n_splits=n_splits, train_size=train_size)\n",
    "\n",
    "        scores = custom_cross_validate_parallelized(\n",
    "            BidirectionalGRU,\n",
    "            SimpleImputer,\n",
    "            StandardScaler,\n",
    "            x,\n",
    "            y,\n",
    "            cv,\n",
    "            timesteps,\n",
    "            dates=dates,\n",
    "            cement_types=df_copy[CEMENT_TYPES],\n",
    "            estimator_params=None,\n",
    "            imputer_params={\"strategy\": \"median\"},\n",
    "            split_by_cement_type=True,\n",
    "        )\n",
    "        scores = scores[0]\n",
    "        if scores_final is None:\n",
    "            scores_final = {key: [] for key, _ in scores.items()}\n",
    "\n",
    "        for key, value in scores.items():\n",
    "            scores_final[key] += [value]\n",
    "\n",
    "    print(\"TIMESTEPS: %d \" % timesteps)\n",
    "    print_scores(scores_final, METRICS, METRICS_DICT)\n",
    "\n",
    "    # Saving the results\n",
    "    scores = {key: np.array(val).flatten() for key, val in scores_final.items()}\n",
    "    results_dict_copy = results_dict.copy()\n",
    "    results_dict_copy[\"Timesteps\"] = timesteps\n",
    "    results_dict_copy[\"Cross Validation\"] = \"Blocking Time Series Split\"\n",
    "    results_dict_copy[\n",
    "        \"Cross Validation Params\"\n",
    "    ] = '{\"N_Splits\": 5, \"Repeats\": 3, \"train_size\": 0.8}'\n",
    "    results_dict_copy[\"Data Shape\"] = x.shape\n",
    "    df_results = fill_results_dict(results_dict_copy, scores)\n",
    "    results_to_save.append(df_results)\n",
    "\n",
    "end = time.time()\n",
    "print(\"Minutes Elapsed: \", (end - start) / 60)"
   ]
  },
  {
   "cell_type": "code",
   "execution_count": 30,
   "id": "1a65ecfb",
   "metadata": {
    "execution": {
     "iopub.execute_input": "2024-03-03T14:25:42.953319Z",
     "iopub.status.busy": "2024-03-03T14:25:42.951729Z",
     "iopub.status.idle": "2024-03-03T14:25:43.006437Z",
     "shell.execute_reply": "2024-03-03T14:25:43.004951Z"
    },
    "papermill": {
     "duration": 0.07514,
     "end_time": "2024-03-03T14:25:43.008754",
     "exception": false,
     "start_time": "2024-03-03T14:25:42.933614",
     "status": "completed"
    },
    "tags": []
   },
   "outputs": [
    {
     "data": {
      "text/html": [
       "<div>\n",
       "<style scoped>\n",
       "    .dataframe tbody tr th:only-of-type {\n",
       "        vertical-align: middle;\n",
       "    }\n",
       "\n",
       "    .dataframe tbody tr th {\n",
       "        vertical-align: top;\n",
       "    }\n",
       "\n",
       "    .dataframe thead tr th {\n",
       "        text-align: left;\n",
       "    }\n",
       "</style>\n",
       "<table border=\"1\" class=\"dataframe\">\n",
       "  <thead>\n",
       "    <tr>\n",
       "      <th></th>\n",
       "      <th>Features</th>\n",
       "      <th>Model</th>\n",
       "      <th>Cross Validation</th>\n",
       "      <th>Timesteps</th>\n",
       "      <th colspan=\"2\" halign=\"left\">RMSE Test</th>\n",
       "      <th colspan=\"2\" halign=\"left\">MAE Test</th>\n",
       "      <th colspan=\"2\" halign=\"left\">MAPE Test</th>\n",
       "      <th colspan=\"2\" halign=\"left\">R2 Test</th>\n",
       "    </tr>\n",
       "    <tr>\n",
       "      <th></th>\n",
       "      <th></th>\n",
       "      <th></th>\n",
       "      <th></th>\n",
       "      <th></th>\n",
       "      <th>mean</th>\n",
       "      <th>std</th>\n",
       "      <th>mean</th>\n",
       "      <th>std</th>\n",
       "      <th>mean</th>\n",
       "      <th>std</th>\n",
       "      <th>mean</th>\n",
       "      <th>std</th>\n",
       "    </tr>\n",
       "  </thead>\n",
       "  <tbody>\n",
       "    <tr>\n",
       "      <th>0</th>\n",
       "      <td>Chemical + Feature Engineering</td>\n",
       "      <td>BidirectionalGRU</td>\n",
       "      <td>Blocking Time Series Split</td>\n",
       "      <td>1</td>\n",
       "      <td>2.754665</td>\n",
       "      <td>0.770302</td>\n",
       "      <td>2.069404</td>\n",
       "      <td>0.675443</td>\n",
       "      <td>0.050956</td>\n",
       "      <td>0.017206</td>\n",
       "      <td>0.722976</td>\n",
       "      <td>0.147805</td>\n",
       "    </tr>\n",
       "    <tr>\n",
       "      <th>1</th>\n",
       "      <td>Chemical + Feature Engineering</td>\n",
       "      <td>BidirectionalGRU</td>\n",
       "      <td>Blocking Time Series Split</td>\n",
       "      <td>7</td>\n",
       "      <td>2.493779</td>\n",
       "      <td>0.684850</td>\n",
       "      <td>2.062914</td>\n",
       "      <td>0.558757</td>\n",
       "      <td>0.049815</td>\n",
       "      <td>0.011860</td>\n",
       "      <td>0.781261</td>\n",
       "      <td>0.097435</td>\n",
       "    </tr>\n",
       "    <tr>\n",
       "      <th>2</th>\n",
       "      <td>Chemical + Feature Engineering</td>\n",
       "      <td>BidirectionalGRU</td>\n",
       "      <td>Repeated KFold</td>\n",
       "      <td>1</td>\n",
       "      <td>1.075406</td>\n",
       "      <td>0.065830</td>\n",
       "      <td>0.804151</td>\n",
       "      <td>0.040896</td>\n",
       "      <td>0.019921</td>\n",
       "      <td>0.001089</td>\n",
       "      <td>0.957770</td>\n",
       "      <td>0.004942</td>\n",
       "    </tr>\n",
       "    <tr>\n",
       "      <th>3</th>\n",
       "      <td>Chemical + Feature Engineering</td>\n",
       "      <td>BidirectionalGRU</td>\n",
       "      <td>Repeated KFold</td>\n",
       "      <td>7</td>\n",
       "      <td>1.182465</td>\n",
       "      <td>0.172288</td>\n",
       "      <td>0.965471</td>\n",
       "      <td>0.148827</td>\n",
       "      <td>0.024307</td>\n",
       "      <td>0.003777</td>\n",
       "      <td>0.947692</td>\n",
       "      <td>0.015775</td>\n",
       "    </tr>\n",
       "    <tr>\n",
       "      <th>4</th>\n",
       "      <td>Chemical + Feature Engineering</td>\n",
       "      <td>BidirectionalGRU</td>\n",
       "      <td>Repeated KFold</td>\n",
       "      <td>14</td>\n",
       "      <td>1.074292</td>\n",
       "      <td>0.088736</td>\n",
       "      <td>0.835655</td>\n",
       "      <td>0.073543</td>\n",
       "      <td>0.020769</td>\n",
       "      <td>0.001834</td>\n",
       "      <td>0.957106</td>\n",
       "      <td>0.007324</td>\n",
       "    </tr>\n",
       "  </tbody>\n",
       "</table>\n",
       "</div>"
      ],
      "text/plain": [
       "                         Features             Model  \\\n",
       "                                                      \n",
       "0  Chemical + Feature Engineering  BidirectionalGRU   \n",
       "1  Chemical + Feature Engineering  BidirectionalGRU   \n",
       "2  Chemical + Feature Engineering  BidirectionalGRU   \n",
       "3  Chemical + Feature Engineering  BidirectionalGRU   \n",
       "4  Chemical + Feature Engineering  BidirectionalGRU   \n",
       "\n",
       "             Cross Validation Timesteps RMSE Test            MAE Test  \\\n",
       "                                             mean       std      mean   \n",
       "0  Blocking Time Series Split         1  2.754665  0.770302  2.069404   \n",
       "1  Blocking Time Series Split         7  2.493779  0.684850  2.062914   \n",
       "2              Repeated KFold         1  1.075406  0.065830  0.804151   \n",
       "3              Repeated KFold         7  1.182465  0.172288  0.965471   \n",
       "4              Repeated KFold        14  1.074292  0.088736  0.835655   \n",
       "\n",
       "            MAPE Test             R2 Test            \n",
       "        std      mean       std      mean       std  \n",
       "0  0.675443  0.050956  0.017206  0.722976  0.147805  \n",
       "1  0.558757  0.049815  0.011860  0.781261  0.097435  \n",
       "2  0.040896  0.019921  0.001089  0.957770  0.004942  \n",
       "3  0.148827  0.024307  0.003777  0.947692  0.015775  \n",
       "4  0.073543  0.020769  0.001834  0.957106  0.007324  "
      ]
     },
     "execution_count": 30,
     "metadata": {},
     "output_type": "execute_result"
    },
    {
     "data": {
      "application/javascript": [
       "\n",
       "            setTimeout(function() {\n",
       "                var nbb_cell_id = 30;\n",
       "                var nbb_unformatted_code = \"pd.concat(results_to_save).reset_index().groupby(\\n    [\\\"Features\\\", \\\"Model\\\", \\\"Cross Validation\\\", \\\"Timesteps\\\"], dropna=False\\n)[[\\\"RMSE Test\\\", \\\"MAE Test\\\", \\\"MAPE Test\\\", \\\"R2 Test\\\"]].agg(\\n    [\\\"mean\\\", lambda series: pd.Series(series.std(ddof=0), name=\\\"std\\\")]\\n).reset_index().rename(\\n    columns={\\\"<lambda_0>\\\": \\\"std\\\"}\\n)\";\n",
       "                var nbb_formatted_code = \"pd.concat(results_to_save).reset_index().groupby(\\n    [\\\"Features\\\", \\\"Model\\\", \\\"Cross Validation\\\", \\\"Timesteps\\\"], dropna=False\\n)[[\\\"RMSE Test\\\", \\\"MAE Test\\\", \\\"MAPE Test\\\", \\\"R2 Test\\\"]].agg(\\n    [\\\"mean\\\", lambda series: pd.Series(series.std(ddof=0), name=\\\"std\\\")]\\n).reset_index().rename(\\n    columns={\\\"<lambda_0>\\\": \\\"std\\\"}\\n)\";\n",
       "                var nbb_cells = Jupyter.notebook.get_cells();\n",
       "                for (var i = 0; i < nbb_cells.length; ++i) {\n",
       "                    if (nbb_cells[i].input_prompt_number == nbb_cell_id) {\n",
       "                        if (nbb_cells[i].get_text() == nbb_unformatted_code) {\n",
       "                             nbb_cells[i].set_text(nbb_formatted_code);\n",
       "                        }\n",
       "                        break;\n",
       "                    }\n",
       "                }\n",
       "            }, 500);\n",
       "            "
      ],
      "text/plain": [
       "<IPython.core.display.Javascript object>"
      ]
     },
     "metadata": {},
     "output_type": "display_data"
    }
   ],
   "source": [
    "pd.concat(results_to_save).reset_index().groupby(\n",
    "    [\"Features\", \"Model\", \"Cross Validation\", \"Timesteps\"], dropna=False\n",
    ")[[\"RMSE Test\", \"MAE Test\", \"MAPE Test\", \"R2 Test\"]].agg(\n",
    "    [\"mean\", lambda series: pd.Series(series.std(ddof=0), name=\"std\")]\n",
    ").reset_index().rename(\n",
    "    columns={\"<lambda_0>\": \"std\"}\n",
    ")"
   ]
  },
  {
   "cell_type": "markdown",
   "id": "89341bff",
   "metadata": {
    "papermill": {
     "duration": 0.018955,
     "end_time": "2024-03-03T14:25:43.045576",
     "exception": false,
     "start_time": "2024-03-03T14:25:43.026621",
     "status": "completed"
    },
    "tags": []
   },
   "source": [
    "## 1.3. Time Series Split Cross Validation\n",
    "\n",
    "The training set has size i * n_samples // (n_splits + 1) + n_samples % (n_splits + 1) in the i th split, with a test set of size n_samples//(n_splits + 1) by default, where n_samples is the number of samples.\n",
    "\n",
    "\n",
    "<b>Dataset shape:</b> (1234, 38)<br>\n",
    "<b>Splits:</b>10<br>    \n",
    "    1. Train: 10 folds of 114, 226, 338, 450, 562, 675, 787, 899, 1011, 1123 samples each fold\n",
    "    2. Test: 112 samples each fold\n",
    "<b>Total:</b> 10 models<br>"
   ]
  },
  {
   "cell_type": "code",
   "execution_count": 31,
   "id": "a7caf41b",
   "metadata": {
    "execution": {
     "iopub.execute_input": "2024-03-03T14:25:43.087937Z",
     "iopub.status.busy": "2024-03-03T14:25:43.087575Z",
     "iopub.status.idle": "2024-03-03T15:06:45.992510Z",
     "shell.execute_reply": "2024-03-03T15:06:45.990681Z"
    },
    "papermill": {
     "duration": 2462.939942,
     "end_time": "2024-03-03T15:06:46.006600",
     "exception": false,
     "start_time": "2024-03-03T14:25:43.066658",
     "status": "completed"
    },
    "scrolled": false,
    "tags": []
   },
   "outputs": [
    {
     "name": "stdout",
     "output_type": "stream",
     "text": [
      "Blocking Time Series Split:\n",
      "Repeats: 3\n",
      "n_splits: 5\n",
      "\n"
     ]
    },
    {
     "name": "stdout",
     "output_type": "stream",
     "text": [
      "TIMESTEPS: 1 \n",
      "******\n",
      "[TRAIN]\n",
      "******\n",
      "RMSE: 1.171 (0.323)\n",
      "MAE: 0.898 (0.262)\n",
      "MAPE: 0.023 (0.007)\n",
      "R2: 0.948 (0.031)\n",
      "\n",
      "======================\n",
      "\n",
      "******\n",
      "[TEST]\n",
      "******\n",
      "RMSE: 1.935 (0.916)\n",
      "MAE: 1.455 (0.661)\n",
      "MAPE: 0.036 (0.016)\n",
      "R2: 0.837 (0.152)\n",
      "\n",
      "======================\n",
      "\n"
     ]
    },
    {
     "name": "stdout",
     "output_type": "stream",
     "text": [
      "TIMESTEPS: 7 \n",
      "******\n",
      "[TRAIN]\n",
      "******\n",
      "RMSE: 0.973 (0.182)\n",
      "MAE: 0.782 (0.139)\n",
      "MAPE: 0.020 (0.003)\n",
      "R2: 0.965 (0.014)\n",
      "\n",
      "======================\n",
      "\n",
      "******\n",
      "[TEST]\n",
      "******\n",
      "RMSE: 1.803 (0.357)\n",
      "MAE: 1.428 (0.294)\n",
      "MAPE: 0.035 (0.007)\n",
      "R2: 0.876 (0.050)\n",
      "\n",
      "======================\n",
      "\n"
     ]
    },
    {
     "name": "stdout",
     "output_type": "stream",
     "text": [
      "TIMESTEPS: 14 \n",
      "******\n",
      "[TRAIN]\n",
      "******\n",
      "RMSE: 0.911 (0.230)\n",
      "MAE: 0.720 (0.214)\n",
      "MAPE: 0.018 (0.006)\n",
      "R2: 0.968 (0.017)\n",
      "\n",
      "======================\n",
      "\n",
      "******\n",
      "[TEST]\n",
      "******\n",
      "RMSE: 1.722 (0.449)\n",
      "MAE: 1.368 (0.377)\n",
      "MAPE: 0.033 (0.008)\n",
      "R2: 0.888 (0.050)\n",
      "\n",
      "======================\n",
      "\n",
      "Minutes Elapsed:  41.04787081480026\n"
     ]
    },
    {
     "data": {
      "application/javascript": [
       "\n",
       "            setTimeout(function() {\n",
       "                var nbb_cell_id = 31;\n",
       "                var nbb_unformatted_code = \"set_seeds()\\nstart = time.time()\\ngap = 0\\nn_splits = 5\\nrepeats = 3\\nTIMESTEPS_LIST = [1, 7, 14]\\n\\nprint(\\\"Blocking Time Series Split:\\\")\\nprint(f\\\"Repeats: {repeats}\\\")\\nprint(f\\\"n_splits: {n_splits}\\\")\\nprint()\\n\\nfor timesteps in TIMESTEPS_LIST:\\n    set_seeds()\\n    scores_final = None\\n\\n    for _ in range(repeats):\\n        x = df_copy.drop([\\\"Date\\\", \\\"CS28\\\"] + CEMENT_TYPES, axis=1)\\n        y = df_copy[\\\"CS28\\\"]\\n\\n        cv = TimeSeriesSplit(\\n            gap=gap, max_train_size=None, n_splits=n_splits, test_size=None\\n        )\\n        scores = custom_cross_validate_parallelized(\\n            BidirectionalGRU,\\n            SimpleImputer,\\n            StandardScaler,\\n            x,\\n            y,\\n            cv,\\n            timesteps,\\n            dates=dates,\\n            cement_types=df_copy[CEMENT_TYPES],\\n            estimator_params=None,\\n            imputer_params={\\\"strategy\\\": \\\"median\\\"},\\n        )\\n        scores = scores[0]\\n        if scores_final is None:\\n            scores_final = {key: [] for key, _ in scores.items()}\\n\\n        for key, value in scores.items():\\n            scores_final[key] += [value]\\n\\n    print(\\\"TIMESTEPS: %d \\\" % timesteps)\\n    print_scores(scores_final, METRICS, METRICS_DICT)\\n\\n    # Saving the results\\n    scores = {key: np.array(val).flatten() for key, val in scores_final.items()}\\n    results_dict_copy = results_dict.copy()\\n    results_dict_copy[\\\"Timesteps\\\"] = timesteps\\n    results_dict_copy[\\\"Cross Validation\\\"] = \\\"Time Series Split\\\"\\n    results_dict_copy[\\n        \\\"Cross Validation Params\\\"\\n    ] = '{\\\"N_Splits\\\": 5, \\\"Repeats\\\": 3, \\\"Gap\\\": 0}'\\n    results_dict_copy[\\\"Data Shape\\\"] = x.shape\\n    df_results = fill_results_dict(results_dict_copy, scores)\\n    results_to_save.append(df_results)\\n\\nend = time.time()\\nprint(\\\"Minutes Elapsed: \\\", (end - start) / 60)\";\n",
       "                var nbb_formatted_code = \"set_seeds()\\nstart = time.time()\\ngap = 0\\nn_splits = 5\\nrepeats = 3\\nTIMESTEPS_LIST = [1, 7, 14]\\n\\nprint(\\\"Blocking Time Series Split:\\\")\\nprint(f\\\"Repeats: {repeats}\\\")\\nprint(f\\\"n_splits: {n_splits}\\\")\\nprint()\\n\\nfor timesteps in TIMESTEPS_LIST:\\n    set_seeds()\\n    scores_final = None\\n\\n    for _ in range(repeats):\\n        x = df_copy.drop([\\\"Date\\\", \\\"CS28\\\"] + CEMENT_TYPES, axis=1)\\n        y = df_copy[\\\"CS28\\\"]\\n\\n        cv = TimeSeriesSplit(\\n            gap=gap, max_train_size=None, n_splits=n_splits, test_size=None\\n        )\\n        scores = custom_cross_validate_parallelized(\\n            BidirectionalGRU,\\n            SimpleImputer,\\n            StandardScaler,\\n            x,\\n            y,\\n            cv,\\n            timesteps,\\n            dates=dates,\\n            cement_types=df_copy[CEMENT_TYPES],\\n            estimator_params=None,\\n            imputer_params={\\\"strategy\\\": \\\"median\\\"},\\n        )\\n        scores = scores[0]\\n        if scores_final is None:\\n            scores_final = {key: [] for key, _ in scores.items()}\\n\\n        for key, value in scores.items():\\n            scores_final[key] += [value]\\n\\n    print(\\\"TIMESTEPS: %d \\\" % timesteps)\\n    print_scores(scores_final, METRICS, METRICS_DICT)\\n\\n    # Saving the results\\n    scores = {key: np.array(val).flatten() for key, val in scores_final.items()}\\n    results_dict_copy = results_dict.copy()\\n    results_dict_copy[\\\"Timesteps\\\"] = timesteps\\n    results_dict_copy[\\\"Cross Validation\\\"] = \\\"Time Series Split\\\"\\n    results_dict_copy[\\n        \\\"Cross Validation Params\\\"\\n    ] = '{\\\"N_Splits\\\": 5, \\\"Repeats\\\": 3, \\\"Gap\\\": 0}'\\n    results_dict_copy[\\\"Data Shape\\\"] = x.shape\\n    df_results = fill_results_dict(results_dict_copy, scores)\\n    results_to_save.append(df_results)\\n\\nend = time.time()\\nprint(\\\"Minutes Elapsed: \\\", (end - start) / 60)\";\n",
       "                var nbb_cells = Jupyter.notebook.get_cells();\n",
       "                for (var i = 0; i < nbb_cells.length; ++i) {\n",
       "                    if (nbb_cells[i].input_prompt_number == nbb_cell_id) {\n",
       "                        if (nbb_cells[i].get_text() == nbb_unformatted_code) {\n",
       "                             nbb_cells[i].set_text(nbb_formatted_code);\n",
       "                        }\n",
       "                        break;\n",
       "                    }\n",
       "                }\n",
       "            }, 500);\n",
       "            "
      ],
      "text/plain": [
       "<IPython.core.display.Javascript object>"
      ]
     },
     "metadata": {},
     "output_type": "display_data"
    }
   ],
   "source": [
    "set_seeds()\n",
    "start = time.time()\n",
    "gap = 0\n",
    "n_splits = 5\n",
    "repeats = 3\n",
    "TIMESTEPS_LIST = [1, 7, 14]\n",
    "\n",
    "print(\"Blocking Time Series Split:\")\n",
    "print(f\"Repeats: {repeats}\")\n",
    "print(f\"n_splits: {n_splits}\")\n",
    "print()\n",
    "\n",
    "for timesteps in TIMESTEPS_LIST:\n",
    "    set_seeds()\n",
    "    scores_final = None\n",
    "\n",
    "    for _ in range(repeats):\n",
    "        x = df_copy.drop([\"Date\", \"CS28\"] + CEMENT_TYPES, axis=1)\n",
    "        y = df_copy[\"CS28\"]\n",
    "\n",
    "        cv = TimeSeriesSplit(\n",
    "            gap=gap, max_train_size=None, n_splits=n_splits, test_size=None\n",
    "        )\n",
    "        scores = custom_cross_validate_parallelized(\n",
    "            BidirectionalGRU,\n",
    "            SimpleImputer,\n",
    "            StandardScaler,\n",
    "            x,\n",
    "            y,\n",
    "            cv,\n",
    "            timesteps,\n",
    "            dates=dates,\n",
    "            cement_types=df_copy[CEMENT_TYPES],\n",
    "            estimator_params=None,\n",
    "            imputer_params={\"strategy\": \"median\"},\n",
    "        )\n",
    "        scores = scores[0]\n",
    "        if scores_final is None:\n",
    "            scores_final = {key: [] for key, _ in scores.items()}\n",
    "\n",
    "        for key, value in scores.items():\n",
    "            scores_final[key] += [value]\n",
    "\n",
    "    print(\"TIMESTEPS: %d \" % timesteps)\n",
    "    print_scores(scores_final, METRICS, METRICS_DICT)\n",
    "\n",
    "    # Saving the results\n",
    "    scores = {key: np.array(val).flatten() for key, val in scores_final.items()}\n",
    "    results_dict_copy = results_dict.copy()\n",
    "    results_dict_copy[\"Timesteps\"] = timesteps\n",
    "    results_dict_copy[\"Cross Validation\"] = \"Time Series Split\"\n",
    "    results_dict_copy[\n",
    "        \"Cross Validation Params\"\n",
    "    ] = '{\"N_Splits\": 5, \"Repeats\": 3, \"Gap\": 0}'\n",
    "    results_dict_copy[\"Data Shape\"] = x.shape\n",
    "    df_results = fill_results_dict(results_dict_copy, scores)\n",
    "    results_to_save.append(df_results)\n",
    "\n",
    "end = time.time()\n",
    "print(\"Minutes Elapsed: \", (end - start) / 60)"
   ]
  },
  {
   "cell_type": "code",
   "execution_count": 32,
   "id": "fbc53015",
   "metadata": {
    "execution": {
     "iopub.execute_input": "2024-03-03T15:06:46.044584Z",
     "iopub.status.busy": "2024-03-03T15:06:46.043536Z",
     "iopub.status.idle": "2024-03-03T15:06:46.096280Z",
     "shell.execute_reply": "2024-03-03T15:06:46.094894Z"
    },
    "papermill": {
     "duration": 0.075488,
     "end_time": "2024-03-03T15:06:46.098328",
     "exception": false,
     "start_time": "2024-03-03T15:06:46.022840",
     "status": "completed"
    },
    "tags": []
   },
   "outputs": [
    {
     "data": {
      "text/html": [
       "<div>\n",
       "<style scoped>\n",
       "    .dataframe tbody tr th:only-of-type {\n",
       "        vertical-align: middle;\n",
       "    }\n",
       "\n",
       "    .dataframe tbody tr th {\n",
       "        vertical-align: top;\n",
       "    }\n",
       "\n",
       "    .dataframe thead tr th {\n",
       "        text-align: left;\n",
       "    }\n",
       "</style>\n",
       "<table border=\"1\" class=\"dataframe\">\n",
       "  <thead>\n",
       "    <tr>\n",
       "      <th></th>\n",
       "      <th>Features</th>\n",
       "      <th>Model</th>\n",
       "      <th>Cross Validation</th>\n",
       "      <th>Timesteps</th>\n",
       "      <th colspan=\"2\" halign=\"left\">RMSE Test</th>\n",
       "      <th colspan=\"2\" halign=\"left\">MAE Test</th>\n",
       "      <th colspan=\"2\" halign=\"left\">MAPE Test</th>\n",
       "      <th colspan=\"2\" halign=\"left\">R2 Test</th>\n",
       "    </tr>\n",
       "    <tr>\n",
       "      <th></th>\n",
       "      <th></th>\n",
       "      <th></th>\n",
       "      <th></th>\n",
       "      <th></th>\n",
       "      <th>mean</th>\n",
       "      <th>std</th>\n",
       "      <th>mean</th>\n",
       "      <th>std</th>\n",
       "      <th>mean</th>\n",
       "      <th>std</th>\n",
       "      <th>mean</th>\n",
       "      <th>std</th>\n",
       "    </tr>\n",
       "  </thead>\n",
       "  <tbody>\n",
       "    <tr>\n",
       "      <th>0</th>\n",
       "      <td>Chemical + Feature Engineering</td>\n",
       "      <td>BidirectionalGRU</td>\n",
       "      <td>Blocking Time Series Split</td>\n",
       "      <td>1</td>\n",
       "      <td>2.754665</td>\n",
       "      <td>0.770302</td>\n",
       "      <td>2.069404</td>\n",
       "      <td>0.675443</td>\n",
       "      <td>0.050956</td>\n",
       "      <td>0.017206</td>\n",
       "      <td>0.722976</td>\n",
       "      <td>0.147805</td>\n",
       "    </tr>\n",
       "    <tr>\n",
       "      <th>1</th>\n",
       "      <td>Chemical + Feature Engineering</td>\n",
       "      <td>BidirectionalGRU</td>\n",
       "      <td>Blocking Time Series Split</td>\n",
       "      <td>7</td>\n",
       "      <td>2.493779</td>\n",
       "      <td>0.684850</td>\n",
       "      <td>2.062914</td>\n",
       "      <td>0.558757</td>\n",
       "      <td>0.049815</td>\n",
       "      <td>0.011860</td>\n",
       "      <td>0.781261</td>\n",
       "      <td>0.097435</td>\n",
       "    </tr>\n",
       "    <tr>\n",
       "      <th>2</th>\n",
       "      <td>Chemical + Feature Engineering</td>\n",
       "      <td>BidirectionalGRU</td>\n",
       "      <td>Repeated KFold</td>\n",
       "      <td>1</td>\n",
       "      <td>1.075406</td>\n",
       "      <td>0.065830</td>\n",
       "      <td>0.804151</td>\n",
       "      <td>0.040896</td>\n",
       "      <td>0.019921</td>\n",
       "      <td>0.001089</td>\n",
       "      <td>0.957770</td>\n",
       "      <td>0.004942</td>\n",
       "    </tr>\n",
       "    <tr>\n",
       "      <th>3</th>\n",
       "      <td>Chemical + Feature Engineering</td>\n",
       "      <td>BidirectionalGRU</td>\n",
       "      <td>Repeated KFold</td>\n",
       "      <td>7</td>\n",
       "      <td>1.182465</td>\n",
       "      <td>0.172288</td>\n",
       "      <td>0.965471</td>\n",
       "      <td>0.148827</td>\n",
       "      <td>0.024307</td>\n",
       "      <td>0.003777</td>\n",
       "      <td>0.947692</td>\n",
       "      <td>0.015775</td>\n",
       "    </tr>\n",
       "    <tr>\n",
       "      <th>4</th>\n",
       "      <td>Chemical + Feature Engineering</td>\n",
       "      <td>BidirectionalGRU</td>\n",
       "      <td>Repeated KFold</td>\n",
       "      <td>14</td>\n",
       "      <td>1.074292</td>\n",
       "      <td>0.088736</td>\n",
       "      <td>0.835655</td>\n",
       "      <td>0.073543</td>\n",
       "      <td>0.020769</td>\n",
       "      <td>0.001834</td>\n",
       "      <td>0.957106</td>\n",
       "      <td>0.007324</td>\n",
       "    </tr>\n",
       "    <tr>\n",
       "      <th>5</th>\n",
       "      <td>Chemical + Feature Engineering</td>\n",
       "      <td>BidirectionalGRU</td>\n",
       "      <td>Time Series Split</td>\n",
       "      <td>1</td>\n",
       "      <td>1.934651</td>\n",
       "      <td>0.916475</td>\n",
       "      <td>1.455086</td>\n",
       "      <td>0.661374</td>\n",
       "      <td>0.035864</td>\n",
       "      <td>0.016255</td>\n",
       "      <td>0.836731</td>\n",
       "      <td>0.152451</td>\n",
       "    </tr>\n",
       "    <tr>\n",
       "      <th>6</th>\n",
       "      <td>Chemical + Feature Engineering</td>\n",
       "      <td>BidirectionalGRU</td>\n",
       "      <td>Time Series Split</td>\n",
       "      <td>7</td>\n",
       "      <td>1.803304</td>\n",
       "      <td>0.356875</td>\n",
       "      <td>1.428453</td>\n",
       "      <td>0.294293</td>\n",
       "      <td>0.035143</td>\n",
       "      <td>0.007258</td>\n",
       "      <td>0.876249</td>\n",
       "      <td>0.050103</td>\n",
       "    </tr>\n",
       "    <tr>\n",
       "      <th>7</th>\n",
       "      <td>Chemical + Feature Engineering</td>\n",
       "      <td>BidirectionalGRU</td>\n",
       "      <td>Time Series Split</td>\n",
       "      <td>14</td>\n",
       "      <td>1.722061</td>\n",
       "      <td>0.449335</td>\n",
       "      <td>1.367697</td>\n",
       "      <td>0.377161</td>\n",
       "      <td>0.033418</td>\n",
       "      <td>0.008155</td>\n",
       "      <td>0.887593</td>\n",
       "      <td>0.050118</td>\n",
       "    </tr>\n",
       "  </tbody>\n",
       "</table>\n",
       "</div>"
      ],
      "text/plain": [
       "                         Features             Model  \\\n",
       "                                                      \n",
       "0  Chemical + Feature Engineering  BidirectionalGRU   \n",
       "1  Chemical + Feature Engineering  BidirectionalGRU   \n",
       "2  Chemical + Feature Engineering  BidirectionalGRU   \n",
       "3  Chemical + Feature Engineering  BidirectionalGRU   \n",
       "4  Chemical + Feature Engineering  BidirectionalGRU   \n",
       "5  Chemical + Feature Engineering  BidirectionalGRU   \n",
       "6  Chemical + Feature Engineering  BidirectionalGRU   \n",
       "7  Chemical + Feature Engineering  BidirectionalGRU   \n",
       "\n",
       "             Cross Validation Timesteps RMSE Test            MAE Test  \\\n",
       "                                             mean       std      mean   \n",
       "0  Blocking Time Series Split         1  2.754665  0.770302  2.069404   \n",
       "1  Blocking Time Series Split         7  2.493779  0.684850  2.062914   \n",
       "2              Repeated KFold         1  1.075406  0.065830  0.804151   \n",
       "3              Repeated KFold         7  1.182465  0.172288  0.965471   \n",
       "4              Repeated KFold        14  1.074292  0.088736  0.835655   \n",
       "5           Time Series Split         1  1.934651  0.916475  1.455086   \n",
       "6           Time Series Split         7  1.803304  0.356875  1.428453   \n",
       "7           Time Series Split        14  1.722061  0.449335  1.367697   \n",
       "\n",
       "            MAPE Test             R2 Test            \n",
       "        std      mean       std      mean       std  \n",
       "0  0.675443  0.050956  0.017206  0.722976  0.147805  \n",
       "1  0.558757  0.049815  0.011860  0.781261  0.097435  \n",
       "2  0.040896  0.019921  0.001089  0.957770  0.004942  \n",
       "3  0.148827  0.024307  0.003777  0.947692  0.015775  \n",
       "4  0.073543  0.020769  0.001834  0.957106  0.007324  \n",
       "5  0.661374  0.035864  0.016255  0.836731  0.152451  \n",
       "6  0.294293  0.035143  0.007258  0.876249  0.050103  \n",
       "7  0.377161  0.033418  0.008155  0.887593  0.050118  "
      ]
     },
     "execution_count": 32,
     "metadata": {},
     "output_type": "execute_result"
    },
    {
     "data": {
      "application/javascript": [
       "\n",
       "            setTimeout(function() {\n",
       "                var nbb_cell_id = 32;\n",
       "                var nbb_unformatted_code = \"pd.concat(results_to_save).reset_index().groupby(\\n    [\\\"Features\\\", \\\"Model\\\", \\\"Cross Validation\\\", \\\"Timesteps\\\"], dropna=False\\n)[[\\\"RMSE Test\\\", \\\"MAE Test\\\", \\\"MAPE Test\\\", \\\"R2 Test\\\"]].agg(\\n    [\\\"mean\\\", lambda series: pd.Series(series.std(ddof=0), name=\\\"std\\\")]\\n).reset_index().rename(\\n    columns={\\\"<lambda_0>\\\": \\\"std\\\"}\\n)\";\n",
       "                var nbb_formatted_code = \"pd.concat(results_to_save).reset_index().groupby(\\n    [\\\"Features\\\", \\\"Model\\\", \\\"Cross Validation\\\", \\\"Timesteps\\\"], dropna=False\\n)[[\\\"RMSE Test\\\", \\\"MAE Test\\\", \\\"MAPE Test\\\", \\\"R2 Test\\\"]].agg(\\n    [\\\"mean\\\", lambda series: pd.Series(series.std(ddof=0), name=\\\"std\\\")]\\n).reset_index().rename(\\n    columns={\\\"<lambda_0>\\\": \\\"std\\\"}\\n)\";\n",
       "                var nbb_cells = Jupyter.notebook.get_cells();\n",
       "                for (var i = 0; i < nbb_cells.length; ++i) {\n",
       "                    if (nbb_cells[i].input_prompt_number == nbb_cell_id) {\n",
       "                        if (nbb_cells[i].get_text() == nbb_unformatted_code) {\n",
       "                             nbb_cells[i].set_text(nbb_formatted_code);\n",
       "                        }\n",
       "                        break;\n",
       "                    }\n",
       "                }\n",
       "            }, 500);\n",
       "            "
      ],
      "text/plain": [
       "<IPython.core.display.Javascript object>"
      ]
     },
     "metadata": {},
     "output_type": "display_data"
    }
   ],
   "source": [
    "pd.concat(results_to_save).reset_index().groupby(\n",
    "    [\"Features\", \"Model\", \"Cross Validation\", \"Timesteps\"], dropna=False\n",
    ")[[\"RMSE Test\", \"MAE Test\", \"MAPE Test\", \"R2 Test\"]].agg(\n",
    "    [\"mean\", lambda series: pd.Series(series.std(ddof=0), name=\"std\")]\n",
    ").reset_index().rename(\n",
    "    columns={\"<lambda_0>\": \"std\"}\n",
    ")"
   ]
  },
  {
   "cell_type": "markdown",
   "id": "d8136cf8",
   "metadata": {
    "papermill": {
     "duration": 0.020607,
     "end_time": "2024-03-03T15:06:46.135480",
     "exception": false,
     "start_time": "2024-03-03T15:06:46.114873",
     "status": "completed"
    },
    "tags": []
   },
   "source": [
    "## 1.4. Out of time Split Cross Validation\n",
    "\n",
    "<b>Dataset shape:</b> (1234, 38)<br>\n",
    "<b>Train size: 80%</b><br>\n",
    "<b>Test  size: 20%</b>\n",
    "\n",
    "\n",
    "<b>Splits:</b> 2<br>    \n",
    "    1. Train: 987\n",
    "    2. Test: 247\n",
    "<b>Total:</b> 1 model<br>"
   ]
  },
  {
   "cell_type": "code",
   "execution_count": 33,
   "id": "a1915b42",
   "metadata": {
    "execution": {
     "iopub.execute_input": "2024-03-03T15:06:46.175401Z",
     "iopub.status.busy": "2024-03-03T15:06:46.174869Z",
     "iopub.status.idle": "2024-03-03T15:19:07.032229Z",
     "shell.execute_reply": "2024-03-03T15:19:07.030864Z"
    },
    "papermill": {
     "duration": 740.896643,
     "end_time": "2024-03-03T15:19:07.051003",
     "exception": false,
     "start_time": "2024-03-03T15:06:46.154360",
     "status": "completed"
    },
    "tags": []
   },
   "outputs": [
    {
     "name": "stdout",
     "output_type": "stream",
     "text": [
      "Out of time Cross Val:\n",
      "Repeats: 3\n",
      "Train: 80% Test: 20%\n",
      "\n"
     ]
    },
    {
     "name": "stdout",
     "output_type": "stream",
     "text": [
      "TIMESTEPS: 1 \n",
      "******\n",
      "[TRAIN]\n",
      "******\n",
      "RMSE: 0.933 (0.013)\n",
      "MAE: 0.711 (0.002)\n",
      "MAPE: 0.018 (0.000)\n",
      "R2: 0.968 (0.001)\n",
      "\n",
      "======================\n",
      "\n",
      "******\n",
      "[TEST]\n",
      "******\n",
      "RMSE: 1.851 (0.066)\n",
      "MAE: 1.385 (0.059)\n",
      "MAPE: 0.033 (0.001)\n",
      "R2: 0.885 (0.008)\n",
      "\n",
      "======================\n",
      "\n"
     ]
    },
    {
     "name": "stdout",
     "output_type": "stream",
     "text": [
      "TIMESTEPS: 7 \n",
      "******\n",
      "[TRAIN]\n",
      "******\n",
      "RMSE: 1.041 (0.141)\n",
      "MAE: 0.865 (0.134)\n",
      "MAPE: 0.022 (0.004)\n",
      "R2: 0.959 (0.011)\n",
      "\n",
      "======================\n",
      "\n",
      "******\n",
      "[TEST]\n",
      "******\n",
      "RMSE: 2.193 (0.333)\n",
      "MAE: 1.749 (0.324)\n",
      "MAPE: 0.042 (0.008)\n",
      "R2: 0.836 (0.050)\n",
      "\n",
      "======================\n",
      "\n"
     ]
    },
    {
     "name": "stdout",
     "output_type": "stream",
     "text": [
      "TIMESTEPS: 14 \n",
      "******\n",
      "[TRAIN]\n",
      "******\n",
      "RMSE: 0.844 (0.055)\n",
      "MAE: 0.647 (0.041)\n",
      "MAPE: 0.016 (0.001)\n",
      "R2: 0.973 (0.004)\n",
      "\n",
      "======================\n",
      "\n",
      "******\n",
      "[TEST]\n",
      "******\n",
      "RMSE: 2.518 (0.087)\n",
      "MAE: 2.044 (0.081)\n",
      "MAPE: 0.048 (0.002)\n",
      "R2: 0.789 (0.014)\n",
      "\n",
      "======================\n",
      "\n",
      "Minutes Elapsed:  12.346881155172984\n"
     ]
    },
    {
     "data": {
      "application/javascript": [
       "\n",
       "            setTimeout(function() {\n",
       "                var nbb_cell_id = 33;\n",
       "                var nbb_unformatted_code = \"start = time.time()\\ntest_size = 0.2\\nrepeats = 3\\nTIMESTEPS_LIST = [1, 7, 14]\\n\\nprint(\\\"Out of time Cross Val:\\\")\\nprint(f\\\"Repeats: {repeats}\\\")\\nprint(f\\\"Train: {80}%\\\", f\\\"Test: {20}%\\\")\\nprint()\\n\\nfor timesteps in TIMESTEPS_LIST:\\n    set_seeds()\\n\\n    def parallel_repeats(repeat):\\n        set_seeds(SEED + repeat)\\n\\n        scores_final = None\\n\\n        # Data Splitting\\n        x = df_copy.drop([\\\"Date\\\", \\\"CS28\\\"] + CEMENT_TYPES, axis=1).copy()\\n        y = df_copy[\\\"CS28\\\"].copy()\\n\\n        x_train, x_test, y_train, y_test = train_test_split(\\n            x, y, test_size=test_size, random_state=SEED, shuffle=False\\n        )\\n\\n        # Preprocessing\\n        imputer = SimpleImputer(strategy=\\\"median\\\")\\n        scaler = StandardScaler()\\n\\n        x_train = imputer.fit_transform(x_train)\\n        x_train = scaler.fit_transform(x_train)\\n        dates_train = dates[: x_train.shape[0]].reset_index(drop=True)\\n        cement_types_train = df_copy[CEMENT_TYPES][: x_train.shape[0]].reset_index(\\n            drop=True\\n        )\\n\\n        x_test = imputer.transform(x_test)\\n        x_test = scaler.transform(x_test)\\n        dates_test = dates[x_train.shape[0] :].reset_index(drop=True)\\n        cement_types_test = df_copy[CEMENT_TYPES][x_train.shape[0] :].reset_index(\\n            drop=True\\n        )\\n\\n        # Sequence Splitting\\n        data_train = pd.concat(\\n            [\\n                dates_train,\\n                pd.DataFrame(x_train, columns=x.columns),\\n                cement_types_train,\\n                y_train.reset_index(drop=True),\\n            ],\\n            axis=1,\\n        )\\n        data_test = pd.concat(\\n            [\\n                dates_test,\\n                pd.DataFrame(x_test, columns=x.columns),\\n                cement_types_test,\\n                y_test.reset_index(drop=True),\\n            ],\\n            axis=1,\\n        )\\n\\n        x_train, y_train = split_sequences_per_cement_type(data_train, timesteps)\\n        x_test, y_test = split_sequences_per_cement_type(data_test, timesteps)\\n\\n        # Train model and test evalutation\\n        # Fit model\\n        pipeline = Pipeline([(\\\"estimator\\\", BidirectionalGRU())])\\n        pipeline.fit(x_train, y_train)\\n\\n        # Make predictions\\n        y_train_pred = pipeline.predict(x_train)\\n        y_test_pred = pipeline.predict(x_test)\\n\\n        # evaluate predictions\\n        scores = score_regression_metrics(y_train, y_train_pred, y_test, y_test_pred)\\n\\n        if scores_final is None:\\n            scores_final = {key: [] for key, _ in scores.items()}\\n\\n        for key, value in scores.items():\\n            scores_final[key] += [value]\\n\\n        return scores_final\\n\\n    scores = Parallel(n_jobs=5)(\\n        delayed(parallel_repeats)(repeat) for repeat in range(repeats)\\n    )\\n    scores_final = {key: [] for key, _ in scores[0].items()}\\n    for scores_dict in scores:\\n        for key, value in scores_dict.items():\\n            scores_final[key] += value\\n\\n    print(\\\"TIMESTEPS: %d \\\" % timesteps)\\n    print_scores(scores_final, METRICS, METRICS_DICT)\\n\\n    # Saving the results\\n    # scores = {key: val[0] for key, val in scores.items()}\\n    results_dict_copy = results_dict.copy()\\n    results_dict_copy[\\\"Timesteps\\\"] = timesteps\\n    results_dict_copy[\\\"Cross Validation\\\"] = \\\"Out of time Split\\\"\\n    results_dict_copy[\\\"Cross Validation Params\\\"] = '{\\\"Test Size\\\": 0.2}'\\n    results_dict_copy[\\\"Data Shape\\\"] = x.shape\\n    df_results = fill_results_dict(\\n        results_dict_copy, {key: value for key, value in scores_final.items()}\\n    )\\n    results_to_save.append(df_results)\\n\\nend = time.time()\\nprint(\\\"Minutes Elapsed: \\\", (end - start) / 60)\";\n",
       "                var nbb_formatted_code = \"start = time.time()\\ntest_size = 0.2\\nrepeats = 3\\nTIMESTEPS_LIST = [1, 7, 14]\\n\\nprint(\\\"Out of time Cross Val:\\\")\\nprint(f\\\"Repeats: {repeats}\\\")\\nprint(f\\\"Train: {80}%\\\", f\\\"Test: {20}%\\\")\\nprint()\\n\\nfor timesteps in TIMESTEPS_LIST:\\n    set_seeds()\\n\\n    def parallel_repeats(repeat):\\n        set_seeds(SEED + repeat)\\n\\n        scores_final = None\\n\\n        # Data Splitting\\n        x = df_copy.drop([\\\"Date\\\", \\\"CS28\\\"] + CEMENT_TYPES, axis=1).copy()\\n        y = df_copy[\\\"CS28\\\"].copy()\\n\\n        x_train, x_test, y_train, y_test = train_test_split(\\n            x, y, test_size=test_size, random_state=SEED, shuffle=False\\n        )\\n\\n        # Preprocessing\\n        imputer = SimpleImputer(strategy=\\\"median\\\")\\n        scaler = StandardScaler()\\n\\n        x_train = imputer.fit_transform(x_train)\\n        x_train = scaler.fit_transform(x_train)\\n        dates_train = dates[: x_train.shape[0]].reset_index(drop=True)\\n        cement_types_train = df_copy[CEMENT_TYPES][: x_train.shape[0]].reset_index(\\n            drop=True\\n        )\\n\\n        x_test = imputer.transform(x_test)\\n        x_test = scaler.transform(x_test)\\n        dates_test = dates[x_train.shape[0] :].reset_index(drop=True)\\n        cement_types_test = df_copy[CEMENT_TYPES][x_train.shape[0] :].reset_index(\\n            drop=True\\n        )\\n\\n        # Sequence Splitting\\n        data_train = pd.concat(\\n            [\\n                dates_train,\\n                pd.DataFrame(x_train, columns=x.columns),\\n                cement_types_train,\\n                y_train.reset_index(drop=True),\\n            ],\\n            axis=1,\\n        )\\n        data_test = pd.concat(\\n            [\\n                dates_test,\\n                pd.DataFrame(x_test, columns=x.columns),\\n                cement_types_test,\\n                y_test.reset_index(drop=True),\\n            ],\\n            axis=1,\\n        )\\n\\n        x_train, y_train = split_sequences_per_cement_type(data_train, timesteps)\\n        x_test, y_test = split_sequences_per_cement_type(data_test, timesteps)\\n\\n        # Train model and test evalutation\\n        # Fit model\\n        pipeline = Pipeline([(\\\"estimator\\\", BidirectionalGRU())])\\n        pipeline.fit(x_train, y_train)\\n\\n        # Make predictions\\n        y_train_pred = pipeline.predict(x_train)\\n        y_test_pred = pipeline.predict(x_test)\\n\\n        # evaluate predictions\\n        scores = score_regression_metrics(y_train, y_train_pred, y_test, y_test_pred)\\n\\n        if scores_final is None:\\n            scores_final = {key: [] for key, _ in scores.items()}\\n\\n        for key, value in scores.items():\\n            scores_final[key] += [value]\\n\\n        return scores_final\\n\\n    scores = Parallel(n_jobs=5)(\\n        delayed(parallel_repeats)(repeat) for repeat in range(repeats)\\n    )\\n    scores_final = {key: [] for key, _ in scores[0].items()}\\n    for scores_dict in scores:\\n        for key, value in scores_dict.items():\\n            scores_final[key] += value\\n\\n    print(\\\"TIMESTEPS: %d \\\" % timesteps)\\n    print_scores(scores_final, METRICS, METRICS_DICT)\\n\\n    # Saving the results\\n    # scores = {key: val[0] for key, val in scores.items()}\\n    results_dict_copy = results_dict.copy()\\n    results_dict_copy[\\\"Timesteps\\\"] = timesteps\\n    results_dict_copy[\\\"Cross Validation\\\"] = \\\"Out of time Split\\\"\\n    results_dict_copy[\\\"Cross Validation Params\\\"] = '{\\\"Test Size\\\": 0.2}'\\n    results_dict_copy[\\\"Data Shape\\\"] = x.shape\\n    df_results = fill_results_dict(\\n        results_dict_copy, {key: value for key, value in scores_final.items()}\\n    )\\n    results_to_save.append(df_results)\\n\\nend = time.time()\\nprint(\\\"Minutes Elapsed: \\\", (end - start) / 60)\";\n",
       "                var nbb_cells = Jupyter.notebook.get_cells();\n",
       "                for (var i = 0; i < nbb_cells.length; ++i) {\n",
       "                    if (nbb_cells[i].input_prompt_number == nbb_cell_id) {\n",
       "                        if (nbb_cells[i].get_text() == nbb_unformatted_code) {\n",
       "                             nbb_cells[i].set_text(nbb_formatted_code);\n",
       "                        }\n",
       "                        break;\n",
       "                    }\n",
       "                }\n",
       "            }, 500);\n",
       "            "
      ],
      "text/plain": [
       "<IPython.core.display.Javascript object>"
      ]
     },
     "metadata": {},
     "output_type": "display_data"
    }
   ],
   "source": [
    "start = time.time()\n",
    "test_size = 0.2\n",
    "repeats = 3\n",
    "TIMESTEPS_LIST = [1, 7, 14]\n",
    "\n",
    "print(\"Out of time Cross Val:\")\n",
    "print(f\"Repeats: {repeats}\")\n",
    "print(f\"Train: {80}%\", f\"Test: {20}%\")\n",
    "print()\n",
    "\n",
    "for timesteps in TIMESTEPS_LIST:\n",
    "    set_seeds()\n",
    "\n",
    "    def parallel_repeats(repeat):\n",
    "        set_seeds(SEED + repeat)\n",
    "\n",
    "        scores_final = None\n",
    "\n",
    "        # Data Splitting\n",
    "        x = df_copy.drop([\"Date\", \"CS28\"] + CEMENT_TYPES, axis=1).copy()\n",
    "        y = df_copy[\"CS28\"].copy()\n",
    "\n",
    "        x_train, x_test, y_train, y_test = train_test_split(\n",
    "            x, y, test_size=test_size, random_state=SEED, shuffle=False\n",
    "        )\n",
    "\n",
    "        # Preprocessing\n",
    "        imputer = SimpleImputer(strategy=\"median\")\n",
    "        scaler = StandardScaler()\n",
    "\n",
    "        x_train = imputer.fit_transform(x_train)\n",
    "        x_train = scaler.fit_transform(x_train)\n",
    "        dates_train = dates[: x_train.shape[0]].reset_index(drop=True)\n",
    "        cement_types_train = df_copy[CEMENT_TYPES][: x_train.shape[0]].reset_index(\n",
    "            drop=True\n",
    "        )\n",
    "\n",
    "        x_test = imputer.transform(x_test)\n",
    "        x_test = scaler.transform(x_test)\n",
    "        dates_test = dates[x_train.shape[0] :].reset_index(drop=True)\n",
    "        cement_types_test = df_copy[CEMENT_TYPES][x_train.shape[0] :].reset_index(\n",
    "            drop=True\n",
    "        )\n",
    "\n",
    "        # Sequence Splitting\n",
    "        data_train = pd.concat(\n",
    "            [\n",
    "                dates_train,\n",
    "                pd.DataFrame(x_train, columns=x.columns),\n",
    "                cement_types_train,\n",
    "                y_train.reset_index(drop=True),\n",
    "            ],\n",
    "            axis=1,\n",
    "        )\n",
    "        data_test = pd.concat(\n",
    "            [\n",
    "                dates_test,\n",
    "                pd.DataFrame(x_test, columns=x.columns),\n",
    "                cement_types_test,\n",
    "                y_test.reset_index(drop=True),\n",
    "            ],\n",
    "            axis=1,\n",
    "        )\n",
    "\n",
    "        x_train, y_train = split_sequences_per_cement_type(data_train, timesteps)\n",
    "        x_test, y_test = split_sequences_per_cement_type(data_test, timesteps)\n",
    "\n",
    "        # Train model and test evalutation\n",
    "        # Fit model\n",
    "        pipeline = Pipeline([(\"estimator\", BidirectionalGRU())])\n",
    "        pipeline.fit(x_train, y_train)\n",
    "\n",
    "        # Make predictions\n",
    "        y_train_pred = pipeline.predict(x_train)\n",
    "        y_test_pred = pipeline.predict(x_test)\n",
    "\n",
    "        # evaluate predictions\n",
    "        scores = score_regression_metrics(y_train, y_train_pred, y_test, y_test_pred)\n",
    "\n",
    "        if scores_final is None:\n",
    "            scores_final = {key: [] for key, _ in scores.items()}\n",
    "\n",
    "        for key, value in scores.items():\n",
    "            scores_final[key] += [value]\n",
    "\n",
    "        return scores_final\n",
    "\n",
    "    scores = Parallel(n_jobs=5)(\n",
    "        delayed(parallel_repeats)(repeat) for repeat in range(repeats)\n",
    "    )\n",
    "    scores_final = {key: [] for key, _ in scores[0].items()}\n",
    "    for scores_dict in scores:\n",
    "        for key, value in scores_dict.items():\n",
    "            scores_final[key] += value\n",
    "\n",
    "    print(\"TIMESTEPS: %d \" % timesteps)\n",
    "    print_scores(scores_final, METRICS, METRICS_DICT)\n",
    "\n",
    "    # Saving the results\n",
    "    # scores = {key: val[0] for key, val in scores.items()}\n",
    "    results_dict_copy = results_dict.copy()\n",
    "    results_dict_copy[\"Timesteps\"] = timesteps\n",
    "    results_dict_copy[\"Cross Validation\"] = \"Out of time Split\"\n",
    "    results_dict_copy[\"Cross Validation Params\"] = '{\"Test Size\": 0.2}'\n",
    "    results_dict_copy[\"Data Shape\"] = x.shape\n",
    "    df_results = fill_results_dict(\n",
    "        results_dict_copy, {key: value for key, value in scores_final.items()}\n",
    "    )\n",
    "    results_to_save.append(df_results)\n",
    "\n",
    "end = time.time()\n",
    "print(\"Minutes Elapsed: \", (end - start) / 60)"
   ]
  },
  {
   "cell_type": "code",
   "execution_count": 34,
   "id": "4a423391",
   "metadata": {
    "execution": {
     "iopub.execute_input": "2024-03-03T15:19:07.081495Z",
     "iopub.status.busy": "2024-03-03T15:19:07.080199Z",
     "iopub.status.idle": "2024-03-03T15:19:07.128590Z",
     "shell.execute_reply": "2024-03-03T15:19:07.127663Z"
    },
    "papermill": {
     "duration": 0.065847,
     "end_time": "2024-03-03T15:19:07.130407",
     "exception": false,
     "start_time": "2024-03-03T15:19:07.064560",
     "status": "completed"
    },
    "tags": []
   },
   "outputs": [
    {
     "data": {
      "text/html": [
       "<div>\n",
       "<style scoped>\n",
       "    .dataframe tbody tr th:only-of-type {\n",
       "        vertical-align: middle;\n",
       "    }\n",
       "\n",
       "    .dataframe tbody tr th {\n",
       "        vertical-align: top;\n",
       "    }\n",
       "\n",
       "    .dataframe thead tr th {\n",
       "        text-align: left;\n",
       "    }\n",
       "</style>\n",
       "<table border=\"1\" class=\"dataframe\">\n",
       "  <thead>\n",
       "    <tr>\n",
       "      <th></th>\n",
       "      <th>Features</th>\n",
       "      <th>Model</th>\n",
       "      <th>Cross Validation</th>\n",
       "      <th>Timesteps</th>\n",
       "      <th colspan=\"2\" halign=\"left\">RMSE Test</th>\n",
       "      <th colspan=\"2\" halign=\"left\">MAE Test</th>\n",
       "      <th colspan=\"2\" halign=\"left\">MAPE Test</th>\n",
       "      <th colspan=\"2\" halign=\"left\">R2 Test</th>\n",
       "    </tr>\n",
       "    <tr>\n",
       "      <th></th>\n",
       "      <th></th>\n",
       "      <th></th>\n",
       "      <th></th>\n",
       "      <th></th>\n",
       "      <th>mean</th>\n",
       "      <th>std</th>\n",
       "      <th>mean</th>\n",
       "      <th>std</th>\n",
       "      <th>mean</th>\n",
       "      <th>std</th>\n",
       "      <th>mean</th>\n",
       "      <th>std</th>\n",
       "    </tr>\n",
       "  </thead>\n",
       "  <tbody>\n",
       "    <tr>\n",
       "      <th>0</th>\n",
       "      <td>Chemical + Feature Engineering</td>\n",
       "      <td>BidirectionalGRU</td>\n",
       "      <td>Blocking Time Series Split</td>\n",
       "      <td>1</td>\n",
       "      <td>2.754665</td>\n",
       "      <td>0.770302</td>\n",
       "      <td>2.069404</td>\n",
       "      <td>0.675443</td>\n",
       "      <td>0.050956</td>\n",
       "      <td>0.017206</td>\n",
       "      <td>0.722976</td>\n",
       "      <td>0.147805</td>\n",
       "    </tr>\n",
       "    <tr>\n",
       "      <th>1</th>\n",
       "      <td>Chemical + Feature Engineering</td>\n",
       "      <td>BidirectionalGRU</td>\n",
       "      <td>Blocking Time Series Split</td>\n",
       "      <td>7</td>\n",
       "      <td>2.493779</td>\n",
       "      <td>0.684850</td>\n",
       "      <td>2.062914</td>\n",
       "      <td>0.558757</td>\n",
       "      <td>0.049815</td>\n",
       "      <td>0.011860</td>\n",
       "      <td>0.781261</td>\n",
       "      <td>0.097435</td>\n",
       "    </tr>\n",
       "    <tr>\n",
       "      <th>2</th>\n",
       "      <td>Chemical + Feature Engineering</td>\n",
       "      <td>BidirectionalGRU</td>\n",
       "      <td>Out of time Split</td>\n",
       "      <td>1</td>\n",
       "      <td>1.851125</td>\n",
       "      <td>0.065963</td>\n",
       "      <td>1.384540</td>\n",
       "      <td>0.058507</td>\n",
       "      <td>0.032689</td>\n",
       "      <td>0.001452</td>\n",
       "      <td>0.884636</td>\n",
       "      <td>0.008127</td>\n",
       "    </tr>\n",
       "    <tr>\n",
       "      <th>3</th>\n",
       "      <td>Chemical + Feature Engineering</td>\n",
       "      <td>BidirectionalGRU</td>\n",
       "      <td>Out of time Split</td>\n",
       "      <td>7</td>\n",
       "      <td>2.193046</td>\n",
       "      <td>0.332533</td>\n",
       "      <td>1.748711</td>\n",
       "      <td>0.324014</td>\n",
       "      <td>0.041779</td>\n",
       "      <td>0.007723</td>\n",
       "      <td>0.836172</td>\n",
       "      <td>0.050496</td>\n",
       "    </tr>\n",
       "    <tr>\n",
       "      <th>4</th>\n",
       "      <td>Chemical + Feature Engineering</td>\n",
       "      <td>BidirectionalGRU</td>\n",
       "      <td>Out of time Split</td>\n",
       "      <td>14</td>\n",
       "      <td>2.517675</td>\n",
       "      <td>0.086710</td>\n",
       "      <td>2.043787</td>\n",
       "      <td>0.081053</td>\n",
       "      <td>0.048042</td>\n",
       "      <td>0.002092</td>\n",
       "      <td>0.789157</td>\n",
       "      <td>0.014329</td>\n",
       "    </tr>\n",
       "    <tr>\n",
       "      <th>5</th>\n",
       "      <td>Chemical + Feature Engineering</td>\n",
       "      <td>BidirectionalGRU</td>\n",
       "      <td>Repeated KFold</td>\n",
       "      <td>1</td>\n",
       "      <td>1.075406</td>\n",
       "      <td>0.065830</td>\n",
       "      <td>0.804151</td>\n",
       "      <td>0.040896</td>\n",
       "      <td>0.019921</td>\n",
       "      <td>0.001089</td>\n",
       "      <td>0.957770</td>\n",
       "      <td>0.004942</td>\n",
       "    </tr>\n",
       "    <tr>\n",
       "      <th>6</th>\n",
       "      <td>Chemical + Feature Engineering</td>\n",
       "      <td>BidirectionalGRU</td>\n",
       "      <td>Repeated KFold</td>\n",
       "      <td>7</td>\n",
       "      <td>1.182465</td>\n",
       "      <td>0.172288</td>\n",
       "      <td>0.965471</td>\n",
       "      <td>0.148827</td>\n",
       "      <td>0.024307</td>\n",
       "      <td>0.003777</td>\n",
       "      <td>0.947692</td>\n",
       "      <td>0.015775</td>\n",
       "    </tr>\n",
       "    <tr>\n",
       "      <th>7</th>\n",
       "      <td>Chemical + Feature Engineering</td>\n",
       "      <td>BidirectionalGRU</td>\n",
       "      <td>Repeated KFold</td>\n",
       "      <td>14</td>\n",
       "      <td>1.074292</td>\n",
       "      <td>0.088736</td>\n",
       "      <td>0.835655</td>\n",
       "      <td>0.073543</td>\n",
       "      <td>0.020769</td>\n",
       "      <td>0.001834</td>\n",
       "      <td>0.957106</td>\n",
       "      <td>0.007324</td>\n",
       "    </tr>\n",
       "    <tr>\n",
       "      <th>8</th>\n",
       "      <td>Chemical + Feature Engineering</td>\n",
       "      <td>BidirectionalGRU</td>\n",
       "      <td>Time Series Split</td>\n",
       "      <td>1</td>\n",
       "      <td>1.934651</td>\n",
       "      <td>0.916475</td>\n",
       "      <td>1.455086</td>\n",
       "      <td>0.661374</td>\n",
       "      <td>0.035864</td>\n",
       "      <td>0.016255</td>\n",
       "      <td>0.836731</td>\n",
       "      <td>0.152451</td>\n",
       "    </tr>\n",
       "    <tr>\n",
       "      <th>9</th>\n",
       "      <td>Chemical + Feature Engineering</td>\n",
       "      <td>BidirectionalGRU</td>\n",
       "      <td>Time Series Split</td>\n",
       "      <td>7</td>\n",
       "      <td>1.803304</td>\n",
       "      <td>0.356875</td>\n",
       "      <td>1.428453</td>\n",
       "      <td>0.294293</td>\n",
       "      <td>0.035143</td>\n",
       "      <td>0.007258</td>\n",
       "      <td>0.876249</td>\n",
       "      <td>0.050103</td>\n",
       "    </tr>\n",
       "    <tr>\n",
       "      <th>10</th>\n",
       "      <td>Chemical + Feature Engineering</td>\n",
       "      <td>BidirectionalGRU</td>\n",
       "      <td>Time Series Split</td>\n",
       "      <td>14</td>\n",
       "      <td>1.722061</td>\n",
       "      <td>0.449335</td>\n",
       "      <td>1.367697</td>\n",
       "      <td>0.377161</td>\n",
       "      <td>0.033418</td>\n",
       "      <td>0.008155</td>\n",
       "      <td>0.887593</td>\n",
       "      <td>0.050118</td>\n",
       "    </tr>\n",
       "  </tbody>\n",
       "</table>\n",
       "</div>"
      ],
      "text/plain": [
       "                          Features             Model  \\\n",
       "                                                       \n",
       "0   Chemical + Feature Engineering  BidirectionalGRU   \n",
       "1   Chemical + Feature Engineering  BidirectionalGRU   \n",
       "2   Chemical + Feature Engineering  BidirectionalGRU   \n",
       "3   Chemical + Feature Engineering  BidirectionalGRU   \n",
       "4   Chemical + Feature Engineering  BidirectionalGRU   \n",
       "5   Chemical + Feature Engineering  BidirectionalGRU   \n",
       "6   Chemical + Feature Engineering  BidirectionalGRU   \n",
       "7   Chemical + Feature Engineering  BidirectionalGRU   \n",
       "8   Chemical + Feature Engineering  BidirectionalGRU   \n",
       "9   Chemical + Feature Engineering  BidirectionalGRU   \n",
       "10  Chemical + Feature Engineering  BidirectionalGRU   \n",
       "\n",
       "              Cross Validation Timesteps RMSE Test            MAE Test  \\\n",
       "                                              mean       std      mean   \n",
       "0   Blocking Time Series Split         1  2.754665  0.770302  2.069404   \n",
       "1   Blocking Time Series Split         7  2.493779  0.684850  2.062914   \n",
       "2            Out of time Split         1  1.851125  0.065963  1.384540   \n",
       "3            Out of time Split         7  2.193046  0.332533  1.748711   \n",
       "4            Out of time Split        14  2.517675  0.086710  2.043787   \n",
       "5               Repeated KFold         1  1.075406  0.065830  0.804151   \n",
       "6               Repeated KFold         7  1.182465  0.172288  0.965471   \n",
       "7               Repeated KFold        14  1.074292  0.088736  0.835655   \n",
       "8            Time Series Split         1  1.934651  0.916475  1.455086   \n",
       "9            Time Series Split         7  1.803304  0.356875  1.428453   \n",
       "10           Time Series Split        14  1.722061  0.449335  1.367697   \n",
       "\n",
       "             MAPE Test             R2 Test            \n",
       "         std      mean       std      mean       std  \n",
       "0   0.675443  0.050956  0.017206  0.722976  0.147805  \n",
       "1   0.558757  0.049815  0.011860  0.781261  0.097435  \n",
       "2   0.058507  0.032689  0.001452  0.884636  0.008127  \n",
       "3   0.324014  0.041779  0.007723  0.836172  0.050496  \n",
       "4   0.081053  0.048042  0.002092  0.789157  0.014329  \n",
       "5   0.040896  0.019921  0.001089  0.957770  0.004942  \n",
       "6   0.148827  0.024307  0.003777  0.947692  0.015775  \n",
       "7   0.073543  0.020769  0.001834  0.957106  0.007324  \n",
       "8   0.661374  0.035864  0.016255  0.836731  0.152451  \n",
       "9   0.294293  0.035143  0.007258  0.876249  0.050103  \n",
       "10  0.377161  0.033418  0.008155  0.887593  0.050118  "
      ]
     },
     "execution_count": 34,
     "metadata": {},
     "output_type": "execute_result"
    },
    {
     "data": {
      "application/javascript": [
       "\n",
       "            setTimeout(function() {\n",
       "                var nbb_cell_id = 34;\n",
       "                var nbb_unformatted_code = \"pd.concat(results_to_save).reset_index().groupby(\\n    [\\\"Features\\\", \\\"Model\\\", \\\"Cross Validation\\\", \\\"Timesteps\\\"], dropna=False\\n)[[\\\"RMSE Test\\\", \\\"MAE Test\\\", \\\"MAPE Test\\\", \\\"R2 Test\\\"]].agg(\\n    [\\\"mean\\\", lambda series: pd.Series(series.std(ddof=0), name=\\\"std\\\")]\\n).reset_index().rename(\\n    columns={\\\"<lambda_0>\\\": \\\"std\\\"}\\n)\";\n",
       "                var nbb_formatted_code = \"pd.concat(results_to_save).reset_index().groupby(\\n    [\\\"Features\\\", \\\"Model\\\", \\\"Cross Validation\\\", \\\"Timesteps\\\"], dropna=False\\n)[[\\\"RMSE Test\\\", \\\"MAE Test\\\", \\\"MAPE Test\\\", \\\"R2 Test\\\"]].agg(\\n    [\\\"mean\\\", lambda series: pd.Series(series.std(ddof=0), name=\\\"std\\\")]\\n).reset_index().rename(\\n    columns={\\\"<lambda_0>\\\": \\\"std\\\"}\\n)\";\n",
       "                var nbb_cells = Jupyter.notebook.get_cells();\n",
       "                for (var i = 0; i < nbb_cells.length; ++i) {\n",
       "                    if (nbb_cells[i].input_prompt_number == nbb_cell_id) {\n",
       "                        if (nbb_cells[i].get_text() == nbb_unformatted_code) {\n",
       "                             nbb_cells[i].set_text(nbb_formatted_code);\n",
       "                        }\n",
       "                        break;\n",
       "                    }\n",
       "                }\n",
       "            }, 500);\n",
       "            "
      ],
      "text/plain": [
       "<IPython.core.display.Javascript object>"
      ]
     },
     "metadata": {},
     "output_type": "display_data"
    }
   ],
   "source": [
    "pd.concat(results_to_save).reset_index().groupby(\n",
    "    [\"Features\", \"Model\", \"Cross Validation\", \"Timesteps\"], dropna=False\n",
    ")[[\"RMSE Test\", \"MAE Test\", \"MAPE Test\", \"R2 Test\"]].agg(\n",
    "    [\"mean\", lambda series: pd.Series(series.std(ddof=0), name=\"std\")]\n",
    ").reset_index().rename(\n",
    "    columns={\"<lambda_0>\": \"std\"}\n",
    ")\n"
   ]
  },
  {
   "cell_type": "markdown",
   "id": "1b96e153",
   "metadata": {
    "papermill": {
     "duration": 0.016434,
     "end_time": "2024-03-03T15:19:07.164933",
     "exception": false,
     "start_time": "2024-03-03T15:19:07.148499",
     "status": "completed"
    },
    "tags": []
   },
   "source": [
    "# Saving the results Dataframe"
   ]
  },
  {
   "cell_type": "markdown",
   "id": "eca24eba",
   "metadata": {
    "papermill": {
     "duration": 0.014127,
     "end_time": "2024-03-03T15:19:07.194138",
     "exception": false,
     "start_time": "2024-03-03T15:19:07.180011",
     "status": "completed"
    },
    "tags": []
   },
   "source": [
    "## Saving the full dataframe"
   ]
  },
  {
   "cell_type": "code",
   "execution_count": 35,
   "id": "d049b1fb",
   "metadata": {
    "execution": {
     "iopub.execute_input": "2024-03-03T15:19:07.224548Z",
     "iopub.status.busy": "2024-03-03T15:19:07.223620Z",
     "iopub.status.idle": "2024-03-03T15:19:07.240685Z",
     "shell.execute_reply": "2024-03-03T15:19:07.239485Z"
    },
    "papermill": {
     "duration": 0.034458,
     "end_time": "2024-03-03T15:19:07.242553",
     "exception": false,
     "start_time": "2024-03-03T15:19:07.208095",
     "status": "completed"
    },
    "tags": []
   },
   "outputs": [
    {
     "data": {
      "application/javascript": [
       "\n",
       "            setTimeout(function() {\n",
       "                var nbb_cell_id = 35;\n",
       "                var nbb_unformatted_code = \"path = \\\"../../../../../reports/results/local_models/209/s/full/\\\"\\nfilename = f\\\"BidirectionalGRU_results_full_{index_to_save}.csv\\\"\\n\\npd.concat(results_to_save).to_csv(\\n    path_or_buf=path + filename,\\n    mode=\\\"w\\\",\\n    index=False,\\n    header=True,\\n)\";\n",
       "                var nbb_formatted_code = \"path = \\\"../../../../../reports/results/local_models/209/s/full/\\\"\\nfilename = f\\\"BidirectionalGRU_results_full_{index_to_save}.csv\\\"\\n\\npd.concat(results_to_save).to_csv(\\n    path_or_buf=path + filename,\\n    mode=\\\"w\\\",\\n    index=False,\\n    header=True,\\n)\";\n",
       "                var nbb_cells = Jupyter.notebook.get_cells();\n",
       "                for (var i = 0; i < nbb_cells.length; ++i) {\n",
       "                    if (nbb_cells[i].input_prompt_number == nbb_cell_id) {\n",
       "                        if (nbb_cells[i].get_text() == nbb_unformatted_code) {\n",
       "                             nbb_cells[i].set_text(nbb_formatted_code);\n",
       "                        }\n",
       "                        break;\n",
       "                    }\n",
       "                }\n",
       "            }, 500);\n",
       "            "
      ],
      "text/plain": [
       "<IPython.core.display.Javascript object>"
      ]
     },
     "metadata": {},
     "output_type": "display_data"
    }
   ],
   "source": [
    "path = \"../../../../../reports/results/local_models/209/s/full/\"\n",
    "filename = f\"BidirectionalGRU_results_full_{index_to_save}.csv\"\n",
    "\n",
    "pd.concat(results_to_save).to_csv(\n",
    "    path_or_buf=path + filename,\n",
    "    mode=\"w\",\n",
    "    index=False,\n",
    "    header=True,\n",
    ")"
   ]
  },
  {
   "cell_type": "code",
   "execution_count": 36,
   "id": "9e0d4dda",
   "metadata": {
    "execution": {
     "iopub.execute_input": "2024-03-03T15:19:07.279274Z",
     "iopub.status.busy": "2024-03-03T15:19:07.278106Z",
     "iopub.status.idle": "2024-03-03T15:19:07.327076Z",
     "shell.execute_reply": "2024-03-03T15:19:07.326209Z"
    },
    "papermill": {
     "duration": 0.067342,
     "end_time": "2024-03-03T15:19:07.328841",
     "exception": false,
     "start_time": "2024-03-03T15:19:07.261499",
     "status": "completed"
    },
    "tags": []
   },
   "outputs": [
    {
     "data": {
      "application/javascript": [
       "\n",
       "            setTimeout(function() {\n",
       "                var nbb_cell_id = 36;\n",
       "                var nbb_unformatted_code = \"cols_groupby = [\\n    \\\"Category\\\",\\n    \\\"Company\\\",\\n    \\\"Data Shape\\\",\\n    \\\"Timesteps\\\",\\n    \\\"Features\\\",\\n    \\\"Model\\\",\\n    \\\"Cross Validation\\\",\\n    \\\"Cross Validation Params\\\",\\n]\\n\\ncols_agg = [\\\"RMSE Train\\\", \\\"MAE Train\\\", \\\"MAPE Train\\\", \\\"R2 Train\\\"] + [\\n    \\\"RMSE Test\\\",\\n    \\\"MAE Test\\\",\\n    \\\"MAPE Test\\\",\\n    \\\"R2 Test\\\",\\n]\\n\\npath = \\\"../../../../../reports/results/local_models/209/s/grouped/\\\"\\nfilename = f\\\"BidirectionalGRU_results_grouped_{index_to_save}.csv\\\"\\n\\n\\ndf_results_to_save = (\\n    pd.concat(results_to_save)\\n    .groupby(cols_groupby, dropna=False)[cols_agg]\\n    .agg([\\\"mean\\\", lambda series: pd.Series(series.std(ddof=0), name=\\\"std\\\")])\\n    .reset_index()\\n    .rename(columns={\\\"<lambda_0>\\\": \\\"std\\\"})\\n)\\n\\ndf_results_to_save.to_csv(\\n    path_or_buf=path + filename,\\n    mode=\\\"w\\\",\\n    index=False,\\n    header=True,\\n)\";\n",
       "                var nbb_formatted_code = \"cols_groupby = [\\n    \\\"Category\\\",\\n    \\\"Company\\\",\\n    \\\"Data Shape\\\",\\n    \\\"Timesteps\\\",\\n    \\\"Features\\\",\\n    \\\"Model\\\",\\n    \\\"Cross Validation\\\",\\n    \\\"Cross Validation Params\\\",\\n]\\n\\ncols_agg = [\\\"RMSE Train\\\", \\\"MAE Train\\\", \\\"MAPE Train\\\", \\\"R2 Train\\\"] + [\\n    \\\"RMSE Test\\\",\\n    \\\"MAE Test\\\",\\n    \\\"MAPE Test\\\",\\n    \\\"R2 Test\\\",\\n]\\n\\npath = \\\"../../../../../reports/results/local_models/209/s/grouped/\\\"\\nfilename = f\\\"BidirectionalGRU_results_grouped_{index_to_save}.csv\\\"\\n\\n\\ndf_results_to_save = (\\n    pd.concat(results_to_save)\\n    .groupby(cols_groupby, dropna=False)[cols_agg]\\n    .agg([\\\"mean\\\", lambda series: pd.Series(series.std(ddof=0), name=\\\"std\\\")])\\n    .reset_index()\\n    .rename(columns={\\\"<lambda_0>\\\": \\\"std\\\"})\\n)\\n\\ndf_results_to_save.to_csv(\\n    path_or_buf=path + filename,\\n    mode=\\\"w\\\",\\n    index=False,\\n    header=True,\\n)\";\n",
       "                var nbb_cells = Jupyter.notebook.get_cells();\n",
       "                for (var i = 0; i < nbb_cells.length; ++i) {\n",
       "                    if (nbb_cells[i].input_prompt_number == nbb_cell_id) {\n",
       "                        if (nbb_cells[i].get_text() == nbb_unformatted_code) {\n",
       "                             nbb_cells[i].set_text(nbb_formatted_code);\n",
       "                        }\n",
       "                        break;\n",
       "                    }\n",
       "                }\n",
       "            }, 500);\n",
       "            "
      ],
      "text/plain": [
       "<IPython.core.display.Javascript object>"
      ]
     },
     "metadata": {},
     "output_type": "display_data"
    }
   ],
   "source": [
    "cols_groupby = [\n",
    "    \"Category\",\n",
    "    \"Company\",\n",
    "    \"Data Shape\",\n",
    "    \"Timesteps\",\n",
    "    \"Features\",\n",
    "    \"Model\",\n",
    "    \"Cross Validation\",\n",
    "    \"Cross Validation Params\",\n",
    "]\n",
    "\n",
    "cols_agg = [\"RMSE Train\", \"MAE Train\", \"MAPE Train\", \"R2 Train\"] + [\n",
    "    \"RMSE Test\",\n",
    "    \"MAE Test\",\n",
    "    \"MAPE Test\",\n",
    "    \"R2 Test\",\n",
    "]\n",
    "\n",
    "path = \"../../../../../reports/results/local_models/209/s/grouped/\"\n",
    "filename = f\"BidirectionalGRU_results_grouped_{index_to_save}.csv\"\n",
    "\n",
    "\n",
    "df_results_to_save = (\n",
    "    pd.concat(results_to_save)\n",
    "    .groupby(cols_groupby, dropna=False)[cols_agg]\n",
    "    .agg([\"mean\", lambda series: pd.Series(series.std(ddof=0), name=\"std\")])\n",
    "    .reset_index()\n",
    "    .rename(columns={\"<lambda_0>\": \"std\"})\n",
    ")\n",
    "\n",
    "df_results_to_save.to_csv(\n",
    "    path_or_buf=path + filename,\n",
    "    mode=\"w\",\n",
    "    index=False,\n",
    "    header=True,\n",
    ")"
   ]
  },
  {
   "cell_type": "code",
   "execution_count": null,
   "id": "20bea70c",
   "metadata": {
    "papermill": {
     "duration": 0.015028,
     "end_time": "2024-03-03T15:19:07.360861",
     "exception": false,
     "start_time": "2024-03-03T15:19:07.345833",
     "status": "completed"
    },
    "tags": []
   },
   "outputs": [],
   "source": []
  }
 ],
 "metadata": {
  "kernelspec": {
   "display_name": "ccs28-venv",
   "language": "python",
   "name": "ccs28-venv"
  },
  "language_info": {
   "codemirror_mode": {
    "name": "ipython",
    "version": 3
   },
   "file_extension": ".py",
   "mimetype": "text/x-python",
   "name": "python",
   "nbconvert_exporter": "python",
   "pygments_lexer": "ipython3",
   "version": "3.10.12"
  },
  "papermill": {
   "default_parameters": {},
   "duration": 6074.222146,
   "end_time": "2024-03-03T15:19:10.015813",
   "environment_variables": {},
   "exception": null,
   "input_path": "/home/peressim/projects/ccs28-ml-modelling/notebooks/modelling/209/bi-gru/s/chemical-mineralogical-feature_engineering-ds.ipynb",
   "output_path": "/home/peressim/projects/ccs28-ml-modelling/notebooks/modelling/209/bi-gru/s/chemical-mineralogical-feature_engineering-ds.ipynb",
   "parameters": {},
   "start_time": "2024-03-03T13:37:55.793667",
   "version": "2.5.0"
  }
 },
 "nbformat": 4,
 "nbformat_minor": 5
}