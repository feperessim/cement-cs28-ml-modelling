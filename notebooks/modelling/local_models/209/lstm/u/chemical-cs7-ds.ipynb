{
 "cells": [
  {
   "cell_type": "code",
   "execution_count": 1,
   "id": "e5cb930d",
   "metadata": {
    "execution": {
     "iopub.execute_input": "2024-06-24T08:55:01.500594Z",
     "iopub.status.busy": "2024-06-24T08:55:01.498624Z",
     "iopub.status.idle": "2024-06-24T08:55:01.619441Z",
     "shell.execute_reply": "2024-06-24T08:55:01.618639Z"
    },
    "papermill": {
     "duration": 0.142945,
     "end_time": "2024-06-24T08:55:01.622547",
     "exception": false,
     "start_time": "2024-06-24T08:55:01.479602",
     "status": "completed"
    },
    "tags": []
   },
   "outputs": [
    {
     "data": {
      "application/javascript": [
       "\n",
       "            setTimeout(function() {\n",
       "                var nbb_cell_id = 1;\n",
       "                var nbb_unformatted_code = \"%load_ext nb_black\";\n",
       "                var nbb_formatted_code = \"%load_ext nb_black\";\n",
       "                var nbb_cells = Jupyter.notebook.get_cells();\n",
       "                for (var i = 0; i < nbb_cells.length; ++i) {\n",
       "                    if (nbb_cells[i].input_prompt_number == nbb_cell_id) {\n",
       "                        if (nbb_cells[i].get_text() == nbb_unformatted_code) {\n",
       "                             nbb_cells[i].set_text(nbb_formatted_code);\n",
       "                        }\n",
       "                        break;\n",
       "                    }\n",
       "                }\n",
       "            }, 500);\n",
       "            "
      ],
      "text/plain": [
       "<IPython.core.display.Javascript object>"
      ]
     },
     "metadata": {},
     "output_type": "display_data"
    }
   ],
   "source": [
    "%load_ext nb_black"
   ]
  },
  {
   "cell_type": "code",
   "execution_count": 2,
   "id": "e9dadba8",
   "metadata": {
    "execution": {
     "iopub.execute_input": "2024-06-24T08:55:01.666150Z",
     "iopub.status.busy": "2024-06-24T08:55:01.665633Z",
     "iopub.status.idle": "2024-06-24T08:55:04.504476Z",
     "shell.execute_reply": "2024-06-24T08:55:04.503593Z"
    },
    "papermill": {
     "duration": 2.864642,
     "end_time": "2024-06-24T08:55:04.508096",
     "exception": false,
     "start_time": "2024-06-24T08:55:01.643454",
     "status": "completed"
    },
    "tags": []
   },
   "outputs": [
    {
     "name": "stderr",
     "output_type": "stream",
     "text": [
      "2024-06-24 05:55:02.984291: I tensorflow/core/util/port.cc:110] oneDNN custom operations are on. You may see slightly different numerical results due to floating-point round-off errors from different computation orders. To turn them off, set the environment variable `TF_ENABLE_ONEDNN_OPTS=0`.\n",
      "2024-06-24 05:55:02.986631: I tensorflow/tsl/cuda/cudart_stub.cc:28] Could not find cuda drivers on your machine, GPU will not be used.\n",
      "2024-06-24 05:55:03.033411: I tensorflow/tsl/cuda/cudart_stub.cc:28] Could not find cuda drivers on your machine, GPU will not be used.\n",
      "2024-06-24 05:55:03.034478: I tensorflow/core/platform/cpu_feature_guard.cc:182] This TensorFlow binary is optimized to use available CPU instructions in performance-critical operations.\n",
      "To enable the following instructions: AVX2 AVX512F AVX512_VNNI FMA, in other operations, rebuild TensorFlow with the appropriate compiler flags.\n"
     ]
    },
    {
     "name": "stderr",
     "output_type": "stream",
     "text": [
      "2024-06-24 05:55:03.809648: W tensorflow/compiler/tf2tensorrt/utils/py_utils.cc:38] TF-TRT Warning: Could not find TensorRT\n"
     ]
    },
    {
     "data": {
      "application/javascript": [
       "\n",
       "            setTimeout(function() {\n",
       "                var nbb_cell_id = 2;\n",
       "                var nbb_unformatted_code = \"# Database Reading and Manipulation\\nimport pandas as pd\\n\\n# Linear Algebra\\nimport numpy as np\\n\\n# Plotting\\nimport matplotlib.pyplot as plt\\n\\n# Time\\nimport time\\n\\n# Random and os for reproducibility\\nimport random\\nimport os\\n\\n# Model Selection\\nfrom sklearn.model_selection import train_test_split\\nfrom sklearn.model_selection import TimeSeriesSplit\\nfrom sklearn.model_selection import RepeatedKFold\\nfrom sklearn.model_selection import cross_val_score\\nfrom sklearn.model_selection import cross_validate\\nfrom sklearn.model_selection import GridSearchCV\\n\\n# Modeling\\nimport tensorflow as tf\\n\\n# Processing\\nfrom sklearn.preprocessing import StandardScaler\\nfrom sklearn.preprocessing import RobustScaler\\n\\n# Metrics\\nfrom sklearn.metrics import mean_squared_error\\nfrom sklearn.metrics import mean_absolute_error\\nfrom sklearn.metrics import mean_absolute_percentage_error\\nfrom sklearn.metrics import r2_score\\n\\n# Pipeline\\nfrom sklearn.pipeline import Pipeline\\n\\n# Data imputation\\nfrom sklearn.impute import SimpleImputer\\n\\n# Making keras compatible with scikit learn api\\n# https://scikit-learn.org/stable/developers/develop.html\\nfrom sklearn.base import BaseEstimator, RegressorMixin\\n\\n# Custom modules\\n## Model selection\\nfrom src.cross_validation.blocking_time_series_split import BlockingTimeSeriesSplit\\n\\n## Function to print scores\\nfrom src.utils.print_scores import print_scores\\n\\n## Function to calculate score regression metrics\\nfrom src.utils.score_regression_metrics import score_regression_metrics\\n\\n## Function to fill the results metric dict\\nfrom src.utils.fill_results_dict import fill_results_dict\\n\\n# Converting Times Series Data to 3D format\\nfrom src.utils.split_sequences import split_sequences\\n\\n# To run cross validation parallelized\\nfrom joblib import Parallel, delayed\";\n",
       "                var nbb_formatted_code = \"# Database Reading and Manipulation\\nimport pandas as pd\\n\\n# Linear Algebra\\nimport numpy as np\\n\\n# Plotting\\nimport matplotlib.pyplot as plt\\n\\n# Time\\nimport time\\n\\n# Random and os for reproducibility\\nimport random\\nimport os\\n\\n# Model Selection\\nfrom sklearn.model_selection import train_test_split\\nfrom sklearn.model_selection import TimeSeriesSplit\\nfrom sklearn.model_selection import RepeatedKFold\\nfrom sklearn.model_selection import cross_val_score\\nfrom sklearn.model_selection import cross_validate\\nfrom sklearn.model_selection import GridSearchCV\\n\\n# Modeling\\nimport tensorflow as tf\\n\\n# Processing\\nfrom sklearn.preprocessing import StandardScaler\\nfrom sklearn.preprocessing import RobustScaler\\n\\n# Metrics\\nfrom sklearn.metrics import mean_squared_error\\nfrom sklearn.metrics import mean_absolute_error\\nfrom sklearn.metrics import mean_absolute_percentage_error\\nfrom sklearn.metrics import r2_score\\n\\n# Pipeline\\nfrom sklearn.pipeline import Pipeline\\n\\n# Data imputation\\nfrom sklearn.impute import SimpleImputer\\n\\n# Making keras compatible with scikit learn api\\n# https://scikit-learn.org/stable/developers/develop.html\\nfrom sklearn.base import BaseEstimator, RegressorMixin\\n\\n# Custom modules\\n## Model selection\\nfrom src.cross_validation.blocking_time_series_split import BlockingTimeSeriesSplit\\n\\n## Function to print scores\\nfrom src.utils.print_scores import print_scores\\n\\n## Function to calculate score regression metrics\\nfrom src.utils.score_regression_metrics import score_regression_metrics\\n\\n## Function to fill the results metric dict\\nfrom src.utils.fill_results_dict import fill_results_dict\\n\\n# Converting Times Series Data to 3D format\\nfrom src.utils.split_sequences import split_sequences\\n\\n# To run cross validation parallelized\\nfrom joblib import Parallel, delayed\";\n",
       "                var nbb_cells = Jupyter.notebook.get_cells();\n",
       "                for (var i = 0; i < nbb_cells.length; ++i) {\n",
       "                    if (nbb_cells[i].input_prompt_number == nbb_cell_id) {\n",
       "                        if (nbb_cells[i].get_text() == nbb_unformatted_code) {\n",
       "                             nbb_cells[i].set_text(nbb_formatted_code);\n",
       "                        }\n",
       "                        break;\n",
       "                    }\n",
       "                }\n",
       "            }, 500);\n",
       "            "
      ],
      "text/plain": [
       "<IPython.core.display.Javascript object>"
      ]
     },
     "metadata": {},
     "output_type": "display_data"
    }
   ],
   "source": [
    "# Database Reading and Manipulation\n",
    "import pandas as pd\n",
    "\n",
    "# Linear Algebra\n",
    "import numpy as np\n",
    "\n",
    "# Plotting\n",
    "import matplotlib.pyplot as plt\n",
    "\n",
    "# Time\n",
    "import time\n",
    "\n",
    "# Random and os for reproducibility\n",
    "import random\n",
    "import os\n",
    "\n",
    "# Model Selection\n",
    "from sklearn.model_selection import train_test_split\n",
    "from sklearn.model_selection import TimeSeriesSplit\n",
    "from sklearn.model_selection import RepeatedKFold\n",
    "from sklearn.model_selection import cross_val_score\n",
    "from sklearn.model_selection import cross_validate\n",
    "from sklearn.model_selection import GridSearchCV\n",
    "\n",
    "# Modeling\n",
    "import tensorflow as tf\n",
    "\n",
    "# Processing\n",
    "from sklearn.preprocessing import StandardScaler\n",
    "from sklearn.preprocessing import RobustScaler\n",
    "\n",
    "# Metrics\n",
    "from sklearn.metrics import mean_squared_error\n",
    "from sklearn.metrics import mean_absolute_error\n",
    "from sklearn.metrics import mean_absolute_percentage_error\n",
    "from sklearn.metrics import r2_score\n",
    "\n",
    "# Pipeline\n",
    "from sklearn.pipeline import Pipeline\n",
    "\n",
    "# Data imputation\n",
    "from sklearn.impute import SimpleImputer\n",
    "\n",
    "# Making keras compatible with scikit learn api\n",
    "# https://scikit-learn.org/stable/developers/develop.html\n",
    "from sklearn.base import BaseEstimator, RegressorMixin\n",
    "\n",
    "# Custom modules\n",
    "## Model selection\n",
    "from src.cross_validation.blocking_time_series_split import BlockingTimeSeriesSplit\n",
    "\n",
    "## Function to print scores\n",
    "from src.utils.print_scores import print_scores\n",
    "\n",
    "## Function to calculate score regression metrics\n",
    "from src.utils.score_regression_metrics import score_regression_metrics\n",
    "\n",
    "## Function to fill the results metric dict\n",
    "from src.utils.fill_results_dict import fill_results_dict\n",
    "\n",
    "# Converting Times Series Data to 3D format\n",
    "from src.utils.split_sequences import split_sequences\n",
    "\n",
    "# To run cross validation parallelized\n",
    "from joblib import Parallel, delayed"
   ]
  },
  {
   "cell_type": "markdown",
   "id": "42547303",
   "metadata": {
    "papermill": {
     "duration": 0.022006,
     "end_time": "2024-06-24T08:55:04.553813",
     "exception": false,
     "start_time": "2024-06-24T08:55:04.531807",
     "status": "completed"
    },
    "tags": []
   },
   "source": [
    "# Functions and definitions"
   ]
  },
  {
   "cell_type": "markdown",
   "id": "87a6c9eb",
   "metadata": {
    "papermill": {
     "duration": 0.013262,
     "end_time": "2024-06-24T08:55:04.583839",
     "exception": false,
     "start_time": "2024-06-24T08:55:04.570577",
     "status": "completed"
    },
    "tags": []
   },
   "source": [
    "## Helper functions for blocked time series cross validation"
   ]
  },
  {
   "cell_type": "markdown",
   "id": "e6a00b27",
   "metadata": {
    "papermill": {
     "duration": 0.009776,
     "end_time": "2024-06-24T08:55:04.604813",
     "exception": false,
     "start_time": "2024-06-24T08:55:04.595037",
     "status": "completed"
    },
    "tags": []
   },
   "source": [
    "### Convert train/test data to 3D format"
   ]
  },
  {
   "cell_type": "code",
   "execution_count": 3,
   "id": "3fb0fabf",
   "metadata": {
    "execution": {
     "iopub.execute_input": "2024-06-24T08:55:04.625898Z",
     "iopub.status.busy": "2024-06-24T08:55:04.625450Z",
     "iopub.status.idle": "2024-06-24T08:55:04.639151Z",
     "shell.execute_reply": "2024-06-24T08:55:04.638323Z"
    },
    "papermill": {
     "duration": 0.026472,
     "end_time": "2024-06-24T08:55:04.640967",
     "exception": false,
     "start_time": "2024-06-24T08:55:04.614495",
     "status": "completed"
    },
    "tags": []
   },
   "outputs": [
    {
     "data": {
      "application/javascript": [
       "\n",
       "            setTimeout(function() {\n",
       "                var nbb_cell_id = 3;\n",
       "                var nbb_unformatted_code = \"def generate_sequences_helper(\\n    dataset, cement_types, dates=None, timesteps=None, split_by_cement_type=False\\n):\\n    index_train = dataset[\\\"y_train\\\"].index\\n    index_test = dataset[\\\"y_test\\\"].index\\n\\n    dataset[\\\"y_train\\\"] = dataset[\\\"y_train\\\"].reset_index(drop=True)\\n    dataset[\\\"y_test\\\"] = dataset[\\\"y_test\\\"].reset_index(drop=True)\\n\\n    if dates is not None:\\n        dataset[\\\"dates_train\\\"] = dates[index_train].reset_index(drop=True)\\n        dataset[\\\"dates_test\\\"] = dates[index_test].reset_index(drop=True)\\n\\n    dataset[\\\"cement_types_train\\\"] = cement_types.loc[index_train].reset_index(drop=True)\\n    dataset[\\\"cement_types_test\\\"] = cement_types.loc[index_test].reset_index(drop=True)\\n\\n    dataset = generate_sequences(dataset, timesteps, split_by_cement_type)\\n\\n    return dataset\";\n",
       "                var nbb_formatted_code = \"def generate_sequences_helper(\\n    dataset, cement_types, dates=None, timesteps=None, split_by_cement_type=False\\n):\\n    index_train = dataset[\\\"y_train\\\"].index\\n    index_test = dataset[\\\"y_test\\\"].index\\n\\n    dataset[\\\"y_train\\\"] = dataset[\\\"y_train\\\"].reset_index(drop=True)\\n    dataset[\\\"y_test\\\"] = dataset[\\\"y_test\\\"].reset_index(drop=True)\\n\\n    if dates is not None:\\n        dataset[\\\"dates_train\\\"] = dates[index_train].reset_index(drop=True)\\n        dataset[\\\"dates_test\\\"] = dates[index_test].reset_index(drop=True)\\n\\n    dataset[\\\"cement_types_train\\\"] = cement_types.loc[index_train].reset_index(drop=True)\\n    dataset[\\\"cement_types_test\\\"] = cement_types.loc[index_test].reset_index(drop=True)\\n\\n    dataset = generate_sequences(dataset, timesteps, split_by_cement_type)\\n\\n    return dataset\";\n",
       "                var nbb_cells = Jupyter.notebook.get_cells();\n",
       "                for (var i = 0; i < nbb_cells.length; ++i) {\n",
       "                    if (nbb_cells[i].input_prompt_number == nbb_cell_id) {\n",
       "                        if (nbb_cells[i].get_text() == nbb_unformatted_code) {\n",
       "                             nbb_cells[i].set_text(nbb_formatted_code);\n",
       "                        }\n",
       "                        break;\n",
       "                    }\n",
       "                }\n",
       "            }, 500);\n",
       "            "
      ],
      "text/plain": [
       "<IPython.core.display.Javascript object>"
      ]
     },
     "metadata": {},
     "output_type": "display_data"
    }
   ],
   "source": [
    "def generate_sequences_helper(\n",
    "    dataset, cement_types, dates=None, timesteps=None, split_by_cement_type=False\n",
    "):\n",
    "    index_train = dataset[\"y_train\"].index\n",
    "    index_test = dataset[\"y_test\"].index\n",
    "\n",
    "    dataset[\"y_train\"] = dataset[\"y_train\"].reset_index(drop=True)\n",
    "    dataset[\"y_test\"] = dataset[\"y_test\"].reset_index(drop=True)\n",
    "\n",
    "    if dates is not None:\n",
    "        dataset[\"dates_train\"] = dates[index_train].reset_index(drop=True)\n",
    "        dataset[\"dates_test\"] = dates[index_test].reset_index(drop=True)\n",
    "\n",
    "    dataset[\"cement_types_train\"] = cement_types.loc[index_train].reset_index(drop=True)\n",
    "    dataset[\"cement_types_test\"] = cement_types.loc[index_test].reset_index(drop=True)\n",
    "\n",
    "    dataset = generate_sequences(dataset, timesteps, split_by_cement_type)\n",
    "\n",
    "    return dataset"
   ]
  },
  {
   "cell_type": "code",
   "execution_count": 4,
   "id": "bf6a6236",
   "metadata": {
    "execution": {
     "iopub.execute_input": "2024-06-24T08:55:04.693711Z",
     "iopub.status.busy": "2024-06-24T08:55:04.693179Z",
     "iopub.status.idle": "2024-06-24T08:55:04.894027Z",
     "shell.execute_reply": "2024-06-24T08:55:04.892771Z"
    },
    "papermill": {
     "duration": 0.245936,
     "end_time": "2024-06-24T08:55:04.896919",
     "exception": false,
     "start_time": "2024-06-24T08:55:04.650983",
     "status": "completed"
    },
    "tags": []
   },
   "outputs": [
    {
     "data": {
      "application/javascript": [
       "\n",
       "            setTimeout(function() {\n",
       "                var nbb_cell_id = 4;\n",
       "                var nbb_unformatted_code = \"def generate_sequences(dataset, timesteps, split_by_cement_type=False):\\n    if split_by_cement_type:\\n        dataset[\\\"x_train\\\"], dataset[\\\"y_train\\\"] = split_sequences_per_cement_type(\\n            pd.concat(\\n                [\\n                    dataset[\\\"dates_train\\\"],\\n                    pd.DataFrame(dataset[\\\"x_train\\\"], columns=x.columns),\\n                    dataset[\\\"cement_types_train\\\"],\\n                    dataset[\\\"y_train\\\"],\\n                ],\\n                axis=1,\\n            ),\\n            timesteps,\\n        )\\n\\n        dataset[\\\"x_test\\\"], dataset[\\\"y_test\\\"] = split_sequences_per_cement_type(\\n            pd.concat(\\n                [\\n                    dataset[\\\"dates_test\\\"],\\n                    pd.DataFrame(dataset[\\\"x_test\\\"], columns=x.columns),\\n                    dataset[\\\"cement_types_test\\\"],\\n                    dataset[\\\"y_test\\\"],\\n                ],\\n                axis=1,\\n            ),\\n            timesteps,\\n        )\\n    else:\\n        dataset[\\\"x_train\\\"], dataset[\\\"y_train\\\"] = split_sequences(\\n            pd.concat(\\n                [\\n                    pd.DataFrame(dataset[\\\"x_train\\\"], columns=x.columns),\\n                    dataset[\\\"y_train\\\"],\\n                ],\\n                axis=1,\\n            ).values,\\n            timesteps,\\n        )\\n\\n        dataset[\\\"x_test\\\"], dataset[\\\"y_test\\\"] = split_sequences(\\n            pd.concat(\\n                [\\n                    pd.DataFrame(dataset[\\\"x_test\\\"], columns=x.columns),\\n                    dataset[\\\"y_test\\\"],\\n                ],\\n                axis=1,\\n            ).values,\\n            timesteps,\\n        )\\n    return dataset\";\n",
       "                var nbb_formatted_code = \"def generate_sequences(dataset, timesteps, split_by_cement_type=False):\\n    if split_by_cement_type:\\n        dataset[\\\"x_train\\\"], dataset[\\\"y_train\\\"] = split_sequences_per_cement_type(\\n            pd.concat(\\n                [\\n                    dataset[\\\"dates_train\\\"],\\n                    pd.DataFrame(dataset[\\\"x_train\\\"], columns=x.columns),\\n                    dataset[\\\"cement_types_train\\\"],\\n                    dataset[\\\"y_train\\\"],\\n                ],\\n                axis=1,\\n            ),\\n            timesteps,\\n        )\\n\\n        dataset[\\\"x_test\\\"], dataset[\\\"y_test\\\"] = split_sequences_per_cement_type(\\n            pd.concat(\\n                [\\n                    dataset[\\\"dates_test\\\"],\\n                    pd.DataFrame(dataset[\\\"x_test\\\"], columns=x.columns),\\n                    dataset[\\\"cement_types_test\\\"],\\n                    dataset[\\\"y_test\\\"],\\n                ],\\n                axis=1,\\n            ),\\n            timesteps,\\n        )\\n    else:\\n        dataset[\\\"x_train\\\"], dataset[\\\"y_train\\\"] = split_sequences(\\n            pd.concat(\\n                [\\n                    pd.DataFrame(dataset[\\\"x_train\\\"], columns=x.columns),\\n                    dataset[\\\"y_train\\\"],\\n                ],\\n                axis=1,\\n            ).values,\\n            timesteps,\\n        )\\n\\n        dataset[\\\"x_test\\\"], dataset[\\\"y_test\\\"] = split_sequences(\\n            pd.concat(\\n                [\\n                    pd.DataFrame(dataset[\\\"x_test\\\"], columns=x.columns),\\n                    dataset[\\\"y_test\\\"],\\n                ],\\n                axis=1,\\n            ).values,\\n            timesteps,\\n        )\\n    return dataset\";\n",
       "                var nbb_cells = Jupyter.notebook.get_cells();\n",
       "                for (var i = 0; i < nbb_cells.length; ++i) {\n",
       "                    if (nbb_cells[i].input_prompt_number == nbb_cell_id) {\n",
       "                        if (nbb_cells[i].get_text() == nbb_unformatted_code) {\n",
       "                             nbb_cells[i].set_text(nbb_formatted_code);\n",
       "                        }\n",
       "                        break;\n",
       "                    }\n",
       "                }\n",
       "            }, 500);\n",
       "            "
      ],
      "text/plain": [
       "<IPython.core.display.Javascript object>"
      ]
     },
     "metadata": {},
     "output_type": "display_data"
    }
   ],
   "source": [
    "def generate_sequences(dataset, timesteps, split_by_cement_type=False):\n",
    "    if split_by_cement_type:\n",
    "        dataset[\"x_train\"], dataset[\"y_train\"] = split_sequences_per_cement_type(\n",
    "            pd.concat(\n",
    "                [\n",
    "                    dataset[\"dates_train\"],\n",
    "                    pd.DataFrame(dataset[\"x_train\"], columns=x.columns),\n",
    "                    dataset[\"cement_types_train\"],\n",
    "                    dataset[\"y_train\"],\n",
    "                ],\n",
    "                axis=1,\n",
    "            ),\n",
    "            timesteps,\n",
    "        )\n",
    "\n",
    "        dataset[\"x_test\"], dataset[\"y_test\"] = split_sequences_per_cement_type(\n",
    "            pd.concat(\n",
    "                [\n",
    "                    dataset[\"dates_test\"],\n",
    "                    pd.DataFrame(dataset[\"x_test\"], columns=x.columns),\n",
    "                    dataset[\"cement_types_test\"],\n",
    "                    dataset[\"y_test\"],\n",
    "                ],\n",
    "                axis=1,\n",
    "            ),\n",
    "            timesteps,\n",
    "        )\n",
    "    else:\n",
    "        dataset[\"x_train\"], dataset[\"y_train\"] = split_sequences(\n",
    "            pd.concat(\n",
    "                [\n",
    "                    pd.DataFrame(dataset[\"x_train\"], columns=x.columns),\n",
    "                    dataset[\"y_train\"],\n",
    "                ],\n",
    "                axis=1,\n",
    "            ).values,\n",
    "            timesteps,\n",
    "        )\n",
    "\n",
    "        dataset[\"x_test\"], dataset[\"y_test\"] = split_sequences(\n",
    "            pd.concat(\n",
    "                [\n",
    "                    pd.DataFrame(dataset[\"x_test\"], columns=x.columns),\n",
    "                    dataset[\"y_test\"],\n",
    "                ],\n",
    "                axis=1,\n",
    "            ).values,\n",
    "            timesteps,\n",
    "        )\n",
    "    return dataset"
   ]
  },
  {
   "cell_type": "markdown",
   "id": "715f5ac8",
   "metadata": {
    "papermill": {
     "duration": 0.019952,
     "end_time": "2024-06-24T08:55:04.936810",
     "exception": false,
     "start_time": "2024-06-24T08:55:04.916858",
     "status": "completed"
    },
    "tags": []
   },
   "source": [
    "### Data preprocessing"
   ]
  },
  {
   "cell_type": "code",
   "execution_count": 5,
   "id": "cfb87271",
   "metadata": {
    "execution": {
     "iopub.execute_input": "2024-06-24T08:55:04.995673Z",
     "iopub.status.busy": "2024-06-24T08:55:04.994549Z",
     "iopub.status.idle": "2024-06-24T08:55:05.130290Z",
     "shell.execute_reply": "2024-06-24T08:55:05.129003Z"
    },
    "papermill": {
     "duration": 0.168705,
     "end_time": "2024-06-24T08:55:05.133704",
     "exception": false,
     "start_time": "2024-06-24T08:55:04.964999",
     "status": "completed"
    },
    "tags": []
   },
   "outputs": [
    {
     "data": {
      "application/javascript": [
       "\n",
       "            setTimeout(function() {\n",
       "                var nbb_cell_id = 5;\n",
       "                var nbb_unformatted_code = \"def impute_data(dataset, imputer=None, imputer_params=None):\\n    x_train = dataset[\\\"x_train\\\"]\\n    x_test = dataset[\\\"x_test\\\"]\\n\\n    # Apply imputation to the data\\n    if imputer is not None:\\n        imputer = imputer() if imputer_params is None else imputer(**imputer_params)\\n        x_train = imputer.fit_transform(x_train)\\n        x_test = imputer.transform(x_test)\\n\\n    dataset[\\\"x_train\\\"] = x_train\\n    dataset[\\\"x_test\\\"] = x_test\\n\\n    return dataset\";\n",
       "                var nbb_formatted_code = \"def impute_data(dataset, imputer=None, imputer_params=None):\\n    x_train = dataset[\\\"x_train\\\"]\\n    x_test = dataset[\\\"x_test\\\"]\\n\\n    # Apply imputation to the data\\n    if imputer is not None:\\n        imputer = imputer() if imputer_params is None else imputer(**imputer_params)\\n        x_train = imputer.fit_transform(x_train)\\n        x_test = imputer.transform(x_test)\\n\\n    dataset[\\\"x_train\\\"] = x_train\\n    dataset[\\\"x_test\\\"] = x_test\\n\\n    return dataset\";\n",
       "                var nbb_cells = Jupyter.notebook.get_cells();\n",
       "                for (var i = 0; i < nbb_cells.length; ++i) {\n",
       "                    if (nbb_cells[i].input_prompt_number == nbb_cell_id) {\n",
       "                        if (nbb_cells[i].get_text() == nbb_unformatted_code) {\n",
       "                             nbb_cells[i].set_text(nbb_formatted_code);\n",
       "                        }\n",
       "                        break;\n",
       "                    }\n",
       "                }\n",
       "            }, 500);\n",
       "            "
      ],
      "text/plain": [
       "<IPython.core.display.Javascript object>"
      ]
     },
     "metadata": {},
     "output_type": "display_data"
    }
   ],
   "source": [
    "def impute_data(dataset, imputer=None, imputer_params=None):\n",
    "    x_train = dataset[\"x_train\"]\n",
    "    x_test = dataset[\"x_test\"]\n",
    "\n",
    "    # Apply imputation to the data\n",
    "    if imputer is not None:\n",
    "        imputer = imputer() if imputer_params is None else imputer(**imputer_params)\n",
    "        x_train = imputer.fit_transform(x_train)\n",
    "        x_test = imputer.transform(x_test)\n",
    "\n",
    "    dataset[\"x_train\"] = x_train\n",
    "    dataset[\"x_test\"] = x_test\n",
    "\n",
    "    return dataset"
   ]
  },
  {
   "cell_type": "code",
   "execution_count": 6,
   "id": "6fcf1e49",
   "metadata": {
    "execution": {
     "iopub.execute_input": "2024-06-24T08:55:05.182637Z",
     "iopub.status.busy": "2024-06-24T08:55:05.182069Z",
     "iopub.status.idle": "2024-06-24T08:55:05.351925Z",
     "shell.execute_reply": "2024-06-24T08:55:05.350679Z"
    },
    "papermill": {
     "duration": 0.197648,
     "end_time": "2024-06-24T08:55:05.355419",
     "exception": false,
     "start_time": "2024-06-24T08:55:05.157771",
     "status": "completed"
    },
    "tags": []
   },
   "outputs": [
    {
     "data": {
      "application/javascript": [
       "\n",
       "            setTimeout(function() {\n",
       "                var nbb_cell_id = 6;\n",
       "                var nbb_unformatted_code = \"def transform_data(dataset, transformer=None):\\n    x_train = dataset[\\\"x_train\\\"]\\n    x_test = dataset[\\\"x_test\\\"]\\n\\n    # Apply data normalization/standardization to the data\\n    if transformer is not None:\\n        scaler = transformer()\\n        x_train = scaler.fit_transform(x_train)\\n        x_test = scaler.transform(x_test)\\n\\n    dataset[\\\"x_train\\\"] = x_train\\n    dataset[\\\"x_test\\\"] = x_test\\n\\n    return dataset\";\n",
       "                var nbb_formatted_code = \"def transform_data(dataset, transformer=None):\\n    x_train = dataset[\\\"x_train\\\"]\\n    x_test = dataset[\\\"x_test\\\"]\\n\\n    # Apply data normalization/standardization to the data\\n    if transformer is not None:\\n        scaler = transformer()\\n        x_train = scaler.fit_transform(x_train)\\n        x_test = scaler.transform(x_test)\\n\\n    dataset[\\\"x_train\\\"] = x_train\\n    dataset[\\\"x_test\\\"] = x_test\\n\\n    return dataset\";\n",
       "                var nbb_cells = Jupyter.notebook.get_cells();\n",
       "                for (var i = 0; i < nbb_cells.length; ++i) {\n",
       "                    if (nbb_cells[i].input_prompt_number == nbb_cell_id) {\n",
       "                        if (nbb_cells[i].get_text() == nbb_unformatted_code) {\n",
       "                             nbb_cells[i].set_text(nbb_formatted_code);\n",
       "                        }\n",
       "                        break;\n",
       "                    }\n",
       "                }\n",
       "            }, 500);\n",
       "            "
      ],
      "text/plain": [
       "<IPython.core.display.Javascript object>"
      ]
     },
     "metadata": {},
     "output_type": "display_data"
    }
   ],
   "source": [
    "def transform_data(dataset, transformer=None):\n",
    "    x_train = dataset[\"x_train\"]\n",
    "    x_test = dataset[\"x_test\"]\n",
    "\n",
    "    # Apply data normalization/standardization to the data\n",
    "    if transformer is not None:\n",
    "        scaler = transformer()\n",
    "        x_train = scaler.fit_transform(x_train)\n",
    "        x_test = scaler.transform(x_test)\n",
    "\n",
    "    dataset[\"x_train\"] = x_train\n",
    "    dataset[\"x_test\"] = x_test\n",
    "\n",
    "    return dataset"
   ]
  },
  {
   "cell_type": "code",
   "execution_count": 7,
   "id": "cfff331b",
   "metadata": {
    "execution": {
     "iopub.execute_input": "2024-06-24T08:55:05.406064Z",
     "iopub.status.busy": "2024-06-24T08:55:05.404901Z",
     "iopub.status.idle": "2024-06-24T08:55:05.528976Z",
     "shell.execute_reply": "2024-06-24T08:55:05.527766Z"
    },
    "papermill": {
     "duration": 0.152121,
     "end_time": "2024-06-24T08:55:05.532363",
     "exception": false,
     "start_time": "2024-06-24T08:55:05.380242",
     "status": "completed"
    },
    "tags": []
   },
   "outputs": [
    {
     "data": {
      "application/javascript": [
       "\n",
       "            setTimeout(function() {\n",
       "                var nbb_cell_id = 7;\n",
       "                var nbb_unformatted_code = \"def preprocess_data(dataset, transformer=None, imputer=None, imputer_params=None):\\n    dataset = impute_data(dataset, imputer, imputer_params)\\n    dataset = transform_data(dataset, transformer)\\n    return dataset\";\n",
       "                var nbb_formatted_code = \"def preprocess_data(dataset, transformer=None, imputer=None, imputer_params=None):\\n    dataset = impute_data(dataset, imputer, imputer_params)\\n    dataset = transform_data(dataset, transformer)\\n    return dataset\";\n",
       "                var nbb_cells = Jupyter.notebook.get_cells();\n",
       "                for (var i = 0; i < nbb_cells.length; ++i) {\n",
       "                    if (nbb_cells[i].input_prompt_number == nbb_cell_id) {\n",
       "                        if (nbb_cells[i].get_text() == nbb_unformatted_code) {\n",
       "                             nbb_cells[i].set_text(nbb_formatted_code);\n",
       "                        }\n",
       "                        break;\n",
       "                    }\n",
       "                }\n",
       "            }, 500);\n",
       "            "
      ],
      "text/plain": [
       "<IPython.core.display.Javascript object>"
      ]
     },
     "metadata": {},
     "output_type": "display_data"
    }
   ],
   "source": [
    "def preprocess_data(dataset, transformer=None, imputer=None, imputer_params=None):\n",
    "    dataset = impute_data(dataset, imputer, imputer_params)\n",
    "    dataset = transform_data(dataset, transformer)\n",
    "    return dataset"
   ]
  },
  {
   "cell_type": "markdown",
   "id": "f344552d",
   "metadata": {
    "papermill": {
     "duration": 0.022732,
     "end_time": "2024-06-24T08:55:05.580324",
     "exception": false,
     "start_time": "2024-06-24T08:55:05.557592",
     "status": "completed"
    },
    "tags": []
   },
   "source": [
    "### Train and evaluate the model"
   ]
  },
  {
   "cell_type": "code",
   "execution_count": 8,
   "id": "25daf31d",
   "metadata": {
    "execution": {
     "iopub.execute_input": "2024-06-24T08:55:05.632644Z",
     "iopub.status.busy": "2024-06-24T08:55:05.631509Z",
     "iopub.status.idle": "2024-06-24T08:55:05.746618Z",
     "shell.execute_reply": "2024-06-24T08:55:05.745377Z"
    },
    "papermill": {
     "duration": 0.153423,
     "end_time": "2024-06-24T08:55:05.750300",
     "exception": false,
     "start_time": "2024-06-24T08:55:05.596877",
     "status": "completed"
    },
    "tags": []
   },
   "outputs": [
    {
     "data": {
      "application/javascript": [
       "\n",
       "            setTimeout(function() {\n",
       "                var nbb_cell_id = 8;\n",
       "                var nbb_unformatted_code = \"def train_and_evaluate_model(Estimator, dataset, estimator_params=None):\\n    \\\"\\\"\\\"\\n    Purpose: Helper function to be used in conjunction with\\n    blocked time_series cross validation function\\n    \\\"\\\"\\\"\\n    x_train = dataset[\\\"x_train\\\"]\\n    y_train = dataset[\\\"y_train\\\"]\\n    x_test = dataset[\\\"x_test\\\"]\\n    y_test = dataset[\\\"y_test\\\"]\\n\\n    # Instantiate the model\\n    model = Estimator() if estimator_params is None else Estimator(**estimator_params)\\n\\n    # Fitting the model\\n    model.fit(x_train, y_train)\\n\\n    # Making predictions on train/test sets\\n    y_train_pred = model.predict(x_train)\\n    y_test_pred = model.predict(x_test)\\n\\n    # Return regression metrics\\n    return score_regression_metrics(y_train, y_train_pred, y_test, y_test_pred)\";\n",
       "                var nbb_formatted_code = \"def train_and_evaluate_model(Estimator, dataset, estimator_params=None):\\n    \\\"\\\"\\\"\\n    Purpose: Helper function to be used in conjunction with\\n    blocked time_series cross validation function\\n    \\\"\\\"\\\"\\n    x_train = dataset[\\\"x_train\\\"]\\n    y_train = dataset[\\\"y_train\\\"]\\n    x_test = dataset[\\\"x_test\\\"]\\n    y_test = dataset[\\\"y_test\\\"]\\n\\n    # Instantiate the model\\n    model = Estimator() if estimator_params is None else Estimator(**estimator_params)\\n\\n    # Fitting the model\\n    model.fit(x_train, y_train)\\n\\n    # Making predictions on train/test sets\\n    y_train_pred = model.predict(x_train)\\n    y_test_pred = model.predict(x_test)\\n\\n    # Return regression metrics\\n    return score_regression_metrics(y_train, y_train_pred, y_test, y_test_pred)\";\n",
       "                var nbb_cells = Jupyter.notebook.get_cells();\n",
       "                for (var i = 0; i < nbb_cells.length; ++i) {\n",
       "                    if (nbb_cells[i].input_prompt_number == nbb_cell_id) {\n",
       "                        if (nbb_cells[i].get_text() == nbb_unformatted_code) {\n",
       "                             nbb_cells[i].set_text(nbb_formatted_code);\n",
       "                        }\n",
       "                        break;\n",
       "                    }\n",
       "                }\n",
       "            }, 500);\n",
       "            "
      ],
      "text/plain": [
       "<IPython.core.display.Javascript object>"
      ]
     },
     "metadata": {},
     "output_type": "display_data"
    }
   ],
   "source": [
    "def train_and_evaluate_model(Estimator, dataset, estimator_params=None):\n",
    "    \"\"\"\n",
    "    Purpose: Helper function to be used in conjunction with\n",
    "    blocked time_series cross validation function\n",
    "    \"\"\"\n",
    "    x_train = dataset[\"x_train\"]\n",
    "    y_train = dataset[\"y_train\"]\n",
    "    x_test = dataset[\"x_test\"]\n",
    "    y_test = dataset[\"y_test\"]\n",
    "\n",
    "    # Instantiate the model\n",
    "    model = Estimator() if estimator_params is None else Estimator(**estimator_params)\n",
    "\n",
    "    # Fitting the model\n",
    "    model.fit(x_train, y_train)\n",
    "\n",
    "    # Making predictions on train/test sets\n",
    "    y_train_pred = model.predict(x_train)\n",
    "    y_test_pred = model.predict(x_test)\n",
    "\n",
    "    # Return regression metrics\n",
    "    return score_regression_metrics(y_train, y_train_pred, y_test, y_test_pred)"
   ]
  },
  {
   "cell_type": "markdown",
   "id": "eab992e6",
   "metadata": {
    "papermill": {
     "duration": 0.022431,
     "end_time": "2024-06-24T08:55:05.798307",
     "exception": false,
     "start_time": "2024-06-24T08:55:05.775876",
     "status": "completed"
    },
    "tags": []
   },
   "source": [
    "### Custom Cross Validate"
   ]
  },
  {
   "cell_type": "code",
   "execution_count": 9,
   "id": "8249823d",
   "metadata": {
    "execution": {
     "iopub.execute_input": "2024-06-24T08:55:05.840042Z",
     "iopub.status.busy": "2024-06-24T08:55:05.839474Z",
     "iopub.status.idle": "2024-06-24T08:55:05.978498Z",
     "shell.execute_reply": "2024-06-24T08:55:05.977250Z"
    },
    "papermill": {
     "duration": 0.166343,
     "end_time": "2024-06-24T08:55:05.981621",
     "exception": false,
     "start_time": "2024-06-24T08:55:05.815278",
     "status": "completed"
    },
    "tags": []
   },
   "outputs": [
    {
     "data": {
      "application/javascript": [
       "\n",
       "            setTimeout(function() {\n",
       "                var nbb_cell_id = 9;\n",
       "                var nbb_unformatted_code = \"def custom_cross_validate_parallelized(\\n    Estimator,\\n    Imputer,\\n    Transform,\\n    x,\\n    y,\\n    cv,\\n    timesteps,\\n    dates=None,\\n    cement_types=None,\\n    estimator_params=None,\\n    imputer_params=None,\\n    split_by_cement_type=True,\\n    n_jobs=-1,  # Set the number of parallel jobs, -1 for using all available cores\\n):\\n    def process_fold(train_index, test_index, dates, cement_types, x, y):\\n        dataset = {\\n            \\\"dates_train\\\": dates[train_index].reset_index(drop=True),\\n            \\\"cement_types_train\\\": cement_types.loc[train_index].reset_index(drop=True),\\n            \\\"x_train\\\": x.loc[train_index].reset_index(drop=True),\\n            \\\"y_train\\\": y[train_index].reset_index(drop=True),\\n            \\\"dates_test\\\": dates[test_index].reset_index(drop=True),\\n            \\\"cement_types_test\\\": cement_types.loc[test_index].reset_index(drop=True),\\n            \\\"x_test\\\": x.loc[test_index].reset_index(drop=True),\\n            \\\"y_test\\\": y[test_index].reset_index(drop=True),\\n        }\\n\\n        set_seeds(SEED + REPEAT)\\n\\n        # Preprocess the dataset\\n        dataset = preprocess_data(dataset, Transform, Imputer, imputer_params)\\n\\n        # generate sequences (3D format)\\n        dataset = generate_sequences(dataset, timesteps, split_by_cement_type)\\n\\n        # Train and Evaluate the model\\n        score = train_and_evaluate_model(Estimator, dataset, estimator_params)\\n        return score\\n\\n    scores = Parallel(n_jobs=n_jobs)(\\n        delayed(process_fold)(train_index, test_index, dates, cement_types, x, y)\\n        for train_index, test_index in cv.split(x)\\n    )\\n\\n    # After every iteration metrics results are appended together\\n    scores_final = {key: [] for key, _ in scores[0].items()}\\n    for scores_dict in scores:\\n        for key, value in scores_dict.items():\\n            scores_final[key] += [value]\\n\\n    results = [scores_final]\\n    return results\";\n",
       "                var nbb_formatted_code = \"def custom_cross_validate_parallelized(\\n    Estimator,\\n    Imputer,\\n    Transform,\\n    x,\\n    y,\\n    cv,\\n    timesteps,\\n    dates=None,\\n    cement_types=None,\\n    estimator_params=None,\\n    imputer_params=None,\\n    split_by_cement_type=True,\\n    n_jobs=-1,  # Set the number of parallel jobs, -1 for using all available cores\\n):\\n    def process_fold(train_index, test_index, dates, cement_types, x, y):\\n        dataset = {\\n            \\\"dates_train\\\": dates[train_index].reset_index(drop=True),\\n            \\\"cement_types_train\\\": cement_types.loc[train_index].reset_index(drop=True),\\n            \\\"x_train\\\": x.loc[train_index].reset_index(drop=True),\\n            \\\"y_train\\\": y[train_index].reset_index(drop=True),\\n            \\\"dates_test\\\": dates[test_index].reset_index(drop=True),\\n            \\\"cement_types_test\\\": cement_types.loc[test_index].reset_index(drop=True),\\n            \\\"x_test\\\": x.loc[test_index].reset_index(drop=True),\\n            \\\"y_test\\\": y[test_index].reset_index(drop=True),\\n        }\\n\\n        set_seeds(SEED + REPEAT)\\n\\n        # Preprocess the dataset\\n        dataset = preprocess_data(dataset, Transform, Imputer, imputer_params)\\n\\n        # generate sequences (3D format)\\n        dataset = generate_sequences(dataset, timesteps, split_by_cement_type)\\n\\n        # Train and Evaluate the model\\n        score = train_and_evaluate_model(Estimator, dataset, estimator_params)\\n        return score\\n\\n    scores = Parallel(n_jobs=n_jobs)(\\n        delayed(process_fold)(train_index, test_index, dates, cement_types, x, y)\\n        for train_index, test_index in cv.split(x)\\n    )\\n\\n    # After every iteration metrics results are appended together\\n    scores_final = {key: [] for key, _ in scores[0].items()}\\n    for scores_dict in scores:\\n        for key, value in scores_dict.items():\\n            scores_final[key] += [value]\\n\\n    results = [scores_final]\\n    return results\";\n",
       "                var nbb_cells = Jupyter.notebook.get_cells();\n",
       "                for (var i = 0; i < nbb_cells.length; ++i) {\n",
       "                    if (nbb_cells[i].input_prompt_number == nbb_cell_id) {\n",
       "                        if (nbb_cells[i].get_text() == nbb_unformatted_code) {\n",
       "                             nbb_cells[i].set_text(nbb_formatted_code);\n",
       "                        }\n",
       "                        break;\n",
       "                    }\n",
       "                }\n",
       "            }, 500);\n",
       "            "
      ],
      "text/plain": [
       "<IPython.core.display.Javascript object>"
      ]
     },
     "metadata": {},
     "output_type": "display_data"
    }
   ],
   "source": [
    "def custom_cross_validate_parallelized(\n",
    "    Estimator,\n",
    "    Imputer,\n",
    "    Transform,\n",
    "    x,\n",
    "    y,\n",
    "    cv,\n",
    "    timesteps,\n",
    "    dates=None,\n",
    "    cement_types=None,\n",
    "    estimator_params=None,\n",
    "    imputer_params=None,\n",
    "    split_by_cement_type=True,\n",
    "    n_jobs=-1,  # Set the number of parallel jobs, -1 for using all available cores\n",
    "):\n",
    "    def process_fold(train_index, test_index, dates, cement_types, x, y):\n",
    "        dataset = {\n",
    "            \"dates_train\": dates[train_index].reset_index(drop=True),\n",
    "            \"cement_types_train\": cement_types.loc[train_index].reset_index(drop=True),\n",
    "            \"x_train\": x.loc[train_index].reset_index(drop=True),\n",
    "            \"y_train\": y[train_index].reset_index(drop=True),\n",
    "            \"dates_test\": dates[test_index].reset_index(drop=True),\n",
    "            \"cement_types_test\": cement_types.loc[test_index].reset_index(drop=True),\n",
    "            \"x_test\": x.loc[test_index].reset_index(drop=True),\n",
    "            \"y_test\": y[test_index].reset_index(drop=True),\n",
    "        }\n",
    "\n",
    "        set_seeds(SEED + REPEAT)\n",
    "\n",
    "        # Preprocess the dataset\n",
    "        dataset = preprocess_data(dataset, Transform, Imputer, imputer_params)\n",
    "\n",
    "        # generate sequences (3D format)\n",
    "        dataset = generate_sequences(dataset, timesteps, split_by_cement_type)\n",
    "\n",
    "        # Train and Evaluate the model\n",
    "        score = train_and_evaluate_model(Estimator, dataset, estimator_params)\n",
    "        return score\n",
    "\n",
    "    scores = Parallel(n_jobs=n_jobs)(\n",
    "        delayed(process_fold)(train_index, test_index, dates, cement_types, x, y)\n",
    "        for train_index, test_index in cv.split(x)\n",
    "    )\n",
    "\n",
    "    # After every iteration metrics results are appended together\n",
    "    scores_final = {key: [] for key, _ in scores[0].items()}\n",
    "    for scores_dict in scores:\n",
    "        for key, value in scores_dict.items():\n",
    "            scores_final[key] += [value]\n",
    "\n",
    "    results = [scores_final]\n",
    "    return results"
   ]
  },
  {
   "cell_type": "markdown",
   "id": "01fa36b4",
   "metadata": {
    "papermill": {
     "duration": 0.021055,
     "end_time": "2024-06-24T08:55:06.024503",
     "exception": false,
     "start_time": "2024-06-24T08:55:06.003448",
     "status": "completed"
    },
    "tags": []
   },
   "source": [
    "## Model Definition"
   ]
  },
  {
   "cell_type": "code",
   "execution_count": 10,
   "id": "301400a9",
   "metadata": {
    "execution": {
     "iopub.execute_input": "2024-06-24T08:55:06.075913Z",
     "iopub.status.busy": "2024-06-24T08:55:06.075335Z",
     "iopub.status.idle": "2024-06-24T08:55:06.221605Z",
     "shell.execute_reply": "2024-06-24T08:55:06.220359Z"
    },
    "papermill": {
     "duration": 0.178709,
     "end_time": "2024-06-24T08:55:06.224583",
     "exception": false,
     "start_time": "2024-06-24T08:55:06.045874",
     "status": "completed"
    },
    "tags": []
   },
   "outputs": [
    {
     "data": {
      "application/javascript": [
       "\n",
       "            setTimeout(function() {\n",
       "                var nbb_cell_id = 10;\n",
       "                var nbb_unformatted_code = \"class LSTM(BaseEstimator, RegressorMixin):\\n    def __init__(self):\\n        self.model = self.get_model()\\n        self.batch_size = 16\\n        self.epochs = 300\\n        self.verbose = 0\\n\\n    def fit(self, X=None, y=None):\\n        self.model.fit(\\n            X, y, batch_size=self.batch_size, epochs=self.epochs, verbose=self.verbose\\n        )\\n\\n    def predict(self, X=None):\\n        return self.model.predict(X, verbose=self.verbose)\\n\\n    def get_model(self):\\n        model = tf.keras.Sequential()\\n        model.add(tf.keras.layers.LSTM(units=16, activation=\\\"relu\\\"))\\n        model.add(tf.keras.layers.Dropout(rate=0.10))\\n        model.add(tf.keras.layers.Dense(units=1))\\n        model.compile(\\n            # optimizer=tf.keras.optimizers.Adam(learning_rate=0.001),\\n            optimizer=tf.keras.optimizers.legacy.Adam(learning_rate=0.001),\\n            loss=\\\"mse\\\",\\n            metrics=[tf.keras.metrics.RootMeanSquaredError(name=\\\"RMSE\\\")],\\n        )\\n        return model\";\n",
       "                var nbb_formatted_code = \"class LSTM(BaseEstimator, RegressorMixin):\\n    def __init__(self):\\n        self.model = self.get_model()\\n        self.batch_size = 16\\n        self.epochs = 300\\n        self.verbose = 0\\n\\n    def fit(self, X=None, y=None):\\n        self.model.fit(\\n            X, y, batch_size=self.batch_size, epochs=self.epochs, verbose=self.verbose\\n        )\\n\\n    def predict(self, X=None):\\n        return self.model.predict(X, verbose=self.verbose)\\n\\n    def get_model(self):\\n        model = tf.keras.Sequential()\\n        model.add(tf.keras.layers.LSTM(units=16, activation=\\\"relu\\\"))\\n        model.add(tf.keras.layers.Dropout(rate=0.10))\\n        model.add(tf.keras.layers.Dense(units=1))\\n        model.compile(\\n            # optimizer=tf.keras.optimizers.Adam(learning_rate=0.001),\\n            optimizer=tf.keras.optimizers.legacy.Adam(learning_rate=0.001),\\n            loss=\\\"mse\\\",\\n            metrics=[tf.keras.metrics.RootMeanSquaredError(name=\\\"RMSE\\\")],\\n        )\\n        return model\";\n",
       "                var nbb_cells = Jupyter.notebook.get_cells();\n",
       "                for (var i = 0; i < nbb_cells.length; ++i) {\n",
       "                    if (nbb_cells[i].input_prompt_number == nbb_cell_id) {\n",
       "                        if (nbb_cells[i].get_text() == nbb_unformatted_code) {\n",
       "                             nbb_cells[i].set_text(nbb_formatted_code);\n",
       "                        }\n",
       "                        break;\n",
       "                    }\n",
       "                }\n",
       "            }, 500);\n",
       "            "
      ],
      "text/plain": [
       "<IPython.core.display.Javascript object>"
      ]
     },
     "metadata": {},
     "output_type": "display_data"
    }
   ],
   "source": [
    "class LSTM(BaseEstimator, RegressorMixin):\n",
    "    def __init__(self):\n",
    "        self.model = self.get_model()\n",
    "        self.batch_size = 16\n",
    "        self.epochs = 300\n",
    "        self.verbose = 0\n",
    "\n",
    "    def fit(self, X=None, y=None):\n",
    "        self.model.fit(\n",
    "            X, y, batch_size=self.batch_size, epochs=self.epochs, verbose=self.verbose\n",
    "        )\n",
    "\n",
    "    def predict(self, X=None):\n",
    "        return self.model.predict(X, verbose=self.verbose)\n",
    "\n",
    "    def get_model(self):\n",
    "        model = tf.keras.Sequential()\n",
    "        model.add(tf.keras.layers.LSTM(units=16, activation=\"relu\"))\n",
    "        model.add(tf.keras.layers.Dropout(rate=0.10))\n",
    "        model.add(tf.keras.layers.Dense(units=1))\n",
    "        model.compile(\n",
    "            # optimizer=tf.keras.optimizers.Adam(learning_rate=0.001),\n",
    "            optimizer=tf.keras.optimizers.legacy.Adam(learning_rate=0.001),\n",
    "            loss=\"mse\",\n",
    "            metrics=[tf.keras.metrics.RootMeanSquaredError(name=\"RMSE\")],\n",
    "        )\n",
    "        return model"
   ]
  },
  {
   "cell_type": "code",
   "execution_count": 11,
   "id": "302366df",
   "metadata": {
    "execution": {
     "iopub.execute_input": "2024-06-24T08:55:06.267331Z",
     "iopub.status.busy": "2024-06-24T08:55:06.266767Z",
     "iopub.status.idle": "2024-06-24T08:55:06.445570Z",
     "shell.execute_reply": "2024-06-24T08:55:06.444316Z"
    },
    "papermill": {
     "duration": 0.204277,
     "end_time": "2024-06-24T08:55:06.449165",
     "exception": false,
     "start_time": "2024-06-24T08:55:06.244888",
     "status": "completed"
    },
    "tags": []
   },
   "outputs": [
    {
     "data": {
      "application/javascript": [
       "\n",
       "            setTimeout(function() {\n",
       "                var nbb_cell_id = 11;\n",
       "                var nbb_unformatted_code = \"def pad_time_series(dataframe, timesteps):\\n    \\\"\\\"\\\"\\n    Pad timeseries with zeros\\n    \\\"\\\"\\\"\\n    df_tmp = pd.DataFrame(\\n        dict(\\n            zip(\\n                dataframe.columns,\\n                [[0 for _ in range(timesteps - 1)] for _ in range(dataframe.shape[1])],\\n            )\\n        )\\n    )\\n    df_tmp[DATE] = dataframe[DATE].iloc[0]\\n    return pd.concat([df_tmp, dataframe], axis=0).reset_index(drop=True)\";\n",
       "                var nbb_formatted_code = \"def pad_time_series(dataframe, timesteps):\\n    \\\"\\\"\\\"\\n    Pad timeseries with zeros\\n    \\\"\\\"\\\"\\n    df_tmp = pd.DataFrame(\\n        dict(\\n            zip(\\n                dataframe.columns,\\n                [[0 for _ in range(timesteps - 1)] for _ in range(dataframe.shape[1])],\\n            )\\n        )\\n    )\\n    df_tmp[DATE] = dataframe[DATE].iloc[0]\\n    return pd.concat([df_tmp, dataframe], axis=0).reset_index(drop=True)\";\n",
       "                var nbb_cells = Jupyter.notebook.get_cells();\n",
       "                for (var i = 0; i < nbb_cells.length; ++i) {\n",
       "                    if (nbb_cells[i].input_prompt_number == nbb_cell_id) {\n",
       "                        if (nbb_cells[i].get_text() == nbb_unformatted_code) {\n",
       "                             nbb_cells[i].set_text(nbb_formatted_code);\n",
       "                        }\n",
       "                        break;\n",
       "                    }\n",
       "                }\n",
       "            }, 500);\n",
       "            "
      ],
      "text/plain": [
       "<IPython.core.display.Javascript object>"
      ]
     },
     "metadata": {},
     "output_type": "display_data"
    }
   ],
   "source": [
    "def pad_time_series(dataframe, timesteps):\n",
    "    \"\"\"\n",
    "    Pad timeseries with zeros\n",
    "    \"\"\"\n",
    "    df_tmp = pd.DataFrame(\n",
    "        dict(\n",
    "            zip(\n",
    "                dataframe.columns,\n",
    "                [[0 for _ in range(timesteps - 1)] for _ in range(dataframe.shape[1])],\n",
    "            )\n",
    "        )\n",
    "    )\n",
    "    df_tmp[DATE] = dataframe[DATE].iloc[0]\n",
    "    return pd.concat([df_tmp, dataframe], axis=0).reset_index(drop=True)"
   ]
  },
  {
   "cell_type": "code",
   "execution_count": 12,
   "id": "9e4930ab",
   "metadata": {
    "execution": {
     "iopub.execute_input": "2024-06-24T08:55:06.506492Z",
     "iopub.status.busy": "2024-06-24T08:55:06.505926Z",
     "iopub.status.idle": "2024-06-24T08:55:06.642247Z",
     "shell.execute_reply": "2024-06-24T08:55:06.640991Z"
    },
    "papermill": {
     "duration": 0.16657,
     "end_time": "2024-06-24T08:55:06.645767",
     "exception": false,
     "start_time": "2024-06-24T08:55:06.479197",
     "status": "completed"
    },
    "tags": []
   },
   "outputs": [
    {
     "data": {
      "application/javascript": [
       "\n",
       "            setTimeout(function() {\n",
       "                var nbb_cell_id = 12;\n",
       "                var nbb_unformatted_code = \"def split_sequences_per_cement_type(dataframe, timesteps, pad=False):\\n    \\\"\\\"\\\"\\n    Create sequences per cement time\\n    to avoid having parts of the sequence\\n    of different types of cement.\\n    \\\"\\\"\\\"\\n    if timesteps == 1:\\n        return split_sequences(\\n            dataframe.drop([DATE] + CEMENT_TYPES, axis=1).values, timesteps\\n        )\\n\\n    dates = dataframe[DATE][timesteps - 1 :]\\n    data = []\\n    dataframes = []\\n\\n    for cement_type in CEMENT_TYPES:\\n        data.append(dataframe[dataframe[cement_type] == 1])\\n    data.append(dataframe[(dataframe[CEMENT_TYPES] == 0).all(axis=1)])\\n\\n    for df in data:\\n        if pad:\\n            dates = df[DATE].reset_index(drop=True)\\n            df = pad_time_series(df, timesteps).reset_index(drop=True)\\n        else:\\n            dates = df[DATE][timesteps - 1 :].reset_index(drop=True)\\n        x, y = split_sequences(df.drop([DATE] + CEMENT_TYPES, axis=1).values, timesteps)\\n        x = pd.DataFrame({\\\"Sequences\\\": [sample.tolist() for sample in x]})\\n        y = pd.DataFrame({\\\"Target\\\": y})\\n        dataframes.append(pd.concat([dates, x, y], axis=1))\\n\\n    data = pd.concat(dataframes, axis=0)\\n    data[DATE] = pd.to_datetime(data[DATE])\\n    data = data.sort_values(by=DATE).reset_index(drop=True)\\n    x = data[\\\"Sequences\\\"]\\n    y = data[\\\"Target\\\"].values\\n    x = np.array(x.tolist())\\n\\n    return x, y\";\n",
       "                var nbb_formatted_code = \"def split_sequences_per_cement_type(dataframe, timesteps, pad=False):\\n    \\\"\\\"\\\"\\n    Create sequences per cement time\\n    to avoid having parts of the sequence\\n    of different types of cement.\\n    \\\"\\\"\\\"\\n    if timesteps == 1:\\n        return split_sequences(\\n            dataframe.drop([DATE] + CEMENT_TYPES, axis=1).values, timesteps\\n        )\\n\\n    dates = dataframe[DATE][timesteps - 1 :]\\n    data = []\\n    dataframes = []\\n\\n    for cement_type in CEMENT_TYPES:\\n        data.append(dataframe[dataframe[cement_type] == 1])\\n    data.append(dataframe[(dataframe[CEMENT_TYPES] == 0).all(axis=1)])\\n\\n    for df in data:\\n        if pad:\\n            dates = df[DATE].reset_index(drop=True)\\n            df = pad_time_series(df, timesteps).reset_index(drop=True)\\n        else:\\n            dates = df[DATE][timesteps - 1 :].reset_index(drop=True)\\n        x, y = split_sequences(df.drop([DATE] + CEMENT_TYPES, axis=1).values, timesteps)\\n        x = pd.DataFrame({\\\"Sequences\\\": [sample.tolist() for sample in x]})\\n        y = pd.DataFrame({\\\"Target\\\": y})\\n        dataframes.append(pd.concat([dates, x, y], axis=1))\\n\\n    data = pd.concat(dataframes, axis=0)\\n    data[DATE] = pd.to_datetime(data[DATE])\\n    data = data.sort_values(by=DATE).reset_index(drop=True)\\n    x = data[\\\"Sequences\\\"]\\n    y = data[\\\"Target\\\"].values\\n    x = np.array(x.tolist())\\n\\n    return x, y\";\n",
       "                var nbb_cells = Jupyter.notebook.get_cells();\n",
       "                for (var i = 0; i < nbb_cells.length; ++i) {\n",
       "                    if (nbb_cells[i].input_prompt_number == nbb_cell_id) {\n",
       "                        if (nbb_cells[i].get_text() == nbb_unformatted_code) {\n",
       "                             nbb_cells[i].set_text(nbb_formatted_code);\n",
       "                        }\n",
       "                        break;\n",
       "                    }\n",
       "                }\n",
       "            }, 500);\n",
       "            "
      ],
      "text/plain": [
       "<IPython.core.display.Javascript object>"
      ]
     },
     "metadata": {},
     "output_type": "display_data"
    }
   ],
   "source": [
    "def split_sequences_per_cement_type(dataframe, timesteps, pad=False):\n",
    "    \"\"\"\n",
    "    Create sequences per cement time\n",
    "    to avoid having parts of the sequence\n",
    "    of different types of cement.\n",
    "    \"\"\"\n",
    "    if timesteps == 1:\n",
    "        return split_sequences(\n",
    "            dataframe.drop([DATE] + CEMENT_TYPES, axis=1).values, timesteps\n",
    "        )\n",
    "\n",
    "    dates = dataframe[DATE][timesteps - 1 :]\n",
    "    data = []\n",
    "    dataframes = []\n",
    "\n",
    "    for cement_type in CEMENT_TYPES:\n",
    "        data.append(dataframe[dataframe[cement_type] == 1])\n",
    "    data.append(dataframe[(dataframe[CEMENT_TYPES] == 0).all(axis=1)])\n",
    "\n",
    "    for df in data:\n",
    "        if pad:\n",
    "            dates = df[DATE].reset_index(drop=True)\n",
    "            df = pad_time_series(df, timesteps).reset_index(drop=True)\n",
    "        else:\n",
    "            dates = df[DATE][timesteps - 1 :].reset_index(drop=True)\n",
    "        x, y = split_sequences(df.drop([DATE] + CEMENT_TYPES, axis=1).values, timesteps)\n",
    "        x = pd.DataFrame({\"Sequences\": [sample.tolist() for sample in x]})\n",
    "        y = pd.DataFrame({\"Target\": y})\n",
    "        dataframes.append(pd.concat([dates, x, y], axis=1))\n",
    "\n",
    "    data = pd.concat(dataframes, axis=0)\n",
    "    data[DATE] = pd.to_datetime(data[DATE])\n",
    "    data = data.sort_values(by=DATE).reset_index(drop=True)\n",
    "    x = data[\"Sequences\"]\n",
    "    y = data[\"Target\"].values\n",
    "    x = np.array(x.tolist())\n",
    "\n",
    "    return x, y"
   ]
  },
  {
   "cell_type": "markdown",
   "id": "007d6002",
   "metadata": {
    "papermill": {
     "duration": 0.023235,
     "end_time": "2024-06-24T08:55:06.696165",
     "exception": false,
     "start_time": "2024-06-24T08:55:06.672930",
     "status": "completed"
    },
    "tags": []
   },
   "source": [
    "# Settings for Reproducibility"
   ]
  },
  {
   "cell_type": "code",
   "execution_count": 13,
   "id": "546d4f42",
   "metadata": {
    "execution": {
     "iopub.execute_input": "2024-06-24T08:55:06.744734Z",
     "iopub.status.busy": "2024-06-24T08:55:06.744155Z",
     "iopub.status.idle": "2024-06-24T08:55:06.872221Z",
     "shell.execute_reply": "2024-06-24T08:55:06.870972Z"
    },
    "papermill": {
     "duration": 0.162507,
     "end_time": "2024-06-24T08:55:06.875520",
     "exception": false,
     "start_time": "2024-06-24T08:55:06.713013",
     "status": "completed"
    },
    "tags": []
   },
   "outputs": [
    {
     "data": {
      "application/javascript": [
       "\n",
       "            setTimeout(function() {\n",
       "                var nbb_cell_id = 13;\n",
       "                var nbb_unformatted_code = \"SEED = 47\\nREPEAT = 0\";\n",
       "                var nbb_formatted_code = \"SEED = 47\\nREPEAT = 0\";\n",
       "                var nbb_cells = Jupyter.notebook.get_cells();\n",
       "                for (var i = 0; i < nbb_cells.length; ++i) {\n",
       "                    if (nbb_cells[i].input_prompt_number == nbb_cell_id) {\n",
       "                        if (nbb_cells[i].get_text() == nbb_unformatted_code) {\n",
       "                             nbb_cells[i].set_text(nbb_formatted_code);\n",
       "                        }\n",
       "                        break;\n",
       "                    }\n",
       "                }\n",
       "            }, 500);\n",
       "            "
      ],
      "text/plain": [
       "<IPython.core.display.Javascript object>"
      ]
     },
     "metadata": {},
     "output_type": "display_data"
    }
   ],
   "source": [
    "SEED = 47\n",
    "REPEAT = 0"
   ]
  },
  {
   "cell_type": "code",
   "execution_count": 14,
   "id": "5488e99e",
   "metadata": {
    "execution": {
     "iopub.execute_input": "2024-06-24T08:55:06.923076Z",
     "iopub.status.busy": "2024-06-24T08:55:06.922507Z",
     "iopub.status.idle": "2024-06-24T08:55:07.040445Z",
     "shell.execute_reply": "2024-06-24T08:55:07.039223Z"
    },
    "papermill": {
     "duration": 0.145565,
     "end_time": "2024-06-24T08:55:07.044039",
     "exception": false,
     "start_time": "2024-06-24T08:55:06.898474",
     "status": "completed"
    },
    "tags": []
   },
   "outputs": [
    {
     "data": {
      "application/javascript": [
       "\n",
       "            setTimeout(function() {\n",
       "                var nbb_cell_id = 14;\n",
       "                var nbb_unformatted_code = \"def set_seeds(seed=SEED):\\n    os.environ[\\\"PYTHONHASHSEED\\\"] = str(seed)\\n    tf.random.set_seed(seed)\\n    np.random.seed(seed)\\n    random.seed(seed)\\n\\n\\n# https://stackoverflow.com/questions/36288235/how-to-get-stable-results-with-tensorflow-setting-random-seed\";\n",
       "                var nbb_formatted_code = \"def set_seeds(seed=SEED):\\n    os.environ[\\\"PYTHONHASHSEED\\\"] = str(seed)\\n    tf.random.set_seed(seed)\\n    np.random.seed(seed)\\n    random.seed(seed)\\n\\n\\n# https://stackoverflow.com/questions/36288235/how-to-get-stable-results-with-tensorflow-setting-random-seed\";\n",
       "                var nbb_cells = Jupyter.notebook.get_cells();\n",
       "                for (var i = 0; i < nbb_cells.length; ++i) {\n",
       "                    if (nbb_cells[i].input_prompt_number == nbb_cell_id) {\n",
       "                        if (nbb_cells[i].get_text() == nbb_unformatted_code) {\n",
       "                             nbb_cells[i].set_text(nbb_formatted_code);\n",
       "                        }\n",
       "                        break;\n",
       "                    }\n",
       "                }\n",
       "            }, 500);\n",
       "            "
      ],
      "text/plain": [
       "<IPython.core.display.Javascript object>"
      ]
     },
     "metadata": {},
     "output_type": "display_data"
    }
   ],
   "source": [
    "def set_seeds(seed=SEED):\n",
    "    os.environ[\"PYTHONHASHSEED\"] = str(seed)\n",
    "    tf.random.set_seed(seed)\n",
    "    np.random.seed(seed)\n",
    "    random.seed(seed)\n",
    "\n",
    "\n",
    "# https://stackoverflow.com/questions/36288235/how-to-get-stable-results-with-tensorflow-setting-random-seed"
   ]
  },
  {
   "cell_type": "code",
   "execution_count": 15,
   "id": "8da16db3",
   "metadata": {
    "execution": {
     "iopub.execute_input": "2024-06-24T08:55:07.098958Z",
     "iopub.status.busy": "2024-06-24T08:55:07.097825Z",
     "iopub.status.idle": "2024-06-24T08:55:07.219052Z",
     "shell.execute_reply": "2024-06-24T08:55:07.217837Z"
    },
    "papermill": {
     "duration": 0.150672,
     "end_time": "2024-06-24T08:55:07.222454",
     "exception": false,
     "start_time": "2024-06-24T08:55:07.071782",
     "status": "completed"
    },
    "tags": []
   },
   "outputs": [
    {
     "data": {
      "application/javascript": [
       "\n",
       "            setTimeout(function() {\n",
       "                var nbb_cell_id = 15;\n",
       "                var nbb_unformatted_code = \"def set_global_determinism():\\n    set_seeds(seed=SEED)\\n\\n    os.environ[\\\"TF_DETERMINISTIC_OPS\\\"] = \\\"1\\\"\\n    os.environ[\\\"TF_CUDNN_DETERMINISTIC\\\"] = \\\"1\\\"\\n\\n    tf.config.threading.set_inter_op_parallelism_threads(1)\\n    tf.config.threading.set_intra_op_parallelism_threads(1)\";\n",
       "                var nbb_formatted_code = \"def set_global_determinism():\\n    set_seeds(seed=SEED)\\n\\n    os.environ[\\\"TF_DETERMINISTIC_OPS\\\"] = \\\"1\\\"\\n    os.environ[\\\"TF_CUDNN_DETERMINISTIC\\\"] = \\\"1\\\"\\n\\n    tf.config.threading.set_inter_op_parallelism_threads(1)\\n    tf.config.threading.set_intra_op_parallelism_threads(1)\";\n",
       "                var nbb_cells = Jupyter.notebook.get_cells();\n",
       "                for (var i = 0; i < nbb_cells.length; ++i) {\n",
       "                    if (nbb_cells[i].input_prompt_number == nbb_cell_id) {\n",
       "                        if (nbb_cells[i].get_text() == nbb_unformatted_code) {\n",
       "                             nbb_cells[i].set_text(nbb_formatted_code);\n",
       "                        }\n",
       "                        break;\n",
       "                    }\n",
       "                }\n",
       "            }, 500);\n",
       "            "
      ],
      "text/plain": [
       "<IPython.core.display.Javascript object>"
      ]
     },
     "metadata": {},
     "output_type": "display_data"
    }
   ],
   "source": [
    "def set_global_determinism():\n",
    "    set_seeds(seed=SEED)\n",
    "\n",
    "    os.environ[\"TF_DETERMINISTIC_OPS\"] = \"1\"\n",
    "    os.environ[\"TF_CUDNN_DETERMINISTIC\"] = \"1\"\n",
    "\n",
    "    tf.config.threading.set_inter_op_parallelism_threads(1)\n",
    "    tf.config.threading.set_intra_op_parallelism_threads(1)"
   ]
  },
  {
   "cell_type": "code",
   "execution_count": 16,
   "id": "e2c77641",
   "metadata": {
    "execution": {
     "iopub.execute_input": "2024-06-24T08:55:07.277251Z",
     "iopub.status.busy": "2024-06-24T08:55:07.276665Z",
     "iopub.status.idle": "2024-06-24T08:55:07.404508Z",
     "shell.execute_reply": "2024-06-24T08:55:07.403056Z"
    },
    "papermill": {
     "duration": 0.157667,
     "end_time": "2024-06-24T08:55:07.408180",
     "exception": false,
     "start_time": "2024-06-24T08:55:07.250513",
     "status": "completed"
    },
    "tags": []
   },
   "outputs": [
    {
     "data": {
      "application/javascript": [
       "\n",
       "            setTimeout(function() {\n",
       "                var nbb_cell_id = 16;\n",
       "                var nbb_unformatted_code = \"def suppress_warnings():\\n    os.environ[\\\"TF_CPP_MIN_LOG_LEVEL\\\"] = \\\"3\\\"\";\n",
       "                var nbb_formatted_code = \"def suppress_warnings():\\n    os.environ[\\\"TF_CPP_MIN_LOG_LEVEL\\\"] = \\\"3\\\"\";\n",
       "                var nbb_cells = Jupyter.notebook.get_cells();\n",
       "                for (var i = 0; i < nbb_cells.length; ++i) {\n",
       "                    if (nbb_cells[i].input_prompt_number == nbb_cell_id) {\n",
       "                        if (nbb_cells[i].get_text() == nbb_unformatted_code) {\n",
       "                             nbb_cells[i].set_text(nbb_formatted_code);\n",
       "                        }\n",
       "                        break;\n",
       "                    }\n",
       "                }\n",
       "            }, 500);\n",
       "            "
      ],
      "text/plain": [
       "<IPython.core.display.Javascript object>"
      ]
     },
     "metadata": {},
     "output_type": "display_data"
    }
   ],
   "source": [
    "def suppress_warnings():\n",
    "    os.environ[\"TF_CPP_MIN_LOG_LEVEL\"] = \"3\""
   ]
  },
  {
   "cell_type": "code",
   "execution_count": 17,
   "id": "be39318f",
   "metadata": {
    "execution": {
     "iopub.execute_input": "2024-06-24T08:55:07.463636Z",
     "iopub.status.busy": "2024-06-24T08:55:07.462507Z",
     "iopub.status.idle": "2024-06-24T08:55:07.604543Z",
     "shell.execute_reply": "2024-06-24T08:55:07.603321Z"
    },
    "papermill": {
     "duration": 0.171599,
     "end_time": "2024-06-24T08:55:07.608092",
     "exception": false,
     "start_time": "2024-06-24T08:55:07.436493",
     "status": "completed"
    },
    "tags": []
   },
   "outputs": [
    {
     "data": {
      "application/javascript": [
       "\n",
       "            setTimeout(function() {\n",
       "                var nbb_cell_id = 17;\n",
       "                var nbb_unformatted_code = \"def supress_other_stuff():\\n    os.environ[\\\"CUDA_VISIBLE_DEVICES\\\"] = \\\"\\\"\\n    # os.environ[\\\"TF_ENABLE_ONEDNN_OPTS\\\"] = \\\"0\\\"\";\n",
       "                var nbb_formatted_code = \"def supress_other_stuff():\\n    os.environ[\\\"CUDA_VISIBLE_DEVICES\\\"] = \\\"\\\"\\n    # os.environ[\\\"TF_ENABLE_ONEDNN_OPTS\\\"] = \\\"0\\\"\";\n",
       "                var nbb_cells = Jupyter.notebook.get_cells();\n",
       "                for (var i = 0; i < nbb_cells.length; ++i) {\n",
       "                    if (nbb_cells[i].input_prompt_number == nbb_cell_id) {\n",
       "                        if (nbb_cells[i].get_text() == nbb_unformatted_code) {\n",
       "                             nbb_cells[i].set_text(nbb_formatted_code);\n",
       "                        }\n",
       "                        break;\n",
       "                    }\n",
       "                }\n",
       "            }, 500);\n",
       "            "
      ],
      "text/plain": [
       "<IPython.core.display.Javascript object>"
      ]
     },
     "metadata": {},
     "output_type": "display_data"
    }
   ],
   "source": [
    "def supress_other_stuff():\n",
    "    os.environ[\"CUDA_VISIBLE_DEVICES\"] = \"\"\n",
    "    # os.environ[\"TF_ENABLE_ONEDNN_OPTS\"] = \"0\""
   ]
  },
  {
   "cell_type": "code",
   "execution_count": 18,
   "id": "c2abb4d1",
   "metadata": {
    "execution": {
     "iopub.execute_input": "2024-06-24T08:55:07.663329Z",
     "iopub.status.busy": "2024-06-24T08:55:07.662769Z",
     "iopub.status.idle": "2024-06-24T08:55:07.820383Z",
     "shell.execute_reply": "2024-06-24T08:55:07.818939Z"
    },
    "papermill": {
     "duration": 0.187411,
     "end_time": "2024-06-24T08:55:07.824024",
     "exception": false,
     "start_time": "2024-06-24T08:55:07.636613",
     "status": "completed"
    },
    "tags": []
   },
   "outputs": [
    {
     "data": {
      "application/javascript": [
       "\n",
       "            setTimeout(function() {\n",
       "                var nbb_cell_id = 18;\n",
       "                var nbb_unformatted_code = \"suppress_warnings()\\nsupress_other_stuff()\";\n",
       "                var nbb_formatted_code = \"suppress_warnings()\\nsupress_other_stuff()\";\n",
       "                var nbb_cells = Jupyter.notebook.get_cells();\n",
       "                for (var i = 0; i < nbb_cells.length; ++i) {\n",
       "                    if (nbb_cells[i].input_prompt_number == nbb_cell_id) {\n",
       "                        if (nbb_cells[i].get_text() == nbb_unformatted_code) {\n",
       "                             nbb_cells[i].set_text(nbb_formatted_code);\n",
       "                        }\n",
       "                        break;\n",
       "                    }\n",
       "                }\n",
       "            }, 500);\n",
       "            "
      ],
      "text/plain": [
       "<IPython.core.display.Javascript object>"
      ]
     },
     "metadata": {},
     "output_type": "display_data"
    }
   ],
   "source": [
    "suppress_warnings()\n",
    "supress_other_stuff()"
   ]
  },
  {
   "cell_type": "code",
   "execution_count": 19,
   "id": "cf0e1d03",
   "metadata": {
    "execution": {
     "iopub.execute_input": "2024-06-24T08:55:07.879779Z",
     "iopub.status.busy": "2024-06-24T08:55:07.879211Z",
     "iopub.status.idle": "2024-06-24T08:55:07.992521Z",
     "shell.execute_reply": "2024-06-24T08:55:07.991286Z"
    },
    "papermill": {
     "duration": 0.143133,
     "end_time": "2024-06-24T08:55:07.996091",
     "exception": false,
     "start_time": "2024-06-24T08:55:07.852958",
     "status": "completed"
    },
    "tags": []
   },
   "outputs": [
    {
     "data": {
      "application/javascript": [
       "\n",
       "            setTimeout(function() {\n",
       "                var nbb_cell_id = 19;\n",
       "                var nbb_unformatted_code = \"index_to_save = 5\";\n",
       "                var nbb_formatted_code = \"index_to_save = 5\";\n",
       "                var nbb_cells = Jupyter.notebook.get_cells();\n",
       "                for (var i = 0; i < nbb_cells.length; ++i) {\n",
       "                    if (nbb_cells[i].input_prompt_number == nbb_cell_id) {\n",
       "                        if (nbb_cells[i].get_text() == nbb_unformatted_code) {\n",
       "                             nbb_cells[i].set_text(nbb_formatted_code);\n",
       "                        }\n",
       "                        break;\n",
       "                    }\n",
       "                }\n",
       "            }, 500);\n",
       "            "
      ],
      "text/plain": [
       "<IPython.core.display.Javascript object>"
      ]
     },
     "metadata": {},
     "output_type": "display_data"
    }
   ],
   "source": [
    "index_to_save = 5"
   ]
  },
  {
   "cell_type": "code",
   "execution_count": 20,
   "id": "b11f9614",
   "metadata": {
    "execution": {
     "iopub.execute_input": "2024-06-24T08:55:08.052276Z",
     "iopub.status.busy": "2024-06-24T08:55:08.051707Z",
     "iopub.status.idle": "2024-06-24T08:55:08.197770Z",
     "shell.execute_reply": "2024-06-24T08:55:08.196521Z"
    },
    "papermill": {
     "duration": 0.175898,
     "end_time": "2024-06-24T08:55:08.201214",
     "exception": false,
     "start_time": "2024-06-24T08:55:08.025316",
     "status": "completed"
    },
    "tags": []
   },
   "outputs": [
    {
     "data": {
      "application/javascript": [
       "\n",
       "            setTimeout(function() {\n",
       "                var nbb_cell_id = 20;\n",
       "                var nbb_unformatted_code = \"METRICS = (\\n    \\\"neg_root_mean_squared_error\\\",\\n    \\\"neg_mean_absolute_error\\\",\\n    \\\"neg_mean_absolute_percentage_error\\\",\\n    \\\"r2\\\",\\n)\\nMETRICS_DICT = {\\n    \\\"neg_root_mean_squared_error\\\": \\\"RMSE\\\",\\n    \\\"neg_mean_absolute_error\\\": \\\"MAE\\\",\\n    \\\"neg_mean_absolute_percentage_error\\\": \\\"MAPE\\\",\\n    \\\"r2\\\": \\\"R2\\\",\\n}\\nDATE = \\\"Date\\\"\\nCEMENT_TYPES = [\\\"Cement_Type_CP II-E-32 D-G\\\"]\";\n",
       "                var nbb_formatted_code = \"METRICS = (\\n    \\\"neg_root_mean_squared_error\\\",\\n    \\\"neg_mean_absolute_error\\\",\\n    \\\"neg_mean_absolute_percentage_error\\\",\\n    \\\"r2\\\",\\n)\\nMETRICS_DICT = {\\n    \\\"neg_root_mean_squared_error\\\": \\\"RMSE\\\",\\n    \\\"neg_mean_absolute_error\\\": \\\"MAE\\\",\\n    \\\"neg_mean_absolute_percentage_error\\\": \\\"MAPE\\\",\\n    \\\"r2\\\": \\\"R2\\\",\\n}\\nDATE = \\\"Date\\\"\\nCEMENT_TYPES = [\\\"Cement_Type_CP II-E-32 D-G\\\"]\";\n",
       "                var nbb_cells = Jupyter.notebook.get_cells();\n",
       "                for (var i = 0; i < nbb_cells.length; ++i) {\n",
       "                    if (nbb_cells[i].input_prompt_number == nbb_cell_id) {\n",
       "                        if (nbb_cells[i].get_text() == nbb_unformatted_code) {\n",
       "                             nbb_cells[i].set_text(nbb_formatted_code);\n",
       "                        }\n",
       "                        break;\n",
       "                    }\n",
       "                }\n",
       "            }, 500);\n",
       "            "
      ],
      "text/plain": [
       "<IPython.core.display.Javascript object>"
      ]
     },
     "metadata": {},
     "output_type": "display_data"
    }
   ],
   "source": [
    "METRICS = (\n",
    "    \"neg_root_mean_squared_error\",\n",
    "    \"neg_mean_absolute_error\",\n",
    "    \"neg_mean_absolute_percentage_error\",\n",
    "    \"r2\",\n",
    ")\n",
    "METRICS_DICT = {\n",
    "    \"neg_root_mean_squared_error\": \"RMSE\",\n",
    "    \"neg_mean_absolute_error\": \"MAE\",\n",
    "    \"neg_mean_absolute_percentage_error\": \"MAPE\",\n",
    "    \"r2\": \"R2\",\n",
    "}\n",
    "DATE = \"Date\"\n",
    "CEMENT_TYPES = [\"Cement_Type_CP II-E-32 D-G\"]"
   ]
  },
  {
   "cell_type": "markdown",
   "id": "23f575bc",
   "metadata": {
    "papermill": {
     "duration": 0.02495,
     "end_time": "2024-06-24T08:55:08.255586",
     "exception": false,
     "start_time": "2024-06-24T08:55:08.230636",
     "status": "completed"
    },
    "tags": []
   },
   "source": [
    "## Defining a dataframe structure to save the results"
   ]
  },
  {
   "cell_type": "code",
   "execution_count": 21,
   "id": "c00eead0",
   "metadata": {
    "execution": {
     "iopub.execute_input": "2024-06-24T08:55:08.304032Z",
     "iopub.status.busy": "2024-06-24T08:55:08.303465Z",
     "iopub.status.idle": "2024-06-24T08:55:08.438975Z",
     "shell.execute_reply": "2024-06-24T08:55:08.437745Z"
    },
    "papermill": {
     "duration": 0.168755,
     "end_time": "2024-06-24T08:55:08.442217",
     "exception": false,
     "start_time": "2024-06-24T08:55:08.273462",
     "status": "completed"
    },
    "tags": []
   },
   "outputs": [
    {
     "data": {
      "application/javascript": [
       "\n",
       "            setTimeout(function() {\n",
       "                var nbb_cell_id = 21;\n",
       "                var nbb_unformatted_code = \"results_to_save = []\\n\\nresults_dict = {\\n    \\\"Category\\\": \\\"Local Model\\\",\\n    \\\"Company\\\": \\\"209\\\",\\n    \\\"Plant\\\": \\\"U\\\",\\n    \\\"Features\\\": \\\"Chemical + CS7\\\",\\n    \\\"Data Shape\\\": None,\\n    \\\"Timesteps\\\": None,\\n    \\\"Model\\\": \\\"LSTM\\\",\\n    \\\"Model Params\\\": None,\\n    \\\"Scaler\\\": \\\"Standard Scaler\\\",\\n    \\\"Scaler Params\\\": None,\\n    \\\"Imputer\\\": \\\"Median\\\",\\n    \\\"Imputer Params\\\": None,\\n    \\\"Cross Validation\\\": None,\\n    \\\"Cross Validation Params\\\": np.nan,\\n    \\\"RMSE Train\\\": np.nan,\\n    \\\"MAE Train\\\": np.nan,\\n    \\\"MAPE Train\\\": np.nan,\\n    \\\"R2 Train\\\": np.nan,\\n    \\\"RMSE Test\\\": np.nan,\\n    \\\"MAE Test\\\": np.nan,\\n    \\\"MAPE Test\\\": np.nan,\\n    \\\"R2 Test\\\": np.nan,\\n}\";\n",
       "                var nbb_formatted_code = \"results_to_save = []\\n\\nresults_dict = {\\n    \\\"Category\\\": \\\"Local Model\\\",\\n    \\\"Company\\\": \\\"209\\\",\\n    \\\"Plant\\\": \\\"U\\\",\\n    \\\"Features\\\": \\\"Chemical + CS7\\\",\\n    \\\"Data Shape\\\": None,\\n    \\\"Timesteps\\\": None,\\n    \\\"Model\\\": \\\"LSTM\\\",\\n    \\\"Model Params\\\": None,\\n    \\\"Scaler\\\": \\\"Standard Scaler\\\",\\n    \\\"Scaler Params\\\": None,\\n    \\\"Imputer\\\": \\\"Median\\\",\\n    \\\"Imputer Params\\\": None,\\n    \\\"Cross Validation\\\": None,\\n    \\\"Cross Validation Params\\\": np.nan,\\n    \\\"RMSE Train\\\": np.nan,\\n    \\\"MAE Train\\\": np.nan,\\n    \\\"MAPE Train\\\": np.nan,\\n    \\\"R2 Train\\\": np.nan,\\n    \\\"RMSE Test\\\": np.nan,\\n    \\\"MAE Test\\\": np.nan,\\n    \\\"MAPE Test\\\": np.nan,\\n    \\\"R2 Test\\\": np.nan,\\n}\";\n",
       "                var nbb_cells = Jupyter.notebook.get_cells();\n",
       "                for (var i = 0; i < nbb_cells.length; ++i) {\n",
       "                    if (nbb_cells[i].input_prompt_number == nbb_cell_id) {\n",
       "                        if (nbb_cells[i].get_text() == nbb_unformatted_code) {\n",
       "                             nbb_cells[i].set_text(nbb_formatted_code);\n",
       "                        }\n",
       "                        break;\n",
       "                    }\n",
       "                }\n",
       "            }, 500);\n",
       "            "
      ],
      "text/plain": [
       "<IPython.core.display.Javascript object>"
      ]
     },
     "metadata": {},
     "output_type": "display_data"
    }
   ],
   "source": [
    "results_to_save = []\n",
    "\n",
    "results_dict = {\n",
    "    \"Category\": \"Local Model\",\n",
    "    \"Company\": \"209\",\n",
    "    \"Plant\": \"U\",\n",
    "    \"Features\": \"Chemical + CS7\",\n",
    "    \"Data Shape\": None,\n",
    "    \"Timesteps\": None,\n",
    "    \"Model\": \"LSTM\",\n",
    "    \"Model Params\": None,\n",
    "    \"Scaler\": \"Standard Scaler\",\n",
    "    \"Scaler Params\": None,\n",
    "    \"Imputer\": \"Median\",\n",
    "    \"Imputer Params\": None,\n",
    "    \"Cross Validation\": None,\n",
    "    \"Cross Validation Params\": np.nan,\n",
    "    \"RMSE Train\": np.nan,\n",
    "    \"MAE Train\": np.nan,\n",
    "    \"MAPE Train\": np.nan,\n",
    "    \"R2 Train\": np.nan,\n",
    "    \"RMSE Test\": np.nan,\n",
    "    \"MAE Test\": np.nan,\n",
    "    \"MAPE Test\": np.nan,\n",
    "    \"R2 Test\": np.nan,\n",
    "}"
   ]
  },
  {
   "cell_type": "markdown",
   "id": "0fd2282d",
   "metadata": {
    "papermill": {
     "duration": 0.023311,
     "end_time": "2024-06-24T08:55:08.490696",
     "exception": false,
     "start_time": "2024-06-24T08:55:08.467385",
     "status": "completed"
    },
    "tags": []
   },
   "source": [
    "# Reading the dataset"
   ]
  },
  {
   "cell_type": "code",
   "execution_count": 22,
   "id": "4be0b41a",
   "metadata": {
    "execution": {
     "iopub.execute_input": "2024-06-24T08:55:08.544091Z",
     "iopub.status.busy": "2024-06-24T08:55:08.542956Z",
     "iopub.status.idle": "2024-06-24T08:55:08.679752Z",
     "shell.execute_reply": "2024-06-24T08:55:08.678439Z"
    },
    "papermill": {
     "duration": 0.167949,
     "end_time": "2024-06-24T08:55:08.682509",
     "exception": false,
     "start_time": "2024-06-24T08:55:08.514560",
     "status": "completed"
    },
    "tags": []
   },
   "outputs": [
    {
     "data": {
      "application/javascript": [
       "\n",
       "            setTimeout(function() {\n",
       "                var nbb_cell_id = 22;\n",
       "                var nbb_unformatted_code = \"df = pd.read_csv(\\\"../../../../../../data/processed/209/u.csv\\\")\";\n",
       "                var nbb_formatted_code = \"df = pd.read_csv(\\\"../../../../../../data/processed/209/u.csv\\\")\";\n",
       "                var nbb_cells = Jupyter.notebook.get_cells();\n",
       "                for (var i = 0; i < nbb_cells.length; ++i) {\n",
       "                    if (nbb_cells[i].input_prompt_number == nbb_cell_id) {\n",
       "                        if (nbb_cells[i].get_text() == nbb_unformatted_code) {\n",
       "                             nbb_cells[i].set_text(nbb_formatted_code);\n",
       "                        }\n",
       "                        break;\n",
       "                    }\n",
       "                }\n",
       "            }, 500);\n",
       "            "
      ],
      "text/plain": [
       "<IPython.core.display.Javascript object>"
      ]
     },
     "metadata": {},
     "output_type": "display_data"
    }
   ],
   "source": [
    "df = pd.read_csv(\"../../../../../../data/processed/209/u.csv\")"
   ]
  },
  {
   "cell_type": "markdown",
   "id": "4b012f04",
   "metadata": {
    "papermill": {
     "duration": 0.036616,
     "end_time": "2024-06-24T08:55:08.785271",
     "exception": false,
     "start_time": "2024-06-24T08:55:08.748655",
     "status": "completed"
    },
    "tags": []
   },
   "source": [
    "## Defining Features\n",
    "\n",
    "In this set of experiments we keep only chemical and mineralogical features yielded by the same testing method/procedure"
   ]
  },
  {
   "cell_type": "code",
   "execution_count": 23,
   "id": "35383944",
   "metadata": {
    "execution": {
     "iopub.execute_input": "2024-06-24T08:55:08.821324Z",
     "iopub.status.busy": "2024-06-24T08:55:08.820459Z",
     "iopub.status.idle": "2024-06-24T08:55:08.846655Z",
     "shell.execute_reply": "2024-06-24T08:55:08.845390Z"
    },
    "papermill": {
     "duration": 0.047029,
     "end_time": "2024-06-24T08:55:08.849097",
     "exception": false,
     "start_time": "2024-06-24T08:55:08.802068",
     "status": "completed"
    },
    "tags": []
   },
   "outputs": [
    {
     "data": {
      "application/javascript": [
       "\n",
       "            setTimeout(function() {\n",
       "                var nbb_cell_id = 23;\n",
       "                var nbb_unformatted_code = \"df_copy = df.copy()\\ndf_copy = pd.get_dummies(data=df_copy, columns=[\\\"Cement_Type\\\"], drop_first=True)\\n\\ndf_copy = df_copy.drop(\\n    [\\n        \\\"Blaine\\\",\\n        \\\"#200\\\",\\n        \\\"#325\\\",\\n        \\\"Initial setting time\\\",\\n        \\\"Final setting time\\\",\\n        \\\"CS3\\\",\\n    ],\\n    axis=1,\\n)\";\n",
       "                var nbb_formatted_code = \"df_copy = df.copy()\\ndf_copy = pd.get_dummies(data=df_copy, columns=[\\\"Cement_Type\\\"], drop_first=True)\\n\\ndf_copy = df_copy.drop(\\n    [\\n        \\\"Blaine\\\",\\n        \\\"#200\\\",\\n        \\\"#325\\\",\\n        \\\"Initial setting time\\\",\\n        \\\"Final setting time\\\",\\n        \\\"CS3\\\",\\n    ],\\n    axis=1,\\n)\";\n",
       "                var nbb_cells = Jupyter.notebook.get_cells();\n",
       "                for (var i = 0; i < nbb_cells.length; ++i) {\n",
       "                    if (nbb_cells[i].input_prompt_number == nbb_cell_id) {\n",
       "                        if (nbb_cells[i].get_text() == nbb_unformatted_code) {\n",
       "                             nbb_cells[i].set_text(nbb_formatted_code);\n",
       "                        }\n",
       "                        break;\n",
       "                    }\n",
       "                }\n",
       "            }, 500);\n",
       "            "
      ],
      "text/plain": [
       "<IPython.core.display.Javascript object>"
      ]
     },
     "metadata": {},
     "output_type": "display_data"
    }
   ],
   "source": [
    "df_copy = df.copy()\n",
    "df_copy = pd.get_dummies(data=df_copy, columns=[\"Cement_Type\"], drop_first=True)\n",
    "\n",
    "df_copy = df_copy.drop(\n",
    "    [\n",
    "        \"Blaine\",\n",
    "        \"#200\",\n",
    "        \"#325\",\n",
    "        \"Initial setting time\",\n",
    "        \"Final setting time\",\n",
    "        \"CS3\",\n",
    "    ],\n",
    "    axis=1,\n",
    ")"
   ]
  },
  {
   "cell_type": "markdown",
   "id": "110fc077",
   "metadata": {
    "papermill": {
     "duration": 0.016719,
     "end_time": "2024-06-24T08:55:08.884085",
     "exception": false,
     "start_time": "2024-06-24T08:55:08.867366",
     "status": "completed"
    },
    "tags": []
   },
   "source": [
    "## Defining Features\n",
    "\n",
    "In this set of experiments we use all available features"
   ]
  },
  {
   "cell_type": "markdown",
   "id": "d077eacd",
   "metadata": {
    "papermill": {
     "duration": 0.022908,
     "end_time": "2024-06-24T08:55:08.937914",
     "exception": false,
     "start_time": "2024-06-24T08:55:08.915006",
     "status": "completed"
    },
    "tags": []
   },
   "source": [
    "<h2>1. Dataset: df_no_cs</h2> <br>In this dataset the CS1, CS3  and CS7 variables are not considered. Only Chemical and mineralogical features measured by the same method. For this particular dataset, all chemical features, with the exception of LOI were measured by XRF and XRD methods."
   ]
  },
  {
   "cell_type": "code",
   "execution_count": 24,
   "id": "7636d280",
   "metadata": {
    "execution": {
     "iopub.execute_input": "2024-06-24T08:55:08.985050Z",
     "iopub.status.busy": "2024-06-24T08:55:08.984469Z",
     "iopub.status.idle": "2024-06-24T08:55:09.045820Z",
     "shell.execute_reply": "2024-06-24T08:55:09.044547Z"
    },
    "papermill": {
     "duration": 0.083935,
     "end_time": "2024-06-24T08:55:09.048611",
     "exception": false,
     "start_time": "2024-06-24T08:55:08.964676",
     "status": "completed"
    },
    "tags": []
   },
   "outputs": [
    {
     "data": {
      "application/javascript": [
       "\n",
       "            setTimeout(function() {\n",
       "                var nbb_cell_id = 24;\n",
       "                var nbb_unformatted_code = \"df_copy[CEMENT_TYPES] = df_copy[CEMENT_TYPES].astype(int)\\ndates = df[\\\"Date\\\"].copy()\\ny = df_copy.pop(\\\"CS28\\\")\\nx = df_copy\\ndf_copy = pd.concat([x, y], axis=1)\";\n",
       "                var nbb_formatted_code = \"df_copy[CEMENT_TYPES] = df_copy[CEMENT_TYPES].astype(int)\\ndates = df[\\\"Date\\\"].copy()\\ny = df_copy.pop(\\\"CS28\\\")\\nx = df_copy\\ndf_copy = pd.concat([x, y], axis=1)\";\n",
       "                var nbb_cells = Jupyter.notebook.get_cells();\n",
       "                for (var i = 0; i < nbb_cells.length; ++i) {\n",
       "                    if (nbb_cells[i].input_prompt_number == nbb_cell_id) {\n",
       "                        if (nbb_cells[i].get_text() == nbb_unformatted_code) {\n",
       "                             nbb_cells[i].set_text(nbb_formatted_code);\n",
       "                        }\n",
       "                        break;\n",
       "                    }\n",
       "                }\n",
       "            }, 500);\n",
       "            "
      ],
      "text/plain": [
       "<IPython.core.display.Javascript object>"
      ]
     },
     "metadata": {},
     "output_type": "display_data"
    }
   ],
   "source": [
    "df_copy[CEMENT_TYPES] = df_copy[CEMENT_TYPES].astype(int)\n",
    "dates = df[\"Date\"].copy()\n",
    "y = df_copy.pop(\"CS28\")\n",
    "x = df_copy\n",
    "df_copy = pd.concat([x, y], axis=1)"
   ]
  },
  {
   "cell_type": "code",
   "execution_count": 25,
   "id": "24b39335",
   "metadata": {
    "execution": {
     "iopub.execute_input": "2024-06-24T08:55:09.096318Z",
     "iopub.status.busy": "2024-06-24T08:55:09.095737Z",
     "iopub.status.idle": "2024-06-24T08:55:09.248042Z",
     "shell.execute_reply": "2024-06-24T08:55:09.246818Z"
    },
    "papermill": {
     "duration": 0.181554,
     "end_time": "2024-06-24T08:55:09.251131",
     "exception": false,
     "start_time": "2024-06-24T08:55:09.069577",
     "status": "completed"
    },
    "tags": []
   },
   "outputs": [
    {
     "data": {
      "application/javascript": [
       "\n",
       "            setTimeout(function() {\n",
       "                var nbb_cell_id = 25;\n",
       "                var nbb_unformatted_code = \"TIMESTEPS_LIST = [1, 7, 14]\";\n",
       "                var nbb_formatted_code = \"TIMESTEPS_LIST = [1, 7, 14]\";\n",
       "                var nbb_cells = Jupyter.notebook.get_cells();\n",
       "                for (var i = 0; i < nbb_cells.length; ++i) {\n",
       "                    if (nbb_cells[i].input_prompt_number == nbb_cell_id) {\n",
       "                        if (nbb_cells[i].get_text() == nbb_unformatted_code) {\n",
       "                             nbb_cells[i].set_text(nbb_formatted_code);\n",
       "                        }\n",
       "                        break;\n",
       "                    }\n",
       "                }\n",
       "            }, 500);\n",
       "            "
      ],
      "text/plain": [
       "<IPython.core.display.Javascript object>"
      ]
     },
     "metadata": {},
     "output_type": "display_data"
    }
   ],
   "source": [
    "TIMESTEPS_LIST = [1, 7, 14]"
   ]
  },
  {
   "cell_type": "markdown",
   "id": "62b81be2",
   "metadata": {
    "papermill": {
     "duration": 0.024727,
     "end_time": "2024-06-24T08:55:09.301554",
     "exception": false,
     "start_time": "2024-06-24T08:55:09.276827",
     "status": "completed"
    },
    "tags": []
   },
   "source": [
    "# 1. Long Short Term Memory - LSTM"
   ]
  },
  {
   "cell_type": "markdown",
   "id": "913c43cb",
   "metadata": {
    "papermill": {
     "duration": 0.018388,
     "end_time": "2024-06-24T08:55:09.339012",
     "exception": false,
     "start_time": "2024-06-24T08:55:09.320624",
     "status": "completed"
    },
    "tags": []
   },
   "source": [
    "## 1.1 Repeated KFold Cross validation\n",
    "\n",
    "<b>Dataset shape:</b> (1234, 38)<br>\n",
    "<b>Timesteps:</b> 1, 3, 5, 7, 10, 15, 20<br>\n",
    "<b>Repeats:</b>10<br>\n",
    "<b>Splits:</b>10<br>\n",
    "    1. 10 folds of 123 samples each\n",
    "    2. 90% train (1111 samples each fold)\n",
    "    3. 10% test (123 samples each fold)\n",
    "<b>Total:</b> 100 models<br>"
   ]
  },
  {
   "cell_type": "code",
   "execution_count": 26,
   "id": "33556d9a",
   "metadata": {
    "execution": {
     "iopub.execute_input": "2024-06-24T08:55:09.388573Z",
     "iopub.status.busy": "2024-06-24T08:55:09.387421Z",
     "iopub.status.idle": "2024-06-24T09:01:58.189561Z",
     "shell.execute_reply": "2024-06-24T09:01:58.188204Z"
    },
    "papermill": {
     "duration": 408.836738,
     "end_time": "2024-06-24T09:01:58.207403",
     "exception": false,
     "start_time": "2024-06-24T08:55:09.370665",
     "status": "completed"
    },
    "scrolled": false,
    "tags": []
   },
   "outputs": [
    {
     "name": "stdout",
     "output_type": "stream",
     "text": [
      "Repeated Cross Validation:\n",
      "Repeats: 3\n",
      "n_splits: 5\n",
      "\n"
     ]
    },
    {
     "name": "stdout",
     "output_type": "stream",
     "text": [
      "TIMESTEPS: 1 \n",
      "******\n",
      "[TRAIN]\n",
      "******\n",
      "RMSE: 1.263 (0.024)\n",
      "MAE: 0.984 (0.018)\n",
      "MAPE: 0.024 (0.000)\n",
      "R2: 0.870 (0.005)\n",
      "\n",
      "======================\n",
      "\n",
      "******\n",
      "[TEST]\n",
      "******\n",
      "RMSE: 1.348 (0.100)\n",
      "MAE: 1.039 (0.065)\n",
      "MAPE: 0.026 (0.002)\n",
      "R2: 0.851 (0.022)\n",
      "\n",
      "======================\n",
      "\n"
     ]
    },
    {
     "name": "stdout",
     "output_type": "stream",
     "text": [
      "TIMESTEPS: 7 \n",
      "******\n",
      "[TRAIN]\n",
      "******\n",
      "RMSE: 1.695 (0.351)\n",
      "MAE: 1.468 (0.353)\n",
      "MAPE: 0.036 (0.008)\n",
      "R2: 0.757 (0.087)\n",
      "\n",
      "======================\n",
      "\n",
      "******\n",
      "[TEST]\n",
      "******\n",
      "RMSE: 1.863 (0.305)\n",
      "MAE: 1.550 (0.285)\n",
      "MAPE: 0.038 (0.007)\n",
      "R2: 0.711 (0.091)\n",
      "\n",
      "======================\n",
      "\n"
     ]
    },
    {
     "name": "stdout",
     "output_type": "stream",
     "text": [
      "TIMESTEPS: 14 \n",
      "******\n",
      "[TRAIN]\n",
      "******\n",
      "RMSE: 0.943 (0.082)\n",
      "MAE: 0.741 (0.074)\n",
      "MAPE: 0.018 (0.002)\n",
      "R2: 0.928 (0.014)\n",
      "\n",
      "======================\n",
      "\n",
      "******\n",
      "[TEST]\n",
      "******\n",
      "RMSE: 1.388 (0.238)\n",
      "MAE: 1.044 (0.090)\n",
      "MAPE: 0.026 (0.002)\n",
      "R2: 0.841 (0.060)\n",
      "\n",
      "======================\n",
      "\n",
      "Minutes Elapsed:  6.812118371327718\n"
     ]
    },
    {
     "data": {
      "application/javascript": [
       "\n",
       "            setTimeout(function() {\n",
       "                var nbb_cell_id = 26;\n",
       "                var nbb_unformatted_code = \"start = time.time()\\n\\nrepeats = 3\\nn_splits = 5\\nTIMESTEPS_LIST = [1, 7, 14]\\nREPEAT = 0\\n\\nprint(\\\"Repeated Cross Validation:\\\")\\nprint(f\\\"Repeats: {repeats}\\\")\\nprint(f\\\"n_splits: {n_splits}\\\")\\nprint()\\n\\nfor timesteps in TIMESTEPS_LIST:\\n    set_seeds()\\n    cv = RepeatedKFold(n_splits=n_splits, n_repeats=repeats, random_state=SEED)\\n    x = df_copy.drop([\\\"Date\\\", \\\"CS28\\\"] + CEMENT_TYPES, axis=1)\\n    y = df_copy[\\\"CS28\\\"]\\n    scores = custom_cross_validate_parallelized(\\n        LSTM,\\n        SimpleImputer,\\n        StandardScaler,\\n        x,\\n        y,\\n        cv,\\n        timesteps=timesteps,\\n        dates=dates,\\n        cement_types=df_copy[CEMENT_TYPES],\\n        estimator_params=None,\\n        imputer_params={\\\"strategy\\\": \\\"median\\\"},\\n        split_by_cement_type=True,\\n    )\\n    scores = scores[0]\\n    print(\\\"TIMESTEPS: %d \\\" % timesteps)\\n    print_scores(scores, METRICS, METRICS_DICT)\\n\\n    results_dict_copy = results_dict.copy()\\n    results_dict_copy[\\\"Timesteps\\\"] = timesteps\\n    results_dict_copy[\\\"Cross Validation\\\"] = \\\"Repeated KFold\\\"\\n    results_dict_copy[\\\"Cross Validation Params\\\"] = '{\\\"N_Splits\\\": 5, \\\"Repeats\\\": 3}'\\n    results_dict_copy[\\\"Data Shape\\\"] = x.shape\\n    df_results = fill_results_dict(results_dict_copy, scores)\\n    results_to_save.append(df_results)\\n\\nend = time.time()\\nprint(\\\"Minutes Elapsed: \\\", (end - start) / 60)\";\n",
       "                var nbb_formatted_code = \"start = time.time()\\n\\nrepeats = 3\\nn_splits = 5\\nTIMESTEPS_LIST = [1, 7, 14]\\nREPEAT = 0\\n\\nprint(\\\"Repeated Cross Validation:\\\")\\nprint(f\\\"Repeats: {repeats}\\\")\\nprint(f\\\"n_splits: {n_splits}\\\")\\nprint()\\n\\nfor timesteps in TIMESTEPS_LIST:\\n    set_seeds()\\n    cv = RepeatedKFold(n_splits=n_splits, n_repeats=repeats, random_state=SEED)\\n    x = df_copy.drop([\\\"Date\\\", \\\"CS28\\\"] + CEMENT_TYPES, axis=1)\\n    y = df_copy[\\\"CS28\\\"]\\n    scores = custom_cross_validate_parallelized(\\n        LSTM,\\n        SimpleImputer,\\n        StandardScaler,\\n        x,\\n        y,\\n        cv,\\n        timesteps=timesteps,\\n        dates=dates,\\n        cement_types=df_copy[CEMENT_TYPES],\\n        estimator_params=None,\\n        imputer_params={\\\"strategy\\\": \\\"median\\\"},\\n        split_by_cement_type=True,\\n    )\\n    scores = scores[0]\\n    print(\\\"TIMESTEPS: %d \\\" % timesteps)\\n    print_scores(scores, METRICS, METRICS_DICT)\\n\\n    results_dict_copy = results_dict.copy()\\n    results_dict_copy[\\\"Timesteps\\\"] = timesteps\\n    results_dict_copy[\\\"Cross Validation\\\"] = \\\"Repeated KFold\\\"\\n    results_dict_copy[\\\"Cross Validation Params\\\"] = '{\\\"N_Splits\\\": 5, \\\"Repeats\\\": 3}'\\n    results_dict_copy[\\\"Data Shape\\\"] = x.shape\\n    df_results = fill_results_dict(results_dict_copy, scores)\\n    results_to_save.append(df_results)\\n\\nend = time.time()\\nprint(\\\"Minutes Elapsed: \\\", (end - start) / 60)\";\n",
       "                var nbb_cells = Jupyter.notebook.get_cells();\n",
       "                for (var i = 0; i < nbb_cells.length; ++i) {\n",
       "                    if (nbb_cells[i].input_prompt_number == nbb_cell_id) {\n",
       "                        if (nbb_cells[i].get_text() == nbb_unformatted_code) {\n",
       "                             nbb_cells[i].set_text(nbb_formatted_code);\n",
       "                        }\n",
       "                        break;\n",
       "                    }\n",
       "                }\n",
       "            }, 500);\n",
       "            "
      ],
      "text/plain": [
       "<IPython.core.display.Javascript object>"
      ]
     },
     "metadata": {},
     "output_type": "display_data"
    }
   ],
   "source": [
    "start = time.time()\n",
    "\n",
    "repeats = 3\n",
    "n_splits = 5\n",
    "TIMESTEPS_LIST = [1, 7, 14]\n",
    "REPEAT = 0\n",
    "\n",
    "print(\"Repeated Cross Validation:\")\n",
    "print(f\"Repeats: {repeats}\")\n",
    "print(f\"n_splits: {n_splits}\")\n",
    "print()\n",
    "\n",
    "for timesteps in TIMESTEPS_LIST:\n",
    "    set_seeds()\n",
    "    cv = RepeatedKFold(n_splits=n_splits, n_repeats=repeats, random_state=SEED)\n",
    "    x = df_copy.drop([\"Date\", \"CS28\"] + CEMENT_TYPES, axis=1)\n",
    "    y = df_copy[\"CS28\"]\n",
    "    scores = custom_cross_validate_parallelized(\n",
    "        LSTM,\n",
    "        SimpleImputer,\n",
    "        StandardScaler,\n",
    "        x,\n",
    "        y,\n",
    "        cv,\n",
    "        timesteps=timesteps,\n",
    "        dates=dates,\n",
    "        cement_types=df_copy[CEMENT_TYPES],\n",
    "        estimator_params=None,\n",
    "        imputer_params={\"strategy\": \"median\"},\n",
    "        split_by_cement_type=True,\n",
    "    )\n",
    "    scores = scores[0]\n",
    "    print(\"TIMESTEPS: %d \" % timesteps)\n",
    "    print_scores(scores, METRICS, METRICS_DICT)\n",
    "\n",
    "    results_dict_copy = results_dict.copy()\n",
    "    results_dict_copy[\"Timesteps\"] = timesteps\n",
    "    results_dict_copy[\"Cross Validation\"] = \"Repeated KFold\"\n",
    "    results_dict_copy[\"Cross Validation Params\"] = '{\"N_Splits\": 5, \"Repeats\": 3}'\n",
    "    results_dict_copy[\"Data Shape\"] = x.shape\n",
    "    df_results = fill_results_dict(results_dict_copy, scores)\n",
    "    results_to_save.append(df_results)\n",
    "\n",
    "end = time.time()\n",
    "print(\"Minutes Elapsed: \", (end - start) / 60)"
   ]
  },
  {
   "cell_type": "code",
   "execution_count": 27,
   "id": "15a37020",
   "metadata": {
    "execution": {
     "iopub.execute_input": "2024-06-24T09:01:58.243366Z",
     "iopub.status.busy": "2024-06-24T09:01:58.242750Z",
     "iopub.status.idle": "2024-06-24T09:01:58.322538Z",
     "shell.execute_reply": "2024-06-24T09:01:58.321563Z"
    },
    "papermill": {
     "duration": 0.101058,
     "end_time": "2024-06-24T09:01:58.324986",
     "exception": false,
     "start_time": "2024-06-24T09:01:58.223928",
     "status": "completed"
    },
    "tags": []
   },
   "outputs": [
    {
     "data": {
      "text/html": [
       "<div>\n",
       "<style scoped>\n",
       "    .dataframe tbody tr th:only-of-type {\n",
       "        vertical-align: middle;\n",
       "    }\n",
       "\n",
       "    .dataframe tbody tr th {\n",
       "        vertical-align: top;\n",
       "    }\n",
       "\n",
       "    .dataframe thead tr th {\n",
       "        text-align: left;\n",
       "    }\n",
       "</style>\n",
       "<table border=\"1\" class=\"dataframe\">\n",
       "  <thead>\n",
       "    <tr>\n",
       "      <th></th>\n",
       "      <th>Features</th>\n",
       "      <th>Model</th>\n",
       "      <th>Cross Validation</th>\n",
       "      <th>Timesteps</th>\n",
       "      <th colspan=\"2\" halign=\"left\">RMSE Test</th>\n",
       "      <th colspan=\"2\" halign=\"left\">MAE Test</th>\n",
       "      <th colspan=\"2\" halign=\"left\">MAPE Test</th>\n",
       "      <th colspan=\"2\" halign=\"left\">R2 Test</th>\n",
       "    </tr>\n",
       "    <tr>\n",
       "      <th></th>\n",
       "      <th></th>\n",
       "      <th></th>\n",
       "      <th></th>\n",
       "      <th></th>\n",
       "      <th>mean</th>\n",
       "      <th>std</th>\n",
       "      <th>mean</th>\n",
       "      <th>std</th>\n",
       "      <th>mean</th>\n",
       "      <th>std</th>\n",
       "      <th>mean</th>\n",
       "      <th>std</th>\n",
       "    </tr>\n",
       "  </thead>\n",
       "  <tbody>\n",
       "    <tr>\n",
       "      <th>0</th>\n",
       "      <td>Chemical + CS7</td>\n",
       "      <td>LSTM</td>\n",
       "      <td>Repeated KFold</td>\n",
       "      <td>1</td>\n",
       "      <td>1.347610</td>\n",
       "      <td>0.100299</td>\n",
       "      <td>1.038580</td>\n",
       "      <td>0.065057</td>\n",
       "      <td>0.025590</td>\n",
       "      <td>0.001537</td>\n",
       "      <td>0.850844</td>\n",
       "      <td>0.022467</td>\n",
       "    </tr>\n",
       "    <tr>\n",
       "      <th>1</th>\n",
       "      <td>Chemical + CS7</td>\n",
       "      <td>LSTM</td>\n",
       "      <td>Repeated KFold</td>\n",
       "      <td>7</td>\n",
       "      <td>1.862693</td>\n",
       "      <td>0.304944</td>\n",
       "      <td>1.550294</td>\n",
       "      <td>0.285381</td>\n",
       "      <td>0.037587</td>\n",
       "      <td>0.006816</td>\n",
       "      <td>0.711242</td>\n",
       "      <td>0.091002</td>\n",
       "    </tr>\n",
       "    <tr>\n",
       "      <th>2</th>\n",
       "      <td>Chemical + CS7</td>\n",
       "      <td>LSTM</td>\n",
       "      <td>Repeated KFold</td>\n",
       "      <td>14</td>\n",
       "      <td>1.388073</td>\n",
       "      <td>0.238320</td>\n",
       "      <td>1.044489</td>\n",
       "      <td>0.090244</td>\n",
       "      <td>0.025786</td>\n",
       "      <td>0.002301</td>\n",
       "      <td>0.841173</td>\n",
       "      <td>0.060110</td>\n",
       "    </tr>\n",
       "  </tbody>\n",
       "</table>\n",
       "</div>"
      ],
      "text/plain": [
       "         Features Model Cross Validation Timesteps RMSE Test            \\\n",
       "                                                        mean       std   \n",
       "0  Chemical + CS7  LSTM   Repeated KFold         1  1.347610  0.100299   \n",
       "1  Chemical + CS7  LSTM   Repeated KFold         7  1.862693  0.304944   \n",
       "2  Chemical + CS7  LSTM   Repeated KFold        14  1.388073  0.238320   \n",
       "\n",
       "   MAE Test           MAPE Test             R2 Test            \n",
       "       mean       std      mean       std      mean       std  \n",
       "0  1.038580  0.065057  0.025590  0.001537  0.850844  0.022467  \n",
       "1  1.550294  0.285381  0.037587  0.006816  0.711242  0.091002  \n",
       "2  1.044489  0.090244  0.025786  0.002301  0.841173  0.060110  "
      ]
     },
     "execution_count": 27,
     "metadata": {},
     "output_type": "execute_result"
    },
    {
     "data": {
      "application/javascript": [
       "\n",
       "            setTimeout(function() {\n",
       "                var nbb_cell_id = 27;\n",
       "                var nbb_unformatted_code = \"pd.concat(results_to_save).reset_index().groupby(\\n    [\\\"Features\\\", \\\"Model\\\", \\\"Cross Validation\\\", \\\"Timesteps\\\"], dropna=False\\n)[[\\\"RMSE Test\\\", \\\"MAE Test\\\", \\\"MAPE Test\\\", \\\"R2 Test\\\"]].agg(\\n    [\\\"mean\\\", lambda series: pd.Series(series.std(ddof=0), name=\\\"std\\\")]\\n).reset_index().rename(\\n    columns={\\\"<lambda_0>\\\": \\\"std\\\"}\\n)\";\n",
       "                var nbb_formatted_code = \"pd.concat(results_to_save).reset_index().groupby(\\n    [\\\"Features\\\", \\\"Model\\\", \\\"Cross Validation\\\", \\\"Timesteps\\\"], dropna=False\\n)[[\\\"RMSE Test\\\", \\\"MAE Test\\\", \\\"MAPE Test\\\", \\\"R2 Test\\\"]].agg(\\n    [\\\"mean\\\", lambda series: pd.Series(series.std(ddof=0), name=\\\"std\\\")]\\n).reset_index().rename(\\n    columns={\\\"<lambda_0>\\\": \\\"std\\\"}\\n)\";\n",
       "                var nbb_cells = Jupyter.notebook.get_cells();\n",
       "                for (var i = 0; i < nbb_cells.length; ++i) {\n",
       "                    if (nbb_cells[i].input_prompt_number == nbb_cell_id) {\n",
       "                        if (nbb_cells[i].get_text() == nbb_unformatted_code) {\n",
       "                             nbb_cells[i].set_text(nbb_formatted_code);\n",
       "                        }\n",
       "                        break;\n",
       "                    }\n",
       "                }\n",
       "            }, 500);\n",
       "            "
      ],
      "text/plain": [
       "<IPython.core.display.Javascript object>"
      ]
     },
     "metadata": {},
     "output_type": "display_data"
    }
   ],
   "source": [
    "pd.concat(results_to_save).reset_index().groupby(\n",
    "    [\"Features\", \"Model\", \"Cross Validation\", \"Timesteps\"], dropna=False\n",
    ")[[\"RMSE Test\", \"MAE Test\", \"MAPE Test\", \"R2 Test\"]].agg(\n",
    "    [\"mean\", lambda series: pd.Series(series.std(ddof=0), name=\"std\")]\n",
    ").reset_index().rename(\n",
    "    columns={\"<lambda_0>\": \"std\"}\n",
    ")"
   ]
  },
  {
   "cell_type": "markdown",
   "id": "4d0dc181",
   "metadata": {
    "papermill": {
     "duration": 0.026603,
     "end_time": "2024-06-24T09:01:58.375867",
     "exception": false,
     "start_time": "2024-06-24T09:01:58.349264",
     "status": "completed"
    },
    "tags": []
   },
   "source": [
    "## 1.2. Blocking Time Series Cross Validation\n",
    "\n",
    "<b>Dataset shape:</b> (1234, 38)<br>\n",
    "<b>Splits:</b>5<br>    \n",
    "    1. 5 folds of 246 samples\n",
    "    2. 50% train (123 samples each fold)\n",
    "    3. 50% test (123 samples each fold)\n",
    "<b>Total:</b> 5 models<br>"
   ]
  },
  {
   "cell_type": "code",
   "execution_count": 28,
   "id": "ef6e5f2b",
   "metadata": {
    "execution": {
     "iopub.execute_input": "2024-06-24T09:01:58.413977Z",
     "iopub.status.busy": "2024-06-24T09:01:58.413458Z",
     "iopub.status.idle": "2024-06-24T09:04:36.333771Z",
     "shell.execute_reply": "2024-06-24T09:04:36.332340Z"
    },
    "papermill": {
     "duration": 157.959441,
     "end_time": "2024-06-24T09:04:36.353491",
     "exception": false,
     "start_time": "2024-06-24T09:01:58.394050",
     "status": "completed"
    },
    "tags": []
   },
   "outputs": [
    {
     "name": "stdout",
     "output_type": "stream",
     "text": [
      "Blocking Time Series Split:\n",
      "Repeats: 3\n",
      "n_splits: 5\n",
      "\n"
     ]
    },
    {
     "name": "stdout",
     "output_type": "stream",
     "text": [
      "TIMESTEPS: 1 \n",
      "******\n",
      "[TRAIN]\n",
      "******\n",
      "RMSE: 4.115 (0.489)\n",
      "MAE: 3.175 (0.399)\n",
      "MAPE: 0.078 (0.010)\n",
      "R2: -0.473 (0.406)\n",
      "\n",
      "======================\n",
      "\n",
      "******\n",
      "[TEST]\n",
      "******\n",
      "RMSE: 7.133 (2.179)\n",
      "MAE: 5.682 (1.780)\n",
      "MAPE: 0.141 (0.045)\n",
      "R2: -3.512 (2.760)\n",
      "\n",
      "======================\n",
      "\n"
     ]
    },
    {
     "name": "stdout",
     "output_type": "stream",
     "text": [
      "TIMESTEPS: 7 \n",
      "******\n",
      "[TRAIN]\n",
      "******\n",
      "RMSE: 1.424 (0.216)\n",
      "MAE: 1.130 (0.170)\n",
      "MAPE: 0.028 (0.004)\n",
      "R2: 0.824 (0.055)\n",
      "\n",
      "======================\n",
      "\n",
      "******\n",
      "[TEST]\n",
      "******\n",
      "RMSE: 6.157 (1.323)\n",
      "MAE: 5.009 (1.073)\n",
      "MAPE: 0.124 (0.029)\n",
      "R2: -2.177 (1.555)\n",
      "\n",
      "======================\n",
      "\n"
     ]
    },
    {
     "name": "stdout",
     "output_type": "stream",
     "text": [
      "TIMESTEPS: 14 \n",
      "******\n",
      "[TRAIN]\n",
      "******\n",
      "RMSE: 1.542 (0.302)\n",
      "MAE: 1.273 (0.284)\n",
      "MAPE: 0.031 (0.007)\n",
      "R2: 0.790 (0.092)\n",
      "\n",
      "======================\n",
      "\n",
      "******\n",
      "[TEST]\n",
      "******\n",
      "RMSE: 8.320 (4.660)\n",
      "MAE: 6.747 (4.056)\n",
      "MAPE: 0.166 (0.102)\n",
      "R2: -7.384 (8.641)\n",
      "\n",
      "======================\n",
      "\n",
      "Minutes Elapsed:  2.631406545639038\n"
     ]
    },
    {
     "data": {
      "application/javascript": [
       "\n",
       "            setTimeout(function() {\n",
       "                var nbb_cell_id = 28;\n",
       "                var nbb_unformatted_code = \"start = time.time()\\n\\nrepeats = 3\\nn_splits = 5\\ntrain_size = 0.8\\nTIMESTEPS_LIST = [1, 7, 14]\\nREPEAT = 0\\n\\nprint(\\\"Blocking Time Series Split:\\\")\\nprint(f\\\"Repeats: {repeats}\\\")\\nprint(f\\\"n_splits: {n_splits}\\\")\\nprint()\\n\\nfor timesteps in TIMESTEPS_LIST:\\n    set_seeds()\\n    scores_final = None\\n\\n    for repeat in range(repeats):\\n        REPEAT = repeat\\n        x = df_copy.drop([\\\"Date\\\", \\\"CS28\\\"] + CEMENT_TYPES, axis=1)\\n        y = df_copy[\\\"CS28\\\"]\\n\\n        cv = BlockingTimeSeriesSplit(n_splits=n_splits, train_size=train_size)\\n\\n        scores = custom_cross_validate_parallelized(\\n            LSTM,\\n            SimpleImputer,\\n            StandardScaler,\\n            x,\\n            y,\\n            cv,\\n            timesteps,\\n            dates=dates,\\n            cement_types=df_copy[CEMENT_TYPES],\\n            estimator_params=None,\\n            imputer_params={\\\"strategy\\\": \\\"median\\\"},\\n            split_by_cement_type=True,\\n        )\\n        scores = scores[0]\\n        if scores_final is None:\\n            scores_final = {key: [] for key, _ in scores.items()}\\n\\n        for key, value in scores.items():\\n            scores_final[key] += [value]\\n\\n    print(\\\"TIMESTEPS: %d \\\" % timesteps)\\n    print_scores(scores_final, METRICS, METRICS_DICT)\\n\\n    # Saving the results\\n    scores = {key: np.array(val).flatten() for key, val in scores_final.items()}\\n    results_dict_copy = results_dict.copy()\\n    results_dict_copy[\\\"Timesteps\\\"] = timesteps\\n    results_dict_copy[\\\"Cross Validation\\\"] = \\\"Blocking Time Series Split\\\"\\n    results_dict_copy[\\n        \\\"Cross Validation Params\\\"\\n    ] = '{\\\"N_Splits\\\": 5, \\\"Repeats\\\": 3, \\\"train_size\\\": 0.8}'\\n    results_dict_copy[\\\"Data Shape\\\"] = x.shape\\n    df_results = fill_results_dict(results_dict_copy, scores)\\n    results_to_save.append(df_results)\\n\\nend = time.time()\\nprint(\\\"Minutes Elapsed: \\\", (end - start) / 60)\";\n",
       "                var nbb_formatted_code = \"start = time.time()\\n\\nrepeats = 3\\nn_splits = 5\\ntrain_size = 0.8\\nTIMESTEPS_LIST = [1, 7, 14]\\nREPEAT = 0\\n\\nprint(\\\"Blocking Time Series Split:\\\")\\nprint(f\\\"Repeats: {repeats}\\\")\\nprint(f\\\"n_splits: {n_splits}\\\")\\nprint()\\n\\nfor timesteps in TIMESTEPS_LIST:\\n    set_seeds()\\n    scores_final = None\\n\\n    for repeat in range(repeats):\\n        REPEAT = repeat\\n        x = df_copy.drop([\\\"Date\\\", \\\"CS28\\\"] + CEMENT_TYPES, axis=1)\\n        y = df_copy[\\\"CS28\\\"]\\n\\n        cv = BlockingTimeSeriesSplit(n_splits=n_splits, train_size=train_size)\\n\\n        scores = custom_cross_validate_parallelized(\\n            LSTM,\\n            SimpleImputer,\\n            StandardScaler,\\n            x,\\n            y,\\n            cv,\\n            timesteps,\\n            dates=dates,\\n            cement_types=df_copy[CEMENT_TYPES],\\n            estimator_params=None,\\n            imputer_params={\\\"strategy\\\": \\\"median\\\"},\\n            split_by_cement_type=True,\\n        )\\n        scores = scores[0]\\n        if scores_final is None:\\n            scores_final = {key: [] for key, _ in scores.items()}\\n\\n        for key, value in scores.items():\\n            scores_final[key] += [value]\\n\\n    print(\\\"TIMESTEPS: %d \\\" % timesteps)\\n    print_scores(scores_final, METRICS, METRICS_DICT)\\n\\n    # Saving the results\\n    scores = {key: np.array(val).flatten() for key, val in scores_final.items()}\\n    results_dict_copy = results_dict.copy()\\n    results_dict_copy[\\\"Timesteps\\\"] = timesteps\\n    results_dict_copy[\\\"Cross Validation\\\"] = \\\"Blocking Time Series Split\\\"\\n    results_dict_copy[\\n        \\\"Cross Validation Params\\\"\\n    ] = '{\\\"N_Splits\\\": 5, \\\"Repeats\\\": 3, \\\"train_size\\\": 0.8}'\\n    results_dict_copy[\\\"Data Shape\\\"] = x.shape\\n    df_results = fill_results_dict(results_dict_copy, scores)\\n    results_to_save.append(df_results)\\n\\nend = time.time()\\nprint(\\\"Minutes Elapsed: \\\", (end - start) / 60)\";\n",
       "                var nbb_cells = Jupyter.notebook.get_cells();\n",
       "                for (var i = 0; i < nbb_cells.length; ++i) {\n",
       "                    if (nbb_cells[i].input_prompt_number == nbb_cell_id) {\n",
       "                        if (nbb_cells[i].get_text() == nbb_unformatted_code) {\n",
       "                             nbb_cells[i].set_text(nbb_formatted_code);\n",
       "                        }\n",
       "                        break;\n",
       "                    }\n",
       "                }\n",
       "            }, 500);\n",
       "            "
      ],
      "text/plain": [
       "<IPython.core.display.Javascript object>"
      ]
     },
     "metadata": {},
     "output_type": "display_data"
    }
   ],
   "source": [
    "start = time.time()\n",
    "\n",
    "repeats = 3\n",
    "n_splits = 5\n",
    "train_size = 0.8\n",
    "TIMESTEPS_LIST = [1, 7, 14]\n",
    "REPEAT = 0\n",
    "\n",
    "print(\"Blocking Time Series Split:\")\n",
    "print(f\"Repeats: {repeats}\")\n",
    "print(f\"n_splits: {n_splits}\")\n",
    "print()\n",
    "\n",
    "for timesteps in TIMESTEPS_LIST:\n",
    "    set_seeds()\n",
    "    scores_final = None\n",
    "\n",
    "    for repeat in range(repeats):\n",
    "        REPEAT = repeat\n",
    "        x = df_copy.drop([\"Date\", \"CS28\"] + CEMENT_TYPES, axis=1)\n",
    "        y = df_copy[\"CS28\"]\n",
    "\n",
    "        cv = BlockingTimeSeriesSplit(n_splits=n_splits, train_size=train_size)\n",
    "\n",
    "        scores = custom_cross_validate_parallelized(\n",
    "            LSTM,\n",
    "            SimpleImputer,\n",
    "            StandardScaler,\n",
    "            x,\n",
    "            y,\n",
    "            cv,\n",
    "            timesteps,\n",
    "            dates=dates,\n",
    "            cement_types=df_copy[CEMENT_TYPES],\n",
    "            estimator_params=None,\n",
    "            imputer_params={\"strategy\": \"median\"},\n",
    "            split_by_cement_type=True,\n",
    "        )\n",
    "        scores = scores[0]\n",
    "        if scores_final is None:\n",
    "            scores_final = {key: [] for key, _ in scores.items()}\n",
    "\n",
    "        for key, value in scores.items():\n",
    "            scores_final[key] += [value]\n",
    "\n",
    "    print(\"TIMESTEPS: %d \" % timesteps)\n",
    "    print_scores(scores_final, METRICS, METRICS_DICT)\n",
    "\n",
    "    # Saving the results\n",
    "    scores = {key: np.array(val).flatten() for key, val in scores_final.items()}\n",
    "    results_dict_copy = results_dict.copy()\n",
    "    results_dict_copy[\"Timesteps\"] = timesteps\n",
    "    results_dict_copy[\"Cross Validation\"] = \"Blocking Time Series Split\"\n",
    "    results_dict_copy[\n",
    "        \"Cross Validation Params\"\n",
    "    ] = '{\"N_Splits\": 5, \"Repeats\": 3, \"train_size\": 0.8}'\n",
    "    results_dict_copy[\"Data Shape\"] = x.shape\n",
    "    df_results = fill_results_dict(results_dict_copy, scores)\n",
    "    results_to_save.append(df_results)\n",
    "\n",
    "end = time.time()\n",
    "print(\"Minutes Elapsed: \", (end - start) / 60)"
   ]
  },
  {
   "cell_type": "code",
   "execution_count": 29,
   "id": "ea533d25",
   "metadata": {
    "execution": {
     "iopub.execute_input": "2024-06-24T09:04:36.395235Z",
     "iopub.status.busy": "2024-06-24T09:04:36.394651Z",
     "iopub.status.idle": "2024-06-24T09:04:36.473889Z",
     "shell.execute_reply": "2024-06-24T09:04:36.472821Z"
    },
    "papermill": {
     "duration": 0.102405,
     "end_time": "2024-06-24T09:04:36.476355",
     "exception": false,
     "start_time": "2024-06-24T09:04:36.373950",
     "status": "completed"
    },
    "tags": []
   },
   "outputs": [
    {
     "data": {
      "text/html": [
       "<div>\n",
       "<style scoped>\n",
       "    .dataframe tbody tr th:only-of-type {\n",
       "        vertical-align: middle;\n",
       "    }\n",
       "\n",
       "    .dataframe tbody tr th {\n",
       "        vertical-align: top;\n",
       "    }\n",
       "\n",
       "    .dataframe thead tr th {\n",
       "        text-align: left;\n",
       "    }\n",
       "</style>\n",
       "<table border=\"1\" class=\"dataframe\">\n",
       "  <thead>\n",
       "    <tr>\n",
       "      <th></th>\n",
       "      <th>Features</th>\n",
       "      <th>Model</th>\n",
       "      <th>Cross Validation</th>\n",
       "      <th>Timesteps</th>\n",
       "      <th colspan=\"2\" halign=\"left\">RMSE Test</th>\n",
       "      <th colspan=\"2\" halign=\"left\">MAE Test</th>\n",
       "      <th colspan=\"2\" halign=\"left\">MAPE Test</th>\n",
       "      <th colspan=\"2\" halign=\"left\">R2 Test</th>\n",
       "    </tr>\n",
       "    <tr>\n",
       "      <th></th>\n",
       "      <th></th>\n",
       "      <th></th>\n",
       "      <th></th>\n",
       "      <th></th>\n",
       "      <th>mean</th>\n",
       "      <th>std</th>\n",
       "      <th>mean</th>\n",
       "      <th>std</th>\n",
       "      <th>mean</th>\n",
       "      <th>std</th>\n",
       "      <th>mean</th>\n",
       "      <th>std</th>\n",
       "    </tr>\n",
       "  </thead>\n",
       "  <tbody>\n",
       "    <tr>\n",
       "      <th>0</th>\n",
       "      <td>Chemical + CS7</td>\n",
       "      <td>LSTM</td>\n",
       "      <td>Blocking Time Series Split</td>\n",
       "      <td>1</td>\n",
       "      <td>7.133453</td>\n",
       "      <td>2.179458</td>\n",
       "      <td>5.681535</td>\n",
       "      <td>1.780065</td>\n",
       "      <td>0.140620</td>\n",
       "      <td>0.044740</td>\n",
       "      <td>-3.511618</td>\n",
       "      <td>2.760069</td>\n",
       "    </tr>\n",
       "    <tr>\n",
       "      <th>1</th>\n",
       "      <td>Chemical + CS7</td>\n",
       "      <td>LSTM</td>\n",
       "      <td>Blocking Time Series Split</td>\n",
       "      <td>7</td>\n",
       "      <td>6.156727</td>\n",
       "      <td>1.322723</td>\n",
       "      <td>5.009242</td>\n",
       "      <td>1.072933</td>\n",
       "      <td>0.123939</td>\n",
       "      <td>0.028595</td>\n",
       "      <td>-2.177237</td>\n",
       "      <td>1.554502</td>\n",
       "    </tr>\n",
       "    <tr>\n",
       "      <th>2</th>\n",
       "      <td>Chemical + CS7</td>\n",
       "      <td>LSTM</td>\n",
       "      <td>Blocking Time Series Split</td>\n",
       "      <td>14</td>\n",
       "      <td>8.319834</td>\n",
       "      <td>4.660270</td>\n",
       "      <td>6.747486</td>\n",
       "      <td>4.056084</td>\n",
       "      <td>0.165764</td>\n",
       "      <td>0.101758</td>\n",
       "      <td>-7.383635</td>\n",
       "      <td>8.641203</td>\n",
       "    </tr>\n",
       "    <tr>\n",
       "      <th>3</th>\n",
       "      <td>Chemical + CS7</td>\n",
       "      <td>LSTM</td>\n",
       "      <td>Repeated KFold</td>\n",
       "      <td>1</td>\n",
       "      <td>1.347610</td>\n",
       "      <td>0.100299</td>\n",
       "      <td>1.038580</td>\n",
       "      <td>0.065057</td>\n",
       "      <td>0.025590</td>\n",
       "      <td>0.001537</td>\n",
       "      <td>0.850844</td>\n",
       "      <td>0.022467</td>\n",
       "    </tr>\n",
       "    <tr>\n",
       "      <th>4</th>\n",
       "      <td>Chemical + CS7</td>\n",
       "      <td>LSTM</td>\n",
       "      <td>Repeated KFold</td>\n",
       "      <td>7</td>\n",
       "      <td>1.862693</td>\n",
       "      <td>0.304944</td>\n",
       "      <td>1.550294</td>\n",
       "      <td>0.285381</td>\n",
       "      <td>0.037587</td>\n",
       "      <td>0.006816</td>\n",
       "      <td>0.711242</td>\n",
       "      <td>0.091002</td>\n",
       "    </tr>\n",
       "    <tr>\n",
       "      <th>5</th>\n",
       "      <td>Chemical + CS7</td>\n",
       "      <td>LSTM</td>\n",
       "      <td>Repeated KFold</td>\n",
       "      <td>14</td>\n",
       "      <td>1.388073</td>\n",
       "      <td>0.238320</td>\n",
       "      <td>1.044489</td>\n",
       "      <td>0.090244</td>\n",
       "      <td>0.025786</td>\n",
       "      <td>0.002301</td>\n",
       "      <td>0.841173</td>\n",
       "      <td>0.060110</td>\n",
       "    </tr>\n",
       "  </tbody>\n",
       "</table>\n",
       "</div>"
      ],
      "text/plain": [
       "         Features Model            Cross Validation Timesteps RMSE Test  \\\n",
       "                                                                   mean   \n",
       "0  Chemical + CS7  LSTM  Blocking Time Series Split         1  7.133453   \n",
       "1  Chemical + CS7  LSTM  Blocking Time Series Split         7  6.156727   \n",
       "2  Chemical + CS7  LSTM  Blocking Time Series Split        14  8.319834   \n",
       "3  Chemical + CS7  LSTM              Repeated KFold         1  1.347610   \n",
       "4  Chemical + CS7  LSTM              Repeated KFold         7  1.862693   \n",
       "5  Chemical + CS7  LSTM              Repeated KFold        14  1.388073   \n",
       "\n",
       "             MAE Test           MAPE Test             R2 Test            \n",
       "        std      mean       std      mean       std      mean       std  \n",
       "0  2.179458  5.681535  1.780065  0.140620  0.044740 -3.511618  2.760069  \n",
       "1  1.322723  5.009242  1.072933  0.123939  0.028595 -2.177237  1.554502  \n",
       "2  4.660270  6.747486  4.056084  0.165764  0.101758 -7.383635  8.641203  \n",
       "3  0.100299  1.038580  0.065057  0.025590  0.001537  0.850844  0.022467  \n",
       "4  0.304944  1.550294  0.285381  0.037587  0.006816  0.711242  0.091002  \n",
       "5  0.238320  1.044489  0.090244  0.025786  0.002301  0.841173  0.060110  "
      ]
     },
     "execution_count": 29,
     "metadata": {},
     "output_type": "execute_result"
    },
    {
     "data": {
      "application/javascript": [
       "\n",
       "            setTimeout(function() {\n",
       "                var nbb_cell_id = 29;\n",
       "                var nbb_unformatted_code = \"pd.concat(results_to_save).reset_index().groupby(\\n    [\\\"Features\\\", \\\"Model\\\", \\\"Cross Validation\\\", \\\"Timesteps\\\"], dropna=False\\n)[[\\\"RMSE Test\\\", \\\"MAE Test\\\", \\\"MAPE Test\\\", \\\"R2 Test\\\"]].agg(\\n    [\\\"mean\\\", lambda series: pd.Series(series.std(ddof=0), name=\\\"std\\\")]\\n).reset_index().rename(\\n    columns={\\\"<lambda_0>\\\": \\\"std\\\"}\\n)\";\n",
       "                var nbb_formatted_code = \"pd.concat(results_to_save).reset_index().groupby(\\n    [\\\"Features\\\", \\\"Model\\\", \\\"Cross Validation\\\", \\\"Timesteps\\\"], dropna=False\\n)[[\\\"RMSE Test\\\", \\\"MAE Test\\\", \\\"MAPE Test\\\", \\\"R2 Test\\\"]].agg(\\n    [\\\"mean\\\", lambda series: pd.Series(series.std(ddof=0), name=\\\"std\\\")]\\n).reset_index().rename(\\n    columns={\\\"<lambda_0>\\\": \\\"std\\\"}\\n)\";\n",
       "                var nbb_cells = Jupyter.notebook.get_cells();\n",
       "                for (var i = 0; i < nbb_cells.length; ++i) {\n",
       "                    if (nbb_cells[i].input_prompt_number == nbb_cell_id) {\n",
       "                        if (nbb_cells[i].get_text() == nbb_unformatted_code) {\n",
       "                             nbb_cells[i].set_text(nbb_formatted_code);\n",
       "                        }\n",
       "                        break;\n",
       "                    }\n",
       "                }\n",
       "            }, 500);\n",
       "            "
      ],
      "text/plain": [
       "<IPython.core.display.Javascript object>"
      ]
     },
     "metadata": {},
     "output_type": "display_data"
    }
   ],
   "source": [
    "pd.concat(results_to_save).reset_index().groupby(\n",
    "    [\"Features\", \"Model\", \"Cross Validation\", \"Timesteps\"], dropna=False\n",
    ")[[\"RMSE Test\", \"MAE Test\", \"MAPE Test\", \"R2 Test\"]].agg(\n",
    "    [\"mean\", lambda series: pd.Series(series.std(ddof=0), name=\"std\")]\n",
    ").reset_index().rename(\n",
    "    columns={\"<lambda_0>\": \"std\"}\n",
    ")"
   ]
  },
  {
   "cell_type": "markdown",
   "id": "50f23b24",
   "metadata": {
    "papermill": {
     "duration": 0.037636,
     "end_time": "2024-06-24T09:04:36.536351",
     "exception": false,
     "start_time": "2024-06-24T09:04:36.498715",
     "status": "completed"
    },
    "tags": []
   },
   "source": [
    "## 1.3. Time Series Split Cross Validation\n",
    "\n",
    "The training set has size i * n_samples // (n_splits + 1) + n_samples % (n_splits + 1) in the i th split, with a test set of size n_samples//(n_splits + 1) by default, where n_samples is the number of samples.\n",
    "\n",
    "\n",
    "<b>Dataset shape:</b> (1234, 38)<br>\n",
    "<b>Splits:</b>10<br>    \n",
    "    1. Train: 10 folds of 114, 226, 338, 450, 562, 675, 787, 899, 1011, 1123 samples each fold\n",
    "    2. Test: 112 samples each fold\n",
    "<b>Total:</b> 10 models<br>"
   ]
  },
  {
   "cell_type": "code",
   "execution_count": 30,
   "id": "a13b16f2",
   "metadata": {
    "execution": {
     "iopub.execute_input": "2024-06-24T09:04:36.587497Z",
     "iopub.status.busy": "2024-06-24T09:04:36.586955Z",
     "iopub.status.idle": "2024-06-24T09:18:23.028824Z",
     "shell.execute_reply": "2024-06-24T09:18:23.027395Z"
    },
    "papermill": {
     "duration": 826.502706,
     "end_time": "2024-06-24T09:18:23.068304",
     "exception": false,
     "start_time": "2024-06-24T09:04:36.565598",
     "status": "completed"
    },
    "scrolled": false,
    "tags": []
   },
   "outputs": [
    {
     "name": "stdout",
     "output_type": "stream",
     "text": [
      "Blocking Time Series Split:\n",
      "Repeats: 3\n",
      "n_splits: 5\n",
      "\n"
     ]
    },
    {
     "name": "stdout",
     "output_type": "stream",
     "text": [
      "TIMESTEPS: 1 \n",
      "******\n",
      "[TRAIN]\n",
      "******\n",
      "RMSE: 2.055 (1.433)\n",
      "MAE: 1.601 (1.086)\n",
      "MAPE: 0.039 (0.027)\n",
      "R2: 0.426 (0.819)\n",
      "\n",
      "======================\n",
      "\n",
      "******\n",
      "[TEST]\n",
      "******\n",
      "RMSE: 4.126 (3.375)\n",
      "MAE: 3.169 (2.944)\n",
      "MAPE: 0.078 (0.073)\n",
      "R2: -1.564 (4.479)\n",
      "\n",
      "======================\n",
      "\n"
     ]
    },
    {
     "name": "stdout",
     "output_type": "stream",
     "text": [
      "TIMESTEPS: 7 \n",
      "******\n",
      "[TRAIN]\n",
      "******\n",
      "RMSE: 1.276 (0.344)\n",
      "MAE: 1.039 (0.326)\n",
      "MAPE: 0.025 (0.008)\n",
      "R2: 0.847 (0.089)\n",
      "\n",
      "======================\n",
      "\n",
      "******\n",
      "[TEST]\n",
      "******\n",
      "RMSE: 4.156 (3.833)\n",
      "MAE: 3.253 (3.074)\n",
      "MAPE: 0.081 (0.075)\n",
      "R2: -1.900 (6.297)\n",
      "\n",
      "======================\n",
      "\n"
     ]
    },
    {
     "name": "stdout",
     "output_type": "stream",
     "text": [
      "TIMESTEPS: 14 \n",
      "******\n",
      "[TRAIN]\n",
      "******\n",
      "RMSE: 1.259 (0.390)\n",
      "MAE: 1.037 (0.391)\n",
      "MAPE: 0.025 (0.010)\n",
      "R2: 0.850 (0.110)\n",
      "\n",
      "======================\n",
      "\n",
      "******\n",
      "[TEST]\n",
      "******\n",
      "RMSE: 5.933 (6.561)\n",
      "MAE: 4.758 (5.834)\n",
      "MAPE: 0.118 (0.143)\n",
      "R2: -6.190 (15.646)\n",
      "\n",
      "======================\n",
      "\n",
      "Minutes Elapsed:  13.773320559660593\n"
     ]
    },
    {
     "data": {
      "application/javascript": [
       "\n",
       "            setTimeout(function() {\n",
       "                var nbb_cell_id = 30;\n",
       "                var nbb_unformatted_code = \"set_seeds()\\nstart = time.time()\\ngap = 0\\nn_splits = 5\\nrepeats = 3\\nTIMESTEPS_LIST = [1, 7, 14]\\nREPEAT = 0\\n\\nprint(\\\"Blocking Time Series Split:\\\")\\nprint(f\\\"Repeats: {repeats}\\\")\\nprint(f\\\"n_splits: {n_splits}\\\")\\nprint()\\n\\nfor timesteps in TIMESTEPS_LIST:\\n    set_seeds()\\n    scores_final = None\\n\\n    for repeat in range(repeats):\\n        REPEAT = repeat\\n        x = df_copy.drop([\\\"Date\\\", \\\"CS28\\\"] + CEMENT_TYPES, axis=1)\\n        y = df_copy[\\\"CS28\\\"]\\n\\n        cv = TimeSeriesSplit(\\n            gap=gap, max_train_size=None, n_splits=n_splits, test_size=None\\n        )\\n        scores = custom_cross_validate_parallelized(\\n            LSTM,\\n            SimpleImputer,\\n            StandardScaler,\\n            x,\\n            y,\\n            cv,\\n            timesteps,\\n            dates=dates,\\n            cement_types=df_copy[CEMENT_TYPES],\\n            estimator_params=None,\\n            imputer_params={\\\"strategy\\\": \\\"median\\\"},\\n        )\\n        scores = scores[0]\\n        if scores_final is None:\\n            scores_final = {key: [] for key, _ in scores.items()}\\n\\n        for key, value in scores.items():\\n            scores_final[key] += [value]\\n\\n    print(\\\"TIMESTEPS: %d \\\" % timesteps)\\n    print_scores(scores_final, METRICS, METRICS_DICT)\\n\\n    # Saving the results\\n    scores = {key: np.array(val).flatten() for key, val in scores_final.items()}\\n    results_dict_copy = results_dict.copy()\\n    results_dict_copy[\\\"Timesteps\\\"] = timesteps\\n    results_dict_copy[\\\"Cross Validation\\\"] = \\\"Time Series Split\\\"\\n    results_dict_copy[\\n        \\\"Cross Validation Params\\\"\\n    ] = '{\\\"N_Splits\\\": 5, \\\"Repeats\\\": 3, \\\"Gap\\\": 0}'\\n    results_dict_copy[\\\"Data Shape\\\"] = x.shape\\n    df_results = fill_results_dict(results_dict_copy, scores)\\n    results_to_save.append(df_results)\\n\\nend = time.time()\\nprint(\\\"Minutes Elapsed: \\\", (end - start) / 60)\";\n",
       "                var nbb_formatted_code = \"set_seeds()\\nstart = time.time()\\ngap = 0\\nn_splits = 5\\nrepeats = 3\\nTIMESTEPS_LIST = [1, 7, 14]\\nREPEAT = 0\\n\\nprint(\\\"Blocking Time Series Split:\\\")\\nprint(f\\\"Repeats: {repeats}\\\")\\nprint(f\\\"n_splits: {n_splits}\\\")\\nprint()\\n\\nfor timesteps in TIMESTEPS_LIST:\\n    set_seeds()\\n    scores_final = None\\n\\n    for repeat in range(repeats):\\n        REPEAT = repeat\\n        x = df_copy.drop([\\\"Date\\\", \\\"CS28\\\"] + CEMENT_TYPES, axis=1)\\n        y = df_copy[\\\"CS28\\\"]\\n\\n        cv = TimeSeriesSplit(\\n            gap=gap, max_train_size=None, n_splits=n_splits, test_size=None\\n        )\\n        scores = custom_cross_validate_parallelized(\\n            LSTM,\\n            SimpleImputer,\\n            StandardScaler,\\n            x,\\n            y,\\n            cv,\\n            timesteps,\\n            dates=dates,\\n            cement_types=df_copy[CEMENT_TYPES],\\n            estimator_params=None,\\n            imputer_params={\\\"strategy\\\": \\\"median\\\"},\\n        )\\n        scores = scores[0]\\n        if scores_final is None:\\n            scores_final = {key: [] for key, _ in scores.items()}\\n\\n        for key, value in scores.items():\\n            scores_final[key] += [value]\\n\\n    print(\\\"TIMESTEPS: %d \\\" % timesteps)\\n    print_scores(scores_final, METRICS, METRICS_DICT)\\n\\n    # Saving the results\\n    scores = {key: np.array(val).flatten() for key, val in scores_final.items()}\\n    results_dict_copy = results_dict.copy()\\n    results_dict_copy[\\\"Timesteps\\\"] = timesteps\\n    results_dict_copy[\\\"Cross Validation\\\"] = \\\"Time Series Split\\\"\\n    results_dict_copy[\\n        \\\"Cross Validation Params\\\"\\n    ] = '{\\\"N_Splits\\\": 5, \\\"Repeats\\\": 3, \\\"Gap\\\": 0}'\\n    results_dict_copy[\\\"Data Shape\\\"] = x.shape\\n    df_results = fill_results_dict(results_dict_copy, scores)\\n    results_to_save.append(df_results)\\n\\nend = time.time()\\nprint(\\\"Minutes Elapsed: \\\", (end - start) / 60)\";\n",
       "                var nbb_cells = Jupyter.notebook.get_cells();\n",
       "                for (var i = 0; i < nbb_cells.length; ++i) {\n",
       "                    if (nbb_cells[i].input_prompt_number == nbb_cell_id) {\n",
       "                        if (nbb_cells[i].get_text() == nbb_unformatted_code) {\n",
       "                             nbb_cells[i].set_text(nbb_formatted_code);\n",
       "                        }\n",
       "                        break;\n",
       "                    }\n",
       "                }\n",
       "            }, 500);\n",
       "            "
      ],
      "text/plain": [
       "<IPython.core.display.Javascript object>"
      ]
     },
     "metadata": {},
     "output_type": "display_data"
    }
   ],
   "source": [
    "set_seeds()\n",
    "start = time.time()\n",
    "gap = 0\n",
    "n_splits = 5\n",
    "repeats = 3\n",
    "TIMESTEPS_LIST = [1, 7, 14]\n",
    "REPEAT = 0\n",
    "\n",
    "print(\"Blocking Time Series Split:\")\n",
    "print(f\"Repeats: {repeats}\")\n",
    "print(f\"n_splits: {n_splits}\")\n",
    "print()\n",
    "\n",
    "for timesteps in TIMESTEPS_LIST:\n",
    "    set_seeds()\n",
    "    scores_final = None\n",
    "\n",
    "    for repeat in range(repeats):\n",
    "        REPEAT = repeat\n",
    "        x = df_copy.drop([\"Date\", \"CS28\"] + CEMENT_TYPES, axis=1)\n",
    "        y = df_copy[\"CS28\"]\n",
    "\n",
    "        cv = TimeSeriesSplit(\n",
    "            gap=gap, max_train_size=None, n_splits=n_splits, test_size=None\n",
    "        )\n",
    "        scores = custom_cross_validate_parallelized(\n",
    "            LSTM,\n",
    "            SimpleImputer,\n",
    "            StandardScaler,\n",
    "            x,\n",
    "            y,\n",
    "            cv,\n",
    "            timesteps,\n",
    "            dates=dates,\n",
    "            cement_types=df_copy[CEMENT_TYPES],\n",
    "            estimator_params=None,\n",
    "            imputer_params={\"strategy\": \"median\"},\n",
    "        )\n",
    "        scores = scores[0]\n",
    "        if scores_final is None:\n",
    "            scores_final = {key: [] for key, _ in scores.items()}\n",
    "\n",
    "        for key, value in scores.items():\n",
    "            scores_final[key] += [value]\n",
    "\n",
    "    print(\"TIMESTEPS: %d \" % timesteps)\n",
    "    print_scores(scores_final, METRICS, METRICS_DICT)\n",
    "\n",
    "    # Saving the results\n",
    "    scores = {key: np.array(val).flatten() for key, val in scores_final.items()}\n",
    "    results_dict_copy = results_dict.copy()\n",
    "    results_dict_copy[\"Timesteps\"] = timesteps\n",
    "    results_dict_copy[\"Cross Validation\"] = \"Time Series Split\"\n",
    "    results_dict_copy[\n",
    "        \"Cross Validation Params\"\n",
    "    ] = '{\"N_Splits\": 5, \"Repeats\": 3, \"Gap\": 0}'\n",
    "    results_dict_copy[\"Data Shape\"] = x.shape\n",
    "    df_results = fill_results_dict(results_dict_copy, scores)\n",
    "    results_to_save.append(df_results)\n",
    "\n",
    "end = time.time()\n",
    "print(\"Minutes Elapsed: \", (end - start) / 60)"
   ]
  },
  {
   "cell_type": "code",
   "execution_count": 31,
   "id": "568066f5",
   "metadata": {
    "execution": {
     "iopub.execute_input": "2024-06-24T09:18:23.512686Z",
     "iopub.status.busy": "2024-06-24T09:18:23.512061Z",
     "iopub.status.idle": "2024-06-24T09:18:23.615022Z",
     "shell.execute_reply": "2024-06-24T09:18:23.614213Z"
    },
    "papermill": {
     "duration": 0.129453,
     "end_time": "2024-06-24T09:18:23.616716",
     "exception": false,
     "start_time": "2024-06-24T09:18:23.487263",
     "status": "completed"
    },
    "tags": []
   },
   "outputs": [
    {
     "data": {
      "text/html": [
       "<div>\n",
       "<style scoped>\n",
       "    .dataframe tbody tr th:only-of-type {\n",
       "        vertical-align: middle;\n",
       "    }\n",
       "\n",
       "    .dataframe tbody tr th {\n",
       "        vertical-align: top;\n",
       "    }\n",
       "\n",
       "    .dataframe thead tr th {\n",
       "        text-align: left;\n",
       "    }\n",
       "</style>\n",
       "<table border=\"1\" class=\"dataframe\">\n",
       "  <thead>\n",
       "    <tr>\n",
       "      <th></th>\n",
       "      <th>Features</th>\n",
       "      <th>Model</th>\n",
       "      <th>Cross Validation</th>\n",
       "      <th>Timesteps</th>\n",
       "      <th colspan=\"2\" halign=\"left\">RMSE Test</th>\n",
       "      <th colspan=\"2\" halign=\"left\">MAE Test</th>\n",
       "      <th colspan=\"2\" halign=\"left\">MAPE Test</th>\n",
       "      <th colspan=\"2\" halign=\"left\">R2 Test</th>\n",
       "    </tr>\n",
       "    <tr>\n",
       "      <th></th>\n",
       "      <th></th>\n",
       "      <th></th>\n",
       "      <th></th>\n",
       "      <th></th>\n",
       "      <th>mean</th>\n",
       "      <th>std</th>\n",
       "      <th>mean</th>\n",
       "      <th>std</th>\n",
       "      <th>mean</th>\n",
       "      <th>std</th>\n",
       "      <th>mean</th>\n",
       "      <th>std</th>\n",
       "    </tr>\n",
       "  </thead>\n",
       "  <tbody>\n",
       "    <tr>\n",
       "      <th>0</th>\n",
       "      <td>Chemical + CS7</td>\n",
       "      <td>LSTM</td>\n",
       "      <td>Blocking Time Series Split</td>\n",
       "      <td>1</td>\n",
       "      <td>7.133453</td>\n",
       "      <td>2.179458</td>\n",
       "      <td>5.681535</td>\n",
       "      <td>1.780065</td>\n",
       "      <td>0.140620</td>\n",
       "      <td>0.044740</td>\n",
       "      <td>-3.511618</td>\n",
       "      <td>2.760069</td>\n",
       "    </tr>\n",
       "    <tr>\n",
       "      <th>1</th>\n",
       "      <td>Chemical + CS7</td>\n",
       "      <td>LSTM</td>\n",
       "      <td>Blocking Time Series Split</td>\n",
       "      <td>7</td>\n",
       "      <td>6.156727</td>\n",
       "      <td>1.322723</td>\n",
       "      <td>5.009242</td>\n",
       "      <td>1.072933</td>\n",
       "      <td>0.123939</td>\n",
       "      <td>0.028595</td>\n",
       "      <td>-2.177237</td>\n",
       "      <td>1.554502</td>\n",
       "    </tr>\n",
       "    <tr>\n",
       "      <th>2</th>\n",
       "      <td>Chemical + CS7</td>\n",
       "      <td>LSTM</td>\n",
       "      <td>Blocking Time Series Split</td>\n",
       "      <td>14</td>\n",
       "      <td>8.319834</td>\n",
       "      <td>4.660270</td>\n",
       "      <td>6.747486</td>\n",
       "      <td>4.056084</td>\n",
       "      <td>0.165764</td>\n",
       "      <td>0.101758</td>\n",
       "      <td>-7.383635</td>\n",
       "      <td>8.641203</td>\n",
       "    </tr>\n",
       "    <tr>\n",
       "      <th>3</th>\n",
       "      <td>Chemical + CS7</td>\n",
       "      <td>LSTM</td>\n",
       "      <td>Repeated KFold</td>\n",
       "      <td>1</td>\n",
       "      <td>1.347610</td>\n",
       "      <td>0.100299</td>\n",
       "      <td>1.038580</td>\n",
       "      <td>0.065057</td>\n",
       "      <td>0.025590</td>\n",
       "      <td>0.001537</td>\n",
       "      <td>0.850844</td>\n",
       "      <td>0.022467</td>\n",
       "    </tr>\n",
       "    <tr>\n",
       "      <th>4</th>\n",
       "      <td>Chemical + CS7</td>\n",
       "      <td>LSTM</td>\n",
       "      <td>Repeated KFold</td>\n",
       "      <td>7</td>\n",
       "      <td>1.862693</td>\n",
       "      <td>0.304944</td>\n",
       "      <td>1.550294</td>\n",
       "      <td>0.285381</td>\n",
       "      <td>0.037587</td>\n",
       "      <td>0.006816</td>\n",
       "      <td>0.711242</td>\n",
       "      <td>0.091002</td>\n",
       "    </tr>\n",
       "    <tr>\n",
       "      <th>5</th>\n",
       "      <td>Chemical + CS7</td>\n",
       "      <td>LSTM</td>\n",
       "      <td>Repeated KFold</td>\n",
       "      <td>14</td>\n",
       "      <td>1.388073</td>\n",
       "      <td>0.238320</td>\n",
       "      <td>1.044489</td>\n",
       "      <td>0.090244</td>\n",
       "      <td>0.025786</td>\n",
       "      <td>0.002301</td>\n",
       "      <td>0.841173</td>\n",
       "      <td>0.060110</td>\n",
       "    </tr>\n",
       "    <tr>\n",
       "      <th>6</th>\n",
       "      <td>Chemical + CS7</td>\n",
       "      <td>LSTM</td>\n",
       "      <td>Time Series Split</td>\n",
       "      <td>1</td>\n",
       "      <td>4.125702</td>\n",
       "      <td>3.375168</td>\n",
       "      <td>3.168909</td>\n",
       "      <td>2.944199</td>\n",
       "      <td>0.078017</td>\n",
       "      <td>0.072976</td>\n",
       "      <td>-1.564265</td>\n",
       "      <td>4.478838</td>\n",
       "    </tr>\n",
       "    <tr>\n",
       "      <th>7</th>\n",
       "      <td>Chemical + CS7</td>\n",
       "      <td>LSTM</td>\n",
       "      <td>Time Series Split</td>\n",
       "      <td>7</td>\n",
       "      <td>4.155825</td>\n",
       "      <td>3.833335</td>\n",
       "      <td>3.252614</td>\n",
       "      <td>3.073578</td>\n",
       "      <td>0.080589</td>\n",
       "      <td>0.075226</td>\n",
       "      <td>-1.900403</td>\n",
       "      <td>6.297458</td>\n",
       "    </tr>\n",
       "    <tr>\n",
       "      <th>8</th>\n",
       "      <td>Chemical + CS7</td>\n",
       "      <td>LSTM</td>\n",
       "      <td>Time Series Split</td>\n",
       "      <td>14</td>\n",
       "      <td>5.933351</td>\n",
       "      <td>6.561309</td>\n",
       "      <td>4.757540</td>\n",
       "      <td>5.833662</td>\n",
       "      <td>0.117638</td>\n",
       "      <td>0.143101</td>\n",
       "      <td>-6.189938</td>\n",
       "      <td>15.645552</td>\n",
       "    </tr>\n",
       "  </tbody>\n",
       "</table>\n",
       "</div>"
      ],
      "text/plain": [
       "         Features Model            Cross Validation Timesteps RMSE Test  \\\n",
       "                                                                   mean   \n",
       "0  Chemical + CS7  LSTM  Blocking Time Series Split         1  7.133453   \n",
       "1  Chemical + CS7  LSTM  Blocking Time Series Split         7  6.156727   \n",
       "2  Chemical + CS7  LSTM  Blocking Time Series Split        14  8.319834   \n",
       "3  Chemical + CS7  LSTM              Repeated KFold         1  1.347610   \n",
       "4  Chemical + CS7  LSTM              Repeated KFold         7  1.862693   \n",
       "5  Chemical + CS7  LSTM              Repeated KFold        14  1.388073   \n",
       "6  Chemical + CS7  LSTM           Time Series Split         1  4.125702   \n",
       "7  Chemical + CS7  LSTM           Time Series Split         7  4.155825   \n",
       "8  Chemical + CS7  LSTM           Time Series Split        14  5.933351   \n",
       "\n",
       "             MAE Test           MAPE Test             R2 Test             \n",
       "        std      mean       std      mean       std      mean        std  \n",
       "0  2.179458  5.681535  1.780065  0.140620  0.044740 -3.511618   2.760069  \n",
       "1  1.322723  5.009242  1.072933  0.123939  0.028595 -2.177237   1.554502  \n",
       "2  4.660270  6.747486  4.056084  0.165764  0.101758 -7.383635   8.641203  \n",
       "3  0.100299  1.038580  0.065057  0.025590  0.001537  0.850844   0.022467  \n",
       "4  0.304944  1.550294  0.285381  0.037587  0.006816  0.711242   0.091002  \n",
       "5  0.238320  1.044489  0.090244  0.025786  0.002301  0.841173   0.060110  \n",
       "6  3.375168  3.168909  2.944199  0.078017  0.072976 -1.564265   4.478838  \n",
       "7  3.833335  3.252614  3.073578  0.080589  0.075226 -1.900403   6.297458  \n",
       "8  6.561309  4.757540  5.833662  0.117638  0.143101 -6.189938  15.645552  "
      ]
     },
     "execution_count": 31,
     "metadata": {},
     "output_type": "execute_result"
    },
    {
     "data": {
      "application/javascript": [
       "\n",
       "            setTimeout(function() {\n",
       "                var nbb_cell_id = 31;\n",
       "                var nbb_unformatted_code = \"pd.concat(results_to_save).reset_index().groupby(\\n    [\\\"Features\\\", \\\"Model\\\", \\\"Cross Validation\\\", \\\"Timesteps\\\"], dropna=False\\n)[[\\\"RMSE Test\\\", \\\"MAE Test\\\", \\\"MAPE Test\\\", \\\"R2 Test\\\"]].agg(\\n    [\\\"mean\\\", lambda series: pd.Series(series.std(ddof=0), name=\\\"std\\\")]\\n).reset_index().rename(\\n    columns={\\\"<lambda_0>\\\": \\\"std\\\"}\\n)\";\n",
       "                var nbb_formatted_code = \"pd.concat(results_to_save).reset_index().groupby(\\n    [\\\"Features\\\", \\\"Model\\\", \\\"Cross Validation\\\", \\\"Timesteps\\\"], dropna=False\\n)[[\\\"RMSE Test\\\", \\\"MAE Test\\\", \\\"MAPE Test\\\", \\\"R2 Test\\\"]].agg(\\n    [\\\"mean\\\", lambda series: pd.Series(series.std(ddof=0), name=\\\"std\\\")]\\n).reset_index().rename(\\n    columns={\\\"<lambda_0>\\\": \\\"std\\\"}\\n)\";\n",
       "                var nbb_cells = Jupyter.notebook.get_cells();\n",
       "                for (var i = 0; i < nbb_cells.length; ++i) {\n",
       "                    if (nbb_cells[i].input_prompt_number == nbb_cell_id) {\n",
       "                        if (nbb_cells[i].get_text() == nbb_unformatted_code) {\n",
       "                             nbb_cells[i].set_text(nbb_formatted_code);\n",
       "                        }\n",
       "                        break;\n",
       "                    }\n",
       "                }\n",
       "            }, 500);\n",
       "            "
      ],
      "text/plain": [
       "<IPython.core.display.Javascript object>"
      ]
     },
     "metadata": {},
     "output_type": "display_data"
    }
   ],
   "source": [
    "pd.concat(results_to_save).reset_index().groupby(\n",
    "    [\"Features\", \"Model\", \"Cross Validation\", \"Timesteps\"], dropna=False\n",
    ")[[\"RMSE Test\", \"MAE Test\", \"MAPE Test\", \"R2 Test\"]].agg(\n",
    "    [\"mean\", lambda series: pd.Series(series.std(ddof=0), name=\"std\")]\n",
    ").reset_index().rename(\n",
    "    columns={\"<lambda_0>\": \"std\"}\n",
    ")"
   ]
  },
  {
   "cell_type": "markdown",
   "id": "d15c696d",
   "metadata": {
    "papermill": {
     "duration": 0.025874,
     "end_time": "2024-06-24T09:18:23.659458",
     "exception": false,
     "start_time": "2024-06-24T09:18:23.633584",
     "status": "completed"
    },
    "tags": []
   },
   "source": [
    "## 1.4. Out of time Split Cross Validation\n",
    "\n",
    "<b>Dataset shape:</b> (1234, 38)<br>\n",
    "<b>Train size: 80%</b><br>\n",
    "<b>Test  size: 20%</b>\n",
    "\n",
    "\n",
    "<b>Splits:</b> 2<br>    \n",
    "    1. Train: 987\n",
    "    2. Test: 247\n",
    "<b>Total:</b> 1 model<br>"
   ]
  },
  {
   "cell_type": "code",
   "execution_count": 32,
   "id": "1f77d563",
   "metadata": {
    "execution": {
     "iopub.execute_input": "2024-06-24T09:18:23.720854Z",
     "iopub.status.busy": "2024-06-24T09:18:23.720215Z",
     "iopub.status.idle": "2024-06-24T09:23:06.360467Z",
     "shell.execute_reply": "2024-06-24T09:23:06.359050Z"
    },
    "papermill": {
     "duration": 282.700006,
     "end_time": "2024-06-24T09:23:06.401715",
     "exception": false,
     "start_time": "2024-06-24T09:18:23.701709",
     "status": "completed"
    },
    "tags": []
   },
   "outputs": [
    {
     "name": "stdout",
     "output_type": "stream",
     "text": [
      "Out of time Cross Val:\n",
      "Repeats: 3\n",
      "Train: 80% Test: 20%\n",
      "\n"
     ]
    },
    {
     "name": "stdout",
     "output_type": "stream",
     "text": [
      "TIMESTEPS: 1 \n",
      "******\n",
      "[TRAIN]\n",
      "******\n",
      "RMSE: 1.193 (0.031)\n",
      "MAE: 0.947 (0.028)\n",
      "MAPE: 0.023 (0.001)\n",
      "R2: 0.881 (0.006)\n",
      "\n",
      "======================\n",
      "\n",
      "******\n",
      "[TEST]\n",
      "******\n",
      "RMSE: 1.923 (0.130)\n",
      "MAE: 1.511 (0.107)\n",
      "MAPE: 0.036 (0.002)\n",
      "R2: 0.720 (0.039)\n",
      "\n",
      "======================\n",
      "\n"
     ]
    },
    {
     "name": "stdout",
     "output_type": "stream",
     "text": [
      "TIMESTEPS: 7 \n",
      "******\n",
      "[TRAIN]\n",
      "******\n",
      "RMSE: 1.132 (0.128)\n",
      "MAE: 0.899 (0.109)\n",
      "MAPE: 0.022 (0.003)\n",
      "R2: 0.891 (0.024)\n",
      "\n",
      "======================\n",
      "\n",
      "******\n",
      "[TEST]\n",
      "******\n",
      "RMSE: 1.951 (0.264)\n",
      "MAE: 1.540 (0.168)\n",
      "MAPE: 0.038 (0.004)\n",
      "R2: 0.705 (0.082)\n",
      "\n",
      "======================\n",
      "\n"
     ]
    },
    {
     "name": "stdout",
     "output_type": "stream",
     "text": [
      "TIMESTEPS: 14 \n",
      "******\n",
      "[TRAIN]\n",
      "******\n",
      "RMSE: 1.060 (0.107)\n",
      "MAE: 0.842 (0.095)\n",
      "MAPE: 0.021 (0.002)\n",
      "R2: 0.906 (0.019)\n",
      "\n",
      "======================\n",
      "\n",
      "******\n",
      "[TEST]\n",
      "******\n",
      "RMSE: 2.172 (0.493)\n",
      "MAE: 1.748 (0.426)\n",
      "MAPE: 0.043 (0.010)\n",
      "R2: 0.616 (0.176)\n",
      "\n",
      "======================\n",
      "\n",
      "Minutes Elapsed:  4.709780557950338\n"
     ]
    },
    {
     "data": {
      "application/javascript": [
       "\n",
       "            setTimeout(function() {\n",
       "                var nbb_cell_id = 32;\n",
       "                var nbb_unformatted_code = \"start = time.time()\\ntest_size = 0.2\\nrepeats = 3\\nTIMESTEPS_LIST = [1, 7, 14]\\n\\nprint(\\\"Out of time Cross Val:\\\")\\nprint(f\\\"Repeats: {repeats}\\\")\\nprint(f\\\"Train: {80}%\\\", f\\\"Test: {20}%\\\")\\nprint()\\n\\nfor timesteps in TIMESTEPS_LIST:\\n    set_seeds()\\n\\n    def parallel_repeats(repeat):\\n        set_seeds(SEED + repeat)\\n\\n        scores_final = None\\n\\n        # Data Splitting\\n        x = df_copy.drop([\\\"Date\\\", \\\"CS28\\\"] + CEMENT_TYPES, axis=1).copy()\\n        y = df_copy[\\\"CS28\\\"].copy()\\n\\n        x_train, x_test, y_train, y_test = train_test_split(\\n            x, y, test_size=test_size, random_state=SEED, shuffle=False\\n        )\\n\\n        # Preprocessing\\n        imputer = SimpleImputer(strategy=\\\"median\\\")\\n        scaler = StandardScaler()\\n\\n        x_train = imputer.fit_transform(x_train)\\n        x_train = scaler.fit_transform(x_train)\\n        dates_train = dates[: x_train.shape[0]].reset_index(drop=True)\\n        cement_types_train = df_copy[CEMENT_TYPES][: x_train.shape[0]].reset_index(\\n            drop=True\\n        )\\n\\n        x_test = imputer.transform(x_test)\\n        x_test = scaler.transform(x_test)\\n        dates_test = dates[x_train.shape[0] :].reset_index(drop=True)\\n        cement_types_test = df_copy[CEMENT_TYPES][x_train.shape[0] :].reset_index(\\n            drop=True\\n        )\\n\\n        # Sequence Splitting\\n        data_train = pd.concat(\\n            [\\n                dates_train,\\n                pd.DataFrame(x_train, columns=x.columns),\\n                cement_types_train,\\n                y_train.reset_index(drop=True),\\n            ],\\n            axis=1,\\n        )\\n        data_test = pd.concat(\\n            [\\n                dates_test,\\n                pd.DataFrame(x_test, columns=x.columns),\\n                cement_types_test,\\n                y_test.reset_index(drop=True),\\n            ],\\n            axis=1,\\n        )\\n\\n        x_train, y_train = split_sequences_per_cement_type(data_train, timesteps)\\n        x_test, y_test = split_sequences_per_cement_type(data_test, timesteps)\\n\\n        # Train model and test evalutation\\n        # Fit model\\n        pipeline = Pipeline([(\\\"estimator\\\", LSTM())])\\n        pipeline.fit(x_train, y_train)\\n\\n        # Make predictions\\n        y_train_pred = pipeline.predict(x_train)\\n        y_test_pred = pipeline.predict(x_test)\\n\\n        # evaluate predictions\\n        scores = score_regression_metrics(y_train, y_train_pred, y_test, y_test_pred)\\n\\n        if scores_final is None:\\n            scores_final = {key: [] for key, _ in scores.items()}\\n\\n        for key, value in scores.items():\\n            scores_final[key] += [value]\\n\\n        return scores_final\\n\\n    scores = Parallel(n_jobs=5)(\\n        delayed(parallel_repeats)(repeat) for repeat in range(repeats)\\n    )\\n    scores_final = {key: [] for key, _ in scores[0].items()}\\n    for scores_dict in scores:\\n        for key, value in scores_dict.items():\\n            scores_final[key] += value\\n\\n    print(\\\"TIMESTEPS: %d \\\" % timesteps)\\n    print_scores(scores_final, METRICS, METRICS_DICT)\\n\\n    # Saving the results\\n    # scores = {key: val[0] for key, val in scores.items()}\\n    results_dict_copy = results_dict.copy()\\n    results_dict_copy[\\\"Timesteps\\\"] = timesteps\\n    results_dict_copy[\\\"Cross Validation\\\"] = \\\"Out of time Split\\\"\\n    results_dict_copy[\\\"Cross Validation Params\\\"] = '{\\\"Test Size\\\": 0.2}'\\n    results_dict_copy[\\\"Data Shape\\\"] = x.shape\\n    df_results = fill_results_dict(\\n        results_dict_copy, {key: value for key, value in scores_final.items()}\\n    )\\n    results_to_save.append(df_results)\\n\\nend = time.time()\\nprint(\\\"Minutes Elapsed: \\\", (end - start) / 60)\";\n",
       "                var nbb_formatted_code = \"start = time.time()\\ntest_size = 0.2\\nrepeats = 3\\nTIMESTEPS_LIST = [1, 7, 14]\\n\\nprint(\\\"Out of time Cross Val:\\\")\\nprint(f\\\"Repeats: {repeats}\\\")\\nprint(f\\\"Train: {80}%\\\", f\\\"Test: {20}%\\\")\\nprint()\\n\\nfor timesteps in TIMESTEPS_LIST:\\n    set_seeds()\\n\\n    def parallel_repeats(repeat):\\n        set_seeds(SEED + repeat)\\n\\n        scores_final = None\\n\\n        # Data Splitting\\n        x = df_copy.drop([\\\"Date\\\", \\\"CS28\\\"] + CEMENT_TYPES, axis=1).copy()\\n        y = df_copy[\\\"CS28\\\"].copy()\\n\\n        x_train, x_test, y_train, y_test = train_test_split(\\n            x, y, test_size=test_size, random_state=SEED, shuffle=False\\n        )\\n\\n        # Preprocessing\\n        imputer = SimpleImputer(strategy=\\\"median\\\")\\n        scaler = StandardScaler()\\n\\n        x_train = imputer.fit_transform(x_train)\\n        x_train = scaler.fit_transform(x_train)\\n        dates_train = dates[: x_train.shape[0]].reset_index(drop=True)\\n        cement_types_train = df_copy[CEMENT_TYPES][: x_train.shape[0]].reset_index(\\n            drop=True\\n        )\\n\\n        x_test = imputer.transform(x_test)\\n        x_test = scaler.transform(x_test)\\n        dates_test = dates[x_train.shape[0] :].reset_index(drop=True)\\n        cement_types_test = df_copy[CEMENT_TYPES][x_train.shape[0] :].reset_index(\\n            drop=True\\n        )\\n\\n        # Sequence Splitting\\n        data_train = pd.concat(\\n            [\\n                dates_train,\\n                pd.DataFrame(x_train, columns=x.columns),\\n                cement_types_train,\\n                y_train.reset_index(drop=True),\\n            ],\\n            axis=1,\\n        )\\n        data_test = pd.concat(\\n            [\\n                dates_test,\\n                pd.DataFrame(x_test, columns=x.columns),\\n                cement_types_test,\\n                y_test.reset_index(drop=True),\\n            ],\\n            axis=1,\\n        )\\n\\n        x_train, y_train = split_sequences_per_cement_type(data_train, timesteps)\\n        x_test, y_test = split_sequences_per_cement_type(data_test, timesteps)\\n\\n        # Train model and test evalutation\\n        # Fit model\\n        pipeline = Pipeline([(\\\"estimator\\\", LSTM())])\\n        pipeline.fit(x_train, y_train)\\n\\n        # Make predictions\\n        y_train_pred = pipeline.predict(x_train)\\n        y_test_pred = pipeline.predict(x_test)\\n\\n        # evaluate predictions\\n        scores = score_regression_metrics(y_train, y_train_pred, y_test, y_test_pred)\\n\\n        if scores_final is None:\\n            scores_final = {key: [] for key, _ in scores.items()}\\n\\n        for key, value in scores.items():\\n            scores_final[key] += [value]\\n\\n        return scores_final\\n\\n    scores = Parallel(n_jobs=5)(\\n        delayed(parallel_repeats)(repeat) for repeat in range(repeats)\\n    )\\n    scores_final = {key: [] for key, _ in scores[0].items()}\\n    for scores_dict in scores:\\n        for key, value in scores_dict.items():\\n            scores_final[key] += value\\n\\n    print(\\\"TIMESTEPS: %d \\\" % timesteps)\\n    print_scores(scores_final, METRICS, METRICS_DICT)\\n\\n    # Saving the results\\n    # scores = {key: val[0] for key, val in scores.items()}\\n    results_dict_copy = results_dict.copy()\\n    results_dict_copy[\\\"Timesteps\\\"] = timesteps\\n    results_dict_copy[\\\"Cross Validation\\\"] = \\\"Out of time Split\\\"\\n    results_dict_copy[\\\"Cross Validation Params\\\"] = '{\\\"Test Size\\\": 0.2}'\\n    results_dict_copy[\\\"Data Shape\\\"] = x.shape\\n    df_results = fill_results_dict(\\n        results_dict_copy, {key: value for key, value in scores_final.items()}\\n    )\\n    results_to_save.append(df_results)\\n\\nend = time.time()\\nprint(\\\"Minutes Elapsed: \\\", (end - start) / 60)\";\n",
       "                var nbb_cells = Jupyter.notebook.get_cells();\n",
       "                for (var i = 0; i < nbb_cells.length; ++i) {\n",
       "                    if (nbb_cells[i].input_prompt_number == nbb_cell_id) {\n",
       "                        if (nbb_cells[i].get_text() == nbb_unformatted_code) {\n",
       "                             nbb_cells[i].set_text(nbb_formatted_code);\n",
       "                        }\n",
       "                        break;\n",
       "                    }\n",
       "                }\n",
       "            }, 500);\n",
       "            "
      ],
      "text/plain": [
       "<IPython.core.display.Javascript object>"
      ]
     },
     "metadata": {},
     "output_type": "display_data"
    }
   ],
   "source": [
    "start = time.time()\n",
    "test_size = 0.2\n",
    "repeats = 3\n",
    "TIMESTEPS_LIST = [1, 7, 14]\n",
    "\n",
    "print(\"Out of time Cross Val:\")\n",
    "print(f\"Repeats: {repeats}\")\n",
    "print(f\"Train: {80}%\", f\"Test: {20}%\")\n",
    "print()\n",
    "\n",
    "for timesteps in TIMESTEPS_LIST:\n",
    "    set_seeds()\n",
    "\n",
    "    def parallel_repeats(repeat):\n",
    "        set_seeds(SEED + repeat)\n",
    "\n",
    "        scores_final = None\n",
    "\n",
    "        # Data Splitting\n",
    "        x = df_copy.drop([\"Date\", \"CS28\"] + CEMENT_TYPES, axis=1).copy()\n",
    "        y = df_copy[\"CS28\"].copy()\n",
    "\n",
    "        x_train, x_test, y_train, y_test = train_test_split(\n",
    "            x, y, test_size=test_size, random_state=SEED, shuffle=False\n",
    "        )\n",
    "\n",
    "        # Preprocessing\n",
    "        imputer = SimpleImputer(strategy=\"median\")\n",
    "        scaler = StandardScaler()\n",
    "\n",
    "        x_train = imputer.fit_transform(x_train)\n",
    "        x_train = scaler.fit_transform(x_train)\n",
    "        dates_train = dates[: x_train.shape[0]].reset_index(drop=True)\n",
    "        cement_types_train = df_copy[CEMENT_TYPES][: x_train.shape[0]].reset_index(\n",
    "            drop=True\n",
    "        )\n",
    "\n",
    "        x_test = imputer.transform(x_test)\n",
    "        x_test = scaler.transform(x_test)\n",
    "        dates_test = dates[x_train.shape[0] :].reset_index(drop=True)\n",
    "        cement_types_test = df_copy[CEMENT_TYPES][x_train.shape[0] :].reset_index(\n",
    "            drop=True\n",
    "        )\n",
    "\n",
    "        # Sequence Splitting\n",
    "        data_train = pd.concat(\n",
    "            [\n",
    "                dates_train,\n",
    "                pd.DataFrame(x_train, columns=x.columns),\n",
    "                cement_types_train,\n",
    "                y_train.reset_index(drop=True),\n",
    "            ],\n",
    "            axis=1,\n",
    "        )\n",
    "        data_test = pd.concat(\n",
    "            [\n",
    "                dates_test,\n",
    "                pd.DataFrame(x_test, columns=x.columns),\n",
    "                cement_types_test,\n",
    "                y_test.reset_index(drop=True),\n",
    "            ],\n",
    "            axis=1,\n",
    "        )\n",
    "\n",
    "        x_train, y_train = split_sequences_per_cement_type(data_train, timesteps)\n",
    "        x_test, y_test = split_sequences_per_cement_type(data_test, timesteps)\n",
    "\n",
    "        # Train model and test evalutation\n",
    "        # Fit model\n",
    "        pipeline = Pipeline([(\"estimator\", LSTM())])\n",
    "        pipeline.fit(x_train, y_train)\n",
    "\n",
    "        # Make predictions\n",
    "        y_train_pred = pipeline.predict(x_train)\n",
    "        y_test_pred = pipeline.predict(x_test)\n",
    "\n",
    "        # evaluate predictions\n",
    "        scores = score_regression_metrics(y_train, y_train_pred, y_test, y_test_pred)\n",
    "\n",
    "        if scores_final is None:\n",
    "            scores_final = {key: [] for key, _ in scores.items()}\n",
    "\n",
    "        for key, value in scores.items():\n",
    "            scores_final[key] += [value]\n",
    "\n",
    "        return scores_final\n",
    "\n",
    "    scores = Parallel(n_jobs=5)(\n",
    "        delayed(parallel_repeats)(repeat) for repeat in range(repeats)\n",
    "    )\n",
    "    scores_final = {key: [] for key, _ in scores[0].items()}\n",
    "    for scores_dict in scores:\n",
    "        for key, value in scores_dict.items():\n",
    "            scores_final[key] += value\n",
    "\n",
    "    print(\"TIMESTEPS: %d \" % timesteps)\n",
    "    print_scores(scores_final, METRICS, METRICS_DICT)\n",
    "\n",
    "    # Saving the results\n",
    "    # scores = {key: val[0] for key, val in scores.items()}\n",
    "    results_dict_copy = results_dict.copy()\n",
    "    results_dict_copy[\"Timesteps\"] = timesteps\n",
    "    results_dict_copy[\"Cross Validation\"] = \"Out of time Split\"\n",
    "    results_dict_copy[\"Cross Validation Params\"] = '{\"Test Size\": 0.2}'\n",
    "    results_dict_copy[\"Data Shape\"] = x.shape\n",
    "    df_results = fill_results_dict(\n",
    "        results_dict_copy, {key: value for key, value in scores_final.items()}\n",
    "    )\n",
    "    results_to_save.append(df_results)\n",
    "\n",
    "end = time.time()\n",
    "print(\"Minutes Elapsed: \", (end - start) / 60)"
   ]
  },
  {
   "cell_type": "code",
   "execution_count": 33,
   "id": "8d405d1d",
   "metadata": {
    "execution": {
     "iopub.execute_input": "2024-06-24T09:23:06.451450Z",
     "iopub.status.busy": "2024-06-24T09:23:06.450997Z",
     "iopub.status.idle": "2024-06-24T09:23:06.533936Z",
     "shell.execute_reply": "2024-06-24T09:23:06.532994Z"
    },
    "papermill": {
     "duration": 0.107121,
     "end_time": "2024-06-24T09:23:06.536474",
     "exception": false,
     "start_time": "2024-06-24T09:23:06.429353",
     "status": "completed"
    },
    "tags": []
   },
   "outputs": [
    {
     "data": {
      "text/html": [
       "<div>\n",
       "<style scoped>\n",
       "    .dataframe tbody tr th:only-of-type {\n",
       "        vertical-align: middle;\n",
       "    }\n",
       "\n",
       "    .dataframe tbody tr th {\n",
       "        vertical-align: top;\n",
       "    }\n",
       "\n",
       "    .dataframe thead tr th {\n",
       "        text-align: left;\n",
       "    }\n",
       "</style>\n",
       "<table border=\"1\" class=\"dataframe\">\n",
       "  <thead>\n",
       "    <tr>\n",
       "      <th></th>\n",
       "      <th>Features</th>\n",
       "      <th>Model</th>\n",
       "      <th>Cross Validation</th>\n",
       "      <th>Timesteps</th>\n",
       "      <th colspan=\"2\" halign=\"left\">RMSE Test</th>\n",
       "      <th colspan=\"2\" halign=\"left\">MAE Test</th>\n",
       "      <th colspan=\"2\" halign=\"left\">MAPE Test</th>\n",
       "      <th colspan=\"2\" halign=\"left\">R2 Test</th>\n",
       "    </tr>\n",
       "    <tr>\n",
       "      <th></th>\n",
       "      <th></th>\n",
       "      <th></th>\n",
       "      <th></th>\n",
       "      <th></th>\n",
       "      <th>mean</th>\n",
       "      <th>std</th>\n",
       "      <th>mean</th>\n",
       "      <th>std</th>\n",
       "      <th>mean</th>\n",
       "      <th>std</th>\n",
       "      <th>mean</th>\n",
       "      <th>std</th>\n",
       "    </tr>\n",
       "  </thead>\n",
       "  <tbody>\n",
       "    <tr>\n",
       "      <th>0</th>\n",
       "      <td>Chemical + CS7</td>\n",
       "      <td>LSTM</td>\n",
       "      <td>Blocking Time Series Split</td>\n",
       "      <td>1</td>\n",
       "      <td>7.133453</td>\n",
       "      <td>2.179458</td>\n",
       "      <td>5.681535</td>\n",
       "      <td>1.780065</td>\n",
       "      <td>0.140620</td>\n",
       "      <td>0.044740</td>\n",
       "      <td>-3.511618</td>\n",
       "      <td>2.760069</td>\n",
       "    </tr>\n",
       "    <tr>\n",
       "      <th>1</th>\n",
       "      <td>Chemical + CS7</td>\n",
       "      <td>LSTM</td>\n",
       "      <td>Blocking Time Series Split</td>\n",
       "      <td>7</td>\n",
       "      <td>6.156727</td>\n",
       "      <td>1.322723</td>\n",
       "      <td>5.009242</td>\n",
       "      <td>1.072933</td>\n",
       "      <td>0.123939</td>\n",
       "      <td>0.028595</td>\n",
       "      <td>-2.177237</td>\n",
       "      <td>1.554502</td>\n",
       "    </tr>\n",
       "    <tr>\n",
       "      <th>2</th>\n",
       "      <td>Chemical + CS7</td>\n",
       "      <td>LSTM</td>\n",
       "      <td>Blocking Time Series Split</td>\n",
       "      <td>14</td>\n",
       "      <td>8.319834</td>\n",
       "      <td>4.660270</td>\n",
       "      <td>6.747486</td>\n",
       "      <td>4.056084</td>\n",
       "      <td>0.165764</td>\n",
       "      <td>0.101758</td>\n",
       "      <td>-7.383635</td>\n",
       "      <td>8.641203</td>\n",
       "    </tr>\n",
       "    <tr>\n",
       "      <th>3</th>\n",
       "      <td>Chemical + CS7</td>\n",
       "      <td>LSTM</td>\n",
       "      <td>Out of time Split</td>\n",
       "      <td>1</td>\n",
       "      <td>1.922640</td>\n",
       "      <td>0.130397</td>\n",
       "      <td>1.510773</td>\n",
       "      <td>0.106623</td>\n",
       "      <td>0.036408</td>\n",
       "      <td>0.002300</td>\n",
       "      <td>0.720381</td>\n",
       "      <td>0.038635</td>\n",
       "    </tr>\n",
       "    <tr>\n",
       "      <th>4</th>\n",
       "      <td>Chemical + CS7</td>\n",
       "      <td>LSTM</td>\n",
       "      <td>Out of time Split</td>\n",
       "      <td>7</td>\n",
       "      <td>1.951128</td>\n",
       "      <td>0.264190</td>\n",
       "      <td>1.539832</td>\n",
       "      <td>0.167837</td>\n",
       "      <td>0.037502</td>\n",
       "      <td>0.004106</td>\n",
       "      <td>0.704785</td>\n",
       "      <td>0.082264</td>\n",
       "    </tr>\n",
       "    <tr>\n",
       "      <th>5</th>\n",
       "      <td>Chemical + CS7</td>\n",
       "      <td>LSTM</td>\n",
       "      <td>Out of time Split</td>\n",
       "      <td>14</td>\n",
       "      <td>2.171955</td>\n",
       "      <td>0.493095</td>\n",
       "      <td>1.747607</td>\n",
       "      <td>0.425955</td>\n",
       "      <td>0.042990</td>\n",
       "      <td>0.010327</td>\n",
       "      <td>0.616410</td>\n",
       "      <td>0.175653</td>\n",
       "    </tr>\n",
       "    <tr>\n",
       "      <th>6</th>\n",
       "      <td>Chemical + CS7</td>\n",
       "      <td>LSTM</td>\n",
       "      <td>Repeated KFold</td>\n",
       "      <td>1</td>\n",
       "      <td>1.347610</td>\n",
       "      <td>0.100299</td>\n",
       "      <td>1.038580</td>\n",
       "      <td>0.065057</td>\n",
       "      <td>0.025590</td>\n",
       "      <td>0.001537</td>\n",
       "      <td>0.850844</td>\n",
       "      <td>0.022467</td>\n",
       "    </tr>\n",
       "    <tr>\n",
       "      <th>7</th>\n",
       "      <td>Chemical + CS7</td>\n",
       "      <td>LSTM</td>\n",
       "      <td>Repeated KFold</td>\n",
       "      <td>7</td>\n",
       "      <td>1.862693</td>\n",
       "      <td>0.304944</td>\n",
       "      <td>1.550294</td>\n",
       "      <td>0.285381</td>\n",
       "      <td>0.037587</td>\n",
       "      <td>0.006816</td>\n",
       "      <td>0.711242</td>\n",
       "      <td>0.091002</td>\n",
       "    </tr>\n",
       "    <tr>\n",
       "      <th>8</th>\n",
       "      <td>Chemical + CS7</td>\n",
       "      <td>LSTM</td>\n",
       "      <td>Repeated KFold</td>\n",
       "      <td>14</td>\n",
       "      <td>1.388073</td>\n",
       "      <td>0.238320</td>\n",
       "      <td>1.044489</td>\n",
       "      <td>0.090244</td>\n",
       "      <td>0.025786</td>\n",
       "      <td>0.002301</td>\n",
       "      <td>0.841173</td>\n",
       "      <td>0.060110</td>\n",
       "    </tr>\n",
       "    <tr>\n",
       "      <th>9</th>\n",
       "      <td>Chemical + CS7</td>\n",
       "      <td>LSTM</td>\n",
       "      <td>Time Series Split</td>\n",
       "      <td>1</td>\n",
       "      <td>4.125702</td>\n",
       "      <td>3.375168</td>\n",
       "      <td>3.168909</td>\n",
       "      <td>2.944199</td>\n",
       "      <td>0.078017</td>\n",
       "      <td>0.072976</td>\n",
       "      <td>-1.564265</td>\n",
       "      <td>4.478838</td>\n",
       "    </tr>\n",
       "    <tr>\n",
       "      <th>10</th>\n",
       "      <td>Chemical + CS7</td>\n",
       "      <td>LSTM</td>\n",
       "      <td>Time Series Split</td>\n",
       "      <td>7</td>\n",
       "      <td>4.155825</td>\n",
       "      <td>3.833335</td>\n",
       "      <td>3.252614</td>\n",
       "      <td>3.073578</td>\n",
       "      <td>0.080589</td>\n",
       "      <td>0.075226</td>\n",
       "      <td>-1.900403</td>\n",
       "      <td>6.297458</td>\n",
       "    </tr>\n",
       "    <tr>\n",
       "      <th>11</th>\n",
       "      <td>Chemical + CS7</td>\n",
       "      <td>LSTM</td>\n",
       "      <td>Time Series Split</td>\n",
       "      <td>14</td>\n",
       "      <td>5.933351</td>\n",
       "      <td>6.561309</td>\n",
       "      <td>4.757540</td>\n",
       "      <td>5.833662</td>\n",
       "      <td>0.117638</td>\n",
       "      <td>0.143101</td>\n",
       "      <td>-6.189938</td>\n",
       "      <td>15.645552</td>\n",
       "    </tr>\n",
       "  </tbody>\n",
       "</table>\n",
       "</div>"
      ],
      "text/plain": [
       "          Features Model            Cross Validation Timesteps RMSE Test  \\\n",
       "                                                                    mean   \n",
       "0   Chemical + CS7  LSTM  Blocking Time Series Split         1  7.133453   \n",
       "1   Chemical + CS7  LSTM  Blocking Time Series Split         7  6.156727   \n",
       "2   Chemical + CS7  LSTM  Blocking Time Series Split        14  8.319834   \n",
       "3   Chemical + CS7  LSTM           Out of time Split         1  1.922640   \n",
       "4   Chemical + CS7  LSTM           Out of time Split         7  1.951128   \n",
       "5   Chemical + CS7  LSTM           Out of time Split        14  2.171955   \n",
       "6   Chemical + CS7  LSTM              Repeated KFold         1  1.347610   \n",
       "7   Chemical + CS7  LSTM              Repeated KFold         7  1.862693   \n",
       "8   Chemical + CS7  LSTM              Repeated KFold        14  1.388073   \n",
       "9   Chemical + CS7  LSTM           Time Series Split         1  4.125702   \n",
       "10  Chemical + CS7  LSTM           Time Series Split         7  4.155825   \n",
       "11  Chemical + CS7  LSTM           Time Series Split        14  5.933351   \n",
       "\n",
       "              MAE Test           MAPE Test             R2 Test             \n",
       "         std      mean       std      mean       std      mean        std  \n",
       "0   2.179458  5.681535  1.780065  0.140620  0.044740 -3.511618   2.760069  \n",
       "1   1.322723  5.009242  1.072933  0.123939  0.028595 -2.177237   1.554502  \n",
       "2   4.660270  6.747486  4.056084  0.165764  0.101758 -7.383635   8.641203  \n",
       "3   0.130397  1.510773  0.106623  0.036408  0.002300  0.720381   0.038635  \n",
       "4   0.264190  1.539832  0.167837  0.037502  0.004106  0.704785   0.082264  \n",
       "5   0.493095  1.747607  0.425955  0.042990  0.010327  0.616410   0.175653  \n",
       "6   0.100299  1.038580  0.065057  0.025590  0.001537  0.850844   0.022467  \n",
       "7   0.304944  1.550294  0.285381  0.037587  0.006816  0.711242   0.091002  \n",
       "8   0.238320  1.044489  0.090244  0.025786  0.002301  0.841173   0.060110  \n",
       "9   3.375168  3.168909  2.944199  0.078017  0.072976 -1.564265   4.478838  \n",
       "10  3.833335  3.252614  3.073578  0.080589  0.075226 -1.900403   6.297458  \n",
       "11  6.561309  4.757540  5.833662  0.117638  0.143101 -6.189938  15.645552  "
      ]
     },
     "execution_count": 33,
     "metadata": {},
     "output_type": "execute_result"
    },
    {
     "data": {
      "application/javascript": [
       "\n",
       "            setTimeout(function() {\n",
       "                var nbb_cell_id = 33;\n",
       "                var nbb_unformatted_code = \"pd.concat(results_to_save).reset_index().groupby(\\n    [\\\"Features\\\", \\\"Model\\\", \\\"Cross Validation\\\", \\\"Timesteps\\\"], dropna=False\\n)[[\\\"RMSE Test\\\", \\\"MAE Test\\\", \\\"MAPE Test\\\", \\\"R2 Test\\\"]].agg(\\n    [\\\"mean\\\", lambda series: pd.Series(series.std(ddof=0), name=\\\"std\\\")]\\n).reset_index().rename(\\n    columns={\\\"<lambda_0>\\\": \\\"std\\\"}\\n)\";\n",
       "                var nbb_formatted_code = \"pd.concat(results_to_save).reset_index().groupby(\\n    [\\\"Features\\\", \\\"Model\\\", \\\"Cross Validation\\\", \\\"Timesteps\\\"], dropna=False\\n)[[\\\"RMSE Test\\\", \\\"MAE Test\\\", \\\"MAPE Test\\\", \\\"R2 Test\\\"]].agg(\\n    [\\\"mean\\\", lambda series: pd.Series(series.std(ddof=0), name=\\\"std\\\")]\\n).reset_index().rename(\\n    columns={\\\"<lambda_0>\\\": \\\"std\\\"}\\n)\";\n",
       "                var nbb_cells = Jupyter.notebook.get_cells();\n",
       "                for (var i = 0; i < nbb_cells.length; ++i) {\n",
       "                    if (nbb_cells[i].input_prompt_number == nbb_cell_id) {\n",
       "                        if (nbb_cells[i].get_text() == nbb_unformatted_code) {\n",
       "                             nbb_cells[i].set_text(nbb_formatted_code);\n",
       "                        }\n",
       "                        break;\n",
       "                    }\n",
       "                }\n",
       "            }, 500);\n",
       "            "
      ],
      "text/plain": [
       "<IPython.core.display.Javascript object>"
      ]
     },
     "metadata": {},
     "output_type": "display_data"
    }
   ],
   "source": [
    "pd.concat(results_to_save).reset_index().groupby(\n",
    "    [\"Features\", \"Model\", \"Cross Validation\", \"Timesteps\"], dropna=False\n",
    ")[[\"RMSE Test\", \"MAE Test\", \"MAPE Test\", \"R2 Test\"]].agg(\n",
    "    [\"mean\", lambda series: pd.Series(series.std(ddof=0), name=\"std\")]\n",
    ").reset_index().rename(\n",
    "    columns={\"<lambda_0>\": \"std\"}\n",
    ")\n"
   ]
  },
  {
   "cell_type": "markdown",
   "id": "494400b1",
   "metadata": {
    "papermill": {
     "duration": 0.026344,
     "end_time": "2024-06-24T09:23:06.589830",
     "exception": false,
     "start_time": "2024-06-24T09:23:06.563486",
     "status": "completed"
    },
    "tags": []
   },
   "source": [
    "# Saving the results Dataframe"
   ]
  },
  {
   "cell_type": "markdown",
   "id": "8724903f",
   "metadata": {
    "papermill": {
     "duration": 0.020658,
     "end_time": "2024-06-24T09:23:06.652674",
     "exception": false,
     "start_time": "2024-06-24T09:23:06.632016",
     "status": "completed"
    },
    "tags": []
   },
   "source": [
    "## Saving the full dataframe"
   ]
  },
  {
   "cell_type": "code",
   "execution_count": 34,
   "id": "695e54d6",
   "metadata": {
    "execution": {
     "iopub.execute_input": "2024-06-24T09:23:06.690885Z",
     "iopub.status.busy": "2024-06-24T09:23:06.690559Z",
     "iopub.status.idle": "2024-06-24T09:23:06.719251Z",
     "shell.execute_reply": "2024-06-24T09:23:06.718042Z"
    },
    "papermill": {
     "duration": 0.049197,
     "end_time": "2024-06-24T09:23:06.721823",
     "exception": false,
     "start_time": "2024-06-24T09:23:06.672626",
     "status": "completed"
    },
    "tags": []
   },
   "outputs": [
    {
     "data": {
      "application/javascript": [
       "\n",
       "            setTimeout(function() {\n",
       "                var nbb_cell_id = 34;\n",
       "                var nbb_unformatted_code = \"path = \\\"../../../../../../reports/results/local_models/209/u/full/\\\"\\nfilename = f\\\"lstm_results_full_{index_to_save}.csv\\\"\\n\\npd.concat(results_to_save).to_csv(\\n    path_or_buf=path + filename,\\n    mode=\\\"w\\\",\\n    index=False,\\n    header=True,\\n)\";\n",
       "                var nbb_formatted_code = \"path = \\\"../../../../../../reports/results/local_models/209/u/full/\\\"\\nfilename = f\\\"lstm_results_full_{index_to_save}.csv\\\"\\n\\npd.concat(results_to_save).to_csv(\\n    path_or_buf=path + filename,\\n    mode=\\\"w\\\",\\n    index=False,\\n    header=True,\\n)\";\n",
       "                var nbb_cells = Jupyter.notebook.get_cells();\n",
       "                for (var i = 0; i < nbb_cells.length; ++i) {\n",
       "                    if (nbb_cells[i].input_prompt_number == nbb_cell_id) {\n",
       "                        if (nbb_cells[i].get_text() == nbb_unformatted_code) {\n",
       "                             nbb_cells[i].set_text(nbb_formatted_code);\n",
       "                        }\n",
       "                        break;\n",
       "                    }\n",
       "                }\n",
       "            }, 500);\n",
       "            "
      ],
      "text/plain": [
       "<IPython.core.display.Javascript object>"
      ]
     },
     "metadata": {},
     "output_type": "display_data"
    }
   ],
   "source": [
    "path = \"../../../../../../reports/results/local_models/209/u/full/\"\n",
    "filename = f\"lstm_results_full_{index_to_save}.csv\"\n",
    "\n",
    "pd.concat(results_to_save).to_csv(\n",
    "    path_or_buf=path + filename,\n",
    "    mode=\"w\",\n",
    "    index=False,\n",
    "    header=True,\n",
    ")"
   ]
  },
  {
   "cell_type": "code",
   "execution_count": 35,
   "id": "20a2fd26",
   "metadata": {
    "execution": {
     "iopub.execute_input": "2024-06-24T09:23:06.778424Z",
     "iopub.status.busy": "2024-06-24T09:23:06.777276Z",
     "iopub.status.idle": "2024-06-24T09:23:07.001585Z",
     "shell.execute_reply": "2024-06-24T09:23:07.000271Z"
    },
    "papermill": {
     "duration": 0.262321,
     "end_time": "2024-06-24T09:23:07.004142",
     "exception": false,
     "start_time": "2024-06-24T09:23:06.741821",
     "status": "completed"
    },
    "tags": []
   },
   "outputs": [
    {
     "data": {
      "application/javascript": [
       "\n",
       "            setTimeout(function() {\n",
       "                var nbb_cell_id = 35;\n",
       "                var nbb_unformatted_code = \"cols_groupby = [\\n    \\\"Category\\\",\\n    \\\"Company\\\",\\n    \\\"Data Shape\\\",\\n    \\\"Timesteps\\\",\\n    \\\"Features\\\",\\n    \\\"Model\\\",\\n    \\\"Cross Validation\\\",\\n    \\\"Cross Validation Params\\\",\\n]\\n\\ncols_agg = [\\\"RMSE Train\\\", \\\"MAE Train\\\", \\\"MAPE Train\\\", \\\"R2 Train\\\"] + [\\n    \\\"RMSE Test\\\",\\n    \\\"MAE Test\\\",\\n    \\\"MAPE Test\\\",\\n    \\\"R2 Test\\\",\\n]\\n\\npath = \\\"../../../../../../reports/results/local_models/209/u/grouped/\\\"\\nfilename = f\\\"lstm_results_grouped_{index_to_save}.csv\\\"\\n\\n\\ndf_results_to_save = (\\n    pd.concat(results_to_save)\\n    .groupby(cols_groupby, dropna=False)[cols_agg]\\n    .agg([\\\"mean\\\", lambda series: pd.Series(series.std(ddof=0), name=\\\"std\\\")])\\n    .reset_index()\\n    .rename(columns={\\\"<lambda_0>\\\": \\\"std\\\"})\\n)\\n\\ndf_results_to_save.to_csv(\\n    path_or_buf=path + filename,\\n    mode=\\\"w\\\",\\n    index=False,\\n    header=True,\\n)\";\n",
       "                var nbb_formatted_code = \"cols_groupby = [\\n    \\\"Category\\\",\\n    \\\"Company\\\",\\n    \\\"Data Shape\\\",\\n    \\\"Timesteps\\\",\\n    \\\"Features\\\",\\n    \\\"Model\\\",\\n    \\\"Cross Validation\\\",\\n    \\\"Cross Validation Params\\\",\\n]\\n\\ncols_agg = [\\\"RMSE Train\\\", \\\"MAE Train\\\", \\\"MAPE Train\\\", \\\"R2 Train\\\"] + [\\n    \\\"RMSE Test\\\",\\n    \\\"MAE Test\\\",\\n    \\\"MAPE Test\\\",\\n    \\\"R2 Test\\\",\\n]\\n\\npath = \\\"../../../../../../reports/results/local_models/209/u/grouped/\\\"\\nfilename = f\\\"lstm_results_grouped_{index_to_save}.csv\\\"\\n\\n\\ndf_results_to_save = (\\n    pd.concat(results_to_save)\\n    .groupby(cols_groupby, dropna=False)[cols_agg]\\n    .agg([\\\"mean\\\", lambda series: pd.Series(series.std(ddof=0), name=\\\"std\\\")])\\n    .reset_index()\\n    .rename(columns={\\\"<lambda_0>\\\": \\\"std\\\"})\\n)\\n\\ndf_results_to_save.to_csv(\\n    path_or_buf=path + filename,\\n    mode=\\\"w\\\",\\n    index=False,\\n    header=True,\\n)\";\n",
       "                var nbb_cells = Jupyter.notebook.get_cells();\n",
       "                for (var i = 0; i < nbb_cells.length; ++i) {\n",
       "                    if (nbb_cells[i].input_prompt_number == nbb_cell_id) {\n",
       "                        if (nbb_cells[i].get_text() == nbb_unformatted_code) {\n",
       "                             nbb_cells[i].set_text(nbb_formatted_code);\n",
       "                        }\n",
       "                        break;\n",
       "                    }\n",
       "                }\n",
       "            }, 500);\n",
       "            "
      ],
      "text/plain": [
       "<IPython.core.display.Javascript object>"
      ]
     },
     "metadata": {},
     "output_type": "display_data"
    }
   ],
   "source": [
    "cols_groupby = [\n",
    "    \"Category\",\n",
    "    \"Company\",\n",
    "    \"Data Shape\",\n",
    "    \"Timesteps\",\n",
    "    \"Features\",\n",
    "    \"Model\",\n",
    "    \"Cross Validation\",\n",
    "    \"Cross Validation Params\",\n",
    "]\n",
    "\n",
    "cols_agg = [\"RMSE Train\", \"MAE Train\", \"MAPE Train\", \"R2 Train\"] + [\n",
    "    \"RMSE Test\",\n",
    "    \"MAE Test\",\n",
    "    \"MAPE Test\",\n",
    "    \"R2 Test\",\n",
    "]\n",
    "\n",
    "path = \"../../../../../../reports/results/local_models/209/u/grouped/\"\n",
    "filename = f\"lstm_results_grouped_{index_to_save}.csv\"\n",
    "\n",
    "\n",
    "df_results_to_save = (\n",
    "    pd.concat(results_to_save)\n",
    "    .groupby(cols_groupby, dropna=False)[cols_agg]\n",
    "    .agg([\"mean\", lambda series: pd.Series(series.std(ddof=0), name=\"std\")])\n",
    "    .reset_index()\n",
    "    .rename(columns={\"<lambda_0>\": \"std\"})\n",
    ")\n",
    "\n",
    "df_results_to_save.to_csv(\n",
    "    path_or_buf=path + filename,\n",
    "    mode=\"w\",\n",
    "    index=False,\n",
    "    header=True,\n",
    ")"
   ]
  },
  {
   "cell_type": "code",
   "execution_count": null,
   "id": "34b7ddce",
   "metadata": {
    "papermill": {
     "duration": 0.025696,
     "end_time": "2024-06-24T09:23:07.056400",
     "exception": false,
     "start_time": "2024-06-24T09:23:07.030704",
     "status": "completed"
    },
    "tags": []
   },
   "outputs": [],
   "source": []
  }
 ],
 "metadata": {
  "kernelspec": {
   "display_name": "ccs28-venv",
   "language": "python",
   "name": "ccs28-venv"
  },
  "language_info": {
   "codemirror_mode": {
    "name": "ipython",
    "version": 3
   },
   "file_extension": ".py",
   "mimetype": "text/x-python",
   "name": "python",
   "nbconvert_exporter": "python",
   "pygments_lexer": "ipython3",
   "version": "3.10.12"
  },
  "papermill": {
   "default_parameters": {},
   "duration": 1689.002502,
   "end_time": "2024-06-24T09:23:09.702650",
   "environment_variables": {},
   "exception": null,
   "input_path": "/home/peressim/projects/ccs28-ml-modelling/notebooks/modelling/local_models/209/lstm/u/chemical-cs7-ds.ipynb",
   "output_path": "/home/peressim/projects/ccs28-ml-modelling/notebooks/modelling/local_models/209/lstm/u/chemical-cs7-ds.ipynb",
   "parameters": {},
   "start_time": "2024-06-24T08:55:00.700148",
   "version": "2.5.0"
  }
 },
 "nbformat": 4,
 "nbformat_minor": 5
}