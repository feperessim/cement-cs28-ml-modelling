{
 "cells": [
  {
   "cell_type": "code",
   "execution_count": 1,
   "id": "75570759",
   "metadata": {
    "execution": {
     "iopub.execute_input": "2024-03-02T04:57:09.109856Z",
     "iopub.status.busy": "2024-03-02T04:57:09.109389Z",
     "iopub.status.idle": "2024-03-02T04:57:09.206259Z",
     "shell.execute_reply": "2024-03-02T04:57:09.205262Z"
    },
    "papermill": {
     "duration": 0.106357,
     "end_time": "2024-03-02T04:57:09.208530",
     "exception": false,
     "start_time": "2024-03-02T04:57:09.102173",
     "status": "completed"
    },
    "tags": []
   },
   "outputs": [
    {
     "data": {
      "application/javascript": [
       "\n",
       "            setTimeout(function() {\n",
       "                var nbb_cell_id = 1;\n",
       "                var nbb_unformatted_code = \"%load_ext nb_black\";\n",
       "                var nbb_formatted_code = \"%load_ext nb_black\";\n",
       "                var nbb_cells = Jupyter.notebook.get_cells();\n",
       "                for (var i = 0; i < nbb_cells.length; ++i) {\n",
       "                    if (nbb_cells[i].input_prompt_number == nbb_cell_id) {\n",
       "                        if (nbb_cells[i].get_text() == nbb_unformatted_code) {\n",
       "                             nbb_cells[i].set_text(nbb_formatted_code);\n",
       "                        }\n",
       "                        break;\n",
       "                    }\n",
       "                }\n",
       "            }, 500);\n",
       "            "
      ],
      "text/plain": [
       "<IPython.core.display.Javascript object>"
      ]
     },
     "metadata": {},
     "output_type": "display_data"
    }
   ],
   "source": [
    "%load_ext nb_black"
   ]
  },
  {
   "cell_type": "code",
   "execution_count": 2,
   "id": "03c06638",
   "metadata": {
    "execution": {
     "iopub.execute_input": "2024-03-02T04:57:09.221085Z",
     "iopub.status.busy": "2024-03-02T04:57:09.220624Z",
     "iopub.status.idle": "2024-03-02T04:57:10.856400Z",
     "shell.execute_reply": "2024-03-02T04:57:10.854744Z"
    },
    "papermill": {
     "duration": 1.645357,
     "end_time": "2024-03-02T04:57:10.859469",
     "exception": false,
     "start_time": "2024-03-02T04:57:09.214112",
     "status": "completed"
    },
    "tags": []
   },
   "outputs": [
    {
     "data": {
      "application/javascript": [
       "\n",
       "            setTimeout(function() {\n",
       "                var nbb_cell_id = 2;\n",
       "                var nbb_unformatted_code = \"# OS Features\\nimport os\\n\\n# Database Reading and Manipulation\\nimport pandas as pd\\n\\n# Linear Algebra\\nimport numpy as np\\n\\n# Plotting\\nimport matplotlib.pyplot as plt\\n\\n# Processing results\\nimport json\\n\\n# Model Selection\\nfrom sklearn.model_selection import train_test_split\\nfrom sklearn.model_selection import TimeSeriesSplit\\nfrom sklearn.model_selection import RepeatedKFold\\nfrom sklearn.model_selection import cross_val_score\\nfrom sklearn.model_selection import cross_validate\\nfrom sklearn.model_selection import GridSearchCV\\n\\n# Custom modules\\n## Model selection\\nfrom src.cross_validation.blocking_time_series_split import BlockingTimeSeriesSplit\\n\\n## Function to print scores\\nfrom src.utils.print_scores import print_scores\\n\\n## Function to calculate score regression metrics\\nfrom src.utils.score_regression_metrics import score_regression_metrics\\n\\n## Function to fill the results metric dict\\nfrom src.utils.fill_results_dict import fill_results_dict\\n\\n# Modeling\\nfrom sklearn.linear_model import LinearRegression\\n\\n# Preprocessing - Data standardization\\nfrom sklearn.preprocessing import StandardScaler\\n\\n# Metrics\\nfrom sklearn.metrics import mean_squared_error\\nfrom sklearn.metrics import mean_absolute_error\\nfrom sklearn.metrics import mean_absolute_percentage_error\\nfrom sklearn.metrics import r2_score\\n\\n# Pipeline\\nfrom sklearn.pipeline import Pipeline\\n\\n# Data imputation\\nfrom sklearn.impute import SimpleImputer\";\n",
       "                var nbb_formatted_code = \"# OS Features\\nimport os\\n\\n# Database Reading and Manipulation\\nimport pandas as pd\\n\\n# Linear Algebra\\nimport numpy as np\\n\\n# Plotting\\nimport matplotlib.pyplot as plt\\n\\n# Processing results\\nimport json\\n\\n# Model Selection\\nfrom sklearn.model_selection import train_test_split\\nfrom sklearn.model_selection import TimeSeriesSplit\\nfrom sklearn.model_selection import RepeatedKFold\\nfrom sklearn.model_selection import cross_val_score\\nfrom sklearn.model_selection import cross_validate\\nfrom sklearn.model_selection import GridSearchCV\\n\\n# Custom modules\\n## Model selection\\nfrom src.cross_validation.blocking_time_series_split import BlockingTimeSeriesSplit\\n\\n## Function to print scores\\nfrom src.utils.print_scores import print_scores\\n\\n## Function to calculate score regression metrics\\nfrom src.utils.score_regression_metrics import score_regression_metrics\\n\\n## Function to fill the results metric dict\\nfrom src.utils.fill_results_dict import fill_results_dict\\n\\n# Modeling\\nfrom sklearn.linear_model import LinearRegression\\n\\n# Preprocessing - Data standardization\\nfrom sklearn.preprocessing import StandardScaler\\n\\n# Metrics\\nfrom sklearn.metrics import mean_squared_error\\nfrom sklearn.metrics import mean_absolute_error\\nfrom sklearn.metrics import mean_absolute_percentage_error\\nfrom sklearn.metrics import r2_score\\n\\n# Pipeline\\nfrom sklearn.pipeline import Pipeline\\n\\n# Data imputation\\nfrom sklearn.impute import SimpleImputer\";\n",
       "                var nbb_cells = Jupyter.notebook.get_cells();\n",
       "                for (var i = 0; i < nbb_cells.length; ++i) {\n",
       "                    if (nbb_cells[i].input_prompt_number == nbb_cell_id) {\n",
       "                        if (nbb_cells[i].get_text() == nbb_unformatted_code) {\n",
       "                             nbb_cells[i].set_text(nbb_formatted_code);\n",
       "                        }\n",
       "                        break;\n",
       "                    }\n",
       "                }\n",
       "            }, 500);\n",
       "            "
      ],
      "text/plain": [
       "<IPython.core.display.Javascript object>"
      ]
     },
     "metadata": {},
     "output_type": "display_data"
    }
   ],
   "source": [
    "# OS Features\n",
    "import os\n",
    "\n",
    "# Database Reading and Manipulation\n",
    "import pandas as pd\n",
    "\n",
    "# Linear Algebra\n",
    "import numpy as np\n",
    "\n",
    "# Plotting\n",
    "import matplotlib.pyplot as plt\n",
    "\n",
    "# Processing results\n",
    "import json\n",
    "\n",
    "# Model Selection\n",
    "from sklearn.model_selection import train_test_split\n",
    "from sklearn.model_selection import TimeSeriesSplit\n",
    "from sklearn.model_selection import RepeatedKFold\n",
    "from sklearn.model_selection import cross_val_score\n",
    "from sklearn.model_selection import cross_validate\n",
    "from sklearn.model_selection import GridSearchCV\n",
    "\n",
    "# Custom modules\n",
    "## Model selection\n",
    "from src.cross_validation.blocking_time_series_split import BlockingTimeSeriesSplit\n",
    "\n",
    "## Function to print scores\n",
    "from src.utils.print_scores import print_scores\n",
    "\n",
    "## Function to calculate score regression metrics\n",
    "from src.utils.score_regression_metrics import score_regression_metrics\n",
    "\n",
    "## Function to fill the results metric dict\n",
    "from src.utils.fill_results_dict import fill_results_dict\n",
    "\n",
    "# Modeling\n",
    "from sklearn.linear_model import LinearRegression\n",
    "\n",
    "# Preprocessing - Data standardization\n",
    "from sklearn.preprocessing import StandardScaler\n",
    "\n",
    "# Metrics\n",
    "from sklearn.metrics import mean_squared_error\n",
    "from sklearn.metrics import mean_absolute_error\n",
    "from sklearn.metrics import mean_absolute_percentage_error\n",
    "from sklearn.metrics import r2_score\n",
    "\n",
    "# Pipeline\n",
    "from sklearn.pipeline import Pipeline\n",
    "\n",
    "# Data imputation\n",
    "from sklearn.impute import SimpleImputer"
   ]
  },
  {
   "cell_type": "markdown",
   "id": "fd674230",
   "metadata": {
    "papermill": {
     "duration": 0.006697,
     "end_time": "2024-03-02T04:57:10.873311",
     "exception": false,
     "start_time": "2024-03-02T04:57:10.866614",
     "status": "completed"
    },
    "tags": []
   },
   "source": [
    "# Functions and definitions"
   ]
  },
  {
   "cell_type": "code",
   "execution_count": 3,
   "id": "302f9855",
   "metadata": {
    "execution": {
     "iopub.execute_input": "2024-03-02T04:57:10.887192Z",
     "iopub.status.busy": "2024-03-02T04:57:10.886513Z",
     "iopub.status.idle": "2024-03-02T04:57:10.899281Z",
     "shell.execute_reply": "2024-03-02T04:57:10.897770Z"
    },
    "papermill": {
     "duration": 0.022615,
     "end_time": "2024-03-02T04:57:10.901921",
     "exception": false,
     "start_time": "2024-03-02T04:57:10.879306",
     "status": "completed"
    },
    "tags": []
   },
   "outputs": [
    {
     "data": {
      "application/javascript": [
       "\n",
       "            setTimeout(function() {\n",
       "                var nbb_cell_id = 3;\n",
       "                var nbb_unformatted_code = \"SEED = 47\\nMETRICS = (\\n    \\\"neg_root_mean_squared_error\\\",\\n    \\\"neg_mean_absolute_error\\\",\\n    \\\"neg_mean_absolute_percentage_error\\\",\\n    \\\"r2\\\",\\n)\\nMETRICS_DICT = {\\n    \\\"neg_root_mean_squared_error\\\": \\\"RMSE\\\",\\n    \\\"neg_mean_absolute_error\\\": \\\"MAE\\\",\\n    \\\"neg_mean_absolute_percentage_error\\\": \\\"MAPE\\\",\\n    \\\"r2\\\": \\\"R2\\\",\\n}\";\n",
       "                var nbb_formatted_code = \"SEED = 47\\nMETRICS = (\\n    \\\"neg_root_mean_squared_error\\\",\\n    \\\"neg_mean_absolute_error\\\",\\n    \\\"neg_mean_absolute_percentage_error\\\",\\n    \\\"r2\\\",\\n)\\nMETRICS_DICT = {\\n    \\\"neg_root_mean_squared_error\\\": \\\"RMSE\\\",\\n    \\\"neg_mean_absolute_error\\\": \\\"MAE\\\",\\n    \\\"neg_mean_absolute_percentage_error\\\": \\\"MAPE\\\",\\n    \\\"r2\\\": \\\"R2\\\",\\n}\";\n",
       "                var nbb_cells = Jupyter.notebook.get_cells();\n",
       "                for (var i = 0; i < nbb_cells.length; ++i) {\n",
       "                    if (nbb_cells[i].input_prompt_number == nbb_cell_id) {\n",
       "                        if (nbb_cells[i].get_text() == nbb_unformatted_code) {\n",
       "                             nbb_cells[i].set_text(nbb_formatted_code);\n",
       "                        }\n",
       "                        break;\n",
       "                    }\n",
       "                }\n",
       "            }, 500);\n",
       "            "
      ],
      "text/plain": [
       "<IPython.core.display.Javascript object>"
      ]
     },
     "metadata": {},
     "output_type": "display_data"
    }
   ],
   "source": [
    "SEED = 47\n",
    "METRICS = (\n",
    "    \"neg_root_mean_squared_error\",\n",
    "    \"neg_mean_absolute_error\",\n",
    "    \"neg_mean_absolute_percentage_error\",\n",
    "    \"r2\",\n",
    ")\n",
    "METRICS_DICT = {\n",
    "    \"neg_root_mean_squared_error\": \"RMSE\",\n",
    "    \"neg_mean_absolute_error\": \"MAE\",\n",
    "    \"neg_mean_absolute_percentage_error\": \"MAPE\",\n",
    "    \"r2\": \"R2\",\n",
    "}"
   ]
  },
  {
   "cell_type": "markdown",
   "id": "616ab1c9",
   "metadata": {
    "papermill": {
     "duration": 0.005471,
     "end_time": "2024-03-02T04:57:10.912752",
     "exception": false,
     "start_time": "2024-03-02T04:57:10.907281",
     "status": "completed"
    },
    "tags": []
   },
   "source": [
    "## Defining a dataframe structure to save the results"
   ]
  },
  {
   "cell_type": "code",
   "execution_count": 4,
   "id": "c1899f02",
   "metadata": {
    "execution": {
     "iopub.execute_input": "2024-03-02T04:57:10.926114Z",
     "iopub.status.busy": "2024-03-02T04:57:10.925188Z",
     "iopub.status.idle": "2024-03-02T04:57:10.942195Z",
     "shell.execute_reply": "2024-03-02T04:57:10.940874Z"
    },
    "papermill": {
     "duration": 0.027258,
     "end_time": "2024-03-02T04:57:10.944925",
     "exception": false,
     "start_time": "2024-03-02T04:57:10.917667",
     "status": "completed"
    },
    "tags": []
   },
   "outputs": [
    {
     "data": {
      "application/javascript": [
       "\n",
       "            setTimeout(function() {\n",
       "                var nbb_cell_id = 4;\n",
       "                var nbb_unformatted_code = \"results_to_save = []\\n\\nresults_dict = {\\n    \\\"Category\\\": \\\"Local Model\\\",\\n    \\\"Company\\\": \\\"209\\\",\\n    \\\"Plant\\\": \\\"S\\\",\\n    \\\"Features\\\": \\\"Chemical + Physical\\\",\\n    \\\"Data Shape\\\": None,\\n    \\\"Timesteps\\\": None,\\n    \\\"Model\\\": \\\"Linear Regression\\\",\\n    \\\"Model Params\\\": None,\\n    \\\"Scaler\\\": \\\"Standard Scaler\\\",\\n    \\\"Scaler Params\\\": None,\\n    \\\"Imputer\\\": \\\"Median\\\",\\n    \\\"Imputer Params\\\": None,\\n    \\\"Cross Validation\\\": None,\\n    \\\"Cross Validation Params\\\": np.nan,\\n    \\\"RMSE Train\\\": np.nan,\\n    \\\"MAE Train\\\": np.nan,\\n    \\\"MAPE Train\\\": np.nan,\\n    \\\"R2 Train\\\": np.nan,\\n    \\\"RMSE Test\\\": np.nan,\\n    \\\"MAE Test\\\": np.nan,\\n    \\\"MAPE Test\\\": np.nan,\\n    \\\"R2 Test\\\": np.nan,\\n}\";\n",
       "                var nbb_formatted_code = \"results_to_save = []\\n\\nresults_dict = {\\n    \\\"Category\\\": \\\"Local Model\\\",\\n    \\\"Company\\\": \\\"209\\\",\\n    \\\"Plant\\\": \\\"S\\\",\\n    \\\"Features\\\": \\\"Chemical + Physical\\\",\\n    \\\"Data Shape\\\": None,\\n    \\\"Timesteps\\\": None,\\n    \\\"Model\\\": \\\"Linear Regression\\\",\\n    \\\"Model Params\\\": None,\\n    \\\"Scaler\\\": \\\"Standard Scaler\\\",\\n    \\\"Scaler Params\\\": None,\\n    \\\"Imputer\\\": \\\"Median\\\",\\n    \\\"Imputer Params\\\": None,\\n    \\\"Cross Validation\\\": None,\\n    \\\"Cross Validation Params\\\": np.nan,\\n    \\\"RMSE Train\\\": np.nan,\\n    \\\"MAE Train\\\": np.nan,\\n    \\\"MAPE Train\\\": np.nan,\\n    \\\"R2 Train\\\": np.nan,\\n    \\\"RMSE Test\\\": np.nan,\\n    \\\"MAE Test\\\": np.nan,\\n    \\\"MAPE Test\\\": np.nan,\\n    \\\"R2 Test\\\": np.nan,\\n}\";\n",
       "                var nbb_cells = Jupyter.notebook.get_cells();\n",
       "                for (var i = 0; i < nbb_cells.length; ++i) {\n",
       "                    if (nbb_cells[i].input_prompt_number == nbb_cell_id) {\n",
       "                        if (nbb_cells[i].get_text() == nbb_unformatted_code) {\n",
       "                             nbb_cells[i].set_text(nbb_formatted_code);\n",
       "                        }\n",
       "                        break;\n",
       "                    }\n",
       "                }\n",
       "            }, 500);\n",
       "            "
      ],
      "text/plain": [
       "<IPython.core.display.Javascript object>"
      ]
     },
     "metadata": {},
     "output_type": "display_data"
    }
   ],
   "source": [
    "results_to_save = []\n",
    "\n",
    "results_dict = {\n",
    "    \"Category\": \"Local Model\",\n",
    "    \"Company\": \"209\",\n",
    "    \"Plant\": \"S\",\n",
    "    \"Features\": \"Chemical + Physical\",\n",
    "    \"Data Shape\": None,\n",
    "    \"Timesteps\": None,\n",
    "    \"Model\": \"Linear Regression\",\n",
    "    \"Model Params\": None,\n",
    "    \"Scaler\": \"Standard Scaler\",\n",
    "    \"Scaler Params\": None,\n",
    "    \"Imputer\": \"Median\",\n",
    "    \"Imputer Params\": None,\n",
    "    \"Cross Validation\": None,\n",
    "    \"Cross Validation Params\": np.nan,\n",
    "    \"RMSE Train\": np.nan,\n",
    "    \"MAE Train\": np.nan,\n",
    "    \"MAPE Train\": np.nan,\n",
    "    \"R2 Train\": np.nan,\n",
    "    \"RMSE Test\": np.nan,\n",
    "    \"MAE Test\": np.nan,\n",
    "    \"MAPE Test\": np.nan,\n",
    "    \"R2 Test\": np.nan,\n",
    "}"
   ]
  },
  {
   "cell_type": "markdown",
   "id": "299b8ab2",
   "metadata": {
    "papermill": {
     "duration": 0.005875,
     "end_time": "2024-03-02T04:57:10.956506",
     "exception": false,
     "start_time": "2024-03-02T04:57:10.950631",
     "status": "completed"
    },
    "tags": []
   },
   "source": [
    "# Reading the dataset"
   ]
  },
  {
   "cell_type": "code",
   "execution_count": 5,
   "id": "18950010",
   "metadata": {
    "execution": {
     "iopub.execute_input": "2024-03-02T04:57:10.973173Z",
     "iopub.status.busy": "2024-03-02T04:57:10.971957Z",
     "iopub.status.idle": "2024-03-02T04:57:10.995276Z",
     "shell.execute_reply": "2024-03-02T04:57:10.993936Z"
    },
    "papermill": {
     "duration": 0.034815,
     "end_time": "2024-03-02T04:57:10.998093",
     "exception": false,
     "start_time": "2024-03-02T04:57:10.963278",
     "status": "completed"
    },
    "tags": []
   },
   "outputs": [
    {
     "data": {
      "application/javascript": [
       "\n",
       "            setTimeout(function() {\n",
       "                var nbb_cell_id = 5;\n",
       "                var nbb_unformatted_code = \"df = pd.read_csv(\\\"../../../../../data/processed/209/s.csv\\\")\";\n",
       "                var nbb_formatted_code = \"df = pd.read_csv(\\\"../../../../../data/processed/209/s.csv\\\")\";\n",
       "                var nbb_cells = Jupyter.notebook.get_cells();\n",
       "                for (var i = 0; i < nbb_cells.length; ++i) {\n",
       "                    if (nbb_cells[i].input_prompt_number == nbb_cell_id) {\n",
       "                        if (nbb_cells[i].get_text() == nbb_unformatted_code) {\n",
       "                             nbb_cells[i].set_text(nbb_formatted_code);\n",
       "                        }\n",
       "                        break;\n",
       "                    }\n",
       "                }\n",
       "            }, 500);\n",
       "            "
      ],
      "text/plain": [
       "<IPython.core.display.Javascript object>"
      ]
     },
     "metadata": {},
     "output_type": "display_data"
    }
   ],
   "source": [
    "df = pd.read_csv(\"../../../../../data/processed/209/s.csv\")"
   ]
  },
  {
   "cell_type": "markdown",
   "id": "2c3ab270",
   "metadata": {
    "papermill": {
     "duration": 0.005605,
     "end_time": "2024-03-02T04:57:11.010978",
     "exception": false,
     "start_time": "2024-03-02T04:57:11.005373",
     "status": "completed"
    },
    "tags": []
   },
   "source": [
    "## Defining Features\n",
    "\n",
    "In this set of experiments we use all available features"
   ]
  },
  {
   "cell_type": "code",
   "execution_count": 6,
   "id": "f8bda715",
   "metadata": {
    "execution": {
     "iopub.execute_input": "2024-03-02T04:57:11.026351Z",
     "iopub.status.busy": "2024-03-02T04:57:11.025975Z",
     "iopub.status.idle": "2024-03-02T04:57:11.039106Z",
     "shell.execute_reply": "2024-03-02T04:57:11.037669Z"
    },
    "papermill": {
     "duration": 0.02493,
     "end_time": "2024-03-02T04:57:11.042659",
     "exception": false,
     "start_time": "2024-03-02T04:57:11.017729",
     "status": "completed"
    },
    "tags": []
   },
   "outputs": [
    {
     "data": {
      "application/javascript": [
       "\n",
       "            setTimeout(function() {\n",
       "                var nbb_cell_id = 6;\n",
       "                var nbb_unformatted_code = \"df_copy = df.copy().drop([\\\"Cement_Type\\\"], axis=1)\";\n",
       "                var nbb_formatted_code = \"df_copy = df.copy().drop([\\\"Cement_Type\\\"], axis=1)\";\n",
       "                var nbb_cells = Jupyter.notebook.get_cells();\n",
       "                for (var i = 0; i < nbb_cells.length; ++i) {\n",
       "                    if (nbb_cells[i].input_prompt_number == nbb_cell_id) {\n",
       "                        if (nbb_cells[i].get_text() == nbb_unformatted_code) {\n",
       "                             nbb_cells[i].set_text(nbb_formatted_code);\n",
       "                        }\n",
       "                        break;\n",
       "                    }\n",
       "                }\n",
       "            }, 500);\n",
       "            "
      ],
      "text/plain": [
       "<IPython.core.display.Javascript object>"
      ]
     },
     "metadata": {},
     "output_type": "display_data"
    }
   ],
   "source": [
    "df_copy = df.copy().drop([\"Cement_Type\"], axis=1)"
   ]
  },
  {
   "cell_type": "markdown",
   "id": "20a0f30b",
   "metadata": {
    "papermill": {
     "duration": 0.007974,
     "end_time": "2024-03-02T04:57:11.058565",
     "exception": false,
     "start_time": "2024-03-02T04:57:11.050591",
     "status": "completed"
    },
    "tags": []
   },
   "source": [
    "# 1. Linear Regression"
   ]
  },
  {
   "cell_type": "markdown",
   "id": "53e5ae7f",
   "metadata": {
    "papermill": {
     "duration": 0.007619,
     "end_time": "2024-03-02T04:57:11.073748",
     "exception": false,
     "start_time": "2024-03-02T04:57:11.066129",
     "status": "completed"
    },
    "tags": []
   },
   "source": [
    "<h2>1. Dataset: df_copy</h2> <br>In this dataset all features are used."
   ]
  },
  {
   "cell_type": "code",
   "execution_count": 7,
   "id": "3fd6a091",
   "metadata": {
    "execution": {
     "iopub.execute_input": "2024-03-02T04:57:11.093132Z",
     "iopub.status.busy": "2024-03-02T04:57:11.092598Z",
     "iopub.status.idle": "2024-03-02T04:57:11.107585Z",
     "shell.execute_reply": "2024-03-02T04:57:11.106171Z"
    },
    "papermill": {
     "duration": 0.027958,
     "end_time": "2024-03-02T04:57:11.110103",
     "exception": false,
     "start_time": "2024-03-02T04:57:11.082145",
     "status": "completed"
    },
    "tags": []
   },
   "outputs": [
    {
     "data": {
      "application/javascript": [
       "\n",
       "            setTimeout(function() {\n",
       "                var nbb_cell_id = 7;\n",
       "                var nbb_unformatted_code = \"y = df_copy.pop(\\\"CS28\\\").values\\nx = df_copy.drop([\\\"Date\\\"], axis=1)\\ndates = df[\\\"Date\\\"].copy()\";\n",
       "                var nbb_formatted_code = \"y = df_copy.pop(\\\"CS28\\\").values\\nx = df_copy.drop([\\\"Date\\\"], axis=1)\\ndates = df[\\\"Date\\\"].copy()\";\n",
       "                var nbb_cells = Jupyter.notebook.get_cells();\n",
       "                for (var i = 0; i < nbb_cells.length; ++i) {\n",
       "                    if (nbb_cells[i].input_prompt_number == nbb_cell_id) {\n",
       "                        if (nbb_cells[i].get_text() == nbb_unformatted_code) {\n",
       "                             nbb_cells[i].set_text(nbb_formatted_code);\n",
       "                        }\n",
       "                        break;\n",
       "                    }\n",
       "                }\n",
       "            }, 500);\n",
       "            "
      ],
      "text/plain": [
       "<IPython.core.display.Javascript object>"
      ]
     },
     "metadata": {},
     "output_type": "display_data"
    }
   ],
   "source": [
    "y = df_copy.pop(\"CS28\").values\n",
    "x = df_copy.drop([\"Date\"], axis=1)\n",
    "dates = df[\"Date\"].copy()"
   ]
  },
  {
   "cell_type": "markdown",
   "id": "cd27e2f4",
   "metadata": {
    "papermill": {
     "duration": 0.00701,
     "end_time": "2024-03-02T04:57:11.124686",
     "exception": false,
     "start_time": "2024-03-02T04:57:11.117676",
     "status": "completed"
    },
    "tags": []
   },
   "source": [
    "## 1.1 Repeated KFold Cross validation\n",
    "\n",
    "<b>Dataset shape:</b> (594, 38)<br>\n",
    "<b>Repeats:</b>10<br>\n",
    "<b>Splits:</b>10<br>\n",
    "    1. 10 folds of 59 samples each\n",
    "    2. 90% train (535 samples each fold)\n",
    "    3. 10% test (59 samples each fold)\n",
    "<b>Total:</b> 100 models<br>"
   ]
  },
  {
   "cell_type": "code",
   "execution_count": 8,
   "id": "272d207f",
   "metadata": {
    "execution": {
     "iopub.execute_input": "2024-03-02T04:57:11.141143Z",
     "iopub.status.busy": "2024-03-02T04:57:11.140598Z",
     "iopub.status.idle": "2024-03-02T04:57:12.858306Z",
     "shell.execute_reply": "2024-03-02T04:57:12.855673Z"
    },
    "papermill": {
     "duration": 1.729611,
     "end_time": "2024-03-02T04:57:12.861913",
     "exception": false,
     "start_time": "2024-03-02T04:57:11.132302",
     "status": "completed"
    },
    "tags": []
   },
   "outputs": [
    {
     "name": "stdout",
     "output_type": "stream",
     "text": [
      "Repeated Cross Validation:\n",
      "Repeats: 3\n",
      "n_splits: 5\n",
      "\n",
      "******\n",
      "[TRAIN]\n",
      "******\n",
      "RMSE: -0.765 (0.025)\n",
      "MAE: -0.586 (0.007)\n",
      "MAPE: -0.015 (0.000)\n",
      "R2: 0.979 (0.001)\n",
      "\n",
      "======================\n",
      "\n",
      "******\n",
      "[TEST]\n",
      "******\n",
      "RMSE: -0.842 (0.141)\n",
      "MAE: -0.604 (0.031)\n",
      "MAPE: -0.015 (0.001)\n",
      "R2: 0.973 (0.010)\n",
      "\n",
      "======================\n",
      "\n"
     ]
    },
    {
     "data": {
      "application/javascript": [
       "\n",
       "            setTimeout(function() {\n",
       "                var nbb_cell_id = 8;\n",
       "                var nbb_unformatted_code = \"repeats = 3\\nn_splits = 5\\npipeline = Pipeline(\\n    [\\n        (\\\"imputer\\\", SimpleImputer(strategy=\\\"median\\\")),\\n        (\\\"transformer\\\", StandardScaler()),\\n        (\\\"estimator\\\", LinearRegression()),\\n    ]\\n)\\ncv = RepeatedKFold(n_splits=n_splits, n_repeats=repeats, random_state=SEED)\\nscores = cross_validate(\\n    pipeline,\\n    x,\\n    y,\\n    scoring=METRICS,\\n    cv=cv,\\n    n_jobs=-1,\\n    return_train_score=True,\\n)\\nprint(\\\"Repeated Cross Validation:\\\")\\nprint(f\\\"Repeats: {repeats}\\\")\\nprint(f\\\"n_splits: {n_splits}\\\")\\nprint()\\nprint_scores(scores, METRICS, METRICS_DICT)\\n\\nresults_dict_copy = results_dict.copy()\\nresults_dict_copy[\\\"Cross Validation\\\"] = \\\"Repeated KFold\\\"\\nresults_dict_copy[\\\"Cross Validation Params\\\"] = '{\\\"N_Splits\\\": 5, \\\"Repeats\\\": 3}'\\nresults_dict_copy[\\\"Data Shape\\\"] = x.shape\\ndf_results = fill_results_dict(results_dict_copy, scores)\\nresults_to_save.append(df_results)\";\n",
       "                var nbb_formatted_code = \"repeats = 3\\nn_splits = 5\\npipeline = Pipeline(\\n    [\\n        (\\\"imputer\\\", SimpleImputer(strategy=\\\"median\\\")),\\n        (\\\"transformer\\\", StandardScaler()),\\n        (\\\"estimator\\\", LinearRegression()),\\n    ]\\n)\\ncv = RepeatedKFold(n_splits=n_splits, n_repeats=repeats, random_state=SEED)\\nscores = cross_validate(\\n    pipeline,\\n    x,\\n    y,\\n    scoring=METRICS,\\n    cv=cv,\\n    n_jobs=-1,\\n    return_train_score=True,\\n)\\nprint(\\\"Repeated Cross Validation:\\\")\\nprint(f\\\"Repeats: {repeats}\\\")\\nprint(f\\\"n_splits: {n_splits}\\\")\\nprint()\\nprint_scores(scores, METRICS, METRICS_DICT)\\n\\nresults_dict_copy = results_dict.copy()\\nresults_dict_copy[\\\"Cross Validation\\\"] = \\\"Repeated KFold\\\"\\nresults_dict_copy[\\\"Cross Validation Params\\\"] = '{\\\"N_Splits\\\": 5, \\\"Repeats\\\": 3}'\\nresults_dict_copy[\\\"Data Shape\\\"] = x.shape\\ndf_results = fill_results_dict(results_dict_copy, scores)\\nresults_to_save.append(df_results)\";\n",
       "                var nbb_cells = Jupyter.notebook.get_cells();\n",
       "                for (var i = 0; i < nbb_cells.length; ++i) {\n",
       "                    if (nbb_cells[i].input_prompt_number == nbb_cell_id) {\n",
       "                        if (nbb_cells[i].get_text() == nbb_unformatted_code) {\n",
       "                             nbb_cells[i].set_text(nbb_formatted_code);\n",
       "                        }\n",
       "                        break;\n",
       "                    }\n",
       "                }\n",
       "            }, 500);\n",
       "            "
      ],
      "text/plain": [
       "<IPython.core.display.Javascript object>"
      ]
     },
     "metadata": {},
     "output_type": "display_data"
    }
   ],
   "source": [
    "repeats = 3\n",
    "n_splits = 5\n",
    "pipeline = Pipeline(\n",
    "    [\n",
    "        (\"imputer\", SimpleImputer(strategy=\"median\")),\n",
    "        (\"transformer\", StandardScaler()),\n",
    "        (\"estimator\", LinearRegression()),\n",
    "    ]\n",
    ")\n",
    "cv = RepeatedKFold(n_splits=n_splits, n_repeats=repeats, random_state=SEED)\n",
    "scores = cross_validate(\n",
    "    pipeline,\n",
    "    x,\n",
    "    y,\n",
    "    scoring=METRICS,\n",
    "    cv=cv,\n",
    "    n_jobs=-1,\n",
    "    return_train_score=True,\n",
    ")\n",
    "print(\"Repeated Cross Validation:\")\n",
    "print(f\"Repeats: {repeats}\")\n",
    "print(f\"n_splits: {n_splits}\")\n",
    "print()\n",
    "print_scores(scores, METRICS, METRICS_DICT)\n",
    "\n",
    "results_dict_copy = results_dict.copy()\n",
    "results_dict_copy[\"Cross Validation\"] = \"Repeated KFold\"\n",
    "results_dict_copy[\"Cross Validation Params\"] = '{\"N_Splits\": 5, \"Repeats\": 3}'\n",
    "results_dict_copy[\"Data Shape\"] = x.shape\n",
    "df_results = fill_results_dict(results_dict_copy, scores)\n",
    "results_to_save.append(df_results)"
   ]
  },
  {
   "cell_type": "markdown",
   "id": "3e060993",
   "metadata": {
    "papermill": {
     "duration": 0.008849,
     "end_time": "2024-03-02T04:57:12.885340",
     "exception": false,
     "start_time": "2024-03-02T04:57:12.876491",
     "status": "completed"
    },
    "tags": []
   },
   "source": [
    "## 1.2. Blocking Time Series Cross Validation\n",
    "\n",
    "<b>Dataset shape:</b> (594, 38)<br>\n",
    "<b>Splits:</b>5<br>    \n",
    "    1. 5 folds of 118 samples\n",
    "    2. 50% train (59 samples each fold)\n",
    "    3. 50% test (59 samples each fold)\n",
    "<b>Total:</b> 5 models<br>"
   ]
  },
  {
   "cell_type": "code",
   "execution_count": 9,
   "id": "f1fd6320",
   "metadata": {
    "execution": {
     "iopub.execute_input": "2024-03-02T04:57:12.906811Z",
     "iopub.status.busy": "2024-03-02T04:57:12.906240Z",
     "iopub.status.idle": "2024-03-02T04:57:12.980259Z",
     "shell.execute_reply": "2024-03-02T04:57:12.978434Z"
    },
    "papermill": {
     "duration": 0.088832,
     "end_time": "2024-03-02T04:57:12.983287",
     "exception": false,
     "start_time": "2024-03-02T04:57:12.894455",
     "status": "completed"
    },
    "tags": []
   },
   "outputs": [
    {
     "name": "stdout",
     "output_type": "stream",
     "text": [
      "Blocking Time Series Split:\n",
      "Repeats: 3\n",
      "n_splits: 5\n",
      "\n",
      "******\n",
      "[TRAIN]\n",
      "******\n",
      "RMSE: -0.674 (0.098)\n",
      "MAE: -0.534 (0.075)\n",
      "MAPE: -0.014 (0.002)\n",
      "R2: 0.983 (0.005)\n",
      "\n",
      "======================\n",
      "\n",
      "******\n",
      "[TEST]\n",
      "******\n",
      "RMSE: -0.775 (0.086)\n",
      "MAE: -0.605 (0.077)\n",
      "MAPE: -0.015 (0.002)\n",
      "R2: 0.979 (0.006)\n",
      "\n",
      "======================\n",
      "\n"
     ]
    },
    {
     "data": {
      "application/javascript": [
       "\n",
       "            setTimeout(function() {\n",
       "                var nbb_cell_id = 9;\n",
       "                var nbb_unformatted_code = \"n_splits = 5\\ntrain_size = 0.8\\n\\npipeline = Pipeline(\\n    [\\n        (\\\"imputer\\\", SimpleImputer(strategy=\\\"median\\\")),\\n        (\\\"transformer\\\", StandardScaler()),\\n        (\\\"estimator\\\", LinearRegression()),\\n    ]\\n)\\ncv = BlockingTimeSeriesSplit(n_splits=n_splits, train_size=train_size)\\nscores = cross_validate(\\n    pipeline,\\n    x,\\n    y,\\n    scoring=METRICS,\\n    cv=cv,\\n    n_jobs=-1,\\n    return_train_score=True,\\n)\\nprint(\\\"Blocking Time Series Split:\\\")\\nprint(f\\\"Repeats: {repeats}\\\")\\nprint(f\\\"n_splits: {n_splits}\\\")\\nprint()\\nprint_scores(scores, METRICS, METRICS_DICT)\\n\\nresults_dict_copy = results_dict.copy()\\nresults_dict_copy[\\\"Cross Validation\\\"] = \\\"Blocking Time Series Split\\\"\\nresults_dict_copy[\\n    \\\"Cross Validation Params\\\"\\n] = '{\\\"N_Splits\\\": 5, \\\"Repeats\\\": 1, \\\"train_size\\\": 0.8}'\\nresults_dict_copy[\\\"Data Shape\\\"] = x.shape\\ndf_results = fill_results_dict(results_dict_copy, scores)\\nresults_to_save.append(df_results)\";\n",
       "                var nbb_formatted_code = \"n_splits = 5\\ntrain_size = 0.8\\n\\npipeline = Pipeline(\\n    [\\n        (\\\"imputer\\\", SimpleImputer(strategy=\\\"median\\\")),\\n        (\\\"transformer\\\", StandardScaler()),\\n        (\\\"estimator\\\", LinearRegression()),\\n    ]\\n)\\ncv = BlockingTimeSeriesSplit(n_splits=n_splits, train_size=train_size)\\nscores = cross_validate(\\n    pipeline,\\n    x,\\n    y,\\n    scoring=METRICS,\\n    cv=cv,\\n    n_jobs=-1,\\n    return_train_score=True,\\n)\\nprint(\\\"Blocking Time Series Split:\\\")\\nprint(f\\\"Repeats: {repeats}\\\")\\nprint(f\\\"n_splits: {n_splits}\\\")\\nprint()\\nprint_scores(scores, METRICS, METRICS_DICT)\\n\\nresults_dict_copy = results_dict.copy()\\nresults_dict_copy[\\\"Cross Validation\\\"] = \\\"Blocking Time Series Split\\\"\\nresults_dict_copy[\\n    \\\"Cross Validation Params\\\"\\n] = '{\\\"N_Splits\\\": 5, \\\"Repeats\\\": 1, \\\"train_size\\\": 0.8}'\\nresults_dict_copy[\\\"Data Shape\\\"] = x.shape\\ndf_results = fill_results_dict(results_dict_copy, scores)\\nresults_to_save.append(df_results)\";\n",
       "                var nbb_cells = Jupyter.notebook.get_cells();\n",
       "                for (var i = 0; i < nbb_cells.length; ++i) {\n",
       "                    if (nbb_cells[i].input_prompt_number == nbb_cell_id) {\n",
       "                        if (nbb_cells[i].get_text() == nbb_unformatted_code) {\n",
       "                             nbb_cells[i].set_text(nbb_formatted_code);\n",
       "                        }\n",
       "                        break;\n",
       "                    }\n",
       "                }\n",
       "            }, 500);\n",
       "            "
      ],
      "text/plain": [
       "<IPython.core.display.Javascript object>"
      ]
     },
     "metadata": {},
     "output_type": "display_data"
    }
   ],
   "source": [
    "n_splits = 5\n",
    "train_size = 0.8\n",
    "\n",
    "pipeline = Pipeline(\n",
    "    [\n",
    "        (\"imputer\", SimpleImputer(strategy=\"median\")),\n",
    "        (\"transformer\", StandardScaler()),\n",
    "        (\"estimator\", LinearRegression()),\n",
    "    ]\n",
    ")\n",
    "cv = BlockingTimeSeriesSplit(n_splits=n_splits, train_size=train_size)\n",
    "scores = cross_validate(\n",
    "    pipeline,\n",
    "    x,\n",
    "    y,\n",
    "    scoring=METRICS,\n",
    "    cv=cv,\n",
    "    n_jobs=-1,\n",
    "    return_train_score=True,\n",
    ")\n",
    "print(\"Blocking Time Series Split:\")\n",
    "print(f\"Repeats: {repeats}\")\n",
    "print(f\"n_splits: {n_splits}\")\n",
    "print()\n",
    "print_scores(scores, METRICS, METRICS_DICT)\n",
    "\n",
    "results_dict_copy = results_dict.copy()\n",
    "results_dict_copy[\"Cross Validation\"] = \"Blocking Time Series Split\"\n",
    "results_dict_copy[\n",
    "    \"Cross Validation Params\"\n",
    "] = '{\"N_Splits\": 5, \"Repeats\": 1, \"train_size\": 0.8}'\n",
    "results_dict_copy[\"Data Shape\"] = x.shape\n",
    "df_results = fill_results_dict(results_dict_copy, scores)\n",
    "results_to_save.append(df_results)"
   ]
  },
  {
   "cell_type": "markdown",
   "id": "1fcb2d1d",
   "metadata": {
    "papermill": {
     "duration": 0.00832,
     "end_time": "2024-03-02T04:57:12.999893",
     "exception": false,
     "start_time": "2024-03-02T04:57:12.991573",
     "status": "completed"
    },
    "tags": []
   },
   "source": [
    "## 1.3. Time Series Split Cross Validation\n",
    "\n",
    "The training set has size i * n_samples // (n_splits + 1) + n_samples % (n_splits + 1) in the i th split, with a test set of size n_samples//(n_splits + 1) by default, where n_samples is the number of samples.\n",
    "\n",
    "\n",
    "<b>Dataset shape:</b> (594, 38)<br>\n",
    "<b>Splits:</b>10<br>    \n",
    "    1. Train: 10 folds of 54, 108, 162, 216, 270, 324, 378, 432, 486 samples each fold\n",
    "    2. Test: 54 samples each fold\n",
    "<b>Total:</b> 10 models<br>"
   ]
  },
  {
   "cell_type": "code",
   "execution_count": 10,
   "id": "0af98781",
   "metadata": {
    "execution": {
     "iopub.execute_input": "2024-03-02T04:57:13.020887Z",
     "iopub.status.busy": "2024-03-02T04:57:13.020194Z",
     "iopub.status.idle": "2024-03-02T04:57:13.100698Z",
     "shell.execute_reply": "2024-03-02T04:57:13.099054Z"
    },
    "papermill": {
     "duration": 0.095392,
     "end_time": "2024-03-02T04:57:13.104380",
     "exception": false,
     "start_time": "2024-03-02T04:57:13.008988",
     "status": "completed"
    },
    "tags": []
   },
   "outputs": [
    {
     "name": "stdout",
     "output_type": "stream",
     "text": [
      "Time Series Split:\n",
      "Repeats: 3\n",
      "n_splits: 5\n",
      "\n",
      "******\n",
      "[TRAIN]\n",
      "******\n",
      "RMSE: -0.681 (0.031)\n",
      "MAE: -0.538 (0.020)\n",
      "MAPE: -0.014 (0.000)\n",
      "R2: 0.983 (0.002)\n",
      "\n",
      "======================\n",
      "\n",
      "******\n",
      "[TEST]\n",
      "******\n",
      "RMSE: -0.844 (0.121)\n",
      "MAE: -0.646 (0.069)\n",
      "MAPE: -0.016 (0.002)\n",
      "R2: 0.974 (0.006)\n",
      "\n",
      "======================\n",
      "\n"
     ]
    },
    {
     "data": {
      "application/javascript": [
       "\n",
       "            setTimeout(function() {\n",
       "                var nbb_cell_id = 10;\n",
       "                var nbb_unformatted_code = \"n_splits = 5\\ngap = 0\\npipeline = Pipeline(\\n    [\\n        (\\\"imputer\\\", SimpleImputer(strategy=\\\"median\\\")),\\n        (\\\"transformer\\\", StandardScaler()),\\n        (\\\"estimator\\\", LinearRegression()),\\n    ]\\n)\\ncv = TimeSeriesSplit(gap=gap, max_train_size=None, n_splits=n_splits, test_size=None)\\n\\nscores = cross_validate(\\n    pipeline,\\n    x,\\n    y,\\n    scoring=METRICS,\\n    cv=cv,\\n    n_jobs=-1,\\n    return_train_score=True,\\n)\\nprint(\\\"Time Series Split:\\\")\\nprint(f\\\"Repeats: {repeats}\\\")\\nprint(f\\\"n_splits: {n_splits}\\\")\\nprint()\\nprint_scores(scores, METRICS, METRICS_DICT)\\n\\nresults_dict_copy = results_dict.copy()\\nresults_dict_copy[\\\"Cross Validation\\\"] = \\\"Time Series Split\\\"\\nresults_dict_copy[\\\"Cross Validation Params\\\"] = '{\\\"N_Splits\\\": 5, \\\"Repeats\\\": 1, \\\"Gap\\\": 0}'\\nresults_dict_copy[\\\"Data Shape\\\"] = x.shape\\ndf_results = fill_results_dict(results_dict_copy, scores)\\nresults_to_save.append(df_results)\";\n",
       "                var nbb_formatted_code = \"n_splits = 5\\ngap = 0\\npipeline = Pipeline(\\n    [\\n        (\\\"imputer\\\", SimpleImputer(strategy=\\\"median\\\")),\\n        (\\\"transformer\\\", StandardScaler()),\\n        (\\\"estimator\\\", LinearRegression()),\\n    ]\\n)\\ncv = TimeSeriesSplit(gap=gap, max_train_size=None, n_splits=n_splits, test_size=None)\\n\\nscores = cross_validate(\\n    pipeline,\\n    x,\\n    y,\\n    scoring=METRICS,\\n    cv=cv,\\n    n_jobs=-1,\\n    return_train_score=True,\\n)\\nprint(\\\"Time Series Split:\\\")\\nprint(f\\\"Repeats: {repeats}\\\")\\nprint(f\\\"n_splits: {n_splits}\\\")\\nprint()\\nprint_scores(scores, METRICS, METRICS_DICT)\\n\\nresults_dict_copy = results_dict.copy()\\nresults_dict_copy[\\\"Cross Validation\\\"] = \\\"Time Series Split\\\"\\nresults_dict_copy[\\\"Cross Validation Params\\\"] = '{\\\"N_Splits\\\": 5, \\\"Repeats\\\": 1, \\\"Gap\\\": 0}'\\nresults_dict_copy[\\\"Data Shape\\\"] = x.shape\\ndf_results = fill_results_dict(results_dict_copy, scores)\\nresults_to_save.append(df_results)\";\n",
       "                var nbb_cells = Jupyter.notebook.get_cells();\n",
       "                for (var i = 0; i < nbb_cells.length; ++i) {\n",
       "                    if (nbb_cells[i].input_prompt_number == nbb_cell_id) {\n",
       "                        if (nbb_cells[i].get_text() == nbb_unformatted_code) {\n",
       "                             nbb_cells[i].set_text(nbb_formatted_code);\n",
       "                        }\n",
       "                        break;\n",
       "                    }\n",
       "                }\n",
       "            }, 500);\n",
       "            "
      ],
      "text/plain": [
       "<IPython.core.display.Javascript object>"
      ]
     },
     "metadata": {},
     "output_type": "display_data"
    }
   ],
   "source": [
    "n_splits = 5\n",
    "gap = 0\n",
    "pipeline = Pipeline(\n",
    "    [\n",
    "        (\"imputer\", SimpleImputer(strategy=\"median\")),\n",
    "        (\"transformer\", StandardScaler()),\n",
    "        (\"estimator\", LinearRegression()),\n",
    "    ]\n",
    ")\n",
    "cv = TimeSeriesSplit(gap=gap, max_train_size=None, n_splits=n_splits, test_size=None)\n",
    "\n",
    "scores = cross_validate(\n",
    "    pipeline,\n",
    "    x,\n",
    "    y,\n",
    "    scoring=METRICS,\n",
    "    cv=cv,\n",
    "    n_jobs=-1,\n",
    "    return_train_score=True,\n",
    ")\n",
    "print(\"Time Series Split:\")\n",
    "print(f\"Repeats: {repeats}\")\n",
    "print(f\"n_splits: {n_splits}\")\n",
    "print()\n",
    "print_scores(scores, METRICS, METRICS_DICT)\n",
    "\n",
    "results_dict_copy = results_dict.copy()\n",
    "results_dict_copy[\"Cross Validation\"] = \"Time Series Split\"\n",
    "results_dict_copy[\"Cross Validation Params\"] = '{\"N_Splits\": 5, \"Repeats\": 1, \"Gap\": 0}'\n",
    "results_dict_copy[\"Data Shape\"] = x.shape\n",
    "df_results = fill_results_dict(results_dict_copy, scores)\n",
    "results_to_save.append(df_results)"
   ]
  },
  {
   "cell_type": "markdown",
   "id": "bfe743c1",
   "metadata": {
    "papermill": {
     "duration": 0.008839,
     "end_time": "2024-03-02T04:57:13.122442",
     "exception": false,
     "start_time": "2024-03-02T04:57:13.113603",
     "status": "completed"
    },
    "tags": []
   },
   "source": [
    "## 1.4. Out of time Split Cross Validation\n",
    "\n",
    "<b>Dataset shape:</b> (594, 38)<br>\n",
    "<b>Train size: 80%</b><br>\n",
    "<b>Test  size: 20%</b>\n",
    "\n",
    "\n",
    "<b>Splits:</b> 2<br>    \n",
    "    1. Train: 475\n",
    "    2. Test: 118\n",
    "<b>Total:</b> 1 model<br>"
   ]
  },
  {
   "cell_type": "code",
   "execution_count": 11,
   "id": "1fd87b30",
   "metadata": {
    "execution": {
     "iopub.execute_input": "2024-03-02T04:57:13.142117Z",
     "iopub.status.busy": "2024-03-02T04:57:13.141563Z",
     "iopub.status.idle": "2024-03-02T04:57:13.242879Z",
     "shell.execute_reply": "2024-03-02T04:57:13.240731Z"
    },
    "papermill": {
     "duration": 0.115827,
     "end_time": "2024-03-02T04:57:13.246213",
     "exception": false,
     "start_time": "2024-03-02T04:57:13.130386",
     "status": "completed"
    },
    "scrolled": true,
    "tags": []
   },
   "outputs": [
    {
     "name": "stdout",
     "output_type": "stream",
     "text": [
      "******\n",
      "[TRAIN]\n",
      "******\n",
      "RMSE: 0.703 (0.000)\n",
      "MAE: 0.554 (0.000)\n",
      "MAPE: 0.014 (0.000)\n",
      "R2: 0.982 (0.000)\n",
      "\n",
      "======================\n",
      "\n",
      "******\n",
      "[TEST]\n",
      "******\n",
      "RMSE: 1.034 (0.000)\n",
      "MAE: 0.755 (0.000)\n",
      "MAPE: 0.019 (0.000)\n",
      "R2: 0.964 (0.000)\n",
      "\n",
      "======================\n",
      "\n"
     ]
    },
    {
     "data": {
      "application/javascript": [
       "\n",
       "            setTimeout(function() {\n",
       "                var nbb_cell_id = 11;\n",
       "                var nbb_unformatted_code = \"test_size = 0.2\\n\\nx_train, x_test, y_train, y_test = train_test_split(\\n    x, y, test_size=test_size, random_state=SEED, shuffle=False\\n)\\npipeline = Pipeline(\\n    [\\n        (\\\"imputer\\\", SimpleImputer(strategy=\\\"median\\\")),\\n        (\\\"transformer\\\", StandardScaler()),\\n        (\\\"estimator\\\", LinearRegression()),\\n    ]\\n)\\n\\npipeline.fit(x_train, y_train)\\n\\ny_train_pred = pipeline.predict(x_train)\\ny_test_pred = pipeline.predict(x_test)\\n\\nscores = score_regression_metrics(y_train, y_train_pred, y_test, y_test_pred)\\nprint_scores(scores, METRICS, METRICS_DICT)\\n\\nresults_dict_copy = results_dict.copy()\\nresults_dict_copy[\\\"Cross Validation\\\"] = \\\"Out of time Split\\\"\\nresults_dict_copy[\\\"Cross Validation Params\\\"] = '{\\\"Test Size\\\": 0.2}'\\nresults_dict_copy[\\\"Data Shape\\\"] = x.shape\\ndf_results = fill_results_dict(\\n    results_dict_copy, {key: [value] for key, value in scores.items()}\\n)\\nresults_to_save.append(df_results)\";\n",
       "                var nbb_formatted_code = \"test_size = 0.2\\n\\nx_train, x_test, y_train, y_test = train_test_split(\\n    x, y, test_size=test_size, random_state=SEED, shuffle=False\\n)\\npipeline = Pipeline(\\n    [\\n        (\\\"imputer\\\", SimpleImputer(strategy=\\\"median\\\")),\\n        (\\\"transformer\\\", StandardScaler()),\\n        (\\\"estimator\\\", LinearRegression()),\\n    ]\\n)\\n\\npipeline.fit(x_train, y_train)\\n\\ny_train_pred = pipeline.predict(x_train)\\ny_test_pred = pipeline.predict(x_test)\\n\\nscores = score_regression_metrics(y_train, y_train_pred, y_test, y_test_pred)\\nprint_scores(scores, METRICS, METRICS_DICT)\\n\\nresults_dict_copy = results_dict.copy()\\nresults_dict_copy[\\\"Cross Validation\\\"] = \\\"Out of time Split\\\"\\nresults_dict_copy[\\\"Cross Validation Params\\\"] = '{\\\"Test Size\\\": 0.2}'\\nresults_dict_copy[\\\"Data Shape\\\"] = x.shape\\ndf_results = fill_results_dict(\\n    results_dict_copy, {key: [value] for key, value in scores.items()}\\n)\\nresults_to_save.append(df_results)\";\n",
       "                var nbb_cells = Jupyter.notebook.get_cells();\n",
       "                for (var i = 0; i < nbb_cells.length; ++i) {\n",
       "                    if (nbb_cells[i].input_prompt_number == nbb_cell_id) {\n",
       "                        if (nbb_cells[i].get_text() == nbb_unformatted_code) {\n",
       "                             nbb_cells[i].set_text(nbb_formatted_code);\n",
       "                        }\n",
       "                        break;\n",
       "                    }\n",
       "                }\n",
       "            }, 500);\n",
       "            "
      ],
      "text/plain": [
       "<IPython.core.display.Javascript object>"
      ]
     },
     "metadata": {},
     "output_type": "display_data"
    }
   ],
   "source": [
    "test_size = 0.2\n",
    "\n",
    "x_train, x_test, y_train, y_test = train_test_split(\n",
    "    x, y, test_size=test_size, random_state=SEED, shuffle=False\n",
    ")\n",
    "pipeline = Pipeline(\n",
    "    [\n",
    "        (\"imputer\", SimpleImputer(strategy=\"median\")),\n",
    "        (\"transformer\", StandardScaler()),\n",
    "        (\"estimator\", LinearRegression()),\n",
    "    ]\n",
    ")\n",
    "\n",
    "pipeline.fit(x_train, y_train)\n",
    "\n",
    "y_train_pred = pipeline.predict(x_train)\n",
    "y_test_pred = pipeline.predict(x_test)\n",
    "\n",
    "scores = score_regression_metrics(y_train, y_train_pred, y_test, y_test_pred)\n",
    "print_scores(scores, METRICS, METRICS_DICT)\n",
    "\n",
    "results_dict_copy = results_dict.copy()\n",
    "results_dict_copy[\"Cross Validation\"] = \"Out of time Split\"\n",
    "results_dict_copy[\"Cross Validation Params\"] = '{\"Test Size\": 0.2}'\n",
    "results_dict_copy[\"Data Shape\"] = x.shape\n",
    "df_results = fill_results_dict(\n",
    "    results_dict_copy, {key: [value] for key, value in scores.items()}\n",
    ")\n",
    "results_to_save.append(df_results)"
   ]
  },
  {
   "cell_type": "code",
   "execution_count": 12,
   "id": "d3f45976",
   "metadata": {
    "execution": {
     "iopub.execute_input": "2024-03-02T04:57:13.267375Z",
     "iopub.status.busy": "2024-03-02T04:57:13.266884Z",
     "iopub.status.idle": "2024-03-02T04:57:13.366451Z",
     "shell.execute_reply": "2024-03-02T04:57:13.364495Z"
    },
    "papermill": {
     "duration": 0.113997,
     "end_time": "2024-03-02T04:57:13.369578",
     "exception": false,
     "start_time": "2024-03-02T04:57:13.255581",
     "status": "completed"
    },
    "tags": []
   },
   "outputs": [
    {
     "data": {
      "text/html": [
       "<div>\n",
       "<style scoped>\n",
       "    .dataframe tbody tr th:only-of-type {\n",
       "        vertical-align: middle;\n",
       "    }\n",
       "\n",
       "    .dataframe tbody tr th {\n",
       "        vertical-align: top;\n",
       "    }\n",
       "\n",
       "    .dataframe thead tr th {\n",
       "        text-align: left;\n",
       "    }\n",
       "</style>\n",
       "<table border=\"1\" class=\"dataframe\">\n",
       "  <thead>\n",
       "    <tr>\n",
       "      <th></th>\n",
       "      <th>Features</th>\n",
       "      <th>Model</th>\n",
       "      <th>Cross Validation</th>\n",
       "      <th>Cross Validation Params</th>\n",
       "      <th colspan=\"2\" halign=\"left\">RMSE Test</th>\n",
       "      <th colspan=\"2\" halign=\"left\">MAE Test</th>\n",
       "      <th colspan=\"2\" halign=\"left\">MAPE Test</th>\n",
       "      <th colspan=\"2\" halign=\"left\">R2 Test</th>\n",
       "    </tr>\n",
       "    <tr>\n",
       "      <th></th>\n",
       "      <th></th>\n",
       "      <th></th>\n",
       "      <th></th>\n",
       "      <th></th>\n",
       "      <th>mean</th>\n",
       "      <th>std</th>\n",
       "      <th>mean</th>\n",
       "      <th>std</th>\n",
       "      <th>mean</th>\n",
       "      <th>std</th>\n",
       "      <th>mean</th>\n",
       "      <th>std</th>\n",
       "    </tr>\n",
       "  </thead>\n",
       "  <tbody>\n",
       "    <tr>\n",
       "      <th>0</th>\n",
       "      <td>Chemical + Physical</td>\n",
       "      <td>Linear Regression</td>\n",
       "      <td>Blocking Time Series Split</td>\n",
       "      <td>{\"N_Splits\": 5, \"Repeats\": 1, \"train_size\": 0.8}</td>\n",
       "      <td>0.775060</td>\n",
       "      <td>0.086191</td>\n",
       "      <td>0.605098</td>\n",
       "      <td>0.077031</td>\n",
       "      <td>0.015056</td>\n",
       "      <td>0.002189</td>\n",
       "      <td>0.979073</td>\n",
       "      <td>0.005523</td>\n",
       "    </tr>\n",
       "    <tr>\n",
       "      <th>1</th>\n",
       "      <td>Chemical + Physical</td>\n",
       "      <td>Linear Regression</td>\n",
       "      <td>Out of time Split</td>\n",
       "      <td>{\"Test Size\": 0.2}</td>\n",
       "      <td>1.034463</td>\n",
       "      <td>0.000000</td>\n",
       "      <td>0.755031</td>\n",
       "      <td>0.000000</td>\n",
       "      <td>0.018993</td>\n",
       "      <td>0.000000</td>\n",
       "      <td>0.964019</td>\n",
       "      <td>0.000000</td>\n",
       "    </tr>\n",
       "    <tr>\n",
       "      <th>2</th>\n",
       "      <td>Chemical + Physical</td>\n",
       "      <td>Linear Regression</td>\n",
       "      <td>Repeated KFold</td>\n",
       "      <td>{\"N_Splits\": 5, \"Repeats\": 3}</td>\n",
       "      <td>0.841543</td>\n",
       "      <td>0.140638</td>\n",
       "      <td>0.604080</td>\n",
       "      <td>0.030879</td>\n",
       "      <td>0.015302</td>\n",
       "      <td>0.000811</td>\n",
       "      <td>0.973478</td>\n",
       "      <td>0.009615</td>\n",
       "    </tr>\n",
       "    <tr>\n",
       "      <th>3</th>\n",
       "      <td>Chemical + Physical</td>\n",
       "      <td>Linear Regression</td>\n",
       "      <td>Time Series Split</td>\n",
       "      <td>{\"N_Splits\": 5, \"Repeats\": 1, \"Gap\": 0}</td>\n",
       "      <td>0.844350</td>\n",
       "      <td>0.121085</td>\n",
       "      <td>0.645701</td>\n",
       "      <td>0.069025</td>\n",
       "      <td>0.016253</td>\n",
       "      <td>0.001574</td>\n",
       "      <td>0.973588</td>\n",
       "      <td>0.005804</td>\n",
       "    </tr>\n",
       "  </tbody>\n",
       "</table>\n",
       "</div>"
      ],
      "text/plain": [
       "              Features              Model            Cross Validation  \\\n",
       "                                                                        \n",
       "0  Chemical + Physical  Linear Regression  Blocking Time Series Split   \n",
       "1  Chemical + Physical  Linear Regression           Out of time Split   \n",
       "2  Chemical + Physical  Linear Regression              Repeated KFold   \n",
       "3  Chemical + Physical  Linear Regression           Time Series Split   \n",
       "\n",
       "                            Cross Validation Params RMSE Test            \\\n",
       "                                                         mean       std   \n",
       "0  {\"N_Splits\": 5, \"Repeats\": 1, \"train_size\": 0.8}  0.775060  0.086191   \n",
       "1                                {\"Test Size\": 0.2}  1.034463  0.000000   \n",
       "2                     {\"N_Splits\": 5, \"Repeats\": 3}  0.841543  0.140638   \n",
       "3           {\"N_Splits\": 5, \"Repeats\": 1, \"Gap\": 0}  0.844350  0.121085   \n",
       "\n",
       "   MAE Test           MAPE Test             R2 Test            \n",
       "       mean       std      mean       std      mean       std  \n",
       "0  0.605098  0.077031  0.015056  0.002189  0.979073  0.005523  \n",
       "1  0.755031  0.000000  0.018993  0.000000  0.964019  0.000000  \n",
       "2  0.604080  0.030879  0.015302  0.000811  0.973478  0.009615  \n",
       "3  0.645701  0.069025  0.016253  0.001574  0.973588  0.005804  "
      ]
     },
     "execution_count": 12,
     "metadata": {},
     "output_type": "execute_result"
    },
    {
     "data": {
      "application/javascript": [
       "\n",
       "            setTimeout(function() {\n",
       "                var nbb_cell_id = 12;\n",
       "                var nbb_unformatted_code = \"pd.concat(results_to_save).groupby(\\n    [\\\"Features\\\", \\\"Model\\\", \\\"Cross Validation\\\", \\\"Cross Validation Params\\\"]\\n)[[\\\"RMSE Test\\\", \\\"MAE Test\\\", \\\"MAPE Test\\\", \\\"R2 Test\\\"]].agg(\\n    [\\\"mean\\\", lambda series: pd.Series(series.std(ddof=0), name=\\\"std\\\")]\\n).reset_index().rename(\\n    columns={\\\"<lambda_0>\\\": \\\"std\\\"}\\n)\";\n",
       "                var nbb_formatted_code = \"pd.concat(results_to_save).groupby(\\n    [\\\"Features\\\", \\\"Model\\\", \\\"Cross Validation\\\", \\\"Cross Validation Params\\\"]\\n)[[\\\"RMSE Test\\\", \\\"MAE Test\\\", \\\"MAPE Test\\\", \\\"R2 Test\\\"]].agg(\\n    [\\\"mean\\\", lambda series: pd.Series(series.std(ddof=0), name=\\\"std\\\")]\\n).reset_index().rename(\\n    columns={\\\"<lambda_0>\\\": \\\"std\\\"}\\n)\";\n",
       "                var nbb_cells = Jupyter.notebook.get_cells();\n",
       "                for (var i = 0; i < nbb_cells.length; ++i) {\n",
       "                    if (nbb_cells[i].input_prompt_number == nbb_cell_id) {\n",
       "                        if (nbb_cells[i].get_text() == nbb_unformatted_code) {\n",
       "                             nbb_cells[i].set_text(nbb_formatted_code);\n",
       "                        }\n",
       "                        break;\n",
       "                    }\n",
       "                }\n",
       "            }, 500);\n",
       "            "
      ],
      "text/plain": [
       "<IPython.core.display.Javascript object>"
      ]
     },
     "metadata": {},
     "output_type": "display_data"
    }
   ],
   "source": [
    "pd.concat(results_to_save).groupby(\n",
    "    [\"Features\", \"Model\", \"Cross Validation\", \"Cross Validation Params\"]\n",
    ")[[\"RMSE Test\", \"MAE Test\", \"MAPE Test\", \"R2 Test\"]].agg(\n",
    "    [\"mean\", lambda series: pd.Series(series.std(ddof=0), name=\"std\")]\n",
    ").reset_index().rename(\n",
    "    columns={\"<lambda_0>\": \"std\"}\n",
    ")"
   ]
  },
  {
   "cell_type": "markdown",
   "id": "6f4a1402",
   "metadata": {
    "papermill": {
     "duration": 0.00812,
     "end_time": "2024-03-02T04:57:13.388541",
     "exception": false,
     "start_time": "2024-03-02T04:57:13.380421",
     "status": "completed"
    },
    "tags": []
   },
   "source": [
    "# Saving the results Dataframe"
   ]
  },
  {
   "cell_type": "code",
   "execution_count": 13,
   "id": "aca86315",
   "metadata": {
    "execution": {
     "iopub.execute_input": "2024-03-02T04:57:13.411205Z",
     "iopub.status.busy": "2024-03-02T04:57:13.410668Z",
     "iopub.status.idle": "2024-03-02T04:57:13.422153Z",
     "shell.execute_reply": "2024-03-02T04:57:13.420344Z"
    },
    "papermill": {
     "duration": 0.027481,
     "end_time": "2024-03-02T04:57:13.425560",
     "exception": false,
     "start_time": "2024-03-02T04:57:13.398079",
     "status": "completed"
    },
    "tags": []
   },
   "outputs": [
    {
     "data": {
      "application/javascript": [
       "\n",
       "            setTimeout(function() {\n",
       "                var nbb_cell_id = 13;\n",
       "                var nbb_unformatted_code = \"index_to_save = 1\";\n",
       "                var nbb_formatted_code = \"index_to_save = 1\";\n",
       "                var nbb_cells = Jupyter.notebook.get_cells();\n",
       "                for (var i = 0; i < nbb_cells.length; ++i) {\n",
       "                    if (nbb_cells[i].input_prompt_number == nbb_cell_id) {\n",
       "                        if (nbb_cells[i].get_text() == nbb_unformatted_code) {\n",
       "                             nbb_cells[i].set_text(nbb_formatted_code);\n",
       "                        }\n",
       "                        break;\n",
       "                    }\n",
       "                }\n",
       "            }, 500);\n",
       "            "
      ],
      "text/plain": [
       "<IPython.core.display.Javascript object>"
      ]
     },
     "metadata": {},
     "output_type": "display_data"
    }
   ],
   "source": [
    "index_to_save = 1"
   ]
  },
  {
   "cell_type": "code",
   "execution_count": 14,
   "id": "14a22331",
   "metadata": {
    "execution": {
     "iopub.execute_input": "2024-03-02T04:57:13.449760Z",
     "iopub.status.busy": "2024-03-02T04:57:13.449211Z",
     "iopub.status.idle": "2024-03-02T04:57:13.470701Z",
     "shell.execute_reply": "2024-03-02T04:57:13.468782Z"
    },
    "papermill": {
     "duration": 0.037783,
     "end_time": "2024-03-02T04:57:13.474487",
     "exception": false,
     "start_time": "2024-03-02T04:57:13.436704",
     "status": "completed"
    },
    "tags": []
   },
   "outputs": [
    {
     "data": {
      "application/javascript": [
       "\n",
       "            setTimeout(function() {\n",
       "                var nbb_cell_id = 14;\n",
       "                var nbb_unformatted_code = \"path = \\\"../../../../../reports/results/local_models/209/s/full/\\\"\\nfilename = f\\\"linear_regression_results_full_{index_to_save}.csv\\\"\\n\\npd.concat(results_to_save).to_csv(\\n    path_or_buf=path + filename,\\n    mode=\\\"w\\\",\\n    index=False,\\n    header=True,\\n)\";\n",
       "                var nbb_formatted_code = \"path = \\\"../../../../../reports/results/local_models/209/s/full/\\\"\\nfilename = f\\\"linear_regression_results_full_{index_to_save}.csv\\\"\\n\\npd.concat(results_to_save).to_csv(\\n    path_or_buf=path + filename,\\n    mode=\\\"w\\\",\\n    index=False,\\n    header=True,\\n)\";\n",
       "                var nbb_cells = Jupyter.notebook.get_cells();\n",
       "                for (var i = 0; i < nbb_cells.length; ++i) {\n",
       "                    if (nbb_cells[i].input_prompt_number == nbb_cell_id) {\n",
       "                        if (nbb_cells[i].get_text() == nbb_unformatted_code) {\n",
       "                             nbb_cells[i].set_text(nbb_formatted_code);\n",
       "                        }\n",
       "                        break;\n",
       "                    }\n",
       "                }\n",
       "            }, 500);\n",
       "            "
      ],
      "text/plain": [
       "<IPython.core.display.Javascript object>"
      ]
     },
     "metadata": {},
     "output_type": "display_data"
    }
   ],
   "source": [
    "path = \"../../../../../reports/results/local_models/209/s/full/\"\n",
    "filename = f\"linear_regression_results_full_{index_to_save}.csv\"\n",
    "\n",
    "pd.concat(results_to_save).to_csv(\n",
    "    path_or_buf=path + filename,\n",
    "    mode=\"w\",\n",
    "    index=False,\n",
    "    header=True,\n",
    ")"
   ]
  },
  {
   "cell_type": "markdown",
   "id": "23e03525",
   "metadata": {
    "papermill": {
     "duration": 0.010327,
     "end_time": "2024-03-02T04:57:13.497063",
     "exception": false,
     "start_time": "2024-03-02T04:57:13.486736",
     "status": "completed"
    },
    "tags": []
   },
   "source": [
    "## Saving the grouped dataframe"
   ]
  },
  {
   "cell_type": "code",
   "execution_count": 15,
   "id": "3a35aa97",
   "metadata": {
    "execution": {
     "iopub.execute_input": "2024-03-02T04:57:13.522030Z",
     "iopub.status.busy": "2024-03-02T04:57:13.521509Z",
     "iopub.status.idle": "2024-03-02T04:57:13.602595Z",
     "shell.execute_reply": "2024-03-02T04:57:13.600806Z"
    },
    "papermill": {
     "duration": 0.097922,
     "end_time": "2024-03-02T04:57:13.605915",
     "exception": false,
     "start_time": "2024-03-02T04:57:13.507993",
     "status": "completed"
    },
    "tags": []
   },
   "outputs": [
    {
     "data": {
      "application/javascript": [
       "\n",
       "            setTimeout(function() {\n",
       "                var nbb_cell_id = 15;\n",
       "                var nbb_unformatted_code = \"cols_groupby = [\\n    \\\"Category\\\",\\n    \\\"Company\\\",\\n    \\\"Data Shape\\\",\\n    \\\"Timesteps\\\",\\n    \\\"Features\\\",\\n    \\\"Model\\\",\\n    \\\"Cross Validation\\\",\\n    \\\"Cross Validation Params\\\",\\n]\\n\\ncols_agg = [\\\"RMSE Train\\\", \\\"MAE Train\\\", \\\"MAPE Train\\\", \\\"R2 Train\\\"] + [\\n    \\\"RMSE Test\\\",\\n    \\\"MAE Test\\\",\\n    \\\"MAPE Test\\\",\\n    \\\"R2 Test\\\",\\n]\\n\\npath = \\\"../../../../../reports/results/local_models/209/s/grouped/\\\"\\nfilename = f\\\"linear_regression_results_grouped_{index_to_save}.csv\\\"\\n\\n\\ndf_results_to_save = (\\n    pd.concat(results_to_save)\\n    .groupby(cols_groupby, dropna=False)[cols_agg]\\n    .agg([\\\"mean\\\", lambda series: pd.Series(series.std(ddof=0), name=\\\"std\\\")])\\n    .reset_index()\\n    .rename(columns={\\\"<lambda_0>\\\": \\\"std\\\"})\\n)\\n\\ndf_results_to_save.to_csv(\\n    path_or_buf=path + filename,\\n    mode=\\\"w\\\",\\n    index=False,\\n    header=True,\\n)\";\n",
       "                var nbb_formatted_code = \"cols_groupby = [\\n    \\\"Category\\\",\\n    \\\"Company\\\",\\n    \\\"Data Shape\\\",\\n    \\\"Timesteps\\\",\\n    \\\"Features\\\",\\n    \\\"Model\\\",\\n    \\\"Cross Validation\\\",\\n    \\\"Cross Validation Params\\\",\\n]\\n\\ncols_agg = [\\\"RMSE Train\\\", \\\"MAE Train\\\", \\\"MAPE Train\\\", \\\"R2 Train\\\"] + [\\n    \\\"RMSE Test\\\",\\n    \\\"MAE Test\\\",\\n    \\\"MAPE Test\\\",\\n    \\\"R2 Test\\\",\\n]\\n\\npath = \\\"../../../../../reports/results/local_models/209/s/grouped/\\\"\\nfilename = f\\\"linear_regression_results_grouped_{index_to_save}.csv\\\"\\n\\n\\ndf_results_to_save = (\\n    pd.concat(results_to_save)\\n    .groupby(cols_groupby, dropna=False)[cols_agg]\\n    .agg([\\\"mean\\\", lambda series: pd.Series(series.std(ddof=0), name=\\\"std\\\")])\\n    .reset_index()\\n    .rename(columns={\\\"<lambda_0>\\\": \\\"std\\\"})\\n)\\n\\ndf_results_to_save.to_csv(\\n    path_or_buf=path + filename,\\n    mode=\\\"w\\\",\\n    index=False,\\n    header=True,\\n)\";\n",
       "                var nbb_cells = Jupyter.notebook.get_cells();\n",
       "                for (var i = 0; i < nbb_cells.length; ++i) {\n",
       "                    if (nbb_cells[i].input_prompt_number == nbb_cell_id) {\n",
       "                        if (nbb_cells[i].get_text() == nbb_unformatted_code) {\n",
       "                             nbb_cells[i].set_text(nbb_formatted_code);\n",
       "                        }\n",
       "                        break;\n",
       "                    }\n",
       "                }\n",
       "            }, 500);\n",
       "            "
      ],
      "text/plain": [
       "<IPython.core.display.Javascript object>"
      ]
     },
     "metadata": {},
     "output_type": "display_data"
    }
   ],
   "source": [
    "cols_groupby = [\n",
    "    \"Category\",\n",
    "    \"Company\",\n",
    "    \"Data Shape\",\n",
    "    \"Timesteps\",\n",
    "    \"Features\",\n",
    "    \"Model\",\n",
    "    \"Cross Validation\",\n",
    "    \"Cross Validation Params\",\n",
    "]\n",
    "\n",
    "cols_agg = [\"RMSE Train\", \"MAE Train\", \"MAPE Train\", \"R2 Train\"] + [\n",
    "    \"RMSE Test\",\n",
    "    \"MAE Test\",\n",
    "    \"MAPE Test\",\n",
    "    \"R2 Test\",\n",
    "]\n",
    "\n",
    "path = \"../../../../../reports/results/local_models/209/s/grouped/\"\n",
    "filename = f\"linear_regression_results_grouped_{index_to_save}.csv\"\n",
    "\n",
    "\n",
    "df_results_to_save = (\n",
    "    pd.concat(results_to_save)\n",
    "    .groupby(cols_groupby, dropna=False)[cols_agg]\n",
    "    .agg([\"mean\", lambda series: pd.Series(series.std(ddof=0), name=\"std\")])\n",
    "    .reset_index()\n",
    "    .rename(columns={\"<lambda_0>\": \"std\"})\n",
    ")\n",
    "\n",
    "df_results_to_save.to_csv(\n",
    "    path_or_buf=path + filename,\n",
    "    mode=\"w\",\n",
    "    index=False,\n",
    "    header=True,\n",
    ")"
   ]
  },
  {
   "cell_type": "code",
   "execution_count": 16,
   "id": "8a25f160",
   "metadata": {
    "execution": {
     "iopub.execute_input": "2024-03-02T04:57:13.627647Z",
     "iopub.status.busy": "2024-03-02T04:57:13.627093Z",
     "iopub.status.idle": "2024-03-02T04:57:13.742828Z",
     "shell.execute_reply": "2024-03-02T04:57:13.741082Z"
    },
    "papermill": {
     "duration": 0.130622,
     "end_time": "2024-03-02T04:57:13.746083",
     "exception": false,
     "start_time": "2024-03-02T04:57:13.615461",
     "status": "completed"
    },
    "tags": []
   },
   "outputs": [
    {
     "data": {
      "text/html": [
       "<style type=\"text/css\">\n",
       "#T_c77d5_row0_col0, #T_c77d5_row1_col0, #T_c77d5_row2_col0, #T_c77d5_row3_col0, #T_c77d5_row4_col0, #T_c77d5_row5_col0, #T_c77d5_row6_col0, #T_c77d5_row7_col0, #T_c77d5_row8_col0, #T_c77d5_row9_col0, #T_c77d5_row10_col0, #T_c77d5_row11_col0, #T_c77d5_row12_col0, #T_c77d5_row13_col0, #T_c77d5_row14_col0, #T_c77d5_row15_col0 {\n",
       "  background-color: #f7fcf5;\n",
       "  color: #000000;\n",
       "}\n",
       "#T_c77d5_row16_col0 {\n",
       "  background-color: #8dd08a;\n",
       "  color: #000000;\n",
       "}\n",
       "</style>\n",
       "<table id=\"T_c77d5\">\n",
       "  <thead>\n",
       "    <tr>\n",
       "      <th class=\"blank level0\" >&nbsp;</th>\n",
       "      <th id=\"T_c77d5_level0_col0\" class=\"col_heading level0 col0\" >Coefficients</th>\n",
       "    </tr>\n",
       "  </thead>\n",
       "  <tbody>\n",
       "    <tr>\n",
       "      <th id=\"T_c77d5_level0_row0\" class=\"row_heading level0 row0\" >Insoluble Residue</th>\n",
       "      <td id=\"T_c77d5_row0_col0\" class=\"data row0 col0\" >-1.336215</td>\n",
       "    </tr>\n",
       "    <tr>\n",
       "      <th id=\"T_c77d5_level0_row1\" class=\"row_heading level0 row1\" >#400</th>\n",
       "      <td id=\"T_c77d5_row1_col0\" class=\"data row1 col0\" >-0.367223</td>\n",
       "    </tr>\n",
       "    <tr>\n",
       "      <th id=\"T_c77d5_level0_row2\" class=\"row_heading level0 row2\" >K2O</th>\n",
       "      <td id=\"T_c77d5_row2_col0\" class=\"data row2 col0\" >-0.307810</td>\n",
       "    </tr>\n",
       "    <tr>\n",
       "      <th id=\"T_c77d5_level0_row3\" class=\"row_heading level0 row3\" >Loss on Ignition</th>\n",
       "      <td id=\"T_c77d5_row3_col0\" class=\"data row3 col0\" >-0.139052</td>\n",
       "    </tr>\n",
       "    <tr>\n",
       "      <th id=\"T_c77d5_level0_row4\" class=\"row_heading level0 row4\" >Al2O3</th>\n",
       "      <td id=\"T_c77d5_row4_col0\" class=\"data row4 col0\" >-0.127245</td>\n",
       "    </tr>\n",
       "    <tr>\n",
       "      <th id=\"T_c77d5_level0_row5\" class=\"row_heading level0 row5\" >Initial setting time</th>\n",
       "      <td id=\"T_c77d5_row5_col0\" class=\"data row5 col0\" >-0.079701</td>\n",
       "    </tr>\n",
       "    <tr>\n",
       "      <th id=\"T_c77d5_level0_row6\" class=\"row_heading level0 row6\" >SO3</th>\n",
       "      <td id=\"T_c77d5_row6_col0\" class=\"data row6 col0\" >-0.044278</td>\n",
       "    </tr>\n",
       "    <tr>\n",
       "      <th id=\"T_c77d5_level0_row7\" class=\"row_heading level0 row7\" >Final setting time</th>\n",
       "      <td id=\"T_c77d5_row7_col0\" class=\"data row7 col0\" >-0.001482</td>\n",
       "    </tr>\n",
       "    <tr>\n",
       "      <th id=\"T_c77d5_level0_row8\" class=\"row_heading level0 row8\" >CaO</th>\n",
       "      <td id=\"T_c77d5_row8_col0\" class=\"data row8 col0\" >0.005303</td>\n",
       "    </tr>\n",
       "    <tr>\n",
       "      <th id=\"T_c77d5_level0_row9\" class=\"row_heading level0 row9\" >MgO</th>\n",
       "      <td id=\"T_c77d5_row9_col0\" class=\"data row9 col0\" >0.011152</td>\n",
       "    </tr>\n",
       "    <tr>\n",
       "      <th id=\"T_c77d5_level0_row10\" class=\"row_heading level0 row10\" >Blaine</th>\n",
       "      <td id=\"T_c77d5_row10_col0\" class=\"data row10 col0\" >0.032588</td>\n",
       "    </tr>\n",
       "    <tr>\n",
       "      <th id=\"T_c77d5_level0_row11\" class=\"row_heading level0 row11\" >Free CaO</th>\n",
       "      <td id=\"T_c77d5_row11_col0\" class=\"data row11 col0\" >0.046470</td>\n",
       "    </tr>\n",
       "    <tr>\n",
       "      <th id=\"T_c77d5_level0_row12\" class=\"row_heading level0 row12\" >Fe2O3</th>\n",
       "      <td id=\"T_c77d5_row12_col0\" class=\"data row12 col0\" >0.095711</td>\n",
       "    </tr>\n",
       "    <tr>\n",
       "      <th id=\"T_c77d5_level0_row13\" class=\"row_heading level0 row13\" >SiO2</th>\n",
       "      <td id=\"T_c77d5_row13_col0\" class=\"data row13 col0\" >0.100261</td>\n",
       "    </tr>\n",
       "    <tr>\n",
       "      <th id=\"T_c77d5_level0_row14\" class=\"row_heading level0 row14\" >Na2O</th>\n",
       "      <td id=\"T_c77d5_row14_col0\" class=\"data row14 col0\" >0.124302</td>\n",
       "    </tr>\n",
       "    <tr>\n",
       "      <th id=\"T_c77d5_level0_row15\" class=\"row_heading level0 row15\" >CS3</th>\n",
       "      <td id=\"T_c77d5_row15_col0\" class=\"data row15 col0\" >0.380818</td>\n",
       "    </tr>\n",
       "    <tr>\n",
       "      <th id=\"T_c77d5_level0_row16\" class=\"row_heading level0 row16\" >CS7</th>\n",
       "      <td id=\"T_c77d5_row16_col0\" class=\"data row16 col0\" >2.720899</td>\n",
       "    </tr>\n",
       "  </tbody>\n",
       "</table>\n"
      ],
      "text/plain": [
       "<pandas.io.formats.style.Styler at 0x7f6721bdb4f0>"
      ]
     },
     "execution_count": 16,
     "metadata": {},
     "output_type": "execute_result"
    },
    {
     "data": {
      "application/javascript": [
       "\n",
       "            setTimeout(function() {\n",
       "                var nbb_cell_id = 16;\n",
       "                var nbb_unformatted_code = \"pd.Series(\\n    pipeline.named_steps[\\\"estimator\\\"].coef_,\\n    df_copy.drop([\\\"Date\\\"], axis=1).columns,\\n).to_frame(name=\\\"Coefficients\\\").sort_values(\\n    by=\\\"Coefficients\\\"\\n).style.background_gradient(\\n    axis=None, vmin=1, vmax=5, cmap=\\\"Greens\\\"\\n)\";\n",
       "                var nbb_formatted_code = \"pd.Series(\\n    pipeline.named_steps[\\\"estimator\\\"].coef_,\\n    df_copy.drop([\\\"Date\\\"], axis=1).columns,\\n).to_frame(name=\\\"Coefficients\\\").sort_values(\\n    by=\\\"Coefficients\\\"\\n).style.background_gradient(\\n    axis=None, vmin=1, vmax=5, cmap=\\\"Greens\\\"\\n)\";\n",
       "                var nbb_cells = Jupyter.notebook.get_cells();\n",
       "                for (var i = 0; i < nbb_cells.length; ++i) {\n",
       "                    if (nbb_cells[i].input_prompt_number == nbb_cell_id) {\n",
       "                        if (nbb_cells[i].get_text() == nbb_unformatted_code) {\n",
       "                             nbb_cells[i].set_text(nbb_formatted_code);\n",
       "                        }\n",
       "                        break;\n",
       "                    }\n",
       "                }\n",
       "            }, 500);\n",
       "            "
      ],
      "text/plain": [
       "<IPython.core.display.Javascript object>"
      ]
     },
     "metadata": {},
     "output_type": "display_data"
    }
   ],
   "source": [
    "pd.Series(\n",
    "    pipeline.named_steps[\"estimator\"].coef_,\n",
    "    df_copy.drop([\"Date\"], axis=1).columns,\n",
    ").to_frame(name=\"Coefficients\").sort_values(\n",
    "    by=\"Coefficients\"\n",
    ").style.background_gradient(\n",
    "    axis=None, vmin=1, vmax=5, cmap=\"Greens\"\n",
    ")"
   ]
  },
  {
   "cell_type": "code",
   "execution_count": null,
   "id": "0652635d",
   "metadata": {
    "papermill": {
     "duration": 0.009843,
     "end_time": "2024-03-02T04:57:13.765059",
     "exception": false,
     "start_time": "2024-03-02T04:57:13.755216",
     "status": "completed"
    },
    "tags": []
   },
   "outputs": [],
   "source": []
  }
 ],
 "metadata": {
  "kernelspec": {
   "display_name": "ccs28-venv",
   "language": "python",
   "name": "ccs28-venv"
  },
  "language_info": {
   "codemirror_mode": {
    "name": "ipython",
    "version": 3
   },
   "file_extension": ".py",
   "mimetype": "text/x-python",
   "name": "python",
   "nbconvert_exporter": "python",
   "pygments_lexer": "ipython3",
   "version": "3.10.12"
  },
  "papermill": {
   "default_parameters": {},
   "duration": 8.35941,
   "end_time": "2024-03-02T04:57:16.410878",
   "environment_variables": {},
   "exception": null,
   "input_path": "/home/peressim/projects/ccs28-ml-modelling/notebooks/modelling/209/linear_regression/s/full-ds.ipynb",
   "output_path": "/home/peressim/projects/ccs28-ml-modelling/notebooks/modelling/209/linear_regression/s/full-ds.ipynb",
   "parameters": {},
   "start_time": "2024-03-02T04:57:08.051468",
   "version": "2.5.0"
  }
 },
 "nbformat": 4,
 "nbformat_minor": 5
}