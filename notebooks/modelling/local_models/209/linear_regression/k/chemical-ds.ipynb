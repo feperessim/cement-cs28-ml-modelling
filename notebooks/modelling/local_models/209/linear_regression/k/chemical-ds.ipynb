{
 "cells": [
  {
   "cell_type": "code",
   "execution_count": 1,
   "id": "a51c55d3",
   "metadata": {
    "execution": {
     "iopub.execute_input": "2024-02-23T02:16:24.161157Z",
     "iopub.status.busy": "2024-02-23T02:16:24.160643Z",
     "iopub.status.idle": "2024-02-23T02:16:24.277518Z",
     "shell.execute_reply": "2024-02-23T02:16:24.275819Z"
    },
    "papermill": {
     "duration": 0.129431,
     "end_time": "2024-02-23T02:16:24.280728",
     "exception": false,
     "start_time": "2024-02-23T02:16:24.151297",
     "status": "completed"
    },
    "tags": []
   },
   "outputs": [
    {
     "data": {
      "application/javascript": [
       "\n",
       "            setTimeout(function() {\n",
       "                var nbb_cell_id = 1;\n",
       "                var nbb_unformatted_code = \"%load_ext nb_black\";\n",
       "                var nbb_formatted_code = \"%load_ext nb_black\";\n",
       "                var nbb_cells = Jupyter.notebook.get_cells();\n",
       "                for (var i = 0; i < nbb_cells.length; ++i) {\n",
       "                    if (nbb_cells[i].input_prompt_number == nbb_cell_id) {\n",
       "                        if (nbb_cells[i].get_text() == nbb_unformatted_code) {\n",
       "                             nbb_cells[i].set_text(nbb_formatted_code);\n",
       "                        }\n",
       "                        break;\n",
       "                    }\n",
       "                }\n",
       "            }, 500);\n",
       "            "
      ],
      "text/plain": [
       "<IPython.core.display.Javascript object>"
      ]
     },
     "metadata": {},
     "output_type": "display_data"
    }
   ],
   "source": [
    "%load_ext nb_black"
   ]
  },
  {
   "cell_type": "code",
   "execution_count": 2,
   "id": "514113f9",
   "metadata": {
    "execution": {
     "iopub.execute_input": "2024-02-23T02:16:24.299543Z",
     "iopub.status.busy": "2024-02-23T02:16:24.298976Z",
     "iopub.status.idle": "2024-02-23T02:16:26.164693Z",
     "shell.execute_reply": "2024-02-23T02:16:26.162905Z"
    },
    "papermill": {
     "duration": 1.877945,
     "end_time": "2024-02-23T02:16:26.167191",
     "exception": false,
     "start_time": "2024-02-23T02:16:24.289246",
     "status": "completed"
    },
    "tags": []
   },
   "outputs": [
    {
     "data": {
      "application/javascript": [
       "\n",
       "            setTimeout(function() {\n",
       "                var nbb_cell_id = 2;\n",
       "                var nbb_unformatted_code = \"# OS Features\\nimport os\\n\\n# Database Reading and Manipulation\\nimport pandas as pd\\n\\n# Linear Algebra\\nimport numpy as np\\n\\n# Plotting\\nimport matplotlib.pyplot as plt\\n\\n# Processing results\\nimport json\\n\\n# Model Selection\\nfrom sklearn.model_selection import train_test_split\\nfrom sklearn.model_selection import TimeSeriesSplit\\nfrom sklearn.model_selection import RepeatedKFold\\nfrom sklearn.model_selection import cross_val_score\\nfrom sklearn.model_selection import cross_validate\\nfrom sklearn.model_selection import GridSearchCV\\n\\n# Custom modules\\n## Model selection\\nfrom src.cross_validation.blocking_time_series_split import BlockingTimeSeriesSplit\\n\\n## Function to print scores\\nfrom src.utils.print_scores import print_scores\\n\\n## Function to calculate score regression metrics\\nfrom src.utils.score_regression_metrics import score_regression_metrics\\n\\n## Function to fill the results metric dict\\nfrom src.utils.fill_results_dict import fill_results_dict\\n\\n# Modeling\\nfrom sklearn.linear_model import LinearRegression\\n\\n# Preprocessing - Data standardization\\nfrom sklearn.preprocessing import StandardScaler\\n\\n# Metrics\\nfrom sklearn.metrics import mean_squared_error\\nfrom sklearn.metrics import mean_absolute_error\\nfrom sklearn.metrics import mean_absolute_percentage_error\\nfrom sklearn.metrics import r2_score\\n\\n# Pipeline\\nfrom sklearn.pipeline import Pipeline\\n\\n# Data imputation\\nfrom sklearn.impute import SimpleImputer\";\n",
       "                var nbb_formatted_code = \"# OS Features\\nimport os\\n\\n# Database Reading and Manipulation\\nimport pandas as pd\\n\\n# Linear Algebra\\nimport numpy as np\\n\\n# Plotting\\nimport matplotlib.pyplot as plt\\n\\n# Processing results\\nimport json\\n\\n# Model Selection\\nfrom sklearn.model_selection import train_test_split\\nfrom sklearn.model_selection import TimeSeriesSplit\\nfrom sklearn.model_selection import RepeatedKFold\\nfrom sklearn.model_selection import cross_val_score\\nfrom sklearn.model_selection import cross_validate\\nfrom sklearn.model_selection import GridSearchCV\\n\\n# Custom modules\\n## Model selection\\nfrom src.cross_validation.blocking_time_series_split import BlockingTimeSeriesSplit\\n\\n## Function to print scores\\nfrom src.utils.print_scores import print_scores\\n\\n## Function to calculate score regression metrics\\nfrom src.utils.score_regression_metrics import score_regression_metrics\\n\\n## Function to fill the results metric dict\\nfrom src.utils.fill_results_dict import fill_results_dict\\n\\n# Modeling\\nfrom sklearn.linear_model import LinearRegression\\n\\n# Preprocessing - Data standardization\\nfrom sklearn.preprocessing import StandardScaler\\n\\n# Metrics\\nfrom sklearn.metrics import mean_squared_error\\nfrom sklearn.metrics import mean_absolute_error\\nfrom sklearn.metrics import mean_absolute_percentage_error\\nfrom sklearn.metrics import r2_score\\n\\n# Pipeline\\nfrom sklearn.pipeline import Pipeline\\n\\n# Data imputation\\nfrom sklearn.impute import SimpleImputer\";\n",
       "                var nbb_cells = Jupyter.notebook.get_cells();\n",
       "                for (var i = 0; i < nbb_cells.length; ++i) {\n",
       "                    if (nbb_cells[i].input_prompt_number == nbb_cell_id) {\n",
       "                        if (nbb_cells[i].get_text() == nbb_unformatted_code) {\n",
       "                             nbb_cells[i].set_text(nbb_formatted_code);\n",
       "                        }\n",
       "                        break;\n",
       "                    }\n",
       "                }\n",
       "            }, 500);\n",
       "            "
      ],
      "text/plain": [
       "<IPython.core.display.Javascript object>"
      ]
     },
     "metadata": {},
     "output_type": "display_data"
    }
   ],
   "source": [
    "# OS Features\n",
    "import os\n",
    "\n",
    "# Database Reading and Manipulation\n",
    "import pandas as pd\n",
    "\n",
    "# Linear Algebra\n",
    "import numpy as np\n",
    "\n",
    "# Plotting\n",
    "import matplotlib.pyplot as plt\n",
    "\n",
    "# Processing results\n",
    "import json\n",
    "\n",
    "# Model Selection\n",
    "from sklearn.model_selection import train_test_split\n",
    "from sklearn.model_selection import TimeSeriesSplit\n",
    "from sklearn.model_selection import RepeatedKFold\n",
    "from sklearn.model_selection import cross_val_score\n",
    "from sklearn.model_selection import cross_validate\n",
    "from sklearn.model_selection import GridSearchCV\n",
    "\n",
    "# Custom modules\n",
    "## Model selection\n",
    "from src.cross_validation.blocking_time_series_split import BlockingTimeSeriesSplit\n",
    "\n",
    "## Function to print scores\n",
    "from src.utils.print_scores import print_scores\n",
    "\n",
    "## Function to calculate score regression metrics\n",
    "from src.utils.score_regression_metrics import score_regression_metrics\n",
    "\n",
    "## Function to fill the results metric dict\n",
    "from src.utils.fill_results_dict import fill_results_dict\n",
    "\n",
    "# Modeling\n",
    "from sklearn.linear_model import LinearRegression\n",
    "\n",
    "# Preprocessing - Data standardization\n",
    "from sklearn.preprocessing import StandardScaler\n",
    "\n",
    "# Metrics\n",
    "from sklearn.metrics import mean_squared_error\n",
    "from sklearn.metrics import mean_absolute_error\n",
    "from sklearn.metrics import mean_absolute_percentage_error\n",
    "from sklearn.metrics import r2_score\n",
    "\n",
    "# Pipeline\n",
    "from sklearn.pipeline import Pipeline\n",
    "\n",
    "# Data imputation\n",
    "from sklearn.impute import SimpleImputer"
   ]
  },
  {
   "cell_type": "markdown",
   "id": "ab15e5de",
   "metadata": {
    "papermill": {
     "duration": 0.006614,
     "end_time": "2024-02-23T02:16:26.180264",
     "exception": false,
     "start_time": "2024-02-23T02:16:26.173650",
     "status": "completed"
    },
    "tags": []
   },
   "source": [
    "# Functions and definitions"
   ]
  },
  {
   "cell_type": "code",
   "execution_count": 3,
   "id": "3aa15e87",
   "metadata": {
    "execution": {
     "iopub.execute_input": "2024-02-23T02:16:26.196178Z",
     "iopub.status.busy": "2024-02-23T02:16:26.195418Z",
     "iopub.status.idle": "2024-02-23T02:16:26.212279Z",
     "shell.execute_reply": "2024-02-23T02:16:26.210827Z"
    },
    "papermill": {
     "duration": 0.028593,
     "end_time": "2024-02-23T02:16:26.215057",
     "exception": false,
     "start_time": "2024-02-23T02:16:26.186464",
     "status": "completed"
    },
    "tags": []
   },
   "outputs": [
    {
     "data": {
      "application/javascript": [
       "\n",
       "            setTimeout(function() {\n",
       "                var nbb_cell_id = 3;\n",
       "                var nbb_unformatted_code = \"SEED = 47\\nMETRICS = (\\n    \\\"neg_root_mean_squared_error\\\",\\n    \\\"neg_mean_absolute_error\\\",\\n    \\\"neg_mean_absolute_percentage_error\\\",\\n    \\\"r2\\\",\\n)\\nMETRICS_DICT = {\\n    \\\"neg_root_mean_squared_error\\\": \\\"RMSE\\\",\\n    \\\"neg_mean_absolute_error\\\": \\\"MAE\\\",\\n    \\\"neg_mean_absolute_percentage_error\\\": \\\"MAPE\\\",\\n    \\\"r2\\\": \\\"R2\\\",\\n}\";\n",
       "                var nbb_formatted_code = \"SEED = 47\\nMETRICS = (\\n    \\\"neg_root_mean_squared_error\\\",\\n    \\\"neg_mean_absolute_error\\\",\\n    \\\"neg_mean_absolute_percentage_error\\\",\\n    \\\"r2\\\",\\n)\\nMETRICS_DICT = {\\n    \\\"neg_root_mean_squared_error\\\": \\\"RMSE\\\",\\n    \\\"neg_mean_absolute_error\\\": \\\"MAE\\\",\\n    \\\"neg_mean_absolute_percentage_error\\\": \\\"MAPE\\\",\\n    \\\"r2\\\": \\\"R2\\\",\\n}\";\n",
       "                var nbb_cells = Jupyter.notebook.get_cells();\n",
       "                for (var i = 0; i < nbb_cells.length; ++i) {\n",
       "                    if (nbb_cells[i].input_prompt_number == nbb_cell_id) {\n",
       "                        if (nbb_cells[i].get_text() == nbb_unformatted_code) {\n",
       "                             nbb_cells[i].set_text(nbb_formatted_code);\n",
       "                        }\n",
       "                        break;\n",
       "                    }\n",
       "                }\n",
       "            }, 500);\n",
       "            "
      ],
      "text/plain": [
       "<IPython.core.display.Javascript object>"
      ]
     },
     "metadata": {},
     "output_type": "display_data"
    }
   ],
   "source": [
    "SEED = 47\n",
    "METRICS = (\n",
    "    \"neg_root_mean_squared_error\",\n",
    "    \"neg_mean_absolute_error\",\n",
    "    \"neg_mean_absolute_percentage_error\",\n",
    "    \"r2\",\n",
    ")\n",
    "METRICS_DICT = {\n",
    "    \"neg_root_mean_squared_error\": \"RMSE\",\n",
    "    \"neg_mean_absolute_error\": \"MAE\",\n",
    "    \"neg_mean_absolute_percentage_error\": \"MAPE\",\n",
    "    \"r2\": \"R2\",\n",
    "}"
   ]
  },
  {
   "cell_type": "markdown",
   "id": "f971ad48",
   "metadata": {
    "papermill": {
     "duration": 0.006685,
     "end_time": "2024-02-23T02:16:26.228585",
     "exception": false,
     "start_time": "2024-02-23T02:16:26.221900",
     "status": "completed"
    },
    "tags": []
   },
   "source": [
    "## Defining a dataframe structure to save the results"
   ]
  },
  {
   "cell_type": "code",
   "execution_count": 4,
   "id": "cf0756ff",
   "metadata": {
    "execution": {
     "iopub.execute_input": "2024-02-23T02:16:26.246864Z",
     "iopub.status.busy": "2024-02-23T02:16:26.246372Z",
     "iopub.status.idle": "2024-02-23T02:16:26.264691Z",
     "shell.execute_reply": "2024-02-23T02:16:26.263094Z"
    },
    "papermill": {
     "duration": 0.031793,
     "end_time": "2024-02-23T02:16:26.267857",
     "exception": false,
     "start_time": "2024-02-23T02:16:26.236064",
     "status": "completed"
    },
    "tags": []
   },
   "outputs": [
    {
     "data": {
      "application/javascript": [
       "\n",
       "            setTimeout(function() {\n",
       "                var nbb_cell_id = 4;\n",
       "                var nbb_unformatted_code = \"results_to_save = []\\n\\nresults_dict = {\\n    \\\"Category\\\": \\\"Local Model\\\",\\n    \\\"Company\\\": \\\"209\\\",\\n    \\\"Plant\\\": \\\"K\\\",\\n    \\\"Features\\\": \\\"Chemical\\\",\\n    \\\"Data Shape\\\": None,\\n    \\\"Timesteps\\\": None,\\n    \\\"Model\\\": \\\"Linear Regression\\\",\\n    \\\"Model Params\\\": None,\\n    \\\"Scaler\\\": \\\"Standard Scaler\\\",\\n    \\\"Scaler Params\\\": None,\\n    \\\"Imputer\\\": \\\"Median\\\",\\n    \\\"Imputer Params\\\": None,\\n    \\\"Cross Validation\\\": None,\\n    \\\"Cross Validation Params\\\": np.nan,\\n    \\\"RMSE Train\\\": np.nan,\\n    \\\"MAE Train\\\": np.nan,\\n    \\\"MAPE Train\\\": np.nan,\\n    \\\"R2 Train\\\": np.nan,\\n    \\\"RMSE Test\\\": np.nan,\\n    \\\"MAE Test\\\": np.nan,\\n    \\\"MAPE Test\\\": np.nan,\\n    \\\"R2 Test\\\": np.nan,\\n}\";\n",
       "                var nbb_formatted_code = \"results_to_save = []\\n\\nresults_dict = {\\n    \\\"Category\\\": \\\"Local Model\\\",\\n    \\\"Company\\\": \\\"209\\\",\\n    \\\"Plant\\\": \\\"K\\\",\\n    \\\"Features\\\": \\\"Chemical\\\",\\n    \\\"Data Shape\\\": None,\\n    \\\"Timesteps\\\": None,\\n    \\\"Model\\\": \\\"Linear Regression\\\",\\n    \\\"Model Params\\\": None,\\n    \\\"Scaler\\\": \\\"Standard Scaler\\\",\\n    \\\"Scaler Params\\\": None,\\n    \\\"Imputer\\\": \\\"Median\\\",\\n    \\\"Imputer Params\\\": None,\\n    \\\"Cross Validation\\\": None,\\n    \\\"Cross Validation Params\\\": np.nan,\\n    \\\"RMSE Train\\\": np.nan,\\n    \\\"MAE Train\\\": np.nan,\\n    \\\"MAPE Train\\\": np.nan,\\n    \\\"R2 Train\\\": np.nan,\\n    \\\"RMSE Test\\\": np.nan,\\n    \\\"MAE Test\\\": np.nan,\\n    \\\"MAPE Test\\\": np.nan,\\n    \\\"R2 Test\\\": np.nan,\\n}\";\n",
       "                var nbb_cells = Jupyter.notebook.get_cells();\n",
       "                for (var i = 0; i < nbb_cells.length; ++i) {\n",
       "                    if (nbb_cells[i].input_prompt_number == nbb_cell_id) {\n",
       "                        if (nbb_cells[i].get_text() == nbb_unformatted_code) {\n",
       "                             nbb_cells[i].set_text(nbb_formatted_code);\n",
       "                        }\n",
       "                        break;\n",
       "                    }\n",
       "                }\n",
       "            }, 500);\n",
       "            "
      ],
      "text/plain": [
       "<IPython.core.display.Javascript object>"
      ]
     },
     "metadata": {},
     "output_type": "display_data"
    }
   ],
   "source": [
    "results_to_save = []\n",
    "\n",
    "results_dict = {\n",
    "    \"Category\": \"Local Model\",\n",
    "    \"Company\": \"209\",\n",
    "    \"Plant\": \"K\",\n",
    "    \"Features\": \"Chemical\",\n",
    "    \"Data Shape\": None,\n",
    "    \"Timesteps\": None,\n",
    "    \"Model\": \"Linear Regression\",\n",
    "    \"Model Params\": None,\n",
    "    \"Scaler\": \"Standard Scaler\",\n",
    "    \"Scaler Params\": None,\n",
    "    \"Imputer\": \"Median\",\n",
    "    \"Imputer Params\": None,\n",
    "    \"Cross Validation\": None,\n",
    "    \"Cross Validation Params\": np.nan,\n",
    "    \"RMSE Train\": np.nan,\n",
    "    \"MAE Train\": np.nan,\n",
    "    \"MAPE Train\": np.nan,\n",
    "    \"R2 Train\": np.nan,\n",
    "    \"RMSE Test\": np.nan,\n",
    "    \"MAE Test\": np.nan,\n",
    "    \"MAPE Test\": np.nan,\n",
    "    \"R2 Test\": np.nan,\n",
    "}"
   ]
  },
  {
   "cell_type": "markdown",
   "id": "d19fd042",
   "metadata": {
    "papermill": {
     "duration": 0.007503,
     "end_time": "2024-02-23T02:16:26.283457",
     "exception": false,
     "start_time": "2024-02-23T02:16:26.275954",
     "status": "completed"
    },
    "tags": []
   },
   "source": [
    "# Reading the dataset"
   ]
  },
  {
   "cell_type": "code",
   "execution_count": 5,
   "id": "2f920d09",
   "metadata": {
    "execution": {
     "iopub.execute_input": "2024-02-23T02:16:26.300306Z",
     "iopub.status.busy": "2024-02-23T02:16:26.299249Z",
     "iopub.status.idle": "2024-02-23T02:16:26.331787Z",
     "shell.execute_reply": "2024-02-23T02:16:26.330335Z"
    },
    "papermill": {
     "duration": 0.045021,
     "end_time": "2024-02-23T02:16:26.335243",
     "exception": false,
     "start_time": "2024-02-23T02:16:26.290222",
     "status": "completed"
    },
    "tags": []
   },
   "outputs": [
    {
     "data": {
      "application/javascript": [
       "\n",
       "            setTimeout(function() {\n",
       "                var nbb_cell_id = 5;\n",
       "                var nbb_unformatted_code = \"df = pd.read_csv(\\\"../../../../../data/processed/209/k.csv\\\")\";\n",
       "                var nbb_formatted_code = \"df = pd.read_csv(\\\"../../../../../data/processed/209/k.csv\\\")\";\n",
       "                var nbb_cells = Jupyter.notebook.get_cells();\n",
       "                for (var i = 0; i < nbb_cells.length; ++i) {\n",
       "                    if (nbb_cells[i].input_prompt_number == nbb_cell_id) {\n",
       "                        if (nbb_cells[i].get_text() == nbb_unformatted_code) {\n",
       "                             nbb_cells[i].set_text(nbb_formatted_code);\n",
       "                        }\n",
       "                        break;\n",
       "                    }\n",
       "                }\n",
       "            }, 500);\n",
       "            "
      ],
      "text/plain": [
       "<IPython.core.display.Javascript object>"
      ]
     },
     "metadata": {},
     "output_type": "display_data"
    }
   ],
   "source": [
    "df = pd.read_csv(\"../../../../../data/processed/209/k.csv\")"
   ]
  },
  {
   "cell_type": "markdown",
   "id": "db738873",
   "metadata": {
    "papermill": {
     "duration": 0.00867,
     "end_time": "2024-02-23T02:16:26.353170",
     "exception": false,
     "start_time": "2024-02-23T02:16:26.344500",
     "status": "completed"
    },
    "tags": []
   },
   "source": [
    "## Defining Features\n",
    "\n",
    "In this set of experiments we use all available features"
   ]
  },
  {
   "cell_type": "code",
   "execution_count": 6,
   "id": "f25da3d8",
   "metadata": {
    "execution": {
     "iopub.execute_input": "2024-02-23T02:16:26.369515Z",
     "iopub.status.busy": "2024-02-23T02:16:26.368979Z",
     "iopub.status.idle": "2024-02-23T02:16:26.388164Z",
     "shell.execute_reply": "2024-02-23T02:16:26.386441Z"
    },
    "papermill": {
     "duration": 0.030415,
     "end_time": "2024-02-23T02:16:26.390872",
     "exception": false,
     "start_time": "2024-02-23T02:16:26.360457",
     "status": "completed"
    },
    "tags": []
   },
   "outputs": [
    {
     "data": {
      "application/javascript": [
       "\n",
       "            setTimeout(function() {\n",
       "                var nbb_cell_id = 6;\n",
       "                var nbb_unformatted_code = \"df_copy = df.copy().drop(\\n    [\\n        \\\"Cement_Type\\\",\\n        \\\"Blaine\\\",\\n        \\n        \\\"#325\\\",\\n        \\\"Final setting time\\\",\\n\\\"Initial setting time\\\",\\n        \\n        \\n        \\\"CS3\\\",\\n        \\\"CS7\\\",\\n    ],\\n    axis=1,\\n)\";\n",
       "                var nbb_formatted_code = \"df_copy = df.copy().drop(\\n    [\\n        \\\"Cement_Type\\\",\\n        \\\"Blaine\\\",\\n        \\\"#325\\\",\\n        \\\"Final setting time\\\",\\n        \\\"Initial setting time\\\",\\n        \\\"CS3\\\",\\n        \\\"CS7\\\",\\n    ],\\n    axis=1,\\n)\";\n",
       "                var nbb_cells = Jupyter.notebook.get_cells();\n",
       "                for (var i = 0; i < nbb_cells.length; ++i) {\n",
       "                    if (nbb_cells[i].input_prompt_number == nbb_cell_id) {\n",
       "                        if (nbb_cells[i].get_text() == nbb_unformatted_code) {\n",
       "                             nbb_cells[i].set_text(nbb_formatted_code);\n",
       "                        }\n",
       "                        break;\n",
       "                    }\n",
       "                }\n",
       "            }, 500);\n",
       "            "
      ],
      "text/plain": [
       "<IPython.core.display.Javascript object>"
      ]
     },
     "metadata": {},
     "output_type": "display_data"
    }
   ],
   "source": [
    "df_copy = df.copy().drop(\n",
    "    [\n",
    "        \"Cement_Type\",\n",
    "        \"Blaine\",\n",
    "        \n",
    "        \"#325\",\n",
    "        \"Final setting time\",\n",
    "\"Initial setting time\",\n",
    "        \n",
    "        \n",
    "        \"CS3\",\n",
    "        \"CS7\",\n",
    "    ],\n",
    "    axis=1,\n",
    ")"
   ]
  },
  {
   "cell_type": "markdown",
   "id": "c1679d48",
   "metadata": {
    "papermill": {
     "duration": 0.006784,
     "end_time": "2024-02-23T02:16:26.404001",
     "exception": false,
     "start_time": "2024-02-23T02:16:26.397217",
     "status": "completed"
    },
    "tags": []
   },
   "source": [
    "# 1. Linear Regression"
   ]
  },
  {
   "cell_type": "markdown",
   "id": "1d9e9dbb",
   "metadata": {
    "papermill": {
     "duration": 0.007769,
     "end_time": "2024-02-23T02:16:26.418944",
     "exception": false,
     "start_time": "2024-02-23T02:16:26.411175",
     "status": "completed"
    },
    "tags": []
   },
   "source": [
    "<h2>1. Dataset: df_copy</h2> <br>In this dataset all features are used."
   ]
  },
  {
   "cell_type": "code",
   "execution_count": 7,
   "id": "427aaadf",
   "metadata": {
    "execution": {
     "iopub.execute_input": "2024-02-23T02:16:26.436990Z",
     "iopub.status.busy": "2024-02-23T02:16:26.436513Z",
     "iopub.status.idle": "2024-02-23T02:16:26.452141Z",
     "shell.execute_reply": "2024-02-23T02:16:26.450368Z"
    },
    "papermill": {
     "duration": 0.02798,
     "end_time": "2024-02-23T02:16:26.454907",
     "exception": false,
     "start_time": "2024-02-23T02:16:26.426927",
     "status": "completed"
    },
    "tags": []
   },
   "outputs": [
    {
     "data": {
      "application/javascript": [
       "\n",
       "            setTimeout(function() {\n",
       "                var nbb_cell_id = 7;\n",
       "                var nbb_unformatted_code = \"y = df_copy.pop(\\\"CS28\\\").values\\nx = df_copy.drop([\\\"Date\\\"], axis=1)\\ndates = df[\\\"Date\\\"].copy()\";\n",
       "                var nbb_formatted_code = \"y = df_copy.pop(\\\"CS28\\\").values\\nx = df_copy.drop([\\\"Date\\\"], axis=1)\\ndates = df[\\\"Date\\\"].copy()\";\n",
       "                var nbb_cells = Jupyter.notebook.get_cells();\n",
       "                for (var i = 0; i < nbb_cells.length; ++i) {\n",
       "                    if (nbb_cells[i].input_prompt_number == nbb_cell_id) {\n",
       "                        if (nbb_cells[i].get_text() == nbb_unformatted_code) {\n",
       "                             nbb_cells[i].set_text(nbb_formatted_code);\n",
       "                        }\n",
       "                        break;\n",
       "                    }\n",
       "                }\n",
       "            }, 500);\n",
       "            "
      ],
      "text/plain": [
       "<IPython.core.display.Javascript object>"
      ]
     },
     "metadata": {},
     "output_type": "display_data"
    }
   ],
   "source": [
    "y = df_copy.pop(\"CS28\").values\n",
    "x = df_copy.drop([\"Date\"], axis=1)\n",
    "dates = df[\"Date\"].copy()"
   ]
  },
  {
   "cell_type": "markdown",
   "id": "b3eb0e45",
   "metadata": {
    "papermill": {
     "duration": 0.006048,
     "end_time": "2024-02-23T02:16:26.468251",
     "exception": false,
     "start_time": "2024-02-23T02:16:26.462203",
     "status": "completed"
    },
    "tags": []
   },
   "source": [
    "## 1.1 Repeated KFold Cross validation\n",
    "\n",
    "<b>Dataset shape:</b> (594, 38)<br>\n",
    "<b>Repeats:</b>10<br>\n",
    "<b>Splits:</b>10<br>\n",
    "    1. 10 folds of 59 samples each\n",
    "    2. 90% train (535 samples each fold)\n",
    "    3. 10% test (59 samples each fold)\n",
    "<b>Total:</b> 100 models<br>"
   ]
  },
  {
   "cell_type": "code",
   "execution_count": 8,
   "id": "cfbc61b6",
   "metadata": {
    "execution": {
     "iopub.execute_input": "2024-02-23T02:16:26.485189Z",
     "iopub.status.busy": "2024-02-23T02:16:26.484559Z",
     "iopub.status.idle": "2024-02-23T02:16:28.326879Z",
     "shell.execute_reply": "2024-02-23T02:16:28.325135Z"
    },
    "papermill": {
     "duration": 1.854441,
     "end_time": "2024-02-23T02:16:28.329872",
     "exception": false,
     "start_time": "2024-02-23T02:16:26.475431",
     "status": "completed"
    },
    "tags": []
   },
   "outputs": [
    {
     "name": "stdout",
     "output_type": "stream",
     "text": [
      "Repeated Cross Validation:\n",
      "Repeats: 3\n",
      "n_splits: 5\n",
      "\n",
      "******\n",
      "[TRAIN]\n",
      "******\n",
      "RMSE: -2.564 (0.012)\n",
      "MAE: -2.159 (0.012)\n",
      "MAPE: -0.050 (0.000)\n",
      "R2: 0.835 (0.002)\n",
      "\n",
      "======================\n",
      "\n",
      "******\n",
      "[TEST]\n",
      "******\n",
      "RMSE: -2.577 (0.048)\n",
      "MAE: -2.169 (0.040)\n",
      "MAPE: -0.050 (0.001)\n",
      "R2: 0.833 (0.006)\n",
      "\n",
      "======================\n",
      "\n"
     ]
    },
    {
     "data": {
      "application/javascript": [
       "\n",
       "            setTimeout(function() {\n",
       "                var nbb_cell_id = 8;\n",
       "                var nbb_unformatted_code = \"repeats = 3\\nn_splits = 5\\npipeline = Pipeline(\\n    [\\n        (\\\"imputer\\\", SimpleImputer(strategy=\\\"median\\\")),\\n        (\\\"transformer\\\", StandardScaler()),\\n        (\\\"estimator\\\", LinearRegression()),\\n    ]\\n)\\ncv = RepeatedKFold(n_splits=n_splits, n_repeats=repeats, random_state=SEED)\\nscores = cross_validate(\\n    pipeline,\\n    x,\\n    y,\\n    scoring=METRICS,\\n    cv=cv,\\n    n_jobs=-1,\\n    return_train_score=True,\\n)\\nprint(\\\"Repeated Cross Validation:\\\")\\nprint(f\\\"Repeats: {repeats}\\\")\\nprint(f\\\"n_splits: {n_splits}\\\")\\nprint()\\nprint_scores(scores, METRICS, METRICS_DICT)\\n\\nresults_dict_copy = results_dict.copy()\\nresults_dict_copy[\\\"Cross Validation\\\"] = \\\"Repeated KFold\\\"\\nresults_dict_copy[\\\"Cross Validation Params\\\"] = '{\\\"N_Splits\\\": 5, \\\"Repeats\\\": 3}'\\nresults_dict_copy[\\\"Data Shape\\\"] = x.shape\\ndf_results = fill_results_dict(results_dict_copy, scores)\\nresults_to_save.append(df_results)\";\n",
       "                var nbb_formatted_code = \"repeats = 3\\nn_splits = 5\\npipeline = Pipeline(\\n    [\\n        (\\\"imputer\\\", SimpleImputer(strategy=\\\"median\\\")),\\n        (\\\"transformer\\\", StandardScaler()),\\n        (\\\"estimator\\\", LinearRegression()),\\n    ]\\n)\\ncv = RepeatedKFold(n_splits=n_splits, n_repeats=repeats, random_state=SEED)\\nscores = cross_validate(\\n    pipeline,\\n    x,\\n    y,\\n    scoring=METRICS,\\n    cv=cv,\\n    n_jobs=-1,\\n    return_train_score=True,\\n)\\nprint(\\\"Repeated Cross Validation:\\\")\\nprint(f\\\"Repeats: {repeats}\\\")\\nprint(f\\\"n_splits: {n_splits}\\\")\\nprint()\\nprint_scores(scores, METRICS, METRICS_DICT)\\n\\nresults_dict_copy = results_dict.copy()\\nresults_dict_copy[\\\"Cross Validation\\\"] = \\\"Repeated KFold\\\"\\nresults_dict_copy[\\\"Cross Validation Params\\\"] = '{\\\"N_Splits\\\": 5, \\\"Repeats\\\": 3}'\\nresults_dict_copy[\\\"Data Shape\\\"] = x.shape\\ndf_results = fill_results_dict(results_dict_copy, scores)\\nresults_to_save.append(df_results)\";\n",
       "                var nbb_cells = Jupyter.notebook.get_cells();\n",
       "                for (var i = 0; i < nbb_cells.length; ++i) {\n",
       "                    if (nbb_cells[i].input_prompt_number == nbb_cell_id) {\n",
       "                        if (nbb_cells[i].get_text() == nbb_unformatted_code) {\n",
       "                             nbb_cells[i].set_text(nbb_formatted_code);\n",
       "                        }\n",
       "                        break;\n",
       "                    }\n",
       "                }\n",
       "            }, 500);\n",
       "            "
      ],
      "text/plain": [
       "<IPython.core.display.Javascript object>"
      ]
     },
     "metadata": {},
     "output_type": "display_data"
    }
   ],
   "source": [
    "repeats = 3\n",
    "n_splits = 5\n",
    "pipeline = Pipeline(\n",
    "    [\n",
    "        (\"imputer\", SimpleImputer(strategy=\"median\")),\n",
    "        (\"transformer\", StandardScaler()),\n",
    "        (\"estimator\", LinearRegression()),\n",
    "    ]\n",
    ")\n",
    "cv = RepeatedKFold(n_splits=n_splits, n_repeats=repeats, random_state=SEED)\n",
    "scores = cross_validate(\n",
    "    pipeline,\n",
    "    x,\n",
    "    y,\n",
    "    scoring=METRICS,\n",
    "    cv=cv,\n",
    "    n_jobs=-1,\n",
    "    return_train_score=True,\n",
    ")\n",
    "print(\"Repeated Cross Validation:\")\n",
    "print(f\"Repeats: {repeats}\")\n",
    "print(f\"n_splits: {n_splits}\")\n",
    "print()\n",
    "print_scores(scores, METRICS, METRICS_DICT)\n",
    "\n",
    "results_dict_copy = results_dict.copy()\n",
    "results_dict_copy[\"Cross Validation\"] = \"Repeated KFold\"\n",
    "results_dict_copy[\"Cross Validation Params\"] = '{\"N_Splits\": 5, \"Repeats\": 3}'\n",
    "results_dict_copy[\"Data Shape\"] = x.shape\n",
    "df_results = fill_results_dict(results_dict_copy, scores)\n",
    "results_to_save.append(df_results)"
   ]
  },
  {
   "cell_type": "markdown",
   "id": "f8f5ef93",
   "metadata": {
    "papermill": {
     "duration": 0.0075,
     "end_time": "2024-02-23T02:16:28.345312",
     "exception": false,
     "start_time": "2024-02-23T02:16:28.337812",
     "status": "completed"
    },
    "tags": []
   },
   "source": [
    "## 1.2. Blocking Time Series Cross Validation\n",
    "\n",
    "<b>Dataset shape:</b> (594, 38)<br>\n",
    "<b>Splits:</b>5<br>    \n",
    "    1. 5 folds of 118 samples\n",
    "    2. 50% train (59 samples each fold)\n",
    "    3. 50% test (59 samples each fold)\n",
    "<b>Total:</b> 5 models<br>"
   ]
  },
  {
   "cell_type": "code",
   "execution_count": 9,
   "id": "217ec09e",
   "metadata": {
    "execution": {
     "iopub.execute_input": "2024-02-23T02:16:28.364842Z",
     "iopub.status.busy": "2024-02-23T02:16:28.364190Z",
     "iopub.status.idle": "2024-02-23T02:16:28.445312Z",
     "shell.execute_reply": "2024-02-23T02:16:28.443699Z"
    },
    "papermill": {
     "duration": 0.095442,
     "end_time": "2024-02-23T02:16:28.448347",
     "exception": false,
     "start_time": "2024-02-23T02:16:28.352905",
     "status": "completed"
    },
    "tags": []
   },
   "outputs": [
    {
     "name": "stdout",
     "output_type": "stream",
     "text": [
      "Blocking Time Series Split:\n",
      "Repeats: 3\n",
      "n_splits: 5\n",
      "\n",
      "******\n",
      "[TRAIN]\n",
      "******\n",
      "RMSE: -2.422 (0.203)\n",
      "MAE: -2.032 (0.224)\n",
      "MAPE: -0.047 (0.006)\n",
      "R2: 0.840 (0.060)\n",
      "\n",
      "======================\n",
      "\n",
      "******\n",
      "[TEST]\n",
      "******\n",
      "RMSE: -2.612 (0.422)\n",
      "MAE: -2.192 (0.401)\n",
      "MAPE: -0.052 (0.011)\n",
      "R2: 0.783 (0.119)\n",
      "\n",
      "======================\n",
      "\n"
     ]
    },
    {
     "data": {
      "application/javascript": [
       "\n",
       "            setTimeout(function() {\n",
       "                var nbb_cell_id = 9;\n",
       "                var nbb_unformatted_code = \"n_splits = 5\\ntrain_size = 0.8\\n\\npipeline = Pipeline(\\n    [\\n        (\\\"imputer\\\", SimpleImputer(strategy=\\\"median\\\")),\\n        (\\\"transformer\\\", StandardScaler()),\\n        (\\\"estimator\\\", LinearRegression()),\\n    ]\\n)\\ncv = BlockingTimeSeriesSplit(n_splits=n_splits, train_size=train_size)\\nscores = cross_validate(\\n    pipeline,\\n    x,\\n    y,\\n    scoring=METRICS,\\n    cv=cv,\\n    n_jobs=-1,\\n    return_train_score=True,\\n)\\nprint(\\\"Blocking Time Series Split:\\\")\\nprint(f\\\"Repeats: {repeats}\\\")\\nprint(f\\\"n_splits: {n_splits}\\\")\\nprint()\\nprint_scores(scores, METRICS, METRICS_DICT)\\n\\nresults_dict_copy = results_dict.copy()\\nresults_dict_copy[\\\"Cross Validation\\\"] = \\\"Blocking Time Series Split\\\"\\nresults_dict_copy[\\n    \\\"Cross Validation Params\\\"\\n] = '{\\\"N_Splits\\\": 5, \\\"Repeats\\\": 1, \\\"train_size\\\": 0.8}'\\nresults_dict_copy[\\\"Data Shape\\\"] = x.shape\\ndf_results = fill_results_dict(results_dict_copy, scores)\\nresults_to_save.append(df_results)\";\n",
       "                var nbb_formatted_code = \"n_splits = 5\\ntrain_size = 0.8\\n\\npipeline = Pipeline(\\n    [\\n        (\\\"imputer\\\", SimpleImputer(strategy=\\\"median\\\")),\\n        (\\\"transformer\\\", StandardScaler()),\\n        (\\\"estimator\\\", LinearRegression()),\\n    ]\\n)\\ncv = BlockingTimeSeriesSplit(n_splits=n_splits, train_size=train_size)\\nscores = cross_validate(\\n    pipeline,\\n    x,\\n    y,\\n    scoring=METRICS,\\n    cv=cv,\\n    n_jobs=-1,\\n    return_train_score=True,\\n)\\nprint(\\\"Blocking Time Series Split:\\\")\\nprint(f\\\"Repeats: {repeats}\\\")\\nprint(f\\\"n_splits: {n_splits}\\\")\\nprint()\\nprint_scores(scores, METRICS, METRICS_DICT)\\n\\nresults_dict_copy = results_dict.copy()\\nresults_dict_copy[\\\"Cross Validation\\\"] = \\\"Blocking Time Series Split\\\"\\nresults_dict_copy[\\n    \\\"Cross Validation Params\\\"\\n] = '{\\\"N_Splits\\\": 5, \\\"Repeats\\\": 1, \\\"train_size\\\": 0.8}'\\nresults_dict_copy[\\\"Data Shape\\\"] = x.shape\\ndf_results = fill_results_dict(results_dict_copy, scores)\\nresults_to_save.append(df_results)\";\n",
       "                var nbb_cells = Jupyter.notebook.get_cells();\n",
       "                for (var i = 0; i < nbb_cells.length; ++i) {\n",
       "                    if (nbb_cells[i].input_prompt_number == nbb_cell_id) {\n",
       "                        if (nbb_cells[i].get_text() == nbb_unformatted_code) {\n",
       "                             nbb_cells[i].set_text(nbb_formatted_code);\n",
       "                        }\n",
       "                        break;\n",
       "                    }\n",
       "                }\n",
       "            }, 500);\n",
       "            "
      ],
      "text/plain": [
       "<IPython.core.display.Javascript object>"
      ]
     },
     "metadata": {},
     "output_type": "display_data"
    }
   ],
   "source": [
    "n_splits = 5\n",
    "train_size = 0.8\n",
    "\n",
    "pipeline = Pipeline(\n",
    "    [\n",
    "        (\"imputer\", SimpleImputer(strategy=\"median\")),\n",
    "        (\"transformer\", StandardScaler()),\n",
    "        (\"estimator\", LinearRegression()),\n",
    "    ]\n",
    ")\n",
    "cv = BlockingTimeSeriesSplit(n_splits=n_splits, train_size=train_size)\n",
    "scores = cross_validate(\n",
    "    pipeline,\n",
    "    x,\n",
    "    y,\n",
    "    scoring=METRICS,\n",
    "    cv=cv,\n",
    "    n_jobs=-1,\n",
    "    return_train_score=True,\n",
    ")\n",
    "print(\"Blocking Time Series Split:\")\n",
    "print(f\"Repeats: {repeats}\")\n",
    "print(f\"n_splits: {n_splits}\")\n",
    "print()\n",
    "print_scores(scores, METRICS, METRICS_DICT)\n",
    "\n",
    "results_dict_copy = results_dict.copy()\n",
    "results_dict_copy[\"Cross Validation\"] = \"Blocking Time Series Split\"\n",
    "results_dict_copy[\n",
    "    \"Cross Validation Params\"\n",
    "] = '{\"N_Splits\": 5, \"Repeats\": 1, \"train_size\": 0.8}'\n",
    "results_dict_copy[\"Data Shape\"] = x.shape\n",
    "df_results = fill_results_dict(results_dict_copy, scores)\n",
    "results_to_save.append(df_results)"
   ]
  },
  {
   "cell_type": "markdown",
   "id": "9bda47a6",
   "metadata": {
    "papermill": {
     "duration": 0.008833,
     "end_time": "2024-02-23T02:16:28.466175",
     "exception": false,
     "start_time": "2024-02-23T02:16:28.457342",
     "status": "completed"
    },
    "tags": []
   },
   "source": [
    "## 1.3. Time Series Split Cross Validation\n",
    "\n",
    "The training set has size i * n_samples // (n_splits + 1) + n_samples % (n_splits + 1) in the i th split, with a test set of size n_samples//(n_splits + 1) by default, where n_samples is the number of samples.\n",
    "\n",
    "\n",
    "<b>Dataset shape:</b> (594, 38)<br>\n",
    "<b>Splits:</b>10<br>    \n",
    "    1. Train: 10 folds of 54, 108, 162, 216, 270, 324, 378, 432, 486 samples each fold\n",
    "    2. Test: 54 samples each fold\n",
    "<b>Total:</b> 10 models<br>"
   ]
  },
  {
   "cell_type": "code",
   "execution_count": 10,
   "id": "aa5ebed9",
   "metadata": {
    "execution": {
     "iopub.execute_input": "2024-02-23T02:16:28.487301Z",
     "iopub.status.busy": "2024-02-23T02:16:28.486755Z",
     "iopub.status.idle": "2024-02-23T02:16:28.563284Z",
     "shell.execute_reply": "2024-02-23T02:16:28.561696Z"
    },
    "papermill": {
     "duration": 0.091082,
     "end_time": "2024-02-23T02:16:28.566689",
     "exception": false,
     "start_time": "2024-02-23T02:16:28.475607",
     "status": "completed"
    },
    "tags": []
   },
   "outputs": [
    {
     "name": "stdout",
     "output_type": "stream",
     "text": [
      "Time Series Split:\n",
      "Repeats: 3\n",
      "n_splits: 5\n",
      "\n",
      "******\n",
      "[TRAIN]\n",
      "******\n",
      "RMSE: -2.386 (0.016)\n",
      "MAE: -1.992 (0.021)\n",
      "MAPE: -0.045 (0.000)\n",
      "R2: 0.864 (0.002)\n",
      "\n",
      "======================\n",
      "\n",
      "******\n",
      "[TEST]\n",
      "******\n",
      "RMSE: -2.682 (0.459)\n",
      "MAE: -2.238 (0.376)\n",
      "MAPE: -0.052 (0.009)\n",
      "R2: 0.788 (0.124)\n",
      "\n",
      "======================\n",
      "\n"
     ]
    },
    {
     "data": {
      "application/javascript": [
       "\n",
       "            setTimeout(function() {\n",
       "                var nbb_cell_id = 10;\n",
       "                var nbb_unformatted_code = \"n_splits = 5\\ngap = 0\\npipeline = Pipeline(\\n    [\\n        (\\\"imputer\\\", SimpleImputer(strategy=\\\"median\\\")),\\n        (\\\"transformer\\\", StandardScaler()),\\n        (\\\"estimator\\\", LinearRegression()),\\n    ]\\n)\\ncv = TimeSeriesSplit(gap=gap, max_train_size=None, n_splits=n_splits, test_size=None)\\n\\nscores = cross_validate(\\n    pipeline,\\n    x,\\n    y,\\n    scoring=METRICS,\\n    cv=cv,\\n    n_jobs=-1,\\n    return_train_score=True,\\n)\\nprint(\\\"Time Series Split:\\\")\\nprint(f\\\"Repeats: {repeats}\\\")\\nprint(f\\\"n_splits: {n_splits}\\\")\\nprint()\\nprint_scores(scores, METRICS, METRICS_DICT)\\n\\nresults_dict_copy = results_dict.copy()\\nresults_dict_copy[\\\"Cross Validation\\\"] = \\\"Time Series Split\\\"\\nresults_dict_copy[\\\"Cross Validation Params\\\"] = '{\\\"N_Splits\\\": 5, \\\"Repeats\\\": 1, \\\"Gap\\\": 0}'\\nresults_dict_copy[\\\"Data Shape\\\"] = x.shape\\ndf_results = fill_results_dict(results_dict_copy, scores)\\nresults_to_save.append(df_results)\";\n",
       "                var nbb_formatted_code = \"n_splits = 5\\ngap = 0\\npipeline = Pipeline(\\n    [\\n        (\\\"imputer\\\", SimpleImputer(strategy=\\\"median\\\")),\\n        (\\\"transformer\\\", StandardScaler()),\\n        (\\\"estimator\\\", LinearRegression()),\\n    ]\\n)\\ncv = TimeSeriesSplit(gap=gap, max_train_size=None, n_splits=n_splits, test_size=None)\\n\\nscores = cross_validate(\\n    pipeline,\\n    x,\\n    y,\\n    scoring=METRICS,\\n    cv=cv,\\n    n_jobs=-1,\\n    return_train_score=True,\\n)\\nprint(\\\"Time Series Split:\\\")\\nprint(f\\\"Repeats: {repeats}\\\")\\nprint(f\\\"n_splits: {n_splits}\\\")\\nprint()\\nprint_scores(scores, METRICS, METRICS_DICT)\\n\\nresults_dict_copy = results_dict.copy()\\nresults_dict_copy[\\\"Cross Validation\\\"] = \\\"Time Series Split\\\"\\nresults_dict_copy[\\\"Cross Validation Params\\\"] = '{\\\"N_Splits\\\": 5, \\\"Repeats\\\": 1, \\\"Gap\\\": 0}'\\nresults_dict_copy[\\\"Data Shape\\\"] = x.shape\\ndf_results = fill_results_dict(results_dict_copy, scores)\\nresults_to_save.append(df_results)\";\n",
       "                var nbb_cells = Jupyter.notebook.get_cells();\n",
       "                for (var i = 0; i < nbb_cells.length; ++i) {\n",
       "                    if (nbb_cells[i].input_prompt_number == nbb_cell_id) {\n",
       "                        if (nbb_cells[i].get_text() == nbb_unformatted_code) {\n",
       "                             nbb_cells[i].set_text(nbb_formatted_code);\n",
       "                        }\n",
       "                        break;\n",
       "                    }\n",
       "                }\n",
       "            }, 500);\n",
       "            "
      ],
      "text/plain": [
       "<IPython.core.display.Javascript object>"
      ]
     },
     "metadata": {},
     "output_type": "display_data"
    }
   ],
   "source": [
    "n_splits = 5\n",
    "gap = 0\n",
    "pipeline = Pipeline(\n",
    "    [\n",
    "        (\"imputer\", SimpleImputer(strategy=\"median\")),\n",
    "        (\"transformer\", StandardScaler()),\n",
    "        (\"estimator\", LinearRegression()),\n",
    "    ]\n",
    ")\n",
    "cv = TimeSeriesSplit(gap=gap, max_train_size=None, n_splits=n_splits, test_size=None)\n",
    "\n",
    "scores = cross_validate(\n",
    "    pipeline,\n",
    "    x,\n",
    "    y,\n",
    "    scoring=METRICS,\n",
    "    cv=cv,\n",
    "    n_jobs=-1,\n",
    "    return_train_score=True,\n",
    ")\n",
    "print(\"Time Series Split:\")\n",
    "print(f\"Repeats: {repeats}\")\n",
    "print(f\"n_splits: {n_splits}\")\n",
    "print()\n",
    "print_scores(scores, METRICS, METRICS_DICT)\n",
    "\n",
    "results_dict_copy = results_dict.copy()\n",
    "results_dict_copy[\"Cross Validation\"] = \"Time Series Split\"\n",
    "results_dict_copy[\"Cross Validation Params\"] = '{\"N_Splits\": 5, \"Repeats\": 1, \"Gap\": 0}'\n",
    "results_dict_copy[\"Data Shape\"] = x.shape\n",
    "df_results = fill_results_dict(results_dict_copy, scores)\n",
    "results_to_save.append(df_results)"
   ]
  },
  {
   "cell_type": "markdown",
   "id": "ae16c568",
   "metadata": {
    "papermill": {
     "duration": 0.009928,
     "end_time": "2024-02-23T02:16:28.586549",
     "exception": false,
     "start_time": "2024-02-23T02:16:28.576621",
     "status": "completed"
    },
    "tags": []
   },
   "source": [
    "## 1.4. Out of time Split Cross Validation\n",
    "\n",
    "<b>Dataset shape:</b> (594, 38)<br>\n",
    "<b>Train size: 80%</b><br>\n",
    "<b>Test  size: 20%</b>\n",
    "\n",
    "\n",
    "<b>Splits:</b> 2<br>    \n",
    "    1. Train: 475\n",
    "    2. Test: 118\n",
    "<b>Total:</b> 1 model<br>"
   ]
  },
  {
   "cell_type": "code",
   "execution_count": 11,
   "id": "d7229274",
   "metadata": {
    "execution": {
     "iopub.execute_input": "2024-02-23T02:16:28.609714Z",
     "iopub.status.busy": "2024-02-23T02:16:28.609035Z",
     "iopub.status.idle": "2024-02-23T02:16:28.717615Z",
     "shell.execute_reply": "2024-02-23T02:16:28.715917Z"
    },
    "papermill": {
     "duration": 0.125745,
     "end_time": "2024-02-23T02:16:28.722043",
     "exception": false,
     "start_time": "2024-02-23T02:16:28.596298",
     "status": "completed"
    },
    "scrolled": true,
    "tags": []
   },
   "outputs": [
    {
     "name": "stdout",
     "output_type": "stream",
     "text": [
      "******\n",
      "[TRAIN]\n",
      "******\n",
      "RMSE: 2.375 (0.000)\n",
      "MAE: 1.981 (0.000)\n",
      "MAPE: 0.045 (0.000)\n",
      "R2: 0.865 (0.000)\n",
      "\n",
      "======================\n",
      "\n",
      "******\n",
      "[TEST]\n",
      "******\n",
      "RMSE: 3.409 (0.000)\n",
      "MAE: 2.790 (0.000)\n",
      "MAPE: 0.066 (0.000)\n",
      "R2: 0.580 (0.000)\n",
      "\n",
      "======================\n",
      "\n"
     ]
    },
    {
     "data": {
      "application/javascript": [
       "\n",
       "            setTimeout(function() {\n",
       "                var nbb_cell_id = 11;\n",
       "                var nbb_unformatted_code = \"test_size = 0.2\\n\\nx_train, x_test, y_train, y_test = train_test_split(\\n    x, y, test_size=test_size, random_state=SEED, shuffle=False\\n)\\npipeline = Pipeline(\\n    [\\n        (\\\"imputer\\\", SimpleImputer(strategy=\\\"median\\\")),\\n        (\\\"transformer\\\", StandardScaler()),\\n        (\\\"estimator\\\", LinearRegression()),\\n    ]\\n)\\n\\npipeline.fit(x_train, y_train)\\n\\ny_train_pred = pipeline.predict(x_train)\\ny_test_pred = pipeline.predict(x_test)\\n\\nscores = score_regression_metrics(y_train, y_train_pred, y_test, y_test_pred)\\nprint_scores(scores, METRICS, METRICS_DICT)\\n\\nresults_dict_copy = results_dict.copy()\\nresults_dict_copy[\\\"Cross Validation\\\"] = \\\"Out of time Split\\\"\\nresults_dict_copy[\\\"Cross Validation Params\\\"] = '{\\\"Test Size\\\": 0.2}'\\nresults_dict_copy[\\\"Data Shape\\\"] = x.shape\\ndf_results = fill_results_dict(\\n    results_dict_copy, {key: [value] for key, value in scores.items()}\\n)\\nresults_to_save.append(df_results)\";\n",
       "                var nbb_formatted_code = \"test_size = 0.2\\n\\nx_train, x_test, y_train, y_test = train_test_split(\\n    x, y, test_size=test_size, random_state=SEED, shuffle=False\\n)\\npipeline = Pipeline(\\n    [\\n        (\\\"imputer\\\", SimpleImputer(strategy=\\\"median\\\")),\\n        (\\\"transformer\\\", StandardScaler()),\\n        (\\\"estimator\\\", LinearRegression()),\\n    ]\\n)\\n\\npipeline.fit(x_train, y_train)\\n\\ny_train_pred = pipeline.predict(x_train)\\ny_test_pred = pipeline.predict(x_test)\\n\\nscores = score_regression_metrics(y_train, y_train_pred, y_test, y_test_pred)\\nprint_scores(scores, METRICS, METRICS_DICT)\\n\\nresults_dict_copy = results_dict.copy()\\nresults_dict_copy[\\\"Cross Validation\\\"] = \\\"Out of time Split\\\"\\nresults_dict_copy[\\\"Cross Validation Params\\\"] = '{\\\"Test Size\\\": 0.2}'\\nresults_dict_copy[\\\"Data Shape\\\"] = x.shape\\ndf_results = fill_results_dict(\\n    results_dict_copy, {key: [value] for key, value in scores.items()}\\n)\\nresults_to_save.append(df_results)\";\n",
       "                var nbb_cells = Jupyter.notebook.get_cells();\n",
       "                for (var i = 0; i < nbb_cells.length; ++i) {\n",
       "                    if (nbb_cells[i].input_prompt_number == nbb_cell_id) {\n",
       "                        if (nbb_cells[i].get_text() == nbb_unformatted_code) {\n",
       "                             nbb_cells[i].set_text(nbb_formatted_code);\n",
       "                        }\n",
       "                        break;\n",
       "                    }\n",
       "                }\n",
       "            }, 500);\n",
       "            "
      ],
      "text/plain": [
       "<IPython.core.display.Javascript object>"
      ]
     },
     "metadata": {},
     "output_type": "display_data"
    }
   ],
   "source": [
    "test_size = 0.2\n",
    "\n",
    "x_train, x_test, y_train, y_test = train_test_split(\n",
    "    x, y, test_size=test_size, random_state=SEED, shuffle=False\n",
    ")\n",
    "pipeline = Pipeline(\n",
    "    [\n",
    "        (\"imputer\", SimpleImputer(strategy=\"median\")),\n",
    "        (\"transformer\", StandardScaler()),\n",
    "        (\"estimator\", LinearRegression()),\n",
    "    ]\n",
    ")\n",
    "\n",
    "pipeline.fit(x_train, y_train)\n",
    "\n",
    "y_train_pred = pipeline.predict(x_train)\n",
    "y_test_pred = pipeline.predict(x_test)\n",
    "\n",
    "scores = score_regression_metrics(y_train, y_train_pred, y_test, y_test_pred)\n",
    "print_scores(scores, METRICS, METRICS_DICT)\n",
    "\n",
    "results_dict_copy = results_dict.copy()\n",
    "results_dict_copy[\"Cross Validation\"] = \"Out of time Split\"\n",
    "results_dict_copy[\"Cross Validation Params\"] = '{\"Test Size\": 0.2}'\n",
    "results_dict_copy[\"Data Shape\"] = x.shape\n",
    "df_results = fill_results_dict(\n",
    "    results_dict_copy, {key: [value] for key, value in scores.items()}\n",
    ")\n",
    "results_to_save.append(df_results)"
   ]
  },
  {
   "cell_type": "code",
   "execution_count": 12,
   "id": "43d4a160",
   "metadata": {
    "execution": {
     "iopub.execute_input": "2024-02-23T02:16:28.747557Z",
     "iopub.status.busy": "2024-02-23T02:16:28.746916Z",
     "iopub.status.idle": "2024-02-23T02:16:28.851337Z",
     "shell.execute_reply": "2024-02-23T02:16:28.849515Z"
    },
    "papermill": {
     "duration": 0.120137,
     "end_time": "2024-02-23T02:16:28.854475",
     "exception": false,
     "start_time": "2024-02-23T02:16:28.734338",
     "status": "completed"
    },
    "tags": []
   },
   "outputs": [
    {
     "data": {
      "text/html": [
       "<div>\n",
       "<style scoped>\n",
       "    .dataframe tbody tr th:only-of-type {\n",
       "        vertical-align: middle;\n",
       "    }\n",
       "\n",
       "    .dataframe tbody tr th {\n",
       "        vertical-align: top;\n",
       "    }\n",
       "\n",
       "    .dataframe thead tr th {\n",
       "        text-align: left;\n",
       "    }\n",
       "</style>\n",
       "<table border=\"1\" class=\"dataframe\">\n",
       "  <thead>\n",
       "    <tr>\n",
       "      <th></th>\n",
       "      <th>Features</th>\n",
       "      <th>Model</th>\n",
       "      <th>Cross Validation</th>\n",
       "      <th>Cross Validation Params</th>\n",
       "      <th colspan=\"2\" halign=\"left\">RMSE Test</th>\n",
       "      <th colspan=\"2\" halign=\"left\">MAE Test</th>\n",
       "      <th colspan=\"2\" halign=\"left\">MAPE Test</th>\n",
       "      <th colspan=\"2\" halign=\"left\">R2 Test</th>\n",
       "    </tr>\n",
       "    <tr>\n",
       "      <th></th>\n",
       "      <th></th>\n",
       "      <th></th>\n",
       "      <th></th>\n",
       "      <th></th>\n",
       "      <th>mean</th>\n",
       "      <th>std</th>\n",
       "      <th>mean</th>\n",
       "      <th>std</th>\n",
       "      <th>mean</th>\n",
       "      <th>std</th>\n",
       "      <th>mean</th>\n",
       "      <th>std</th>\n",
       "    </tr>\n",
       "  </thead>\n",
       "  <tbody>\n",
       "    <tr>\n",
       "      <th>0</th>\n",
       "      <td>Chemical</td>\n",
       "      <td>Linear Regression</td>\n",
       "      <td>Blocking Time Series Split</td>\n",
       "      <td>{\"N_Splits\": 5, \"Repeats\": 1, \"train_size\": 0.8}</td>\n",
       "      <td>2.612167</td>\n",
       "      <td>0.422176</td>\n",
       "      <td>2.191694</td>\n",
       "      <td>0.400801</td>\n",
       "      <td>0.051792</td>\n",
       "      <td>0.010667</td>\n",
       "      <td>0.783012</td>\n",
       "      <td>0.119062</td>\n",
       "    </tr>\n",
       "    <tr>\n",
       "      <th>1</th>\n",
       "      <td>Chemical</td>\n",
       "      <td>Linear Regression</td>\n",
       "      <td>Out of time Split</td>\n",
       "      <td>{\"Test Size\": 0.2}</td>\n",
       "      <td>3.408794</td>\n",
       "      <td>0.000000</td>\n",
       "      <td>2.790305</td>\n",
       "      <td>0.000000</td>\n",
       "      <td>0.065768</td>\n",
       "      <td>0.000000</td>\n",
       "      <td>0.579852</td>\n",
       "      <td>0.000000</td>\n",
       "    </tr>\n",
       "    <tr>\n",
       "      <th>2</th>\n",
       "      <td>Chemical</td>\n",
       "      <td>Linear Regression</td>\n",
       "      <td>Repeated KFold</td>\n",
       "      <td>{\"N_Splits\": 5, \"Repeats\": 3}</td>\n",
       "      <td>2.576795</td>\n",
       "      <td>0.047632</td>\n",
       "      <td>2.168805</td>\n",
       "      <td>0.040207</td>\n",
       "      <td>0.049963</td>\n",
       "      <td>0.000839</td>\n",
       "      <td>0.833025</td>\n",
       "      <td>0.006482</td>\n",
       "    </tr>\n",
       "    <tr>\n",
       "      <th>3</th>\n",
       "      <td>Chemical</td>\n",
       "      <td>Linear Regression</td>\n",
       "      <td>Time Series Split</td>\n",
       "      <td>{\"N_Splits\": 5, \"Repeats\": 1, \"Gap\": 0}</td>\n",
       "      <td>2.681598</td>\n",
       "      <td>0.458690</td>\n",
       "      <td>2.238472</td>\n",
       "      <td>0.375542</td>\n",
       "      <td>0.051975</td>\n",
       "      <td>0.009436</td>\n",
       "      <td>0.787932</td>\n",
       "      <td>0.124253</td>\n",
       "    </tr>\n",
       "  </tbody>\n",
       "</table>\n",
       "</div>"
      ],
      "text/plain": [
       "   Features              Model            Cross Validation  \\\n",
       "                                                             \n",
       "0  Chemical  Linear Regression  Blocking Time Series Split   \n",
       "1  Chemical  Linear Regression           Out of time Split   \n",
       "2  Chemical  Linear Regression              Repeated KFold   \n",
       "3  Chemical  Linear Regression           Time Series Split   \n",
       "\n",
       "                            Cross Validation Params RMSE Test            \\\n",
       "                                                         mean       std   \n",
       "0  {\"N_Splits\": 5, \"Repeats\": 1, \"train_size\": 0.8}  2.612167  0.422176   \n",
       "1                                {\"Test Size\": 0.2}  3.408794  0.000000   \n",
       "2                     {\"N_Splits\": 5, \"Repeats\": 3}  2.576795  0.047632   \n",
       "3           {\"N_Splits\": 5, \"Repeats\": 1, \"Gap\": 0}  2.681598  0.458690   \n",
       "\n",
       "   MAE Test           MAPE Test             R2 Test            \n",
       "       mean       std      mean       std      mean       std  \n",
       "0  2.191694  0.400801  0.051792  0.010667  0.783012  0.119062  \n",
       "1  2.790305  0.000000  0.065768  0.000000  0.579852  0.000000  \n",
       "2  2.168805  0.040207  0.049963  0.000839  0.833025  0.006482  \n",
       "3  2.238472  0.375542  0.051975  0.009436  0.787932  0.124253  "
      ]
     },
     "execution_count": 12,
     "metadata": {},
     "output_type": "execute_result"
    },
    {
     "data": {
      "application/javascript": [
       "\n",
       "            setTimeout(function() {\n",
       "                var nbb_cell_id = 12;\n",
       "                var nbb_unformatted_code = \"pd.concat(results_to_save).groupby(\\n    [\\\"Features\\\", \\\"Model\\\", \\\"Cross Validation\\\", \\\"Cross Validation Params\\\"]\\n)[[\\\"RMSE Test\\\", \\\"MAE Test\\\", \\\"MAPE Test\\\", \\\"R2 Test\\\"]].agg(\\n    [\\\"mean\\\", lambda series: pd.Series(series.std(ddof=0), name=\\\"std\\\")]\\n).reset_index().rename(\\n    columns={\\\"<lambda_0>\\\": \\\"std\\\"}\\n)\";\n",
       "                var nbb_formatted_code = \"pd.concat(results_to_save).groupby(\\n    [\\\"Features\\\", \\\"Model\\\", \\\"Cross Validation\\\", \\\"Cross Validation Params\\\"]\\n)[[\\\"RMSE Test\\\", \\\"MAE Test\\\", \\\"MAPE Test\\\", \\\"R2 Test\\\"]].agg(\\n    [\\\"mean\\\", lambda series: pd.Series(series.std(ddof=0), name=\\\"std\\\")]\\n).reset_index().rename(\\n    columns={\\\"<lambda_0>\\\": \\\"std\\\"}\\n)\";\n",
       "                var nbb_cells = Jupyter.notebook.get_cells();\n",
       "                for (var i = 0; i < nbb_cells.length; ++i) {\n",
       "                    if (nbb_cells[i].input_prompt_number == nbb_cell_id) {\n",
       "                        if (nbb_cells[i].get_text() == nbb_unformatted_code) {\n",
       "                             nbb_cells[i].set_text(nbb_formatted_code);\n",
       "                        }\n",
       "                        break;\n",
       "                    }\n",
       "                }\n",
       "            }, 500);\n",
       "            "
      ],
      "text/plain": [
       "<IPython.core.display.Javascript object>"
      ]
     },
     "metadata": {},
     "output_type": "display_data"
    }
   ],
   "source": [
    "pd.concat(results_to_save).groupby(\n",
    "    [\"Features\", \"Model\", \"Cross Validation\", \"Cross Validation Params\"]\n",
    ")[[\"RMSE Test\", \"MAE Test\", \"MAPE Test\", \"R2 Test\"]].agg(\n",
    "    [\"mean\", lambda series: pd.Series(series.std(ddof=0), name=\"std\")]\n",
    ").reset_index().rename(\n",
    "    columns={\"<lambda_0>\": \"std\"}\n",
    ")"
   ]
  },
  {
   "cell_type": "markdown",
   "id": "3a2a712f",
   "metadata": {
    "papermill": {
     "duration": 0.010169,
     "end_time": "2024-02-23T02:16:28.874758",
     "exception": false,
     "start_time": "2024-02-23T02:16:28.864589",
     "status": "completed"
    },
    "tags": []
   },
   "source": [
    "# Saving the results Dataframe"
   ]
  },
  {
   "cell_type": "code",
   "execution_count": 13,
   "id": "f93d8ffc",
   "metadata": {
    "execution": {
     "iopub.execute_input": "2024-02-23T02:16:28.898682Z",
     "iopub.status.busy": "2024-02-23T02:16:28.898086Z",
     "iopub.status.idle": "2024-02-23T02:16:28.908772Z",
     "shell.execute_reply": "2024-02-23T02:16:28.907113Z"
    },
    "papermill": {
     "duration": 0.026249,
     "end_time": "2024-02-23T02:16:28.911734",
     "exception": false,
     "start_time": "2024-02-23T02:16:28.885485",
     "status": "completed"
    },
    "tags": []
   },
   "outputs": [
    {
     "data": {
      "application/javascript": [
       "\n",
       "            setTimeout(function() {\n",
       "                var nbb_cell_id = 13;\n",
       "                var nbb_unformatted_code = \"index_to_save = 2\";\n",
       "                var nbb_formatted_code = \"index_to_save = 2\";\n",
       "                var nbb_cells = Jupyter.notebook.get_cells();\n",
       "                for (var i = 0; i < nbb_cells.length; ++i) {\n",
       "                    if (nbb_cells[i].input_prompt_number == nbb_cell_id) {\n",
       "                        if (nbb_cells[i].get_text() == nbb_unformatted_code) {\n",
       "                             nbb_cells[i].set_text(nbb_formatted_code);\n",
       "                        }\n",
       "                        break;\n",
       "                    }\n",
       "                }\n",
       "            }, 500);\n",
       "            "
      ],
      "text/plain": [
       "<IPython.core.display.Javascript object>"
      ]
     },
     "metadata": {},
     "output_type": "display_data"
    }
   ],
   "source": [
    "index_to_save = 2"
   ]
  },
  {
   "cell_type": "code",
   "execution_count": 14,
   "id": "940afb86",
   "metadata": {
    "execution": {
     "iopub.execute_input": "2024-02-23T02:16:28.934983Z",
     "iopub.status.busy": "2024-02-23T02:16:28.934479Z",
     "iopub.status.idle": "2024-02-23T02:16:28.955783Z",
     "shell.execute_reply": "2024-02-23T02:16:28.954030Z"
    },
    "papermill": {
     "duration": 0.037264,
     "end_time": "2024-02-23T02:16:28.959291",
     "exception": false,
     "start_time": "2024-02-23T02:16:28.922027",
     "status": "completed"
    },
    "tags": []
   },
   "outputs": [
    {
     "data": {
      "application/javascript": [
       "\n",
       "            setTimeout(function() {\n",
       "                var nbb_cell_id = 14;\n",
       "                var nbb_unformatted_code = \"path = \\\"../../../../../reports/results/local_models/209/k/full/\\\"\\nfilename = f\\\"linear_regression_results_full_{index_to_save}.csv\\\"\\n\\npd.concat(results_to_save).to_csv(\\n    path_or_buf=path + filename,\\n    mode=\\\"w\\\",\\n    index=False,\\n    header=True,\\n)\";\n",
       "                var nbb_formatted_code = \"path = \\\"../../../../../reports/results/local_models/209/k/full/\\\"\\nfilename = f\\\"linear_regression_results_full_{index_to_save}.csv\\\"\\n\\npd.concat(results_to_save).to_csv(\\n    path_or_buf=path + filename,\\n    mode=\\\"w\\\",\\n    index=False,\\n    header=True,\\n)\";\n",
       "                var nbb_cells = Jupyter.notebook.get_cells();\n",
       "                for (var i = 0; i < nbb_cells.length; ++i) {\n",
       "                    if (nbb_cells[i].input_prompt_number == nbb_cell_id) {\n",
       "                        if (nbb_cells[i].get_text() == nbb_unformatted_code) {\n",
       "                             nbb_cells[i].set_text(nbb_formatted_code);\n",
       "                        }\n",
       "                        break;\n",
       "                    }\n",
       "                }\n",
       "            }, 500);\n",
       "            "
      ],
      "text/plain": [
       "<IPython.core.display.Javascript object>"
      ]
     },
     "metadata": {},
     "output_type": "display_data"
    }
   ],
   "source": [
    "path = \"../../../../../reports/results/local_models/209/k/full/\"\n",
    "filename = f\"linear_regression_results_full_{index_to_save}.csv\"\n",
    "\n",
    "pd.concat(results_to_save).to_csv(\n",
    "    path_or_buf=path + filename,\n",
    "    mode=\"w\",\n",
    "    index=False,\n",
    "    header=True,\n",
    ")"
   ]
  },
  {
   "cell_type": "markdown",
   "id": "a0bb1b0e",
   "metadata": {
    "papermill": {
     "duration": 0.010033,
     "end_time": "2024-02-23T02:16:28.979827",
     "exception": false,
     "start_time": "2024-02-23T02:16:28.969794",
     "status": "completed"
    },
    "tags": []
   },
   "source": [
    "## Saving the grouped dataframe"
   ]
  },
  {
   "cell_type": "code",
   "execution_count": 15,
   "id": "ae0da064",
   "metadata": {
    "execution": {
     "iopub.execute_input": "2024-02-23T02:16:29.003935Z",
     "iopub.status.busy": "2024-02-23T02:16:29.003350Z",
     "iopub.status.idle": "2024-02-23T02:16:29.083107Z",
     "shell.execute_reply": "2024-02-23T02:16:29.081344Z"
    },
    "papermill": {
     "duration": 0.095342,
     "end_time": "2024-02-23T02:16:29.086137",
     "exception": false,
     "start_time": "2024-02-23T02:16:28.990795",
     "status": "completed"
    },
    "tags": []
   },
   "outputs": [
    {
     "data": {
      "application/javascript": [
       "\n",
       "            setTimeout(function() {\n",
       "                var nbb_cell_id = 15;\n",
       "                var nbb_unformatted_code = \"cols_groupby = [\\n    \\\"Category\\\",\\n    \\\"Company\\\",\\n    \\\"Data Shape\\\",\\n    \\\"Timesteps\\\",\\n    \\\"Features\\\",\\n    \\\"Model\\\",\\n    \\\"Cross Validation\\\",\\n    \\\"Cross Validation Params\\\",\\n]\\n\\ncols_agg = [\\\"RMSE Train\\\", \\\"MAE Train\\\", \\\"MAPE Train\\\", \\\"R2 Train\\\"] + [\\n    \\\"RMSE Test\\\",\\n    \\\"MAE Test\\\",\\n    \\\"MAPE Test\\\",\\n    \\\"R2 Test\\\",\\n]\\n\\npath = \\\"../../../../../reports/results/local_models/209/k/grouped/\\\"\\nfilename = f\\\"linear_regression_results_grouped_{index_to_save}.csv\\\"\\n\\n\\ndf_results_to_save = (\\n    pd.concat(results_to_save)\\n    .groupby(cols_groupby, dropna=False)[cols_agg]\\n    .agg([\\\"mean\\\", lambda series: pd.Series(series.std(ddof=0), name=\\\"std\\\")])\\n    .reset_index()\\n    .rename(columns={\\\"<lambda_0>\\\": \\\"std\\\"})\\n)\\n\\ndf_results_to_save.to_csv(\\n    path_or_buf=path + filename,\\n    mode=\\\"w\\\",\\n    index=False,\\n    header=True,\\n)\";\n",
       "                var nbb_formatted_code = \"cols_groupby = [\\n    \\\"Category\\\",\\n    \\\"Company\\\",\\n    \\\"Data Shape\\\",\\n    \\\"Timesteps\\\",\\n    \\\"Features\\\",\\n    \\\"Model\\\",\\n    \\\"Cross Validation\\\",\\n    \\\"Cross Validation Params\\\",\\n]\\n\\ncols_agg = [\\\"RMSE Train\\\", \\\"MAE Train\\\", \\\"MAPE Train\\\", \\\"R2 Train\\\"] + [\\n    \\\"RMSE Test\\\",\\n    \\\"MAE Test\\\",\\n    \\\"MAPE Test\\\",\\n    \\\"R2 Test\\\",\\n]\\n\\npath = \\\"../../../../../reports/results/local_models/209/k/grouped/\\\"\\nfilename = f\\\"linear_regression_results_grouped_{index_to_save}.csv\\\"\\n\\n\\ndf_results_to_save = (\\n    pd.concat(results_to_save)\\n    .groupby(cols_groupby, dropna=False)[cols_agg]\\n    .agg([\\\"mean\\\", lambda series: pd.Series(series.std(ddof=0), name=\\\"std\\\")])\\n    .reset_index()\\n    .rename(columns={\\\"<lambda_0>\\\": \\\"std\\\"})\\n)\\n\\ndf_results_to_save.to_csv(\\n    path_or_buf=path + filename,\\n    mode=\\\"w\\\",\\n    index=False,\\n    header=True,\\n)\";\n",
       "                var nbb_cells = Jupyter.notebook.get_cells();\n",
       "                for (var i = 0; i < nbb_cells.length; ++i) {\n",
       "                    if (nbb_cells[i].input_prompt_number == nbb_cell_id) {\n",
       "                        if (nbb_cells[i].get_text() == nbb_unformatted_code) {\n",
       "                             nbb_cells[i].set_text(nbb_formatted_code);\n",
       "                        }\n",
       "                        break;\n",
       "                    }\n",
       "                }\n",
       "            }, 500);\n",
       "            "
      ],
      "text/plain": [
       "<IPython.core.display.Javascript object>"
      ]
     },
     "metadata": {},
     "output_type": "display_data"
    }
   ],
   "source": [
    "cols_groupby = [\n",
    "    \"Category\",\n",
    "    \"Company\",\n",
    "    \"Data Shape\",\n",
    "    \"Timesteps\",\n",
    "    \"Features\",\n",
    "    \"Model\",\n",
    "    \"Cross Validation\",\n",
    "    \"Cross Validation Params\",\n",
    "]\n",
    "\n",
    "cols_agg = [\"RMSE Train\", \"MAE Train\", \"MAPE Train\", \"R2 Train\"] + [\n",
    "    \"RMSE Test\",\n",
    "    \"MAE Test\",\n",
    "    \"MAPE Test\",\n",
    "    \"R2 Test\",\n",
    "]\n",
    "\n",
    "path = \"../../../../../reports/results/local_models/209/k/grouped/\"\n",
    "filename = f\"linear_regression_results_grouped_{index_to_save}.csv\"\n",
    "\n",
    "\n",
    "df_results_to_save = (\n",
    "    pd.concat(results_to_save)\n",
    "    .groupby(cols_groupby, dropna=False)[cols_agg]\n",
    "    .agg([\"mean\", lambda series: pd.Series(series.std(ddof=0), name=\"std\")])\n",
    "    .reset_index()\n",
    "    .rename(columns={\"<lambda_0>\": \"std\"})\n",
    ")\n",
    "\n",
    "df_results_to_save.to_csv(\n",
    "    path_or_buf=path + filename,\n",
    "    mode=\"w\",\n",
    "    index=False,\n",
    "    header=True,\n",
    ")"
   ]
  },
  {
   "cell_type": "code",
   "execution_count": 16,
   "id": "973c89ba",
   "metadata": {
    "execution": {
     "iopub.execute_input": "2024-02-23T02:16:29.110130Z",
     "iopub.status.busy": "2024-02-23T02:16:29.109539Z",
     "iopub.status.idle": "2024-02-23T02:16:29.224260Z",
     "shell.execute_reply": "2024-02-23T02:16:29.222362Z"
    },
    "papermill": {
     "duration": 0.131011,
     "end_time": "2024-02-23T02:16:29.227379",
     "exception": false,
     "start_time": "2024-02-23T02:16:29.096368",
     "status": "completed"
    },
    "tags": []
   },
   "outputs": [
    {
     "data": {
      "text/html": [
       "<style type=\"text/css\">\n",
       "#T_4cdf0_row0_col0, #T_4cdf0_row1_col0, #T_4cdf0_row2_col0, #T_4cdf0_row3_col0, #T_4cdf0_row4_col0, #T_4cdf0_row5_col0, #T_4cdf0_row6_col0, #T_4cdf0_row7_col0, #T_4cdf0_row8_col0 {\n",
       "  background-color: #f7fcf5;\n",
       "  color: #000000;\n",
       "}\n",
       "#T_4cdf0_row9_col0 {\n",
       "  background-color: #f5fbf3;\n",
       "  color: #000000;\n",
       "}\n",
       "</style>\n",
       "<table id=\"T_4cdf0\">\n",
       "  <thead>\n",
       "    <tr>\n",
       "      <th class=\"blank level0\" >&nbsp;</th>\n",
       "      <th id=\"T_4cdf0_level0_col0\" class=\"col_heading level0 col0\" >Coefficients</th>\n",
       "    </tr>\n",
       "  </thead>\n",
       "  <tbody>\n",
       "    <tr>\n",
       "      <th id=\"T_4cdf0_level0_row0\" class=\"row_heading level0 row0\" >Insoluble Residue</th>\n",
       "      <td id=\"T_4cdf0_row0_col0\" class=\"data row0 col0\" >-6.271632</td>\n",
       "    </tr>\n",
       "    <tr>\n",
       "      <th id=\"T_4cdf0_level0_row1\" class=\"row_heading level0 row1\" >Loss on Ignition</th>\n",
       "      <td id=\"T_4cdf0_row1_col0\" class=\"data row1 col0\" >-1.832096</td>\n",
       "    </tr>\n",
       "    <tr>\n",
       "      <th id=\"T_4cdf0_level0_row2\" class=\"row_heading level0 row2\" >MgO</th>\n",
       "      <td id=\"T_4cdf0_row2_col0\" class=\"data row2 col0\" >-0.009781</td>\n",
       "    </tr>\n",
       "    <tr>\n",
       "      <th id=\"T_4cdf0_level0_row3\" class=\"row_heading level0 row3\" >Fe2O3</th>\n",
       "      <td id=\"T_4cdf0_row3_col0\" class=\"data row3 col0\" >0.021610</td>\n",
       "    </tr>\n",
       "    <tr>\n",
       "      <th id=\"T_4cdf0_level0_row4\" class=\"row_heading level0 row4\" >Na2O</th>\n",
       "      <td id=\"T_4cdf0_row4_col0\" class=\"data row4 col0\" >0.187329</td>\n",
       "    </tr>\n",
       "    <tr>\n",
       "      <th id=\"T_4cdf0_level0_row5\" class=\"row_heading level0 row5\" >SO3</th>\n",
       "      <td id=\"T_4cdf0_row5_col0\" class=\"data row5 col0\" >0.502270</td>\n",
       "    </tr>\n",
       "    <tr>\n",
       "      <th id=\"T_4cdf0_level0_row6\" class=\"row_heading level0 row6\" >CaO</th>\n",
       "      <td id=\"T_4cdf0_row6_col0\" class=\"data row6 col0\" >0.585689</td>\n",
       "    </tr>\n",
       "    <tr>\n",
       "      <th id=\"T_4cdf0_level0_row7\" class=\"row_heading level0 row7\" >K2O</th>\n",
       "      <td id=\"T_4cdf0_row7_col0\" class=\"data row7 col0\" >0.686839</td>\n",
       "    </tr>\n",
       "    <tr>\n",
       "      <th id=\"T_4cdf0_level0_row8\" class=\"row_heading level0 row8\" >SiO2</th>\n",
       "      <td id=\"T_4cdf0_row8_col0\" class=\"data row8 col0\" >0.852824</td>\n",
       "    </tr>\n",
       "    <tr>\n",
       "      <th id=\"T_4cdf0_level0_row9\" class=\"row_heading level0 row9\" >Al2O3</th>\n",
       "      <td id=\"T_4cdf0_row9_col0\" class=\"data row9 col0\" >1.059771</td>\n",
       "    </tr>\n",
       "  </tbody>\n",
       "</table>\n"
      ],
      "text/plain": [
       "<pandas.io.formats.style.Styler at 0x7ff0aa0d7cd0>"
      ]
     },
     "execution_count": 16,
     "metadata": {},
     "output_type": "execute_result"
    },
    {
     "data": {
      "application/javascript": [
       "\n",
       "            setTimeout(function() {\n",
       "                var nbb_cell_id = 16;\n",
       "                var nbb_unformatted_code = \"pd.Series(\\n    pipeline.named_steps[\\\"estimator\\\"].coef_,\\n    df_copy.drop([\\\"Date\\\"], axis=1).columns,\\n).to_frame(name=\\\"Coefficients\\\").sort_values(\\n    by=\\\"Coefficients\\\"\\n).style.background_gradient(\\n    axis=None, vmin=1, vmax=5, cmap=\\\"Greens\\\"\\n)\";\n",
       "                var nbb_formatted_code = \"pd.Series(\\n    pipeline.named_steps[\\\"estimator\\\"].coef_,\\n    df_copy.drop([\\\"Date\\\"], axis=1).columns,\\n).to_frame(name=\\\"Coefficients\\\").sort_values(\\n    by=\\\"Coefficients\\\"\\n).style.background_gradient(\\n    axis=None, vmin=1, vmax=5, cmap=\\\"Greens\\\"\\n)\";\n",
       "                var nbb_cells = Jupyter.notebook.get_cells();\n",
       "                for (var i = 0; i < nbb_cells.length; ++i) {\n",
       "                    if (nbb_cells[i].input_prompt_number == nbb_cell_id) {\n",
       "                        if (nbb_cells[i].get_text() == nbb_unformatted_code) {\n",
       "                             nbb_cells[i].set_text(nbb_formatted_code);\n",
       "                        }\n",
       "                        break;\n",
       "                    }\n",
       "                }\n",
       "            }, 500);\n",
       "            "
      ],
      "text/plain": [
       "<IPython.core.display.Javascript object>"
      ]
     },
     "metadata": {},
     "output_type": "display_data"
    }
   ],
   "source": [
    "pd.Series(\n",
    "    pipeline.named_steps[\"estimator\"].coef_,\n",
    "    df_copy.drop([\"Date\"], axis=1).columns,\n",
    ").to_frame(name=\"Coefficients\").sort_values(\n",
    "    by=\"Coefficients\"\n",
    ").style.background_gradient(\n",
    "    axis=None, vmin=1, vmax=5, cmap=\"Greens\"\n",
    ")"
   ]
  },
  {
   "cell_type": "code",
   "execution_count": null,
   "id": "4736ae15",
   "metadata": {
    "papermill": {
     "duration": 0.011444,
     "end_time": "2024-02-23T02:16:29.250318",
     "exception": false,
     "start_time": "2024-02-23T02:16:29.238874",
     "status": "completed"
    },
    "tags": []
   },
   "outputs": [],
   "source": []
  }
 ],
 "metadata": {
  "kernelspec": {
   "display_name": "ccs28-venv",
   "language": "python",
   "name": "ccs28-venv"
  },
  "language_info": {
   "codemirror_mode": {
    "name": "ipython",
    "version": 3
   },
   "file_extension": ".py",
   "mimetype": "text/x-python",
   "name": "python",
   "nbconvert_exporter": "python",
   "pygments_lexer": "ipython3",
   "version": "3.10.12"
  },
  "papermill": {
   "default_parameters": {},
   "duration": 9.309906,
   "end_time": "2024-02-23T02:16:31.901767",
   "environment_variables": {},
   "exception": null,
   "input_path": "/home/peressim/projects/ccs28-ml-modelling/notebooks/modelling/209/linear_regression/k/chemical-ds.ipynb",
   "output_path": "/home/peressim/projects/ccs28-ml-modelling/notebooks/modelling/209/linear_regression/k/chemical-ds.ipynb",
   "parameters": {},
   "start_time": "2024-02-23T02:16:22.591861",
   "version": "2.5.0"
  }
 },
 "nbformat": 4,
 "nbformat_minor": 5
}