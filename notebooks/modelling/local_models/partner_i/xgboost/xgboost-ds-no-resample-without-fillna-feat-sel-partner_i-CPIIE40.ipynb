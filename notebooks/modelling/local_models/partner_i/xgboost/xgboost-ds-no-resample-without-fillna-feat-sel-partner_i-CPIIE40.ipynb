{
 "cells": [
  {
   "cell_type": "code",
   "execution_count": 1,
   "metadata": {},
   "outputs": [],
   "source": [
    "import pandas as pd\n",
    "import numpy as np\n",
    "import warnings\n",
    "import matplotlib.pyplot as plt\n",
    "\n",
    "from sklearn.model_selection import GridSearchCV\n",
    "from sklearn.model_selection import RepeatedKFold\n",
    "from sklearn.model_selection import cross_val_score\n",
    "from sklearn.model_selection import train_test_split\n",
    "from sklearn.metrics import mean_squared_error\n",
    "from sklearn.pipeline import Pipeline\n",
    "\n",
    "from xgboost import XGBRegressor\n",
    "from xgboost import plot_importance"
   ]
  },
  {
   "cell_type": "code",
   "execution_count": 2,
   "metadata": {},
   "outputs": [],
   "source": [
    "def evaluate_model(model, x, y):\n",
    "    y_pred = model.predict(x)\n",
    "    rmse = mean_squared_error(y, y_pred, squared=False)\n",
    "    return rmse"
   ]
  },
  {
   "cell_type": "code",
   "execution_count": 3,
   "metadata": {},
   "outputs": [],
   "source": [
    "def get_xgboost_model():\n",
    "    model = XGBRegressor(\n",
    "        objective=\"reg:linear\",\n",
    "        random_state=seed,\n",
    "        tree_method=\"gpu_hist\",\n",
    "        predictor=\"gpu_predictor\",\n",
    "        verbosity=0,\n",
    "    )\n",
    "    return model"
   ]
  },
  {
   "cell_type": "code",
   "execution_count": 4,
   "metadata": {},
   "outputs": [],
   "source": [
    "warnings.filterwarnings(\"ignore\")\n",
    "seed=47"
   ]
  },
  {
   "cell_type": "code",
   "execution_count": 5,
   "metadata": {},
   "outputs": [],
   "source": [
    "df_r3d_and_r7d = pd.read_csv(\n",
    "    \"../../../../data/interim/\"\n",
    "    + \"r3d_and_r7d-no-resampling-with-fillna-\"\n",
    "    + \"dados-historicos-partner_i-cement-CPIIE40.csv\"\n",
    ")\n",
    "df_r3d_only = pd.read_csv(\n",
    "    \"../../../../data/interim/\"\n",
    "    + \"r3d_only-no-resampling-with-fillna-\"\n",
    "    + \"dados-historicos-partner_i-cement-CPIIE40.csv\"\n",
    ")\n",
    "df_no_r3d_r7d = pd.read_csv(\n",
    "    \"../../../../data/interim/\"\n",
    "    + \"no-r3d-r7d-no-resampling-with-fillna-\"\n",
    "    + \"dados-historicos-partner_i-cement-CPIIE40.csv\"\n",
    ")"
   ]
  },
  {
   "cell_type": "markdown",
   "metadata": {},
   "source": [
    "## Feature Selection\n",
    "\n",
    "### In this notebook we remove variables that could potentially cause data leakage. Thus we are performing testings removing the following variables:\n",
    "\n",
    "#### IP - Initial setting time\n",
    "#### FP - Final setting time\n",
    "\n",
    "\n",
    "#### BL - Blaine specific surface (This is both removed and use)"
   ]
  },
  {
   "cell_type": "markdown",
   "metadata": {},
   "source": [
    "# XGBoost Gradient"
   ]
  },
  {
   "cell_type": "code",
   "execution_count": 6,
   "metadata": {},
   "outputs": [],
   "source": [
    "y = df_no_r3d_r7d[\"R28D\"]\n",
    "x = df_no_r3d_r7d.drop([\"Data/Hora\", \"R28D\", \"IP\", \"FP\"], axis=1)"
   ]
  },
  {
   "cell_type": "markdown",
   "metadata": {},
   "source": [
    "# Grid Search Hyperparameters - XGBoost"
   ]
  },
  {
   "cell_type": "markdown",
   "metadata": {},
   "source": [
    "<b>Dataset:</b> df_no_r3d_r7d: In this dataset the R3D and R7D variables are not considered.\n",
    "\n",
    "<b>Feature Selection:</b> The IP and FP variables are discarded."
   ]
  },
  {
   "cell_type": "code",
   "execution_count": 7,
   "metadata": {},
   "outputs": [],
   "source": [
    "# https://www.kaggle.com/prashant111/a-guide-on-xgboost-hyperparameters-tuning#2.-XGBoost-hyperparameters-\n",
    "params = {\n",
    "    \"n_estimators\": [10, 50, 100, 200, 300],\n",
    "    \"max_depth\": [2, 3, 5, 10, 15, 20],\n",
    "    \"subsample\": [0.8, 0.9, 1.0],\n",
    "    \"eta\": [0.11, 0.12],\n",
    "    \"colsample_bytree\": [0.3, 0.4],\n",
    "    \"min_child_weight\": [1, 2, 3, 5],\n",
    "    \"gamma\": [0.001, 0.1, 1, 2],\n",
    "}"
   ]
  },
  {
   "cell_type": "markdown",
   "metadata": {},
   "source": [
    "<h3>GridCV 1</h3>\n",
    "\n",
    "<b>Dataset: df_no_r3d_r7d:</b> In this dataset the R3D and R7D variables are not considered."
   ]
  },
  {
   "cell_type": "code",
   "execution_count": 8,
   "metadata": {},
   "outputs": [
    {
     "name": "stdout",
     "output_type": "stream",
     "text": [
      "\n",
      "Minutes Elapsed:  126.04459615151087\n",
      "Best Score: -1.7524398242410926\n",
      "Best Hyperparameters: {'colsample_bytree': 0.3, 'eta': 0.12, 'gamma': 1, 'max_depth': 3, 'min_child_weight': 5, 'n_estimators': 50, 'subsample': 0.8}\n"
     ]
    }
   ],
   "source": [
    "model = XGBRegressor(\n",
    "    objective=\"reg:linear\",\n",
    "    random_state=seed,\n",
    "    tree_method=\"gpu_hist\",\n",
    "    predictor=\"gpu_predictor\",\n",
    "    early_stopping_rounds=200,\n",
    "    verbosity=0,\n",
    ")\n",
    "cv = RepeatedKFold(n_splits=5, n_repeats=1, random_state=seed)\n",
    "search = GridSearchCV(\n",
    "    model, param_grid=params, scoring=\"neg_root_mean_squared_error\", n_jobs=-1, cv=cv\n",
    ")\n",
    "\n",
    "import time\n",
    "\n",
    "start = time.time()\n",
    "\n",
    "result = search.fit(x, y)\n",
    "\n",
    "end = time.time()\n",
    "print(\"\\nMinutes Elapsed: \", (end - start) / 60)\n",
    "\n",
    "print(\"Best Score: %s\" % result.best_score_)\n",
    "print(\"Best Hyperparameters: %s\" % result.best_params_)"
   ]
  },
  {
   "cell_type": "markdown",
   "metadata": {},
   "source": [
    "# Repeated KFold Cross validation"
   ]
  },
  {
   "cell_type": "markdown",
   "metadata": {},
   "source": [
    "## 1.1 Dataset: no-r3d-r7d-no-resampling-with-fillna"
   ]
  },
  {
   "cell_type": "markdown",
   "metadata": {},
   "source": [
    "<h3>Experiment 1</h3>\n",
    "\n",
    "<h4> Repeated KFold Cross Validation - df_no_r3d_r7d</h4>\n",
    "\n",
    "<b>Dataset: df_no_r3d_r7d:</b> In this dataset the R3D and R7D variables are not considered.\n",
    "\n",
    "<b>Feature Selection:</b> The IP and FP variables are discarded."
   ]
  },
  {
   "cell_type": "code",
   "execution_count": 10,
   "metadata": {},
   "outputs": [],
   "source": [
    "y = df_no_r3d_r7d[\"R28D\"]\n",
    "x = df_no_r3d_r7d.drop([\"Data/Hora\", \"R28D\", \"IP\", \"FP\"], axis=1)"
   ]
  },
  {
   "cell_type": "code",
   "execution_count": 11,
   "metadata": {},
   "outputs": [
    {
     "name": "stdout",
     "output_type": "stream",
     "text": [
      "RMSE: 1.868 (0.238)\n"
     ]
    }
   ],
   "source": [
    "model = get_xgboost_model()\n",
    "cv = RepeatedKFold(n_splits=10, n_repeats=10, random_state=seed)\n",
    "scores = cross_val_score(\n",
    "    model, x, y, scoring=\"neg_root_mean_squared_error\", cv=cv, n_jobs=-1\n",
    ")\n",
    "scores = np.abs(scores)\n",
    "print(\"RMSE: %.3f (%.3f)\" % (np.mean(scores), np.std(scores)))"
   ]
  },
  {
   "cell_type": "markdown",
   "metadata": {},
   "source": [
    "<h3>Experiment 2</h3>\n",
    "\n",
    "\n",
    "<h4> Repeated KFold Cross Validation - df_no_r3d_r7d</h4>\n",
    "\n",
    "<b>Dataset: df_no_r3d_r7d:</b> In this dataset the R3D and R7D variables are not considered.\n",
    "\n",
    "<b>Feature Selection:</b> The IP, FP and BL variables are discarded."
   ]
  },
  {
   "cell_type": "code",
   "execution_count": 12,
   "metadata": {},
   "outputs": [],
   "source": [
    "y = df_no_r3d_r7d[\"R28D\"]\n",
    "x = df_no_r3d_r7d.drop([\"Data/Hora\", \"R28D\", \"IP\", \"FP\", \"BL\"], axis=1)"
   ]
  },
  {
   "cell_type": "code",
   "execution_count": 13,
   "metadata": {},
   "outputs": [
    {
     "name": "stdout",
     "output_type": "stream",
     "text": [
      "RMSE: 1.958 (0.271)\n"
     ]
    }
   ],
   "source": [
    "model = get_xgboost_model()\n",
    "cv = RepeatedKFold(n_splits=10, n_repeats=10, random_state=seed)\n",
    "scores = cross_val_score(\n",
    "    model, x, y, scoring=\"neg_root_mean_squared_error\", cv=cv, n_jobs=-1\n",
    ")\n",
    "scores = np.abs(scores)\n",
    "print(\"RMSE: %.3f (%.3f)\" % (np.mean(scores), np.std(scores)))"
   ]
  },
  {
   "cell_type": "markdown",
   "metadata": {},
   "source": [
    "## 1.2 Dataset: df_r3d_only"
   ]
  },
  {
   "cell_type": "markdown",
   "metadata": {},
   "source": [
    "<h3>Experiment 3</h3>\n",
    "<h4> Repeated KFold Cross Validation - df_r3d-only</h4>\n",
    "\n",
    "<b>Dataset: df_r3d-only:</b> In this dataset the R7D variable is not considered.\n",
    "\n",
    "<b>Feature Selection:</b> The IP and FP variables are discarded."
   ]
  },
  {
   "cell_type": "code",
   "execution_count": 14,
   "metadata": {},
   "outputs": [],
   "source": [
    "y = df_r3d_only['R28D']\n",
    "x = df_r3d_only.drop([\"Data/Hora\", \"R28D\", \"IP\", \"FP\"], axis=1)"
   ]
  },
  {
   "cell_type": "code",
   "execution_count": 15,
   "metadata": {},
   "outputs": [
    {
     "name": "stdout",
     "output_type": "stream",
     "text": [
      "RMSE: 1.822 (0.235)\n"
     ]
    }
   ],
   "source": [
    "model = get_xgboost_model()\n",
    "cv = RepeatedKFold(n_splits=10, n_repeats=10, random_state=seed)\n",
    "scores = cross_val_score(\n",
    "    model, x, y, scoring=\"neg_root_mean_squared_error\", cv=cv, n_jobs=-1\n",
    ")\n",
    "scores = np.abs(scores)\n",
    "print(\"RMSE: %.3f (%.3f)\" % (np.mean(scores), np.std(scores)))"
   ]
  },
  {
   "cell_type": "markdown",
   "metadata": {},
   "source": [
    "<h3>Experiment 4</h3>\n",
    "\n",
    "<h4> Repeated KFold Cross Validation - df_r3d-only</h4>\n",
    "\n",
    "<b>Dataset: df_r3d-only:</b> In this dataset the R7D variable is not considered.\n",
    "\n",
    "<b>Feature Selection:</b> The IP, FP and BL variables are discarded."
   ]
  },
  {
   "cell_type": "code",
   "execution_count": 16,
   "metadata": {},
   "outputs": [],
   "source": [
    "y = df_r3d_only['R28D']\n",
    "x = df_r3d_only.drop([\"Data/Hora\", \"R28D\", \"IP\", \"FP\", \"BL\"], axis=1)"
   ]
  },
  {
   "cell_type": "code",
   "execution_count": 17,
   "metadata": {},
   "outputs": [
    {
     "name": "stdout",
     "output_type": "stream",
     "text": [
      "RMSE: 1.873 (0.256)\n"
     ]
    }
   ],
   "source": [
    "model = get_xgboost_model()\n",
    "cv = RepeatedKFold(n_splits=10, n_repeats=10, random_state=seed)\n",
    "scores = cross_val_score(\n",
    "    model, x, y, scoring=\"neg_root_mean_squared_error\", cv=cv, n_jobs=-1\n",
    ")\n",
    "scores = np.abs(scores)\n",
    "print(\"RMSE: %.3f (%.3f)\" % (np.mean(scores), np.std(scores)))"
   ]
  },
  {
   "cell_type": "markdown",
   "metadata": {},
   "source": [
    "## 1.3 Dataset: df_r3d_and_rd7"
   ]
  },
  {
   "cell_type": "markdown",
   "metadata": {},
   "source": [
    "<h3>Experiment 5</h3>\n",
    "<h4> Repeated KFold Cross Validation - df_r3d-and-rd7</h4>\n",
    "\n",
    "<b>Dataset: df_r3d_and_r7d:</b> In this dataset both R3D and R7D variables are considered.\n",
    "\n",
    "<b>Feature Selection:</b> The IP and, FP variables are discarded."
   ]
  },
  {
   "cell_type": "code",
   "execution_count": 20,
   "metadata": {},
   "outputs": [],
   "source": [
    "y = df_r3d_and_r7d['R28D']\n",
    "x = df_r3d_and_r7d.drop(['Data/Hora', 'R28D', \"IP\", \"FP\"], axis=1)"
   ]
  },
  {
   "cell_type": "code",
   "execution_count": 21,
   "metadata": {},
   "outputs": [
    {
     "name": "stdout",
     "output_type": "stream",
     "text": [
      "RMSE: 1.709 (0.229)\n"
     ]
    }
   ],
   "source": [
    "model = get_xgboost_model()\n",
    "cv = RepeatedKFold(n_splits=10, n_repeats=10, random_state=seed)\n",
    "scores = cross_val_score(model, x, y, scoring='neg_root_mean_squared_error', cv=cv, n_jobs=-1)\n",
    "scores = np.abs(scores)\n",
    "print('RMSE: %.3f (%.3f)' % (np.mean(scores), np.std(scores)))"
   ]
  },
  {
   "cell_type": "markdown",
   "metadata": {},
   "source": [
    "<h3>Experiment 5</h3>\n",
    "<h4> Repeated KFold Cross Validation - df_r3d-and-rd7</h4>\n",
    "\n",
    "<b>Dataset: df_r3d_and_r7d:</b> In this dataset both R3D and R7D variables are considered.\n",
    "\n",
    "<b>Feature Selection:</b> The IP, FP and BL variables are discarded."
   ]
  },
  {
   "cell_type": "code",
   "execution_count": 22,
   "metadata": {},
   "outputs": [],
   "source": [
    "y = df_r3d_and_r7d['R28D']\n",
    "x = df_r3d_and_r7d.drop(['Data/Hora', 'R28D', \"IP\", \"FP\", \"BL\"], axis=1)"
   ]
  },
  {
   "cell_type": "code",
   "execution_count": 23,
   "metadata": {},
   "outputs": [
    {
     "name": "stdout",
     "output_type": "stream",
     "text": [
      "RMSE: 1.728 (0.243)\n"
     ]
    }
   ],
   "source": [
    "model = get_xgboost_model()\n",
    "cv = RepeatedKFold(n_splits=10, n_repeats=10, random_state=seed)\n",
    "scores = cross_val_score(model, x, y, scoring='neg_root_mean_squared_error', cv=cv, n_jobs=-1)\n",
    "scores = np.abs(scores)\n",
    "print('RMSE: %.3f (%.3f)' % (np.mean(scores), np.std(scores)))"
   ]
  },
  {
   "cell_type": "code",
   "execution_count": null,
   "metadata": {},
   "outputs": [],
   "source": []
  }
 ],
 "metadata": {
  "kernelspec": {
   "display_name": "ccs28-venv",
   "language": "python",
   "name": "ccs28-venv"
  },
  "language_info": {
   "codemirror_mode": {
    "name": "ipython",
    "version": 3
   },
   "file_extension": ".py",
   "mimetype": "text/x-python",
   "name": "python",
   "nbconvert_exporter": "python",
   "pygments_lexer": "ipython3",
   "version": "3.8.10"
  }
 },
 "nbformat": 4,
 "nbformat_minor": 4
}
