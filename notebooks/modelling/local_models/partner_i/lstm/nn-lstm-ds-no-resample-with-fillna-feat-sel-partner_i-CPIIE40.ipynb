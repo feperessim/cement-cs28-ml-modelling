{
 "cells": [
  {
   "cell_type": "code",
   "execution_count": 1,
   "metadata": {},
   "outputs": [],
   "source": [
    "import pandas as pd\n",
    "import numpy as np\n",
    "import tensorflow as tf\n",
    "import matplotlib.pyplot as plt\n",
    "import tensorflow as tf\n",
    "import time\n",
    "import os \n",
    "\n",
    "from sklearn.preprocessing import StandardScaler\n",
    "from sklearn.pipeline import Pipeline\n",
    "\n",
    "from src.utils.time_series_procs import split_sequences"
   ]
  },
  {
   "cell_type": "code",
   "execution_count": 2,
   "metadata": {},
   "outputs": [],
   "source": [
    "def get_times_series_data(df, cut_date, time_steps=3):\n",
    "    columns = list(df.columns.drop([\"R28D\"]))\n",
    "    columns.append(\"R28D\")\n",
    "    df = df.reindex(columns=columns)\n",
    "    df[\"Data/Hora\"] = pd.to_datetime(df[\"Data/Hora\"])\n",
    "    df_train = df[df[\"Data/Hora\"] < cut_date]\n",
    "    df_test = df[df[\"Data/Hora\"] >= cut_date]\n",
    "    df_train = df_train.drop([\"Data/Hora\"], axis=1)\n",
    "    df_test = df_test.drop([\"Data/Hora\"], axis=1)\n",
    "    x_train, y_train = split_sequences(df_train.values, time_steps)\n",
    "    x_test, y_test = split_sequences(df_test.values, time_steps)\n",
    "    return x_train, y_train, x_test, y_test"
   ]
  },
  {
   "cell_type": "code",
   "execution_count": 3,
   "metadata": {},
   "outputs": [],
   "source": [
    "class StandardScaler3DShape:\n",
    "    def __init__(self):\n",
    "        self.scaler = StandardScaler()\n",
    "\n",
    "    def fit_transform(self, X, y=None):\n",
    "        X_new = self.scaler.fit_transform(X.reshape(-1, X.shape[-1])).reshape(X.shape)\n",
    "        return X_new\n",
    "\n",
    "    def fit(self, X, y=None):\n",
    "        X_new = X.reshape(-1, X.shape[-1])\n",
    "        self.scaler.fit(X_new)\n",
    "        return self\n",
    "\n",
    "    def transform(self, X, y=None):\n",
    "        X_new = self.scaler.transform(X.reshape(-1, X.shape[-1])).reshape(X.shape)\n",
    "        return X_new"
   ]
  },
  {
   "cell_type": "code",
   "execution_count": 4,
   "metadata": {},
   "outputs": [],
   "source": [
    "def get_baseline_model(n_units=64, learning_rate=0.01):\n",
    "    model = tf.keras.Sequential()\n",
    "\n",
    "    model.add(tf.keras.layers.LSTM(units=n_units))\n",
    "    model.add(tf.keras.layers.Dense(1))\n",
    "\n",
    "    opt = tf.keras.optimizers.Adam(learning_rate=learning_rate)\n",
    "    model.compile(\n",
    "        optimizer=opt,\n",
    "        loss=\"mse\",\n",
    "        metrics=[tf.keras.metrics.RootMeanSquaredError(name=\"RMSE\")],\n",
    "    )\n",
    "    return model"
   ]
  },
  {
   "cell_type": "code",
   "execution_count": 5,
   "metadata": {},
   "outputs": [],
   "source": [
    "def create_keras_model(\n",
    "    activation=\"tanh\", dropout_rate=0.0, n_units=64, n_layers=1, learning_rate=1e-3\n",
    "):\n",
    "    model = tf.keras.Sequential()\n",
    "\n",
    "    for i in range(n_layers):\n",
    "        if i + 1 < n_layers:\n",
    "            model.add(\n",
    "                tf.keras.layers.LSTM(\n",
    "                    units=n_units, activation=activation, return_sequences=True\n",
    "                )\n",
    "            )\n",
    "        else:\n",
    "            model.add(\n",
    "                tf.keras.layers.LSTM(\n",
    "                    units=n_units, activation=activation, return_sequences=False\n",
    "                )\n",
    "            )\n",
    "    if dropout_rate > 0.0:\n",
    "        model.add(tf.keras.layers.Dropout(dropout_rate))\n",
    "    model.add(tf.keras.layers.Dense(1))\n",
    "    model.compile(\n",
    "        optimizer=tf.keras.optimizers.Adam(learning_rate=learning_rate),\n",
    "        loss=\"mse\",\n",
    "        metrics=[tf.keras.metrics.RootMeanSquaredError(name=\"RMSE\")],\n",
    "    )\n",
    "    return model"
   ]
  },
  {
   "cell_type": "code",
   "execution_count": 6,
   "metadata": {},
   "outputs": [],
   "source": [
    "def make_repeated_time_series_k_fold(\n",
    "    x,\n",
    "    y,\n",
    "    train_period,\n",
    "    test_period,\n",
    "    grid=None,\n",
    "    repeats=10,\n",
    "    show_individual_results=True,\n",
    "    show_final_result=True,\n",
    "    params=None,\n",
    "):\n",
    "    results = []\n",
    "    max_samples = x.shape[0]\n",
    "\n",
    "    if grid:\n",
    "        activation = grid.best_params_[\"model__activation\"]\n",
    "        dropout_rate = grid.best_params_[\"model__dropout_rate\"]\n",
    "        n_units = grid.best_params_[\"model__n_units\"]\n",
    "        n_layers = grid.best_params_[\"model__n_layers\"]\n",
    "        learning_rate = grid.best_params_[\"model__learning_rate\"]\n",
    "        batch_size = grid.best_params_[\"model__batch_size\"]\n",
    "        epochs = grid.best_params_[\"model__epochs\"]\n",
    "    else:\n",
    "        activation = params[\"activation\"]\n",
    "        dropout_rate = params[\"dropout_rate\"]\n",
    "        n_units = params[\"n_units\"]\n",
    "        n_layers = params[\"n_layers\"]\n",
    "        learning_rate = params[\"learning_rate\"]\n",
    "        batch_size = params[\"batch_size\"]\n",
    "        epochs = params[\"epochs\"]\n",
    "\n",
    "    for _ in range(repeats):\n",
    "        i = 0\n",
    "        scores = []\n",
    "        for _ in range(0, max_samples // train_period):\n",
    "            x_train = x[i : i + train_period]\n",
    "            y_train = y[i : i + train_period]\n",
    "            x_test = x[i + train_period : i + train_period + test_period]\n",
    "            y_test = y[i + train_period : i + train_period + test_period]\n",
    "            i += train_period\n",
    "            x_train = scaler.fit_transform(\n",
    "                x_train.reshape(-1, x_train.shape[-1])\n",
    "            ).reshape(x_train.shape)\n",
    "            x_test = scaler.transform(x_test.reshape(-1, x_test.shape[-1])).reshape(\n",
    "                x_test.shape\n",
    "            )\n",
    "            model = create_keras_model(\n",
    "                activation=activation,\n",
    "                dropout_rate=dropout_rate,\n",
    "                n_units=n_units,\n",
    "                n_layers=n_layers,\n",
    "                learning_rate=learning_rate,\n",
    "            )\n",
    "            model.fit(x_train, y_train, epochs=epochs, batch_size=batch_size, verbose=0)\n",
    "            rmse = model.evaluate(x_test, y_test, verbose=0)\n",
    "            scores.append(rmse[1])\n",
    "        results.append(scores)\n",
    "        if show_individual_results:\n",
    "            print(\"RMSE: %.3f (%.3f)\" % (np.mean(scores), np.std(scores)))\n",
    "    if show_final_result:\n",
    "        print(\"\\nRMSE: %.3f (%.3f)\" % (np.mean(results), np.std(results)))\n",
    "    return results\n"
   ]
  },
  {
   "cell_type": "code",
   "execution_count": 7,
   "metadata": {},
   "outputs": [],
   "source": [
    "def make_timesteps_repeated_time_series_k_fold(\n",
    "    df,\n",
    "    train_period,\n",
    "    test_period,\n",
    "    params=None,\n",
    "    grid=None,\n",
    "    repeats=10,\n",
    "    timesteps_list=[3],\n",
    "    show_results=True,\n",
    "):\n",
    "    results = {}\n",
    "\n",
    "    for timesteps in timesteps_list:\n",
    "        x, y = split_sequences(df.values, timesteps)\n",
    "        scores = make_repeated_time_series_k_fold(\n",
    "            x, y, train_period, test_period, grid, repeats, False, False, params\n",
    "        )\n",
    "        results[timesteps] = scores\n",
    "        if show_results:\n",
    "            print(\n",
    "                \"TIMESTEPS: %d RMSE: %.3f (%.3f)\"\n",
    "                % (timesteps, np.mean(scores), np.std(scores))\n",
    "            )\n",
    "    return results\n"
   ]
  },
  {
   "cell_type": "markdown",
   "metadata": {},
   "source": [
    "<h3>Disable Tensorflow Warnings</h3>"
   ]
  },
  {
   "cell_type": "code",
   "execution_count": 8,
   "metadata": {},
   "outputs": [],
   "source": [
    "os.environ['TF_CPP_MIN_LOG_LEVEL'] = '3' "
   ]
  },
  {
   "cell_type": "code",
   "execution_count": 9,
   "metadata": {},
   "outputs": [],
   "source": [
    "df_r3d_and_r7d = pd.read_csv(\n",
    "    \"../../../../data/interim/\"\n",
    "    + \"r3d_and_r7d-no-resampling-with-fillna-\"\n",
    "    + \"dados-historicos-partner_i-cement-CPIIE40.csv\"\n",
    ")\n",
    "df_r3d_only = pd.read_csv(\n",
    "    \"../../../../data/interim/\"\n",
    "    + \"r3d_only-no-resampling-with-fillna-\"\n",
    "    + \"dados-historicos-partner_i-cement-CPIIE40.csv\"\n",
    ")\n",
    "df_no_r3d_r7d = pd.read_csv(\n",
    "    \"../../../../data/interim/\"\n",
    "    + \"no-r3d-r7d-no-resampling-with-fillna-\"\n",
    "    + \"dados-historicos-partner_i-cement-CPIIE40.csv\"\n",
    ")"
   ]
  },
  {
   "cell_type": "markdown",
   "metadata": {},
   "source": [
    "## Feature Selection\n",
    "\n",
    "### In this notebook we remove variables that could potentially cause data leakage. Thus we are performing testings removing the following variables:\n",
    "\n",
    "#### IP - Initial setting time\n",
    "#### FP - Final setting time\n",
    "\n",
    "\n",
    "#### BL - Blaine specific surface (This is both removed and use)"
   ]
  },
  {
   "cell_type": "code",
   "execution_count": 10,
   "metadata": {},
   "outputs": [],
   "source": [
    "seed = 47\n",
    "scaler = StandardScaler()"
   ]
  },
  {
   "cell_type": "markdown",
   "metadata": {},
   "source": [
    "# Neural Network Long Short Term Memory - LSTM"
   ]
  },
  {
   "cell_type": "markdown",
   "metadata": {},
   "source": [
    "# Configs:\n",
    "\n",
    "1. Train Period: [01-01-2019, 2021-05-02)\n",
    "\n",
    "2. Test Period:  (2021-05-02, 2021-11-31]\n",
    "\n",
    "3. TIMESTEPS: [1, 3, 5, 7, 10, 15, 20]\n",
    "\n",
    "4. Epochs: 100\n",
    "\n",
    "5. Batch size: 32\n",
    "\n",
    "6. LSTM Cells: 64\n",
    "\n",
    "7. LSTM Layers: 1\n",
    "\n",
    "8. Optimization Algorithm: Adam\n",
    "    \n",
    "    8.1. Learning Rate: 1e-2\n",
    "    \n",
    "<h3>Repeats: 10</h3>\n",
    "<h3>K: 10</h3>"
   ]
  },
  {
   "cell_type": "markdown",
   "metadata": {},
   "source": [
    "# 1. Times Series Repeated KFold Cross validation - different Timesteps values\n",
    "\n",
    "Here we will make a Times Series KFold Cross validation with all 3 datasets. Here we are using the Blocking Time Series Split method. And with timeseries Split method. We also do it with different number of timesteps\n"
   ]
  },
  {
   "cell_type": "code",
   "execution_count": 11,
   "metadata": {},
   "outputs": [],
   "source": [
    "params = {}\n",
    "params[\"activation\"] = \"tanh\"\n",
    "params[\"dropout_rate\"] = 0.0\n",
    "params[\"n_units\"] = 64\n",
    "params[\"n_layers\"] = 1\n",
    "params[\"learning_rate\"] = 1e-2\n",
    "params[\"batch_size\"] = 32\n",
    "params[\"epochs\"] = 100\n",
    "\n",
    "timesteps_list = [1, 3, 5, 7, 10, 15, 20]\n",
    "\n",
    "repeats = 10"
   ]
  },
  {
   "cell_type": "markdown",
   "metadata": {},
   "source": [
    "## 1.1 Dataset: no-r3d-r7d-no-resampling-with-fillna"
   ]
  },
  {
   "cell_type": "markdown",
   "metadata": {},
   "source": [
    "<h3>1.1.1 Time Series Repeated KFold Cross Validation with vary timesteps - df_no_r3d_r7d</h3>\n",
    "\n",
    "<b>Dataset: df_no_r3d_r7d:</b> In this dataset the R3D and R7D variables are not considered.\n",
    "\n",
    "<b>Feature Selection:</b> The IP and FP variables are discarded."
   ]
  },
  {
   "cell_type": "code",
   "execution_count": 12,
   "metadata": {},
   "outputs": [],
   "source": [
    "df = df_no_r3d_r7d.copy()\n",
    "columns = list(df.columns.drop(['R28D']))\n",
    "columns.append('R28D')\n",
    "df = df.reindex(columns=columns)\n",
    "df = df.drop(['Data/Hora', \"IP\", \"FP\"], axis=1)"
   ]
  },
  {
   "cell_type": "markdown",
   "metadata": {},
   "source": [
    "<h4>Experiment 1</h4>\n",
    "    \n",
    "<b>Train 6 months and predicts one month every year</b>"
   ]
  },
  {
   "cell_type": "code",
   "execution_count": 13,
   "metadata": {},
   "outputs": [],
   "source": [
    "train_period = 90 # 6 months of data since the data is spaced every 2 days\n",
    "test_period = 15 # 1 month"
   ]
  },
  {
   "cell_type": "code",
   "execution_count": 14,
   "metadata": {},
   "outputs": [
    {
     "name": "stdout",
     "output_type": "stream",
     "text": [
      "WARNING:tensorflow:5 out of the last 5 calls to <function Model.make_test_function.<locals>.test_function at 0x7f95c04c8e50> triggered tf.function retracing. Tracing is expensive and the excessive number of tracings could be due to (1) creating @tf.function repeatedly in a loop, (2) passing tensors with different shapes, (3) passing Python objects instead of tensors. For (1), please define your @tf.function outside of the loop. For (2), @tf.function has experimental_relax_shapes=True option that relaxes argument shapes that can avoid unnecessary retracing. For (3), please refer to https://www.tensorflow.org/guide/function#controlling_retracing and https://www.tensorflow.org/api_docs/python/tf/function for  more details.\n",
      "WARNING:tensorflow:6 out of the last 6 calls to <function Model.make_test_function.<locals>.test_function at 0x7f95c02f1ca0> triggered tf.function retracing. Tracing is expensive and the excessive number of tracings could be due to (1) creating @tf.function repeatedly in a loop, (2) passing tensors with different shapes, (3) passing Python objects instead of tensors. For (1), please define your @tf.function outside of the loop. For (2), @tf.function has experimental_relax_shapes=True option that relaxes argument shapes that can avoid unnecessary retracing. For (3), please refer to https://www.tensorflow.org/guide/function#controlling_retracing and https://www.tensorflow.org/api_docs/python/tf/function for  more details.\n",
      "TIMESTEPS: 1 RMSE: 12.597 (3.238)\n",
      "TIMESTEPS: 3 RMSE: 3.328 (1.709)\n",
      "TIMESTEPS: 5 RMSE: 3.259 (3.325)\n",
      "TIMESTEPS: 7 RMSE: 4.034 (4.999)\n",
      "TIMESTEPS: 10 RMSE: 3.075 (3.297)\n",
      "TIMESTEPS: 15 RMSE: 1.643 (0.360)\n",
      "TIMESTEPS: 20 RMSE: 2.142 (0.425)\n"
     ]
    }
   ],
   "source": [
    "results = make_timesteps_repeated_time_series_k_fold(\n",
    "    df, train_period, test_period, params, None, repeats, timesteps_list\n",
    ")"
   ]
  },
  {
   "cell_type": "markdown",
   "metadata": {},
   "source": [
    "<h4>Experiment 2</h4>\n",
    "    \n",
    "<b>Train 11 months and predicts one month every year</b>"
   ]
  },
  {
   "cell_type": "code",
   "execution_count": 15,
   "metadata": {},
   "outputs": [],
   "source": [
    "train_period = 165 # 11 months of data since the data is spaced every 2 days (180 + 150)/2\n",
    "test_period = 15 # 1 month"
   ]
  },
  {
   "cell_type": "code",
   "execution_count": 16,
   "metadata": {},
   "outputs": [
    {
     "name": "stdout",
     "output_type": "stream",
     "text": [
      "TIMESTEPS: 1 RMSE: 12.918 (0.896)\n",
      "TIMESTEPS: 3 RMSE: 2.275 (0.054)\n",
      "TIMESTEPS: 5 RMSE: 2.325 (0.124)\n",
      "TIMESTEPS: 7 RMSE: 2.390 (0.060)\n",
      "TIMESTEPS: 10 RMSE: 2.356 (0.030)\n",
      "TIMESTEPS: 15 RMSE: 1.157 (0.023)\n",
      "TIMESTEPS: 20 RMSE: 1.543 (0.018)\n"
     ]
    }
   ],
   "source": [
    "results = make_timesteps_repeated_time_series_k_fold(\n",
    "    df, train_period, test_period, params, None, repeats, timesteps_list\n",
    ")"
   ]
  },
  {
   "cell_type": "markdown",
   "metadata": {},
   "source": [
    "<h4>Experiment 3</h4>\n",
    "    \n",
    "<b>Train 2 years and 10 months and predicts october and november of 2021</b>"
   ]
  },
  {
   "cell_type": "code",
   "execution_count": 17,
   "metadata": {},
   "outputs": [],
   "source": [
    "train_period = 200 # 11 months of data since the data is spaced every 2 days (180 + 150)/2\n",
    "test_period = 30 # 2 months"
   ]
  },
  {
   "cell_type": "code",
   "execution_count": 18,
   "metadata": {},
   "outputs": [
    {
     "name": "stdout",
     "output_type": "stream",
     "text": [
      "TIMESTEPS: 1 RMSE: 5.241 (0.489)\n",
      "TIMESTEPS: 3 RMSE: 1.705 (0.104)\n",
      "TIMESTEPS: 5 RMSE: 4.628 (6.221)\n",
      "TIMESTEPS: 7 RMSE: 6.327 (13.460)\n",
      "TIMESTEPS: 10 RMSE: 7.485 (12.820)\n",
      "TIMESTEPS: 15 RMSE: 1.766 (0.022)\n",
      "TIMESTEPS: 20 RMSE: 1.723 (0.103)\n"
     ]
    }
   ],
   "source": [
    "results = make_timesteps_repeated_time_series_k_fold(\n",
    "    df, train_period, test_period, params, None, repeats, timesteps_list\n",
    ")"
   ]
  },
  {
   "cell_type": "markdown",
   "metadata": {},
   "source": [
    "<h3>1.1.2 Time Series Repeated KFold Cross Validation with vary timesteps - df_no_r3d_r7d</h3>\n",
    "\n",
    "<b>Dataset: df_no_r3d_r7d:</b> In this dataset the R3D and R7D variables are not considered.\n",
    "\n",
    "<b>Feature Selection:</b> The IP, FP and BL variables are discarded."
   ]
  },
  {
   "cell_type": "code",
   "execution_count": 19,
   "metadata": {},
   "outputs": [],
   "source": [
    "df = df_no_r3d_r7d.copy()\n",
    "columns = list(df.columns.drop(['R28D']))\n",
    "columns.append('R28D')\n",
    "df = df.reindex(columns=columns)\n",
    "df = df.drop(['Data/Hora', \"IP\", \"FP\", \"BL\"], axis=1)"
   ]
  },
  {
   "cell_type": "markdown",
   "metadata": {},
   "source": [
    "<h4>Experiment 1</h4>\n",
    "    \n",
    "<b>Train 6 months and predicts one month every year</b>"
   ]
  },
  {
   "cell_type": "code",
   "execution_count": 20,
   "metadata": {},
   "outputs": [],
   "source": [
    "train_period = 90 # 6 months of data since the data is spaced every 2 days\n",
    "test_period = 15 # 1 month"
   ]
  },
  {
   "cell_type": "code",
   "execution_count": 21,
   "metadata": {},
   "outputs": [
    {
     "name": "stdout",
     "output_type": "stream",
     "text": [
      "TIMESTEPS: 1 RMSE: 11.879 (3.775)\n",
      "TIMESTEPS: 3 RMSE: 3.421 (1.816)\n",
      "TIMESTEPS: 5 RMSE: 3.342 (3.154)\n",
      "TIMESTEPS: 7 RMSE: 3.983 (5.810)\n",
      "TIMESTEPS: 10 RMSE: 3.858 (5.152)\n",
      "TIMESTEPS: 15 RMSE: 1.643 (0.358)\n",
      "TIMESTEPS: 20 RMSE: 2.148 (0.419)\n"
     ]
    }
   ],
   "source": [
    "results = make_timesteps_repeated_time_series_k_fold(\n",
    "    df, train_period, test_period, params, None, repeats, timesteps_list\n",
    ")"
   ]
  },
  {
   "cell_type": "markdown",
   "metadata": {},
   "source": [
    "<h4>Experiment 2</h4>\n",
    "    \n",
    "<b>Train 11 months and predicts one month every year</b>"
   ]
  },
  {
   "cell_type": "code",
   "execution_count": 22,
   "metadata": {},
   "outputs": [],
   "source": [
    "train_period = 165 # 11 months of data since the data is spaced every 2 days (180 + 150)/2\n",
    "test_period = 15 # 1 month"
   ]
  },
  {
   "cell_type": "code",
   "execution_count": 23,
   "metadata": {},
   "outputs": [
    {
     "name": "stdout",
     "output_type": "stream",
     "text": [
      "TIMESTEPS: 1 RMSE: 11.476 (0.848)\n",
      "TIMESTEPS: 3 RMSE: 2.423 (0.170)\n",
      "TIMESTEPS: 5 RMSE: 2.353 (0.124)\n",
      "TIMESTEPS: 7 RMSE: 2.355 (0.051)\n",
      "TIMESTEPS: 10 RMSE: 2.380 (0.056)\n",
      "TIMESTEPS: 15 RMSE: 1.184 (0.118)\n",
      "TIMESTEPS: 20 RMSE: 1.562 (0.074)\n"
     ]
    }
   ],
   "source": [
    "results = make_timesteps_repeated_time_series_k_fold(\n",
    "    df, train_period, test_period, params, None, repeats, timesteps_list\n",
    ")"
   ]
  },
  {
   "cell_type": "markdown",
   "metadata": {},
   "source": [
    "<h4>Experiment 3</h4>\n",
    "    \n",
    "<b>Train 2 years and 10 months and predicts october and november of 2021</b>"
   ]
  },
  {
   "cell_type": "code",
   "execution_count": 24,
   "metadata": {},
   "outputs": [],
   "source": [
    "train_period = 200 # 11 months of data since the data is spaced every 2 days (180 + 150)/2\n",
    "test_period = 30 # 2 months"
   ]
  },
  {
   "cell_type": "code",
   "execution_count": 25,
   "metadata": {},
   "outputs": [
    {
     "name": "stdout",
     "output_type": "stream",
     "text": [
      "TIMESTEPS: 1 RMSE: 4.667 (0.416)\n",
      "TIMESTEPS: 3 RMSE: 1.688 (0.093)\n",
      "TIMESTEPS: 5 RMSE: 4.068 (3.299)\n",
      "TIMESTEPS: 7 RMSE: 5.408 (7.257)\n",
      "TIMESTEPS: 10 RMSE: 1.918 (0.478)\n",
      "TIMESTEPS: 15 RMSE: 5.291 (10.554)\n",
      "TIMESTEPS: 20 RMSE: 1.692 (0.051)\n"
     ]
    }
   ],
   "source": [
    "results = make_timesteps_repeated_time_series_k_fold(\n",
    "    df, train_period, test_period, params, None, repeats, timesteps_list\n",
    ")"
   ]
  },
  {
   "cell_type": "markdown",
   "metadata": {},
   "source": [
    "<h3>1.1.3 Time Series Repeated KFold Cross Validation with vary timesteps - df_no_r3d_r7d</h3>\n",
    "\n",
    "<b>Dataset: df_no_r3d_r7d:</b> In this dataset the R3D and R7D variables are not considered.\n",
    "\n",
    "<b>Feature Selection:</b> \n",
    "\n",
    "1. The IP, FP and BL variables are discarded.\n",
    "\n",
    "2. High correlated variables are removed\n"
   ]
  },
  {
   "cell_type": "code",
   "execution_count": 26,
   "metadata": {},
   "outputs": [],
   "source": [
    "to_drop = [\n",
    "    \"Data/Hora\",\n",
    "    \"IP\",\n",
    "    \"FP\",\n",
    "    \"BL\",\n",
    "    \"CALCITA\",\n",
    "    \"DESIDRATAÇÃO\",\n",
    "    \"GIPSITA\",\n",
    "    \"TIO2\",\n",
    "    \"AL2O3\",\n",
    "    \"PF\",\n",
    "    \"FERRITA\",\n",
    "]\n",
    "\n",
    "df = df_no_r3d_r7d.copy()\n",
    "columns = list(df.columns.drop(['R28D']))\n",
    "columns.append('R28D')\n",
    "df = df.reindex(columns=columns)\n",
    "df = df.drop(to_drop, axis=1)"
   ]
  },
  {
   "cell_type": "markdown",
   "metadata": {},
   "source": [
    "<h4>Experiment 1</h4>\n",
    "    \n",
    "<b>Train 6 months and predicts one month every year</b>"
   ]
  },
  {
   "cell_type": "code",
   "execution_count": 27,
   "metadata": {},
   "outputs": [],
   "source": [
    "train_period = 90 # 6 months of data since the data is spaced every 2 days\n",
    "test_period = 15 # 1 month"
   ]
  },
  {
   "cell_type": "code",
   "execution_count": 28,
   "metadata": {},
   "outputs": [
    {
     "name": "stdout",
     "output_type": "stream",
     "text": [
      "TIMESTEPS: 1 RMSE: 10.777 (4.315)\n",
      "TIMESTEPS: 3 RMSE: 6.326 (4.511)\n",
      "TIMESTEPS: 5 RMSE: 2.812 (1.306)\n",
      "TIMESTEPS: 7 RMSE: 3.941 (4.185)\n",
      "TIMESTEPS: 10 RMSE: 3.872 (4.560)\n",
      "TIMESTEPS: 15 RMSE: 1.649 (0.352)\n",
      "TIMESTEPS: 20 RMSE: 2.149 (0.421)\n"
     ]
    }
   ],
   "source": [
    "results = make_timesteps_repeated_time_series_k_fold(\n",
    "    df, train_period, test_period, params, None, repeats, timesteps_list\n",
    ")"
   ]
  },
  {
   "cell_type": "markdown",
   "metadata": {},
   "source": [
    "<h4>Experiment 2</h4>\n",
    "    \n",
    "<b>Train 11 months and predicts one month every year</b>"
   ]
  },
  {
   "cell_type": "code",
   "execution_count": 29,
   "metadata": {},
   "outputs": [],
   "source": [
    "train_period = 165 # 11 months of data since the data is spaced every 2 days (180 + 150)/2\n",
    "test_period = 15 # 1 month"
   ]
  },
  {
   "cell_type": "code",
   "execution_count": 30,
   "metadata": {},
   "outputs": [
    {
     "name": "stdout",
     "output_type": "stream",
     "text": [
      "TIMESTEPS: 1 RMSE: 11.520 (0.863)\n",
      "TIMESTEPS: 3 RMSE: 2.310 (0.040)\n",
      "TIMESTEPS: 5 RMSE: 2.361 (0.119)\n",
      "TIMESTEPS: 7 RMSE: 3.576 (3.552)\n",
      "TIMESTEPS: 10 RMSE: 2.370 (0.052)\n",
      "TIMESTEPS: 15 RMSE: 1.188 (0.072)\n",
      "TIMESTEPS: 20 RMSE: 1.576 (0.052)\n"
     ]
    }
   ],
   "source": [
    "results = make_timesteps_repeated_time_series_k_fold(\n",
    "    df, train_period, test_period, params, None, repeats, timesteps_list\n",
    ")"
   ]
  },
  {
   "cell_type": "markdown",
   "metadata": {},
   "source": [
    "<h4>Experiment 3</h4>\n",
    "    \n",
    "<b>Train 2 years and 10 months and predicts october and november of 2021</b>"
   ]
  },
  {
   "cell_type": "code",
   "execution_count": 31,
   "metadata": {},
   "outputs": [],
   "source": [
    "train_period = 200 # 11 months of data since the data is spaced every 2 days (180 + 150)/2\n",
    "test_period = 30 # 2 months"
   ]
  },
  {
   "cell_type": "code",
   "execution_count": 32,
   "metadata": {},
   "outputs": [
    {
     "name": "stdout",
     "output_type": "stream",
     "text": [
      "TIMESTEPS: 1 RMSE: 4.712 (0.739)\n",
      "TIMESTEPS: 3 RMSE: 1.622 (0.087)\n",
      "TIMESTEPS: 5 RMSE: 6.520 (9.190)\n",
      "TIMESTEPS: 7 RMSE: 2.785 (2.666)\n",
      "TIMESTEPS: 10 RMSE: 3.670 (5.873)\n",
      "TIMESTEPS: 15 RMSE: 1.774 (0.013)\n",
      "TIMESTEPS: 20 RMSE: 1.683 (0.011)\n"
     ]
    }
   ],
   "source": [
    "results = make_timesteps_repeated_time_series_k_fold(\n",
    "    df, train_period, test_period, params, None, repeats, timesteps_list\n",
    ")"
   ]
  },
  {
   "cell_type": "markdown",
   "metadata": {},
   "source": [
    "## 1.2 Dataset: df_r3d_only"
   ]
  },
  {
   "cell_type": "markdown",
   "metadata": {},
   "source": [
    "<h3>1.2.1 Time Series Repeated KFold Cross Validation - df_r3d_only</h3>\n",
    "\n",
    "<b>Dataset: df_r3d_only:</b> In this dataset only R3D variable is considered.\n",
    "\n",
    "<b>Feature Selection:</b> The IP and FP variables are discarded."
   ]
  },
  {
   "cell_type": "code",
   "execution_count": 33,
   "metadata": {},
   "outputs": [],
   "source": [
    "df = df_r3d_only.copy()\n",
    "columns = list(df.columns.drop(['R28D']))\n",
    "columns.append('R28D')\n",
    "df = df.reindex(columns=columns)\n",
    "df = df.drop(['Data/Hora', \"IP\", \"FP\"], axis=1)"
   ]
  },
  {
   "cell_type": "markdown",
   "metadata": {},
   "source": [
    "<h4>Experiment 1</h4>\n",
    "    \n",
    "<b>Train 6 months and predicts one month every year</b>"
   ]
  },
  {
   "cell_type": "code",
   "execution_count": 34,
   "metadata": {},
   "outputs": [],
   "source": [
    "train_period = 90 # 6 months of data since the data is spaced every 2 days\n",
    "test_period = 15 # 1 month"
   ]
  },
  {
   "cell_type": "code",
   "execution_count": 35,
   "metadata": {},
   "outputs": [
    {
     "name": "stdout",
     "output_type": "stream",
     "text": [
      "TIMESTEPS: 1 RMSE: 12.400 (2.863)\n",
      "TIMESTEPS: 3 RMSE: 3.477 (1.841)\n",
      "TIMESTEPS: 5 RMSE: 2.977 (2.746)\n",
      "TIMESTEPS: 7 RMSE: 2.751 (3.388)\n",
      "TIMESTEPS: 10 RMSE: 3.307 (3.122)\n",
      "TIMESTEPS: 15 RMSE: 1.644 (0.358)\n",
      "TIMESTEPS: 20 RMSE: 2.143 (0.423)\n"
     ]
    }
   ],
   "source": [
    "results = make_timesteps_repeated_time_series_k_fold(\n",
    "    df, train_period, test_period, params, None, repeats, timesteps_list\n",
    ")"
   ]
  },
  {
   "cell_type": "markdown",
   "metadata": {},
   "source": [
    "<h4>Experiment 2</h4>\n",
    "    \n",
    "<b>Train 11 months and predicts one month every year</b>"
   ]
  },
  {
   "cell_type": "code",
   "execution_count": 36,
   "metadata": {},
   "outputs": [],
   "source": [
    "train_period = 165 # 11 months of data since the data is spaced every 2 days (180 + 150)/2\n",
    "test_period = 15 # 1 month"
   ]
  },
  {
   "cell_type": "code",
   "execution_count": 37,
   "metadata": {},
   "outputs": [
    {
     "name": "stdout",
     "output_type": "stream",
     "text": [
      "TIMESTEPS: 1 RMSE: 12.808 (1.160)\n",
      "TIMESTEPS: 3 RMSE: 2.249 (0.053)\n",
      "TIMESTEPS: 5 RMSE: 2.270 (0.058)\n",
      "TIMESTEPS: 7 RMSE: 3.674 (3.754)\n",
      "TIMESTEPS: 10 RMSE: 2.363 (0.030)\n",
      "TIMESTEPS: 15 RMSE: 1.151 (0.017)\n",
      "TIMESTEPS: 20 RMSE: 1.563 (0.071)\n"
     ]
    }
   ],
   "source": [
    "results = make_timesteps_repeated_time_series_k_fold(\n",
    "    df, train_period, test_period, params, None, repeats, timesteps_list\n",
    ")"
   ]
  },
  {
   "cell_type": "markdown",
   "metadata": {},
   "source": [
    "<h4>Experiment 3</h4>\n",
    "    \n",
    "<b>Train 2 years and 10 months and predicts october and november of 2021</b>"
   ]
  },
  {
   "cell_type": "code",
   "execution_count": 38,
   "metadata": {},
   "outputs": [],
   "source": [
    "train_period = 200 # 11 months of data since the data is spaced every 2 days (180 + 150)/2\n",
    "test_period = 30 # 2 months"
   ]
  },
  {
   "cell_type": "code",
   "execution_count": 39,
   "metadata": {},
   "outputs": [
    {
     "name": "stdout",
     "output_type": "stream",
     "text": [
      "TIMESTEPS: 1 RMSE: 5.626 (0.655)\n",
      "TIMESTEPS: 3 RMSE: 1.791 (0.061)\n",
      "TIMESTEPS: 5 RMSE: 4.295 (3.532)\n",
      "TIMESTEPS: 7 RMSE: 3.678 (5.359)\n",
      "TIMESTEPS: 10 RMSE: 2.801 (3.305)\n",
      "TIMESTEPS: 15 RMSE: 1.749 (0.042)\n",
      "TIMESTEPS: 20 RMSE: 1.685 (0.011)\n"
     ]
    }
   ],
   "source": [
    "results = make_timesteps_repeated_time_series_k_fold(\n",
    "    df, train_period, test_period, params, None, repeats, timesteps_list\n",
    ")"
   ]
  },
  {
   "cell_type": "markdown",
   "metadata": {},
   "source": [
    "<h3>1.2.2 Time Series Repeated KFold Cross Validation with vary timesteps - df_r3d_only</h3>\n",
    "\n",
    "<b>Dataset: df_r3d_only:</b> In this dataset the R3D and R7D variables are not considered.\n",
    "\n",
    "<b>Feature Selection:</b> The IP, FP and BL variables are discarded."
   ]
  },
  {
   "cell_type": "code",
   "execution_count": 40,
   "metadata": {},
   "outputs": [],
   "source": [
    "df = df_r3d_only.copy()\n",
    "columns = list(df.columns.drop(['R28D']))\n",
    "columns.append('R28D')\n",
    "df = df.reindex(columns=columns)\n",
    "df = df.drop(['Data/Hora', \"IP\", \"FP\", \"BL\"], axis=1)"
   ]
  },
  {
   "cell_type": "markdown",
   "metadata": {},
   "source": [
    "<h4>Experiment 1</h4>\n",
    "    \n",
    "<b>Train 6 months and predicts one month every year</b>"
   ]
  },
  {
   "cell_type": "code",
   "execution_count": 41,
   "metadata": {},
   "outputs": [],
   "source": [
    "train_period = 90 # 6 months of data since the data is spaced every 2 days\n",
    "test_period = 15 # 1 month"
   ]
  },
  {
   "cell_type": "code",
   "execution_count": 42,
   "metadata": {},
   "outputs": [
    {
     "name": "stdout",
     "output_type": "stream",
     "text": [
      "TIMESTEPS: 1 RMSE: 11.864 (3.234)\n",
      "TIMESTEPS: 3 RMSE: 3.785 (2.197)\n",
      "TIMESTEPS: 5 RMSE: 2.518 (1.072)\n",
      "TIMESTEPS: 7 RMSE: 4.514 (6.096)\n",
      "TIMESTEPS: 10 RMSE: 4.347 (5.503)\n",
      "TIMESTEPS: 15 RMSE: 1.645 (0.358)\n",
      "TIMESTEPS: 20 RMSE: 2.140 (0.424)\n"
     ]
    }
   ],
   "source": [
    "results = make_timesteps_repeated_time_series_k_fold(\n",
    "    df, train_period, test_period, params, None, repeats, timesteps_list\n",
    ")"
   ]
  },
  {
   "cell_type": "markdown",
   "metadata": {},
   "source": [
    "<h4>Experiment 2</h4>\n",
    "    \n",
    "<b>Train 11 months and predicts one month every year</b>"
   ]
  },
  {
   "cell_type": "code",
   "execution_count": 43,
   "metadata": {},
   "outputs": [],
   "source": [
    "train_period = 165 # 11 months of data since the data is spaced every 2 days (180 + 150)/2\n",
    "test_period = 15 # 1 month"
   ]
  },
  {
   "cell_type": "code",
   "execution_count": 44,
   "metadata": {},
   "outputs": [
    {
     "name": "stdout",
     "output_type": "stream",
     "text": [
      "TIMESTEPS: 1 RMSE: 12.177 (0.888)\n",
      "TIMESTEPS: 3 RMSE: 2.270 (0.086)\n",
      "TIMESTEPS: 5 RMSE: 4.674 (6.893)\n",
      "TIMESTEPS: 7 RMSE: 3.468 (3.361)\n",
      "TIMESTEPS: 10 RMSE: 2.371 (0.042)\n",
      "TIMESTEPS: 15 RMSE: 1.151 (0.020)\n",
      "TIMESTEPS: 20 RMSE: 1.536 (0.009)\n"
     ]
    }
   ],
   "source": [
    "results = make_timesteps_repeated_time_series_k_fold(\n",
    "    df, train_period, test_period, params, None, repeats, timesteps_list\n",
    ")"
   ]
  },
  {
   "cell_type": "markdown",
   "metadata": {},
   "source": [
    "<h4>Experiment 3</h4>\n",
    "    \n",
    "<b>Train 2 years and 10 months and predicts october and november of 2021</b>"
   ]
  },
  {
   "cell_type": "code",
   "execution_count": 45,
   "metadata": {},
   "outputs": [],
   "source": [
    "train_period = 200 # 11 months of data since the data is spaced every 2 days (180 + 150)/2\n",
    "test_period = 30 # 2 months"
   ]
  },
  {
   "cell_type": "code",
   "execution_count": 46,
   "metadata": {},
   "outputs": [
    {
     "name": "stdout",
     "output_type": "stream",
     "text": [
      "TIMESTEPS: 1 RMSE: 4.886 (0.978)\n",
      "TIMESTEPS: 3 RMSE: 1.747 (0.081)\n",
      "TIMESTEPS: 5 RMSE: 4.193 (6.762)\n",
      "TIMESTEPS: 7 RMSE: 9.988 (12.823)\n",
      "TIMESTEPS: 10 RMSE: 4.536 (6.485)\n",
      "TIMESTEPS: 15 RMSE: 13.015 (15.975)\n",
      "TIMESTEPS: 20 RMSE: 1.671 (0.026)\n"
     ]
    }
   ],
   "source": [
    "results = make_timesteps_repeated_time_series_k_fold(\n",
    "    df, train_period, test_period, params, None, repeats, timesteps_list\n",
    ")"
   ]
  },
  {
   "cell_type": "markdown",
   "metadata": {},
   "source": [
    "<h3>1.2.3 Time Series Repeated KFold Cross Validation with vary timesteps - df_r3d_only</h3>\n",
    "\n",
    "<b>Dataset: df_r3d_only:</b> In this dataset the R3D and R7D variables are not considered.\n",
    "\n",
    "<b>Feature Selection:</b>\n",
    "\n",
    "1. The IP, FP and BL variables are discarded.\n",
    "\n",
    "2. High correlated variables are removed\n"
   ]
  },
  {
   "cell_type": "code",
   "execution_count": 47,
   "metadata": {},
   "outputs": [],
   "source": [
    "to_drop = [\n",
    "    \"Data/Hora\",\n",
    "    \"IP\",\n",
    "    \"FP\",\n",
    "    \"BL\",\n",
    "    \"CALCITA\",\n",
    "    \"DESIDRATAÇÃO\",\n",
    "    \"GIPSITA\",\n",
    "    \"TIO2\",\n",
    "    \"AL2O3\",\n",
    "    \"PF\",\n",
    "    \"FERRITA\",\n",
    "]\n",
    "df = df_r3d_only.copy()\n",
    "columns = list(df.columns.drop(['R28D']))\n",
    "columns.append('R28D')\n",
    "df = df.reindex(columns=columns)\n",
    "df = df.drop(to_drop, axis=1)"
   ]
  },
  {
   "cell_type": "markdown",
   "metadata": {},
   "source": [
    "<h4>Experiment 1</h4>\n",
    "    \n",
    "<b>Train 6 months and predicts one month every year</b>"
   ]
  },
  {
   "cell_type": "code",
   "execution_count": 48,
   "metadata": {},
   "outputs": [],
   "source": [
    "train_period = 90 # 6 months of data since the data is spaced every 2 days\n",
    "test_period = 15 # 1 month"
   ]
  },
  {
   "cell_type": "code",
   "execution_count": 49,
   "metadata": {},
   "outputs": [
    {
     "name": "stdout",
     "output_type": "stream",
     "text": [
      "TIMESTEPS: 1 RMSE: 10.299 (3.789)\n",
      "TIMESTEPS: 3 RMSE: 4.495 (2.657)\n",
      "TIMESTEPS: 5 RMSE: 3.226 (3.847)\n",
      "TIMESTEPS: 7 RMSE: 4.492 (5.552)\n",
      "TIMESTEPS: 10 RMSE: 5.317 (6.771)\n",
      "TIMESTEPS: 15 RMSE: 1.984 (1.922)\n",
      "TIMESTEPS: 20 RMSE: 2.155 (0.414)\n"
     ]
    }
   ],
   "source": [
    "results = make_timesteps_repeated_time_series_k_fold(\n",
    "    df, train_period, test_period, params, None, repeats, timesteps_list\n",
    ")"
   ]
  },
  {
   "cell_type": "markdown",
   "metadata": {},
   "source": [
    "<h4>Experiment 2</h4>\n",
    "    \n",
    "<b>Train 11 months and predicts one month every year</b>"
   ]
  },
  {
   "cell_type": "code",
   "execution_count": 50,
   "metadata": {},
   "outputs": [],
   "source": [
    "train_period = 165 # 11 months of data since the data is spaced every 2 days (180 + 150)/2\n",
    "test_period = 15 # 1 month"
   ]
  },
  {
   "cell_type": "code",
   "execution_count": 51,
   "metadata": {},
   "outputs": [
    {
     "name": "stdout",
     "output_type": "stream",
     "text": [
      "TIMESTEPS: 1 RMSE: 11.069 (0.903)\n",
      "TIMESTEPS: 3 RMSE: 2.242 (0.038)\n",
      "TIMESTEPS: 5 RMSE: 2.258 (0.090)\n",
      "TIMESTEPS: 7 RMSE: 2.387 (0.119)\n",
      "TIMESTEPS: 10 RMSE: 2.356 (0.028)\n",
      "TIMESTEPS: 15 RMSE: 1.161 (0.039)\n",
      "TIMESTEPS: 20 RMSE: 1.547 (0.044)\n"
     ]
    }
   ],
   "source": [
    "results = make_timesteps_repeated_time_series_k_fold(\n",
    "    df, train_period, test_period, params, None, repeats, timesteps_list\n",
    ")"
   ]
  },
  {
   "cell_type": "markdown",
   "metadata": {},
   "source": [
    "<h4>Experiment 3</h4>\n",
    "    \n",
    "<b>Train 2 years and 10 months and predicts october and november of 2021</b>"
   ]
  },
  {
   "cell_type": "code",
   "execution_count": 52,
   "metadata": {},
   "outputs": [],
   "source": [
    "train_period = 200 # 11 months of data since the data is spaced every 2 days (180 + 150)/2\n",
    "test_period = 30 # 2 months"
   ]
  },
  {
   "cell_type": "code",
   "execution_count": 53,
   "metadata": {},
   "outputs": [
    {
     "name": "stdout",
     "output_type": "stream",
     "text": [
      "TIMESTEPS: 1 RMSE: 4.749 (0.990)\n",
      "TIMESTEPS: 3 RMSE: 1.598 (0.079)\n",
      "TIMESTEPS: 5 RMSE: 19.693 (21.178)\n",
      "TIMESTEPS: 7 RMSE: 1.808 (0.198)\n",
      "TIMESTEPS: 10 RMSE: 1.695 (0.023)\n",
      "TIMESTEPS: 15 RMSE: 1.769 (0.024)\n",
      "TIMESTEPS: 20 RMSE: 1.668 (0.008)\n"
     ]
    }
   ],
   "source": [
    "results = make_timesteps_repeated_time_series_k_fold(\n",
    "    df, train_period, test_period, params, None, repeats, timesteps_list\n",
    ")"
   ]
  },
  {
   "cell_type": "markdown",
   "metadata": {},
   "source": [
    "## 1.3 Dataset: df_r3d_and_r7d"
   ]
  },
  {
   "cell_type": "markdown",
   "metadata": {},
   "source": [
    "<h3>1.3.1 Time Series Repeated KFold Cross Validation - df_r3d_and_r7d</h3>\n",
    "\n",
    "<b>Dataset: df_r3d_and_r7d:</b> In this dataset both R3D and R7D variables are considered.\n",
    "\n",
    "<b>Feature Selection:</b> The IP and FP variables are discarded."
   ]
  },
  {
   "cell_type": "code",
   "execution_count": 54,
   "metadata": {},
   "outputs": [],
   "source": [
    "df = df_r3d_and_r7d.copy()\n",
    "columns = list(df.columns.draop(['R28D']))\n",
    "columns.append('R28D')\n",
    "df = df.reindex(columns=columns)\n",
    "df = df.drop(['Data/Hora', \"IP\", \"FP\"], axis=1)"
   ]
  },
  {
   "cell_type": "markdown",
   "metadata": {},
   "source": [
    "<h4>Experiment 1</h4>\n",
    "    \n",
    "<b>Train 6 months and predicts one month every year</b>"
   ]
  },
  {
   "cell_type": "code",
   "execution_count": 55,
   "metadata": {},
   "outputs": [],
   "source": [
    "train_period = 90 # 6 months of data since the data is spaced every 2 days\n",
    "test_period = 15 # 1 month"
   ]
  },
  {
   "cell_type": "code",
   "execution_count": 56,
   "metadata": {},
   "outputs": [
    {
     "name": "stdout",
     "output_type": "stream",
     "text": [
      "TIMESTEPS: 1 RMSE: 12.161 (3.889)\n",
      "TIMESTEPS: 3 RMSE: 3.497 (1.858)\n",
      "TIMESTEPS: 5 RMSE: 2.379 (0.841)\n",
      "TIMESTEPS: 7 RMSE: 2.826 (4.082)\n",
      "TIMESTEPS: 10 RMSE: 4.485 (5.589)\n",
      "TIMESTEPS: 15 RMSE: 1.654 (0.349)\n",
      "TIMESTEPS: 20 RMSE: 2.150 (0.432)\n"
     ]
    }
   ],
   "source": [
    "results = make_timesteps_repeated_time_series_k_fold(\n",
    "    df, train_period, test_period, params, None, repeats, timesteps_list\n",
    ")"
   ]
  },
  {
   "cell_type": "markdown",
   "metadata": {},
   "source": [
    "<h4>Experiment 2</h4>\n",
    "    \n",
    "<b>Train 11 months and predicts one month every year</b>"
   ]
  },
  {
   "cell_type": "code",
   "execution_count": 57,
   "metadata": {},
   "outputs": [],
   "source": [
    "train_period = 165 # 11 months of data since the data is spaced every 2 days (180 + 150)/2\n",
    "test_period = 15 # 1 month"
   ]
  },
  {
   "cell_type": "code",
   "execution_count": 58,
   "metadata": {},
   "outputs": [
    {
     "name": "stdout",
     "output_type": "stream",
     "text": [
      "TIMESTEPS: 1 RMSE: 13.581 (0.841)\n",
      "TIMESTEPS: 3 RMSE: 2.158 (0.105)\n",
      "TIMESTEPS: 5 RMSE: 2.318 (0.109)\n",
      "TIMESTEPS: 7 RMSE: 3.222 (2.631)\n",
      "TIMESTEPS: 10 RMSE: 2.310 (0.118)\n",
      "TIMESTEPS: 15 RMSE: 1.175 (0.040)\n",
      "TIMESTEPS: 20 RMSE: 1.630 (0.288)\n"
     ]
    }
   ],
   "source": [
    "results = make_timesteps_repeated_time_series_k_fold(\n",
    "    df, train_period, test_period, params, None, repeats, timesteps_list\n",
    ")"
   ]
  },
  {
   "cell_type": "markdown",
   "metadata": {},
   "source": [
    "<h4>Experiment 3</h4>\n",
    "    \n",
    "<b>Train 2 years and 10 months and predicts october and november of 2021</b>"
   ]
  },
  {
   "cell_type": "code",
   "execution_count": 59,
   "metadata": {},
   "outputs": [],
   "source": [
    "train_period = 200 # 11 months of data since the data is spaced every 2 days (180 + 150)/2\n",
    "test_period = 30 # 2 months"
   ]
  },
  {
   "cell_type": "code",
   "execution_count": 60,
   "metadata": {},
   "outputs": [
    {
     "name": "stdout",
     "output_type": "stream",
     "text": [
      "TIMESTEPS: 1 RMSE: 6.163 (0.585)\n",
      "TIMESTEPS: 3 RMSE: 1.737 (0.090)\n",
      "TIMESTEPS: 5 RMSE: 4.720 (5.201)\n",
      "TIMESTEPS: 7 RMSE: 7.833 (11.168)\n",
      "TIMESTEPS: 10 RMSE: 4.114 (7.172)\n",
      "TIMESTEPS: 15 RMSE: 1.761 (0.024)\n",
      "TIMESTEPS: 20 RMSE: 1.671 (0.019)\n"
     ]
    }
   ],
   "source": [
    "results = make_timesteps_repeated_time_series_k_fold(\n",
    "    df, train_period, test_period, params, None, repeats, timesteps_list\n",
    ")"
   ]
  },
  {
   "cell_type": "markdown",
   "metadata": {},
   "source": [
    "<h3>1.3.2 Time Series Repeated KFold Cross Validation - df_r3d_and_r7d</h3>\n",
    "\n",
    "<b>Dataset: df_r3d_and_r7d:</b> In this dataset both R3D and R7D variables are considered.\n",
    "\n",
    "<b>Feature Selection:</b> The IP, FP, and BL variables are discarded."
   ]
  },
  {
   "cell_type": "code",
   "execution_count": 61,
   "metadata": {},
   "outputs": [],
   "source": [
    "df = df_r3d_and_r7d.copy()\n",
    "columns = list(df.columns.drop(['R28D']))\n",
    "columns.append('R28D')\n",
    "df = df.reindex(columns=columns)\n",
    "df = df.drop(['Data/Hora', \"IP\", \"FP\", \"BL\"], axis=1)"
   ]
  },
  {
   "cell_type": "markdown",
   "metadata": {},
   "source": [
    "<h4>Experiment 1</h4>\n",
    "    \n",
    "<b>Train 6 months and predicts one month every year</b>"
   ]
  },
  {
   "cell_type": "code",
   "execution_count": 62,
   "metadata": {},
   "outputs": [],
   "source": [
    "train_period = 90 # 6 months of data since the data is spaced every 2 days\n",
    "test_period = 15 # 1 month"
   ]
  },
  {
   "cell_type": "code",
   "execution_count": 63,
   "metadata": {},
   "outputs": [
    {
     "name": "stdout",
     "output_type": "stream",
     "text": [
      "TIMESTEPS: 1 RMSE: 12.333 (4.615)\n",
      "TIMESTEPS: 3 RMSE: 3.905 (2.344)\n",
      "TIMESTEPS: 5 RMSE: 3.235 (3.761)\n",
      "TIMESTEPS: 7 RMSE: 5.184 (6.942)\n",
      "TIMESTEPS: 10 RMSE: 4.952 (6.035)\n",
      "TIMESTEPS: 15 RMSE: 1.977 (1.832)\n",
      "TIMESTEPS: 20 RMSE: 2.143 (0.424)\n"
     ]
    }
   ],
   "source": [
    "results = make_timesteps_repeated_time_series_k_fold(\n",
    "    df, train_period, test_period, params, None, repeats, timesteps_list\n",
    ")"
   ]
  },
  {
   "cell_type": "markdown",
   "metadata": {},
   "source": [
    "<h4>Experiment 2</h4>\n",
    "    \n",
    "<b>Train 11 months and predicts one month every year</b>"
   ]
  },
  {
   "cell_type": "code",
   "execution_count": 64,
   "metadata": {},
   "outputs": [],
   "source": [
    "train_period = 165 # 11 months of data since the data is spaced every 2 days (180 + 150)/2\n",
    "test_period = 15 # 1 month"
   ]
  },
  {
   "cell_type": "code",
   "execution_count": 65,
   "metadata": {},
   "outputs": [
    {
     "name": "stdout",
     "output_type": "stream",
     "text": [
      "TIMESTEPS: 1 RMSE: 12.201 (0.928)\n",
      "TIMESTEPS: 3 RMSE: 2.169 (0.072)\n",
      "TIMESTEPS: 5 RMSE: 2.483 (0.282)\n",
      "TIMESTEPS: 7 RMSE: 2.335 (0.050)\n",
      "TIMESTEPS: 10 RMSE: 2.343 (0.047)\n",
      "TIMESTEPS: 15 RMSE: 1.160 (0.014)\n",
      "TIMESTEPS: 20 RMSE: 1.536 (0.011)\n"
     ]
    }
   ],
   "source": [
    "results = make_timesteps_repeated_time_series_k_fold(\n",
    "    df, train_period, test_period, params, None, repeats, timesteps_list\n",
    ")"
   ]
  },
  {
   "cell_type": "markdown",
   "metadata": {},
   "source": [
    "<h4>Experiment 3</h4>\n",
    "    \n",
    "<b>Train 2 years and 10 months and predicts october and november of 2021</b>"
   ]
  },
  {
   "cell_type": "code",
   "execution_count": 66,
   "metadata": {},
   "outputs": [],
   "source": [
    "train_period = 200 # 11 months of data since the data is spaced every 2 days (180 + 150)/2\n",
    "test_period = 30 # 2 months"
   ]
  },
  {
   "cell_type": "code",
   "execution_count": 67,
   "metadata": {},
   "outputs": [
    {
     "name": "stdout",
     "output_type": "stream",
     "text": [
      "TIMESTEPS: 1 RMSE: 4.641 (0.500)\n",
      "TIMESTEPS: 3 RMSE: 1.677 (0.107)\n",
      "TIMESTEPS: 5 RMSE: 3.763 (4.519)\n",
      "TIMESTEPS: 7 RMSE: 8.566 (10.854)\n",
      "TIMESTEPS: 10 RMSE: 8.362 (12.682)\n",
      "TIMESTEPS: 15 RMSE: 3.187 (4.312)\n",
      "TIMESTEPS: 20 RMSE: 1.674 (0.024)\n"
     ]
    }
   ],
   "source": [
    "results = make_timesteps_repeated_time_series_k_fold(\n",
    "    df, train_period, test_period, params, None, repeats, timesteps_list\n",
    ")"
   ]
  },
  {
   "cell_type": "markdown",
   "metadata": {},
   "source": [
    "<h3>1.3.3 Time Series Repeated KFold Cross Validation - df_r3d_and_r7d</h3>\n",
    "\n",
    "<b>Dataset: df_r3d_and_r7d:</b> In this dataset both R3D and R7D variables are considered.\n",
    "\n",
    "<b>Feature Selection:</b>\n",
    "    1. The IP, FP and BL variables are discarded.\n",
    "    2. High correlated variables are removed\n"
   ]
  },
  {
   "cell_type": "code",
   "execution_count": 68,
   "metadata": {},
   "outputs": [],
   "source": [
    "to_drop = [\n",
    "    \"Data/Hora\",\n",
    "    \"IP\",\n",
    "    \"FP\",\n",
    "    \"BL\",\n",
    "    \"CALCITA\",\n",
    "    \"DESIDRATAÇÃO\",\n",
    "    \"GIPSITA\",\n",
    "    \"TIO2\",\n",
    "    \"AL2O3\",\n",
    "    \"PF\",\n",
    "    \"FERRITA\",\n",
    "]\n",
    "\n",
    "df = df_r3d_and_r7d.copy()\n",
    "columns = list(df.columns.drop(['R28D']))\n",
    "columns.append('R28D')\n",
    "df = df.reindex(columns=columns)\n",
    "df = df.drop(to_drop, axis=1)"
   ]
  },
  {
   "cell_type": "markdown",
   "metadata": {},
   "source": [
    "<h4>Experiment 1</h4>\n",
    "    \n",
    "<b>Train 6 months and predicts one month every year</b>"
   ]
  },
  {
   "cell_type": "code",
   "execution_count": 69,
   "metadata": {},
   "outputs": [],
   "source": [
    "train_period = 90 # 6 months of data since the data is spaced every 2 days\n",
    "test_period = 15 # 1 month"
   ]
  },
  {
   "cell_type": "code",
   "execution_count": 70,
   "metadata": {},
   "outputs": [
    {
     "name": "stdout",
     "output_type": "stream",
     "text": [
      "TIMESTEPS: 1 RMSE: 10.535 (4.664)\n",
      "TIMESTEPS: 3 RMSE: 6.445 (4.511)\n",
      "TIMESTEPS: 5 RMSE: 3.864 (4.178)\n",
      "TIMESTEPS: 7 RMSE: 5.186 (6.974)\n",
      "TIMESTEPS: 10 RMSE: 4.669 (6.235)\n",
      "TIMESTEPS: 15 RMSE: 2.166 (2.529)\n",
      "TIMESTEPS: 20 RMSE: 2.156 (0.412)\n"
     ]
    }
   ],
   "source": [
    "results = make_timesteps_repeated_time_series_k_fold(\n",
    "    df, train_period, test_period, params, None, repeats, timesteps_list\n",
    ")"
   ]
  },
  {
   "cell_type": "markdown",
   "metadata": {},
   "source": [
    "<h4>Experiment 2</h4>\n",
    "    \n",
    "<b>Train 11 months and predicts one month every year</b>"
   ]
  },
  {
   "cell_type": "code",
   "execution_count": 71,
   "metadata": {},
   "outputs": [],
   "source": [
    "train_period = 165 # 11 months of data since the data is spaced every 2 days (180 + 150)/2\n",
    "test_period = 15 # 1 month"
   ]
  },
  {
   "cell_type": "code",
   "execution_count": 72,
   "metadata": {},
   "outputs": [
    {
     "name": "stdout",
     "output_type": "stream",
     "text": [
      "TIMESTEPS: 1 RMSE: 11.317 (0.558)\n",
      "TIMESTEPS: 3 RMSE: 2.161 (0.075)\n",
      "TIMESTEPS: 5 RMSE: 2.354 (0.058)\n",
      "TIMESTEPS: 7 RMSE: 2.382 (0.028)\n",
      "TIMESTEPS: 10 RMSE: 2.332 (0.065)\n",
      "TIMESTEPS: 15 RMSE: 1.149 (0.021)\n",
      "TIMESTEPS: 20 RMSE: 1.543 (0.029)\n"
     ]
    }
   ],
   "source": [
    "results = make_timesteps_repeated_time_series_k_fold(\n",
    "    df, train_period, test_period, params, None, repeats, timesteps_list\n",
    ")"
   ]
  },
  {
   "cell_type": "markdown",
   "metadata": {},
   "source": [
    "<h4>Experiment 3</h4>\n",
    "    \n",
    "<b>Train 2 years and 10 months and predicts october and november of 2021</b>"
   ]
  },
  {
   "cell_type": "code",
   "execution_count": 73,
   "metadata": {},
   "outputs": [],
   "source": [
    "train_period = 200 # 11 months of data since the data is spaced every 2 days (180 + 150)/2\n",
    "test_period = 30 # 2 months"
   ]
  },
  {
   "cell_type": "code",
   "execution_count": 74,
   "metadata": {},
   "outputs": [
    {
     "name": "stdout",
     "output_type": "stream",
     "text": [
      "TIMESTEPS: 1 RMSE: 5.277 (0.878)\n",
      "TIMESTEPS: 3 RMSE: 1.566 (0.045)\n",
      "TIMESTEPS: 5 RMSE: 2.441 (2.289)\n",
      "TIMESTEPS: 7 RMSE: 2.262 (1.335)\n",
      "TIMESTEPS: 10 RMSE: 4.159 (5.156)\n",
      "TIMESTEPS: 15 RMSE: 1.755 (0.026)\n",
      "TIMESTEPS: 20 RMSE: 2.776 (3.295)\n"
     ]
    }
   ],
   "source": [
    "results = make_timesteps_repeated_time_series_k_fold(\n",
    "    df, train_period, test_period, params, None, repeats, timesteps_list\n",
    ")"
   ]
  },
  {
   "cell_type": "code",
   "execution_count": null,
   "metadata": {},
   "outputs": [],
   "source": []
  }
 ],
 "metadata": {
  "kernelspec": {
   "display_name": "ccs28-venv",
   "language": "python",
   "name": "ccs28-venv"
  },
  "language_info": {
   "codemirror_mode": {
    "name": "ipython",
    "version": 3
   },
   "file_extension": ".py",
   "mimetype": "text/x-python",
   "name": "python",
   "nbconvert_exporter": "python",
   "pygments_lexer": "ipython3",
   "version": "3.8.10"
  }
 },
 "nbformat": 4,
 "nbformat_minor": 4
}
