{
 "cells": [
  {
   "cell_type": "code",
   "execution_count": 1,
   "metadata": {},
   "outputs": [],
   "source": [
    "import pandas as pd\n",
    "import numpy as np\n",
    "import tensorflow as tf\n",
    "import matplotlib.pyplot as plt\n",
    "import tensorflow as tf\n",
    "import time\n",
    "import os \n",
    "\n",
    "from sklearn.preprocessing import StandardScaler\n",
    "from sklearn.pipeline import Pipeline\n",
    "\n",
    "from src.utils.time_series_procs import split_sequences"
   ]
  },
  {
   "cell_type": "code",
   "execution_count": 2,
   "metadata": {},
   "outputs": [],
   "source": [
    "def get_times_series_data(df, cut_date, time_steps=3):\n",
    "    columns = list(df.columns.drop([\"R28D\"]))\n",
    "    columns.append(\"R28D\")\n",
    "    df = df.reindex(columns=columns)\n",
    "    df[\"Data/Hora\"] = pd.to_datetime(df[\"Data/Hora\"])\n",
    "    df_train = df[df[\"Data/Hora\"] < cut_date]\n",
    "    df_test = df[df[\"Data/Hora\"] >= cut_date]\n",
    "    df_train = df_train.drop([\"Data/Hora\"], axis=1)\n",
    "    df_test = df_test.drop([\"Data/Hora\"], axis=1)\n",
    "    x_train, y_train = split_sequences(df_train.values, time_steps)\n",
    "    x_test, y_test = split_sequences(df_test.values, time_steps)\n",
    "    return x_train, y_train, x_test, y_test"
   ]
  },
  {
   "cell_type": "code",
   "execution_count": 3,
   "metadata": {},
   "outputs": [],
   "source": [
    "class StandardScaler3DShape:\n",
    "    def __init__(self):\n",
    "        self.scaler = StandardScaler()\n",
    "\n",
    "    def fit_transform(self, X, y=None):\n",
    "        X_new = self.scaler.fit_transform(X.reshape(-1, X.shape[-1])).reshape(X.shape)\n",
    "        return X_new\n",
    "\n",
    "    def fit(self, X, y=None):\n",
    "        X_new = X.reshape(-1, X.shape[-1])\n",
    "        self.scaler.fit(X_new)\n",
    "        return self\n",
    "\n",
    "    def transform(self, X, y=None):\n",
    "        X_new = self.scaler.transform(X.reshape(-1, X.shape[-1])).reshape(X.shape)\n",
    "        return X_new"
   ]
  },
  {
   "cell_type": "code",
   "execution_count": 4,
   "metadata": {},
   "outputs": [],
   "source": [
    "def get_baseline_model(n_units=64, learning_rate=0.01):\n",
    "    model = tf.keras.Sequential()\n",
    "\n",
    "    model.add(tf.keras.layers.LSTM(units=n_units))\n",
    "    model.add(tf.keras.layers.Dense(1))\n",
    "\n",
    "    opt = tf.keras.optimizers.Adam(learning_rate=learning_rate)\n",
    "    model.compile(\n",
    "        optimizer=opt,\n",
    "        loss=\"mse\",\n",
    "        metrics=[tf.keras.metrics.RootMeanSquaredError(name=\"RMSE\")],\n",
    "    )\n",
    "    return model"
   ]
  },
  {
   "cell_type": "code",
   "execution_count": 5,
   "metadata": {},
   "outputs": [],
   "source": [
    "def create_keras_model(\n",
    "    activation=\"tanh\", dropout_rate=0.0, n_units=64, n_layers=1, learning_rate=1e-3\n",
    "):\n",
    "    model = tf.keras.Sequential()\n",
    "\n",
    "    for i in range(n_layers):\n",
    "        if i + 1 < n_layers:\n",
    "            model.add(\n",
    "                tf.keras.layers.LSTM(\n",
    "                    units=n_units, activation=activation, return_sequences=True\n",
    "                )\n",
    "            )\n",
    "        else:\n",
    "            model.add(\n",
    "                tf.keras.layers.LSTM(\n",
    "                    units=n_units, activation=activation, return_sequences=False\n",
    "                )\n",
    "            )\n",
    "    if dropout_rate > 0.0:\n",
    "        model.add(tf.keras.layers.Dropout(dropout_rate))\n",
    "    model.add(tf.keras.layers.Dense(1))\n",
    "    model.compile(\n",
    "        optimizer=tf.keras.optimizers.Adam(learning_rate=learning_rate),\n",
    "        loss=\"mse\",\n",
    "        metrics=[tf.keras.metrics.RootMeanSquaredError(name=\"RMSE\")],\n",
    "    )\n",
    "    return model"
   ]
  },
  {
   "cell_type": "code",
   "execution_count": 6,
   "metadata": {},
   "outputs": [],
   "source": [
    "def make_repeated_time_series_k_fold(\n",
    "    x,\n",
    "    y,\n",
    "    train_period,\n",
    "    test_period,\n",
    "    grid=None,\n",
    "    repeats=10,\n",
    "    show_individual_results=True,\n",
    "    show_final_result=True,\n",
    "    params=None,\n",
    "):\n",
    "    results = []\n",
    "    max_samples = x.shape[0]\n",
    "\n",
    "    if grid:\n",
    "        activation = grid.best_params_[\"model__activation\"]\n",
    "        dropout_rate = grid.best_params_[\"model__dropout_rate\"]\n",
    "        n_units = grid.best_params_[\"model__n_units\"]\n",
    "        n_layers = grid.best_params_[\"model__n_layers\"]\n",
    "        learning_rate = grid.best_params_[\"model__learning_rate\"]\n",
    "        batch_size = grid.best_params_[\"model__batch_size\"]\n",
    "        epochs = grid.best_params_[\"model__epochs\"]\n",
    "    else:\n",
    "        activation = params[\"activation\"]\n",
    "        dropout_rate = params[\"dropout_rate\"]\n",
    "        n_units = params[\"n_units\"]\n",
    "        n_layers = params[\"n_layers\"]\n",
    "        learning_rate = params[\"learning_rate\"]\n",
    "        batch_size = params[\"batch_size\"]\n",
    "        epochs = params[\"epochs\"]\n",
    "\n",
    "    for _ in range(repeats):\n",
    "        i = 0\n",
    "        scores = []\n",
    "        for _ in range(0, max_samples // train_period):\n",
    "            x_train = x[i : i + train_period]\n",
    "            y_train = y[i : i + train_period]\n",
    "            x_test = x[i + train_period : i + train_period + test_period]\n",
    "            y_test = y[i + train_period : i + train_period + test_period]\n",
    "            i += train_period\n",
    "            x_train = scaler.fit_transform(\n",
    "                x_train.reshape(-1, x_train.shape[-1])\n",
    "            ).reshape(x_train.shape)\n",
    "            x_test = scaler.transform(x_test.reshape(-1, x_test.shape[-1])).reshape(\n",
    "                x_test.shape\n",
    "            )\n",
    "            model = create_keras_model(\n",
    "                activation=activation,\n",
    "                dropout_rate=dropout_rate,\n",
    "                n_units=n_units,\n",
    "                n_layers=n_layers,\n",
    "                learning_rate=learning_rate,\n",
    "            )\n",
    "            model.fit(x_train, y_train, epochs=epochs, batch_size=batch_size, verbose=0)\n",
    "            rmse = model.evaluate(x_test, y_test, verbose=0)\n",
    "            scores.append(rmse[1])\n",
    "        results.append(scores)\n",
    "        if show_individual_results:\n",
    "            print(\"RMSE: %.3f (%.3f)\" % (np.mean(scores), np.std(scores)))\n",
    "    if show_final_result:\n",
    "        print(\"\\nRMSE: %.3f (%.3f)\" % (np.mean(results), np.std(results)))\n",
    "    return results\n"
   ]
  },
  {
   "cell_type": "code",
   "execution_count": 7,
   "metadata": {},
   "outputs": [],
   "source": [
    "def make_timesteps_repeated_time_series_k_fold(\n",
    "    df,\n",
    "    train_period,\n",
    "    test_period,\n",
    "    params=None,\n",
    "    grid=None,\n",
    "    repeats=10,\n",
    "    timesteps_list=[3],\n",
    "    show_results=True,\n",
    "):\n",
    "    results = {}\n",
    "\n",
    "    for timesteps in timesteps_list:\n",
    "        x, y = split_sequences(df.values, timesteps)\n",
    "        scores = make_repeated_time_series_k_fold(\n",
    "            x, y, train_period, test_period, grid, repeats, False, False, params\n",
    "        )\n",
    "        results[timesteps] = scores\n",
    "        if show_results:\n",
    "            print(\n",
    "                \"TIMESTEPS: %d RMSE: %.3f (%.3f)\"\n",
    "                % (timesteps, np.mean(scores), np.std(scores))\n",
    "            )\n",
    "    return results\n"
   ]
  },
  {
   "cell_type": "markdown",
   "metadata": {},
   "source": [
    "<h3>Disable Tensorflow Warnings</h3>"
   ]
  },
  {
   "cell_type": "code",
   "execution_count": 8,
   "metadata": {},
   "outputs": [],
   "source": [
    "os.environ['TF_CPP_MIN_LOG_LEVEL'] = '3' "
   ]
  },
  {
   "cell_type": "code",
   "execution_count": 9,
   "metadata": {},
   "outputs": [],
   "source": [
    "df_r3d_and_r7d = pd.read_csv(\n",
    "    \"../../../../data/interim/\"\n",
    "    + \"r3d_and_r7d-no-resampling-with-fillna-\"\n",
    "    + \"dados-historicos-partner_i-cement-CPIIF40.csv\"\n",
    ")\n",
    "df_r3d_only = pd.read_csv(\n",
    "    \"../../../../data/interim/\"\n",
    "    + \"r3d_only-no-resampling-with-fillna-\"\n",
    "    + \"dados-historicos-partner_i-cement-CPIIF40.csv\"\n",
    ")\n",
    "df_no_r3d_r7d = pd.read_csv(\n",
    "    \"../../../../data/interim/\"\n",
    "    + \"no-r3d-r7d-no-resampling-with-fillna-\"\n",
    "    + \"dados-historicos-partner_i-cement-CPIIF40.csv\"\n",
    ")"
   ]
  },
  {
   "cell_type": "markdown",
   "metadata": {},
   "source": [
    "## Feature Selection\n",
    "\n",
    "### In this notebook we remove variables that could potentially cause data leakage. Thus we are performing testings removing the following variables:\n",
    "\n",
    "#### IP - Initial setting time\n",
    "#### FP - Final setting time\n",
    "\n",
    "\n",
    "#### BL - Blaine specific surface (This is both removed and use)"
   ]
  },
  {
   "cell_type": "code",
   "execution_count": 10,
   "metadata": {},
   "outputs": [],
   "source": [
    "seed = 47\n",
    "scaler = StandardScaler()"
   ]
  },
  {
   "cell_type": "markdown",
   "metadata": {},
   "source": [
    "# Neural Network Long Short Term Memory - LSTM"
   ]
  },
  {
   "cell_type": "markdown",
   "metadata": {},
   "source": [
    "# Configs:\n",
    "\n",
    "1. Train Period: [01-01-2019, 2021-05-02)\n",
    "\n",
    "2. Test Period:  (2021-05-02, 2021-11-31]\n",
    "\n",
    "3. TIMESTEPS: [1, 3, 5, 7, 10, 15, 20]\n",
    "\n",
    "4. Epochs: 100\n",
    "\n",
    "5. Batch size: 32\n",
    "\n",
    "6. LSTM Cells: 64\n",
    "\n",
    "7. LSTM Layers: 1\n",
    "\n",
    "8. Optimization Algorithm: Adam\n",
    "    \n",
    "    8.1. Learning Rate: 1e-2\n",
    "    \n",
    "<h3>Repeats: 10</h3>\n",
    "<h3>K: 10</h3>"
   ]
  },
  {
   "cell_type": "markdown",
   "metadata": {},
   "source": [
    "# 1. Times Series Repeated KFold Cross validation - different Timesteps values\n",
    "\n",
    "Here we will make a Times Series KFold Cross validation with all 3 datasets. Here we are using the Blocking Time Series Split method. And with timeseries Split method. We also do it with different number of timesteps\n"
   ]
  },
  {
   "cell_type": "code",
   "execution_count": 11,
   "metadata": {},
   "outputs": [],
   "source": [
    "params = {}\n",
    "params[\"activation\"] = \"tanh\"\n",
    "params[\"dropout_rate\"] = 0.0\n",
    "params[\"n_units\"] = 64\n",
    "params[\"n_layers\"] = 1\n",
    "params[\"learning_rate\"] = 1e-2\n",
    "params[\"batch_size\"] = 32\n",
    "params[\"epochs\"] = 100\n",
    "\n",
    "timesteps_list = [1, 3, 5, 7, 10, 15, 20]\n",
    "\n",
    "repeats = 10"
   ]
  },
  {
   "cell_type": "markdown",
   "metadata": {},
   "source": [
    "## 1.1 Dataset: no-r3d-r7d-no-resampling-with-fillna"
   ]
  },
  {
   "cell_type": "markdown",
   "metadata": {},
   "source": [
    "<h3>1.1.1 Time Series Repeated KFold Cross Validation with vary timesteps - df_no_r3d_r7d</h3>\n",
    "\n",
    "<b>Dataset: df_no_r3d_r7d:</b> In this dataset the R3D and R7D variables are not considered.\n",
    "\n",
    "<b>Feature Selection:</b> The IP and FP variables are discarded."
   ]
  },
  {
   "cell_type": "code",
   "execution_count": 12,
   "metadata": {},
   "outputs": [],
   "source": [
    "df = df_no_r3d_r7d.copy()\n",
    "columns = list(df.columns.drop(['R28D']))\n",
    "columns.append('R28D')\n",
    "df = df.reindex(columns=columns)\n",
    "df = df.drop(['Data/Hora', \"IP\", \"FP\"], axis=1)"
   ]
  },
  {
   "cell_type": "markdown",
   "metadata": {},
   "source": [
    "<h4>Experiment 1</h4>\n",
    "    \n",
    "<b>Train 6 months and predicts one month every year</b>"
   ]
  },
  {
   "cell_type": "code",
   "execution_count": 13,
   "metadata": {},
   "outputs": [],
   "source": [
    "train_period = 90 # 6 months of data since the data is spaced every 2 days\n",
    "test_period = 15 # 1 month"
   ]
  },
  {
   "cell_type": "code",
   "execution_count": 14,
   "metadata": {},
   "outputs": [
    {
     "name": "stdout",
     "output_type": "stream",
     "text": [
      "WARNING:tensorflow:5 out of the last 5 calls to <function Model.make_test_function.<locals>.test_function at 0x7ff7cc00fca0> triggered tf.function retracing. Tracing is expensive and the excessive number of tracings could be due to (1) creating @tf.function repeatedly in a loop, (2) passing tensors with different shapes, (3) passing Python objects instead of tensors. For (1), please define your @tf.function outside of the loop. For (2), @tf.function has experimental_relax_shapes=True option that relaxes argument shapes that can avoid unnecessary retracing. For (3), please refer to https://www.tensorflow.org/guide/function#controlling_retracing and https://www.tensorflow.org/api_docs/python/tf/function for  more details.\n",
      "WARNING:tensorflow:6 out of the last 6 calls to <function Model.make_test_function.<locals>.test_function at 0x7ff75804fd30> triggered tf.function retracing. Tracing is expensive and the excessive number of tracings could be due to (1) creating @tf.function repeatedly in a loop, (2) passing tensors with different shapes, (3) passing Python objects instead of tensors. For (1), please define your @tf.function outside of the loop. For (2), @tf.function has experimental_relax_shapes=True option that relaxes argument shapes that can avoid unnecessary retracing. For (3), please refer to https://www.tensorflow.org/guide/function#controlling_retracing and https://www.tensorflow.org/api_docs/python/tf/function for  more details.\n",
      "TIMESTEPS: 1 RMSE: 8.948 (3.416)\n",
      "TIMESTEPS: 3 RMSE: 2.006 (0.557)\n",
      "TIMESTEPS: 5 RMSE: 1.693 (0.454)\n",
      "TIMESTEPS: 7 RMSE: 1.686 (0.483)\n",
      "TIMESTEPS: 10 RMSE: 1.745 (0.480)\n",
      "TIMESTEPS: 15 RMSE: 1.816 (0.292)\n",
      "TIMESTEPS: 20 RMSE: 2.642 (2.290)\n"
     ]
    }
   ],
   "source": [
    "results = make_timesteps_repeated_time_series_k_fold(\n",
    "    df, train_period, test_period, params, None, repeats, timesteps_list\n",
    ")"
   ]
  },
  {
   "cell_type": "markdown",
   "metadata": {},
   "source": [
    "<h4>Experiment 2</h4>\n",
    "    \n",
    "<b>Train 11 months and predicts one month every year</b>"
   ]
  },
  {
   "cell_type": "code",
   "execution_count": 15,
   "metadata": {},
   "outputs": [],
   "source": [
    "train_period = 165 # 11 months of data since the data is spaced every 2 days (180 + 150)/2\n",
    "test_period = 15 # 1 month"
   ]
  },
  {
   "cell_type": "code",
   "execution_count": 16,
   "metadata": {},
   "outputs": [
    {
     "name": "stdout",
     "output_type": "stream",
     "text": [
      "TIMESTEPS: 1 RMSE: 6.091 (1.030)\n",
      "TIMESTEPS: 3 RMSE: 2.277 (0.931)\n",
      "TIMESTEPS: 5 RMSE: 4.148 (7.014)\n",
      "TIMESTEPS: 7 RMSE: 2.003 (0.955)\n",
      "TIMESTEPS: 10 RMSE: 1.899 (0.774)\n",
      "TIMESTEPS: 15 RMSE: 2.824 (0.108)\n",
      "TIMESTEPS: 20 RMSE: 2.218 (0.074)\n"
     ]
    }
   ],
   "source": [
    "results = make_timesteps_repeated_time_series_k_fold(\n",
    "    df, train_period, test_period, params, None, repeats, timesteps_list\n",
    ")"
   ]
  },
  {
   "cell_type": "markdown",
   "metadata": {},
   "source": [
    "<h4>Experiment 3</h4>\n",
    "    \n",
    "<b>Train 2 years and 10 months and predicts october and november of 2021</b>"
   ]
  },
  {
   "cell_type": "code",
   "execution_count": 17,
   "metadata": {},
   "outputs": [],
   "source": [
    "train_period = 200 # 11 months of data since the data is spaced every 2 days (180 + 150)/2\n",
    "test_period = 30 # 2 months"
   ]
  },
  {
   "cell_type": "code",
   "execution_count": 18,
   "metadata": {},
   "outputs": [
    {
     "name": "stdout",
     "output_type": "stream",
     "text": [
      "TIMESTEPS: 1 RMSE: 5.062 (0.709)\n",
      "TIMESTEPS: 3 RMSE: 2.680 (0.049)\n",
      "TIMESTEPS: 5 RMSE: 3.386 (2.130)\n",
      "TIMESTEPS: 7 RMSE: 2.611 (0.039)\n",
      "TIMESTEPS: 10 RMSE: 2.533 (0.004)\n",
      "TIMESTEPS: 15 RMSE: 2.362 (0.007)\n",
      "TIMESTEPS: 20 RMSE: 2.286 (0.003)\n"
     ]
    }
   ],
   "source": [
    "results = make_timesteps_repeated_time_series_k_fold(\n",
    "    df, train_period, test_period, params, None, repeats, timesteps_list\n",
    ")"
   ]
  },
  {
   "cell_type": "markdown",
   "metadata": {},
   "source": [
    "<h3>1.1.2 Time Series Repeated KFold Cross Validation with vary timesteps - df_no_r3d_r7d</h3>\n",
    "\n",
    "<b>Dataset: df_no_r3d_r7d:</b> In this dataset the R3D and R7D variables are not considered.\n",
    "\n",
    "<b>Feature Selection:</b> The IP, FP and BL variables are discarded."
   ]
  },
  {
   "cell_type": "code",
   "execution_count": 19,
   "metadata": {},
   "outputs": [],
   "source": [
    "df = df_no_r3d_r7d.copy()\n",
    "columns = list(df.columns.drop(['R28D']))\n",
    "columns.append('R28D')\n",
    "df = df.reindex(columns=columns)\n",
    "df = df.drop(['Data/Hora', \"IP\", \"FP\", \"BL\"], axis=1)"
   ]
  },
  {
   "cell_type": "markdown",
   "metadata": {},
   "source": [
    "<h4>Experiment 1</h4>\n",
    "    \n",
    "<b>Train 6 months and predicts one month every year</b>"
   ]
  },
  {
   "cell_type": "code",
   "execution_count": 20,
   "metadata": {},
   "outputs": [],
   "source": [
    "train_period = 90 # 6 months of data since the data is spaced every 2 days\n",
    "test_period = 15 # 1 month"
   ]
  },
  {
   "cell_type": "code",
   "execution_count": 21,
   "metadata": {},
   "outputs": [
    {
     "name": "stdout",
     "output_type": "stream",
     "text": [
      "TIMESTEPS: 1 RMSE: 8.257 (3.062)\n",
      "TIMESTEPS: 3 RMSE: 1.994 (0.540)\n",
      "TIMESTEPS: 5 RMSE: 1.689 (0.453)\n",
      "TIMESTEPS: 7 RMSE: 1.862 (0.999)\n",
      "TIMESTEPS: 10 RMSE: 1.738 (0.484)\n",
      "TIMESTEPS: 15 RMSE: 2.185 (2.044)\n",
      "TIMESTEPS: 20 RMSE: 2.204 (0.297)\n"
     ]
    }
   ],
   "source": [
    "results = make_timesteps_repeated_time_series_k_fold(\n",
    "    df, train_period, test_period, params, None, repeats, timesteps_list\n",
    ")"
   ]
  },
  {
   "cell_type": "markdown",
   "metadata": {},
   "source": [
    "<h4>Experiment 2</h4>\n",
    "    \n",
    "<b>Train 11 months and predicts one month every year</b>"
   ]
  },
  {
   "cell_type": "code",
   "execution_count": 22,
   "metadata": {},
   "outputs": [],
   "source": [
    "train_period = 165 # 11 months of data since the data is spaced every 2 days (180 + 150)/2\n",
    "test_period = 15 # 1 month"
   ]
  },
  {
   "cell_type": "code",
   "execution_count": 23,
   "metadata": {},
   "outputs": [
    {
     "name": "stdout",
     "output_type": "stream",
     "text": [
      "TIMESTEPS: 1 RMSE: 4.684 (0.841)\n",
      "TIMESTEPS: 3 RMSE: 1.825 (0.431)\n",
      "TIMESTEPS: 5 RMSE: 1.994 (0.832)\n",
      "TIMESTEPS: 7 RMSE: 2.338 (1.342)\n",
      "TIMESTEPS: 10 RMSE: 1.881 (0.771)\n",
      "TIMESTEPS: 15 RMSE: 2.804 (0.105)\n",
      "TIMESTEPS: 20 RMSE: 2.261 (0.053)\n"
     ]
    }
   ],
   "source": [
    "results = make_timesteps_repeated_time_series_k_fold(\n",
    "    df, train_period, test_period, params, None, repeats, timesteps_list\n",
    ")"
   ]
  },
  {
   "cell_type": "markdown",
   "metadata": {},
   "source": [
    "<h4>Experiment 3</h4>\n",
    "    \n",
    "<b>Train 2 years and 10 months and predicts october and november of 2021</b>"
   ]
  },
  {
   "cell_type": "code",
   "execution_count": 24,
   "metadata": {},
   "outputs": [],
   "source": [
    "train_period = 200 # 11 months of data since the data is spaced every 2 days (180 + 150)/2\n",
    "test_period = 30 # 2 months"
   ]
  },
  {
   "cell_type": "code",
   "execution_count": 25,
   "metadata": {},
   "outputs": [
    {
     "name": "stdout",
     "output_type": "stream",
     "text": [
      "TIMESTEPS: 1 RMSE: 5.091 (0.652)\n",
      "TIMESTEPS: 3 RMSE: 2.647 (0.041)\n",
      "TIMESTEPS: 5 RMSE: 2.688 (0.025)\n",
      "TIMESTEPS: 7 RMSE: 2.579 (0.031)\n",
      "TIMESTEPS: 10 RMSE: 3.315 (2.340)\n",
      "TIMESTEPS: 15 RMSE: 2.367 (0.012)\n",
      "TIMESTEPS: 20 RMSE: 2.287 (0.003)\n"
     ]
    }
   ],
   "source": [
    "results = make_timesteps_repeated_time_series_k_fold(\n",
    "    df, train_period, test_period, params, None, repeats, timesteps_list\n",
    ")"
   ]
  },
  {
   "cell_type": "markdown",
   "metadata": {},
   "source": [
    "<h3>1.1.3 Time Series Repeated KFold Cross Validation with vary timesteps - df_no_r3d_r7d</h3>\n",
    "\n",
    "<b>Dataset: df_no_r3d_r7d:</b> In this dataset the R3D and R7D variables are not considered.\n",
    "\n",
    "<b>Feature Selection:</b> \n",
    "\n",
    "1. The IP, FP and BL variables are discarded.\n",
    "\n",
    "2. High correlated variables are removed\n"
   ]
  },
  {
   "cell_type": "code",
   "execution_count": 26,
   "metadata": {},
   "outputs": [],
   "source": [
    "to_drop = [\n",
    "    \"Data/Hora\",\n",
    "    \"IP\",\n",
    "    \"FP\",\n",
    "    \"BL\",\n",
    "    \"CALCITA\",\n",
    "    \"DESIDRATAÇÃO\",\n",
    "    \"GIPSITA\",\n",
    "    \"TIO2\",\n",
    "    \"AL2O3\",\n",
    "    \"PF\",\n",
    "    \"FERRITA\",\n",
    "]\n",
    "\n",
    "df = df_no_r3d_r7d.copy()\n",
    "columns = list(df.columns.drop(['R28D']))\n",
    "columns.append('R28D')\n",
    "df = df.reindex(columns=columns)\n",
    "df = df.drop(to_drop, axis=1)"
   ]
  },
  {
   "cell_type": "markdown",
   "metadata": {},
   "source": [
    "<h4>Experiment 1</h4>\n",
    "    \n",
    "<b>Train 6 months and predicts one month every year</b>"
   ]
  },
  {
   "cell_type": "code",
   "execution_count": 27,
   "metadata": {},
   "outputs": [],
   "source": [
    "train_period = 90 # 6 months of data since the data is spaced every 2 days\n",
    "test_period = 15 # 1 month"
   ]
  },
  {
   "cell_type": "code",
   "execution_count": 28,
   "metadata": {},
   "outputs": [
    {
     "name": "stdout",
     "output_type": "stream",
     "text": [
      "TIMESTEPS: 1 RMSE: 9.222 (4.166)\n",
      "TIMESTEPS: 3 RMSE: 1.979 (0.553)\n",
      "TIMESTEPS: 5 RMSE: 1.688 (0.451)\n",
      "TIMESTEPS: 7 RMSE: 2.101 (2.226)\n",
      "TIMESTEPS: 10 RMSE: 1.740 (0.486)\n",
      "TIMESTEPS: 15 RMSE: 1.814 (0.290)\n",
      "TIMESTEPS: 20 RMSE: 3.421 (4.712)\n"
     ]
    }
   ],
   "source": [
    "results = make_timesteps_repeated_time_series_k_fold(\n",
    "    df, train_period, test_period, params, None, repeats, timesteps_list\n",
    ")"
   ]
  },
  {
   "cell_type": "markdown",
   "metadata": {},
   "source": [
    "<h4>Experiment 2</h4>\n",
    "    \n",
    "<b>Train 11 months and predicts one month every year</b>"
   ]
  },
  {
   "cell_type": "code",
   "execution_count": 29,
   "metadata": {},
   "outputs": [],
   "source": [
    "train_period = 165 # 11 months of data since the data is spaced every 2 days (180 + 150)/2\n",
    "test_period = 15 # 1 month"
   ]
  },
  {
   "cell_type": "code",
   "execution_count": 30,
   "metadata": {},
   "outputs": [
    {
     "name": "stdout",
     "output_type": "stream",
     "text": [
      "TIMESTEPS: 1 RMSE: 4.249 (0.704)\n",
      "TIMESTEPS: 3 RMSE: 1.778 (0.549)\n",
      "TIMESTEPS: 5 RMSE: 2.057 (0.902)\n",
      "TIMESTEPS: 7 RMSE: 2.099 (1.031)\n",
      "TIMESTEPS: 10 RMSE: 1.885 (0.774)\n",
      "TIMESTEPS: 15 RMSE: 2.827 (0.151)\n",
      "TIMESTEPS: 20 RMSE: 2.249 (0.062)\n"
     ]
    }
   ],
   "source": [
    "results = make_timesteps_repeated_time_series_k_fold(\n",
    "    df, train_period, test_period, params, None, repeats, timesteps_list\n",
    ")"
   ]
  },
  {
   "cell_type": "markdown",
   "metadata": {},
   "source": [
    "<h4>Experiment 3</h4>\n",
    "    \n",
    "<b>Train 2 years and 10 months and predicts october and november of 2021</b>"
   ]
  },
  {
   "cell_type": "code",
   "execution_count": 31,
   "metadata": {},
   "outputs": [],
   "source": [
    "train_period = 200 # 11 months of data since the data is spaced every 2 days (180 + 150)/2\n",
    "test_period = 30 # 2 months"
   ]
  },
  {
   "cell_type": "code",
   "execution_count": 32,
   "metadata": {},
   "outputs": [
    {
     "name": "stdout",
     "output_type": "stream",
     "text": [
      "TIMESTEPS: 1 RMSE: 6.515 (1.119)\n",
      "TIMESTEPS: 3 RMSE: 2.622 (0.067)\n",
      "TIMESTEPS: 5 RMSE: 2.697 (0.029)\n",
      "TIMESTEPS: 7 RMSE: 2.581 (0.018)\n",
      "TIMESTEPS: 10 RMSE: 2.537 (0.018)\n",
      "TIMESTEPS: 15 RMSE: 2.363 (0.005)\n",
      "TIMESTEPS: 20 RMSE: 2.296 (0.014)\n"
     ]
    }
   ],
   "source": [
    "results = make_timesteps_repeated_time_series_k_fold(\n",
    "    df, train_period, test_period, params, None, repeats, timesteps_list\n",
    ")"
   ]
  },
  {
   "cell_type": "markdown",
   "metadata": {},
   "source": [
    "## 1.2 Dataset: df_r3d_only"
   ]
  },
  {
   "cell_type": "markdown",
   "metadata": {},
   "source": [
    "<h3>1.2.1 Time Series Repeated KFold Cross Validation - df_r3d_only</h3>\n",
    "\n",
    "<b>Dataset: df_r3d_only:</b> In this dataset only R3D variable is considered.\n",
    "\n",
    "<b>Feature Selection:</b> The IP and FP variables are discarded."
   ]
  },
  {
   "cell_type": "code",
   "execution_count": 33,
   "metadata": {},
   "outputs": [],
   "source": [
    "df = df_r3d_only.copy()\n",
    "columns = list(df.columns.drop(['R28D']))\n",
    "columns.append('R28D')\n",
    "df = df.reindex(columns=columns)\n",
    "df = df.drop(['Data/Hora', \"IP\", \"FP\"], axis=1)"
   ]
  },
  {
   "cell_type": "markdown",
   "metadata": {},
   "source": [
    "<h4>Experiment 1</h4>\n",
    "    \n",
    "<b>Train 6 months and predicts one month every year</b>"
   ]
  },
  {
   "cell_type": "code",
   "execution_count": 34,
   "metadata": {},
   "outputs": [],
   "source": [
    "train_period = 90 # 6 months of data since the data is spaced every 2 days\n",
    "test_period = 15 # 1 month"
   ]
  },
  {
   "cell_type": "code",
   "execution_count": 35,
   "metadata": {},
   "outputs": [
    {
     "name": "stdout",
     "output_type": "stream",
     "text": [
      "TIMESTEPS: 1 RMSE: 10.226 (2.857)\n",
      "TIMESTEPS: 3 RMSE: 1.643 (0.428)\n",
      "TIMESTEPS: 5 RMSE: 1.368 (0.154)\n",
      "TIMESTEPS: 7 RMSE: 1.344 (0.090)\n",
      "TIMESTEPS: 10 RMSE: 1.428 (0.205)\n",
      "TIMESTEPS: 15 RMSE: 1.659 (0.118)\n",
      "TIMESTEPS: 20 RMSE: 1.806 (0.344)\n"
     ]
    }
   ],
   "source": [
    "results = make_timesteps_repeated_time_series_k_fold(\n",
    "    df, train_period, test_period, params, None, repeats, timesteps_list\n",
    ")"
   ]
  },
  {
   "cell_type": "markdown",
   "metadata": {},
   "source": [
    "<h4>Experiment 2</h4>\n",
    "    \n",
    "<b>Train 11 months and predicts one month every year</b>"
   ]
  },
  {
   "cell_type": "code",
   "execution_count": 36,
   "metadata": {},
   "outputs": [],
   "source": [
    "train_period = 165 # 11 months of data since the data is spaced every 2 days (180 + 150)/2\n",
    "test_period = 15 # 1 month"
   ]
  },
  {
   "cell_type": "code",
   "execution_count": 37,
   "metadata": {},
   "outputs": [
    {
     "name": "stdout",
     "output_type": "stream",
     "text": [
      "TIMESTEPS: 1 RMSE: 3.577 (0.400)\n",
      "TIMESTEPS: 3 RMSE: 2.506 (0.074)\n",
      "TIMESTEPS: 5 RMSE: 2.409 (0.036)\n",
      "TIMESTEPS: 7 RMSE: 2.299 (0.146)\n",
      "TIMESTEPS: 10 RMSE: 2.232 (0.014)\n",
      "TIMESTEPS: 15 RMSE: 1.753 (0.065)\n",
      "TIMESTEPS: 20 RMSE: 1.395 (0.034)\n"
     ]
    }
   ],
   "source": [
    "results = make_timesteps_repeated_time_series_k_fold(\n",
    "    df, train_period, test_period, params, None, repeats, timesteps_list\n",
    ")"
   ]
  },
  {
   "cell_type": "markdown",
   "metadata": {},
   "source": [
    "<h4>Experiment 3</h4>\n",
    "    \n",
    "<b>Train 2 years and 10 months and predicts october and november of 2021</b>"
   ]
  },
  {
   "cell_type": "code",
   "execution_count": 38,
   "metadata": {},
   "outputs": [],
   "source": [
    "train_period = 200 # 11 months of data since the data is spaced every 2 days (180 + 150)/2\n",
    "test_period = 30 # 2 months"
   ]
  },
  {
   "cell_type": "code",
   "execution_count": 39,
   "metadata": {},
   "outputs": [
    {
     "name": "stdout",
     "output_type": "stream",
     "text": [
      "TIMESTEPS: 1 RMSE: 2.817 (0.397)\n",
      "TIMESTEPS: 3 RMSE: 2.421 (0.253)\n",
      "TIMESTEPS: 5 RMSE: 1.244 (0.122)\n",
      "TIMESTEPS: 7 RMSE: 1.247 (0.015)\n",
      "TIMESTEPS: 10 RMSE: 1.296 (0.001)\n",
      "TIMESTEPS: 15 RMSE: 1.467 (0.062)\n",
      "TIMESTEPS: 20 RMSE: 1.609 (0.056)\n"
     ]
    }
   ],
   "source": [
    "results = make_timesteps_repeated_time_series_k_fold(\n",
    "    df, train_period, test_period, params, None, repeats, timesteps_list\n",
    ")"
   ]
  },
  {
   "cell_type": "markdown",
   "metadata": {},
   "source": [
    "<h3>1.2.2 Time Series Repeated KFold Cross Validation with vary timesteps - df_r3d_only</h3>\n",
    "\n",
    "<b>Dataset: df_r3d_only:</b> In this dataset the R3D and R7D variables are not considered.\n",
    "\n",
    "<b>Feature Selection:</b> The IP, FP and BL variables are discarded."
   ]
  },
  {
   "cell_type": "code",
   "execution_count": 40,
   "metadata": {},
   "outputs": [],
   "source": [
    "df = df_r3d_only.copy()\n",
    "columns = list(df.columns.drop(['R28D']))\n",
    "columns.append('R28D')\n",
    "df = df.reindex(columns=columns)\n",
    "df = df.drop(['Data/Hora', \"IP\", \"FP\", \"BL\"], axis=1)"
   ]
  },
  {
   "cell_type": "markdown",
   "metadata": {},
   "source": [
    "<h4>Experiment 1</h4>\n",
    "    \n",
    "<b>Train 6 months and predicts one month every year</b>"
   ]
  },
  {
   "cell_type": "code",
   "execution_count": 41,
   "metadata": {},
   "outputs": [],
   "source": [
    "train_period = 90 # 6 months of data since the data is spaced every 2 days\n",
    "test_period = 15 # 1 month"
   ]
  },
  {
   "cell_type": "code",
   "execution_count": 42,
   "metadata": {},
   "outputs": [
    {
     "name": "stdout",
     "output_type": "stream",
     "text": [
      "TIMESTEPS: 1 RMSE: 11.279 (2.873)\n",
      "TIMESTEPS: 3 RMSE: 1.642 (0.393)\n",
      "TIMESTEPS: 5 RMSE: 1.375 (0.148)\n",
      "TIMESTEPS: 7 RMSE: 1.344 (0.092)\n",
      "TIMESTEPS: 10 RMSE: 1.423 (0.202)\n",
      "TIMESTEPS: 15 RMSE: 2.337 (2.872)\n",
      "TIMESTEPS: 20 RMSE: 1.778 (0.284)\n"
     ]
    }
   ],
   "source": [
    "results = make_timesteps_repeated_time_series_k_fold(\n",
    "    df, train_period, test_period, params, None, repeats, timesteps_list\n",
    ")"
   ]
  },
  {
   "cell_type": "markdown",
   "metadata": {},
   "source": [
    "<h4>Experiment 2</h4>\n",
    "    \n",
    "<b>Train 11 months and predicts one month every year</b>"
   ]
  },
  {
   "cell_type": "code",
   "execution_count": 43,
   "metadata": {},
   "outputs": [],
   "source": [
    "train_period = 165 # 11 months of data since the data is spaced every 2 days (180 + 150)/2\n",
    "test_period = 15 # 1 month"
   ]
  },
  {
   "cell_type": "code",
   "execution_count": 44,
   "metadata": {},
   "outputs": [
    {
     "name": "stdout",
     "output_type": "stream",
     "text": [
      "TIMESTEPS: 1 RMSE: 4.274 (0.477)\n",
      "TIMESTEPS: 3 RMSE: 2.509 (0.073)\n",
      "TIMESTEPS: 5 RMSE: 2.409 (0.037)\n",
      "TIMESTEPS: 7 RMSE: 2.286 (0.045)\n",
      "TIMESTEPS: 10 RMSE: 2.231 (0.010)\n",
      "TIMESTEPS: 15 RMSE: 1.764 (0.048)\n",
      "TIMESTEPS: 20 RMSE: 1.398 (0.020)\n"
     ]
    }
   ],
   "source": [
    "results = make_timesteps_repeated_time_series_k_fold(\n",
    "    df, train_period, test_period, params, None, repeats, timesteps_list\n",
    ")"
   ]
  },
  {
   "cell_type": "markdown",
   "metadata": {},
   "source": [
    "<h4>Experiment 3</h4>\n",
    "    \n",
    "<b>Train 2 years and 10 months and predicts october and november of 2021</b>"
   ]
  },
  {
   "cell_type": "code",
   "execution_count": 45,
   "metadata": {},
   "outputs": [],
   "source": [
    "train_period = 200 # 11 months of data since the data is spaced every 2 days (180 + 150)/2\n",
    "test_period = 30 # 2 months"
   ]
  },
  {
   "cell_type": "code",
   "execution_count": 46,
   "metadata": {},
   "outputs": [
    {
     "name": "stdout",
     "output_type": "stream",
     "text": [
      "TIMESTEPS: 1 RMSE: 2.943 (0.360)\n",
      "TIMESTEPS: 3 RMSE: 2.609 (0.270)\n",
      "TIMESTEPS: 5 RMSE: 1.206 (0.031)\n",
      "TIMESTEPS: 7 RMSE: 1.243 (0.035)\n",
      "TIMESTEPS: 10 RMSE: 1.286 (0.035)\n",
      "TIMESTEPS: 15 RMSE: 1.494 (0.023)\n",
      "TIMESTEPS: 20 RMSE: 2.908 (3.778)\n"
     ]
    }
   ],
   "source": [
    "results = make_timesteps_repeated_time_series_k_fold(\n",
    "    df, train_period, test_period, params, None, repeats, timesteps_list\n",
    ")"
   ]
  },
  {
   "cell_type": "markdown",
   "metadata": {},
   "source": [
    "<h3>1.2.3 Time Series Repeated KFold Cross Validation with vary timesteps - df_r3d_only</h3>\n",
    "\n",
    "<b>Dataset: df_r3d_only:</b> In this dataset the R3D and R7D variables are not considered.\n",
    "\n",
    "<b>Feature Selection:</b>\n",
    "\n",
    "1. The IP, FP and BL variables are discarded.\n",
    "\n",
    "2. High correlated variables are removed\n"
   ]
  },
  {
   "cell_type": "code",
   "execution_count": 47,
   "metadata": {},
   "outputs": [],
   "source": [
    "to_drop = [\n",
    "    \"Data/Hora\",\n",
    "    \"IP\",\n",
    "    \"FP\",\n",
    "    \"BL\",\n",
    "    \"CALCITA\",\n",
    "    \"DESIDRATAÇÃO\",\n",
    "    \"GIPSITA\",\n",
    "    \"TIO2\",\n",
    "    \"AL2O3\",\n",
    "    \"PF\",\n",
    "    \"FERRITA\",\n",
    "]\n",
    "df = df_r3d_only.copy()\n",
    "columns = list(df.columns.drop(['R28D']))\n",
    "columns.append('R28D')\n",
    "df = df.reindex(columns=columns)\n",
    "df = df.drop(to_drop, axis=1)"
   ]
  },
  {
   "cell_type": "markdown",
   "metadata": {},
   "source": [
    "<h4>Experiment 1</h4>\n",
    "    \n",
    "<b>Train 6 months and predicts one month every year</b>"
   ]
  },
  {
   "cell_type": "code",
   "execution_count": 48,
   "metadata": {},
   "outputs": [],
   "source": [
    "train_period = 90 # 6 months of data since the data is spaced every 2 days\n",
    "test_period = 15 # 1 month"
   ]
  },
  {
   "cell_type": "code",
   "execution_count": 49,
   "metadata": {},
   "outputs": [
    {
     "name": "stdout",
     "output_type": "stream",
     "text": [
      "TIMESTEPS: 1 RMSE: 10.035 (1.924)\n",
      "TIMESTEPS: 3 RMSE: 1.668 (0.400)\n",
      "TIMESTEPS: 5 RMSE: 1.362 (0.133)\n",
      "TIMESTEPS: 7 RMSE: 1.346 (0.096)\n",
      "TIMESTEPS: 10 RMSE: 1.420 (0.200)\n",
      "TIMESTEPS: 15 RMSE: 1.670 (0.125)\n",
      "TIMESTEPS: 20 RMSE: 1.774 (0.278)\n"
     ]
    }
   ],
   "source": [
    "results = make_timesteps_repeated_time_series_k_fold(\n",
    "    df, train_period, test_period, params, None, repeats, timesteps_list\n",
    ")"
   ]
  },
  {
   "cell_type": "markdown",
   "metadata": {},
   "source": [
    "<h4>Experiment 2</h4>\n",
    "    \n",
    "<b>Train 11 months and predicts one month every year</b>"
   ]
  },
  {
   "cell_type": "code",
   "execution_count": 50,
   "metadata": {},
   "outputs": [],
   "source": [
    "train_period = 165 # 11 months of data since the data is spaced every 2 days (180 + 150)/2\n",
    "test_period = 15 # 1 month"
   ]
  },
  {
   "cell_type": "code",
   "execution_count": 51,
   "metadata": {},
   "outputs": [
    {
     "name": "stdout",
     "output_type": "stream",
     "text": [
      "TIMESTEPS: 1 RMSE: 4.459 (0.420)\n",
      "TIMESTEPS: 3 RMSE: 2.485 (0.077)\n",
      "TIMESTEPS: 5 RMSE: 2.365 (0.091)\n",
      "TIMESTEPS: 7 RMSE: 2.306 (0.022)\n",
      "TIMESTEPS: 10 RMSE: 2.229 (0.042)\n",
      "TIMESTEPS: 15 RMSE: 1.773 (0.052)\n",
      "TIMESTEPS: 20 RMSE: 1.373 (0.048)\n"
     ]
    }
   ],
   "source": [
    "results = make_timesteps_repeated_time_series_k_fold(\n",
    "    df, train_period, test_period, params, None, repeats, timesteps_list\n",
    ")"
   ]
  },
  {
   "cell_type": "markdown",
   "metadata": {},
   "source": [
    "<h4>Experiment 3</h4>\n",
    "    \n",
    "<b>Train 2 years and 10 months and predicts october and november of 2021</b>"
   ]
  },
  {
   "cell_type": "code",
   "execution_count": 52,
   "metadata": {},
   "outputs": [],
   "source": [
    "train_period = 200 # 11 months of data since the data is spaced every 2 days (180 + 150)/2\n",
    "test_period = 30 # 2 months"
   ]
  },
  {
   "cell_type": "code",
   "execution_count": 53,
   "metadata": {},
   "outputs": [
    {
     "name": "stdout",
     "output_type": "stream",
     "text": [
      "TIMESTEPS: 1 RMSE: 3.536 (0.438)\n",
      "TIMESTEPS: 3 RMSE: 2.261 (0.304)\n",
      "TIMESTEPS: 5 RMSE: 1.187 (0.008)\n",
      "TIMESTEPS: 7 RMSE: 1.231 (0.037)\n",
      "TIMESTEPS: 10 RMSE: 1.294 (0.005)\n",
      "TIMESTEPS: 15 RMSE: 1.495 (0.028)\n",
      "TIMESTEPS: 20 RMSE: 1.648 (0.012)\n"
     ]
    }
   ],
   "source": [
    "results = make_timesteps_repeated_time_series_k_fold(\n",
    "    df, train_period, test_period, params, None, repeats, timesteps_list\n",
    ")"
   ]
  },
  {
   "cell_type": "markdown",
   "metadata": {},
   "source": [
    "## 1.3 Dataset: df_r3d_and_r7d"
   ]
  },
  {
   "cell_type": "markdown",
   "metadata": {},
   "source": [
    "<h3>1.3.1 Time Series Repeated KFold Cross Validation - df_r3d_and_r7d</h3>\n",
    "\n",
    "<b>Dataset: df_r3d_and_r7d:</b> In this dataset both R3D and R7D variables are considered.\n",
    "\n",
    "<b>Feature Selection:</b> The IP and FP variables are discarded."
   ]
  },
  {
   "cell_type": "code",
   "execution_count": 54,
   "metadata": {},
   "outputs": [],
   "source": [
    "df = df_r3d_and_r7d.copy()\n",
    "columns = list(df.columns.drop(['R28D']))\n",
    "columns.append('R28D')\n",
    "df = df.reindex(columns=columns)\n",
    "df = df.drop(['Data/Hora', \"IP\", \"FP\"], axis=1)"
   ]
  },
  {
   "cell_type": "markdown",
   "metadata": {},
   "source": [
    "<h4>Experiment 1</h4>\n",
    "    \n",
    "<b>Train 6 months and predicts one month every year</b>"
   ]
  },
  {
   "cell_type": "code",
   "execution_count": 55,
   "metadata": {},
   "outputs": [],
   "source": [
    "train_period = 90 # 6 months of data since the data is spaced every 2 days\n",
    "test_period = 15 # 1 month"
   ]
  },
  {
   "cell_type": "code",
   "execution_count": 56,
   "metadata": {},
   "outputs": [
    {
     "name": "stdout",
     "output_type": "stream",
     "text": [
      "TIMESTEPS: 1 RMSE: 10.611 (3.724)\n",
      "TIMESTEPS: 3 RMSE: 1.593 (0.354)\n",
      "TIMESTEPS: 5 RMSE: 1.305 (0.144)\n",
      "TIMESTEPS: 7 RMSE: 1.399 (0.186)\n",
      "TIMESTEPS: 10 RMSE: 1.542 (0.146)\n",
      "TIMESTEPS: 15 RMSE: 1.621 (0.178)\n",
      "TIMESTEPS: 20 RMSE: 1.795 (0.262)\n"
     ]
    }
   ],
   "source": [
    "results = make_timesteps_repeated_time_series_k_fold(\n",
    "    df, train_period, test_period, params, None, repeats, timesteps_list\n",
    ")"
   ]
  },
  {
   "cell_type": "markdown",
   "metadata": {},
   "source": [
    "<h4>Experiment 2</h4>\n",
    "    \n",
    "<b>Train 11 months and predicts one month every year</b>"
   ]
  },
  {
   "cell_type": "code",
   "execution_count": 57,
   "metadata": {},
   "outputs": [],
   "source": [
    "train_period = 165 # 11 months of data since the data is spaced every 2 days (180 + 150)/2\n",
    "test_period = 15 # 1 month"
   ]
  },
  {
   "cell_type": "code",
   "execution_count": 58,
   "metadata": {},
   "outputs": [
    {
     "name": "stdout",
     "output_type": "stream",
     "text": [
      "TIMESTEPS: 1 RMSE: 4.127 (0.199)\n",
      "TIMESTEPS: 3 RMSE: 2.283 (0.112)\n",
      "TIMESTEPS: 5 RMSE: 2.326 (0.058)\n",
      "TIMESTEPS: 7 RMSE: 2.261 (0.050)\n",
      "TIMESTEPS: 10 RMSE: 2.223 (0.115)\n",
      "TIMESTEPS: 15 RMSE: 1.749 (0.045)\n",
      "TIMESTEPS: 20 RMSE: 1.219 (0.139)\n"
     ]
    }
   ],
   "source": [
    "results = make_timesteps_repeated_time_series_k_fold(\n",
    "    df, train_period, test_period, params, None, repeats, timesteps_list\n",
    ")"
   ]
  },
  {
   "cell_type": "markdown",
   "metadata": {},
   "source": [
    "<h4>Experiment 3</h4>\n",
    "    \n",
    "<b>Train 2 years and 10 months and predicts october and november of 2021</b>"
   ]
  },
  {
   "cell_type": "code",
   "execution_count": 59,
   "metadata": {},
   "outputs": [],
   "source": [
    "train_period = 200 # 11 months of data since the data is spaced every 2 days (180 + 150)/2\n",
    "test_period = 30 # 2 months"
   ]
  },
  {
   "cell_type": "code",
   "execution_count": 60,
   "metadata": {},
   "outputs": [
    {
     "name": "stdout",
     "output_type": "stream",
     "text": [
      "TIMESTEPS: 1 RMSE: 2.983 (0.375)\n",
      "TIMESTEPS: 3 RMSE: 2.077 (0.156)\n",
      "TIMESTEPS: 5 RMSE: 1.263 (0.053)\n",
      "TIMESTEPS: 7 RMSE: 1.202 (0.005)\n",
      "TIMESTEPS: 10 RMSE: 1.339 (0.071)\n",
      "TIMESTEPS: 15 RMSE: 1.507 (0.086)\n",
      "TIMESTEPS: 20 RMSE: 1.714 (0.140)\n"
     ]
    }
   ],
   "source": [
    "results = make_timesteps_repeated_time_series_k_fold(\n",
    "    df, train_period, test_period, params, None, repeats, timesteps_list\n",
    ")"
   ]
  },
  {
   "cell_type": "markdown",
   "metadata": {},
   "source": [
    "<h3>1.3.2 Time Series Repeated KFold Cross Validation - df_r3d_and_r7d</h3>\n",
    "\n",
    "<b>Dataset: df_r3d_and_r7d:</b> In this dataset both R3D and R7D variables are considered.\n",
    "\n",
    "<b>Feature Selection:</b> The IP, FP, and BL variables are discarded."
   ]
  },
  {
   "cell_type": "code",
   "execution_count": 61,
   "metadata": {},
   "outputs": [],
   "source": [
    "df = df_r3d_and_r7d.copy()\n",
    "columns = list(df.columns.drop(['R28D']))\n",
    "columns.append('R28D')\n",
    "df = df.reindex(columns=columns)\n",
    "df = df.drop(['Data/Hora', \"IP\", \"FP\", \"BL\"], axis=1)"
   ]
  },
  {
   "cell_type": "markdown",
   "metadata": {},
   "source": [
    "<h4>Experiment 1</h4>\n",
    "    \n",
    "<b>Train 6 months and predicts one month every year</b>"
   ]
  },
  {
   "cell_type": "code",
   "execution_count": 62,
   "metadata": {},
   "outputs": [],
   "source": [
    "train_period = 90 # 6 months of data since the data is spaced every 2 days\n",
    "test_period = 15 # 1 month"
   ]
  },
  {
   "cell_type": "code",
   "execution_count": 63,
   "metadata": {},
   "outputs": [
    {
     "name": "stdout",
     "output_type": "stream",
     "text": [
      "TIMESTEPS: 1 RMSE: 11.014 (2.684)\n",
      "TIMESTEPS: 3 RMSE: 1.588 (0.335)\n",
      "TIMESTEPS: 5 RMSE: 1.302 (0.132)\n",
      "TIMESTEPS: 7 RMSE: 2.470 (5.738)\n",
      "TIMESTEPS: 10 RMSE: 2.513 (4.155)\n",
      "TIMESTEPS: 15 RMSE: 1.616 (0.174)\n",
      "TIMESTEPS: 20 RMSE: 1.795 (0.262)\n"
     ]
    }
   ],
   "source": [
    "results = make_timesteps_repeated_time_series_k_fold(\n",
    "    df, train_period, test_period, params, None, repeats, timesteps_list\n",
    ")"
   ]
  },
  {
   "cell_type": "markdown",
   "metadata": {},
   "source": [
    "<h4>Experiment 2</h4>\n",
    "    \n",
    "<b>Train 11 months and predicts one month every year</b>"
   ]
  },
  {
   "cell_type": "code",
   "execution_count": 64,
   "metadata": {},
   "outputs": [],
   "source": [
    "train_period = 165 # 11 months of data since the data is spaced every 2 days (180 + 150)/2\n",
    "test_period = 15 # 1 month"
   ]
  },
  {
   "cell_type": "code",
   "execution_count": 65,
   "metadata": {},
   "outputs": [
    {
     "name": "stdout",
     "output_type": "stream",
     "text": [
      "TIMESTEPS: 1 RMSE: 4.622 (0.333)\n",
      "TIMESTEPS: 3 RMSE: 2.260 (0.096)\n",
      "TIMESTEPS: 5 RMSE: 2.355 (0.035)\n",
      "TIMESTEPS: 7 RMSE: 2.240 (0.013)\n",
      "TIMESTEPS: 10 RMSE: 2.220 (0.022)\n",
      "TIMESTEPS: 15 RMSE: 1.767 (0.036)\n",
      "TIMESTEPS: 20 RMSE: 1.269 (0.115)\n"
     ]
    }
   ],
   "source": [
    "results = make_timesteps_repeated_time_series_k_fold(\n",
    "    df, train_period, test_period, params, None, repeats, timesteps_list\n",
    ")"
   ]
  },
  {
   "cell_type": "markdown",
   "metadata": {},
   "source": [
    "<h4>Experiment 3</h4>\n",
    "    \n",
    "<b>Train 2 years and 10 months and predicts october and november of 2021</b>"
   ]
  },
  {
   "cell_type": "code",
   "execution_count": 66,
   "metadata": {},
   "outputs": [],
   "source": [
    "train_period = 200 # 11 months of data since the data is spaced every 2 days (180 + 150)/2\n",
    "test_period = 30 # 2 months"
   ]
  },
  {
   "cell_type": "code",
   "execution_count": 67,
   "metadata": {},
   "outputs": [
    {
     "name": "stdout",
     "output_type": "stream",
     "text": [
      "TIMESTEPS: 1 RMSE: 3.047 (0.358)\n",
      "TIMESTEPS: 3 RMSE: 2.009 (0.209)\n",
      "TIMESTEPS: 5 RMSE: 1.287 (0.057)\n",
      "TIMESTEPS: 7 RMSE: 2.264 (3.229)\n",
      "TIMESTEPS: 10 RMSE: 1.355 (0.005)\n",
      "TIMESTEPS: 15 RMSE: 1.539 (0.006)\n",
      "TIMESTEPS: 20 RMSE: 1.799 (0.023)\n"
     ]
    }
   ],
   "source": [
    "results = make_timesteps_repeated_time_series_k_fold(\n",
    "    df, train_period, test_period, params, None, repeats, timesteps_list\n",
    ")"
   ]
  },
  {
   "cell_type": "markdown",
   "metadata": {},
   "source": [
    "<h3>1.3.3 Time Series Repeated KFold Cross Validation - df_r3d_and_r7d</h3>\n",
    "\n",
    "<b>Dataset: df_r3d_and_r7d:</b> In this dataset both R3D and R7D variables are considered.\n",
    "\n",
    "<b>Feature Selection:</b>\n",
    "    1. The IP, FP and BL variables are discarded.\n",
    "    2. High correlated variables are removed\n"
   ]
  },
  {
   "cell_type": "code",
   "execution_count": 68,
   "metadata": {},
   "outputs": [],
   "source": [
    "to_drop = [\n",
    "    \"Data/Hora\",\n",
    "    \"IP\",\n",
    "    \"FP\",\n",
    "    \"BL\",\n",
    "    \"CALCITA\",\n",
    "    \"DESIDRATAÇÃO\",\n",
    "    \"GIPSITA\",\n",
    "    \"TIO2\",\n",
    "    \"AL2O3\",\n",
    "    \"PF\",\n",
    "    \"FERRITA\",\n",
    "]\n",
    "\n",
    "df = df_r3d_and_r7d.copy()\n",
    "columns = list(df.columns.drop(['R28D']))\n",
    "columns.append('R28D')\n",
    "df = df.reindex(columns=columns)\n",
    "df = df.drop(to_drop, axis=1)"
   ]
  },
  {
   "cell_type": "markdown",
   "metadata": {},
   "source": [
    "<h4>Experiment 1</h4>\n",
    "    \n",
    "<b>Train 6 months and predicts one month every year</b>"
   ]
  },
  {
   "cell_type": "code",
   "execution_count": 69,
   "metadata": {},
   "outputs": [],
   "source": [
    "train_period = 90 # 6 months of data since the data is spaced every 2 days\n",
    "test_period = 15 # 1 month"
   ]
  },
  {
   "cell_type": "code",
   "execution_count": 70,
   "metadata": {},
   "outputs": [
    {
     "name": "stdout",
     "output_type": "stream",
     "text": [
      "TIMESTEPS: 1 RMSE: 10.375 (1.655)\n",
      "TIMESTEPS: 3 RMSE: 1.542 (0.303)\n",
      "TIMESTEPS: 5 RMSE: 1.750 (2.498)\n",
      "TIMESTEPS: 7 RMSE: 3.847 (9.112)\n",
      "TIMESTEPS: 10 RMSE: 3.256 (5.312)\n",
      "TIMESTEPS: 15 RMSE: 2.619 (4.315)\n",
      "TIMESTEPS: 20 RMSE: 4.965 (10.777)\n"
     ]
    }
   ],
   "source": [
    "results = make_timesteps_repeated_time_series_k_fold(\n",
    "    df, train_period, test_period, params, None, repeats, timesteps_list\n",
    ")"
   ]
  },
  {
   "cell_type": "markdown",
   "metadata": {},
   "source": [
    "<h4>Experiment 2</h4>\n",
    "    \n",
    "<b>Train 11 months and predicts one month every year</b>"
   ]
  },
  {
   "cell_type": "code",
   "execution_count": 71,
   "metadata": {},
   "outputs": [],
   "source": [
    "train_period = 165 # 11 months of data since the data is spaced every 2 days (180 + 150)/2\n",
    "test_period = 15 # 1 month"
   ]
  },
  {
   "cell_type": "code",
   "execution_count": 72,
   "metadata": {},
   "outputs": [
    {
     "name": "stdout",
     "output_type": "stream",
     "text": [
      "TIMESTEPS: 1 RMSE: 4.615 (0.386)\n",
      "TIMESTEPS: 3 RMSE: 2.328 (0.108)\n",
      "TIMESTEPS: 5 RMSE: 2.310 (0.059)\n",
      "TIMESTEPS: 7 RMSE: 2.251 (0.044)\n",
      "TIMESTEPS: 10 RMSE: 2.181 (0.119)\n",
      "TIMESTEPS: 15 RMSE: 1.752 (0.067)\n",
      "TIMESTEPS: 20 RMSE: 1.254 (0.067)\n"
     ]
    }
   ],
   "source": [
    "results = make_timesteps_repeated_time_series_k_fold(\n",
    "    df, train_period, test_period, params, None, repeats, timesteps_list\n",
    ")"
   ]
  },
  {
   "cell_type": "markdown",
   "metadata": {},
   "source": [
    "<h4>Experiment 3</h4>\n",
    "    \n",
    "<b>Train 2 years and 10 months and predicts october and november of 2021</b>"
   ]
  },
  {
   "cell_type": "code",
   "execution_count": 73,
   "metadata": {},
   "outputs": [],
   "source": [
    "O que antes era algo com que eu sonhava tanto, idealizava - tocar, ganhar dinheiro com música, ter um trabalho artísticotrain_period = 200 # 11 months of data since the data is spaced every 2 days (180 + 150)/2\n",
    "test_period = 30 # 2 months"
   ]
  },
  {
   "cell_type": "code",
   "execution_count": 74,
   "metadata": {},
   "outputs": [
    {
     "name": "stdout",
     "output_type": "stream",
     "text": [
      "TIMESTEPS: 1 RMSE: 3.168 (0.402)\n",
      "TIMESTEPS: 3 RMSE: 2.143 (0.283)\n",
      "TIMESTEPS: 5 RMSE: 1.258 (0.008)\n",
      "TIMESTEPS: 7 RMSE: 1.197 (0.007)\n",
      "TIMESTEPS: 10 RMSE: 1.353 (0.044)\n",
      "TIMESTEPS: 15 RMSE: 1.513 (0.082)\n",
      "TIMESTEPS: 20 RMSE: 1.795 (0.022)\n"
     ]
    }
   ],
   "source": [
    "results = make_timesteps_repeated_time_series_k_fold(\n",
    "    df, train_period, test_period, params, None, repeats, timesteps_list\n",
    ")"
   ]
  },
  {
   "cell_type": "code",
   "execution_count": null,
   "metadata": {},
   "outputs": [],
   "source": []
  }
 ],
 "metadata": {
  "kernelspec": {
   "display_name": "ccs28-venv",
   "language": "python",
   "name": "ccs28-venv"
  },
  "language_info": {
   "codemirror_mode": {
    "name": "ipython",
    "version": 3
   },
   "file_extension": ".py",
   "mimetype": "text/x-python",
   "name": "python",
   "nbconvert_exporter": "python",
   "pygments_lexer": "ipython3",
   "version": "3.8.10"
  }
 },
 "nbformat": 4,
 "nbformat_minor": 4
}
