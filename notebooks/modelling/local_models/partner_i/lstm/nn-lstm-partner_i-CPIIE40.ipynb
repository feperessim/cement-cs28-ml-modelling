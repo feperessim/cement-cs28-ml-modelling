{
 "cells": [
  {
   "cell_type": "code",
   "execution_count": 1,
   "metadata": {},
   "outputs": [],
   "source": [
    "import pandas as pd\n",
    "import numpy as np\n",
    "import tensorflow as tf\n",
    "import matplotlib.pyplot as plt\n",
    "import tensorflow as tf\n",
    "import time\n",
    "import os \n",
    "\n",
    "from sklearn.model_selection import TimeSeriesSplit\n",
    "from sklearn.preprocessing import StandardScaler\n",
    "from sklearn.pipeline import Pipeline\n",
    "from sklearn.model_selection import GridSearchCV\n",
    "from keras.wrappers.scikit_learn import KerasRegressor\n",
    "\n",
    "from src.utils.time_series_procs import split_sequences"
   ]
  },
  {
   "cell_type": "code",
   "execution_count": 2,
   "metadata": {},
   "outputs": [],
   "source": [
    "def plot_time_series_train_and_prediction_windows(df, model, cut_date):\n",
    "    index = df['Data/Hora'].shape[0] - df[df['Data/Hora'] == cut_date].index[0] \n",
    "    index = -index\n",
    "    y = df['R28D'].values\n",
    "    d = df['Data/Hora'].values\n",
    "    test_series = pd.DataFrame({'ccs28':y}, index=pd.to_datetime(d))\n",
    "    pred_series = model.predict(x_test)\n",
    "    diff = pred_series.shape[0] + index\n",
    "    pred_series = pd.DataFrame({'ccs28-pred' : pred_series.squeeze()}, index=pd.to_datetime(d[index-diff:]))\n",
    "\n",
    "    fig, ax = plt.subplots(1, 1, sharex=True, sharey=True, figsize=(15, 7))\n",
    "\n",
    "    test_series.plot(ax=ax)\n",
    "    ax.axvline(test_series.index[index], color='r') # end of train dataset\n",
    "    pred_series[index:].plot(ax=ax)\n",
    "    ax.grid(which=\"both\")\n",
    "    ax.legend([\"train and test series\", \"end of train series\", 'predicted'], loc=\"upper left\")\n",
    "    # ax.set_xlabel('Period', labelpad=20, fontsize=15)\n",
    "    ax.set_ylabel('Compressive Strength - MPa', labelpad=20, fontsize=15)\n",
    "    plt.show()"
   ]
  },
  {
   "cell_type": "code",
   "execution_count": 3,
   "metadata": {},
   "outputs": [],
   "source": [
    "def get_times_series_data(df, cut_date, time_steps=3):\n",
    "    columns = list(df.columns.drop(['R28D']))\n",
    "    columns.append('R28D')\n",
    "    df = df.reindex(columns=columns)\n",
    "    df['Data/Hora'] = pd.to_datetime(df['Data/Hora'])\n",
    "    df_train = df[df['Data/Hora'] < cut_date]\n",
    "    df_test = df[df['Data/Hora'] >= cut_date]\n",
    "    df_train = df_train.drop(['Data/Hora'], axis=1)\n",
    "    df_test = df_test.drop(['Data/Hora'], axis=1)\n",
    "    x_train, y_train = split_sequences(df_train.values, time_steps)\n",
    "    x_test, y_test = split_sequences(df_test.values, time_steps)\n",
    "    return x_train, y_train, x_test, y_test"
   ]
  },
  {
   "cell_type": "code",
   "execution_count": 4,
   "metadata": {},
   "outputs": [],
   "source": [
    "# https://stackoverflow.com/questions/53938687/make-pipeline-with-standardscalar-and-kerasregressors\n",
    "\n",
    "class StandardScaler3DShape():\n",
    "    def __init__(self):\n",
    "        self.scaler = StandardScaler()\n",
    "    def fit_transform(self,X, y=None):\n",
    "        X_new = self.scaler.fit_transform(X.reshape(-1, X.shape[-1])).reshape(X.shape)\n",
    "        return X_new\n",
    "        \n",
    "    def fit(self,X, y=None):\n",
    "        X_new = X.reshape(-1, X.shape[-1])\n",
    "        self.scaler.fit(X_new)\n",
    "        return self\n",
    "    \n",
    "    def transform(self,X,y=None):\n",
    "        X_new = self.scaler.transform(X.reshape(-1, X.shape[-1])).reshape(X.shape)\n",
    "        return X_new"
   ]
  },
  {
   "cell_type": "markdown",
   "metadata": {},
   "source": [
    "<h3>Force tensorflow use CPU only</h3>"
   ]
  },
  {
   "cell_type": "code",
   "execution_count": 5,
   "metadata": {},
   "outputs": [],
   "source": [
    "os.environ['CUDA_VISIBLE_DEVICES'] = '-1'"
   ]
  },
  {
   "cell_type": "markdown",
   "metadata": {},
   "source": [
    "<h3>Disable Tensorflow Warnings</h3>"
   ]
  },
  {
   "cell_type": "code",
   "execution_count": 6,
   "metadata": {},
   "outputs": [],
   "source": [
    "# Disable warnings\n",
    "# https://stackoverflow.com/questions/35911252/disable-tensorflow-debugging-information\n",
    "os.environ['TF_CPP_MIN_LOG_LEVEL'] = '3' "
   ]
  },
  {
   "cell_type": "code",
   "execution_count": 7,
   "metadata": {},
   "outputs": [],
   "source": [
    "name = \"dados-historicos-partner_i-cement-CPIIE40.csv\"\n",
    "df_r3d_and_r7d = pd.read_csv(\"../../data/interim/\" + \"r3d-and-r7d-\" + name)\n",
    "df_r3d_only = pd.read_csv(\"../../data/interim/\" + \"r3d-only-\" + name)\n",
    "df_no_r3d_r7d = pd.read_csv(\"../../data/interim/\" + \"no-r3d-r7d-\" + name)"
   ]
  },
  {
   "cell_type": "code",
   "execution_count": 8,
   "metadata": {},
   "outputs": [],
   "source": [
    "seed = 47\n",
    "scaler = StandardScaler()"
   ]
  },
  {
   "cell_type": "code",
   "execution_count": 9,
   "metadata": {},
   "outputs": [],
   "source": [
    "cut_date = '2021-05-02'\n",
    "TIME_STEPS = 3\n",
    "time_steps_list = [1, 3, 5, 7, 10, 15, 20]"
   ]
  },
  {
   "cell_type": "markdown",
   "metadata": {},
   "source": [
    "# Neural Network Long Short Term Memory - LSTM"
   ]
  },
  {
   "cell_type": "markdown",
   "metadata": {},
   "source": [
    "# Baseline models\n",
    "\n",
    "First we will train a baseline model and verify its overall performance on each of the three datasets."
   ]
  },
  {
   "cell_type": "markdown",
   "metadata": {},
   "source": [
    "# Configs:\n",
    "\n",
    "1. Train Period: [01-01-2019, 2021-05-02)\n",
    "\n",
    "2. Test Period:  (2021-05-02, 2021-11-31]\n",
    "\n",
    "3. TIMESTEPS: [1, 3, 5, 7, 10, 15, 20]\n",
    "\n",
    "4. Epochs: 100\n",
    "\n",
    "5. Batch size: 32\n",
    "\n",
    "6. LSTM Cells: 64\n",
    "\n",
    "7. LSTM Layers: 1\n",
    "\n",
    "8. Optimization Algorithm: Adam\n",
    "    \n",
    "    8.1. Learning Rate: 1e-2"
   ]
  },
  {
   "cell_type": "code",
   "execution_count": 10,
   "metadata": {},
   "outputs": [],
   "source": [
    "def get_baseline_model(n_units=64, learning_rate=0.01):\n",
    "    model = tf.keras.Sequential()\n",
    "    \n",
    "    model.add(tf.keras.layers.LSTM(units=n_units))\n",
    "    model.add(tf.keras.layers.Dense(1))\n",
    "\n",
    "    opt = tf.keras.optimizers.Adam(learning_rate=learning_rate)\n",
    "    model.compile(optimizer=opt, loss='mse', metrics=[tf.keras.metrics.RootMeanSquaredError(name=\"RMSE\")])\n",
    "    return model"
   ]
  },
  {
   "cell_type": "markdown",
   "metadata": {},
   "source": [
    "<h3> Baseline model - Dataset: df_no_r3d_r7d</h3>"
   ]
  },
  {
   "cell_type": "markdown",
   "metadata": {},
   "source": [
    "<h4>TIMESTEPS=3</h4>"
   ]
  },
  {
   "cell_type": "code",
   "execution_count": 11,
   "metadata": {},
   "outputs": [],
   "source": [
    "df = df_no_r3d_r7d.copy()\n",
    "x_train, y_train, x_test, y_test = get_times_series_data(df, cut_date, time_steps=3)\n",
    "x_train = scaler.fit_transform(x_train.reshape(-1, x_train.shape[-1])).reshape(x_train.shape)\n",
    "x_test = scaler.transform(x_test.reshape(-1, x_test.shape[-1])).reshape(x_test.shape)"
   ]
  },
  {
   "cell_type": "code",
   "execution_count": 12,
   "metadata": {},
   "outputs": [
    {
     "name": "stdout",
     "output_type": "stream",
     "text": [
      "RMSE: 3.871\n"
     ]
    }
   ],
   "source": [
    "model = get_baseline_model()\n",
    "model.fit(x_train, y_train, epochs=100, batch_size=32, verbose=0)\n",
    "rmse = model.evaluate(x_test, y_test, verbose=0)\n",
    "print('RMSE: %.3f' % rmse[1])"
   ]
  },
  {
   "cell_type": "code",
   "execution_count": 13,
   "metadata": {},
   "outputs": [
    {
     "data": {
      "image/png": "[encoded data removed]",
      "text/plain": [
       "<Figure size 1080x504 with 1 Axes>"
      ]
     },
     "metadata": {
      "needs_background": "light"
     },
     "output_type": "display_data"
    }
   ],
   "source": [
    "plot_time_series_train_and_prediction_windows(df, model, cut_date)"
   ]
  },
  {
   "cell_type": "markdown",
   "metadata": {},
   "source": [
    "<h3>Different number of timesteps</h3>"
   ]
  },
  {
   "cell_type": "code",
   "execution_count": 14,
   "metadata": {
    "scrolled": true
   },
   "outputs": [
    {
     "name": "stdout",
     "output_type": "stream",
     "text": [
      "TIMESTEPS: 1, RMSE: 3.419\n",
      "TIMESTEPS: 3, RMSE: 5.441\n",
      "TIMESTEPS: 5, RMSE: 4.555\n",
      "TIMESTEPS: 7, RMSE: 2.021\n",
      "WARNING:tensorflow:5 out of the last 14 calls to <function Model.make_test_function.<locals>.test_function at 0x7fd70818c1f0> triggered tf.function retracing. Tracing is expensive and the excessive number of tracings could be due to (1) creating @tf.function repeatedly in a loop, (2) passing tensors with different shapes, (3) passing Python objects instead of tensors. For (1), please define your @tf.function outside of the loop. For (2), @tf.function has experimental_relax_shapes=True option that relaxes argument shapes that can avoid unnecessary retracing. For (3), please refer to https://www.tensorflow.org/guide/function#controlling_retracing and https://www.tensorflow.org/api_docs/python/tf/function for  more details.\n",
      "TIMESTEPS: 10, RMSE: 1.555\n",
      "WARNING:tensorflow:5 out of the last 13 calls to <function Model.make_test_function.<locals>.test_function at 0x7fd70818c4c0> triggered tf.function retracing. Tracing is expensive and the excessive number of tracings could be due to (1) creating @tf.function repeatedly in a loop, (2) passing tensors with different shapes, (3) passing Python objects instead of tensors. For (1), please define your @tf.function outside of the loop. For (2), @tf.function has experimental_relax_shapes=True option that relaxes argument shapes that can avoid unnecessary retracing. For (3), please refer to https://www.tensorflow.org/guide/function#controlling_retracing and https://www.tensorflow.org/api_docs/python/tf/function for  more details.\n",
      "TIMESTEPS: 15, RMSE: 1.517\n",
      "TIMESTEPS: 20, RMSE: 1.395\n"
     ]
    }
   ],
   "source": [
    "df = df_no_r3d_r7d.copy()\n",
    "\n",
    "for time_steps in time_steps_list:\n",
    "    x_train, y_train, x_test, y_test = get_times_series_data(df, cut_date, time_steps=time_steps)\n",
    "    x_train = scaler.fit_transform(x_train.reshape(-1, x_train.shape[-1])).reshape(x_train.shape)\n",
    "    x_test = scaler.transform(x_test.reshape(-1, x_test.shape[-1])).reshape(x_test.shape)\n",
    "\n",
    "    model = get_baseline_model()\n",
    "    model.fit(x_train, y_train, epochs=100, batch_size=32, verbose=0)\n",
    "    rmse = model.evaluate(x_test, y_test, verbose=0)\n",
    "    print('TIMESTEPS: %d, RMSE: %.3f' % (time_steps, rmse[1]))"
   ]
  },
  {
   "cell_type": "markdown",
   "metadata": {},
   "source": [
    "<h3> Baseline model - Dataset: df_r3d_only</h3>"
   ]
  },
  {
   "cell_type": "code",
   "execution_count": 15,
   "metadata": {},
   "outputs": [],
   "source": [
    "df = df_r3d_only.copy()\n",
    "x_train, y_train, x_test, y_test = get_times_series_data(df, cut_date)\n",
    "x_train = scaler.fit_transform(x_train.reshape(-1, x_train.shape[-1])).reshape(x_train.shape)\n",
    "x_test = scaler.transform(x_test.reshape(-1, x_test.shape[-1])).reshape(x_test.shape)"
   ]
  },
  {
   "cell_type": "code",
   "execution_count": 16,
   "metadata": {},
   "outputs": [
    {
     "name": "stdout",
     "output_type": "stream",
     "text": [
      "RMSE: 4.679\n"
     ]
    }
   ],
   "source": [
    "model = get_baseline_model()\n",
    "model.fit(x_train, y_train, epochs=100, batch_size=32, verbose=0)\n",
    "rmse = model.evaluate(x_test, y_test, verbose=0)\n",
    "print('RMSE: %.3f' % rmse[1])"
   ]
  },
  {
   "cell_type": "code",
   "execution_count": 17,
   "metadata": {},
   "outputs": [
    {
     "data": {
      "image/png": "[encoded data removed]",
      "text/plain": [
       "<Figure size 1080x504 with 1 Axes>"
      ]
     },
     "metadata": {
      "needs_background": "light"
     },
     "output_type": "display_data"
    }
   ],
   "source": [
    "plot_time_series_train_and_prediction_windows(df, model, cut_date)"
   ]
  },
  {
   "cell_type": "markdown",
   "metadata": {},
   "source": [
    "<h3>Different number of timesteps</h3>"
   ]
  },
  {
   "cell_type": "code",
   "execution_count": 18,
   "metadata": {},
   "outputs": [
    {
     "name": "stdout",
     "output_type": "stream",
     "text": [
      "TIMESTEPS: 1, RMSE: 3.790\n",
      "TIMESTEPS: 3, RMSE: 3.696\n",
      "TIMESTEPS: 5, RMSE: 2.452\n",
      "TIMESTEPS: 7, RMSE: 2.654\n",
      "TIMESTEPS: 10, RMSE: 1.498\n",
      "TIMESTEPS: 15, RMSE: 1.390\n",
      "TIMESTEPS: 20, RMSE: 1.511\n"
     ]
    }
   ],
   "source": [
    "df = df_r3d_only.copy()\n",
    "\n",
    "for time_steps in time_steps_list:\n",
    "    x_train, y_train, x_test, y_test = get_times_series_data(df, cut_date, time_steps=time_steps)\n",
    "    x_train = scaler.fit_transform(x_train.reshape(-1, x_train.shape[-1])).reshape(x_train.shape)\n",
    "    x_test = scaler.transform(x_test.reshape(-1, x_test.shape[-1])).reshape(x_test.shape)\n",
    "\n",
    "    model = get_baseline_model()\n",
    "    model.fit(x_train, y_train, epochs=100, batch_size=32, verbose=0)\n",
    "    rmse = model.evaluate(x_test, y_test, verbose=0)\n",
    "    print('TIMESTEPS: %d, RMSE: %.3f' % (time_steps, rmse[1]))"
   ]
  },
  {
   "cell_type": "markdown",
   "metadata": {},
   "source": [
    "<h3> Baseline model - Dataset: df_r3d_and_r7d</h3>"
   ]
  },
  {
   "cell_type": "code",
   "execution_count": 19,
   "metadata": {},
   "outputs": [],
   "source": [
    "df = df_r3d_and_r7d.copy()\n",
    "x_train, y_train, x_test, y_test = get_times_series_data(df, '2021-05-02')\n",
    "x_train = scaler.fit_transform(x_train.reshape(-1, x_train.shape[-1])).reshape(x_train.shape)\n",
    "x_test = scaler.transform(x_test.reshape(-1, x_test.shape[-1])).reshape(x_test.shape)"
   ]
  },
  {
   "cell_type": "code",
   "execution_count": 20,
   "metadata": {},
   "outputs": [
    {
     "name": "stdout",
     "output_type": "stream",
     "text": [
      "RMSE: 3.468\n"
     ]
    }
   ],
   "source": [
    "model = get_baseline_model()\n",
    "model.fit(x_train, y_train, epochs=50, batch_size=32, verbose=0)\n",
    "rmse = model.evaluate(x_test, y_test, verbose=0)\n",
    "print('RMSE: %.3f' % rmse[1])"
   ]
  },
  {
   "cell_type": "code",
   "execution_count": 21,
   "metadata": {},
   "outputs": [
    {
     "data": {
      "image/png": "[encoded data removed]",
      "text/plain": [
       "<Figure size 1080x504 with 1 Axes>"
      ]
     },
     "metadata": {
      "needs_background": "light"
     },
     "output_type": "display_data"
    }
   ],
   "source": [
    "plot_time_series_train_and_prediction_windows(df, model, cut_date)"
   ]
  },
  {
   "cell_type": "markdown",
   "metadata": {},
   "source": [
    "<h3>Different number of timesteps</h3>"
   ]
  },
  {
   "cell_type": "code",
   "execution_count": 22,
   "metadata": {},
   "outputs": [
    {
     "name": "stdout",
     "output_type": "stream",
     "text": [
      "TIMESTEPS: 1, RMSE: 4.360\n",
      "TIMESTEPS: 3, RMSE: 2.863\n",
      "TIMESTEPS: 5, RMSE: 2.461\n",
      "TIMESTEPS: 7, RMSE: 1.809\n",
      "TIMESTEPS: 10, RMSE: 1.851\n",
      "TIMESTEPS: 15, RMSE: 2.649\n",
      "TIMESTEPS: 20, RMSE: 1.382\n"
     ]
    }
   ],
   "source": [
    "df = df_no_r3d_r7d.copy()\n",
    "\n",
    "for time_steps in time_steps_list:\n",
    "    x_train, y_train, x_test, y_test = get_times_series_data(df, cut_date, time_steps=time_steps)\n",
    "    x_train = scaler.fit_transform(x_train.reshape(-1, x_train.shape[-1])).reshape(x_train.shape)\n",
    "    x_test = scaler.transform(x_test.reshape(-1, x_test.shape[-1])).reshape(x_test.shape)\n",
    "\n",
    "    model = get_baseline_model()\n",
    "    model.fit(x_train, y_train, epochs=100, batch_size=32, verbose=0)\n",
    "    rmse = model.evaluate(x_test, y_test, verbose=0)\n",
    "    print('TIMESTEPS: %d, RMSE: %.3f' % (time_steps, rmse[1]))"
   ]
  },
  {
   "cell_type": "markdown",
   "metadata": {},
   "source": [
    "# Grid Search CV\n",
    "\n",
    "Before doing Repeated Cross Validation, we shall search for the best parameters. To do so, Keras Tuner will be used\n",
    "to accomplish the Grid Search."
   ]
  },
  {
   "cell_type": "markdown",
   "metadata": {},
   "source": [
    "<h3>GridCV - Scikit Learn</h3>"
   ]
  },
  {
   "cell_type": "code",
   "execution_count": 23,
   "metadata": {},
   "outputs": [],
   "source": [
    "def create_keras_model(activation='tanh', dropout_rate=0.0, n_units=64, n_layers=1, learning_rate=1e-3):\n",
    "    model = tf.keras.Sequential()\n",
    "    \n",
    "    for i in range(n_layers):\n",
    "        if i + 1 < n_layers:\n",
    "            model.add(tf.keras.layers.LSTM(units=n_units, activation=activation, return_sequences=True))\n",
    "        else:\n",
    "            model.add(tf.keras.layers.LSTM(units=n_units, activation=activation, return_sequences=False))\n",
    "    if  dropout_rate > 0.0:\n",
    "        model.add(tf.keras.layers.Dropout(dropout_rate))\n",
    "    model.add(tf.keras.layers.Dense(1))\n",
    "    model.compile(optimizer=tf.keras.optimizers.Adam(learning_rate=learning_rate),\n",
    "                  loss=\"mse\",\n",
    "                  metrics=[tf.keras.metrics.RootMeanSquaredError(name=\"RMSE\")])\n",
    "    return model"
   ]
  },
  {
   "cell_type": "code",
   "execution_count": 24,
   "metadata": {},
   "outputs": [],
   "source": [
    "def make_grid_search(x, y):\n",
    "    activation = ['tanh', 'relu', 'swish']\n",
    "    dropout_rate = [0.0, 0.1]\n",
    "    n_units = [32, 64]\n",
    "    n_layers = [1, 2, 3]\n",
    "    learning_rate = [0.001, 0.01, 0.1]\n",
    "    epochs = [100]\n",
    "    batches = [32]\n",
    "\n",
    "    param_grid = dict(model__activation=activation,\n",
    "                      model__dropout_rate=dropout_rate, \n",
    "                      model__n_units=n_units,\n",
    "                      model__n_layers=n_layers, \n",
    "                      model__learning_rate=learning_rate,\n",
    "                      model__epochs=epochs,\n",
    "                      model__batch_size=batches)\n",
    "\n",
    "    model = KerasRegressor(build_fn=create_keras_model, epochs=30, batch_size=32, verbose=0)\n",
    "    pipeline = Pipeline(steps=[('transformer', StandardScaler3DShape()), ('model', model)])\n",
    "\n",
    "    grid = GridSearchCV(estimator=pipeline, \n",
    "                        param_grid=param_grid,\n",
    "                        n_jobs=-1,\n",
    "                        cv=3, \n",
    "                        scoring='neg_root_mean_squared_error')\n",
    "    \n",
    "    grid_result = grid.fit(x, y)\n",
    "\n",
    "    print(\"Best: %f using %s\\n\" % (grid_result.best_score_, grid_result.best_params_))\n",
    "    means = grid_result.cv_results_['mean_test_score']\n",
    "    stds = grid_result.cv_results_['std_test_score']\n",
    "    params = grid_result.cv_results_['params']\n",
    "    for mean, stdev, param in zip(means, stds, params):\n",
    "        print(\"%f (%f) with: %r\" % (mean, stdev, param))\n",
    "    return grid"
   ]
  },
  {
   "cell_type": "markdown",
   "metadata": {},
   "source": [
    "<h3>GridCV 1</h3>\n",
    "\n",
    "<b>Dataset: df_no_r3d_r7d:</b> In this dataset the R3D and R7D variables are not considered."
   ]
  },
  {
   "cell_type": "code",
   "execution_count": 25,
   "metadata": {},
   "outputs": [
    {
     "name": "stderr",
     "output_type": "stream",
     "text": [
      "/tmp/ipykernel_715779/3700414713.py:18: DeprecationWarning: KerasRegressor is deprecated, use Sci-Keras (https://github.com/adriangb/scikeras) instead.\n",
      "  model = KerasRegressor(build_fn=create_keras_model, epochs=30, batch_size=32, verbose=0)\n"
     ]
    },
    {
     "name": "stdout",
     "output_type": "stream",
     "text": [
      "Best: -1.735369 using {'model__activation': 'tanh', 'model__batch_size': 32, 'model__dropout_rate': 0.0, 'model__epochs': 100, 'model__learning_rate': 0.01, 'model__n_layers': 3, 'model__n_units': 32}\n",
      "\n",
      "-13.172469 (0.472563) with: {'model__activation': 'tanh', 'model__batch_size': 32, 'model__dropout_rate': 0.0, 'model__epochs': 100, 'model__learning_rate': 0.001, 'model__n_layers': 1, 'model__n_units': 32}\n",
      "-5.079896 (3.142578) with: {'model__activation': 'tanh', 'model__batch_size': 32, 'model__dropout_rate': 0.0, 'model__epochs': 100, 'model__learning_rate': 0.001, 'model__n_layers': 1, 'model__n_units': 64}\n",
      "-14.148718 (1.105009) with: {'model__activation': 'tanh', 'model__batch_size': 32, 'model__dropout_rate': 0.0, 'model__epochs': 100, 'model__learning_rate': 0.001, 'model__n_layers': 2, 'model__n_units': 32}\n",
      "-3.839396 (2.910711) with: {'model__activation': 'tanh', 'model__batch_size': 32, 'model__dropout_rate': 0.0, 'model__epochs': 100, 'model__learning_rate': 0.001, 'model__n_layers': 2, 'model__n_units': 64}\n",
      "-14.310673 (2.128951) with: {'model__activation': 'tanh', 'model__batch_size': 32, 'model__dropout_rate': 0.0, 'model__epochs': 100, 'model__learning_rate': 0.001, 'model__n_layers': 3, 'model__n_units': 32}\n",
      "-2.355509 (0.794433) with: {'model__activation': 'tanh', 'model__batch_size': 32, 'model__dropout_rate': 0.0, 'model__epochs': 100, 'model__learning_rate': 0.001, 'model__n_layers': 3, 'model__n_units': 64}\n",
      "-10.949868 (8.666154) with: {'model__activation': 'tanh', 'model__batch_size': 32, 'model__dropout_rate': 0.0, 'model__epochs': 100, 'model__learning_rate': 0.01, 'model__n_layers': 1, 'model__n_units': 32}\n",
      "-7.517135 (6.816551) with: {'model__activation': 'tanh', 'model__batch_size': 32, 'model__dropout_rate': 0.0, 'model__epochs': 100, 'model__learning_rate': 0.01, 'model__n_layers': 1, 'model__n_units': 64}\n",
      "-7.048351 (3.747389) with: {'model__activation': 'tanh', 'model__batch_size': 32, 'model__dropout_rate': 0.0, 'model__epochs': 100, 'model__learning_rate': 0.01, 'model__n_layers': 2, 'model__n_units': 32}\n",
      "-1.920139 (0.352773) with: {'model__activation': 'tanh', 'model__batch_size': 32, 'model__dropout_rate': 0.0, 'model__epochs': 100, 'model__learning_rate': 0.01, 'model__n_layers': 2, 'model__n_units': 64}\n",
      "-1.735369 (0.192670) with: {'model__activation': 'tanh', 'model__batch_size': 32, 'model__dropout_rate': 0.0, 'model__epochs': 100, 'model__learning_rate': 0.01, 'model__n_layers': 3, 'model__n_units': 32}\n",
      "-3.672282 (2.858525) with: {'model__activation': 'tanh', 'model__batch_size': 32, 'model__dropout_rate': 0.0, 'model__epochs': 100, 'model__learning_rate': 0.01, 'model__n_layers': 3, 'model__n_units': 64}\n",
      "-8.738476 (5.465338) with: {'model__activation': 'tanh', 'model__batch_size': 32, 'model__dropout_rate': 0.0, 'model__epochs': 100, 'model__learning_rate': 0.1, 'model__n_layers': 1, 'model__n_units': 32}\n",
      "-9.612114 (8.999615) with: {'model__activation': 'tanh', 'model__batch_size': 32, 'model__dropout_rate': 0.0, 'model__epochs': 100, 'model__learning_rate': 0.1, 'model__n_layers': 1, 'model__n_units': 64}\n",
      "-7.894469 (4.759019) with: {'model__activation': 'tanh', 'model__batch_size': 32, 'model__dropout_rate': 0.0, 'model__epochs': 100, 'model__learning_rate': 0.1, 'model__n_layers': 2, 'model__n_units': 32}\n",
      "-4.526324 (3.467690) with: {'model__activation': 'tanh', 'model__batch_size': 32, 'model__dropout_rate': 0.0, 'model__epochs': 100, 'model__learning_rate': 0.1, 'model__n_layers': 2, 'model__n_units': 64}\n",
      "-1.983730 (0.330697) with: {'model__activation': 'tanh', 'model__batch_size': 32, 'model__dropout_rate': 0.0, 'model__epochs': 100, 'model__learning_rate': 0.1, 'model__n_layers': 3, 'model__n_units': 32}\n",
      "-2.225400 (0.265548) with: {'model__activation': 'tanh', 'model__batch_size': 32, 'model__dropout_rate': 0.0, 'model__epochs': 100, 'model__learning_rate': 0.1, 'model__n_layers': 3, 'model__n_units': 64}\n",
      "-13.224132 (1.025067) with: {'model__activation': 'tanh', 'model__batch_size': 32, 'model__dropout_rate': 0.1, 'model__epochs': 100, 'model__learning_rate': 0.001, 'model__n_layers': 1, 'model__n_units': 32}\n",
      "-6.983913 (5.729120) with: {'model__activation': 'tanh', 'model__batch_size': 32, 'model__dropout_rate': 0.1, 'model__epochs': 100, 'model__learning_rate': 0.001, 'model__n_layers': 1, 'model__n_units': 64}\n",
      "-13.650141 (1.049507) with: {'model__activation': 'tanh', 'model__batch_size': 32, 'model__dropout_rate': 0.1, 'model__epochs': 100, 'model__learning_rate': 0.001, 'model__n_layers': 2, 'model__n_units': 32}\n",
      "-2.318635 (0.903964) with: {'model__activation': 'tanh', 'model__batch_size': 32, 'model__dropout_rate': 0.1, 'model__epochs': 100, 'model__learning_rate': 0.001, 'model__n_layers': 2, 'model__n_units': 64}\n",
      "-14.251931 (1.566447) with: {'model__activation': 'tanh', 'model__batch_size': 32, 'model__dropout_rate': 0.1, 'model__epochs': 100, 'model__learning_rate': 0.001, 'model__n_layers': 3, 'model__n_units': 32}\n",
      "-2.389326 (0.759202) with: {'model__activation': 'tanh', 'model__batch_size': 32, 'model__dropout_rate': 0.1, 'model__epochs': 100, 'model__learning_rate': 0.001, 'model__n_layers': 3, 'model__n_units': 64}\n",
      "-7.966859 (7.569791) with: {'model__activation': 'tanh', 'model__batch_size': 32, 'model__dropout_rate': 0.1, 'model__epochs': 100, 'model__learning_rate': 0.01, 'model__n_layers': 1, 'model__n_units': 32}\n",
      "-9.921895 (10.184003) with: {'model__activation': 'tanh', 'model__batch_size': 32, 'model__dropout_rate': 0.1, 'model__epochs': 100, 'model__learning_rate': 0.01, 'model__n_layers': 1, 'model__n_units': 64}\n",
      "-2.404532 (1.131729) with: {'model__activation': 'tanh', 'model__batch_size': 32, 'model__dropout_rate': 0.1, 'model__epochs': 100, 'model__learning_rate': 0.01, 'model__n_layers': 2, 'model__n_units': 32}\n",
      "-8.996330 (9.331267) with: {'model__activation': 'tanh', 'model__batch_size': 32, 'model__dropout_rate': 0.1, 'model__epochs': 100, 'model__learning_rate': 0.01, 'model__n_layers': 2, 'model__n_units': 64}\n",
      "-1.739498 (0.244505) with: {'model__activation': 'tanh', 'model__batch_size': 32, 'model__dropout_rate': 0.1, 'model__epochs': 100, 'model__learning_rate': 0.01, 'model__n_layers': 3, 'model__n_units': 32}\n",
      "-3.257194 (1.956531) with: {'model__activation': 'tanh', 'model__batch_size': 32, 'model__dropout_rate': 0.1, 'model__epochs': 100, 'model__learning_rate': 0.01, 'model__n_layers': 3, 'model__n_units': 64}\n",
      "-10.380813 (5.205290) with: {'model__activation': 'tanh', 'model__batch_size': 32, 'model__dropout_rate': 0.1, 'model__epochs': 100, 'model__learning_rate': 0.1, 'model__n_layers': 1, 'model__n_units': 32}\n",
      "-9.193852 (7.041638) with: {'model__activation': 'tanh', 'model__batch_size': 32, 'model__dropout_rate': 0.1, 'model__epochs': 100, 'model__learning_rate': 0.1, 'model__n_layers': 1, 'model__n_units': 64}\n",
      "-6.692197 (3.623882) with: {'model__activation': 'tanh', 'model__batch_size': 32, 'model__dropout_rate': 0.1, 'model__epochs': 100, 'model__learning_rate': 0.1, 'model__n_layers': 2, 'model__n_units': 32}\n",
      "-4.574582 (3.749563) with: {'model__activation': 'tanh', 'model__batch_size': 32, 'model__dropout_rate': 0.1, 'model__epochs': 100, 'model__learning_rate': 0.1, 'model__n_layers': 2, 'model__n_units': 64}\n",
      "-2.112076 (0.459669) with: {'model__activation': 'tanh', 'model__batch_size': 32, 'model__dropout_rate': 0.1, 'model__epochs': 100, 'model__learning_rate': 0.1, 'model__n_layers': 3, 'model__n_units': 32}\n",
      "-2.303786 (0.956014) with: {'model__activation': 'tanh', 'model__batch_size': 32, 'model__dropout_rate': 0.1, 'model__epochs': 100, 'model__learning_rate': 0.1, 'model__n_layers': 3, 'model__n_units': 64}\n",
      "-22.110046 (1.948445) with: {'model__activation': 'relu', 'model__batch_size': 32, 'model__dropout_rate': 0.0, 'model__epochs': 100, 'model__learning_rate': 0.001, 'model__n_layers': 1, 'model__n_units': 32}\n",
      "-17.268201 (5.445903) with: {'model__activation': 'relu', 'model__batch_size': 32, 'model__dropout_rate': 0.0, 'model__epochs': 100, 'model__learning_rate': 0.001, 'model__n_layers': 1, 'model__n_units': 64}\n",
      "-18.616058 (4.385025) with: {'model__activation': 'relu', 'model__batch_size': 32, 'model__dropout_rate': 0.0, 'model__epochs': 100, 'model__learning_rate': 0.001, 'model__n_layers': 2, 'model__n_units': 32}\n",
      "-17.605315 (6.861986) with: {'model__activation': 'relu', 'model__batch_size': 32, 'model__dropout_rate': 0.0, 'model__epochs': 100, 'model__learning_rate': 0.001, 'model__n_layers': 2, 'model__n_units': 64}\n",
      "-18.277599 (10.727537) with: {'model__activation': 'relu', 'model__batch_size': 32, 'model__dropout_rate': 0.0, 'model__epochs': 100, 'model__learning_rate': 0.001, 'model__n_layers': 3, 'model__n_units': 32}\n",
      "-13.122765 (8.360008) with: {'model__activation': 'relu', 'model__batch_size': 32, 'model__dropout_rate': 0.0, 'model__epochs': 100, 'model__learning_rate': 0.001, 'model__n_layers': 3, 'model__n_units': 64}\n",
      "-18.034949 (6.062516) with: {'model__activation': 'relu', 'model__batch_size': 32, 'model__dropout_rate': 0.0, 'model__epochs': 100, 'model__learning_rate': 0.01, 'model__n_layers': 1, 'model__n_units': 32}\n",
      "-17.715415 (3.952785) with: {'model__activation': 'relu', 'model__batch_size': 32, 'model__dropout_rate': 0.0, 'model__epochs': 100, 'model__learning_rate': 0.01, 'model__n_layers': 1, 'model__n_units': 64}\n",
      "-13.208372 (0.418812) with: {'model__activation': 'relu', 'model__batch_size': 32, 'model__dropout_rate': 0.0, 'model__epochs': 100, 'model__learning_rate': 0.01, 'model__n_layers': 2, 'model__n_units': 32}\n",
      "-12.097084 (2.231023) with: {'model__activation': 'relu', 'model__batch_size': 32, 'model__dropout_rate': 0.0, 'model__epochs': 100, 'model__learning_rate': 0.01, 'model__n_layers': 2, 'model__n_units': 64}\n",
      "-8.341856 (5.315653) with: {'model__activation': 'relu', 'model__batch_size': 32, 'model__dropout_rate': 0.0, 'model__epochs': 100, 'model__learning_rate': 0.01, 'model__n_layers': 3, 'model__n_units': 32}\n",
      "-6.592320 (0.459197) with: {'model__activation': 'relu', 'model__batch_size': 32, 'model__dropout_rate': 0.0, 'model__epochs': 100, 'model__learning_rate': 0.01, 'model__n_layers': 3, 'model__n_units': 64}\n",
      "-22.195470 (3.750791) with: {'model__activation': 'relu', 'model__batch_size': 32, 'model__dropout_rate': 0.0, 'model__epochs': 100, 'model__learning_rate': 0.1, 'model__n_layers': 1, 'model__n_units': 32}\n",
      "-15.236280 (6.341854) with: {'model__activation': 'relu', 'model__batch_size': 32, 'model__dropout_rate': 0.0, 'model__epochs': 100, 'model__learning_rate': 0.1, 'model__n_layers': 1, 'model__n_units': 64}\n",
      "-15.321659 (1.426259) with: {'model__activation': 'relu', 'model__batch_size': 32, 'model__dropout_rate': 0.0, 'model__epochs': 100, 'model__learning_rate': 0.1, 'model__n_layers': 2, 'model__n_units': 32}\n",
      "-3.303951 (1.186037) with: {'model__activation': 'relu', 'model__batch_size': 32, 'model__dropout_rate': 0.0, 'model__epochs': 100, 'model__learning_rate': 0.1, 'model__n_layers': 2, 'model__n_units': 64}\n",
      "-6.288479 (4.919817) with: {'model__activation': 'relu', 'model__batch_size': 32, 'model__dropout_rate': 0.0, 'model__epochs': 100, 'model__learning_rate': 0.1, 'model__n_layers': 3, 'model__n_units': 32}\n",
      "-2.021659 (0.620742) with: {'model__activation': 'relu', 'model__batch_size': 32, 'model__dropout_rate': 0.0, 'model__epochs': 100, 'model__learning_rate': 0.1, 'model__n_layers': 3, 'model__n_units': 64}\n",
      "-25.456745 (5.765771) with: {'model__activation': 'relu', 'model__batch_size': 32, 'model__dropout_rate': 0.1, 'model__epochs': 100, 'model__learning_rate': 0.001, 'model__n_layers': 1, 'model__n_units': 32}\n",
      "-22.083534 (11.313098) with: {'model__activation': 'relu', 'model__batch_size': 32, 'model__dropout_rate': 0.1, 'model__epochs': 100, 'model__learning_rate': 0.001, 'model__n_layers': 1, 'model__n_units': 64}\n",
      "-18.513218 (4.838434) with: {'model__activation': 'relu', 'model__batch_size': 32, 'model__dropout_rate': 0.1, 'model__epochs': 100, 'model__learning_rate': 0.001, 'model__n_layers': 2, 'model__n_units': 32}\n",
      "-27.576009 (19.702474) with: {'model__activation': 'relu', 'model__batch_size': 32, 'model__dropout_rate': 0.1, 'model__epochs': 100, 'model__learning_rate': 0.001, 'model__n_layers': 2, 'model__n_units': 64}\n",
      "-15.242348 (2.995225) with: {'model__activation': 'relu', 'model__batch_size': 32, 'model__dropout_rate': 0.1, 'model__epochs': 100, 'model__learning_rate': 0.001, 'model__n_layers': 3, 'model__n_units': 32}\n",
      "-13.299725 (7.417766) with: {'model__activation': 'relu', 'model__batch_size': 32, 'model__dropout_rate': 0.1, 'model__epochs': 100, 'model__learning_rate': 0.001, 'model__n_layers': 3, 'model__n_units': 64}\n",
      "-18.562133 (2.074449) with: {'model__activation': 'relu', 'model__batch_size': 32, 'model__dropout_rate': 0.1, 'model__epochs': 100, 'model__learning_rate': 0.01, 'model__n_layers': 1, 'model__n_units': 32}\n",
      "-15.887979 (1.488842) with: {'model__activation': 'relu', 'model__batch_size': 32, 'model__dropout_rate': 0.1, 'model__epochs': 100, 'model__learning_rate': 0.01, 'model__n_layers': 1, 'model__n_units': 64}\n",
      "-12.763178 (4.282095) with: {'model__activation': 'relu', 'model__batch_size': 32, 'model__dropout_rate': 0.1, 'model__epochs': 100, 'model__learning_rate': 0.01, 'model__n_layers': 2, 'model__n_units': 32}\n",
      "-14.271852 (7.614719) with: {'model__activation': 'relu', 'model__batch_size': 32, 'model__dropout_rate': 0.1, 'model__epochs': 100, 'model__learning_rate': 0.01, 'model__n_layers': 2, 'model__n_units': 64}\n",
      "-4.610663 (1.800574) with: {'model__activation': 'relu', 'model__batch_size': 32, 'model__dropout_rate': 0.1, 'model__epochs': 100, 'model__learning_rate': 0.01, 'model__n_layers': 3, 'model__n_units': 32}\n",
      "-5.429634 (1.654466) with: {'model__activation': 'relu', 'model__batch_size': 32, 'model__dropout_rate': 0.1, 'model__epochs': 100, 'model__learning_rate': 0.01, 'model__n_layers': 3, 'model__n_units': 64}\n",
      "-11.605654 (1.543647) with: {'model__activation': 'relu', 'model__batch_size': 32, 'model__dropout_rate': 0.1, 'model__epochs': 100, 'model__learning_rate': 0.1, 'model__n_layers': 1, 'model__n_units': 32}\n",
      "-15.433541 (3.127729) with: {'model__activation': 'relu', 'model__batch_size': 32, 'model__dropout_rate': 0.1, 'model__epochs': 100, 'model__learning_rate': 0.1, 'model__n_layers': 1, 'model__n_units': 64}\n",
      "-11.131412 (6.172901) with: {'model__activation': 'relu', 'model__batch_size': 32, 'model__dropout_rate': 0.1, 'model__epochs': 100, 'model__learning_rate': 0.1, 'model__n_layers': 2, 'model__n_units': 32}\n",
      "-8.851784 (3.925750) with: {'model__activation': 'relu', 'model__batch_size': 32, 'model__dropout_rate': 0.1, 'model__epochs': 100, 'model__learning_rate': 0.1, 'model__n_layers': 2, 'model__n_units': 64}\n",
      "-3.878121 (1.315881) with: {'model__activation': 'relu', 'model__batch_size': 32, 'model__dropout_rate': 0.1, 'model__epochs': 100, 'model__learning_rate': 0.1, 'model__n_layers': 3, 'model__n_units': 32}\n",
      "-4.952237 (1.102561) with: {'model__activation': 'relu', 'model__batch_size': 32, 'model__dropout_rate': 0.1, 'model__epochs': 100, 'model__learning_rate': 0.1, 'model__n_layers': 3, 'model__n_units': 64}\n",
      "-26.767498 (3.626534) with: {'model__activation': 'swish', 'model__batch_size': 32, 'model__dropout_rate': 0.0, 'model__epochs': 100, 'model__learning_rate': 0.001, 'model__n_layers': 1, 'model__n_units': 32}\n",
      "-24.059787 (7.011794) with: {'model__activation': 'swish', 'model__batch_size': 32, 'model__dropout_rate': 0.0, 'model__epochs': 100, 'model__learning_rate': 0.001, 'model__n_layers': 1, 'model__n_units': 64}\n",
      "-20.295131 (5.661445) with: {'model__activation': 'swish', 'model__batch_size': 32, 'model__dropout_rate': 0.0, 'model__epochs': 100, 'model__learning_rate': 0.001, 'model__n_layers': 2, 'model__n_units': 32}\n",
      "-22.299019 (4.284708) with: {'model__activation': 'swish', 'model__batch_size': 32, 'model__dropout_rate': 0.0, 'model__epochs': 100, 'model__learning_rate': 0.001, 'model__n_layers': 2, 'model__n_units': 64}\n",
      "-20.070753 (4.409384) with: {'model__activation': 'swish', 'model__batch_size': 32, 'model__dropout_rate': 0.0, 'model__epochs': 100, 'model__learning_rate': 0.001, 'model__n_layers': 3, 'model__n_units': 32}\n",
      "-15.826345 (6.738573) with: {'model__activation': 'swish', 'model__batch_size': 32, 'model__dropout_rate': 0.0, 'model__epochs': 100, 'model__learning_rate': 0.001, 'model__n_layers': 3, 'model__n_units': 64}\n",
      "-21.438240 (4.878079) with: {'model__activation': 'swish', 'model__batch_size': 32, 'model__dropout_rate': 0.0, 'model__epochs': 100, 'model__learning_rate': 0.01, 'model__n_layers': 1, 'model__n_units': 32}\n",
      "-25.184432 (2.829259) with: {'model__activation': 'swish', 'model__batch_size': 32, 'model__dropout_rate': 0.0, 'model__epochs': 100, 'model__learning_rate': 0.01, 'model__n_layers': 1, 'model__n_units': 64}\n",
      "-16.376807 (4.601109) with: {'model__activation': 'swish', 'model__batch_size': 32, 'model__dropout_rate': 0.0, 'model__epochs': 100, 'model__learning_rate': 0.01, 'model__n_layers': 2, 'model__n_units': 32}\n",
      "-16.077973 (4.022133) with: {'model__activation': 'swish', 'model__batch_size': 32, 'model__dropout_rate': 0.0, 'model__epochs': 100, 'model__learning_rate': 0.01, 'model__n_layers': 2, 'model__n_units': 64}\n",
      "-10.853727 (4.321967) with: {'model__activation': 'swish', 'model__batch_size': 32, 'model__dropout_rate': 0.0, 'model__epochs': 100, 'model__learning_rate': 0.01, 'model__n_layers': 3, 'model__n_units': 32}\n",
      "-8.051014 (1.907162) with: {'model__activation': 'swish', 'model__batch_size': 32, 'model__dropout_rate': 0.0, 'model__epochs': 100, 'model__learning_rate': 0.01, 'model__n_layers': 3, 'model__n_units': 64}\n",
      "-17.841011 (5.937727) with: {'model__activation': 'swish', 'model__batch_size': 32, 'model__dropout_rate': 0.0, 'model__epochs': 100, 'model__learning_rate': 0.1, 'model__n_layers': 1, 'model__n_units': 32}\n",
      "-21.332628 (2.539936) with: {'model__activation': 'swish', 'model__batch_size': 32, 'model__dropout_rate': 0.0, 'model__epochs': 100, 'model__learning_rate': 0.1, 'model__n_layers': 1, 'model__n_units': 64}\n",
      "-16.790178 (0.809196) with: {'model__activation': 'swish', 'model__batch_size': 32, 'model__dropout_rate': 0.0, 'model__epochs': 100, 'model__learning_rate': 0.1, 'model__n_layers': 2, 'model__n_units': 32}\n",
      "-36.096854 (21.792666) with: {'model__activation': 'swish', 'model__batch_size': 32, 'model__dropout_rate': 0.0, 'model__epochs': 100, 'model__learning_rate': 0.1, 'model__n_layers': 2, 'model__n_units': 64}\n",
      "-7.693896 (2.849899) with: {'model__activation': 'swish', 'model__batch_size': 32, 'model__dropout_rate': 0.0, 'model__epochs': 100, 'model__learning_rate': 0.1, 'model__n_layers': 3, 'model__n_units': 32}\n",
      "-17.503260 (2.912943) with: {'model__activation': 'swish', 'model__batch_size': 32, 'model__dropout_rate': 0.0, 'model__epochs': 100, 'model__learning_rate': 0.1, 'model__n_layers': 3, 'model__n_units': 64}\n",
      "-32.369250 (8.518828) with: {'model__activation': 'swish', 'model__batch_size': 32, 'model__dropout_rate': 0.1, 'model__epochs': 100, 'model__learning_rate': 0.001, 'model__n_layers': 1, 'model__n_units': 32}\n",
      "-32.943237 (6.052713) with: {'model__activation': 'swish', 'model__batch_size': 32, 'model__dropout_rate': 0.1, 'model__epochs': 100, 'model__learning_rate': 0.001, 'model__n_layers': 1, 'model__n_units': 64}\n",
      "-25.313542 (6.603096) with: {'model__activation': 'swish', 'model__batch_size': 32, 'model__dropout_rate': 0.1, 'model__epochs': 100, 'model__learning_rate': 0.001, 'model__n_layers': 2, 'model__n_units': 32}\n",
      "-23.883218 (2.815344) with: {'model__activation': 'swish', 'model__batch_size': 32, 'model__dropout_rate': 0.1, 'model__epochs': 100, 'model__learning_rate': 0.001, 'model__n_layers': 2, 'model__n_units': 64}\n",
      "-16.090424 (6.861311) with: {'model__activation': 'swish', 'model__batch_size': 32, 'model__dropout_rate': 0.1, 'model__epochs': 100, 'model__learning_rate': 0.001, 'model__n_layers': 3, 'model__n_units': 32}\n",
      "-13.980416 (5.130132) with: {'model__activation': 'swish', 'model__batch_size': 32, 'model__dropout_rate': 0.1, 'model__epochs': 100, 'model__learning_rate': 0.001, 'model__n_layers': 3, 'model__n_units': 64}\n",
      "-24.895587 (9.576360) with: {'model__activation': 'swish', 'model__batch_size': 32, 'model__dropout_rate': 0.1, 'model__epochs': 100, 'model__learning_rate': 0.01, 'model__n_layers': 1, 'model__n_units': 32}\n",
      "-18.648573 (10.340414) with: {'model__activation': 'swish', 'model__batch_size': 32, 'model__dropout_rate': 0.1, 'model__epochs': 100, 'model__learning_rate': 0.01, 'model__n_layers': 1, 'model__n_units': 64}\n",
      "-9.578817 (4.295611) with: {'model__activation': 'swish', 'model__batch_size': 32, 'model__dropout_rate': 0.1, 'model__epochs': 100, 'model__learning_rate': 0.01, 'model__n_layers': 2, 'model__n_units': 32}\n",
      "-9.138090 (3.024149) with: {'model__activation': 'swish', 'model__batch_size': 32, 'model__dropout_rate': 0.1, 'model__epochs': 100, 'model__learning_rate': 0.01, 'model__n_layers': 2, 'model__n_units': 64}\n",
      "-5.262877 (0.949703) with: {'model__activation': 'swish', 'model__batch_size': 32, 'model__dropout_rate': 0.1, 'model__epochs': 100, 'model__learning_rate': 0.01, 'model__n_layers': 3, 'model__n_units': 32}\n",
      "-6.635326 (4.446866) with: {'model__activation': 'swish', 'model__batch_size': 32, 'model__dropout_rate': 0.1, 'model__epochs': 100, 'model__learning_rate': 0.01, 'model__n_layers': 3, 'model__n_units': 64}\n",
      "-12.542341 (3.253256) with: {'model__activation': 'swish', 'model__batch_size': 32, 'model__dropout_rate': 0.1, 'model__epochs': 100, 'model__learning_rate': 0.1, 'model__n_layers': 1, 'model__n_units': 32}\n",
      "-13.271742 (1.422734) with: {'model__activation': 'swish', 'model__batch_size': 32, 'model__dropout_rate': 0.1, 'model__epochs': 100, 'model__learning_rate': 0.1, 'model__n_layers': 1, 'model__n_units': 64}\n",
      "-22.157290 (15.303882) with: {'model__activation': 'swish', 'model__batch_size': 32, 'model__dropout_rate': 0.1, 'model__epochs': 100, 'model__learning_rate': 0.1, 'model__n_layers': 2, 'model__n_units': 32}\n",
      "-15.031618 (3.489799) with: {'model__activation': 'swish', 'model__batch_size': 32, 'model__dropout_rate': 0.1, 'model__epochs': 100, 'model__learning_rate': 0.1, 'model__n_layers': 2, 'model__n_units': 64}\n",
      "-8.565674 (4.890793) with: {'model__activation': 'swish', 'model__batch_size': 32, 'model__dropout_rate': 0.1, 'model__epochs': 100, 'model__learning_rate': 0.1, 'model__n_layers': 3, 'model__n_units': 32}\n",
      "-3430.165572 (4827.868493) with: {'model__activation': 'swish', 'model__batch_size': 32, 'model__dropout_rate': 0.1, 'model__epochs': 100, 'model__learning_rate': 0.1, 'model__n_layers': 3, 'model__n_units': 64}\n",
      "\n",
      "Minutes Elapsed:  5.598612376054128\n"
     ]
    }
   ],
   "source": [
    "df = df_no_r3d_r7d.copy()\n",
    "columns = list(df.columns.drop(['R28D']))\n",
    "columns.append('R28D')\n",
    "df = df.reindex(columns=columns)\n",
    "df = df.drop(['Data/Hora'], axis=1)\n",
    "x, y = split_sequences(df.values, TIME_STEPS)\n",
    "\n",
    "start = time.time()\n",
    "gridcv1 = make_grid_search(x, y)\n",
    "end = time.time()\n",
    "print(\"\\nMinutes Elapsed: \", (end - start)/60)"
   ]
  },
  {
   "cell_type": "code",
   "execution_count": 26,
   "metadata": {},
   "outputs": [
    {
     "data": {
      "text/plain": [
       "{'model__activation': 'tanh',\n",
       " 'model__batch_size': 32,\n",
       " 'model__dropout_rate': 0.0,\n",
       " 'model__epochs': 100,\n",
       " 'model__learning_rate': 0.01,\n",
       " 'model__n_layers': 3,\n",
       " 'model__n_units': 32}"
      ]
     },
     "execution_count": 26,
     "metadata": {},
     "output_type": "execute_result"
    }
   ],
   "source": [
    "gridcv1.best_params_"
   ]
  },
  {
   "cell_type": "markdown",
   "metadata": {},
   "source": [
    "<h3>GridCV 2</h3>\n",
    "\n",
    "<b>Dataset: df_r3d_only:</b> In this dataset only R3D is considered."
   ]
  },
  {
   "cell_type": "code",
   "execution_count": 27,
   "metadata": {},
   "outputs": [
    {
     "name": "stderr",
     "output_type": "stream",
     "text": [
      "/tmp/ipykernel_715779/3700414713.py:18: DeprecationWarning: KerasRegressor is deprecated, use Sci-Keras (https://github.com/adriangb/scikeras) instead.\n",
      "  model = KerasRegressor(build_fn=create_keras_model, epochs=30, batch_size=32, verbose=0)\n"
     ]
    },
    {
     "name": "stdout",
     "output_type": "stream",
     "text": [
      "Best: -1.745063 using {'model__activation': 'tanh', 'model__batch_size': 32, 'model__dropout_rate': 0.0, 'model__epochs': 100, 'model__learning_rate': 0.01, 'model__n_layers': 3, 'model__n_units': 32}\n",
      "\n",
      "-13.077028 (0.978286) with: {'model__activation': 'tanh', 'model__batch_size': 32, 'model__dropout_rate': 0.0, 'model__epochs': 100, 'model__learning_rate': 0.001, 'model__n_layers': 1, 'model__n_units': 32}\n",
      "-7.157363 (6.508780) with: {'model__activation': 'tanh', 'model__batch_size': 32, 'model__dropout_rate': 0.0, 'model__epochs': 100, 'model__learning_rate': 0.001, 'model__n_layers': 1, 'model__n_units': 64}\n",
      "-16.651816 (4.872754) with: {'model__activation': 'tanh', 'model__batch_size': 32, 'model__dropout_rate': 0.0, 'model__epochs': 100, 'model__learning_rate': 0.001, 'model__n_layers': 2, 'model__n_units': 32}\n",
      "-6.550297 (6.907011) with: {'model__activation': 'tanh', 'model__batch_size': 32, 'model__dropout_rate': 0.0, 'model__epochs': 100, 'model__learning_rate': 0.001, 'model__n_layers': 2, 'model__n_units': 64}\n",
      "-14.362872 (0.754308) with: {'model__activation': 'tanh', 'model__batch_size': 32, 'model__dropout_rate': 0.0, 'model__epochs': 100, 'model__learning_rate': 0.001, 'model__n_layers': 3, 'model__n_units': 32}\n",
      "-3.114960 (1.972719) with: {'model__activation': 'tanh', 'model__batch_size': 32, 'model__dropout_rate': 0.0, 'model__epochs': 100, 'model__learning_rate': 0.001, 'model__n_layers': 3, 'model__n_units': 64}\n",
      "-9.420499 (8.584213) with: {'model__activation': 'tanh', 'model__batch_size': 32, 'model__dropout_rate': 0.0, 'model__epochs': 100, 'model__learning_rate': 0.01, 'model__n_layers': 1, 'model__n_units': 32}\n",
      "-9.193975 (8.744961) with: {'model__activation': 'tanh', 'model__batch_size': 32, 'model__dropout_rate': 0.0, 'model__epochs': 100, 'model__learning_rate': 0.01, 'model__n_layers': 1, 'model__n_units': 64}\n",
      "-3.629719 (2.466876) with: {'model__activation': 'tanh', 'model__batch_size': 32, 'model__dropout_rate': 0.0, 'model__epochs': 100, 'model__learning_rate': 0.01, 'model__n_layers': 2, 'model__n_units': 32}\n",
      "-2.075504 (0.399773) with: {'model__activation': 'tanh', 'model__batch_size': 32, 'model__dropout_rate': 0.0, 'model__epochs': 100, 'model__learning_rate': 0.01, 'model__n_layers': 2, 'model__n_units': 64}\n",
      "-1.745063 (0.178510) with: {'model__activation': 'tanh', 'model__batch_size': 32, 'model__dropout_rate': 0.0, 'model__epochs': 100, 'model__learning_rate': 0.01, 'model__n_layers': 3, 'model__n_units': 32}\n",
      "-2.645300 (1.293104) with: {'model__activation': 'tanh', 'model__batch_size': 32, 'model__dropout_rate': 0.0, 'model__epochs': 100, 'model__learning_rate': 0.01, 'model__n_layers': 3, 'model__n_units': 64}\n",
      "-6.570141 (3.419009) with: {'model__activation': 'tanh', 'model__batch_size': 32, 'model__dropout_rate': 0.0, 'model__epochs': 100, 'model__learning_rate': 0.1, 'model__n_layers': 1, 'model__n_units': 32}\n",
      "-10.980006 (9.899524) with: {'model__activation': 'tanh', 'model__batch_size': 32, 'model__dropout_rate': 0.0, 'model__epochs': 100, 'model__learning_rate': 0.1, 'model__n_layers': 1, 'model__n_units': 64}\n",
      "-5.219795 (2.760035) with: {'model__activation': 'tanh', 'model__batch_size': 32, 'model__dropout_rate': 0.0, 'model__epochs': 100, 'model__learning_rate': 0.1, 'model__n_layers': 2, 'model__n_units': 32}\n",
      "-5.435545 (4.354356) with: {'model__activation': 'tanh', 'model__batch_size': 32, 'model__dropout_rate': 0.0, 'model__epochs': 100, 'model__learning_rate': 0.1, 'model__n_layers': 2, 'model__n_units': 64}\n",
      "-2.221238 (0.843345) with: {'model__activation': 'tanh', 'model__batch_size': 32, 'model__dropout_rate': 0.0, 'model__epochs': 100, 'model__learning_rate': 0.1, 'model__n_layers': 3, 'model__n_units': 32}\n",
      "-5.456977 (3.121817) with: {'model__activation': 'tanh', 'model__batch_size': 32, 'model__dropout_rate': 0.0, 'model__epochs': 100, 'model__learning_rate': 0.1, 'model__n_layers': 3, 'model__n_units': 64}\n",
      "-13.012420 (1.209073) with: {'model__activation': 'tanh', 'model__batch_size': 32, 'model__dropout_rate': 0.1, 'model__epochs': 100, 'model__learning_rate': 0.001, 'model__n_layers': 1, 'model__n_units': 32}\n",
      "-7.895300 (8.339991) with: {'model__activation': 'tanh', 'model__batch_size': 32, 'model__dropout_rate': 0.1, 'model__epochs': 100, 'model__learning_rate': 0.001, 'model__n_layers': 1, 'model__n_units': 64}\n",
      "-14.473170 (1.463872) with: {'model__activation': 'tanh', 'model__batch_size': 32, 'model__dropout_rate': 0.1, 'model__epochs': 100, 'model__learning_rate': 0.001, 'model__n_layers': 2, 'model__n_units': 32}\n",
      "-2.983512 (1.681024) with: {'model__activation': 'tanh', 'model__batch_size': 32, 'model__dropout_rate': 0.1, 'model__epochs': 100, 'model__learning_rate': 0.001, 'model__n_layers': 2, 'model__n_units': 64}\n",
      "-14.028877 (1.241074) with: {'model__activation': 'tanh', 'model__batch_size': 32, 'model__dropout_rate': 0.1, 'model__epochs': 100, 'model__learning_rate': 0.001, 'model__n_layers': 3, 'model__n_units': 32}\n",
      "-2.442588 (0.932823) with: {'model__activation': 'tanh', 'model__batch_size': 32, 'model__dropout_rate': 0.1, 'model__epochs': 100, 'model__learning_rate': 0.001, 'model__n_layers': 3, 'model__n_units': 64}\n",
      "-6.173304 (4.353313) with: {'model__activation': 'tanh', 'model__batch_size': 32, 'model__dropout_rate': 0.1, 'model__epochs': 100, 'model__learning_rate': 0.01, 'model__n_layers': 1, 'model__n_units': 32}\n",
      "-7.018799 (6.188180) with: {'model__activation': 'tanh', 'model__batch_size': 32, 'model__dropout_rate': 0.1, 'model__epochs': 100, 'model__learning_rate': 0.01, 'model__n_layers': 1, 'model__n_units': 64}\n",
      "-4.831989 (4.417464) with: {'model__activation': 'tanh', 'model__batch_size': 32, 'model__dropout_rate': 0.1, 'model__epochs': 100, 'model__learning_rate': 0.01, 'model__n_layers': 2, 'model__n_units': 32}\n",
      "-3.871184 (2.616720) with: {'model__activation': 'tanh', 'model__batch_size': 32, 'model__dropout_rate': 0.1, 'model__epochs': 100, 'model__learning_rate': 0.01, 'model__n_layers': 2, 'model__n_units': 64}\n",
      "-3.796481 (3.112862) with: {'model__activation': 'tanh', 'model__batch_size': 32, 'model__dropout_rate': 0.1, 'model__epochs': 100, 'model__learning_rate': 0.01, 'model__n_layers': 3, 'model__n_units': 32}\n",
      "-2.325722 (0.962964) with: {'model__activation': 'tanh', 'model__batch_size': 32, 'model__dropout_rate': 0.1, 'model__epochs': 100, 'model__learning_rate': 0.01, 'model__n_layers': 3, 'model__n_units': 64}\n",
      "-9.980301 (4.648032) with: {'model__activation': 'tanh', 'model__batch_size': 32, 'model__dropout_rate': 0.1, 'model__epochs': 100, 'model__learning_rate': 0.1, 'model__n_layers': 1, 'model__n_units': 32}\n",
      "-8.148460 (4.993864) with: {'model__activation': 'tanh', 'model__batch_size': 32, 'model__dropout_rate': 0.1, 'model__epochs': 100, 'model__learning_rate': 0.1, 'model__n_layers': 1, 'model__n_units': 64}\n",
      "-3.772110 (2.524025) with: {'model__activation': 'tanh', 'model__batch_size': 32, 'model__dropout_rate': 0.1, 'model__epochs': 100, 'model__learning_rate': 0.1, 'model__n_layers': 2, 'model__n_units': 32}\n",
      "-10.145516 (6.077193) with: {'model__activation': 'tanh', 'model__batch_size': 32, 'model__dropout_rate': 0.1, 'model__epochs': 100, 'model__learning_rate': 0.1, 'model__n_layers': 2, 'model__n_units': 64}\n",
      "-2.445644 (0.911302) with: {'model__activation': 'tanh', 'model__batch_size': 32, 'model__dropout_rate': 0.1, 'model__epochs': 100, 'model__learning_rate': 0.1, 'model__n_layers': 3, 'model__n_units': 32}\n",
      "-2.709446 (1.306052) with: {'model__activation': 'tanh', 'model__batch_size': 32, 'model__dropout_rate': 0.1, 'model__epochs': 100, 'model__learning_rate': 0.1, 'model__n_layers': 3, 'model__n_units': 64}\n",
      "-19.939406 (4.675109) with: {'model__activation': 'relu', 'model__batch_size': 32, 'model__dropout_rate': 0.0, 'model__epochs': 100, 'model__learning_rate': 0.001, 'model__n_layers': 1, 'model__n_units': 32}\n",
      "-25.265088 (9.779048) with: {'model__activation': 'relu', 'model__batch_size': 32, 'model__dropout_rate': 0.0, 'model__epochs': 100, 'model__learning_rate': 0.001, 'model__n_layers': 1, 'model__n_units': 64}\n",
      "-20.422709 (10.304365) with: {'model__activation': 'relu', 'model__batch_size': 32, 'model__dropout_rate': 0.0, 'model__epochs': 100, 'model__learning_rate': 0.001, 'model__n_layers': 2, 'model__n_units': 32}\n",
      "-17.491557 (6.774400) with: {'model__activation': 'relu', 'model__batch_size': 32, 'model__dropout_rate': 0.0, 'model__epochs': 100, 'model__learning_rate': 0.001, 'model__n_layers': 2, 'model__n_units': 64}\n",
      "-13.957675 (5.301657) with: {'model__activation': 'relu', 'model__batch_size': 32, 'model__dropout_rate': 0.0, 'model__epochs': 100, 'model__learning_rate': 0.001, 'model__n_layers': 3, 'model__n_units': 32}\n",
      "-16.301446 (12.181101) with: {'model__activation': 'relu', 'model__batch_size': 32, 'model__dropout_rate': 0.0, 'model__epochs': 100, 'model__learning_rate': 0.001, 'model__n_layers': 3, 'model__n_units': 64}\n",
      "-17.207944 (2.996367) with: {'model__activation': 'relu', 'model__batch_size': 32, 'model__dropout_rate': 0.0, 'model__epochs': 100, 'model__learning_rate': 0.01, 'model__n_layers': 1, 'model__n_units': 32}\n",
      "-18.608999 (3.950197) with: {'model__activation': 'relu', 'model__batch_size': 32, 'model__dropout_rate': 0.0, 'model__epochs': 100, 'model__learning_rate': 0.01, 'model__n_layers': 1, 'model__n_units': 64}\n",
      "-14.274801 (1.531929) with: {'model__activation': 'relu', 'model__batch_size': 32, 'model__dropout_rate': 0.0, 'model__epochs': 100, 'model__learning_rate': 0.01, 'model__n_layers': 2, 'model__n_units': 32}\n",
      "-14.227714 (4.380464) with: {'model__activation': 'relu', 'model__batch_size': 32, 'model__dropout_rate': 0.0, 'model__epochs': 100, 'model__learning_rate': 0.01, 'model__n_layers': 2, 'model__n_units': 64}\n",
      "-11.491346 (5.104990) with: {'model__activation': 'relu', 'model__batch_size': 32, 'model__dropout_rate': 0.0, 'model__epochs': 100, 'model__learning_rate': 0.01, 'model__n_layers': 3, 'model__n_units': 32}\n",
      "-8.580876 (2.710648) with: {'model__activation': 'relu', 'model__batch_size': 32, 'model__dropout_rate': 0.0, 'model__epochs': 100, 'model__learning_rate': 0.01, 'model__n_layers': 3, 'model__n_units': 64}\n",
      "-14.796630 (6.454914) with: {'model__activation': 'relu', 'model__batch_size': 32, 'model__dropout_rate': 0.0, 'model__epochs': 100, 'model__learning_rate': 0.1, 'model__n_layers': 1, 'model__n_units': 32}\n",
      "-18.129036 (2.915021) with: {'model__activation': 'relu', 'model__batch_size': 32, 'model__dropout_rate': 0.0, 'model__epochs': 100, 'model__learning_rate': 0.1, 'model__n_layers': 1, 'model__n_units': 64}\n",
      "-18.647578 (4.432205) with: {'model__activation': 'relu', 'model__batch_size': 32, 'model__dropout_rate': 0.0, 'model__epochs': 100, 'model__learning_rate': 0.1, 'model__n_layers': 2, 'model__n_units': 32}\n",
      "-6.922642 (5.290827) with: {'model__activation': 'relu', 'model__batch_size': 32, 'model__dropout_rate': 0.0, 'model__epochs': 100, 'model__learning_rate': 0.1, 'model__n_layers': 2, 'model__n_units': 64}\n",
      "-12.135121 (7.242960) with: {'model__activation': 'relu', 'model__batch_size': 32, 'model__dropout_rate': 0.0, 'model__epochs': 100, 'model__learning_rate': 0.1, 'model__n_layers': 3, 'model__n_units': 32}\n",
      "-19.917671 (3.067250) with: {'model__activation': 'relu', 'model__batch_size': 32, 'model__dropout_rate': 0.0, 'model__epochs': 100, 'model__learning_rate': 0.1, 'model__n_layers': 3, 'model__n_units': 64}\n",
      "-20.883549 (3.928475) with: {'model__activation': 'relu', 'model__batch_size': 32, 'model__dropout_rate': 0.1, 'model__epochs': 100, 'model__learning_rate': 0.001, 'model__n_layers': 1, 'model__n_units': 32}\n",
      "-20.838895 (7.694058) with: {'model__activation': 'relu', 'model__batch_size': 32, 'model__dropout_rate': 0.1, 'model__epochs': 100, 'model__learning_rate': 0.001, 'model__n_layers': 1, 'model__n_units': 64}\n",
      "-20.344241 (4.201389) with: {'model__activation': 'relu', 'model__batch_size': 32, 'model__dropout_rate': 0.1, 'model__epochs': 100, 'model__learning_rate': 0.001, 'model__n_layers': 2, 'model__n_units': 32}\n",
      "-24.516864 (16.129353) with: {'model__activation': 'relu', 'model__batch_size': 32, 'model__dropout_rate': 0.1, 'model__epochs': 100, 'model__learning_rate': 0.001, 'model__n_layers': 2, 'model__n_units': 64}\n",
      "-13.793478 (1.827070) with: {'model__activation': 'relu', 'model__batch_size': 32, 'model__dropout_rate': 0.1, 'model__epochs': 100, 'model__learning_rate': 0.001, 'model__n_layers': 3, 'model__n_units': 32}\n",
      "-15.919978 (9.661198) with: {'model__activation': 'relu', 'model__batch_size': 32, 'model__dropout_rate': 0.1, 'model__epochs': 100, 'model__learning_rate': 0.001, 'model__n_layers': 3, 'model__n_units': 64}\n",
      "-16.438336 (3.514618) with: {'model__activation': 'relu', 'model__batch_size': 32, 'model__dropout_rate': 0.1, 'model__epochs': 100, 'model__learning_rate': 0.01, 'model__n_layers': 1, 'model__n_units': 32}\n",
      "-14.103953 (0.909816) with: {'model__activation': 'relu', 'model__batch_size': 32, 'model__dropout_rate': 0.1, 'model__epochs': 100, 'model__learning_rate': 0.01, 'model__n_layers': 1, 'model__n_units': 64}\n",
      "-12.661304 (5.196334) with: {'model__activation': 'relu', 'model__batch_size': 32, 'model__dropout_rate': 0.1, 'model__epochs': 100, 'model__learning_rate': 0.01, 'model__n_layers': 2, 'model__n_units': 32}\n",
      "-9.121610 (3.286114) with: {'model__activation': 'relu', 'model__batch_size': 32, 'model__dropout_rate': 0.1, 'model__epochs': 100, 'model__learning_rate': 0.01, 'model__n_layers': 2, 'model__n_units': 64}\n",
      "-4.943132 (2.677672) with: {'model__activation': 'relu', 'model__batch_size': 32, 'model__dropout_rate': 0.1, 'model__epochs': 100, 'model__learning_rate': 0.01, 'model__n_layers': 3, 'model__n_units': 32}\n",
      "-4.088782 (2.669221) with: {'model__activation': 'relu', 'model__batch_size': 32, 'model__dropout_rate': 0.1, 'model__epochs': 100, 'model__learning_rate': 0.01, 'model__n_layers': 3, 'model__n_units': 64}\n",
      "-12.200885 (1.375668) with: {'model__activation': 'relu', 'model__batch_size': 32, 'model__dropout_rate': 0.1, 'model__epochs': 100, 'model__learning_rate': 0.1, 'model__n_layers': 1, 'model__n_units': 32}\n",
      "-17.783173 (3.762815) with: {'model__activation': 'relu', 'model__batch_size': 32, 'model__dropout_rate': 0.1, 'model__epochs': 100, 'model__learning_rate': 0.1, 'model__n_layers': 1, 'model__n_units': 64}\n",
      "-12.195705 (3.871930) with: {'model__activation': 'relu', 'model__batch_size': 32, 'model__dropout_rate': 0.1, 'model__epochs': 100, 'model__learning_rate': 0.1, 'model__n_layers': 2, 'model__n_units': 32}\n",
      "-6.555313 (1.434763) with: {'model__activation': 'relu', 'model__batch_size': 32, 'model__dropout_rate': 0.1, 'model__epochs': 100, 'model__learning_rate': 0.1, 'model__n_layers': 2, 'model__n_units': 64}\n",
      "-4.167228 (2.174747) with: {'model__activation': 'relu', 'model__batch_size': 32, 'model__dropout_rate': 0.1, 'model__epochs': 100, 'model__learning_rate': 0.1, 'model__n_layers': 3, 'model__n_units': 32}\n",
      "-14.940401 (8.212829) with: {'model__activation': 'relu', 'model__batch_size': 32, 'model__dropout_rate': 0.1, 'model__epochs': 100, 'model__learning_rate': 0.1, 'model__n_layers': 3, 'model__n_units': 64}\n",
      "-24.487728 (8.198027) with: {'model__activation': 'swish', 'model__batch_size': 32, 'model__dropout_rate': 0.0, 'model__epochs': 100, 'model__learning_rate': 0.001, 'model__n_layers': 1, 'model__n_units': 32}\n",
      "-26.685198 (6.668304) with: {'model__activation': 'swish', 'model__batch_size': 32, 'model__dropout_rate': 0.0, 'model__epochs': 100, 'model__learning_rate': 0.001, 'model__n_layers': 1, 'model__n_units': 64}\n",
      "-21.864412 (4.061024) with: {'model__activation': 'swish', 'model__batch_size': 32, 'model__dropout_rate': 0.0, 'model__epochs': 100, 'model__learning_rate': 0.001, 'model__n_layers': 2, 'model__n_units': 32}\n",
      "-20.161545 (7.005926) with: {'model__activation': 'swish', 'model__batch_size': 32, 'model__dropout_rate': 0.0, 'model__epochs': 100, 'model__learning_rate': 0.001, 'model__n_layers': 2, 'model__n_units': 64}\n",
      "-21.498265 (8.081833) with: {'model__activation': 'swish', 'model__batch_size': 32, 'model__dropout_rate': 0.0, 'model__epochs': 100, 'model__learning_rate': 0.001, 'model__n_layers': 3, 'model__n_units': 32}\n",
      "-14.429465 (5.843259) with: {'model__activation': 'swish', 'model__batch_size': 32, 'model__dropout_rate': 0.0, 'model__epochs': 100, 'model__learning_rate': 0.001, 'model__n_layers': 3, 'model__n_units': 64}\n",
      "-21.377699 (5.440741) with: {'model__activation': 'swish', 'model__batch_size': 32, 'model__dropout_rate': 0.0, 'model__epochs': 100, 'model__learning_rate': 0.01, 'model__n_layers': 1, 'model__n_units': 32}\n",
      "-20.453552 (7.829046) with: {'model__activation': 'swish', 'model__batch_size': 32, 'model__dropout_rate': 0.0, 'model__epochs': 100, 'model__learning_rate': 0.01, 'model__n_layers': 1, 'model__n_units': 64}\n",
      "-13.668047 (4.265711) with: {'model__activation': 'swish', 'model__batch_size': 32, 'model__dropout_rate': 0.0, 'model__epochs': 100, 'model__learning_rate': 0.01, 'model__n_layers': 2, 'model__n_units': 32}\n",
      "-16.910034 (7.180331) with: {'model__activation': 'swish', 'model__batch_size': 32, 'model__dropout_rate': 0.0, 'model__epochs': 100, 'model__learning_rate': 0.01, 'model__n_layers': 2, 'model__n_units': 64}\n",
      "-11.605093 (2.553267) with: {'model__activation': 'swish', 'model__batch_size': 32, 'model__dropout_rate': 0.0, 'model__epochs': 100, 'model__learning_rate': 0.01, 'model__n_layers': 3, 'model__n_units': 32}\n",
      "-4.209771 (1.407165) with: {'model__activation': 'swish', 'model__batch_size': 32, 'model__dropout_rate': 0.0, 'model__epochs': 100, 'model__learning_rate': 0.01, 'model__n_layers': 3, 'model__n_units': 64}\n",
      "-16.881112 (1.487488) with: {'model__activation': 'swish', 'model__batch_size': 32, 'model__dropout_rate': 0.0, 'model__epochs': 100, 'model__learning_rate': 0.1, 'model__n_layers': 1, 'model__n_units': 32}\n",
      "-17.203710 (6.650406) with: {'model__activation': 'swish', 'model__batch_size': 32, 'model__dropout_rate': 0.0, 'model__epochs': 100, 'model__learning_rate': 0.1, 'model__n_layers': 1, 'model__n_units': 64}\n",
      "-15.651779 (5.087373) with: {'model__activation': 'swish', 'model__batch_size': 32, 'model__dropout_rate': 0.0, 'model__epochs': 100, 'model__learning_rate': 0.1, 'model__n_layers': 2, 'model__n_units': 32}\n",
      "-26.824949 (11.229550) with: {'model__activation': 'swish', 'model__batch_size': 32, 'model__dropout_rate': 0.0, 'model__epochs': 100, 'model__learning_rate': 0.1, 'model__n_layers': 2, 'model__n_units': 64}\n",
      "-10.371967 (6.527997) with: {'model__activation': 'swish', 'model__batch_size': 32, 'model__dropout_rate': 0.0, 'model__epochs': 100, 'model__learning_rate': 0.1, 'model__n_layers': 3, 'model__n_units': 32}\n",
      "-977.422460 (1371.266917) with: {'model__activation': 'swish', 'model__batch_size': 32, 'model__dropout_rate': 0.0, 'model__epochs': 100, 'model__learning_rate': 0.1, 'model__n_layers': 3, 'model__n_units': 64}\n",
      "-27.741955 (2.842382) with: {'model__activation': 'swish', 'model__batch_size': 32, 'model__dropout_rate': 0.1, 'model__epochs': 100, 'model__learning_rate': 0.001, 'model__n_layers': 1, 'model__n_units': 32}\n",
      "-25.935170 (7.339971) with: {'model__activation': 'swish', 'model__batch_size': 32, 'model__dropout_rate': 0.1, 'model__epochs': 100, 'model__learning_rate': 0.001, 'model__n_layers': 1, 'model__n_units': 64}\n",
      "-24.304597 (6.591172) with: {'model__activation': 'swish', 'model__batch_size': 32, 'model__dropout_rate': 0.1, 'model__epochs': 100, 'model__learning_rate': 0.001, 'model__n_layers': 2, 'model__n_units': 32}\n",
      "-19.437681 (3.520611) with: {'model__activation': 'swish', 'model__batch_size': 32, 'model__dropout_rate': 0.1, 'model__epochs': 100, 'model__learning_rate': 0.001, 'model__n_layers': 2, 'model__n_units': 64}\n",
      "-19.602729 (9.428141) with: {'model__activation': 'swish', 'model__batch_size': 32, 'model__dropout_rate': 0.1, 'model__epochs': 100, 'model__learning_rate': 0.001, 'model__n_layers': 3, 'model__n_units': 32}\n",
      "-12.945670 (6.730340) with: {'model__activation': 'swish', 'model__batch_size': 32, 'model__dropout_rate': 0.1, 'model__epochs': 100, 'model__learning_rate': 0.001, 'model__n_layers': 3, 'model__n_units': 64}\n",
      "-20.561947 (10.032699) with: {'model__activation': 'swish', 'model__batch_size': 32, 'model__dropout_rate': 0.1, 'model__epochs': 100, 'model__learning_rate': 0.01, 'model__n_layers': 1, 'model__n_units': 32}\n",
      "-20.350785 (9.540274) with: {'model__activation': 'swish', 'model__batch_size': 32, 'model__dropout_rate': 0.1, 'model__epochs': 100, 'model__learning_rate': 0.01, 'model__n_layers': 1, 'model__n_units': 64}\n",
      "-9.978429 (3.818892) with: {'model__activation': 'swish', 'model__batch_size': 32, 'model__dropout_rate': 0.1, 'model__epochs': 100, 'model__learning_rate': 0.01, 'model__n_layers': 2, 'model__n_units': 32}\n",
      "-8.596708 (4.583134) with: {'model__activation': 'swish', 'model__batch_size': 32, 'model__dropout_rate': 0.1, 'model__epochs': 100, 'model__learning_rate': 0.01, 'model__n_layers': 2, 'model__n_units': 64}\n",
      "-4.583520 (2.690899) with: {'model__activation': 'swish', 'model__batch_size': 32, 'model__dropout_rate': 0.1, 'model__epochs': 100, 'model__learning_rate': 0.01, 'model__n_layers': 3, 'model__n_units': 32}\n",
      "-3.496527 (0.699090) with: {'model__activation': 'swish', 'model__batch_size': 32, 'model__dropout_rate': 0.1, 'model__epochs': 100, 'model__learning_rate': 0.01, 'model__n_layers': 3, 'model__n_units': 64}\n",
      "-10.761797 (4.806028) with: {'model__activation': 'swish', 'model__batch_size': 32, 'model__dropout_rate': 0.1, 'model__epochs': 100, 'model__learning_rate': 0.1, 'model__n_layers': 1, 'model__n_units': 32}\n",
      "-17.279759 (4.141178) with: {'model__activation': 'swish', 'model__batch_size': 32, 'model__dropout_rate': 0.1, 'model__epochs': 100, 'model__learning_rate': 0.1, 'model__n_layers': 1, 'model__n_units': 64}\n",
      "-17.409954 (10.436195) with: {'model__activation': 'swish', 'model__batch_size': 32, 'model__dropout_rate': 0.1, 'model__epochs': 100, 'model__learning_rate': 0.1, 'model__n_layers': 2, 'model__n_units': 32}\n",
      "-22.676845 (22.104566) with: {'model__activation': 'swish', 'model__batch_size': 32, 'model__dropout_rate': 0.1, 'model__epochs': 100, 'model__learning_rate': 0.1, 'model__n_layers': 2, 'model__n_units': 64}\n",
      "-13.081537 (7.378926) with: {'model__activation': 'swish', 'model__batch_size': 32, 'model__dropout_rate': 0.1, 'model__epochs': 100, 'model__learning_rate': 0.1, 'model__n_layers': 3, 'model__n_units': 32}\n",
      "-8.253007 (4.147015) with: {'model__activation': 'swish', 'model__batch_size': 32, 'model__dropout_rate': 0.1, 'model__epochs': 100, 'model__learning_rate': 0.1, 'model__n_layers': 3, 'model__n_units': 64}\n",
      "\n",
      "Minutes Elapsed:  5.445440045992533\n"
     ]
    }
   ],
   "source": [
    "df = df_r3d_only.copy()\n",
    "columns = list(df.columns.drop(['R28D']))\n",
    "columns.append('R28D')\n",
    "df = df.reindex(columns=columns)\n",
    "df = df.drop(['Data/Hora'], axis=1)\n",
    "x, y = split_sequences(df.values, TIME_STEPS)\n",
    "\n",
    "start = time.time()\n",
    "gridcv2 = make_grid_search(x, y)\n",
    "end = time.time()\n",
    "print(\"\\nMinutes Elapsed: \", (end - start)/60)"
   ]
  },
  {
   "cell_type": "code",
   "execution_count": 28,
   "metadata": {},
   "outputs": [
    {
     "data": {
      "text/plain": [
       "{'model__activation': 'tanh',\n",
       " 'model__batch_size': 32,\n",
       " 'model__dropout_rate': 0.0,\n",
       " 'model__epochs': 100,\n",
       " 'model__learning_rate': 0.01,\n",
       " 'model__n_layers': 3,\n",
       " 'model__n_units': 32}"
      ]
     },
     "execution_count": 28,
     "metadata": {},
     "output_type": "execute_result"
    }
   ],
   "source": [
    "gridcv2.best_params_"
   ]
  },
  {
   "cell_type": "markdown",
   "metadata": {},
   "source": [
    "<h3>GridCV 3</h3>\n",
    "\n",
    "<b>Dataset: df_r3d_and_r7d:</b> In this dataset R3D and R7D are considered."
   ]
  },
  {
   "cell_type": "code",
   "execution_count": 29,
   "metadata": {},
   "outputs": [
    {
     "name": "stderr",
     "output_type": "stream",
     "text": [
      "/tmp/ipykernel_715779/3700414713.py:18: DeprecationWarning: KerasRegressor is deprecated, use Sci-Keras (https://github.com/adriangb/scikeras) instead.\n",
      "  model = KerasRegressor(build_fn=create_keras_model, epochs=30, batch_size=32, verbose=0)\n"
     ]
    },
    {
     "name": "stdout",
     "output_type": "stream",
     "text": [
      "Best: -1.681352 using {'model__activation': 'tanh', 'model__batch_size': 32, 'model__dropout_rate': 0.1, 'model__epochs': 100, 'model__learning_rate': 0.1, 'model__n_layers': 3, 'model__n_units': 32}\n",
      "\n",
      "-13.106613 (1.273860) with: {'model__activation': 'tanh', 'model__batch_size': 32, 'model__dropout_rate': 0.0, 'model__epochs': 100, 'model__learning_rate': 0.001, 'model__n_layers': 1, 'model__n_units': 32}\n",
      "-6.454866 (5.977436) with: {'model__activation': 'tanh', 'model__batch_size': 32, 'model__dropout_rate': 0.0, 'model__epochs': 100, 'model__learning_rate': 0.001, 'model__n_layers': 1, 'model__n_units': 64}\n",
      "-15.686347 (3.453194) with: {'model__activation': 'tanh', 'model__batch_size': 32, 'model__dropout_rate': 0.0, 'model__epochs': 100, 'model__learning_rate': 0.001, 'model__n_layers': 2, 'model__n_units': 32}\n",
      "-2.959708 (1.778980) with: {'model__activation': 'tanh', 'model__batch_size': 32, 'model__dropout_rate': 0.0, 'model__epochs': 100, 'model__learning_rate': 0.001, 'model__n_layers': 2, 'model__n_units': 64}\n",
      "-15.023436 (2.569409) with: {'model__activation': 'tanh', 'model__batch_size': 32, 'model__dropout_rate': 0.0, 'model__epochs': 100, 'model__learning_rate': 0.001, 'model__n_layers': 3, 'model__n_units': 32}\n",
      "-2.243204 (0.586562) with: {'model__activation': 'tanh', 'model__batch_size': 32, 'model__dropout_rate': 0.0, 'model__epochs': 100, 'model__learning_rate': 0.001, 'model__n_layers': 3, 'model__n_units': 64}\n",
      "-8.671378 (7.894450) with: {'model__activation': 'tanh', 'model__batch_size': 32, 'model__dropout_rate': 0.0, 'model__epochs': 100, 'model__learning_rate': 0.01, 'model__n_layers': 1, 'model__n_units': 32}\n",
      "-9.917069 (10.182852) with: {'model__activation': 'tanh', 'model__batch_size': 32, 'model__dropout_rate': 0.0, 'model__epochs': 100, 'model__learning_rate': 0.01, 'model__n_layers': 1, 'model__n_units': 64}\n",
      "-6.465954 (4.780956) with: {'model__activation': 'tanh', 'model__batch_size': 32, 'model__dropout_rate': 0.0, 'model__epochs': 100, 'model__learning_rate': 0.01, 'model__n_layers': 2, 'model__n_units': 32}\n",
      "-6.363256 (6.409636) with: {'model__activation': 'tanh', 'model__batch_size': 32, 'model__dropout_rate': 0.0, 'model__epochs': 100, 'model__learning_rate': 0.01, 'model__n_layers': 2, 'model__n_units': 64}\n",
      "-1.830539 (0.278382) with: {'model__activation': 'tanh', 'model__batch_size': 32, 'model__dropout_rate': 0.0, 'model__epochs': 100, 'model__learning_rate': 0.01, 'model__n_layers': 3, 'model__n_units': 32}\n",
      "-1.761093 (0.189279) with: {'model__activation': 'tanh', 'model__batch_size': 32, 'model__dropout_rate': 0.0, 'model__epochs': 100, 'model__learning_rate': 0.01, 'model__n_layers': 3, 'model__n_units': 64}\n",
      "-10.139384 (5.677732) with: {'model__activation': 'tanh', 'model__batch_size': 32, 'model__dropout_rate': 0.0, 'model__epochs': 100, 'model__learning_rate': 0.1, 'model__n_layers': 1, 'model__n_units': 32}\n",
      "-12.037592 (8.292917) with: {'model__activation': 'tanh', 'model__batch_size': 32, 'model__dropout_rate': 0.0, 'model__epochs': 100, 'model__learning_rate': 0.1, 'model__n_layers': 1, 'model__n_units': 64}\n",
      "-2.278886 (0.487875) with: {'model__activation': 'tanh', 'model__batch_size': 32, 'model__dropout_rate': 0.0, 'model__epochs': 100, 'model__learning_rate': 0.1, 'model__n_layers': 2, 'model__n_units': 32}\n",
      "-3.362966 (1.629102) with: {'model__activation': 'tanh', 'model__batch_size': 32, 'model__dropout_rate': 0.0, 'model__epochs': 100, 'model__learning_rate': 0.1, 'model__n_layers': 2, 'model__n_units': 64}\n",
      "-4.277894 (2.202296) with: {'model__activation': 'tanh', 'model__batch_size': 32, 'model__dropout_rate': 0.0, 'model__epochs': 100, 'model__learning_rate': 0.1, 'model__n_layers': 3, 'model__n_units': 32}\n",
      "-3.330655 (1.273253) with: {'model__activation': 'tanh', 'model__batch_size': 32, 'model__dropout_rate': 0.0, 'model__epochs': 100, 'model__learning_rate': 0.1, 'model__n_layers': 3, 'model__n_units': 64}\n",
      "-13.235216 (1.881423) with: {'model__activation': 'tanh', 'model__batch_size': 32, 'model__dropout_rate': 0.1, 'model__epochs': 100, 'model__learning_rate': 0.001, 'model__n_layers': 1, 'model__n_units': 32}\n",
      "-5.256264 (4.437712) with: {'model__activation': 'tanh', 'model__batch_size': 32, 'model__dropout_rate': 0.1, 'model__epochs': 100, 'model__learning_rate': 0.001, 'model__n_layers': 1, 'model__n_units': 64}\n",
      "-14.273570 (1.471294) with: {'model__activation': 'tanh', 'model__batch_size': 32, 'model__dropout_rate': 0.1, 'model__epochs': 100, 'model__learning_rate': 0.001, 'model__n_layers': 2, 'model__n_units': 32}\n",
      "-3.292376 (2.270037) with: {'model__activation': 'tanh', 'model__batch_size': 32, 'model__dropout_rate': 0.1, 'model__epochs': 100, 'model__learning_rate': 0.001, 'model__n_layers': 2, 'model__n_units': 64}\n",
      "-14.130149 (1.468664) with: {'model__activation': 'tanh', 'model__batch_size': 32, 'model__dropout_rate': 0.1, 'model__epochs': 100, 'model__learning_rate': 0.001, 'model__n_layers': 3, 'model__n_units': 32}\n",
      "-2.442305 (0.522562) with: {'model__activation': 'tanh', 'model__batch_size': 32, 'model__dropout_rate': 0.1, 'model__epochs': 100, 'model__learning_rate': 0.001, 'model__n_layers': 3, 'model__n_units': 64}\n",
      "-8.341407 (8.234431) with: {'model__activation': 'tanh', 'model__batch_size': 32, 'model__dropout_rate': 0.1, 'model__epochs': 100, 'model__learning_rate': 0.01, 'model__n_layers': 1, 'model__n_units': 32}\n",
      "-9.303449 (9.020926) with: {'model__activation': 'tanh', 'model__batch_size': 32, 'model__dropout_rate': 0.1, 'model__epochs': 100, 'model__learning_rate': 0.01, 'model__n_layers': 1, 'model__n_units': 64}\n",
      "-1.986282 (0.328016) with: {'model__activation': 'tanh', 'model__batch_size': 32, 'model__dropout_rate': 0.1, 'model__epochs': 100, 'model__learning_rate': 0.01, 'model__n_layers': 2, 'model__n_units': 32}\n",
      "-2.114678 (0.198096) with: {'model__activation': 'tanh', 'model__batch_size': 32, 'model__dropout_rate': 0.1, 'model__epochs': 100, 'model__learning_rate': 0.01, 'model__n_layers': 2, 'model__n_units': 64}\n",
      "-1.772053 (0.263189) with: {'model__activation': 'tanh', 'model__batch_size': 32, 'model__dropout_rate': 0.1, 'model__epochs': 100, 'model__learning_rate': 0.01, 'model__n_layers': 3, 'model__n_units': 32}\n",
      "-1.857096 (0.276818) with: {'model__activation': 'tanh', 'model__batch_size': 32, 'model__dropout_rate': 0.1, 'model__epochs': 100, 'model__learning_rate': 0.01, 'model__n_layers': 3, 'model__n_units': 64}\n",
      "-9.321803 (4.606258) with: {'model__activation': 'tanh', 'model__batch_size': 32, 'model__dropout_rate': 0.1, 'model__epochs': 100, 'model__learning_rate': 0.1, 'model__n_layers': 1, 'model__n_units': 32}\n",
      "-9.255008 (5.680634) with: {'model__activation': 'tanh', 'model__batch_size': 32, 'model__dropout_rate': 0.1, 'model__epochs': 100, 'model__learning_rate': 0.1, 'model__n_layers': 1, 'model__n_units': 64}\n",
      "-6.726300 (6.795571) with: {'model__activation': 'tanh', 'model__batch_size': 32, 'model__dropout_rate': 0.1, 'model__epochs': 100, 'model__learning_rate': 0.1, 'model__n_layers': 2, 'model__n_units': 32}\n",
      "-6.326729 (6.220705) with: {'model__activation': 'tanh', 'model__batch_size': 32, 'model__dropout_rate': 0.1, 'model__epochs': 100, 'model__learning_rate': 0.1, 'model__n_layers': 2, 'model__n_units': 64}\n",
      "-1.681352 (0.151327) with: {'model__activation': 'tanh', 'model__batch_size': 32, 'model__dropout_rate': 0.1, 'model__epochs': 100, 'model__learning_rate': 0.1, 'model__n_layers': 3, 'model__n_units': 32}\n",
      "-5.455662 (5.063212) with: {'model__activation': 'tanh', 'model__batch_size': 32, 'model__dropout_rate': 0.1, 'model__epochs': 100, 'model__learning_rate': 0.1, 'model__n_layers': 3, 'model__n_units': 64}\n",
      "-21.906413 (4.680435) with: {'model__activation': 'relu', 'model__batch_size': 32, 'model__dropout_rate': 0.0, 'model__epochs': 100, 'model__learning_rate': 0.001, 'model__n_layers': 1, 'model__n_units': 32}\n",
      "-19.632330 (3.559828) with: {'model__activation': 'relu', 'model__batch_size': 32, 'model__dropout_rate': 0.0, 'model__epochs': 100, 'model__learning_rate': 0.001, 'model__n_layers': 1, 'model__n_units': 64}\n",
      "-17.582685 (1.318643) with: {'model__activation': 'relu', 'model__batch_size': 32, 'model__dropout_rate': 0.0, 'model__epochs': 100, 'model__learning_rate': 0.001, 'model__n_layers': 2, 'model__n_units': 32}\n",
      "-25.092384 (17.011082) with: {'model__activation': 'relu', 'model__batch_size': 32, 'model__dropout_rate': 0.0, 'model__epochs': 100, 'model__learning_rate': 0.001, 'model__n_layers': 2, 'model__n_units': 64}\n",
      "-16.356325 (5.706991) with: {'model__activation': 'relu', 'model__batch_size': 32, 'model__dropout_rate': 0.0, 'model__epochs': 100, 'model__learning_rate': 0.001, 'model__n_layers': 3, 'model__n_units': 32}\n",
      "-15.290591 (7.334131) with: {'model__activation': 'relu', 'model__batch_size': 32, 'model__dropout_rate': 0.0, 'model__epochs': 100, 'model__learning_rate': 0.001, 'model__n_layers': 3, 'model__n_units': 64}\n",
      "-19.257340 (3.815857) with: {'model__activation': 'relu', 'model__batch_size': 32, 'model__dropout_rate': 0.0, 'model__epochs': 100, 'model__learning_rate': 0.01, 'model__n_layers': 1, 'model__n_units': 32}\n",
      "-17.194508 (4.801415) with: {'model__activation': 'relu', 'model__batch_size': 32, 'model__dropout_rate': 0.0, 'model__epochs': 100, 'model__learning_rate': 0.01, 'model__n_layers': 1, 'model__n_units': 64}\n",
      "-17.537371 (4.043137) with: {'model__activation': 'relu', 'model__batch_size': 32, 'model__dropout_rate': 0.0, 'model__epochs': 100, 'model__learning_rate': 0.01, 'model__n_layers': 2, 'model__n_units': 32}\n",
      "-13.751231 (0.397557) with: {'model__activation': 'relu', 'model__batch_size': 32, 'model__dropout_rate': 0.0, 'model__epochs': 100, 'model__learning_rate': 0.01, 'model__n_layers': 2, 'model__n_units': 64}\n",
      "-10.199575 (4.333063) with: {'model__activation': 'relu', 'model__batch_size': 32, 'model__dropout_rate': 0.0, 'model__epochs': 100, 'model__learning_rate': 0.01, 'model__n_layers': 3, 'model__n_units': 32}\n",
      "-9.056202 (4.374824) with: {'model__activation': 'relu', 'model__batch_size': 32, 'model__dropout_rate': 0.0, 'model__epochs': 100, 'model__learning_rate': 0.01, 'model__n_layers': 3, 'model__n_units': 64}\n",
      "-22.257555 (3.434447) with: {'model__activation': 'relu', 'model__batch_size': 32, 'model__dropout_rate': 0.0, 'model__epochs': 100, 'model__learning_rate': 0.1, 'model__n_layers': 1, 'model__n_units': 32}\n",
      "-18.086040 (1.371405) with: {'model__activation': 'relu', 'model__batch_size': 32, 'model__dropout_rate': 0.0, 'model__epochs': 100, 'model__learning_rate': 0.1, 'model__n_layers': 1, 'model__n_units': 64}\n",
      "-18.984630 (2.395507) with: {'model__activation': 'relu', 'model__batch_size': 32, 'model__dropout_rate': 0.0, 'model__epochs': 100, 'model__learning_rate': 0.1, 'model__n_layers': 2, 'model__n_units': 32}\n",
      "-4.873078 (2.132790) with: {'model__activation': 'relu', 'model__batch_size': 32, 'model__dropout_rate': 0.0, 'model__epochs': 100, 'model__learning_rate': 0.1, 'model__n_layers': 2, 'model__n_units': 64}\n",
      "-10.284557 (4.245039) with: {'model__activation': 'relu', 'model__batch_size': 32, 'model__dropout_rate': 0.0, 'model__epochs': 100, 'model__learning_rate': 0.1, 'model__n_layers': 3, 'model__n_units': 32}\n",
      "-5.125769 (4.320046) with: {'model__activation': 'relu', 'model__batch_size': 32, 'model__dropout_rate': 0.0, 'model__epochs': 100, 'model__learning_rate': 0.1, 'model__n_layers': 3, 'model__n_units': 64}\n",
      "-24.131791 (8.421596) with: {'model__activation': 'relu', 'model__batch_size': 32, 'model__dropout_rate': 0.1, 'model__epochs': 100, 'model__learning_rate': 0.001, 'model__n_layers': 1, 'model__n_units': 32}\n",
      "-23.209762 (7.912050) with: {'model__activation': 'relu', 'model__batch_size': 32, 'model__dropout_rate': 0.1, 'model__epochs': 100, 'model__learning_rate': 0.001, 'model__n_layers': 1, 'model__n_units': 64}\n",
      "-18.181304 (4.044547) with: {'model__activation': 'relu', 'model__batch_size': 32, 'model__dropout_rate': 0.1, 'model__epochs': 100, 'model__learning_rate': 0.001, 'model__n_layers': 2, 'model__n_units': 32}\n",
      "-15.597725 (0.680070) with: {'model__activation': 'relu', 'model__batch_size': 32, 'model__dropout_rate': 0.1, 'model__epochs': 100, 'model__learning_rate': 0.001, 'model__n_layers': 2, 'model__n_units': 64}\n",
      "-13.350363 (3.939466) with: {'model__activation': 'relu', 'model__batch_size': 32, 'model__dropout_rate': 0.1, 'model__epochs': 100, 'model__learning_rate': 0.001, 'model__n_layers': 3, 'model__n_units': 32}\n",
      "-10.239524 (2.461076) with: {'model__activation': 'relu', 'model__batch_size': 32, 'model__dropout_rate': 0.1, 'model__epochs': 100, 'model__learning_rate': 0.001, 'model__n_layers': 3, 'model__n_units': 64}\n",
      "-18.355397 (6.714912) with: {'model__activation': 'relu', 'model__batch_size': 32, 'model__dropout_rate': 0.1, 'model__epochs': 100, 'model__learning_rate': 0.01, 'model__n_layers': 1, 'model__n_units': 32}\n",
      "-16.795709 (3.219027) with: {'model__activation': 'relu', 'model__batch_size': 32, 'model__dropout_rate': 0.1, 'model__epochs': 100, 'model__learning_rate': 0.01, 'model__n_layers': 1, 'model__n_units': 64}\n",
      "-7.286500 (2.199602) with: {'model__activation': 'relu', 'model__batch_size': 32, 'model__dropout_rate': 0.1, 'model__epochs': 100, 'model__learning_rate': 0.01, 'model__n_layers': 2, 'model__n_units': 32}\n",
      "-9.541288 (1.968617) with: {'model__activation': 'relu', 'model__batch_size': 32, 'model__dropout_rate': 0.1, 'model__epochs': 100, 'model__learning_rate': 0.01, 'model__n_layers': 2, 'model__n_units': 64}\n",
      "-3.572945 (1.731543) with: {'model__activation': 'relu', 'model__batch_size': 32, 'model__dropout_rate': 0.1, 'model__epochs': 100, 'model__learning_rate': 0.01, 'model__n_layers': 3, 'model__n_units': 32}\n",
      "-4.648030 (1.898561) with: {'model__activation': 'relu', 'model__batch_size': 32, 'model__dropout_rate': 0.1, 'model__epochs': 100, 'model__learning_rate': 0.01, 'model__n_layers': 3, 'model__n_units': 64}\n",
      "-16.697537 (4.335976) with: {'model__activation': 'relu', 'model__batch_size': 32, 'model__dropout_rate': 0.1, 'model__epochs': 100, 'model__learning_rate': 0.1, 'model__n_layers': 1, 'model__n_units': 32}\n",
      "-16.005160 (2.558529) with: {'model__activation': 'relu', 'model__batch_size': 32, 'model__dropout_rate': 0.1, 'model__epochs': 100, 'model__learning_rate': 0.1, 'model__n_layers': 1, 'model__n_units': 64}\n",
      "-4.307822 (1.816173) with: {'model__activation': 'relu', 'model__batch_size': 32, 'model__dropout_rate': 0.1, 'model__epochs': 100, 'model__learning_rate': 0.1, 'model__n_layers': 2, 'model__n_units': 32}\n",
      "-6.443900 (4.160907) with: {'model__activation': 'relu', 'model__batch_size': 32, 'model__dropout_rate': 0.1, 'model__epochs': 100, 'model__learning_rate': 0.1, 'model__n_layers': 2, 'model__n_units': 64}\n",
      "-2.211319 (0.384419) with: {'model__activation': 'relu', 'model__batch_size': 32, 'model__dropout_rate': 0.1, 'model__epochs': 100, 'model__learning_rate': 0.1, 'model__n_layers': 3, 'model__n_units': 32}\n",
      "-3.409443 (1.314755) with: {'model__activation': 'relu', 'model__batch_size': 32, 'model__dropout_rate': 0.1, 'model__epochs': 100, 'model__learning_rate': 0.1, 'model__n_layers': 3, 'model__n_units': 64}\n",
      "-28.338718 (6.332910) with: {'model__activation': 'swish', 'model__batch_size': 32, 'model__dropout_rate': 0.0, 'model__epochs': 100, 'model__learning_rate': 0.001, 'model__n_layers': 1, 'model__n_units': 32}\n",
      "-24.138708 (4.609038) with: {'model__activation': 'swish', 'model__batch_size': 32, 'model__dropout_rate': 0.0, 'model__epochs': 100, 'model__learning_rate': 0.001, 'model__n_layers': 1, 'model__n_units': 64}\n",
      "-22.227734 (4.549091) with: {'model__activation': 'swish', 'model__batch_size': 32, 'model__dropout_rate': 0.0, 'model__epochs': 100, 'model__learning_rate': 0.001, 'model__n_layers': 2, 'model__n_units': 32}\n",
      "-16.351128 (7.185302) with: {'model__activation': 'swish', 'model__batch_size': 32, 'model__dropout_rate': 0.0, 'model__epochs': 100, 'model__learning_rate': 0.001, 'model__n_layers': 2, 'model__n_units': 64}\n",
      "-19.148216 (6.959939) with: {'model__activation': 'swish', 'model__batch_size': 32, 'model__dropout_rate': 0.0, 'model__epochs': 100, 'model__learning_rate': 0.001, 'model__n_layers': 3, 'model__n_units': 32}\n",
      "-19.895159 (9.102808) with: {'model__activation': 'swish', 'model__batch_size': 32, 'model__dropout_rate': 0.0, 'model__epochs': 100, 'model__learning_rate': 0.001, 'model__n_layers': 3, 'model__n_units': 64}\n",
      "-22.253955 (6.905958) with: {'model__activation': 'swish', 'model__batch_size': 32, 'model__dropout_rate': 0.0, 'model__epochs': 100, 'model__learning_rate': 0.01, 'model__n_layers': 1, 'model__n_units': 32}\n",
      "-23.315504 (3.893752) with: {'model__activation': 'swish', 'model__batch_size': 32, 'model__dropout_rate': 0.0, 'model__epochs': 100, 'model__learning_rate': 0.01, 'model__n_layers': 1, 'model__n_units': 64}\n",
      "-20.200851 (7.210743) with: {'model__activation': 'swish', 'model__batch_size': 32, 'model__dropout_rate': 0.0, 'model__epochs': 100, 'model__learning_rate': 0.01, 'model__n_layers': 2, 'model__n_units': 32}\n",
      "-15.352238 (4.793347) with: {'model__activation': 'swish', 'model__batch_size': 32, 'model__dropout_rate': 0.0, 'model__epochs': 100, 'model__learning_rate': 0.01, 'model__n_layers': 2, 'model__n_units': 64}\n",
      "-12.579475 (3.464899) with: {'model__activation': 'swish', 'model__batch_size': 32, 'model__dropout_rate': 0.0, 'model__epochs': 100, 'model__learning_rate': 0.01, 'model__n_layers': 3, 'model__n_units': 32}\n",
      "-6.715690 (1.021078) with: {'model__activation': 'swish', 'model__batch_size': 32, 'model__dropout_rate': 0.0, 'model__epochs': 100, 'model__learning_rate': 0.01, 'model__n_layers': 3, 'model__n_units': 64}\n",
      "-20.278516 (4.747450) with: {'model__activation': 'swish', 'model__batch_size': 32, 'model__dropout_rate': 0.0, 'model__epochs': 100, 'model__learning_rate': 0.1, 'model__n_layers': 1, 'model__n_units': 32}\n",
      "-18.366099 (2.563358) with: {'model__activation': 'swish', 'model__batch_size': 32, 'model__dropout_rate': 0.0, 'model__epochs': 100, 'model__learning_rate': 0.1, 'model__n_layers': 1, 'model__n_units': 64}\n",
      "-16.816015 (3.488245) with: {'model__activation': 'swish', 'model__batch_size': 32, 'model__dropout_rate': 0.0, 'model__epochs': 100, 'model__learning_rate': 0.1, 'model__n_layers': 2, 'model__n_units': 32}\n",
      "-17.196385 (7.868404) with: {'model__activation': 'swish', 'model__batch_size': 32, 'model__dropout_rate': 0.0, 'model__epochs': 100, 'model__learning_rate': 0.1, 'model__n_layers': 2, 'model__n_units': 64}\n",
      "-505.681527 (704.403041) with: {'model__activation': 'swish', 'model__batch_size': 32, 'model__dropout_rate': 0.0, 'model__epochs': 100, 'model__learning_rate': 0.1, 'model__n_layers': 3, 'model__n_units': 32}\n",
      "-22.588946 (6.549934) with: {'model__activation': 'swish', 'model__batch_size': 32, 'model__dropout_rate': 0.0, 'model__epochs': 100, 'model__learning_rate': 0.1, 'model__n_layers': 3, 'model__n_units': 64}\n",
      "-30.745885 (6.722340) with: {'model__activation': 'swish', 'model__batch_size': 32, 'model__dropout_rate': 0.1, 'model__epochs': 100, 'model__learning_rate': 0.001, 'model__n_layers': 1, 'model__n_units': 32}\n",
      "-25.983260 (6.136341) with: {'model__activation': 'swish', 'model__batch_size': 32, 'model__dropout_rate': 0.1, 'model__epochs': 100, 'model__learning_rate': 0.001, 'model__n_layers': 1, 'model__n_units': 64}\n",
      "-23.703455 (5.025083) with: {'model__activation': 'swish', 'model__batch_size': 32, 'model__dropout_rate': 0.1, 'model__epochs': 100, 'model__learning_rate': 0.001, 'model__n_layers': 2, 'model__n_units': 32}\n",
      "-22.174089 (5.504912) with: {'model__activation': 'swish', 'model__batch_size': 32, 'model__dropout_rate': 0.1, 'model__epochs': 100, 'model__learning_rate': 0.001, 'model__n_layers': 2, 'model__n_units': 64}\n",
      "-19.855635 (7.288519) with: {'model__activation': 'swish', 'model__batch_size': 32, 'model__dropout_rate': 0.1, 'model__epochs': 100, 'model__learning_rate': 0.001, 'model__n_layers': 3, 'model__n_units': 32}\n",
      "-16.974998 (6.020779) with: {'model__activation': 'swish', 'model__batch_size': 32, 'model__dropout_rate': 0.1, 'model__epochs': 100, 'model__learning_rate': 0.001, 'model__n_layers': 3, 'model__n_units': 64}\n",
      "-20.304300 (7.477543) with: {'model__activation': 'swish', 'model__batch_size': 32, 'model__dropout_rate': 0.1, 'model__epochs': 100, 'model__learning_rate': 0.01, 'model__n_layers': 1, 'model__n_units': 32}\n",
      "-20.026002 (7.931130) with: {'model__activation': 'swish', 'model__batch_size': 32, 'model__dropout_rate': 0.1, 'model__epochs': 100, 'model__learning_rate': 0.01, 'model__n_layers': 1, 'model__n_units': 64}\n",
      "-12.369491 (6.808894) with: {'model__activation': 'swish', 'model__batch_size': 32, 'model__dropout_rate': 0.1, 'model__epochs': 100, 'model__learning_rate': 0.01, 'model__n_layers': 2, 'model__n_units': 32}\n",
      "-8.615592 (4.251274) with: {'model__activation': 'swish', 'model__batch_size': 32, 'model__dropout_rate': 0.1, 'model__epochs': 100, 'model__learning_rate': 0.01, 'model__n_layers': 2, 'model__n_units': 64}\n",
      "-5.425861 (4.313627) with: {'model__activation': 'swish', 'model__batch_size': 32, 'model__dropout_rate': 0.1, 'model__epochs': 100, 'model__learning_rate': 0.01, 'model__n_layers': 3, 'model__n_units': 32}\n",
      "-4.727561 (2.511303) with: {'model__activation': 'swish', 'model__batch_size': 32, 'model__dropout_rate': 0.1, 'model__epochs': 100, 'model__learning_rate': 0.01, 'model__n_layers': 3, 'model__n_units': 64}\n",
      "-18.020717 (4.220921) with: {'model__activation': 'swish', 'model__batch_size': 32, 'model__dropout_rate': 0.1, 'model__epochs': 100, 'model__learning_rate': 0.1, 'model__n_layers': 1, 'model__n_units': 32}\n",
      "-17.423310 (6.299710) with: {'model__activation': 'swish', 'model__batch_size': 32, 'model__dropout_rate': 0.1, 'model__epochs': 100, 'model__learning_rate': 0.1, 'model__n_layers': 1, 'model__n_units': 64}\n",
      "-14.948678 (4.862510) with: {'model__activation': 'swish', 'model__batch_size': 32, 'model__dropout_rate': 0.1, 'model__epochs': 100, 'model__learning_rate': 0.1, 'model__n_layers': 2, 'model__n_units': 32}\n",
      "-13.804024 (3.250139) with: {'model__activation': 'swish', 'model__batch_size': 32, 'model__dropout_rate': 0.1, 'model__epochs': 100, 'model__learning_rate': 0.1, 'model__n_layers': 2, 'model__n_units': 64}\n",
      "-13.004686 (7.435810) with: {'model__activation': 'swish', 'model__batch_size': 32, 'model__dropout_rate': 0.1, 'model__epochs': 100, 'model__learning_rate': 0.1, 'model__n_layers': 3, 'model__n_units': 32}\n",
      "-13.926185 (1.439779) with: {'model__activation': 'swish', 'model__batch_size': 32, 'model__dropout_rate': 0.1, 'model__epochs': 100, 'model__learning_rate': 0.1, 'model__n_layers': 3, 'model__n_units': 64}\n",
      "\n",
      "Minutes Elapsed:  5.571773366133372\n"
     ]
    }
   ],
   "source": [
    "df = df_r3d_and_r7d.copy()\n",
    "columns = list(df.columns.drop(['R28D']))\n",
    "columns.append('R28D')\n",
    "df = df.reindex(columns=columns)\n",
    "df = df.drop(['Data/Hora'], axis=1)\n",
    "x, y = split_sequences(df.values, TIME_STEPS)\n",
    "\n",
    "start = time.time()\n",
    "gridcv3 = make_grid_search(x, y)\n",
    "end = time.time()\n",
    "print(\"\\nMinutes Elapsed: \", (end - start)/60)"
   ]
  },
  {
   "cell_type": "code",
   "execution_count": 30,
   "metadata": {},
   "outputs": [
    {
     "data": {
      "text/plain": [
       "{'model__activation': 'tanh',\n",
       " 'model__batch_size': 32,\n",
       " 'model__dropout_rate': 0.1,\n",
       " 'model__epochs': 100,\n",
       " 'model__learning_rate': 0.1,\n",
       " 'model__n_layers': 3,\n",
       " 'model__n_units': 32}"
      ]
     },
     "execution_count": 30,
     "metadata": {},
     "output_type": "execute_result"
    }
   ],
   "source": [
    "gridcv3.best_params_"
   ]
  },
  {
   "cell_type": "markdown",
   "metadata": {},
   "source": [
    "<h2>Times Series KFold Cross validation</h2>\n",
    "\n",
    "Here we will make a Times Series KFold Cross validation with all 3 datasets. Here we are using the <b>Blocking           Time Series Split</b> method. And with timeseries Split method\n"
   ]
  },
  {
   "cell_type": "code",
   "execution_count": 31,
   "metadata": {},
   "outputs": [],
   "source": [
    "def make_repeated_time_series_k_fold(x, \n",
    "                                     y, \n",
    "                                     train_period, \n",
    "                                     test_period,\n",
    "                                     grid=None,\n",
    "                                     repeats=10,\n",
    "                                     show_individual_results=True,\n",
    "                                     show_final_result=True,\n",
    "                                     params=None):\n",
    "    results = []\n",
    "    max_samples = x.shape[0]\n",
    "    \n",
    "    if grid:\n",
    "        activation = grid.best_params_['model__activation']\n",
    "        dropout_rate = grid.best_params_['model__dropout_rate']\n",
    "        n_units = grid.best_params_['model__n_units']\n",
    "        n_layers = grid.best_params_['model__n_layers']\n",
    "        learning_rate = grid.best_params_['model__learning_rate']\n",
    "        batch_size = grid.best_params_['model__batch_size']\n",
    "        epochs = grid.best_params_['model__epochs']\n",
    "    else:\n",
    "        activation = params['activation']\n",
    "        dropout_rate = params['dropout_rate']\n",
    "        n_units = params['n_units']\n",
    "        n_layers = params['n_layers']\n",
    "        learning_rate = params['learning_rate']\n",
    "        batch_size = params['batch_size']\n",
    "        epochs = params['epochs']\n",
    "    \n",
    "    for _ in range(repeats):\n",
    "        i = 0\n",
    "        scores = []\n",
    "        for _ in range(0, max_samples//train_period):\n",
    "            x_train = x[i:i+train_period]\n",
    "            y_train = y[i:i+train_period]\n",
    "            x_test = x[i+train_period: i+train_period+test_period]\n",
    "            y_test = y[i+train_period: i+train_period+test_period]\n",
    "            i += train_period\n",
    "            x_train = scaler.fit_transform(x_train.reshape(-1, x_train.shape[-1])).reshape(x_train.shape)\n",
    "            x_test = scaler.transform(x_test.reshape(-1, x_test.shape[-1])).reshape(x_test.shape)\n",
    "            model = create_keras_model(activation=activation,\n",
    "                                       dropout_rate=dropout_rate,\n",
    "                                       n_units=n_units,\n",
    "                                       n_layers=n_layers,\n",
    "                                       learning_rate=learning_rate)\n",
    "            model.fit(x_train, y_train, epochs=epochs, batch_size=batch_size, verbose=0)\n",
    "            rmse = model.evaluate(x_test, y_test, verbose=0)\n",
    "            scores.append(rmse[1])\n",
    "        results.append(scores)\n",
    "        if show_individual_results:\n",
    "            print('RMSE: %.3f (%.3f)' % (np.mean(scores), np.std(scores)))\n",
    "    if show_final_result:\n",
    "        print('\\nRMSE: %.3f (%.3f)' % (np.mean(results), np.std(results)))\n",
    "    return results\n",
    "    "
   ]
  },
  {
   "cell_type": "markdown",
   "metadata": {},
   "source": [
    "<h3> Time Series Repeated KFold Cross Validation - df_no_r3d_r7d</h3>\n",
    "\n",
    "<b>Dataset: df_no_r3d_r7d:</b> In this dataset the R3D and R7D variables are not considered."
   ]
  },
  {
   "cell_type": "code",
   "execution_count": 32,
   "metadata": {},
   "outputs": [],
   "source": [
    "df = df_no_r3d_r7d.copy()\n",
    "columns = list(df.columns.drop(['R28D']))\n",
    "columns.append('R28D')\n",
    "df = df.reindex(columns=columns)\n",
    "df = df.drop(['Data/Hora'], axis=1)\n",
    "x, y = split_sequences(df.values, TIME_STEPS)"
   ]
  },
  {
   "cell_type": "markdown",
   "metadata": {},
   "source": [
    "<h4>Experiment 1</h4>\n",
    "    \n",
    "<b>Train 6 months and predicts one month every year</b>"
   ]
  },
  {
   "cell_type": "code",
   "execution_count": 33,
   "metadata": {},
   "outputs": [
    {
     "name": "stdout",
     "output_type": "stream",
     "text": [
      "RMSE: 1.669 (0.288)\n",
      "RMSE: 1.696 (0.261)\n",
      "RMSE: 1.703 (0.248)\n",
      "RMSE: 1.712 (0.237)\n",
      "RMSE: 1.700 (0.256)\n",
      "RMSE: 1.710 (0.232)\n",
      "RMSE: 1.688 (0.285)\n",
      "RMSE: 1.691 (0.271)\n",
      "RMSE: 1.724 (0.283)\n",
      "RMSE: 1.724 (0.254)\n",
      "\n",
      "RMSE: 1.702 (0.263)\n"
     ]
    }
   ],
   "source": [
    "train_period = 90 # 6 months of data since the data is spaced every 2 days\n",
    "test_period = 15 # 1 month\n",
    "repeats = 10\n",
    "results = make_repeated_time_series_k_fold(x, y, train_period, test_period, gridcv1, repeats)"
   ]
  },
  {
   "cell_type": "code",
   "execution_count": 34,
   "metadata": {},
   "outputs": [
    {
     "data": {
      "image/png": "[encoded data removed]",
      "text/plain": [
       "<Figure size 1080x576 with 1 Axes>"
      ]
     },
     "metadata": {
      "needs_background": "light"
     },
     "output_type": "display_data"
    }
   ],
   "source": [
    "plt.figure(figsize=(15,8))\n",
    "plt.ylabel('RMSE', labelpad=20, fontsize=15)\n",
    "plt.xlabel('Repeats', labelpad=20, fontsize=15)\n",
    "plt.boxplot(results, labels=[str(r) for r in range(1, repeats+1)], showmeans=True)\n",
    "plt.show()"
   ]
  },
  {
   "cell_type": "markdown",
   "metadata": {},
   "source": [
    "<h4>Experiment 2</h4>\n",
    "    \n",
    "<b>Train 11 months and predicts one month every year</b>"
   ]
  },
  {
   "cell_type": "code",
   "execution_count": 35,
   "metadata": {},
   "outputs": [
    {
     "name": "stdout",
     "output_type": "stream",
     "text": [
      "RMSE: 1.109 (0.186)\n",
      "RMSE: 1.138 (0.249)\n",
      "RMSE: 1.128 (0.215)\n",
      "RMSE: 1.103 (0.223)\n",
      "RMSE: 1.104 (0.202)\n",
      "RMSE: 1.054 (0.189)\n",
      "RMSE: 1.120 (0.213)\n",
      "RMSE: 1.108 (0.211)\n",
      "RMSE: 1.097 (0.230)\n",
      "RMSE: 1.265 (0.036)\n",
      "\n",
      "RMSE: 1.123 (0.210)\n"
     ]
    }
   ],
   "source": [
    "train_period = 165 # 11 months of data since the data is spaced every 2 days (180 + 150)/2\n",
    "test_period = 15 # 1 month\n",
    "repeats = 10\n",
    "results = make_repeated_time_series_k_fold(x, y, train_period, test_period, gridcv1, repeats)"
   ]
  },
  {
   "cell_type": "code",
   "execution_count": 36,
   "metadata": {},
   "outputs": [
    {
     "data": {
      "image/png": "[encoded data removed]",
      "text/plain": [
       "<Figure size 1080x576 with 1 Axes>"
      ]
     },
     "metadata": {
      "needs_background": "light"
     },
     "output_type": "display_data"
    }
   ],
   "source": [
    "plt.figure(figsize=(15,8))\n",
    "plt.ylabel('RMSE', labelpad=20, fontsize=15)\n",
    "plt.xlabel('Repeats', labelpad=20, fontsize=15)\n",
    "plt.boxplot(results, labels=[str(r) for r in range(1, repeats+1)], showmeans=True)\n",
    "plt.show()"
   ]
  },
  {
   "cell_type": "markdown",
   "metadata": {},
   "source": [
    "<h4>Experiment 3</h4>\n",
    "    \n",
    "<b>Train 2 years and 10 months and predicts october and november of 2021</b>"
   ]
  },
  {
   "cell_type": "code",
   "execution_count": 37,
   "metadata": {},
   "outputs": [
    {
     "name": "stdout",
     "output_type": "stream",
     "text": [
      "RMSE: 0.532 (0.000)\n",
      "RMSE: 0.531 (0.000)\n",
      "RMSE: 0.537 (0.000)\n",
      "RMSE: 0.529 (0.000)\n",
      "RMSE: 0.599 (0.000)\n",
      "RMSE: 0.548 (0.000)\n",
      "RMSE: 0.530 (0.000)\n",
      "RMSE: 0.887 (0.000)\n",
      "RMSE: 0.529 (0.000)\n",
      "RMSE: 0.848 (0.000)\n",
      "\n",
      "RMSE: 0.607 (0.132)\n"
     ]
    }
   ],
   "source": [
    "train_period = 495 # 11 months of data since the data is spaced every 2 days (180 + 150)/2\n",
    "test_period = 30 # 2 months\n",
    "repeats = 10\n",
    "results = make_repeated_time_series_k_fold(x, y, train_period, test_period, gridcv1, repeats)"
   ]
  },
  {
   "cell_type": "code",
   "execution_count": 38,
   "metadata": {},
   "outputs": [
    {
     "data": {
      "image/png": "[encoded data removed]",
      "text/plain": [
       "<Figure size 1080x576 with 1 Axes>"
      ]
     },
     "metadata": {
      "needs_background": "light"
     },
     "output_type": "display_data"
    }
   ],
   "source": [
    "plt.figure(figsize=(15,8))\n",
    "plt.ylabel('RMSE', labelpad=20, fontsize=15)\n",
    "plt.xlabel('Repeats', labelpad=20, fontsize=15)\n",
    "plt.boxplot(results, labels=[str(r) for r in range(1, repeats+1)], showmeans=True)\n",
    "plt.show()"
   ]
  },
  {
   "cell_type": "markdown",
   "metadata": {},
   "source": [
    "<h3> Time Series Repeated KFold Cross Validation - df_r3d_only</h3>\n",
    "\n",
    "<b>Dataset: df_r3d_only:</b> In this dataset only R3D variable is considered."
   ]
  },
  {
   "cell_type": "code",
   "execution_count": 39,
   "metadata": {},
   "outputs": [],
   "source": [
    "df = df_r3d_only.copy()\n",
    "columns = list(df.columns.drop(['R28D']))\n",
    "columns.append('R28D')\n",
    "df = df.reindex(columns=columns)\n",
    "df = df.drop(['Data/Hora'], axis=1)\n",
    "x, y = split_sequences(df.values, TIME_STEPS)"
   ]
  },
  {
   "cell_type": "markdown",
   "metadata": {},
   "source": [
    "<h4>Experiment 1</h4>\n",
    "    \n",
    "<b>Train 6 months and predicts one month every year</b>"
   ]
  },
  {
   "cell_type": "code",
   "execution_count": 40,
   "metadata": {},
   "outputs": [
    {
     "name": "stdout",
     "output_type": "stream",
     "text": [
      "RMSE: 1.725 (0.256)\n",
      "RMSE: 1.686 (0.238)\n",
      "RMSE: 1.689 (0.264)\n",
      "RMSE: 1.711 (0.242)\n",
      "RMSE: 1.689 (0.249)\n",
      "RMSE: 1.700 (0.236)\n",
      "RMSE: 1.666 (0.249)\n",
      "RMSE: 1.722 (0.249)\n",
      "RMSE: 1.692 (0.234)\n",
      "RMSE: 1.699 (0.243)\n",
      "\n",
      "RMSE: 1.698 (0.247)\n"
     ]
    }
   ],
   "source": [
    "train_period = 90 # 6 months of data since the data is spaced every 2 days\n",
    "test_period = 15 # 1 month\n",
    "repeats = 10\n",
    "results = make_repeated_time_series_k_fold(x, y, train_period, test_period, gridcv2, repeats)"
   ]
  },
  {
   "cell_type": "code",
   "execution_count": 41,
   "metadata": {},
   "outputs": [
    {
     "data": {
      "image/png": "[encoded data removed]",
      "text/plain": [
       "<Figure size 1080x576 with 1 Axes>"
      ]
     },
     "metadata": {
      "needs_background": "light"
     },
     "output_type": "display_data"
    }
   ],
   "source": [
    "plt.figure(figsize=(15,8))\n",
    "plt.ylabel('RMSE', labelpad=20, fontsize=15)\n",
    "plt.xlabel('Repeats', labelpad=20, fontsize=15)\n",
    "plt.boxplot(results, labels=[str(r) for r in range(1, repeats+1)], showmeans=True)\n",
    "plt.show()"
   ]
  },
  {
   "cell_type": "markdown",
   "metadata": {},
   "source": [
    "<h4>Experiment 2</h4>\n",
    "    \n",
    "<b>Train 11 months and predicts one month every year</b>"
   ]
  },
  {
   "cell_type": "code",
   "execution_count": 42,
   "metadata": {},
   "outputs": [
    {
     "name": "stdout",
     "output_type": "stream",
     "text": [
      "RMSE: 1.112 (0.197)\n",
      "RMSE: 1.116 (0.204)\n",
      "RMSE: 1.089 (0.209)\n",
      "RMSE: 1.120 (0.199)\n",
      "RMSE: 1.058 (0.165)\n",
      "RMSE: 1.084 (0.206)\n",
      "RMSE: 1.108 (0.201)\n",
      "RMSE: 1.109 (0.209)\n",
      "RMSE: 1.118 (0.205)\n",
      "RMSE: 1.143 (0.218)\n",
      "\n",
      "RMSE: 1.106 (0.203)\n"
     ]
    }
   ],
   "source": [
    "train_period = 165 # 11 months of data since the data is spaced every 2 days (180 + 150)/2\n",
    "test_period = 15 # 1 month\n",
    "repeats = 10\n",
    "results = results = make_repeated_time_series_k_fold(x, y, train_period, test_period, gridcv2, repeats)"
   ]
  },
  {
   "cell_type": "code",
   "execution_count": 43,
   "metadata": {},
   "outputs": [
    {
     "data": {
      "image/png": "[encoded data removed]",
      "text/plain": [
       "<Figure size 1080x576 with 1 Axes>"
      ]
     },
     "metadata": {
      "needs_background": "light"
     },
     "output_type": "display_data"
    }
   ],
   "source": [
    "plt.figure(figsize=(15,8))\n",
    "plt.ylabel('RMSE', labelpad=20, fontsize=15)\n",
    "plt.xlabel('Repeats', labelpad=20, fontsize=15)\n",
    "plt.boxplot(results, labels=[str(r) for r in range(1, repeats+1)], showmeans=True)\n",
    "plt.show()"
   ]
  },
  {
   "cell_type": "markdown",
   "metadata": {},
   "source": [
    "<h4>Experiment 3</h4>\n",
    "    \n",
    "<b>Train 2 years and 10 months and predicts october and november of 2021</b>"
   ]
  },
  {
   "cell_type": "code",
   "execution_count": 44,
   "metadata": {},
   "outputs": [
    {
     "name": "stdout",
     "output_type": "stream",
     "text": [
      "RMSE: 0.576 (0.000)\n",
      "RMSE: 0.555 (0.000)\n",
      "RMSE: 0.529 (0.000)\n",
      "RMSE: 0.530 (0.000)\n",
      "RMSE: 0.555 (0.000)\n",
      "RMSE: 0.541 (0.000)\n",
      "RMSE: 0.531 (0.000)\n",
      "RMSE: 0.573 (0.000)\n",
      "RMSE: 0.529 (0.000)\n",
      "RMSE: 0.529 (0.000)\n",
      "\n",
      "RMSE: 0.545 (0.018)\n"
     ]
    }
   ],
   "source": [
    "train_period = 495 # 11 months of data since the data is spaced every 2 days (180 + 150)/2\n",
    "test_period = 30 # 2 months\n",
    "repeats = 10\n",
    "results = results = make_repeated_time_series_k_fold(x, y, train_period, test_period, gridcv2, repeats)"
   ]
  },
  {
   "cell_type": "code",
   "execution_count": 45,
   "metadata": {},
   "outputs": [
    {
     "data": {
      "image/png": "[encoded data removed]",
      "text/plain": [
       "<Figure size 1080x576 with 1 Axes>"
      ]
     },
     "metadata": {
      "needs_background": "light"
     },
     "output_type": "display_data"
    }
   ],
   "source": [
    "plt.figure(figsize=(15,8))\n",
    "plt.ylabel('RMSE', labelpad=20, fontsize=15)\n",
    "plt.xlabel('Repeats', labelpad=20, fontsize=15)\n",
    "plt.boxplot(results, labels=[str(r) for r in range(1, repeats+1)], showmeans=True)\n",
    "plt.show()"
   ]
  },
  {
   "cell_type": "markdown",
   "metadata": {},
   "source": [
    "<h3> Time Series Repeated KFold Cross Validation - df_r3d_and_r7d</h3>\n",
    "\n",
    "<b>Dataset: df_r3d_and_r7d:</b> In this dataset both R3D and R7D variables are considered."
   ]
  },
  {
   "cell_type": "code",
   "execution_count": 46,
   "metadata": {},
   "outputs": [],
   "source": [
    "df = df_r3d_and_r7d.copy()\n",
    "columns = list(df.columns.drop(['R28D']))\n",
    "columns.append('R28D')\n",
    "df = df.reindex(columns=columns)\n",
    "df = df.drop(['Data/Hora'], axis=1)\n",
    "x, y = split_sequences(df.values, TIME_STEPS)"
   ]
  },
  {
   "cell_type": "markdown",
   "metadata": {},
   "source": [
    "<h4>Experiment 1</h4>\n",
    "    \n",
    "<b>Train 6 months and predicts one month every year</b>"
   ]
  },
  {
   "cell_type": "code",
   "execution_count": 47,
   "metadata": {},
   "outputs": [
    {
     "name": "stdout",
     "output_type": "stream",
     "text": [
      "RMSE: 1.706 (0.385)\n",
      "RMSE: 1.548 (0.355)\n",
      "RMSE: 3.667 (3.704)\n",
      "RMSE: 1.651 (0.370)\n",
      "RMSE: 1.776 (0.327)\n",
      "RMSE: 1.667 (0.164)\n",
      "RMSE: 1.925 (0.537)\n",
      "RMSE: 5.223 (7.336)\n",
      "RMSE: 1.742 (0.160)\n",
      "RMSE: 1.742 (0.457)\n",
      "\n",
      "RMSE: 2.265 (2.860)\n"
     ]
    }
   ],
   "source": [
    "train_period = 90 # 6 months of data since the data is spaced every 2 days\n",
    "test_period = 15 # 1 month\n",
    "repeats = 10\n",
    "results = results = make_repeated_time_series_k_fold(x, y, train_period, test_period, gridcv3, repeats)"
   ]
  },
  {
   "cell_type": "code",
   "execution_count": 48,
   "metadata": {},
   "outputs": [
    {
     "data": {
      "image/png": "[encoded data removed]",
      "text/plain": [
       "<Figure size 1080x576 with 1 Axes>"
      ]
     },
     "metadata": {
      "needs_background": "light"
     },
     "output_type": "display_data"
    }
   ],
   "source": [
    "plt.figure(figsize=(15,8))\n",
    "plt.ylabel('RMSE', labelpad=20, fontsize=15)\n",
    "plt.xlabel('Repeats', labelpad=20, fontsize=15)\n",
    "plt.boxplot(results, labels=[str(r) for r in range(1, repeats+1)], showmeans=True)\n",
    "plt.show()"
   ]
  },
  {
   "cell_type": "markdown",
   "metadata": {},
   "source": [
    "<h4>Experiment 2</h4>\n",
    "    \n",
    "<b>Train 11 months and predicts one month every year</b>"
   ]
  },
  {
   "cell_type": "code",
   "execution_count": 49,
   "metadata": {},
   "outputs": [
    {
     "name": "stdout",
     "output_type": "stream",
     "text": [
      "RMSE: 1.079 (0.249)\n",
      "RMSE: 1.194 (0.003)\n",
      "RMSE: 6.542 (7.546)\n",
      "RMSE: 1.041 (0.338)\n",
      "RMSE: 1.337 (0.221)\n",
      "RMSE: 1.573 (0.545)\n",
      "RMSE: 1.266 (0.451)\n",
      "RMSE: 1.179 (0.431)\n",
      "RMSE: 1.322 (0.370)\n",
      "RMSE: 1.646 (0.821)\n",
      "\n",
      "RMSE: 1.818 (2.895)\n"
     ]
    }
   ],
   "source": [
    "train_period = 165 # 11 months of data since the data is spaced every 2 days (180 + 150)/2\n",
    "test_period = 15 # 1 month\n",
    "repeats = 10\n",
    "results = results = make_repeated_time_series_k_fold(x, y, train_period, test_period, gridcv3, repeats)"
   ]
  },
  {
   "cell_type": "code",
   "execution_count": 50,
   "metadata": {},
   "outputs": [
    {
     "data": {
      "image/png": "[encoded data removed]",
      "text/plain": [
       "<Figure size 1080x576 with 1 Axes>"
      ]
     },
     "metadata": {
      "needs_background": "light"
     },
     "output_type": "display_data"
    }
   ],
   "source": [
    "plt.figure(figsize=(15,8))\n",
    "plt.ylabel('RMSE', labelpad=20, fontsize=15)\n",
    "plt.xlabel('Repeats', labelpad=20, fontsize=15)\n",
    "plt.boxplot(results, labels=[str(r) for r in range(1, repeats+1)], showmeans=True)\n",
    "plt.show()"
   ]
  },
  {
   "cell_type": "markdown",
   "metadata": {},
   "source": [
    "<h4>Experiment 3</h4>\n",
    "    \n",
    "<b>Train 2 years and 10 months and predicts october and november of 2021</b>"
   ]
  },
  {
   "cell_type": "code",
   "execution_count": 51,
   "metadata": {},
   "outputs": [
    {
     "name": "stdout",
     "output_type": "stream",
     "text": [
      "RMSE: 0.531 (0.000)\n",
      "RMSE: 1.215 (0.000)\n",
      "RMSE: 1.114 (0.000)\n",
      "RMSE: 0.529 (0.000)\n",
      "RMSE: 0.529 (0.000)\n",
      "RMSE: 0.618 (0.000)\n",
      "RMSE: 0.528 (0.000)\n",
      "RMSE: 1.305 (0.000)\n",
      "RMSE: 1.161 (0.000)\n",
      "RMSE: 1.086 (0.000)\n",
      "\n",
      "RMSE: 0.862 (0.320)\n"
     ]
    }
   ],
   "source": [
    "train_period = 495 # 11 months of data since the data is spaced every 2 days (180 + 150)/2\n",
    "test_period = 30 # 2 months\n",
    "repeats = 10\n",
    "results = results = make_repeated_time_series_k_fold(x, y, train_period, test_period, gridcv3, repeats)"
   ]
  },
  {
   "cell_type": "code",
   "execution_count": 52,
   "metadata": {},
   "outputs": [
    {
     "data": {
      "image/png": "[encoded data removed]",
      "text/plain": [
       "<Figure size 1080x576 with 1 Axes>"
      ]
     },
     "metadata": {
      "needs_background": "light"
     },
     "output_type": "display_data"
    }
   ],
   "source": [
    "plt.figure(figsize=(15,8))\n",
    "plt.ylabel('RMSE', labelpad=20, fontsize=15)\n",
    "plt.xlabel('Repeats', labelpad=20, fontsize=15)\n",
    "plt.boxplot(results, labels=[str(r) for r in range(1, repeats+1)], showmeans=True)\n",
    "plt.show()"
   ]
  },
  {
   "cell_type": "markdown",
   "metadata": {},
   "source": [
    "# Times Series Repeated KFold Cross validation - different Timesteps values\n",
    "\n",
    "Here we will make a Times Series KFold Cross validation with all 3 datasets. Here we are using the Blocking Time Series Split method. And with timeseries Split method. We also do it with different number of timesteps\n"
   ]
  },
  {
   "cell_type": "markdown",
   "metadata": {},
   "source": [
    "# Configs\n",
    "\n",
    "<h3>Model</h3>\n",
    "   \n",
    "    LSTM Cells: 64\n",
    "    LSTM Layers: 1\n",
    "    Optimization Algorithm: Adam  \n",
    "        Learning Rate: 1e-2\n",
    "    Epochs: 100\n",
    "    Batch size: 32\n",
    "\n",
    "\n",
    "    \n",
    "    \n",
    "<h3>Timesteps: </h3>\n",
    "\n",
    "    TIMESTEPS: [1, 3, 5, 7, 10, 15, 20]\n",
    "\n",
    "<h3>Repeats: 10</h3>"
   ]
  },
  {
   "cell_type": "code",
   "execution_count": 53,
   "metadata": {},
   "outputs": [],
   "source": [
    "def make_timesteps_repeated_time_series_k_fold(df,\n",
    "                                               train_period,\n",
    "                                               test_period,\n",
    "                                               params=None,\n",
    "                                               grid=None,\n",
    "                                               repeats=10,\n",
    "                                               timesteps_list=[3],\n",
    "                                               show_results=True):\n",
    "    results = {}\n",
    "    \n",
    "    for timesteps in timesteps_list:\n",
    "        x, y = split_sequences(df.values, timesteps)\n",
    "        scores = make_repeated_time_series_k_fold(x, y, train_period, test_period, grid, repeats, False, False, params)\n",
    "        results[timesteps] = scores\n",
    "        if show_results:\n",
    "            print('TIMESTEPS: %d RMSE: %.3f (%.3f)' % (timesteps, np.mean(scores), np.std(scores)))\n",
    "    return results"
   ]
  },
  {
   "cell_type": "code",
   "execution_count": 54,
   "metadata": {},
   "outputs": [],
   "source": [
    "params = {}\n",
    "params['activation'] = 'tanh'\n",
    "params['dropout_rate'] = 0.0\n",
    "params['n_units'] = 64\n",
    "params['n_layers'] = 1\n",
    "params['learning_rate'] = 1e-2\n",
    "params['batch_size'] = 32\n",
    "params['epochs'] = 100\n",
    "\n",
    "timesteps_list = [1, 3, 5, 7, 10, 15, 20]\n",
    "\n",
    "repeats = 10"
   ]
  },
  {
   "cell_type": "markdown",
   "metadata": {},
   "source": [
    "<h3> Time Series Repeated KFold Cross Validation with vary timesteps - df_no_r3d_r7d</h3>\n",
    "\n",
    "<b>Dataset: df_no_r3d_r7d:</b> In this dataset the R3D and R7D variables are not considered."
   ]
  },
  {
   "cell_type": "code",
   "execution_count": 55,
   "metadata": {},
   "outputs": [],
   "source": [
    "df = df_no_r3d_r7d.copy()\n",
    "columns = list(df.columns.drop(['R28D']))\n",
    "columns.append('R28D')\n",
    "df = df.reindex(columns=columns)\n",
    "df = df.drop(['Data/Hora'], axis=1)"
   ]
  },
  {
   "cell_type": "markdown",
   "metadata": {},
   "source": [
    "<h4>Experiment 1</h4>\n",
    "    \n",
    "<b>Train 6 months and predicts one month every year</b>"
   ]
  },
  {
   "cell_type": "code",
   "execution_count": 56,
   "metadata": {},
   "outputs": [],
   "source": [
    "train_period = 90 # 6 months of data since the data is spaced every 2 days\n",
    "test_period = 15 # 1 month"
   ]
  },
  {
   "cell_type": "markdown",
   "metadata": {},
   "source": [
    "<b>Baseline model</b>"
   ]
  },
  {
   "cell_type": "code",
   "execution_count": 57,
   "metadata": {},
   "outputs": [
    {
     "name": "stdout",
     "output_type": "stream",
     "text": [
      "TIMESTEPS: 1 RMSE: 11.360 (6.120)\n",
      "TIMESTEPS: 3 RMSE: 5.004 (4.955)\n",
      "TIMESTEPS: 5 RMSE: 4.509 (9.000)\n",
      "TIMESTEPS: 7 RMSE: 2.356 (3.740)\n",
      "TIMESTEPS: 10 RMSE: 2.146 (3.286)\n",
      "TIMESTEPS: 15 RMSE: 4.142 (7.772)\n",
      "TIMESTEPS: 20 RMSE: 1.701 (1.932)\n"
     ]
    }
   ],
   "source": [
    "results = make_timesteps_repeated_time_series_k_fold(df, train_period, test_period, params, None, repeats, timesteps_list)"
   ]
  },
  {
   "cell_type": "markdown",
   "metadata": {},
   "source": [
    "<b>gridcv1 model</b>"
   ]
  },
  {
   "cell_type": "code",
   "execution_count": 58,
   "metadata": {
    "scrolled": true
   },
   "outputs": [],
   "source": [
    "# results = make_timesteps_repeated_time_series_k_fold(df, train_period, test_period, None, gridcv1, repeats, timesteps_list)"
   ]
  },
  {
   "cell_type": "markdown",
   "metadata": {},
   "source": [
    "<h4>Experiment 2</h4>\n",
    "    \n",
    "<b>Train 11 months and predicts one month every year</b>"
   ]
  },
  {
   "cell_type": "code",
   "execution_count": 59,
   "metadata": {},
   "outputs": [],
   "source": [
    "train_period = 165 # 11 months of data since the data is spaced every 2 days (180 + 150)/2\n",
    "test_period = 15 # 1 month"
   ]
  },
  {
   "cell_type": "markdown",
   "metadata": {},
   "source": [
    "<b>Baseline model</b>"
   ]
  },
  {
   "cell_type": "code",
   "execution_count": 60,
   "metadata": {
    "scrolled": true
   },
   "outputs": [
    {
     "name": "stdout",
     "output_type": "stream",
     "text": [
      "TIMESTEPS: 1 RMSE: 11.287 (5.887)\n",
      "TIMESTEPS: 3 RMSE: 1.987 (1.977)\n",
      "TIMESTEPS: 5 RMSE: 1.172 (0.606)\n",
      "TIMESTEPS: 7 RMSE: 1.804 (3.834)\n",
      "TIMESTEPS: 10 RMSE: 1.139 (0.797)\n",
      "TIMESTEPS: 15 RMSE: 2.790 (8.713)\n",
      "TIMESTEPS: 20 RMSE: 1.409 (0.985)\n",
      "\n",
      "Minutes Elapsed:  24.052198882897695\n"
     ]
    }
   ],
   "source": [
    "start = time.time()\n",
    "results = results = make_timesteps_repeated_time_series_k_fold(df, train_period, test_period, params, None, repeats, timesteps_list)\n",
    "end = time.time()\n",
    "print(\"\\nMinutes Elapsed: \", (end - start)/60)\n"
   ]
  },
  {
   "cell_type": "markdown",
   "metadata": {},
   "source": [
    "<b>gridcv1 model</b>"
   ]
  },
  {
   "cell_type": "code",
   "execution_count": 61,
   "metadata": {},
   "outputs": [],
   "source": [
    "# start = time.time()\n",
    "# results = make_timesteps_repeated_time_series_k_fold(df, train_period, test_period, None, gridcv1, repeats, timesteps_list)\n",
    "# end = time.time()\n",
    "# print(\"\\nMinutes Elapsed: \", (end - start)/60)"
   ]
  },
  {
   "cell_type": "markdown",
   "metadata": {},
   "source": [
    "<h4>Experiment 3</h4>\n",
    "    \n",
    "<b>Train 2 years and 10 months and predicts october and november of 2021</b>"
   ]
  },
  {
   "cell_type": "code",
   "execution_count": 62,
   "metadata": {},
   "outputs": [],
   "source": [
    "train_period = 495 # 11 months of data since the data is spaced every 2 days (180 + 150)/2\n",
    "test_period = 30 # 2 months"
   ]
  },
  {
   "cell_type": "markdown",
   "metadata": {},
   "source": [
    "<b>Baseline model</b>"
   ]
  },
  {
   "cell_type": "code",
   "execution_count": 63,
   "metadata": {},
   "outputs": [
    {
     "name": "stdout",
     "output_type": "stream",
     "text": [
      "TIMESTEPS: 1 RMSE: 6.448 (2.157)\n",
      "TIMESTEPS: 3 RMSE: 1.720 (0.127)\n",
      "TIMESTEPS: 5 RMSE: 1.614 (0.183)\n",
      "TIMESTEPS: 7 RMSE: 0.942 (0.270)\n",
      "TIMESTEPS: 10 RMSE: 0.660 (0.307)\n",
      "TIMESTEPS: 15 RMSE: 0.488 (0.193)\n",
      "TIMESTEPS: 20 RMSE: 0.589 (0.252)\n"
     ]
    }
   ],
   "source": [
    "results = make_timesteps_repeated_time_series_k_fold(df, train_period, test_period, params, None, repeats, timesteps_list)"
   ]
  },
  {
   "cell_type": "markdown",
   "metadata": {},
   "source": [
    "<b>gridcv1 model</b>"
   ]
  },
  {
   "cell_type": "code",
   "execution_count": 64,
   "metadata": {},
   "outputs": [],
   "source": [
    "# results = make_timesteps_repeated_time_series_k_fold(df, train_period, test_period, None, gridcv1, repeats, timesteps_list)"
   ]
  },
  {
   "cell_type": "markdown",
   "metadata": {},
   "source": [
    "<h3> Time Series Repeated KFold Cross Validation - df_r3d_only</h3>\n",
    "\n",
    "<b>Dataset: df_r3d_only:</b> In this dataset only R3D variable is considered."
   ]
  },
  {
   "cell_type": "code",
   "execution_count": 65,
   "metadata": {},
   "outputs": [],
   "source": [
    "df = df_r3d_only.copy()\n",
    "columns = list(df.columns.drop(['R28D']))\n",
    "columns.append('R28D')\n",
    "df = df.reindex(columns=columns)\n",
    "df = df.drop(['Data/Hora'], axis=1)"
   ]
  },
  {
   "cell_type": "markdown",
   "metadata": {},
   "source": [
    "<h4>Experiment 1</h4>\n",
    "    \n",
    "<b>Train 6 months and predicts one month every year</b>"
   ]
  },
  {
   "cell_type": "code",
   "execution_count": 66,
   "metadata": {},
   "outputs": [],
   "source": [
    "train_period = 90 # 6 months of data since the data is spaced every 2 days\n",
    "test_period = 15 # 1 month"
   ]
  },
  {
   "cell_type": "markdown",
   "metadata": {},
   "source": [
    "<b>Baseline model</b>"
   ]
  },
  {
   "cell_type": "code",
   "execution_count": 67,
   "metadata": {},
   "outputs": [
    {
     "name": "stdout",
     "output_type": "stream",
     "text": [
      "TIMESTEPS: 1 RMSE: 11.862 (6.478)\n",
      "TIMESTEPS: 3 RMSE: 4.575 (5.088)\n",
      "TIMESTEPS: 5 RMSE: 2.318 (2.055)\n",
      "TIMESTEPS: 7 RMSE: 2.358 (3.662)\n",
      "TIMESTEPS: 10 RMSE: 2.091 (4.104)\n",
      "TIMESTEPS: 15 RMSE: 2.565 (5.604)\n",
      "TIMESTEPS: 20 RMSE: 2.277 (5.623)\n"
     ]
    }
   ],
   "source": [
    "results = make_timesteps_repeated_time_series_k_fold(df, train_period, test_period, params, None, repeats, timesteps_list)"
   ]
  },
  {
   "cell_type": "markdown",
   "metadata": {},
   "source": [
    "<b>gridcv2 model</b>"
   ]
  },
  {
   "cell_type": "code",
   "execution_count": 68,
   "metadata": {},
   "outputs": [],
   "source": [
    "# results = make_timesteps_repeated_time_series_k_fold(df, train_period, test_period, None, gridcv2, repeats, timesteps_list)"
   ]
  },
  {
   "cell_type": "markdown",
   "metadata": {},
   "source": [
    "<h4>Experiment 2</h4>\n",
    "    \n",
    "<b>Train 11 months and predicts one month every year</b>"
   ]
  },
  {
   "cell_type": "code",
   "execution_count": 69,
   "metadata": {},
   "outputs": [],
   "source": [
    "train_period = 165 # 11 months of data since the data is spaced every 2 days (180 + 150)/2\n",
    "test_period = 15 # 1 month"
   ]
  },
  {
   "cell_type": "markdown",
   "metadata": {},
   "source": [
    "<b>Baseline model</b>"
   ]
  },
  {
   "cell_type": "code",
   "execution_count": 70,
   "metadata": {},
   "outputs": [
    {
     "name": "stdout",
     "output_type": "stream",
     "text": [
      "TIMESTEPS: 1 RMSE: 11.515 (6.123)\n",
      "TIMESTEPS: 3 RMSE: 2.938 (3.165)\n",
      "TIMESTEPS: 5 RMSE: 2.262 (5.164)\n",
      "TIMESTEPS: 7 RMSE: 3.870 (10.769)\n",
      "TIMESTEPS: 10 RMSE: 1.868 (3.738)\n",
      "TIMESTEPS: 15 RMSE: 2.805 (8.769)\n",
      "TIMESTEPS: 20 RMSE: 2.949 (7.037)\n"
     ]
    }
   ],
   "source": [
    "results = make_timesteps_repeated_time_series_k_fold(df, train_period, test_period, params, None, repeats, timesteps_list)"
   ]
  },
  {
   "cell_type": "markdown",
   "metadata": {},
   "source": [
    "<b>gridcv2 model</b>"
   ]
  },
  {
   "cell_type": "code",
   "execution_count": 71,
   "metadata": {},
   "outputs": [],
   "source": [
    "# results = make_timesteps_repeated_time_series_k_fold(df, train_period, test_period, None, gridcv2, repeats, timesteps_list)"
   ]
  },
  {
   "cell_type": "markdown",
   "metadata": {},
   "source": [
    "<h4>Experiment 3</h4>\n",
    "    \n",
    "<b>Train 2 years and 10 months and predicts october and november of 2021</b>"
   ]
  },
  {
   "cell_type": "code",
   "execution_count": 72,
   "metadata": {},
   "outputs": [],
   "source": [
    "train_period = 495 # 11 months of data since the data is spaced every 2 days (180 + 150)/2\n",
    "test_period = 30 # 2 months"
   ]
  },
  {
   "cell_type": "markdown",
   "metadata": {},
   "source": [
    "<b>Baseline model</b>"
   ]
  },
  {
   "cell_type": "code",
   "execution_count": 73,
   "metadata": {},
   "outputs": [
    {
     "name": "stdout",
     "output_type": "stream",
     "text": [
      "TIMESTEPS: 1 RMSE: 6.197 (1.783)\n",
      "TIMESTEPS: 3 RMSE: 1.794 (0.136)\n",
      "TIMESTEPS: 5 RMSE: 1.442 (0.165)\n",
      "TIMESTEPS: 7 RMSE: 0.993 (0.313)\n",
      "TIMESTEPS: 10 RMSE: 0.854 (0.286)\n",
      "TIMESTEPS: 15 RMSE: 0.830 (0.347)\n",
      "TIMESTEPS: 20 RMSE: 0.613 (0.193)\n"
     ]
    }
   ],
   "source": [
    "results = make_timesteps_repeated_time_series_k_fold(df, train_period, test_period, params, None, repeats, timesteps_list)"
   ]
  },
  {
   "cell_type": "markdown",
   "metadata": {},
   "source": [
    "<b>gridcv2 model</b>"
   ]
  },
  {
   "cell_type": "code",
   "execution_count": 74,
   "metadata": {},
   "outputs": [],
   "source": [
    "# results = make_timesteps_repeated_time_series_k_fold(df, train_period, test_period, None, gridcv2, repeats, timesteps_list)"
   ]
  },
  {
   "cell_type": "markdown",
   "metadata": {},
   "source": [
    "<h3> Time Series Repeated KFold Cross Validation - df_r3d_and_r7d</h3>\n",
    "\n",
    "<b>Dataset: df_r3d_and_r7d:</b> In this dataset both R3D and R7D variables are considered."
   ]
  },
  {
   "cell_type": "code",
   "execution_count": 75,
   "metadata": {},
   "outputs": [],
   "source": [
    "df = df_r3d_and_r7d.copy()\n",
    "columns = list(df.columns.drop(['R28D']))\n",
    "columns.append('R28D')\n",
    "df = df.reindex(columns=columns)\n",
    "df = df.drop(['Data/Hora'], axis=1)"
   ]
  },
  {
   "cell_type": "markdown",
   "metadata": {},
   "source": [
    "<h4>Experiment 1</h4>\n",
    "    \n",
    "<b>Train 6 months and predicts one month every year</b>"
   ]
  },
  {
   "cell_type": "code",
   "execution_count": 76,
   "metadata": {},
   "outputs": [],
   "source": [
    "train_period = 90 # 6 months of data since the data is spaced every 2 days\n",
    "test_period = 15 # 1 month"
   ]
  },
  {
   "cell_type": "markdown",
   "metadata": {},
   "source": [
    "<b>Baseline model</b>"
   ]
  },
  {
   "cell_type": "code",
   "execution_count": 77,
   "metadata": {},
   "outputs": [
    {
     "name": "stdout",
     "output_type": "stream",
     "text": [
      "TIMESTEPS: 1 RMSE: 11.952 (7.310)\n",
      "TIMESTEPS: 3 RMSE: 4.017 (4.657)\n",
      "TIMESTEPS: 5 RMSE: 2.688 (4.344)\n",
      "TIMESTEPS: 7 RMSE: 2.382 (3.835)\n",
      "TIMESTEPS: 10 RMSE: 3.507 (7.617)\n",
      "TIMESTEPS: 15 RMSE: 2.448 (4.956)\n",
      "TIMESTEPS: 20 RMSE: 1.799 (2.491)\n"
     ]
    }
   ],
   "source": [
    "results = results = make_timesteps_repeated_time_series_k_fold(df, train_period, test_period, params, None, repeats, timesteps_list)"
   ]
  },
  {
   "cell_type": "markdown",
   "metadata": {},
   "source": [
    "<b>gridcv3 model</b>"
   ]
  },
  {
   "cell_type": "code",
   "execution_count": 78,
   "metadata": {},
   "outputs": [],
   "source": [
    "# results = make_timesteps_repeated_time_series_k_fold(df, train_period, test_period, None, gridcv3, repeats, timesteps_list)"
   ]
  },
  {
   "cell_type": "markdown",
   "metadata": {},
   "source": [
    "<h4>Experiment 2</h4>\n",
    "    \n",
    "<b>Train 11 months and predicts one month every year</b>"
   ]
  },
  {
   "cell_type": "code",
   "execution_count": 79,
   "metadata": {},
   "outputs": [],
   "source": [
    "train_period = 165 # 11 months of data since the data is spaced every 2 days (180 + 150)/2\n",
    "test_period = 15 # 1 month"
   ]
  },
  {
   "cell_type": "markdown",
   "metadata": {},
   "source": [
    "<b>Baseline model</b>"
   ]
  },
  {
   "cell_type": "code",
   "execution_count": 80,
   "metadata": {},
   "outputs": [
    {
     "name": "stdout",
     "output_type": "stream",
     "text": [
      "TIMESTEPS: 1 RMSE: 12.185 (6.605)\n",
      "TIMESTEPS: 3 RMSE: 4.077 (5.189)\n",
      "TIMESTEPS: 5 RMSE: 1.567 (1.981)\n",
      "TIMESTEPS: 7 RMSE: 4.362 (10.498)\n",
      "TIMESTEPS: 10 RMSE: 4.264 (11.923)\n",
      "TIMESTEPS: 15 RMSE: 1.231 (0.958)\n",
      "TIMESTEPS: 20 RMSE: 1.379 (0.971)\n"
     ]
    }
   ],
   "source": [
    "results = results = make_timesteps_repeated_time_series_k_fold(df, train_period, test_period, params, None, repeats, timesteps_list)"
   ]
  },
  {
   "cell_type": "markdown",
   "metadata": {},
   "source": [
    "<b>gridcv3 model</b>"
   ]
  },
  {
   "cell_type": "code",
   "execution_count": 81,
   "metadata": {},
   "outputs": [],
   "source": [
    "# results = make_timesteps_repeated_time_series_k_fold(df, train_period, test_period, None, gridcv3, repeats, timesteps_list)"
   ]
  },
  {
   "cell_type": "markdown",
   "metadata": {},
   "source": [
    "<h4>Experiment 3</h4>\n",
    "    \n",
    "<b>Train 2 years and 10 months and predicts october and november of 2021</b>"
   ]
  },
  {
   "cell_type": "code",
   "execution_count": 82,
   "metadata": {},
   "outputs": [],
   "source": [
    "train_period = 495 # 11 months of data since the data is spaced every 2 days (180 + 150)/2\n",
    "test_period = 30 # 2 months"
   ]
  },
  {
   "cell_type": "markdown",
   "metadata": {},
   "source": [
    "<b>Baseline model</b>"
   ]
  },
  {
   "cell_type": "code",
   "execution_count": 83,
   "metadata": {},
   "outputs": [
    {
     "name": "stdout",
     "output_type": "stream",
     "text": [
      "TIMESTEPS: 1 RMSE: 6.648 (1.313)\n",
      "TIMESTEPS: 3 RMSE: 1.787 (0.185)\n",
      "TIMESTEPS: 5 RMSE: 1.512 (0.073)\n",
      "TIMESTEPS: 7 RMSE: 1.079 (0.311)\n",
      "TIMESTEPS: 10 RMSE: 0.486 (0.174)\n",
      "TIMESTEPS: 15 RMSE: 0.644 (0.348)\n",
      "TIMESTEPS: 20 RMSE: 0.412 (0.078)\n"
     ]
    }
   ],
   "source": [
    "results = results = make_timesteps_repeated_time_series_k_fold(df, train_period, test_period, params, None, repeats, timesteps_list)"
   ]
  },
  {
   "cell_type": "markdown",
   "metadata": {},
   "source": [
    "<b>gridcv3 model</b>"
   ]
  },
  {
   "cell_type": "code",
   "execution_count": 84,
   "metadata": {},
   "outputs": [],
   "source": [
    "# results = make_timesteps_repeated_time_series_k_fold(df, train_period, test_period, None, gridcv3, repeats, timesteps_list)"
   ]
  }
 ],
 "metadata": {
  "kernelspec": {
   "display_name": "ccs28-venv",
   "language": "python",
   "name": "ccs28-venv"
  },
  "language_info": {
   "codemirror_mode": {
    "name": "ipython",
    "version": 3
   },
   "file_extension": ".py",
   "mimetype": "text/x-python",
   "name": "python",
   "nbconvert_exporter": "python",
   "pygments_lexer": "ipython3",
   "version": "3.8.10"
  }
 },
 "nbformat": 4,
 "nbformat_minor": 2
}
