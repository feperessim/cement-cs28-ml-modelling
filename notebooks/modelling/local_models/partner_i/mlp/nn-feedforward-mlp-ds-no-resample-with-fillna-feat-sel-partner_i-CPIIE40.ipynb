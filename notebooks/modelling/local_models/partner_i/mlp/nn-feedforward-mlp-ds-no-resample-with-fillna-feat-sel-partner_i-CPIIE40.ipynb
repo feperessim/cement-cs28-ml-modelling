{
 "cells": [
  {
   "cell_type": "code",
   "execution_count": 1,
   "metadata": {},
   "outputs": [],
   "source": [
    "import pandas as pd\n",
    "import numpy as np\n",
    "import tensorflow as tf\n",
    "import keras_tuner as kt\n",
    "import matplotlib.pyplot as plt\n",
    "import time\n",
    "import os\n",
    "\n",
    "from sklearn.preprocessing import StandardScaler\n",
    "from sklearn.model_selection import RepeatedKFold\n",
    "from sklearn.model_selection import train_test_split\n",
    "from sklearn.metrics import mean_squared_error\n",
    "from sklearn.pipeline import Pipeline"
   ]
  },
  {
   "cell_type": "code",
   "execution_count": 2,
   "metadata": {},
   "outputs": [],
   "source": [
    "def plot_scores_box_plot(scores, repeats, n_splits):\n",
    "    plt.figure(figsize=(15, 8))\n",
    "    plt.boxplot(\n",
    "        scores.reshape((repeats, n_splits)),\n",
    "        labels=[str(r) for r in range(1, repeats + 1)],\n",
    "        showmeans=True,\n",
    "    )\n",
    "    plt.ylabel(\"RMSE\", labelpad=20, fontsize=15)\n",
    "    plt.xlabel(\"Repeats\", labelpad=20, fontsize=15)\n",
    "    plt.show()"
   ]
  },
  {
   "cell_type": "code",
   "execution_count": 3,
   "metadata": {},
   "outputs": [],
   "source": [
    "def create_keras_model(\n",
    "    activation=\"swish\", dropout_rate=0.0, n_units=0, n_layers=0, learning_rate=1e-3\n",
    "):\n",
    "    model = tf.keras.Sequential()\n",
    "\n",
    "    for _ in range(n_layers):\n",
    "        model.add(tf.keras.layers.Dense(units=n_units, activation=activation))\n",
    "    model.add(tf.keras.layers.Dropout(dropout_rate))\n",
    "    model.add(tf.keras.layers.Dense(1))\n",
    "    model.compile(\n",
    "        optimizer=tf.keras.optimizers.Adam(learning_rate=learning_rate),\n",
    "        loss=\"mse\",\n",
    "        metrics=[tf.keras.metrics.RootMeanSquaredError(name=\"RMSE\")],\n",
    "    )\n",
    "    return model"
   ]
  },
  {
   "cell_type": "code",
   "execution_count": 4,
   "metadata": {},
   "outputs": [],
   "source": [
    "def get_baseline_model():\n",
    "    model = tf.keras.Sequential()\n",
    "\n",
    "    model.add(tf.keras.layers.Dense(units=32))\n",
    "    model.add(tf.keras.layers.Dense(units=1))\n",
    "    opt = tf.keras.optimizers.Adam(learning_rate=0.01)\n",
    "    model.compile(\n",
    "        optimizer=opt,\n",
    "        loss=\"mse\",\n",
    "        metrics=[tf.keras.metrics.RootMeanSquaredError(name=\"RMSE\")],\n",
    "    )\n",
    "    return model"
   ]
  },
  {
   "cell_type": "code",
   "execution_count": 5,
   "metadata": {},
   "outputs": [],
   "source": [
    "def make_repeated_kfold_cross_validation(x, y, params=None):\n",
    "    if params is not None:\n",
    "        activation = params[\"activation\"]\n",
    "        dropout_rate = params[\"dropout_rate\"]\n",
    "        n_units = params[\"n_units\"]\n",
    "        n_layers = params[\"n_layers\"]\n",
    "        learning_rate = params[\"learning_rate\"]\n",
    "\n",
    "    rkf = RepeatedKFold(n_splits=10, n_repeats=10, random_state=seed)\n",
    "    scores = []\n",
    "\n",
    "    start = time.time()\n",
    "    for train, test in rkf.split(x):\n",
    "        if params is not None:\n",
    "            model = create_keras_model(\n",
    "                activation=activation,\n",
    "                dropout_rate=dropout_rate,\n",
    "                n_units=n_units,\n",
    "                n_layers=n_layers,\n",
    "                learning_rate=learning_rate,\n",
    "            )\n",
    "        else:\n",
    "            model = get_baseline_model()\n",
    "        model.fit(\n",
    "            scaler.fit_transform(x[train]),\n",
    "            y[train],\n",
    "            epochs=epochs,\n",
    "            batch_size=batch_size,\n",
    "            verbose=0,\n",
    "        )\n",
    "        rmse = model.evaluate(scaler.transform(x[test]), y[test], verbose=0)\n",
    "        scores.append(rmse[1])\n",
    "\n",
    "    print(\"RMSE: %.3f (%.3f)\" % (np.mean(scores), np.std(scores)))\n",
    "    end = time.time()\n",
    "    print(\"Minutes Elapsed: \", (end - start) / 60)\n",
    "    return rkf, scores"
   ]
  },
  {
   "cell_type": "markdown",
   "metadata": {},
   "source": [
    "<h3>Disable Tensorflow Warnings</h3>"
   ]
  },
  {
   "cell_type": "code",
   "execution_count": 6,
   "metadata": {},
   "outputs": [],
   "source": [
    "os.environ['TF_CPP_MIN_LOG_LEVEL'] = '3' "
   ]
  },
  {
   "cell_type": "markdown",
   "metadata": {},
   "source": [
    "## Dataset\n",
    "\n",
    "The datasets used here were prepared without resampling. The methods used to fill the missings and create new features can be checked in the feature engineering directory in the notebook directory of this project."
   ]
  },
  {
   "cell_type": "code",
   "execution_count": 7,
   "metadata": {},
   "outputs": [],
   "source": [
    "df_r3d_and_r7d = pd.read_csv(\n",
    "    \"../../../../data/interim/\"\n",
    "    + \"r3d_and_r7d-no-resampling-with-fillna-\"\n",
    "    + \"dados-historicos-partner_i-cement-CPIIE40.csv\"\n",
    ")\n",
    "df_r3d_only = pd.read_csv(\n",
    "    \"../../../../data/interim/\"\n",
    "    + \"r3d_only-no-resampling-with-fillna-\"\n",
    "    + \"dados-historicos-partner_i-cement-CPIIE40.csv\"\n",
    ")\n",
    "df_no_r3d_r7d = pd.read_csv(\n",
    "    \"../../../../data/interim/\"\n",
    "    + \"no-r3d-r7d-no-resampling-with-fillna-\"\n",
    "    + \"dados-historicos-partner_i-cement-CPIIE40.csv\"\n",
    ")"
   ]
  },
  {
   "cell_type": "markdown",
   "metadata": {},
   "source": [
    "## Feature Selection\n",
    "\n",
    "### In this notebook we remove variables that could potentially cause data leakage. Thus we are performing testings removing the following variables:\n",
    "\n",
    "#### IP - Initial setting time\n",
    "#### FP - Final setting time\n",
    "\n",
    "\n",
    "#### BL - Blaine specific surface (This is both removed and use)"
   ]
  },
  {
   "cell_type": "markdown",
   "metadata": {},
   "source": [
    "# Neural Network Feedforward - Multiple layers"
   ]
  },
  {
   "cell_type": "markdown",
   "metadata": {},
   "source": [
    "<h3>Baseline model</h3>\n",
    "\n",
    "<h4>Config:</h4>\n",
    "\n",
    "1. Layers: 1\n",
    "\n",
    "2. Units: 32\n",
    "\n",
    "3. Learning rate: 1e-2"
   ]
  },
  {
   "cell_type": "code",
   "execution_count": 8,
   "metadata": {},
   "outputs": [],
   "source": [
    "seed = 47\n",
    "scaler = StandardScaler()\n",
    "repeats = 10\n",
    "n_splits = 10\n",
    "epochs = 300\n",
    "batch_size = 32"
   ]
  },
  {
   "cell_type": "markdown",
   "metadata": {},
   "source": [
    "# 1. Repeated KFold Cross validation"
   ]
  },
  {
   "cell_type": "markdown",
   "metadata": {},
   "source": [
    "## 1.1 Dataset: no-r3d-r7d-no-resampling-with-fillna"
   ]
  },
  {
   "cell_type": "markdown",
   "metadata": {},
   "source": [
    "<h3>Experiment 1</h3>\n",
    "<h4> Repeated KFold Cross Validation - df_no_r3d_r7d</h4>\n",
    "\n",
    "<b>Dataset: df_no_r3d_r7d:</b> In this dataset the R3D and R7D variables are not considered."
   ]
  },
  {
   "cell_type": "code",
   "execution_count": 9,
   "metadata": {},
   "outputs": [],
   "source": [
    "y = df_no_r3d_r7d[\"R28D\"].values\n",
    "x = df_no_r3d_r7d.drop([\"Data/Hora\", \"R28D\", \"IP\", \"FP\"], axis=1).values"
   ]
  },
  {
   "cell_type": "code",
   "execution_count": 10,
   "metadata": {},
   "outputs": [
    {
     "name": "stdout",
     "output_type": "stream",
     "text": [
      "WARNING:tensorflow:5 out of the last 5 calls to <function Model.make_test_function.<locals>.test_function at 0x7ff818259550> triggered tf.function retracing. Tracing is expensive and the excessive number of tracings could be due to (1) creating @tf.function repeatedly in a loop, (2) passing tensors with different shapes, (3) passing Python objects instead of tensors. For (1), please define your @tf.function outside of the loop. For (2), @tf.function has experimental_relax_shapes=True option that relaxes argument shapes that can avoid unnecessary retracing. For (3), please refer to https://www.tensorflow.org/guide/function#controlling_retracing and https://www.tensorflow.org/api_docs/python/tf/function for  more details.\n",
      "WARNING:tensorflow:6 out of the last 6 calls to <function Model.make_test_function.<locals>.test_function at 0x7ff8181cc310> triggered tf.function retracing. Tracing is expensive and the excessive number of tracings could be due to (1) creating @tf.function repeatedly in a loop, (2) passing tensors with different shapes, (3) passing Python objects instead of tensors. For (1), please define your @tf.function outside of the loop. For (2), @tf.function has experimental_relax_shapes=True option that relaxes argument shapes that can avoid unnecessary retracing. For (3), please refer to https://www.tensorflow.org/guide/function#controlling_retracing and https://www.tensorflow.org/api_docs/python/tf/function for  more details.\n",
      "RMSE: 2.129 (0.515)\n",
      "Minutes Elapsed:  11.764834562937418\n"
     ]
    }
   ],
   "source": [
    "rkf1, scores = make_repeated_kfold_cross_validation(x, y)"
   ]
  },
  {
   "cell_type": "code",
   "execution_count": 11,
   "metadata": {},
   "outputs": [
    {
     "data": {
      "image/png": "[encoded data removed]",
      "text/plain": [
       "<Figure size 1080x576 with 1 Axes>"
      ]
     },
     "metadata": {
      "needs_background": "light"
     },
     "output_type": "display_data"
    }
   ],
   "source": [
    "plot_scores_box_plot(np.array(scores), repeats, n_splits)"
   ]
  },
  {
   "cell_type": "markdown",
   "metadata": {},
   "source": [
    "<h3>Experiment 2</h3>\n",
    "<h4> Repeated KFold Cross Validation</h4>\n",
    "\n",
    "<b>Dataset: df_no_r3d_r7d:</b> In this dataset the R3D and R7D variables are not considered.\n",
    "\n",
    "<b>Feature Selection:</b> The BL variable is not used."
   ]
  },
  {
   "cell_type": "code",
   "execution_count": 12,
   "metadata": {},
   "outputs": [],
   "source": [
    "y = df_no_r3d_r7d[\"R28D\"].values\n",
    "x = df_no_r3d_r7d.drop([\"Data/Hora\", \"R28D\", \"IP\", \"FP\", \"BL\"], axis=1).values"
   ]
  },
  {
   "cell_type": "code",
   "execution_count": 13,
   "metadata": {},
   "outputs": [
    {
     "name": "stdout",
     "output_type": "stream",
     "text": [
      "RMSE: 2.121 (0.458)\n",
      "Minutes Elapsed:  11.660392308235169\n"
     ]
    }
   ],
   "source": [
    "rkf1_1, scores = make_repeated_kfold_cross_validation(x, y)"
   ]
  },
  {
   "cell_type": "code",
   "execution_count": 14,
   "metadata": {},
   "outputs": [
    {
     "data": {
      "image/png": "[encoded data removed]",
      "text/plain": [
       "<Figure size 1080x576 with 1 Axes>"
      ]
     },
     "metadata": {
      "needs_background": "light"
     },
     "output_type": "display_data"
    }
   ],
   "source": [
    "plot_scores_box_plot(np.array(scores), repeats, n_splits)"
   ]
  },
  {
   "cell_type": "markdown",
   "metadata": {},
   "source": [
    "<h3>Experiment 3</h3>\n",
    "<h4> Repeated KFold Cross Validation</h4>\n",
    "\n",
    "<b>Dataset: df_no_r3d_r7d:</b> In this dataset the R3D and R7D are not considered\n",
    "\n",
    "<b>Feature Selection:</b> \n",
    "\n",
    "1. The BL variable is not used.\n",
    "2. High correlated variables are removed"
   ]
  },
  {
   "cell_type": "code",
   "execution_count": 15,
   "metadata": {},
   "outputs": [],
   "source": [
    "to_drop = [\n",
    "    \"Data/Hora\",\n",
    "    \"R28D\",\n",
    "    \"IP\",\n",
    "    \"FP\",\n",
    "    \"BL\",\n",
    "    \"CALCITA\",\n",
    "    \"DESIDRATAÇÃO\",\n",
    "    \"GIPSITA\",\n",
    "    \"TIO2\",\n",
    "    \"AL2O3\",\n",
    "    \"PF\",\n",
    "    \"FERRITA\",\n",
    "]\n",
    "y = df_no_r3d_r7d[\"R28D\"].values\n",
    "x = df_no_r3d_r7d.drop(to_drop, axis=1).values"
   ]
  },
  {
   "cell_type": "code",
   "execution_count": 16,
   "metadata": {},
   "outputs": [
    {
     "name": "stdout",
     "output_type": "stream",
     "text": [
      "RMSE: 2.022 (0.385)\n",
      "Minutes Elapsed:  11.646031594276428\n"
     ]
    }
   ],
   "source": [
    "rkf1_2, scores = make_repeated_kfold_cross_validation(x, y)"
   ]
  },
  {
   "cell_type": "code",
   "execution_count": 17,
   "metadata": {},
   "outputs": [
    {
     "data": {
      "image/png": "[encoded data removed]",
      "text/plain": [
       "<Figure size 1080x576 with 1 Axes>"
      ]
     },
     "metadata": {
      "needs_background": "light"
     },
     "output_type": "display_data"
    }
   ],
   "source": [
    "plot_scores_box_plot(np.array(scores), repeats, n_splits)"
   ]
  },
  {
   "cell_type": "markdown",
   "metadata": {},
   "source": [
    "## 1.2 Dataset: r3d_only-no-resampling-with-fillna"
   ]
  },
  {
   "cell_type": "markdown",
   "metadata": {},
   "source": [
    "<h3>Experiment 4</h3>\n",
    "<h4> Repeated KFold Cross Validation - df_r3d_only</h4>\n",
    "\n",
    "<b>Dataset: df_r3d_only:</b> In this dataset only R3D is considered."
   ]
  },
  {
   "cell_type": "code",
   "execution_count": 18,
   "metadata": {},
   "outputs": [],
   "source": [
    "y = df_r3d_only['R28D'].values\n",
    "x = df_r3d_only.drop(['Data/Hora', 'R28D', 'IP', 'FP'], axis=1).values"
   ]
  },
  {
   "cell_type": "code",
   "execution_count": 19,
   "metadata": {},
   "outputs": [
    {
     "name": "stdout",
     "output_type": "stream",
     "text": [
      "RMSE: 2.088 (0.667)\n",
      "Minutes Elapsed:  11.820633435249329\n"
     ]
    }
   ],
   "source": [
    "rkf2, scores = make_repeated_kfold_cross_validation(x, y)"
   ]
  },
  {
   "cell_type": "code",
   "execution_count": 20,
   "metadata": {},
   "outputs": [
    {
     "data": {
      "image/png": "[encoded data removed]",
      "text/plain": [
       "<Figure size 1080x576 with 1 Axes>"
      ]
     },
     "metadata": {
      "needs_background": "light"
     },
     "output_type": "display_data"
    }
   ],
   "source": [
    "plot_scores_box_plot(np.array(scores), repeats, n_splits)"
   ]
  },
  {
   "cell_type": "markdown",
   "metadata": {},
   "source": [
    "<h3>Experiment 5</h3>\n",
    "<h4> Repeated KFold Cross Validation - df_r3d_only</h4>\n",
    "\n",
    "<b>Dataset: df_r3d_only:</b> In this dataset only R3D is considered.\n",
    "\n",
    "<b>Feature Selection:</b> The BL variable is not used."
   ]
  },
  {
   "cell_type": "code",
   "execution_count": 21,
   "metadata": {},
   "outputs": [],
   "source": [
    "y = df_r3d_only['R28D'].values\n",
    "x = df_r3d_only.drop(['Data/Hora', 'R28D', 'IP', 'FP', 'BL'], axis=1).values"
   ]
  },
  {
   "cell_type": "code",
   "execution_count": 22,
   "metadata": {},
   "outputs": [
    {
     "name": "stdout",
     "output_type": "stream",
     "text": [
      "RMSE: 2.149 (0.739)\n",
      "Minutes Elapsed:  11.68449001312256\n"
     ]
    }
   ],
   "source": [
    "rkf2_1, scores = make_repeated_kfold_cross_validation(x, y)"
   ]
  },
  {
   "cell_type": "code",
   "execution_count": 23,
   "metadata": {},
   "outputs": [
    {
     "data": {
      "image/png": "[encoded data removed]",
      "text/plain": [
       "<Figure size 1080x576 with 1 Axes>"
      ]
     },
     "metadata": {
      "needs_background": "light"
     },
     "output_type": "display_data"
    }
   ],
   "source": [
    "plot_scores_box_plot(np.array(scores), repeats, n_splits)"
   ]
  },
  {
   "cell_type": "markdown",
   "metadata": {},
   "source": [
    "<h3>Experiment 6</h3>\n",
    "<h4> Repeated KFold Cross Validation - df_r3d_only</h4>\n",
    "\n",
    "<b>Dataset: df_r3d_only:</b> In this dataset only R3D is considered.\n",
    "\n",
    "<b>Feature Selection:</b>\n",
    "\n",
    "1. The BL variable is not used.\n",
    "2. High correlated variables are removed"
   ]
  },
  {
   "cell_type": "code",
   "execution_count": 24,
   "metadata": {},
   "outputs": [],
   "source": [
    "to_drop = [\n",
    "    \"Data/Hora\",\n",
    "    \"R28D\",\n",
    "    \"IP\",\n",
    "    \"FP\",\n",
    "    \"BL\",\n",
    "    \"CALCITA\",\n",
    "    \"DESIDRATAÇÃO\",\n",
    "    \"GIPSITA\",\n",
    "    \"TIO2\",\n",
    "    \"AL2O3\",\n",
    "    \"PF\",\n",
    "    \"FERRITA\",\n",
    "]\n",
    "y = df_r3d_only[\"R28D\"].values\n",
    "x = df_r3d_only.drop(to_drop, axis=1).values"
   ]
  },
  {
   "cell_type": "code",
   "execution_count": 25,
   "metadata": {},
   "outputs": [
    {
     "name": "stdout",
     "output_type": "stream",
     "text": [
      "RMSE: 2.093 (0.536)\n",
      "Minutes Elapsed:  11.718770829836528\n"
     ]
    }
   ],
   "source": [
    "rkf2_2, scores = make_repeated_kfold_cross_validation(x, y)"
   ]
  },
  {
   "cell_type": "code",
   "execution_count": 26,
   "metadata": {},
   "outputs": [
    {
     "data": {
      "image/png": "[encoded data removed]",
      "text/plain": [
       "<Figure size 1080x576 with 1 Axes>"
      ]
     },
     "metadata": {
      "needs_background": "light"
     },
     "output_type": "display_data"
    }
   ],
   "source": [
    "plot_scores_box_plot(np.array(scores), repeats, n_splits)"
   ]
  },
  {
   "cell_type": "markdown",
   "metadata": {},
   "source": [
    "## 1.3 Dataset: r3d_and_r7d-no-resampling-with-fillna"
   ]
  },
  {
   "cell_type": "markdown",
   "metadata": {},
   "source": [
    "<h3>Experiment 7</h3>\n",
    "<h4> Repeated KFold Cross Validation - df_r3d_and_r7d</h4>\n",
    "\n",
    "<b>Dataset: df_r3d_and_r7d:</b> In this dataset both R3D and R7D are considered.        "
   ]
  },
  {
   "cell_type": "code",
   "execution_count": 27,
   "metadata": {},
   "outputs": [],
   "source": [
    "y = df_r3d_and_r7d['R28D'].values\n",
    "x = df_r3d_and_r7d.drop(['Data/Hora', 'R28D', 'IP', 'FP'], axis=1).values"
   ]
  },
  {
   "cell_type": "code",
   "execution_count": 28,
   "metadata": {},
   "outputs": [
    {
     "name": "stdout",
     "output_type": "stream",
     "text": [
      "RMSE: 2.079 (0.906)\n",
      "Minutes Elapsed:  11.52229147752126\n"
     ]
    }
   ],
   "source": [
    "rkf3, scores = make_repeated_kfold_cross_validation(x, y)"
   ]
  },
  {
   "cell_type": "code",
   "execution_count": 29,
   "metadata": {},
   "outputs": [
    {
     "data": {
      "image/png": "[encoded data removed]",
      "text/plain": [
       "<Figure size 1080x576 with 1 Axes>"
      ]
     },
     "metadata": {
      "needs_background": "light"
     },
     "output_type": "display_data"
    }
   ],
   "source": [
    "plot_scores_box_plot(np.array(scores), repeats, n_splits)"
   ]
  },
  {
   "cell_type": "markdown",
   "metadata": {},
   "source": [
    "<h3>Experiment 8</h3>\n",
    "<h4> Repeated KFold Cross Validation - df_r3d-and-rd7</h4>\n",
    "\n",
    "<b>Dataset: df_r3d_and_r7d:</b> In this dataset both R3D and R7D variables are considered.\n",
    "\n",
    "<b>Feature Selection:</b> The BL variable is not used."
   ]
  },
  {
   "cell_type": "code",
   "execution_count": 30,
   "metadata": {},
   "outputs": [],
   "source": [
    "y = df_r3d_and_r7d['R28D'].values\n",
    "x = df_r3d_and_r7d.drop(['Data/Hora', 'R28D', 'IP', 'FP', 'BL'], axis=1).values"
   ]
  },
  {
   "cell_type": "code",
   "execution_count": 31,
   "metadata": {},
   "outputs": [
    {
     "name": "stdout",
     "output_type": "stream",
     "text": [
      "RMSE: 1.957 (0.652)\n",
      "Minutes Elapsed:  11.506638399759929\n"
     ]
    }
   ],
   "source": [
    "rkf3_1, scores = make_repeated_kfold_cross_validation(x, y)"
   ]
  },
  {
   "cell_type": "code",
   "execution_count": 32,
   "metadata": {},
   "outputs": [
    {
     "data": {
      "image/png": "[encoded data removed]",
      "text/plain": [
       "<Figure size 1080x576 with 1 Axes>"
      ]
     },
     "metadata": {
      "needs_background": "light"
     },
     "output_type": "display_data"
    }
   ],
   "source": [
    "plot_scores_box_plot(np.array(scores), repeats, n_splits)"
   ]
  },
  {
   "cell_type": "markdown",
   "metadata": {},
   "source": [
    "<h3>Experiment 9</h3>\n",
    "<h4> Repeated KFold Cross Validation</h4>\n",
    "\n",
    "<b>Dataset: df_no_r3d_r7d:</b> In this dataset the R3D and R7D are used\n",
    "\n",
    "<b>Feature Selection:</b> \n",
    "\n",
    "1. The BL variable is not used.\n",
    "2. High correlated variables are removed"
   ]
  },
  {
   "cell_type": "code",
   "execution_count": 33,
   "metadata": {},
   "outputs": [],
   "source": [
    "to_drop = [\n",
    "    \"Data/Hora\",\n",
    "    \"R28D\",\n",
    "    \"IP\",\n",
    "    \"FP\",\n",
    "    \"BL\",\n",
    "    \"CALCITA\",\n",
    "    \"DESIDRATAÇÃO\",\n",
    "    \"GIPSITA\",\n",
    "    \"TIO2\",\n",
    "    \"AL2O3\",\n",
    "    \"PF\",\n",
    "    \"FERRITA\",\n",
    "]\n",
    "y = df_r3d_and_r7d[\"R28D\"].values\n",
    "x = df_r3d_and_r7d.drop(to_drop, axis=1).values"
   ]
  },
  {
   "cell_type": "code",
   "execution_count": 34,
   "metadata": {},
   "outputs": [
    {
     "name": "stdout",
     "output_type": "stream",
     "text": [
      "RMSE: 1.936 (0.414)\n",
      "Minutes Elapsed:  11.48365024725596\n"
     ]
    }
   ],
   "source": [
    "rkf3_2, scores = make_repeated_kfold_cross_validation(x, y)"
   ]
  },
  {
   "cell_type": "code",
   "execution_count": 35,
   "metadata": {},
   "outputs": [
    {
     "data": {
      "image/png": "[encoded data removed]",
      "text/plain": [
       "<Figure size 1080x576 with 1 Axes>"
      ]
     },
     "metadata": {
      "needs_background": "light"
     },
     "output_type": "display_data"
    }
   ],
   "source": [
    "plot_scores_box_plot(np.array(scores), repeats, n_splits)"
   ]
  },
  {
   "cell_type": "code",
   "execution_count": null,
   "metadata": {},
   "outputs": [],
   "source": []
  }
 ],
 "metadata": {
  "kernelspec": {
   "display_name": "ccs28-venv",
   "language": "python",
   "name": "ccs28-venv"
  },
  "language_info": {
   "codemirror_mode": {
    "name": "ipython",
    "version": 3
   },
   "file_extension": ".py",
   "mimetype": "text/x-python",
   "name": "python",
   "nbconvert_exporter": "python",
   "pygments_lexer": "ipython3",
   "version": "3.8.10"
  }
 },
 "nbformat": 4,
 "nbformat_minor": 4
}
