{
 "cells": [
  {
   "cell_type": "code",
   "execution_count": 1,
   "metadata": {},
   "outputs": [],
   "source": [
    "import pandas as pd\n",
    "import numpy as np\n",
    "import tensorflow as tf\n",
    "import keras_tuner as kt\n",
    "import matplotlib.pyplot as plt\n",
    "import time\n",
    "import os\n",
    "\n",
    "from sklearn.preprocessing import StandardScaler\n",
    "from sklearn.model_selection import RepeatedKFold\n",
    "from sklearn.model_selection import train_test_split\n",
    "from sklearn.metrics import mean_squared_error\n",
    "from sklearn.pipeline import Pipeline"
   ]
  },
  {
   "cell_type": "code",
   "execution_count": 2,
   "metadata": {},
   "outputs": [],
   "source": [
    "def plot_scores_box_plot(scores, repeats, n_splits):\n",
    "    plt.figure(figsize=(15, 8))\n",
    "    plt.boxplot(\n",
    "        scores.reshape((repeats, n_splits)),\n",
    "        labels=[str(r) for r in range(1, repeats + 1)],\n",
    "        showmeans=True,\n",
    "    )\n",
    "    plt.ylabel(\"RMSE\", labelpad=20, fontsize=15)\n",
    "    plt.xlabel(\"Repeats\", labelpad=20, fontsize=15)\n",
    "    plt.show()"
   ]
  },
  {
   "cell_type": "code",
   "execution_count": 3,
   "metadata": {},
   "outputs": [],
   "source": [
    "def create_keras_model(\n",
    "    activation=\"swish\", dropout_rate=0.0, n_units=0, n_layers=0, learning_rate=1e-3\n",
    "):\n",
    "    model = tf.keras.Sequential()\n",
    "\n",
    "    for _ in range(n_layers):\n",
    "        model.add(tf.keras.layers.Dense(units=n_units, activation=activation))\n",
    "    model.add(tf.keras.layers.Dropout(dropout_rate))\n",
    "    model.add(tf.keras.layers.Dense(1))\n",
    "    model.compile(\n",
    "        optimizer=tf.keras.optimizers.Adam(learning_rate=learning_rate),\n",
    "        loss=\"mse\",\n",
    "        metrics=[tf.keras.metrics.RootMeanSquaredError(name=\"RMSE\")],\n",
    "    )\n",
    "    return model"
   ]
  },
  {
   "cell_type": "code",
   "execution_count": 4,
   "metadata": {},
   "outputs": [],
   "source": [
    "def get_baseline_model():\n",
    "    model = tf.keras.Sequential()\n",
    "\n",
    "    model.add(tf.keras.layers.Dense(units=32))\n",
    "    model.add(tf.keras.layers.Dense(units=1))\n",
    "    opt = tf.keras.optimizers.Adam(learning_rate=0.01)\n",
    "    model.compile(\n",
    "        optimizer=opt,\n",
    "        loss=\"mse\",\n",
    "        metrics=[tf.keras.metrics.RootMeanSquaredError(name=\"RMSE\")],\n",
    "    )\n",
    "    return model"
   ]
  },
  {
   "cell_type": "code",
   "execution_count": 5,
   "metadata": {},
   "outputs": [],
   "source": [
    "def make_repeated_kfold_cross_validation(x, y, params=None):\n",
    "    if params is not None:\n",
    "        activation = params[\"activation\"]\n",
    "        dropout_rate = params[\"dropout_rate\"]\n",
    "        n_units = params[\"n_units\"]\n",
    "        n_layers = params[\"n_layers\"]\n",
    "        learning_rate = params[\"learning_rate\"]\n",
    "\n",
    "    rkf = RepeatedKFold(n_splits=10, n_repeats=10, random_state=seed)\n",
    "    scores = []\n",
    "\n",
    "    start = time.time()\n",
    "    for train, test in rkf.split(x):\n",
    "        if params is not None:\n",
    "            model = create_keras_model(\n",
    "                activation=activation,\n",
    "                dropout_rate=dropout_rate,\n",
    "                n_units=n_units,\n",
    "                n_layers=n_layers,\n",
    "                learning_rate=learning_rate,\n",
    "            )\n",
    "        else:\n",
    "            model = get_baseline_model()\n",
    "        model.fit(\n",
    "            scaler.fit_transform(x[train]),\n",
    "            y[train],\n",
    "            epochs=epochs,\n",
    "            batch_size=batch_size,\n",
    "            verbose=0,\n",
    "        )\n",
    "        rmse = model.evaluate(scaler.transform(x[test]), y[test], verbose=0)\n",
    "        scores.append(rmse[1])\n",
    "\n",
    "    print(\"RMSE: %.3f (%.3f)\" % (np.mean(scores), np.std(scores)))\n",
    "    end = time.time()\n",
    "    print(\"Minutes Elapsed: \", (end - start) / 60)\n",
    "    return rkf, scores"
   ]
  },
  {
   "cell_type": "markdown",
   "metadata": {},
   "source": [
    "<h3>Disable Tensorflow Warnings</h3>"
   ]
  },
  {
   "cell_type": "code",
   "execution_count": 6,
   "metadata": {},
   "outputs": [],
   "source": [
    "os.environ['TF_CPP_MIN_LOG_LEVEL'] = '3' "
   ]
  },
  {
   "cell_type": "markdown",
   "metadata": {},
   "source": [
    "# FFT Transform\n",
    "\n",
    "This notebook contains that experiments with the data transformed with fast fourier transform."
   ]
  },
  {
   "cell_type": "code",
   "execution_count": 7,
   "metadata": {},
   "outputs": [],
   "source": [
    "df_r3d_and_r7d = pd.read_csv(\n",
    "    \"../../../../data/interim/\"\n",
    "    + \"r3d_and_r7d-no-resampling-with-fillna-and-fft-vars-only-\"\n",
    "    + \"dados-historicos-partner_i-cement-CPIIF40.csv\"\n",
    ")\n",
    "df_r3d_only = pd.read_csv(\n",
    "    \"../../../../data/interim/\"\n",
    "    + \"r3d_only-no-resampling-with-fillna-and-fft-vars-only-\"\n",
    "    + \"dados-historicos-partner_i-cement-CPIIF40.csv\"\n",
    ")\n",
    "df_no_r3d_r7d = pd.read_csv(\n",
    "    \"../../../../data/interim/\"\n",
    "    + \"no-r3d-r7d-no-resampling-with-fillna-and-fft-vars-only-\"\n",
    "    + \"dados-historicos-partner_i-cement-CPIIF40.csv\"\n",
    ")"
   ]
  },
  {
   "cell_type": "markdown",
   "metadata": {},
   "source": [
    "# Neural Network Feedforward - Multiple layers"
   ]
  },
  {
   "cell_type": "markdown",
   "metadata": {},
   "source": [
    "<h3>Baseline model</h3>\n",
    "\n",
    "<h4>Config:</h4>\n",
    "\n",
    "1. Layers: 1\n",
    "\n",
    "2. Units: 32\n",
    "\n",
    "3. Learning rate: 1e-2"
   ]
  },
  {
   "cell_type": "code",
   "execution_count": 8,
   "metadata": {},
   "outputs": [],
   "source": [
    "seed = 47\n",
    "scaler = StandardScaler()\n",
    "repeats = 10\n",
    "n_splits = 10\n",
    "epochs = 300\n",
    "batch_size = 32"
   ]
  },
  {
   "cell_type": "markdown",
   "metadata": {},
   "source": [
    "# Repeated KFold Cross validation"
   ]
  },
  {
   "cell_type": "markdown",
   "metadata": {},
   "source": [
    "<h3>Experiment 1</h3>\n",
    "<h4> Repeated KFold Cross Validation - df_no_r3d_r7d</h4>\n",
    "\n",
    "<b>Dataset: df_no_r3d_r7d:</b> In this dataset the R3D and R7D variables are not considered."
   ]
  },
  {
   "cell_type": "code",
   "execution_count": 9,
   "metadata": {},
   "outputs": [],
   "source": [
    "y = df_no_r3d_r7d['R28D'].values\n",
    "x = df_no_r3d_r7d.drop(['Data/Hora', 'R28D'], axis=1).values"
   ]
  },
  {
   "cell_type": "code",
   "execution_count": 10,
   "metadata": {},
   "outputs": [
    {
     "name": "stdout",
     "output_type": "stream",
     "text": [
      "WARNING:tensorflow:5 out of the last 9 calls to <function Model.make_test_function.<locals>.test_function at 0x7f57c82e5ca0> triggered tf.function retracing. Tracing is expensive and the excessive number of tracings could be due to (1) creating @tf.function repeatedly in a loop, (2) passing tensors with different shapes, (3) passing Python objects instead of tensors. For (1), please define your @tf.function outside of the loop. For (2), @tf.function has experimental_relax_shapes=True option that relaxes argument shapes that can avoid unnecessary retracing. For (3), please refer to https://www.tensorflow.org/guide/function#controlling_retracing and https://www.tensorflow.org/api_docs/python/tf/function for  more details.\n",
      "WARNING:tensorflow:6 out of the last 11 calls to <function Model.make_test_function.<locals>.test_function at 0x7f57c8037940> triggered tf.function retracing. Tracing is expensive and the excessive number of tracings could be due to (1) creating @tf.function repeatedly in a loop, (2) passing tensors with different shapes, (3) passing Python objects instead of tensors. For (1), please define your @tf.function outside of the loop. For (2), @tf.function has experimental_relax_shapes=True option that relaxes argument shapes that can avoid unnecessary retracing. For (3), please refer to https://www.tensorflow.org/guide/function#controlling_retracing and https://www.tensorflow.org/api_docs/python/tf/function for  more details.\n",
      "RMSE: 2.110 (0.278)\n",
      "Minutes Elapsed:  12.127171603838603\n"
     ]
    }
   ],
   "source": [
    "rkf1, scores = make_repeated_kfold_cross_validation(x, y)"
   ]
  },
  {
   "cell_type": "code",
   "execution_count": 11,
   "metadata": {},
   "outputs": [
    {
     "data": {
      "image/png": "[encoded data removed]",
      "text/plain": [
       "<Figure size 1080x576 with 1 Axes>"
      ]
     },
     "metadata": {
      "needs_background": "light"
     },
     "output_type": "display_data"
    }
   ],
   "source": [
    "plot_scores_box_plot(np.array(scores), repeats, n_splits)"
   ]
  },
  {
   "cell_type": "markdown",
   "metadata": {},
   "source": [
    "<h3>Experiment 2</h3>\n",
    "<h4> Repeated KFold Cross Validation - df_r3d_only</h4>\n",
    "\n",
    "<b>Dataset: df_r3d_only:</b> In this dataset only R3D is considered."
   ]
  },
  {
   "cell_type": "code",
   "execution_count": 12,
   "metadata": {},
   "outputs": [],
   "source": [
    "y = df_r3d_only['R28D'].values\n",
    "x = df_r3d_only.drop(['Data/Hora', 'R28D'], axis=1).values"
   ]
  },
  {
   "cell_type": "code",
   "execution_count": 13,
   "metadata": {},
   "outputs": [
    {
     "name": "stdout",
     "output_type": "stream",
     "text": [
      "RMSE: 2.069 (0.335)\n",
      "Minutes Elapsed:  9.95982848405838\n"
     ]
    }
   ],
   "source": [
    "rkf2, scores = make_repeated_kfold_cross_validation(x, y)"
   ]
  },
  {
   "cell_type": "code",
   "execution_count": 14,
   "metadata": {},
   "outputs": [
    {
     "data": {
      "image/png": "[encoded data removed]",
      "text/plain": [
       "<Figure size 1080x576 with 1 Axes>"
      ]
     },
     "metadata": {
      "needs_background": "light"
     },
     "output_type": "display_data"
    }
   ],
   "source": [
    "plot_scores_box_plot(np.array(scores), repeats, n_splits)"
   ]
  },
  {
   "cell_type": "markdown",
   "metadata": {},
   "source": [
    "<h3>Experiment 3</h3>\n",
    "<h4> Repeated KFold Cross Validation - df_r3d_and_r7d</h4>\n",
    "\n",
    "<b>Dataset: df_r3d_and_r7d:</b> In this dataset both R3D and R7D are considered.        "
   ]
  },
  {
   "cell_type": "code",
   "execution_count": 15,
   "metadata": {},
   "outputs": [],
   "source": [
    "y = df_r3d_and_r7d['R28D'].values\n",
    "x = df_r3d_and_r7d.drop(['Data/Hora', 'R28D'], axis=1).values"
   ]
  },
  {
   "cell_type": "code",
   "execution_count": 16,
   "metadata": {},
   "outputs": [
    {
     "name": "stdout",
     "output_type": "stream",
     "text": [
      "RMSE: 2.076 (0.299)\n",
      "Minutes Elapsed:  9.980385434627532\n"
     ]
    }
   ],
   "source": [
    "rkf3, scores = make_repeated_kfold_cross_validation(x, y)"
   ]
  },
  {
   "cell_type": "code",
   "execution_count": 17,
   "metadata": {},
   "outputs": [
    {
     "data": {
      "image/png": "[encoded data removed]",
      "text/plain": [
       "<Figure size 1080x576 with 1 Axes>"
      ]
     },
     "metadata": {
      "needs_background": "light"
     },
     "output_type": "display_data"
    }
   ],
   "source": [
    "plot_scores_box_plot(np.array(scores), repeats, n_splits)"
   ]
  },
  {
   "cell_type": "code",
   "execution_count": null,
   "metadata": {},
   "outputs": [],
   "source": []
  }
 ],
 "metadata": {
  "kernelspec": {
   "display_name": "ccs28-venv",
   "language": "python",
   "name": "ccs28-venv"
  },
  "language_info": {
   "codemirror_mode": {
    "name": "ipython",
    "version": 3
   },
   "file_extension": ".py",
   "mimetype": "text/x-python",
   "name": "python",
   "nbconvert_exporter": "python",
   "pygments_lexer": "ipython3",
   "version": "3.8.10"
  }
 },
 "nbformat": 4,
 "nbformat_minor": 4
}
