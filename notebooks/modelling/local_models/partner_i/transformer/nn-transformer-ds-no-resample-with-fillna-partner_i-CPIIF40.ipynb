{
 "cells": [
  {
   "cell_type": "code",
   "execution_count": 1,
   "metadata": {},
   "outputs": [],
   "source": [
    "import pandas as pd\n",
    "import numpy as np\n",
    "import tensorflow as tf\n",
    "import matplotlib.pyplot as plt\n",
    "import time\n",
    "import os\n",
    "\n",
    "from sklearn.model_selection import TimeSeriesSplit\n",
    "from sklearn.preprocessing import StandardScaler\n",
    "from sklearn.pipeline import Pipeline\n",
    "\n",
    "from src.utils.time_series_procs import split_sequences\n",
    "from src.models.transformer_ts_tf import Transformer"
   ]
  },
  {
   "cell_type": "code",
   "execution_count": 2,
   "metadata": {},
   "outputs": [],
   "source": [
    "def get_times_series_data(df, cut_date):\n",
    "    columns = list(df.columns.drop(['R28D']))\n",
    "    columns.append('R28D')\n",
    "    df = df.reindex(columns=columns)\n",
    "    df['Data/Hora'] = pd.to_datetime(df['Data/Hora'])\n",
    "    df_train = df[df['Data/Hora'] < cut_date]\n",
    "    df_test = df[df['Data/Hora'] >= cut_date]\n",
    "    df_train = df_train.drop(['Data/Hora'], axis=1)\n",
    "    df_test = df_test.drop(['Data/Hora'], axis=1)\n",
    "    x_train, y_train = split_sequences(df_train.values, TIME_STEPS)\n",
    "    x_test, y_test = split_sequences(df_test.values, TIME_STEPS)\n",
    "    return x_train, y_train, x_test, y_test"
   ]
  },
  {
   "cell_type": "code",
   "execution_count": 3,
   "metadata": {},
   "outputs": [],
   "source": [
    "class StandardScaler3DShape():\n",
    "    def __init__(self):\n",
    "        self.scaler = StandardScaler()\n",
    "    def fit_transform(self,X, y=None):\n",
    "        X_new = self.scaler.fit_transform(X.reshape(-1, X.shape[-1])).reshape(X.shape)\n",
    "        return X_new\n",
    "        \n",
    "    def fit(self,X, y=None):\n",
    "        X_new = X.reshape(-1, X.shape[-1])\n",
    "        self.scaler.fit(X_new)\n",
    "        return self\n",
    "    \n",
    "    def transform(self,X,y=None):\n",
    "        X_new = self.scaler.transform(X.reshape(-1, X.shape[-1])).reshape(X.shape)\n",
    "        return X_new"
   ]
  },
  {
   "cell_type": "code",
   "execution_count": 4,
   "metadata": {},
   "outputs": [],
   "source": [
    "def get_baseline_model(num_features, time_steps, num_heads=2, num_layers_enc=1, num_feed_forward=32):\n",
    "    model = Transformer(num_hid=num_features,\n",
    "                        time_steps=time_steps,\n",
    "                        num_head=num_heads,\n",
    "                        num_layers_enc=num_layers_enc,\n",
    "                        num_feed_forward=num_feed_forward)\n",
    "\n",
    "    opt = tf.keras.optimizers.Adam(learning_rate=0.01)\n",
    "    model.compile(optimizer=opt, loss='mse', metrics=[tf.keras.metrics.RootMeanSquaredError(name=\"RMSE\")])\n",
    "    return model"
   ]
  },
  {
   "cell_type": "code",
   "execution_count": 5,
   "metadata": {},
   "outputs": [],
   "source": [
    "def make_repeated_time_series_k_fold(x, \n",
    "                                     y, \n",
    "                                     train_period,\n",
    "                                     test_period,\n",
    "                                     repeats=10,\n",
    "                                     show_individual_results=True,\n",
    "                                     show_final_result=True):\n",
    "    results = []\n",
    "    max_samples = x.shape[0]\n",
    "\n",
    "    for _ in range(repeats):\n",
    "        i = 0\n",
    "        scores = []\n",
    "        for _ in range(0, max_samples//train_period):\n",
    "            x_train = x[i:i+train_period]\n",
    "            y_train = y[i:i+train_period]\n",
    "            x_test = x[i+train_period: i+train_period+test_period]\n",
    "            y_test = y[i+train_period: i+train_period+test_period]\n",
    "            i += train_period\n",
    "            x_train = scaler.fit_transform(x_train.reshape(-1, x_train.shape[-1])).reshape(x_train.shape)\n",
    "            x_test = scaler.transform(x_test.reshape(-1, x_test.shape[-1])).reshape(x_test.shape)\n",
    "            model = get_baseline_model(num_features=x_train.shape[-1], time_steps=x_train.shape[-2])\n",
    "            model.fit(x_train, y_train, epochs=100, batch_size=32, verbose=0)\n",
    "            rmse = model.evaluate(x_test, y_test, verbose=0)\n",
    "            scores.append(rmse[1])\n",
    "        results.append(scores)\n",
    "        if show_individual_results:\n",
    "            print('RMSE: %.3f (%.3f)' % (np.mean(scores), np.std(scores)))\n",
    "    if show_final_result:\n",
    "        print('\\nRMSE: %.3f (%.3f)' % (np.mean(results), np.std(results)))\n",
    "    return results"
   ]
  },
  {
   "cell_type": "code",
   "execution_count": 6,
   "metadata": {},
   "outputs": [],
   "source": [
    "def make_timesteps_repeated_time_series_k_fold(df,\n",
    "                                               train_period,\n",
    "                                               test_period,\n",
    "                                               repeats=10,\n",
    "                                               timesteps_list=[3],\n",
    "                                               show_results=True):\n",
    "    results = {}\n",
    "    \n",
    "    for timesteps in timesteps_list:\n",
    "        x, y = split_sequences(df.values, timesteps)\n",
    "        scores = make_repeated_time_series_k_fold(x,\n",
    "                                                  y,\n",
    "                                                  train_period,\n",
    "                                                  test_period,\n",
    "                                                  repeats=10,\n",
    "                                                  show_individual_results=False,\n",
    "                                                  show_final_result=False)\n",
    "        results[timesteps] = scores\n",
    "        if show_results:\n",
    "            print('TIMESTEPS: %d RMSE: %.3f (%.3f)' % (timesteps, np.mean(scores), np.std(scores)))\n",
    "    return results"
   ]
  },
  {
   "cell_type": "markdown",
   "metadata": {},
   "source": [
    "<h3>Disable Tensorflow Warnings</h3>"
   ]
  },
  {
   "cell_type": "code",
   "execution_count": 7,
   "metadata": {},
   "outputs": [],
   "source": [
    "os.environ['TF_CPP_MIN_LOG_LEVEL'] = '3' "
   ]
  },
  {
   "cell_type": "code",
   "execution_count": 8,
   "metadata": {},
   "outputs": [],
   "source": [
    "name = \"dados-historicos-partner_i-cement-CPIIF40.csv\"\n",
    "df_r3d_and_r7d = pd.read_csv(\"../../data/interim/\" + \"r3d_and_r7d-no-resampling-with-fillna-\" + name)\n",
    "df_r3d_only = pd.read_csv(\"../../data/interim/\" + \"r3d_only-no-resampling-with-fillna-\" + name)\n",
    "df_no_r3d_r7d = pd.read_csv(\"../../data/interim/\" + \"no-r3d-r7d-no-resampling-with-fillna-\" + name)"
   ]
  },
  {
   "cell_type": "code",
   "execution_count": 9,
   "metadata": {},
   "outputs": [],
   "source": [
    "seed = 47\n",
    "scaler = StandardScaler()\n",
    "\n",
    "timesteps_list = [1, 3, 5, 7, 10, 15, 20]\n",
    "repeats = 10"
   ]
  },
  {
   "cell_type": "markdown",
   "metadata": {},
   "source": [
    "# Transformer Encoder"
   ]
  },
  {
   "cell_type": "markdown",
   "metadata": {},
   "source": [
    "# Configs:\n",
    "\n",
    "1. TIMESTEPS: [1, 3, 5, 7, 10, 15, 20]\n",
    "\n",
    "2. Epochs: 100\n",
    "\n",
    "3. Batch size: 32\n",
    "\n",
    "4. num heads: 2\n",
    "\n",
    "5. FF Layers enc: 1\n",
    "\n",
    "      5.1 Units 32\n",
    "\n",
    "6. Optimization Algorithm: Adam\n",
    "    \n",
    "    6.1. Learning Rate: 1e-2"
   ]
  },
  {
   "cell_type": "markdown",
   "metadata": {},
   "source": [
    "# Times Series Repeated KFold Cross validation - different Timesteps values\n",
    "\n",
    "Here we will make a Times Series KFold Cross validation with all 3 datasets. Here we are using the Blocking Time Series Split method. And with timeseries Split method. We also do it with different number of timesteps\n"
   ]
  },
  {
   "cell_type": "markdown",
   "metadata": {},
   "source": [
    "<h3> Time Series Repeated KFold Cross Validation with vary timesteps - df_no_r3d_r7d</h3>\n",
    "\n",
    "<b>Dataset: df_no_r3d_r7d:</b> In this dataset the R3D and R7D variables are not considered."
   ]
  },
  {
   "cell_type": "code",
   "execution_count": 10,
   "metadata": {},
   "outputs": [],
   "source": [
    "df = df_no_r3d_r7d.copy()\n",
    "columns = list(df.columns.drop(['R28D']))\n",
    "columns.append('R28D')\n",
    "df = df.reindex(columns=columns)\n",
    "df = df.drop(['Data/Hora'], axis=1)"
   ]
  },
  {
   "cell_type": "markdown",
   "metadata": {},
   "source": [
    "<h4>Experiment 1</h4>\n",
    "    \n",
    "<b>Train 6 months and predicts one month every year</b>"
   ]
  },
  {
   "cell_type": "code",
   "execution_count": 11,
   "metadata": {},
   "outputs": [],
   "source": [
    "train_period = 90 # 6 months of data since the data is spaced every 2 days\n",
    "test_period = 15 # 1 month"
   ]
  },
  {
   "cell_type": "code",
   "execution_count": 12,
   "metadata": {},
   "outputs": [
    {
     "name": "stdout",
     "output_type": "stream",
     "text": [
      "WARNING:tensorflow:5 out of the last 5 calls to <function Model.make_test_function.<locals>.test_function at 0x7f3e4456d280> triggered tf.function retracing. Tracing is expensive and the excessive number of tracings could be due to (1) creating @tf.function repeatedly in a loop, (2) passing tensors with different shapes, (3) passing Python objects instead of tensors. For (1), please define your @tf.function outside of the loop. For (2), @tf.function has experimental_relax_shapes=True option that relaxes argument shapes that can avoid unnecessary retracing. For (3), please refer to https://www.tensorflow.org/guide/function#controlling_retracing and https://www.tensorflow.org/api_docs/python/tf/function for  more details.\n",
      "WARNING:tensorflow:6 out of the last 6 calls to <function Model.make_test_function.<locals>.test_function at 0x7f3e4436c670> triggered tf.function retracing. Tracing is expensive and the excessive number of tracings could be due to (1) creating @tf.function repeatedly in a loop, (2) passing tensors with different shapes, (3) passing Python objects instead of tensors. For (1), please define your @tf.function outside of the loop. For (2), @tf.function has experimental_relax_shapes=True option that relaxes argument shapes that can avoid unnecessary retracing. For (3), please refer to https://www.tensorflow.org/guide/function#controlling_retracing and https://www.tensorflow.org/api_docs/python/tf/function for  more details.\n",
      "TIMESTEPS: 1 RMSE: 1.999 (0.232)\n",
      "TIMESTEPS: 3 RMSE: 2.057 (0.324)\n",
      "TIMESTEPS: 5 RMSE: 1.974 (0.356)\n",
      "TIMESTEPS: 7 RMSE: 2.234 (0.541)\n",
      "TIMESTEPS: 10 RMSE: 2.478 (0.461)\n",
      "TIMESTEPS: 15 RMSE: 3.050 (0.779)\n",
      "TIMESTEPS: 20 RMSE: 2.812 (0.451)\n"
     ]
    }
   ],
   "source": [
    "results = make_timesteps_repeated_time_series_k_fold(df, train_period, test_period, repeats, timesteps_list, True)"
   ]
  },
  {
   "cell_type": "markdown",
   "metadata": {},
   "source": [
    "<h4>Experiment 2</h4>\n",
    "    \n",
    "<b>Train 11 months and predicts one month every year</b>"
   ]
  },
  {
   "cell_type": "code",
   "execution_count": 13,
   "metadata": {},
   "outputs": [],
   "source": [
    "train_period = 165 # 11 months of data since the data is spaced every 2 days (180 + 150)/2\n",
    "test_period = 15 # 1 month"
   ]
  },
  {
   "cell_type": "code",
   "execution_count": 14,
   "metadata": {},
   "outputs": [
    {
     "name": "stdout",
     "output_type": "stream",
     "text": [
      "TIMESTEPS: 1 RMSE: 1.940 (0.272)\n",
      "TIMESTEPS: 3 RMSE: 2.316 (0.441)\n",
      "TIMESTEPS: 5 RMSE: 2.479 (0.406)\n",
      "TIMESTEPS: 7 RMSE: 2.408 (0.914)\n",
      "TIMESTEPS: 10 RMSE: 2.573 (0.339)\n",
      "TIMESTEPS: 15 RMSE: 2.076 (0.140)\n",
      "TIMESTEPS: 20 RMSE: 2.508 (0.271)\n"
     ]
    }
   ],
   "source": [
    "results = make_timesteps_repeated_time_series_k_fold(df, train_period, test_period, repeats, timesteps_list, True)"
   ]
  },
  {
   "cell_type": "markdown",
   "metadata": {},
   "source": [
    "<h4>Experiment 3</h4>\n",
    "    \n",
    "<b>Train 2 years and 10 months and predicts october and november of 2021</b>"
   ]
  },
  {
   "cell_type": "code",
   "execution_count": 15,
   "metadata": {},
   "outputs": [],
   "source": [
    "train_period = 200 # 11 months of data since the data is spaced every 2 days (180 + 150)/2\n",
    "test_period = 30 # 2 months"
   ]
  },
  {
   "cell_type": "code",
   "execution_count": 16,
   "metadata": {},
   "outputs": [
    {
     "name": "stdout",
     "output_type": "stream",
     "text": [
      "TIMESTEPS: 1 RMSE: 2.902 (0.380)\n",
      "TIMESTEPS: 3 RMSE: 3.101 (0.403)\n",
      "TIMESTEPS: 5 RMSE: 3.370 (0.343)\n",
      "TIMESTEPS: 7 RMSE: 3.627 (0.231)\n",
      "TIMESTEPS: 10 RMSE: 3.399 (0.504)\n",
      "TIMESTEPS: 15 RMSE: 3.266 (0.336)\n",
      "TIMESTEPS: 20 RMSE: 2.879 (0.418)\n"
     ]
    }
   ],
   "source": [
    "results = make_timesteps_repeated_time_series_k_fold(df, train_period, test_period, repeats, timesteps_list, True)"
   ]
  },
  {
   "cell_type": "markdown",
   "metadata": {},
   "source": [
    "<h3> Time Series Repeated KFold Cross Validation - df_r3d_only</h3>\n",
    "\n",
    "<b>Dataset: df_r3d_only:</b> In this dataset only R3D variable is considered."
   ]
  },
  {
   "cell_type": "code",
   "execution_count": 17,
   "metadata": {},
   "outputs": [],
   "source": [
    "df = df_r3d_only.copy()\n",
    "columns = list(df.columns.drop(['R28D']))\n",
    "columns.append('R28D')\n",
    "df = df.reindex(columns=columns)\n",
    "df = df.drop(['Data/Hora'], axis=1)"
   ]
  },
  {
   "cell_type": "markdown",
   "metadata": {},
   "source": [
    "<h4>Experiment 1</h4>\n",
    "    \n",
    "<b>Train 6 months and predicts one month every year</b>"
   ]
  },
  {
   "cell_type": "code",
   "execution_count": 18,
   "metadata": {},
   "outputs": [],
   "source": [
    "train_period = 90 # 6 months of data since the data is spaced every 2 days\n",
    "test_period = 15 # 1 month"
   ]
  },
  {
   "cell_type": "code",
   "execution_count": 19,
   "metadata": {},
   "outputs": [
    {
     "name": "stdout",
     "output_type": "stream",
     "text": [
      "TIMESTEPS: 1 RMSE: 1.939 (0.334)\n",
      "TIMESTEPS: 3 RMSE: 2.136 (0.659)\n",
      "TIMESTEPS: 5 RMSE: 2.366 (0.730)\n",
      "TIMESTEPS: 7 RMSE: 2.573 (0.490)\n",
      "TIMESTEPS: 10 RMSE: 2.092 (0.572)\n",
      "TIMESTEPS: 15 RMSE: 1.919 (0.641)\n",
      "TIMESTEPS: 20 RMSE: 2.428 (0.965)\n"
     ]
    }
   ],
   "source": [
    "results = make_timesteps_repeated_time_series_k_fold(df, train_period, test_period, repeats, timesteps_list, True)"
   ]
  },
  {
   "cell_type": "markdown",
   "metadata": {},
   "source": [
    "<h4>Experiment 2</h4>\n",
    "    \n",
    "<b>Train 11 months and predicts one month every year</b>"
   ]
  },
  {
   "cell_type": "code",
   "execution_count": 20,
   "metadata": {},
   "outputs": [],
   "source": [
    "train_period = 165 # 11 months of data since the data is spaced every 2 days (180 + 150)/2\n",
    "test_period = 15 # 1 month"
   ]
  },
  {
   "cell_type": "code",
   "execution_count": 21,
   "metadata": {},
   "outputs": [
    {
     "name": "stdout",
     "output_type": "stream",
     "text": [
      "TIMESTEPS: 1 RMSE: 2.607 (0.334)\n",
      "TIMESTEPS: 3 RMSE: 3.869 (0.478)\n",
      "TIMESTEPS: 5 RMSE: 3.514 (0.378)\n",
      "TIMESTEPS: 7 RMSE: 3.153 (0.518)\n",
      "TIMESTEPS: 10 RMSE: 3.643 (0.424)\n",
      "TIMESTEPS: 15 RMSE: 2.044 (0.418)\n",
      "TIMESTEPS: 20 RMSE: 2.245 (0.582)\n"
     ]
    }
   ],
   "source": [
    "results = make_timesteps_repeated_time_series_k_fold(df, train_period, test_period, repeats, timesteps_list, True)"
   ]
  },
  {
   "cell_type": "markdown",
   "metadata": {},
   "source": [
    "<h4>Experiment 3</h4>\n",
    "    \n",
    "<b>Train 2 years and 10 months and predicts october and november of 2021</b>"
   ]
  },
  {
   "cell_type": "code",
   "execution_count": 22,
   "metadata": {},
   "outputs": [],
   "source": [
    "train_period = 200 # 11 months of data since the data is spaced every 2 days (180 + 150)/2\n",
    "test_period = 30 # 2 months"
   ]
  },
  {
   "cell_type": "code",
   "execution_count": 23,
   "metadata": {},
   "outputs": [
    {
     "name": "stdout",
     "output_type": "stream",
     "text": [
      "TIMESTEPS: 1 RMSE: 1.426 (0.126)\n",
      "TIMESTEPS: 3 RMSE: 2.332 (0.326)\n",
      "TIMESTEPS: 5 RMSE: 2.665 (0.376)\n",
      "TIMESTEPS: 7 RMSE: 2.425 (0.410)\n",
      "TIMESTEPS: 10 RMSE: 2.520 (0.408)\n",
      "TIMESTEPS: 15 RMSE: 2.771 (0.699)\n",
      "TIMESTEPS: 20 RMSE: 2.846 (0.514)\n"
     ]
    }
   ],
   "source": [
    "results = make_timesteps_repeated_time_series_k_fold(df, train_period, test_period, repeats, timesteps_list, True)"
   ]
  },
  {
   "cell_type": "markdown",
   "metadata": {},
   "source": [
    "<h3> Time Series Repeated KFold Cross Validation - df_r3d_and_r7d</h3>\n",
    "\n",
    "<b>Dataset: df_r3d_and_r7d:</b> In this dataset both R3D and R7D variables are considered."
   ]
  },
  {
   "cell_type": "code",
   "execution_count": 24,
   "metadata": {},
   "outputs": [],
   "source": [
    "df = df_r3d_and_r7d.copy()\n",
    "columns = list(df.columns.drop(['R28D']))\n",
    "columns.append('R28D')\n",
    "df = df.reindex(columns=columns)\n",
    "df = df.drop(['Data/Hora'], axis=1)"
   ]
  },
  {
   "cell_type": "markdown",
   "metadata": {},
   "source": [
    "<h4>Experiment 1</h4>\n",
    "    \n",
    "<b>Train 6 months and predicts one month every year</b>"
   ]
  },
  {
   "cell_type": "code",
   "execution_count": 25,
   "metadata": {},
   "outputs": [],
   "source": [
    "train_period = 90 # 6 months of data since the data is spaced every 2 days\n",
    "test_period = 15 # 1 month"
   ]
  },
  {
   "cell_type": "code",
   "execution_count": 26,
   "metadata": {},
   "outputs": [
    {
     "name": "stdout",
     "output_type": "stream",
     "text": [
      "TIMESTEPS: 1 RMSE: 2.076 (0.338)\n",
      "TIMESTEPS: 3 RMSE: 2.228 (0.649)\n",
      "TIMESTEPS: 5 RMSE: 2.533 (0.829)\n",
      "TIMESTEPS: 7 RMSE: 2.162 (0.728)\n",
      "TIMESTEPS: 10 RMSE: 2.630 (0.621)\n",
      "TIMESTEPS: 15 RMSE: 2.152 (1.007)\n",
      "TIMESTEPS: 20 RMSE: 2.343 (0.676)\n"
     ]
    }
   ],
   "source": [
    "results = make_timesteps_repeated_time_series_k_fold(df, train_period, test_period, repeats, timesteps_list, True)"
   ]
  },
  {
   "cell_type": "markdown",
   "metadata": {},
   "source": [
    "<h4>Experiment 2</h4>\n",
    "    \n",
    "<b>Train 11 months and predicts one month every year</b>"
   ]
  },
  {
   "cell_type": "code",
   "execution_count": 27,
   "metadata": {},
   "outputs": [],
   "source": [
    "train_period = 165 # 11 months of data since the data is spaced every 2 days (180 + 150)/2\n",
    "test_period = 15 # 1 month"
   ]
  },
  {
   "cell_type": "code",
   "execution_count": 28,
   "metadata": {},
   "outputs": [
    {
     "name": "stdout",
     "output_type": "stream",
     "text": [
      "TIMESTEPS: 1 RMSE: 2.403 (0.348)\n",
      "TIMESTEPS: 3 RMSE: 3.185 (0.614)\n",
      "TIMESTEPS: 5 RMSE: 3.388 (0.710)\n",
      "TIMESTEPS: 7 RMSE: 3.562 (0.243)\n",
      "TIMESTEPS: 10 RMSE: 3.158 (0.450)\n",
      "TIMESTEPS: 15 RMSE: 2.393 (0.620)\n",
      "TIMESTEPS: 20 RMSE: 1.860 (0.716)\n"
     ]
    }
   ],
   "source": [
    "results = make_timesteps_repeated_time_series_k_fold(df, train_period, test_period, repeats, timesteps_list, True)"
   ]
  },
  {
   "cell_type": "markdown",
   "metadata": {},
   "source": [
    "<h4>Experiment 3</h4>\n",
    "    \n",
    "<b>Train 2 years and 10 months and predicts october and november of 2021</b>"
   ]
  },
  {
   "cell_type": "code",
   "execution_count": 29,
   "metadata": {},
   "outputs": [],
   "source": [
    "train_period = 200 # 11 months of data since the data is spaced every 2 days (180 + 150)/2\n",
    "test_period = 30 # 2 months"
   ]
  },
  {
   "cell_type": "code",
   "execution_count": 30,
   "metadata": {},
   "outputs": [
    {
     "name": "stdout",
     "output_type": "stream",
     "text": [
      "TIMESTEPS: 1 RMSE: 1.639 (0.235)\n",
      "TIMESTEPS: 3 RMSE: 2.269 (0.598)\n",
      "TIMESTEPS: 5 RMSE: 2.625 (0.384)\n",
      "TIMESTEPS: 7 RMSE: 2.685 (0.779)\n",
      "TIMESTEPS: 10 RMSE: 2.399 (0.420)\n",
      "TIMESTEPS: 15 RMSE: 3.332 (0.838)\n",
      "TIMESTEPS: 20 RMSE: 2.854 (0.338)\n"
     ]
    }
   ],
   "source": [
    "results = make_timesteps_repeated_time_series_k_fold(df, train_period, test_period, repeats, timesteps_list, True)"
   ]
  },
  {
   "cell_type": "code",
   "execution_count": null,
   "metadata": {},
   "outputs": [],
   "source": []
  }
 ],
 "metadata": {
  "kernelspec": {
   "display_name": "ccs28-venv",
   "language": "python",
   "name": "ccs28-venv"
  },
  "language_info": {
   "codemirror_mode": {
    "name": "ipython",
    "version": 3
   },
   "file_extension": ".py",
   "mimetype": "text/x-python",
   "name": "python",
   "nbconvert_exporter": "python",
   "pygments_lexer": "ipython3",
   "version": "3.8.10"
  }
 },
 "nbformat": 4,
 "nbformat_minor": 4
}
