{
 "cells": [
  {
   "cell_type": "code",
   "execution_count": 1,
   "metadata": {},
   "outputs": [],
   "source": [
    "import pandas as pd\n",
    "import numpy as np\n",
    "import tensorflow as tf\n",
    "import matplotlib.pyplot as plt\n",
    "import time\n",
    "import os\n",
    "\n",
    "from sklearn.model_selection import TimeSeriesSplit\n",
    "from sklearn.preprocessing import StandardScaler\n",
    "from sklearn.pipeline import Pipeline\n",
    "\n",
    "from src.utils.time_series_procs import split_sequences\n",
    "from src.models.transformer_ts_tf import Transformer"
   ]
  },
  {
   "cell_type": "code",
   "execution_count": 2,
   "metadata": {},
   "outputs": [],
   "source": [
    "def get_times_series_data(df, cut_date):\n",
    "    columns = list(df.columns.drop([\"R28D\"]))\n",
    "    columns.append(\"R28D\")\n",
    "    df = df.reindex(columns=columns)\n",
    "    df[\"Data/Hora\"] = pd.to_datetime(df[\"Data/Hora\"])\n",
    "    df_train = df[df[\"Data/Hora\"] < cut_date]\n",
    "    df_test = df[df[\"Data/Hora\"] >= cut_date]\n",
    "    df_train = df_train.drop([\"Data/Hora\"], axis=1)\n",
    "    df_test = df_test.drop([\"Data/Hora\"], axis=1)\n",
    "    x_train, y_train = split_sequences(df_train.values, TIME_STEPS)\n",
    "    x_test, y_test = split_sequences(df_test.values, TIME_STEPS)\n",
    "    return x_train, y_train, x_test, y_test"
   ]
  },
  {
   "cell_type": "code",
   "execution_count": 3,
   "metadata": {},
   "outputs": [],
   "source": [
    "class StandardScaler3DShape:\n",
    "    def __init__(self):\n",
    "        self.scaler = StandardScaler()\n",
    "\n",
    "    def fit_transform(self, X, y=None):\n",
    "        X_new = self.scaler.fit_transform(X.reshape(-1, X.shape[-1])).reshape(X.shape)\n",
    "        return X_new\n",
    "\n",
    "    def fit(self, X, y=None):\n",
    "        X_new = X.reshape(-1, X.shape[-1])\n",
    "        self.scaler.fit(X_new)\n",
    "        return self\n",
    "\n",
    "    def transform(self, X, y=None):\n",
    "        X_new = self.scaler.transform(X.reshape(-1, X.shape[-1])).reshape(X.shape)\n",
    "        return X_new"
   ]
  },
  {
   "cell_type": "code",
   "execution_count": 4,
   "metadata": {},
   "outputs": [],
   "source": [
    "def get_baseline_model(\n",
    "    num_features, time_steps, num_heads=2, num_layers_enc=1, num_feed_forward=32\n",
    "):\n",
    "    model = Transformer(\n",
    "        num_hid=num_features,\n",
    "        time_steps=time_steps,\n",
    "        num_head=num_heads,\n",
    "        num_layers_enc=num_layers_enc,\n",
    "        num_feed_forward=num_feed_forward,\n",
    "    )\n",
    "\n",
    "    opt = tf.keras.optimizers.Adam(learning_rate=0.01)\n",
    "    model.compile(\n",
    "        optimizer=opt,\n",
    "        loss=\"mse\",\n",
    "        metrics=[tf.keras.metrics.RootMeanSquaredError(name=\"RMSE\")],\n",
    "    )\n",
    "    return model"
   ]
  },
  {
   "cell_type": "code",
   "execution_count": 5,
   "metadata": {},
   "outputs": [],
   "source": [
    "def make_repeated_time_series_k_fold(\n",
    "    x,\n",
    "    y,\n",
    "    train_period,\n",
    "    test_period,\n",
    "    repeats=10,\n",
    "    show_individual_results=True,\n",
    "    show_final_result=True,\n",
    "):\n",
    "    results = []\n",
    "    max_samples = x.shape[0]\n",
    "\n",
    "    for _ in range(repeats):\n",
    "        i = 0\n",
    "        scores = []\n",
    "        for _ in range(0, max_samples // train_period):\n",
    "            x_train = x[i : i + train_period]\n",
    "            y_train = y[i : i + train_period]\n",
    "            x_test = x[i + train_period : i + train_period + test_period]\n",
    "            y_test = y[i + train_period : i + train_period + test_period]\n",
    "            i += train_period\n",
    "            x_train = scaler.fit_transform(\n",
    "                x_train.reshape(-1, x_train.shape[-1])\n",
    "            ).reshape(x_train.shape)\n",
    "            x_test = scaler.transform(x_test.reshape(-1, x_test.shape[-1])).reshape(\n",
    "                x_test.shape\n",
    "            )\n",
    "            model = get_baseline_model(\n",
    "                num_features=x_train.shape[-1], time_steps=x_train.shape[-2]\n",
    "            )\n",
    "            model.fit(x_train, y_train, epochs=100, batch_size=32, verbose=0)\n",
    "            rmse = model.evaluate(x_test, y_test, verbose=0)\n",
    "            scores.append(rmse[1])\n",
    "        results.append(scores)\n",
    "        if show_individual_results:\n",
    "            print(\"RMSE: %.3f (%.3f)\" % (np.mean(scores), np.std(scores)))\n",
    "    if show_final_result:\n",
    "        print(\"\\nRMSE: %.3f (%.3f)\" % (np.mean(results), np.std(results)))\n",
    "    return results"
   ]
  },
  {
   "cell_type": "code",
   "execution_count": 6,
   "metadata": {},
   "outputs": [],
   "source": [
    "def make_timesteps_repeated_time_series_k_fold(\n",
    "    df, train_period, test_period, repeats=10, timesteps_list=[3], show_results=True\n",
    "):\n",
    "    results = {}\n",
    "\n",
    "    for timesteps in timesteps_list:\n",
    "        x, y = split_sequences(df.values, timesteps)\n",
    "        scores = make_repeated_time_series_k_fold(\n",
    "            x,\n",
    "            y,\n",
    "            train_period,\n",
    "            test_period,\n",
    "            repeats=10,\n",
    "            show_individual_results=False,\n",
    "            show_final_result=False,\n",
    "        )\n",
    "        results[timesteps] = scores\n",
    "        if show_results:\n",
    "            print(\n",
    "                \"TIMESTEPS: %d RMSE: %.3f (%.3f)\"\n",
    "                % (timesteps, np.mean(scores), np.std(scores))\n",
    "            )\n",
    "    return results"
   ]
  },
  {
   "cell_type": "markdown",
   "metadata": {},
   "source": [
    "<h3>Disable Tensorflow Warnings</h3>"
   ]
  },
  {
   "cell_type": "code",
   "execution_count": 7,
   "metadata": {},
   "outputs": [],
   "source": [
    "os.environ[\"TF_CPP_MIN_LOG_LEVEL\"] = \"3\""
   ]
  },
  {
   "cell_type": "markdown",
   "metadata": {},
   "source": [
    "# FFT Transform\n",
    "\n",
    "This notebook contains that experiments with the data transformed with fast fourier transform."
   ]
  },
  {
   "cell_type": "code",
   "execution_count": 8,
   "metadata": {},
   "outputs": [],
   "source": [
    "df_r3d_and_r7d = pd.read_csv(\n",
    "    \"../../../../data/interim/\"\n",
    "    + \"r3d_and_r7d-no-resampling-with-fillna-and-fft-vars-only-\"\n",
    "    + \"dados-historicos-partner_i-cement-CPIIF40.csv\"\n",
    ")\n",
    "df_r3d_only = pd.read_csv(\n",
    "    \"../../../../data/interim/\"\n",
    "    + \"r3d_only-no-resampling-with-fillna-and-fft-vars-only-\"\n",
    "    + \"dados-historicos-partner_i-cement-CPIIF40.csv\"\n",
    ")\n",
    "df_no_r3d_r7d = pd.read_csv(\n",
    "    \"../../../../data/interim/\"\n",
    "    + \"no-r3d-r7d-no-resampling-with-fillna-and-fft-vars-only-\"\n",
    "    + \"dados-historicos-partner_i-cement-CPIIF40.csv\"\n",
    ")"
   ]
  },
  {
   "cell_type": "code",
   "execution_count": 9,
   "metadata": {},
   "outputs": [],
   "source": [
    "seed = 47\n",
    "scaler = StandardScaler()\n",
    "\n",
    "timesteps_list = [1, 3, 5, 7, 10, 15, 20]\n",
    "repeats = 10"
   ]
  },
  {
   "cell_type": "markdown",
   "metadata": {},
   "source": [
    "# Transformer Encoder"
   ]
  },
  {
   "cell_type": "markdown",
   "metadata": {},
   "source": [
    "# Configs:\n",
    "\n",
    "1. TIMESTEPS: [1, 3, 5, 7, 10, 15, 20]\n",
    "\n",
    "2. Epochs: 100\n",
    "\n",
    "3. Batch size: 32\n",
    "\n",
    "4. num heads: 2\n",
    "\n",
    "5. FF Layers enc: 1\n",
    "\n",
    "      5.1 Units 32\n",
    "\n",
    "6. Optimization Algorithm: Adam\n",
    "    \n",
    "    6.1. Learning Rate: 1e-2"
   ]
  },
  {
   "cell_type": "markdown",
   "metadata": {},
   "source": [
    "# Times Series Repeated KFold Cross validation - different Timesteps values\n",
    "\n",
    "Here we will make a Times Series KFold Cross validation with all 3 datasets. Here we are using the Blocking Time Series Split method. And with timeseries Split method. We also do it with different number of timesteps\n"
   ]
  },
  {
   "cell_type": "markdown",
   "metadata": {},
   "source": [
    "<h3> Time Series Repeated KFold Cross Validation with vary timesteps - df_no_r3d_r7d</h3>\n",
    "\n",
    "<b>Dataset: df_no_r3d_r7d:</b> In this dataset the R3D and R7D variables are not considered."
   ]
  },
  {
   "cell_type": "code",
   "execution_count": 10,
   "metadata": {},
   "outputs": [],
   "source": [
    "df = df_no_r3d_r7d.copy()\n",
    "columns = list(df.columns.drop(['R28D']))\n",
    "columns.append('R28D')\n",
    "df = df.reindex(columns=columns)\n",
    "df = df.drop(['Data/Hora'], axis=1)"
   ]
  },
  {
   "cell_type": "markdown",
   "metadata": {},
   "source": [
    "<h4>Experiment 1</h4>\n",
    "    \n",
    "<b>Train 6 months and predicts one month every year</b>"
   ]
  },
  {
   "cell_type": "code",
   "execution_count": 11,
   "metadata": {},
   "outputs": [],
   "source": [
    "train_period = 90 # 6 months of data since the data is spaced every 2 days\n",
    "test_period = 15 # 1 month"
   ]
  },
  {
   "cell_type": "code",
   "execution_count": 12,
   "metadata": {},
   "outputs": [
    {
     "name": "stdout",
     "output_type": "stream",
     "text": [
      "WARNING:tensorflow:5 out of the last 5 calls to <function Model.make_test_function.<locals>.test_function at 0x7f973813ef70> triggered tf.function retracing. Tracing is expensive and the excessive number of tracings could be due to (1) creating @tf.function repeatedly in a loop, (2) passing tensors with different shapes, (3) passing Python objects instead of tensors. For (1), please define your @tf.function outside of the loop. For (2), @tf.function has experimental_relax_shapes=True option that relaxes argument shapes that can avoid unnecessary retracing. For (3), please refer to https://www.tensorflow.org/guide/function#controlling_retracing and https://www.tensorflow.org/api_docs/python/tf/function for  more details.\n",
      "WARNING:tensorflow:6 out of the last 6 calls to <function Model.make_test_function.<locals>.test_function at 0x7f9730671ee0> triggered tf.function retracing. Tracing is expensive and the excessive number of tracings could be due to (1) creating @tf.function repeatedly in a loop, (2) passing tensors with different shapes, (3) passing Python objects instead of tensors. For (1), please define your @tf.function outside of the loop. For (2), @tf.function has experimental_relax_shapes=True option that relaxes argument shapes that can avoid unnecessary retracing. For (3), please refer to https://www.tensorflow.org/guide/function#controlling_retracing and https://www.tensorflow.org/api_docs/python/tf/function for  more details.\n",
      "TIMESTEPS: 1 RMSE: 2.118 (0.386)\n",
      "TIMESTEPS: 3 RMSE: 2.161 (0.247)\n",
      "TIMESTEPS: 5 RMSE: 2.060 (0.312)\n",
      "TIMESTEPS: 7 RMSE: 2.124 (0.534)\n",
      "TIMESTEPS: 10 RMSE: 2.338 (0.466)\n",
      "TIMESTEPS: 15 RMSE: 2.837 (0.578)\n",
      "TIMESTEPS: 20 RMSE: 3.030 (1.122)\n"
     ]
    }
   ],
   "source": [
    "results = make_timesteps_repeated_time_series_k_fold(\n",
    "    df, train_period, test_period, repeats, timesteps_list, True\n",
    ")"
   ]
  },
  {
   "cell_type": "markdown",
   "metadata": {},
   "source": [
    "<h4>Experiment 2</h4>\n",
    "    \n",
    "<b>Train 11 months and predicts one month every year</b>"
   ]
  },
  {
   "cell_type": "code",
   "execution_count": 13,
   "metadata": {},
   "outputs": [],
   "source": [
    "train_period = 165 # 11 months of data since the data is spaced every 2 days (180 + 150)/2\n",
    "test_period = 15 # 1 month"
   ]
  },
  {
   "cell_type": "code",
   "execution_count": 14,
   "metadata": {},
   "outputs": [
    {
     "name": "stdout",
     "output_type": "stream",
     "text": [
      "TIMESTEPS: 1 RMSE: 1.972 (0.278)\n",
      "TIMESTEPS: 3 RMSE: 2.207 (0.354)\n",
      "TIMESTEPS: 5 RMSE: 2.213 (0.427)\n",
      "TIMESTEPS: 7 RMSE: 2.088 (0.511)\n",
      "TIMESTEPS: 10 RMSE: 2.781 (0.298)\n",
      "TIMESTEPS: 15 RMSE: 2.206 (0.062)\n",
      "TIMESTEPS: 20 RMSE: 2.640 (0.169)\n"
     ]
    }
   ],
   "source": [
    "results = make_timesteps_repeated_time_series_k_fold(\n",
    "    df, train_period, test_period, repeats, timesteps_list, True\n",
    ")"
   ]
  },
  {
   "cell_type": "markdown",
   "metadata": {},
   "source": [
    "<h4>Experiment 3</h4>\n",
    "    \n",
    "<b>Train 2 years and 10 months and predicts october and november of 2021</b>"
   ]
  },
  {
   "cell_type": "code",
   "execution_count": 15,
   "metadata": {},
   "outputs": [],
   "source": [
    "train_period = 200 # 11 months of data since the data is spaced every 2 days (180 + 150)/2\n",
    "test_period = 30 # 2 months"
   ]
  },
  {
   "cell_type": "code",
   "execution_count": 16,
   "metadata": {},
   "outputs": [
    {
     "name": "stdout",
     "output_type": "stream",
     "text": [
      "TIMESTEPS: 1 RMSE: 3.331 (0.337)\n",
      "TIMESTEPS: 3 RMSE: 3.423 (0.476)\n",
      "TIMESTEPS: 5 RMSE: 3.347 (0.483)\n",
      "TIMESTEPS: 7 RMSE: 3.649 (0.416)\n",
      "TIMESTEPS: 10 RMSE: 3.186 (0.479)\n",
      "TIMESTEPS: 15 RMSE: 3.064 (0.404)\n",
      "TIMESTEPS: 20 RMSE: 2.778 (0.364)\n"
     ]
    }
   ],
   "source": [
    "results = make_timesteps_repeated_time_series_k_fold(\n",
    "    df, train_period, test_period, repeats, timesteps_list, True\n",
    ")"
   ]
  },
  {
   "cell_type": "markdown",
   "metadata": {},
   "source": [
    "<h3> Time Series Repeated KFold Cross Validation - df_r3d_only</h3>\n",
    "\n",
    "<b>Dataset: df_r3d_only:</b> In this dataset only R3D variable is considered."
   ]
  },
  {
   "cell_type": "code",
   "execution_count": 17,
   "metadata": {},
   "outputs": [],
   "source": [
    "df = df_r3d_only.copy()\n",
    "columns = list(df.columns.drop(['R28D']))\n",
    "columns.append('R28D')\n",
    "df = df.reindex(columns=columns)\n",
    "df = df.drop(['Data/Hora'], axis=1)"
   ]
  },
  {
   "cell_type": "markdown",
   "metadata": {},
   "source": [
    "<h4>Experiment 1</h4>\n",
    "    \n",
    "<b>Train 6 months and predicts one month every year</b>"
   ]
  },
  {
   "cell_type": "code",
   "execution_count": 18,
   "metadata": {},
   "outputs": [],
   "source": [
    "train_period = 90 # 6 months of data since the data is spaced every 2 days\n",
    "test_period = 15 # 1 month"
   ]
  },
  {
   "cell_type": "code",
   "execution_count": 19,
   "metadata": {},
   "outputs": [
    {
     "name": "stdout",
     "output_type": "stream",
     "text": [
      "TIMESTEPS: 1 RMSE: 2.119 (0.506)\n",
      "TIMESTEPS: 3 RMSE: 2.358 (0.448)\n",
      "TIMESTEPS: 5 RMSE: 2.410 (0.412)\n",
      "TIMESTEPS: 7 RMSE: 2.611 (0.538)\n",
      "TIMESTEPS: 10 RMSE: 2.066 (0.555)\n",
      "TIMESTEPS: 15 RMSE: 1.779 (0.427)\n",
      "TIMESTEPS: 20 RMSE: 2.147 (0.447)\n"
     ]
    }
   ],
   "source": [
    "results = make_timesteps_repeated_time_series_k_fold(\n",
    "    df, train_period, test_period, repeats, timesteps_list, True\n",
    ")"
   ]
  },
  {
   "cell_type": "markdown",
   "metadata": {},
   "source": [
    "<h4>Experiment 2</h4>\n",
    "    \n",
    "<b>Train 11 months and predicts one month every year</b>"
   ]
  },
  {
   "cell_type": "code",
   "execution_count": 20,
   "metadata": {},
   "outputs": [],
   "source": [
    "train_period = 165 # 11 months of data since the data is spaced every 2 days (180 + 150)/2\n",
    "test_period = 15 # 1 month"
   ]
  },
  {
   "cell_type": "code",
   "execution_count": 21,
   "metadata": {},
   "outputs": [
    {
     "name": "stdout",
     "output_type": "stream",
     "text": [
      "TIMESTEPS: 1 RMSE: 3.479 (0.361)\n",
      "TIMESTEPS: 3 RMSE: 3.221 (0.467)\n",
      "TIMESTEPS: 5 RMSE: 3.406 (0.379)\n",
      "TIMESTEPS: 7 RMSE: 3.067 (0.304)\n",
      "TIMESTEPS: 10 RMSE: 3.500 (0.406)\n",
      "TIMESTEPS: 15 RMSE: 2.862 (0.692)\n",
      "TIMESTEPS: 20 RMSE: 2.395 (1.675)\n"
     ]
    }
   ],
   "source": [
    "results = make_timesteps_repeated_time_series_k_fold(\n",
    "    df, train_period, test_period, repeats, timesteps_list, True\n",
    ")"
   ]
  },
  {
   "cell_type": "markdown",
   "metadata": {},
   "source": [
    "<h4>Experiment 3</h4>\n",
    "    \n",
    "<b>Train 2 years and 10 months and predicts october and november of 2021</b>"
   ]
  },
  {
   "cell_type": "code",
   "execution_count": 22,
   "metadata": {},
   "outputs": [],
   "source": [
    "train_period = 200 # 11 months of data since the data is spaced every 2 days (180 + 150)/2\n",
    "test_period = 30 # 2 months"
   ]
  },
  {
   "cell_type": "code",
   "execution_count": 23,
   "metadata": {},
   "outputs": [
    {
     "name": "stdout",
     "output_type": "stream",
     "text": [
      "TIMESTEPS: 1 RMSE: 1.603 (0.288)\n",
      "TIMESTEPS: 3 RMSE: 2.734 (0.334)\n",
      "TIMESTEPS: 5 RMSE: 2.578 (0.323)\n",
      "TIMESTEPS: 7 RMSE: 2.250 (0.522)\n",
      "TIMESTEPS: 10 RMSE: 2.170 (0.395)\n",
      "TIMESTEPS: 15 RMSE: 2.687 (0.609)\n",
      "TIMESTEPS: 20 RMSE: 2.829 (0.477)\n"
     ]
    }
   ],
   "source": [
    "results = make_timesteps_repeated_time_series_k_fold(\n",
    "    df, train_period, test_period, repeats, timesteps_list, True\n",
    ")"
   ]
  },
  {
   "cell_type": "markdown",
   "metadata": {},
   "source": [
    "<h3> Time Series Repeated KFold Cross Validation - df_r3d_and_r7d</h3>\n",
    "\n",
    "<b>Dataset: df_r3d_and_r7d:</b> In this dataset both R3D and R7D variables are considered."
   ]
  },
  {
   "cell_type": "code",
   "execution_count": 24,
   "metadata": {},
   "outputs": [],
   "source": [
    "df = df_r3d_and_r7d.copy()\n",
    "columns = list(df.columns.drop(['R28D']))\n",
    "columns.append('R28D')\n",
    "df = df.reindex(columns=columns)\n",
    "df = df.drop(['Data/Hora'], axis=1)"
   ]
  },
  {
   "cell_type": "markdown",
   "metadata": {},
   "source": [
    "<h4>Experiment 1</h4>\n",
    "    \n",
    "<b>Train 6 months and predicts one month every year</b>"
   ]
  },
  {
   "cell_type": "code",
   "execution_count": 25,
   "metadata": {},
   "outputs": [],
   "source": [
    "train_period = 90 # 6 months of data since the data is spaced every 2 days\n",
    "test_period = 15 # 1 month"
   ]
  },
  {
   "cell_type": "code",
   "execution_count": 26,
   "metadata": {},
   "outputs": [
    {
     "name": "stdout",
     "output_type": "stream",
     "text": [
      "TIMESTEPS: 1 RMSE: 2.104 (0.348)\n",
      "TIMESTEPS: 3 RMSE: 2.436 (0.532)\n",
      "TIMESTEPS: 5 RMSE: 2.501 (0.548)\n",
      "TIMESTEPS: 7 RMSE: 2.330 (0.644)\n",
      "TIMESTEPS: 10 RMSE: 2.252 (0.289)\n",
      "TIMESTEPS: 15 RMSE: 2.209 (1.348)\n",
      "TIMESTEPS: 20 RMSE: 2.195 (0.428)\n"
     ]
    }
   ],
   "source": [
    "results = make_timesteps_repeated_time_series_k_fold(\n",
    "    df, train_period, test_period, repeats, timesteps_list, True\n",
    ")"
   ]
  },
  {
   "cell_type": "markdown",
   "metadata": {},
   "source": [
    "<h4>Experiment 2</h4>\n",
    "    \n",
    "<b>Train 11 months and predicts one month every year</b>"
   ]
  },
  {
   "cell_type": "code",
   "execution_count": 27,
   "metadata": {},
   "outputs": [],
   "source": [
    "train_period = 165 # 11 months of data since the data is spaced every 2 days (180 + 150)/2\n",
    "test_period = 15 # 1 month"
   ]
  },
  {
   "cell_type": "code",
   "execution_count": 28,
   "metadata": {},
   "outputs": [
    {
     "name": "stdout",
     "output_type": "stream",
     "text": [
      "TIMESTEPS: 1 RMSE: 3.377 (0.377)\n",
      "TIMESTEPS: 3 RMSE: 3.092 (0.191)\n",
      "TIMESTEPS: 5 RMSE: 2.930 (0.459)\n",
      "TIMESTEPS: 7 RMSE: 3.320 (0.343)\n",
      "TIMESTEPS: 10 RMSE: 3.585 (0.266)\n",
      "TIMESTEPS: 15 RMSE: 2.892 (0.813)\n",
      "TIMESTEPS: 20 RMSE: 1.868 (0.688)\n"
     ]
    }
   ],
   "source": [
    "results = make_timesteps_repeated_time_series_k_fold(\n",
    "    df, train_period, test_period, repeats, timesteps_list, True\n",
    ")"
   ]
  },
  {
   "cell_type": "markdown",
   "metadata": {},
   "source": [
    "<h4>Experiment 3</h4>\n",
    "    \n",
    "<b>Train 2 years and 10 months and predicts october and november of 2021</b>"
   ]
  },
  {
   "cell_type": "code",
   "execution_count": 29,
   "metadata": {},
   "outputs": [],
   "source": [
    "train_period = 200 # 11 months of data since the data is spaced every 2 days (180 + 150)/2\n",
    "test_period = 30 # 2 months"
   ]
  },
  {
   "cell_type": "code",
   "execution_count": 30,
   "metadata": {},
   "outputs": [
    {
     "name": "stdout",
     "output_type": "stream",
     "text": [
      "TIMESTEPS: 1 RMSE: 1.744 (0.294)\n",
      "TIMESTEPS: 3 RMSE: 2.506 (0.564)\n",
      "TIMESTEPS: 5 RMSE: 2.516 (0.492)\n",
      "TIMESTEPS: 7 RMSE: 2.513 (0.333)\n",
      "TIMESTEPS: 10 RMSE: 2.580 (0.464)\n",
      "TIMESTEPS: 15 RMSE: 2.366 (0.578)\n",
      "TIMESTEPS: 20 RMSE: 3.184 (0.306)\n"
     ]
    }
   ],
   "source": [
    "results = make_timesteps_repeated_time_series_k_fold(\n",
    "    df, train_period, test_period, repeats, timesteps_list, True\n",
    ")"
   ]
  },
  {
   "cell_type": "code",
   "execution_count": null,
   "metadata": {},
   "outputs": [],
   "source": []
  }
 ],
 "metadata": {
  "kernelspec": {
   "display_name": "ccs28-venv",
   "language": "python",
   "name": "ccs28-venv"
  },
  "language_info": {
   "codemirror_mode": {
    "name": "ipython",
    "version": 3
   },
   "file_extension": ".py",
   "mimetype": "text/x-python",
   "name": "python",
   "nbconvert_exporter": "python",
   "pygments_lexer": "ipython3",
   "version": "3.8.10"
  }
 },
 "nbformat": 4,
 "nbformat_minor": 4
}
