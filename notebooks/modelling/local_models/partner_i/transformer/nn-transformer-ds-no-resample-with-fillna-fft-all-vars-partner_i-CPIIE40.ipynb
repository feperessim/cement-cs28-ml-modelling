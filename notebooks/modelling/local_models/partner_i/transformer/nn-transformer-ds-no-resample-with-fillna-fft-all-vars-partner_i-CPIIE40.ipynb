{
 "cells": [
  {
   "cell_type": "code",
   "execution_count": 1,
   "metadata": {},
   "outputs": [],
   "source": [
    "import pandas as pd\n",
    "import numpy as np\n",
    "import tensorflow as tf\n",
    "import matplotlib.pyplot as plt\n",
    "import time\n",
    "import os\n",
    "\n",
    "from sklearn.model_selection import TimeSeriesSplit\n",
    "from sklearn.preprocessing import StandardScaler\n",
    "from sklearn.pipeline import Pipeline\n",
    "\n",
    "from src.utils.time_series_procs import split_sequences\n",
    "from src.models.transformer_ts_tf import Transformer"
   ]
  },
  {
   "cell_type": "code",
   "execution_count": 2,
   "metadata": {},
   "outputs": [],
   "source": [
    "def get_times_series_data(df, cut_date):\n",
    "    columns = list(df.columns.drop([\"R28D\"]))\n",
    "    columns.append(\"R28D\")\n",
    "    df = df.reindex(columns=columns)\n",
    "    df[\"Data/Hora\"] = pd.to_datetime(df[\"Data/Hora\"])\n",
    "    df_train = df[df[\"Data/Hora\"] < cut_date]\n",
    "    df_test = df[df[\"Data/Hora\"] >= cut_date]\n",
    "    df_train = df_train.drop([\"Data/Hora\"], axis=1)\n",
    "    df_test = df_test.drop([\"Data/Hora\"], axis=1)\n",
    "    x_train, y_train = split_sequences(df_train.values, TIME_STEPS)\n",
    "    x_test, y_test = split_sequences(df_test.values, TIME_STEPS)\n",
    "    return x_train, y_train, x_test, y_test"
   ]
  },
  {
   "cell_type": "code",
   "execution_count": 3,
   "metadata": {},
   "outputs": [],
   "source": [
    "class StandardScaler3DShape:\n",
    "    def __init__(self):\n",
    "        self.scaler = StandardScaler()\n",
    "\n",
    "    def fit_transform(self, X, y=None):\n",
    "        X_new = self.scaler.fit_transform(X.reshape(-1, X.shape[-1])).reshape(X.shape)\n",
    "        return X_new\n",
    "\n",
    "    def fit(self, X, y=None):\n",
    "        X_new = X.reshape(-1, X.shape[-1])\n",
    "        self.scaler.fit(X_new)\n",
    "        return self\n",
    "\n",
    "    def transform(self, X, y=None):\n",
    "        X_new = self.scaler.transform(X.reshape(-1, X.shape[-1])).reshape(X.shape)\n",
    "        return X_new"
   ]
  },
  {
   "cell_type": "code",
   "execution_count": 4,
   "metadata": {},
   "outputs": [],
   "source": [
    "def get_baseline_model(\n",
    "    num_features, time_steps, num_heads=2, num_layers_enc=1, num_feed_forward=32\n",
    "):\n",
    "    model = Transformer(\n",
    "        num_hid=num_features,\n",
    "        time_steps=time_steps,\n",
    "        num_head=num_heads,\n",
    "        num_layers_enc=num_layers_enc,\n",
    "        num_feed_forward=num_feed_forward,\n",
    "    )\n",
    "\n",
    "    opt = tf.keras.optimizers.Adam(learning_rate=0.01)\n",
    "    model.compile(\n",
    "        optimizer=opt,\n",
    "        loss=\"mse\",\n",
    "        metrics=[tf.keras.metrics.RootMeanSquaredError(name=\"RMSE\")],\n",
    "    )\n",
    "    return model"
   ]
  },
  {
   "cell_type": "code",
   "execution_count": 5,
   "metadata": {},
   "outputs": [],
   "source": [
    "def make_repeated_time_series_k_fold(\n",
    "    x,\n",
    "    y,\n",
    "    train_period,\n",
    "    test_period,\n",
    "    repeats=10,\n",
    "    show_individual_results=True,\n",
    "    show_final_result=True,\n",
    "):\n",
    "    results = []\n",
    "    max_samples = x.shape[0]\n",
    "\n",
    "    for _ in range(repeats):\n",
    "        i = 0\n",
    "        scores = []\n",
    "        for _ in range(0, max_samples // train_period):\n",
    "            x_train = x[i : i + train_period]\n",
    "            y_train = y[i : i + train_period]\n",
    "            x_test = x[i + train_period : i + train_period + test_period]\n",
    "            y_test = y[i + train_period : i + train_period + test_period]\n",
    "            i += train_period\n",
    "            x_train = scaler.fit_transform(\n",
    "                x_train.reshape(-1, x_train.shape[-1])\n",
    "            ).reshape(x_train.shape)\n",
    "            x_test = scaler.transform(x_test.reshape(-1, x_test.shape[-1])).reshape(\n",
    "                x_test.shape\n",
    "            )\n",
    "            model = get_baseline_model(\n",
    "                num_features=x_train.shape[-1], time_steps=x_train.shape[-2]\n",
    "            )\n",
    "            model.fit(x_train, y_train, epochs=100, batch_size=32, verbose=0)\n",
    "            rmse = model.evaluate(x_test, y_test, verbose=0)\n",
    "            scores.append(rmse[1])\n",
    "        results.append(scores)\n",
    "        if show_individual_results:\n",
    "            print(\"RMSE: %.3f (%.3f)\" % (np.mean(scores), np.std(scores)))\n",
    "    if show_final_result:\n",
    "        print(\"\\nRMSE: %.3f (%.3f)\" % (np.mean(results), np.std(results)))\n",
    "    return results"
   ]
  },
  {
   "cell_type": "code",
   "execution_count": 6,
   "metadata": {},
   "outputs": [],
   "source": [
    "def make_timesteps_repeated_time_series_k_fold(\n",
    "    df, train_period, test_period, repeats=10, timesteps_list=[3], show_results=True\n",
    "):\n",
    "    results = {}\n",
    "\n",
    "    for timesteps in timesteps_list:\n",
    "        x, y = split_sequences(df.values, timesteps)\n",
    "        scores = make_repeated_time_series_k_fold(\n",
    "            x,\n",
    "            y,\n",
    "            train_period,\n",
    "            test_period,\n",
    "            repeats=10,\n",
    "            show_individual_results=False,\n",
    "            show_final_result=False,\n",
    "        )\n",
    "        results[timesteps] = scores\n",
    "        if show_results:\n",
    "            print(\n",
    "                \"TIMESTEPS: %d RMSE: %.3f (%.3f)\"\n",
    "                % (timesteps, np.mean(scores), np.std(scores))\n",
    "            )\n",
    "    return results\n"
   ]
  },
  {
   "cell_type": "markdown",
   "metadata": {},
   "source": [
    "<h3>Disable Tensorflow Warnings</h3>"
   ]
  },
  {
   "cell_type": "code",
   "execution_count": 7,
   "metadata": {},
   "outputs": [],
   "source": [
    "os.environ[\"TF_CPP_MIN_LOG_LEVEL\"] = \"3\""
   ]
  },
  {
   "cell_type": "markdown",
   "metadata": {},
   "source": [
    "# FFT Transform\n",
    "\n",
    "This notebook contains that experiments with the data transformed with fast fourier transform."
   ]
  },
  {
   "cell_type": "code",
   "execution_count": 8,
   "metadata": {},
   "outputs": [],
   "source": [
    "df_r3d_and_r7d = pd.read_csv(\n",
    "    \"../../../../data/interim/\"\n",
    "    + \"r3d_and_r7d-no-resampling-with-fillna-and-fft-all-vars-kept-\"\n",
    "    + \"dados-historicos-partner_i-cement-CPIIE40.csv\"\n",
    ")\n",
    "df_r3d_only = pd.read_csv(\n",
    "    \"../../../../data/interim/\"\n",
    "    + \"r3d_only-no-resampling-with-fillna-and-fft-all-vars-kept-\"\n",
    "    + \"dados-historicos-partner_i-cement-CPIIE40.csv\"\n",
    ")\n",
    "df_no_r3d_r7d = pd.read_csv(\n",
    "    \"../../../../data/interim/\"\n",
    "    + \"no-r3d-r7d-no-resampling-with-fillna-and-fft-all-vars-kept-\"\n",
    "    + \"dados-historicos-partner_i-cement-CPIIE40.csv\"\n",
    ")"
   ]
  },
  {
   "cell_type": "code",
   "execution_count": 9,
   "metadata": {},
   "outputs": [],
   "source": [
    "seed = 47\n",
    "scaler = StandardScaler()\n",
    "\n",
    "timesteps_list = [1, 3, 5, 7, 10, 15, 20]\n",
    "repeats = 10"
   ]
  },
  {
   "cell_type": "markdown",
   "metadata": {},
   "source": [
    "# Transformer Encoder"
   ]
  },
  {
   "cell_type": "markdown",
   "metadata": {},
   "source": [
    "# Configs:\n",
    "\n",
    "1. TIMESTEPS: [1, 3, 5, 7, 10, 15, 20]\n",
    "\n",
    "2. Epochs: 100\n",
    "\n",
    "3. Batch size: 32\n",
    "\n",
    "4. num heads: 2\n",
    "\n",
    "5. FF Layers enc: 1\n",
    "\n",
    "      5.1 Units 32\n",
    "\n",
    "6. Optimization Algorithm: Adam\n",
    "    \n",
    "    6.1. Learning Rate: 1e-2"
   ]
  },
  {
   "cell_type": "markdown",
   "metadata": {},
   "source": [
    "# Times Series Repeated KFold Cross validation - different Timesteps values\n",
    "\n",
    "Here we will make a Times Series KFold Cross validation with all 3 datasets. Here we are using the Blocking Time Series Split method. And with timeseries Split method. We also do it with different number of timesteps\n"
   ]
  },
  {
   "cell_type": "markdown",
   "metadata": {},
   "source": [
    "<h3> Time Series Repeated KFold Cross Validation with vary timesteps - df_no_r3d_r7d</h3>\n",
    "\n",
    "<b>Dataset: df_no_r3d_r7d:</b> In this dataset the R3D and R7D variables are not considered."
   ]
  },
  {
   "cell_type": "code",
   "execution_count": 10,
   "metadata": {},
   "outputs": [],
   "source": [
    "df = df_no_r3d_r7d.copy()\n",
    "columns = list(df.columns.drop(['R28D']))\n",
    "columns.append('R28D')\n",
    "df = df.reindex(columns=columns)\n",
    "df = df.drop(['Data/Hora'], axis=1)"
   ]
  },
  {
   "cell_type": "markdown",
   "metadata": {},
   "source": [
    "<h4>Experiment 1</h4>\n",
    "    \n",
    "<b>Train 6 months and predicts one month every year</b>"
   ]
  },
  {
   "cell_type": "code",
   "execution_count": 11,
   "metadata": {},
   "outputs": [],
   "source": [
    "train_period = 90 # 6 months of data since the data is spaced every 2 days\n",
    "test_period = 15 # 1 month"
   ]
  },
  {
   "cell_type": "code",
   "execution_count": 12,
   "metadata": {},
   "outputs": [
    {
     "name": "stdout",
     "output_type": "stream",
     "text": [
      "WARNING:tensorflow:5 out of the last 5 calls to <function Model.make_test_function.<locals>.test_function at 0x7fb54051fee0> triggered tf.function retracing. Tracing is expensive and the excessive number of tracings could be due to (1) creating @tf.function repeatedly in a loop, (2) passing tensors with different shapes, (3) passing Python objects instead of tensors. For (1), please define your @tf.function outside of the loop. For (2), @tf.function has experimental_relax_shapes=True option that relaxes argument shapes that can avoid unnecessary retracing. For (3), please refer to https://www.tensorflow.org/guide/function#controlling_retracing and https://www.tensorflow.org/api_docs/python/tf/function for  more details.\n",
      "WARNING:tensorflow:6 out of the last 6 calls to <function Model.make_test_function.<locals>.test_function at 0x7fb540272670> triggered tf.function retracing. Tracing is expensive and the excessive number of tracings could be due to (1) creating @tf.function repeatedly in a loop, (2) passing tensors with different shapes, (3) passing Python objects instead of tensors. For (1), please define your @tf.function outside of the loop. For (2), @tf.function has experimental_relax_shapes=True option that relaxes argument shapes that can avoid unnecessary retracing. For (3), please refer to https://www.tensorflow.org/guide/function#controlling_retracing and https://www.tensorflow.org/api_docs/python/tf/function for  more details.\n",
      "TIMESTEPS: 1 RMSE: 3.050 (0.381)\n",
      "TIMESTEPS: 3 RMSE: 2.918 (0.889)\n",
      "TIMESTEPS: 5 RMSE: 2.757 (0.498)\n",
      "TIMESTEPS: 7 RMSE: 2.517 (0.386)\n",
      "TIMESTEPS: 10 RMSE: 2.831 (0.386)\n",
      "TIMESTEPS: 15 RMSE: 3.310 (0.568)\n",
      "TIMESTEPS: 20 RMSE: 3.141 (0.429)\n"
     ]
    }
   ],
   "source": [
    "results = make_timesteps_repeated_time_series_k_fold(\n",
    "    df, train_period, test_period, repeats, timesteps_list, True\n",
    ")"
   ]
  },
  {
   "cell_type": "markdown",
   "metadata": {},
   "source": [
    "<h4>Experiment 2</h4>\n",
    "    \n",
    "<b>Train 11 months and predicts one month every year</b>"
   ]
  },
  {
   "cell_type": "code",
   "execution_count": 13,
   "metadata": {},
   "outputs": [],
   "source": [
    "train_period = 165 # 11 months of data since the data is spaced every 2 days (180 + 150)/2\n",
    "test_period = 15 # 1 month"
   ]
  },
  {
   "cell_type": "code",
   "execution_count": 14,
   "metadata": {},
   "outputs": [
    {
     "name": "stdout",
     "output_type": "stream",
     "text": [
      "TIMESTEPS: 1 RMSE: 3.363 (0.360)\n",
      "TIMESTEPS: 3 RMSE: 3.745 (0.201)\n",
      "TIMESTEPS: 5 RMSE: 3.972 (0.197)\n",
      "TIMESTEPS: 7 RMSE: 4.031 (0.157)\n",
      "TIMESTEPS: 10 RMSE: 3.190 (0.274)\n",
      "TIMESTEPS: 15 RMSE: 3.541 (0.475)\n",
      "TIMESTEPS: 20 RMSE: 3.191 (0.320)\n"
     ]
    }
   ],
   "source": [
    "results = make_timesteps_repeated_time_series_k_fold(\n",
    "    df, train_period, test_period, repeats, timesteps_list, True\n",
    ")"
   ]
  },
  {
   "cell_type": "markdown",
   "metadata": {},
   "source": [
    "<h4>Experiment 3</h4>\n",
    "    \n",
    "<b>Train 2 years and 10 months and predicts october and november of 2021</b>"
   ]
  },
  {
   "cell_type": "code",
   "execution_count": 15,
   "metadata": {},
   "outputs": [],
   "source": [
    "train_period = 200 # 11 months of data since the data is spaced every 2 days (180 + 150)/2\n",
    "test_period = 30 # 2 months"
   ]
  },
  {
   "cell_type": "code",
   "execution_count": 16,
   "metadata": {},
   "outputs": [
    {
     "name": "stdout",
     "output_type": "stream",
     "text": [
      "TIMESTEPS: 1 RMSE: 2.814 (0.749)\n",
      "TIMESTEPS: 3 RMSE: 2.855 (0.925)\n",
      "TIMESTEPS: 5 RMSE: 2.738 (0.774)\n",
      "TIMESTEPS: 7 RMSE: 2.992 (0.615)\n",
      "TIMESTEPS: 10 RMSE: 2.974 (0.930)\n",
      "TIMESTEPS: 15 RMSE: 2.905 (0.892)\n",
      "TIMESTEPS: 20 RMSE: 2.847 (0.713)\n"
     ]
    }
   ],
   "source": [
    "results = make_timesteps_repeated_time_series_k_fold(\n",
    "    df, train_period, test_period, repeats, timesteps_list, True\n",
    ")"
   ]
  },
  {
   "cell_type": "markdown",
   "metadata": {},
   "source": [
    "<h3> Time Series Repeated KFold Cross Validation - df_r3d_only</h3>\n",
    "\n",
    "<b>Dataset: df_r3d_only:</b> In this dataset only R3D variable is considered."
   ]
  },
  {
   "cell_type": "code",
   "execution_count": 17,
   "metadata": {},
   "outputs": [],
   "source": [
    "df = df_r3d_only.copy()\n",
    "columns = list(df.columns.drop(['R28D']))\n",
    "columns.append('R28D')\n",
    "df = df.reindex(columns=columns)\n",
    "df = df.drop(['Data/Hora'], axis=1)"
   ]
  },
  {
   "cell_type": "markdown",
   "metadata": {},
   "source": [
    "<h4>Experiment 1</h4>\n",
    "    \n",
    "<b>Train 6 months and predicts one month every year</b>"
   ]
  },
  {
   "cell_type": "code",
   "execution_count": 18,
   "metadata": {},
   "outputs": [],
   "source": [
    "train_period = 90 # 6 months of data since the data is spaced every 2 days\n",
    "test_period = 15 # 1 month"
   ]
  },
  {
   "cell_type": "code",
   "execution_count": 19,
   "metadata": {},
   "outputs": [
    {
     "name": "stdout",
     "output_type": "stream",
     "text": [
      "TIMESTEPS: 1 RMSE: 3.175 (0.370)\n",
      "TIMESTEPS: 3 RMSE: 2.936 (0.704)\n",
      "TIMESTEPS: 5 RMSE: 2.795 (0.542)\n",
      "TIMESTEPS: 7 RMSE: 2.766 (0.687)\n",
      "TIMESTEPS: 10 RMSE: 2.793 (0.305)\n",
      "TIMESTEPS: 15 RMSE: 2.936 (0.580)\n",
      "TIMESTEPS: 20 RMSE: 3.077 (0.632)\n"
     ]
    }
   ],
   "source": [
    "results = make_timesteps_repeated_time_series_k_fold(\n",
    "    df, train_period, test_period, repeats, timesteps_list, True\n",
    ")"
   ]
  },
  {
   "cell_type": "markdown",
   "metadata": {},
   "source": [
    "<h4>Experiment 2</h4>\n",
    "    \n",
    "<b>Train 11 months and predicts one month every year</b>"
   ]
  },
  {
   "cell_type": "code",
   "execution_count": 20,
   "metadata": {},
   "outputs": [],
   "source": [
    "train_period = 165 # 11 months of data since the data is spaced every 2 days (180 + 150)/2\n",
    "test_period = 15 # 1 month"
   ]
  },
  {
   "cell_type": "code",
   "execution_count": 21,
   "metadata": {},
   "outputs": [
    {
     "name": "stdout",
     "output_type": "stream",
     "text": [
      "TIMESTEPS: 1 RMSE: 3.212 (0.392)\n",
      "TIMESTEPS: 3 RMSE: 3.675 (0.248)\n",
      "TIMESTEPS: 5 RMSE: 3.740 (0.355)\n",
      "TIMESTEPS: 7 RMSE: 3.891 (0.322)\n",
      "TIMESTEPS: 10 RMSE: 3.181 (0.232)\n",
      "TIMESTEPS: 15 RMSE: 3.257 (0.446)\n",
      "TIMESTEPS: 20 RMSE: 3.138 (0.455)\n"
     ]
    }
   ],
   "source": [
    "results = make_timesteps_repeated_time_series_k_fold(\n",
    "    df, train_period, test_period, repeats, timesteps_list, True\n",
    ")"
   ]
  },
  {
   "cell_type": "markdown",
   "metadata": {},
   "source": [
    "<h4>Experiment 3</h4>\n",
    "    \n",
    "<b>Train 2 years and 10 months and predicts october and november of 2021</b>"
   ]
  },
  {
   "cell_type": "code",
   "execution_count": 22,
   "metadata": {},
   "outputs": [],
   "source": [
    "train_period = 200 # 11 months of data since the data is spaced every 2 days (180 + 150)/2\n",
    "test_period = 30 # 2 months"
   ]
  },
  {
   "cell_type": "code",
   "execution_count": 23,
   "metadata": {},
   "outputs": [
    {
     "name": "stdout",
     "output_type": "stream",
     "text": [
      "TIMESTEPS: 1 RMSE: 3.257 (0.673)\n",
      "TIMESTEPS: 3 RMSE: 3.179 (0.712)\n",
      "TIMESTEPS: 5 RMSE: 3.140 (0.598)\n",
      "TIMESTEPS: 7 RMSE: 3.338 (0.895)\n",
      "TIMESTEPS: 10 RMSE: 3.650 (0.808)\n",
      "TIMESTEPS: 15 RMSE: 2.770 (0.656)\n",
      "TIMESTEPS: 20 RMSE: 2.402 (0.792)\n"
     ]
    }
   ],
   "source": [
    "results = make_timesteps_repeated_time_series_k_fold(\n",
    "    df, train_period, test_period, repeats, timesteps_list, True\n",
    ")"
   ]
  },
  {
   "cell_type": "markdown",
   "metadata": {},
   "source": [
    "<h3> Time Series Repeated KFold Cross Validation - df_r3d_and_r7d</h3>\n",
    "\n",
    "<b>Dataset: df_r3d_and_r7d:</b> In this dataset both R3D and R7D variables are considered."
   ]
  },
  {
   "cell_type": "code",
   "execution_count": 24,
   "metadata": {},
   "outputs": [],
   "source": [
    "df = df_r3d_and_r7d.copy()\n",
    "columns = list(df.columns.drop(['R28D']))\n",
    "columns.append('R28D')\n",
    "df = df.reindex(columns=columns)\n",
    "df = df.drop(['Data/Hora'], axis=1)"
   ]
  },
  {
   "cell_type": "markdown",
   "metadata": {},
   "source": [
    "<h4>Experiment 1</h4>\n",
    "    \n",
    "<b>Train 6 months and predicts one month every year</b>"
   ]
  },
  {
   "cell_type": "code",
   "execution_count": 25,
   "metadata": {},
   "outputs": [],
   "source": [
    "train_period = 90 # 6 months of data since the data is spaced every 2 days\n",
    "test_period = 15 # 1 month"
   ]
  },
  {
   "cell_type": "code",
   "execution_count": 26,
   "metadata": {},
   "outputs": [
    {
     "name": "stdout",
     "output_type": "stream",
     "text": [
      "TIMESTEPS: 1 RMSE: 3.187 (0.530)\n",
      "TIMESTEPS: 3 RMSE: 2.811 (0.788)\n",
      "TIMESTEPS: 5 RMSE: 2.749 (0.564)\n",
      "TIMESTEPS: 7 RMSE: 2.550 (0.481)\n",
      "TIMESTEPS: 10 RMSE: 2.778 (0.441)\n",
      "TIMESTEPS: 15 RMSE: 3.349 (0.527)\n",
      "TIMESTEPS: 20 RMSE: 3.526 (0.858)\n"
     ]
    }
   ],
   "source": [
    "results = make_timesteps_repeated_time_series_k_fold(\n",
    "    df, train_period, test_period, repeats, timesteps_list, True\n",
    ")"
   ]
  },
  {
   "cell_type": "markdown",
   "metadata": {},
   "source": [
    "<h4>Experiment 2</h4>\n",
    "    \n",
    "<b>Train 11 months and predicts one month every year</b>"
   ]
  },
  {
   "cell_type": "code",
   "execution_count": 27,
   "metadata": {},
   "outputs": [],
   "source": [
    "train_period = 165 # 11 months of data since the data is spaced every 2 days (180 + 150)/2\n",
    "test_period = 15 # 1 month"
   ]
  },
  {
   "cell_type": "code",
   "execution_count": 28,
   "metadata": {},
   "outputs": [
    {
     "name": "stdout",
     "output_type": "stream",
     "text": [
      "TIMESTEPS: 1 RMSE: 3.302 (0.315)\n",
      "TIMESTEPS: 3 RMSE: 3.808 (0.190)\n",
      "TIMESTEPS: 5 RMSE: 4.037 (0.180)\n",
      "TIMESTEPS: 7 RMSE: 3.973 (0.261)\n",
      "TIMESTEPS: 10 RMSE: 3.085 (0.324)\n",
      "TIMESTEPS: 15 RMSE: 3.593 (0.585)\n",
      "TIMESTEPS: 20 RMSE: 3.163 (0.513)\n"
     ]
    }
   ],
   "source": [
    "results = make_timesteps_repeated_time_series_k_fold(\n",
    "    df, train_period, test_period, repeats, timesteps_list, True\n",
    ")"
   ]
  },
  {
   "cell_type": "markdown",
   "metadata": {},
   "source": [
    "<h4>Experiment 3</h4>\n",
    "    \n",
    "<b>Train 2 years and 10 months and predicts october and november of 2021</b>"
   ]
  },
  {
   "cell_type": "code",
   "execution_count": 29,
   "metadata": {},
   "outputs": [],
   "source": [
    "train_period = 200 # 11 months of data since the data is spaced every 2 days (180 + 150)/2\n",
    "test_period = 30 # 2 months"
   ]
  },
  {
   "cell_type": "code",
   "execution_count": 30,
   "metadata": {},
   "outputs": [
    {
     "name": "stdout",
     "output_type": "stream",
     "text": [
      "TIMESTEPS: 1 RMSE: 3.030 (0.561)\n",
      "TIMESTEPS: 3 RMSE: 2.801 (0.496)\n",
      "TIMESTEPS: 5 RMSE: 2.766 (0.697)\n",
      "TIMESTEPS: 7 RMSE: 3.018 (0.771)\n",
      "TIMESTEPS: 10 RMSE: 3.853 (0.696)\n",
      "TIMESTEPS: 15 RMSE: 2.466 (0.606)\n",
      "TIMESTEPS: 20 RMSE: 2.526 (0.470)\n"
     ]
    }
   ],
   "source": [
    "results = make_timesteps_repeated_time_series_k_fold(\n",
    "    df, train_period, test_period, repeats, timesteps_list, True\n",
    ")"
   ]
  },
  {
   "cell_type": "code",
   "execution_count": null,
   "metadata": {},
   "outputs": [],
   "source": []
  }
 ],
 "metadata": {
  "kernelspec": {
   "display_name": "ccs28-venv",
   "language": "python",
   "name": "ccs28-venv"
  },
  "language_info": {
   "codemirror_mode": {
    "name": "ipython",
    "version": 3
   },
   "file_extension": ".py",
   "mimetype": "text/x-python",
   "name": "python",
   "nbconvert_exporter": "python",
   "pygments_lexer": "ipython3",
   "version": "3.8.10"
  }
 },
 "nbformat": 4,
 "nbformat_minor": 4
}
