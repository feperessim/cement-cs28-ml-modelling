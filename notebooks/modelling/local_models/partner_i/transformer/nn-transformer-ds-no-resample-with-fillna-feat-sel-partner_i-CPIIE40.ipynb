{
 "cells": [
  {
   "cell_type": "code",
   "execution_count": 1,
   "metadata": {},
   "outputs": [],
   "source": [
    "import pandas as pd\n",
    "import numpy as np\n",
    "import tensorflow as tf\n",
    "import matplotlib.pyplot as plt\n",
    "import time\n",
    "import os\n",
    "\n",
    "from sklearn.model_selection import TimeSeriesSplit\n",
    "from sklearn.preprocessing import StandardScaler\n",
    "from sklearn.pipeline import Pipeline\n",
    "\n",
    "from src.utils.time_series_procs import split_sequences\n",
    "from src.models.transformer_ts_tf import Transformer"
   ]
  },
  {
   "cell_type": "code",
   "execution_count": 2,
   "metadata": {},
   "outputs": [],
   "source": [
    "def get_times_series_data(df, cut_date):\n",
    "    columns = list(df.columns.drop([\"R28D\"]))\n",
    "    columns.append(\"R28D\")\n",
    "    df = df.reindex(columns=columns)\n",
    "    df[\"Data/Hora\"] = pd.to_datetime(df[\"Data/Hora\"])\n",
    "    df_train = df[df[\"Data/Hora\"] < cut_date]\n",
    "    df_test = df[df[\"Data/Hora\"] >= cut_date]\n",
    "    df_train = df_train.drop([\"Data/Hora\"], axis=1)\n",
    "    df_test = df_test.drop([\"Data/Hora\"], axis=1)\n",
    "    x_train, y_train = split_sequences(df_train.values, TIME_STEPS)\n",
    "    x_test, y_test = split_sequences(df_test.values, TIME_STEPS)\n",
    "    return x_train, y_train, x_test, y_test"
   ]
  },
  {
   "cell_type": "code",
   "execution_count": 3,
   "metadata": {},
   "outputs": [],
   "source": [
    "class StandardScaler3DShape:\n",
    "    def __init__(self):\n",
    "        self.scaler = StandardScaler()\n",
    "\n",
    "    def fit_transform(self, X, y=None):\n",
    "        X_new = self.scaler.fit_transform(X.reshape(-1, X.shape[-1])).reshape(X.shape)\n",
    "        return X_new\n",
    "\n",
    "    def fit(self, X, y=None):\n",
    "        X_new = X.reshape(-1, X.shape[-1])\n",
    "        self.scaler.fit(X_new)\n",
    "        return self\n",
    "\n",
    "    def transform(self, X, y=None):\n",
    "        X_new = self.scaler.transform(X.reshape(-1, X.shape[-1])).reshape(X.shape)\n",
    "        return X_new"
   ]
  },
  {
   "cell_type": "code",
   "execution_count": 4,
   "metadata": {},
   "outputs": [],
   "source": [
    "def get_baseline_model(\n",
    "    num_features, time_steps, num_heads=2, num_layers_enc=1, num_feed_forward=32\n",
    "):\n",
    "    model = Transformer(\n",
    "        num_hid=num_features,\n",
    "        time_steps=time_steps,\n",
    "        num_head=num_heads,\n",
    "        num_layers_enc=num_layers_enc,\n",
    "        num_feed_forward=num_feed_forward,\n",
    "    )\n",
    "\n",
    "    opt = tf.keras.optimizers.Adam(learning_rate=0.01)\n",
    "    model.compile(\n",
    "        optimizer=opt,\n",
    "        loss=\"mse\",\n",
    "        metrics=[tf.keras.metrics.RootMeanSquaredError(name=\"RMSE\")],\n",
    "    )\n",
    "    return model"
   ]
  },
  {
   "cell_type": "code",
   "execution_count": 5,
   "metadata": {},
   "outputs": [],
   "source": [
    "def make_repeated_time_series_k_fold(\n",
    "    x,\n",
    "    y,\n",
    "    train_period,\n",
    "    test_period,\n",
    "    repeats=10,\n",
    "    show_individual_results=True,\n",
    "    show_final_result=True,\n",
    "):\n",
    "    results = []\n",
    "    max_samples = x.shape[0]\n",
    "\n",
    "    for _ in range(repeats):\n",
    "        i = 0\n",
    "        scores = []\n",
    "        for _ in range(0, max_samples // train_period):\n",
    "            x_train = x[i : i + train_period]\n",
    "            y_train = y[i : i + train_period]\n",
    "            x_test = x[i + train_period : i + train_period + test_period]\n",
    "            y_test = y[i + train_period : i + train_period + test_period]\n",
    "            i += train_period\n",
    "            x_train = scaler.fit_transform(\n",
    "                x_train.reshape(-1, x_train.shape[-1])\n",
    "            ).reshape(x_train.shape)\n",
    "            x_test = scaler.transform(x_test.reshape(-1, x_test.shape[-1])).reshape(\n",
    "                x_test.shape\n",
    "            )\n",
    "            model = get_baseline_model(\n",
    "                num_features=x_train.shape[-1], time_steps=x_train.shape[-2]\n",
    "            )\n",
    "            model.fit(x_train, y_train, epochs=100, batch_size=32, verbose=0)\n",
    "            rmse = model.evaluate(x_test, y_test, verbose=0)\n",
    "            scores.append(rmse[1])\n",
    "        results.append(scores)\n",
    "        if show_individual_results:\n",
    "            print(\"RMSE: %.3f (%.3f)\" % (np.mean(scores), np.std(scores)))\n",
    "    if show_final_result:\n",
    "        print(\"\\nRMSE: %.3f (%.3f)\" % (np.mean(results), np.std(results)))\n",
    "    return results"
   ]
  },
  {
   "cell_type": "code",
   "execution_count": 6,
   "metadata": {},
   "outputs": [],
   "source": [
    "def make_timesteps_repeated_time_series_k_fold(\n",
    "    df, train_period, test_period, repeats=10, timesteps_list=[3], show_results=True\n",
    "):\n",
    "    results = {}\n",
    "\n",
    "    for timesteps in timesteps_list:\n",
    "        x, y = split_sequences(df.values, timesteps)\n",
    "        scores = make_repeated_time_series_k_fold(\n",
    "            x,\n",
    "            y,\n",
    "            train_period,\n",
    "            test_period,\n",
    "            repeats=10,\n",
    "            show_individual_results=False,\n",
    "            show_final_result=False,\n",
    "        )\n",
    "        results[timesteps] = scores\n",
    "        if show_results:\n",
    "            print(\n",
    "                \"TIMESTEPS: %d RMSE: %.3f (%.3f)\"\n",
    "                % (timesteps, np.mean(scores), np.std(scores))\n",
    "            )\n",
    "    return results"
   ]
  },
  {
   "cell_type": "markdown",
   "metadata": {},
   "source": [
    "<h3>Disable Tensorflow Warnings</h3>"
   ]
  },
  {
   "cell_type": "code",
   "execution_count": 7,
   "metadata": {},
   "outputs": [],
   "source": [
    "os.environ['TF_CPP_MIN_LOG_LEVEL'] = '3'"
   ]
  },
  {
   "cell_type": "code",
   "execution_count": 8,
   "metadata": {},
   "outputs": [],
   "source": [
    "df_r3d_and_r7d = pd.read_csv(\n",
    "    \"../../../../data/interim/\"\n",
    "    + \"r3d_and_r7d-no-resampling-with-fillna-\"\n",
    "    + \"dados-historicos-partner_i-cement-CPIIE40.csv\"\n",
    ")\n",
    "df_r3d_only = pd.read_csv(\n",
    "    \"../../../../data/interim/\"\n",
    "    + \"r3d_only-no-resampling-with-fillna-\"\n",
    "    + \"dados-historicos-partner_i-cement-CPIIE40.csv\"\n",
    ")\n",
    "df_no_r3d_r7d = pd.read_csv(\n",
    "    \"../../../../data/interim/\"\n",
    "    + \"no-r3d-r7d-no-resampling-with-fillna-\"\n",
    "    + \"dados-historicos-partner_i-cement-CPIIE40.csv\"\n",
    ")"
   ]
  },
  {
   "cell_type": "code",
   "execution_count": 9,
   "metadata": {},
   "outputs": [],
   "source": [
    "seed = 47\n",
    "scaler = StandardScaler()\n",
    "\n",
    "timesteps_list = [1, 3, 5, 7, 10, 15, 20]\n",
    "repeats = 10"
   ]
  },
  {
   "cell_type": "markdown",
   "metadata": {},
   "source": [
    "## Feature Selection\n",
    "\n",
    "### In this notebook we remove variables that could potentially cause data leakage. Thus we are performing testings removing the following variables:\n",
    "\n",
    "#### IP - Initial setting time\n",
    "#### FP - Final setting time\n",
    "\n",
    "\n",
    "#### BL - Blaine specific surface (This is both removed and use)"
   ]
  },
  {
   "cell_type": "markdown",
   "metadata": {},
   "source": [
    "# Transformer Encoder"
   ]
  },
  {
   "cell_type": "markdown",
   "metadata": {},
   "source": [
    "# Configs:\n",
    "\n",
    "1. TIMESTEPS: [1, 3, 5, 7, 10, 15, 20]\n",
    "\n",
    "2. Epochs: 100\n",
    "\n",
    "3. Batch size: 32\n",
    "\n",
    "4. num heads: 2\n",
    "\n",
    "5. FF Layers enc: 1\n",
    "\n",
    "      5.1 Units 32\n",
    "\n",
    "6. Optimization Algorithm: Adam\n",
    "    \n",
    "    6.1. Learning Rate: 1e-2"
   ]
  },
  {
   "cell_type": "markdown",
   "metadata": {},
   "source": [
    "# Times Series Repeated KFold Cross validation - different Timesteps values\n",
    "\n",
    "Here we will make a Times Series KFold Cross validation with all 3 datasets. Here we are using the Blocking Time Series Split method. And with timeseries Split method. We also do it with different number of timesteps\n"
   ]
  },
  {
   "cell_type": "markdown",
   "metadata": {},
   "source": [
    "## 1.1 Dataset: no-r3d-r7d-no-resampling-with-fillna"
   ]
  },
  {
   "cell_type": "markdown",
   "metadata": {},
   "source": [
    "<h3>1.1.1 Time Series Repeated KFold Cross Validation with vary timesteps - df_no_r3d_r7d</h3>\n",
    "\n",
    "<b>Dataset: df_no_r3d_r7d:</b> In this dataset the R3D and R7D variables are not considered.\n",
    "\n",
    "<b>Feature Selection:</b> The IP and FP variables are discarded."
   ]
  },
  {
   "cell_type": "code",
   "execution_count": 10,
   "metadata": {},
   "outputs": [],
   "source": [
    "df = df_no_r3d_r7d.copy()\n",
    "columns = list(df.columns.drop(['R28D']))\n",
    "columns.append('R28D')\n",
    "df = df.reindex(columns=columns)\n",
    "df = df.drop(['Data/Hora', \"IP\", \"FP\"], axis=1)"
   ]
  },
  {
   "cell_type": "markdown",
   "metadata": {},
   "source": [
    "<h4>Experiment 1</h4>\n",
    "    \n",
    "<b>Train 6 months and predicts one month every year</b>"
   ]
  },
  {
   "cell_type": "code",
   "execution_count": 11,
   "metadata": {},
   "outputs": [],
   "source": [
    "train_period = 90 # 6 months of data since the data is spaced every 2 days\n",
    "test_period = 15 # 1 month"
   ]
  },
  {
   "cell_type": "code",
   "execution_count": 12,
   "metadata": {},
   "outputs": [
    {
     "name": "stdout",
     "output_type": "stream",
     "text": [
      "WARNING:tensorflow:5 out of the last 5 calls to <function Model.make_test_function.<locals>.test_function at 0x7f16f8088d30> triggered tf.function retracing. Tracing is expensive and the excessive number of tracings could be due to (1) creating @tf.function repeatedly in a loop, (2) passing tensors with different shapes, (3) passing Python objects instead of tensors. For (1), please define your @tf.function outside of the loop. For (2), @tf.function has experimental_relax_shapes=True option that relaxes argument shapes that can avoid unnecessary retracing. For (3), please refer to https://www.tensorflow.org/guide/function#controlling_retracing and https://www.tensorflow.org/api_docs/python/tf/function for  more details.\n",
      "WARNING:tensorflow:6 out of the last 6 calls to <function Model.make_test_function.<locals>.test_function at 0x7f16d85b1dc0> triggered tf.function retracing. Tracing is expensive and the excessive number of tracings could be due to (1) creating @tf.function repeatedly in a loop, (2) passing tensors with different shapes, (3) passing Python objects instead of tensors. For (1), please define your @tf.function outside of the loop. For (2), @tf.function has experimental_relax_shapes=True option that relaxes argument shapes that can avoid unnecessary retracing. For (3), please refer to https://www.tensorflow.org/guide/function#controlling_retracing and https://www.tensorflow.org/api_docs/python/tf/function for  more details.\n",
      "TIMESTEPS: 1 RMSE: 2.537 (0.315)\n",
      "TIMESTEPS: 3 RMSE: 2.529 (0.574)\n",
      "TIMESTEPS: 5 RMSE: 2.624 (0.408)\n",
      "TIMESTEPS: 7 RMSE: 2.474 (0.414)\n",
      "TIMESTEPS: 10 RMSE: 2.437 (0.420)\n",
      "TIMESTEPS: 15 RMSE: 2.583 (0.546)\n",
      "TIMESTEPS: 20 RMSE: 2.698 (0.463)\n"
     ]
    }
   ],
   "source": [
    "results = make_timesteps_repeated_time_series_k_fold(\n",
    "    df, train_period, test_period, repeats, timesteps_list, True\n",
    ")"
   ]
  },
  {
   "cell_type": "markdown",
   "metadata": {},
   "source": [
    "<h4>Experiment 2</h4>\n",
    "    \n",
    "<b>Train 11 months and predicts one month every year</b>"
   ]
  },
  {
   "cell_type": "code",
   "execution_count": 13,
   "metadata": {},
   "outputs": [],
   "source": [
    "train_period = 165 # 11 months of data since the data is spaced every 2 days (180 + 150)/2\n",
    "test_period = 15 # 1 month"
   ]
  },
  {
   "cell_type": "code",
   "execution_count": 14,
   "metadata": {},
   "outputs": [
    {
     "name": "stdout",
     "output_type": "stream",
     "text": [
      "TIMESTEPS: 1 RMSE: 2.913 (0.544)\n",
      "TIMESTEPS: 3 RMSE: 3.053 (0.372)\n",
      "TIMESTEPS: 5 RMSE: 3.414 (0.368)\n",
      "TIMESTEPS: 7 RMSE: 3.634 (0.300)\n",
      "TIMESTEPS: 10 RMSE: 2.575 (0.367)\n",
      "TIMESTEPS: 15 RMSE: 3.146 (0.439)\n",
      "TIMESTEPS: 20 RMSE: 2.891 (0.466)\n"
     ]
    }
   ],
   "source": [
    "results = make_timesteps_repeated_time_series_k_fold(\n",
    "    df, train_period, test_period, repeats, timesteps_list, True\n",
    ")"
   ]
  },
  {
   "cell_type": "markdown",
   "metadata": {},
   "source": [
    "<h4>Experiment 3</h4>\n",
    "    \n",
    "<b>Train 2 years and 10 months and predicts october and november of 2021</b>"
   ]
  },
  {
   "cell_type": "code",
   "execution_count": 15,
   "metadata": {},
   "outputs": [],
   "source": [
    "train_period = 200 # 11 months of data since the data is spaced every 2 days (180 + 150)/2\n",
    "test_period = 30 # 2 months"
   ]
  },
  {
   "cell_type": "code",
   "execution_count": 16,
   "metadata": {},
   "outputs": [
    {
     "name": "stdout",
     "output_type": "stream",
     "text": [
      "TIMESTEPS: 1 RMSE: 2.329 (0.563)\n",
      "TIMESTEPS: 3 RMSE: 2.560 (0.502)\n",
      "TIMESTEPS: 5 RMSE: 2.679 (0.632)\n",
      "TIMESTEPS: 7 RMSE: 2.969 (0.818)\n",
      "TIMESTEPS: 10 RMSE: 3.398 (1.095)\n",
      "TIMESTEPS: 15 RMSE: 2.324 (0.404)\n",
      "TIMESTEPS: 20 RMSE: 2.423 (0.642)\n"
     ]
    }
   ],
   "source": [
    "results = make_timesteps_repeated_time_series_k_fold(\n",
    "    df, train_period, test_period, repeats, timesteps_list, True\n",
    ")"
   ]
  },
  {
   "cell_type": "markdown",
   "metadata": {},
   "source": [
    "<h3>1.1.2 Time Series Repeated KFold Cross Validation with vary timesteps - df_no_r3d_r7d</h3>\n",
    "\n",
    "<b>Dataset: df_no_r3d_r7d:</b> In this dataset the R3D and R7D variables are not considered.\n",
    "\n",
    "<b>Feature Selection:</b> The IP, FP and BL variables are discarded."
   ]
  },
  {
   "cell_type": "code",
   "execution_count": 17,
   "metadata": {},
   "outputs": [],
   "source": [
    "df = df_no_r3d_r7d.copy()\n",
    "columns = list(df.columns.drop(['R28D']))\n",
    "columns.append('R28D')\n",
    "df = df.reindex(columns=columns)\n",
    "df = df.drop(['Data/Hora', \"IP\", \"FP\", \"BL\"], axis=1)"
   ]
  },
  {
   "cell_type": "markdown",
   "metadata": {},
   "source": [
    "<h4>Experiment 1</h4>\n",
    "    \n",
    "<b>Train 6 months and predicts one month every year</b>"
   ]
  },
  {
   "cell_type": "code",
   "execution_count": 18,
   "metadata": {},
   "outputs": [],
   "source": [
    "train_period = 90 # 6 months of data since the data is spaced every 2 days\n",
    "test_period = 15 # 1 month"
   ]
  },
  {
   "cell_type": "code",
   "execution_count": 19,
   "metadata": {},
   "outputs": [
    {
     "name": "stdout",
     "output_type": "stream",
     "text": [
      "TIMESTEPS: 1 RMSE: 2.521 (0.268)\n",
      "TIMESTEPS: 3 RMSE: 2.537 (0.551)\n",
      "TIMESTEPS: 5 RMSE: 2.563 (0.570)\n",
      "TIMESTEPS: 7 RMSE: 2.223 (0.318)\n",
      "TIMESTEPS: 10 RMSE: 2.573 (0.348)\n",
      "TIMESTEPS: 15 RMSE: 2.696 (0.469)\n",
      "TIMESTEPS: 20 RMSE: 2.796 (0.452)\n"
     ]
    }
   ],
   "source": [
    "results = make_timesteps_repeated_time_series_k_fold(\n",
    "    df, train_period, test_period, repeats, timesteps_list, True\n",
    ")"
   ]
  },
  {
   "cell_type": "markdown",
   "metadata": {},
   "source": [
    "<h4>Experiment 2</h4>\n",
    "    \n",
    "<b>Train 11 months and predicts one month every year</b>"
   ]
  },
  {
   "cell_type": "code",
   "execution_count": 20,
   "metadata": {},
   "outputs": [],
   "source": [
    "train_period = 165 # 11 months of data since the data is spaced every 2 days (180 + 150)/2\n",
    "test_period = 15 # 1 month"
   ]
  },
  {
   "cell_type": "code",
   "execution_count": 21,
   "metadata": {},
   "outputs": [
    {
     "name": "stdout",
     "output_type": "stream",
     "text": [
      "TIMESTEPS: 1 RMSE: 3.001 (0.580)\n",
      "TIMESTEPS: 3 RMSE: 3.203 (0.281)\n",
      "TIMESTEPS: 5 RMSE: 3.567 (0.239)\n",
      "TIMESTEPS: 7 RMSE: 3.226 (0.505)\n",
      "TIMESTEPS: 10 RMSE: 2.700 (0.230)\n",
      "TIMESTEPS: 15 RMSE: 3.274 (0.343)\n",
      "TIMESTEPS: 20 RMSE: 2.544 (0.489)\n"
     ]
    }
   ],
   "source": [
    "results = make_timesteps_repeated_time_series_k_fold(\n",
    "    df, train_period, test_period, repeats, timesteps_list, True\n",
    ")"
   ]
  },
  {
   "cell_type": "markdown",
   "metadata": {},
   "source": [
    "<h4>Experiment 3</h4>\n",
    "    \n",
    "<b>Train 2 years and 10 months and predicts october and november of 2021</b>"
   ]
  },
  {
   "cell_type": "code",
   "execution_count": 22,
   "metadata": {},
   "outputs": [],
   "source": [
    "train_period = 200 # 11 months of data since the data is spaced every 2 days (180 + 150)/2\n",
    "test_period = 30 # 2 months"
   ]
  },
  {
   "cell_type": "code",
   "execution_count": 23,
   "metadata": {},
   "outputs": [
    {
     "name": "stdout",
     "output_type": "stream",
     "text": [
      "TIMESTEPS: 1 RMSE: 2.275 (0.517)\n",
      "TIMESTEPS: 3 RMSE: 2.227 (0.245)\n",
      "TIMESTEPS: 5 RMSE: 2.911 (0.822)\n",
      "TIMESTEPS: 7 RMSE: 2.189 (0.498)\n",
      "TIMESTEPS: 10 RMSE: 2.962 (0.733)\n",
      "TIMESTEPS: 15 RMSE: 2.287 (0.354)\n",
      "TIMESTEPS: 20 RMSE: 2.495 (0.711)\n"
     ]
    }
   ],
   "source": [
    "results = make_timesteps_repeated_time_series_k_fold(\n",
    "    df, train_period, test_period, repeats, timesteps_list, True\n",
    ")"
   ]
  },
  {
   "cell_type": "markdown",
   "metadata": {},
   "source": [
    "<h3>1.1.3 Time Series Repeated KFold Cross Validation with vary timesteps - df_no_r3d_r7d</h3>\n",
    "\n",
    "<b>Dataset: df_no_r3d_r7d:</b> In this dataset the R3D and R7D variables are not considered.\n",
    "\n",
    "<b>Feature Selection:</b> \n",
    "\n",
    "1. The IP, FP and BL variables are discarded.\n",
    "\n",
    "2. High correlated variables are removed"
   ]
  },
  {
   "cell_type": "code",
   "execution_count": 24,
   "metadata": {},
   "outputs": [],
   "source": [
    "to_drop = [\n",
    "    \"Data/Hora\",\n",
    "    \"IP\",\n",
    "    \"FP\",\n",
    "    \"BL\",\n",
    "    \"CALCITA\",\n",
    "    \"DESIDRATAÇÃO\",\n",
    "    \"GIPSITA\",\n",
    "    \"TIO2\",\n",
    "    \"AL2O3\",\n",
    "    \"PF\",\n",
    "    \"FERRITA\",\n",
    "]\n",
    "\n",
    "df = df_no_r3d_r7d.copy()\n",
    "columns = list(df.columns.drop(['R28D']))\n",
    "columns.append('R28D')\n",
    "df = df.reindex(columns=columns)\n",
    "df = df.drop(to_drop, axis=1)"
   ]
  },
  {
   "cell_type": "markdown",
   "metadata": {},
   "source": [
    "<h4>Experiment 1</h4>\n",
    "    \n",
    "<b>Train 6 months and predicts one month every year</b>"
   ]
  },
  {
   "cell_type": "code",
   "execution_count": 25,
   "metadata": {},
   "outputs": [],
   "source": [
    "train_period = 90 # 6 months of data since the data is spaced every 2 days\n",
    "test_period = 15 # 1 month"
   ]
  },
  {
   "cell_type": "code",
   "execution_count": 26,
   "metadata": {},
   "outputs": [
    {
     "name": "stdout",
     "output_type": "stream",
     "text": [
      "TIMESTEPS: 1 RMSE: 2.367 (0.237)\n",
      "TIMESTEPS: 3 RMSE: 2.345 (0.472)\n",
      "TIMESTEPS: 5 RMSE: 2.480 (0.397)\n",
      "TIMESTEPS: 7 RMSE: 2.293 (0.292)\n",
      "TIMESTEPS: 10 RMSE: 2.487 (0.304)\n",
      "TIMESTEPS: 15 RMSE: 2.751 (0.344)\n",
      "TIMESTEPS: 20 RMSE: 2.571 (0.509)\n"
     ]
    }
   ],
   "source": [
    "results = make_timesteps_repeated_time_series_k_fold(\n",
    "    df, train_period, test_period, repeats, timesteps_list, True\n",
    ")"
   ]
  },
  {
   "cell_type": "markdown",
   "metadata": {},
   "source": [
    "<h4>Experiment 2</h4>\n",
    "    \n",
    "<b>Train 11 months and predicts one month every year</b>"
   ]
  },
  {
   "cell_type": "code",
   "execution_count": 27,
   "metadata": {},
   "outputs": [],
   "source": [
    "train_period = 165 # 11 months of data since the data is spaced every 2 days (180 + 150)/2\n",
    "test_period = 15 # 1 month"
   ]
  },
  {
   "cell_type": "code",
   "execution_count": 28,
   "metadata": {},
   "outputs": [
    {
     "name": "stdout",
     "output_type": "stream",
     "text": [
      "TIMESTEPS: 1 RMSE: 2.816 (0.270)\n",
      "TIMESTEPS: 3 RMSE: 3.106 (0.355)\n",
      "TIMESTEPS: 5 RMSE: 3.151 (0.390)\n",
      "TIMESTEPS: 7 RMSE: 2.936 (0.433)\n",
      "TIMESTEPS: 10 RMSE: 2.765 (0.602)\n",
      "TIMESTEPS: 15 RMSE: 2.653 (0.578)\n",
      "TIMESTEPS: 20 RMSE: 2.373 (0.594)\n"
     ]
    }
   ],
   "source": [
    "results = make_timesteps_repeated_time_series_k_fold(\n",
    "    df, train_period, test_period, repeats, timesteps_list, True\n",
    ")"
   ]
  },
  {
   "cell_type": "markdown",
   "metadata": {},
   "source": [
    "<h4>Experiment 3</h4>\n",
    "    \n",
    "<b>Train 2 years and 10 months and predicts october and november of 2021</b>"
   ]
  },
  {
   "cell_type": "code",
   "execution_count": 29,
   "metadata": {},
   "outputs": [],
   "source": [
    "train_period = 200 # 11 months of data since the data is spaced every 2 days (180 + 150)/2\n",
    "test_period = 30 # 2 months"
   ]
  },
  {
   "cell_type": "code",
   "execution_count": 30,
   "metadata": {},
   "outputs": [
    {
     "name": "stdout",
     "output_type": "stream",
     "text": [
      "TIMESTEPS: 1 RMSE: 1.689 (0.568)\n",
      "TIMESTEPS: 3 RMSE: 2.289 (0.421)\n",
      "TIMESTEPS: 5 RMSE: 2.186 (0.590)\n",
      "TIMESTEPS: 7 RMSE: 2.402 (0.640)\n",
      "TIMESTEPS: 10 RMSE: 2.514 (0.636)\n",
      "TIMESTEPS: 15 RMSE: 2.311 (0.591)\n",
      "TIMESTEPS: 20 RMSE: 2.377 (0.508)\n"
     ]
    }
   ],
   "source": [
    "results = make_timesteps_repeated_time_series_k_fold(\n",
    "    df, train_period, test_period, repeats, timesteps_list, True\n",
    ")"
   ]
  },
  {
   "cell_type": "markdown",
   "metadata": {},
   "source": [
    "## 1.2 Dataset: df_r3d_only"
   ]
  },
  {
   "cell_type": "markdown",
   "metadata": {},
   "source": [
    "<h3>1.2.1 Time Series Repeated KFold Cross Validation - df_r3d_only</h3>\n",
    "\n",
    "<b>Dataset: df_r3d_only:</b> In this dataset only R3D variable is considered.\n",
    "\n",
    "<b>Feature Selection:</b> The IP and FP variables are discarded."
   ]
  },
  {
   "cell_type": "code",
   "execution_count": 31,
   "metadata": {},
   "outputs": [],
   "source": [
    "df = df_r3d_only.copy()\n",
    "columns = list(df.columns.drop(['R28D']))\n",
    "columns.append('R28D')\n",
    "df = df.reindex(columns=columns)\n",
    "df = df.drop(['Data/Hora', \"IP\", \"FP\"], axis=1)"
   ]
  },
  {
   "cell_type": "markdown",
   "metadata": {},
   "source": [
    "<h4>Experiment 1</h4>\n",
    "    \n",
    "<b>Train 6 months and predicts one month every year</b>"
   ]
  },
  {
   "cell_type": "code",
   "execution_count": 32,
   "metadata": {},
   "outputs": [],
   "source": [
    "train_period = 90 # 6 months of data since the data is spaced every 2 days\n",
    "test_period = 15 # 1 month"
   ]
  },
  {
   "cell_type": "code",
   "execution_count": 33,
   "metadata": {},
   "outputs": [
    {
     "name": "stdout",
     "output_type": "stream",
     "text": [
      "TIMESTEPS: 1 RMSE: 2.580 (0.252)\n",
      "TIMESTEPS: 3 RMSE: 2.505 (0.628)\n",
      "TIMESTEPS: 5 RMSE: 2.502 (0.304)\n",
      "TIMESTEPS: 7 RMSE: 2.346 (0.281)\n",
      "TIMESTEPS: 10 RMSE: 2.670 (0.438)\n",
      "TIMESTEPS: 15 RMSE: 2.717 (0.409)\n",
      "TIMESTEPS: 20 RMSE: 3.153 (1.506)\n"
     ]
    }
   ],
   "source": [
    "results = make_timesteps_repeated_time_series_k_fold(\n",
    "    df, train_period, test_period, repeats, timesteps_list, True\n",
    ")"
   ]
  },
  {
   "cell_type": "markdown",
   "metadata": {},
   "source": [
    "<h4>Experiment 2</h4>\n",
    "    \n",
    "<b>Train 11 months and predicts one month every year</b>"
   ]
  },
  {
   "cell_type": "code",
   "execution_count": 34,
   "metadata": {},
   "outputs": [],
   "source": [
    "train_period = 165 # 11 months of data since the data is spaced every 2 days (180 + 150)/2\n",
    "test_period = 15 # 1 month"
   ]
  },
  {
   "cell_type": "code",
   "execution_count": 35,
   "metadata": {},
   "outputs": [
    {
     "name": "stdout",
     "output_type": "stream",
     "text": [
      "TIMESTEPS: 1 RMSE: 2.664 (0.428)\n",
      "TIMESTEPS: 3 RMSE: 3.393 (0.331)\n",
      "TIMESTEPS: 5 RMSE: 3.549 (0.231)\n",
      "TIMESTEPS: 7 RMSE: 3.221 (0.744)\n",
      "TIMESTEPS: 10 RMSE: 2.575 (0.365)\n",
      "TIMESTEPS: 15 RMSE: 3.474 (0.348)\n",
      "TIMESTEPS: 20 RMSE: 2.662 (0.654)\n"
     ]
    }
   ],
   "source": [
    "results = make_timesteps_repeated_time_series_k_fold(\n",
    "    df, train_period, test_period, repeats, timesteps_list, True\n",
    ")"
   ]
  },
  {
   "cell_type": "markdown",
   "metadata": {},
   "source": [
    "<h4>Experiment 3</h4>\n",
    "    \n",
    "<b>Train 2 years and 10 months and predicts october and november of 2021</b>"
   ]
  },
  {
   "cell_type": "code",
   "execution_count": 36,
   "metadata": {},
   "outputs": [],
   "source": [
    "train_period = 200 # 11 months of data since the data is spaced every 2 days (180 + 150)/2\n",
    "test_period = 30 # 2 months"
   ]
  },
  {
   "cell_type": "code",
   "execution_count": 37,
   "metadata": {},
   "outputs": [
    {
     "name": "stdout",
     "output_type": "stream",
     "text": [
      "TIMESTEPS: 1 RMSE: 2.452 (0.368)\n",
      "TIMESTEPS: 3 RMSE: 2.785 (0.527)\n",
      "TIMESTEPS: 5 RMSE: 2.516 (0.464)\n",
      "TIMESTEPS: 7 RMSE: 2.899 (0.625)\n",
      "TIMESTEPS: 10 RMSE: 2.770 (0.853)\n",
      "TIMESTEPS: 15 RMSE: 2.704 (0.752)\n",
      "TIMESTEPS: 20 RMSE: 2.094 (0.540)\n"
     ]
    }
   ],
   "source": [
    "results = make_timesteps_repeated_time_series_k_fold(\n",
    "    df, train_period, test_period, repeats, timesteps_list, True\n",
    ")"
   ]
  },
  {
   "cell_type": "markdown",
   "metadata": {},
   "source": [
    "<h3>1.2.2 Time Series Repeated KFold Cross Validation with vary timesteps - df_r3d_only</h3>\n",
    "\n",
    "<b>Dataset: df_r3d_only:</b> In this dataset the R3D and R7D variables are not considered.\n",
    "\n",
    "<b>Feature Selection:</b> The IP, FP and BL variables are discarded."
   ]
  },
  {
   "cell_type": "code",
   "execution_count": 38,
   "metadata": {},
   "outputs": [],
   "source": [
    "df = df_r3d_only.copy()\n",
    "columns = list(df.columns.drop(['R28D']))\n",
    "columns.append('R28D')\n",
    "df = df.reindex(columns=columns)\n",
    "df = df.drop(['Data/Hora', \"IP\", \"FP\", \"BL\"], axis=1)"
   ]
  },
  {
   "cell_type": "markdown",
   "metadata": {},
   "source": [
    "<h4>Experiment 1</h4>\n",
    "    \n",
    "<b>Train 6 months and predicts one month every year</b>"
   ]
  },
  {
   "cell_type": "code",
   "execution_count": 39,
   "metadata": {},
   "outputs": [],
   "source": [
    "train_period = 90 # 6 months of data since the data is spaced every 2 days\n",
    "test_period = 15 # 1 month"
   ]
  },
  {
   "cell_type": "code",
   "execution_count": 40,
   "metadata": {},
   "outputs": [
    {
     "name": "stdout",
     "output_type": "stream",
     "text": [
      "TIMESTEPS: 1 RMSE: 2.581 (0.263)\n",
      "TIMESTEPS: 3 RMSE: 2.392 (0.518)\n",
      "TIMESTEPS: 5 RMSE: 2.528 (0.484)\n",
      "TIMESTEPS: 7 RMSE: 2.347 (0.368)\n",
      "TIMESTEPS: 10 RMSE: 2.590 (0.454)\n",
      "TIMESTEPS: 15 RMSE: 2.800 (0.583)\n",
      "TIMESTEPS: 20 RMSE: 3.405 (1.119)\n"
     ]
    }
   ],
   "source": [
    "results = make_timesteps_repeated_time_series_k_fold(\n",
    "    df, train_period, test_period, repeats, timesteps_list, True\n",
    ")"
   ]
  },
  {
   "cell_type": "markdown",
   "metadata": {},
   "source": [
    "<h4>Experiment 2</h4>\n",
    "    \n",
    "<b>Train 11 months and predicts one month every year</b>"
   ]
  },
  {
   "cell_type": "code",
   "execution_count": 41,
   "metadata": {},
   "outputs": [],
   "source": [
    "train_period = 165 # 11 months of data since the data is spaced every 2 days (180 + 150)/2\n",
    "test_period = 15 # 1 month"
   ]
  },
  {
   "cell_type": "code",
   "execution_count": 42,
   "metadata": {},
   "outputs": [
    {
     "name": "stdout",
     "output_type": "stream",
     "text": [
      "TIMESTEPS: 1 RMSE: 2.661 (0.409)\n",
      "TIMESTEPS: 3 RMSE: 3.132 (0.434)\n",
      "TIMESTEPS: 5 RMSE: 3.454 (0.211)\n",
      "TIMESTEPS: 7 RMSE: 3.327 (0.367)\n",
      "TIMESTEPS: 10 RMSE: 2.437 (0.292)\n",
      "TIMESTEPS: 15 RMSE: 3.162 (0.369)\n",
      "TIMESTEPS: 20 RMSE: 2.702 (0.354)\n"
     ]
    }
   ],
   "source": [
    "results = make_timesteps_repeated_time_series_k_fold(\n",
    "    df, train_period, test_period, repeats, timesteps_list, True\n",
    ")"
   ]
  },
  {
   "cell_type": "markdown",
   "metadata": {},
   "source": [
    "<h4>Experiment 3</h4>\n",
    "    \n",
    "<b>Train 2 years and 10 months and predicts october and november of 2021</b>"
   ]
  },
  {
   "cell_type": "code",
   "execution_count": 43,
   "metadata": {},
   "outputs": [],
   "source": [
    "train_period = 200 # 11 months of data since the data is spaced every 2 days (180 + 150)/2\n",
    "test_period = 30 # 2 months"
   ]
  },
  {
   "cell_type": "code",
   "execution_count": 44,
   "metadata": {},
   "outputs": [
    {
     "name": "stdout",
     "output_type": "stream",
     "text": [
      "TIMESTEPS: 1 RMSE: 2.200 (0.413)\n",
      "TIMESTEPS: 3 RMSE: 2.883 (0.467)\n",
      "TIMESTEPS: 5 RMSE: 2.732 (0.509)\n",
      "TIMESTEPS: 7 RMSE: 2.754 (0.318)\n",
      "TIMESTEPS: 10 RMSE: 2.643 (0.555)\n",
      "TIMESTEPS: 15 RMSE: 3.052 (1.436)\n",
      "TIMESTEPS: 20 RMSE: 2.472 (0.930)\n"
     ]
    }
   ],
   "source": [
    "results = make_timesteps_repeated_time_series_k_fold(\n",
    "    df, train_period, test_period, repeats, timesteps_list, True\n",
    ")"
   ]
  },
  {
   "cell_type": "markdown",
   "metadata": {},
   "source": [
    "<h3>1.2.3 Time Series Repeated KFold Cross Validation with vary timesteps - df_r3d_only</h3>\n",
    "\n",
    "<b>Dataset: df_r3d_only:</b> In this dataset the R3D and R7D variables are not considered.\n",
    "\n",
    "<b>Feature Selection:</b>\n",
    "\n",
    "1. The IP, FP and BL variables are discarded.\n",
    "\n",
    "2. High correlated variables are removed"
   ]
  },
  {
   "cell_type": "markdown",
   "metadata": {},
   "source": [
    "<h4>Experiment 1</h4>\n",
    "    \n",
    "<b>Train 6 months and predicts one month every year</b>"
   ]
  },
  {
   "cell_type": "code",
   "execution_count": 45,
   "metadata": {},
   "outputs": [],
   "source": [
    "train_period = 90 # 6 months of data since the data is spaced every 2 days\n",
    "test_period = 15 # 1 month"
   ]
  },
  {
   "cell_type": "code",
   "execution_count": 46,
   "metadata": {},
   "outputs": [
    {
     "name": "stdout",
     "output_type": "stream",
     "text": [
      "TIMESTEPS: 1 RMSE: 2.563 (0.332)\n",
      "TIMESTEPS: 3 RMSE: 2.455 (0.580)\n",
      "TIMESTEPS: 5 RMSE: 2.670 (0.915)\n",
      "TIMESTEPS: 7 RMSE: 2.338 (0.456)\n",
      "TIMESTEPS: 10 RMSE: 2.791 (0.347)\n",
      "TIMESTEPS: 15 RMSE: 2.677 (0.479)\n",
      "TIMESTEPS: 20 RMSE: 2.953 (0.639)\n"
     ]
    }
   ],
   "source": [
    "results = make_timesteps_repeated_time_series_k_fold(\n",
    "    df, train_period, test_period, repeats, timesteps_list, True\n",
    ")"
   ]
  },
  {
   "cell_type": "markdown",
   "metadata": {},
   "source": [
    "<h4>Experiment 2</h4>\n",
    "    \n",
    "<b>Train 11 months and predicts one month every year</b>"
   ]
  },
  {
   "cell_type": "code",
   "execution_count": 47,
   "metadata": {},
   "outputs": [],
   "source": [
    "train_period = 165 # 11 months of data since the data is spaced every 2 days (180 + 150)/2\n",
    "test_period = 15 # 1 month"
   ]
  },
  {
   "cell_type": "code",
   "execution_count": 48,
   "metadata": {},
   "outputs": [
    {
     "name": "stdout",
     "output_type": "stream",
     "text": [
      "TIMESTEPS: 1 RMSE: 2.807 (0.375)\n",
      "TIMESTEPS: 3 RMSE: 3.393 (0.399)\n",
      "TIMESTEPS: 5 RMSE: 3.414 (0.224)\n",
      "TIMESTEPS: 7 RMSE: 3.395 (0.460)\n",
      "TIMESTEPS: 10 RMSE: 2.540 (0.240)\n",
      "TIMESTEPS: 15 RMSE: 3.203 (0.322)\n",
      "TIMESTEPS: 20 RMSE: 2.924 (0.407)\n"
     ]
    }
   ],
   "source": [
    "results = make_timesteps_repeated_time_series_k_fold(\n",
    "    df, train_period, test_period, repeats, timesteps_list, True\n",
    ")"
   ]
  },
  {
   "cell_type": "markdown",
   "metadata": {},
   "source": [
    "<h4>Experiment 3</h4>\n",
    "    \n",
    "<b>Train 2 years and 10 months and predicts october and november of 2021</b>"
   ]
  },
  {
   "cell_type": "code",
   "execution_count": 49,
   "metadata": {},
   "outputs": [],
   "source": [
    "train_period = 200 # 11 months of data since the data is spaced every 2 days (180 + 150)/2\n",
    "test_period = 30 # 2 months"
   ]
  },
  {
   "cell_type": "code",
   "execution_count": 50,
   "metadata": {},
   "outputs": [
    {
     "name": "stdout",
     "output_type": "stream",
     "text": [
      "TIMESTEPS: 1 RMSE: 2.135 (0.444)\n",
      "TIMESTEPS: 3 RMSE: 2.580 (0.380)\n",
      "TIMESTEPS: 5 RMSE: 2.573 (0.685)\n",
      "TIMESTEPS: 7 RMSE: 2.533 (0.541)\n",
      "TIMESTEPS: 10 RMSE: 2.599 (0.381)\n",
      "TIMESTEPS: 15 RMSE: 2.824 (0.592)\n",
      "TIMESTEPS: 20 RMSE: 2.738 (1.051)\n"
     ]
    }
   ],
   "source": [
    "results = make_timesteps_repeated_time_series_k_fold(\n",
    "    df, train_period, test_period, repeats, timesteps_list, True\n",
    ")"
   ]
  },
  {
   "cell_type": "markdown",
   "metadata": {},
   "source": [
    "## 1.3 Dataset: df_r3d_and_r7d"
   ]
  },
  {
   "cell_type": "markdown",
   "metadata": {},
   "source": [
    "<h3>1.3.1 Time Series Repeated KFold Cross Validation - df_r3d_and_r7d</h3>\n",
    "\n",
    "<b>Dataset: df_r3d_and_r7d:</b> In this dataset both R3D and R7D variables are considered.\n",
    "\n",
    "<b>Feature Selection:</b> The IP and FP variables are discarded."
   ]
  },
  {
   "cell_type": "code",
   "execution_count": 51,
   "metadata": {},
   "outputs": [],
   "source": [
    "df = df_r3d_and_r7d.copy()\n",
    "columns = list(df.columns.drop(['R28D']))\n",
    "columns.append('R28D')\n",
    "df = df.reindex(columns=columns)\n",
    "df = df.drop(['Data/Hora', \"IP\", \"FP\"], axis=1)"
   ]
  },
  {
   "cell_type": "markdown",
   "metadata": {},
   "source": [
    "<h4>Experiment 1</h4>\n",
    "    \n",
    "<b>Train 6 months and predicts one month every year</b>"
   ]
  },
  {
   "cell_type": "code",
   "execution_count": 52,
   "metadata": {},
   "outputs": [],
   "source": [
    "train_period = 90 # 6 months of data since the data is spaced every 2 days\n",
    "test_period = 15 # 1 month"
   ]
  },
  {
   "cell_type": "code",
   "execution_count": 53,
   "metadata": {},
   "outputs": [
    {
     "name": "stdout",
     "output_type": "stream",
     "text": [
      "TIMESTEPS: 1 RMSE: 2.658 (0.287)\n",
      "TIMESTEPS: 3 RMSE: 2.372 (0.517)\n",
      "TIMESTEPS: 5 RMSE: 2.459 (0.425)\n",
      "TIMESTEPS: 7 RMSE: 2.454 (0.403)\n",
      "TIMESTEPS: 10 RMSE: 2.646 (0.427)\n",
      "TIMESTEPS: 15 RMSE: 2.980 (0.542)\n",
      "TIMESTEPS: 20 RMSE: 3.283 (0.828)\n"
     ]
    }
   ],
   "source": [
    "results = make_timesteps_repeated_time_series_k_fold(\n",
    "    df, train_period, test_period, repeats, timesteps_list, True\n",
    ")"
   ]
  },
  {
   "cell_type": "markdown",
   "metadata": {},
   "source": [
    "<h4>Experiment 2</h4>\n",
    "    \n",
    "<b>Train 11 months and predicts one month every year</b>"
   ]
  },
  {
   "cell_type": "code",
   "execution_count": 54,
   "metadata": {},
   "outputs": [],
   "source": [
    "train_period = 165 # 11 months of data since the data is spaced every 2 days (180 + 150)/2\n",
    "test_period = 15 # 1 month"
   ]
  },
  {
   "cell_type": "code",
   "execution_count": 55,
   "metadata": {},
   "outputs": [
    {
     "name": "stdout",
     "output_type": "stream",
     "text": [
      "TIMESTEPS: 1 RMSE: 2.495 (0.426)\n",
      "TIMESTEPS: 3 RMSE: 3.256 (0.318)\n",
      "TIMESTEPS: 5 RMSE: 3.523 (0.332)\n",
      "TIMESTEPS: 7 RMSE: 3.320 (0.549)\n",
      "TIMESTEPS: 10 RMSE: 2.534 (0.405)\n",
      "TIMESTEPS: 15 RMSE: 3.374 (0.491)\n",
      "TIMESTEPS: 20 RMSE: 2.964 (0.465)\n"
     ]
    }
   ],
   "source": [
    "results = make_timesteps_repeated_time_series_k_fold(\n",
    "    df, train_period, test_period, repeats, timesteps_list, True\n",
    ")"
   ]
  },
  {
   "cell_type": "markdown",
   "metadata": {},
   "source": [
    "<h4>Experiment 3</h4>\n",
    "    \n",
    "<b>Train 2 years and 10 months and predicts october and november of 2021</b>"
   ]
  },
  {
   "cell_type": "code",
   "execution_count": 56,
   "metadata": {},
   "outputs": [],
   "source": [
    "train_period = 200 # 11 months of data since the data is spaced every 2 days (180 + 150)/2\n",
    "test_period = 30 # 2 months"
   ]
  },
  {
   "cell_type": "code",
   "execution_count": 57,
   "metadata": {},
   "outputs": [
    {
     "name": "stdout",
     "output_type": "stream",
     "text": [
      "TIMESTEPS: 1 RMSE: 2.234 (0.537)\n",
      "TIMESTEPS: 3 RMSE: 2.717 (0.510)\n",
      "TIMESTEPS: 5 RMSE: 2.528 (0.531)\n",
      "TIMESTEPS: 7 RMSE: 2.432 (0.445)\n",
      "TIMESTEPS: 10 RMSE: 2.326 (0.499)\n",
      "TIMESTEPS: 15 RMSE: 2.525 (0.472)\n",
      "TIMESTEPS: 20 RMSE: 2.033 (0.287)\n"
     ]
    }
   ],
   "source": [
    "results = make_timesteps_repeated_time_series_k_fold(\n",
    "    df, train_period, test_period, repeats, timesteps_list, True\n",
    ")"
   ]
  },
  {
   "cell_type": "markdown",
   "metadata": {},
   "source": [
    "<h3>1.3.2 Time Series Repeated KFold Cross Validation - df_r3d_and_r7d</h3>\n",
    "\n",
    "<b>Dataset: df_r3d_and_r7d:</b> In this dataset both R3D and R7D variables are considered.\n",
    "\n",
    "<b>Feature Selection:</b> The IP, FP, and BL variables are discarded."
   ]
  },
  {
   "cell_type": "code",
   "execution_count": 58,
   "metadata": {},
   "outputs": [],
   "source": [
    "df = df_r3d_and_r7d.copy()\n",
    "columns = list(df.columns.drop(['R28D']))\n",
    "columns.append('R28D')\n",
    "df = df.reindex(columns=columns)\n",
    "df = df.drop(['Data/Hora', \"IP\", \"FP\", \"BL\"], axis=1)"
   ]
  },
  {
   "cell_type": "markdown",
   "metadata": {},
   "source": [
    "<h4>Experiment 1</h4>\n",
    "    \n",
    "<b>Train 6 months and predicts one month every year</b>"
   ]
  },
  {
   "cell_type": "code",
   "execution_count": 59,
   "metadata": {},
   "outputs": [],
   "source": [
    "train_period = 90 # 6 months of data since the data is spaced every 2 days\n",
    "test_period = 15 # 1 month"
   ]
  },
  {
   "cell_type": "code",
   "execution_count": 60,
   "metadata": {},
   "outputs": [
    {
     "name": "stdout",
     "output_type": "stream",
     "text": [
      "TIMESTEPS: 1 RMSE: 2.652 (0.299)\n",
      "TIMESTEPS: 3 RMSE: 2.398 (0.552)\n",
      "TIMESTEPS: 5 RMSE: 2.470 (0.413)\n",
      "TIMESTEPS: 7 RMSE: 2.315 (0.382)\n",
      "TIMESTEPS: 10 RMSE: 2.636 (0.386)\n",
      "TIMESTEPS: 15 RMSE: 2.673 (0.428)\n",
      "TIMESTEPS: 20 RMSE: 3.123 (0.602)\n"
     ]
    }
   ],
   "source": [
    "results = make_timesteps_repeated_time_series_k_fold(\n",
    "    df, train_period, test_period, repeats, timesteps_list, True\n",
    ")"
   ]
  },
  {
   "cell_type": "markdown",
   "metadata": {},
   "source": [
    "<h4>Experiment 2</h4>\n",
    "    \n",
    "<b>Train 11 months and predicts one month every year</b>"
   ]
  },
  {
   "cell_type": "code",
   "execution_count": 61,
   "metadata": {},
   "outputs": [],
   "source": [
    "train_period = 165 # 11 months of data since the data is spaced every 2 days (180 + 150)/2\n",
    "test_period = 15 # 1 month"
   ]
  },
  {
   "cell_type": "code",
   "execution_count": 62,
   "metadata": {},
   "outputs": [
    {
     "name": "stdout",
     "output_type": "stream",
     "text": [
      "TIMESTEPS: 1 RMSE: 2.400 (0.316)\n",
      "TIMESTEPS: 3 RMSE: 3.298 (0.314)\n",
      "TIMESTEPS: 5 RMSE: 3.416 (0.330)\n",
      "TIMESTEPS: 7 RMSE: 3.466 (0.411)\n",
      "TIMESTEPS: 10 RMSE: 2.626 (0.276)\n",
      "TIMESTEPS: 15 RMSE: 3.305 (0.526)\n",
      "TIMESTEPS: 20 RMSE: 2.667 (0.500)\n"
     ]
    }
   ],
   "source": [
    "results = make_timesteps_repeated_time_series_k_fold(\n",
    "    df, train_period, test_period, repeats, timesteps_list, True\n",
    ")"
   ]
  },
  {
   "cell_type": "markdown",
   "metadata": {},
   "source": [
    "<h4>Experiment 3</h4>\n",
    "    \n",
    "<b>Train 2 years and 10 months and predicts october and november of 2021</b>"
   ]
  },
  {
   "cell_type": "code",
   "execution_count": 63,
   "metadata": {},
   "outputs": [],
   "source": [
    "train_period = 200 # 11 months of data since the data is spaced every 2 days (180 + 150)/2\n",
    "test_period = 30 # 2 months"
   ]
  },
  {
   "cell_type": "code",
   "execution_count": 64,
   "metadata": {},
   "outputs": [
    {
     "name": "stdout",
     "output_type": "stream",
     "text": [
      "TIMESTEPS: 1 RMSE: 2.204 (0.599)\n",
      "TIMESTEPS: 3 RMSE: 2.712 (0.499)\n",
      "TIMESTEPS: 5 RMSE: 2.313 (0.653)\n",
      "TIMESTEPS: 7 RMSE: 2.683 (0.626)\n",
      "TIMESTEPS: 10 RMSE: 2.551 (0.555)\n",
      "TIMESTEPS: 15 RMSE: 2.405 (0.541)\n",
      "TIMESTEPS: 20 RMSE: 2.700 (0.794)\n"
     ]
    }
   ],
   "source": [
    "results = make_timesteps_repeated_time_series_k_fold(\n",
    "    df, train_period, test_period, repeats, timesteps_list, True\n",
    ")"
   ]
  },
  {
   "cell_type": "markdown",
   "metadata": {},
   "source": [
    "<h3>1.3.3 Time Series Repeated KFold Cross Validation - df_r3d_and_r7d</h3>\n",
    "\n",
    "<b>Dataset: df_r3d_and_r7d:</b> In this dataset both R3D and R7D variables are considered.\n",
    "\n",
    "<b>Feature Selection:</b>\n",
    "    1. The IP, FP and BL variables are discarded.\n",
    "    2. High correlated variables are removed"
   ]
  },
  {
   "cell_type": "code",
   "execution_count": 65,
   "metadata": {},
   "outputs": [],
   "source": [
    "to_drop = [\n",
    "    \"Data/Hora\",\n",
    "    \"IP\",\n",
    "    \"FP\",\n",
    "    \"BL\",\n",
    "    \"CALCITA\",\n",
    "    \"DESIDRATAÇÃO\",\n",
    "    \"GIPSITA\",\n",
    "    \"TIO2\",\n",
    "    \"AL2O3\",\n",
    "    \"PF\",\n",
    "    \"FERRITA\",\n",
    "]\n",
    "\n",
    "df = df_r3d_and_r7d.copy()\n",
    "columns = list(df.columns.drop(['R28D']))\n",
    "columns.append('R28D')\n",
    "df = df.reindex(columns=columns)\n",
    "df = df.drop(to_drop, axis=1)"
   ]
  },
  {
   "cell_type": "markdown",
   "metadata": {},
   "source": [
    "<h4>Experiment 1</h4>\n",
    "    \n",
    "<b>Train 6 months and predicts one month every year</b>"
   ]
  },
  {
   "cell_type": "code",
   "execution_count": 66,
   "metadata": {},
   "outputs": [],
   "source": [
    "train_period = 90 # 6 months of data since the data is spaced every 2 days\n",
    "test_period = 15 # 1 month"
   ]
  },
  {
   "cell_type": "code",
   "execution_count": 67,
   "metadata": {},
   "outputs": [
    {
     "name": "stdout",
     "output_type": "stream",
     "text": [
      "TIMESTEPS: 1 RMSE: 2.444 (0.266)\n",
      "TIMESTEPS: 3 RMSE: 2.234 (0.431)\n",
      "TIMESTEPS: 5 RMSE: 2.422 (0.365)\n",
      "TIMESTEPS: 7 RMSE: 2.215 (0.382)\n",
      "TIMESTEPS: 10 RMSE: 2.431 (0.400)\n",
      "TIMESTEPS: 15 RMSE: 2.729 (0.411)\n",
      "TIMESTEPS: 20 RMSE: 2.867 (0.871)\n"
     ]
    }
   ],
   "source": [
    "results = make_timesteps_repeated_time_series_k_fold(\n",
    "    df, train_period, test_period, repeats, timesteps_list, True\n",
    ")"
   ]
  },
  {
   "cell_type": "markdown",
   "metadata": {},
   "source": [
    "<h4>Experiment 2</h4>\n",
    "    \n",
    "<b>Train 11 months and predicts one month every year</b>"
   ]
  },
  {
   "cell_type": "code",
   "execution_count": 68,
   "metadata": {},
   "outputs": [],
   "source": [
    "train_period = 165 # 11 months of data since the data is spaced every 2 days (180 + 150)/2\n",
    "test_period = 15 # 1 month"
   ]
  },
  {
   "cell_type": "code",
   "execution_count": 69,
   "metadata": {},
   "outputs": [
    {
     "name": "stdout",
     "output_type": "stream",
     "text": [
      "TIMESTEPS: 1 RMSE: 2.382 (0.293)\n",
      "TIMESTEPS: 3 RMSE: 2.929 (0.394)\n",
      "TIMESTEPS: 5 RMSE: 3.161 (0.364)\n",
      "TIMESTEPS: 7 RMSE: 3.174 (0.478)\n",
      "TIMESTEPS: 10 RMSE: 2.311 (0.351)\n",
      "TIMESTEPS: 15 RMSE: 2.850 (0.658)\n",
      "TIMESTEPS: 20 RMSE: 2.524 (0.490)\n"
     ]
    }
   ],
   "source": [
    "results = make_timesteps_repeated_time_series_k_fold(\n",
    "    df, train_period, test_period, repeats, timesteps_list, True\n",
    ")"
   ]
  },
  {
   "cell_type": "markdown",
   "metadata": {},
   "source": [
    "<h4>Experiment 3</h4>\n",
    "    \n",
    "<b>Train 2 years and 10 months and predicts october and november of 2021</b>"
   ]
  },
  {
   "cell_type": "code",
   "execution_count": 70,
   "metadata": {},
   "outputs": [],
   "source": [
    "train_period = 200 # 11 months of data since the data is spaced every 2 days (180 + 150)/2\n",
    "test_period = 30 # 2 months"
   ]
  },
  {
   "cell_type": "code",
   "execution_count": 71,
   "metadata": {},
   "outputs": [
    {
     "name": "stdout",
     "output_type": "stream",
     "text": [
      "TIMESTEPS: 1 RMSE: 2.027 (0.504)\n",
      "TIMESTEPS: 3 RMSE: 2.655 (0.394)\n",
      "TIMESTEPS: 5 RMSE: 2.385 (0.650)\n",
      "TIMESTEPS: 7 RMSE: 2.661 (0.456)\n",
      "TIMESTEPS: 10 RMSE: 2.605 (0.848)\n",
      "TIMESTEPS: 15 RMSE: 2.550 (0.881)\n",
      "TIMESTEPS: 20 RMSE: 3.122 (1.513)\n"
     ]
    }
   ],
   "source": [
    "results = make_timesteps_repeated_time_series_k_fold(\n",
    "    df, train_period, test_period, repeats, timesteps_list, True\n",
    ")"
   ]
  },
  {
   "cell_type": "code",
   "execution_count": null,
   "metadata": {},
   "outputs": [],
   "source": []
  }
 ],
 "metadata": {
  "kernelspec": {
   "display_name": "ccs28-venv",
   "language": "python",
   "name": "ccs28-venv"
  },
  "language_info": {
   "codemirror_mode": {
    "name": "ipython",
    "version": 3
   },
   "file_extension": ".py",
   "mimetype": "text/x-python",
   "name": "python",
   "nbconvert_exporter": "python",
   "pygments_lexer": "ipython3",
   "version": "3.8.10"
  }
 },
 "nbformat": 4,
 "nbformat_minor": 4
}
