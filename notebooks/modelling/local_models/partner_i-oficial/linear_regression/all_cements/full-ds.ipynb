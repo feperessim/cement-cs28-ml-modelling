{
 "cells": [
  {
   "cell_type": "code",
   "execution_count": 1,
   "id": "928cd83b",
   "metadata": {
    "execution": {
     "iopub.execute_input": "2024-07-13T21:12:26.938693Z",
     "iopub.status.busy": "2024-07-13T21:12:26.938273Z",
     "iopub.status.idle": "2024-07-13T21:12:27.056937Z",
     "shell.execute_reply": "2024-07-13T21:12:27.056108Z"
    },
    "papermill": {
     "duration": 0.148545,
     "end_time": "2024-07-13T21:12:27.060320",
     "exception": false,
     "start_time": "2024-07-13T21:12:26.911775",
     "status": "completed"
    },
    "tags": []
   },
   "outputs": [
    {
     "data": {
      "application/javascript": [
       "\n",
       "            setTimeout(function() {\n",
       "                var nbb_cell_id = 1;\n",
       "                var nbb_unformatted_code = \"%load_ext nb_black\";\n",
       "                var nbb_formatted_code = \"%load_ext nb_black\";\n",
       "                var nbb_cells = Jupyter.notebook.get_cells();\n",
       "                for (var i = 0; i < nbb_cells.length; ++i) {\n",
       "                    if (nbb_cells[i].input_prompt_number == nbb_cell_id) {\n",
       "                        if (nbb_cells[i].get_text() == nbb_unformatted_code) {\n",
       "                             nbb_cells[i].set_text(nbb_formatted_code);\n",
       "                        }\n",
       "                        break;\n",
       "                    }\n",
       "                }\n",
       "            }, 500);\n",
       "            "
      ],
      "text/plain": [
       "<IPython.core.display.Javascript object>"
      ]
     },
     "metadata": {},
     "output_type": "display_data"
    }
   ],
   "source": [
    "%load_ext nb_black"
   ]
  },
  {
   "cell_type": "code",
   "execution_count": 2,
   "id": "8b9abfe4",
   "metadata": {
    "execution": {
     "iopub.execute_input": "2024-07-13T21:12:27.115361Z",
     "iopub.status.busy": "2024-07-13T21:12:27.114827Z",
     "iopub.status.idle": "2024-07-13T21:12:28.256262Z",
     "shell.execute_reply": "2024-07-13T21:12:28.255412Z"
    },
    "papermill": {
     "duration": 1.17173,
     "end_time": "2024-07-13T21:12:28.260221",
     "exception": false,
     "start_time": "2024-07-13T21:12:27.088491",
     "status": "completed"
    },
    "tags": []
   },
   "outputs": [
    {
     "data": {
      "application/javascript": [
       "\n",
       "            setTimeout(function() {\n",
       "                var nbb_cell_id = 2;\n",
       "                var nbb_unformatted_code = \"# Database Reading and Manipulation\\nimport pandas as pd\\n\\n# Linear Algebra\\nimport numpy as np\\n\\n# Plotting\\nimport matplotlib.pyplot as plt\\n\\n# Processing results\\nimport json\\n\\n# Model Selection\\nfrom sklearn.model_selection import train_test_split\\nfrom sklearn.model_selection import TimeSeriesSplit\\nfrom sklearn.model_selection import RepeatedKFold\\nfrom sklearn.model_selection import cross_val_score\\nfrom sklearn.model_selection import cross_validate\\nfrom sklearn.model_selection import GridSearchCV\\n\\n# Custom modules\\n## Model selection\\nfrom src.cross_validation.blocking_time_series_split import BlockingTimeSeriesSplit\\n\\n## Function to print scores\\nfrom src.utils.print_scores import print_scores\\n\\n## Function to calculate score regression metrics\\nfrom src.utils.score_regression_metrics import score_regression_metrics\\n\\n## Function to fill the results metric dict\\nfrom src.utils.fill_results_dict import fill_results_dict\\n\\n# Modeling\\nfrom sklearn.linear_model import LinearRegression\\n\\n# Preprocessing - Data standardization\\nfrom sklearn.preprocessing import StandardScaler\\n\\n# Metrics\\nfrom sklearn.metrics import mean_squared_error\\nfrom sklearn.metrics import mean_absolute_error\\nfrom sklearn.metrics import mean_absolute_percentage_error\\nfrom sklearn.metrics import r2_score\\n\\n# Pipeline\\nfrom sklearn.pipeline import Pipeline\\n\\n# Data imputation\\nfrom sklearn.impute import SimpleImputer\";\n",
       "                var nbb_formatted_code = \"# Database Reading and Manipulation\\nimport pandas as pd\\n\\n# Linear Algebra\\nimport numpy as np\\n\\n# Plotting\\nimport matplotlib.pyplot as plt\\n\\n# Processing results\\nimport json\\n\\n# Model Selection\\nfrom sklearn.model_selection import train_test_split\\nfrom sklearn.model_selection import TimeSeriesSplit\\nfrom sklearn.model_selection import RepeatedKFold\\nfrom sklearn.model_selection import cross_val_score\\nfrom sklearn.model_selection import cross_validate\\nfrom sklearn.model_selection import GridSearchCV\\n\\n# Custom modules\\n## Model selection\\nfrom src.cross_validation.blocking_time_series_split import BlockingTimeSeriesSplit\\n\\n## Function to print scores\\nfrom src.utils.print_scores import print_scores\\n\\n## Function to calculate score regression metrics\\nfrom src.utils.score_regression_metrics import score_regression_metrics\\n\\n## Function to fill the results metric dict\\nfrom src.utils.fill_results_dict import fill_results_dict\\n\\n# Modeling\\nfrom sklearn.linear_model import LinearRegression\\n\\n# Preprocessing - Data standardization\\nfrom sklearn.preprocessing import StandardScaler\\n\\n# Metrics\\nfrom sklearn.metrics import mean_squared_error\\nfrom sklearn.metrics import mean_absolute_error\\nfrom sklearn.metrics import mean_absolute_percentage_error\\nfrom sklearn.metrics import r2_score\\n\\n# Pipeline\\nfrom sklearn.pipeline import Pipeline\\n\\n# Data imputation\\nfrom sklearn.impute import SimpleImputer\";\n",
       "                var nbb_cells = Jupyter.notebook.get_cells();\n",
       "                for (var i = 0; i < nbb_cells.length; ++i) {\n",
       "                    if (nbb_cells[i].input_prompt_number == nbb_cell_id) {\n",
       "                        if (nbb_cells[i].get_text() == nbb_unformatted_code) {\n",
       "                             nbb_cells[i].set_text(nbb_formatted_code);\n",
       "                        }\n",
       "                        break;\n",
       "                    }\n",
       "                }\n",
       "            }, 500);\n",
       "            "
      ],
      "text/plain": [
       "<IPython.core.display.Javascript object>"
      ]
     },
     "metadata": {},
     "output_type": "display_data"
    }
   ],
   "source": [
    "# Database Reading and Manipulation\n",
    "import pandas as pd\n",
    "\n",
    "# Linear Algebra\n",
    "import numpy as np\n",
    "\n",
    "# Plotting\n",
    "import matplotlib.pyplot as plt\n",
    "\n",
    "# Processing results\n",
    "import json\n",
    "\n",
    "# Model Selection\n",
    "from sklearn.model_selection import train_test_split\n",
    "from sklearn.model_selection import TimeSeriesSplit\n",
    "from sklearn.model_selection import RepeatedKFold\n",
    "from sklearn.model_selection import cross_val_score\n",
    "from sklearn.model_selection import cross_validate\n",
    "from sklearn.model_selection import GridSearchCV\n",
    "\n",
    "# Custom modules\n",
    "## Model selection\n",
    "from src.cross_validation.blocking_time_series_split import BlockingTimeSeriesSplit\n",
    "\n",
    "## Function to print scores\n",
    "from src.utils.print_scores import print_scores\n",
    "\n",
    "## Function to calculate score regression metrics\n",
    "from src.utils.score_regression_metrics import score_regression_metrics\n",
    "\n",
    "## Function to fill the results metric dict\n",
    "from src.utils.fill_results_dict import fill_results_dict\n",
    "\n",
    "# Modeling\n",
    "from sklearn.linear_model import LinearRegression\n",
    "\n",
    "# Preprocessing - Data standardization\n",
    "from sklearn.preprocessing import StandardScaler\n",
    "\n",
    "# Metrics\n",
    "from sklearn.metrics import mean_squared_error\n",
    "from sklearn.metrics import mean_absolute_error\n",
    "from sklearn.metrics import mean_absolute_percentage_error\n",
    "from sklearn.metrics import r2_score\n",
    "\n",
    "# Pipeline\n",
    "from sklearn.pipeline import Pipeline\n",
    "\n",
    "# Data imputation\n",
    "from sklearn.impute import SimpleImputer"
   ]
  },
  {
   "cell_type": "markdown",
   "id": "3092a88e",
   "metadata": {
    "papermill": {
     "duration": 0.025902,
     "end_time": "2024-07-13T21:12:28.317637",
     "exception": false,
     "start_time": "2024-07-13T21:12:28.291735",
     "status": "completed"
    },
    "tags": []
   },
   "source": [
    "# Functions and definitions"
   ]
  },
  {
   "cell_type": "code",
   "execution_count": 3,
   "id": "f62df817",
   "metadata": {
    "execution": {
     "iopub.execute_input": "2024-07-13T21:12:28.351849Z",
     "iopub.status.busy": "2024-07-13T21:12:28.351323Z",
     "iopub.status.idle": "2024-07-13T21:12:28.360922Z",
     "shell.execute_reply": "2024-07-13T21:12:28.360098Z"
    },
    "papermill": {
     "duration": 0.02717,
     "end_time": "2024-07-13T21:12:28.362689",
     "exception": false,
     "start_time": "2024-07-13T21:12:28.335519",
     "status": "completed"
    },
    "tags": []
   },
   "outputs": [
    {
     "data": {
      "application/javascript": [
       "\n",
       "            setTimeout(function() {\n",
       "                var nbb_cell_id = 3;\n",
       "                var nbb_unformatted_code = \"def score_model(model, x, y, n_splits=10, n_repeats=10):\\n    scoring = \\\"neg_root_mean_squared_error\\\"\\n    cv = RepeatedKFold(n_splits=n_splits, n_repeats=n_repeats, random_state=SEED)\\n    scores = cross_val_score(model, x, y, scoring=scoring, cv=cv, n_jobs=-1)\\n    return scores\";\n",
       "                var nbb_formatted_code = \"def score_model(model, x, y, n_splits=10, n_repeats=10):\\n    scoring = \\\"neg_root_mean_squared_error\\\"\\n    cv = RepeatedKFold(n_splits=n_splits, n_repeats=n_repeats, random_state=SEED)\\n    scores = cross_val_score(model, x, y, scoring=scoring, cv=cv, n_jobs=-1)\\n    return scores\";\n",
       "                var nbb_cells = Jupyter.notebook.get_cells();\n",
       "                for (var i = 0; i < nbb_cells.length; ++i) {\n",
       "                    if (nbb_cells[i].input_prompt_number == nbb_cell_id) {\n",
       "                        if (nbb_cells[i].get_text() == nbb_unformatted_code) {\n",
       "                             nbb_cells[i].set_text(nbb_formatted_code);\n",
       "                        }\n",
       "                        break;\n",
       "                    }\n",
       "                }\n",
       "            }, 500);\n",
       "            "
      ],
      "text/plain": [
       "<IPython.core.display.Javascript object>"
      ]
     },
     "metadata": {},
     "output_type": "display_data"
    }
   ],
   "source": [
    "def score_model(model, x, y, n_splits=10, n_repeats=10):\n",
    "    scoring = \"neg_root_mean_squared_error\"\n",
    "    cv = RepeatedKFold(n_splits=n_splits, n_repeats=n_repeats, random_state=SEED)\n",
    "    scores = cross_val_score(model, x, y, scoring=scoring, cv=cv, n_jobs=-1)\n",
    "    return scores"
   ]
  },
  {
   "cell_type": "code",
   "execution_count": 4,
   "id": "30ab94f4",
   "metadata": {
    "execution": {
     "iopub.execute_input": "2024-07-13T21:12:28.397436Z",
     "iopub.status.busy": "2024-07-13T21:12:28.396918Z",
     "iopub.status.idle": "2024-07-13T21:12:28.557079Z",
     "shell.execute_reply": "2024-07-13T21:12:28.555811Z"
    },
    "papermill": {
     "duration": 0.18398,
     "end_time": "2024-07-13T21:12:28.559721",
     "exception": false,
     "start_time": "2024-07-13T21:12:28.375741",
     "status": "completed"
    },
    "tags": []
   },
   "outputs": [
    {
     "data": {
      "application/javascript": [
       "\n",
       "            setTimeout(function() {\n",
       "                var nbb_cell_id = 4;\n",
       "                var nbb_unformatted_code = \"def plot_predictions(linreg_model, df, index, x, y):\\n    d = df[\\\"Data/Hora\\\"].values\\n    test_series = pd.DataFrame({\\\"ccs28\\\": y}, index=pd.to_datetime(d))\\n    pred_series = linreg_model.predict(scaler.transform(x))\\n    pred_series = pd.DataFrame({\\\"ccs28-pred\\\": pred_series}, index=pd.to_datetime(d))\\n\\n    fig, ax = plt.subplots(1, 1, sharex=True, sharey=True, figsize=(15, 7))\\n\\n    test_series.plot(ax=ax)\\n    ax.axvline(test_series.index[index], color=\\\"r\\\")  # end of train dataset\\n    pred_series[index:].plot(ax=ax)\\n    ax.grid(which=\\\"both\\\")\\n    ax.legend(\\n        [\\\"train and test series\\\", \\\"end of train series\\\", \\\"predicted\\\"], loc=\\\"upper left\\\"\\n    )\\n    # ax.set_xlabel('Period', labelpad=20, fontsize=15)\\n    ax.set_ylabel(\\\"Compressive Strength - MPa\\\", labelpad=20, fontsize=15)\\n    plt.show()\";\n",
       "                var nbb_formatted_code = \"def plot_predictions(linreg_model, df, index, x, y):\\n    d = df[\\\"Data/Hora\\\"].values\\n    test_series = pd.DataFrame({\\\"ccs28\\\": y}, index=pd.to_datetime(d))\\n    pred_series = linreg_model.predict(scaler.transform(x))\\n    pred_series = pd.DataFrame({\\\"ccs28-pred\\\": pred_series}, index=pd.to_datetime(d))\\n\\n    fig, ax = plt.subplots(1, 1, sharex=True, sharey=True, figsize=(15, 7))\\n\\n    test_series.plot(ax=ax)\\n    ax.axvline(test_series.index[index], color=\\\"r\\\")  # end of train dataset\\n    pred_series[index:].plot(ax=ax)\\n    ax.grid(which=\\\"both\\\")\\n    ax.legend(\\n        [\\\"train and test series\\\", \\\"end of train series\\\", \\\"predicted\\\"], loc=\\\"upper left\\\"\\n    )\\n    # ax.set_xlabel('Period', labelpad=20, fontsize=15)\\n    ax.set_ylabel(\\\"Compressive Strength - MPa\\\", labelpad=20, fontsize=15)\\n    plt.show()\";\n",
       "                var nbb_cells = Jupyter.notebook.get_cells();\n",
       "                for (var i = 0; i < nbb_cells.length; ++i) {\n",
       "                    if (nbb_cells[i].input_prompt_number == nbb_cell_id) {\n",
       "                        if (nbb_cells[i].get_text() == nbb_unformatted_code) {\n",
       "                             nbb_cells[i].set_text(nbb_formatted_code);\n",
       "                        }\n",
       "                        break;\n",
       "                    }\n",
       "                }\n",
       "            }, 500);\n",
       "            "
      ],
      "text/plain": [
       "<IPython.core.display.Javascript object>"
      ]
     },
     "metadata": {},
     "output_type": "display_data"
    }
   ],
   "source": [
    "def plot_predictions(linreg_model, df, index, x, y):\n",
    "    d = df[\"Data/Hora\"].values\n",
    "    test_series = pd.DataFrame({\"ccs28\": y}, index=pd.to_datetime(d))\n",
    "    pred_series = linreg_model.predict(scaler.transform(x))\n",
    "    pred_series = pd.DataFrame({\"ccs28-pred\": pred_series}, index=pd.to_datetime(d))\n",
    "\n",
    "    fig, ax = plt.subplots(1, 1, sharex=True, sharey=True, figsize=(15, 7))\n",
    "\n",
    "    test_series.plot(ax=ax)\n",
    "    ax.axvline(test_series.index[index], color=\"r\")  # end of train dataset\n",
    "    pred_series[index:].plot(ax=ax)\n",
    "    ax.grid(which=\"both\")\n",
    "    ax.legend(\n",
    "        [\"train and test series\", \"end of train series\", \"predicted\"], loc=\"upper left\"\n",
    "    )\n",
    "    # ax.set_xlabel('Period', labelpad=20, fontsize=15)\n",
    "    ax.set_ylabel(\"Compressive Strength - MPa\", labelpad=20, fontsize=15)\n",
    "    plt.show()"
   ]
  },
  {
   "cell_type": "code",
   "execution_count": 5,
   "id": "a015fa2c",
   "metadata": {
    "execution": {
     "iopub.execute_input": "2024-07-13T21:12:28.608616Z",
     "iopub.status.busy": "2024-07-13T21:12:28.607423Z",
     "iopub.status.idle": "2024-07-13T21:12:28.798591Z",
     "shell.execute_reply": "2024-07-13T21:12:28.797335Z"
    },
    "papermill": {
     "duration": 0.218823,
     "end_time": "2024-07-13T21:12:28.801733",
     "exception": false,
     "start_time": "2024-07-13T21:12:28.582910",
     "status": "completed"
    },
    "tags": []
   },
   "outputs": [
    {
     "data": {
      "application/javascript": [
       "\n",
       "            setTimeout(function() {\n",
       "                var nbb_cell_id = 5;\n",
       "                var nbb_unformatted_code = \"def plot_scores_box_plot(scores, repeats, n_splits):\\n    plt.figure(figsize=(15, 8))\\n    plt.boxplot(\\n        scores.reshape((repeats, n_splits)),\\n        labels=[str(r) for r in range(1, repeats + 1)],\\n        showmeans=True,\\n    )\\n    plt.ylabel(\\\"RMSE\\\", labelpad=20, fontsize=15)\\n    plt.xlabel(\\\"Repeats\\\", labelpad=20, fontsize=15)\\n    plt.show()\";\n",
       "                var nbb_formatted_code = \"def plot_scores_box_plot(scores, repeats, n_splits):\\n    plt.figure(figsize=(15, 8))\\n    plt.boxplot(\\n        scores.reshape((repeats, n_splits)),\\n        labels=[str(r) for r in range(1, repeats + 1)],\\n        showmeans=True,\\n    )\\n    plt.ylabel(\\\"RMSE\\\", labelpad=20, fontsize=15)\\n    plt.xlabel(\\\"Repeats\\\", labelpad=20, fontsize=15)\\n    plt.show()\";\n",
       "                var nbb_cells = Jupyter.notebook.get_cells();\n",
       "                for (var i = 0; i < nbb_cells.length; ++i) {\n",
       "                    if (nbb_cells[i].input_prompt_number == nbb_cell_id) {\n",
       "                        if (nbb_cells[i].get_text() == nbb_unformatted_code) {\n",
       "                             nbb_cells[i].set_text(nbb_formatted_code);\n",
       "                        }\n",
       "                        break;\n",
       "                    }\n",
       "                }\n",
       "            }, 500);\n",
       "            "
      ],
      "text/plain": [
       "<IPython.core.display.Javascript object>"
      ]
     },
     "metadata": {},
     "output_type": "display_data"
    }
   ],
   "source": [
    "def plot_scores_box_plot(scores, repeats, n_splits):\n",
    "    plt.figure(figsize=(15, 8))\n",
    "    plt.boxplot(\n",
    "        scores.reshape((repeats, n_splits)),\n",
    "        labels=[str(r) for r in range(1, repeats + 1)],\n",
    "        showmeans=True,\n",
    "    )\n",
    "    plt.ylabel(\"RMSE\", labelpad=20, fontsize=15)\n",
    "    plt.xlabel(\"Repeats\", labelpad=20, fontsize=15)\n",
    "    plt.show()"
   ]
  },
  {
   "cell_type": "markdown",
   "id": "360a4e7d",
   "metadata": {
    "papermill": {
     "duration": 0.025738,
     "end_time": "2024-07-13T21:12:28.857102",
     "exception": false,
     "start_time": "2024-07-13T21:12:28.831364",
     "status": "completed"
    },
    "tags": []
   },
   "source": [
    "## Helper functions for blocked time series cross validation"
   ]
  },
  {
   "cell_type": "markdown",
   "id": "ede1a42a",
   "metadata": {
    "papermill": {
     "duration": 0.031161,
     "end_time": "2024-07-13T21:12:28.916801",
     "exception": false,
     "start_time": "2024-07-13T21:12:28.885640",
     "status": "completed"
    },
    "tags": []
   },
   "source": [
    "### Train test split"
   ]
  },
  {
   "cell_type": "code",
   "execution_count": 6,
   "id": "915e4120",
   "metadata": {
    "execution": {
     "iopub.execute_input": "2024-07-13T21:12:29.015804Z",
     "iopub.status.busy": "2024-07-13T21:12:29.014516Z",
     "iopub.status.idle": "2024-07-13T21:12:29.044614Z",
     "shell.execute_reply": "2024-07-13T21:12:29.043338Z"
    },
    "papermill": {
     "duration": 0.085514,
     "end_time": "2024-07-13T21:12:29.048084",
     "exception": false,
     "start_time": "2024-07-13T21:12:28.962570",
     "status": "completed"
    },
    "tags": []
   },
   "outputs": [
    {
     "data": {
      "application/javascript": [
       "\n",
       "            setTimeout(function() {\n",
       "                var nbb_cell_id = 6;\n",
       "                var nbb_unformatted_code = \"def split_by_periods(x, y, train_period, test_period):\\n    datasets = []\\n    i = 0\\n    max_samples = x.shape[0]\\n\\n    for _ in range(0, max_samples // (train_period + test_period)):\\n        # Splitting the data into train/test sets\\n        x_train = x[i : i + train_period].copy()\\n        y_train = y[i : i + train_period].copy()\\n        x_test = x[i + train_period : i + train_period + test_period].copy()\\n        y_test = y[i + train_period : i + train_period + test_period].copy()\\n\\n        datasets.append(\\n            {\\n                \\\"x_train\\\": x_train,\\n                \\\"y_train\\\": y_train,\\n                \\\"x_test\\\": x_test,\\n                \\\"y_test\\\": y_test,\\n            }\\n        )\\n        # Increments the index for the next period of time\\n        i += train_period + test_period\\n\\n    return datasets\";\n",
       "                var nbb_formatted_code = \"def split_by_periods(x, y, train_period, test_period):\\n    datasets = []\\n    i = 0\\n    max_samples = x.shape[0]\\n\\n    for _ in range(0, max_samples // (train_period + test_period)):\\n        # Splitting the data into train/test sets\\n        x_train = x[i : i + train_period].copy()\\n        y_train = y[i : i + train_period].copy()\\n        x_test = x[i + train_period : i + train_period + test_period].copy()\\n        y_test = y[i + train_period : i + train_period + test_period].copy()\\n\\n        datasets.append(\\n            {\\n                \\\"x_train\\\": x_train,\\n                \\\"y_train\\\": y_train,\\n                \\\"x_test\\\": x_test,\\n                \\\"y_test\\\": y_test,\\n            }\\n        )\\n        # Increments the index for the next period of time\\n        i += train_period + test_period\\n\\n    return datasets\";\n",
       "                var nbb_cells = Jupyter.notebook.get_cells();\n",
       "                for (var i = 0; i < nbb_cells.length; ++i) {\n",
       "                    if (nbb_cells[i].input_prompt_number == nbb_cell_id) {\n",
       "                        if (nbb_cells[i].get_text() == nbb_unformatted_code) {\n",
       "                             nbb_cells[i].set_text(nbb_formatted_code);\n",
       "                        }\n",
       "                        break;\n",
       "                    }\n",
       "                }\n",
       "            }, 500);\n",
       "            "
      ],
      "text/plain": [
       "<IPython.core.display.Javascript object>"
      ]
     },
     "metadata": {},
     "output_type": "display_data"
    }
   ],
   "source": [
    "def split_by_periods(x, y, train_period, test_period):\n",
    "    datasets = []\n",
    "    i = 0\n",
    "    max_samples = x.shape[0]\n",
    "\n",
    "    for _ in range(0, max_samples // (train_period + test_period)):\n",
    "        # Splitting the data into train/test sets\n",
    "        x_train = x[i : i + train_period].copy()\n",
    "        y_train = y[i : i + train_period].copy()\n",
    "        x_test = x[i + train_period : i + train_period + test_period].copy()\n",
    "        y_test = y[i + train_period : i + train_period + test_period].copy()\n",
    "\n",
    "        datasets.append(\n",
    "            {\n",
    "                \"x_train\": x_train,\n",
    "                \"y_train\": y_train,\n",
    "                \"x_test\": x_test,\n",
    "                \"y_test\": y_test,\n",
    "            }\n",
    "        )\n",
    "        # Increments the index for the next period of time\n",
    "        i += train_period + test_period\n",
    "\n",
    "    return datasets"
   ]
  },
  {
   "cell_type": "code",
   "execution_count": 7,
   "id": "3736c81e",
   "metadata": {
    "execution": {
     "iopub.execute_input": "2024-07-13T21:12:29.104120Z",
     "iopub.status.busy": "2024-07-13T21:12:29.102984Z",
     "iopub.status.idle": "2024-07-13T21:12:29.250560Z",
     "shell.execute_reply": "2024-07-13T21:12:29.249315Z"
    },
    "papermill": {
     "duration": 0.174055,
     "end_time": "2024-07-13T21:12:29.253707",
     "exception": false,
     "start_time": "2024-07-13T21:12:29.079652",
     "status": "completed"
    },
    "tags": []
   },
   "outputs": [
    {
     "data": {
      "application/javascript": [
       "\n",
       "            setTimeout(function() {\n",
       "                var nbb_cell_id = 7;\n",
       "                var nbb_unformatted_code = \"def split_by_dates(x, y, train_period, test_period, dates):\\n    datasets = []\\n    dates = dates[: x.shape[0]].copy()\\n    dates_unique = dates.copy().unique()\\n    i = 0\\n    max_samples = dates_unique.shape[0]\\n\\n    for _ in range(0, max_samples // (train_period + test_period)):\\n        # Splitting the Train Set\\n        start_date_train = dates_unique[i]\\n        end_date_train = dates_unique[i + train_period]\\n        idx_train = dates[(dates >= start_date_train) & (dates < end_date_train)].index\\n        x_train = x.loc[idx_train].copy()\\n        y_train = y[idx_train].copy()\\n\\n        # Splitting the Test Set\\n        start_date_test = dates_unique[i + train_period]\\n        end_date_test = dates_unique[i + train_period + test_period]\\n        idx_test = dates[(dates >= start_date_test) & (dates < end_date_test)].index\\n        x_test = x.loc[idx_test].copy()\\n        y_test = y[idx_test].copy()\\n\\n        datasets.append(\\n            {\\n                \\\"x_train\\\": x_train,\\n                \\\"y_train\\\": y_train,\\n                \\\"x_test\\\": x_test,\\n                \\\"y_test\\\": y_test,\\n            }\\n        )\\n\\n        i += train_period + test_period\\n\\n    return datasets\";\n",
       "                var nbb_formatted_code = \"def split_by_dates(x, y, train_period, test_period, dates):\\n    datasets = []\\n    dates = dates[: x.shape[0]].copy()\\n    dates_unique = dates.copy().unique()\\n    i = 0\\n    max_samples = dates_unique.shape[0]\\n\\n    for _ in range(0, max_samples // (train_period + test_period)):\\n        # Splitting the Train Set\\n        start_date_train = dates_unique[i]\\n        end_date_train = dates_unique[i + train_period]\\n        idx_train = dates[(dates >= start_date_train) & (dates < end_date_train)].index\\n        x_train = x.loc[idx_train].copy()\\n        y_train = y[idx_train].copy()\\n\\n        # Splitting the Test Set\\n        start_date_test = dates_unique[i + train_period]\\n        end_date_test = dates_unique[i + train_period + test_period]\\n        idx_test = dates[(dates >= start_date_test) & (dates < end_date_test)].index\\n        x_test = x.loc[idx_test].copy()\\n        y_test = y[idx_test].copy()\\n\\n        datasets.append(\\n            {\\n                \\\"x_train\\\": x_train,\\n                \\\"y_train\\\": y_train,\\n                \\\"x_test\\\": x_test,\\n                \\\"y_test\\\": y_test,\\n            }\\n        )\\n\\n        i += train_period + test_period\\n\\n    return datasets\";\n",
       "                var nbb_cells = Jupyter.notebook.get_cells();\n",
       "                for (var i = 0; i < nbb_cells.length; ++i) {\n",
       "                    if (nbb_cells[i].input_prompt_number == nbb_cell_id) {\n",
       "                        if (nbb_cells[i].get_text() == nbb_unformatted_code) {\n",
       "                             nbb_cells[i].set_text(nbb_formatted_code);\n",
       "                        }\n",
       "                        break;\n",
       "                    }\n",
       "                }\n",
       "            }, 500);\n",
       "            "
      ],
      "text/plain": [
       "<IPython.core.display.Javascript object>"
      ]
     },
     "metadata": {},
     "output_type": "display_data"
    }
   ],
   "source": [
    "def split_by_dates(x, y, train_period, test_period, dates):\n",
    "    datasets = []\n",
    "    dates = dates[: x.shape[0]].copy()\n",
    "    dates_unique = dates.copy().unique()\n",
    "    i = 0\n",
    "    max_samples = dates_unique.shape[0]\n",
    "\n",
    "    for _ in range(0, max_samples // (train_period + test_period)):\n",
    "        # Splitting the Train Set\n",
    "        start_date_train = dates_unique[i]\n",
    "        end_date_train = dates_unique[i + train_period]\n",
    "        idx_train = dates[(dates >= start_date_train) & (dates < end_date_train)].index\n",
    "        x_train = x.loc[idx_train].copy()\n",
    "        y_train = y[idx_train].copy()\n",
    "\n",
    "        # Splitting the Test Set\n",
    "        start_date_test = dates_unique[i + train_period]\n",
    "        end_date_test = dates_unique[i + train_period + test_period]\n",
    "        idx_test = dates[(dates >= start_date_test) & (dates < end_date_test)].index\n",
    "        x_test = x.loc[idx_test].copy()\n",
    "        y_test = y[idx_test].copy()\n",
    "\n",
    "        datasets.append(\n",
    "            {\n",
    "                \"x_train\": x_train,\n",
    "                \"y_train\": y_train,\n",
    "                \"x_test\": x_test,\n",
    "                \"y_test\": y_test,\n",
    "            }\n",
    "        )\n",
    "\n",
    "        i += train_period + test_period\n",
    "\n",
    "    return datasets"
   ]
  },
  {
   "cell_type": "code",
   "execution_count": 8,
   "id": "76a807c3",
   "metadata": {
    "execution": {
     "iopub.execute_input": "2024-07-13T21:12:29.312209Z",
     "iopub.status.busy": "2024-07-13T21:12:29.311062Z",
     "iopub.status.idle": "2024-07-13T21:12:29.463275Z",
     "shell.execute_reply": "2024-07-13T21:12:29.462018Z"
    },
    "papermill": {
     "duration": 0.18288,
     "end_time": "2024-07-13T21:12:29.466689",
     "exception": false,
     "start_time": "2024-07-13T21:12:29.283809",
     "status": "completed"
    },
    "tags": []
   },
   "outputs": [
    {
     "data": {
      "application/javascript": [
       "\n",
       "            setTimeout(function() {\n",
       "                var nbb_cell_id = 8;\n",
       "                var nbb_unformatted_code = \"def train_test_split_blocked_ts(x, y, train_period, test_period, dates=None):\\n    \\\"\\\"\\\"\\n    Split the input data into train-test datasets based on train and test periods.\\n\\n    Args:\\n        x (pd.DataFrame): Input features.\\n        y (np.Array): Target values.\\n        train_period (int): Length of the training period.\\n        test_period (int): Length of the testing period.\\n        dates (pd.Series): Optional date information.\\n\\n    Returns:\\n        List[dict]: A list of dictionaries, each containing 'x_train', 'y_train', 'x_test', and 'y_test'.\\n    \\\"\\\"\\\"\\n    if dates is None:\\n        return split_by_periods(x, y, train_period, test_period)\\n    else:\\n        return split_by_dates(x, y, train_period, test_period, dates)\";\n",
       "                var nbb_formatted_code = \"def train_test_split_blocked_ts(x, y, train_period, test_period, dates=None):\\n    \\\"\\\"\\\"\\n    Split the input data into train-test datasets based on train and test periods.\\n\\n    Args:\\n        x (pd.DataFrame): Input features.\\n        y (np.Array): Target values.\\n        train_period (int): Length of the training period.\\n        test_period (int): Length of the testing period.\\n        dates (pd.Series): Optional date information.\\n\\n    Returns:\\n        List[dict]: A list of dictionaries, each containing 'x_train', 'y_train', 'x_test', and 'y_test'.\\n    \\\"\\\"\\\"\\n    if dates is None:\\n        return split_by_periods(x, y, train_period, test_period)\\n    else:\\n        return split_by_dates(x, y, train_period, test_period, dates)\";\n",
       "                var nbb_cells = Jupyter.notebook.get_cells();\n",
       "                for (var i = 0; i < nbb_cells.length; ++i) {\n",
       "                    if (nbb_cells[i].input_prompt_number == nbb_cell_id) {\n",
       "                        if (nbb_cells[i].get_text() == nbb_unformatted_code) {\n",
       "                             nbb_cells[i].set_text(nbb_formatted_code);\n",
       "                        }\n",
       "                        break;\n",
       "                    }\n",
       "                }\n",
       "            }, 500);\n",
       "            "
      ],
      "text/plain": [
       "<IPython.core.display.Javascript object>"
      ]
     },
     "metadata": {},
     "output_type": "display_data"
    }
   ],
   "source": [
    "def train_test_split_blocked_ts(x, y, train_period, test_period, dates=None):\n",
    "    \"\"\"\n",
    "    Split the input data into train-test datasets based on train and test periods.\n",
    "\n",
    "    Args:\n",
    "        x (pd.DataFrame): Input features.\n",
    "        y (np.Array): Target values.\n",
    "        train_period (int): Length of the training period.\n",
    "        test_period (int): Length of the testing period.\n",
    "        dates (pd.Series): Optional date information.\n",
    "\n",
    "    Returns:\n",
    "        List[dict]: A list of dictionaries, each containing 'x_train', 'y_train', 'x_test', and 'y_test'.\n",
    "    \"\"\"\n",
    "    if dates is None:\n",
    "        return split_by_periods(x, y, train_period, test_period)\n",
    "    else:\n",
    "        return split_by_dates(x, y, train_period, test_period, dates)"
   ]
  },
  {
   "cell_type": "markdown",
   "id": "d471bcd7",
   "metadata": {
    "papermill": {
     "duration": 0.026309,
     "end_time": "2024-07-13T21:12:29.526605",
     "exception": false,
     "start_time": "2024-07-13T21:12:29.500296",
     "status": "completed"
    },
    "tags": []
   },
   "source": [
    "### Data preprocessing"
   ]
  },
  {
   "cell_type": "code",
   "execution_count": 9,
   "id": "3969fdf7",
   "metadata": {
    "execution": {
     "iopub.execute_input": "2024-07-13T21:12:29.577110Z",
     "iopub.status.busy": "2024-07-13T21:12:29.575976Z",
     "iopub.status.idle": "2024-07-13T21:12:29.683207Z",
     "shell.execute_reply": "2024-07-13T21:12:29.681881Z"
    },
    "papermill": {
     "duration": 0.141436,
     "end_time": "2024-07-13T21:12:29.686405",
     "exception": false,
     "start_time": "2024-07-13T21:12:29.544969",
     "status": "completed"
    },
    "tags": []
   },
   "outputs": [
    {
     "data": {
      "application/javascript": [
       "\n",
       "            setTimeout(function() {\n",
       "                var nbb_cell_id = 9;\n",
       "                var nbb_unformatted_code = \"def impute_data(dataset, imputer=None, imputer_params=None):\\n    x_train = dataset[\\\"x_train\\\"]\\n    x_test = dataset[\\\"x_test\\\"]\\n\\n    # Apply imputation to the data\\n    if imputer is not None:\\n        imputer = imputer() if imputer_params is None else imputer(**imputer_params)\\n        x_train = imputer.fit_transform(x_train)\\n        x_test = imputer.transform(x_test)\\n\\n    dataset[\\\"x_train\\\"] = x_train\\n    dataset[\\\"x_test\\\"] = x_test\\n\\n    return dataset\";\n",
       "                var nbb_formatted_code = \"def impute_data(dataset, imputer=None, imputer_params=None):\\n    x_train = dataset[\\\"x_train\\\"]\\n    x_test = dataset[\\\"x_test\\\"]\\n\\n    # Apply imputation to the data\\n    if imputer is not None:\\n        imputer = imputer() if imputer_params is None else imputer(**imputer_params)\\n        x_train = imputer.fit_transform(x_train)\\n        x_test = imputer.transform(x_test)\\n\\n    dataset[\\\"x_train\\\"] = x_train\\n    dataset[\\\"x_test\\\"] = x_test\\n\\n    return dataset\";\n",
       "                var nbb_cells = Jupyter.notebook.get_cells();\n",
       "                for (var i = 0; i < nbb_cells.length; ++i) {\n",
       "                    if (nbb_cells[i].input_prompt_number == nbb_cell_id) {\n",
       "                        if (nbb_cells[i].get_text() == nbb_unformatted_code) {\n",
       "                             nbb_cells[i].set_text(nbb_formatted_code);\n",
       "                        }\n",
       "                        break;\n",
       "                    }\n",
       "                }\n",
       "            }, 500);\n",
       "            "
      ],
      "text/plain": [
       "<IPython.core.display.Javascript object>"
      ]
     },
     "metadata": {},
     "output_type": "display_data"
    }
   ],
   "source": [
    "def impute_data(dataset, imputer=None, imputer_params=None):\n",
    "    x_train = dataset[\"x_train\"]\n",
    "    x_test = dataset[\"x_test\"]\n",
    "\n",
    "    # Apply imputation to the data\n",
    "    if imputer is not None:\n",
    "        imputer = imputer() if imputer_params is None else imputer(**imputer_params)\n",
    "        x_train = imputer.fit_transform(x_train)\n",
    "        x_test = imputer.transform(x_test)\n",
    "\n",
    "    dataset[\"x_train\"] = x_train\n",
    "    dataset[\"x_test\"] = x_test\n",
    "\n",
    "    return dataset"
   ]
  },
  {
   "cell_type": "code",
   "execution_count": 10,
   "id": "d8196137",
   "metadata": {
    "execution": {
     "iopub.execute_input": "2024-07-13T21:12:29.745844Z",
     "iopub.status.busy": "2024-07-13T21:12:29.744701Z",
     "iopub.status.idle": "2024-07-13T21:12:29.911080Z",
     "shell.execute_reply": "2024-07-13T21:12:29.909828Z"
    },
    "papermill": {
     "duration": 0.197466,
     "end_time": "2024-07-13T21:12:29.914558",
     "exception": false,
     "start_time": "2024-07-13T21:12:29.717092",
     "status": "completed"
    },
    "tags": []
   },
   "outputs": [
    {
     "data": {
      "application/javascript": [
       "\n",
       "            setTimeout(function() {\n",
       "                var nbb_cell_id = 10;\n",
       "                var nbb_unformatted_code = \"def transform_data(dataset, transformer=None):\\n    x_train = dataset[\\\"x_train\\\"]\\n    x_test = dataset[\\\"x_test\\\"]\\n\\n    # Apply data normalization/standardization to the data\\n    if transformer is not None:\\n        scaler = transformer()\\n        x_train = scaler.fit_transform(x_train)\\n        x_test = scaler.transform(x_test)\\n\\n    dataset[\\\"x_train\\\"] = x_train\\n    dataset[\\\"x_test\\\"] = x_test\\n\\n    return dataset\";\n",
       "                var nbb_formatted_code = \"def transform_data(dataset, transformer=None):\\n    x_train = dataset[\\\"x_train\\\"]\\n    x_test = dataset[\\\"x_test\\\"]\\n\\n    # Apply data normalization/standardization to the data\\n    if transformer is not None:\\n        scaler = transformer()\\n        x_train = scaler.fit_transform(x_train)\\n        x_test = scaler.transform(x_test)\\n\\n    dataset[\\\"x_train\\\"] = x_train\\n    dataset[\\\"x_test\\\"] = x_test\\n\\n    return dataset\";\n",
       "                var nbb_cells = Jupyter.notebook.get_cells();\n",
       "                for (var i = 0; i < nbb_cells.length; ++i) {\n",
       "                    if (nbb_cells[i].input_prompt_number == nbb_cell_id) {\n",
       "                        if (nbb_cells[i].get_text() == nbb_unformatted_code) {\n",
       "                             nbb_cells[i].set_text(nbb_formatted_code);\n",
       "                        }\n",
       "                        break;\n",
       "                    }\n",
       "                }\n",
       "            }, 500);\n",
       "            "
      ],
      "text/plain": [
       "<IPython.core.display.Javascript object>"
      ]
     },
     "metadata": {},
     "output_type": "display_data"
    }
   ],
   "source": [
    "def transform_data(dataset, transformer=None):\n",
    "    x_train = dataset[\"x_train\"]\n",
    "    x_test = dataset[\"x_test\"]\n",
    "\n",
    "    # Apply data normalization/standardization to the data\n",
    "    if transformer is not None:\n",
    "        scaler = transformer()\n",
    "        x_train = scaler.fit_transform(x_train)\n",
    "        x_test = scaler.transform(x_test)\n",
    "\n",
    "    dataset[\"x_train\"] = x_train\n",
    "    dataset[\"x_test\"] = x_test\n",
    "\n",
    "    return dataset"
   ]
  },
  {
   "cell_type": "code",
   "execution_count": 11,
   "id": "846b2ad6",
   "metadata": {
    "execution": {
     "iopub.execute_input": "2024-07-13T21:12:29.978419Z",
     "iopub.status.busy": "2024-07-13T21:12:29.977271Z",
     "iopub.status.idle": "2024-07-13T21:12:30.089598Z",
     "shell.execute_reply": "2024-07-13T21:12:30.088342Z"
    },
    "papermill": {
     "duration": 0.144403,
     "end_time": "2024-07-13T21:12:30.092972",
     "exception": false,
     "start_time": "2024-07-13T21:12:29.948569",
     "status": "completed"
    },
    "tags": []
   },
   "outputs": [
    {
     "data": {
      "application/javascript": [
       "\n",
       "            setTimeout(function() {\n",
       "                var nbb_cell_id = 11;\n",
       "                var nbb_unformatted_code = \"def preprocess_data(dataset, transformer=None, imputer=None, imputer_params=None):\\n    dataset = impute_data(dataset, imputer, imputer_params)\\n    dataset = transform_data(dataset, transformer)\\n    return dataset\";\n",
       "                var nbb_formatted_code = \"def preprocess_data(dataset, transformer=None, imputer=None, imputer_params=None):\\n    dataset = impute_data(dataset, imputer, imputer_params)\\n    dataset = transform_data(dataset, transformer)\\n    return dataset\";\n",
       "                var nbb_cells = Jupyter.notebook.get_cells();\n",
       "                for (var i = 0; i < nbb_cells.length; ++i) {\n",
       "                    if (nbb_cells[i].input_prompt_number == nbb_cell_id) {\n",
       "                        if (nbb_cells[i].get_text() == nbb_unformatted_code) {\n",
       "                             nbb_cells[i].set_text(nbb_formatted_code);\n",
       "                        }\n",
       "                        break;\n",
       "                    }\n",
       "                }\n",
       "            }, 500);\n",
       "            "
      ],
      "text/plain": [
       "<IPython.core.display.Javascript object>"
      ]
     },
     "metadata": {},
     "output_type": "display_data"
    }
   ],
   "source": [
    "def preprocess_data(dataset, transformer=None, imputer=None, imputer_params=None):\n",
    "    dataset = impute_data(dataset, imputer, imputer_params)\n",
    "    dataset = transform_data(dataset, transformer)\n",
    "    return dataset"
   ]
  },
  {
   "cell_type": "markdown",
   "id": "fd474471",
   "metadata": {
    "papermill": {
     "duration": 0.025697,
     "end_time": "2024-07-13T21:12:30.157170",
     "exception": false,
     "start_time": "2024-07-13T21:12:30.131473",
     "status": "completed"
    },
    "tags": []
   },
   "source": [
    "### Train and evaluate the model"
   ]
  },
  {
   "cell_type": "code",
   "execution_count": 12,
   "id": "b2f3c50c",
   "metadata": {
    "execution": {
     "iopub.execute_input": "2024-07-13T21:12:30.224111Z",
     "iopub.status.busy": "2024-07-13T21:12:30.222893Z",
     "iopub.status.idle": "2024-07-13T21:12:30.329171Z",
     "shell.execute_reply": "2024-07-13T21:12:30.327901Z"
    },
    "papermill": {
     "duration": 0.145645,
     "end_time": "2024-07-13T21:12:30.332545",
     "exception": false,
     "start_time": "2024-07-13T21:12:30.186900",
     "status": "completed"
    },
    "tags": []
   },
   "outputs": [
    {
     "data": {
      "application/javascript": [
       "\n",
       "            setTimeout(function() {\n",
       "                var nbb_cell_id = 12;\n",
       "                var nbb_unformatted_code = \"def train_and_evaluate_model(Estimator, dataset, estimator_params=None):\\n    \\\"\\\"\\\"\\n    Purpose: Helper function to be used in conjunction with\\n    blocked time_series cross validation function\\n    \\\"\\\"\\\"\\n    x_train = dataset[\\\"x_train\\\"]\\n    y_train = dataset[\\\"y_train\\\"]\\n    x_test = dataset[\\\"x_test\\\"]\\n    y_test = dataset[\\\"y_test\\\"]\\n\\n    # Instantiate the model\\n    model = Estimator() if estimator_params is None else Estimator(**estimator_params)\\n\\n    # Fitting the model\\n    model.fit(x_train, y_train)\\n\\n    # Making predictions on train/test sets\\n    y_train_pred = model.predict(x_train)\\n    y_test_pred = model.predict(x_test)\\n\\n    # Return regression metrics\\n    return score_regression_metrics(y_train, y_train_pred, y_test, y_test_pred)\";\n",
       "                var nbb_formatted_code = \"def train_and_evaluate_model(Estimator, dataset, estimator_params=None):\\n    \\\"\\\"\\\"\\n    Purpose: Helper function to be used in conjunction with\\n    blocked time_series cross validation function\\n    \\\"\\\"\\\"\\n    x_train = dataset[\\\"x_train\\\"]\\n    y_train = dataset[\\\"y_train\\\"]\\n    x_test = dataset[\\\"x_test\\\"]\\n    y_test = dataset[\\\"y_test\\\"]\\n\\n    # Instantiate the model\\n    model = Estimator() if estimator_params is None else Estimator(**estimator_params)\\n\\n    # Fitting the model\\n    model.fit(x_train, y_train)\\n\\n    # Making predictions on train/test sets\\n    y_train_pred = model.predict(x_train)\\n    y_test_pred = model.predict(x_test)\\n\\n    # Return regression metrics\\n    return score_regression_metrics(y_train, y_train_pred, y_test, y_test_pred)\";\n",
       "                var nbb_cells = Jupyter.notebook.get_cells();\n",
       "                for (var i = 0; i < nbb_cells.length; ++i) {\n",
       "                    if (nbb_cells[i].input_prompt_number == nbb_cell_id) {\n",
       "                        if (nbb_cells[i].get_text() == nbb_unformatted_code) {\n",
       "                             nbb_cells[i].set_text(nbb_formatted_code);\n",
       "                        }\n",
       "                        break;\n",
       "                    }\n",
       "                }\n",
       "            }, 500);\n",
       "            "
      ],
      "text/plain": [
       "<IPython.core.display.Javascript object>"
      ]
     },
     "metadata": {},
     "output_type": "display_data"
    }
   ],
   "source": [
    "def train_and_evaluate_model(Estimator, dataset, estimator_params=None):\n",
    "    \"\"\"\n",
    "    Purpose: Helper function to be used in conjunction with\n",
    "    blocked time_series cross validation function\n",
    "    \"\"\"\n",
    "    x_train = dataset[\"x_train\"]\n",
    "    y_train = dataset[\"y_train\"]\n",
    "    x_test = dataset[\"x_test\"]\n",
    "    y_test = dataset[\"y_test\"]\n",
    "\n",
    "    # Instantiate the model\n",
    "    model = Estimator() if estimator_params is None else Estimator(**estimator_params)\n",
    "\n",
    "    # Fitting the model\n",
    "    model.fit(x_train, y_train)\n",
    "\n",
    "    # Making predictions on train/test sets\n",
    "    y_train_pred = model.predict(x_train)\n",
    "    y_test_pred = model.predict(x_test)\n",
    "\n",
    "    # Return regression metrics\n",
    "    return score_regression_metrics(y_train, y_train_pred, y_test, y_test_pred)"
   ]
  },
  {
   "cell_type": "markdown",
   "id": "ebd95ad4",
   "metadata": {
    "papermill": {
     "duration": 0.024872,
     "end_time": "2024-07-13T21:12:30.389049",
     "exception": false,
     "start_time": "2024-07-13T21:12:30.364177",
     "status": "completed"
    },
    "tags": []
   },
   "source": [
    "### Blocking time series cross validation"
   ]
  },
  {
   "cell_type": "code",
   "execution_count": 13,
   "id": "23caf3ad",
   "metadata": {
    "execution": {
     "iopub.execute_input": "2024-07-13T21:12:30.424441Z",
     "iopub.status.busy": "2024-07-13T21:12:30.423875Z",
     "iopub.status.idle": "2024-07-13T21:12:30.548258Z",
     "shell.execute_reply": "2024-07-13T21:12:30.546990Z"
    },
    "papermill": {
     "duration": 0.144286,
     "end_time": "2024-07-13T21:12:30.551322",
     "exception": false,
     "start_time": "2024-07-13T21:12:30.407036",
     "status": "completed"
    },
    "tags": []
   },
   "outputs": [
    {
     "data": {
      "application/javascript": [
       "\n",
       "            setTimeout(function() {\n",
       "                var nbb_cell_id = 13;\n",
       "                var nbb_unformatted_code = \"def repeated_blocking_time_series(\\n    Estimator,\\n    Transform,\\n    Imputer,\\n    x,\\n    y,\\n    train_period,\\n    test_period,\\n    dates=None,\\n    repeats=10,\\n    estimator_params=None,\\n    imputer_params=None,\\n):\\n    \\\"\\\"\\\"\\n    Perform repeated cross-validation with blocked time series data.\\n\\n    Args:\\n        Estimator: Machine learning model class.\\n        Transform: Data transformation method.\\n        Imputer: Data imputation method.\\n        x: Input features.\\n        y: Target values.\\n        train_period: Length of the training period.\\n        test_period: Length of the testing period.\\n        dates: Optional date information.\\n        repeats: Number of repetitions.\\n        estimator_params: Parameters for the model.\\n        imputer_params: Parameters for data imputation.\\n\\n    Returns:\\n        list: List of dictionaries containing evaluation metrics for each repetition.\\n    \\\"\\\"\\\"\\n\\n    results = []\\n    max_samples = x.shape[0]\\n\\n    # Splitting the data into train/test sets\\n    datasets = train_test_split_blocked_ts(x, y, train_period, test_period, dates)\\n\\n    for _ in range(repeats):\\n        scores = []\\n\\n        for dataset in datasets:\\n            dataset = preprocess_data(dataset, Transform, Imputer, imputer_params)\\n            score = train_and_evaluate_model(Estimator, dataset, estimator_params)\\n            scores.append(score)\\n\\n        # After every iteration metrics results are appended together\\n        scores_final = {key: [] for key, _ in scores[0].items()}\\n        for scores_dict in scores:\\n            for key, value in scores_dict.items():\\n                scores_final[key] += [value]\\n        results.append(scores_final)\\n    return results\";\n",
       "                var nbb_formatted_code = \"def repeated_blocking_time_series(\\n    Estimator,\\n    Transform,\\n    Imputer,\\n    x,\\n    y,\\n    train_period,\\n    test_period,\\n    dates=None,\\n    repeats=10,\\n    estimator_params=None,\\n    imputer_params=None,\\n):\\n    \\\"\\\"\\\"\\n    Perform repeated cross-validation with blocked time series data.\\n\\n    Args:\\n        Estimator: Machine learning model class.\\n        Transform: Data transformation method.\\n        Imputer: Data imputation method.\\n        x: Input features.\\n        y: Target values.\\n        train_period: Length of the training period.\\n        test_period: Length of the testing period.\\n        dates: Optional date information.\\n        repeats: Number of repetitions.\\n        estimator_params: Parameters for the model.\\n        imputer_params: Parameters for data imputation.\\n\\n    Returns:\\n        list: List of dictionaries containing evaluation metrics for each repetition.\\n    \\\"\\\"\\\"\\n\\n    results = []\\n    max_samples = x.shape[0]\\n\\n    # Splitting the data into train/test sets\\n    datasets = train_test_split_blocked_ts(x, y, train_period, test_period, dates)\\n\\n    for _ in range(repeats):\\n        scores = []\\n\\n        for dataset in datasets:\\n            dataset = preprocess_data(dataset, Transform, Imputer, imputer_params)\\n            score = train_and_evaluate_model(Estimator, dataset, estimator_params)\\n            scores.append(score)\\n\\n        # After every iteration metrics results are appended together\\n        scores_final = {key: [] for key, _ in scores[0].items()}\\n        for scores_dict in scores:\\n            for key, value in scores_dict.items():\\n                scores_final[key] += [value]\\n        results.append(scores_final)\\n    return results\";\n",
       "                var nbb_cells = Jupyter.notebook.get_cells();\n",
       "                for (var i = 0; i < nbb_cells.length; ++i) {\n",
       "                    if (nbb_cells[i].input_prompt_number == nbb_cell_id) {\n",
       "                        if (nbb_cells[i].get_text() == nbb_unformatted_code) {\n",
       "                             nbb_cells[i].set_text(nbb_formatted_code);\n",
       "                        }\n",
       "                        break;\n",
       "                    }\n",
       "                }\n",
       "            }, 500);\n",
       "            "
      ],
      "text/plain": [
       "<IPython.core.display.Javascript object>"
      ]
     },
     "metadata": {},
     "output_type": "display_data"
    }
   ],
   "source": [
    "def repeated_blocking_time_series(\n",
    "    Estimator,\n",
    "    Transform,\n",
    "    Imputer,\n",
    "    x,\n",
    "    y,\n",
    "    train_period,\n",
    "    test_period,\n",
    "    dates=None,\n",
    "    repeats=10,\n",
    "    estimator_params=None,\n",
    "    imputer_params=None,\n",
    "):\n",
    "    \"\"\"\n",
    "    Perform repeated cross-validation with blocked time series data.\n",
    "\n",
    "    Args:\n",
    "        Estimator: Machine learning model class.\n",
    "        Transform: Data transformation method.\n",
    "        Imputer: Data imputation method.\n",
    "        x: Input features.\n",
    "        y: Target values.\n",
    "        train_period: Length of the training period.\n",
    "        test_period: Length of the testing period.\n",
    "        dates: Optional date information.\n",
    "        repeats: Number of repetitions.\n",
    "        estimator_params: Parameters for the model.\n",
    "        imputer_params: Parameters for data imputation.\n",
    "\n",
    "    Returns:\n",
    "        list: List of dictionaries containing evaluation metrics for each repetition.\n",
    "    \"\"\"\n",
    "\n",
    "    results = []\n",
    "    max_samples = x.shape[0]\n",
    "\n",
    "    # Splitting the data into train/test sets\n",
    "    datasets = train_test_split_blocked_ts(x, y, train_period, test_period, dates)\n",
    "\n",
    "    for _ in range(repeats):\n",
    "        scores = []\n",
    "\n",
    "        for dataset in datasets:\n",
    "            dataset = preprocess_data(dataset, Transform, Imputer, imputer_params)\n",
    "            score = train_and_evaluate_model(Estimator, dataset, estimator_params)\n",
    "            scores.append(score)\n",
    "\n",
    "        # After every iteration metrics results are appended together\n",
    "        scores_final = {key: [] for key, _ in scores[0].items()}\n",
    "        for scores_dict in scores:\n",
    "            for key, value in scores_dict.items():\n",
    "                scores_final[key] += [value]\n",
    "        results.append(scores_final)\n",
    "    return results"
   ]
  },
  {
   "cell_type": "code",
   "execution_count": 14,
   "id": "5a51eedd",
   "metadata": {
    "execution": {
     "iopub.execute_input": "2024-07-13T21:12:30.602844Z",
     "iopub.status.busy": "2024-07-13T21:12:30.602266Z",
     "iopub.status.idle": "2024-07-13T21:12:30.768967Z",
     "shell.execute_reply": "2024-07-13T21:12:30.767458Z"
    },
    "papermill": {
     "duration": 0.195669,
     "end_time": "2024-07-13T21:12:30.772160",
     "exception": false,
     "start_time": "2024-07-13T21:12:30.576491",
     "status": "completed"
    },
    "tags": []
   },
   "outputs": [
    {
     "data": {
      "application/javascript": [
       "\n",
       "            setTimeout(function() {\n",
       "                var nbb_cell_id = 14;\n",
       "                var nbb_unformatted_code = \"SEED = 47\\nMETRICS = (\\n    \\\"neg_root_mean_squared_error\\\",\\n    \\\"neg_mean_absolute_error\\\",\\n    \\\"neg_mean_absolute_percentage_error\\\",\\n    \\\"r2\\\",\\n)\\nMETRICS_DICT = {\\n    \\\"neg_root_mean_squared_error\\\": \\\"RMSE\\\",\\n    \\\"neg_mean_absolute_error\\\": \\\"MAE\\\",\\n    \\\"neg_mean_absolute_percentage_error\\\": \\\"MAPE\\\",\\n    \\\"r2\\\": \\\"R2\\\",\\n}\";\n",
       "                var nbb_formatted_code = \"SEED = 47\\nMETRICS = (\\n    \\\"neg_root_mean_squared_error\\\",\\n    \\\"neg_mean_absolute_error\\\",\\n    \\\"neg_mean_absolute_percentage_error\\\",\\n    \\\"r2\\\",\\n)\\nMETRICS_DICT = {\\n    \\\"neg_root_mean_squared_error\\\": \\\"RMSE\\\",\\n    \\\"neg_mean_absolute_error\\\": \\\"MAE\\\",\\n    \\\"neg_mean_absolute_percentage_error\\\": \\\"MAPE\\\",\\n    \\\"r2\\\": \\\"R2\\\",\\n}\";\n",
       "                var nbb_cells = Jupyter.notebook.get_cells();\n",
       "                for (var i = 0; i < nbb_cells.length; ++i) {\n",
       "                    if (nbb_cells[i].input_prompt_number == nbb_cell_id) {\n",
       "                        if (nbb_cells[i].get_text() == nbb_unformatted_code) {\n",
       "                             nbb_cells[i].set_text(nbb_formatted_code);\n",
       "                        }\n",
       "                        break;\n",
       "                    }\n",
       "                }\n",
       "            }, 500);\n",
       "            "
      ],
      "text/plain": [
       "<IPython.core.display.Javascript object>"
      ]
     },
     "metadata": {},
     "output_type": "display_data"
    }
   ],
   "source": [
    "SEED = 47\n",
    "METRICS = (\n",
    "    \"neg_root_mean_squared_error\",\n",
    "    \"neg_mean_absolute_error\",\n",
    "    \"neg_mean_absolute_percentage_error\",\n",
    "    \"r2\",\n",
    ")\n",
    "METRICS_DICT = {\n",
    "    \"neg_root_mean_squared_error\": \"RMSE\",\n",
    "    \"neg_mean_absolute_error\": \"MAE\",\n",
    "    \"neg_mean_absolute_percentage_error\": \"MAPE\",\n",
    "    \"r2\": \"R2\",\n",
    "}"
   ]
  },
  {
   "cell_type": "markdown",
   "id": "3b364589",
   "metadata": {
    "papermill": {
     "duration": 0.025778,
     "end_time": "2024-07-13T21:12:30.827503",
     "exception": false,
     "start_time": "2024-07-13T21:12:30.801725",
     "status": "completed"
    },
    "tags": []
   },
   "source": [
    "## Defining a dataframe structure to save the results"
   ]
  },
  {
   "cell_type": "code",
   "execution_count": 15,
   "id": "92106595",
   "metadata": {
    "execution": {
     "iopub.execute_input": "2024-07-13T21:12:30.870478Z",
     "iopub.status.busy": "2024-07-13T21:12:30.869897Z",
     "iopub.status.idle": "2024-07-13T21:12:30.969384Z",
     "shell.execute_reply": "2024-07-13T21:12:30.968089Z"
    },
    "papermill": {
     "duration": 0.126078,
     "end_time": "2024-07-13T21:12:30.972242",
     "exception": false,
     "start_time": "2024-07-13T21:12:30.846164",
     "status": "completed"
    },
    "tags": []
   },
   "outputs": [
    {
     "data": {
      "application/javascript": [
       "\n",
       "            setTimeout(function() {\n",
       "                var nbb_cell_id = 15;\n",
       "                var nbb_unformatted_code = \"results_to_save = []\\n\\nresults_dict = {\\n    \\\"Category\\\": \\\"Local Model\\\",\\n    \\\"Company\\\": \\\"partner_i\\\",\\n    \\\"Features\\\": \\\"Chemical + Mineralogical + Physical\\\",\\n    \\\"Data Shape\\\": None,\\n    \\\"Timesteps\\\": None,\\n    \\\"Model\\\": \\\"Linear Regression\\\",\\n    \\\"Model Params\\\": None,\\n    \\\"Scaler\\\": \\\"Standard Scaler\\\",\\n    \\\"Scaler Params\\\": None,\\n    \\\"Imputer\\\": \\\"Median\\\",\\n    \\\"Imputer Params\\\": None,\\n    \\\"Cross Validation\\\": None,\\n    \\\"Cross Validation Params\\\": np.nan,\\n    \\\"RMSE Train\\\": np.nan,\\n    \\\"MAE Train\\\": np.nan,\\n    \\\"MAPE Train\\\": np.nan,\\n    \\\"R2 Train\\\": np.nan,\\n    \\\"RMSE Test\\\": np.nan,\\n    \\\"MAE Test\\\": np.nan,\\n    \\\"MAPE Test\\\": np.nan,\\n    \\\"R2 Test\\\": np.nan,\\n}\";\n",
       "                var nbb_formatted_code = \"results_to_save = []\\n\\nresults_dict = {\\n    \\\"Category\\\": \\\"Local Model\\\",\\n    \\\"Company\\\": \\\"partner_i\\\",\\n    \\\"Features\\\": \\\"Chemical + Mineralogical + Physical\\\",\\n    \\\"Data Shape\\\": None,\\n    \\\"Timesteps\\\": None,\\n    \\\"Model\\\": \\\"Linear Regression\\\",\\n    \\\"Model Params\\\": None,\\n    \\\"Scaler\\\": \\\"Standard Scaler\\\",\\n    \\\"Scaler Params\\\": None,\\n    \\\"Imputer\\\": \\\"Median\\\",\\n    \\\"Imputer Params\\\": None,\\n    \\\"Cross Validation\\\": None,\\n    \\\"Cross Validation Params\\\": np.nan,\\n    \\\"RMSE Train\\\": np.nan,\\n    \\\"MAE Train\\\": np.nan,\\n    \\\"MAPE Train\\\": np.nan,\\n    \\\"R2 Train\\\": np.nan,\\n    \\\"RMSE Test\\\": np.nan,\\n    \\\"MAE Test\\\": np.nan,\\n    \\\"MAPE Test\\\": np.nan,\\n    \\\"R2 Test\\\": np.nan,\\n}\";\n",
       "                var nbb_cells = Jupyter.notebook.get_cells();\n",
       "                for (var i = 0; i < nbb_cells.length; ++i) {\n",
       "                    if (nbb_cells[i].input_prompt_number == nbb_cell_id) {\n",
       "                        if (nbb_cells[i].get_text() == nbb_unformatted_code) {\n",
       "                             nbb_cells[i].set_text(nbb_formatted_code);\n",
       "                        }\n",
       "                        break;\n",
       "                    }\n",
       "                }\n",
       "            }, 500);\n",
       "            "
      ],
      "text/plain": [
       "<IPython.core.display.Javascript object>"
      ]
     },
     "metadata": {},
     "output_type": "display_data"
    }
   ],
   "source": [
    "results_to_save = []\n",
    "\n",
    "results_dict = {\n",
    "    \"Category\": \"Local Model\",\n",
    "    \"Company\": \"partner_i\",\n",
    "    \"Features\": \"Chemical + Mineralogical + Physical\",\n",
    "    \"Data Shape\": None,\n",
    "    \"Timesteps\": None,\n",
    "    \"Model\": \"Linear Regression\",\n",
    "    \"Model Params\": None,\n",
    "    \"Scaler\": \"Standard Scaler\",\n",
    "    \"Scaler Params\": None,\n",
    "    \"Imputer\": \"Median\",\n",
    "    \"Imputer Params\": None,\n",
    "    \"Cross Validation\": None,\n",
    "    \"Cross Validation Params\": np.nan,\n",
    "    \"RMSE Train\": np.nan,\n",
    "    \"MAE Train\": np.nan,\n",
    "    \"MAPE Train\": np.nan,\n",
    "    \"R2 Train\": np.nan,\n",
    "    \"RMSE Test\": np.nan,\n",
    "    \"MAE Test\": np.nan,\n",
    "    \"MAPE Test\": np.nan,\n",
    "    \"R2 Test\": np.nan,\n",
    "}"
   ]
  },
  {
   "cell_type": "markdown",
   "id": "05456433",
   "metadata": {
    "papermill": {
     "duration": 0.023307,
     "end_time": "2024-07-13T21:12:31.019551",
     "exception": false,
     "start_time": "2024-07-13T21:12:30.996244",
     "status": "completed"
    },
    "tags": []
   },
   "source": [
    "# Reading the dataset"
   ]
  },
  {
   "cell_type": "code",
   "execution_count": 16,
   "id": "9a253eb5",
   "metadata": {
    "execution": {
     "iopub.execute_input": "2024-07-13T21:12:31.059976Z",
     "iopub.status.busy": "2024-07-13T21:12:31.059369Z",
     "iopub.status.idle": "2024-07-13T21:12:31.242905Z",
     "shell.execute_reply": "2024-07-13T21:12:31.241604Z"
    },
    "papermill": {
     "duration": 0.20751,
     "end_time": "2024-07-13T21:12:31.245612",
     "exception": false,
     "start_time": "2024-07-13T21:12:31.038102",
     "status": "completed"
    },
    "tags": []
   },
   "outputs": [
    {
     "data": {
      "application/javascript": [
       "\n",
       "            setTimeout(function() {\n",
       "                var nbb_cell_id = 16;\n",
       "                var nbb_unformatted_code = \"df = pd.read_csv(\\\"../../../../../../data/processed/partner_i-Oficial/cement-shipping.csv\\\")\";\n",
       "                var nbb_formatted_code = \"df = pd.read_csv(\\n    \\\"../../../../../../data/processed/partner_i-Oficial/cement-shipping.csv\\\"\\n)\";\n",
       "                var nbb_cells = Jupyter.notebook.get_cells();\n",
       "                for (var i = 0; i < nbb_cells.length; ++i) {\n",
       "                    if (nbb_cells[i].input_prompt_number == nbb_cell_id) {\n",
       "                        if (nbb_cells[i].get_text() == nbb_unformatted_code) {\n",
       "                             nbb_cells[i].set_text(nbb_formatted_code);\n",
       "                        }\n",
       "                        break;\n",
       "                    }\n",
       "                }\n",
       "            }, 500);\n",
       "            "
      ],
      "text/plain": [
       "<IPython.core.display.Javascript object>"
      ]
     },
     "metadata": {},
     "output_type": "display_data"
    }
   ],
   "source": [
    "df = pd.read_csv(\"../../../../../../data/processed/partner_i-Oficial/cement-shipping.csv\")"
   ]
  },
  {
   "cell_type": "markdown",
   "id": "33a43621",
   "metadata": {
    "papermill": {
     "duration": 0.031447,
     "end_time": "2024-07-13T21:12:31.301364",
     "exception": false,
     "start_time": "2024-07-13T21:12:31.269917",
     "status": "completed"
    },
    "tags": []
   },
   "source": [
    "## Defining Features\n",
    "\n",
    "In this set of experiments we use all available features"
   ]
  },
  {
   "cell_type": "code",
   "execution_count": 17,
   "id": "3d4f1f5d",
   "metadata": {
    "execution": {
     "iopub.execute_input": "2024-07-13T21:12:31.344667Z",
     "iopub.status.busy": "2024-07-13T21:12:31.344059Z",
     "iopub.status.idle": "2024-07-13T21:12:31.364881Z",
     "shell.execute_reply": "2024-07-13T21:12:31.363619Z"
    },
    "papermill": {
     "duration": 0.045227,
     "end_time": "2024-07-13T21:12:31.367621",
     "exception": false,
     "start_time": "2024-07-13T21:12:31.322394",
     "status": "completed"
    },
    "tags": []
   },
   "outputs": [
    {
     "data": {
      "application/javascript": [
       "\n",
       "            setTimeout(function() {\n",
       "                var nbb_cell_id = 17;\n",
       "                var nbb_unformatted_code = \"df_copy = df.drop(\\n    [  # Removing One-Hot encoding variables\\n        \\\"Cement_Type\\\",\\n        \\n    ],\\n    axis=1,\\n).copy()\";\n",
       "                var nbb_formatted_code = \"df_copy = df.drop(\\n    [  # Removing One-Hot encoding variables\\n        \\\"Cement_Type\\\",\\n    ],\\n    axis=1,\\n).copy()\";\n",
       "                var nbb_cells = Jupyter.notebook.get_cells();\n",
       "                for (var i = 0; i < nbb_cells.length; ++i) {\n",
       "                    if (nbb_cells[i].input_prompt_number == nbb_cell_id) {\n",
       "                        if (nbb_cells[i].get_text() == nbb_unformatted_code) {\n",
       "                             nbb_cells[i].set_text(nbb_formatted_code);\n",
       "                        }\n",
       "                        break;\n",
       "                    }\n",
       "                }\n",
       "            }, 500);\n",
       "            "
      ],
      "text/plain": [
       "<IPython.core.display.Javascript object>"
      ]
     },
     "metadata": {},
     "output_type": "display_data"
    }
   ],
   "source": [
    "df_copy = df.drop(\n",
    "    [  # Removing One-Hot encoding variables\n",
    "        \"Cement_Type\",\n",
    "        \n",
    "    ],\n",
    "    axis=1,\n",
    ").copy()"
   ]
  },
  {
   "cell_type": "markdown",
   "id": "e9e0bcd9",
   "metadata": {
    "papermill": {
     "duration": 0.018349,
     "end_time": "2024-07-13T21:12:31.408512",
     "exception": false,
     "start_time": "2024-07-13T21:12:31.390163",
     "status": "completed"
    },
    "tags": []
   },
   "source": [
    "# 1. Linear Regression"
   ]
  },
  {
   "cell_type": "markdown",
   "id": "98f13d48",
   "metadata": {
    "papermill": {
     "duration": 0.030089,
     "end_time": "2024-07-13T21:12:31.469779",
     "exception": false,
     "start_time": "2024-07-13T21:12:31.439690",
     "status": "completed"
    },
    "tags": []
   },
   "source": [
    "<h2>1. Dataset: df_copy</h2> <br>In this dataset all features are used."
   ]
  },
  {
   "cell_type": "code",
   "execution_count": 18,
   "id": "4c88559b",
   "metadata": {
    "execution": {
     "iopub.execute_input": "2024-07-13T21:12:31.532488Z",
     "iopub.status.busy": "2024-07-13T21:12:31.531904Z",
     "iopub.status.idle": "2024-07-13T21:12:31.609779Z",
     "shell.execute_reply": "2024-07-13T21:12:31.608183Z"
    },
    "papermill": {
     "duration": 0.115398,
     "end_time": "2024-07-13T21:12:31.612589",
     "exception": false,
     "start_time": "2024-07-13T21:12:31.497191",
     "status": "completed"
    },
    "tags": []
   },
   "outputs": [
    {
     "data": {
      "application/javascript": [
       "\n",
       "            setTimeout(function() {\n",
       "                var nbb_cell_id = 18;\n",
       "                var nbb_unformatted_code = \"y = df_copy.pop(\\\"CS28\\\").values\\nx = df_copy.drop([\\\"Date\\\"], axis=1)\\ndates = df[\\\"Date\\\"].copy()\";\n",
       "                var nbb_formatted_code = \"y = df_copy.pop(\\\"CS28\\\").values\\nx = df_copy.drop([\\\"Date\\\"], axis=1)\\ndates = df[\\\"Date\\\"].copy()\";\n",
       "                var nbb_cells = Jupyter.notebook.get_cells();\n",
       "                for (var i = 0; i < nbb_cells.length; ++i) {\n",
       "                    if (nbb_cells[i].input_prompt_number == nbb_cell_id) {\n",
       "                        if (nbb_cells[i].get_text() == nbb_unformatted_code) {\n",
       "                             nbb_cells[i].set_text(nbb_formatted_code);\n",
       "                        }\n",
       "                        break;\n",
       "                    }\n",
       "                }\n",
       "            }, 500);\n",
       "            "
      ],
      "text/plain": [
       "<IPython.core.display.Javascript object>"
      ]
     },
     "metadata": {},
     "output_type": "display_data"
    }
   ],
   "source": [
    "y = df_copy.pop(\"CS28\").values\n",
    "x = df_copy.drop([\"Date\"], axis=1)\n",
    "dates = df[\"Date\"].copy()"
   ]
  },
  {
   "cell_type": "markdown",
   "id": "b09bd303",
   "metadata": {
    "papermill": {
     "duration": 0.023201,
     "end_time": "2024-07-13T21:12:31.660088",
     "exception": false,
     "start_time": "2024-07-13T21:12:31.636887",
     "status": "completed"
    },
    "tags": []
   },
   "source": [
    "## 1.1 Repeated KFold Cross validation\n",
    "\n",
    "<b>Dataset shape:</b> (1234, 37)<br>\n",
    "<b>Repeats:</b>10<br>\n",
    "<b>Splits:</b>5<br>\n",
    "    1. 5 folds of 246 samples each\n",
    "    2. 80% train (988 samples each fold)\n",
    "    3. 20% test (246 samples each fold)\n",
    "<b>Total:</b> 15 models<br>"
   ]
  },
  {
   "cell_type": "code",
   "execution_count": 19,
   "id": "ea3d7c37",
   "metadata": {
    "execution": {
     "iopub.execute_input": "2024-07-13T21:12:31.706796Z",
     "iopub.status.busy": "2024-07-13T21:12:31.706179Z",
     "iopub.status.idle": "2024-07-13T21:12:33.215857Z",
     "shell.execute_reply": "2024-07-13T21:12:33.214901Z"
    },
    "papermill": {
     "duration": 1.539124,
     "end_time": "2024-07-13T21:12:33.217569",
     "exception": false,
     "start_time": "2024-07-13T21:12:31.678445",
     "status": "completed"
    },
    "tags": []
   },
   "outputs": [
    {
     "name": "stdout",
     "output_type": "stream",
     "text": [
      "Repeated Cross Validation:\n",
      "Repeats: 3\n",
      "n_splits: 5\n",
      "\n",
      "******\n",
      "[TRAIN]\n",
      "******\n",
      "RMSE: -0.935 (0.008)\n",
      "MAE: -0.728 (0.009)\n",
      "MAPE: -0.017 (0.000)\n",
      "R2: 0.966 (0.001)\n",
      "\n",
      "======================\n",
      "\n",
      "******\n",
      "[TEST]\n",
      "******\n",
      "RMSE: -0.977 (0.036)\n",
      "MAE: -0.757 (0.033)\n",
      "MAPE: -0.018 (0.001)\n",
      "R2: 0.962 (0.003)\n",
      "\n",
      "======================\n",
      "\n"
     ]
    },
    {
     "data": {
      "application/javascript": [
       "\n",
       "            setTimeout(function() {\n",
       "                var nbb_cell_id = 19;\n",
       "                var nbb_unformatted_code = \"repeats = 3\\nn_splits = 5\\npipeline = Pipeline(\\n    [\\n        (\\\"imputer\\\", SimpleImputer(strategy=\\\"median\\\")),\\n        (\\\"transformer\\\", StandardScaler()),\\n        (\\\"estimator\\\", LinearRegression()),\\n    ]\\n)\\ncv = RepeatedKFold(n_splits=n_splits, n_repeats=repeats, random_state=SEED)\\nscores = cross_validate(\\n    pipeline,\\n    x,\\n    y,\\n    scoring=METRICS,\\n    cv=cv,\\n    n_jobs=-1,\\n    return_train_score=True,\\n)\\nprint(\\\"Repeated Cross Validation:\\\")\\nprint(f\\\"Repeats: {repeats}\\\")\\nprint(f\\\"n_splits: {n_splits}\\\")\\nprint()\\nprint_scores(scores, METRICS, METRICS_DICT)\";\n",
       "                var nbb_formatted_code = \"repeats = 3\\nn_splits = 5\\npipeline = Pipeline(\\n    [\\n        (\\\"imputer\\\", SimpleImputer(strategy=\\\"median\\\")),\\n        (\\\"transformer\\\", StandardScaler()),\\n        (\\\"estimator\\\", LinearRegression()),\\n    ]\\n)\\ncv = RepeatedKFold(n_splits=n_splits, n_repeats=repeats, random_state=SEED)\\nscores = cross_validate(\\n    pipeline,\\n    x,\\n    y,\\n    scoring=METRICS,\\n    cv=cv,\\n    n_jobs=-1,\\n    return_train_score=True,\\n)\\nprint(\\\"Repeated Cross Validation:\\\")\\nprint(f\\\"Repeats: {repeats}\\\")\\nprint(f\\\"n_splits: {n_splits}\\\")\\nprint()\\nprint_scores(scores, METRICS, METRICS_DICT)\";\n",
       "                var nbb_cells = Jupyter.notebook.get_cells();\n",
       "                for (var i = 0; i < nbb_cells.length; ++i) {\n",
       "                    if (nbb_cells[i].input_prompt_number == nbb_cell_id) {\n",
       "                        if (nbb_cells[i].get_text() == nbb_unformatted_code) {\n",
       "                             nbb_cells[i].set_text(nbb_formatted_code);\n",
       "                        }\n",
       "                        break;\n",
       "                    }\n",
       "                }\n",
       "            }, 500);\n",
       "            "
      ],
      "text/plain": [
       "<IPython.core.display.Javascript object>"
      ]
     },
     "metadata": {},
     "output_type": "display_data"
    }
   ],
   "source": [
    "repeats = 3\n",
    "n_splits = 5\n",
    "pipeline = Pipeline(\n",
    "    [\n",
    "        (\"imputer\", SimpleImputer(strategy=\"median\")),\n",
    "        (\"transformer\", StandardScaler()),\n",
    "        (\"estimator\", LinearRegression()),\n",
    "    ]\n",
    ")\n",
    "cv = RepeatedKFold(n_splits=n_splits, n_repeats=repeats, random_state=SEED)\n",
    "scores = cross_validate(\n",
    "    pipeline,\n",
    "    x,\n",
    "    y,\n",
    "    scoring=METRICS,\n",
    "    cv=cv,\n",
    "    n_jobs=-1,\n",
    "    return_train_score=True,\n",
    ")\n",
    "print(\"Repeated Cross Validation:\")\n",
    "print(f\"Repeats: {repeats}\")\n",
    "print(f\"n_splits: {n_splits}\")\n",
    "print()\n",
    "print_scores(scores, METRICS, METRICS_DICT)"
   ]
  },
  {
   "cell_type": "code",
   "execution_count": 20,
   "id": "f558f06d",
   "metadata": {
    "execution": {
     "iopub.execute_input": "2024-07-13T21:12:33.243888Z",
     "iopub.status.busy": "2024-07-13T21:12:33.243449Z",
     "iopub.status.idle": "2024-07-13T21:12:33.256049Z",
     "shell.execute_reply": "2024-07-13T21:12:33.255208Z"
    },
    "papermill": {
     "duration": 0.02747,
     "end_time": "2024-07-13T21:12:33.257573",
     "exception": false,
     "start_time": "2024-07-13T21:12:33.230103",
     "status": "completed"
    },
    "tags": []
   },
   "outputs": [
    {
     "data": {
      "application/javascript": [
       "\n",
       "            setTimeout(function() {\n",
       "                var nbb_cell_id = 20;\n",
       "                var nbb_unformatted_code = \"results_dict_copy = results_dict.copy()\\nresults_dict_copy[\\\"Cross Validation\\\"] = \\\"Repeated KFold\\\"\\nresults_dict_copy[\\\"Cross Validation Params\\\"] = '{\\\"N_Splits\\\": 5, \\\"Repeats\\\": 3}'\\nresults_dict_copy[\\\"Data Shape\\\"] = x.shape\\ndf_results = fill_results_dict(results_dict_copy, scores)\\nresults_to_save.append(df_results)\";\n",
       "                var nbb_formatted_code = \"results_dict_copy = results_dict.copy()\\nresults_dict_copy[\\\"Cross Validation\\\"] = \\\"Repeated KFold\\\"\\nresults_dict_copy[\\\"Cross Validation Params\\\"] = '{\\\"N_Splits\\\": 5, \\\"Repeats\\\": 3}'\\nresults_dict_copy[\\\"Data Shape\\\"] = x.shape\\ndf_results = fill_results_dict(results_dict_copy, scores)\\nresults_to_save.append(df_results)\";\n",
       "                var nbb_cells = Jupyter.notebook.get_cells();\n",
       "                for (var i = 0; i < nbb_cells.length; ++i) {\n",
       "                    if (nbb_cells[i].input_prompt_number == nbb_cell_id) {\n",
       "                        if (nbb_cells[i].get_text() == nbb_unformatted_code) {\n",
       "                             nbb_cells[i].set_text(nbb_formatted_code);\n",
       "                        }\n",
       "                        break;\n",
       "                    }\n",
       "                }\n",
       "            }, 500);\n",
       "            "
      ],
      "text/plain": [
       "<IPython.core.display.Javascript object>"
      ]
     },
     "metadata": {},
     "output_type": "display_data"
    }
   ],
   "source": [
    "results_dict_copy = results_dict.copy()\n",
    "results_dict_copy[\"Cross Validation\"] = \"Repeated KFold\"\n",
    "results_dict_copy[\"Cross Validation Params\"] = '{\"N_Splits\": 5, \"Repeats\": 3}'\n",
    "results_dict_copy[\"Data Shape\"] = x.shape\n",
    "df_results = fill_results_dict(results_dict_copy, scores)\n",
    "results_to_save.append(df_results)"
   ]
  },
  {
   "cell_type": "code",
   "execution_count": 21,
   "id": "39ba74bf",
   "metadata": {
    "execution": {
     "iopub.execute_input": "2024-07-13T21:12:33.303146Z",
     "iopub.status.busy": "2024-07-13T21:12:33.302883Z",
     "iopub.status.idle": "2024-07-13T21:12:33.531841Z",
     "shell.execute_reply": "2024-07-13T21:12:33.530684Z"
    },
    "papermill": {
     "duration": 0.264261,
     "end_time": "2024-07-13T21:12:33.534153",
     "exception": false,
     "start_time": "2024-07-13T21:12:33.269892",
     "status": "completed"
    },
    "tags": []
   },
   "outputs": [
    {
     "data": {
      "text/html": [
       "<div>\n",
       "<style scoped>\n",
       "    .dataframe tbody tr th:only-of-type {\n",
       "        vertical-align: middle;\n",
       "    }\n",
       "\n",
       "    .dataframe tbody tr th {\n",
       "        vertical-align: top;\n",
       "    }\n",
       "\n",
       "    .dataframe thead tr th {\n",
       "        text-align: left;\n",
       "    }\n",
       "</style>\n",
       "<table border=\"1\" class=\"dataframe\">\n",
       "  <thead>\n",
       "    <tr>\n",
       "      <th></th>\n",
       "      <th>Features</th>\n",
       "      <th>Model</th>\n",
       "      <th>Cross Validation</th>\n",
       "      <th colspan=\"2\" halign=\"left\">RMSE Test</th>\n",
       "      <th colspan=\"2\" halign=\"left\">MAE Test</th>\n",
       "      <th colspan=\"2\" halign=\"left\">MAPE Test</th>\n",
       "      <th colspan=\"2\" halign=\"left\">R2 Test</th>\n",
       "    </tr>\n",
       "    <tr>\n",
       "      <th></th>\n",
       "      <th></th>\n",
       "      <th></th>\n",
       "      <th></th>\n",
       "      <th>mean</th>\n",
       "      <th>std</th>\n",
       "      <th>mean</th>\n",
       "      <th>std</th>\n",
       "      <th>mean</th>\n",
       "      <th>std</th>\n",
       "      <th>mean</th>\n",
       "      <th>std</th>\n",
       "    </tr>\n",
       "  </thead>\n",
       "  <tbody>\n",
       "    <tr>\n",
       "      <th>0</th>\n",
       "      <td>Chemical + Mineralogical + Physical</td>\n",
       "      <td>Linear Regression</td>\n",
       "      <td>Repeated KFold</td>\n",
       "      <td>0.976822</td>\n",
       "      <td>0.037492</td>\n",
       "      <td>0.756527</td>\n",
       "      <td>0.034231</td>\n",
       "      <td>0.017623</td>\n",
       "      <td>0.000823</td>\n",
       "      <td>0.962264</td>\n",
       "      <td>0.003121</td>\n",
       "    </tr>\n",
       "  </tbody>\n",
       "</table>\n",
       "</div>"
      ],
      "text/plain": [
       "                              Features              Model Cross Validation  \\\n",
       "                                                                             \n",
       "0  Chemical + Mineralogical + Physical  Linear Regression   Repeated KFold   \n",
       "\n",
       "  RMSE Test            MAE Test           MAPE Test             R2 Test  \\\n",
       "       mean       std      mean       std      mean       std      mean   \n",
       "0  0.976822  0.037492  0.756527  0.034231  0.017623  0.000823  0.962264   \n",
       "\n",
       "             \n",
       "        std  \n",
       "0  0.003121  "
      ]
     },
     "execution_count": 21,
     "metadata": {},
     "output_type": "execute_result"
    },
    {
     "data": {
      "application/javascript": [
       "\n",
       "            setTimeout(function() {\n",
       "                var nbb_cell_id = 21;\n",
       "                var nbb_unformatted_code = \"df_results.groupby([\\\"Features\\\", \\\"Model\\\", \\\"Cross Validation\\\"])[\\n    [\\\"RMSE Test\\\", \\\"MAE Test\\\", \\\"MAPE Test\\\", \\\"R2 Test\\\"]\\n].agg([\\\"mean\\\", \\\"std\\\"]).reset_index()\";\n",
       "                var nbb_formatted_code = \"df_results.groupby([\\\"Features\\\", \\\"Model\\\", \\\"Cross Validation\\\"])[\\n    [\\\"RMSE Test\\\", \\\"MAE Test\\\", \\\"MAPE Test\\\", \\\"R2 Test\\\"]\\n].agg([\\\"mean\\\", \\\"std\\\"]).reset_index()\";\n",
       "                var nbb_cells = Jupyter.notebook.get_cells();\n",
       "                for (var i = 0; i < nbb_cells.length; ++i) {\n",
       "                    if (nbb_cells[i].input_prompt_number == nbb_cell_id) {\n",
       "                        if (nbb_cells[i].get_text() == nbb_unformatted_code) {\n",
       "                             nbb_cells[i].set_text(nbb_formatted_code);\n",
       "                        }\n",
       "                        break;\n",
       "                    }\n",
       "                }\n",
       "            }, 500);\n",
       "            "
      ],
      "text/plain": [
       "<IPython.core.display.Javascript object>"
      ]
     },
     "metadata": {},
     "output_type": "display_data"
    }
   ],
   "source": [
    "df_results.groupby([\"Features\", \"Model\", \"Cross Validation\"])[\n",
    "    [\"RMSE Test\", \"MAE Test\", \"MAPE Test\", \"R2 Test\"]\n",
    "].agg([\"mean\", \"std\"]).reset_index()"
   ]
  },
  {
   "cell_type": "markdown",
   "id": "808702be",
   "metadata": {
    "papermill": {
     "duration": 0.022293,
     "end_time": "2024-07-13T21:12:33.579922",
     "exception": false,
     "start_time": "2024-07-13T21:12:33.557629",
     "status": "completed"
    },
    "tags": []
   },
   "source": [
    "## 1.2. Blocking Time Series Cross Validation\n",
    "\n",
    "<b>Dataset shape:</b> (1234, 38)<br>\n",
    "<b>Splits:</b>5<br>    \n",
    "    1. 5 folds of 246 samples\n",
    "    2. 80% train (987 samples each fold)\n",
    "    3. 20% test (246 samples each fold)\n",
    "<b>Total:</b> 5 models<br>"
   ]
  },
  {
   "cell_type": "code",
   "execution_count": 22,
   "id": "c9454229",
   "metadata": {
    "execution": {
     "iopub.execute_input": "2024-07-13T21:12:33.629252Z",
     "iopub.status.busy": "2024-07-13T21:12:33.628850Z",
     "iopub.status.idle": "2024-07-13T21:12:34.363786Z",
     "shell.execute_reply": "2024-07-13T21:12:34.362771Z"
    },
    "papermill": {
     "duration": 0.76586,
     "end_time": "2024-07-13T21:12:34.365699",
     "exception": false,
     "start_time": "2024-07-13T21:12:33.599839",
     "status": "completed"
    },
    "tags": []
   },
   "outputs": [
    {
     "name": "stdout",
     "output_type": "stream",
     "text": [
      "Blocking Time Series Split:\n",
      "Repeats: 3\n",
      "n_splits: 5\n",
      "\n",
      "******\n",
      "[TRAIN]\n",
      "******\n",
      "RMSE: -0.805 (0.047)\n",
      "MAE: -0.633 (0.039)\n",
      "MAPE: -0.015 (0.001)\n",
      "R2: 0.974 (0.003)\n",
      "\n",
      "======================\n",
      "\n",
      "******\n",
      "[TEST]\n",
      "******\n",
      "RMSE: -1.081 (0.099)\n",
      "MAE: -0.858 (0.061)\n",
      "MAPE: -0.020 (0.002)\n",
      "R2: 0.951 (0.011)\n",
      "\n",
      "======================\n",
      "\n"
     ]
    },
    {
     "data": {
      "application/javascript": [
       "\n",
       "            setTimeout(function() {\n",
       "                var nbb_cell_id = 22;\n",
       "                var nbb_unformatted_code = \"n_splits = 5\\ntrain_size = 0.8\\n\\npipeline = Pipeline(\\n    [\\n        (\\\"imputer\\\", SimpleImputer(strategy=\\\"median\\\")),\\n        (\\\"transformer\\\", StandardScaler()),\\n        (\\\"estimator\\\", LinearRegression()),\\n    ]\\n)\\ncv = BlockingTimeSeriesSplit(n_splits=n_splits, train_size=train_size)\\nscores = cross_validate(\\n    pipeline,\\n    x,\\n    y,\\n    scoring=METRICS,\\n    cv=cv,\\n    n_jobs=-1,\\n    return_train_score=True,\\n)\\nprint(\\\"Blocking Time Series Split:\\\")\\nprint(f\\\"Repeats: {repeats}\\\")\\nprint(f\\\"n_splits: {n_splits}\\\")\\nprint()\\nprint_scores(scores, METRICS, METRICS_DICT)\\n\\nresults_dict_copy = results_dict.copy()\\nresults_dict_copy[\\\"Cross Validation\\\"] = \\\"Blocking Time Series Split\\\"\\nresults_dict_copy[\\n    \\\"Cross Validation Params\\\"\\n] = '{\\\"N_Splits\\\": 5, \\\"Repeats\\\": 1, \\\"train_size\\\": 0.8}'\\nresults_dict_copy[\\\"Data Shape\\\"] = x.shape\\ndf_results = fill_results_dict(results_dict_copy, scores)\\nresults_to_save.append(df_results)\";\n",
       "                var nbb_formatted_code = \"n_splits = 5\\ntrain_size = 0.8\\n\\npipeline = Pipeline(\\n    [\\n        (\\\"imputer\\\", SimpleImputer(strategy=\\\"median\\\")),\\n        (\\\"transformer\\\", StandardScaler()),\\n        (\\\"estimator\\\", LinearRegression()),\\n    ]\\n)\\ncv = BlockingTimeSeriesSplit(n_splits=n_splits, train_size=train_size)\\nscores = cross_validate(\\n    pipeline,\\n    x,\\n    y,\\n    scoring=METRICS,\\n    cv=cv,\\n    n_jobs=-1,\\n    return_train_score=True,\\n)\\nprint(\\\"Blocking Time Series Split:\\\")\\nprint(f\\\"Repeats: {repeats}\\\")\\nprint(f\\\"n_splits: {n_splits}\\\")\\nprint()\\nprint_scores(scores, METRICS, METRICS_DICT)\\n\\nresults_dict_copy = results_dict.copy()\\nresults_dict_copy[\\\"Cross Validation\\\"] = \\\"Blocking Time Series Split\\\"\\nresults_dict_copy[\\n    \\\"Cross Validation Params\\\"\\n] = '{\\\"N_Splits\\\": 5, \\\"Repeats\\\": 1, \\\"train_size\\\": 0.8}'\\nresults_dict_copy[\\\"Data Shape\\\"] = x.shape\\ndf_results = fill_results_dict(results_dict_copy, scores)\\nresults_to_save.append(df_results)\";\n",
       "                var nbb_cells = Jupyter.notebook.get_cells();\n",
       "                for (var i = 0; i < nbb_cells.length; ++i) {\n",
       "                    if (nbb_cells[i].input_prompt_number == nbb_cell_id) {\n",
       "                        if (nbb_cells[i].get_text() == nbb_unformatted_code) {\n",
       "                             nbb_cells[i].set_text(nbb_formatted_code);\n",
       "                        }\n",
       "                        break;\n",
       "                    }\n",
       "                }\n",
       "            }, 500);\n",
       "            "
      ],
      "text/plain": [
       "<IPython.core.display.Javascript object>"
      ]
     },
     "metadata": {},
     "output_type": "display_data"
    }
   ],
   "source": [
    "n_splits = 5\n",
    "train_size = 0.8\n",
    "\n",
    "pipeline = Pipeline(\n",
    "    [\n",
    "        (\"imputer\", SimpleImputer(strategy=\"median\")),\n",
    "        (\"transformer\", StandardScaler()),\n",
    "        (\"estimator\", LinearRegression()),\n",
    "    ]\n",
    ")\n",
    "cv = BlockingTimeSeriesSplit(n_splits=n_splits, train_size=train_size)\n",
    "scores = cross_validate(\n",
    "    pipeline,\n",
    "    x,\n",
    "    y,\n",
    "    scoring=METRICS,\n",
    "    cv=cv,\n",
    "    n_jobs=-1,\n",
    "    return_train_score=True,\n",
    ")\n",
    "print(\"Blocking Time Series Split:\")\n",
    "print(f\"Repeats: {repeats}\")\n",
    "print(f\"n_splits: {n_splits}\")\n",
    "print()\n",
    "print_scores(scores, METRICS, METRICS_DICT)\n",
    "\n",
    "results_dict_copy = results_dict.copy()\n",
    "results_dict_copy[\"Cross Validation\"] = \"Blocking Time Series Split\"\n",
    "results_dict_copy[\n",
    "    \"Cross Validation Params\"\n",
    "] = '{\"N_Splits\": 5, \"Repeats\": 1, \"train_size\": 0.8}'\n",
    "results_dict_copy[\"Data Shape\"] = x.shape\n",
    "df_results = fill_results_dict(results_dict_copy, scores)\n",
    "results_to_save.append(df_results)"
   ]
  },
  {
   "cell_type": "code",
   "execution_count": 23,
   "id": "90549016",
   "metadata": {
    "execution": {
     "iopub.execute_input": "2024-07-13T21:12:34.406230Z",
     "iopub.status.busy": "2024-07-13T21:12:34.405350Z",
     "iopub.status.idle": "2024-07-13T21:12:34.481724Z",
     "shell.execute_reply": "2024-07-13T21:12:34.480619Z"
    },
    "papermill": {
     "duration": 0.099845,
     "end_time": "2024-07-13T21:12:34.484754",
     "exception": false,
     "start_time": "2024-07-13T21:12:34.384909",
     "status": "completed"
    },
    "tags": []
   },
   "outputs": [
    {
     "data": {
      "text/html": [
       "<div>\n",
       "<style scoped>\n",
       "    .dataframe tbody tr th:only-of-type {\n",
       "        vertical-align: middle;\n",
       "    }\n",
       "\n",
       "    .dataframe tbody tr th {\n",
       "        vertical-align: top;\n",
       "    }\n",
       "\n",
       "    .dataframe thead tr th {\n",
       "        text-align: left;\n",
       "    }\n",
       "</style>\n",
       "<table border=\"1\" class=\"dataframe\">\n",
       "  <thead>\n",
       "    <tr>\n",
       "      <th></th>\n",
       "      <th>Features</th>\n",
       "      <th>Model</th>\n",
       "      <th>Cross Validation</th>\n",
       "      <th>Timesteps</th>\n",
       "      <th colspan=\"2\" halign=\"left\">RMSE Test</th>\n",
       "      <th colspan=\"2\" halign=\"left\">MAE Test</th>\n",
       "      <th colspan=\"2\" halign=\"left\">MAPE Test</th>\n",
       "      <th colspan=\"2\" halign=\"left\">R2 Test</th>\n",
       "    </tr>\n",
       "    <tr>\n",
       "      <th></th>\n",
       "      <th></th>\n",
       "      <th></th>\n",
       "      <th></th>\n",
       "      <th></th>\n",
       "      <th>mean</th>\n",
       "      <th>std</th>\n",
       "      <th>mean</th>\n",
       "      <th>std</th>\n",
       "      <th>mean</th>\n",
       "      <th>std</th>\n",
       "      <th>mean</th>\n",
       "      <th>std</th>\n",
       "    </tr>\n",
       "  </thead>\n",
       "  <tbody>\n",
       "    <tr>\n",
       "      <th>0</th>\n",
       "      <td>Chemical + Mineralogical + Physical</td>\n",
       "      <td>Linear Regression</td>\n",
       "      <td>Blocking Time Series Split</td>\n",
       "      <td>NaN</td>\n",
       "      <td>1.080901</td>\n",
       "      <td>0.098729</td>\n",
       "      <td>0.858103</td>\n",
       "      <td>0.061362</td>\n",
       "      <td>0.019927</td>\n",
       "      <td>0.001509</td>\n",
       "      <td>0.950736</td>\n",
       "      <td>0.011110</td>\n",
       "    </tr>\n",
       "    <tr>\n",
       "      <th>1</th>\n",
       "      <td>Chemical + Mineralogical + Physical</td>\n",
       "      <td>Linear Regression</td>\n",
       "      <td>Repeated KFold</td>\n",
       "      <td>NaN</td>\n",
       "      <td>0.976822</td>\n",
       "      <td>0.036221</td>\n",
       "      <td>0.756527</td>\n",
       "      <td>0.033071</td>\n",
       "      <td>0.017623</td>\n",
       "      <td>0.000795</td>\n",
       "      <td>0.962264</td>\n",
       "      <td>0.003015</td>\n",
       "    </tr>\n",
       "  </tbody>\n",
       "</table>\n",
       "</div>"
      ],
      "text/plain": [
       "                              Features              Model  \\\n",
       "                                                            \n",
       "0  Chemical + Mineralogical + Physical  Linear Regression   \n",
       "1  Chemical + Mineralogical + Physical  Linear Regression   \n",
       "\n",
       "             Cross Validation Timesteps RMSE Test            MAE Test  \\\n",
       "                                             mean       std      mean   \n",
       "0  Blocking Time Series Split       NaN  1.080901  0.098729  0.858103   \n",
       "1              Repeated KFold       NaN  0.976822  0.036221  0.756527   \n",
       "\n",
       "            MAPE Test             R2 Test            \n",
       "        std      mean       std      mean       std  \n",
       "0  0.061362  0.019927  0.001509  0.950736  0.011110  \n",
       "1  0.033071  0.017623  0.000795  0.962264  0.003015  "
      ]
     },
     "execution_count": 23,
     "metadata": {},
     "output_type": "execute_result"
    },
    {
     "data": {
      "application/javascript": [
       "\n",
       "            setTimeout(function() {\n",
       "                var nbb_cell_id = 23;\n",
       "                var nbb_unformatted_code = \"pd.concat(results_to_save).reset_index().groupby(\\n    [\\\"Features\\\", \\\"Model\\\", \\\"Cross Validation\\\", \\\"Timesteps\\\"], dropna=False\\n)[[\\\"RMSE Test\\\", \\\"MAE Test\\\", \\\"MAPE Test\\\", \\\"R2 Test\\\"]].agg(\\n    [\\\"mean\\\", lambda series: pd.Series(series.std(ddof=0), name=\\\"std\\\")]\\n).reset_index().rename(\\n    columns={\\\"<lambda_0>\\\": \\\"std\\\"}\\n)\";\n",
       "                var nbb_formatted_code = \"pd.concat(results_to_save).reset_index().groupby(\\n    [\\\"Features\\\", \\\"Model\\\", \\\"Cross Validation\\\", \\\"Timesteps\\\"], dropna=False\\n)[[\\\"RMSE Test\\\", \\\"MAE Test\\\", \\\"MAPE Test\\\", \\\"R2 Test\\\"]].agg(\\n    [\\\"mean\\\", lambda series: pd.Series(series.std(ddof=0), name=\\\"std\\\")]\\n).reset_index().rename(\\n    columns={\\\"<lambda_0>\\\": \\\"std\\\"}\\n)\";\n",
       "                var nbb_cells = Jupyter.notebook.get_cells();\n",
       "                for (var i = 0; i < nbb_cells.length; ++i) {\n",
       "                    if (nbb_cells[i].input_prompt_number == nbb_cell_id) {\n",
       "                        if (nbb_cells[i].get_text() == nbb_unformatted_code) {\n",
       "                             nbb_cells[i].set_text(nbb_formatted_code);\n",
       "                        }\n",
       "                        break;\n",
       "                    }\n",
       "                }\n",
       "            }, 500);\n",
       "            "
      ],
      "text/plain": [
       "<IPython.core.display.Javascript object>"
      ]
     },
     "metadata": {},
     "output_type": "display_data"
    }
   ],
   "source": [
    "pd.concat(results_to_save).reset_index().groupby(\n",
    "    [\"Features\", \"Model\", \"Cross Validation\", \"Timesteps\"], dropna=False\n",
    ")[[\"RMSE Test\", \"MAE Test\", \"MAPE Test\", \"R2 Test\"]].agg(\n",
    "    [\"mean\", lambda series: pd.Series(series.std(ddof=0), name=\"std\")]\n",
    ").reset_index().rename(\n",
    "    columns={\"<lambda_0>\": \"std\"}\n",
    ")"
   ]
  },
  {
   "cell_type": "markdown",
   "id": "685ff8a1",
   "metadata": {
    "papermill": {
     "duration": 0.023262,
     "end_time": "2024-07-13T21:12:34.540901",
     "exception": false,
     "start_time": "2024-07-13T21:12:34.517639",
     "status": "completed"
    },
    "tags": []
   },
   "source": [
    "## 1.3. Time Series Split Cross Validation\n",
    "\n",
    "The training set has size i * n_samples // (n_splits + 1) + n_samples % (n_splits + 1) in the i th split, with a test set of size n_samples//(n_splits + 1) by default, where n_samples is the number of samples.\n",
    "\n",
    "\n",
    "<b>Dataset shape:</b> (1234, 38)<br>\n",
    "<b>Splits:</b>10<br>    \n",
    "    1. Train: 10 folds of 114, 226, 338, 450, 562, 675, 787, 899, 1011, 1123 samples each fold\n",
    "    2. Test: 112 samples each fold\n",
    "<b>Total:</b> 10 models<br>"
   ]
  },
  {
   "cell_type": "code",
   "execution_count": 24,
   "id": "53baf9d4",
   "metadata": {
    "execution": {
     "iopub.execute_input": "2024-07-13T21:12:34.586756Z",
     "iopub.status.busy": "2024-07-13T21:12:34.586123Z",
     "iopub.status.idle": "2024-07-13T21:12:35.326301Z",
     "shell.execute_reply": "2024-07-13T21:12:35.325226Z"
    },
    "papermill": {
     "duration": 0.769593,
     "end_time": "2024-07-13T21:12:35.328824",
     "exception": false,
     "start_time": "2024-07-13T21:12:34.559231",
     "status": "completed"
    },
    "tags": []
   },
   "outputs": [
    {
     "name": "stdout",
     "output_type": "stream",
     "text": [
      "Time Series Split:\n",
      "Repeats: 3\n",
      "n_splits: 5\n",
      "\n",
      "******\n",
      "[TRAIN]\n",
      "******\n",
      "RMSE: -0.840 (0.072)\n",
      "MAE: -0.654 (0.056)\n",
      "MAPE: -0.015 (0.001)\n",
      "R2: 0.971 (0.004)\n",
      "\n",
      "======================\n",
      "\n",
      "******\n",
      "[TEST]\n",
      "******\n",
      "RMSE: -1.081 (0.031)\n",
      "MAE: -0.847 (0.036)\n",
      "MAPE: -0.020 (0.001)\n",
      "R2: 0.954 (0.004)\n",
      "\n",
      "======================\n",
      "\n"
     ]
    },
    {
     "data": {
      "application/javascript": [
       "\n",
       "            setTimeout(function() {\n",
       "                var nbb_cell_id = 24;\n",
       "                var nbb_unformatted_code = \"n_splits = 5\\ngap = 0\\npipeline = Pipeline(\\n    [\\n        (\\\"imputer\\\", SimpleImputer(strategy=\\\"median\\\")),\\n        (\\\"transformer\\\", StandardScaler()),\\n        (\\\"estimator\\\", LinearRegression()),\\n    ]\\n)\\ncv = TimeSeriesSplit(gap=gap, max_train_size=None, n_splits=n_splits, test_size=None)\\n\\nscores = cross_validate(\\n    pipeline,\\n    x,\\n    y,\\n    scoring=METRICS,\\n    cv=cv,\\n    n_jobs=-1,\\n    return_train_score=True,\\n)\\nprint(\\\"Time Series Split:\\\")\\nprint(f\\\"Repeats: {repeats}\\\")\\nprint(f\\\"n_splits: {n_splits}\\\")\\nprint()\\nprint_scores(scores, METRICS, METRICS_DICT)\";\n",
       "                var nbb_formatted_code = \"n_splits = 5\\ngap = 0\\npipeline = Pipeline(\\n    [\\n        (\\\"imputer\\\", SimpleImputer(strategy=\\\"median\\\")),\\n        (\\\"transformer\\\", StandardScaler()),\\n        (\\\"estimator\\\", LinearRegression()),\\n    ]\\n)\\ncv = TimeSeriesSplit(gap=gap, max_train_size=None, n_splits=n_splits, test_size=None)\\n\\nscores = cross_validate(\\n    pipeline,\\n    x,\\n    y,\\n    scoring=METRICS,\\n    cv=cv,\\n    n_jobs=-1,\\n    return_train_score=True,\\n)\\nprint(\\\"Time Series Split:\\\")\\nprint(f\\\"Repeats: {repeats}\\\")\\nprint(f\\\"n_splits: {n_splits}\\\")\\nprint()\\nprint_scores(scores, METRICS, METRICS_DICT)\";\n",
       "                var nbb_cells = Jupyter.notebook.get_cells();\n",
       "                for (var i = 0; i < nbb_cells.length; ++i) {\n",
       "                    if (nbb_cells[i].input_prompt_number == nbb_cell_id) {\n",
       "                        if (nbb_cells[i].get_text() == nbb_unformatted_code) {\n",
       "                             nbb_cells[i].set_text(nbb_formatted_code);\n",
       "                        }\n",
       "                        break;\n",
       "                    }\n",
       "                }\n",
       "            }, 500);\n",
       "            "
      ],
      "text/plain": [
       "<IPython.core.display.Javascript object>"
      ]
     },
     "metadata": {},
     "output_type": "display_data"
    }
   ],
   "source": [
    "n_splits = 5\n",
    "gap = 0\n",
    "pipeline = Pipeline(\n",
    "    [\n",
    "        (\"imputer\", SimpleImputer(strategy=\"median\")),\n",
    "        (\"transformer\", StandardScaler()),\n",
    "        (\"estimator\", LinearRegression()),\n",
    "    ]\n",
    ")\n",
    "cv = TimeSeriesSplit(gap=gap, max_train_size=None, n_splits=n_splits, test_size=None)\n",
    "\n",
    "scores = cross_validate(\n",
    "    pipeline,\n",
    "    x,\n",
    "    y,\n",
    "    scoring=METRICS,\n",
    "    cv=cv,\n",
    "    n_jobs=-1,\n",
    "    return_train_score=True,\n",
    ")\n",
    "print(\"Time Series Split:\")\n",
    "print(f\"Repeats: {repeats}\")\n",
    "print(f\"n_splits: {n_splits}\")\n",
    "print()\n",
    "print_scores(scores, METRICS, METRICS_DICT)"
   ]
  },
  {
   "cell_type": "code",
   "execution_count": 25,
   "id": "35aad347",
   "metadata": {
    "execution": {
     "iopub.execute_input": "2024-07-13T21:12:35.384440Z",
     "iopub.status.busy": "2024-07-13T21:12:35.383463Z",
     "iopub.status.idle": "2024-07-13T21:12:35.404070Z",
     "shell.execute_reply": "2024-07-13T21:12:35.402832Z"
    },
    "papermill": {
     "duration": 0.050742,
     "end_time": "2024-07-13T21:12:35.406883",
     "exception": false,
     "start_time": "2024-07-13T21:12:35.356141",
     "status": "completed"
    },
    "tags": []
   },
   "outputs": [
    {
     "data": {
      "application/javascript": [
       "\n",
       "            setTimeout(function() {\n",
       "                var nbb_cell_id = 25;\n",
       "                var nbb_unformatted_code = \"results_dict_copy = results_dict.copy()\\nresults_dict_copy[\\\"Cross Validation\\\"] = \\\"Time Series Split\\\"\\nresults_dict_copy[\\\"Cross Validation Params\\\"] = '{\\\"N_Splits\\\": 5, \\\"Repeats\\\": 1, \\\"Gap\\\": 0}'\\nresults_dict_copy[\\\"Data Shape\\\"] = x.shape\\ndf_results = fill_results_dict(results_dict_copy, scores)\\nresults_to_save.append(df_results)\";\n",
       "                var nbb_formatted_code = \"results_dict_copy = results_dict.copy()\\nresults_dict_copy[\\\"Cross Validation\\\"] = \\\"Time Series Split\\\"\\nresults_dict_copy[\\\"Cross Validation Params\\\"] = '{\\\"N_Splits\\\": 5, \\\"Repeats\\\": 1, \\\"Gap\\\": 0}'\\nresults_dict_copy[\\\"Data Shape\\\"] = x.shape\\ndf_results = fill_results_dict(results_dict_copy, scores)\\nresults_to_save.append(df_results)\";\n",
       "                var nbb_cells = Jupyter.notebook.get_cells();\n",
       "                for (var i = 0; i < nbb_cells.length; ++i) {\n",
       "                    if (nbb_cells[i].input_prompt_number == nbb_cell_id) {\n",
       "                        if (nbb_cells[i].get_text() == nbb_unformatted_code) {\n",
       "                             nbb_cells[i].set_text(nbb_formatted_code);\n",
       "                        }\n",
       "                        break;\n",
       "                    }\n",
       "                }\n",
       "            }, 500);\n",
       "            "
      ],
      "text/plain": [
       "<IPython.core.display.Javascript object>"
      ]
     },
     "metadata": {},
     "output_type": "display_data"
    }
   ],
   "source": [
    "results_dict_copy = results_dict.copy()\n",
    "results_dict_copy[\"Cross Validation\"] = \"Time Series Split\"\n",
    "results_dict_copy[\"Cross Validation Params\"] = '{\"N_Splits\": 5, \"Repeats\": 1, \"Gap\": 0}'\n",
    "results_dict_copy[\"Data Shape\"] = x.shape\n",
    "df_results = fill_results_dict(results_dict_copy, scores)\n",
    "results_to_save.append(df_results)"
   ]
  },
  {
   "cell_type": "code",
   "execution_count": 26,
   "id": "c0f89a4b",
   "metadata": {
    "execution": {
     "iopub.execute_input": "2024-07-13T21:12:35.461017Z",
     "iopub.status.busy": "2024-07-13T21:12:35.459966Z",
     "iopub.status.idle": "2024-07-13T21:12:35.684978Z",
     "shell.execute_reply": "2024-07-13T21:12:35.683787Z"
    },
    "papermill": {
     "duration": 0.251609,
     "end_time": "2024-07-13T21:12:35.688111",
     "exception": false,
     "start_time": "2024-07-13T21:12:35.436502",
     "status": "completed"
    },
    "tags": []
   },
   "outputs": [
    {
     "data": {
      "text/html": [
       "<div>\n",
       "<style scoped>\n",
       "    .dataframe tbody tr th:only-of-type {\n",
       "        vertical-align: middle;\n",
       "    }\n",
       "\n",
       "    .dataframe tbody tr th {\n",
       "        vertical-align: top;\n",
       "    }\n",
       "\n",
       "    .dataframe thead tr th {\n",
       "        text-align: left;\n",
       "    }\n",
       "</style>\n",
       "<table border=\"1\" class=\"dataframe\">\n",
       "  <thead>\n",
       "    <tr>\n",
       "      <th></th>\n",
       "      <th>Features</th>\n",
       "      <th>Model</th>\n",
       "      <th>Cross Validation</th>\n",
       "      <th colspan=\"2\" halign=\"left\">RMSE Test</th>\n",
       "      <th colspan=\"2\" halign=\"left\">MAE Test</th>\n",
       "      <th colspan=\"2\" halign=\"left\">MAPE Test</th>\n",
       "      <th colspan=\"2\" halign=\"left\">R2 Test</th>\n",
       "    </tr>\n",
       "    <tr>\n",
       "      <th></th>\n",
       "      <th></th>\n",
       "      <th></th>\n",
       "      <th></th>\n",
       "      <th>mean</th>\n",
       "      <th>std</th>\n",
       "      <th>mean</th>\n",
       "      <th>std</th>\n",
       "      <th>mean</th>\n",
       "      <th>std</th>\n",
       "      <th>mean</th>\n",
       "      <th>std</th>\n",
       "    </tr>\n",
       "  </thead>\n",
       "  <tbody>\n",
       "    <tr>\n",
       "      <th>0</th>\n",
       "      <td>Chemical + Mineralogical + Physical</td>\n",
       "      <td>Linear Regression</td>\n",
       "      <td>Blocking Time Series Split</td>\n",
       "      <td>1.080901</td>\n",
       "      <td>0.098729</td>\n",
       "      <td>0.858103</td>\n",
       "      <td>0.061362</td>\n",
       "      <td>0.019927</td>\n",
       "      <td>0.001509</td>\n",
       "      <td>0.950736</td>\n",
       "      <td>0.011110</td>\n",
       "    </tr>\n",
       "    <tr>\n",
       "      <th>1</th>\n",
       "      <td>Chemical + Mineralogical + Physical</td>\n",
       "      <td>Linear Regression</td>\n",
       "      <td>Repeated KFold</td>\n",
       "      <td>0.976822</td>\n",
       "      <td>0.036221</td>\n",
       "      <td>0.756527</td>\n",
       "      <td>0.033071</td>\n",
       "      <td>0.017623</td>\n",
       "      <td>0.000795</td>\n",
       "      <td>0.962264</td>\n",
       "      <td>0.003015</td>\n",
       "    </tr>\n",
       "    <tr>\n",
       "      <th>2</th>\n",
       "      <td>Chemical + Mineralogical + Physical</td>\n",
       "      <td>Linear Regression</td>\n",
       "      <td>Time Series Split</td>\n",
       "      <td>1.081374</td>\n",
       "      <td>0.030586</td>\n",
       "      <td>0.847352</td>\n",
       "      <td>0.035983</td>\n",
       "      <td>0.019657</td>\n",
       "      <td>0.000929</td>\n",
       "      <td>0.954137</td>\n",
       "      <td>0.003698</td>\n",
       "    </tr>\n",
       "  </tbody>\n",
       "</table>\n",
       "</div>"
      ],
      "text/plain": [
       "                              Features              Model  \\\n",
       "                                                            \n",
       "0  Chemical + Mineralogical + Physical  Linear Regression   \n",
       "1  Chemical + Mineralogical + Physical  Linear Regression   \n",
       "2  Chemical + Mineralogical + Physical  Linear Regression   \n",
       "\n",
       "             Cross Validation RMSE Test            MAE Test            \\\n",
       "                                   mean       std      mean       std   \n",
       "0  Blocking Time Series Split  1.080901  0.098729  0.858103  0.061362   \n",
       "1              Repeated KFold  0.976822  0.036221  0.756527  0.033071   \n",
       "2           Time Series Split  1.081374  0.030586  0.847352  0.035983   \n",
       "\n",
       "  MAPE Test             R2 Test            \n",
       "       mean       std      mean       std  \n",
       "0  0.019927  0.001509  0.950736  0.011110  \n",
       "1  0.017623  0.000795  0.962264  0.003015  \n",
       "2  0.019657  0.000929  0.954137  0.003698  "
      ]
     },
     "execution_count": 26,
     "metadata": {},
     "output_type": "execute_result"
    },
    {
     "data": {
      "application/javascript": [
       "\n",
       "            setTimeout(function() {\n",
       "                var nbb_cell_id = 26;\n",
       "                var nbb_unformatted_code = \"pd.concat(results_to_save).groupby([\\\"Features\\\", \\\"Model\\\", \\\"Cross Validation\\\"])[\\n    [\\\"RMSE Test\\\", \\\"MAE Test\\\", \\\"MAPE Test\\\", \\\"R2 Test\\\"]\\n].agg(\\n    [\\\"mean\\\", lambda series: pd.Series(series.std(ddof=0), name=\\\"std\\\")]\\n).reset_index().rename(\\n    columns={\\\"<lambda_0>\\\": \\\"std\\\"}\\n)\";\n",
       "                var nbb_formatted_code = \"pd.concat(results_to_save).groupby([\\\"Features\\\", \\\"Model\\\", \\\"Cross Validation\\\"])[\\n    [\\\"RMSE Test\\\", \\\"MAE Test\\\", \\\"MAPE Test\\\", \\\"R2 Test\\\"]\\n].agg(\\n    [\\\"mean\\\", lambda series: pd.Series(series.std(ddof=0), name=\\\"std\\\")]\\n).reset_index().rename(\\n    columns={\\\"<lambda_0>\\\": \\\"std\\\"}\\n)\";\n",
       "                var nbb_cells = Jupyter.notebook.get_cells();\n",
       "                for (var i = 0; i < nbb_cells.length; ++i) {\n",
       "                    if (nbb_cells[i].input_prompt_number == nbb_cell_id) {\n",
       "                        if (nbb_cells[i].get_text() == nbb_unformatted_code) {\n",
       "                             nbb_cells[i].set_text(nbb_formatted_code);\n",
       "                        }\n",
       "                        break;\n",
       "                    }\n",
       "                }\n",
       "            }, 500);\n",
       "            "
      ],
      "text/plain": [
       "<IPython.core.display.Javascript object>"
      ]
     },
     "metadata": {},
     "output_type": "display_data"
    }
   ],
   "source": [
    "pd.concat(results_to_save).groupby([\"Features\", \"Model\", \"Cross Validation\"])[\n",
    "    [\"RMSE Test\", \"MAE Test\", \"MAPE Test\", \"R2 Test\"]\n",
    "].agg(\n",
    "    [\"mean\", lambda series: pd.Series(series.std(ddof=0), name=\"std\")]\n",
    ").reset_index().rename(\n",
    "    columns={\"<lambda_0>\": \"std\"}\n",
    ")"
   ]
  },
  {
   "cell_type": "markdown",
   "id": "d4ea7fc8",
   "metadata": {
    "papermill": {
     "duration": 0.027636,
     "end_time": "2024-07-13T21:12:35.750513",
     "exception": false,
     "start_time": "2024-07-13T21:12:35.722877",
     "status": "completed"
    },
    "tags": []
   },
   "source": [
    "## 1.4. Out of time Split Cross Validation\n",
    "\n",
    "<b>Dataset shape:</b> (1234, 38)<br>\n",
    "<b>Train size: 80%</b><br>\n",
    "<b>Test  size: 20%</b>\n",
    "\n",
    "\n",
    "<b>Splits:</b> 2<br>    \n",
    "    1. Train: 987\n",
    "    2. Test: 247\n",
    "<b>Total:</b> 1 model<br>"
   ]
  },
  {
   "cell_type": "code",
   "execution_count": 27,
   "id": "b973f7df",
   "metadata": {
    "execution": {
     "iopub.execute_input": "2024-07-13T21:12:35.790153Z",
     "iopub.status.busy": "2024-07-13T21:12:35.789358Z",
     "iopub.status.idle": "2024-07-13T21:12:35.924392Z",
     "shell.execute_reply": "2024-07-13T21:12:35.923290Z"
    },
    "papermill": {
     "duration": 0.155989,
     "end_time": "2024-07-13T21:12:35.926240",
     "exception": false,
     "start_time": "2024-07-13T21:12:35.770251",
     "status": "completed"
    },
    "scrolled": true,
    "tags": []
   },
   "outputs": [
    {
     "name": "stdout",
     "output_type": "stream",
     "text": [
      "******\n",
      "[TRAIN]\n",
      "******\n",
      "RMSE: 0.915 (0.000)\n",
      "MAE: 0.713 (0.000)\n",
      "MAPE: 0.017 (0.000)\n",
      "R2: 0.967 (0.000)\n",
      "\n",
      "======================\n",
      "\n",
      "******\n",
      "[TEST]\n",
      "******\n",
      "RMSE: 1.065 (0.000)\n",
      "MAE: 0.836 (0.000)\n",
      "MAPE: 0.019 (0.000)\n",
      "R2: 0.954 (0.000)\n",
      "\n",
      "======================\n",
      "\n"
     ]
    },
    {
     "data": {
      "application/javascript": [
       "\n",
       "            setTimeout(function() {\n",
       "                var nbb_cell_id = 27;\n",
       "                var nbb_unformatted_code = \"test_size = 0.2\\n\\nx_train, x_test, y_train, y_test = train_test_split(\\n    x, y, test_size=test_size, random_state=SEED, shuffle=False\\n)\\npipeline = Pipeline(\\n    [\\n        (\\\"imputer\\\", SimpleImputer(strategy=\\\"median\\\")),\\n        (\\\"transformer\\\", StandardScaler()),\\n        (\\\"estimator\\\", LinearRegression()),\\n    ]\\n)\\n\\npipeline.fit(x_train, y_train)\\n\\ny_train_pred = pipeline.predict(x_train)\\ny_test_pred = pipeline.predict(x_test)\\n\\nscores = score_regression_metrics(y_train, y_train_pred, y_test, y_test_pred)\\nprint_scores(scores, METRICS, METRICS_DICT)\";\n",
       "                var nbb_formatted_code = \"test_size = 0.2\\n\\nx_train, x_test, y_train, y_test = train_test_split(\\n    x, y, test_size=test_size, random_state=SEED, shuffle=False\\n)\\npipeline = Pipeline(\\n    [\\n        (\\\"imputer\\\", SimpleImputer(strategy=\\\"median\\\")),\\n        (\\\"transformer\\\", StandardScaler()),\\n        (\\\"estimator\\\", LinearRegression()),\\n    ]\\n)\\n\\npipeline.fit(x_train, y_train)\\n\\ny_train_pred = pipeline.predict(x_train)\\ny_test_pred = pipeline.predict(x_test)\\n\\nscores = score_regression_metrics(y_train, y_train_pred, y_test, y_test_pred)\\nprint_scores(scores, METRICS, METRICS_DICT)\";\n",
       "                var nbb_cells = Jupyter.notebook.get_cells();\n",
       "                for (var i = 0; i < nbb_cells.length; ++i) {\n",
       "                    if (nbb_cells[i].input_prompt_number == nbb_cell_id) {\n",
       "                        if (nbb_cells[i].get_text() == nbb_unformatted_code) {\n",
       "                             nbb_cells[i].set_text(nbb_formatted_code);\n",
       "                        }\n",
       "                        break;\n",
       "                    }\n",
       "                }\n",
       "            }, 500);\n",
       "            "
      ],
      "text/plain": [
       "<IPython.core.display.Javascript object>"
      ]
     },
     "metadata": {},
     "output_type": "display_data"
    }
   ],
   "source": [
    "test_size = 0.2\n",
    "\n",
    "x_train, x_test, y_train, y_test = train_test_split(\n",
    "    x, y, test_size=test_size, random_state=SEED, shuffle=False\n",
    ")\n",
    "pipeline = Pipeline(\n",
    "    [\n",
    "        (\"imputer\", SimpleImputer(strategy=\"median\")),\n",
    "        (\"transformer\", StandardScaler()),\n",
    "        (\"estimator\", LinearRegression()),\n",
    "    ]\n",
    ")\n",
    "\n",
    "pipeline.fit(x_train, y_train)\n",
    "\n",
    "y_train_pred = pipeline.predict(x_train)\n",
    "y_test_pred = pipeline.predict(x_test)\n",
    "\n",
    "scores = score_regression_metrics(y_train, y_train_pred, y_test, y_test_pred)\n",
    "print_scores(scores, METRICS, METRICS_DICT)"
   ]
  },
  {
   "cell_type": "code",
   "execution_count": 28,
   "id": "c71eade0",
   "metadata": {
    "execution": {
     "iopub.execute_input": "2024-07-13T21:12:35.970660Z",
     "iopub.status.busy": "2024-07-13T21:12:35.970369Z",
     "iopub.status.idle": "2024-07-13T21:12:35.979727Z",
     "shell.execute_reply": "2024-07-13T21:12:35.979258Z"
    },
    "papermill": {
     "duration": 0.024924,
     "end_time": "2024-07-13T21:12:35.980932",
     "exception": false,
     "start_time": "2024-07-13T21:12:35.956008",
     "status": "completed"
    },
    "tags": []
   },
   "outputs": [
    {
     "data": {
      "application/javascript": [
       "\n",
       "            setTimeout(function() {\n",
       "                var nbb_cell_id = 28;\n",
       "                var nbb_unformatted_code = \"results_dict_copy = results_dict.copy()\\nresults_dict_copy[\\\"Cross Validation\\\"] = \\\"Out of time Split\\\"\\nresults_dict_copy[\\\"Cross Validation Params\\\"] = '{\\\"Test Size\\\": 0.2}'\\nresults_dict_copy[\\\"Data Shape\\\"] = x.shape\\ndf_results = fill_results_dict(\\n    results_dict_copy, {key: [value] for key, value in scores.items()}\\n)\\nresults_to_save.append(df_results)\";\n",
       "                var nbb_formatted_code = \"results_dict_copy = results_dict.copy()\\nresults_dict_copy[\\\"Cross Validation\\\"] = \\\"Out of time Split\\\"\\nresults_dict_copy[\\\"Cross Validation Params\\\"] = '{\\\"Test Size\\\": 0.2}'\\nresults_dict_copy[\\\"Data Shape\\\"] = x.shape\\ndf_results = fill_results_dict(\\n    results_dict_copy, {key: [value] for key, value in scores.items()}\\n)\\nresults_to_save.append(df_results)\";\n",
       "                var nbb_cells = Jupyter.notebook.get_cells();\n",
       "                for (var i = 0; i < nbb_cells.length; ++i) {\n",
       "                    if (nbb_cells[i].input_prompt_number == nbb_cell_id) {\n",
       "                        if (nbb_cells[i].get_text() == nbb_unformatted_code) {\n",
       "                             nbb_cells[i].set_text(nbb_formatted_code);\n",
       "                        }\n",
       "                        break;\n",
       "                    }\n",
       "                }\n",
       "            }, 500);\n",
       "            "
      ],
      "text/plain": [
       "<IPython.core.display.Javascript object>"
      ]
     },
     "metadata": {},
     "output_type": "display_data"
    }
   ],
   "source": [
    "results_dict_copy = results_dict.copy()\n",
    "results_dict_copy[\"Cross Validation\"] = \"Out of time Split\"\n",
    "results_dict_copy[\"Cross Validation Params\"] = '{\"Test Size\": 0.2}'\n",
    "results_dict_copy[\"Data Shape\"] = x.shape\n",
    "df_results = fill_results_dict(\n",
    "    results_dict_copy, {key: [value] for key, value in scores.items()}\n",
    ")\n",
    "results_to_save.append(df_results)"
   ]
  },
  {
   "cell_type": "code",
   "execution_count": 29,
   "id": "f9c9d887",
   "metadata": {
    "execution": {
     "iopub.execute_input": "2024-07-13T21:12:36.014638Z",
     "iopub.status.busy": "2024-07-13T21:12:36.014292Z",
     "iopub.status.idle": "2024-07-13T21:12:36.221604Z",
     "shell.execute_reply": "2024-07-13T21:12:36.220472Z"
    },
    "papermill": {
     "duration": 0.228927,
     "end_time": "2024-07-13T21:12:36.223769",
     "exception": false,
     "start_time": "2024-07-13T21:12:35.994842",
     "status": "completed"
    },
    "tags": []
   },
   "outputs": [
    {
     "data": {
      "text/html": [
       "<div>\n",
       "<style scoped>\n",
       "    .dataframe tbody tr th:only-of-type {\n",
       "        vertical-align: middle;\n",
       "    }\n",
       "\n",
       "    .dataframe tbody tr th {\n",
       "        vertical-align: top;\n",
       "    }\n",
       "\n",
       "    .dataframe thead tr th {\n",
       "        text-align: left;\n",
       "    }\n",
       "</style>\n",
       "<table border=\"1\" class=\"dataframe\">\n",
       "  <thead>\n",
       "    <tr>\n",
       "      <th></th>\n",
       "      <th>Features</th>\n",
       "      <th>Model</th>\n",
       "      <th>Cross Validation</th>\n",
       "      <th colspan=\"2\" halign=\"left\">RMSE Test</th>\n",
       "      <th colspan=\"2\" halign=\"left\">MAE Test</th>\n",
       "      <th colspan=\"2\" halign=\"left\">MAPE Test</th>\n",
       "      <th colspan=\"2\" halign=\"left\">R2 Test</th>\n",
       "    </tr>\n",
       "    <tr>\n",
       "      <th></th>\n",
       "      <th></th>\n",
       "      <th></th>\n",
       "      <th></th>\n",
       "      <th>mean</th>\n",
       "      <th>std</th>\n",
       "      <th>mean</th>\n",
       "      <th>std</th>\n",
       "      <th>mean</th>\n",
       "      <th>std</th>\n",
       "      <th>mean</th>\n",
       "      <th>std</th>\n",
       "    </tr>\n",
       "  </thead>\n",
       "  <tbody>\n",
       "    <tr>\n",
       "      <th>0</th>\n",
       "      <td>Chemical + Mineralogical + Physical</td>\n",
       "      <td>Linear Regression</td>\n",
       "      <td>Blocking Time Series Split</td>\n",
       "      <td>1.080901</td>\n",
       "      <td>0.098729</td>\n",
       "      <td>0.858103</td>\n",
       "      <td>0.061362</td>\n",
       "      <td>0.019927</td>\n",
       "      <td>0.001509</td>\n",
       "      <td>0.950736</td>\n",
       "      <td>0.011110</td>\n",
       "    </tr>\n",
       "    <tr>\n",
       "      <th>1</th>\n",
       "      <td>Chemical + Mineralogical + Physical</td>\n",
       "      <td>Linear Regression</td>\n",
       "      <td>Out of time Split</td>\n",
       "      <td>1.065179</td>\n",
       "      <td>0.000000</td>\n",
       "      <td>0.835774</td>\n",
       "      <td>0.000000</td>\n",
       "      <td>0.019295</td>\n",
       "      <td>0.000000</td>\n",
       "      <td>0.954163</td>\n",
       "      <td>0.000000</td>\n",
       "    </tr>\n",
       "    <tr>\n",
       "      <th>2</th>\n",
       "      <td>Chemical + Mineralogical + Physical</td>\n",
       "      <td>Linear Regression</td>\n",
       "      <td>Repeated KFold</td>\n",
       "      <td>0.976822</td>\n",
       "      <td>0.036221</td>\n",
       "      <td>0.756527</td>\n",
       "      <td>0.033071</td>\n",
       "      <td>0.017623</td>\n",
       "      <td>0.000795</td>\n",
       "      <td>0.962264</td>\n",
       "      <td>0.003015</td>\n",
       "    </tr>\n",
       "    <tr>\n",
       "      <th>3</th>\n",
       "      <td>Chemical + Mineralogical + Physical</td>\n",
       "      <td>Linear Regression</td>\n",
       "      <td>Time Series Split</td>\n",
       "      <td>1.081374</td>\n",
       "      <td>0.030586</td>\n",
       "      <td>0.847352</td>\n",
       "      <td>0.035983</td>\n",
       "      <td>0.019657</td>\n",
       "      <td>0.000929</td>\n",
       "      <td>0.954137</td>\n",
       "      <td>0.003698</td>\n",
       "    </tr>\n",
       "  </tbody>\n",
       "</table>\n",
       "</div>"
      ],
      "text/plain": [
       "                              Features              Model  \\\n",
       "                                                            \n",
       "0  Chemical + Mineralogical + Physical  Linear Regression   \n",
       "1  Chemical + Mineralogical + Physical  Linear Regression   \n",
       "2  Chemical + Mineralogical + Physical  Linear Regression   \n",
       "3  Chemical + Mineralogical + Physical  Linear Regression   \n",
       "\n",
       "             Cross Validation RMSE Test            MAE Test            \\\n",
       "                                   mean       std      mean       std   \n",
       "0  Blocking Time Series Split  1.080901  0.098729  0.858103  0.061362   \n",
       "1           Out of time Split  1.065179  0.000000  0.835774  0.000000   \n",
       "2              Repeated KFold  0.976822  0.036221  0.756527  0.033071   \n",
       "3           Time Series Split  1.081374  0.030586  0.847352  0.035983   \n",
       "\n",
       "  MAPE Test             R2 Test            \n",
       "       mean       std      mean       std  \n",
       "0  0.019927  0.001509  0.950736  0.011110  \n",
       "1  0.019295  0.000000  0.954163  0.000000  \n",
       "2  0.017623  0.000795  0.962264  0.003015  \n",
       "3  0.019657  0.000929  0.954137  0.003698  "
      ]
     },
     "execution_count": 29,
     "metadata": {},
     "output_type": "execute_result"
    },
    {
     "data": {
      "application/javascript": [
       "\n",
       "            setTimeout(function() {\n",
       "                var nbb_cell_id = 29;\n",
       "                var nbb_unformatted_code = \"pd.concat(results_to_save).groupby([\\\"Features\\\", \\\"Model\\\", \\\"Cross Validation\\\"])[\\n    [\\\"RMSE Test\\\", \\\"MAE Test\\\", \\\"MAPE Test\\\", \\\"R2 Test\\\"]\\n].agg(\\n    [\\\"mean\\\", lambda series: pd.Series(series.std(ddof=0), name=\\\"std\\\")]\\n).reset_index().rename(\\n    columns={\\\"<lambda_0>\\\": \\\"std\\\"}\\n)\";\n",
       "                var nbb_formatted_code = \"pd.concat(results_to_save).groupby([\\\"Features\\\", \\\"Model\\\", \\\"Cross Validation\\\"])[\\n    [\\\"RMSE Test\\\", \\\"MAE Test\\\", \\\"MAPE Test\\\", \\\"R2 Test\\\"]\\n].agg(\\n    [\\\"mean\\\", lambda series: pd.Series(series.std(ddof=0), name=\\\"std\\\")]\\n).reset_index().rename(\\n    columns={\\\"<lambda_0>\\\": \\\"std\\\"}\\n)\";\n",
       "                var nbb_cells = Jupyter.notebook.get_cells();\n",
       "                for (var i = 0; i < nbb_cells.length; ++i) {\n",
       "                    if (nbb_cells[i].input_prompt_number == nbb_cell_id) {\n",
       "                        if (nbb_cells[i].get_text() == nbb_unformatted_code) {\n",
       "                             nbb_cells[i].set_text(nbb_formatted_code);\n",
       "                        }\n",
       "                        break;\n",
       "                    }\n",
       "                }\n",
       "            }, 500);\n",
       "            "
      ],
      "text/plain": [
       "<IPython.core.display.Javascript object>"
      ]
     },
     "metadata": {},
     "output_type": "display_data"
    }
   ],
   "source": [
    "pd.concat(results_to_save).groupby([\"Features\", \"Model\", \"Cross Validation\"])[\n",
    "    [\"RMSE Test\", \"MAE Test\", \"MAPE Test\", \"R2 Test\"]\n",
    "].agg(\n",
    "    [\"mean\", lambda series: pd.Series(series.std(ddof=0), name=\"std\")]\n",
    ").reset_index().rename(\n",
    "    columns={\"<lambda_0>\": \"std\"}\n",
    ")"
   ]
  },
  {
   "cell_type": "markdown",
   "id": "d0cf227c",
   "metadata": {
    "papermill": {
     "duration": 0.021276,
     "end_time": "2024-07-13T21:12:36.267052",
     "exception": false,
     "start_time": "2024-07-13T21:12:36.245776",
     "status": "completed"
    },
    "tags": []
   },
   "source": [
    "## 1.5 Blocking Time Series - Period Specific"
   ]
  },
  {
   "cell_type": "markdown",
   "id": "c9bc10f8",
   "metadata": {
    "papermill": {
     "duration": 0.017037,
     "end_time": "2024-07-13T21:12:36.318155",
     "exception": false,
     "start_time": "2024-07-13T21:12:36.301118",
     "status": "completed"
    },
    "tags": []
   },
   "source": [
    "### 1.5.1 Train 3 months and predicts one week every year"
   ]
  },
  {
   "cell_type": "code",
   "execution_count": 30,
   "id": "913e4492",
   "metadata": {
    "execution": {
     "iopub.execute_input": "2024-07-13T21:12:36.354139Z",
     "iopub.status.busy": "2024-07-13T21:12:36.352959Z",
     "iopub.status.idle": "2024-07-13T21:12:36.854296Z",
     "shell.execute_reply": "2024-07-13T21:12:36.853412Z"
    },
    "papermill": {
     "duration": 0.521252,
     "end_time": "2024-07-13T21:12:36.856465",
     "exception": false,
     "start_time": "2024-07-13T21:12:36.335213",
     "status": "completed"
    },
    "scrolled": true,
    "tags": []
   },
   "outputs": [
    {
     "name": "stdout",
     "output_type": "stream",
     "text": [
      "******\n",
      "[TRAIN]\n",
      "******\n",
      "RMSE: 0.758 (0.057)\n",
      "MAE: 0.595 (0.054)\n",
      "MAPE: 0.014 (0.001)\n",
      "R2: 0.978 (0.005)\n",
      "\n",
      "======================\n",
      "\n",
      "******\n",
      "[TEST]\n",
      "******\n",
      "RMSE: 1.013 (0.148)\n",
      "MAE: 0.795 (0.124)\n",
      "MAPE: 0.018 (0.003)\n",
      "R2: 0.957 (0.013)\n",
      "\n",
      "======================\n",
      "\n"
     ]
    },
    {
     "data": {
      "application/javascript": [
       "\n",
       "            setTimeout(function() {\n",
       "                var nbb_cell_id = 30;\n",
       "                var nbb_unformatted_code = \"scores = repeated_blocking_time_series(\\n    LinearRegression,\\n    StandardScaler,\\n    SimpleImputer,\\n    x,\\n    y,\\n    train_period=90,\\n    test_period=7,\\n    repeats=10,\\n    imputer_params={\\\"strategy\\\": \\\"median\\\"},\\n    dates=dates,\\n)\\nprint_scores(scores[0], METRICS, METRICS_DICT)\\n\\n# results_dict_copy = results_dict.copy()\\n# results_dict_copy[\\\"Cross Validation\\\"] = \\\"Blocking Time Series\\\"\\n# results_dict_copy[\\n#     \\\"Cross Validation Params\\\"\\n# ] = '{\\\"Train Period\\\": 90, \\\"Test Period\\\": 7, \\\"Method\\\": \\\"Dates\\\"}'\\n# results_dict_copy[\\\"Data Shape\\\"] = x.shape\\n# df_results = fill_results_dict(results_dict_copy, scores[0])\\n# results_to_save.append(df_results)\";\n",
       "                var nbb_formatted_code = \"scores = repeated_blocking_time_series(\\n    LinearRegression,\\n    StandardScaler,\\n    SimpleImputer,\\n    x,\\n    y,\\n    train_period=90,\\n    test_period=7,\\n    repeats=10,\\n    imputer_params={\\\"strategy\\\": \\\"median\\\"},\\n    dates=dates,\\n)\\nprint_scores(scores[0], METRICS, METRICS_DICT)\\n\\n# results_dict_copy = results_dict.copy()\\n# results_dict_copy[\\\"Cross Validation\\\"] = \\\"Blocking Time Series\\\"\\n# results_dict_copy[\\n#     \\\"Cross Validation Params\\\"\\n# ] = '{\\\"Train Period\\\": 90, \\\"Test Period\\\": 7, \\\"Method\\\": \\\"Dates\\\"}'\\n# results_dict_copy[\\\"Data Shape\\\"] = x.shape\\n# df_results = fill_results_dict(results_dict_copy, scores[0])\\n# results_to_save.append(df_results)\";\n",
       "                var nbb_cells = Jupyter.notebook.get_cells();\n",
       "                for (var i = 0; i < nbb_cells.length; ++i) {\n",
       "                    if (nbb_cells[i].input_prompt_number == nbb_cell_id) {\n",
       "                        if (nbb_cells[i].get_text() == nbb_unformatted_code) {\n",
       "                             nbb_cells[i].set_text(nbb_formatted_code);\n",
       "                        }\n",
       "                        break;\n",
       "                    }\n",
       "                }\n",
       "            }, 500);\n",
       "            "
      ],
      "text/plain": [
       "<IPython.core.display.Javascript object>"
      ]
     },
     "metadata": {},
     "output_type": "display_data"
    }
   ],
   "source": [
    "scores = repeated_blocking_time_series(\n",
    "    LinearRegression,\n",
    "    StandardScaler,\n",
    "    SimpleImputer,\n",
    "    x,\n",
    "    y,\n",
    "    train_period=90,\n",
    "    test_period=7,\n",
    "    repeats=10,\n",
    "    imputer_params={\"strategy\": \"median\"},\n",
    "    dates=dates,\n",
    ")\n",
    "print_scores(scores[0], METRICS, METRICS_DICT)\n",
    "\n",
    "# results_dict_copy = results_dict.copy()\n",
    "# results_dict_copy[\"Cross Validation\"] = \"Blocking Time Series\"\n",
    "# results_dict_copy[\n",
    "#     \"Cross Validation Params\"\n",
    "# ] = '{\"Train Period\": 90, \"Test Period\": 7, \"Method\": \"Dates\"}'\n",
    "# results_dict_copy[\"Data Shape\"] = x.shape\n",
    "# df_results = fill_results_dict(results_dict_copy, scores[0])\n",
    "# results_to_save.append(df_results)"
   ]
  },
  {
   "cell_type": "markdown",
   "id": "110a233d",
   "metadata": {
    "papermill": {
     "duration": 0.022725,
     "end_time": "2024-07-13T21:12:36.902506",
     "exception": false,
     "start_time": "2024-07-13T21:12:36.879781",
     "status": "completed"
    },
    "tags": []
   },
   "source": [
    "### 1.5.2 Train 3 months and predicts one month every year"
   ]
  },
  {
   "cell_type": "code",
   "execution_count": 31,
   "id": "80acf225",
   "metadata": {
    "execution": {
     "iopub.execute_input": "2024-07-13T21:12:36.942023Z",
     "iopub.status.busy": "2024-07-13T21:12:36.941741Z",
     "iopub.status.idle": "2024-07-13T21:12:37.040001Z",
     "shell.execute_reply": "2024-07-13T21:12:37.038974Z"
    },
    "papermill": {
     "duration": 0.119519,
     "end_time": "2024-07-13T21:12:37.041981",
     "exception": false,
     "start_time": "2024-07-13T21:12:36.922462",
     "status": "completed"
    },
    "tags": []
   },
   "outputs": [
    {
     "data": {
      "application/javascript": [
       "\n",
       "            setTimeout(function() {\n",
       "                var nbb_cell_id = 31;\n",
       "                var nbb_unformatted_code = \"scores = repeated_blocking_time_series(\\n    LinearRegression,\\n    StandardScaler,\\n    SimpleImputer,\\n    x,\\n    y,\\n    train_period=90,\\n    test_period=30,\\n    repeats=1,\\n    imputer_params={\\\"strategy\\\": \\\"median\\\"},\\n    dates=dates,\\n)\\n# print_scores(scores[0], METRICS, METRICS_DICT)\\n\\n# results_dict_copy = results_dict.copy()\\n# results_dict_copy[\\\"Cross Validation\\\"] = \\\"Blocking Time Series\\\"\\n# results_dict_copy[\\n#     \\\"Cross Validation Params\\\"\\n# ] = '{\\\"Train Period\\\": 90, \\\"Test Period\\\": 30, \\\"Method\\\": \\\"Dates\\\"}'\\n# results_dict_copy[\\\"Data Shape\\\"] = x.shape\\n# df_results = fill_results_dict(results_dict_copy, scores[0])\\n# results_to_save.append(df_results)\";\n",
       "                var nbb_formatted_code = \"scores = repeated_blocking_time_series(\\n    LinearRegression,\\n    StandardScaler,\\n    SimpleImputer,\\n    x,\\n    y,\\n    train_period=90,\\n    test_period=30,\\n    repeats=1,\\n    imputer_params={\\\"strategy\\\": \\\"median\\\"},\\n    dates=dates,\\n)\\n# print_scores(scores[0], METRICS, METRICS_DICT)\\n\\n# results_dict_copy = results_dict.copy()\\n# results_dict_copy[\\\"Cross Validation\\\"] = \\\"Blocking Time Series\\\"\\n# results_dict_copy[\\n#     \\\"Cross Validation Params\\\"\\n# ] = '{\\\"Train Period\\\": 90, \\\"Test Period\\\": 30, \\\"Method\\\": \\\"Dates\\\"}'\\n# results_dict_copy[\\\"Data Shape\\\"] = x.shape\\n# df_results = fill_results_dict(results_dict_copy, scores[0])\\n# results_to_save.append(df_results)\";\n",
       "                var nbb_cells = Jupyter.notebook.get_cells();\n",
       "                for (var i = 0; i < nbb_cells.length; ++i) {\n",
       "                    if (nbb_cells[i].input_prompt_number == nbb_cell_id) {\n",
       "                        if (nbb_cells[i].get_text() == nbb_unformatted_code) {\n",
       "                             nbb_cells[i].set_text(nbb_formatted_code);\n",
       "                        }\n",
       "                        break;\n",
       "                    }\n",
       "                }\n",
       "            }, 500);\n",
       "            "
      ],
      "text/plain": [
       "<IPython.core.display.Javascript object>"
      ]
     },
     "metadata": {},
     "output_type": "display_data"
    }
   ],
   "source": [
    "scores = repeated_blocking_time_series(\n",
    "    LinearRegression,\n",
    "    StandardScaler,\n",
    "    SimpleImputer,\n",
    "    x,\n",
    "    y,\n",
    "    train_period=90,\n",
    "    test_period=30,\n",
    "    repeats=1,\n",
    "    imputer_params={\"strategy\": \"median\"},\n",
    "    dates=dates,\n",
    ")\n",
    "# print_scores(scores[0], METRICS, METRICS_DICT)\n",
    "\n",
    "# results_dict_copy = results_dict.copy()\n",
    "# results_dict_copy[\"Cross Validation\"] = \"Blocking Time Series\"\n",
    "# results_dict_copy[\n",
    "#     \"Cross Validation Params\"\n",
    "# ] = '{\"Train Period\": 90, \"Test Period\": 30, \"Method\": \"Dates\"}'\n",
    "# results_dict_copy[\"Data Shape\"] = x.shape\n",
    "# df_results = fill_results_dict(results_dict_copy, scores[0])\n",
    "# results_to_save.append(df_results)"
   ]
  },
  {
   "cell_type": "markdown",
   "id": "20f8625f",
   "metadata": {
    "papermill": {
     "duration": 0.021854,
     "end_time": "2024-07-13T21:12:37.086200",
     "exception": false,
     "start_time": "2024-07-13T21:12:37.064346",
     "status": "completed"
    },
    "tags": []
   },
   "source": [
    "### 1.5.3 Train 6 months and predicts one week every year"
   ]
  },
  {
   "cell_type": "code",
   "execution_count": 32,
   "id": "e0821e8a",
   "metadata": {
    "execution": {
     "iopub.execute_input": "2024-07-13T21:12:37.128494Z",
     "iopub.status.busy": "2024-07-13T21:12:37.128018Z",
     "iopub.status.idle": "2024-07-13T21:12:37.268392Z",
     "shell.execute_reply": "2024-07-13T21:12:37.267543Z"
    },
    "papermill": {
     "duration": 0.163151,
     "end_time": "2024-07-13T21:12:37.270607",
     "exception": false,
     "start_time": "2024-07-13T21:12:37.107456",
     "status": "completed"
    },
    "tags": []
   },
   "outputs": [
    {
     "name": "stdout",
     "output_type": "stream",
     "text": [
      "******\n",
      "[TRAIN]\n",
      "******\n",
      "RMSE: 0.849 (0.056)\n",
      "MAE: 0.669 (0.043)\n",
      "MAPE: 0.016 (0.001)\n",
      "R2: 0.972 (0.005)\n",
      "\n",
      "======================\n",
      "\n",
      "******\n",
      "[TEST]\n",
      "******\n",
      "RMSE: 0.872 (0.092)\n",
      "MAE: 0.713 (0.096)\n",
      "MAPE: 0.017 (0.002)\n",
      "R2: 0.953 (0.024)\n",
      "\n",
      "======================\n",
      "\n"
     ]
    },
    {
     "data": {
      "application/javascript": [
       "\n",
       "            setTimeout(function() {\n",
       "                var nbb_cell_id = 32;\n",
       "                var nbb_unformatted_code = \"scores = repeated_blocking_time_series(\\n    LinearRegression,\\n    StandardScaler,\\n    SimpleImputer,\\n    x,\\n    y,\\n    train_period=180,\\n    test_period=7,\\n    repeats=1,\\n    imputer_params={\\\"strategy\\\": \\\"median\\\"},\\n    dates=dates,\\n)\\nprint_scores(scores[0], METRICS, METRICS_DICT)\\n\\n# results_dict_copy = results_dict.copy()\\n# results_dict_copy[\\\"Cross Validation\\\"] = \\\"Blocking Time Series\\\"\\n# results_dict_copy[\\n#     \\\"Cross Validation Params\\\"\\n# ] = '{\\\"Train Period\\\": 180, \\\"Test Period\\\": 7, \\\"Method\\\": \\\"Dates\\\"}'\\n# results_dict_copy[\\\"Data Shape\\\"] = x.shape\\n# df_results = fill_results_dict(results_dict_copy, scores[0])\\n# results_to_save.append(df_results)\";\n",
       "                var nbb_formatted_code = \"scores = repeated_blocking_time_series(\\n    LinearRegression,\\n    StandardScaler,\\n    SimpleImputer,\\n    x,\\n    y,\\n    train_period=180,\\n    test_period=7,\\n    repeats=1,\\n    imputer_params={\\\"strategy\\\": \\\"median\\\"},\\n    dates=dates,\\n)\\nprint_scores(scores[0], METRICS, METRICS_DICT)\\n\\n# results_dict_copy = results_dict.copy()\\n# results_dict_copy[\\\"Cross Validation\\\"] = \\\"Blocking Time Series\\\"\\n# results_dict_copy[\\n#     \\\"Cross Validation Params\\\"\\n# ] = '{\\\"Train Period\\\": 180, \\\"Test Period\\\": 7, \\\"Method\\\": \\\"Dates\\\"}'\\n# results_dict_copy[\\\"Data Shape\\\"] = x.shape\\n# df_results = fill_results_dict(results_dict_copy, scores[0])\\n# results_to_save.append(df_results)\";\n",
       "                var nbb_cells = Jupyter.notebook.get_cells();\n",
       "                for (var i = 0; i < nbb_cells.length; ++i) {\n",
       "                    if (nbb_cells[i].input_prompt_number == nbb_cell_id) {\n",
       "                        if (nbb_cells[i].get_text() == nbb_unformatted_code) {\n",
       "                             nbb_cells[i].set_text(nbb_formatted_code);\n",
       "                        }\n",
       "                        break;\n",
       "                    }\n",
       "                }\n",
       "            }, 500);\n",
       "            "
      ],
      "text/plain": [
       "<IPython.core.display.Javascript object>"
      ]
     },
     "metadata": {},
     "output_type": "display_data"
    }
   ],
   "source": [
    "scores = repeated_blocking_time_series(\n",
    "    LinearRegression,\n",
    "    StandardScaler,\n",
    "    SimpleImputer,\n",
    "    x,\n",
    "    y,\n",
    "    train_period=180,\n",
    "    test_period=7,\n",
    "    repeats=1,\n",
    "    imputer_params={\"strategy\": \"median\"},\n",
    "    dates=dates,\n",
    ")\n",
    "print_scores(scores[0], METRICS, METRICS_DICT)\n",
    "\n",
    "# results_dict_copy = results_dict.copy()\n",
    "# results_dict_copy[\"Cross Validation\"] = \"Blocking Time Series\"\n",
    "# results_dict_copy[\n",
    "#     \"Cross Validation Params\"\n",
    "# ] = '{\"Train Period\": 180, \"Test Period\": 7, \"Method\": \"Dates\"}'\n",
    "# results_dict_copy[\"Data Shape\"] = x.shape\n",
    "# df_results = fill_results_dict(results_dict_copy, scores[0])\n",
    "# results_to_save.append(df_results)"
   ]
  },
  {
   "cell_type": "markdown",
   "id": "65353068",
   "metadata": {
    "papermill": {
     "duration": 0.036852,
     "end_time": "2024-07-13T21:12:37.363567",
     "exception": false,
     "start_time": "2024-07-13T21:12:37.326715",
     "status": "completed"
    },
    "tags": []
   },
   "source": [
    "### 1.5.4 Train 6 months and predicts one month every year"
   ]
  },
  {
   "cell_type": "code",
   "execution_count": 33,
   "id": "9b34a3d1",
   "metadata": {
    "execution": {
     "iopub.execute_input": "2024-07-13T21:12:37.401900Z",
     "iopub.status.busy": "2024-07-13T21:12:37.401499Z",
     "iopub.status.idle": "2024-07-13T21:12:37.538790Z",
     "shell.execute_reply": "2024-07-13T21:12:37.537983Z"
    },
    "papermill": {
     "duration": 0.158935,
     "end_time": "2024-07-13T21:12:37.540891",
     "exception": false,
     "start_time": "2024-07-13T21:12:37.381956",
     "status": "completed"
    },
    "tags": []
   },
   "outputs": [
    {
     "name": "stdout",
     "output_type": "stream",
     "text": [
      "******\n",
      "[TRAIN]\n",
      "******\n",
      "RMSE: 0.872 (0.046)\n",
      "MAE: 0.686 (0.038)\n",
      "MAPE: 0.016 (0.001)\n",
      "R2: 0.970 (0.003)\n",
      "\n",
      "======================\n",
      "\n",
      "******\n",
      "[TEST]\n",
      "******\n",
      "RMSE: 1.167 (0.145)\n",
      "MAE: 0.895 (0.137)\n",
      "MAPE: 0.021 (0.004)\n",
      "R2: 0.943 (0.020)\n",
      "\n",
      "======================\n",
      "\n"
     ]
    },
    {
     "data": {
      "application/javascript": [
       "\n",
       "            setTimeout(function() {\n",
       "                var nbb_cell_id = 33;\n",
       "                var nbb_unformatted_code = \"scores = repeated_blocking_time_series(\\n    LinearRegression,\\n    StandardScaler,\\n    SimpleImputer,\\n    x,\\n    y,\\n    train_period=180,\\n    test_period=30,\\n    repeats=1,\\n    imputer_params={\\\"strategy\\\": \\\"median\\\"},\\n    dates=dates,\\n)\\nprint_scores(scores[0], METRICS, METRICS_DICT)\\n\\n# results_dict_copy = results_dict.copy()\\n# results_dict_copy[\\\"Cross Validation\\\"] = \\\"Blocking Time Series\\\"\\n# results_dict_copy[\\n#     \\\"Cross Validation Params\\\"\\n# ] = '{\\\"Train Period\\\": 180, \\\"Test Period\\\": 30, \\\"Method\\\": \\\"Dates\\\"}'\\n# results_dict_copy[\\\"Data Shape\\\"] = x.shape\\n# df_results = fill_results_dict(results_dict_copy, scores[0])\\n# results_to_save.append(df_results)\";\n",
       "                var nbb_formatted_code = \"scores = repeated_blocking_time_series(\\n    LinearRegression,\\n    StandardScaler,\\n    SimpleImputer,\\n    x,\\n    y,\\n    train_period=180,\\n    test_period=30,\\n    repeats=1,\\n    imputer_params={\\\"strategy\\\": \\\"median\\\"},\\n    dates=dates,\\n)\\nprint_scores(scores[0], METRICS, METRICS_DICT)\\n\\n# results_dict_copy = results_dict.copy()\\n# results_dict_copy[\\\"Cross Validation\\\"] = \\\"Blocking Time Series\\\"\\n# results_dict_copy[\\n#     \\\"Cross Validation Params\\\"\\n# ] = '{\\\"Train Period\\\": 180, \\\"Test Period\\\": 30, \\\"Method\\\": \\\"Dates\\\"}'\\n# results_dict_copy[\\\"Data Shape\\\"] = x.shape\\n# df_results = fill_results_dict(results_dict_copy, scores[0])\\n# results_to_save.append(df_results)\";\n",
       "                var nbb_cells = Jupyter.notebook.get_cells();\n",
       "                for (var i = 0; i < nbb_cells.length; ++i) {\n",
       "                    if (nbb_cells[i].input_prompt_number == nbb_cell_id) {\n",
       "                        if (nbb_cells[i].get_text() == nbb_unformatted_code) {\n",
       "                             nbb_cells[i].set_text(nbb_formatted_code);\n",
       "                        }\n",
       "                        break;\n",
       "                    }\n",
       "                }\n",
       "            }, 500);\n",
       "            "
      ],
      "text/plain": [
       "<IPython.core.display.Javascript object>"
      ]
     },
     "metadata": {},
     "output_type": "display_data"
    }
   ],
   "source": [
    "scores = repeated_blocking_time_series(\n",
    "    LinearRegression,\n",
    "    StandardScaler,\n",
    "    SimpleImputer,\n",
    "    x,\n",
    "    y,\n",
    "    train_period=180,\n",
    "    test_period=30,\n",
    "    repeats=1,\n",
    "    imputer_params={\"strategy\": \"median\"},\n",
    "    dates=dates,\n",
    ")\n",
    "print_scores(scores[0], METRICS, METRICS_DICT)\n",
    "\n",
    "# results_dict_copy = results_dict.copy()\n",
    "# results_dict_copy[\"Cross Validation\"] = \"Blocking Time Series\"\n",
    "# results_dict_copy[\n",
    "#     \"Cross Validation Params\"\n",
    "# ] = '{\"Train Period\": 180, \"Test Period\": 30, \"Method\": \"Dates\"}'\n",
    "# results_dict_copy[\"Data Shape\"] = x.shape\n",
    "# df_results = fill_results_dict(results_dict_copy, scores[0])\n",
    "# results_to_save.append(df_results)"
   ]
  },
  {
   "cell_type": "markdown",
   "id": "ae9fe2fa",
   "metadata": {
    "papermill": {
     "duration": 0.039291,
     "end_time": "2024-07-13T21:12:37.635113",
     "exception": false,
     "start_time": "2024-07-13T21:12:37.595822",
     "status": "completed"
    },
    "tags": []
   },
   "source": [
    "### 1.5.5 Train one year and predicts one month every year"
   ]
  },
  {
   "cell_type": "code",
   "execution_count": 34,
   "id": "052dceca",
   "metadata": {
    "execution": {
     "iopub.execute_input": "2024-07-13T21:12:37.674039Z",
     "iopub.status.busy": "2024-07-13T21:12:37.673717Z",
     "iopub.status.idle": "2024-07-13T21:12:37.740040Z",
     "shell.execute_reply": "2024-07-13T21:12:37.739322Z"
    },
    "papermill": {
     "duration": 0.088154,
     "end_time": "2024-07-13T21:12:37.741829",
     "exception": false,
     "start_time": "2024-07-13T21:12:37.653675",
     "status": "completed"
    },
    "tags": []
   },
   "outputs": [
    {
     "name": "stdout",
     "output_type": "stream",
     "text": [
      "******\n",
      "[TRAIN]\n",
      "******\n",
      "RMSE: 0.850 (0.035)\n",
      "MAE: 0.670 (0.034)\n",
      "MAPE: 0.016 (0.001)\n",
      "R2: 0.971 (0.002)\n",
      "\n",
      "======================\n",
      "\n",
      "******\n",
      "[TEST]\n",
      "******\n",
      "RMSE: 1.242 (0.252)\n",
      "MAE: 0.930 (0.129)\n",
      "MAPE: 0.022 (0.003)\n",
      "R2: 0.940 (0.014)\n",
      "\n",
      "======================\n",
      "\n"
     ]
    },
    {
     "data": {
      "application/javascript": [
       "\n",
       "            setTimeout(function() {\n",
       "                var nbb_cell_id = 34;\n",
       "                var nbb_unformatted_code = \"scores = repeated_blocking_time_series(\\n    LinearRegression,\\n    StandardScaler,\\n    SimpleImputer,\\n    x,\\n    y,\\n    train_period=365,\\n    test_period=30,\\n    repeats=1,\\n    imputer_params={\\\"strategy\\\": \\\"median\\\"},\\n)\\nprint_scores(scores[0], METRICS, METRICS_DICT)\\n\\n# results_dict_copy = results_dict.copy()\\n# results_dict_copy[\\\"Cross Validation\\\"] = \\\"Blocking Time Series\\\"\\n# results_dict_copy[\\n#     \\\"Cross Validation Params\\\"\\n# ] = '{\\\"Train Period\\\": 365, \\\"Test Period\\\": 30, \\\"Method\\\": \\\"Points\\\"}'\\n# results_dict_copy[\\\"Data Shape\\\"] = x.shape\\n# df_results = fill_results_dict(results_dict_copy, scores[0])\\n# results_to_save.append(df_results)\";\n",
       "                var nbb_formatted_code = \"scores = repeated_blocking_time_series(\\n    LinearRegression,\\n    StandardScaler,\\n    SimpleImputer,\\n    x,\\n    y,\\n    train_period=365,\\n    test_period=30,\\n    repeats=1,\\n    imputer_params={\\\"strategy\\\": \\\"median\\\"},\\n)\\nprint_scores(scores[0], METRICS, METRICS_DICT)\\n\\n# results_dict_copy = results_dict.copy()\\n# results_dict_copy[\\\"Cross Validation\\\"] = \\\"Blocking Time Series\\\"\\n# results_dict_copy[\\n#     \\\"Cross Validation Params\\\"\\n# ] = '{\\\"Train Period\\\": 365, \\\"Test Period\\\": 30, \\\"Method\\\": \\\"Points\\\"}'\\n# results_dict_copy[\\\"Data Shape\\\"] = x.shape\\n# df_results = fill_results_dict(results_dict_copy, scores[0])\\n# results_to_save.append(df_results)\";\n",
       "                var nbb_cells = Jupyter.notebook.get_cells();\n",
       "                for (var i = 0; i < nbb_cells.length; ++i) {\n",
       "                    if (nbb_cells[i].input_prompt_number == nbb_cell_id) {\n",
       "                        if (nbb_cells[i].get_text() == nbb_unformatted_code) {\n",
       "                             nbb_cells[i].set_text(nbb_formatted_code);\n",
       "                        }\n",
       "                        break;\n",
       "                    }\n",
       "                }\n",
       "            }, 500);\n",
       "            "
      ],
      "text/plain": [
       "<IPython.core.display.Javascript object>"
      ]
     },
     "metadata": {},
     "output_type": "display_data"
    }
   ],
   "source": [
    "scores = repeated_blocking_time_series(\n",
    "    LinearRegression,\n",
    "    StandardScaler,\n",
    "    SimpleImputer,\n",
    "    x,\n",
    "    y,\n",
    "    train_period=365,\n",
    "    test_period=30,\n",
    "    repeats=1,\n",
    "    imputer_params={\"strategy\": \"median\"},\n",
    ")\n",
    "print_scores(scores[0], METRICS, METRICS_DICT)\n",
    "\n",
    "# results_dict_copy = results_dict.copy()\n",
    "# results_dict_copy[\"Cross Validation\"] = \"Blocking Time Series\"\n",
    "# results_dict_copy[\n",
    "#     \"Cross Validation Params\"\n",
    "# ] = '{\"Train Period\": 365, \"Test Period\": 30, \"Method\": \"Points\"}'\n",
    "# results_dict_copy[\"Data Shape\"] = x.shape\n",
    "# df_results = fill_results_dict(results_dict_copy, scores[0])\n",
    "# results_to_save.append(df_results)"
   ]
  },
  {
   "cell_type": "markdown",
   "id": "42bc7964",
   "metadata": {
    "papermill": {
     "duration": 0.026302,
     "end_time": "2024-07-13T21:12:37.809654",
     "exception": false,
     "start_time": "2024-07-13T21:12:37.783352",
     "status": "completed"
    },
    "tags": []
   },
   "source": [
    "### 1.5.6 Train 1 year and predicts three months every year"
   ]
  },
  {
   "cell_type": "code",
   "execution_count": 35,
   "id": "1398c754",
   "metadata": {
    "execution": {
     "iopub.execute_input": "2024-07-13T21:12:37.852067Z",
     "iopub.status.busy": "2024-07-13T21:12:37.851516Z",
     "iopub.status.idle": "2024-07-13T21:12:37.890504Z",
     "shell.execute_reply": "2024-07-13T21:12:37.889825Z"
    },
    "papermill": {
     "duration": 0.056364,
     "end_time": "2024-07-13T21:12:37.892250",
     "exception": false,
     "start_time": "2024-07-13T21:12:37.835886",
     "status": "completed"
    },
    "tags": []
   },
   "outputs": [
    {
     "data": {
      "application/javascript": [
       "\n",
       "            setTimeout(function() {\n",
       "                var nbb_cell_id = 35;\n",
       "                var nbb_unformatted_code = \"scores = repeated_blocking_time_series(\\n    LinearRegression,\\n    StandardScaler,\\n    SimpleImputer,\\n    x,\\n    y,\\n    train_period=365,\\n    test_period=90,\\n    repeats=1,\\n    imputer_params={\\\"strategy\\\": \\\"median\\\"},\\n)\\n# print_scores(scores[0], METRICS, METRICS_DICT)\\n# results_dict_copy = results_dict.copy()\\n# results_dict_copy[\\\"Cross Validation\\\"] = \\\"Blocking Time Series\\\"\\n# results_dict_copy[\\n#     \\\"Cross Validation Params\\\"\\n# ] = '{\\\"Train Period\\\": 365, \\\"Test Period\\\": 90, \\\"Method\\\": \\\"Points\\\"}'\\n# results_dict_copy[\\\"Data Shape\\\"] = x.shape\\n# df_results = fill_results_dict(results_dict_copy, scores[0])\\n# results_to_save.append(df_results)\";\n",
       "                var nbb_formatted_code = \"scores = repeated_blocking_time_series(\\n    LinearRegression,\\n    StandardScaler,\\n    SimpleImputer,\\n    x,\\n    y,\\n    train_period=365,\\n    test_period=90,\\n    repeats=1,\\n    imputer_params={\\\"strategy\\\": \\\"median\\\"},\\n)\\n# print_scores(scores[0], METRICS, METRICS_DICT)\\n# results_dict_copy = results_dict.copy()\\n# results_dict_copy[\\\"Cross Validation\\\"] = \\\"Blocking Time Series\\\"\\n# results_dict_copy[\\n#     \\\"Cross Validation Params\\\"\\n# ] = '{\\\"Train Period\\\": 365, \\\"Test Period\\\": 90, \\\"Method\\\": \\\"Points\\\"}'\\n# results_dict_copy[\\\"Data Shape\\\"] = x.shape\\n# df_results = fill_results_dict(results_dict_copy, scores[0])\\n# results_to_save.append(df_results)\";\n",
       "                var nbb_cells = Jupyter.notebook.get_cells();\n",
       "                for (var i = 0; i < nbb_cells.length; ++i) {\n",
       "                    if (nbb_cells[i].input_prompt_number == nbb_cell_id) {\n",
       "                        if (nbb_cells[i].get_text() == nbb_unformatted_code) {\n",
       "                             nbb_cells[i].set_text(nbb_formatted_code);\n",
       "                        }\n",
       "                        break;\n",
       "                    }\n",
       "                }\n",
       "            }, 500);\n",
       "            "
      ],
      "text/plain": [
       "<IPython.core.display.Javascript object>"
      ]
     },
     "metadata": {},
     "output_type": "display_data"
    }
   ],
   "source": [
    "scores = repeated_blocking_time_series(\n",
    "    LinearRegression,\n",
    "    StandardScaler,\n",
    "    SimpleImputer,\n",
    "    x,\n",
    "    y,\n",
    "    train_period=365,\n",
    "    test_period=90,\n",
    "    repeats=1,\n",
    "    imputer_params={\"strategy\": \"median\"},\n",
    ")\n",
    "# print_scores(scores[0], METRICS, METRICS_DICT)\n",
    "# results_dict_copy = results_dict.copy()\n",
    "# results_dict_copy[\"Cross Validation\"] = \"Blocking Time Series\"\n",
    "# results_dict_copy[\n",
    "#     \"Cross Validation Params\"\n",
    "# ] = '{\"Train Period\": 365, \"Test Period\": 90, \"Method\": \"Points\"}'\n",
    "# results_dict_copy[\"Data Shape\"] = x.shape\n",
    "# df_results = fill_results_dict(results_dict_copy, scores[0])\n",
    "# results_to_save.append(df_results)"
   ]
  },
  {
   "cell_type": "markdown",
   "id": "7a66709e",
   "metadata": {
    "papermill": {
     "duration": 0.050483,
     "end_time": "2024-07-13T21:12:37.987829",
     "exception": false,
     "start_time": "2024-07-13T21:12:37.937346",
     "status": "completed"
    },
    "tags": []
   },
   "source": [
    "### 1.5.7 Train 1 year and six months and predicts one month every year"
   ]
  },
  {
   "cell_type": "code",
   "execution_count": 36,
   "id": "c4907fd5",
   "metadata": {
    "execution": {
     "iopub.execute_input": "2024-07-13T21:12:38.021149Z",
     "iopub.status.busy": "2024-07-13T21:12:38.020906Z",
     "iopub.status.idle": "2024-07-13T21:12:38.083655Z",
     "shell.execute_reply": "2024-07-13T21:12:38.082918Z"
    },
    "papermill": {
     "duration": 0.080573,
     "end_time": "2024-07-13T21:12:38.085423",
     "exception": false,
     "start_time": "2024-07-13T21:12:38.004850",
     "status": "completed"
    },
    "scrolled": true,
    "tags": []
   },
   "outputs": [
    {
     "name": "stdout",
     "output_type": "stream",
     "text": [
      "******\n",
      "[TRAIN]\n",
      "******\n",
      "RMSE: 0.873 (0.027)\n",
      "MAE: 0.681 (0.028)\n",
      "MAPE: 0.016 (0.001)\n",
      "R2: 0.970 (0.000)\n",
      "\n",
      "======================\n",
      "\n",
      "******\n",
      "[TEST]\n",
      "******\n",
      "RMSE: 1.012 (0.006)\n",
      "MAE: 0.838 (0.003)\n",
      "MAPE: 0.019 (0.000)\n",
      "R2: 0.957 (0.001)\n",
      "\n",
      "======================\n",
      "\n"
     ]
    },
    {
     "data": {
      "application/javascript": [
       "\n",
       "            setTimeout(function() {\n",
       "                var nbb_cell_id = 36;\n",
       "                var nbb_unformatted_code = \"scores = repeated_blocking_time_series(\\n    LinearRegression,\\n    StandardScaler,\\n    SimpleImputer,\\n    x,\\n    y,\\n    train_period=545,\\n    test_period=30,\\n    repeats=1,\\n    imputer_params={\\\"strategy\\\": \\\"median\\\"},\\n)\\nprint_scores(scores[0], METRICS, METRICS_DICT)\\n\\n# results_dict_copy = results_dict.copy()\\n# results_dict_copy[\\\"Cross Validation\\\"] = \\\"Blocking Time Series\\\"\\n# results_dict_copy[\\n#     \\\"Cross Validation Params\\\"\\n# ] = '{\\\"Train Period\\\": 545, \\\"Test Period\\\": 30, \\\"Method\\\": \\\"Points\\\"}'\\n# results_dict_copy[\\\"Data Shape\\\"] = x.shape\\n# df_results = fill_results_dict(results_dict_copy, scores[0])\\n# results_to_save.append(df_results)\";\n",
       "                var nbb_formatted_code = \"scores = repeated_blocking_time_series(\\n    LinearRegression,\\n    StandardScaler,\\n    SimpleImputer,\\n    x,\\n    y,\\n    train_period=545,\\n    test_period=30,\\n    repeats=1,\\n    imputer_params={\\\"strategy\\\": \\\"median\\\"},\\n)\\nprint_scores(scores[0], METRICS, METRICS_DICT)\\n\\n# results_dict_copy = results_dict.copy()\\n# results_dict_copy[\\\"Cross Validation\\\"] = \\\"Blocking Time Series\\\"\\n# results_dict_copy[\\n#     \\\"Cross Validation Params\\\"\\n# ] = '{\\\"Train Period\\\": 545, \\\"Test Period\\\": 30, \\\"Method\\\": \\\"Points\\\"}'\\n# results_dict_copy[\\\"Data Shape\\\"] = x.shape\\n# df_results = fill_results_dict(results_dict_copy, scores[0])\\n# results_to_save.append(df_results)\";\n",
       "                var nbb_cells = Jupyter.notebook.get_cells();\n",
       "                for (var i = 0; i < nbb_cells.length; ++i) {\n",
       "                    if (nbb_cells[i].input_prompt_number == nbb_cell_id) {\n",
       "                        if (nbb_cells[i].get_text() == nbb_unformatted_code) {\n",
       "                             nbb_cells[i].set_text(nbb_formatted_code);\n",
       "                        }\n",
       "                        break;\n",
       "                    }\n",
       "                }\n",
       "            }, 500);\n",
       "            "
      ],
      "text/plain": [
       "<IPython.core.display.Javascript object>"
      ]
     },
     "metadata": {},
     "output_type": "display_data"
    }
   ],
   "source": [
    "scores = repeated_blocking_time_series(\n",
    "    LinearRegression,\n",
    "    StandardScaler,\n",
    "    SimpleImputer,\n",
    "    x,\n",
    "    y,\n",
    "    train_period=545,\n",
    "    test_period=30,\n",
    "    repeats=1,\n",
    "    imputer_params={\"strategy\": \"median\"},\n",
    ")\n",
    "print_scores(scores[0], METRICS, METRICS_DICT)\n",
    "\n",
    "# results_dict_copy = results_dict.copy()\n",
    "# results_dict_copy[\"Cross Validation\"] = \"Blocking Time Series\"\n",
    "# results_dict_copy[\n",
    "#     \"Cross Validation Params\"\n",
    "# ] = '{\"Train Period\": 545, \"Test Period\": 30, \"Method\": \"Points\"}'\n",
    "# results_dict_copy[\"Data Shape\"] = x.shape\n",
    "# df_results = fill_results_dict(results_dict_copy, scores[0])\n",
    "# results_to_save.append(df_results)"
   ]
  },
  {
   "cell_type": "markdown",
   "id": "389b8062",
   "metadata": {
    "papermill": {
     "duration": 0.048858,
     "end_time": "2024-07-13T21:12:38.175981",
     "exception": false,
     "start_time": "2024-07-13T21:12:38.127123",
     "status": "completed"
    },
    "tags": []
   },
   "source": [
    "### 1.5.8 Train 1 year and six months and predicts two months every year"
   ]
  },
  {
   "cell_type": "code",
   "execution_count": 37,
   "id": "2eed993a",
   "metadata": {
    "execution": {
     "iopub.execute_input": "2024-07-13T21:12:38.219361Z",
     "iopub.status.busy": "2024-07-13T21:12:38.219133Z",
     "iopub.status.idle": "2024-07-13T21:12:38.282795Z",
     "shell.execute_reply": "2024-07-13T21:12:38.282100Z"
    },
    "papermill": {
     "duration": 0.081354,
     "end_time": "2024-07-13T21:12:38.284590",
     "exception": false,
     "start_time": "2024-07-13T21:12:38.203236",
     "status": "completed"
    },
    "tags": []
   },
   "outputs": [
    {
     "name": "stdout",
     "output_type": "stream",
     "text": [
      "******\n",
      "[TRAIN]\n",
      "******\n",
      "RMSE: 0.873 (0.028)\n",
      "MAE: 0.684 (0.030)\n",
      "MAPE: 0.016 (0.001)\n",
      "R2: 0.970 (0.000)\n",
      "\n",
      "======================\n",
      "\n",
      "******\n",
      "[TEST]\n",
      "******\n",
      "RMSE: 1.131 (0.160)\n",
      "MAE: 0.912 (0.124)\n",
      "MAPE: 0.022 (0.003)\n",
      "R2: 0.944 (0.016)\n",
      "\n",
      "======================\n",
      "\n"
     ]
    },
    {
     "data": {
      "application/javascript": [
       "\n",
       "            setTimeout(function() {\n",
       "                var nbb_cell_id = 37;\n",
       "                var nbb_unformatted_code = \"scores = repeated_blocking_time_series(\\n    LinearRegression,\\n    StandardScaler,\\n    SimpleImputer,\\n    x,\\n    y,\\n    train_period=545,\\n    test_period=60,\\n    repeats=1,\\n    imputer_params={\\\"strategy\\\": \\\"median\\\"},\\n)\\nprint_scores(scores[0], METRICS, METRICS_DICT)\\n\\n# results_dict_copy = results_dict.copy()\\n# results_dict_copy[\\\"Cross Validation\\\"] = \\\"Blocking Time Series\\\"\\n# results_dict_copy[\\n#     \\\"Cross Validation Params\\\"\\n# ] = '{\\\"Train Period\\\": 545, \\\"Test Period\\\": 60, \\\"Method\\\": \\\"Points\\\"}'\\n# results_dict_copy[\\\"Data Shape\\\"] = x.shape\\n# df_results = fill_results_dict(results_dict_copy, scores[0])\\n# results_to_save.append(df_results)\";\n",
       "                var nbb_formatted_code = \"scores = repeated_blocking_time_series(\\n    LinearRegression,\\n    StandardScaler,\\n    SimpleImputer,\\n    x,\\n    y,\\n    train_period=545,\\n    test_period=60,\\n    repeats=1,\\n    imputer_params={\\\"strategy\\\": \\\"median\\\"},\\n)\\nprint_scores(scores[0], METRICS, METRICS_DICT)\\n\\n# results_dict_copy = results_dict.copy()\\n# results_dict_copy[\\\"Cross Validation\\\"] = \\\"Blocking Time Series\\\"\\n# results_dict_copy[\\n#     \\\"Cross Validation Params\\\"\\n# ] = '{\\\"Train Period\\\": 545, \\\"Test Period\\\": 60, \\\"Method\\\": \\\"Points\\\"}'\\n# results_dict_copy[\\\"Data Shape\\\"] = x.shape\\n# df_results = fill_results_dict(results_dict_copy, scores[0])\\n# results_to_save.append(df_results)\";\n",
       "                var nbb_cells = Jupyter.notebook.get_cells();\n",
       "                for (var i = 0; i < nbb_cells.length; ++i) {\n",
       "                    if (nbb_cells[i].input_prompt_number == nbb_cell_id) {\n",
       "                        if (nbb_cells[i].get_text() == nbb_unformatted_code) {\n",
       "                             nbb_cells[i].set_text(nbb_formatted_code);\n",
       "                        }\n",
       "                        break;\n",
       "                    }\n",
       "                }\n",
       "            }, 500);\n",
       "            "
      ],
      "text/plain": [
       "<IPython.core.display.Javascript object>"
      ]
     },
     "metadata": {},
     "output_type": "display_data"
    }
   ],
   "source": [
    "scores = repeated_blocking_time_series(\n",
    "    LinearRegression,\n",
    "    StandardScaler,\n",
    "    SimpleImputer,\n",
    "    x,\n",
    "    y,\n",
    "    train_period=545,\n",
    "    test_period=60,\n",
    "    repeats=1,\n",
    "    imputer_params={\"strategy\": \"median\"},\n",
    ")\n",
    "print_scores(scores[0], METRICS, METRICS_DICT)\n",
    "\n",
    "# results_dict_copy = results_dict.copy()\n",
    "# results_dict_copy[\"Cross Validation\"] = \"Blocking Time Series\"\n",
    "# results_dict_copy[\n",
    "#     \"Cross Validation Params\"\n",
    "# ] = '{\"Train Period\": 545, \"Test Period\": 60, \"Method\": \"Points\"}'\n",
    "# results_dict_copy[\"Data Shape\"] = x.shape\n",
    "# df_results = fill_results_dict(results_dict_copy, scores[0])\n",
    "# results_to_save.append(df_results)"
   ]
  },
  {
   "cell_type": "code",
   "execution_count": 38,
   "id": "9962ade1",
   "metadata": {
    "execution": {
     "iopub.execute_input": "2024-07-13T21:12:38.376876Z",
     "iopub.status.busy": "2024-07-13T21:12:38.376549Z",
     "iopub.status.idle": "2024-07-13T21:12:38.383117Z",
     "shell.execute_reply": "2024-07-13T21:12:38.382635Z"
    },
    "papermill": {
     "duration": 0.05237,
     "end_time": "2024-07-13T21:12:38.384430",
     "exception": false,
     "start_time": "2024-07-13T21:12:38.332060",
     "status": "completed"
    },
    "tags": []
   },
   "outputs": [
    {
     "data": {
      "text/plain": [
       "array([ 1.05631171e-02, -1.93030073e-01, -8.05123790e-02,  1.84922397e-01,\n",
       "       -2.30710150e-01,  1.32149765e-02, -3.74914558e-02,  1.87370667e-01,\n",
       "       -4.29424664e-02,  4.24676206e-02, -1.07875171e-01,  1.09664969e-01,\n",
       "       -9.35198315e-02, -1.29303909e-01,  3.05851559e-01,  5.35168089e-01,\n",
       "       -3.56343933e-01, -1.30829310e-01, -3.93450626e-03, -8.16338264e-02,\n",
       "       -7.92129844e-02,  2.00241958e-01,  1.17794299e-01, -1.22566637e-02,\n",
       "        2.27392325e-01,  5.11618441e-04,  1.03172066e-01,  3.35933827e-02,\n",
       "        1.68433167e-01, -9.21143676e-02, -8.19429964e-02,  1.56762091e-02,\n",
       "        6.44898364e-02,  1.51598548e+00,  2.82292060e+00,  1.75447932e-01,\n",
       "       -7.48179066e-01])"
      ]
     },
     "execution_count": 38,
     "metadata": {},
     "output_type": "execute_result"
    },
    {
     "data": {
      "application/javascript": [
       "\n",
       "            setTimeout(function() {\n",
       "                var nbb_cell_id = 38;\n",
       "                var nbb_unformatted_code = \"pipeline.named_steps[\\\"estimator\\\"].coef_\";\n",
       "                var nbb_formatted_code = \"pipeline.named_steps[\\\"estimator\\\"].coef_\";\n",
       "                var nbb_cells = Jupyter.notebook.get_cells();\n",
       "                for (var i = 0; i < nbb_cells.length; ++i) {\n",
       "                    if (nbb_cells[i].input_prompt_number == nbb_cell_id) {\n",
       "                        if (nbb_cells[i].get_text() == nbb_unformatted_code) {\n",
       "                             nbb_cells[i].set_text(nbb_formatted_code);\n",
       "                        }\n",
       "                        break;\n",
       "                    }\n",
       "                }\n",
       "            }, 500);\n",
       "            "
      ],
      "text/plain": [
       "<IPython.core.display.Javascript object>"
      ]
     },
     "metadata": {},
     "output_type": "display_data"
    }
   ],
   "source": [
    "pipeline.named_steps[\"estimator\"].coef_"
   ]
  },
  {
   "cell_type": "code",
   "execution_count": 39,
   "id": "9f1eb3ce",
   "metadata": {
    "execution": {
     "iopub.execute_input": "2024-07-13T21:12:38.440969Z",
     "iopub.status.busy": "2024-07-13T21:12:38.439919Z",
     "iopub.status.idle": "2024-07-13T21:12:38.611801Z",
     "shell.execute_reply": "2024-07-13T21:12:38.610558Z"
    },
    "papermill": {
     "duration": 0.215057,
     "end_time": "2024-07-13T21:12:38.614793",
     "exception": false,
     "start_time": "2024-07-13T21:12:38.399736",
     "status": "completed"
    },
    "tags": []
   },
   "outputs": [
    {
     "data": {
      "text/plain": [
       "43.398173464561"
      ]
     },
     "execution_count": 39,
     "metadata": {},
     "output_type": "execute_result"
    },
    {
     "data": {
      "application/javascript": [
       "\n",
       "            setTimeout(function() {\n",
       "                var nbb_cell_id = 39;\n",
       "                var nbb_unformatted_code = \"pipeline.named_steps[\\\"estimator\\\"].intercept_\";\n",
       "                var nbb_formatted_code = \"pipeline.named_steps[\\\"estimator\\\"].intercept_\";\n",
       "                var nbb_cells = Jupyter.notebook.get_cells();\n",
       "                for (var i = 0; i < nbb_cells.length; ++i) {\n",
       "                    if (nbb_cells[i].input_prompt_number == nbb_cell_id) {\n",
       "                        if (nbb_cells[i].get_text() == nbb_unformatted_code) {\n",
       "                             nbb_cells[i].set_text(nbb_formatted_code);\n",
       "                        }\n",
       "                        break;\n",
       "                    }\n",
       "                }\n",
       "            }, 500);\n",
       "            "
      ],
      "text/plain": [
       "<IPython.core.display.Javascript object>"
      ]
     },
     "metadata": {},
     "output_type": "display_data"
    }
   ],
   "source": [
    "pipeline.named_steps[\"estimator\"].intercept_"
   ]
  },
  {
   "cell_type": "code",
   "execution_count": 40,
   "id": "e254b8b0",
   "metadata": {
    "execution": {
     "iopub.execute_input": "2024-07-13T21:12:38.682405Z",
     "iopub.status.busy": "2024-07-13T21:12:38.681285Z",
     "iopub.status.idle": "2024-07-13T21:12:38.812318Z",
     "shell.execute_reply": "2024-07-13T21:12:38.811091Z"
    },
    "papermill": {
     "duration": 0.163602,
     "end_time": "2024-07-13T21:12:38.815314",
     "exception": false,
     "start_time": "2024-07-13T21:12:38.651712",
     "status": "completed"
    },
    "tags": []
   },
   "outputs": [
    {
     "data": {
      "text/plain": [
       "array([], dtype=object)"
      ]
     },
     "execution_count": 40,
     "metadata": {},
     "output_type": "execute_result"
    },
    {
     "data": {
      "application/javascript": [
       "\n",
       "            setTimeout(function() {\n",
       "                var nbb_cell_id = 40;\n",
       "                var nbb_unformatted_code = \"coeff = pipeline.named_steps[\\\"estimator\\\"].coef_\\nnp.array(x.columns)[coeff == 0]\";\n",
       "                var nbb_formatted_code = \"coeff = pipeline.named_steps[\\\"estimator\\\"].coef_\\nnp.array(x.columns)[coeff == 0]\";\n",
       "                var nbb_cells = Jupyter.notebook.get_cells();\n",
       "                for (var i = 0; i < nbb_cells.length; ++i) {\n",
       "                    if (nbb_cells[i].input_prompt_number == nbb_cell_id) {\n",
       "                        if (nbb_cells[i].get_text() == nbb_unformatted_code) {\n",
       "                             nbb_cells[i].set_text(nbb_formatted_code);\n",
       "                        }\n",
       "                        break;\n",
       "                    }\n",
       "                }\n",
       "            }, 500);\n",
       "            "
      ],
      "text/plain": [
       "<IPython.core.display.Javascript object>"
      ]
     },
     "metadata": {},
     "output_type": "display_data"
    }
   ],
   "source": [
    "coeff = pipeline.named_steps[\"estimator\"].coef_\n",
    "np.array(x.columns)[coeff == 0]"
   ]
  },
  {
   "cell_type": "code",
   "execution_count": 41,
   "id": "fa2cee4f",
   "metadata": {
    "execution": {
     "iopub.execute_input": "2024-07-13T21:12:38.884513Z",
     "iopub.status.busy": "2024-07-13T21:12:38.883371Z",
     "iopub.status.idle": "2024-07-13T21:12:39.015765Z",
     "shell.execute_reply": "2024-07-13T21:12:39.014533Z"
    },
    "papermill": {
     "duration": 0.166145,
     "end_time": "2024-07-13T21:12:39.018568",
     "exception": false,
     "start_time": "2024-07-13T21:12:38.852423",
     "status": "completed"
    },
    "tags": []
   },
   "outputs": [
    {
     "data": {
      "text/plain": [
       "Index(['CaO', 'MgO', 'Na2O', 'Al2O3', 'SiO2', 'SO3', 'K2O', 'Fe2O3',\n",
       "       'Loss on Ignition', 'Insoluble Residue', 'Total C3S', 'Alpha C2S',\n",
       "       'Beta C2S', 'Gamma C2S', 'C4AF', 'C3A', 'Cubic C3A', 'Orthorhombic C3A',\n",
       "       'Free CaO', 'Portlandite', 'Periclase', 'Arcanite', 'Aphthitalite',\n",
       "       'Gypsum', 'Bassanite', 'Anhydrite', 'Calcite', 'Dolomite', 'Quartz',\n",
       "       'Blaine', 'Initial setting time', 'Final setting time', 'Density',\n",
       "       'CS3', 'CS7', '#200', '#325'],\n",
       "      dtype='object')"
      ]
     },
     "execution_count": 41,
     "metadata": {},
     "output_type": "execute_result"
    },
    {
     "data": {
      "application/javascript": [
       "\n",
       "            setTimeout(function() {\n",
       "                var nbb_cell_id = 41;\n",
       "                var nbb_unformatted_code = \"x.drop(np.array(x.columns)[coeff == 0], axis=1).columns\";\n",
       "                var nbb_formatted_code = \"x.drop(np.array(x.columns)[coeff == 0], axis=1).columns\";\n",
       "                var nbb_cells = Jupyter.notebook.get_cells();\n",
       "                for (var i = 0; i < nbb_cells.length; ++i) {\n",
       "                    if (nbb_cells[i].input_prompt_number == nbb_cell_id) {\n",
       "                        if (nbb_cells[i].get_text() == nbb_unformatted_code) {\n",
       "                             nbb_cells[i].set_text(nbb_formatted_code);\n",
       "                        }\n",
       "                        break;\n",
       "                    }\n",
       "                }\n",
       "            }, 500);\n",
       "            "
      ],
      "text/plain": [
       "<IPython.core.display.Javascript object>"
      ]
     },
     "metadata": {},
     "output_type": "display_data"
    }
   ],
   "source": [
    "x.drop(np.array(x.columns)[coeff == 0], axis=1).columns"
   ]
  },
  {
   "cell_type": "code",
   "execution_count": 42,
   "id": "74fe40c3",
   "metadata": {
    "execution": {
     "iopub.execute_input": "2024-07-13T21:12:39.087137Z",
     "iopub.status.busy": "2024-07-13T21:12:39.086001Z",
     "iopub.status.idle": "2024-07-13T21:12:39.204160Z",
     "shell.execute_reply": "2024-07-13T21:12:39.202911Z"
    },
    "papermill": {
     "duration": 0.151666,
     "end_time": "2024-07-13T21:12:39.207602",
     "exception": false,
     "start_time": "2024-07-13T21:12:39.055936",
     "status": "completed"
    },
    "tags": []
   },
   "outputs": [
    {
     "data": {
      "text/plain": [
       "(37,)"
      ]
     },
     "execution_count": 42,
     "metadata": {},
     "output_type": "execute_result"
    },
    {
     "data": {
      "application/javascript": [
       "\n",
       "            setTimeout(function() {\n",
       "                var nbb_cell_id = 42;\n",
       "                var nbb_unformatted_code = \"x.drop(np.array(x.columns)[coeff == 0], axis=1).columns.shape\";\n",
       "                var nbb_formatted_code = \"x.drop(np.array(x.columns)[coeff == 0], axis=1).columns.shape\";\n",
       "                var nbb_cells = Jupyter.notebook.get_cells();\n",
       "                for (var i = 0; i < nbb_cells.length; ++i) {\n",
       "                    if (nbb_cells[i].input_prompt_number == nbb_cell_id) {\n",
       "                        if (nbb_cells[i].get_text() == nbb_unformatted_code) {\n",
       "                             nbb_cells[i].set_text(nbb_formatted_code);\n",
       "                        }\n",
       "                        break;\n",
       "                    }\n",
       "                }\n",
       "            }, 500);\n",
       "            "
      ],
      "text/plain": [
       "<IPython.core.display.Javascript object>"
      ]
     },
     "metadata": {},
     "output_type": "display_data"
    }
   ],
   "source": [
    "x.drop(np.array(x.columns)[coeff == 0], axis=1).columns.shape"
   ]
  },
  {
   "cell_type": "code",
   "execution_count": 43,
   "id": "91a302c0",
   "metadata": {
    "execution": {
     "iopub.execute_input": "2024-07-13T21:12:39.289978Z",
     "iopub.status.busy": "2024-07-13T21:12:39.288849Z",
     "iopub.status.idle": "2024-07-13T21:12:39.399068Z",
     "shell.execute_reply": "2024-07-13T21:12:39.397827Z"
    },
    "papermill": {
     "duration": 0.146794,
     "end_time": "2024-07-13T21:12:39.401924",
     "exception": false,
     "start_time": "2024-07-13T21:12:39.255130",
     "status": "completed"
    },
    "tags": []
   },
   "outputs": [
    {
     "data": {
      "text/plain": [
       "(37,)"
      ]
     },
     "execution_count": 43,
     "metadata": {},
     "output_type": "execute_result"
    },
    {
     "data": {
      "application/javascript": [
       "\n",
       "            setTimeout(function() {\n",
       "                var nbb_cell_id = 43;\n",
       "                var nbb_unformatted_code = \"x.columns.shape\";\n",
       "                var nbb_formatted_code = \"x.columns.shape\";\n",
       "                var nbb_cells = Jupyter.notebook.get_cells();\n",
       "                for (var i = 0; i < nbb_cells.length; ++i) {\n",
       "                    if (nbb_cells[i].input_prompt_number == nbb_cell_id) {\n",
       "                        if (nbb_cells[i].get_text() == nbb_unformatted_code) {\n",
       "                             nbb_cells[i].set_text(nbb_formatted_code);\n",
       "                        }\n",
       "                        break;\n",
       "                    }\n",
       "                }\n",
       "            }, 500);\n",
       "            "
      ],
      "text/plain": [
       "<IPython.core.display.Javascript object>"
      ]
     },
     "metadata": {},
     "output_type": "display_data"
    }
   ],
   "source": [
    "x.columns.shape"
   ]
  },
  {
   "cell_type": "code",
   "execution_count": 44,
   "id": "2bdea1a2",
   "metadata": {
    "execution": {
     "iopub.execute_input": "2024-07-13T21:12:39.471590Z",
     "iopub.status.busy": "2024-07-13T21:12:39.470446Z",
     "iopub.status.idle": "2024-07-13T21:12:39.601684Z",
     "shell.execute_reply": "2024-07-13T21:12:39.600462Z"
    },
    "papermill": {
     "duration": 0.164418,
     "end_time": "2024-07-13T21:12:39.604486",
     "exception": false,
     "start_time": "2024-07-13T21:12:39.440068",
     "status": "completed"
    },
    "tags": []
   },
   "outputs": [
    {
     "data": {
      "application/javascript": [
       "\n",
       "            setTimeout(function() {\n",
       "                var nbb_cell_id = 44;\n",
       "                var nbb_unformatted_code = \"coeffs = pd.DataFrame(\\n    {col: [c] for col, c in zip(x.columns, coeff)}, index=[\\\"Coefficients\\\"]\\n)\";\n",
       "                var nbb_formatted_code = \"coeffs = pd.DataFrame(\\n    {col: [c] for col, c in zip(x.columns, coeff)}, index=[\\\"Coefficients\\\"]\\n)\";\n",
       "                var nbb_cells = Jupyter.notebook.get_cells();\n",
       "                for (var i = 0; i < nbb_cells.length; ++i) {\n",
       "                    if (nbb_cells[i].input_prompt_number == nbb_cell_id) {\n",
       "                        if (nbb_cells[i].get_text() == nbb_unformatted_code) {\n",
       "                             nbb_cells[i].set_text(nbb_formatted_code);\n",
       "                        }\n",
       "                        break;\n",
       "                    }\n",
       "                }\n",
       "            }, 500);\n",
       "            "
      ],
      "text/plain": [
       "<IPython.core.display.Javascript object>"
      ]
     },
     "metadata": {},
     "output_type": "display_data"
    }
   ],
   "source": [
    "coeffs = pd.DataFrame(\n",
    "    {col: [c] for col, c in zip(x.columns, coeff)}, index=[\"Coefficients\"]\n",
    ")"
   ]
  },
  {
   "cell_type": "code",
   "execution_count": 45,
   "id": "81cf0cec",
   "metadata": {
    "execution": {
     "iopub.execute_input": "2024-07-13T21:12:39.676150Z",
     "iopub.status.busy": "2024-07-13T21:12:39.675023Z",
     "iopub.status.idle": "2024-07-13T21:12:39.894625Z",
     "shell.execute_reply": "2024-07-13T21:12:39.893776Z"
    },
    "papermill": {
     "duration": 0.254314,
     "end_time": "2024-07-13T21:12:39.897190",
     "exception": false,
     "start_time": "2024-07-13T21:12:39.642876",
     "status": "completed"
    },
    "tags": []
   },
   "outputs": [
    {
     "data": {
      "text/html": [
       "<style type=\"text/css\">\n",
       "#T_00006_row0_col0 {\n",
       "  background-color: #84cc83;\n",
       "  color: #000000;\n",
       "}\n",
       "#T_00006_row1_col0 {\n",
       "  background-color: #e4f5df;\n",
       "  color: #000000;\n",
       "}\n",
       "#T_00006_row2_col0, #T_00006_row3_col0, #T_00006_row4_col0, #T_00006_row5_col0, #T_00006_row6_col0, #T_00006_row7_col0, #T_00006_row8_col0, #T_00006_row9_col0, #T_00006_row10_col0, #T_00006_row11_col0, #T_00006_row12_col0, #T_00006_row13_col0, #T_00006_row14_col0, #T_00006_row15_col0, #T_00006_row16_col0, #T_00006_row17_col0, #T_00006_row18_col0, #T_00006_row19_col0, #T_00006_row20_col0, #T_00006_row21_col0, #T_00006_row22_col0, #T_00006_row23_col0, #T_00006_row24_col0, #T_00006_row25_col0, #T_00006_row26_col0, #T_00006_row27_col0, #T_00006_row28_col0, #T_00006_row29_col0, #T_00006_row30_col0, #T_00006_row31_col0, #T_00006_row32_col0, #T_00006_row33_col0, #T_00006_row34_col0, #T_00006_row35_col0, #T_00006_row36_col0 {\n",
       "  background-color: #f7fcf5;\n",
       "  color: #000000;\n",
       "}\n",
       "</style>\n",
       "<table id=\"T_00006\">\n",
       "  <thead>\n",
       "    <tr>\n",
       "      <th class=\"blank level0\" >&nbsp;</th>\n",
       "      <th id=\"T_00006_level0_col0\" class=\"col_heading level0 col0\" >Coefficients</th>\n",
       "    </tr>\n",
       "  </thead>\n",
       "  <tbody>\n",
       "    <tr>\n",
       "      <th id=\"T_00006_level0_row0\" class=\"row_heading level0 row0\" >CS7</th>\n",
       "      <td id=\"T_00006_row0_col0\" class=\"data row0 col0\" >2.822921</td>\n",
       "    </tr>\n",
       "    <tr>\n",
       "      <th id=\"T_00006_level0_row1\" class=\"row_heading level0 row1\" >CS3</th>\n",
       "      <td id=\"T_00006_row1_col0\" class=\"data row1 col0\" >1.515985</td>\n",
       "    </tr>\n",
       "    <tr>\n",
       "      <th id=\"T_00006_level0_row2\" class=\"row_heading level0 row2\" >C3A</th>\n",
       "      <td id=\"T_00006_row2_col0\" class=\"data row2 col0\" >0.535168</td>\n",
       "    </tr>\n",
       "    <tr>\n",
       "      <th id=\"T_00006_level0_row3\" class=\"row_heading level0 row3\" >C4AF</th>\n",
       "      <td id=\"T_00006_row3_col0\" class=\"data row3 col0\" >0.305852</td>\n",
       "    </tr>\n",
       "    <tr>\n",
       "      <th id=\"T_00006_level0_row4\" class=\"row_heading level0 row4\" >Bassanite</th>\n",
       "      <td id=\"T_00006_row4_col0\" class=\"data row4 col0\" >0.227392</td>\n",
       "    </tr>\n",
       "    <tr>\n",
       "      <th id=\"T_00006_level0_row5\" class=\"row_heading level0 row5\" >Arcanite</th>\n",
       "      <td id=\"T_00006_row5_col0\" class=\"data row5 col0\" >0.200242</td>\n",
       "    </tr>\n",
       "    <tr>\n",
       "      <th id=\"T_00006_level0_row6\" class=\"row_heading level0 row6\" >Fe2O3</th>\n",
       "      <td id=\"T_00006_row6_col0\" class=\"data row6 col0\" >0.187371</td>\n",
       "    </tr>\n",
       "    <tr>\n",
       "      <th id=\"T_00006_level0_row7\" class=\"row_heading level0 row7\" >Al2O3</th>\n",
       "      <td id=\"T_00006_row7_col0\" class=\"data row7 col0\" >0.184922</td>\n",
       "    </tr>\n",
       "    <tr>\n",
       "      <th id=\"T_00006_level0_row8\" class=\"row_heading level0 row8\" >#200</th>\n",
       "      <td id=\"T_00006_row8_col0\" class=\"data row8 col0\" >0.175448</td>\n",
       "    </tr>\n",
       "    <tr>\n",
       "      <th id=\"T_00006_level0_row9\" class=\"row_heading level0 row9\" >Quartz</th>\n",
       "      <td id=\"T_00006_row9_col0\" class=\"data row9 col0\" >0.168433</td>\n",
       "    </tr>\n",
       "    <tr>\n",
       "      <th id=\"T_00006_level0_row10\" class=\"row_heading level0 row10\" >Aphthitalite</th>\n",
       "      <td id=\"T_00006_row10_col0\" class=\"data row10 col0\" >0.117794</td>\n",
       "    </tr>\n",
       "    <tr>\n",
       "      <th id=\"T_00006_level0_row11\" class=\"row_heading level0 row11\" >Alpha C2S</th>\n",
       "      <td id=\"T_00006_row11_col0\" class=\"data row11 col0\" >0.109665</td>\n",
       "    </tr>\n",
       "    <tr>\n",
       "      <th id=\"T_00006_level0_row12\" class=\"row_heading level0 row12\" >Calcite</th>\n",
       "      <td id=\"T_00006_row12_col0\" class=\"data row12 col0\" >0.103172</td>\n",
       "    </tr>\n",
       "    <tr>\n",
       "      <th id=\"T_00006_level0_row13\" class=\"row_heading level0 row13\" >Density</th>\n",
       "      <td id=\"T_00006_row13_col0\" class=\"data row13 col0\" >0.064490</td>\n",
       "    </tr>\n",
       "    <tr>\n",
       "      <th id=\"T_00006_level0_row14\" class=\"row_heading level0 row14\" >Insoluble Residue</th>\n",
       "      <td id=\"T_00006_row14_col0\" class=\"data row14 col0\" >0.042468</td>\n",
       "    </tr>\n",
       "    <tr>\n",
       "      <th id=\"T_00006_level0_row15\" class=\"row_heading level0 row15\" >Dolomite</th>\n",
       "      <td id=\"T_00006_row15_col0\" class=\"data row15 col0\" >0.033593</td>\n",
       "    </tr>\n",
       "    <tr>\n",
       "      <th id=\"T_00006_level0_row16\" class=\"row_heading level0 row16\" >Final setting time</th>\n",
       "      <td id=\"T_00006_row16_col0\" class=\"data row16 col0\" >0.015676</td>\n",
       "    </tr>\n",
       "    <tr>\n",
       "      <th id=\"T_00006_level0_row17\" class=\"row_heading level0 row17\" >SO3</th>\n",
       "      <td id=\"T_00006_row17_col0\" class=\"data row17 col0\" >0.013215</td>\n",
       "    </tr>\n",
       "    <tr>\n",
       "      <th id=\"T_00006_level0_row18\" class=\"row_heading level0 row18\" >CaO</th>\n",
       "      <td id=\"T_00006_row18_col0\" class=\"data row18 col0\" >0.010563</td>\n",
       "    </tr>\n",
       "    <tr>\n",
       "      <th id=\"T_00006_level0_row19\" class=\"row_heading level0 row19\" >Anhydrite</th>\n",
       "      <td id=\"T_00006_row19_col0\" class=\"data row19 col0\" >0.000512</td>\n",
       "    </tr>\n",
       "    <tr>\n",
       "      <th id=\"T_00006_level0_row20\" class=\"row_heading level0 row20\" >Free CaO</th>\n",
       "      <td id=\"T_00006_row20_col0\" class=\"data row20 col0\" >-0.003935</td>\n",
       "    </tr>\n",
       "    <tr>\n",
       "      <th id=\"T_00006_level0_row21\" class=\"row_heading level0 row21\" >Gypsum</th>\n",
       "      <td id=\"T_00006_row21_col0\" class=\"data row21 col0\" >-0.012257</td>\n",
       "    </tr>\n",
       "    <tr>\n",
       "      <th id=\"T_00006_level0_row22\" class=\"row_heading level0 row22\" >K2O</th>\n",
       "      <td id=\"T_00006_row22_col0\" class=\"data row22 col0\" >-0.037491</td>\n",
       "    </tr>\n",
       "    <tr>\n",
       "      <th id=\"T_00006_level0_row23\" class=\"row_heading level0 row23\" >Loss on Ignition</th>\n",
       "      <td id=\"T_00006_row23_col0\" class=\"data row23 col0\" >-0.042942</td>\n",
       "    </tr>\n",
       "    <tr>\n",
       "      <th id=\"T_00006_level0_row24\" class=\"row_heading level0 row24\" >Periclase</th>\n",
       "      <td id=\"T_00006_row24_col0\" class=\"data row24 col0\" >-0.079213</td>\n",
       "    </tr>\n",
       "    <tr>\n",
       "      <th id=\"T_00006_level0_row25\" class=\"row_heading level0 row25\" >Na2O</th>\n",
       "      <td id=\"T_00006_row25_col0\" class=\"data row25 col0\" >-0.080512</td>\n",
       "    </tr>\n",
       "    <tr>\n",
       "      <th id=\"T_00006_level0_row26\" class=\"row_heading level0 row26\" >Portlandite</th>\n",
       "      <td id=\"T_00006_row26_col0\" class=\"data row26 col0\" >-0.081634</td>\n",
       "    </tr>\n",
       "    <tr>\n",
       "      <th id=\"T_00006_level0_row27\" class=\"row_heading level0 row27\" >Initial setting time</th>\n",
       "      <td id=\"T_00006_row27_col0\" class=\"data row27 col0\" >-0.081943</td>\n",
       "    </tr>\n",
       "    <tr>\n",
       "      <th id=\"T_00006_level0_row28\" class=\"row_heading level0 row28\" >Blaine</th>\n",
       "      <td id=\"T_00006_row28_col0\" class=\"data row28 col0\" >-0.092114</td>\n",
       "    </tr>\n",
       "    <tr>\n",
       "      <th id=\"T_00006_level0_row29\" class=\"row_heading level0 row29\" >Beta C2S</th>\n",
       "      <td id=\"T_00006_row29_col0\" class=\"data row29 col0\" >-0.093520</td>\n",
       "    </tr>\n",
       "    <tr>\n",
       "      <th id=\"T_00006_level0_row30\" class=\"row_heading level0 row30\" >Total C3S</th>\n",
       "      <td id=\"T_00006_row30_col0\" class=\"data row30 col0\" >-0.107875</td>\n",
       "    </tr>\n",
       "    <tr>\n",
       "      <th id=\"T_00006_level0_row31\" class=\"row_heading level0 row31\" >Gamma C2S</th>\n",
       "      <td id=\"T_00006_row31_col0\" class=\"data row31 col0\" >-0.129304</td>\n",
       "    </tr>\n",
       "    <tr>\n",
       "      <th id=\"T_00006_level0_row32\" class=\"row_heading level0 row32\" >Orthorhombic C3A</th>\n",
       "      <td id=\"T_00006_row32_col0\" class=\"data row32 col0\" >-0.130829</td>\n",
       "    </tr>\n",
       "    <tr>\n",
       "      <th id=\"T_00006_level0_row33\" class=\"row_heading level0 row33\" >MgO</th>\n",
       "      <td id=\"T_00006_row33_col0\" class=\"data row33 col0\" >-0.193030</td>\n",
       "    </tr>\n",
       "    <tr>\n",
       "      <th id=\"T_00006_level0_row34\" class=\"row_heading level0 row34\" >SiO2</th>\n",
       "      <td id=\"T_00006_row34_col0\" class=\"data row34 col0\" >-0.230710</td>\n",
       "    </tr>\n",
       "    <tr>\n",
       "      <th id=\"T_00006_level0_row35\" class=\"row_heading level0 row35\" >Cubic C3A</th>\n",
       "      <td id=\"T_00006_row35_col0\" class=\"data row35 col0\" >-0.356344</td>\n",
       "    </tr>\n",
       "    <tr>\n",
       "      <th id=\"T_00006_level0_row36\" class=\"row_heading level0 row36\" >#325</th>\n",
       "      <td id=\"T_00006_row36_col0\" class=\"data row36 col0\" >-0.748179</td>\n",
       "    </tr>\n",
       "  </tbody>\n",
       "</table>\n"
      ],
      "text/plain": [
       "<pandas.io.formats.style.Styler at 0x787601c8ebf0>"
      ]
     },
     "execution_count": 45,
     "metadata": {},
     "output_type": "execute_result"
    },
    {
     "data": {
      "application/javascript": [
       "\n",
       "            setTimeout(function() {\n",
       "                var nbb_cell_id = 45;\n",
       "                var nbb_unformatted_code = \"coeffs.T[\\\"Coefficients\\\"].sort_values(ascending=False).to_frame(\\n    name=\\\"Coefficients\\\"\\n).style.background_gradient(axis=None, vmin=1, vmax=5, cmap=\\\"Greens\\\")\";\n",
       "                var nbb_formatted_code = \"coeffs.T[\\\"Coefficients\\\"].sort_values(ascending=False).to_frame(\\n    name=\\\"Coefficients\\\"\\n).style.background_gradient(axis=None, vmin=1, vmax=5, cmap=\\\"Greens\\\")\";\n",
       "                var nbb_cells = Jupyter.notebook.get_cells();\n",
       "                for (var i = 0; i < nbb_cells.length; ++i) {\n",
       "                    if (nbb_cells[i].input_prompt_number == nbb_cell_id) {\n",
       "                        if (nbb_cells[i].get_text() == nbb_unformatted_code) {\n",
       "                             nbb_cells[i].set_text(nbb_formatted_code);\n",
       "                        }\n",
       "                        break;\n",
       "                    }\n",
       "                }\n",
       "            }, 500);\n",
       "            "
      ],
      "text/plain": [
       "<IPython.core.display.Javascript object>"
      ]
     },
     "metadata": {},
     "output_type": "display_data"
    }
   ],
   "source": [
    "coeffs.T[\"Coefficients\"].sort_values(ascending=False).to_frame(\n",
    "    name=\"Coefficients\"\n",
    ").style.background_gradient(axis=None, vmin=1, vmax=5, cmap=\"Greens\")"
   ]
  },
  {
   "cell_type": "code",
   "execution_count": 46,
   "id": "71782aa2",
   "metadata": {
    "execution": {
     "iopub.execute_input": "2024-07-13T21:12:39.960119Z",
     "iopub.status.busy": "2024-07-13T21:12:39.959411Z",
     "iopub.status.idle": "2024-07-13T21:12:40.034549Z",
     "shell.execute_reply": "2024-07-13T21:12:40.033480Z"
    },
    "papermill": {
     "duration": 0.108257,
     "end_time": "2024-07-13T21:12:40.037709",
     "exception": false,
     "start_time": "2024-07-13T21:12:39.929452",
     "status": "completed"
    },
    "tags": []
   },
   "outputs": [
    {
     "data": {
      "text/html": [
       "<div>\n",
       "<style scoped>\n",
       "    .dataframe tbody tr th:only-of-type {\n",
       "        vertical-align: middle;\n",
       "    }\n",
       "\n",
       "    .dataframe tbody tr th {\n",
       "        vertical-align: top;\n",
       "    }\n",
       "\n",
       "    .dataframe thead tr th {\n",
       "        text-align: left;\n",
       "    }\n",
       "</style>\n",
       "<table border=\"1\" class=\"dataframe\">\n",
       "  <thead>\n",
       "    <tr>\n",
       "      <th></th>\n",
       "      <th>Features</th>\n",
       "      <th>Model</th>\n",
       "      <th>Cross Validation</th>\n",
       "      <th>Cross Validation Params</th>\n",
       "      <th colspan=\"2\" halign=\"left\">RMSE Test</th>\n",
       "      <th colspan=\"2\" halign=\"left\">MAE Test</th>\n",
       "      <th colspan=\"2\" halign=\"left\">MAPE Test</th>\n",
       "      <th colspan=\"2\" halign=\"left\">R2 Test</th>\n",
       "    </tr>\n",
       "    <tr>\n",
       "      <th></th>\n",
       "      <th></th>\n",
       "      <th></th>\n",
       "      <th></th>\n",
       "      <th></th>\n",
       "      <th>mean</th>\n",
       "      <th>std</th>\n",
       "      <th>mean</th>\n",
       "      <th>std</th>\n",
       "      <th>mean</th>\n",
       "      <th>std</th>\n",
       "      <th>mean</th>\n",
       "      <th>std</th>\n",
       "    </tr>\n",
       "  </thead>\n",
       "  <tbody>\n",
       "    <tr>\n",
       "      <th>0</th>\n",
       "      <td>Chemical + Mineralogical + Physical</td>\n",
       "      <td>Linear Regression</td>\n",
       "      <td>Blocking Time Series Split</td>\n",
       "      <td>{\"N_Splits\": 5, \"Repeats\": 1, \"train_size\": 0.8}</td>\n",
       "      <td>1.080901</td>\n",
       "      <td>0.098729</td>\n",
       "      <td>0.858103</td>\n",
       "      <td>0.061362</td>\n",
       "      <td>0.019927</td>\n",
       "      <td>0.001509</td>\n",
       "      <td>0.950736</td>\n",
       "      <td>0.011110</td>\n",
       "    </tr>\n",
       "    <tr>\n",
       "      <th>1</th>\n",
       "      <td>Chemical + Mineralogical + Physical</td>\n",
       "      <td>Linear Regression</td>\n",
       "      <td>Out of time Split</td>\n",
       "      <td>{\"Test Size\": 0.2}</td>\n",
       "      <td>1.065179</td>\n",
       "      <td>0.000000</td>\n",
       "      <td>0.835774</td>\n",
       "      <td>0.000000</td>\n",
       "      <td>0.019295</td>\n",
       "      <td>0.000000</td>\n",
       "      <td>0.954163</td>\n",
       "      <td>0.000000</td>\n",
       "    </tr>\n",
       "    <tr>\n",
       "      <th>2</th>\n",
       "      <td>Chemical + Mineralogical + Physical</td>\n",
       "      <td>Linear Regression</td>\n",
       "      <td>Repeated KFold</td>\n",
       "      <td>{\"N_Splits\": 5, \"Repeats\": 3}</td>\n",
       "      <td>0.976822</td>\n",
       "      <td>0.036221</td>\n",
       "      <td>0.756527</td>\n",
       "      <td>0.033071</td>\n",
       "      <td>0.017623</td>\n",
       "      <td>0.000795</td>\n",
       "      <td>0.962264</td>\n",
       "      <td>0.003015</td>\n",
       "    </tr>\n",
       "    <tr>\n",
       "      <th>3</th>\n",
       "      <td>Chemical + Mineralogical + Physical</td>\n",
       "      <td>Linear Regression</td>\n",
       "      <td>Time Series Split</td>\n",
       "      <td>{\"N_Splits\": 5, \"Repeats\": 1, \"Gap\": 0}</td>\n",
       "      <td>1.081374</td>\n",
       "      <td>0.030586</td>\n",
       "      <td>0.847352</td>\n",
       "      <td>0.035983</td>\n",
       "      <td>0.019657</td>\n",
       "      <td>0.000929</td>\n",
       "      <td>0.954137</td>\n",
       "      <td>0.003698</td>\n",
       "    </tr>\n",
       "  </tbody>\n",
       "</table>\n",
       "</div>"
      ],
      "text/plain": [
       "                              Features              Model  \\\n",
       "                                                            \n",
       "0  Chemical + Mineralogical + Physical  Linear Regression   \n",
       "1  Chemical + Mineralogical + Physical  Linear Regression   \n",
       "2  Chemical + Mineralogical + Physical  Linear Regression   \n",
       "3  Chemical + Mineralogical + Physical  Linear Regression   \n",
       "\n",
       "             Cross Validation  \\\n",
       "                                \n",
       "0  Blocking Time Series Split   \n",
       "1           Out of time Split   \n",
       "2              Repeated KFold   \n",
       "3           Time Series Split   \n",
       "\n",
       "                            Cross Validation Params RMSE Test            \\\n",
       "                                                         mean       std   \n",
       "0  {\"N_Splits\": 5, \"Repeats\": 1, \"train_size\": 0.8}  1.080901  0.098729   \n",
       "1                                {\"Test Size\": 0.2}  1.065179  0.000000   \n",
       "2                     {\"N_Splits\": 5, \"Repeats\": 3}  0.976822  0.036221   \n",
       "3           {\"N_Splits\": 5, \"Repeats\": 1, \"Gap\": 0}  1.081374  0.030586   \n",
       "\n",
       "   MAE Test           MAPE Test             R2 Test            \n",
       "       mean       std      mean       std      mean       std  \n",
       "0  0.858103  0.061362  0.019927  0.001509  0.950736  0.011110  \n",
       "1  0.835774  0.000000  0.019295  0.000000  0.954163  0.000000  \n",
       "2  0.756527  0.033071  0.017623  0.000795  0.962264  0.003015  \n",
       "3  0.847352  0.035983  0.019657  0.000929  0.954137  0.003698  "
      ]
     },
     "execution_count": 46,
     "metadata": {},
     "output_type": "execute_result"
    },
    {
     "data": {
      "application/javascript": [
       "\n",
       "            setTimeout(function() {\n",
       "                var nbb_cell_id = 46;\n",
       "                var nbb_unformatted_code = \"pd.concat(results_to_save).groupby(\\n    [\\\"Features\\\", \\\"Model\\\", \\\"Cross Validation\\\", \\\"Cross Validation Params\\\"]\\n)[[\\\"RMSE Test\\\", \\\"MAE Test\\\", \\\"MAPE Test\\\", \\\"R2 Test\\\"]].agg(\\n    [\\\"mean\\\", lambda series: pd.Series(series.std(ddof=0), name=\\\"std\\\")]\\n).reset_index().rename(\\n    columns={\\\"<lambda_0>\\\": \\\"std\\\"}\\n)\";\n",
       "                var nbb_formatted_code = \"pd.concat(results_to_save).groupby(\\n    [\\\"Features\\\", \\\"Model\\\", \\\"Cross Validation\\\", \\\"Cross Validation Params\\\"]\\n)[[\\\"RMSE Test\\\", \\\"MAE Test\\\", \\\"MAPE Test\\\", \\\"R2 Test\\\"]].agg(\\n    [\\\"mean\\\", lambda series: pd.Series(series.std(ddof=0), name=\\\"std\\\")]\\n).reset_index().rename(\\n    columns={\\\"<lambda_0>\\\": \\\"std\\\"}\\n)\";\n",
       "                var nbb_cells = Jupyter.notebook.get_cells();\n",
       "                for (var i = 0; i < nbb_cells.length; ++i) {\n",
       "                    if (nbb_cells[i].input_prompt_number == nbb_cell_id) {\n",
       "                        if (nbb_cells[i].get_text() == nbb_unformatted_code) {\n",
       "                             nbb_cells[i].set_text(nbb_formatted_code);\n",
       "                        }\n",
       "                        break;\n",
       "                    }\n",
       "                }\n",
       "            }, 500);\n",
       "            "
      ],
      "text/plain": [
       "<IPython.core.display.Javascript object>"
      ]
     },
     "metadata": {},
     "output_type": "display_data"
    }
   ],
   "source": [
    "pd.concat(results_to_save).groupby(\n",
    "    [\"Features\", \"Model\", \"Cross Validation\", \"Cross Validation Params\"]\n",
    ")[[\"RMSE Test\", \"MAE Test\", \"MAPE Test\", \"R2 Test\"]].agg(\n",
    "    [\"mean\", lambda series: pd.Series(series.std(ddof=0), name=\"std\")]\n",
    ").reset_index().rename(\n",
    "    columns={\"<lambda_0>\": \"std\"}\n",
    ")"
   ]
  },
  {
   "cell_type": "markdown",
   "id": "ba5aa59a",
   "metadata": {
    "papermill": {
     "duration": 0.036688,
     "end_time": "2024-07-13T21:12:40.118651",
     "exception": false,
     "start_time": "2024-07-13T21:12:40.081963",
     "status": "completed"
    },
    "tags": []
   },
   "source": [
    "# Saving the results Dataframe"
   ]
  },
  {
   "cell_type": "markdown",
   "id": "696904ed",
   "metadata": {
    "papermill": {
     "duration": 0.023361,
     "end_time": "2024-07-13T21:12:40.187883",
     "exception": false,
     "start_time": "2024-07-13T21:12:40.164522",
     "status": "completed"
    },
    "tags": []
   },
   "source": [
    "## Saving the full dataframe"
   ]
  },
  {
   "cell_type": "code",
   "execution_count": 47,
   "id": "ef1e4ac5",
   "metadata": {
    "execution": {
     "iopub.execute_input": "2024-07-13T21:12:40.231757Z",
     "iopub.status.busy": "2024-07-13T21:12:40.231116Z",
     "iopub.status.idle": "2024-07-13T21:12:40.257447Z",
     "shell.execute_reply": "2024-07-13T21:12:40.256212Z"
    },
    "papermill": {
     "duration": 0.04918,
     "end_time": "2024-07-13T21:12:40.259808",
     "exception": false,
     "start_time": "2024-07-13T21:12:40.210628",
     "status": "completed"
    },
    "tags": []
   },
   "outputs": [
    {
     "data": {
      "application/javascript": [
       "\n",
       "            setTimeout(function() {\n",
       "                var nbb_cell_id = 47;\n",
       "                var nbb_unformatted_code = \"path = (\\n    \\\"../../../../../../reports/results/local_models/partner_i-oficial/all_cements/full/\\\"\\n)\\nfilename = \\\"linear_regression_results_full_7.csv\\\"\\n\\npd.concat(results_to_save).to_csv(\\n    path_or_buf=path + filename,\\n    mode=\\\"w\\\",\\n    index=False,\\n    header=True,\\n)\";\n",
       "                var nbb_formatted_code = \"path = \\\"../../../../../../reports/results/local_models/partner_i-oficial/all_cements/full/\\\"\\nfilename = \\\"linear_regression_results_full_7.csv\\\"\\n\\npd.concat(results_to_save).to_csv(\\n    path_or_buf=path + filename,\\n    mode=\\\"w\\\",\\n    index=False,\\n    header=True,\\n)\";\n",
       "                var nbb_cells = Jupyter.notebook.get_cells();\n",
       "                for (var i = 0; i < nbb_cells.length; ++i) {\n",
       "                    if (nbb_cells[i].input_prompt_number == nbb_cell_id) {\n",
       "                        if (nbb_cells[i].get_text() == nbb_unformatted_code) {\n",
       "                             nbb_cells[i].set_text(nbb_formatted_code);\n",
       "                        }\n",
       "                        break;\n",
       "                    }\n",
       "                }\n",
       "            }, 500);\n",
       "            "
      ],
      "text/plain": [
       "<IPython.core.display.Javascript object>"
      ]
     },
     "metadata": {},
     "output_type": "display_data"
    }
   ],
   "source": [
    "path = (\n",
    "    \"../../../../../../reports/results/local_models/partner_i-oficial/all_cements/full/\"\n",
    ")\n",
    "filename = \"linear_regression_results_full_7.csv\"\n",
    "\n",
    "pd.concat(results_to_save).to_csv(\n",
    "    path_or_buf=path + filename,\n",
    "    mode=\"w\",\n",
    "    index=False,\n",
    "    header=True,\n",
    ")"
   ]
  },
  {
   "cell_type": "markdown",
   "id": "a60b9471",
   "metadata": {
    "papermill": {
     "duration": 0.155597,
     "end_time": "2024-07-13T21:12:40.440358",
     "exception": false,
     "start_time": "2024-07-13T21:12:40.284761",
     "status": "completed"
    },
    "tags": []
   },
   "source": [
    "## Saving the grouped dataframe"
   ]
  },
  {
   "cell_type": "code",
   "execution_count": 48,
   "id": "cbefd2da",
   "metadata": {
    "execution": {
     "iopub.execute_input": "2024-07-13T21:12:40.613127Z",
     "iopub.status.busy": "2024-07-13T21:12:40.611963Z",
     "iopub.status.idle": "2024-07-13T21:12:40.780852Z",
     "shell.execute_reply": "2024-07-13T21:12:40.779773Z"
    },
    "papermill": {
     "duration": 0.21212,
     "end_time": "2024-07-13T21:12:40.784224",
     "exception": false,
     "start_time": "2024-07-13T21:12:40.572104",
     "status": "completed"
    },
    "tags": []
   },
   "outputs": [
    {
     "data": {
      "application/javascript": [
       "\n",
       "            setTimeout(function() {\n",
       "                var nbb_cell_id = 48;\n",
       "                var nbb_unformatted_code = \"cols_groupby = [\\n    \\\"Category\\\",\\n    \\\"Company\\\",\\n    \\\"Data Shape\\\",\\n    \\\"Timesteps\\\",\\n    \\\"Features\\\",\\n    \\\"Model\\\",\\n    \\\"Cross Validation\\\",\\n    \\\"Cross Validation Params\\\",\\n]\\n\\ncols_agg = [\\\"RMSE Train\\\", \\\"MAE Train\\\", \\\"MAPE Train\\\", \\\"R2 Train\\\"] + [\\n    \\\"RMSE Test\\\",\\n    \\\"MAE Test\\\",\\n    \\\"MAPE Test\\\",\\n    \\\"R2 Test\\\",\\n]\\n\\npath = \\\"../../../../../../reports/results/local_models/partner_i-oficial/all_cements/grouped/\\\"\\nfilename = \\\"linear_regression_results_grouped_7.csv\\\"\\n\\n\\ndf_results_to_save = (\\n    pd.concat(results_to_save)\\n    .groupby(cols_groupby, dropna=False)[cols_agg]\\n    .agg([\\\"mean\\\", lambda series: pd.Series(series.std(ddof=0), name=\\\"std\\\")])\\n    .reset_index()\\n    .rename(columns={\\\"<lambda_0>\\\": \\\"std\\\"})\\n)\\n\\ndf_results_to_save.to_csv(\\n    path_or_buf=path + filename,\\n    mode=\\\"w\\\",\\n    index=False,\\n    header=True,  # header=df_results_to_save.columns\\n)\";\n",
       "                var nbb_formatted_code = \"cols_groupby = [\\n    \\\"Category\\\",\\n    \\\"Company\\\",\\n    \\\"Data Shape\\\",\\n    \\\"Timesteps\\\",\\n    \\\"Features\\\",\\n    \\\"Model\\\",\\n    \\\"Cross Validation\\\",\\n    \\\"Cross Validation Params\\\",\\n]\\n\\ncols_agg = [\\\"RMSE Train\\\", \\\"MAE Train\\\", \\\"MAPE Train\\\", \\\"R2 Train\\\"] + [\\n    \\\"RMSE Test\\\",\\n    \\\"MAE Test\\\",\\n    \\\"MAPE Test\\\",\\n    \\\"R2 Test\\\",\\n]\\n\\npath = \\\"../../../../../../reports/results/local_models/partner_i-oficial/all_cements/grouped/\\\"\\nfilename = \\\"linear_regression_results_grouped_7.csv\\\"\\n\\n\\ndf_results_to_save = (\\n    pd.concat(results_to_save)\\n    .groupby(cols_groupby, dropna=False)[cols_agg]\\n    .agg([\\\"mean\\\", lambda series: pd.Series(series.std(ddof=0), name=\\\"std\\\")])\\n    .reset_index()\\n    .rename(columns={\\\"<lambda_0>\\\": \\\"std\\\"})\\n)\\n\\ndf_results_to_save.to_csv(\\n    path_or_buf=path + filename,\\n    mode=\\\"w\\\",\\n    index=False,\\n    header=True,  # header=df_results_to_save.columns\\n)\";\n",
       "                var nbb_cells = Jupyter.notebook.get_cells();\n",
       "                for (var i = 0; i < nbb_cells.length; ++i) {\n",
       "                    if (nbb_cells[i].input_prompt_number == nbb_cell_id) {\n",
       "                        if (nbb_cells[i].get_text() == nbb_unformatted_code) {\n",
       "                             nbb_cells[i].set_text(nbb_formatted_code);\n",
       "                        }\n",
       "                        break;\n",
       "                    }\n",
       "                }\n",
       "            }, 500);\n",
       "            "
      ],
      "text/plain": [
       "<IPython.core.display.Javascript object>"
      ]
     },
     "metadata": {},
     "output_type": "display_data"
    }
   ],
   "source": [
    "cols_groupby = [\n",
    "    \"Category\",\n",
    "    \"Company\",\n",
    "    \"Data Shape\",\n",
    "    \"Timesteps\",\n",
    "    \"Features\",\n",
    "    \"Model\",\n",
    "    \"Cross Validation\",\n",
    "    \"Cross Validation Params\",\n",
    "]\n",
    "\n",
    "cols_agg = [\"RMSE Train\", \"MAE Train\", \"MAPE Train\", \"R2 Train\"] + [\n",
    "    \"RMSE Test\",\n",
    "    \"MAE Test\",\n",
    "    \"MAPE Test\",\n",
    "    \"R2 Test\",\n",
    "]\n",
    "\n",
    "path = \"../../../../../../reports/results/local_models/partner_i-oficial/all_cements/grouped/\"\n",
    "filename = \"linear_regression_results_grouped_7.csv\"\n",
    "\n",
    "\n",
    "df_results_to_save = (\n",
    "    pd.concat(results_to_save)\n",
    "    .groupby(cols_groupby, dropna=False)[cols_agg]\n",
    "    .agg([\"mean\", lambda series: pd.Series(series.std(ddof=0), name=\"std\")])\n",
    "    .reset_index()\n",
    "    .rename(columns={\"<lambda_0>\": \"std\"})\n",
    ")\n",
    "\n",
    "df_results_to_save.to_csv(\n",
    "    path_or_buf=path + filename,\n",
    "    mode=\"w\",\n",
    "    index=False,\n",
    "    header=True,  # header=df_results_to_save.columns\n",
    ")"
   ]
  },
  {
   "cell_type": "code",
   "execution_count": 49,
   "id": "bff45f62",
   "metadata": {
    "execution": {
     "iopub.execute_input": "2024-07-13T21:12:40.867557Z",
     "iopub.status.busy": "2024-07-13T21:12:40.866839Z",
     "iopub.status.idle": "2024-07-13T21:12:40.947995Z",
     "shell.execute_reply": "2024-07-13T21:12:40.946757Z"
    },
    "papermill": {
     "duration": 0.116091,
     "end_time": "2024-07-13T21:12:40.950745",
     "exception": false,
     "start_time": "2024-07-13T21:12:40.834654",
     "status": "completed"
    },
    "tags": []
   },
   "outputs": [
    {
     "data": {
      "text/html": [
       "<div>\n",
       "<style scoped>\n",
       "    .dataframe tbody tr th:only-of-type {\n",
       "        vertical-align: middle;\n",
       "    }\n",
       "\n",
       "    .dataframe tbody tr th {\n",
       "        vertical-align: top;\n",
       "    }\n",
       "\n",
       "    .dataframe thead tr th {\n",
       "        text-align: left;\n",
       "    }\n",
       "</style>\n",
       "<table border=\"1\" class=\"dataframe\">\n",
       "  <thead>\n",
       "    <tr>\n",
       "      <th></th>\n",
       "      <th>Category</th>\n",
       "      <th>Company</th>\n",
       "      <th>Data Shape</th>\n",
       "      <th>Timesteps</th>\n",
       "      <th>Features</th>\n",
       "      <th>Model</th>\n",
       "      <th>Cross Validation</th>\n",
       "      <th>Cross Validation Params</th>\n",
       "      <th colspan=\"2\" halign=\"left\">RMSE Train</th>\n",
       "      <th>...</th>\n",
       "      <th colspan=\"2\" halign=\"left\">R2 Train</th>\n",
       "      <th colspan=\"2\" halign=\"left\">RMSE Test</th>\n",
       "      <th colspan=\"2\" halign=\"left\">MAE Test</th>\n",
       "      <th colspan=\"2\" halign=\"left\">MAPE Test</th>\n",
       "      <th colspan=\"2\" halign=\"left\">R2 Test</th>\n",
       "    </tr>\n",
       "    <tr>\n",
       "      <th></th>\n",
       "      <th></th>\n",
       "      <th></th>\n",
       "      <th></th>\n",
       "      <th></th>\n",
       "      <th></th>\n",
       "      <th></th>\n",
       "      <th></th>\n",
       "      <th></th>\n",
       "      <th>mean</th>\n",
       "      <th>std</th>\n",
       "      <th>...</th>\n",
       "      <th>mean</th>\n",
       "      <th>std</th>\n",
       "      <th>mean</th>\n",
       "      <th>std</th>\n",
       "      <th>mean</th>\n",
       "      <th>std</th>\n",
       "      <th>mean</th>\n",
       "      <th>std</th>\n",
       "      <th>mean</th>\n",
       "      <th>std</th>\n",
       "    </tr>\n",
       "  </thead>\n",
       "  <tbody>\n",
       "    <tr>\n",
       "      <th>0</th>\n",
       "      <td>Local Model</td>\n",
       "      <td>partner_i</td>\n",
       "      <td>(1226, 37)</td>\n",
       "      <td>NaN</td>\n",
       "      <td>Chemical + Mineralogical + Physical</td>\n",
       "      <td>Linear Regression</td>\n",
       "      <td>Blocking Time Series Split</td>\n",
       "      <td>{\"N_Splits\": 5, \"Repeats\": 1, \"train_size\": 0.8}</td>\n",
       "      <td>0.805031</td>\n",
       "      <td>0.046589</td>\n",
       "      <td>...</td>\n",
       "      <td>0.974466</td>\n",
       "      <td>0.003214</td>\n",
       "      <td>1.080901</td>\n",
       "      <td>0.098729</td>\n",
       "      <td>0.858103</td>\n",
       "      <td>0.061362</td>\n",
       "      <td>0.019927</td>\n",
       "      <td>0.001509</td>\n",
       "      <td>0.950736</td>\n",
       "      <td>0.011110</td>\n",
       "    </tr>\n",
       "    <tr>\n",
       "      <th>1</th>\n",
       "      <td>Local Model</td>\n",
       "      <td>partner_i</td>\n",
       "      <td>(1226, 37)</td>\n",
       "      <td>NaN</td>\n",
       "      <td>Chemical + Mineralogical + Physical</td>\n",
       "      <td>Linear Regression</td>\n",
       "      <td>Out of time Split</td>\n",
       "      <td>{\"Test Size\": 0.2}</td>\n",
       "      <td>0.915126</td>\n",
       "      <td>0.000000</td>\n",
       "      <td>...</td>\n",
       "      <td>0.967235</td>\n",
       "      <td>0.000000</td>\n",
       "      <td>1.065179</td>\n",
       "      <td>0.000000</td>\n",
       "      <td>0.835774</td>\n",
       "      <td>0.000000</td>\n",
       "      <td>0.019295</td>\n",
       "      <td>0.000000</td>\n",
       "      <td>0.954163</td>\n",
       "      <td>0.000000</td>\n",
       "    </tr>\n",
       "    <tr>\n",
       "      <th>2</th>\n",
       "      <td>Local Model</td>\n",
       "      <td>partner_i</td>\n",
       "      <td>(1226, 37)</td>\n",
       "      <td>NaN</td>\n",
       "      <td>Chemical + Mineralogical + Physical</td>\n",
       "      <td>Linear Regression</td>\n",
       "      <td>Repeated KFold</td>\n",
       "      <td>{\"N_Splits\": 5, \"Repeats\": 3}</td>\n",
       "      <td>0.935457</td>\n",
       "      <td>0.008227</td>\n",
       "      <td>...</td>\n",
       "      <td>0.965605</td>\n",
       "      <td>0.000630</td>\n",
       "      <td>0.976822</td>\n",
       "      <td>0.036221</td>\n",
       "      <td>0.756527</td>\n",
       "      <td>0.033071</td>\n",
       "      <td>0.017623</td>\n",
       "      <td>0.000795</td>\n",
       "      <td>0.962264</td>\n",
       "      <td>0.003015</td>\n",
       "    </tr>\n",
       "    <tr>\n",
       "      <th>3</th>\n",
       "      <td>Local Model</td>\n",
       "      <td>partner_i</td>\n",
       "      <td>(1226, 37)</td>\n",
       "      <td>NaN</td>\n",
       "      <td>Chemical + Mineralogical + Physical</td>\n",
       "      <td>Linear Regression</td>\n",
       "      <td>Time Series Split</td>\n",
       "      <td>{\"N_Splits\": 5, \"Repeats\": 1, \"Gap\": 0}</td>\n",
       "      <td>0.840417</td>\n",
       "      <td>0.071910</td>\n",
       "      <td>...</td>\n",
       "      <td>0.970980</td>\n",
       "      <td>0.004039</td>\n",
       "      <td>1.081374</td>\n",
       "      <td>0.030586</td>\n",
       "      <td>0.847352</td>\n",
       "      <td>0.035983</td>\n",
       "      <td>0.019657</td>\n",
       "      <td>0.000929</td>\n",
       "      <td>0.954137</td>\n",
       "      <td>0.003698</td>\n",
       "    </tr>\n",
       "  </tbody>\n",
       "</table>\n",
       "<p>4 rows × 24 columns</p>\n",
       "</div>"
      ],
      "text/plain": [
       "      Category     Company  Data Shape Timesteps  \\\n",
       "                                                   \n",
       "0  Local Model  partner_i  (1226, 37)       NaN   \n",
       "1  Local Model  partner_i  (1226, 37)       NaN   \n",
       "2  Local Model  partner_i  (1226, 37)       NaN   \n",
       "3  Local Model  partner_i  (1226, 37)       NaN   \n",
       "\n",
       "                              Features              Model  \\\n",
       "                                                            \n",
       "0  Chemical + Mineralogical + Physical  Linear Regression   \n",
       "1  Chemical + Mineralogical + Physical  Linear Regression   \n",
       "2  Chemical + Mineralogical + Physical  Linear Regression   \n",
       "3  Chemical + Mineralogical + Physical  Linear Regression   \n",
       "\n",
       "             Cross Validation  \\\n",
       "                                \n",
       "0  Blocking Time Series Split   \n",
       "1           Out of time Split   \n",
       "2              Repeated KFold   \n",
       "3           Time Series Split   \n",
       "\n",
       "                            Cross Validation Params RMSE Train            ...  \\\n",
       "                                                          mean       std  ...   \n",
       "0  {\"N_Splits\": 5, \"Repeats\": 1, \"train_size\": 0.8}   0.805031  0.046589  ...   \n",
       "1                                {\"Test Size\": 0.2}   0.915126  0.000000  ...   \n",
       "2                     {\"N_Splits\": 5, \"Repeats\": 3}   0.935457  0.008227  ...   \n",
       "3           {\"N_Splits\": 5, \"Repeats\": 1, \"Gap\": 0}   0.840417  0.071910  ...   \n",
       "\n",
       "   R2 Train           RMSE Test            MAE Test           MAPE Test  \\\n",
       "       mean       std      mean       std      mean       std      mean   \n",
       "0  0.974466  0.003214  1.080901  0.098729  0.858103  0.061362  0.019927   \n",
       "1  0.967235  0.000000  1.065179  0.000000  0.835774  0.000000  0.019295   \n",
       "2  0.965605  0.000630  0.976822  0.036221  0.756527  0.033071  0.017623   \n",
       "3  0.970980  0.004039  1.081374  0.030586  0.847352  0.035983  0.019657   \n",
       "\n",
       "              R2 Test            \n",
       "        std      mean       std  \n",
       "0  0.001509  0.950736  0.011110  \n",
       "1  0.000000  0.954163  0.000000  \n",
       "2  0.000795  0.962264  0.003015  \n",
       "3  0.000929  0.954137  0.003698  \n",
       "\n",
       "[4 rows x 24 columns]"
      ]
     },
     "execution_count": 49,
     "metadata": {},
     "output_type": "execute_result"
    },
    {
     "data": {
      "application/javascript": [
       "\n",
       "            setTimeout(function() {\n",
       "                var nbb_cell_id = 49;\n",
       "                var nbb_unformatted_code = \"df_results_to_save\";\n",
       "                var nbb_formatted_code = \"df_results_to_save\";\n",
       "                var nbb_cells = Jupyter.notebook.get_cells();\n",
       "                for (var i = 0; i < nbb_cells.length; ++i) {\n",
       "                    if (nbb_cells[i].input_prompt_number == nbb_cell_id) {\n",
       "                        if (nbb_cells[i].get_text() == nbb_unformatted_code) {\n",
       "                             nbb_cells[i].set_text(nbb_formatted_code);\n",
       "                        }\n",
       "                        break;\n",
       "                    }\n",
       "                }\n",
       "            }, 500);\n",
       "            "
      ],
      "text/plain": [
       "<IPython.core.display.Javascript object>"
      ]
     },
     "metadata": {},
     "output_type": "display_data"
    }
   ],
   "source": [
    "df_results_to_save"
   ]
  },
  {
   "cell_type": "code",
   "execution_count": 50,
   "id": "32e95361",
   "metadata": {
    "execution": {
     "iopub.execute_input": "2024-07-13T21:12:41.019064Z",
     "iopub.status.busy": "2024-07-13T21:12:41.017619Z",
     "iopub.status.idle": "2024-07-13T21:12:41.122885Z",
     "shell.execute_reply": "2024-07-13T21:12:41.121666Z"
    },
    "papermill": {
     "duration": 0.138742,
     "end_time": "2024-07-13T21:12:41.125728",
     "exception": false,
     "start_time": "2024-07-13T21:12:40.986986",
     "status": "completed"
    },
    "tags": []
   },
   "outputs": [
    {
     "data": {
      "application/javascript": [
       "\n",
       "            setTimeout(function() {\n",
       "                var nbb_cell_id = 50;\n",
       "                var nbb_unformatted_code = \"c = pd.read_csv(\\n    \\\"../../../../../../reports/results/local_models/partner_i-oficial/all_cements/grouped/linear_regression_results_grouped_1.csv\\\",\\n    header=[0, 1],\\n).rename(columns=lambda x: \\\"\\\" if \\\"Unnamed\\\" in x else x, level=1)\";\n",
       "                var nbb_formatted_code = \"c = pd.read_csv(\\n    \\\"../../../../../../reports/results/local_models/partner_i-oficial/all_cements/grouped/linear_regression_results_grouped_1.csv\\\",\\n    header=[0, 1],\\n).rename(columns=lambda x: \\\"\\\" if \\\"Unnamed\\\" in x else x, level=1)\";\n",
       "                var nbb_cells = Jupyter.notebook.get_cells();\n",
       "                for (var i = 0; i < nbb_cells.length; ++i) {\n",
       "                    if (nbb_cells[i].input_prompt_number == nbb_cell_id) {\n",
       "                        if (nbb_cells[i].get_text() == nbb_unformatted_code) {\n",
       "                             nbb_cells[i].set_text(nbb_formatted_code);\n",
       "                        }\n",
       "                        break;\n",
       "                    }\n",
       "                }\n",
       "            }, 500);\n",
       "            "
      ],
      "text/plain": [
       "<IPython.core.display.Javascript object>"
      ]
     },
     "metadata": {},
     "output_type": "display_data"
    }
   ],
   "source": [
    "c = pd.read_csv(\n",
    "    \"../../../../../../reports/results/local_models/partner_i-oficial/all_cements/grouped/linear_regression_results_grouped_1.csv\",\n",
    "    header=[0, 1],\n",
    ").rename(columns=lambda x: \"\" if \"Unnamed\" in x else x, level=1)"
   ]
  },
  {
   "cell_type": "code",
   "execution_count": 51,
   "id": "7229422b",
   "metadata": {
    "execution": {
     "iopub.execute_input": "2024-07-13T21:12:41.195474Z",
     "iopub.status.busy": "2024-07-13T21:12:41.194055Z",
     "iopub.status.idle": "2024-07-13T21:12:41.321311Z",
     "shell.execute_reply": "2024-07-13T21:12:41.320073Z"
    },
    "papermill": {
     "duration": 0.162161,
     "end_time": "2024-07-13T21:12:41.324262",
     "exception": false,
     "start_time": "2024-07-13T21:12:41.162101",
     "status": "completed"
    },
    "tags": []
   },
   "outputs": [
    {
     "name": "stdout",
     "output_type": "stream",
     "text": [
      "<class 'pandas.core.frame.DataFrame'>\n",
      "RangeIndex: 4 entries, 0 to 3\n",
      "Data columns (total 24 columns):\n",
      " #   Column                       Non-Null Count  Dtype  \n",
      "---  ------                       --------------  -----  \n",
      " 0   (Category, )                 4 non-null      object \n",
      " 1   (Company, )                  4 non-null      object \n",
      " 2   (Data Shape, )               4 non-null      object \n",
      " 3   (Timesteps, )                0 non-null      float64\n",
      " 4   (Features, )                 4 non-null      object \n",
      " 5   (Model, )                    4 non-null      object \n",
      " 6   (Cross Validation, )         4 non-null      object \n",
      " 7   (Cross Validation Params, )  4 non-null      object \n",
      " 8   (RMSE Train, mean)           4 non-null      float64\n",
      " 9   (RMSE Train, std)            4 non-null      float64\n",
      " 10  (MAE Train, mean)            4 non-null      float64\n",
      " 11  (MAE Train, std)             4 non-null      float64\n",
      " 12  (MAPE Train, mean)           4 non-null      float64\n",
      " 13  (MAPE Train, std)            4 non-null      float64\n",
      " 14  (R2 Train, mean)             4 non-null      float64\n",
      " 15  (R2 Train, std)              4 non-null      float64\n",
      " 16  (RMSE Test, mean)            4 non-null      float64\n",
      " 17  (RMSE Test, std)             4 non-null      float64\n",
      " 18  (MAE Test, mean)             4 non-null      float64\n",
      " 19  (MAE Test, std)              4 non-null      float64\n",
      " 20  (MAPE Test, mean)            4 non-null      float64\n",
      " 21  (MAPE Test, std)             4 non-null      float64\n",
      " 22  (R2 Test, mean)              4 non-null      float64\n",
      " 23  (R2 Test, std)               4 non-null      float64\n",
      "dtypes: float64(17), object(7)\n",
      "memory usage: 896.0+ bytes\n"
     ]
    },
    {
     "data": {
      "application/javascript": [
       "\n",
       "            setTimeout(function() {\n",
       "                var nbb_cell_id = 51;\n",
       "                var nbb_unformatted_code = \"c.info()\";\n",
       "                var nbb_formatted_code = \"c.info()\";\n",
       "                var nbb_cells = Jupyter.notebook.get_cells();\n",
       "                for (var i = 0; i < nbb_cells.length; ++i) {\n",
       "                    if (nbb_cells[i].input_prompt_number == nbb_cell_id) {\n",
       "                        if (nbb_cells[i].get_text() == nbb_unformatted_code) {\n",
       "                             nbb_cells[i].set_text(nbb_formatted_code);\n",
       "                        }\n",
       "                        break;\n",
       "                    }\n",
       "                }\n",
       "            }, 500);\n",
       "            "
      ],
      "text/plain": [
       "<IPython.core.display.Javascript object>"
      ]
     },
     "metadata": {},
     "output_type": "display_data"
    }
   ],
   "source": [
    "c.info()"
   ]
  },
  {
   "cell_type": "code",
   "execution_count": 52,
   "id": "1375ceee",
   "metadata": {
    "execution": {
     "iopub.execute_input": "2024-07-13T21:12:41.396332Z",
     "iopub.status.busy": "2024-07-13T21:12:41.395184Z",
     "iopub.status.idle": "2024-07-13T21:12:41.518498Z",
     "shell.execute_reply": "2024-07-13T21:12:41.517280Z"
    },
    "papermill": {
     "duration": 0.157712,
     "end_time": "2024-07-13T21:12:41.521249",
     "exception": false,
     "start_time": "2024-07-13T21:12:41.363537",
     "status": "completed"
    },
    "tags": []
   },
   "outputs": [
    {
     "name": "stdout",
     "output_type": "stream",
     "text": [
      "<class 'pandas.core.frame.DataFrame'>\n",
      "RangeIndex: 4 entries, 0 to 3\n",
      "Data columns (total 24 columns):\n",
      " #   Column                       Non-Null Count  Dtype  \n",
      "---  ------                       --------------  -----  \n",
      " 0   (Category, )                 4 non-null      object \n",
      " 1   (Company, )                  4 non-null      object \n",
      " 2   (Data Shape, )               4 non-null      object \n",
      " 3   (Timesteps, )                0 non-null      float64\n",
      " 4   (Features, )                 4 non-null      object \n",
      " 5   (Model, )                    4 non-null      object \n",
      " 6   (Cross Validation, )         4 non-null      object \n",
      " 7   (Cross Validation Params, )  4 non-null      object \n",
      " 8   (RMSE Train, mean)           4 non-null      float64\n",
      " 9   (RMSE Train, std)            4 non-null      float64\n",
      " 10  (MAE Train, mean)            4 non-null      float64\n",
      " 11  (MAE Train, std)             4 non-null      float64\n",
      " 12  (MAPE Train, mean)           4 non-null      float64\n",
      " 13  (MAPE Train, std)            4 non-null      float64\n",
      " 14  (R2 Train, mean)             4 non-null      float64\n",
      " 15  (R2 Train, std)              4 non-null      float64\n",
      " 16  (RMSE Test, mean)            4 non-null      float64\n",
      " 17  (RMSE Test, std)             4 non-null      float64\n",
      " 18  (MAE Test, mean)             4 non-null      float64\n",
      " 19  (MAE Test, std)              4 non-null      float64\n",
      " 20  (MAPE Test, mean)            4 non-null      float64\n",
      " 21  (MAPE Test, std)             4 non-null      float64\n",
      " 22  (R2 Test, mean)              4 non-null      float64\n",
      " 23  (R2 Test, std)               4 non-null      float64\n",
      "dtypes: float64(17), object(7)\n",
      "memory usage: 896.0+ bytes\n"
     ]
    },
    {
     "data": {
      "application/javascript": [
       "\n",
       "            setTimeout(function() {\n",
       "                var nbb_cell_id = 52;\n",
       "                var nbb_unformatted_code = \"df_results_to_save.info()\";\n",
       "                var nbb_formatted_code = \"df_results_to_save.info()\";\n",
       "                var nbb_cells = Jupyter.notebook.get_cells();\n",
       "                for (var i = 0; i < nbb_cells.length; ++i) {\n",
       "                    if (nbb_cells[i].input_prompt_number == nbb_cell_id) {\n",
       "                        if (nbb_cells[i].get_text() == nbb_unformatted_code) {\n",
       "                             nbb_cells[i].set_text(nbb_formatted_code);\n",
       "                        }\n",
       "                        break;\n",
       "                    }\n",
       "                }\n",
       "            }, 500);\n",
       "            "
      ],
      "text/plain": [
       "<IPython.core.display.Javascript object>"
      ]
     },
     "metadata": {},
     "output_type": "display_data"
    }
   ],
   "source": [
    "df_results_to_save.info()"
   ]
  },
  {
   "cell_type": "code",
   "execution_count": 53,
   "id": "c2f154a7",
   "metadata": {
    "execution": {
     "iopub.execute_input": "2024-07-13T21:12:41.594594Z",
     "iopub.status.busy": "2024-07-13T21:12:41.593429Z",
     "iopub.status.idle": "2024-07-13T21:12:41.729008Z",
     "shell.execute_reply": "2024-07-13T21:12:41.727799Z"
    },
    "papermill": {
     "duration": 0.170935,
     "end_time": "2024-07-13T21:12:41.731931",
     "exception": false,
     "start_time": "2024-07-13T21:12:41.560996",
     "status": "completed"
    },
    "tags": []
   },
   "outputs": [
    {
     "data": {
      "text/html": [
       "<div>\n",
       "<style scoped>\n",
       "    .dataframe tbody tr th:only-of-type {\n",
       "        vertical-align: middle;\n",
       "    }\n",
       "\n",
       "    .dataframe tbody tr th {\n",
       "        vertical-align: top;\n",
       "    }\n",
       "\n",
       "    .dataframe thead tr th {\n",
       "        text-align: left;\n",
       "    }\n",
       "</style>\n",
       "<table border=\"1\" class=\"dataframe\">\n",
       "  <thead>\n",
       "    <tr>\n",
       "      <th></th>\n",
       "      <th>Category</th>\n",
       "      <th>Company</th>\n",
       "      <th>Data Shape</th>\n",
       "      <th>Timesteps</th>\n",
       "      <th>Features</th>\n",
       "      <th>Model</th>\n",
       "      <th>Cross Validation</th>\n",
       "      <th>Cross Validation Params</th>\n",
       "      <th colspan=\"2\" halign=\"left\">RMSE Train</th>\n",
       "      <th>...</th>\n",
       "      <th colspan=\"2\" halign=\"left\">R2 Train</th>\n",
       "      <th colspan=\"2\" halign=\"left\">RMSE Test</th>\n",
       "      <th colspan=\"2\" halign=\"left\">MAE Test</th>\n",
       "      <th colspan=\"2\" halign=\"left\">MAPE Test</th>\n",
       "      <th colspan=\"2\" halign=\"left\">R2 Test</th>\n",
       "    </tr>\n",
       "    <tr>\n",
       "      <th></th>\n",
       "      <th></th>\n",
       "      <th></th>\n",
       "      <th></th>\n",
       "      <th></th>\n",
       "      <th></th>\n",
       "      <th></th>\n",
       "      <th></th>\n",
       "      <th></th>\n",
       "      <th>mean</th>\n",
       "      <th>std</th>\n",
       "      <th>...</th>\n",
       "      <th>mean</th>\n",
       "      <th>std</th>\n",
       "      <th>mean</th>\n",
       "      <th>std</th>\n",
       "      <th>mean</th>\n",
       "      <th>std</th>\n",
       "      <th>mean</th>\n",
       "      <th>std</th>\n",
       "      <th>mean</th>\n",
       "      <th>std</th>\n",
       "    </tr>\n",
       "  </thead>\n",
       "  <tbody>\n",
       "  </tbody>\n",
       "</table>\n",
       "<p>0 rows × 24 columns</p>\n",
       "</div>"
      ],
      "text/plain": [
       "Empty DataFrame\n",
       "Columns: [(Category, ), (Company, ), (Data Shape, ), (Timesteps, ), (Features, ), (Model, ), (Cross Validation, ), (Cross Validation Params, ), (RMSE Train, mean), (RMSE Train, std), (MAE Train, mean), (MAE Train, std), (MAPE Train, mean), (MAPE Train, std), (R2 Train, mean), (R2 Train, std), (RMSE Test, mean), (RMSE Test, std), (MAE Test, mean), (MAE Test, std), (MAPE Test, mean), (MAPE Test, std), (R2 Test, mean), (R2 Test, std)]\n",
       "Index: []\n",
       "\n",
       "[0 rows x 24 columns]"
      ]
     },
     "execution_count": 53,
     "metadata": {},
     "output_type": "execute_result"
    },
    {
     "data": {
      "application/javascript": [
       "\n",
       "            setTimeout(function() {\n",
       "                var nbb_cell_id = 53;\n",
       "                var nbb_unformatted_code = \"df_results_to_save[df_results_to_save[\\\"Cross Validation Params\\\"].str.contains(\\\"Date\\\")]\";\n",
       "                var nbb_formatted_code = \"df_results_to_save[df_results_to_save[\\\"Cross Validation Params\\\"].str.contains(\\\"Date\\\")]\";\n",
       "                var nbb_cells = Jupyter.notebook.get_cells();\n",
       "                for (var i = 0; i < nbb_cells.length; ++i) {\n",
       "                    if (nbb_cells[i].input_prompt_number == nbb_cell_id) {\n",
       "                        if (nbb_cells[i].get_text() == nbb_unformatted_code) {\n",
       "                             nbb_cells[i].set_text(nbb_formatted_code);\n",
       "                        }\n",
       "                        break;\n",
       "                    }\n",
       "                }\n",
       "            }, 500);\n",
       "            "
      ],
      "text/plain": [
       "<IPython.core.display.Javascript object>"
      ]
     },
     "metadata": {},
     "output_type": "display_data"
    }
   ],
   "source": [
    "df_results_to_save[df_results_to_save[\"Cross Validation Params\"].str.contains(\"Date\")]"
   ]
  },
  {
   "cell_type": "code",
   "execution_count": 54,
   "id": "0ff22b56",
   "metadata": {
    "execution": {
     "iopub.execute_input": "2024-07-13T21:12:41.805330Z",
     "iopub.status.busy": "2024-07-13T21:12:41.804167Z",
     "iopub.status.idle": "2024-07-13T21:12:41.950363Z",
     "shell.execute_reply": "2024-07-13T21:12:41.949150Z"
    },
    "papermill": {
     "duration": 0.182739,
     "end_time": "2024-07-13T21:12:41.954664",
     "exception": false,
     "start_time": "2024-07-13T21:12:41.771925",
     "status": "completed"
    },
    "tags": []
   },
   "outputs": [
    {
     "data": {
      "text/html": [
       "<div>\n",
       "<style scoped>\n",
       "    .dataframe tbody tr th:only-of-type {\n",
       "        vertical-align: middle;\n",
       "    }\n",
       "\n",
       "    .dataframe tbody tr th {\n",
       "        vertical-align: top;\n",
       "    }\n",
       "\n",
       "    .dataframe thead tr th {\n",
       "        text-align: left;\n",
       "    }\n",
       "</style>\n",
       "<table border=\"1\" class=\"dataframe\">\n",
       "  <thead>\n",
       "    <tr>\n",
       "      <th></th>\n",
       "      <th>Category</th>\n",
       "      <th>Company</th>\n",
       "      <th>Data Shape</th>\n",
       "      <th>Timesteps</th>\n",
       "      <th>Features</th>\n",
       "      <th>Model</th>\n",
       "      <th>Cross Validation</th>\n",
       "      <th>Cross Validation Params</th>\n",
       "      <th colspan=\"2\" halign=\"left\">RMSE Train</th>\n",
       "      <th>...</th>\n",
       "      <th colspan=\"2\" halign=\"left\">R2 Train</th>\n",
       "      <th colspan=\"2\" halign=\"left\">RMSE Test</th>\n",
       "      <th colspan=\"2\" halign=\"left\">MAE Test</th>\n",
       "      <th colspan=\"2\" halign=\"left\">MAPE Test</th>\n",
       "      <th colspan=\"2\" halign=\"left\">R2 Test</th>\n",
       "    </tr>\n",
       "    <tr>\n",
       "      <th></th>\n",
       "      <th></th>\n",
       "      <th></th>\n",
       "      <th></th>\n",
       "      <th></th>\n",
       "      <th></th>\n",
       "      <th></th>\n",
       "      <th></th>\n",
       "      <th></th>\n",
       "      <th>mean</th>\n",
       "      <th>std</th>\n",
       "      <th>...</th>\n",
       "      <th>mean</th>\n",
       "      <th>std</th>\n",
       "      <th>mean</th>\n",
       "      <th>std</th>\n",
       "      <th>mean</th>\n",
       "      <th>std</th>\n",
       "      <th>mean</th>\n",
       "      <th>std</th>\n",
       "      <th>mean</th>\n",
       "      <th>std</th>\n",
       "    </tr>\n",
       "  </thead>\n",
       "  <tbody>\n",
       "    <tr>\n",
       "      <th>0</th>\n",
       "      <td>Local Model</td>\n",
       "      <td>partner_i</td>\n",
       "      <td>(1234, 42)</td>\n",
       "      <td>NaN</td>\n",
       "      <td>Chemical + Mineralogical + Physical + One-Hot</td>\n",
       "      <td>Linear Regression</td>\n",
       "      <td>Blocking Time Series Split</td>\n",
       "      <td>{\"N_Splits\": 5, \"Repeats\": 1, \"train_size\": 0.8}</td>\n",
       "      <td>0.700636</td>\n",
       "      <td>0.049022</td>\n",
       "      <td>...</td>\n",
       "      <td>0.980729</td>\n",
       "      <td>0.001604</td>\n",
       "      <td>0.949926</td>\n",
       "      <td>0.143246</td>\n",
       "      <td>0.733407</td>\n",
       "      <td>0.106088</td>\n",
       "      <td>0.017101</td>\n",
       "      <td>0.002711</td>\n",
       "      <td>0.961040</td>\n",
       "      <td>0.015278</td>\n",
       "    </tr>\n",
       "    <tr>\n",
       "      <th>1</th>\n",
       "      <td>Local Model</td>\n",
       "      <td>partner_i</td>\n",
       "      <td>(1234, 42)</td>\n",
       "      <td>NaN</td>\n",
       "      <td>Chemical + Mineralogical + Physical + One-Hot</td>\n",
       "      <td>Linear Regression</td>\n",
       "      <td>Out of time Split</td>\n",
       "      <td>{\"Test Size\": 0.2}</td>\n",
       "      <td>0.815584</td>\n",
       "      <td>0.000000</td>\n",
       "      <td>...</td>\n",
       "      <td>0.973914</td>\n",
       "      <td>0.000000</td>\n",
       "      <td>1.212233</td>\n",
       "      <td>0.000000</td>\n",
       "      <td>0.900702</td>\n",
       "      <td>0.000000</td>\n",
       "      <td>0.020311</td>\n",
       "      <td>0.000000</td>\n",
       "      <td>0.940500</td>\n",
       "      <td>0.000000</td>\n",
       "    </tr>\n",
       "    <tr>\n",
       "      <th>2</th>\n",
       "      <td>Local Model</td>\n",
       "      <td>partner_i</td>\n",
       "      <td>(1234, 42)</td>\n",
       "      <td>NaN</td>\n",
       "      <td>Chemical + Mineralogical + Physical + One-Hot</td>\n",
       "      <td>Linear Regression</td>\n",
       "      <td>Repeated KFold</td>\n",
       "      <td>{\"N_Splits\": 5, \"Repeats\": 3}</td>\n",
       "      <td>0.855466</td>\n",
       "      <td>0.005967</td>\n",
       "      <td>...</td>\n",
       "      <td>0.971171</td>\n",
       "      <td>0.000459</td>\n",
       "      <td>0.965048</td>\n",
       "      <td>0.217141</td>\n",
       "      <td>0.718911</td>\n",
       "      <td>0.041660</td>\n",
       "      <td>0.016602</td>\n",
       "      <td>0.000845</td>\n",
       "      <td>0.961720</td>\n",
       "      <td>0.020438</td>\n",
       "    </tr>\n",
       "    <tr>\n",
       "      <th>3</th>\n",
       "      <td>Local Model</td>\n",
       "      <td>partner_i</td>\n",
       "      <td>(1234, 42)</td>\n",
       "      <td>NaN</td>\n",
       "      <td>Chemical + Mineralogical + Physical + One-Hot</td>\n",
       "      <td>Linear Regression</td>\n",
       "      <td>Time Series Split</td>\n",
       "      <td>{\"N_Splits\": 5, \"Repeats\": 1, \"Gap\": 0}</td>\n",
       "      <td>0.738757</td>\n",
       "      <td>0.058813</td>\n",
       "      <td>...</td>\n",
       "      <td>0.977559</td>\n",
       "      <td>0.002862</td>\n",
       "      <td>1.158192</td>\n",
       "      <td>0.309342</td>\n",
       "      <td>0.807439</td>\n",
       "      <td>0.128733</td>\n",
       "      <td>0.018491</td>\n",
       "      <td>0.002644</td>\n",
       "      <td>0.945201</td>\n",
       "      <td>0.026837</td>\n",
       "    </tr>\n",
       "  </tbody>\n",
       "</table>\n",
       "<p>4 rows × 24 columns</p>\n",
       "</div>"
      ],
      "text/plain": [
       "      Category     Company  Data Shape Timesteps  \\\n",
       "                                                   \n",
       "0  Local Model  partner_i  (1234, 42)       NaN   \n",
       "1  Local Model  partner_i  (1234, 42)       NaN   \n",
       "2  Local Model  partner_i  (1234, 42)       NaN   \n",
       "3  Local Model  partner_i  (1234, 42)       NaN   \n",
       "\n",
       "                                        Features              Model  \\\n",
       "                                                                      \n",
       "0  Chemical + Mineralogical + Physical + One-Hot  Linear Regression   \n",
       "1  Chemical + Mineralogical + Physical + One-Hot  Linear Regression   \n",
       "2  Chemical + Mineralogical + Physical + One-Hot  Linear Regression   \n",
       "3  Chemical + Mineralogical + Physical + One-Hot  Linear Regression   \n",
       "\n",
       "             Cross Validation  \\\n",
       "                                \n",
       "0  Blocking Time Series Split   \n",
       "1           Out of time Split   \n",
       "2              Repeated KFold   \n",
       "3           Time Series Split   \n",
       "\n",
       "                            Cross Validation Params RMSE Train            ...  \\\n",
       "                                                          mean       std  ...   \n",
       "0  {\"N_Splits\": 5, \"Repeats\": 1, \"train_size\": 0.8}   0.700636  0.049022  ...   \n",
       "1                                {\"Test Size\": 0.2}   0.815584  0.000000  ...   \n",
       "2                     {\"N_Splits\": 5, \"Repeats\": 3}   0.855466  0.005967  ...   \n",
       "3           {\"N_Splits\": 5, \"Repeats\": 1, \"Gap\": 0}   0.738757  0.058813  ...   \n",
       "\n",
       "   R2 Train           RMSE Test            MAE Test           MAPE Test  \\\n",
       "       mean       std      mean       std      mean       std      mean   \n",
       "0  0.980729  0.001604  0.949926  0.143246  0.733407  0.106088  0.017101   \n",
       "1  0.973914  0.000000  1.212233  0.000000  0.900702  0.000000  0.020311   \n",
       "2  0.971171  0.000459  0.965048  0.217141  0.718911  0.041660  0.016602   \n",
       "3  0.977559  0.002862  1.158192  0.309342  0.807439  0.128733  0.018491   \n",
       "\n",
       "              R2 Test            \n",
       "        std      mean       std  \n",
       "0  0.002711  0.961040  0.015278  \n",
       "1  0.000000  0.940500  0.000000  \n",
       "2  0.000845  0.961720  0.020438  \n",
       "3  0.002644  0.945201  0.026837  \n",
       "\n",
       "[4 rows x 24 columns]"
      ]
     },
     "execution_count": 54,
     "metadata": {},
     "output_type": "execute_result"
    },
    {
     "data": {
      "application/javascript": [
       "\n",
       "            setTimeout(function() {\n",
       "                var nbb_cell_id = 54;\n",
       "                var nbb_unformatted_code = \"c\";\n",
       "                var nbb_formatted_code = \"c\";\n",
       "                var nbb_cells = Jupyter.notebook.get_cells();\n",
       "                for (var i = 0; i < nbb_cells.length; ++i) {\n",
       "                    if (nbb_cells[i].input_prompt_number == nbb_cell_id) {\n",
       "                        if (nbb_cells[i].get_text() == nbb_unformatted_code) {\n",
       "                             nbb_cells[i].set_text(nbb_formatted_code);\n",
       "                        }\n",
       "                        break;\n",
       "                    }\n",
       "                }\n",
       "            }, 500);\n",
       "            "
      ],
      "text/plain": [
       "<IPython.core.display.Javascript object>"
      ]
     },
     "metadata": {},
     "output_type": "display_data"
    }
   ],
   "source": [
    "c"
   ]
  },
  {
   "cell_type": "code",
   "execution_count": null,
   "id": "5b79572a",
   "metadata": {
    "papermill": {
     "duration": 0.028019,
     "end_time": "2024-07-13T21:12:42.016060",
     "exception": false,
     "start_time": "2024-07-13T21:12:41.988041",
     "status": "completed"
    },
    "tags": []
   },
   "outputs": [],
   "source": []
  }
 ],
 "metadata": {
  "kernelspec": {
   "display_name": "ccs28-venv",
   "language": "python",
   "name": "ccs28-venv"
  },
  "language_info": {
   "codemirror_mode": {
    "name": "ipython",
    "version": 3
   },
   "file_extension": ".py",
   "mimetype": "text/x-python",
   "name": "python",
   "nbconvert_exporter": "python",
   "pygments_lexer": "ipython3",
   "version": "3.10.12"
  },
  "papermill": {
   "default_parameters": {},
   "duration": 18.513398,
   "end_time": "2024-07-13T21:12:44.674533",
   "environment_variables": {},
   "exception": null,
   "input_path": "/home/peressim/projects/ccs28-ml-modelling/notebooks/modelling/local_models/partner_i-oficial/linear_regression/all_cements/full-ds.ipynb",
   "output_path": "/home/peressim/projects/ccs28-ml-modelling/notebooks/modelling/local_models/partner_i-oficial/linear_regression/all_cements/full-ds.ipynb",
   "parameters": {},
   "start_time": "2024-07-13T21:12:26.161135",
   "version": "2.5.0"
  }
 },
 "nbformat": 4,
 "nbformat_minor": 5
}