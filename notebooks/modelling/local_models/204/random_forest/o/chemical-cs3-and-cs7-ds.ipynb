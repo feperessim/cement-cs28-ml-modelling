{
 "cells": [
  {
   "cell_type": "code",
   "execution_count": 1,
   "id": "f3344b55",
   "metadata": {
    "execution": {
     "iopub.execute_input": "2024-02-05T01:40:36.808152Z",
     "iopub.status.busy": "2024-02-05T01:40:36.807639Z",
     "iopub.status.idle": "2024-02-05T01:40:36.944376Z",
     "shell.execute_reply": "2024-02-05T01:40:36.941230Z"
    },
    "papermill": {
     "duration": 0.150734,
     "end_time": "2024-02-05T01:40:36.947861",
     "exception": false,
     "start_time": "2024-02-05T01:40:36.797127",
     "status": "completed"
    },
    "tags": []
   },
   "outputs": [
    {
     "data": {
      "application/javascript": [
       "\n",
       "            setTimeout(function() {\n",
       "                var nbb_cell_id = 1;\n",
       "                var nbb_unformatted_code = \"%load_ext nb_black\";\n",
       "                var nbb_formatted_code = \"%load_ext nb_black\";\n",
       "                var nbb_cells = Jupyter.notebook.get_cells();\n",
       "                for (var i = 0; i < nbb_cells.length; ++i) {\n",
       "                    if (nbb_cells[i].input_prompt_number == nbb_cell_id) {\n",
       "                        if (nbb_cells[i].get_text() == nbb_unformatted_code) {\n",
       "                             nbb_cells[i].set_text(nbb_formatted_code);\n",
       "                        }\n",
       "                        break;\n",
       "                    }\n",
       "                }\n",
       "            }, 500);\n",
       "            "
      ],
      "text/plain": [
       "<IPython.core.display.Javascript object>"
      ]
     },
     "metadata": {},
     "output_type": "display_data"
    }
   ],
   "source": [
    "%load_ext nb_black"
   ]
  },
  {
   "cell_type": "code",
   "execution_count": 2,
   "id": "cc66aabf",
   "metadata": {
    "execution": {
     "iopub.execute_input": "2024-02-05T01:40:36.968164Z",
     "iopub.status.busy": "2024-02-05T01:40:36.967568Z",
     "iopub.status.idle": "2024-02-05T01:40:39.580415Z",
     "shell.execute_reply": "2024-02-05T01:40:39.577590Z"
    },
    "papermill": {
     "duration": 2.628617,
     "end_time": "2024-02-05T01:40:39.584861",
     "exception": false,
     "start_time": "2024-02-05T01:40:36.956244",
     "status": "completed"
    },
    "tags": []
   },
   "outputs": [
    {
     "data": {
      "application/javascript": [
       "\n",
       "            setTimeout(function() {\n",
       "                var nbb_cell_id = 2;\n",
       "                var nbb_unformatted_code = \"# Database Reading and Manipulation\\nimport pandas as pd\\n\\n# Linear Algebra\\nimport numpy as np\\n\\n# Plotting\\nimport matplotlib.pyplot as plt\\n\\n# Model Selection\\nfrom sklearn.model_selection import train_test_split\\nfrom sklearn.model_selection import TimeSeriesSplit\\nfrom sklearn.model_selection import RepeatedKFold\\nfrom sklearn.model_selection import cross_val_score\\nfrom sklearn.model_selection import cross_validate\\nfrom sklearn.model_selection import GridSearchCV\\n\\n\\n# Modeling\\nfrom sklearn.ensemble import RandomForestRegressor\\n\\n# Metrics\\nfrom sklearn.metrics import mean_squared_error\\nfrom sklearn.metrics import mean_absolute_error\\nfrom sklearn.metrics import mean_absolute_percentage_error\\nfrom sklearn.metrics import r2_score\\n\\n# Pipeline\\nfrom sklearn.pipeline import Pipeline\\n\\n# Data imputation\\nfrom sklearn.impute import SimpleImputer\\n\\n# Custom modules\\n## Model selection\\nfrom src.cross_validation.blocking_time_series_split import BlockingTimeSeriesSplit\\n\\n## Function to print scores\\nfrom src.utils.print_scores import print_scores\\n\\n## Function to calculate score regression metrics\\nfrom src.utils.score_regression_metrics import score_regression_metrics\\n\\n## Function to fill the results metric dict\\nfrom src.utils.fill_results_dict import fill_results_dict\";\n",
       "                var nbb_formatted_code = \"# Database Reading and Manipulation\\nimport pandas as pd\\n\\n# Linear Algebra\\nimport numpy as np\\n\\n# Plotting\\nimport matplotlib.pyplot as plt\\n\\n# Model Selection\\nfrom sklearn.model_selection import train_test_split\\nfrom sklearn.model_selection import TimeSeriesSplit\\nfrom sklearn.model_selection import RepeatedKFold\\nfrom sklearn.model_selection import cross_val_score\\nfrom sklearn.model_selection import cross_validate\\nfrom sklearn.model_selection import GridSearchCV\\n\\n\\n# Modeling\\nfrom sklearn.ensemble import RandomForestRegressor\\n\\n# Metrics\\nfrom sklearn.metrics import mean_squared_error\\nfrom sklearn.metrics import mean_absolute_error\\nfrom sklearn.metrics import mean_absolute_percentage_error\\nfrom sklearn.metrics import r2_score\\n\\n# Pipeline\\nfrom sklearn.pipeline import Pipeline\\n\\n# Data imputation\\nfrom sklearn.impute import SimpleImputer\\n\\n# Custom modules\\n## Model selection\\nfrom src.cross_validation.blocking_time_series_split import BlockingTimeSeriesSplit\\n\\n## Function to print scores\\nfrom src.utils.print_scores import print_scores\\n\\n## Function to calculate score regression metrics\\nfrom src.utils.score_regression_metrics import score_regression_metrics\\n\\n## Function to fill the results metric dict\\nfrom src.utils.fill_results_dict import fill_results_dict\";\n",
       "                var nbb_cells = Jupyter.notebook.get_cells();\n",
       "                for (var i = 0; i < nbb_cells.length; ++i) {\n",
       "                    if (nbb_cells[i].input_prompt_number == nbb_cell_id) {\n",
       "                        if (nbb_cells[i].get_text() == nbb_unformatted_code) {\n",
       "                             nbb_cells[i].set_text(nbb_formatted_code);\n",
       "                        }\n",
       "                        break;\n",
       "                    }\n",
       "                }\n",
       "            }, 500);\n",
       "            "
      ],
      "text/plain": [
       "<IPython.core.display.Javascript object>"
      ]
     },
     "metadata": {},
     "output_type": "display_data"
    }
   ],
   "source": [
    "# Database Reading and Manipulation\n",
    "import pandas as pd\n",
    "\n",
    "# Linear Algebra\n",
    "import numpy as np\n",
    "\n",
    "# Plotting\n",
    "import matplotlib.pyplot as plt\n",
    "\n",
    "# Model Selection\n",
    "from sklearn.model_selection import train_test_split\n",
    "from sklearn.model_selection import TimeSeriesSplit\n",
    "from sklearn.model_selection import RepeatedKFold\n",
    "from sklearn.model_selection import cross_val_score\n",
    "from sklearn.model_selection import cross_validate\n",
    "from sklearn.model_selection import GridSearchCV\n",
    "\n",
    "\n",
    "# Modeling\n",
    "from sklearn.ensemble import RandomForestRegressor\n",
    "\n",
    "# Metrics\n",
    "from sklearn.metrics import mean_squared_error\n",
    "from sklearn.metrics import mean_absolute_error\n",
    "from sklearn.metrics import mean_absolute_percentage_error\n",
    "from sklearn.metrics import r2_score\n",
    "\n",
    "# Pipeline\n",
    "from sklearn.pipeline import Pipeline\n",
    "\n",
    "# Data imputation\n",
    "from sklearn.impute import SimpleImputer\n",
    "\n",
    "# Custom modules\n",
    "## Model selection\n",
    "from src.cross_validation.blocking_time_series_split import BlockingTimeSeriesSplit\n",
    "\n",
    "## Function to print scores\n",
    "from src.utils.print_scores import print_scores\n",
    "\n",
    "## Function to calculate score regression metrics\n",
    "from src.utils.score_regression_metrics import score_regression_metrics\n",
    "\n",
    "## Function to fill the results metric dict\n",
    "from src.utils.fill_results_dict import fill_results_dict"
   ]
  },
  {
   "cell_type": "markdown",
   "id": "3557d139",
   "metadata": {
    "papermill": {
     "duration": 0.008928,
     "end_time": "2024-02-05T01:40:39.603488",
     "exception": false,
     "start_time": "2024-02-05T01:40:39.594560",
     "status": "completed"
    },
    "tags": []
   },
   "source": [
    "# Functions and definitions"
   ]
  },
  {
   "cell_type": "code",
   "execution_count": 3,
   "id": "87b7ecf1",
   "metadata": {
    "execution": {
     "iopub.execute_input": "2024-02-05T01:40:39.630129Z",
     "iopub.status.busy": "2024-02-05T01:40:39.629360Z",
     "iopub.status.idle": "2024-02-05T01:40:39.641007Z",
     "shell.execute_reply": "2024-02-05T01:40:39.639254Z"
    },
    "papermill": {
     "duration": 0.032093,
     "end_time": "2024-02-05T01:40:39.644752",
     "exception": false,
     "start_time": "2024-02-05T01:40:39.612659",
     "status": "completed"
    },
    "tags": []
   },
   "outputs": [
    {
     "data": {
      "application/javascript": [
       "\n",
       "            setTimeout(function() {\n",
       "                var nbb_cell_id = 3;\n",
       "                var nbb_unformatted_code = \"index_to_save = 7\";\n",
       "                var nbb_formatted_code = \"index_to_save = 7\";\n",
       "                var nbb_cells = Jupyter.notebook.get_cells();\n",
       "                for (var i = 0; i < nbb_cells.length; ++i) {\n",
       "                    if (nbb_cells[i].input_prompt_number == nbb_cell_id) {\n",
       "                        if (nbb_cells[i].get_text() == nbb_unformatted_code) {\n",
       "                             nbb_cells[i].set_text(nbb_formatted_code);\n",
       "                        }\n",
       "                        break;\n",
       "                    }\n",
       "                }\n",
       "            }, 500);\n",
       "            "
      ],
      "text/plain": [
       "<IPython.core.display.Javascript object>"
      ]
     },
     "metadata": {},
     "output_type": "display_data"
    }
   ],
   "source": [
    "index_to_save = 7"
   ]
  },
  {
   "cell_type": "code",
   "execution_count": 4,
   "id": "fc66d120",
   "metadata": {
    "execution": {
     "iopub.execute_input": "2024-02-05T01:40:39.666582Z",
     "iopub.status.busy": "2024-02-05T01:40:39.666049Z",
     "iopub.status.idle": "2024-02-05T01:40:39.685506Z",
     "shell.execute_reply": "2024-02-05T01:40:39.684057Z"
    },
    "papermill": {
     "duration": 0.035305,
     "end_time": "2024-02-05T01:40:39.689095",
     "exception": false,
     "start_time": "2024-02-05T01:40:39.653790",
     "status": "completed"
    },
    "tags": []
   },
   "outputs": [
    {
     "data": {
      "application/javascript": [
       "\n",
       "            setTimeout(function() {\n",
       "                var nbb_cell_id = 4;\n",
       "                var nbb_unformatted_code = \"SEED = 47\\nMETRICS = (\\n    \\\"neg_root_mean_squared_error\\\",\\n    \\\"neg_mean_absolute_error\\\",\\n    \\\"neg_mean_absolute_percentage_error\\\",\\n    \\\"r2\\\",\\n)\\nMETRICS_DICT = {\\n    \\\"neg_root_mean_squared_error\\\": \\\"RMSE\\\",\\n    \\\"neg_mean_absolute_error\\\": \\\"MAE\\\",\\n    \\\"neg_mean_absolute_percentage_error\\\": \\\"MAPE\\\",\\n    \\\"r2\\\": \\\"R2\\\",\\n}\";\n",
       "                var nbb_formatted_code = \"SEED = 47\\nMETRICS = (\\n    \\\"neg_root_mean_squared_error\\\",\\n    \\\"neg_mean_absolute_error\\\",\\n    \\\"neg_mean_absolute_percentage_error\\\",\\n    \\\"r2\\\",\\n)\\nMETRICS_DICT = {\\n    \\\"neg_root_mean_squared_error\\\": \\\"RMSE\\\",\\n    \\\"neg_mean_absolute_error\\\": \\\"MAE\\\",\\n    \\\"neg_mean_absolute_percentage_error\\\": \\\"MAPE\\\",\\n    \\\"r2\\\": \\\"R2\\\",\\n}\";\n",
       "                var nbb_cells = Jupyter.notebook.get_cells();\n",
       "                for (var i = 0; i < nbb_cells.length; ++i) {\n",
       "                    if (nbb_cells[i].input_prompt_number == nbb_cell_id) {\n",
       "                        if (nbb_cells[i].get_text() == nbb_unformatted_code) {\n",
       "                             nbb_cells[i].set_text(nbb_formatted_code);\n",
       "                        }\n",
       "                        break;\n",
       "                    }\n",
       "                }\n",
       "            }, 500);\n",
       "            "
      ],
      "text/plain": [
       "<IPython.core.display.Javascript object>"
      ]
     },
     "metadata": {},
     "output_type": "display_data"
    }
   ],
   "source": [
    "SEED = 47\n",
    "METRICS = (\n",
    "    \"neg_root_mean_squared_error\",\n",
    "    \"neg_mean_absolute_error\",\n",
    "    \"neg_mean_absolute_percentage_error\",\n",
    "    \"r2\",\n",
    ")\n",
    "METRICS_DICT = {\n",
    "    \"neg_root_mean_squared_error\": \"RMSE\",\n",
    "    \"neg_mean_absolute_error\": \"MAE\",\n",
    "    \"neg_mean_absolute_percentage_error\": \"MAPE\",\n",
    "    \"r2\": \"R2\",\n",
    "}"
   ]
  },
  {
   "cell_type": "markdown",
   "id": "d8ad300e",
   "metadata": {
    "papermill": {
     "duration": 0.009735,
     "end_time": "2024-02-05T01:40:39.709975",
     "exception": false,
     "start_time": "2024-02-05T01:40:39.700240",
     "status": "completed"
    },
    "tags": []
   },
   "source": [
    "## Defining a dataframe structure to save the results"
   ]
  },
  {
   "cell_type": "code",
   "execution_count": 5,
   "id": "004b07b4",
   "metadata": {
    "execution": {
     "iopub.execute_input": "2024-02-05T01:40:39.731997Z",
     "iopub.status.busy": "2024-02-05T01:40:39.731309Z",
     "iopub.status.idle": "2024-02-05T01:40:39.752750Z",
     "shell.execute_reply": "2024-02-05T01:40:39.750734Z"
    },
    "papermill": {
     "duration": 0.038073,
     "end_time": "2024-02-05T01:40:39.757271",
     "exception": false,
     "start_time": "2024-02-05T01:40:39.719198",
     "status": "completed"
    },
    "tags": []
   },
   "outputs": [
    {
     "data": {
      "application/javascript": [
       "\n",
       "            setTimeout(function() {\n",
       "                var nbb_cell_id = 5;\n",
       "                var nbb_unformatted_code = \"results_to_save = []\\n\\nresults_dict = {\\n    \\\"Category\\\": \\\"Local Model\\\",\\n    \\\"Company\\\": \\\"204\\\",\\n    \\\"Plant\\\": \\\"O\\\",\\n    \\\"Features\\\": \\\"Chemical + CS3 + CS7\\\",\\n    \\\"Data Shape\\\": None,\\n    \\\"Timesteps\\\": None,\\n    \\\"Model\\\": \\\"Random Forest\\\",\\n    \\\"Model Params\\\": None,\\n    \\\"Scaler\\\": None,\\n    \\\"Scaler Params\\\": None,\\n    \\\"Imputer\\\": \\\"Median\\\",\\n    \\\"Imputer Params\\\": None,\\n    \\\"Cross Validation\\\": None,\\n    \\\"Cross Validation Params\\\": np.nan,\\n    \\\"RMSE Train\\\": np.nan,\\n    \\\"MAE Train\\\": np.nan,\\n    \\\"MAPE Train\\\": np.nan,\\n    \\\"R2 Train\\\": np.nan,\\n    \\\"RMSE Test\\\": np.nan,\\n    \\\"MAE Test\\\": np.nan,\\n    \\\"MAPE Test\\\": np.nan,\\n    \\\"R2 Test\\\": np.nan,\\n}\";\n",
       "                var nbb_formatted_code = \"results_to_save = []\\n\\nresults_dict = {\\n    \\\"Category\\\": \\\"Local Model\\\",\\n    \\\"Company\\\": \\\"204\\\",\\n    \\\"Plant\\\": \\\"O\\\",\\n    \\\"Features\\\": \\\"Chemical + CS3 + CS7\\\",\\n    \\\"Data Shape\\\": None,\\n    \\\"Timesteps\\\": None,\\n    \\\"Model\\\": \\\"Random Forest\\\",\\n    \\\"Model Params\\\": None,\\n    \\\"Scaler\\\": None,\\n    \\\"Scaler Params\\\": None,\\n    \\\"Imputer\\\": \\\"Median\\\",\\n    \\\"Imputer Params\\\": None,\\n    \\\"Cross Validation\\\": None,\\n    \\\"Cross Validation Params\\\": np.nan,\\n    \\\"RMSE Train\\\": np.nan,\\n    \\\"MAE Train\\\": np.nan,\\n    \\\"MAPE Train\\\": np.nan,\\n    \\\"R2 Train\\\": np.nan,\\n    \\\"RMSE Test\\\": np.nan,\\n    \\\"MAE Test\\\": np.nan,\\n    \\\"MAPE Test\\\": np.nan,\\n    \\\"R2 Test\\\": np.nan,\\n}\";\n",
       "                var nbb_cells = Jupyter.notebook.get_cells();\n",
       "                for (var i = 0; i < nbb_cells.length; ++i) {\n",
       "                    if (nbb_cells[i].input_prompt_number == nbb_cell_id) {\n",
       "                        if (nbb_cells[i].get_text() == nbb_unformatted_code) {\n",
       "                             nbb_cells[i].set_text(nbb_formatted_code);\n",
       "                        }\n",
       "                        break;\n",
       "                    }\n",
       "                }\n",
       "            }, 500);\n",
       "            "
      ],
      "text/plain": [
       "<IPython.core.display.Javascript object>"
      ]
     },
     "metadata": {},
     "output_type": "display_data"
    }
   ],
   "source": [
    "results_to_save = []\n",
    "\n",
    "results_dict = {\n",
    "    \"Category\": \"Local Model\",\n",
    "    \"Company\": \"204\",\n",
    "    \"Plant\": \"O\",\n",
    "    \"Features\": \"Chemical + CS3 + CS7\",\n",
    "    \"Data Shape\": None,\n",
    "    \"Timesteps\": None,\n",
    "    \"Model\": \"Random Forest\",\n",
    "    \"Model Params\": None,\n",
    "    \"Scaler\": None,\n",
    "    \"Scaler Params\": None,\n",
    "    \"Imputer\": \"Median\",\n",
    "    \"Imputer Params\": None,\n",
    "    \"Cross Validation\": None,\n",
    "    \"Cross Validation Params\": np.nan,\n",
    "    \"RMSE Train\": np.nan,\n",
    "    \"MAE Train\": np.nan,\n",
    "    \"MAPE Train\": np.nan,\n",
    "    \"R2 Train\": np.nan,\n",
    "    \"RMSE Test\": np.nan,\n",
    "    \"MAE Test\": np.nan,\n",
    "    \"MAPE Test\": np.nan,\n",
    "    \"R2 Test\": np.nan,\n",
    "}"
   ]
  },
  {
   "cell_type": "markdown",
   "id": "0fac8da6",
   "metadata": {
    "papermill": {
     "duration": 0.009239,
     "end_time": "2024-02-05T01:40:39.777795",
     "exception": false,
     "start_time": "2024-02-05T01:40:39.768556",
     "status": "completed"
    },
    "tags": []
   },
   "source": [
    "# Reading the dataset"
   ]
  },
  {
   "cell_type": "code",
   "execution_count": 6,
   "id": "ccac9125",
   "metadata": {
    "execution": {
     "iopub.execute_input": "2024-02-05T01:40:39.800558Z",
     "iopub.status.busy": "2024-02-05T01:40:39.799926Z",
     "iopub.status.idle": "2024-02-05T01:40:39.826151Z",
     "shell.execute_reply": "2024-02-05T01:40:39.824148Z"
    },
    "papermill": {
     "duration": 0.041968,
     "end_time": "2024-02-05T01:40:39.829691",
     "exception": false,
     "start_time": "2024-02-05T01:40:39.787723",
     "status": "completed"
    },
    "tags": []
   },
   "outputs": [
    {
     "data": {
      "application/javascript": [
       "\n",
       "            setTimeout(function() {\n",
       "                var nbb_cell_id = 6;\n",
       "                var nbb_unformatted_code = \"df = pd.read_csv(\\\"../../../../../data/processed/204/o.csv\\\")\";\n",
       "                var nbb_formatted_code = \"df = pd.read_csv(\\\"../../../../../data/processed/204/o.csv\\\")\";\n",
       "                var nbb_cells = Jupyter.notebook.get_cells();\n",
       "                for (var i = 0; i < nbb_cells.length; ++i) {\n",
       "                    if (nbb_cells[i].input_prompt_number == nbb_cell_id) {\n",
       "                        if (nbb_cells[i].get_text() == nbb_unformatted_code) {\n",
       "                             nbb_cells[i].set_text(nbb_formatted_code);\n",
       "                        }\n",
       "                        break;\n",
       "                    }\n",
       "                }\n",
       "            }, 500);\n",
       "            "
      ],
      "text/plain": [
       "<IPython.core.display.Javascript object>"
      ]
     },
     "metadata": {},
     "output_type": "display_data"
    }
   ],
   "source": [
    "df = pd.read_csv(\"../../../../../data/processed/204/o.csv\")"
   ]
  },
  {
   "cell_type": "markdown",
   "id": "b111d59b",
   "metadata": {
    "papermill": {
     "duration": 0.011518,
     "end_time": "2024-02-05T01:40:39.852231",
     "exception": false,
     "start_time": "2024-02-05T01:40:39.840713",
     "status": "completed"
    },
    "tags": []
   },
   "source": [
    "## Defining Features\n",
    "\n",
    "In this set of experiments we keep all features"
   ]
  },
  {
   "cell_type": "code",
   "execution_count": 7,
   "id": "753745e2",
   "metadata": {
    "execution": {
     "iopub.execute_input": "2024-02-05T01:40:39.878254Z",
     "iopub.status.busy": "2024-02-05T01:40:39.877647Z",
     "iopub.status.idle": "2024-02-05T01:40:39.897187Z",
     "shell.execute_reply": "2024-02-05T01:40:39.895107Z"
    },
    "papermill": {
     "duration": 0.036675,
     "end_time": "2024-02-05T01:40:39.901514",
     "exception": false,
     "start_time": "2024-02-05T01:40:39.864839",
     "status": "completed"
    },
    "tags": []
   },
   "outputs": [
    {
     "data": {
      "application/javascript": [
       "\n",
       "            setTimeout(function() {\n",
       "                var nbb_cell_id = 7;\n",
       "                var nbb_unformatted_code = \"df_copy = df.copy().drop(\\n    [\\n        \\\"Cement_Type\\\",\\n        \\\"Blaine\\\",\\n        \\\"#200\\\",\\n        \\\"#325\\\",\\n        \\\"Final setting time\\\",\\n        \\\"Initial setting time\\\",\\n    ],\\n    axis=1,\\n)\";\n",
       "                var nbb_formatted_code = \"df_copy = df.copy().drop(\\n    [\\n        \\\"Cement_Type\\\",\\n        \\\"Blaine\\\",\\n        \\\"#200\\\",\\n        \\\"#325\\\",\\n        \\\"Final setting time\\\",\\n        \\\"Initial setting time\\\",\\n    ],\\n    axis=1,\\n)\";\n",
       "                var nbb_cells = Jupyter.notebook.get_cells();\n",
       "                for (var i = 0; i < nbb_cells.length; ++i) {\n",
       "                    if (nbb_cells[i].input_prompt_number == nbb_cell_id) {\n",
       "                        if (nbb_cells[i].get_text() == nbb_unformatted_code) {\n",
       "                             nbb_cells[i].set_text(nbb_formatted_code);\n",
       "                        }\n",
       "                        break;\n",
       "                    }\n",
       "                }\n",
       "            }, 500);\n",
       "            "
      ],
      "text/plain": [
       "<IPython.core.display.Javascript object>"
      ]
     },
     "metadata": {},
     "output_type": "display_data"
    }
   ],
   "source": [
    "df_copy = df.copy().drop(\n",
    "    [\n",
    "        \"Cement_Type\",\n",
    "        \"Blaine\",\n",
    "        \"#200\",\n",
    "        \"#325\",\n",
    "        \"Final setting time\",\n",
    "        \"Initial setting time\",\n",
    "    ],\n",
    "    axis=1,\n",
    ")"
   ]
  },
  {
   "cell_type": "markdown",
   "id": "9962d250",
   "metadata": {
    "papermill": {
     "duration": 0.009257,
     "end_time": "2024-02-05T01:40:39.920309",
     "exception": false,
     "start_time": "2024-02-05T01:40:39.911052",
     "status": "completed"
    },
    "tags": []
   },
   "source": [
    "<h2>1. Dataset: df_copy</h2> <br>In this dataset all features are used."
   ]
  },
  {
   "cell_type": "code",
   "execution_count": 8,
   "id": "a376a3d2",
   "metadata": {
    "execution": {
     "iopub.execute_input": "2024-02-05T01:40:39.944108Z",
     "iopub.status.busy": "2024-02-05T01:40:39.943478Z",
     "iopub.status.idle": "2024-02-05T01:40:39.962641Z",
     "shell.execute_reply": "2024-02-05T01:40:39.960661Z"
    },
    "papermill": {
     "duration": 0.038597,
     "end_time": "2024-02-05T01:40:39.968166",
     "exception": false,
     "start_time": "2024-02-05T01:40:39.929569",
     "status": "completed"
    },
    "tags": []
   },
   "outputs": [
    {
     "data": {
      "application/javascript": [
       "\n",
       "            setTimeout(function() {\n",
       "                var nbb_cell_id = 8;\n",
       "                var nbb_unformatted_code = \"y = df_copy.pop(\\\"CS28\\\").values\\nx = df_copy.drop([\\\"Date\\\"], axis=1)\\ndates = df[\\\"Date\\\"].copy()\";\n",
       "                var nbb_formatted_code = \"y = df_copy.pop(\\\"CS28\\\").values\\nx = df_copy.drop([\\\"Date\\\"], axis=1)\\ndates = df[\\\"Date\\\"].copy()\";\n",
       "                var nbb_cells = Jupyter.notebook.get_cells();\n",
       "                for (var i = 0; i < nbb_cells.length; ++i) {\n",
       "                    if (nbb_cells[i].input_prompt_number == nbb_cell_id) {\n",
       "                        if (nbb_cells[i].get_text() == nbb_unformatted_code) {\n",
       "                             nbb_cells[i].set_text(nbb_formatted_code);\n",
       "                        }\n",
       "                        break;\n",
       "                    }\n",
       "                }\n",
       "            }, 500);\n",
       "            "
      ],
      "text/plain": [
       "<IPython.core.display.Javascript object>"
      ]
     },
     "metadata": {},
     "output_type": "display_data"
    }
   ],
   "source": [
    "y = df_copy.pop(\"CS28\").values\n",
    "x = df_copy.drop([\"Date\"], axis=1)\n",
    "dates = df[\"Date\"].copy()"
   ]
  },
  {
   "cell_type": "markdown",
   "id": "ceabae46",
   "metadata": {
    "papermill": {
     "duration": 0.015724,
     "end_time": "2024-02-05T01:40:40.007099",
     "exception": false,
     "start_time": "2024-02-05T01:40:39.991375",
     "status": "completed"
    },
    "tags": []
   },
   "source": [
    "# 1. Decision Tree Regressor"
   ]
  },
  {
   "cell_type": "code",
   "execution_count": 9,
   "id": "8677c4d8",
   "metadata": {
    "execution": {
     "iopub.execute_input": "2024-02-05T01:40:40.046565Z",
     "iopub.status.busy": "2024-02-05T01:40:40.045997Z",
     "iopub.status.idle": "2024-02-05T01:40:40.060648Z",
     "shell.execute_reply": "2024-02-05T01:40:40.058619Z"
    },
    "papermill": {
     "duration": 0.044927,
     "end_time": "2024-02-05T01:40:40.065545",
     "exception": false,
     "start_time": "2024-02-05T01:40:40.020618",
     "status": "completed"
    },
    "tags": []
   },
   "outputs": [
    {
     "data": {
      "application/javascript": [
       "\n",
       "            setTimeout(function() {\n",
       "                var nbb_cell_id = 9;\n",
       "                var nbb_unformatted_code = \"PARAMS = {\\n    \\\"criterion\\\": \\\"squared_error\\\",\\n    \\\"n_estimators\\\": 5,\\n    \\\"max_depth\\\": 3,\\n    \\\"random_state\\\": SEED,\\n}\";\n",
       "                var nbb_formatted_code = \"PARAMS = {\\n    \\\"criterion\\\": \\\"squared_error\\\",\\n    \\\"n_estimators\\\": 5,\\n    \\\"max_depth\\\": 3,\\n    \\\"random_state\\\": SEED,\\n}\";\n",
       "                var nbb_cells = Jupyter.notebook.get_cells();\n",
       "                for (var i = 0; i < nbb_cells.length; ++i) {\n",
       "                    if (nbb_cells[i].input_prompt_number == nbb_cell_id) {\n",
       "                        if (nbb_cells[i].get_text() == nbb_unformatted_code) {\n",
       "                             nbb_cells[i].set_text(nbb_formatted_code);\n",
       "                        }\n",
       "                        break;\n",
       "                    }\n",
       "                }\n",
       "            }, 500);\n",
       "            "
      ],
      "text/plain": [
       "<IPython.core.display.Javascript object>"
      ]
     },
     "metadata": {},
     "output_type": "display_data"
    }
   ],
   "source": [
    "PARAMS = {\n",
    "    \"criterion\": \"squared_error\",\n",
    "    \"n_estimators\": 5,\n",
    "    \"max_depth\": 3,\n",
    "    \"random_state\": SEED,\n",
    "}"
   ]
  },
  {
   "cell_type": "markdown",
   "id": "d2eecd3b",
   "metadata": {
    "papermill": {
     "duration": 0.010753,
     "end_time": "2024-02-05T01:40:40.086387",
     "exception": false,
     "start_time": "2024-02-05T01:40:40.075634",
     "status": "completed"
    },
    "tags": []
   },
   "source": [
    "## 1.1 Repeated KFold Cross validation\n",
    "\n",
    "<b>Dataset shape:</b> (1234, 38)<br>\n",
    "<b>Repeats:</b>10<br>\n",
    "<b>Splits:</b>10<br>\n",
    "    1. 10 folds of 123 samples each\n",
    "    2. 90% train (1111 samples each fold)\n",
    "    3. 10% test (123 samples each fold)\n",
    "<b>Total:</b> 100 models<br>"
   ]
  },
  {
   "cell_type": "code",
   "execution_count": 10,
   "id": "cce239a2",
   "metadata": {
    "execution": {
     "iopub.execute_input": "2024-02-05T01:40:40.119829Z",
     "iopub.status.busy": "2024-02-05T01:40:40.119201Z",
     "iopub.status.idle": "2024-02-05T01:40:42.889499Z",
     "shell.execute_reply": "2024-02-05T01:40:42.887275Z"
    },
    "papermill": {
     "duration": 2.790677,
     "end_time": "2024-02-05T01:40:42.892640",
     "exception": false,
     "start_time": "2024-02-05T01:40:40.101963",
     "status": "completed"
    },
    "tags": []
   },
   "outputs": [
    {
     "name": "stdout",
     "output_type": "stream",
     "text": [
      "Repeated Cross Validation:\n",
      "Repeats: 3\n",
      "n_splits: 5\n",
      "\n",
      "******\n",
      "[TRAIN]\n",
      "******\n",
      "RMSE: -1.488 (0.020)\n",
      "MAE: -1.204 (0.020)\n",
      "MAPE: -0.027 (0.000)\n",
      "R2: 0.943 (0.002)\n",
      "\n",
      "======================\n",
      "\n",
      "******\n",
      "[TEST]\n",
      "******\n",
      "RMSE: -1.550 (0.082)\n",
      "MAE: -1.253 (0.073)\n",
      "MAPE: -0.028 (0.002)\n",
      "R2: 0.938 (0.007)\n",
      "\n",
      "======================\n",
      "\n"
     ]
    },
    {
     "data": {
      "application/javascript": [
       "\n",
       "            setTimeout(function() {\n",
       "                var nbb_cell_id = 10;\n",
       "                var nbb_unformatted_code = \"repeats = 3\\nn_splits = 5\\npipeline = Pipeline(\\n    [\\n        (\\\"imputer\\\", SimpleImputer(strategy=\\\"median\\\")),\\n        (\\\"estimator\\\", RandomForestRegressor(**PARAMS)),\\n    ]\\n)\\ncv = RepeatedKFold(n_splits=n_splits, n_repeats=repeats, random_state=SEED)\\nscores = cross_validate(\\n    pipeline,\\n    x,\\n    y,\\n    scoring=METRICS,\\n    cv=cv,\\n    n_jobs=-1,\\n    return_train_score=True,\\n)\\nprint(\\\"Repeated Cross Validation:\\\")\\nprint(f\\\"Repeats: {repeats}\\\")\\nprint(f\\\"n_splits: {n_splits}\\\")\\nprint()\\nprint_scores(scores, METRICS, METRICS_DICT)\\n\\nresults_dict_copy = results_dict.copy()\\nresults_dict_copy[\\\"Cross Validation\\\"] = \\\"Repeated KFold\\\"\\nresults_dict_copy[\\\"Cross Validation Params\\\"] = '{\\\"N_Splits\\\": 5, \\\"Repeats\\\": 3}'\\nresults_dict_copy[\\\"Data Shape\\\"] = x.shape\\ndf_results = fill_results_dict(results_dict_copy, scores)\\nresults_to_save.append(df_results)\";\n",
       "                var nbb_formatted_code = \"repeats = 3\\nn_splits = 5\\npipeline = Pipeline(\\n    [\\n        (\\\"imputer\\\", SimpleImputer(strategy=\\\"median\\\")),\\n        (\\\"estimator\\\", RandomForestRegressor(**PARAMS)),\\n    ]\\n)\\ncv = RepeatedKFold(n_splits=n_splits, n_repeats=repeats, random_state=SEED)\\nscores = cross_validate(\\n    pipeline,\\n    x,\\n    y,\\n    scoring=METRICS,\\n    cv=cv,\\n    n_jobs=-1,\\n    return_train_score=True,\\n)\\nprint(\\\"Repeated Cross Validation:\\\")\\nprint(f\\\"Repeats: {repeats}\\\")\\nprint(f\\\"n_splits: {n_splits}\\\")\\nprint()\\nprint_scores(scores, METRICS, METRICS_DICT)\\n\\nresults_dict_copy = results_dict.copy()\\nresults_dict_copy[\\\"Cross Validation\\\"] = \\\"Repeated KFold\\\"\\nresults_dict_copy[\\\"Cross Validation Params\\\"] = '{\\\"N_Splits\\\": 5, \\\"Repeats\\\": 3}'\\nresults_dict_copy[\\\"Data Shape\\\"] = x.shape\\ndf_results = fill_results_dict(results_dict_copy, scores)\\nresults_to_save.append(df_results)\";\n",
       "                var nbb_cells = Jupyter.notebook.get_cells();\n",
       "                for (var i = 0; i < nbb_cells.length; ++i) {\n",
       "                    if (nbb_cells[i].input_prompt_number == nbb_cell_id) {\n",
       "                        if (nbb_cells[i].get_text() == nbb_unformatted_code) {\n",
       "                             nbb_cells[i].set_text(nbb_formatted_code);\n",
       "                        }\n",
       "                        break;\n",
       "                    }\n",
       "                }\n",
       "            }, 500);\n",
       "            "
      ],
      "text/plain": [
       "<IPython.core.display.Javascript object>"
      ]
     },
     "metadata": {},
     "output_type": "display_data"
    }
   ],
   "source": [
    "repeats = 3\n",
    "n_splits = 5\n",
    "pipeline = Pipeline(\n",
    "    [\n",
    "        (\"imputer\", SimpleImputer(strategy=\"median\")),\n",
    "        (\"estimator\", RandomForestRegressor(**PARAMS)),\n",
    "    ]\n",
    ")\n",
    "cv = RepeatedKFold(n_splits=n_splits, n_repeats=repeats, random_state=SEED)\n",
    "scores = cross_validate(\n",
    "    pipeline,\n",
    "    x,\n",
    "    y,\n",
    "    scoring=METRICS,\n",
    "    cv=cv,\n",
    "    n_jobs=-1,\n",
    "    return_train_score=True,\n",
    ")\n",
    "print(\"Repeated Cross Validation:\")\n",
    "print(f\"Repeats: {repeats}\")\n",
    "print(f\"n_splits: {n_splits}\")\n",
    "print()\n",
    "print_scores(scores, METRICS, METRICS_DICT)\n",
    "\n",
    "results_dict_copy = results_dict.copy()\n",
    "results_dict_copy[\"Cross Validation\"] = \"Repeated KFold\"\n",
    "results_dict_copy[\"Cross Validation Params\"] = '{\"N_Splits\": 5, \"Repeats\": 3}'\n",
    "results_dict_copy[\"Data Shape\"] = x.shape\n",
    "df_results = fill_results_dict(results_dict_copy, scores)\n",
    "results_to_save.append(df_results)"
   ]
  },
  {
   "cell_type": "markdown",
   "id": "3b1fb3a0",
   "metadata": {
    "papermill": {
     "duration": 0.009919,
     "end_time": "2024-02-05T01:40:42.913067",
     "exception": false,
     "start_time": "2024-02-05T01:40:42.903148",
     "status": "completed"
    },
    "tags": []
   },
   "source": [
    "## 1.2. Blocking Time Series Cross Validation\n",
    "\n",
    "<b>Dataset shape:</b> (1234, 38)<br>\n",
    "<b>Splits:</b>5<br>    \n",
    "    1. 5 folds of 246 samples\n",
    "    2. 50% train (123 samples each fold)\n",
    "    3. 50% test (123 samples each fold)\n",
    "<b>Total:</b> 5 models<br>"
   ]
  },
  {
   "cell_type": "code",
   "execution_count": 11,
   "id": "efdfdb85",
   "metadata": {
    "execution": {
     "iopub.execute_input": "2024-02-05T01:40:42.938192Z",
     "iopub.status.busy": "2024-02-05T01:40:42.937630Z",
     "iopub.status.idle": "2024-02-05T01:40:43.022686Z",
     "shell.execute_reply": "2024-02-05T01:40:43.021066Z"
    },
    "papermill": {
     "duration": 0.103766,
     "end_time": "2024-02-05T01:40:43.027277",
     "exception": false,
     "start_time": "2024-02-05T01:40:42.923511",
     "status": "completed"
    },
    "tags": []
   },
   "outputs": [
    {
     "name": "stdout",
     "output_type": "stream",
     "text": [
      "Blocking Time Series Split:\n",
      "Repeats: 3\n",
      "n_splits: 5\n",
      "\n",
      "******\n",
      "[TRAIN]\n",
      "******\n",
      "RMSE: -1.268 (0.188)\n",
      "MAE: -1.007 (0.110)\n",
      "MAPE: -0.023 (0.002)\n",
      "R2: 0.958 (0.011)\n",
      "\n",
      "======================\n",
      "\n",
      "******\n",
      "[TEST]\n",
      "******\n",
      "RMSE: -1.644 (0.252)\n",
      "MAE: -1.317 (0.138)\n",
      "MAPE: -0.030 (0.003)\n",
      "R2: 0.925 (0.023)\n",
      "\n",
      "======================\n",
      "\n"
     ]
    },
    {
     "data": {
      "application/javascript": [
       "\n",
       "            setTimeout(function() {\n",
       "                var nbb_cell_id = 11;\n",
       "                var nbb_unformatted_code = \"n_splits = 5\\ntrain_size = 0.8\\n\\npipeline = Pipeline(\\n    [\\n        (\\\"imputer\\\", SimpleImputer(strategy=\\\"median\\\")),\\n        (\\\"estimator\\\", RandomForestRegressor(**PARAMS)),\\n    ]\\n)\\ncv = BlockingTimeSeriesSplit(n_splits=n_splits, train_size=train_size)\\nscores = cross_validate(\\n    pipeline,\\n    x,\\n    y,\\n    scoring=METRICS,\\n    cv=cv,\\n    n_jobs=-1,\\n    return_train_score=True,\\n)\\nprint(\\\"Blocking Time Series Split:\\\")\\nprint(f\\\"Repeats: {repeats}\\\")\\nprint(f\\\"n_splits: {n_splits}\\\")\\nprint()\\nprint_scores(scores, METRICS, METRICS_DICT)\\n\\nresults_dict_copy = results_dict.copy()\\nresults_dict_copy[\\\"Cross Validation\\\"] = \\\"Blocking Time Series Split\\\"\\nresults_dict_copy[\\n    \\\"Cross Validation Params\\\"\\n] = '{\\\"N_Splits\\\": 5, \\\"Repeats\\\": 1, \\\"train_size\\\": 0.8}'\\nresults_dict_copy[\\\"Data Shape\\\"] = x.shape\\ndf_results = fill_results_dict(results_dict_copy, scores)\\nresults_to_save.append(df_results)\";\n",
       "                var nbb_formatted_code = \"n_splits = 5\\ntrain_size = 0.8\\n\\npipeline = Pipeline(\\n    [\\n        (\\\"imputer\\\", SimpleImputer(strategy=\\\"median\\\")),\\n        (\\\"estimator\\\", RandomForestRegressor(**PARAMS)),\\n    ]\\n)\\ncv = BlockingTimeSeriesSplit(n_splits=n_splits, train_size=train_size)\\nscores = cross_validate(\\n    pipeline,\\n    x,\\n    y,\\n    scoring=METRICS,\\n    cv=cv,\\n    n_jobs=-1,\\n    return_train_score=True,\\n)\\nprint(\\\"Blocking Time Series Split:\\\")\\nprint(f\\\"Repeats: {repeats}\\\")\\nprint(f\\\"n_splits: {n_splits}\\\")\\nprint()\\nprint_scores(scores, METRICS, METRICS_DICT)\\n\\nresults_dict_copy = results_dict.copy()\\nresults_dict_copy[\\\"Cross Validation\\\"] = \\\"Blocking Time Series Split\\\"\\nresults_dict_copy[\\n    \\\"Cross Validation Params\\\"\\n] = '{\\\"N_Splits\\\": 5, \\\"Repeats\\\": 1, \\\"train_size\\\": 0.8}'\\nresults_dict_copy[\\\"Data Shape\\\"] = x.shape\\ndf_results = fill_results_dict(results_dict_copy, scores)\\nresults_to_save.append(df_results)\";\n",
       "                var nbb_cells = Jupyter.notebook.get_cells();\n",
       "                for (var i = 0; i < nbb_cells.length; ++i) {\n",
       "                    if (nbb_cells[i].input_prompt_number == nbb_cell_id) {\n",
       "                        if (nbb_cells[i].get_text() == nbb_unformatted_code) {\n",
       "                             nbb_cells[i].set_text(nbb_formatted_code);\n",
       "                        }\n",
       "                        break;\n",
       "                    }\n",
       "                }\n",
       "            }, 500);\n",
       "            "
      ],
      "text/plain": [
       "<IPython.core.display.Javascript object>"
      ]
     },
     "metadata": {},
     "output_type": "display_data"
    }
   ],
   "source": [
    "n_splits = 5\n",
    "train_size = 0.8\n",
    "\n",
    "pipeline = Pipeline(\n",
    "    [\n",
    "        (\"imputer\", SimpleImputer(strategy=\"median\")),\n",
    "        (\"estimator\", RandomForestRegressor(**PARAMS)),\n",
    "    ]\n",
    ")\n",
    "cv = BlockingTimeSeriesSplit(n_splits=n_splits, train_size=train_size)\n",
    "scores = cross_validate(\n",
    "    pipeline,\n",
    "    x,\n",
    "    y,\n",
    "    scoring=METRICS,\n",
    "    cv=cv,\n",
    "    n_jobs=-1,\n",
    "    return_train_score=True,\n",
    ")\n",
    "print(\"Blocking Time Series Split:\")\n",
    "print(f\"Repeats: {repeats}\")\n",
    "print(f\"n_splits: {n_splits}\")\n",
    "print()\n",
    "print_scores(scores, METRICS, METRICS_DICT)\n",
    "\n",
    "results_dict_copy = results_dict.copy()\n",
    "results_dict_copy[\"Cross Validation\"] = \"Blocking Time Series Split\"\n",
    "results_dict_copy[\n",
    "    \"Cross Validation Params\"\n",
    "] = '{\"N_Splits\": 5, \"Repeats\": 1, \"train_size\": 0.8}'\n",
    "results_dict_copy[\"Data Shape\"] = x.shape\n",
    "df_results = fill_results_dict(results_dict_copy, scores)\n",
    "results_to_save.append(df_results)"
   ]
  },
  {
   "cell_type": "markdown",
   "id": "70eb7f5b",
   "metadata": {
    "papermill": {
     "duration": 0.010821,
     "end_time": "2024-02-05T01:40:43.048565",
     "exception": false,
     "start_time": "2024-02-05T01:40:43.037744",
     "status": "completed"
    },
    "tags": []
   },
   "source": [
    "## 1.3. Time Series Split Cross Validation\n",
    "\n",
    "The training set has size i * n_samples // (n_splits + 1) + n_samples % (n_splits + 1) in the i th split, with a test set of size n_samples//(n_splits + 1) by default, where n_samples is the number of samples.\n",
    "\n",
    "\n",
    "<b>Dataset shape:</b> (1234, 38)<br>\n",
    "<b>Splits:</b>10<br>    \n",
    "    1. Train: 10 folds of 114, 226, 338, 450, 562, 675, 787, 899, 1011, 1123 samples each fold\n",
    "    2. Test: 112 samples each fold\n",
    "<b>Total:</b> 10 models<br>"
   ]
  },
  {
   "cell_type": "code",
   "execution_count": 12,
   "id": "a3ba5418",
   "metadata": {
    "execution": {
     "iopub.execute_input": "2024-02-05T01:40:43.072870Z",
     "iopub.status.busy": "2024-02-05T01:40:43.072316Z",
     "iopub.status.idle": "2024-02-05T01:40:43.163143Z",
     "shell.execute_reply": "2024-02-05T01:40:43.161923Z"
    },
    "papermill": {
     "duration": 0.107819,
     "end_time": "2024-02-05T01:40:43.167276",
     "exception": false,
     "start_time": "2024-02-05T01:40:43.059457",
     "status": "completed"
    },
    "tags": []
   },
   "outputs": [
    {
     "name": "stdout",
     "output_type": "stream",
     "text": [
      "Time Series Split:\n",
      "Repeats: 3\n",
      "n_splits: 5\n",
      "\n",
      "******\n",
      "[TRAIN]\n",
      "******\n",
      "RMSE: -1.331 (0.093)\n",
      "MAE: -1.086 (0.078)\n",
      "MAPE: -0.025 (0.002)\n",
      "R2: 0.952 (0.007)\n",
      "\n",
      "======================\n",
      "\n",
      "******\n",
      "[TEST]\n",
      "******\n",
      "RMSE: -1.767 (0.415)\n",
      "MAE: -1.418 (0.287)\n",
      "MAPE: -0.032 (0.006)\n",
      "R2: 0.914 (0.035)\n",
      "\n",
      "======================\n",
      "\n"
     ]
    },
    {
     "data": {
      "application/javascript": [
       "\n",
       "            setTimeout(function() {\n",
       "                var nbb_cell_id = 12;\n",
       "                var nbb_unformatted_code = \"n_splits = 5\\ngap = 0\\npipeline = Pipeline(\\n    [\\n        (\\\"imputer\\\", SimpleImputer(strategy=\\\"median\\\")),\\n        (\\\"estimator\\\", RandomForestRegressor(**PARAMS)),\\n    ]\\n)\\ncv = TimeSeriesSplit(gap=gap, max_train_size=None, n_splits=n_splits, test_size=None)\\n\\nscores = cross_validate(\\n    pipeline,\\n    x,\\n    y,\\n    scoring=METRICS,\\n    cv=cv,\\n    n_jobs=-1,\\n    return_train_score=True,\\n)\\nprint(\\\"Time Series Split:\\\")\\nprint(f\\\"Repeats: {repeats}\\\")\\nprint(f\\\"n_splits: {n_splits}\\\")\\nprint()\\nprint_scores(scores, METRICS, METRICS_DICT)\\n\\nresults_dict_copy = results_dict.copy()\\nresults_dict_copy[\\\"Cross Validation\\\"] = \\\"Time Series Split\\\"\\nresults_dict_copy[\\\"Cross Validation Params\\\"] = '{\\\"N_Splits\\\": 5, \\\"Repeats\\\": 1, \\\"Gap\\\": 0}'\\nresults_dict_copy[\\\"Data Shape\\\"] = x.shape\\ndf_results = fill_results_dict(results_dict_copy, scores)\\nresults_to_save.append(df_results)\";\n",
       "                var nbb_formatted_code = \"n_splits = 5\\ngap = 0\\npipeline = Pipeline(\\n    [\\n        (\\\"imputer\\\", SimpleImputer(strategy=\\\"median\\\")),\\n        (\\\"estimator\\\", RandomForestRegressor(**PARAMS)),\\n    ]\\n)\\ncv = TimeSeriesSplit(gap=gap, max_train_size=None, n_splits=n_splits, test_size=None)\\n\\nscores = cross_validate(\\n    pipeline,\\n    x,\\n    y,\\n    scoring=METRICS,\\n    cv=cv,\\n    n_jobs=-1,\\n    return_train_score=True,\\n)\\nprint(\\\"Time Series Split:\\\")\\nprint(f\\\"Repeats: {repeats}\\\")\\nprint(f\\\"n_splits: {n_splits}\\\")\\nprint()\\nprint_scores(scores, METRICS, METRICS_DICT)\\n\\nresults_dict_copy = results_dict.copy()\\nresults_dict_copy[\\\"Cross Validation\\\"] = \\\"Time Series Split\\\"\\nresults_dict_copy[\\\"Cross Validation Params\\\"] = '{\\\"N_Splits\\\": 5, \\\"Repeats\\\": 1, \\\"Gap\\\": 0}'\\nresults_dict_copy[\\\"Data Shape\\\"] = x.shape\\ndf_results = fill_results_dict(results_dict_copy, scores)\\nresults_to_save.append(df_results)\";\n",
       "                var nbb_cells = Jupyter.notebook.get_cells();\n",
       "                for (var i = 0; i < nbb_cells.length; ++i) {\n",
       "                    if (nbb_cells[i].input_prompt_number == nbb_cell_id) {\n",
       "                        if (nbb_cells[i].get_text() == nbb_unformatted_code) {\n",
       "                             nbb_cells[i].set_text(nbb_formatted_code);\n",
       "                        }\n",
       "                        break;\n",
       "                    }\n",
       "                }\n",
       "            }, 500);\n",
       "            "
      ],
      "text/plain": [
       "<IPython.core.display.Javascript object>"
      ]
     },
     "metadata": {},
     "output_type": "display_data"
    }
   ],
   "source": [
    "n_splits = 5\n",
    "gap = 0\n",
    "pipeline = Pipeline(\n",
    "    [\n",
    "        (\"imputer\", SimpleImputer(strategy=\"median\")),\n",
    "        (\"estimator\", RandomForestRegressor(**PARAMS)),\n",
    "    ]\n",
    ")\n",
    "cv = TimeSeriesSplit(gap=gap, max_train_size=None, n_splits=n_splits, test_size=None)\n",
    "\n",
    "scores = cross_validate(\n",
    "    pipeline,\n",
    "    x,\n",
    "    y,\n",
    "    scoring=METRICS,\n",
    "    cv=cv,\n",
    "    n_jobs=-1,\n",
    "    return_train_score=True,\n",
    ")\n",
    "print(\"Time Series Split:\")\n",
    "print(f\"Repeats: {repeats}\")\n",
    "print(f\"n_splits: {n_splits}\")\n",
    "print()\n",
    "print_scores(scores, METRICS, METRICS_DICT)\n",
    "\n",
    "results_dict_copy = results_dict.copy()\n",
    "results_dict_copy[\"Cross Validation\"] = \"Time Series Split\"\n",
    "results_dict_copy[\"Cross Validation Params\"] = '{\"N_Splits\": 5, \"Repeats\": 1, \"Gap\": 0}'\n",
    "results_dict_copy[\"Data Shape\"] = x.shape\n",
    "df_results = fill_results_dict(results_dict_copy, scores)\n",
    "results_to_save.append(df_results)"
   ]
  },
  {
   "cell_type": "markdown",
   "id": "bf4a974c",
   "metadata": {
    "papermill": {
     "duration": 0.011254,
     "end_time": "2024-02-05T01:40:43.190869",
     "exception": false,
     "start_time": "2024-02-05T01:40:43.179615",
     "status": "completed"
    },
    "tags": []
   },
   "source": [
    "## 1.4. Out of time Split Cross Validation\n",
    "\n",
    "<b>Dataset shape:</b> (1234, 38)<br>\n",
    "<b>Train size: 80%</b><br>\n",
    "<b>Test  size: 20%</b>\n",
    "\n",
    "\n",
    "<b>Splits:</b> 2<br>    \n",
    "    1. Train: 987\n",
    "    2. Test: 247\n",
    "<b>Total:</b> 1 model<br>"
   ]
  },
  {
   "cell_type": "code",
   "execution_count": 13,
   "id": "c4b0c8cb",
   "metadata": {
    "execution": {
     "iopub.execute_input": "2024-02-05T01:40:43.217683Z",
     "iopub.status.busy": "2024-02-05T01:40:43.215396Z",
     "iopub.status.idle": "2024-02-05T01:40:43.287692Z",
     "shell.execute_reply": "2024-02-05T01:40:43.285912Z"
    },
    "papermill": {
     "duration": 0.089366,
     "end_time": "2024-02-05T01:40:43.290982",
     "exception": false,
     "start_time": "2024-02-05T01:40:43.201616",
     "status": "completed"
    },
    "scrolled": true,
    "tags": []
   },
   "outputs": [
    {
     "name": "stdout",
     "output_type": "stream",
     "text": [
      "******\n",
      "[TRAIN]\n",
      "******\n",
      "RMSE: 1.412 (0.000)\n",
      "MAE: 1.154 (0.000)\n",
      "MAPE: 0.027 (0.000)\n",
      "R2: 0.946 (0.000)\n",
      "\n",
      "======================\n",
      "\n",
      "******\n",
      "[TEST]\n",
      "******\n",
      "RMSE: 2.209 (0.000)\n",
      "MAE: 1.648 (0.000)\n",
      "MAPE: 0.035 (0.000)\n",
      "R2: 0.886 (0.000)\n",
      "\n",
      "======================\n",
      "\n"
     ]
    },
    {
     "data": {
      "application/javascript": [
       "\n",
       "            setTimeout(function() {\n",
       "                var nbb_cell_id = 13;\n",
       "                var nbb_unformatted_code = \"test_size = 0.2\\n\\nx_train, x_test, y_train, y_test = train_test_split(\\n    x, y, test_size=test_size, random_state=SEED, shuffle=False\\n)\\npipeline = Pipeline(\\n    [\\n        (\\\"imputer\\\", SimpleImputer(strategy=\\\"median\\\")),\\n        (\\\"estimator\\\", RandomForestRegressor(**PARAMS)),\\n    ]\\n)\\n\\npipeline.fit(x_train, y_train)\\n\\ny_train_pred = pipeline.predict(x_train)\\ny_test_pred = pipeline.predict(x_test)\\n\\nscores = score_regression_metrics(y_train, y_train_pred, y_test, y_test_pred)\\nprint_scores(scores, METRICS, METRICS_DICT)\\n\\nresults_dict_copy = results_dict.copy()\\nresults_dict_copy[\\\"Cross Validation\\\"] = \\\"Out of time Split\\\"\\nresults_dict_copy[\\\"Cross Validation Params\\\"] = '{\\\"Test Size\\\": 0.2}'\\nresults_dict_copy[\\\"Data Shape\\\"] = x.shape\\ndf_results = fill_results_dict(\\n    results_dict_copy, {key: [value] for key, value in scores.items()}\\n)\\nresults_to_save.append(df_results)\";\n",
       "                var nbb_formatted_code = \"test_size = 0.2\\n\\nx_train, x_test, y_train, y_test = train_test_split(\\n    x, y, test_size=test_size, random_state=SEED, shuffle=False\\n)\\npipeline = Pipeline(\\n    [\\n        (\\\"imputer\\\", SimpleImputer(strategy=\\\"median\\\")),\\n        (\\\"estimator\\\", RandomForestRegressor(**PARAMS)),\\n    ]\\n)\\n\\npipeline.fit(x_train, y_train)\\n\\ny_train_pred = pipeline.predict(x_train)\\ny_test_pred = pipeline.predict(x_test)\\n\\nscores = score_regression_metrics(y_train, y_train_pred, y_test, y_test_pred)\\nprint_scores(scores, METRICS, METRICS_DICT)\\n\\nresults_dict_copy = results_dict.copy()\\nresults_dict_copy[\\\"Cross Validation\\\"] = \\\"Out of time Split\\\"\\nresults_dict_copy[\\\"Cross Validation Params\\\"] = '{\\\"Test Size\\\": 0.2}'\\nresults_dict_copy[\\\"Data Shape\\\"] = x.shape\\ndf_results = fill_results_dict(\\n    results_dict_copy, {key: [value] for key, value in scores.items()}\\n)\\nresults_to_save.append(df_results)\";\n",
       "                var nbb_cells = Jupyter.notebook.get_cells();\n",
       "                for (var i = 0; i < nbb_cells.length; ++i) {\n",
       "                    if (nbb_cells[i].input_prompt_number == nbb_cell_id) {\n",
       "                        if (nbb_cells[i].get_text() == nbb_unformatted_code) {\n",
       "                             nbb_cells[i].set_text(nbb_formatted_code);\n",
       "                        }\n",
       "                        break;\n",
       "                    }\n",
       "                }\n",
       "            }, 500);\n",
       "            "
      ],
      "text/plain": [
       "<IPython.core.display.Javascript object>"
      ]
     },
     "metadata": {},
     "output_type": "display_data"
    }
   ],
   "source": [
    "test_size = 0.2\n",
    "\n",
    "x_train, x_test, y_train, y_test = train_test_split(\n",
    "    x, y, test_size=test_size, random_state=SEED, shuffle=False\n",
    ")\n",
    "pipeline = Pipeline(\n",
    "    [\n",
    "        (\"imputer\", SimpleImputer(strategy=\"median\")),\n",
    "        (\"estimator\", RandomForestRegressor(**PARAMS)),\n",
    "    ]\n",
    ")\n",
    "\n",
    "pipeline.fit(x_train, y_train)\n",
    "\n",
    "y_train_pred = pipeline.predict(x_train)\n",
    "y_test_pred = pipeline.predict(x_test)\n",
    "\n",
    "scores = score_regression_metrics(y_train, y_train_pred, y_test, y_test_pred)\n",
    "print_scores(scores, METRICS, METRICS_DICT)\n",
    "\n",
    "results_dict_copy = results_dict.copy()\n",
    "results_dict_copy[\"Cross Validation\"] = \"Out of time Split\"\n",
    "results_dict_copy[\"Cross Validation Params\"] = '{\"Test Size\": 0.2}'\n",
    "results_dict_copy[\"Data Shape\"] = x.shape\n",
    "df_results = fill_results_dict(\n",
    "    results_dict_copy, {key: [value] for key, value in scores.items()}\n",
    ")\n",
    "results_to_save.append(df_results)"
   ]
  },
  {
   "cell_type": "code",
   "execution_count": 14,
   "id": "95e78b53",
   "metadata": {
    "execution": {
     "iopub.execute_input": "2024-02-05T01:40:43.318454Z",
     "iopub.status.busy": "2024-02-05T01:40:43.317905Z",
     "iopub.status.idle": "2024-02-05T01:40:43.400632Z",
     "shell.execute_reply": "2024-02-05T01:40:43.397452Z"
    },
    "papermill": {
     "duration": 0.101001,
     "end_time": "2024-02-05T01:40:43.404147",
     "exception": false,
     "start_time": "2024-02-05T01:40:43.303146",
     "status": "completed"
    },
    "tags": []
   },
   "outputs": [
    {
     "data": {
      "text/html": [
       "<div>\n",
       "<style scoped>\n",
       "    .dataframe tbody tr th:only-of-type {\n",
       "        vertical-align: middle;\n",
       "    }\n",
       "\n",
       "    .dataframe tbody tr th {\n",
       "        vertical-align: top;\n",
       "    }\n",
       "\n",
       "    .dataframe thead tr th {\n",
       "        text-align: left;\n",
       "    }\n",
       "</style>\n",
       "<table border=\"1\" class=\"dataframe\">\n",
       "  <thead>\n",
       "    <tr>\n",
       "      <th></th>\n",
       "      <th>Features</th>\n",
       "      <th>Model</th>\n",
       "      <th>Cross Validation</th>\n",
       "      <th colspan=\"2\" halign=\"left\">RMSE Test</th>\n",
       "      <th colspan=\"2\" halign=\"left\">MAE Test</th>\n",
       "      <th colspan=\"2\" halign=\"left\">MAPE Test</th>\n",
       "      <th colspan=\"2\" halign=\"left\">R2 Test</th>\n",
       "    </tr>\n",
       "    <tr>\n",
       "      <th></th>\n",
       "      <th></th>\n",
       "      <th></th>\n",
       "      <th></th>\n",
       "      <th>mean</th>\n",
       "      <th>std</th>\n",
       "      <th>mean</th>\n",
       "      <th>std</th>\n",
       "      <th>mean</th>\n",
       "      <th>std</th>\n",
       "      <th>mean</th>\n",
       "      <th>std</th>\n",
       "    </tr>\n",
       "  </thead>\n",
       "  <tbody>\n",
       "    <tr>\n",
       "      <th>0</th>\n",
       "      <td>Chemical + CS3 + CS7</td>\n",
       "      <td>Random Forest</td>\n",
       "      <td>Blocking Time Series Split</td>\n",
       "      <td>1.644393</td>\n",
       "      <td>0.251566</td>\n",
       "      <td>1.316745</td>\n",
       "      <td>0.138311</td>\n",
       "      <td>0.030137</td>\n",
       "      <td>0.002616</td>\n",
       "      <td>0.924784</td>\n",
       "      <td>0.022810</td>\n",
       "    </tr>\n",
       "    <tr>\n",
       "      <th>1</th>\n",
       "      <td>Chemical + CS3 + CS7</td>\n",
       "      <td>Random Forest</td>\n",
       "      <td>Out of time Split</td>\n",
       "      <td>2.208613</td>\n",
       "      <td>0.000000</td>\n",
       "      <td>1.647582</td>\n",
       "      <td>0.000000</td>\n",
       "      <td>0.034699</td>\n",
       "      <td>0.000000</td>\n",
       "      <td>0.886044</td>\n",
       "      <td>0.000000</td>\n",
       "    </tr>\n",
       "    <tr>\n",
       "      <th>2</th>\n",
       "      <td>Chemical + CS3 + CS7</td>\n",
       "      <td>Random Forest</td>\n",
       "      <td>Repeated KFold</td>\n",
       "      <td>1.550484</td>\n",
       "      <td>0.081793</td>\n",
       "      <td>1.252908</td>\n",
       "      <td>0.072890</td>\n",
       "      <td>0.028402</td>\n",
       "      <td>0.001632</td>\n",
       "      <td>0.937664</td>\n",
       "      <td>0.007440</td>\n",
       "    </tr>\n",
       "    <tr>\n",
       "      <th>3</th>\n",
       "      <td>Chemical + CS3 + CS7</td>\n",
       "      <td>Random Forest</td>\n",
       "      <td>Time Series Split</td>\n",
       "      <td>1.766861</td>\n",
       "      <td>0.414725</td>\n",
       "      <td>1.418409</td>\n",
       "      <td>0.287369</td>\n",
       "      <td>0.031997</td>\n",
       "      <td>0.006391</td>\n",
       "      <td>0.914007</td>\n",
       "      <td>0.035496</td>\n",
       "    </tr>\n",
       "  </tbody>\n",
       "</table>\n",
       "</div>"
      ],
      "text/plain": [
       "               Features          Model            Cross Validation RMSE Test  \\\n",
       "                                                                        mean   \n",
       "0  Chemical + CS3 + CS7  Random Forest  Blocking Time Series Split  1.644393   \n",
       "1  Chemical + CS3 + CS7  Random Forest           Out of time Split  2.208613   \n",
       "2  Chemical + CS3 + CS7  Random Forest              Repeated KFold  1.550484   \n",
       "3  Chemical + CS3 + CS7  Random Forest           Time Series Split  1.766861   \n",
       "\n",
       "             MAE Test           MAPE Test             R2 Test            \n",
       "        std      mean       std      mean       std      mean       std  \n",
       "0  0.251566  1.316745  0.138311  0.030137  0.002616  0.924784  0.022810  \n",
       "1  0.000000  1.647582  0.000000  0.034699  0.000000  0.886044  0.000000  \n",
       "2  0.081793  1.252908  0.072890  0.028402  0.001632  0.937664  0.007440  \n",
       "3  0.414725  1.418409  0.287369  0.031997  0.006391  0.914007  0.035496  "
      ]
     },
     "execution_count": 14,
     "metadata": {},
     "output_type": "execute_result"
    },
    {
     "data": {
      "application/javascript": [
       "\n",
       "            setTimeout(function() {\n",
       "                var nbb_cell_id = 14;\n",
       "                var nbb_unformatted_code = \"pd.concat(results_to_save).groupby([\\\"Features\\\", \\\"Model\\\", \\\"Cross Validation\\\"])[\\n    [\\\"RMSE Test\\\", \\\"MAE Test\\\", \\\"MAPE Test\\\", \\\"R2 Test\\\"]\\n].agg(\\n    [\\\"mean\\\", lambda series: pd.Series(series.std(ddof=0), name=\\\"std\\\")]\\n).reset_index().rename(\\n    columns={\\\"<lambda_0>\\\": \\\"std\\\"}\\n)\";\n",
       "                var nbb_formatted_code = \"pd.concat(results_to_save).groupby([\\\"Features\\\", \\\"Model\\\", \\\"Cross Validation\\\"])[\\n    [\\\"RMSE Test\\\", \\\"MAE Test\\\", \\\"MAPE Test\\\", \\\"R2 Test\\\"]\\n].agg(\\n    [\\\"mean\\\", lambda series: pd.Series(series.std(ddof=0), name=\\\"std\\\")]\\n).reset_index().rename(\\n    columns={\\\"<lambda_0>\\\": \\\"std\\\"}\\n)\";\n",
       "                var nbb_cells = Jupyter.notebook.get_cells();\n",
       "                for (var i = 0; i < nbb_cells.length; ++i) {\n",
       "                    if (nbb_cells[i].input_prompt_number == nbb_cell_id) {\n",
       "                        if (nbb_cells[i].get_text() == nbb_unformatted_code) {\n",
       "                             nbb_cells[i].set_text(nbb_formatted_code);\n",
       "                        }\n",
       "                        break;\n",
       "                    }\n",
       "                }\n",
       "            }, 500);\n",
       "            "
      ],
      "text/plain": [
       "<IPython.core.display.Javascript object>"
      ]
     },
     "metadata": {},
     "output_type": "display_data"
    }
   ],
   "source": [
    "pd.concat(results_to_save).groupby([\"Features\", \"Model\", \"Cross Validation\"])[\n",
    "    [\"RMSE Test\", \"MAE Test\", \"MAPE Test\", \"R2 Test\"]\n",
    "].agg(\n",
    "    [\"mean\", lambda series: pd.Series(series.std(ddof=0), name=\"std\")]\n",
    ").reset_index().rename(\n",
    "    columns={\"<lambda_0>\": \"std\"}\n",
    ")"
   ]
  },
  {
   "cell_type": "markdown",
   "id": "a9dbdda6",
   "metadata": {
    "papermill": {
     "duration": 0.012667,
     "end_time": "2024-02-05T01:40:43.429567",
     "exception": false,
     "start_time": "2024-02-05T01:40:43.416900",
     "status": "completed"
    },
    "tags": []
   },
   "source": [
    "# Saving the results Dataframe"
   ]
  },
  {
   "cell_type": "markdown",
   "id": "1b08c3e8",
   "metadata": {
    "papermill": {
     "duration": 0.012466,
     "end_time": "2024-02-05T01:40:43.455380",
     "exception": false,
     "start_time": "2024-02-05T01:40:43.442914",
     "status": "completed"
    },
    "tags": []
   },
   "source": [
    "## Saving the full dataframe"
   ]
  },
  {
   "cell_type": "code",
   "execution_count": 15,
   "id": "833eb204",
   "metadata": {
    "execution": {
     "iopub.execute_input": "2024-02-05T01:40:43.497729Z",
     "iopub.status.busy": "2024-02-05T01:40:43.497075Z",
     "iopub.status.idle": "2024-02-05T01:40:43.520514Z",
     "shell.execute_reply": "2024-02-05T01:40:43.518913Z"
    },
    "papermill": {
     "duration": 0.053121,
     "end_time": "2024-02-05T01:40:43.526058",
     "exception": false,
     "start_time": "2024-02-05T01:40:43.472937",
     "status": "completed"
    },
    "tags": []
   },
   "outputs": [
    {
     "data": {
      "application/javascript": [
       "\n",
       "            setTimeout(function() {\n",
       "                var nbb_cell_id = 15;\n",
       "                var nbb_unformatted_code = \"path = \\\"../../../../../reports/results/local_models/204/o/full/\\\"\\nfilename = f\\\"random_forest_results_full_{index_to_save}.csv\\\"\\n\\npd.concat(results_to_save).to_csv(\\n    path_or_buf=path + filename,\\n    mode=\\\"w\\\",\\n    index=False,\\n    header=True,\\n)\";\n",
       "                var nbb_formatted_code = \"path = \\\"../../../../../reports/results/local_models/204/o/full/\\\"\\nfilename = f\\\"random_forest_results_full_{index_to_save}.csv\\\"\\n\\npd.concat(results_to_save).to_csv(\\n    path_or_buf=path + filename,\\n    mode=\\\"w\\\",\\n    index=False,\\n    header=True,\\n)\";\n",
       "                var nbb_cells = Jupyter.notebook.get_cells();\n",
       "                for (var i = 0; i < nbb_cells.length; ++i) {\n",
       "                    if (nbb_cells[i].input_prompt_number == nbb_cell_id) {\n",
       "                        if (nbb_cells[i].get_text() == nbb_unformatted_code) {\n",
       "                             nbb_cells[i].set_text(nbb_formatted_code);\n",
       "                        }\n",
       "                        break;\n",
       "                    }\n",
       "                }\n",
       "            }, 500);\n",
       "            "
      ],
      "text/plain": [
       "<IPython.core.display.Javascript object>"
      ]
     },
     "metadata": {},
     "output_type": "display_data"
    }
   ],
   "source": [
    "path = \"../../../../../reports/results/local_models/204/o/full/\"\n",
    "filename = f\"random_forest_results_full_{index_to_save}.csv\"\n",
    "\n",
    "pd.concat(results_to_save).to_csv(\n",
    "    path_or_buf=path + filename,\n",
    "    mode=\"w\",\n",
    "    index=False,\n",
    "    header=True,\n",
    ")"
   ]
  },
  {
   "cell_type": "markdown",
   "id": "a4c873d6",
   "metadata": {
    "papermill": {
     "duration": 0.019707,
     "end_time": "2024-02-05T01:40:43.560707",
     "exception": false,
     "start_time": "2024-02-05T01:40:43.541000",
     "status": "completed"
    },
    "tags": []
   },
   "source": [
    "## Saving the grouped dataframe"
   ]
  },
  {
   "cell_type": "code",
   "execution_count": 16,
   "id": "6565b1ec",
   "metadata": {
    "execution": {
     "iopub.execute_input": "2024-02-05T01:40:43.600856Z",
     "iopub.status.busy": "2024-02-05T01:40:43.600319Z",
     "iopub.status.idle": "2024-02-05T01:40:43.688510Z",
     "shell.execute_reply": "2024-02-05T01:40:43.686780Z"
    },
    "papermill": {
     "duration": 0.109574,
     "end_time": "2024-02-05T01:40:43.691980",
     "exception": false,
     "start_time": "2024-02-05T01:40:43.582406",
     "status": "completed"
    },
    "tags": []
   },
   "outputs": [
    {
     "data": {
      "application/javascript": [
       "\n",
       "            setTimeout(function() {\n",
       "                var nbb_cell_id = 16;\n",
       "                var nbb_unformatted_code = \"cols_groupby = [\\n    \\\"Category\\\",\\n    \\\"Company\\\",\\n    \\\"Data Shape\\\",\\n    \\\"Timesteps\\\",\\n    \\\"Features\\\",\\n    \\\"Model\\\",\\n    \\\"Cross Validation\\\",\\n    \\\"Cross Validation Params\\\",\\n]\\n\\ncols_agg = [\\\"RMSE Train\\\", \\\"MAE Train\\\", \\\"MAPE Train\\\", \\\"R2 Train\\\"] + [\\n    \\\"RMSE Test\\\",\\n    \\\"MAE Test\\\",\\n    \\\"MAPE Test\\\",\\n    \\\"R2 Test\\\",\\n]\\n\\npath = \\\"../../../../../reports/results/local_models/204/o/grouped/\\\"\\nfilename = f\\\"random_forest_results_grouped_{index_to_save}.csv\\\"\\n\\n\\ndf_results_to_save = (\\n    pd.concat(results_to_save)\\n    .groupby(cols_groupby, dropna=False)[cols_agg]\\n    .agg([\\\"mean\\\", lambda series: pd.Series(series.std(ddof=0), name=\\\"std\\\")])\\n    .reset_index()\\n    .rename(columns={\\\"<lambda_0>\\\": \\\"std\\\"})\\n)\\n\\ndf_results_to_save.to_csv(\\n    path_or_buf=path + filename,\\n    mode=\\\"w\\\",\\n    index=False,\\n    header=True,\\n)\";\n",
       "                var nbb_formatted_code = \"cols_groupby = [\\n    \\\"Category\\\",\\n    \\\"Company\\\",\\n    \\\"Data Shape\\\",\\n    \\\"Timesteps\\\",\\n    \\\"Features\\\",\\n    \\\"Model\\\",\\n    \\\"Cross Validation\\\",\\n    \\\"Cross Validation Params\\\",\\n]\\n\\ncols_agg = [\\\"RMSE Train\\\", \\\"MAE Train\\\", \\\"MAPE Train\\\", \\\"R2 Train\\\"] + [\\n    \\\"RMSE Test\\\",\\n    \\\"MAE Test\\\",\\n    \\\"MAPE Test\\\",\\n    \\\"R2 Test\\\",\\n]\\n\\npath = \\\"../../../../../reports/results/local_models/204/o/grouped/\\\"\\nfilename = f\\\"random_forest_results_grouped_{index_to_save}.csv\\\"\\n\\n\\ndf_results_to_save = (\\n    pd.concat(results_to_save)\\n    .groupby(cols_groupby, dropna=False)[cols_agg]\\n    .agg([\\\"mean\\\", lambda series: pd.Series(series.std(ddof=0), name=\\\"std\\\")])\\n    .reset_index()\\n    .rename(columns={\\\"<lambda_0>\\\": \\\"std\\\"})\\n)\\n\\ndf_results_to_save.to_csv(\\n    path_or_buf=path + filename,\\n    mode=\\\"w\\\",\\n    index=False,\\n    header=True,\\n)\";\n",
       "                var nbb_cells = Jupyter.notebook.get_cells();\n",
       "                for (var i = 0; i < nbb_cells.length; ++i) {\n",
       "                    if (nbb_cells[i].input_prompt_number == nbb_cell_id) {\n",
       "                        if (nbb_cells[i].get_text() == nbb_unformatted_code) {\n",
       "                             nbb_cells[i].set_text(nbb_formatted_code);\n",
       "                        }\n",
       "                        break;\n",
       "                    }\n",
       "                }\n",
       "            }, 500);\n",
       "            "
      ],
      "text/plain": [
       "<IPython.core.display.Javascript object>"
      ]
     },
     "metadata": {},
     "output_type": "display_data"
    }
   ],
   "source": [
    "cols_groupby = [\n",
    "    \"Category\",\n",
    "    \"Company\",\n",
    "    \"Data Shape\",\n",
    "    \"Timesteps\",\n",
    "    \"Features\",\n",
    "    \"Model\",\n",
    "    \"Cross Validation\",\n",
    "    \"Cross Validation Params\",\n",
    "]\n",
    "\n",
    "cols_agg = [\"RMSE Train\", \"MAE Train\", \"MAPE Train\", \"R2 Train\"] + [\n",
    "    \"RMSE Test\",\n",
    "    \"MAE Test\",\n",
    "    \"MAPE Test\",\n",
    "    \"R2 Test\",\n",
    "]\n",
    "\n",
    "path = \"../../../../../reports/results/local_models/204/o/grouped/\"\n",
    "filename = f\"random_forest_results_grouped_{index_to_save}.csv\"\n",
    "\n",
    "\n",
    "df_results_to_save = (\n",
    "    pd.concat(results_to_save)\n",
    "    .groupby(cols_groupby, dropna=False)[cols_agg]\n",
    "    .agg([\"mean\", lambda series: pd.Series(series.std(ddof=0), name=\"std\")])\n",
    "    .reset_index()\n",
    "    .rename(columns={\"<lambda_0>\": \"std\"})\n",
    ")\n",
    "\n",
    "df_results_to_save.to_csv(\n",
    "    path_or_buf=path + filename,\n",
    "    mode=\"w\",\n",
    "    index=False,\n",
    "    header=True,\n",
    ")"
   ]
  },
  {
   "cell_type": "code",
   "execution_count": 17,
   "id": "968dd995",
   "metadata": {
    "execution": {
     "iopub.execute_input": "2024-02-05T01:40:43.720427Z",
     "iopub.status.busy": "2024-02-05T01:40:43.719887Z",
     "iopub.status.idle": "2024-02-05T01:40:43.736971Z",
     "shell.execute_reply": "2024-02-05T01:40:43.734808Z"
    },
    "papermill": {
     "duration": 0.035787,
     "end_time": "2024-02-05T01:40:43.740364",
     "exception": false,
     "start_time": "2024-02-05T01:40:43.704577",
     "status": "completed"
    },
    "tags": []
   },
   "outputs": [
    {
     "data": {
      "text/plain": [
       "{'bootstrap': True,\n",
       " 'ccp_alpha': 0.0,\n",
       " 'criterion': 'squared_error',\n",
       " 'max_depth': 3,\n",
       " 'max_features': 1.0,\n",
       " 'max_leaf_nodes': None,\n",
       " 'max_samples': None,\n",
       " 'min_impurity_decrease': 0.0,\n",
       " 'min_samples_leaf': 1,\n",
       " 'min_samples_split': 2,\n",
       " 'min_weight_fraction_leaf': 0.0,\n",
       " 'n_estimators': 5,\n",
       " 'n_jobs': None,\n",
       " 'oob_score': False,\n",
       " 'random_state': 47,\n",
       " 'verbose': 0,\n",
       " 'warm_start': False}"
      ]
     },
     "execution_count": 17,
     "metadata": {},
     "output_type": "execute_result"
    },
    {
     "data": {
      "application/javascript": [
       "\n",
       "            setTimeout(function() {\n",
       "                var nbb_cell_id = 17;\n",
       "                var nbb_unformatted_code = \"model = pipeline.get_params()[\\\"steps\\\"][1][1]\\nmodel.get_params()\";\n",
       "                var nbb_formatted_code = \"model = pipeline.get_params()[\\\"steps\\\"][1][1]\\nmodel.get_params()\";\n",
       "                var nbb_cells = Jupyter.notebook.get_cells();\n",
       "                for (var i = 0; i < nbb_cells.length; ++i) {\n",
       "                    if (nbb_cells[i].input_prompt_number == nbb_cell_id) {\n",
       "                        if (nbb_cells[i].get_text() == nbb_unformatted_code) {\n",
       "                             nbb_cells[i].set_text(nbb_formatted_code);\n",
       "                        }\n",
       "                        break;\n",
       "                    }\n",
       "                }\n",
       "            }, 500);\n",
       "            "
      ],
      "text/plain": [
       "<IPython.core.display.Javascript object>"
      ]
     },
     "metadata": {},
     "output_type": "display_data"
    }
   ],
   "source": [
    "model = pipeline.get_params()[\"steps\"][1][1]\n",
    "model.get_params()"
   ]
  },
  {
   "cell_type": "code",
   "execution_count": 18,
   "id": "1f4d524d",
   "metadata": {
    "execution": {
     "iopub.execute_input": "2024-02-05T01:40:43.768903Z",
     "iopub.status.busy": "2024-02-05T01:40:43.768362Z",
     "iopub.status.idle": "2024-02-05T01:40:44.240695Z",
     "shell.execute_reply": "2024-02-05T01:40:44.239164Z"
    },
    "papermill": {
     "duration": 0.490482,
     "end_time": "2024-02-05T01:40:44.243767",
     "exception": false,
     "start_time": "2024-02-05T01:40:43.753285",
     "status": "completed"
    },
    "tags": []
   },
   "outputs": [
    {
     "data": {
      "image/png": "[encoded data removed]",
      "text/plain": [
       "<Figure size 1500x1000 with 1 Axes>"
      ]
     },
     "metadata": {},
     "output_type": "display_data"
    },
    {
     "data": {
      "application/javascript": [
       "\n",
       "            setTimeout(function() {\n",
       "                var nbb_cell_id = 18;\n",
       "                var nbb_unformatted_code = \"features = x.columns\\nimportances = model.feature_importances_\\nindices = np.argsort(importances)\\n\\nfig, ax = plt.subplots(1, 1, figsize=(15, 10))\\nplt.title(\\\"Feature Importances\\\")\\nplt.barh(range(len(indices)), importances[indices], color=\\\"b\\\", align=\\\"center\\\")\\nplt.yticks(range(len(indices)), [features[i] for i in indices])\\nplt.xlabel(\\\"Relative Importance\\\")\\nplt.show(ax)\";\n",
       "                var nbb_formatted_code = \"features = x.columns\\nimportances = model.feature_importances_\\nindices = np.argsort(importances)\\n\\nfig, ax = plt.subplots(1, 1, figsize=(15, 10))\\nplt.title(\\\"Feature Importances\\\")\\nplt.barh(range(len(indices)), importances[indices], color=\\\"b\\\", align=\\\"center\\\")\\nplt.yticks(range(len(indices)), [features[i] for i in indices])\\nplt.xlabel(\\\"Relative Importance\\\")\\nplt.show(ax)\";\n",
       "                var nbb_cells = Jupyter.notebook.get_cells();\n",
       "                for (var i = 0; i < nbb_cells.length; ++i) {\n",
       "                    if (nbb_cells[i].input_prompt_number == nbb_cell_id) {\n",
       "                        if (nbb_cells[i].get_text() == nbb_unformatted_code) {\n",
       "                             nbb_cells[i].set_text(nbb_formatted_code);\n",
       "                        }\n",
       "                        break;\n",
       "                    }\n",
       "                }\n",
       "            }, 500);\n",
       "            "
      ],
      "text/plain": [
       "<IPython.core.display.Javascript object>"
      ]
     },
     "metadata": {},
     "output_type": "display_data"
    }
   ],
   "source": [
    "features = x.columns\n",
    "importances = model.feature_importances_\n",
    "indices = np.argsort(importances)\n",
    "\n",
    "fig, ax = plt.subplots(1, 1, figsize=(15, 10))\n",
    "plt.title(\"Feature Importances\")\n",
    "plt.barh(range(len(indices)), importances[indices], color=\"b\", align=\"center\")\n",
    "plt.yticks(range(len(indices)), [features[i] for i in indices])\n",
    "plt.xlabel(\"Relative Importance\")\n",
    "plt.show(ax)"
   ]
  },
  {
   "cell_type": "code",
   "execution_count": 19,
   "id": "9c44daee",
   "metadata": {
    "execution": {
     "iopub.execute_input": "2024-02-05T01:40:44.272901Z",
     "iopub.status.busy": "2024-02-05T01:40:44.272233Z",
     "iopub.status.idle": "2024-02-05T01:40:44.770052Z",
     "shell.execute_reply": "2024-02-05T01:40:44.768005Z"
    },
    "papermill": {
     "duration": 0.517683,
     "end_time": "2024-02-05T01:40:44.774073",
     "exception": false,
     "start_time": "2024-02-05T01:40:44.256390",
     "status": "completed"
    },
    "tags": []
   },
   "outputs": [
    {
     "data": {
      "text/plain": [
       "<Axes: >"
      ]
     },
     "execution_count": 19,
     "metadata": {},
     "output_type": "execute_result"
    },
    {
     "data": {
      "image/png": "[encoded data removed]",
      "text/plain": [
       "<Figure size 800x600 with 1 Axes>"
      ]
     },
     "metadata": {},
     "output_type": "display_data"
    },
    {
     "data": {
      "application/javascript": [
       "\n",
       "            setTimeout(function() {\n",
       "                var nbb_cell_id = 19;\n",
       "                var nbb_unformatted_code = \"feat_importances = pd.DataFrame(\\n    model.feature_importances_, index=x.columns, columns=[\\\"Importance\\\"]\\n)\\nfeat_importances.sort_values(by=\\\"Importance\\\", ascending=False, inplace=True)\\nfeat_importances.plot(kind=\\\"barh\\\", figsize=(8, 6))\";\n",
       "                var nbb_formatted_code = \"feat_importances = pd.DataFrame(\\n    model.feature_importances_, index=x.columns, columns=[\\\"Importance\\\"]\\n)\\nfeat_importances.sort_values(by=\\\"Importance\\\", ascending=False, inplace=True)\\nfeat_importances.plot(kind=\\\"barh\\\", figsize=(8, 6))\";\n",
       "                var nbb_cells = Jupyter.notebook.get_cells();\n",
       "                for (var i = 0; i < nbb_cells.length; ++i) {\n",
       "                    if (nbb_cells[i].input_prompt_number == nbb_cell_id) {\n",
       "                        if (nbb_cells[i].get_text() == nbb_unformatted_code) {\n",
       "                             nbb_cells[i].set_text(nbb_formatted_code);\n",
       "                        }\n",
       "                        break;\n",
       "                    }\n",
       "                }\n",
       "            }, 500);\n",
       "            "
      ],
      "text/plain": [
       "<IPython.core.display.Javascript object>"
      ]
     },
     "metadata": {},
     "output_type": "display_data"
    }
   ],
   "source": [
    "feat_importances = pd.DataFrame(\n",
    "    model.feature_importances_, index=x.columns, columns=[\"Importance\"]\n",
    ")\n",
    "feat_importances.sort_values(by=\"Importance\", ascending=False, inplace=True)\n",
    "feat_importances.plot(kind=\"barh\", figsize=(8, 6))"
   ]
  },
  {
   "cell_type": "code",
   "execution_count": 20,
   "id": "0e8a3cee",
   "metadata": {
    "execution": {
     "iopub.execute_input": "2024-02-05T01:40:44.808590Z",
     "iopub.status.busy": "2024-02-05T01:40:44.807682Z",
     "iopub.status.idle": "2024-02-05T01:40:44.825610Z",
     "shell.execute_reply": "2024-02-05T01:40:44.823192Z"
    },
    "papermill": {
     "duration": 0.038683,
     "end_time": "2024-02-05T01:40:44.829172",
     "exception": false,
     "start_time": "2024-02-05T01:40:44.790489",
     "status": "completed"
    },
    "tags": []
   },
   "outputs": [
    {
     "data": {
      "text/plain": [
       "{'criterion': 'squared_error',\n",
       " 'n_estimators': 5,\n",
       " 'max_depth': 3,\n",
       " 'random_state': 47}"
      ]
     },
     "execution_count": 20,
     "metadata": {},
     "output_type": "execute_result"
    },
    {
     "data": {
      "application/javascript": [
       "\n",
       "            setTimeout(function() {\n",
       "                var nbb_cell_id = 20;\n",
       "                var nbb_unformatted_code = \"PARAMS\";\n",
       "                var nbb_formatted_code = \"PARAMS\";\n",
       "                var nbb_cells = Jupyter.notebook.get_cells();\n",
       "                for (var i = 0; i < nbb_cells.length; ++i) {\n",
       "                    if (nbb_cells[i].input_prompt_number == nbb_cell_id) {\n",
       "                        if (nbb_cells[i].get_text() == nbb_unformatted_code) {\n",
       "                             nbb_cells[i].set_text(nbb_formatted_code);\n",
       "                        }\n",
       "                        break;\n",
       "                    }\n",
       "                }\n",
       "            }, 500);\n",
       "            "
      ],
      "text/plain": [
       "<IPython.core.display.Javascript object>"
      ]
     },
     "metadata": {},
     "output_type": "display_data"
    }
   ],
   "source": [
    "PARAMS"
   ]
  },
  {
   "cell_type": "code",
   "execution_count": null,
   "id": "e95280fc",
   "metadata": {
    "papermill": {
     "duration": 0.015033,
     "end_time": "2024-02-05T01:40:44.858730",
     "exception": false,
     "start_time": "2024-02-05T01:40:44.843697",
     "status": "completed"
    },
    "tags": []
   },
   "outputs": [],
   "source": []
  }
 ],
 "metadata": {
  "kernelspec": {
   "display_name": "ccs28-venv",
   "language": "python",
   "name": "ccs28-venv"
  },
  "language_info": {
   "codemirror_mode": {
    "name": "ipython",
    "version": 3
   },
   "file_extension": ".py",
   "mimetype": "text/x-python",
   "name": "python",
   "nbconvert_exporter": "python",
   "pygments_lexer": "ipython3",
   "version": "3.10.12"
  },
  "papermill": {
   "default_parameters": {},
   "duration": 12.055114,
   "end_time": "2024-02-05T01:40:47.518268",
   "environment_variables": {},
   "exception": null,
   "input_path": "/home/peressim/projects/ccs28-ml-modelling/notebooks/modelling/204/random_forest/o/chemical-cs3-and-cs7-ds.ipynb",
   "output_path": "/home/peressim/projects/ccs28-ml-modelling/notebooks/modelling/204/random_forest/o/chemical-cs3-and-cs7-ds.ipynb",
   "parameters": {},
   "start_time": "2024-02-05T01:40:35.463154",
   "version": "2.5.0"
  }
 },
 "nbformat": 4,
 "nbformat_minor": 5
}