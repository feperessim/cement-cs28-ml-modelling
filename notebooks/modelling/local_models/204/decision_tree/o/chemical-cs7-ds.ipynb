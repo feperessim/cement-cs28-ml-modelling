{
 "cells": [
  {
   "cell_type": "code",
   "execution_count": 1,
   "id": "c2df590d",
   "metadata": {
    "execution": {
     "iopub.execute_input": "2024-02-05T01:39:02.601974Z",
     "iopub.status.busy": "2024-02-05T01:39:02.601393Z",
     "iopub.status.idle": "2024-02-05T01:39:02.777289Z",
     "shell.execute_reply": "2024-02-05T01:39:02.771951Z"
    },
    "papermill": {
     "duration": 0.19185,
     "end_time": "2024-02-05T01:39:02.781621",
     "exception": false,
     "start_time": "2024-02-05T01:39:02.589771",
     "status": "completed"
    },
    "tags": []
   },
   "outputs": [
    {
     "data": {
      "application/javascript": [
       "\n",
       "            setTimeout(function() {\n",
       "                var nbb_cell_id = 1;\n",
       "                var nbb_unformatted_code = \"%load_ext nb_black\";\n",
       "                var nbb_formatted_code = \"%load_ext nb_black\";\n",
       "                var nbb_cells = Jupyter.notebook.get_cells();\n",
       "                for (var i = 0; i < nbb_cells.length; ++i) {\n",
       "                    if (nbb_cells[i].input_prompt_number == nbb_cell_id) {\n",
       "                        if (nbb_cells[i].get_text() == nbb_unformatted_code) {\n",
       "                             nbb_cells[i].set_text(nbb_formatted_code);\n",
       "                        }\n",
       "                        break;\n",
       "                    }\n",
       "                }\n",
       "            }, 500);\n",
       "            "
      ],
      "text/plain": [
       "<IPython.core.display.Javascript object>"
      ]
     },
     "metadata": {},
     "output_type": "display_data"
    }
   ],
   "source": [
    "%load_ext nb_black"
   ]
  },
  {
   "cell_type": "code",
   "execution_count": 2,
   "id": "1ca0071b",
   "metadata": {
    "execution": {
     "iopub.execute_input": "2024-02-05T01:39:02.808333Z",
     "iopub.status.busy": "2024-02-05T01:39:02.807576Z",
     "iopub.status.idle": "2024-02-05T01:39:05.822666Z",
     "shell.execute_reply": "2024-02-05T01:39:05.818636Z"
    },
    "papermill": {
     "duration": 3.03473,
     "end_time": "2024-02-05T01:39:05.825977",
     "exception": false,
     "start_time": "2024-02-05T01:39:02.791247",
     "status": "completed"
    },
    "tags": []
   },
   "outputs": [
    {
     "data": {
      "application/javascript": [
       "\n",
       "            setTimeout(function() {\n",
       "                var nbb_cell_id = 2;\n",
       "                var nbb_unformatted_code = \"# Database Reading and Manipulation\\nimport pandas as pd\\n\\n# Linear Algebra\\nimport numpy as np\\n\\n# Plotting\\nimport matplotlib.pyplot as plt\\n\\n# Model Selection\\nfrom sklearn.model_selection import train_test_split\\nfrom sklearn.model_selection import TimeSeriesSplit\\nfrom sklearn.model_selection import RepeatedKFold\\nfrom sklearn.model_selection import cross_val_score\\nfrom sklearn.model_selection import cross_validate\\nfrom sklearn.model_selection import GridSearchCV\\n\\n\\n# Modeling\\nfrom sklearn.tree import DecisionTreeRegressor\\n\\n# Metrics\\nfrom sklearn.metrics import mean_squared_error\\nfrom sklearn.metrics import mean_absolute_error\\nfrom sklearn.metrics import mean_absolute_percentage_error\\nfrom sklearn.metrics import r2_score\\n\\n# Pipeline\\nfrom sklearn.pipeline import Pipeline\\n\\n# Data imputation\\nfrom sklearn.impute import SimpleImputer\\n\\n# Custom modules\\n## Model selection\\nfrom src.cross_validation.blocking_time_series_split import BlockingTimeSeriesSplit\\n\\n## Function to print scores\\nfrom src.utils.print_scores import print_scores\\n\\n## Function to calculate score regression metrics\\nfrom src.utils.score_regression_metrics import score_regression_metrics\\n\\n## Function to fill the results metric dict\\nfrom src.utils.fill_results_dict import fill_results_dict\";\n",
       "                var nbb_formatted_code = \"# Database Reading and Manipulation\\nimport pandas as pd\\n\\n# Linear Algebra\\nimport numpy as np\\n\\n# Plotting\\nimport matplotlib.pyplot as plt\\n\\n# Model Selection\\nfrom sklearn.model_selection import train_test_split\\nfrom sklearn.model_selection import TimeSeriesSplit\\nfrom sklearn.model_selection import RepeatedKFold\\nfrom sklearn.model_selection import cross_val_score\\nfrom sklearn.model_selection import cross_validate\\nfrom sklearn.model_selection import GridSearchCV\\n\\n\\n# Modeling\\nfrom sklearn.tree import DecisionTreeRegressor\\n\\n# Metrics\\nfrom sklearn.metrics import mean_squared_error\\nfrom sklearn.metrics import mean_absolute_error\\nfrom sklearn.metrics import mean_absolute_percentage_error\\nfrom sklearn.metrics import r2_score\\n\\n# Pipeline\\nfrom sklearn.pipeline import Pipeline\\n\\n# Data imputation\\nfrom sklearn.impute import SimpleImputer\\n\\n# Custom modules\\n## Model selection\\nfrom src.cross_validation.blocking_time_series_split import BlockingTimeSeriesSplit\\n\\n## Function to print scores\\nfrom src.utils.print_scores import print_scores\\n\\n## Function to calculate score regression metrics\\nfrom src.utils.score_regression_metrics import score_regression_metrics\\n\\n## Function to fill the results metric dict\\nfrom src.utils.fill_results_dict import fill_results_dict\";\n",
       "                var nbb_cells = Jupyter.notebook.get_cells();\n",
       "                for (var i = 0; i < nbb_cells.length; ++i) {\n",
       "                    if (nbb_cells[i].input_prompt_number == nbb_cell_id) {\n",
       "                        if (nbb_cells[i].get_text() == nbb_unformatted_code) {\n",
       "                             nbb_cells[i].set_text(nbb_formatted_code);\n",
       "                        }\n",
       "                        break;\n",
       "                    }\n",
       "                }\n",
       "            }, 500);\n",
       "            "
      ],
      "text/plain": [
       "<IPython.core.display.Javascript object>"
      ]
     },
     "metadata": {},
     "output_type": "display_data"
    }
   ],
   "source": [
    "# Database Reading and Manipulation\n",
    "import pandas as pd\n",
    "\n",
    "# Linear Algebra\n",
    "import numpy as np\n",
    "\n",
    "# Plotting\n",
    "import matplotlib.pyplot as plt\n",
    "\n",
    "# Model Selection\n",
    "from sklearn.model_selection import train_test_split\n",
    "from sklearn.model_selection import TimeSeriesSplit\n",
    "from sklearn.model_selection import RepeatedKFold\n",
    "from sklearn.model_selection import cross_val_score\n",
    "from sklearn.model_selection import cross_validate\n",
    "from sklearn.model_selection import GridSearchCV\n",
    "\n",
    "\n",
    "# Modeling\n",
    "from sklearn.tree import DecisionTreeRegressor\n",
    "\n",
    "# Metrics\n",
    "from sklearn.metrics import mean_squared_error\n",
    "from sklearn.metrics import mean_absolute_error\n",
    "from sklearn.metrics import mean_absolute_percentage_error\n",
    "from sklearn.metrics import r2_score\n",
    "\n",
    "# Pipeline\n",
    "from sklearn.pipeline import Pipeline\n",
    "\n",
    "# Data imputation\n",
    "from sklearn.impute import SimpleImputer\n",
    "\n",
    "# Custom modules\n",
    "## Model selection\n",
    "from src.cross_validation.blocking_time_series_split import BlockingTimeSeriesSplit\n",
    "\n",
    "## Function to print scores\n",
    "from src.utils.print_scores import print_scores\n",
    "\n",
    "## Function to calculate score regression metrics\n",
    "from src.utils.score_regression_metrics import score_regression_metrics\n",
    "\n",
    "## Function to fill the results metric dict\n",
    "from src.utils.fill_results_dict import fill_results_dict"
   ]
  },
  {
   "cell_type": "markdown",
   "id": "7a5b5148",
   "metadata": {
    "papermill": {
     "duration": 0.008204,
     "end_time": "2024-02-05T01:39:05.843369",
     "exception": false,
     "start_time": "2024-02-05T01:39:05.835165",
     "status": "completed"
    },
    "tags": []
   },
   "source": [
    "# Functions and definitions"
   ]
  },
  {
   "cell_type": "code",
   "execution_count": 3,
   "id": "b09b7190",
   "metadata": {
    "execution": {
     "iopub.execute_input": "2024-02-05T01:39:05.877269Z",
     "iopub.status.busy": "2024-02-05T01:39:05.875977Z",
     "iopub.status.idle": "2024-02-05T01:39:05.888328Z",
     "shell.execute_reply": "2024-02-05T01:39:05.886728Z"
    },
    "papermill": {
     "duration": 0.047578,
     "end_time": "2024-02-05T01:39:05.899039",
     "exception": false,
     "start_time": "2024-02-05T01:39:05.851461",
     "status": "completed"
    },
    "tags": []
   },
   "outputs": [
    {
     "data": {
      "application/javascript": [
       "\n",
       "            setTimeout(function() {\n",
       "                var nbb_cell_id = 3;\n",
       "                var nbb_unformatted_code = \"index_to_save = 5\";\n",
       "                var nbb_formatted_code = \"index_to_save = 5\";\n",
       "                var nbb_cells = Jupyter.notebook.get_cells();\n",
       "                for (var i = 0; i < nbb_cells.length; ++i) {\n",
       "                    if (nbb_cells[i].input_prompt_number == nbb_cell_id) {\n",
       "                        if (nbb_cells[i].get_text() == nbb_unformatted_code) {\n",
       "                             nbb_cells[i].set_text(nbb_formatted_code);\n",
       "                        }\n",
       "                        break;\n",
       "                    }\n",
       "                }\n",
       "            }, 500);\n",
       "            "
      ],
      "text/plain": [
       "<IPython.core.display.Javascript object>"
      ]
     },
     "metadata": {},
     "output_type": "display_data"
    }
   ],
   "source": [
    "index_to_save = 5"
   ]
  },
  {
   "cell_type": "code",
   "execution_count": 4,
   "id": "7950c2df",
   "metadata": {
    "execution": {
     "iopub.execute_input": "2024-02-05T01:39:05.958120Z",
     "iopub.status.busy": "2024-02-05T01:39:05.957444Z",
     "iopub.status.idle": "2024-02-05T01:39:05.976471Z",
     "shell.execute_reply": "2024-02-05T01:39:05.973688Z"
    },
    "papermill": {
     "duration": 0.036087,
     "end_time": "2024-02-05T01:39:05.980688",
     "exception": false,
     "start_time": "2024-02-05T01:39:05.944601",
     "status": "completed"
    },
    "tags": []
   },
   "outputs": [
    {
     "data": {
      "application/javascript": [
       "\n",
       "            setTimeout(function() {\n",
       "                var nbb_cell_id = 4;\n",
       "                var nbb_unformatted_code = \"SEED = 47\\nMETRICS = (\\n    \\\"neg_root_mean_squared_error\\\",\\n    \\\"neg_mean_absolute_error\\\",\\n    \\\"neg_mean_absolute_percentage_error\\\",\\n    \\\"r2\\\",\\n)\\nMETRICS_DICT = {\\n    \\\"neg_root_mean_squared_error\\\": \\\"RMSE\\\",\\n    \\\"neg_mean_absolute_error\\\": \\\"MAE\\\",\\n    \\\"neg_mean_absolute_percentage_error\\\": \\\"MAPE\\\",\\n    \\\"r2\\\": \\\"R2\\\",\\n}\";\n",
       "                var nbb_formatted_code = \"SEED = 47\\nMETRICS = (\\n    \\\"neg_root_mean_squared_error\\\",\\n    \\\"neg_mean_absolute_error\\\",\\n    \\\"neg_mean_absolute_percentage_error\\\",\\n    \\\"r2\\\",\\n)\\nMETRICS_DICT = {\\n    \\\"neg_root_mean_squared_error\\\": \\\"RMSE\\\",\\n    \\\"neg_mean_absolute_error\\\": \\\"MAE\\\",\\n    \\\"neg_mean_absolute_percentage_error\\\": \\\"MAPE\\\",\\n    \\\"r2\\\": \\\"R2\\\",\\n}\";\n",
       "                var nbb_cells = Jupyter.notebook.get_cells();\n",
       "                for (var i = 0; i < nbb_cells.length; ++i) {\n",
       "                    if (nbb_cells[i].input_prompt_number == nbb_cell_id) {\n",
       "                        if (nbb_cells[i].get_text() == nbb_unformatted_code) {\n",
       "                             nbb_cells[i].set_text(nbb_formatted_code);\n",
       "                        }\n",
       "                        break;\n",
       "                    }\n",
       "                }\n",
       "            }, 500);\n",
       "            "
      ],
      "text/plain": [
       "<IPython.core.display.Javascript object>"
      ]
     },
     "metadata": {},
     "output_type": "display_data"
    }
   ],
   "source": [
    "SEED = 47\n",
    "METRICS = (\n",
    "    \"neg_root_mean_squared_error\",\n",
    "    \"neg_mean_absolute_error\",\n",
    "    \"neg_mean_absolute_percentage_error\",\n",
    "    \"r2\",\n",
    ")\n",
    "METRICS_DICT = {\n",
    "    \"neg_root_mean_squared_error\": \"RMSE\",\n",
    "    \"neg_mean_absolute_error\": \"MAE\",\n",
    "    \"neg_mean_absolute_percentage_error\": \"MAPE\",\n",
    "    \"r2\": \"R2\",\n",
    "}"
   ]
  },
  {
   "cell_type": "markdown",
   "id": "6c1d05a7",
   "metadata": {
    "papermill": {
     "duration": 0.009246,
     "end_time": "2024-02-05T01:39:05.999555",
     "exception": false,
     "start_time": "2024-02-05T01:39:05.990309",
     "status": "completed"
    },
    "tags": []
   },
   "source": [
    "## Defining a dataframe structure to save the results"
   ]
  },
  {
   "cell_type": "code",
   "execution_count": 5,
   "id": "b16eb99f",
   "metadata": {
    "execution": {
     "iopub.execute_input": "2024-02-05T01:39:06.023665Z",
     "iopub.status.busy": "2024-02-05T01:39:06.023046Z",
     "iopub.status.idle": "2024-02-05T01:39:06.045309Z",
     "shell.execute_reply": "2024-02-05T01:39:06.043269Z"
    },
    "papermill": {
     "duration": 0.039938,
     "end_time": "2024-02-05T01:39:06.049014",
     "exception": false,
     "start_time": "2024-02-05T01:39:06.009076",
     "status": "completed"
    },
    "tags": []
   },
   "outputs": [
    {
     "data": {
      "application/javascript": [
       "\n",
       "            setTimeout(function() {\n",
       "                var nbb_cell_id = 5;\n",
       "                var nbb_unformatted_code = \"results_to_save = []\\n\\nresults_dict = {\\n    \\\"Category\\\": \\\"Local Model\\\",\\n    \\\"Company\\\": \\\"204\\\",\\n    \\\"Plant\\\": \\\"O\\\",\\n    \\\"Features\\\": \\\"Chemical + CS7\\\",\\n    \\\"Data Shape\\\": None,\\n    \\\"Timesteps\\\": None,\\n    \\\"Model\\\": \\\"Decision Tree\\\",\\n    \\\"Model Params\\\": None,\\n    \\\"Scaler\\\": None,\\n    \\\"Scaler Params\\\": None,\\n    \\\"Imputer\\\": None,\\n    \\\"Imputer Params\\\": None,\\n    \\\"Cross Validation\\\": None,\\n    \\\"Cross Validation Params\\\": np.nan,\\n    \\\"RMSE Train\\\": np.nan,\\n    \\\"MAE Train\\\": np.nan,\\n    \\\"MAPE Train\\\": np.nan,\\n    \\\"R2 Train\\\": np.nan,\\n    \\\"RMSE Test\\\": np.nan,\\n    \\\"MAE Test\\\": np.nan,\\n    \\\"MAPE Test\\\": np.nan,\\n    \\\"R2 Test\\\": np.nan,\\n}\";\n",
       "                var nbb_formatted_code = \"results_to_save = []\\n\\nresults_dict = {\\n    \\\"Category\\\": \\\"Local Model\\\",\\n    \\\"Company\\\": \\\"204\\\",\\n    \\\"Plant\\\": \\\"O\\\",\\n    \\\"Features\\\": \\\"Chemical + CS7\\\",\\n    \\\"Data Shape\\\": None,\\n    \\\"Timesteps\\\": None,\\n    \\\"Model\\\": \\\"Decision Tree\\\",\\n    \\\"Model Params\\\": None,\\n    \\\"Scaler\\\": None,\\n    \\\"Scaler Params\\\": None,\\n    \\\"Imputer\\\": None,\\n    \\\"Imputer Params\\\": None,\\n    \\\"Cross Validation\\\": None,\\n    \\\"Cross Validation Params\\\": np.nan,\\n    \\\"RMSE Train\\\": np.nan,\\n    \\\"MAE Train\\\": np.nan,\\n    \\\"MAPE Train\\\": np.nan,\\n    \\\"R2 Train\\\": np.nan,\\n    \\\"RMSE Test\\\": np.nan,\\n    \\\"MAE Test\\\": np.nan,\\n    \\\"MAPE Test\\\": np.nan,\\n    \\\"R2 Test\\\": np.nan,\\n}\";\n",
       "                var nbb_cells = Jupyter.notebook.get_cells();\n",
       "                for (var i = 0; i < nbb_cells.length; ++i) {\n",
       "                    if (nbb_cells[i].input_prompt_number == nbb_cell_id) {\n",
       "                        if (nbb_cells[i].get_text() == nbb_unformatted_code) {\n",
       "                             nbb_cells[i].set_text(nbb_formatted_code);\n",
       "                        }\n",
       "                        break;\n",
       "                    }\n",
       "                }\n",
       "            }, 500);\n",
       "            "
      ],
      "text/plain": [
       "<IPython.core.display.Javascript object>"
      ]
     },
     "metadata": {},
     "output_type": "display_data"
    }
   ],
   "source": [
    "results_to_save = []\n",
    "\n",
    "results_dict = {\n",
    "    \"Category\": \"Local Model\",\n",
    "    \"Company\": \"204\",\n",
    "    \"Plant\": \"O\",\n",
    "    \"Features\": \"Chemical + CS7\",\n",
    "    \"Data Shape\": None,\n",
    "    \"Timesteps\": None,\n",
    "    \"Model\": \"Decision Tree\",\n",
    "    \"Model Params\": None,\n",
    "    \"Scaler\": None,\n",
    "    \"Scaler Params\": None,\n",
    "    \"Imputer\": None,\n",
    "    \"Imputer Params\": None,\n",
    "    \"Cross Validation\": None,\n",
    "    \"Cross Validation Params\": np.nan,\n",
    "    \"RMSE Train\": np.nan,\n",
    "    \"MAE Train\": np.nan,\n",
    "    \"MAPE Train\": np.nan,\n",
    "    \"R2 Train\": np.nan,\n",
    "    \"RMSE Test\": np.nan,\n",
    "    \"MAE Test\": np.nan,\n",
    "    \"MAPE Test\": np.nan,\n",
    "    \"R2 Test\": np.nan,\n",
    "}"
   ]
  },
  {
   "cell_type": "markdown",
   "id": "b88754d5",
   "metadata": {
    "papermill": {
     "duration": 0.009169,
     "end_time": "2024-02-05T01:39:06.068710",
     "exception": false,
     "start_time": "2024-02-05T01:39:06.059541",
     "status": "completed"
    },
    "tags": []
   },
   "source": [
    "# Reading the dataset"
   ]
  },
  {
   "cell_type": "code",
   "execution_count": 6,
   "id": "b469f6e0",
   "metadata": {
    "execution": {
     "iopub.execute_input": "2024-02-05T01:39:06.089832Z",
     "iopub.status.busy": "2024-02-05T01:39:06.089246Z",
     "iopub.status.idle": "2024-02-05T01:39:06.115130Z",
     "shell.execute_reply": "2024-02-05T01:39:06.112999Z"
    },
    "papermill": {
     "duration": 0.041192,
     "end_time": "2024-02-05T01:39:06.118779",
     "exception": false,
     "start_time": "2024-02-05T01:39:06.077587",
     "status": "completed"
    },
    "tags": []
   },
   "outputs": [
    {
     "data": {
      "application/javascript": [
       "\n",
       "            setTimeout(function() {\n",
       "                var nbb_cell_id = 6;\n",
       "                var nbb_unformatted_code = \"df = pd.read_csv(\\\"../../../../../data/processed/204/o.csv\\\")\";\n",
       "                var nbb_formatted_code = \"df = pd.read_csv(\\\"../../../../../data/processed/204/o.csv\\\")\";\n",
       "                var nbb_cells = Jupyter.notebook.get_cells();\n",
       "                for (var i = 0; i < nbb_cells.length; ++i) {\n",
       "                    if (nbb_cells[i].input_prompt_number == nbb_cell_id) {\n",
       "                        if (nbb_cells[i].get_text() == nbb_unformatted_code) {\n",
       "                             nbb_cells[i].set_text(nbb_formatted_code);\n",
       "                        }\n",
       "                        break;\n",
       "                    }\n",
       "                }\n",
       "            }, 500);\n",
       "            "
      ],
      "text/plain": [
       "<IPython.core.display.Javascript object>"
      ]
     },
     "metadata": {},
     "output_type": "display_data"
    }
   ],
   "source": [
    "df = pd.read_csv(\"../../../../../data/processed/204/o.csv\")"
   ]
  },
  {
   "cell_type": "markdown",
   "id": "5ee7bf75",
   "metadata": {
    "papermill": {
     "duration": 0.009253,
     "end_time": "2024-02-05T01:39:06.137645",
     "exception": false,
     "start_time": "2024-02-05T01:39:06.128392",
     "status": "completed"
    },
    "tags": []
   },
   "source": [
    "## Defining Features\n",
    "\n",
    "In this set of experiments we keep only chemical and mineralogical features yielded by the same testing method/procedure"
   ]
  },
  {
   "cell_type": "code",
   "execution_count": 7,
   "id": "43b98bf6",
   "metadata": {
    "execution": {
     "iopub.execute_input": "2024-02-05T01:39:06.159204Z",
     "iopub.status.busy": "2024-02-05T01:39:06.158622Z",
     "iopub.status.idle": "2024-02-05T01:39:06.176075Z",
     "shell.execute_reply": "2024-02-05T01:39:06.174025Z"
    },
    "papermill": {
     "duration": 0.032906,
     "end_time": "2024-02-05T01:39:06.179801",
     "exception": false,
     "start_time": "2024-02-05T01:39:06.146895",
     "status": "completed"
    },
    "tags": []
   },
   "outputs": [
    {
     "data": {
      "application/javascript": [
       "\n",
       "            setTimeout(function() {\n",
       "                var nbb_cell_id = 7;\n",
       "                var nbb_unformatted_code = \"df_copy = df.copy().drop(\\n    [\\n        \\\"Cement_Type\\\",\\n        \\\"Blaine\\\",\\n        \\\"#200\\\",\\n        \\\"#325\\\",\\n        \\\"Final setting time\\\",\\n        \\\"Initial setting time\\\",\\n        \\\"CS3\\\",\\n    ],\\n    axis=1,\\n)\";\n",
       "                var nbb_formatted_code = \"df_copy = df.copy().drop(\\n    [\\n        \\\"Cement_Type\\\",\\n        \\\"Blaine\\\",\\n        \\\"#200\\\",\\n        \\\"#325\\\",\\n        \\\"Final setting time\\\",\\n        \\\"Initial setting time\\\",\\n        \\\"CS3\\\",\\n    ],\\n    axis=1,\\n)\";\n",
       "                var nbb_cells = Jupyter.notebook.get_cells();\n",
       "                for (var i = 0; i < nbb_cells.length; ++i) {\n",
       "                    if (nbb_cells[i].input_prompt_number == nbb_cell_id) {\n",
       "                        if (nbb_cells[i].get_text() == nbb_unformatted_code) {\n",
       "                             nbb_cells[i].set_text(nbb_formatted_code);\n",
       "                        }\n",
       "                        break;\n",
       "                    }\n",
       "                }\n",
       "            }, 500);\n",
       "            "
      ],
      "text/plain": [
       "<IPython.core.display.Javascript object>"
      ]
     },
     "metadata": {},
     "output_type": "display_data"
    }
   ],
   "source": [
    "df_copy = df.copy().drop(\n",
    "    [\n",
    "        \"Cement_Type\",\n",
    "        \"Blaine\",\n",
    "        \"#200\",\n",
    "        \"#325\",\n",
    "        \"Final setting time\",\n",
    "        \"Initial setting time\",\n",
    "        \"CS3\",\n",
    "    ],\n",
    "    axis=1,\n",
    ")"
   ]
  },
  {
   "cell_type": "markdown",
   "id": "00722477",
   "metadata": {
    "papermill": {
     "duration": 0.009331,
     "end_time": "2024-02-05T01:39:06.200951",
     "exception": false,
     "start_time": "2024-02-05T01:39:06.191620",
     "status": "completed"
    },
    "tags": []
   },
   "source": [
    "<h2>1. Dataset: df_copy</h2> <br>In this dataset all features are used."
   ]
  },
  {
   "cell_type": "code",
   "execution_count": 8,
   "id": "90511a66",
   "metadata": {
    "execution": {
     "iopub.execute_input": "2024-02-05T01:39:06.221845Z",
     "iopub.status.busy": "2024-02-05T01:39:06.221279Z",
     "iopub.status.idle": "2024-02-05T01:39:06.240850Z",
     "shell.execute_reply": "2024-02-05T01:39:06.238604Z"
    },
    "papermill": {
     "duration": 0.035619,
     "end_time": "2024-02-05T01:39:06.245507",
     "exception": false,
     "start_time": "2024-02-05T01:39:06.209888",
     "status": "completed"
    },
    "tags": []
   },
   "outputs": [
    {
     "data": {
      "application/javascript": [
       "\n",
       "            setTimeout(function() {\n",
       "                var nbb_cell_id = 8;\n",
       "                var nbb_unformatted_code = \"y = df_copy.pop(\\\"CS28\\\").values\\nx = df_copy.drop([\\\"Date\\\"], axis=1)\\ndates = df[\\\"Date\\\"].copy()\";\n",
       "                var nbb_formatted_code = \"y = df_copy.pop(\\\"CS28\\\").values\\nx = df_copy.drop([\\\"Date\\\"], axis=1)\\ndates = df[\\\"Date\\\"].copy()\";\n",
       "                var nbb_cells = Jupyter.notebook.get_cells();\n",
       "                for (var i = 0; i < nbb_cells.length; ++i) {\n",
       "                    if (nbb_cells[i].input_prompt_number == nbb_cell_id) {\n",
       "                        if (nbb_cells[i].get_text() == nbb_unformatted_code) {\n",
       "                             nbb_cells[i].set_text(nbb_formatted_code);\n",
       "                        }\n",
       "                        break;\n",
       "                    }\n",
       "                }\n",
       "            }, 500);\n",
       "            "
      ],
      "text/plain": [
       "<IPython.core.display.Javascript object>"
      ]
     },
     "metadata": {},
     "output_type": "display_data"
    }
   ],
   "source": [
    "y = df_copy.pop(\"CS28\").values\n",
    "x = df_copy.drop([\"Date\"], axis=1)\n",
    "dates = df[\"Date\"].copy()"
   ]
  },
  {
   "cell_type": "markdown",
   "id": "80ca428a",
   "metadata": {
    "papermill": {
     "duration": 0.010439,
     "end_time": "2024-02-05T01:39:06.266546",
     "exception": false,
     "start_time": "2024-02-05T01:39:06.256107",
     "status": "completed"
    },
    "tags": []
   },
   "source": [
    "# 1. Decision Tree Regressor"
   ]
  },
  {
   "cell_type": "code",
   "execution_count": 9,
   "id": "dc5323d8",
   "metadata": {
    "execution": {
     "iopub.execute_input": "2024-02-05T01:39:06.298280Z",
     "iopub.status.busy": "2024-02-05T01:39:06.297743Z",
     "iopub.status.idle": "2024-02-05T01:39:06.315078Z",
     "shell.execute_reply": "2024-02-05T01:39:06.312506Z"
    },
    "papermill": {
     "duration": 0.039241,
     "end_time": "2024-02-05T01:39:06.319910",
     "exception": false,
     "start_time": "2024-02-05T01:39:06.280669",
     "status": "completed"
    },
    "tags": []
   },
   "outputs": [
    {
     "data": {
      "application/javascript": [
       "\n",
       "            setTimeout(function() {\n",
       "                var nbb_cell_id = 9;\n",
       "                var nbb_unformatted_code = \"PARAMS = {\\n    \\\"criterion\\\": \\\"squared_error\\\",\\n    \\\"max_depth\\\": 3,\\n    \\\"random_state\\\": SEED,\\n    \\\"splitter\\\": \\\"best\\\",\\n}\";\n",
       "                var nbb_formatted_code = \"PARAMS = {\\n    \\\"criterion\\\": \\\"squared_error\\\",\\n    \\\"max_depth\\\": 3,\\n    \\\"random_state\\\": SEED,\\n    \\\"splitter\\\": \\\"best\\\",\\n}\";\n",
       "                var nbb_cells = Jupyter.notebook.get_cells();\n",
       "                for (var i = 0; i < nbb_cells.length; ++i) {\n",
       "                    if (nbb_cells[i].input_prompt_number == nbb_cell_id) {\n",
       "                        if (nbb_cells[i].get_text() == nbb_unformatted_code) {\n",
       "                             nbb_cells[i].set_text(nbb_formatted_code);\n",
       "                        }\n",
       "                        break;\n",
       "                    }\n",
       "                }\n",
       "            }, 500);\n",
       "            "
      ],
      "text/plain": [
       "<IPython.core.display.Javascript object>"
      ]
     },
     "metadata": {},
     "output_type": "display_data"
    }
   ],
   "source": [
    "PARAMS = {\n",
    "    \"criterion\": \"squared_error\",\n",
    "    \"max_depth\": 3,\n",
    "    \"random_state\": SEED,\n",
    "    \"splitter\": \"best\",\n",
    "}"
   ]
  },
  {
   "cell_type": "markdown",
   "id": "b1e6f748",
   "metadata": {
    "papermill": {
     "duration": 0.023849,
     "end_time": "2024-02-05T01:39:06.360522",
     "exception": false,
     "start_time": "2024-02-05T01:39:06.336673",
     "status": "completed"
    },
    "tags": []
   },
   "source": [
    "## 1.1 Repeated KFold Cross validation\n",
    "\n",
    "<b>Dataset shape:</b> (1234, 38)<br>\n",
    "<b>Repeats:</b>10<br>\n",
    "<b>Splits:</b>10<br>\n",
    "    1. 10 folds of 123 samples each\n",
    "    2. 90% train (1111 samples each fold)\n",
    "    3. 10% test (123 samples each fold)\n",
    "<b>Total:</b> 100 models<br>"
   ]
  },
  {
   "cell_type": "code",
   "execution_count": 10,
   "id": "38242141",
   "metadata": {
    "execution": {
     "iopub.execute_input": "2024-02-05T01:39:06.396178Z",
     "iopub.status.busy": "2024-02-05T01:39:06.395488Z",
     "iopub.status.idle": "2024-02-05T01:39:09.004645Z",
     "shell.execute_reply": "2024-02-05T01:39:08.996925Z"
    },
    "papermill": {
     "duration": 2.631193,
     "end_time": "2024-02-05T01:39:09.009358",
     "exception": false,
     "start_time": "2024-02-05T01:39:06.378165",
     "status": "completed"
    },
    "tags": []
   },
   "outputs": [
    {
     "name": "stdout",
     "output_type": "stream",
     "text": [
      "Repeated Cross Validation:\n",
      "Repeats: 3\n",
      "n_splits: 5\n",
      "\n",
      "******\n",
      "[TRAIN]\n",
      "******\n",
      "RMSE: -1.529 (0.036)\n",
      "MAE: -1.232 (0.033)\n",
      "MAPE: -0.028 (0.001)\n",
      "R2: 0.940 (0.003)\n",
      "\n",
      "======================\n",
      "\n",
      "******\n",
      "[TEST]\n",
      "******\n",
      "RMSE: -1.571 (0.084)\n",
      "MAE: -1.263 (0.072)\n",
      "MAPE: -0.029 (0.002)\n",
      "R2: 0.936 (0.007)\n",
      "\n",
      "======================\n",
      "\n"
     ]
    },
    {
     "data": {
      "application/javascript": [
       "\n",
       "            setTimeout(function() {\n",
       "                var nbb_cell_id = 10;\n",
       "                var nbb_unformatted_code = \"repeats = 3\\nn_splits = 5\\npipeline = Pipeline(\\n    [\\n        (\\\"estimator\\\", DecisionTreeRegressor(**PARAMS)),\\n    ]\\n)\\ncv = RepeatedKFold(n_splits=n_splits, n_repeats=repeats, random_state=SEED)\\nscores = cross_validate(\\n    pipeline,\\n    x,\\n    y,\\n    scoring=METRICS,\\n    cv=cv,\\n    n_jobs=-1,\\n    return_train_score=True,\\n)\\nprint(\\\"Repeated Cross Validation:\\\")\\nprint(f\\\"Repeats: {repeats}\\\")\\nprint(f\\\"n_splits: {n_splits}\\\")\\nprint()\\nprint_scores(scores, METRICS, METRICS_DICT)\\n\\nresults_dict_copy = results_dict.copy()\\nresults_dict_copy[\\\"Cross Validation\\\"] = \\\"Repeated KFold\\\"\\nresults_dict_copy[\\\"Cross Validation Params\\\"] = '{\\\"N_Splits\\\": 5, \\\"Repeats\\\": 3}'\\nresults_dict_copy[\\\"Data Shape\\\"] = x.shape\\ndf_results = fill_results_dict(results_dict_copy, scores)\\nresults_to_save.append(df_results)\";\n",
       "                var nbb_formatted_code = \"repeats = 3\\nn_splits = 5\\npipeline = Pipeline(\\n    [\\n        (\\\"estimator\\\", DecisionTreeRegressor(**PARAMS)),\\n    ]\\n)\\ncv = RepeatedKFold(n_splits=n_splits, n_repeats=repeats, random_state=SEED)\\nscores = cross_validate(\\n    pipeline,\\n    x,\\n    y,\\n    scoring=METRICS,\\n    cv=cv,\\n    n_jobs=-1,\\n    return_train_score=True,\\n)\\nprint(\\\"Repeated Cross Validation:\\\")\\nprint(f\\\"Repeats: {repeats}\\\")\\nprint(f\\\"n_splits: {n_splits}\\\")\\nprint()\\nprint_scores(scores, METRICS, METRICS_DICT)\\n\\nresults_dict_copy = results_dict.copy()\\nresults_dict_copy[\\\"Cross Validation\\\"] = \\\"Repeated KFold\\\"\\nresults_dict_copy[\\\"Cross Validation Params\\\"] = '{\\\"N_Splits\\\": 5, \\\"Repeats\\\": 3}'\\nresults_dict_copy[\\\"Data Shape\\\"] = x.shape\\ndf_results = fill_results_dict(results_dict_copy, scores)\\nresults_to_save.append(df_results)\";\n",
       "                var nbb_cells = Jupyter.notebook.get_cells();\n",
       "                for (var i = 0; i < nbb_cells.length; ++i) {\n",
       "                    if (nbb_cells[i].input_prompt_number == nbb_cell_id) {\n",
       "                        if (nbb_cells[i].get_text() == nbb_unformatted_code) {\n",
       "                             nbb_cells[i].set_text(nbb_formatted_code);\n",
       "                        }\n",
       "                        break;\n",
       "                    }\n",
       "                }\n",
       "            }, 500);\n",
       "            "
      ],
      "text/plain": [
       "<IPython.core.display.Javascript object>"
      ]
     },
     "metadata": {},
     "output_type": "display_data"
    }
   ],
   "source": [
    "repeats = 3\n",
    "n_splits = 5\n",
    "pipeline = Pipeline(\n",
    "    [\n",
    "        (\"estimator\", DecisionTreeRegressor(**PARAMS)),\n",
    "    ]\n",
    ")\n",
    "cv = RepeatedKFold(n_splits=n_splits, n_repeats=repeats, random_state=SEED)\n",
    "scores = cross_validate(\n",
    "    pipeline,\n",
    "    x,\n",
    "    y,\n",
    "    scoring=METRICS,\n",
    "    cv=cv,\n",
    "    n_jobs=-1,\n",
    "    return_train_score=True,\n",
    ")\n",
    "print(\"Repeated Cross Validation:\")\n",
    "print(f\"Repeats: {repeats}\")\n",
    "print(f\"n_splits: {n_splits}\")\n",
    "print()\n",
    "print_scores(scores, METRICS, METRICS_DICT)\n",
    "\n",
    "results_dict_copy = results_dict.copy()\n",
    "results_dict_copy[\"Cross Validation\"] = \"Repeated KFold\"\n",
    "results_dict_copy[\"Cross Validation Params\"] = '{\"N_Splits\": 5, \"Repeats\": 3}'\n",
    "results_dict_copy[\"Data Shape\"] = x.shape\n",
    "df_results = fill_results_dict(results_dict_copy, scores)\n",
    "results_to_save.append(df_results)"
   ]
  },
  {
   "cell_type": "markdown",
   "id": "758978c0",
   "metadata": {
    "papermill": {
     "duration": 0.011277,
     "end_time": "2024-02-05T01:39:09.031908",
     "exception": false,
     "start_time": "2024-02-05T01:39:09.020631",
     "status": "completed"
    },
    "tags": []
   },
   "source": [
    "## 1.2. Blocking Time Series Cross Validation\n",
    "\n",
    "<b>Dataset shape:</b> (1234, 38)<br>\n",
    "<b>Splits:</b>5<br>    \n",
    "    1. 5 folds of 246 samples\n",
    "    2. 50% train (123 samples each fold)\n",
    "    3. 50% test (123 samples each fold)\n",
    "<b>Total:</b> 5 models<br>"
   ]
  },
  {
   "cell_type": "code",
   "execution_count": 11,
   "id": "98f55219",
   "metadata": {
    "execution": {
     "iopub.execute_input": "2024-02-05T01:39:09.058259Z",
     "iopub.status.busy": "2024-02-05T01:39:09.057608Z",
     "iopub.status.idle": "2024-02-05T01:39:09.145065Z",
     "shell.execute_reply": "2024-02-05T01:39:09.142790Z"
    },
    "papermill": {
     "duration": 0.107147,
     "end_time": "2024-02-05T01:39:09.149014",
     "exception": false,
     "start_time": "2024-02-05T01:39:09.041867",
     "status": "completed"
    },
    "tags": []
   },
   "outputs": [
    {
     "name": "stdout",
     "output_type": "stream",
     "text": [
      "Blocking Time Series Split:\n",
      "Repeats: 3\n",
      "n_splits: 5\n",
      "\n",
      "******\n",
      "[TRAIN]\n",
      "******\n",
      "RMSE: -1.547 (0.260)\n",
      "MAE: -1.273 (0.225)\n",
      "MAPE: -0.029 (0.005)\n",
      "R2: 0.936 (0.022)\n",
      "\n",
      "======================\n",
      "\n",
      "******\n",
      "[TEST]\n",
      "******\n",
      "RMSE: -1.730 (0.428)\n",
      "MAE: -1.313 (0.210)\n",
      "MAPE: -0.030 (0.004)\n",
      "R2: 0.913 (0.047)\n",
      "\n",
      "======================\n",
      "\n"
     ]
    },
    {
     "data": {
      "application/javascript": [
       "\n",
       "            setTimeout(function() {\n",
       "                var nbb_cell_id = 11;\n",
       "                var nbb_unformatted_code = \"n_splits = 5\\ntrain_size = 0.8\\n\\npipeline = Pipeline(\\n    [\\n        (\\\"estimator\\\", DecisionTreeRegressor(**PARAMS)),\\n    ]\\n)\\ncv = BlockingTimeSeriesSplit(n_splits=n_splits, train_size=train_size)\\nscores = cross_validate(\\n    pipeline,\\n    x,\\n    y,\\n    scoring=METRICS,\\n    cv=cv,\\n    n_jobs=-1,\\n    return_train_score=True,\\n)\\nprint(\\\"Blocking Time Series Split:\\\")\\nprint(f\\\"Repeats: {repeats}\\\")\\nprint(f\\\"n_splits: {n_splits}\\\")\\nprint()\\nprint_scores(scores, METRICS, METRICS_DICT)\\n\\nresults_dict_copy = results_dict.copy()\\nresults_dict_copy[\\\"Cross Validation\\\"] = \\\"Blocking Time Series Split\\\"\\nresults_dict_copy[\\n    \\\"Cross Validation Params\\\"\\n] = '{\\\"N_Splits\\\": 5, \\\"Repeats\\\": 1, \\\"train_size\\\": 0.8}'\\nresults_dict_copy[\\\"Data Shape\\\"] = x.shape\\ndf_results = fill_results_dict(results_dict_copy, scores)\\nresults_to_save.append(df_results)\";\n",
       "                var nbb_formatted_code = \"n_splits = 5\\ntrain_size = 0.8\\n\\npipeline = Pipeline(\\n    [\\n        (\\\"estimator\\\", DecisionTreeRegressor(**PARAMS)),\\n    ]\\n)\\ncv = BlockingTimeSeriesSplit(n_splits=n_splits, train_size=train_size)\\nscores = cross_validate(\\n    pipeline,\\n    x,\\n    y,\\n    scoring=METRICS,\\n    cv=cv,\\n    n_jobs=-1,\\n    return_train_score=True,\\n)\\nprint(\\\"Blocking Time Series Split:\\\")\\nprint(f\\\"Repeats: {repeats}\\\")\\nprint(f\\\"n_splits: {n_splits}\\\")\\nprint()\\nprint_scores(scores, METRICS, METRICS_DICT)\\n\\nresults_dict_copy = results_dict.copy()\\nresults_dict_copy[\\\"Cross Validation\\\"] = \\\"Blocking Time Series Split\\\"\\nresults_dict_copy[\\n    \\\"Cross Validation Params\\\"\\n] = '{\\\"N_Splits\\\": 5, \\\"Repeats\\\": 1, \\\"train_size\\\": 0.8}'\\nresults_dict_copy[\\\"Data Shape\\\"] = x.shape\\ndf_results = fill_results_dict(results_dict_copy, scores)\\nresults_to_save.append(df_results)\";\n",
       "                var nbb_cells = Jupyter.notebook.get_cells();\n",
       "                for (var i = 0; i < nbb_cells.length; ++i) {\n",
       "                    if (nbb_cells[i].input_prompt_number == nbb_cell_id) {\n",
       "                        if (nbb_cells[i].get_text() == nbb_unformatted_code) {\n",
       "                             nbb_cells[i].set_text(nbb_formatted_code);\n",
       "                        }\n",
       "                        break;\n",
       "                    }\n",
       "                }\n",
       "            }, 500);\n",
       "            "
      ],
      "text/plain": [
       "<IPython.core.display.Javascript object>"
      ]
     },
     "metadata": {},
     "output_type": "display_data"
    }
   ],
   "source": [
    "n_splits = 5\n",
    "train_size = 0.8\n",
    "\n",
    "pipeline = Pipeline(\n",
    "    [\n",
    "        (\"estimator\", DecisionTreeRegressor(**PARAMS)),\n",
    "    ]\n",
    ")\n",
    "cv = BlockingTimeSeriesSplit(n_splits=n_splits, train_size=train_size)\n",
    "scores = cross_validate(\n",
    "    pipeline,\n",
    "    x,\n",
    "    y,\n",
    "    scoring=METRICS,\n",
    "    cv=cv,\n",
    "    n_jobs=-1,\n",
    "    return_train_score=True,\n",
    ")\n",
    "print(\"Blocking Time Series Split:\")\n",
    "print(f\"Repeats: {repeats}\")\n",
    "print(f\"n_splits: {n_splits}\")\n",
    "print()\n",
    "print_scores(scores, METRICS, METRICS_DICT)\n",
    "\n",
    "results_dict_copy = results_dict.copy()\n",
    "results_dict_copy[\"Cross Validation\"] = \"Blocking Time Series Split\"\n",
    "results_dict_copy[\n",
    "    \"Cross Validation Params\"\n",
    "] = '{\"N_Splits\": 5, \"Repeats\": 1, \"train_size\": 0.8}'\n",
    "results_dict_copy[\"Data Shape\"] = x.shape\n",
    "df_results = fill_results_dict(results_dict_copy, scores)\n",
    "results_to_save.append(df_results)"
   ]
  },
  {
   "cell_type": "markdown",
   "id": "58554992",
   "metadata": {
    "papermill": {
     "duration": 0.011172,
     "end_time": "2024-02-05T01:39:09.172717",
     "exception": false,
     "start_time": "2024-02-05T01:39:09.161545",
     "status": "completed"
    },
    "tags": []
   },
   "source": [
    "## 1.3. Time Series Split Cross Validation\n",
    "\n",
    "The training set has size i * n_samples // (n_splits + 1) + n_samples % (n_splits + 1) in the i th split, with a test set of size n_samples//(n_splits + 1) by default, where n_samples is the number of samples.\n",
    "\n",
    "\n",
    "<b>Dataset shape:</b> (1234, 38)<br>\n",
    "<b>Splits:</b>10<br>    \n",
    "    1. Train: 10 folds of 114, 226, 338, 450, 562, 675, 787, 899, 1011, 1123 samples each fold\n",
    "    2. Test: 112 samples each fold\n",
    "<b>Total:</b> 10 models<br>"
   ]
  },
  {
   "cell_type": "code",
   "execution_count": 12,
   "id": "9761a69a",
   "metadata": {
    "execution": {
     "iopub.execute_input": "2024-02-05T01:39:09.198444Z",
     "iopub.status.busy": "2024-02-05T01:39:09.197869Z",
     "iopub.status.idle": "2024-02-05T01:39:09.266841Z",
     "shell.execute_reply": "2024-02-05T01:39:09.264926Z"
    },
    "papermill": {
     "duration": 0.085562,
     "end_time": "2024-02-05T01:39:09.269892",
     "exception": false,
     "start_time": "2024-02-05T01:39:09.184330",
     "status": "completed"
    },
    "tags": []
   },
   "outputs": [
    {
     "name": "stdout",
     "output_type": "stream",
     "text": [
      "Time Series Split:\n",
      "Repeats: 3\n",
      "n_splits: 5\n",
      "\n",
      "******\n",
      "[TRAIN]\n",
      "******\n",
      "RMSE: -1.564 (0.076)\n",
      "MAE: -1.259 (0.057)\n",
      "MAPE: -0.029 (0.001)\n",
      "R2: 0.934 (0.007)\n",
      "\n",
      "======================\n",
      "\n",
      "******\n",
      "[TEST]\n",
      "******\n",
      "RMSE: -1.782 (0.331)\n",
      "MAE: -1.425 (0.193)\n",
      "MAPE: -0.032 (0.004)\n",
      "R2: 0.914 (0.027)\n",
      "\n",
      "======================\n",
      "\n"
     ]
    },
    {
     "data": {
      "application/javascript": [
       "\n",
       "            setTimeout(function() {\n",
       "                var nbb_cell_id = 12;\n",
       "                var nbb_unformatted_code = \"n_splits = 5\\ngap = 0\\npipeline = Pipeline(\\n    [\\n        (\\\"estimator\\\", DecisionTreeRegressor(**PARAMS)),\\n    ]\\n)\\ncv = TimeSeriesSplit(gap=gap, max_train_size=None, n_splits=n_splits, test_size=None)\\n\\nscores = cross_validate(\\n    pipeline,\\n    x,\\n    y,\\n    scoring=METRICS,\\n    cv=cv,\\n    n_jobs=-1,\\n    return_train_score=True,\\n)\\nprint(\\\"Time Series Split:\\\")\\nprint(f\\\"Repeats: {repeats}\\\")\\nprint(f\\\"n_splits: {n_splits}\\\")\\nprint()\\nprint_scores(scores, METRICS, METRICS_DICT)\\n\\nresults_dict_copy = results_dict.copy()\\nresults_dict_copy[\\\"Cross Validation\\\"] = \\\"Time Series Split\\\"\\nresults_dict_copy[\\\"Cross Validation Params\\\"] = '{\\\"N_Splits\\\": 5, \\\"Repeats\\\": 1, \\\"Gap\\\": 0}'\\nresults_dict_copy[\\\"Data Shape\\\"] = x.shape\\ndf_results = fill_results_dict(results_dict_copy, scores)\\nresults_to_save.append(df_results)\";\n",
       "                var nbb_formatted_code = \"n_splits = 5\\ngap = 0\\npipeline = Pipeline(\\n    [\\n        (\\\"estimator\\\", DecisionTreeRegressor(**PARAMS)),\\n    ]\\n)\\ncv = TimeSeriesSplit(gap=gap, max_train_size=None, n_splits=n_splits, test_size=None)\\n\\nscores = cross_validate(\\n    pipeline,\\n    x,\\n    y,\\n    scoring=METRICS,\\n    cv=cv,\\n    n_jobs=-1,\\n    return_train_score=True,\\n)\\nprint(\\\"Time Series Split:\\\")\\nprint(f\\\"Repeats: {repeats}\\\")\\nprint(f\\\"n_splits: {n_splits}\\\")\\nprint()\\nprint_scores(scores, METRICS, METRICS_DICT)\\n\\nresults_dict_copy = results_dict.copy()\\nresults_dict_copy[\\\"Cross Validation\\\"] = \\\"Time Series Split\\\"\\nresults_dict_copy[\\\"Cross Validation Params\\\"] = '{\\\"N_Splits\\\": 5, \\\"Repeats\\\": 1, \\\"Gap\\\": 0}'\\nresults_dict_copy[\\\"Data Shape\\\"] = x.shape\\ndf_results = fill_results_dict(results_dict_copy, scores)\\nresults_to_save.append(df_results)\";\n",
       "                var nbb_cells = Jupyter.notebook.get_cells();\n",
       "                for (var i = 0; i < nbb_cells.length; ++i) {\n",
       "                    if (nbb_cells[i].input_prompt_number == nbb_cell_id) {\n",
       "                        if (nbb_cells[i].get_text() == nbb_unformatted_code) {\n",
       "                             nbb_cells[i].set_text(nbb_formatted_code);\n",
       "                        }\n",
       "                        break;\n",
       "                    }\n",
       "                }\n",
       "            }, 500);\n",
       "            "
      ],
      "text/plain": [
       "<IPython.core.display.Javascript object>"
      ]
     },
     "metadata": {},
     "output_type": "display_data"
    }
   ],
   "source": [
    "n_splits = 5\n",
    "gap = 0\n",
    "pipeline = Pipeline(\n",
    "    [\n",
    "        (\"estimator\", DecisionTreeRegressor(**PARAMS)),\n",
    "    ]\n",
    ")\n",
    "cv = TimeSeriesSplit(gap=gap, max_train_size=None, n_splits=n_splits, test_size=None)\n",
    "\n",
    "scores = cross_validate(\n",
    "    pipeline,\n",
    "    x,\n",
    "    y,\n",
    "    scoring=METRICS,\n",
    "    cv=cv,\n",
    "    n_jobs=-1,\n",
    "    return_train_score=True,\n",
    ")\n",
    "print(\"Time Series Split:\")\n",
    "print(f\"Repeats: {repeats}\")\n",
    "print(f\"n_splits: {n_splits}\")\n",
    "print()\n",
    "print_scores(scores, METRICS, METRICS_DICT)\n",
    "\n",
    "results_dict_copy = results_dict.copy()\n",
    "results_dict_copy[\"Cross Validation\"] = \"Time Series Split\"\n",
    "results_dict_copy[\"Cross Validation Params\"] = '{\"N_Splits\": 5, \"Repeats\": 1, \"Gap\": 0}'\n",
    "results_dict_copy[\"Data Shape\"] = x.shape\n",
    "df_results = fill_results_dict(results_dict_copy, scores)\n",
    "results_to_save.append(df_results)"
   ]
  },
  {
   "cell_type": "markdown",
   "id": "fc3f721e",
   "metadata": {
    "papermill": {
     "duration": 0.011776,
     "end_time": "2024-02-05T01:39:09.293319",
     "exception": false,
     "start_time": "2024-02-05T01:39:09.281543",
     "status": "completed"
    },
    "tags": []
   },
   "source": [
    "## 1.4. Out of time Split Cross Validation\n",
    "\n",
    "<b>Dataset shape:</b> (1234, 38)<br>\n",
    "<b>Train size: 80%</b><br>\n",
    "<b>Test  size: 20%</b>\n",
    "\n",
    "\n",
    "<b>Splits:</b> 2<br>    \n",
    "    1. Train: 987\n",
    "    2. Test: 247\n",
    "<b>Total:</b> 1 model<br>"
   ]
  },
  {
   "cell_type": "code",
   "execution_count": 13,
   "id": "c832ad42",
   "metadata": {
    "execution": {
     "iopub.execute_input": "2024-02-05T01:39:09.319388Z",
     "iopub.status.busy": "2024-02-05T01:39:09.318884Z",
     "iopub.status.idle": "2024-02-05T01:39:09.364562Z",
     "shell.execute_reply": "2024-02-05T01:39:09.362866Z"
    },
    "papermill": {
     "duration": 0.063004,
     "end_time": "2024-02-05T01:39:09.368055",
     "exception": false,
     "start_time": "2024-02-05T01:39:09.305051",
     "status": "completed"
    },
    "scrolled": true,
    "tags": []
   },
   "outputs": [
    {
     "name": "stdout",
     "output_type": "stream",
     "text": [
      "******\n",
      "[TRAIN]\n",
      "******\n",
      "RMSE: 1.495 (0.000)\n",
      "MAE: 1.210 (0.000)\n",
      "MAPE: 0.028 (0.000)\n",
      "R2: 0.940 (0.000)\n",
      "\n",
      "======================\n",
      "\n",
      "******\n",
      "[TEST]\n",
      "******\n",
      "RMSE: 2.139 (0.000)\n",
      "MAE: 1.562 (0.000)\n",
      "MAPE: 0.033 (0.000)\n",
      "R2: 0.893 (0.000)\n",
      "\n",
      "======================\n",
      "\n"
     ]
    },
    {
     "data": {
      "application/javascript": [
       "\n",
       "            setTimeout(function() {\n",
       "                var nbb_cell_id = 13;\n",
       "                var nbb_unformatted_code = \"test_size = 0.2\\n\\nx_train, x_test, y_train, y_test = train_test_split(\\n    x, y, test_size=test_size, random_state=SEED, shuffle=False\\n)\\npipeline = Pipeline(\\n    [\\n        (\\\"estimator\\\", DecisionTreeRegressor(**PARAMS)),\\n    ]\\n)\\n\\npipeline.fit(x_train, y_train)\\n\\ny_train_pred = pipeline.predict(x_train)\\ny_test_pred = pipeline.predict(x_test)\\n\\nscores = score_regression_metrics(y_train, y_train_pred, y_test, y_test_pred)\\nprint_scores(scores, METRICS, METRICS_DICT)\\n\\nresults_dict_copy = results_dict.copy()\\nresults_dict_copy[\\\"Cross Validation\\\"] = \\\"Out of time Split\\\"\\nresults_dict_copy[\\\"Cross Validation Params\\\"] = '{\\\"Test Size\\\": 0.2}'\\nresults_dict_copy[\\\"Data Shape\\\"] = x.shape\\ndf_results = fill_results_dict(\\n    results_dict_copy, {key: [value] for key, value in scores.items()}\\n)\\nresults_to_save.append(df_results)\";\n",
       "                var nbb_formatted_code = \"test_size = 0.2\\n\\nx_train, x_test, y_train, y_test = train_test_split(\\n    x, y, test_size=test_size, random_state=SEED, shuffle=False\\n)\\npipeline = Pipeline(\\n    [\\n        (\\\"estimator\\\", DecisionTreeRegressor(**PARAMS)),\\n    ]\\n)\\n\\npipeline.fit(x_train, y_train)\\n\\ny_train_pred = pipeline.predict(x_train)\\ny_test_pred = pipeline.predict(x_test)\\n\\nscores = score_regression_metrics(y_train, y_train_pred, y_test, y_test_pred)\\nprint_scores(scores, METRICS, METRICS_DICT)\\n\\nresults_dict_copy = results_dict.copy()\\nresults_dict_copy[\\\"Cross Validation\\\"] = \\\"Out of time Split\\\"\\nresults_dict_copy[\\\"Cross Validation Params\\\"] = '{\\\"Test Size\\\": 0.2}'\\nresults_dict_copy[\\\"Data Shape\\\"] = x.shape\\ndf_results = fill_results_dict(\\n    results_dict_copy, {key: [value] for key, value in scores.items()}\\n)\\nresults_to_save.append(df_results)\";\n",
       "                var nbb_cells = Jupyter.notebook.get_cells();\n",
       "                for (var i = 0; i < nbb_cells.length; ++i) {\n",
       "                    if (nbb_cells[i].input_prompt_number == nbb_cell_id) {\n",
       "                        if (nbb_cells[i].get_text() == nbb_unformatted_code) {\n",
       "                             nbb_cells[i].set_text(nbb_formatted_code);\n",
       "                        }\n",
       "                        break;\n",
       "                    }\n",
       "                }\n",
       "            }, 500);\n",
       "            "
      ],
      "text/plain": [
       "<IPython.core.display.Javascript object>"
      ]
     },
     "metadata": {},
     "output_type": "display_data"
    }
   ],
   "source": [
    "test_size = 0.2\n",
    "\n",
    "x_train, x_test, y_train, y_test = train_test_split(\n",
    "    x, y, test_size=test_size, random_state=SEED, shuffle=False\n",
    ")\n",
    "pipeline = Pipeline(\n",
    "    [\n",
    "        (\"estimator\", DecisionTreeRegressor(**PARAMS)),\n",
    "    ]\n",
    ")\n",
    "\n",
    "pipeline.fit(x_train, y_train)\n",
    "\n",
    "y_train_pred = pipeline.predict(x_train)\n",
    "y_test_pred = pipeline.predict(x_test)\n",
    "\n",
    "scores = score_regression_metrics(y_train, y_train_pred, y_test, y_test_pred)\n",
    "print_scores(scores, METRICS, METRICS_DICT)\n",
    "\n",
    "results_dict_copy = results_dict.copy()\n",
    "results_dict_copy[\"Cross Validation\"] = \"Out of time Split\"\n",
    "results_dict_copy[\"Cross Validation Params\"] = '{\"Test Size\": 0.2}'\n",
    "results_dict_copy[\"Data Shape\"] = x.shape\n",
    "df_results = fill_results_dict(\n",
    "    results_dict_copy, {key: [value] for key, value in scores.items()}\n",
    ")\n",
    "results_to_save.append(df_results)"
   ]
  },
  {
   "cell_type": "code",
   "execution_count": 14,
   "id": "8d4f0ed6",
   "metadata": {
    "execution": {
     "iopub.execute_input": "2024-02-05T01:39:09.391412Z",
     "iopub.status.busy": "2024-02-05T01:39:09.390883Z",
     "iopub.status.idle": "2024-02-05T01:39:09.460741Z",
     "shell.execute_reply": "2024-02-05T01:39:09.459251Z"
    },
    "papermill": {
     "duration": 0.085515,
     "end_time": "2024-02-05T01:39:09.463854",
     "exception": false,
     "start_time": "2024-02-05T01:39:09.378339",
     "status": "completed"
    },
    "tags": []
   },
   "outputs": [
    {
     "data": {
      "text/html": [
       "<div>\n",
       "<style scoped>\n",
       "    .dataframe tbody tr th:only-of-type {\n",
       "        vertical-align: middle;\n",
       "    }\n",
       "\n",
       "    .dataframe tbody tr th {\n",
       "        vertical-align: top;\n",
       "    }\n",
       "\n",
       "    .dataframe thead tr th {\n",
       "        text-align: left;\n",
       "    }\n",
       "</style>\n",
       "<table border=\"1\" class=\"dataframe\">\n",
       "  <thead>\n",
       "    <tr>\n",
       "      <th></th>\n",
       "      <th>Features</th>\n",
       "      <th>Model</th>\n",
       "      <th>Cross Validation</th>\n",
       "      <th colspan=\"2\" halign=\"left\">RMSE Test</th>\n",
       "      <th colspan=\"2\" halign=\"left\">MAE Test</th>\n",
       "      <th colspan=\"2\" halign=\"left\">MAPE Test</th>\n",
       "      <th colspan=\"2\" halign=\"left\">R2 Test</th>\n",
       "    </tr>\n",
       "    <tr>\n",
       "      <th></th>\n",
       "      <th></th>\n",
       "      <th></th>\n",
       "      <th></th>\n",
       "      <th>mean</th>\n",
       "      <th>std</th>\n",
       "      <th>mean</th>\n",
       "      <th>std</th>\n",
       "      <th>mean</th>\n",
       "      <th>std</th>\n",
       "      <th>mean</th>\n",
       "      <th>std</th>\n",
       "    </tr>\n",
       "  </thead>\n",
       "  <tbody>\n",
       "    <tr>\n",
       "      <th>0</th>\n",
       "      <td>Chemical + CS7</td>\n",
       "      <td>Decision Tree</td>\n",
       "      <td>Blocking Time Series Split</td>\n",
       "      <td>1.730291</td>\n",
       "      <td>0.427657</td>\n",
       "      <td>1.313143</td>\n",
       "      <td>0.210028</td>\n",
       "      <td>0.029845</td>\n",
       "      <td>0.003727</td>\n",
       "      <td>0.913459</td>\n",
       "      <td>0.047477</td>\n",
       "    </tr>\n",
       "    <tr>\n",
       "      <th>1</th>\n",
       "      <td>Chemical + CS7</td>\n",
       "      <td>Decision Tree</td>\n",
       "      <td>Out of time Split</td>\n",
       "      <td>2.138836</td>\n",
       "      <td>0.000000</td>\n",
       "      <td>1.562488</td>\n",
       "      <td>0.000000</td>\n",
       "      <td>0.032801</td>\n",
       "      <td>0.000000</td>\n",
       "      <td>0.893131</td>\n",
       "      <td>0.000000</td>\n",
       "    </tr>\n",
       "    <tr>\n",
       "      <th>2</th>\n",
       "      <td>Chemical + CS7</td>\n",
       "      <td>Decision Tree</td>\n",
       "      <td>Repeated KFold</td>\n",
       "      <td>1.570610</td>\n",
       "      <td>0.083543</td>\n",
       "      <td>1.262622</td>\n",
       "      <td>0.071616</td>\n",
       "      <td>0.028685</td>\n",
       "      <td>0.001588</td>\n",
       "      <td>0.936076</td>\n",
       "      <td>0.007229</td>\n",
       "    </tr>\n",
       "    <tr>\n",
       "      <th>3</th>\n",
       "      <td>Chemical + CS7</td>\n",
       "      <td>Decision Tree</td>\n",
       "      <td>Time Series Split</td>\n",
       "      <td>1.782263</td>\n",
       "      <td>0.330681</td>\n",
       "      <td>1.425291</td>\n",
       "      <td>0.192716</td>\n",
       "      <td>0.032008</td>\n",
       "      <td>0.003921</td>\n",
       "      <td>0.913958</td>\n",
       "      <td>0.027152</td>\n",
       "    </tr>\n",
       "  </tbody>\n",
       "</table>\n",
       "</div>"
      ],
      "text/plain": [
       "         Features          Model            Cross Validation RMSE Test  \\\n",
       "                                                                  mean   \n",
       "0  Chemical + CS7  Decision Tree  Blocking Time Series Split  1.730291   \n",
       "1  Chemical + CS7  Decision Tree           Out of time Split  2.138836   \n",
       "2  Chemical + CS7  Decision Tree              Repeated KFold  1.570610   \n",
       "3  Chemical + CS7  Decision Tree           Time Series Split  1.782263   \n",
       "\n",
       "             MAE Test           MAPE Test             R2 Test            \n",
       "        std      mean       std      mean       std      mean       std  \n",
       "0  0.427657  1.313143  0.210028  0.029845  0.003727  0.913459  0.047477  \n",
       "1  0.000000  1.562488  0.000000  0.032801  0.000000  0.893131  0.000000  \n",
       "2  0.083543  1.262622  0.071616  0.028685  0.001588  0.936076  0.007229  \n",
       "3  0.330681  1.425291  0.192716  0.032008  0.003921  0.913958  0.027152  "
      ]
     },
     "execution_count": 14,
     "metadata": {},
     "output_type": "execute_result"
    },
    {
     "data": {
      "application/javascript": [
       "\n",
       "            setTimeout(function() {\n",
       "                var nbb_cell_id = 14;\n",
       "                var nbb_unformatted_code = \"pd.concat(results_to_save).groupby([\\\"Features\\\", \\\"Model\\\", \\\"Cross Validation\\\"])[\\n    [\\\"RMSE Test\\\", \\\"MAE Test\\\", \\\"MAPE Test\\\", \\\"R2 Test\\\"]\\n].agg(\\n    [\\\"mean\\\", lambda series: pd.Series(series.std(ddof=0), name=\\\"std\\\")]\\n).reset_index().rename(\\n    columns={\\\"<lambda_0>\\\": \\\"std\\\"}\\n)\";\n",
       "                var nbb_formatted_code = \"pd.concat(results_to_save).groupby([\\\"Features\\\", \\\"Model\\\", \\\"Cross Validation\\\"])[\\n    [\\\"RMSE Test\\\", \\\"MAE Test\\\", \\\"MAPE Test\\\", \\\"R2 Test\\\"]\\n].agg(\\n    [\\\"mean\\\", lambda series: pd.Series(series.std(ddof=0), name=\\\"std\\\")]\\n).reset_index().rename(\\n    columns={\\\"<lambda_0>\\\": \\\"std\\\"}\\n)\";\n",
       "                var nbb_cells = Jupyter.notebook.get_cells();\n",
       "                for (var i = 0; i < nbb_cells.length; ++i) {\n",
       "                    if (nbb_cells[i].input_prompt_number == nbb_cell_id) {\n",
       "                        if (nbb_cells[i].get_text() == nbb_unformatted_code) {\n",
       "                             nbb_cells[i].set_text(nbb_formatted_code);\n",
       "                        }\n",
       "                        break;\n",
       "                    }\n",
       "                }\n",
       "            }, 500);\n",
       "            "
      ],
      "text/plain": [
       "<IPython.core.display.Javascript object>"
      ]
     },
     "metadata": {},
     "output_type": "display_data"
    }
   ],
   "source": [
    "pd.concat(results_to_save).groupby([\"Features\", \"Model\", \"Cross Validation\"])[\n",
    "    [\"RMSE Test\", \"MAE Test\", \"MAPE Test\", \"R2 Test\"]\n",
    "].agg(\n",
    "    [\"mean\", lambda series: pd.Series(series.std(ddof=0), name=\"std\")]\n",
    ").reset_index().rename(\n",
    "    columns={\"<lambda_0>\": \"std\"}\n",
    ")"
   ]
  },
  {
   "cell_type": "markdown",
   "id": "4236e3ec",
   "metadata": {
    "papermill": {
     "duration": 0.012977,
     "end_time": "2024-02-05T01:39:09.490457",
     "exception": false,
     "start_time": "2024-02-05T01:39:09.477480",
     "status": "completed"
    },
    "tags": []
   },
   "source": [
    "# Saving the results Dataframe"
   ]
  },
  {
   "cell_type": "markdown",
   "id": "e3b020be",
   "metadata": {
    "papermill": {
     "duration": 0.010815,
     "end_time": "2024-02-05T01:39:09.512979",
     "exception": false,
     "start_time": "2024-02-05T01:39:09.502164",
     "status": "completed"
    },
    "tags": []
   },
   "source": [
    "## Saving the full dataframe"
   ]
  },
  {
   "cell_type": "code",
   "execution_count": 15,
   "id": "09d65806",
   "metadata": {
    "execution": {
     "iopub.execute_input": "2024-02-05T01:39:09.540959Z",
     "iopub.status.busy": "2024-02-05T01:39:09.540322Z",
     "iopub.status.idle": "2024-02-05T01:39:09.566745Z",
     "shell.execute_reply": "2024-02-05T01:39:09.565145Z"
    },
    "papermill": {
     "duration": 0.045108,
     "end_time": "2024-02-05T01:39:09.570085",
     "exception": false,
     "start_time": "2024-02-05T01:39:09.524977",
     "status": "completed"
    },
    "tags": []
   },
   "outputs": [
    {
     "data": {
      "application/javascript": [
       "\n",
       "            setTimeout(function() {\n",
       "                var nbb_cell_id = 15;\n",
       "                var nbb_unformatted_code = \"path = \\\"../../../../../reports/results/local_models/204/o/full/\\\"\\nfilename = f\\\"decision_tree_results_full_{index_to_save}.csv\\\"\\n\\npd.concat(results_to_save).to_csv(\\n    path_or_buf=path + filename,\\n    mode=\\\"w\\\",\\n    index=False,\\n    header=True,\\n)\";\n",
       "                var nbb_formatted_code = \"path = \\\"../../../../../reports/results/local_models/204/o/full/\\\"\\nfilename = f\\\"decision_tree_results_full_{index_to_save}.csv\\\"\\n\\npd.concat(results_to_save).to_csv(\\n    path_or_buf=path + filename,\\n    mode=\\\"w\\\",\\n    index=False,\\n    header=True,\\n)\";\n",
       "                var nbb_cells = Jupyter.notebook.get_cells();\n",
       "                for (var i = 0; i < nbb_cells.length; ++i) {\n",
       "                    if (nbb_cells[i].input_prompt_number == nbb_cell_id) {\n",
       "                        if (nbb_cells[i].get_text() == nbb_unformatted_code) {\n",
       "                             nbb_cells[i].set_text(nbb_formatted_code);\n",
       "                        }\n",
       "                        break;\n",
       "                    }\n",
       "                }\n",
       "            }, 500);\n",
       "            "
      ],
      "text/plain": [
       "<IPython.core.display.Javascript object>"
      ]
     },
     "metadata": {},
     "output_type": "display_data"
    }
   ],
   "source": [
    "path = \"../../../../../reports/results/local_models/204/o/full/\"\n",
    "filename = f\"decision_tree_results_full_{index_to_save}.csv\"\n",
    "\n",
    "pd.concat(results_to_save).to_csv(\n",
    "    path_or_buf=path + filename,\n",
    "    mode=\"w\",\n",
    "    index=False,\n",
    "    header=True,\n",
    ")"
   ]
  },
  {
   "cell_type": "markdown",
   "id": "e0291541",
   "metadata": {
    "papermill": {
     "duration": 0.011352,
     "end_time": "2024-02-05T01:39:09.594405",
     "exception": false,
     "start_time": "2024-02-05T01:39:09.583053",
     "status": "completed"
    },
    "tags": []
   },
   "source": [
    "## Saving the grouped dataframe"
   ]
  },
  {
   "cell_type": "code",
   "execution_count": 16,
   "id": "aad94510",
   "metadata": {
    "execution": {
     "iopub.execute_input": "2024-02-05T01:39:09.619952Z",
     "iopub.status.busy": "2024-02-05T01:39:09.619423Z",
     "iopub.status.idle": "2024-02-05T01:39:09.683468Z",
     "shell.execute_reply": "2024-02-05T01:39:09.681588Z"
    },
    "papermill": {
     "duration": 0.08124,
     "end_time": "2024-02-05T01:39:09.686932",
     "exception": false,
     "start_time": "2024-02-05T01:39:09.605692",
     "status": "completed"
    },
    "tags": []
   },
   "outputs": [
    {
     "data": {
      "application/javascript": [
       "\n",
       "            setTimeout(function() {\n",
       "                var nbb_cell_id = 16;\n",
       "                var nbb_unformatted_code = \"cols_groupby = [\\n    \\\"Category\\\",\\n    \\\"Company\\\",\\n    \\\"Data Shape\\\",\\n    \\\"Timesteps\\\",\\n    \\\"Features\\\",\\n    \\\"Model\\\",\\n    \\\"Cross Validation\\\",\\n    \\\"Cross Validation Params\\\",\\n]\\n\\ncols_agg = [\\\"RMSE Train\\\", \\\"MAE Train\\\", \\\"MAPE Train\\\", \\\"R2 Train\\\"] + [\\n    \\\"RMSE Test\\\",\\n    \\\"MAE Test\\\",\\n    \\\"MAPE Test\\\",\\n    \\\"R2 Test\\\",\\n]\\n\\npath = \\\"../../../../../reports/results/local_models/204/o/grouped/\\\"\\nfilename = f\\\"decision_tree_results_grouped_{index_to_save}.csv\\\"\\n\\n\\ndf_results_to_save = (\\n    pd.concat(results_to_save)\\n    .groupby(cols_groupby, dropna=False)[cols_agg]\\n    .agg([\\\"mean\\\", lambda series: pd.Series(series.std(ddof=0), name=\\\"std\\\")])\\n    .reset_index()\\n    .rename(columns={\\\"<lambda_0>\\\": \\\"std\\\"})\\n)\\n\\ndf_results_to_save.to_csv(\\n    path_or_buf=path + filename,\\n    mode=\\\"w\\\",\\n    index=False,\\n    header=True,\\n)\";\n",
       "                var nbb_formatted_code = \"cols_groupby = [\\n    \\\"Category\\\",\\n    \\\"Company\\\",\\n    \\\"Data Shape\\\",\\n    \\\"Timesteps\\\",\\n    \\\"Features\\\",\\n    \\\"Model\\\",\\n    \\\"Cross Validation\\\",\\n    \\\"Cross Validation Params\\\",\\n]\\n\\ncols_agg = [\\\"RMSE Train\\\", \\\"MAE Train\\\", \\\"MAPE Train\\\", \\\"R2 Train\\\"] + [\\n    \\\"RMSE Test\\\",\\n    \\\"MAE Test\\\",\\n    \\\"MAPE Test\\\",\\n    \\\"R2 Test\\\",\\n]\\n\\npath = \\\"../../../../../reports/results/local_models/204/o/grouped/\\\"\\nfilename = f\\\"decision_tree_results_grouped_{index_to_save}.csv\\\"\\n\\n\\ndf_results_to_save = (\\n    pd.concat(results_to_save)\\n    .groupby(cols_groupby, dropna=False)[cols_agg]\\n    .agg([\\\"mean\\\", lambda series: pd.Series(series.std(ddof=0), name=\\\"std\\\")])\\n    .reset_index()\\n    .rename(columns={\\\"<lambda_0>\\\": \\\"std\\\"})\\n)\\n\\ndf_results_to_save.to_csv(\\n    path_or_buf=path + filename,\\n    mode=\\\"w\\\",\\n    index=False,\\n    header=True,\\n)\";\n",
       "                var nbb_cells = Jupyter.notebook.get_cells();\n",
       "                for (var i = 0; i < nbb_cells.length; ++i) {\n",
       "                    if (nbb_cells[i].input_prompt_number == nbb_cell_id) {\n",
       "                        if (nbb_cells[i].get_text() == nbb_unformatted_code) {\n",
       "                             nbb_cells[i].set_text(nbb_formatted_code);\n",
       "                        }\n",
       "                        break;\n",
       "                    }\n",
       "                }\n",
       "            }, 500);\n",
       "            "
      ],
      "text/plain": [
       "<IPython.core.display.Javascript object>"
      ]
     },
     "metadata": {},
     "output_type": "display_data"
    }
   ],
   "source": [
    "cols_groupby = [\n",
    "    \"Category\",\n",
    "    \"Company\",\n",
    "    \"Data Shape\",\n",
    "    \"Timesteps\",\n",
    "    \"Features\",\n",
    "    \"Model\",\n",
    "    \"Cross Validation\",\n",
    "    \"Cross Validation Params\",\n",
    "]\n",
    "\n",
    "cols_agg = [\"RMSE Train\", \"MAE Train\", \"MAPE Train\", \"R2 Train\"] + [\n",
    "    \"RMSE Test\",\n",
    "    \"MAE Test\",\n",
    "    \"MAPE Test\",\n",
    "    \"R2 Test\",\n",
    "]\n",
    "\n",
    "path = \"../../../../../reports/results/local_models/204/o/grouped/\"\n",
    "filename = f\"decision_tree_results_grouped_{index_to_save}.csv\"\n",
    "\n",
    "\n",
    "df_results_to_save = (\n",
    "    pd.concat(results_to_save)\n",
    "    .groupby(cols_groupby, dropna=False)[cols_agg]\n",
    "    .agg([\"mean\", lambda series: pd.Series(series.std(ddof=0), name=\"std\")])\n",
    "    .reset_index()\n",
    "    .rename(columns={\"<lambda_0>\": \"std\"})\n",
    ")\n",
    "\n",
    "df_results_to_save.to_csv(\n",
    "    path_or_buf=path + filename,\n",
    "    mode=\"w\",\n",
    "    index=False,\n",
    "    header=True,\n",
    ")"
   ]
  },
  {
   "cell_type": "code",
   "execution_count": 17,
   "id": "0ef066f9",
   "metadata": {
    "execution": {
     "iopub.execute_input": "2024-02-05T01:39:09.713796Z",
     "iopub.status.busy": "2024-02-05T01:39:09.713233Z",
     "iopub.status.idle": "2024-02-05T01:39:09.725964Z",
     "shell.execute_reply": "2024-02-05T01:39:09.723940Z"
    },
    "papermill": {
     "duration": 0.03046,
     "end_time": "2024-02-05T01:39:09.729083",
     "exception": false,
     "start_time": "2024-02-05T01:39:09.698623",
     "status": "completed"
    },
    "tags": []
   },
   "outputs": [
    {
     "data": {
      "application/javascript": [
       "\n",
       "            setTimeout(function() {\n",
       "                var nbb_cell_id = 17;\n",
       "                var nbb_unformatted_code = \"from sklearn.tree import plot_tree\";\n",
       "                var nbb_formatted_code = \"from sklearn.tree import plot_tree\";\n",
       "                var nbb_cells = Jupyter.notebook.get_cells();\n",
       "                for (var i = 0; i < nbb_cells.length; ++i) {\n",
       "                    if (nbb_cells[i].input_prompt_number == nbb_cell_id) {\n",
       "                        if (nbb_cells[i].get_text() == nbb_unformatted_code) {\n",
       "                             nbb_cells[i].set_text(nbb_formatted_code);\n",
       "                        }\n",
       "                        break;\n",
       "                    }\n",
       "                }\n",
       "            }, 500);\n",
       "            "
      ],
      "text/plain": [
       "<IPython.core.display.Javascript object>"
      ]
     },
     "metadata": {},
     "output_type": "display_data"
    }
   ],
   "source": [
    "from sklearn.tree import plot_tree"
   ]
  },
  {
   "cell_type": "code",
   "execution_count": 18,
   "id": "d596cfbb",
   "metadata": {
    "execution": {
     "iopub.execute_input": "2024-02-05T01:39:09.756617Z",
     "iopub.status.busy": "2024-02-05T01:39:09.755940Z",
     "iopub.status.idle": "2024-02-05T01:39:10.771129Z",
     "shell.execute_reply": "2024-02-05T01:39:10.769551Z"
    },
    "papermill": {
     "duration": 1.034601,
     "end_time": "2024-02-05T01:39:10.776342",
     "exception": false,
     "start_time": "2024-02-05T01:39:09.741741",
     "status": "completed"
    },
    "tags": []
   },
   "outputs": [
    {
     "data": {
      "image/png": "[encoded data removed]",
      "text/plain": [
       "<Figure size 2000x2000 with 1 Axes>"
      ]
     },
     "metadata": {},
     "output_type": "display_data"
    },
    {
     "data": {
      "application/javascript": [
       "\n",
       "            setTimeout(function() {\n",
       "                var nbb_cell_id = 18;\n",
       "                var nbb_unformatted_code = \"model = pipeline.get_params()[\\\"steps\\\"][0][1]\\nfig, ax = plt.subplots(1, 1, figsize=(20, 20))\\n_ = plot_tree(model, filled=True, feature_names=x.columns.to_list(), ax=ax)\";\n",
       "                var nbb_formatted_code = \"model = pipeline.get_params()[\\\"steps\\\"][0][1]\\nfig, ax = plt.subplots(1, 1, figsize=(20, 20))\\n_ = plot_tree(model, filled=True, feature_names=x.columns.to_list(), ax=ax)\";\n",
       "                var nbb_cells = Jupyter.notebook.get_cells();\n",
       "                for (var i = 0; i < nbb_cells.length; ++i) {\n",
       "                    if (nbb_cells[i].input_prompt_number == nbb_cell_id) {\n",
       "                        if (nbb_cells[i].get_text() == nbb_unformatted_code) {\n",
       "                             nbb_cells[i].set_text(nbb_formatted_code);\n",
       "                        }\n",
       "                        break;\n",
       "                    }\n",
       "                }\n",
       "            }, 500);\n",
       "            "
      ],
      "text/plain": [
       "<IPython.core.display.Javascript object>"
      ]
     },
     "metadata": {},
     "output_type": "display_data"
    }
   ],
   "source": [
    "model = pipeline.get_params()[\"steps\"][0][1]\n",
    "fig, ax = plt.subplots(1, 1, figsize=(20, 20))\n",
    "_ = plot_tree(model, filled=True, feature_names=x.columns.to_list(), ax=ax)"
   ]
  },
  {
   "cell_type": "code",
   "execution_count": 19,
   "id": "3743f2b1",
   "metadata": {
    "execution": {
     "iopub.execute_input": "2024-02-05T01:39:10.814423Z",
     "iopub.status.busy": "2024-02-05T01:39:10.812326Z",
     "iopub.status.idle": "2024-02-05T01:39:11.188954Z",
     "shell.execute_reply": "2024-02-05T01:39:11.187001Z"
    },
    "papermill": {
     "duration": 0.398444,
     "end_time": "2024-02-05T01:39:11.192082",
     "exception": false,
     "start_time": "2024-02-05T01:39:10.793638",
     "status": "completed"
    },
    "tags": []
   },
   "outputs": [
    {
     "data": {
      "text/plain": [
       "<Axes: >"
      ]
     },
     "execution_count": 19,
     "metadata": {},
     "output_type": "execute_result"
    },
    {
     "data": {
      "image/png": "[encoded data removed]",
      "text/plain": [
       "<Figure size 800x600 with 1 Axes>"
      ]
     },
     "metadata": {},
     "output_type": "display_data"
    },
    {
     "data": {
      "application/javascript": [
       "\n",
       "            setTimeout(function() {\n",
       "                var nbb_cell_id = 19;\n",
       "                var nbb_unformatted_code = \"feat_importances = pd.DataFrame(\\n    model.feature_importances_, index=x.columns, columns=[\\\"Importance\\\"]\\n)\\nfeat_importances.sort_values(by=\\\"Importance\\\", ascending=False, inplace=True)\\nfeat_importances.plot(kind=\\\"barh\\\", figsize=(8, 6))\";\n",
       "                var nbb_formatted_code = \"feat_importances = pd.DataFrame(\\n    model.feature_importances_, index=x.columns, columns=[\\\"Importance\\\"]\\n)\\nfeat_importances.sort_values(by=\\\"Importance\\\", ascending=False, inplace=True)\\nfeat_importances.plot(kind=\\\"barh\\\", figsize=(8, 6))\";\n",
       "                var nbb_cells = Jupyter.notebook.get_cells();\n",
       "                for (var i = 0; i < nbb_cells.length; ++i) {\n",
       "                    if (nbb_cells[i].input_prompt_number == nbb_cell_id) {\n",
       "                        if (nbb_cells[i].get_text() == nbb_unformatted_code) {\n",
       "                             nbb_cells[i].set_text(nbb_formatted_code);\n",
       "                        }\n",
       "                        break;\n",
       "                    }\n",
       "                }\n",
       "            }, 500);\n",
       "            "
      ],
      "text/plain": [
       "<IPython.core.display.Javascript object>"
      ]
     },
     "metadata": {},
     "output_type": "display_data"
    }
   ],
   "source": [
    "feat_importances = pd.DataFrame(\n",
    "    model.feature_importances_, index=x.columns, columns=[\"Importance\"]\n",
    ")\n",
    "feat_importances.sort_values(by=\"Importance\", ascending=False, inplace=True)\n",
    "feat_importances.plot(kind=\"barh\", figsize=(8, 6))"
   ]
  },
  {
   "cell_type": "code",
   "execution_count": 20,
   "id": "21ff272c",
   "metadata": {
    "execution": {
     "iopub.execute_input": "2024-02-05T01:39:11.233045Z",
     "iopub.status.busy": "2024-02-05T01:39:11.231312Z",
     "iopub.status.idle": "2024-02-05T01:39:11.252421Z",
     "shell.execute_reply": "2024-02-05T01:39:11.250543Z"
    },
    "papermill": {
     "duration": 0.044983,
     "end_time": "2024-02-05T01:39:11.256392",
     "exception": false,
     "start_time": "2024-02-05T01:39:11.211409",
     "status": "completed"
    },
    "tags": []
   },
   "outputs": [
    {
     "data": {
      "text/plain": [
       "{'criterion': 'squared_error',\n",
       " 'max_depth': 3,\n",
       " 'random_state': 47,\n",
       " 'splitter': 'best'}"
      ]
     },
     "execution_count": 20,
     "metadata": {},
     "output_type": "execute_result"
    },
    {
     "data": {
      "application/javascript": [
       "\n",
       "            setTimeout(function() {\n",
       "                var nbb_cell_id = 20;\n",
       "                var nbb_unformatted_code = \"PARAMS\";\n",
       "                var nbb_formatted_code = \"PARAMS\";\n",
       "                var nbb_cells = Jupyter.notebook.get_cells();\n",
       "                for (var i = 0; i < nbb_cells.length; ++i) {\n",
       "                    if (nbb_cells[i].input_prompt_number == nbb_cell_id) {\n",
       "                        if (nbb_cells[i].get_text() == nbb_unformatted_code) {\n",
       "                             nbb_cells[i].set_text(nbb_formatted_code);\n",
       "                        }\n",
       "                        break;\n",
       "                    }\n",
       "                }\n",
       "            }, 500);\n",
       "            "
      ],
      "text/plain": [
       "<IPython.core.display.Javascript object>"
      ]
     },
     "metadata": {},
     "output_type": "display_data"
    }
   ],
   "source": [
    "PARAMS"
   ]
  },
  {
   "cell_type": "code",
   "execution_count": null,
   "id": "9460a809",
   "metadata": {
    "papermill": {
     "duration": 0.018894,
     "end_time": "2024-02-05T01:39:11.293833",
     "exception": false,
     "start_time": "2024-02-05T01:39:11.274939",
     "status": "completed"
    },
    "tags": []
   },
   "outputs": [],
   "source": []
  }
 ],
 "metadata": {
  "kernelspec": {
   "display_name": "ccs28-venv",
   "language": "python",
   "name": "ccs28-venv"
  },
  "language_info": {
   "codemirror_mode": {
    "name": "ipython",
    "version": 3
   },
   "file_extension": ".py",
   "mimetype": "text/x-python",
   "name": "python",
   "nbconvert_exporter": "python",
   "pygments_lexer": "ipython3",
   "version": "3.10.12"
  },
  "papermill": {
   "default_parameters": {},
   "duration": 12.802616,
   "end_time": "2024-02-05T01:39:13.944268",
   "environment_variables": {},
   "exception": null,
   "input_path": "/home/peressim/projects/ccs28-ml-modelling/notebooks/modelling/204/decision_tree/o/chemical-cs7-ds.ipynb",
   "output_path": "/home/peressim/projects/ccs28-ml-modelling/notebooks/modelling/204/decision_tree/o/chemical-cs7-ds.ipynb",
   "parameters": {},
   "start_time": "2024-02-05T01:39:01.141652",
   "version": "2.5.0"
  }
 },
 "nbformat": 4,
 "nbformat_minor": 5
}