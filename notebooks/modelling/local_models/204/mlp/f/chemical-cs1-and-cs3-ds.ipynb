{
 "cells": [
  {
   "cell_type": "code",
   "execution_count": 1,
   "id": "5fcbc1bd",
   "metadata": {
    "execution": {
     "iopub.execute_input": "2024-09-05T02:22:40.093549Z",
     "iopub.status.busy": "2024-09-05T02:22:40.093043Z",
     "iopub.status.idle": "2024-09-05T02:22:40.211451Z",
     "shell.execute_reply": "2024-09-05T02:22:40.210630Z"
    },
    "papermill": {
     "duration": 0.138164,
     "end_time": "2024-09-05T02:22:40.214988",
     "exception": false,
     "start_time": "2024-09-05T02:22:40.076824",
     "status": "completed"
    },
    "tags": []
   },
   "outputs": [
    {
     "data": {
      "application/javascript": [
       "\n",
       "            setTimeout(function() {\n",
       "                var nbb_cell_id = 1;\n",
       "                var nbb_unformatted_code = \"%load_ext nb_black\";\n",
       "                var nbb_formatted_code = \"%load_ext nb_black\";\n",
       "                var nbb_cells = Jupyter.notebook.get_cells();\n",
       "                for (var i = 0; i < nbb_cells.length; ++i) {\n",
       "                    if (nbb_cells[i].input_prompt_number == nbb_cell_id) {\n",
       "                        if (nbb_cells[i].get_text() == nbb_unformatted_code) {\n",
       "                             nbb_cells[i].set_text(nbb_formatted_code);\n",
       "                        }\n",
       "                        break;\n",
       "                    }\n",
       "                }\n",
       "            }, 500);\n",
       "            "
      ],
      "text/plain": [
       "<IPython.core.display.Javascript object>"
      ]
     },
     "metadata": {},
     "output_type": "display_data"
    }
   ],
   "source": [
    "%load_ext nb_black"
   ]
  },
  {
   "cell_type": "code",
   "execution_count": 2,
   "id": "de363dc8",
   "metadata": {
    "execution": {
     "iopub.execute_input": "2024-09-05T02:22:40.243401Z",
     "iopub.status.busy": "2024-09-05T02:22:40.242920Z",
     "iopub.status.idle": "2024-09-05T02:22:42.745520Z",
     "shell.execute_reply": "2024-09-05T02:22:42.744629Z"
    },
    "papermill": {
     "duration": 2.520555,
     "end_time": "2024-09-05T02:22:42.749135",
     "exception": false,
     "start_time": "2024-09-05T02:22:40.228580",
     "status": "completed"
    },
    "tags": []
   },
   "outputs": [
    {
     "name": "stderr",
     "output_type": "stream",
     "text": [
      "2024-09-04 23:22:41.172299: I tensorflow/core/util/port.cc:110] oneDNN custom operations are on. You may see slightly different numerical results due to floating-point round-off errors from different computation orders. To turn them off, set the environment variable `TF_ENABLE_ONEDNN_OPTS=0`.\n",
      "2024-09-04 23:22:41.174824: I tensorflow/tsl/cuda/cudart_stub.cc:28] Could not find cuda drivers on your machine, GPU will not be used.\n",
      "2024-09-04 23:22:41.221251: I tensorflow/tsl/cuda/cudart_stub.cc:28] Could not find cuda drivers on your machine, GPU will not be used.\n",
      "2024-09-04 23:22:41.222350: I tensorflow/core/platform/cpu_feature_guard.cc:182] This TensorFlow binary is optimized to use available CPU instructions in performance-critical operations.\n",
      "To enable the following instructions: AVX2 AVX512F AVX512_VNNI FMA, in other operations, rebuild TensorFlow with the appropriate compiler flags.\n"
     ]
    },
    {
     "name": "stderr",
     "output_type": "stream",
     "text": [
      "2024-09-04 23:22:42.068427: W tensorflow/compiler/tf2tensorrt/utils/py_utils.cc:38] TF-TRT Warning: Could not find TensorRT\n"
     ]
    },
    {
     "data": {
      "application/javascript": [
       "\n",
       "            setTimeout(function() {\n",
       "                var nbb_cell_id = 2;\n",
       "                var nbb_unformatted_code = \"# Database Reading and Manipulation\\nimport pandas as pd\\n\\n# Linear Algebra\\nimport numpy as np\\n\\n# Time\\nimport time\\n\\n# Random and os for reproducibility\\nimport random\\nimport os\\n\\n# Model Selection\\nfrom sklearn.model_selection import train_test_split\\nfrom sklearn.model_selection import TimeSeriesSplit\\nfrom sklearn.model_selection import RepeatedKFold\\nfrom sklearn.model_selection import cross_validate\\n\\n# Modeling\\nimport tensorflow as tf\\n\\n# Processing\\nfrom sklearn.preprocessing import StandardScaler\\n\\n# Pipeline\\nfrom sklearn.pipeline import Pipeline\\n\\n# Data imputation\\nfrom sklearn.impute import SimpleImputer\\n\\n# Making keras compatible with scikit learn api\\n# https://scikit-learn.org/stable/developers/develop.html\\nfrom sklearn.base import RegressorMixin\\n\\n# Custom modules\\n## Model selection\\nfrom src.cross_validation.blocking_time_series_split import BlockingTimeSeriesSplit\\n\\n## Function to print scores\\nfrom src.utils.print_scores import print_scores\\n\\n## Function to calculate score regression metrics\\nfrom src.utils.score_regression_metrics import score_regression_metrics\\n\\n## Function to fill the results metric dict\\nfrom src.utils.fill_results_dict import fill_results_dict\";\n",
       "                var nbb_formatted_code = \"# Database Reading and Manipulation\\nimport pandas as pd\\n\\n# Linear Algebra\\nimport numpy as np\\n\\n# Time\\nimport time\\n\\n# Random and os for reproducibility\\nimport random\\nimport os\\n\\n# Model Selection\\nfrom sklearn.model_selection import train_test_split\\nfrom sklearn.model_selection import TimeSeriesSplit\\nfrom sklearn.model_selection import RepeatedKFold\\nfrom sklearn.model_selection import cross_validate\\n\\n# Modeling\\nimport tensorflow as tf\\n\\n# Processing\\nfrom sklearn.preprocessing import StandardScaler\\n\\n# Pipeline\\nfrom sklearn.pipeline import Pipeline\\n\\n# Data imputation\\nfrom sklearn.impute import SimpleImputer\\n\\n# Making keras compatible with scikit learn api\\n# https://scikit-learn.org/stable/developers/develop.html\\nfrom sklearn.base import RegressorMixin\\n\\n# Custom modules\\n## Model selection\\nfrom src.cross_validation.blocking_time_series_split import BlockingTimeSeriesSplit\\n\\n## Function to print scores\\nfrom src.utils.print_scores import print_scores\\n\\n## Function to calculate score regression metrics\\nfrom src.utils.score_regression_metrics import score_regression_metrics\\n\\n## Function to fill the results metric dict\\nfrom src.utils.fill_results_dict import fill_results_dict\";\n",
       "                var nbb_cells = Jupyter.notebook.get_cells();\n",
       "                for (var i = 0; i < nbb_cells.length; ++i) {\n",
       "                    if (nbb_cells[i].input_prompt_number == nbb_cell_id) {\n",
       "                        if (nbb_cells[i].get_text() == nbb_unformatted_code) {\n",
       "                             nbb_cells[i].set_text(nbb_formatted_code);\n",
       "                        }\n",
       "                        break;\n",
       "                    }\n",
       "                }\n",
       "            }, 500);\n",
       "            "
      ],
      "text/plain": [
       "<IPython.core.display.Javascript object>"
      ]
     },
     "metadata": {},
     "output_type": "display_data"
    }
   ],
   "source": [
    "# Database Reading and Manipulation\n",
    "import pandas as pd\n",
    "\n",
    "# Linear Algebra\n",
    "import numpy as np\n",
    "\n",
    "# Time\n",
    "import time\n",
    "\n",
    "# Random and os for reproducibility\n",
    "import random\n",
    "import os\n",
    "\n",
    "# Model Selection\n",
    "from sklearn.model_selection import train_test_split\n",
    "from sklearn.model_selection import TimeSeriesSplit\n",
    "from sklearn.model_selection import RepeatedKFold\n",
    "from sklearn.model_selection import cross_validate\n",
    "\n",
    "# Modeling\n",
    "import tensorflow as tf\n",
    "\n",
    "# Processing\n",
    "from sklearn.preprocessing import StandardScaler\n",
    "\n",
    "# Pipeline\n",
    "from sklearn.pipeline import Pipeline\n",
    "\n",
    "# Data imputation\n",
    "from sklearn.impute import SimpleImputer\n",
    "\n",
    "# Making keras compatible with scikit learn api\n",
    "# https://scikit-learn.org/stable/developers/develop.html\n",
    "from sklearn.base import RegressorMixin\n",
    "\n",
    "# Custom modules\n",
    "## Model selection\n",
    "from src.cross_validation.blocking_time_series_split import BlockingTimeSeriesSplit\n",
    "\n",
    "## Function to print scores\n",
    "from src.utils.print_scores import print_scores\n",
    "\n",
    "## Function to calculate score regression metrics\n",
    "from src.utils.score_regression_metrics import score_regression_metrics\n",
    "\n",
    "## Function to fill the results metric dict\n",
    "from src.utils.fill_results_dict import fill_results_dict"
   ]
  },
  {
   "cell_type": "markdown",
   "id": "1712c98b",
   "metadata": {
    "papermill": {
     "duration": 0.013703,
     "end_time": "2024-09-05T02:22:42.777446",
     "exception": false,
     "start_time": "2024-09-05T02:22:42.763743",
     "status": "completed"
    },
    "tags": []
   },
   "source": [
    "# Functions and definitions"
   ]
  },
  {
   "cell_type": "code",
   "execution_count": 3,
   "id": "e30e8571",
   "metadata": {
    "execution": {
     "iopub.execute_input": "2024-09-05T02:22:42.804149Z",
     "iopub.status.busy": "2024-09-05T02:22:42.803402Z",
     "iopub.status.idle": "2024-09-05T02:22:42.823302Z",
     "shell.execute_reply": "2024-09-05T02:22:42.822390Z"
    },
    "papermill": {
     "duration": 0.03572,
     "end_time": "2024-09-05T02:22:42.826422",
     "exception": false,
     "start_time": "2024-09-05T02:22:42.790702",
     "status": "completed"
    },
    "tags": []
   },
   "outputs": [
    {
     "data": {
      "application/javascript": [
       "\n",
       "            setTimeout(function() {\n",
       "                var nbb_cell_id = 3;\n",
       "                var nbb_unformatted_code = \"class MLP(RegressorMixin):\\n    def __init__(self):\\n        self.model = self.get_model()\\n        self.batch_size = 32\\n        self.epochs = 300\\n        self.verbose = 0\\n\\n    def fit(self, X=None, y=None):\\n        self.model.fit(\\n            X, y, batch_size=self.batch_size, epochs=self.epochs, verbose=self.verbose\\n        )\\n\\n    def predict(self, X=None):\\n        return self.model.predict(X, verbose=self.verbose)\\n\\n    def get_model(self):\\n        model = tf.keras.Sequential()\\n        model.add(tf.keras.layers.Dense(units=32, activation=\\\"relu\\\")),\\n        model.add(tf.keras.layers.Dropout(rate=0.10))\\n        model.add(tf.keras.layers.Dense(units=1))\\n        model.compile(\\n            optimizer=tf.keras.optimizers.legacy.Adam(learning_rate=0.001),\\n            loss=\\\"mse\\\",\\n            metrics=[tf.keras.metrics.RootMeanSquaredError(name=\\\"RMSE\\\")],\\n        )\\n        return model\";\n",
       "                var nbb_formatted_code = \"class MLP(RegressorMixin):\\n    def __init__(self):\\n        self.model = self.get_model()\\n        self.batch_size = 32\\n        self.epochs = 300\\n        self.verbose = 0\\n\\n    def fit(self, X=None, y=None):\\n        self.model.fit(\\n            X, y, batch_size=self.batch_size, epochs=self.epochs, verbose=self.verbose\\n        )\\n\\n    def predict(self, X=None):\\n        return self.model.predict(X, verbose=self.verbose)\\n\\n    def get_model(self):\\n        model = tf.keras.Sequential()\\n        model.add(tf.keras.layers.Dense(units=32, activation=\\\"relu\\\")),\\n        model.add(tf.keras.layers.Dropout(rate=0.10))\\n        model.add(tf.keras.layers.Dense(units=1))\\n        model.compile(\\n            optimizer=tf.keras.optimizers.legacy.Adam(learning_rate=0.001),\\n            loss=\\\"mse\\\",\\n            metrics=[tf.keras.metrics.RootMeanSquaredError(name=\\\"RMSE\\\")],\\n        )\\n        return model\";\n",
       "                var nbb_cells = Jupyter.notebook.get_cells();\n",
       "                for (var i = 0; i < nbb_cells.length; ++i) {\n",
       "                    if (nbb_cells[i].input_prompt_number == nbb_cell_id) {\n",
       "                        if (nbb_cells[i].get_text() == nbb_unformatted_code) {\n",
       "                             nbb_cells[i].set_text(nbb_formatted_code);\n",
       "                        }\n",
       "                        break;\n",
       "                    }\n",
       "                }\n",
       "            }, 500);\n",
       "            "
      ],
      "text/plain": [
       "<IPython.core.display.Javascript object>"
      ]
     },
     "metadata": {},
     "output_type": "display_data"
    }
   ],
   "source": [
    "class MLP(RegressorMixin):\n",
    "    def __init__(self):\n",
    "        self.model = self.get_model()\n",
    "        self.batch_size = 32\n",
    "        self.epochs = 300\n",
    "        self.verbose = 0\n",
    "\n",
    "    def fit(self, X=None, y=None):\n",
    "        self.model.fit(\n",
    "            X, y, batch_size=self.batch_size, epochs=self.epochs, verbose=self.verbose\n",
    "        )\n",
    "\n",
    "    def predict(self, X=None):\n",
    "        return self.model.predict(X, verbose=self.verbose)\n",
    "\n",
    "    def get_model(self):\n",
    "        model = tf.keras.Sequential()\n",
    "        model.add(tf.keras.layers.Dense(units=32, activation=\"relu\")),\n",
    "        model.add(tf.keras.layers.Dropout(rate=0.10))\n",
    "        model.add(tf.keras.layers.Dense(units=1))\n",
    "        model.compile(\n",
    "            optimizer=tf.keras.optimizers.legacy.Adam(learning_rate=0.001),\n",
    "            loss=\"mse\",\n",
    "            metrics=[tf.keras.metrics.RootMeanSquaredError(name=\"RMSE\")],\n",
    "        )\n",
    "        return model"
   ]
  },
  {
   "cell_type": "markdown",
   "id": "bc906323",
   "metadata": {
    "papermill": {
     "duration": 0.014729,
     "end_time": "2024-09-05T02:22:42.855509",
     "exception": false,
     "start_time": "2024-09-05T02:22:42.840780",
     "status": "completed"
    },
    "tags": []
   },
   "source": [
    "# Settings for Reproducibility"
   ]
  },
  {
   "cell_type": "code",
   "execution_count": 4,
   "id": "42825ee3",
   "metadata": {
    "execution": {
     "iopub.execute_input": "2024-09-05T02:22:42.919836Z",
     "iopub.status.busy": "2024-09-05T02:22:42.919324Z",
     "iopub.status.idle": "2024-09-05T02:22:43.051354Z",
     "shell.execute_reply": "2024-09-05T02:22:43.050141Z"
    },
    "papermill": {
     "duration": 0.16791,
     "end_time": "2024-09-05T02:22:43.054825",
     "exception": false,
     "start_time": "2024-09-05T02:22:42.886915",
     "status": "completed"
    },
    "tags": []
   },
   "outputs": [
    {
     "data": {
      "application/javascript": [
       "\n",
       "            setTimeout(function() {\n",
       "                var nbb_cell_id = 4;\n",
       "                var nbb_unformatted_code = \"def set_seeds():\\n    os.environ[\\\"CUDA_VISIBLE_DEVICES\\\"] = \\\"\\\"\\n    os.environ[\\\"PYTHONHASHSEED\\\"] = str(SEED)\\n    tf.random.set_seed(SEED)\\n    np.random.seed(SEED)\\n    random.seed(SEED)\\n\\n\\n# https://stackoverflow.com/questions/36288235/how-to-get-stable-results-with-tensorflow-setting-random-seed\";\n",
       "                var nbb_formatted_code = \"def set_seeds():\\n    os.environ[\\\"CUDA_VISIBLE_DEVICES\\\"] = \\\"\\\"\\n    os.environ[\\\"PYTHONHASHSEED\\\"] = str(SEED)\\n    tf.random.set_seed(SEED)\\n    np.random.seed(SEED)\\n    random.seed(SEED)\\n\\n\\n# https://stackoverflow.com/questions/36288235/how-to-get-stable-results-with-tensorflow-setting-random-seed\";\n",
       "                var nbb_cells = Jupyter.notebook.get_cells();\n",
       "                for (var i = 0; i < nbb_cells.length; ++i) {\n",
       "                    if (nbb_cells[i].input_prompt_number == nbb_cell_id) {\n",
       "                        if (nbb_cells[i].get_text() == nbb_unformatted_code) {\n",
       "                             nbb_cells[i].set_text(nbb_formatted_code);\n",
       "                        }\n",
       "                        break;\n",
       "                    }\n",
       "                }\n",
       "            }, 500);\n",
       "            "
      ],
      "text/plain": [
       "<IPython.core.display.Javascript object>"
      ]
     },
     "metadata": {},
     "output_type": "display_data"
    }
   ],
   "source": [
    "def set_seeds():\n",
    "    os.environ[\"CUDA_VISIBLE_DEVICES\"] = \"\"\n",
    "    os.environ[\"PYTHONHASHSEED\"] = str(SEED)\n",
    "    tf.random.set_seed(SEED)\n",
    "    np.random.seed(SEED)\n",
    "    random.seed(SEED)\n",
    "\n",
    "\n",
    "# https://stackoverflow.com/questions/36288235/how-to-get-stable-results-with-tensorflow-setting-random-seed"
   ]
  },
  {
   "cell_type": "code",
   "execution_count": 5,
   "id": "cedda9b1",
   "metadata": {
    "execution": {
     "iopub.execute_input": "2024-09-05T02:22:43.088430Z",
     "iopub.status.busy": "2024-09-05T02:22:43.087284Z",
     "iopub.status.idle": "2024-09-05T02:22:43.185028Z",
     "shell.execute_reply": "2024-09-05T02:22:43.183763Z"
    },
    "papermill": {
     "duration": 0.119216,
     "end_time": "2024-09-05T02:22:43.188450",
     "exception": false,
     "start_time": "2024-09-05T02:22:43.069234",
     "status": "completed"
    },
    "tags": []
   },
   "outputs": [
    {
     "data": {
      "application/javascript": [
       "\n",
       "            setTimeout(function() {\n",
       "                var nbb_cell_id = 5;\n",
       "                var nbb_unformatted_code = \"index_to_save = 6\";\n",
       "                var nbb_formatted_code = \"index_to_save = 6\";\n",
       "                var nbb_cells = Jupyter.notebook.get_cells();\n",
       "                for (var i = 0; i < nbb_cells.length; ++i) {\n",
       "                    if (nbb_cells[i].input_prompt_number == nbb_cell_id) {\n",
       "                        if (nbb_cells[i].get_text() == nbb_unformatted_code) {\n",
       "                             nbb_cells[i].set_text(nbb_formatted_code);\n",
       "                        }\n",
       "                        break;\n",
       "                    }\n",
       "                }\n",
       "            }, 500);\n",
       "            "
      ],
      "text/plain": [
       "<IPython.core.display.Javascript object>"
      ]
     },
     "metadata": {},
     "output_type": "display_data"
    }
   ],
   "source": [
    "index_to_save = 6"
   ]
  },
  {
   "cell_type": "code",
   "execution_count": 6,
   "id": "b4b932fd",
   "metadata": {
    "execution": {
     "iopub.execute_input": "2024-09-05T02:22:43.222039Z",
     "iopub.status.busy": "2024-09-05T02:22:43.220909Z",
     "iopub.status.idle": "2024-09-05T02:22:43.335110Z",
     "shell.execute_reply": "2024-09-05T02:22:43.333838Z"
    },
    "papermill": {
     "duration": 0.134407,
     "end_time": "2024-09-05T02:22:43.338559",
     "exception": false,
     "start_time": "2024-09-05T02:22:43.204152",
     "status": "completed"
    },
    "tags": []
   },
   "outputs": [
    {
     "data": {
      "application/javascript": [
       "\n",
       "            setTimeout(function() {\n",
       "                var nbb_cell_id = 6;\n",
       "                var nbb_unformatted_code = \"SEED = 47\\nMETRICS = (\\n    \\\"neg_root_mean_squared_error\\\",\\n    \\\"neg_mean_absolute_error\\\",\\n    \\\"neg_mean_absolute_percentage_error\\\",\\n    \\\"r2\\\",\\n)\\nMETRICS_DICT = {\\n    \\\"neg_root_mean_squared_error\\\": \\\"RMSE\\\",\\n    \\\"neg_mean_absolute_error\\\": \\\"MAE\\\",\\n    \\\"neg_mean_absolute_percentage_error\\\": \\\"MAPE\\\",\\n    \\\"r2\\\": \\\"R2\\\",\\n}\";\n",
       "                var nbb_formatted_code = \"SEED = 47\\nMETRICS = (\\n    \\\"neg_root_mean_squared_error\\\",\\n    \\\"neg_mean_absolute_error\\\",\\n    \\\"neg_mean_absolute_percentage_error\\\",\\n    \\\"r2\\\",\\n)\\nMETRICS_DICT = {\\n    \\\"neg_root_mean_squared_error\\\": \\\"RMSE\\\",\\n    \\\"neg_mean_absolute_error\\\": \\\"MAE\\\",\\n    \\\"neg_mean_absolute_percentage_error\\\": \\\"MAPE\\\",\\n    \\\"r2\\\": \\\"R2\\\",\\n}\";\n",
       "                var nbb_cells = Jupyter.notebook.get_cells();\n",
       "                for (var i = 0; i < nbb_cells.length; ++i) {\n",
       "                    if (nbb_cells[i].input_prompt_number == nbb_cell_id) {\n",
       "                        if (nbb_cells[i].get_text() == nbb_unformatted_code) {\n",
       "                             nbb_cells[i].set_text(nbb_formatted_code);\n",
       "                        }\n",
       "                        break;\n",
       "                    }\n",
       "                }\n",
       "            }, 500);\n",
       "            "
      ],
      "text/plain": [
       "<IPython.core.display.Javascript object>"
      ]
     },
     "metadata": {},
     "output_type": "display_data"
    }
   ],
   "source": [
    "SEED = 47\n",
    "METRICS = (\n",
    "    \"neg_root_mean_squared_error\",\n",
    "    \"neg_mean_absolute_error\",\n",
    "    \"neg_mean_absolute_percentage_error\",\n",
    "    \"r2\",\n",
    ")\n",
    "METRICS_DICT = {\n",
    "    \"neg_root_mean_squared_error\": \"RMSE\",\n",
    "    \"neg_mean_absolute_error\": \"MAE\",\n",
    "    \"neg_mean_absolute_percentage_error\": \"MAPE\",\n",
    "    \"r2\": \"R2\",\n",
    "}"
   ]
  },
  {
   "cell_type": "markdown",
   "id": "0bdd9760",
   "metadata": {
    "papermill": {
     "duration": 0.015227,
     "end_time": "2024-09-05T02:22:43.369572",
     "exception": false,
     "start_time": "2024-09-05T02:22:43.354345",
     "status": "completed"
    },
    "tags": []
   },
   "source": [
    "## Defining a dataframe structure to save the results"
   ]
  },
  {
   "cell_type": "code",
   "execution_count": 7,
   "id": "185ca5e1",
   "metadata": {
    "execution": {
     "iopub.execute_input": "2024-09-05T02:22:43.422806Z",
     "iopub.status.busy": "2024-09-05T02:22:43.421641Z",
     "iopub.status.idle": "2024-09-05T02:22:43.507595Z",
     "shell.execute_reply": "2024-09-05T02:22:43.506350Z"
    },
    "papermill": {
     "duration": 0.121763,
     "end_time": "2024-09-05T02:22:43.511062",
     "exception": false,
     "start_time": "2024-09-05T02:22:43.389299",
     "status": "completed"
    },
    "tags": []
   },
   "outputs": [
    {
     "data": {
      "application/javascript": [
       "\n",
       "            setTimeout(function() {\n",
       "                var nbb_cell_id = 7;\n",
       "                var nbb_unformatted_code = \"results_to_save = []\\n\\nresults_dict = {\\n    \\\"Category\\\": \\\"Local Model\\\",\\n    \\\"Company\\\": \\\"204\\\",\\n    \\\"Plant\\\": \\\"F\\\",\\n    \\\"Features\\\": \\\"Chemical + CS1 + CS3\\\",\\n    \\\"Data Shape\\\": None,\\n    \\\"Timesteps\\\": None,\\n    \\\"Model\\\": \\\"MLP\\\",\\n    \\\"Model Params\\\": None,\\n    \\\"Scaler\\\": \\\"Standard Scaler\\\",\\n    \\\"Scaler Params\\\": None,\\n    \\\"Imputer\\\": \\\"Median\\\",\\n    \\\"Imputer Params\\\": None,\\n    \\\"Cross Validation\\\": None,\\n    \\\"Cross Validation Params\\\": np.nan,\\n    \\\"RMSE Train\\\": np.nan,\\n    \\\"MAE Train\\\": np.nan,\\n    \\\"MAPE Train\\\": np.nan,\\n    \\\"R2 Train\\\": np.nan,\\n    \\\"RMSE Test\\\": np.nan,\\n    \\\"MAE Test\\\": np.nan,\\n    \\\"MAPE Test\\\": np.nan,\\n    \\\"R2 Test\\\": np.nan,\\n}\";\n",
       "                var nbb_formatted_code = \"results_to_save = []\\n\\nresults_dict = {\\n    \\\"Category\\\": \\\"Local Model\\\",\\n    \\\"Company\\\": \\\"204\\\",\\n    \\\"Plant\\\": \\\"F\\\",\\n    \\\"Features\\\": \\\"Chemical + CS1 + CS3\\\",\\n    \\\"Data Shape\\\": None,\\n    \\\"Timesteps\\\": None,\\n    \\\"Model\\\": \\\"MLP\\\",\\n    \\\"Model Params\\\": None,\\n    \\\"Scaler\\\": \\\"Standard Scaler\\\",\\n    \\\"Scaler Params\\\": None,\\n    \\\"Imputer\\\": \\\"Median\\\",\\n    \\\"Imputer Params\\\": None,\\n    \\\"Cross Validation\\\": None,\\n    \\\"Cross Validation Params\\\": np.nan,\\n    \\\"RMSE Train\\\": np.nan,\\n    \\\"MAE Train\\\": np.nan,\\n    \\\"MAPE Train\\\": np.nan,\\n    \\\"R2 Train\\\": np.nan,\\n    \\\"RMSE Test\\\": np.nan,\\n    \\\"MAE Test\\\": np.nan,\\n    \\\"MAPE Test\\\": np.nan,\\n    \\\"R2 Test\\\": np.nan,\\n}\";\n",
       "                var nbb_cells = Jupyter.notebook.get_cells();\n",
       "                for (var i = 0; i < nbb_cells.length; ++i) {\n",
       "                    if (nbb_cells[i].input_prompt_number == nbb_cell_id) {\n",
       "                        if (nbb_cells[i].get_text() == nbb_unformatted_code) {\n",
       "                             nbb_cells[i].set_text(nbb_formatted_code);\n",
       "                        }\n",
       "                        break;\n",
       "                    }\n",
       "                }\n",
       "            }, 500);\n",
       "            "
      ],
      "text/plain": [
       "<IPython.core.display.Javascript object>"
      ]
     },
     "metadata": {},
     "output_type": "display_data"
    }
   ],
   "source": [
    "results_to_save = []\n",
    "\n",
    "results_dict = {\n",
    "    \"Category\": \"Local Model\",\n",
    "    \"Company\": \"204\",\n",
    "    \"Plant\": \"F\",\n",
    "    \"Features\": \"Chemical + CS1 + CS3\",\n",
    "    \"Data Shape\": None,\n",
    "    \"Timesteps\": None,\n",
    "    \"Model\": \"MLP\",\n",
    "    \"Model Params\": None,\n",
    "    \"Scaler\": \"Standard Scaler\",\n",
    "    \"Scaler Params\": None,\n",
    "    \"Imputer\": \"Median\",\n",
    "    \"Imputer Params\": None,\n",
    "    \"Cross Validation\": None,\n",
    "    \"Cross Validation Params\": np.nan,\n",
    "    \"RMSE Train\": np.nan,\n",
    "    \"MAE Train\": np.nan,\n",
    "    \"MAPE Train\": np.nan,\n",
    "    \"R2 Train\": np.nan,\n",
    "    \"RMSE Test\": np.nan,\n",
    "    \"MAE Test\": np.nan,\n",
    "    \"MAPE Test\": np.nan,\n",
    "    \"R2 Test\": np.nan,\n",
    "}"
   ]
  },
  {
   "cell_type": "markdown",
   "id": "88bfb66f",
   "metadata": {
    "papermill": {
     "duration": 0.015261,
     "end_time": "2024-09-05T02:22:43.542444",
     "exception": false,
     "start_time": "2024-09-05T02:22:43.527183",
     "status": "completed"
    },
    "tags": []
   },
   "source": [
    "# Reading the dataset"
   ]
  },
  {
   "cell_type": "code",
   "execution_count": 8,
   "id": "68715520",
   "metadata": {
    "execution": {
     "iopub.execute_input": "2024-09-05T02:22:43.601195Z",
     "iopub.status.busy": "2024-09-05T02:22:43.600059Z",
     "iopub.status.idle": "2024-09-05T02:22:43.741715Z",
     "shell.execute_reply": "2024-09-05T02:22:43.740444Z"
    },
    "papermill": {
     "duration": 0.175577,
     "end_time": "2024-09-05T02:22:43.745353",
     "exception": false,
     "start_time": "2024-09-05T02:22:43.569776",
     "status": "completed"
    },
    "tags": []
   },
   "outputs": [
    {
     "data": {
      "application/javascript": [
       "\n",
       "            setTimeout(function() {\n",
       "                var nbb_cell_id = 8;\n",
       "                var nbb_unformatted_code = \"df = pd.read_csv(\\\"../../../../../../data/processed/204/f.csv\\\")\";\n",
       "                var nbb_formatted_code = \"df = pd.read_csv(\\\"../../../../../../data/processed/204/f.csv\\\")\";\n",
       "                var nbb_cells = Jupyter.notebook.get_cells();\n",
       "                for (var i = 0; i < nbb_cells.length; ++i) {\n",
       "                    if (nbb_cells[i].input_prompt_number == nbb_cell_id) {\n",
       "                        if (nbb_cells[i].get_text() == nbb_unformatted_code) {\n",
       "                             nbb_cells[i].set_text(nbb_formatted_code);\n",
       "                        }\n",
       "                        break;\n",
       "                    }\n",
       "                }\n",
       "            }, 500);\n",
       "            "
      ],
      "text/plain": [
       "<IPython.core.display.Javascript object>"
      ]
     },
     "metadata": {},
     "output_type": "display_data"
    }
   ],
   "source": [
    "df = pd.read_csv(\"../../../../../../data/processed/204/f.csv\")"
   ]
  },
  {
   "cell_type": "markdown",
   "id": "bdcb7a75",
   "metadata": {
    "papermill": {
     "duration": 0.015649,
     "end_time": "2024-09-05T02:22:43.777299",
     "exception": false,
     "start_time": "2024-09-05T02:22:43.761650",
     "status": "completed"
    },
    "tags": []
   },
   "source": [
    "## Defining Features\n",
    "\n",
    "In this set of experiments we use all available features"
   ]
  },
  {
   "cell_type": "code",
   "execution_count": 9,
   "id": "db19cf2f",
   "metadata": {
    "execution": {
     "iopub.execute_input": "2024-09-05T02:22:43.824396Z",
     "iopub.status.busy": "2024-09-05T02:22:43.823247Z",
     "iopub.status.idle": "2024-09-05T02:22:43.909041Z",
     "shell.execute_reply": "2024-09-05T02:22:43.907780Z"
    },
    "papermill": {
     "duration": 0.118902,
     "end_time": "2024-09-05T02:22:43.912468",
     "exception": false,
     "start_time": "2024-09-05T02:22:43.793566",
     "status": "completed"
    },
    "tags": []
   },
   "outputs": [
    {
     "data": {
      "application/javascript": [
       "\n",
       "            setTimeout(function() {\n",
       "                var nbb_cell_id = 9;\n",
       "                var nbb_unformatted_code = \"df_copy = df.copy().drop(\\n    [\\n        \\\"Cement_Type\\\",\\n        \\\"Blaine\\\",\\n        \\\"#200\\\",\\n        \\\"#325\\\",\\n        \\\"Final setting time\\\",\\n        \\\"Initial setting time\\\",\\n        \\\"CS7\\\",\\n    ],\\n    axis=1,\\n)\";\n",
       "                var nbb_formatted_code = \"df_copy = df.copy().drop(\\n    [\\n        \\\"Cement_Type\\\",\\n        \\\"Blaine\\\",\\n        \\\"#200\\\",\\n        \\\"#325\\\",\\n        \\\"Final setting time\\\",\\n        \\\"Initial setting time\\\",\\n        \\\"CS7\\\",\\n    ],\\n    axis=1,\\n)\";\n",
       "                var nbb_cells = Jupyter.notebook.get_cells();\n",
       "                for (var i = 0; i < nbb_cells.length; ++i) {\n",
       "                    if (nbb_cells[i].input_prompt_number == nbb_cell_id) {\n",
       "                        if (nbb_cells[i].get_text() == nbb_unformatted_code) {\n",
       "                             nbb_cells[i].set_text(nbb_formatted_code);\n",
       "                        }\n",
       "                        break;\n",
       "                    }\n",
       "                }\n",
       "            }, 500);\n",
       "            "
      ],
      "text/plain": [
       "<IPython.core.display.Javascript object>"
      ]
     },
     "metadata": {},
     "output_type": "display_data"
    }
   ],
   "source": [
    "df_copy = df.copy().drop(\n",
    "    [\n",
    "        \"Cement_Type\",\n",
    "        \"Blaine\",\n",
    "        \"#200\",\n",
    "        \"#325\",\n",
    "        \"Final setting time\",\n",
    "        \"Initial setting time\",\n",
    "        \"CS7\",\n",
    "    ],\n",
    "    axis=1,\n",
    ")"
   ]
  },
  {
   "cell_type": "markdown",
   "id": "4b1ee6b4",
   "metadata": {
    "papermill": {
     "duration": 0.016243,
     "end_time": "2024-09-05T02:22:43.945204",
     "exception": false,
     "start_time": "2024-09-05T02:22:43.928961",
     "status": "completed"
    },
    "tags": []
   },
   "source": [
    "<h2>1. Dataset: df_copy</h2> <br>In this dataset all features are used."
   ]
  },
  {
   "cell_type": "code",
   "execution_count": 10,
   "id": "5b20bcd6",
   "metadata": {
    "execution": {
     "iopub.execute_input": "2024-09-05T02:22:44.000108Z",
     "iopub.status.busy": "2024-09-05T02:22:43.999534Z",
     "iopub.status.idle": "2024-09-05T02:22:44.112608Z",
     "shell.execute_reply": "2024-09-05T02:22:44.111353Z"
    },
    "papermill": {
     "duration": 0.154379,
     "end_time": "2024-09-05T02:22:44.116252",
     "exception": false,
     "start_time": "2024-09-05T02:22:43.961873",
     "status": "completed"
    },
    "tags": []
   },
   "outputs": [
    {
     "data": {
      "application/javascript": [
       "\n",
       "            setTimeout(function() {\n",
       "                var nbb_cell_id = 10;\n",
       "                var nbb_unformatted_code = \"y = df_copy.pop(\\\"CS28\\\").values\\nx = df_copy.drop([\\\"Date\\\"], axis=1)\\ndates = df[\\\"Date\\\"].copy()\";\n",
       "                var nbb_formatted_code = \"y = df_copy.pop(\\\"CS28\\\").values\\nx = df_copy.drop([\\\"Date\\\"], axis=1)\\ndates = df[\\\"Date\\\"].copy()\";\n",
       "                var nbb_cells = Jupyter.notebook.get_cells();\n",
       "                for (var i = 0; i < nbb_cells.length; ++i) {\n",
       "                    if (nbb_cells[i].input_prompt_number == nbb_cell_id) {\n",
       "                        if (nbb_cells[i].get_text() == nbb_unformatted_code) {\n",
       "                             nbb_cells[i].set_text(nbb_formatted_code);\n",
       "                        }\n",
       "                        break;\n",
       "                    }\n",
       "                }\n",
       "            }, 500);\n",
       "            "
      ],
      "text/plain": [
       "<IPython.core.display.Javascript object>"
      ]
     },
     "metadata": {},
     "output_type": "display_data"
    }
   ],
   "source": [
    "y = df_copy.pop(\"CS28\").values\n",
    "x = df_copy.drop([\"Date\"], axis=1)\n",
    "dates = df[\"Date\"].copy()"
   ]
  },
  {
   "cell_type": "markdown",
   "id": "3b7a5d62",
   "metadata": {
    "papermill": {
     "duration": 0.016182,
     "end_time": "2024-09-05T02:22:44.149407",
     "exception": false,
     "start_time": "2024-09-05T02:22:44.133225",
     "status": "completed"
    },
    "tags": []
   },
   "source": [
    "# 1. Multi Layer Perceptron"
   ]
  },
  {
   "cell_type": "markdown",
   "id": "bfaa35dc",
   "metadata": {
    "papermill": {
     "duration": 0.035215,
     "end_time": "2024-09-05T02:22:44.211649",
     "exception": false,
     "start_time": "2024-09-05T02:22:44.176434",
     "status": "completed"
    },
    "tags": []
   },
   "source": [
    "## 1.1 Repeated KFold Cross validation\n",
    "\n",
    "<b>Dataset shape:</b> (594, 38)<br>\n",
    "<b>Repeats:</b>10<br>\n",
    "<b>Splits:</b>10<br>\n",
    "    1. 10 folds of 59 samples each\n",
    "    2. 90% train (535 samples each fold)\n",
    "    3. 10% test (59 samples each fold)\n",
    "<b>Total:</b> 100 models<br>"
   ]
  },
  {
   "cell_type": "code",
   "execution_count": 11,
   "id": "7118e50b",
   "metadata": {
    "execution": {
     "iopub.execute_input": "2024-09-05T02:22:44.283284Z",
     "iopub.status.busy": "2024-09-05T02:22:44.282691Z",
     "iopub.status.idle": "2024-09-05T02:33:25.993291Z",
     "shell.execute_reply": "2024-09-05T02:33:25.992394Z"
    },
    "papermill": {
     "duration": 641.77086,
     "end_time": "2024-09-05T02:33:26.016062",
     "exception": false,
     "start_time": "2024-09-05T02:22:44.245202",
     "status": "completed"
    },
    "scrolled": false,
    "tags": []
   },
   "outputs": [
    {
     "name": "stderr",
     "output_type": "stream",
     "text": [
      "2024-09-04 23:22:44.413033: E tensorflow/compiler/xla/stream_executor/cuda/cuda_driver.cc:268] failed call to cuInit: CUDA_ERROR_NO_DEVICE: no CUDA-capable device is detected\n",
      "2024-09-04 23:22:44.413106: I tensorflow/compiler/xla/stream_executor/cuda/cuda_diagnostics.cc:168] retrieving CUDA diagnostic information for host: inspirada\n",
      "2024-09-04 23:22:44.413120: I tensorflow/compiler/xla/stream_executor/cuda/cuda_diagnostics.cc:175] hostname: inspirada\n",
      "2024-09-04 23:22:44.413346: I tensorflow/compiler/xla/stream_executor/cuda/cuda_diagnostics.cc:199] libcuda reported version is: 535.183.1\n",
      "2024-09-04 23:22:44.413387: I tensorflow/compiler/xla/stream_executor/cuda/cuda_diagnostics.cc:203] kernel reported version is: 535.183.1\n",
      "2024-09-04 23:22:44.413396: I tensorflow/compiler/xla/stream_executor/cuda/cuda_diagnostics.cc:309] kernel version seems to match DSO: 535.183.1\n"
     ]
    },
    {
     "name": "stdout",
     "output_type": "stream",
     "text": [
      "Repeated Cross Validation:\n",
      "Repeats: 3\n",
      "n_splits: 5\n",
      "\n",
      "******\n",
      "[TRAIN]\n",
      "******\n",
      "RMSE: -1.209 (0.022)\n",
      "MAE: -0.950 (0.018)\n",
      "MAPE: -0.022 (0.000)\n",
      "R2: 0.970 (0.001)\n",
      "\n",
      "======================\n",
      "\n",
      "******\n",
      "[TEST]\n",
      "******\n",
      "RMSE: -1.253 (0.063)\n",
      "MAE: -0.973 (0.040)\n",
      "MAPE: -0.022 (0.001)\n",
      "R2: 0.967 (0.004)\n",
      "\n",
      "======================\n",
      "\n",
      "Minutes Elapsed:  10.69423097372055\n"
     ]
    },
    {
     "data": {
      "application/javascript": [
       "\n",
       "            setTimeout(function() {\n",
       "                var nbb_cell_id = 11;\n",
       "                var nbb_unformatted_code = \"set_seeds()\\nstart = time.time()\\n\\nrepeats = 3\\nn_splits = 5\\npipeline = Pipeline(\\n    [\\n        (\\\"imputer\\\", SimpleImputer(strategy=\\\"median\\\")),\\n        (\\\"transformer\\\", StandardScaler()),\\n        (\\\"estimator\\\", MLP()),\\n    ]\\n)\\ncv = RepeatedKFold(n_splits=n_splits, n_repeats=repeats, random_state=SEED)\\nscores = cross_validate(\\n    pipeline,\\n    x,\\n    y,\\n    scoring=METRICS,\\n    cv=cv,\\n    n_jobs=1,\\n    return_train_score=True,\\n)\\nprint(\\\"Repeated Cross Validation:\\\")\\nprint(f\\\"Repeats: {repeats}\\\")\\nprint(f\\\"n_splits: {n_splits}\\\")\\nprint()\\nprint_scores(scores, METRICS, METRICS_DICT)\\n\\nresults_dict_copy = results_dict.copy()\\nresults_dict_copy[\\\"Cross Validation\\\"] = \\\"Repeated KFold\\\"\\nresults_dict_copy[\\\"Cross Validation Params\\\"] = '{\\\"N_Splits\\\": 5, \\\"Repeats\\\": 3}'\\nresults_dict_copy[\\\"Data Shape\\\"] = x.shape\\ndf_results = fill_results_dict(results_dict_copy, scores)\\nresults_to_save.append(df_results)\\n\\nend = time.time()\\nprint(\\\"Minutes Elapsed: \\\", (end - start) / 60)\";\n",
       "                var nbb_formatted_code = \"set_seeds()\\nstart = time.time()\\n\\nrepeats = 3\\nn_splits = 5\\npipeline = Pipeline(\\n    [\\n        (\\\"imputer\\\", SimpleImputer(strategy=\\\"median\\\")),\\n        (\\\"transformer\\\", StandardScaler()),\\n        (\\\"estimator\\\", MLP()),\\n    ]\\n)\\ncv = RepeatedKFold(n_splits=n_splits, n_repeats=repeats, random_state=SEED)\\nscores = cross_validate(\\n    pipeline,\\n    x,\\n    y,\\n    scoring=METRICS,\\n    cv=cv,\\n    n_jobs=1,\\n    return_train_score=True,\\n)\\nprint(\\\"Repeated Cross Validation:\\\")\\nprint(f\\\"Repeats: {repeats}\\\")\\nprint(f\\\"n_splits: {n_splits}\\\")\\nprint()\\nprint_scores(scores, METRICS, METRICS_DICT)\\n\\nresults_dict_copy = results_dict.copy()\\nresults_dict_copy[\\\"Cross Validation\\\"] = \\\"Repeated KFold\\\"\\nresults_dict_copy[\\\"Cross Validation Params\\\"] = '{\\\"N_Splits\\\": 5, \\\"Repeats\\\": 3}'\\nresults_dict_copy[\\\"Data Shape\\\"] = x.shape\\ndf_results = fill_results_dict(results_dict_copy, scores)\\nresults_to_save.append(df_results)\\n\\nend = time.time()\\nprint(\\\"Minutes Elapsed: \\\", (end - start) / 60)\";\n",
       "                var nbb_cells = Jupyter.notebook.get_cells();\n",
       "                for (var i = 0; i < nbb_cells.length; ++i) {\n",
       "                    if (nbb_cells[i].input_prompt_number == nbb_cell_id) {\n",
       "                        if (nbb_cells[i].get_text() == nbb_unformatted_code) {\n",
       "                             nbb_cells[i].set_text(nbb_formatted_code);\n",
       "                        }\n",
       "                        break;\n",
       "                    }\n",
       "                }\n",
       "            }, 500);\n",
       "            "
      ],
      "text/plain": [
       "<IPython.core.display.Javascript object>"
      ]
     },
     "metadata": {},
     "output_type": "display_data"
    }
   ],
   "source": [
    "set_seeds()\n",
    "start = time.time()\n",
    "\n",
    "repeats = 3\n",
    "n_splits = 5\n",
    "pipeline = Pipeline(\n",
    "    [\n",
    "        (\"imputer\", SimpleImputer(strategy=\"median\")),\n",
    "        (\"transformer\", StandardScaler()),\n",
    "        (\"estimator\", MLP()),\n",
    "    ]\n",
    ")\n",
    "cv = RepeatedKFold(n_splits=n_splits, n_repeats=repeats, random_state=SEED)\n",
    "scores = cross_validate(\n",
    "    pipeline,\n",
    "    x,\n",
    "    y,\n",
    "    scoring=METRICS,\n",
    "    cv=cv,\n",
    "    n_jobs=1,\n",
    "    return_train_score=True,\n",
    ")\n",
    "print(\"Repeated Cross Validation:\")\n",
    "print(f\"Repeats: {repeats}\")\n",
    "print(f\"n_splits: {n_splits}\")\n",
    "print()\n",
    "print_scores(scores, METRICS, METRICS_DICT)\n",
    "\n",
    "results_dict_copy = results_dict.copy()\n",
    "results_dict_copy[\"Cross Validation\"] = \"Repeated KFold\"\n",
    "results_dict_copy[\"Cross Validation Params\"] = '{\"N_Splits\": 5, \"Repeats\": 3}'\n",
    "results_dict_copy[\"Data Shape\"] = x.shape\n",
    "df_results = fill_results_dict(results_dict_copy, scores)\n",
    "results_to_save.append(df_results)\n",
    "\n",
    "end = time.time()\n",
    "print(\"Minutes Elapsed: \", (end - start) / 60)"
   ]
  },
  {
   "cell_type": "markdown",
   "id": "ea522cca",
   "metadata": {
    "papermill": {
     "duration": 0.014376,
     "end_time": "2024-09-05T02:33:26.048337",
     "exception": false,
     "start_time": "2024-09-05T02:33:26.033961",
     "status": "completed"
    },
    "tags": []
   },
   "source": [
    "## 1.2. Blocking Time Series Cross Validation\n",
    "\n",
    "<b>Dataset shape:</b> (594, 38)<br>\n",
    "<b>Splits:</b>5<br>    \n",
    "    1. 5 folds of 118 samples\n",
    "    2. 50% train (59 samples each fold)\n",
    "    3. 50% test (59 samples each fold)\n",
    "<b>Total:</b> 5 models<br>"
   ]
  },
  {
   "cell_type": "code",
   "execution_count": 12,
   "id": "b5875346",
   "metadata": {
    "execution": {
     "iopub.execute_input": "2024-09-05T02:33:26.071415Z",
     "iopub.status.busy": "2024-09-05T02:33:26.071100Z",
     "iopub.status.idle": "2024-09-05T02:35:44.472114Z",
     "shell.execute_reply": "2024-09-05T02:35:44.471317Z"
    },
    "papermill": {
     "duration": 138.431518,
     "end_time": "2024-09-05T02:35:44.491265",
     "exception": false,
     "start_time": "2024-09-05T02:33:26.059747",
     "status": "completed"
    },
    "tags": []
   },
   "outputs": [
    {
     "name": "stdout",
     "output_type": "stream",
     "text": [
      "Blocking Time Series Split:\n",
      "Repeats: 3\n",
      "n_splits: 5\n",
      "\n",
      "******\n",
      "[TRAIN]\n",
      "******\n",
      "RMSE: -3.130 (0.170)\n",
      "MAE: -2.425 (0.117)\n",
      "MAPE: -0.056 (0.002)\n",
      "R2: 0.795 (0.029)\n",
      "\n",
      "======================\n",
      "\n",
      "******\n",
      "[TEST]\n",
      "******\n",
      "RMSE: -4.393 (0.509)\n",
      "MAE: -3.433 (0.448)\n",
      "MAPE: -0.079 (0.010)\n",
      "R2: 0.575 (0.089)\n",
      "\n",
      "======================\n",
      "\n",
      "Minutes Elapsed:  2.3051947474479677\n"
     ]
    },
    {
     "data": {
      "application/javascript": [
       "\n",
       "            setTimeout(function() {\n",
       "                var nbb_cell_id = 12;\n",
       "                var nbb_unformatted_code = \"set_seeds()\\nstart = time.time()\\n\\nrepeats = 3\\nn_splits = 5\\ntrain_size = 0.8\\nscores_final = None\\n\\nfor _ in range(repeats):\\n    pipeline = Pipeline(\\n        [\\n            (\\\"imputer\\\", SimpleImputer(strategy=\\\"median\\\")),\\n            (\\\"transformer\\\", StandardScaler()),\\n            (\\\"estimator\\\", MLP()),\\n        ]\\n    )\\n    cv = BlockingTimeSeriesSplit(n_splits=n_splits, train_size=train_size)\\n    scores = cross_validate(\\n        pipeline,\\n        x,\\n        y,\\n        scoring=METRICS,\\n        cv=cv,\\n        # n_jobs=None,\\n        return_train_score=True,\\n    )\\n    if scores_final is None:\\n        scores_final = {key: [] for key, _ in scores.items()}\\n\\n    for key, value in scores.items():\\n        scores_final[key] += [value]\\n\\n\\nprint(\\\"Blocking Time Series Split:\\\")\\nprint(f\\\"Repeats: {repeats}\\\")\\nprint(f\\\"n_splits: {n_splits}\\\")\\nprint()\\nprint_scores(scores_final, METRICS, METRICS_DICT)\\n\\nscores = {key: np.array(val).flatten() for key, val in scores_final.items()}\\nresults_dict_copy = results_dict.copy()\\nresults_dict_copy[\\\"Cross Validation\\\"] = \\\"Blocking Time Series Split\\\"\\nresults_dict_copy[\\n    \\\"Cross Validation Params\\\"\\n] = '{\\\"N_Splits\\\": 5, \\\"Repeats\\\": 3, \\\"train_size\\\": 0.8}'\\nresults_dict_copy[\\\"Data Shape\\\"] = x.shape\\ndf_results = fill_results_dict(results_dict_copy, scores)\\nresults_to_save.append(df_results)\\n\\nend = time.time()\\nprint(\\\"Minutes Elapsed: \\\", (end - start) / 60)\";\n",
       "                var nbb_formatted_code = \"set_seeds()\\nstart = time.time()\\n\\nrepeats = 3\\nn_splits = 5\\ntrain_size = 0.8\\nscores_final = None\\n\\nfor _ in range(repeats):\\n    pipeline = Pipeline(\\n        [\\n            (\\\"imputer\\\", SimpleImputer(strategy=\\\"median\\\")),\\n            (\\\"transformer\\\", StandardScaler()),\\n            (\\\"estimator\\\", MLP()),\\n        ]\\n    )\\n    cv = BlockingTimeSeriesSplit(n_splits=n_splits, train_size=train_size)\\n    scores = cross_validate(\\n        pipeline,\\n        x,\\n        y,\\n        scoring=METRICS,\\n        cv=cv,\\n        # n_jobs=None,\\n        return_train_score=True,\\n    )\\n    if scores_final is None:\\n        scores_final = {key: [] for key, _ in scores.items()}\\n\\n    for key, value in scores.items():\\n        scores_final[key] += [value]\\n\\n\\nprint(\\\"Blocking Time Series Split:\\\")\\nprint(f\\\"Repeats: {repeats}\\\")\\nprint(f\\\"n_splits: {n_splits}\\\")\\nprint()\\nprint_scores(scores_final, METRICS, METRICS_DICT)\\n\\nscores = {key: np.array(val).flatten() for key, val in scores_final.items()}\\nresults_dict_copy = results_dict.copy()\\nresults_dict_copy[\\\"Cross Validation\\\"] = \\\"Blocking Time Series Split\\\"\\nresults_dict_copy[\\n    \\\"Cross Validation Params\\\"\\n] = '{\\\"N_Splits\\\": 5, \\\"Repeats\\\": 3, \\\"train_size\\\": 0.8}'\\nresults_dict_copy[\\\"Data Shape\\\"] = x.shape\\ndf_results = fill_results_dict(results_dict_copy, scores)\\nresults_to_save.append(df_results)\\n\\nend = time.time()\\nprint(\\\"Minutes Elapsed: \\\", (end - start) / 60)\";\n",
       "                var nbb_cells = Jupyter.notebook.get_cells();\n",
       "                for (var i = 0; i < nbb_cells.length; ++i) {\n",
       "                    if (nbb_cells[i].input_prompt_number == nbb_cell_id) {\n",
       "                        if (nbb_cells[i].get_text() == nbb_unformatted_code) {\n",
       "                             nbb_cells[i].set_text(nbb_formatted_code);\n",
       "                        }\n",
       "                        break;\n",
       "                    }\n",
       "                }\n",
       "            }, 500);\n",
       "            "
      ],
      "text/plain": [
       "<IPython.core.display.Javascript object>"
      ]
     },
     "metadata": {},
     "output_type": "display_data"
    }
   ],
   "source": [
    "set_seeds()\n",
    "start = time.time()\n",
    "\n",
    "repeats = 3\n",
    "n_splits = 5\n",
    "train_size = 0.8\n",
    "scores_final = None\n",
    "\n",
    "for _ in range(repeats):\n",
    "    pipeline = Pipeline(\n",
    "        [\n",
    "            (\"imputer\", SimpleImputer(strategy=\"median\")),\n",
    "            (\"transformer\", StandardScaler()),\n",
    "            (\"estimator\", MLP()),\n",
    "        ]\n",
    "    )\n",
    "    cv = BlockingTimeSeriesSplit(n_splits=n_splits, train_size=train_size)\n",
    "    scores = cross_validate(\n",
    "        pipeline,\n",
    "        x,\n",
    "        y,\n",
    "        scoring=METRICS,\n",
    "        cv=cv,\n",
    "        # n_jobs=None,\n",
    "        return_train_score=True,\n",
    "    )\n",
    "    if scores_final is None:\n",
    "        scores_final = {key: [] for key, _ in scores.items()}\n",
    "\n",
    "    for key, value in scores.items():\n",
    "        scores_final[key] += [value]\n",
    "\n",
    "\n",
    "print(\"Blocking Time Series Split:\")\n",
    "print(f\"Repeats: {repeats}\")\n",
    "print(f\"n_splits: {n_splits}\")\n",
    "print()\n",
    "print_scores(scores_final, METRICS, METRICS_DICT)\n",
    "\n",
    "scores = {key: np.array(val).flatten() for key, val in scores_final.items()}\n",
    "results_dict_copy = results_dict.copy()\n",
    "results_dict_copy[\"Cross Validation\"] = \"Blocking Time Series Split\"\n",
    "results_dict_copy[\n",
    "    \"Cross Validation Params\"\n",
    "] = '{\"N_Splits\": 5, \"Repeats\": 3, \"train_size\": 0.8}'\n",
    "results_dict_copy[\"Data Shape\"] = x.shape\n",
    "df_results = fill_results_dict(results_dict_copy, scores)\n",
    "results_to_save.append(df_results)\n",
    "\n",
    "end = time.time()\n",
    "print(\"Minutes Elapsed: \", (end - start) / 60)"
   ]
  },
  {
   "cell_type": "markdown",
   "id": "fe18d9af",
   "metadata": {
    "papermill": {
     "duration": 0.014091,
     "end_time": "2024-09-05T02:35:44.520866",
     "exception": false,
     "start_time": "2024-09-05T02:35:44.506775",
     "status": "completed"
    },
    "tags": []
   },
   "source": [
    "## 1.3. Time Series Split Cross Validation\n",
    "\n",
    "The training set has size i * n_samples // (n_splits + 1) + n_samples % (n_splits + 1) in the i th split, with a test set of size n_samples//(n_splits + 1) by default, where n_samples is the number of samples.\n",
    "\n",
    "\n",
    "<b>Dataset shape:</b> (594, 38)<br>\n",
    "<b>Splits:</b>10<br>    \n",
    "    1. Train: 10 folds of 54, 108, 162, 216, 270, 324, 378, 432, 486 samples each fold\n",
    "    2. Test: 54 samples each fold\n",
    "<b>Total:</b> 10 models<br>"
   ]
  },
  {
   "cell_type": "code",
   "execution_count": 13,
   "id": "3b0d992b",
   "metadata": {
    "execution": {
     "iopub.execute_input": "2024-09-05T02:35:44.544606Z",
     "iopub.status.busy": "2024-09-05T02:35:44.544293Z",
     "iopub.status.idle": "2024-09-05T02:40:44.668963Z",
     "shell.execute_reply": "2024-09-05T02:40:44.667472Z"
    },
    "papermill": {
     "duration": 300.15494,
     "end_time": "2024-09-05T02:40:44.687536",
     "exception": false,
     "start_time": "2024-09-05T02:35:44.532596",
     "status": "completed"
    },
    "tags": []
   },
   "outputs": [
    {
     "name": "stdout",
     "output_type": "stream",
     "text": [
      "Blocking Time Series Split:\n",
      "Repeats: 3\n",
      "n_splits: 5\n",
      "\n",
      "******\n",
      "[TRAIN]\n",
      "******\n",
      "RMSE: -1.620 (0.657)\n",
      "MAE: -1.260 (0.510)\n",
      "MAPE: -0.029 (0.012)\n",
      "R2: 0.938 (0.054)\n",
      "\n",
      "======================\n",
      "\n",
      "******\n",
      "[TEST]\n",
      "******\n",
      "RMSE: -2.169 (1.356)\n",
      "MAE: -1.662 (1.035)\n",
      "MAPE: -0.038 (0.024)\n",
      "R2: 0.859 (0.180)\n",
      "\n",
      "======================\n",
      "\n",
      "Minutes Elapsed:  5.000566426912943\n"
     ]
    },
    {
     "data": {
      "application/javascript": [
       "\n",
       "            setTimeout(function() {\n",
       "                var nbb_cell_id = 13;\n",
       "                var nbb_unformatted_code = \"set_seeds()\\nstart = time.time()\\n\\nscores_final = None\\nrepeats = 3\\nn_splits = 5\\ngap = 0\\n\\nfor _ in range(repeats):\\n    pipeline = Pipeline(\\n        [\\n            (\\\"imputer\\\", SimpleImputer(strategy=\\\"median\\\")),\\n            (\\\"transformer\\\", StandardScaler()),\\n            (\\\"estimator\\\", MLP()),\\n        ]\\n    )\\n    cv = TimeSeriesSplit(gap=gap, max_train_size=None, n_splits=n_splits)\\n\\n    scores = cross_validate(\\n        pipeline,\\n        x,\\n        y,\\n        scoring=METRICS,\\n        cv=cv,\\n        # n_jobs=-1,\\n        return_train_score=True,\\n    )\\n    if scores_final is None:\\n        scores_final = {key: [] for key, _ in scores.items()}\\n    for key, value in scores.items():\\n        scores_final[key] += [value]\\n\\nprint(\\\"Blocking Time Series Split:\\\")\\nprint(f\\\"Repeats: {repeats}\\\")\\nprint(f\\\"n_splits: {n_splits}\\\")\\nprint()\\nprint_scores(scores_final, METRICS, METRICS_DICT)\\n\\n# Saving the results\\nscores = {key: np.array(val).flatten() for key, val in scores_final.items()}\\nresults_dict_copy = results_dict.copy()\\nresults_dict_copy[\\\"Cross Validation\\\"] = \\\"Time Series Split\\\"\\nresults_dict_copy[\\\"Cross Validation Params\\\"] = '{\\\"N_Splits\\\": 5, \\\"Repeats\\\": 3, \\\"Gap\\\": 0}'\\nresults_dict_copy[\\\"Data Shape\\\"] = x.shape\\ndf_results = fill_results_dict(results_dict_copy, scores)\\nresults_to_save.append(df_results)\\n\\nend = time.time()\\nprint(\\\"Minutes Elapsed: \\\", (end - start) / 60)\";\n",
       "                var nbb_formatted_code = \"set_seeds()\\nstart = time.time()\\n\\nscores_final = None\\nrepeats = 3\\nn_splits = 5\\ngap = 0\\n\\nfor _ in range(repeats):\\n    pipeline = Pipeline(\\n        [\\n            (\\\"imputer\\\", SimpleImputer(strategy=\\\"median\\\")),\\n            (\\\"transformer\\\", StandardScaler()),\\n            (\\\"estimator\\\", MLP()),\\n        ]\\n    )\\n    cv = TimeSeriesSplit(gap=gap, max_train_size=None, n_splits=n_splits)\\n\\n    scores = cross_validate(\\n        pipeline,\\n        x,\\n        y,\\n        scoring=METRICS,\\n        cv=cv,\\n        # n_jobs=-1,\\n        return_train_score=True,\\n    )\\n    if scores_final is None:\\n        scores_final = {key: [] for key, _ in scores.items()}\\n    for key, value in scores.items():\\n        scores_final[key] += [value]\\n\\nprint(\\\"Blocking Time Series Split:\\\")\\nprint(f\\\"Repeats: {repeats}\\\")\\nprint(f\\\"n_splits: {n_splits}\\\")\\nprint()\\nprint_scores(scores_final, METRICS, METRICS_DICT)\\n\\n# Saving the results\\nscores = {key: np.array(val).flatten() for key, val in scores_final.items()}\\nresults_dict_copy = results_dict.copy()\\nresults_dict_copy[\\\"Cross Validation\\\"] = \\\"Time Series Split\\\"\\nresults_dict_copy[\\\"Cross Validation Params\\\"] = '{\\\"N_Splits\\\": 5, \\\"Repeats\\\": 3, \\\"Gap\\\": 0}'\\nresults_dict_copy[\\\"Data Shape\\\"] = x.shape\\ndf_results = fill_results_dict(results_dict_copy, scores)\\nresults_to_save.append(df_results)\\n\\nend = time.time()\\nprint(\\\"Minutes Elapsed: \\\", (end - start) / 60)\";\n",
       "                var nbb_cells = Jupyter.notebook.get_cells();\n",
       "                for (var i = 0; i < nbb_cells.length; ++i) {\n",
       "                    if (nbb_cells[i].input_prompt_number == nbb_cell_id) {\n",
       "                        if (nbb_cells[i].get_text() == nbb_unformatted_code) {\n",
       "                             nbb_cells[i].set_text(nbb_formatted_code);\n",
       "                        }\n",
       "                        break;\n",
       "                    }\n",
       "                }\n",
       "            }, 500);\n",
       "            "
      ],
      "text/plain": [
       "<IPython.core.display.Javascript object>"
      ]
     },
     "metadata": {},
     "output_type": "display_data"
    }
   ],
   "source": [
    "set_seeds()\n",
    "start = time.time()\n",
    "\n",
    "scores_final = None\n",
    "repeats = 3\n",
    "n_splits = 5\n",
    "gap = 0\n",
    "\n",
    "for _ in range(repeats):\n",
    "    pipeline = Pipeline(\n",
    "        [\n",
    "            (\"imputer\", SimpleImputer(strategy=\"median\")),\n",
    "            (\"transformer\", StandardScaler()),\n",
    "            (\"estimator\", MLP()),\n",
    "        ]\n",
    "    )\n",
    "    cv = TimeSeriesSplit(gap=gap, max_train_size=None, n_splits=n_splits)\n",
    "\n",
    "    scores = cross_validate(\n",
    "        pipeline,\n",
    "        x,\n",
    "        y,\n",
    "        scoring=METRICS,\n",
    "        cv=cv,\n",
    "        # n_jobs=-1,\n",
    "        return_train_score=True,\n",
    "    )\n",
    "    if scores_final is None:\n",
    "        scores_final = {key: [] for key, _ in scores.items()}\n",
    "    for key, value in scores.items():\n",
    "        scores_final[key] += [value]\n",
    "\n",
    "print(\"Blocking Time Series Split:\")\n",
    "print(f\"Repeats: {repeats}\")\n",
    "print(f\"n_splits: {n_splits}\")\n",
    "print()\n",
    "print_scores(scores_final, METRICS, METRICS_DICT)\n",
    "\n",
    "# Saving the results\n",
    "scores = {key: np.array(val).flatten() for key, val in scores_final.items()}\n",
    "results_dict_copy = results_dict.copy()\n",
    "results_dict_copy[\"Cross Validation\"] = \"Time Series Split\"\n",
    "results_dict_copy[\"Cross Validation Params\"] = '{\"N_Splits\": 5, \"Repeats\": 3, \"Gap\": 0}'\n",
    "results_dict_copy[\"Data Shape\"] = x.shape\n",
    "df_results = fill_results_dict(results_dict_copy, scores)\n",
    "results_to_save.append(df_results)\n",
    "\n",
    "end = time.time()\n",
    "print(\"Minutes Elapsed: \", (end - start) / 60)"
   ]
  },
  {
   "cell_type": "markdown",
   "id": "cd527473",
   "metadata": {
    "papermill": {
     "duration": 0.012456,
     "end_time": "2024-09-05T02:40:44.714958",
     "exception": false,
     "start_time": "2024-09-05T02:40:44.702502",
     "status": "completed"
    },
    "tags": []
   },
   "source": [
    "## 1.4. Out of time Split Cross Validation\n",
    "\n",
    "<b>Dataset shape:</b> (594, 38)<br>\n",
    "<b>Train size: 80%</b><br>\n",
    "<b>Test  size: 20%</b>\n",
    "\n",
    "\n",
    "<b>Splits:</b> 2<br>    \n",
    "    1. Train: 475\n",
    "    2. Test: 118\n",
    "<b>Total:</b> 1 model<br>"
   ]
  },
  {
   "cell_type": "code",
   "execution_count": 14,
   "id": "c7457dce",
   "metadata": {
    "execution": {
     "iopub.execute_input": "2024-09-05T02:40:44.744153Z",
     "iopub.status.busy": "2024-09-05T02:40:44.743393Z",
     "iopub.status.idle": "2024-09-05T02:42:23.282381Z",
     "shell.execute_reply": "2024-09-05T02:42:23.280904Z"
    },
    "papermill": {
     "duration": 98.573418,
     "end_time": "2024-09-05T02:42:23.301235",
     "exception": false,
     "start_time": "2024-09-05T02:40:44.727817",
     "status": "completed"
    },
    "scrolled": false,
    "tags": []
   },
   "outputs": [
    {
     "name": "stdout",
     "output_type": "stream",
     "text": [
      "Out of time Cross Val:\n",
      "Repeats: 3\n",
      "Train: 80% Test: 20%\n",
      "\n"
     ]
    },
    {
     "name": "stdout",
     "output_type": "stream",
     "text": [
      "******\n",
      "[TRAIN]\n",
      "******\n",
      "RMSE: 1.252 (0.010)\n",
      "MAE: 0.974 (0.010)\n",
      "MAPE: 0.022 (0.000)\n",
      "R2: 0.968 (0.001)\n",
      "\n",
      "======================\n",
      "\n",
      "******\n",
      "[TEST]\n",
      "******\n",
      "RMSE: 1.129 (0.030)\n",
      "MAE: 0.882 (0.023)\n",
      "MAPE: 0.021 (0.001)\n",
      "R2: 0.972 (0.002)\n",
      "\n",
      "======================\n",
      "\n",
      "Minutes Elapsed:  1.6401177525520325\n"
     ]
    },
    {
     "data": {
      "application/javascript": [
       "\n",
       "            setTimeout(function() {\n",
       "                var nbb_cell_id = 14;\n",
       "                var nbb_unformatted_code = \"set_seeds()\\nstart = time.time()\\n\\ntest_size = 0.2\\nrepeats = 3\\nscores_final = None\\n\\nprint(\\\"Out of time Cross Val:\\\")\\nprint(f\\\"Repeats: {repeats}\\\")\\nprint(f\\\"Train: {80}%\\\", f\\\"Test: {20}%\\\")\\nprint()\\n\\n\\nfor _ in range(repeats):\\n    x_train, x_test, y_train, y_test = train_test_split(\\n        x, y, test_size=test_size, random_state=SEED, shuffle=False\\n    )\\n\\n    pipeline = Pipeline(\\n        [\\n            (\\\"imputer\\\", SimpleImputer(strategy=\\\"median\\\")),\\n            (\\\"transformer\\\", StandardScaler()),\\n            (\\\"estimator\\\", MLP()),\\n        ]\\n    )\\n\\n    pipeline.fit(x_train, y_train)\\n\\n    y_train_pred = pipeline.predict(x_train)\\n    y_test_pred = pipeline.predict(x_test)\\n\\n    scores = score_regression_metrics(y_train, y_train_pred, y_test, y_test_pred)\\n\\n    if scores_final is None:\\n        scores_final = {key: [] for key, _ in scores.items()}\\n\\n    for key, value in scores.items():\\n        scores_final[key] += [value]\\n\\n# Saving the results\\nresults_dict_copy = results_dict.copy()\\nresults_dict_copy[\\\"Cross Validation\\\"] = \\\"Out of time Split\\\"\\nresults_dict_copy[\\\"Cross Validation Params\\\"] = '{\\\"Test Size\\\": 0.2}'\\nresults_dict_copy[\\\"Data Shape\\\"] = x.shape\\ndf_results = fill_results_dict(\\n    results_dict_copy, {key: value for key, value in scores_final.items()}\\n)\\nresults_to_save.append(df_results)\\n\\nprint_scores(scores_final, METRICS, METRICS_DICT)\\n\\nend = time.time()\\nprint(\\\"Minutes Elapsed: \\\", (end - start) / 60)\";\n",
       "                var nbb_formatted_code = \"set_seeds()\\nstart = time.time()\\n\\ntest_size = 0.2\\nrepeats = 3\\nscores_final = None\\n\\nprint(\\\"Out of time Cross Val:\\\")\\nprint(f\\\"Repeats: {repeats}\\\")\\nprint(f\\\"Train: {80}%\\\", f\\\"Test: {20}%\\\")\\nprint()\\n\\n\\nfor _ in range(repeats):\\n    x_train, x_test, y_train, y_test = train_test_split(\\n        x, y, test_size=test_size, random_state=SEED, shuffle=False\\n    )\\n\\n    pipeline = Pipeline(\\n        [\\n            (\\\"imputer\\\", SimpleImputer(strategy=\\\"median\\\")),\\n            (\\\"transformer\\\", StandardScaler()),\\n            (\\\"estimator\\\", MLP()),\\n        ]\\n    )\\n\\n    pipeline.fit(x_train, y_train)\\n\\n    y_train_pred = pipeline.predict(x_train)\\n    y_test_pred = pipeline.predict(x_test)\\n\\n    scores = score_regression_metrics(y_train, y_train_pred, y_test, y_test_pred)\\n\\n    if scores_final is None:\\n        scores_final = {key: [] for key, _ in scores.items()}\\n\\n    for key, value in scores.items():\\n        scores_final[key] += [value]\\n\\n# Saving the results\\nresults_dict_copy = results_dict.copy()\\nresults_dict_copy[\\\"Cross Validation\\\"] = \\\"Out of time Split\\\"\\nresults_dict_copy[\\\"Cross Validation Params\\\"] = '{\\\"Test Size\\\": 0.2}'\\nresults_dict_copy[\\\"Data Shape\\\"] = x.shape\\ndf_results = fill_results_dict(\\n    results_dict_copy, {key: value for key, value in scores_final.items()}\\n)\\nresults_to_save.append(df_results)\\n\\nprint_scores(scores_final, METRICS, METRICS_DICT)\\n\\nend = time.time()\\nprint(\\\"Minutes Elapsed: \\\", (end - start) / 60)\";\n",
       "                var nbb_cells = Jupyter.notebook.get_cells();\n",
       "                for (var i = 0; i < nbb_cells.length; ++i) {\n",
       "                    if (nbb_cells[i].input_prompt_number == nbb_cell_id) {\n",
       "                        if (nbb_cells[i].get_text() == nbb_unformatted_code) {\n",
       "                             nbb_cells[i].set_text(nbb_formatted_code);\n",
       "                        }\n",
       "                        break;\n",
       "                    }\n",
       "                }\n",
       "            }, 500);\n",
       "            "
      ],
      "text/plain": [
       "<IPython.core.display.Javascript object>"
      ]
     },
     "metadata": {},
     "output_type": "display_data"
    }
   ],
   "source": [
    "set_seeds()\n",
    "start = time.time()\n",
    "\n",
    "test_size = 0.2\n",
    "repeats = 3\n",
    "scores_final = None\n",
    "\n",
    "print(\"Out of time Cross Val:\")\n",
    "print(f\"Repeats: {repeats}\")\n",
    "print(f\"Train: {80}%\", f\"Test: {20}%\")\n",
    "print()\n",
    "\n",
    "\n",
    "for _ in range(repeats):\n",
    "    x_train, x_test, y_train, y_test = train_test_split(\n",
    "        x, y, test_size=test_size, random_state=SEED, shuffle=False\n",
    "    )\n",
    "\n",
    "    pipeline = Pipeline(\n",
    "        [\n",
    "            (\"imputer\", SimpleImputer(strategy=\"median\")),\n",
    "            (\"transformer\", StandardScaler()),\n",
    "            (\"estimator\", MLP()),\n",
    "        ]\n",
    "    )\n",
    "\n",
    "    pipeline.fit(x_train, y_train)\n",
    "\n",
    "    y_train_pred = pipeline.predict(x_train)\n",
    "    y_test_pred = pipeline.predict(x_test)\n",
    "\n",
    "    scores = score_regression_metrics(y_train, y_train_pred, y_test, y_test_pred)\n",
    "\n",
    "    if scores_final is None:\n",
    "        scores_final = {key: [] for key, _ in scores.items()}\n",
    "\n",
    "    for key, value in scores.items():\n",
    "        scores_final[key] += [value]\n",
    "\n",
    "# Saving the results\n",
    "results_dict_copy = results_dict.copy()\n",
    "results_dict_copy[\"Cross Validation\"] = \"Out of time Split\"\n",
    "results_dict_copy[\"Cross Validation Params\"] = '{\"Test Size\": 0.2}'\n",
    "results_dict_copy[\"Data Shape\"] = x.shape\n",
    "df_results = fill_results_dict(\n",
    "    results_dict_copy, {key: value for key, value in scores_final.items()}\n",
    ")\n",
    "results_to_save.append(df_results)\n",
    "\n",
    "print_scores(scores_final, METRICS, METRICS_DICT)\n",
    "\n",
    "end = time.time()\n",
    "print(\"Minutes Elapsed: \", (end - start) / 60)"
   ]
  },
  {
   "cell_type": "code",
   "execution_count": 15,
   "id": "3ecbe3e2",
   "metadata": {
    "execution": {
     "iopub.execute_input": "2024-09-05T02:42:23.335648Z",
     "iopub.status.busy": "2024-09-05T02:42:23.335130Z",
     "iopub.status.idle": "2024-09-05T02:42:23.403949Z",
     "shell.execute_reply": "2024-09-05T02:42:23.402708Z"
    },
    "papermill": {
     "duration": 0.089419,
     "end_time": "2024-09-05T02:42:23.407000",
     "exception": false,
     "start_time": "2024-09-05T02:42:23.317581",
     "status": "completed"
    },
    "tags": []
   },
   "outputs": [
    {
     "data": {
      "text/html": [
       "<div>\n",
       "<style scoped>\n",
       "    .dataframe tbody tr th:only-of-type {\n",
       "        vertical-align: middle;\n",
       "    }\n",
       "\n",
       "    .dataframe tbody tr th {\n",
       "        vertical-align: top;\n",
       "    }\n",
       "\n",
       "    .dataframe thead tr th {\n",
       "        text-align: left;\n",
       "    }\n",
       "</style>\n",
       "<table border=\"1\" class=\"dataframe\">\n",
       "  <thead>\n",
       "    <tr>\n",
       "      <th></th>\n",
       "      <th>Features</th>\n",
       "      <th>Model</th>\n",
       "      <th>Cross Validation</th>\n",
       "      <th colspan=\"2\" halign=\"left\">RMSE Test</th>\n",
       "      <th colspan=\"2\" halign=\"left\">MAE Test</th>\n",
       "      <th colspan=\"2\" halign=\"left\">MAPE Test</th>\n",
       "      <th colspan=\"2\" halign=\"left\">R2 Test</th>\n",
       "    </tr>\n",
       "    <tr>\n",
       "      <th></th>\n",
       "      <th></th>\n",
       "      <th></th>\n",
       "      <th></th>\n",
       "      <th>mean</th>\n",
       "      <th>std</th>\n",
       "      <th>mean</th>\n",
       "      <th>std</th>\n",
       "      <th>mean</th>\n",
       "      <th>std</th>\n",
       "      <th>mean</th>\n",
       "      <th>std</th>\n",
       "    </tr>\n",
       "  </thead>\n",
       "  <tbody>\n",
       "    <tr>\n",
       "      <th>0</th>\n",
       "      <td>Chemical + CS1 + CS3</td>\n",
       "      <td>MLP</td>\n",
       "      <td>Blocking Time Series Split</td>\n",
       "      <td>4.392868</td>\n",
       "      <td>0.509347</td>\n",
       "      <td>3.432548</td>\n",
       "      <td>0.447828</td>\n",
       "      <td>0.078843</td>\n",
       "      <td>0.010469</td>\n",
       "      <td>0.574806</td>\n",
       "      <td>0.088791</td>\n",
       "    </tr>\n",
       "    <tr>\n",
       "      <th>1</th>\n",
       "      <td>Chemical + CS1 + CS3</td>\n",
       "      <td>MLP</td>\n",
       "      <td>Out of time Split</td>\n",
       "      <td>1.128723</td>\n",
       "      <td>0.030476</td>\n",
       "      <td>0.881850</td>\n",
       "      <td>0.022821</td>\n",
       "      <td>0.020587</td>\n",
       "      <td>0.000622</td>\n",
       "      <td>0.971741</td>\n",
       "      <td>0.001537</td>\n",
       "    </tr>\n",
       "    <tr>\n",
       "      <th>2</th>\n",
       "      <td>Chemical + CS1 + CS3</td>\n",
       "      <td>MLP</td>\n",
       "      <td>Repeated KFold</td>\n",
       "      <td>1.252694</td>\n",
       "      <td>0.063019</td>\n",
       "      <td>0.973111</td>\n",
       "      <td>0.039712</td>\n",
       "      <td>0.022257</td>\n",
       "      <td>0.000933</td>\n",
       "      <td>0.967172</td>\n",
       "      <td>0.003695</td>\n",
       "    </tr>\n",
       "    <tr>\n",
       "      <th>3</th>\n",
       "      <td>Chemical + CS1 + CS3</td>\n",
       "      <td>MLP</td>\n",
       "      <td>Time Series Split</td>\n",
       "      <td>2.168503</td>\n",
       "      <td>1.356467</td>\n",
       "      <td>1.662050</td>\n",
       "      <td>1.035212</td>\n",
       "      <td>0.038461</td>\n",
       "      <td>0.024155</td>\n",
       "      <td>0.858926</td>\n",
       "      <td>0.180208</td>\n",
       "    </tr>\n",
       "  </tbody>\n",
       "</table>\n",
       "</div>"
      ],
      "text/plain": [
       "               Features Model            Cross Validation RMSE Test            \\\n",
       "                                                               mean       std   \n",
       "0  Chemical + CS1 + CS3   MLP  Blocking Time Series Split  4.392868  0.509347   \n",
       "1  Chemical + CS1 + CS3   MLP           Out of time Split  1.128723  0.030476   \n",
       "2  Chemical + CS1 + CS3   MLP              Repeated KFold  1.252694  0.063019   \n",
       "3  Chemical + CS1 + CS3   MLP           Time Series Split  2.168503  1.356467   \n",
       "\n",
       "   MAE Test           MAPE Test             R2 Test            \n",
       "       mean       std      mean       std      mean       std  \n",
       "0  3.432548  0.447828  0.078843  0.010469  0.574806  0.088791  \n",
       "1  0.881850  0.022821  0.020587  0.000622  0.971741  0.001537  \n",
       "2  0.973111  0.039712  0.022257  0.000933  0.967172  0.003695  \n",
       "3  1.662050  1.035212  0.038461  0.024155  0.858926  0.180208  "
      ]
     },
     "execution_count": 15,
     "metadata": {},
     "output_type": "execute_result"
    },
    {
     "data": {
      "application/javascript": [
       "\n",
       "            setTimeout(function() {\n",
       "                var nbb_cell_id = 15;\n",
       "                var nbb_unformatted_code = \"pd.concat(results_to_save).reset_index().groupby(\\n    [\\\"Features\\\", \\\"Model\\\", \\\"Cross Validation\\\"], dropna=False\\n)[[\\\"RMSE Test\\\", \\\"MAE Test\\\", \\\"MAPE Test\\\", \\\"R2 Test\\\"]].agg(\\n    [\\\"mean\\\", lambda series: pd.Series(series.std(ddof=0), name=\\\"std\\\")]\\n).reset_index().rename(\\n    columns={\\\"<lambda_0>\\\": \\\"std\\\"}\\n)\";\n",
       "                var nbb_formatted_code = \"pd.concat(results_to_save).reset_index().groupby(\\n    [\\\"Features\\\", \\\"Model\\\", \\\"Cross Validation\\\"], dropna=False\\n)[[\\\"RMSE Test\\\", \\\"MAE Test\\\", \\\"MAPE Test\\\", \\\"R2 Test\\\"]].agg(\\n    [\\\"mean\\\", lambda series: pd.Series(series.std(ddof=0), name=\\\"std\\\")]\\n).reset_index().rename(\\n    columns={\\\"<lambda_0>\\\": \\\"std\\\"}\\n)\";\n",
       "                var nbb_cells = Jupyter.notebook.get_cells();\n",
       "                for (var i = 0; i < nbb_cells.length; ++i) {\n",
       "                    if (nbb_cells[i].input_prompt_number == nbb_cell_id) {\n",
       "                        if (nbb_cells[i].get_text() == nbb_unformatted_code) {\n",
       "                             nbb_cells[i].set_text(nbb_formatted_code);\n",
       "                        }\n",
       "                        break;\n",
       "                    }\n",
       "                }\n",
       "            }, 500);\n",
       "            "
      ],
      "text/plain": [
       "<IPython.core.display.Javascript object>"
      ]
     },
     "metadata": {},
     "output_type": "display_data"
    }
   ],
   "source": [
    "pd.concat(results_to_save).reset_index().groupby(\n",
    "    [\"Features\", \"Model\", \"Cross Validation\"], dropna=False\n",
    ")[[\"RMSE Test\", \"MAE Test\", \"MAPE Test\", \"R2 Test\"]].agg(\n",
    "    [\"mean\", lambda series: pd.Series(series.std(ddof=0), name=\"std\")]\n",
    ").reset_index().rename(\n",
    "    columns={\"<lambda_0>\": \"std\"}\n",
    ")"
   ]
  },
  {
   "cell_type": "markdown",
   "id": "82db45c1",
   "metadata": {
    "papermill": {
     "duration": 0.01488,
     "end_time": "2024-09-05T02:42:23.440681",
     "exception": false,
     "start_time": "2024-09-05T02:42:23.425801",
     "status": "completed"
    },
    "tags": []
   },
   "source": [
    "# Saving the results Dataframe"
   ]
  },
  {
   "cell_type": "markdown",
   "id": "4883c28b",
   "metadata": {
    "papermill": {
     "duration": 0.01708,
     "end_time": "2024-09-05T02:42:23.480418",
     "exception": false,
     "start_time": "2024-09-05T02:42:23.463338",
     "status": "completed"
    },
    "tags": []
   },
   "source": [
    "## Saving the full dataframe"
   ]
  },
  {
   "cell_type": "code",
   "execution_count": 16,
   "id": "6e3ba353",
   "metadata": {
    "execution": {
     "iopub.execute_input": "2024-09-05T02:42:23.514156Z",
     "iopub.status.busy": "2024-09-05T02:42:23.512891Z",
     "iopub.status.idle": "2024-09-05T02:42:23.542801Z",
     "shell.execute_reply": "2024-09-05T02:42:23.541345Z"
    },
    "papermill": {
     "duration": 0.049476,
     "end_time": "2024-09-05T02:42:23.545478",
     "exception": false,
     "start_time": "2024-09-05T02:42:23.496002",
     "status": "completed"
    },
    "tags": []
   },
   "outputs": [
    {
     "data": {
      "application/javascript": [
       "\n",
       "            setTimeout(function() {\n",
       "                var nbb_cell_id = 16;\n",
       "                var nbb_unformatted_code = \"path = f\\\"../../../../../../reports/results/local_models/204/f/full/\\\"\\nfilename = f\\\"mlp_results_full_{index_to_save}.csv\\\"\\n\\npd.concat(results_to_save).to_csv(\\n    path_or_buf=path + filename,\\n    mode=\\\"w\\\",\\n    index=False,\\n    header=True,\\n)\";\n",
       "                var nbb_formatted_code = \"path = f\\\"../../../../../../reports/results/local_models/204/f/full/\\\"\\nfilename = f\\\"mlp_results_full_{index_to_save}.csv\\\"\\n\\npd.concat(results_to_save).to_csv(\\n    path_or_buf=path + filename,\\n    mode=\\\"w\\\",\\n    index=False,\\n    header=True,\\n)\";\n",
       "                var nbb_cells = Jupyter.notebook.get_cells();\n",
       "                for (var i = 0; i < nbb_cells.length; ++i) {\n",
       "                    if (nbb_cells[i].input_prompt_number == nbb_cell_id) {\n",
       "                        if (nbb_cells[i].get_text() == nbb_unformatted_code) {\n",
       "                             nbb_cells[i].set_text(nbb_formatted_code);\n",
       "                        }\n",
       "                        break;\n",
       "                    }\n",
       "                }\n",
       "            }, 500);\n",
       "            "
      ],
      "text/plain": [
       "<IPython.core.display.Javascript object>"
      ]
     },
     "metadata": {},
     "output_type": "display_data"
    }
   ],
   "source": [
    "path = f\"../../../../../../reports/results/local_models/204/f/full/\"\n",
    "filename = f\"mlp_results_full_{index_to_save}.csv\"\n",
    "\n",
    "pd.concat(results_to_save).to_csv(\n",
    "    path_or_buf=path + filename,\n",
    "    mode=\"w\",\n",
    "    index=False,\n",
    "    header=True,\n",
    ")"
   ]
  },
  {
   "cell_type": "markdown",
   "id": "967b19d6",
   "metadata": {
    "papermill": {
     "duration": 0.012895,
     "end_time": "2024-09-05T02:42:23.572442",
     "exception": false,
     "start_time": "2024-09-05T02:42:23.559547",
     "status": "completed"
    },
    "tags": []
   },
   "source": [
    "## Saving the grouped dataframe"
   ]
  },
  {
   "cell_type": "code",
   "execution_count": 17,
   "id": "94e97f73",
   "metadata": {
    "execution": {
     "iopub.execute_input": "2024-09-05T02:42:23.639843Z",
     "iopub.status.busy": "2024-09-05T02:42:23.639320Z",
     "iopub.status.idle": "2024-09-05T02:42:23.783941Z",
     "shell.execute_reply": "2024-09-05T02:42:23.782810Z"
    },
    "papermill": {
     "duration": 0.181224,
     "end_time": "2024-09-05T02:42:23.786841",
     "exception": false,
     "start_time": "2024-09-05T02:42:23.605617",
     "status": "completed"
    },
    "tags": []
   },
   "outputs": [
    {
     "data": {
      "application/javascript": [
       "\n",
       "            setTimeout(function() {\n",
       "                var nbb_cell_id = 17;\n",
       "                var nbb_unformatted_code = \"cols_groupby = [\\n    \\\"Category\\\",\\n    \\\"Company\\\",\\n    \\\"Data Shape\\\",\\n    \\\"Timesteps\\\",\\n    \\\"Features\\\",\\n    \\\"Model\\\",\\n    \\\"Cross Validation\\\",\\n    \\\"Cross Validation Params\\\",\\n]\\n\\ncols_agg = [\\\"RMSE Train\\\", \\\"MAE Train\\\", \\\"MAPE Train\\\", \\\"R2 Train\\\"] + [\\n    \\\"RMSE Test\\\",\\n    \\\"MAE Test\\\",\\n    \\\"MAPE Test\\\",\\n    \\\"R2 Test\\\",\\n]\\n\\npath = \\\"../../../../../../reports/results/local_models/204/f/grouped/\\\"\\nfilename = f\\\"mlp_results_grouped_{index_to_save}.csv\\\"\\n\\n\\ndf_results_to_save = (\\n    pd.concat(results_to_save)\\n    .groupby(cols_groupby, dropna=False)[cols_agg]\\n    .agg([\\\"mean\\\", lambda series: pd.Series(series.std(ddof=0), name=\\\"std\\\")])\\n    .reset_index()\\n    .rename(columns={\\\"<lambda_0>\\\": \\\"std\\\"})\\n)\\n\\ndf_results_to_save.to_csv(\\n    path_or_buf=path + filename,\\n    mode=\\\"w\\\",\\n    index=False,\\n    header=True,\\n)\";\n",
       "                var nbb_formatted_code = \"cols_groupby = [\\n    \\\"Category\\\",\\n    \\\"Company\\\",\\n    \\\"Data Shape\\\",\\n    \\\"Timesteps\\\",\\n    \\\"Features\\\",\\n    \\\"Model\\\",\\n    \\\"Cross Validation\\\",\\n    \\\"Cross Validation Params\\\",\\n]\\n\\ncols_agg = [\\\"RMSE Train\\\", \\\"MAE Train\\\", \\\"MAPE Train\\\", \\\"R2 Train\\\"] + [\\n    \\\"RMSE Test\\\",\\n    \\\"MAE Test\\\",\\n    \\\"MAPE Test\\\",\\n    \\\"R2 Test\\\",\\n]\\n\\npath = \\\"../../../../../../reports/results/local_models/204/f/grouped/\\\"\\nfilename = f\\\"mlp_results_grouped_{index_to_save}.csv\\\"\\n\\n\\ndf_results_to_save = (\\n    pd.concat(results_to_save)\\n    .groupby(cols_groupby, dropna=False)[cols_agg]\\n    .agg([\\\"mean\\\", lambda series: pd.Series(series.std(ddof=0), name=\\\"std\\\")])\\n    .reset_index()\\n    .rename(columns={\\\"<lambda_0>\\\": \\\"std\\\"})\\n)\\n\\ndf_results_to_save.to_csv(\\n    path_or_buf=path + filename,\\n    mode=\\\"w\\\",\\n    index=False,\\n    header=True,\\n)\";\n",
       "                var nbb_cells = Jupyter.notebook.get_cells();\n",
       "                for (var i = 0; i < nbb_cells.length; ++i) {\n",
       "                    if (nbb_cells[i].input_prompt_number == nbb_cell_id) {\n",
       "                        if (nbb_cells[i].get_text() == nbb_unformatted_code) {\n",
       "                             nbb_cells[i].set_text(nbb_formatted_code);\n",
       "                        }\n",
       "                        break;\n",
       "                    }\n",
       "                }\n",
       "            }, 500);\n",
       "            "
      ],
      "text/plain": [
       "<IPython.core.display.Javascript object>"
      ]
     },
     "metadata": {},
     "output_type": "display_data"
    }
   ],
   "source": [
    "cols_groupby = [\n",
    "    \"Category\",\n",
    "    \"Company\",\n",
    "    \"Data Shape\",\n",
    "    \"Timesteps\",\n",
    "    \"Features\",\n",
    "    \"Model\",\n",
    "    \"Cross Validation\",\n",
    "    \"Cross Validation Params\",\n",
    "]\n",
    "\n",
    "cols_agg = [\"RMSE Train\", \"MAE Train\", \"MAPE Train\", \"R2 Train\"] + [\n",
    "    \"RMSE Test\",\n",
    "    \"MAE Test\",\n",
    "    \"MAPE Test\",\n",
    "    \"R2 Test\",\n",
    "]\n",
    "\n",
    "path = \"../../../../../../reports/results/local_models/204/f/grouped/\"\n",
    "filename = f\"mlp_results_grouped_{index_to_save}.csv\"\n",
    "\n",
    "\n",
    "df_results_to_save = (\n",
    "    pd.concat(results_to_save)\n",
    "    .groupby(cols_groupby, dropna=False)[cols_agg]\n",
    "    .agg([\"mean\", lambda series: pd.Series(series.std(ddof=0), name=\"std\")])\n",
    "    .reset_index()\n",
    "    .rename(columns={\"<lambda_0>\": \"std\"})\n",
    ")\n",
    "\n",
    "df_results_to_save.to_csv(\n",
    "    path_or_buf=path + filename,\n",
    "    mode=\"w\",\n",
    "    index=False,\n",
    "    header=True,\n",
    ")"
   ]
  },
  {
   "cell_type": "code",
   "execution_count": null,
   "id": "d07bb075",
   "metadata": {
    "papermill": {
     "duration": 0.017141,
     "end_time": "2024-09-05T02:42:23.818430",
     "exception": false,
     "start_time": "2024-09-05T02:42:23.801289",
     "status": "completed"
    },
    "tags": []
   },
   "outputs": [],
   "source": []
  }
 ],
 "metadata": {
  "kernelspec": {
   "display_name": "ccs28-venv",
   "language": "python",
   "name": "ccs28-venv"
  },
  "language_info": {
   "codemirror_mode": {
    "name": "ipython",
    "version": 3
   },
   "file_extension": ".py",
   "mimetype": "text/x-python",
   "name": "python",
   "nbconvert_exporter": "python",
   "pygments_lexer": "ipython3",
   "version": "3.10.12"
  },
  "papermill": {
   "default_parameters": {},
   "duration": 1186.364894,
   "end_time": "2024-09-05T02:42:25.674753",
   "environment_variables": {},
   "exception": null,
   "input_path": "/home/peressim/projects/ccs28-ml-modelling/notebooks/modelling/local_models/204/mlp/f/chemical-cs1-and-cs3-ds.ipynb",
   "output_path": "/home/peressim/projects/ccs28-ml-modelling/notebooks/modelling/local_models/204/mlp/f/chemical-cs1-and-cs3-ds.ipynb",
   "parameters": {},
   "start_time": "2024-09-05T02:22:39.309859",
   "version": "2.5.0"
  }
 },
 "nbformat": 4,
 "nbformat_minor": 5
}