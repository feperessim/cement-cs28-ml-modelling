{
 "cells": [
  {
   "cell_type": "code",
   "execution_count": 1,
   "id": "bce70ad3",
   "metadata": {
    "execution": {
     "iopub.execute_input": "2024-07-17T10:24:11.970012Z",
     "iopub.status.busy": "2024-07-17T10:24:11.969620Z",
     "iopub.status.idle": "2024-07-17T10:24:12.086559Z",
     "shell.execute_reply": "2024-07-17T10:24:12.085745Z"
    },
    "papermill": {
     "duration": 0.139787,
     "end_time": "2024-07-17T10:24:12.090169",
     "exception": false,
     "start_time": "2024-07-17T10:24:11.950382",
     "status": "completed"
    },
    "tags": []
   },
   "outputs": [
    {
     "data": {
      "application/javascript": [
       "\n",
       "            setTimeout(function() {\n",
       "                var nbb_cell_id = 1;\n",
       "                var nbb_unformatted_code = \"%load_ext nb_black\";\n",
       "                var nbb_formatted_code = \"%load_ext nb_black\";\n",
       "                var nbb_cells = Jupyter.notebook.get_cells();\n",
       "                for (var i = 0; i < nbb_cells.length; ++i) {\n",
       "                    if (nbb_cells[i].input_prompt_number == nbb_cell_id) {\n",
       "                        if (nbb_cells[i].get_text() == nbb_unformatted_code) {\n",
       "                             nbb_cells[i].set_text(nbb_formatted_code);\n",
       "                        }\n",
       "                        break;\n",
       "                    }\n",
       "                }\n",
       "            }, 500);\n",
       "            "
      ],
      "text/plain": [
       "<IPython.core.display.Javascript object>"
      ]
     },
     "metadata": {},
     "output_type": "display_data"
    }
   ],
   "source": [
    "%load_ext nb_black"
   ]
  },
  {
   "cell_type": "code",
   "execution_count": 2,
   "id": "59593f58",
   "metadata": {
    "execution": {
     "iopub.execute_input": "2024-07-17T10:24:12.124452Z",
     "iopub.status.busy": "2024-07-17T10:24:12.124065Z",
     "iopub.status.idle": "2024-07-17T10:24:13.268463Z",
     "shell.execute_reply": "2024-07-17T10:24:13.267468Z"
    },
    "papermill": {
     "duration": 1.165076,
     "end_time": "2024-07-17T10:24:13.271776",
     "exception": false,
     "start_time": "2024-07-17T10:24:12.106700",
     "status": "completed"
    },
    "tags": []
   },
   "outputs": [
    {
     "data": {
      "application/javascript": [
       "\n",
       "            setTimeout(function() {\n",
       "                var nbb_cell_id = 2;\n",
       "                var nbb_unformatted_code = \"# Database Reading and Manipulation\\nimport pandas as pd\\n\\n# Linear Algebra\\nimport numpy as np\\n\\n# Plotting\\nimport matplotlib.pyplot as plt\\n\\n# Processing results\\nimport json\\n\\n# Model Selection\\nfrom sklearn.model_selection import train_test_split\\nfrom sklearn.model_selection import TimeSeriesSplit\\nfrom sklearn.model_selection import RepeatedKFold\\nfrom sklearn.model_selection import cross_val_score\\nfrom sklearn.model_selection import cross_validate\\nfrom sklearn.model_selection import GridSearchCV\\n\\n# Modeling\\nfrom sklearn.linear_model import LinearRegression\\n\\n# Processing\\nfrom sklearn.preprocessing import StandardScaler\\n\\n# Data imputation\\nfrom sklearn.impute import SimpleImputer\\n\\n# Pipeline\\nfrom sklearn.pipeline import Pipeline\\n\\n# Metrics\\nfrom sklearn.metrics import mean_squared_error\\nfrom sklearn.metrics import mean_absolute_error\\nfrom sklearn.metrics import mean_absolute_percentage_error\\nfrom sklearn.metrics import r2_score\\n\\n\\n# Custom modules\\n## Model selection\\nfrom src.cross_validation.blocking_time_series_split import BlockingTimeSeriesSplit\\n\\n## Function to print scores\\nfrom src.utils.print_scores import print_scores\\n\\n## Function to calculate score regression metrics\\nfrom src.utils.score_regression_metrics import score_regression_metrics\\n\\n## Function to fill the results metric dict\\nfrom src.utils.fill_results_dict import fill_results_dict\";\n",
       "                var nbb_formatted_code = \"# Database Reading and Manipulation\\nimport pandas as pd\\n\\n# Linear Algebra\\nimport numpy as np\\n\\n# Plotting\\nimport matplotlib.pyplot as plt\\n\\n# Processing results\\nimport json\\n\\n# Model Selection\\nfrom sklearn.model_selection import train_test_split\\nfrom sklearn.model_selection import TimeSeriesSplit\\nfrom sklearn.model_selection import RepeatedKFold\\nfrom sklearn.model_selection import cross_val_score\\nfrom sklearn.model_selection import cross_validate\\nfrom sklearn.model_selection import GridSearchCV\\n\\n# Modeling\\nfrom sklearn.linear_model import LinearRegression\\n\\n# Processing\\nfrom sklearn.preprocessing import StandardScaler\\n\\n# Data imputation\\nfrom sklearn.impute import SimpleImputer\\n\\n# Pipeline\\nfrom sklearn.pipeline import Pipeline\\n\\n# Metrics\\nfrom sklearn.metrics import mean_squared_error\\nfrom sklearn.metrics import mean_absolute_error\\nfrom sklearn.metrics import mean_absolute_percentage_error\\nfrom sklearn.metrics import r2_score\\n\\n\\n# Custom modules\\n## Model selection\\nfrom src.cross_validation.blocking_time_series_split import BlockingTimeSeriesSplit\\n\\n## Function to print scores\\nfrom src.utils.print_scores import print_scores\\n\\n## Function to calculate score regression metrics\\nfrom src.utils.score_regression_metrics import score_regression_metrics\\n\\n## Function to fill the results metric dict\\nfrom src.utils.fill_results_dict import fill_results_dict\";\n",
       "                var nbb_cells = Jupyter.notebook.get_cells();\n",
       "                for (var i = 0; i < nbb_cells.length; ++i) {\n",
       "                    if (nbb_cells[i].input_prompt_number == nbb_cell_id) {\n",
       "                        if (nbb_cells[i].get_text() == nbb_unformatted_code) {\n",
       "                             nbb_cells[i].set_text(nbb_formatted_code);\n",
       "                        }\n",
       "                        break;\n",
       "                    }\n",
       "                }\n",
       "            }, 500);\n",
       "            "
      ],
      "text/plain": [
       "<IPython.core.display.Javascript object>"
      ]
     },
     "metadata": {},
     "output_type": "display_data"
    }
   ],
   "source": [
    "# Database Reading and Manipulation\n",
    "import pandas as pd\n",
    "\n",
    "# Linear Algebra\n",
    "import numpy as np\n",
    "\n",
    "# Plotting\n",
    "import matplotlib.pyplot as plt\n",
    "\n",
    "# Processing results\n",
    "import json\n",
    "\n",
    "# Model Selection\n",
    "from sklearn.model_selection import train_test_split\n",
    "from sklearn.model_selection import TimeSeriesSplit\n",
    "from sklearn.model_selection import RepeatedKFold\n",
    "from sklearn.model_selection import cross_val_score\n",
    "from sklearn.model_selection import cross_validate\n",
    "from sklearn.model_selection import GridSearchCV\n",
    "\n",
    "# Modeling\n",
    "from sklearn.linear_model import LinearRegression\n",
    "\n",
    "# Processing\n",
    "from sklearn.preprocessing import StandardScaler\n",
    "\n",
    "# Data imputation\n",
    "from sklearn.impute import SimpleImputer\n",
    "\n",
    "# Pipeline\n",
    "from sklearn.pipeline import Pipeline\n",
    "\n",
    "# Metrics\n",
    "from sklearn.metrics import mean_squared_error\n",
    "from sklearn.metrics import mean_absolute_error\n",
    "from sklearn.metrics import mean_absolute_percentage_error\n",
    "from sklearn.metrics import r2_score\n",
    "\n",
    "\n",
    "# Custom modules\n",
    "## Model selection\n",
    "from src.cross_validation.blocking_time_series_split import BlockingTimeSeriesSplit\n",
    "\n",
    "## Function to print scores\n",
    "from src.utils.print_scores import print_scores\n",
    "\n",
    "## Function to calculate score regression metrics\n",
    "from src.utils.score_regression_metrics import score_regression_metrics\n",
    "\n",
    "## Function to fill the results metric dict\n",
    "from src.utils.fill_results_dict import fill_results_dict"
   ]
  },
  {
   "cell_type": "markdown",
   "id": "731922ea",
   "metadata": {
    "papermill": {
     "duration": 0.016566,
     "end_time": "2024-07-17T10:24:13.305493",
     "exception": false,
     "start_time": "2024-07-17T10:24:13.288927",
     "status": "completed"
    },
    "tags": []
   },
   "source": [
    "# Functions and definitions"
   ]
  },
  {
   "cell_type": "code",
   "execution_count": 3,
   "id": "1c95b5b1",
   "metadata": {
    "execution": {
     "iopub.execute_input": "2024-07-17T10:24:13.333609Z",
     "iopub.status.busy": "2024-07-17T10:24:13.333269Z",
     "iopub.status.idle": "2024-07-17T10:24:13.343048Z",
     "shell.execute_reply": "2024-07-17T10:24:13.341957Z"
    },
    "papermill": {
     "duration": 0.025052,
     "end_time": "2024-07-17T10:24:13.345327",
     "exception": false,
     "start_time": "2024-07-17T10:24:13.320275",
     "status": "completed"
    },
    "tags": []
   },
   "outputs": [
    {
     "data": {
      "application/javascript": [
       "\n",
       "            setTimeout(function() {\n",
       "                var nbb_cell_id = 3;\n",
       "                var nbb_unformatted_code = \"SEED = 47\\nMETRICS = (\\n    \\\"neg_root_mean_squared_error\\\",\\n    \\\"neg_mean_absolute_error\\\",\\n    \\\"neg_mean_absolute_percentage_error\\\",\\n    \\\"r2\\\",\\n)\\nMETRICS_DICT = {\\n    \\\"neg_root_mean_squared_error\\\": \\\"RMSE\\\",\\n    \\\"neg_mean_absolute_error\\\": \\\"MAE\\\",\\n    \\\"neg_mean_absolute_percentage_error\\\": \\\"MAPE\\\",\\n    \\\"r2\\\": \\\"R2\\\",\\n}\";\n",
       "                var nbb_formatted_code = \"SEED = 47\\nMETRICS = (\\n    \\\"neg_root_mean_squared_error\\\",\\n    \\\"neg_mean_absolute_error\\\",\\n    \\\"neg_mean_absolute_percentage_error\\\",\\n    \\\"r2\\\",\\n)\\nMETRICS_DICT = {\\n    \\\"neg_root_mean_squared_error\\\": \\\"RMSE\\\",\\n    \\\"neg_mean_absolute_error\\\": \\\"MAE\\\",\\n    \\\"neg_mean_absolute_percentage_error\\\": \\\"MAPE\\\",\\n    \\\"r2\\\": \\\"R2\\\",\\n}\";\n",
       "                var nbb_cells = Jupyter.notebook.get_cells();\n",
       "                for (var i = 0; i < nbb_cells.length; ++i) {\n",
       "                    if (nbb_cells[i].input_prompt_number == nbb_cell_id) {\n",
       "                        if (nbb_cells[i].get_text() == nbb_unformatted_code) {\n",
       "                             nbb_cells[i].set_text(nbb_formatted_code);\n",
       "                        }\n",
       "                        break;\n",
       "                    }\n",
       "                }\n",
       "            }, 500);\n",
       "            "
      ],
      "text/plain": [
       "<IPython.core.display.Javascript object>"
      ]
     },
     "metadata": {},
     "output_type": "display_data"
    }
   ],
   "source": [
    "SEED = 47\n",
    "METRICS = (\n",
    "    \"neg_root_mean_squared_error\",\n",
    "    \"neg_mean_absolute_error\",\n",
    "    \"neg_mean_absolute_percentage_error\",\n",
    "    \"r2\",\n",
    ")\n",
    "METRICS_DICT = {\n",
    "    \"neg_root_mean_squared_error\": \"RMSE\",\n",
    "    \"neg_mean_absolute_error\": \"MAE\",\n",
    "    \"neg_mean_absolute_percentage_error\": \"MAPE\",\n",
    "    \"r2\": \"R2\",\n",
    "}"
   ]
  },
  {
   "cell_type": "markdown",
   "id": "010950db",
   "metadata": {
    "papermill": {
     "duration": 0.014476,
     "end_time": "2024-07-17T10:24:13.370381",
     "exception": false,
     "start_time": "2024-07-17T10:24:13.355905",
     "status": "completed"
    },
    "tags": []
   },
   "source": [
    "## Defining a dataframe structure to save the results"
   ]
  },
  {
   "cell_type": "code",
   "execution_count": 4,
   "id": "ce34f303",
   "metadata": {
    "execution": {
     "iopub.execute_input": "2024-07-17T10:24:13.428626Z",
     "iopub.status.busy": "2024-07-17T10:24:13.427577Z",
     "iopub.status.idle": "2024-07-17T10:24:13.528635Z",
     "shell.execute_reply": "2024-07-17T10:24:13.527520Z"
    },
    "papermill": {
     "duration": 0.135237,
     "end_time": "2024-07-17T10:24:13.531966",
     "exception": false,
     "start_time": "2024-07-17T10:24:13.396729",
     "status": "completed"
    },
    "tags": []
   },
   "outputs": [
    {
     "data": {
      "application/javascript": [
       "\n",
       "            setTimeout(function() {\n",
       "                var nbb_cell_id = 4;\n",
       "                var nbb_unformatted_code = \"results_to_save = []\\n\\nresults_dict = {\\n    \\\"Category\\\": \\\"Local Model\\\",\\n    \\\"Company\\\": \\\"partner_ii\\\",\\n    \\\"Features\\\": \\\"Chemical + Mineralogical + CS1 + CS3 + CS7\\\",\\n    \\\"Data Shape\\\": None,\\n    \\\"Timesteps\\\": None,\\n    \\\"Model\\\": \\\"Linear Regression\\\",\\n    \\\"Model Params\\\": None,\\n    \\\"Scaler\\\": \\\"Standard Scaler\\\",\\n    \\\"Scaler Params\\\": None,\\n    \\\"Imputer\\\": \\\"Median\\\",\\n    \\\"Imputer Params\\\": None,\\n    \\\"Cross Validation\\\": None,\\n    \\\"Cross Validation Params\\\": np.nan,\\n    \\\"RMSE Train\\\": np.nan,\\n    \\\"MAE Train\\\": np.nan,\\n    \\\"MAPE Train\\\": np.nan,\\n    \\\"R2 Train\\\": np.nan,\\n    \\\"RMSE Test\\\": np.nan,\\n    \\\"MAE Test\\\": np.nan,\\n    \\\"MAPE Test\\\": np.nan,\\n    \\\"R2 Test\\\": np.nan,\\n}\";\n",
       "                var nbb_formatted_code = \"results_to_save = []\\n\\nresults_dict = {\\n    \\\"Category\\\": \\\"Local Model\\\",\\n    \\\"Company\\\": \\\"partner_ii\\\",\\n    \\\"Features\\\": \\\"Chemical + Mineralogical + CS1 + CS3 + CS7\\\",\\n    \\\"Data Shape\\\": None,\\n    \\\"Timesteps\\\": None,\\n    \\\"Model\\\": \\\"Linear Regression\\\",\\n    \\\"Model Params\\\": None,\\n    \\\"Scaler\\\": \\\"Standard Scaler\\\",\\n    \\\"Scaler Params\\\": None,\\n    \\\"Imputer\\\": \\\"Median\\\",\\n    \\\"Imputer Params\\\": None,\\n    \\\"Cross Validation\\\": None,\\n    \\\"Cross Validation Params\\\": np.nan,\\n    \\\"RMSE Train\\\": np.nan,\\n    \\\"MAE Train\\\": np.nan,\\n    \\\"MAPE Train\\\": np.nan,\\n    \\\"R2 Train\\\": np.nan,\\n    \\\"RMSE Test\\\": np.nan,\\n    \\\"MAE Test\\\": np.nan,\\n    \\\"MAPE Test\\\": np.nan,\\n    \\\"R2 Test\\\": np.nan,\\n}\";\n",
       "                var nbb_cells = Jupyter.notebook.get_cells();\n",
       "                for (var i = 0; i < nbb_cells.length; ++i) {\n",
       "                    if (nbb_cells[i].input_prompt_number == nbb_cell_id) {\n",
       "                        if (nbb_cells[i].get_text() == nbb_unformatted_code) {\n",
       "                             nbb_cells[i].set_text(nbb_formatted_code);\n",
       "                        }\n",
       "                        break;\n",
       "                    }\n",
       "                }\n",
       "            }, 500);\n",
       "            "
      ],
      "text/plain": [
       "<IPython.core.display.Javascript object>"
      ]
     },
     "metadata": {},
     "output_type": "display_data"
    }
   ],
   "source": [
    "results_to_save = []\n",
    "\n",
    "results_dict = {\n",
    "    \"Category\": \"Local Model\",\n",
    "    \"Company\": \"partner_ii\",\n",
    "    \"Features\": \"Chemical + Mineralogical + CS1 + CS3 + CS7\",\n",
    "    \"Data Shape\": None,\n",
    "    \"Timesteps\": None,\n",
    "    \"Model\": \"Linear Regression\",\n",
    "    \"Model Params\": None,\n",
    "    \"Scaler\": \"Standard Scaler\",\n",
    "    \"Scaler Params\": None,\n",
    "    \"Imputer\": \"Median\",\n",
    "    \"Imputer Params\": None,\n",
    "    \"Cross Validation\": None,\n",
    "    \"Cross Validation Params\": np.nan,\n",
    "    \"RMSE Train\": np.nan,\n",
    "    \"MAE Train\": np.nan,\n",
    "    \"MAPE Train\": np.nan,\n",
    "    \"R2 Train\": np.nan,\n",
    "    \"RMSE Test\": np.nan,\n",
    "    \"MAE Test\": np.nan,\n",
    "    \"MAPE Test\": np.nan,\n",
    "    \"R2 Test\": np.nan,\n",
    "}"
   ]
  },
  {
   "cell_type": "markdown",
   "id": "91384f7e",
   "metadata": {
    "papermill": {
     "duration": 0.021523,
     "end_time": "2024-07-17T10:24:13.570719",
     "exception": false,
     "start_time": "2024-07-17T10:24:13.549196",
     "status": "completed"
    },
    "tags": []
   },
   "source": [
    "# Reading the dataset"
   ]
  },
  {
   "cell_type": "code",
   "execution_count": 5,
   "id": "7789af2e",
   "metadata": {
    "execution": {
     "iopub.execute_input": "2024-07-17T10:24:13.632991Z",
     "iopub.status.busy": "2024-07-17T10:24:13.632585Z",
     "iopub.status.idle": "2024-07-17T10:24:13.772056Z",
     "shell.execute_reply": "2024-07-17T10:24:13.770999Z"
    },
    "papermill": {
     "duration": 0.170846,
     "end_time": "2024-07-17T10:24:13.775512",
     "exception": false,
     "start_time": "2024-07-17T10:24:13.604666",
     "status": "completed"
    },
    "tags": []
   },
   "outputs": [
    {
     "data": {
      "application/javascript": [
       "\n",
       "            setTimeout(function() {\n",
       "                var nbb_cell_id = 5;\n",
       "                var nbb_unformatted_code = \"df = pd.read_csv(\\\"../../../../../../data/processed/partner_ii/cement-shipping.csv\\\")\";\n",
       "                var nbb_formatted_code = \"df = pd.read_csv(\\\"../../../../../../data/processed/partner_ii/cement-shipping.csv\\\")\";\n",
       "                var nbb_cells = Jupyter.notebook.get_cells();\n",
       "                for (var i = 0; i < nbb_cells.length; ++i) {\n",
       "                    if (nbb_cells[i].input_prompt_number == nbb_cell_id) {\n",
       "                        if (nbb_cells[i].get_text() == nbb_unformatted_code) {\n",
       "                             nbb_cells[i].set_text(nbb_formatted_code);\n",
       "                        }\n",
       "                        break;\n",
       "                    }\n",
       "                }\n",
       "            }, 500);\n",
       "            "
      ],
      "text/plain": [
       "<IPython.core.display.Javascript object>"
      ]
     },
     "metadata": {},
     "output_type": "display_data"
    }
   ],
   "source": [
    "df = pd.read_csv(\"../../../../../../data/processed/partner_ii/cement-shipping.csv\")"
   ]
  },
  {
   "cell_type": "markdown",
   "id": "9dc500bb",
   "metadata": {
    "papermill": {
     "duration": 0.023224,
     "end_time": "2024-07-17T10:24:13.816273",
     "exception": false,
     "start_time": "2024-07-17T10:24:13.793049",
     "status": "completed"
    },
    "tags": []
   },
   "source": [
    "## Defining Features\n",
    "\n",
    "In this set of experiments we keep only chemical and mineralogical features yielded by the same testing method/procedure"
   ]
  },
  {
   "cell_type": "code",
   "execution_count": 6,
   "id": "3067c4c7",
   "metadata": {
    "execution": {
     "iopub.execute_input": "2024-07-17T10:24:13.875166Z",
     "iopub.status.busy": "2024-07-17T10:24:13.874884Z",
     "iopub.status.idle": "2024-07-17T10:24:13.952119Z",
     "shell.execute_reply": "2024-07-17T10:24:13.951107Z"
    },
    "papermill": {
     "duration": 0.112944,
     "end_time": "2024-07-17T10:24:13.956335",
     "exception": false,
     "start_time": "2024-07-17T10:24:13.843391",
     "status": "completed"
    },
    "tags": []
   },
   "outputs": [
    {
     "data": {
      "application/javascript": [
       "\n",
       "            setTimeout(function() {\n",
       "                var nbb_cell_id = 6;\n",
       "                var nbb_unformatted_code = \"df_copy = df.drop(\\n    [\\n        # Properties\\n        \\n        \\\"Initial setting time\\\",\\n        \\\"Blaine\\\",\\n        \\\"Sieve 32 um\\\",\\n        \\\"Sieve 45 um\\\",\\n        \\\"Cement_Type\\\",\\n    ],\\n    axis=1,\\n).copy()\";\n",
       "                var nbb_formatted_code = \"df_copy = df.drop(\\n    [\\n        # Properties\\n        \\\"Initial setting time\\\",\\n        \\\"Blaine\\\",\\n        \\\"Sieve 32 um\\\",\\n        \\\"Sieve 45 um\\\",\\n        \\\"Cement_Type\\\",\\n    ],\\n    axis=1,\\n).copy()\";\n",
       "                var nbb_cells = Jupyter.notebook.get_cells();\n",
       "                for (var i = 0; i < nbb_cells.length; ++i) {\n",
       "                    if (nbb_cells[i].input_prompt_number == nbb_cell_id) {\n",
       "                        if (nbb_cells[i].get_text() == nbb_unformatted_code) {\n",
       "                             nbb_cells[i].set_text(nbb_formatted_code);\n",
       "                        }\n",
       "                        break;\n",
       "                    }\n",
       "                }\n",
       "            }, 500);\n",
       "            "
      ],
      "text/plain": [
       "<IPython.core.display.Javascript object>"
      ]
     },
     "metadata": {},
     "output_type": "display_data"
    }
   ],
   "source": [
    "df_copy = df.drop(\n",
    "    [\n",
    "        # Properties\n",
    "        \n",
    "        \"Initial setting time\",\n",
    "        \"Blaine\",\n",
    "        \"Sieve 32 um\",\n",
    "        \"Sieve 45 um\",\n",
    "        \"Cement_Type\",\n",
    "    ],\n",
    "    axis=1,\n",
    ").copy()"
   ]
  },
  {
   "cell_type": "markdown",
   "id": "cb40f2fa",
   "metadata": {
    "papermill": {
     "duration": 0.019861,
     "end_time": "2024-07-17T10:24:13.994428",
     "exception": false,
     "start_time": "2024-07-17T10:24:13.974567",
     "status": "completed"
    },
    "tags": []
   },
   "source": [
    "# 1. Linear Regression"
   ]
  },
  {
   "cell_type": "markdown",
   "id": "7295fd18",
   "metadata": {
    "papermill": {
     "duration": 0.027697,
     "end_time": "2024-07-17T10:24:14.050184",
     "exception": false,
     "start_time": "2024-07-17T10:24:14.022487",
     "status": "completed"
    },
    "tags": []
   },
   "source": [
    "<h2>1. Dataset: df_no_cs</h2> <br>In this dataset the CS1, CS3  and CS7 variables are not considered. Only Chemical and mineralogical features measured by the same method. For this particular dataset, all chemical features, with the exception of LOI were measured by XRF and XRD methods."
   ]
  },
  {
   "cell_type": "code",
   "execution_count": 7,
   "id": "090cfcf5",
   "metadata": {
    "execution": {
     "iopub.execute_input": "2024-07-17T10:24:14.105943Z",
     "iopub.status.busy": "2024-07-17T10:24:14.105508Z",
     "iopub.status.idle": "2024-07-17T10:24:14.183965Z",
     "shell.execute_reply": "2024-07-17T10:24:14.182886Z"
    },
    "papermill": {
     "duration": 0.109216,
     "end_time": "2024-07-17T10:24:14.187153",
     "exception": false,
     "start_time": "2024-07-17T10:24:14.077937",
     "status": "completed"
    },
    "tags": []
   },
   "outputs": [
    {
     "data": {
      "application/javascript": [
       "\n",
       "            setTimeout(function() {\n",
       "                var nbb_cell_id = 7;\n",
       "                var nbb_unformatted_code = \"y = df_copy.pop(\\\"CS28\\\").values\\nx = df_copy.drop([\\\"Date\\\"], axis=1)\\ndates = df[\\\"Date\\\"].copy()\";\n",
       "                var nbb_formatted_code = \"y = df_copy.pop(\\\"CS28\\\").values\\nx = df_copy.drop([\\\"Date\\\"], axis=1)\\ndates = df[\\\"Date\\\"].copy()\";\n",
       "                var nbb_cells = Jupyter.notebook.get_cells();\n",
       "                for (var i = 0; i < nbb_cells.length; ++i) {\n",
       "                    if (nbb_cells[i].input_prompt_number == nbb_cell_id) {\n",
       "                        if (nbb_cells[i].get_text() == nbb_unformatted_code) {\n",
       "                             nbb_cells[i].set_text(nbb_formatted_code);\n",
       "                        }\n",
       "                        break;\n",
       "                    }\n",
       "                }\n",
       "            }, 500);\n",
       "            "
      ],
      "text/plain": [
       "<IPython.core.display.Javascript object>"
      ]
     },
     "metadata": {},
     "output_type": "display_data"
    }
   ],
   "source": [
    "y = df_copy.pop(\"CS28\").values\n",
    "x = df_copy.drop([\"Date\"], axis=1)\n",
    "dates = df[\"Date\"].copy()"
   ]
  },
  {
   "cell_type": "markdown",
   "id": "dc2d9d41",
   "metadata": {
    "papermill": {
     "duration": 0.017867,
     "end_time": "2024-07-17T10:24:14.223618",
     "exception": false,
     "start_time": "2024-07-17T10:24:14.205751",
     "status": "completed"
    },
    "tags": []
   },
   "source": [
    "## 1.1 Repeated KFold Cross validation\n",
    "\n",
    "<b>Dataset shape:</b> (1234, 38)<br>\n",
    "<b>Repeats:</b>10<br>\n",
    "<b>Splits:</b>10<br>\n",
    "    1. 10 folds of 123 samples each\n",
    "    2. 90% train (1111 samples each fold)\n",
    "    3. 10% test (123 samples each fold)\n",
    "<b>Total:</b> 100 models<br>"
   ]
  },
  {
   "cell_type": "code",
   "execution_count": 8,
   "id": "1c94a002",
   "metadata": {
    "execution": {
     "iopub.execute_input": "2024-07-17T10:24:14.285650Z",
     "iopub.status.busy": "2024-07-17T10:24:14.285420Z",
     "iopub.status.idle": "2024-07-17T10:24:15.696383Z",
     "shell.execute_reply": "2024-07-17T10:24:15.694827Z"
    },
    "papermill": {
     "duration": 1.450373,
     "end_time": "2024-07-17T10:24:15.701936",
     "exception": false,
     "start_time": "2024-07-17T10:24:14.251563",
     "status": "completed"
    },
    "scrolled": false,
    "tags": []
   },
   "outputs": [
    {
     "name": "stdout",
     "output_type": "stream",
     "text": [
      "Repeated Cross Validation:\n",
      "Repeats: 3\n",
      "n_splits: 5\n",
      "\n",
      "******\n",
      "[TRAIN]\n",
      "******\n",
      "RMSE: -1.466 (0.017)\n",
      "MAE: -1.155 (0.012)\n",
      "MAPE: -0.027 (0.000)\n",
      "R2: 0.827 (0.005)\n",
      "\n",
      "======================\n",
      "\n",
      "******\n",
      "[TEST]\n",
      "******\n",
      "RMSE: -1.501 (0.068)\n",
      "MAE: -1.182 (0.057)\n",
      "MAPE: -0.028 (0.001)\n",
      "R2: 0.816 (0.019)\n",
      "\n",
      "======================\n",
      "\n"
     ]
    },
    {
     "data": {
      "application/javascript": [
       "\n",
       "            setTimeout(function() {\n",
       "                var nbb_cell_id = 8;\n",
       "                var nbb_unformatted_code = \"repeats = 3\\nn_splits = 5\\npipeline = Pipeline(\\n    [\\n        (\\\"imputer\\\", SimpleImputer(strategy=\\\"median\\\")),\\n        (\\\"transformer\\\", StandardScaler()),\\n        (\\\"estimator\\\", LinearRegression()),\\n    ]\\n)\\ncv = RepeatedKFold(n_splits=n_splits, n_repeats=repeats, random_state=SEED)\\nscores = cross_validate(\\n    pipeline,\\n    x,\\n    y,\\n    scoring=METRICS,\\n    cv=cv,\\n    n_jobs=-1,\\n    return_train_score=True,\\n)\\nprint(\\\"Repeated Cross Validation:\\\")\\nprint(f\\\"Repeats: {repeats}\\\")\\nprint(f\\\"n_splits: {n_splits}\\\")\\nprint()\\nprint_scores(scores, METRICS, METRICS_DICT)\\n\\nresults_dict_copy = results_dict.copy()\\nresults_dict_copy[\\\"Cross Validation\\\"] = \\\"Repeated KFold\\\"\\nresults_dict_copy[\\\"Cross Validation Params\\\"] = '{\\\"N_Splits\\\": 5, \\\"Repeats\\\": 3}'\\nresults_dict_copy[\\\"Data Shape\\\"] = x.shape\\ndf_results = fill_results_dict(results_dict_copy, scores)\\nresults_to_save.append(df_results)\";\n",
       "                var nbb_formatted_code = \"repeats = 3\\nn_splits = 5\\npipeline = Pipeline(\\n    [\\n        (\\\"imputer\\\", SimpleImputer(strategy=\\\"median\\\")),\\n        (\\\"transformer\\\", StandardScaler()),\\n        (\\\"estimator\\\", LinearRegression()),\\n    ]\\n)\\ncv = RepeatedKFold(n_splits=n_splits, n_repeats=repeats, random_state=SEED)\\nscores = cross_validate(\\n    pipeline,\\n    x,\\n    y,\\n    scoring=METRICS,\\n    cv=cv,\\n    n_jobs=-1,\\n    return_train_score=True,\\n)\\nprint(\\\"Repeated Cross Validation:\\\")\\nprint(f\\\"Repeats: {repeats}\\\")\\nprint(f\\\"n_splits: {n_splits}\\\")\\nprint()\\nprint_scores(scores, METRICS, METRICS_DICT)\\n\\nresults_dict_copy = results_dict.copy()\\nresults_dict_copy[\\\"Cross Validation\\\"] = \\\"Repeated KFold\\\"\\nresults_dict_copy[\\\"Cross Validation Params\\\"] = '{\\\"N_Splits\\\": 5, \\\"Repeats\\\": 3}'\\nresults_dict_copy[\\\"Data Shape\\\"] = x.shape\\ndf_results = fill_results_dict(results_dict_copy, scores)\\nresults_to_save.append(df_results)\";\n",
       "                var nbb_cells = Jupyter.notebook.get_cells();\n",
       "                for (var i = 0; i < nbb_cells.length; ++i) {\n",
       "                    if (nbb_cells[i].input_prompt_number == nbb_cell_id) {\n",
       "                        if (nbb_cells[i].get_text() == nbb_unformatted_code) {\n",
       "                             nbb_cells[i].set_text(nbb_formatted_code);\n",
       "                        }\n",
       "                        break;\n",
       "                    }\n",
       "                }\n",
       "            }, 500);\n",
       "            "
      ],
      "text/plain": [
       "<IPython.core.display.Javascript object>"
      ]
     },
     "metadata": {},
     "output_type": "display_data"
    }
   ],
   "source": [
    "repeats = 3\n",
    "n_splits = 5\n",
    "pipeline = Pipeline(\n",
    "    [\n",
    "        (\"imputer\", SimpleImputer(strategy=\"median\")),\n",
    "        (\"transformer\", StandardScaler()),\n",
    "        (\"estimator\", LinearRegression()),\n",
    "    ]\n",
    ")\n",
    "cv = RepeatedKFold(n_splits=n_splits, n_repeats=repeats, random_state=SEED)\n",
    "scores = cross_validate(\n",
    "    pipeline,\n",
    "    x,\n",
    "    y,\n",
    "    scoring=METRICS,\n",
    "    cv=cv,\n",
    "    n_jobs=-1,\n",
    "    return_train_score=True,\n",
    ")\n",
    "print(\"Repeated Cross Validation:\")\n",
    "print(f\"Repeats: {repeats}\")\n",
    "print(f\"n_splits: {n_splits}\")\n",
    "print()\n",
    "print_scores(scores, METRICS, METRICS_DICT)\n",
    "\n",
    "results_dict_copy = results_dict.copy()\n",
    "results_dict_copy[\"Cross Validation\"] = \"Repeated KFold\"\n",
    "results_dict_copy[\"Cross Validation Params\"] = '{\"N_Splits\": 5, \"Repeats\": 3}'\n",
    "results_dict_copy[\"Data Shape\"] = x.shape\n",
    "df_results = fill_results_dict(results_dict_copy, scores)\n",
    "results_to_save.append(df_results)"
   ]
  },
  {
   "cell_type": "code",
   "execution_count": 9,
   "id": "a5d96dc7",
   "metadata": {
    "execution": {
     "iopub.execute_input": "2024-07-17T10:24:15.743168Z",
     "iopub.status.busy": "2024-07-17T10:24:15.742403Z",
     "iopub.status.idle": "2024-07-17T10:24:15.810871Z",
     "shell.execute_reply": "2024-07-17T10:24:15.809601Z"
    },
    "papermill": {
     "duration": 0.091886,
     "end_time": "2024-07-17T10:24:15.813459",
     "exception": false,
     "start_time": "2024-07-17T10:24:15.721573",
     "status": "completed"
    },
    "tags": []
   },
   "outputs": [
    {
     "data": {
      "text/html": [
       "<div>\n",
       "<style scoped>\n",
       "    .dataframe tbody tr th:only-of-type {\n",
       "        vertical-align: middle;\n",
       "    }\n",
       "\n",
       "    .dataframe tbody tr th {\n",
       "        vertical-align: top;\n",
       "    }\n",
       "\n",
       "    .dataframe thead tr th {\n",
       "        text-align: left;\n",
       "    }\n",
       "</style>\n",
       "<table border=\"1\" class=\"dataframe\">\n",
       "  <thead>\n",
       "    <tr>\n",
       "      <th></th>\n",
       "      <th>Features</th>\n",
       "      <th>Model</th>\n",
       "      <th>Cross Validation</th>\n",
       "      <th colspan=\"2\" halign=\"left\">RMSE Test</th>\n",
       "      <th colspan=\"2\" halign=\"left\">MAE Test</th>\n",
       "      <th colspan=\"2\" halign=\"left\">MAPE Test</th>\n",
       "      <th colspan=\"2\" halign=\"left\">R2 Test</th>\n",
       "    </tr>\n",
       "    <tr>\n",
       "      <th></th>\n",
       "      <th></th>\n",
       "      <th></th>\n",
       "      <th></th>\n",
       "      <th>mean</th>\n",
       "      <th>std</th>\n",
       "      <th>mean</th>\n",
       "      <th>std</th>\n",
       "      <th>mean</th>\n",
       "      <th>std</th>\n",
       "      <th>mean</th>\n",
       "      <th>std</th>\n",
       "    </tr>\n",
       "  </thead>\n",
       "  <tbody>\n",
       "    <tr>\n",
       "      <th>0</th>\n",
       "      <td>Chemical + Mineralogical + CS1 + CS3 + CS7</td>\n",
       "      <td>Linear Regression</td>\n",
       "      <td>Repeated KFold</td>\n",
       "      <td>1.500941</td>\n",
       "      <td>0.067769</td>\n",
       "      <td>1.181912</td>\n",
       "      <td>0.057281</td>\n",
       "      <td>0.027776</td>\n",
       "      <td>0.001495</td>\n",
       "      <td>0.816296</td>\n",
       "      <td>0.018653</td>\n",
       "    </tr>\n",
       "  </tbody>\n",
       "</table>\n",
       "</div>"
      ],
      "text/plain": [
       "                                     Features              Model  \\\n",
       "                                                                   \n",
       "0  Chemical + Mineralogical + CS1 + CS3 + CS7  Linear Regression   \n",
       "\n",
       "  Cross Validation RMSE Test            MAE Test           MAPE Test  \\\n",
       "                        mean       std      mean       std      mean   \n",
       "0   Repeated KFold  1.500941  0.067769  1.181912  0.057281  0.027776   \n",
       "\n",
       "              R2 Test            \n",
       "        std      mean       std  \n",
       "0  0.001495  0.816296  0.018653  "
      ]
     },
     "execution_count": 9,
     "metadata": {},
     "output_type": "execute_result"
    },
    {
     "data": {
      "application/javascript": [
       "\n",
       "            setTimeout(function() {\n",
       "                var nbb_cell_id = 9;\n",
       "                var nbb_unformatted_code = \"pd.concat(results_to_save).reset_index().groupby(\\n    [\\\"Features\\\", \\\"Model\\\", \\\"Cross Validation\\\"], dropna=False\\n)[[\\\"RMSE Test\\\", \\\"MAE Test\\\", \\\"MAPE Test\\\", \\\"R2 Test\\\"]].agg(\\n    [\\\"mean\\\", lambda series: pd.Series(series.std(ddof=0), name=\\\"std\\\")]\\n).reset_index().rename(\\n    columns={\\\"<lambda_0>\\\": \\\"std\\\"}\\n)\";\n",
       "                var nbb_formatted_code = \"pd.concat(results_to_save).reset_index().groupby(\\n    [\\\"Features\\\", \\\"Model\\\", \\\"Cross Validation\\\"], dropna=False\\n)[[\\\"RMSE Test\\\", \\\"MAE Test\\\", \\\"MAPE Test\\\", \\\"R2 Test\\\"]].agg(\\n    [\\\"mean\\\", lambda series: pd.Series(series.std(ddof=0), name=\\\"std\\\")]\\n).reset_index().rename(\\n    columns={\\\"<lambda_0>\\\": \\\"std\\\"}\\n)\";\n",
       "                var nbb_cells = Jupyter.notebook.get_cells();\n",
       "                for (var i = 0; i < nbb_cells.length; ++i) {\n",
       "                    if (nbb_cells[i].input_prompt_number == nbb_cell_id) {\n",
       "                        if (nbb_cells[i].get_text() == nbb_unformatted_code) {\n",
       "                             nbb_cells[i].set_text(nbb_formatted_code);\n",
       "                        }\n",
       "                        break;\n",
       "                    }\n",
       "                }\n",
       "            }, 500);\n",
       "            "
      ],
      "text/plain": [
       "<IPython.core.display.Javascript object>"
      ]
     },
     "metadata": {},
     "output_type": "display_data"
    }
   ],
   "source": [
    "pd.concat(results_to_save).reset_index().groupby(\n",
    "    [\"Features\", \"Model\", \"Cross Validation\"], dropna=False\n",
    ")[[\"RMSE Test\", \"MAE Test\", \"MAPE Test\", \"R2 Test\"]].agg(\n",
    "    [\"mean\", lambda series: pd.Series(series.std(ddof=0), name=\"std\")]\n",
    ").reset_index().rename(\n",
    "    columns={\"<lambda_0>\": \"std\"}\n",
    ")"
   ]
  },
  {
   "cell_type": "markdown",
   "id": "1a9a8eb4",
   "metadata": {
    "papermill": {
     "duration": 0.012358,
     "end_time": "2024-07-17T10:24:15.838523",
     "exception": false,
     "start_time": "2024-07-17T10:24:15.826165",
     "status": "completed"
    },
    "tags": []
   },
   "source": [
    "## 1.2. Blocking Time Series Cross Validation\n",
    "\n",
    "<b>Dataset shape:</b> (1234, 38)<br>\n",
    "<b>Splits:</b>5<br>    \n",
    "    1. 5 folds of 246 samples\n",
    "    2. 50% train (123 samples each fold)\n",
    "    3. 50% test (123 samples each fold)\n",
    "<b>Total:</b> 5 models<br>"
   ]
  },
  {
   "cell_type": "code",
   "execution_count": 10,
   "id": "a9a9b1ce",
   "metadata": {
    "execution": {
     "iopub.execute_input": "2024-07-17T10:24:15.944925Z",
     "iopub.status.busy": "2024-07-17T10:24:15.944339Z",
     "iopub.status.idle": "2024-07-17T10:24:16.610325Z",
     "shell.execute_reply": "2024-07-17T10:24:16.608621Z"
    },
    "papermill": {
     "duration": 0.706308,
     "end_time": "2024-07-17T10:24:16.615139",
     "exception": false,
     "start_time": "2024-07-17T10:24:15.908831",
     "status": "completed"
    },
    "scrolled": false,
    "tags": []
   },
   "outputs": [
    {
     "name": "stdout",
     "output_type": "stream",
     "text": [
      "Blocking Time Series Split:\n",
      "Repeats: 3\n",
      "n_splits: 5\n",
      "\n",
      "******\n",
      "[TRAIN]\n",
      "******\n",
      "RMSE: -1.296 (0.112)\n",
      "MAE: -1.021 (0.084)\n",
      "MAPE: -0.024 (0.002)\n",
      "R2: 0.820 (0.050)\n",
      "\n",
      "======================\n",
      "\n",
      "******\n",
      "[TEST]\n",
      "******\n",
      "RMSE: -1.718 (0.236)\n",
      "MAE: -1.390 (0.216)\n",
      "MAPE: -0.032 (0.005)\n",
      "R2: 0.685 (0.109)\n",
      "\n",
      "======================\n",
      "\n"
     ]
    },
    {
     "data": {
      "application/javascript": [
       "\n",
       "            setTimeout(function() {\n",
       "                var nbb_cell_id = 10;\n",
       "                var nbb_unformatted_code = \"n_splits = 5\\ntrain_size = 0.8\\n\\npipeline = Pipeline(\\n    [\\n        (\\\"imputer\\\", SimpleImputer(strategy=\\\"median\\\")),\\n        (\\\"transformer\\\", StandardScaler()),\\n        (\\\"estimator\\\", LinearRegression()),\\n    ]\\n)\\ncv = BlockingTimeSeriesSplit(n_splits=n_splits, train_size=train_size)\\nscores = cross_validate(\\n    pipeline,\\n    x,\\n    y,\\n    scoring=METRICS,\\n    cv=cv,\\n    n_jobs=-1,\\n    return_train_score=True,\\n)\\nprint(\\\"Blocking Time Series Split:\\\")\\nprint(f\\\"Repeats: {repeats}\\\")\\nprint(f\\\"n_splits: {n_splits}\\\")\\nprint()\\nprint_scores(scores, METRICS, METRICS_DICT)\\n\\nresults_dict_copy = results_dict.copy()\\nresults_dict_copy[\\\"Cross Validation\\\"] = \\\"Blocking Time Series Split\\\"\\nresults_dict_copy[\\n    \\\"Cross Validation Params\\\"\\n] = '{\\\"N_Splits\\\": 5, \\\"Repeats\\\": 1, \\\"train_size\\\": 0.8}'\\nresults_dict_copy[\\\"Data Shape\\\"] = x.shape\\ndf_results = fill_results_dict(results_dict_copy, scores)\\nresults_to_save.append(df_results)\";\n",
       "                var nbb_formatted_code = \"n_splits = 5\\ntrain_size = 0.8\\n\\npipeline = Pipeline(\\n    [\\n        (\\\"imputer\\\", SimpleImputer(strategy=\\\"median\\\")),\\n        (\\\"transformer\\\", StandardScaler()),\\n        (\\\"estimator\\\", LinearRegression()),\\n    ]\\n)\\ncv = BlockingTimeSeriesSplit(n_splits=n_splits, train_size=train_size)\\nscores = cross_validate(\\n    pipeline,\\n    x,\\n    y,\\n    scoring=METRICS,\\n    cv=cv,\\n    n_jobs=-1,\\n    return_train_score=True,\\n)\\nprint(\\\"Blocking Time Series Split:\\\")\\nprint(f\\\"Repeats: {repeats}\\\")\\nprint(f\\\"n_splits: {n_splits}\\\")\\nprint()\\nprint_scores(scores, METRICS, METRICS_DICT)\\n\\nresults_dict_copy = results_dict.copy()\\nresults_dict_copy[\\\"Cross Validation\\\"] = \\\"Blocking Time Series Split\\\"\\nresults_dict_copy[\\n    \\\"Cross Validation Params\\\"\\n] = '{\\\"N_Splits\\\": 5, \\\"Repeats\\\": 1, \\\"train_size\\\": 0.8}'\\nresults_dict_copy[\\\"Data Shape\\\"] = x.shape\\ndf_results = fill_results_dict(results_dict_copy, scores)\\nresults_to_save.append(df_results)\";\n",
       "                var nbb_cells = Jupyter.notebook.get_cells();\n",
       "                for (var i = 0; i < nbb_cells.length; ++i) {\n",
       "                    if (nbb_cells[i].input_prompt_number == nbb_cell_id) {\n",
       "                        if (nbb_cells[i].get_text() == nbb_unformatted_code) {\n",
       "                             nbb_cells[i].set_text(nbb_formatted_code);\n",
       "                        }\n",
       "                        break;\n",
       "                    }\n",
       "                }\n",
       "            }, 500);\n",
       "            "
      ],
      "text/plain": [
       "<IPython.core.display.Javascript object>"
      ]
     },
     "metadata": {},
     "output_type": "display_data"
    }
   ],
   "source": [
    "n_splits = 5\n",
    "train_size = 0.8\n",
    "\n",
    "pipeline = Pipeline(\n",
    "    [\n",
    "        (\"imputer\", SimpleImputer(strategy=\"median\")),\n",
    "        (\"transformer\", StandardScaler()),\n",
    "        (\"estimator\", LinearRegression()),\n",
    "    ]\n",
    ")\n",
    "cv = BlockingTimeSeriesSplit(n_splits=n_splits, train_size=train_size)\n",
    "scores = cross_validate(\n",
    "    pipeline,\n",
    "    x,\n",
    "    y,\n",
    "    scoring=METRICS,\n",
    "    cv=cv,\n",
    "    n_jobs=-1,\n",
    "    return_train_score=True,\n",
    ")\n",
    "print(\"Blocking Time Series Split:\")\n",
    "print(f\"Repeats: {repeats}\")\n",
    "print(f\"n_splits: {n_splits}\")\n",
    "print()\n",
    "print_scores(scores, METRICS, METRICS_DICT)\n",
    "\n",
    "results_dict_copy = results_dict.copy()\n",
    "results_dict_copy[\"Cross Validation\"] = \"Blocking Time Series Split\"\n",
    "results_dict_copy[\n",
    "    \"Cross Validation Params\"\n",
    "] = '{\"N_Splits\": 5, \"Repeats\": 1, \"train_size\": 0.8}'\n",
    "results_dict_copy[\"Data Shape\"] = x.shape\n",
    "df_results = fill_results_dict(results_dict_copy, scores)\n",
    "results_to_save.append(df_results)"
   ]
  },
  {
   "cell_type": "code",
   "execution_count": 11,
   "id": "6417de98",
   "metadata": {
    "execution": {
     "iopub.execute_input": "2024-07-17T10:24:16.658327Z",
     "iopub.status.busy": "2024-07-17T10:24:16.657692Z",
     "iopub.status.idle": "2024-07-17T10:24:16.728414Z",
     "shell.execute_reply": "2024-07-17T10:24:16.726875Z"
    },
    "papermill": {
     "duration": 0.095985,
     "end_time": "2024-07-17T10:24:16.731991",
     "exception": false,
     "start_time": "2024-07-17T10:24:16.636006",
     "status": "completed"
    },
    "tags": []
   },
   "outputs": [
    {
     "data": {
      "text/html": [
       "<div>\n",
       "<style scoped>\n",
       "    .dataframe tbody tr th:only-of-type {\n",
       "        vertical-align: middle;\n",
       "    }\n",
       "\n",
       "    .dataframe tbody tr th {\n",
       "        vertical-align: top;\n",
       "    }\n",
       "\n",
       "    .dataframe thead tr th {\n",
       "        text-align: left;\n",
       "    }\n",
       "</style>\n",
       "<table border=\"1\" class=\"dataframe\">\n",
       "  <thead>\n",
       "    <tr>\n",
       "      <th></th>\n",
       "      <th>Features</th>\n",
       "      <th>Model</th>\n",
       "      <th>Cross Validation</th>\n",
       "      <th colspan=\"2\" halign=\"left\">RMSE Test</th>\n",
       "      <th colspan=\"2\" halign=\"left\">MAE Test</th>\n",
       "      <th colspan=\"2\" halign=\"left\">MAPE Test</th>\n",
       "      <th colspan=\"2\" halign=\"left\">R2 Test</th>\n",
       "    </tr>\n",
       "    <tr>\n",
       "      <th></th>\n",
       "      <th></th>\n",
       "      <th></th>\n",
       "      <th></th>\n",
       "      <th>mean</th>\n",
       "      <th>std</th>\n",
       "      <th>mean</th>\n",
       "      <th>std</th>\n",
       "      <th>mean</th>\n",
       "      <th>std</th>\n",
       "      <th>mean</th>\n",
       "      <th>std</th>\n",
       "    </tr>\n",
       "  </thead>\n",
       "  <tbody>\n",
       "    <tr>\n",
       "      <th>0</th>\n",
       "      <td>Chemical + Mineralogical + CS1 + CS3 + CS7</td>\n",
       "      <td>Linear Regression</td>\n",
       "      <td>Blocking Time Series Split</td>\n",
       "      <td>1.717546</td>\n",
       "      <td>0.236298</td>\n",
       "      <td>1.389837</td>\n",
       "      <td>0.216141</td>\n",
       "      <td>0.032114</td>\n",
       "      <td>0.005212</td>\n",
       "      <td>0.685468</td>\n",
       "      <td>0.109040</td>\n",
       "    </tr>\n",
       "    <tr>\n",
       "      <th>1</th>\n",
       "      <td>Chemical + Mineralogical + CS1 + CS3 + CS7</td>\n",
       "      <td>Linear Regression</td>\n",
       "      <td>Repeated KFold</td>\n",
       "      <td>1.500941</td>\n",
       "      <td>0.067769</td>\n",
       "      <td>1.181912</td>\n",
       "      <td>0.057281</td>\n",
       "      <td>0.027776</td>\n",
       "      <td>0.001495</td>\n",
       "      <td>0.816296</td>\n",
       "      <td>0.018653</td>\n",
       "    </tr>\n",
       "  </tbody>\n",
       "</table>\n",
       "</div>"
      ],
      "text/plain": [
       "                                     Features              Model  \\\n",
       "                                                                   \n",
       "0  Chemical + Mineralogical + CS1 + CS3 + CS7  Linear Regression   \n",
       "1  Chemical + Mineralogical + CS1 + CS3 + CS7  Linear Regression   \n",
       "\n",
       "             Cross Validation RMSE Test            MAE Test            \\\n",
       "                                   mean       std      mean       std   \n",
       "0  Blocking Time Series Split  1.717546  0.236298  1.389837  0.216141   \n",
       "1              Repeated KFold  1.500941  0.067769  1.181912  0.057281   \n",
       "\n",
       "  MAPE Test             R2 Test            \n",
       "       mean       std      mean       std  \n",
       "0  0.032114  0.005212  0.685468  0.109040  \n",
       "1  0.027776  0.001495  0.816296  0.018653  "
      ]
     },
     "execution_count": 11,
     "metadata": {},
     "output_type": "execute_result"
    },
    {
     "data": {
      "application/javascript": [
       "\n",
       "            setTimeout(function() {\n",
       "                var nbb_cell_id = 11;\n",
       "                var nbb_unformatted_code = \"pd.concat(results_to_save).reset_index().groupby(\\n    [\\\"Features\\\", \\\"Model\\\", \\\"Cross Validation\\\"], dropna=False\\n)[[\\\"RMSE Test\\\", \\\"MAE Test\\\", \\\"MAPE Test\\\", \\\"R2 Test\\\"]].agg(\\n    [\\\"mean\\\", lambda series: pd.Series(series.std(ddof=0), name=\\\"std\\\")]\\n).reset_index().rename(\\n    columns={\\\"<lambda_0>\\\": \\\"std\\\"}\\n)\";\n",
       "                var nbb_formatted_code = \"pd.concat(results_to_save).reset_index().groupby(\\n    [\\\"Features\\\", \\\"Model\\\", \\\"Cross Validation\\\"], dropna=False\\n)[[\\\"RMSE Test\\\", \\\"MAE Test\\\", \\\"MAPE Test\\\", \\\"R2 Test\\\"]].agg(\\n    [\\\"mean\\\", lambda series: pd.Series(series.std(ddof=0), name=\\\"std\\\")]\\n).reset_index().rename(\\n    columns={\\\"<lambda_0>\\\": \\\"std\\\"}\\n)\";\n",
       "                var nbb_cells = Jupyter.notebook.get_cells();\n",
       "                for (var i = 0; i < nbb_cells.length; ++i) {\n",
       "                    if (nbb_cells[i].input_prompt_number == nbb_cell_id) {\n",
       "                        if (nbb_cells[i].get_text() == nbb_unformatted_code) {\n",
       "                             nbb_cells[i].set_text(nbb_formatted_code);\n",
       "                        }\n",
       "                        break;\n",
       "                    }\n",
       "                }\n",
       "            }, 500);\n",
       "            "
      ],
      "text/plain": [
       "<IPython.core.display.Javascript object>"
      ]
     },
     "metadata": {},
     "output_type": "display_data"
    }
   ],
   "source": [
    "pd.concat(results_to_save).reset_index().groupby(\n",
    "    [\"Features\", \"Model\", \"Cross Validation\"], dropna=False\n",
    ")[[\"RMSE Test\", \"MAE Test\", \"MAPE Test\", \"R2 Test\"]].agg(\n",
    "    [\"mean\", lambda series: pd.Series(series.std(ddof=0), name=\"std\")]\n",
    ").reset_index().rename(\n",
    "    columns={\"<lambda_0>\": \"std\"}\n",
    ")"
   ]
  },
  {
   "cell_type": "markdown",
   "id": "cd51acae",
   "metadata": {
    "papermill": {
     "duration": 0.017232,
     "end_time": "2024-07-17T10:24:16.767073",
     "exception": false,
     "start_time": "2024-07-17T10:24:16.749841",
     "status": "completed"
    },
    "tags": []
   },
   "source": [
    "## 1.3. Time Series Split Cross Validation\n",
    "\n",
    "The training set has size i * n_samples // (n_splits + 1) + n_samples % (n_splits + 1) in the i th split, with a test set of size n_samples//(n_splits + 1) by default, where n_samples is the number of samples.\n",
    "\n",
    "\n",
    "<b>Dataset shape:</b> (1234, 38)<br>\n",
    "<b>Splits:</b>10<br>    \n",
    "    1. Train: 10 folds of 114, 226, 338, 450, 562, 675, 787, 899, 1011, 1123 samples each fold\n",
    "    2. Test: 112 samples each fold\n",
    "<b>Total:</b> 10 models<br>"
   ]
  },
  {
   "cell_type": "code",
   "execution_count": 12,
   "id": "2d5b3ef9",
   "metadata": {
    "execution": {
     "iopub.execute_input": "2024-07-17T10:24:16.834262Z",
     "iopub.status.busy": "2024-07-17T10:24:16.833745Z",
     "iopub.status.idle": "2024-07-17T10:24:17.475221Z",
     "shell.execute_reply": "2024-07-17T10:24:17.473662Z"
    },
    "papermill": {
     "duration": 0.658957,
     "end_time": "2024-07-17T10:24:17.478849",
     "exception": false,
     "start_time": "2024-07-17T10:24:16.819892",
     "status": "completed"
    },
    "tags": []
   },
   "outputs": [
    {
     "name": "stdout",
     "output_type": "stream",
     "text": [
      "Time Series Split:\n",
      "Repeats: 3\n",
      "n_splits: 5\n",
      "\n",
      "******\n",
      "[TRAIN]\n",
      "******\n",
      "RMSE: -1.278 (0.081)\n",
      "MAE: -1.013 (0.058)\n",
      "MAPE: -0.023 (0.001)\n",
      "R2: 0.853 (0.025)\n",
      "\n",
      "======================\n",
      "\n",
      "******\n",
      "[TEST]\n",
      "******\n",
      "RMSE: -1.651 (0.309)\n",
      "MAE: -1.311 (0.278)\n",
      "MAPE: -0.031 (0.009)\n",
      "R2: 0.680 (0.166)\n",
      "\n",
      "======================\n",
      "\n"
     ]
    },
    {
     "data": {
      "application/javascript": [
       "\n",
       "            setTimeout(function() {\n",
       "                var nbb_cell_id = 12;\n",
       "                var nbb_unformatted_code = \"n_splits = 5\\ngap = 0\\npipeline = Pipeline(\\n    [\\n        (\\\"imputer\\\", SimpleImputer(strategy=\\\"median\\\")),\\n        (\\\"transformer\\\", StandardScaler()),\\n        (\\\"estimator\\\", LinearRegression()),\\n    ]\\n)\\ncv = TimeSeriesSplit(gap=gap, max_train_size=None, n_splits=n_splits, test_size=None)\\n\\nscores = cross_validate(\\n    pipeline,\\n    x,\\n    y,\\n    scoring=METRICS,\\n    cv=cv,\\n    n_jobs=-1,\\n    return_train_score=True,\\n)\\nprint(\\\"Time Series Split:\\\")\\nprint(f\\\"Repeats: {repeats}\\\")\\nprint(f\\\"n_splits: {n_splits}\\\")\\nprint()\\nprint_scores(scores, METRICS, METRICS_DICT)\\n\\nresults_dict_copy = results_dict.copy()\\nresults_dict_copy[\\\"Cross Validation\\\"] = \\\"Time Series Split\\\"\\nresults_dict_copy[\\\"Cross Validation Params\\\"] = '{\\\"N_Splits\\\": 5, \\\"Repeats\\\": 1, \\\"Gap\\\": 0}'\\nresults_dict_copy[\\\"Data Shape\\\"] = x.shape\\ndf_results = fill_results_dict(results_dict_copy, scores)\\nresults_to_save.append(df_results)\";\n",
       "                var nbb_formatted_code = \"n_splits = 5\\ngap = 0\\npipeline = Pipeline(\\n    [\\n        (\\\"imputer\\\", SimpleImputer(strategy=\\\"median\\\")),\\n        (\\\"transformer\\\", StandardScaler()),\\n        (\\\"estimator\\\", LinearRegression()),\\n    ]\\n)\\ncv = TimeSeriesSplit(gap=gap, max_train_size=None, n_splits=n_splits, test_size=None)\\n\\nscores = cross_validate(\\n    pipeline,\\n    x,\\n    y,\\n    scoring=METRICS,\\n    cv=cv,\\n    n_jobs=-1,\\n    return_train_score=True,\\n)\\nprint(\\\"Time Series Split:\\\")\\nprint(f\\\"Repeats: {repeats}\\\")\\nprint(f\\\"n_splits: {n_splits}\\\")\\nprint()\\nprint_scores(scores, METRICS, METRICS_DICT)\\n\\nresults_dict_copy = results_dict.copy()\\nresults_dict_copy[\\\"Cross Validation\\\"] = \\\"Time Series Split\\\"\\nresults_dict_copy[\\\"Cross Validation Params\\\"] = '{\\\"N_Splits\\\": 5, \\\"Repeats\\\": 1, \\\"Gap\\\": 0}'\\nresults_dict_copy[\\\"Data Shape\\\"] = x.shape\\ndf_results = fill_results_dict(results_dict_copy, scores)\\nresults_to_save.append(df_results)\";\n",
       "                var nbb_cells = Jupyter.notebook.get_cells();\n",
       "                for (var i = 0; i < nbb_cells.length; ++i) {\n",
       "                    if (nbb_cells[i].input_prompt_number == nbb_cell_id) {\n",
       "                        if (nbb_cells[i].get_text() == nbb_unformatted_code) {\n",
       "                             nbb_cells[i].set_text(nbb_formatted_code);\n",
       "                        }\n",
       "                        break;\n",
       "                    }\n",
       "                }\n",
       "            }, 500);\n",
       "            "
      ],
      "text/plain": [
       "<IPython.core.display.Javascript object>"
      ]
     },
     "metadata": {},
     "output_type": "display_data"
    }
   ],
   "source": [
    "n_splits = 5\n",
    "gap = 0\n",
    "pipeline = Pipeline(\n",
    "    [\n",
    "        (\"imputer\", SimpleImputer(strategy=\"median\")),\n",
    "        (\"transformer\", StandardScaler()),\n",
    "        (\"estimator\", LinearRegression()),\n",
    "    ]\n",
    ")\n",
    "cv = TimeSeriesSplit(gap=gap, max_train_size=None, n_splits=n_splits, test_size=None)\n",
    "\n",
    "scores = cross_validate(\n",
    "    pipeline,\n",
    "    x,\n",
    "    y,\n",
    "    scoring=METRICS,\n",
    "    cv=cv,\n",
    "    n_jobs=-1,\n",
    "    return_train_score=True,\n",
    ")\n",
    "print(\"Time Series Split:\")\n",
    "print(f\"Repeats: {repeats}\")\n",
    "print(f\"n_splits: {n_splits}\")\n",
    "print()\n",
    "print_scores(scores, METRICS, METRICS_DICT)\n",
    "\n",
    "results_dict_copy = results_dict.copy()\n",
    "results_dict_copy[\"Cross Validation\"] = \"Time Series Split\"\n",
    "results_dict_copy[\"Cross Validation Params\"] = '{\"N_Splits\": 5, \"Repeats\": 1, \"Gap\": 0}'\n",
    "results_dict_copy[\"Data Shape\"] = x.shape\n",
    "df_results = fill_results_dict(results_dict_copy, scores)\n",
    "results_to_save.append(df_results)"
   ]
  },
  {
   "cell_type": "code",
   "execution_count": 13,
   "id": "53a07389",
   "metadata": {
    "execution": {
     "iopub.execute_input": "2024-07-17T10:24:17.517452Z",
     "iopub.status.busy": "2024-07-17T10:24:17.516862Z",
     "iopub.status.idle": "2024-07-17T10:24:17.585666Z",
     "shell.execute_reply": "2024-07-17T10:24:17.583956Z"
    },
    "papermill": {
     "duration": 0.091721,
     "end_time": "2024-07-17T10:24:17.588941",
     "exception": false,
     "start_time": "2024-07-17T10:24:17.497220",
     "status": "completed"
    },
    "tags": []
   },
   "outputs": [
    {
     "data": {
      "text/html": [
       "<div>\n",
       "<style scoped>\n",
       "    .dataframe tbody tr th:only-of-type {\n",
       "        vertical-align: middle;\n",
       "    }\n",
       "\n",
       "    .dataframe tbody tr th {\n",
       "        vertical-align: top;\n",
       "    }\n",
       "\n",
       "    .dataframe thead tr th {\n",
       "        text-align: left;\n",
       "    }\n",
       "</style>\n",
       "<table border=\"1\" class=\"dataframe\">\n",
       "  <thead>\n",
       "    <tr>\n",
       "      <th></th>\n",
       "      <th>Features</th>\n",
       "      <th>Model</th>\n",
       "      <th>Cross Validation</th>\n",
       "      <th colspan=\"2\" halign=\"left\">RMSE Test</th>\n",
       "      <th colspan=\"2\" halign=\"left\">MAE Test</th>\n",
       "      <th colspan=\"2\" halign=\"left\">MAPE Test</th>\n",
       "      <th colspan=\"2\" halign=\"left\">R2 Test</th>\n",
       "    </tr>\n",
       "    <tr>\n",
       "      <th></th>\n",
       "      <th></th>\n",
       "      <th></th>\n",
       "      <th></th>\n",
       "      <th>mean</th>\n",
       "      <th>std</th>\n",
       "      <th>mean</th>\n",
       "      <th>std</th>\n",
       "      <th>mean</th>\n",
       "      <th>std</th>\n",
       "      <th>mean</th>\n",
       "      <th>std</th>\n",
       "    </tr>\n",
       "  </thead>\n",
       "  <tbody>\n",
       "    <tr>\n",
       "      <th>0</th>\n",
       "      <td>Chemical + Mineralogical + CS1 + CS3 + CS7</td>\n",
       "      <td>Linear Regression</td>\n",
       "      <td>Blocking Time Series Split</td>\n",
       "      <td>1.717546</td>\n",
       "      <td>0.236298</td>\n",
       "      <td>1.389837</td>\n",
       "      <td>0.216141</td>\n",
       "      <td>0.032114</td>\n",
       "      <td>0.005212</td>\n",
       "      <td>0.685468</td>\n",
       "      <td>0.109040</td>\n",
       "    </tr>\n",
       "    <tr>\n",
       "      <th>1</th>\n",
       "      <td>Chemical + Mineralogical + CS1 + CS3 + CS7</td>\n",
       "      <td>Linear Regression</td>\n",
       "      <td>Repeated KFold</td>\n",
       "      <td>1.500941</td>\n",
       "      <td>0.067769</td>\n",
       "      <td>1.181912</td>\n",
       "      <td>0.057281</td>\n",
       "      <td>0.027776</td>\n",
       "      <td>0.001495</td>\n",
       "      <td>0.816296</td>\n",
       "      <td>0.018653</td>\n",
       "    </tr>\n",
       "    <tr>\n",
       "      <th>2</th>\n",
       "      <td>Chemical + Mineralogical + CS1 + CS3 + CS7</td>\n",
       "      <td>Linear Regression</td>\n",
       "      <td>Time Series Split</td>\n",
       "      <td>1.651253</td>\n",
       "      <td>0.308856</td>\n",
       "      <td>1.310968</td>\n",
       "      <td>0.277548</td>\n",
       "      <td>0.031191</td>\n",
       "      <td>0.008532</td>\n",
       "      <td>0.680195</td>\n",
       "      <td>0.166362</td>\n",
       "    </tr>\n",
       "  </tbody>\n",
       "</table>\n",
       "</div>"
      ],
      "text/plain": [
       "                                     Features              Model  \\\n",
       "                                                                   \n",
       "0  Chemical + Mineralogical + CS1 + CS3 + CS7  Linear Regression   \n",
       "1  Chemical + Mineralogical + CS1 + CS3 + CS7  Linear Regression   \n",
       "2  Chemical + Mineralogical + CS1 + CS3 + CS7  Linear Regression   \n",
       "\n",
       "             Cross Validation RMSE Test            MAE Test            \\\n",
       "                                   mean       std      mean       std   \n",
       "0  Blocking Time Series Split  1.717546  0.236298  1.389837  0.216141   \n",
       "1              Repeated KFold  1.500941  0.067769  1.181912  0.057281   \n",
       "2           Time Series Split  1.651253  0.308856  1.310968  0.277548   \n",
       "\n",
       "  MAPE Test             R2 Test            \n",
       "       mean       std      mean       std  \n",
       "0  0.032114  0.005212  0.685468  0.109040  \n",
       "1  0.027776  0.001495  0.816296  0.018653  \n",
       "2  0.031191  0.008532  0.680195  0.166362  "
      ]
     },
     "execution_count": 13,
     "metadata": {},
     "output_type": "execute_result"
    },
    {
     "data": {
      "application/javascript": [
       "\n",
       "            setTimeout(function() {\n",
       "                var nbb_cell_id = 13;\n",
       "                var nbb_unformatted_code = \"pd.concat(results_to_save).groupby([\\\"Features\\\", \\\"Model\\\", \\\"Cross Validation\\\"])[\\n    [\\\"RMSE Test\\\", \\\"MAE Test\\\", \\\"MAPE Test\\\", \\\"R2 Test\\\"]\\n].agg(\\n    [\\\"mean\\\", lambda series: pd.Series(series.std(ddof=0), name=\\\"std\\\")]\\n).reset_index().rename(\\n    columns={\\\"<lambda_0>\\\": \\\"std\\\"}\\n)\";\n",
       "                var nbb_formatted_code = \"pd.concat(results_to_save).groupby([\\\"Features\\\", \\\"Model\\\", \\\"Cross Validation\\\"])[\\n    [\\\"RMSE Test\\\", \\\"MAE Test\\\", \\\"MAPE Test\\\", \\\"R2 Test\\\"]\\n].agg(\\n    [\\\"mean\\\", lambda series: pd.Series(series.std(ddof=0), name=\\\"std\\\")]\\n).reset_index().rename(\\n    columns={\\\"<lambda_0>\\\": \\\"std\\\"}\\n)\";\n",
       "                var nbb_cells = Jupyter.notebook.get_cells();\n",
       "                for (var i = 0; i < nbb_cells.length; ++i) {\n",
       "                    if (nbb_cells[i].input_prompt_number == nbb_cell_id) {\n",
       "                        if (nbb_cells[i].get_text() == nbb_unformatted_code) {\n",
       "                             nbb_cells[i].set_text(nbb_formatted_code);\n",
       "                        }\n",
       "                        break;\n",
       "                    }\n",
       "                }\n",
       "            }, 500);\n",
       "            "
      ],
      "text/plain": [
       "<IPython.core.display.Javascript object>"
      ]
     },
     "metadata": {},
     "output_type": "display_data"
    }
   ],
   "source": [
    "pd.concat(results_to_save).groupby([\"Features\", \"Model\", \"Cross Validation\"])[\n",
    "    [\"RMSE Test\", \"MAE Test\", \"MAPE Test\", \"R2 Test\"]\n",
    "].agg(\n",
    "    [\"mean\", lambda series: pd.Series(series.std(ddof=0), name=\"std\")]\n",
    ").reset_index().rename(\n",
    "    columns={\"<lambda_0>\": \"std\"}\n",
    ")"
   ]
  },
  {
   "cell_type": "markdown",
   "id": "2f9c3580",
   "metadata": {
    "papermill": {
     "duration": 0.017865,
     "end_time": "2024-07-17T10:24:17.625969",
     "exception": false,
     "start_time": "2024-07-17T10:24:17.608104",
     "status": "completed"
    },
    "tags": []
   },
   "source": [
    "## 1.4. Out of time Split Cross Validation\n",
    "\n",
    "<b>Dataset shape:</b> (1234, 38)<br>\n",
    "<b>Train size: 80%</b><br>\n",
    "<b>Test  size: 20%</b>\n",
    "\n",
    "\n",
    "<b>Splits:</b> 2<br>    \n",
    "    1. Train: 987\n",
    "    2. Test: 247\n",
    "<b>Total:</b> 1 model<br>"
   ]
  },
  {
   "cell_type": "code",
   "execution_count": 14,
   "id": "41c1f8b1",
   "metadata": {
    "execution": {
     "iopub.execute_input": "2024-07-17T10:24:17.678967Z",
     "iopub.status.busy": "2024-07-17T10:24:17.678444Z",
     "iopub.status.idle": "2024-07-17T10:24:17.927854Z",
     "shell.execute_reply": "2024-07-17T10:24:17.926891Z"
    },
    "papermill": {
     "duration": 0.28888,
     "end_time": "2024-07-17T10:24:17.929326",
     "exception": false,
     "start_time": "2024-07-17T10:24:17.640446",
     "status": "completed"
    },
    "scrolled": true,
    "tags": []
   },
   "outputs": [
    {
     "name": "stdout",
     "output_type": "stream",
     "text": [
      "******\n",
      "[TRAIN]\n",
      "******\n",
      "RMSE: 1.351 (0.000)\n",
      "MAE: 1.067 (0.000)\n",
      "MAPE: 0.024 (0.000)\n",
      "R2: 0.828 (0.000)\n",
      "\n",
      "======================\n",
      "\n",
      "******\n",
      "[TEST]\n",
      "******\n",
      "RMSE: 2.159 (0.000)\n",
      "MAE: 1.739 (0.000)\n",
      "MAPE: 0.045 (0.000)\n",
      "R2: 0.399 (0.000)\n",
      "\n",
      "======================\n",
      "\n"
     ]
    },
    {
     "data": {
      "application/javascript": [
       "\n",
       "            setTimeout(function() {\n",
       "                var nbb_cell_id = 14;\n",
       "                var nbb_unformatted_code = \"test_size = 0.2\\n\\nx_train, x_test, y_train, y_test = train_test_split(\\n    x, y, test_size=test_size, random_state=SEED, shuffle=False\\n)\\npipeline = Pipeline(\\n    [\\n        (\\\"imputer\\\", SimpleImputer(strategy=\\\"median\\\")),\\n        (\\\"transformer\\\", StandardScaler()),\\n        (\\\"estimator\\\", LinearRegression()),\\n    ]\\n)\\n\\npipeline.fit(x_train, y_train)\\n\\ny_train_pred = pipeline.predict(x_train)\\ny_test_pred = pipeline.predict(x_test)\\n\\nscores = score_regression_metrics(y_train, y_train_pred, y_test, y_test_pred)\\nprint_scores(scores, METRICS, METRICS_DICT)\\n\\nresults_dict_copy = results_dict.copy()\\nresults_dict_copy[\\\"Cross Validation\\\"] = \\\"Out of time Split\\\"\\nresults_dict_copy[\\\"Cross Validation Params\\\"] = '{\\\"Test Size\\\": 0.2}'\\nresults_dict_copy[\\\"Data Shape\\\"] = x.shape\\ndf_results = fill_results_dict(\\n    results_dict_copy, {key: [value] for key, value in scores.items()}\\n)\\nresults_to_save.append(df_results)\";\n",
       "                var nbb_formatted_code = \"test_size = 0.2\\n\\nx_train, x_test, y_train, y_test = train_test_split(\\n    x, y, test_size=test_size, random_state=SEED, shuffle=False\\n)\\npipeline = Pipeline(\\n    [\\n        (\\\"imputer\\\", SimpleImputer(strategy=\\\"median\\\")),\\n        (\\\"transformer\\\", StandardScaler()),\\n        (\\\"estimator\\\", LinearRegression()),\\n    ]\\n)\\n\\npipeline.fit(x_train, y_train)\\n\\ny_train_pred = pipeline.predict(x_train)\\ny_test_pred = pipeline.predict(x_test)\\n\\nscores = score_regression_metrics(y_train, y_train_pred, y_test, y_test_pred)\\nprint_scores(scores, METRICS, METRICS_DICT)\\n\\nresults_dict_copy = results_dict.copy()\\nresults_dict_copy[\\\"Cross Validation\\\"] = \\\"Out of time Split\\\"\\nresults_dict_copy[\\\"Cross Validation Params\\\"] = '{\\\"Test Size\\\": 0.2}'\\nresults_dict_copy[\\\"Data Shape\\\"] = x.shape\\ndf_results = fill_results_dict(\\n    results_dict_copy, {key: [value] for key, value in scores.items()}\\n)\\nresults_to_save.append(df_results)\";\n",
       "                var nbb_cells = Jupyter.notebook.get_cells();\n",
       "                for (var i = 0; i < nbb_cells.length; ++i) {\n",
       "                    if (nbb_cells[i].input_prompt_number == nbb_cell_id) {\n",
       "                        if (nbb_cells[i].get_text() == nbb_unformatted_code) {\n",
       "                             nbb_cells[i].set_text(nbb_formatted_code);\n",
       "                        }\n",
       "                        break;\n",
       "                    }\n",
       "                }\n",
       "            }, 500);\n",
       "            "
      ],
      "text/plain": [
       "<IPython.core.display.Javascript object>"
      ]
     },
     "metadata": {},
     "output_type": "display_data"
    }
   ],
   "source": [
    "test_size = 0.2\n",
    "\n",
    "x_train, x_test, y_train, y_test = train_test_split(\n",
    "    x, y, test_size=test_size, random_state=SEED, shuffle=False\n",
    ")\n",
    "pipeline = Pipeline(\n",
    "    [\n",
    "        (\"imputer\", SimpleImputer(strategy=\"median\")),\n",
    "        (\"transformer\", StandardScaler()),\n",
    "        (\"estimator\", LinearRegression()),\n",
    "    ]\n",
    ")\n",
    "\n",
    "pipeline.fit(x_train, y_train)\n",
    "\n",
    "y_train_pred = pipeline.predict(x_train)\n",
    "y_test_pred = pipeline.predict(x_test)\n",
    "\n",
    "scores = score_regression_metrics(y_train, y_train_pred, y_test, y_test_pred)\n",
    "print_scores(scores, METRICS, METRICS_DICT)\n",
    "\n",
    "results_dict_copy = results_dict.copy()\n",
    "results_dict_copy[\"Cross Validation\"] = \"Out of time Split\"\n",
    "results_dict_copy[\"Cross Validation Params\"] = '{\"Test Size\": 0.2}'\n",
    "results_dict_copy[\"Data Shape\"] = x.shape\n",
    "df_results = fill_results_dict(\n",
    "    results_dict_copy, {key: [value] for key, value in scores.items()}\n",
    ")\n",
    "results_to_save.append(df_results)"
   ]
  },
  {
   "cell_type": "code",
   "execution_count": 15,
   "id": "971f89f9",
   "metadata": {
    "execution": {
     "iopub.execute_input": "2024-07-17T10:24:17.978299Z",
     "iopub.status.busy": "2024-07-17T10:24:17.977818Z",
     "iopub.status.idle": "2024-07-17T10:24:18.016413Z",
     "shell.execute_reply": "2024-07-17T10:24:18.015770Z"
    },
    "papermill": {
     "duration": 0.080285,
     "end_time": "2024-07-17T10:24:18.017850",
     "exception": false,
     "start_time": "2024-07-17T10:24:17.937565",
     "status": "completed"
    },
    "tags": []
   },
   "outputs": [
    {
     "data": {
      "text/html": [
       "<div>\n",
       "<style scoped>\n",
       "    .dataframe tbody tr th:only-of-type {\n",
       "        vertical-align: middle;\n",
       "    }\n",
       "\n",
       "    .dataframe tbody tr th {\n",
       "        vertical-align: top;\n",
       "    }\n",
       "\n",
       "    .dataframe thead tr th {\n",
       "        text-align: left;\n",
       "    }\n",
       "</style>\n",
       "<table border=\"1\" class=\"dataframe\">\n",
       "  <thead>\n",
       "    <tr>\n",
       "      <th></th>\n",
       "      <th>Features</th>\n",
       "      <th>Model</th>\n",
       "      <th>Cross Validation</th>\n",
       "      <th colspan=\"2\" halign=\"left\">RMSE Test</th>\n",
       "      <th colspan=\"2\" halign=\"left\">MAE Test</th>\n",
       "      <th colspan=\"2\" halign=\"left\">MAPE Test</th>\n",
       "      <th colspan=\"2\" halign=\"left\">R2 Test</th>\n",
       "    </tr>\n",
       "    <tr>\n",
       "      <th></th>\n",
       "      <th></th>\n",
       "      <th></th>\n",
       "      <th></th>\n",
       "      <th>mean</th>\n",
       "      <th>std</th>\n",
       "      <th>mean</th>\n",
       "      <th>std</th>\n",
       "      <th>mean</th>\n",
       "      <th>std</th>\n",
       "      <th>mean</th>\n",
       "      <th>std</th>\n",
       "    </tr>\n",
       "  </thead>\n",
       "  <tbody>\n",
       "    <tr>\n",
       "      <th>0</th>\n",
       "      <td>Chemical + Mineralogical + CS1 + CS3 + CS7</td>\n",
       "      <td>Linear Regression</td>\n",
       "      <td>Blocking Time Series Split</td>\n",
       "      <td>1.717546</td>\n",
       "      <td>0.236298</td>\n",
       "      <td>1.389837</td>\n",
       "      <td>0.216141</td>\n",
       "      <td>0.032114</td>\n",
       "      <td>0.005212</td>\n",
       "      <td>0.685468</td>\n",
       "      <td>0.109040</td>\n",
       "    </tr>\n",
       "    <tr>\n",
       "      <th>1</th>\n",
       "      <td>Chemical + Mineralogical + CS1 + CS3 + CS7</td>\n",
       "      <td>Linear Regression</td>\n",
       "      <td>Out of time Split</td>\n",
       "      <td>2.158519</td>\n",
       "      <td>0.000000</td>\n",
       "      <td>1.738989</td>\n",
       "      <td>0.000000</td>\n",
       "      <td>0.044854</td>\n",
       "      <td>0.000000</td>\n",
       "      <td>0.398587</td>\n",
       "      <td>0.000000</td>\n",
       "    </tr>\n",
       "    <tr>\n",
       "      <th>2</th>\n",
       "      <td>Chemical + Mineralogical + CS1 + CS3 + CS7</td>\n",
       "      <td>Linear Regression</td>\n",
       "      <td>Repeated KFold</td>\n",
       "      <td>1.500941</td>\n",
       "      <td>0.067769</td>\n",
       "      <td>1.181912</td>\n",
       "      <td>0.057281</td>\n",
       "      <td>0.027776</td>\n",
       "      <td>0.001495</td>\n",
       "      <td>0.816296</td>\n",
       "      <td>0.018653</td>\n",
       "    </tr>\n",
       "    <tr>\n",
       "      <th>3</th>\n",
       "      <td>Chemical + Mineralogical + CS1 + CS3 + CS7</td>\n",
       "      <td>Linear Regression</td>\n",
       "      <td>Time Series Split</td>\n",
       "      <td>1.651253</td>\n",
       "      <td>0.308856</td>\n",
       "      <td>1.310968</td>\n",
       "      <td>0.277548</td>\n",
       "      <td>0.031191</td>\n",
       "      <td>0.008532</td>\n",
       "      <td>0.680195</td>\n",
       "      <td>0.166362</td>\n",
       "    </tr>\n",
       "  </tbody>\n",
       "</table>\n",
       "</div>"
      ],
      "text/plain": [
       "                                     Features              Model  \\\n",
       "                                                                   \n",
       "0  Chemical + Mineralogical + CS1 + CS3 + CS7  Linear Regression   \n",
       "1  Chemical + Mineralogical + CS1 + CS3 + CS7  Linear Regression   \n",
       "2  Chemical + Mineralogical + CS1 + CS3 + CS7  Linear Regression   \n",
       "3  Chemical + Mineralogical + CS1 + CS3 + CS7  Linear Regression   \n",
       "\n",
       "             Cross Validation RMSE Test            MAE Test            \\\n",
       "                                   mean       std      mean       std   \n",
       "0  Blocking Time Series Split  1.717546  0.236298  1.389837  0.216141   \n",
       "1           Out of time Split  2.158519  0.000000  1.738989  0.000000   \n",
       "2              Repeated KFold  1.500941  0.067769  1.181912  0.057281   \n",
       "3           Time Series Split  1.651253  0.308856  1.310968  0.277548   \n",
       "\n",
       "  MAPE Test             R2 Test            \n",
       "       mean       std      mean       std  \n",
       "0  0.032114  0.005212  0.685468  0.109040  \n",
       "1  0.044854  0.000000  0.398587  0.000000  \n",
       "2  0.027776  0.001495  0.816296  0.018653  \n",
       "3  0.031191  0.008532  0.680195  0.166362  "
      ]
     },
     "execution_count": 15,
     "metadata": {},
     "output_type": "execute_result"
    },
    {
     "data": {
      "application/javascript": [
       "\n",
       "            setTimeout(function() {\n",
       "                var nbb_cell_id = 15;\n",
       "                var nbb_unformatted_code = \"pd.concat(results_to_save).groupby([\\\"Features\\\", \\\"Model\\\", \\\"Cross Validation\\\"])[\\n    [\\\"RMSE Test\\\", \\\"MAE Test\\\", \\\"MAPE Test\\\", \\\"R2 Test\\\"]\\n].agg(\\n    [\\\"mean\\\", lambda series: pd.Series(series.std(ddof=0), name=\\\"std\\\")]\\n).reset_index().rename(\\n    columns={\\\"<lambda_0>\\\": \\\"std\\\"}\\n)\";\n",
       "                var nbb_formatted_code = \"pd.concat(results_to_save).groupby([\\\"Features\\\", \\\"Model\\\", \\\"Cross Validation\\\"])[\\n    [\\\"RMSE Test\\\", \\\"MAE Test\\\", \\\"MAPE Test\\\", \\\"R2 Test\\\"]\\n].agg(\\n    [\\\"mean\\\", lambda series: pd.Series(series.std(ddof=0), name=\\\"std\\\")]\\n).reset_index().rename(\\n    columns={\\\"<lambda_0>\\\": \\\"std\\\"}\\n)\";\n",
       "                var nbb_cells = Jupyter.notebook.get_cells();\n",
       "                for (var i = 0; i < nbb_cells.length; ++i) {\n",
       "                    if (nbb_cells[i].input_prompt_number == nbb_cell_id) {\n",
       "                        if (nbb_cells[i].get_text() == nbb_unformatted_code) {\n",
       "                             nbb_cells[i].set_text(nbb_formatted_code);\n",
       "                        }\n",
       "                        break;\n",
       "                    }\n",
       "                }\n",
       "            }, 500);\n",
       "            "
      ],
      "text/plain": [
       "<IPython.core.display.Javascript object>"
      ]
     },
     "metadata": {},
     "output_type": "display_data"
    }
   ],
   "source": [
    "pd.concat(results_to_save).groupby([\"Features\", \"Model\", \"Cross Validation\"])[\n",
    "    [\"RMSE Test\", \"MAE Test\", \"MAPE Test\", \"R2 Test\"]\n",
    "].agg(\n",
    "    [\"mean\", lambda series: pd.Series(series.std(ddof=0), name=\"std\")]\n",
    ").reset_index().rename(\n",
    "    columns={\"<lambda_0>\": \"std\"}\n",
    ")"
   ]
  },
  {
   "cell_type": "code",
   "execution_count": 16,
   "id": "31ee8af3",
   "metadata": {
    "execution": {
     "iopub.execute_input": "2024-07-17T10:24:18.046524Z",
     "iopub.status.busy": "2024-07-17T10:24:18.046049Z",
     "iopub.status.idle": "2024-07-17T10:24:18.186564Z",
     "shell.execute_reply": "2024-07-17T10:24:18.185305Z"
    },
    "papermill": {
     "duration": 0.160699,
     "end_time": "2024-07-17T10:24:18.189131",
     "exception": false,
     "start_time": "2024-07-17T10:24:18.028432",
     "status": "completed"
    },
    "tags": []
   },
   "outputs": [
    {
     "data": {
      "text/plain": [
       "array([ 0.09805698,  0.03589102,  0.13297094,  0.05495578, -0.08619827,\n",
       "       -0.23296558, -0.37327208, -0.07110083,  0.20586095,  0.52139242,\n",
       "       -0.13944986, -0.14638937, -0.04600485, -0.06641095, -0.06382673,\n",
       "        1.12165363,  2.12847724])"
      ]
     },
     "execution_count": 16,
     "metadata": {},
     "output_type": "execute_result"
    },
    {
     "data": {
      "application/javascript": [
       "\n",
       "            setTimeout(function() {\n",
       "                var nbb_cell_id = 16;\n",
       "                var nbb_unformatted_code = \"pipeline.named_steps[\\\"estimator\\\"].coef_\";\n",
       "                var nbb_formatted_code = \"pipeline.named_steps[\\\"estimator\\\"].coef_\";\n",
       "                var nbb_cells = Jupyter.notebook.get_cells();\n",
       "                for (var i = 0; i < nbb_cells.length; ++i) {\n",
       "                    if (nbb_cells[i].input_prompt_number == nbb_cell_id) {\n",
       "                        if (nbb_cells[i].get_text() == nbb_unformatted_code) {\n",
       "                             nbb_cells[i].set_text(nbb_formatted_code);\n",
       "                        }\n",
       "                        break;\n",
       "                    }\n",
       "                }\n",
       "            }, 500);\n",
       "            "
      ],
      "text/plain": [
       "<IPython.core.display.Javascript object>"
      ]
     },
     "metadata": {},
     "output_type": "display_data"
    }
   ],
   "source": [
    "pipeline.named_steps[\"estimator\"].coef_"
   ]
  },
  {
   "cell_type": "code",
   "execution_count": 17,
   "id": "9185a903",
   "metadata": {
    "execution": {
     "iopub.execute_input": "2024-07-17T10:24:18.231849Z",
     "iopub.status.busy": "2024-07-17T10:24:18.230648Z",
     "iopub.status.idle": "2024-07-17T10:24:18.363426Z",
     "shell.execute_reply": "2024-07-17T10:24:18.362171Z"
    },
    "papermill": {
     "duration": 0.157175,
     "end_time": "2024-07-17T10:24:18.366703",
     "exception": false,
     "start_time": "2024-07-17T10:24:18.209528",
     "status": "completed"
    },
    "tags": []
   },
   "outputs": [
    {
     "data": {
      "text/plain": [
       "43.77724465558195"
      ]
     },
     "execution_count": 17,
     "metadata": {},
     "output_type": "execute_result"
    },
    {
     "data": {
      "application/javascript": [
       "\n",
       "            setTimeout(function() {\n",
       "                var nbb_cell_id = 17;\n",
       "                var nbb_unformatted_code = \"pipeline.named_steps[\\\"estimator\\\"].intercept_\";\n",
       "                var nbb_formatted_code = \"pipeline.named_steps[\\\"estimator\\\"].intercept_\";\n",
       "                var nbb_cells = Jupyter.notebook.get_cells();\n",
       "                for (var i = 0; i < nbb_cells.length; ++i) {\n",
       "                    if (nbb_cells[i].input_prompt_number == nbb_cell_id) {\n",
       "                        if (nbb_cells[i].get_text() == nbb_unformatted_code) {\n",
       "                             nbb_cells[i].set_text(nbb_formatted_code);\n",
       "                        }\n",
       "                        break;\n",
       "                    }\n",
       "                }\n",
       "            }, 500);\n",
       "            "
      ],
      "text/plain": [
       "<IPython.core.display.Javascript object>"
      ]
     },
     "metadata": {},
     "output_type": "display_data"
    }
   ],
   "source": [
    "pipeline.named_steps[\"estimator\"].intercept_"
   ]
  },
  {
   "cell_type": "code",
   "execution_count": 18,
   "id": "81c0e2ce",
   "metadata": {
    "execution": {
     "iopub.execute_input": "2024-07-17T10:24:18.416687Z",
     "iopub.status.busy": "2024-07-17T10:24:18.415538Z",
     "iopub.status.idle": "2024-07-17T10:24:18.564685Z",
     "shell.execute_reply": "2024-07-17T10:24:18.563447Z"
    },
    "papermill": {
     "duration": 0.176502,
     "end_time": "2024-07-17T10:24:18.568089",
     "exception": false,
     "start_time": "2024-07-17T10:24:18.391587",
     "status": "completed"
    },
    "tags": []
   },
   "outputs": [
    {
     "data": {
      "text/plain": [
       "array([], dtype=object)"
      ]
     },
     "execution_count": 18,
     "metadata": {},
     "output_type": "execute_result"
    },
    {
     "data": {
      "application/javascript": [
       "\n",
       "            setTimeout(function() {\n",
       "                var nbb_cell_id = 18;\n",
       "                var nbb_unformatted_code = \"coeff = pipeline.named_steps[\\\"estimator\\\"].coef_\\nnp.array(x.columns)[coeff == 0]\";\n",
       "                var nbb_formatted_code = \"coeff = pipeline.named_steps[\\\"estimator\\\"].coef_\\nnp.array(x.columns)[coeff == 0]\";\n",
       "                var nbb_cells = Jupyter.notebook.get_cells();\n",
       "                for (var i = 0; i < nbb_cells.length; ++i) {\n",
       "                    if (nbb_cells[i].input_prompt_number == nbb_cell_id) {\n",
       "                        if (nbb_cells[i].get_text() == nbb_unformatted_code) {\n",
       "                             nbb_cells[i].set_text(nbb_formatted_code);\n",
       "                        }\n",
       "                        break;\n",
       "                    }\n",
       "                }\n",
       "            }, 500);\n",
       "            "
      ],
      "text/plain": [
       "<IPython.core.display.Javascript object>"
      ]
     },
     "metadata": {},
     "output_type": "display_data"
    }
   ],
   "source": [
    "coeff = pipeline.named_steps[\"estimator\"].coef_\n",
    "np.array(x.columns)[coeff == 0]"
   ]
  },
  {
   "cell_type": "code",
   "execution_count": 19,
   "id": "e0b4ef54",
   "metadata": {
    "execution": {
     "iopub.execute_input": "2024-07-17T10:24:18.618707Z",
     "iopub.status.busy": "2024-07-17T10:24:18.617576Z",
     "iopub.status.idle": "2024-07-17T10:24:18.754836Z",
     "shell.execute_reply": "2024-07-17T10:24:18.753601Z"
    },
    "papermill": {
     "duration": 0.164729,
     "end_time": "2024-07-17T10:24:18.758137",
     "exception": false,
     "start_time": "2024-07-17T10:24:18.593408",
     "status": "completed"
    },
    "tags": []
   },
   "outputs": [
    {
     "data": {
      "text/plain": [
       "Index(['CaO', 'SiO2', 'Al2O3', 'Fe2O3', 'MgO', 'SO3', 'K2O', 'Na2O',\n",
       "       'Total C3S', 'Total C2S', 'C3A', 'C4AF', 'Free CaO', 'Loss on Ignition',\n",
       "       'CS1', 'CS3', 'CS7'],\n",
       "      dtype='object')"
      ]
     },
     "execution_count": 19,
     "metadata": {},
     "output_type": "execute_result"
    },
    {
     "data": {
      "application/javascript": [
       "\n",
       "            setTimeout(function() {\n",
       "                var nbb_cell_id = 19;\n",
       "                var nbb_unformatted_code = \"x.drop(np.array(x.columns)[coeff == 0], axis=1).columns\";\n",
       "                var nbb_formatted_code = \"x.drop(np.array(x.columns)[coeff == 0], axis=1).columns\";\n",
       "                var nbb_cells = Jupyter.notebook.get_cells();\n",
       "                for (var i = 0; i < nbb_cells.length; ++i) {\n",
       "                    if (nbb_cells[i].input_prompt_number == nbb_cell_id) {\n",
       "                        if (nbb_cells[i].get_text() == nbb_unformatted_code) {\n",
       "                             nbb_cells[i].set_text(nbb_formatted_code);\n",
       "                        }\n",
       "                        break;\n",
       "                    }\n",
       "                }\n",
       "            }, 500);\n",
       "            "
      ],
      "text/plain": [
       "<IPython.core.display.Javascript object>"
      ]
     },
     "metadata": {},
     "output_type": "display_data"
    }
   ],
   "source": [
    "x.drop(np.array(x.columns)[coeff == 0], axis=1).columns"
   ]
  },
  {
   "cell_type": "code",
   "execution_count": 20,
   "id": "631797c3",
   "metadata": {
    "execution": {
     "iopub.execute_input": "2024-07-17T10:24:18.810088Z",
     "iopub.status.busy": "2024-07-17T10:24:18.808946Z",
     "iopub.status.idle": "2024-07-17T10:24:18.954749Z",
     "shell.execute_reply": "2024-07-17T10:24:18.953500Z"
    },
    "papermill": {
     "duration": 0.174041,
     "end_time": "2024-07-17T10:24:18.958052",
     "exception": false,
     "start_time": "2024-07-17T10:24:18.784011",
     "status": "completed"
    },
    "tags": []
   },
   "outputs": [
    {
     "data": {
      "text/plain": [
       "(17,)"
      ]
     },
     "execution_count": 20,
     "metadata": {},
     "output_type": "execute_result"
    },
    {
     "data": {
      "application/javascript": [
       "\n",
       "            setTimeout(function() {\n",
       "                var nbb_cell_id = 20;\n",
       "                var nbb_unformatted_code = \"x.drop(np.array(x.columns)[coeff == 0], axis=1).columns.shape\";\n",
       "                var nbb_formatted_code = \"x.drop(np.array(x.columns)[coeff == 0], axis=1).columns.shape\";\n",
       "                var nbb_cells = Jupyter.notebook.get_cells();\n",
       "                for (var i = 0; i < nbb_cells.length; ++i) {\n",
       "                    if (nbb_cells[i].input_prompt_number == nbb_cell_id) {\n",
       "                        if (nbb_cells[i].get_text() == nbb_unformatted_code) {\n",
       "                             nbb_cells[i].set_text(nbb_formatted_code);\n",
       "                        }\n",
       "                        break;\n",
       "                    }\n",
       "                }\n",
       "            }, 500);\n",
       "            "
      ],
      "text/plain": [
       "<IPython.core.display.Javascript object>"
      ]
     },
     "metadata": {},
     "output_type": "display_data"
    }
   ],
   "source": [
    "x.drop(np.array(x.columns)[coeff == 0], axis=1).columns.shape"
   ]
  },
  {
   "cell_type": "code",
   "execution_count": 21,
   "id": "599c567f",
   "metadata": {
    "execution": {
     "iopub.execute_input": "2024-07-17T10:24:19.009559Z",
     "iopub.status.busy": "2024-07-17T10:24:19.008426Z",
     "iopub.status.idle": "2024-07-17T10:24:19.140644Z",
     "shell.execute_reply": "2024-07-17T10:24:19.139408Z"
    },
    "papermill": {
     "duration": 0.15952,
     "end_time": "2024-07-17T10:24:19.143952",
     "exception": false,
     "start_time": "2024-07-17T10:24:18.984432",
     "status": "completed"
    },
    "tags": []
   },
   "outputs": [
    {
     "data": {
      "text/plain": [
       "(17,)"
      ]
     },
     "execution_count": 21,
     "metadata": {},
     "output_type": "execute_result"
    },
    {
     "data": {
      "application/javascript": [
       "\n",
       "            setTimeout(function() {\n",
       "                var nbb_cell_id = 21;\n",
       "                var nbb_unformatted_code = \"x.columns.shape\";\n",
       "                var nbb_formatted_code = \"x.columns.shape\";\n",
       "                var nbb_cells = Jupyter.notebook.get_cells();\n",
       "                for (var i = 0; i < nbb_cells.length; ++i) {\n",
       "                    if (nbb_cells[i].input_prompt_number == nbb_cell_id) {\n",
       "                        if (nbb_cells[i].get_text() == nbb_unformatted_code) {\n",
       "                             nbb_cells[i].set_text(nbb_formatted_code);\n",
       "                        }\n",
       "                        break;\n",
       "                    }\n",
       "                }\n",
       "            }, 500);\n",
       "            "
      ],
      "text/plain": [
       "<IPython.core.display.Javascript object>"
      ]
     },
     "metadata": {},
     "output_type": "display_data"
    }
   ],
   "source": [
    "x.columns.shape"
   ]
  },
  {
   "cell_type": "code",
   "execution_count": 22,
   "id": "5e96bdb2",
   "metadata": {
    "execution": {
     "iopub.execute_input": "2024-07-17T10:24:19.196759Z",
     "iopub.status.busy": "2024-07-17T10:24:19.195664Z",
     "iopub.status.idle": "2024-07-17T10:24:19.331195Z",
     "shell.execute_reply": "2024-07-17T10:24:19.329951Z"
    },
    "papermill": {
     "duration": 0.163614,
     "end_time": "2024-07-17T10:24:19.334383",
     "exception": false,
     "start_time": "2024-07-17T10:24:19.170769",
     "status": "completed"
    },
    "tags": []
   },
   "outputs": [
    {
     "data": {
      "application/javascript": [
       "\n",
       "            setTimeout(function() {\n",
       "                var nbb_cell_id = 22;\n",
       "                var nbb_unformatted_code = \"coeffs = pd.DataFrame(\\n    {col: [c] for col, c in zip(x.columns, coeff)}, index=[\\\"Coefficients\\\"]\\n)\";\n",
       "                var nbb_formatted_code = \"coeffs = pd.DataFrame(\\n    {col: [c] for col, c in zip(x.columns, coeff)}, index=[\\\"Coefficients\\\"]\\n)\";\n",
       "                var nbb_cells = Jupyter.notebook.get_cells();\n",
       "                for (var i = 0; i < nbb_cells.length; ++i) {\n",
       "                    if (nbb_cells[i].input_prompt_number == nbb_cell_id) {\n",
       "                        if (nbb_cells[i].get_text() == nbb_unformatted_code) {\n",
       "                             nbb_cells[i].set_text(nbb_formatted_code);\n",
       "                        }\n",
       "                        break;\n",
       "                    }\n",
       "                }\n",
       "            }, 500);\n",
       "            "
      ],
      "text/plain": [
       "<IPython.core.display.Javascript object>"
      ]
     },
     "metadata": {},
     "output_type": "display_data"
    }
   ],
   "source": [
    "coeffs = pd.DataFrame(\n",
    "    {col: [c] for col, c in zip(x.columns, coeff)}, index=[\"Coefficients\"]\n",
    ")"
   ]
  },
  {
   "cell_type": "code",
   "execution_count": 23,
   "id": "74d3f6d6",
   "metadata": {
    "execution": {
     "iopub.execute_input": "2024-07-17T10:24:19.388112Z",
     "iopub.status.busy": "2024-07-17T10:24:19.386999Z",
     "iopub.status.idle": "2024-07-17T10:24:19.655864Z",
     "shell.execute_reply": "2024-07-17T10:24:19.654953Z"
    },
    "papermill": {
     "duration": 0.297816,
     "end_time": "2024-07-17T10:24:19.659350",
     "exception": false,
     "start_time": "2024-07-17T10:24:19.361534",
     "status": "completed"
    },
    "tags": []
   },
   "outputs": [
    {
     "data": {
      "text/html": [
       "<style type=\"text/css\">\n",
       "#T_dcbce_row0_col0 {\n",
       "  background-color: #bde5b6;\n",
       "  color: #000000;\n",
       "}\n",
       "#T_dcbce_row1_col0 {\n",
       "  background-color: #f3faf0;\n",
       "  color: #000000;\n",
       "}\n",
       "#T_dcbce_row2_col0, #T_dcbce_row3_col0, #T_dcbce_row4_col0, #T_dcbce_row5_col0, #T_dcbce_row6_col0, #T_dcbce_row7_col0, #T_dcbce_row8_col0, #T_dcbce_row9_col0, #T_dcbce_row10_col0, #T_dcbce_row11_col0, #T_dcbce_row12_col0, #T_dcbce_row13_col0, #T_dcbce_row14_col0, #T_dcbce_row15_col0, #T_dcbce_row16_col0 {\n",
       "  background-color: #f7fcf5;\n",
       "  color: #000000;\n",
       "}\n",
       "</style>\n",
       "<table id=\"T_dcbce\">\n",
       "  <thead>\n",
       "    <tr>\n",
       "      <th class=\"blank level0\" >&nbsp;</th>\n",
       "      <th id=\"T_dcbce_level0_col0\" class=\"col_heading level0 col0\" >Coefficients</th>\n",
       "    </tr>\n",
       "  </thead>\n",
       "  <tbody>\n",
       "    <tr>\n",
       "      <th id=\"T_dcbce_level0_row0\" class=\"row_heading level0 row0\" >CS7</th>\n",
       "      <td id=\"T_dcbce_row0_col0\" class=\"data row0 col0\" >2.128477</td>\n",
       "    </tr>\n",
       "    <tr>\n",
       "      <th id=\"T_dcbce_level0_row1\" class=\"row_heading level0 row1\" >CS3</th>\n",
       "      <td id=\"T_dcbce_row1_col0\" class=\"data row1 col0\" >1.121654</td>\n",
       "    </tr>\n",
       "    <tr>\n",
       "      <th id=\"T_dcbce_level0_row2\" class=\"row_heading level0 row2\" >Total C2S</th>\n",
       "      <td id=\"T_dcbce_row2_col0\" class=\"data row2 col0\" >0.521392</td>\n",
       "    </tr>\n",
       "    <tr>\n",
       "      <th id=\"T_dcbce_level0_row3\" class=\"row_heading level0 row3\" >Total C3S</th>\n",
       "      <td id=\"T_dcbce_row3_col0\" class=\"data row3 col0\" >0.205861</td>\n",
       "    </tr>\n",
       "    <tr>\n",
       "      <th id=\"T_dcbce_level0_row4\" class=\"row_heading level0 row4\" >Al2O3</th>\n",
       "      <td id=\"T_dcbce_row4_col0\" class=\"data row4 col0\" >0.132971</td>\n",
       "    </tr>\n",
       "    <tr>\n",
       "      <th id=\"T_dcbce_level0_row5\" class=\"row_heading level0 row5\" >CaO</th>\n",
       "      <td id=\"T_dcbce_row5_col0\" class=\"data row5 col0\" >0.098057</td>\n",
       "    </tr>\n",
       "    <tr>\n",
       "      <th id=\"T_dcbce_level0_row6\" class=\"row_heading level0 row6\" >Fe2O3</th>\n",
       "      <td id=\"T_dcbce_row6_col0\" class=\"data row6 col0\" >0.054956</td>\n",
       "    </tr>\n",
       "    <tr>\n",
       "      <th id=\"T_dcbce_level0_row7\" class=\"row_heading level0 row7\" >SiO2</th>\n",
       "      <td id=\"T_dcbce_row7_col0\" class=\"data row7 col0\" >0.035891</td>\n",
       "    </tr>\n",
       "    <tr>\n",
       "      <th id=\"T_dcbce_level0_row8\" class=\"row_heading level0 row8\" >Free CaO</th>\n",
       "      <td id=\"T_dcbce_row8_col0\" class=\"data row8 col0\" >-0.046005</td>\n",
       "    </tr>\n",
       "    <tr>\n",
       "      <th id=\"T_dcbce_level0_row9\" class=\"row_heading level0 row9\" >CS1</th>\n",
       "      <td id=\"T_dcbce_row9_col0\" class=\"data row9 col0\" >-0.063827</td>\n",
       "    </tr>\n",
       "    <tr>\n",
       "      <th id=\"T_dcbce_level0_row10\" class=\"row_heading level0 row10\" >Loss on Ignition</th>\n",
       "      <td id=\"T_dcbce_row10_col0\" class=\"data row10 col0\" >-0.066411</td>\n",
       "    </tr>\n",
       "    <tr>\n",
       "      <th id=\"T_dcbce_level0_row11\" class=\"row_heading level0 row11\" >Na2O</th>\n",
       "      <td id=\"T_dcbce_row11_col0\" class=\"data row11 col0\" >-0.071101</td>\n",
       "    </tr>\n",
       "    <tr>\n",
       "      <th id=\"T_dcbce_level0_row12\" class=\"row_heading level0 row12\" >MgO</th>\n",
       "      <td id=\"T_dcbce_row12_col0\" class=\"data row12 col0\" >-0.086198</td>\n",
       "    </tr>\n",
       "    <tr>\n",
       "      <th id=\"T_dcbce_level0_row13\" class=\"row_heading level0 row13\" >C3A</th>\n",
       "      <td id=\"T_dcbce_row13_col0\" class=\"data row13 col0\" >-0.139450</td>\n",
       "    </tr>\n",
       "    <tr>\n",
       "      <th id=\"T_dcbce_level0_row14\" class=\"row_heading level0 row14\" >C4AF</th>\n",
       "      <td id=\"T_dcbce_row14_col0\" class=\"data row14 col0\" >-0.146389</td>\n",
       "    </tr>\n",
       "    <tr>\n",
       "      <th id=\"T_dcbce_level0_row15\" class=\"row_heading level0 row15\" >SO3</th>\n",
       "      <td id=\"T_dcbce_row15_col0\" class=\"data row15 col0\" >-0.232966</td>\n",
       "    </tr>\n",
       "    <tr>\n",
       "      <th id=\"T_dcbce_level0_row16\" class=\"row_heading level0 row16\" >K2O</th>\n",
       "      <td id=\"T_dcbce_row16_col0\" class=\"data row16 col0\" >-0.373272</td>\n",
       "    </tr>\n",
       "  </tbody>\n",
       "</table>\n"
      ],
      "text/plain": [
       "<pandas.io.formats.style.Styler at 0x7bef343afd30>"
      ]
     },
     "execution_count": 23,
     "metadata": {},
     "output_type": "execute_result"
    },
    {
     "data": {
      "application/javascript": [
       "\n",
       "            setTimeout(function() {\n",
       "                var nbb_cell_id = 23;\n",
       "                var nbb_unformatted_code = \"coeffs.T[\\\"Coefficients\\\"].sort_values(ascending=False).to_frame(\\n    name=\\\"Coefficients\\\"\\n).style.background_gradient(axis=None, vmin=1, vmax=5, cmap=\\\"Greens\\\")\";\n",
       "                var nbb_formatted_code = \"coeffs.T[\\\"Coefficients\\\"].sort_values(ascending=False).to_frame(\\n    name=\\\"Coefficients\\\"\\n).style.background_gradient(axis=None, vmin=1, vmax=5, cmap=\\\"Greens\\\")\";\n",
       "                var nbb_cells = Jupyter.notebook.get_cells();\n",
       "                for (var i = 0; i < nbb_cells.length; ++i) {\n",
       "                    if (nbb_cells[i].input_prompt_number == nbb_cell_id) {\n",
       "                        if (nbb_cells[i].get_text() == nbb_unformatted_code) {\n",
       "                             nbb_cells[i].set_text(nbb_formatted_code);\n",
       "                        }\n",
       "                        break;\n",
       "                    }\n",
       "                }\n",
       "            }, 500);\n",
       "            "
      ],
      "text/plain": [
       "<IPython.core.display.Javascript object>"
      ]
     },
     "metadata": {},
     "output_type": "display_data"
    }
   ],
   "source": [
    "coeffs.T[\"Coefficients\"].sort_values(ascending=False).to_frame(\n",
    "    name=\"Coefficients\"\n",
    ").style.background_gradient(axis=None, vmin=1, vmax=5, cmap=\"Greens\")"
   ]
  },
  {
   "cell_type": "code",
   "execution_count": 24,
   "id": "71363349",
   "metadata": {
    "execution": {
     "iopub.execute_input": "2024-07-17T10:24:19.708568Z",
     "iopub.status.busy": "2024-07-17T10:24:19.707681Z",
     "iopub.status.idle": "2024-07-17T10:24:19.787966Z",
     "shell.execute_reply": "2024-07-17T10:24:19.786813Z"
    },
    "papermill": {
     "duration": 0.107447,
     "end_time": "2024-07-17T10:24:19.791068",
     "exception": false,
     "start_time": "2024-07-17T10:24:19.683621",
     "status": "completed"
    },
    "tags": []
   },
   "outputs": [
    {
     "data": {
      "text/html": [
       "<div>\n",
       "<style scoped>\n",
       "    .dataframe tbody tr th:only-of-type {\n",
       "        vertical-align: middle;\n",
       "    }\n",
       "\n",
       "    .dataframe tbody tr th {\n",
       "        vertical-align: top;\n",
       "    }\n",
       "\n",
       "    .dataframe thead tr th {\n",
       "        text-align: left;\n",
       "    }\n",
       "</style>\n",
       "<table border=\"1\" class=\"dataframe\">\n",
       "  <thead>\n",
       "    <tr>\n",
       "      <th></th>\n",
       "      <th>Features</th>\n",
       "      <th>Model</th>\n",
       "      <th>Cross Validation</th>\n",
       "      <th>Cross Validation Params</th>\n",
       "      <th colspan=\"2\" halign=\"left\">RMSE Test</th>\n",
       "      <th colspan=\"2\" halign=\"left\">MAE Test</th>\n",
       "      <th colspan=\"2\" halign=\"left\">MAPE Test</th>\n",
       "      <th colspan=\"2\" halign=\"left\">R2 Test</th>\n",
       "    </tr>\n",
       "    <tr>\n",
       "      <th></th>\n",
       "      <th></th>\n",
       "      <th></th>\n",
       "      <th></th>\n",
       "      <th></th>\n",
       "      <th>mean</th>\n",
       "      <th>std</th>\n",
       "      <th>mean</th>\n",
       "      <th>std</th>\n",
       "      <th>mean</th>\n",
       "      <th>std</th>\n",
       "      <th>mean</th>\n",
       "      <th>std</th>\n",
       "    </tr>\n",
       "  </thead>\n",
       "  <tbody>\n",
       "    <tr>\n",
       "      <th>0</th>\n",
       "      <td>Chemical + Mineralogical + CS1 + CS3 + CS7</td>\n",
       "      <td>Linear Regression</td>\n",
       "      <td>Blocking Time Series Split</td>\n",
       "      <td>{\"N_Splits\": 5, \"Repeats\": 1, \"train_size\": 0.8}</td>\n",
       "      <td>1.717546</td>\n",
       "      <td>0.236298</td>\n",
       "      <td>1.389837</td>\n",
       "      <td>0.216141</td>\n",
       "      <td>0.032114</td>\n",
       "      <td>0.005212</td>\n",
       "      <td>0.685468</td>\n",
       "      <td>0.109040</td>\n",
       "    </tr>\n",
       "    <tr>\n",
       "      <th>1</th>\n",
       "      <td>Chemical + Mineralogical + CS1 + CS3 + CS7</td>\n",
       "      <td>Linear Regression</td>\n",
       "      <td>Out of time Split</td>\n",
       "      <td>{\"Test Size\": 0.2}</td>\n",
       "      <td>2.158519</td>\n",
       "      <td>0.000000</td>\n",
       "      <td>1.738989</td>\n",
       "      <td>0.000000</td>\n",
       "      <td>0.044854</td>\n",
       "      <td>0.000000</td>\n",
       "      <td>0.398587</td>\n",
       "      <td>0.000000</td>\n",
       "    </tr>\n",
       "    <tr>\n",
       "      <th>2</th>\n",
       "      <td>Chemical + Mineralogical + CS1 + CS3 + CS7</td>\n",
       "      <td>Linear Regression</td>\n",
       "      <td>Repeated KFold</td>\n",
       "      <td>{\"N_Splits\": 5, \"Repeats\": 3}</td>\n",
       "      <td>1.500941</td>\n",
       "      <td>0.067769</td>\n",
       "      <td>1.181912</td>\n",
       "      <td>0.057281</td>\n",
       "      <td>0.027776</td>\n",
       "      <td>0.001495</td>\n",
       "      <td>0.816296</td>\n",
       "      <td>0.018653</td>\n",
       "    </tr>\n",
       "    <tr>\n",
       "      <th>3</th>\n",
       "      <td>Chemical + Mineralogical + CS1 + CS3 + CS7</td>\n",
       "      <td>Linear Regression</td>\n",
       "      <td>Time Series Split</td>\n",
       "      <td>{\"N_Splits\": 5, \"Repeats\": 1, \"Gap\": 0}</td>\n",
       "      <td>1.651253</td>\n",
       "      <td>0.308856</td>\n",
       "      <td>1.310968</td>\n",
       "      <td>0.277548</td>\n",
       "      <td>0.031191</td>\n",
       "      <td>0.008532</td>\n",
       "      <td>0.680195</td>\n",
       "      <td>0.166362</td>\n",
       "    </tr>\n",
       "  </tbody>\n",
       "</table>\n",
       "</div>"
      ],
      "text/plain": [
       "                                     Features              Model  \\\n",
       "                                                                   \n",
       "0  Chemical + Mineralogical + CS1 + CS3 + CS7  Linear Regression   \n",
       "1  Chemical + Mineralogical + CS1 + CS3 + CS7  Linear Regression   \n",
       "2  Chemical + Mineralogical + CS1 + CS3 + CS7  Linear Regression   \n",
       "3  Chemical + Mineralogical + CS1 + CS3 + CS7  Linear Regression   \n",
       "\n",
       "             Cross Validation  \\\n",
       "                                \n",
       "0  Blocking Time Series Split   \n",
       "1           Out of time Split   \n",
       "2              Repeated KFold   \n",
       "3           Time Series Split   \n",
       "\n",
       "                            Cross Validation Params RMSE Test            \\\n",
       "                                                         mean       std   \n",
       "0  {\"N_Splits\": 5, \"Repeats\": 1, \"train_size\": 0.8}  1.717546  0.236298   \n",
       "1                                {\"Test Size\": 0.2}  2.158519  0.000000   \n",
       "2                     {\"N_Splits\": 5, \"Repeats\": 3}  1.500941  0.067769   \n",
       "3           {\"N_Splits\": 5, \"Repeats\": 1, \"Gap\": 0}  1.651253  0.308856   \n",
       "\n",
       "   MAE Test           MAPE Test             R2 Test            \n",
       "       mean       std      mean       std      mean       std  \n",
       "0  1.389837  0.216141  0.032114  0.005212  0.685468  0.109040  \n",
       "1  1.738989  0.000000  0.044854  0.000000  0.398587  0.000000  \n",
       "2  1.181912  0.057281  0.027776  0.001495  0.816296  0.018653  \n",
       "3  1.310968  0.277548  0.031191  0.008532  0.680195  0.166362  "
      ]
     },
     "execution_count": 24,
     "metadata": {},
     "output_type": "execute_result"
    },
    {
     "data": {
      "application/javascript": [
       "\n",
       "            setTimeout(function() {\n",
       "                var nbb_cell_id = 24;\n",
       "                var nbb_unformatted_code = \"pd.concat(results_to_save).groupby(\\n    [\\\"Features\\\", \\\"Model\\\", \\\"Cross Validation\\\", \\\"Cross Validation Params\\\"]\\n)[[\\\"RMSE Test\\\", \\\"MAE Test\\\", \\\"MAPE Test\\\", \\\"R2 Test\\\"]].agg(\\n    [\\\"mean\\\", lambda series: pd.Series(series.std(ddof=0), name=\\\"std\\\")]\\n).reset_index().rename(\\n    columns={\\\"<lambda_0>\\\": \\\"std\\\"}\\n)\";\n",
       "                var nbb_formatted_code = \"pd.concat(results_to_save).groupby(\\n    [\\\"Features\\\", \\\"Model\\\", \\\"Cross Validation\\\", \\\"Cross Validation Params\\\"]\\n)[[\\\"RMSE Test\\\", \\\"MAE Test\\\", \\\"MAPE Test\\\", \\\"R2 Test\\\"]].agg(\\n    [\\\"mean\\\", lambda series: pd.Series(series.std(ddof=0), name=\\\"std\\\")]\\n).reset_index().rename(\\n    columns={\\\"<lambda_0>\\\": \\\"std\\\"}\\n)\";\n",
       "                var nbb_cells = Jupyter.notebook.get_cells();\n",
       "                for (var i = 0; i < nbb_cells.length; ++i) {\n",
       "                    if (nbb_cells[i].input_prompt_number == nbb_cell_id) {\n",
       "                        if (nbb_cells[i].get_text() == nbb_unformatted_code) {\n",
       "                             nbb_cells[i].set_text(nbb_formatted_code);\n",
       "                        }\n",
       "                        break;\n",
       "                    }\n",
       "                }\n",
       "            }, 500);\n",
       "            "
      ],
      "text/plain": [
       "<IPython.core.display.Javascript object>"
      ]
     },
     "metadata": {},
     "output_type": "display_data"
    }
   ],
   "source": [
    "pd.concat(results_to_save).groupby(\n",
    "    [\"Features\", \"Model\", \"Cross Validation\", \"Cross Validation Params\"]\n",
    ")[[\"RMSE Test\", \"MAE Test\", \"MAPE Test\", \"R2 Test\"]].agg(\n",
    "    [\"mean\", lambda series: pd.Series(series.std(ddof=0), name=\"std\")]\n",
    ").reset_index().rename(\n",
    "    columns={\"<lambda_0>\": \"std\"}\n",
    ")"
   ]
  },
  {
   "cell_type": "markdown",
   "id": "783868b0",
   "metadata": {
    "papermill": {
     "duration": 0.022213,
     "end_time": "2024-07-17T10:24:19.839621",
     "exception": false,
     "start_time": "2024-07-17T10:24:19.817408",
     "status": "completed"
    },
    "tags": []
   },
   "source": [
    "# Saving the results Dataframe"
   ]
  },
  {
   "cell_type": "markdown",
   "id": "d5468fa7",
   "metadata": {
    "papermill": {
     "duration": 0.044208,
     "end_time": "2024-07-17T10:24:19.941927",
     "exception": false,
     "start_time": "2024-07-17T10:24:19.897719",
     "status": "completed"
    },
    "tags": []
   },
   "source": [
    "## Saving the full dataframe"
   ]
  },
  {
   "cell_type": "code",
   "execution_count": 25,
   "id": "e4541f38",
   "metadata": {
    "execution": {
     "iopub.execute_input": "2024-07-17T10:24:19.976433Z",
     "iopub.status.busy": "2024-07-17T10:24:19.975780Z",
     "iopub.status.idle": "2024-07-17T10:24:19.997556Z",
     "shell.execute_reply": "2024-07-17T10:24:19.996283Z"
    },
    "papermill": {
     "duration": 0.04244,
     "end_time": "2024-07-17T10:24:20.000494",
     "exception": false,
     "start_time": "2024-07-17T10:24:19.958054",
     "status": "completed"
    },
    "tags": []
   },
   "outputs": [
    {
     "data": {
      "application/javascript": [
       "\n",
       "            setTimeout(function() {\n",
       "                var nbb_cell_id = 25;\n",
       "                var nbb_unformatted_code = \"path = \\\"../../../../../../reports/results/local_models/partner_ii/all_cements/full/\\\"\\nfilename = \\\"linear_regression_results_full_16.csv\\\"\\n\\npd.concat(results_to_save).to_csv(\\n    path_or_buf=path + filename,\\n    mode=\\\"w\\\",\\n    index=False,\\n    header=True,\\n)\";\n",
       "                var nbb_formatted_code = \"path = \\\"../../../../../../reports/results/local_models/partner_ii/all_cements/full/\\\"\\nfilename = \\\"linear_regression_results_full_16.csv\\\"\\n\\npd.concat(results_to_save).to_csv(\\n    path_or_buf=path + filename,\\n    mode=\\\"w\\\",\\n    index=False,\\n    header=True,\\n)\";\n",
       "                var nbb_cells = Jupyter.notebook.get_cells();\n",
       "                for (var i = 0; i < nbb_cells.length; ++i) {\n",
       "                    if (nbb_cells[i].input_prompt_number == nbb_cell_id) {\n",
       "                        if (nbb_cells[i].get_text() == nbb_unformatted_code) {\n",
       "                             nbb_cells[i].set_text(nbb_formatted_code);\n",
       "                        }\n",
       "                        break;\n",
       "                    }\n",
       "                }\n",
       "            }, 500);\n",
       "            "
      ],
      "text/plain": [
       "<IPython.core.display.Javascript object>"
      ]
     },
     "metadata": {},
     "output_type": "display_data"
    }
   ],
   "source": [
    "path = \"../../../../../../reports/results/local_models/partner_ii/all_cements/full/\"\n",
    "filename = \"linear_regression_results_full_16.csv\"\n",
    "\n",
    "pd.concat(results_to_save).to_csv(\n",
    "    path_or_buf=path + filename,\n",
    "    mode=\"w\",\n",
    "    index=False,\n",
    "    header=True,\n",
    ")"
   ]
  },
  {
   "cell_type": "markdown",
   "id": "d566848d",
   "metadata": {
    "papermill": {
     "duration": 0.024301,
     "end_time": "2024-07-17T10:24:20.045223",
     "exception": false,
     "start_time": "2024-07-17T10:24:20.020922",
     "status": "completed"
    },
    "tags": []
   },
   "source": [
    "## Saving the grouped dataframe"
   ]
  },
  {
   "cell_type": "code",
   "execution_count": 26,
   "id": "8cbdef69",
   "metadata": {
    "execution": {
     "iopub.execute_input": "2024-07-17T10:24:20.115941Z",
     "iopub.status.busy": "2024-07-17T10:24:20.114756Z",
     "iopub.status.idle": "2024-07-17T10:24:20.263182Z",
     "shell.execute_reply": "2024-07-17T10:24:20.261920Z"
    },
    "papermill": {
     "duration": 0.182501,
     "end_time": "2024-07-17T10:24:20.266593",
     "exception": false,
     "start_time": "2024-07-17T10:24:20.084092",
     "status": "completed"
    },
    "tags": []
   },
   "outputs": [
    {
     "data": {
      "application/javascript": [
       "\n",
       "            setTimeout(function() {\n",
       "                var nbb_cell_id = 26;\n",
       "                var nbb_unformatted_code = \"cols_groupby = [\\n    \\\"Category\\\",\\n    \\\"Company\\\",\\n    \\\"Data Shape\\\",\\n    \\\"Timesteps\\\",\\n    \\\"Features\\\",\\n    \\\"Model\\\",\\n    \\\"Cross Validation\\\",\\n    \\\"Cross Validation Params\\\",\\n]\\n\\ncols_agg = [\\\"RMSE Train\\\", \\\"MAE Train\\\", \\\"MAPE Train\\\", \\\"R2 Train\\\"] + [\\n    \\\"RMSE Test\\\",\\n    \\\"MAE Test\\\",\\n    \\\"MAPE Test\\\",\\n    \\\"R2 Test\\\",\\n]\\n\\npath = \\\"../../../../../../reports/results/local_models/partner_ii/all_cements/grouped/\\\"\\nfilename = \\\"linear_regression_results_grouped_16.csv\\\"\\n\\n\\ndf_results_to_save = (\\n    pd.concat(results_to_save)\\n    .groupby(cols_groupby, dropna=False)[cols_agg]\\n    .agg([\\\"mean\\\", lambda series: pd.Series(series.std(ddof=0), name=\\\"std\\\")])\\n    .reset_index()\\n    .rename(columns={\\\"<lambda_0>\\\": \\\"std\\\"})\\n)\\n\\ndf_results_to_save.to_csv(\\n    path_or_buf=path + filename,\\n    mode=\\\"w\\\",\\n    index=False,\\n    header=True,\\n)\";\n",
       "                var nbb_formatted_code = \"cols_groupby = [\\n    \\\"Category\\\",\\n    \\\"Company\\\",\\n    \\\"Data Shape\\\",\\n    \\\"Timesteps\\\",\\n    \\\"Features\\\",\\n    \\\"Model\\\",\\n    \\\"Cross Validation\\\",\\n    \\\"Cross Validation Params\\\",\\n]\\n\\ncols_agg = [\\\"RMSE Train\\\", \\\"MAE Train\\\", \\\"MAPE Train\\\", \\\"R2 Train\\\"] + [\\n    \\\"RMSE Test\\\",\\n    \\\"MAE Test\\\",\\n    \\\"MAPE Test\\\",\\n    \\\"R2 Test\\\",\\n]\\n\\npath = \\\"../../../../../../reports/results/local_models/partner_ii/all_cements/grouped/\\\"\\nfilename = \\\"linear_regression_results_grouped_16.csv\\\"\\n\\n\\ndf_results_to_save = (\\n    pd.concat(results_to_save)\\n    .groupby(cols_groupby, dropna=False)[cols_agg]\\n    .agg([\\\"mean\\\", lambda series: pd.Series(series.std(ddof=0), name=\\\"std\\\")])\\n    .reset_index()\\n    .rename(columns={\\\"<lambda_0>\\\": \\\"std\\\"})\\n)\\n\\ndf_results_to_save.to_csv(\\n    path_or_buf=path + filename,\\n    mode=\\\"w\\\",\\n    index=False,\\n    header=True,\\n)\";\n",
       "                var nbb_cells = Jupyter.notebook.get_cells();\n",
       "                for (var i = 0; i < nbb_cells.length; ++i) {\n",
       "                    if (nbb_cells[i].input_prompt_number == nbb_cell_id) {\n",
       "                        if (nbb_cells[i].get_text() == nbb_unformatted_code) {\n",
       "                             nbb_cells[i].set_text(nbb_formatted_code);\n",
       "                        }\n",
       "                        break;\n",
       "                    }\n",
       "                }\n",
       "            }, 500);\n",
       "            "
      ],
      "text/plain": [
       "<IPython.core.display.Javascript object>"
      ]
     },
     "metadata": {},
     "output_type": "display_data"
    }
   ],
   "source": [
    "cols_groupby = [\n",
    "    \"Category\",\n",
    "    \"Company\",\n",
    "    \"Data Shape\",\n",
    "    \"Timesteps\",\n",
    "    \"Features\",\n",
    "    \"Model\",\n",
    "    \"Cross Validation\",\n",
    "    \"Cross Validation Params\",\n",
    "]\n",
    "\n",
    "cols_agg = [\"RMSE Train\", \"MAE Train\", \"MAPE Train\", \"R2 Train\"] + [\n",
    "    \"RMSE Test\",\n",
    "    \"MAE Test\",\n",
    "    \"MAPE Test\",\n",
    "    \"R2 Test\",\n",
    "]\n",
    "\n",
    "path = \"../../../../../../reports/results/local_models/partner_ii/all_cements/grouped/\"\n",
    "filename = \"linear_regression_results_grouped_16.csv\"\n",
    "\n",
    "\n",
    "df_results_to_save = (\n",
    "    pd.concat(results_to_save)\n",
    "    .groupby(cols_groupby, dropna=False)[cols_agg]\n",
    "    .agg([\"mean\", lambda series: pd.Series(series.std(ddof=0), name=\"std\")])\n",
    "    .reset_index()\n",
    "    .rename(columns={\"<lambda_0>\": \"std\"})\n",
    ")\n",
    "\n",
    "df_results_to_save.to_csv(\n",
    "    path_or_buf=path + filename,\n",
    "    mode=\"w\",\n",
    "    index=False,\n",
    "    header=True,\n",
    ")"
   ]
  },
  {
   "cell_type": "code",
   "execution_count": null,
   "id": "4a90dbcc",
   "metadata": {
    "papermill": {
     "duration": 0.024811,
     "end_time": "2024-07-17T10:24:20.320681",
     "exception": false,
     "start_time": "2024-07-17T10:24:20.295870",
     "status": "completed"
    },
    "tags": []
   },
   "outputs": [],
   "source": []
  }
 ],
 "metadata": {
  "kernelspec": {
   "display_name": "ccs28-venv",
   "language": "python",
   "name": "ccs28-venv"
  },
  "language_info": {
   "codemirror_mode": {
    "name": "ipython",
    "version": 3
   },
   "file_extension": ".py",
   "mimetype": "text/x-python",
   "name": "python",
   "nbconvert_exporter": "python",
   "pygments_lexer": "ipython3",
   "version": "3.10.12"
  },
  "papermill": {
   "default_parameters": {},
   "duration": 11.772952,
   "end_time": "2024-07-17T10:24:22.987469",
   "environment_variables": {},
   "exception": null,
   "input_path": "/home/peressim/projects/ccs28-ml-modelling/notebooks/modelling/local_models/partner_ii/linear_regression/all_cements/ chemical-mineralogical-cs1-and-cs3-and-cs7-ds.ipynb",
   "output_path": "/home/peressim/projects/ccs28-ml-modelling/notebooks/modelling/local_models/partner_ii/linear_regression/all_cements/ chemical-mineralogical-cs1-and-cs3-and-cs7-ds.ipynb",
   "parameters": {},
   "start_time": "2024-07-17T10:24:11.214517",
   "version": "2.5.0"
  }
 },
 "nbformat": 4,
 "nbformat_minor": 5
}