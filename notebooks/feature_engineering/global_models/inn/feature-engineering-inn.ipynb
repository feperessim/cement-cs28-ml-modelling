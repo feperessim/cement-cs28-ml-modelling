{
 "cells": [
  {
   "cell_type": "code",
   "execution_count": 1,
   "id": "9ae5c0a0",
   "metadata": {},
   "outputs": [
    {
     "data": {
      "application/javascript": [
       "\n",
       "            setTimeout(function() {\n",
       "                var nbb_cell_id = 1;\n",
       "                var nbb_unformatted_code = \"%load_ext nb_black\";\n",
       "                var nbb_formatted_code = \"%load_ext nb_black\";\n",
       "                var nbb_cells = Jupyter.notebook.get_cells();\n",
       "                for (var i = 0; i < nbb_cells.length; ++i) {\n",
       "                    if (nbb_cells[i].input_prompt_number == nbb_cell_id) {\n",
       "                        if (nbb_cells[i].get_text() == nbb_unformatted_code) {\n",
       "                             nbb_cells[i].set_text(nbb_formatted_code);\n",
       "                        }\n",
       "                        break;\n",
       "                    }\n",
       "                }\n",
       "            }, 500);\n",
       "            "
      ],
      "text/plain": [
       "<IPython.core.display.Javascript object>"
      ]
     },
     "metadata": {},
     "output_type": "display_data"
    }
   ],
   "source": [
    "%load_ext nb_black"
   ]
  },
  {
   "cell_type": "code",
   "execution_count": 2,
   "id": "c86fd9cc",
   "metadata": {},
   "outputs": [
    {
     "data": {
      "application/javascript": [
       "\n",
       "            setTimeout(function() {\n",
       "                var nbb_cell_id = 2;\n",
       "                var nbb_unformatted_code = \"import pandas as pd\\nimport numpy as np\";\n",
       "                var nbb_formatted_code = \"import pandas as pd\\nimport numpy as np\";\n",
       "                var nbb_cells = Jupyter.notebook.get_cells();\n",
       "                for (var i = 0; i < nbb_cells.length; ++i) {\n",
       "                    if (nbb_cells[i].input_prompt_number == nbb_cell_id) {\n",
       "                        if (nbb_cells[i].get_text() == nbb_unformatted_code) {\n",
       "                             nbb_cells[i].set_text(nbb_formatted_code);\n",
       "                        }\n",
       "                        break;\n",
       "                    }\n",
       "                }\n",
       "            }, 500);\n",
       "            "
      ],
      "text/plain": [
       "<IPython.core.display.Javascript object>"
      ]
     },
     "metadata": {},
     "output_type": "display_data"
    }
   ],
   "source": [
    "import pandas as pd\n",
    "import numpy as np"
   ]
  },
  {
   "cell_type": "markdown",
   "id": "5bf08495",
   "metadata": {},
   "source": [
    "## Reading the dataset"
   ]
  },
  {
   "cell_type": "code",
   "execution_count": 3,
   "id": "ee921627",
   "metadata": {},
   "outputs": [
    {
     "data": {
      "application/javascript": [
       "\n",
       "            setTimeout(function() {\n",
       "                var nbb_cell_id = 3;\n",
       "                var nbb_unformatted_code = \"df = pd.read_csv(\\\"../../../../data/interim/Global-Dataset/global_dataset_inn.csv\\\")\";\n",
       "                var nbb_formatted_code = \"df = pd.read_csv(\\\"../../../../data/interim/Global-Dataset/global_dataset_inn.csv\\\")\";\n",
       "                var nbb_cells = Jupyter.notebook.get_cells();\n",
       "                for (var i = 0; i < nbb_cells.length; ++i) {\n",
       "                    if (nbb_cells[i].input_prompt_number == nbb_cell_id) {\n",
       "                        if (nbb_cells[i].get_text() == nbb_unformatted_code) {\n",
       "                             nbb_cells[i].set_text(nbb_formatted_code);\n",
       "                        }\n",
       "                        break;\n",
       "                    }\n",
       "                }\n",
       "            }, 500);\n",
       "            "
      ],
      "text/plain": [
       "<IPython.core.display.Javascript object>"
      ]
     },
     "metadata": {},
     "output_type": "display_data"
    }
   ],
   "source": [
    "df = pd.read_csv(\"../../../../data/interim/Global-Dataset/global_dataset_inn.csv\")"
   ]
  },
  {
   "cell_type": "markdown",
   "id": "a5eb17a0",
   "metadata": {},
   "source": [
    "## Saving the dataset"
   ]
  },
  {
   "cell_type": "code",
   "execution_count": 4,
   "id": "3cdcefa3",
   "metadata": {},
   "outputs": [
    {
     "data": {
      "application/javascript": [
       "\n",
       "            setTimeout(function() {\n",
       "                var nbb_cell_id = 4;\n",
       "                var nbb_unformatted_code = \"df.to_csv(\\\"../../../../data/processed/inn/global_dataset_inn.csv\\\", index=False)\";\n",
       "                var nbb_formatted_code = \"df.to_csv(\\\"../../../../data/processed/inn/global_dataset_inn.csv\\\", index=False)\";\n",
       "                var nbb_cells = Jupyter.notebook.get_cells();\n",
       "                for (var i = 0; i < nbb_cells.length; ++i) {\n",
       "                    if (nbb_cells[i].input_prompt_number == nbb_cell_id) {\n",
       "                        if (nbb_cells[i].get_text() == nbb_unformatted_code) {\n",
       "                             nbb_cells[i].set_text(nbb_formatted_code);\n",
       "                        }\n",
       "                        break;\n",
       "                    }\n",
       "                }\n",
       "            }, 500);\n",
       "            "
      ],
      "text/plain": [
       "<IPython.core.display.Javascript object>"
      ]
     },
     "metadata": {},
     "output_type": "display_data"
    }
   ],
   "source": [
    "df.to_csv(\"../../../../data/processed/inn/global_dataset_inn.csv\", index=False)"
   ]
  },
  {
   "cell_type": "markdown",
   "id": "a1f12d95",
   "metadata": {},
   "source": [
    "# Extra preprocessing for additional experiment"
   ]
  },
  {
   "cell_type": "code",
   "execution_count": 5,
   "id": "54e2c2e0",
   "metadata": {},
   "outputs": [
    {
     "data": {
      "application/javascript": [
       "\n",
       "            setTimeout(function() {\n",
       "                var nbb_cell_id = 5;\n",
       "                var nbb_unformatted_code = \"df = pd.read_csv(\\\"../../../../data/interim/Global-Dataset/global_dataset_inn_v2.csv\\\")\\ndf_partner_i = pd.read_csv(\\\"../../../../data/interim/partner_iv/cement-shipping_fine_tuning.csv\\\")\\ndf_partner_ii = pd.read_csv(\\n    \\\"../../../../data/interim/partner_ii/cement-shipping_fine_tuning.csv\\\"\\n)\\ndf_partner_iv = pd.read_csv(\\n    \\\"../../../../data/interim/partner_i-Oficial/cement-shipping_fine_tuning.csv\\\"\\n)\";\n",
       "                var nbb_formatted_code = \"df = pd.read_csv(\\\"../../../../data/interim/Global-Dataset/global_dataset_inn_v2.csv\\\")\\ndf_partner_i = pd.read_csv(\\\"../../../../data/interim/partner_iv/cement-shipping_fine_tuning.csv\\\")\\ndf_partner_ii = pd.read_csv(\\n    \\\"../../../../data/interim/partner_ii/cement-shipping_fine_tuning.csv\\\"\\n)\\ndf_partner_iv = pd.read_csv(\\n    \\\"../../../../data/interim/partner_i-Oficial/cement-shipping_fine_tuning.csv\\\"\\n)\";\n",
       "                var nbb_cells = Jupyter.notebook.get_cells();\n",
       "                for (var i = 0; i < nbb_cells.length; ++i) {\n",
       "                    if (nbb_cells[i].input_prompt_number == nbb_cell_id) {\n",
       "                        if (nbb_cells[i].get_text() == nbb_unformatted_code) {\n",
       "                             nbb_cells[i].set_text(nbb_formatted_code);\n",
       "                        }\n",
       "                        break;\n",
       "                    }\n",
       "                }\n",
       "            }, 500);\n",
       "            "
      ],
      "text/plain": [
       "<IPython.core.display.Javascript object>"
      ]
     },
     "metadata": {},
     "output_type": "display_data"
    }
   ],
   "source": [
    "df = pd.read_csv(\"../../../../data/interim/Global-Dataset/global_dataset_inn_v2.csv\")\n",
    "df_partner_i = pd.read_csv(\"../../../../data/interim/partner_iv/cement-shipping_fine_tuning.csv\")\n",
    "df_partner_ii = pd.read_csv(\n",
    "    \"../../../../data/interim/partner_ii/cement-shipping_fine_tuning.csv\"\n",
    ")\n",
    "df_partner_iv = pd.read_csv(\n",
    "    \"../../../../data/interim/partner_i-Oficial/cement-shipping_fine_tuning.csv\"\n",
    ")"
   ]
  },
  {
   "cell_type": "code",
   "execution_count": 6,
   "id": "a6597f00",
   "metadata": {},
   "outputs": [
    {
     "data": {
      "application/javascript": [
       "\n",
       "            setTimeout(function() {\n",
       "                var nbb_cell_id = 6;\n",
       "                var nbb_unformatted_code = \"df.to_csv(\\\"../../../../data/processed/inn/global_dataset_inn_v2.csv\\\", index=False)\\ndf_partner_i.to_csv(\\n    \\\"../../../../data/processed/partner_iv/cement-shipping_fine_tuning.csv\\\", index=False\\n)\\ndf_partner_ii.to_csv(\\n    \\\"../../../../data/processed/partner_ii/cement-shipping_fine_tuning.csv\\\", index=False\\n)\\ndf_partner_iv.to_csv(\\n    \\\"../../../../data/processed/partner_i-Oficial/cement-shipping_fine_tuning.csv\\\",\\n    index=False,\\n)\";\n",
       "                var nbb_formatted_code = \"df.to_csv(\\\"../../../../data/processed/inn/global_dataset_inn_v2.csv\\\", index=False)\\ndf_partner_i.to_csv(\\n    \\\"../../../../data/processed/partner_iv/cement-shipping_fine_tuning.csv\\\", index=False\\n)\\ndf_partner_ii.to_csv(\\n    \\\"../../../../data/processed/partner_ii/cement-shipping_fine_tuning.csv\\\", index=False\\n)\\ndf_partner_iv.to_csv(\\n    \\\"../../../../data/processed/partner_i-Oficial/cement-shipping_fine_tuning.csv\\\",\\n    index=False,\\n)\";\n",
       "                var nbb_cells = Jupyter.notebook.get_cells();\n",
       "                for (var i = 0; i < nbb_cells.length; ++i) {\n",
       "                    if (nbb_cells[i].input_prompt_number == nbb_cell_id) {\n",
       "                        if (nbb_cells[i].get_text() == nbb_unformatted_code) {\n",
       "                             nbb_cells[i].set_text(nbb_formatted_code);\n",
       "                        }\n",
       "                        break;\n",
       "                    }\n",
       "                }\n",
       "            }, 500);\n",
       "            "
      ],
      "text/plain": [
       "<IPython.core.display.Javascript object>"
      ]
     },
     "metadata": {},
     "output_type": "display_data"
    }
   ],
   "source": [
    "df.to_csv(\"../../../../data/processed/inn/global_dataset_inn_v2.csv\", index=False)\n",
    "df_partner_i.to_csv(\n",
    "    \"../../../../data/processed/partner_iv/cement-shipping_fine_tuning.csv\", index=False\n",
    ")\n",
    "df_partner_ii.to_csv(\n",
    "    \"../../../../data/processed/partner_ii/cement-shipping_fine_tuning.csv\", index=False\n",
    ")\n",
    "df_partner_iv.to_csv(\n",
    "    \"../../../../data/processed/partner_i-Oficial/cement-shipping_fine_tuning.csv\",\n",
    "    index=False,\n",
    ")"
   ]
  },
  {
   "cell_type": "code",
   "execution_count": null,
   "id": "b562df70",
   "metadata": {},
   "outputs": [],
   "source": []
  }
 ],
 "metadata": {
  "kernelspec": {
   "display_name": "ccs28-venv",
   "language": "python",
   "name": "ccs28-venv"
  },
  "language_info": {
   "codemirror_mode": {
    "name": "ipython",
    "version": 3
   },
   "file_extension": ".py",
   "mimetype": "text/x-python",
   "name": "python",
   "nbconvert_exporter": "python",
   "pygments_lexer": "ipython3",
   "version": "3.10.12"
  }
 },
 "nbformat": 4,
 "nbformat_minor": 5
}
