{
 "cells": [
  {
   "cell_type": "code",
   "execution_count": 1,
   "metadata": {},
   "outputs": [],
   "source": [
    "import pandas as pd\n",
    "import numpy as np"
   ]
  },
  {
   "cell_type": "markdown",
   "metadata": {},
   "source": [
    "## Reading the dataset"
   ]
  },
  {
   "cell_type": "code",
   "execution_count": 2,
   "metadata": {},
   "outputs": [],
   "source": [
    "df = pd.read_csv(\"../../../../data/interim/partner_iv/cement-shipping.csv\")\n",
    "df_cem_a = pd.read_csv(\"../../../../data/interim/partner_iv/cem_a.csv\")\n",
    "df_cem_b = pd.read_csv(\"../../../../data/interim/partner_iv/cem_b.csv\")\n",
    "df_cem_c = pd.read_csv(\"../../../../data/interim/partner_iv/cem_c.csv\")"
   ]
  },
  {
   "cell_type": "markdown",
   "metadata": {},
   "source": [
    "## Convert column of cement type to one-hot encoding"
   ]
  },
  {
   "cell_type": "code",
   "execution_count": 3,
   "metadata": {},
   "outputs": [],
   "source": [
    "df = pd.get_dummies(data=df, columns=[\"cem_type\"], drop_first=True)"
   ]
  },
  {
   "cell_type": "markdown",
   "metadata": {},
   "source": [
    "## Saving the dataset"
   ]
  },
  {
   "cell_type": "code",
   "execution_count": 4,
   "metadata": {},
   "outputs": [],
   "source": [
    "df.to_csv(\"../../../../data/processed/partner_iv/cement-shipping.csv\", index=False)\n",
    "df_cem_a.to_csv(\"../../../../data/processed/partner_iv/cem_a.csv\", index=False)\n",
    "df_cem_b.to_csv(\"../../../../data/processed/partner_iv/cem_b.csv\", index=False)\n",
    "df_cem_c.to_csv(\"../../../../data/processed/partner_iv/cem_c.csv\", index=False)"
   ]
  },
  {
   "cell_type": "code",
   "execution_count": null,
   "metadata": {},
   "outputs": [],
   "source": []
  }
 ],
 "metadata": {
  "kernelspec": {
   "display_name": "ccs28-venv",
   "language": "python",
   "name": "ccs28-venv"
  },
  "language_info": {
   "codemirror_mode": {
    "name": "ipython",
    "version": 3
   },
   "file_extension": ".py",
   "mimetype": "text/x-python",
   "name": "python",
   "nbconvert_exporter": "python",
   "pygments_lexer": "ipython3",
   "version": "3.10.12"
  }
 },
 "nbformat": 4,
 "nbformat_minor": 2
}
