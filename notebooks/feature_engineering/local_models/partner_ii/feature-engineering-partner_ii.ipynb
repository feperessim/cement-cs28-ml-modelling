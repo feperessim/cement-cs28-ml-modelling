{
 "cells": [
  {
   "cell_type": "code",
   "execution_count": 1,
   "metadata": {},
   "outputs": [],
   "source": [
    "import pandas as pd\n",
    "import numpy as np"
   ]
  },
  {
   "cell_type": "markdown",
   "metadata": {},
   "source": [
    "## Reading the dataset"
   ]
  },
  {
   "cell_type": "code",
   "execution_count": 2,
   "metadata": {},
   "outputs": [],
   "source": [
    "df = pd.read_csv(\"../../../../data/interim/partner_ii/cement-shipping.csv\")\n",
    "df_type_i_ii = pd.read_csv(\"../../../../data/interim/partner_ii/Type-I-II.csv\")\n",
    "df_type_iii = pd.read_csv(\"../../../../data/interim/partner_ii/Type-III.csv\")\n",
    "df_type_il = pd.read_csv(\"../../../../data/interim/partner_ii/Type-IL.csv\")"
   ]
  },
  {
   "cell_type": "markdown",
   "metadata": {},
   "source": [
    "## Saving the dataset"
   ]
  },
  {
   "cell_type": "code",
   "execution_count": 3,
   "metadata": {},
   "outputs": [],
   "source": [
    "df.to_csv(\"../../../../data/processed/partner_ii/cement-shipping.csv\", index=False)\n",
    "df_type_i_ii.to_csv(\"../../../../data/processed/partner_ii/Type-I-II.csv\", index=False)\n",
    "df_type_iii.to_csv(\"../../../../data/processed/partner_ii/Type-III.csv\", index=False)\n",
    "df_type_il.to_csv(\"../../../../data/processed/partner_ii/Type-IL.csv\", index=False)"
   ]
  },
  {
   "cell_type": "code",
   "execution_count": null,
   "metadata": {},
   "outputs": [],
   "source": []
  }
 ],
 "metadata": {
  "kernelspec": {
   "display_name": "ccs28-venv",
   "language": "python",
   "name": "ccs28-venv"
  },
  "language_info": {
   "codemirror_mode": {
    "name": "ipython",
    "version": 3
   },
   "file_extension": ".py",
   "mimetype": "text/x-python",
   "name": "python",
   "nbconvert_exporter": "python",
   "pygments_lexer": "ipython3",
   "version": "3.10.12"
  }
 },
 "nbformat": 4,
 "nbformat_minor": 2
}
