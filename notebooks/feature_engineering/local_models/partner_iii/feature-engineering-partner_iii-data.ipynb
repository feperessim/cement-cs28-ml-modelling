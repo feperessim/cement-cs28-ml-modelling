{
 "cells": [
  {
   "cell_type": "code",
   "execution_count": 1,
   "metadata": {},
   "outputs": [],
   "source": [
    "import pandas as pd\n",
    "import numpy as np"
   ]
  },
  {
   "cell_type": "code",
   "execution_count": 2,
   "metadata": {},
   "outputs": [],
   "source": [
    "xls = pd.ExcelFile(\n",
    "    \"../../../data/raw/partner_iii/Dati CADD 2020-2022.xlsx\", engine=\"openpyxl\"\n",
    ")"
   ]
  },
  {
   "cell_type": "code",
   "execution_count": 3,
   "metadata": {},
   "outputs": [
    {
     "data": {
      "text/plain": [
       "['2020-2022']"
      ]
     },
     "execution_count": 3,
     "metadata": {},
     "output_type": "execute_result"
    }
   ],
   "source": [
    "xls.sheet_names"
   ]
  },
  {
   "cell_type": "code",
   "execution_count": 4,
   "metadata": {},
   "outputs": [],
   "source": [
    "df = pd.read_excel(xls, '2020-2022')"
   ]
  },
  {
   "cell_type": "markdown",
   "metadata": {},
   "source": [
    "# Removing Useless Features\n",
    "\n",
    "Here we will drop some features that may not contribute to the performance of the models that will be fitted on this data."
   ]
  },
  {
   "cell_type": "markdown",
   "metadata": {},
   "source": [
    "## Removing features with features having 65% of missing values"
   ]
  },
  {
   "cell_type": "code",
   "execution_count": 5,
   "metadata": {},
   "outputs": [],
   "source": [
    "miss_perc = df.isnull().sum()/df.shape[0] * 100\n",
    "miss_perc = miss_perc.sort_values(ascending=False)"
   ]
  },
  {
   "cell_type": "code",
   "execution_count": 6,
   "metadata": {},
   "outputs": [
    {
     "data": {
      "text/plain": [
       "Flow at 60 min (%)                         99.372057\n",
       "Flow at 30 min (%)                         99.058085\n",
       "3d compressive strength (MPa)              96.703297\n",
       "Pozzolan (%)                               96.075353\n",
       "Fly ash (%)                                94.819466\n",
       "Slag (%)                                   94.191523\n",
       "Flow (%)                                   92.935636\n",
       "Mixing water for normal consistency (%)    92.621664\n",
       "Alpine residual 200µm (%)                  91.993721\n",
       "Other (%)                                  89.952904\n",
       "Final setting time (min)                   88.383046\n",
       "Initial setting time (min)                 88.383046\n",
       "Alpine residual 90µm (%)                   85.086342\n",
       "Blaine specific surface (cm2/g)            79.591837\n",
       "7d compressive strength (MPa)              73.783359\n",
       "Alpine residual 63µm (%)                   72.213501\n",
       "Alpine residual 32µm (%)                   67.032967\n",
       "Alpine residual 40µm (%)                   67.032967\n",
       "Limestone (%)                              61.381476\n",
       "24h compressive strength (MPa)             46.467818\n",
       "2d compressive strength (MPa)              40.816327\n",
       "28d compressive strength (MPa)             23.547881\n",
       "Gypsum (%)                                  0.000000\n",
       "Clinker (%)                                 0.000000\n",
       "Description                                 0.000000\n",
       "ID sample                                   0.000000\n",
       "dtype: float64"
      ]
     },
     "execution_count": 6,
     "metadata": {},
     "output_type": "execute_result"
    }
   ],
   "source": [
    "miss_perc"
   ]
  },
  {
   "cell_type": "code",
   "execution_count": 7,
   "metadata": {},
   "outputs": [
    {
     "data": {
      "text/plain": [
       "Limestone (%)                     61.381476\n",
       "24h compressive strength (MPa)    46.467818\n",
       "2d compressive strength (MPa)     40.816327\n",
       "28d compressive strength (MPa)    23.547881\n",
       "Gypsum (%)                         0.000000\n",
       "Clinker (%)                        0.000000\n",
       "Description                        0.000000\n",
       "ID sample                          0.000000\n",
       "dtype: float64"
      ]
     },
     "execution_count": 7,
     "metadata": {},
     "output_type": "execute_result"
    }
   ],
   "source": [
    "miss_perc[miss_perc < 65.0]"
   ]
  },
  {
   "cell_type": "code",
   "execution_count": 8,
   "metadata": {},
   "outputs": [],
   "source": [
    "columns_to_keep = [\n",
    "    \"Limestone (%)\",\n",
    "    \"Gypsum (%)\",\n",
    "    \"Clinker (%)\",\n",
    "    \"28d compressive strength (MPa)\",\n",
    "]\n",
    "\n",
    "df = df[columns_to_keep]"
   ]
  },
  {
   "cell_type": "markdown",
   "metadata": {},
   "source": [
    "### Drop rows where the target variable is null"
   ]
  },
  {
   "cell_type": "code",
   "execution_count": 9,
   "metadata": {},
   "outputs": [],
   "source": [
    "df = df[~df[\"28d compressive strength (MPa)\"].isna()]"
   ]
  },
  {
   "cell_type": "code",
   "execution_count": 10,
   "metadata": {},
   "outputs": [
    {
     "data": {
      "text/plain": [
       "Limestone (%)                     0.587269\n",
       "Gypsum (%)                        0.000000\n",
       "Clinker (%)                       0.000000\n",
       "28d compressive strength (MPa)    0.000000\n",
       "dtype: float64"
      ]
     },
     "execution_count": 10,
     "metadata": {},
     "output_type": "execute_result"
    }
   ],
   "source": [
    "df.isna().sum()/df.shape[0]"
   ]
  },
  {
   "cell_type": "code",
   "execution_count": 11,
   "metadata": {},
   "outputs": [
    {
     "data": {
      "text/html": [
       "<div>\n",
       "<style scoped>\n",
       "    .dataframe tbody tr th:only-of-type {\n",
       "        vertical-align: middle;\n",
       "    }\n",
       "\n",
       "    .dataframe tbody tr th {\n",
       "        vertical-align: top;\n",
       "    }\n",
       "\n",
       "    .dataframe thead th {\n",
       "        text-align: right;\n",
       "    }\n",
       "</style>\n",
       "<table border=\"1\" class=\"dataframe\">\n",
       "  <thead>\n",
       "    <tr style=\"text-align: right;\">\n",
       "      <th></th>\n",
       "      <th>count</th>\n",
       "      <th>mean</th>\n",
       "      <th>std</th>\n",
       "      <th>min</th>\n",
       "      <th>25%</th>\n",
       "      <th>50%</th>\n",
       "      <th>75%</th>\n",
       "      <th>max</th>\n",
       "    </tr>\n",
       "  </thead>\n",
       "  <tbody>\n",
       "    <tr>\n",
       "      <th>Limestone (%)</th>\n",
       "      <td>201.0</td>\n",
       "      <td>12.314925</td>\n",
       "      <td>7.552779</td>\n",
       "      <td>3.00</td>\n",
       "      <td>6.000</td>\n",
       "      <td>11.70</td>\n",
       "      <td>15.00</td>\n",
       "      <td>37.50</td>\n",
       "    </tr>\n",
       "    <tr>\n",
       "      <th>Gypsum (%)</th>\n",
       "      <td>487.0</td>\n",
       "      <td>4.616591</td>\n",
       "      <td>0.816562</td>\n",
       "      <td>1.75</td>\n",
       "      <td>4.200</td>\n",
       "      <td>5.00</td>\n",
       "      <td>5.00</td>\n",
       "      <td>6.50</td>\n",
       "    </tr>\n",
       "    <tr>\n",
       "      <th>Clinker (%)</th>\n",
       "      <td>487.0</td>\n",
       "      <td>86.931745</td>\n",
       "      <td>12.651087</td>\n",
       "      <td>27.00</td>\n",
       "      <td>80.000</td>\n",
       "      <td>95.00</td>\n",
       "      <td>95.00</td>\n",
       "      <td>96.00</td>\n",
       "    </tr>\n",
       "    <tr>\n",
       "      <th>28d compressive strength (MPa)</th>\n",
       "      <td>487.0</td>\n",
       "      <td>52.717923</td>\n",
       "      <td>7.021033</td>\n",
       "      <td>25.41</td>\n",
       "      <td>48.955</td>\n",
       "      <td>53.67</td>\n",
       "      <td>57.09</td>\n",
       "      <td>67.32</td>\n",
       "    </tr>\n",
       "  </tbody>\n",
       "</table>\n",
       "</div>"
      ],
      "text/plain": [
       "                                count       mean        std    min     25%  \\\n",
       "Limestone (%)                   201.0  12.314925   7.552779   3.00   6.000   \n",
       "Gypsum (%)                      487.0   4.616591   0.816562   1.75   4.200   \n",
       "Clinker (%)                     487.0  86.931745  12.651087  27.00  80.000   \n",
       "28d compressive strength (MPa)  487.0  52.717923   7.021033  25.41  48.955   \n",
       "\n",
       "                                  50%    75%    max  \n",
       "Limestone (%)                   11.70  15.00  37.50  \n",
       "Gypsum (%)                       5.00   5.00   6.50  \n",
       "Clinker (%)                     95.00  95.00  96.00  \n",
       "28d compressive strength (MPa)  53.67  57.09  67.32  "
      ]
     },
     "execution_count": 11,
     "metadata": {},
     "output_type": "execute_result"
    }
   ],
   "source": [
    "df.describe().T"
   ]
  },
  {
   "cell_type": "code",
   "execution_count": 12,
   "metadata": {},
   "outputs": [],
   "source": [
    "df_without_missing = df.fillna(-1)"
   ]
  },
  {
   "cell_type": "code",
   "execution_count": 13,
   "metadata": {},
   "outputs": [
    {
     "data": {
      "text/html": [
       "<div>\n",
       "<style scoped>\n",
       "    .dataframe tbody tr th:only-of-type {\n",
       "        vertical-align: middle;\n",
       "    }\n",
       "\n",
       "    .dataframe tbody tr th {\n",
       "        vertical-align: top;\n",
       "    }\n",
       "\n",
       "    .dataframe thead th {\n",
       "        text-align: right;\n",
       "    }\n",
       "</style>\n",
       "<table border=\"1\" class=\"dataframe\">\n",
       "  <thead>\n",
       "    <tr style=\"text-align: right;\">\n",
       "      <th></th>\n",
       "      <th>Limestone (%)</th>\n",
       "      <th>Gypsum (%)</th>\n",
       "      <th>Clinker (%)</th>\n",
       "      <th>28d compressive strength (MPa)</th>\n",
       "    </tr>\n",
       "  </thead>\n",
       "  <tbody>\n",
       "    <tr>\n",
       "      <th>0</th>\n",
       "      <td>-1.0</td>\n",
       "      <td>5.0</td>\n",
       "      <td>95.0</td>\n",
       "      <td>55.60000</td>\n",
       "    </tr>\n",
       "    <tr>\n",
       "      <th>1</th>\n",
       "      <td>-1.0</td>\n",
       "      <td>5.0</td>\n",
       "      <td>95.0</td>\n",
       "      <td>53.50000</td>\n",
       "    </tr>\n",
       "    <tr>\n",
       "      <th>2</th>\n",
       "      <td>-1.0</td>\n",
       "      <td>5.0</td>\n",
       "      <td>95.0</td>\n",
       "      <td>50.20000</td>\n",
       "    </tr>\n",
       "    <tr>\n",
       "      <th>3</th>\n",
       "      <td>-1.0</td>\n",
       "      <td>5.0</td>\n",
       "      <td>95.0</td>\n",
       "      <td>53.20000</td>\n",
       "    </tr>\n",
       "    <tr>\n",
       "      <th>4</th>\n",
       "      <td>-1.0</td>\n",
       "      <td>5.0</td>\n",
       "      <td>95.0</td>\n",
       "      <td>52.30000</td>\n",
       "    </tr>\n",
       "    <tr>\n",
       "      <th>...</th>\n",
       "      <td>...</td>\n",
       "      <td>...</td>\n",
       "      <td>...</td>\n",
       "      <td>...</td>\n",
       "    </tr>\n",
       "    <tr>\n",
       "      <th>615</th>\n",
       "      <td>-1.0</td>\n",
       "      <td>5.0</td>\n",
       "      <td>95.0</td>\n",
       "      <td>53.56167</td>\n",
       "    </tr>\n",
       "    <tr>\n",
       "      <th>616</th>\n",
       "      <td>-1.0</td>\n",
       "      <td>5.0</td>\n",
       "      <td>95.0</td>\n",
       "      <td>59.82333</td>\n",
       "    </tr>\n",
       "    <tr>\n",
       "      <th>617</th>\n",
       "      <td>-1.0</td>\n",
       "      <td>5.0</td>\n",
       "      <td>95.0</td>\n",
       "      <td>55.58500</td>\n",
       "    </tr>\n",
       "    <tr>\n",
       "      <th>618</th>\n",
       "      <td>-1.0</td>\n",
       "      <td>5.0</td>\n",
       "      <td>95.0</td>\n",
       "      <td>53.79667</td>\n",
       "    </tr>\n",
       "    <tr>\n",
       "      <th>619</th>\n",
       "      <td>-1.0</td>\n",
       "      <td>5.0</td>\n",
       "      <td>95.0</td>\n",
       "      <td>54.97500</td>\n",
       "    </tr>\n",
       "  </tbody>\n",
       "</table>\n",
       "<p>487 rows × 4 columns</p>\n",
       "</div>"
      ],
      "text/plain": [
       "     Limestone (%)  Gypsum (%)  Clinker (%)  28d compressive strength (MPa)\n",
       "0             -1.0         5.0         95.0                        55.60000\n",
       "1             -1.0         5.0         95.0                        53.50000\n",
       "2             -1.0         5.0         95.0                        50.20000\n",
       "3             -1.0         5.0         95.0                        53.20000\n",
       "4             -1.0         5.0         95.0                        52.30000\n",
       "..             ...         ...          ...                             ...\n",
       "615           -1.0         5.0         95.0                        53.56167\n",
       "616           -1.0         5.0         95.0                        59.82333\n",
       "617           -1.0         5.0         95.0                        55.58500\n",
       "618           -1.0         5.0         95.0                        53.79667\n",
       "619           -1.0         5.0         95.0                        54.97500\n",
       "\n",
       "[487 rows x 4 columns]"
      ]
     },
     "execution_count": 13,
     "metadata": {},
     "output_type": "execute_result"
    }
   ],
   "source": [
    "df_without_missing"
   ]
  },
  {
   "cell_type": "markdown",
   "metadata": {},
   "source": [
    "## Saving the dataset with the transforms"
   ]
  },
  {
   "cell_type": "markdown",
   "metadata": {},
   "source": [
    "<h3>Saving for linear regression and Neural Nets</h3>"
   ]
  },
  {
   "cell_type": "code",
   "execution_count": 14,
   "metadata": {},
   "outputs": [],
   "source": [
    "df_without_missing.to_csv(\n",
    "    \"../../../data/interim/partner_iii/Dati CADD 2020-2022_with_fillna.csv\", index=False\n",
    ")"
   ]
  },
  {
   "cell_type": "markdown",
   "metadata": {},
   "source": [
    "<h3>Saving for XGBoost</h3>"
   ]
  },
  {
   "cell_type": "code",
   "execution_count": 16,
   "metadata": {},
   "outputs": [],
   "source": [
    "df.to_csv(\n",
    "    \"../../../data/interim/partner_iii/Dati CADD 2020-2022_without_fillna.csv\", index=False\n",
    ")"
   ]
  },
  {
   "cell_type": "code",
   "execution_count": null,
   "metadata": {},
   "outputs": [],
   "source": []
  }
 ],
 "metadata": {
  "kernelspec": {
   "display_name": "Python 3",
   "language": "python",
   "name": "python3"
  },
  "language_info": {
   "codemirror_mode": {
    "name": "ipython",
    "version": 3
   },
   "file_extension": ".py",
   "mimetype": "text/x-python",
   "name": "python",
   "nbconvert_exporter": "python",
   "pygments_lexer": "ipython3",
   "version": "3.6.9"
  }
 },
 "nbformat": 4,
 "nbformat_minor": 2
}
