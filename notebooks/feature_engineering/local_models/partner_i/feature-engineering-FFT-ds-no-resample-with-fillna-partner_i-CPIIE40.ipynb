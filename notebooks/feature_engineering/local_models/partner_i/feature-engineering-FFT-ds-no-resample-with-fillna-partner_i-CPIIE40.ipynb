{
 "cells": [
  {
   "cell_type": "code",
   "execution_count": 1,
   "metadata": {},
   "outputs": [],
   "source": [
    "import pandas as pd\n",
    "\n",
    "import warnings\n",
    "warnings.filterwarnings(\"ignore\")\n",
    "\n",
    "from numpy.fft import rfft, irfft, rfftfreq, irfftn"
   ]
  },
  {
   "cell_type": "markdown",
   "metadata": {},
   "source": [
    "# Fast Fourier Transform\n",
    "\n",
    "The aim of this notebook is to apply the fft transformation on partner_i dataset that was preprocessed without resampling."
   ]
  },
  {
   "cell_type": "markdown",
   "metadata": {},
   "source": [
    "## Dataset\n",
    "\n",
    "The datasets used here were prepared without resampling. The methods used to fill the missings and create new features can be checked in the feature engineering directory in the notebook directory of this project."
   ]
  },
  {
   "cell_type": "code",
   "execution_count": 2,
   "metadata": {},
   "outputs": [],
   "source": [
    "df_r3d_and_r7d = pd.read_csv(\n",
    "    \"../../../data/interim/\"\n",
    "    + \"r3d_and_r7d-no-resampling-with-fillna-\"\n",
    "    + \"dados-historicos-partner_i-cement-CPIIE40.csv\"\n",
    ")\n",
    "df_r3d_only = pd.read_csv(\n",
    "    \"../../../data/interim/\"\n",
    "    + \"r3d_only-no-resampling-with-fillna-\"\n",
    "    + \"dados-historicos-partner_i-cement-CPIIE40.csv\"\n",
    ")\n",
    "df_no_r3d_r7d = pd.read_csv(\n",
    "    \"../../../data/interim/\"\n",
    "    + \"no-r3d-r7d-no-resampling-with-fillna-\"\n",
    "    + \"dados-historicos-partner_i-cement-CPIIE40.csv\"\n",
    ")"
   ]
  },
  {
   "cell_type": "code",
   "execution_count": 3,
   "metadata": {},
   "outputs": [],
   "source": [
    "def convert_df_cols_to_float_type(df, float_cols):\n",
    "    #Change data types to float, except for dates\n",
    "    df[float_cols] = df[float_cols].astype(float)\n",
    "    return df"
   ]
  },
  {
   "cell_type": "code",
   "execution_count": 4,
   "metadata": {},
   "outputs": [],
   "source": [
    "def pass_ft(s, threshold=2e4):\n",
    "    fourier = rfft(s)\n",
    "    frequencies = rfftfreq(s.size, d=2e-3 / s.size)\n",
    "    fourier[frequencies > threshold] = 0\n",
    "\n",
    "    return irfft(fourier,n=len(s))"
   ]
  },
  {
   "cell_type": "code",
   "execution_count": 5,
   "metadata": {},
   "outputs": [],
   "source": [
    "float_cols_1 = df_r3d_and_r7d.columns[1:]\n",
    "df_r3d_and_r7d = convert_df_cols_to_float_type(df_r3d_and_r7d, float_cols_1)\n",
    "\n",
    "float_cols_2 = df_r3d_only.columns[1:]\n",
    "df_r3d_only = convert_df_cols_to_float_type(df_r3d_only, float_cols_2)\n",
    "\n",
    "float_cols_3 = df_no_r3d_r7d.columns[1:]\n",
    "df_no_r3d_r7d = convert_df_cols_to_float_type(df_no_r3d_r7d, float_cols_3)"
   ]
  },
  {
   "cell_type": "markdown",
   "metadata": {},
   "source": [
    "## Apply FFT and keep all vars"
   ]
  },
  {
   "cell_type": "code",
   "execution_count": 6,
   "metadata": {},
   "outputs": [],
   "source": [
    "for data in [df_r3d_and_r7d, df_r3d_only, df_no_r3d_r7d]:\n",
    "    # Apply function in dataframe\n",
    "    for c in data.drop([\"R28D\", \"Data/Hora\"], axis=1).columns:\n",
    "        data[str(c) + \"_ft\"] = pass_ft(data[c])"
   ]
  },
  {
   "cell_type": "code",
   "execution_count": 7,
   "metadata": {},
   "outputs": [],
   "source": [
    "df_r3d_and_r7d.to_csv(\n",
    "    \"../../../data/interim/\"\n",
    "    + \"r3d_and_r7d-no-resampling-with-fillna-and-fft-all-vars-kept-\"\n",
    "    + \"dados-historicos-partner_i-cement-CPIIE40.csv\",\n",
    "    index=False,\n",
    ")\n",
    "df_r3d_only.to_csv(\n",
    "    \"../../../data/interim/\"\n",
    "    + \"r3d_only-no-resampling-with-fillna-and-fft-all-vars-kept-\"\n",
    "    + \"dados-historicos-partner_i-cement-CPIIE40.csv\",\n",
    "    index=False,\n",
    ")\n",
    "df_no_r3d_r7d.to_csv(\n",
    "    \"../../../data/interim/\"\n",
    "    + \"no-r3d-r7d-no-resampling-with-fillna-and-fft-all-vars-kept-\"\n",
    "    + \"dados-historicos-partner_i-cement-CPIIE40.csv\",\n",
    "    index=False,\n",
    ")"
   ]
  },
  {
   "cell_type": "markdown",
   "metadata": {},
   "source": [
    "## Apply FFT and keep only transformed vars"
   ]
  },
  {
   "cell_type": "code",
   "execution_count": 8,
   "metadata": {},
   "outputs": [],
   "source": [
    "df_r3d_and_r7d = df_r3d_and_r7d.drop(float_cols_1.drop('R28D'), axis=1)\n",
    "df_r3d_only = df_r3d_only.drop(float_cols_2.drop('R28D'), axis=1)\n",
    "df_no_r3d_r7d = df_no_r3d_r7d.drop(float_cols_3.drop('R28D'), axis=1)"
   ]
  },
  {
   "cell_type": "code",
   "execution_count": 9,
   "metadata": {},
   "outputs": [],
   "source": [
    "df_r3d_and_r7d.to_csv(\n",
    "    \"../../../data/interim/\"\n",
    "    + \"r3d_and_r7d-no-resampling-with-fillna-and-fft-vars-only-\"\n",
    "    + \"dados-historicos-partner_i-cement-CPIIE40.csv\",\n",
    "    index=False,\n",
    ")\n",
    "df_r3d_only.to_csv(\n",
    "    \"../../../data/interim/\"\n",
    "    + \"r3d_only-no-resampling-with-fillna-and-fft-vars-only-\"\n",
    "    + \"dados-historicos-partner_i-cement-CPIIE40.csv\",\n",
    "    index=False,\n",
    ")\n",
    "df_no_r3d_r7d.to_csv(\n",
    "    \"../../../data/interim/\"\n",
    "    + \"no-r3d-r7d-no-resampling-with-fillna-and-fft-vars-only-\"\n",
    "    + \"dados-historicos-partner_i-cement-CPIIE40.csv\",\n",
    "    index=False,\n",
    ")"
   ]
  },
  {
   "cell_type": "code",
   "execution_count": null,
   "metadata": {},
   "outputs": [],
   "source": []
  }
 ],
 "metadata": {
  "kernelspec": {
   "display_name": "Python 3",
   "language": "python",
   "name": "python3"
  },
  "language_info": {
   "codemirror_mode": {
    "name": "ipython",
    "version": 3
   },
   "file_extension": ".py",
   "mimetype": "text/x-python",
   "name": "python",
   "nbconvert_exporter": "python",
   "pygments_lexer": "ipython3",
   "version": "3.8.10"
  }
 },
 "nbformat": 4,
 "nbformat_minor": 2
}
