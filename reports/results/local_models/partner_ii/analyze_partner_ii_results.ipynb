{
 "cells": [
  {
   "cell_type": "code",
   "execution_count": 1,
   "id": "14b4fe5a",
   "metadata": {},
   "outputs": [
    {
     "data": {
      "application/javascript": [
       "\n",
       "            setTimeout(function() {\n",
       "                var nbb_cell_id = 1;\n",
       "                var nbb_unformatted_code = \"%load_ext nb_black\";\n",
       "                var nbb_formatted_code = \"%load_ext nb_black\";\n",
       "                var nbb_cells = Jupyter.notebook.get_cells();\n",
       "                for (var i = 0; i < nbb_cells.length; ++i) {\n",
       "                    if (nbb_cells[i].input_prompt_number == nbb_cell_id) {\n",
       "                        if (nbb_cells[i].get_text() == nbb_unformatted_code) {\n",
       "                             nbb_cells[i].set_text(nbb_formatted_code);\n",
       "                        }\n",
       "                        break;\n",
       "                    }\n",
       "                }\n",
       "            }, 500);\n",
       "            "
      ],
      "text/plain": [
       "<IPython.core.display.Javascript object>"
      ]
     },
     "metadata": {},
     "output_type": "display_data"
    }
   ],
   "source": [
    "%load_ext nb_black"
   ]
  },
  {
   "cell_type": "code",
   "execution_count": 2,
   "id": "6a4d72e6",
   "metadata": {},
   "outputs": [
    {
     "data": {
      "application/javascript": [
       "\n",
       "            setTimeout(function() {\n",
       "                var nbb_cell_id = 2;\n",
       "                var nbb_unformatted_code = \"import pandas as pd\\nimport os\\nimport glob\";\n",
       "                var nbb_formatted_code = \"import pandas as pd\\nimport os\\nimport glob\";\n",
       "                var nbb_cells = Jupyter.notebook.get_cells();\n",
       "                for (var i = 0; i < nbb_cells.length; ++i) {\n",
       "                    if (nbb_cells[i].input_prompt_number == nbb_cell_id) {\n",
       "                        if (nbb_cells[i].get_text() == nbb_unformatted_code) {\n",
       "                             nbb_cells[i].set_text(nbb_formatted_code);\n",
       "                        }\n",
       "                        break;\n",
       "                    }\n",
       "                }\n",
       "            }, 500);\n",
       "            "
      ],
      "text/plain": [
       "<IPython.core.display.Javascript object>"
      ]
     },
     "metadata": {},
     "output_type": "display_data"
    }
   ],
   "source": [
    "import pandas as pd\n",
    "import os\n",
    "import glob"
   ]
  },
  {
   "cell_type": "code",
   "execution_count": 3,
   "id": "4366fe99",
   "metadata": {},
   "outputs": [
    {
     "name": "stdout",
     "output_type": "stream",
     "text": [
      "BidirectionalGRU_results_grouped_10.csv   lstm_results_grouped_10.csv\r\n",
      "BidirectionalGRU_results_grouped_11.csv   lstm_results_grouped_11.csv\r\n",
      "BidirectionalGRU_results_grouped_12.csv   lstm_results_grouped_12.csv\r\n",
      "BidirectionalGRU_results_grouped_13.csv   lstm_results_grouped_13.csv\r\n",
      "BidirectionalGRU_results_grouped_14.csv   lstm_results_grouped_14.csv\r\n",
      "BidirectionalGRU_results_grouped_15.csv   lstm_results_grouped_15.csv\r\n",
      "BidirectionalGRU_results_grouped_16.csv   lstm_results_grouped_16.csv\r\n",
      "BidirectionalGRU_results_grouped_1.csv\t  lstm_results_grouped_1.csv\r\n",
      "BidirectionalGRU_results_grouped_2.csv\t  lstm_results_grouped_2.csv\r\n",
      "BidirectionalGRU_results_grouped_3.csv\t  lstm_results_grouped_3.csv\r\n",
      "BidirectionalGRU_results_grouped_4.csv\t  lstm_results_grouped_4.csv\r\n",
      "BidirectionalGRU_results_grouped_5.csv\t  lstm_results_grouped_5.csv\r\n",
      "BidirectionalGRU_results_grouped_6.csv\t  lstm_results_grouped_6.csv\r\n",
      "BidirectionalGRU_results_grouped_7.csv\t  lstm_results_grouped_7.csv\r\n",
      "BidirectionalGRU_results_grouped_8.csv\t  lstm_results_grouped_8.csv\r\n",
      "BidirectionalGRU_results_grouped_9.csv\t  lstm_results_grouped_9.csv\r\n",
      "BidirectionalLSTM_results_grouped_10.csv  mlp_results_grouped_10.csv\r\n",
      "BidirectionalLSTM_results_grouped_11.csv  mlp_results_grouped_11.csv\r\n",
      "BidirectionalLSTM_results_grouped_12.csv  mlp_results_grouped_12.csv\r\n",
      "BidirectionalLSTM_results_grouped_13.csv  mlp_results_grouped_13.csv\r\n",
      "BidirectionalLSTM_results_grouped_14.csv  mlp_results_grouped_14.csv\r\n",
      "BidirectionalLSTM_results_grouped_15.csv  mlp_results_grouped_15.csv\r\n",
      "BidirectionalLSTM_results_grouped_16.csv  mlp_results_grouped_16.csv\r\n",
      "BidirectionalLSTM_results_grouped_1.csv   mlp_results_grouped_1.csv\r\n",
      "BidirectionalLSTM_results_grouped_2.csv   mlp_results_grouped_2.csv\r\n",
      "BidirectionalLSTM_results_grouped_3.csv   mlp_results_grouped_3.csv\r\n",
      "BidirectionalLSTM_results_grouped_4.csv   mlp_results_grouped_4.csv\r\n",
      "BidirectionalLSTM_results_grouped_5.csv   mlp_results_grouped_5.csv\r\n",
      "BidirectionalLSTM_results_grouped_6.csv   mlp_results_grouped_6.csv\r\n",
      "BidirectionalLSTM_results_grouped_7.csv   mlp_results_grouped_7.csv\r\n",
      "BidirectionalLSTM_results_grouped_8.csv   mlp_results_grouped_8.csv\r\n",
      "BidirectionalLSTM_results_grouped_9.csv   mlp_results_grouped_9.csv\r\n",
      "decision_tree_results_grouped_10.csv\t  random_forest_results_grouped_10.csv\r\n",
      "decision_tree_results_grouped_11.csv\t  random_forest_results_grouped_11.csv\r\n",
      "decision_tree_results_grouped_12.csv\t  random_forest_results_grouped_12.csv\r\n",
      "decision_tree_results_grouped_13.csv\t  random_forest_results_grouped_13.csv\r\n",
      "decision_tree_results_grouped_14.csv\t  random_forest_results_grouped_14.csv\r\n",
      "decision_tree_results_grouped_15.csv\t  random_forest_results_grouped_15.csv\r\n",
      "decision_tree_results_grouped_16.csv\t  random_forest_results_grouped_16.csv\r\n",
      "decision_tree_results_grouped_1.csv\t  random_forest_results_grouped_1.csv\r\n",
      "decision_tree_results_grouped_2.csv\t  random_forest_results_grouped_2.csv\r\n",
      "decision_tree_results_grouped_3.csv\t  random_forest_results_grouped_3.csv\r\n",
      "decision_tree_results_grouped_4.csv\t  random_forest_results_grouped_4.csv\r\n",
      "decision_tree_results_grouped_5.csv\t  random_forest_results_grouped_5.csv\r\n",
      "decision_tree_results_grouped_6.csv\t  random_forest_results_grouped_6.csv\r\n",
      "decision_tree_results_grouped_7.csv\t  random_forest_results_grouped_7.csv\r\n",
      "decision_tree_results_grouped_8.csv\t  random_forest_results_grouped_8.csv\r\n",
      "decision_tree_results_grouped_9.csv\t  random_forest_results_grouped_9.csv\r\n",
      "gru_results_grouped_10.csv\t\t  transformer_results_grouped_10.csv\r\n",
      "gru_results_grouped_11.csv\t\t  transformer_results_grouped_11.csv\r\n",
      "gru_results_grouped_12.csv\t\t  transformer_results_grouped_12.csv\r\n",
      "gru_results_grouped_13.csv\t\t  transformer_results_grouped_13.csv\r\n",
      "gru_results_grouped_14.csv\t\t  transformer_results_grouped_14.csv\r\n",
      "gru_results_grouped_15.csv\t\t  transformer_results_grouped_15.csv\r\n",
      "gru_results_grouped_16.csv\t\t  transformer_results_grouped_16.csv\r\n",
      "gru_results_grouped_1.csv\t\t  transformer_results_grouped_1.csv\r\n",
      "gru_results_grouped_2.csv\t\t  transformer_results_grouped_2.csv\r\n",
      "gru_results_grouped_3.csv\t\t  transformer_results_grouped_3.csv\r\n",
      "gru_results_grouped_4.csv\t\t  transformer_results_grouped_4.csv\r\n",
      "gru_results_grouped_5.csv\t\t  transformer_results_grouped_5.csv\r\n",
      "gru_results_grouped_6.csv\t\t  transformer_results_grouped_6.csv\r\n",
      "gru_results_grouped_7.csv\t\t  transformer_results_grouped_7.csv\r\n",
      "gru_results_grouped_8.csv\t\t  transformer_results_grouped_8.csv\r\n",
      "gru_results_grouped_9.csv\t\t  transformer_results_grouped_9.csv\r\n",
      "linear_regression_results_grouped_10.csv  xgboost_results_grouped_10.csv\r\n",
      "linear_regression_results_grouped_11.csv  xgboost_results_grouped_11.csv\r\n",
      "linear_regression_results_grouped_12.csv  xgboost_results_grouped_12.csv\r\n",
      "linear_regression_results_grouped_13.csv  xgboost_results_grouped_13.csv\r\n",
      "linear_regression_results_grouped_14.csv  xgboost_results_grouped_14.csv\r\n",
      "linear_regression_results_grouped_15.csv  xgboost_results_grouped_15.csv\r\n",
      "linear_regression_results_grouped_16.csv  xgboost_results_grouped_16.csv\r\n",
      "linear_regression_results_grouped_1.csv   xgboost_results_grouped_1.csv\r\n",
      "linear_regression_results_grouped_2.csv   xgboost_results_grouped_2.csv\r\n",
      "linear_regression_results_grouped_3.csv   xgboost_results_grouped_3.csv\r\n",
      "linear_regression_results_grouped_4.csv   xgboost_results_grouped_4.csv\r\n",
      "linear_regression_results_grouped_5.csv   xgboost_results_grouped_5.csv\r\n",
      "linear_regression_results_grouped_6.csv   xgboost_results_grouped_6.csv\r\n",
      "linear_regression_results_grouped_7.csv   xgboost_results_grouped_7.csv\r\n",
      "linear_regression_results_grouped_8.csv   xgboost_results_grouped_8.csv\r\n",
      "linear_regression_results_grouped_9.csv   xgboost_results_grouped_9.csv\r\n"
     ]
    },
    {
     "data": {
      "application/javascript": [
       "\n",
       "            setTimeout(function() {\n",
       "                var nbb_cell_id = 3;\n",
       "                var nbb_unformatted_code = \"!ls all_cements/grouped\";\n",
       "                var nbb_formatted_code = \"!ls all_cements/grouped\";\n",
       "                var nbb_cells = Jupyter.notebook.get_cells();\n",
       "                for (var i = 0; i < nbb_cells.length; ++i) {\n",
       "                    if (nbb_cells[i].input_prompt_number == nbb_cell_id) {\n",
       "                        if (nbb_cells[i].get_text() == nbb_unformatted_code) {\n",
       "                             nbb_cells[i].set_text(nbb_formatted_code);\n",
       "                        }\n",
       "                        break;\n",
       "                    }\n",
       "                }\n",
       "            }, 500);\n",
       "            "
      ],
      "text/plain": [
       "<IPython.core.display.Javascript object>"
      ]
     },
     "metadata": {},
     "output_type": "display_data"
    }
   ],
   "source": [
    "!ls all_cements/grouped"
   ]
  },
  {
   "cell_type": "markdown",
   "id": "1c598ecf",
   "metadata": {},
   "source": [
    "### Reading The files"
   ]
  },
  {
   "cell_type": "code",
   "execution_count": 4,
   "id": "defde4e2",
   "metadata": {},
   "outputs": [
    {
     "data": {
      "application/javascript": [
       "\n",
       "            setTimeout(function() {\n",
       "                var nbb_cell_id = 4;\n",
       "                var nbb_unformatted_code = \"path = \\\"/home/peressim/projects/ccs28-ml-modelling/reports/results/local_models/partner_ii/all_cements/grouped/\\\"\\ncsv_files = glob.glob(os.path.join(path, \\\"*.csv\\\"))\";\n",
       "                var nbb_formatted_code = \"path = \\\"/home/peressim/projects/ccs28-ml-modelling/reports/results/local_models/partner_ii/all_cements/grouped/\\\"\\ncsv_files = glob.glob(os.path.join(path, \\\"*.csv\\\"))\";\n",
       "                var nbb_cells = Jupyter.notebook.get_cells();\n",
       "                for (var i = 0; i < nbb_cells.length; ++i) {\n",
       "                    if (nbb_cells[i].input_prompt_number == nbb_cell_id) {\n",
       "                        if (nbb_cells[i].get_text() == nbb_unformatted_code) {\n",
       "                             nbb_cells[i].set_text(nbb_formatted_code);\n",
       "                        }\n",
       "                        break;\n",
       "                    }\n",
       "                }\n",
       "            }, 500);\n",
       "            "
      ],
      "text/plain": [
       "<IPython.core.display.Javascript object>"
      ]
     },
     "metadata": {},
     "output_type": "display_data"
    }
   ],
   "source": [
    "path = \"/home/peressim/projects/ccs28-ml-modelling/reports/results/local_models/partner_ii/all_cements/grouped/\"\n",
    "csv_files = glob.glob(os.path.join(path, \"*.csv\"))"
   ]
  },
  {
   "cell_type": "code",
   "execution_count": 5,
   "id": "814290ed",
   "metadata": {},
   "outputs": [
    {
     "data": {
      "application/javascript": [
       "\n",
       "            setTimeout(function() {\n",
       "                var nbb_cell_id = 5;\n",
       "                var nbb_unformatted_code = \"results = []\\n\\nfor filepath in csv_files:\\n    df = pd.read_csv(filepath, header=[0, 1])\\n    results.append(df)\\ndf = pd.concat(results, ignore_index=True)\";\n",
       "                var nbb_formatted_code = \"results = []\\n\\nfor filepath in csv_files:\\n    df = pd.read_csv(filepath, header=[0, 1])\\n    results.append(df)\\ndf = pd.concat(results, ignore_index=True)\";\n",
       "                var nbb_cells = Jupyter.notebook.get_cells();\n",
       "                for (var i = 0; i < nbb_cells.length; ++i) {\n",
       "                    if (nbb_cells[i].input_prompt_number == nbb_cell_id) {\n",
       "                        if (nbb_cells[i].get_text() == nbb_unformatted_code) {\n",
       "                             nbb_cells[i].set_text(nbb_formatted_code);\n",
       "                        }\n",
       "                        break;\n",
       "                    }\n",
       "                }\n",
       "            }, 500);\n",
       "            "
      ],
      "text/plain": [
       "<IPython.core.display.Javascript object>"
      ]
     },
     "metadata": {},
     "output_type": "display_data"
    }
   ],
   "source": [
    "results = []\n",
    "\n",
    "for filepath in csv_files:\n",
    "    df = pd.read_csv(filepath, header=[0, 1])\n",
    "    results.append(df)\n",
    "df = pd.concat(results, ignore_index=True)"
   ]
  },
  {
   "cell_type": "markdown",
   "id": "4a377f20",
   "metadata": {},
   "source": [
    "### Renaming the Columns"
   ]
  },
  {
   "cell_type": "code",
   "execution_count": 6,
   "id": "4d344bfc",
   "metadata": {},
   "outputs": [
    {
     "data": {
      "application/javascript": [
       "\n",
       "            setTimeout(function() {\n",
       "                var nbb_cell_id = 6;\n",
       "                var nbb_unformatted_code = \"df.columns = pd.MultiIndex.from_tuples(\\n    list(\\n        {\\n            col: (col[0], \\\"\\\") if \\\"Unnamed\\\" in col[1] else col for col in df.columns\\n        }.values()\\n    )\\n)\";\n",
       "                var nbb_formatted_code = \"df.columns = pd.MultiIndex.from_tuples(\\n    list(\\n        {\\n            col: (col[0], \\\"\\\") if \\\"Unnamed\\\" in col[1] else col for col in df.columns\\n        }.values()\\n    )\\n)\";\n",
       "                var nbb_cells = Jupyter.notebook.get_cells();\n",
       "                for (var i = 0; i < nbb_cells.length; ++i) {\n",
       "                    if (nbb_cells[i].input_prompt_number == nbb_cell_id) {\n",
       "                        if (nbb_cells[i].get_text() == nbb_unformatted_code) {\n",
       "                             nbb_cells[i].set_text(nbb_formatted_code);\n",
       "                        }\n",
       "                        break;\n",
       "                    }\n",
       "                }\n",
       "            }, 500);\n",
       "            "
      ],
      "text/plain": [
       "<IPython.core.display.Javascript object>"
      ]
     },
     "metadata": {},
     "output_type": "display_data"
    }
   ],
   "source": [
    "df.columns = pd.MultiIndex.from_tuples(\n",
    "    list(\n",
    "        {\n",
    "            col: (col[0], \"\") if \"Unnamed\" in col[1] else col for col in df.columns\n",
    "        }.values()\n",
    "    )\n",
    ")"
   ]
  },
  {
   "cell_type": "markdown",
   "id": "b33fc47e",
   "metadata": {},
   "source": [
    "### Defining the Columns to work with"
   ]
  },
  {
   "cell_type": "code",
   "execution_count": 7,
   "id": "1e0beefd",
   "metadata": {},
   "outputs": [
    {
     "data": {
      "application/javascript": [
       "\n",
       "            setTimeout(function() {\n",
       "                var nbb_cell_id = 7;\n",
       "                var nbb_unformatted_code = \"cols = [\\n    (\\\"Model\\\", \\\"\\\"),\\n    (\\\"Features\\\", \\\"\\\"),\\n    (\\\"Cross Validation\\\", \\\"\\\"),\\n    (\\\"Cross Validation Params\\\", \\\"\\\"),\\n    (\\\"RMSE Test\\\", \\\"mean\\\"),\\n    (\\\"RMSE Test\\\", \\\"std\\\"),\\n    (\\\"MAE Test\\\", \\\"mean\\\"),\\n    (\\\"MAE Test\\\", \\\"std\\\"),\\n    (\\\"MAPE Test\\\", \\\"mean\\\"),\\n    (\\\"MAPE Test\\\", \\\"std\\\"),\\n    (\\\"R2 Test\\\", \\\"mean\\\"),\\n    (\\\"R2 Test\\\", \\\"std\\\"),\\n]\";\n",
       "                var nbb_formatted_code = \"cols = [\\n    (\\\"Model\\\", \\\"\\\"),\\n    (\\\"Features\\\", \\\"\\\"),\\n    (\\\"Cross Validation\\\", \\\"\\\"),\\n    (\\\"Cross Validation Params\\\", \\\"\\\"),\\n    (\\\"RMSE Test\\\", \\\"mean\\\"),\\n    (\\\"RMSE Test\\\", \\\"std\\\"),\\n    (\\\"MAE Test\\\", \\\"mean\\\"),\\n    (\\\"MAE Test\\\", \\\"std\\\"),\\n    (\\\"MAPE Test\\\", \\\"mean\\\"),\\n    (\\\"MAPE Test\\\", \\\"std\\\"),\\n    (\\\"R2 Test\\\", \\\"mean\\\"),\\n    (\\\"R2 Test\\\", \\\"std\\\"),\\n]\";\n",
       "                var nbb_cells = Jupyter.notebook.get_cells();\n",
       "                for (var i = 0; i < nbb_cells.length; ++i) {\n",
       "                    if (nbb_cells[i].input_prompt_number == nbb_cell_id) {\n",
       "                        if (nbb_cells[i].get_text() == nbb_unformatted_code) {\n",
       "                             nbb_cells[i].set_text(nbb_formatted_code);\n",
       "                        }\n",
       "                        break;\n",
       "                    }\n",
       "                }\n",
       "            }, 500);\n",
       "            "
      ],
      "text/plain": [
       "<IPython.core.display.Javascript object>"
      ]
     },
     "metadata": {},
     "output_type": "display_data"
    }
   ],
   "source": [
    "cols = [\n",
    "    (\"Model\", \"\"),\n",
    "    (\"Features\", \"\"),\n",
    "    (\"Cross Validation\", \"\"),\n",
    "    (\"Cross Validation Params\", \"\"),\n",
    "    (\"RMSE Test\", \"mean\"),\n",
    "    (\"RMSE Test\", \"std\"),\n",
    "    (\"MAE Test\", \"mean\"),\n",
    "    (\"MAE Test\", \"std\"),\n",
    "    (\"MAPE Test\", \"mean\"),\n",
    "    (\"MAPE Test\", \"std\"),\n",
    "    (\"R2 Test\", \"mean\"),\n",
    "    (\"R2 Test\", \"std\"),\n",
    "]"
   ]
  },
  {
   "cell_type": "code",
   "execution_count": 8,
   "id": "9effe4f3",
   "metadata": {},
   "outputs": [
    {
     "data": {
      "application/javascript": [
       "\n",
       "            setTimeout(function() {\n",
       "                var nbb_cell_id = 8;\n",
       "                var nbb_unformatted_code = \"cols_metrics = [\\n    (\\\"RMSE Test\\\", \\\"mean\\\"),\\n    (\\\"RMSE Test\\\", \\\"std\\\"),\\n    (\\\"MAE Test\\\", \\\"mean\\\"),\\n    (\\\"MAE Test\\\", \\\"std\\\"),\\n    (\\\"MAPE Test\\\", \\\"mean\\\"),\\n    (\\\"MAPE Test\\\", \\\"std\\\"),\\n    (\\\"R2 Test\\\", \\\"mean\\\"),\\n    (\\\"R2 Test\\\", \\\"std\\\"),\\n]\";\n",
       "                var nbb_formatted_code = \"cols_metrics = [\\n    (\\\"RMSE Test\\\", \\\"mean\\\"),\\n    (\\\"RMSE Test\\\", \\\"std\\\"),\\n    (\\\"MAE Test\\\", \\\"mean\\\"),\\n    (\\\"MAE Test\\\", \\\"std\\\"),\\n    (\\\"MAPE Test\\\", \\\"mean\\\"),\\n    (\\\"MAPE Test\\\", \\\"std\\\"),\\n    (\\\"R2 Test\\\", \\\"mean\\\"),\\n    (\\\"R2 Test\\\", \\\"std\\\"),\\n]\";\n",
       "                var nbb_cells = Jupyter.notebook.get_cells();\n",
       "                for (var i = 0; i < nbb_cells.length; ++i) {\n",
       "                    if (nbb_cells[i].input_prompt_number == nbb_cell_id) {\n",
       "                        if (nbb_cells[i].get_text() == nbb_unformatted_code) {\n",
       "                             nbb_cells[i].set_text(nbb_formatted_code);\n",
       "                        }\n",
       "                        break;\n",
       "                    }\n",
       "                }\n",
       "            }, 500);\n",
       "            "
      ],
      "text/plain": [
       "<IPython.core.display.Javascript object>"
      ]
     },
     "metadata": {},
     "output_type": "display_data"
    }
   ],
   "source": [
    "cols_metrics = [\n",
    "    (\"RMSE Test\", \"mean\"),\n",
    "    (\"RMSE Test\", \"std\"),\n",
    "    (\"MAE Test\", \"mean\"),\n",
    "    (\"MAE Test\", \"std\"),\n",
    "    (\"MAPE Test\", \"mean\"),\n",
    "    (\"MAPE Test\", \"std\"),\n",
    "    (\"R2 Test\", \"mean\"),\n",
    "    (\"R2 Test\", \"std\"),\n",
    "]"
   ]
  },
  {
   "cell_type": "markdown",
   "id": "bba69294",
   "metadata": {},
   "source": [
    "# Linear Regression"
   ]
  },
  {
   "cell_type": "code",
   "execution_count": 9,
   "id": "730f6342",
   "metadata": {},
   "outputs": [
    {
     "data": {
      "application/javascript": [
       "\n",
       "            setTimeout(function() {\n",
       "                var nbb_cell_id = 9;\n",
       "                var nbb_unformatted_code = \"df_linreg = df[df[(\\\"Model\\\", \\\"\\\")] == \\\"Linear Regression\\\"][cols].copy()\\n# df_linreg = df_linreg.drop([(\\\"Model\\\", \\\"\\\")], axis=1)\\ndf_linreg = df_linreg[df_linreg[\\\"Cross Validation\\\"] != \\\"Out of time Split\\\"]\";\n",
       "                var nbb_formatted_code = \"df_linreg = df[df[(\\\"Model\\\", \\\"\\\")] == \\\"Linear Regression\\\"][cols].copy()\\n# df_linreg = df_linreg.drop([(\\\"Model\\\", \\\"\\\")], axis=1)\\ndf_linreg = df_linreg[df_linreg[\\\"Cross Validation\\\"] != \\\"Out of time Split\\\"]\";\n",
       "                var nbb_cells = Jupyter.notebook.get_cells();\n",
       "                for (var i = 0; i < nbb_cells.length; ++i) {\n",
       "                    if (nbb_cells[i].input_prompt_number == nbb_cell_id) {\n",
       "                        if (nbb_cells[i].get_text() == nbb_unformatted_code) {\n",
       "                             nbb_cells[i].set_text(nbb_formatted_code);\n",
       "                        }\n",
       "                        break;\n",
       "                    }\n",
       "                }\n",
       "            }, 500);\n",
       "            "
      ],
      "text/plain": [
       "<IPython.core.display.Javascript object>"
      ]
     },
     "metadata": {},
     "output_type": "display_data"
    }
   ],
   "source": [
    "df_linreg = df[df[(\"Model\", \"\")] == \"Linear Regression\"][cols].copy()\n",
    "# df_linreg = df_linreg.drop([(\"Model\", \"\")], axis=1)\n",
    "df_linreg = df_linreg[df_linreg[\"Cross Validation\"] != \"Out of time Split\"]"
   ]
  },
  {
   "cell_type": "code",
   "execution_count": 10,
   "id": "8538a017",
   "metadata": {},
   "outputs": [
    {
     "data": {
      "text/html": [
       "<div>\n",
       "<style scoped>\n",
       "    .dataframe tbody tr th:only-of-type {\n",
       "        vertical-align: middle;\n",
       "    }\n",
       "\n",
       "    .dataframe tbody tr th {\n",
       "        vertical-align: top;\n",
       "    }\n",
       "\n",
       "    .dataframe thead tr th {\n",
       "        text-align: left;\n",
       "    }\n",
       "</style>\n",
       "<table border=\"1\" class=\"dataframe\">\n",
       "  <thead>\n",
       "    <tr>\n",
       "      <th></th>\n",
       "      <th>Model</th>\n",
       "      <th>Features</th>\n",
       "      <th>Cross Validation</th>\n",
       "      <th>Cross Validation Params</th>\n",
       "      <th colspan=\"2\" halign=\"left\">RMSE Test</th>\n",
       "      <th colspan=\"2\" halign=\"left\">MAE Test</th>\n",
       "      <th colspan=\"2\" halign=\"left\">MAPE Test</th>\n",
       "      <th colspan=\"2\" halign=\"left\">R2 Test</th>\n",
       "    </tr>\n",
       "    <tr>\n",
       "      <th></th>\n",
       "      <th></th>\n",
       "      <th></th>\n",
       "      <th></th>\n",
       "      <th></th>\n",
       "      <th>mean</th>\n",
       "      <th>std</th>\n",
       "      <th>mean</th>\n",
       "      <th>std</th>\n",
       "      <th>mean</th>\n",
       "      <th>std</th>\n",
       "      <th>mean</th>\n",
       "      <th>std</th>\n",
       "    </tr>\n",
       "  </thead>\n",
       "  <tbody>\n",
       "    <tr>\n",
       "      <th>472</th>\n",
       "      <td>Linear Regression</td>\n",
       "      <td>Chemical + Mineralogical</td>\n",
       "      <td>Blocking Time Series Split</td>\n",
       "      <td>{\"N_Splits\": 5, \"Repeats\": 1, \"train_size\": 0.8}</td>\n",
       "      <td>3.245487</td>\n",
       "      <td>0.836840</td>\n",
       "      <td>2.515107</td>\n",
       "      <td>0.640506</td>\n",
       "      <td>0.057733</td>\n",
       "      <td>0.013039</td>\n",
       "      <td>-0.066005</td>\n",
       "      <td>0.330862</td>\n",
       "    </tr>\n",
       "    <tr>\n",
       "      <th>474</th>\n",
       "      <td>Linear Regression</td>\n",
       "      <td>Chemical + Mineralogical</td>\n",
       "      <td>Repeated KFold</td>\n",
       "      <td>{\"N_Splits\": 5, \"Repeats\": 3}</td>\n",
       "      <td>2.511895</td>\n",
       "      <td>0.181412</td>\n",
       "      <td>1.931538</td>\n",
       "      <td>0.085115</td>\n",
       "      <td>0.045033</td>\n",
       "      <td>0.002048</td>\n",
       "      <td>0.488730</td>\n",
       "      <td>0.068981</td>\n",
       "    </tr>\n",
       "    <tr>\n",
       "      <th>475</th>\n",
       "      <td>Linear Regression</td>\n",
       "      <td>Chemical + Mineralogical</td>\n",
       "      <td>Time Series Split</td>\n",
       "      <td>{\"N_Splits\": 5, \"Repeats\": 1, \"Gap\": 0}</td>\n",
       "      <td>3.010423</td>\n",
       "      <td>0.642050</td>\n",
       "      <td>2.380898</td>\n",
       "      <td>0.584494</td>\n",
       "      <td>0.056614</td>\n",
       "      <td>0.016733</td>\n",
       "      <td>-0.068829</td>\n",
       "      <td>0.536373</td>\n",
       "    </tr>\n",
       "  </tbody>\n",
       "</table>\n",
       "</div>"
      ],
      "text/plain": [
       "                 Model                  Features            Cross Validation  \\\n",
       "                                                                               \n",
       "472  Linear Regression  Chemical + Mineralogical  Blocking Time Series Split   \n",
       "474  Linear Regression  Chemical + Mineralogical              Repeated KFold   \n",
       "475  Linear Regression  Chemical + Mineralogical           Time Series Split   \n",
       "\n",
       "                              Cross Validation Params RMSE Test            \\\n",
       "                                                           mean       std   \n",
       "472  {\"N_Splits\": 5, \"Repeats\": 1, \"train_size\": 0.8}  3.245487  0.836840   \n",
       "474                     {\"N_Splits\": 5, \"Repeats\": 3}  2.511895  0.181412   \n",
       "475           {\"N_Splits\": 5, \"Repeats\": 1, \"Gap\": 0}  3.010423  0.642050   \n",
       "\n",
       "     MAE Test           MAPE Test             R2 Test            \n",
       "         mean       std      mean       std      mean       std  \n",
       "472  2.515107  0.640506  0.057733  0.013039 -0.066005  0.330862  \n",
       "474  1.931538  0.085115  0.045033  0.002048  0.488730  0.068981  \n",
       "475  2.380898  0.584494  0.056614  0.016733 -0.068829  0.536373  "
      ]
     },
     "execution_count": 10,
     "metadata": {},
     "output_type": "execute_result"
    },
    {
     "data": {
      "application/javascript": [
       "\n",
       "            setTimeout(function() {\n",
       "                var nbb_cell_id = 10;\n",
       "                var nbb_unformatted_code = \"df_linreg[df_linreg[\\\"Features\\\"] == \\\"Chemical + Mineralogical\\\"]\";\n",
       "                var nbb_formatted_code = \"df_linreg[df_linreg[\\\"Features\\\"] == \\\"Chemical + Mineralogical\\\"]\";\n",
       "                var nbb_cells = Jupyter.notebook.get_cells();\n",
       "                for (var i = 0; i < nbb_cells.length; ++i) {\n",
       "                    if (nbb_cells[i].input_prompt_number == nbb_cell_id) {\n",
       "                        if (nbb_cells[i].get_text() == nbb_unformatted_code) {\n",
       "                             nbb_cells[i].set_text(nbb_formatted_code);\n",
       "                        }\n",
       "                        break;\n",
       "                    }\n",
       "                }\n",
       "            }, 500);\n",
       "            "
      ],
      "text/plain": [
       "<IPython.core.display.Javascript object>"
      ]
     },
     "metadata": {},
     "output_type": "display_data"
    }
   ],
   "source": [
    "df_linreg[df_linreg[\"Features\"] == \"Chemical + Mineralogical\"]"
   ]
  },
  {
   "cell_type": "code",
   "execution_count": 11,
   "id": "bda7ad8f",
   "metadata": {},
   "outputs": [
    {
     "data": {
      "text/html": [
       "<div>\n",
       "<style scoped>\n",
       "    .dataframe tbody tr th:only-of-type {\n",
       "        vertical-align: middle;\n",
       "    }\n",
       "\n",
       "    .dataframe tbody tr th {\n",
       "        vertical-align: top;\n",
       "    }\n",
       "\n",
       "    .dataframe thead tr th {\n",
       "        text-align: left;\n",
       "    }\n",
       "</style>\n",
       "<table border=\"1\" class=\"dataframe\">\n",
       "  <thead>\n",
       "    <tr>\n",
       "      <th></th>\n",
       "      <th>Model</th>\n",
       "      <th>Features</th>\n",
       "      <th>Cross Validation</th>\n",
       "      <th>Cross Validation Params</th>\n",
       "      <th colspan=\"2\" halign=\"left\">RMSE Test</th>\n",
       "      <th colspan=\"2\" halign=\"left\">MAE Test</th>\n",
       "      <th colspan=\"2\" halign=\"left\">MAPE Test</th>\n",
       "      <th colspan=\"2\" halign=\"left\">R2 Test</th>\n",
       "    </tr>\n",
       "    <tr>\n",
       "      <th></th>\n",
       "      <th></th>\n",
       "      <th></th>\n",
       "      <th></th>\n",
       "      <th></th>\n",
       "      <th>mean</th>\n",
       "      <th>std</th>\n",
       "      <th>mean</th>\n",
       "      <th>std</th>\n",
       "      <th>mean</th>\n",
       "      <th>std</th>\n",
       "      <th>mean</th>\n",
       "      <th>std</th>\n",
       "    </tr>\n",
       "  </thead>\n",
       "  <tbody>\n",
       "    <tr>\n",
       "      <th>474</th>\n",
       "      <td>Linear Regression</td>\n",
       "      <td>Chemical + Mineralogical</td>\n",
       "      <td>Repeated KFold</td>\n",
       "      <td>{\"N_Splits\": 5, \"Repeats\": 3}</td>\n",
       "      <td>2.512</td>\n",
       "      <td>0.181</td>\n",
       "      <td>1.932</td>\n",
       "      <td>0.085</td>\n",
       "      <td>0.045</td>\n",
       "      <td>0.002</td>\n",
       "      <td>0.489</td>\n",
       "      <td>0.069</td>\n",
       "    </tr>\n",
       "  </tbody>\n",
       "</table>\n",
       "</div>"
      ],
      "text/plain": [
       "                 Model                  Features Cross Validation  \\\n",
       "                                                                    \n",
       "474  Linear Regression  Chemical + Mineralogical   Repeated KFold   \n",
       "\n",
       "           Cross Validation Params RMSE Test        MAE Test        MAPE Test  \\\n",
       "                                        mean    std     mean    std      mean   \n",
       "474  {\"N_Splits\": 5, \"Repeats\": 3}     2.512  0.181    1.932  0.085     0.045   \n",
       "\n",
       "           R2 Test         \n",
       "       std    mean    std  \n",
       "474  0.002   0.489  0.069  "
      ]
     },
     "execution_count": 11,
     "metadata": {},
     "output_type": "execute_result"
    },
    {
     "data": {
      "application/javascript": [
       "\n",
       "            setTimeout(function() {\n",
       "                var nbb_cell_id = 11;\n",
       "                var nbb_unformatted_code = \"idx_min = df_linreg[df_linreg[\\\"Features\\\"] == \\\"Chemical + Mineralogical\\\"][\\n    \\\"RMSE Test\\\", \\\"mean\\\"\\n].idxmin()\\n\\ndf_linreg.loc[[idx_min]].round(3)\";\n",
       "                var nbb_formatted_code = \"idx_min = df_linreg[df_linreg[\\\"Features\\\"] == \\\"Chemical + Mineralogical\\\"][\\n    \\\"RMSE Test\\\", \\\"mean\\\"\\n].idxmin()\\n\\ndf_linreg.loc[[idx_min]].round(3)\";\n",
       "                var nbb_cells = Jupyter.notebook.get_cells();\n",
       "                for (var i = 0; i < nbb_cells.length; ++i) {\n",
       "                    if (nbb_cells[i].input_prompt_number == nbb_cell_id) {\n",
       "                        if (nbb_cells[i].get_text() == nbb_unformatted_code) {\n",
       "                             nbb_cells[i].set_text(nbb_formatted_code);\n",
       "                        }\n",
       "                        break;\n",
       "                    }\n",
       "                }\n",
       "            }, 500);\n",
       "            "
      ],
      "text/plain": [
       "<IPython.core.display.Javascript object>"
      ]
     },
     "metadata": {},
     "output_type": "display_data"
    }
   ],
   "source": [
    "idx_min = df_linreg[df_linreg[\"Features\"] == \"Chemical + Mineralogical\"][\n",
    "    \"RMSE Test\", \"mean\"\n",
    "].idxmin()\n",
    "\n",
    "df_linreg.loc[[idx_min]].round(3)"
   ]
  },
  {
   "cell_type": "code",
   "execution_count": 12,
   "id": "6b9e76b9",
   "metadata": {
    "scrolled": false
   },
   "outputs": [
    {
     "name": "stderr",
     "output_type": "stream",
     "text": [
      "/tmp/ipykernel_2564712/383223557.py:6: UserWarning: This pattern is interpreted as a regular expression, and has match groups. To actually get the groups, use str.extract.\n",
      "  features_filter = df_linreg[\"Features\"].str.contains(\n"
     ]
    },
    {
     "data": {
      "text/html": [
       "<div>\n",
       "<style scoped>\n",
       "    .dataframe tbody tr th:only-of-type {\n",
       "        vertical-align: middle;\n",
       "    }\n",
       "\n",
       "    .dataframe tbody tr th {\n",
       "        vertical-align: top;\n",
       "    }\n",
       "\n",
       "    .dataframe thead tr th {\n",
       "        text-align: left;\n",
       "    }\n",
       "</style>\n",
       "<table border=\"1\" class=\"dataframe\">\n",
       "  <thead>\n",
       "    <tr>\n",
       "      <th></th>\n",
       "      <th>Model</th>\n",
       "      <th>Features</th>\n",
       "      <th>Cross Validation</th>\n",
       "      <th>Cross Validation Params</th>\n",
       "      <th colspan=\"2\" halign=\"left\">RMSE Test</th>\n",
       "      <th colspan=\"2\" halign=\"left\">MAE Test</th>\n",
       "      <th colspan=\"2\" halign=\"left\">MAPE Test</th>\n",
       "      <th colspan=\"2\" halign=\"left\">R2 Test</th>\n",
       "    </tr>\n",
       "    <tr>\n",
       "      <th></th>\n",
       "      <th></th>\n",
       "      <th></th>\n",
       "      <th></th>\n",
       "      <th></th>\n",
       "      <th>mean</th>\n",
       "      <th>std</th>\n",
       "      <th>mean</th>\n",
       "      <th>std</th>\n",
       "      <th>mean</th>\n",
       "      <th>std</th>\n",
       "      <th>mean</th>\n",
       "      <th>std</th>\n",
       "    </tr>\n",
       "  </thead>\n",
       "  <tbody>\n",
       "    <tr>\n",
       "      <th>890</th>\n",
       "      <td>Linear Regression</td>\n",
       "      <td>Chemical + Mineralogical + CS3 + CS7</td>\n",
       "      <td>Repeated KFold</td>\n",
       "      <td>{\"N_Splits\": 5, \"Repeats\": 3}</td>\n",
       "      <td>1.493</td>\n",
       "      <td>0.057</td>\n",
       "      <td>1.179</td>\n",
       "      <td>0.05</td>\n",
       "      <td>0.028</td>\n",
       "      <td>0.001</td>\n",
       "      <td>0.819</td>\n",
       "      <td>0.022</td>\n",
       "    </tr>\n",
       "  </tbody>\n",
       "</table>\n",
       "</div>"
      ],
      "text/plain": [
       "                 Model                              Features Cross Validation  \\\n",
       "                                                                                \n",
       "890  Linear Regression  Chemical + Mineralogical + CS3 + CS7   Repeated KFold   \n",
       "\n",
       "           Cross Validation Params RMSE Test        MAE Test       MAPE Test  \\\n",
       "                                        mean    std     mean   std      mean   \n",
       "890  {\"N_Splits\": 5, \"Repeats\": 3}     1.493  0.057    1.179  0.05     0.028   \n",
       "\n",
       "           R2 Test         \n",
       "       std    mean    std  \n",
       "890  0.001   0.819  0.022  "
      ]
     },
     "execution_count": 12,
     "metadata": {},
     "output_type": "execute_result"
    },
    {
     "data": {
      "application/javascript": [
       "\n",
       "            setTimeout(function() {\n",
       "                var nbb_cell_id = 12;\n",
       "                var nbb_unformatted_code = \"exclude = r\\\"(?!.*One-Hot)\\\"\\npattern1 = r\\\"Chemical \\\\+ Mineralogical \\\\+ CS*\\\"\\npattern2 = r\\\"Chemical \\\\+ Mineralogical \\\\+ Physical\\\"\\npattern = \\\"(\\\" + pattern1 + \\\"|\\\" + pattern2 + \\\")\\\" + exclude\\n\\nfeatures_filter = df_linreg[\\\"Features\\\"].str.contains(\\n    pattern,\\n    regex=True,\\n)\\n\\nidx_min = df_linreg[features_filter].round(3)[\\\"RMSE Test\\\", \\\"mean\\\"].idxmin()\\n\\ndf_linreg.loc[[idx_min]].round(3)\";\n",
       "                var nbb_formatted_code = \"exclude = r\\\"(?!.*One-Hot)\\\"\\npattern1 = r\\\"Chemical \\\\+ Mineralogical \\\\+ CS*\\\"\\npattern2 = r\\\"Chemical \\\\+ Mineralogical \\\\+ Physical\\\"\\npattern = \\\"(\\\" + pattern1 + \\\"|\\\" + pattern2 + \\\")\\\" + exclude\\n\\nfeatures_filter = df_linreg[\\\"Features\\\"].str.contains(\\n    pattern,\\n    regex=True,\\n)\\n\\nidx_min = df_linreg[features_filter].round(3)[\\\"RMSE Test\\\", \\\"mean\\\"].idxmin()\\n\\ndf_linreg.loc[[idx_min]].round(3)\";\n",
       "                var nbb_cells = Jupyter.notebook.get_cells();\n",
       "                for (var i = 0; i < nbb_cells.length; ++i) {\n",
       "                    if (nbb_cells[i].input_prompt_number == nbb_cell_id) {\n",
       "                        if (nbb_cells[i].get_text() == nbb_unformatted_code) {\n",
       "                             nbb_cells[i].set_text(nbb_formatted_code);\n",
       "                        }\n",
       "                        break;\n",
       "                    }\n",
       "                }\n",
       "            }, 500);\n",
       "            "
      ],
      "text/plain": [
       "<IPython.core.display.Javascript object>"
      ]
     },
     "metadata": {},
     "output_type": "display_data"
    }
   ],
   "source": [
    "exclude = r\"(?!.*One-Hot)\"\n",
    "pattern1 = r\"Chemical \\+ Mineralogical \\+ CS*\"\n",
    "pattern2 = r\"Chemical \\+ Mineralogical \\+ Physical\"\n",
    "pattern = \"(\" + pattern1 + \"|\" + pattern2 + \")\" + exclude\n",
    "\n",
    "features_filter = df_linreg[\"Features\"].str.contains(\n",
    "    pattern,\n",
    "    regex=True,\n",
    ")\n",
    "\n",
    "idx_min = df_linreg[features_filter].round(3)[\"RMSE Test\", \"mean\"].idxmin()\n",
    "\n",
    "df_linreg.loc[[idx_min]].round(3)"
   ]
  },
  {
   "cell_type": "code",
   "execution_count": 13,
   "id": "3cb54a61",
   "metadata": {},
   "outputs": [
    {
     "data": {
      "text/html": [
       "<div>\n",
       "<style scoped>\n",
       "    .dataframe tbody tr th:only-of-type {\n",
       "        vertical-align: middle;\n",
       "    }\n",
       "\n",
       "    .dataframe tbody tr th {\n",
       "        vertical-align: top;\n",
       "    }\n",
       "\n",
       "    .dataframe thead tr th {\n",
       "        text-align: left;\n",
       "    }\n",
       "</style>\n",
       "<table border=\"1\" class=\"dataframe\">\n",
       "  <thead>\n",
       "    <tr>\n",
       "      <th></th>\n",
       "      <th>Model</th>\n",
       "      <th>Features</th>\n",
       "      <th>Cross Validation</th>\n",
       "      <th>Cross Validation Params</th>\n",
       "      <th colspan=\"2\" halign=\"left\">RMSE Test</th>\n",
       "      <th colspan=\"2\" halign=\"left\">MAE Test</th>\n",
       "      <th colspan=\"2\" halign=\"left\">MAPE Test</th>\n",
       "      <th colspan=\"2\" halign=\"left\">R2 Test</th>\n",
       "    </tr>\n",
       "    <tr>\n",
       "      <th></th>\n",
       "      <th></th>\n",
       "      <th></th>\n",
       "      <th></th>\n",
       "      <th></th>\n",
       "      <th>mean</th>\n",
       "      <th>std</th>\n",
       "      <th>mean</th>\n",
       "      <th>std</th>\n",
       "      <th>mean</th>\n",
       "      <th>std</th>\n",
       "      <th>mean</th>\n",
       "      <th>std</th>\n",
       "    </tr>\n",
       "  </thead>\n",
       "  <tbody>\n",
       "    <tr>\n",
       "      <th>690</th>\n",
       "      <td>Linear Regression</td>\n",
       "      <td>Chemical + Mineralogical + One-Hot</td>\n",
       "      <td>Repeated KFold</td>\n",
       "      <td>{\"N_Splits\": 5, \"Repeats\": 3}</td>\n",
       "      <td>2.203</td>\n",
       "      <td>0.098</td>\n",
       "      <td>1.749</td>\n",
       "      <td>0.054</td>\n",
       "      <td>0.041</td>\n",
       "      <td>0.001</td>\n",
       "      <td>0.607</td>\n",
       "      <td>0.036</td>\n",
       "    </tr>\n",
       "  </tbody>\n",
       "</table>\n",
       "</div>"
      ],
      "text/plain": [
       "                 Model                            Features Cross Validation  \\\n",
       "                                                                              \n",
       "690  Linear Regression  Chemical + Mineralogical + One-Hot   Repeated KFold   \n",
       "\n",
       "           Cross Validation Params RMSE Test        MAE Test        MAPE Test  \\\n",
       "                                        mean    std     mean    std      mean   \n",
       "690  {\"N_Splits\": 5, \"Repeats\": 3}     2.203  0.098    1.749  0.054     0.041   \n",
       "\n",
       "           R2 Test         \n",
       "       std    mean    std  \n",
       "690  0.001   0.607  0.036  "
      ]
     },
     "execution_count": 13,
     "metadata": {},
     "output_type": "execute_result"
    },
    {
     "data": {
      "application/javascript": [
       "\n",
       "            setTimeout(function() {\n",
       "                var nbb_cell_id = 13;\n",
       "                var nbb_unformatted_code = \"idx_min = df_linreg[df_linreg[\\\"Features\\\"] == \\\"Chemical + Mineralogical + One-Hot\\\"][\\n    \\\"RMSE Test\\\", \\\"mean\\\"\\n].idxmin()\\n\\ndf_linreg.loc[[idx_min]].round(3)\";\n",
       "                var nbb_formatted_code = \"idx_min = df_linreg[df_linreg[\\\"Features\\\"] == \\\"Chemical + Mineralogical + One-Hot\\\"][\\n    \\\"RMSE Test\\\", \\\"mean\\\"\\n].idxmin()\\n\\ndf_linreg.loc[[idx_min]].round(3)\";\n",
       "                var nbb_cells = Jupyter.notebook.get_cells();\n",
       "                for (var i = 0; i < nbb_cells.length; ++i) {\n",
       "                    if (nbb_cells[i].input_prompt_number == nbb_cell_id) {\n",
       "                        if (nbb_cells[i].get_text() == nbb_unformatted_code) {\n",
       "                             nbb_cells[i].set_text(nbb_formatted_code);\n",
       "                        }\n",
       "                        break;\n",
       "                    }\n",
       "                }\n",
       "            }, 500);\n",
       "            "
      ],
      "text/plain": [
       "<IPython.core.display.Javascript object>"
      ]
     },
     "metadata": {},
     "output_type": "display_data"
    }
   ],
   "source": [
    "idx_min = df_linreg[df_linreg[\"Features\"] == \"Chemical + Mineralogical + One-Hot\"][\n",
    "    \"RMSE Test\", \"mean\"\n",
    "].idxmin()\n",
    "\n",
    "df_linreg.loc[[idx_min]].round(3)"
   ]
  },
  {
   "cell_type": "code",
   "execution_count": 14,
   "id": "57fa01c0",
   "metadata": {},
   "outputs": [
    {
     "data": {
      "text/html": [
       "<div>\n",
       "<style scoped>\n",
       "    .dataframe tbody tr th:only-of-type {\n",
       "        vertical-align: middle;\n",
       "    }\n",
       "\n",
       "    .dataframe tbody tr th {\n",
       "        vertical-align: top;\n",
       "    }\n",
       "\n",
       "    .dataframe thead tr th {\n",
       "        text-align: left;\n",
       "    }\n",
       "</style>\n",
       "<table border=\"1\" class=\"dataframe\">\n",
       "  <thead>\n",
       "    <tr>\n",
       "      <th></th>\n",
       "      <th>Model</th>\n",
       "      <th>Features</th>\n",
       "      <th>Cross Validation</th>\n",
       "      <th>Cross Validation Params</th>\n",
       "      <th colspan=\"2\" halign=\"left\">RMSE Test</th>\n",
       "      <th colspan=\"2\" halign=\"left\">MAE Test</th>\n",
       "      <th colspan=\"2\" halign=\"left\">MAPE Test</th>\n",
       "      <th colspan=\"2\" halign=\"left\">R2 Test</th>\n",
       "    </tr>\n",
       "    <tr>\n",
       "      <th></th>\n",
       "      <th></th>\n",
       "      <th></th>\n",
       "      <th></th>\n",
       "      <th></th>\n",
       "      <th>mean</th>\n",
       "      <th>std</th>\n",
       "      <th>mean</th>\n",
       "      <th>std</th>\n",
       "      <th>mean</th>\n",
       "      <th>std</th>\n",
       "      <th>mean</th>\n",
       "      <th>std</th>\n",
       "    </tr>\n",
       "  </thead>\n",
       "  <tbody>\n",
       "    <tr>\n",
       "      <th>230</th>\n",
       "      <td>Linear Regression</td>\n",
       "      <td>Chemical + Mineralogical + CS1 + CS3 + CS7 + O...</td>\n",
       "      <td>Repeated KFold</td>\n",
       "      <td>{\"N_Splits\": 5, \"Repeats\": 3}</td>\n",
       "      <td>1.477</td>\n",
       "      <td>0.064</td>\n",
       "      <td>1.159</td>\n",
       "      <td>0.049</td>\n",
       "      <td>0.027</td>\n",
       "      <td>0.001</td>\n",
       "      <td>0.823</td>\n",
       "      <td>0.022</td>\n",
       "    </tr>\n",
       "  </tbody>\n",
       "</table>\n",
       "</div>"
      ],
      "text/plain": [
       "                 Model                                           Features  \\\n",
       "                                                                            \n",
       "230  Linear Regression  Chemical + Mineralogical + CS1 + CS3 + CS7 + O...   \n",
       "\n",
       "    Cross Validation        Cross Validation Params RMSE Test        MAE Test  \\\n",
       "                                                         mean    std     mean   \n",
       "230   Repeated KFold  {\"N_Splits\": 5, \"Repeats\": 3}     1.477  0.064    1.159   \n",
       "\n",
       "           MAPE Test        R2 Test         \n",
       "       std      mean    std    mean    std  \n",
       "230  0.049     0.027  0.001   0.823  0.022  "
      ]
     },
     "execution_count": 14,
     "metadata": {},
     "output_type": "execute_result"
    },
    {
     "data": {
      "application/javascript": [
       "\n",
       "            setTimeout(function() {\n",
       "                var nbb_cell_id = 14;\n",
       "                var nbb_unformatted_code = \"pattern = r\\\"One-Hot\\\"\\n\\nfeatures_filter = df_linreg[\\\"Features\\\"].str.contains(\\n    pattern,\\n    regex=True,\\n)\\n\\nidx_min = df_linreg[features_filter].round(3)[\\\"RMSE Test\\\", \\\"mean\\\"].idxmin()\\n\\ndf_linreg.loc[[idx_min]].round(3)\";\n",
       "                var nbb_formatted_code = \"pattern = r\\\"One-Hot\\\"\\n\\nfeatures_filter = df_linreg[\\\"Features\\\"].str.contains(\\n    pattern,\\n    regex=True,\\n)\\n\\nidx_min = df_linreg[features_filter].round(3)[\\\"RMSE Test\\\", \\\"mean\\\"].idxmin()\\n\\ndf_linreg.loc[[idx_min]].round(3)\";\n",
       "                var nbb_cells = Jupyter.notebook.get_cells();\n",
       "                for (var i = 0; i < nbb_cells.length; ++i) {\n",
       "                    if (nbb_cells[i].input_prompt_number == nbb_cell_id) {\n",
       "                        if (nbb_cells[i].get_text() == nbb_unformatted_code) {\n",
       "                             nbb_cells[i].set_text(nbb_formatted_code);\n",
       "                        }\n",
       "                        break;\n",
       "                    }\n",
       "                }\n",
       "            }, 500);\n",
       "            "
      ],
      "text/plain": [
       "<IPython.core.display.Javascript object>"
      ]
     },
     "metadata": {},
     "output_type": "display_data"
    }
   ],
   "source": [
    "pattern = r\"One-Hot\"\n",
    "\n",
    "features_filter = df_linreg[\"Features\"].str.contains(\n",
    "    pattern,\n",
    "    regex=True,\n",
    ")\n",
    "\n",
    "idx_min = df_linreg[features_filter].round(3)[\"RMSE Test\", \"mean\"].idxmin()\n",
    "\n",
    "df_linreg.loc[[idx_min]].round(3)"
   ]
  },
  {
   "cell_type": "markdown",
   "id": "18dc8dba",
   "metadata": {},
   "source": [
    "# Neural Networks"
   ]
  },
  {
   "cell_type": "code",
   "execution_count": 15,
   "id": "4053eed6",
   "metadata": {},
   "outputs": [
    {
     "data": {
      "application/javascript": [
       "\n",
       "            setTimeout(function() {\n",
       "                var nbb_cell_id = 15;\n",
       "                var nbb_unformatted_code = \"neural_networks = [\\n    \\\"MLP\\\",\\n    \\\"LSTM\\\",\\n    \\\"GRU\\\",\\n    \\\"BidirectionalGRU\\\",\\n    \\\"BidirectionalLSTM\\\",\\n    \\\"Transformer\\\",\\n]\\n\\ndf_nn = df[df[(\\\"Model\\\", \\\"\\\")].isin(neural_networks)][cols].copy()\\n# df_nn = df_nn.drop([(\\\"Model\\\", \\\"\\\")], axis=1)\\ndf_nn = df_nn[df_nn[\\\"Cross Validation\\\"] != \\\"Out of time Split\\\"]\";\n",
       "                var nbb_formatted_code = \"neural_networks = [\\n    \\\"MLP\\\",\\n    \\\"LSTM\\\",\\n    \\\"GRU\\\",\\n    \\\"BidirectionalGRU\\\",\\n    \\\"BidirectionalLSTM\\\",\\n    \\\"Transformer\\\",\\n]\\n\\ndf_nn = df[df[(\\\"Model\\\", \\\"\\\")].isin(neural_networks)][cols].copy()\\n# df_nn = df_nn.drop([(\\\"Model\\\", \\\"\\\")], axis=1)\\ndf_nn = df_nn[df_nn[\\\"Cross Validation\\\"] != \\\"Out of time Split\\\"]\";\n",
       "                var nbb_cells = Jupyter.notebook.get_cells();\n",
       "                for (var i = 0; i < nbb_cells.length; ++i) {\n",
       "                    if (nbb_cells[i].input_prompt_number == nbb_cell_id) {\n",
       "                        if (nbb_cells[i].get_text() == nbb_unformatted_code) {\n",
       "                             nbb_cells[i].set_text(nbb_formatted_code);\n",
       "                        }\n",
       "                        break;\n",
       "                    }\n",
       "                }\n",
       "            }, 500);\n",
       "            "
      ],
      "text/plain": [
       "<IPython.core.display.Javascript object>"
      ]
     },
     "metadata": {},
     "output_type": "display_data"
    }
   ],
   "source": [
    "neural_networks = [\n",
    "    \"MLP\",\n",
    "    \"LSTM\",\n",
    "    \"GRU\",\n",
    "    \"BidirectionalGRU\",\n",
    "    \"BidirectionalLSTM\",\n",
    "    \"Transformer\",\n",
    "]\n",
    "\n",
    "df_nn = df[df[(\"Model\", \"\")].isin(neural_networks)][cols].copy()\n",
    "# df_nn = df_nn.drop([(\"Model\", \"\")], axis=1)\n",
    "df_nn = df_nn[df_nn[\"Cross Validation\"] != \"Out of time Split\"]"
   ]
  },
  {
   "cell_type": "code",
   "execution_count": 16,
   "id": "3d4bd7f2",
   "metadata": {},
   "outputs": [
    {
     "data": {
      "text/html": [
       "<div>\n",
       "<style scoped>\n",
       "    .dataframe tbody tr th:only-of-type {\n",
       "        vertical-align: middle;\n",
       "    }\n",
       "\n",
       "    .dataframe tbody tr th {\n",
       "        vertical-align: top;\n",
       "    }\n",
       "\n",
       "    .dataframe thead tr th {\n",
       "        text-align: left;\n",
       "    }\n",
       "</style>\n",
       "<table border=\"1\" class=\"dataframe\">\n",
       "  <thead>\n",
       "    <tr>\n",
       "      <th></th>\n",
       "      <th>Model</th>\n",
       "      <th>Features</th>\n",
       "      <th>Cross Validation</th>\n",
       "      <th>Cross Validation Params</th>\n",
       "      <th colspan=\"2\" halign=\"left\">RMSE Test</th>\n",
       "      <th colspan=\"2\" halign=\"left\">MAE Test</th>\n",
       "      <th colspan=\"2\" halign=\"left\">MAPE Test</th>\n",
       "      <th colspan=\"2\" halign=\"left\">R2 Test</th>\n",
       "    </tr>\n",
       "    <tr>\n",
       "      <th></th>\n",
       "      <th></th>\n",
       "      <th></th>\n",
       "      <th></th>\n",
       "      <th></th>\n",
       "      <th>mean</th>\n",
       "      <th>std</th>\n",
       "      <th>mean</th>\n",
       "      <th>std</th>\n",
       "      <th>mean</th>\n",
       "      <th>std</th>\n",
       "      <th>mean</th>\n",
       "      <th>std</th>\n",
       "    </tr>\n",
       "  </thead>\n",
       "  <tbody>\n",
       "    <tr>\n",
       "      <th>14</th>\n",
       "      <td>Transformer</td>\n",
       "      <td>Chemical + Mineralogical</td>\n",
       "      <td>Repeated KFold</td>\n",
       "      <td>{\"N_Splits\": 5, \"Repeats\": 3}</td>\n",
       "      <td>2.23</td>\n",
       "      <td>0.09</td>\n",
       "      <td>1.765</td>\n",
       "      <td>0.064</td>\n",
       "      <td>0.041</td>\n",
       "      <td>0.001</td>\n",
       "      <td>0.598</td>\n",
       "      <td>0.033</td>\n",
       "    </tr>\n",
       "  </tbody>\n",
       "</table>\n",
       "</div>"
      ],
      "text/plain": [
       "          Model                  Features Cross Validation  \\\n",
       "                                                             \n",
       "14  Transformer  Chemical + Mineralogical   Repeated KFold   \n",
       "\n",
       "          Cross Validation Params RMSE Test       MAE Test        MAPE Test  \\\n",
       "                                       mean   std     mean    std      mean   \n",
       "14  {\"N_Splits\": 5, \"Repeats\": 3}      2.23  0.09    1.765  0.064     0.041   \n",
       "\n",
       "          R2 Test         \n",
       "      std    mean    std  \n",
       "14  0.001   0.598  0.033  "
      ]
     },
     "execution_count": 16,
     "metadata": {},
     "output_type": "execute_result"
    },
    {
     "data": {
      "application/javascript": [
       "\n",
       "            setTimeout(function() {\n",
       "                var nbb_cell_id = 16;\n",
       "                var nbb_unformatted_code = \"idx_min = df_nn[df_nn[\\\"Features\\\"] == \\\"Chemical + Mineralogical\\\"][\\n    \\\"RMSE Test\\\", \\\"mean\\\"\\n].idxmin()\\n\\ndf_nn.loc[[idx_min]].round(3)\";\n",
       "                var nbb_formatted_code = \"idx_min = df_nn[df_nn[\\\"Features\\\"] == \\\"Chemical + Mineralogical\\\"][\\n    \\\"RMSE Test\\\", \\\"mean\\\"\\n].idxmin()\\n\\ndf_nn.loc[[idx_min]].round(3)\";\n",
       "                var nbb_cells = Jupyter.notebook.get_cells();\n",
       "                for (var i = 0; i < nbb_cells.length; ++i) {\n",
       "                    if (nbb_cells[i].input_prompt_number == nbb_cell_id) {\n",
       "                        if (nbb_cells[i].get_text() == nbb_unformatted_code) {\n",
       "                             nbb_cells[i].set_text(nbb_formatted_code);\n",
       "                        }\n",
       "                        break;\n",
       "                    }\n",
       "                }\n",
       "            }, 500);\n",
       "            "
      ],
      "text/plain": [
       "<IPython.core.display.Javascript object>"
      ]
     },
     "metadata": {},
     "output_type": "display_data"
    }
   ],
   "source": [
    "idx_min = df_nn[df_nn[\"Features\"] == \"Chemical + Mineralogical\"][\n",
    "    \"RMSE Test\", \"mean\"\n",
    "].idxmin()\n",
    "\n",
    "df_nn.loc[[idx_min]].round(3)"
   ]
  },
  {
   "cell_type": "code",
   "execution_count": 17,
   "id": "c168429a",
   "metadata": {},
   "outputs": [
    {
     "name": "stderr",
     "output_type": "stream",
     "text": [
      "/tmp/ipykernel_2564712/1917742884.py:7: UserWarning: This pattern is interpreted as a regular expression, and has match groups. To actually get the groups, use str.extract.\n",
      "  features_filter = df_nn[\"Features\"].str.contains(\n"
     ]
    },
    {
     "data": {
      "text/html": [
       "<div>\n",
       "<style scoped>\n",
       "    .dataframe tbody tr th:only-of-type {\n",
       "        vertical-align: middle;\n",
       "    }\n",
       "\n",
       "    .dataframe tbody tr th {\n",
       "        vertical-align: top;\n",
       "    }\n",
       "\n",
       "    .dataframe thead tr th {\n",
       "        text-align: left;\n",
       "    }\n",
       "</style>\n",
       "<table border=\"1\" class=\"dataframe\">\n",
       "  <thead>\n",
       "    <tr>\n",
       "      <th></th>\n",
       "      <th>Model</th>\n",
       "      <th>Features</th>\n",
       "      <th>Cross Validation</th>\n",
       "      <th>Cross Validation Params</th>\n",
       "      <th colspan=\"2\" halign=\"left\">RMSE Test</th>\n",
       "      <th colspan=\"2\" halign=\"left\">MAE Test</th>\n",
       "      <th colspan=\"2\" halign=\"left\">MAPE Test</th>\n",
       "      <th colspan=\"2\" halign=\"left\">R2 Test</th>\n",
       "    </tr>\n",
       "    <tr>\n",
       "      <th></th>\n",
       "      <th></th>\n",
       "      <th></th>\n",
       "      <th></th>\n",
       "      <th></th>\n",
       "      <th>mean</th>\n",
       "      <th>std</th>\n",
       "      <th>mean</th>\n",
       "      <th>std</th>\n",
       "      <th>mean</th>\n",
       "      <th>std</th>\n",
       "      <th>mean</th>\n",
       "      <th>std</th>\n",
       "    </tr>\n",
       "  </thead>\n",
       "  <tbody>\n",
       "    <tr>\n",
       "      <th>782</th>\n",
       "      <td>BidirectionalGRU</td>\n",
       "      <td>Chemical + Mineralogical + CS1 + CS3 + CS7</td>\n",
       "      <td>Repeated KFold</td>\n",
       "      <td>{\"N_Splits\": 5, \"Repeats\": 3}</td>\n",
       "      <td>1.53</td>\n",
       "      <td>0.057</td>\n",
       "      <td>1.21</td>\n",
       "      <td>0.054</td>\n",
       "      <td>0.028</td>\n",
       "      <td>0.001</td>\n",
       "      <td>0.81</td>\n",
       "      <td>0.019</td>\n",
       "    </tr>\n",
       "  </tbody>\n",
       "</table>\n",
       "</div>"
      ],
      "text/plain": [
       "                Model                                    Features  \\\n",
       "                                                                    \n",
       "782  BidirectionalGRU  Chemical + Mineralogical + CS1 + CS3 + CS7   \n",
       "\n",
       "    Cross Validation        Cross Validation Params RMSE Test        MAE Test  \\\n",
       "                                                         mean    std     mean   \n",
       "782   Repeated KFold  {\"N_Splits\": 5, \"Repeats\": 3}      1.53  0.057     1.21   \n",
       "\n",
       "           MAPE Test        R2 Test         \n",
       "       std      mean    std    mean    std  \n",
       "782  0.054     0.028  0.001    0.81  0.019  "
      ]
     },
     "execution_count": 17,
     "metadata": {},
     "output_type": "execute_result"
    },
    {
     "data": {
      "application/javascript": [
       "\n",
       "            setTimeout(function() {\n",
       "                var nbb_cell_id = 17;\n",
       "                var nbb_unformatted_code = \"exclude = r\\\"(?!.*One-Hot)\\\"\\npattern1 = r\\\"Chemical \\\\+ Mineralogical \\\\+ CS*\\\"\\npattern2 = r\\\"Chemical \\\\+ Mineralogical \\\\+ Physical\\\"\\npattern = \\\"(\\\" + pattern1 + \\\"|\\\" + pattern2 + \\\")\\\" + exclude\\n\\n# x = df_nn[\\\"Features\\\"] != \\\"Chemical + Mineralogical + Physical\\\"\\nfeatures_filter = df_nn[\\\"Features\\\"].str.contains(\\n    pattern,\\n    regex=True,\\n)\\n\\nidx_min = df_nn[features_filter].round(3)[\\\"RMSE Test\\\", \\\"mean\\\"].idxmin()\\n\\ndf_nn.loc[[idx_min]].round(3)\";\n",
       "                var nbb_formatted_code = \"exclude = r\\\"(?!.*One-Hot)\\\"\\npattern1 = r\\\"Chemical \\\\+ Mineralogical \\\\+ CS*\\\"\\npattern2 = r\\\"Chemical \\\\+ Mineralogical \\\\+ Physical\\\"\\npattern = \\\"(\\\" + pattern1 + \\\"|\\\" + pattern2 + \\\")\\\" + exclude\\n\\n# x = df_nn[\\\"Features\\\"] != \\\"Chemical + Mineralogical + Physical\\\"\\nfeatures_filter = df_nn[\\\"Features\\\"].str.contains(\\n    pattern,\\n    regex=True,\\n)\\n\\nidx_min = df_nn[features_filter].round(3)[\\\"RMSE Test\\\", \\\"mean\\\"].idxmin()\\n\\ndf_nn.loc[[idx_min]].round(3)\";\n",
       "                var nbb_cells = Jupyter.notebook.get_cells();\n",
       "                for (var i = 0; i < nbb_cells.length; ++i) {\n",
       "                    if (nbb_cells[i].input_prompt_number == nbb_cell_id) {\n",
       "                        if (nbb_cells[i].get_text() == nbb_unformatted_code) {\n",
       "                             nbb_cells[i].set_text(nbb_formatted_code);\n",
       "                        }\n",
       "                        break;\n",
       "                    }\n",
       "                }\n",
       "            }, 500);\n",
       "            "
      ],
      "text/plain": [
       "<IPython.core.display.Javascript object>"
      ]
     },
     "metadata": {},
     "output_type": "display_data"
    }
   ],
   "source": [
    "exclude = r\"(?!.*One-Hot)\"\n",
    "pattern1 = r\"Chemical \\+ Mineralogical \\+ CS*\"\n",
    "pattern2 = r\"Chemical \\+ Mineralogical \\+ Physical\"\n",
    "pattern = \"(\" + pattern1 + \"|\" + pattern2 + \")\" + exclude\n",
    "\n",
    "# x = df_nn[\"Features\"] != \"Chemical + Mineralogical + Physical\"\n",
    "features_filter = df_nn[\"Features\"].str.contains(\n",
    "    pattern,\n",
    "    regex=True,\n",
    ")\n",
    "\n",
    "idx_min = df_nn[features_filter].round(3)[\"RMSE Test\", \"mean\"].idxmin()\n",
    "\n",
    "df_nn.loc[[idx_min]].round(3)"
   ]
  },
  {
   "cell_type": "code",
   "execution_count": 18,
   "id": "55e6e98b",
   "metadata": {},
   "outputs": [
    {
     "data": {
      "text/html": [
       "<div>\n",
       "<style scoped>\n",
       "    .dataframe tbody tr th:only-of-type {\n",
       "        vertical-align: middle;\n",
       "    }\n",
       "\n",
       "    .dataframe tbody tr th {\n",
       "        vertical-align: top;\n",
       "    }\n",
       "\n",
       "    .dataframe thead tr th {\n",
       "        text-align: left;\n",
       "    }\n",
       "</style>\n",
       "<table border=\"1\" class=\"dataframe\">\n",
       "  <thead>\n",
       "    <tr>\n",
       "      <th></th>\n",
       "      <th>Model</th>\n",
       "      <th>Features</th>\n",
       "      <th>Cross Validation</th>\n",
       "      <th>Cross Validation Params</th>\n",
       "      <th colspan=\"2\" halign=\"left\">RMSE Test</th>\n",
       "      <th colspan=\"2\" halign=\"left\">MAE Test</th>\n",
       "      <th colspan=\"2\" halign=\"left\">MAPE Test</th>\n",
       "      <th colspan=\"2\" halign=\"left\">R2 Test</th>\n",
       "    </tr>\n",
       "    <tr>\n",
       "      <th></th>\n",
       "      <th></th>\n",
       "      <th></th>\n",
       "      <th></th>\n",
       "      <th></th>\n",
       "      <th>mean</th>\n",
       "      <th>std</th>\n",
       "      <th>mean</th>\n",
       "      <th>std</th>\n",
       "      <th>mean</th>\n",
       "      <th>std</th>\n",
       "      <th>mean</th>\n",
       "      <th>std</th>\n",
       "    </tr>\n",
       "  </thead>\n",
       "  <tbody>\n",
       "    <tr>\n",
       "      <th>130</th>\n",
       "      <td>BidirectionalGRU</td>\n",
       "      <td>Chemical + Mineralogical + One-Hot</td>\n",
       "      <td>Repeated KFold</td>\n",
       "      <td>{\"N_Splits\": 5, \"Repeats\": 3}</td>\n",
       "      <td>2.162</td>\n",
       "      <td>0.085</td>\n",
       "      <td>1.704</td>\n",
       "      <td>0.05</td>\n",
       "      <td>0.04</td>\n",
       "      <td>0.001</td>\n",
       "      <td>0.623</td>\n",
       "      <td>0.024</td>\n",
       "    </tr>\n",
       "  </tbody>\n",
       "</table>\n",
       "</div>"
      ],
      "text/plain": [
       "                Model                            Features Cross Validation  \\\n",
       "                                                                             \n",
       "130  BidirectionalGRU  Chemical + Mineralogical + One-Hot   Repeated KFold   \n",
       "\n",
       "           Cross Validation Params RMSE Test        MAE Test       MAPE Test  \\\n",
       "                                        mean    std     mean   std      mean   \n",
       "130  {\"N_Splits\": 5, \"Repeats\": 3}     2.162  0.085    1.704  0.05      0.04   \n",
       "\n",
       "           R2 Test         \n",
       "       std    mean    std  \n",
       "130  0.001   0.623  0.024  "
      ]
     },
     "execution_count": 18,
     "metadata": {},
     "output_type": "execute_result"
    },
    {
     "data": {
      "application/javascript": [
       "\n",
       "            setTimeout(function() {\n",
       "                var nbb_cell_id = 18;\n",
       "                var nbb_unformatted_code = \"idx_min = df_nn[df_nn[\\\"Features\\\"] == \\\"Chemical + Mineralogical + One-Hot\\\"][\\n    \\\"RMSE Test\\\", \\\"mean\\\"\\n].idxmin()\\n\\ndf_nn.loc[[idx_min]].round(3)\";\n",
       "                var nbb_formatted_code = \"idx_min = df_nn[df_nn[\\\"Features\\\"] == \\\"Chemical + Mineralogical + One-Hot\\\"][\\n    \\\"RMSE Test\\\", \\\"mean\\\"\\n].idxmin()\\n\\ndf_nn.loc[[idx_min]].round(3)\";\n",
       "                var nbb_cells = Jupyter.notebook.get_cells();\n",
       "                for (var i = 0; i < nbb_cells.length; ++i) {\n",
       "                    if (nbb_cells[i].input_prompt_number == nbb_cell_id) {\n",
       "                        if (nbb_cells[i].get_text() == nbb_unformatted_code) {\n",
       "                             nbb_cells[i].set_text(nbb_formatted_code);\n",
       "                        }\n",
       "                        break;\n",
       "                    }\n",
       "                }\n",
       "            }, 500);\n",
       "            "
      ],
      "text/plain": [
       "<IPython.core.display.Javascript object>"
      ]
     },
     "metadata": {},
     "output_type": "display_data"
    }
   ],
   "source": [
    "idx_min = df_nn[df_nn[\"Features\"] == \"Chemical + Mineralogical + One-Hot\"][\n",
    "    \"RMSE Test\", \"mean\"\n",
    "].idxmin()\n",
    "\n",
    "df_nn.loc[[idx_min]].round(3)"
   ]
  },
  {
   "cell_type": "code",
   "execution_count": 19,
   "id": "8b237220",
   "metadata": {},
   "outputs": [
    {
     "data": {
      "text/html": [
       "<div>\n",
       "<style scoped>\n",
       "    .dataframe tbody tr th:only-of-type {\n",
       "        vertical-align: middle;\n",
       "    }\n",
       "\n",
       "    .dataframe tbody tr th {\n",
       "        vertical-align: top;\n",
       "    }\n",
       "\n",
       "    .dataframe thead tr th {\n",
       "        text-align: left;\n",
       "    }\n",
       "</style>\n",
       "<table border=\"1\" class=\"dataframe\">\n",
       "  <thead>\n",
       "    <tr>\n",
       "      <th></th>\n",
       "      <th>Model</th>\n",
       "      <th>Features</th>\n",
       "      <th>Cross Validation</th>\n",
       "      <th>Cross Validation Params</th>\n",
       "      <th colspan=\"2\" halign=\"left\">RMSE Test</th>\n",
       "      <th colspan=\"2\" halign=\"left\">MAE Test</th>\n",
       "      <th colspan=\"2\" halign=\"left\">MAPE Test</th>\n",
       "      <th colspan=\"2\" halign=\"left\">R2 Test</th>\n",
       "    </tr>\n",
       "    <tr>\n",
       "      <th></th>\n",
       "      <th></th>\n",
       "      <th></th>\n",
       "      <th></th>\n",
       "      <th></th>\n",
       "      <th>mean</th>\n",
       "      <th>std</th>\n",
       "      <th>mean</th>\n",
       "      <th>std</th>\n",
       "      <th>mean</th>\n",
       "      <th>std</th>\n",
       "      <th>mean</th>\n",
       "      <th>std</th>\n",
       "    </tr>\n",
       "  </thead>\n",
       "  <tbody>\n",
       "    <tr>\n",
       "      <th>386</th>\n",
       "      <td>BidirectionalGRU</td>\n",
       "      <td>Chemical + Mineralogical + CS1 + CS3 + CS7 + O...</td>\n",
       "      <td>Repeated KFold</td>\n",
       "      <td>{\"N_Splits\": 5, \"Repeats\": 3}</td>\n",
       "      <td>1.547</td>\n",
       "      <td>0.075</td>\n",
       "      <td>1.215</td>\n",
       "      <td>0.057</td>\n",
       "      <td>0.028</td>\n",
       "      <td>0.001</td>\n",
       "      <td>0.806</td>\n",
       "      <td>0.019</td>\n",
       "    </tr>\n",
       "  </tbody>\n",
       "</table>\n",
       "</div>"
      ],
      "text/plain": [
       "                Model                                           Features  \\\n",
       "                                                                           \n",
       "386  BidirectionalGRU  Chemical + Mineralogical + CS1 + CS3 + CS7 + O...   \n",
       "\n",
       "    Cross Validation        Cross Validation Params RMSE Test        MAE Test  \\\n",
       "                                                         mean    std     mean   \n",
       "386   Repeated KFold  {\"N_Splits\": 5, \"Repeats\": 3}     1.547  0.075    1.215   \n",
       "\n",
       "           MAPE Test        R2 Test         \n",
       "       std      mean    std    mean    std  \n",
       "386  0.057     0.028  0.001   0.806  0.019  "
      ]
     },
     "execution_count": 19,
     "metadata": {},
     "output_type": "execute_result"
    },
    {
     "data": {
      "application/javascript": [
       "\n",
       "            setTimeout(function() {\n",
       "                var nbb_cell_id = 19;\n",
       "                var nbb_unformatted_code = \"pattern = r\\\"One-Hot\\\"\\n\\nfeatures_filter = df_nn[\\\"Features\\\"].str.contains(\\n    pattern,\\n    regex=True,\\n)\\n\\nidx_min = df_nn[features_filter].round(3)[\\\"RMSE Test\\\", \\\"mean\\\"].idxmin()\\n\\ndf_nn.loc[[idx_min]].round(3)\";\n",
       "                var nbb_formatted_code = \"pattern = r\\\"One-Hot\\\"\\n\\nfeatures_filter = df_nn[\\\"Features\\\"].str.contains(\\n    pattern,\\n    regex=True,\\n)\\n\\nidx_min = df_nn[features_filter].round(3)[\\\"RMSE Test\\\", \\\"mean\\\"].idxmin()\\n\\ndf_nn.loc[[idx_min]].round(3)\";\n",
       "                var nbb_cells = Jupyter.notebook.get_cells();\n",
       "                for (var i = 0; i < nbb_cells.length; ++i) {\n",
       "                    if (nbb_cells[i].input_prompt_number == nbb_cell_id) {\n",
       "                        if (nbb_cells[i].get_text() == nbb_unformatted_code) {\n",
       "                             nbb_cells[i].set_text(nbb_formatted_code);\n",
       "                        }\n",
       "                        break;\n",
       "                    }\n",
       "                }\n",
       "            }, 500);\n",
       "            "
      ],
      "text/plain": [
       "<IPython.core.display.Javascript object>"
      ]
     },
     "metadata": {},
     "output_type": "display_data"
    }
   ],
   "source": [
    "pattern = r\"One-Hot\"\n",
    "\n",
    "features_filter = df_nn[\"Features\"].str.contains(\n",
    "    pattern,\n",
    "    regex=True,\n",
    ")\n",
    "\n",
    "idx_min = df_nn[features_filter].round(3)[\"RMSE Test\", \"mean\"].idxmin()\n",
    "\n",
    "df_nn.loc[[idx_min]].round(3)"
   ]
  },
  {
   "cell_type": "markdown",
   "id": "d1681c27",
   "metadata": {},
   "source": [
    "# Trees"
   ]
  },
  {
   "cell_type": "code",
   "execution_count": 20,
   "id": "1d1e31fe",
   "metadata": {},
   "outputs": [
    {
     "data": {
      "application/javascript": [
       "\n",
       "            setTimeout(function() {\n",
       "                var nbb_cell_id = 20;\n",
       "                var nbb_unformatted_code = \"trees = [\\\"Decision Tree\\\", \\\"Random Forest\\\", \\\"XGBoost\\\"]\\n\\ndf_trees = df[df[(\\\"Model\\\", \\\"\\\")].isin(trees)][cols].copy()\\ndf_trees = df_trees[df_trees[\\\"Cross Validation\\\"] != \\\"Out of time Split\\\"]\";\n",
       "                var nbb_formatted_code = \"trees = [\\\"Decision Tree\\\", \\\"Random Forest\\\", \\\"XGBoost\\\"]\\n\\ndf_trees = df[df[(\\\"Model\\\", \\\"\\\")].isin(trees)][cols].copy()\\ndf_trees = df_trees[df_trees[\\\"Cross Validation\\\"] != \\\"Out of time Split\\\"]\";\n",
       "                var nbb_cells = Jupyter.notebook.get_cells();\n",
       "                for (var i = 0; i < nbb_cells.length; ++i) {\n",
       "                    if (nbb_cells[i].input_prompt_number == nbb_cell_id) {\n",
       "                        if (nbb_cells[i].get_text() == nbb_unformatted_code) {\n",
       "                             nbb_cells[i].set_text(nbb_formatted_code);\n",
       "                        }\n",
       "                        break;\n",
       "                    }\n",
       "                }\n",
       "            }, 500);\n",
       "            "
      ],
      "text/plain": [
       "<IPython.core.display.Javascript object>"
      ]
     },
     "metadata": {},
     "output_type": "display_data"
    }
   ],
   "source": [
    "trees = [\"Decision Tree\", \"Random Forest\", \"XGBoost\"]\n",
    "\n",
    "df_trees = df[df[(\"Model\", \"\")].isin(trees)][cols].copy()\n",
    "df_trees = df_trees[df_trees[\"Cross Validation\"] != \"Out of time Split\"]"
   ]
  },
  {
   "cell_type": "code",
   "execution_count": 21,
   "id": "a9abcb2f",
   "metadata": {},
   "outputs": [
    {
     "data": {
      "text/html": [
       "<div>\n",
       "<style scoped>\n",
       "    .dataframe tbody tr th:only-of-type {\n",
       "        vertical-align: middle;\n",
       "    }\n",
       "\n",
       "    .dataframe tbody tr th {\n",
       "        vertical-align: top;\n",
       "    }\n",
       "\n",
       "    .dataframe thead tr th {\n",
       "        text-align: left;\n",
       "    }\n",
       "</style>\n",
       "<table border=\"1\" class=\"dataframe\">\n",
       "  <thead>\n",
       "    <tr>\n",
       "      <th></th>\n",
       "      <th>Model</th>\n",
       "      <th>Features</th>\n",
       "      <th>Cross Validation</th>\n",
       "      <th>Cross Validation Params</th>\n",
       "      <th colspan=\"2\" halign=\"left\">RMSE Test</th>\n",
       "      <th colspan=\"2\" halign=\"left\">MAE Test</th>\n",
       "      <th colspan=\"2\" halign=\"left\">MAPE Test</th>\n",
       "      <th colspan=\"2\" halign=\"left\">R2 Test</th>\n",
       "    </tr>\n",
       "    <tr>\n",
       "      <th></th>\n",
       "      <th></th>\n",
       "      <th></th>\n",
       "      <th></th>\n",
       "      <th></th>\n",
       "      <th>mean</th>\n",
       "      <th>std</th>\n",
       "      <th>mean</th>\n",
       "      <th>std</th>\n",
       "      <th>mean</th>\n",
       "      <th>std</th>\n",
       "      <th>mean</th>\n",
       "      <th>std</th>\n",
       "    </tr>\n",
       "  </thead>\n",
       "  <tbody>\n",
       "    <tr>\n",
       "      <th>58</th>\n",
       "      <td>XGBoost</td>\n",
       "      <td>Chemical + Mineralogical</td>\n",
       "      <td>Repeated KFold</td>\n",
       "      <td>{\"N_Splits\": 5, \"Repeats\": 3}</td>\n",
       "      <td>2.569</td>\n",
       "      <td>0.111</td>\n",
       "      <td>2.009</td>\n",
       "      <td>0.092</td>\n",
       "      <td>0.047</td>\n",
       "      <td>0.002</td>\n",
       "      <td>0.467</td>\n",
       "      <td>0.042</td>\n",
       "    </tr>\n",
       "  </tbody>\n",
       "</table>\n",
       "</div>"
      ],
      "text/plain": [
       "      Model                  Features Cross Validation  \\\n",
       "                                                         \n",
       "58  XGBoost  Chemical + Mineralogical   Repeated KFold   \n",
       "\n",
       "          Cross Validation Params RMSE Test        MAE Test        MAPE Test  \\\n",
       "                                       mean    std     mean    std      mean   \n",
       "58  {\"N_Splits\": 5, \"Repeats\": 3}     2.569  0.111    2.009  0.092     0.047   \n",
       "\n",
       "          R2 Test         \n",
       "      std    mean    std  \n",
       "58  0.002   0.467  0.042  "
      ]
     },
     "execution_count": 21,
     "metadata": {},
     "output_type": "execute_result"
    },
    {
     "data": {
      "application/javascript": [
       "\n",
       "            setTimeout(function() {\n",
       "                var nbb_cell_id = 21;\n",
       "                var nbb_unformatted_code = \"idx_min = df_trees[df_trees[\\\"Features\\\"] == \\\"Chemical + Mineralogical\\\"][\\n    \\\"RMSE Test\\\", \\\"mean\\\"\\n].idxmin()\\n\\ndf_trees.loc[[idx_min]].round(3)\";\n",
       "                var nbb_formatted_code = \"idx_min = df_trees[df_trees[\\\"Features\\\"] == \\\"Chemical + Mineralogical\\\"][\\n    \\\"RMSE Test\\\", \\\"mean\\\"\\n].idxmin()\\n\\ndf_trees.loc[[idx_min]].round(3)\";\n",
       "                var nbb_cells = Jupyter.notebook.get_cells();\n",
       "                for (var i = 0; i < nbb_cells.length; ++i) {\n",
       "                    if (nbb_cells[i].input_prompt_number == nbb_cell_id) {\n",
       "                        if (nbb_cells[i].get_text() == nbb_unformatted_code) {\n",
       "                             nbb_cells[i].set_text(nbb_formatted_code);\n",
       "                        }\n",
       "                        break;\n",
       "                    }\n",
       "                }\n",
       "            }, 500);\n",
       "            "
      ],
      "text/plain": [
       "<IPython.core.display.Javascript object>"
      ]
     },
     "metadata": {},
     "output_type": "display_data"
    }
   ],
   "source": [
    "idx_min = df_trees[df_trees[\"Features\"] == \"Chemical + Mineralogical\"][\n",
    "    \"RMSE Test\", \"mean\"\n",
    "].idxmin()\n",
    "\n",
    "df_trees.loc[[idx_min]].round(3)"
   ]
  },
  {
   "cell_type": "code",
   "execution_count": 22,
   "id": "2127c5a4",
   "metadata": {},
   "outputs": [
    {
     "name": "stderr",
     "output_type": "stream",
     "text": [
      "/tmp/ipykernel_2564712/2477923481.py:7: UserWarning: This pattern is interpreted as a regular expression, and has match groups. To actually get the groups, use str.extract.\n",
      "  features_filter = df_trees[\"Features\"].str.contains(\n"
     ]
    },
    {
     "data": {
      "text/html": [
       "<div>\n",
       "<style scoped>\n",
       "    .dataframe tbody tr th:only-of-type {\n",
       "        vertical-align: middle;\n",
       "    }\n",
       "\n",
       "    .dataframe tbody tr th {\n",
       "        vertical-align: top;\n",
       "    }\n",
       "\n",
       "    .dataframe thead tr th {\n",
       "        text-align: left;\n",
       "    }\n",
       "</style>\n",
       "<table border=\"1\" class=\"dataframe\">\n",
       "  <thead>\n",
       "    <tr>\n",
       "      <th></th>\n",
       "      <th>Model</th>\n",
       "      <th>Features</th>\n",
       "      <th>Cross Validation</th>\n",
       "      <th>Cross Validation Params</th>\n",
       "      <th colspan=\"2\" halign=\"left\">RMSE Test</th>\n",
       "      <th colspan=\"2\" halign=\"left\">MAE Test</th>\n",
       "      <th colspan=\"2\" halign=\"left\">MAPE Test</th>\n",
       "      <th colspan=\"2\" halign=\"left\">R2 Test</th>\n",
       "    </tr>\n",
       "    <tr>\n",
       "      <th></th>\n",
       "      <th></th>\n",
       "      <th></th>\n",
       "      <th></th>\n",
       "      <th></th>\n",
       "      <th>mean</th>\n",
       "      <th>std</th>\n",
       "      <th>mean</th>\n",
       "      <th>std</th>\n",
       "      <th>mean</th>\n",
       "      <th>std</th>\n",
       "      <th>mean</th>\n",
       "      <th>std</th>\n",
       "    </tr>\n",
       "  </thead>\n",
       "  <tbody>\n",
       "    <tr>\n",
       "      <th>478</th>\n",
       "      <td>Random Forest</td>\n",
       "      <td>Chemical + Mineralogical + Physical</td>\n",
       "      <td>Repeated KFold</td>\n",
       "      <td>{\"N_Splits\": 5, \"Repeats\": 3}</td>\n",
       "      <td>1.66</td>\n",
       "      <td>0.069</td>\n",
       "      <td>1.312</td>\n",
       "      <td>0.06</td>\n",
       "      <td>0.031</td>\n",
       "      <td>0.002</td>\n",
       "      <td>0.776</td>\n",
       "      <td>0.026</td>\n",
       "    </tr>\n",
       "  </tbody>\n",
       "</table>\n",
       "</div>"
      ],
      "text/plain": [
       "             Model                             Features Cross Validation  \\\n",
       "                                                                           \n",
       "478  Random Forest  Chemical + Mineralogical + Physical   Repeated KFold   \n",
       "\n",
       "           Cross Validation Params RMSE Test        MAE Test       MAPE Test  \\\n",
       "                                        mean    std     mean   std      mean   \n",
       "478  {\"N_Splits\": 5, \"Repeats\": 3}      1.66  0.069    1.312  0.06     0.031   \n",
       "\n",
       "           R2 Test         \n",
       "       std    mean    std  \n",
       "478  0.002   0.776  0.026  "
      ]
     },
     "execution_count": 22,
     "metadata": {},
     "output_type": "execute_result"
    },
    {
     "data": {
      "application/javascript": [
       "\n",
       "            setTimeout(function() {\n",
       "                var nbb_cell_id = 22;\n",
       "                var nbb_unformatted_code = \"exclude = r\\\"(?!.*One-Hot)\\\"\\npattern1 = r\\\"Chemical \\\\+ Mineralogical \\\\+ CS*\\\"\\npattern2 = r\\\"Chemical \\\\+ Mineralogical \\\\+ Physical\\\"\\npattern = \\\"(\\\" + pattern1 + \\\"|\\\" + pattern2 + \\\")\\\" + exclude\\n\\n# x = df_nn[\\\"Features\\\"] != \\\"Chemical + Mineralogical + Physical\\\"\\nfeatures_filter = df_trees[\\\"Features\\\"].str.contains(\\n    pattern,\\n    regex=True,\\n)\\n\\nidx_min = df_trees[features_filter].round(3)[\\\"RMSE Test\\\", \\\"mean\\\"].idxmin()\\n\\ndf_trees.loc[[idx_min]].round(3)\";\n",
       "                var nbb_formatted_code = \"exclude = r\\\"(?!.*One-Hot)\\\"\\npattern1 = r\\\"Chemical \\\\+ Mineralogical \\\\+ CS*\\\"\\npattern2 = r\\\"Chemical \\\\+ Mineralogical \\\\+ Physical\\\"\\npattern = \\\"(\\\" + pattern1 + \\\"|\\\" + pattern2 + \\\")\\\" + exclude\\n\\n# x = df_nn[\\\"Features\\\"] != \\\"Chemical + Mineralogical + Physical\\\"\\nfeatures_filter = df_trees[\\\"Features\\\"].str.contains(\\n    pattern,\\n    regex=True,\\n)\\n\\nidx_min = df_trees[features_filter].round(3)[\\\"RMSE Test\\\", \\\"mean\\\"].idxmin()\\n\\ndf_trees.loc[[idx_min]].round(3)\";\n",
       "                var nbb_cells = Jupyter.notebook.get_cells();\n",
       "                for (var i = 0; i < nbb_cells.length; ++i) {\n",
       "                    if (nbb_cells[i].input_prompt_number == nbb_cell_id) {\n",
       "                        if (nbb_cells[i].get_text() == nbb_unformatted_code) {\n",
       "                             nbb_cells[i].set_text(nbb_formatted_code);\n",
       "                        }\n",
       "                        break;\n",
       "                    }\n",
       "                }\n",
       "            }, 500);\n",
       "            "
      ],
      "text/plain": [
       "<IPython.core.display.Javascript object>"
      ]
     },
     "metadata": {},
     "output_type": "display_data"
    }
   ],
   "source": [
    "exclude = r\"(?!.*One-Hot)\"\n",
    "pattern1 = r\"Chemical \\+ Mineralogical \\+ CS*\"\n",
    "pattern2 = r\"Chemical \\+ Mineralogical \\+ Physical\"\n",
    "pattern = \"(\" + pattern1 + \"|\" + pattern2 + \")\" + exclude\n",
    "\n",
    "# x = df_nn[\"Features\"] != \"Chemical + Mineralogical + Physical\"\n",
    "features_filter = df_trees[\"Features\"].str.contains(\n",
    "    pattern,\n",
    "    regex=True,\n",
    ")\n",
    "\n",
    "idx_min = df_trees[features_filter].round(3)[\"RMSE Test\", \"mean\"].idxmin()\n",
    "\n",
    "df_trees.loc[[idx_min]].round(3)"
   ]
  },
  {
   "cell_type": "code",
   "execution_count": 23,
   "id": "7215b8e0",
   "metadata": {},
   "outputs": [
    {
     "data": {
      "text/html": [
       "<div>\n",
       "<style scoped>\n",
       "    .dataframe tbody tr th:only-of-type {\n",
       "        vertical-align: middle;\n",
       "    }\n",
       "\n",
       "    .dataframe tbody tr th {\n",
       "        vertical-align: top;\n",
       "    }\n",
       "\n",
       "    .dataframe thead tr th {\n",
       "        text-align: left;\n",
       "    }\n",
       "</style>\n",
       "<table border=\"1\" class=\"dataframe\">\n",
       "  <thead>\n",
       "    <tr>\n",
       "      <th></th>\n",
       "      <th>Model</th>\n",
       "      <th>Features</th>\n",
       "      <th>Cross Validation</th>\n",
       "      <th>Cross Validation Params</th>\n",
       "      <th colspan=\"2\" halign=\"left\">RMSE Test</th>\n",
       "      <th colspan=\"2\" halign=\"left\">MAE Test</th>\n",
       "      <th colspan=\"2\" halign=\"left\">MAPE Test</th>\n",
       "      <th colspan=\"2\" halign=\"left\">R2 Test</th>\n",
       "    </tr>\n",
       "    <tr>\n",
       "      <th></th>\n",
       "      <th></th>\n",
       "      <th></th>\n",
       "      <th></th>\n",
       "      <th></th>\n",
       "      <th>mean</th>\n",
       "      <th>std</th>\n",
       "      <th>mean</th>\n",
       "      <th>std</th>\n",
       "      <th>mean</th>\n",
       "      <th>std</th>\n",
       "      <th>mean</th>\n",
       "      <th>std</th>\n",
       "    </tr>\n",
       "  </thead>\n",
       "  <tbody>\n",
       "    <tr>\n",
       "      <th>674</th>\n",
       "      <td>Random Forest</td>\n",
       "      <td>Chemical + Mineralogical + One-Hot</td>\n",
       "      <td>Repeated KFold</td>\n",
       "      <td>{\"N_Splits\": 5, \"Repeats\": 3}</td>\n",
       "      <td>2.286</td>\n",
       "      <td>0.09</td>\n",
       "      <td>1.82</td>\n",
       "      <td>0.058</td>\n",
       "      <td>0.043</td>\n",
       "      <td>0.002</td>\n",
       "      <td>0.577</td>\n",
       "      <td>0.04</td>\n",
       "    </tr>\n",
       "  </tbody>\n",
       "</table>\n",
       "</div>"
      ],
      "text/plain": [
       "             Model                            Features Cross Validation  \\\n",
       "                                                                          \n",
       "674  Random Forest  Chemical + Mineralogical + One-Hot   Repeated KFold   \n",
       "\n",
       "           Cross Validation Params RMSE Test       MAE Test        MAPE Test  \\\n",
       "                                        mean   std     mean    std      mean   \n",
       "674  {\"N_Splits\": 5, \"Repeats\": 3}     2.286  0.09     1.82  0.058     0.043   \n",
       "\n",
       "           R2 Test        \n",
       "       std    mean   std  \n",
       "674  0.002   0.577  0.04  "
      ]
     },
     "execution_count": 23,
     "metadata": {},
     "output_type": "execute_result"
    },
    {
     "data": {
      "application/javascript": [
       "\n",
       "            setTimeout(function() {\n",
       "                var nbb_cell_id = 23;\n",
       "                var nbb_unformatted_code = \"idx_min = df_trees[df_trees[\\\"Features\\\"] == \\\"Chemical + Mineralogical + One-Hot\\\"][\\n    \\\"RMSE Test\\\", \\\"mean\\\"\\n].idxmin()\\n\\ndf_trees.loc[[idx_min]].round(3)\";\n",
       "                var nbb_formatted_code = \"idx_min = df_trees[df_trees[\\\"Features\\\"] == \\\"Chemical + Mineralogical + One-Hot\\\"][\\n    \\\"RMSE Test\\\", \\\"mean\\\"\\n].idxmin()\\n\\ndf_trees.loc[[idx_min]].round(3)\";\n",
       "                var nbb_cells = Jupyter.notebook.get_cells();\n",
       "                for (var i = 0; i < nbb_cells.length; ++i) {\n",
       "                    if (nbb_cells[i].input_prompt_number == nbb_cell_id) {\n",
       "                        if (nbb_cells[i].get_text() == nbb_unformatted_code) {\n",
       "                             nbb_cells[i].set_text(nbb_formatted_code);\n",
       "                        }\n",
       "                        break;\n",
       "                    }\n",
       "                }\n",
       "            }, 500);\n",
       "            "
      ],
      "text/plain": [
       "<IPython.core.display.Javascript object>"
      ]
     },
     "metadata": {},
     "output_type": "display_data"
    }
   ],
   "source": [
    "idx_min = df_trees[df_trees[\"Features\"] == \"Chemical + Mineralogical + One-Hot\"][\n",
    "    \"RMSE Test\", \"mean\"\n",
    "].idxmin()\n",
    "\n",
    "df_trees.loc[[idx_min]].round(3)"
   ]
  },
  {
   "cell_type": "code",
   "execution_count": 24,
   "id": "c842ddcc",
   "metadata": {},
   "outputs": [
    {
     "data": {
      "text/html": [
       "<div>\n",
       "<style scoped>\n",
       "    .dataframe tbody tr th:only-of-type {\n",
       "        vertical-align: middle;\n",
       "    }\n",
       "\n",
       "    .dataframe tbody tr th {\n",
       "        vertical-align: top;\n",
       "    }\n",
       "\n",
       "    .dataframe thead tr th {\n",
       "        text-align: left;\n",
       "    }\n",
       "</style>\n",
       "<table border=\"1\" class=\"dataframe\">\n",
       "  <thead>\n",
       "    <tr>\n",
       "      <th></th>\n",
       "      <th>Model</th>\n",
       "      <th>Features</th>\n",
       "      <th>Cross Validation</th>\n",
       "      <th>Cross Validation Params</th>\n",
       "      <th colspan=\"2\" halign=\"left\">RMSE Test</th>\n",
       "      <th colspan=\"2\" halign=\"left\">MAE Test</th>\n",
       "      <th colspan=\"2\" halign=\"left\">MAPE Test</th>\n",
       "      <th colspan=\"2\" halign=\"left\">R2 Test</th>\n",
       "    </tr>\n",
       "    <tr>\n",
       "      <th></th>\n",
       "      <th></th>\n",
       "      <th></th>\n",
       "      <th></th>\n",
       "      <th></th>\n",
       "      <th>mean</th>\n",
       "      <th>std</th>\n",
       "      <th>mean</th>\n",
       "      <th>std</th>\n",
       "      <th>mean</th>\n",
       "      <th>std</th>\n",
       "      <th>mean</th>\n",
       "      <th>std</th>\n",
       "    </tr>\n",
       "  </thead>\n",
       "  <tbody>\n",
       "    <tr>\n",
       "      <th>46</th>\n",
       "      <td>Random Forest</td>\n",
       "      <td>Chemical + Mineralogical + Physical + One-Hot</td>\n",
       "      <td>Repeated KFold</td>\n",
       "      <td>{\"N_Splits\": 5, \"Repeats\": 3}</td>\n",
       "      <td>1.66</td>\n",
       "      <td>0.069</td>\n",
       "      <td>1.312</td>\n",
       "      <td>0.06</td>\n",
       "      <td>0.031</td>\n",
       "      <td>0.002</td>\n",
       "      <td>0.776</td>\n",
       "      <td>0.026</td>\n",
       "    </tr>\n",
       "  </tbody>\n",
       "</table>\n",
       "</div>"
      ],
      "text/plain": [
       "            Model                                       Features  \\\n",
       "                                                                   \n",
       "46  Random Forest  Chemical + Mineralogical + Physical + One-Hot   \n",
       "\n",
       "   Cross Validation        Cross Validation Params RMSE Test        MAE Test  \\\n",
       "                                                        mean    std     mean   \n",
       "46   Repeated KFold  {\"N_Splits\": 5, \"Repeats\": 3}      1.66  0.069    1.312   \n",
       "\n",
       "         MAPE Test        R2 Test         \n",
       "     std      mean    std    mean    std  \n",
       "46  0.06     0.031  0.002   0.776  0.026  "
      ]
     },
     "execution_count": 24,
     "metadata": {},
     "output_type": "execute_result"
    },
    {
     "data": {
      "application/javascript": [
       "\n",
       "            setTimeout(function() {\n",
       "                var nbb_cell_id = 24;\n",
       "                var nbb_unformatted_code = \"pattern = r\\\"One-Hot\\\"\\n\\nfeatures_filter = df_trees[\\\"Features\\\"].str.contains(\\n    pattern,\\n    regex=True,\\n)\\n\\nidx_min = df_trees[features_filter].round(3)[\\\"RMSE Test\\\", \\\"mean\\\"].idxmin()\\n\\ndf_trees.loc[[idx_min]].round(3)\";\n",
       "                var nbb_formatted_code = \"pattern = r\\\"One-Hot\\\"\\n\\nfeatures_filter = df_trees[\\\"Features\\\"].str.contains(\\n    pattern,\\n    regex=True,\\n)\\n\\nidx_min = df_trees[features_filter].round(3)[\\\"RMSE Test\\\", \\\"mean\\\"].idxmin()\\n\\ndf_trees.loc[[idx_min]].round(3)\";\n",
       "                var nbb_cells = Jupyter.notebook.get_cells();\n",
       "                for (var i = 0; i < nbb_cells.length; ++i) {\n",
       "                    if (nbb_cells[i].input_prompt_number == nbb_cell_id) {\n",
       "                        if (nbb_cells[i].get_text() == nbb_unformatted_code) {\n",
       "                             nbb_cells[i].set_text(nbb_formatted_code);\n",
       "                        }\n",
       "                        break;\n",
       "                    }\n",
       "                }\n",
       "            }, 500);\n",
       "            "
      ],
      "text/plain": [
       "<IPython.core.display.Javascript object>"
      ]
     },
     "metadata": {},
     "output_type": "display_data"
    }
   ],
   "source": [
    "pattern = r\"One-Hot\"\n",
    "\n",
    "features_filter = df_trees[\"Features\"].str.contains(\n",
    "    pattern,\n",
    "    regex=True,\n",
    ")\n",
    "\n",
    "idx_min = df_trees[features_filter].round(3)[\"RMSE Test\", \"mean\"].idxmin()\n",
    "\n",
    "df_trees.loc[[idx_min]].round(3)"
   ]
  },
  {
   "cell_type": "code",
   "execution_count": null,
   "id": "92bb12fa",
   "metadata": {},
   "outputs": [],
   "source": []
  }
 ],
 "metadata": {
  "kernelspec": {
   "display_name": "ccs28-venv",
   "language": "python",
   "name": "ccs28-venv"
  },
  "language_info": {
   "codemirror_mode": {
    "name": "ipython",
    "version": 3
   },
   "file_extension": ".py",
   "mimetype": "text/x-python",
   "name": "python",
   "nbconvert_exporter": "python",
   "pygments_lexer": "ipython3",
   "version": "3.10.12"
  }
 },
 "nbformat": 4,
 "nbformat_minor": 5
}
