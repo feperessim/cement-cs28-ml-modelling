{
 "cells": [
  {
   "cell_type": "code",
   "execution_count": 1,
   "id": "14b4fe5a",
   "metadata": {},
   "outputs": [
    {
     "data": {
      "application/javascript": [
       "\n",
       "            setTimeout(function() {\n",
       "                var nbb_cell_id = 1;\n",
       "                var nbb_unformatted_code = \"%load_ext nb_black\";\n",
       "                var nbb_formatted_code = \"%load_ext nb_black\";\n",
       "                var nbb_cells = Jupyter.notebook.get_cells();\n",
       "                for (var i = 0; i < nbb_cells.length; ++i) {\n",
       "                    if (nbb_cells[i].input_prompt_number == nbb_cell_id) {\n",
       "                        if (nbb_cells[i].get_text() == nbb_unformatted_code) {\n",
       "                             nbb_cells[i].set_text(nbb_formatted_code);\n",
       "                        }\n",
       "                        break;\n",
       "                    }\n",
       "                }\n",
       "            }, 500);\n",
       "            "
      ],
      "text/plain": [
       "<IPython.core.display.Javascript object>"
      ]
     },
     "metadata": {},
     "output_type": "display_data"
    }
   ],
   "source": [
    "%load_ext nb_black"
   ]
  },
  {
   "cell_type": "code",
   "execution_count": 2,
   "id": "6a4d72e6",
   "metadata": {},
   "outputs": [
    {
     "data": {
      "application/javascript": [
       "\n",
       "            setTimeout(function() {\n",
       "                var nbb_cell_id = 2;\n",
       "                var nbb_unformatted_code = \"import pandas as pd\\nimport os\\nimport glob\";\n",
       "                var nbb_formatted_code = \"import pandas as pd\\nimport os\\nimport glob\";\n",
       "                var nbb_cells = Jupyter.notebook.get_cells();\n",
       "                for (var i = 0; i < nbb_cells.length; ++i) {\n",
       "                    if (nbb_cells[i].input_prompt_number == nbb_cell_id) {\n",
       "                        if (nbb_cells[i].get_text() == nbb_unformatted_code) {\n",
       "                             nbb_cells[i].set_text(nbb_formatted_code);\n",
       "                        }\n",
       "                        break;\n",
       "                    }\n",
       "                }\n",
       "            }, 500);\n",
       "            "
      ],
      "text/plain": [
       "<IPython.core.display.Javascript object>"
      ]
     },
     "metadata": {},
     "output_type": "display_data"
    }
   ],
   "source": [
    "import pandas as pd\n",
    "import os\n",
    "import glob"
   ]
  },
  {
   "cell_type": "code",
   "execution_count": 3,
   "id": "4366fe99",
   "metadata": {},
   "outputs": [
    {
     "name": "stdout",
     "output_type": "stream",
     "text": [
      "BidirectionalGRU_results_grouped_10.csv   lstm_results_grouped_1.csv\r\n",
      "BidirectionalGRU_results_grouped_1.csv\t  lstm_results_grouped_2.csv\r\n",
      "BidirectionalGRU_results_grouped_2.csv\t  lstm_results_grouped_3.csv\r\n",
      "BidirectionalGRU_results_grouped_3.csv\t  lstm_results_grouped_4.csv\r\n",
      "BidirectionalGRU_results_grouped_4.csv\t  lstm_results_grouped_5.csv\r\n",
      "BidirectionalGRU_results_grouped_5.csv\t  lstm_results_grouped_6.csv\r\n",
      "BidirectionalGRU_results_grouped_6.csv\t  lstm_results_grouped_7.csv\r\n",
      "BidirectionalGRU_results_grouped_7.csv\t  lstm_results_grouped_8.csv\r\n",
      "BidirectionalGRU_results_grouped_8.csv\t  lstm_results_grouped_9.csv\r\n",
      "BidirectionalGRU_results_grouped_9.csv\t  mlp_results_grouped_10.csv\r\n",
      "BidirectionalLSTM_results_grouped_10.csv  mlp_results_grouped_1.csv\r\n",
      "BidirectionalLSTM_results_grouped_1.csv   mlp_results_grouped_2.csv\r\n",
      "BidirectionalLSTM_results_grouped_2.csv   mlp_results_grouped_3.csv\r\n",
      "BidirectionalLSTM_results_grouped_3.csv   mlp_results_grouped_4.csv\r\n",
      "BidirectionalLSTM_results_grouped_4.csv   mlp_results_grouped_5.csv\r\n",
      "BidirectionalLSTM_results_grouped_5.csv   mlp_results_grouped_6.csv\r\n",
      "BidirectionalLSTM_results_grouped_6.csv   mlp_results_grouped_7.csv\r\n",
      "BidirectionalLSTM_results_grouped_7.csv   mlp_results_grouped_8.csv\r\n",
      "BidirectionalLSTM_results_grouped_8.csv   mlp_results_grouped_9.csv\r\n",
      "BidirectionalLSTM_results_grouped_9.csv   random_forest_results_grouped_10.csv\r\n",
      "decision_tree_results_grouped_10.csv\t  random_forest_results_grouped_1.csv\r\n",
      "decision_tree_results_grouped_1.csv\t  random_forest_results_grouped_2.csv\r\n",
      "decision_tree_results_grouped_2.csv\t  random_forest_results_grouped_3.csv\r\n",
      "decision_tree_results_grouped_3.csv\t  random_forest_results_grouped_4.csv\r\n",
      "decision_tree_results_grouped_4.csv\t  random_forest_results_grouped_5.csv\r\n",
      "decision_tree_results_grouped_5.csv\t  random_forest_results_grouped_6.csv\r\n",
      "decision_tree_results_grouped_6.csv\t  random_forest_results_grouped_7.csv\r\n",
      "decision_tree_results_grouped_7.csv\t  random_forest_results_grouped_8.csv\r\n",
      "decision_tree_results_grouped_8.csv\t  random_forest_results_grouped_9.csv\r\n",
      "decision_tree_results_grouped_9.csv\t  transformer_results_grouped_10.csv\r\n",
      "gru_results_grouped_10.csv\t\t  transformer_results_grouped_1.csv\r\n",
      "gru_results_grouped_1.csv\t\t  transformer_results_grouped_2.csv\r\n",
      "gru_results_grouped_2.csv\t\t  transformer_results_grouped_3.csv\r\n",
      "gru_results_grouped_3.csv\t\t  transformer_results_grouped_4.csv\r\n",
      "gru_results_grouped_4.csv\t\t  transformer_results_grouped_5.csv\r\n",
      "gru_results_grouped_5.csv\t\t  transformer_results_grouped_6.csv\r\n",
      "gru_results_grouped_7.csv\t\t  transformer_results_grouped_7.csv\r\n",
      "gru_results_grouped_8.csv\t\t  transformer_results_grouped_8.csv\r\n",
      "gru_results_grouped_9.csv\t\t  transformer_results_grouped_9.csv\r\n",
      "linear_regression_results_grouped_10.csv  xgboost_results_grouped_10.csv\r\n",
      "linear_regression_results_grouped_1.csv   xgboost_results_grouped_1.csv\r\n",
      "linear_regression_results_grouped_2.csv   xgboost_results_grouped_2.csv\r\n",
      "linear_regression_results_grouped_3.csv   xgboost_results_grouped_3.csv\r\n",
      "linear_regression_results_grouped_4.csv   xgboost_results_grouped_4.csv\r\n",
      "linear_regression_results_grouped_5.csv   xgboost_results_grouped_5.csv\r\n",
      "linear_regression_results_grouped_6.csv   xgboost_results_grouped_6.csv\r\n",
      "linear_regression_results_grouped_7.csv   xgboost_results_grouped_7.csv\r\n",
      "linear_regression_results_grouped_8.csv   xgboost_results_grouped_8.csv\r\n",
      "linear_regression_results_grouped_9.csv   xgboost_results_grouped_9.csv\r\n",
      "lstm_results_grouped_10.csv\r\n"
     ]
    },
    {
     "data": {
      "application/javascript": [
       "\n",
       "            setTimeout(function() {\n",
       "                var nbb_cell_id = 3;\n",
       "                var nbb_unformatted_code = \"!ls all_cements/grouped\";\n",
       "                var nbb_formatted_code = \"!ls all_cements/grouped\";\n",
       "                var nbb_cells = Jupyter.notebook.get_cells();\n",
       "                for (var i = 0; i < nbb_cells.length; ++i) {\n",
       "                    if (nbb_cells[i].input_prompt_number == nbb_cell_id) {\n",
       "                        if (nbb_cells[i].get_text() == nbb_unformatted_code) {\n",
       "                             nbb_cells[i].set_text(nbb_formatted_code);\n",
       "                        }\n",
       "                        break;\n",
       "                    }\n",
       "                }\n",
       "            }, 500);\n",
       "            "
      ],
      "text/plain": [
       "<IPython.core.display.Javascript object>"
      ]
     },
     "metadata": {},
     "output_type": "display_data"
    }
   ],
   "source": [
    "!ls all_cements/grouped"
   ]
  },
  {
   "cell_type": "markdown",
   "id": "1c598ecf",
   "metadata": {},
   "source": [
    "### Reading The files"
   ]
  },
  {
   "cell_type": "code",
   "execution_count": 4,
   "id": "defde4e2",
   "metadata": {},
   "outputs": [
    {
     "data": {
      "application/javascript": [
       "\n",
       "            setTimeout(function() {\n",
       "                var nbb_cell_id = 4;\n",
       "                var nbb_unformatted_code = \"path = \\\"/home/peressim/projects/ccs28-ml-modelling/reports/results/local_models/partner_i-oficial/all_cements/grouped/\\\"\\ncsv_files = glob.glob(os.path.join(path, \\\"*.csv\\\"))\";\n",
       "                var nbb_formatted_code = \"path = \\\"/home/peressim/projects/ccs28-ml-modelling/reports/results/local_models/partner_i-oficial/all_cements/grouped/\\\"\\ncsv_files = glob.glob(os.path.join(path, \\\"*.csv\\\"))\";\n",
       "                var nbb_cells = Jupyter.notebook.get_cells();\n",
       "                for (var i = 0; i < nbb_cells.length; ++i) {\n",
       "                    if (nbb_cells[i].input_prompt_number == nbb_cell_id) {\n",
       "                        if (nbb_cells[i].get_text() == nbb_unformatted_code) {\n",
       "                             nbb_cells[i].set_text(nbb_formatted_code);\n",
       "                        }\n",
       "                        break;\n",
       "                    }\n",
       "                }\n",
       "            }, 500);\n",
       "            "
      ],
      "text/plain": [
       "<IPython.core.display.Javascript object>"
      ]
     },
     "metadata": {},
     "output_type": "display_data"
    }
   ],
   "source": [
    "path = \"/home/peressim/projects/ccs28-ml-modelling/reports/results/local_models/partner_i-oficial/all_cements/grouped/\"\n",
    "csv_files = glob.glob(os.path.join(path, \"*.csv\"))"
   ]
  },
  {
   "cell_type": "code",
   "execution_count": 5,
   "id": "814290ed",
   "metadata": {},
   "outputs": [
    {
     "data": {
      "application/javascript": [
       "\n",
       "            setTimeout(function() {\n",
       "                var nbb_cell_id = 5;\n",
       "                var nbb_unformatted_code = \"results = []\\n\\nfor filepath in csv_files:\\n    df = pd.read_csv(filepath, header=[0, 1])\\n    results.append(df)\\ndf = pd.concat(results, ignore_index=True)\";\n",
       "                var nbb_formatted_code = \"results = []\\n\\nfor filepath in csv_files:\\n    df = pd.read_csv(filepath, header=[0, 1])\\n    results.append(df)\\ndf = pd.concat(results, ignore_index=True)\";\n",
       "                var nbb_cells = Jupyter.notebook.get_cells();\n",
       "                for (var i = 0; i < nbb_cells.length; ++i) {\n",
       "                    if (nbb_cells[i].input_prompt_number == nbb_cell_id) {\n",
       "                        if (nbb_cells[i].get_text() == nbb_unformatted_code) {\n",
       "                             nbb_cells[i].set_text(nbb_formatted_code);\n",
       "                        }\n",
       "                        break;\n",
       "                    }\n",
       "                }\n",
       "            }, 500);\n",
       "            "
      ],
      "text/plain": [
       "<IPython.core.display.Javascript object>"
      ]
     },
     "metadata": {},
     "output_type": "display_data"
    }
   ],
   "source": [
    "results = []\n",
    "\n",
    "for filepath in csv_files:\n",
    "    df = pd.read_csv(filepath, header=[0, 1])\n",
    "    results.append(df)\n",
    "df = pd.concat(results, ignore_index=True)"
   ]
  },
  {
   "cell_type": "markdown",
   "id": "4a377f20",
   "metadata": {},
   "source": [
    "### Renaming the Columns"
   ]
  },
  {
   "cell_type": "code",
   "execution_count": 6,
   "id": "4d344bfc",
   "metadata": {},
   "outputs": [
    {
     "data": {
      "application/javascript": [
       "\n",
       "            setTimeout(function() {\n",
       "                var nbb_cell_id = 6;\n",
       "                var nbb_unformatted_code = \"df.columns = pd.MultiIndex.from_tuples(\\n    list(\\n        {\\n            col: (col[0], \\\"\\\") if \\\"Unnamed\\\" in col[1] else col for col in df.columns\\n        }.values()\\n    )\\n)\";\n",
       "                var nbb_formatted_code = \"df.columns = pd.MultiIndex.from_tuples(\\n    list(\\n        {\\n            col: (col[0], \\\"\\\") if \\\"Unnamed\\\" in col[1] else col for col in df.columns\\n        }.values()\\n    )\\n)\";\n",
       "                var nbb_cells = Jupyter.notebook.get_cells();\n",
       "                for (var i = 0; i < nbb_cells.length; ++i) {\n",
       "                    if (nbb_cells[i].input_prompt_number == nbb_cell_id) {\n",
       "                        if (nbb_cells[i].get_text() == nbb_unformatted_code) {\n",
       "                             nbb_cells[i].set_text(nbb_formatted_code);\n",
       "                        }\n",
       "                        break;\n",
       "                    }\n",
       "                }\n",
       "            }, 500);\n",
       "            "
      ],
      "text/plain": [
       "<IPython.core.display.Javascript object>"
      ]
     },
     "metadata": {},
     "output_type": "display_data"
    }
   ],
   "source": [
    "df.columns = pd.MultiIndex.from_tuples(\n",
    "    list(\n",
    "        {\n",
    "            col: (col[0], \"\") if \"Unnamed\" in col[1] else col for col in df.columns\n",
    "        }.values()\n",
    "    )\n",
    ")"
   ]
  },
  {
   "cell_type": "markdown",
   "id": "b33fc47e",
   "metadata": {},
   "source": [
    "### Defining the Columns to work with"
   ]
  },
  {
   "cell_type": "code",
   "execution_count": 7,
   "id": "1e0beefd",
   "metadata": {},
   "outputs": [
    {
     "data": {
      "application/javascript": [
       "\n",
       "            setTimeout(function() {\n",
       "                var nbb_cell_id = 7;\n",
       "                var nbb_unformatted_code = \"cols = [\\n    (\\\"Model\\\", \\\"\\\"),\\n    (\\\"Features\\\", \\\"\\\"),\\n    (\\\"Cross Validation\\\", \\\"\\\"),\\n    (\\\"Cross Validation Params\\\", \\\"\\\"),\\n    (\\\"RMSE Test\\\", \\\"mean\\\"),\\n    (\\\"RMSE Test\\\", \\\"std\\\"),\\n    (\\\"MAE Test\\\", \\\"mean\\\"),\\n    (\\\"MAE Test\\\", \\\"std\\\"),\\n    (\\\"MAPE Test\\\", \\\"mean\\\"),\\n    (\\\"MAPE Test\\\", \\\"std\\\"),\\n    (\\\"R2 Test\\\", \\\"mean\\\"),\\n    (\\\"R2 Test\\\", \\\"std\\\"),\\n]\";\n",
       "                var nbb_formatted_code = \"cols = [\\n    (\\\"Model\\\", \\\"\\\"),\\n    (\\\"Features\\\", \\\"\\\"),\\n    (\\\"Cross Validation\\\", \\\"\\\"),\\n    (\\\"Cross Validation Params\\\", \\\"\\\"),\\n    (\\\"RMSE Test\\\", \\\"mean\\\"),\\n    (\\\"RMSE Test\\\", \\\"std\\\"),\\n    (\\\"MAE Test\\\", \\\"mean\\\"),\\n    (\\\"MAE Test\\\", \\\"std\\\"),\\n    (\\\"MAPE Test\\\", \\\"mean\\\"),\\n    (\\\"MAPE Test\\\", \\\"std\\\"),\\n    (\\\"R2 Test\\\", \\\"mean\\\"),\\n    (\\\"R2 Test\\\", \\\"std\\\"),\\n]\";\n",
       "                var nbb_cells = Jupyter.notebook.get_cells();\n",
       "                for (var i = 0; i < nbb_cells.length; ++i) {\n",
       "                    if (nbb_cells[i].input_prompt_number == nbb_cell_id) {\n",
       "                        if (nbb_cells[i].get_text() == nbb_unformatted_code) {\n",
       "                             nbb_cells[i].set_text(nbb_formatted_code);\n",
       "                        }\n",
       "                        break;\n",
       "                    }\n",
       "                }\n",
       "            }, 500);\n",
       "            "
      ],
      "text/plain": [
       "<IPython.core.display.Javascript object>"
      ]
     },
     "metadata": {},
     "output_type": "display_data"
    }
   ],
   "source": [
    "cols = [\n",
    "    (\"Model\", \"\"),\n",
    "    (\"Features\", \"\"),\n",
    "    (\"Cross Validation\", \"\"),\n",
    "    (\"Cross Validation Params\", \"\"),\n",
    "    (\"RMSE Test\", \"mean\"),\n",
    "    (\"RMSE Test\", \"std\"),\n",
    "    (\"MAE Test\", \"mean\"),\n",
    "    (\"MAE Test\", \"std\"),\n",
    "    (\"MAPE Test\", \"mean\"),\n",
    "    (\"MAPE Test\", \"std\"),\n",
    "    (\"R2 Test\", \"mean\"),\n",
    "    (\"R2 Test\", \"std\"),\n",
    "]"
   ]
  },
  {
   "cell_type": "code",
   "execution_count": 8,
   "id": "9effe4f3",
   "metadata": {},
   "outputs": [
    {
     "data": {
      "application/javascript": [
       "\n",
       "            setTimeout(function() {\n",
       "                var nbb_cell_id = 8;\n",
       "                var nbb_unformatted_code = \"cols_metrics = [\\n    (\\\"RMSE Test\\\", \\\"mean\\\"),\\n    (\\\"RMSE Test\\\", \\\"std\\\"),\\n    (\\\"MAE Test\\\", \\\"mean\\\"),\\n    (\\\"MAE Test\\\", \\\"std\\\"),\\n    (\\\"MAPE Test\\\", \\\"mean\\\"),\\n    (\\\"MAPE Test\\\", \\\"std\\\"),\\n    (\\\"R2 Test\\\", \\\"mean\\\"),\\n    (\\\"R2 Test\\\", \\\"std\\\"),\\n]\";\n",
       "                var nbb_formatted_code = \"cols_metrics = [\\n    (\\\"RMSE Test\\\", \\\"mean\\\"),\\n    (\\\"RMSE Test\\\", \\\"std\\\"),\\n    (\\\"MAE Test\\\", \\\"mean\\\"),\\n    (\\\"MAE Test\\\", \\\"std\\\"),\\n    (\\\"MAPE Test\\\", \\\"mean\\\"),\\n    (\\\"MAPE Test\\\", \\\"std\\\"),\\n    (\\\"R2 Test\\\", \\\"mean\\\"),\\n    (\\\"R2 Test\\\", \\\"std\\\"),\\n]\";\n",
       "                var nbb_cells = Jupyter.notebook.get_cells();\n",
       "                for (var i = 0; i < nbb_cells.length; ++i) {\n",
       "                    if (nbb_cells[i].input_prompt_number == nbb_cell_id) {\n",
       "                        if (nbb_cells[i].get_text() == nbb_unformatted_code) {\n",
       "                             nbb_cells[i].set_text(nbb_formatted_code);\n",
       "                        }\n",
       "                        break;\n",
       "                    }\n",
       "                }\n",
       "            }, 500);\n",
       "            "
      ],
      "text/plain": [
       "<IPython.core.display.Javascript object>"
      ]
     },
     "metadata": {},
     "output_type": "display_data"
    }
   ],
   "source": [
    "cols_metrics = [\n",
    "    (\"RMSE Test\", \"mean\"),\n",
    "    (\"RMSE Test\", \"std\"),\n",
    "    (\"MAE Test\", \"mean\"),\n",
    "    (\"MAE Test\", \"std\"),\n",
    "    (\"MAPE Test\", \"mean\"),\n",
    "    (\"MAPE Test\", \"std\"),\n",
    "    (\"R2 Test\", \"mean\"),\n",
    "    (\"R2 Test\", \"std\"),\n",
    "]"
   ]
  },
  {
   "cell_type": "markdown",
   "id": "bba69294",
   "metadata": {},
   "source": [
    "# Linear Regression"
   ]
  },
  {
   "cell_type": "code",
   "execution_count": 9,
   "id": "730f6342",
   "metadata": {},
   "outputs": [
    {
     "data": {
      "application/javascript": [
       "\n",
       "            setTimeout(function() {\n",
       "                var nbb_cell_id = 9;\n",
       "                var nbb_unformatted_code = \"df_linreg = df[df[(\\\"Model\\\", \\\"\\\")] == \\\"Linear Regression\\\"][cols].copy()\\n# df_linreg = df_linreg.drop([(\\\"Model\\\", \\\"\\\")], axis=1)\\ndf_linreg = df_linreg[df_linreg[\\\"Cross Validation\\\"] != \\\"Out of time Split\\\"]\";\n",
       "                var nbb_formatted_code = \"df_linreg = df[df[(\\\"Model\\\", \\\"\\\")] == \\\"Linear Regression\\\"][cols].copy()\\n# df_linreg = df_linreg.drop([(\\\"Model\\\", \\\"\\\")], axis=1)\\ndf_linreg = df_linreg[df_linreg[\\\"Cross Validation\\\"] != \\\"Out of time Split\\\"]\";\n",
       "                var nbb_cells = Jupyter.notebook.get_cells();\n",
       "                for (var i = 0; i < nbb_cells.length; ++i) {\n",
       "                    if (nbb_cells[i].input_prompt_number == nbb_cell_id) {\n",
       "                        if (nbb_cells[i].get_text() == nbb_unformatted_code) {\n",
       "                             nbb_cells[i].set_text(nbb_formatted_code);\n",
       "                        }\n",
       "                        break;\n",
       "                    }\n",
       "                }\n",
       "            }, 500);\n",
       "            "
      ],
      "text/plain": [
       "<IPython.core.display.Javascript object>"
      ]
     },
     "metadata": {},
     "output_type": "display_data"
    }
   ],
   "source": [
    "df_linreg = df[df[(\"Model\", \"\")] == \"Linear Regression\"][cols].copy()\n",
    "# df_linreg = df_linreg.drop([(\"Model\", \"\")], axis=1)\n",
    "df_linreg = df_linreg[df_linreg[\"Cross Validation\"] != \"Out of time Split\"]"
   ]
  },
  {
   "cell_type": "code",
   "execution_count": 10,
   "id": "8538a017",
   "metadata": {},
   "outputs": [
    {
     "data": {
      "text/html": [
       "<div>\n",
       "<style scoped>\n",
       "    .dataframe tbody tr th:only-of-type {\n",
       "        vertical-align: middle;\n",
       "    }\n",
       "\n",
       "    .dataframe tbody tr th {\n",
       "        vertical-align: top;\n",
       "    }\n",
       "\n",
       "    .dataframe thead tr th {\n",
       "        text-align: left;\n",
       "    }\n",
       "</style>\n",
       "<table border=\"1\" class=\"dataframe\">\n",
       "  <thead>\n",
       "    <tr>\n",
       "      <th></th>\n",
       "      <th>Model</th>\n",
       "      <th>Features</th>\n",
       "      <th>Cross Validation</th>\n",
       "      <th>Cross Validation Params</th>\n",
       "      <th colspan=\"2\" halign=\"left\">RMSE Test</th>\n",
       "      <th colspan=\"2\" halign=\"left\">MAE Test</th>\n",
       "      <th colspan=\"2\" halign=\"left\">MAPE Test</th>\n",
       "      <th colspan=\"2\" halign=\"left\">R2 Test</th>\n",
       "    </tr>\n",
       "    <tr>\n",
       "      <th></th>\n",
       "      <th></th>\n",
       "      <th></th>\n",
       "      <th></th>\n",
       "      <th></th>\n",
       "      <th>mean</th>\n",
       "      <th>std</th>\n",
       "      <th>mean</th>\n",
       "      <th>std</th>\n",
       "      <th>mean</th>\n",
       "      <th>std</th>\n",
       "      <th>mean</th>\n",
       "      <th>std</th>\n",
       "    </tr>\n",
       "  </thead>\n",
       "  <tbody>\n",
       "    <tr>\n",
       "      <th>344</th>\n",
       "      <td>Linear Regression</td>\n",
       "      <td>Chemical + Mineralogical</td>\n",
       "      <td>Blocking Time Series Split</td>\n",
       "      <td>{\"N_Splits\": 5, \"Repeats\": 1, \"train_size\": 0.8}</td>\n",
       "      <td>3.844932</td>\n",
       "      <td>0.295179</td>\n",
       "      <td>2.945173</td>\n",
       "      <td>0.289977</td>\n",
       "      <td>0.069038</td>\n",
       "      <td>0.006380</td>\n",
       "      <td>0.383375</td>\n",
       "      <td>0.105745</td>\n",
       "    </tr>\n",
       "    <tr>\n",
       "      <th>346</th>\n",
       "      <td>Linear Regression</td>\n",
       "      <td>Chemical + Mineralogical</td>\n",
       "      <td>Repeated KFold</td>\n",
       "      <td>{\"N_Splits\": 5, \"Repeats\": 3}</td>\n",
       "      <td>3.564466</td>\n",
       "      <td>0.152389</td>\n",
       "      <td>2.755747</td>\n",
       "      <td>0.095292</td>\n",
       "      <td>0.065881</td>\n",
       "      <td>0.002301</td>\n",
       "      <td>0.495284</td>\n",
       "      <td>0.054956</td>\n",
       "    </tr>\n",
       "    <tr>\n",
       "      <th>347</th>\n",
       "      <td>Linear Regression</td>\n",
       "      <td>Chemical + Mineralogical</td>\n",
       "      <td>Time Series Split</td>\n",
       "      <td>{\"N_Splits\": 5, \"Repeats\": 1, \"Gap\": 0}</td>\n",
       "      <td>4.166360</td>\n",
       "      <td>0.608344</td>\n",
       "      <td>3.217591</td>\n",
       "      <td>0.453831</td>\n",
       "      <td>0.076196</td>\n",
       "      <td>0.009931</td>\n",
       "      <td>0.309890</td>\n",
       "      <td>0.174562</td>\n",
       "    </tr>\n",
       "  </tbody>\n",
       "</table>\n",
       "</div>"
      ],
      "text/plain": [
       "                 Model                  Features            Cross Validation  \\\n",
       "                                                                               \n",
       "344  Linear Regression  Chemical + Mineralogical  Blocking Time Series Split   \n",
       "346  Linear Regression  Chemical + Mineralogical              Repeated KFold   \n",
       "347  Linear Regression  Chemical + Mineralogical           Time Series Split   \n",
       "\n",
       "                              Cross Validation Params RMSE Test            \\\n",
       "                                                           mean       std   \n",
       "344  {\"N_Splits\": 5, \"Repeats\": 1, \"train_size\": 0.8}  3.844932  0.295179   \n",
       "346                     {\"N_Splits\": 5, \"Repeats\": 3}  3.564466  0.152389   \n",
       "347           {\"N_Splits\": 5, \"Repeats\": 1, \"Gap\": 0}  4.166360  0.608344   \n",
       "\n",
       "     MAE Test           MAPE Test             R2 Test            \n",
       "         mean       std      mean       std      mean       std  \n",
       "344  2.945173  0.289977  0.069038  0.006380  0.383375  0.105745  \n",
       "346  2.755747  0.095292  0.065881  0.002301  0.495284  0.054956  \n",
       "347  3.217591  0.453831  0.076196  0.009931  0.309890  0.174562  "
      ]
     },
     "execution_count": 10,
     "metadata": {},
     "output_type": "execute_result"
    },
    {
     "data": {
      "application/javascript": [
       "\n",
       "            setTimeout(function() {\n",
       "                var nbb_cell_id = 10;\n",
       "                var nbb_unformatted_code = \"df_linreg[df_linreg[\\\"Features\\\"] == \\\"Chemical + Mineralogical\\\"]\";\n",
       "                var nbb_formatted_code = \"df_linreg[df_linreg[\\\"Features\\\"] == \\\"Chemical + Mineralogical\\\"]\";\n",
       "                var nbb_cells = Jupyter.notebook.get_cells();\n",
       "                for (var i = 0; i < nbb_cells.length; ++i) {\n",
       "                    if (nbb_cells[i].input_prompt_number == nbb_cell_id) {\n",
       "                        if (nbb_cells[i].get_text() == nbb_unformatted_code) {\n",
       "                             nbb_cells[i].set_text(nbb_formatted_code);\n",
       "                        }\n",
       "                        break;\n",
       "                    }\n",
       "                }\n",
       "            }, 500);\n",
       "            "
      ],
      "text/plain": [
       "<IPython.core.display.Javascript object>"
      ]
     },
     "metadata": {},
     "output_type": "display_data"
    }
   ],
   "source": [
    "df_linreg[df_linreg[\"Features\"] == \"Chemical + Mineralogical\"]"
   ]
  },
  {
   "cell_type": "code",
   "execution_count": 11,
   "id": "bda7ad8f",
   "metadata": {},
   "outputs": [
    {
     "data": {
      "text/html": [
       "<div>\n",
       "<style scoped>\n",
       "    .dataframe tbody tr th:only-of-type {\n",
       "        vertical-align: middle;\n",
       "    }\n",
       "\n",
       "    .dataframe tbody tr th {\n",
       "        vertical-align: top;\n",
       "    }\n",
       "\n",
       "    .dataframe thead tr th {\n",
       "        text-align: left;\n",
       "    }\n",
       "</style>\n",
       "<table border=\"1\" class=\"dataframe\">\n",
       "  <thead>\n",
       "    <tr>\n",
       "      <th></th>\n",
       "      <th>Model</th>\n",
       "      <th>Features</th>\n",
       "      <th>Cross Validation</th>\n",
       "      <th>Cross Validation Params</th>\n",
       "      <th colspan=\"2\" halign=\"left\">RMSE Test</th>\n",
       "      <th colspan=\"2\" halign=\"left\">MAE Test</th>\n",
       "      <th colspan=\"2\" halign=\"left\">MAPE Test</th>\n",
       "      <th colspan=\"2\" halign=\"left\">R2 Test</th>\n",
       "    </tr>\n",
       "    <tr>\n",
       "      <th></th>\n",
       "      <th></th>\n",
       "      <th></th>\n",
       "      <th></th>\n",
       "      <th></th>\n",
       "      <th>mean</th>\n",
       "      <th>std</th>\n",
       "      <th>mean</th>\n",
       "      <th>std</th>\n",
       "      <th>mean</th>\n",
       "      <th>std</th>\n",
       "      <th>mean</th>\n",
       "      <th>std</th>\n",
       "    </tr>\n",
       "  </thead>\n",
       "  <tbody>\n",
       "    <tr>\n",
       "      <th>346</th>\n",
       "      <td>Linear Regression</td>\n",
       "      <td>Chemical + Mineralogical</td>\n",
       "      <td>Repeated KFold</td>\n",
       "      <td>{\"N_Splits\": 5, \"Repeats\": 3}</td>\n",
       "      <td>3.564</td>\n",
       "      <td>0.152</td>\n",
       "      <td>2.756</td>\n",
       "      <td>0.095</td>\n",
       "      <td>0.066</td>\n",
       "      <td>0.002</td>\n",
       "      <td>0.495</td>\n",
       "      <td>0.055</td>\n",
       "    </tr>\n",
       "  </tbody>\n",
       "</table>\n",
       "</div>"
      ],
      "text/plain": [
       "                 Model                  Features Cross Validation  \\\n",
       "                                                                    \n",
       "346  Linear Regression  Chemical + Mineralogical   Repeated KFold   \n",
       "\n",
       "           Cross Validation Params RMSE Test        MAE Test        MAPE Test  \\\n",
       "                                        mean    std     mean    std      mean   \n",
       "346  {\"N_Splits\": 5, \"Repeats\": 3}     3.564  0.152    2.756  0.095     0.066   \n",
       "\n",
       "           R2 Test         \n",
       "       std    mean    std  \n",
       "346  0.002   0.495  0.055  "
      ]
     },
     "execution_count": 11,
     "metadata": {},
     "output_type": "execute_result"
    },
    {
     "data": {
      "application/javascript": [
       "\n",
       "            setTimeout(function() {\n",
       "                var nbb_cell_id = 11;\n",
       "                var nbb_unformatted_code = \"idx_min = df_linreg[df_linreg[\\\"Features\\\"] == \\\"Chemical + Mineralogical\\\"][\\n    \\\"RMSE Test\\\", \\\"mean\\\"\\n].idxmin()\\n\\ndf_linreg.loc[[idx_min]].round(3)\";\n",
       "                var nbb_formatted_code = \"idx_min = df_linreg[df_linreg[\\\"Features\\\"] == \\\"Chemical + Mineralogical\\\"][\\n    \\\"RMSE Test\\\", \\\"mean\\\"\\n].idxmin()\\n\\ndf_linreg.loc[[idx_min]].round(3)\";\n",
       "                var nbb_cells = Jupyter.notebook.get_cells();\n",
       "                for (var i = 0; i < nbb_cells.length; ++i) {\n",
       "                    if (nbb_cells[i].input_prompt_number == nbb_cell_id) {\n",
       "                        if (nbb_cells[i].get_text() == nbb_unformatted_code) {\n",
       "                             nbb_cells[i].set_text(nbb_formatted_code);\n",
       "                        }\n",
       "                        break;\n",
       "                    }\n",
       "                }\n",
       "            }, 500);\n",
       "            "
      ],
      "text/plain": [
       "<IPython.core.display.Javascript object>"
      ]
     },
     "metadata": {},
     "output_type": "display_data"
    }
   ],
   "source": [
    "idx_min = df_linreg[df_linreg[\"Features\"] == \"Chemical + Mineralogical\"][\n",
    "    \"RMSE Test\", \"mean\"\n",
    "].idxmin()\n",
    "\n",
    "df_linreg.loc[[idx_min]].round(3)"
   ]
  },
  {
   "cell_type": "code",
   "execution_count": 12,
   "id": "6b9e76b9",
   "metadata": {
    "scrolled": false
   },
   "outputs": [
    {
     "name": "stderr",
     "output_type": "stream",
     "text": [
      "/tmp/ipykernel_2546721/383223557.py:6: UserWarning: This pattern is interpreted as a regular expression, and has match groups. To actually get the groups, use str.extract.\n",
      "  features_filter = df_linreg[\"Features\"].str.contains(\n"
     ]
    },
    {
     "data": {
      "text/html": [
       "<div>\n",
       "<style scoped>\n",
       "    .dataframe tbody tr th:only-of-type {\n",
       "        vertical-align: middle;\n",
       "    }\n",
       "\n",
       "    .dataframe tbody tr th {\n",
       "        vertical-align: top;\n",
       "    }\n",
       "\n",
       "    .dataframe thead tr th {\n",
       "        text-align: left;\n",
       "    }\n",
       "</style>\n",
       "<table border=\"1\" class=\"dataframe\">\n",
       "  <thead>\n",
       "    <tr>\n",
       "      <th></th>\n",
       "      <th>Model</th>\n",
       "      <th>Features</th>\n",
       "      <th>Cross Validation</th>\n",
       "      <th>Cross Validation Params</th>\n",
       "      <th colspan=\"2\" halign=\"left\">RMSE Test</th>\n",
       "      <th colspan=\"2\" halign=\"left\">MAE Test</th>\n",
       "      <th colspan=\"2\" halign=\"left\">MAPE Test</th>\n",
       "      <th colspan=\"2\" halign=\"left\">R2 Test</th>\n",
       "    </tr>\n",
       "    <tr>\n",
       "      <th></th>\n",
       "      <th></th>\n",
       "      <th></th>\n",
       "      <th></th>\n",
       "      <th></th>\n",
       "      <th>mean</th>\n",
       "      <th>std</th>\n",
       "      <th>mean</th>\n",
       "      <th>std</th>\n",
       "      <th>mean</th>\n",
       "      <th>std</th>\n",
       "      <th>mean</th>\n",
       "      <th>std</th>\n",
       "    </tr>\n",
       "  </thead>\n",
       "  <tbody>\n",
       "    <tr>\n",
       "      <th>698</th>\n",
       "      <td>Linear Regression</td>\n",
       "      <td>Chemical + Mineralogical + CS3 + CS7</td>\n",
       "      <td>Repeated KFold</td>\n",
       "      <td>{\"N_Splits\": 5, \"Repeats\": 3}</td>\n",
       "      <td>1.065</td>\n",
       "      <td>0.094</td>\n",
       "      <td>0.803</td>\n",
       "      <td>0.027</td>\n",
       "      <td>0.019</td>\n",
       "      <td>0.001</td>\n",
       "      <td>0.955</td>\n",
       "      <td>0.009</td>\n",
       "    </tr>\n",
       "  </tbody>\n",
       "</table>\n",
       "</div>"
      ],
      "text/plain": [
       "                 Model                              Features Cross Validation  \\\n",
       "                                                                                \n",
       "698  Linear Regression  Chemical + Mineralogical + CS3 + CS7   Repeated KFold   \n",
       "\n",
       "           Cross Validation Params RMSE Test        MAE Test        MAPE Test  \\\n",
       "                                        mean    std     mean    std      mean   \n",
       "698  {\"N_Splits\": 5, \"Repeats\": 3}     1.065  0.094    0.803  0.027     0.019   \n",
       "\n",
       "           R2 Test         \n",
       "       std    mean    std  \n",
       "698  0.001   0.955  0.009  "
      ]
     },
     "execution_count": 12,
     "metadata": {},
     "output_type": "execute_result"
    },
    {
     "data": {
      "application/javascript": [
       "\n",
       "            setTimeout(function() {\n",
       "                var nbb_cell_id = 12;\n",
       "                var nbb_unformatted_code = \"exclude = r\\\"(?!.*One-Hot)\\\"\\npattern1 = r\\\"Chemical \\\\+ Mineralogical \\\\+ CS*\\\"\\npattern2 = r\\\"Chemical \\\\+ Mineralogical \\\\+ Physical\\\"\\npattern = \\\"(\\\" + pattern1 + \\\"|\\\" + pattern2 + \\\")\\\" + exclude\\n\\nfeatures_filter = df_linreg[\\\"Features\\\"].str.contains(\\n    pattern,\\n    regex=True,\\n)\\n\\nidx_min = df_linreg[features_filter].round(3)[\\\"RMSE Test\\\", \\\"mean\\\"].idxmin()\\n\\ndf_linreg.loc[[idx_min]].round(3)\";\n",
       "                var nbb_formatted_code = \"exclude = r\\\"(?!.*One-Hot)\\\"\\npattern1 = r\\\"Chemical \\\\+ Mineralogical \\\\+ CS*\\\"\\npattern2 = r\\\"Chemical \\\\+ Mineralogical \\\\+ Physical\\\"\\npattern = \\\"(\\\" + pattern1 + \\\"|\\\" + pattern2 + \\\")\\\" + exclude\\n\\nfeatures_filter = df_linreg[\\\"Features\\\"].str.contains(\\n    pattern,\\n    regex=True,\\n)\\n\\nidx_min = df_linreg[features_filter].round(3)[\\\"RMSE Test\\\", \\\"mean\\\"].idxmin()\\n\\ndf_linreg.loc[[idx_min]].round(3)\";\n",
       "                var nbb_cells = Jupyter.notebook.get_cells();\n",
       "                for (var i = 0; i < nbb_cells.length; ++i) {\n",
       "                    if (nbb_cells[i].input_prompt_number == nbb_cell_id) {\n",
       "                        if (nbb_cells[i].get_text() == nbb_unformatted_code) {\n",
       "                             nbb_cells[i].set_text(nbb_formatted_code);\n",
       "                        }\n",
       "                        break;\n",
       "                    }\n",
       "                }\n",
       "            }, 500);\n",
       "            "
      ],
      "text/plain": [
       "<IPython.core.display.Javascript object>"
      ]
     },
     "metadata": {},
     "output_type": "display_data"
    }
   ],
   "source": [
    "exclude = r\"(?!.*One-Hot)\"\n",
    "pattern1 = r\"Chemical \\+ Mineralogical \\+ CS*\"\n",
    "pattern2 = r\"Chemical \\+ Mineralogical \\+ Physical\"\n",
    "pattern = \"(\" + pattern1 + \"|\" + pattern2 + \")\" + exclude\n",
    "\n",
    "features_filter = df_linreg[\"Features\"].str.contains(\n",
    "    pattern,\n",
    "    regex=True,\n",
    ")\n",
    "\n",
    "idx_min = df_linreg[features_filter].round(3)[\"RMSE Test\", \"mean\"].idxmin()\n",
    "\n",
    "df_linreg.loc[[idx_min]].round(3)"
   ]
  },
  {
   "cell_type": "code",
   "execution_count": 13,
   "id": "3cb54a61",
   "metadata": {},
   "outputs": [
    {
     "data": {
      "text/html": [
       "<div>\n",
       "<style scoped>\n",
       "    .dataframe tbody tr th:only-of-type {\n",
       "        vertical-align: middle;\n",
       "    }\n",
       "\n",
       "    .dataframe tbody tr th {\n",
       "        vertical-align: top;\n",
       "    }\n",
       "\n",
       "    .dataframe thead tr th {\n",
       "        text-align: left;\n",
       "    }\n",
       "</style>\n",
       "<table border=\"1\" class=\"dataframe\">\n",
       "  <thead>\n",
       "    <tr>\n",
       "      <th></th>\n",
       "      <th>Model</th>\n",
       "      <th>Features</th>\n",
       "      <th>Cross Validation</th>\n",
       "      <th>Cross Validation Params</th>\n",
       "      <th colspan=\"2\" halign=\"left\">RMSE Test</th>\n",
       "      <th colspan=\"2\" halign=\"left\">MAE Test</th>\n",
       "      <th colspan=\"2\" halign=\"left\">MAPE Test</th>\n",
       "      <th colspan=\"2\" halign=\"left\">R2 Test</th>\n",
       "    </tr>\n",
       "    <tr>\n",
       "      <th></th>\n",
       "      <th></th>\n",
       "      <th></th>\n",
       "      <th></th>\n",
       "      <th></th>\n",
       "      <th>mean</th>\n",
       "      <th>std</th>\n",
       "      <th>mean</th>\n",
       "      <th>std</th>\n",
       "      <th>mean</th>\n",
       "      <th>std</th>\n",
       "      <th>mean</th>\n",
       "      <th>std</th>\n",
       "    </tr>\n",
       "  </thead>\n",
       "  <tbody>\n",
       "    <tr>\n",
       "      <th>420</th>\n",
       "      <td>Linear Regression</td>\n",
       "      <td>Chemical + Mineralogical + One-Hot</td>\n",
       "      <td>Blocking Time Series Split</td>\n",
       "      <td>{\"N_Splits\": 5, \"Repeats\": 1, \"train_size\": 0.8}</td>\n",
       "      <td>1.0</td>\n",
       "      <td>0.181</td>\n",
       "      <td>0.771</td>\n",
       "      <td>0.111</td>\n",
       "      <td>0.018</td>\n",
       "      <td>0.002</td>\n",
       "      <td>0.958</td>\n",
       "      <td>0.013</td>\n",
       "    </tr>\n",
       "  </tbody>\n",
       "</table>\n",
       "</div>"
      ],
      "text/plain": [
       "                 Model                            Features  \\\n",
       "                                                             \n",
       "420  Linear Regression  Chemical + Mineralogical + One-Hot   \n",
       "\n",
       "               Cross Validation  \\\n",
       "                                  \n",
       "420  Blocking Time Series Split   \n",
       "\n",
       "                              Cross Validation Params RMSE Test         \\\n",
       "                                                           mean    std   \n",
       "420  {\"N_Splits\": 5, \"Repeats\": 1, \"train_size\": 0.8}       1.0  0.181   \n",
       "\n",
       "    MAE Test        MAPE Test        R2 Test         \n",
       "        mean    std      mean    std    mean    std  \n",
       "420    0.771  0.111     0.018  0.002   0.958  0.013  "
      ]
     },
     "execution_count": 13,
     "metadata": {},
     "output_type": "execute_result"
    },
    {
     "data": {
      "application/javascript": [
       "\n",
       "            setTimeout(function() {\n",
       "                var nbb_cell_id = 13;\n",
       "                var nbb_unformatted_code = \"idx_min = df_linreg[df_linreg[\\\"Features\\\"] == \\\"Chemical + Mineralogical + One-Hot\\\"][\\n    \\\"RMSE Test\\\", \\\"mean\\\"\\n].idxmin()\\n\\ndf_linreg.loc[[idx_min]].round(3)\";\n",
       "                var nbb_formatted_code = \"idx_min = df_linreg[df_linreg[\\\"Features\\\"] == \\\"Chemical + Mineralogical + One-Hot\\\"][\\n    \\\"RMSE Test\\\", \\\"mean\\\"\\n].idxmin()\\n\\ndf_linreg.loc[[idx_min]].round(3)\";\n",
       "                var nbb_cells = Jupyter.notebook.get_cells();\n",
       "                for (var i = 0; i < nbb_cells.length; ++i) {\n",
       "                    if (nbb_cells[i].input_prompt_number == nbb_cell_id) {\n",
       "                        if (nbb_cells[i].get_text() == nbb_unformatted_code) {\n",
       "                             nbb_cells[i].set_text(nbb_formatted_code);\n",
       "                        }\n",
       "                        break;\n",
       "                    }\n",
       "                }\n",
       "            }, 500);\n",
       "            "
      ],
      "text/plain": [
       "<IPython.core.display.Javascript object>"
      ]
     },
     "metadata": {},
     "output_type": "display_data"
    }
   ],
   "source": [
    "idx_min = df_linreg[df_linreg[\"Features\"] == \"Chemical + Mineralogical + One-Hot\"][\n",
    "    \"RMSE Test\", \"mean\"\n",
    "].idxmin()\n",
    "\n",
    "df_linreg.loc[[idx_min]].round(3)"
   ]
  },
  {
   "cell_type": "code",
   "execution_count": 14,
   "id": "57fa01c0",
   "metadata": {},
   "outputs": [
    {
     "data": {
      "text/html": [
       "<div>\n",
       "<style scoped>\n",
       "    .dataframe tbody tr th:only-of-type {\n",
       "        vertical-align: middle;\n",
       "    }\n",
       "\n",
       "    .dataframe tbody tr th {\n",
       "        vertical-align: top;\n",
       "    }\n",
       "\n",
       "    .dataframe thead tr th {\n",
       "        text-align: left;\n",
       "    }\n",
       "</style>\n",
       "<table border=\"1\" class=\"dataframe\">\n",
       "  <thead>\n",
       "    <tr>\n",
       "      <th></th>\n",
       "      <th>Model</th>\n",
       "      <th>Features</th>\n",
       "      <th>Cross Validation</th>\n",
       "      <th>Cross Validation Params</th>\n",
       "      <th colspan=\"2\" halign=\"left\">RMSE Test</th>\n",
       "      <th colspan=\"2\" halign=\"left\">MAE Test</th>\n",
       "      <th colspan=\"2\" halign=\"left\">MAPE Test</th>\n",
       "      <th colspan=\"2\" halign=\"left\">R2 Test</th>\n",
       "    </tr>\n",
       "    <tr>\n",
       "      <th></th>\n",
       "      <th></th>\n",
       "      <th></th>\n",
       "      <th></th>\n",
       "      <th></th>\n",
       "      <th>mean</th>\n",
       "      <th>std</th>\n",
       "      <th>mean</th>\n",
       "      <th>std</th>\n",
       "      <th>mean</th>\n",
       "      <th>std</th>\n",
       "      <th>mean</th>\n",
       "      <th>std</th>\n",
       "    </tr>\n",
       "  </thead>\n",
       "  <tbody>\n",
       "    <tr>\n",
       "      <th>550</th>\n",
       "      <td>Linear Regression</td>\n",
       "      <td>Chemical + Mineralogical + CS7 + One-Hot</td>\n",
       "      <td>Repeated KFold</td>\n",
       "      <td>{\"N_Splits\": 5, \"Repeats\": 3}</td>\n",
       "      <td>0.906</td>\n",
       "      <td>0.035</td>\n",
       "      <td>0.711</td>\n",
       "      <td>0.022</td>\n",
       "      <td>0.016</td>\n",
       "      <td>0.0</td>\n",
       "      <td>0.967</td>\n",
       "      <td>0.003</td>\n",
       "    </tr>\n",
       "  </tbody>\n",
       "</table>\n",
       "</div>"
      ],
      "text/plain": [
       "                 Model                                  Features  \\\n",
       "                                                                   \n",
       "550  Linear Regression  Chemical + Mineralogical + CS7 + One-Hot   \n",
       "\n",
       "    Cross Validation        Cross Validation Params RMSE Test        MAE Test  \\\n",
       "                                                         mean    std     mean   \n",
       "550   Repeated KFold  {\"N_Splits\": 5, \"Repeats\": 3}     0.906  0.035    0.711   \n",
       "\n",
       "           MAPE Test      R2 Test         \n",
       "       std      mean  std    mean    std  \n",
       "550  0.022     0.016  0.0   0.967  0.003  "
      ]
     },
     "execution_count": 14,
     "metadata": {},
     "output_type": "execute_result"
    },
    {
     "data": {
      "application/javascript": [
       "\n",
       "            setTimeout(function() {\n",
       "                var nbb_cell_id = 14;\n",
       "                var nbb_unformatted_code = \"pattern = r\\\"One-Hot\\\"\\n\\nfeatures_filter = df_linreg[\\\"Features\\\"].str.contains(\\n    pattern,\\n    regex=True,\\n)\\n\\nidx_min = df_linreg[features_filter].round(3)[\\\"RMSE Test\\\", \\\"mean\\\"].idxmin()\\n\\ndf_linreg.loc[[idx_min]].round(3)\";\n",
       "                var nbb_formatted_code = \"pattern = r\\\"One-Hot\\\"\\n\\nfeatures_filter = df_linreg[\\\"Features\\\"].str.contains(\\n    pattern,\\n    regex=True,\\n)\\n\\nidx_min = df_linreg[features_filter].round(3)[\\\"RMSE Test\\\", \\\"mean\\\"].idxmin()\\n\\ndf_linreg.loc[[idx_min]].round(3)\";\n",
       "                var nbb_cells = Jupyter.notebook.get_cells();\n",
       "                for (var i = 0; i < nbb_cells.length; ++i) {\n",
       "                    if (nbb_cells[i].input_prompt_number == nbb_cell_id) {\n",
       "                        if (nbb_cells[i].get_text() == nbb_unformatted_code) {\n",
       "                             nbb_cells[i].set_text(nbb_formatted_code);\n",
       "                        }\n",
       "                        break;\n",
       "                    }\n",
       "                }\n",
       "            }, 500);\n",
       "            "
      ],
      "text/plain": [
       "<IPython.core.display.Javascript object>"
      ]
     },
     "metadata": {},
     "output_type": "display_data"
    }
   ],
   "source": [
    "pattern = r\"One-Hot\"\n",
    "\n",
    "features_filter = df_linreg[\"Features\"].str.contains(\n",
    "    pattern,\n",
    "    regex=True,\n",
    ")\n",
    "\n",
    "idx_min = df_linreg[features_filter].round(3)[\"RMSE Test\", \"mean\"].idxmin()\n",
    "\n",
    "df_linreg.loc[[idx_min]].round(3)"
   ]
  },
  {
   "cell_type": "markdown",
   "id": "18dc8dba",
   "metadata": {},
   "source": [
    "# Neural Networks"
   ]
  },
  {
   "cell_type": "code",
   "execution_count": 15,
   "id": "4053eed6",
   "metadata": {},
   "outputs": [
    {
     "data": {
      "application/javascript": [
       "\n",
       "            setTimeout(function() {\n",
       "                var nbb_cell_id = 15;\n",
       "                var nbb_unformatted_code = \"neural_networks = [\\n    \\\"MLP\\\",\\n    \\\"LSTM\\\",\\n    \\\"GRU\\\",\\n    \\\"BidirectionalGRU\\\",\\n    \\\"BidirectionalLSTM\\\",\\n    \\\"Transformer\\\",\\n]\\n\\ndf_nn = df[df[(\\\"Model\\\", \\\"\\\")].isin(neural_networks)][cols].copy()\\n# df_nn = df_nn.drop([(\\\"Model\\\", \\\"\\\")], axis=1)\\ndf_nn = df_nn[df_nn[\\\"Cross Validation\\\"] != \\\"Out of time Split\\\"]\";\n",
       "                var nbb_formatted_code = \"neural_networks = [\\n    \\\"MLP\\\",\\n    \\\"LSTM\\\",\\n    \\\"GRU\\\",\\n    \\\"BidirectionalGRU\\\",\\n    \\\"BidirectionalLSTM\\\",\\n    \\\"Transformer\\\",\\n]\\n\\ndf_nn = df[df[(\\\"Model\\\", \\\"\\\")].isin(neural_networks)][cols].copy()\\n# df_nn = df_nn.drop([(\\\"Model\\\", \\\"\\\")], axis=1)\\ndf_nn = df_nn[df_nn[\\\"Cross Validation\\\"] != \\\"Out of time Split\\\"]\";\n",
       "                var nbb_cells = Jupyter.notebook.get_cells();\n",
       "                for (var i = 0; i < nbb_cells.length; ++i) {\n",
       "                    if (nbb_cells[i].input_prompt_number == nbb_cell_id) {\n",
       "                        if (nbb_cells[i].get_text() == nbb_unformatted_code) {\n",
       "                             nbb_cells[i].set_text(nbb_formatted_code);\n",
       "                        }\n",
       "                        break;\n",
       "                    }\n",
       "                }\n",
       "            }, 500);\n",
       "            "
      ],
      "text/plain": [
       "<IPython.core.display.Javascript object>"
      ]
     },
     "metadata": {},
     "output_type": "display_data"
    }
   ],
   "source": [
    "neural_networks = [\n",
    "    \"MLP\",\n",
    "    \"LSTM\",\n",
    "    \"GRU\",\n",
    "    \"BidirectionalGRU\",\n",
    "    \"BidirectionalLSTM\",\n",
    "    \"Transformer\",\n",
    "]\n",
    "\n",
    "df_nn = df[df[(\"Model\", \"\")].isin(neural_networks)][cols].copy()\n",
    "# df_nn = df_nn.drop([(\"Model\", \"\")], axis=1)\n",
    "df_nn = df_nn[df_nn[\"Cross Validation\"] != \"Out of time Split\"]"
   ]
  },
  {
   "cell_type": "code",
   "execution_count": 16,
   "id": "3d4bd7f2",
   "metadata": {},
   "outputs": [
    {
     "data": {
      "text/html": [
       "<div>\n",
       "<style scoped>\n",
       "    .dataframe tbody tr th:only-of-type {\n",
       "        vertical-align: middle;\n",
       "    }\n",
       "\n",
       "    .dataframe tbody tr th {\n",
       "        vertical-align: top;\n",
       "    }\n",
       "\n",
       "    .dataframe thead tr th {\n",
       "        text-align: left;\n",
       "    }\n",
       "</style>\n",
       "<table border=\"1\" class=\"dataframe\">\n",
       "  <thead>\n",
       "    <tr>\n",
       "      <th></th>\n",
       "      <th>Model</th>\n",
       "      <th>Features</th>\n",
       "      <th>Cross Validation</th>\n",
       "      <th>Cross Validation Params</th>\n",
       "      <th colspan=\"2\" halign=\"left\">RMSE Test</th>\n",
       "      <th colspan=\"2\" halign=\"left\">MAE Test</th>\n",
       "      <th colspan=\"2\" halign=\"left\">MAPE Test</th>\n",
       "      <th colspan=\"2\" halign=\"left\">R2 Test</th>\n",
       "    </tr>\n",
       "    <tr>\n",
       "      <th></th>\n",
       "      <th></th>\n",
       "      <th></th>\n",
       "      <th></th>\n",
       "      <th></th>\n",
       "      <th>mean</th>\n",
       "      <th>std</th>\n",
       "      <th>mean</th>\n",
       "      <th>std</th>\n",
       "      <th>mean</th>\n",
       "      <th>std</th>\n",
       "      <th>mean</th>\n",
       "      <th>std</th>\n",
       "    </tr>\n",
       "  </thead>\n",
       "  <tbody>\n",
       "    <tr>\n",
       "      <th>6</th>\n",
       "      <td>Transformer</td>\n",
       "      <td>Chemical + Mineralogical</td>\n",
       "      <td>Repeated KFold</td>\n",
       "      <td>{\"N_Splits\": 5, \"Repeats\": 3}</td>\n",
       "      <td>2.248</td>\n",
       "      <td>0.393</td>\n",
       "      <td>1.694</td>\n",
       "      <td>0.238</td>\n",
       "      <td>0.04</td>\n",
       "      <td>0.006</td>\n",
       "      <td>0.794</td>\n",
       "      <td>0.078</td>\n",
       "    </tr>\n",
       "  </tbody>\n",
       "</table>\n",
       "</div>"
      ],
      "text/plain": [
       "         Model                  Features Cross Validation  \\\n",
       "                                                            \n",
       "6  Transformer  Chemical + Mineralogical   Repeated KFold   \n",
       "\n",
       "         Cross Validation Params RMSE Test        MAE Test        MAPE Test  \\\n",
       "                                      mean    std     mean    std      mean   \n",
       "6  {\"N_Splits\": 5, \"Repeats\": 3}     2.248  0.393    1.694  0.238      0.04   \n",
       "\n",
       "         R2 Test         \n",
       "     std    mean    std  \n",
       "6  0.006   0.794  0.078  "
      ]
     },
     "execution_count": 16,
     "metadata": {},
     "output_type": "execute_result"
    },
    {
     "data": {
      "application/javascript": [
       "\n",
       "            setTimeout(function() {\n",
       "                var nbb_cell_id = 16;\n",
       "                var nbb_unformatted_code = \"idx_min = df_nn[df_nn[\\\"Features\\\"] == \\\"Chemical + Mineralogical\\\"][\\n    \\\"RMSE Test\\\", \\\"mean\\\"\\n].idxmin()\\n\\ndf_nn.loc[[idx_min]].round(3)\";\n",
       "                var nbb_formatted_code = \"idx_min = df_nn[df_nn[\\\"Features\\\"] == \\\"Chemical + Mineralogical\\\"][\\n    \\\"RMSE Test\\\", \\\"mean\\\"\\n].idxmin()\\n\\ndf_nn.loc[[idx_min]].round(3)\";\n",
       "                var nbb_cells = Jupyter.notebook.get_cells();\n",
       "                for (var i = 0; i < nbb_cells.length; ++i) {\n",
       "                    if (nbb_cells[i].input_prompt_number == nbb_cell_id) {\n",
       "                        if (nbb_cells[i].get_text() == nbb_unformatted_code) {\n",
       "                             nbb_cells[i].set_text(nbb_formatted_code);\n",
       "                        }\n",
       "                        break;\n",
       "                    }\n",
       "                }\n",
       "            }, 500);\n",
       "            "
      ],
      "text/plain": [
       "<IPython.core.display.Javascript object>"
      ]
     },
     "metadata": {},
     "output_type": "display_data"
    }
   ],
   "source": [
    "idx_min = df_nn[df_nn[\"Features\"] == \"Chemical + Mineralogical\"][\n",
    "    \"RMSE Test\", \"mean\"\n",
    "].idxmin()\n",
    "\n",
    "df_nn.loc[[idx_min]].round(3)"
   ]
  },
  {
   "cell_type": "code",
   "execution_count": 17,
   "id": "c168429a",
   "metadata": {
    "scrolled": true
   },
   "outputs": [
    {
     "name": "stderr",
     "output_type": "stream",
     "text": [
      "/tmp/ipykernel_2546721/1917742884.py:7: UserWarning: This pattern is interpreted as a regular expression, and has match groups. To actually get the groups, use str.extract.\n",
      "  features_filter = df_nn[\"Features\"].str.contains(\n"
     ]
    },
    {
     "data": {
      "text/html": [
       "<div>\n",
       "<style scoped>\n",
       "    .dataframe tbody tr th:only-of-type {\n",
       "        vertical-align: middle;\n",
       "    }\n",
       "\n",
       "    .dataframe tbody tr th {\n",
       "        vertical-align: top;\n",
       "    }\n",
       "\n",
       "    .dataframe thead tr th {\n",
       "        text-align: left;\n",
       "    }\n",
       "</style>\n",
       "<table border=\"1\" class=\"dataframe\">\n",
       "  <thead>\n",
       "    <tr>\n",
       "      <th></th>\n",
       "      <th>Model</th>\n",
       "      <th>Features</th>\n",
       "      <th>Cross Validation</th>\n",
       "      <th>Cross Validation Params</th>\n",
       "      <th colspan=\"2\" halign=\"left\">RMSE Test</th>\n",
       "      <th colspan=\"2\" halign=\"left\">MAE Test</th>\n",
       "      <th colspan=\"2\" halign=\"left\">MAPE Test</th>\n",
       "      <th colspan=\"2\" halign=\"left\">R2 Test</th>\n",
       "    </tr>\n",
       "    <tr>\n",
       "      <th></th>\n",
       "      <th></th>\n",
       "      <th></th>\n",
       "      <th></th>\n",
       "      <th></th>\n",
       "      <th>mean</th>\n",
       "      <th>std</th>\n",
       "      <th>mean</th>\n",
       "      <th>std</th>\n",
       "      <th>mean</th>\n",
       "      <th>std</th>\n",
       "      <th>mean</th>\n",
       "      <th>std</th>\n",
       "    </tr>\n",
       "  </thead>\n",
       "  <tbody>\n",
       "    <tr>\n",
       "      <th>66</th>\n",
       "      <td>Transformer</td>\n",
       "      <td>Chemical + Mineralogical + Physical</td>\n",
       "      <td>Repeated KFold</td>\n",
       "      <td>{\"N_Splits\": 5, \"Repeats\": 3}</td>\n",
       "      <td>1.073</td>\n",
       "      <td>0.104</td>\n",
       "      <td>0.828</td>\n",
       "      <td>0.061</td>\n",
       "      <td>0.019</td>\n",
       "      <td>0.001</td>\n",
       "      <td>0.954</td>\n",
       "      <td>0.009</td>\n",
       "    </tr>\n",
       "  </tbody>\n",
       "</table>\n",
       "</div>"
      ],
      "text/plain": [
       "          Model                             Features Cross Validation  \\\n",
       "                                                                        \n",
       "66  Transformer  Chemical + Mineralogical + Physical   Repeated KFold   \n",
       "\n",
       "          Cross Validation Params RMSE Test        MAE Test        MAPE Test  \\\n",
       "                                       mean    std     mean    std      mean   \n",
       "66  {\"N_Splits\": 5, \"Repeats\": 3}     1.073  0.104    0.828  0.061     0.019   \n",
       "\n",
       "          R2 Test         \n",
       "      std    mean    std  \n",
       "66  0.001   0.954  0.009  "
      ]
     },
     "execution_count": 17,
     "metadata": {},
     "output_type": "execute_result"
    },
    {
     "data": {
      "application/javascript": [
       "\n",
       "            setTimeout(function() {\n",
       "                var nbb_cell_id = 17;\n",
       "                var nbb_unformatted_code = \"exclude = r\\\"(?!.*One-Hot)\\\"\\npattern1 = r\\\"Chemical \\\\+ Mineralogical \\\\+ CS*\\\"\\npattern2 = r\\\"Chemical \\\\+ Mineralogical \\\\+ Physical\\\"\\npattern = \\\"(\\\" + pattern1 + \\\"|\\\" + pattern2 + \\\")\\\" + exclude\\n\\n# x = df_nn[\\\"Features\\\"] != \\\"Chemical + Mineralogical + Physical\\\"\\nfeatures_filter = df_nn[\\\"Features\\\"].str.contains(\\n    pattern,\\n    regex=True,\\n)\\n\\nidx_min = df_nn[features_filter].round(3)[\\\"RMSE Test\\\", \\\"mean\\\"].idxmin()\\n\\ndf_nn.loc[[idx_min]].round(3)\";\n",
       "                var nbb_formatted_code = \"exclude = r\\\"(?!.*One-Hot)\\\"\\npattern1 = r\\\"Chemical \\\\+ Mineralogical \\\\+ CS*\\\"\\npattern2 = r\\\"Chemical \\\\+ Mineralogical \\\\+ Physical\\\"\\npattern = \\\"(\\\" + pattern1 + \\\"|\\\" + pattern2 + \\\")\\\" + exclude\\n\\n# x = df_nn[\\\"Features\\\"] != \\\"Chemical + Mineralogical + Physical\\\"\\nfeatures_filter = df_nn[\\\"Features\\\"].str.contains(\\n    pattern,\\n    regex=True,\\n)\\n\\nidx_min = df_nn[features_filter].round(3)[\\\"RMSE Test\\\", \\\"mean\\\"].idxmin()\\n\\ndf_nn.loc[[idx_min]].round(3)\";\n",
       "                var nbb_cells = Jupyter.notebook.get_cells();\n",
       "                for (var i = 0; i < nbb_cells.length; ++i) {\n",
       "                    if (nbb_cells[i].input_prompt_number == nbb_cell_id) {\n",
       "                        if (nbb_cells[i].get_text() == nbb_unformatted_code) {\n",
       "                             nbb_cells[i].set_text(nbb_formatted_code);\n",
       "                        }\n",
       "                        break;\n",
       "                    }\n",
       "                }\n",
       "            }, 500);\n",
       "            "
      ],
      "text/plain": [
       "<IPython.core.display.Javascript object>"
      ]
     },
     "metadata": {},
     "output_type": "display_data"
    }
   ],
   "source": [
    "exclude = r\"(?!.*One-Hot)\"\n",
    "pattern1 = r\"Chemical \\+ Mineralogical \\+ CS*\"\n",
    "pattern2 = r\"Chemical \\+ Mineralogical \\+ Physical\"\n",
    "pattern = \"(\" + pattern1 + \"|\" + pattern2 + \")\" + exclude\n",
    "\n",
    "# x = df_nn[\"Features\"] != \"Chemical + Mineralogical + Physical\"\n",
    "features_filter = df_nn[\"Features\"].str.contains(\n",
    "    pattern,\n",
    "    regex=True,\n",
    ")\n",
    "\n",
    "idx_min = df_nn[features_filter].round(3)[\"RMSE Test\", \"mean\"].idxmin()\n",
    "\n",
    "df_nn.loc[[idx_min]].round(3)"
   ]
  },
  {
   "cell_type": "code",
   "execution_count": 18,
   "id": "55e6e98b",
   "metadata": {},
   "outputs": [
    {
     "data": {
      "text/html": [
       "<div>\n",
       "<style scoped>\n",
       "    .dataframe tbody tr th:only-of-type {\n",
       "        vertical-align: middle;\n",
       "    }\n",
       "\n",
       "    .dataframe tbody tr th {\n",
       "        vertical-align: top;\n",
       "    }\n",
       "\n",
       "    .dataframe thead tr th {\n",
       "        text-align: left;\n",
       "    }\n",
       "</style>\n",
       "<table border=\"1\" class=\"dataframe\">\n",
       "  <thead>\n",
       "    <tr>\n",
       "      <th></th>\n",
       "      <th>Model</th>\n",
       "      <th>Features</th>\n",
       "      <th>Cross Validation</th>\n",
       "      <th>Cross Validation Params</th>\n",
       "      <th colspan=\"2\" halign=\"left\">RMSE Test</th>\n",
       "      <th colspan=\"2\" halign=\"left\">MAE Test</th>\n",
       "      <th colspan=\"2\" halign=\"left\">MAPE Test</th>\n",
       "      <th colspan=\"2\" halign=\"left\">R2 Test</th>\n",
       "    </tr>\n",
       "    <tr>\n",
       "      <th></th>\n",
       "      <th></th>\n",
       "      <th></th>\n",
       "      <th></th>\n",
       "      <th></th>\n",
       "      <th>mean</th>\n",
       "      <th>std</th>\n",
       "      <th>mean</th>\n",
       "      <th>std</th>\n",
       "      <th>mean</th>\n",
       "      <th>std</th>\n",
       "      <th>mean</th>\n",
       "      <th>std</th>\n",
       "    </tr>\n",
       "  </thead>\n",
       "  <tbody>\n",
       "    <tr>\n",
       "      <th>78</th>\n",
       "      <td>Transformer</td>\n",
       "      <td>Chemical + Mineralogical + One-Hot</td>\n",
       "      <td>Repeated KFold</td>\n",
       "      <td>{\"N_Splits\": 5, \"Repeats\": 3}</td>\n",
       "      <td>1.136</td>\n",
       "      <td>0.063</td>\n",
       "      <td>0.877</td>\n",
       "      <td>0.044</td>\n",
       "      <td>0.02</td>\n",
       "      <td>0.001</td>\n",
       "      <td>0.949</td>\n",
       "      <td>0.005</td>\n",
       "    </tr>\n",
       "  </tbody>\n",
       "</table>\n",
       "</div>"
      ],
      "text/plain": [
       "          Model                            Features Cross Validation  \\\n",
       "                                                                       \n",
       "78  Transformer  Chemical + Mineralogical + One-Hot   Repeated KFold   \n",
       "\n",
       "          Cross Validation Params RMSE Test        MAE Test        MAPE Test  \\\n",
       "                                       mean    std     mean    std      mean   \n",
       "78  {\"N_Splits\": 5, \"Repeats\": 3}     1.136  0.063    0.877  0.044      0.02   \n",
       "\n",
       "          R2 Test         \n",
       "      std    mean    std  \n",
       "78  0.001   0.949  0.005  "
      ]
     },
     "execution_count": 18,
     "metadata": {},
     "output_type": "execute_result"
    },
    {
     "data": {
      "application/javascript": [
       "\n",
       "            setTimeout(function() {\n",
       "                var nbb_cell_id = 18;\n",
       "                var nbb_unformatted_code = \"idx_min = df_nn[df_nn[\\\"Features\\\"] == \\\"Chemical + Mineralogical + One-Hot\\\"][\\n    \\\"RMSE Test\\\", \\\"mean\\\"\\n].idxmin()\\n\\ndf_nn.loc[[idx_min]].round(3)\";\n",
       "                var nbb_formatted_code = \"idx_min = df_nn[df_nn[\\\"Features\\\"] == \\\"Chemical + Mineralogical + One-Hot\\\"][\\n    \\\"RMSE Test\\\", \\\"mean\\\"\\n].idxmin()\\n\\ndf_nn.loc[[idx_min]].round(3)\";\n",
       "                var nbb_cells = Jupyter.notebook.get_cells();\n",
       "                for (var i = 0; i < nbb_cells.length; ++i) {\n",
       "                    if (nbb_cells[i].input_prompt_number == nbb_cell_id) {\n",
       "                        if (nbb_cells[i].get_text() == nbb_unformatted_code) {\n",
       "                             nbb_cells[i].set_text(nbb_formatted_code);\n",
       "                        }\n",
       "                        break;\n",
       "                    }\n",
       "                }\n",
       "            }, 500);\n",
       "            "
      ],
      "text/plain": [
       "<IPython.core.display.Javascript object>"
      ]
     },
     "metadata": {},
     "output_type": "display_data"
    }
   ],
   "source": [
    "idx_min = df_nn[df_nn[\"Features\"] == \"Chemical + Mineralogical + One-Hot\"][\n",
    "    \"RMSE Test\", \"mean\"\n",
    "].idxmin()\n",
    "\n",
    "df_nn.loc[[idx_min]].round(3)"
   ]
  },
  {
   "cell_type": "code",
   "execution_count": 19,
   "id": "8b237220",
   "metadata": {},
   "outputs": [
    {
     "data": {
      "text/html": [
       "<div>\n",
       "<style scoped>\n",
       "    .dataframe tbody tr th:only-of-type {\n",
       "        vertical-align: middle;\n",
       "    }\n",
       "\n",
       "    .dataframe tbody tr th {\n",
       "        vertical-align: top;\n",
       "    }\n",
       "\n",
       "    .dataframe thead tr th {\n",
       "        text-align: left;\n",
       "    }\n",
       "</style>\n",
       "<table border=\"1\" class=\"dataframe\">\n",
       "  <thead>\n",
       "    <tr>\n",
       "      <th></th>\n",
       "      <th>Model</th>\n",
       "      <th>Features</th>\n",
       "      <th>Cross Validation</th>\n",
       "      <th>Cross Validation Params</th>\n",
       "      <th colspan=\"2\" halign=\"left\">RMSE Test</th>\n",
       "      <th colspan=\"2\" halign=\"left\">MAE Test</th>\n",
       "      <th colspan=\"2\" halign=\"left\">MAPE Test</th>\n",
       "      <th colspan=\"2\" halign=\"left\">R2 Test</th>\n",
       "    </tr>\n",
       "    <tr>\n",
       "      <th></th>\n",
       "      <th></th>\n",
       "      <th></th>\n",
       "      <th></th>\n",
       "      <th></th>\n",
       "      <th>mean</th>\n",
       "      <th>std</th>\n",
       "      <th>mean</th>\n",
       "      <th>std</th>\n",
       "      <th>mean</th>\n",
       "      <th>std</th>\n",
       "      <th>mean</th>\n",
       "      <th>std</th>\n",
       "    </tr>\n",
       "  </thead>\n",
       "  <tbody>\n",
       "    <tr>\n",
       "      <th>494</th>\n",
       "      <td>Transformer</td>\n",
       "      <td>Chemical + Mineralogical + CS7 + One-Hot</td>\n",
       "      <td>Repeated KFold</td>\n",
       "      <td>{\"N_Splits\": 5, \"Repeats\": 3}</td>\n",
       "      <td>1.048</td>\n",
       "      <td>0.104</td>\n",
       "      <td>0.824</td>\n",
       "      <td>0.102</td>\n",
       "      <td>0.019</td>\n",
       "      <td>0.002</td>\n",
       "      <td>0.956</td>\n",
       "      <td>0.01</td>\n",
       "    </tr>\n",
       "  </tbody>\n",
       "</table>\n",
       "</div>"
      ],
      "text/plain": [
       "           Model                                  Features Cross Validation  \\\n",
       "                                                                              \n",
       "494  Transformer  Chemical + Mineralogical + CS7 + One-Hot   Repeated KFold   \n",
       "\n",
       "           Cross Validation Params RMSE Test        MAE Test        MAPE Test  \\\n",
       "                                        mean    std     mean    std      mean   \n",
       "494  {\"N_Splits\": 5, \"Repeats\": 3}     1.048  0.104    0.824  0.102     0.019   \n",
       "\n",
       "           R2 Test        \n",
       "       std    mean   std  \n",
       "494  0.002   0.956  0.01  "
      ]
     },
     "execution_count": 19,
     "metadata": {},
     "output_type": "execute_result"
    },
    {
     "data": {
      "application/javascript": [
       "\n",
       "            setTimeout(function() {\n",
       "                var nbb_cell_id = 19;\n",
       "                var nbb_unformatted_code = \"pattern = r\\\"One-Hot\\\"\\n\\nfeatures_filter = df_nn[\\\"Features\\\"].str.contains(\\n    pattern,\\n    regex=True,\\n)\\n\\nidx_min = df_nn[features_filter].round(3)[\\\"RMSE Test\\\", \\\"mean\\\"].idxmin()\\n\\ndf_nn.loc[[idx_min]].round(3)\";\n",
       "                var nbb_formatted_code = \"pattern = r\\\"One-Hot\\\"\\n\\nfeatures_filter = df_nn[\\\"Features\\\"].str.contains(\\n    pattern,\\n    regex=True,\\n)\\n\\nidx_min = df_nn[features_filter].round(3)[\\\"RMSE Test\\\", \\\"mean\\\"].idxmin()\\n\\ndf_nn.loc[[idx_min]].round(3)\";\n",
       "                var nbb_cells = Jupyter.notebook.get_cells();\n",
       "                for (var i = 0; i < nbb_cells.length; ++i) {\n",
       "                    if (nbb_cells[i].input_prompt_number == nbb_cell_id) {\n",
       "                        if (nbb_cells[i].get_text() == nbb_unformatted_code) {\n",
       "                             nbb_cells[i].set_text(nbb_formatted_code);\n",
       "                        }\n",
       "                        break;\n",
       "                    }\n",
       "                }\n",
       "            }, 500);\n",
       "            "
      ],
      "text/plain": [
       "<IPython.core.display.Javascript object>"
      ]
     },
     "metadata": {},
     "output_type": "display_data"
    }
   ],
   "source": [
    "pattern = r\"One-Hot\"\n",
    "\n",
    "features_filter = df_nn[\"Features\"].str.contains(\n",
    "    pattern,\n",
    "    regex=True,\n",
    ")\n",
    "\n",
    "idx_min = df_nn[features_filter].round(3)[\"RMSE Test\", \"mean\"].idxmin()\n",
    "\n",
    "df_nn.loc[[idx_min]].round(3)"
   ]
  },
  {
   "cell_type": "markdown",
   "id": "d1681c27",
   "metadata": {},
   "source": [
    "# Trees"
   ]
  },
  {
   "cell_type": "code",
   "execution_count": 20,
   "id": "1d1e31fe",
   "metadata": {},
   "outputs": [
    {
     "data": {
      "application/javascript": [
       "\n",
       "            setTimeout(function() {\n",
       "                var nbb_cell_id = 20;\n",
       "                var nbb_unformatted_code = \"trees = [\\\"Decision Tree\\\", \\\"Random Forest\\\", \\\"XGBoost\\\"]\\n\\ndf_trees = df[df[(\\\"Model\\\", \\\"\\\")].isin(trees)][cols].copy()\\ndf_trees = df_trees[df_trees[\\\"Cross Validation\\\"] != \\\"Out of time Split\\\"]\";\n",
       "                var nbb_formatted_code = \"trees = [\\\"Decision Tree\\\", \\\"Random Forest\\\", \\\"XGBoost\\\"]\\n\\ndf_trees = df[df[(\\\"Model\\\", \\\"\\\")].isin(trees)][cols].copy()\\ndf_trees = df_trees[df_trees[\\\"Cross Validation\\\"] != \\\"Out of time Split\\\"]\";\n",
       "                var nbb_cells = Jupyter.notebook.get_cells();\n",
       "                for (var i = 0; i < nbb_cells.length; ++i) {\n",
       "                    if (nbb_cells[i].input_prompt_number == nbb_cell_id) {\n",
       "                        if (nbb_cells[i].get_text() == nbb_unformatted_code) {\n",
       "                             nbb_cells[i].set_text(nbb_formatted_code);\n",
       "                        }\n",
       "                        break;\n",
       "                    }\n",
       "                }\n",
       "            }, 500);\n",
       "            "
      ],
      "text/plain": [
       "<IPython.core.display.Javascript object>"
      ]
     },
     "metadata": {},
     "output_type": "display_data"
    }
   ],
   "source": [
    "trees = [\"Decision Tree\", \"Random Forest\", \"XGBoost\"]\n",
    "\n",
    "df_trees = df[df[(\"Model\", \"\")].isin(trees)][cols].copy()\n",
    "df_trees = df_trees[df_trees[\"Cross Validation\"] != \"Out of time Split\"]"
   ]
  },
  {
   "cell_type": "code",
   "execution_count": 21,
   "id": "a9abcb2f",
   "metadata": {},
   "outputs": [
    {
     "data": {
      "text/html": [
       "<div>\n",
       "<style scoped>\n",
       "    .dataframe tbody tr th:only-of-type {\n",
       "        vertical-align: middle;\n",
       "    }\n",
       "\n",
       "    .dataframe tbody tr th {\n",
       "        vertical-align: top;\n",
       "    }\n",
       "\n",
       "    .dataframe thead tr th {\n",
       "        text-align: left;\n",
       "    }\n",
       "</style>\n",
       "<table border=\"1\" class=\"dataframe\">\n",
       "  <thead>\n",
       "    <tr>\n",
       "      <th></th>\n",
       "      <th>Model</th>\n",
       "      <th>Features</th>\n",
       "      <th>Cross Validation</th>\n",
       "      <th>Cross Validation Params</th>\n",
       "      <th colspan=\"2\" halign=\"left\">RMSE Test</th>\n",
       "      <th colspan=\"2\" halign=\"left\">MAE Test</th>\n",
       "      <th colspan=\"2\" halign=\"left\">MAPE Test</th>\n",
       "      <th colspan=\"2\" halign=\"left\">R2 Test</th>\n",
       "    </tr>\n",
       "    <tr>\n",
       "      <th></th>\n",
       "      <th></th>\n",
       "      <th></th>\n",
       "      <th></th>\n",
       "      <th></th>\n",
       "      <th>mean</th>\n",
       "      <th>std</th>\n",
       "      <th>mean</th>\n",
       "      <th>std</th>\n",
       "      <th>mean</th>\n",
       "      <th>std</th>\n",
       "      <th>mean</th>\n",
       "      <th>std</th>\n",
       "    </tr>\n",
       "  </thead>\n",
       "  <tbody>\n",
       "    <tr>\n",
       "      <th>268</th>\n",
       "      <td>XGBoost</td>\n",
       "      <td>Chemical + Mineralogical</td>\n",
       "      <td>Blocking Time Series Split</td>\n",
       "      <td>{\"N_Splits\": 5, \"Repeats\": 1, \"train_size\": 0.8}</td>\n",
       "      <td>3.271</td>\n",
       "      <td>0.427</td>\n",
       "      <td>2.477</td>\n",
       "      <td>0.304</td>\n",
       "      <td>0.059</td>\n",
       "      <td>0.008</td>\n",
       "      <td>0.546</td>\n",
       "      <td>0.133</td>\n",
       "    </tr>\n",
       "  </tbody>\n",
       "</table>\n",
       "</div>"
      ],
      "text/plain": [
       "       Model                  Features            Cross Validation  \\\n",
       "                                                                     \n",
       "268  XGBoost  Chemical + Mineralogical  Blocking Time Series Split   \n",
       "\n",
       "                              Cross Validation Params RMSE Test         \\\n",
       "                                                           mean    std   \n",
       "268  {\"N_Splits\": 5, \"Repeats\": 1, \"train_size\": 0.8}     3.271  0.427   \n",
       "\n",
       "    MAE Test        MAPE Test        R2 Test         \n",
       "        mean    std      mean    std    mean    std  \n",
       "268    2.477  0.304     0.059  0.008   0.546  0.133  "
      ]
     },
     "execution_count": 21,
     "metadata": {},
     "output_type": "execute_result"
    },
    {
     "data": {
      "application/javascript": [
       "\n",
       "            setTimeout(function() {\n",
       "                var nbb_cell_id = 21;\n",
       "                var nbb_unformatted_code = \"idx_min = df_trees[df_trees[\\\"Features\\\"] == \\\"Chemical + Mineralogical\\\"][\\n    \\\"RMSE Test\\\", \\\"mean\\\"\\n].idxmin()\\n\\ndf_trees.loc[[idx_min]].round(3)\";\n",
       "                var nbb_formatted_code = \"idx_min = df_trees[df_trees[\\\"Features\\\"] == \\\"Chemical + Mineralogical\\\"][\\n    \\\"RMSE Test\\\", \\\"mean\\\"\\n].idxmin()\\n\\ndf_trees.loc[[idx_min]].round(3)\";\n",
       "                var nbb_cells = Jupyter.notebook.get_cells();\n",
       "                for (var i = 0; i < nbb_cells.length; ++i) {\n",
       "                    if (nbb_cells[i].input_prompt_number == nbb_cell_id) {\n",
       "                        if (nbb_cells[i].get_text() == nbb_unformatted_code) {\n",
       "                             nbb_cells[i].set_text(nbb_formatted_code);\n",
       "                        }\n",
       "                        break;\n",
       "                    }\n",
       "                }\n",
       "            }, 500);\n",
       "            "
      ],
      "text/plain": [
       "<IPython.core.display.Javascript object>"
      ]
     },
     "metadata": {},
     "output_type": "display_data"
    }
   ],
   "source": [
    "idx_min = df_trees[df_trees[\"Features\"] == \"Chemical + Mineralogical\"][\n",
    "    \"RMSE Test\", \"mean\"\n",
    "].idxmin()\n",
    "\n",
    "df_trees.loc[[idx_min]].round(3)"
   ]
  },
  {
   "cell_type": "code",
   "execution_count": 22,
   "id": "2127c5a4",
   "metadata": {},
   "outputs": [
    {
     "name": "stderr",
     "output_type": "stream",
     "text": [
      "/tmp/ipykernel_2546721/2477923481.py:7: UserWarning: This pattern is interpreted as a regular expression, and has match groups. To actually get the groups, use str.extract.\n",
      "  features_filter = df_trees[\"Features\"].str.contains(\n"
     ]
    },
    {
     "data": {
      "text/html": [
       "<div>\n",
       "<style scoped>\n",
       "    .dataframe tbody tr th:only-of-type {\n",
       "        vertical-align: middle;\n",
       "    }\n",
       "\n",
       "    .dataframe tbody tr th {\n",
       "        vertical-align: top;\n",
       "    }\n",
       "\n",
       "    .dataframe thead tr th {\n",
       "        text-align: left;\n",
       "    }\n",
       "</style>\n",
       "<table border=\"1\" class=\"dataframe\">\n",
       "  <thead>\n",
       "    <tr>\n",
       "      <th></th>\n",
       "      <th>Model</th>\n",
       "      <th>Features</th>\n",
       "      <th>Cross Validation</th>\n",
       "      <th>Cross Validation Params</th>\n",
       "      <th colspan=\"2\" halign=\"left\">RMSE Test</th>\n",
       "      <th colspan=\"2\" halign=\"left\">MAE Test</th>\n",
       "      <th colspan=\"2\" halign=\"left\">MAPE Test</th>\n",
       "      <th colspan=\"2\" halign=\"left\">R2 Test</th>\n",
       "    </tr>\n",
       "    <tr>\n",
       "      <th></th>\n",
       "      <th></th>\n",
       "      <th></th>\n",
       "      <th></th>\n",
       "      <th></th>\n",
       "      <th>mean</th>\n",
       "      <th>std</th>\n",
       "      <th>mean</th>\n",
       "      <th>std</th>\n",
       "      <th>mean</th>\n",
       "      <th>std</th>\n",
       "      <th>mean</th>\n",
       "      <th>std</th>\n",
       "    </tr>\n",
       "  </thead>\n",
       "  <tbody>\n",
       "    <tr>\n",
       "      <th>716</th>\n",
       "      <td>Random Forest</td>\n",
       "      <td>Chemical + Mineralogical + Physical</td>\n",
       "      <td>Blocking Time Series Split</td>\n",
       "      <td>{\"N_Splits\": 5, \"Repeats\": 1, \"train_size\": 0.8}</td>\n",
       "      <td>1.011</td>\n",
       "      <td>0.269</td>\n",
       "      <td>0.774</td>\n",
       "      <td>0.196</td>\n",
       "      <td>0.018</td>\n",
       "      <td>0.005</td>\n",
       "      <td>0.956</td>\n",
       "      <td>0.022</td>\n",
       "    </tr>\n",
       "  </tbody>\n",
       "</table>\n",
       "</div>"
      ],
      "text/plain": [
       "             Model                             Features  \\\n",
       "                                                          \n",
       "716  Random Forest  Chemical + Mineralogical + Physical   \n",
       "\n",
       "               Cross Validation  \\\n",
       "                                  \n",
       "716  Blocking Time Series Split   \n",
       "\n",
       "                              Cross Validation Params RMSE Test         \\\n",
       "                                                           mean    std   \n",
       "716  {\"N_Splits\": 5, \"Repeats\": 1, \"train_size\": 0.8}     1.011  0.269   \n",
       "\n",
       "    MAE Test        MAPE Test        R2 Test         \n",
       "        mean    std      mean    std    mean    std  \n",
       "716    0.774  0.196     0.018  0.005   0.956  0.022  "
      ]
     },
     "execution_count": 22,
     "metadata": {},
     "output_type": "execute_result"
    },
    {
     "data": {
      "application/javascript": [
       "\n",
       "            setTimeout(function() {\n",
       "                var nbb_cell_id = 22;\n",
       "                var nbb_unformatted_code = \"exclude = r\\\"(?!.*One-Hot)\\\"\\npattern1 = r\\\"Chemical \\\\+ Mineralogical \\\\+ CS*\\\"\\npattern2 = r\\\"Chemical \\\\+ Mineralogical \\\\+ Physical\\\"\\npattern = \\\"(\\\" + pattern1 + \\\"|\\\" + pattern2 + \\\")\\\" + exclude\\n\\n# x = df_nn[\\\"Features\\\"] != \\\"Chemical + Mineralogical + Physical\\\"\\nfeatures_filter = df_trees[\\\"Features\\\"].str.contains(\\n    pattern,\\n    regex=True,\\n)\\n\\nidx_min = df_trees[features_filter].round(3)[\\\"RMSE Test\\\", \\\"mean\\\"].idxmin()\\n\\ndf_trees.loc[[idx_min]].round(3)\";\n",
       "                var nbb_formatted_code = \"exclude = r\\\"(?!.*One-Hot)\\\"\\npattern1 = r\\\"Chemical \\\\+ Mineralogical \\\\+ CS*\\\"\\npattern2 = r\\\"Chemical \\\\+ Mineralogical \\\\+ Physical\\\"\\npattern = \\\"(\\\" + pattern1 + \\\"|\\\" + pattern2 + \\\")\\\" + exclude\\n\\n# x = df_nn[\\\"Features\\\"] != \\\"Chemical + Mineralogical + Physical\\\"\\nfeatures_filter = df_trees[\\\"Features\\\"].str.contains(\\n    pattern,\\n    regex=True,\\n)\\n\\nidx_min = df_trees[features_filter].round(3)[\\\"RMSE Test\\\", \\\"mean\\\"].idxmin()\\n\\ndf_trees.loc[[idx_min]].round(3)\";\n",
       "                var nbb_cells = Jupyter.notebook.get_cells();\n",
       "                for (var i = 0; i < nbb_cells.length; ++i) {\n",
       "                    if (nbb_cells[i].input_prompt_number == nbb_cell_id) {\n",
       "                        if (nbb_cells[i].get_text() == nbb_unformatted_code) {\n",
       "                             nbb_cells[i].set_text(nbb_formatted_code);\n",
       "                        }\n",
       "                        break;\n",
       "                    }\n",
       "                }\n",
       "            }, 500);\n",
       "            "
      ],
      "text/plain": [
       "<IPython.core.display.Javascript object>"
      ]
     },
     "metadata": {},
     "output_type": "display_data"
    }
   ],
   "source": [
    "exclude = r\"(?!.*One-Hot)\"\n",
    "pattern1 = r\"Chemical \\+ Mineralogical \\+ CS*\"\n",
    "pattern2 = r\"Chemical \\+ Mineralogical \\+ Physical\"\n",
    "pattern = \"(\" + pattern1 + \"|\" + pattern2 + \")\" + exclude\n",
    "\n",
    "# x = df_nn[\"Features\"] != \"Chemical + Mineralogical + Physical\"\n",
    "features_filter = df_trees[\"Features\"].str.contains(\n",
    "    pattern,\n",
    "    regex=True,\n",
    ")\n",
    "\n",
    "idx_min = df_trees[features_filter].round(3)[\"RMSE Test\", \"mean\"].idxmin()\n",
    "\n",
    "df_trees.loc[[idx_min]].round(3)"
   ]
  },
  {
   "cell_type": "code",
   "execution_count": 23,
   "id": "7215b8e0",
   "metadata": {},
   "outputs": [
    {
     "data": {
      "text/html": [
       "<div>\n",
       "<style scoped>\n",
       "    .dataframe tbody tr th:only-of-type {\n",
       "        vertical-align: middle;\n",
       "    }\n",
       "\n",
       "    .dataframe tbody tr th {\n",
       "        vertical-align: top;\n",
       "    }\n",
       "\n",
       "    .dataframe thead tr th {\n",
       "        text-align: left;\n",
       "    }\n",
       "</style>\n",
       "<table border=\"1\" class=\"dataframe\">\n",
       "  <thead>\n",
       "    <tr>\n",
       "      <th></th>\n",
       "      <th>Model</th>\n",
       "      <th>Features</th>\n",
       "      <th>Cross Validation</th>\n",
       "      <th>Cross Validation Params</th>\n",
       "      <th colspan=\"2\" halign=\"left\">RMSE Test</th>\n",
       "      <th colspan=\"2\" halign=\"left\">MAE Test</th>\n",
       "      <th colspan=\"2\" halign=\"left\">MAPE Test</th>\n",
       "      <th colspan=\"2\" halign=\"left\">R2 Test</th>\n",
       "    </tr>\n",
       "    <tr>\n",
       "      <th></th>\n",
       "      <th></th>\n",
       "      <th></th>\n",
       "      <th></th>\n",
       "      <th></th>\n",
       "      <th>mean</th>\n",
       "      <th>std</th>\n",
       "      <th>mean</th>\n",
       "      <th>std</th>\n",
       "      <th>mean</th>\n",
       "      <th>std</th>\n",
       "      <th>mean</th>\n",
       "      <th>std</th>\n",
       "    </tr>\n",
       "  </thead>\n",
       "  <tbody>\n",
       "    <tr>\n",
       "      <th>404</th>\n",
       "      <td>Random Forest</td>\n",
       "      <td>Chemical + Mineralogical + One-Hot</td>\n",
       "      <td>Blocking Time Series Split</td>\n",
       "      <td>{\"N_Splits\": 5, \"Repeats\": 1, \"train_size\": 0.8}</td>\n",
       "      <td>1.042</td>\n",
       "      <td>0.349</td>\n",
       "      <td>0.766</td>\n",
       "      <td>0.246</td>\n",
       "      <td>0.018</td>\n",
       "      <td>0.006</td>\n",
       "      <td>0.949</td>\n",
       "      <td>0.038</td>\n",
       "    </tr>\n",
       "  </tbody>\n",
       "</table>\n",
       "</div>"
      ],
      "text/plain": [
       "             Model                            Features  \\\n",
       "                                                         \n",
       "404  Random Forest  Chemical + Mineralogical + One-Hot   \n",
       "\n",
       "               Cross Validation  \\\n",
       "                                  \n",
       "404  Blocking Time Series Split   \n",
       "\n",
       "                              Cross Validation Params RMSE Test         \\\n",
       "                                                           mean    std   \n",
       "404  {\"N_Splits\": 5, \"Repeats\": 1, \"train_size\": 0.8}     1.042  0.349   \n",
       "\n",
       "    MAE Test        MAPE Test        R2 Test         \n",
       "        mean    std      mean    std    mean    std  \n",
       "404    0.766  0.246     0.018  0.006   0.949  0.038  "
      ]
     },
     "execution_count": 23,
     "metadata": {},
     "output_type": "execute_result"
    },
    {
     "data": {
      "application/javascript": [
       "\n",
       "            setTimeout(function() {\n",
       "                var nbb_cell_id = 23;\n",
       "                var nbb_unformatted_code = \"idx_min = df_trees[df_trees[\\\"Features\\\"] == \\\"Chemical + Mineralogical + One-Hot\\\"][\\n    \\\"RMSE Test\\\", \\\"mean\\\"\\n].idxmin()\\n\\ndf_trees.loc[[idx_min]].round(3)\";\n",
       "                var nbb_formatted_code = \"idx_min = df_trees[df_trees[\\\"Features\\\"] == \\\"Chemical + Mineralogical + One-Hot\\\"][\\n    \\\"RMSE Test\\\", \\\"mean\\\"\\n].idxmin()\\n\\ndf_trees.loc[[idx_min]].round(3)\";\n",
       "                var nbb_cells = Jupyter.notebook.get_cells();\n",
       "                for (var i = 0; i < nbb_cells.length; ++i) {\n",
       "                    if (nbb_cells[i].input_prompt_number == nbb_cell_id) {\n",
       "                        if (nbb_cells[i].get_text() == nbb_unformatted_code) {\n",
       "                             nbb_cells[i].set_text(nbb_formatted_code);\n",
       "                        }\n",
       "                        break;\n",
       "                    }\n",
       "                }\n",
       "            }, 500);\n",
       "            "
      ],
      "text/plain": [
       "<IPython.core.display.Javascript object>"
      ]
     },
     "metadata": {},
     "output_type": "display_data"
    }
   ],
   "source": [
    "idx_min = df_trees[df_trees[\"Features\"] == \"Chemical + Mineralogical + One-Hot\"][\n",
    "    \"RMSE Test\", \"mean\"\n",
    "].idxmin()\n",
    "\n",
    "df_trees.loc[[idx_min]].round(3)"
   ]
  },
  {
   "cell_type": "code",
   "execution_count": 24,
   "id": "c842ddcc",
   "metadata": {},
   "outputs": [
    {
     "data": {
      "text/html": [
       "<div>\n",
       "<style scoped>\n",
       "    .dataframe tbody tr th:only-of-type {\n",
       "        vertical-align: middle;\n",
       "    }\n",
       "\n",
       "    .dataframe tbody tr th {\n",
       "        vertical-align: top;\n",
       "    }\n",
       "\n",
       "    .dataframe thead tr th {\n",
       "        text-align: left;\n",
       "    }\n",
       "</style>\n",
       "<table border=\"1\" class=\"dataframe\">\n",
       "  <thead>\n",
       "    <tr>\n",
       "      <th></th>\n",
       "      <th>Model</th>\n",
       "      <th>Features</th>\n",
       "      <th>Cross Validation</th>\n",
       "      <th>Cross Validation Params</th>\n",
       "      <th colspan=\"2\" halign=\"left\">RMSE Test</th>\n",
       "      <th colspan=\"2\" halign=\"left\">MAE Test</th>\n",
       "      <th colspan=\"2\" halign=\"left\">MAPE Test</th>\n",
       "      <th colspan=\"2\" halign=\"left\">R2 Test</th>\n",
       "    </tr>\n",
       "    <tr>\n",
       "      <th></th>\n",
       "      <th></th>\n",
       "      <th></th>\n",
       "      <th></th>\n",
       "      <th></th>\n",
       "      <th>mean</th>\n",
       "      <th>std</th>\n",
       "      <th>mean</th>\n",
       "      <th>std</th>\n",
       "      <th>mean</th>\n",
       "      <th>std</th>\n",
       "      <th>mean</th>\n",
       "      <th>std</th>\n",
       "    </tr>\n",
       "  </thead>\n",
       "  <tbody>\n",
       "    <tr>\n",
       "      <th>424</th>\n",
       "      <td>Random Forest</td>\n",
       "      <td>Chemical + Mineralogical + CS3 + One-Hot</td>\n",
       "      <td>Blocking Time Series Split</td>\n",
       "      <td>{\"N_Splits\": 5, \"Repeats\": 1, \"train_size\": 0.8}</td>\n",
       "      <td>0.949</td>\n",
       "      <td>0.217</td>\n",
       "      <td>0.709</td>\n",
       "      <td>0.138</td>\n",
       "      <td>0.016</td>\n",
       "      <td>0.003</td>\n",
       "      <td>0.962</td>\n",
       "      <td>0.016</td>\n",
       "    </tr>\n",
       "  </tbody>\n",
       "</table>\n",
       "</div>"
      ],
      "text/plain": [
       "             Model                                  Features  \\\n",
       "                                                               \n",
       "424  Random Forest  Chemical + Mineralogical + CS3 + One-Hot   \n",
       "\n",
       "               Cross Validation  \\\n",
       "                                  \n",
       "424  Blocking Time Series Split   \n",
       "\n",
       "                              Cross Validation Params RMSE Test         \\\n",
       "                                                           mean    std   \n",
       "424  {\"N_Splits\": 5, \"Repeats\": 1, \"train_size\": 0.8}     0.949  0.217   \n",
       "\n",
       "    MAE Test        MAPE Test        R2 Test         \n",
       "        mean    std      mean    std    mean    std  \n",
       "424    0.709  0.138     0.016  0.003   0.962  0.016  "
      ]
     },
     "execution_count": 24,
     "metadata": {},
     "output_type": "execute_result"
    },
    {
     "data": {
      "application/javascript": [
       "\n",
       "            setTimeout(function() {\n",
       "                var nbb_cell_id = 24;\n",
       "                var nbb_unformatted_code = \"pattern = r\\\"One-Hot\\\"\\n\\nfeatures_filter = df_trees[\\\"Features\\\"].str.contains(\\n    pattern,\\n    regex=True,\\n)\\n\\nidx_min = df_trees[features_filter].round(3)[\\\"RMSE Test\\\", \\\"mean\\\"].idxmin()\\n\\ndf_trees.loc[[idx_min]].round(3)\";\n",
       "                var nbb_formatted_code = \"pattern = r\\\"One-Hot\\\"\\n\\nfeatures_filter = df_trees[\\\"Features\\\"].str.contains(\\n    pattern,\\n    regex=True,\\n)\\n\\nidx_min = df_trees[features_filter].round(3)[\\\"RMSE Test\\\", \\\"mean\\\"].idxmin()\\n\\ndf_trees.loc[[idx_min]].round(3)\";\n",
       "                var nbb_cells = Jupyter.notebook.get_cells();\n",
       "                for (var i = 0; i < nbb_cells.length; ++i) {\n",
       "                    if (nbb_cells[i].input_prompt_number == nbb_cell_id) {\n",
       "                        if (nbb_cells[i].get_text() == nbb_unformatted_code) {\n",
       "                             nbb_cells[i].set_text(nbb_formatted_code);\n",
       "                        }\n",
       "                        break;\n",
       "                    }\n",
       "                }\n",
       "            }, 500);\n",
       "            "
      ],
      "text/plain": [
       "<IPython.core.display.Javascript object>"
      ]
     },
     "metadata": {},
     "output_type": "display_data"
    }
   ],
   "source": [
    "pattern = r\"One-Hot\"\n",
    "\n",
    "features_filter = df_trees[\"Features\"].str.contains(\n",
    "    pattern,\n",
    "    regex=True,\n",
    ")\n",
    "\n",
    "idx_min = df_trees[features_filter].round(3)[\"RMSE Test\", \"mean\"].idxmin()\n",
    "\n",
    "df_trees.loc[[idx_min]].round(3)"
   ]
  },
  {
   "cell_type": "code",
   "execution_count": null,
   "id": "8936ddce",
   "metadata": {},
   "outputs": [],
   "source": []
  }
 ],
 "metadata": {
  "kernelspec": {
   "display_name": "ccs28-venv",
   "language": "python",
   "name": "ccs28-venv"
  },
  "language_info": {
   "codemirror_mode": {
    "name": "ipython",
    "version": 3
   },
   "file_extension": ".py",
   "mimetype": "text/x-python",
   "name": "python",
   "nbconvert_exporter": "python",
   "pygments_lexer": "ipython3",
   "version": "3.10.12"
  }
 },
 "nbformat": 4,
 "nbformat_minor": 5
}
