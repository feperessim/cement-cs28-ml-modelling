{
 "cells": [
  {
   "cell_type": "code",
   "execution_count": 1,
   "id": "14b4fe5a",
   "metadata": {},
   "outputs": [
    {
     "data": {
      "application/javascript": [
       "\n",
       "            setTimeout(function() {\n",
       "                var nbb_cell_id = 1;\n",
       "                var nbb_unformatted_code = \"%load_ext nb_black\";\n",
       "                var nbb_formatted_code = \"%load_ext nb_black\";\n",
       "                var nbb_cells = Jupyter.notebook.get_cells();\n",
       "                for (var i = 0; i < nbb_cells.length; ++i) {\n",
       "                    if (nbb_cells[i].input_prompt_number == nbb_cell_id) {\n",
       "                        if (nbb_cells[i].get_text() == nbb_unformatted_code) {\n",
       "                             nbb_cells[i].set_text(nbb_formatted_code);\n",
       "                        }\n",
       "                        break;\n",
       "                    }\n",
       "                }\n",
       "            }, 500);\n",
       "            "
      ],
      "text/plain": [
       "<IPython.core.display.Javascript object>"
      ]
     },
     "metadata": {},
     "output_type": "display_data"
    }
   ],
   "source": [
    "%load_ext nb_black"
   ]
  },
  {
   "cell_type": "code",
   "execution_count": 2,
   "id": "6a4d72e6",
   "metadata": {},
   "outputs": [
    {
     "data": {
      "application/javascript": [
       "\n",
       "            setTimeout(function() {\n",
       "                var nbb_cell_id = 2;\n",
       "                var nbb_unformatted_code = \"import pandas as pd\\nimport os\\nimport glob\";\n",
       "                var nbb_formatted_code = \"import pandas as pd\\nimport os\\nimport glob\";\n",
       "                var nbb_cells = Jupyter.notebook.get_cells();\n",
       "                for (var i = 0; i < nbb_cells.length; ++i) {\n",
       "                    if (nbb_cells[i].input_prompt_number == nbb_cell_id) {\n",
       "                        if (nbb_cells[i].get_text() == nbb_unformatted_code) {\n",
       "                             nbb_cells[i].set_text(nbb_formatted_code);\n",
       "                        }\n",
       "                        break;\n",
       "                    }\n",
       "                }\n",
       "            }, 500);\n",
       "            "
      ],
      "text/plain": [
       "<IPython.core.display.Javascript object>"
      ]
     },
     "metadata": {},
     "output_type": "display_data"
    }
   ],
   "source": [
    "import pandas as pd\n",
    "import os\n",
    "import glob"
   ]
  },
  {
   "cell_type": "code",
   "execution_count": 3,
   "id": "4366fe99",
   "metadata": {},
   "outputs": [
    {
     "name": "stdout",
     "output_type": "stream",
     "text": [
      "BidirectionalGRU_results_grouped_1.csv\t  lstm_results_grouped_1.csv\r\n",
      "BidirectionalGRU_results_grouped_10.csv   lstm_results_grouped_10.csv\r\n",
      "BidirectionalGRU_results_grouped_2.csv\t  lstm_results_grouped_2.csv\r\n",
      "BidirectionalGRU_results_grouped_3.csv\t  lstm_results_grouped_3.csv\r\n",
      "BidirectionalGRU_results_grouped_4.csv\t  lstm_results_grouped_4.csv\r\n",
      "BidirectionalGRU_results_grouped_5.csv\t  lstm_results_grouped_5.csv\r\n",
      "BidirectionalGRU_results_grouped_6.csv\t  lstm_results_grouped_6.csv\r\n",
      "BidirectionalGRU_results_grouped_7.csv\t  lstm_results_grouped_7.csv\r\n",
      "BidirectionalGRU_results_grouped_8.csv\t  lstm_results_grouped_8.csv\r\n",
      "BidirectionalGRU_results_grouped_9.csv\t  lstm_results_grouped_9.csv\r\n",
      "BidirectionalLSTM_results_grouped_1.csv   mlp_results_grouped_1.csv\r\n",
      "BidirectionalLSTM_results_grouped_10.csv  mlp_results_grouped_10.csv\r\n",
      "BidirectionalLSTM_results_grouped_2.csv   mlp_results_grouped_2.csv\r\n",
      "BidirectionalLSTM_results_grouped_3.csv   mlp_results_grouped_3.csv\r\n",
      "BidirectionalLSTM_results_grouped_4.csv   mlp_results_grouped_4.csv\r\n",
      "BidirectionalLSTM_results_grouped_5.csv   mlp_results_grouped_5.csv\r\n",
      "BidirectionalLSTM_results_grouped_6.csv   mlp_results_grouped_6.csv\r\n",
      "BidirectionalLSTM_results_grouped_7.csv   mlp_results_grouped_7.csv\r\n",
      "BidirectionalLSTM_results_grouped_8.csv   mlp_results_grouped_8.csv\r\n",
      "BidirectionalLSTM_results_grouped_9.csv   mlp_results_grouped_9.csv\r\n",
      "decision_tree_results_grouped_1.csv\t  random_forest_results_grouped_1.csv\r\n",
      "decision_tree_results_grouped_10.csv\t  random_forest_results_grouped_10.csv\r\n",
      "decision_tree_results_grouped_2.csv\t  random_forest_results_grouped_2.csv\r\n",
      "decision_tree_results_grouped_3.csv\t  random_forest_results_grouped_3.csv\r\n",
      "decision_tree_results_grouped_4.csv\t  random_forest_results_grouped_4.csv\r\n",
      "decision_tree_results_grouped_5.csv\t  random_forest_results_grouped_5.csv\r\n",
      "decision_tree_results_grouped_6.csv\t  random_forest_results_grouped_6.csv\r\n",
      "decision_tree_results_grouped_7.csv\t  random_forest_results_grouped_7.csv\r\n",
      "decision_tree_results_grouped_8.csv\t  random_forest_results_grouped_8.csv\r\n",
      "decision_tree_results_grouped_9.csv\t  random_forest_results_grouped_9.csv\r\n",
      "gru_results_grouped_1.csv\t\t  transformer_results_grouped_1.csv\r\n",
      "gru_results_grouped_10.csv\t\t  transformer_results_grouped_10.csv\r\n",
      "gru_results_grouped_2.csv\t\t  transformer_results_grouped_2.csv\r\n",
      "gru_results_grouped_3.csv\t\t  transformer_results_grouped_3.csv\r\n",
      "gru_results_grouped_4.csv\t\t  transformer_results_grouped_4.csv\r\n",
      "gru_results_grouped_5.csv\t\t  transformer_results_grouped_5.csv\r\n",
      "gru_results_grouped_6.csv\t\t  transformer_results_grouped_6.csv\r\n",
      "gru_results_grouped_7.csv\t\t  transformer_results_grouped_7.csv\r\n",
      "gru_results_grouped_8.csv\t\t  transformer_results_grouped_8.csv\r\n",
      "gru_results_grouped_9.csv\t\t  transformer_results_grouped_9.csv\r\n",
      "linear_regression_results_grouped_1.csv   xgboost_results_grouped_1.csv\r\n",
      "linear_regression_results_grouped_10.csv  xgboost_results_grouped_10.csv\r\n",
      "linear_regression_results_grouped_2.csv   xgboost_results_grouped_2.csv\r\n",
      "linear_regression_results_grouped_3.csv   xgboost_results_grouped_3.csv\r\n",
      "linear_regression_results_grouped_4.csv   xgboost_results_grouped_4.csv\r\n",
      "linear_regression_results_grouped_5.csv   xgboost_results_grouped_5.csv\r\n",
      "linear_regression_results_grouped_6.csv   xgboost_results_grouped_6.csv\r\n",
      "linear_regression_results_grouped_7.csv   xgboost_results_grouped_7.csv\r\n",
      "linear_regression_results_grouped_8.csv   xgboost_results_grouped_8.csv\r\n",
      "linear_regression_results_grouped_9.csv   xgboost_results_grouped_9.csv\r\n"
     ]
    },
    {
     "data": {
      "application/javascript": [
       "\n",
       "            setTimeout(function() {\n",
       "                var nbb_cell_id = 3;\n",
       "                var nbb_unformatted_code = \"!ls grouped\";\n",
       "                var nbb_formatted_code = \"!ls grouped\";\n",
       "                var nbb_cells = Jupyter.notebook.get_cells();\n",
       "                for (var i = 0; i < nbb_cells.length; ++i) {\n",
       "                    if (nbb_cells[i].input_prompt_number == nbb_cell_id) {\n",
       "                        if (nbb_cells[i].get_text() == nbb_unformatted_code) {\n",
       "                             nbb_cells[i].set_text(nbb_formatted_code);\n",
       "                        }\n",
       "                        break;\n",
       "                    }\n",
       "                }\n",
       "            }, 500);\n",
       "            "
      ],
      "text/plain": [
       "<IPython.core.display.Javascript object>"
      ]
     },
     "metadata": {},
     "output_type": "display_data"
    }
   ],
   "source": [
    "!ls grouped"
   ]
  },
  {
   "cell_type": "markdown",
   "id": "1c598ecf",
   "metadata": {},
   "source": [
    "### Reading The files"
   ]
  },
  {
   "cell_type": "code",
   "execution_count": 5,
   "id": "defde4e2",
   "metadata": {},
   "outputs": [
    {
     "data": {
      "application/javascript": [
       "\n",
       "            setTimeout(function() {\n",
       "                var nbb_cell_id = 5;\n",
       "                var nbb_unformatted_code = \"path = \\\"/home/peressim/projects/ccs28-ml-modelling/reports/results/local_models/204/f/grouped/\\\"\\ncsv_files = glob.glob(os.path.join(path, \\\"*.csv\\\"))\";\n",
       "                var nbb_formatted_code = \"path = \\\"/home/peressim/projects/ccs28-ml-modelling/reports/results/local_models/204/f/grouped/\\\"\\ncsv_files = glob.glob(os.path.join(path, \\\"*.csv\\\"))\";\n",
       "                var nbb_cells = Jupyter.notebook.get_cells();\n",
       "                for (var i = 0; i < nbb_cells.length; ++i) {\n",
       "                    if (nbb_cells[i].input_prompt_number == nbb_cell_id) {\n",
       "                        if (nbb_cells[i].get_text() == nbb_unformatted_code) {\n",
       "                             nbb_cells[i].set_text(nbb_formatted_code);\n",
       "                        }\n",
       "                        break;\n",
       "                    }\n",
       "                }\n",
       "            }, 500);\n",
       "            "
      ],
      "text/plain": [
       "<IPython.core.display.Javascript object>"
      ]
     },
     "metadata": {},
     "output_type": "display_data"
    }
   ],
   "source": [
    "path = \"/home/peressim/projects/ccs28-ml-modelling/reports/results/local_models/204/f/grouped/\"\n",
    "csv_files = glob.glob(os.path.join(path, \"*.csv\"))"
   ]
  },
  {
   "cell_type": "code",
   "execution_count": 6,
   "id": "814290ed",
   "metadata": {},
   "outputs": [
    {
     "data": {
      "application/javascript": [
       "\n",
       "            setTimeout(function() {\n",
       "                var nbb_cell_id = 6;\n",
       "                var nbb_unformatted_code = \"results = []\\n\\nfor filepath in csv_files:\\n    df = pd.read_csv(filepath, header=[0, 1])\\n    results.append(df)\\ndf = pd.concat(results, ignore_index=True)\";\n",
       "                var nbb_formatted_code = \"results = []\\n\\nfor filepath in csv_files:\\n    df = pd.read_csv(filepath, header=[0, 1])\\n    results.append(df)\\ndf = pd.concat(results, ignore_index=True)\";\n",
       "                var nbb_cells = Jupyter.notebook.get_cells();\n",
       "                for (var i = 0; i < nbb_cells.length; ++i) {\n",
       "                    if (nbb_cells[i].input_prompt_number == nbb_cell_id) {\n",
       "                        if (nbb_cells[i].get_text() == nbb_unformatted_code) {\n",
       "                             nbb_cells[i].set_text(nbb_formatted_code);\n",
       "                        }\n",
       "                        break;\n",
       "                    }\n",
       "                }\n",
       "            }, 500);\n",
       "            "
      ],
      "text/plain": [
       "<IPython.core.display.Javascript object>"
      ]
     },
     "metadata": {},
     "output_type": "display_data"
    }
   ],
   "source": [
    "results = []\n",
    "\n",
    "for filepath in csv_files:\n",
    "    df = pd.read_csv(filepath, header=[0, 1])\n",
    "    results.append(df)\n",
    "df = pd.concat(results, ignore_index=True)"
   ]
  },
  {
   "cell_type": "markdown",
   "id": "4a377f20",
   "metadata": {},
   "source": [
    "### Renaming the Columns"
   ]
  },
  {
   "cell_type": "code",
   "execution_count": 7,
   "id": "4d344bfc",
   "metadata": {},
   "outputs": [
    {
     "data": {
      "application/javascript": [
       "\n",
       "            setTimeout(function() {\n",
       "                var nbb_cell_id = 7;\n",
       "                var nbb_unformatted_code = \"df.columns = pd.MultiIndex.from_tuples(\\n    list(\\n        {\\n            col: (col[0], \\\"\\\") if \\\"Unnamed\\\" in col[1] else col for col in df.columns\\n        }.values()\\n    )\\n)\";\n",
       "                var nbb_formatted_code = \"df.columns = pd.MultiIndex.from_tuples(\\n    list(\\n        {\\n            col: (col[0], \\\"\\\") if \\\"Unnamed\\\" in col[1] else col for col in df.columns\\n        }.values()\\n    )\\n)\";\n",
       "                var nbb_cells = Jupyter.notebook.get_cells();\n",
       "                for (var i = 0; i < nbb_cells.length; ++i) {\n",
       "                    if (nbb_cells[i].input_prompt_number == nbb_cell_id) {\n",
       "                        if (nbb_cells[i].get_text() == nbb_unformatted_code) {\n",
       "                             nbb_cells[i].set_text(nbb_formatted_code);\n",
       "                        }\n",
       "                        break;\n",
       "                    }\n",
       "                }\n",
       "            }, 500);\n",
       "            "
      ],
      "text/plain": [
       "<IPython.core.display.Javascript object>"
      ]
     },
     "metadata": {},
     "output_type": "display_data"
    }
   ],
   "source": [
    "df.columns = pd.MultiIndex.from_tuples(\n",
    "    list(\n",
    "        {\n",
    "            col: (col[0], \"\") if \"Unnamed\" in col[1] else col for col in df.columns\n",
    "        }.values()\n",
    "    )\n",
    ")"
   ]
  },
  {
   "cell_type": "markdown",
   "id": "b33fc47e",
   "metadata": {},
   "source": [
    "### Defining the Columns to work with"
   ]
  },
  {
   "cell_type": "code",
   "execution_count": 8,
   "id": "1e0beefd",
   "metadata": {},
   "outputs": [
    {
     "data": {
      "application/javascript": [
       "\n",
       "            setTimeout(function() {\n",
       "                var nbb_cell_id = 8;\n",
       "                var nbb_unformatted_code = \"cols = [\\n    (\\\"Model\\\", \\\"\\\"),\\n    (\\\"Features\\\", \\\"\\\"),\\n    (\\\"Cross Validation\\\", \\\"\\\"),\\n    (\\\"Cross Validation Params\\\", \\\"\\\"),\\n    (\\\"RMSE Test\\\", \\\"mean\\\"),\\n    (\\\"RMSE Test\\\", \\\"std\\\"),\\n    (\\\"MAE Test\\\", \\\"mean\\\"),\\n    (\\\"MAE Test\\\", \\\"std\\\"),\\n    (\\\"MAPE Test\\\", \\\"mean\\\"),\\n    (\\\"MAPE Test\\\", \\\"std\\\"),\\n    (\\\"R2 Test\\\", \\\"mean\\\"),\\n    (\\\"R2 Test\\\", \\\"std\\\"),\\n]\";\n",
       "                var nbb_formatted_code = \"cols = [\\n    (\\\"Model\\\", \\\"\\\"),\\n    (\\\"Features\\\", \\\"\\\"),\\n    (\\\"Cross Validation\\\", \\\"\\\"),\\n    (\\\"Cross Validation Params\\\", \\\"\\\"),\\n    (\\\"RMSE Test\\\", \\\"mean\\\"),\\n    (\\\"RMSE Test\\\", \\\"std\\\"),\\n    (\\\"MAE Test\\\", \\\"mean\\\"),\\n    (\\\"MAE Test\\\", \\\"std\\\"),\\n    (\\\"MAPE Test\\\", \\\"mean\\\"),\\n    (\\\"MAPE Test\\\", \\\"std\\\"),\\n    (\\\"R2 Test\\\", \\\"mean\\\"),\\n    (\\\"R2 Test\\\", \\\"std\\\"),\\n]\";\n",
       "                var nbb_cells = Jupyter.notebook.get_cells();\n",
       "                for (var i = 0; i < nbb_cells.length; ++i) {\n",
       "                    if (nbb_cells[i].input_prompt_number == nbb_cell_id) {\n",
       "                        if (nbb_cells[i].get_text() == nbb_unformatted_code) {\n",
       "                             nbb_cells[i].set_text(nbb_formatted_code);\n",
       "                        }\n",
       "                        break;\n",
       "                    }\n",
       "                }\n",
       "            }, 500);\n",
       "            "
      ],
      "text/plain": [
       "<IPython.core.display.Javascript object>"
      ]
     },
     "metadata": {},
     "output_type": "display_data"
    }
   ],
   "source": [
    "cols = [\n",
    "    (\"Model\", \"\"),\n",
    "    (\"Features\", \"\"),\n",
    "    (\"Cross Validation\", \"\"),\n",
    "    (\"Cross Validation Params\", \"\"),\n",
    "    (\"RMSE Test\", \"mean\"),\n",
    "    (\"RMSE Test\", \"std\"),\n",
    "    (\"MAE Test\", \"mean\"),\n",
    "    (\"MAE Test\", \"std\"),\n",
    "    (\"MAPE Test\", \"mean\"),\n",
    "    (\"MAPE Test\", \"std\"),\n",
    "    (\"R2 Test\", \"mean\"),\n",
    "    (\"R2 Test\", \"std\"),\n",
    "]"
   ]
  },
  {
   "cell_type": "code",
   "execution_count": 9,
   "id": "9effe4f3",
   "metadata": {},
   "outputs": [
    {
     "data": {
      "application/javascript": [
       "\n",
       "            setTimeout(function() {\n",
       "                var nbb_cell_id = 9;\n",
       "                var nbb_unformatted_code = \"cols_metrics = [\\n    (\\\"RMSE Test\\\", \\\"mean\\\"),\\n    (\\\"RMSE Test\\\", \\\"std\\\"),\\n    (\\\"MAE Test\\\", \\\"mean\\\"),\\n    (\\\"MAE Test\\\", \\\"std\\\"),\\n    (\\\"MAPE Test\\\", \\\"mean\\\"),\\n    (\\\"MAPE Test\\\", \\\"std\\\"),\\n    (\\\"R2 Test\\\", \\\"mean\\\"),\\n    (\\\"R2 Test\\\", \\\"std\\\"),\\n]\";\n",
       "                var nbb_formatted_code = \"cols_metrics = [\\n    (\\\"RMSE Test\\\", \\\"mean\\\"),\\n    (\\\"RMSE Test\\\", \\\"std\\\"),\\n    (\\\"MAE Test\\\", \\\"mean\\\"),\\n    (\\\"MAE Test\\\", \\\"std\\\"),\\n    (\\\"MAPE Test\\\", \\\"mean\\\"),\\n    (\\\"MAPE Test\\\", \\\"std\\\"),\\n    (\\\"R2 Test\\\", \\\"mean\\\"),\\n    (\\\"R2 Test\\\", \\\"std\\\"),\\n]\";\n",
       "                var nbb_cells = Jupyter.notebook.get_cells();\n",
       "                for (var i = 0; i < nbb_cells.length; ++i) {\n",
       "                    if (nbb_cells[i].input_prompt_number == nbb_cell_id) {\n",
       "                        if (nbb_cells[i].get_text() == nbb_unformatted_code) {\n",
       "                             nbb_cells[i].set_text(nbb_formatted_code);\n",
       "                        }\n",
       "                        break;\n",
       "                    }\n",
       "                }\n",
       "            }, 500);\n",
       "            "
      ],
      "text/plain": [
       "<IPython.core.display.Javascript object>"
      ]
     },
     "metadata": {},
     "output_type": "display_data"
    }
   ],
   "source": [
    "cols_metrics = [\n",
    "    (\"RMSE Test\", \"mean\"),\n",
    "    (\"RMSE Test\", \"std\"),\n",
    "    (\"MAE Test\", \"mean\"),\n",
    "    (\"MAE Test\", \"std\"),\n",
    "    (\"MAPE Test\", \"mean\"),\n",
    "    (\"MAPE Test\", \"std\"),\n",
    "    (\"R2 Test\", \"mean\"),\n",
    "    (\"R2 Test\", \"std\"),\n",
    "]"
   ]
  },
  {
   "cell_type": "markdown",
   "id": "bba69294",
   "metadata": {},
   "source": [
    "# Linear Regression"
   ]
  },
  {
   "cell_type": "code",
   "execution_count": 10,
   "id": "730f6342",
   "metadata": {},
   "outputs": [
    {
     "data": {
      "application/javascript": [
       "\n",
       "            setTimeout(function() {\n",
       "                var nbb_cell_id = 10;\n",
       "                var nbb_unformatted_code = \"df_linreg = df[df[(\\\"Model\\\", \\\"\\\")] == \\\"Linear Regression\\\"][cols].copy()\\n# df_linreg = df_linreg.drop([(\\\"Model\\\", \\\"\\\")], axis=1)\\ndf_linreg = df_linreg[df_linreg[\\\"Cross Validation\\\"] != \\\"Out of time Split\\\"]\";\n",
       "                var nbb_formatted_code = \"df_linreg = df[df[(\\\"Model\\\", \\\"\\\")] == \\\"Linear Regression\\\"][cols].copy()\\n# df_linreg = df_linreg.drop([(\\\"Model\\\", \\\"\\\")], axis=1)\\ndf_linreg = df_linreg[df_linreg[\\\"Cross Validation\\\"] != \\\"Out of time Split\\\"]\";\n",
       "                var nbb_cells = Jupyter.notebook.get_cells();\n",
       "                for (var i = 0; i < nbb_cells.length; ++i) {\n",
       "                    if (nbb_cells[i].input_prompt_number == nbb_cell_id) {\n",
       "                        if (nbb_cells[i].get_text() == nbb_unformatted_code) {\n",
       "                             nbb_cells[i].set_text(nbb_formatted_code);\n",
       "                        }\n",
       "                        break;\n",
       "                    }\n",
       "                }\n",
       "            }, 500);\n",
       "            "
      ],
      "text/plain": [
       "<IPython.core.display.Javascript object>"
      ]
     },
     "metadata": {},
     "output_type": "display_data"
    }
   ],
   "source": [
    "df_linreg = df[df[(\"Model\", \"\")] == \"Linear Regression\"][cols].copy()\n",
    "# df_linreg = df_linreg.drop([(\"Model\", \"\")], axis=1)\n",
    "df_linreg = df_linreg[df_linreg[\"Cross Validation\"] != \"Out of time Split\"]"
   ]
  },
  {
   "cell_type": "code",
   "execution_count": 11,
   "id": "8538a017",
   "metadata": {},
   "outputs": [
    {
     "data": {
      "text/html": [
       "<div>\n",
       "<style scoped>\n",
       "    .dataframe tbody tr th:only-of-type {\n",
       "        vertical-align: middle;\n",
       "    }\n",
       "\n",
       "    .dataframe tbody tr th {\n",
       "        vertical-align: top;\n",
       "    }\n",
       "\n",
       "    .dataframe thead tr th {\n",
       "        text-align: left;\n",
       "    }\n",
       "</style>\n",
       "<table border=\"1\" class=\"dataframe\">\n",
       "  <thead>\n",
       "    <tr>\n",
       "      <th></th>\n",
       "      <th>Model</th>\n",
       "      <th>Features</th>\n",
       "      <th>Cross Validation</th>\n",
       "      <th>Cross Validation Params</th>\n",
       "      <th colspan=\"2\" halign=\"left\">RMSE Test</th>\n",
       "      <th colspan=\"2\" halign=\"left\">MAE Test</th>\n",
       "      <th colspan=\"2\" halign=\"left\">MAPE Test</th>\n",
       "      <th colspan=\"2\" halign=\"left\">R2 Test</th>\n",
       "    </tr>\n",
       "    <tr>\n",
       "      <th></th>\n",
       "      <th></th>\n",
       "      <th></th>\n",
       "      <th></th>\n",
       "      <th></th>\n",
       "      <th>mean</th>\n",
       "      <th>std</th>\n",
       "      <th>mean</th>\n",
       "      <th>std</th>\n",
       "      <th>mean</th>\n",
       "      <th>std</th>\n",
       "      <th>mean</th>\n",
       "      <th>std</th>\n",
       "    </tr>\n",
       "  </thead>\n",
       "  <tbody>\n",
       "    <tr>\n",
       "      <th>284</th>\n",
       "      <td>Linear Regression</td>\n",
       "      <td>Chemical</td>\n",
       "      <td>Blocking Time Series Split</td>\n",
       "      <td>{\"N_Splits\": 5, \"Repeats\": 1, \"train_size\": 0.8}</td>\n",
       "      <td>1.998465</td>\n",
       "      <td>0.484797</td>\n",
       "      <td>1.517878</td>\n",
       "      <td>0.289553</td>\n",
       "      <td>0.035482</td>\n",
       "      <td>0.006823</td>\n",
       "      <td>0.909912</td>\n",
       "      <td>0.044190</td>\n",
       "    </tr>\n",
       "    <tr>\n",
       "      <th>286</th>\n",
       "      <td>Linear Regression</td>\n",
       "      <td>Chemical</td>\n",
       "      <td>Repeated KFold</td>\n",
       "      <td>{\"N_Splits\": 5, \"Repeats\": 3}</td>\n",
       "      <td>1.969420</td>\n",
       "      <td>0.152776</td>\n",
       "      <td>1.410058</td>\n",
       "      <td>0.039831</td>\n",
       "      <td>0.032871</td>\n",
       "      <td>0.001115</td>\n",
       "      <td>0.919417</td>\n",
       "      <td>0.012880</td>\n",
       "    </tr>\n",
       "    <tr>\n",
       "      <th>287</th>\n",
       "      <td>Linear Regression</td>\n",
       "      <td>Chemical</td>\n",
       "      <td>Time Series Split</td>\n",
       "      <td>{\"N_Splits\": 5, \"Repeats\": 1, \"Gap\": 0}</td>\n",
       "      <td>2.135229</td>\n",
       "      <td>0.315449</td>\n",
       "      <td>1.548382</td>\n",
       "      <td>0.172280</td>\n",
       "      <td>0.036036</td>\n",
       "      <td>0.003653</td>\n",
       "      <td>0.902621</td>\n",
       "      <td>0.028284</td>\n",
       "    </tr>\n",
       "  </tbody>\n",
       "</table>\n",
       "</div>"
      ],
      "text/plain": [
       "                 Model  Features            Cross Validation  \\\n",
       "                                                               \n",
       "284  Linear Regression  Chemical  Blocking Time Series Split   \n",
       "286  Linear Regression  Chemical              Repeated KFold   \n",
       "287  Linear Regression  Chemical           Time Series Split   \n",
       "\n",
       "                              Cross Validation Params RMSE Test            \\\n",
       "                                                           mean       std   \n",
       "284  {\"N_Splits\": 5, \"Repeats\": 1, \"train_size\": 0.8}  1.998465  0.484797   \n",
       "286                     {\"N_Splits\": 5, \"Repeats\": 3}  1.969420  0.152776   \n",
       "287           {\"N_Splits\": 5, \"Repeats\": 1, \"Gap\": 0}  2.135229  0.315449   \n",
       "\n",
       "     MAE Test           MAPE Test             R2 Test            \n",
       "         mean       std      mean       std      mean       std  \n",
       "284  1.517878  0.289553  0.035482  0.006823  0.909912  0.044190  \n",
       "286  1.410058  0.039831  0.032871  0.001115  0.919417  0.012880  \n",
       "287  1.548382  0.172280  0.036036  0.003653  0.902621  0.028284  "
      ]
     },
     "execution_count": 11,
     "metadata": {},
     "output_type": "execute_result"
    },
    {
     "data": {
      "application/javascript": [
       "\n",
       "            setTimeout(function() {\n",
       "                var nbb_cell_id = 11;\n",
       "                var nbb_unformatted_code = \"df_linreg[df_linreg[\\\"Features\\\"] == \\\"Chemical\\\"]\";\n",
       "                var nbb_formatted_code = \"df_linreg[df_linreg[\\\"Features\\\"] == \\\"Chemical\\\"]\";\n",
       "                var nbb_cells = Jupyter.notebook.get_cells();\n",
       "                for (var i = 0; i < nbb_cells.length; ++i) {\n",
       "                    if (nbb_cells[i].input_prompt_number == nbb_cell_id) {\n",
       "                        if (nbb_cells[i].get_text() == nbb_unformatted_code) {\n",
       "                             nbb_cells[i].set_text(nbb_formatted_code);\n",
       "                        }\n",
       "                        break;\n",
       "                    }\n",
       "                }\n",
       "            }, 500);\n",
       "            "
      ],
      "text/plain": [
       "<IPython.core.display.Javascript object>"
      ]
     },
     "metadata": {},
     "output_type": "display_data"
    }
   ],
   "source": [
    "df_linreg[df_linreg[\"Features\"] == \"Chemical\"]"
   ]
  },
  {
   "cell_type": "code",
   "execution_count": 12,
   "id": "9b7cedb7",
   "metadata": {},
   "outputs": [
    {
     "name": "stderr",
     "output_type": "stream",
     "text": [
      "/tmp/ipykernel_1879735/2542665763.py:1: PerformanceWarning: dropping on a non-lexsorted multi-index without a level parameter may impact performance.\n",
      "  df_linreg[df_linreg[\"Features\"] == \"Chemical\"].drop([\"Cross Validation Params\"], axis=1)\n"
     ]
    },
    {
     "data": {
      "text/html": [
       "<div>\n",
       "<style scoped>\n",
       "    .dataframe tbody tr th:only-of-type {\n",
       "        vertical-align: middle;\n",
       "    }\n",
       "\n",
       "    .dataframe tbody tr th {\n",
       "        vertical-align: top;\n",
       "    }\n",
       "\n",
       "    .dataframe thead tr th {\n",
       "        text-align: left;\n",
       "    }\n",
       "</style>\n",
       "<table border=\"1\" class=\"dataframe\">\n",
       "  <thead>\n",
       "    <tr>\n",
       "      <th></th>\n",
       "      <th>Model</th>\n",
       "      <th>Features</th>\n",
       "      <th>Cross Validation</th>\n",
       "      <th colspan=\"2\" halign=\"left\">RMSE Test</th>\n",
       "      <th colspan=\"2\" halign=\"left\">MAE Test</th>\n",
       "      <th colspan=\"2\" halign=\"left\">MAPE Test</th>\n",
       "      <th colspan=\"2\" halign=\"left\">R2 Test</th>\n",
       "    </tr>\n",
       "    <tr>\n",
       "      <th></th>\n",
       "      <th></th>\n",
       "      <th></th>\n",
       "      <th></th>\n",
       "      <th>mean</th>\n",
       "      <th>std</th>\n",
       "      <th>mean</th>\n",
       "      <th>std</th>\n",
       "      <th>mean</th>\n",
       "      <th>std</th>\n",
       "      <th>mean</th>\n",
       "      <th>std</th>\n",
       "    </tr>\n",
       "  </thead>\n",
       "  <tbody>\n",
       "    <tr>\n",
       "      <th>284</th>\n",
       "      <td>Linear Regression</td>\n",
       "      <td>Chemical</td>\n",
       "      <td>Blocking Time Series Split</td>\n",
       "      <td>1.998465</td>\n",
       "      <td>0.484797</td>\n",
       "      <td>1.517878</td>\n",
       "      <td>0.289553</td>\n",
       "      <td>0.035482</td>\n",
       "      <td>0.006823</td>\n",
       "      <td>0.909912</td>\n",
       "      <td>0.044190</td>\n",
       "    </tr>\n",
       "    <tr>\n",
       "      <th>286</th>\n",
       "      <td>Linear Regression</td>\n",
       "      <td>Chemical</td>\n",
       "      <td>Repeated KFold</td>\n",
       "      <td>1.969420</td>\n",
       "      <td>0.152776</td>\n",
       "      <td>1.410058</td>\n",
       "      <td>0.039831</td>\n",
       "      <td>0.032871</td>\n",
       "      <td>0.001115</td>\n",
       "      <td>0.919417</td>\n",
       "      <td>0.012880</td>\n",
       "    </tr>\n",
       "    <tr>\n",
       "      <th>287</th>\n",
       "      <td>Linear Regression</td>\n",
       "      <td>Chemical</td>\n",
       "      <td>Time Series Split</td>\n",
       "      <td>2.135229</td>\n",
       "      <td>0.315449</td>\n",
       "      <td>1.548382</td>\n",
       "      <td>0.172280</td>\n",
       "      <td>0.036036</td>\n",
       "      <td>0.003653</td>\n",
       "      <td>0.902621</td>\n",
       "      <td>0.028284</td>\n",
       "    </tr>\n",
       "  </tbody>\n",
       "</table>\n",
       "</div>"
      ],
      "text/plain": [
       "                 Model  Features            Cross Validation RMSE Test  \\\n",
       "                                                                  mean   \n",
       "284  Linear Regression  Chemical  Blocking Time Series Split  1.998465   \n",
       "286  Linear Regression  Chemical              Repeated KFold  1.969420   \n",
       "287  Linear Regression  Chemical           Time Series Split  2.135229   \n",
       "\n",
       "               MAE Test           MAPE Test             R2 Test            \n",
       "          std      mean       std      mean       std      mean       std  \n",
       "284  0.484797  1.517878  0.289553  0.035482  0.006823  0.909912  0.044190  \n",
       "286  0.152776  1.410058  0.039831  0.032871  0.001115  0.919417  0.012880  \n",
       "287  0.315449  1.548382  0.172280  0.036036  0.003653  0.902621  0.028284  "
      ]
     },
     "execution_count": 12,
     "metadata": {},
     "output_type": "execute_result"
    },
    {
     "data": {
      "application/javascript": [
       "\n",
       "            setTimeout(function() {\n",
       "                var nbb_cell_id = 12;\n",
       "                var nbb_unformatted_code = \"df_linreg[df_linreg[\\\"Features\\\"] == \\\"Chemical\\\"].drop([\\\"Cross Validation Params\\\"], axis=1)\";\n",
       "                var nbb_formatted_code = \"df_linreg[df_linreg[\\\"Features\\\"] == \\\"Chemical\\\"].drop([\\\"Cross Validation Params\\\"], axis=1)\";\n",
       "                var nbb_cells = Jupyter.notebook.get_cells();\n",
       "                for (var i = 0; i < nbb_cells.length; ++i) {\n",
       "                    if (nbb_cells[i].input_prompt_number == nbb_cell_id) {\n",
       "                        if (nbb_cells[i].get_text() == nbb_unformatted_code) {\n",
       "                             nbb_cells[i].set_text(nbb_formatted_code);\n",
       "                        }\n",
       "                        break;\n",
       "                    }\n",
       "                }\n",
       "            }, 500);\n",
       "            "
      ],
      "text/plain": [
       "<IPython.core.display.Javascript object>"
      ]
     },
     "metadata": {},
     "output_type": "display_data"
    }
   ],
   "source": [
    "df_linreg[df_linreg[\"Features\"] == \"Chemical\"].drop([\"Cross Validation Params\"], axis=1)"
   ]
  },
  {
   "cell_type": "code",
   "execution_count": 15,
   "id": "bda7ad8f",
   "metadata": {},
   "outputs": [
    {
     "data": {
      "text/html": [
       "<div>\n",
       "<style scoped>\n",
       "    .dataframe tbody tr th:only-of-type {\n",
       "        vertical-align: middle;\n",
       "    }\n",
       "\n",
       "    .dataframe tbody tr th {\n",
       "        vertical-align: top;\n",
       "    }\n",
       "\n",
       "    .dataframe thead tr th {\n",
       "        text-align: left;\n",
       "    }\n",
       "</style>\n",
       "<table border=\"1\" class=\"dataframe\">\n",
       "  <thead>\n",
       "    <tr>\n",
       "      <th></th>\n",
       "      <th>Model</th>\n",
       "      <th>Features</th>\n",
       "      <th>Cross Validation</th>\n",
       "      <th>Cross Validation Params</th>\n",
       "      <th colspan=\"2\" halign=\"left\">RMSE Test</th>\n",
       "      <th colspan=\"2\" halign=\"left\">MAE Test</th>\n",
       "      <th colspan=\"2\" halign=\"left\">MAPE Test</th>\n",
       "      <th colspan=\"2\" halign=\"left\">R2 Test</th>\n",
       "    </tr>\n",
       "    <tr>\n",
       "      <th></th>\n",
       "      <th></th>\n",
       "      <th></th>\n",
       "      <th></th>\n",
       "      <th></th>\n",
       "      <th>mean</th>\n",
       "      <th>std</th>\n",
       "      <th>mean</th>\n",
       "      <th>std</th>\n",
       "      <th>mean</th>\n",
       "      <th>std</th>\n",
       "      <th>mean</th>\n",
       "      <th>std</th>\n",
       "    </tr>\n",
       "  </thead>\n",
       "  <tbody>\n",
       "    <tr>\n",
       "      <th>286</th>\n",
       "      <td>Linear Regression</td>\n",
       "      <td>Chemical</td>\n",
       "      <td>Repeated KFold</td>\n",
       "      <td>{\"N_Splits\": 5, \"Repeats\": 3}</td>\n",
       "      <td>1.969</td>\n",
       "      <td>0.153</td>\n",
       "      <td>1.41</td>\n",
       "      <td>0.04</td>\n",
       "      <td>0.033</td>\n",
       "      <td>0.001</td>\n",
       "      <td>0.919</td>\n",
       "      <td>0.013</td>\n",
       "    </tr>\n",
       "  </tbody>\n",
       "</table>\n",
       "</div>"
      ],
      "text/plain": [
       "                 Model  Features Cross Validation  \\\n",
       "                                                    \n",
       "286  Linear Regression  Chemical   Repeated KFold   \n",
       "\n",
       "           Cross Validation Params RMSE Test        MAE Test       MAPE Test  \\\n",
       "                                        mean    std     mean   std      mean   \n",
       "286  {\"N_Splits\": 5, \"Repeats\": 3}     1.969  0.153     1.41  0.04     0.033   \n",
       "\n",
       "           R2 Test         \n",
       "       std    mean    std  \n",
       "286  0.001   0.919  0.013  "
      ]
     },
     "execution_count": 15,
     "metadata": {},
     "output_type": "execute_result"
    },
    {
     "data": {
      "application/javascript": [
       "\n",
       "            setTimeout(function() {\n",
       "                var nbb_cell_id = 15;\n",
       "                var nbb_unformatted_code = \"idx_min = df_linreg[df_linreg[\\\"Features\\\"] == \\\"Chemical\\\"][\\\"RMSE Test\\\", \\\"mean\\\"].idxmin()\\n\\ndf_linreg.loc[[idx_min]].round(3)\";\n",
       "                var nbb_formatted_code = \"idx_min = df_linreg[df_linreg[\\\"Features\\\"] == \\\"Chemical\\\"][\\\"RMSE Test\\\", \\\"mean\\\"].idxmin()\\n\\ndf_linreg.loc[[idx_min]].round(3)\";\n",
       "                var nbb_cells = Jupyter.notebook.get_cells();\n",
       "                for (var i = 0; i < nbb_cells.length; ++i) {\n",
       "                    if (nbb_cells[i].input_prompt_number == nbb_cell_id) {\n",
       "                        if (nbb_cells[i].get_text() == nbb_unformatted_code) {\n",
       "                             nbb_cells[i].set_text(nbb_formatted_code);\n",
       "                        }\n",
       "                        break;\n",
       "                    }\n",
       "                }\n",
       "            }, 500);\n",
       "            "
      ],
      "text/plain": [
       "<IPython.core.display.Javascript object>"
      ]
     },
     "metadata": {},
     "output_type": "display_data"
    }
   ],
   "source": [
    "idx_min = df_linreg[df_linreg[\"Features\"] == \"Chemical\"][\"RMSE Test\", \"mean\"].idxmin()\n",
    "\n",
    "df_linreg.loc[[idx_min]].round(3)"
   ]
  },
  {
   "cell_type": "code",
   "execution_count": 20,
   "id": "6b9e76b9",
   "metadata": {
    "scrolled": false
   },
   "outputs": [
    {
     "name": "stderr",
     "output_type": "stream",
     "text": [
      "/tmp/ipykernel_1879735/2110954779.py:6: UserWarning: This pattern is interpreted as a regular expression, and has match groups. To actually get the groups, use str.extract.\n",
      "  features_filter = df_linreg[\"Features\"].str.contains(\n"
     ]
    },
    {
     "data": {
      "text/html": [
       "<div>\n",
       "<style scoped>\n",
       "    .dataframe tbody tr th:only-of-type {\n",
       "        vertical-align: middle;\n",
       "    }\n",
       "\n",
       "    .dataframe tbody tr th {\n",
       "        vertical-align: top;\n",
       "    }\n",
       "\n",
       "    .dataframe thead tr th {\n",
       "        text-align: left;\n",
       "    }\n",
       "</style>\n",
       "<table border=\"1\" class=\"dataframe\">\n",
       "  <thead>\n",
       "    <tr>\n",
       "      <th></th>\n",
       "      <th>Model</th>\n",
       "      <th>Features</th>\n",
       "      <th>Cross Validation</th>\n",
       "      <th>Cross Validation Params</th>\n",
       "      <th colspan=\"2\" halign=\"left\">RMSE Test</th>\n",
       "      <th colspan=\"2\" halign=\"left\">MAE Test</th>\n",
       "      <th colspan=\"2\" halign=\"left\">MAPE Test</th>\n",
       "      <th colspan=\"2\" halign=\"left\">R2 Test</th>\n",
       "    </tr>\n",
       "    <tr>\n",
       "      <th></th>\n",
       "      <th></th>\n",
       "      <th></th>\n",
       "      <th></th>\n",
       "      <th></th>\n",
       "      <th>mean</th>\n",
       "      <th>std</th>\n",
       "      <th>mean</th>\n",
       "      <th>std</th>\n",
       "      <th>mean</th>\n",
       "      <th>std</th>\n",
       "      <th>mean</th>\n",
       "      <th>std</th>\n",
       "    </tr>\n",
       "  </thead>\n",
       "  <tbody>\n",
       "    <tr>\n",
       "      <th>427</th>\n",
       "      <td>Linear Regression</td>\n",
       "      <td>Chemical + Physical</td>\n",
       "      <td>Repeated KFold</td>\n",
       "      <td>{\"N_Splits\": 5, \"Repeats\": 3}</td>\n",
       "      <td>1.155</td>\n",
       "      <td>0.038</td>\n",
       "      <td>0.896</td>\n",
       "      <td>0.025</td>\n",
       "      <td>0.021</td>\n",
       "      <td>0.001</td>\n",
       "      <td>0.972</td>\n",
       "      <td>0.002</td>\n",
       "    </tr>\n",
       "  </tbody>\n",
       "</table>\n",
       "</div>"
      ],
      "text/plain": [
       "                 Model             Features Cross Validation  \\\n",
       "                                                               \n",
       "427  Linear Regression  Chemical + Physical   Repeated KFold   \n",
       "\n",
       "           Cross Validation Params RMSE Test        MAE Test        MAPE Test  \\\n",
       "                                        mean    std     mean    std      mean   \n",
       "427  {\"N_Splits\": 5, \"Repeats\": 3}     1.155  0.038    0.896  0.025     0.021   \n",
       "\n",
       "           R2 Test         \n",
       "       std    mean    std  \n",
       "427  0.001   0.972  0.002  "
      ]
     },
     "execution_count": 20,
     "metadata": {},
     "output_type": "execute_result"
    },
    {
     "data": {
      "application/javascript": [
       "\n",
       "            setTimeout(function() {\n",
       "                var nbb_cell_id = 20;\n",
       "                var nbb_unformatted_code = \"exclude = r\\\"(?!.*One-Hot)\\\"\\npattern1 = r\\\"Chemical \\\\+ CS*\\\"\\npattern2 = r\\\"Chemical \\\\+ Physical\\\"\\npattern = \\\"(\\\" + pattern1 + \\\"|\\\" + pattern2 + \\\")\\\" + exclude\\n\\nfeatures_filter = df_linreg[\\\"Features\\\"].str.contains(\\n    pattern,\\n    regex=True,\\n)\\n\\nidx_min = df_linreg[features_filter].round(3)[\\\"RMSE Test\\\", \\\"mean\\\"].idxmin()\\n\\ndf_linreg.loc[[idx_min]].round(3)\";\n",
       "                var nbb_formatted_code = \"exclude = r\\\"(?!.*One-Hot)\\\"\\npattern1 = r\\\"Chemical \\\\+ CS*\\\"\\npattern2 = r\\\"Chemical \\\\+ Physical\\\"\\npattern = \\\"(\\\" + pattern1 + \\\"|\\\" + pattern2 + \\\")\\\" + exclude\\n\\nfeatures_filter = df_linreg[\\\"Features\\\"].str.contains(\\n    pattern,\\n    regex=True,\\n)\\n\\nidx_min = df_linreg[features_filter].round(3)[\\\"RMSE Test\\\", \\\"mean\\\"].idxmin()\\n\\ndf_linreg.loc[[idx_min]].round(3)\";\n",
       "                var nbb_cells = Jupyter.notebook.get_cells();\n",
       "                for (var i = 0; i < nbb_cells.length; ++i) {\n",
       "                    if (nbb_cells[i].input_prompt_number == nbb_cell_id) {\n",
       "                        if (nbb_cells[i].get_text() == nbb_unformatted_code) {\n",
       "                             nbb_cells[i].set_text(nbb_formatted_code);\n",
       "                        }\n",
       "                        break;\n",
       "                    }\n",
       "                }\n",
       "            }, 500);\n",
       "            "
      ],
      "text/plain": [
       "<IPython.core.display.Javascript object>"
      ]
     },
     "metadata": {},
     "output_type": "display_data"
    }
   ],
   "source": [
    "exclude = r\"(?!.*One-Hot)\"\n",
    "pattern1 = r\"Chemical \\+ CS*\"\n",
    "pattern2 = r\"Chemical \\+ Physical\"\n",
    "pattern = \"(\" + pattern1 + \"|\" + pattern2 + \")\" + exclude\n",
    "\n",
    "features_filter = df_linreg[\"Features\"].str.contains(\n",
    "    pattern,\n",
    "    regex=True,\n",
    ")\n",
    "\n",
    "idx_min = df_linreg[features_filter].round(3)[\"RMSE Test\", \"mean\"].idxmin()\n",
    "\n",
    "df_linreg.loc[[idx_min]].round(3)"
   ]
  },
  {
   "cell_type": "code",
   "execution_count": 19,
   "id": "3cb54a61",
   "metadata": {},
   "outputs": [
    {
     "name": "stderr",
     "output_type": "stream",
     "text": [
      "/tmp/ipykernel_1879735/3721632251.py:1: PerformanceWarning: dropping on a non-lexsorted multi-index without a level parameter may impact performance.\n",
      "  df_linreg[df_linreg[\"Features\"] == \"Chemical + Properties CS Less\"].drop(\n"
     ]
    },
    {
     "data": {
      "text/html": [
       "<div>\n",
       "<style scoped>\n",
       "    .dataframe tbody tr th:only-of-type {\n",
       "        vertical-align: middle;\n",
       "    }\n",
       "\n",
       "    .dataframe tbody tr th {\n",
       "        vertical-align: top;\n",
       "    }\n",
       "\n",
       "    .dataframe thead tr th {\n",
       "        text-align: left;\n",
       "    }\n",
       "</style>\n",
       "<table border=\"1\" class=\"dataframe\">\n",
       "  <thead>\n",
       "    <tr>\n",
       "      <th></th>\n",
       "      <th>Model</th>\n",
       "      <th>Features</th>\n",
       "      <th>Cross Validation</th>\n",
       "      <th colspan=\"2\" halign=\"left\">RMSE Test</th>\n",
       "      <th colspan=\"2\" halign=\"left\">MAE Test</th>\n",
       "      <th colspan=\"2\" halign=\"left\">MAPE Test</th>\n",
       "      <th colspan=\"2\" halign=\"left\">R2 Test</th>\n",
       "    </tr>\n",
       "    <tr>\n",
       "      <th></th>\n",
       "      <th></th>\n",
       "      <th></th>\n",
       "      <th></th>\n",
       "      <th>mean</th>\n",
       "      <th>std</th>\n",
       "      <th>mean</th>\n",
       "      <th>std</th>\n",
       "      <th>mean</th>\n",
       "      <th>std</th>\n",
       "      <th>mean</th>\n",
       "      <th>std</th>\n",
       "    </tr>\n",
       "  </thead>\n",
       "  <tbody>\n",
       "    <tr>\n",
       "      <th>770</th>\n",
       "      <td>Linear Regression</td>\n",
       "      <td>Chemical + Properties CS Less</td>\n",
       "      <td>Blocking Time Series Split</td>\n",
       "      <td>1.615942</td>\n",
       "      <td>0.255376</td>\n",
       "      <td>1.251434</td>\n",
       "      <td>0.230804</td>\n",
       "      <td>0.029164</td>\n",
       "      <td>0.005407</td>\n",
       "      <td>0.942482</td>\n",
       "      <td>0.018478</td>\n",
       "    </tr>\n",
       "    <tr>\n",
       "      <th>772</th>\n",
       "      <td>Linear Regression</td>\n",
       "      <td>Chemical + Properties CS Less</td>\n",
       "      <td>Repeated KFold</td>\n",
       "      <td>1.671293</td>\n",
       "      <td>0.069637</td>\n",
       "      <td>1.227671</td>\n",
       "      <td>0.030178</td>\n",
       "      <td>0.028706</td>\n",
       "      <td>0.000831</td>\n",
       "      <td>0.942246</td>\n",
       "      <td>0.004960</td>\n",
       "    </tr>\n",
       "    <tr>\n",
       "      <th>773</th>\n",
       "      <td>Linear Regression</td>\n",
       "      <td>Chemical + Properties CS Less</td>\n",
       "      <td>Time Series Split</td>\n",
       "      <td>1.878567</td>\n",
       "      <td>0.332742</td>\n",
       "      <td>1.375587</td>\n",
       "      <td>0.215586</td>\n",
       "      <td>0.031726</td>\n",
       "      <td>0.004659</td>\n",
       "      <td>0.923713</td>\n",
       "      <td>0.024823</td>\n",
       "    </tr>\n",
       "  </tbody>\n",
       "</table>\n",
       "</div>"
      ],
      "text/plain": [
       "                 Model                       Features  \\\n",
       "                                                        \n",
       "770  Linear Regression  Chemical + Properties CS Less   \n",
       "772  Linear Regression  Chemical + Properties CS Less   \n",
       "773  Linear Regression  Chemical + Properties CS Less   \n",
       "\n",
       "               Cross Validation RMSE Test            MAE Test            \\\n",
       "                                     mean       std      mean       std   \n",
       "770  Blocking Time Series Split  1.615942  0.255376  1.251434  0.230804   \n",
       "772              Repeated KFold  1.671293  0.069637  1.227671  0.030178   \n",
       "773           Time Series Split  1.878567  0.332742  1.375587  0.215586   \n",
       "\n",
       "    MAPE Test             R2 Test            \n",
       "         mean       std      mean       std  \n",
       "770  0.029164  0.005407  0.942482  0.018478  \n",
       "772  0.028706  0.000831  0.942246  0.004960  \n",
       "773  0.031726  0.004659  0.923713  0.024823  "
      ]
     },
     "execution_count": 19,
     "metadata": {},
     "output_type": "execute_result"
    },
    {
     "data": {
      "application/javascript": [
       "\n",
       "            setTimeout(function() {\n",
       "                var nbb_cell_id = 19;\n",
       "                var nbb_unformatted_code = \"df_linreg[df_linreg[\\\"Features\\\"] == \\\"Chemical + Properties CS Less\\\"].drop(\\n    [\\\"Cross Validation Params\\\"], axis=1\\n)\";\n",
       "                var nbb_formatted_code = \"df_linreg[df_linreg[\\\"Features\\\"] == \\\"Chemical + Properties CS Less\\\"].drop(\\n    [\\\"Cross Validation Params\\\"], axis=1\\n)\";\n",
       "                var nbb_cells = Jupyter.notebook.get_cells();\n",
       "                for (var i = 0; i < nbb_cells.length; ++i) {\n",
       "                    if (nbb_cells[i].input_prompt_number == nbb_cell_id) {\n",
       "                        if (nbb_cells[i].get_text() == nbb_unformatted_code) {\n",
       "                             nbb_cells[i].set_text(nbb_formatted_code);\n",
       "                        }\n",
       "                        break;\n",
       "                    }\n",
       "                }\n",
       "            }, 500);\n",
       "            "
      ],
      "text/plain": [
       "<IPython.core.display.Javascript object>"
      ]
     },
     "metadata": {},
     "output_type": "display_data"
    }
   ],
   "source": [
    "df_linreg[df_linreg[\"Features\"] == \"Chemical + Properties CS Less\"].drop(\n",
    "    [\"Cross Validation Params\"], axis=1\n",
    ")"
   ]
  },
  {
   "cell_type": "code",
   "execution_count": 18,
   "id": "57fa01c0",
   "metadata": {},
   "outputs": [
    {
     "name": "stderr",
     "output_type": "stream",
     "text": [
      "/tmp/ipykernel_1879735/2396273699.py:1: PerformanceWarning: dropping on a non-lexsorted multi-index without a level parameter may impact performance.\n",
      "  df_linreg[df_linreg[\"Features\"] == \"Chemical + Physical\"].drop(\n"
     ]
    },
    {
     "data": {
      "text/html": [
       "<div>\n",
       "<style scoped>\n",
       "    .dataframe tbody tr th:only-of-type {\n",
       "        vertical-align: middle;\n",
       "    }\n",
       "\n",
       "    .dataframe tbody tr th {\n",
       "        vertical-align: top;\n",
       "    }\n",
       "\n",
       "    .dataframe thead tr th {\n",
       "        text-align: left;\n",
       "    }\n",
       "</style>\n",
       "<table border=\"1\" class=\"dataframe\">\n",
       "  <thead>\n",
       "    <tr>\n",
       "      <th></th>\n",
       "      <th>Model</th>\n",
       "      <th>Features</th>\n",
       "      <th>Cross Validation</th>\n",
       "      <th colspan=\"2\" halign=\"left\">RMSE Test</th>\n",
       "      <th colspan=\"2\" halign=\"left\">MAE Test</th>\n",
       "      <th colspan=\"2\" halign=\"left\">MAPE Test</th>\n",
       "      <th colspan=\"2\" halign=\"left\">R2 Test</th>\n",
       "    </tr>\n",
       "    <tr>\n",
       "      <th></th>\n",
       "      <th></th>\n",
       "      <th></th>\n",
       "      <th></th>\n",
       "      <th>mean</th>\n",
       "      <th>std</th>\n",
       "      <th>mean</th>\n",
       "      <th>std</th>\n",
       "      <th>mean</th>\n",
       "      <th>std</th>\n",
       "      <th>mean</th>\n",
       "      <th>std</th>\n",
       "    </tr>\n",
       "  </thead>\n",
       "  <tbody>\n",
       "    <tr>\n",
       "      <th>425</th>\n",
       "      <td>Linear Regression</td>\n",
       "      <td>Chemical + Physical</td>\n",
       "      <td>Blocking Time Series Split</td>\n",
       "      <td>1.251445</td>\n",
       "      <td>0.223054</td>\n",
       "      <td>0.980931</td>\n",
       "      <td>0.184659</td>\n",
       "      <td>0.022820</td>\n",
       "      <td>0.004179</td>\n",
       "      <td>0.965662</td>\n",
       "      <td>0.010835</td>\n",
       "    </tr>\n",
       "    <tr>\n",
       "      <th>427</th>\n",
       "      <td>Linear Regression</td>\n",
       "      <td>Chemical + Physical</td>\n",
       "      <td>Repeated KFold</td>\n",
       "      <td>1.155319</td>\n",
       "      <td>0.037970</td>\n",
       "      <td>0.896347</td>\n",
       "      <td>0.024984</td>\n",
       "      <td>0.020684</td>\n",
       "      <td>0.000550</td>\n",
       "      <td>0.972421</td>\n",
       "      <td>0.001843</td>\n",
       "    </tr>\n",
       "    <tr>\n",
       "      <th>428</th>\n",
       "      <td>Linear Regression</td>\n",
       "      <td>Chemical + Physical</td>\n",
       "      <td>Time Series Split</td>\n",
       "      <td>1.301746</td>\n",
       "      <td>0.256804</td>\n",
       "      <td>1.004406</td>\n",
       "      <td>0.172853</td>\n",
       "      <td>0.023288</td>\n",
       "      <td>0.004055</td>\n",
       "      <td>0.962958</td>\n",
       "      <td>0.015233</td>\n",
       "    </tr>\n",
       "  </tbody>\n",
       "</table>\n",
       "</div>"
      ],
      "text/plain": [
       "                 Model             Features            Cross Validation  \\\n",
       "                                                                          \n",
       "425  Linear Regression  Chemical + Physical  Blocking Time Series Split   \n",
       "427  Linear Regression  Chemical + Physical              Repeated KFold   \n",
       "428  Linear Regression  Chemical + Physical           Time Series Split   \n",
       "\n",
       "    RMSE Test            MAE Test           MAPE Test             R2 Test  \\\n",
       "         mean       std      mean       std      mean       std      mean   \n",
       "425  1.251445  0.223054  0.980931  0.184659  0.022820  0.004179  0.965662   \n",
       "427  1.155319  0.037970  0.896347  0.024984  0.020684  0.000550  0.972421   \n",
       "428  1.301746  0.256804  1.004406  0.172853  0.023288  0.004055  0.962958   \n",
       "\n",
       "               \n",
       "          std  \n",
       "425  0.010835  \n",
       "427  0.001843  \n",
       "428  0.015233  "
      ]
     },
     "execution_count": 18,
     "metadata": {},
     "output_type": "execute_result"
    },
    {
     "data": {
      "application/javascript": [
       "\n",
       "            setTimeout(function() {\n",
       "                var nbb_cell_id = 18;\n",
       "                var nbb_unformatted_code = \"df_linreg[df_linreg[\\\"Features\\\"] == \\\"Chemical + Physical\\\"].drop(\\n    [\\\"Cross Validation Params\\\"], axis=1\\n)\";\n",
       "                var nbb_formatted_code = \"df_linreg[df_linreg[\\\"Features\\\"] == \\\"Chemical + Physical\\\"].drop(\\n    [\\\"Cross Validation Params\\\"], axis=1\\n)\";\n",
       "                var nbb_cells = Jupyter.notebook.get_cells();\n",
       "                for (var i = 0; i < nbb_cells.length; ++i) {\n",
       "                    if (nbb_cells[i].input_prompt_number == nbb_cell_id) {\n",
       "                        if (nbb_cells[i].get_text() == nbb_unformatted_code) {\n",
       "                             nbb_cells[i].set_text(nbb_formatted_code);\n",
       "                        }\n",
       "                        break;\n",
       "                    }\n",
       "                }\n",
       "            }, 500);\n",
       "            "
      ],
      "text/plain": [
       "<IPython.core.display.Javascript object>"
      ]
     },
     "metadata": {},
     "output_type": "display_data"
    }
   ],
   "source": [
    "df_linreg[df_linreg[\"Features\"] == \"Chemical + Physical\"].drop(\n",
    "    [\"Cross Validation Params\"], axis=1\n",
    ")"
   ]
  },
  {
   "cell_type": "markdown",
   "id": "18dc8dba",
   "metadata": {},
   "source": [
    "# Neural Networks"
   ]
  },
  {
   "cell_type": "code",
   "execution_count": 21,
   "id": "4053eed6",
   "metadata": {},
   "outputs": [
    {
     "data": {
      "application/javascript": [
       "\n",
       "            setTimeout(function() {\n",
       "                var nbb_cell_id = 21;\n",
       "                var nbb_unformatted_code = \"neural_networks = [\\n    \\\"MLP\\\",\\n    \\\"LSTM\\\",\\n    \\\"GRU\\\",\\n    \\\"BidirectionalGRU\\\",\\n    \\\"BidirectionalLSTM\\\",\\n    \\\"Transformer\\\",\\n]\\n\\ndf_nn = df[df[(\\\"Model\\\", \\\"\\\")].isin(neural_networks)][cols].copy()\\n# df_nn = df_nn.drop([(\\\"Model\\\", \\\"\\\")], axis=1)\\ndf_nn = df_nn[df_nn[\\\"Cross Validation\\\"] != \\\"Out of time Split\\\"]\";\n",
       "                var nbb_formatted_code = \"neural_networks = [\\n    \\\"MLP\\\",\\n    \\\"LSTM\\\",\\n    \\\"GRU\\\",\\n    \\\"BidirectionalGRU\\\",\\n    \\\"BidirectionalLSTM\\\",\\n    \\\"Transformer\\\",\\n]\\n\\ndf_nn = df[df[(\\\"Model\\\", \\\"\\\")].isin(neural_networks)][cols].copy()\\n# df_nn = df_nn.drop([(\\\"Model\\\", \\\"\\\")], axis=1)\\ndf_nn = df_nn[df_nn[\\\"Cross Validation\\\"] != \\\"Out of time Split\\\"]\";\n",
       "                var nbb_cells = Jupyter.notebook.get_cells();\n",
       "                for (var i = 0; i < nbb_cells.length; ++i) {\n",
       "                    if (nbb_cells[i].input_prompt_number == nbb_cell_id) {\n",
       "                        if (nbb_cells[i].get_text() == nbb_unformatted_code) {\n",
       "                             nbb_cells[i].set_text(nbb_formatted_code);\n",
       "                        }\n",
       "                        break;\n",
       "                    }\n",
       "                }\n",
       "            }, 500);\n",
       "            "
      ],
      "text/plain": [
       "<IPython.core.display.Javascript object>"
      ]
     },
     "metadata": {},
     "output_type": "display_data"
    }
   ],
   "source": [
    "neural_networks = [\n",
    "    \"MLP\",\n",
    "    \"LSTM\",\n",
    "    \"GRU\",\n",
    "    \"BidirectionalGRU\",\n",
    "    \"BidirectionalLSTM\",\n",
    "    \"Transformer\",\n",
    "]\n",
    "\n",
    "df_nn = df[df[(\"Model\", \"\")].isin(neural_networks)][cols].copy()\n",
    "# df_nn = df_nn.drop([(\"Model\", \"\")], axis=1)\n",
    "df_nn = df_nn[df_nn[\"Cross Validation\"] != \"Out of time Split\"]"
   ]
  },
  {
   "cell_type": "code",
   "execution_count": 22,
   "id": "3d4bd7f2",
   "metadata": {},
   "outputs": [
    {
     "name": "stderr",
     "output_type": "stream",
     "text": [
      "/tmp/ipykernel_1879735/558007381.py:3: PerformanceWarning: dropping on a non-lexsorted multi-index without a level parameter may impact performance.\n",
      "  df_nn.drop([\"Cross Validation Params\"], axis=1).loc[[idx_min]].round(3)\n"
     ]
    },
    {
     "data": {
      "text/html": [
       "<div>\n",
       "<style scoped>\n",
       "    .dataframe tbody tr th:only-of-type {\n",
       "        vertical-align: middle;\n",
       "    }\n",
       "\n",
       "    .dataframe tbody tr th {\n",
       "        vertical-align: top;\n",
       "    }\n",
       "\n",
       "    .dataframe thead tr th {\n",
       "        text-align: left;\n",
       "    }\n",
       "</style>\n",
       "<table border=\"1\" class=\"dataframe\">\n",
       "  <thead>\n",
       "    <tr>\n",
       "      <th></th>\n",
       "      <th>Model</th>\n",
       "      <th>Features</th>\n",
       "      <th>Cross Validation</th>\n",
       "      <th colspan=\"2\" halign=\"left\">RMSE Test</th>\n",
       "      <th colspan=\"2\" halign=\"left\">MAE Test</th>\n",
       "      <th colspan=\"2\" halign=\"left\">MAPE Test</th>\n",
       "      <th colspan=\"2\" halign=\"left\">R2 Test</th>\n",
       "    </tr>\n",
       "    <tr>\n",
       "      <th></th>\n",
       "      <th></th>\n",
       "      <th></th>\n",
       "      <th></th>\n",
       "      <th>mean</th>\n",
       "      <th>std</th>\n",
       "      <th>mean</th>\n",
       "      <th>std</th>\n",
       "      <th>mean</th>\n",
       "      <th>std</th>\n",
       "      <th>mean</th>\n",
       "      <th>std</th>\n",
       "    </tr>\n",
       "  </thead>\n",
       "  <tbody>\n",
       "    <tr>\n",
       "      <th>378</th>\n",
       "      <td>LSTM</td>\n",
       "      <td>Chemical</td>\n",
       "      <td>Repeated KFold</td>\n",
       "      <td>1.458</td>\n",
       "      <td>0.059</td>\n",
       "      <td>1.144</td>\n",
       "      <td>0.05</td>\n",
       "      <td>0.026</td>\n",
       "      <td>0.001</td>\n",
       "      <td>0.955</td>\n",
       "      <td>0.004</td>\n",
       "    </tr>\n",
       "  </tbody>\n",
       "</table>\n",
       "</div>"
      ],
      "text/plain": [
       "    Model  Features Cross Validation RMSE Test        MAE Test        \\\n",
       "                                          mean    std     mean   std   \n",
       "378  LSTM  Chemical   Repeated KFold     1.458  0.059    1.144  0.05   \n",
       "\n",
       "    MAPE Test        R2 Test         \n",
       "         mean    std    mean    std  \n",
       "378     0.026  0.001   0.955  0.004  "
      ]
     },
     "execution_count": 22,
     "metadata": {},
     "output_type": "execute_result"
    },
    {
     "data": {
      "application/javascript": [
       "\n",
       "            setTimeout(function() {\n",
       "                var nbb_cell_id = 22;\n",
       "                var nbb_unformatted_code = \"idx_min = df_nn[df_nn[\\\"Features\\\"] == \\\"Chemical\\\"][\\\"RMSE Test\\\", \\\"mean\\\"].idxmin()\\n\\ndf_nn.drop([\\\"Cross Validation Params\\\"], axis=1).loc[[idx_min]].round(3)\";\n",
       "                var nbb_formatted_code = \"idx_min = df_nn[df_nn[\\\"Features\\\"] == \\\"Chemical\\\"][\\\"RMSE Test\\\", \\\"mean\\\"].idxmin()\\n\\ndf_nn.drop([\\\"Cross Validation Params\\\"], axis=1).loc[[idx_min]].round(3)\";\n",
       "                var nbb_cells = Jupyter.notebook.get_cells();\n",
       "                for (var i = 0; i < nbb_cells.length; ++i) {\n",
       "                    if (nbb_cells[i].input_prompt_number == nbb_cell_id) {\n",
       "                        if (nbb_cells[i].get_text() == nbb_unformatted_code) {\n",
       "                             nbb_cells[i].set_text(nbb_formatted_code);\n",
       "                        }\n",
       "                        break;\n",
       "                    }\n",
       "                }\n",
       "            }, 500);\n",
       "            "
      ],
      "text/plain": [
       "<IPython.core.display.Javascript object>"
      ]
     },
     "metadata": {},
     "output_type": "display_data"
    }
   ],
   "source": [
    "idx_min = df_nn[df_nn[\"Features\"] == \"Chemical\"][\"RMSE Test\", \"mean\"].idxmin()\n",
    "\n",
    "df_nn.drop([\"Cross Validation Params\"], axis=1).loc[[idx_min]].round(3)"
   ]
  },
  {
   "cell_type": "code",
   "execution_count": 23,
   "id": "c168429a",
   "metadata": {
    "scrolled": true
   },
   "outputs": [
    {
     "name": "stderr",
     "output_type": "stream",
     "text": [
      "/tmp/ipykernel_1879735/1869263897.py:7: UserWarning: This pattern is interpreted as a regular expression, and has match groups. To actually get the groups, use str.extract.\n",
      "  features_filter = df_nn[\"Features\"].str.contains(\n",
      "/tmp/ipykernel_1879735/1869263897.py:14: PerformanceWarning: dropping on a non-lexsorted multi-index without a level parameter may impact performance.\n",
      "  df_nn.drop([\"Cross Validation Params\"], axis=1).loc[[idx_min]].round(3)\n"
     ]
    },
    {
     "data": {
      "text/html": [
       "<div>\n",
       "<style scoped>\n",
       "    .dataframe tbody tr th:only-of-type {\n",
       "        vertical-align: middle;\n",
       "    }\n",
       "\n",
       "    .dataframe tbody tr th {\n",
       "        vertical-align: top;\n",
       "    }\n",
       "\n",
       "    .dataframe thead tr th {\n",
       "        text-align: left;\n",
       "    }\n",
       "</style>\n",
       "<table border=\"1\" class=\"dataframe\">\n",
       "  <thead>\n",
       "    <tr>\n",
       "      <th></th>\n",
       "      <th>Model</th>\n",
       "      <th>Features</th>\n",
       "      <th>Cross Validation</th>\n",
       "      <th colspan=\"2\" halign=\"left\">RMSE Test</th>\n",
       "      <th colspan=\"2\" halign=\"left\">MAE Test</th>\n",
       "      <th colspan=\"2\" halign=\"left\">MAPE Test</th>\n",
       "      <th colspan=\"2\" halign=\"left\">R2 Test</th>\n",
       "    </tr>\n",
       "    <tr>\n",
       "      <th></th>\n",
       "      <th></th>\n",
       "      <th></th>\n",
       "      <th></th>\n",
       "      <th>mean</th>\n",
       "      <th>std</th>\n",
       "      <th>mean</th>\n",
       "      <th>std</th>\n",
       "      <th>mean</th>\n",
       "      <th>std</th>\n",
       "      <th>mean</th>\n",
       "      <th>std</th>\n",
       "    </tr>\n",
       "  </thead>\n",
       "  <tbody>\n",
       "    <tr>\n",
       "      <th>491</th>\n",
       "      <td>Transformer</td>\n",
       "      <td>Chemical + CS3 + CS7</td>\n",
       "      <td>Repeated KFold</td>\n",
       "      <td>1.097</td>\n",
       "      <td>0.018</td>\n",
       "      <td>0.86</td>\n",
       "      <td>0.014</td>\n",
       "      <td>0.02</td>\n",
       "      <td>0.0</td>\n",
       "      <td>0.975</td>\n",
       "      <td>0.001</td>\n",
       "    </tr>\n",
       "  </tbody>\n",
       "</table>\n",
       "</div>"
      ],
      "text/plain": [
       "           Model              Features Cross Validation RMSE Test         \\\n",
       "                                                             mean    std   \n",
       "491  Transformer  Chemical + CS3 + CS7   Repeated KFold     1.097  0.018   \n",
       "\n",
       "    MAE Test        MAPE Test      R2 Test         \n",
       "        mean    std      mean  std    mean    std  \n",
       "491     0.86  0.014      0.02  0.0   0.975  0.001  "
      ]
     },
     "execution_count": 23,
     "metadata": {},
     "output_type": "execute_result"
    },
    {
     "data": {
      "application/javascript": [
       "\n",
       "            setTimeout(function() {\n",
       "                var nbb_cell_id = 23;\n",
       "                var nbb_unformatted_code = \"exclude = r\\\"(?!.*One-Hot)\\\"\\npattern1 = r\\\"Chemical \\\\+ CS*\\\"\\npattern2 = r\\\"Chemical \\\\+ Physical\\\"\\npattern = \\\"(\\\" + pattern1 + \\\"|\\\" + pattern2 + \\\")\\\" + exclude\\n\\n# x = df_nn[\\\"Features\\\"] != \\\"Chemical + Mineralogical + Physical\\\"\\nfeatures_filter = df_nn[\\\"Features\\\"].str.contains(\\n    pattern,\\n    regex=True,\\n)\\n\\nidx_min = df_nn[features_filter].round(3)[\\\"RMSE Test\\\", \\\"mean\\\"].idxmin()\\n\\ndf_nn.drop([\\\"Cross Validation Params\\\"], axis=1).loc[[idx_min]].round(3)\";\n",
       "                var nbb_formatted_code = \"exclude = r\\\"(?!.*One-Hot)\\\"\\npattern1 = r\\\"Chemical \\\\+ CS*\\\"\\npattern2 = r\\\"Chemical \\\\+ Physical\\\"\\npattern = \\\"(\\\" + pattern1 + \\\"|\\\" + pattern2 + \\\")\\\" + exclude\\n\\n# x = df_nn[\\\"Features\\\"] != \\\"Chemical + Mineralogical + Physical\\\"\\nfeatures_filter = df_nn[\\\"Features\\\"].str.contains(\\n    pattern,\\n    regex=True,\\n)\\n\\nidx_min = df_nn[features_filter].round(3)[\\\"RMSE Test\\\", \\\"mean\\\"].idxmin()\\n\\ndf_nn.drop([\\\"Cross Validation Params\\\"], axis=1).loc[[idx_min]].round(3)\";\n",
       "                var nbb_cells = Jupyter.notebook.get_cells();\n",
       "                for (var i = 0; i < nbb_cells.length; ++i) {\n",
       "                    if (nbb_cells[i].input_prompt_number == nbb_cell_id) {\n",
       "                        if (nbb_cells[i].get_text() == nbb_unformatted_code) {\n",
       "                             nbb_cells[i].set_text(nbb_formatted_code);\n",
       "                        }\n",
       "                        break;\n",
       "                    }\n",
       "                }\n",
       "            }, 500);\n",
       "            "
      ],
      "text/plain": [
       "<IPython.core.display.Javascript object>"
      ]
     },
     "metadata": {},
     "output_type": "display_data"
    }
   ],
   "source": [
    "exclude = r\"(?!.*One-Hot)\"\n",
    "pattern1 = r\"Chemical \\+ CS*\"\n",
    "pattern2 = r\"Chemical \\+ Physical\"\n",
    "pattern = \"(\" + pattern1 + \"|\" + pattern2 + \")\" + exclude\n",
    "\n",
    "# x = df_nn[\"Features\"] != \"Chemical + Mineralogical + Physical\"\n",
    "features_filter = df_nn[\"Features\"].str.contains(\n",
    "    pattern,\n",
    "    regex=True,\n",
    ")\n",
    "\n",
    "idx_min = df_nn[features_filter].round(3)[\"RMSE Test\", \"mean\"].idxmin()\n",
    "\n",
    "df_nn.drop([\"Cross Validation Params\"], axis=1).loc[[idx_min]].round(3)"
   ]
  },
  {
   "cell_type": "code",
   "execution_count": 24,
   "id": "40c5975c",
   "metadata": {},
   "outputs": [
    {
     "name": "stderr",
     "output_type": "stream",
     "text": [
      "/tmp/ipykernel_1879735/1533320894.py:5: PerformanceWarning: dropping on a non-lexsorted multi-index without a level parameter may impact performance.\n",
      "  df_nn.drop([\"Cross Validation Params\"], axis=1).loc[[idx_min]].round(3)\n"
     ]
    },
    {
     "data": {
      "text/html": [
       "<div>\n",
       "<style scoped>\n",
       "    .dataframe tbody tr th:only-of-type {\n",
       "        vertical-align: middle;\n",
       "    }\n",
       "\n",
       "    .dataframe tbody tr th {\n",
       "        vertical-align: top;\n",
       "    }\n",
       "\n",
       "    .dataframe thead tr th {\n",
       "        text-align: left;\n",
       "    }\n",
       "</style>\n",
       "<table border=\"1\" class=\"dataframe\">\n",
       "  <thead>\n",
       "    <tr>\n",
       "      <th></th>\n",
       "      <th>Model</th>\n",
       "      <th>Features</th>\n",
       "      <th>Cross Validation</th>\n",
       "      <th colspan=\"2\" halign=\"left\">RMSE Test</th>\n",
       "      <th colspan=\"2\" halign=\"left\">MAE Test</th>\n",
       "      <th colspan=\"2\" halign=\"left\">MAPE Test</th>\n",
       "      <th colspan=\"2\" halign=\"left\">R2 Test</th>\n",
       "    </tr>\n",
       "    <tr>\n",
       "      <th></th>\n",
       "      <th></th>\n",
       "      <th></th>\n",
       "      <th></th>\n",
       "      <th>mean</th>\n",
       "      <th>std</th>\n",
       "      <th>mean</th>\n",
       "      <th>std</th>\n",
       "      <th>mean</th>\n",
       "      <th>std</th>\n",
       "      <th>mean</th>\n",
       "      <th>std</th>\n",
       "    </tr>\n",
       "  </thead>\n",
       "  <tbody>\n",
       "    <tr>\n",
       "      <th>668</th>\n",
       "      <td>Transformer</td>\n",
       "      <td>Chemical + Properties CS Less</td>\n",
       "      <td>Repeated KFold</td>\n",
       "      <td>1.311</td>\n",
       "      <td>0.036</td>\n",
       "      <td>1.037</td>\n",
       "      <td>0.031</td>\n",
       "      <td>0.024</td>\n",
       "      <td>0.001</td>\n",
       "      <td>0.965</td>\n",
       "      <td>0.002</td>\n",
       "    </tr>\n",
       "  </tbody>\n",
       "</table>\n",
       "</div>"
      ],
      "text/plain": [
       "           Model                       Features Cross Validation RMSE Test  \\\n",
       "                                                                      mean   \n",
       "668  Transformer  Chemical + Properties CS Less   Repeated KFold     1.311   \n",
       "\n",
       "           MAE Test        MAPE Test        R2 Test         \n",
       "       std     mean    std      mean    std    mean    std  \n",
       "668  0.036    1.037  0.031     0.024  0.001   0.965  0.002  "
      ]
     },
     "execution_count": 24,
     "metadata": {},
     "output_type": "execute_result"
    },
    {
     "data": {
      "application/javascript": [
       "\n",
       "            setTimeout(function() {\n",
       "                var nbb_cell_id = 24;\n",
       "                var nbb_unformatted_code = \"idx_min = df_nn[df_nn[\\\"Features\\\"] == \\\"Chemical + Properties CS Less\\\"][\\n    \\\"RMSE Test\\\", \\\"mean\\\"\\n].idxmin()\\n\\ndf_nn.drop([\\\"Cross Validation Params\\\"], axis=1).loc[[idx_min]].round(3)\";\n",
       "                var nbb_formatted_code = \"idx_min = df_nn[df_nn[\\\"Features\\\"] == \\\"Chemical + Properties CS Less\\\"][\\n    \\\"RMSE Test\\\", \\\"mean\\\"\\n].idxmin()\\n\\ndf_nn.drop([\\\"Cross Validation Params\\\"], axis=1).loc[[idx_min]].round(3)\";\n",
       "                var nbb_cells = Jupyter.notebook.get_cells();\n",
       "                for (var i = 0; i < nbb_cells.length; ++i) {\n",
       "                    if (nbb_cells[i].input_prompt_number == nbb_cell_id) {\n",
       "                        if (nbb_cells[i].get_text() == nbb_unformatted_code) {\n",
       "                             nbb_cells[i].set_text(nbb_formatted_code);\n",
       "                        }\n",
       "                        break;\n",
       "                    }\n",
       "                }\n",
       "            }, 500);\n",
       "            "
      ],
      "text/plain": [
       "<IPython.core.display.Javascript object>"
      ]
     },
     "metadata": {},
     "output_type": "display_data"
    }
   ],
   "source": [
    "idx_min = df_nn[df_nn[\"Features\"] == \"Chemical + Properties CS Less\"][\n",
    "    \"RMSE Test\", \"mean\"\n",
    "].idxmin()\n",
    "\n",
    "df_nn.drop([\"Cross Validation Params\"], axis=1).loc[[idx_min]].round(3)"
   ]
  },
  {
   "cell_type": "code",
   "execution_count": 25,
   "id": "55e6e98b",
   "metadata": {},
   "outputs": [
    {
     "name": "stderr",
     "output_type": "stream",
     "text": [
      "/tmp/ipykernel_1879735/2784722090.py:5: PerformanceWarning: dropping on a non-lexsorted multi-index without a level parameter may impact performance.\n",
      "  df_nn.drop([\"Cross Validation Params\"], axis=1).loc[[idx_min]].round(3)\n"
     ]
    },
    {
     "data": {
      "text/html": [
       "<div>\n",
       "<style scoped>\n",
       "    .dataframe tbody tr th:only-of-type {\n",
       "        vertical-align: middle;\n",
       "    }\n",
       "\n",
       "    .dataframe tbody tr th {\n",
       "        vertical-align: top;\n",
       "    }\n",
       "\n",
       "    .dataframe thead tr th {\n",
       "        text-align: left;\n",
       "    }\n",
       "</style>\n",
       "<table border=\"1\" class=\"dataframe\">\n",
       "  <thead>\n",
       "    <tr>\n",
       "      <th></th>\n",
       "      <th>Model</th>\n",
       "      <th>Features</th>\n",
       "      <th>Cross Validation</th>\n",
       "      <th colspan=\"2\" halign=\"left\">RMSE Test</th>\n",
       "      <th colspan=\"2\" halign=\"left\">MAE Test</th>\n",
       "      <th colspan=\"2\" halign=\"left\">MAPE Test</th>\n",
       "      <th colspan=\"2\" halign=\"left\">R2 Test</th>\n",
       "    </tr>\n",
       "    <tr>\n",
       "      <th></th>\n",
       "      <th></th>\n",
       "      <th></th>\n",
       "      <th></th>\n",
       "      <th>mean</th>\n",
       "      <th>std</th>\n",
       "      <th>mean</th>\n",
       "      <th>std</th>\n",
       "      <th>mean</th>\n",
       "      <th>std</th>\n",
       "      <th>mean</th>\n",
       "      <th>std</th>\n",
       "    </tr>\n",
       "  </thead>\n",
       "  <tbody>\n",
       "    <tr>\n",
       "      <th>154</th>\n",
       "      <td>BidirectionalGRU</td>\n",
       "      <td>Chemical + Physical</td>\n",
       "      <td>Repeated KFold</td>\n",
       "      <td>1.112</td>\n",
       "      <td>0.03</td>\n",
       "      <td>0.863</td>\n",
       "      <td>0.024</td>\n",
       "      <td>0.02</td>\n",
       "      <td>0.001</td>\n",
       "      <td>0.974</td>\n",
       "      <td>0.002</td>\n",
       "    </tr>\n",
       "  </tbody>\n",
       "</table>\n",
       "</div>"
      ],
      "text/plain": [
       "                Model             Features Cross Validation RMSE Test        \\\n",
       "                                                                 mean   std   \n",
       "154  BidirectionalGRU  Chemical + Physical   Repeated KFold     1.112  0.03   \n",
       "\n",
       "    MAE Test        MAPE Test        R2 Test         \n",
       "        mean    std      mean    std    mean    std  \n",
       "154    0.863  0.024      0.02  0.001   0.974  0.002  "
      ]
     },
     "execution_count": 25,
     "metadata": {},
     "output_type": "execute_result"
    },
    {
     "data": {
      "application/javascript": [
       "\n",
       "            setTimeout(function() {\n",
       "                var nbb_cell_id = 25;\n",
       "                var nbb_unformatted_code = \"idx_min = df_nn[df_nn[\\\"Features\\\"] == \\\"Chemical + Physical\\\"][\\n    \\\"RMSE Test\\\", \\\"mean\\\"\\n].idxmin()\\n\\ndf_nn.drop([\\\"Cross Validation Params\\\"], axis=1).loc[[idx_min]].round(3)\";\n",
       "                var nbb_formatted_code = \"idx_min = df_nn[df_nn[\\\"Features\\\"] == \\\"Chemical + Physical\\\"][\\n    \\\"RMSE Test\\\", \\\"mean\\\"\\n].idxmin()\\n\\ndf_nn.drop([\\\"Cross Validation Params\\\"], axis=1).loc[[idx_min]].round(3)\";\n",
       "                var nbb_cells = Jupyter.notebook.get_cells();\n",
       "                for (var i = 0; i < nbb_cells.length; ++i) {\n",
       "                    if (nbb_cells[i].input_prompt_number == nbb_cell_id) {\n",
       "                        if (nbb_cells[i].get_text() == nbb_unformatted_code) {\n",
       "                             nbb_cells[i].set_text(nbb_formatted_code);\n",
       "                        }\n",
       "                        break;\n",
       "                    }\n",
       "                }\n",
       "            }, 500);\n",
       "            "
      ],
      "text/plain": [
       "<IPython.core.display.Javascript object>"
      ]
     },
     "metadata": {},
     "output_type": "display_data"
    }
   ],
   "source": [
    "idx_min = df_nn[df_nn[\"Features\"] == \"Chemical + Physical\"][\n",
    "    \"RMSE Test\", \"mean\"\n",
    "].idxmin()\n",
    "\n",
    "df_nn.drop([\"Cross Validation Params\"], axis=1).loc[[idx_min]].round(3)"
   ]
  },
  {
   "cell_type": "code",
   "execution_count": 19,
   "id": "8b237220",
   "metadata": {},
   "outputs": [
    {
     "data": {
      "text/html": [
       "<div>\n",
       "<style scoped>\n",
       "    .dataframe tbody tr th:only-of-type {\n",
       "        vertical-align: middle;\n",
       "    }\n",
       "\n",
       "    .dataframe tbody tr th {\n",
       "        vertical-align: top;\n",
       "    }\n",
       "\n",
       "    .dataframe thead tr th {\n",
       "        text-align: left;\n",
       "    }\n",
       "</style>\n",
       "<table border=\"1\" class=\"dataframe\">\n",
       "  <thead>\n",
       "    <tr>\n",
       "      <th></th>\n",
       "      <th>Model</th>\n",
       "      <th>Features</th>\n",
       "      <th>Cross Validation</th>\n",
       "      <th>Cross Validation Params</th>\n",
       "      <th colspan=\"2\" halign=\"left\">RMSE Test</th>\n",
       "      <th colspan=\"2\" halign=\"left\">MAE Test</th>\n",
       "      <th colspan=\"2\" halign=\"left\">MAPE Test</th>\n",
       "      <th colspan=\"2\" halign=\"left\">R2 Test</th>\n",
       "    </tr>\n",
       "    <tr>\n",
       "      <th></th>\n",
       "      <th></th>\n",
       "      <th></th>\n",
       "      <th></th>\n",
       "      <th></th>\n",
       "      <th>mean</th>\n",
       "      <th>std</th>\n",
       "      <th>mean</th>\n",
       "      <th>std</th>\n",
       "      <th>mean</th>\n",
       "      <th>std</th>\n",
       "      <th>mean</th>\n",
       "      <th>std</th>\n",
       "    </tr>\n",
       "  </thead>\n",
       "  <tbody>\n",
       "    <tr>\n",
       "      <th>494</th>\n",
       "      <td>Transformer</td>\n",
       "      <td>Chemical + Mineralogical + CS7 + One-Hot</td>\n",
       "      <td>Repeated KFold</td>\n",
       "      <td>{\"N_Splits\": 5, \"Repeats\": 3}</td>\n",
       "      <td>1.048</td>\n",
       "      <td>0.104</td>\n",
       "      <td>0.824</td>\n",
       "      <td>0.102</td>\n",
       "      <td>0.019</td>\n",
       "      <td>0.002</td>\n",
       "      <td>0.956</td>\n",
       "      <td>0.01</td>\n",
       "    </tr>\n",
       "  </tbody>\n",
       "</table>\n",
       "</div>"
      ],
      "text/plain": [
       "           Model                                  Features Cross Validation  \\\n",
       "                                                                              \n",
       "494  Transformer  Chemical + Mineralogical + CS7 + One-Hot   Repeated KFold   \n",
       "\n",
       "           Cross Validation Params RMSE Test        MAE Test        MAPE Test  \\\n",
       "                                        mean    std     mean    std      mean   \n",
       "494  {\"N_Splits\": 5, \"Repeats\": 3}     1.048  0.104    0.824  0.102     0.019   \n",
       "\n",
       "           R2 Test        \n",
       "       std    mean   std  \n",
       "494  0.002   0.956  0.01  "
      ]
     },
     "execution_count": 19,
     "metadata": {},
     "output_type": "execute_result"
    },
    {
     "data": {
      "application/javascript": [
       "\n",
       "            setTimeout(function() {\n",
       "                var nbb_cell_id = 19;\n",
       "                var nbb_unformatted_code = \"pattern = r\\\"One-Hot\\\"\\n\\nfeatures_filter = df_nn[\\\"Features\\\"].str.contains(\\n    pattern,\\n    regex=True,\\n)\\n\\nidx_min = df_nn[features_filter].round(3)[\\\"RMSE Test\\\", \\\"mean\\\"].idxmin()\\n\\ndf_nn.loc[[idx_min]].round(3)\";\n",
       "                var nbb_formatted_code = \"pattern = r\\\"One-Hot\\\"\\n\\nfeatures_filter = df_nn[\\\"Features\\\"].str.contains(\\n    pattern,\\n    regex=True,\\n)\\n\\nidx_min = df_nn[features_filter].round(3)[\\\"RMSE Test\\\", \\\"mean\\\"].idxmin()\\n\\ndf_nn.loc[[idx_min]].round(3)\";\n",
       "                var nbb_cells = Jupyter.notebook.get_cells();\n",
       "                for (var i = 0; i < nbb_cells.length; ++i) {\n",
       "                    if (nbb_cells[i].input_prompt_number == nbb_cell_id) {\n",
       "                        if (nbb_cells[i].get_text() == nbb_unformatted_code) {\n",
       "                             nbb_cells[i].set_text(nbb_formatted_code);\n",
       "                        }\n",
       "                        break;\n",
       "                    }\n",
       "                }\n",
       "            }, 500);\n",
       "            "
      ],
      "text/plain": [
       "<IPython.core.display.Javascript object>"
      ]
     },
     "metadata": {},
     "output_type": "display_data"
    }
   ],
   "source": [
    "pattern = r\"One-Hot\"\n",
    "\n",
    "features_filter = df_nn[\"Features\"].str.contains(\n",
    "    pattern,\n",
    "    regex=True,\n",
    ")\n",
    "\n",
    "idx_min = df_nn[features_filter].round(3)[\"RMSE Test\", \"mean\"].idxmin()\n",
    "\n",
    "df_nn.loc[[idx_min]].round(3)"
   ]
  },
  {
   "cell_type": "markdown",
   "id": "d1681c27",
   "metadata": {},
   "source": [
    "# Trees"
   ]
  },
  {
   "cell_type": "code",
   "execution_count": 26,
   "id": "1d1e31fe",
   "metadata": {},
   "outputs": [
    {
     "data": {
      "application/javascript": [
       "\n",
       "            setTimeout(function() {\n",
       "                var nbb_cell_id = 26;\n",
       "                var nbb_unformatted_code = \"trees = [\\\"Decision Tree\\\", \\\"Random Forest\\\", \\\"XGBoost\\\"]\\n\\ndf_trees = df[df[(\\\"Model\\\", \\\"\\\")].isin(trees)][cols].copy()\\ndf_trees = df_trees[df_trees[\\\"Cross Validation\\\"] != \\\"Out of time Split\\\"]\";\n",
       "                var nbb_formatted_code = \"trees = [\\\"Decision Tree\\\", \\\"Random Forest\\\", \\\"XGBoost\\\"]\\n\\ndf_trees = df[df[(\\\"Model\\\", \\\"\\\")].isin(trees)][cols].copy()\\ndf_trees = df_trees[df_trees[\\\"Cross Validation\\\"] != \\\"Out of time Split\\\"]\";\n",
       "                var nbb_cells = Jupyter.notebook.get_cells();\n",
       "                for (var i = 0; i < nbb_cells.length; ++i) {\n",
       "                    if (nbb_cells[i].input_prompt_number == nbb_cell_id) {\n",
       "                        if (nbb_cells[i].get_text() == nbb_unformatted_code) {\n",
       "                             nbb_cells[i].set_text(nbb_formatted_code);\n",
       "                        }\n",
       "                        break;\n",
       "                    }\n",
       "                }\n",
       "            }, 500);\n",
       "            "
      ],
      "text/plain": [
       "<IPython.core.display.Javascript object>"
      ]
     },
     "metadata": {},
     "output_type": "display_data"
    }
   ],
   "source": [
    "trees = [\"Decision Tree\", \"Random Forest\", \"XGBoost\"]\n",
    "\n",
    "df_trees = df[df[(\"Model\", \"\")].isin(trees)][cols].copy()\n",
    "df_trees = df_trees[df_trees[\"Cross Validation\"] != \"Out of time Split\"]"
   ]
  },
  {
   "cell_type": "code",
   "execution_count": 27,
   "id": "a9abcb2f",
   "metadata": {},
   "outputs": [
    {
     "name": "stderr",
     "output_type": "stream",
     "text": [
      "/tmp/ipykernel_1879735/3648671257.py:3: PerformanceWarning: dropping on a non-lexsorted multi-index without a level parameter may impact performance.\n",
      "  df_trees.drop([\"Cross Validation Params\"], axis=1).loc[[idx_min]].round(3)\n"
     ]
    },
    {
     "data": {
      "text/html": [
       "<div>\n",
       "<style scoped>\n",
       "    .dataframe tbody tr th:only-of-type {\n",
       "        vertical-align: middle;\n",
       "    }\n",
       "\n",
       "    .dataframe tbody tr th {\n",
       "        vertical-align: top;\n",
       "    }\n",
       "\n",
       "    .dataframe thead tr th {\n",
       "        text-align: left;\n",
       "    }\n",
       "</style>\n",
       "<table border=\"1\" class=\"dataframe\">\n",
       "  <thead>\n",
       "    <tr>\n",
       "      <th></th>\n",
       "      <th>Model</th>\n",
       "      <th>Features</th>\n",
       "      <th>Cross Validation</th>\n",
       "      <th colspan=\"2\" halign=\"left\">RMSE Test</th>\n",
       "      <th colspan=\"2\" halign=\"left\">MAE Test</th>\n",
       "      <th colspan=\"2\" halign=\"left\">MAPE Test</th>\n",
       "      <th colspan=\"2\" halign=\"left\">R2 Test</th>\n",
       "    </tr>\n",
       "    <tr>\n",
       "      <th></th>\n",
       "      <th></th>\n",
       "      <th></th>\n",
       "      <th></th>\n",
       "      <th>mean</th>\n",
       "      <th>std</th>\n",
       "      <th>mean</th>\n",
       "      <th>std</th>\n",
       "      <th>mean</th>\n",
       "      <th>std</th>\n",
       "      <th>mean</th>\n",
       "      <th>std</th>\n",
       "    </tr>\n",
       "  </thead>\n",
       "  <tbody>\n",
       "    <tr>\n",
       "      <th>423</th>\n",
       "      <td>Random Forest</td>\n",
       "      <td>Chemical</td>\n",
       "      <td>Repeated KFold</td>\n",
       "      <td>1.671</td>\n",
       "      <td>0.119</td>\n",
       "      <td>1.142</td>\n",
       "      <td>0.039</td>\n",
       "      <td>0.027</td>\n",
       "      <td>0.001</td>\n",
       "      <td>0.942</td>\n",
       "      <td>0.008</td>\n",
       "    </tr>\n",
       "  </tbody>\n",
       "</table>\n",
       "</div>"
      ],
      "text/plain": [
       "             Model  Features Cross Validation RMSE Test        MAE Test  \\\n",
       "                                                   mean    std     mean   \n",
       "423  Random Forest  Chemical   Repeated KFold     1.671  0.119    1.142   \n",
       "\n",
       "           MAPE Test        R2 Test         \n",
       "       std      mean    std    mean    std  \n",
       "423  0.039     0.027  0.001   0.942  0.008  "
      ]
     },
     "execution_count": 27,
     "metadata": {},
     "output_type": "execute_result"
    },
    {
     "data": {
      "application/javascript": [
       "\n",
       "            setTimeout(function() {\n",
       "                var nbb_cell_id = 27;\n",
       "                var nbb_unformatted_code = \"idx_min = df_trees[df_trees[\\\"Features\\\"] == \\\"Chemical\\\"][\\\"RMSE Test\\\", \\\"mean\\\"].idxmin()\\n\\ndf_trees.drop([\\\"Cross Validation Params\\\"], axis=1).loc[[idx_min]].round(3)\";\n",
       "                var nbb_formatted_code = \"idx_min = df_trees[df_trees[\\\"Features\\\"] == \\\"Chemical\\\"][\\\"RMSE Test\\\", \\\"mean\\\"].idxmin()\\n\\ndf_trees.drop([\\\"Cross Validation Params\\\"], axis=1).loc[[idx_min]].round(3)\";\n",
       "                var nbb_cells = Jupyter.notebook.get_cells();\n",
       "                for (var i = 0; i < nbb_cells.length; ++i) {\n",
       "                    if (nbb_cells[i].input_prompt_number == nbb_cell_id) {\n",
       "                        if (nbb_cells[i].get_text() == nbb_unformatted_code) {\n",
       "                             nbb_cells[i].set_text(nbb_formatted_code);\n",
       "                        }\n",
       "                        break;\n",
       "                    }\n",
       "                }\n",
       "            }, 500);\n",
       "            "
      ],
      "text/plain": [
       "<IPython.core.display.Javascript object>"
      ]
     },
     "metadata": {},
     "output_type": "display_data"
    }
   ],
   "source": [
    "idx_min = df_trees[df_trees[\"Features\"] == \"Chemical\"][\"RMSE Test\", \"mean\"].idxmin()\n",
    "\n",
    "df_trees.drop([\"Cross Validation Params\"], axis=1).loc[[idx_min]].round(3)"
   ]
  },
  {
   "cell_type": "code",
   "execution_count": 28,
   "id": "02c2cc82",
   "metadata": {},
   "outputs": [
    {
     "name": "stderr",
     "output_type": "stream",
     "text": [
      "/tmp/ipykernel_1879735/3559523472.py:5: PerformanceWarning: dropping on a non-lexsorted multi-index without a level parameter may impact performance.\n",
      "  df_trees.drop([\"Cross Validation Params\"], axis=1).loc[[idx_min]].round(3)\n"
     ]
    },
    {
     "data": {
      "text/html": [
       "<div>\n",
       "<style scoped>\n",
       "    .dataframe tbody tr th:only-of-type {\n",
       "        vertical-align: middle;\n",
       "    }\n",
       "\n",
       "    .dataframe tbody tr th {\n",
       "        vertical-align: top;\n",
       "    }\n",
       "\n",
       "    .dataframe thead tr th {\n",
       "        text-align: left;\n",
       "    }\n",
       "</style>\n",
       "<table border=\"1\" class=\"dataframe\">\n",
       "  <thead>\n",
       "    <tr>\n",
       "      <th></th>\n",
       "      <th>Model</th>\n",
       "      <th>Features</th>\n",
       "      <th>Cross Validation</th>\n",
       "      <th colspan=\"2\" halign=\"left\">RMSE Test</th>\n",
       "      <th colspan=\"2\" halign=\"left\">MAE Test</th>\n",
       "      <th colspan=\"2\" halign=\"left\">MAPE Test</th>\n",
       "      <th colspan=\"2\" halign=\"left\">R2 Test</th>\n",
       "    </tr>\n",
       "    <tr>\n",
       "      <th></th>\n",
       "      <th></th>\n",
       "      <th></th>\n",
       "      <th></th>\n",
       "      <th>mean</th>\n",
       "      <th>std</th>\n",
       "      <th>mean</th>\n",
       "      <th>std</th>\n",
       "      <th>mean</th>\n",
       "      <th>std</th>\n",
       "      <th>mean</th>\n",
       "      <th>std</th>\n",
       "    </tr>\n",
       "  </thead>\n",
       "  <tbody>\n",
       "    <tr>\n",
       "      <th>547</th>\n",
       "      <td>Random Forest</td>\n",
       "      <td>Chemical + Properties CS Less</td>\n",
       "      <td>Repeated KFold</td>\n",
       "      <td>1.344</td>\n",
       "      <td>0.071</td>\n",
       "      <td>1.026</td>\n",
       "      <td>0.037</td>\n",
       "      <td>0.024</td>\n",
       "      <td>0.001</td>\n",
       "      <td>0.963</td>\n",
       "      <td>0.004</td>\n",
       "    </tr>\n",
       "  </tbody>\n",
       "</table>\n",
       "</div>"
      ],
      "text/plain": [
       "             Model                       Features Cross Validation RMSE Test  \\\n",
       "                                                                        mean   \n",
       "547  Random Forest  Chemical + Properties CS Less   Repeated KFold     1.344   \n",
       "\n",
       "           MAE Test        MAPE Test        R2 Test         \n",
       "       std     mean    std      mean    std    mean    std  \n",
       "547  0.071    1.026  0.037     0.024  0.001   0.963  0.004  "
      ]
     },
     "execution_count": 28,
     "metadata": {},
     "output_type": "execute_result"
    },
    {
     "data": {
      "application/javascript": [
       "\n",
       "            setTimeout(function() {\n",
       "                var nbb_cell_id = 28;\n",
       "                var nbb_unformatted_code = \"idx_min = df_trees[df_trees[\\\"Features\\\"] == \\\"Chemical + Properties CS Less\\\"][\\n    \\\"RMSE Test\\\", \\\"mean\\\"\\n].idxmin()\\n\\ndf_trees.drop([\\\"Cross Validation Params\\\"], axis=1).loc[[idx_min]].round(3)\";\n",
       "                var nbb_formatted_code = \"idx_min = df_trees[df_trees[\\\"Features\\\"] == \\\"Chemical + Properties CS Less\\\"][\\n    \\\"RMSE Test\\\", \\\"mean\\\"\\n].idxmin()\\n\\ndf_trees.drop([\\\"Cross Validation Params\\\"], axis=1).loc[[idx_min]].round(3)\";\n",
       "                var nbb_cells = Jupyter.notebook.get_cells();\n",
       "                for (var i = 0; i < nbb_cells.length; ++i) {\n",
       "                    if (nbb_cells[i].input_prompt_number == nbb_cell_id) {\n",
       "                        if (nbb_cells[i].get_text() == nbb_unformatted_code) {\n",
       "                             nbb_cells[i].set_text(nbb_formatted_code);\n",
       "                        }\n",
       "                        break;\n",
       "                    }\n",
       "                }\n",
       "            }, 500);\n",
       "            "
      ],
      "text/plain": [
       "<IPython.core.display.Javascript object>"
      ]
     },
     "metadata": {},
     "output_type": "display_data"
    }
   ],
   "source": [
    "idx_min = df_trees[df_trees[\"Features\"] == \"Chemical + Properties CS Less\"][\n",
    "    \"RMSE Test\", \"mean\"\n",
    "].idxmin()\n",
    "\n",
    "df_trees.drop([\"Cross Validation Params\"], axis=1).loc[[idx_min]].round(3)"
   ]
  },
  {
   "cell_type": "code",
   "execution_count": 29,
   "id": "2127c5a4",
   "metadata": {},
   "outputs": [
    {
     "name": "stderr",
     "output_type": "stream",
     "text": [
      "/tmp/ipykernel_1879735/1286850631.py:7: UserWarning: This pattern is interpreted as a regular expression, and has match groups. To actually get the groups, use str.extract.\n",
      "  features_filter = df_trees[\"Features\"].str.contains(\n",
      "/tmp/ipykernel_1879735/1286850631.py:14: PerformanceWarning: dropping on a non-lexsorted multi-index without a level parameter may impact performance.\n",
      "  df_trees.drop([\"Cross Validation Params\"], axis=1).loc[[idx_min]].round(3)\n"
     ]
    },
    {
     "data": {
      "text/html": [
       "<div>\n",
       "<style scoped>\n",
       "    .dataframe tbody tr th:only-of-type {\n",
       "        vertical-align: middle;\n",
       "    }\n",
       "\n",
       "    .dataframe tbody tr th {\n",
       "        vertical-align: top;\n",
       "    }\n",
       "\n",
       "    .dataframe thead tr th {\n",
       "        text-align: left;\n",
       "    }\n",
       "</style>\n",
       "<table border=\"1\" class=\"dataframe\">\n",
       "  <thead>\n",
       "    <tr>\n",
       "      <th></th>\n",
       "      <th>Model</th>\n",
       "      <th>Features</th>\n",
       "      <th>Cross Validation</th>\n",
       "      <th colspan=\"2\" halign=\"left\">RMSE Test</th>\n",
       "      <th colspan=\"2\" halign=\"left\">MAE Test</th>\n",
       "      <th colspan=\"2\" halign=\"left\">MAPE Test</th>\n",
       "      <th colspan=\"2\" halign=\"left\">R2 Test</th>\n",
       "    </tr>\n",
       "    <tr>\n",
       "      <th></th>\n",
       "      <th></th>\n",
       "      <th></th>\n",
       "      <th></th>\n",
       "      <th>mean</th>\n",
       "      <th>std</th>\n",
       "      <th>mean</th>\n",
       "      <th>std</th>\n",
       "      <th>mean</th>\n",
       "      <th>std</th>\n",
       "      <th>mean</th>\n",
       "      <th>std</th>\n",
       "    </tr>\n",
       "  </thead>\n",
       "  <tbody>\n",
       "    <tr>\n",
       "      <th>443</th>\n",
       "      <td>Random Forest</td>\n",
       "      <td>Chemical + Physical</td>\n",
       "      <td>Repeated KFold</td>\n",
       "      <td>1.077</td>\n",
       "      <td>0.027</td>\n",
       "      <td>0.848</td>\n",
       "      <td>0.026</td>\n",
       "      <td>0.02</td>\n",
       "      <td>0.001</td>\n",
       "      <td>0.976</td>\n",
       "      <td>0.001</td>\n",
       "    </tr>\n",
       "  </tbody>\n",
       "</table>\n",
       "</div>"
      ],
      "text/plain": [
       "             Model             Features Cross Validation RMSE Test         \\\n",
       "                                                              mean    std   \n",
       "443  Random Forest  Chemical + Physical   Repeated KFold     1.077  0.027   \n",
       "\n",
       "    MAE Test        MAPE Test        R2 Test         \n",
       "        mean    std      mean    std    mean    std  \n",
       "443    0.848  0.026      0.02  0.001   0.976  0.001  "
      ]
     },
     "execution_count": 29,
     "metadata": {},
     "output_type": "execute_result"
    },
    {
     "data": {
      "application/javascript": [
       "\n",
       "            setTimeout(function() {\n",
       "                var nbb_cell_id = 29;\n",
       "                var nbb_unformatted_code = \"exclude = r\\\"(?!.*One-Hot)\\\"\\npattern1 = r\\\"Chemical \\\\+ CS*\\\"\\npattern2 = r\\\"Chemical \\\\+ Physical\\\"\\npattern = \\\"(\\\" + pattern1 + \\\"|\\\" + pattern2 + \\\")\\\" + exclude\\n\\n# x = df_nn[\\\"Features\\\"] != \\\"Chemical + Mineralogical + Physical\\\"\\nfeatures_filter = df_trees[\\\"Features\\\"].str.contains(\\n    pattern,\\n    regex=True,\\n)\\n\\nidx_min = df_trees[features_filter].round(3)[\\\"RMSE Test\\\", \\\"mean\\\"].idxmin()\\n\\ndf_trees.drop([\\\"Cross Validation Params\\\"], axis=1).loc[[idx_min]].round(3)\";\n",
       "                var nbb_formatted_code = \"exclude = r\\\"(?!.*One-Hot)\\\"\\npattern1 = r\\\"Chemical \\\\+ CS*\\\"\\npattern2 = r\\\"Chemical \\\\+ Physical\\\"\\npattern = \\\"(\\\" + pattern1 + \\\"|\\\" + pattern2 + \\\")\\\" + exclude\\n\\n# x = df_nn[\\\"Features\\\"] != \\\"Chemical + Mineralogical + Physical\\\"\\nfeatures_filter = df_trees[\\\"Features\\\"].str.contains(\\n    pattern,\\n    regex=True,\\n)\\n\\nidx_min = df_trees[features_filter].round(3)[\\\"RMSE Test\\\", \\\"mean\\\"].idxmin()\\n\\ndf_trees.drop([\\\"Cross Validation Params\\\"], axis=1).loc[[idx_min]].round(3)\";\n",
       "                var nbb_cells = Jupyter.notebook.get_cells();\n",
       "                for (var i = 0; i < nbb_cells.length; ++i) {\n",
       "                    if (nbb_cells[i].input_prompt_number == nbb_cell_id) {\n",
       "                        if (nbb_cells[i].get_text() == nbb_unformatted_code) {\n",
       "                             nbb_cells[i].set_text(nbb_formatted_code);\n",
       "                        }\n",
       "                        break;\n",
       "                    }\n",
       "                }\n",
       "            }, 500);\n",
       "            "
      ],
      "text/plain": [
       "<IPython.core.display.Javascript object>"
      ]
     },
     "metadata": {},
     "output_type": "display_data"
    }
   ],
   "source": [
    "exclude = r\"(?!.*One-Hot)\"\n",
    "pattern1 = r\"Chemical \\+ CS*\"\n",
    "pattern2 = r\"Chemical \\+ Physical\"\n",
    "pattern = \"(\" + pattern1 + \"|\" + pattern2 + \")\" + exclude\n",
    "\n",
    "# x = df_nn[\"Features\"] != \"Chemical + Mineralogical + Physical\"\n",
    "features_filter = df_trees[\"Features\"].str.contains(\n",
    "    pattern,\n",
    "    regex=True,\n",
    ")\n",
    "\n",
    "idx_min = df_trees[features_filter].round(3)[\"RMSE Test\", \"mean\"].idxmin()\n",
    "\n",
    "df_trees.drop([\"Cross Validation Params\"], axis=1).loc[[idx_min]].round(3)"
   ]
  },
  {
   "cell_type": "code",
   "execution_count": 31,
   "id": "7215b8e0",
   "metadata": {},
   "outputs": [
    {
     "data": {
      "application/javascript": [
       "\n",
       "            setTimeout(function() {\n",
       "                var nbb_cell_id = 31;\n",
       "                var nbb_unformatted_code = \"# idx_min = df_trees[df_trees[\\\"Features\\\"] == \\\"Chemical + Mineralogical + One-Hot\\\"][\\n#     \\\"RMSE Test\\\", \\\"mean\\\"\\n# ].idxmin()\\n\\n# df_trees.loc[[idx_min]].round(3)\";\n",
       "                var nbb_formatted_code = \"# idx_min = df_trees[df_trees[\\\"Features\\\"] == \\\"Chemical + Mineralogical + One-Hot\\\"][\\n#     \\\"RMSE Test\\\", \\\"mean\\\"\\n# ].idxmin()\\n\\n# df_trees.loc[[idx_min]].round(3)\";\n",
       "                var nbb_cells = Jupyter.notebook.get_cells();\n",
       "                for (var i = 0; i < nbb_cells.length; ++i) {\n",
       "                    if (nbb_cells[i].input_prompt_number == nbb_cell_id) {\n",
       "                        if (nbb_cells[i].get_text() == nbb_unformatted_code) {\n",
       "                             nbb_cells[i].set_text(nbb_formatted_code);\n",
       "                        }\n",
       "                        break;\n",
       "                    }\n",
       "                }\n",
       "            }, 500);\n",
       "            "
      ],
      "text/plain": [
       "<IPython.core.display.Javascript object>"
      ]
     },
     "metadata": {},
     "output_type": "display_data"
    }
   ],
   "source": [
    "# idx_min = df_trees[df_trees[\"Features\"] == \"Chemical + Mineralogical + One-Hot\"][\n",
    "#     \"RMSE Test\", \"mean\"\n",
    "# ].idxmin()\n",
    "\n",
    "# df_trees.loc[[idx_min]].round(3)"
   ]
  },
  {
   "cell_type": "code",
   "execution_count": 24,
   "id": "c842ddcc",
   "metadata": {},
   "outputs": [
    {
     "data": {
      "text/html": [
       "<div>\n",
       "<style scoped>\n",
       "    .dataframe tbody tr th:only-of-type {\n",
       "        vertical-align: middle;\n",
       "    }\n",
       "\n",
       "    .dataframe tbody tr th {\n",
       "        vertical-align: top;\n",
       "    }\n",
       "\n",
       "    .dataframe thead tr th {\n",
       "        text-align: left;\n",
       "    }\n",
       "</style>\n",
       "<table border=\"1\" class=\"dataframe\">\n",
       "  <thead>\n",
       "    <tr>\n",
       "      <th></th>\n",
       "      <th>Model</th>\n",
       "      <th>Features</th>\n",
       "      <th>Cross Validation</th>\n",
       "      <th>Cross Validation Params</th>\n",
       "      <th colspan=\"2\" halign=\"left\">RMSE Test</th>\n",
       "      <th colspan=\"2\" halign=\"left\">MAE Test</th>\n",
       "      <th colspan=\"2\" halign=\"left\">MAPE Test</th>\n",
       "      <th colspan=\"2\" halign=\"left\">R2 Test</th>\n",
       "    </tr>\n",
       "    <tr>\n",
       "      <th></th>\n",
       "      <th></th>\n",
       "      <th></th>\n",
       "      <th></th>\n",
       "      <th></th>\n",
       "      <th>mean</th>\n",
       "      <th>std</th>\n",
       "      <th>mean</th>\n",
       "      <th>std</th>\n",
       "      <th>mean</th>\n",
       "      <th>std</th>\n",
       "      <th>mean</th>\n",
       "      <th>std</th>\n",
       "    </tr>\n",
       "  </thead>\n",
       "  <tbody>\n",
       "    <tr>\n",
       "      <th>424</th>\n",
       "      <td>Random Forest</td>\n",
       "      <td>Chemical + Mineralogical + CS3 + One-Hot</td>\n",
       "      <td>Blocking Time Series Split</td>\n",
       "      <td>{\"N_Splits\": 5, \"Repeats\": 1, \"train_size\": 0.8}</td>\n",
       "      <td>0.949</td>\n",
       "      <td>0.217</td>\n",
       "      <td>0.709</td>\n",
       "      <td>0.138</td>\n",
       "      <td>0.016</td>\n",
       "      <td>0.003</td>\n",
       "      <td>0.962</td>\n",
       "      <td>0.016</td>\n",
       "    </tr>\n",
       "  </tbody>\n",
       "</table>\n",
       "</div>"
      ],
      "text/plain": [
       "             Model                                  Features  \\\n",
       "                                                               \n",
       "424  Random Forest  Chemical + Mineralogical + CS3 + One-Hot   \n",
       "\n",
       "               Cross Validation  \\\n",
       "                                  \n",
       "424  Blocking Time Series Split   \n",
       "\n",
       "                              Cross Validation Params RMSE Test         \\\n",
       "                                                           mean    std   \n",
       "424  {\"N_Splits\": 5, \"Repeats\": 1, \"train_size\": 0.8}     0.949  0.217   \n",
       "\n",
       "    MAE Test        MAPE Test        R2 Test         \n",
       "        mean    std      mean    std    mean    std  \n",
       "424    0.709  0.138     0.016  0.003   0.962  0.016  "
      ]
     },
     "execution_count": 24,
     "metadata": {},
     "output_type": "execute_result"
    },
    {
     "data": {
      "application/javascript": [
       "\n",
       "            setTimeout(function() {\n",
       "                var nbb_cell_id = 24;\n",
       "                var nbb_unformatted_code = \"pattern = r\\\"One-Hot\\\"\\n\\nfeatures_filter = df_trees[\\\"Features\\\"].str.contains(\\n    pattern,\\n    regex=True,\\n)\\n\\nidx_min = df_trees[features_filter].round(3)[\\\"RMSE Test\\\", \\\"mean\\\"].idxmin()\\n\\ndf_trees.loc[[idx_min]].round(3)\";\n",
       "                var nbb_formatted_code = \"pattern = r\\\"One-Hot\\\"\\n\\nfeatures_filter = df_trees[\\\"Features\\\"].str.contains(\\n    pattern,\\n    regex=True,\\n)\\n\\nidx_min = df_trees[features_filter].round(3)[\\\"RMSE Test\\\", \\\"mean\\\"].idxmin()\\n\\ndf_trees.loc[[idx_min]].round(3)\";\n",
       "                var nbb_cells = Jupyter.notebook.get_cells();\n",
       "                for (var i = 0; i < nbb_cells.length; ++i) {\n",
       "                    if (nbb_cells[i].input_prompt_number == nbb_cell_id) {\n",
       "                        if (nbb_cells[i].get_text() == nbb_unformatted_code) {\n",
       "                             nbb_cells[i].set_text(nbb_formatted_code);\n",
       "                        }\n",
       "                        break;\n",
       "                    }\n",
       "                }\n",
       "            }, 500);\n",
       "            "
      ],
      "text/plain": [
       "<IPython.core.display.Javascript object>"
      ]
     },
     "metadata": {},
     "output_type": "display_data"
    }
   ],
   "source": [
    "pattern = r\"One-Hot\"\n",
    "\n",
    "features_filter = df_trees[\"Features\"].str.contains(\n",
    "    pattern,\n",
    "    regex=True,\n",
    ")\n",
    "\n",
    "idx_min = df_trees[features_filter].round(3)[\"RMSE Test\", \"mean\"].idxmin()\n",
    "\n",
    "df_trees.loc[[idx_min]].round(3)"
   ]
  },
  {
   "cell_type": "code",
   "execution_count": null,
   "id": "8936ddce",
   "metadata": {},
   "outputs": [],
   "source": []
  }
 ],
 "metadata": {
  "kernelspec": {
   "display_name": "ccs28-venv",
   "language": "python",
   "name": "ccs28-venv"
  },
  "language_info": {
   "codemirror_mode": {
    "name": "ipython",
    "version": 3
   },
   "file_extension": ".py",
   "mimetype": "text/x-python",
   "name": "python",
   "nbconvert_exporter": "python",
   "pygments_lexer": "ipython3",
   "version": "3.10.12"
  }
 },
 "nbformat": 4,
 "nbformat_minor": 5
}
