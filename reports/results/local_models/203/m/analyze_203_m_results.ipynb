{
 "cells": [
  {
   "cell_type": "code",
   "execution_count": 1,
   "id": "14b4fe5a",
   "metadata": {},
   "outputs": [
    {
     "data": {
      "application/javascript": [
       "\n",
       "            setTimeout(function() {\n",
       "                var nbb_cell_id = 1;\n",
       "                var nbb_unformatted_code = \"%load_ext nb_black\";\n",
       "                var nbb_formatted_code = \"%load_ext nb_black\";\n",
       "                var nbb_cells = Jupyter.notebook.get_cells();\n",
       "                for (var i = 0; i < nbb_cells.length; ++i) {\n",
       "                    if (nbb_cells[i].input_prompt_number == nbb_cell_id) {\n",
       "                        if (nbb_cells[i].get_text() == nbb_unformatted_code) {\n",
       "                             nbb_cells[i].set_text(nbb_formatted_code);\n",
       "                        }\n",
       "                        break;\n",
       "                    }\n",
       "                }\n",
       "            }, 500);\n",
       "            "
      ],
      "text/plain": [
       "<IPython.core.display.Javascript object>"
      ]
     },
     "metadata": {},
     "output_type": "display_data"
    }
   ],
   "source": [
    "%load_ext nb_black"
   ]
  },
  {
   "cell_type": "code",
   "execution_count": 2,
   "id": "6a4d72e6",
   "metadata": {},
   "outputs": [
    {
     "data": {
      "application/javascript": [
       "\n",
       "            setTimeout(function() {\n",
       "                var nbb_cell_id = 2;\n",
       "                var nbb_unformatted_code = \"import pandas as pd\\nimport os\\nimport glob\";\n",
       "                var nbb_formatted_code = \"import pandas as pd\\nimport os\\nimport glob\";\n",
       "                var nbb_cells = Jupyter.notebook.get_cells();\n",
       "                for (var i = 0; i < nbb_cells.length; ++i) {\n",
       "                    if (nbb_cells[i].input_prompt_number == nbb_cell_id) {\n",
       "                        if (nbb_cells[i].get_text() == nbb_unformatted_code) {\n",
       "                             nbb_cells[i].set_text(nbb_formatted_code);\n",
       "                        }\n",
       "                        break;\n",
       "                    }\n",
       "                }\n",
       "            }, 500);\n",
       "            "
      ],
      "text/plain": [
       "<IPython.core.display.Javascript object>"
      ]
     },
     "metadata": {},
     "output_type": "display_data"
    }
   ],
   "source": [
    "import pandas as pd\n",
    "import os\n",
    "import glob"
   ]
  },
  {
   "cell_type": "code",
   "execution_count": 5,
   "id": "4366fe99",
   "metadata": {},
   "outputs": [
    {
     "name": "stdout",
     "output_type": "stream",
     "text": [
      "BidirectionalGRU_results_grouped_1.csv\t  lstm_results_grouped_1.csv\r\n",
      "BidirectionalGRU_results_grouped_10.csv   lstm_results_grouped_10.csv\r\n",
      "BidirectionalGRU_results_grouped_2.csv\t  lstm_results_grouped_2.csv\r\n",
      "BidirectionalGRU_results_grouped_3.csv\t  lstm_results_grouped_3.csv\r\n",
      "BidirectionalGRU_results_grouped_4.csv\t  lstm_results_grouped_4.csv\r\n",
      "BidirectionalGRU_results_grouped_5.csv\t  lstm_results_grouped_5.csv\r\n",
      "BidirectionalGRU_results_grouped_6.csv\t  lstm_results_grouped_6.csv\r\n",
      "BidirectionalGRU_results_grouped_7.csv\t  lstm_results_grouped_7.csv\r\n",
      "BidirectionalGRU_results_grouped_8.csv\t  lstm_results_grouped_8.csv\r\n",
      "BidirectionalGRU_results_grouped_9.csv\t  lstm_results_grouped_9.csv\r\n",
      "BidirectionalLSTM_results_grouped_1.csv   mlp_results_grouped_1.csv\r\n",
      "BidirectionalLSTM_results_grouped_10.csv  mlp_results_grouped_10.csv\r\n",
      "BidirectionalLSTM_results_grouped_2.csv   mlp_results_grouped_2.csv\r\n",
      "BidirectionalLSTM_results_grouped_3.csv   mlp_results_grouped_3.csv\r\n",
      "BidirectionalLSTM_results_grouped_4.csv   mlp_results_grouped_4.csv\r\n",
      "BidirectionalLSTM_results_grouped_5.csv   mlp_results_grouped_5.csv\r\n",
      "BidirectionalLSTM_results_grouped_6.csv   mlp_results_grouped_6.csv\r\n",
      "BidirectionalLSTM_results_grouped_7.csv   mlp_results_grouped_7.csv\r\n",
      "BidirectionalLSTM_results_grouped_8.csv   mlp_results_grouped_8.csv\r\n",
      "BidirectionalLSTM_results_grouped_9.csv   mlp_results_grouped_9.csv\r\n",
      "decision_tree_results_grouped_1.csv\t  random_forest_results_grouped_1.csv\r\n",
      "decision_tree_results_grouped_10.csv\t  random_forest_results_grouped_10.csv\r\n",
      "decision_tree_results_grouped_2.csv\t  random_forest_results_grouped_2.csv\r\n",
      "decision_tree_results_grouped_3.csv\t  random_forest_results_grouped_3.csv\r\n",
      "decision_tree_results_grouped_4.csv\t  random_forest_results_grouped_4.csv\r\n",
      "decision_tree_results_grouped_5.csv\t  random_forest_results_grouped_5.csv\r\n",
      "decision_tree_results_grouped_6.csv\t  random_forest_results_grouped_6.csv\r\n",
      "decision_tree_results_grouped_7.csv\t  random_forest_results_grouped_7.csv\r\n",
      "decision_tree_results_grouped_8.csv\t  random_forest_results_grouped_8.csv\r\n",
      "decision_tree_results_grouped_9.csv\t  random_forest_results_grouped_9.csv\r\n",
      "gru_results_grouped_1.csv\t\t  transformer_results_grouped_1.csv\r\n",
      "gru_results_grouped_10.csv\t\t  transformer_results_grouped_10.csv\r\n",
      "gru_results_grouped_2.csv\t\t  transformer_results_grouped_2.csv\r\n",
      "gru_results_grouped_3.csv\t\t  transformer_results_grouped_3.csv\r\n",
      "gru_results_grouped_4.csv\t\t  transformer_results_grouped_4.csv\r\n",
      "gru_results_grouped_5.csv\t\t  transformer_results_grouped_5.csv\r\n",
      "gru_results_grouped_6.csv\t\t  transformer_results_grouped_6.csv\r\n",
      "gru_results_grouped_7.csv\t\t  transformer_results_grouped_7.csv\r\n",
      "gru_results_grouped_8.csv\t\t  transformer_results_grouped_8.csv\r\n",
      "gru_results_grouped_9.csv\t\t  transformer_results_grouped_9.csv\r\n",
      "linear_regression_results_grouped_1.csv   xgboost_results_grouped_1.csv\r\n",
      "linear_regression_results_grouped_10.csv  xgboost_results_grouped_10.csv\r\n",
      "linear_regression_results_grouped_2.csv   xgboost_results_grouped_2.csv\r\n",
      "linear_regression_results_grouped_3.csv   xgboost_results_grouped_3.csv\r\n",
      "linear_regression_results_grouped_4.csv   xgboost_results_grouped_4.csv\r\n",
      "linear_regression_results_grouped_5.csv   xgboost_results_grouped_5.csv\r\n",
      "linear_regression_results_grouped_6.csv   xgboost_results_grouped_6.csv\r\n",
      "linear_regression_results_grouped_7.csv   xgboost_results_grouped_7.csv\r\n",
      "linear_regression_results_grouped_8.csv   xgboost_results_grouped_8.csv\r\n",
      "linear_regression_results_grouped_9.csv   xgboost_results_grouped_9.csv\r\n"
     ]
    },
    {
     "data": {
      "application/javascript": [
       "\n",
       "            setTimeout(function() {\n",
       "                var nbb_cell_id = 5;\n",
       "                var nbb_unformatted_code = \"!ls grouped\";\n",
       "                var nbb_formatted_code = \"!ls grouped\";\n",
       "                var nbb_cells = Jupyter.notebook.get_cells();\n",
       "                for (var i = 0; i < nbb_cells.length; ++i) {\n",
       "                    if (nbb_cells[i].input_prompt_number == nbb_cell_id) {\n",
       "                        if (nbb_cells[i].get_text() == nbb_unformatted_code) {\n",
       "                             nbb_cells[i].set_text(nbb_formatted_code);\n",
       "                        }\n",
       "                        break;\n",
       "                    }\n",
       "                }\n",
       "            }, 500);\n",
       "            "
      ],
      "text/plain": [
       "<IPython.core.display.Javascript object>"
      ]
     },
     "metadata": {},
     "output_type": "display_data"
    }
   ],
   "source": [
    "!ls grouped"
   ]
  },
  {
   "cell_type": "markdown",
   "id": "1c598ecf",
   "metadata": {},
   "source": [
    "### Reading The files"
   ]
  },
  {
   "cell_type": "code",
   "execution_count": 10,
   "id": "defde4e2",
   "metadata": {},
   "outputs": [
    {
     "data": {
      "application/javascript": [
       "\n",
       "            setTimeout(function() {\n",
       "                var nbb_cell_id = 10;\n",
       "                var nbb_unformatted_code = \"path = \\\"/home/peressim/projects/ccs28-ml-modelling/reports/results/local_models/203/m/grouped/\\\"\\ncsv_files = glob.glob(os.path.join(path, \\\"*.csv\\\"))\";\n",
       "                var nbb_formatted_code = \"path = \\\"/home/peressim/projects/ccs28-ml-modelling/reports/results/local_models/203/m/grouped/\\\"\\ncsv_files = glob.glob(os.path.join(path, \\\"*.csv\\\"))\";\n",
       "                var nbb_cells = Jupyter.notebook.get_cells();\n",
       "                for (var i = 0; i < nbb_cells.length; ++i) {\n",
       "                    if (nbb_cells[i].input_prompt_number == nbb_cell_id) {\n",
       "                        if (nbb_cells[i].get_text() == nbb_unformatted_code) {\n",
       "                             nbb_cells[i].set_text(nbb_formatted_code);\n",
       "                        }\n",
       "                        break;\n",
       "                    }\n",
       "                }\n",
       "            }, 500);\n",
       "            "
      ],
      "text/plain": [
       "<IPython.core.display.Javascript object>"
      ]
     },
     "metadata": {},
     "output_type": "display_data"
    }
   ],
   "source": [
    "path = \"/home/peressim/projects/ccs28-ml-modelling/reports/results/local_models/203/m/grouped/\"\n",
    "csv_files = glob.glob(os.path.join(path, \"*.csv\"))"
   ]
  },
  {
   "cell_type": "code",
   "execution_count": 12,
   "id": "814290ed",
   "metadata": {},
   "outputs": [
    {
     "data": {
      "application/javascript": [
       "\n",
       "            setTimeout(function() {\n",
       "                var nbb_cell_id = 12;\n",
       "                var nbb_unformatted_code = \"results = []\\n\\nfor filepath in csv_files:\\n    df = pd.read_csv(filepath, header=[0, 1])\\n    results.append(df)\\ndf = pd.concat(results, ignore_index=True)\";\n",
       "                var nbb_formatted_code = \"results = []\\n\\nfor filepath in csv_files:\\n    df = pd.read_csv(filepath, header=[0, 1])\\n    results.append(df)\\ndf = pd.concat(results, ignore_index=True)\";\n",
       "                var nbb_cells = Jupyter.notebook.get_cells();\n",
       "                for (var i = 0; i < nbb_cells.length; ++i) {\n",
       "                    if (nbb_cells[i].input_prompt_number == nbb_cell_id) {\n",
       "                        if (nbb_cells[i].get_text() == nbb_unformatted_code) {\n",
       "                             nbb_cells[i].set_text(nbb_formatted_code);\n",
       "                        }\n",
       "                        break;\n",
       "                    }\n",
       "                }\n",
       "            }, 500);\n",
       "            "
      ],
      "text/plain": [
       "<IPython.core.display.Javascript object>"
      ]
     },
     "metadata": {},
     "output_type": "display_data"
    }
   ],
   "source": [
    "results = []\n",
    "\n",
    "for filepath in csv_files:\n",
    "    df = pd.read_csv(filepath, header=[0, 1])\n",
    "    results.append(df)\n",
    "df = pd.concat(results, ignore_index=True)"
   ]
  },
  {
   "cell_type": "markdown",
   "id": "4a377f20",
   "metadata": {},
   "source": [
    "### Renaming the Columns"
   ]
  },
  {
   "cell_type": "code",
   "execution_count": 13,
   "id": "4d344bfc",
   "metadata": {},
   "outputs": [
    {
     "data": {
      "application/javascript": [
       "\n",
       "            setTimeout(function() {\n",
       "                var nbb_cell_id = 13;\n",
       "                var nbb_unformatted_code = \"df.columns = pd.MultiIndex.from_tuples(\\n    list(\\n        {\\n            col: (col[0], \\\"\\\") if \\\"Unnamed\\\" in col[1] else col for col in df.columns\\n        }.values()\\n    )\\n)\";\n",
       "                var nbb_formatted_code = \"df.columns = pd.MultiIndex.from_tuples(\\n    list(\\n        {\\n            col: (col[0], \\\"\\\") if \\\"Unnamed\\\" in col[1] else col for col in df.columns\\n        }.values()\\n    )\\n)\";\n",
       "                var nbb_cells = Jupyter.notebook.get_cells();\n",
       "                for (var i = 0; i < nbb_cells.length; ++i) {\n",
       "                    if (nbb_cells[i].input_prompt_number == nbb_cell_id) {\n",
       "                        if (nbb_cells[i].get_text() == nbb_unformatted_code) {\n",
       "                             nbb_cells[i].set_text(nbb_formatted_code);\n",
       "                        }\n",
       "                        break;\n",
       "                    }\n",
       "                }\n",
       "            }, 500);\n",
       "            "
      ],
      "text/plain": [
       "<IPython.core.display.Javascript object>"
      ]
     },
     "metadata": {},
     "output_type": "display_data"
    }
   ],
   "source": [
    "df.columns = pd.MultiIndex.from_tuples(\n",
    "    list(\n",
    "        {\n",
    "            col: (col[0], \"\") if \"Unnamed\" in col[1] else col for col in df.columns\n",
    "        }.values()\n",
    "    )\n",
    ")"
   ]
  },
  {
   "cell_type": "markdown",
   "id": "b33fc47e",
   "metadata": {},
   "source": [
    "### Defining the Columns to work with"
   ]
  },
  {
   "cell_type": "code",
   "execution_count": 14,
   "id": "1e0beefd",
   "metadata": {},
   "outputs": [
    {
     "data": {
      "application/javascript": [
       "\n",
       "            setTimeout(function() {\n",
       "                var nbb_cell_id = 14;\n",
       "                var nbb_unformatted_code = \"cols = [\\n    (\\\"Model\\\", \\\"\\\"),\\n    (\\\"Features\\\", \\\"\\\"),\\n    (\\\"Cross Validation\\\", \\\"\\\"),\\n    (\\\"Cross Validation Params\\\", \\\"\\\"),\\n    (\\\"RMSE Test\\\", \\\"mean\\\"),\\n    (\\\"RMSE Test\\\", \\\"std\\\"),\\n    (\\\"MAE Test\\\", \\\"mean\\\"),\\n    (\\\"MAE Test\\\", \\\"std\\\"),\\n    (\\\"MAPE Test\\\", \\\"mean\\\"),\\n    (\\\"MAPE Test\\\", \\\"std\\\"),\\n    (\\\"R2 Test\\\", \\\"mean\\\"),\\n    (\\\"R2 Test\\\", \\\"std\\\"),\\n]\";\n",
       "                var nbb_formatted_code = \"cols = [\\n    (\\\"Model\\\", \\\"\\\"),\\n    (\\\"Features\\\", \\\"\\\"),\\n    (\\\"Cross Validation\\\", \\\"\\\"),\\n    (\\\"Cross Validation Params\\\", \\\"\\\"),\\n    (\\\"RMSE Test\\\", \\\"mean\\\"),\\n    (\\\"RMSE Test\\\", \\\"std\\\"),\\n    (\\\"MAE Test\\\", \\\"mean\\\"),\\n    (\\\"MAE Test\\\", \\\"std\\\"),\\n    (\\\"MAPE Test\\\", \\\"mean\\\"),\\n    (\\\"MAPE Test\\\", \\\"std\\\"),\\n    (\\\"R2 Test\\\", \\\"mean\\\"),\\n    (\\\"R2 Test\\\", \\\"std\\\"),\\n]\";\n",
       "                var nbb_cells = Jupyter.notebook.get_cells();\n",
       "                for (var i = 0; i < nbb_cells.length; ++i) {\n",
       "                    if (nbb_cells[i].input_prompt_number == nbb_cell_id) {\n",
       "                        if (nbb_cells[i].get_text() == nbb_unformatted_code) {\n",
       "                             nbb_cells[i].set_text(nbb_formatted_code);\n",
       "                        }\n",
       "                        break;\n",
       "                    }\n",
       "                }\n",
       "            }, 500);\n",
       "            "
      ],
      "text/plain": [
       "<IPython.core.display.Javascript object>"
      ]
     },
     "metadata": {},
     "output_type": "display_data"
    }
   ],
   "source": [
    "cols = [\n",
    "    (\"Model\", \"\"),\n",
    "    (\"Features\", \"\"),\n",
    "    (\"Cross Validation\", \"\"),\n",
    "    (\"Cross Validation Params\", \"\"),\n",
    "    (\"RMSE Test\", \"mean\"),\n",
    "    (\"RMSE Test\", \"std\"),\n",
    "    (\"MAE Test\", \"mean\"),\n",
    "    (\"MAE Test\", \"std\"),\n",
    "    (\"MAPE Test\", \"mean\"),\n",
    "    (\"MAPE Test\", \"std\"),\n",
    "    (\"R2 Test\", \"mean\"),\n",
    "    (\"R2 Test\", \"std\"),\n",
    "]"
   ]
  },
  {
   "cell_type": "code",
   "execution_count": 15,
   "id": "9effe4f3",
   "metadata": {},
   "outputs": [
    {
     "data": {
      "application/javascript": [
       "\n",
       "            setTimeout(function() {\n",
       "                var nbb_cell_id = 15;\n",
       "                var nbb_unformatted_code = \"cols_metrics = [\\n    (\\\"RMSE Test\\\", \\\"mean\\\"),\\n    (\\\"RMSE Test\\\", \\\"std\\\"),\\n    (\\\"MAE Test\\\", \\\"mean\\\"),\\n    (\\\"MAE Test\\\", \\\"std\\\"),\\n    (\\\"MAPE Test\\\", \\\"mean\\\"),\\n    (\\\"MAPE Test\\\", \\\"std\\\"),\\n    (\\\"R2 Test\\\", \\\"mean\\\"),\\n    (\\\"R2 Test\\\", \\\"std\\\"),\\n]\";\n",
       "                var nbb_formatted_code = \"cols_metrics = [\\n    (\\\"RMSE Test\\\", \\\"mean\\\"),\\n    (\\\"RMSE Test\\\", \\\"std\\\"),\\n    (\\\"MAE Test\\\", \\\"mean\\\"),\\n    (\\\"MAE Test\\\", \\\"std\\\"),\\n    (\\\"MAPE Test\\\", \\\"mean\\\"),\\n    (\\\"MAPE Test\\\", \\\"std\\\"),\\n    (\\\"R2 Test\\\", \\\"mean\\\"),\\n    (\\\"R2 Test\\\", \\\"std\\\"),\\n]\";\n",
       "                var nbb_cells = Jupyter.notebook.get_cells();\n",
       "                for (var i = 0; i < nbb_cells.length; ++i) {\n",
       "                    if (nbb_cells[i].input_prompt_number == nbb_cell_id) {\n",
       "                        if (nbb_cells[i].get_text() == nbb_unformatted_code) {\n",
       "                             nbb_cells[i].set_text(nbb_formatted_code);\n",
       "                        }\n",
       "                        break;\n",
       "                    }\n",
       "                }\n",
       "            }, 500);\n",
       "            "
      ],
      "text/plain": [
       "<IPython.core.display.Javascript object>"
      ]
     },
     "metadata": {},
     "output_type": "display_data"
    }
   ],
   "source": [
    "cols_metrics = [\n",
    "    (\"RMSE Test\", \"mean\"),\n",
    "    (\"RMSE Test\", \"std\"),\n",
    "    (\"MAE Test\", \"mean\"),\n",
    "    (\"MAE Test\", \"std\"),\n",
    "    (\"MAPE Test\", \"mean\"),\n",
    "    (\"MAPE Test\", \"std\"),\n",
    "    (\"R2 Test\", \"mean\"),\n",
    "    (\"R2 Test\", \"std\"),\n",
    "]"
   ]
  },
  {
   "cell_type": "markdown",
   "id": "bba69294",
   "metadata": {},
   "source": [
    "# Linear Regression"
   ]
  },
  {
   "cell_type": "code",
   "execution_count": 16,
   "id": "730f6342",
   "metadata": {},
   "outputs": [
    {
     "data": {
      "application/javascript": [
       "\n",
       "            setTimeout(function() {\n",
       "                var nbb_cell_id = 16;\n",
       "                var nbb_unformatted_code = \"df_linreg = df[df[(\\\"Model\\\", \\\"\\\")] == \\\"Linear Regression\\\"][cols].copy()\\n# df_linreg = df_linreg.drop([(\\\"Model\\\", \\\"\\\")], axis=1)\\ndf_linreg = df_linreg[df_linreg[\\\"Cross Validation\\\"] != \\\"Out of time Split\\\"]\";\n",
       "                var nbb_formatted_code = \"df_linreg = df[df[(\\\"Model\\\", \\\"\\\")] == \\\"Linear Regression\\\"][cols].copy()\\n# df_linreg = df_linreg.drop([(\\\"Model\\\", \\\"\\\")], axis=1)\\ndf_linreg = df_linreg[df_linreg[\\\"Cross Validation\\\"] != \\\"Out of time Split\\\"]\";\n",
       "                var nbb_cells = Jupyter.notebook.get_cells();\n",
       "                for (var i = 0; i < nbb_cells.length; ++i) {\n",
       "                    if (nbb_cells[i].input_prompt_number == nbb_cell_id) {\n",
       "                        if (nbb_cells[i].get_text() == nbb_unformatted_code) {\n",
       "                             nbb_cells[i].set_text(nbb_formatted_code);\n",
       "                        }\n",
       "                        break;\n",
       "                    }\n",
       "                }\n",
       "            }, 500);\n",
       "            "
      ],
      "text/plain": [
       "<IPython.core.display.Javascript object>"
      ]
     },
     "metadata": {},
     "output_type": "display_data"
    }
   ],
   "source": [
    "df_linreg = df[df[(\"Model\", \"\")] == \"Linear Regression\"][cols].copy()\n",
    "# df_linreg = df_linreg.drop([(\"Model\", \"\")], axis=1)\n",
    "df_linreg = df_linreg[df_linreg[\"Cross Validation\"] != \"Out of time Split\"]"
   ]
  },
  {
   "cell_type": "code",
   "execution_count": 18,
   "id": "8538a017",
   "metadata": {},
   "outputs": [
    {
     "data": {
      "text/html": [
       "<div>\n",
       "<style scoped>\n",
       "    .dataframe tbody tr th:only-of-type {\n",
       "        vertical-align: middle;\n",
       "    }\n",
       "\n",
       "    .dataframe tbody tr th {\n",
       "        vertical-align: top;\n",
       "    }\n",
       "\n",
       "    .dataframe thead tr th {\n",
       "        text-align: left;\n",
       "    }\n",
       "</style>\n",
       "<table border=\"1\" class=\"dataframe\">\n",
       "  <thead>\n",
       "    <tr>\n",
       "      <th></th>\n",
       "      <th>Model</th>\n",
       "      <th>Features</th>\n",
       "      <th>Cross Validation</th>\n",
       "      <th>Cross Validation Params</th>\n",
       "      <th colspan=\"2\" halign=\"left\">RMSE Test</th>\n",
       "      <th colspan=\"2\" halign=\"left\">MAE Test</th>\n",
       "      <th colspan=\"2\" halign=\"left\">MAPE Test</th>\n",
       "      <th colspan=\"2\" halign=\"left\">R2 Test</th>\n",
       "    </tr>\n",
       "    <tr>\n",
       "      <th></th>\n",
       "      <th></th>\n",
       "      <th></th>\n",
       "      <th></th>\n",
       "      <th></th>\n",
       "      <th>mean</th>\n",
       "      <th>std</th>\n",
       "      <th>mean</th>\n",
       "      <th>std</th>\n",
       "      <th>mean</th>\n",
       "      <th>std</th>\n",
       "      <th>mean</th>\n",
       "      <th>std</th>\n",
       "    </tr>\n",
       "  </thead>\n",
       "  <tbody>\n",
       "    <tr>\n",
       "      <th>284</th>\n",
       "      <td>Linear Regression</td>\n",
       "      <td>Chemical</td>\n",
       "      <td>Blocking Time Series Split</td>\n",
       "      <td>{\"N_Splits\": 5, \"Repeats\": 1, \"train_size\": 0.8}</td>\n",
       "      <td>4.661530</td>\n",
       "      <td>1.346892</td>\n",
       "      <td>3.525004</td>\n",
       "      <td>0.924943</td>\n",
       "      <td>0.080317</td>\n",
       "      <td>0.022893</td>\n",
       "      <td>0.561352</td>\n",
       "      <td>0.290521</td>\n",
       "    </tr>\n",
       "    <tr>\n",
       "      <th>286</th>\n",
       "      <td>Linear Regression</td>\n",
       "      <td>Chemical</td>\n",
       "      <td>Repeated KFold</td>\n",
       "      <td>{\"N_Splits\": 5, \"Repeats\": 3}</td>\n",
       "      <td>4.940453</td>\n",
       "      <td>0.126762</td>\n",
       "      <td>3.854596</td>\n",
       "      <td>0.094855</td>\n",
       "      <td>0.084603</td>\n",
       "      <td>0.002247</td>\n",
       "      <td>0.626285</td>\n",
       "      <td>0.018057</td>\n",
       "    </tr>\n",
       "    <tr>\n",
       "      <th>287</th>\n",
       "      <td>Linear Regression</td>\n",
       "      <td>Chemical</td>\n",
       "      <td>Time Series Split</td>\n",
       "      <td>{\"N_Splits\": 5, \"Repeats\": 1, \"Gap\": 0}</td>\n",
       "      <td>6.355011</td>\n",
       "      <td>1.656071</td>\n",
       "      <td>4.326490</td>\n",
       "      <td>0.799164</td>\n",
       "      <td>0.095684</td>\n",
       "      <td>0.016829</td>\n",
       "      <td>0.325513</td>\n",
       "      <td>0.411436</td>\n",
       "    </tr>\n",
       "  </tbody>\n",
       "</table>\n",
       "</div>"
      ],
      "text/plain": [
       "                 Model  Features            Cross Validation  \\\n",
       "                                                               \n",
       "284  Linear Regression  Chemical  Blocking Time Series Split   \n",
       "286  Linear Regression  Chemical              Repeated KFold   \n",
       "287  Linear Regression  Chemical           Time Series Split   \n",
       "\n",
       "                              Cross Validation Params RMSE Test            \\\n",
       "                                                           mean       std   \n",
       "284  {\"N_Splits\": 5, \"Repeats\": 1, \"train_size\": 0.8}  4.661530  1.346892   \n",
       "286                     {\"N_Splits\": 5, \"Repeats\": 3}  4.940453  0.126762   \n",
       "287           {\"N_Splits\": 5, \"Repeats\": 1, \"Gap\": 0}  6.355011  1.656071   \n",
       "\n",
       "     MAE Test           MAPE Test             R2 Test            \n",
       "         mean       std      mean       std      mean       std  \n",
       "284  3.525004  0.924943  0.080317  0.022893  0.561352  0.290521  \n",
       "286  3.854596  0.094855  0.084603  0.002247  0.626285  0.018057  \n",
       "287  4.326490  0.799164  0.095684  0.016829  0.325513  0.411436  "
      ]
     },
     "execution_count": 18,
     "metadata": {},
     "output_type": "execute_result"
    },
    {
     "data": {
      "application/javascript": [
       "\n",
       "            setTimeout(function() {\n",
       "                var nbb_cell_id = 18;\n",
       "                var nbb_unformatted_code = \"df_linreg[df_linreg[\\\"Features\\\"] == \\\"Chemical\\\"]\";\n",
       "                var nbb_formatted_code = \"df_linreg[df_linreg[\\\"Features\\\"] == \\\"Chemical\\\"]\";\n",
       "                var nbb_cells = Jupyter.notebook.get_cells();\n",
       "                for (var i = 0; i < nbb_cells.length; ++i) {\n",
       "                    if (nbb_cells[i].input_prompt_number == nbb_cell_id) {\n",
       "                        if (nbb_cells[i].get_text() == nbb_unformatted_code) {\n",
       "                             nbb_cells[i].set_text(nbb_formatted_code);\n",
       "                        }\n",
       "                        break;\n",
       "                    }\n",
       "                }\n",
       "            }, 500);\n",
       "            "
      ],
      "text/plain": [
       "<IPython.core.display.Javascript object>"
      ]
     },
     "metadata": {},
     "output_type": "display_data"
    }
   ],
   "source": [
    "df_linreg[df_linreg[\"Features\"] == \"Chemical\"]"
   ]
  },
  {
   "cell_type": "code",
   "execution_count": 20,
   "id": "9b7cedb7",
   "metadata": {},
   "outputs": [
    {
     "name": "stderr",
     "output_type": "stream",
     "text": [
      "/tmp/ipykernel_1853446/2542665763.py:1: PerformanceWarning: dropping on a non-lexsorted multi-index without a level parameter may impact performance.\n",
      "  df_linreg[df_linreg[\"Features\"] == \"Chemical\"].drop([\"Cross Validation Params\"], axis=1)\n"
     ]
    },
    {
     "data": {
      "text/html": [
       "<div>\n",
       "<style scoped>\n",
       "    .dataframe tbody tr th:only-of-type {\n",
       "        vertical-align: middle;\n",
       "    }\n",
       "\n",
       "    .dataframe tbody tr th {\n",
       "        vertical-align: top;\n",
       "    }\n",
       "\n",
       "    .dataframe thead tr th {\n",
       "        text-align: left;\n",
       "    }\n",
       "</style>\n",
       "<table border=\"1\" class=\"dataframe\">\n",
       "  <thead>\n",
       "    <tr>\n",
       "      <th></th>\n",
       "      <th>Model</th>\n",
       "      <th>Features</th>\n",
       "      <th>Cross Validation</th>\n",
       "      <th colspan=\"2\" halign=\"left\">RMSE Test</th>\n",
       "      <th colspan=\"2\" halign=\"left\">MAE Test</th>\n",
       "      <th colspan=\"2\" halign=\"left\">MAPE Test</th>\n",
       "      <th colspan=\"2\" halign=\"left\">R2 Test</th>\n",
       "    </tr>\n",
       "    <tr>\n",
       "      <th></th>\n",
       "      <th></th>\n",
       "      <th></th>\n",
       "      <th></th>\n",
       "      <th>mean</th>\n",
       "      <th>std</th>\n",
       "      <th>mean</th>\n",
       "      <th>std</th>\n",
       "      <th>mean</th>\n",
       "      <th>std</th>\n",
       "      <th>mean</th>\n",
       "      <th>std</th>\n",
       "    </tr>\n",
       "  </thead>\n",
       "  <tbody>\n",
       "    <tr>\n",
       "      <th>284</th>\n",
       "      <td>Linear Regression</td>\n",
       "      <td>Chemical</td>\n",
       "      <td>Blocking Time Series Split</td>\n",
       "      <td>4.661530</td>\n",
       "      <td>1.346892</td>\n",
       "      <td>3.525004</td>\n",
       "      <td>0.924943</td>\n",
       "      <td>0.080317</td>\n",
       "      <td>0.022893</td>\n",
       "      <td>0.561352</td>\n",
       "      <td>0.290521</td>\n",
       "    </tr>\n",
       "    <tr>\n",
       "      <th>286</th>\n",
       "      <td>Linear Regression</td>\n",
       "      <td>Chemical</td>\n",
       "      <td>Repeated KFold</td>\n",
       "      <td>4.940453</td>\n",
       "      <td>0.126762</td>\n",
       "      <td>3.854596</td>\n",
       "      <td>0.094855</td>\n",
       "      <td>0.084603</td>\n",
       "      <td>0.002247</td>\n",
       "      <td>0.626285</td>\n",
       "      <td>0.018057</td>\n",
       "    </tr>\n",
       "    <tr>\n",
       "      <th>287</th>\n",
       "      <td>Linear Regression</td>\n",
       "      <td>Chemical</td>\n",
       "      <td>Time Series Split</td>\n",
       "      <td>6.355011</td>\n",
       "      <td>1.656071</td>\n",
       "      <td>4.326490</td>\n",
       "      <td>0.799164</td>\n",
       "      <td>0.095684</td>\n",
       "      <td>0.016829</td>\n",
       "      <td>0.325513</td>\n",
       "      <td>0.411436</td>\n",
       "    </tr>\n",
       "  </tbody>\n",
       "</table>\n",
       "</div>"
      ],
      "text/plain": [
       "                 Model  Features            Cross Validation RMSE Test  \\\n",
       "                                                                  mean   \n",
       "284  Linear Regression  Chemical  Blocking Time Series Split  4.661530   \n",
       "286  Linear Regression  Chemical              Repeated KFold  4.940453   \n",
       "287  Linear Regression  Chemical           Time Series Split  6.355011   \n",
       "\n",
       "               MAE Test           MAPE Test             R2 Test            \n",
       "          std      mean       std      mean       std      mean       std  \n",
       "284  1.346892  3.525004  0.924943  0.080317  0.022893  0.561352  0.290521  \n",
       "286  0.126762  3.854596  0.094855  0.084603  0.002247  0.626285  0.018057  \n",
       "287  1.656071  4.326490  0.799164  0.095684  0.016829  0.325513  0.411436  "
      ]
     },
     "execution_count": 20,
     "metadata": {},
     "output_type": "execute_result"
    },
    {
     "data": {
      "application/javascript": [
       "\n",
       "            setTimeout(function() {\n",
       "                var nbb_cell_id = 20;\n",
       "                var nbb_unformatted_code = \"df_linreg[df_linreg[\\\"Features\\\"] == \\\"Chemical\\\"].drop([\\\"Cross Validation Params\\\"], axis=1)\";\n",
       "                var nbb_formatted_code = \"df_linreg[df_linreg[\\\"Features\\\"] == \\\"Chemical\\\"].drop([\\\"Cross Validation Params\\\"], axis=1)\";\n",
       "                var nbb_cells = Jupyter.notebook.get_cells();\n",
       "                for (var i = 0; i < nbb_cells.length; ++i) {\n",
       "                    if (nbb_cells[i].input_prompt_number == nbb_cell_id) {\n",
       "                        if (nbb_cells[i].get_text() == nbb_unformatted_code) {\n",
       "                             nbb_cells[i].set_text(nbb_formatted_code);\n",
       "                        }\n",
       "                        break;\n",
       "                    }\n",
       "                }\n",
       "            }, 500);\n",
       "            "
      ],
      "text/plain": [
       "<IPython.core.display.Javascript object>"
      ]
     },
     "metadata": {},
     "output_type": "display_data"
    }
   ],
   "source": [
    "df_linreg[df_linreg[\"Features\"] == \"Chemical\"].drop([\"Cross Validation Params\"], axis=1)"
   ]
  },
  {
   "cell_type": "code",
   "execution_count": 11,
   "id": "bda7ad8f",
   "metadata": {},
   "outputs": [
    {
     "data": {
      "text/html": [
       "<div>\n",
       "<style scoped>\n",
       "    .dataframe tbody tr th:only-of-type {\n",
       "        vertical-align: middle;\n",
       "    }\n",
       "\n",
       "    .dataframe tbody tr th {\n",
       "        vertical-align: top;\n",
       "    }\n",
       "\n",
       "    .dataframe thead tr th {\n",
       "        text-align: left;\n",
       "    }\n",
       "</style>\n",
       "<table border=\"1\" class=\"dataframe\">\n",
       "  <thead>\n",
       "    <tr>\n",
       "      <th></th>\n",
       "      <th>Model</th>\n",
       "      <th>Features</th>\n",
       "      <th>Cross Validation</th>\n",
       "      <th>Cross Validation Params</th>\n",
       "      <th colspan=\"2\" halign=\"left\">RMSE Test</th>\n",
       "      <th colspan=\"2\" halign=\"left\">MAE Test</th>\n",
       "      <th colspan=\"2\" halign=\"left\">MAPE Test</th>\n",
       "      <th colspan=\"2\" halign=\"left\">R2 Test</th>\n",
       "    </tr>\n",
       "    <tr>\n",
       "      <th></th>\n",
       "      <th></th>\n",
       "      <th></th>\n",
       "      <th></th>\n",
       "      <th></th>\n",
       "      <th>mean</th>\n",
       "      <th>std</th>\n",
       "      <th>mean</th>\n",
       "      <th>std</th>\n",
       "      <th>mean</th>\n",
       "      <th>std</th>\n",
       "      <th>mean</th>\n",
       "      <th>std</th>\n",
       "    </tr>\n",
       "  </thead>\n",
       "  <tbody>\n",
       "    <tr>\n",
       "      <th>346</th>\n",
       "      <td>Linear Regression</td>\n",
       "      <td>Chemical + Mineralogical</td>\n",
       "      <td>Repeated KFold</td>\n",
       "      <td>{\"N_Splits\": 5, \"Repeats\": 3}</td>\n",
       "      <td>3.564</td>\n",
       "      <td>0.152</td>\n",
       "      <td>2.756</td>\n",
       "      <td>0.095</td>\n",
       "      <td>0.066</td>\n",
       "      <td>0.002</td>\n",
       "      <td>0.495</td>\n",
       "      <td>0.055</td>\n",
       "    </tr>\n",
       "  </tbody>\n",
       "</table>\n",
       "</div>"
      ],
      "text/plain": [
       "                 Model                  Features Cross Validation  \\\n",
       "                                                                    \n",
       "346  Linear Regression  Chemical + Mineralogical   Repeated KFold   \n",
       "\n",
       "           Cross Validation Params RMSE Test        MAE Test        MAPE Test  \\\n",
       "                                        mean    std     mean    std      mean   \n",
       "346  {\"N_Splits\": 5, \"Repeats\": 3}     3.564  0.152    2.756  0.095     0.066   \n",
       "\n",
       "           R2 Test         \n",
       "       std    mean    std  \n",
       "346  0.002   0.495  0.055  "
      ]
     },
     "execution_count": 11,
     "metadata": {},
     "output_type": "execute_result"
    },
    {
     "data": {
      "application/javascript": [
       "\n",
       "            setTimeout(function() {\n",
       "                var nbb_cell_id = 11;\n",
       "                var nbb_unformatted_code = \"idx_min = df_linreg[df_linreg[\\\"Features\\\"] == \\\"Chemical + Mineralogical\\\"][\\n    \\\"RMSE Test\\\", \\\"mean\\\"\\n].idxmin()\\n\\ndf_linreg.loc[[idx_min]].round(3)\";\n",
       "                var nbb_formatted_code = \"idx_min = df_linreg[df_linreg[\\\"Features\\\"] == \\\"Chemical + Mineralogical\\\"][\\n    \\\"RMSE Test\\\", \\\"mean\\\"\\n].idxmin()\\n\\ndf_linreg.loc[[idx_min]].round(3)\";\n",
       "                var nbb_cells = Jupyter.notebook.get_cells();\n",
       "                for (var i = 0; i < nbb_cells.length; ++i) {\n",
       "                    if (nbb_cells[i].input_prompt_number == nbb_cell_id) {\n",
       "                        if (nbb_cells[i].get_text() == nbb_unformatted_code) {\n",
       "                             nbb_cells[i].set_text(nbb_formatted_code);\n",
       "                        }\n",
       "                        break;\n",
       "                    }\n",
       "                }\n",
       "            }, 500);\n",
       "            "
      ],
      "text/plain": [
       "<IPython.core.display.Javascript object>"
      ]
     },
     "metadata": {},
     "output_type": "display_data"
    }
   ],
   "source": [
    "idx_min = df_linreg[df_linreg[\"Features\"] == \"Chemical + Mineralogical\"][\n",
    "    \"RMSE Test\", \"mean\"\n",
    "].idxmin()\n",
    "\n",
    "df_linreg.loc[[idx_min]].round(3)"
   ]
  },
  {
   "cell_type": "code",
   "execution_count": 22,
   "id": "6b9e76b9",
   "metadata": {
    "scrolled": false
   },
   "outputs": [
    {
     "name": "stderr",
     "output_type": "stream",
     "text": [
      "/tmp/ipykernel_1853446/2110954779.py:6: UserWarning: This pattern is interpreted as a regular expression, and has match groups. To actually get the groups, use str.extract.\n",
      "  features_filter = df_linreg[\"Features\"].str.contains(\n"
     ]
    },
    {
     "data": {
      "text/html": [
       "<div>\n",
       "<style scoped>\n",
       "    .dataframe tbody tr th:only-of-type {\n",
       "        vertical-align: middle;\n",
       "    }\n",
       "\n",
       "    .dataframe tbody tr th {\n",
       "        vertical-align: top;\n",
       "    }\n",
       "\n",
       "    .dataframe thead tr th {\n",
       "        text-align: left;\n",
       "    }\n",
       "</style>\n",
       "<table border=\"1\" class=\"dataframe\">\n",
       "  <thead>\n",
       "    <tr>\n",
       "      <th></th>\n",
       "      <th>Model</th>\n",
       "      <th>Features</th>\n",
       "      <th>Cross Validation</th>\n",
       "      <th>Cross Validation Params</th>\n",
       "      <th colspan=\"2\" halign=\"left\">RMSE Test</th>\n",
       "      <th colspan=\"2\" halign=\"left\">MAE Test</th>\n",
       "      <th colspan=\"2\" halign=\"left\">MAPE Test</th>\n",
       "      <th colspan=\"2\" halign=\"left\">R2 Test</th>\n",
       "    </tr>\n",
       "    <tr>\n",
       "      <th></th>\n",
       "      <th></th>\n",
       "      <th></th>\n",
       "      <th></th>\n",
       "      <th></th>\n",
       "      <th>mean</th>\n",
       "      <th>std</th>\n",
       "      <th>mean</th>\n",
       "      <th>std</th>\n",
       "      <th>mean</th>\n",
       "      <th>std</th>\n",
       "      <th>mean</th>\n",
       "      <th>std</th>\n",
       "    </tr>\n",
       "  </thead>\n",
       "  <tbody>\n",
       "    <tr>\n",
       "      <th>427</th>\n",
       "      <td>Linear Regression</td>\n",
       "      <td>Chemical + Physical</td>\n",
       "      <td>Repeated KFold</td>\n",
       "      <td>{\"N_Splits\": 5, \"Repeats\": 3}</td>\n",
       "      <td>1.866</td>\n",
       "      <td>0.166</td>\n",
       "      <td>1.387</td>\n",
       "      <td>0.027</td>\n",
       "      <td>0.029</td>\n",
       "      <td>0.001</td>\n",
       "      <td>0.946</td>\n",
       "      <td>0.01</td>\n",
       "    </tr>\n",
       "  </tbody>\n",
       "</table>\n",
       "</div>"
      ],
      "text/plain": [
       "                 Model             Features Cross Validation  \\\n",
       "                                                               \n",
       "427  Linear Regression  Chemical + Physical   Repeated KFold   \n",
       "\n",
       "           Cross Validation Params RMSE Test        MAE Test        MAPE Test  \\\n",
       "                                        mean    std     mean    std      mean   \n",
       "427  {\"N_Splits\": 5, \"Repeats\": 3}     1.866  0.166    1.387  0.027     0.029   \n",
       "\n",
       "           R2 Test        \n",
       "       std    mean   std  \n",
       "427  0.001   0.946  0.01  "
      ]
     },
     "execution_count": 22,
     "metadata": {},
     "output_type": "execute_result"
    },
    {
     "data": {
      "application/javascript": [
       "\n",
       "            setTimeout(function() {\n",
       "                var nbb_cell_id = 22;\n",
       "                var nbb_unformatted_code = \"exclude = r\\\"(?!.*One-Hot)\\\"\\npattern1 = r\\\"Chemical \\\\+ CS*\\\"\\npattern2 = r\\\"Chemical \\\\+ Physical\\\"\\npattern = \\\"(\\\" + pattern1 + \\\"|\\\" + pattern2 + \\\")\\\" + exclude\\n\\nfeatures_filter = df_linreg[\\\"Features\\\"].str.contains(\\n    pattern,\\n    regex=True,\\n)\\n\\nidx_min = df_linreg[features_filter].round(3)[\\\"RMSE Test\\\", \\\"mean\\\"].idxmin()\\n\\ndf_linreg.loc[[idx_min]].round(3)\";\n",
       "                var nbb_formatted_code = \"exclude = r\\\"(?!.*One-Hot)\\\"\\npattern1 = r\\\"Chemical \\\\+ CS*\\\"\\npattern2 = r\\\"Chemical \\\\+ Physical\\\"\\npattern = \\\"(\\\" + pattern1 + \\\"|\\\" + pattern2 + \\\")\\\" + exclude\\n\\nfeatures_filter = df_linreg[\\\"Features\\\"].str.contains(\\n    pattern,\\n    regex=True,\\n)\\n\\nidx_min = df_linreg[features_filter].round(3)[\\\"RMSE Test\\\", \\\"mean\\\"].idxmin()\\n\\ndf_linreg.loc[[idx_min]].round(3)\";\n",
       "                var nbb_cells = Jupyter.notebook.get_cells();\n",
       "                for (var i = 0; i < nbb_cells.length; ++i) {\n",
       "                    if (nbb_cells[i].input_prompt_number == nbb_cell_id) {\n",
       "                        if (nbb_cells[i].get_text() == nbb_unformatted_code) {\n",
       "                             nbb_cells[i].set_text(nbb_formatted_code);\n",
       "                        }\n",
       "                        break;\n",
       "                    }\n",
       "                }\n",
       "            }, 500);\n",
       "            "
      ],
      "text/plain": [
       "<IPython.core.display.Javascript object>"
      ]
     },
     "metadata": {},
     "output_type": "display_data"
    }
   ],
   "source": [
    "exclude = r\"(?!.*One-Hot)\"\n",
    "pattern1 = r\"Chemical \\+ CS*\"\n",
    "pattern2 = r\"Chemical \\+ Physical\"\n",
    "pattern = \"(\" + pattern1 + \"|\" + pattern2 + \")\" + exclude\n",
    "\n",
    "features_filter = df_linreg[\"Features\"].str.contains(\n",
    "    pattern,\n",
    "    regex=True,\n",
    ")\n",
    "\n",
    "idx_min = df_linreg[features_filter].round(3)[\"RMSE Test\", \"mean\"].idxmin()\n",
    "\n",
    "df_linreg.loc[[idx_min]].round(3)"
   ]
  },
  {
   "cell_type": "code",
   "execution_count": 24,
   "id": "3cb54a61",
   "metadata": {},
   "outputs": [
    {
     "name": "stderr",
     "output_type": "stream",
     "text": [
      "/tmp/ipykernel_1853446/558719552.py:1: PerformanceWarning: dropping on a non-lexsorted multi-index without a level parameter may impact performance.\n",
      "  df_linreg[df_linreg[\"Features\"] == \"Chemical + Properties CS Less\"].drop([\"Cross Validation Params\"], axis=1)\n"
     ]
    },
    {
     "data": {
      "text/html": [
       "<div>\n",
       "<style scoped>\n",
       "    .dataframe tbody tr th:only-of-type {\n",
       "        vertical-align: middle;\n",
       "    }\n",
       "\n",
       "    .dataframe tbody tr th {\n",
       "        vertical-align: top;\n",
       "    }\n",
       "\n",
       "    .dataframe thead tr th {\n",
       "        text-align: left;\n",
       "    }\n",
       "</style>\n",
       "<table border=\"1\" class=\"dataframe\">\n",
       "  <thead>\n",
       "    <tr>\n",
       "      <th></th>\n",
       "      <th>Model</th>\n",
       "      <th>Features</th>\n",
       "      <th>Cross Validation</th>\n",
       "      <th colspan=\"2\" halign=\"left\">RMSE Test</th>\n",
       "      <th colspan=\"2\" halign=\"left\">MAE Test</th>\n",
       "      <th colspan=\"2\" halign=\"left\">MAPE Test</th>\n",
       "      <th colspan=\"2\" halign=\"left\">R2 Test</th>\n",
       "    </tr>\n",
       "    <tr>\n",
       "      <th></th>\n",
       "      <th></th>\n",
       "      <th></th>\n",
       "      <th></th>\n",
       "      <th>mean</th>\n",
       "      <th>std</th>\n",
       "      <th>mean</th>\n",
       "      <th>std</th>\n",
       "      <th>mean</th>\n",
       "      <th>std</th>\n",
       "      <th>mean</th>\n",
       "      <th>std</th>\n",
       "    </tr>\n",
       "  </thead>\n",
       "  <tbody>\n",
       "    <tr>\n",
       "      <th>770</th>\n",
       "      <td>Linear Regression</td>\n",
       "      <td>Chemical + Properties CS Less</td>\n",
       "      <td>Blocking Time Series Split</td>\n",
       "      <td>5.603626</td>\n",
       "      <td>2.394061</td>\n",
       "      <td>3.279949</td>\n",
       "      <td>0.573029</td>\n",
       "      <td>0.075867</td>\n",
       "      <td>0.016491</td>\n",
       "      <td>0.338527</td>\n",
       "      <td>0.552693</td>\n",
       "    </tr>\n",
       "    <tr>\n",
       "      <th>772</th>\n",
       "      <td>Linear Regression</td>\n",
       "      <td>Chemical + Properties CS Less</td>\n",
       "      <td>Repeated KFold</td>\n",
       "      <td>4.525913</td>\n",
       "      <td>0.848710</td>\n",
       "      <td>3.200542</td>\n",
       "      <td>0.077607</td>\n",
       "      <td>0.069886</td>\n",
       "      <td>0.001776</td>\n",
       "      <td>0.675823</td>\n",
       "      <td>0.133125</td>\n",
       "    </tr>\n",
       "    <tr>\n",
       "      <th>773</th>\n",
       "      <td>Linear Regression</td>\n",
       "      <td>Chemical + Properties CS Less</td>\n",
       "      <td>Time Series Split</td>\n",
       "      <td>5.250715</td>\n",
       "      <td>0.882195</td>\n",
       "      <td>3.696008</td>\n",
       "      <td>0.478206</td>\n",
       "      <td>0.082560</td>\n",
       "      <td>0.013252</td>\n",
       "      <td>0.568321</td>\n",
       "      <td>0.177886</td>\n",
       "    </tr>\n",
       "  </tbody>\n",
       "</table>\n",
       "</div>"
      ],
      "text/plain": [
       "                 Model                       Features  \\\n",
       "                                                        \n",
       "770  Linear Regression  Chemical + Properties CS Less   \n",
       "772  Linear Regression  Chemical + Properties CS Less   \n",
       "773  Linear Regression  Chemical + Properties CS Less   \n",
       "\n",
       "               Cross Validation RMSE Test            MAE Test            \\\n",
       "                                     mean       std      mean       std   \n",
       "770  Blocking Time Series Split  5.603626  2.394061  3.279949  0.573029   \n",
       "772              Repeated KFold  4.525913  0.848710  3.200542  0.077607   \n",
       "773           Time Series Split  5.250715  0.882195  3.696008  0.478206   \n",
       "\n",
       "    MAPE Test             R2 Test            \n",
       "         mean       std      mean       std  \n",
       "770  0.075867  0.016491  0.338527  0.552693  \n",
       "772  0.069886  0.001776  0.675823  0.133125  \n",
       "773  0.082560  0.013252  0.568321  0.177886  "
      ]
     },
     "execution_count": 24,
     "metadata": {},
     "output_type": "execute_result"
    },
    {
     "data": {
      "application/javascript": [
       "\n",
       "            setTimeout(function() {\n",
       "                var nbb_cell_id = 24;\n",
       "                var nbb_unformatted_code = \"df_linreg[df_linreg[\\\"Features\\\"] == \\\"Chemical + Properties CS Less\\\"].drop([\\\"Cross Validation Params\\\"], axis=1)\";\n",
       "                var nbb_formatted_code = \"df_linreg[df_linreg[\\\"Features\\\"] == \\\"Chemical + Properties CS Less\\\"].drop(\\n    [\\\"Cross Validation Params\\\"], axis=1\\n)\";\n",
       "                var nbb_cells = Jupyter.notebook.get_cells();\n",
       "                for (var i = 0; i < nbb_cells.length; ++i) {\n",
       "                    if (nbb_cells[i].input_prompt_number == nbb_cell_id) {\n",
       "                        if (nbb_cells[i].get_text() == nbb_unformatted_code) {\n",
       "                             nbb_cells[i].set_text(nbb_formatted_code);\n",
       "                        }\n",
       "                        break;\n",
       "                    }\n",
       "                }\n",
       "            }, 500);\n",
       "            "
      ],
      "text/plain": [
       "<IPython.core.display.Javascript object>"
      ]
     },
     "metadata": {},
     "output_type": "display_data"
    }
   ],
   "source": [
    "df_linreg[df_linreg[\"Features\"] == \"Chemical + Properties CS Less\"].drop(\n",
    "    [\"Cross Validation Params\"], axis=1\n",
    ")"
   ]
  },
  {
   "cell_type": "code",
   "execution_count": 33,
   "id": "57fa01c0",
   "metadata": {},
   "outputs": [
    {
     "name": "stderr",
     "output_type": "stream",
     "text": [
      "/tmp/ipykernel_1853446/2396273699.py:1: PerformanceWarning: dropping on a non-lexsorted multi-index without a level parameter may impact performance.\n",
      "  df_linreg[df_linreg[\"Features\"] == \"Chemical + Physical\"].drop(\n"
     ]
    },
    {
     "data": {
      "text/html": [
       "<div>\n",
       "<style scoped>\n",
       "    .dataframe tbody tr th:only-of-type {\n",
       "        vertical-align: middle;\n",
       "    }\n",
       "\n",
       "    .dataframe tbody tr th {\n",
       "        vertical-align: top;\n",
       "    }\n",
       "\n",
       "    .dataframe thead tr th {\n",
       "        text-align: left;\n",
       "    }\n",
       "</style>\n",
       "<table border=\"1\" class=\"dataframe\">\n",
       "  <thead>\n",
       "    <tr>\n",
       "      <th></th>\n",
       "      <th>Model</th>\n",
       "      <th>Features</th>\n",
       "      <th>Cross Validation</th>\n",
       "      <th colspan=\"2\" halign=\"left\">RMSE Test</th>\n",
       "      <th colspan=\"2\" halign=\"left\">MAE Test</th>\n",
       "      <th colspan=\"2\" halign=\"left\">MAPE Test</th>\n",
       "      <th colspan=\"2\" halign=\"left\">R2 Test</th>\n",
       "    </tr>\n",
       "    <tr>\n",
       "      <th></th>\n",
       "      <th></th>\n",
       "      <th></th>\n",
       "      <th></th>\n",
       "      <th>mean</th>\n",
       "      <th>std</th>\n",
       "      <th>mean</th>\n",
       "      <th>std</th>\n",
       "      <th>mean</th>\n",
       "      <th>std</th>\n",
       "      <th>mean</th>\n",
       "      <th>std</th>\n",
       "    </tr>\n",
       "  </thead>\n",
       "  <tbody>\n",
       "    <tr>\n",
       "      <th>425</th>\n",
       "      <td>Linear Regression</td>\n",
       "      <td>Chemical + Physical</td>\n",
       "      <td>Blocking Time Series Split</td>\n",
       "      <td>2.135715</td>\n",
       "      <td>0.639438</td>\n",
       "      <td>1.611403</td>\n",
       "      <td>0.497344</td>\n",
       "      <td>0.035164</td>\n",
       "      <td>0.009556</td>\n",
       "      <td>0.893726</td>\n",
       "      <td>0.114610</td>\n",
       "    </tr>\n",
       "    <tr>\n",
       "      <th>427</th>\n",
       "      <td>Linear Regression</td>\n",
       "      <td>Chemical + Physical</td>\n",
       "      <td>Repeated KFold</td>\n",
       "      <td>1.866036</td>\n",
       "      <td>0.166047</td>\n",
       "      <td>1.386781</td>\n",
       "      <td>0.027041</td>\n",
       "      <td>0.029267</td>\n",
       "      <td>0.000632</td>\n",
       "      <td>0.946298</td>\n",
       "      <td>0.009931</td>\n",
       "    </tr>\n",
       "    <tr>\n",
       "      <th>428</th>\n",
       "      <td>Linear Regression</td>\n",
       "      <td>Chemical + Physical</td>\n",
       "      <td>Time Series Split</td>\n",
       "      <td>1.866386</td>\n",
       "      <td>0.141695</td>\n",
       "      <td>1.438472</td>\n",
       "      <td>0.092095</td>\n",
       "      <td>0.030778</td>\n",
       "      <td>0.001753</td>\n",
       "      <td>0.947857</td>\n",
       "      <td>0.014206</td>\n",
       "    </tr>\n",
       "  </tbody>\n",
       "</table>\n",
       "</div>"
      ],
      "text/plain": [
       "                 Model             Features            Cross Validation  \\\n",
       "                                                                          \n",
       "425  Linear Regression  Chemical + Physical  Blocking Time Series Split   \n",
       "427  Linear Regression  Chemical + Physical              Repeated KFold   \n",
       "428  Linear Regression  Chemical + Physical           Time Series Split   \n",
       "\n",
       "    RMSE Test            MAE Test           MAPE Test             R2 Test  \\\n",
       "         mean       std      mean       std      mean       std      mean   \n",
       "425  2.135715  0.639438  1.611403  0.497344  0.035164  0.009556  0.893726   \n",
       "427  1.866036  0.166047  1.386781  0.027041  0.029267  0.000632  0.946298   \n",
       "428  1.866386  0.141695  1.438472  0.092095  0.030778  0.001753  0.947857   \n",
       "\n",
       "               \n",
       "          std  \n",
       "425  0.114610  \n",
       "427  0.009931  \n",
       "428  0.014206  "
      ]
     },
     "execution_count": 33,
     "metadata": {},
     "output_type": "execute_result"
    },
    {
     "data": {
      "application/javascript": [
       "\n",
       "            setTimeout(function() {\n",
       "                var nbb_cell_id = 33;\n",
       "                var nbb_unformatted_code = \"df_linreg[df_linreg[\\\"Features\\\"] == \\\"Chemical + Physical\\\"].drop(\\n    [\\\"Cross Validation Params\\\"], axis=1\\n)\";\n",
       "                var nbb_formatted_code = \"df_linreg[df_linreg[\\\"Features\\\"] == \\\"Chemical + Physical\\\"].drop(\\n    [\\\"Cross Validation Params\\\"], axis=1\\n)\";\n",
       "                var nbb_cells = Jupyter.notebook.get_cells();\n",
       "                for (var i = 0; i < nbb_cells.length; ++i) {\n",
       "                    if (nbb_cells[i].input_prompt_number == nbb_cell_id) {\n",
       "                        if (nbb_cells[i].get_text() == nbb_unformatted_code) {\n",
       "                             nbb_cells[i].set_text(nbb_formatted_code);\n",
       "                        }\n",
       "                        break;\n",
       "                    }\n",
       "                }\n",
       "            }, 500);\n",
       "            "
      ],
      "text/plain": [
       "<IPython.core.display.Javascript object>"
      ]
     },
     "metadata": {},
     "output_type": "display_data"
    }
   ],
   "source": [
    "df_linreg[df_linreg[\"Features\"] == \"Chemical + Physical\"].drop(\n",
    "    [\"Cross Validation Params\"], axis=1\n",
    ")"
   ]
  },
  {
   "cell_type": "markdown",
   "id": "18dc8dba",
   "metadata": {},
   "source": [
    "# Neural Networks"
   ]
  },
  {
   "cell_type": "code",
   "execution_count": 26,
   "id": "4053eed6",
   "metadata": {},
   "outputs": [
    {
     "data": {
      "application/javascript": [
       "\n",
       "            setTimeout(function() {\n",
       "                var nbb_cell_id = 26;\n",
       "                var nbb_unformatted_code = \"neural_networks = [\\n    \\\"MLP\\\",\\n    \\\"LSTM\\\",\\n    \\\"GRU\\\",\\n    \\\"BidirectionalGRU\\\",\\n    \\\"BidirectionalLSTM\\\",\\n    \\\"Transformer\\\",\\n]\\n\\ndf_nn = df[df[(\\\"Model\\\", \\\"\\\")].isin(neural_networks)][cols].copy()\\n# df_nn = df_nn.drop([(\\\"Model\\\", \\\"\\\")], axis=1)\\ndf_nn = df_nn[df_nn[\\\"Cross Validation\\\"] != \\\"Out of time Split\\\"]\";\n",
       "                var nbb_formatted_code = \"neural_networks = [\\n    \\\"MLP\\\",\\n    \\\"LSTM\\\",\\n    \\\"GRU\\\",\\n    \\\"BidirectionalGRU\\\",\\n    \\\"BidirectionalLSTM\\\",\\n    \\\"Transformer\\\",\\n]\\n\\ndf_nn = df[df[(\\\"Model\\\", \\\"\\\")].isin(neural_networks)][cols].copy()\\n# df_nn = df_nn.drop([(\\\"Model\\\", \\\"\\\")], axis=1)\\ndf_nn = df_nn[df_nn[\\\"Cross Validation\\\"] != \\\"Out of time Split\\\"]\";\n",
       "                var nbb_cells = Jupyter.notebook.get_cells();\n",
       "                for (var i = 0; i < nbb_cells.length; ++i) {\n",
       "                    if (nbb_cells[i].input_prompt_number == nbb_cell_id) {\n",
       "                        if (nbb_cells[i].get_text() == nbb_unformatted_code) {\n",
       "                             nbb_cells[i].set_text(nbb_formatted_code);\n",
       "                        }\n",
       "                        break;\n",
       "                    }\n",
       "                }\n",
       "            }, 500);\n",
       "            "
      ],
      "text/plain": [
       "<IPython.core.display.Javascript object>"
      ]
     },
     "metadata": {},
     "output_type": "display_data"
    }
   ],
   "source": [
    "neural_networks = [\n",
    "    \"MLP\",\n",
    "    \"LSTM\",\n",
    "    \"GRU\",\n",
    "    \"BidirectionalGRU\",\n",
    "    \"BidirectionalLSTM\",\n",
    "    \"Transformer\",\n",
    "]\n",
    "\n",
    "df_nn = df[df[(\"Model\", \"\")].isin(neural_networks)][cols].copy()\n",
    "# df_nn = df_nn.drop([(\"Model\", \"\")], axis=1)\n",
    "df_nn = df_nn[df_nn[\"Cross Validation\"] != \"Out of time Split\"]"
   ]
  },
  {
   "cell_type": "code",
   "execution_count": 29,
   "id": "3d4bd7f2",
   "metadata": {},
   "outputs": [
    {
     "name": "stderr",
     "output_type": "stream",
     "text": [
      "/tmp/ipykernel_1853446/2048131733.py:3: PerformanceWarning: dropping on a non-lexsorted multi-index without a level parameter may impact performance.\n",
      "  df_nn.drop(\n"
     ]
    },
    {
     "data": {
      "text/html": [
       "<div>\n",
       "<style scoped>\n",
       "    .dataframe tbody tr th:only-of-type {\n",
       "        vertical-align: middle;\n",
       "    }\n",
       "\n",
       "    .dataframe tbody tr th {\n",
       "        vertical-align: top;\n",
       "    }\n",
       "\n",
       "    .dataframe thead tr th {\n",
       "        text-align: left;\n",
       "    }\n",
       "</style>\n",
       "<table border=\"1\" class=\"dataframe\">\n",
       "  <thead>\n",
       "    <tr>\n",
       "      <th></th>\n",
       "      <th>Model</th>\n",
       "      <th>Features</th>\n",
       "      <th>Cross Validation</th>\n",
       "      <th colspan=\"2\" halign=\"left\">RMSE Test</th>\n",
       "      <th colspan=\"2\" halign=\"left\">MAE Test</th>\n",
       "      <th colspan=\"2\" halign=\"left\">MAPE Test</th>\n",
       "      <th colspan=\"2\" halign=\"left\">R2 Test</th>\n",
       "    </tr>\n",
       "    <tr>\n",
       "      <th></th>\n",
       "      <th></th>\n",
       "      <th></th>\n",
       "      <th></th>\n",
       "      <th>mean</th>\n",
       "      <th>std</th>\n",
       "      <th>mean</th>\n",
       "      <th>std</th>\n",
       "      <th>mean</th>\n",
       "      <th>std</th>\n",
       "      <th>mean</th>\n",
       "      <th>std</th>\n",
       "    </tr>\n",
       "  </thead>\n",
       "  <tbody>\n",
       "    <tr>\n",
       "      <th>378</th>\n",
       "      <td>LSTM</td>\n",
       "      <td>Chemical</td>\n",
       "      <td>Repeated KFold</td>\n",
       "      <td>3.021</td>\n",
       "      <td>0.16</td>\n",
       "      <td>2.324</td>\n",
       "      <td>0.078</td>\n",
       "      <td>0.05</td>\n",
       "      <td>0.002</td>\n",
       "      <td>0.86</td>\n",
       "      <td>0.016</td>\n",
       "    </tr>\n",
       "  </tbody>\n",
       "</table>\n",
       "</div>"
      ],
      "text/plain": [
       "    Model  Features Cross Validation RMSE Test       MAE Test         \\\n",
       "                                          mean   std     mean    std   \n",
       "378  LSTM  Chemical   Repeated KFold     3.021  0.16    2.324  0.078   \n",
       "\n",
       "    MAPE Test        R2 Test         \n",
       "         mean    std    mean    std  \n",
       "378      0.05  0.002    0.86  0.016  "
      ]
     },
     "execution_count": 29,
     "metadata": {},
     "output_type": "execute_result"
    },
    {
     "data": {
      "application/javascript": [
       "\n",
       "            setTimeout(function() {\n",
       "                var nbb_cell_id = 29;\n",
       "                var nbb_unformatted_code = \"idx_min = df_nn[df_nn[\\\"Features\\\"] == \\\"Chemical\\\"][\\\"RMSE Test\\\", \\\"mean\\\"].idxmin()\\n\\ndf_nn.drop(\\n    [\\\"Cross Validation Params\\\"], axis=1\\n).loc[[idx_min]].round(3)\";\n",
       "                var nbb_formatted_code = \"idx_min = df_nn[df_nn[\\\"Features\\\"] == \\\"Chemical\\\"][\\\"RMSE Test\\\", \\\"mean\\\"].idxmin()\\n\\ndf_nn.drop([\\\"Cross Validation Params\\\"], axis=1).loc[[idx_min]].round(3)\";\n",
       "                var nbb_cells = Jupyter.notebook.get_cells();\n",
       "                for (var i = 0; i < nbb_cells.length; ++i) {\n",
       "                    if (nbb_cells[i].input_prompt_number == nbb_cell_id) {\n",
       "                        if (nbb_cells[i].get_text() == nbb_unformatted_code) {\n",
       "                             nbb_cells[i].set_text(nbb_formatted_code);\n",
       "                        }\n",
       "                        break;\n",
       "                    }\n",
       "                }\n",
       "            }, 500);\n",
       "            "
      ],
      "text/plain": [
       "<IPython.core.display.Javascript object>"
      ]
     },
     "metadata": {},
     "output_type": "display_data"
    }
   ],
   "source": [
    "idx_min = df_nn[df_nn[\"Features\"] == \"Chemical\"][\"RMSE Test\", \"mean\"].idxmin()\n",
    "\n",
    "df_nn.drop([\"Cross Validation Params\"], axis=1).loc[[idx_min]].round(3)"
   ]
  },
  {
   "cell_type": "code",
   "execution_count": 37,
   "id": "c168429a",
   "metadata": {
    "scrolled": true
   },
   "outputs": [
    {
     "name": "stderr",
     "output_type": "stream",
     "text": [
      "/tmp/ipykernel_1853446/1869263897.py:7: UserWarning: This pattern is interpreted as a regular expression, and has match groups. To actually get the groups, use str.extract.\n",
      "  features_filter = df_nn[\"Features\"].str.contains(\n",
      "/tmp/ipykernel_1853446/1869263897.py:14: PerformanceWarning: dropping on a non-lexsorted multi-index without a level parameter may impact performance.\n",
      "  df_nn.drop([\"Cross Validation Params\"], axis=1).loc[[idx_min]].round(3)\n"
     ]
    },
    {
     "data": {
      "text/html": [
       "<div>\n",
       "<style scoped>\n",
       "    .dataframe tbody tr th:only-of-type {\n",
       "        vertical-align: middle;\n",
       "    }\n",
       "\n",
       "    .dataframe tbody tr th {\n",
       "        vertical-align: top;\n",
       "    }\n",
       "\n",
       "    .dataframe thead tr th {\n",
       "        text-align: left;\n",
       "    }\n",
       "</style>\n",
       "<table border=\"1\" class=\"dataframe\">\n",
       "  <thead>\n",
       "    <tr>\n",
       "      <th></th>\n",
       "      <th>Model</th>\n",
       "      <th>Features</th>\n",
       "      <th>Cross Validation</th>\n",
       "      <th colspan=\"2\" halign=\"left\">RMSE Test</th>\n",
       "      <th colspan=\"2\" halign=\"left\">MAE Test</th>\n",
       "      <th colspan=\"2\" halign=\"left\">MAPE Test</th>\n",
       "      <th colspan=\"2\" halign=\"left\">R2 Test</th>\n",
       "    </tr>\n",
       "    <tr>\n",
       "      <th></th>\n",
       "      <th></th>\n",
       "      <th></th>\n",
       "      <th></th>\n",
       "      <th>mean</th>\n",
       "      <th>std</th>\n",
       "      <th>mean</th>\n",
       "      <th>std</th>\n",
       "      <th>mean</th>\n",
       "      <th>std</th>\n",
       "      <th>mean</th>\n",
       "      <th>std</th>\n",
       "    </tr>\n",
       "  </thead>\n",
       "  <tbody>\n",
       "    <tr>\n",
       "      <th>644</th>\n",
       "      <td>BidirectionalGRU</td>\n",
       "      <td>Chemical + CS1 + CS3 + CS7</td>\n",
       "      <td>Repeated KFold</td>\n",
       "      <td>1.624</td>\n",
       "      <td>0.028</td>\n",
       "      <td>1.262</td>\n",
       "      <td>0.015</td>\n",
       "      <td>0.027</td>\n",
       "      <td>0.0</td>\n",
       "      <td>0.96</td>\n",
       "      <td>0.002</td>\n",
       "    </tr>\n",
       "  </tbody>\n",
       "</table>\n",
       "</div>"
      ],
      "text/plain": [
       "                Model                    Features Cross Validation RMSE Test  \\\n",
       "                                                                        mean   \n",
       "644  BidirectionalGRU  Chemical + CS1 + CS3 + CS7   Repeated KFold     1.624   \n",
       "\n",
       "           MAE Test        MAPE Test      R2 Test         \n",
       "       std     mean    std      mean  std    mean    std  \n",
       "644  0.028    1.262  0.015     0.027  0.0    0.96  0.002  "
      ]
     },
     "execution_count": 37,
     "metadata": {},
     "output_type": "execute_result"
    },
    {
     "data": {
      "application/javascript": [
       "\n",
       "            setTimeout(function() {\n",
       "                var nbb_cell_id = 37;\n",
       "                var nbb_unformatted_code = \"exclude = r\\\"(?!.*One-Hot)\\\"\\npattern1 = r\\\"Chemical \\\\+ CS*\\\"\\npattern2 = r\\\"Chemical \\\\+ Physical\\\"\\npattern = \\\"(\\\" + pattern1 + \\\"|\\\" + pattern2 + \\\")\\\" + exclude\\n\\n# x = df_nn[\\\"Features\\\"] != \\\"Chemical + Mineralogical + Physical\\\"\\nfeatures_filter = df_nn[\\\"Features\\\"].str.contains(\\n    pattern,\\n    regex=True,\\n)\\n\\nidx_min = df_nn[features_filter].round(3)[\\\"RMSE Test\\\", \\\"mean\\\"].idxmin()\\n\\ndf_nn.drop([\\\"Cross Validation Params\\\"], axis=1).loc[[idx_min]].round(3)\";\n",
       "                var nbb_formatted_code = \"exclude = r\\\"(?!.*One-Hot)\\\"\\npattern1 = r\\\"Chemical \\\\+ CS*\\\"\\npattern2 = r\\\"Chemical \\\\+ Physical\\\"\\npattern = \\\"(\\\" + pattern1 + \\\"|\\\" + pattern2 + \\\")\\\" + exclude\\n\\n# x = df_nn[\\\"Features\\\"] != \\\"Chemical + Mineralogical + Physical\\\"\\nfeatures_filter = df_nn[\\\"Features\\\"].str.contains(\\n    pattern,\\n    regex=True,\\n)\\n\\nidx_min = df_nn[features_filter].round(3)[\\\"RMSE Test\\\", \\\"mean\\\"].idxmin()\\n\\ndf_nn.drop([\\\"Cross Validation Params\\\"], axis=1).loc[[idx_min]].round(3)\";\n",
       "                var nbb_cells = Jupyter.notebook.get_cells();\n",
       "                for (var i = 0; i < nbb_cells.length; ++i) {\n",
       "                    if (nbb_cells[i].input_prompt_number == nbb_cell_id) {\n",
       "                        if (nbb_cells[i].get_text() == nbb_unformatted_code) {\n",
       "                             nbb_cells[i].set_text(nbb_formatted_code);\n",
       "                        }\n",
       "                        break;\n",
       "                    }\n",
       "                }\n",
       "            }, 500);\n",
       "            "
      ],
      "text/plain": [
       "<IPython.core.display.Javascript object>"
      ]
     },
     "metadata": {},
     "output_type": "display_data"
    }
   ],
   "source": [
    "exclude = r\"(?!.*One-Hot)\"\n",
    "pattern1 = r\"Chemical \\+ CS*\"\n",
    "pattern2 = r\"Chemical \\+ Physical\"\n",
    "pattern = \"(\" + pattern1 + \"|\" + pattern2 + \")\" + exclude\n",
    "\n",
    "# x = df_nn[\"Features\"] != \"Chemical + Mineralogical + Physical\"\n",
    "features_filter = df_nn[\"Features\"].str.contains(\n",
    "    pattern,\n",
    "    regex=True,\n",
    ")\n",
    "\n",
    "idx_min = df_nn[features_filter].round(3)[\"RMSE Test\", \"mean\"].idxmin()\n",
    "\n",
    "df_nn.drop([\"Cross Validation Params\"], axis=1).loc[[idx_min]].round(3)"
   ]
  },
  {
   "cell_type": "code",
   "execution_count": 35,
   "id": "40c5975c",
   "metadata": {},
   "outputs": [
    {
     "name": "stderr",
     "output_type": "stream",
     "text": [
      "/tmp/ipykernel_1853446/1533320894.py:5: PerformanceWarning: dropping on a non-lexsorted multi-index without a level parameter may impact performance.\n",
      "  df_nn.drop([\"Cross Validation Params\"], axis=1).loc[[idx_min]].round(3)\n"
     ]
    },
    {
     "data": {
      "text/html": [
       "<div>\n",
       "<style scoped>\n",
       "    .dataframe tbody tr th:only-of-type {\n",
       "        vertical-align: middle;\n",
       "    }\n",
       "\n",
       "    .dataframe tbody tr th {\n",
       "        vertical-align: top;\n",
       "    }\n",
       "\n",
       "    .dataframe thead tr th {\n",
       "        text-align: left;\n",
       "    }\n",
       "</style>\n",
       "<table border=\"1\" class=\"dataframe\">\n",
       "  <thead>\n",
       "    <tr>\n",
       "      <th></th>\n",
       "      <th>Model</th>\n",
       "      <th>Features</th>\n",
       "      <th>Cross Validation</th>\n",
       "      <th colspan=\"2\" halign=\"left\">RMSE Test</th>\n",
       "      <th colspan=\"2\" halign=\"left\">MAE Test</th>\n",
       "      <th colspan=\"2\" halign=\"left\">MAPE Test</th>\n",
       "      <th colspan=\"2\" halign=\"left\">R2 Test</th>\n",
       "    </tr>\n",
       "    <tr>\n",
       "      <th></th>\n",
       "      <th></th>\n",
       "      <th></th>\n",
       "      <th></th>\n",
       "      <th>mean</th>\n",
       "      <th>std</th>\n",
       "      <th>mean</th>\n",
       "      <th>std</th>\n",
       "      <th>mean</th>\n",
       "      <th>std</th>\n",
       "      <th>mean</th>\n",
       "      <th>std</th>\n",
       "    </tr>\n",
       "  </thead>\n",
       "  <tbody>\n",
       "    <tr>\n",
       "      <th>668</th>\n",
       "      <td>Transformer</td>\n",
       "      <td>Chemical + Properties CS Less</td>\n",
       "      <td>Repeated KFold</td>\n",
       "      <td>2.752</td>\n",
       "      <td>0.079</td>\n",
       "      <td>2.125</td>\n",
       "      <td>0.055</td>\n",
       "      <td>0.046</td>\n",
       "      <td>0.001</td>\n",
       "      <td>0.884</td>\n",
       "      <td>0.007</td>\n",
       "    </tr>\n",
       "  </tbody>\n",
       "</table>\n",
       "</div>"
      ],
      "text/plain": [
       "           Model                       Features Cross Validation RMSE Test  \\\n",
       "                                                                      mean   \n",
       "668  Transformer  Chemical + Properties CS Less   Repeated KFold     2.752   \n",
       "\n",
       "           MAE Test        MAPE Test        R2 Test         \n",
       "       std     mean    std      mean    std    mean    std  \n",
       "668  0.079    2.125  0.055     0.046  0.001   0.884  0.007  "
      ]
     },
     "execution_count": 35,
     "metadata": {},
     "output_type": "execute_result"
    },
    {
     "data": {
      "application/javascript": [
       "\n",
       "            setTimeout(function() {\n",
       "                var nbb_cell_id = 35;\n",
       "                var nbb_unformatted_code = \"idx_min = df_nn[df_nn[\\\"Features\\\"] == \\\"Chemical + Properties CS Less\\\"][\\n    \\\"RMSE Test\\\", \\\"mean\\\"\\n].idxmin()\\n\\ndf_nn.drop([\\\"Cross Validation Params\\\"], axis=1).loc[[idx_min]].round(3)\";\n",
       "                var nbb_formatted_code = \"idx_min = df_nn[df_nn[\\\"Features\\\"] == \\\"Chemical + Properties CS Less\\\"][\\n    \\\"RMSE Test\\\", \\\"mean\\\"\\n].idxmin()\\n\\ndf_nn.drop([\\\"Cross Validation Params\\\"], axis=1).loc[[idx_min]].round(3)\";\n",
       "                var nbb_cells = Jupyter.notebook.get_cells();\n",
       "                for (var i = 0; i < nbb_cells.length; ++i) {\n",
       "                    if (nbb_cells[i].input_prompt_number == nbb_cell_id) {\n",
       "                        if (nbb_cells[i].get_text() == nbb_unformatted_code) {\n",
       "                             nbb_cells[i].set_text(nbb_formatted_code);\n",
       "                        }\n",
       "                        break;\n",
       "                    }\n",
       "                }\n",
       "            }, 500);\n",
       "            "
      ],
      "text/plain": [
       "<IPython.core.display.Javascript object>"
      ]
     },
     "metadata": {},
     "output_type": "display_data"
    }
   ],
   "source": [
    "idx_min = df_nn[df_nn[\"Features\"] == \"Chemical + Properties CS Less\"][\n",
    "    \"RMSE Test\", \"mean\"\n",
    "].idxmin()\n",
    "\n",
    "df_nn.drop([\"Cross Validation Params\"], axis=1).loc[[idx_min]].round(3)"
   ]
  },
  {
   "cell_type": "code",
   "execution_count": 36,
   "id": "55e6e98b",
   "metadata": {},
   "outputs": [
    {
     "name": "stderr",
     "output_type": "stream",
     "text": [
      "/tmp/ipykernel_1853446/2784722090.py:5: PerformanceWarning: dropping on a non-lexsorted multi-index without a level parameter may impact performance.\n",
      "  df_nn.drop([\"Cross Validation Params\"], axis=1).loc[[idx_min]].round(3)\n"
     ]
    },
    {
     "data": {
      "text/html": [
       "<div>\n",
       "<style scoped>\n",
       "    .dataframe tbody tr th:only-of-type {\n",
       "        vertical-align: middle;\n",
       "    }\n",
       "\n",
       "    .dataframe tbody tr th {\n",
       "        vertical-align: top;\n",
       "    }\n",
       "\n",
       "    .dataframe thead tr th {\n",
       "        text-align: left;\n",
       "    }\n",
       "</style>\n",
       "<table border=\"1\" class=\"dataframe\">\n",
       "  <thead>\n",
       "    <tr>\n",
       "      <th></th>\n",
       "      <th>Model</th>\n",
       "      <th>Features</th>\n",
       "      <th>Cross Validation</th>\n",
       "      <th colspan=\"2\" halign=\"left\">RMSE Test</th>\n",
       "      <th colspan=\"2\" halign=\"left\">MAE Test</th>\n",
       "      <th colspan=\"2\" halign=\"left\">MAPE Test</th>\n",
       "      <th colspan=\"2\" halign=\"left\">R2 Test</th>\n",
       "    </tr>\n",
       "    <tr>\n",
       "      <th></th>\n",
       "      <th></th>\n",
       "      <th></th>\n",
       "      <th></th>\n",
       "      <th>mean</th>\n",
       "      <th>std</th>\n",
       "      <th>mean</th>\n",
       "      <th>std</th>\n",
       "      <th>mean</th>\n",
       "      <th>std</th>\n",
       "      <th>mean</th>\n",
       "      <th>std</th>\n",
       "    </tr>\n",
       "  </thead>\n",
       "  <tbody>\n",
       "    <tr>\n",
       "      <th>656</th>\n",
       "      <td>LSTM</td>\n",
       "      <td>Chemical + Physical</td>\n",
       "      <td>Repeated KFold</td>\n",
       "      <td>1.717</td>\n",
       "      <td>0.129</td>\n",
       "      <td>1.282</td>\n",
       "      <td>0.028</td>\n",
       "      <td>0.027</td>\n",
       "      <td>0.001</td>\n",
       "      <td>0.955</td>\n",
       "      <td>0.007</td>\n",
       "    </tr>\n",
       "  </tbody>\n",
       "</table>\n",
       "</div>"
      ],
      "text/plain": [
       "    Model             Features Cross Validation RMSE Test        MAE Test  \\\n",
       "                                                     mean    std     mean   \n",
       "656  LSTM  Chemical + Physical   Repeated KFold     1.717  0.129    1.282   \n",
       "\n",
       "           MAPE Test        R2 Test         \n",
       "       std      mean    std    mean    std  \n",
       "656  0.028     0.027  0.001   0.955  0.007  "
      ]
     },
     "execution_count": 36,
     "metadata": {},
     "output_type": "execute_result"
    },
    {
     "data": {
      "application/javascript": [
       "\n",
       "            setTimeout(function() {\n",
       "                var nbb_cell_id = 36;\n",
       "                var nbb_unformatted_code = \"idx_min = df_nn[df_nn[\\\"Features\\\"] == \\\"Chemical + Physical\\\"][\\n    \\\"RMSE Test\\\", \\\"mean\\\"\\n].idxmin()\\n\\ndf_nn.drop([\\\"Cross Validation Params\\\"], axis=1).loc[[idx_min]].round(3)\";\n",
       "                var nbb_formatted_code = \"idx_min = df_nn[df_nn[\\\"Features\\\"] == \\\"Chemical + Physical\\\"][\\n    \\\"RMSE Test\\\", \\\"mean\\\"\\n].idxmin()\\n\\ndf_nn.drop([\\\"Cross Validation Params\\\"], axis=1).loc[[idx_min]].round(3)\";\n",
       "                var nbb_cells = Jupyter.notebook.get_cells();\n",
       "                for (var i = 0; i < nbb_cells.length; ++i) {\n",
       "                    if (nbb_cells[i].input_prompt_number == nbb_cell_id) {\n",
       "                        if (nbb_cells[i].get_text() == nbb_unformatted_code) {\n",
       "                             nbb_cells[i].set_text(nbb_formatted_code);\n",
       "                        }\n",
       "                        break;\n",
       "                    }\n",
       "                }\n",
       "            }, 500);\n",
       "            "
      ],
      "text/plain": [
       "<IPython.core.display.Javascript object>"
      ]
     },
     "metadata": {},
     "output_type": "display_data"
    }
   ],
   "source": [
    "idx_min = df_nn[df_nn[\"Features\"] == \"Chemical + Physical\"][\n",
    "    \"RMSE Test\", \"mean\"\n",
    "].idxmin()\n",
    "\n",
    "df_nn.drop([\"Cross Validation Params\"], axis=1).loc[[idx_min]].round(3)"
   ]
  },
  {
   "cell_type": "code",
   "execution_count": 19,
   "id": "8b237220",
   "metadata": {},
   "outputs": [
    {
     "data": {
      "text/html": [
       "<div>\n",
       "<style scoped>\n",
       "    .dataframe tbody tr th:only-of-type {\n",
       "        vertical-align: middle;\n",
       "    }\n",
       "\n",
       "    .dataframe tbody tr th {\n",
       "        vertical-align: top;\n",
       "    }\n",
       "\n",
       "    .dataframe thead tr th {\n",
       "        text-align: left;\n",
       "    }\n",
       "</style>\n",
       "<table border=\"1\" class=\"dataframe\">\n",
       "  <thead>\n",
       "    <tr>\n",
       "      <th></th>\n",
       "      <th>Model</th>\n",
       "      <th>Features</th>\n",
       "      <th>Cross Validation</th>\n",
       "      <th>Cross Validation Params</th>\n",
       "      <th colspan=\"2\" halign=\"left\">RMSE Test</th>\n",
       "      <th colspan=\"2\" halign=\"left\">MAE Test</th>\n",
       "      <th colspan=\"2\" halign=\"left\">MAPE Test</th>\n",
       "      <th colspan=\"2\" halign=\"left\">R2 Test</th>\n",
       "    </tr>\n",
       "    <tr>\n",
       "      <th></th>\n",
       "      <th></th>\n",
       "      <th></th>\n",
       "      <th></th>\n",
       "      <th></th>\n",
       "      <th>mean</th>\n",
       "      <th>std</th>\n",
       "      <th>mean</th>\n",
       "      <th>std</th>\n",
       "      <th>mean</th>\n",
       "      <th>std</th>\n",
       "      <th>mean</th>\n",
       "      <th>std</th>\n",
       "    </tr>\n",
       "  </thead>\n",
       "  <tbody>\n",
       "    <tr>\n",
       "      <th>494</th>\n",
       "      <td>Transformer</td>\n",
       "      <td>Chemical + Mineralogical + CS7 + One-Hot</td>\n",
       "      <td>Repeated KFold</td>\n",
       "      <td>{\"N_Splits\": 5, \"Repeats\": 3}</td>\n",
       "      <td>1.048</td>\n",
       "      <td>0.104</td>\n",
       "      <td>0.824</td>\n",
       "      <td>0.102</td>\n",
       "      <td>0.019</td>\n",
       "      <td>0.002</td>\n",
       "      <td>0.956</td>\n",
       "      <td>0.01</td>\n",
       "    </tr>\n",
       "  </tbody>\n",
       "</table>\n",
       "</div>"
      ],
      "text/plain": [
       "           Model                                  Features Cross Validation  \\\n",
       "                                                                              \n",
       "494  Transformer  Chemical + Mineralogical + CS7 + One-Hot   Repeated KFold   \n",
       "\n",
       "           Cross Validation Params RMSE Test        MAE Test        MAPE Test  \\\n",
       "                                        mean    std     mean    std      mean   \n",
       "494  {\"N_Splits\": 5, \"Repeats\": 3}     1.048  0.104    0.824  0.102     0.019   \n",
       "\n",
       "           R2 Test        \n",
       "       std    mean   std  \n",
       "494  0.002   0.956  0.01  "
      ]
     },
     "execution_count": 19,
     "metadata": {},
     "output_type": "execute_result"
    },
    {
     "data": {
      "application/javascript": [
       "\n",
       "            setTimeout(function() {\n",
       "                var nbb_cell_id = 19;\n",
       "                var nbb_unformatted_code = \"pattern = r\\\"One-Hot\\\"\\n\\nfeatures_filter = df_nn[\\\"Features\\\"].str.contains(\\n    pattern,\\n    regex=True,\\n)\\n\\nidx_min = df_nn[features_filter].round(3)[\\\"RMSE Test\\\", \\\"mean\\\"].idxmin()\\n\\ndf_nn.loc[[idx_min]].round(3)\";\n",
       "                var nbb_formatted_code = \"pattern = r\\\"One-Hot\\\"\\n\\nfeatures_filter = df_nn[\\\"Features\\\"].str.contains(\\n    pattern,\\n    regex=True,\\n)\\n\\nidx_min = df_nn[features_filter].round(3)[\\\"RMSE Test\\\", \\\"mean\\\"].idxmin()\\n\\ndf_nn.loc[[idx_min]].round(3)\";\n",
       "                var nbb_cells = Jupyter.notebook.get_cells();\n",
       "                for (var i = 0; i < nbb_cells.length; ++i) {\n",
       "                    if (nbb_cells[i].input_prompt_number == nbb_cell_id) {\n",
       "                        if (nbb_cells[i].get_text() == nbb_unformatted_code) {\n",
       "                             nbb_cells[i].set_text(nbb_formatted_code);\n",
       "                        }\n",
       "                        break;\n",
       "                    }\n",
       "                }\n",
       "            }, 500);\n",
       "            "
      ],
      "text/plain": [
       "<IPython.core.display.Javascript object>"
      ]
     },
     "metadata": {},
     "output_type": "display_data"
    }
   ],
   "source": [
    "pattern = r\"One-Hot\"\n",
    "\n",
    "features_filter = df_nn[\"Features\"].str.contains(\n",
    "    pattern,\n",
    "    regex=True,\n",
    ")\n",
    "\n",
    "idx_min = df_nn[features_filter].round(3)[\"RMSE Test\", \"mean\"].idxmin()\n",
    "\n",
    "df_nn.loc[[idx_min]].round(3)"
   ]
  },
  {
   "cell_type": "markdown",
   "id": "d1681c27",
   "metadata": {},
   "source": [
    "# Trees"
   ]
  },
  {
   "cell_type": "code",
   "execution_count": 38,
   "id": "1d1e31fe",
   "metadata": {},
   "outputs": [
    {
     "data": {
      "application/javascript": [
       "\n",
       "            setTimeout(function() {\n",
       "                var nbb_cell_id = 38;\n",
       "                var nbb_unformatted_code = \"trees = [\\\"Decision Tree\\\", \\\"Random Forest\\\", \\\"XGBoost\\\"]\\n\\ndf_trees = df[df[(\\\"Model\\\", \\\"\\\")].isin(trees)][cols].copy()\\ndf_trees = df_trees[df_trees[\\\"Cross Validation\\\"] != \\\"Out of time Split\\\"]\";\n",
       "                var nbb_formatted_code = \"trees = [\\\"Decision Tree\\\", \\\"Random Forest\\\", \\\"XGBoost\\\"]\\n\\ndf_trees = df[df[(\\\"Model\\\", \\\"\\\")].isin(trees)][cols].copy()\\ndf_trees = df_trees[df_trees[\\\"Cross Validation\\\"] != \\\"Out of time Split\\\"]\";\n",
       "                var nbb_cells = Jupyter.notebook.get_cells();\n",
       "                for (var i = 0; i < nbb_cells.length; ++i) {\n",
       "                    if (nbb_cells[i].input_prompt_number == nbb_cell_id) {\n",
       "                        if (nbb_cells[i].get_text() == nbb_unformatted_code) {\n",
       "                             nbb_cells[i].set_text(nbb_formatted_code);\n",
       "                        }\n",
       "                        break;\n",
       "                    }\n",
       "                }\n",
       "            }, 500);\n",
       "            "
      ],
      "text/plain": [
       "<IPython.core.display.Javascript object>"
      ]
     },
     "metadata": {},
     "output_type": "display_data"
    }
   ],
   "source": [
    "trees = [\"Decision Tree\", \"Random Forest\", \"XGBoost\"]\n",
    "\n",
    "df_trees = df[df[(\"Model\", \"\")].isin(trees)][cols].copy()\n",
    "df_trees = df_trees[df_trees[\"Cross Validation\"] != \"Out of time Split\"]"
   ]
  },
  {
   "cell_type": "code",
   "execution_count": 40,
   "id": "a9abcb2f",
   "metadata": {},
   "outputs": [
    {
     "name": "stderr",
     "output_type": "stream",
     "text": [
      "/tmp/ipykernel_1853446/1322260097.py:5: PerformanceWarning: dropping on a non-lexsorted multi-index without a level parameter may impact performance.\n",
      "  df_trees.drop([\"Cross Validation Params\"], axis=1).loc[[idx_min]].round(3)\n"
     ]
    },
    {
     "data": {
      "text/html": [
       "<div>\n",
       "<style scoped>\n",
       "    .dataframe tbody tr th:only-of-type {\n",
       "        vertical-align: middle;\n",
       "    }\n",
       "\n",
       "    .dataframe tbody tr th {\n",
       "        vertical-align: top;\n",
       "    }\n",
       "\n",
       "    .dataframe thead tr th {\n",
       "        text-align: left;\n",
       "    }\n",
       "</style>\n",
       "<table border=\"1\" class=\"dataframe\">\n",
       "  <thead>\n",
       "    <tr>\n",
       "      <th></th>\n",
       "      <th>Model</th>\n",
       "      <th>Features</th>\n",
       "      <th>Cross Validation</th>\n",
       "      <th colspan=\"2\" halign=\"left\">RMSE Test</th>\n",
       "      <th colspan=\"2\" halign=\"left\">MAE Test</th>\n",
       "      <th colspan=\"2\" halign=\"left\">MAPE Test</th>\n",
       "      <th colspan=\"2\" halign=\"left\">R2 Test</th>\n",
       "    </tr>\n",
       "    <tr>\n",
       "      <th></th>\n",
       "      <th></th>\n",
       "      <th></th>\n",
       "      <th></th>\n",
       "      <th>mean</th>\n",
       "      <th>std</th>\n",
       "      <th>mean</th>\n",
       "      <th>std</th>\n",
       "      <th>mean</th>\n",
       "      <th>std</th>\n",
       "      <th>mean</th>\n",
       "      <th>std</th>\n",
       "    </tr>\n",
       "  </thead>\n",
       "  <tbody>\n",
       "    <tr>\n",
       "      <th>423</th>\n",
       "      <td>Random Forest</td>\n",
       "      <td>Chemical</td>\n",
       "      <td>Repeated KFold</td>\n",
       "      <td>3.382</td>\n",
       "      <td>0.133</td>\n",
       "      <td>2.574</td>\n",
       "      <td>0.083</td>\n",
       "      <td>0.056</td>\n",
       "      <td>0.002</td>\n",
       "      <td>0.825</td>\n",
       "      <td>0.013</td>\n",
       "    </tr>\n",
       "  </tbody>\n",
       "</table>\n",
       "</div>"
      ],
      "text/plain": [
       "             Model  Features Cross Validation RMSE Test        MAE Test  \\\n",
       "                                                   mean    std     mean   \n",
       "423  Random Forest  Chemical   Repeated KFold     3.382  0.133    2.574   \n",
       "\n",
       "           MAPE Test        R2 Test         \n",
       "       std      mean    std    mean    std  \n",
       "423  0.083     0.056  0.002   0.825  0.013  "
      ]
     },
     "execution_count": 40,
     "metadata": {},
     "output_type": "execute_result"
    },
    {
     "data": {
      "application/javascript": [
       "\n",
       "            setTimeout(function() {\n",
       "                var nbb_cell_id = 40;\n",
       "                var nbb_unformatted_code = \"idx_min = df_trees[df_trees[\\\"Features\\\"] == \\\"Chemical\\\"][\\n    \\\"RMSE Test\\\", \\\"mean\\\"\\n].idxmin()\\n\\ndf_trees.drop([\\\"Cross Validation Params\\\"], axis=1).loc[[idx_min]].round(3)\";\n",
       "                var nbb_formatted_code = \"idx_min = df_trees[df_trees[\\\"Features\\\"] == \\\"Chemical\\\"][\\\"RMSE Test\\\", \\\"mean\\\"].idxmin()\\n\\ndf_trees.drop([\\\"Cross Validation Params\\\"], axis=1).loc[[idx_min]].round(3)\";\n",
       "                var nbb_cells = Jupyter.notebook.get_cells();\n",
       "                for (var i = 0; i < nbb_cells.length; ++i) {\n",
       "                    if (nbb_cells[i].input_prompt_number == nbb_cell_id) {\n",
       "                        if (nbb_cells[i].get_text() == nbb_unformatted_code) {\n",
       "                             nbb_cells[i].set_text(nbb_formatted_code);\n",
       "                        }\n",
       "                        break;\n",
       "                    }\n",
       "                }\n",
       "            }, 500);\n",
       "            "
      ],
      "text/plain": [
       "<IPython.core.display.Javascript object>"
      ]
     },
     "metadata": {},
     "output_type": "display_data"
    }
   ],
   "source": [
    "idx_min = df_trees[df_trees[\"Features\"] == \"Chemical\"][\"RMSE Test\", \"mean\"].idxmin()\n",
    "\n",
    "df_trees.drop([\"Cross Validation Params\"], axis=1).loc[[idx_min]].round(3)"
   ]
  },
  {
   "cell_type": "code",
   "execution_count": 41,
   "id": "02c2cc82",
   "metadata": {},
   "outputs": [
    {
     "name": "stderr",
     "output_type": "stream",
     "text": [
      "/tmp/ipykernel_1853446/3559523472.py:5: PerformanceWarning: dropping on a non-lexsorted multi-index without a level parameter may impact performance.\n",
      "  df_trees.drop([\"Cross Validation Params\"], axis=1).loc[[idx_min]].round(3)\n"
     ]
    },
    {
     "data": {
      "text/html": [
       "<div>\n",
       "<style scoped>\n",
       "    .dataframe tbody tr th:only-of-type {\n",
       "        vertical-align: middle;\n",
       "    }\n",
       "\n",
       "    .dataframe tbody tr th {\n",
       "        vertical-align: top;\n",
       "    }\n",
       "\n",
       "    .dataframe thead tr th {\n",
       "        text-align: left;\n",
       "    }\n",
       "</style>\n",
       "<table border=\"1\" class=\"dataframe\">\n",
       "  <thead>\n",
       "    <tr>\n",
       "      <th></th>\n",
       "      <th>Model</th>\n",
       "      <th>Features</th>\n",
       "      <th>Cross Validation</th>\n",
       "      <th colspan=\"2\" halign=\"left\">RMSE Test</th>\n",
       "      <th colspan=\"2\" halign=\"left\">MAE Test</th>\n",
       "      <th colspan=\"2\" halign=\"left\">MAPE Test</th>\n",
       "      <th colspan=\"2\" halign=\"left\">R2 Test</th>\n",
       "    </tr>\n",
       "    <tr>\n",
       "      <th></th>\n",
       "      <th></th>\n",
       "      <th></th>\n",
       "      <th></th>\n",
       "      <th>mean</th>\n",
       "      <th>std</th>\n",
       "      <th>mean</th>\n",
       "      <th>std</th>\n",
       "      <th>mean</th>\n",
       "      <th>std</th>\n",
       "      <th>mean</th>\n",
       "      <th>std</th>\n",
       "    </tr>\n",
       "  </thead>\n",
       "  <tbody>\n",
       "    <tr>\n",
       "      <th>547</th>\n",
       "      <td>Random Forest</td>\n",
       "      <td>Chemical + Properties CS Less</td>\n",
       "      <td>Repeated KFold</td>\n",
       "      <td>3.167</td>\n",
       "      <td>0.092</td>\n",
       "      <td>2.416</td>\n",
       "      <td>0.063</td>\n",
       "      <td>0.052</td>\n",
       "      <td>0.002</td>\n",
       "      <td>0.846</td>\n",
       "      <td>0.007</td>\n",
       "    </tr>\n",
       "  </tbody>\n",
       "</table>\n",
       "</div>"
      ],
      "text/plain": [
       "             Model                       Features Cross Validation RMSE Test  \\\n",
       "                                                                        mean   \n",
       "547  Random Forest  Chemical + Properties CS Less   Repeated KFold     3.167   \n",
       "\n",
       "           MAE Test        MAPE Test        R2 Test         \n",
       "       std     mean    std      mean    std    mean    std  \n",
       "547  0.092    2.416  0.063     0.052  0.002   0.846  0.007  "
      ]
     },
     "execution_count": 41,
     "metadata": {},
     "output_type": "execute_result"
    },
    {
     "data": {
      "application/javascript": [
       "\n",
       "            setTimeout(function() {\n",
       "                var nbb_cell_id = 41;\n",
       "                var nbb_unformatted_code = \"idx_min = df_trees[df_trees[\\\"Features\\\"] == \\\"Chemical + Properties CS Less\\\"][\\n    \\\"RMSE Test\\\", \\\"mean\\\"\\n].idxmin()\\n\\ndf_trees.drop([\\\"Cross Validation Params\\\"], axis=1).loc[[idx_min]].round(3)\";\n",
       "                var nbb_formatted_code = \"idx_min = df_trees[df_trees[\\\"Features\\\"] == \\\"Chemical + Properties CS Less\\\"][\\n    \\\"RMSE Test\\\", \\\"mean\\\"\\n].idxmin()\\n\\ndf_trees.drop([\\\"Cross Validation Params\\\"], axis=1).loc[[idx_min]].round(3)\";\n",
       "                var nbb_cells = Jupyter.notebook.get_cells();\n",
       "                for (var i = 0; i < nbb_cells.length; ++i) {\n",
       "                    if (nbb_cells[i].input_prompt_number == nbb_cell_id) {\n",
       "                        if (nbb_cells[i].get_text() == nbb_unformatted_code) {\n",
       "                             nbb_cells[i].set_text(nbb_formatted_code);\n",
       "                        }\n",
       "                        break;\n",
       "                    }\n",
       "                }\n",
       "            }, 500);\n",
       "            "
      ],
      "text/plain": [
       "<IPython.core.display.Javascript object>"
      ]
     },
     "metadata": {},
     "output_type": "display_data"
    }
   ],
   "source": [
    "idx_min = df_trees[df_trees[\"Features\"] == \"Chemical + Properties CS Less\"][\n",
    "    \"RMSE Test\", \"mean\"\n",
    "].idxmin()\n",
    "\n",
    "df_trees.drop([\"Cross Validation Params\"], axis=1).loc[[idx_min]].round(3)"
   ]
  },
  {
   "cell_type": "code",
   "execution_count": 42,
   "id": "2127c5a4",
   "metadata": {},
   "outputs": [
    {
     "name": "stderr",
     "output_type": "stream",
     "text": [
      "/tmp/ipykernel_1853446/1286850631.py:7: UserWarning: This pattern is interpreted as a regular expression, and has match groups. To actually get the groups, use str.extract.\n",
      "  features_filter = df_trees[\"Features\"].str.contains(\n",
      "/tmp/ipykernel_1853446/1286850631.py:14: PerformanceWarning: dropping on a non-lexsorted multi-index without a level parameter may impact performance.\n",
      "  df_trees.drop([\"Cross Validation Params\"], axis=1).loc[[idx_min]].round(3)\n"
     ]
    },
    {
     "data": {
      "text/html": [
       "<div>\n",
       "<style scoped>\n",
       "    .dataframe tbody tr th:only-of-type {\n",
       "        vertical-align: middle;\n",
       "    }\n",
       "\n",
       "    .dataframe tbody tr th {\n",
       "        vertical-align: top;\n",
       "    }\n",
       "\n",
       "    .dataframe thead tr th {\n",
       "        text-align: left;\n",
       "    }\n",
       "</style>\n",
       "<table border=\"1\" class=\"dataframe\">\n",
       "  <thead>\n",
       "    <tr>\n",
       "      <th></th>\n",
       "      <th>Model</th>\n",
       "      <th>Features</th>\n",
       "      <th>Cross Validation</th>\n",
       "      <th colspan=\"2\" halign=\"left\">RMSE Test</th>\n",
       "      <th colspan=\"2\" halign=\"left\">MAE Test</th>\n",
       "      <th colspan=\"2\" halign=\"left\">MAPE Test</th>\n",
       "      <th colspan=\"2\" halign=\"left\">R2 Test</th>\n",
       "    </tr>\n",
       "    <tr>\n",
       "      <th></th>\n",
       "      <th></th>\n",
       "      <th></th>\n",
       "      <th></th>\n",
       "      <th>mean</th>\n",
       "      <th>std</th>\n",
       "      <th>mean</th>\n",
       "      <th>std</th>\n",
       "      <th>mean</th>\n",
       "      <th>std</th>\n",
       "      <th>mean</th>\n",
       "      <th>std</th>\n",
       "    </tr>\n",
       "  </thead>\n",
       "  <tbody>\n",
       "    <tr>\n",
       "      <th>266</th>\n",
       "      <td>Random Forest</td>\n",
       "      <td>Chemical + CS7</td>\n",
       "      <td>Repeated KFold</td>\n",
       "      <td>1.851</td>\n",
       "      <td>0.066</td>\n",
       "      <td>1.439</td>\n",
       "      <td>0.04</td>\n",
       "      <td>0.031</td>\n",
       "      <td>0.001</td>\n",
       "      <td>0.947</td>\n",
       "      <td>0.004</td>\n",
       "    </tr>\n",
       "  </tbody>\n",
       "</table>\n",
       "</div>"
      ],
      "text/plain": [
       "             Model        Features Cross Validation RMSE Test        MAE Test  \\\n",
       "                                                         mean    std     mean   \n",
       "266  Random Forest  Chemical + CS7   Repeated KFold     1.851  0.066    1.439   \n",
       "\n",
       "          MAPE Test        R2 Test         \n",
       "      std      mean    std    mean    std  \n",
       "266  0.04     0.031  0.001   0.947  0.004  "
      ]
     },
     "execution_count": 42,
     "metadata": {},
     "output_type": "execute_result"
    },
    {
     "data": {
      "application/javascript": [
       "\n",
       "            setTimeout(function() {\n",
       "                var nbb_cell_id = 42;\n",
       "                var nbb_unformatted_code = \"exclude = r\\\"(?!.*One-Hot)\\\"\\npattern1 = r\\\"Chemical \\\\+ CS*\\\"\\npattern2 = r\\\"Chemical \\\\+ Physical\\\"\\npattern = \\\"(\\\" + pattern1 + \\\"|\\\" + pattern2 + \\\")\\\" + exclude\\n\\n# x = df_nn[\\\"Features\\\"] != \\\"Chemical + Mineralogical + Physical\\\"\\nfeatures_filter = df_trees[\\\"Features\\\"].str.contains(\\n    pattern,\\n    regex=True,\\n)\\n\\nidx_min = df_trees[features_filter].round(3)[\\\"RMSE Test\\\", \\\"mean\\\"].idxmin()\\n\\ndf_trees.drop([\\\"Cross Validation Params\\\"], axis=1).loc[[idx_min]].round(3)\";\n",
       "                var nbb_formatted_code = \"exclude = r\\\"(?!.*One-Hot)\\\"\\npattern1 = r\\\"Chemical \\\\+ CS*\\\"\\npattern2 = r\\\"Chemical \\\\+ Physical\\\"\\npattern = \\\"(\\\" + pattern1 + \\\"|\\\" + pattern2 + \\\")\\\" + exclude\\n\\n# x = df_nn[\\\"Features\\\"] != \\\"Chemical + Mineralogical + Physical\\\"\\nfeatures_filter = df_trees[\\\"Features\\\"].str.contains(\\n    pattern,\\n    regex=True,\\n)\\n\\nidx_min = df_trees[features_filter].round(3)[\\\"RMSE Test\\\", \\\"mean\\\"].idxmin()\\n\\ndf_trees.drop([\\\"Cross Validation Params\\\"], axis=1).loc[[idx_min]].round(3)\";\n",
       "                var nbb_cells = Jupyter.notebook.get_cells();\n",
       "                for (var i = 0; i < nbb_cells.length; ++i) {\n",
       "                    if (nbb_cells[i].input_prompt_number == nbb_cell_id) {\n",
       "                        if (nbb_cells[i].get_text() == nbb_unformatted_code) {\n",
       "                             nbb_cells[i].set_text(nbb_formatted_code);\n",
       "                        }\n",
       "                        break;\n",
       "                    }\n",
       "                }\n",
       "            }, 500);\n",
       "            "
      ],
      "text/plain": [
       "<IPython.core.display.Javascript object>"
      ]
     },
     "metadata": {},
     "output_type": "display_data"
    }
   ],
   "source": [
    "exclude = r\"(?!.*One-Hot)\"\n",
    "pattern1 = r\"Chemical \\+ CS*\"\n",
    "pattern2 = r\"Chemical \\+ Physical\"\n",
    "pattern = \"(\" + pattern1 + \"|\" + pattern2 + \")\" + exclude\n",
    "\n",
    "# x = df_nn[\"Features\"] != \"Chemical + Mineralogical + Physical\"\n",
    "features_filter = df_trees[\"Features\"].str.contains(\n",
    "    pattern,\n",
    "    regex=True,\n",
    ")\n",
    "\n",
    "idx_min = df_trees[features_filter].round(3)[\"RMSE Test\", \"mean\"].idxmin()\n",
    "\n",
    "df_trees.drop([\"Cross Validation Params\"], axis=1).loc[[idx_min]].round(3)"
   ]
  },
  {
   "cell_type": "code",
   "execution_count": 23,
   "id": "7215b8e0",
   "metadata": {},
   "outputs": [
    {
     "data": {
      "text/html": [
       "<div>\n",
       "<style scoped>\n",
       "    .dataframe tbody tr th:only-of-type {\n",
       "        vertical-align: middle;\n",
       "    }\n",
       "\n",
       "    .dataframe tbody tr th {\n",
       "        vertical-align: top;\n",
       "    }\n",
       "\n",
       "    .dataframe thead tr th {\n",
       "        text-align: left;\n",
       "    }\n",
       "</style>\n",
       "<table border=\"1\" class=\"dataframe\">\n",
       "  <thead>\n",
       "    <tr>\n",
       "      <th></th>\n",
       "      <th>Model</th>\n",
       "      <th>Features</th>\n",
       "      <th>Cross Validation</th>\n",
       "      <th>Cross Validation Params</th>\n",
       "      <th colspan=\"2\" halign=\"left\">RMSE Test</th>\n",
       "      <th colspan=\"2\" halign=\"left\">MAE Test</th>\n",
       "      <th colspan=\"2\" halign=\"left\">MAPE Test</th>\n",
       "      <th colspan=\"2\" halign=\"left\">R2 Test</th>\n",
       "    </tr>\n",
       "    <tr>\n",
       "      <th></th>\n",
       "      <th></th>\n",
       "      <th></th>\n",
       "      <th></th>\n",
       "      <th></th>\n",
       "      <th>mean</th>\n",
       "      <th>std</th>\n",
       "      <th>mean</th>\n",
       "      <th>std</th>\n",
       "      <th>mean</th>\n",
       "      <th>std</th>\n",
       "      <th>mean</th>\n",
       "      <th>std</th>\n",
       "    </tr>\n",
       "  </thead>\n",
       "  <tbody>\n",
       "    <tr>\n",
       "      <th>404</th>\n",
       "      <td>Random Forest</td>\n",
       "      <td>Chemical + Mineralogical + One-Hot</td>\n",
       "      <td>Blocking Time Series Split</td>\n",
       "      <td>{\"N_Splits\": 5, \"Repeats\": 1, \"train_size\": 0.8}</td>\n",
       "      <td>1.042</td>\n",
       "      <td>0.349</td>\n",
       "      <td>0.766</td>\n",
       "      <td>0.246</td>\n",
       "      <td>0.018</td>\n",
       "      <td>0.006</td>\n",
       "      <td>0.949</td>\n",
       "      <td>0.038</td>\n",
       "    </tr>\n",
       "  </tbody>\n",
       "</table>\n",
       "</div>"
      ],
      "text/plain": [
       "             Model                            Features  \\\n",
       "                                                         \n",
       "404  Random Forest  Chemical + Mineralogical + One-Hot   \n",
       "\n",
       "               Cross Validation  \\\n",
       "                                  \n",
       "404  Blocking Time Series Split   \n",
       "\n",
       "                              Cross Validation Params RMSE Test         \\\n",
       "                                                           mean    std   \n",
       "404  {\"N_Splits\": 5, \"Repeats\": 1, \"train_size\": 0.8}     1.042  0.349   \n",
       "\n",
       "    MAE Test        MAPE Test        R2 Test         \n",
       "        mean    std      mean    std    mean    std  \n",
       "404    0.766  0.246     0.018  0.006   0.949  0.038  "
      ]
     },
     "execution_count": 23,
     "metadata": {},
     "output_type": "execute_result"
    },
    {
     "data": {
      "application/javascript": [
       "\n",
       "            setTimeout(function() {\n",
       "                var nbb_cell_id = 23;\n",
       "                var nbb_unformatted_code = \"idx_min = df_trees[df_trees[\\\"Features\\\"] == \\\"Chemical + Mineralogical + One-Hot\\\"][\\n    \\\"RMSE Test\\\", \\\"mean\\\"\\n].idxmin()\\n\\ndf_trees.loc[[idx_min]].round(3)\";\n",
       "                var nbb_formatted_code = \"idx_min = df_trees[df_trees[\\\"Features\\\"] == \\\"Chemical + Mineralogical + One-Hot\\\"][\\n    \\\"RMSE Test\\\", \\\"mean\\\"\\n].idxmin()\\n\\ndf_trees.loc[[idx_min]].round(3)\";\n",
       "                var nbb_cells = Jupyter.notebook.get_cells();\n",
       "                for (var i = 0; i < nbb_cells.length; ++i) {\n",
       "                    if (nbb_cells[i].input_prompt_number == nbb_cell_id) {\n",
       "                        if (nbb_cells[i].get_text() == nbb_unformatted_code) {\n",
       "                             nbb_cells[i].set_text(nbb_formatted_code);\n",
       "                        }\n",
       "                        break;\n",
       "                    }\n",
       "                }\n",
       "            }, 500);\n",
       "            "
      ],
      "text/plain": [
       "<IPython.core.display.Javascript object>"
      ]
     },
     "metadata": {},
     "output_type": "display_data"
    }
   ],
   "source": [
    "idx_min = df_trees[df_trees[\"Features\"] == \"Chemical + Mineralogical + One-Hot\"][\n",
    "    \"RMSE Test\", \"mean\"\n",
    "].idxmin()\n",
    "\n",
    "df_trees.loc[[idx_min]].round(3)"
   ]
  },
  {
   "cell_type": "code",
   "execution_count": 24,
   "id": "c842ddcc",
   "metadata": {},
   "outputs": [
    {
     "data": {
      "text/html": [
       "<div>\n",
       "<style scoped>\n",
       "    .dataframe tbody tr th:only-of-type {\n",
       "        vertical-align: middle;\n",
       "    }\n",
       "\n",
       "    .dataframe tbody tr th {\n",
       "        vertical-align: top;\n",
       "    }\n",
       "\n",
       "    .dataframe thead tr th {\n",
       "        text-align: left;\n",
       "    }\n",
       "</style>\n",
       "<table border=\"1\" class=\"dataframe\">\n",
       "  <thead>\n",
       "    <tr>\n",
       "      <th></th>\n",
       "      <th>Model</th>\n",
       "      <th>Features</th>\n",
       "      <th>Cross Validation</th>\n",
       "      <th>Cross Validation Params</th>\n",
       "      <th colspan=\"2\" halign=\"left\">RMSE Test</th>\n",
       "      <th colspan=\"2\" halign=\"left\">MAE Test</th>\n",
       "      <th colspan=\"2\" halign=\"left\">MAPE Test</th>\n",
       "      <th colspan=\"2\" halign=\"left\">R2 Test</th>\n",
       "    </tr>\n",
       "    <tr>\n",
       "      <th></th>\n",
       "      <th></th>\n",
       "      <th></th>\n",
       "      <th></th>\n",
       "      <th></th>\n",
       "      <th>mean</th>\n",
       "      <th>std</th>\n",
       "      <th>mean</th>\n",
       "      <th>std</th>\n",
       "      <th>mean</th>\n",
       "      <th>std</th>\n",
       "      <th>mean</th>\n",
       "      <th>std</th>\n",
       "    </tr>\n",
       "  </thead>\n",
       "  <tbody>\n",
       "    <tr>\n",
       "      <th>424</th>\n",
       "      <td>Random Forest</td>\n",
       "      <td>Chemical + Mineralogical + CS3 + One-Hot</td>\n",
       "      <td>Blocking Time Series Split</td>\n",
       "      <td>{\"N_Splits\": 5, \"Repeats\": 1, \"train_size\": 0.8}</td>\n",
       "      <td>0.949</td>\n",
       "      <td>0.217</td>\n",
       "      <td>0.709</td>\n",
       "      <td>0.138</td>\n",
       "      <td>0.016</td>\n",
       "      <td>0.003</td>\n",
       "      <td>0.962</td>\n",
       "      <td>0.016</td>\n",
       "    </tr>\n",
       "  </tbody>\n",
       "</table>\n",
       "</div>"
      ],
      "text/plain": [
       "             Model                                  Features  \\\n",
       "                                                               \n",
       "424  Random Forest  Chemical + Mineralogical + CS3 + One-Hot   \n",
       "\n",
       "               Cross Validation  \\\n",
       "                                  \n",
       "424  Blocking Time Series Split   \n",
       "\n",
       "                              Cross Validation Params RMSE Test         \\\n",
       "                                                           mean    std   \n",
       "424  {\"N_Splits\": 5, \"Repeats\": 1, \"train_size\": 0.8}     0.949  0.217   \n",
       "\n",
       "    MAE Test        MAPE Test        R2 Test         \n",
       "        mean    std      mean    std    mean    std  \n",
       "424    0.709  0.138     0.016  0.003   0.962  0.016  "
      ]
     },
     "execution_count": 24,
     "metadata": {},
     "output_type": "execute_result"
    },
    {
     "data": {
      "application/javascript": [
       "\n",
       "            setTimeout(function() {\n",
       "                var nbb_cell_id = 24;\n",
       "                var nbb_unformatted_code = \"pattern = r\\\"One-Hot\\\"\\n\\nfeatures_filter = df_trees[\\\"Features\\\"].str.contains(\\n    pattern,\\n    regex=True,\\n)\\n\\nidx_min = df_trees[features_filter].round(3)[\\\"RMSE Test\\\", \\\"mean\\\"].idxmin()\\n\\ndf_trees.loc[[idx_min]].round(3)\";\n",
       "                var nbb_formatted_code = \"pattern = r\\\"One-Hot\\\"\\n\\nfeatures_filter = df_trees[\\\"Features\\\"].str.contains(\\n    pattern,\\n    regex=True,\\n)\\n\\nidx_min = df_trees[features_filter].round(3)[\\\"RMSE Test\\\", \\\"mean\\\"].idxmin()\\n\\ndf_trees.loc[[idx_min]].round(3)\";\n",
       "                var nbb_cells = Jupyter.notebook.get_cells();\n",
       "                for (var i = 0; i < nbb_cells.length; ++i) {\n",
       "                    if (nbb_cells[i].input_prompt_number == nbb_cell_id) {\n",
       "                        if (nbb_cells[i].get_text() == nbb_unformatted_code) {\n",
       "                             nbb_cells[i].set_text(nbb_formatted_code);\n",
       "                        }\n",
       "                        break;\n",
       "                    }\n",
       "                }\n",
       "            }, 500);\n",
       "            "
      ],
      "text/plain": [
       "<IPython.core.display.Javascript object>"
      ]
     },
     "metadata": {},
     "output_type": "display_data"
    }
   ],
   "source": [
    "pattern = r\"One-Hot\"\n",
    "\n",
    "features_filter = df_trees[\"Features\"].str.contains(\n",
    "    pattern,\n",
    "    regex=True,\n",
    ")\n",
    "\n",
    "idx_min = df_trees[features_filter].round(3)[\"RMSE Test\", \"mean\"].idxmin()\n",
    "\n",
    "df_trees.loc[[idx_min]].round(3)"
   ]
  },
  {
   "cell_type": "code",
   "execution_count": null,
   "id": "8936ddce",
   "metadata": {},
   "outputs": [],
   "source": []
  }
 ],
 "metadata": {
  "kernelspec": {
   "display_name": "ccs28-venv",
   "language": "python",
   "name": "ccs28-venv"
  },
  "language_info": {
   "codemirror_mode": {
    "name": "ipython",
    "version": 3
   },
   "file_extension": ".py",
   "mimetype": "text/x-python",
   "name": "python",
   "nbconvert_exporter": "python",
   "pygments_lexer": "ipython3",
   "version": "3.10.12"
  }
 },
 "nbformat": 4,
 "nbformat_minor": 5
}
