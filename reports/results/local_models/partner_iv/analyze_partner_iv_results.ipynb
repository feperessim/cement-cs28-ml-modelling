{
 "cells": [
  {
   "cell_type": "code",
   "execution_count": 1,
   "id": "cc65e760",
   "metadata": {},
   "outputs": [
    {
     "data": {
      "application/javascript": [
       "\n",
       "            setTimeout(function() {\n",
       "                var nbb_cell_id = 1;\n",
       "                var nbb_unformatted_code = \"%load_ext nb_black\";\n",
       "                var nbb_formatted_code = \"%load_ext nb_black\";\n",
       "                var nbb_cells = Jupyter.notebook.get_cells();\n",
       "                for (var i = 0; i < nbb_cells.length; ++i) {\n",
       "                    if (nbb_cells[i].input_prompt_number == nbb_cell_id) {\n",
       "                        if (nbb_cells[i].get_text() == nbb_unformatted_code) {\n",
       "                             nbb_cells[i].set_text(nbb_formatted_code);\n",
       "                        }\n",
       "                        break;\n",
       "                    }\n",
       "                }\n",
       "            }, 500);\n",
       "            "
      ],
      "text/plain": [
       "<IPython.core.display.Javascript object>"
      ]
     },
     "metadata": {},
     "output_type": "display_data"
    }
   ],
   "source": [
    "%load_ext nb_black"
   ]
  },
  {
   "cell_type": "code",
   "execution_count": 2,
   "id": "3ca88201",
   "metadata": {},
   "outputs": [
    {
     "data": {
      "application/javascript": [
       "\n",
       "            setTimeout(function() {\n",
       "                var nbb_cell_id = 2;\n",
       "                var nbb_unformatted_code = \"import pandas as pd\\nimport os\\nimport glob\";\n",
       "                var nbb_formatted_code = \"import pandas as pd\\nimport os\\nimport glob\";\n",
       "                var nbb_cells = Jupyter.notebook.get_cells();\n",
       "                for (var i = 0; i < nbb_cells.length; ++i) {\n",
       "                    if (nbb_cells[i].input_prompt_number == nbb_cell_id) {\n",
       "                        if (nbb_cells[i].get_text() == nbb_unformatted_code) {\n",
       "                             nbb_cells[i].set_text(nbb_formatted_code);\n",
       "                        }\n",
       "                        break;\n",
       "                    }\n",
       "                }\n",
       "            }, 500);\n",
       "            "
      ],
      "text/plain": [
       "<IPython.core.display.Javascript object>"
      ]
     },
     "metadata": {},
     "output_type": "display_data"
    }
   ],
   "source": [
    "import pandas as pd\n",
    "import os\n",
    "import glob"
   ]
  },
  {
   "cell_type": "code",
   "execution_count": 3,
   "id": "db498c0e",
   "metadata": {},
   "outputs": [
    {
     "name": "stdout",
     "output_type": "stream",
     "text": [
      "BidirectionalGRU_results_grouped_1.csv\t lstm_results_grouped_1.csv\r\n",
      "BidirectionalGRU_results_grouped_2.csv\t lstm_results_grouped_2.csv\r\n",
      "BidirectionalGRU_results_grouped_3.csv\t lstm_results_grouped_3.csv\r\n",
      "BidirectionalGRU_results_grouped_4.csv\t lstm_results_grouped_4.csv\r\n",
      "BidirectionalGRU_results_grouped_5.csv\t lstm_results_grouped_5.csv\r\n",
      "BidirectionalGRU_results_grouped_6.csv\t lstm_results_grouped_6.csv\r\n",
      "BidirectionalLSTM_results_grouped_1.csv  mlp_results_grouped_1.csv\r\n",
      "BidirectionalLSTM_results_grouped_2.csv  mlp_results_grouped_2.csv\r\n",
      "BidirectionalLSTM_results_grouped_3.csv  mlp_results_grouped_3.csv\r\n",
      "BidirectionalLSTM_results_grouped_4.csv  mlp_results_grouped_4.csv\r\n",
      "BidirectionalLSTM_results_grouped_5.csv  mlp_results_grouped_5.csv\r\n",
      "BidirectionalLSTM_results_grouped_6.csv  mlp_results_grouped_6.csv\r\n",
      "decision_tree_results_grouped_1.csv\t random_forest_results_grouped_1.csv\r\n",
      "decision_tree_results_grouped_2.csv\t random_forest_results_grouped_2.csv\r\n",
      "decision_tree_results_grouped_3.csv\t random_forest_results_grouped_3.csv\r\n",
      "decision_tree_results_grouped_4.csv\t random_forest_results_grouped_4.csv\r\n",
      "decision_tree_results_grouped_5.csv\t random_forest_results_grouped_5.csv\r\n",
      "decision_tree_results_grouped_6.csv\t random_forest_results_grouped_6.csv\r\n",
      "gru_results_grouped_1.csv\t\t transformer_results_grouped_1.csv\r\n",
      "gru_results_grouped_2.csv\t\t transformer_results_grouped_2.csv\r\n",
      "gru_results_grouped_3.csv\t\t transformer_results_grouped_3.csv\r\n",
      "gru_results_grouped_4.csv\t\t transformer_results_grouped_4.csv\r\n",
      "gru_results_grouped_5.csv\t\t transformer_results_grouped_5.csv\r\n",
      "gru_results_grouped_6.csv\t\t transformer_results_grouped_6.csv\r\n",
      "linear_regression_results_grouped_1.csv  xgboost_results_results_grouped_1.csv\r\n",
      "linear_regression_results_grouped_2.csv  xgboost_results_results_grouped_2.csv\r\n",
      "linear_regression_results_grouped_3.csv  xgboost_results_results_grouped_3.csv\r\n",
      "linear_regression_results_grouped_4.csv  xgboost_results_results_grouped_4.csv\r\n",
      "linear_regression_results_grouped_5.csv  xgboost_results_results_grouped_5.csv\r\n",
      "linear_regression_results_grouped_6.csv  xgboost_results_results_grouped_6.csv\r\n"
     ]
    },
    {
     "data": {
      "application/javascript": [
       "\n",
       "            setTimeout(function() {\n",
       "                var nbb_cell_id = 3;\n",
       "                var nbb_unformatted_code = \"!ls all_cements/grouped\";\n",
       "                var nbb_formatted_code = \"!ls all_cements/grouped\";\n",
       "                var nbb_cells = Jupyter.notebook.get_cells();\n",
       "                for (var i = 0; i < nbb_cells.length; ++i) {\n",
       "                    if (nbb_cells[i].input_prompt_number == nbb_cell_id) {\n",
       "                        if (nbb_cells[i].get_text() == nbb_unformatted_code) {\n",
       "                             nbb_cells[i].set_text(nbb_formatted_code);\n",
       "                        }\n",
       "                        break;\n",
       "                    }\n",
       "                }\n",
       "            }, 500);\n",
       "            "
      ],
      "text/plain": [
       "<IPython.core.display.Javascript object>"
      ]
     },
     "metadata": {},
     "output_type": "display_data"
    }
   ],
   "source": [
    "!ls all_cements/grouped"
   ]
  },
  {
   "cell_type": "markdown",
   "id": "e022ed50",
   "metadata": {},
   "source": [
    "### Reading The files"
   ]
  },
  {
   "cell_type": "code",
   "execution_count": 4,
   "id": "3b3eff97",
   "metadata": {},
   "outputs": [
    {
     "data": {
      "application/javascript": [
       "\n",
       "            setTimeout(function() {\n",
       "                var nbb_cell_id = 4;\n",
       "                var nbb_unformatted_code = \"path = \\\"all_cements/grouped/\\\"\\ncsv_files = glob.glob(os.path.join(path, \\\"*.csv\\\"))\";\n",
       "                var nbb_formatted_code = \"path = \\\"all_cements/grouped/\\\"\\ncsv_files = glob.glob(os.path.join(path, \\\"*.csv\\\"))\";\n",
       "                var nbb_cells = Jupyter.notebook.get_cells();\n",
       "                for (var i = 0; i < nbb_cells.length; ++i) {\n",
       "                    if (nbb_cells[i].input_prompt_number == nbb_cell_id) {\n",
       "                        if (nbb_cells[i].get_text() == nbb_unformatted_code) {\n",
       "                             nbb_cells[i].set_text(nbb_formatted_code);\n",
       "                        }\n",
       "                        break;\n",
       "                    }\n",
       "                }\n",
       "            }, 500);\n",
       "            "
      ],
      "text/plain": [
       "<IPython.core.display.Javascript object>"
      ]
     },
     "metadata": {},
     "output_type": "display_data"
    }
   ],
   "source": [
    "path = \"all_cements/grouped/\"\n",
    "csv_files = glob.glob(os.path.join(path, \"*.csv\"))"
   ]
  },
  {
   "cell_type": "code",
   "execution_count": 5,
   "id": "594b08a7",
   "metadata": {},
   "outputs": [
    {
     "data": {
      "application/javascript": [
       "\n",
       "            setTimeout(function() {\n",
       "                var nbb_cell_id = 5;\n",
       "                var nbb_unformatted_code = \"results = []\\n\\nfor filepath in csv_files:\\n    df = pd.read_csv(filepath, header=[0, 1])\\n    results.append(df)\\ndf = pd.concat(results, ignore_index=True)\";\n",
       "                var nbb_formatted_code = \"results = []\\n\\nfor filepath in csv_files:\\n    df = pd.read_csv(filepath, header=[0, 1])\\n    results.append(df)\\ndf = pd.concat(results, ignore_index=True)\";\n",
       "                var nbb_cells = Jupyter.notebook.get_cells();\n",
       "                for (var i = 0; i < nbb_cells.length; ++i) {\n",
       "                    if (nbb_cells[i].input_prompt_number == nbb_cell_id) {\n",
       "                        if (nbb_cells[i].get_text() == nbb_unformatted_code) {\n",
       "                             nbb_cells[i].set_text(nbb_formatted_code);\n",
       "                        }\n",
       "                        break;\n",
       "                    }\n",
       "                }\n",
       "            }, 500);\n",
       "            "
      ],
      "text/plain": [
       "<IPython.core.display.Javascript object>"
      ]
     },
     "metadata": {},
     "output_type": "display_data"
    }
   ],
   "source": [
    "results = []\n",
    "\n",
    "for filepath in csv_files:\n",
    "    df = pd.read_csv(filepath, header=[0, 1])\n",
    "    results.append(df)\n",
    "df = pd.concat(results, ignore_index=True)"
   ]
  },
  {
   "cell_type": "markdown",
   "id": "4c828f9d",
   "metadata": {},
   "source": [
    "### Renaming the Columns"
   ]
  },
  {
   "cell_type": "code",
   "execution_count": 6,
   "id": "ef9195ac",
   "metadata": {},
   "outputs": [
    {
     "data": {
      "application/javascript": [
       "\n",
       "            setTimeout(function() {\n",
       "                var nbb_cell_id = 6;\n",
       "                var nbb_unformatted_code = \"df.columns = pd.MultiIndex.from_tuples(\\n    list(\\n        {\\n            col: (col[0], \\\"\\\") if \\\"Unnamed\\\" in col[1] else col for col in df.columns\\n        }.values()\\n    )\\n)\";\n",
       "                var nbb_formatted_code = \"df.columns = pd.MultiIndex.from_tuples(\\n    list(\\n        {\\n            col: (col[0], \\\"\\\") if \\\"Unnamed\\\" in col[1] else col for col in df.columns\\n        }.values()\\n    )\\n)\";\n",
       "                var nbb_cells = Jupyter.notebook.get_cells();\n",
       "                for (var i = 0; i < nbb_cells.length; ++i) {\n",
       "                    if (nbb_cells[i].input_prompt_number == nbb_cell_id) {\n",
       "                        if (nbb_cells[i].get_text() == nbb_unformatted_code) {\n",
       "                             nbb_cells[i].set_text(nbb_formatted_code);\n",
       "                        }\n",
       "                        break;\n",
       "                    }\n",
       "                }\n",
       "            }, 500);\n",
       "            "
      ],
      "text/plain": [
       "<IPython.core.display.Javascript object>"
      ]
     },
     "metadata": {},
     "output_type": "display_data"
    }
   ],
   "source": [
    "df.columns = pd.MultiIndex.from_tuples(\n",
    "    list(\n",
    "        {\n",
    "            col: (col[0], \"\") if \"Unnamed\" in col[1] else col for col in df.columns\n",
    "        }.values()\n",
    "    )\n",
    ")"
   ]
  },
  {
   "cell_type": "markdown",
   "id": "cd0107bd",
   "metadata": {},
   "source": [
    "### Defining the Columns to work with"
   ]
  },
  {
   "cell_type": "code",
   "execution_count": 7,
   "id": "076e8bce",
   "metadata": {},
   "outputs": [
    {
     "data": {
      "application/javascript": [
       "\n",
       "            setTimeout(function() {\n",
       "                var nbb_cell_id = 7;\n",
       "                var nbb_unformatted_code = \"cols = [\\n    (\\\"Model\\\", \\\"\\\"),\\n    (\\\"Features\\\", \\\"\\\"),\\n    (\\\"Cross Validation\\\", \\\"\\\"),\\n    (\\\"Cross Validation Params\\\", \\\"\\\"),\\n    (\\\"RMSE Test\\\", \\\"mean\\\"),\\n    (\\\"RMSE Test\\\", \\\"std\\\"),\\n    (\\\"MAE Test\\\", \\\"mean\\\"),\\n    (\\\"MAE Test\\\", \\\"std\\\"),\\n    (\\\"MAPE Test\\\", \\\"mean\\\"),\\n    (\\\"MAPE Test\\\", \\\"std\\\"),\\n    (\\\"R2 Test\\\", \\\"mean\\\"),\\n    (\\\"R2 Test\\\", \\\"std\\\"),\\n]\";\n",
       "                var nbb_formatted_code = \"cols = [\\n    (\\\"Model\\\", \\\"\\\"),\\n    (\\\"Features\\\", \\\"\\\"),\\n    (\\\"Cross Validation\\\", \\\"\\\"),\\n    (\\\"Cross Validation Params\\\", \\\"\\\"),\\n    (\\\"RMSE Test\\\", \\\"mean\\\"),\\n    (\\\"RMSE Test\\\", \\\"std\\\"),\\n    (\\\"MAE Test\\\", \\\"mean\\\"),\\n    (\\\"MAE Test\\\", \\\"std\\\"),\\n    (\\\"MAPE Test\\\", \\\"mean\\\"),\\n    (\\\"MAPE Test\\\", \\\"std\\\"),\\n    (\\\"R2 Test\\\", \\\"mean\\\"),\\n    (\\\"R2 Test\\\", \\\"std\\\"),\\n]\";\n",
       "                var nbb_cells = Jupyter.notebook.get_cells();\n",
       "                for (var i = 0; i < nbb_cells.length; ++i) {\n",
       "                    if (nbb_cells[i].input_prompt_number == nbb_cell_id) {\n",
       "                        if (nbb_cells[i].get_text() == nbb_unformatted_code) {\n",
       "                             nbb_cells[i].set_text(nbb_formatted_code);\n",
       "                        }\n",
       "                        break;\n",
       "                    }\n",
       "                }\n",
       "            }, 500);\n",
       "            "
      ],
      "text/plain": [
       "<IPython.core.display.Javascript object>"
      ]
     },
     "metadata": {},
     "output_type": "display_data"
    }
   ],
   "source": [
    "cols = [\n",
    "    (\"Model\", \"\"),\n",
    "    (\"Features\", \"\"),\n",
    "    (\"Cross Validation\", \"\"),\n",
    "    (\"Cross Validation Params\", \"\"),\n",
    "    (\"RMSE Test\", \"mean\"),\n",
    "    (\"RMSE Test\", \"std\"),\n",
    "    (\"MAE Test\", \"mean\"),\n",
    "    (\"MAE Test\", \"std\"),\n",
    "    (\"MAPE Test\", \"mean\"),\n",
    "    (\"MAPE Test\", \"std\"),\n",
    "    (\"R2 Test\", \"mean\"),\n",
    "    (\"R2 Test\", \"std\"),\n",
    "]"
   ]
  },
  {
   "cell_type": "code",
   "execution_count": 8,
   "id": "1b218b2b",
   "metadata": {},
   "outputs": [
    {
     "data": {
      "application/javascript": [
       "\n",
       "            setTimeout(function() {\n",
       "                var nbb_cell_id = 8;\n",
       "                var nbb_unformatted_code = \"cols_metrics = [\\n    (\\\"RMSE Test\\\", \\\"mean\\\"),\\n    (\\\"RMSE Test\\\", \\\"std\\\"),\\n    (\\\"MAE Test\\\", \\\"mean\\\"),\\n    (\\\"MAE Test\\\", \\\"std\\\"),\\n    (\\\"MAPE Test\\\", \\\"mean\\\"),\\n    (\\\"MAPE Test\\\", \\\"std\\\"),\\n    (\\\"R2 Test\\\", \\\"mean\\\"),\\n    (\\\"R2 Test\\\", \\\"std\\\"),\\n]\";\n",
       "                var nbb_formatted_code = \"cols_metrics = [\\n    (\\\"RMSE Test\\\", \\\"mean\\\"),\\n    (\\\"RMSE Test\\\", \\\"std\\\"),\\n    (\\\"MAE Test\\\", \\\"mean\\\"),\\n    (\\\"MAE Test\\\", \\\"std\\\"),\\n    (\\\"MAPE Test\\\", \\\"mean\\\"),\\n    (\\\"MAPE Test\\\", \\\"std\\\"),\\n    (\\\"R2 Test\\\", \\\"mean\\\"),\\n    (\\\"R2 Test\\\", \\\"std\\\"),\\n]\";\n",
       "                var nbb_cells = Jupyter.notebook.get_cells();\n",
       "                for (var i = 0; i < nbb_cells.length; ++i) {\n",
       "                    if (nbb_cells[i].input_prompt_number == nbb_cell_id) {\n",
       "                        if (nbb_cells[i].get_text() == nbb_unformatted_code) {\n",
       "                             nbb_cells[i].set_text(nbb_formatted_code);\n",
       "                        }\n",
       "                        break;\n",
       "                    }\n",
       "                }\n",
       "            }, 500);\n",
       "            "
      ],
      "text/plain": [
       "<IPython.core.display.Javascript object>"
      ]
     },
     "metadata": {},
     "output_type": "display_data"
    }
   ],
   "source": [
    "cols_metrics = [\n",
    "    (\"RMSE Test\", \"mean\"),\n",
    "    (\"RMSE Test\", \"std\"),\n",
    "    (\"MAE Test\", \"mean\"),\n",
    "    (\"MAE Test\", \"std\"),\n",
    "    (\"MAPE Test\", \"mean\"),\n",
    "    (\"MAPE Test\", \"std\"),\n",
    "    (\"R2 Test\", \"mean\"),\n",
    "    (\"R2 Test\", \"std\"),\n",
    "]"
   ]
  },
  {
   "cell_type": "markdown",
   "id": "ac45373c",
   "metadata": {},
   "source": [
    "# Linear Regression"
   ]
  },
  {
   "cell_type": "code",
   "execution_count": 9,
   "id": "2bb73213",
   "metadata": {},
   "outputs": [
    {
     "data": {
      "application/javascript": [
       "\n",
       "            setTimeout(function() {\n",
       "                var nbb_cell_id = 9;\n",
       "                var nbb_unformatted_code = \"df_linreg = df[df[(\\\"Model\\\", \\\"\\\")] == \\\"Linear Regression\\\"][cols].copy()\\ndf_linreg = df_linreg[df_linreg[\\\"Cross Validation\\\"] != \\\"Out of time Split\\\"]\";\n",
       "                var nbb_formatted_code = \"df_linreg = df[df[(\\\"Model\\\", \\\"\\\")] == \\\"Linear Regression\\\"][cols].copy()\\ndf_linreg = df_linreg[df_linreg[\\\"Cross Validation\\\"] != \\\"Out of time Split\\\"]\";\n",
       "                var nbb_cells = Jupyter.notebook.get_cells();\n",
       "                for (var i = 0; i < nbb_cells.length; ++i) {\n",
       "                    if (nbb_cells[i].input_prompt_number == nbb_cell_id) {\n",
       "                        if (nbb_cells[i].get_text() == nbb_unformatted_code) {\n",
       "                             nbb_cells[i].set_text(nbb_formatted_code);\n",
       "                        }\n",
       "                        break;\n",
       "                    }\n",
       "                }\n",
       "            }, 500);\n",
       "            "
      ],
      "text/plain": [
       "<IPython.core.display.Javascript object>"
      ]
     },
     "metadata": {},
     "output_type": "display_data"
    }
   ],
   "source": [
    "df_linreg = df[df[(\"Model\", \"\")] == \"Linear Regression\"][cols].copy()\n",
    "df_linreg = df_linreg[df_linreg[\"Cross Validation\"] != \"Out of time Split\"]"
   ]
  },
  {
   "cell_type": "code",
   "execution_count": 10,
   "id": "ba2d92db",
   "metadata": {},
   "outputs": [
    {
     "data": {
      "text/html": [
       "<div>\n",
       "<style scoped>\n",
       "    .dataframe tbody tr th:only-of-type {\n",
       "        vertical-align: middle;\n",
       "    }\n",
       "\n",
       "    .dataframe tbody tr th {\n",
       "        vertical-align: top;\n",
       "    }\n",
       "\n",
       "    .dataframe thead tr th {\n",
       "        text-align: left;\n",
       "    }\n",
       "</style>\n",
       "<table border=\"1\" class=\"dataframe\">\n",
       "  <thead>\n",
       "    <tr>\n",
       "      <th></th>\n",
       "      <th>Model</th>\n",
       "      <th>Features</th>\n",
       "      <th>Cross Validation</th>\n",
       "      <th>Cross Validation Params</th>\n",
       "      <th colspan=\"2\" halign=\"left\">RMSE Test</th>\n",
       "      <th colspan=\"2\" halign=\"left\">MAE Test</th>\n",
       "      <th colspan=\"2\" halign=\"left\">MAPE Test</th>\n",
       "      <th colspan=\"2\" halign=\"left\">R2 Test</th>\n",
       "    </tr>\n",
       "    <tr>\n",
       "      <th></th>\n",
       "      <th></th>\n",
       "      <th></th>\n",
       "      <th></th>\n",
       "      <th></th>\n",
       "      <th>mean</th>\n",
       "      <th>std</th>\n",
       "      <th>mean</th>\n",
       "      <th>std</th>\n",
       "      <th>mean</th>\n",
       "      <th>std</th>\n",
       "      <th>mean</th>\n",
       "      <th>std</th>\n",
       "    </tr>\n",
       "  </thead>\n",
       "  <tbody>\n",
       "    <tr>\n",
       "      <th>174</th>\n",
       "      <td>Linear Regression</td>\n",
       "      <td>Chemical + Mineralogical</td>\n",
       "      <td>Blocking Time Series Split</td>\n",
       "      <td>{\"N_Splits\": 5, \"Repeats\": 1, \"train_size\": 0.8}</td>\n",
       "      <td>3.876559</td>\n",
       "      <td>0.462525</td>\n",
       "      <td>2.872191</td>\n",
       "      <td>0.594589</td>\n",
       "      <td>0.059495</td>\n",
       "      <td>0.011507</td>\n",
       "      <td>0.596115</td>\n",
       "      <td>0.115605</td>\n",
       "    </tr>\n",
       "    <tr>\n",
       "      <th>176</th>\n",
       "      <td>Linear Regression</td>\n",
       "      <td>Chemical + Mineralogical</td>\n",
       "      <td>Repeated KFold</td>\n",
       "      <td>{\"N_Splits\": 5, \"Repeats\": 3}</td>\n",
       "      <td>3.053322</td>\n",
       "      <td>0.144758</td>\n",
       "      <td>2.373273</td>\n",
       "      <td>0.091372</td>\n",
       "      <td>0.049463</td>\n",
       "      <td>0.002277</td>\n",
       "      <td>0.785187</td>\n",
       "      <td>0.020993</td>\n",
       "    </tr>\n",
       "    <tr>\n",
       "      <th>177</th>\n",
       "      <td>Linear Regression</td>\n",
       "      <td>Chemical + Mineralogical</td>\n",
       "      <td>Time Series Split</td>\n",
       "      <td>{\"N_Splits\": 5, \"Repeats\": 1, \"Gap\": 0}</td>\n",
       "      <td>3.576885</td>\n",
       "      <td>0.363895</td>\n",
       "      <td>2.740066</td>\n",
       "      <td>0.280383</td>\n",
       "      <td>0.056762</td>\n",
       "      <td>0.006759</td>\n",
       "      <td>0.689686</td>\n",
       "      <td>0.074950</td>\n",
       "    </tr>\n",
       "  </tbody>\n",
       "</table>\n",
       "</div>"
      ],
      "text/plain": [
       "                 Model                  Features            Cross Validation  \\\n",
       "                                                                               \n",
       "174  Linear Regression  Chemical + Mineralogical  Blocking Time Series Split   \n",
       "176  Linear Regression  Chemical + Mineralogical              Repeated KFold   \n",
       "177  Linear Regression  Chemical + Mineralogical           Time Series Split   \n",
       "\n",
       "                              Cross Validation Params RMSE Test            \\\n",
       "                                                           mean       std   \n",
       "174  {\"N_Splits\": 5, \"Repeats\": 1, \"train_size\": 0.8}  3.876559  0.462525   \n",
       "176                     {\"N_Splits\": 5, \"Repeats\": 3}  3.053322  0.144758   \n",
       "177           {\"N_Splits\": 5, \"Repeats\": 1, \"Gap\": 0}  3.576885  0.363895   \n",
       "\n",
       "     MAE Test           MAPE Test             R2 Test            \n",
       "         mean       std      mean       std      mean       std  \n",
       "174  2.872191  0.594589  0.059495  0.011507  0.596115  0.115605  \n",
       "176  2.373273  0.091372  0.049463  0.002277  0.785187  0.020993  \n",
       "177  2.740066  0.280383  0.056762  0.006759  0.689686  0.074950  "
      ]
     },
     "execution_count": 10,
     "metadata": {},
     "output_type": "execute_result"
    },
    {
     "data": {
      "application/javascript": [
       "\n",
       "            setTimeout(function() {\n",
       "                var nbb_cell_id = 10;\n",
       "                var nbb_unformatted_code = \"df_linreg[df_linreg[\\\"Features\\\"] == \\\"Chemical + Mineralogical\\\"]\";\n",
       "                var nbb_formatted_code = \"df_linreg[df_linreg[\\\"Features\\\"] == \\\"Chemical + Mineralogical\\\"]\";\n",
       "                var nbb_cells = Jupyter.notebook.get_cells();\n",
       "                for (var i = 0; i < nbb_cells.length; ++i) {\n",
       "                    if (nbb_cells[i].input_prompt_number == nbb_cell_id) {\n",
       "                        if (nbb_cells[i].get_text() == nbb_unformatted_code) {\n",
       "                             nbb_cells[i].set_text(nbb_formatted_code);\n",
       "                        }\n",
       "                        break;\n",
       "                    }\n",
       "                }\n",
       "            }, 500);\n",
       "            "
      ],
      "text/plain": [
       "<IPython.core.display.Javascript object>"
      ]
     },
     "metadata": {},
     "output_type": "display_data"
    }
   ],
   "source": [
    "df_linreg[df_linreg[\"Features\"] == \"Chemical + Mineralogical\"]"
   ]
  },
  {
   "cell_type": "code",
   "execution_count": 11,
   "id": "7159ad5b",
   "metadata": {},
   "outputs": [
    {
     "data": {
      "text/html": [
       "<div>\n",
       "<style scoped>\n",
       "    .dataframe tbody tr th:only-of-type {\n",
       "        vertical-align: middle;\n",
       "    }\n",
       "\n",
       "    .dataframe tbody tr th {\n",
       "        vertical-align: top;\n",
       "    }\n",
       "\n",
       "    .dataframe thead tr th {\n",
       "        text-align: left;\n",
       "    }\n",
       "</style>\n",
       "<table border=\"1\" class=\"dataframe\">\n",
       "  <thead>\n",
       "    <tr>\n",
       "      <th></th>\n",
       "      <th>Model</th>\n",
       "      <th>Features</th>\n",
       "      <th>Cross Validation</th>\n",
       "      <th>Cross Validation Params</th>\n",
       "      <th colspan=\"2\" halign=\"left\">RMSE Test</th>\n",
       "      <th colspan=\"2\" halign=\"left\">MAE Test</th>\n",
       "      <th colspan=\"2\" halign=\"left\">MAPE Test</th>\n",
       "      <th colspan=\"2\" halign=\"left\">R2 Test</th>\n",
       "    </tr>\n",
       "    <tr>\n",
       "      <th></th>\n",
       "      <th></th>\n",
       "      <th></th>\n",
       "      <th></th>\n",
       "      <th></th>\n",
       "      <th>mean</th>\n",
       "      <th>std</th>\n",
       "      <th>mean</th>\n",
       "      <th>std</th>\n",
       "      <th>mean</th>\n",
       "      <th>std</th>\n",
       "      <th>mean</th>\n",
       "      <th>std</th>\n",
       "    </tr>\n",
       "  </thead>\n",
       "  <tbody>\n",
       "    <tr>\n",
       "      <th>176</th>\n",
       "      <td>Linear Regression</td>\n",
       "      <td>Chemical + Mineralogical</td>\n",
       "      <td>Repeated KFold</td>\n",
       "      <td>{\"N_Splits\": 5, \"Repeats\": 3}</td>\n",
       "      <td>3.053</td>\n",
       "      <td>0.145</td>\n",
       "      <td>2.373</td>\n",
       "      <td>0.091</td>\n",
       "      <td>0.049</td>\n",
       "      <td>0.002</td>\n",
       "      <td>0.785</td>\n",
       "      <td>0.021</td>\n",
       "    </tr>\n",
       "  </tbody>\n",
       "</table>\n",
       "</div>"
      ],
      "text/plain": [
       "                 Model                  Features Cross Validation  \\\n",
       "                                                                    \n",
       "176  Linear Regression  Chemical + Mineralogical   Repeated KFold   \n",
       "\n",
       "           Cross Validation Params RMSE Test        MAE Test        MAPE Test  \\\n",
       "                                        mean    std     mean    std      mean   \n",
       "176  {\"N_Splits\": 5, \"Repeats\": 3}     3.053  0.145    2.373  0.091     0.049   \n",
       "\n",
       "           R2 Test         \n",
       "       std    mean    std  \n",
       "176  0.002   0.785  0.021  "
      ]
     },
     "execution_count": 11,
     "metadata": {},
     "output_type": "execute_result"
    },
    {
     "data": {
      "application/javascript": [
       "\n",
       "            setTimeout(function() {\n",
       "                var nbb_cell_id = 11;\n",
       "                var nbb_unformatted_code = \"idx_min = df_linreg[df_linreg[\\\"Features\\\"] == \\\"Chemical + Mineralogical\\\"][\\n    \\\"RMSE Test\\\", \\\"mean\\\"\\n].idxmin()\\n\\ndf_linreg.loc[[idx_min]].round(3)\";\n",
       "                var nbb_formatted_code = \"idx_min = df_linreg[df_linreg[\\\"Features\\\"] == \\\"Chemical + Mineralogical\\\"][\\n    \\\"RMSE Test\\\", \\\"mean\\\"\\n].idxmin()\\n\\ndf_linreg.loc[[idx_min]].round(3)\";\n",
       "                var nbb_cells = Jupyter.notebook.get_cells();\n",
       "                for (var i = 0; i < nbb_cells.length; ++i) {\n",
       "                    if (nbb_cells[i].input_prompt_number == nbb_cell_id) {\n",
       "                        if (nbb_cells[i].get_text() == nbb_unformatted_code) {\n",
       "                             nbb_cells[i].set_text(nbb_formatted_code);\n",
       "                        }\n",
       "                        break;\n",
       "                    }\n",
       "                }\n",
       "            }, 500);\n",
       "            "
      ],
      "text/plain": [
       "<IPython.core.display.Javascript object>"
      ]
     },
     "metadata": {},
     "output_type": "display_data"
    }
   ],
   "source": [
    "idx_min = df_linreg[df_linreg[\"Features\"] == \"Chemical + Mineralogical\"][\n",
    "    \"RMSE Test\", \"mean\"\n",
    "].idxmin()\n",
    "\n",
    "df_linreg.loc[[idx_min]].round(3)"
   ]
  },
  {
   "cell_type": "code",
   "execution_count": 12,
   "id": "5fcef176",
   "metadata": {
    "scrolled": false
   },
   "outputs": [
    {
     "name": "stderr",
     "output_type": "stream",
     "text": [
      "/tmp/ipykernel_2122092/383223557.py:6: UserWarning: This pattern is interpreted as a regular expression, and has match groups. To actually get the groups, use str.extract.\n",
      "  features_filter = df_linreg[\"Features\"].str.contains(\n"
     ]
    },
    {
     "data": {
      "text/html": [
       "<div>\n",
       "<style scoped>\n",
       "    .dataframe tbody tr th:only-of-type {\n",
       "        vertical-align: middle;\n",
       "    }\n",
       "\n",
       "    .dataframe tbody tr th {\n",
       "        vertical-align: top;\n",
       "    }\n",
       "\n",
       "    .dataframe thead tr th {\n",
       "        text-align: left;\n",
       "    }\n",
       "</style>\n",
       "<table border=\"1\" class=\"dataframe\">\n",
       "  <thead>\n",
       "    <tr>\n",
       "      <th></th>\n",
       "      <th>Model</th>\n",
       "      <th>Features</th>\n",
       "      <th>Cross Validation</th>\n",
       "      <th>Cross Validation Params</th>\n",
       "      <th colspan=\"2\" halign=\"left\">RMSE Test</th>\n",
       "      <th colspan=\"2\" halign=\"left\">MAE Test</th>\n",
       "      <th colspan=\"2\" halign=\"left\">MAPE Test</th>\n",
       "      <th colspan=\"2\" halign=\"left\">R2 Test</th>\n",
       "    </tr>\n",
       "    <tr>\n",
       "      <th></th>\n",
       "      <th></th>\n",
       "      <th></th>\n",
       "      <th></th>\n",
       "      <th></th>\n",
       "      <th>mean</th>\n",
       "      <th>std</th>\n",
       "      <th>mean</th>\n",
       "      <th>std</th>\n",
       "      <th>mean</th>\n",
       "      <th>std</th>\n",
       "      <th>mean</th>\n",
       "      <th>std</th>\n",
       "    </tr>\n",
       "  </thead>\n",
       "  <tbody>\n",
       "    <tr>\n",
       "      <th>268</th>\n",
       "      <td>Linear Regression</td>\n",
       "      <td>Chemical + Mineralogical + Physical</td>\n",
       "      <td>Repeated KFold</td>\n",
       "      <td>{\"N_Splits\": 5, \"Repeats\": 3}</td>\n",
       "      <td>2.289</td>\n",
       "      <td>0.099</td>\n",
       "      <td>1.773</td>\n",
       "      <td>0.067</td>\n",
       "      <td>0.037</td>\n",
       "      <td>0.001</td>\n",
       "      <td>0.879</td>\n",
       "      <td>0.01</td>\n",
       "    </tr>\n",
       "  </tbody>\n",
       "</table>\n",
       "</div>"
      ],
      "text/plain": [
       "                 Model                             Features Cross Validation  \\\n",
       "                                                                               \n",
       "268  Linear Regression  Chemical + Mineralogical + Physical   Repeated KFold   \n",
       "\n",
       "           Cross Validation Params RMSE Test        MAE Test        MAPE Test  \\\n",
       "                                        mean    std     mean    std      mean   \n",
       "268  {\"N_Splits\": 5, \"Repeats\": 3}     2.289  0.099    1.773  0.067     0.037   \n",
       "\n",
       "           R2 Test        \n",
       "       std    mean   std  \n",
       "268  0.001   0.879  0.01  "
      ]
     },
     "execution_count": 12,
     "metadata": {},
     "output_type": "execute_result"
    },
    {
     "data": {
      "application/javascript": [
       "\n",
       "            setTimeout(function() {\n",
       "                var nbb_cell_id = 12;\n",
       "                var nbb_unformatted_code = \"exclude = r\\\"(?!.*One-Hot)\\\"\\npattern1 = r\\\"Chemical \\\\+ Mineralogical \\\\+ CS*\\\"\\npattern2 = r\\\"Chemical \\\\+ Mineralogical \\\\+ Physical\\\"\\npattern = \\\"(\\\" + pattern1 + \\\"|\\\" + pattern2 + \\\")\\\" + exclude\\n\\nfeatures_filter = df_linreg[\\\"Features\\\"].str.contains(\\n    pattern,\\n    regex=True,\\n)\\n\\nidx_min = df_linreg[features_filter].round(3)[\\\"RMSE Test\\\", \\\"mean\\\"].idxmin()\\n\\ndf_linreg.loc[[idx_min]].round(3)\";\n",
       "                var nbb_formatted_code = \"exclude = r\\\"(?!.*One-Hot)\\\"\\npattern1 = r\\\"Chemical \\\\+ Mineralogical \\\\+ CS*\\\"\\npattern2 = r\\\"Chemical \\\\+ Mineralogical \\\\+ Physical\\\"\\npattern = \\\"(\\\" + pattern1 + \\\"|\\\" + pattern2 + \\\")\\\" + exclude\\n\\nfeatures_filter = df_linreg[\\\"Features\\\"].str.contains(\\n    pattern,\\n    regex=True,\\n)\\n\\nidx_min = df_linreg[features_filter].round(3)[\\\"RMSE Test\\\", \\\"mean\\\"].idxmin()\\n\\ndf_linreg.loc[[idx_min]].round(3)\";\n",
       "                var nbb_cells = Jupyter.notebook.get_cells();\n",
       "                for (var i = 0; i < nbb_cells.length; ++i) {\n",
       "                    if (nbb_cells[i].input_prompt_number == nbb_cell_id) {\n",
       "                        if (nbb_cells[i].get_text() == nbb_unformatted_code) {\n",
       "                             nbb_cells[i].set_text(nbb_formatted_code);\n",
       "                        }\n",
       "                        break;\n",
       "                    }\n",
       "                }\n",
       "            }, 500);\n",
       "            "
      ],
      "text/plain": [
       "<IPython.core.display.Javascript object>"
      ]
     },
     "metadata": {},
     "output_type": "display_data"
    }
   ],
   "source": [
    "exclude = r\"(?!.*One-Hot)\"\n",
    "pattern1 = r\"Chemical \\+ Mineralogical \\+ CS*\"\n",
    "pattern2 = r\"Chemical \\+ Mineralogical \\+ Physical\"\n",
    "pattern = \"(\" + pattern1 + \"|\" + pattern2 + \")\" + exclude\n",
    "\n",
    "features_filter = df_linreg[\"Features\"].str.contains(\n",
    "    pattern,\n",
    "    regex=True,\n",
    ")\n",
    "\n",
    "idx_min = df_linreg[features_filter].round(3)[\"RMSE Test\", \"mean\"].idxmin()\n",
    "\n",
    "df_linreg.loc[[idx_min]].round(3)"
   ]
  },
  {
   "cell_type": "code",
   "execution_count": 13,
   "id": "ce01e9f9",
   "metadata": {},
   "outputs": [
    {
     "data": {
      "text/html": [
       "<div>\n",
       "<style scoped>\n",
       "    .dataframe tbody tr th:only-of-type {\n",
       "        vertical-align: middle;\n",
       "    }\n",
       "\n",
       "    .dataframe tbody tr th {\n",
       "        vertical-align: top;\n",
       "    }\n",
       "\n",
       "    .dataframe thead tr th {\n",
       "        text-align: left;\n",
       "    }\n",
       "</style>\n",
       "<table border=\"1\" class=\"dataframe\">\n",
       "  <thead>\n",
       "    <tr>\n",
       "      <th></th>\n",
       "      <th>Model</th>\n",
       "      <th>Features</th>\n",
       "      <th>Cross Validation</th>\n",
       "      <th>Cross Validation Params</th>\n",
       "      <th colspan=\"2\" halign=\"left\">RMSE Test</th>\n",
       "      <th colspan=\"2\" halign=\"left\">MAE Test</th>\n",
       "      <th colspan=\"2\" halign=\"left\">MAPE Test</th>\n",
       "      <th colspan=\"2\" halign=\"left\">R2 Test</th>\n",
       "    </tr>\n",
       "    <tr>\n",
       "      <th></th>\n",
       "      <th></th>\n",
       "      <th></th>\n",
       "      <th></th>\n",
       "      <th></th>\n",
       "      <th>mean</th>\n",
       "      <th>std</th>\n",
       "      <th>mean</th>\n",
       "      <th>std</th>\n",
       "      <th>mean</th>\n",
       "      <th>std</th>\n",
       "      <th>mean</th>\n",
       "      <th>std</th>\n",
       "    </tr>\n",
       "  </thead>\n",
       "  <tbody>\n",
       "    <tr>\n",
       "      <th>248</th>\n",
       "      <td>Linear Regression</td>\n",
       "      <td>Chemical + Mineralogical + One-Hot</td>\n",
       "      <td>Repeated KFold</td>\n",
       "      <td>{\"N_Splits\": 5, \"Repeats\": 3}</td>\n",
       "      <td>2.503</td>\n",
       "      <td>0.088</td>\n",
       "      <td>2.026</td>\n",
       "      <td>0.072</td>\n",
       "      <td>0.042</td>\n",
       "      <td>0.002</td>\n",
       "      <td>0.856</td>\n",
       "      <td>0.011</td>\n",
       "    </tr>\n",
       "  </tbody>\n",
       "</table>\n",
       "</div>"
      ],
      "text/plain": [
       "                 Model                            Features Cross Validation  \\\n",
       "                                                                              \n",
       "248  Linear Regression  Chemical + Mineralogical + One-Hot   Repeated KFold   \n",
       "\n",
       "           Cross Validation Params RMSE Test        MAE Test        MAPE Test  \\\n",
       "                                        mean    std     mean    std      mean   \n",
       "248  {\"N_Splits\": 5, \"Repeats\": 3}     2.503  0.088    2.026  0.072     0.042   \n",
       "\n",
       "           R2 Test         \n",
       "       std    mean    std  \n",
       "248  0.002   0.856  0.011  "
      ]
     },
     "execution_count": 13,
     "metadata": {},
     "output_type": "execute_result"
    },
    {
     "data": {
      "application/javascript": [
       "\n",
       "            setTimeout(function() {\n",
       "                var nbb_cell_id = 13;\n",
       "                var nbb_unformatted_code = \"idx_min = df_linreg[df_linreg[\\\"Features\\\"] == \\\"Chemical + Mineralogical + One-Hot\\\"][\\n    \\\"RMSE Test\\\", \\\"mean\\\"\\n].idxmin()\\n\\ndf_linreg.loc[[idx_min]].round(3)\";\n",
       "                var nbb_formatted_code = \"idx_min = df_linreg[df_linreg[\\\"Features\\\"] == \\\"Chemical + Mineralogical + One-Hot\\\"][\\n    \\\"RMSE Test\\\", \\\"mean\\\"\\n].idxmin()\\n\\ndf_linreg.loc[[idx_min]].round(3)\";\n",
       "                var nbb_cells = Jupyter.notebook.get_cells();\n",
       "                for (var i = 0; i < nbb_cells.length; ++i) {\n",
       "                    if (nbb_cells[i].input_prompt_number == nbb_cell_id) {\n",
       "                        if (nbb_cells[i].get_text() == nbb_unformatted_code) {\n",
       "                             nbb_cells[i].set_text(nbb_formatted_code);\n",
       "                        }\n",
       "                        break;\n",
       "                    }\n",
       "                }\n",
       "            }, 500);\n",
       "            "
      ],
      "text/plain": [
       "<IPython.core.display.Javascript object>"
      ]
     },
     "metadata": {},
     "output_type": "display_data"
    }
   ],
   "source": [
    "idx_min = df_linreg[df_linreg[\"Features\"] == \"Chemical + Mineralogical + One-Hot\"][\n",
    "    \"RMSE Test\", \"mean\"\n",
    "].idxmin()\n",
    "\n",
    "df_linreg.loc[[idx_min]].round(3)"
   ]
  },
  {
   "cell_type": "code",
   "execution_count": 14,
   "id": "cc6600c1",
   "metadata": {},
   "outputs": [
    {
     "data": {
      "text/html": [
       "<div>\n",
       "<style scoped>\n",
       "    .dataframe tbody tr th:only-of-type {\n",
       "        vertical-align: middle;\n",
       "    }\n",
       "\n",
       "    .dataframe tbody tr th {\n",
       "        vertical-align: top;\n",
       "    }\n",
       "\n",
       "    .dataframe thead tr th {\n",
       "        text-align: left;\n",
       "    }\n",
       "</style>\n",
       "<table border=\"1\" class=\"dataframe\">\n",
       "  <thead>\n",
       "    <tr>\n",
       "      <th></th>\n",
       "      <th>Model</th>\n",
       "      <th>Features</th>\n",
       "      <th>Cross Validation</th>\n",
       "      <th>Cross Validation Params</th>\n",
       "      <th colspan=\"2\" halign=\"left\">RMSE Test</th>\n",
       "      <th colspan=\"2\" halign=\"left\">MAE Test</th>\n",
       "      <th colspan=\"2\" halign=\"left\">MAPE Test</th>\n",
       "      <th colspan=\"2\" halign=\"left\">R2 Test</th>\n",
       "    </tr>\n",
       "    <tr>\n",
       "      <th></th>\n",
       "      <th></th>\n",
       "      <th></th>\n",
       "      <th></th>\n",
       "      <th></th>\n",
       "      <th>mean</th>\n",
       "      <th>std</th>\n",
       "      <th>mean</th>\n",
       "      <th>std</th>\n",
       "      <th>mean</th>\n",
       "      <th>std</th>\n",
       "      <th>mean</th>\n",
       "      <th>std</th>\n",
       "    </tr>\n",
       "  </thead>\n",
       "  <tbody>\n",
       "    <tr>\n",
       "      <th>336</th>\n",
       "      <td>Linear Regression</td>\n",
       "      <td>Chemical + Mineralogical + Physical + One-Hot</td>\n",
       "      <td>Repeated KFold</td>\n",
       "      <td>{\"N_Splits\": 5, \"Repeats\": 3}</td>\n",
       "      <td>2.182</td>\n",
       "      <td>0.084</td>\n",
       "      <td>1.704</td>\n",
       "      <td>0.059</td>\n",
       "      <td>0.035</td>\n",
       "      <td>0.001</td>\n",
       "      <td>0.89</td>\n",
       "      <td>0.008</td>\n",
       "    </tr>\n",
       "  </tbody>\n",
       "</table>\n",
       "</div>"
      ],
      "text/plain": [
       "                 Model                                       Features  \\\n",
       "                                                                        \n",
       "336  Linear Regression  Chemical + Mineralogical + Physical + One-Hot   \n",
       "\n",
       "    Cross Validation        Cross Validation Params RMSE Test        MAE Test  \\\n",
       "                                                         mean    std     mean   \n",
       "336   Repeated KFold  {\"N_Splits\": 5, \"Repeats\": 3}     2.182  0.084    1.704   \n",
       "\n",
       "           MAPE Test        R2 Test         \n",
       "       std      mean    std    mean    std  \n",
       "336  0.059     0.035  0.001    0.89  0.008  "
      ]
     },
     "execution_count": 14,
     "metadata": {},
     "output_type": "execute_result"
    },
    {
     "data": {
      "application/javascript": [
       "\n",
       "            setTimeout(function() {\n",
       "                var nbb_cell_id = 14;\n",
       "                var nbb_unformatted_code = \"pattern = r\\\"One-Hot\\\"\\n\\nfeatures_filter = df_linreg[\\\"Features\\\"].str.contains(\\n    pattern,\\n    regex=True,\\n)\\n\\nidx_min = df_linreg[features_filter].round(3)[\\\"RMSE Test\\\", \\\"mean\\\"].idxmin()\\n\\ndf_linreg.loc[[idx_min]].round(3)\";\n",
       "                var nbb_formatted_code = \"pattern = r\\\"One-Hot\\\"\\n\\nfeatures_filter = df_linreg[\\\"Features\\\"].str.contains(\\n    pattern,\\n    regex=True,\\n)\\n\\nidx_min = df_linreg[features_filter].round(3)[\\\"RMSE Test\\\", \\\"mean\\\"].idxmin()\\n\\ndf_linreg.loc[[idx_min]].round(3)\";\n",
       "                var nbb_cells = Jupyter.notebook.get_cells();\n",
       "                for (var i = 0; i < nbb_cells.length; ++i) {\n",
       "                    if (nbb_cells[i].input_prompt_number == nbb_cell_id) {\n",
       "                        if (nbb_cells[i].get_text() == nbb_unformatted_code) {\n",
       "                             nbb_cells[i].set_text(nbb_formatted_code);\n",
       "                        }\n",
       "                        break;\n",
       "                    }\n",
       "                }\n",
       "            }, 500);\n",
       "            "
      ],
      "text/plain": [
       "<IPython.core.display.Javascript object>"
      ]
     },
     "metadata": {},
     "output_type": "display_data"
    }
   ],
   "source": [
    "pattern = r\"One-Hot\"\n",
    "\n",
    "features_filter = df_linreg[\"Features\"].str.contains(\n",
    "    pattern,\n",
    "    regex=True,\n",
    ")\n",
    "\n",
    "idx_min = df_linreg[features_filter].round(3)[\"RMSE Test\", \"mean\"].idxmin()\n",
    "\n",
    "df_linreg.loc[[idx_min]].round(3)"
   ]
  },
  {
   "cell_type": "markdown",
   "id": "06b71804",
   "metadata": {},
   "source": [
    "# Neural Networks"
   ]
  },
  {
   "cell_type": "code",
   "execution_count": 15,
   "id": "c5248513",
   "metadata": {},
   "outputs": [
    {
     "data": {
      "application/javascript": [
       "\n",
       "            setTimeout(function() {\n",
       "                var nbb_cell_id = 15;\n",
       "                var nbb_unformatted_code = \"neural_networks = [\\n    \\\"MLP\\\",\\n    \\\"LSTM\\\",\\n    \\\"GRU\\\",\\n    \\\"BidirectionalGRU\\\",\\n    \\\"BidirectionalLSTM\\\",\\n    \\\"Transformer\\\",\\n]\\n\\ndf_nn = df[df[(\\\"Model\\\", \\\"\\\")].isin(neural_networks)][cols].copy()\\n# df_nn = df_nn.drop([(\\\"Model\\\", \\\"\\\")], axis=1)\\ndf_nn = df_nn[df_nn[\\\"Cross Validation\\\"] != \\\"Out of time Split\\\"]\";\n",
       "                var nbb_formatted_code = \"neural_networks = [\\n    \\\"MLP\\\",\\n    \\\"LSTM\\\",\\n    \\\"GRU\\\",\\n    \\\"BidirectionalGRU\\\",\\n    \\\"BidirectionalLSTM\\\",\\n    \\\"Transformer\\\",\\n]\\n\\ndf_nn = df[df[(\\\"Model\\\", \\\"\\\")].isin(neural_networks)][cols].copy()\\n# df_nn = df_nn.drop([(\\\"Model\\\", \\\"\\\")], axis=1)\\ndf_nn = df_nn[df_nn[\\\"Cross Validation\\\"] != \\\"Out of time Split\\\"]\";\n",
       "                var nbb_cells = Jupyter.notebook.get_cells();\n",
       "                for (var i = 0; i < nbb_cells.length; ++i) {\n",
       "                    if (nbb_cells[i].input_prompt_number == nbb_cell_id) {\n",
       "                        if (nbb_cells[i].get_text() == nbb_unformatted_code) {\n",
       "                             nbb_cells[i].set_text(nbb_formatted_code);\n",
       "                        }\n",
       "                        break;\n",
       "                    }\n",
       "                }\n",
       "            }, 500);\n",
       "            "
      ],
      "text/plain": [
       "<IPython.core.display.Javascript object>"
      ]
     },
     "metadata": {},
     "output_type": "display_data"
    }
   ],
   "source": [
    "neural_networks = [\n",
    "    \"MLP\",\n",
    "    \"LSTM\",\n",
    "    \"GRU\",\n",
    "    \"BidirectionalGRU\",\n",
    "    \"BidirectionalLSTM\",\n",
    "    \"Transformer\",\n",
    "]\n",
    "\n",
    "df_nn = df[df[(\"Model\", \"\")].isin(neural_networks)][cols].copy()\n",
    "# df_nn = df_nn.drop([(\"Model\", \"\")], axis=1)\n",
    "df_nn = df_nn[df_nn[\"Cross Validation\"] != \"Out of time Split\"]"
   ]
  },
  {
   "cell_type": "code",
   "execution_count": 26,
   "id": "5652a4a2",
   "metadata": {},
   "outputs": [
    {
     "data": {
      "text/html": [
       "<div>\n",
       "<style scoped>\n",
       "    .dataframe tbody tr th:only-of-type {\n",
       "        vertical-align: middle;\n",
       "    }\n",
       "\n",
       "    .dataframe tbody tr th {\n",
       "        vertical-align: top;\n",
       "    }\n",
       "\n",
       "    .dataframe thead tr th {\n",
       "        text-align: left;\n",
       "    }\n",
       "</style>\n",
       "<table border=\"1\" class=\"dataframe\">\n",
       "  <thead>\n",
       "    <tr>\n",
       "      <th></th>\n",
       "      <th>Model</th>\n",
       "      <th>Features</th>\n",
       "      <th>Cross Validation</th>\n",
       "      <th>Cross Validation Params</th>\n",
       "      <th colspan=\"2\" halign=\"left\">RMSE Test</th>\n",
       "      <th colspan=\"2\" halign=\"left\">MAE Test</th>\n",
       "      <th colspan=\"2\" halign=\"left\">MAPE Test</th>\n",
       "      <th colspan=\"2\" halign=\"left\">R2 Test</th>\n",
       "    </tr>\n",
       "    <tr>\n",
       "      <th></th>\n",
       "      <th></th>\n",
       "      <th></th>\n",
       "      <th></th>\n",
       "      <th></th>\n",
       "      <th>mean</th>\n",
       "      <th>std</th>\n",
       "      <th>mean</th>\n",
       "      <th>std</th>\n",
       "      <th>mean</th>\n",
       "      <th>std</th>\n",
       "      <th>mean</th>\n",
       "      <th>std</th>\n",
       "    </tr>\n",
       "  </thead>\n",
       "  <tbody>\n",
       "    <tr>\n",
       "      <th>58</th>\n",
       "      <td>BidirectionalGRU</td>\n",
       "      <td>Chemical + Mineralogical</td>\n",
       "      <td>Repeated KFold</td>\n",
       "      <td>{\"N_Splits\": 5, \"Repeats\": 3}</td>\n",
       "      <td>2.801</td>\n",
       "      <td>0.177</td>\n",
       "      <td>2.154</td>\n",
       "      <td>0.14</td>\n",
       "      <td>0.045</td>\n",
       "      <td>0.003</td>\n",
       "      <td>0.819</td>\n",
       "      <td>0.023</td>\n",
       "    </tr>\n",
       "  </tbody>\n",
       "</table>\n",
       "</div>"
      ],
      "text/plain": [
       "               Model                  Features Cross Validation  \\\n",
       "                                                                  \n",
       "58  BidirectionalGRU  Chemical + Mineralogical   Repeated KFold   \n",
       "\n",
       "          Cross Validation Params RMSE Test        MAE Test       MAPE Test  \\\n",
       "                                       mean    std     mean   std      mean   \n",
       "58  {\"N_Splits\": 5, \"Repeats\": 3}     2.801  0.177    2.154  0.14     0.045   \n",
       "\n",
       "          R2 Test         \n",
       "      std    mean    std  \n",
       "58  0.003   0.819  0.023  "
      ]
     },
     "execution_count": 26,
     "metadata": {},
     "output_type": "execute_result"
    },
    {
     "data": {
      "application/javascript": [
       "\n",
       "            setTimeout(function() {\n",
       "                var nbb_cell_id = 26;\n",
       "                var nbb_unformatted_code = \"idx_min = df_nn[df_nn[\\\"Features\\\"] == \\\"Chemical + Mineralogical\\\"][\\n    \\\"RMSE Test\\\", \\\"mean\\\"\\n].idxmin()\\n\\ndf_nn.loc[[idx_min]].round(3)\";\n",
       "                var nbb_formatted_code = \"idx_min = df_nn[df_nn[\\\"Features\\\"] == \\\"Chemical + Mineralogical\\\"][\\n    \\\"RMSE Test\\\", \\\"mean\\\"\\n].idxmin()\\n\\ndf_nn.loc[[idx_min]].round(3)\";\n",
       "                var nbb_cells = Jupyter.notebook.get_cells();\n",
       "                for (var i = 0; i < nbb_cells.length; ++i) {\n",
       "                    if (nbb_cells[i].input_prompt_number == nbb_cell_id) {\n",
       "                        if (nbb_cells[i].get_text() == nbb_unformatted_code) {\n",
       "                             nbb_cells[i].set_text(nbb_formatted_code);\n",
       "                        }\n",
       "                        break;\n",
       "                    }\n",
       "                }\n",
       "            }, 500);\n",
       "            "
      ],
      "text/plain": [
       "<IPython.core.display.Javascript object>"
      ]
     },
     "metadata": {},
     "output_type": "display_data"
    }
   ],
   "source": [
    "idx_min = df_nn[df_nn[\"Features\"] == \"Chemical + Mineralogical\"][\n",
    "    \"RMSE Test\", \"mean\"\n",
    "].idxmin()\n",
    "\n",
    "df_nn.loc[[idx_min]].round(3)"
   ]
  },
  {
   "cell_type": "code",
   "execution_count": 17,
   "id": "25a9c615",
   "metadata": {},
   "outputs": [
    {
     "name": "stderr",
     "output_type": "stream",
     "text": [
      "/tmp/ipykernel_2122092/1917742884.py:7: UserWarning: This pattern is interpreted as a regular expression, and has match groups. To actually get the groups, use str.extract.\n",
      "  features_filter = df_nn[\"Features\"].str.contains(\n"
     ]
    },
    {
     "data": {
      "text/html": [
       "<div>\n",
       "<style scoped>\n",
       "    .dataframe tbody tr th:only-of-type {\n",
       "        vertical-align: middle;\n",
       "    }\n",
       "\n",
       "    .dataframe tbody tr th {\n",
       "        vertical-align: top;\n",
       "    }\n",
       "\n",
       "    .dataframe thead tr th {\n",
       "        text-align: left;\n",
       "    }\n",
       "</style>\n",
       "<table border=\"1\" class=\"dataframe\">\n",
       "  <thead>\n",
       "    <tr>\n",
       "      <th></th>\n",
       "      <th>Model</th>\n",
       "      <th>Features</th>\n",
       "      <th>Cross Validation</th>\n",
       "      <th>Cross Validation Params</th>\n",
       "      <th colspan=\"2\" halign=\"left\">RMSE Test</th>\n",
       "      <th colspan=\"2\" halign=\"left\">MAE Test</th>\n",
       "      <th colspan=\"2\" halign=\"left\">MAPE Test</th>\n",
       "      <th colspan=\"2\" halign=\"left\">R2 Test</th>\n",
       "    </tr>\n",
       "    <tr>\n",
       "      <th></th>\n",
       "      <th></th>\n",
       "      <th></th>\n",
       "      <th></th>\n",
       "      <th></th>\n",
       "      <th>mean</th>\n",
       "      <th>std</th>\n",
       "      <th>mean</th>\n",
       "      <th>std</th>\n",
       "      <th>mean</th>\n",
       "      <th>std</th>\n",
       "      <th>mean</th>\n",
       "      <th>std</th>\n",
       "    </tr>\n",
       "  </thead>\n",
       "  <tbody>\n",
       "    <tr>\n",
       "      <th>99</th>\n",
       "      <td>BidirectionalGRU</td>\n",
       "      <td>Chemical + Mineralogical + CS2</td>\n",
       "      <td>Repeated KFold</td>\n",
       "      <td>{\"N_Splits\": 5, \"Repeats\": 3}</td>\n",
       "      <td>2.129</td>\n",
       "      <td>0.124</td>\n",
       "      <td>1.648</td>\n",
       "      <td>0.085</td>\n",
       "      <td>0.034</td>\n",
       "      <td>0.002</td>\n",
       "      <td>0.895</td>\n",
       "      <td>0.013</td>\n",
       "    </tr>\n",
       "  </tbody>\n",
       "</table>\n",
       "</div>"
      ],
      "text/plain": [
       "               Model                        Features Cross Validation  \\\n",
       "                                                                        \n",
       "99  BidirectionalGRU  Chemical + Mineralogical + CS2   Repeated KFold   \n",
       "\n",
       "          Cross Validation Params RMSE Test        MAE Test        MAPE Test  \\\n",
       "                                       mean    std     mean    std      mean   \n",
       "99  {\"N_Splits\": 5, \"Repeats\": 3}     2.129  0.124    1.648  0.085     0.034   \n",
       "\n",
       "          R2 Test         \n",
       "      std    mean    std  \n",
       "99  0.002   0.895  0.013  "
      ]
     },
     "execution_count": 17,
     "metadata": {},
     "output_type": "execute_result"
    },
    {
     "data": {
      "application/javascript": [
       "\n",
       "            setTimeout(function() {\n",
       "                var nbb_cell_id = 17;\n",
       "                var nbb_unformatted_code = \"exclude = r\\\"(?!.*One-Hot)\\\"\\npattern1 = r\\\"Chemical \\\\+ Mineralogical \\\\+ CS*\\\"\\npattern2 = r\\\"Chemical \\\\+ Mineralogical \\\\+ Physical\\\"\\npattern = \\\"(\\\" + pattern1 + \\\"|\\\" + pattern2 + \\\")\\\" + exclude\\n\\n# x = df_nn[\\\"Features\\\"] != \\\"Chemical + Mineralogical + Physical\\\"\\nfeatures_filter = df_nn[\\\"Features\\\"].str.contains(\\n    pattern,\\n    regex=True,\\n)\\n\\nidx_min = df_nn[features_filter].round(3)[\\\"RMSE Test\\\", \\\"mean\\\"].idxmin()\\n\\ndf_nn.loc[[idx_min]].round(3)\";\n",
       "                var nbb_formatted_code = \"exclude = r\\\"(?!.*One-Hot)\\\"\\npattern1 = r\\\"Chemical \\\\+ Mineralogical \\\\+ CS*\\\"\\npattern2 = r\\\"Chemical \\\\+ Mineralogical \\\\+ Physical\\\"\\npattern = \\\"(\\\" + pattern1 + \\\"|\\\" + pattern2 + \\\")\\\" + exclude\\n\\n# x = df_nn[\\\"Features\\\"] != \\\"Chemical + Mineralogical + Physical\\\"\\nfeatures_filter = df_nn[\\\"Features\\\"].str.contains(\\n    pattern,\\n    regex=True,\\n)\\n\\nidx_min = df_nn[features_filter].round(3)[\\\"RMSE Test\\\", \\\"mean\\\"].idxmin()\\n\\ndf_nn.loc[[idx_min]].round(3)\";\n",
       "                var nbb_cells = Jupyter.notebook.get_cells();\n",
       "                for (var i = 0; i < nbb_cells.length; ++i) {\n",
       "                    if (nbb_cells[i].input_prompt_number == nbb_cell_id) {\n",
       "                        if (nbb_cells[i].get_text() == nbb_unformatted_code) {\n",
       "                             nbb_cells[i].set_text(nbb_formatted_code);\n",
       "                        }\n",
       "                        break;\n",
       "                    }\n",
       "                }\n",
       "            }, 500);\n",
       "            "
      ],
      "text/plain": [
       "<IPython.core.display.Javascript object>"
      ]
     },
     "metadata": {},
     "output_type": "display_data"
    }
   ],
   "source": [
    "exclude = r\"(?!.*One-Hot)\"\n",
    "pattern1 = r\"Chemical \\+ Mineralogical \\+ CS*\"\n",
    "pattern2 = r\"Chemical \\+ Mineralogical \\+ Physical\"\n",
    "pattern = \"(\" + pattern1 + \"|\" + pattern2 + \")\" + exclude\n",
    "\n",
    "# x = df_nn[\"Features\"] != \"Chemical + Mineralogical + Physical\"\n",
    "features_filter = df_nn[\"Features\"].str.contains(\n",
    "    pattern,\n",
    "    regex=True,\n",
    ")\n",
    "\n",
    "idx_min = df_nn[features_filter].round(3)[\"RMSE Test\", \"mean\"].idxmin()\n",
    "\n",
    "df_nn.loc[[idx_min]].round(3)"
   ]
  },
  {
   "cell_type": "code",
   "execution_count": 18,
   "id": "e71a3faa",
   "metadata": {},
   "outputs": [
    {
     "data": {
      "text/html": [
       "<div>\n",
       "<style scoped>\n",
       "    .dataframe tbody tr th:only-of-type {\n",
       "        vertical-align: middle;\n",
       "    }\n",
       "\n",
       "    .dataframe tbody tr th {\n",
       "        vertical-align: top;\n",
       "    }\n",
       "\n",
       "    .dataframe thead tr th {\n",
       "        text-align: left;\n",
       "    }\n",
       "</style>\n",
       "<table border=\"1\" class=\"dataframe\">\n",
       "  <thead>\n",
       "    <tr>\n",
       "      <th></th>\n",
       "      <th>Model</th>\n",
       "      <th>Features</th>\n",
       "      <th>Cross Validation</th>\n",
       "      <th>Cross Validation Params</th>\n",
       "      <th colspan=\"2\" halign=\"left\">RMSE Test</th>\n",
       "      <th colspan=\"2\" halign=\"left\">MAE Test</th>\n",
       "      <th colspan=\"2\" halign=\"left\">MAPE Test</th>\n",
       "      <th colspan=\"2\" halign=\"left\">R2 Test</th>\n",
       "    </tr>\n",
       "    <tr>\n",
       "      <th></th>\n",
       "      <th></th>\n",
       "      <th></th>\n",
       "      <th></th>\n",
       "      <th></th>\n",
       "      <th>mean</th>\n",
       "      <th>std</th>\n",
       "      <th>mean</th>\n",
       "      <th>std</th>\n",
       "      <th>mean</th>\n",
       "      <th>std</th>\n",
       "      <th>mean</th>\n",
       "      <th>std</th>\n",
       "    </tr>\n",
       "  </thead>\n",
       "  <tbody>\n",
       "    <tr>\n",
       "      <th>47</th>\n",
       "      <td>BidirectionalGRU</td>\n",
       "      <td>Chemical + Mineralogical + One-Hot</td>\n",
       "      <td>Repeated KFold</td>\n",
       "      <td>{\"N_Splits\": 5, \"Repeats\": 3}</td>\n",
       "      <td>2.447</td>\n",
       "      <td>0.105</td>\n",
       "      <td>1.917</td>\n",
       "      <td>0.092</td>\n",
       "      <td>0.039</td>\n",
       "      <td>0.002</td>\n",
       "      <td>0.862</td>\n",
       "      <td>0.014</td>\n",
       "    </tr>\n",
       "  </tbody>\n",
       "</table>\n",
       "</div>"
      ],
      "text/plain": [
       "               Model                            Features Cross Validation  \\\n",
       "                                                                            \n",
       "47  BidirectionalGRU  Chemical + Mineralogical + One-Hot   Repeated KFold   \n",
       "\n",
       "          Cross Validation Params RMSE Test        MAE Test        MAPE Test  \\\n",
       "                                       mean    std     mean    std      mean   \n",
       "47  {\"N_Splits\": 5, \"Repeats\": 3}     2.447  0.105    1.917  0.092     0.039   \n",
       "\n",
       "          R2 Test         \n",
       "      std    mean    std  \n",
       "47  0.002   0.862  0.014  "
      ]
     },
     "execution_count": 18,
     "metadata": {},
     "output_type": "execute_result"
    },
    {
     "data": {
      "application/javascript": [
       "\n",
       "            setTimeout(function() {\n",
       "                var nbb_cell_id = 18;\n",
       "                var nbb_unformatted_code = \"idx_min = df_nn[df_nn[\\\"Features\\\"] == \\\"Chemical + Mineralogical + One-Hot\\\"][\\n    \\\"RMSE Test\\\", \\\"mean\\\"\\n].idxmin()\\n\\ndf_nn.loc[[idx_min]].round(3)\";\n",
       "                var nbb_formatted_code = \"idx_min = df_nn[df_nn[\\\"Features\\\"] == \\\"Chemical + Mineralogical + One-Hot\\\"][\\n    \\\"RMSE Test\\\", \\\"mean\\\"\\n].idxmin()\\n\\ndf_nn.loc[[idx_min]].round(3)\";\n",
       "                var nbb_cells = Jupyter.notebook.get_cells();\n",
       "                for (var i = 0; i < nbb_cells.length; ++i) {\n",
       "                    if (nbb_cells[i].input_prompt_number == nbb_cell_id) {\n",
       "                        if (nbb_cells[i].get_text() == nbb_unformatted_code) {\n",
       "                             nbb_cells[i].set_text(nbb_formatted_code);\n",
       "                        }\n",
       "                        break;\n",
       "                    }\n",
       "                }\n",
       "            }, 500);\n",
       "            "
      ],
      "text/plain": [
       "<IPython.core.display.Javascript object>"
      ]
     },
     "metadata": {},
     "output_type": "display_data"
    }
   ],
   "source": [
    "idx_min = df_nn[df_nn[\"Features\"] == \"Chemical + Mineralogical + One-Hot\"][\n",
    "    \"RMSE Test\", \"mean\"\n",
    "].idxmin()\n",
    "\n",
    "df_nn.loc[[idx_min]].round(3)"
   ]
  },
  {
   "cell_type": "code",
   "execution_count": 19,
   "id": "1bda09af",
   "metadata": {},
   "outputs": [
    {
     "data": {
      "text/html": [
       "<div>\n",
       "<style scoped>\n",
       "    .dataframe tbody tr th:only-of-type {\n",
       "        vertical-align: middle;\n",
       "    }\n",
       "\n",
       "    .dataframe tbody tr th {\n",
       "        vertical-align: top;\n",
       "    }\n",
       "\n",
       "    .dataframe thead tr th {\n",
       "        text-align: left;\n",
       "    }\n",
       "</style>\n",
       "<table border=\"1\" class=\"dataframe\">\n",
       "  <thead>\n",
       "    <tr>\n",
       "      <th></th>\n",
       "      <th>Model</th>\n",
       "      <th>Features</th>\n",
       "      <th>Cross Validation</th>\n",
       "      <th>Cross Validation Params</th>\n",
       "      <th colspan=\"2\" halign=\"left\">RMSE Test</th>\n",
       "      <th colspan=\"2\" halign=\"left\">MAE Test</th>\n",
       "      <th colspan=\"2\" halign=\"left\">MAPE Test</th>\n",
       "      <th colspan=\"2\" halign=\"left\">R2 Test</th>\n",
       "    </tr>\n",
       "    <tr>\n",
       "      <th></th>\n",
       "      <th></th>\n",
       "      <th></th>\n",
       "      <th></th>\n",
       "      <th></th>\n",
       "      <th>mean</th>\n",
       "      <th>std</th>\n",
       "      <th>mean</th>\n",
       "      <th>std</th>\n",
       "      <th>mean</th>\n",
       "      <th>std</th>\n",
       "      <th>mean</th>\n",
       "      <th>std</th>\n",
       "    </tr>\n",
       "  </thead>\n",
       "  <tbody>\n",
       "    <tr>\n",
       "      <th>110</th>\n",
       "      <td>BidirectionalGRU</td>\n",
       "      <td>Chemical + Mineralogical + CS2 + One-Hot</td>\n",
       "      <td>Repeated KFold</td>\n",
       "      <td>{\"N_Splits\": 5, \"Repeats\": 3}</td>\n",
       "      <td>2.143</td>\n",
       "      <td>0.12</td>\n",
       "      <td>1.658</td>\n",
       "      <td>0.102</td>\n",
       "      <td>0.034</td>\n",
       "      <td>0.002</td>\n",
       "      <td>0.894</td>\n",
       "      <td>0.012</td>\n",
       "    </tr>\n",
       "  </tbody>\n",
       "</table>\n",
       "</div>"
      ],
      "text/plain": [
       "                Model                                  Features  \\\n",
       "                                                                  \n",
       "110  BidirectionalGRU  Chemical + Mineralogical + CS2 + One-Hot   \n",
       "\n",
       "    Cross Validation        Cross Validation Params RMSE Test       MAE Test  \\\n",
       "                                                         mean   std     mean   \n",
       "110   Repeated KFold  {\"N_Splits\": 5, \"Repeats\": 3}     2.143  0.12    1.658   \n",
       "\n",
       "           MAPE Test        R2 Test         \n",
       "       std      mean    std    mean    std  \n",
       "110  0.102     0.034  0.002   0.894  0.012  "
      ]
     },
     "execution_count": 19,
     "metadata": {},
     "output_type": "execute_result"
    },
    {
     "data": {
      "application/javascript": [
       "\n",
       "            setTimeout(function() {\n",
       "                var nbb_cell_id = 19;\n",
       "                var nbb_unformatted_code = \"pattern = r\\\"One-Hot\\\"\\n\\nfeatures_filter = df_nn[\\\"Features\\\"].str.contains(\\n    pattern,\\n    regex=True,\\n)\\n\\nidx_min = df_nn[features_filter].round(3)[\\\"RMSE Test\\\", \\\"mean\\\"].idxmin()\\n\\ndf_nn.loc[[idx_min]].round(3)\";\n",
       "                var nbb_formatted_code = \"pattern = r\\\"One-Hot\\\"\\n\\nfeatures_filter = df_nn[\\\"Features\\\"].str.contains(\\n    pattern,\\n    regex=True,\\n)\\n\\nidx_min = df_nn[features_filter].round(3)[\\\"RMSE Test\\\", \\\"mean\\\"].idxmin()\\n\\ndf_nn.loc[[idx_min]].round(3)\";\n",
       "                var nbb_cells = Jupyter.notebook.get_cells();\n",
       "                for (var i = 0; i < nbb_cells.length; ++i) {\n",
       "                    if (nbb_cells[i].input_prompt_number == nbb_cell_id) {\n",
       "                        if (nbb_cells[i].get_text() == nbb_unformatted_code) {\n",
       "                             nbb_cells[i].set_text(nbb_formatted_code);\n",
       "                        }\n",
       "                        break;\n",
       "                    }\n",
       "                }\n",
       "            }, 500);\n",
       "            "
      ],
      "text/plain": [
       "<IPython.core.display.Javascript object>"
      ]
     },
     "metadata": {},
     "output_type": "display_data"
    }
   ],
   "source": [
    "pattern = r\"One-Hot\"\n",
    "\n",
    "features_filter = df_nn[\"Features\"].str.contains(\n",
    "    pattern,\n",
    "    regex=True,\n",
    ")\n",
    "\n",
    "idx_min = df_nn[features_filter].round(3)[\"RMSE Test\", \"mean\"].idxmin()\n",
    "\n",
    "df_nn.loc[[idx_min]].round(3)"
   ]
  },
  {
   "cell_type": "markdown",
   "id": "01069203",
   "metadata": {},
   "source": [
    "# Trees"
   ]
  },
  {
   "cell_type": "code",
   "execution_count": 20,
   "id": "63da06a5",
   "metadata": {},
   "outputs": [
    {
     "data": {
      "application/javascript": [
       "\n",
       "            setTimeout(function() {\n",
       "                var nbb_cell_id = 20;\n",
       "                var nbb_unformatted_code = \"trees = [\\\"Decision Tree\\\", \\\"Random Forest\\\", \\\"XGBoost\\\"]\\n\\ndf_trees = df[df[(\\\"Model\\\", \\\"\\\")].isin(trees)][cols].copy()\\ndf_trees = df_trees[df_trees[\\\"Cross Validation\\\"] != \\\"Out of time Split\\\"]\";\n",
       "                var nbb_formatted_code = \"trees = [\\\"Decision Tree\\\", \\\"Random Forest\\\", \\\"XGBoost\\\"]\\n\\ndf_trees = df[df[(\\\"Model\\\", \\\"\\\")].isin(trees)][cols].copy()\\ndf_trees = df_trees[df_trees[\\\"Cross Validation\\\"] != \\\"Out of time Split\\\"]\";\n",
       "                var nbb_cells = Jupyter.notebook.get_cells();\n",
       "                for (var i = 0; i < nbb_cells.length; ++i) {\n",
       "                    if (nbb_cells[i].input_prompt_number == nbb_cell_id) {\n",
       "                        if (nbb_cells[i].get_text() == nbb_unformatted_code) {\n",
       "                             nbb_cells[i].set_text(nbb_formatted_code);\n",
       "                        }\n",
       "                        break;\n",
       "                    }\n",
       "                }\n",
       "            }, 500);\n",
       "            "
      ],
      "text/plain": [
       "<IPython.core.display.Javascript object>"
      ]
     },
     "metadata": {},
     "output_type": "display_data"
    }
   ],
   "source": [
    "trees = [\"Decision Tree\", \"Random Forest\", \"XGBoost\"]\n",
    "\n",
    "df_trees = df[df[(\"Model\", \"\")].isin(trees)][cols].copy()\n",
    "df_trees = df_trees[df_trees[\"Cross Validation\"] != \"Out of time Split\"]"
   ]
  },
  {
   "cell_type": "code",
   "execution_count": 21,
   "id": "1078695a",
   "metadata": {},
   "outputs": [
    {
     "data": {
      "text/html": [
       "<div>\n",
       "<style scoped>\n",
       "    .dataframe tbody tr th:only-of-type {\n",
       "        vertical-align: middle;\n",
       "    }\n",
       "\n",
       "    .dataframe tbody tr th {\n",
       "        vertical-align: top;\n",
       "    }\n",
       "\n",
       "    .dataframe thead tr th {\n",
       "        text-align: left;\n",
       "    }\n",
       "</style>\n",
       "<table border=\"1\" class=\"dataframe\">\n",
       "  <thead>\n",
       "    <tr>\n",
       "      <th></th>\n",
       "      <th>Model</th>\n",
       "      <th>Features</th>\n",
       "      <th>Cross Validation</th>\n",
       "      <th>Cross Validation Params</th>\n",
       "      <th colspan=\"2\" halign=\"left\">RMSE Test</th>\n",
       "      <th colspan=\"2\" halign=\"left\">MAE Test</th>\n",
       "      <th colspan=\"2\" halign=\"left\">MAPE Test</th>\n",
       "      <th colspan=\"2\" halign=\"left\">R2 Test</th>\n",
       "    </tr>\n",
       "    <tr>\n",
       "      <th></th>\n",
       "      <th></th>\n",
       "      <th></th>\n",
       "      <th></th>\n",
       "      <th></th>\n",
       "      <th>mean</th>\n",
       "      <th>std</th>\n",
       "      <th>mean</th>\n",
       "      <th>std</th>\n",
       "      <th>mean</th>\n",
       "      <th>std</th>\n",
       "      <th>mean</th>\n",
       "      <th>std</th>\n",
       "    </tr>\n",
       "  </thead>\n",
       "  <tbody>\n",
       "    <tr>\n",
       "      <th>272</th>\n",
       "      <td>XGBoost</td>\n",
       "      <td>Chemical + Mineralogical</td>\n",
       "      <td>Repeated KFold</td>\n",
       "      <td>{\"N_Splits\": 5, \"Repeats\": 3}</td>\n",
       "      <td>3.164</td>\n",
       "      <td>0.145</td>\n",
       "      <td>2.509</td>\n",
       "      <td>0.119</td>\n",
       "      <td>0.053</td>\n",
       "      <td>0.003</td>\n",
       "      <td>0.77</td>\n",
       "      <td>0.019</td>\n",
       "    </tr>\n",
       "  </tbody>\n",
       "</table>\n",
       "</div>"
      ],
      "text/plain": [
       "       Model                  Features Cross Validation  \\\n",
       "                                                          \n",
       "272  XGBoost  Chemical + Mineralogical   Repeated KFold   \n",
       "\n",
       "           Cross Validation Params RMSE Test        MAE Test        MAPE Test  \\\n",
       "                                        mean    std     mean    std      mean   \n",
       "272  {\"N_Splits\": 5, \"Repeats\": 3}     3.164  0.145    2.509  0.119     0.053   \n",
       "\n",
       "           R2 Test         \n",
       "       std    mean    std  \n",
       "272  0.003    0.77  0.019  "
      ]
     },
     "execution_count": 21,
     "metadata": {},
     "output_type": "execute_result"
    },
    {
     "data": {
      "application/javascript": [
       "\n",
       "            setTimeout(function() {\n",
       "                var nbb_cell_id = 21;\n",
       "                var nbb_unformatted_code = \"idx_min = df_trees[df_trees[\\\"Features\\\"] == \\\"Chemical + Mineralogical\\\"][\\n    \\\"RMSE Test\\\", \\\"mean\\\"\\n].idxmin()\\n\\ndf_trees.loc[[idx_min]].round(3)\";\n",
       "                var nbb_formatted_code = \"idx_min = df_trees[df_trees[\\\"Features\\\"] == \\\"Chemical + Mineralogical\\\"][\\n    \\\"RMSE Test\\\", \\\"mean\\\"\\n].idxmin()\\n\\ndf_trees.loc[[idx_min]].round(3)\";\n",
       "                var nbb_cells = Jupyter.notebook.get_cells();\n",
       "                for (var i = 0; i < nbb_cells.length; ++i) {\n",
       "                    if (nbb_cells[i].input_prompt_number == nbb_cell_id) {\n",
       "                        if (nbb_cells[i].get_text() == nbb_unformatted_code) {\n",
       "                             nbb_cells[i].set_text(nbb_formatted_code);\n",
       "                        }\n",
       "                        break;\n",
       "                    }\n",
       "                }\n",
       "            }, 500);\n",
       "            "
      ],
      "text/plain": [
       "<IPython.core.display.Javascript object>"
      ]
     },
     "metadata": {},
     "output_type": "display_data"
    }
   ],
   "source": [
    "idx_min = df_trees[df_trees[\"Features\"] == \"Chemical + Mineralogical\"][\n",
    "    \"RMSE Test\", \"mean\"\n",
    "].idxmin()\n",
    "\n",
    "df_trees.loc[[idx_min]].round(3)"
   ]
  },
  {
   "cell_type": "code",
   "execution_count": 22,
   "id": "6ba939c6",
   "metadata": {},
   "outputs": [
    {
     "name": "stderr",
     "output_type": "stream",
     "text": [
      "/tmp/ipykernel_2122092/2477923481.py:7: UserWarning: This pattern is interpreted as a regular expression, and has match groups. To actually get the groups, use str.extract.\n",
      "  features_filter = df_trees[\"Features\"].str.contains(\n"
     ]
    },
    {
     "data": {
      "text/html": [
       "<div>\n",
       "<style scoped>\n",
       "    .dataframe tbody tr th:only-of-type {\n",
       "        vertical-align: middle;\n",
       "    }\n",
       "\n",
       "    .dataframe tbody tr th {\n",
       "        vertical-align: top;\n",
       "    }\n",
       "\n",
       "    .dataframe thead tr th {\n",
       "        text-align: left;\n",
       "    }\n",
       "</style>\n",
       "<table border=\"1\" class=\"dataframe\">\n",
       "  <thead>\n",
       "    <tr>\n",
       "      <th></th>\n",
       "      <th>Model</th>\n",
       "      <th>Features</th>\n",
       "      <th>Cross Validation</th>\n",
       "      <th>Cross Validation Params</th>\n",
       "      <th colspan=\"2\" halign=\"left\">RMSE Test</th>\n",
       "      <th colspan=\"2\" halign=\"left\">MAE Test</th>\n",
       "      <th colspan=\"2\" halign=\"left\">MAPE Test</th>\n",
       "      <th colspan=\"2\" halign=\"left\">R2 Test</th>\n",
       "    </tr>\n",
       "    <tr>\n",
       "      <th></th>\n",
       "      <th></th>\n",
       "      <th></th>\n",
       "      <th></th>\n",
       "      <th></th>\n",
       "      <th>mean</th>\n",
       "      <th>std</th>\n",
       "      <th>mean</th>\n",
       "      <th>std</th>\n",
       "      <th>mean</th>\n",
       "      <th>std</th>\n",
       "      <th>mean</th>\n",
       "      <th>std</th>\n",
       "    </tr>\n",
       "  </thead>\n",
       "  <tbody>\n",
       "    <tr>\n",
       "      <th>295</th>\n",
       "      <td>XGBoost</td>\n",
       "      <td>Chemical + Mineralogical + Physical</td>\n",
       "      <td>Repeated KFold</td>\n",
       "      <td>{\"N_Splits\": 5, \"Repeats\": 3}</td>\n",
       "      <td>2.686</td>\n",
       "      <td>0.133</td>\n",
       "      <td>2.129</td>\n",
       "      <td>0.081</td>\n",
       "      <td>0.044</td>\n",
       "      <td>0.002</td>\n",
       "      <td>0.834</td>\n",
       "      <td>0.016</td>\n",
       "    </tr>\n",
       "  </tbody>\n",
       "</table>\n",
       "</div>"
      ],
      "text/plain": [
       "       Model                             Features Cross Validation  \\\n",
       "                                                                     \n",
       "295  XGBoost  Chemical + Mineralogical + Physical   Repeated KFold   \n",
       "\n",
       "           Cross Validation Params RMSE Test        MAE Test        MAPE Test  \\\n",
       "                                        mean    std     mean    std      mean   \n",
       "295  {\"N_Splits\": 5, \"Repeats\": 3}     2.686  0.133    2.129  0.081     0.044   \n",
       "\n",
       "           R2 Test         \n",
       "       std    mean    std  \n",
       "295  0.002   0.834  0.016  "
      ]
     },
     "execution_count": 22,
     "metadata": {},
     "output_type": "execute_result"
    },
    {
     "data": {
      "application/javascript": [
       "\n",
       "            setTimeout(function() {\n",
       "                var nbb_cell_id = 22;\n",
       "                var nbb_unformatted_code = \"exclude = r\\\"(?!.*One-Hot)\\\"\\npattern1 = r\\\"Chemical \\\\+ Mineralogical \\\\+ CS*\\\"\\npattern2 = r\\\"Chemical \\\\+ Mineralogical \\\\+ Physical\\\"\\npattern = \\\"(\\\" + pattern1 + \\\"|\\\" + pattern2 + \\\")\\\" + exclude\\n\\n# x = df_nn[\\\"Features\\\"] != \\\"Chemical + Mineralogical + Physical\\\"\\nfeatures_filter = df_trees[\\\"Features\\\"].str.contains(\\n    pattern,\\n    regex=True,\\n)\\n\\nidx_min = df_trees[features_filter].round(3)[\\\"RMSE Test\\\", \\\"mean\\\"].idxmin()\\n\\ndf_trees.loc[[idx_min]].round(3)\";\n",
       "                var nbb_formatted_code = \"exclude = r\\\"(?!.*One-Hot)\\\"\\npattern1 = r\\\"Chemical \\\\+ Mineralogical \\\\+ CS*\\\"\\npattern2 = r\\\"Chemical \\\\+ Mineralogical \\\\+ Physical\\\"\\npattern = \\\"(\\\" + pattern1 + \\\"|\\\" + pattern2 + \\\")\\\" + exclude\\n\\n# x = df_nn[\\\"Features\\\"] != \\\"Chemical + Mineralogical + Physical\\\"\\nfeatures_filter = df_trees[\\\"Features\\\"].str.contains(\\n    pattern,\\n    regex=True,\\n)\\n\\nidx_min = df_trees[features_filter].round(3)[\\\"RMSE Test\\\", \\\"mean\\\"].idxmin()\\n\\ndf_trees.loc[[idx_min]].round(3)\";\n",
       "                var nbb_cells = Jupyter.notebook.get_cells();\n",
       "                for (var i = 0; i < nbb_cells.length; ++i) {\n",
       "                    if (nbb_cells[i].input_prompt_number == nbb_cell_id) {\n",
       "                        if (nbb_cells[i].get_text() == nbb_unformatted_code) {\n",
       "                             nbb_cells[i].set_text(nbb_formatted_code);\n",
       "                        }\n",
       "                        break;\n",
       "                    }\n",
       "                }\n",
       "            }, 500);\n",
       "            "
      ],
      "text/plain": [
       "<IPython.core.display.Javascript object>"
      ]
     },
     "metadata": {},
     "output_type": "display_data"
    }
   ],
   "source": [
    "exclude = r\"(?!.*One-Hot)\"\n",
    "pattern1 = r\"Chemical \\+ Mineralogical \\+ CS*\"\n",
    "pattern2 = r\"Chemical \\+ Mineralogical \\+ Physical\"\n",
    "pattern = \"(\" + pattern1 + \"|\" + pattern2 + \")\" + exclude\n",
    "\n",
    "# x = df_nn[\"Features\"] != \"Chemical + Mineralogical + Physical\"\n",
    "features_filter = df_trees[\"Features\"].str.contains(\n",
    "    pattern,\n",
    "    regex=True,\n",
    ")\n",
    "\n",
    "idx_min = df_trees[features_filter].round(3)[\"RMSE Test\", \"mean\"].idxmin()\n",
    "\n",
    "df_trees.loc[[idx_min]].round(3)"
   ]
  },
  {
   "cell_type": "code",
   "execution_count": 23,
   "id": "8606512d",
   "metadata": {},
   "outputs": [
    {
     "data": {
      "text/html": [
       "<div>\n",
       "<style scoped>\n",
       "    .dataframe tbody tr th:only-of-type {\n",
       "        vertical-align: middle;\n",
       "    }\n",
       "\n",
       "    .dataframe tbody tr th {\n",
       "        vertical-align: top;\n",
       "    }\n",
       "\n",
       "    .dataframe thead tr th {\n",
       "        text-align: left;\n",
       "    }\n",
       "</style>\n",
       "<table border=\"1\" class=\"dataframe\">\n",
       "  <thead>\n",
       "    <tr>\n",
       "      <th></th>\n",
       "      <th>Model</th>\n",
       "      <th>Features</th>\n",
       "      <th>Cross Validation</th>\n",
       "      <th>Cross Validation Params</th>\n",
       "      <th colspan=\"2\" halign=\"left\">RMSE Test</th>\n",
       "      <th colspan=\"2\" halign=\"left\">MAE Test</th>\n",
       "      <th colspan=\"2\" halign=\"left\">MAPE Test</th>\n",
       "      <th colspan=\"2\" halign=\"left\">R2 Test</th>\n",
       "    </tr>\n",
       "    <tr>\n",
       "      <th></th>\n",
       "      <th></th>\n",
       "      <th></th>\n",
       "      <th></th>\n",
       "      <th></th>\n",
       "      <th>mean</th>\n",
       "      <th>std</th>\n",
       "      <th>mean</th>\n",
       "      <th>std</th>\n",
       "      <th>mean</th>\n",
       "      <th>std</th>\n",
       "      <th>mean</th>\n",
       "      <th>std</th>\n",
       "    </tr>\n",
       "  </thead>\n",
       "  <tbody>\n",
       "    <tr>\n",
       "      <th>244</th>\n",
       "      <td>Random Forest</td>\n",
       "      <td>Chemical + Mineralogical + One-Hot</td>\n",
       "      <td>Repeated KFold</td>\n",
       "      <td>{\"N_Splits\": 5, \"Repeats\": 3}</td>\n",
       "      <td>2.626</td>\n",
       "      <td>0.111</td>\n",
       "      <td>2.131</td>\n",
       "      <td>0.088</td>\n",
       "      <td>0.044</td>\n",
       "      <td>0.002</td>\n",
       "      <td>0.841</td>\n",
       "      <td>0.015</td>\n",
       "    </tr>\n",
       "  </tbody>\n",
       "</table>\n",
       "</div>"
      ],
      "text/plain": [
       "             Model                            Features Cross Validation  \\\n",
       "                                                                          \n",
       "244  Random Forest  Chemical + Mineralogical + One-Hot   Repeated KFold   \n",
       "\n",
       "           Cross Validation Params RMSE Test        MAE Test        MAPE Test  \\\n",
       "                                        mean    std     mean    std      mean   \n",
       "244  {\"N_Splits\": 5, \"Repeats\": 3}     2.626  0.111    2.131  0.088     0.044   \n",
       "\n",
       "           R2 Test         \n",
       "       std    mean    std  \n",
       "244  0.002   0.841  0.015  "
      ]
     },
     "execution_count": 23,
     "metadata": {},
     "output_type": "execute_result"
    },
    {
     "data": {
      "application/javascript": [
       "\n",
       "            setTimeout(function() {\n",
       "                var nbb_cell_id = 23;\n",
       "                var nbb_unformatted_code = \"idx_min = df_trees[df_trees[\\\"Features\\\"] == \\\"Chemical + Mineralogical + One-Hot\\\"][\\n    \\\"RMSE Test\\\", \\\"mean\\\"\\n].idxmin()\\n\\ndf_trees.loc[[idx_min]].round(3)\";\n",
       "                var nbb_formatted_code = \"idx_min = df_trees[df_trees[\\\"Features\\\"] == \\\"Chemical + Mineralogical + One-Hot\\\"][\\n    \\\"RMSE Test\\\", \\\"mean\\\"\\n].idxmin()\\n\\ndf_trees.loc[[idx_min]].round(3)\";\n",
       "                var nbb_cells = Jupyter.notebook.get_cells();\n",
       "                for (var i = 0; i < nbb_cells.length; ++i) {\n",
       "                    if (nbb_cells[i].input_prompt_number == nbb_cell_id) {\n",
       "                        if (nbb_cells[i].get_text() == nbb_unformatted_code) {\n",
       "                             nbb_cells[i].set_text(nbb_formatted_code);\n",
       "                        }\n",
       "                        break;\n",
       "                    }\n",
       "                }\n",
       "            }, 500);\n",
       "            "
      ],
      "text/plain": [
       "<IPython.core.display.Javascript object>"
      ]
     },
     "metadata": {},
     "output_type": "display_data"
    }
   ],
   "source": [
    "idx_min = df_trees[df_trees[\"Features\"] == \"Chemical + Mineralogical + One-Hot\"][\n",
    "    \"RMSE Test\", \"mean\"\n",
    "].idxmin()\n",
    "\n",
    "df_trees.loc[[idx_min]].round(3)"
   ]
  },
  {
   "cell_type": "code",
   "execution_count": 24,
   "id": "00c8e827",
   "metadata": {},
   "outputs": [
    {
     "data": {
      "text/html": [
       "<div>\n",
       "<style scoped>\n",
       "    .dataframe tbody tr th:only-of-type {\n",
       "        vertical-align: middle;\n",
       "    }\n",
       "\n",
       "    .dataframe tbody tr th {\n",
       "        vertical-align: top;\n",
       "    }\n",
       "\n",
       "    .dataframe thead tr th {\n",
       "        text-align: left;\n",
       "    }\n",
       "</style>\n",
       "<table border=\"1\" class=\"dataframe\">\n",
       "  <thead>\n",
       "    <tr>\n",
       "      <th></th>\n",
       "      <th>Model</th>\n",
       "      <th>Features</th>\n",
       "      <th>Cross Validation</th>\n",
       "      <th>Cross Validation Params</th>\n",
       "      <th colspan=\"2\" halign=\"left\">RMSE Test</th>\n",
       "      <th colspan=\"2\" halign=\"left\">MAE Test</th>\n",
       "      <th colspan=\"2\" halign=\"left\">MAPE Test</th>\n",
       "      <th colspan=\"2\" halign=\"left\">R2 Test</th>\n",
       "    </tr>\n",
       "    <tr>\n",
       "      <th></th>\n",
       "      <th></th>\n",
       "      <th></th>\n",
       "      <th></th>\n",
       "      <th></th>\n",
       "      <th>mean</th>\n",
       "      <th>std</th>\n",
       "      <th>mean</th>\n",
       "      <th>std</th>\n",
       "      <th>mean</th>\n",
       "      <th>std</th>\n",
       "      <th>mean</th>\n",
       "      <th>std</th>\n",
       "    </tr>\n",
       "  </thead>\n",
       "  <tbody>\n",
       "    <tr>\n",
       "      <th>256</th>\n",
       "      <td>Random Forest</td>\n",
       "      <td>Chemical + Mineralogical + CS2 + One-Hot</td>\n",
       "      <td>Repeated KFold</td>\n",
       "      <td>{\"N_Splits\": 5, \"Repeats\": 3}</td>\n",
       "      <td>2.457</td>\n",
       "      <td>0.113</td>\n",
       "      <td>1.941</td>\n",
       "      <td>0.082</td>\n",
       "      <td>0.04</td>\n",
       "      <td>0.002</td>\n",
       "      <td>0.861</td>\n",
       "      <td>0.016</td>\n",
       "    </tr>\n",
       "  </tbody>\n",
       "</table>\n",
       "</div>"
      ],
      "text/plain": [
       "             Model                                  Features Cross Validation  \\\n",
       "                                                                                \n",
       "256  Random Forest  Chemical + Mineralogical + CS2 + One-Hot   Repeated KFold   \n",
       "\n",
       "           Cross Validation Params RMSE Test        MAE Test        MAPE Test  \\\n",
       "                                        mean    std     mean    std      mean   \n",
       "256  {\"N_Splits\": 5, \"Repeats\": 3}     2.457  0.113    1.941  0.082      0.04   \n",
       "\n",
       "           R2 Test         \n",
       "       std    mean    std  \n",
       "256  0.002   0.861  0.016  "
      ]
     },
     "execution_count": 24,
     "metadata": {},
     "output_type": "execute_result"
    },
    {
     "data": {
      "application/javascript": [
       "\n",
       "            setTimeout(function() {\n",
       "                var nbb_cell_id = 24;\n",
       "                var nbb_unformatted_code = \"pattern = r\\\"One-Hot\\\"\\n\\nfeatures_filter = df_trees[\\\"Features\\\"].str.contains(\\n    pattern,\\n    regex=True,\\n)\\n\\nidx_min = df_trees[features_filter].round(3)[\\\"RMSE Test\\\", \\\"mean\\\"].idxmin()\\n\\ndf_trees.loc[[idx_min]].round(3)\";\n",
       "                var nbb_formatted_code = \"pattern = r\\\"One-Hot\\\"\\n\\nfeatures_filter = df_trees[\\\"Features\\\"].str.contains(\\n    pattern,\\n    regex=True,\\n)\\n\\nidx_min = df_trees[features_filter].round(3)[\\\"RMSE Test\\\", \\\"mean\\\"].idxmin()\\n\\ndf_trees.loc[[idx_min]].round(3)\";\n",
       "                var nbb_cells = Jupyter.notebook.get_cells();\n",
       "                for (var i = 0; i < nbb_cells.length; ++i) {\n",
       "                    if (nbb_cells[i].input_prompt_number == nbb_cell_id) {\n",
       "                        if (nbb_cells[i].get_text() == nbb_unformatted_code) {\n",
       "                             nbb_cells[i].set_text(nbb_formatted_code);\n",
       "                        }\n",
       "                        break;\n",
       "                    }\n",
       "                }\n",
       "            }, 500);\n",
       "            "
      ],
      "text/plain": [
       "<IPython.core.display.Javascript object>"
      ]
     },
     "metadata": {},
     "output_type": "display_data"
    }
   ],
   "source": [
    "pattern = r\"One-Hot\"\n",
    "\n",
    "features_filter = df_trees[\"Features\"].str.contains(\n",
    "    pattern,\n",
    "    regex=True,\n",
    ")\n",
    "\n",
    "idx_min = df_trees[features_filter].round(3)[\"RMSE Test\", \"mean\"].idxmin()\n",
    "\n",
    "df_trees.loc[[idx_min]].round(3)"
   ]
  },
  {
   "cell_type": "code",
   "execution_count": null,
   "id": "324e6f25",
   "metadata": {},
   "outputs": [],
   "source": []
  }
 ],
 "metadata": {
  "kernelspec": {
   "display_name": "ccs28-venv",
   "language": "python",
   "name": "ccs28-venv"
  },
  "language_info": {
   "codemirror_mode": {
    "name": "ipython",
    "version": 3
   },
   "file_extension": ".py",
   "mimetype": "text/x-python",
   "name": "python",
   "nbconvert_exporter": "python",
   "pygments_lexer": "ipython3",
   "version": "3.10.12"
  }
 },
 "nbformat": 4,
 "nbformat_minor": 5
}
